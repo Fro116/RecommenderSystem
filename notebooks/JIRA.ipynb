{
 "cells": [
  {
   "cell_type": "markdown",
   "id": "ed332009-f9d1-481a-bfff-149859176c16",
   "metadata": {},
   "source": [
    "# Tickets\n",
    "* A list of improvements and bugfixes\n",
    "* Each ticket is tagged as high/medium/low (H/M/L) priority and easy/medium/hard (E/M/H) workload\n",
    "* Items that are in progress are tagged with $\\odot$"
   ]
  },
  {
   "cell_type": "markdown",
   "id": "20ca833a-9a82-475d-b9f2-21b9f61cd62f",
   "metadata": {
    "jp-MarkdownHeadingCollapsed": true,
    "tags": []
   },
   "source": [
    "## Sampling\n",
    "* H E Switch to from fixed number sampling to proportional sampling\n",
    "* H M Sample a second test set of items that were not watched\n",
    "* M E Construct validation split by doing two train/test splits"
   ]
  },
  {
   "cell_type": "markdown",
   "id": "e8a63237-13a3-4bbb-8e0e-11ac704c1ca1",
   "metadata": {
    "tags": []
   },
   "source": [
    "## SimpleUserItemBiases\n",
    "* Support implicit"
   ]
  },
  {
   "cell_type": "markdown",
   "id": "bd95398b-f40a-4536-84e7-01ed405d42dd",
   "metadata": {
    "jp-MarkdownHeadingCollapsed": true,
    "tags": []
   },
   "source": [
    "## UserItemBiases\n",
    "* Support implicit"
   ]
  },
  {
   "cell_type": "markdown",
   "id": "78d0b7da-02d6-47de-8a4b-3a67d7763eae",
   "metadata": {
    "jp-MarkdownHeadingCollapsed": true,
    "tags": []
   },
   "source": [
    "## MatrixFactorization\n",
    "* H M $\\odot$ Apply weighting scheme\n",
    "* M M Support Implicit"
   ]
  },
  {
   "cell_type": "markdown",
   "id": "642fa1b3-06a7-4eec-b220-fb920b92c2f4",
   "metadata": {
    "tags": []
   },
   "source": [
    "## ItemCF\n",
    "* H M Apply weighting scheme\n",
    "* M H Switch make_predictions to a per-user matrix based approach\n",
    "* M H Support Implicit\n",
    "* M H Train the similarity kernel using Flux"
   ]
  },
  {
   "cell_type": "markdown",
   "id": "c2e1f66e-5c95-4555-b5e2-9f72a6e2df31",
   "metadata": {
    "jp-MarkdownHeadingCollapsed": true,
    "tags": []
   },
   "source": [
    "## NN\n",
    "* H H Framework for conducting hyperparameter searches\n",
    "* L E Try num layers\n",
    "* L E Try layer size\n",
    "* L E Try SGD/ADAM\n",
    "* L E Try learning rate\n",
    "* L E Try dropout rate\n",
    "* L E Try without autoencoding\n",
    "* L H Try Variational Autoencoder"
   ]
  },
  {
   "cell_type": "markdown",
   "id": "ff174b60-84bf-4315-83a0-c5f4306801a3",
   "metadata": {},
   "source": [
    "# EASE\n",
    "* M H Implement for explicit\n",
    "* M H Implement for implicit\n",
    "* L H Try the triplet generalization"
   ]
  },
  {
   "cell_type": "markdown",
   "id": "f42a53ff-08e5-4489-9cc3-7a0f9f694cd2",
   "metadata": {
    "jp-MarkdownHeadingCollapsed": true,
    "tags": []
   },
   "source": [
    "## Linear\n",
    "* H E Support weighting for explicit\n",
    "* H M Support weighting for implicit"
   ]
  },
  {
   "cell_type": "markdown",
   "id": "6705370b-30e9-4290-b539-76714f09a571",
   "metadata": {
    "jp-MarkdownHeadingCollapsed": true,
    "tags": []
   },
   "source": [
    "## Tree\n",
    "* M M Switch from XGBoost to lightgbm\n",
    "* H M Use a weighted loss for explicit\n",
    "* L H Use a tree model for implicit"
   ]
  },
  {
   "cell_type": "markdown",
   "id": "bd00bfb6-66fa-4018-b650-1da842b38f69",
   "metadata": {
    "tags": []
   },
   "source": [
    "## Bayesian Personalized Ranking\n",
    "* H H Implement"
   ]
  }
 ],
 "metadata": {
  "kernelspec": {
   "display_name": "Julia 1.7.2",
   "language": "julia",
   "name": "julia-1.7"
  },
  "language_info": {
   "file_extension": ".jl",
   "mimetype": "application/julia",
   "name": "julia",
   "version": "1.7.2"
  }
 },
 "nbformat": 4,
 "nbformat_minor": 5
}
