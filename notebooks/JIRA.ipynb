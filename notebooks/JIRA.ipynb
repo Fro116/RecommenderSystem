{
 "cells": [
  {
   "cell_type": "markdown",
   "id": "ed332009-f9d1-481a-bfff-149859176c16",
   "metadata": {},
   "source": [
    "# Tickets\n",
    "* A list of improvements and bugfixes\n",
    "* Each ticket is tagged as high/medium/low (+/=/-) priority and high/medium/low (H/M/L) workload"
   ]
  },
  {
   "cell_type": "markdown",
   "id": "20ca833a-9a82-475d-b9f2-21b9f61cd62f",
   "metadata": {},
   "source": [
    "## Sampling\n",
    "* Switch to from fixed number sampling to proportional sampling\n",
    "* Sample a second test set of items that were not watched\n",
    "* Construct validation split by doing two train/test splits"
   ]
  },
  {
   "cell_type": "markdown",
   "id": "f42a53ff-08e5-4489-9cc3-7a0f9f694cd2",
   "metadata": {
    "jp-MarkdownHeadingCollapsed": true,
    "tags": []
   },
   "source": [
    "## Linear\n",
    "* Support weighting for explicit\n",
    "* Support weighting for implicit"
   ]
  },
  {
   "cell_type": "markdown",
   "id": "6705370b-30e9-4290-b539-76714f09a571",
   "metadata": {
    "jp-MarkdownHeadingCollapsed": true,
    "tags": []
   },
   "source": [
    "## Tree\n",
    "* Switch from XGBoost to lightgbm\n",
    "* Use a weighted loss for explicit\n",
    "* Use a tree model for implicit"
   ]
  },
  {
   "cell_type": "markdown",
   "id": "bd00bfb6-66fa-4018-b650-1da842b38f69",
   "metadata": {
    "jp-MarkdownHeadingCollapsed": true,
    "tags": []
   },
   "source": [
    "## BPR\n",
    "* Implement"
   ]
  },
  {
   "cell_type": "markdown",
   "id": "9f083c99-e6cb-459c-864b-8a96c1da9e1e",
   "metadata": {
    "tags": []
   },
   "source": [
    "## NN\n",
    "* Framework for conducting hyperparameter searches\n",
    "* Try num layers\n",
    "* Try layer size\n",
    "* Try SGD/ADAM\n",
    "* Try learning rate\n",
    "* Try dropout rate\n",
    "* Try without autoencoding\n",
    "* Try Variational Autoencoder"
   ]
  },
  {
   "cell_type": "markdown",
   "id": "ff174b60-84bf-4315-83a0-c5f4306801a3",
   "metadata": {},
   "source": [
    "# EASE\n",
    "* Implement for explicit\n",
    "* Implement for implicit\n",
    "* Try the triplet generalization"
   ]
  },
  {
   "cell_type": "markdown",
   "id": "2d8ad5ea-1271-4ac6-9c68-b675996965da",
   "metadata": {
    "jp-MarkdownHeadingCollapsed": true,
    "tags": []
   },
   "source": [
    "## CF\n",
    "* Apply weighting scheme\n",
    "* Support Implicit\n",
    "* Train the similarity kernel using Flux"
   ]
  },
  {
   "cell_type": "markdown",
   "id": "43b9de4c-db5b-431d-ae55-5c6f0588eed5",
   "metadata": {
    "jp-MarkdownHeadingCollapsed": true,
    "tags": []
   },
   "source": [
    "## MF\n",
    "* Apply weighting scheme\n",
    "* Support Implicit"
   ]
  },
  {
   "cell_type": "markdown",
   "id": "fc4bcbbb-9b0e-4ecb-add0-56752e9b9fdc",
   "metadata": {
    "tags": []
   },
   "source": [
    "## SUIB\n",
    "* Support implicit"
   ]
  },
  {
   "cell_type": "markdown",
   "id": "3accf260-67c3-4708-824e-060610d340af",
   "metadata": {
    "tags": []
   },
   "source": [
    "## UIB\n",
    "* Support implicit"
   ]
  },
  {
   "cell_type": "code",
   "execution_count": null,
   "id": "e6c624fb-1e20-4547-874f-2320666577c0",
   "metadata": {},
   "outputs": [],
   "source": []
  }
 ],
 "metadata": {
  "kernelspec": {
   "display_name": "Julia 1.7.2",
   "language": "julia",
   "name": "julia-1.7"
  },
  "language_info": {
   "file_extension": ".jl",
   "mimetype": "application/julia",
   "name": "julia",
   "version": "1.7.2"
  }
 },
 "nbformat": 4,
 "nbformat_minor": 5
}
