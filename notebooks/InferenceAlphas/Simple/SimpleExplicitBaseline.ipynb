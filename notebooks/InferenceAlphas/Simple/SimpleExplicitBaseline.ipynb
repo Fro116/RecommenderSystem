{
 "cells": [
  {
   "cell_type": "markdown",
   "id": "2d95e48e",
   "metadata": {
    "tags": [
     "papermill-error-cell-tag"
    ]
   },
   "source": [
    "<span style=\"color:red; font-family:Helvetica Neue, Helvetica, Arial, sans-serif; font-size:2em;\">An Exception was encountered at '<a href=\"#papermill-error-cell\">In [5]</a>'.</span>"
   ]
  },
  {
   "cell_type": "code",
   "execution_count": 1,
   "id": "999e9212",
   "metadata": {
    "execution": {
     "iopub.execute_input": "2022-08-28T12:37:21.408000Z",
     "iopub.status.busy": "2022-08-28T12:37:21.104000Z",
     "iopub.status.idle": "2022-08-28T12:37:21.895000Z",
     "shell.execute_reply": "2022-08-28T12:37:21.885000Z"
    },
    "papermill": {
     "duration": 0.797453,
     "end_time": "2022-08-28T16:37:21.895990",
     "exception": false,
     "start_time": "2022-08-28T16:37:21.098537",
     "status": "completed"
    },
    "tags": [
     "injected-parameters"
    ]
   },
   "outputs": [
    {
     "data": {
      "text/plain": [
       "\"\""
      ]
     },
     "execution_count": 1,
     "metadata": {},
     "output_type": "execute_result"
    }
   ],
   "source": [
    "# Parameters\n",
    "username = \"\"\n"
   ]
  },
  {
   "cell_type": "markdown",
   "id": "60c12adb-ffea-4611-a458-d8f6212b6c3f",
   "metadata": {
    "papermill": {
     "duration": 0.007398,
     "end_time": "2022-08-28T16:37:21.904550",
     "exception": false,
     "start_time": "2022-08-28T16:37:21.897152",
     "status": "completed"
    },
    "tags": []
   },
   "source": [
    "# SimpleExplicitBaseline\n",
    "* See the corresponding file in `../../TrainingAlphas` for more details"
   ]
  },
  {
   "cell_type": "code",
   "execution_count": 2,
   "id": "fee28580-f21f-4ea9-b2f0-100520505b40",
   "metadata": {
    "execution": {
     "iopub.execute_input": "2022-08-28T12:37:21.905000Z",
     "iopub.status.busy": "2022-08-28T12:37:21.905000Z",
     "iopub.status.idle": "2022-08-28T12:37:21.913000Z",
     "shell.execute_reply": "2022-08-28T12:37:21.913000Z"
    },
    "papermill": {
     "duration": 0.008879,
     "end_time": "2022-08-28T16:37:21.913970",
     "exception": false,
     "start_time": "2022-08-28T16:37:21.905091",
     "status": "completed"
    },
    "tags": []
   },
   "outputs": [],
   "source": [
    "const source_name = \"SimpleExplicitBaseline\";"
   ]
  },
  {
   "cell_type": "code",
   "execution_count": 3,
   "id": "1ce84ba8-f8b2-4b7b-baac-3b4b5339ebca",
   "metadata": {
    "execution": {
     "iopub.execute_input": "2022-08-28T12:37:21.915000Z",
     "iopub.status.busy": "2022-08-28T12:37:21.915000Z",
     "iopub.status.idle": "2022-08-28T12:37:28.354000Z",
     "shell.execute_reply": "2022-08-28T12:37:28.353000Z"
    },
    "papermill": {
     "duration": 6.44041,
     "end_time": "2022-08-28T16:37:28.354914",
     "exception": false,
     "start_time": "2022-08-28T16:37:21.914504",
     "status": "completed"
    },
    "tags": []
   },
   "outputs": [],
   "source": [
    "import NBInclude: @nbinclude\n",
    "import Statistics: mean\n",
    "@nbinclude(\"../Alpha.ipynb\");"
   ]
  },
  {
   "cell_type": "code",
   "execution_count": 4,
   "id": "87e04e65-3489-4c74-ba3c-6ff48e87e856",
   "metadata": {
    "execution": {
     "iopub.execute_input": "2022-08-28T12:37:28.452000Z",
     "iopub.status.busy": "2022-08-28T12:37:28.363000Z",
     "iopub.status.idle": "2022-08-28T12:37:35.082000Z",
     "shell.execute_reply": "2022-08-28T12:37:35.082000Z"
    },
    "papermill": {
     "duration": 6.727658,
     "end_time": "2022-08-28T16:37:35.083736",
     "exception": false,
     "start_time": "2022-08-28T16:37:28.356078",
     "status": "completed"
    },
    "tags": []
   },
   "outputs": [],
   "source": [
    "function compute_alpha()\n",
    "    params = read_params(source_name)\n",
    "    u::Float32 = mean(get_recommendee_split(\"explicit\").rating)\n",
    "    preds = fill(u, num_items())\n",
    "    for x = 1:num_items()\n",
    "        if x in keys(params[\"a\"])\n",
    "            preds[x] += params[\"a\"][x]\n",
    "        end\n",
    "    end\n",
    "    write_recommendee_alpha(preds, source_name)\n",
    "end;"
   ]
  },
  {
   "cell_type": "markdown",
   "id": "df1afbb7",
   "metadata": {
    "tags": [
     "papermill-error-cell-tag"
    ]
   },
   "source": [
    "<span id=\"papermill-error-cell\" style=\"color:red; font-family:Helvetica Neue, Helvetica, Arial, sans-serif; font-size:2em;\">Execution using papermill encountered an exception here and stopped:</span>"
   ]
  },
  {
   "cell_type": "code",
   "execution_count": 5,
   "id": "7463bfe1-fd6f-4fc3-9531-c528abd40d12",
   "metadata": {
    "execution": {
     "iopub.execute_input": "2022-08-28T12:37:35.092000Z",
     "iopub.status.busy": "2022-08-28T12:37:35.092000Z",
     "iopub.status.idle": "2022-08-28T12:37:38.778000Z",
     "shell.execute_reply": "2022-08-28T12:37:38.778000Z"
    },
    "papermill": {
     "duration": 3.69445,
     "end_time": "2022-08-28T16:37:38.779367",
     "exception": true,
     "start_time": "2022-08-28T16:37:35.084917",
     "status": "failed"
    },
    "tags": []
   },
   "outputs": [
    {
     "ename": "LoadError",
     "evalue": "ArgumentError: No file exists at given path: /home/kundan/Desktop/RecommenderSystem/data/recommendations//explicit.jld2",
     "output_type": "error",
     "traceback": [
      "ArgumentError: No file exists at given path: /home/kundan/Desktop/RecommenderSystem/data/recommendations//explicit.jld2",
      "",
      "Stacktrace:",
      "  [1] checkpath_load",
      "    @ ~/.julia/packages/FileIO/Nl9Lh/src/loadsave.jl:167 [inlined]",
      "  [2] load(file::String, args::String; options::Base.Pairs{Symbol, Union{}, Tuple{}, NamedTuple{(), Tuple{}}})",
      "    @ FileIO ~/.julia/packages/FileIO/Nl9Lh/src/loadsave.jl:110",
      "  [3] load",
      "    @ ~/.julia/packages/FileIO/Nl9Lh/src/loadsave.jl:109 [inlined]",
      "  [4] get_raw_recommendee_split(content::String; fields::Nothing)",
      "    @ Main ~/Desktop/RecommenderSystem/notebooks/InferenceAlphas/Alpha.ipynb:In[+6]:23",
      "  [5] raw_split",
      "    @ ~/Desktop/RecommenderSystem/notebooks/InferenceAlphas/Alpha.ipynb:In[+6]:2 [inlined]",
      "  [6] get_recommendee_split(content::String; fields::Nothing)",
      "    @ Main ~/Desktop/RecommenderSystem/notebooks/InferenceAlphas/Alpha.ipynb:In[+6]:4",
      "  [7] get_recommendee_split",
      "    @ ~/Desktop/RecommenderSystem/notebooks/InferenceAlphas/Alpha.ipynb:In[+6]:1 [inlined]",
      "  [8] compute_alpha()",
      "    @ Main ./In[4]:3",
      "  [9] top-level scope",
      "    @ In[5]:1",
      " [10] eval",
      "    @ ./boot.jl:368 [inlined]",
      " [11] include_string(mapexpr::typeof(REPL.softscope), mod::Module, code::String, filename::String)",
      "    @ Base ./loading.jl:1281"
     ]
    }
   ],
   "source": [
    "compute_alpha();"
   ]
  }
 ],
 "metadata": {
  "kernelspec": {
   "display_name": "Julia 1.8.0-rc1",
   "language": "julia",
   "name": "julia-1.8"
  },
  "language_info": {
   "file_extension": ".jl",
   "mimetype": "application/julia",
   "name": "julia",
   "version": "1.8.0"
  },
  "papermill": {
   "default_parameters": {},
   "duration": 23.231172,
   "end_time": "2022-08-28T16:37:41.813798",
   "environment_variables": {},
   "exception": true,
   "input_path": "SimpleExplicitBaseline.ipynb",
   "output_path": "SimpleExplicitBaseline.ipynb",
   "parameters": {
    "username": ""
   },
   "start_time": "2022-08-28T16:37:18.582626",
   "version": "2.3.4"
  }
 },
 "nbformat": 4,
 "nbformat_minor": 5
}