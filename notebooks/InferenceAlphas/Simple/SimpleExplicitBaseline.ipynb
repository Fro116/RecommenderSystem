{
 "cells": [
  {
   "cell_type": "code",
   "execution_count": null,
   "id": "999e9212",
   "metadata": {
    "papermill": {
     "duration": 0.797453,
     "end_time": "2022-08-28T16:37:21.895990",
     "exception": false,
     "start_time": "2022-08-28T16:37:21.098537",
     "status": "completed"
    },
    "tags": [
     "injected-parameters"
    ]
   },
   "outputs": [],
   "source": [
    "# Parameters\n",
    "username = \"\"\n"
   ]
  },
  {
   "cell_type": "markdown",
   "id": "60c12adb-ffea-4611-a458-d8f6212b6c3f",
   "metadata": {
    "papermill": {
     "duration": 0.007398,
     "end_time": "2022-08-28T16:37:21.904550",
     "exception": false,
     "start_time": "2022-08-28T16:37:21.897152",
     "status": "completed"
    },
    "tags": []
   },
   "source": [
    "# SimpleExplicitBaseline\n",
    "* See the corresponding file in `../../TrainingAlphas` for more details"
   ]
  },
  {
   "cell_type": "code",
   "execution_count": null,
   "id": "fee28580-f21f-4ea9-b2f0-100520505b40",
   "metadata": {
    "papermill": {
     "duration": 0.008879,
     "end_time": "2022-08-28T16:37:21.913970",
     "exception": false,
     "start_time": "2022-08-28T16:37:21.905091",
     "status": "completed"
    },
    "tags": []
   },
   "outputs": [],
   "source": [
    "const source_name = \"SimpleExplicitBaseline\";"
   ]
  },
  {
   "cell_type": "code",
   "execution_count": null,
   "id": "1ce84ba8-f8b2-4b7b-baac-3b4b5339ebca",
   "metadata": {
    "papermill": {
     "duration": 6.44041,
     "end_time": "2022-08-28T16:37:28.354914",
     "exception": false,
     "start_time": "2022-08-28T16:37:21.914504",
     "status": "completed"
    },
    "tags": []
   },
   "outputs": [],
   "source": [
    "import NBInclude: @nbinclude\n",
    "import Statistics: mean\n",
    "@nbinclude(\"../Alpha.ipynb\");"
   ]
  },
  {
   "cell_type": "code",
   "execution_count": null,
   "id": "87e04e65-3489-4c74-ba3c-6ff48e87e856",
   "metadata": {
    "papermill": {
     "duration": 6.727658,
     "end_time": "2022-08-28T16:37:35.083736",
     "exception": false,
     "start_time": "2022-08-28T16:37:28.356078",
     "status": "completed"
    },
    "tags": []
   },
   "outputs": [],
   "source": [
    "function compute_alpha()\n",
    "    params = read_params(source_name)\n",
    "    u::Float32 = mean(get_recommendee_split(\"explicit\").rating)\n",
    "    preds = fill(u, num_items())\n",
    "    for x = 1:num_items()\n",
    "        if x in keys(params[\"a\"])\n",
    "            preds[x] += params[\"a\"][x]\n",
    "        end\n",
    "    end\n",
    "    write_recommendee_alpha(preds, source_name)\n",
    "end;"
   ]
  },
  {
   "cell_type": "code",
   "execution_count": null,
   "id": "7463bfe1-fd6f-4fc3-9531-c528abd40d12",
   "metadata": {
    "papermill": {
     "duration": 3.69445,
     "end_time": "2022-08-28T16:37:38.779367",
     "exception": true,
     "start_time": "2022-08-28T16:37:35.084917",
     "status": "failed"
    },
    "tags": []
   },
   "outputs": [],
   "source": [
    "compute_alpha();"
   ]
  }
 ],
 "metadata": {
  "kernelspec": {
   "display_name": "Julia 1.8.3",
   "language": "julia",
   "name": "julia-1.8"
  },
  "language_info": {
   "file_extension": ".jl",
   "mimetype": "application/julia",
   "name": "julia",
   "version": "1.8.3"
  },
  "papermill": {
   "default_parameters": {},
   "duration": 23.231172,
   "end_time": "2022-08-28T16:37:41.813798",
   "environment_variables": {},
   "exception": true,
   "input_path": "SimpleExplicitBaseline.ipynb",
   "output_path": "SimpleExplicitBaseline.ipynb",
   "parameters": {
    "username": ""
   },
   "start_time": "2022-08-28T16:37:18.582626",
   "version": "2.3.4"
  }
 },
 "nbformat": 4,
 "nbformat_minor": 5
}
