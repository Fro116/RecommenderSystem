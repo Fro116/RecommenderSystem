{
 "cells": [
  {
   "cell_type": "markdown",
   "id": "60c12adb-ffea-4611-a458-d8f6212b6c3f",
   "metadata": {},
   "source": [
    "# SimpleExplicitBaseline\n",
    "* See the corresponding file in `../../TrainingAlphas` for more details"
   ]
  },
  {
   "cell_type": "code",
   "execution_count": 1,
   "id": "fee28580-f21f-4ea9-b2f0-100520505b40",
   "metadata": {},
   "outputs": [],
   "source": [
    "source = \"SimpleExplicitBaseline\";"
   ]
  },
  {
   "cell_type": "code",
   "execution_count": 2,
   "id": "1ce84ba8-f8b2-4b7b-baac-3b4b5339ebca",
   "metadata": {
    "tags": []
   },
   "outputs": [],
   "source": [
    "import NBInclude: @nbinclude\n",
    "import Statistics: mean\n",
    "@nbinclude(\"../Alpha.ipynb\");"
   ]
  },
  {
   "cell_type": "code",
   "execution_count": 7,
   "id": "87e04e65-3489-4c74-ba3c-6ff48e87e856",
   "metadata": {},
   "outputs": [],
   "source": [
    "function compute_alpha()\n",
    "    params = read_params(source)\n",
    "    u = mean(get_recommendee_split(false).rating)\n",
    "    preds = fill(u, num_items())\n",
    "    for x = 1:num_items()\n",
    "        if x in keys(params[\"a\"])\n",
    "            preds[x] += params[\"a\"][x]\n",
    "        end\n",
    "    end\n",
    "    write_recommendee_alpha(preds, source)\n",
    "end;"
   ]
  },
  {
   "cell_type": "code",
   "execution_count": 8,
   "id": "7463bfe1-fd6f-4fc3-9531-c528abd40d12",
   "metadata": {},
   "outputs": [],
   "source": [
    "compute_alpha();"
   ]
  }
 ],
 "metadata": {
  "kernelspec": {
   "display_name": "Julia 1.8.0-rc1",
   "language": "julia",
   "name": "julia-1.8"
  },
  "language_info": {
   "file_extension": ".jl",
   "mimetype": "application/julia",
   "name": "julia",
   "version": "1.8.0"
  }
 },
 "nbformat": 4,
 "nbformat_minor": 5
}
