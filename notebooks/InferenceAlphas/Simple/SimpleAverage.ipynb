{
 "cells": [
  {
   "cell_type": "code",
   "execution_count": 1,
   "id": "bce3fba6",
   "metadata": {
    "execution": {
     "iopub.execute_input": "2022-08-28T12:36:59.236000Z",
     "iopub.status.busy": "2022-08-28T12:36:58.916000Z",
     "iopub.status.idle": "2022-08-28T12:36:59.723000Z",
     "shell.execute_reply": "2022-08-28T12:36:59.713000Z"
    },
    "papermill": {
     "duration": 0.81372,
     "end_time": "2022-08-28T16:36:59.724511",
     "exception": false,
     "start_time": "2022-08-28T16:36:58.910791",
     "status": "completed"
    },
    "tags": [
     "injected-parameters"
    ]
   },
   "outputs": [
    {
     "data": {
      "text/plain": [
       "\"\""
      ]
     },
     "execution_count": 1,
     "metadata": {},
     "output_type": "execute_result"
    }
   ],
   "source": [
    "# Parameters\n",
    "username = \"\"\n"
   ]
  },
  {
   "cell_type": "markdown",
   "id": "c3758ece-9b72-47b4-ae6a-aa364e0443e3",
   "metadata": {
    "papermill": {
     "duration": 0.000857,
     "end_time": "2022-08-28T16:36:59.726537",
     "exception": false,
     "start_time": "2022-08-28T16:36:59.725680",
     "status": "completed"
    },
    "tags": []
   },
   "source": [
    "# SimpleAverage\n",
    "* See the corresponding file in `../../TrainingAlphas` for more details"
   ]
  },
  {
   "cell_type": "code",
   "execution_count": 2,
   "id": "7cc9334a-2287-41d6-885b-a5cca94fe263",
   "metadata": {
    "execution": {
     "iopub.execute_input": "2022-08-28T12:36:59.727000Z",
     "iopub.status.busy": "2022-08-28T12:36:59.727000Z",
     "iopub.status.idle": "2022-08-28T12:36:59.735000Z",
     "shell.execute_reply": "2022-08-28T12:36:59.735000Z"
    },
    "papermill": {
     "duration": 0.008895,
     "end_time": "2022-08-28T16:36:59.735966",
     "exception": false,
     "start_time": "2022-08-28T16:36:59.727071",
     "status": "completed"
    },
    "tags": []
   },
   "outputs": [],
   "source": [
    "const source_name = \"SimpleAverage\";"
   ]
  },
  {
   "cell_type": "code",
   "execution_count": 3,
   "id": "df87db6f-667c-4bc2-9d48-7f4debe6750f",
   "metadata": {
    "execution": {
     "iopub.execute_input": "2022-08-28T12:36:59.737000Z",
     "iopub.status.busy": "2022-08-28T12:36:59.737000Z",
     "iopub.status.idle": "2022-08-28T12:37:06.168000Z",
     "shell.execute_reply": "2022-08-28T12:37:06.168000Z"
    },
    "papermill": {
     "duration": 6.432581,
     "end_time": "2022-08-28T16:37:06.169088",
     "exception": false,
     "start_time": "2022-08-28T16:36:59.736507",
     "status": "completed"
    },
    "tags": []
   },
   "outputs": [],
   "source": [
    "import NBInclude: @nbinclude\n",
    "@nbinclude(\"../Alpha.ipynb\");"
   ]
  },
  {
   "cell_type": "code",
   "execution_count": 4,
   "id": "b691e318-01d3-416e-8f1c-faa75f694f8a",
   "metadata": {
    "execution": {
     "iopub.execute_input": "2022-08-28T12:37:06.266000Z",
     "iopub.status.busy": "2022-08-28T12:37:06.178000Z",
     "iopub.status.idle": "2022-08-28T12:37:12.717000Z",
     "shell.execute_reply": "2022-08-28T12:37:12.717000Z"
    },
    "papermill": {
     "duration": 6.548503,
     "end_time": "2022-08-28T16:37:12.718746",
     "exception": false,
     "start_time": "2022-08-28T16:37:06.170243",
     "status": "completed"
    },
    "tags": []
   },
   "outputs": [],
   "source": [
    "function compute_alpha()\n",
    "    params = read_params(source_name)\n",
    "    write_recommendee_alpha(fill(params[\"μ\"], num_items()), source_name)\n",
    "end;"
   ]
  },
  {
   "cell_type": "code",
   "execution_count": 5,
   "id": "e52b5f43-77a8-4da8-8d7e-4225626942e9",
   "metadata": {
    "execution": {
     "iopub.execute_input": "2022-08-28T12:37:12.727000Z",
     "iopub.status.busy": "2022-08-28T12:37:12.727000Z",
     "iopub.status.idle": "2022-08-28T12:37:15.497000Z",
     "shell.execute_reply": "2022-08-28T12:37:15.497000Z"
    },
    "papermill": {
     "duration": 2.778708,
     "end_time": "2022-08-28T16:37:15.498623",
     "exception": false,
     "start_time": "2022-08-28T16:37:12.719915",
     "status": "completed"
    },
    "tags": []
   },
   "outputs": [],
   "source": [
    "compute_alpha();"
   ]
  }
 ],
 "metadata": {
  "kernelspec": {
   "display_name": "Julia 1.8.0-rc1",
   "language": "julia",
   "name": "julia-1.8"
  },
  "language_info": {
   "file_extension": ".jl",
   "mimetype": "application/julia",
   "name": "julia",
   "version": "1.8.0"
  },
  "papermill": {
   "default_parameters": {},
   "duration": 22.126935,
   "end_time": "2022-08-28T16:37:18.533052",
   "environment_variables": {},
   "exception": null,
   "input_path": "SimpleAverage.ipynb",
   "output_path": "SimpleAverage.ipynb",
   "parameters": {
    "username": ""
   },
   "start_time": "2022-08-28T16:36:56.406117",
   "version": "2.3.4"
  }
 },
 "nbformat": 4,
 "nbformat_minor": 5
}