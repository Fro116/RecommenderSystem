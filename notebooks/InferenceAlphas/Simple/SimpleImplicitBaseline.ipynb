{
 "cells": [
  {
   "cell_type": "markdown",
   "id": "b555e651-ad79-434d-ad2d-67e8f0029586",
   "metadata": {},
   "source": [
    "# Simple Implicit Baseline\n",
    "* See the corresponding file in `../../TrainingAlphas` for more details"
   ]
  },
  {
   "cell_type": "code",
   "execution_count": 1,
   "id": "a0fa47a7-9f82-42c9-b547-5d6a73a98acd",
   "metadata": {},
   "outputs": [],
   "source": [
    "source = \"SimpleImplicitBaseline\";"
   ]
  },
  {
   "cell_type": "code",
   "execution_count": 2,
   "id": "a0790666-9530-474f-8198-4b9a6341b174",
   "metadata": {
    "tags": []
   },
   "outputs": [],
   "source": [
    "import NBInclude: @nbinclude\n",
    "@nbinclude(\"../Alpha.ipynb\");"
   ]
  },
  {
   "cell_type": "code",
   "execution_count": 6,
   "id": "b01d6d4a-3f43-4949-aa31-de1a296cb3ab",
   "metadata": {},
   "outputs": [],
   "source": [
    "function compute_alpha()\n",
    "    write_recommendee_alpha(\n",
    "        read_params(\"PopularityBaseline\")[\"popularity\"],\n",
    "        \"PopularityBaseline\",\n",
    "    )\n",
    "    write_recommendee_alpha(read_params(\"UniformBaseline\")[\"uniform\"], \"UniformBaseline\")\n",
    "end;"
   ]
  },
  {
   "cell_type": "code",
   "execution_count": 7,
   "id": "689ffd4a-796a-4399-849c-66223a2dec07",
   "metadata": {},
   "outputs": [],
   "source": [
    "compute_alpha();"
   ]
  }
 ],
 "metadata": {
  "kernelspec": {
   "display_name": "Julia 1.8.0-rc1",
   "language": "julia",
   "name": "julia-1.8"
  },
  "language_info": {
   "file_extension": ".jl",
   "mimetype": "application/julia",
   "name": "julia",
   "version": "1.8.0"
  }
 },
 "nbformat": 4,
 "nbformat_minor": 5
}
