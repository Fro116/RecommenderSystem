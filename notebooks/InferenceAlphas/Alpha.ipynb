{
 "cells": [
  {
   "cell_type": "markdown",
   "id": "c8444cb2-7790-417e-a55e-5877c091967f",
   "metadata": {},
   "source": [
    "# Common utitities for all production alphas"
   ]
  },
  {
   "cell_type": "code",
   "execution_count": null,
   "id": "ee4cd69a-bcb7-4ea1-be5c-eae322fad926",
   "metadata": {},
   "outputs": [],
   "source": [
    "import NBInclude: @nbinclude\n",
    "@nbinclude(\"../TrainingAlphas/Alpha.ipynb\");"
   ]
  },
  {
   "cell_type": "code",
   "execution_count": null,
   "id": "c0f35309-55bf-44f4-8b67-1c202ba3229e",
   "metadata": {},
   "outputs": [],
   "source": [
    "if !@isdefined source_name\n",
    "    source_name = \"all/Inference\"\n",
    "    @warn \"source_name not defined: using $source_name\"\n",
    "end;"
   ]
  },
  {
   "cell_type": "code",
   "execution_count": null,
   "id": "359f04bc-c85a-4d08-9f75-b8cf82666d04",
   "metadata": {},
   "outputs": [],
   "source": [
    "function get_recommendee_username()\n",
    "    @assert @isdefined username\n",
    "    username\n",
    "end;"
   ]
  },
  {
   "cell_type": "code",
   "execution_count": null,
   "id": "3f56c37b-9325-490a-b90c-e3257dadabf4",
   "metadata": {},
   "outputs": [],
   "source": [
    "function recommendee_alpha_basepath()\n",
    "    username = get_recommendee_username()\n",
    "    mkpath(get_data_path(\"recommendations/$username/alphas\"))\n",
    "end;"
   ]
  },
  {
   "cell_type": "markdown",
   "id": "12097bb5-0663-4994-bc94-b3704ea3c0d6",
   "metadata": {},
   "source": [
    "## Reading and writing data"
   ]
  },
  {
   "cell_type": "code",
   "execution_count": null,
   "id": "7158750b-c68d-4e1b-bc65-ea527fbd0a8e",
   "metadata": {},
   "outputs": [],
   "source": [
    "function get_recommendee_split(content::String, medium::String)\n",
    "    raw_split(content, medium) = get_raw_recommendee_split(content, medium)\n",
    "    if content == \"explicit\"\n",
    "        df = raw_split(\"explicit\", medium)\n",
    "    elseif content == \"implicit\"\n",
    "        df = cat(raw_split(\"explicit\", medium), raw_split(\"implicit\", medium))\n",
    "        df.rating .= 1\n",
    "    elseif content == \"ptw\"\n",
    "        df = raw_split(\"ptw\", medium)\n",
    "    else\n",
    "        @assert false\n",
    "    end\n",
    "    df\n",
    "end\n",
    "\n",
    "function get_raw_recommendee_split(content::String, medium::String)\n",
    "    @assert content in [\"explicit\", \"implicit\", \"ptw\"]\n",
    "    @assert medium in ALL_MEDIUMS\n",
    "    username = get_recommendee_username()\n",
    "    file = get_data_path(\"recommendations/$username/$medium.$content.jld2\")\n",
    "    JLD2.load(file, \"dataset\")\n",
    "end;"
   ]
  },
  {
   "cell_type": "code",
   "execution_count": null,
   "id": "09e4ef94-e9ef-4353-933e-d5d9d65a4791",
   "metadata": {},
   "outputs": [],
   "source": [
    "function write_recommendee_alpha(ratings::Vector{Float32}, medium::String, outdir::String)\n",
    "    @assert medium in ALL_MEDIUMS\n",
    "    @assert length(ratings) == num_items(medium)\n",
    "    alpha = RatingsDataset(rating = ratings, medium = medium)\n",
    "    outdir = mkpath(\"$(recommendee_alpha_basepath())/$outdir\")\n",
    "    JLD2.save(\"$outdir/alpha.jld2\", Dict(\"alpha\" => alpha))\n",
    "end;"
   ]
  },
  {
   "cell_type": "code",
   "execution_count": null,
   "id": "79924ce4-ea3f-4657-88b2-4fcceb64f5c3",
   "metadata": {},
   "outputs": [],
   "source": [
    "function read_recommendee_alpha(alpha::String, content::String, medium::String)\n",
    "    @assert content in [\"explicit\", \"implicit\", \"ptw\", \"all\"]\n",
    "    @assert medium in ALL_MEDIUMS\n",
    "    df = JLD2.load(\"$(recommendee_alpha_basepath())/$alpha/alpha.jld2\")[\"alpha\"]\n",
    "    df = RatingsDataset(\n",
    "        user = fill(1, num_items(medium)),\n",
    "        item = 1:num_items(medium),\n",
    "        rating = df.rating,\n",
    "        medium = medium,\n",
    "    )\n",
    "    if content == \"all\"\n",
    "        return df\n",
    "    else\n",
    "        mask = get_recommendee_split(content, medium).item\n",
    "        return RatingsDataset(\n",
    "            user = df.user[mask],\n",
    "            item = df.item[mask],\n",
    "            rating = df.rating[mask],\n",
    "            medium = medium,\n",
    "        )\n",
    "    end\n",
    "end;"
   ]
  },
  {
   "cell_type": "code",
   "execution_count": null,
   "id": "52b8247c-6c3d-4c53-a879-026ab8bccde7",
   "metadata": {},
   "outputs": [],
   "source": [
    "@memoize get_regression_beta(alphas, task, content, medium, implicit) =\n",
    "    regress(alphas, task, content, medium, implicit)[2]\n",
    "\n",
    "function read_recommendee_alpha(\n",
    "    alphas::Vector{String},\n",
    "    task::String,\n",
    "    content::String,\n",
    "    medium::String,\n",
    "    implicit::Bool,\n",
    ")\n",
    "    β = get_regression_beta(alphas, task, content, medium, implicit)\n",
    "    ratings = zeros(Float32, num_items(medium))\n",
    "    for i = 1:length(alphas)\n",
    "        ratings += β[i] .* read_recommendee_alpha(alphas[i], \"all\", medium).rating\n",
    "    end\n",
    "    if implicit\n",
    "        @assert length(alphas) + 1 == length(β)\n",
    "        ratings .+= β[end] * 1 / num_items(medium)\n",
    "    end\n",
    "\n",
    "    df = get_recommendee_split(content, medium)\n",
    "    RatingsDataset(\n",
    "        user = df.user,\n",
    "        item = df.item,\n",
    "        rating = ratings[df.item],\n",
    "        medium = medium,\n",
    "    )\n",
    "end;"
   ]
  }
 ],
 "metadata": {
  "kernelspec": {
   "display_name": "Julia 1.9.0-rc2",
   "language": "julia",
   "name": "julia-1.9"
  },
  "language_info": {
   "file_extension": ".jl",
   "mimetype": "application/julia",
   "name": "julia",
   "version": "1.9.0"
  }
 },
 "nbformat": 4,
 "nbformat_minor": 5
}
