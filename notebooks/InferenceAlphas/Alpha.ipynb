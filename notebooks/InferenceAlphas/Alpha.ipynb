{
 "cells": [
  {
   "cell_type": "markdown",
   "id": "c8444cb2-7790-417e-a55e-5877c091967f",
   "metadata": {},
   "source": [
    "# Common utitities for all production alphas"
   ]
  },
  {
   "cell_type": "code",
   "execution_count": 1,
   "id": "ee4cd69a-bcb7-4ea1-be5c-eae322fad926",
   "metadata": {},
   "outputs": [],
   "source": [
    "import NBInclude: @nbinclude\n",
    "@nbinclude(\"../TrainingAlphas/Alpha.ipynb\");"
   ]
  },
  {
   "cell_type": "code",
   "execution_count": 2,
   "id": "c0f35309-55bf-44f4-8b67-1c202ba3229e",
   "metadata": {},
   "outputs": [],
   "source": [
    "if !@isdefined source\n",
    "    source = \"Alpha\"\n",
    "end;"
   ]
  },
  {
   "cell_type": "code",
   "execution_count": 3,
   "id": "359f04bc-c85a-4d08-9f75-b8cf82666d04",
   "metadata": {},
   "outputs": [],
   "source": [
    "function get_recommendee_username()\n",
    "    dir = \"../../data/recommendations\"\n",
    "    open(\"$dir/recommendee_username.txt\") do f\n",
    "        read(f, String)\n",
    "    end\n",
    "end;"
   ]
  },
  {
   "cell_type": "code",
   "execution_count": 4,
   "id": "c8b38987-8bed-4449-94fa-794b5aabe0f9",
   "metadata": {},
   "outputs": [],
   "source": [
    "set_logging_outdir(\n",
    "    \"../../data/recommendations/$(get_recommendee_username())/alphas/$source\",\n",
    ");"
   ]
  },
  {
   "cell_type": "markdown",
   "id": "12097bb5-0663-4994-bc94-b3704ea3c0d6",
   "metadata": {},
   "source": [
    "## Reading and writing data"
   ]
  },
  {
   "cell_type": "code",
   "execution_count": 5,
   "id": "7158750b-c68d-4e1b-bc65-ea527fbd0a8e",
   "metadata": {},
   "outputs": [],
   "source": [
    "function get_recommendee_split(implicit::Bool)\n",
    "    if implicit\n",
    "        df = cat(\n",
    "            get_raw_recommendee_split(\"explicit\"),\n",
    "            get_raw_recommendee_split(\"implicit\"),\n",
    "        )\n",
    "        df.rating .= 1\n",
    "    else\n",
    "        df = get_raw_recommendee_split(\"explicit\")\n",
    "    end\n",
    "    df\n",
    "end\n",
    "\n",
    "function get_raw_recommendee_split(split)\n",
    "    @assert split in [\"explicit\", \"implicit\"]\n",
    "    username = get_recommendee_username()\n",
    "    dir = \"../../data/recommendations\"\n",
    "    file = \"$dir/$username/splits.jld2\"\n",
    "    JLD2.load(file, split)\n",
    "end;"
   ]
  },
  {
   "cell_type": "code",
   "execution_count": 6,
   "id": "3f56c37b-9325-490a-b90c-e3257dadabf4",
   "metadata": {},
   "outputs": [],
   "source": [
    "function recommendee_alpha_basepath()\n",
    "    dir = \"../../data/recommendations\"\n",
    "    username = get_recommendee_username()\n",
    "    mkpath(\"$dir/$username/alphas\")\n",
    "end;"
   ]
  },
  {
   "cell_type": "code",
   "execution_count": 7,
   "id": "09e4ef94-e9ef-4353-933e-d5d9d65a4791",
   "metadata": {},
   "outputs": [],
   "source": [
    "function write_recommendee_alpha(ratings, outdir)\n",
    "    @assert length(ratings) == num_items()\n",
    "    items = 1:num_items()\n",
    "    users = fill(1, length(items))\n",
    "    alpha = RatingsDataset(users, items, ratings)\n",
    "    outdir = mkpath(\"$(recommendee_alpha_basepath())/$outdir\")\n",
    "    JLD2.save(\"$outdir/alpha.jld2\", Dict(\"alpha\" => alpha))\n",
    "end;"
   ]
  },
  {
   "cell_type": "code",
   "execution_count": 8,
   "id": "79924ce4-ea3f-4657-88b2-4fcceb64f5c3",
   "metadata": {},
   "outputs": [],
   "source": [
    "function read_recommendee_alpha(alpha, split)\n",
    "    @assert split in [\"explicit\", \"implicit\", \"all\"]\n",
    "    df = JLD2.load(\"$(recommendee_alpha_basepath())/$alpha/alpha.jld2\")[\"alpha\"]\n",
    "    if split == \"all\"\n",
    "        return df\n",
    "    else\n",
    "        recommendee_split = split == \"implicit\" ? true : false\n",
    "        mask = get_recommendee_split(recommendee_split).item\n",
    "        return RatingsDataset(df.user[mask], df.item[mask], df.rating[mask])\n",
    "    end\n",
    "end;"
   ]
  },
  {
   "cell_type": "code",
   "execution_count": 9,
   "id": "52b8247c-6c3d-4c53-a879-026ab8bccde7",
   "metadata": {},
   "outputs": [],
   "source": [
    "function read_recommendee_alpha(alphas::Vector, implicit)\n",
    "    _, β = regress(alphas, implicit)\n",
    "    ratings = zeros(Float32, num_items())\n",
    "    for i = 1:length(alphas)\n",
    "        ratings += β[i] .* read_recommendee_alpha(alphas[i], \"all\").rating\n",
    "    end\n",
    "    if implicit\n",
    "        @assert length(alphas) + 1 == length(β)\n",
    "        ratings .+= β[end] * 1 / num_items()\n",
    "    end\n",
    "\n",
    "    df = get_recommendee_split(implicit)\n",
    "    RatingsDataset(df.user, df.item, ratings[df.item])\n",
    "end;"
   ]
  },
  {
   "cell_type": "markdown",
   "id": "a855c5c1-98f7-47d0-9822-ef3812fe8da0",
   "metadata": {},
   "source": [
    "## Dependecy management"
   ]
  },
  {
   "cell_type": "code",
   "execution_count": 10,
   "id": "f6674044-d42c-40fe-b556-297e38b456e5",
   "metadata": {},
   "outputs": [],
   "source": [
    "function reset_recommenndee_alphas()\n",
    "    rm(recommendee_alpha_basepath(), recursive = true)\n",
    "end;"
   ]
  },
  {
   "cell_type": "code",
   "execution_count": 11,
   "id": "758696f8-58c1-4557-893f-dd330bf0eb91",
   "metadata": {},
   "outputs": [],
   "source": [
    "function should_compute(alpha)\n",
    "    dir = recommendee_alpha_basepath()\n",
    "    # see if we've already computed this alpha\n",
    "    if isfile(\"$dir/alpha/alpha.jld2\")\n",
    "        return false\n",
    "    end\n",
    "\n",
    "    # see if we have the dependencies necessary to compute the alpha\n",
    "    residual_alphas = missing\n",
    "    for key in [\"residual_alphas\", \"training_residuals\"]\n",
    "        if key in keys(read_params(alpha))\n",
    "            residual_alphas = read_params(alpha)[key]\n",
    "        end\n",
    "    end\n",
    "    if ismissing(residual_alphas)\n",
    "        @info \"Could not find residual alphas for $alpha\"\n",
    "    end\n",
    "    for α in residual_alphas\n",
    "        if !isfile(\"$dir/$α/alpha.jld2\")\n",
    "            return false\n",
    "        end\n",
    "    end\n",
    "\n",
    "    # we're good to go!\n",
    "    true\n",
    "end;"
   ]
  }
 ],
 "metadata": {
  "kernelspec": {
   "display_name": "Julia 1.8.0-rc1",
   "language": "julia",
   "name": "julia-1.8"
  },
  "language_info": {
   "file_extension": ".jl",
   "mimetype": "application/julia",
   "name": "julia",
   "version": "1.8.0"
  }
 },
 "nbformat": 4,
 "nbformat_minor": 5
}
