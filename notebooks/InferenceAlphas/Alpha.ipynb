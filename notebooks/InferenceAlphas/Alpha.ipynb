{
 "cells": [
  {
   "cell_type": "markdown",
   "id": "c8444cb2-7790-417e-a55e-5877c091967f",
   "metadata": {},
   "source": [
    "# Common utitities for all production alphas"
   ]
  },
  {
   "cell_type": "code",
   "execution_count": null,
   "id": "ee4cd69a-bcb7-4ea1-be5c-eae322fad926",
   "metadata": {},
   "outputs": [],
   "source": [
    "import NBInclude: @nbinclude\n",
    "@nbinclude(\"../TrainingAlphas/Alpha.ipynb\");"
   ]
  },
  {
   "cell_type": "code",
   "execution_count": null,
   "id": "c0f35309-55bf-44f4-8b67-1c202ba3229e",
   "metadata": {},
   "outputs": [],
   "source": [
    "if !@isdefined source_name\n",
    "    source_name = \"Alpha\"    \n",
    "    @warn \"source_name not defined: using $source_name\"\n",
    "end;"
   ]
  },
  {
   "cell_type": "code",
   "execution_count": null,
   "id": "359f04bc-c85a-4d08-9f75-b8cf82666d04",
   "metadata": {},
   "outputs": [],
   "source": [
    "function get_recommendee_username()\n",
    "    if !@isdefined username\n",
    "        disk_username = open(get_data_path(\"recommendations/recommendee_username.txt\")) do f\n",
    "            read(f, String)\n",
    "        end        \n",
    "        @warn \"username not defined: using $disk_username\"\n",
    "        global username = disk_username\n",
    "    end\n",
    "    username\n",
    "end;"
   ]
  },
  {
   "cell_type": "code",
   "execution_count": null,
   "id": "3f56c37b-9325-490a-b90c-e3257dadabf4",
   "metadata": {},
   "outputs": [],
   "source": [
    "function recommendee_alpha_basepath()\n",
    "    username = get_recommendee_username()\n",
    "    mkpath(get_data_path(\"recommendations/$username/alphas\"))\n",
    "end;"
   ]
  },
  {
   "cell_type": "code",
   "execution_count": null,
   "id": "c8b38987-8bed-4449-94fa-794b5aabe0f9",
   "metadata": {},
   "outputs": [],
   "source": [
    "redirect_logging(get_data_path(\"recommendations/$(get_recommendee_username())/alphas/$source_name\"));"
   ]
  },
  {
   "cell_type": "markdown",
   "id": "12097bb5-0663-4994-bc94-b3704ea3c0d6",
   "metadata": {},
   "source": [
    "## Reading and writing data"
   ]
  },
  {
   "cell_type": "code",
   "execution_count": null,
   "id": "7158750b-c68d-4e1b-bc65-ea527fbd0a8e",
   "metadata": {},
   "outputs": [],
   "source": [
    "function get_recommendee_split(content::String)\n",
    "    raw_split(content) = get_raw_recommendee_split(content)\n",
    "    if content == \"explicit\"\n",
    "        df = raw_split(\"explicit\")        \n",
    "    elseif content == \"implicit\"\n",
    "        df = cat(\n",
    "            raw_split(\"explicit\"),\n",
    "            raw_split(\"implicit\"),\n",
    "        )\n",
    "        df.rating .= 1        \n",
    "    elseif content == \"ptw\"\n",
    "        df = raw_split(\"ptw\")                \n",
    "    else\n",
    "        @assert false\n",
    "    end\n",
    "    df\n",
    "end\n",
    "\n",
    "function get_raw_recommendee_split(content::String)\n",
    "    @assert content in [\"explicit\", \"implicit\", \"ptw\"]\n",
    "    username = get_recommendee_username()\n",
    "    file = get_data_path(\"recommendations/$username/$content.jld2\")\n",
    "    JLD2.load(file, \"dataset\")\n",
    "end;"
   ]
  },
  {
   "cell_type": "code",
   "execution_count": null,
   "id": "09e4ef94-e9ef-4353-933e-d5d9d65a4791",
   "metadata": {},
   "outputs": [],
   "source": [
    "function write_recommendee_alpha(ratings::Vector{Float32}, outdir::String)\n",
    "    @assert length(ratings) == num_items()\n",
    "    alpha = RatingsDataset(rating = ratings)\n",
    "    outdir = mkpath(\"$(recommendee_alpha_basepath())/$outdir\")\n",
    "    JLD2.save(\"$outdir/alpha.jld2\", Dict(\"alpha\" => alpha))\n",
    "end;"
   ]
  },
  {
   "cell_type": "code",
   "execution_count": null,
   "id": "79924ce4-ea3f-4657-88b2-4fcceb64f5c3",
   "metadata": {},
   "outputs": [],
   "source": [
    "function read_recommendee_alpha(alpha::String, content::String)\n",
    "    @assert content in [\"explicit\", \"implicit\", \"ptw\", \"all\"]\n",
    "    df = JLD2.load(\"$(recommendee_alpha_basepath())/$alpha/alpha.jld2\")[\"alpha\"]\n",
    "    df = RatingsDataset(user=fill(1, num_items()), item = 1:num_items(), rating = df.rating)\n",
    "    if content == \"all\"\n",
    "        return df\n",
    "    else\n",
    "        mask = get_recommendee_split(content).item\n",
    "        return RatingsDataset(df.user[mask], df.item[mask], df.rating[mask])\n",
    "    end\n",
    "end;"
   ]
  },
  {
   "cell_type": "code",
   "execution_count": null,
   "id": "52b8247c-6c3d-4c53-a879-026ab8bccde7",
   "metadata": {},
   "outputs": [],
   "source": [
    "function read_recommendee_alpha(alphas::Vector{String}, content::String, implicit::Bool)\n",
    "    _, β = regress(alphas, content, implicit)\n",
    "    ratings = zeros(Float32, num_items())\n",
    "    for i = 1:length(alphas)\n",
    "        ratings += β[i] .* read_recommendee_alpha(alphas[i], \"all\").rating\n",
    "    end\n",
    "    if implicit\n",
    "        @assert length(alphas) + 1 == length(β)\n",
    "        ratings .+= β[end] * 1 / num_items()\n",
    "    end\n",
    "\n",
    "    df = get_recommendee_split(content)\n",
    "    RatingsDataset(user=df.user, item=df.item, rating=ratings[df.item])\n",
    "end;"
   ]
  },
  {
   "cell_type": "markdown",
   "id": "a855c5c1-98f7-47d0-9822-ef3812fe8da0",
   "metadata": {},
   "source": [
    "## Dependecy management"
   ]
  },
  {
   "cell_type": "code",
   "execution_count": null,
   "id": "f6674044-d42c-40fe-b556-297e38b456e5",
   "metadata": {},
   "outputs": [],
   "source": [
    "function reset_recommenndee_alphas()\n",
    "    rm(recommendee_alpha_basepath(), recursive = true)\n",
    "end;"
   ]
  }
 ],
 "metadata": {
  "kernelspec": {
   "display_name": "Julia 1.8.0-rc1",
   "language": "julia",
   "name": "julia-1.8"
  },
  "language_info": {
   "file_extension": ".jl",
   "mimetype": "application/julia",
   "name": "julia",
   "version": "1.8.0"
  }
 },
 "nbformat": 4,
 "nbformat_minor": 5
}
