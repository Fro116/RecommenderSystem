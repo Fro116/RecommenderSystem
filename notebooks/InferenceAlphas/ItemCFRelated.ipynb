{
 "cells": [
  {
   "cell_type": "markdown",
   "id": "c3758ece-9b72-47b4-ae6a-aa364e0443e3",
   "metadata": {},
   "source": [
    "# Item-based Collaborative Filtering on Related Series\n",
    "* See the corresponding file in `../TrainingAlphas` for more details"
   ]
  },
  {
   "cell_type": "code",
   "execution_count": 1,
   "id": "7cc9334a-2287-41d6-885b-a5cca94fe263",
   "metadata": {},
   "outputs": [],
   "source": [
    "source = \"ItemCFRelated\";"
   ]
  },
  {
   "cell_type": "code",
   "execution_count": 2,
   "id": "df87db6f-667c-4bc2-9d48-7f4debe6750f",
   "metadata": {
    "tags": []
   },
   "outputs": [],
   "source": [
    "import NBInclude: @nbinclude\n",
    "@nbinclude(\"Alpha.ipynb\");\n",
    "@nbinclude(\"../TrainingAlphas/Explicit/ExplicitItemCFBase.ipynb\");"
   ]
  },
  {
   "cell_type": "code",
   "execution_count": 3,
   "id": "b691e318-01d3-416e-8f1c-faa75f694f8a",
   "metadata": {},
   "outputs": [],
   "source": [
    "function compute_alpha()\n",
    "    params = read_params(source)\n",
    "    @assert length(params[\"training_residuals\"]) == 0\n",
    "    training = get_recommendee_split(true)\n",
    "    inference = RatingsDataset(fill(1, num_items()), 1:num_items(), fill(NaN, num_items()))\n",
    "    S = read_similarity_matrix(params[\"S\"])\n",
    "    K = params[\"K\"]\n",
    "    neighborhoods = i -> get_neighborhood_fn(params[\"neighborhood_type\"])(i, S, K)\n",
    "    λ = params[\"λ\"]\n",
    "    preds = collaborative_filtering(training, inference, neighborhoods, λ)\n",
    "    write_recommendee_alpha(preds, source)\n",
    "end;"
   ]
  },
  {
   "cell_type": "code",
   "execution_count": 4,
   "id": "e52b5f43-77a8-4da8-8d7e-4225626942e9",
   "metadata": {},
   "outputs": [
    {
     "name": "stderr",
     "output_type": "stream",
     "text": [
      "\u001b[32mProgress: 100%|███████████████████████████| Time: 0:00:01 ( 0.49 ms/it)\u001b[39m\n"
     ]
    }
   ],
   "source": [
    "compute_alpha();"
   ]
  }
 ],
 "metadata": {
  "kernelspec": {
   "display_name": "Julia 1.8.0-rc1",
   "language": "julia",
   "name": "julia-1.8"
  },
  "language_info": {
   "file_extension": ".jl",
   "mimetype": "application/julia",
   "name": "julia",
   "version": "1.8.0"
  }
 },
 "nbformat": 4,
 "nbformat_minor": 5
}
