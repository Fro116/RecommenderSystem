{
 "cells": [
  {
   "cell_type": "markdown",
   "id": "fde065ac-b66a-4e11-bd22-f7924fd1eb41",
   "metadata": {},
   "source": [
    "# Reset Alphas\n",
    "* deletes all previously computed alphas"
   ]
  },
  {
   "cell_type": "code",
   "execution_count": null,
   "id": "644bf26e-ae89-463a-81f8-8f3c6aee1162",
   "metadata": {
    "papermill": {
     "duration": 0.008798,
     "end_time": "2022-08-28T15:44:02.667768",
     "exception": false,
     "start_time": "2022-08-28T15:44:02.658970",
     "status": "completed"
    },
    "tags": []
   },
   "outputs": [],
   "source": [
    "source_name = \"ResetAlphas\";"
   ]
  },
  {
   "cell_type": "code",
   "execution_count": null,
   "id": "855dd425-8d9c-42c0-8d3e-0d38d0f79300",
   "metadata": {
    "papermill": {
     "duration": 1.007586,
     "end_time": "2022-08-28T15:44:03.675874",
     "exception": false,
     "start_time": "2022-08-28T15:44:02.668288",
     "status": "completed"
    },
    "tags": []
   },
   "outputs": [],
   "source": [
    "import NBInclude: @nbinclude\n",
    "@nbinclude(\"Alpha.ipynb\");"
   ]
  },
  {
   "cell_type": "code",
   "execution_count": null,
   "id": "9aa42492-3353-4850-a561-d3ce0d7f6946",
   "metadata": {
    "papermill": {
     "duration": null,
     "end_time": null,
     "exception": null,
     "start_time": null,
     "status": "completed"
    },
    "tags": []
   },
   "outputs": [],
   "source": [
    "reset_recommenndee_alphas()"
   ]
  }
 ],
 "metadata": {
  "kernelspec": {
   "display_name": "Julia 1.8.0-rc1",
   "language": "julia",
   "name": "julia-1.8"
  },
  "language_info": {
   "file_extension": ".jl",
   "mimetype": "application/julia",
   "name": "julia",
   "version": "1.8.0"
  },
  "papermill": {
   "default_parameters": {},
   "duration": 4.941669,
   "end_time": "2022-08-28T15:44:04.297026",
   "environment_variables": {},
   "exception": null,
   "input_path": "ResetAlphas.ipynb",
   "output_path": "ResetAlphas.ipynb",
   "parameters": {
    "username": "10"
   },
   "start_time": "2022-08-28T15:43:59.355357",
   "version": "2.3.4"
  }
 },
 "nbformat": 4,
 "nbformat_minor": 5
}
