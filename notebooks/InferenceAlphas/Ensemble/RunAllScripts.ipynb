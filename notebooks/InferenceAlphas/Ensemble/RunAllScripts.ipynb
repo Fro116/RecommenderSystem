{
 "cells": [
  {
   "cell_type": "code",
   "execution_count": null,
   "id": "7df9b9d0-f4e3-4db9-b67d-799c100e8ab9",
   "metadata": {},
   "outputs": [],
   "source": [
    "import os\n",
    "\n",
    "import papermill as pm"
   ]
  },
  {
   "cell_type": "code",
   "execution_count": null,
   "id": "1f0017b5-ab6d-4f56-9351-e8cf36a71d8c",
   "metadata": {
    "tags": [
     "parameters"
    ]
   },
   "outputs": [],
   "source": [
    "username = \"\"\n",
    "outdir = \"\""
   ]
  },
  {
   "cell_type": "code",
   "execution_count": null,
   "id": "58e8d146-da94-4334-8b78-80453cee9e31",
   "metadata": {},
   "outputs": [],
   "source": [
    "def run_notebook(script):\n",
    "    pm.execute_notebook(\n",
    "        script,\n",
    "        os.path.join(outdir, script),\n",
    "        parameters=dict(username = username),\n",
    "    )"
   ]
  },
  {
   "cell_type": "code",
   "execution_count": null,
   "id": "ac9abbb5-d5f8-4927-9299-c5c969d0c9ed",
   "metadata": {},
   "outputs": [],
   "source": [
    "run_notebook(\"MLE.Training.ipynb\")"
   ]
  },
  {
   "cell_type": "code",
   "execution_count": null,
   "id": "09500c0d-4fff-4c93-adea-6fbe067d2c2a",
   "metadata": {},
   "outputs": [],
   "source": [
    "run_notebook(\"LinearModel.ipynb\")"
   ]
  },
  {
   "cell_type": "code",
   "execution_count": null,
   "id": "6c1bcb69-0c5e-40a9-83f9-f97798adabaf",
   "metadata": {},
   "outputs": [],
   "source": [
    "run_notebook(\"NonlinearModel.ipynb\")"
   ]
  },
  {
   "cell_type": "code",
   "execution_count": null,
   "id": "69acc4fb-0fd6-449f-b57f-7d0b2e3dae07",
   "metadata": {},
   "outputs": [],
   "source": [
    "run_notebook(\"MLE.Ensemble.ipynb\")"
   ]
  },
  {
   "cell_type": "code",
   "execution_count": null,
   "id": "f7cd304b-1d38-442c-86c8-fd54301afe05",
   "metadata": {},
   "outputs": [],
   "source": [
    "print(\"Success!\")"
   ]
  }
 ],
 "metadata": {
  "kernelspec": {
   "display_name": "Python 3 (ipykernel)",
   "language": "python",
   "name": "python3"
  },
  "language_info": {
   "codemirror_mode": {
    "name": "ipython",
    "version": 3
   },
   "file_extension": ".py",
   "mimetype": "text/x-python",
   "name": "python",
   "nbconvert_exporter": "python",
   "pygments_lexer": "ipython3",
   "version": "3.10.6"
  }
 },
 "nbformat": 4,
 "nbformat_minor": 5
}
