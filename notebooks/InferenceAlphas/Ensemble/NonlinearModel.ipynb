{
 "cells": [
  {
   "cell_type": "markdown",
   "id": "0a267fa3-cdb3-4a96-affc-6f03ee3fa040",
   "metadata": {},
   "source": [
    "# NonlinearModel\n",
    "* See the corresponding file in `../../TrainingAlphas` for more details"
   ]
  },
  {
   "cell_type": "code",
   "execution_count": null,
   "id": "d47f2c65-9add-4db8-ae90-94ec7b96367a",
   "metadata": {},
   "outputs": [],
   "source": [
    "const source_name = \"NonlinearModel\";"
   ]
  },
  {
   "cell_type": "code",
   "execution_count": null,
   "id": "25e0ae4b-0e52-4c37-b5bf-41cc70567395",
   "metadata": {
    "tags": [
     "parameters"
    ]
   },
   "outputs": [],
   "source": [
    "username = \"\"\n",
    "task = \"\""
   ]
  },
  {
   "cell_type": "code",
   "execution_count": null,
   "id": "a3f3bee8-6535-49b7-b0ae-d3fc19a73cbb",
   "metadata": {
    "tags": []
   },
   "outputs": [],
   "source": [
    "using LightGBM\n",
    "import NBInclude: @nbinclude\n",
    "@nbinclude(\"../Alpha.ipynb\")\n",
    "@nbinclude(\"../../TrainingAlphas/Ensemble/ItemMetadata.ipynb\");"
   ]
  },
  {
   "cell_type": "code",
   "execution_count": null,
   "id": "75d65bd4-fd76-4b5b-b019-0eaf31a8f102",
   "metadata": {},
   "outputs": [],
   "source": [
    "function compute_alpha(source)\n",
    "    params = read_params(source)\n",
    "    base_features =\n",
    "        reduce(hcat, read_recommendee_alpha(x, \"all\").rating for x in params[\"alphas\"])\n",
    "    metadata_features = get_item_metadata_features(\n",
    "        convert.(Int32, fill(1, num_items())),\n",
    "        convert.(Int32, collect(1:num_items())),\n",
    "        get_recommendee_split(\"implicit\"),\n",
    "    )\n",
    "    X = hcat(base_features, metadata_features)\n",
    "\n",
    "    preds = convert.(Float32, vec(predict(params[\"model\"], X)))\n",
    "    write_recommendee_alpha(preds, source)\n",
    "end;"
   ]
  },
  {
   "cell_type": "code",
   "execution_count": null,
   "id": "caa5f96e-88d6-45b5-b589-eb8c4c8fa297",
   "metadata": {},
   "outputs": [],
   "source": [
    "function compute_explicit_alpha()\n",
    "    source = \"$task/Explicit\"\n",
    "    alphas = read_params(source)[\"alphas\"]\n",
    "    preds = zeros(Float32, num_items())\n",
    "    for alpha in alphas\n",
    "        preds += read_recommendee_alpha(alpha, \"all\").rating\n",
    "    end\n",
    "    write_recommendee_alpha(preds, source)\n",
    "end;"
   ]
  },
  {
   "cell_type": "code",
   "execution_count": null,
   "id": "59101ab4-beb0-4cf6-87e1-5b285a4e8698",
   "metadata": {},
   "outputs": [],
   "source": [
    "compute_alpha(\"$task/NonlinearExplicit\")"
   ]
  },
  {
   "cell_type": "code",
   "execution_count": null,
   "id": "c597efa5-4f70-4020-85ad-719e90804a8b",
   "metadata": {},
   "outputs": [],
   "source": [
    "compute_alpha(\"$task/NonlinearImplicit\")"
   ]
  },
  {
   "cell_type": "code",
   "execution_count": null,
   "id": "8a2ee983-55d1-43b9-bfaf-49d3d5d1dd22",
   "metadata": {},
   "outputs": [],
   "source": [
    "compute_explicit_alpha()"
   ]
  }
 ],
 "metadata": {
  "kernelspec": {
   "display_name": "Julia 1.8.3",
   "language": "julia",
   "name": "julia-1.8"
  },
  "language_info": {
   "file_extension": ".jl",
   "mimetype": "application/julia",
   "name": "julia",
   "version": "1.8.3"
  }
 },
 "nbformat": 4,
 "nbformat_minor": 5
}
