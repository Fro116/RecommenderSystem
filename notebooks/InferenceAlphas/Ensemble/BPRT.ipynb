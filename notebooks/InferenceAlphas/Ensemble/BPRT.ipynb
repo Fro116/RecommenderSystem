{
 "cells": [
  {
   "cell_type": "markdown",
   "id": "0a267fa3-cdb3-4a96-affc-6f03ee3fa040",
   "metadata": {},
   "source": [
    "# Bayesian Personalized Ranking\n",
    "* See the corresponding file in `../../TrainingAlphas` for more details"
   ]
  },
  {
   "cell_type": "code",
   "execution_count": null,
   "id": "d47f2c65-9add-4db8-ae90-94ec7b96367a",
   "metadata": {},
   "outputs": [],
   "source": [
    "const source_name = \"BPRT\";"
   ]
  },
  {
   "cell_type": "code",
   "execution_count": null,
   "id": "a3f3bee8-6535-49b7-b0ae-d3fc19a73cbb",
   "metadata": {
    "tags": []
   },
   "outputs": [],
   "source": [
    "using LightGBM\n",
    "import NBInclude: @nbinclude\n",
    "@nbinclude(\"../Alpha.ipynb\");"
   ]
  },
  {
   "cell_type": "code",
   "execution_count": null,
   "id": "c4e2c317-f44b-4276-abfe-1eb5dd472766",
   "metadata": {},
   "outputs": [],
   "source": [
    "const ptw_items = Set(get_recommendee_split(\"ptw\").item);"
   ]
  },
  {
   "cell_type": "code",
   "execution_count": null,
   "id": "469a95bf-46b3-4e48-a71c-fd44dc2a622d",
   "metadata": {},
   "outputs": [],
   "source": [
    "function pairwise_evaluate(m, X, i, j)\n",
    "    # returns >0 if i is preferred to j\n",
    "    x = reshape(vcat(X[:, i], X[:, j]), 1, size(X)[1] * 2)\n",
    "    l = predict(m, x)[1]\n",
    "    y = reshape(vcat(X[:, j], X[:, i]), 1, size(X)[1] * 2)\n",
    "    r = predict(m, y)[1]\n",
    "    l - r\n",
    "end;"
   ]
  },
  {
   "cell_type": "code",
   "execution_count": null,
   "id": "9889ac23-b657-441d-88b5-06dfb6af97c3",
   "metadata": {},
   "outputs": [],
   "source": [
    "function get_model(source)\n",
    "    params = read_params(source)\n",
    "    X = []\n",
    "    for alpha in params[\"alphas\"]\n",
    "        implicit = occursin(\"Implicit\", alpha) && !occursin(\"Error\", alpha)\n",
    "        push!(X, read_recommendee_alpha(alpha, \"all\").rating)\n",
    "    end\n",
    "    X = collect(reduce(hcat, X)')\n",
    "    m = params[\"model\"]\n",
    "    m, X\n",
    "end;"
   ]
  },
  {
   "cell_type": "code",
   "execution_count": null,
   "id": "59101ab4-beb0-4cf6-87e1-5b285a4e8698",
   "metadata": {},
   "outputs": [],
   "source": [
    "function compute_alpha()\n",
    "    # unpack parameters\n",
    "    df = read_recommendee_alpha(\"BPR\", \"all\")\n",
    "    ranking = df.item[sortperm(df.rating)]\n",
    "\n",
    "    m_implicit, X_implicit = get_model(\"BPR.tree\")\n",
    "    m_ptw, X_ptw = get_model(\"BPR.tree.ptw\")\n",
    "\n",
    "    # fine tune the top of the rankings\n",
    "    K = 1000\n",
    "    safe = Set()\n",
    "    @showprogress for _ = 1:K\n",
    "        swaps = 0\n",
    "        for i = 1:K-1\n",
    "            if i in safe\n",
    "                continue\n",
    "            end\n",
    "            if ranking[i] in ptw_items || ranking[i+1] in ptw_items\n",
    "                comp = pairwise_evaluate(m_implicit, X_implicit, ranking[i], ranking[i+1])\n",
    "            else\n",
    "                comp = pairwise_evaluate(m_ptw, X_ptw, ranking[i], ranking[i+1])\n",
    "            end\n",
    "            if comp < 0\n",
    "                ranking[i], ranking[i+1] = ranking[i+1], ranking[i]\n",
    "                swaps += 1\n",
    "                delete!(safe, i)\n",
    "                delete!(safe, max(i - 1, 1))\n",
    "            else\n",
    "                push!(safe, i)\n",
    "            end\n",
    "        end\n",
    "        if swaps == 0\n",
    "            break\n",
    "        end\n",
    "    end\n",
    "\n",
    "    # save alpha\n",
    "    alpha = zeros(Float32, num_items())\n",
    "    n = 1\n",
    "    for i = 1:num_items()\n",
    "        alpha[ranking[i]] = n\n",
    "        n += 1\n",
    "    end\n",
    "    write_recommendee_alpha(alpha, source_name)\n",
    "end;"
   ]
  },
  {
   "cell_type": "code",
   "execution_count": null,
   "id": "91741710-819b-473f-804b-9be6eed3d13a",
   "metadata": {},
   "outputs": [],
   "source": [
    "compute_alpha();"
   ]
  }
 ],
 "metadata": {
  "kernelspec": {
   "display_name": "Julia 1.8.0-rc1",
   "language": "julia",
   "name": "julia-1.8"
  },
  "language_info": {
   "file_extension": ".jl",
   "mimetype": "application/julia",
   "name": "julia",
   "version": "1.8.0"
  }
 },
 "nbformat": 4,
 "nbformat_minor": 5
}
