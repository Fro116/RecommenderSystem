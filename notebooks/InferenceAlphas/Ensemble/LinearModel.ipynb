{
 "cells": [
  {
   "cell_type": "markdown",
   "id": "0a267fa3-cdb3-4a96-affc-6f03ee3fa040",
   "metadata": {},
   "source": [
    "# LinearModel\n",
    "* See the corresponding file in `../../TrainingAlphas` for more details"
   ]
  },
  {
   "cell_type": "code",
   "execution_count": null,
   "id": "d47f2c65-9add-4db8-ae90-94ec7b96367a",
   "metadata": {},
   "outputs": [],
   "source": [
    "const source_name = \"LinearModel\";"
   ]
  },
  {
   "cell_type": "code",
   "execution_count": null,
   "id": "a3f3bee8-6535-49b7-b0ae-d3fc19a73cbb",
   "metadata": {
    "tags": []
   },
   "outputs": [],
   "source": [
    "import NBInclude: @nbinclude\n",
    "@nbinclude(\"../Alpha.ipynb\")\n",
    "@nbinclude(\"../../TrainingAlphas/Ensemble/EnsembleInputs.ipynb\");"
   ]
  },
  {
   "cell_type": "code",
   "execution_count": null,
   "id": "756205d0-077a-4298-b194-1959eaa7f2a9",
   "metadata": {},
   "outputs": [],
   "source": [
    "function read_recommendee_suppressed_alpha(alpha::String, split::String)\n",
    "    @assert split == \"all\"\n",
    "    if alpha in implicit_raw_alphas\n",
    "        suppress = true\n",
    "        content = \"implicit\"\n",
    "    elseif alpha in ptw_raw_alphas\n",
    "        suppress = true\n",
    "        content = \"ptw\"\n",
    "    else\n",
    "        suppress = false\n",
    "    end\n",
    "    df = read_recommendee_alpha(alpha, split)\n",
    "    if suppress\n",
    "        seen = get_recommendee_split(content)\n",
    "        p_seen = sum(df.rating[seen.item])\n",
    "        ϵ = sqrt(eps(Float32))\n",
    "        if 1 - p_seen > ϵ\n",
    "            df.rating[seen.item] .= 0\n",
    "            df.rating ./= 1 - p_seen\n",
    "        end\n",
    "    end\n",
    "    df\n",
    "end;"
   ]
  },
  {
   "cell_type": "code",
   "execution_count": null,
   "id": "59101ab4-beb0-4cf6-87e1-5b285a4e8698",
   "metadata": {},
   "outputs": [],
   "source": [
    "function compute_alpha(alpha::String, content::String)\n",
    "    params = read_params(alpha)\n",
    "    X = []\n",
    "    for alpha in params[\"alphas\"]\n",
    "        push!(X, read_recommendee_suppressed_alpha(alpha, \"all\").rating)\n",
    "    end\n",
    "    if content in [\"implicit\", \"ptw\"]\n",
    "        push!(X, fill(1.0f0 / num_items(), num_items()))\n",
    "    end\n",
    "    X = reduce(hcat, X)\n",
    "    write_recommendee_alpha(X * params[\"β\"], alpha)\n",
    "end;"
   ]
  },
  {
   "cell_type": "code",
   "execution_count": null,
   "id": "a897e4d3-5cf6-4a90-ad90-0a972bdbd58a",
   "metadata": {},
   "outputs": [],
   "source": [
    "compute_alpha(\"LinearExplicit\", \"explicit\");"
   ]
  },
  {
   "cell_type": "code",
   "execution_count": null,
   "id": "a4d770cb-33c6-49c1-b202-ecd52d717276",
   "metadata": {},
   "outputs": [],
   "source": [
    "compute_alpha(\"LinearImplicit\", \"implicit\");"
   ]
  },
  {
   "cell_type": "code",
   "execution_count": null,
   "id": "aeca0cdc-603d-4743-a423-ae2b14ac70cf",
   "metadata": {},
   "outputs": [],
   "source": [
    "compute_alpha(\"LinearPtw\", \"ptw\");"
   ]
  }
 ],
 "metadata": {
  "kernelspec": {
   "display_name": "Julia 1.8.0-rc1",
   "language": "julia",
   "name": "julia-1.8"
  },
  "language_info": {
   "file_extension": ".jl",
   "mimetype": "application/julia",
   "name": "julia",
   "version": "1.8.0"
  }
 },
 "nbformat": 4,
 "nbformat_minor": 5
}
