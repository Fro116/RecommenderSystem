{
 "cells": [
  {
   "cell_type": "markdown",
   "id": "0a267fa3-cdb3-4a96-affc-6f03ee3fa040",
   "metadata": {},
   "source": [
    "# LinearModel\n",
    "* See the corresponding file in `../../TrainingAlphas` for more details"
   ]
  },
  {
   "cell_type": "code",
   "execution_count": null,
   "id": "d47f2c65-9add-4db8-ae90-94ec7b96367a",
   "metadata": {},
   "outputs": [],
   "source": [
    "source = \"LinearModel\";"
   ]
  },
  {
   "cell_type": "code",
   "execution_count": null,
   "id": "a3f3bee8-6535-49b7-b0ae-d3fc19a73cbb",
   "metadata": {
    "tags": []
   },
   "outputs": [],
   "source": [
    "import NBInclude: @nbinclude\n",
    "@nbinclude(\"../Alpha.ipynb\")\n",
    "@nbinclude(\"SuppressImplicit.ipynb\");"
   ]
  },
  {
   "cell_type": "code",
   "execution_count": null,
   "id": "59101ab4-beb0-4cf6-87e1-5b285a4e8698",
   "metadata": {},
   "outputs": [],
   "source": [
    "function compute_alpha(alpha, implicit)\n",
    "    params = read_params(alpha)\n",
    "    X = []\n",
    "    for alpha in params[\"alphas\"]\n",
    "        push!(X, read_recommendee_suppressed_alpha(alpha, \"all\", implicit).rating)\n",
    "    end\n",
    "    if implicit\n",
    "        push!(X, fill(1 / num_items(), num_items()))\n",
    "    end\n",
    "    X = reduce(hcat, X)\n",
    "    write_recommendee_alpha(X * params[\"β\"], alpha)\n",
    "end;"
   ]
  },
  {
   "cell_type": "code",
   "execution_count": null,
   "id": "a897e4d3-5cf6-4a90-ad90-0a972bdbd58a",
   "metadata": {},
   "outputs": [],
   "source": [
    "function compute_alpha()\n",
    "    compute_alpha(\"LinearExplicit\", false)\n",
    "    compute_alpha(\"LinearImplicit\", true)\n",
    "end;"
   ]
  },
  {
   "cell_type": "code",
   "execution_count": null,
   "id": "a4d770cb-33c6-49c1-b202-ecd52d717276",
   "metadata": {},
   "outputs": [],
   "source": [
    "compute_alpha();"
   ]
  }
 ],
 "metadata": {
  "kernelspec": {
   "display_name": "Julia 1.8.0-rc1",
   "language": "julia",
   "name": "julia-1.8"
  },
  "language_info": {
   "file_extension": ".jl",
   "mimetype": "application/julia",
   "name": "julia",
   "version": "1.8.0"
  }
 },
 "nbformat": 4,
 "nbformat_minor": 5
}
