{
 "cells": [
  {
   "cell_type": "markdown",
   "id": "2df5351f-2171-4365-b750-8984d42c5fe5",
   "metadata": {
    "tags": []
   },
   "source": [
    "# SuppressImplicit\n",
    "* Zero out any items the user has already seen"
   ]
  },
  {
   "cell_type": "code",
   "execution_count": null,
   "id": "ba555f4c-bc22-4367-8fa6-d9d3f61d4fed",
   "metadata": {},
   "outputs": [],
   "source": [
    "function read_recommendee_suppressed_alpha(alpha::String, split::String, implicit::Bool)\n",
    "    @assert split == \"all\"\n",
    "    df = read_recommendee_alpha(alpha, split)\n",
    "    if implicit\n",
    "        seen = get_recommendee_split(true)\n",
    "        p_seen = sum(df.rating[seen.item])\n",
    "        df.rating[seen.item] .= 0    \n",
    "        df.rating ./= 1 - p_seen\n",
    "    end\n",
    "    df\n",
    "end"
   ]
  }
 ],
 "metadata": {
  "kernelspec": {
   "display_name": "Julia 1.8.0-rc1",
   "language": "julia",
   "name": "julia-1.8"
  },
  "language_info": {
   "file_extension": ".jl",
   "mimetype": "application/julia",
   "name": "julia",
   "version": "1.8.0"
  }
 },
 "nbformat": 4,
 "nbformat_minor": 5
}
