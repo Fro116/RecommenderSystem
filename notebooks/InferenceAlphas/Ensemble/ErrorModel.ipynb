{
 "cells": [
  {
   "cell_type": "markdown",
   "id": "0a267fa3-cdb3-4a96-affc-6f03ee3fa040",
   "metadata": {},
   "source": [
    "# ErrorModel\n",
    "* See the corresponding file in `../../TrainingAlphas` for more details"
   ]
  },
  {
   "cell_type": "code",
   "execution_count": null,
   "id": "d47f2c65-9add-4db8-ae90-94ec7b96367a",
   "metadata": {},
   "outputs": [],
   "source": [
    "source = \"ErrorModel\";"
   ]
  },
  {
   "cell_type": "code",
   "execution_count": null,
   "id": "a3f3bee8-6535-49b7-b0ae-d3fc19a73cbb",
   "metadata": {
    "tags": []
   },
   "outputs": [],
   "source": [
    "using LightGBM\n",
    "import NBInclude: @nbinclude\n",
    "@nbinclude(\"../Alpha.ipynb\")\n",
    "@nbinclude(\"SuppressImplicit.ipynb\");"
   ]
  },
  {
   "cell_type": "code",
   "execution_count": null,
   "id": "ace6058b-0aa3-442e-820a-c71338f20771",
   "metadata": {},
   "outputs": [],
   "source": [
    "function compute_alpha(alpha, implicit)\n",
    "    params = read_params(alpha)\n",
    "    X = []\n",
    "    for alpha in params[\"alphas\"]\n",
    "        push!(X, read_recommendee_suppressed_alpha(alpha, \"all\", implicit).rating)\n",
    "    end\n",
    "    X = reduce(hcat, X)\n",
    "    metadata_features = get_xgboost_features(fill(1, num_items()), collect(1:num_items()))\n",
    "    X = hcat(X, metadata_features)\n",
    "    preds = vec(predict(params[\"model\"], X))\n",
    "    write_recommendee_alpha(preds, alpha)\n",
    "end;"
   ]
  },
  {
   "cell_type": "code",
   "execution_count": null,
   "id": "59101ab4-beb0-4cf6-87e1-5b285a4e8698",
   "metadata": {},
   "outputs": [],
   "source": [
    "function compute_alpha()\n",
    "    compute_alpha(\"ErrorExplicit\", false)\n",
    "    compute_alpha(\"ErrorImplicit\", true)\n",
    "end;"
   ]
  },
  {
   "cell_type": "code",
   "execution_count": null,
   "id": "a4d770cb-33c6-49c1-b202-ecd52d717276",
   "metadata": {},
   "outputs": [],
   "source": [
    "compute_alpha();"
   ]
  }
 ],
 "metadata": {
  "kernelspec": {
   "display_name": "Julia 1.8.0-rc1",
   "language": "julia",
   "name": "julia-1.8"
  },
  "language_info": {
   "file_extension": ".jl",
   "mimetype": "application/julia",
   "name": "julia",
   "version": "1.8.0"
  }
 },
 "nbformat": 4,
 "nbformat_minor": 5
}
