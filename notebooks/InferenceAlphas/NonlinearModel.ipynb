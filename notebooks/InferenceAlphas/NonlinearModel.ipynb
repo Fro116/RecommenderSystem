{
 "cells": [
  {
   "cell_type": "markdown",
   "id": "0a267fa3-cdb3-4a96-affc-6f03ee3fa040",
   "metadata": {},
   "source": [
    "# NonlinearModel\n",
    "* See the corresponding file in `../TrainingAlphas` for more details"
   ]
  },
  {
   "cell_type": "code",
   "execution_count": 1,
   "id": "d47f2c65-9add-4db8-ae90-94ec7b96367a",
   "metadata": {},
   "outputs": [],
   "source": [
    "source = \"NonlinearExplicit\";"
   ]
  },
  {
   "cell_type": "code",
   "execution_count": 2,
   "id": "a3f3bee8-6535-49b7-b0ae-d3fc19a73cbb",
   "metadata": {
    "tags": []
   },
   "outputs": [
    {
     "name": "stderr",
     "output_type": "stream",
     "text": [
      "┌ Info: lib_lightgbm found in system dirs!\n",
      "└ @ LightGBM /Users/kundan/.julia/packages/LightGBM/A7zVd/src/LightGBM.jl:28\n"
     ]
    }
   ],
   "source": [
    "using LightGBM\n",
    "import NBInclude: @nbinclude\n",
    "@nbinclude(\"Alpha.ipynb\");"
   ]
  },
  {
   "cell_type": "code",
   "execution_count": 3,
   "id": "75d65bd4-fd76-4b5b-b019-0eaf31a8f102",
   "metadata": {},
   "outputs": [
    {
     "data": {
      "text/plain": [
       "compute_nonlinear_alpha (generic function with 1 method)"
      ]
     },
     "execution_count": 3,
     "metadata": {},
     "output_type": "execute_result"
    }
   ],
   "source": [
    "function compute_nonlinear_alpha()\n",
    "    params = read_params(source)\n",
    "    X = []\n",
    "    for alpha in params[\"alphas\"]\n",
    "        push!(X, read_recommendee_alpha(alpha, \"all\").rating)\n",
    "    end\n",
    "    X = reduce(hcat, X)\n",
    "    preds = vec(predict(params[\"model\"], X))\n",
    "    write_recommendee_alpha(preds, source)\n",
    "end;"
   ]
  },
  {
   "cell_type": "code",
   "execution_count": 7,
   "id": "caa5f96e-88d6-45b5-b589-eb8c4c8fa297",
   "metadata": {},
   "outputs": [
    {
     "data": {
      "text/plain": [
       "compute_explicit_alpha (generic function with 1 method)"
      ]
     },
     "execution_count": 7,
     "metadata": {},
     "output_type": "execute_result"
    }
   ],
   "source": [
    "function compute_explicit_alpha()\n",
    "    source = \"Explicit\"\n",
    "    alphas = read_params(source)[\"alphas\"]\n",
    "    preds = zeros(Float32, num_items())\n",
    "    for alpha in alphas\n",
    "        preds += read_recommendee_alpha(alpha, \"all\").rating\n",
    "    end\n",
    "    write_recommendee_alpha(preds, source)\n",
    "end;"
   ]
  },
  {
   "cell_type": "code",
   "execution_count": 8,
   "id": "59101ab4-beb0-4cf6-87e1-5b285a4e8698",
   "metadata": {},
   "outputs": [],
   "source": [
    "function compute_alpha()\n",
    "    compute_nonlinear_alpha()\n",
    "    compute_explicit_alpha()\n",
    "end;"
   ]
  },
  {
   "cell_type": "code",
   "execution_count": 9,
   "id": "a4d770cb-33c6-49c1-b202-ecd52d717276",
   "metadata": {},
   "outputs": [],
   "source": [
    "compute_alpha();"
   ]
  },
  {
   "cell_type": "code",
   "execution_count": null,
   "id": "fd04f4d1-daab-4dff-99b4-0993dc53dfd3",
   "metadata": {},
   "outputs": [],
   "source": []
  }
 ],
 "metadata": {
  "kernelspec": {
   "display_name": "Julia 1.8.0-rc1",
   "language": "julia",
   "name": "julia-1.8"
  },
  "language_info": {
   "file_extension": ".jl",
   "mimetype": "application/julia",
   "name": "julia",
   "version": "1.8.0"
  }
 },
 "nbformat": 4,
 "nbformat_minor": 5
}
