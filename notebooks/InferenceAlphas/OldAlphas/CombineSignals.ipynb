{
 "cells": [
  {
   "cell_type": "code",
   "execution_count": 1,
   "id": "c7a9cc07-4942-4597-9cca-449076d55ee3",
   "metadata": {},
   "outputs": [],
   "source": [
    "source = \"CombineSignals\";"
   ]
  },
  {
   "cell_type": "code",
   "execution_count": 2,
   "id": "df1985d4-a4cc-41de-8abb-3916a8feae14",
   "metadata": {},
   "outputs": [],
   "source": [
    "using NBInclude\n",
    "import XGBoost\n",
    "@nbinclude(\"Alpha.ipynb\");"
   ]
  },
  {
   "cell_type": "code",
   "execution_count": 3,
   "id": "6332589b-920b-492c-ae0f-cb2b691c2d7c",
   "metadata": {},
   "outputs": [],
   "source": [
    "@nbinclude(\"../TrainingAlphas/XGBoostFeatures.ipynb\");"
   ]
  },
  {
   "cell_type": "code",
   "execution_count": 4,
   "id": "9b787122-46dd-45b8-a871-113d4b9b3287",
   "metadata": {},
   "outputs": [],
   "source": [
    "# used for XGBoostFeatures\n",
    "function read_params(alpha)\n",
    "    params = load(\"../../data/alphas/$alpha/params.jld2\")\n",
    "    if alpha == \"UserItemBiases\"\n",
    "        μ = mean(read_recommendee_alpha(\"UserItemBiases\").rating - params[\"a\"])\n",
    "        push!(params[\"u\"], μ)\n",
    "    end\n",
    "    params\n",
    "end;"
   ]
  },
  {
   "cell_type": "code",
   "execution_count": 5,
   "id": "ab134860-a009-416b-a0a3-d9bcfda6a051",
   "metadata": {},
   "outputs": [
    {
     "data": {
      "text/plain": [
       "compute_alpha (generic function with 1 method)"
      ]
     },
     "execution_count": 5,
     "metadata": {},
     "output_type": "execute_result"
    }
   ],
   "source": [
    "function compute_alpha()\n",
    "    params = read_params(source)\n",
    "    X = get_augmented_indep(\"recommendee_inference\", params[\"alphas\"], params[\"β\"])\n",
    "    bst = XGBoost.Booster(model_file = params[\"bst\"])\n",
    "    boost_preds = XGBoost.predict(bst, X)\n",
    "    predictions =\n",
    "        get_indep(\"recommendee_inference\", params[\"alphas\"]) * params[\"β\"] + boost_preds\n",
    "    @debug \"average bst magnitude: $(mean(abs.(boost_preds))), $(sqrt(mean(boost_preds .^ 2)))\"\n",
    "\n",
    "    # predictions\n",
    "    model(items) = predictions[items]\n",
    "    write_recommendee_alpha(model)\n",
    "\n",
    "    # error predictions\n",
    "    error_bst = XGBoost.Booster(model_file = params[\"error_bst\"])\n",
    "    error_preds = clamp.(XGBoost.predict(error_bst, hcat(X, boost_preds)), 0, Inf)\n",
    "    error_model(items) = error_preds[items]\n",
    "    write_recommendee_alpha(error_model, outdir = \"PredictedErrors\")\n",
    "end"
   ]
  },
  {
   "cell_type": "code",
   "execution_count": 6,
   "id": "50697dfe-f004-4976-b681-dbcd0a369765",
   "metadata": {},
   "outputs": [
    {
     "name": "stderr",
     "output_type": "stream",
     "text": [
      "\u001b[32mProgress: 100%|███████████████████████████| Time: 0:00:04 ( 0.50 μs/it)\u001b[39mit)\u001b[39m\n",
      "\u001b[32mProgress: 100%|███████████████████████████| Time: 0:00:01 ( 0.19 μs/it)\u001b[39m\n",
      "\u001b[32mProgress: 100%|███████████████████████████| Time: 0:00:06 ( 0.68 μs/it)\u001b[39m\n",
      "\u001b[32mProgress: 100%|███████████████████████████| Time: 0:00:00 (95.15 μs/it)\u001b[39m\n",
      "\u001b[32mProgress: 100%|███████████████████████████| Time: 0:00:05 ( 0.61 μs/it)\u001b[39m\n",
      "\u001b[32mProgress: 100%|███████████████████████████| Time: 0:00:06 ( 0.68 μs/it)\u001b[39m\n",
      "\u001b[32mProgress: 100%|███████████████████████████| Time: 0:00:00 (84.91 μs/it)\u001b[39m\n",
      "\u001b[32mProgress: 100%|███████████████████████████| Time: 0:00:07 ( 0.78 μs/it)\u001b[39m\n",
      "\u001b[32mProgress: 100%|███████████████████████████| Time: 0:00:00 (87.28 μs/it)\u001b[39m\n",
      "\u001b[38;5;4m\u001b[1m[ \u001b[22m\u001b[39m\u001b[38;5;4m\u001b[1mDebug: \u001b[22m\u001b[39m20220320 04:16:30 nsfw categories: String7[\"gray\", \"white\"]\n",
      "\u001b[32mProgress: 100%|███████████████████████████| Time: 0:00:00 ( 0.21 ms/it)\u001b[39m\n",
      "\u001b[38;5;4m\u001b[1m[ \u001b[22m\u001b[39m\u001b[38;5;4m\u001b[1mDebug: \u001b[22m\u001b[39m20220320 04:16:31 medium categories: String7[\"movie\", \"music\", \"ona\", \"ova\", \"special\", \"tv\", \"unknown\"]\n",
      "\u001b[38;5;4m\u001b[1m[ \u001b[22m\u001b[39m\u001b[38;5;4m\u001b[1mDebug: \u001b[22m\u001b[39m20220320 04:16:32 source categories: String15[\"4_koma_manga\", \"book\", \"card_game\", \"digital_manga\", \"game\", \"light_novel\", \"manga\", \"mixed_media\", \"music\", \"novel\", \"original\", \"other\", \"picture_book\", \"radio\", \"visual_novel\", \"web_manga\", \"web_novel\"]\n",
      "\u001b[32mProgress: 100%|███████████████████████████| Time: 0:00:00 ( 0.14 ms/it)\u001b[39m\n",
      "\u001b[38;5;4m\u001b[1m[ \u001b[22m\u001b[39m\u001b[38;5;4m\u001b[1mDebug: \u001b[22m\u001b[39m20220320 04:16:33 start_year categories: [1915.0, 1920.0, 1925.0, 1930.0, 1935.0, 1940.0, 1945.0, 1950.0, 1955.0, 1960.0, 1965.0, 1970.0, 1975.0, 1980.0, 1985.0, 1990.0, 1995.0, 2000.0, 2005.0, 2010.0, 2015.0, 2020.0, 2025.0]\n",
      "\u001b[32mProgress: 100%|███████████████████████████| Time: 0:00:09 ( 1.00 μs/it)\u001b[39m\n",
      "\u001b[38;5;4m\u001b[1m[ \u001b[22m\u001b[39m\u001b[38;5;4m\u001b[1mDebug: \u001b[22m\u001b[39m20220320 04:16:49 end_year categories: [1915.0, 1920.0, 1925.0, 1930.0, 1935.0, 1940.0, 1945.0, 1950.0, 1955.0, 1960.0, 1965.0, 1970.0, 1975.0, 1980.0, 1985.0, 1990.0, 1995.0, 2000.0, 2005.0, 2010.0, 2015.0, 2020.0, 2025.0]\n",
      "\u001b[32mProgress: 100%|███████████████████████████| Time: 0:00:09 ( 0.99 μs/it)\u001b[39m\n",
      "\u001b[38;5;4m\u001b[1m[ \u001b[22m\u001b[39m\u001b[38;5;4m\u001b[1mDebug: \u001b[22m\u001b[39m20220320 04:17:05 nsfw categories: String7[\"gray\", \"white\"]\n",
      "\u001b[32mProgress: 100%|███████████████████████████| Time: 0:00:09 ( 0.95 μs/it)\u001b[39m\n",
      "\u001b[38;5;4m\u001b[1m[ \u001b[22m\u001b[39m\u001b[38;5;4m\u001b[1mDebug: \u001b[22m\u001b[39m20220320 04:17:19 medium categories: String7[\"movie\", \"music\", \"ona\", \"ova\", \"special\", \"tv\", \"unknown\"]\n",
      "\u001b[32mProgress: 100%|███████████████████████████| Time: 0:00:09 ( 0.97 μs/it)\u001b[39m\n",
      "\u001b[38;5;4m\u001b[1m[ \u001b[22m\u001b[39m\u001b[38;5;4m\u001b[1mDebug: \u001b[22m\u001b[39m20220320 04:17:34 num_episodes categories: [0.0, 1.0, 2.0, 3.0, 4.0, 5.0, 6.0, 13.0, 26.0, 52.0, 100.0]\n",
      "\u001b[32mProgress: 100%|███████████████████████████| Time: 0:00:09 ( 0.96 μs/it)\u001b[39m\n",
      "\u001b[38;5;4m\u001b[1m[ \u001b[22m\u001b[39m\u001b[38;5;4m\u001b[1mDebug: \u001b[22m\u001b[39m20220320 04:17:49 source categories: String15[\"4_koma_manga\", \"book\", \"card_game\", \"digital_manga\", \"game\", \"light_novel\", \"manga\", \"mixed_media\", \"music\", \"novel\", \"original\", \"other\", \"picture_book\", \"radio\", \"visual_novel\", \"web_manga\", \"web_novel\"]\n",
      "\u001b[32mProgress: 100%|███████████████████████████| Time: 0:00:09 ( 0.95 μs/it)\u001b[39m\n",
      "\u001b[38;5;4m\u001b[1m[ \u001b[22m\u001b[39m\u001b[38;5;4m\u001b[1mDebug: \u001b[22m\u001b[39m20220320 04:18:05 average_episode_duration categories: [0.0, 600.0, 1200.0, 1800.0, 3600.0, 5400.0, 7200.0, 9000.0, 10800.0]\n",
      "\u001b[32mProgress: 100%|███████████████████████████| Time: 0:00:09 ( 0.97 μs/it)\u001b[39m\n",
      "\u001b[38;5;4m\u001b[1m[ \u001b[22m\u001b[39m\u001b[38;5;4m\u001b[1mDebug: \u001b[22m\u001b[39m20220320 04:18:21 average bst magnitude: 0.121711984, 0.16654216\n"
     ]
    }
   ],
   "source": [
    "compute_alpha()"
   ]
  }
 ],
 "metadata": {
  "kernelspec": {
   "display_name": "Julia 1.6.3",
   "language": "julia",
   "name": "julia-1.6"
  },
  "language_info": {
   "file_extension": ".jl",
   "mimetype": "application/julia",
   "name": "julia",
   "version": "1.6.3"
  }
 },
 "nbformat": 4,
 "nbformat_minor": 5
}
