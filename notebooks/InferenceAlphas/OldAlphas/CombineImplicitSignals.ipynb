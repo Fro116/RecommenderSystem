{
 "cells": [
  {
   "cell_type": "code",
   "execution_count": 1,
   "id": "c7a9cc07-4942-4597-9cca-449076d55ee3",
   "metadata": {},
   "outputs": [],
   "source": [
    "source = \"CombineImplicitSignals\";"
   ]
  },
  {
   "cell_type": "code",
   "execution_count": 2,
   "id": "df1985d4-a4cc-41de-8abb-3916a8feae14",
   "metadata": {},
   "outputs": [],
   "source": [
    "using NBInclude\n",
    "@nbinclude(\"Alpha.ipynb\");"
   ]
  },
  {
   "cell_type": "code",
   "execution_count": 3,
   "id": "6a3665fe-72a6-4cf3-8ec9-98dad382a29f",
   "metadata": {},
   "outputs": [],
   "source": [
    "function compute_alpha()\n",
    "    params = read_params(source)\n",
    "    X = zeros(num_items())\n",
    "\n",
    "    @showprogress for i = 1:length(params[\"alphas\"])\n",
    "        X += read_recommendee_alpha(params[\"alphas\"][i]).rating * params[\"β\"][i]\n",
    "    end\n",
    "\n",
    "    @showprogress for i = 1:length(params[\"priors\"])\n",
    "        X += params[\"priors\"][i] * params[\"β\"][i+length(params[\"alphas\"])]\n",
    "    end\n",
    "\n",
    "    X = X / sum(X) # correct for floating point errors   \n",
    "    model(items) = X[items]\n",
    "    write_recommendee_alpha(model)\n",
    "end;"
   ]
  },
  {
   "cell_type": "code",
   "execution_count": 4,
   "id": "e22973c7-9c78-4e1c-86c3-599b001eadab",
   "metadata": {},
   "outputs": [
    {
     "name": "stderr",
     "output_type": "stream",
     "text": [
      "\u001b[32mProgress:  50%|████████████████████▌                    |  ETA: 0:00:01\u001b[39m"
     ]
    },
    {
     "ename": "LoadError",
     "evalue": "ArgumentError: No file exists at given path: ../../data/recommendations/Fro116/alphas/GNN.Implicit.1/alpha.jld2",
     "output_type": "error",
     "traceback": [
      "ArgumentError: No file exists at given path: ../../data/recommendations/Fro116/alphas/GNN.Implicit.1/alpha.jld2",
      "",
      "Stacktrace:",
      "  [1] checkpath_load",
      "    @ ~/.julia/packages/FileIO/QkYgA/src/loadsave.jl:167 [inlined]",
      "  [2] load(::String; options::Base.Iterators.Pairs{Union{}, Union{}, Tuple{}, NamedTuple{(), Tuple{}}})",
      "    @ FileIO ~/.julia/packages/FileIO/QkYgA/src/loadsave.jl:110",
      "  [3] load",
      "    @ ~/.julia/packages/FileIO/QkYgA/src/loadsave.jl:110 [inlined]",
      "  [4] read_recommendee_alpha(alpha::String)",
      "    @ Main ~/RecommenderSystem/notebooks/ProductionAlphas/Alpha.ipynb:In[+8]:2",
      "  [5] macro expansion",
      "    @ ./In[3]:6 [inlined]",
      "  [6] macro expansion",
      "    @ ~/.julia/packages/ProgressMeter/Vf8un/src/ProgressMeter.jl:940 [inlined]",
      "  [7] compute_alpha()",
      "    @ Main ./In[3]:5",
      "  [8] top-level scope",
      "    @ In[4]:1",
      "  [9] eval",
      "    @ ./boot.jl:360 [inlined]",
      " [10] include_string(mapexpr::typeof(REPL.softscope), mod::Module, code::String, filename::String)",
      "    @ Base ./loading.jl:1116"
     ]
    }
   ],
   "source": [
    "compute_alpha()"
   ]
  }
 ],
 "metadata": {
  "kernelspec": {
   "display_name": "Julia 1.6.3",
   "language": "julia",
   "name": "julia-1.6"
  },
  "language_info": {
   "file_extension": ".jl",
   "mimetype": "application/julia",
   "name": "julia",
   "version": "1.6.3"
  }
 },
 "nbformat": 4,
 "nbformat_minor": 5
}
