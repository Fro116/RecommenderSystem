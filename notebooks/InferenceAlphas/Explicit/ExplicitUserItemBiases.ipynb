{
 "cells": [
  {
   "cell_type": "markdown",
   "id": "c3758ece-9b72-47b4-ae6a-aa364e0443e3",
   "metadata": {},
   "source": [
    "# User Item Biases\n",
    "* See the corresponding file in `../../TrainingAlphas` for more details"
   ]
  },
  {
   "cell_type": "code",
   "execution_count": null,
   "id": "7cc9334a-2287-41d6-885b-a5cca94fe263",
   "metadata": {},
   "outputs": [],
   "source": [
    "source = \"ExplicitUserItemBiases\";"
   ]
  },
  {
   "cell_type": "code",
   "execution_count": null,
   "id": "df87db6f-667c-4bc2-9d48-7f4debe6750f",
   "metadata": {
    "tags": []
   },
   "outputs": [],
   "source": [
    "import NBInclude: @nbinclude\n",
    "@nbinclude(\"../Alpha.ipynb\");\n",
    "@nbinclude(\"../../TrainingAlphas/Explicit/ExplicitUserItemBiasesBase.ipynb\");"
   ]
  },
  {
   "cell_type": "code",
   "execution_count": null,
   "id": "d0371f61-27bf-4f52-b822-d060f7be01b3",
   "metadata": {},
   "outputs": [],
   "source": [
    "function train_model(training, λ, μ, a)\n",
    "    λ_u, _, λ_wu, λ_wa = λ\n",
    "    @info \"training model with parameters [$λ_u, $λ_wu, $λ_wa]\"\n",
    "    users, items, ratings = training.user, training.item, training.rating\n",
    "    weights =\n",
    "        powerdecay(length(training.item), log(λ_wu)) .* powerdecay(\n",
    "            get_counts(\"training\", false; by_item = true, per_rating = false)[training.item],\n",
    "            log(λ_wa),\n",
    "        )\n",
    "    u = zeros(eltype(λ_u), maximum(users))\n",
    "    ρ_u = zeros(eltype(u), length(u), Threads.nthreads())\n",
    "    Ω_u = zeros(eltype(u), length(u), Threads.nthreads())\n",
    "    update_users!(users, items, ratings, weights, u, a, λ_u, ρ_u, Ω_u; μ = μ)\n",
    "    u\n",
    "end;"
   ]
  },
  {
   "cell_type": "code",
   "execution_count": null,
   "id": "b691e318-01d3-416e-8f1c-faa75f694f8a",
   "metadata": {},
   "outputs": [],
   "source": [
    "function compute_alpha()\n",
    "    training = get_recommendee_split(false)\n",
    "    params = read_params(source)\n",
    "    u = train_model(training, params[\"λ\"], mean(params[\"u\"]), params[\"a\"])\n",
    "    @info u\n",
    "    preds = make_prediction(fill(1, num_items()), collect(1:num_items()), u, params[\"a\"])\n",
    "    write_recommendee_alpha(preds, source)\n",
    "end;"
   ]
  },
  {
   "cell_type": "code",
   "execution_count": null,
   "id": "e52b5f43-77a8-4da8-8d7e-4225626942e9",
   "metadata": {},
   "outputs": [],
   "source": [
    "compute_alpha();"
   ]
  }
 ],
 "metadata": {
  "kernelspec": {
   "display_name": "Julia 1.8.0-rc1",
   "language": "julia",
   "name": "julia-1.8"
  },
  "language_info": {
   "file_extension": ".jl",
   "mimetype": "application/julia",
   "name": "julia",
   "version": "1.8.0"
  }
 },
 "nbformat": 4,
 "nbformat_minor": 5
}
