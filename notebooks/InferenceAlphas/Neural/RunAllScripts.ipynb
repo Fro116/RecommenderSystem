{
 "cells": [
  {
   "cell_type": "code",
   "execution_count": null,
   "id": "7df9b9d0-f4e3-4db9-b67d-799c100e8ab9",
   "metadata": {},
   "outputs": [],
   "source": [
    "import os\n",
    "\n",
    "import papermill as pm"
   ]
  },
  {
   "cell_type": "code",
   "execution_count": null,
   "id": "1f0017b5-ab6d-4f56-9351-e8cf36a71d8c",
   "metadata": {
    "tags": [
     "parameters"
    ]
   },
   "outputs": [],
   "source": [
    "username = \"\"\n",
    "outdir = \"\""
   ]
  },
  {
   "cell_type": "code",
   "execution_count": null,
   "id": "0e171cbf-f30a-48bd-8657-47fa6c74c61e",
   "metadata": {},
   "outputs": [],
   "source": [
    "ALL_TASKS = [\"random\", \"causal\", \"temporal\"]"
   ]
  },
  {
   "cell_type": "code",
   "execution_count": null,
   "id": "58e8d146-da94-4334-8b78-80453cee9e31",
   "metadata": {},
   "outputs": [],
   "source": [
    "def run_notebook(script):\n",
    "    for task in ALL_TASKS:\n",
    "        task_outdir = os.path.join(outdir, task)\n",
    "        if not os.path.exists(task_outdir):\n",
    "            os.makedirs(task_outdir, exist_ok=True)\n",
    "        pm.execute_notebook(\n",
    "            script,\n",
    "            os.path.join(task_outdir, script),\n",
    "            parameters=dict(username = username, task=task),\n",
    "        )"
   ]
  },
  {
   "cell_type": "code",
   "execution_count": null,
   "id": "c97e085b-9cf2-4131-b443-86d442b70001",
   "metadata": {
    "tags": []
   },
   "outputs": [],
   "source": [
    "run_notebook(\"Neural.ipynb\")"
   ]
  },
  {
   "cell_type": "code",
   "execution_count": null,
   "id": "f7cd304b-1d38-442c-86c8-fd54301afe05",
   "metadata": {},
   "outputs": [],
   "source": [
    "print(\"Success!\")"
   ]
  }
 ],
 "metadata": {
  "kernelspec": {
   "display_name": "Python 3 (ipykernel)",
   "language": "python",
   "name": "python3"
  },
  "language_info": {
   "codemirror_mode": {
    "name": "ipython",
    "version": 3
   },
   "file_extension": ".py",
   "mimetype": "text/x-python",
   "name": "python",
   "nbconvert_exporter": "python",
   "pygments_lexer": "ipython3",
   "version": "3.10.6"
  }
 },
 "nbformat": 4,
 "nbformat_minor": 5
}
