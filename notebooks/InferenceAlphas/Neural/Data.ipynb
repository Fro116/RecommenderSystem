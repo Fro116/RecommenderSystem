{
 "cells": [
  {
   "cell_type": "markdown",
   "id": "0a267fa3-cdb3-4a96-affc-6f03ee3fa040",
   "metadata": {},
   "source": [
    "# Data\n",
    "* See the corresponding file in `../../TrainingAlphas` for more details"
   ]
  },
  {
   "cell_type": "code",
   "execution_count": null,
   "id": "40eeb20d-34ff-4185-8f60-1cc0588d13de",
   "metadata": {},
   "outputs": [],
   "source": [
    "function recommendee_explicit_inputs(residual_alphas::Vector{String}, task::String)\n",
    "    df = get_recommendee_split(\"explicit\")\n",
    "    residual = read_recommendee_alpha(residual_alphas, task, \"explicit\", false)\n",
    "    inputs = zeros(Float32, num_items())\n",
    "    inputs[df.item] .= df.rating - residual.rating\n",
    "    inputs\n",
    "end;"
   ]
  },
  {
   "cell_type": "code",
   "execution_count": null,
   "id": "e5c7e39a-c980-49ac-94c8-d80d6ae8979c",
   "metadata": {},
   "outputs": [],
   "source": [
    "function recommendee_explicit_validity()\n",
    "    df = get_recommendee_split(\"explicit\")\n",
    "    inputs = zeros(Float32, num_items())\n",
    "    inputs[df.item] .= 1\n",
    "    inputs\n",
    "end;"
   ]
  },
  {
   "cell_type": "code",
   "execution_count": null,
   "id": "fa88bcff-05f4-4a33-9746-e8a50d58a6db",
   "metadata": {},
   "outputs": [],
   "source": [
    "function recommendee_implicit_inputs()\n",
    "    df = get_recommendee_split(\"implicit\")\n",
    "    inputs = zeros(Float32, num_items())\n",
    "    inputs[df.item] .= df.rating\n",
    "    inputs\n",
    "end;"
   ]
  },
  {
   "cell_type": "code",
   "execution_count": null,
   "id": "4471e3ce-1009-4ebd-bda1-9c70651f6591",
   "metadata": {},
   "outputs": [],
   "source": [
    "function recommendee_explicit_implicit_inputs(residual_alphas::Vector{String}, task::String)\n",
    "    vcat(\n",
    "        recommendee_explicit_inputs(residual_alphas, task),\n",
    "        recommendee_explicit_validity(),\n",
    "        recommendee_implicit_inputs(),\n",
    "    )\n",
    "end;"
   ]
  },
  {
   "cell_type": "code",
   "execution_count": null,
   "id": "5ee5721b-8aed-4326-8963-e81aad9823dd",
   "metadata": {},
   "outputs": [],
   "source": [
    "function get_recommendee_inputs(hyp, task)\n",
    "    if hyp.input_data == \"one_hot\"\n",
    "        return Float32[1]\n",
    "    elseif hyp.input_data == \"explicit\"\n",
    "        return recommendee_explicit_inputs(hyp.input_alphas, task)\n",
    "    elseif hyp.input_data == \"implicit\"\n",
    "        return recommendee_implicit_inputs()\n",
    "    elseif hyp.input_data == \"explicit_implicit\"\n",
    "        return recommendee_explicit_implicit_inputs(hyp.input_alphas, task)\n",
    "    else\n",
    "        @assert false\n",
    "    end\n",
    "end;"
   ]
  }
 ],
 "metadata": {
  "kernelspec": {
   "display_name": "Julia 1.8.3",
   "language": "julia",
   "name": "julia-1.8"
  },
  "language_info": {
   "file_extension": ".jl",
   "mimetype": "application/julia",
   "name": "julia",
   "version": "1.8.3"
  }
 },
 "nbformat": 4,
 "nbformat_minor": 5
}
