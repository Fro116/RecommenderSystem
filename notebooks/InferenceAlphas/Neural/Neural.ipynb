{
 "cells": [
  {
   "cell_type": "markdown",
   "id": "0a267fa3-cdb3-4a96-affc-6f03ee3fa040",
   "metadata": {},
   "source": [
    "# Neural\n",
    "* See the corresponding file in `../../TrainingAlphas` for more details"
   ]
  },
  {
   "cell_type": "code",
   "execution_count": null,
   "id": "d47f2c65-9add-4db8-ae90-94ec7b96367a",
   "metadata": {},
   "outputs": [],
   "source": [
    "source_name = \"Neural\";"
   ]
  },
  {
   "cell_type": "code",
   "execution_count": null,
   "id": "a3f3bee8-6535-49b7-b0ae-d3fc19a73cbb",
   "metadata": {
    "tags": []
   },
   "outputs": [],
   "source": [
    "using Flux\n",
    "import CUDA\n",
    "import NBInclude: @nbinclude\n",
    "@nbinclude(\"../Alpha.ipynb\")\n",
    "@nbinclude(\"../../TrainingAlphas/Neural/Helpers/Hyperparameters.ipynb\")\n",
    "@nbinclude(\"../../TrainingAlphas/Neural/Helpers/Models.ipynb\")\n",
    "@nbinclude(\"Data.ipynb\");"
   ]
  },
  {
   "cell_type": "code",
   "execution_count": null,
   "id": "ce6c7d84-10a7-47e8-878b-a0649e2b2e2b",
   "metadata": {},
   "outputs": [],
   "source": [
    "function compute_alpha(source)\n",
    "    @info \"computing alpha $source\"\n",
    "    params = read_params(source)\n",
    "    m = params[\"m\"]\n",
    "    if source in [\"NeuralImplicitItemBiases\", \"NeuralPtwItemBiases\"]\n",
    "        @warn \"overwriting zero_reshape layer for $source\"\n",
    "        m = Chain(zero_reshape, m[2:end]...)\n",
    "    end\n",
    "    inputs = get_recommendee_inputs(params[\"hyp\"])\n",
    "    activation = params[\"hyp\"].implicit ? softmax : identity\n",
    "    preds = vec(activation(m(inputs)))\n",
    "    write_recommendee_alpha(preds, source)\n",
    "end;"
   ]
  },
  {
   "cell_type": "code",
   "execution_count": null,
   "id": "be3dce23-13e1-4739-846f-11d94db145e8",
   "metadata": {},
   "outputs": [],
   "source": [
    "for content in [\"implicit\", \"ptw\"]\n",
    "    compute_alpha(\"Neural$(uppercasefirst(content))ItemBiases\")\n",
    "end"
   ]
  },
  {
   "cell_type": "code",
   "execution_count": null,
   "id": "b760c892-3765-4c0c-89cd-14899a4d8bb9",
   "metadata": {},
   "outputs": [],
   "source": [
    "for content in [\"explicit\", \"implicit\"] # TODO \"ptw\"\n",
    "    compute_alpha(\"Neural$(uppercasefirst(content))Autoencoder\")\n",
    "end"
   ]
  },
  {
   "cell_type": "code",
   "execution_count": null,
   "id": "bf396081-393d-4ecb-96c4-e7efcc8b47ee",
   "metadata": {},
   "outputs": [],
   "source": [
    "for content in [\"explicit\"]\n",
    "    compute_alpha(\"Neural$(uppercasefirst(content))ItemCFUntuned\")\n",
    "end"
   ]
  }
 ],
 "metadata": {
  "kernelspec": {
   "display_name": "Julia 1.8.2",
   "language": "julia",
   "name": "julia-1.8"
  },
  "language_info": {
   "file_extension": ".jl",
   "mimetype": "application/julia",
   "name": "julia",
   "version": "1.8.2"
  }
 },
 "nbformat": 4,
 "nbformat_minor": 5
}
