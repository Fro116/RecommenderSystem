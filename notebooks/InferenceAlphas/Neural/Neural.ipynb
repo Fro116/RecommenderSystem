{
 "cells": [
  {
   "cell_type": "markdown",
   "id": "0a267fa3-cdb3-4a96-affc-6f03ee3fa040",
   "metadata": {},
   "source": [
    "# Neural\n",
    "* See the corresponding file in `../../TrainingAlphas` for more details"
   ]
  },
  {
   "cell_type": "code",
   "execution_count": null,
   "id": "d47f2c65-9add-4db8-ae90-94ec7b96367a",
   "metadata": {},
   "outputs": [],
   "source": [
    "source = \"Neural\";"
   ]
  },
  {
   "cell_type": "code",
   "execution_count": null,
   "id": "a3f3bee8-6535-49b7-b0ae-d3fc19a73cbb",
   "metadata": {
    "tags": []
   },
   "outputs": [],
   "source": [
    "import NBInclude: @nbinclude\n",
    "@nbinclude(\"../Alpha.ipynb\")\n",
    "@nbinclude(\"../../TrainingAlphas/Neural/NeuralNetworkBase.ipynb\")\n",
    "@nbinclude(\"Data.ipynb\");"
   ]
  },
  {
   "cell_type": "code",
   "execution_count": null,
   "id": "ce6c7d84-10a7-47e8-878b-a0649e2b2e2b",
   "metadata": {},
   "outputs": [],
   "source": [
    "function compute_alpha(source)\n",
    "    @info \"computing alpha $source\"\n",
    "    params = read_params(source)\n",
    "    m = params[\"m\"]\n",
    "    inputs = get_recommendee_inputs(params[\"hyp\"])\n",
    "    activation = params[\"hyp\"].implicit ? softmax : identity\n",
    "    preds = activation(m(inputs))\n",
    "    write_recommendee_alpha(preds, source)\n",
    "end;"
   ]
  },
  {
   "cell_type": "code",
   "execution_count": null,
   "id": "0b86d4a9-55f2-424e-ac49-7d3db140648c",
   "metadata": {
    "tags": []
   },
   "outputs": [],
   "source": [
    "function compute_alpha()\n",
    "    compute_alpha(\"NeuralExplicitAutoencoder\")\n",
    "    compute_alpha(\"NeuralImplicitAutoencoder\")\n",
    "    compute_alpha(\"NeuralExplicitItemCF\")\n",
    "    compute_alpha(\"NeuralImplicitItemCF\")  \n",
    "    \n",
    "    compute_alpha(\"NeuralExplicitAutoencoderUntuned\")\n",
    "    compute_alpha(\"NeuralImplicitAutoencoderUntuned\")    \n",
    "    compute_alpha(\"NeuralExplicitItemCFUntuned\")\n",
    "    compute_alpha(\"NeuralImplicitItemCFUntuned\") \n",
    "    compute_alpha(\"NeuralExplicitEaseUntuned\")\n",
    "    compute_alpha(\"NeuralImplicitEaseUntuned\")    \n",
    "end;"
   ]
  },
  {
   "cell_type": "code",
   "execution_count": null,
   "id": "59d867fd-9a23-4870-aadf-0138bb678fca",
   "metadata": {},
   "outputs": [],
   "source": [
    "compute_alpha();"
   ]
  }
 ],
 "metadata": {
  "kernelspec": {
   "display_name": "Julia 1.8.0-rc1",
   "language": "julia",
   "name": "julia-1.8"
  },
  "language_info": {
   "file_extension": ".jl",
   "mimetype": "application/julia",
   "name": "julia",
   "version": "1.8.0"
  }
 },
 "nbformat": 4,
 "nbformat_minor": 5
}
