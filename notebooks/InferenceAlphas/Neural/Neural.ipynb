{
 "cells": [
  {
   "cell_type": "markdown",
   "id": "0a267fa3-cdb3-4a96-affc-6f03ee3fa040",
   "metadata": {},
   "source": [
    "# Neural\n",
    "* See the corresponding file in `../../TrainingAlphas` for more details"
   ]
  },
  {
   "cell_type": "code",
   "execution_count": null,
   "id": "d47f2c65-9add-4db8-ae90-94ec7b96367a",
   "metadata": {},
   "outputs": [],
   "source": [
    "source_name = \"Neural\";"
   ]
  },
  {
   "cell_type": "code",
   "execution_count": null,
   "id": "838fe4d8-cffa-40fb-a0ab-d34edc6d9fcd",
   "metadata": {
    "tags": [
     "parameters"
    ]
   },
   "outputs": [],
   "source": [
    "username = \"\"\n",
    "task = \"\""
   ]
  },
  {
   "cell_type": "code",
   "execution_count": null,
   "id": "a3f3bee8-6535-49b7-b0ae-d3fc19a73cbb",
   "metadata": {
    "tags": []
   },
   "outputs": [],
   "source": [
    "using CUDA\n",
    "using Flux\n",
    "import Functors: @functor\n",
    "import NBInclude: @nbinclude\n",
    "@nbinclude(\"../Alpha.ipynb\")\n",
    "@nbinclude(\"../../TrainingAlphas/Neural/Helpers/Hyperparameters.ipynb\")\n",
    "@nbinclude(\"../../TrainingAlphas/Neural/Helpers/Models.ipynb\")\n",
    "@nbinclude(\"Data.ipynb\");"
   ]
  },
  {
   "cell_type": "code",
   "execution_count": null,
   "id": "ce6c7d84-10a7-47e8-878b-a0649e2b2e2b",
   "metadata": {},
   "outputs": [],
   "source": [
    "function compute_alpha(source)\n",
    "    @info \"computing alpha $source\"\n",
    "    params = read_params(source)\n",
    "    m = params[\"m\"]\n",
    "    inputs = get_recommendee_inputs(params[\"hyp\"], task)\n",
    "    activation = params[\"hyp\"].implicit ? softmax : identity\n",
    "    preds = vec(activation(m(inputs)))\n",
    "    write_recommendee_alpha(preds, source)\n",
    "end;"
   ]
  },
  {
   "cell_type": "code",
   "execution_count": null,
   "id": "b760c892-3765-4c0c-89cd-14899a4d8bb9",
   "metadata": {},
   "outputs": [],
   "source": [
    "for content in [\"explicit\", \"implicit\"]\n",
    "    compute_alpha(\"$task/Neural$(uppercasefirst(content))AutoencoderUntuned\")\n",
    "end"
   ]
  },
  {
   "cell_type": "code",
   "execution_count": null,
   "id": "bf396081-393d-4ecb-96c4-e7efcc8b47ee",
   "metadata": {},
   "outputs": [],
   "source": [
    "compute_alpha(\"$task/NeuralExplicitItemCFUntuned\")"
   ]
  },
  {
   "cell_type": "code",
   "execution_count": null,
   "id": "eb28ec8a-f0a9-47fc-a698-09a9db2a4436",
   "metadata": {},
   "outputs": [],
   "source": [
    "compute_alpha(\"$task/NeuralImplicitEaseUntuned\")"
   ]
  }
 ],
 "metadata": {
  "kernelspec": {
   "display_name": "Julia 1.8.3",
   "language": "julia",
   "name": "julia-1.8"
  },
  "language_info": {
   "file_extension": ".jl",
   "mimetype": "application/julia",
   "name": "julia",
   "version": "1.8.3"
  }
 },
 "nbformat": 4,
 "nbformat_minor": 5
}
