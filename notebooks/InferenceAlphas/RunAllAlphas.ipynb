{
 "cells": [
  {
   "cell_type": "markdown",
   "id": "a2559ebd-296e-421f-9421-9e613ddc3c8a",
   "metadata": {},
   "source": [
    "# Run All alphas"
   ]
  },
  {
   "cell_type": "code",
   "execution_count": 1,
   "id": "855dd425-8d9c-42c0-8d3e-0d38d0f79300",
   "metadata": {},
   "outputs": [],
   "source": [
    "import NBInclude: @nbinclude"
   ]
  },
  {
   "cell_type": "code",
   "execution_count": 2,
   "id": "9aa42492-3353-4850-a561-d3ce0d7f6946",
   "metadata": {},
   "outputs": [],
   "source": [
    "@nbinclude(\"ResetAlphas.ipynb\");"
   ]
  },
  {
   "cell_type": "code",
   "execution_count": 3,
   "id": "c619d675-5893-4e5f-9130-46b2c20b92cc",
   "metadata": {},
   "outputs": [],
   "source": [
    "@nbinclude(\"SimpleAverage.ipynb\");"
   ]
  },
  {
   "cell_type": "code",
   "execution_count": 4,
   "id": "4e3ba61e-e278-4ec3-91ad-201d438d011a",
   "metadata": {},
   "outputs": [],
   "source": [
    "@nbinclude(\"SimpleExplicitBaseline.ipynb\");"
   ]
  },
  {
   "cell_type": "code",
   "execution_count": 5,
   "id": "9ebcd1c3-9c48-454b-95d0-bbea11e625fc",
   "metadata": {},
   "outputs": [],
   "source": [
    "@nbinclude(\"SimpleImplicitBaseline.ipynb\");"
   ]
  },
  {
   "cell_type": "code",
   "execution_count": null,
   "id": "6874c9e2-ba99-4a52-aa84-de624f5f6ac2",
   "metadata": {},
   "outputs": [],
   "source": []
  }
 ],
 "metadata": {
  "kernelspec": {
   "display_name": "Julia 1.8.0-rc1",
   "language": "julia",
   "name": "julia-1.8"
  },
  "language_info": {
   "file_extension": ".jl",
   "mimetype": "application/julia",
   "name": "julia",
   "version": "1.8.0"
  }
 },
 "nbformat": 4,
 "nbformat_minor": 5
}
