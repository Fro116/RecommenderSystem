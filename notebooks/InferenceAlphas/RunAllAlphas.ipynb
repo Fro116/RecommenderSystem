{
 "cells": [
  {
   "cell_type": "markdown",
   "id": "a2559ebd-296e-421f-9421-9e613ddc3c8a",
   "metadata": {},
   "source": [
    "# Run All alphas"
   ]
  },
  {
   "cell_type": "code",
   "execution_count": 1,
   "id": "855dd425-8d9c-42c0-8d3e-0d38d0f79300",
   "metadata": {},
   "outputs": [],
   "source": [
    "import NBInclude: @nbinclude"
   ]
  },
  {
   "cell_type": "code",
   "execution_count": 2,
   "id": "9aa42492-3353-4850-a561-d3ce0d7f6946",
   "metadata": {},
   "outputs": [],
   "source": [
    "@nbinclude(\"ResetAlphas.ipynb\");"
   ]
  },
  {
   "cell_type": "code",
   "execution_count": 3,
   "id": "44c375d7-d4cc-4d9c-97ce-d036c69526b7",
   "metadata": {},
   "outputs": [
    {
     "name": "stderr",
     "output_type": "stream",
     "text": [
      "\u001b[38;5;6m\u001b[1m[ \u001b[22m\u001b[39m\u001b[38;5;6m\u001b[1mInfo: \u001b[22m\u001b[39m20220618 20:47:54 computing alpha NeuralExplicitUserItemBiases\n",
      "\u001b[32mProgress: 100%|█████████████████████████████████████████| Time: 0:01:07\u001b[39m\n",
      "\u001b[38;5;6m\u001b[1m[ \u001b[22m\u001b[39m\u001b[38;5;6m\u001b[1mInfo: \u001b[22m\u001b[39m20220618 20:49:06 computing alpha NeuralImplicitUserItemBiases\n"
     ]
    },
    {
     "name": "stdout",
     "output_type": "stream",
     "text": [
      "Iter     Function value   Gradient norm \n",
      "     0     9.849667e+00     0.000000e+00\n",
      " * time: 0.008501052856445312\n"
     ]
    },
    {
     "name": "stderr",
     "output_type": "stream",
     "text": [
      "\u001b[38;5;6m\u001b[1m[ \u001b[22m\u001b[39m\u001b[38;5;6m\u001b[1mInfo: \u001b[22m\u001b[39m20220618 20:49:18 computing alpha NeuralExplicitMatrixFactorization\n",
      "\u001b[32mProgress: 100%|█████████████████████████████████████████| Time: 0:00:02\u001b[39m\n",
      "\u001b[38;5;6m\u001b[1m[ \u001b[22m\u001b[39m\u001b[38;5;6m\u001b[1mInfo: \u001b[22m\u001b[39m20220618 20:49:21 computing alpha NeuralImplicitMatrixFactorization\n"
     ]
    },
    {
     "name": "stdout",
     "output_type": "stream",
     "text": [
      "Iter     Function value   Gradient norm \n",
      "     0     7.866368e+00     3.492808e-01\n",
      " * time: 2.7894973754882812e-5\n",
      "     1     7.534700e+00     1.322128e-01\n",
      " * time: 0.584136962890625\n",
      "     2     7.442744e+00     4.278617e-02\n",
      " * time: 1.1401419639587402\n",
      "     3     7.415466e+00     1.126432e-02\n",
      " * time: 1.7035810947418213\n",
      "     4     7.409862e+00     3.949660e-03\n",
      " * time: 2.2210419178009033\n",
      "     5     7.407974e+00     1.255889e-03\n",
      " * time: 2.8233439922332764\n",
      "     6     7.407395e+00     3.691816e-04\n",
      " * time: 3.404402017593384\n",
      "     7     7.407246e+00     1.358968e-04\n",
      " * time: 3.9223098754882812\n",
      "     8     7.407190e+00     5.112632e-05\n",
      " * time: 4.504019021987915\n",
      "     9     7.407169e+00     2.053520e-05\n",
      " * time: 5.075422048568726\n",
      "    10     7.407159e+00     8.916975e-06\n",
      " * time: 5.587589979171753\n",
      "    11     7.407155e+00     3.442694e-06\n",
      " * time: 6.182044982910156\n",
      "    12     7.407153e+00     1.426109e-06\n",
      " * time: 6.760324954986572\n",
      "    13     7.407153e+00     6.137319e-07\n",
      " * time: 7.272325038909912\n"
     ]
    },
    {
     "name": "stderr",
     "output_type": "stream",
     "text": [
      "\u001b[32mProgress: 100%|█████████████████████████████████████████| Time: 0:00:14\u001b[39m\n"
     ]
    }
   ],
   "source": [
    "@nbinclude(\"NeuralUserItemBiases.ipynb\");"
   ]
  },
  {
   "cell_type": "code",
   "execution_count": 4,
   "id": "6874c9e2-ba99-4a52-aa84-de624f5f6ac2",
   "metadata": {},
   "outputs": [],
   "source": [
    "@nbinclude(\"LinearModel.ipynb\");"
   ]
  },
  {
   "cell_type": "code",
   "execution_count": 5,
   "id": "2e39153d-76cc-4028-8570-9cb72e74bbb3",
   "metadata": {},
   "outputs": [
    {
     "name": "stderr",
     "output_type": "stream",
     "text": [
      "\u001b[38;5;6m\u001b[1m[ \u001b[22m\u001b[39m\u001b[38;5;6m\u001b[1mInfo: \u001b[22m\u001b[39m20220618 20:49:40 lib_lightgbm not found in system dirs, trying fallback\n"
     ]
    }
   ],
   "source": [
    "@nbinclude(\"NonlinearModel.ipynb\");"
   ]
  },
  {
   "cell_type": "code",
   "execution_count": 6,
   "id": "7da72ff3-cd99-4a99-9fb7-195d78ab4fcf",
   "metadata": {},
   "outputs": [],
   "source": [
    "@nbinclude(\"ErrorModel.ipynb\");"
   ]
  },
  {
   "cell_type": "code",
   "execution_count": 7,
   "id": "7d9664f6-02a2-4598-becd-6f1ef83f5778",
   "metadata": {},
   "outputs": [
    {
     "name": "stderr",
     "output_type": "stream",
     "text": [
      "\u001b[38;5;3m\u001b[1m[ \u001b[22m\u001b[39m\u001b[38;5;3m\u001b[1mWarning: \u001b[22m\u001b[39m20220618 20:49:47 saved type Hyperparams is missing field implicit in workspace type; reconstructing\n",
      "\u001b[32mProgress: 100%|███████████████████████████| Time: 0:00:04 ( 6.01 ms/it)\u001b[39m\n",
      "\u001b[32mProgress: 100%|███████████████████████████| Time: 0:00:01 ( 1.82 ms/it)\u001b[39m\n"
     ]
    }
   ],
   "source": [
    "@nbinclude(\"BPR.ipynb\");"
   ]
  }
 ],
 "metadata": {
  "kernelspec": {
   "display_name": "Julia 1.8.0-rc1",
   "language": "julia",
   "name": "julia-1.8"
  },
  "language_info": {
   "file_extension": ".jl",
   "mimetype": "application/julia",
   "name": "julia",
   "version": "1.8.0"
  }
 },
 "nbformat": 4,
 "nbformat_minor": 5
}
