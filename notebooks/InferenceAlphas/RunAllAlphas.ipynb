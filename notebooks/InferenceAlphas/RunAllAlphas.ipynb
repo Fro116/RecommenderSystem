{
 "cells": [
  {
   "cell_type": "markdown",
   "id": "a2559ebd-296e-421f-9421-9e613ddc3c8a",
   "metadata": {},
   "source": [
    "# Run All alphas"
   ]
  },
  {
   "cell_type": "code",
   "execution_count": null,
   "id": "855dd425-8d9c-42c0-8d3e-0d38d0f79300",
   "metadata": {},
   "outputs": [],
   "source": [
    "import NBInclude: @nbinclude"
   ]
  },
  {
   "cell_type": "code",
   "execution_count": null,
   "id": "9aa42492-3353-4850-a561-d3ce0d7f6946",
   "metadata": {},
   "outputs": [],
   "source": [
    "@nbinclude(\"ResetAlphas.ipynb\");"
   ]
  },
  {
   "cell_type": "code",
   "execution_count": null,
   "id": "269cc068-30c6-4ee6-8420-3ff565b089ca",
   "metadata": {},
   "outputs": [],
   "source": [
    "@assert username == get_recommendee_username()"
   ]
  },
  {
   "cell_type": "markdown",
   "id": "81989a8d-b4b7-44fb-8448-160c816d5027",
   "metadata": {},
   "source": [
    "## Nondirectional"
   ]
  },
  {
   "cell_type": "code",
   "execution_count": null,
   "id": "1a01acb5-5698-4ea8-862f-6930c67eea94",
   "metadata": {},
   "outputs": [],
   "source": [
    "@nbinclude(\"Nondirectional/SeenItemsCount.ipynb\");"
   ]
  },
  {
   "cell_type": "code",
   "execution_count": null,
   "id": "cde922e2-30eb-4a95-a0f5-0e4f28c5669a",
   "metadata": {},
   "outputs": [],
   "source": [
    "@nbinclude(\"Nondirectional/ItemCFRelated.ipynb\");"
   ]
  },
  {
   "cell_type": "markdown",
   "id": "10eaa762-5060-4451-a4c1-cf857d29e599",
   "metadata": {},
   "source": [
    "## Explicit"
   ]
  },
  {
   "cell_type": "code",
   "execution_count": null,
   "id": "57ea7ba5-89d9-468b-bac7-508eed73e7d9",
   "metadata": {},
   "outputs": [],
   "source": [
    "@nbinclude(\"Explicit/ExplicitUserItemBiases.ipynb\");"
   ]
  },
  {
   "cell_type": "code",
   "execution_count": null,
   "id": "1c039371-4eac-4cd2-8fd5-5570053000e5",
   "metadata": {},
   "outputs": [],
   "source": [
    "@nbinclude(\"Explicit/ExplicitItemCF.ipynb\");"
   ]
  },
  {
   "cell_type": "markdown",
   "id": "9789d853-894b-421b-b5ee-a29ca2044436",
   "metadata": {},
   "source": [
    "## Neural"
   ]
  },
  {
   "cell_type": "code",
   "execution_count": null,
   "id": "44c375d7-d4cc-4d9c-97ce-d036c69526b7",
   "metadata": {
    "tags": []
   },
   "outputs": [],
   "source": [
    "@nbinclude(\"Neural/NeuralMF.ipynb\");"
   ]
  },
  {
   "cell_type": "code",
   "execution_count": null,
   "id": "db9cf46d-f07c-4ebc-a4a3-cba1448f7c2a",
   "metadata": {},
   "outputs": [],
   "source": [
    "@nbinclude(\"Neural/Neural.ipynb\");"
   ]
  },
  {
   "cell_type": "markdown",
   "id": "a8841e62-6b81-4e4b-b1b7-a3da193652c7",
   "metadata": {},
   "source": [
    "## Ensemble"
   ]
  },
  {
   "cell_type": "code",
   "execution_count": null,
   "id": "6874c9e2-ba99-4a52-aa84-de624f5f6ac2",
   "metadata": {},
   "outputs": [],
   "source": [
    "@nbinclude(\"Ensemble/LinearModel.ipynb\");"
   ]
  },
  {
   "cell_type": "code",
   "execution_count": null,
   "id": "2e39153d-76cc-4028-8570-9cb72e74bbb3",
   "metadata": {},
   "outputs": [],
   "source": [
    "@nbinclude(\"Ensemble/NonlinearModel.ipynb\");"
   ]
  },
  {
   "cell_type": "code",
   "execution_count": null,
   "id": "7da72ff3-cd99-4a99-9fb7-195d78ab4fcf",
   "metadata": {},
   "outputs": [],
   "source": [
    "@nbinclude(\"Ensemble/ErrorModel.ipynb\");"
   ]
  },
  {
   "cell_type": "code",
   "execution_count": null,
   "id": "7d9664f6-02a2-4598-becd-6f1ef83f5778",
   "metadata": {},
   "outputs": [],
   "source": [
    "@nbinclude(\"Ensemble/BPR.ipynb\");"
   ]
  },
  {
   "cell_type": "code",
   "execution_count": null,
   "id": "5024fe85-7ec6-444d-ac08-2ccdb2319a39",
   "metadata": {},
   "outputs": [],
   "source": [
    "@nbinclude(\"Ensemble/BPRT.ipynb\");"
   ]
  }
 ],
 "metadata": {
  "kernelspec": {
   "display_name": "Julia 1.8.0-rc1",
   "language": "julia",
   "name": "julia-1.8"
  },
  "language_info": {
   "file_extension": ".jl",
   "mimetype": "application/julia",
   "name": "julia",
   "version": "1.8.0"
  }
 },
 "nbformat": 4,
 "nbformat_minor": 5
}
