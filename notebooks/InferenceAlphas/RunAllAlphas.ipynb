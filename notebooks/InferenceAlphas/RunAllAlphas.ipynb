{
 "cells": [
  {
   "cell_type": "markdown",
   "id": "a2559ebd-296e-421f-9421-9e613ddc3c8a",
   "metadata": {},
   "source": [
    "# Run All alphas"
   ]
  },
  {
   "cell_type": "code",
   "execution_count": 1,
   "id": "855dd425-8d9c-42c0-8d3e-0d38d0f79300",
   "metadata": {},
   "outputs": [],
   "source": [
    "import NBInclude: @nbinclude"
   ]
  },
  {
   "cell_type": "code",
   "execution_count": 2,
   "id": "9aa42492-3353-4850-a561-d3ce0d7f6946",
   "metadata": {},
   "outputs": [],
   "source": [
    "@nbinclude(\"ResetAlphas.ipynb\");"
   ]
  },
  {
   "cell_type": "code",
   "execution_count": 3,
   "id": "c619d675-5893-4e5f-9130-46b2c20b92cc",
   "metadata": {},
   "outputs": [],
   "source": [
    "@nbinclude(\"SimpleAverage.ipynb\");"
   ]
  },
  {
   "cell_type": "code",
   "execution_count": 4,
   "id": "4e3ba61e-e278-4ec3-91ad-201d438d011a",
   "metadata": {},
   "outputs": [],
   "source": [
    "@nbinclude(\"SimpleExplicitBaseline.ipynb\");"
   ]
  },
  {
   "cell_type": "code",
   "execution_count": 5,
   "id": "9ebcd1c3-9c48-454b-95d0-bbea11e625fc",
   "metadata": {},
   "outputs": [],
   "source": [
    "@nbinclude(\"SimpleImplicitBaseline.ipynb\");"
   ]
  },
  {
   "cell_type": "code",
   "execution_count": 6,
   "id": "6874c9e2-ba99-4a52-aa84-de624f5f6ac2",
   "metadata": {},
   "outputs": [],
   "source": [
    "@nbinclude(\"LinearModel.ipynb\");"
   ]
  },
  {
   "cell_type": "code",
   "execution_count": 7,
   "id": "2e39153d-76cc-4028-8570-9cb72e74bbb3",
   "metadata": {},
   "outputs": [
    {
     "name": "stderr",
     "output_type": "stream",
     "text": [
      "\u001b[38;5;6m\u001b[1m[ \u001b[22m\u001b[39m\u001b[38;5;6m\u001b[1mInfo: \u001b[22m\u001b[39m20220612 01:12:24 lib_lightgbm found in system dirs!\n"
     ]
    }
   ],
   "source": [
    "@nbinclude(\"NonlinearModel.ipynb\");"
   ]
  },
  {
   "cell_type": "code",
   "execution_count": 8,
   "id": "7da72ff3-cd99-4a99-9fb7-195d78ab4fcf",
   "metadata": {},
   "outputs": [],
   "source": [
    "@nbinclude(\"ErrorModel.ipynb\");"
   ]
  },
  {
   "cell_type": "code",
   "execution_count": 9,
   "id": "7d9664f6-02a2-4598-becd-6f1ef83f5778",
   "metadata": {},
   "outputs": [
    {
     "name": "stderr",
     "output_type": "stream",
     "text": [
      "\u001b[38;5;3m\u001b[1m[ \u001b[22m\u001b[39m\u001b[38;5;3m\u001b[1mWarning: \u001b[22m\u001b[39m20220612 01:12:29 type Main.Hyperparams does not exist in workspace; reconstructing\n",
      "\u001b[32mProgress: 100%|███████████████████████████| Time: 0:00:06 ( 2.57 ms/it)\u001b[39m\n",
      "\u001b[32mProgress: 100%|███████████████████████████| Time: 0:00:00 ( 0.26 ms/it)\u001b[39m\n"
     ]
    }
   ],
   "source": [
    "@nbinclude(\"BPR.ipynb\");"
   ]
  }
 ],
 "metadata": {
  "kernelspec": {
   "display_name": "Julia 1.8.0-rc1",
   "language": "julia",
   "name": "julia-1.8"
  },
  "language_info": {
   "file_extension": ".jl",
   "mimetype": "application/julia",
   "name": "julia",
   "version": "1.8.0"
  }
 },
 "nbformat": 4,
 "nbformat_minor": 5
}
