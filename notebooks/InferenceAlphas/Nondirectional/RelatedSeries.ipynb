{
 "cells": [
  {
   "cell_type": "markdown",
   "id": "c3758ece-9b72-47b4-ae6a-aa364e0443e3",
   "metadata": {},
   "source": [
    "# Related Series\n",
    "* See the corresponding file in `../../TrainingAlphas` for more details"
   ]
  },
  {
   "cell_type": "code",
   "execution_count": null,
   "id": "7cc9334a-2287-41d6-885b-a5cca94fe263",
   "metadata": {},
   "outputs": [],
   "source": [
    "source_name = \"RelatedSeries\";"
   ]
  },
  {
   "cell_type": "code",
   "execution_count": null,
   "id": "df87db6f-667c-4bc2-9d48-7f4debe6750f",
   "metadata": {
    "tags": []
   },
   "outputs": [],
   "source": [
    "import NBInclude: @nbinclude\n",
    "@nbinclude(\"../Alpha.ipynb\");\n",
    "@nbinclude(\"../../TrainingAlphas/Explicit/ExplicitItemCFBase.ipynb\");"
   ]
  },
  {
   "cell_type": "code",
   "execution_count": null,
   "id": "b691e318-01d3-416e-8f1c-faa75f694f8a",
   "metadata": {},
   "outputs": [],
   "source": [
    "function compute_alpha(name)\n",
    "    df = get_recommendee_split(\"implicit\")\n",
    "    x = zeros(Float32, num_items())\n",
    "    x[df.item] .= df.rating\n",
    "    S = read_similarity_matrix(\"$name/similarity_matrix\")\n",
    "    preds = S * x\n",
    "    write_recommendee_alpha(preds, name)\n",
    "end;"
   ]
  },
  {
   "cell_type": "code",
   "execution_count": null,
   "id": "e52b5f43-77a8-4da8-8d7e-4225626942e9",
   "metadata": {
    "tags": []
   },
   "outputs": [],
   "source": [
    "compute_alpha(\"RelatedSeries\");\n",
    "compute_alpha(\"RecapSeries\");"
   ]
  }
 ],
 "metadata": {
  "kernelspec": {
   "display_name": "Julia 1.8.2",
   "language": "julia",
   "name": "julia-1.8"
  },
  "language_info": {
   "file_extension": ".jl",
   "mimetype": "application/julia",
   "name": "julia",
   "version": "1.8.2"
  }
 },
 "nbformat": 4,
 "nbformat_minor": 5
}
