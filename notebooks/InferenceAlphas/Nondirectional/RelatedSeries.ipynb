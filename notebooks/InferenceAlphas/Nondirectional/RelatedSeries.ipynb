{
 "cells": [
  {
   "cell_type": "markdown",
   "id": "c3758ece-9b72-47b4-ae6a-aa364e0443e3",
   "metadata": {
    "papermill": {
     "duration": 0.001195,
     "end_time": "2023-02-11T08:10:38.127358",
     "exception": false,
     "start_time": "2023-02-11T08:10:38.126163",
     "status": "completed"
    },
    "tags": []
   },
   "source": [
    "# Related Series\n",
    "* See the corresponding file in `../../TrainingAlphas` for more details"
   ]
  },
  {
   "cell_type": "code",
   "execution_count": null,
   "id": "7cc9334a-2287-41d6-885b-a5cca94fe263",
   "metadata": {
    "papermill": {
     "duration": 0.009161,
     "end_time": "2023-02-11T08:10:38.137154",
     "exception": false,
     "start_time": "2023-02-11T08:10:38.127993",
     "status": "completed"
    },
    "tags": []
   },
   "outputs": [],
   "source": [
    "source_name = \"RelatedSeries\";"
   ]
  },
  {
   "cell_type": "code",
   "execution_count": null,
   "id": "df87db6f-667c-4bc2-9d48-7f4debe6750f",
   "metadata": {
    "papermill": {
     "duration": 8.334276,
     "end_time": "2023-02-11T08:10:46.472044",
     "exception": false,
     "start_time": "2023-02-11T08:10:38.137768",
     "status": "completed"
    },
    "tags": []
   },
   "outputs": [],
   "source": [
    "import NBInclude: @nbinclude\n",
    "@nbinclude(\"../Alpha.ipynb\");\n",
    "@nbinclude(\"../../TrainingAlphas/Explicit/ExplicitItemCFBase.ipynb\");"
   ]
  },
  {
   "cell_type": "code",
   "execution_count": null,
   "id": "b691e318-01d3-416e-8f1c-faa75f694f8a",
   "metadata": {
    "papermill": {
     "duration": 6.148589,
     "end_time": "2023-02-11T08:10:52.621851",
     "exception": false,
     "start_time": "2023-02-11T08:10:46.473262",
     "status": "completed"
    },
    "tags": []
   },
   "outputs": [],
   "source": [
    "function compute_alpha(name)\n",
    "    df = get_recommendee_split(\"implicit\")\n",
    "    x = zeros(Float32, num_items())\n",
    "    x[df.item] .= df.rating\n",
    "    S = read_similarity_matrix(\"$name/similarity_matrix\")\n",
    "    preds = S * x\n",
    "    write_recommendee_alpha(preds, name)\n",
    "end;"
   ]
  },
  {
   "cell_type": "code",
   "execution_count": null,
   "id": "e52b5f43-77a8-4da8-8d7e-4225626942e9",
   "metadata": {
    "papermill": {
     "duration": 1.238523,
     "end_time": "2023-02-11T08:10:53.861595",
     "exception": true,
     "start_time": "2023-02-11T08:10:52.623072",
     "status": "failed"
    },
    "tags": []
   },
   "outputs": [],
   "source": [
    "compute_alpha(\"all/RelatedSeries\");\n",
    "compute_alpha(\"all/RecapSeries\");"
   ]
  }
 ],
 "metadata": {
  "kernelspec": {
   "display_name": "Julia 1.8.3",
   "language": "julia",
   "name": "julia-1.8"
  },
  "language_info": {
   "file_extension": ".jl",
   "mimetype": "application/julia",
   "name": "julia",
   "version": "1.8.3"
  },
  "papermill": {
   "default_parameters": {},
   "duration": 22.198198,
   "end_time": "2023-02-11T08:10:56.979287",
   "environment_variables": {},
   "exception": true,
   "input_path": "RelatedSeries.ipynb",
   "output_path": "RelatedSeries.ipynb",
   "parameters": {
    "task": "all",
    "username": ""
   },
   "start_time": "2023-02-11T08:10:34.781089",
   "version": "2.4.0"
  }
 },
 "nbformat": 4,
 "nbformat_minor": 5
}
