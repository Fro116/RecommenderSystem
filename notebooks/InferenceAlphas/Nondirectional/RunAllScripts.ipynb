{
 "cells": [
  {
   "cell_type": "code",
   "execution_count": null,
   "id": "7df9b9d0-f4e3-4db9-b67d-799c100e8ab9",
   "metadata": {},
   "outputs": [],
   "source": [
    "import os\n",
    "\n",
    "import papermill as pm"
   ]
  },
  {
   "cell_type": "code",
   "execution_count": null,
   "id": "1f0017b5-ab6d-4f56-9351-e8cf36a71d8c",
   "metadata": {
    "tags": [
     "parameters"
    ]
   },
   "outputs": [],
   "source": [
    "username = \"\"\n",
    "outdir = \"\""
   ]
  },
  {
   "cell_type": "code",
   "execution_count": null,
   "id": "58e8d146-da94-4334-8b78-80453cee9e31",
   "metadata": {},
   "outputs": [],
   "source": [
    "def run_notebook(script):\n",
    "    pm.execute_notebook(\n",
    "        script,\n",
    "        os.path.join(outdir, script),\n",
    "        parameters=dict(username = username, task=\"all\"),\n",
    "    )"
   ]
  },
  {
   "cell_type": "code",
   "execution_count": null,
   "id": "7a54f872-21b7-49c9-bbcb-6e456e14e68a",
   "metadata": {},
   "outputs": [],
   "source": [
    "run_notebook(\"RelatedSeries.ipynb\")"
   ]
  },
  {
   "cell_type": "code",
   "execution_count": null,
   "id": "c97e085b-9cf2-4131-b443-86d442b70001",
   "metadata": {
    "tags": []
   },
   "outputs": [],
   "source": [
    "run_notebook(\"SeenItemsCount.ipynb\")"
   ]
  },
  {
   "cell_type": "code",
   "execution_count": null,
   "id": "77a603be-c28e-4d8f-a749-104c99bc1ad4",
   "metadata": {},
   "outputs": [],
   "source": [
    "run_notebook(\"UserStats.ipynb\")"
   ]
  },
  {
   "cell_type": "code",
   "execution_count": null,
   "id": "f7cd304b-1d38-442c-86c8-fd54301afe05",
   "metadata": {},
   "outputs": [],
   "source": [
    "print(\"Success!\")"
   ]
  }
 ],
 "metadata": {
  "kernelspec": {
   "display_name": "Python 3 (ipykernel)",
   "language": "python",
   "name": "python3"
  },
  "language_info": {
   "codemirror_mode": {
    "name": "ipython",
    "version": 3
   },
   "file_extension": ".py",
   "mimetype": "text/x-python",
   "name": "python",
   "nbconvert_exporter": "python",
   "pygments_lexer": "ipython3",
   "version": "3.10.6"
  }
 },
 "nbformat": 4,
 "nbformat_minor": 5
}
