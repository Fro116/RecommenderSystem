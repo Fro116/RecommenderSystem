{
 "cells": [
  {
   "cell_type": "markdown",
   "id": "b555e651-ad79-434d-ad2d-67e8f0029586",
   "metadata": {},
   "source": [
    "# UserAverage\n",
    "* See the corresponding file in `../../TrainingAlphas` for more details"
   ]
  },
  {
   "cell_type": "code",
   "execution_count": null,
   "id": "a0fa47a7-9f82-42c9-b547-5d6a73a98acd",
   "metadata": {},
   "outputs": [],
   "source": [
    "source = \"UserAverage\";"
   ]
  },
  {
   "cell_type": "code",
   "execution_count": null,
   "id": "a0790666-9530-474f-8198-4b9a6341b174",
   "metadata": {
    "tags": []
   },
   "outputs": [],
   "source": [
    "import NBInclude: @nbinclude\n",
    "import Statistics: mean\n",
    "@nbinclude(\"../Alpha.ipynb\");"
   ]
  },
  {
   "cell_type": "code",
   "execution_count": null,
   "id": "b01d6d4a-3f43-4949-aa31-de1a296cb3ab",
   "metadata": {},
   "outputs": [],
   "source": [
    "function compute_alpha()\n",
    "    p = mean(get_recommendee_split(false).rating)\n",
    "    write_recommendee_alpha(fill(p, num_items()), \"UserAverage\")\n",
    "end;"
   ]
  },
  {
   "cell_type": "code",
   "execution_count": null,
   "id": "689ffd4a-796a-4399-849c-66223a2dec07",
   "metadata": {},
   "outputs": [],
   "source": [
    "compute_alpha();"
   ]
  }
 ],
 "metadata": {
  "kernelspec": {
   "display_name": "Julia 1.8.0-rc1",
   "language": "julia",
   "name": "julia-1.8"
  },
  "language_info": {
   "file_extension": ".jl",
   "mimetype": "application/julia",
   "name": "julia",
   "version": "1.8.0"
  }
 },
 "nbformat": 4,
 "nbformat_minor": 5
}
