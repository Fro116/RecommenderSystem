{
 "cells": [
  {
   "cell_type": "markdown",
   "id": "b555e651-ad79-434d-ad2d-67e8f0029586",
   "metadata": {},
   "source": [
    "# UserAverage\n",
    "* See the corresponding file in `../../TrainingAlphas` for more details"
   ]
  },
  {
   "cell_type": "code",
   "execution_count": null,
   "id": "a0fa47a7-9f82-42c9-b547-5d6a73a98acd",
   "metadata": {},
   "outputs": [],
   "source": [
    "source_name = \"UserStats\";"
   ]
  },
  {
   "cell_type": "code",
   "execution_count": null,
   "id": "a0790666-9530-474f-8198-4b9a6341b174",
   "metadata": {
    "tags": []
   },
   "outputs": [],
   "source": [
    "import NBInclude: @nbinclude\n",
    "import Statistics: mean, var\n",
    "@nbinclude(\"../Alpha.ipynb\");"
   ]
  },
  {
   "cell_type": "code",
   "execution_count": null,
   "id": "b01d6d4a-3f43-4949-aa31-de1a296cb3ab",
   "metadata": {},
   "outputs": [],
   "source": [
    "function compute_alpha()\n",
    "    r = get_recommendee_split(\"explicit\").rating\n",
    "    if length(r) == 0\n",
    "        p_mean = 0f0\n",
    "    else\n",
    "        p_mean = mean(r)\n",
    "    end\n",
    "    if length(r) <= 1\n",
    "        p_var = 0f0\n",
    "    else\n",
    "        p_var = var(r)\n",
    "    end\n",
    "\n",
    "    \n",
    "    write_recommendee_alpha(fill(p_mean, num_items()), \"UserAverage\")\n",
    "    write_recommendee_alpha(fill(p_var, num_items()), \"UserVariance\")\n",
    "end;"
   ]
  },
  {
   "cell_type": "code",
   "execution_count": null,
   "id": "689ffd4a-796a-4399-849c-66223a2dec07",
   "metadata": {},
   "outputs": [],
   "source": [
    "compute_alpha();"
   ]
  }
 ],
 "metadata": {
  "kernelspec": {
   "display_name": "Julia 1.8.0-rc1",
   "language": "julia",
   "name": "julia-1.8"
  },
  "language_info": {
   "file_extension": ".jl",
   "mimetype": "application/julia",
   "name": "julia",
   "version": "1.8.0"
  }
 },
 "nbformat": 4,
 "nbformat_minor": 5
}
