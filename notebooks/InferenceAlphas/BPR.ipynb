{
 "cells": [
  {
   "cell_type": "markdown",
   "id": "0a267fa3-cdb3-4a96-affc-6f03ee3fa040",
   "metadata": {},
   "source": [
    "# Bayesian Personalized Ranking\n",
    "* See the corresponding file in `../TrainingAlphas` for more details"
   ]
  },
  {
   "cell_type": "code",
   "execution_count": 1,
   "id": "d47f2c65-9add-4db8-ae90-94ec7b96367a",
   "metadata": {},
   "outputs": [],
   "source": [
    "source = \"BPR\";"
   ]
  },
  {
   "cell_type": "code",
   "execution_count": 2,
   "id": "a3f3bee8-6535-49b7-b0ae-d3fc19a73cbb",
   "metadata": {
    "tags": []
   },
   "outputs": [],
   "source": [
    "using Flux\n",
    "using LinearAlgebra\n",
    "import NBInclude: @nbinclude\n",
    "import Random: shuffle\n",
    "@nbinclude(\"Alpha.ipynb\");"
   ]
  },
  {
   "cell_type": "code",
   "execution_count": 3,
   "id": "e8f04e63-a70f-4b15-b49c-f38703f5372a",
   "metadata": {},
   "outputs": [],
   "source": [
    "function pairwise_evaluate(m, X, i)\n",
    "    # for item i, computes pairwise prefernce against all other items \n",
    "    m(vcat(repeat(X[:, i], 1, num_items()), X))\n",
    "end\n",
    "\n",
    "function get_pairwise_preferences()\n",
    "    params = read_params(source)\n",
    "\n",
    "    X = []\n",
    "    for alpha in params[\"hyp\"].features\n",
    "        push!(X, read_recommendee_alpha(alpha, \"all\").rating)\n",
    "    end\n",
    "    X = reduce(hcat, X)\n",
    "    X = collect(X')\n",
    "\n",
    "    m = params[\"m\"]\n",
    "    Pt = Array{Float32}(undef, num_items(), num_items())\n",
    "    @tprogress Threads.@threads for i = 1:num_items()\n",
    "        Pt[:, i] = pairwise_evaluate(m, X, i)\n",
    "    end\n",
    "    collect(Pt')\n",
    "end;"
   ]
  },
  {
   "cell_type": "code",
   "execution_count": 4,
   "id": "8bfa4811-f4d8-4ebf-ae48-28037d8ac989",
   "metadata": {},
   "outputs": [],
   "source": [
    "function get_binary_preferences()\n",
    "    P = get_pairwise_preferences()\n",
    "    Q = Array{Float32}(undef, size(P)...)\n",
    "    # we shuffle the item order to evenly distribute the work\n",
    "    @tprogress Threads.@threads for j in shuffle(1:num_items())\n",
    "        for i = 1:j-1\n",
    "            Q[i, j] = (P[i, j] > P[j, i]) ? 1 : -1\n",
    "            Q[j, i] = -Q[i, j]\n",
    "        end\n",
    "    end\n",
    "    Q\n",
    "end;"
   ]
  },
  {
   "cell_type": "code",
   "execution_count": 5,
   "id": "91fa9ae7-4d0e-432b-948f-df0e68401fc8",
   "metadata": {},
   "outputs": [],
   "source": [
    "function inital_state(P)\n",
    "    sortperm(vec(sum(P, dims = 2)), rev = true)\n",
    "end;"
   ]
  },
  {
   "cell_type": "code",
   "execution_count": 6,
   "id": "0c12f042-5588-4b53-924e-9ef3ce03b38b",
   "metadata": {},
   "outputs": [],
   "source": [
    "function score(r, P)\n",
    "    # a negative score is good\n",
    "    s = 0\n",
    "    @tprogress Threads.@threads for j in shuffle(1:num_items())\n",
    "        for i = 1:j-1\n",
    "            s += -P[r[i], r[j]]\n",
    "        end\n",
    "    end\n",
    "    s\n",
    "end;"
   ]
  },
  {
   "cell_type": "code",
   "execution_count": 7,
   "id": "b8749328-e5c6-4c6a-921d-48d4bd929320",
   "metadata": {},
   "outputs": [],
   "source": [
    "function anneal(r, P, iters, T)\n",
    "    # peforms simulated annealing with a constant temperature\n",
    "    # the action space is swapping consecutive pairs\n",
    "    r = copy(r)\n",
    "    ds = 0\n",
    "    for _ = 1:iters\n",
    "        # consider swapping r[i] with r[i+1]\n",
    "        i = rand(1:num_items()-1)\n",
    "        delta = P[r[i], r[i+1]] # we should swap if this is negative\n",
    "        swap = (delta < 0) || (rand() < exp(-delta / T))\n",
    "        if swap\n",
    "            r[i], r[i+1] = r[i+1], r[i]\n",
    "            ds += delta\n",
    "        end\n",
    "    end\n",
    "    r, ds\n",
    "end;"
   ]
  },
  {
   "cell_type": "code",
   "execution_count": 8,
   "id": "03596af8-e77e-4e9d-9e36-64c9dbcde449",
   "metadata": {},
   "outputs": [],
   "source": [
    "function anneal(r, P)\n",
    "    # performs simulated annealing with a temperature schedule\n",
    "    T = 1\n",
    "    s = 0\n",
    "    while T > 1e-6\n",
    "        rt, ds = anneal(r, P, 100000, T)\n",
    "        if ds >= 0\n",
    "            T *= 0.5\n",
    "        else\n",
    "            r = rt\n",
    "            s += ds\n",
    "        end\n",
    "    end\n",
    "    r, s\n",
    "end;"
   ]
  },
  {
   "cell_type": "code",
   "execution_count": 9,
   "id": "f78f5a6a-bae8-40ee-938c-6a131ce61530",
   "metadata": {},
   "outputs": [],
   "source": [
    "function multistart_anneal(r, P, iters)\n",
    "    s = 0\n",
    "    for _ = 1:iters\n",
    "        r, ds = anneal(r, P)\n",
    "        s += ds\n",
    "        if ds == 0\n",
    "            break\n",
    "        end\n",
    "    end\n",
    "    r, s\n",
    "end;"
   ]
  },
  {
   "cell_type": "code",
   "execution_count": 10,
   "id": "59101ab4-beb0-4cf6-87e1-5b285a4e8698",
   "metadata": {},
   "outputs": [],
   "source": [
    "function compute_alpha()\n",
    "    P = get_binary_preferences()\n",
    "    ranking, _ = multistart_anneal(inital_state(P), P, 100)\n",
    "    alpha = Array{Float32}(undef, num_items())\n",
    "    for i = 1:num_items()\n",
    "        alpha[ranking[i]] = i\n",
    "    end\n",
    "    write_recommendee_alpha(alpha, source)\n",
    "end;"
   ]
  },
  {
   "cell_type": "code",
   "execution_count": 11,
   "id": "91741710-819b-473f-804b-9be6eed3d13a",
   "metadata": {},
   "outputs": [
    {
     "name": "stderr",
     "output_type": "stream",
     "text": [
      "\u001b[38;5;3m\u001b[1m[ \u001b[22m\u001b[39m\u001b[38;5;3m\u001b[1mWarning: \u001b[22m\u001b[39m20220612 03:14:36 type Main.Hyperparams does not exist in workspace; reconstructing\n",
      "\u001b[32mProgress: 100%|███████████████████████████| Time: 0:00:06 ( 2.93 ms/it)\u001b[39m\n",
      "\u001b[32mProgress: 100%|███████████████████████████| Time: 0:00:00 ( 0.26 ms/it)\u001b[39m\n"
     ]
    }
   ],
   "source": [
    "compute_alpha();"
   ]
  }
 ],
 "metadata": {
  "kernelspec": {
   "display_name": "Julia 1.8.0-rc1",
   "language": "julia",
   "name": "julia-1.8"
  },
  "language_info": {
   "file_extension": ".jl",
   "mimetype": "application/julia",
   "name": "julia",
   "version": "1.8.0"
  }
 },
 "nbformat": 4,
 "nbformat_minor": 5
}
