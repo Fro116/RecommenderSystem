{
 "cells": [
  {
   "cell_type": "markdown",
   "id": "a2559ebd-296e-421f-9421-9e613ddc3c8a",
   "metadata": {},
   "source": [
    "# TrainingServingSkew\n",
    "* Moniitors whether the alphas generated for inference are identical \n",
    "    to the alphas generated during training"
   ]
  },
  {
   "cell_type": "code",
   "execution_count": 1,
   "id": "855dd425-8d9c-42c0-8d3e-0d38d0f79300",
   "metadata": {},
   "outputs": [],
   "source": [
    "import NBInclude: @nbinclude\n",
    "@nbinclude(\"Alpha.ipynb\");"
   ]
  },
  {
   "cell_type": "code",
   "execution_count": 2,
   "id": "3672bc40-9a69-4628-a7a4-aef4c8e780bd",
   "metadata": {},
   "outputs": [],
   "source": [
    "function read_training_alpha(alpha, split)\n",
    "    uid = parse(Int, get_recommendee_username()) + 1\n",
    "    df = read_alpha(alpha, \"validation\", true)\n",
    "    mask = df.user .== uid\n",
    "    df = RatingsDataset(df.user[mask], df.item[mask], df.rating[mask])\n",
    "    df.user .= 1\n",
    "    df\n",
    "end;"
   ]
  },
  {
   "cell_type": "code",
   "execution_count": 3,
   "id": "25287163-01d1-4840-92c9-55390d2e4207",
   "metadata": {},
   "outputs": [],
   "source": [
    "function maximum_error(alpha, split)\n",
    "    serving = read_recommendee_alpha(alpha, \"all\")\n",
    "    training = read_training_alpha(alpha, split)\n",
    "    abs_errors = abs.(training.rating .- serving.rating[training.item])\n",
    "    rel_errors = abs.(training.rating ./ serving.rating[training.item] .- 1)\n",
    "    maximum(vcat(abs_errors, rel_errors))\n",
    "end;"
   ]
  },
  {
   "cell_type": "code",
   "execution_count": 5,
   "id": "be7eefa3-9a50-4189-9456-bb0879aadb46",
   "metadata": {},
   "outputs": [
    {
     "data": {
      "text/plain": [
       "8-element Vector{String}:\n",
       " \"ExplicitItemCF\"\n",
       " \"ExplicitUserItemBiases\"\n",
       " \"LinearExplicit\"\n",
       " \"LinearImplicit\"\n",
       " \"NeuralExplicitMatrixFactorization\"\n",
       " \"NeuralImplicitMatrixFactorization\"\n",
       " \"NeuralImplicitUserItemBiases\"\n",
       " \"SeenItemsCount\""
      ]
     },
     "execution_count": 5,
     "metadata": {},
     "output_type": "execute_result"
    }
   ],
   "source": [
    "potential_alphas = readdir(recommendee_alpha_basepath())\n",
    "alphas = [\n",
    "    x for\n",
    "    x in potential_alphas if ispath(\"$(recommendee_alpha_basepath())/$(x)/alpha.jld2\")\n",
    "]\n",
    "ensemble_alphas = [\"BPR\", \"ErrorExplicit\", \"ErrorImplicit\", \"Explicit\", \"NonlinearExplicit\"]\n",
    "inference_only_alphas = [\"ItemCFRelated\"]\n",
    "standard_alphas = [x for x in alphas if x ∉ ensemble_alphas && x ∉ inference_only_alphas]"
   ]
  },
  {
   "cell_type": "code",
   "execution_count": 8,
   "id": "3e6871cd-79d5-4963-b649-4fa43fca75a7",
   "metadata": {},
   "outputs": [
    {
     "name": "stderr",
     "output_type": "stream",
     "text": [
      "\u001b[38;5;6m\u001b[1m[ \u001b[22m\u001b[39m\u001b[38;5;6m\u001b[1mInfo: \u001b[22m\u001b[39m20220630 02:01:27 (\"ExplicitItemCF\", 1.7881393f-6)\n",
      "\u001b[38;5;6m\u001b[1m[ \u001b[22m\u001b[39m\u001b[38;5;6m\u001b[1mInfo: \u001b[22m\u001b[39m20220630 02:01:28 (\"ExplicitUserItemBiases\", 1.9073486f-6)\n",
      "\u001b[38;5;6m\u001b[1m[ \u001b[22m\u001b[39m\u001b[38;5;6m\u001b[1mInfo: \u001b[22m\u001b[39m20220630 02:01:28 (\"LinearExplicit\", 0.59236336f0)\n",
      "\u001b[38;5;6m\u001b[1m[ \u001b[22m\u001b[39m\u001b[38;5;6m\u001b[1mInfo: \u001b[22m\u001b[39m20220630 02:01:28 (\"LinearImplicit\", 0.4343292f0)\n",
      "\u001b[38;5;6m\u001b[1m[ \u001b[22m\u001b[39m\u001b[38;5;6m\u001b[1mInfo: \u001b[22m\u001b[39m20220630 02:01:28 (\"NeuralExplicitMatrixFactorization\", 2.258233f0)\n",
      "\u001b[38;5;6m\u001b[1m[ \u001b[22m\u001b[39m\u001b[38;5;6m\u001b[1mInfo: \u001b[22m\u001b[39m20220630 02:01:28 (\"NeuralImplicitMatrixFactorization\", 0.46423072f0)\n",
      "\u001b[38;5;6m\u001b[1m[ \u001b[22m\u001b[39m\u001b[38;5;6m\u001b[1mInfo: \u001b[22m\u001b[39m20220630 02:01:28 (\"NeuralImplicitUserItemBiases\", 1.7881393f-7)\n",
      "\u001b[38;5;6m\u001b[1m[ \u001b[22m\u001b[39m\u001b[38;5;6m\u001b[1mInfo: \u001b[22m\u001b[39m20220630 02:01:29 (\"SeenItemsCount\", 0.0f0)\n"
     ]
    }
   ],
   "source": [
    "for alpha in standard_alphas\n",
    "    skew = maximum_error(alpha, \"training\")\n",
    "    @info alpha, skew\n",
    "end"
   ]
  }
 ],
 "metadata": {
  "kernelspec": {
   "display_name": "Julia 1.8.0-rc1",
   "language": "julia",
   "name": "julia-1.8"
  },
  "language_info": {
   "file_extension": ".jl",
   "mimetype": "application/julia",
   "name": "julia",
   "version": "1.8.0"
  }
 },
 "nbformat": 4,
 "nbformat_minor": 5
}
