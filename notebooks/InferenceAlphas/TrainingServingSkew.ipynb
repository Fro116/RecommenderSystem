{
 "cells": [
  {
   "cell_type": "markdown",
   "id": "a2559ebd-296e-421f-9421-9e613ddc3c8a",
   "metadata": {},
   "source": [
    "# TrainingServingSkew\n",
    "* Moniitors whether the alphas generated for inference are identical \n",
    "    to the alphas generated during training"
   ]
  },
  {
   "cell_type": "code",
   "execution_count": 1,
   "id": "855dd425-8d9c-42c0-8d3e-0d38d0f79300",
   "metadata": {},
   "outputs": [],
   "source": [
    "import NBInclude: @nbinclude\n",
    "import Statistics: mean\n",
    "@nbinclude(\"Alpha.ipynb\");"
   ]
  },
  {
   "cell_type": "code",
   "execution_count": 2,
   "id": "3672bc40-9a69-4628-a7a4-aef4c8e780bd",
   "metadata": {},
   "outputs": [],
   "source": [
    "function read_training_alpha(alpha, split)\n",
    "    uid = parse(Int, get_recommendee_username()) + 1\n",
    "    df = read_alpha(alpha, \"validation\", true)\n",
    "    mask = df.user .== uid\n",
    "    df = RatingsDataset(df.user[mask], df.item[mask], df.rating[mask])\n",
    "    df.user .= 1\n",
    "    df\n",
    "end;"
   ]
  },
  {
   "cell_type": "code",
   "execution_count": 3,
   "id": "25287163-01d1-4840-92c9-55390d2e4207",
   "metadata": {},
   "outputs": [],
   "source": [
    "function maximum_error(alpha, split)\n",
    "    serving = read_recommendee_alpha(alpha, \"all\")\n",
    "    training = read_training_alpha(alpha, split)\n",
    "    abs_errors = abs.(training.rating .- serving.rating[training.item])\n",
    "    rel_errors = abs.(training.rating ./ serving.rating[training.item] .- 1)\n",
    "    maximum(vcat(abs_errors, rel_errors))\n",
    "end;"
   ]
  },
  {
   "cell_type": "code",
   "execution_count": 4,
   "id": "ebe774c0-e0f7-46a9-9808-e5b4ae7c29b3",
   "metadata": {},
   "outputs": [],
   "source": [
    "function average_abs_error(alpha, split)\n",
    "    serving = read_recommendee_alpha(alpha, \"all\")\n",
    "    training = read_training_alpha(alpha, split)\n",
    "    abs_errors = abs.(training.rating .- serving.rating[training.item])\n",
    "    mean(abs_errors)\n",
    "end;"
   ]
  },
  {
   "cell_type": "code",
   "execution_count": 5,
   "id": "2a847d7b-864d-4656-ae98-d008484a8c1d",
   "metadata": {},
   "outputs": [],
   "source": [
    "function average_rel_error(alpha, split)\n",
    "    serving = read_recommendee_alpha(alpha, \"all\")\n",
    "    training = read_training_alpha(alpha, split)\n",
    "    abs_errors = abs.(training.rating ./ serving.rating[training.item] .- 1)\n",
    "    mean(abs_errors)\n",
    "end;"
   ]
  },
  {
   "cell_type": "code",
   "execution_count": 6,
   "id": "97288ab9-4b28-4127-a2ce-e07d48b40242",
   "metadata": {},
   "outputs": [],
   "source": [
    "function display_errors(alphas)\n",
    "    alpha_padding = maximum(length.(alphas))\n",
    "    number_padding = 16\n",
    "\n",
    "    header_1 = rpad(\"Alpha\", alpha_padding)\n",
    "    header_2 = rpad(\"Avg Abs Error\", number_padding)\n",
    "    header_3 = rpad(\"Avg Rel Error\", number_padding)\n",
    "    header_4 = rpad(\"Max Error\", number_padding)\n",
    "    @info \"$header_1 $header_2 $header_3 $header_4\"\n",
    "\n",
    "    for alpha in alphas\n",
    "        avg_abs_error = rpad(average_abs_error(alpha, \"training\"), number_padding)\n",
    "        avg_rel_error = rpad(average_rel_error(alpha, \"training\"), number_padding)\n",
    "        max_error = rpad(maximum_error(alpha, \"training\"), number_padding)\n",
    "        alpha = rpad(alpha, alpha_padding)\n",
    "        @info \"$alpha $avg_abs_error $avg_rel_error $max_error\"\n",
    "    end\n",
    "end;"
   ]
  },
  {
   "cell_type": "code",
   "execution_count": 7,
   "id": "be7eefa3-9a50-4189-9456-bb0879aadb46",
   "metadata": {},
   "outputs": [],
   "source": [
    "potential_alphas = readdir(recommendee_alpha_basepath())\n",
    "alphas = [\n",
    "    x for\n",
    "    x in potential_alphas if ispath(\"$(recommendee_alpha_basepath())/$(x)/alpha.jld2\")\n",
    "]\n",
    "ensemble_alphas = [\"ErrorExplicit\", \"ErrorImplicit\", \"Explicit\", \"NonlinearExplicit\"]\n",
    "inference_only_alphas = [\"ItemCFRelated\", \"BPR\"]\n",
    "standard_alphas = [x for x in alphas if x ∉ ensemble_alphas && x ∉ inference_only_alphas];"
   ]
  },
  {
   "cell_type": "code",
   "execution_count": 8,
   "id": "3e6871cd-79d5-4963-b649-4fa43fca75a7",
   "metadata": {},
   "outputs": [
    {
     "name": "stderr",
     "output_type": "stream",
     "text": [
      "\u001b[38;5;6m\u001b[1m[ \u001b[22m\u001b[39m\u001b[38;5;6m\u001b[1mInfo: \u001b[22m\u001b[39m20220630 10:49:21 Alpha                             Avg Abs Error    Avg Rel Error    Max Error       \n",
      "\u001b[38;5;6m\u001b[1m[ \u001b[22m\u001b[39m\u001b[38;5;6m\u001b[1mInfo: \u001b[22m\u001b[39m20220630 10:49:24 ExplicitItemCF                    1.0281801e-6     1.3709068e-6     1.7881393e-6    \n",
      "\u001b[38;5;6m\u001b[1m[ \u001b[22m\u001b[39m\u001b[38;5;6m\u001b[1mInfo: \u001b[22m\u001b[39m20220630 10:49:25 ExplicitUserItemBiases            1.9073486e-6     2.3841858e-7     1.9073486e-6    \n",
      "\u001b[38;5;6m\u001b[1m[ \u001b[22m\u001b[39m\u001b[38;5;6m\u001b[1mInfo: \u001b[22m\u001b[39m20220630 10:49:25 LinearExplicit                    0.00871706       0.0010354221     0.010548592     \n",
      "\u001b[38;5;6m\u001b[1m[ \u001b[22m\u001b[39m\u001b[38;5;6m\u001b[1mInfo: \u001b[22m\u001b[39m20220630 10:49:25 LinearImplicit                    0.0011766818     0.09194863       0.15807748      \n",
      "\u001b[38;5;6m\u001b[1m[ \u001b[22m\u001b[39m\u001b[38;5;6m\u001b[1mInfo: \u001b[22m\u001b[39m20220630 10:49:26 NeuralExplicitMatrixFactorization 0.0332275        0.22907925       0.40753388      \n",
      "\u001b[38;5;6m\u001b[1m[ \u001b[22m\u001b[39m\u001b[38;5;6m\u001b[1mInfo: \u001b[22m\u001b[39m20220630 10:49:26 NeuralImplicitMatrixFactorization 0.0012201887     0.093682885      0.15813112      \n",
      "\u001b[38;5;6m\u001b[1m[ \u001b[22m\u001b[39m\u001b[38;5;6m\u001b[1mInfo: \u001b[22m\u001b[39m20220630 10:49:26 NeuralImplicitUserItemBiases      1.2369128e-10    1.4901161e-7     1.7881393e-7    \n",
      "\u001b[38;5;6m\u001b[1m[ \u001b[22m\u001b[39m\u001b[38;5;6m\u001b[1mInfo: \u001b[22m\u001b[39m20220630 10:49:27 SeenItemsCount                    0.0              0.0              0.0             \n"
     ]
    }
   ],
   "source": [
    "display_errors(standard_alphas)"
   ]
  },
  {
   "cell_type": "code",
   "execution_count": 9,
   "id": "29af0231-d1b5-412e-affe-774f35c17819",
   "metadata": {},
   "outputs": [
    {
     "name": "stderr",
     "output_type": "stream",
     "text": [
      "\u001b[38;5;6m\u001b[1m[ \u001b[22m\u001b[39m\u001b[38;5;6m\u001b[1mInfo: \u001b[22m\u001b[39m20220630 10:49:27 Alpha             Avg Abs Error    Avg Rel Error    Max Error       \n",
      "\u001b[38;5;6m\u001b[1m[ \u001b[22m\u001b[39m\u001b[38;5;6m\u001b[1mInfo: \u001b[22m\u001b[39m20220630 10:49:27 ErrorExplicit     0.014685661      0.025528729      0.050234795     \n",
      "\u001b[38;5;6m\u001b[1m[ \u001b[22m\u001b[39m\u001b[38;5;6m\u001b[1mInfo: \u001b[22m\u001b[39m20220630 10:49:27 ErrorImplicit     0.00086967647    0.0028087795     0.005617559     \n",
      "\u001b[38;5;6m\u001b[1m[ \u001b[22m\u001b[39m\u001b[38;5;6m\u001b[1mInfo: \u001b[22m\u001b[39m20220630 10:49:28 Explicit          0.010331392      0.0011695027     0.019058228     \n",
      "\u001b[38;5;6m\u001b[1m[ \u001b[22m\u001b[39m\u001b[38;5;6m\u001b[1mInfo: \u001b[22m\u001b[39m20220630 10:49:28 NonlinearExplicit 0.0190483        0.28568178       0.5386658       \n"
     ]
    }
   ],
   "source": [
    "display_errors(ensemble_alphas)"
   ]
  }
 ],
 "metadata": {
  "kernelspec": {
   "display_name": "Julia 1.8.0-rc1",
   "language": "julia",
   "name": "julia-1.8"
  },
  "language_info": {
   "file_extension": ".jl",
   "mimetype": "application/julia",
   "name": "julia",
   "version": "1.8.0"
  }
 },
 "nbformat": 4,
 "nbformat_minor": 5
}
