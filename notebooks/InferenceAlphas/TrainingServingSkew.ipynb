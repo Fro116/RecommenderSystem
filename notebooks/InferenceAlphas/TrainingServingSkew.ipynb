{
 "cells": [
  {
   "cell_type": "markdown",
   "id": "a2559ebd-296e-421f-9421-9e613ddc3c8a",
   "metadata": {},
   "source": [
    "# TrainingServingSkew\n",
    "* Moniitors whether the alphas generated for inference are identical \n",
    "    to the alphas generated during training"
   ]
  },
  {
   "cell_type": "code",
   "execution_count": 1,
   "id": "855dd425-8d9c-42c0-8d3e-0d38d0f79300",
   "metadata": {},
   "outputs": [],
   "source": [
    "import NBInclude: @nbinclude\n",
    "import Statistics: mean\n",
    "@nbinclude(\"Alpha.ipynb\");"
   ]
  },
  {
   "cell_type": "code",
   "execution_count": 2,
   "id": "3672bc40-9a69-4628-a7a4-aef4c8e780bd",
   "metadata": {},
   "outputs": [],
   "source": [
    "function read_training_alpha(alpha, split)\n",
    "    uid = parse(Int, get_recommendee_username()) + 1\n",
    "    df = read_alpha(alpha, split, true)\n",
    "    mask = df.user .== uid\n",
    "    df = RatingsDataset(df.user[mask], df.item[mask], df.rating[mask])\n",
    "    df.user .= 1\n",
    "    df\n",
    "end;"
   ]
  },
  {
   "cell_type": "code",
   "execution_count": 3,
   "id": "766163ef-58c2-4d75-912a-da52f6d8201c",
   "metadata": {},
   "outputs": [],
   "source": [
    "function average_errors(alpha, split)\n",
    "    serving = read_recommendee_alpha(alpha, \"all\")\n",
    "    training = read_training_alpha(alpha, split)\n",
    "    abs.(training.rating .- serving.rating[training.item])\n",
    "end\n",
    "\n",
    "function relative_errors(alpha, split)\n",
    "    serving = read_recommendee_alpha(alpha, \"all\")\n",
    "    training = read_training_alpha(alpha, split)\n",
    "    ϵ = eps(Float64)\n",
    "    abs.(abs.(training.rating) ./ (abs.(serving.rating[training.item]) .+ ϵ) .- 1)\n",
    "end;"
   ]
  },
  {
   "cell_type": "code",
   "execution_count": 4,
   "id": "25287163-01d1-4840-92c9-55390d2e4207",
   "metadata": {},
   "outputs": [],
   "source": [
    "function maximum_error(alpha, split)\n",
    "    maximum(vcat(average_errors(alpha, split), relative_errors(alpha, split)))\n",
    "end\n",
    "\n",
    "function average_abs_error(alpha, split)\n",
    "    mean(average_errors(alpha, split))\n",
    "end\n",
    "\n",
    "function average_rel_error(alpha, split)\n",
    "    mean(relative_errors(alpha, split))\n",
    "end;"
   ]
  },
  {
   "cell_type": "code",
   "execution_count": 5,
   "id": "97288ab9-4b28-4127-a2ce-e07d48b40242",
   "metadata": {},
   "outputs": [],
   "source": [
    "function display_errors(alphas, split)\n",
    "    alpha_padding = maximum(length.(alphas))\n",
    "    number_padding = 16\n",
    "\n",
    "    header_1 = rpad(\"Alpha\", alpha_padding)\n",
    "    header_2 = rpad(\"Avg Abs Error\", number_padding)\n",
    "    header_3 = rpad(\"Avg Rel Error\", number_padding)\n",
    "    header_4 = rpad(\"Max Error\", number_padding)\n",
    "    @info \"$header_1 $header_2 $header_3 $header_4\"\n",
    "\n",
    "    for alpha in alphas\n",
    "        avg_abs_error = rpad(average_abs_error(alpha, split), number_padding)\n",
    "        avg_rel_error = rpad(average_rel_error(alpha, split), number_padding)\n",
    "        max_error = rpad(maximum_error(alpha, split), number_padding)\n",
    "        alpha = rpad(alpha, alpha_padding)\n",
    "        @info \"$alpha $avg_abs_error $avg_rel_error $max_error\"\n",
    "    end\n",
    "end;"
   ]
  },
  {
   "cell_type": "code",
   "execution_count": 6,
   "id": "070f5f53-d832-4b5b-8702-be8061d37bec",
   "metadata": {},
   "outputs": [],
   "source": [
    "potential_alphas = readdir(recommendee_alpha_basepath())\n",
    "alphas = sort([\n",
    "    x for\n",
    "    x in potential_alphas if ispath(\"$(recommendee_alpha_basepath())/$(x)/alpha.jld2\")\n",
    "])\n",
    "ensemble_alphas = sort([\"ErrorExplicit\", \"ErrorImplicit\", \"Explicit\", \"NonlinearExplicit\"])\n",
    "inference_only_alphas = sort([\"ItemCFRelated\", \"BPR\"])\n",
    "standard_alphas = [x for x in alphas if x ∉ ensemble_alphas && x ∉ inference_only_alphas];"
   ]
  },
  {
   "cell_type": "code",
   "execution_count": 7,
   "id": "3e6871cd-79d5-4963-b649-4fa43fca75a7",
   "metadata": {},
   "outputs": [
    {
     "name": "stderr",
     "output_type": "stream",
     "text": [
      "\u001b[38;5;6m\u001b[1m[ \u001b[22m\u001b[39m\u001b[38;5;6m\u001b[1mInfo: \u001b[22m\u001b[39m20220704 16:58:15 Alpha                             Avg Abs Error    Avg Rel Error    Max Error       \n",
      "\u001b[38;5;6m\u001b[1m[ \u001b[22m\u001b[39m\u001b[38;5;6m\u001b[1mInfo: \u001b[22m\u001b[39m20220704 16:58:23 ExplicitItemCF                    9.706281e-7      0.05265420916290078 1.0             \n",
      "\u001b[38;5;6m\u001b[1m[ \u001b[22m\u001b[39m\u001b[38;5;6m\u001b[1mInfo: \u001b[22m\u001b[39m20220704 16:58:27 ExplicitUserItemBiases            1.9073486e-6     2.3695841768580756e-7 1.9073486328125e-6\n",
      "\u001b[38;5;6m\u001b[1m[ \u001b[22m\u001b[39m\u001b[38;5;6m\u001b[1mInfo: \u001b[22m\u001b[39m20220704 16:58:32 LinearExplicit                    0.0008248028     9.900572676129147e-5 0.0020475387573242188\n",
      "\u001b[38;5;6m\u001b[1m[ \u001b[22m\u001b[39m\u001b[38;5;6m\u001b[1mInfo: \u001b[22m\u001b[39m20220704 16:58:37 LinearImplicit                    5.483985e-6      0.0015382511445828945 0.009135707927428571\n",
      "\u001b[38;5;6m\u001b[1m[ \u001b[22m\u001b[39m\u001b[38;5;6m\u001b[1mInfo: \u001b[22m\u001b[39m20220704 16:58:42 NeuralExplicitAutoencoderUntuned  0.00057415804    0.0034894848548399113 0.04958087969790004\n",
      "\u001b[38;5;6m\u001b[1m[ \u001b[22m\u001b[39m\u001b[38;5;6m\u001b[1mInfo: \u001b[22m\u001b[39m20220704 16:58:47 NeuralExplicitItemCFUntuned       0.00029703407    0.0024231337060731865 0.017875267752952784\n",
      "\u001b[38;5;6m\u001b[1m[ \u001b[22m\u001b[39m\u001b[38;5;6m\u001b[1mInfo: \u001b[22m\u001b[39m20220704 16:58:51 NeuralExplicitMatrixFactorization 0.024161706      0.16312787731205505 3.238270371979441\n",
      "\u001b[38;5;6m\u001b[1m[ \u001b[22m\u001b[39m\u001b[38;5;6m\u001b[1mInfo: \u001b[22m\u001b[39m20220704 16:58:56 NeuralImplicitAutoencoderUntuned  5.2969904e-7     0.000151136348798533 0.0004549877196767804\n",
      "\u001b[38;5;6m\u001b[1m[ \u001b[22m\u001b[39m\u001b[38;5;6m\u001b[1mInfo: \u001b[22m\u001b[39m20220704 16:59:01 NeuralImplicitItemCFUntuned       1.5949665e-10    2.725510469069267e-8 1.3064148851604784e-7\n",
      "\u001b[38;5;6m\u001b[1m[ \u001b[22m\u001b[39m\u001b[38;5;6m\u001b[1mInfo: \u001b[22m\u001b[39m20220704 16:59:06 NeuralImplicitMatrixFactorization 0.00042328847    0.04759132244090761 0.15156199511338364\n",
      "\u001b[38;5;6m\u001b[1m[ \u001b[22m\u001b[39m\u001b[38;5;6m\u001b[1mInfo: \u001b[22m\u001b[39m20220704 16:59:11 NeuralImplicitUserItemBiases      3.2684366e-10    1.3375133211505834e-7 4.54593226173472e-7\n",
      "\u001b[38;5;6m\u001b[1m[ \u001b[22m\u001b[39m\u001b[38;5;6m\u001b[1mInfo: \u001b[22m\u001b[39m20220704 16:59:15 SeenItemsCount                    0.0              0.0              0.0             \n"
     ]
    }
   ],
   "source": [
    "display_errors(standard_alphas, \"training\")\n",
    "# ensemble alphas do not save training splits"
   ]
  },
  {
   "cell_type": "code",
   "execution_count": 8,
   "id": "29af0231-d1b5-412e-affe-774f35c17819",
   "metadata": {},
   "outputs": [
    {
     "name": "stderr",
     "output_type": "stream",
     "text": [
      "\u001b[38;5;6m\u001b[1m[ \u001b[22m\u001b[39m\u001b[38;5;6m\u001b[1mInfo: \u001b[22m\u001b[39m20220704 16:59:15 Alpha                             Avg Abs Error    Avg Rel Error    Max Error       \n",
      "\u001b[38;5;6m\u001b[1m[ \u001b[22m\u001b[39m\u001b[38;5;6m\u001b[1mInfo: \u001b[22m\u001b[39m20220704 16:59:16 ExplicitItemCF                    1.0281801e-6     1.3570750168057089e-6 1.7881393432617188e-6\n",
      "\u001b[38;5;6m\u001b[1m[ \u001b[22m\u001b[39m\u001b[38;5;6m\u001b[1mInfo: \u001b[22m\u001b[39m20220704 16:59:17 ExplicitUserItemBiases            1.9073486e-6     2.456523182647885e-7 1.9073486328125e-6\n",
      "\u001b[38;5;6m\u001b[1m[ \u001b[22m\u001b[39m\u001b[38;5;6m\u001b[1mInfo: \u001b[22m\u001b[39m20220704 16:59:17 LinearExplicit                    0.0014333725     0.00017198708015003783 0.0015726089477539062\n",
      "\u001b[38;5;6m\u001b[1m[ \u001b[22m\u001b[39m\u001b[38;5;6m\u001b[1mInfo: \u001b[22m\u001b[39m20220704 16:59:18 LinearImplicit                    1.5850528e-5     0.0016329078093766936 0.0031676523257262446\n",
      "\u001b[38;5;6m\u001b[1m[ \u001b[22m\u001b[39m\u001b[38;5;6m\u001b[1mInfo: \u001b[22m\u001b[39m20220704 16:59:19 NeuralExplicitAutoencoderUntuned  0.0004582815     0.07252747807446225 0.14472584085701246\n",
      "\u001b[38;5;6m\u001b[1m[ \u001b[22m\u001b[39m\u001b[38;5;6m\u001b[1mInfo: \u001b[22m\u001b[39m20220704 16:59:19 NeuralExplicitItemCFUntuned       0.00045789778    0.0012813613982458616 0.0019024471491065897\n",
      "\u001b[38;5;6m\u001b[1m[ \u001b[22m\u001b[39m\u001b[38;5;6m\u001b[1mInfo: \u001b[22m\u001b[39m20220704 16:59:20 NeuralExplicitMatrixFactorization 0.0332275        0.22907921850031332 0.40753384317851515\n",
      "\u001b[38;5;6m\u001b[1m[ \u001b[22m\u001b[39m\u001b[38;5;6m\u001b[1mInfo: \u001b[22m\u001b[39m20220704 16:59:20 NeuralImplicitAutoencoderUntuned  1.4548423e-6     0.00027857514873924627 0.00040155337962244353\n",
      "\u001b[38;5;6m\u001b[1m[ \u001b[22m\u001b[39m\u001b[38;5;6m\u001b[1mInfo: \u001b[22m\u001b[39m20220704 16:59:21 NeuralImplicitItemCFUntuned       1.8626451e-9     6.412285769030746e-8 1.2824560835511534e-7\n",
      "\u001b[38;5;6m\u001b[1m[ \u001b[22m\u001b[39m\u001b[38;5;6m\u001b[1mInfo: \u001b[22m\u001b[39m20220704 16:59:22 NeuralImplicitMatrixFactorization 0.0012201712     0.09368234327591307 0.15812917635146606\n",
      "\u001b[38;5;6m\u001b[1m[ \u001b[22m\u001b[39m\u001b[38;5;6m\u001b[1mInfo: \u001b[22m\u001b[39m20220704 16:59:22 NeuralImplicitUserItemBiases      1.2369128e-10    1.4494397904130096e-7 1.8667490653268004e-7\n",
      "\u001b[38;5;6m\u001b[1m[ \u001b[22m\u001b[39m\u001b[38;5;6m\u001b[1mInfo: \u001b[22m\u001b[39m20220704 16:59:23 SeenItemsCount                    0.0              0.0              0.0             \n",
      "\u001b[38;5;6m\u001b[1m[ \u001b[22m\u001b[39m\u001b[38;5;6m\u001b[1mInfo: \u001b[22m\u001b[39m20220704 16:59:23 Alpha             Avg Abs Error    Avg Rel Error    Max Error       \n"
     ]
    },
    {
     "name": "stdout",
     "output_type": "stream",
     "text": [
      "\n"
     ]
    },
    {
     "name": "stderr",
     "output_type": "stream",
     "text": [
      "\u001b[38;5;6m\u001b[1m[ \u001b[22m\u001b[39m\u001b[38;5;6m\u001b[1mInfo: \u001b[22m\u001b[39m20220704 16:59:23 ErrorExplicit     0.052846134      0.08406199477224358 0.16800208237958947\n",
      "\u001b[38;5;6m\u001b[1m[ \u001b[22m\u001b[39m\u001b[38;5;6m\u001b[1mInfo: \u001b[22m\u001b[39m20220704 16:59:24 ErrorImplicit     0.0070433766     0.022194990831971573 0.022604964932871896\n",
      "\u001b[38;5;6m\u001b[1m[ \u001b[22m\u001b[39m\u001b[38;5;6m\u001b[1mInfo: \u001b[22m\u001b[39m20220704 16:59:25 Explicit          0.023903847      0.002768496656071595 0.040261268615722656\n",
      "\u001b[38;5;6m\u001b[1m[ \u001b[22m\u001b[39m\u001b[38;5;6m\u001b[1mInfo: \u001b[22m\u001b[39m20220704 16:59:25 NonlinearExplicit 0.025337307      0.3317311669483993 0.5311754038744756\n"
     ]
    }
   ],
   "source": [
    "display_errors(standard_alphas, \"validation\")\n",
    "println()\n",
    "display_errors(ensemble_alphas, \"validation\")"
   ]
  },
  {
   "cell_type": "code",
   "execution_count": 9,
   "id": "a7e54e2d-5cb7-4a53-b45b-6d23a9a4c1dc",
   "metadata": {},
   "outputs": [
    {
     "name": "stderr",
     "output_type": "stream",
     "text": [
      "\u001b[38;5;6m\u001b[1m[ \u001b[22m\u001b[39m\u001b[38;5;6m\u001b[1mInfo: \u001b[22m\u001b[39m20220704 16:59:25 Alpha                             Avg Abs Error    Avg Rel Error    Max Error       \n",
      "\u001b[38;5;6m\u001b[1m[ \u001b[22m\u001b[39m\u001b[38;5;6m\u001b[1mInfo: \u001b[22m\u001b[39m20220704 16:59:26 ExplicitItemCF                    6.748097e-7      2.185886216619716e-6 5.327008317124182e-6\n",
      "\u001b[38;5;6m\u001b[1m[ \u001b[22m\u001b[39m\u001b[38;5;6m\u001b[1mInfo: \u001b[22m\u001b[39m20220704 16:59:27 ExplicitUserItemBiases            1.9073486e-6     2.6323616132893436e-7 1.9073486328125e-6\n",
      "\u001b[38;5;6m\u001b[1m[ \u001b[22m\u001b[39m\u001b[38;5;6m\u001b[1mInfo: \u001b[22m\u001b[39m20220704 16:59:28 LinearExplicit                    0.0005258833     7.119812936281658e-5 0.0010466575622558594\n",
      "\u001b[38;5;6m\u001b[1m[ \u001b[22m\u001b[39m\u001b[38;5;6m\u001b[1mInfo: \u001b[22m\u001b[39m20220704 16:59:28 LinearImplicit                    4.4420344e-7     0.00022590453380964628 0.0008153138975939278\n",
      "\u001b[38;5;6m\u001b[1m[ \u001b[22m\u001b[39m\u001b[38;5;6m\u001b[1mInfo: \u001b[22m\u001b[39m20220704 16:59:29 NeuralExplicitAutoencoderUntuned  0.00089455955    0.005554864799354821 0.015459151297960494\n",
      "\u001b[38;5;6m\u001b[1m[ \u001b[22m\u001b[39m\u001b[38;5;6m\u001b[1mInfo: \u001b[22m\u001b[39m20220704 16:59:30 NeuralExplicitItemCFUntuned       0.00016586749    0.0019774518640843152 0.007118796318736242\n",
      "\u001b[38;5;6m\u001b[1m[ \u001b[22m\u001b[39m\u001b[38;5;6m\u001b[1mInfo: \u001b[22m\u001b[39m20220704 16:59:30 NeuralExplicitMatrixFactorization 0.022871813      0.21341033276212573 0.5903258653159711\n",
      "\u001b[38;5;6m\u001b[1m[ \u001b[22m\u001b[39m\u001b[38;5;6m\u001b[1mInfo: \u001b[22m\u001b[39m20220704 16:59:31 NeuralImplicitAutoencoderUntuned  1.6540018e-7     9.973931187999354e-5 0.00020605588813904507\n",
      "\u001b[38;5;6m\u001b[1m[ \u001b[22m\u001b[39m\u001b[38;5;6m\u001b[1mInfo: \u001b[22m\u001b[39m20220704 16:59:32 NeuralImplicitItemCFUntuned       7.535813e-11     3.481949217842839e-8 9.168024051042778e-8\n",
      "\u001b[38;5;6m\u001b[1m[ \u001b[22m\u001b[39m\u001b[38;5;6m\u001b[1mInfo: \u001b[22m\u001b[39m20220704 16:59:32 NeuralImplicitMatrixFactorization 4.227555e-5      0.039080749374040526 0.06528270721988272\n",
      "\u001b[38;5;6m\u001b[1m[ \u001b[22m\u001b[39m\u001b[38;5;6m\u001b[1mInfo: \u001b[22m\u001b[39m20220704 16:59:33 NeuralImplicitUserItemBiases      2.078845e-10     1.2766043371621144e-7 2.3018604811131382e-7\n",
      "\u001b[38;5;6m\u001b[1m[ \u001b[22m\u001b[39m\u001b[38;5;6m\u001b[1mInfo: \u001b[22m\u001b[39m20220704 16:59:34 SeenItemsCount                    0.0              0.0              0.0             \n",
      "\u001b[38;5;6m\u001b[1m[ \u001b[22m\u001b[39m\u001b[38;5;6m\u001b[1mInfo: \u001b[22m\u001b[39m20220704 16:59:34 Alpha             Avg Abs Error    Avg Rel Error    Max Error       \n"
     ]
    },
    {
     "name": "stdout",
     "output_type": "stream",
     "text": [
      "\n"
     ]
    },
    {
     "name": "stderr",
     "output_type": "stream",
     "text": [
      "\u001b[38;5;6m\u001b[1m[ \u001b[22m\u001b[39m\u001b[38;5;6m\u001b[1mInfo: \u001b[22m\u001b[39m20220704 16:59:35 ErrorExplicit     0.0020524007     0.0021366202920438987 0.010204664458911772\n",
      "\u001b[38;5;6m\u001b[1m[ \u001b[22m\u001b[39m\u001b[38;5;6m\u001b[1mInfo: \u001b[22m\u001b[39m20220704 16:59:35 ErrorImplicit     0.00030841146    0.0010182613266569757 0.006597458066771811\n",
      "\u001b[38;5;6m\u001b[1m[ \u001b[22m\u001b[39m\u001b[38;5;6m\u001b[1mInfo: \u001b[22m\u001b[39m20220704 16:59:36 Explicit          0.0015469278     0.00021132068925541362 0.004282474517822266\n",
      "\u001b[38;5;6m\u001b[1m[ \u001b[22m\u001b[39m\u001b[38;5;6m\u001b[1mInfo: \u001b[22m\u001b[39m20220704 16:59:36 NonlinearExplicit 0.0012913415     0.049060484164935546 0.1493740640319665\n"
     ]
    }
   ],
   "source": [
    "display_errors(standard_alphas, \"test\")\n",
    "println()\n",
    "display_errors(ensemble_alphas, \"test\")"
   ]
  }
 ],
 "metadata": {
  "kernelspec": {
   "display_name": "Julia 1.8.0-rc1",
   "language": "julia",
   "name": "julia-1.8"
  },
  "language_info": {
   "file_extension": ".jl",
   "mimetype": "application/julia",
   "name": "julia",
   "version": "1.8.0"
  }
 },
 "nbformat": 4,
 "nbformat_minor": 5
}
