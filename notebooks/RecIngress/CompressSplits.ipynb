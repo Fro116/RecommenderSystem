{
 "cells": [
  {
   "cell_type": "markdown",
   "id": "cc489d0a-a7c7-46ce-b594-a69b40c91515",
   "metadata": {},
   "source": [
    "# Write the user anime list in a Julia optimized format"
   ]
  },
  {
   "cell_type": "code",
   "execution_count": null,
   "id": "674c10f3-5f4f-4e25-b766-dfc51bb0f9e6",
   "metadata": {},
   "outputs": [],
   "source": [
    "using CSV\n",
    "using DataFrames\n",
    "using JLD2\n",
    "using JupyterFormatter"
   ]
  },
  {
   "cell_type": "code",
   "execution_count": null,
   "id": "63210d73-c657-40d7-9624-a53038c40bab",
   "metadata": {},
   "outputs": [],
   "source": [
    "enable_autoformat();"
   ]
  },
  {
   "cell_type": "code",
   "execution_count": null,
   "id": "1a1a93d8-8f93-4be1-a71a-0299dc0fd49d",
   "metadata": {},
   "outputs": [],
   "source": [
    "dir = \"../../data/recommendations\";"
   ]
  },
  {
   "cell_type": "code",
   "execution_count": null,
   "id": "b9669929-ec94-49f6-bd77-e5c1a95683a3",
   "metadata": {
    "tags": [
     "parameters"
    ]
   },
   "outputs": [],
   "source": [
    "username = \"\"\n",
    "source = \"\""
   ]
  },
  {
   "cell_type": "code",
   "execution_count": null,
   "id": "ccd4e41a-f0ba-40f3-bfae-b6245963a37b",
   "metadata": {},
   "outputs": [],
   "source": [
    "struct RatingsDataset\n",
    "    user::Vector{Int32}\n",
    "    item::Vector{Int32}\n",
    "    rating::Vector{Float32}\n",
    "    timestamp::Vector{Float32}\n",
    "    user_timestamp::Vector{Float32}\n",
    "    item_timestamp::Vector{Float32}\n",
    "    status::Vector{Int32}\n",
    "    completion::Vector{Float32}\n",
    "    rewatch::Vector{Int32}\n",
    "    source::Vector{Int32}\n",
    "end;"
   ]
  },
  {
   "cell_type": "code",
   "execution_count": null,
   "id": "cdba320d-6057-46f1-8663-770a5cb081ba",
   "metadata": {},
   "outputs": [],
   "source": [
    "function get_dataset(file)\n",
    "    df = DataFrame(CSV.File(file))\n",
    "    RatingsDataset(\n",
    "        fill(1, length(df.username)), # julia is 1 indexed\n",
    "        df.animeid .+ 1, # julia is 1 indexed\n",
    "        df.score,\n",
    "        df.timestamp,\n",
    "        df.user_rel_timestamp,\n",
    "        df.item_rel_timestamp,\n",
    "        df.status,\n",
    "        df.completion,\n",
    "        df.rewatch,\n",
    "        df.source,\n",
    "    )\n",
    "end;"
   ]
  },
  {
   "cell_type": "code",
   "execution_count": null,
   "id": "f3b7f9e0-a99a-4434-9cb7-f20084050f83",
   "metadata": {},
   "outputs": [],
   "source": [
    "for content in [\"explicit\", \"implicit\", \"ptw\"]\n",
    "    stem = \"$dir/$username/$content\"\n",
    "    dataset = get_dataset(\"$stem.csv\")\n",
    "    jldsave(\"$stem.jld2\"; dataset)\n",
    "end;"
   ]
  }
 ],
 "metadata": {
  "kernelspec": {
   "display_name": "Julia 1.8.0-rc1",
   "language": "julia",
   "name": "julia-1.8"
  },
  "language_info": {
   "file_extension": ".jl",
   "mimetype": "application/julia",
   "name": "julia",
   "version": "1.8.0"
  }
 },
 "nbformat": 4,
 "nbformat_minor": 5
}
