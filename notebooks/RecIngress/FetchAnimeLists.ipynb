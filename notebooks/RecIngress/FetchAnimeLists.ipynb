{
 "cells": [
  {
   "cell_type": "markdown",
   "metadata": {},
   "source": [
    "# Fetch User Anime List\n",
    "* Given a user, we get an up-to-date version of their anime list\n",
    "* Supports reading public anime-lists from MyAnimeList and AniList\n",
    "* Other websites can be used by exporting the list to XML (see https://malscraper.azurewebsites.net)"
   ]
  },
  {
   "cell_type": "code",
   "execution_count": null,
   "metadata": {},
   "outputs": [],
   "source": [
    "import logging\n",
    "import os\n",
    "import time\n",
    "import xml.etree.ElementTree as ET\n",
    "\n",
    "import pandas as pd"
   ]
  },
  {
   "cell_type": "code",
   "execution_count": null,
   "metadata": {
    "tags": [
     "parameters"
    ]
   },
   "outputs": [],
   "source": [
    "username = \"\"\n",
    "source = \"\""
   ]
  },
  {
   "cell_type": "code",
   "execution_count": null,
   "metadata": {},
   "outputs": [],
   "source": [
    "allowed_sources = [\"MAL\", \"AniList\", \"XML\", \"Training\"]\n",
    "assert source in allowed_sources"
   ]
  },
  {
   "cell_type": "code",
   "execution_count": null,
   "metadata": {},
   "outputs": [],
   "source": [
    "data_path = os.path.join(\"../../data/recommendations\", username)\n",
    "if not os.path.exists(data_path):\n",
    "    os.mkdir(data_path)"
   ]
  },
  {
   "cell_type": "code",
   "execution_count": null,
   "metadata": {},
   "outputs": [],
   "source": [
    "logger = logging.getLogger(\"FetchUserAnimeList\")\n",
    "logger.setLevel(logging.DEBUG)\n",
    "formatter = logging.Formatter(\n",
    "    \"%(name)s:%(levelname)s:%(asctime)s: %(message)s\", datefmt=\"%Y-%m-%d %H:%M:%S\"\n",
    ")\n",
    "for stream in [\n",
    "    logging.StreamHandler(),\n",
    "]:\n",
    "    stream.setFormatter(formatter)\n",
    "    logger.addHandler(stream)"
   ]
  },
  {
   "cell_type": "code",
   "execution_count": null,
   "metadata": {},
   "outputs": [],
   "source": [
    "print(f\"Fetching list for {username} from {source}\")"
   ]
  },
  {
   "cell_type": "code",
   "execution_count": null,
   "metadata": {},
   "outputs": [],
   "source": [
    "def import_from_api(username):\n",
    "    df, ret = get_user_anime_list(username)\n",
    "    if not ret:\n",
    "        raise Exception(f\"Could not resolve list for {username}\")\n",
    "    return df"
   ]
  },
  {
   "cell_type": "code",
   "execution_count": null,
   "metadata": {},
   "outputs": [],
   "source": [
    "def import_from_mal(username):\n",
    "    %run ../API/MalApi.ipynb\n",
    "    return import_from_api(username)"
   ]
  },
  {
   "cell_type": "code",
   "execution_count": null,
   "metadata": {},
   "outputs": [],
   "source": [
    "def import_from_anilist(username):\n",
    "    %run ../API/AnilistApi.ipynb\n",
    "    userid = get_userid(username)\n",
    "    return import_from_api(userid)"
   ]
  },
  {
   "cell_type": "code",
   "execution_count": null,
   "metadata": {},
   "outputs": [],
   "source": [
    "def import_from_splits(username, splits):\n",
    "    userid = int(username)\n",
    "    dfs = []\n",
    "    for content in [\"explicit\", \"implicit\", \"ptw\"]:\n",
    "        for split in splits:\n",
    "            df = pd.read_csv(f\"../../data/splits/{content}_{split}.csv\")\n",
    "            dfs.append(df.loc[lambda x: x[\"username\"] == userid])\n",
    "    df = pd.concat(dfs, ignore_index=True)\n",
    "    return df\n",
    "\n",
    "\n",
    "def import_from_training(username):\n",
    "    return import_from_splits(username, [\"training\"])"
   ]
  },
  {
   "cell_type": "code",
   "execution_count": null,
   "metadata": {},
   "outputs": [],
   "source": [
    "def parse_xml_entry(root):\n",
    "    uid = 0\n",
    "    status = \"\"\n",
    "    score = 0\n",
    "    num_episodes_watched = 0\n",
    "\n",
    "    # unparseable fields\n",
    "    is_rewatching = 0\n",
    "    start_date = 0\n",
    "    finish_date = 0\n",
    "    priority = 0\n",
    "    num_times_rewatched = -1\n",
    "    rewatch_value = 0\n",
    "    updated_at = \"1970-01-01T00:00:00+00:00\"\n",
    "\n",
    "    xml_statuses = {\n",
    "        \"Watching\": \"watching\",\n",
    "        \"Completed\": \"completed\",\n",
    "        \"Dropped\": \"dropped\",\n",
    "        \"On-Hold\": \"on_hold\",\n",
    "        \"Plan to Watch\": \"plan_to_watch\",\n",
    "    }\n",
    "\n",
    "    for child in root:\n",
    "        if child.tag == \"series_animedb_id\":\n",
    "            uid = int(child.text)\n",
    "        if child.tag == \"my_score\":\n",
    "            score = float(child.text)\n",
    "        if child.tag == \"my_status\":\n",
    "            status = xml_statuses.get(child.text)\n",
    "        if child.tag == \"my_watched_episodes\":\n",
    "            num_episodes_watched = int(child.text)\n",
    "    return (\n",
    "        uid,\n",
    "        status,\n",
    "        score,\n",
    "        num_episodes_watched,\n",
    "        is_rewatching,\n",
    "        start_date,\n",
    "        finish_date,\n",
    "        priority,\n",
    "        num_times_rewatched,\n",
    "        rewatch_value,\n",
    "        updated_at,\n",
    "    )\n",
    "\n",
    "\n",
    "def import_from_xml(username):\n",
    "    file = os.path.join(data_path, f\"../../xml/{username}.xml\")\n",
    "    tree = ET.parse(file)\n",
    "    root = tree.getroot()\n",
    "    assert (root[0][1].tag == \"user_name\") and (root[0][1].text == username)\n",
    "    records = []\n",
    "    for child in root:\n",
    "        if child.tag == \"anime\":\n",
    "            fields = parse_xml_entry(child)\n",
    "            records.append((*fields, username))\n",
    "    return pd.DataFrame.from_records(\n",
    "        records,\n",
    "        columns=[\n",
    "            \"uid\",\n",
    "            \"status\",\n",
    "            \"score\",\n",
    "            \"num_episodes_watched\",\n",
    "            \"is_rewatching\",\n",
    "            \"start_date\",\n",
    "            \"finish_date\",\n",
    "            \"priority\",\n",
    "            \"num_times_rewatched\",\n",
    "            \"rewatch_value\",\n",
    "            \"updated_at\",\n",
    "            \"username\",\n",
    "        ],\n",
    "    )"
   ]
  },
  {
   "cell_type": "code",
   "execution_count": null,
   "metadata": {
    "tags": []
   },
   "outputs": [],
   "source": [
    "import_fns = {\n",
    "    \"MAL\": import_from_mal,\n",
    "    \"AniList\": import_from_anilist,\n",
    "    \"XML\": import_from_xml,\n",
    "    \"Training\": import_from_training,\n",
    "}\n",
    "if not source in import_fns:\n",
    "    raise Exception(f\"Unsupported animelist source {source}\")"
   ]
  },
  {
   "cell_type": "code",
   "execution_count": null,
   "metadata": {},
   "outputs": [],
   "source": [
    "df = import_fns[source](username)"
   ]
  },
  {
   "cell_type": "code",
   "execution_count": null,
   "metadata": {},
   "outputs": [],
   "source": [
    "def save_path(source):\n",
    "    return os.path.join(data_path, f\"user_anime_list.{source.lower()}.csv\")\n",
    "\n",
    "\n",
    "for prev_source in allowed_sources:\n",
    "    if os.path.exists(save_path(prev_source)):\n",
    "        os.remove(save_path(prev_source))\n",
    "df.to_csv(save_path(source), index=False)"
   ]
  }
 ],
 "metadata": {
  "kernelspec": {
   "display_name": "Python 3 (ipykernel)",
   "language": "python",
   "name": "python3"
  },
  "language_info": {
   "codemirror_mode": {
    "name": "ipython",
    "version": 3
   },
   "file_extension": ".py",
   "mimetype": "text/x-python",
   "name": "python",
   "nbconvert_exporter": "python",
   "pygments_lexer": "ipython3",
   "version": "3.10.6"
  }
 },
 "nbformat": 4,
 "nbformat_minor": 4
}
