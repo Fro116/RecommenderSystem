{
 "cells": [
  {
   "cell_type": "markdown",
   "metadata": {},
   "source": [
    "# Fetch User Anime List\n",
    "* Given a user, we get an up-to-date version of their anime list\n",
    "* Supports reading public anime-lists from MyAnimeList and AniList"
   ]
  },
  {
   "cell_type": "code",
   "execution_count": null,
   "metadata": {},
   "outputs": [],
   "source": [
    "import logging\n",
    "import os\n",
    "\n",
    "import pandas as pd"
   ]
  },
  {
   "cell_type": "code",
   "execution_count": null,
   "metadata": {
    "tags": [
     "parameters"
    ]
   },
   "outputs": [],
   "source": [
    "username = \"\"\n",
    "source = \"\""
   ]
  },
  {
   "cell_type": "code",
   "execution_count": null,
   "metadata": {},
   "outputs": [],
   "source": [
    "allowed_sources = [\"MAL\", \"AniList\", \"Training\"]\n",
    "assert source in allowed_sources"
   ]
  },
  {
   "cell_type": "code",
   "execution_count": null,
   "metadata": {},
   "outputs": [],
   "source": [
    "data_path = os.path.join(\"../../data/recommendations\", username)\n",
    "if not os.path.exists(data_path):\n",
    "    os.mkdir(data_path)"
   ]
  },
  {
   "cell_type": "code",
   "execution_count": null,
   "metadata": {},
   "outputs": [],
   "source": [
    "logger = logging.getLogger(\"FetchUserAnimeList\")\n",
    "logger.setLevel(logging.DEBUG)\n",
    "formatter = logging.Formatter(\n",
    "    \"%(name)s:%(levelname)s:%(asctime)s: %(message)s\", datefmt=\"%Y-%m-%d %H:%M:%S\"\n",
    ")\n",
    "for stream in [\n",
    "    logging.StreamHandler(),\n",
    "]:\n",
    "    stream.setFormatter(formatter)\n",
    "    logger.addHandler(stream)"
   ]
  },
  {
   "cell_type": "code",
   "execution_count": null,
   "metadata": {},
   "outputs": [],
   "source": [
    "print(f\"Fetching list for {username} from {source}\")"
   ]
  },
  {
   "cell_type": "code",
   "execution_count": null,
   "metadata": {},
   "outputs": [],
   "source": [
    "def import_from_api(username):\n",
    "    df, ret = get_user_anime_list(username)\n",
    "    if not ret:\n",
    "        raise Exception(f\"Could not resolve list for {username}\")\n",
    "    return df"
   ]
  },
  {
   "cell_type": "code",
   "execution_count": null,
   "metadata": {},
   "outputs": [],
   "source": [
    "def import_from_mal(username):\n",
    "    %run ../API/MalApi.ipynb\n",
    "    return import_from_api(username)"
   ]
  },
  {
   "cell_type": "code",
   "execution_count": null,
   "metadata": {},
   "outputs": [],
   "source": [
    "def import_from_anilist(username):\n",
    "    %run ../API/AnilistApi.ipynb\n",
    "    return import_from_api(username)"
   ]
  },
  {
   "cell_type": "code",
   "execution_count": null,
   "metadata": {},
   "outputs": [],
   "source": [
    "def import_from_splits(username, splits):\n",
    "    userid = int(username)\n",
    "    dfs = []\n",
    "    for content in [\"explicit\", \"implicit\", \"ptw\"]:\n",
    "        for split in splits:\n",
    "            df = pd.read_csv(f\"../../data/splits/{content}_{split}.csv\")\n",
    "            dfs.append(df.loc[lambda x: x[\"username\"] == userid])\n",
    "    df = pd.concat(dfs, ignore_index=True)\n",
    "    return df\n",
    "\n",
    "\n",
    "def import_from_training(username):\n",
    "    return import_from_splits(username, [\"training\"])"
   ]
  },
  {
   "cell_type": "code",
   "execution_count": null,
   "metadata": {
    "tags": []
   },
   "outputs": [],
   "source": [
    "import_fns = {\n",
    "    \"MAL\": import_from_mal,\n",
    "    \"AniList\": import_from_anilist,\n",
    "    \"Training\": import_from_training,\n",
    "}\n",
    "if not source in import_fns:\n",
    "    raise Exception(f\"Unsupported animelist source {source}\")"
   ]
  },
  {
   "cell_type": "code",
   "execution_count": null,
   "metadata": {},
   "outputs": [],
   "source": [
    "df = import_fns[source](username)"
   ]
  },
  {
   "cell_type": "code",
   "execution_count": null,
   "metadata": {},
   "outputs": [],
   "source": [
    "def save_path(source):\n",
    "    return os.path.join(data_path, f\"user_anime_list.{source.lower()}.csv\")\n",
    "\n",
    "\n",
    "for prev_source in allowed_sources:\n",
    "    if os.path.exists(save_path(prev_source)):\n",
    "        os.remove(save_path(prev_source))\n",
    "df.to_csv(save_path(source), index=False)"
   ]
  }
 ],
 "metadata": {
  "kernelspec": {
   "display_name": "Python 3 (ipykernel)",
   "language": "python",
   "name": "python3"
  },
  "language_info": {
   "codemirror_mode": {
    "name": "ipython",
    "version": 3
   },
   "file_extension": ".py",
   "mimetype": "text/x-python",
   "name": "python",
   "nbconvert_exporter": "python",
   "pygments_lexer": "ipython3",
   "version": "3.10.4"
  }
 },
 "nbformat": 4,
 "nbformat_minor": 4
}
