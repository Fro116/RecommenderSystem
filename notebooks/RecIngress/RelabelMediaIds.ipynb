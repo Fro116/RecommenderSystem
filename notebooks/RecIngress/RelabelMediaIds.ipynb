{
 "cells": [
  {
   "cell_type": "markdown",
   "metadata": {},
   "source": [
    "# Relabel IDs"
   ]
  },
  {
   "cell_type": "code",
   "execution_count": null,
   "metadata": {},
   "outputs": [],
   "source": [
    "import logging\n",
    "import os\n",
    "import shutil\n",
    "\n",
    "import pandas as pd\n",
    "from tqdm import tqdm"
   ]
  },
  {
   "cell_type": "code",
   "execution_count": null,
   "metadata": {
    "tags": [
     "parameters"
    ]
   },
   "outputs": [],
   "source": [
    "username = \"\"\n",
    "source = \"\"\n",
    "media = \"\""
   ]
  },
  {
   "cell_type": "code",
   "execution_count": null,
   "metadata": {},
   "outputs": [],
   "source": [
    "processed_dir = \"../../data/processed_data\"\n",
    "media_to_uid = pd.read_csv(os.path.join(processed_dir, f\"{media}_to_uid.csv\"))\n",
    "media_to_uid = media_to_uid.set_index(f\"{media}id\")[\"uid\"].to_dict()\n",
    "username_to_uid = {f\"{source}@{username}\": 0}"
   ]
  },
  {
   "cell_type": "code",
   "execution_count": null,
   "metadata": {
    "tags": []
   },
   "outputs": [],
   "source": [
    "def process(file):\n",
    "    with open(file, \"r\") as in_file, open(file + \"~\", \"w\") as out_file:\n",
    "        header = False\n",
    "        for line in tqdm(in_file):\n",
    "            if not header:\n",
    "                header = True\n",
    "                out_file.write(line)\n",
    "                continue\n",
    "            fields = line.strip().split(\",\")\n",
    "            item = int(fields[1])\n",
    "            user = fields[0]\n",
    "            if item not in media_to_uid:\n",
    "                logging.warning(\n",
    "                    f\"Skipping item {item} because it was not found in the database. \"\n",
    "                    \"This can happen if a new item was released after the database \"\n",
    "                    \"was collected. If this happens too often, consider refreshing \"\n",
    "                    \"the database.\"\n",
    "                )\n",
    "                continue\n",
    "            fields[0] = str(username_to_uid[user])\n",
    "            fields[1] = str(media_to_uid[item])\n",
    "            out_file.write(\",\".join(fields) + \"\\n\")\n",
    "    os.rename(file + \"~\", file)"
   ]
  },
  {
   "cell_type": "code",
   "execution_count": null,
   "metadata": {},
   "outputs": [],
   "source": [
    "if source != \"Training\":\n",
    "    data_path = os.path.join(\"../../data/recommendations\", username)\n",
    "    src = os.path.join(data_path, f\"user_{media}_list.csv\")\n",
    "    process(src)"
   ]
  }
 ],
 "metadata": {
  "kernelspec": {
   "display_name": "Python 3 (ipykernel)",
   "language": "python",
   "name": "python3"
  },
  "language_info": {
   "codemirror_mode": {
    "name": "ipython",
    "version": 3
   },
   "file_extension": ".py",
   "mimetype": "text/x-python",
   "name": "python",
   "nbconvert_exporter": "python",
   "pygments_lexer": "ipython3",
   "version": "3.10.6"
  }
 },
 "nbformat": 4,
 "nbformat_minor": 4
}
