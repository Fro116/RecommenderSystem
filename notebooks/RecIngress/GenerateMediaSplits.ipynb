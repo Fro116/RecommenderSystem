{
 "cells": [
  {
   "cell_type": "markdown",
   "metadata": {},
   "source": [
    "# Generate Splits"
   ]
  },
  {
   "cell_type": "code",
   "execution_count": null,
   "metadata": {},
   "outputs": [],
   "source": [
    "import os\n",
    "\n",
    "import pandas as pd"
   ]
  },
  {
   "cell_type": "code",
   "execution_count": null,
   "metadata": {
    "tags": [
     "parameters"
    ]
   },
   "outputs": [],
   "source": [
    "username = \"\"\n",
    "source = \"\"\n",
    "media = \"\""
   ]
  },
  {
   "cell_type": "code",
   "execution_count": null,
   "metadata": {},
   "outputs": [],
   "source": [
    "data_path = os.path.join(\"../../data/recommendations\", source, username)"
   ]
  },
  {
   "cell_type": "code",
   "execution_count": null,
   "metadata": {},
   "outputs": [],
   "source": [
    "def fullpath(x):\n",
    "    return os.path.join(data_path, f\"user_{x}_list.csv\")"
   ]
  },
  {
   "cell_type": "code",
   "execution_count": null,
   "metadata": {},
   "outputs": [],
   "source": [
    "df = pd.read_csv(fullpath(media))\n",
    "df = df.sort_values(by=[\"update_order\", \"updated_at\"]).reset_index(drop=True)\n",
    "df[\"unit\"] = 1\n",
    "df[\"forward_order\"] = (\n",
    "    df.groupby(\"userid\", group_keys=False)[\"unit\"].apply(lambda x: x.cumsum()).values\n",
    ")\n",
    "df[\"backward_order\"] = (\n",
    "    df.groupby(\"userid\", group_keys=False)[\"unit\"]\n",
    "    .apply(lambda x: x.cumsum()[::-1])\n",
    "    .values\n",
    ")\n",
    "df.to_csv(fullpath(media), index=False)"
   ]
  }
 ],
 "metadata": {
  "kernelspec": {
   "display_name": "Python 3 (ipykernel)",
   "language": "python",
   "name": "python3"
  },
  "language_info": {
   "codemirror_mode": {
    "name": "ipython",
    "version": 3
   },
   "file_extension": ".py",
   "mimetype": "text/x-python",
   "name": "python",
   "nbconvert_exporter": "python",
   "pygments_lexer": "ipython3",
   "version": "3.10.12"
  }
 },
 "nbformat": 4,
 "nbformat_minor": 4
}
