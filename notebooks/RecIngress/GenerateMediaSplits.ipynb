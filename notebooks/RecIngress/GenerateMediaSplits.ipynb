{
 "cells": [
  {
   "cell_type": "markdown",
   "metadata": {},
   "source": [
    "# Generate Media Splits"
   ]
  },
  {
   "cell_type": "code",
   "execution_count": null,
   "metadata": {},
   "outputs": [],
   "source": [
    "import os\n",
    "\n",
    "import pandas as pd\n",
    "import yaml"
   ]
  },
  {
   "cell_type": "code",
   "execution_count": null,
   "metadata": {
    "tags": [
     "parameters"
    ]
   },
   "outputs": [],
   "source": [
    "username = \"\"\n",
    "source = \"\"\n",
    "original_source = \"\"\n",
    "media = \"\""
   ]
  },
  {
   "cell_type": "code",
   "execution_count": null,
   "metadata": {},
   "outputs": [],
   "source": [
    "data_path = os.path.join(\"../../data/recommendations\", source, username)"
   ]
  },
  {
   "cell_type": "code",
   "execution_count": null,
   "metadata": {},
   "outputs": [],
   "source": [
    "def fullpath(x):\n",
    "    return os.path.join(data_path, f\"user_{x}_list.csv\")"
   ]
  },
  {
   "cell_type": "markdown",
   "metadata": {},
   "source": [
    "## Knowledge Cutoff"
   ]
  },
  {
   "cell_type": "code",
   "execution_count": null,
   "metadata": {
    "tags": []
   },
   "outputs": [],
   "source": [
    "def get_settings():\n",
    "    d = {}\n",
    "    for s in [\"default_settings\", \"private_settings\"]:\n",
    "        with open(f\"../../environment/{s}.yml\", \"r\") as f:\n",
    "            d |= yaml.safe_load(f)\n",
    "    return d"
   ]
  },
  {
   "cell_type": "code",
   "execution_count": null,
   "metadata": {},
   "outputs": [],
   "source": [
    "def get_knowledge_cutoff(days):\n",
    "    def parse_line(file, field, format=int):\n",
    "        line = file.readline()\n",
    "        fields = line.strip().split(\",\")\n",
    "        assert len(fields) == 2\n",
    "        assert fields[0] == field\n",
    "        return format(fields[1])\n",
    "\n",
    "    with open(\"../../data/processed_data/timestamps.csv\") as f:\n",
    "        min_timestamp = parse_line(f, \"min_timestamp\")\n",
    "        max_timestamp = parse_line(f, \"max_timestamp\")\n",
    "\n",
    "    seconds_in_day = 24 * 60 * 60\n",
    "    return 1.0 - days * seconds_in_day / (max_timestamp - min_timestamp)"
   ]
  },
  {
   "cell_type": "code",
   "execution_count": null,
   "metadata": {
    "tags": []
   },
   "outputs": [],
   "source": [
    "df = pd.read_csv(fullpath(media))\n",
    "if original_source == \"training\":\n",
    "    settings = get_settings()\n",
    "    if settings[\"mode\"] == \"research\":\n",
    "        cutoff_days = settings[\"cutoff_days\"]\n",
    "        cutoff = get_knowledge_cutoff(cutoff_days)\n",
    "        df = df.query(f\"updated_at <= {cutoff}\")"
   ]
  },
  {
   "cell_type": "markdown",
   "metadata": {},
   "source": [
    "## Generate Splits"
   ]
  },
  {
   "cell_type": "code",
   "execution_count": null,
   "metadata": {},
   "outputs": [],
   "source": [
    "df = df.sort_values(by=[\"update_order\", \"updated_at\"]).reset_index(drop=True)\n",
    "df[\"unit\"] = 1\n",
    "df[\"forward_order\"] = (\n",
    "    df.groupby(\"userid\", group_keys=False)[\"unit\"].apply(lambda x: x.cumsum()).values\n",
    ")\n",
    "df[\"backward_order\"] = (\n",
    "    df.groupby(\"userid\", group_keys=False)[\"unit\"]\n",
    "    .apply(lambda x: x.cumsum()[::-1])\n",
    "    .values\n",
    ")\n",
    "df.to_csv(fullpath(media), index=False)"
   ]
  }
 ],
 "metadata": {
  "kernelspec": {
   "display_name": "Python 3 (ipykernel)",
   "language": "python",
   "name": "python3"
  },
  "language_info": {
   "codemirror_mode": {
    "name": "ipython",
    "version": 3
   },
   "file_extension": ".py",
   "mimetype": "text/x-python",
   "name": "python",
   "nbconvert_exporter": "python",
   "pygments_lexer": "ipython3",
   "version": "3.10.12"
  }
 },
 "nbformat": 4,
 "nbformat_minor": 4
}
