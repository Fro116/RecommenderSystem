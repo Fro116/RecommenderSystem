{
 "cells": [
  {
   "cell_type": "markdown",
   "metadata": {},
   "source": [
    "# Fetch Media List\n",
    "* Queries a user's anime and manga lists"
   ]
  },
  {
   "cell_type": "code",
   "execution_count": 3,
   "metadata": {
    "execution": {
     "iopub.execute_input": "2024-02-17T22:48:25.621988Z",
     "iopub.status.busy": "2024-02-17T22:48:25.621563Z",
     "iopub.status.idle": "2024-02-17T22:48:25.772217Z",
     "shell.execute_reply": "2024-02-17T22:48:25.771893Z",
     "shell.execute_reply.started": "2024-02-17T22:48:25.621953Z"
    }
   },
   "outputs": [],
   "source": [
    "import glob\n",
    "import logging\n",
    "import os\n",
    "import time\n",
    "from io import StringIO\n",
    "\n",
    "import pandas as pd\n",
    "from tqdm import tqdm"
   ]
  },
  {
   "cell_type": "code",
   "execution_count": null,
   "metadata": {
    "tags": [
     "parameters"
    ]
   },
   "outputs": [],
   "source": [
    "username = \"\"\n",
    "source = \"\""
   ]
  },
  {
   "cell_type": "code",
   "execution_count": null,
   "metadata": {},
   "outputs": [],
   "source": [
    "logging.getLogger().setLevel(logging.INFO)"
   ]
  },
  {
   "cell_type": "code",
   "execution_count": null,
   "metadata": {},
   "outputs": [],
   "source": [
    "PROXY_NUMBER = 0\n",
    "TOKEN_NUMBER = 0"
   ]
  },
  {
   "cell_type": "code",
   "execution_count": null,
   "metadata": {},
   "outputs": [],
   "source": [
    "allowed_sources = [\"mal\", \"anilist\", \"kitsu\", \"animeplanet\", \"training\"]\n",
    "assert source in allowed_sources"
   ]
  },
  {
   "cell_type": "code",
   "execution_count": null,
   "metadata": {},
   "outputs": [],
   "source": [
    "logger = logging.getLogger(\"FetchMediaLists\")\n",
    "logger.setLevel(logging.DEBUG)\n",
    "formatter = logging.Formatter(\n",
    "    \"%(name)s:%(levelname)s:%(asctime)s: %(message)s\", datefmt=\"%Y-%m-%d %H:%M:%S\"\n",
    ")\n",
    "for stream in [\n",
    "    logging.StreamHandler(),\n",
    "]:\n",
    "    stream.setFormatter(formatter)\n",
    "    logger.addHandler(stream)"
   ]
  },
  {
   "cell_type": "code",
   "execution_count": null,
   "metadata": {},
   "outputs": [],
   "source": [
    "logging.info(f\"Fetching lists for {username} from {source}\")"
   ]
  },
  {
   "cell_type": "code",
   "execution_count": null,
   "metadata": {},
   "outputs": [],
   "source": [
    "def import_from_api(username, medium, source):\n",
    "    pwd = os.getcwd()\n",
    "    try:\n",
    "        os.chdir(\"../API/API\")\n",
    "        if source == \"mal\":\n",
    "            %run MalApi.ipynb\n",
    "        elif source == \"anilist\":\n",
    "            %run AnilistApi.ipynb\n",
    "            if isinstance(username, str):\n",
    "                username = get_userid(username)\n",
    "        elif source == \"kitsu\":\n",
    "            if isinstance(username, str):\n",
    "                username = get_userid(username)\n",
    "            %run KitsuApi.ipynb\n",
    "        elif source == \"animeplanet\":\n",
    "            %run AnimeplanetApi.ipynb\n",
    "        df, ret = get_user_media_list(username, medium)\n",
    "        if not ret:\n",
    "            raise Exception(f\"Could not resolve list for {username}\")\n",
    "    finally:\n",
    "        os.chdir(pwd)\n",
    "    return df"
   ]
  },
  {
   "cell_type": "code",
   "execution_count": null,
   "metadata": {},
   "outputs": [],
   "source": [
    "def import_from_training(username, medium):\n",
    "    s, usertag = username.split(\"@\")\n",
    "    lines = []\n",
    "\n",
    "    files = glob.glob(f\"../../data/{s}/user_media_facts/user_status.*.csv\")\n",
    "    fn = None\n",
    "    for f in tqdm(files):\n",
    "        df = pd.read_csv(f).query(f\"username == '{usertag}'\")\n",
    "        if not df.empty:\n",
    "            fn = f\n",
    "            break\n",
    "    assert fn is not None, f\"could not find {username}\"\n",
    "    media_fn = f.replace(\"user_status\", f\"user_{medium}_list\")\n",
    "    df = pd.read_csv(media_fn).query(f\"username == '{usertag}'\")\n",
    "    return df"
   ]
  },
  {
   "cell_type": "code",
   "execution_count": null,
   "metadata": {},
   "outputs": [],
   "source": [
    "def import_list(userid, medium, source):\n",
    "    if source == \"training\":\n",
    "        return import_from_training(username, medium)\n",
    "    else:\n",
    "        return import_from_api(username, medium, source)"
   ]
  },
  {
   "cell_type": "code",
   "execution_count": 1,
   "metadata": {
    "execution": {
     "iopub.execute_input": "2024-02-17T22:48:04.117660Z",
     "iopub.status.busy": "2024-02-17T22:48:04.116597Z",
     "iopub.status.idle": "2024-02-17T22:48:04.125459Z",
     "shell.execute_reply": "2024-02-17T22:48:04.125183Z",
     "shell.execute_reply.started": "2024-02-17T22:48:04.117606Z"
    }
   },
   "outputs": [],
   "source": [
    "def save_path(source, username, medium):\n",
    "    if source == \"training\":\n",
    "        source, username = username.split(\"@\")\n",
    "    data_path = os.path.join(\"../../data/recommendations\", source, str(username))\n",
    "    if not os.path.exists(data_path):\n",
    "        os.makedirs(data_path)\n",
    "    return os.path.join(data_path, f\"user_{medium}_list.{source}.csv\")"
   ]
  },
  {
   "cell_type": "code",
   "execution_count": null,
   "metadata": {},
   "outputs": [],
   "source": [
    "for medium in [\"manga\", \"anime\"]:\n",
    "    df = import_list(username, medium, source)\n",
    "    df.to_csv(save_path(source, username, medium), index=False)"
   ]
  }
 ],
 "metadata": {
  "kernelspec": {
   "display_name": "Python 3 (ipykernel)",
   "language": "python",
   "name": "python3"
  },
  "language_info": {
   "codemirror_mode": {
    "name": "ipython",
    "version": 3
   },
   "file_extension": ".py",
   "mimetype": "text/x-python",
   "name": "python",
   "nbconvert_exporter": "python",
   "pygments_lexer": "ipython3",
   "version": "3.10.12"
  }
 },
 "nbformat": 4,
 "nbformat_minor": 4
}
