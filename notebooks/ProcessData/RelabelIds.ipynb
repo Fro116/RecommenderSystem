{
 "cells": [
  {
   "cell_type": "markdown",
   "id": "dbf03b87-063f-46fe-b392-0d6399dca361",
   "metadata": {},
   "source": [
    "# Relabel IDs\n",
    "* Anonymizes the dataset by assigning a unique id for each user and item\n",
    "* The ids are guaranteed to be consecutive\n",
    "* We drop users and items that have no ratings"
   ]
  },
  {
   "cell_type": "code",
   "execution_count": null,
   "id": "54b1ceb4-d65a-410a-b876-93c491c0cd4c",
   "metadata": {
    "tags": []
   },
   "outputs": [],
   "source": [
    "import os\n",
    "import random\n",
    "\n",
    "import pandas as pd\n",
    "from tqdm import tqdm"
   ]
  },
  {
   "cell_type": "code",
   "execution_count": null,
   "id": "167c509b-62a9-492d-965c-78e5631e7085",
   "metadata": {},
   "outputs": [],
   "source": [
    "outdir = \"../../data/processed_data\"\n",
    "if not os.path.exists(outdir):\n",
    "    os.mkdir(outdir)"
   ]
  },
  {
   "cell_type": "code",
   "execution_count": null,
   "id": "282ae71d-1743-4e35-8005-37c8b3e54256",
   "metadata": {},
   "outputs": [],
   "source": [
    "def get_unique_values(media, col):\n",
    "    values = set()\n",
    "    file = os.path.join(outdir, f\"user_{media}_list.csv\")\n",
    "    with open(file, \"r\") as in_file:\n",
    "        header = False\n",
    "        for line in tqdm(in_file):\n",
    "            fields = line.strip().split(\",\")\n",
    "            if not header:\n",
    "                header = True\n",
    "                idx = fields.index(col)\n",
    "                continue\n",
    "            values.add(fields[idx])\n",
    "    return list(values)"
   ]
  },
  {
   "cell_type": "code",
   "execution_count": null,
   "id": "6d7aca6e-2483-47cc-b915-7e8eb0ebaae3",
   "metadata": {},
   "outputs": [],
   "source": [
    "def shuffle_media_ids(media):\n",
    "    items = pd.DataFrame()\n",
    "    shuffled_items = get_unique_values(media, f\"{media}id\")\n",
    "    random.shuffle(shuffled_items)\n",
    "    items[f\"{media}id\"] = shuffled_items\n",
    "    items[\"uid\"] = items.index\n",
    "    items.to_csv(os.path.join(outdir, f\"{media}_to_uid.csv\"), index=False)\n",
    "    return items.set_index(f\"{media}id\")[\"uid\"].to_dict()"
   ]
  },
  {
   "cell_type": "code",
   "execution_count": null,
   "id": "edd6e1d7-0bc5-454f-9173-7c78e947bece",
   "metadata": {},
   "outputs": [],
   "source": [
    "def shuffle_usernames():\n",
    "    usernames = pd.DataFrame()\n",
    "    shuffled_usernames = list(\n",
    "        set(get_unique_values(\"anime\", \"username\"))\n",
    "        | set(get_unique_values(\"manga\", \"username\"))\n",
    "    )\n",
    "    random.shuffle(shuffled_usernames)\n",
    "    usernames[\"username\"] = shuffled_usernames\n",
    "    usernames[\"uid\"] = usernames.index\n",
    "    usernames.to_csv(os.path.join(outdir, \"username_to_uid.csv\"), index=False)    \n",
    "    return usernames.set_index(\"username\")[\"uid\"].to_dict()"
   ]
  },
  {
   "cell_type": "code",
   "execution_count": null,
   "id": "c911462c-ccb1-48a6-b263-9dc6f401a8f7",
   "metadata": {},
   "outputs": [],
   "source": [
    "def process(file, media, username_to_uid, media_to_uid):\n",
    "    file = os.path.join(outdir, file)\n",
    "    with open(file, \"r\") as in_file, open(file + \"~\", \"w\") as out_file:\n",
    "        header = False\n",
    "        for line in tqdm(in_file):\n",
    "            if not header:\n",
    "                header = True\n",
    "                user_col = line.strip().split(\",\").index(\"username\")\n",
    "                item_col = line.strip().split(\",\").index(f\"{media}id\")\n",
    "                out_file.write(line)\n",
    "                continue\n",
    "            fields = line.strip().split(\",\")\n",
    "            fields[user_col] = str(username_to_uid[fields[user_col]])\n",
    "            fields[item_col] = str(media_to_uid[fields[item_col]])\n",
    "            out_file.write(\",\".join(fields) + \"\\n\")\n",
    "    os.rename(file + \"~\", file)"
   ]
  },
  {
   "cell_type": "code",
   "execution_count": null,
   "id": "8fd86308-548e-45f4-b825-765ee0c16e34",
   "metadata": {},
   "outputs": [],
   "source": [
    "username_to_uid = shuffle_usernames()\n",
    "for media in [\"anime\", \"manga\"]:\n",
    "    media_to_uid = shuffle_media_ids(media)\n",
    "    process(f\"user_{media}_list.csv\", media, username_to_uid, media_to_uid)"
   ]
  }
 ],
 "metadata": {
  "kernelspec": {
   "display_name": "Python 3 (ipykernel)",
   "language": "python",
   "name": "python3"
  },
  "language_info": {
   "codemirror_mode": {
    "name": "ipython",
    "version": 3
   },
   "file_extension": ".py",
   "mimetype": "text/x-python",
   "name": "python",
   "nbconvert_exporter": "python",
   "pygments_lexer": "ipython3",
   "version": "3.10.6"
  }
 },
 "nbformat": 4,
 "nbformat_minor": 5
}
