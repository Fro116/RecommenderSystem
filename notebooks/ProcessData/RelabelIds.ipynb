{
 "cells": [
  {
   "cell_type": "markdown",
   "id": "dbf03b87-063f-46fe-b392-0d6399dca361",
   "metadata": {},
   "source": [
    "# Assigns a unique id for each user and item\n",
    "* The ids are guaranteed to be consecutive\n",
    "* We drop users and items that have no ratings"
   ]
  },
  {
   "cell_type": "code",
   "execution_count": 1,
   "id": "54b1ceb4-d65a-410a-b876-93c491c0cd4c",
   "metadata": {
    "tags": []
   },
   "outputs": [],
   "source": [
    "import os\n",
    "import random\n",
    "\n",
    "import pandas as pd\n",
    "from tqdm import tqdm"
   ]
  },
  {
   "cell_type": "code",
   "execution_count": 2,
   "id": "992a0836-bb2b-4956-b075-49dbf38aa079",
   "metadata": {},
   "outputs": [],
   "source": [
    "source_dir = \"../../data/raw_data\""
   ]
  },
  {
   "cell_type": "code",
   "execution_count": 3,
   "id": "167c509b-62a9-492d-965c-78e5631e7085",
   "metadata": {},
   "outputs": [],
   "source": [
    "outdir = \"../../data/processed_data\"\n",
    "if not os.path.exists(outdir):\n",
    "    os.mkdir(outdir)"
   ]
  },
  {
   "cell_type": "code",
   "execution_count": 4,
   "id": "1b10e306-d503-4062-8d64-60d6643cfe58",
   "metadata": {},
   "outputs": [],
   "source": [
    "user_anime_lists = pd.concat(\n",
    "    [\n",
    "        pd.read_csv(\n",
    "            os.path.join(source_dir, \"user_explicit_lists.csv\"), keep_default_na=False\n",
    "        ),\n",
    "        pd.read_csv(\n",
    "            os.path.join(source_dir, \"user_implicit_lists.csv\"), keep_default_na=False\n",
    "        ),\n",
    "    ],\n",
    "    ignore_index=True,\n",
    ")"
   ]
  },
  {
   "cell_type": "code",
   "execution_count": 5,
   "id": "647f1207-db44-4135-8d64-1be187f59378",
   "metadata": {},
   "outputs": [],
   "source": [
    "items = pd.DataFrame()\n",
    "shuffled_items = list(sorted(set(user_anime_lists[\"anime_id\"])))\n",
    "random.shuffle(shuffled_items)\n",
    "items[\"anime_id\"] = shuffled_items\n",
    "items[\"uid\"] = items.index\n",
    "items.to_csv(os.path.join(outdir, \"anime_to_uid.csv\"), index=False)"
   ]
  },
  {
   "cell_type": "code",
   "execution_count": 6,
   "id": "b45da26c-bcdb-4f76-a030-85550148c0b1",
   "metadata": {},
   "outputs": [],
   "source": [
    "usernames = pd.DataFrame()\n",
    "shuffled_usernames = list(sorted(set(user_anime_lists[\"username\"])))\n",
    "random.shuffle(shuffled_usernames)\n",
    "usernames[\"username\"] = shuffled_usernames\n",
    "usernames[\"uid\"] = usernames.index\n",
    "usernames.to_csv(os.path.join(outdir, \"username_to_uid.csv\"), index=False)"
   ]
  },
  {
   "cell_type": "code",
   "execution_count": 7,
   "id": "62cc074b-e13c-4273-bc71-0c6ff25a74e8",
   "metadata": {},
   "outputs": [],
   "source": [
    "anime_to_uid = items.set_index(\"anime_id\")[\"uid\"].to_dict()\n",
    "username_to_uid = usernames.set_index(\"username\")[\"uid\"].to_dict()"
   ]
  },
  {
   "cell_type": "code",
   "execution_count": 8,
   "id": "c911462c-ccb1-48a6-b263-9dc6f401a8f7",
   "metadata": {},
   "outputs": [],
   "source": [
    "def process(file):\n",
    "    with open(os.path.join(source_dir, file), \"r\") as in_file, open(\n",
    "        os.path.join(outdir, file), \"w\"\n",
    "    ) as out_file:\n",
    "        header = False\n",
    "        for line in tqdm(in_file):\n",
    "            if not header:\n",
    "                header = True\n",
    "                out_file.write(\"user,item,rating\\n\")\n",
    "                continue\n",
    "            username, anime_id, my_score = line.strip().split(\",\")\n",
    "            username_uid = username_to_uid[username]\n",
    "            anime_uid = anime_to_uid[int(anime_id)]\n",
    "            out_file.write(f\"{username_uid},{anime_uid},{my_score}\\n\")"
   ]
  },
  {
   "cell_type": "code",
   "execution_count": 9,
   "id": "8fd86308-548e-45f4-b825-765ee0c16e34",
   "metadata": {},
   "outputs": [
    {
     "name": "stderr",
     "output_type": "stream",
     "text": [
      "277779930it [02:03, 2254395.97it/s]\n"
     ]
    }
   ],
   "source": [
    "process(\"user_explicit_lists.csv\")"
   ]
  },
  {
   "cell_type": "code",
   "execution_count": 10,
   "id": "b898f65d-167f-4e77-a8f1-17d6e09bc442",
   "metadata": {},
   "outputs": [
    {
     "name": "stderr",
     "output_type": "stream",
     "text": [
      "113729114it [00:52, 2162321.61it/s]\n"
     ]
    }
   ],
   "source": [
    "process(\"user_implicit_lists.csv\")"
   ]
  }
 ],
 "metadata": {
  "kernelspec": {
   "display_name": "Python 3 (ipykernel)",
   "language": "python",
   "name": "python3"
  },
  "language_info": {
   "codemirror_mode": {
    "name": "ipython",
    "version": 3
   },
   "file_extension": ".py",
   "mimetype": "text/x-python",
   "name": "python",
   "nbconvert_exporter": "python",
   "pygments_lexer": "ipython3",
   "version": "3.10.4"
  }
 },
 "nbformat": 4,
 "nbformat_minor": 5
}
