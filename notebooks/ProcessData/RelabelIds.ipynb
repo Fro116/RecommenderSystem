{
 "cells": [
  {
   "cell_type": "markdown",
   "id": "dbf03b87-063f-46fe-b392-0d6399dca361",
   "metadata": {},
   "source": [
    "# Relabel IDs\n",
    "* Anonymizes the dataset by assigning a unique id for each user and item\n",
    "* The ids are guaranteed to be consecutive\n",
    "* We drop users and items that have no ratings"
   ]
  },
  {
   "cell_type": "code",
   "execution_count": null,
   "id": "54b1ceb4-d65a-410a-b876-93c491c0cd4c",
   "metadata": {
    "tags": []
   },
   "outputs": [],
   "source": [
    "import os\n",
    "import random\n",
    "\n",
    "import pandas as pd\n",
    "from tqdm import tqdm"
   ]
  },
  {
   "cell_type": "code",
   "execution_count": null,
   "id": "167c509b-62a9-492d-965c-78e5631e7085",
   "metadata": {},
   "outputs": [],
   "source": [
    "outdir = \"../../data/processed_data\"\n",
    "if not os.path.exists(outdir):\n",
    "    os.mkdir(outdir)"
   ]
  },
  {
   "cell_type": "code",
   "execution_count": null,
   "id": "1b10e306-d503-4062-8d64-60d6643cfe58",
   "metadata": {},
   "outputs": [],
   "source": [
    "user_anime_lists = pd.read_csv(os.path.join(outdir, \"user_anime_list.csv\"), keep_default_na=False)"
   ]
  },
  {
   "cell_type": "code",
   "execution_count": null,
   "id": "647f1207-db44-4135-8d64-1be187f59378",
   "metadata": {},
   "outputs": [],
   "source": [
    "items = pd.DataFrame()\n",
    "shuffled_items = list(sorted(set(user_anime_lists[\"animeid\"])))\n",
    "random.shuffle(shuffled_items)\n",
    "items[\"animeid\"] = shuffled_items\n",
    "items[\"uid\"] = items.index\n",
    "items.to_csv(os.path.join(outdir, \"anime_to_uid.csv\"), index=False)"
   ]
  },
  {
   "cell_type": "code",
   "execution_count": null,
   "id": "b45da26c-bcdb-4f76-a030-85550148c0b1",
   "metadata": {},
   "outputs": [],
   "source": [
    "usernames = pd.DataFrame()\n",
    "shuffled_usernames = list(sorted(set(user_anime_lists[\"username\"])))\n",
    "random.shuffle(shuffled_usernames)\n",
    "usernames[\"username\"] = shuffled_usernames\n",
    "usernames[\"uid\"] = usernames.index\n",
    "usernames.to_csv(os.path.join(outdir, \"username_to_uid.csv\"), index=False)"
   ]
  },
  {
   "cell_type": "code",
   "execution_count": null,
   "id": "62cc074b-e13c-4273-bc71-0c6ff25a74e8",
   "metadata": {},
   "outputs": [],
   "source": [
    "anime_to_uid = items.set_index(\"animeid\")[\"uid\"].to_dict()\n",
    "username_to_uid = usernames.set_index(\"username\")[\"uid\"].to_dict()"
   ]
  },
  {
   "cell_type": "code",
   "execution_count": null,
   "id": "c911462c-ccb1-48a6-b263-9dc6f401a8f7",
   "metadata": {},
   "outputs": [],
   "source": [
    "def process(file):\n",
    "    file = os.path.join(outdir, file)\n",
    "    with open(file, \"r\") as in_file, open(\n",
    "        file + \"~\", \"w\"\n",
    "    ) as out_file:\n",
    "        header = False\n",
    "        for line in tqdm(in_file):\n",
    "            if not header:\n",
    "                header = True\n",
    "                out_file.write(line)\n",
    "                continue\n",
    "            fields = line.strip().split(\",\")\n",
    "            fields[0] = str(username_to_uid[fields[0]])\n",
    "            fields[1] = str(anime_to_uid[int(fields[1])])\n",
    "            out_file.write(\",\".join(fields)+\"\\n\")\n",
    "    os.rename(file+\"~\", file)"
   ]
  },
  {
   "cell_type": "code",
   "execution_count": null,
   "id": "8fd86308-548e-45f4-b825-765ee0c16e34",
   "metadata": {},
   "outputs": [],
   "source": [
    "process(\"user_anime_list.csv\")"
   ]
  }
 ],
 "metadata": {
  "kernelspec": {
   "display_name": "Python 3 (ipykernel)",
   "language": "python",
   "name": "python3"
  },
  "language_info": {
   "codemirror_mode": {
    "name": "ipython",
    "version": 3
   },
   "file_extension": ".py",
   "mimetype": "text/x-python",
   "name": "python",
   "nbconvert_exporter": "python",
   "pygments_lexer": "ipython3",
   "version": "3.8.9"
  }
 },
 "nbformat": 4,
 "nbformat_minor": 5
}
