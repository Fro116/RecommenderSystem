{
 "cells": [
  {
   "cell_type": "markdown",
   "id": "dbf03b87-063f-46fe-b392-0d6399dca361",
   "metadata": {},
   "source": [
    "# Normalizes the matrix of user-item ratings\n",
    "* The normalizer performs the following steps:\n",
    "  * subtracts out the baseline predictor\n",
    "  * computes a confidence for each rating"
   ]
  },
  {
   "cell_type": "code",
   "execution_count": 1,
   "id": "54b1ceb4-d65a-410a-b876-93c491c0cd4c",
   "metadata": {},
   "outputs": [],
   "source": [
    "import os\n",
    "import pickle\n",
    "import pandas as pd"
   ]
  },
  {
   "cell_type": "code",
   "execution_count": 2,
   "id": "ac5c64a2-13b9-4c9f-befb-202d5d40106b",
   "metadata": {},
   "outputs": [],
   "source": [
    "os.chdir(\"../../data/cleaned_data\")"
   ]
  },
  {
   "cell_type": "code",
   "execution_count": 3,
   "id": "595c2080-043e-436b-b8cf-c9b607822f3e",
   "metadata": {},
   "outputs": [],
   "source": [
    "df = pickle.load(open(\"user_anime_lists.pkl\", \"rb\"))"
   ]
  },
  {
   "cell_type": "code",
   "execution_count": 4,
   "id": "1797fee5-416e-4a4e-b490-e8f67d03cf42",
   "metadata": {},
   "outputs": [],
   "source": [
    "# compute the baseline predictor\n",
    "average_rating = df[\"my_score\"].mean()\n",
    "\n",
    "user_stats = pd.DataFrame()\n",
    "user_stats['user_bias'] = df.groupby(\"username\")[\"my_score\"].mean() - average_rating\n",
    "\n",
    "anime_stats = pd.DataFrame()\n",
    "anime_stats['anime_bias'] = df.groupby(\"anime_id\")[\"my_score\"].mean() - average_rating\n",
    "\n",
    "df = df.merge(anime_stats, on=[\"anime_id\"]).merge(user_stats, on=[\"username\"])\n",
    "df[\"blp\"] = df[\"anime_bias\"] + df[\"user_bias\"] + average_rating\n",
    "df[\"normalized_score\"] = df[\"my_score\"] - df[\"blp\"]"
   ]
  },
  {
   "cell_type": "code",
   "execution_count": 5,
   "id": "83834c03-f9b1-4e67-a8f0-55a0a7b5ffb0",
   "metadata": {},
   "outputs": [],
   "source": [
    "# estimate the variance in each user-item rating\n",
    "normalized_user_stats = pd.DataFrame()\n",
    "normalized_user_stats['normalized_user_var'] = df.groupby(\"username\")[\"normalized_score\"].var()\n",
    "\n",
    "normalized_anime_stats = pd.DataFrame()\n",
    "normalized_anime_stats['normalized_anime_var'] = df.groupby(\"anime_id\")[\"normalized_score\"].var()\n",
    "\n",
    "df = df.merge(normalized_anime_stats, on=[\"anime_id\"]).merge(normalized_user_stats, on=[\"username\"])\n",
    "\n",
    "# We approximate the variance in user i's rating of item j \n",
    "# as a linear combination of Var(user_i) and Var(anime_j). This is a\n",
    "# crude guess, but it's good enough.\n",
    "user_contrib = 0.5\n",
    "anime_contrib = 0.5\n",
    "df['normalized_score_var'] = df['normalized_user_var'] * user_contrib + df['normalized_anime_var'] * anime_contrib"
   ]
  },
  {
   "cell_type": "code",
   "execution_count": 6,
   "id": "b8b0e67c-d86b-492e-90b9-a3f2281d0eca",
   "metadata": {},
   "outputs": [],
   "source": [
    "norm_df = df[['username', 'anime_id', 'normalized_score', 'normalized_score_var']]\n",
    "norm_df = norm_df.rename({'normalized_score': 'score', 'normalized_score_var': 'score_var'}, axis=1)\n",
    "norm_df = norm_df.dropna()"
   ]
  },
  {
   "cell_type": "code",
   "execution_count": 7,
   "id": "90474be7-76eb-4ea1-991d-5933e8a9d2ea",
   "metadata": {},
   "outputs": [],
   "source": [
    "outdir = \"../processed_data\"\n",
    "if not os.path.exists(outdir):\n",
    "    os.mkdir(outdir)\n",
    "os.chdir(outdir)"
   ]
  },
  {
   "cell_type": "code",
   "execution_count": 8,
   "id": "65816116-41ba-4028-9427-30cb854ac3f5",
   "metadata": {
    "tags": []
   },
   "outputs": [],
   "source": [
    "anime_stats.to_pickle('anime_stats.pkl')\n",
    "normalized_anime_stats.to_pickle('normalized_anime_stats.pkl')\n",
    "norm_df.to_pickle('user_anime_lists.pkl')"
   ]
  },
  {
   "cell_type": "code",
   "execution_count": null,
   "id": "3a726628-c7cf-4aeb-84cd-0f9a9cfde8de",
   "metadata": {},
   "outputs": [],
   "source": []
  }
 ],
 "metadata": {
  "kernelspec": {
   "display_name": "Python 3",
   "language": "python",
   "name": "python3"
  },
  "language_info": {
   "codemirror_mode": {
    "name": "ipython",
    "version": 3
   },
   "file_extension": ".py",
   "mimetype": "text/x-python",
   "name": "python",
   "nbconvert_exporter": "python",
   "pygments_lexer": "ipython3",
   "version": "3.8.5"
  }
 },
 "nbformat": 4,
 "nbformat_minor": 5
}
