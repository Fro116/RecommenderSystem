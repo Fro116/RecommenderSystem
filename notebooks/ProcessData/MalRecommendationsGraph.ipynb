{
 "cells": [
  {
   "cell_type": "markdown",
   "metadata": {},
   "source": [
    "# MAL Recommendations Graph\n",
    "* We construct an undirected graph of recommendations\n",
    "* The vertices are anime ids and weight of the edge between $a_i$ and $a_j$ is the number of recommendations between them\n",
    "* We get the adjacency matrix of this graph and store it to disk"
   ]
  },
  {
   "cell_type": "code",
   "execution_count": 1,
   "metadata": {},
   "outputs": [],
   "source": [
    "import numpy as np\n",
    "import pandas as pd\n",
    "from tqdm import tqdm"
   ]
  },
  {
   "cell_type": "code",
   "execution_count": 2,
   "metadata": {},
   "outputs": [],
   "source": [
    "def parse_recommendations():\n",
    "    # compute the recommendations graph\n",
    "    anime = pd.read_csv(\"../../data/raw_data/anime.csv\")\n",
    "    if \"recommendations\" not in anime.columns:\n",
    "        return pd.DataFrame.from_dict(\n",
    "            {\"source\": [], \"target\": [], \"num_recommendations\": []}\n",
    "        )\n",
    "    rec_dfs = []\n",
    "    for i, row in tqdm(anime.iterrows(), total=len(anime)):\n",
    "        rec_df = pd.DataFrame.from_records(eval(row[\"recommendations\"]))\n",
    "        rec_df[\"target\"] = row[\"anime_id\"]\n",
    "        rec_df = rec_df.rename({\"anime_id\": \"source\"}, axis=1)\n",
    "        rec_dfs.append(rec_df)\n",
    "    rec_df = pd.concat(rec_dfs, ignore_index=True).astype(int)\n",
    "\n",
    "    # relabel anime ids\n",
    "    anime_to_uid = pd.read_csv(\"../../data/processed_data/anime_to_uid.csv\")\n",
    "    anime_to_uid = anime_to_uid.set_index(\"anime_id\").to_dict()[\"uid\"]\n",
    "    rec_df = rec_df.loc[\n",
    "        lambda x: x.source.isin(list(anime_to_uid)) & x.target.isin(list(anime_to_uid))\n",
    "    ]\n",
    "    rec_df[\"source\"].replace(anime_to_uid, inplace=True)\n",
    "    rec_df[\"target\"].replace(anime_to_uid, inplace=True)\n",
    "    return rec_df"
   ]
  },
  {
   "cell_type": "code",
   "execution_count": 3,
   "metadata": {},
   "outputs": [
    {
     "name": "stderr",
     "output_type": "stream",
     "text": [
      "100%|████████████████████████████████████████████████████████████████████████████████████████████████████████████████████████████████████████████████████████████████| 19119/19119 [00:41<00:00, 465.34it/s]\n"
     ]
    }
   ],
   "source": [
    "rec_df = parse_recommendations()"
   ]
  },
  {
   "cell_type": "code",
   "execution_count": 4,
   "metadata": {},
   "outputs": [],
   "source": [
    "# Ensure that num_recommendations from x -> y is equal to num_recommendations from y -> x\n",
    "# This should be almost always be true in the original data, whenever x -> y and y -> x are both present\n",
    "# Exceptions occur if a recommendation was made during the scraping process\n",
    "# Its possible for x -> y to be defined but not y -> x. This is because of MAL clipping entries\n",
    "# with not enough recommendations\n",
    "def make_symmetric(rec_df):\n",
    "    rec_df_flipped = rec_df.rename({\"source\": \"target\", \"target\": \"source\"}, axis=1)\n",
    "    rec_df_full = pd.concat([rec_df, rec_df_flipped], ignore_index=True)\n",
    "    rec_df_full = rec_df_full.groupby([\"source\", \"target\"]).max().reset_index()\n",
    "    rec_df = rec_df_full\n",
    "    return rec_df"
   ]
  },
  {
   "cell_type": "code",
   "execution_count": 5,
   "metadata": {
    "tags": []
   },
   "outputs": [],
   "source": [
    "make_symmetric(rec_df).to_csv(\"../../data/processed_data/mal_recs.csv\", index=False)"
   ]
  },
  {
   "cell_type": "markdown",
   "metadata": {},
   "source": [
    "## Verify Symmetry Assumptions"
   ]
  },
  {
   "cell_type": "code",
   "execution_count": 6,
   "metadata": {},
   "outputs": [],
   "source": [
    "def get_num_symmetry_exceptions(rec_df):\n",
    "    # return the number of times that num_recommendations from x -> y\n",
    "    # is not equal to num_recommendations from y -> x, whenever both are\n",
    "    # defined\n",
    "    exceptions = 0\n",
    "    for i in tqdm(range(len(rec_df))):\n",
    "        s = rec_df.iloc[i][\"source\"]\n",
    "        t = rec_df.iloc[i][\"target\"]\n",
    "        nr = rec_df.iloc[i][\"num_recommendations\"]\n",
    "        transpose = rec_df.loc[lambda x: (x.source == t) & (x.target == s)]\n",
    "        if len(transpose) > 0:\n",
    "            assert len(transpose) == 1\n",
    "            nrt = transpose.iloc[0][\"num_recommendations\"]\n",
    "            if nr != nrt:\n",
    "                exceptions += 1\n",
    "    return exceptions"
   ]
  },
  {
   "cell_type": "code",
   "execution_count": 7,
   "metadata": {},
   "outputs": [
    {
     "name": "stderr",
     "output_type": "stream",
     "text": [
      "100%|████████████████████████████████████████████████████████████████████████████████████████████████████████████████████████████████████████████████████████████████| 33893/33893 [00:59<00:00, 573.27it/s]\n"
     ]
    },
    {
     "data": {
      "text/plain": [
       "2"
      ]
     },
     "execution_count": 7,
     "metadata": {},
     "output_type": "execute_result"
    }
   ],
   "source": [
    "# This should be a small number\n",
    "get_num_symmetry_exceptions(rec_df)"
   ]
  },
  {
   "cell_type": "code",
   "execution_count": 8,
   "metadata": {},
   "outputs": [
    {
     "name": "stderr",
     "output_type": "stream",
     "text": [
      "100%|████████████████████████████████████████████████████████████████████████████████████████████████████████████████████████████████████████████████████████████████| 49380/49380 [01:19<00:00, 624.45it/s]\n"
     ]
    }
   ],
   "source": [
    "assert get_num_symmetry_exceptions(make_symmetric(rec_df)) == 0"
   ]
  }
 ],
 "metadata": {
  "kernelspec": {
   "display_name": "Python 3 (ipykernel)",
   "language": "python",
   "name": "python3"
  },
  "language_info": {
   "codemirror_mode": {
    "name": "ipython",
    "version": 3
   },
   "file_extension": ".py",
   "mimetype": "text/x-python",
   "name": "python",
   "nbconvert_exporter": "python",
   "pygments_lexer": "ipython3",
   "version": "3.8.12"
  }
 },
 "nbformat": 4,
 "nbformat_minor": 4
}
