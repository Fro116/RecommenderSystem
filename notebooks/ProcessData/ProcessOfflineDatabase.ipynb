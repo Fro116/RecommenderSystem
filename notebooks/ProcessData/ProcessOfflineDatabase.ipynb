{
 "cells": [
  {
   "cell_type": "markdown",
   "id": "01b39a55-b74e-48b2-b64b-1d948d231ee8",
   "metadata": {},
   "source": [
    "# Process Offline Database\n",
    "* Imports anidb tags from https://github.com/manami-project/anime-offline-database"
   ]
  },
  {
   "cell_type": "code",
   "execution_count": 1,
   "id": "d2b9c500-cfda-4591-a242-63b8cb668031",
   "metadata": {},
   "outputs": [],
   "source": [
    "import json\n",
    "import os\n",
    "\n",
    "import pandas as pd\n",
    "from tqdm import tqdm"
   ]
  },
  {
   "cell_type": "code",
   "execution_count": 2,
   "id": "181e7d62-2834-46dc-886d-20a6484312a7",
   "metadata": {},
   "outputs": [],
   "source": [
    "os.chdir(\"../../data/raw_data\")"
   ]
  },
  {
   "cell_type": "code",
   "execution_count": 3,
   "id": "29827e83-151e-45c9-81af-01382775282c",
   "metadata": {},
   "outputs": [
    {
     "name": "stdout",
     "output_type": "stream",
     "text": [
      "--2022-06-21 20:46:33--  https://github.com/manami-project/anime-offline-database/raw/master/anime-offline-database.json\n",
      "Resolving github.com (github.com)... 140.82.114.3\n",
      "Connecting to github.com (github.com)|140.82.114.3|:443... connected.\n",
      "HTTP request sent, awaiting response... 302 Found\n",
      "Location: https://raw.githubusercontent.com/manami-project/anime-offline-database/master/anime-offline-database.json [following]\n",
      "--2022-06-21 20:46:33--  https://raw.githubusercontent.com/manami-project/anime-offline-database/master/anime-offline-database.json\n",
      "Resolving raw.githubusercontent.com (raw.githubusercontent.com)... 185.199.110.133, 185.199.109.133, 185.199.108.133, ...\n",
      "Connecting to raw.githubusercontent.com (raw.githubusercontent.com)|185.199.110.133|:443... connected.\n",
      "HTTP request sent, awaiting response... 200 OK\n",
      "Length: 44354090 (42M) [text/plain]\n",
      "Saving to: ‘anime-offline-database.json’\n",
      "\n",
      "anime-offline-datab 100%[===================>]  42.30M  80.0MB/s    in 0.5s    \n",
      "\n",
      "2022-06-21 20:46:34 (80.0 MB/s) - ‘anime-offline-database.json’ saved [44354090/44354090]\n",
      "\n"
     ]
    }
   ],
   "source": [
    "json_fn = \"https://github.com/manami-project/anime-offline-database/raw/master/anime-offline-database.json\"\n",
    "! wget $json_fn "
   ]
  },
  {
   "cell_type": "code",
   "execution_count": 4,
   "id": "15b603bf-117c-49cd-b1fa-1e1bfe75de92",
   "metadata": {},
   "outputs": [],
   "source": [
    "with open('anime-offline-database.json', 'r') as f:\n",
    "    db = json.load(f)"
   ]
  },
  {
   "cell_type": "code",
   "execution_count": 5,
   "id": "f7bfd629-08fc-4ca5-85df-6694be8ed760",
   "metadata": {},
   "outputs": [],
   "source": [
    "anime = pd.read_csv(\"anime.csv\")"
   ]
  },
  {
   "cell_type": "code",
   "execution_count": 6,
   "id": "770cffda-34cc-4c79-b558-bc9dbcf89aee",
   "metadata": {},
   "outputs": [],
   "source": [
    "anime.loc[lambda x: x['genres'].isna(), 'genres'] = '[]' # TODO check if this is redundant\n",
    "anime['tags'] = '[]'"
   ]
  },
  {
   "cell_type": "code",
   "execution_count": 7,
   "id": "b1fe8bec-9226-4a96-a119-84a4be421c3c",
   "metadata": {},
   "outputs": [
    {
     "name": "stderr",
     "output_type": "stream",
     "text": [
      "100%|████████████████████████████████████████████████████████████████████████████████████████████████████████████████████████████████████████████████████████████████████████| 32453/32453 [00:01<00:00, 17002.13it/s]\n"
     ]
    }
   ],
   "source": [
    "for entry in tqdm(db['data']):\n",
    "    mal_id = [x for x in entry['sources'] if 'myanimelist' in x]\n",
    "    if mal_id:\n",
    "        mal_id = int(mal_id[0].split('/')[-1])\n",
    "        anime.loc[lambda x: x.anime_id == mal_id, 'tags'] =  str(entry['tags'])"
   ]
  },
  {
   "cell_type": "code",
   "execution_count": 8,
   "id": "347c0e8b-3b39-4458-acfc-adc9d7d575f5",
   "metadata": {},
   "outputs": [],
   "source": [
    "anime.to_csv('../processed_data/anime.csv', index=False)"
   ]
  },
  {
   "cell_type": "code",
   "execution_count": null,
   "id": "b8db5ef1-a698-40a3-a4bd-fd8082109485",
   "metadata": {},
   "outputs": [],
   "source": []
  }
 ],
 "metadata": {
  "kernelspec": {
   "display_name": "Python 3 (ipykernel)",
   "language": "python",
   "name": "python3"
  },
  "language_info": {
   "codemirror_mode": {
    "name": "ipython",
    "version": 3
   },
   "file_extension": ".py",
   "mimetype": "text/x-python",
   "name": "python",
   "nbconvert_exporter": "python",
   "pygments_lexer": "ipython3",
   "version": "3.10.4"
  }
 },
 "nbformat": 4,
 "nbformat_minor": 5
}
