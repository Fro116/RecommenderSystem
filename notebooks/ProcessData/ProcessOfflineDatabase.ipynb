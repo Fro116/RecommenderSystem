{
 "cells": [
  {
   "cell_type": "markdown",
   "id": "01b39a55-b74e-48b2-b64b-1d948d231ee8",
   "metadata": {},
   "source": [
    "# Process Offline Database\n",
    "* Imports anidb tags from https://github.com/manami-project/anime-offline-database"
   ]
  },
  {
   "cell_type": "code",
   "execution_count": null,
   "id": "d2b9c500-cfda-4591-a242-63b8cb668031",
   "metadata": {},
   "outputs": [],
   "source": [
    "import json\n",
    "import os\n",
    "\n",
    "import pandas as pd\n",
    "from tqdm import tqdm"
   ]
  },
  {
   "cell_type": "code",
   "execution_count": null,
   "id": "181e7d62-2834-46dc-886d-20a6484312a7",
   "metadata": {},
   "outputs": [],
   "source": [
    "os.chdir(\"../../data/raw_data\")"
   ]
  },
  {
   "cell_type": "code",
   "execution_count": null,
   "id": "3c4115a9-3e17-4c04-95f5-7240b23b2d1a",
   "metadata": {},
   "outputs": [],
   "source": [
    "if os.path.exists('anime-offline-database.json'):\n",
    "    os.remove('anime-offline-database.json')"
   ]
  },
  {
   "cell_type": "code",
   "execution_count": null,
   "id": "29827e83-151e-45c9-81af-01382775282c",
   "metadata": {},
   "outputs": [],
   "source": [
    "json_fn = \"https://github.com/manami-project/anime-offline-database/raw/master/anime-offline-database.json\"\n",
    "! wget $json_fn "
   ]
  },
  {
   "cell_type": "code",
   "execution_count": null,
   "id": "15b603bf-117c-49cd-b1fa-1e1bfe75de92",
   "metadata": {},
   "outputs": [],
   "source": [
    "with open('anime-offline-database.json', 'r') as f:\n",
    "    db = json.load(f)"
   ]
  },
  {
   "cell_type": "code",
   "execution_count": null,
   "id": "f7bfd629-08fc-4ca5-85df-6694be8ed760",
   "metadata": {},
   "outputs": [],
   "source": [
    "anime = pd.read_csv(\"anime.csv\")"
   ]
  },
  {
   "cell_type": "code",
   "execution_count": null,
   "id": "770cffda-34cc-4c79-b558-bc9dbcf89aee",
   "metadata": {},
   "outputs": [],
   "source": [
    "anime['tags'] = '[]'\n",
    "anime['links'] = '[]'"
   ]
  },
  {
   "cell_type": "code",
   "execution_count": null,
   "id": "b1fe8bec-9226-4a96-a119-84a4be421c3c",
   "metadata": {},
   "outputs": [],
   "source": [
    "for entry in tqdm(db['data']):\n",
    "    mal_id = [x for x in entry['sources'] if 'myanimelist' in x]\n",
    "    if mal_id:\n",
    "        mal_id = int(mal_id[0].split('/')[-1])\n",
    "        anime.loc[lambda x: x.anime_id == mal_id, 'tags'] = str(entry['tags'])\n",
    "        anime.loc[lambda x: x.anime_id == mal_id, 'links'] = str(entry['sources'])"
   ]
  },
  {
   "cell_type": "code",
   "execution_count": null,
   "id": "6e7bca4a-187b-4f76-9b1e-ab725d473ae7",
   "metadata": {},
   "outputs": [],
   "source": [
    "os.makedirs(\"../processed_data\", exist_ok=True)"
   ]
  },
  {
   "cell_type": "code",
   "execution_count": null,
   "id": "347c0e8b-3b39-4458-acfc-adc9d7d575f5",
   "metadata": {},
   "outputs": [],
   "source": [
    "anime.to_csv('../processed_data/anime.csv', index=False)"
   ]
  }
 ],
 "metadata": {
  "kernelspec": {
   "display_name": "Python 3 (ipykernel)",
   "language": "python",
   "name": "python3"
  },
  "language_info": {
   "codemirror_mode": {
    "name": "ipython",
    "version": 3
   },
   "file_extension": ".py",
   "mimetype": "text/x-python",
   "name": "python",
   "nbconvert_exporter": "python",
   "pygments_lexer": "ipython3",
   "version": "3.10.6"
  }
 },
 "nbformat": 4,
 "nbformat_minor": 5
}
