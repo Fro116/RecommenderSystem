{
 "cells": [
  {
   "cell_type": "code",
   "execution_count": null,
   "id": "54b1ceb4-d65a-410a-b876-93c491c0cd4c",
   "metadata": {
    "tags": []
   },
   "outputs": [],
   "source": [
    "import logging\n",
    "import os\n",
    "import time\n",
    "import traceback\n",
    "from functools import cache\n",
    "\n",
    "import pandas as pd\n",
    "from tqdm import tqdm"
   ]
  },
  {
   "cell_type": "markdown",
   "id": "bab30521-2275-4d66-8852-48bc0760fd3f",
   "metadata": {},
   "source": [
    "## Load encodings"
   ]
  },
  {
   "cell_type": "code",
   "execution_count": null,
   "id": "9c9821df-73cb-4799-a473-ac18bfc7bf12",
   "metadata": {},
   "outputs": [],
   "source": [
    "outdir = \"../../data/processed_data\""
   ]
  },
  {
   "cell_type": "code",
   "execution_count": null,
   "id": "9add77d5-2c2d-4f2c-96d9-e2893a5e07ec",
   "metadata": {},
   "outputs": [],
   "source": [
    "def parse_line(file, field, format=int):\n",
    "    line = file.readline()\n",
    "    fields = line.strip().split(\",\")\n",
    "    assert len(fields) == 2\n",
    "    assert fields[0] == field\n",
    "    return format(fields[1])\n",
    "\n",
    "\n",
    "with open(os.path.join(outdir, \"timestamps.csv\")) as f:\n",
    "    min_timestamp = parse_line(f, \"min_timestamp\")\n",
    "    max_timestamp = parse_line(f, \"max_timestamp\")"
   ]
  },
  {
   "cell_type": "code",
   "execution_count": null,
   "id": "89aa3cd4-1d97-45c0-a148-08db16d605c2",
   "metadata": {},
   "outputs": [],
   "source": [
    "def get_mapping(fn, col):\n",
    "    return pd.read_csv(f\"{outdir}/{fn}\").set_index(col)[\"uid\"].to_dict()"
   ]
  },
  {
   "cell_type": "code",
   "execution_count": null,
   "id": "2e7427f7-69a7-4d59-9857-0bbc8c639771",
   "metadata": {},
   "outputs": [],
   "source": [
    "username_to_uid = get_mapping(\"username_to_uid.csv\", \"userid\")\n",
    "media_to_uid = {\n",
    "    \"0\": get_mapping(\"manga_to_uid.csv\", \"mediaid\"),\n",
    "    \"1\": get_mapping(\"anime_to_uid.csv\", \"mediaid\"),\n",
    "}"
   ]
  },
  {
   "cell_type": "markdown",
   "id": "d10d7bbc-5d7b-4286-ab3c-035e5d33e5c4",
   "metadata": {},
   "source": [
    "## Process fields"
   ]
  },
  {
   "cell_type": "code",
   "execution_count": null,
   "id": "eac0fe75-84aa-4b1f-971b-7c8081170f6c",
   "metadata": {},
   "outputs": [],
   "source": [
    "def format_timestamp(ts, min_ts, max_ts):\n",
    "    ts = int(ts)\n",
    "    # manually entered timestamps can be inaccurate\n",
    "    if ts < min_ts:\n",
    "        return 0\n",
    "    if ts > time.time():\n",
    "        return 0\n",
    "    return (ts - min_ts) / (max_ts - min_ts)\n",
    "\n",
    "\n",
    "def process_timestamp(ts):\n",
    "    return format_timestamp(ts, min_timestamp, max_timestamp)"
   ]
  },
  {
   "cell_type": "code",
   "execution_count": null,
   "id": "b2035d50-4d24-4c65-8761-34d094329b16",
   "metadata": {},
   "outputs": [],
   "source": [
    "def process_line(line, header, username_map):\n",
    "    fields = line.strip().split(\",\")\n",
    "    for f in [\"updated_at\", \"created_at\", \"started_at\", \"finished_at\"]:\n",
    "        fields[header.index(f)] = str(process_timestamp(fields[header.index(f)]))\n",
    "    user_map = username_map if username_map is not None else username_to_uid\n",
    "    fields[header.index(\"userid\")] = str(user_map[fields[header.index(\"userid\")]])\n",
    "    medium = fields[header.index(\"medium\")]\n",
    "    a = int(fields[header.index(\"mediaid\")])\n",
    "    if a not in media_to_uid[medium]:\n",
    "        logging.warning(f\"Item {a} not found\")\n",
    "        return None\n",
    "    fields[header.index(\"mediaid\")] = str(media_to_uid[medium][a])\n",
    "    return \",\".join(fields) + \"\\n\""
   ]
  },
  {
   "cell_type": "code",
   "execution_count": null,
   "id": "c911462c-ccb1-48a6-b263-9dc6f401a8f7",
   "metadata": {},
   "outputs": [],
   "source": [
    "def process(source, dest, username_map=None):\n",
    "    with open(source, \"r\") as in_file, open(dest, \"w\") as out_file:\n",
    "        header = False\n",
    "        for line in tqdm(in_file):\n",
    "            if not header:\n",
    "                header = True\n",
    "                header_fields = line.strip().split(\",\")\n",
    "                out_file.write(line)\n",
    "                continue\n",
    "            try:\n",
    "                out = process_line(line, header_fields, username_map)\n",
    "                if out is not None:\n",
    "                    out_file.write(out)\n",
    "            except Exception as e:\n",
    "                logging.warning(line)\n",
    "                logging.warning(str(e))\n",
    "                raise e"
   ]
  }
 ],
 "metadata": {
  "kernelspec": {
   "display_name": "Python 3 (ipykernel)",
   "language": "python",
   "name": "python3"
  },
  "language_info": {
   "codemirror_mode": {
    "name": "ipython",
    "version": 3
   },
   "file_extension": ".py",
   "mimetype": "text/x-python",
   "name": "python",
   "nbconvert_exporter": "python",
   "pygments_lexer": "ipython3",
   "version": "3.10.12"
  }
 },
 "nbformat": 4,
 "nbformat_minor": 5
}
