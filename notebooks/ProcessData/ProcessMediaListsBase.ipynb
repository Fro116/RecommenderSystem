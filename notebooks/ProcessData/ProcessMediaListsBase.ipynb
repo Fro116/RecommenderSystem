{
 "cells": [
  {
   "cell_type": "code",
   "execution_count": null,
   "id": "54b1ceb4-d65a-410a-b876-93c491c0cd4c",
   "metadata": {
    "tags": []
   },
   "outputs": [],
   "source": [
    "import os\n",
    "import random\n",
    "\n",
    "import pandas as pd\n",
    "from tqdm import tqdm"
   ]
  },
  {
   "cell_type": "markdown",
   "id": "bab30521-2275-4d66-8852-48bc0760fd3f",
   "metadata": {},
   "source": [
    "## Load encodings"
   ]
  },
  {
   "cell_type": "code",
   "execution_count": null,
   "id": "9c9821df-73cb-4799-a473-ac18bfc7bf12",
   "metadata": {},
   "outputs": [],
   "source": [
    "outdir = \"../../data/processed_data\""
   ]
  },
  {
   "cell_type": "code",
   "execution_count": null,
   "id": "495292a2-7563-4b27-9422-5c76518ef032",
   "metadata": {},
   "outputs": [],
   "source": [
    "def is_missing_timestamp(ts):\n",
    "    # MAL entries can have missing timestamps, which get mapped to 18000\n",
    "    # Anilist entries can have missing timestamps, which get mapped to 0\n",
    "    return ts == 18000 or ts == 0"
   ]
  },
  {
   "cell_type": "code",
   "execution_count": null,
   "id": "9add77d5-2c2d-4f2c-96d9-e2893a5e07ec",
   "metadata": {},
   "outputs": [],
   "source": [
    "with open(os.path.join(outdir, f\"{media}_processing_encodings.csv\"), \"r\") as in_file:\n",
    "\n",
    "    def parse_line(field):\n",
    "        line = in_file.readline()\n",
    "        fields = line.split(\",\")\n",
    "        assert len(fields) == 2\n",
    "        assert fields[0] == field\n",
    "        return int(fields[1])\n",
    "\n",
    "    min_timestamp = parse_line(\"min_timestamp\")\n",
    "    max_timestamp = parse_line(\"max_timestamp\")\n",
    "    mal_id = parse_line(\"MAL\")\n",
    "    anilist_id = parse_line(\"AniList\")\n",
    "    kitsu_id = parse_line(\"Kitsu\")    "
   ]
  },
  {
   "cell_type": "code",
   "execution_count": null,
   "id": "f61e2c45-a2dd-4893-9286-03d4a6d44884",
   "metadata": {},
   "outputs": [],
   "source": [
    "seconds_in_year = 3.156e7"
   ]
  },
  {
   "cell_type": "code",
   "execution_count": null,
   "id": "20b446b9-dd23-4974-8c2f-736977b7b934",
   "metadata": {},
   "outputs": [],
   "source": [
    "medium = pd.read_csv(os.path.join(outdir, f\"{media}.csv\"))\n",
    "if media == \"anime\":\n",
    "    media_to_completion = {\n",
    "        \"episodes\": medium.set_index(f\"{media}_id\")[\"num_episodes\"].to_dict()\n",
    "    }\n",
    "elif media == \"manga\":\n",
    "    media_to_completion = {\n",
    "        \"volumes\": medium.set_index(f\"{media}_id\")[\"num_volumes\"].to_dict(),\n",
    "        \"chapters\": medium.set_index(f\"{media}_id\")[\"num_chapters\"].to_dict(),\n",
    "    }\n",
    "else:\n",
    "    assert False"
   ]
  },
  {
   "cell_type": "markdown",
   "id": "d10d7bbc-5d7b-4286-ab3c-035e5d33e5c4",
   "metadata": {},
   "source": [
    "## Process fields"
   ]
  },
  {
   "cell_type": "code",
   "execution_count": null,
   "id": "d5f2a33c-3c9a-4d45-8976-4a46a82a1be3",
   "metadata": {},
   "outputs": [],
   "source": [
    "def completion_percentage(uid, value, field):\n",
    "    uid = int(uid)\n",
    "    value = int(value)\n",
    "    assert field in media_to_completion\n",
    "    media_to_maxval = media_to_completion[field]\n",
    "    if uid not in media_to_maxval or media_to_maxval[uid] == 0:\n",
    "        return 0\n",
    "    return min(max(value / media_to_maxval[uid], 0), 1)"
   ]
  },
  {
   "cell_type": "code",
   "execution_count": null,
   "id": "eac0fe75-84aa-4b1f-971b-7c8081170f6c",
   "metadata": {},
   "outputs": [],
   "source": [
    "def process_timestamp(ts):\n",
    "    ts = int(ts)\n",
    "    if is_missing_timestamp(ts):\n",
    "        return -1\n",
    "    if ts < min_timestamp:\n",
    "        return 0\n",
    "    return (ts - min_timestamp) / (max_timestamp - min_timestamp)"
   ]
  },
  {
   "cell_type": "code",
   "execution_count": null,
   "id": "dd58eaff-98f3-44d1-a565-bb0a0141d113",
   "metadata": {},
   "outputs": [],
   "source": [
    "def process_source(source):\n",
    "    if source == \"MAL\":\n",
    "        return mal_id\n",
    "    elif source == \"AniList\":\n",
    "        return anilist_id\n",
    "    elif source == \"Kitsu\":\n",
    "        return kitsu_id    \n",
    "    else:\n",
    "        assert False"
   ]
  },
  {
   "cell_type": "code",
   "execution_count": null,
   "id": "ec1c6614-8ea3-4fe3-ada4-8b40f9ce92df",
   "metadata": {},
   "outputs": [],
   "source": [
    "def process_status(status):\n",
    "    status = int(status)\n",
    "    if status == 0:\n",
    "        status = 5\n",
    "    return status"
   ]
  },
  {
   "cell_type": "code",
   "execution_count": null,
   "id": "320a7e05-eae5-4ade-9fea-af4c7331b0a1",
   "metadata": {},
   "outputs": [],
   "source": [
    "def format_float(x):\n",
    "    return f\"{x:.9f}\""
   ]
  },
  {
   "cell_type": "code",
   "execution_count": null,
   "id": "b2035d50-4d24-4c65-8761-34d094329b16",
   "metadata": {},
   "outputs": [],
   "source": [
    "def get_header(media):\n",
    "    if media == \"anime\":\n",
    "        return [\n",
    "            \"username\",\n",
    "            f\"{media}id\",\n",
    "            \"score\",\n",
    "            \"timestamp\",\n",
    "            \"status\",\n",
    "            \"episodes\",\n",
    "            \"userid\",\n",
    "            \"source\",\n",
    "        ]\n",
    "    elif media == \"manga\":\n",
    "        return [\n",
    "            \"username\",\n",
    "            f\"{media}id\",\n",
    "            \"score\",\n",
    "            \"timestamp\",\n",
    "            \"status\",\n",
    "            \"volumes\",\n",
    "            \"chapters\",\n",
    "            \"userid\",\n",
    "            \"source\",\n",
    "        ]\n",
    "    else:\n",
    "        return False\n",
    "\n",
    "\n",
    "def get_output_header(media):\n",
    "    return [\n",
    "        \"username\",\n",
    "        f\"{media}id\",\n",
    "        \"score\",\n",
    "        \"timestamp\",\n",
    "        \"status\",\n",
    "        \"completion\",\n",
    "        \"source\",\n",
    "    ]\n",
    "\n",
    "\n",
    "def process_line(line):\n",
    "    header = get_header(media)\n",
    "    fields = line.split(\",\")\n",
    "    output_fields = []\n",
    "    output_fields.append(fields[header.index(\"username\")])\n",
    "    output_fields.append(fields[header.index(f\"{media}id\")])\n",
    "    output_fields.append(fields[header.index(\"score\")])\n",
    "    output_fields.append(\n",
    "        format_float(process_timestamp(fields[header.index(\"timestamp\")]))\n",
    "    )\n",
    "    output_fields.append(str(process_status(fields[header.index(\"status\")])))\n",
    "    completion = max(\n",
    "        completion_percentage(\n",
    "            fields[header.index(f\"{media}id\")],\n",
    "            fields[header.index(x)],\n",
    "            x,\n",
    "        )\n",
    "        for x in media_to_completion\n",
    "    )\n",
    "    output_fields.append(format_float(completion))\n",
    "    output_fields.append(str(process_source(fields[header.index(\"source\")])))\n",
    "    return \",\".join(output_fields)"
   ]
  },
  {
   "cell_type": "code",
   "execution_count": null,
   "id": "c911462c-ccb1-48a6-b263-9dc6f401a8f7",
   "metadata": {},
   "outputs": [],
   "source": [
    "def process(source, dest):\n",
    "    with open(source, \"r\") as in_file, open(dest, \"w\") as out_file:\n",
    "        header = False\n",
    "        for line in tqdm(in_file):\n",
    "            if not header:\n",
    "                header = True\n",
    "                assert line == \",\".join(get_header(media)) + \"\\n\"\n",
    "                out_file.write(\",\".join(get_output_header(media)) + \"\\n\")\n",
    "                continue\n",
    "            try:\n",
    "                out_file.write(f\"{process_line(line.strip())}\\n\")\n",
    "            except Exception as e:\n",
    "                print(line)\n",
    "                raise e"
   ]
  }
 ],
 "metadata": {
  "kernelspec": {
   "display_name": "Python 3 (ipykernel)",
   "language": "python",
   "name": "python3"
  },
  "language_info": {
   "codemirror_mode": {
    "name": "ipython",
    "version": 3
   },
   "file_extension": ".py",
   "mimetype": "text/x-python",
   "name": "python",
   "nbconvert_exporter": "python",
   "pygments_lexer": "ipython3",
   "version": "3.10.6"
  }
 },
 "nbformat": 4,
 "nbformat_minor": 5
}
