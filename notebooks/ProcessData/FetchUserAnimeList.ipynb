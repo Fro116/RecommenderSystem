{
 "cells": [
  {
   "cell_type": "markdown",
   "metadata": {},
   "source": [
    "# Fetching a user anime-list\n",
    "* Given a user, we get an up-to-date version of their anime-list\n",
    "* Then, we normalize it and store the normalized version\n",
    "* TODO import loading from Ani-list"
   ]
  },
  {
   "cell_type": "code",
   "execution_count": 1,
   "metadata": {},
   "outputs": [],
   "source": [
    "import os\n",
    "import pickle\n",
    "import time\n",
    "\n",
    "import pandas as pd\n",
    "import requests\n",
    "from ratelimit import limits, sleep_and_retry\n",
    "from tqdm import tqdm"
   ]
  },
  {
   "cell_type": "code",
   "execution_count": 2,
   "metadata": {},
   "outputs": [],
   "source": [
    "user = \"Fro116\""
   ]
  },
  {
   "cell_type": "code",
   "execution_count": 3,
   "metadata": {},
   "outputs": [],
   "source": [
    "data_path = \"../../data/recommendations\"\n",
    "if not os.path.exists(data_path):\n",
    "    os.mkdir(data_path)\n",
    "data_path = os.path.join(data_path, user)\n",
    "if not os.path.exists(data_path):\n",
    "    os.mkdir(data_path)\n",
    "os.chdir(data_path)"
   ]
  },
  {
   "cell_type": "code",
   "execution_count": 4,
   "metadata": {},
   "outputs": [],
   "source": [
    "@sleep_and_retry\n",
    "@limits(calls=1, period=4)\n",
    "def call_api(url):\n",
    "    try:\n",
    "        response = requests.get(url)\n",
    "        if response.status_code == 500 or response.status_code == 503:\n",
    "            # This can occur if MAL servers go down\n",
    "            raise Exception(f\"{response.status_code}\")\n",
    "    except Exception as e:\n",
    "        retry_timeout = 600\n",
    "        print(\n",
    "            f\"Recevied error {str(e)} while accessing {url}. Retrying in {retry_timeout} seconds\"\n",
    "        )\n",
    "        time.sleep(retry_timeout)\n",
    "        return call_api(url)\n",
    "    return response"
   ]
  },
  {
   "cell_type": "code",
   "execution_count": 5,
   "metadata": {},
   "outputs": [],
   "source": [
    "a = call_api(f\"https://api.jikan.moe/v3/user/{user}/animelist/all/{3}\")"
   ]
  },
  {
   "cell_type": "code",
   "execution_count": 6,
   "metadata": {},
   "outputs": [],
   "source": [
    "def process_json(json):\n",
    "    records = [(x[\"mal_id\"], x[\"score\"]) for x in json[\"anime\"]]\n",
    "    return pd.DataFrame.from_records(records, columns=[\"anime_id\", \"my_score\"])"
   ]
  },
  {
   "cell_type": "code",
   "execution_count": 7,
   "metadata": {},
   "outputs": [],
   "source": [
    "def get_anime_list(username):\n",
    "    pages = []\n",
    "\n",
    "    max_items_per_page = 300  # property of the API\n",
    "    more_pages = True\n",
    "    page = 1\n",
    "\n",
    "    # hack to allow tqdm profiling\n",
    "    def generator():\n",
    "        while more_pages:\n",
    "            yield\n",
    "\n",
    "    for _ in tqdm(generator()):\n",
    "        response = call_api(\n",
    "            f\"https://api.jikan.moe/v3/user/{username}/animelist/all/{page}\"\n",
    "        )\n",
    "        response.raise_for_status()\n",
    "\n",
    "        paged_anime_list = process_json(response.json())\n",
    "        pages.append(paged_anime_list)\n",
    "        page += 1\n",
    "        if len(paged_anime_list) < max_items_per_page:\n",
    "            more_pages = False\n",
    "\n",
    "    anime_list = pd.concat(pages, ignore_index=True)\n",
    "    anime_list[\"username\"] = username\n",
    "    anime_list = anime_list.loc[lambda x: x['my_score'] != 0]\n",
    "    return anime_list[[\"username\", \"anime_id\", \"my_score\"]]"
   ]
  },
  {
   "cell_type": "code",
   "execution_count": 8,
   "metadata": {
    "tags": []
   },
   "outputs": [
    {
     "name": "stderr",
     "output_type": "stream",
     "text": [
      "2it [00:07,  3.97s/it]\n"
     ]
    }
   ],
   "source": [
    "df = get_anime_list(\"Fro116\")"
   ]
  },
  {
   "cell_type": "code",
   "execution_count": 9,
   "metadata": {},
   "outputs": [],
   "source": [
    "anime_stats = pickle.load(open(\"../../processed_data/anime_stats.pkl\", \"rb\"))\n",
    "normalized_anime_stats = pickle.load(open(\"../../processed_data/normalized_anime_stats.pkl\", \"rb\"))"
   ]
  },
  {
   "cell_type": "code",
   "execution_count": 10,
   "metadata": {},
   "outputs": [],
   "source": [
    "# see comments in NormalizeRatings.ipynb\n",
    "df = df.merge(anime_stats, on = 'anime_id').merge(normalized_anime_stats, on = 'anime_id')\n",
    "df['blp'] = df['anime_bias'] + df['my_score'].mean()\n",
    "df['score'] = df['my_score'] -  df['blp']\n",
    "user_contrib = 0.25 \n",
    "anime_contrib = 0.25\n",
    "df['score_var'] = df['score'].var() * user_contrib + df['normalized_anime_var'] * anime_contrib"
   ]
  },
  {
   "cell_type": "code",
   "execution_count": 11,
   "metadata": {},
   "outputs": [],
   "source": [
    "df[['username', 'anime_id', 'my_score', 'blp', 'score']].to_pickle('baseline_predictor.pkl')"
   ]
  },
  {
   "cell_type": "code",
   "execution_count": 12,
   "metadata": {},
   "outputs": [],
   "source": [
    "df[['username', 'anime_id', 'score', 'score_var']].to_pickle('user_anime_list.pkl')"
   ]
  },
  {
   "cell_type": "code",
   "execution_count": null,
   "metadata": {},
   "outputs": [],
   "source": []
  }
 ],
 "metadata": {
  "kernelspec": {
   "display_name": "Python 3",
   "language": "python",
   "name": "python3"
  },
  "language_info": {
   "codemirror_mode": {
    "name": "ipython",
    "version": 3
   },
   "file_extension": ".py",
   "mimetype": "text/x-python",
   "name": "python",
   "nbconvert_exporter": "python",
   "pygments_lexer": "ipython3",
   "version": "3.8.5"
  }
 },
 "nbformat": 4,
 "nbformat_minor": 4
}
