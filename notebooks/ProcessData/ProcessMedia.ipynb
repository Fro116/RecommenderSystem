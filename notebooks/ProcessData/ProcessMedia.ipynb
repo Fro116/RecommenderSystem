{
 "cells": [
  {
   "cell_type": "markdown",
   "id": "01b39a55-b74e-48b2-b64b-1d948d231ee8",
   "metadata": {},
   "source": [
    "# Process Media"
   ]
  },
  {
   "cell_type": "code",
   "execution_count": null,
   "id": "d2b9c500-cfda-4591-a242-63b8cb668031",
   "metadata": {},
   "outputs": [],
   "source": [
    "import json\n",
    "import os\n",
    "\n",
    "import pandas as pd\n",
    "from tqdm import tqdm"
   ]
  },
  {
   "cell_type": "code",
   "execution_count": null,
   "id": "181e7d62-2834-46dc-886d-20a6484312a7",
   "metadata": {},
   "outputs": [],
   "source": [
    "os.chdir(\"../../data/raw_data\")"
   ]
  },
  {
   "cell_type": "code",
   "execution_count": null,
   "id": "b8c62793-0e25-4365-a92b-4c114eb8d8ad",
   "metadata": {
    "tags": [
     "parameters"
    ]
   },
   "outputs": [],
   "source": [
    "media = \"\""
   ]
  },
  {
   "cell_type": "code",
   "execution_count": null,
   "id": "f7bfd629-08fc-4ca5-85df-6694be8ed760",
   "metadata": {},
   "outputs": [],
   "source": [
    "medium = pd.read_csv(f\"{media}.csv\")\n",
    "medium['tags'] = '[]'\n",
    "medium['links'] = '[]'"
   ]
  },
  {
   "cell_type": "code",
   "execution_count": null,
   "id": "83ae92fd-521d-4e41-b3ce-dd0ccfe7ac95",
   "metadata": {},
   "outputs": [],
   "source": [
    "# Imports anidb tags from https://github.com/manami-project/anime-offline-database\n",
    "if media == \"anime\":\n",
    "    try:\n",
    "        if os.path.exists('anime-offline-database.json'):\n",
    "            os.remove('anime-offline-database.json')\n",
    "        json_fn = \"https://github.com/manami-project/anime-offline-database/raw/master/anime-offline-database.json\"\n",
    "        ! wget $json_fn \n",
    "        with open('anime-offline-database.json', 'r') as f:\n",
    "            db = json.load(f)    \n",
    "        for entry in tqdm(db['data']):\n",
    "            mal_id = [x for x in entry['sources'] if 'myanimelist' in x]\n",
    "            if mal_id:\n",
    "                mal_id = int(mal_id[0].split('/')[-1])\n",
    "                medium.loc[lambda x: x.anime_id == mal_id, 'tags'] = str(entry['tags'])\n",
    "                medium.loc[lambda x: x.anime_id  == mal_id, 'links'] = str(entry['sources'])        \n",
    "    except Exception as e:\n",
    "        print(str(e))"
   ]
  },
  {
   "cell_type": "code",
   "execution_count": null,
   "id": "0bca9cda-afe2-4584-834a-1230030056c5",
   "metadata": {
    "tags": []
   },
   "outputs": [],
   "source": [
    "for i in range(len(medium)):\n",
    "    if medium.loc[i, \"links\"] == '[]':\n",
    "        uid = medium.loc[i, f\"{media}_id\"]\n",
    "        medium.loc[i, \"links\"] = f\"['https://myanimelist.net/{media}/{uid}']\""
   ]
  },
  {
   "cell_type": "code",
   "execution_count": null,
   "id": "6e7bca4a-187b-4f76-9b1e-ab725d473ae7",
   "metadata": {},
   "outputs": [],
   "source": [
    "os.makedirs(\"../processed_data\", exist_ok=True)"
   ]
  },
  {
   "cell_type": "code",
   "execution_count": null,
   "id": "347c0e8b-3b39-4458-acfc-adc9d7d575f5",
   "metadata": {},
   "outputs": [],
   "source": [
    "medium.to_csv(f'../processed_data/{media}.csv', index=False)"
   ]
  }
 ],
 "metadata": {
  "kernelspec": {
   "display_name": "Python 3 (ipykernel)",
   "language": "python",
   "name": "python3"
  },
  "language_info": {
   "codemirror_mode": {
    "name": "ipython",
    "version": 3
   },
   "file_extension": ".py",
   "mimetype": "text/x-python",
   "name": "python",
   "nbconvert_exporter": "python",
   "pygments_lexer": "ipython3",
   "version": "3.10.12"
  }
 },
 "nbformat": 4,
 "nbformat_minor": 5
}
