{
 "cells": [
  {
   "cell_type": "markdown",
   "metadata": {},
   "source": [
    "# Recommendations Graph\n",
    "* We construct a graph of recommendations\n",
    "* The vertices are anime ids and the number of edges between anime_i and anime_j is the number of recommendations between then\n",
    "* We get the adjacency matrix of this graph, normalize it, compute powers, and store it to disk"
   ]
  },
  {
   "cell_type": "code",
   "execution_count": 1,
   "metadata": {},
   "outputs": [],
   "source": [
    "import os\n",
    "import pickle\n",
    "import random\n",
    "\n",
    "import numpy as np\n",
    "import pandas as pd\n",
    "from tqdm import tqdm\n",
    "import scipy.sparse"
   ]
  },
  {
   "cell_type": "code",
   "execution_count": 2,
   "metadata": {},
   "outputs": [],
   "source": [
    "os.chdir(\"../../data/processed_data\")"
   ]
  },
  {
   "cell_type": "code",
   "execution_count": 3,
   "metadata": {},
   "outputs": [],
   "source": [
    "anime = pd.read_csv(\"../cleaned_data/anime.csv\")"
   ]
  },
  {
   "cell_type": "code",
   "execution_count": 4,
   "metadata": {},
   "outputs": [
    {
     "data": {
      "text/html": [
       "<div>\n",
       "<style scoped>\n",
       "    .dataframe tbody tr th:only-of-type {\n",
       "        vertical-align: middle;\n",
       "    }\n",
       "\n",
       "    .dataframe tbody tr th {\n",
       "        vertical-align: top;\n",
       "    }\n",
       "\n",
       "    .dataframe thead th {\n",
       "        text-align: right;\n",
       "    }\n",
       "</style>\n",
       "<table border=\"1\" class=\"dataframe\">\n",
       "  <thead>\n",
       "    <tr style=\"text-align: right;\">\n",
       "      <th></th>\n",
       "      <th>anime_id</th>\n",
       "      <th>title</th>\n",
       "      <th>genres</th>\n",
       "      <th>medium</th>\n",
       "      <th>related_anime</th>\n",
       "      <th>recommendations</th>\n",
       "    </tr>\n",
       "  </thead>\n",
       "  <tbody>\n",
       "    <tr>\n",
       "      <th>0</th>\n",
       "      <td>1</td>\n",
       "      <td>Cowboy Bebop</td>\n",
       "      <td>['Action', 'Adventure', 'Comedy', 'Drama', 'Sc...</td>\n",
       "      <td>tv</td>\n",
       "      <td>[{'anime_id': 5, 'relation': 'side_story'}, {'...</td>\n",
       "      <td>[{'anime_id': 205, 'num_recommendations': 102}...</td>\n",
       "    </tr>\n",
       "    <tr>\n",
       "      <th>1</th>\n",
       "      <td>5</td>\n",
       "      <td>Cowboy Bebop: Tengoku no Tobira</td>\n",
       "      <td>['Action', 'Drama', 'Mystery', 'Sci-Fi', 'Space']</td>\n",
       "      <td>movie</td>\n",
       "      <td>[{'anime_id': 1, 'relation': 'parent_story'}]</td>\n",
       "      <td>[{'anime_id': 4106, 'num_recommendations': 3},...</td>\n",
       "    </tr>\n",
       "    <tr>\n",
       "      <th>2</th>\n",
       "      <td>6</td>\n",
       "      <td>Trigun</td>\n",
       "      <td>['Action', 'Sci-Fi', 'Adventure', 'Comedy', 'D...</td>\n",
       "      <td>tv</td>\n",
       "      <td>[{'anime_id': 4106, 'relation': 'side_story'}]</td>\n",
       "      <td>[{'anime_id': 1, 'num_recommendations': 73}, {...</td>\n",
       "    </tr>\n",
       "    <tr>\n",
       "      <th>3</th>\n",
       "      <td>7</td>\n",
       "      <td>Witch Hunter Robin</td>\n",
       "      <td>['Action', 'Mystery', 'Police', 'Supernatural'...</td>\n",
       "      <td>tv</td>\n",
       "      <td>[]</td>\n",
       "      <td>[{'anime_id': 2025, 'num_recommendations': 12}...</td>\n",
       "    </tr>\n",
       "    <tr>\n",
       "      <th>4</th>\n",
       "      <td>8</td>\n",
       "      <td>Bouken Ou Beet</td>\n",
       "      <td>['Adventure', 'Fantasy', 'Shounen', 'Supernatu...</td>\n",
       "      <td>tv</td>\n",
       "      <td>[{'anime_id': 1123, 'relation': 'sequel'}]</td>\n",
       "      <td>[{'anime_id': 136, 'num_recommendations': 2}, ...</td>\n",
       "    </tr>\n",
       "    <tr>\n",
       "      <th>...</th>\n",
       "      <td>...</td>\n",
       "      <td>...</td>\n",
       "      <td>...</td>\n",
       "      <td>...</td>\n",
       "      <td>...</td>\n",
       "      <td>...</td>\n",
       "    </tr>\n",
       "    <tr>\n",
       "      <th>17866</th>\n",
       "      <td>48992</td>\n",
       "      <td>Aru Nihon no Ekaki Shounen</td>\n",
       "      <td>['Comedy', 'Dementia']</td>\n",
       "      <td>movie</td>\n",
       "      <td>[]</td>\n",
       "      <td>[]</td>\n",
       "    </tr>\n",
       "    <tr>\n",
       "      <th>17867</th>\n",
       "      <td>48997</td>\n",
       "      <td>Fantasy Bishoujo Juniku Ojisan to</td>\n",
       "      <td>['Adventure', 'Comedy', 'Fantasy']</td>\n",
       "      <td>tv</td>\n",
       "      <td>[]</td>\n",
       "      <td>[]</td>\n",
       "    </tr>\n",
       "    <tr>\n",
       "      <th>17868</th>\n",
       "      <td>49014</td>\n",
       "      <td>Daisan no Shinzou</td>\n",
       "      <td>['Music']</td>\n",
       "      <td>music</td>\n",
       "      <td>[]</td>\n",
       "      <td>[{'anime_id': 30771, 'num_recommendations': 1}...</td>\n",
       "    </tr>\n",
       "    <tr>\n",
       "      <th>17869</th>\n",
       "      <td>49020</td>\n",
       "      <td>Jashin Shoukan: Inran Kyonyuu Oyako Ikenie Gis...</td>\n",
       "      <td>['Hentai']</td>\n",
       "      <td>ova</td>\n",
       "      <td>[]</td>\n",
       "      <td>[]</td>\n",
       "    </tr>\n",
       "    <tr>\n",
       "      <th>17870</th>\n",
       "      <td>49026</td>\n",
       "      <td>Yuru Camp△ Season 2 Specials</td>\n",
       "      <td>['Slice of Life', 'Comedy']</td>\n",
       "      <td>special</td>\n",
       "      <td>[{'anime_id': 38474, 'relation': 'other'}]</td>\n",
       "      <td>[]</td>\n",
       "    </tr>\n",
       "  </tbody>\n",
       "</table>\n",
       "<p>17871 rows × 6 columns</p>\n",
       "</div>"
      ],
      "text/plain": [
       "       anime_id                                              title  \\\n",
       "0             1                                       Cowboy Bebop   \n",
       "1             5                    Cowboy Bebop: Tengoku no Tobira   \n",
       "2             6                                             Trigun   \n",
       "3             7                                 Witch Hunter Robin   \n",
       "4             8                                     Bouken Ou Beet   \n",
       "...         ...                                                ...   \n",
       "17866     48992                         Aru Nihon no Ekaki Shounen   \n",
       "17867     48997                  Fantasy Bishoujo Juniku Ojisan to   \n",
       "17868     49014                                  Daisan no Shinzou   \n",
       "17869     49020  Jashin Shoukan: Inran Kyonyuu Oyako Ikenie Gis...   \n",
       "17870     49026                       Yuru Camp△ Season 2 Specials   \n",
       "\n",
       "                                                  genres   medium  \\\n",
       "0      ['Action', 'Adventure', 'Comedy', 'Drama', 'Sc...       tv   \n",
       "1      ['Action', 'Drama', 'Mystery', 'Sci-Fi', 'Space']    movie   \n",
       "2      ['Action', 'Sci-Fi', 'Adventure', 'Comedy', 'D...       tv   \n",
       "3      ['Action', 'Mystery', 'Police', 'Supernatural'...       tv   \n",
       "4      ['Adventure', 'Fantasy', 'Shounen', 'Supernatu...       tv   \n",
       "...                                                  ...      ...   \n",
       "17866                             ['Comedy', 'Dementia']    movie   \n",
       "17867                 ['Adventure', 'Comedy', 'Fantasy']       tv   \n",
       "17868                                          ['Music']    music   \n",
       "17869                                         ['Hentai']      ova   \n",
       "17870                        ['Slice of Life', 'Comedy']  special   \n",
       "\n",
       "                                           related_anime  \\\n",
       "0      [{'anime_id': 5, 'relation': 'side_story'}, {'...   \n",
       "1          [{'anime_id': 1, 'relation': 'parent_story'}]   \n",
       "2         [{'anime_id': 4106, 'relation': 'side_story'}]   \n",
       "3                                                     []   \n",
       "4             [{'anime_id': 1123, 'relation': 'sequel'}]   \n",
       "...                                                  ...   \n",
       "17866                                                 []   \n",
       "17867                                                 []   \n",
       "17868                                                 []   \n",
       "17869                                                 []   \n",
       "17870         [{'anime_id': 38474, 'relation': 'other'}]   \n",
       "\n",
       "                                         recommendations  \n",
       "0      [{'anime_id': 205, 'num_recommendations': 102}...  \n",
       "1      [{'anime_id': 4106, 'num_recommendations': 3},...  \n",
       "2      [{'anime_id': 1, 'num_recommendations': 73}, {...  \n",
       "3      [{'anime_id': 2025, 'num_recommendations': 12}...  \n",
       "4      [{'anime_id': 136, 'num_recommendations': 2}, ...  \n",
       "...                                                  ...  \n",
       "17866                                                 []  \n",
       "17867                                                 []  \n",
       "17868  [{'anime_id': 30771, 'num_recommendations': 1}...  \n",
       "17869                                                 []  \n",
       "17870                                                 []  \n",
       "\n",
       "[17871 rows x 6 columns]"
      ]
     },
     "execution_count": 4,
     "metadata": {},
     "output_type": "execute_result"
    }
   ],
   "source": [
    "anime"
   ]
  },
  {
   "cell_type": "code",
   "execution_count": 5,
   "metadata": {},
   "outputs": [
    {
     "name": "stderr",
     "output_type": "stream",
     "text": [
      "100%|███████████████████████████████████████████████████████████████████████████| 17871/17871 [00:18<00:00, 989.72it/s]\n"
     ]
    }
   ],
   "source": [
    "rec_dfs = []\n",
    "for i, row in tqdm(anime.iterrows(), total=len(anime)):\n",
    "    rec_df = pd.DataFrame.from_records(eval(row[\"recommendations\"]))\n",
    "    rec_df[\"target\"] = row[\"anime_id\"]\n",
    "    rec_df = rec_df.rename({\"anime_id\": \"source\"}, axis=1)\n",
    "    rec_dfs.append(rec_df)\n",
    "rec_df = pd.concat(rec_dfs, ignore_index=True).astype(int)"
   ]
  },
  {
   "cell_type": "code",
   "execution_count": 6,
   "metadata": {},
   "outputs": [],
   "source": [
    "if rec_df.empty:\n",
    "    rec_df = pd.DataFrame.from_dict({'source': [], 'target': [], 'num_recommendations': []})"
   ]
  },
  {
   "cell_type": "code",
   "execution_count": 7,
   "metadata": {
    "tags": []
   },
   "outputs": [],
   "source": [
    "rec_df.to_pickle(\"mal_user_recs_raw.pkl\")"
   ]
  },
  {
   "cell_type": "code",
   "execution_count": 8,
   "metadata": {},
   "outputs": [],
   "source": [
    "def make_symmetric(rec_df):\n",
    "    rec_df_flipped = rec_df.rename({\"source\": \"target\", \"target\": \"source\"}, axis=1)\n",
    "    rec_df_full = pd.concat([rec_df, rec_df_flipped], ignore_index=True)\n",
    "    rec_df_full = rec_df_full.groupby([\"source\", \"target\"]).sum().reset_index()\n",
    "    rec_df = rec_df_full\n",
    "    return rec_df"
   ]
  },
  {
   "cell_type": "code",
   "execution_count": 9,
   "metadata": {},
   "outputs": [],
   "source": [
    "def normalize_edges(df):\n",
    "    df = df.merge(df.groupby('source')['weight'].sum().rename('source_weight'), on='source')\n",
    "    df = df.merge(df.groupby('target')['weight'].sum().rename('target_weight'), on='target')\n",
    "    df['weight'] = df['weight'] / df['source_weight'] / df['target_weight'] \n",
    "    df = df.drop({'source_weight', 'target_weight'}, axis=1)\n",
    "    return df"
   ]
  },
  {
   "cell_type": "code",
   "execution_count": 10,
   "metadata": {},
   "outputs": [],
   "source": [
    "def to_csr_mat(df):\n",
    "    # handle empty dataframes gracefully\n",
    "    shape = None\n",
    "    if df.empty:\n",
    "        shape = (1, 1)\n",
    "    return scipy.sparse.csr_matrix((df['weight'], (df['source'], df['target'])), shape)"
   ]
  },
  {
   "cell_type": "code",
   "execution_count": 11,
   "metadata": {},
   "outputs": [],
   "source": [
    "rec_df[\"weight\"] = rec_df[\"num_recommendations\"]\n",
    "rec_df = rec_df.drop(\"num_recommendations\", axis=1)\n",
    "rec_df = make_symmetric(rec_df)\n",
    "rec_df = normalize_edges(rec_df)"
   ]
  },
  {
   "cell_type": "code",
   "execution_count": null,
   "metadata": {},
   "outputs": [
    {
     "name": "stderr",
     "output_type": "stream",
     "text": [
      " 67%|███████████████████████████████████████████████████████▎                           | 6/9 [46:38<32:46, 655.52s/it]"
     ]
    }
   ],
   "source": [
    "max_power = 10\n",
    "for i in tqdm(range(1, max_power)):\n",
    "    rec_df.to_pickle(f\"mal_user_recs_pow_{i}.pkl\")    \n",
    "    weight_sum = rec_df['weight'].sum()\n",
    "    adj_mat = to_csr_mat(rec_df)\n",
    "    adj_mat = adj_mat @ adj_mat\n",
    "    mat = adj_mat.tocoo() \n",
    "    rec_df = pd.DataFrame({'source': mat.row, 'target': mat.col, 'weight': mat.data})\n",
    "    rec_df = rec_df.loc[lambda x: x['source'] != x['target']]\n",
    "    rec_df = make_symmetric(rec_df)    \n",
    "    rec_df = normalize_edges(rec_df)\n",
    "    rec_df['weight'] /= weight_sum\n",
    "rec_df.to_pickle(f\"mal_user_recs_pow_{max_power}.pkl\")    "
   ]
  },
  {
   "cell_type": "code",
   "execution_count": null,
   "metadata": {},
   "outputs": [],
   "source": []
  }
 ],
 "metadata": {
  "kernelspec": {
   "display_name": "Python 3",
   "language": "python",
   "name": "python3"
  },
  "language_info": {
   "codemirror_mode": {
    "name": "ipython",
    "version": 3
   },
   "file_extension": ".py",
   "mimetype": "text/x-python",
   "name": "python",
   "nbconvert_exporter": "python",
   "pygments_lexer": "ipython3",
   "version": "3.8.8"
  }
 },
 "nbformat": 4,
 "nbformat_minor": 4
}
