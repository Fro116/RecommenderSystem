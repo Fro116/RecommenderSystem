{
 "cells": [
  {
   "cell_type": "markdown",
   "metadata": {},
   "source": [
    "# Recommendations Graph\n",
    "* We construct a graph of recommendations\n",
    "* The vertices are anime ids and the number of edges between anime_i and anime_j is the number of recommendations between then\n",
    "* We get the adjacency matrix of this graph, normalize it, compute powers, and store it to disk"
   ]
  },
  {
   "cell_type": "code",
   "execution_count": 1,
   "metadata": {},
   "outputs": [],
   "source": [
    "import os\n",
    "import pickle\n",
    "import random\n",
    "\n",
    "import numpy as np\n",
    "import pandas as pd\n",
    "from tqdm import tqdm\n",
    "import scipy.sparse"
   ]
  },
  {
   "cell_type": "code",
   "execution_count": 2,
   "metadata": {},
   "outputs": [],
   "source": [
    "os.chdir(\"../../data/processed_data\")"
   ]
  },
  {
   "cell_type": "code",
   "execution_count": 3,
   "metadata": {},
   "outputs": [],
   "source": [
    "anime = pd.read_csv(\"../cleaned_data/anime.csv\")"
   ]
  },
  {
   "cell_type": "code",
   "execution_count": 4,
   "metadata": {},
   "outputs": [
    {
     "name": "stderr",
     "output_type": "stream",
     "text": [
      "100%|██████████| 17871/17871 [00:19<00:00, 917.49it/s] \n"
     ]
    }
   ],
   "source": [
    "rec_dfs = []\n",
    "for i, row in tqdm(anime.iterrows(), total=len(anime)):\n",
    "    rec_df = pd.DataFrame.from_records(eval(row[\"recommendations\"]))\n",
    "    rec_df[\"target\"] = row[\"anime_id\"]\n",
    "    rec_df = rec_df.rename({\"anime_id\": \"source\"}, axis=1)\n",
    "    rec_dfs.append(rec_df)\n",
    "rec_df = pd.concat(rec_dfs, ignore_index=True).astype(int)"
   ]
  },
  {
   "cell_type": "code",
   "execution_count": 5,
   "metadata": {},
   "outputs": [],
   "source": [
    "if rec_df.empty:\n",
    "    rec_df = pd.DataFrame.from_dict({'source': [], 'target': [], 'num_recommendations': []})"
   ]
  },
  {
   "cell_type": "code",
   "execution_count": 6,
   "metadata": {
    "tags": []
   },
   "outputs": [],
   "source": [
    "rec_df.to_pickle(\"mal_user_recs_raw.pkl\")"
   ]
  },
  {
   "cell_type": "code",
   "execution_count": 7,
   "metadata": {},
   "outputs": [],
   "source": [
    "def make_symmetric(rec_df):\n",
    "    rec_df_flipped = rec_df.rename({\"source\": \"target\", \"target\": \"source\"}, axis=1)\n",
    "    rec_df_full = pd.concat([rec_df, rec_df_flipped], ignore_index=True)\n",
    "    rec_df_full = rec_df_full.groupby([\"source\", \"target\"]).sum().reset_index()\n",
    "    rec_df = rec_df_full\n",
    "    return rec_df"
   ]
  },
  {
   "cell_type": "code",
   "execution_count": 8,
   "metadata": {},
   "outputs": [],
   "source": [
    "def normalize_edges(df):\n",
    "    df = df.merge(df.groupby('source')['weight'].sum().rename('source_weight'), on='source')\n",
    "    df = df.merge(df.groupby('target')['weight'].sum().rename('target_weight'), on='target')\n",
    "    df['weight'] = df['weight'] / df['source_weight'] / df['target_weight'] \n",
    "    df = df.drop({'source_weight', 'target_weight'}, axis=1)\n",
    "    return df"
   ]
  },
  {
   "cell_type": "code",
   "execution_count": 9,
   "metadata": {},
   "outputs": [],
   "source": [
    "def to_csr_mat(df):\n",
    "    # handle empty dataframes gracefully\n",
    "    shape = None\n",
    "    if df.empty:\n",
    "        shape = (1, 1)\n",
    "    return scipy.sparse.csr_matrix((df['weight'], (df['source'], df['target'])), shape)"
   ]
  },
  {
   "cell_type": "code",
   "execution_count": 10,
   "metadata": {},
   "outputs": [],
   "source": [
    "rec_df[\"weight\"] = rec_df[\"num_recommendations\"]\n",
    "rec_df = rec_df.drop(\"num_recommendations\", axis=1)\n",
    "rec_df = make_symmetric(rec_df)\n",
    "rec_df = normalize_edges(rec_df)"
   ]
  },
  {
   "cell_type": "code",
   "execution_count": 11,
   "metadata": {},
   "outputs": [
    {
     "name": "stderr",
     "output_type": "stream",
     "text": [
      "100%|██████████| 9/9 [55:36<00:00, 370.70s/it]\n"
     ]
    }
   ],
   "source": [
    "max_power = 10\n",
    "for i in tqdm(range(1, max_power)):\n",
    "    rec_df.to_pickle(f\"mal_user_recs_pow_{i}.pkl\")    \n",
    "    weight_sum = rec_df['weight'].sum()\n",
    "    adj_mat = to_csr_mat(rec_df)\n",
    "    adj_mat = adj_mat @ adj_mat\n",
    "    mat = adj_mat.tocoo() \n",
    "    rec_df = pd.DataFrame({'source': mat.row, 'target': mat.col, 'weight': mat.data})\n",
    "    rec_df = rec_df.loc[lambda x: x['source'] != x['target']]\n",
    "    rec_df = make_symmetric(rec_df)    \n",
    "    rec_df = normalize_edges(rec_df)\n",
    "    rec_df['weight'] /= weight_sum\n",
    "rec_df.to_pickle(f\"mal_user_recs_pow_{max_power}.pkl\")    "
   ]
  },
  {
   "cell_type": "code",
   "execution_count": null,
   "metadata": {},
   "outputs": [],
   "source": []
  }
 ],
 "metadata": {
  "kernelspec": {
   "display_name": "Python 3",
   "language": "python",
   "name": "python3"
  },
  "language_info": {
   "codemirror_mode": {
    "name": "ipython",
    "version": 3
   },
   "file_extension": ".py",
   "mimetype": "text/x-python",
   "name": "python",
   "nbconvert_exporter": "python",
   "pygments_lexer": "ipython3",
   "version": "3.8.5"
  }
 },
 "nbformat": 4,
 "nbformat_minor": 4
}
