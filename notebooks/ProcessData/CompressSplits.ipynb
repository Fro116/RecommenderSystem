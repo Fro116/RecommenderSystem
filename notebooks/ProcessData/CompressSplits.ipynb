{
 "cells": [
  {
   "cell_type": "markdown",
   "id": "69da3265-28e9-4348-bbb7-5ff65b50652d",
   "metadata": {},
   "source": [
    "# Write the splits in a Julia optimized format"
   ]
  },
  {
   "cell_type": "code",
   "execution_count": 1,
   "id": "a88386b3-d72b-4707-8a4b-00f001b6ae34",
   "metadata": {},
   "outputs": [],
   "source": [
    "using CSV\n",
    "using DataFrames\n",
    "using JLD2\n",
    "using JupyterFormatter"
   ]
  },
  {
   "cell_type": "code",
   "execution_count": 2,
   "id": "c2002a3f-c898-4a78-97da-46168022672c",
   "metadata": {},
   "outputs": [],
   "source": [
    "enable_autoformat();"
   ]
  },
  {
   "cell_type": "code",
   "execution_count": 3,
   "id": "b4c9a5eb-0283-4b7e-af29-bc0d58322c2e",
   "metadata": {},
   "outputs": [],
   "source": [
    "struct RatingsDataset\n",
    "    user::Vector{Int32}\n",
    "    item::Vector{Int32}\n",
    "    rating::Vector{Float32}\n",
    "end;"
   ]
  },
  {
   "cell_type": "code",
   "execution_count": 4,
   "id": "ed8bbc4e-a7b1-4c74-ba72-c83aff97f028",
   "metadata": {},
   "outputs": [],
   "source": [
    "function get_dataset(file)\n",
    "    df = DataFrame(CSV.File(file))\n",
    "    df.username .+= 1 # julia is 1 indexed\n",
    "    df.anime_id .+= 1\n",
    "    df.my_score = float(df.my_score)\n",
    "    RatingsDataset(df.username, df.anime_id, df.my_score)\n",
    "end\n",
    "\n",
    "get_split(split) = get_dataset(\"../../data/splits/$(split).csv\");"
   ]
  },
  {
   "cell_type": "code",
   "execution_count": 5,
   "id": "43430e38-e97c-4839-aef7-88b1a8ae8f60",
   "metadata": {
    "tags": []
   },
   "outputs": [
    {
     "name": "stdout",
     "output_type": "stream",
     "text": [
      " 35.472678 seconds (8.47 M allocations: 13.357 GiB, 2.25% gc time, 0.32% compilation time)\n",
      "  1.077775 seconds (4.87 k allocations: 685.108 MiB, 73.49% gc time)\n",
      "  0.198039 seconds (2.53 k allocations: 684.781 MiB)\n",
      " 28.555790 seconds (2.41 k allocations: 14.748 GiB, 1.41% gc time)\n"
     ]
    },
    {
     "data": {
      "text/plain": [
       "RatingsDataset(Int32[851625, 851625, 851625, 851625, 851625, 851625, 851625, 851625, 851625, 851625  …  369188, 369188, 369188, 369188, 369188, 369188, 369188, 369188, 369188, 369188], Int32[11528, 498, 805, 41, 12807, 7670, 101, 3963, 116, 6464  …  14194, 3, 6082, 774, 14254, 7169, 15584, 9017, 14423, 369], Float32[1.0, 1.0, 1.0, 1.0, 1.0, 1.0, 1.0, 1.0, 1.0, 1.0  …  1.0, 1.0, 1.0, 1.0, 1.0, 1.0, 1.0, 1.0, 1.0, 1.0])"
      ]
     },
     "execution_count": 5,
     "metadata": {},
     "output_type": "execute_result"
    }
   ],
   "source": [
    "@time training = get_split(\"training\");\n",
    "@time validation = get_split(\"validation\");\n",
    "@time test = get_split(\"test\");\n",
    "@time implicit = get_dataset(\"../../data/processed_data/user_implicit_lists.csv\")"
   ]
  },
  {
   "cell_type": "code",
   "execution_count": 6,
   "id": "7816e720-b639-4f0a-b927-0fd57d3774a8",
   "metadata": {},
   "outputs": [
    {
     "name": "stdout",
     "output_type": "stream",
     "text": [
      " 40.513498 seconds (5.29 M allocations: 305.290 MiB, 0.19% gc time, 4.96% compilation time)\n"
     ]
    }
   ],
   "source": [
    "file = \"../../data/splits/splits.jld2\";\n",
    "@time jldsave(file; training, validation, test, implicit);"
   ]
  }
 ],
 "metadata": {
  "kernelspec": {
   "display_name": "Julia 1.6.3",
   "language": "julia",
   "name": "julia-1.6"
  },
  "language_info": {
   "file_extension": ".jl",
   "mimetype": "application/julia",
   "name": "julia",
   "version": "1.6.3"
  }
 },
 "nbformat": 4,
 "nbformat_minor": 5
}
