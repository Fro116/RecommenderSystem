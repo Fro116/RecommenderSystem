{
 "cells": [
  {
   "cell_type": "markdown",
   "id": "69da3265-28e9-4348-bbb7-5ff65b50652d",
   "metadata": {},
   "source": [
    "# Write the splits in a Julia optimized format"
   ]
  },
  {
   "cell_type": "code",
   "execution_count": null,
   "id": "a88386b3-d72b-4707-8a4b-00f001b6ae34",
   "metadata": {},
   "outputs": [],
   "source": [
    "using CSV\n",
    "using DataFrames\n",
    "using JLD2\n",
    "using JupyterFormatter\n",
    "using ProgressMeter"
   ]
  },
  {
   "cell_type": "code",
   "execution_count": null,
   "id": "c2002a3f-c898-4a78-97da-46168022672c",
   "metadata": {},
   "outputs": [],
   "source": [
    "enable_autoformat();"
   ]
  },
  {
   "cell_type": "code",
   "execution_count": null,
   "id": "b4c9a5eb-0283-4b7e-af29-bc0d58322c2e",
   "metadata": {},
   "outputs": [],
   "source": [
    "struct RatingsDataset\n",
    "    user::Vector{Int32}\n",
    "    item::Vector{Int32}\n",
    "    rating::Vector{Float32}\n",
    "    timestamp::Vector{Float32}\n",
    "    status::Vector{Int32}\n",
    "    completion::Vector{Float32}\n",
    "    rewatch::Vector{Int32}\n",
    "    source::Vector{Int32}\n",
    "end;"
   ]
  },
  {
   "cell_type": "code",
   "execution_count": null,
   "id": "ed8bbc4e-a7b1-4c74-ba72-c83aff97f028",
   "metadata": {},
   "outputs": [],
   "source": [
    "function get_dataset(file)\n",
    "    df = DataFrame(CSV.File(file))\n",
    "    RatingsDataset(\n",
    "        df.username .+ 1, # julia is 1 indexed\n",
    "        df.animeid .+ 1, # julia is 1 indexed\n",
    "        df.score,\n",
    "        df.timestamp,\n",
    "        df.status,\n",
    "        df.completion,\n",
    "        df.rewatch,\n",
    "        df.source,\n",
    "    )\n",
    "end;"
   ]
  },
  {
   "cell_type": "code",
   "execution_count": null,
   "id": "5b662983-b4af-43ca-90eb-8c1220924973",
   "metadata": {},
   "outputs": [],
   "source": [
    "function get_negative_dataset(file)\n",
    "    df = DataFrame(CSV.File(file))\n",
    "    RatingsDataset(\n",
    "        df.user .+ 1, # julia is 1 indexed\n",
    "        df.item .+ 1, # julia is 1 indexed\n",
    "        [],\n",
    "        [],\n",
    "        [],\n",
    "        [],\n",
    "        [],\n",
    "        [],\n",
    "    )\n",
    "end;"
   ]
  },
  {
   "cell_type": "markdown",
   "id": "061fc2e7-358c-4d7c-839a-455e5bc73d0b",
   "metadata": {},
   "source": [
    "## Save splits"
   ]
  },
  {
   "cell_type": "code",
   "execution_count": null,
   "id": "ea6a2c9f-f775-43a6-b25d-ad327589d646",
   "metadata": {},
   "outputs": [],
   "source": [
    "for content in [\"explicit\", \"implicit\", \"ptw\"]\n",
    "    for split in [\"training\", \"validation\", \"test\"]\n",
    "        file = \"../../data/splits/$(content)_$(split).jld2\"\n",
    "        @time dataset = get_dataset(\"../../data/splits/$(content)_$(split).csv\")\n",
    "        @time jldsave(file; dataset)\n",
    "    end\n",
    "end;"
   ]
  },
  {
   "cell_type": "code",
   "execution_count": null,
   "id": "f3b71624-693f-4d7f-8b29-697ebbf334a1",
   "metadata": {},
   "outputs": [],
   "source": [
    "for split in [\"training\", \"validation\", \"test\"]\n",
    "    file = \"../../data/splits/negative_$(split).jld2\"\n",
    "    @time dataset = get_negative_dataset(\"../../data/splits/negative_$(split).csv\")\n",
    "    @time jldsave(file; dataset)\n",
    "end;"
   ]
  }
 ],
 "metadata": {
  "kernelspec": {
   "display_name": "Julia 1.8.0-rc1",
   "language": "julia",
   "name": "julia-1.8"
  },
  "language_info": {
   "file_extension": ".jl",
   "mimetype": "application/julia",
   "name": "julia",
   "version": "1.8.0"
  }
 },
 "nbformat": 4,
 "nbformat_minor": 5
}
