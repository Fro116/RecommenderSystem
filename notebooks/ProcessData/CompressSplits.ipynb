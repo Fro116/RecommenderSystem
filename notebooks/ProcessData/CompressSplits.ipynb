{
 "cells": [
  {
   "cell_type": "markdown",
   "id": "69da3265-28e9-4348-bbb7-5ff65b50652d",
   "metadata": {},
   "source": [
    "# Write the splits in a Julia optimized format"
   ]
  },
  {
   "cell_type": "code",
   "execution_count": 1,
   "id": "a88386b3-d72b-4707-8a4b-00f001b6ae34",
   "metadata": {},
   "outputs": [],
   "source": [
    "using CSV\n",
    "using DataFrames\n",
    "using JLD2\n",
    "using JupyterFormatter"
   ]
  },
  {
   "cell_type": "code",
   "execution_count": 2,
   "id": "c2002a3f-c898-4a78-97da-46168022672c",
   "metadata": {},
   "outputs": [],
   "source": [
    "enable_autoformat();"
   ]
  },
  {
   "cell_type": "code",
   "execution_count": 3,
   "id": "b4c9a5eb-0283-4b7e-af29-bc0d58322c2e",
   "metadata": {},
   "outputs": [],
   "source": [
    "struct RatingsDataset\n",
    "    user::Vector{Int64}\n",
    "    item::Vector{Int64}\n",
    "    rating::Vector{Float64}\n",
    "end;"
   ]
  },
  {
   "cell_type": "code",
   "execution_count": 4,
   "id": "b8553a4a-3eae-48a6-820a-c7a3b4809a07",
   "metadata": {},
   "outputs": [],
   "source": [
    "function get_split(split)\n",
    "    @assert split in [\"training\", \"validation\", \"test\"]\n",
    "    file = \"../../data/splits/$(split).csv\"\n",
    "    df = DataFrame(CSV.File(file))\n",
    "    df.username .+= 1 # julia is 1 indexed\n",
    "    df.anime_id .+= 1\n",
    "    df.my_score = float(df.my_score)\n",
    "    return RatingsDataset(df.username, df.anime_id, df.my_score)\n",
    "end;"
   ]
  },
  {
   "cell_type": "code",
   "execution_count": 5,
   "id": "43430e38-e97c-4839-aef7-88b1a8ae8f60",
   "metadata": {
    "tags": []
   },
   "outputs": [
    {
     "name": "stdout",
     "output_type": "stream",
     "text": [
      " 40.754407 seconds (7.65 M allocations: 5.333 GiB, 0.68% gc time, 2.32% compilation time)\n",
      "  0.930786 seconds (4.86 k allocations: 630.620 MiB, 53.78% gc time, 1.15% compilation time)\n",
      "  0.363461 seconds (2.38 k allocations: 458.945 MiB)\n"
     ]
    }
   ],
   "source": [
    "@time training = get_split(\"training\");\n",
    "@time validation = get_split(\"validation\");\n",
    "@time test = get_split(\"test\");"
   ]
  },
  {
   "cell_type": "code",
   "execution_count": 6,
   "id": "7816e720-b639-4f0a-b927-0fd57d3774a8",
   "metadata": {},
   "outputs": [
    {
     "name": "stdout",
     "output_type": "stream",
     "text": [
      " 26.746952 seconds (5.22 M allocations: 301.512 MiB, 14.85% compilation time)\n"
     ]
    }
   ],
   "source": [
    "file = \"../../data/splits/splits.jld2\";\n",
    "@time jldsave(file; training, validation, test);"
   ]
  }
 ],
 "metadata": {
  "kernelspec": {
   "display_name": "Julia 1.6.3",
   "language": "julia",
   "name": "julia-1.6"
  },
  "language_info": {
   "file_extension": ".jl",
   "mimetype": "application/julia",
   "name": "julia",
   "version": "1.6.3"
  }
 },
 "nbformat": 4,
 "nbformat_minor": 5
}
