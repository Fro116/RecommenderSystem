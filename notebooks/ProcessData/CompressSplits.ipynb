{
 "cells": [
  {
   "cell_type": "markdown",
   "id": "69da3265-28e9-4348-bbb7-5ff65b50652d",
   "metadata": {},
   "source": [
    "# Write the splits in a Julia optimized format\n",
    "* In addition, a negative split is sampled. This set consists of (user, item) pairs that the user did not watch.\n",
    "* 10% of the negative split is randomly sampled, the other 90% is weighted by item popularity"
   ]
  },
  {
   "cell_type": "code",
   "execution_count": null,
   "id": "a88386b3-d72b-4707-8a4b-00f001b6ae34",
   "metadata": {},
   "outputs": [],
   "source": [
    "using JLD2\n",
    "\n",
    "import CSV\n",
    "import DataFrames: DataFrame\n",
    "import JupyterFormatter: enable_autoformat\n",
    "import ProgressMeter: @showprogress\n",
    "import Random\n",
    "import StatsBase: sample, wsample"
   ]
  },
  {
   "cell_type": "code",
   "execution_count": null,
   "id": "c2002a3f-c898-4a78-97da-46168022672c",
   "metadata": {},
   "outputs": [],
   "source": [
    "enable_autoformat();"
   ]
  },
  {
   "cell_type": "code",
   "execution_count": null,
   "id": "d5ff47a9-eef6-4876-ada2-43ccf5963c93",
   "metadata": {},
   "outputs": [],
   "source": [
    "Random.seed!(20230406);"
   ]
  },
  {
   "cell_type": "code",
   "execution_count": null,
   "id": "536156b7-af89-4c40-a86e-9e494f6b7d61",
   "metadata": {
    "tags": [
     "parameters"
    ]
   },
   "outputs": [],
   "source": [
    "media = \"\""
   ]
  },
  {
   "cell_type": "code",
   "execution_count": null,
   "id": "e607b476-ca55-408c-ab66-dea2bd9a0e31",
   "metadata": {},
   "outputs": [],
   "source": [
    "ALL_TASKS = [\"temporal\", \"temporal_causal\"]"
   ]
  },
  {
   "cell_type": "markdown",
   "id": "efcc50be-9e25-49d4-9cd8-f5050fd5edbb",
   "metadata": {},
   "source": [
    "# Save Splits"
   ]
  },
  {
   "cell_type": "code",
   "execution_count": null,
   "id": "b4c9a5eb-0283-4b7e-af29-bc0d58322c2e",
   "metadata": {},
   "outputs": [],
   "source": [
    "struct RatingsDataset\n",
    "    user::Vector{Int32}\n",
    "    item::Vector{Int32}\n",
    "    rating::Vector{Float32}\n",
    "    timestamp::Vector{Float32}\n",
    "    status::Vector{Int32}\n",
    "    completion::Vector{Float32}\n",
    "    source::Vector{Int32}\n",
    "    medium::String\n",
    "end;"
   ]
  },
  {
   "cell_type": "code",
   "execution_count": null,
   "id": "3bdac659-6076-48e8-8598-2e9a25f44cea",
   "metadata": {},
   "outputs": [],
   "source": [
    "function to_julia_index(x)\n",
    "    x .+ 1 # julia is 1 indexed\n",
    "end;"
   ]
  },
  {
   "cell_type": "code",
   "execution_count": null,
   "id": "ed8bbc4e-a7b1-4c74-ba72-c83aff97f028",
   "metadata": {},
   "outputs": [],
   "source": [
    "function get_dataset(file)\n",
    "    uidcol = Symbol(\"$(media)id\")\n",
    "    intcols = Set([:username, uidcol, :status, :source])\n",
    "    df = DataFrame(CSV.File(file, types = (i, name) -> name in intcols ? Int32 : Float32))\n",
    "    RatingsDataset(\n",
    "        df.username |> to_julia_index,\n",
    "        df[:, uidcol] |> to_julia_index,\n",
    "        df.score,\n",
    "        df.timestamp,\n",
    "        df.status,\n",
    "        df.completion,\n",
    "        df.source,\n",
    "        media,\n",
    "    )\n",
    "end;"
   ]
  },
  {
   "cell_type": "code",
   "execution_count": null,
   "id": "e7116b84-6566-4950-9d58-736ebaf5a76f",
   "metadata": {},
   "outputs": [],
   "source": [
    "function get_data_path(x)\n",
    "    \"../../data/$x\"\n",
    "end\n",
    "\n",
    "function num_users()\n",
    "    open(get_data_path(\"processed_data/$(media)_uid_encoding.csv\")) do file\n",
    "        text = read(file, String)\n",
    "        lines = split(text, '\\n')\n",
    "        fields = split(lines[1], ',')\n",
    "        @assert fields[1] == \"max_userid\"\n",
    "        max_userid = parse(Int, fields[2]) + 1\n",
    "        return max_userid\n",
    "    end\n",
    "end\n",
    "\n",
    "function num_items()\n",
    "    open(get_data_path(\"processed_data/$(media)_uid_encoding.csv\")) do file\n",
    "        text = read(file, String)\n",
    "        lines = split(text, '\\n')\n",
    "        fields = split(lines[2], ',')\n",
    "        @assert fields[1] == \"max_itemid\"\n",
    "        max_itemid = parse(Int, fields[2]) + 1\n",
    "        return max_itemid\n",
    "    end\n",
    "end;"
   ]
  },
  {
   "cell_type": "code",
   "execution_count": null,
   "id": "ea6a2c9f-f775-43a6-b25d-ad327589d646",
   "metadata": {},
   "outputs": [],
   "source": [
    "for content in [\"explicit\", \"implicit\", \"ptw\"]\n",
    "    for task in ALL_TASKS\n",
    "        for split in [\"training\", \"validation\", \"test\"]\n",
    "            stem = \"../../data/splits/$content.$task.$split\"\n",
    "            @time dataset = get_dataset(\"$stem.user_$(media)_list.csv\")\n",
    "            @time jldsave(\"$stem.$media.jld2\"; dataset)\n",
    "        end\n",
    "    end\n",
    "end;"
   ]
  },
  {
   "cell_type": "markdown",
   "id": "da4b32b1-b8aa-4e9f-bb4f-0b97ffd8cb02",
   "metadata": {},
   "source": [
    "# Save Negative Splits"
   ]
  },
  {
   "cell_type": "code",
   "execution_count": null,
   "id": "35b20d13-f3d1-4afa-8dbc-6457a24845bf",
   "metadata": {},
   "outputs": [],
   "source": [
    "function get_user_item_pairs(split, task)\n",
    "    user_item_pairs = Set{Tuple{Int32,Int32}}()\n",
    "    splits = [\"training\", split]\n",
    "    contents = [\"explicit\", \"implicit\", \"ptw\"]\n",
    "\n",
    "    for split in splits\n",
    "        for content in contents\n",
    "            file = \"../../data/splits/$content.$task.$split.$media.jld2\"\n",
    "            df = JLD2.load(file, \"dataset\")\n",
    "            @showprogress for k = 1:length(df.user)\n",
    "                push!(user_item_pairs, (df.user[k] - 1, df.item[k] - 1))\n",
    "            end\n",
    "        end\n",
    "    end\n",
    "    user_item_pairs\n",
    "end;"
   ]
  },
  {
   "cell_type": "code",
   "execution_count": null,
   "id": "77cc20c3-1321-4687-b7c7-d5177b63bece",
   "metadata": {},
   "outputs": [],
   "source": [
    "function get_users(split, task)\n",
    "    users = Set()\n",
    "    contents = [\"explicit\", \"implicit\", \"ptw\"]\n",
    "    for content in contents\n",
    "        file = \"../../data/splits/$content.$task.$split.$media.jld2\"\n",
    "        df = JLD2.load(file, \"dataset\")\n",
    "        users = users ∪ Set(df.user)\n",
    "    end\n",
    "    users\n",
    "end;"
   ]
  },
  {
   "cell_type": "code",
   "execution_count": null,
   "id": "a21641ab-e1b1-410f-a27c-6c41ce96cfdd",
   "metadata": {},
   "outputs": [],
   "source": [
    "function save_negative_dataset_csv(split, task, file, samples_per_user)\n",
    "    user_item_pairs = get_user_item_pairs(split, task)\n",
    "    io = open(file, \"w\")\n",
    "    write(io, \"username,$(media)id\\n\")\n",
    "    valid_users = collect(get_users(split, task)) .- 1\n",
    "    user_idx = 1\n",
    "    M = num_items()\n",
    "\n",
    "    @showprogress for _ = 1:(samples_per_user*length(valid_users))\n",
    "        user = -1\n",
    "        item = -1\n",
    "        while (user, item) in user_item_pairs || user == -1 || item == -1\n",
    "            user = valid_users[user_idx]\n",
    "            user_idx = (user_idx % length(valid_users)) + 1\n",
    "            item = sample(0:M-1)\n",
    "        end\n",
    "        push!(user_item_pairs, (user, item))\n",
    "        write(io, \"$(user),$(item)\\n\")\n",
    "    end\n",
    "    close(io)\n",
    "end;"
   ]
  },
  {
   "cell_type": "code",
   "execution_count": null,
   "id": "5b662983-b4af-43ca-90eb-8c1220924973",
   "metadata": {},
   "outputs": [],
   "source": [
    "function get_negative_dataset(file)\n",
    "    df = DataFrame(CSV.File(file))\n",
    "    RatingsDataset(\n",
    "        df.username |> to_julia_index,\n",
    "        df[:, Symbol(\"$(media)id\")] |> to_julia_index,\n",
    "        [],\n",
    "        [],\n",
    "        [],\n",
    "        [],\n",
    "        [],\n",
    "        media,\n",
    "    )\n",
    "end;"
   ]
  },
  {
   "cell_type": "code",
   "execution_count": null,
   "id": "f3b71624-693f-4d7f-8b29-697ebbf334a1",
   "metadata": {},
   "outputs": [],
   "source": [
    "for split in [\"validation\", \"test\"]\n",
    "    if split == \"validation\"\n",
    "        samples_per_user = 100\n",
    "    elseif split == \"test\"\n",
    "        samples_per_user = 1000\n",
    "    else\n",
    "        @assert false\n",
    "    end\n",
    "    for task in ALL_TASKS\n",
    "        stem = \"../../data/splits/negative.$task.$split.$media\"\n",
    "        save_negative_dataset_csv(split, task, \"$stem.csv\", samples_per_user)\n",
    "        dataset = get_negative_dataset(\"$stem.csv\")\n",
    "        jldsave(\"$stem.jld2\"; dataset)\n",
    "    end\n",
    "end;"
   ]
  }
 ],
 "metadata": {
  "kernelspec": {
   "display_name": "Julia 1.9.0-rc2",
   "language": "julia",
   "name": "julia-1.9"
  },
  "language_info": {
   "file_extension": ".jl",
   "mimetype": "application/julia",
   "name": "julia",
   "version": "1.9.0"
  }
 },
 "nbformat": 4,
 "nbformat_minor": 5
}
