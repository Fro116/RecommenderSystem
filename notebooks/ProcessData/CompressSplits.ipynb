{
 "cells": [
  {
   "cell_type": "markdown",
   "id": "69da3265-28e9-4348-bbb7-5ff65b50652d",
   "metadata": {},
   "source": [
    "# Write the splits in a Julia optimized format"
   ]
  },
  {
   "cell_type": "code",
   "execution_count": 1,
   "id": "a88386b3-d72b-4707-8a4b-00f001b6ae34",
   "metadata": {},
   "outputs": [],
   "source": [
    "using CSV\n",
    "using DataFrames\n",
    "using JLD2\n",
    "using JupyterFormatter\n",
    "using ProgressMeter"
   ]
  },
  {
   "cell_type": "code",
   "execution_count": 2,
   "id": "c2002a3f-c898-4a78-97da-46168022672c",
   "metadata": {},
   "outputs": [],
   "source": [
    "enable_autoformat();"
   ]
  },
  {
   "cell_type": "code",
   "execution_count": 3,
   "id": "b4c9a5eb-0283-4b7e-af29-bc0d58322c2e",
   "metadata": {},
   "outputs": [],
   "source": [
    "struct RatingsDataset\n",
    "    user::Vector{Int32}\n",
    "    item::Vector{Int32}\n",
    "    rating::Vector{Float32}\n",
    "end;"
   ]
  },
  {
   "cell_type": "code",
   "execution_count": 4,
   "id": "ed8bbc4e-a7b1-4c74-ba72-c83aff97f028",
   "metadata": {},
   "outputs": [],
   "source": [
    "function get_dataset(file)\n",
    "    df = DataFrame(CSV.File(file))\n",
    "    df.user .+= 1 # julia is 1 indexed\n",
    "    df.item .+= 1\n",
    "    df.rating = float(df.rating)\n",
    "    RatingsDataset(df.user, df.item, df.rating)\n",
    "end\n",
    "\n",
    "get_split(split) = get_dataset(\"../../data/splits/$(split).csv\");"
   ]
  },
  {
   "cell_type": "markdown",
   "id": "061fc2e7-358c-4d7c-839a-455e5bc73d0b",
   "metadata": {},
   "source": [
    "## Load splits"
   ]
  },
  {
   "cell_type": "code",
   "execution_count": 5,
   "id": "43430e38-e97c-4839-aef7-88b1a8ae8f60",
   "metadata": {
    "tags": []
   },
   "outputs": [
    {
     "name": "stdout",
     "output_type": "stream",
     "text": [
      " 11.427723 seconds (23.98 M allocations: 17.379 GiB, 3.20% gc time, 46.30% compilation time)\n",
      "  1.273499 seconds (10.34 k allocations: 2.004 GiB, 20.65% gc time, 0.20% compilation time)\n",
      "  0.629603 seconds (1.52 k allocations: 2.184 GiB)\n",
      "  2.566363 seconds (1.53 k allocations: 7.480 GiB, 4.09% gc time)\n",
      "  0.276939 seconds (1.53 k allocations: 872.323 MiB)\n",
      "  0.255249 seconds (1.49 k allocations: 741.871 MiB)\n",
      "  0.987508 seconds (1.48 k allocations: 2.491 GiB)\n",
      "  1.781183 seconds (1.48 k allocations: 2.491 GiB, 18.60% gc time)\n"
     ]
    }
   ],
   "source": [
    "@time const explicit_training = get_split(\"explicit_training\");\n",
    "@time const explicit_validation = get_split(\"explicit_validation\");\n",
    "@time const explicit_test = get_split(\"explicit_test\");\n",
    "@time const implicit_training = get_split(\"implicit_training\");\n",
    "@time const implicit_validation = get_split(\"implicit_validation\");\n",
    "@time const implicit_test = get_split(\"implicit_test\");\n",
    "@time const negative_validation = get_split(\"negative_validation\");\n",
    "@time const negative_test = get_split(\"negative_test\");"
   ]
  },
  {
   "cell_type": "code",
   "execution_count": 6,
   "id": "7816e720-b639-4f0a-b927-0fd57d3774a8",
   "metadata": {},
   "outputs": [
    {
     "name": "stdout",
     "output_type": "stream",
     "text": [
      "  2.199464 seconds (1.28 M allocations: 61.063 MiB, 34.02% compilation time)\n"
     ]
    }
   ],
   "source": [
    "const file = \"../../data/splits/splits.jld2\";\n",
    "@time jldsave(\n",
    "    file;\n",
    "    explicit_training,\n",
    "    explicit_validation,\n",
    "    explicit_test,\n",
    "    implicit_training,\n",
    "    implicit_validation,\n",
    "    implicit_test,\n",
    "    negative_validation,\n",
    "    negative_test,\n",
    ");"
   ]
  }
 ],
 "metadata": {
  "kernelspec": {
   "display_name": "Julia 1.8.0-rc1",
   "language": "julia",
   "name": "julia-1.8"
  },
  "language_info": {
   "file_extension": ".jl",
   "mimetype": "application/julia",
   "name": "julia",
   "version": "1.8.0"
  }
 },
 "nbformat": 4,
 "nbformat_minor": 5
}
