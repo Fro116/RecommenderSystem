{
 "cells": [
  {
   "cell_type": "markdown",
   "id": "69da3265-28e9-4348-bbb7-5ff65b50652d",
   "metadata": {},
   "source": [
    "# Write the splits in a Julia optimized format\n",
    "* In addition, a negative split is sampled. This set consists of (user, item) pairs that the user did not watch.\n",
    "* 10% of the negative split is randomly sampled, the other 90% is weighted by item popularity"
   ]
  },
  {
   "cell_type": "code",
   "execution_count": null,
   "id": "a88386b3-d72b-4707-8a4b-00f001b6ae34",
   "metadata": {},
   "outputs": [],
   "source": [
    "using JLD2\n",
    "\n",
    "import CSV\n",
    "import DataFrames: DataFrame\n",
    "import JupyterFormatter: enable_autoformat\n",
    "import ProgressMeter: @showprogress\n",
    "import StatsBase: sample, wsample"
   ]
  },
  {
   "cell_type": "code",
   "execution_count": null,
   "id": "c2002a3f-c898-4a78-97da-46168022672c",
   "metadata": {},
   "outputs": [],
   "source": [
    "enable_autoformat();"
   ]
  },
  {
   "cell_type": "markdown",
   "id": "efcc50be-9e25-49d4-9cd8-f5050fd5edbb",
   "metadata": {},
   "source": [
    "## RatingsDataset"
   ]
  },
  {
   "cell_type": "code",
   "execution_count": null,
   "id": "b4c9a5eb-0283-4b7e-af29-bc0d58322c2e",
   "metadata": {},
   "outputs": [],
   "source": [
    "struct RatingsDataset\n",
    "    user::Vector{Int32}\n",
    "    item::Vector{Int32}\n",
    "    rating::Vector{Float32}\n",
    "    timestamp::Vector{Float32}\n",
    "    user_timestamp::Vector{Float32}\n",
    "    item_timestamp::Vector{Float32}\n",
    "    status::Vector{Int32}\n",
    "    completion::Vector{Float32}\n",
    "    rewatch::Vector{Int32}\n",
    "    source::Vector{Int32}\n",
    "    order::Vector{Int32}\n",
    "end;"
   ]
  },
  {
   "cell_type": "code",
   "execution_count": null,
   "id": "ed8bbc4e-a7b1-4c74-ba72-c83aff97f028",
   "metadata": {},
   "outputs": [],
   "source": [
    "function get_dataset(file)\n",
    "    df = DataFrame(CSV.File(file))\n",
    "    RatingsDataset(\n",
    "        df.username .+ 1, # julia is 1 indexed\n",
    "        df.animeid .+ 1, # julia is 1 indexed\n",
    "        df.score,\n",
    "        df.timestamp,\n",
    "        df.user_rel_timestamp,\n",
    "        df.item_rel_timestamp,\n",
    "        df.status,\n",
    "        df.completion,\n",
    "        df.rewatch,\n",
    "        df.source,\n",
    "        df.order,\n",
    "    )\n",
    "end;"
   ]
  },
  {
   "cell_type": "code",
   "execution_count": null,
   "id": "e7116b84-6566-4950-9d58-736ebaf5a76f",
   "metadata": {},
   "outputs": [],
   "source": [
    "function get_data_path(x)\n",
    "    \"../../data/$x\"\n",
    "end\n",
    "\n",
    "function num_users()\n",
    "    open(get_data_path(\"processed_data/uid_encoding.csv\")) do file\n",
    "        text = read(file, String)\n",
    "        lines = split(text, '\\n')\n",
    "        fields = split(lines[1], ',')\n",
    "        @assert fields[1] == \"max_userid\"\n",
    "        max_userid = parse(Int, fields[2]) + 1\n",
    "        return max_userid\n",
    "    end\n",
    "end\n",
    "\n",
    "function num_items()\n",
    "    open(get_data_path(\"processed_data/uid_encoding.csv\")) do file\n",
    "        text = read(file, String)\n",
    "        lines = split(text, '\\n')\n",
    "        fields = split(lines[2], ',')\n",
    "        @assert fields[1] == \"max_itemid\"\n",
    "        max_itemid = parse(Int, fields[2]) + 1\n",
    "        return max_itemid\n",
    "    end\n",
    "end;"
   ]
  },
  {
   "cell_type": "markdown",
   "id": "da4b32b1-b8aa-4e9f-bb4f-0b97ffd8cb02",
   "metadata": {},
   "source": [
    "## Negative Splits"
   ]
  },
  {
   "cell_type": "code",
   "execution_count": null,
   "id": "35b20d13-f3d1-4afa-8dbc-6457a24845bf",
   "metadata": {},
   "outputs": [],
   "source": [
    "function get_user_item_pairs(split_idx)\n",
    "    user_item_pairs = Set{Tuple{Int32,Int32}}()\n",
    "    splits = [\"training\", \"validation\", \"test\"]\n",
    "    contents = [\"explicit\", \"implicit\", \"ptw\"]\n",
    "    for split in splits[1:split_idx]\n",
    "        for content in contents\n",
    "            file = \"../../data/splits/$(content)_$(split).jld2\"\n",
    "            df = JLD2.load(file, \"dataset\")\n",
    "            @showprogress for k = 1:length(df.user)\n",
    "                push!(user_item_pairs, (df.user[k], df.item[k]))\n",
    "            end\n",
    "        end\n",
    "    end\n",
    "    user_item_pairs\n",
    "end;"
   ]
  },
  {
   "cell_type": "code",
   "execution_count": null,
   "id": "261a82b5-85dc-41fd-a8c8-d62a6f8edbf5",
   "metadata": {},
   "outputs": [],
   "source": [
    "function get_popularity(split_idx)\n",
    "    p = zeros(Int32, num_items())\n",
    "    splits = [\"training\", \"validation\", \"test\"]\n",
    "    contents = [\"explicit\", \"implicit\", \"ptw\"]\n",
    "    for split in splits[1:split_idx]\n",
    "        for content in contents\n",
    "            file = \"../../data/splits/$(content)_$(split).jld2\"\n",
    "            df = JLD2.load(file, \"dataset\")\n",
    "            @showprogress for k = 1:length(df.user)\n",
    "                p[df.item[k]] += 1\n",
    "            end\n",
    "        end\n",
    "    end\n",
    "    p\n",
    "end;"
   ]
  },
  {
   "cell_type": "code",
   "execution_count": null,
   "id": "a21641ab-e1b1-410f-a27c-6c41ce96cfdd",
   "metadata": {},
   "outputs": [],
   "source": [
    "function save_negative_dataset_csv(split_idx, file, samples)\n",
    "    user_item_pairs = get_user_item_pairs(split_idx)\n",
    "    p = get_popularity(split_idx)\n",
    "    max_userid = num_users()\n",
    "    io = open(file, \"w\")\n",
    "    write(io, \"username,animeid\\n\")\n",
    "    nextuser = 1\n",
    "    @showprogress for _ = 1:samples\n",
    "        user = -1\n",
    "        item = -1\n",
    "        while (user, item) in user_item_pairs || user == -1 || item == -1\n",
    "            user = nextuser\n",
    "            nextuser = (nextuser + 1) % max_userid\n",
    "            if rand() < 0.9\n",
    "                item = wsample(1:length(p), p)\n",
    "            else\n",
    "                item = sample(1:length(p))\n",
    "            end\n",
    "        end\n",
    "        user -= 1\n",
    "        item -= 1\n",
    "        push!(user_item_pairs, (user, item))\n",
    "        write(io, \"$(user),$(item)\\n\")\n",
    "    end\n",
    "    close(io)\n",
    "end;"
   ]
  },
  {
   "cell_type": "code",
   "execution_count": null,
   "id": "5b662983-b4af-43ca-90eb-8c1220924973",
   "metadata": {},
   "outputs": [],
   "source": [
    "function get_negative_dataset(file)\n",
    "    df = DataFrame(CSV.File(file))\n",
    "    RatingsDataset(\n",
    "        df.username .+ 1, # julia is 1 indexed\n",
    "        df.animeid .+ 1, # julia is 1 indexed\n",
    "        [],\n",
    "        [],\n",
    "        [],\n",
    "        [],\n",
    "        [],\n",
    "        [],\n",
    "        [],\n",
    "        [],\n",
    "        [],\n",
    "    )\n",
    "end;"
   ]
  },
  {
   "cell_type": "markdown",
   "id": "061fc2e7-358c-4d7c-839a-455e5bc73d0b",
   "metadata": {},
   "source": [
    "## Save splits"
   ]
  },
  {
   "cell_type": "code",
   "execution_count": null,
   "id": "ea6a2c9f-f775-43a6-b25d-ad327589d646",
   "metadata": {},
   "outputs": [],
   "source": [
    "for content in [\"explicit\", \"implicit\", \"ptw\"]\n",
    "    for split in [\"training\", \"validation\", \"test\"]\n",
    "        file = \"../../data/splits/$(content)_$(split).jld2\"\n",
    "        @time dataset = get_dataset(\"../../data/splits/$(content)_$(split).csv\")\n",
    "        @time jldsave(file; dataset)\n",
    "    end\n",
    "end;"
   ]
  },
  {
   "cell_type": "code",
   "execution_count": null,
   "id": "f3b71624-693f-4d7f-8b29-697ebbf334a1",
   "metadata": {},
   "outputs": [],
   "source": [
    "for split_idx = 1:3\n",
    "    splits = [\"training\", \"validation\", \"test\"]\n",
    "    stem = \"../../data/splits/negative_$(splits[split_idx])\"\n",
    "    save_negative_dataset_csv(split_idx, \"$stem.csv\", num_users() * 100)\n",
    "    dataset = get_negative_dataset(\"$stem.csv\")\n",
    "    jldsave(\"$stem.jld2\"; dataset)\n",
    "end;"
   ]
  }
 ],
 "metadata": {
  "kernelspec": {
   "display_name": "Julia 1.8.0-rc1",
   "language": "julia",
   "name": "julia-1.8"
  },
  "language_info": {
   "file_extension": ".jl",
   "mimetype": "application/julia",
   "name": "julia",
   "version": "1.8.0"
  }
 },
 "nbformat": 4,
 "nbformat_minor": 5
}
