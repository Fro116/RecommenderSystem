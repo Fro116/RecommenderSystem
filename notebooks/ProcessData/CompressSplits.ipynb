{
 "cells": [
  {
   "cell_type": "markdown",
   "id": "69da3265-28e9-4348-bbb7-5ff65b50652d",
   "metadata": {},
   "source": [
    "# Write the splits in a Julia optimized format"
   ]
  },
  {
   "cell_type": "code",
   "execution_count": 1,
   "id": "a88386b3-d72b-4707-8a4b-00f001b6ae34",
   "metadata": {},
   "outputs": [],
   "source": [
    "using CSV\n",
    "using DataFrames\n",
    "using JLD2\n",
    "using JupyterFormatter\n",
    "using ProgressMeter"
   ]
  },
  {
   "cell_type": "code",
   "execution_count": 2,
   "id": "c2002a3f-c898-4a78-97da-46168022672c",
   "metadata": {},
   "outputs": [],
   "source": [
    "enable_autoformat();"
   ]
  },
  {
   "cell_type": "code",
   "execution_count": 3,
   "id": "b4c9a5eb-0283-4b7e-af29-bc0d58322c2e",
   "metadata": {},
   "outputs": [],
   "source": [
    "struct RatingsDataset\n",
    "    user::Vector{Int32}\n",
    "    item::Vector{Int32}\n",
    "    rating::Vector{Float32}\n",
    "end;"
   ]
  },
  {
   "cell_type": "code",
   "execution_count": 4,
   "id": "ed8bbc4e-a7b1-4c74-ba72-c83aff97f028",
   "metadata": {},
   "outputs": [],
   "source": [
    "function get_dataset(file)\n",
    "    df = DataFrame(CSV.File(file))\n",
    "    df.user .+= 1 # julia is 1 indexed\n",
    "    df.item .+= 1\n",
    "    df.rating = float(df.rating)\n",
    "    RatingsDataset(df.user, df.item, df.rating)\n",
    "end\n",
    "\n",
    "get_split(split) = get_dataset(\"../../data/splits/$(split).csv\");"
   ]
  },
  {
   "cell_type": "markdown",
   "id": "061fc2e7-358c-4d7c-839a-455e5bc73d0b",
   "metadata": {},
   "source": [
    "## Load splits"
   ]
  },
  {
   "cell_type": "code",
   "execution_count": 5,
   "id": "43430e38-e97c-4839-aef7-88b1a8ae8f60",
   "metadata": {
    "tags": []
   },
   "outputs": [
    {
     "name": "stdout",
     "output_type": "stream",
     "text": [
      " 39.840059 seconds (7.51 M allocations: 10.858 GiB, 1.23% gc time, 39.78% compilation time)\n",
      "  2.071833 seconds (11.42 k allocations: 1.188 GiB, 42.58% gc time, 0.23% compilation time)\n",
      "  1.711438 seconds (837 allocations: 1.298 GiB, 22.53% gc time)\n",
      "  4.544684 seconds (834 allocations: 4.019 GiB, 15.77% gc time)\n",
      "  0.694552 seconds (833 allocations: 468.120 MiB, 32.61% gc time)\n",
      "  0.683812 seconds (835 allocations: 509.450 MiB, 34.20% gc time)\n",
      "  1.932571 seconds (834 allocations: 1.886 GiB, 6.93% gc time)\n"
     ]
    }
   ],
   "source": [
    "@time explicit_training = get_split(\"explicit_training\");\n",
    "@time explicit_validation = get_split(\"explicit_validation\");\n",
    "@time explicit_test = get_split(\"explicit_test\");\n",
    "@time implicit_training = get_split(\"implicit_training\");\n",
    "@time implicit_validation = get_split(\"implicit_validation\");\n",
    "@time implicit_test = get_split(\"implicit_test\");\n",
    "@time negative = get_split(\"negative\");"
   ]
  },
  {
   "cell_type": "code",
   "execution_count": 6,
   "id": "7816e720-b639-4f0a-b927-0fd57d3774a8",
   "metadata": {},
   "outputs": [
    {
     "name": "stdout",
     "output_type": "stream",
     "text": [
      "  5.174518 seconds (6.14 M allocations: 324.249 MiB, 1.91% gc time, 60.71% compilation time)\n"
     ]
    }
   ],
   "source": [
    "file = \"../../data/splits/splits.jld2\";\n",
    "@time jldsave(\n",
    "    file;\n",
    "    explicit_training,\n",
    "    explicit_validation,\n",
    "    explicit_test,\n",
    "    implicit_training,\n",
    "    implicit_validation,\n",
    "    implicit_test,\n",
    "    negative,\n",
    ");"
   ]
  }
 ],
 "metadata": {
  "kernelspec": {
   "display_name": "Julia 1.7.2",
   "language": "julia",
   "name": "julia-1.7"
  },
  "language_info": {
   "file_extension": ".jl",
   "mimetype": "application/julia",
   "name": "julia",
   "version": "1.7.2"
  }
 },
 "nbformat": 4,
 "nbformat_minor": 5
}
