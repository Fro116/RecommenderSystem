{
 "cells": [
  {
   "cell_type": "markdown",
   "id": "69da3265-28e9-4348-bbb7-5ff65b50652d",
   "metadata": {},
   "source": [
    "# Write the splits in a Julia optimized format"
   ]
  },
  {
   "cell_type": "code",
   "execution_count": 1,
   "id": "a88386b3-d72b-4707-8a4b-00f001b6ae34",
   "metadata": {},
   "outputs": [],
   "source": [
    "using CSV\n",
    "using DataFrames\n",
    "using JLD2\n",
    "using JupyterFormatter\n",
    "using ProgressMeter"
   ]
  },
  {
   "cell_type": "code",
   "execution_count": 2,
   "id": "c2002a3f-c898-4a78-97da-46168022672c",
   "metadata": {},
   "outputs": [],
   "source": [
    "enable_autoformat();"
   ]
  },
  {
   "cell_type": "code",
   "execution_count": 3,
   "id": "b4c9a5eb-0283-4b7e-af29-bc0d58322c2e",
   "metadata": {},
   "outputs": [],
   "source": [
    "struct RatingsDataset\n",
    "    user::Vector{Int32}\n",
    "    item::Vector{Int32}\n",
    "    rating::Vector{Float32}\n",
    "end;"
   ]
  },
  {
   "cell_type": "code",
   "execution_count": 4,
   "id": "ed8bbc4e-a7b1-4c74-ba72-c83aff97f028",
   "metadata": {},
   "outputs": [],
   "source": [
    "function get_dataset(file)\n",
    "    df = DataFrame(CSV.File(file))\n",
    "    df.username .+= 1 # julia is 1 indexed\n",
    "    df.anime_id .+= 1\n",
    "    df.my_score = float(df.my_score)\n",
    "    RatingsDataset(df.username, df.anime_id, df.my_score)\n",
    "end\n",
    "\n",
    "get_split(split) = get_dataset(\"../../data/splits/$(split).csv\");"
   ]
  },
  {
   "cell_type": "markdown",
   "id": "061fc2e7-358c-4d7c-839a-455e5bc73d0b",
   "metadata": {},
   "source": [
    "## Load splits"
   ]
  },
  {
   "cell_type": "code",
   "execution_count": 5,
   "id": "43430e38-e97c-4839-aef7-88b1a8ae8f60",
   "metadata": {
    "tags": []
   },
   "outputs": [
    {
     "name": "stdout",
     "output_type": "stream",
     "text": [
      " 21.050536 seconds (9.57 M allocations: 13.413 GiB, 3.83% gc time, 0.58% compilation time)\n",
      "  1.179054 seconds (4.82 k allocations: 685.104 MiB, 69.92% gc time)\n",
      "  0.195462 seconds (2.47 k allocations: 684.776 MiB)\n"
     ]
    }
   ],
   "source": [
    "@time training = get_split(\"training\");\n",
    "@time validation = get_split(\"validation\");\n",
    "@time test = get_split(\"test\");"
   ]
  },
  {
   "cell_type": "markdown",
   "id": "1df1031b-e0da-40a1-a95f-7949a54bd3db",
   "metadata": {},
   "source": [
    "## Load implicit splits"
   ]
  },
  {
   "cell_type": "code",
   "execution_count": 6,
   "id": "643e7b07-5e11-4304-a83b-afd40a6e216e",
   "metadata": {},
   "outputs": [
    {
     "name": "stdout",
     "output_type": "stream",
     "text": [
      "  6.642972 seconds (2.24 k allocations: 14.748 GiB, 7.73% gc time)\n"
     ]
    },
    {
     "data": {
      "text/plain": [
       "RatingsDataset(Int32[851625, 851625, 851625, 851625, 851625, 851625, 851625, 851625, 851625, 851625  …  369188, 369188, 369188, 369188, 369188, 369188, 369188, 369188, 369188, 369188], Int32[11528, 498, 805, 41, 12807, 7670, 101, 3963, 116, 6464  …  14194, 3, 6082, 774, 14254, 7169, 15584, 9017, 14423, 369], Float32[1.0, 1.0, 1.0, 1.0, 1.0, 1.0, 1.0, 1.0, 1.0, 1.0  …  1.0, 1.0, 1.0, 1.0, 1.0, 1.0, 1.0, 1.0, 1.0, 1.0])"
      ]
     },
     "execution_count": 6,
     "metadata": {},
     "output_type": "execute_result"
    }
   ],
   "source": [
    "@time implicit = get_dataset(\"../../data/processed_data/user_implicit_lists.csv\")"
   ]
  },
  {
   "cell_type": "code",
   "execution_count": 7,
   "id": "0ec8e898-7c62-4426-bb0b-b9a16ff3db2f",
   "metadata": {
    "tags": []
   },
   "outputs": [
    {
     "name": "stderr",
     "output_type": "stream",
     "text": [
      "\u001b[32mProgress: 100%|█████████████████████████████████████████| Time: 0:00:08\u001b[39m\n",
      "\u001b[32mProgress: 100%|█████████████████████████████████████████| Time: 0:00:14\u001b[39m\n"
     ]
    },
    {
     "name": "stdout",
     "output_type": "stream",
     "text": [
      " 23.285416 seconds (2.10 G allocations: 38.211 GiB, 48.46% gc time, 0.14% compilation time)\n"
     ]
    }
   ],
   "source": [
    "function generate_index(split)\n",
    "    indices = Set()\n",
    "    @showprogress for i = 1:length(split.rating)\n",
    "        push!(indices, (split.user[i], split.item[i]))\n",
    "    end\n",
    "    indices\n",
    "end\n",
    "out_of_sample_indices = union(generate_index(validation), generate_index(test));\n",
    "\n",
    "insample_mask = fill(true, length(implicit.rating))\n",
    "@time Threads.@threads for i = 1:length(implicit.rating)\n",
    "    insample_mask[i] = (implicit.user[i], implicit.item[i]) ∉ out_of_sample_indices\n",
    "end\n",
    "\n",
    "implicit_training = RatingsDataset(\n",
    "    implicit.user[insample_mask],\n",
    "    implicit.item[insample_mask],\n",
    "    implicit.rating[insample_mask],\n",
    ");"
   ]
  },
  {
   "cell_type": "code",
   "execution_count": 8,
   "id": "7816e720-b639-4f0a-b927-0fd57d3774a8",
   "metadata": {},
   "outputs": [
    {
     "name": "stdout",
     "output_type": "stream",
     "text": [
      " 65.107023 seconds (13.34 M allocations: 738.510 MiB, 3.79% gc time, 9.67% compilation time)\n"
     ]
    }
   ],
   "source": [
    "file = \"../../data/splits/splits.jld2\";\n",
    "@time jldsave(file; training, validation, test, implicit, implicit_training);"
   ]
  }
 ],
 "metadata": {
  "kernelspec": {
   "display_name": "Julia 1.6.3",
   "language": "julia",
   "name": "julia-1.6"
  },
  "language_info": {
   "file_extension": ".jl",
   "mimetype": "application/julia",
   "name": "julia",
   "version": "1.6.3"
  }
 },
 "nbformat": 4,
 "nbformat_minor": 5
}
