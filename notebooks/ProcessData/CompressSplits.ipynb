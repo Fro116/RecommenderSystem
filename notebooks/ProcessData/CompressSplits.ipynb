{
 "cells": [
  {
   "cell_type": "markdown",
   "id": "69da3265-28e9-4348-bbb7-5ff65b50652d",
   "metadata": {},
   "source": [
    "# Write the splits in a Julia optimized format\n",
    "* In addition, a negative split is sampled. This set consists of (user, item) pairs that the user did not watch."
   ]
  },
  {
   "cell_type": "code",
   "execution_count": null,
   "id": "a88386b3-d72b-4707-8a4b-00f001b6ae34",
   "metadata": {},
   "outputs": [],
   "source": [
    "using JLD2\n",
    "\n",
    "import CSV\n",
    "import DataFrames: DataFrame\n",
    "import JupyterFormatter: enable_autoformat\n",
    "import Memoize: @memoize\n",
    "import ProgressMeter: @showprogress\n",
    "import Random\n",
    "import StatsBase: wsample"
   ]
  },
  {
   "cell_type": "code",
   "execution_count": null,
   "id": "c2002a3f-c898-4a78-97da-46168022672c",
   "metadata": {},
   "outputs": [],
   "source": [
    "enable_autoformat();"
   ]
  },
  {
   "cell_type": "code",
   "execution_count": null,
   "id": "d5ff47a9-eef6-4876-ada2-43ccf5963c93",
   "metadata": {},
   "outputs": [],
   "source": [
    "Random.seed!(20231112);"
   ]
  },
  {
   "cell_type": "markdown",
   "id": "efcc50be-9e25-49d4-9cd8-f5050fd5edbb",
   "metadata": {},
   "source": [
    "# Save Splits"
   ]
  },
  {
   "cell_type": "code",
   "execution_count": null,
   "id": "4eb5270f-e8cc-4e8b-9e00-400769f3e080",
   "metadata": {},
   "outputs": [],
   "source": [
    "function split_save(file, values)\n",
    "    # save in multiple files to allow multithreaded reading\n",
    "    for (k, v) in values\n",
    "        JLD2.save(\"$file.$k.jld2\", Dict(k => v), compress = true)\n",
    "    end\n",
    "end;"
   ]
  },
  {
   "cell_type": "code",
   "execution_count": null,
   "id": "ed8bbc4e-a7b1-4c74-ba72-c83aff97f028",
   "metadata": {},
   "outputs": [],
   "source": [
    "function get_dataset(file)\n",
    "    data = Dict(\n",
    "        \"source\" => Int32[],\n",
    "        \"medium\" => Int32[],\n",
    "        \"userid\" => Int32[],\n",
    "        \"mediaid\" => Int32[],\n",
    "        \"status\" => Int32[],\n",
    "        \"rating\" => Float32[],\n",
    "        \"forward_order\" => Int32[],\n",
    "        \"backward_order\" => Int32[],\n",
    "        \"updated_at\" => Float32[],\n",
    "        \"created_at\" => Float32[],\n",
    "        \"started_at\" => Float32[],\n",
    "        \"finished_at\" => Float32[],\n",
    "        \"progress\" => Float32[],\n",
    "        \"repeat_count\" => Int32[],\n",
    "        \"priority\" => Float32[],\n",
    "        \"sentiment\" => Int32[],\n",
    "        \"sentiment_score\" => Float32[],\n",
    "        \"owned\" => Float32[],\n",
    "    )\n",
    "    type_parser =\n",
    "        (_, name) -> String(name) in keys(data) ? eltype(data[String(name)]) : Float32\n",
    "    chunks = []\n",
    "    try\n",
    "        # load large files chunks to reduce memory usage        \n",
    "        chunks = CSV.Chunks(file, types = type_parser, ntasks = 1024)\n",
    "    catch\n",
    "        # small files crash CSV.Chunks, so fallback to read all \n",
    "        chunks = [CSV.File(file, types = type_parser)]\n",
    "    end\n",
    "    @showprogress for f in chunks\n",
    "        df = DataFrame(f)\n",
    "        for k in keys(data)\n",
    "            append!(data[k], df[:, k])\n",
    "        end\n",
    "        df = nothing\n",
    "        GC.gc()\n",
    "    end\n",
    "\n",
    "    # rename columns\n",
    "    data[\"itemid\"] = data[\"mediaid\"]\n",
    "    data[\"update_order\"] = data[\"backward_order\"]\n",
    "    delete!(data, \"mediaid\")\n",
    "    delete!(data, \"forward_order\")\n",
    "    delete!(data, \"backward_order\")\n",
    "    data\n",
    "end;"
   ]
  },
  {
   "cell_type": "code",
   "execution_count": null,
   "id": "e7116b84-6566-4950-9d58-736ebaf5a76f",
   "metadata": {},
   "outputs": [],
   "source": [
    "function get_data_path(x)\n",
    "    \"../../data/$x\"\n",
    "end\n",
    "\n",
    "@memoize function num_users()\n",
    "    df = DataFrame(CSV.File(get_data_path(\"processed_data/username_to_uid.csv\")))\n",
    "    length(df.uid)\n",
    "end\n",
    "\n",
    "@memoize function num_items(medium)\n",
    "    df = DataFrame(CSV.File(get_data_path(\"processed_data/$(medium)_to_uid.csv\")))\n",
    "    length(df.uid)\n",
    "end;"
   ]
  },
  {
   "cell_type": "code",
   "execution_count": null,
   "id": "f11f427a-593c-41a7-861a-e94437f599a5",
   "metadata": {},
   "outputs": [],
   "source": [
    "ALL_MEDIUMS = [\"manga\", \"anime\"]\n",
    "ALL_SPLITS = [\"training\", \"validation\", \"test\"];"
   ]
  },
  {
   "cell_type": "code",
   "execution_count": null,
   "id": "ea6a2c9f-f775-43a6-b25d-ad327589d646",
   "metadata": {},
   "outputs": [],
   "source": [
    "for medium in ALL_MEDIUMS\n",
    "    for split in ALL_SPLITS\n",
    "        stem = get_data_path(\"splits/$split\")\n",
    "        split_save(\"$stem.$medium\", get_dataset(\"$stem.user_$(medium)_list.csv\");)\n",
    "        GC.gc()\n",
    "    end\n",
    "end;"
   ]
  },
  {
   "cell_type": "markdown",
   "id": "da4b32b1-b8aa-4e9f-bb4f-0b97ffd8cb02",
   "metadata": {},
   "source": [
    "# Save Negative Splits"
   ]
  },
  {
   "cell_type": "code",
   "execution_count": null,
   "id": "a3b1fdf4-3dc9-4bd6-890f-a2fb189ad671",
   "metadata": {},
   "outputs": [],
   "source": [
    "get_test(medium, col) = JLD2.load(\"../../data/splits/test.$medium.$col.jld2\", col);"
   ]
  },
  {
   "cell_type": "code",
   "execution_count": null,
   "id": "35b20d13-f3d1-4afa-8dbc-6457a24845bf",
   "metadata": {},
   "outputs": [],
   "source": [
    "function get_user_to_items(medium)\n",
    "    user_to_items = Dict{Int32,Set{Int32}}()\n",
    "    for split in ALL_SPLITS\n",
    "        users = get_test(medium, \"userid\")\n",
    "        items = get_test(medium, \"itemid\")\n",
    "        @showprogress for i = 1:length(users)\n",
    "            u = users[i]\n",
    "            if u ∉ keys(user_to_items)\n",
    "                user_to_items[u] = Set()\n",
    "            end\n",
    "            push!(user_to_items[u], items[i])\n",
    "        end\n",
    "    end\n",
    "    user_to_items\n",
    "end;"
   ]
  },
  {
   "cell_type": "code",
   "execution_count": null,
   "id": "a21641ab-e1b1-410f-a27c-6c41ce96cfdd",
   "metadata": {},
   "outputs": [],
   "source": [
    "function save_negative_dataset_csv(medium, samples_per_user)\n",
    "    user_to_items = get_user_to_items(medium)\n",
    "    valid_users = collect(Set(get_test(medium, \"userid\")))\n",
    "    negative_users = Int32[]\n",
    "    negative_items = Int32[]\n",
    "    stem = \"../../data/splits/negative.$medium\"\n",
    "    io = open(\"$stem.csv\", \"w\")\n",
    "    write(io, \"username,itemid\\n\")\n",
    "    @showprogress for user in valid_users\n",
    "        weights = ones(num_items(medium))\n",
    "        for i in user_to_items[user]\n",
    "            weights[i+1] = 0\n",
    "        end\n",
    "        num_samples = min(samples_per_user, Int(sum(weights)))\n",
    "        for item in wsample(0:num_items(medium)-1, weights, num_samples; replace = false)\n",
    "            push!(negative_users, user)\n",
    "            push!(negative_items, item)\n",
    "            write(io, \"$(user),$(item)\\n\")\n",
    "        end\n",
    "    end\n",
    "    split_save(\"$stem\", Dict(\"userid\" => negative_users, \"itemid\" => negative_items))\n",
    "end;"
   ]
  },
  {
   "cell_type": "code",
   "execution_count": null,
   "id": "f3b71624-693f-4d7f-8b29-697ebbf334a1",
   "metadata": {},
   "outputs": [],
   "source": [
    "for medium in ALL_MEDIUMS\n",
    "    save_negative_dataset_csv(medium, 10000)\n",
    "end;"
   ]
  }
 ],
 "metadata": {
  "kernelspec": {
   "display_name": "Julia 1.9.4",
   "language": "julia",
   "name": "julia-1.9"
  },
  "language_info": {
   "file_extension": ".jl",
   "mimetype": "application/julia",
   "name": "julia",
   "version": "1.9.4"
  }
 },
 "nbformat": 4,
 "nbformat_minor": 5
}
