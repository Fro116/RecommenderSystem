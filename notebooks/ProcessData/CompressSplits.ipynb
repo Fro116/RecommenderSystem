{
 "cells": [
  {
   "cell_type": "markdown",
   "id": "69da3265-28e9-4348-bbb7-5ff65b50652d",
   "metadata": {},
   "source": [
    "# Write the splits in a Julia optimized format\n",
    "* In addition, a negative split is sampled. This set consists of (user, item) pairs that the user did not watch."
   ]
  },
  {
   "cell_type": "code",
   "execution_count": null,
   "id": "a88386b3-d72b-4707-8a4b-00f001b6ae34",
   "metadata": {},
   "outputs": [],
   "source": [
    "using JLD2\n",
    "\n",
    "import CSV\n",
    "import DataFrames: DataFrame\n",
    "import JupyterFormatter: enable_autoformat\n",
    "import Memoize: @memoize\n",
    "import ProgressMeter: @showprogress\n",
    "import Random\n",
    "import StatsBase: wsample"
   ]
  },
  {
   "cell_type": "code",
   "execution_count": null,
   "id": "c2002a3f-c898-4a78-97da-46168022672c",
   "metadata": {},
   "outputs": [],
   "source": [
    "enable_autoformat();"
   ]
  },
  {
   "cell_type": "code",
   "execution_count": null,
   "id": "d5ff47a9-eef6-4876-ada2-43ccf5963c93",
   "metadata": {},
   "outputs": [],
   "source": [
    "Random.seed!(20231112);"
   ]
  },
  {
   "cell_type": "markdown",
   "id": "efcc50be-9e25-49d4-9cd8-f5050fd5edbb",
   "metadata": {},
   "source": [
    "# Save Splits"
   ]
  },
  {
   "cell_type": "code",
   "execution_count": 1,
   "id": "b4c9a5eb-0283-4b7e-af29-bc0d58322c2e",
   "metadata": {
    "execution": {
     "iopub.execute_input": "2023-11-12T13:10:24.979",
     "iopub.status.busy": "2023-11-12T13:10:24.725",
     "iopub.status.idle": "2023-11-12T13:10:25.134",
     "shell.execute_reply": "2023-11-12T13:10:25.091"
    }
   },
   "outputs": [],
   "source": [
    "@kwdef struct RatingsDataset\n",
    "    source::Vector{Int32}\n",
    "    medium::Vector{Int32}\n",
    "    userid::Vector{Int32}\n",
    "    mediaid::Vector{Int32}\n",
    "    status::Vector{Int32}\n",
    "    rating::Vector{Float32}\n",
    "    update_order::Vector{Int32}    \n",
    "    updated_at::Vector{Float32}\n",
    "    created_at::Vector{Float32}\n",
    "    started_at::Vector{Float32}\n",
    "    finished_at::Vector{Float32}    \n",
    "    progress::Vector{Float32}\n",
    "    repeat_count::Vector{Int32}\n",
    "    priority::Vector{Int32}\n",
    "    sentiment::Vector{Int32}\n",
    "    sentiment_score::Vector{Float32}\n",
    "    owned::Vector{Float32}\n",
    "end;"
   ]
  },
  {
   "cell_type": "code",
   "execution_count": null,
   "id": "3bdac659-6076-48e8-8598-2e9a25f44cea",
   "metadata": {},
   "outputs": [],
   "source": [
    "to_julia_index(x) = x .+ 1; # julia is 1 indexed"
   ]
  },
  {
   "cell_type": "code",
   "execution_count": null,
   "id": "ed8bbc4e-a7b1-4c74-ba72-c83aff97f028",
   "metadata": {},
   "outputs": [],
   "source": [
    "function get_dataset(file)\n",
    "    uidcol = Symbol(\"$(media)id\")\n",
    "    intcols = Set([:source, :medium, :userid, :mediaid, :status, :update_order, :repeat_count, :priority, :sentiment])\n",
    "    df = DataFrame(CSV.File(file, types = (_, name) -> name in intcols ? Int32 : Float32))\n",
    "    RatingsDataset(\n",
    "        source = df.source,\n",
    "        medium = df.medium,\n",
    "        userid = df.userid |> to_julia_index,\n",
    "        mediaid= df.mediaid |> to_julia_index,\n",
    "        status= df.status,\n",
    "        rating = df.rating,\n",
    "        update_order = df.update_order,\n",
    "        updated_at = df.updated_at,\n",
    "        created_at = df.created_at,\n",
    "        started_at = df.started_at,\n",
    "        finished_at = df.finished_at,\n",
    "        progress= df.progress,\n",
    "        repeat_count= df.repeat_count,\n",
    "        priority= df.priority,\n",
    "        sentiment= df.sentiment,\n",
    "        sentiment_score= df.sentiment_score,\n",
    "        owned= df.owned,\n",
    "    )\n",
    "end;"
   ]
  },
  {
   "cell_type": "code",
   "execution_count": null,
   "id": "e7116b84-6566-4950-9d58-736ebaf5a76f",
   "metadata": {},
   "outputs": [],
   "source": [
    "function get_data_path(x)\n",
    "    \"../../data/$x\"\n",
    "end\n",
    "\n",
    "@memoize\n",
    "function num_users()\n",
    "    df = DataFrame(CSV.File(get_data_path(\"processed_data/username_to_uid.csv\")))\n",
    "    length(df.uid)\n",
    "end\n",
    "\n",
    "@memoize\n",
    "function num_items(medium)\n",
    "    df = DataFrame(CSV.File(get_data_path(\"processed_data/$(medium)_to_uid.csv\")))\n",
    "    length(df.uid)\n",
    "end;"
   ]
  },
  {
   "cell_type": "code",
   "execution_count": null,
   "id": "f11f427a-593c-41a7-861a-e94437f599a5",
   "metadata": {},
   "outputs": [],
   "source": [
    "ALL_MEDIUMS = [\"manga\", \"anime\"]\n",
    "ALL_SPLITS = [\"training\", \"validation\", \"test\"]"
   ]
  },
  {
   "cell_type": "code",
   "execution_count": null,
   "id": "ea6a2c9f-f775-43a6-b25d-ad327589d646",
   "metadata": {},
   "outputs": [],
   "source": [
    "for medium in ALL_MEDIUMS\n",
    "    for split in ALL_SPLITS\n",
    "        stem = get_data_path(\"splits/$split\")\n",
    "        @time dataset = get_dataset(\"$stem.user_$(media)_list.csv\")\n",
    "        jldsave(\"$stem.$media.jld2\"; dataset)\n",
    "    end\n",
    "end"
   ]
  },
  {
   "cell_type": "markdown",
   "id": "da4b32b1-b8aa-4e9f-bb4f-0b97ffd8cb02",
   "metadata": {},
   "source": [
    "# Save Negative Splits"
   ]
  },
  {
   "cell_type": "code",
   "execution_count": null,
   "id": "35b20d13-f3d1-4afa-8dbc-6457a24845bf",
   "metadata": {},
   "outputs": [],
   "source": [
    "function get_items_per_user(medium)\n",
    "    items_per_user = Dict{Int32, Set{Int32}}()\n",
    "    for split in ALL_SPLITS\n",
    "        file = get_data_path(\"splits/$split.$medium.jld2\")\n",
    "        df = JLD2.load(file, \"dataset\")\n",
    "        @showprogress for i = 1:length(df.user)\n",
    "            u = df.user[i]\n",
    "            if u ∉ user_item_pairs\n",
    "                user_item_pairs[u] = []\n",
    "            end\n",
    "            push!(items_per_user[u], df.item[k])\n",
    "        end\n",
    "    end\n",
    "    items_per_user\n",
    "end;"
   ]
  },
  {
   "cell_type": "code",
   "execution_count": null,
   "id": "77cc20c3-1321-4687-b7c7-d5177b63bece",
   "metadata": {},
   "outputs": [],
   "source": [
    "function get_nontrivial_users(medium)\n",
    "    file = \"../../data/splits/test.$medium.jld2\"\n",
    "    df = JLD2.load(file, \"dataset\")\n",
    "    Set(df.user)\n",
    "end;"
   ]
  },
  {
   "cell_type": "code",
   "execution_count": null,
   "id": "a21641ab-e1b1-410f-a27c-6c41ce96cfdd",
   "metadata": {},
   "outputs": [],
   "source": [
    "function save_negative_dataset_csv(file, medium, samples_per_user)\n",
    "    items_per_user = get_items_per_user(medium)\n",
    "    io = open(file, \"w\")\n",
    "    write(io, \"medium,username,mediaid\\n\")\n",
    "    valid_users = collect(get_nontrivial_users(medium))\n",
    "    @showprogress for user in valid_users        \n",
    "        # TODO test mixed negative sampling\n",
    "        # uniform sampling\n",
    "        weights = zeros(1/num_items(media), num_items(media))\n",
    "        for i in items_per_user[user]\n",
    "            weights[i] = 0\n",
    "        end\n",
    "        \n",
    "        num_samples = min(samples_per_user, length(valid_items))\n",
    "        for item in wsample(1:num_items(media), weights, num_samples; replace=false)\n",
    "            write(io, \"$medium,$(user-1),$(item-1)\\n\")\n",
    "        end\n",
    "    end\n",
    "    close(io)\n",
    "end;"
   ]
  },
  {
   "cell_type": "code",
   "execution_count": null,
   "id": "5b662983-b4af-43ca-90eb-8c1220924973",
   "metadata": {},
   "outputs": [],
   "source": [
    "function get_negative_dataset(file)\n",
    "    df = DataFrame(CSV.File(file))\n",
    "    RatingsDataset(\n",
    "        source = [],\n",
    "        medium = df.medium,\n",
    "        userid = df.userid |> to_julia_index,\n",
    "        mediaid= df.mediaid |> to_julia_index,\n",
    "        status= [],\n",
    "        rating = [],\n",
    "        update_order = [],\n",
    "        updated_at = [],\n",
    "        created_at = [],\n",
    "        started_at = [],\n",
    "        finished_at = [],\n",
    "        progress= [],\n",
    "        repeat_count= [],\n",
    "        priority= [],\n",
    "        sentiment= [],\n",
    "        sentiment_score= [],\n",
    "        owned= [],\n",
    "    )    \n",
    "end;"
   ]
  },
  {
   "cell_type": "code",
   "execution_count": null,
   "id": "f3b71624-693f-4d7f-8b29-697ebbf334a1",
   "metadata": {},
   "outputs": [],
   "source": [
    "for split in [\"test\"]\n",
    "    for task in ALL_TASKS\n",
    "        stem = get_data_path(\"splits/negative.$media\")\n",
    "        save_negative_dataset_csv(\"$stem.csv\", 1000)\n",
    "        dataset = get_negative_dataset(\"$stem.csv\")\n",
    "        jldsave(\"$stem.jld2\"; dataset)\n",
    "    end\n",
    "end;"
   ]
  }
 ],
 "metadata": {
  "kernelspec": {
   "display_name": "Julia 1.9.2",
   "language": "julia",
   "name": "julia-1.9"
  },
  "language_info": {
   "file_extension": ".jl",
   "mimetype": "application/julia",
   "name": "julia",
   "version": "1.9.2"
  }
 },
 "nbformat": 4,
 "nbformat_minor": 5
}
