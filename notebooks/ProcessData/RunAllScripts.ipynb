{
 "cells": [
  {
   "cell_type": "markdown",
   "id": "feb73aba-b21c-45c0-b37f-7750ed9be6be",
   "metadata": {},
   "source": [
    "# Process Data\n",
    "* Varous data cleaning tasks"
   ]
  },
  {
   "cell_type": "code",
   "execution_count": null,
   "id": "7df9b9d0-f4e3-4db9-b67d-799c100e8ab9",
   "metadata": {},
   "outputs": [],
   "source": [
    "import os\n",
    "\n",
    "import papermill as pm"
   ]
  },
  {
   "cell_type": "code",
   "execution_count": null,
   "id": "0162aac0-a1a6-4a99-8378-49bdbeb4f158",
   "metadata": {},
   "outputs": [],
   "source": [
    "data_path = \"../../data/papermill/process_data\"\n",
    "if not os.path.exists(data_path):\n",
    "    os.makedirs(data_path, exist_ok=True)"
   ]
  },
  {
   "cell_type": "code",
   "execution_count": null,
   "id": "58e8d146-da94-4334-8b78-80453cee9e31",
   "metadata": {},
   "outputs": [],
   "source": [
    "def run_notebook(script, name=None, parameters=None):\n",
    "    if name is None:\n",
    "        name = script\n",
    "    parameters = parameters if parameters is not None else dict()\n",
    "    pm.execute_notebook(\n",
    "        script,\n",
    "        os.path.join(data_path, name),\n",
    "        parameters=parameters,\n",
    "    )"
   ]
  },
  {
   "cell_type": "code",
   "execution_count": null,
   "id": "49b44003-7ce1-4e62-8016-36b1ec050175",
   "metadata": {},
   "outputs": [],
   "source": [
    "def run_notebooks(script):\n",
    "    for media in [\"manga\", \"anime\"]:\n",
    "        run_notebook(\n",
    "            f\"{script}.ipynb\", f\"{script}{media.capitalize()}.ipynb\", {\"media\": media}\n",
    "        )"
   ]
  },
  {
   "cell_type": "code",
   "execution_count": null,
   "id": "7a54f872-21b7-49c9-bbcb-6e456e14e68a",
   "metadata": {},
   "outputs": [],
   "source": [
    "run_notebooks(\"ProcessMedia\")"
   ]
  },
  {
   "cell_type": "code",
   "execution_count": null,
   "id": "68ad5fc7-49dd-4021-a0a5-dda5dd208a39",
   "metadata": {},
   "outputs": [],
   "source": [
    "run_notebooks(\"ProcessMediaLists\")"
   ]
  },
  {
   "cell_type": "code",
   "execution_count": null,
   "id": "2426dd68-af1c-40b7-af09-ec4ee09dfcad",
   "metadata": {
    "tags": []
   },
   "outputs": [],
   "source": [
    "run_notebook(\"PruneMediaLists.ipynb\")"
   ]
  },
  {
   "cell_type": "code",
   "execution_count": null,
   "id": "77a603be-c28e-4d8f-a749-104c99bc1ad4",
   "metadata": {},
   "outputs": [],
   "source": [
    "run_notebook(\"RelabelIds.ipynb\")"
   ]
  },
  {
   "cell_type": "code",
   "execution_count": null,
   "id": "a0fbfaee-1011-4c8e-a7ea-f70b15482e94",
   "metadata": {},
   "outputs": [],
   "source": [
    "run_notebooks(\"RelatedMediaGraph\")"
   ]
  },
  {
   "cell_type": "code",
   "execution_count": null,
   "id": "2456ce2e-5295-4f38-85a0-6f339ef9f67c",
   "metadata": {},
   "outputs": [],
   "source": [
    "run_notebooks(\"RelatedCrossMediaGraph\")"
   ]
  },
  {
   "cell_type": "code",
   "execution_count": null,
   "id": "702a9827-570c-4a9f-acac-b24826c70a76",
   "metadata": {
    "tags": []
   },
   "outputs": [],
   "source": [
    "run_notebooks(\"GenerateSplits\")"
   ]
  },
  {
   "cell_type": "code",
   "execution_count": null,
   "id": "38ea3d19-d5e4-4ed3-92bf-a6dcddbdaa7e",
   "metadata": {},
   "outputs": [],
   "source": [
    "run_notebooks(\"CompressSplits\")"
   ]
  },
  {
   "cell_type": "code",
   "execution_count": null,
   "id": "f7cd304b-1d38-442c-86c8-fd54301afe05",
   "metadata": {},
   "outputs": [],
   "source": [
    "print(\"Success!\")"
   ]
  }
 ],
 "metadata": {
  "kernelspec": {
   "display_name": "Python 3 (ipykernel)",
   "language": "python",
   "name": "python3"
  },
  "language_info": {
   "codemirror_mode": {
    "name": "ipython",
    "version": 3
   },
   "file_extension": ".py",
   "mimetype": "text/x-python",
   "name": "python",
   "nbconvert_exporter": "python",
   "pygments_lexer": "ipython3",
   "version": "3.10.6"
  }
 },
 "nbformat": 4,
 "nbformat_minor": 5
}
