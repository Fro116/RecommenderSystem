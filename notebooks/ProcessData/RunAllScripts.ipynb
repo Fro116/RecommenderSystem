{
 "cells": [
  {
   "cell_type": "markdown",
   "id": "feb73aba-b21c-45c0-b37f-7750ed9be6be",
   "metadata": {},
   "source": [
    "# Process Data\n",
    "* Varous data cleaning tasks"
   ]
  },
  {
   "cell_type": "code",
   "execution_count": null,
   "id": "7df9b9d0-f4e3-4db9-b67d-799c100e8ab9",
   "metadata": {},
   "outputs": [],
   "source": [
    "import datetime\n",
    "import glob\n",
    "import os\n",
    "import shutil\n",
    "import subprocess\n",
    "import time\n",
    "\n",
    "import numpy as np\n",
    "import papermill as pm"
   ]
  },
  {
   "cell_type": "code",
   "execution_count": null,
   "id": "0162aac0-a1a6-4a99-8378-49bdbeb4f158",
   "metadata": {},
   "outputs": [],
   "source": [
    "data_path = \"../../data/papermill/process_data\"\n",
    "if not os.path.exists(data_path):\n",
    "    os.makedirs(data_path, exist_ok=True)"
   ]
  },
  {
   "cell_type": "markdown",
   "id": "85cfa5ad-d1af-4ff1-9aea-44917973080a",
   "metadata": {},
   "source": [
    "# Helpers for spawning notebooks"
   ]
  },
  {
   "cell_type": "code",
   "execution_count": null,
   "id": "d76ee02b-95cf-4f07-923e-6f047d65a9f8",
   "metadata": {},
   "outputs": [],
   "source": [
    "def run_background_notebook(input, output, parameters):\n",
    "    cmdlist = [\n",
    "        \"papermill\",\n",
    "        input,\n",
    "        output,\n",
    "    ]\n",
    "    for k, v in parameters.items():\n",
    "        cmdlist += [\"-p\", k, str(v)]\n",
    "    return subprocess.Popen(\n",
    "        cmdlist, stdout=subprocess.DEVNULL, stderr=subprocess.DEVNULL\n",
    "    )"
   ]
  },
  {
   "cell_type": "code",
   "execution_count": null,
   "id": "fa432577-7dad-4fd1-8f93-dbb96371299e",
   "metadata": {},
   "outputs": [],
   "source": [
    "def run_notebook(input, output=None, parameters=None, background=False):\n",
    "    if output is None:\n",
    "        output = input\n",
    "    input = f\"{input}.ipynb\"\n",
    "    output = os.path.join(data_path, f\"{output}.ipynb\")\n",
    "    parameters = parameters if parameters is not None else dict()\n",
    "    if background:\n",
    "        return run_background_notebook(input, output, parameters)\n",
    "    else:\n",
    "        return pm.execute_notebook(input, output, parameters=parameters)"
   ]
  },
  {
   "cell_type": "code",
   "execution_count": null,
   "id": "49b44003-7ce1-4e62-8016-36b1ec050175",
   "metadata": {},
   "outputs": [],
   "source": [
    "def run_notebooks(script):\n",
    "    for media in [\"manga\", \"anime\"]:\n",
    "        run_notebook(script, f\"{script}{media.capitalize()}\", {\"media\": media})"
   ]
  },
  {
   "cell_type": "code",
   "execution_count": null,
   "id": "5b575e7d-f318-4734-a17f-55f43f61eb51",
   "metadata": {},
   "outputs": [],
   "source": [
    "def run_parts(script, parts, params=None):\n",
    "    start_time = time.time()\n",
    "    print(f\"spawning {len(parts)} processes\")\n",
    "    procs = []\n",
    "    for part in parts:\n",
    "        p = {\"part\": part}\n",
    "        if params is not None:\n",
    "            p |= params\n",
    "        procs.append(\n",
    "            run_notebook(\n",
    "                script,\n",
    "                output=f\"{script}.{'.'.join(str(x) for x in p.values())}\",\n",
    "                parameters=p,\n",
    "                background=True,\n",
    "            )\n",
    "        )\n",
    "        time.sleep(1)\n",
    "    for p in procs:\n",
    "        p.wait()\n",
    "        if p.returncode != 0:\n",
    "            raise subprocess.CalledProcessError(p.returncode, p.args)\n",
    "    print(f\"processes finished in {int(round(time.time() - start_time))} seconds\")"
   ]
  },
  {
   "cell_type": "markdown",
   "id": "ff34ffef-a0b9-48e8-a13f-59d9e49f9396",
   "metadata": {},
   "source": [
    "# Run notebooks"
   ]
  },
  {
   "cell_type": "code",
   "execution_count": null,
   "id": "2c546d6c-8420-4bb5-91a8-a7935db117c6",
   "metadata": {},
   "outputs": [],
   "source": [
    "num_parts = 16"
   ]
  },
  {
   "cell_type": "code",
   "execution_count": null,
   "id": "7a54f872-21b7-49c9-bbcb-6e456e14e68a",
   "metadata": {
    "editable": true,
    "slideshow": {
     "slide_type": ""
    },
    "tags": []
   },
   "outputs": [],
   "source": [
    "run_notebooks(\"ProcessMedia\")"
   ]
  },
  {
   "cell_type": "code",
   "execution_count": null,
   "id": "2426dd68-af1c-40b7-af09-ec4ee09dfcad",
   "metadata": {
    "editable": true,
    "slideshow": {
     "slide_type": ""
    },
    "tags": []
   },
   "outputs": [],
   "source": [
    "for x in np.array_split(range(num_parts), 4):\n",
    "    run_parts(\"PruneMediaLists\", x)"
   ]
  },
  {
   "cell_type": "code",
   "execution_count": null,
   "id": "d71e8263-5a94-41a3-a085-41ab5d77eef0",
   "metadata": {},
   "outputs": [],
   "source": [
    "run_notebook(\"MapUids\");"
   ]
  },
  {
   "cell_type": "code",
   "execution_count": null,
   "id": "68ad5fc7-49dd-4021-a0a5-dda5dd208a39",
   "metadata": {
    "editable": true,
    "slideshow": {
     "slide_type": ""
    },
    "tags": []
   },
   "outputs": [],
   "source": [
    "run_parts(\"ProcessMediaLists\", range(num_parts))"
   ]
  },
  {
   "cell_type": "code",
   "execution_count": null,
   "id": "07d047c7-9648-4227-8ccb-a267acde91b8",
   "metadata": {},
   "outputs": [],
   "source": [
    "for media in [\"manga\", \"anime\"]:\n",
    "    for target_media in [\"manga\", \"anime\"]:\n",
    "        run_notebook(\n",
    "            \"RelatedMedia\",\n",
    "            (\n",
    "                \"RelatedMedia\"\n",
    "                + f\"{media.capitalize()}{target_media.capitalize()}\"\n",
    "                + \".ipynb\"\n",
    "            ),\n",
    "            {\"media\": media, \"target_media\": target_media},\n",
    "        )"
   ]
  },
  {
   "cell_type": "code",
   "execution_count": null,
   "id": "862be2d2-d178-4d88-baee-0b678f88f333",
   "metadata": {},
   "outputs": [],
   "source": [
    "run_parts(\"KnowledgeCutoff\", range(num_parts))"
   ]
  },
  {
   "cell_type": "code",
   "execution_count": null,
   "id": "702a9827-570c-4a9f-acac-b24826c70a76",
   "metadata": {
    "editable": true,
    "slideshow": {
     "slide_type": ""
    },
    "tags": []
   },
   "outputs": [],
   "source": [
    "for media in [\"anime\", \"manga\"]:\n",
    "    for chunk in np.array_split(list(range(num_parts)), 4):\n",
    "        run_parts(\"GenerateSplits\", chunk, {\"media\": media})"
   ]
  },
  {
   "cell_type": "code",
   "execution_count": null,
   "id": "38ea3d19-d5e4-4ed3-92bf-a6dcddbdaa7e",
   "metadata": {
    "scrolled": true
   },
   "outputs": [],
   "source": [
    "run_notebook(\"CompressSplits\")"
   ]
  },
  {
   "cell_type": "code",
   "execution_count": null,
   "id": "ec1820cf-9e9a-4ae7-80f0-109ed9b33280",
   "metadata": {},
   "outputs": [],
   "source": [
    "# reclaim disk space\n",
    "shutil.rmtree(\"../../data/raw_data\")\n",
    "for f in glob.glob(\"../../data/splits/*.h5\"):\n",
    "    os.remove(f)\n",
    "for f in glob.glob(\"../../data/processed_data/*prune*.csv\"):\n",
    "    os.remove(f)\n",
    "for f in glob.glob(\"../../data/processed_data/user_*_list.*.csv\"):\n",
    "    os.remove(f)"
   ]
  },
  {
   "cell_type": "code",
   "execution_count": null,
   "id": "f7cd304b-1d38-442c-86c8-fd54301afe05",
   "metadata": {
    "tags": []
   },
   "outputs": [],
   "source": [
    "print(\"Success!\")"
   ]
  }
 ],
 "metadata": {
  "kernelspec": {
   "display_name": "Python 3 (ipykernel)",
   "language": "python",
   "name": "python3"
  },
  "language_info": {
   "codemirror_mode": {
    "name": "ipython",
    "version": 3
   },
   "file_extension": ".py",
   "mimetype": "text/x-python",
   "name": "python",
   "nbconvert_exporter": "python",
   "pygments_lexer": "ipython3",
   "version": "3.10.12"
  }
 },
 "nbformat": 4,
 "nbformat_minor": 5
}
