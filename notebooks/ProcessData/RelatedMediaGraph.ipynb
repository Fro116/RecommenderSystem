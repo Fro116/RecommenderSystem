{
 "cells": [
  {
   "cell_type": "markdown",
   "metadata": {},
   "source": [
    "# Related Media Graph\n",
    "* We make an graph of items, where each item is a vertex\n",
    "* Two vertices are connected if one item is a related to the other, where valid relations include sequels, prequels, etc.\n",
    "* We then store the adjacency list"
   ]
  },
  {
   "cell_type": "code",
   "execution_count": null,
   "metadata": {},
   "outputs": [],
   "source": [
    "import os\n",
    "\n",
    "import pandas as pd\n",
    "from tqdm import tqdm"
   ]
  },
  {
   "cell_type": "code",
   "execution_count": null,
   "metadata": {},
   "outputs": [],
   "source": [
    "os.chdir(\"../../data/processed_data\")"
   ]
  },
  {
   "cell_type": "code",
   "execution_count": null,
   "metadata": {
    "tags": [
     "parameters"
    ]
   },
   "outputs": [],
   "source": [
    "media = \"\""
   ]
  },
  {
   "cell_type": "code",
   "execution_count": null,
   "metadata": {},
   "outputs": [],
   "source": [
    "medium = pd.read_csv(f\"{media}.csv\")"
   ]
  },
  {
   "cell_type": "code",
   "execution_count": null,
   "metadata": {},
   "outputs": [],
   "source": [
    "def get_related_series(data, media_id):\n",
    "    df = pd.DataFrame({\"source\": [], \"target\": [], \"relationship\": []}, dtype=int)\n",
    "    related = eval(data)\n",
    "    if not related:\n",
    "        return df\n",
    "\n",
    "    related_series = set()\n",
    "    for entry in related:\n",
    "        df = pd.concat(\n",
    "            [\n",
    "                df,\n",
    "                pd.DataFrame.from_records(\n",
    "                    [\n",
    "                        {\n",
    "                            \"source\": media_id,\n",
    "                            \"target\": entry[f\"{media}_id\"],\n",
    "                            \"relationship\": entry[\"relation\"],\n",
    "                        }\n",
    "                    ]\n",
    "                ),\n",
    "            ],\n",
    "            ignore_index=True,\n",
    "        )\n",
    "    return df"
   ]
  },
  {
   "cell_type": "code",
   "execution_count": null,
   "metadata": {},
   "outputs": [],
   "source": [
    "all_related_series = []\n",
    "for i in tqdm(range(len(medium))):\n",
    "    media_id = medium.iloc[i][f\"{media}_id\"]\n",
    "    related_series = get_related_series(medium.iloc[i][f\"related_{media}\"], media_id)\n",
    "    all_related_series.append(related_series)\n",
    "related_series_df = pd.concat(all_related_series, ignore_index=True)\n",
    "related_series_df[[\"source\", \"target\"]] = related_series_df[\n",
    "    [\"source\", \"target\"]\n",
    "].astype(int)"
   ]
  },
  {
   "cell_type": "code",
   "execution_count": null,
   "metadata": {},
   "outputs": [],
   "source": [
    "media_to_uid = pd.read_csv(f\"{media}_to_uid.csv\")\n",
    "media_to_uid = media_to_uid.set_index(f\"{media}id\").to_dict()[\"uid\"]\n",
    "related_series_df = related_series_df.loc[\n",
    "    lambda x: x.source.isin(list(media_to_uid)) & x.target.isin(list(media_to_uid))\n",
    "]\n",
    "related_series_df[\"source\"].replace(media_to_uid, inplace=True)\n",
    "related_series_df[\"target\"].replace(media_to_uid, inplace=True)"
   ]
  },
  {
   "cell_type": "code",
   "execution_count": null,
   "metadata": {},
   "outputs": [],
   "source": [
    "related_series_df.to_csv(f\"{media}_{media}_related_series.csv\", index=False)"
   ]
  }
 ],
 "metadata": {
  "kernelspec": {
   "display_name": "Python 3 (ipykernel)",
   "language": "python",
   "name": "python3"
  },
  "language_info": {
   "codemirror_mode": {
    "name": "ipython",
    "version": 3
   },
   "file_extension": ".py",
   "mimetype": "text/x-python",
   "name": "python",
   "nbconvert_exporter": "python",
   "pygments_lexer": "ipython3",
   "version": "3.10.6"
  }
 },
 "nbformat": 4,
 "nbformat_minor": 4
}
