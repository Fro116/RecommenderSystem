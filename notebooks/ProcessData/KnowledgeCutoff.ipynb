{
 "cells": [
  {
   "cell_type": "markdown",
   "id": "dbf03b87-063f-46fe-b392-0d6399dca361",
   "metadata": {},
   "source": [
    "# Knowledge Cutoff\n",
    "* Drop interactions before a certain date\n",
    "* Used to collect out-of-sample metrics"
   ]
  },
  {
   "cell_type": "code",
   "execution_count": null,
   "id": "54b1ceb4-d65a-410a-b876-93c491c0cd4c",
   "metadata": {
    "tags": []
   },
   "outputs": [],
   "source": [
    "import os\n",
    "\n",
    "import numpy as np\n",
    "import pandas as pd\n",
    "import yaml\n",
    "from tqdm import tqdm"
   ]
  },
  {
   "cell_type": "code",
   "execution_count": null,
   "id": "992a0836-bb2b-4956-b075-49dbf38aa079",
   "metadata": {},
   "outputs": [],
   "source": [
    "outdir = \"../../data/processed_data\""
   ]
  },
  {
   "cell_type": "code",
   "execution_count": null,
   "id": "459081c4-477a-4bf2-8bfa-523dab208176",
   "metadata": {},
   "outputs": [],
   "source": [
    "HEADER_FIELDS = []"
   ]
  },
  {
   "cell_type": "code",
   "execution_count": null,
   "id": "182b7834-fb24-4a06-b657-cf8b674489ab",
   "metadata": {
    "tags": []
   },
   "outputs": [],
   "source": [
    "def get_settings():\n",
    "    with open(\"../../environment/settings.yml\", \"r\") as f:\n",
    "        return yaml.safe_load(f)"
   ]
  },
  {
   "cell_type": "code",
   "execution_count": null,
   "id": "75d7b2a4-a4d0-4c46-b49f-61cf1faa0dc9",
   "metadata": {
    "tags": []
   },
   "outputs": [],
   "source": [
    "cutoff_days = get_settings()[\"ProcessData\"][\"KnowledgeCutoff\"][\"cutoff_days\"]"
   ]
  },
  {
   "cell_type": "code",
   "execution_count": null,
   "id": "ab5743e2-a050-4dc1-89e4-bb17ff0552ab",
   "metadata": {},
   "outputs": [],
   "source": [
    "def get_knowledge_cutoff(days):\n",
    "    def parse_line(file, field, format=int):\n",
    "        line = file.readline()\n",
    "        fields = line.strip().split(\",\")\n",
    "        assert len(fields) == 2\n",
    "        assert fields[0] == field\n",
    "        return format(fields[1])\n",
    "\n",
    "    with open(os.path.join(outdir, \"timestamps.csv\")) as f:\n",
    "        min_timestamp = parse_line(f, \"min_timestamp\")\n",
    "        max_timestamp = parse_line(f, \"max_timestamp\")\n",
    "\n",
    "    seconds_in_day = 24 * 60 * 60\n",
    "    return 1.0 - days * seconds_in_day / (max_timestamp - min_timestamp)"
   ]
  },
  {
   "cell_type": "code",
   "execution_count": null,
   "id": "3a4bd675-00c1-45e0-9f19-fbca55412dd9",
   "metadata": {},
   "outputs": [],
   "source": [
    "def process(media, remove_line, error_file):\n",
    "    source = os.path.join(outdir, f\"user_{media}_list.csv\")\n",
    "    dest = os.path.join(outdir, f\"user_{media}_list.csv~\")\n",
    "    error_file = os.path.join(outdir, error_file)\n",
    "    with open(source, \"r\") as in_file, open(dest, \"w\") as out_file, open(\n",
    "        error_file, \"w\"\n",
    "    ) as err_file:\n",
    "        header = False\n",
    "        for line in tqdm(in_file):\n",
    "            if not header:\n",
    "                header = True\n",
    "                global HEADER_FIELDS\n",
    "                HEADER_FIELDS = line.strip().split(\",\")\n",
    "                out_file.write(line)\n",
    "                err_file.write(line)\n",
    "                continue\n",
    "            try:\n",
    "                if remove_line(media, line):\n",
    "                    err_file.write(line)\n",
    "                else:\n",
    "                    out_file.write(line)\n",
    "            except Exception as e:\n",
    "                print(line)\n",
    "                raise e\n",
    "    os.rename(dest, source)"
   ]
  },
  {
   "cell_type": "code",
   "execution_count": null,
   "id": "7e61301f-3604-4442-937f-21a0a878cf88",
   "metadata": {},
   "outputs": [],
   "source": [
    "def enforce_knowledge_cutoff(media, line):\n",
    "    fields = line.strip().split(\",\")\n",
    "    col = HEADER_FIELDS.index(\"updated_at\")\n",
    "    return float(fields[col]) > cutoff"
   ]
  },
  {
   "cell_type": "code",
   "execution_count": null,
   "id": "dbaf80d0-56c0-4789-92a7-e00e2fe5244f",
   "metadata": {},
   "outputs": [],
   "source": [
    "cutoff = get_knowledge_cutoff(cutoff_days)\n",
    "with open(os.path.join(outdir, \"knowledge_cutoff.csv\"), \"w\") as f:\n",
    "    f.write(f\"knowledge_cutoff,{cutoff}\\n\")"
   ]
  },
  {
   "cell_type": "code",
   "execution_count": null,
   "id": "96c95859-8b34-4516-b6df-ceb4b184ddc9",
   "metadata": {},
   "outputs": [],
   "source": [
    "for media in [\"manga\", \"anime\"]:\n",
    "    process(media, enforce_knowledge_cutoff, f\"prune.{media}.knowledge_cutoff.csv\")"
   ]
  }
 ],
 "metadata": {
  "kernelspec": {
   "display_name": "Python 3 (ipykernel)",
   "language": "python",
   "name": "python3"
  },
  "language_info": {
   "codemirror_mode": {
    "name": "ipython",
    "version": 3
   },
   "file_extension": ".py",
   "mimetype": "text/x-python",
   "name": "python",
   "nbconvert_exporter": "python",
   "pygments_lexer": "ipython3",
   "version": "3.9.6"
  }
 },
 "nbformat": 4,
 "nbformat_minor": 5
}
