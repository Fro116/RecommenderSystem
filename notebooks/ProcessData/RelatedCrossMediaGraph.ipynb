{
 "cells": [
  {
   "cell_type": "markdown",
   "metadata": {},
   "source": [
    "# Related Cross Media Graph\n",
    "* The same as RelatedMediaGraph except the source and target items are from different media"
   ]
  },
  {
   "cell_type": "code",
   "execution_count": null,
   "metadata": {},
   "outputs": [],
   "source": [
    "import os\n",
    "\n",
    "import pandas as pd\n",
    "from tqdm import tqdm"
   ]
  },
  {
   "cell_type": "code",
   "execution_count": null,
   "metadata": {},
   "outputs": [],
   "source": [
    "os.chdir(\"../../data/processed_data\")"
   ]
  },
  {
   "cell_type": "code",
   "execution_count": null,
   "metadata": {
    "tags": [
     "parameters"
    ]
   },
   "outputs": [],
   "source": [
    "media = \"\""
   ]
  },
  {
   "cell_type": "code",
   "execution_count": null,
   "metadata": {},
   "outputs": [],
   "source": [
    "target_media = \"\"\n",
    "if media == \"anime\":\n",
    "    target_media = \"manga\" \n",
    "elif media == \"manga\":\n",
    "    target_media = \"anime\"\n",
    "else:\n",
    "    assert False"
   ]
  },
  {
   "cell_type": "code",
   "execution_count": null,
   "metadata": {},
   "outputs": [],
   "source": [
    "relations = pd.read_csv(f\"../raw_data/{media}_relations.csv\")\n",
    "relations[\"source_mediatype\"] = relations[\"source_mediatype\"].str.lower()\n",
    "relations[\"target_mediatype\"] = relations[\"target_mediatype\"].str.lower()\n",
    "relations[\"relation\"] = relations[\"relation\"].str.lower()\n",
    "relations = relations.loc[\n",
    "    lambda x: (x[\"source_mediatype\"] == media) & (x[\"target_mediatype\"] == target_media)\n",
    "]"
   ]
  },
  {
   "cell_type": "code",
   "execution_count": null,
   "metadata": {},
   "outputs": [],
   "source": [
    "df = pd.DataFrame()\n",
    "df[\"source\"] = relations[\"source_id\"]\n",
    "df[\"target\"] = relations[\"target_id\"]\n",
    "df[\"relationship\"] = relations[\"relation\"]"
   ]
  },
  {
   "cell_type": "code",
   "execution_count": null,
   "metadata": {},
   "outputs": [],
   "source": [
    "def replace_uids(df, col, media):\n",
    "    media_to_uid = pd.read_csv(f\"{media}_to_uid.csv\")\n",
    "    media_to_uid = media_to_uid.set_index(f\"{media}id\").to_dict()[\"uid\"]\n",
    "    df = df.loc[lambda x: x[col].isin(list(media_to_uid))].copy()\n",
    "    df[col].replace(media_to_uid, inplace=True)\n",
    "    return df"
   ]
  },
  {
   "cell_type": "code",
   "execution_count": null,
   "metadata": {},
   "outputs": [],
   "source": [
    "df = replace_uids(df, \"source\", media)\n",
    "df = replace_uids(df, \"target\", target_media)"
   ]
  },
  {
   "cell_type": "code",
   "execution_count": null,
   "metadata": {},
   "outputs": [],
   "source": [
    "df.to_csv(f\"{media}_{target_media}_related_series.csv\", index=False)"
   ]
  }
 ],
 "metadata": {
  "kernelspec": {
   "display_name": "Python 3 (ipykernel)",
   "language": "python",
   "name": "python3"
  },
  "language_info": {
   "codemirror_mode": {
    "name": "ipython",
    "version": 3
   },
   "file_extension": ".py",
   "mimetype": "text/x-python",
   "name": "python",
   "nbconvert_exporter": "python",
   "pygments_lexer": "ipython3",
   "version": "3.10.6"
  }
 },
 "nbformat": 4,
 "nbformat_minor": 4
}
