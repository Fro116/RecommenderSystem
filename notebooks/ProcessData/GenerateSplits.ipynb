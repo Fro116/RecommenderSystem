{
 "cells": [
  {
   "cell_type": "markdown",
   "id": "dbf03b87-063f-46fe-b392-0d6399dca361",
   "metadata": {},
   "source": [
    "# Generate Splits\n",
    "* Creates training and test splits"
   ]
  },
  {
   "cell_type": "code",
   "execution_count": null,
   "id": "54b1ceb4-d65a-410a-b876-93c491c0cd4c",
   "metadata": {},
   "outputs": [],
   "source": [
    "import hashlib\n",
    "import os\n",
    "\n",
    "import numpy as np\n",
    "import pandas as pd\n",
    "import yaml"
   ]
  },
  {
   "cell_type": "code",
   "execution_count": null,
   "id": "ef84b731-11d3-4bef-888b-cc9c0207fabf",
   "metadata": {
    "editable": true,
    "slideshow": {
     "slide_type": ""
    },
    "tags": [
     "parameters"
    ]
   },
   "outputs": [],
   "source": [
    "part = 0\n",
    "media = \"\""
   ]
  },
  {
   "cell_type": "code",
   "execution_count": null,
   "id": "992a0836-bb2b-4956-b075-49dbf38aa079",
   "metadata": {},
   "outputs": [],
   "source": [
    "source_dir = \"../../data/processed_data\""
   ]
  },
  {
   "cell_type": "code",
   "execution_count": null,
   "id": "b24a8f49-53b5-4106-8fe5-84ba572eead5",
   "metadata": {},
   "outputs": [],
   "source": [
    "outdir = \"../../data/splits\"\n",
    "os.makedirs(outdir, exist_ok=True)"
   ]
  },
  {
   "cell_type": "code",
   "execution_count": null,
   "id": "5a846304-9f02-4d1d-a77c-18a71fd48e05",
   "metadata": {},
   "outputs": [],
   "source": [
    "def get_settings():\n",
    "    d = {}\n",
    "    for s in [\"default_settings\", \"private_settings\"]:\n",
    "        with open(f\"../../environment/{s}.yml\", \"r\") as f:\n",
    "            d |= yaml.safe_load(f)\n",
    "    return d"
   ]
  },
  {
   "cell_type": "code",
   "execution_count": null,
   "id": "70ac8124-64c4-42db-a292-d1757d776fbb",
   "metadata": {},
   "outputs": [],
   "source": [
    "def is_training(userid, mode):\n",
    "    if mode == \"research\":\n",
    "        return True\n",
    "    hashfn = lambda x: hashlib.sha256(str(x).encode(\"ASCII\")).hexdigest()\n",
    "    salt = hashfn(\"get_split\")\n",
    "    hash = hashfn(salt + userid)\n",
    "    p = (hash % 100) / 100\n",
    "    return p > 0.99"
   ]
  },
  {
   "cell_type": "code",
   "execution_count": null,
   "id": "9d872c37-a89e-4efb-8189-58e59c943da9",
   "metadata": {},
   "outputs": [],
   "source": [
    "def get_cutoff(days):\n",
    "    def parse_line(file, field, format=int):\n",
    "        line = file.readline()\n",
    "        fields = line.strip().split(\",\")\n",
    "        assert len(fields) == 2\n",
    "        assert fields[0] == field\n",
    "        return format(fields[1])\n",
    "\n",
    "    with open(os.path.join(source_dir, \"timestamps.csv\")) as f:\n",
    "        min_timestamp = parse_line(f, \"min_timestamp\")\n",
    "        max_timestamp = parse_line(f, \"max_timestamp\")\n",
    "\n",
    "    seconds_in_day = 24 * 60 * 60\n",
    "    return 1.0 - days * seconds_in_day / (max_timestamp - min_timestamp)"
   ]
  },
  {
   "cell_type": "code",
   "execution_count": null,
   "id": "be2c83fd-4a92-498f-b4b8-7162bad7a879",
   "metadata": {},
   "outputs": [],
   "source": [
    "def temporal_sort(fn):\n",
    "    df = pd.read_csv(fn, keep_default_na=False, engine=\"pyarrow\")\n",
    "    df.sort_values(\n",
    "        by=[\"userid\", \"update_order\", \"updated_at\"], inplace=True, ignore_index=True\n",
    "    )\n",
    "    df[\"unit\"] = 1\n",
    "    df[\"forward_order\"] = (\n",
    "        df.groupby(\"userid\", group_keys=False)[\"unit\"]\n",
    "        .apply(lambda x: x.cumsum())\n",
    "        .values\n",
    "    )\n",
    "    df[\"backward_order\"] = (\n",
    "        df.groupby(\"userid\", group_keys=False)[\"unit\"]\n",
    "        .apply(lambda x: x.cumsum()[::-1])\n",
    "        .values\n",
    "    )\n",
    "    return df"
   ]
  },
  {
   "cell_type": "code",
   "execution_count": null,
   "id": "4cb12e98-4d09-4e4a-868f-e28d255337f8",
   "metadata": {},
   "outputs": [],
   "source": [
    "def generate_training_splits(timestamp_cutoff, num_interactions, mode):\n",
    "    df = temporal_sort(\n",
    "        os.path.join(source_dir, f\"user_{media}_list.{part}.csv\"),\n",
    "    )    \n",
    "    training = (\n",
    "        df.userid.apply(lambda x: is_training(x, mode))\n",
    "        | (df.forward_order > num_interactions)\n",
    "        | (df.updated_at < timestamp_cutoff)\n",
    "    )\n",
    "    df[training].to_hdf(os.path.join(outdir, f\"training.user_{media}_list.{part}.h5\"), key='df', mode='w') \n",
    "    df[~training].to_hdf(os.path.join(outdir, f\"test.user_{media}_list.{part}.h5\"), key='df', mode='w') "
   ]
  },
  {
   "cell_type": "code",
   "execution_count": null,
   "id": "5dd823e2-59ec-4221-ac48-51b00e44d498",
   "metadata": {
    "tags": []
   },
   "outputs": [],
   "source": [
    "def generate_future_split(num_interactions):\n",
    "    df = temporal_sort(\n",
    "        os.path.join(source_dir, f\"prune.{media}.knowledge_cutoff.{part}.csv\"),\n",
    "    )\n",
    "    df.to_hdf(os.path.join(outdir, f\"test.user_{media}_list.{part}.h5\"), key='df', mode='w')"
   ]
  },
  {
   "cell_type": "code",
   "execution_count": null,
   "id": "0da7f883-b430-405c-bf49-968d8ca9d48f",
   "metadata": {},
   "outputs": [],
   "source": [
    "# interactions will go in the test split if the user is in the test split\n",
    "# AND the the interaction is one of the user's N most recent interactions\n",
    "# AND the interaction occured less that M days ago\n",
    "settings = get_settings()\n",
    "generate_training_splits(\n",
    "    get_cutoff(settings[\"cutoff_days\"]),\n",
    "    settings[\"cutoff_interactions\"],\n",
    "    settings[\"mode\"],\n",
    ")\n",
    "if settings[\"mode\"] == \"research\":\n",
    "    # in research mode, we first filter to interactions that occured\n",
    "    # M days ago, and then we take the first N interactions per user\n",
    "    generate_future_split(settings[\"cutoff_interactions\"])"
   ]
  }
 ],
 "metadata": {
  "kernelspec": {
   "display_name": "Python 3 (ipykernel)",
   "language": "python",
   "name": "python3"
  },
  "language_info": {
   "codemirror_mode": {
    "name": "ipython",
    "version": 3
   },
   "file_extension": ".py",
   "mimetype": "text/x-python",
   "name": "python",
   "nbconvert_exporter": "python",
   "pygments_lexer": "ipython3",
   "version": "3.10.12"
  }
 },
 "nbformat": 4,
 "nbformat_minor": 5
}
