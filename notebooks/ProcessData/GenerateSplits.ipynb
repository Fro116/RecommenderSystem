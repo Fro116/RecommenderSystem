{
 "cells": [
  {
   "cell_type": "markdown",
   "id": "dbf03b87-063f-46fe-b392-0d6399dca361",
   "metadata": {},
   "source": [
    "# Generate Splits\n",
    "* Create training, validation and test splits"
   ]
  },
  {
   "cell_type": "code",
   "execution_count": null,
   "id": "54b1ceb4-d65a-410a-b876-93c491c0cd4c",
   "metadata": {},
   "outputs": [],
   "source": [
    "import math\n",
    "import os\n",
    "\n",
    "import numpy as np\n",
    "import pandas as pd\n",
    "from tqdm import tqdm"
   ]
  },
  {
   "cell_type": "code",
   "execution_count": null,
   "id": "992a0836-bb2b-4956-b075-49dbf38aa079",
   "metadata": {},
   "outputs": [],
   "source": [
    "source_dir = \"../../data/processed_data\""
   ]
  },
  {
   "cell_type": "code",
   "execution_count": null,
   "id": "b24a8f49-53b5-4106-8fe5-84ba572eead5",
   "metadata": {},
   "outputs": [],
   "source": [
    "outdir = \"../../data/splits\"\n",
    "os.makedirs(outdir, exist_ok=True)"
   ]
  },
  {
   "cell_type": "code",
   "execution_count": null,
   "id": "c751bc98-5002-4bf3-bb4c-08f88b2ac167",
   "metadata": {
    "tags": [
     "parameters"
    ]
   },
   "outputs": [],
   "source": [
    "media = \"\""
   ]
  },
  {
   "cell_type": "markdown",
   "id": "cc60a8ff-ec51-4294-82a0-a945a36ad69e",
   "metadata": {},
   "source": [
    "# Sort items by timestamp"
   ]
  },
  {
   "cell_type": "code",
   "execution_count": null,
   "id": "7aa6376f-09f3-4b44-8117-9771371572d6",
   "metadata": {},
   "outputs": [],
   "source": [
    "def shard_by_user(file, num_shards):\n",
    "    try:\n",
    "        outfiles = []\n",
    "        for i in range(num_shards):\n",
    "            outfiles.append(open(f\"{file}.shard.{i}\", \"w\"))\n",
    "        with open(file) as in_file:\n",
    "            header = False\n",
    "            for line in tqdm(in_file):\n",
    "                if not header:\n",
    "                    header = True\n",
    "                    user_col = line.strip().split(\",\").index(\"userid\")\n",
    "                    for f in outfiles:\n",
    "                        f.write(line)\n",
    "                    continue\n",
    "                fields = line.strip().split(\",\")\n",
    "                user = fields[user_col]\n",
    "                outfiles[int(user) % num_shards].write(line)\n",
    "    finally:\n",
    "        for f in outfiles:\n",
    "            f.close()\n",
    "\n",
    "\n",
    "def temporal_sort(input_fn, output_fn):\n",
    "    df = pd.read_csv(input_fn, dtype=str)\n",
    "    for key, dtype in zip([\"userid\", \"update_order\", \"updated_at\"], [int, int, float]):\n",
    "        df[key] = df[key].astype(dtype)\n",
    "    df = df.sort_values(by=[\"userid\", \"update_order\", \"updated_at\"]).reset_index(\n",
    "        drop=True\n",
    "    )\n",
    "    df[\"unit\"] = 1\n",
    "    df[\"order\"] = df.groupby(\"userid\")[\"unit\"].apply(lambda x: x.cumsum()[::-1]).values\n",
    "    df.to_csv(output_fn, index=False)\n",
    "\n",
    "\n",
    "def sharded_temporal_sort(input_fn, output_fn, num_shards=16):\n",
    "    shard_by_user(input_fn, num_shards)\n",
    "    for i in tqdm(range(num_shards)):\n",
    "        temporal_sort(f\"{input_fn}.shard.{i}\", f\"{output_fn}.shard.{i}\")\n",
    "        os.remove(f\"{input_fn}.shard.{i}\")\n",
    "    with open(output_fn, \"w\") as outfile:\n",
    "        for i in tqdm(range(num_shards)):\n",
    "            fn = f\"{output_fn}.shard.{i}\"\n",
    "            with open(fn) as infile:\n",
    "                header = False\n",
    "                for line in infile:\n",
    "                    if not header:\n",
    "                        header = True\n",
    "                        if i == 0:\n",
    "                            outfile.write(line)\n",
    "                        continue\n",
    "                    outfile.write(line)\n",
    "            os.remove(fn)"
   ]
  },
  {
   "cell_type": "code",
   "execution_count": null,
   "id": "14505770-a2c1-42b3-a096-ab84e8ea6225",
   "metadata": {},
   "outputs": [],
   "source": [
    "sharded_temporal_sort(\n",
    "    os.path.join(source_dir, f\"user_{media}_list.csv\"),\n",
    "    os.path.join(outdir, f\"user_{media}_list_sorted.csv\"),\n",
    ")"
   ]
  },
  {
   "cell_type": "markdown",
   "id": "08844257-5ad8-47a2-9cd3-c59c5009764e",
   "metadata": {},
   "source": [
    "# Generate splits!"
   ]
  },
  {
   "cell_type": "code",
   "execution_count": null,
   "id": "722d60f6-5ec2-4916-b520-24642b6480b0",
   "metadata": {},
   "outputs": [],
   "source": [
    "ALL_SPLITS = [\"training\", \"validation\", \"test\"]\n",
    "\n",
    "\n",
    "def get_split(userid):\n",
    "    return ALL_SPLITS[userid % len(ALL_SPLITS)]"
   ]
  },
  {
   "cell_type": "code",
   "execution_count": null,
   "id": "9d872c37-a89e-4efb-8189-58e59c943da9",
   "metadata": {},
   "outputs": [],
   "source": [
    "def get_cutoff(days):\n",
    "    def parse_line(file, field, format=int):\n",
    "        line = file.readline()\n",
    "        fields = line.strip().split(\",\")\n",
    "        assert len(fields) == 2\n",
    "        assert fields[0] == field\n",
    "        return format(fields[1])\n",
    "\n",
    "    with open(os.path.join(source_dir, \"timestamps.csv\")) as f:\n",
    "        min_timestamp = parse_line(f, \"min_timestamp\")\n",
    "        max_timestamp = parse_line(f, \"max_timestamp\")\n",
    "\n",
    "    with open(os.path.join(source_dir, \"knowledge_cutoff.csv\")) as f:\n",
    "        knowledge_cutoff = parse_line(f, \"knowledge_cutoff\", float)\n",
    "\n",
    "    seconds_in_day = 24 * 60 * 60\n",
    "    return knowledge_cutoff - days * seconds_in_day / (max_timestamp - min_timestamp)"
   ]
  },
  {
   "cell_type": "code",
   "execution_count": null,
   "id": "4cb12e98-4d09-4e4a-868f-e28d255337f8",
   "metadata": {},
   "outputs": [],
   "source": [
    "def generate_splits(input_fn, output_fn, params):\n",
    "    files = {x: open(os.path.join(outdir, f\"{x}.{output_fn}\"), \"w\") for x in ALL_SPLITS}\n",
    "    with open(os.path.join(outdir, input_fn)) as f:\n",
    "        header = False\n",
    "        for line in tqdm(f):\n",
    "            fields = line.strip().split(\",\")\n",
    "            if not header:\n",
    "                header = True\n",
    "                timestamp_col = fields.index(\"updated_at\")\n",
    "                user_col = fields.index(\"userid\")\n",
    "                order_col = fields.index(\"order\")\n",
    "                for g in files.values():\n",
    "                    g.write(line)\n",
    "                continue\n",
    "\n",
    "            userid = int(fields[user_col])\n",
    "            timestamp = float(fields[timestamp_col])\n",
    "            order = int(fields[order_col])\n",
    "            cutoff = params[0]\n",
    "            num_interactions = params[1]\n",
    "            train = (timestamp < cutoff) or (order > num_interactions)\n",
    "\n",
    "            if train:\n",
    "                files[\"training\"].write(line)\n",
    "            else:\n",
    "                files[get_split(userid)].write(line)\n",
    "\n",
    "    for f in files.values():\n",
    "        f.close()"
   ]
  },
  {
   "cell_type": "code",
   "execution_count": null,
   "id": "0da7f883-b430-405c-bf49-968d8ca9d48f",
   "metadata": {},
   "outputs": [],
   "source": [
    "# interactions will go in the test split if the user is in the test split\n",
    "# AND the the interaction is one of the user's N most recent watches\n",
    "# AND the interaction occured less that M days ago\n",
    "num_days = 7\n",
    "num_interactions = 5\n",
    "generate_splits(\n",
    "    f\"user_{media}_list_sorted.csv\",\n",
    "    f\"user_{media}_list.csv\",\n",
    "    (get_cutoff(num_days), num_interactions),\n",
    ")"
   ]
  }
 ],
 "metadata": {
  "kernelspec": {
   "display_name": "Python 3 (ipykernel)",
   "language": "python",
   "name": "python3"
  },
  "language_info": {
   "codemirror_mode": {
    "name": "ipython",
    "version": 3
   },
   "file_extension": ".py",
   "mimetype": "text/x-python",
   "name": "python",
   "nbconvert_exporter": "python",
   "pygments_lexer": "ipython3",
   "version": "3.10.12"
  }
 },
 "nbformat": 4,
 "nbformat_minor": 5
}
