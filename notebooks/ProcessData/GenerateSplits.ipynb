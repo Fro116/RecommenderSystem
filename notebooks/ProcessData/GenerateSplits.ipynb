{
 "cells": [
  {
   "cell_type": "markdown",
   "id": "dbf03b87-063f-46fe-b392-0d6399dca361",
   "metadata": {},
   "source": [
    "# Split the data into training/validation/test sets\n",
    "* For each user, we hold out approximately 10 items for the validation set and 10 items for the test set\n",
    "* If the user has fewer than 100 items, then we randomly assign their entries with an 80/10/10 training/validation/test split"
   ]
  },
  {
   "cell_type": "code",
   "execution_count": 1,
   "id": "54b1ceb4-d65a-410a-b876-93c491c0cd4c",
   "metadata": {},
   "outputs": [],
   "source": [
    "import os\n",
    "import random\n",
    "\n",
    "from tqdm import tqdm"
   ]
  },
  {
   "cell_type": "code",
   "execution_count": 2,
   "id": "992a0836-bb2b-4956-b075-49dbf38aa079",
   "metadata": {},
   "outputs": [],
   "source": [
    "source_dir = \"../../data/processed_data\""
   ]
  },
  {
   "cell_type": "code",
   "execution_count": 3,
   "id": "167c509b-62a9-492d-965c-78e5631e7085",
   "metadata": {},
   "outputs": [],
   "source": [
    "outdir = \"../../data/splits\"\n",
    "if not os.path.exists(outdir):\n",
    "    os.mkdir(outdir)"
   ]
  },
  {
   "cell_type": "code",
   "execution_count": 4,
   "id": "248ca43f-6e4e-4d32-a2a9-331efdb072a9",
   "metadata": {},
   "outputs": [],
   "source": [
    "def get_input_file(file):\n",
    "    return open(os.path.join(source_dir, file), \"r\")\n",
    "\n",
    "\n",
    "def get_output_file(file):\n",
    "    return open(os.path.join(outdir, file), \"w\")"
   ]
  },
  {
   "cell_type": "code",
   "execution_count": 5,
   "id": "d0bc8405-ed5d-45ec-8f81-24abfaacd46c",
   "metadata": {},
   "outputs": [],
   "source": [
    "import pandas as pd\n",
    "df = pd.read_csv(os.path.join(source_dir, \"user_anime_lists.csv\"))"
   ]
  },
  {
   "cell_type": "code",
   "execution_count": 6,
   "id": "e8601d63-ccd4-47ed-9972-8aff7ca39eab",
   "metadata": {},
   "outputs": [],
   "source": [
    "item_counts = df.groupby(\"username\").size().to_dict()"
   ]
  },
  {
   "cell_type": "code",
   "execution_count": 7,
   "id": "19dcfffb-c61c-455b-92c6-0185485d1de6",
   "metadata": {},
   "outputs": [],
   "source": [
    "def get_split_ratio(count):\n",
    "    if count < 100:\n",
    "        return (0.8, 0.1, 0.1)\n",
    "    else:\n",
    "        p = 10 / count\n",
    "        return (1 - 2*p, p, p)"
   ]
  },
  {
   "cell_type": "code",
   "execution_count": 8,
   "id": "c2a0e857-4540-4732-a475-9f88b8c79fb9",
   "metadata": {},
   "outputs": [],
   "source": [
    "random.seed(20220128)"
   ]
  },
  {
   "cell_type": "code",
   "execution_count": 9,
   "id": "f5e270e6-066b-4c5c-92d0-8de0ee795e88",
   "metadata": {},
   "outputs": [
    {
     "name": "stderr",
     "output_type": "stream",
     "text": [
      "168626003it [03:45, 746724.13it/s]\n"
     ]
    }
   ],
   "source": [
    "with get_input_file(\"user_anime_lists.csv\") as in_file, get_output_file(\n",
    "    \"training.csv\"\n",
    ") as training, get_output_file(\"validation.csv\") as validation, get_output_file(\n",
    "    \"test.csv\"\n",
    ") as test:\n",
    "    header = False\n",
    "    for line in tqdm(in_file):\n",
    "        if not header:\n",
    "            header = True\n",
    "            training.write(line)\n",
    "            validation.write(line)\n",
    "            test.write(line)\n",
    "            continue\n",
    "        user = int(line.split(\",\")[0])\n",
    "        p_training, p_validation, p_test = get_split_ratio(item_counts[user])\n",
    "        sample = random.random()\n",
    "        if sample < p_training:\n",
    "            training.write(line)\n",
    "        elif sample < p_training+p_validation:\n",
    "            validation.write(line)\n",
    "        else:\n",
    "            test.write(line)"
   ]
  }
 ],
 "metadata": {
  "kernelspec": {
   "display_name": "Python 3 (ipykernel)",
   "language": "python",
   "name": "python3"
  },
  "language_info": {
   "codemirror_mode": {
    "name": "ipython",
    "version": 3
   },
   "file_extension": ".py",
   "mimetype": "text/x-python",
   "name": "python",
   "nbconvert_exporter": "python",
   "pygments_lexer": "ipython3",
   "version": "3.8.10"
  }
 },
 "nbformat": 4,
 "nbformat_minor": 5
}
