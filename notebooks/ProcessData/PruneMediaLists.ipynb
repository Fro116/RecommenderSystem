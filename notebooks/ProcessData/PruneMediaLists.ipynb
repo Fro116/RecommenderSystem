{
 "cells": [
  {
   "cell_type": "markdown",
   "id": "dbf03b87-063f-46fe-b392-0d6399dca361",
   "metadata": {},
   "source": [
    "# Prune Media Lists\n",
    "* Drop any duplicate rows\n",
    "* Drop any users with 3 or fewer item interactions\n",
    "* Drop any unparseable rows"
   ]
  },
  {
   "cell_type": "code",
   "execution_count": null,
   "id": "54b1ceb4-d65a-410a-b876-93c491c0cd4c",
   "metadata": {
    "editable": true,
    "slideshow": {
     "slide_type": ""
    },
    "tags": []
   },
   "outputs": [],
   "source": [
    "import gc\n",
    "import os\n",
    "from functools import cache\n",
    "\n",
    "import numpy as np\n",
    "import pandas as pd\n",
    "import yaml\n",
    "from tqdm import tqdm"
   ]
  },
  {
   "cell_type": "code",
   "execution_count": null,
   "id": "ab599967-4bbb-4b49-a73d-48adcbe56d08",
   "metadata": {
    "editable": true,
    "slideshow": {
     "slide_type": ""
    },
    "tags": [
     "parameters"
    ]
   },
   "outputs": [],
   "source": [
    "part = 0"
   ]
  },
  {
   "cell_type": "code",
   "execution_count": null,
   "id": "992a0836-bb2b-4956-b075-49dbf38aa079",
   "metadata": {},
   "outputs": [],
   "source": [
    "outdir = \"../../data/raw_data\""
   ]
  },
  {
   "cell_type": "code",
   "execution_count": null,
   "id": "4e708ee8-527c-49e4-ad9b-0aed311878f4",
   "metadata": {},
   "outputs": [],
   "source": [
    "HEADER_FIELDS = []\n",
    "ALL_MEDIUMS = [\"manga\", \"anime\"]"
   ]
  },
  {
   "cell_type": "code",
   "execution_count": null,
   "id": "b349d8f7-555a-4763-92b4-534afe2b7553",
   "metadata": {},
   "outputs": [],
   "source": [
    "@cache\n",
    "def get_col_id(name):\n",
    "    return HEADER_FIELDS.index(name)"
   ]
  },
  {
   "cell_type": "code",
   "execution_count": null,
   "id": "3a4bd675-00c1-45e0-9f19-fbca55412dd9",
   "metadata": {},
   "outputs": [],
   "source": [
    "def process(media, remove_line, error_file):\n",
    "    source = os.path.join(outdir, f\"user_{media}_list.{part}.csv\")\n",
    "    dest = os.path.join(outdir, f\"user_{media}_list.{part}.csv~\")\n",
    "    error_file = os.path.join(outdir, error_file)\n",
    "    with open(source, \"r\") as in_file, open(dest, \"w\") as out_file, open(\n",
    "        error_file, \"w\"\n",
    "    ) as err_file:\n",
    "        header = False\n",
    "        for line in tqdm(in_file):\n",
    "            if not header:\n",
    "                header = True\n",
    "                global HEADER_FIELDS\n",
    "                fields = line.strip().split(\",\")\n",
    "                if HEADER_FIELDS:\n",
    "                    assert HEADER_FIELDS == fields\n",
    "                HEADER_FIELDS = fields\n",
    "                out_file.write(line)\n",
    "                continue\n",
    "            try:\n",
    "                if remove_line(media, line):\n",
    "                    err_file.write(line)\n",
    "                else:\n",
    "                    out_file.write(line)\n",
    "            except Exception as e:\n",
    "                print(line)\n",
    "                raise e\n",
    "    os.rename(dest, source)"
   ]
  },
  {
   "cell_type": "code",
   "execution_count": null,
   "id": "7e61301f-3604-4442-937f-21a0a878cf88",
   "metadata": {},
   "outputs": [],
   "source": [
    "def remove_unmatched_titles(media, line, valid_titles):\n",
    "    fields = line.strip().split(\",\")\n",
    "    col = get_col_id(\"mediaid\")\n",
    "    return int(fields[col]) not in valid_titles"
   ]
  },
  {
   "cell_type": "code",
   "execution_count": null,
   "id": "b8013665-314c-4878-a05d-977737ce273c",
   "metadata": {},
   "outputs": [],
   "source": [
    "def remove_duplicates(media, line, user_to_uid, seen_items):\n",
    "    fields = line.strip().split(\",\")\n",
    "    user_col = get_col_id(\"userid\")\n",
    "    item_col = get_col_id(\"mediaid\")\n",
    "    if fields[user_col] not in user_to_uid:\n",
    "        user_to_uid[fields[user_col]] = np.int32(len(user_to_uid))\n",
    "    user = user_to_uid[fields[user_col]]\n",
    "    item = np.int32(fields[item_col])\n",
    "    key = (user, item)\n",
    "    if key not in seen_items:\n",
    "        seen_items.add(key)\n",
    "        return False\n",
    "    return True"
   ]
  },
  {
   "cell_type": "code",
   "execution_count": null,
   "id": "120efb1e-fb6c-4248-9b7e-3e587fe00c44",
   "metadata": {},
   "outputs": [],
   "source": [
    "def count_col(media, line, counts, key_to_uid, name):\n",
    "    fields = line.strip().split(\",\")\n",
    "    col = get_col_id(name)\n",
    "    key = fields[col]\n",
    "    if key not in counts:\n",
    "        counts[key] = 0\n",
    "        key_to_uid[key] = len(key_to_uid)\n",
    "    counts[key] += 1\n",
    "    return False\n",
    "\n",
    "\n",
    "def remove_sparse_col(media, line, counts, key_to_uid, name, N):\n",
    "    fields = line.strip().split(\",\")\n",
    "    col = get_col_id(name)\n",
    "    key = fields[col]\n",
    "    return counts[key] < N"
   ]
  },
  {
   "cell_type": "code",
   "execution_count": null,
   "id": "1fdcc9b6-bc4a-4640-8c14-791b541a82a1",
   "metadata": {},
   "outputs": [],
   "source": [
    "def get_settings():\n",
    "    d = {}\n",
    "    for s in [\"default_settings\", \"private_settings\"]:\n",
    "        with open(f\"../../environment/{s}.yml\", \"r\") as f:\n",
    "            d |= yaml.safe_load(f)\n",
    "    return d"
   ]
  },
  {
   "cell_type": "code",
   "execution_count": null,
   "id": "96c95859-8b34-4516-b6df-ceb4b184ddc9",
   "metadata": {},
   "outputs": [],
   "source": [
    "def prune_media():\n",
    "    for media in ALL_MEDIUMS:\n",
    "        valid_titles = set(pd.read_csv(f\"{outdir}/{media}.csv\")[f\"{media}_id\"])\n",
    "        fn = lambda media, line: remove_unmatched_titles(media, line, valid_titles)\n",
    "        process(media, fn, f\"prune.{media}.unmatched.{part}.csv\")"
   ]
  },
  {
   "cell_type": "code",
   "execution_count": null,
   "id": "f3d8c243-6c69-4bf5-8327-747a505c6dc3",
   "metadata": {},
   "outputs": [],
   "source": [
    "def prune_duplicates():\n",
    "    user_to_uid = {}\n",
    "    for media in ALL_MEDIUMS:\n",
    "        seen_items = set()\n",
    "        fn = lambda media, line: remove_duplicates(media, line, user_to_uid, seen_items)\n",
    "        process(media, fn, f\"prune.{media}.duplicates.{part}.csv\")"
   ]
  },
  {
   "cell_type": "code",
   "execution_count": null,
   "id": "bf8c8271-cda0-4a99-b075-b777ba0c1cd1",
   "metadata": {},
   "outputs": [],
   "source": [
    "def prune_sparse():\n",
    "    for x, y in zip(\n",
    "        [\"userid\", \"mediaid\"], [\"min_user_interactions\", \"min_item_interactions\"]\n",
    "    ):\n",
    "        N = get_settings()[y]\n",
    "        if x == \"userid\":\n",
    "            counts = {}\n",
    "            key_to_uid = {}\n",
    "            count_fn = lambda media, line: count_col(media, line, counts, key_to_uid, x)\n",
    "            remove_fn = lambda media, line: remove_sparse_col(\n",
    "                media, line, counts, key_to_uid, x, N\n",
    "            )\n",
    "            for media in ALL_MEDIUMS:\n",
    "                process(media, count_fn, f\"prune.{media}.empty.{part}.csv\")\n",
    "            for media in ALL_MEDIUMS:\n",
    "                process(media, remove_fn, f\"prune.{media}.sparse.{part}.csv\")\n",
    "        elif x == \"mediaid\":\n",
    "            for media in ALL_MEDIUMS:\n",
    "                counts = {}\n",
    "                key_to_uid = {}\n",
    "                count_fn = lambda media, line: count_col(\n",
    "                    media, line, counts, key_to_uid, x\n",
    "                )\n",
    "                remove_fn = lambda media, line: remove_sparse_col(\n",
    "                    media, line, counts, key_to_uid, x, N\n",
    "                )\n",
    "                process(media, count_fn, f\"prune.{media}.empty.{part}.csv\")\n",
    "                process(media, remove_fn, f\"prune.{media}.sparse.{part}.csv\")\n",
    "        else:\n",
    "            assert False"
   ]
  },
  {
   "cell_type": "code",
   "execution_count": null,
   "id": "06c4e144-eb42-49e9-aaa6-ae10af7ae2a3",
   "metadata": {},
   "outputs": [],
   "source": [
    "prune_media()"
   ]
  },
  {
   "cell_type": "code",
   "execution_count": null,
   "id": "0a48bd0e-a82f-46aa-9363-f117bbaa37d8",
   "metadata": {},
   "outputs": [],
   "source": [
    "prune_duplicates()"
   ]
  },
  {
   "cell_type": "code",
   "execution_count": null,
   "id": "3e932dac-ec10-4707-9738-13ea0faee7a0",
   "metadata": {},
   "outputs": [],
   "source": [
    "prune_sparse()"
   ]
  }
 ],
 "metadata": {
  "kernelspec": {
   "display_name": "Python 3 (ipykernel)",
   "language": "python",
   "name": "python3"
  },
  "language_info": {
   "codemirror_mode": {
    "name": "ipython",
    "version": 3
   },
   "file_extension": ".py",
   "mimetype": "text/x-python",
   "name": "python",
   "nbconvert_exporter": "python",
   "pygments_lexer": "ipython3",
   "version": "3.10.12"
  }
 },
 "nbformat": 4,
 "nbformat_minor": 5
}
