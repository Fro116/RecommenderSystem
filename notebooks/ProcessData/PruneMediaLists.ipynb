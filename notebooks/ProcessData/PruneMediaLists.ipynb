{
 "cells": [
  {
   "cell_type": "markdown",
   "id": "dbf03b87-063f-46fe-b392-0d6399dca361",
   "metadata": {},
   "source": [
    "# Prune Media Lists\n",
    "* Drop any rows with unknown items\n",
    "* Drop any duplicate rows\n",
    "* Drop any users with 3 or fewer item interactions"
   ]
  },
  {
   "cell_type": "code",
   "execution_count": null,
   "id": "54b1ceb4-d65a-410a-b876-93c491c0cd4c",
   "metadata": {
    "editable": true,
    "slideshow": {
     "slide_type": ""
    },
    "tags": []
   },
   "outputs": [],
   "source": [
    "import logging\n",
    "import os\n",
    "\n",
    "import pandas as pd\n",
    "import yaml"
   ]
  },
  {
   "cell_type": "code",
   "execution_count": null,
   "id": "ab599967-4bbb-4b49-a73d-48adcbe56d08",
   "metadata": {
    "editable": true,
    "slideshow": {
     "slide_type": ""
    },
    "tags": [
     "parameters"
    ]
   },
   "outputs": [],
   "source": [
    "part = 0"
   ]
  },
  {
   "cell_type": "code",
   "execution_count": null,
   "id": "992a0836-bb2b-4956-b075-49dbf38aa079",
   "metadata": {},
   "outputs": [],
   "source": [
    "logging.basicConfig(level=logging.INFO)\n",
    "outdir = \"../../data/raw_data\"\n",
    "ALL_MEDIUMS = [\"manga\", \"anime\"]"
   ]
  },
  {
   "cell_type": "code",
   "execution_count": null,
   "id": "1fdcc9b6-bc4a-4640-8c14-791b541a82a1",
   "metadata": {},
   "outputs": [],
   "source": [
    "def get_settings():\n",
    "    d = {}\n",
    "    for s in [\"default_settings\", \"private_settings\"]:\n",
    "        with open(f\"../../environment/{s}.yml\", \"r\") as f:\n",
    "            d |= yaml.safe_load(f)\n",
    "    return d"
   ]
  },
  {
   "cell_type": "code",
   "execution_count": null,
   "id": "58f18c9d-eb03-4c95-8f91-f3351f2a0d8a",
   "metadata": {},
   "outputs": [],
   "source": [
    "settings = get_settings()"
   ]
  },
  {
   "cell_type": "code",
   "execution_count": null,
   "id": "206701e8-af8b-4d72-bb11-301c8c9a1d68",
   "metadata": {},
   "outputs": [],
   "source": [
    "def prune(media):\n",
    "    fn = os.path.join(outdir, f\"user_{media}_list.{part}.csv\")\n",
    "    df = pd.read_csv(fn)\n",
    "    logging.info(f\"{len(df)} entries after loading\")\n",
    "\n",
    "    valid_titles = set(pd.read_csv(f\"{outdir}/{media}.csv\")[f\"{media}_id\"])\n",
    "    df = df.loc[lambda x: x[\"mediaid\"].isin(valid_titles)]\n",
    "    logging.info(f\"{len(df)} entries after valid title filter\")\n",
    "\n",
    "    df = df.sort_values(by=[\"updated_at\", \"update_order\"])\n",
    "    df = df.groupby([\"userid\", \"mediaid\"]).last().reset_index()\n",
    "    logging.info(f\"{len(df)} entries after duplicate filter\")\n",
    "\n",
    "    valid_users = set(\n",
    "        df.groupby(\"userid\")\n",
    "        .size()\n",
    "        .loc[lambda x: x >= settings[\"min_user_interactions\"]]\n",
    "        .index\n",
    "    )\n",
    "    df = df.loc[lambda x: x[\"userid\"].isin(valid_users)]\n",
    "    logging.info(f\"{len(df)} entries after sparse user filter\")\n",
    "\n",
    "    valid_medias = set(\n",
    "        df.groupby(\"mediaid\")\n",
    "        .size()\n",
    "        .loc[lambda x: x >= settings[\"min_item_interactions\"]]\n",
    "        .index\n",
    "    )\n",
    "    df = df.loc[lambda x: x[\"mediaid\"].isin(valid_medias)]\n",
    "    logging.info(f\"{len(df)} entries after sparse media filter\")\n",
    "    df.to_csv(os.path.join(outdir, f\"user_{media}_list.pruned.{part}.csv\"), index=False)"
   ]
  },
  {
   "cell_type": "code",
   "execution_count": null,
   "id": "31056149-0a94-4d99-b386-500f95303e03",
   "metadata": {},
   "outputs": [],
   "source": [
    "for media in ALL_MEDIUMS:\n",
    "    df = prune(media)"
   ]
  }
 ],
 "metadata": {
  "kernelspec": {
   "display_name": "Python 3 (ipykernel)",
   "language": "python",
   "name": "python3"
  },
  "language_info": {
   "codemirror_mode": {
    "name": "ipython",
    "version": 3
   },
   "file_extension": ".py",
   "mimetype": "text/x-python",
   "name": "python",
   "nbconvert_exporter": "python",
   "pygments_lexer": "ipython3",
   "version": "3.10.12"
  }
 },
 "nbformat": 4,
 "nbformat_minor": 5
}
