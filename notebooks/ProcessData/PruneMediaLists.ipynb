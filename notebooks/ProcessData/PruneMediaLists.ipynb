{
 "cells": [
  {
   "cell_type": "markdown",
   "id": "dbf03b87-063f-46fe-b392-0d6399dca361",
   "metadata": {},
   "source": [
    "# Prune Media Lists\n",
    "* Drop any duplicate rows\n",
    "* Drop any users with 3 or fewer item interactions\n",
    "* Drop any unparseable rows"
   ]
  },
  {
   "cell_type": "code",
   "execution_count": null,
   "id": "54b1ceb4-d65a-410a-b876-93c491c0cd4c",
   "metadata": {
    "tags": []
   },
   "outputs": [],
   "source": [
    "import gc\n",
    "import os\n",
    "\n",
    "import numpy as np\n",
    "import pandas as pd\n",
    "from tqdm import tqdm"
   ]
  },
  {
   "cell_type": "code",
   "execution_count": null,
   "id": "992a0836-bb2b-4956-b075-49dbf38aa079",
   "metadata": {},
   "outputs": [],
   "source": [
    "outdir = \"../../data/raw_data\""
   ]
  },
  {
   "cell_type": "code",
   "execution_count": null,
   "id": "4e708ee8-527c-49e4-ad9b-0aed311878f4",
   "metadata": {},
   "outputs": [],
   "source": [
    "HEADER_FIELDS = []"
   ]
  },
  {
   "cell_type": "code",
   "execution_count": null,
   "id": "3a4bd675-00c1-45e0-9f19-fbca55412dd9",
   "metadata": {},
   "outputs": [],
   "source": [
    "def process(media, remove_line, error_file):\n",
    "    source = os.path.join(outdir, f\"user_{media}_list.csv\")\n",
    "    dest = os.path.join(outdir, f\"user_{media}_list.csv~\")\n",
    "    error_file = os.path.join(outdir, error_file)\n",
    "    with open(source, \"r\") as in_file, open(dest, \"w\") as out_file, open(\n",
    "        error_file, \"w\"\n",
    "    ) as err_file:\n",
    "        header = False\n",
    "        for line in tqdm(in_file):\n",
    "            if not header:\n",
    "                header = True\n",
    "                global HEADER_FIELDS\n",
    "                HEADER_FIELDS = line.strip().split(\",\")\n",
    "                out_file.write(line)\n",
    "                continue\n",
    "            try:\n",
    "                if remove_line(media, line):\n",
    "                    err_file.write(line)\n",
    "                else:\n",
    "                    out_file.write(line)\n",
    "            except Exception as e:\n",
    "                print(line)\n",
    "                raise e\n",
    "    os.rename(dest, source)"
   ]
  },
  {
   "cell_type": "code",
   "execution_count": null,
   "id": "7e61301f-3604-4442-937f-21a0a878cf88",
   "metadata": {},
   "outputs": [],
   "source": [
    "def remove_unmatched_titles(media, line):\n",
    "    fields = line.strip().split(\",\")\n",
    "    col = HEADER_FIELDS.index(\"mediaid\")\n",
    "    return int(fields[col]) not in valid_titles"
   ]
  },
  {
   "cell_type": "code",
   "execution_count": null,
   "id": "b8013665-314c-4878-a05d-977737ce273c",
   "metadata": {},
   "outputs": [],
   "source": [
    "def remove_duplicates(media, line, partition):\n",
    "    fields = line.strip().split(\",\")\n",
    "    user_col = HEADER_FIELDS.index(\"userid\")\n",
    "    item_col = HEADER_FIELDS.index(\"mediaid\")\n",
    "    if fields[user_col] not in user_to_uid:\n",
    "        user_to_uid[fields[user_col]] = np.int32(len(user_to_uid))\n",
    "    user = user_to_uid[fields[user_col]]\n",
    "    if user % partition[1] != partition[0]:\n",
    "        return False\n",
    "    item = np.int32(fields[item_col])\n",
    "    key = (user, item)\n",
    "    if key not in seen_items:\n",
    "        seen_items.add(key)\n",
    "        return False\n",
    "    return True"
   ]
  },
  {
   "cell_type": "code",
   "execution_count": null,
   "id": "b80efe2a-2bcd-4f31-9ef9-5a0f55fab5f4",
   "metadata": {},
   "outputs": [],
   "source": [
    "def count_users(media, line):\n",
    "    fields = line.strip().split(\",\")\n",
    "    user_col = HEADER_FIELDS.index(\"userid\")\n",
    "    user = fields[user_col]\n",
    "    if user not in user_counts:\n",
    "        user_counts[user] = 0\n",
    "        user_to_uid[user] = len(user_to_uid)\n",
    "    user_counts[user] += 1\n",
    "    return False"
   ]
  },
  {
   "cell_type": "code",
   "execution_count": null,
   "id": "b0bd5950-e875-46b1-bd27-9a5b003abfdf",
   "metadata": {},
   "outputs": [],
   "source": [
    "def remove_sparse_users(media, line, N=4):\n",
    "    fields = line.strip().split(\",\")\n",
    "    user_col = HEADER_FIELDS.index(\"userid\")\n",
    "    user = fields[user_col]\n",
    "    return user_counts[user] < N"
   ]
  },
  {
   "cell_type": "code",
   "execution_count": null,
   "id": "fc8a40d2-92b1-43bb-82d6-169592b726e2",
   "metadata": {},
   "outputs": [],
   "source": [
    "ALL_MEDIUMS = [\"manga\", \"anime\"]"
   ]
  },
  {
   "cell_type": "code",
   "execution_count": null,
   "id": "96c95859-8b34-4516-b6df-ceb4b184ddc9",
   "metadata": {},
   "outputs": [],
   "source": [
    "for media in ALL_MEDIUMS:\n",
    "    valid_titles = set(pd.read_csv(f\"{outdir}/{media}.csv\")[f'{media}_id'])\n",
    "    process(media, remove_unmatched_titles, f\"prune.{media}.unmatched.csv\")"
   ]
  },
  {
   "cell_type": "code",
   "execution_count": null,
   "id": "f3d8c243-6c69-4bf5-8327-747a505c6dc3",
   "metadata": {},
   "outputs": [],
   "source": [
    "user_to_uid = {}\n",
    "num_partitions = 2 # shard data to reduce memory pressure\n",
    "for media in ALL_MEDIUMS:\n",
    "    for partition in range(num_partitions):\n",
    "        seen_items = set()        \n",
    "        gc.collect()\n",
    "        remove_duplicates_fn = lambda media, line: remove_duplicates(\n",
    "            media, line, (partition, num_partitions)\n",
    "        )\n",
    "        process(media, remove_duplicates_fn, f\"prune.{media}.duplicates.{partition}.csv\")"
   ]
  },
  {
   "cell_type": "code",
   "execution_count": null,
   "id": "bf8c8271-cda0-4a99-b075-b777ba0c1cd1",
   "metadata": {},
   "outputs": [],
   "source": [
    "user_counts = {}\n",
    "user_to_uid = {}\n",
    "for media in ALL_MEDIUMS:\n",
    "    process(media, count_users, f\"prune.{media}.empty.csv\")\n",
    "for media in ALL_MEDIUMS:\n",
    "    process(media, remove_sparse_users, f\"prune.{media}.sparse.csv\")"
   ]
  }
 ],
 "metadata": {
  "kernelspec": {
   "display_name": "Python 3 (ipykernel)",
   "language": "python",
   "name": "python3"
  },
  "language_info": {
   "codemirror_mode": {
    "name": "ipython",
    "version": 3
   },
   "file_extension": ".py",
   "mimetype": "text/x-python",
   "name": "python",
   "nbconvert_exporter": "python",
   "pygments_lexer": "ipython3",
   "version": "3.10.12"
  }
 },
 "nbformat": 4,
 "nbformat_minor": 5
}
