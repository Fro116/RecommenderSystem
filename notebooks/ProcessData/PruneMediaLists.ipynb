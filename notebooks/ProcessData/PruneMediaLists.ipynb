{
 "cells": [
  {
   "cell_type": "markdown",
   "id": "dbf03b87-063f-46fe-b392-0d6399dca361",
   "metadata": {},
   "source": [
    "# Prune Media Lists\n",
    "* Drop any duplicate rows\n",
    "* Drop any users with fewer than 5 item interactions"
   ]
  },
  {
   "cell_type": "code",
   "execution_count": null,
   "id": "54b1ceb4-d65a-410a-b876-93c491c0cd4c",
   "metadata": {
    "tags": []
   },
   "outputs": [],
   "source": [
    "import math\n",
    "import os\n",
    "\n",
    "from tqdm import tqdm"
   ]
  },
  {
   "cell_type": "code",
   "execution_count": null,
   "id": "c69adb3e-9626-4cdf-b4f8-75fcfc33c30f",
   "metadata": {
    "tags": [
     "parameters"
    ]
   },
   "outputs": [],
   "source": [
    "media = \"\""
   ]
  },
  {
   "cell_type": "code",
   "execution_count": null,
   "id": "992a0836-bb2b-4956-b075-49dbf38aa079",
   "metadata": {},
   "outputs": [],
   "source": [
    "outdir = \"../../data/processed_data\""
   ]
  },
  {
   "cell_type": "code",
   "execution_count": null,
   "id": "4e708ee8-527c-49e4-ad9b-0aed311878f4",
   "metadata": {},
   "outputs": [],
   "source": [
    "header_fields = \"\""
   ]
  },
  {
   "cell_type": "code",
   "execution_count": null,
   "id": "3a4bd675-00c1-45e0-9f19-fbca55412dd9",
   "metadata": {},
   "outputs": [],
   "source": [
    "def process(remove_line, error_file):\n",
    "    source = os.path.join(outdir, f\"user_{media}_list.csv\")\n",
    "    dest = os.path.join(outdir, f\"user_{media}_list.csv~\")\n",
    "    error_file = os.path.join(outdir, error_file)\n",
    "    with open(source, \"r\") as in_file, open(dest, \"w\") as out_file, open(\n",
    "        error_file, \"w\"\n",
    "    ) as err_file:\n",
    "        header = False\n",
    "        for line in tqdm(in_file):\n",
    "            if not header:\n",
    "                header = True\n",
    "                global header_fields\n",
    "                header_fields = line.strip().split(\",\")\n",
    "                out_file.write(line)\n",
    "                continue\n",
    "            try:\n",
    "                if remove_line(line):\n",
    "                    err_file.write(line)\n",
    "                else:\n",
    "                    out_file.write(line)\n",
    "            except Exception as e:\n",
    "                print(line)\n",
    "                raise e\n",
    "    os.rename(dest, source)"
   ]
  },
  {
   "cell_type": "code",
   "execution_count": null,
   "id": "b80efe2a-2bcd-4f31-9ef9-5a0f55fab5f4",
   "metadata": {},
   "outputs": [],
   "source": [
    "def count_users(line):\n",
    "    fields = line.strip().split(\",\")\n",
    "    user_col = header_fields.index(\"username\")\n",
    "    user = fields[user_col]\n",
    "    if user not in user_counts:\n",
    "        user_counts[user] = 0\n",
    "        user_to_uid[user] = len(user_to_uid)\n",
    "    user_counts[user] += 1\n",
    "    return False"
   ]
  },
  {
   "cell_type": "code",
   "execution_count": null,
   "id": "b8013665-314c-4878-a05d-977737ce273c",
   "metadata": {},
   "outputs": [],
   "source": [
    "def remove_duplicates(line):\n",
    "    fields = line.strip().split(\",\")\n",
    "    user_col = header_fields.index(\"username\")\n",
    "    item_col = header_fields.index(f\"{media}id\")\n",
    "    key = (user_to_uid[fields[user_col]], int(fields[item_col]))\n",
    "    if key not in seen_items:\n",
    "        seen_items.add(key)\n",
    "        return False\n",
    "    return True"
   ]
  },
  {
   "cell_type": "code",
   "execution_count": null,
   "id": "b0bd5950-e875-46b1-bd27-9a5b003abfdf",
   "metadata": {},
   "outputs": [],
   "source": [
    "def remove_sparse_users(line, N=5):\n",
    "    fields = line.strip().split(\",\")\n",
    "    user_col = header_fields.index(\"username\")\n",
    "    user = fields[user_col]\n",
    "    return user_counts[user] < N"
   ]
  },
  {
   "cell_type": "code",
   "execution_count": null,
   "id": "b460a9b2-0ae3-46b9-89b1-d504cd3b70c1",
   "metadata": {},
   "outputs": [],
   "source": [
    "def remove_invalid_timestamps(line):\n",
    "    fields = line.strip().split(\",\")\n",
    "    timestamp_col = header_fields.index(\"timestamp\")\n",
    "    timestamp = fields[timestamp_col]\n",
    "    return math.isclose(float(timestamp), -1)"
   ]
  },
  {
   "cell_type": "code",
   "execution_count": null,
   "id": "bf8c8271-cda0-4a99-b075-b777ba0c1cd1",
   "metadata": {},
   "outputs": [],
   "source": [
    "user_counts = {}\n",
    "user_to_uid = {}\n",
    "process(count_users, f\"{media}_empty.csv\")"
   ]
  },
  {
   "cell_type": "code",
   "execution_count": null,
   "id": "f3d8c243-6c69-4bf5-8327-747a505c6dc3",
   "metadata": {},
   "outputs": [],
   "source": [
    "seen_items = set()\n",
    "process(remove_duplicates, f\"{media}_duplicates.csv\")\n",
    "seen_items = None"
   ]
  },
  {
   "cell_type": "code",
   "execution_count": null,
   "id": "ec6b5aea-e364-4b0c-93dc-f905d86e2613",
   "metadata": {},
   "outputs": [],
   "source": [
    "process(remove_sparse_users, f\"{media}_sparse_users.csv\")"
   ]
  }
 ],
 "metadata": {
  "kernelspec": {
   "display_name": "Python 3 (ipykernel)",
   "language": "python",
   "name": "python3"
  },
  "language_info": {
   "codemirror_mode": {
    "name": "ipython",
    "version": 3
   },
   "file_extension": ".py",
   "mimetype": "text/x-python",
   "name": "python",
   "nbconvert_exporter": "python",
   "pygments_lexer": "ipython3",
   "version": "3.10.6"
  }
 },
 "nbformat": 4,
 "nbformat_minor": 5
}
