{
 "cells": [
  {
   "cell_type": "markdown",
   "metadata": {},
   "source": [
    "# Item Correlations\n",
    "* Computes the correlation matrix of items and saves it to disk\n",
    "* The correlation betwen item i and item j is given by the adjusted cosine correlation of all user scores."
   ]
  },
  {
   "cell_type": "code",
   "execution_count": 1,
   "metadata": {},
   "outputs": [],
   "source": [
    "import os\n",
    "import pickle\n",
    "import random\n",
    "\n",
    "import numpy as np\n",
    "import pandas as pd\n",
    "from tqdm import tqdm"
   ]
  },
  {
   "cell_type": "code",
   "execution_count": 2,
   "metadata": {},
   "outputs": [],
   "source": [
    "os.chdir(\"../../data/processed_data\")"
   ]
  },
  {
   "cell_type": "code",
   "execution_count": 3,
   "metadata": {
    "tags": []
   },
   "outputs": [],
   "source": [
    "df = pickle.load(open(\"user_anime_lists.pkl\", \"rb\"))"
   ]
  },
  {
   "cell_type": "code",
   "execution_count": 4,
   "metadata": {},
   "outputs": [],
   "source": [
    "df = df.set_index(\"anime_id\")"
   ]
  },
  {
   "cell_type": "code",
   "execution_count": 5,
   "metadata": {},
   "outputs": [],
   "source": [
    "def get_corrs(anime_ids):\n",
    "    item_subset = (\n",
    "        df.loc[anime_ids].reset_index().merge(df.reset_index(), on=\"username\")\n",
    "    )\n",
    "\n",
    "    # compute the adjusted cosine correlation\n",
    "    adj_cos_corr_numerator = item_subset.groupby([\"anime_id_x\", \"anime_id_y\"]).apply(\n",
    "        lambda x: np.dot(x[\"score_x\"], x[\"score_y\"])\n",
    "    )\n",
    "    adj_cos_corr_denom = df.groupby(\"anime_id\").apply(\n",
    "        lambda x: np.sqrt(np.dot(x[\"score\"], x[\"score\"]))\n",
    "    )\n",
    "    x_length = adj_cos_corr_denom[anime_ids]\n",
    "    x_length.index.rename(\"anime_id_x\", inplace=True)\n",
    "    y_length = adj_cos_corr_denom\n",
    "    y_length.index.rename(\"anime_id_y\", inplace=True)\n",
    "    adj_cos_corr = adj_cos_corr_numerator / x_length / y_length\n",
    "    adj_cos_corr = pd.DataFrame(adj_cos_corr, columns=[\"corr\"]).dropna()\n",
    "\n",
    "    # We approximate the variance as the variance for pearson correlation.\n",
    "    # see https://www.jstor.org/stable/2277400?seq=1\n",
    "    corr_sizes = item_subset.groupby([\"anime_id_x\", \"anime_id_y\"]).size()\n",
    "    corrs = adj_cos_corr.merge(\n",
    "        pd.DataFrame(corr_sizes, columns=[\"size\"]), on=[\"anime_id_x\", \"anime_id_y\"]\n",
    "    )\n",
    "    corrs = corrs.loc[lambda x: x[\"size\"] > 2]\n",
    "    corrs[\"corr_var\"] = (1 - corrs[\"corr\"] * corrs[\"corr\"]) ** 2 / (corrs[\"size\"] - 2)\n",
    "\n",
    "    # sorting by |correlation| is useful for downstream tasks\n",
    "    corrs[\"similarity\"] = corrs[\"corr\"].abs()        \n",
    "    corrs = corrs.sort_values(by=\"similarity\").dropna()\n",
    "    return corrs[[\"corr\", \"corr_var\", \"size\"]]"
   ]
  },
  {
   "cell_type": "code",
   "execution_count": 6,
   "metadata": {},
   "outputs": [],
   "source": [
    "# create the output directory\n",
    "outdir = 'item_correlations'\n",
    "if not os.path.exists(outdir):\n",
    "    os.mkdir(outdir)"
   ]
  },
  {
   "cell_type": "code",
   "execution_count": 7,
   "metadata": {},
   "outputs": [],
   "source": [
    "anime_ids = sorted(list(set(df.index)))\n",
    "chunks = np.array_split(anime_ids, len(anime_ids) / 10)"
   ]
  },
  {
   "cell_type": "code",
   "execution_count": 8,
   "metadata": {
    "tags": []
   },
   "outputs": [
    {
     "name": "stderr",
     "output_type": "stream",
     "text": [
      "336it [4:03:41, 43.52s/it]  \n"
     ]
    }
   ],
   "source": [
    "# Store correlations on disk. We need to do this in chunks for memory reasons\n",
    "# The first iterations take ~3 minutes to complete\n",
    "# Note: each chunk can be computed in parallel\n",
    "anime_ids = sorted(list(set(df.index)))\n",
    "chunks = np.array_split(anime_ids, len(anime_ids) / 10)\n",
    "offset = 0\n",
    "for i, chunk in tqdm(enumerate(chunks[offset:])):\n",
    "    corr = get_corrs(chunk)\n",
    "    corr.to_pickle(os.path.join(outdir, f\"{i+offset}.pkl\"))"
   ]
  },
  {
   "cell_type": "code",
   "execution_count": 11,
   "metadata": {},
   "outputs": [
    {
     "name": "stderr",
     "output_type": "stream",
     "text": [
      "100%|██████████| 1386/1386 [00:12<00:00, 112.60it/s]\n"
     ]
    }
   ],
   "source": [
    "# combine all chunks into a single file\n",
    "corr_dfs = []\n",
    "for item in tqdm(os.listdir(outdir)):\n",
    "    path = os.path.join(outdir, item)\n",
    "    corr_dfs.append(pickle.load(open(path, \"rb\")))\n",
    "corr_df = pd.concat(corr_dfs)"
   ]
  },
  {
   "cell_type": "code",
   "execution_count": 13,
   "metadata": {},
   "outputs": [],
   "source": [
    "corr_df.to_pickle(\"item_correlations.pkl\")"
   ]
  },
  {
   "cell_type": "code",
   "execution_count": null,
   "metadata": {},
   "outputs": [],
   "source": []
  }
 ],
 "metadata": {
  "kernelspec": {
   "display_name": "Python 3",
   "language": "python",
   "name": "python3"
  },
  "language_info": {
   "codemirror_mode": {
    "name": "ipython",
    "version": 3
   },
   "file_extension": ".py",
   "mimetype": "text/x-python",
   "name": "python",
   "nbconvert_exporter": "python",
   "pygments_lexer": "ipython3",
   "version": "3.8.5"
  }
 },
 "nbformat": 4,
 "nbformat_minor": 4
}
