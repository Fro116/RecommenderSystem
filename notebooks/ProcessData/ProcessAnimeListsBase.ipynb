{
 "cells": [
  {
   "cell_type": "code",
   "execution_count": null,
   "id": "54b1ceb4-d65a-410a-b876-93c491c0cd4c",
   "metadata": {
    "tags": []
   },
   "outputs": [],
   "source": [
    "import os\n",
    "import random\n",
    "\n",
    "import pandas as pd\n",
    "from tqdm import tqdm"
   ]
  },
  {
   "cell_type": "markdown",
   "id": "bab30521-2275-4d66-8852-48bc0760fd3f",
   "metadata": {},
   "source": [
    "## Load encodings"
   ]
  },
  {
   "cell_type": "code",
   "execution_count": null,
   "id": "9c9821df-73cb-4799-a473-ac18bfc7bf12",
   "metadata": {},
   "outputs": [],
   "source": [
    "outdir = \"../../data/processed_data\""
   ]
  },
  {
   "cell_type": "code",
   "execution_count": null,
   "id": "495292a2-7563-4b27-9422-5c76518ef032",
   "metadata": {},
   "outputs": [],
   "source": [
    "def is_missing_timestamp(ts):\n",
    "    # MAL entries can have missing timestamps, which get mapped to 18000\n",
    "    # Anilist entries can have missing timestamps, which get mapped to 0\n",
    "    return ts == 18000 or ts == 0"
   ]
  },
  {
   "cell_type": "code",
   "execution_count": null,
   "id": "59de0069-b3ea-4c0b-bc73-96952a139785",
   "metadata": {},
   "outputs": [],
   "source": [
    "def get_user_to_first_timestamp(user_anime_lists_fn):\n",
    "    user_to_first_timestamp = {}\n",
    "    with open(user_anime_lists_fn, \"r\") as in_file:\n",
    "        header = False\n",
    "        for line in tqdm(in_file):\n",
    "            if not header:\n",
    "                header = True\n",
    "                continue\n",
    "            fields = line.strip().split(\",\")\n",
    "            user = fields[0]\n",
    "            ts = int(fields[3])\n",
    "            if user not in user_to_first_timestamp:\n",
    "                user_to_first_timestamp[user] = 0\n",
    "            if is_missing_timestamp(ts):\n",
    "                continue\n",
    "            if user_to_first_timestamp[user] == 0 or ts < user_to_first_timestamp[user]:\n",
    "                user_to_first_timestamp[user] = ts\n",
    "    return user_to_first_timestamp"
   ]
  },
  {
   "cell_type": "code",
   "execution_count": null,
   "id": "a4693067-2e53-434c-b271-12cdbbd42c5b",
   "metadata": {},
   "outputs": [],
   "source": [
    "item_to_first_timestamp = {}\n",
    "with open(os.path.join(outdir, \"item_timestamp_encodings.csv\"), \"r\") as in_file:\n",
    "    for line in tqdm(in_file):\n",
    "        fields = line.split(\",\")\n",
    "        item_to_first_timestamp[fields[0]] = int(fields[1])"
   ]
  },
  {
   "cell_type": "code",
   "execution_count": null,
   "id": "9add77d5-2c2d-4f2c-96d9-e2893a5e07ec",
   "metadata": {},
   "outputs": [],
   "source": [
    "with open(os.path.join(outdir, \"processing_encodings.csv\"), \"r\") as in_file:\n",
    "\n",
    "    def parse_line(field):\n",
    "        line = in_file.readline()\n",
    "        fields = line.split(\",\")\n",
    "        assert len(fields) == 2\n",
    "        assert fields[0] == field\n",
    "        return int(fields[1])\n",
    "\n",
    "    min_timestamp = parse_line(\"min_timestamp\")\n",
    "    max_timestamp = parse_line(\"max_timestamp\")\n",
    "    mal_id = parse_line(\"MAL\")\n",
    "    anilist_id = parse_line(\"AniList\")"
   ]
  },
  {
   "cell_type": "code",
   "execution_count": null,
   "id": "f61e2c45-a2dd-4893-9286-03d4a6d44884",
   "metadata": {},
   "outputs": [],
   "source": [
    "seconds_in_year = 3.156e7"
   ]
  },
  {
   "cell_type": "code",
   "execution_count": null,
   "id": "20b446b9-dd23-4974-8c2f-736977b7b934",
   "metadata": {},
   "outputs": [],
   "source": [
    "anime = pd.read_csv(os.path.join(outdir, \"anime.csv\"))\n",
    "anime_to_eps = anime.set_index(\"anime_id\")[\"num_episodes\"].to_dict()"
   ]
  },
  {
   "cell_type": "markdown",
   "id": "d10d7bbc-5d7b-4286-ab3c-035e5d33e5c4",
   "metadata": {},
   "source": [
    "## Process fields"
   ]
  },
  {
   "cell_type": "code",
   "execution_count": null,
   "id": "d5f2a33c-3c9a-4d45-8976-4a46a82a1be3",
   "metadata": {},
   "outputs": [],
   "source": [
    "def completion_percentage(uid, episodes):\n",
    "    uid = int(uid)\n",
    "    episodes = int(episodes)\n",
    "    if uid not in anime_to_eps or anime_to_eps[uid] == 0:\n",
    "        return 0\n",
    "    return episodes / anime_to_eps[uid]"
   ]
  },
  {
   "cell_type": "code",
   "execution_count": null,
   "id": "3a595549-0ba9-4879-ab86-21f0d6c5860a",
   "metadata": {},
   "outputs": [],
   "source": [
    "def is_missing_timestamp(ts):\n",
    "    # MAL entries can have missing timestamps, which get mapped to 18000\n",
    "    # Anilist entries can have missing timestamps, which get mapped to 0\n",
    "    return ts == 18000 or ts == 0"
   ]
  },
  {
   "cell_type": "code",
   "execution_count": null,
   "id": "eac0fe75-84aa-4b1f-971b-7c8081170f6c",
   "metadata": {},
   "outputs": [],
   "source": [
    "def process_timestamp(ts):\n",
    "    ts = int(ts)\n",
    "    if ts < min_timestamp:\n",
    "        return 0\n",
    "    if ts > max_timestamp:\n",
    "        return 1\n",
    "    return (ts - min_timestamp) / max_timestamp"
   ]
  },
  {
   "cell_type": "code",
   "execution_count": null,
   "id": "48784832-9124-4665-ae5e-6ea72aac3f20",
   "metadata": {},
   "outputs": [],
   "source": [
    "def process_user_timestamp(ts, user):\n",
    "    ts = int(ts)\n",
    "    if is_missing_timestamp(ts):\n",
    "        return 0\n",
    "    return (ts - user_to_first_timestamp[user]) / seconds_in_year\n",
    "\n",
    "\n",
    "def process_item_timestamp(ts, item):\n",
    "    ts = int(ts)\n",
    "    if is_missing_timestamp(ts):\n",
    "        return 0\n",
    "    return (int(ts) - item_to_first_timestamp[item]) / seconds_in_year"
   ]
  },
  {
   "cell_type": "code",
   "execution_count": null,
   "id": "dd58eaff-98f3-44d1-a565-bb0a0141d113",
   "metadata": {},
   "outputs": [],
   "source": [
    "def process_source(source):\n",
    "    if source == \"MAL\":\n",
    "        return mal_id\n",
    "    elif source == \"AniList\":\n",
    "        return anilist_id\n",
    "    else:\n",
    "        assert False"
   ]
  },
  {
   "cell_type": "code",
   "execution_count": null,
   "id": "ec1c6614-8ea3-4fe3-ada4-8b40f9ce92df",
   "metadata": {},
   "outputs": [],
   "source": [
    "def process_status(status):\n",
    "    status = int(status)\n",
    "    if status == 0:\n",
    "        status = 5\n",
    "    return status"
   ]
  },
  {
   "cell_type": "code",
   "execution_count": null,
   "id": "b2035d50-4d24-4c65-8761-34d094329b16",
   "metadata": {},
   "outputs": [],
   "source": [
    "def format_float(x):\n",
    "    return f\"{x:.9f}\"\n",
    "\n",
    "\n",
    "def process_line(line):\n",
    "    fields = line.split(\",\")\n",
    "    return \",\".join(\n",
    "        [\n",
    "            fields[0],\n",
    "            fields[1],\n",
    "            fields[2],\n",
    "            format_float(process_timestamp(fields[3])),\n",
    "            format_float(process_user_timestamp(fields[3], fields[0])),\n",
    "            format_float(process_item_timestamp(fields[3], fields[1])),\n",
    "            str(process_status(fields[4])),\n",
    "            format_float(completion_percentage(fields[1], fields[5])),\n",
    "            fields[6],\n",
    "            str(process_source(fields[7])),\n",
    "        ]\n",
    "    )"
   ]
  },
  {
   "cell_type": "code",
   "execution_count": null,
   "id": "c911462c-ccb1-48a6-b263-9dc6f401a8f7",
   "metadata": {},
   "outputs": [],
   "source": [
    "def process(source, dest):\n",
    "    global user_to_first_timestamp \n",
    "    user_to_first_timestamp = get_user_to_first_timestamp(source)\n",
    "    with open(source, \"r\") as in_file, open(dest, \"w\") as out_file:\n",
    "        header = False\n",
    "        for line in tqdm(in_file):\n",
    "            if not header:\n",
    "                header = True\n",
    "                out_file.write(\n",
    "                    \"username,animeid,score,timestamp,user_rel_timestamp,item_rel_timestamp,status,completion,rewatch,source\\n\"\n",
    "                )\n",
    "                continue\n",
    "            try:\n",
    "                out_file.write(f\"{process_line(line.strip())}\\n\")\n",
    "            except Exception as e:\n",
    "                print(line)\n",
    "                raise e"
   ]
  }
 ],
 "metadata": {
  "kernelspec": {
   "display_name": "Python 3 (ipykernel)",
   "language": "python",
   "name": "python3"
  },
  "language_info": {
   "codemirror_mode": {
    "name": "ipython",
    "version": 3
   },
   "file_extension": ".py",
   "mimetype": "text/x-python",
   "name": "python",
   "nbconvert_exporter": "python",
   "pygments_lexer": "ipython3",
   "version": "3.10.4"
  }
 },
 "nbformat": 4,
 "nbformat_minor": 5
}
