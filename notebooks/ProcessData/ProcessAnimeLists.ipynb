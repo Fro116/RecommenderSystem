{
 "cells": [
  {
   "cell_type": "markdown",
   "id": "dbf03b87-063f-46fe-b392-0d6399dca361",
   "metadata": {},
   "source": [
    "# Process Anime Lists\n",
    "* Replace raw features like number_of_episodes_watched with processed features like completion_percentage"
   ]
  },
  {
   "cell_type": "code",
   "execution_count": null,
   "id": "54b1ceb4-d65a-410a-b876-93c491c0cd4c",
   "metadata": {
    "tags": []
   },
   "outputs": [],
   "source": [
    "import os\n",
    "import random\n",
    "\n",
    "import pandas as pd\n",
    "from tqdm import tqdm"
   ]
  },
  {
   "cell_type": "code",
   "execution_count": null,
   "id": "992a0836-bb2b-4956-b075-49dbf38aa079",
   "metadata": {},
   "outputs": [],
   "source": [
    "source_dir = \"../../data/raw_data\""
   ]
  },
  {
   "cell_type": "code",
   "execution_count": null,
   "id": "167c509b-62a9-492d-965c-78e5631e7085",
   "metadata": {},
   "outputs": [],
   "source": [
    "outdir = \"../../data/processed_data\"\n",
    "if not os.path.exists(outdir):\n",
    "    os.mkdir(outdir)"
   ]
  },
  {
   "cell_type": "code",
   "execution_count": null,
   "id": "20b446b9-dd23-4974-8c2f-736977b7b934",
   "metadata": {},
   "outputs": [],
   "source": [
    "anime = pd.read_csv(os.path.join(outdir, \"anime.csv\"))"
   ]
  },
  {
   "cell_type": "code",
   "execution_count": null,
   "id": "d5f2a33c-3c9a-4d45-8976-4a46a82a1be3",
   "metadata": {},
   "outputs": [],
   "source": [
    "anime_to_eps = anime.set_index(\"anime_id\")[\"num_episodes\"].to_dict()\n",
    "\n",
    "\n",
    "def completion_percentage(uid, episodes):\n",
    "    uid = int(uid)\n",
    "    episodes = int(episodes)\n",
    "    if uid not in anime_to_eps or anime_to_eps[uid] == 0:\n",
    "        return 0\n",
    "    return episodes / anime_to_eps[uid]"
   ]
  },
  {
   "cell_type": "code",
   "execution_count": null,
   "id": "3a595549-0ba9-4879-ab86-21f0d6c5860a",
   "metadata": {},
   "outputs": [],
   "source": [
    "def is_missing_timestamp(ts):\n",
    "    # MAL entries can have missing timestamps, which get mapped to 18000\n",
    "    # Anilist entries can have missing timestamps, which get mapped to 0    \n",
    "    return ts == 18000 or ts == 0"
   ]
  },
  {
   "cell_type": "code",
   "execution_count": null,
   "id": "4e694cfb-4147-4264-9937-51e8054f1478",
   "metadata": {
    "tags": []
   },
   "outputs": [],
   "source": [
    "min_timestamp = float(\"inf\")\n",
    "max_timestamp = float(\"-inf\")\n",
    "user_to_first_timestamp = {}\n",
    "item_to_first_timestamp = {}\n",
    "with open(os.path.join(source_dir, \"user_anime_list.csv\"), \"r\") as in_file:\n",
    "    header = False\n",
    "    for line in tqdm(in_file):\n",
    "        if not header:\n",
    "            header = True\n",
    "            continue\n",
    "        fields = line.strip().split(\",\")\n",
    "        user = fields[0]\n",
    "        item = fields[1]\n",
    "        ts = int(fields[3])\n",
    "        if user not in user_to_first_timestamp:\n",
    "            user_to_first_timestamp[user] = 0\n",
    "        if item not in item_to_first_timestamp:\n",
    "            item_to_first_timestamp[item] = 0\n",
    "        if is_missing_timestamp(ts):\n",
    "            continue\n",
    "        if user_to_first_timestamp[user] == 0 or ts < user_to_first_timestamp[user]:\n",
    "            user_to_first_timestamp[user] = ts\n",
    "        if item_to_first_timestamp[item] == 0 or ts < item_to_first_timestamp[item]:\n",
    "            item_to_first_timestamp[item] = ts\n",
    "        if ts < min_timestamp:\n",
    "            min_timestamp = ts\n",
    "        if ts > max_timestamp:\n",
    "            max_timestamp = ts\n",
    "assert min_timestamp > 946702800  # Jan 1, 2000. no rating site existed before then\n",
    "\n",
    "\n",
    "def process_timestamp(ts):\n",
    "    ts = int(ts)\n",
    "    if ts < min_timestamp:\n",
    "        return 0\n",
    "    if ts > max_timestamp:\n",
    "        return 1\n",
    "    return (ts - min_timestamp) / max_timestamp"
   ]
  },
  {
   "cell_type": "code",
   "execution_count": null,
   "id": "48784832-9124-4665-ae5e-6ea72aac3f20",
   "metadata": {},
   "outputs": [],
   "source": [
    "seconds_in_year = 3.156e7\n",
    "\n",
    "\n",
    "def process_user_timestamp(ts, user):\n",
    "    ts = int(ts)\n",
    "    if is_missing_timestamp(ts):\n",
    "        return 0\n",
    "    return (ts - user_to_first_timestamp[user]) / seconds_in_year\n",
    "\n",
    "\n",
    "def process_item_timestamp(ts, item):\n",
    "    ts = int(ts)\n",
    "    if is_missing_timestamp(ts):\n",
    "        return 0    \n",
    "    return (int(ts) - item_to_first_timestamp[item]) / seconds_in_year"
   ]
  },
  {
   "cell_type": "code",
   "execution_count": null,
   "id": "dd58eaff-98f3-44d1-a565-bb0a0141d113",
   "metadata": {},
   "outputs": [],
   "source": [
    "mal_id = 0\n",
    "anilist_id = 1\n",
    "\n",
    "\n",
    "def process_source(source):\n",
    "    if source == \"MAL\":\n",
    "        return mal_id\n",
    "    elif source == \"AniList\":\n",
    "        return anilist_id\n",
    "    else:\n",
    "        assert False"
   ]
  },
  {
   "cell_type": "code",
   "execution_count": null,
   "id": "ec1c6614-8ea3-4fe3-ada4-8b40f9ce92df",
   "metadata": {},
   "outputs": [],
   "source": [
    "def process_status(status):\n",
    "    status = int(status)\n",
    "    if status == 0:\n",
    "        status = 5\n",
    "    return status"
   ]
  },
  {
   "cell_type": "code",
   "execution_count": null,
   "id": "b2035d50-4d24-4c65-8761-34d094329b16",
   "metadata": {},
   "outputs": [],
   "source": [
    "def format_float(x):\n",
    "    return f\"{x:.9f}\"\n",
    "\n",
    "\n",
    "def process_line(line):\n",
    "    fields = line.split(\",\")\n",
    "    return \",\".join(\n",
    "        [\n",
    "            fields[0],\n",
    "            fields[1],\n",
    "            fields[2],\n",
    "            format_float(process_timestamp(fields[3])),\n",
    "            format_float(process_user_timestamp(fields[3], fields[0])),\n",
    "            format_float(process_item_timestamp(fields[3], fields[1])),\n",
    "            str(process_status(fields[4])),\n",
    "            format_float(completion_percentage(fields[1], fields[5])),\n",
    "            fields[6],\n",
    "            str(process_source(fields[7])),\n",
    "        ]\n",
    "    )"
   ]
  },
  {
   "cell_type": "code",
   "execution_count": null,
   "id": "16d3cb3b-ec27-4cc9-b584-08c927174ef6",
   "metadata": {},
   "outputs": [],
   "source": [
    "with open(os.path.join(source_dir, \"encodings.csv\"), \"w\") as out_file:\n",
    "    out_file.write(f\"min_timestamp,{min_timestamp}\\n\")\n",
    "    out_file.write(f\"max_timestamp,{max_timestamp}\\n\")\n",
    "    out_file.write(f\"MAL,{mal_id}\\n\")\n",
    "    out_file.write(f\"AniList,{anilist_id}\\n\")"
   ]
  },
  {
   "cell_type": "code",
   "execution_count": null,
   "id": "c911462c-ccb1-48a6-b263-9dc6f401a8f7",
   "metadata": {},
   "outputs": [],
   "source": [
    "def process(file):\n",
    "    with open(os.path.join(source_dir, file), \"r\") as in_file, open(\n",
    "        os.path.join(outdir, file), \"w\"\n",
    "    ) as out_file:\n",
    "        header = False\n",
    "        for line in tqdm(in_file):\n",
    "            if not header:\n",
    "                header = True\n",
    "                out_file.write(\n",
    "                    \"username,animeid,score,timestamp,user_rel_timestamp,item_rel_timestamp,status,completion,rewatch,source\\n\"\n",
    "                )\n",
    "                continue\n",
    "            try:\n",
    "                out_file.write(f\"{process_line(line.strip())}\\n\")\n",
    "            except Exception as e:\n",
    "                print(line)\n",
    "                raise e"
   ]
  },
  {
   "cell_type": "code",
   "execution_count": null,
   "id": "8fd86308-548e-45f4-b825-765ee0c16e34",
   "metadata": {},
   "outputs": [],
   "source": [
    "process(\"user_anime_list.csv\")"
   ]
  }
 ],
 "metadata": {
  "kernelspec": {
   "display_name": "Python 3 (ipykernel)",
   "language": "python",
   "name": "python3"
  },
  "language_info": {
   "codemirror_mode": {
    "name": "ipython",
    "version": 3
   },
   "file_extension": ".py",
   "mimetype": "text/x-python",
   "name": "python",
   "nbconvert_exporter": "python",
   "pygments_lexer": "ipython3",
   "version": "3.8.9"
  }
 },
 "nbformat": 4,
 "nbformat_minor": 5
}
