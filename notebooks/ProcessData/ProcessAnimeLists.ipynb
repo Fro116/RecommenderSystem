{
 "cells": [
  {
   "cell_type": "markdown",
   "id": "dbf03b87-063f-46fe-b392-0d6399dca361",
   "metadata": {},
   "source": [
    "# Process Anime Lists\n",
    "* Replace raw features like number_of_episodes_watched with processed features like completion_percentage"
   ]
  },
  {
   "cell_type": "code",
   "execution_count": null,
   "id": "54b1ceb4-d65a-410a-b876-93c491c0cd4c",
   "metadata": {
    "tags": []
   },
   "outputs": [],
   "source": [
    "import os\n",
    "\n",
    "import pandas as pd\n",
    "from tqdm import tqdm"
   ]
  },
  {
   "cell_type": "markdown",
   "id": "cf40a3a5-d9dc-4a8d-b4fc-e169f0b76fa1",
   "metadata": {},
   "source": [
    "## Save encodings"
   ]
  },
  {
   "cell_type": "code",
   "execution_count": null,
   "id": "992a0836-bb2b-4956-b075-49dbf38aa079",
   "metadata": {},
   "outputs": [],
   "source": [
    "source_dir = \"../../data/raw_data\"\n",
    "outdir = \"../../data/processed_data\""
   ]
  },
  {
   "cell_type": "code",
   "execution_count": null,
   "id": "31e621ed-b0c5-4009-9abd-ca7bb86a9180",
   "metadata": {},
   "outputs": [],
   "source": [
    "def is_missing_timestamp(ts):\n",
    "    # MAL entries can have missing timestamps, which get mapped to 18000\n",
    "    # Anilist entries can have missing timestamps, which get mapped to 0\n",
    "    return ts == 18000 or ts == 0"
   ]
  },
  {
   "cell_type": "code",
   "execution_count": null,
   "id": "4e694cfb-4147-4264-9937-51e8054f1478",
   "metadata": {
    "tags": []
   },
   "outputs": [],
   "source": [
    "min_timestamp = float(\"inf\")\n",
    "max_timestamp = float(\"-inf\")\n",
    "item_to_first_timestamp = {}\n",
    "with open(os.path.join(source_dir, \"user_anime_list.csv\"), \"r\") as in_file:\n",
    "    header = False\n",
    "    for line in tqdm(in_file):\n",
    "        if not header:\n",
    "            header = True\n",
    "            continue\n",
    "        fields = line.strip().split(\",\")\n",
    "        item = fields[1]\n",
    "        ts = int(fields[3])\n",
    "        if item not in item_to_first_timestamp:\n",
    "            item_to_first_timestamp[item] = 0\n",
    "        if is_missing_timestamp(ts):\n",
    "            continue\n",
    "        if item_to_first_timestamp[item] == 0 or ts < item_to_first_timestamp[item]:\n",
    "            item_to_first_timestamp[item] = ts\n",
    "        if ts < min_timestamp:\n",
    "            min_timestamp = ts\n",
    "        if ts > max_timestamp:\n",
    "            max_timestamp = ts\n",
    "assert min_timestamp > 946702800  # Jan 1, 2000. no rating site existed before then"
   ]
  },
  {
   "cell_type": "code",
   "execution_count": null,
   "id": "8f2ffe24-4354-465e-a2c1-43350a4cfedf",
   "metadata": {},
   "outputs": [],
   "source": [
    "mal_id = 0\n",
    "anilist_id = 1"
   ]
  },
  {
   "cell_type": "code",
   "execution_count": null,
   "id": "16d3cb3b-ec27-4cc9-b584-08c927174ef6",
   "metadata": {},
   "outputs": [],
   "source": [
    "with open(os.path.join(outdir, \"processing_encodings.csv\"), \"w\") as out_file:\n",
    "    out_file.write(f\"min_timestamp,{min_timestamp}\\n\")\n",
    "    out_file.write(f\"max_timestamp,{max_timestamp}\\n\")\n",
    "    out_file.write(f\"MAL,{mal_id}\\n\")\n",
    "    out_file.write(f\"AniList,{anilist_id}\\n\")"
   ]
  },
  {
   "cell_type": "code",
   "execution_count": null,
   "id": "17a2a329-1ffe-40a0-a23b-a498deb4b89b",
   "metadata": {},
   "outputs": [],
   "source": [
    "with open(os.path.join(outdir, \"item_timestamp_encodings.csv\"), \"w\") as out_file:\n",
    "    keys = sorted(int(x) for x in item_to_first_timestamp)\n",
    "    for k in tqdm(keys):\n",
    "        out_file.write(f\"{k},{item_to_first_timestamp[str(k)]}\\n\")"
   ]
  },
  {
   "cell_type": "markdown",
   "id": "beb59ac8-c2de-4ef7-a777-793a170590b7",
   "metadata": {},
   "source": [
    "## Process file"
   ]
  },
  {
   "cell_type": "code",
   "execution_count": null,
   "id": "6d45a3cd-14c1-4bff-a077-859274d241ba",
   "metadata": {},
   "outputs": [],
   "source": [
    "%run ProcessAnimeListsBase.ipynb"
   ]
  },
  {
   "cell_type": "code",
   "execution_count": null,
   "id": "8fd86308-548e-45f4-b825-765ee0c16e34",
   "metadata": {},
   "outputs": [],
   "source": [
    "process(\n",
    "    os.path.join(source_dir, \"user_anime_list.csv\"),\n",
    "    os.path.join(outdir, \"user_anime_list.csv\"),\n",
    ")"
   ]
  }
 ],
 "metadata": {
  "kernelspec": {
   "display_name": "Python 3 (ipykernel)",
   "language": "python",
   "name": "python3"
  },
  "language_info": {
   "codemirror_mode": {
    "name": "ipython",
    "version": 3
   },
   "file_extension": ".py",
   "mimetype": "text/x-python",
   "name": "python",
   "nbconvert_exporter": "python",
   "pygments_lexer": "ipython3",
   "version": "3.10.4"
  }
 },
 "nbformat": 4,
 "nbformat_minor": 5
}
