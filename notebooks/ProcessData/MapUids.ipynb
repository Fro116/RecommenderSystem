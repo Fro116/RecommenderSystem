{
 "cells": [
  {
   "cell_type": "markdown",
   "id": "dbf03b87-063f-46fe-b392-0d6399dca361",
   "metadata": {},
   "source": [
    "# Map uids\n",
    "* creates encodings for username, mediaid, and timestamp fields"
   ]
  },
  {
   "cell_type": "code",
   "execution_count": null,
   "id": "d0924cc1-ece9-4295-b7b0-df365e2f5f43",
   "metadata": {},
   "outputs": [],
   "source": [
    "import DataFrames: DataFrame\n",
    "import Dates\n",
    "import Glob\n",
    "import ProgressMeter\n",
    "import DataFrames\n",
    "import CSV\n",
    "import Random\n",
    "import JupyterFormatter"
   ]
  },
  {
   "cell_type": "code",
   "execution_count": null,
   "id": "fedb686b-9508-44d2-add8-e4793c794dc1",
   "metadata": {},
   "outputs": [],
   "source": [
    "JupyterFormatter.enable_autoformat();"
   ]
  },
  {
   "cell_type": "markdown",
   "id": "cf40a3a5-d9dc-4a8d-b4fc-e169f0b76fa1",
   "metadata": {},
   "source": [
    "## Timestamps"
   ]
  },
  {
   "cell_type": "code",
   "execution_count": null,
   "id": "992a0836-bb2b-4956-b075-49dbf38aa079",
   "metadata": {},
   "outputs": [],
   "source": [
    "source_dir = \"../../data/raw_data\"\n",
    "outdir = \"../../data/processed_data\";"
   ]
  },
  {
   "cell_type": "code",
   "execution_count": null,
   "id": "f9f03108-90fc-4bda-8b7c-36d22e6efed9",
   "metadata": {},
   "outputs": [],
   "source": [
    "function save_timestamps()\n",
    "    # no rating site existed before then\n",
    "    min_timestamp = Dates.datetime2unix(Dates.DateTime(2000, 1, 1))\n",
    "    max_timestamp = -Inf\n",
    "    files = reduce(\n",
    "        vcat,\n",
    "        [\n",
    "            Glob.glob(\"../../data/raw_data/user_$(x)_list.[0-9]*.csv\") for\n",
    "            x in [\"manga\", \"anime\"]\n",
    "        ],\n",
    "    )\n",
    "    ProgressMeter.@showprogress for t = 1:length(files)\n",
    "        df = CSV.read(files[t], DataFrame, select = [:updated_at])\n",
    "        max_timestamp = max(max_timestamp, maximum(df.updated_at))\n",
    "    end\n",
    "    @assert max_timestamp != -Inf\n",
    "    @assert max_timestamp > min_timestamp\n",
    "    open(joinpath(outdir, \"timestamps.csv\"), \"w\") do f\n",
    "        write(f, \"min_timestamp,$(Int(min_timestamp))\\n\")\n",
    "        write(f, \"max_timestamp,$(Int(max_timestamp))\\n\")\n",
    "    end\n",
    "end;"
   ]
  },
  {
   "cell_type": "markdown",
   "id": "5ca8f58d-a198-4fa1-932e-efa3d9b44408",
   "metadata": {},
   "source": [
    "## User and media ids"
   ]
  },
  {
   "cell_type": "code",
   "execution_count": null,
   "id": "cb748eee-7cd2-4675-ab19-155a3250b936",
   "metadata": {},
   "outputs": [],
   "source": [
    "function get_unique_values(media, col)\n",
    "    values = Set{String}()\n",
    "    files = sort(Glob.glob(\"$source_dir/user_$(media)_list.[0-9]*.csv\"))\n",
    "    ProgressMeter.@showprogress for t = 1:length(files)\n",
    "        df = CSV.read(files[t], DataFrame, select = [col])\n",
    "        values = union(values, Set(df[:, col]))\n",
    "    end\n",
    "    values\n",
    "end;"
   ]
  },
  {
   "cell_type": "code",
   "execution_count": null,
   "id": "57e2cc64-a50f-462e-8fe7-0106695c9aeb",
   "metadata": {},
   "outputs": [],
   "source": [
    "function shuffle_usernames()\n",
    "    usernames = DataFrame(\n",
    "        userid = collect(\n",
    "            get_unique_values(\"manga\", :userid) ∪ get_unique_values(\"anime\", :userid),\n",
    "        ),\n",
    "    )\n",
    "    Random.shuffle!(usernames.userid)\n",
    "    usernames.uid = 0:(DataFrames.nrow(usernames)-1)\n",
    "    CSV.write(\"$outdir/username_to_uid.csv\", usernames, writeheader = true)\n",
    "end;"
   ]
  },
  {
   "cell_type": "code",
   "execution_count": null,
   "id": "ee1d6959-8611-477b-9ffa-127b61fe70c2",
   "metadata": {},
   "outputs": [],
   "source": [
    "function shuffle_media_ids(media)\n",
    "    items = DataFrame(mediaid = collect(get_unique_values(media, :mediaid)))\n",
    "    Random.shuffle!(items.mediaid)\n",
    "    items.uid = 0:(DataFrames.nrow(items)-1)\n",
    "    CSV.write(\"$outdir/$(media)_to_uid.csv\", items, writeheader = true)\n",
    "end;"
   ]
  },
  {
   "cell_type": "markdown",
   "id": "beb59ac8-c2de-4ef7-a777-793a170590b7",
   "metadata": {},
   "source": [
    "# Process files"
   ]
  },
  {
   "cell_type": "code",
   "execution_count": null,
   "id": "24bccc3a-4505-4356-85ab-b75cbda4a599",
   "metadata": {},
   "outputs": [],
   "source": [
    "save_timestamps();"
   ]
  },
  {
   "cell_type": "code",
   "execution_count": null,
   "id": "324ccd6d-1ae0-4232-8521-7977f9f86f6c",
   "metadata": {
    "scrolled": true
   },
   "outputs": [],
   "source": [
    "shuffle_usernames();"
   ]
  },
  {
   "cell_type": "code",
   "execution_count": null,
   "id": "f593e530-9ffe-462e-8eee-9b0bfc0488d1",
   "metadata": {},
   "outputs": [],
   "source": [
    "for media in [\"manga\", \"anime\"]\n",
    "    shuffle_media_ids(media)\n",
    "end;"
   ]
  }
 ],
 "metadata": {
  "kernelspec": {
   "display_name": "Julia 1.9.4",
   "language": "julia",
   "name": "julia-1.9"
  },
  "language_info": {
   "file_extension": ".jl",
   "mimetype": "application/julia",
   "name": "julia",
   "version": "1.9.4"
  }
 },
 "nbformat": 4,
 "nbformat_minor": 5
}
