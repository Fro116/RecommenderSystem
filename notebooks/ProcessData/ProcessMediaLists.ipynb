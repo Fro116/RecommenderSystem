{
 "cells": [
  {
   "cell_type": "markdown",
   "id": "dbf03b87-063f-46fe-b392-0d6399dca361",
   "metadata": {},
   "source": [
    "# Process Media Lists\n",
    "* Replace raw fields with processed fields"
   ]
  },
  {
   "cell_type": "code",
   "execution_count": null,
   "id": "54b1ceb4-d65a-410a-b876-93c491c0cd4c",
   "metadata": {
    "tags": []
   },
   "outputs": [],
   "source": [
    "import datetime\n",
    "import glob\n",
    "import os\n",
    "import random\n",
    "\n",
    "import pandas as pd\n",
    "from tqdm import tqdm"
   ]
  },
  {
   "cell_type": "code",
   "execution_count": null,
   "id": "06bbfe18-015e-47d1-b17d-aff23a6031f2",
   "metadata": {
    "editable": true,
    "slideshow": {
     "slide_type": ""
    },
    "tags": [
     "parameters"
    ]
   },
   "outputs": [],
   "source": [
    "seed = 0"
   ]
  },
  {
   "cell_type": "markdown",
   "id": "178a15f4-b602-44cc-ba3b-970362bebb86",
   "metadata": {},
   "source": [
    "# Save encodings"
   ]
  },
  {
   "cell_type": "code",
   "execution_count": null,
   "id": "2c5d83b2-7706-4233-ad48-8cbd69eb374b",
   "metadata": {
    "editable": true,
    "slideshow": {
     "slide_type": ""
    },
    "tags": []
   },
   "outputs": [],
   "source": [
    "random.seed(seed)"
   ]
  },
  {
   "cell_type": "markdown",
   "id": "cf40a3a5-d9dc-4a8d-b4fc-e169f0b76fa1",
   "metadata": {},
   "source": [
    "## Timestamps"
   ]
  },
  {
   "cell_type": "code",
   "execution_count": null,
   "id": "992a0836-bb2b-4956-b075-49dbf38aa079",
   "metadata": {},
   "outputs": [],
   "source": [
    "source_dir = \"../../data/raw_data\"\n",
    "outdir = \"../../data/processed_data\""
   ]
  },
  {
   "cell_type": "code",
   "execution_count": null,
   "id": "e6d3dcbc-1a96-4cd6-b936-5c7f2f778643",
   "metadata": {},
   "outputs": [],
   "source": [
    "def save_timestamps():\n",
    "    # no rating site existed before then\n",
    "    min_timestamp = int(datetime.datetime(2000, 1, 1).timestamp())\n",
    "\n",
    "    max_timestamp = float(\"-inf\")\n",
    "    for source in tqdm([\"mal\", \"anilist\", \"kitsu\", \"animeplanet\"]):\n",
    "        for fn in sorted(\n",
    "            glob.glob(f\"../../data/{source}/user_media_facts/user_status.*.csv\")\n",
    "        ):\n",
    "            with open(fn, \"r\") as f:\n",
    "                header = False\n",
    "                for line in f:\n",
    "                    fields = line.strip().split(\",\")\n",
    "                    if not header:\n",
    "                        header = True\n",
    "                        ts_col = fields.index(\"access_timestamp\")\n",
    "                        continue\n",
    "                    ts = int(fields[ts_col])\n",
    "                    if ts > max_timestamp:\n",
    "                        max_timestamp = ts\n",
    "    assert max_timestamp != float(\"-inf\")\n",
    "\n",
    "    with open(os.path.join(outdir, f\"timestamps.csv\"), \"w\") as f:\n",
    "        f.write(f\"min_timestamp,{min_timestamp}\\n\")\n",
    "        f.write(f\"max_timestamp,{max_timestamp}\\n\")\n",
    "    return max_timestamp"
   ]
  },
  {
   "cell_type": "markdown",
   "id": "5ca8f58d-a198-4fa1-932e-efa3d9b44408",
   "metadata": {},
   "source": [
    "## User and media ids"
   ]
  },
  {
   "cell_type": "code",
   "execution_count": null,
   "id": "2a0a36cf-3c5d-4265-9d08-b516b4c17bed",
   "metadata": {},
   "outputs": [],
   "source": [
    "def get_unique_values(media, col):\n",
    "    values = set()\n",
    "    file = f\"{source_dir}/user_{media}_list.csv\"\n",
    "    with open(file, \"r\") as in_file:\n",
    "        header = False\n",
    "        for line in tqdm(in_file):\n",
    "            fields = line.strip().split(\",\")\n",
    "            if not header:\n",
    "                header = True\n",
    "                idx = fields.index(col)\n",
    "                continue\n",
    "            values.add(fields[idx])\n",
    "    return list(values)"
   ]
  },
  {
   "cell_type": "code",
   "execution_count": null,
   "id": "ad4e8414-487e-4919-b42a-de4ea2255966",
   "metadata": {},
   "outputs": [],
   "source": [
    "def shuffle_usernames():\n",
    "    usernames = pd.DataFrame()\n",
    "    shuffled_usernames = list(\n",
    "        set(get_unique_values(\"manga\", \"userid\"))\n",
    "        | set(get_unique_values(\"anime\", \"userid\"))\n",
    "    )\n",
    "    random.shuffle(shuffled_usernames)\n",
    "    usernames[\"userid\"] = shuffled_usernames\n",
    "    usernames[\"uid\"] = usernames.index\n",
    "    usernames.to_csv(f\"{outdir}/username_to_uid.csv\", index=False)"
   ]
  },
  {
   "cell_type": "code",
   "execution_count": null,
   "id": "828c01b5-10fc-4abf-a392-868c25af1be3",
   "metadata": {},
   "outputs": [],
   "source": [
    "def shuffle_media_ids(media):\n",
    "    items = pd.DataFrame()\n",
    "    shuffled_items = get_unique_values(media, \"mediaid\")\n",
    "    random.shuffle(shuffled_items)\n",
    "    items[\"mediaid\"] = shuffled_items\n",
    "    items[\"uid\"] = items.index\n",
    "    items.to_csv(f\"{outdir}/{media}_to_uid.csv\", index=False)"
   ]
  },
  {
   "cell_type": "markdown",
   "id": "beb59ac8-c2de-4ef7-a777-793a170590b7",
   "metadata": {},
   "source": [
    "# Process files"
   ]
  },
  {
   "cell_type": "code",
   "execution_count": null,
   "id": "171baffc-1c32-453e-91aa-8e5e6ace22be",
   "metadata": {},
   "outputs": [],
   "source": [
    "save_timestamps()"
   ]
  },
  {
   "cell_type": "code",
   "execution_count": null,
   "id": "324ccd6d-1ae0-4232-8521-7977f9f86f6c",
   "metadata": {},
   "outputs": [],
   "source": [
    "shuffle_usernames()\n",
    "for media in [\"manga\", \"anime\"]:\n",
    "    shuffle_media_ids(media)"
   ]
  },
  {
   "cell_type": "code",
   "execution_count": null,
   "id": "6d45a3cd-14c1-4bff-a077-859274d241ba",
   "metadata": {},
   "outputs": [],
   "source": [
    "%run ProcessMediaListsBase.ipynb"
   ]
  },
  {
   "cell_type": "code",
   "execution_count": null,
   "id": "8fd86308-548e-45f4-b825-765ee0c16e34",
   "metadata": {
    "scrolled": true
   },
   "outputs": [],
   "source": [
    "for medium in [\"manga\", \"anime\"]:\n",
    "    process(\n",
    "        f\"{source_dir}/user_{medium}_list.csv\",\n",
    "        f\"{outdir}/user_{medium}_list.csv\",\n",
    "    )"
   ]
  }
 ],
 "metadata": {
  "kernelspec": {
   "display_name": "Python 3 (ipykernel)",
   "language": "python",
   "name": "python3"
  },
  "language_info": {
   "codemirror_mode": {
    "name": "ipython",
    "version": 3
   },
   "file_extension": ".py",
   "mimetype": "text/x-python",
   "name": "python",
   "nbconvert_exporter": "python",
   "pygments_lexer": "ipython3",
   "version": "3.10.12"
  }
 },
 "nbformat": 4,
 "nbformat_minor": 5
}
