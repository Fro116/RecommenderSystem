{
 "cells": [
  {
   "cell_type": "markdown",
   "id": "dbf03b87-063f-46fe-b392-0d6399dca361",
   "metadata": {},
   "source": [
    "# Process Media Lists\n",
    "* Replace raw fields with processed fields"
   ]
  },
  {
   "cell_type": "code",
   "execution_count": null,
   "id": "1bc24ed7-b645-4a61-a528-9e77d7c5f2c2",
   "metadata": {
    "editable": true,
    "slideshow": {
     "slide_type": ""
    },
    "tags": [
     "parameters"
    ]
   },
   "outputs": [],
   "source": [
    "part = 0"
   ]
  },
  {
   "cell_type": "code",
   "execution_count": null,
   "id": "6d45a3cd-14c1-4bff-a077-859274d241ba",
   "metadata": {},
   "outputs": [],
   "source": [
    "%run ProcessMediaListsBase.ipynb"
   ]
  },
  {
   "cell_type": "code",
   "execution_count": null,
   "id": "8fd86308-548e-45f4-b825-765ee0c16e34",
   "metadata": {},
   "outputs": [],
   "source": [
    "for medium in [\"manga\", \"anime\"]:\n",
    "    process(\n",
    "        f\"../../data/raw_data/user_{medium}_list.pruned.{part}.csv\",\n",
    "        f\"../../data/processed_data/user_{medium}_list.{part}.csv\",\n",
    "    )"
   ]
  }
 ],
 "metadata": {
  "kernelspec": {
   "display_name": "Python 3 (ipykernel)",
   "language": "python",
   "name": "python3"
  },
  "language_info": {
   "codemirror_mode": {
    "name": "ipython",
    "version": 3
   },
   "file_extension": ".py",
   "mimetype": "text/x-python",
   "name": "python",
   "nbconvert_exporter": "python",
   "pygments_lexer": "ipython3",
   "version": "3.10.12"
  }
 },
 "nbformat": 4,
 "nbformat_minor": 5
}
