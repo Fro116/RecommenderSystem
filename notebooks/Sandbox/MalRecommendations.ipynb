{
 "cells": [
  {
   "cell_type": "code",
   "execution_count": 1,
   "metadata": {},
   "outputs": [],
   "source": [
    "import functools\n",
    "import os\n",
    "import pickle\n",
    "import random\n",
    "\n",
    "import numpy as np\n",
    "import pandas as pd\n",
    "import scipy.stats as st\n",
    "import statsmodels.formula.api as smf\n",
    "from scipy.special import gamma\n",
    "from tqdm import tqdm\n",
    "\n",
    "\n",
    "@functools.wraps(smf.ols)\n",
    "def lm(*args, **kwargs):\n",
    "    return smf.ols(*args, **kwargs).fit()"
   ]
  },
  {
   "cell_type": "code",
   "execution_count": 2,
   "metadata": {},
   "outputs": [],
   "source": [
    "os.chdir(\"../../data/processed_data\")"
   ]
  },
  {
   "cell_type": "code",
   "execution_count": 3,
   "metadata": {},
   "outputs": [],
   "source": [
    "recommendee = \"Fro116\""
   ]
  },
  {
   "cell_type": "code",
   "execution_count": 4,
   "metadata": {},
   "outputs": [],
   "source": [
    "anime = pd.read_csv(\"../cleaned_data/anime.csv\")\n",
    "anime = anime[[\"anime_id\", \"title\", \"type\"]]"
   ]
  },
  {
   "cell_type": "code",
   "execution_count": 5,
   "metadata": {
    "tags": []
   },
   "outputs": [],
   "source": [
    "df = pickle.load(open(\"user_anime_lists.pkl\", \"rb\"))\n",
    "user_df = pickle.load(open(f\"../../data/recommendations/{recommendee}/user_anime_list.pkl\", \"rb\"))\n",
    "df = pd.concat([df.loc[lambda x: ~x.username.isin(user_df.username)], user_df], ignore_index=True)"
   ]
  },
  {
   "cell_type": "code",
   "execution_count": 6,
   "metadata": {},
   "outputs": [],
   "source": [
    "anime = pd.read_csv(\"../sandbox/anime.csv\")"
   ]
  },
  {
   "cell_type": "code",
   "execution_count": 7,
   "metadata": {},
   "outputs": [
    {
     "data": {
      "text/plain": [
       "title                                                        Alien 9\n",
       "medium                                                           ova\n",
       "related_anime                                                     []\n",
       "recommendations    [{'anime_id': 30, 'num_recommendations': 6}, {...\n",
       "genres               ['Sci-Fi', 'Horror', 'Psychological', 'School']\n",
       "source                                                         manga\n",
       "num_episodes                                                       4\n",
       "status                                               finished_airing\n",
       "Name: 1177, dtype: object"
      ]
     },
     "execution_count": 7,
     "metadata": {},
     "output_type": "execute_result"
    }
   ],
   "source": [
    "anime.set_index(\"anime_id\").loc[1177]"
   ]
  },
  {
   "cell_type": "code",
   "execution_count": 8,
   "metadata": {
    "tags": []
   },
   "outputs": [
    {
     "name": "stderr",
     "output_type": "stream",
     "text": [
      "100%|██████████| 17871/17871 [00:15<00:00, 1158.43it/s]\n"
     ]
    }
   ],
   "source": [
    "rec_dfs = []\n",
    "for i, row in tqdm(anime.iterrows(), total=len(anime)):\n",
    "    rec_df = pd.DataFrame.from_records(eval(row[\"recommendations\"]))\n",
    "    rec_df[\"target\"] = row[\"anime_id\"]\n",
    "    rec_df = rec_df.rename({\"anime_id\": \"source\"}, axis=1)\n",
    "    rec_dfs.append(rec_df)\n",
    "rec_df = pd.concat(rec_dfs, ignore_index=True).astype(int)"
   ]
  },
  {
   "cell_type": "code",
   "execution_count": 9,
   "metadata": {},
   "outputs": [],
   "source": [
    "rec_df_flipped = rec_df.rename({\"source\": \"target\", \"target\": \"source\"}, axis=1)"
   ]
  },
  {
   "cell_type": "code",
   "execution_count": 10,
   "metadata": {},
   "outputs": [],
   "source": [
    "rec_df_full = pd.concat([rec_df, rec_df_flipped], ignore_index=True)\n",
    "rec_df_full = rec_df_full.groupby([\"source\", \"target\"]).sum().reset_index()"
   ]
  },
  {
   "cell_type": "code",
   "execution_count": null,
   "metadata": {},
   "outputs": [],
   "source": []
  },
  {
   "cell_type": "code",
   "execution_count": 11,
   "metadata": {},
   "outputs": [],
   "source": [
    "user_df = df.loc[lambda x: x[\"username\"] == recommendee]"
   ]
  },
  {
   "cell_type": "code",
   "execution_count": 12,
   "metadata": {},
   "outputs": [],
   "source": [
    "user_recs = (\n",
    "    user_df.set_index(\"anime_id\")\n",
    "    .merge(rec_df, left_on=[\"anime_id\"], right_on=[\"source\"])\n",
    "    .drop(\"source\", axis=1)\n",
    "    .rename({\"target\": \"anime_id\"}, axis=1)\n",
    ")"
   ]
  },
  {
   "cell_type": "code",
   "execution_count": 41,
   "metadata": {},
   "outputs": [],
   "source": [
    "α = 1\n",
    "pred_scores = user_recs.groupby(\"anime_id\").apply(\n",
    "    lambda x: np.dot(x[\"score\"], x[\"num_recommendations\"] ** α)\n",
    "    / (x[\"num_recommendations\"]** α).sum()\n",
    ")"
   ]
  },
  {
   "cell_type": "code",
   "execution_count": 42,
   "metadata": {},
   "outputs": [],
   "source": [
    "pred_df = user_df.set_index(\"anime_id\")\n",
    "pred_df[\"pred_score\"] = pred_scores"
   ]
  },
  {
   "cell_type": "code",
   "execution_count": 43,
   "metadata": {},
   "outputs": [
    {
     "data": {
      "text/plain": [
       "(298, 349)"
      ]
     },
     "execution_count": 43,
     "metadata": {},
     "output_type": "execute_result"
    }
   ],
   "source": [
    "len(pred_df.dropna()), len(pred_df)"
   ]
  },
  {
   "cell_type": "code",
   "execution_count": 44,
   "metadata": {},
   "outputs": [
    {
     "name": "stdout",
     "output_type": "stream",
     "text": [
      "                                 OLS Regression Results                                \n",
      "=======================================================================================\n",
      "Dep. Variable:                  score   R-squared (uncentered):                   0.014\n",
      "Model:                            OLS   Adj. R-squared (uncentered):              0.012\n",
      "Method:                 Least Squares   F-statistic:                              5.099\n",
      "Date:                Mon, 24 May 2021   Prob (F-statistic):                      0.0246\n",
      "Time:                        09:50:47   Log-Likelihood:                         -679.76\n",
      "No. Observations:                 349   AIC:                                      1362.\n",
      "Df Residuals:                     348   BIC:                                      1365.\n",
      "Df Model:                           1                                                  \n",
      "Covariance Type:            nonrobust                                                  \n",
      "==============================================================================\n",
      "                 coef    std err          t      P>|t|      [0.025      0.975]\n",
      "------------------------------------------------------------------------------\n",
      "pred_score     0.1944      0.086      2.258      0.025       0.025       0.364\n",
      "==============================================================================\n",
      "Omnibus:                        5.378   Durbin-Watson:                   1.353\n",
      "Prob(Omnibus):                  0.068   Jarque-Bera (JB):                5.486\n",
      "Skew:                          -0.302   Prob(JB):                       0.0644\n",
      "Kurtosis:                       2.888   Cond. No.                         1.00\n",
      "==============================================================================\n",
      "\n",
      "Notes:\n",
      "[1] R² is computed without centering (uncentered) since the model does not contain a constant.\n",
      "[2] Standard Errors assume that the covariance matrix of the errors is correctly specified.\n"
     ]
    }
   ],
   "source": [
    "print(lm(\"score ~ pred_score + 0\", pred_df.fillna(0)).summary())"
   ]
  },
  {
   "cell_type": "code",
   "execution_count": 45,
   "metadata": {},
   "outputs": [
    {
     "data": {
      "text/plain": [
       "username        Fro116\n",
       "score         2.768929\n",
       "score_var     2.786994\n",
       "pred_score    0.158903\n",
       "Name: 634, dtype: object"
      ]
     },
     "execution_count": 45,
     "metadata": {},
     "output_type": "execute_result"
    }
   ],
   "source": [
    "pred_df.loc[634]"
   ]
  },
  {
   "cell_type": "code",
   "execution_count": null,
   "metadata": {},
   "outputs": [],
   "source": []
  }
 ],
 "metadata": {
  "kernelspec": {
   "display_name": "Python 3",
   "language": "python",
   "name": "python3"
  },
  "language_info": {
   "codemirror_mode": {
    "name": "ipython",
    "version": 3
   },
   "file_extension": ".py",
   "mimetype": "text/x-python",
   "name": "python",
   "nbconvert_exporter": "python",
   "pygments_lexer": "ipython3",
   "version": "3.8.5"
  }
 },
 "nbformat": 4,
 "nbformat_minor": 4
}
