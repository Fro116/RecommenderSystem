{
 "cells": [
  {
   "cell_type": "markdown",
   "metadata": {
    "tags": []
   },
   "source": [
    "# Steps to access the MyAnimeList API\n",
    "1. Register a web application on MyAnimeList as described in https://myanimelist.net/blog.php?eid=835707\n",
    "2. Put your Client ID in the cell below\n",
    "3. Run the script to verify that the token was properly generated"
   ]
  },
  {
   "cell_type": "code",
   "execution_count": null,
   "metadata": {
    "tags": [
     "parameters"
    ]
   },
   "outputs": [],
   "source": [
    "MAL_CLIENT_ID = \"\"\n",
    "TOKEN_NUMBER = 0"
   ]
  },
  {
   "cell_type": "code",
   "execution_count": null,
   "metadata": {},
   "outputs": [],
   "source": [
    "assert MAL_CLIENT_ID, \"must fill in MAL_CLIENTID\"\n",
    "PROXY_NUMBER=0"
   ]
  },
  {
   "cell_type": "code",
   "execution_count": null,
   "metadata": {},
   "outputs": [],
   "source": [
    "import os"
   ]
  },
  {
   "cell_type": "code",
   "execution_count": null,
   "metadata": {},
   "outputs": [],
   "source": [
    "clientid_fn = f\"../../../environment/mal/authentication/clientid.{TOKEN_NUMBER}.txt\"\n",
    "os.makedirs(os.path.dirname(clientid_fn), exist_ok=True)\n",
    "if os.path.exists(clientid_fn):\n",
    "    assert os.path.getsize(clientid_fn) == 0\n",
    "with open(clientid_fn, 'w') as f:\n",
    "    f.write(MAL_CLIENT_ID)"
   ]
  },
  {
   "cell_type": "code",
   "execution_count": null,
   "metadata": {},
   "outputs": [],
   "source": [
    "exec(open(\"MalApi.py\").read())"
   ]
  },
  {
   "cell_type": "code",
   "execution_count": null,
   "metadata": {
    "tags": []
   },
   "outputs": [],
   "source": [
    "df, _ = get_user_media_list(\"Fro116\", \"anime\")\n",
    "if df.empty:\n",
    "    raise ValueError(\"Invalid clientid {MAL_ACCESS_TOKEN}\")\n",
    "else:\n",
    "    print(\"Successfully accessed API!\")    "
   ]
  }
 ],
 "metadata": {
  "kernelspec": {
   "display_name": "Python 3 (ipykernel)",
   "language": "python",
   "name": "python3"
  },
  "language_info": {
   "codemirror_mode": {
    "name": "ipython",
    "version": 3
   },
   "file_extension": ".py",
   "mimetype": "text/x-python",
   "name": "python",
   "nbconvert_exporter": "python",
   "pygments_lexer": "ipython3",
   "version": "3.10.12"
  }
 },
 "nbformat": 4,
 "nbformat_minor": 4
}
