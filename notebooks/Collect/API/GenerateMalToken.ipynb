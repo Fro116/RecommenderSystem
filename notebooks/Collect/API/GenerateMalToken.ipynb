{
 "cells": [
  {
   "cell_type": "markdown",
   "metadata": {
    "tags": []
   },
   "source": [
    "# Steps to access the MyAnimeList API\n",
    "1. Register a web application on MyAnimeList as described in https://myanimelist.net/blog.php?eid=835707\n",
    "2. Put your Client ID in the cell below\n",
    "3. Run the script to verify that the token was properly generated"
   ]
  },
  {
   "cell_type": "code",
   "execution_count": null,
   "metadata": {
    "tags": [
     "parameters"
    ]
   },
   "outputs": [],
   "source": [
    "MAL_CLIENT_ID = \"\""
   ]
  },
  {
   "cell_type": "code",
   "execution_count": null,
   "metadata": {},
   "outputs": [],
   "source": [
    "assert MAL_CLIENT_ID, \"must fill in MAL_CLIENTID\""
   ]
  },
  {
   "cell_type": "code",
   "execution_count": null,
   "metadata": {},
   "outputs": [],
   "source": [
    "import os\n",
    "TOKEN_NUMBER = 0\n",
    "clientid_fn = f\"../../../environment/mal/authentication/clientid.{TOKEN_NUMBER}.txt\"\n",
    "os.makedirs(os.path.dirname(clientid_fn), exist_ok=True)\n",
    "if os.path.exists(clientid_fn):\n",
    "    assert os.path.getsize(clientid_fn) == 0\n",
    "with open(clientid_fn, 'w') as f:\n",
    "    f.write(MAL_CLIENT_ID)"
   ]
  },
  {
   "cell_type": "code",
   "execution_count": null,
   "metadata": {},
   "outputs": [],
   "source": [
    "os.chdir(\"..\")\n",
    "from API import api_setup, mal_api\n",
    "PROXIES = api_setup.load_proxies(0, 1)\n",
    "mal_api.load_token(TOKEN_NUMBER)\n",
    "SESSION = mal_api.make_session(proxies=PROXIES, concurrency=1)\n",
    "df, _ = mal_api.get_user_media_list(SESSION, \"Fro116\", \"anime\")\n",
    "if df.empty:\n",
    "    raise ValueError(f\"Invalid clientid {MAL_ACCESS_TOKEN}\")\n",
    "else:\n",
    "    print(\"Successfully accessed API!\")    "
   ]
  }
 ],
 "metadata": {
  "kernelspec": {
   "display_name": "Python 3 (ipykernel)",
   "language": "python",
   "name": "python3"
  },
  "language_info": {
   "codemirror_mode": {
    "name": "ipython",
    "version": 3
   },
   "file_extension": ".py",
   "mimetype": "text/x-python",
   "name": "python",
   "nbconvert_exporter": "python",
   "pygments_lexer": "ipython3",
   "version": "3.12.3"
  }
 },
 "nbformat": 4,
 "nbformat_minor": 4
}
