{
 "cells": [
  {
   "cell_type": "markdown",
   "metadata": {
    "tags": []
   },
   "source": [
    "# Steps to access the Kitsu API\n",
    "1. Create a Kitsu account (https://kitsu.app)\n",
    "2. Put your username and password in the cell below\n",
    "3. Run the script to verify that the oath2 token was properly generated"
   ]
  },
  {
   "cell_type": "code",
   "execution_count": null,
   "metadata": {
    "tags": [
     "parameters"
    ]
   },
   "outputs": [],
   "source": [
    "USERNAME = \"\"\n",
    "PASSWORD = \"\""
   ]
  },
  {
   "cell_type": "code",
   "execution_count": null,
   "metadata": {},
   "outputs": [],
   "source": [
    "assert USERNAME and PASSWORD, \"must fill in USERNAME and PASSWORD\""
   ]
  },
  {
   "cell_type": "code",
   "execution_count": null,
   "metadata": {},
   "outputs": [],
   "source": [
    "import os\n",
    "credentials_fn = f\"../../../environment/kitsu/authentication/credentials.0.txt\"\n",
    "os.makedirs(os.path.dirname(credentials_fn), exist_ok=True)\n",
    "with open(credentials_fn, 'w') as f:\n",
    "    f.write(USERNAME + \"\\n\")\n",
    "    f.write(PASSWORD + \"\\n\")"
   ]
  },
  {
   "cell_type": "code",
   "execution_count": null,
   "metadata": {},
   "outputs": [],
   "source": [
    "os.chdir(\"..\")\n",
    "from API import api_setup, kitsu_api\n",
    "PROXIES = api_setup.load_proxies(0, 1)\n",
    "SESSION = kitsu_api.make_session(proxies=PROXIES, concurrency=1)\n",
    "df, ok = kitsu_api.get_user_media_list(SESSION, 1404688, \"anime\")\n",
    "if not ok or df.empty:\n",
    "    raise ValueError(\"Invalid oath2 token. Double check that the username and password are correct\")\n",
    "else:\n",
    "    print(\"Successfully accessed API!\")    "
   ]
  }
 ],
 "metadata": {
  "kernelspec": {
   "display_name": "Python 3 (ipykernel)",
   "language": "python",
   "name": "python3"
  },
  "language_info": {
   "codemirror_mode": {
    "name": "ipython",
    "version": 3
   },
   "file_extension": ".py",
   "mimetype": "text/x-python",
   "name": "python",
   "nbconvert_exporter": "python",
   "pygments_lexer": "ipython3",
   "version": "3.12.3"
  }
 },
 "nbformat": 4,
 "nbformat_minor": 4
}
