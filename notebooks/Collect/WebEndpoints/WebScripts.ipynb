{
 "cells": [
  {
   "cell_type": "markdown",
   "id": "c23842b9-2756-4cd8-a61e-d6d3a1e7b654",
   "metadata": {},
   "source": [
    "# Web Scripts\n",
    "* This notebook will run indefinitely. You must manually kill this notebook after a sufficient dataset has been collected."
   ]
  },
  {
   "cell_type": "code",
   "execution_count": null,
   "id": "b9a660d8-4536-4e78-92ec-e2dd97da9a9e",
   "metadata": {},
   "outputs": [],
   "source": [
    "import glob\n",
    "import json\n",
    "import os\n",
    "import subprocess\n",
    "import time\n",
    "\n",
    "from ratelimit import limits, sleep_and_retry"
   ]
  },
  {
   "cell_type": "code",
   "execution_count": null,
   "id": "9069b51a-a5a2-4ac4-ac3d-a3900e3823b7",
   "metadata": {},
   "outputs": [],
   "source": [
    "cwd = os.getcwd()"
   ]
  },
  {
   "cell_type": "code",
   "execution_count": null,
   "id": "202d6f49-3796-4073-a2c0-23437fd54d44",
   "metadata": {},
   "outputs": [],
   "source": [
    "def get_proxies(source, task):\n",
    "    proxyfn = \"../../../environment/proxies/proxy_map.txt\"\n",
    "    if os.path.exists(proxyfn):\n",
    "        num_proxies = 0\n",
    "        proxies = []\n",
    "        with open(proxyfn) as f:\n",
    "            for line in f:\n",
    "                if not line.strip():\n",
    "                    continue\n",
    "                fields = line.strip().split(\",\")\n",
    "                if fields[0] == source:\n",
    "                    if fields[1] == task:\n",
    "                        proxies.append(num_proxies)\n",
    "                    num_proxies += 1\n",
    "        shared_ip_ratelimit = False\n",
    "    else:\n",
    "        num_proxies = 1\n",
    "        proxies = [0]\n",
    "        shared_ip_ratelimit = True\n",
    "    return proxies, num_proxies, shared_ip_ratelimit"
   ]
  },
  {
   "cell_type": "code",
   "execution_count": null,
   "id": "0ab794b1-8c61-4aae-9c3c-e9046210b9f1",
   "metadata": {
    "editable": true,
    "slideshow": {
     "slide_type": ""
    },
    "tags": []
   },
   "outputs": [],
   "source": [
    "@sleep_and_retry\n",
    "@limits(calls=1, period=5)\n",
    "def spawn_notebook(script, partition, num_partitions, proxy, num_proxies, params):\n",
    "    cmdlist = [\n",
    "        \"papermill\",\n",
    "        f\"{cwd}/{script}.ipynb\",\n",
    "        \"/dev/null\",\n",
    "        \"-p\",\n",
    "        \"PARTITION\",\n",
    "        str(partition),\n",
    "        \"-p\",\n",
    "        \"NUM_PARTITIONS\",\n",
    "        str(num_partitions),\n",
    "        \"-p\",\n",
    "        \"PROXY_NUMBER\",\n",
    "        str(proxy),\n",
    "        \"-p\",\n",
    "        \"NUM_PROXIES\",\n",
    "        str(num_proxies),\n",
    "    ]\n",
    "    for k, v in params.items():\n",
    "        cmdlist += [\"-p\", k, str(v)]\n",
    "    print(cmdlist)\n",
    "    return subprocess.Popen(cmdlist)"
   ]
  },
  {
   "cell_type": "code",
   "execution_count": null,
   "id": "159fa63e-b553-4137-b97c-2879f03ba49a",
   "metadata": {},
   "outputs": [],
   "source": [
    "ALL_SOURCES = [\"animeplanet\", \"kitsu\", \"anilist\", \"mal\"]\n",
    "PROXIES = {x: get_proxies(x, \"lists\") for x in ALL_SOURCES}\n",
    "procs = {}"
   ]
  },
  {
   "cell_type": "code",
   "execution_count": null,
   "id": "b8836448-7945-481e-8349-e0218b6da1e3",
   "metadata": {},
   "outputs": [],
   "source": [
    "def spawn_notebooks(script, source, task, params):\n",
    "    proxies, num_proxies, shared_ip_ratelimit = get_proxies(source, task)\n",
    "    if shared_ip_ratelimit:\n",
    "        params[\"RATELIMIT_MULT\"] = \"3\"\n",
    "    for i in range(len(proxies)):\n",
    "        args = (script, i, len(proxies), proxies[i], num_proxies, params)\n",
    "        procs[json.dumps(args)] = spawn_notebook(*args)"
   ]
  },
  {
   "cell_type": "code",
   "execution_count": null,
   "id": "5972331f-9fa2-4bba-bb69-71ecdd75b0b5",
   "metadata": {},
   "outputs": [],
   "source": [
    "spawn_notebooks(\"GetMedia\", \"malweb\", \"media\", {\"SOURCE\": \"mal\"})"
   ]
  },
  {
   "cell_type": "code",
   "execution_count": null,
   "id": "e5c4a0fc-16af-47b4-a691-bce38e7c6746",
   "metadata": {},
   "outputs": [],
   "source": [
    "spawn_notebooks(\"GetMedia\", \"anilist\", \"media\", {\"SOURCE\": \"anilist\"})"
   ]
  },
  {
   "cell_type": "code",
   "execution_count": null,
   "id": "879f3081-45a2-4412-b8d9-cc6c397d0fd7",
   "metadata": {},
   "outputs": [],
   "source": [
    "spawn_notebooks(\"GetMedia\", \"kitsu\", \"media\", {\"SOURCE\": \"kitsu\"})"
   ]
  },
  {
   "cell_type": "code",
   "execution_count": null,
   "id": "12e612e1-ec34-4f09-aa27-b54e2822475d",
   "metadata": {},
   "outputs": [],
   "source": [
    "spawn_notebooks(\"GetMedia\", \"animeplanet\", \"media\", {\"SOURCE\": \"animeplanet\"})"
   ]
  },
  {
   "cell_type": "code",
   "execution_count": null,
   "id": "7e0065c3-c9e0-4fec-a178-7cdca454641e",
   "metadata": {},
   "outputs": [],
   "source": [
    "spawn_notebooks(\"GetMalUsersFromId\", \"malweb\", \"id\", {})"
   ]
  },
  {
   "cell_type": "code",
   "execution_count": null,
   "id": "81e83b29-a1aa-46cf-8947-2f415453d9a8",
   "metadata": {
    "scrolled": true
   },
   "outputs": [],
   "source": [
    "spawn_notebooks(\"GetAnimeplanetUsersFromRecent\", \"animeplanet\", \"recent\", {})"
   ]
  },
  {
   "cell_type": "code",
   "execution_count": null,
   "id": "86e2acbe-e675-496c-aead-2c6fbe71af9f",
   "metadata": {},
   "outputs": [],
   "source": [
    "spawn_notebooks(\"GetAnimeplanetUsersFromFriends\", \"animeplanet\", \"friends\", {})"
   ]
  },
  {
   "cell_type": "code",
   "execution_count": null,
   "id": "0f643dd0-d1ea-4229-b3af-7a0ebbecf55b",
   "metadata": {},
   "outputs": [],
   "source": [
    "while True:\n",
    "    time.sleep(1)\n",
    "    for k, v in procs.items():\n",
    "        if v.poll() is not None:\n",
    "            # spawn a new process to replace the finished one\n",
    "            procs[k] = spawn_notebook(*json.loads(k))"
   ]
  }
 ],
 "metadata": {
  "kernelspec": {
   "display_name": "Python 3 (ipykernel)",
   "language": "python",
   "name": "python3"
  },
  "language_info": {
   "codemirror_mode": {
    "name": "ipython",
    "version": 3
   },
   "file_extension": ".py",
   "mimetype": "text/x-python",
   "name": "python",
   "nbconvert_exporter": "python",
   "pygments_lexer": "ipython3",
   "version": "3.10.12"
  }
 },
 "nbformat": 4,
 "nbformat_minor": 5
}
