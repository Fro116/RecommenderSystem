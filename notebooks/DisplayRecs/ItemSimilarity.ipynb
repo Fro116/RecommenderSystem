{
 "cells": [
  {
   "cell_type": "code",
   "execution_count": 1,
   "id": "79559bef-810a-402f-ad21-52092ec933f4",
   "metadata": {},
   "outputs": [],
   "source": [
    "name = \"../../data/recommendations/ItemSimilarity\"\n",
    "residual_alphas = [\"UserItemBiases\"];"
   ]
  },
  {
   "cell_type": "code",
   "execution_count": 2,
   "id": "69b5a19a-24f5-4730-afe2-f451d27d18e3",
   "metadata": {},
   "outputs": [],
   "source": [
    "using NBInclude\n",
    "@nbinclude(\"../TrainingAlphas/Alpha.ipynb\");"
   ]
  },
  {
   "cell_type": "code",
   "execution_count": 3,
   "id": "a4ca1ac7-bfe8-48ab-a190-872aba4f6f5d",
   "metadata": {},
   "outputs": [],
   "source": [
    "using SparseArrays\n",
    "using DataFrames"
   ]
  },
  {
   "cell_type": "code",
   "execution_count": 4,
   "id": "eba43860-7763-48cc-b677-64cd6e6c8e55",
   "metadata": {
    "tags": []
   },
   "outputs": [],
   "source": [
    "anime_to_uid = DataFrame(CSV.File(\"../../data/processed_data/anime_to_uid.csv\"));\n",
    "anime = DataFrame(CSV.File(\"../../data/raw_data/anime.csv\", ntasks = 1));\n",
    "anime_to_uid = innerjoin(anime_to_uid, anime, on = \"anime_id\");"
   ]
  },
  {
   "cell_type": "markdown",
   "id": "03b8a971-b3be-48ab-a4d8-dd2d60f944a8",
   "metadata": {},
   "source": [
    "## Rating correlation"
   ]
  },
  {
   "cell_type": "code",
   "execution_count": 5,
   "id": "44769062-cd87-4646-b65b-27e64abab1c3",
   "metadata": {
    "tags": []
   },
   "outputs": [],
   "source": [
    "@memoize function get_norms(R)\n",
    "    norms = map(norm, eachslice(R, dims = 2))\n",
    "    norms[norms.==0] .= 1 # prevent division by 0\n",
    "    norms\n",
    "end;\n",
    "\n",
    "function get_correlation_neighborhood(item, R, K)\n",
    "    norms = get_norms(R)\n",
    "    weights = vec(R[:, item]' * R) ./ norms ./ norms[item]\n",
    "    order = sortperm(weights, rev = true)[1:K]\n",
    "    order[1:K], weights[order[1:K]]\n",
    "end\n",
    "\n",
    "const training = get_residuals(\"training\", residual_alphas);\n",
    "const validation = get_residuals(\"validation\", residual_alphas);\n",
    "const test = get_residuals(\"test\", residual_alphas);\n",
    "const allsplits = RatingsDataset(\n",
    "    [training.user; validation.user; test.user],\n",
    "    [training.item; validation.item; test.item],\n",
    "    [training.rating; validation.rating; test.rating],\n",
    ")\n",
    "\n",
    "R = sparse(\n",
    "    allsplits.user,\n",
    "    allsplits.item,\n",
    "    allsplits.rating,\n",
    "    maximum(allsplits.user),\n",
    "    maximum(allsplits.item),\n",
    ");"
   ]
  },
  {
   "cell_type": "markdown",
   "id": "2786bacf-374e-4360-b594-e50850db59cf",
   "metadata": {},
   "source": [
    "## Embedding distance"
   ]
  },
  {
   "cell_type": "code",
   "execution_count": 6,
   "id": "7b9b0a88-142e-44ba-8411-e8f9fd7c9ce7",
   "metadata": {
    "tags": []
   },
   "outputs": [],
   "source": [
    "function get_embedding_neighborhood(item, kernel, K, p)\n",
    "    dists = map(x -> norm(x, p), eachslice(kernel .- kernel[:, item], dims = 2))\n",
    "    weights = -dists\n",
    "    order = sortperm(dists)[1:K]\n",
    "    order[1:K], weights[order[1:K]]\n",
    "end\n",
    "\n",
    "function normalize_rows(X)\n",
    "    σ = std(X, dims = 2)\n",
    "    μ = mean(X, dims = 2)\n",
    "    (X .- μ) ./ σ\n",
    "end\n",
    "\n",
    "item_embeddings = normalize_rows(\n",
    "    vcat(\n",
    "        [\n",
    "            collect(read_params(\"MatrixFactorization.10\")[\"A\"]')\n",
    "            collect(read_params(\"MatrixFactorization.20\")[\"A\"]')\n",
    "            collect(read_params(\"MatrixFactorization.40\")[\"A\"]')\n",
    "        ],\n",
    "    ),\n",
    ");"
   ]
  },
  {
   "cell_type": "markdown",
   "id": "19366469-871e-49c9-9939-ffbd61a093e8",
   "metadata": {},
   "source": [
    "# Compute Neighborhoods"
   ]
  },
  {
   "cell_type": "code",
   "execution_count": 7,
   "id": "061073cd-55d2-4db6-ae8d-1c032ef13a6a",
   "metadata": {},
   "outputs": [
    {
     "data": {
      "text/plain": [
       "9939"
      ]
     },
     "execution_count": 7,
     "metadata": {},
     "output_type": "execute_result"
    }
   ],
   "source": [
    "uid = only(anime_to_uid[anime_to_uid.anime_id.==43691, :uid])"
   ]
  },
  {
   "cell_type": "code",
   "execution_count": 8,
   "id": "12f00826-c379-43f6-b6c0-d03c5f4bc4cd",
   "metadata": {},
   "outputs": [],
   "source": [
    "items, weights = get_correlation_neighborhood(uid + 1, R, 30);\n",
    "corr_df = DataFrame(anime = items, weight = weights);"
   ]
  },
  {
   "cell_type": "code",
   "execution_count": 9,
   "id": "d3d19bfa-440d-4e09-8b17-dcee6a629e2e",
   "metadata": {},
   "outputs": [],
   "source": [
    "items, weights = get_embedding_neighborhood(uid + 1, item_embeddings, 30, 2);\n",
    "embed_df = DataFrame(anime = items, weight = weights);"
   ]
  },
  {
   "cell_type": "markdown",
   "id": "1f86d5cb-ed10-40cd-ac34-a41c4facb4d4",
   "metadata": {},
   "source": [
    "# Display Similar Series"
   ]
  },
  {
   "cell_type": "code",
   "execution_count": 10,
   "id": "f9d4be81-1f2b-4bfb-b23d-8cd19d63335f",
   "metadata": {},
   "outputs": [],
   "source": [
    "function get_series(df)\n",
    "    df = copy(df)\n",
    "    df[!, :uid] = df[:, :anime] .- 1\n",
    "    sim = innerjoin(df, anime_to_uid, on = \"uid\")\n",
    "    sort(sim, :weight, rev = true)\n",
    "end;"
   ]
  },
  {
   "cell_type": "code",
   "execution_count": 11,
   "id": "9a4c7fd6-ec13-45be-a2e0-a52a01ebd46c",
   "metadata": {},
   "outputs": [],
   "source": [
    "ENV[\"LINES\"] = 1024;"
   ]
  },
  {
   "cell_type": "code",
   "execution_count": 12,
   "id": "995d184c-e231-40bc-a2fe-ff36af78a243",
   "metadata": {},
   "outputs": [
    {
     "data": {
      "text/html": [
       "<div class=\"data-frame\"><p>30 rows × 22 columns (omitted printing of 17 columns)</p><table class=\"data-frame\"><thead><tr><th></th><th>anime</th><th>weight</th><th>uid</th><th>anime_id</th><th>title</th></tr><tr><th></th><th title=\"Int64\">Int64</th><th title=\"Float64\">Float64</th><th title=\"Int64\">Int64</th><th title=\"Int64\">Int64</th><th title=\"String\">String</th></tr></thead><tbody><tr><th>1</th><td>9940</td><td>1.0</td><td>9939</td><td>43691</td><td>Kageki Shoujo!!</td></tr><tr><th>2</th><td>11003</td><td>0.0968749</td><td>11002</td><td>46093</td><td>Shiroi Suna no Aquatope</td></tr><tr><th>3</th><td>7504</td><td>0.094958</td><td>7503</td><td>40685</td><td>Super Cub</td></tr><tr><th>4</th><td>7653</td><td>0.09163</td><td>7652</td><td>40870</td><td>SSSS.Dynazenon</td></tr><tr><th>5</th><td>9694</td><td>0.0881485</td><td>9693</td><td>43439</td><td>Shadows House</td></tr><tr><th>6</th><td>7916</td><td>0.0864715</td><td>7915</td><td>41169</td><td>Love Live! Superstar!!</td></tr><tr><th>7</th><td>4947</td><td>0.0716348</td><td>4946</td><td>37890</td><td>Oshi ga Budoukan Ittekuretara Shinu</td></tr><tr><th>8</th><td>7456</td><td>0.0704129</td><td>7455</td><td>40620</td><td>Uramichi Oniisan</td></tr><tr><th>9</th><td>9314</td><td>0.0701826</td><td>9313</td><td>42941</td><td>Uma Musume: Pretty Derby (TV) Season 2</td></tr><tr><th>10</th><td>6814</td><td>0.0687792</td><td>6813</td><td>39893</td><td>Muteking the Dancing Hero</td></tr><tr><th>11</th><td>11007</td><td>0.068298</td><td>11006</td><td>46102</td><td>Odd Taxi</td></tr><tr><th>12</th><td>8988</td><td>0.0648436</td><td>8987</td><td>42568</td><td>Yakunara Mug Cup mo</td></tr><tr><th>13</th><td>12036</td><td>0.0641323</td><td>12035</td><td>48849</td><td>Sonny Boy</td></tr><tr><th>14</th><td>5231</td><td>0.0640084</td><td>5230</td><td>38192</td><td>Sakugan</td></tr><tr><th>15</th><td>7049</td><td>0.063528</td><td>7048</td><td>40174</td><td>Zombieland Saga: Revenge</td></tr><tr><th>16</th><td>5461</td><td>0.0620428</td><td>5460</td><td>38474</td><td>Yuru Camp△ Season 2</td></tr><tr><th>17</th><td>7620</td><td>0.0616609</td><td>7619</td><td>40834</td><td>Ousama Ranking</td></tr><tr><th>18</th><td>11368</td><td>0.0609207</td><td>11367</td><td>47257</td><td>Shinigami Bocchan to Kuro Maid</td></tr><tr><th>19</th><td>12459</td><td>0.0603679</td><td>12458</td><td>49738</td><td>Heike Monogatari</td></tr><tr><th>20</th><td>6671</td><td>0.0602479</td><td>6670</td><td>39730</td><td>Houkago Teibou Nisshi</td></tr><tr><th>21</th><td>7255</td><td>0.0597266</td><td>7254</td><td>40397</td><td>Maoujou de Oyasumi</td></tr><tr><th>22</th><td>9189</td><td>0.0571721</td><td>9188</td><td>42798</td><td>Sayonara Watashi no Cramer Movie: First Touch</td></tr><tr><th>23</th><td>4480</td><td>0.0543398</td><td>4479</td><td>37379</td><td>Chihayafuru 3</td></tr><tr><th>24</th><td>9030</td><td>0.0537293</td><td>9029</td><td>42625</td><td>Heion Sedai no Idaten-tachi</td></tr><tr><th>25</th><td>8391</td><td>0.0520267</td><td>8390</td><td>41762</td><td>Tenchi Souzou Design-bu</td></tr><tr><th>26</th><td>7539</td><td>0.0519996</td><td>7538</td><td>40729</td><td>Nomad: Megalo Box 2</td></tr><tr><th>27</th><td>7359</td><td>0.0514613</td><td>7358</td><td>40513</td><td>Nami yo Kiitekure</td></tr><tr><th>28</th><td>2712</td><td>0.0510748</td><td>2711</td><td>35503</td><td>Shoujo☆Kageki Revue Starlight</td></tr><tr><th>29</th><td>8822</td><td>0.0508383</td><td>8821</td><td>42351</td><td>Senpai ga Uzai Kouhai no Hanashi</td></tr><tr><th>30</th><td>4851</td><td>0.0501708</td><td>4850</td><td>37786</td><td>Yagate Kimi ni Naru</td></tr></tbody></table></div>"
      ],
      "text/latex": [
       "\\begin{tabular}{r|cccccc}\n",
       "\t& anime & weight & uid & anime\\_id & title & \\\\\n",
       "\t\\hline\n",
       "\t& Int64 & Float64 & Int64 & Int64 & String & \\\\\n",
       "\t\\hline\n",
       "\t1 & 9940 & 1.0 & 9939 & 43691 & Kageki Shoujo!! & $\\dots$ \\\\\n",
       "\t2 & 11003 & 0.0968749 & 11002 & 46093 & Shiroi Suna no Aquatope & $\\dots$ \\\\\n",
       "\t3 & 7504 & 0.094958 & 7503 & 40685 & Super Cub & $\\dots$ \\\\\n",
       "\t4 & 7653 & 0.09163 & 7652 & 40870 & SSSS.Dynazenon & $\\dots$ \\\\\n",
       "\t5 & 9694 & 0.0881485 & 9693 & 43439 & Shadows House & $\\dots$ \\\\\n",
       "\t6 & 7916 & 0.0864715 & 7915 & 41169 & Love Live! Superstar!! & $\\dots$ \\\\\n",
       "\t7 & 4947 & 0.0716348 & 4946 & 37890 & Oshi ga Budoukan Ittekuretara Shinu & $\\dots$ \\\\\n",
       "\t8 & 7456 & 0.0704129 & 7455 & 40620 & Uramichi Oniisan & $\\dots$ \\\\\n",
       "\t9 & 9314 & 0.0701826 & 9313 & 42941 & Uma Musume: Pretty Derby (TV) Season 2 & $\\dots$ \\\\\n",
       "\t10 & 6814 & 0.0687792 & 6813 & 39893 & Muteking the Dancing Hero & $\\dots$ \\\\\n",
       "\t11 & 11007 & 0.068298 & 11006 & 46102 & Odd Taxi & $\\dots$ \\\\\n",
       "\t12 & 8988 & 0.0648436 & 8987 & 42568 & Yakunara Mug Cup mo & $\\dots$ \\\\\n",
       "\t13 & 12036 & 0.0641323 & 12035 & 48849 & Sonny Boy & $\\dots$ \\\\\n",
       "\t14 & 5231 & 0.0640084 & 5230 & 38192 & Sakugan & $\\dots$ \\\\\n",
       "\t15 & 7049 & 0.063528 & 7048 & 40174 & Zombieland Saga: Revenge & $\\dots$ \\\\\n",
       "\t16 & 5461 & 0.0620428 & 5460 & 38474 & Yuru Camp△ Season 2 & $\\dots$ \\\\\n",
       "\t17 & 7620 & 0.0616609 & 7619 & 40834 & Ousama Ranking & $\\dots$ \\\\\n",
       "\t18 & 11368 & 0.0609207 & 11367 & 47257 & Shinigami Bocchan to Kuro Maid & $\\dots$ \\\\\n",
       "\t19 & 12459 & 0.0603679 & 12458 & 49738 & Heike Monogatari & $\\dots$ \\\\\n",
       "\t20 & 6671 & 0.0602479 & 6670 & 39730 & Houkago Teibou Nisshi & $\\dots$ \\\\\n",
       "\t21 & 7255 & 0.0597266 & 7254 & 40397 & Maoujou de Oyasumi & $\\dots$ \\\\\n",
       "\t22 & 9189 & 0.0571721 & 9188 & 42798 & Sayonara Watashi no Cramer Movie: First Touch & $\\dots$ \\\\\n",
       "\t23 & 4480 & 0.0543398 & 4479 & 37379 & Chihayafuru 3 & $\\dots$ \\\\\n",
       "\t24 & 9030 & 0.0537293 & 9029 & 42625 & Heion Sedai no Idaten-tachi & $\\dots$ \\\\\n",
       "\t25 & 8391 & 0.0520267 & 8390 & 41762 & Tenchi Souzou Design-bu & $\\dots$ \\\\\n",
       "\t26 & 7539 & 0.0519996 & 7538 & 40729 & Nomad: Megalo Box 2 & $\\dots$ \\\\\n",
       "\t27 & 7359 & 0.0514613 & 7358 & 40513 & Nami yo Kiitekure & $\\dots$ \\\\\n",
       "\t28 & 2712 & 0.0510748 & 2711 & 35503 & Shoujo☆Kageki Revue Starlight & $\\dots$ \\\\\n",
       "\t29 & 8822 & 0.0508383 & 8821 & 42351 & Senpai ga Uzai Kouhai no Hanashi & $\\dots$ \\\\\n",
       "\t30 & 4851 & 0.0501708 & 4850 & 37786 & Yagate Kimi ni Naru & $\\dots$ \\\\\n",
       "\\end{tabular}\n"
      ],
      "text/plain": [
       "\u001b[1m30×22 DataFrame\u001b[0m\n",
       "\u001b[1m Row \u001b[0m│\u001b[1m anime \u001b[0m\u001b[1m weight    \u001b[0m\u001b[1m uid   \u001b[0m\u001b[1m anime_id \u001b[0m\u001b[1m title                             \u001b[0m\u001b[1m a\u001b[0m ⋯\n",
       "\u001b[1m     \u001b[0m│\u001b[90m Int64 \u001b[0m\u001b[90m Float64   \u001b[0m\u001b[90m Int64 \u001b[0m\u001b[90m Int64    \u001b[0m\u001b[90m String                            \u001b[0m\u001b[90m S\u001b[0m ⋯\n",
       "─────┼──────────────────────────────────────────────────────────────────────────\n",
       "   1 │  9940  1.0         9939     43691  Kageki Shoujo!!                    { ⋯\n",
       "   2 │ 11003  0.0968749  11002     46093  Shiroi Suna no Aquatope            {\n",
       "   3 │  7504  0.094958    7503     40685  Super Cub                          {\n",
       "   4 │  7653  0.09163     7652     40870  SSSS.Dynazenon                     {\n",
       "   5 │  9694  0.0881485   9693     43439  Shadows House                      { ⋯\n",
       "   6 │  7916  0.0864715   7915     41169  Love Live! Superstar!!             {\n",
       "   7 │  4947  0.0716348   4946     37890  Oshi ga Budoukan Ittekuretara Sh…  {\n",
       "   8 │  7456  0.0704129   7455     40620  Uramichi Oniisan                   {\n",
       "   9 │  9314  0.0701826   9313     42941  Uma Musume: Pretty Derby (TV) Se…  { ⋯\n",
       "  10 │  6814  0.0687792   6813     39893  Muteking the Dancing Hero          {\n",
       "  11 │ 11007  0.068298   11006     46102  Odd Taxi                           {\n",
       "  12 │  8988  0.0648436   8987     42568  Yakunara Mug Cup mo                {\n",
       "  13 │ 12036  0.0641323  12035     48849  Sonny Boy                          { ⋯\n",
       "  14 │  5231  0.0640084   5230     38192  Sakugan                            {\n",
       "  15 │  7049  0.063528    7048     40174  Zombieland Saga: Revenge           {\n",
       "  16 │  5461  0.0620428   5460     38474  Yuru Camp△ Season 2                {\n",
       "  17 │  7620  0.0616609   7619     40834  Ousama Ranking                     { ⋯\n",
       "  18 │ 11368  0.0609207  11367     47257  Shinigami Bocchan to Kuro Maid     {\n",
       "  19 │ 12459  0.0603679  12458     49738  Heike Monogatari                   {\n",
       "  20 │  6671  0.0602479   6670     39730  Houkago Teibou Nisshi              {\n",
       "  21 │  7255  0.0597266   7254     40397  Maoujou de Oyasumi                 { ⋯\n",
       "  22 │  9189  0.0571721   9188     42798  Sayonara Watashi no Cramer Movie…  {\n",
       "  23 │  4480  0.0543398   4479     37379  Chihayafuru 3                      {\n",
       "  24 │  9030  0.0537293   9029     42625  Heion Sedai no Idaten-tachi        {\n",
       "  25 │  8391  0.0520267   8390     41762  Tenchi Souzou Design-bu            { ⋯\n",
       "  26 │  7539  0.0519996   7538     40729  Nomad: Megalo Box 2                {\n",
       "  27 │  7359  0.0514613   7358     40513  Nami yo Kiitekure                  {\n",
       "  28 │  2712  0.0510748   2711     35503  Shoujo☆Kageki Revue Starlight      {\n",
       "  29 │  8822  0.0508383   8821     42351  Senpai ga Uzai Kouhai no Hanashi   { ⋯\n",
       "  30 │  4851  0.0501708   4850     37786  Yagate Kimi ni Naru                {\n",
       "\u001b[36m                                                              17 columns omitted\u001b[0m"
      ]
     },
     "execution_count": 12,
     "metadata": {},
     "output_type": "execute_result"
    }
   ],
   "source": [
    "get_series(corr_df)"
   ]
  },
  {
   "cell_type": "code",
   "execution_count": 13,
   "id": "fe1b1ec4-2e4b-4776-9e38-eb083b578e86",
   "metadata": {},
   "outputs": [
    {
     "data": {
      "text/html": [
       "<div class=\"data-frame\"><p>30 rows × 22 columns (omitted printing of 17 columns)</p><table class=\"data-frame\"><thead><tr><th></th><th>anime</th><th>weight</th><th>uid</th><th>anime_id</th><th>title</th></tr><tr><th></th><th title=\"Int64\">Int64</th><th title=\"Float64\">Float64</th><th title=\"Int64\">Int64</th><th title=\"Int64\">Int64</th><th title=\"String\">String</th></tr></thead><tbody><tr><th>1</th><td>9940</td><td>-0.0</td><td>9939</td><td>43691</td><td>Kageki Shoujo!!</td></tr><tr><th>2</th><td>4947</td><td>-8.01535</td><td>4946</td><td>37890</td><td>Oshi ga Budoukan Ittekuretara Shinu</td></tr><tr><th>3</th><td>1577</td><td>-8.03271</td><td>1576</td><td>1592</td><td>Hataraki Man</td></tr><tr><th>4</th><td>7359</td><td>-8.06529</td><td>7358</td><td>40513</td><td>Nami yo Kiitekure</td></tr><tr><th>5</th><td>9694</td><td>-8.20601</td><td>9693</td><td>43439</td><td>Shadows House</td></tr><tr><th>6</th><td>2985</td><td>-8.2532</td><td>2984</td><td>35777</td><td>Rilakkuma to Kaoru-san</td></tr><tr><th>7</th><td>5231</td><td>-8.3438</td><td>5230</td><td>38192</td><td>Sakugan</td></tr><tr><th>8</th><td>794</td><td>-8.43175</td><td>793</td><td>798</td><td>Yomigaeru Sora: Rescue Wings</td></tr><tr><th>9</th><td>15606</td><td>-8.53415</td><td>15605</td><td>29831</td><td>Tamayura: Sotsugyou Shashin Part 4 - Ashita</td></tr><tr><th>10</th><td>2018</td><td>-8.54144</td><td>2017</td><td>2035</td><td>Eikoku Koi Monogatari Emma: Molders-hen</td></tr><tr><th>11</th><td>8988</td><td>-8.56987</td><td>8987</td><td>42568</td><td>Yakunara Mug Cup mo</td></tr><tr><th>12</th><td>11980</td><td>-8.60771</td><td>11979</td><td>48727</td><td>Yoru no Kuni</td></tr><tr><th>13</th><td>9984</td><td>-8.62209</td><td>9983</td><td>43756</td><td>Bakuten!!</td></tr><tr><th>14</th><td>7352</td><td>-8.641</td><td>7351</td><td>40504</td><td>Major 2nd (TV) 2nd Season</td></tr><tr><th>15</th><td>344</td><td>-8.64893</td><td>343</td><td>344</td><td>Futatsu no Spica</td></tr><tr><th>16</th><td>7720</td><td>-8.68184</td><td>7719</td><td>40942</td><td>Gundam Build Divers Re:Rise 2nd Season</td></tr><tr><th>17</th><td>9073</td><td>-8.68623</td><td>9072</td><td>42668</td><td>Taisou Zamurai</td></tr><tr><th>18</th><td>4965</td><td>-8.74007</td><td>4964</td><td>5141</td><td>Taishou Yakyuu Musume.</td></tr><tr><th>19</th><td>9189</td><td>-8.76093</td><td>9188</td><td>42798</td><td>Sayonara Watashi no Cramer Movie: First Touch</td></tr><tr><th>20</th><td>2880</td><td>-8.78938</td><td>2879</td><td>35672</td><td>Yama no Susume: Third Season</td></tr><tr><th>21</th><td>3674</td><td>-8.87557</td><td>3673</td><td>3734</td><td>Glass no Kamen: Sen no Kamen wo Motsu Shoujo</td></tr><tr><th>22</th><td>10726</td><td>-8.88175</td><td>10725</td><td>45577</td><td>IDOLiSH7: Third Beat!</td></tr><tr><th>23</th><td>8248</td><td>-8.89904</td><td>8247</td><td>41556</td><td>Maiko-san Chi no Makanai-san</td></tr><tr><th>24</th><td>4758</td><td>-8.90559</td><td>4757</td><td>37682</td><td>Wakaokami wa Shougakusei! Movie</td></tr><tr><th>25</th><td>4875</td><td>-8.91321</td><td>4874</td><td>37807</td><td>Princess Principal: Crown Handler Movie 1</td></tr><tr><th>26</th><td>37</td><td>-8.93733</td><td>36</td><td>29</td><td>Zipang</td></tr><tr><th>27</th><td>1114</td><td>-8.93836</td><td>1113</td><td>1126</td><td>Figure 17: Tsubasa &amp; Hikaru</td></tr><tr><th>28</th><td>5670</td><td>-8.95503</td><td>5669</td><td>1179</td><td>Gakuen Senki Muryou</td></tr><tr><th>29</th><td>608</td><td>-8.96104</td><td>607</td><td>33378</td><td>Haikara-san ga Tooru Movie 1: Benio, Hana no 17-sai</td></tr><tr><th>30</th><td>5151</td><td>-8.99008</td><td>5150</td><td>38098</td><td>Mix</td></tr></tbody></table></div>"
      ],
      "text/latex": [
       "\\begin{tabular}{r|cccccc}\n",
       "\t& anime & weight & uid & anime\\_id & title & \\\\\n",
       "\t\\hline\n",
       "\t& Int64 & Float64 & Int64 & Int64 & String & \\\\\n",
       "\t\\hline\n",
       "\t1 & 9940 & -0.0 & 9939 & 43691 & Kageki Shoujo!! & $\\dots$ \\\\\n",
       "\t2 & 4947 & -8.01535 & 4946 & 37890 & Oshi ga Budoukan Ittekuretara Shinu & $\\dots$ \\\\\n",
       "\t3 & 1577 & -8.03271 & 1576 & 1592 & Hataraki Man & $\\dots$ \\\\\n",
       "\t4 & 7359 & -8.06529 & 7358 & 40513 & Nami yo Kiitekure & $\\dots$ \\\\\n",
       "\t5 & 9694 & -8.20601 & 9693 & 43439 & Shadows House & $\\dots$ \\\\\n",
       "\t6 & 2985 & -8.2532 & 2984 & 35777 & Rilakkuma to Kaoru-san & $\\dots$ \\\\\n",
       "\t7 & 5231 & -8.3438 & 5230 & 38192 & Sakugan & $\\dots$ \\\\\n",
       "\t8 & 794 & -8.43175 & 793 & 798 & Yomigaeru Sora: Rescue Wings & $\\dots$ \\\\\n",
       "\t9 & 15606 & -8.53415 & 15605 & 29831 & Tamayura: Sotsugyou Shashin Part 4 - Ashita & $\\dots$ \\\\\n",
       "\t10 & 2018 & -8.54144 & 2017 & 2035 & Eikoku Koi Monogatari Emma: Molders-hen & $\\dots$ \\\\\n",
       "\t11 & 8988 & -8.56987 & 8987 & 42568 & Yakunara Mug Cup mo & $\\dots$ \\\\\n",
       "\t12 & 11980 & -8.60771 & 11979 & 48727 & Yoru no Kuni & $\\dots$ \\\\\n",
       "\t13 & 9984 & -8.62209 & 9983 & 43756 & Bakuten!! & $\\dots$ \\\\\n",
       "\t14 & 7352 & -8.641 & 7351 & 40504 & Major 2nd (TV) 2nd Season & $\\dots$ \\\\\n",
       "\t15 & 344 & -8.64893 & 343 & 344 & Futatsu no Spica & $\\dots$ \\\\\n",
       "\t16 & 7720 & -8.68184 & 7719 & 40942 & Gundam Build Divers Re:Rise 2nd Season & $\\dots$ \\\\\n",
       "\t17 & 9073 & -8.68623 & 9072 & 42668 & Taisou Zamurai & $\\dots$ \\\\\n",
       "\t18 & 4965 & -8.74007 & 4964 & 5141 & Taishou Yakyuu Musume. & $\\dots$ \\\\\n",
       "\t19 & 9189 & -8.76093 & 9188 & 42798 & Sayonara Watashi no Cramer Movie: First Touch & $\\dots$ \\\\\n",
       "\t20 & 2880 & -8.78938 & 2879 & 35672 & Yama no Susume: Third Season & $\\dots$ \\\\\n",
       "\t21 & 3674 & -8.87557 & 3673 & 3734 & Glass no Kamen: Sen no Kamen wo Motsu Shoujo & $\\dots$ \\\\\n",
       "\t22 & 10726 & -8.88175 & 10725 & 45577 & IDOLiSH7: Third Beat! & $\\dots$ \\\\\n",
       "\t23 & 8248 & -8.89904 & 8247 & 41556 & Maiko-san Chi no Makanai-san & $\\dots$ \\\\\n",
       "\t24 & 4758 & -8.90559 & 4757 & 37682 & Wakaokami wa Shougakusei! Movie & $\\dots$ \\\\\n",
       "\t25 & 4875 & -8.91321 & 4874 & 37807 & Princess Principal: Crown Handler Movie 1 & $\\dots$ \\\\\n",
       "\t26 & 37 & -8.93733 & 36 & 29 & Zipang & $\\dots$ \\\\\n",
       "\t27 & 1114 & -8.93836 & 1113 & 1126 & Figure 17: Tsubasa \\& Hikaru & $\\dots$ \\\\\n",
       "\t28 & 5670 & -8.95503 & 5669 & 1179 & Gakuen Senki Muryou & $\\dots$ \\\\\n",
       "\t29 & 608 & -8.96104 & 607 & 33378 & Haikara-san ga Tooru Movie 1: Benio, Hana no 17-sai & $\\dots$ \\\\\n",
       "\t30 & 5151 & -8.99008 & 5150 & 38098 & Mix & $\\dots$ \\\\\n",
       "\\end{tabular}\n"
      ],
      "text/plain": [
       "\u001b[1m30×22 DataFrame\u001b[0m\n",
       "\u001b[1m Row \u001b[0m│\u001b[1m anime \u001b[0m\u001b[1m weight   \u001b[0m\u001b[1m uid   \u001b[0m\u001b[1m anime_id \u001b[0m\u001b[1m title                             \u001b[0m\u001b[1m al\u001b[0m ⋯\n",
       "\u001b[1m     \u001b[0m│\u001b[90m Int64 \u001b[0m\u001b[90m Float64  \u001b[0m\u001b[90m Int64 \u001b[0m\u001b[90m Int64    \u001b[0m\u001b[90m String                            \u001b[0m\u001b[90m St\u001b[0m ⋯\n",
       "─────┼──────────────────────────────────────────────────────────────────────────\n",
       "   1 │  9940  -0.0       9939     43691  Kageki Shoujo!!                    {' ⋯\n",
       "   2 │  4947  -8.01535   4946     37890  Oshi ga Budoukan Ittekuretara Sh…  {'\n",
       "   3 │  1577  -8.03271   1576      1592  Hataraki Man                       {'\n",
       "   4 │  7359  -8.06529   7358     40513  Nami yo Kiitekure                  {'\n",
       "   5 │  9694  -8.20601   9693     43439  Shadows House                      {' ⋯\n",
       "   6 │  2985  -8.2532    2984     35777  Rilakkuma to Kaoru-san             {'\n",
       "   7 │  5231  -8.3438    5230     38192  Sakugan                            {'\n",
       "   8 │   794  -8.43175    793       798  Yomigaeru Sora: Rescue Wings       {'\n",
       "   9 │ 15606  -8.53415  15605     29831  Tamayura: Sotsugyou Shashin Part…  {' ⋯\n",
       "  10 │  2018  -8.54144   2017      2035  Eikoku Koi Monogatari Emma: Mold…  {'\n",
       "  11 │  8988  -8.56987   8987     42568  Yakunara Mug Cup mo                {'\n",
       "  12 │ 11980  -8.60771  11979     48727  Yoru no Kuni                       {'\n",
       "  13 │  9984  -8.62209   9983     43756  Bakuten!!                          {' ⋯\n",
       "  14 │  7352  -8.641     7351     40504  Major 2nd (TV) 2nd Season          {'\n",
       "  15 │   344  -8.64893    343       344  Futatsu no Spica                   {'\n",
       "  16 │  7720  -8.68184   7719     40942  Gundam Build Divers Re:Rise 2nd …  {'\n",
       "  17 │  9073  -8.68623   9072     42668  Taisou Zamurai                     {' ⋯\n",
       "  18 │  4965  -8.74007   4964      5141  Taishou Yakyuu Musume.             {'\n",
       "  19 │  9189  -8.76093   9188     42798  Sayonara Watashi no Cramer Movie…  {'\n",
       "  20 │  2880  -8.78938   2879     35672  Yama no Susume: Third Season       {'\n",
       "  21 │  3674  -8.87557   3673      3734  Glass no Kamen: Sen no Kamen wo …  {' ⋯\n",
       "  22 │ 10726  -8.88175  10725     45577  IDOLiSH7: Third Beat!              {'\n",
       "  23 │  8248  -8.89904   8247     41556  Maiko-san Chi no Makanai-san       {'\n",
       "  24 │  4758  -8.90559   4757     37682  Wakaokami wa Shougakusei! Movie    {'\n",
       "  25 │  4875  -8.91321   4874     37807  Princess Principal: Crown Handle…  {' ⋯\n",
       "  26 │    37  -8.93733     36        29  Zipang                             {'\n",
       "  27 │  1114  -8.93836   1113      1126  Figure 17: Tsubasa & Hikaru        {'\n",
       "  28 │  5670  -8.95503   5669      1179  Gakuen Senki Muryou                {'\n",
       "  29 │   608  -8.96104    607     33378  Haikara-san ga Tooru Movie 1: Be…  {' ⋯\n",
       "  30 │  5151  -8.99008   5150     38098  Mix                                {'\n",
       "\u001b[36m                                                              17 columns omitted\u001b[0m"
      ]
     },
     "execution_count": 13,
     "metadata": {},
     "output_type": "execute_result"
    }
   ],
   "source": [
    "get_series(embed_df)"
   ]
  },
  {
   "cell_type": "code",
   "execution_count": null,
   "id": "73367b4a-7d22-4899-bf22-747ed80ef87b",
   "metadata": {},
   "outputs": [],
   "source": []
  }
 ],
 "metadata": {
  "kernelspec": {
   "display_name": "Julia 1.6.3",
   "language": "julia",
   "name": "julia-1.6"
  },
  "language_info": {
   "file_extension": ".jl",
   "mimetype": "application/julia",
   "name": "julia",
   "version": "1.6.3"
  }
 },
 "nbformat": 4,
 "nbformat_minor": 5
}
