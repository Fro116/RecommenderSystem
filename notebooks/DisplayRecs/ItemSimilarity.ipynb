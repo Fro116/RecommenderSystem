{
 "cells": [
  {
   "cell_type": "code",
   "execution_count": 1,
   "id": "79559bef-810a-402f-ad21-52092ec933f4",
   "metadata": {},
   "outputs": [],
   "source": [
    "name = \"../../data/recommendations/ItemSimilarity\"\n",
    "residual_alphas = [\"UserItemBiases\"];"
   ]
  },
  {
   "cell_type": "code",
   "execution_count": 2,
   "id": "a4ca1ac7-bfe8-48ab-a190-872aba4f6f5d",
   "metadata": {},
   "outputs": [],
   "source": [
    "import BSON"
   ]
  },
  {
   "cell_type": "code",
   "execution_count": 3,
   "id": "69b5a19a-24f5-4730-afe2-f451d27d18e3",
   "metadata": {},
   "outputs": [],
   "source": [
    "using NBInclude\n",
    "@nbinclude(\"../TrainingAlphas/Alpha.ipynb\");"
   ]
  },
  {
   "cell_type": "code",
   "execution_count": 4,
   "id": "eba43860-7763-48cc-b677-64cd6e6c8e55",
   "metadata": {
    "tags": []
   },
   "outputs": [],
   "source": [
    "anime_to_uid = DataFrame(CSV.File(\"../../data/processed_data/anime_to_uid.csv\"));\n",
    "anime = DataFrame(CSV.File(\"../../data/raw_data/anime.csv\", ntasks = 1));\n",
    "anime_to_uid = innerjoin(anime_to_uid, anime, on = \"anime_id\");"
   ]
  },
  {
   "cell_type": "markdown",
   "id": "03b8a971-b3be-48ab-a4d8-dd2d60f944a8",
   "metadata": {},
   "source": [
    "## Rating correlation"
   ]
  },
  {
   "cell_type": "code",
   "execution_count": 5,
   "id": "44769062-cd87-4646-b65b-27e64abab1c3",
   "metadata": {
    "tags": []
   },
   "outputs": [],
   "source": [
    "@memoize function get_norms(R)\n",
    "    norms = map(norm, eachslice(R, dims = 2))\n",
    "    norms[norms.==0] .= 1 # prevent division by 0\n",
    "    norms\n",
    "end;\n",
    "\n",
    "function get_correlation_neighborhood(item, R, K)\n",
    "    norms = get_norms(R)\n",
    "    weights = vec(R[:, item]' * R) ./ norms ./ norms[item]\n",
    "    order = sortperm(weights, rev = true)[1:K]\n",
    "    order[1:K], weights[order[1:K]]\n",
    "end\n",
    "\n",
    "const allsplits = RatingsDataset64(\n",
    "    reduce(\n",
    "        cat,\n",
    "        [\n",
    "            get_residuals(\"training\", residual_alphas),\n",
    "            get_residuals(\"validation\", residual_alphas),\n",
    "            get_residuals(\"test\", residual_alphas),\n",
    "        ],\n",
    "    ),\n",
    ")\n",
    "\n",
    "R = sparse(\n",
    "    allsplits.user,\n",
    "    allsplits.item,\n",
    "    allsplits.rating,\n",
    "    maximum(allsplits.user),\n",
    "    maximum(allsplits.item),\n",
    ");"
   ]
  },
  {
   "cell_type": "markdown",
   "id": "2786bacf-374e-4360-b594-e50850db59cf",
   "metadata": {},
   "source": [
    "## Embedding distance"
   ]
  },
  {
   "cell_type": "code",
   "execution_count": 33,
   "id": "7b9b0a88-142e-44ba-8411-e8f9fd7c9ce7",
   "metadata": {
    "tags": []
   },
   "outputs": [],
   "source": [
    "# function get_embedding_neighborhood(item, kernel, K, p)\n",
    "#     dists = map(x -> norm(x, p), eachslice(kernel .- kernel[:, item], dims = 2))\n",
    "#     weights = -dists\n",
    "#     order = sortperm(dists)[1:K]\n",
    "#     order[1:K], weights[order[1:K]]\n",
    "# end\n",
    "\n",
    "function get_embedding_neighborhood(item, kernel, K, p)\n",
    "    weights = item_embeddings' * item_embeddings[:, item]\n",
    "    order = sortperm(weights, rev = true)[1:K]\n",
    "    order[1:K], weights[order[1:K]]\n",
    "end\n",
    "\n",
    "function normalize_rows(X)\n",
    "    σ = std(X, dims = 2)\n",
    "    μ = mean(X, dims = 2)\n",
    "    (X .- μ) ./ σ / sqrt(size(X)[2] - 1)\n",
    "end\n",
    "\n",
    "BSON.@load read_params(\"GNN.1\")[\"model\"] m\n",
    "item_embeddings = collect(normalize_rows(m[end].paths[2][end].W[1:end-1, :])')\n",
    "#item_embeddings = collect(m[end].paths[2][end].W[1:end-1, :]')\n",
    "\n",
    "\n",
    "\n",
    "# item_embeddings = normalize_rows(\n",
    "#     vcat(\n",
    "#         [\n",
    "#             collect(read_params(\"MatrixFactorization.10\")[\"A\"]')\n",
    "#             collect(read_params(\"MatrixFactorization.20\")[\"A\"]')\n",
    "#             collect(read_params(\"MatrixFactorization.40\")[\"A\"]')\n",
    "#         ],\n",
    "#     ),\n",
    "# );"
   ]
  },
  {
   "cell_type": "code",
   "execution_count": 34,
   "id": "23d58c7c-667f-4088-872c-9ed5d87df940",
   "metadata": {},
   "outputs": [
    {
     "data": {
      "text/plain": [
       "0.9999999489956629"
      ]
     },
     "execution_count": 34,
     "metadata": {},
     "output_type": "execute_result"
    }
   ],
   "source": [
    "sum(item_embeddings[:, 1] .^ 2)"
   ]
  },
  {
   "cell_type": "code",
   "execution_count": 35,
   "id": "f069ae74-c224-4811-b195-84e05ed41bb0",
   "metadata": {},
   "outputs": [
    {
     "data": {
      "text/plain": [
       "512×18952 Matrix{Float64}:\n",
       "  0.0106984     0.0248302   -0.0297881    …  -0.0687551   -0.0989704\n",
       "  0.0276485     0.0265447    0.0273609       -0.0809831    0.0057281\n",
       "  0.017943      0.0241626    0.0225752       -0.0467197   -0.0126306\n",
       " -0.00839203   -0.00366141   0.00450299      -0.015713     0.019321\n",
       "  0.0544781     0.0778828    0.0634758        0.114164    -0.0138424\n",
       "  0.0241217     0.0322068   -0.000396235  …  -0.00387985   0.0193752\n",
       " -0.0122532    -0.0178925   -0.0111085        0.0261117    0.015431\n",
       "  0.015314      0.0144015    0.0055518       -0.0261875    0.00188437\n",
       " -0.0271665    -0.0148956   -0.0172454        0.0279557   -0.0742629\n",
       "  0.0248413     0.0367377    0.00520447       0.0378188    0.0256004\n",
       " -0.0415802    -0.0324428    0.0182154    …  -0.00470098  -0.00864064\n",
       "  0.000615042   0.0148209    0.0118555        0.0364203    0.0296078\n",
       " -0.04047      -0.0335678   -0.0486003       -0.00776298   0.00271118\n",
       "  ⋮                                       ⋱   ⋮           \n",
       " -0.089114     -0.0358091   -0.038675     …   0.0423287   -0.0642618\n",
       " -0.0119564    -0.0171879   -0.00464802       0.00806657   0.026599\n",
       "  0.0366446     0.0231013    0.0520607       -0.0597543   -0.0412233\n",
       "  0.0321274     0.0349683    0.0340652        0.0780123   -0.0282922\n",
       "  0.0325737     0.0360636    0.0387439        0.00941718   0.027269\n",
       "  0.121531      0.0932076    0.113267     …   0.00564729  -0.0767931\n",
       " -0.0252391    -0.00899101  -0.000281748     -0.00317467   0.00909935\n",
       "  0.00291701    0.0294862    0.00347239      -0.0146623    0.0147825\n",
       "  0.0238756     0.016051     0.0229891       -0.0190577   -0.0671456\n",
       " -0.00545779   -0.0166147    0.0198154        0.0129758    0.0144239\n",
       "  0.0307556     0.0191414    0.0170395    …  -0.0588523   -0.0253988\n",
       " -0.0368916    -0.0422117   -0.0277973        0.116976    -0.00128285"
      ]
     },
     "execution_count": 35,
     "metadata": {},
     "output_type": "execute_result"
    }
   ],
   "source": [
    "item_embeddings"
   ]
  },
  {
   "cell_type": "markdown",
   "id": "19366469-871e-49c9-9939-ffbd61a093e8",
   "metadata": {},
   "source": [
    "# Compute Neighborhoods"
   ]
  },
  {
   "cell_type": "code",
   "execution_count": 36,
   "id": "061073cd-55d2-4db6-ae8d-1c032ef13a6a",
   "metadata": {},
   "outputs": [
    {
     "data": {
      "text/plain": [
       "166"
      ]
     },
     "execution_count": 36,
     "metadata": {},
     "output_type": "execute_result"
    }
   ],
   "source": [
    "uid = only(anime_to_uid[anime_to_uid.anime_id.==189, :uid])"
   ]
  },
  {
   "cell_type": "code",
   "execution_count": 37,
   "id": "12f00826-c379-43f6-b6c0-d03c5f4bc4cd",
   "metadata": {},
   "outputs": [],
   "source": [
    "items, weights = get_correlation_neighborhood(uid + 1, R, 30);\n",
    "corr_df = DataFrame(anime = items, weight = weights);"
   ]
  },
  {
   "cell_type": "code",
   "execution_count": 38,
   "id": "d3d19bfa-440d-4e09-8b17-dcee6a629e2e",
   "metadata": {},
   "outputs": [],
   "source": [
    "items, weights = get_embedding_neighborhood(uid + 1, item_embeddings, 30, 2);\n",
    "embed_df = DataFrame(anime = items, weight = weights);"
   ]
  },
  {
   "cell_type": "markdown",
   "id": "1f86d5cb-ed10-40cd-ac34-a41c4facb4d4",
   "metadata": {},
   "source": [
    "# Display Similar Series"
   ]
  },
  {
   "cell_type": "code",
   "execution_count": 39,
   "id": "f9d4be81-1f2b-4bfb-b23d-8cd19d63335f",
   "metadata": {},
   "outputs": [],
   "source": [
    "function get_series(df)\n",
    "    df = copy(df)\n",
    "    df[!, :uid] = df[:, :anime] .- 1\n",
    "    sim = innerjoin(df, anime_to_uid, on = \"uid\")\n",
    "    sort(sim, :weight, rev = true)\n",
    "end;"
   ]
  },
  {
   "cell_type": "code",
   "execution_count": 40,
   "id": "9a4c7fd6-ec13-45be-a2e0-a52a01ebd46c",
   "metadata": {},
   "outputs": [],
   "source": [
    "ENV[\"LINES\"] = 30;"
   ]
  },
  {
   "cell_type": "code",
   "execution_count": 41,
   "id": "995d184c-e231-40bc-a2fe-ff36af78a243",
   "metadata": {},
   "outputs": [
    {
     "data": {
      "text/html": [
       "<div class=\"data-frame\"><p>30 rows × 22 columns (omitted printing of 17 columns)</p><table class=\"data-frame\"><thead><tr><th></th><th>anime</th><th>weight</th><th>uid</th><th>anime_id</th><th>title</th></tr><tr><th></th><th title=\"Int64\">Int64</th><th title=\"Float32\">Float32</th><th title=\"Int64\">Int64</th><th title=\"Int64\">Int64</th><th title=\"String\">String</th></tr></thead><tbody><tr><th>1</th><td>167</td><td>0.999997</td><td>166</td><td>189</td><td>Love Hina</td></tr><tr><th>2</th><td>168</td><td>0.3949</td><td>167</td><td>190</td><td>Love Hina Again</td></tr><tr><th>3</th><td>169</td><td>0.32214</td><td>168</td><td>191</td><td>Love Hina Christmas Special: Silent Eve</td></tr><tr><th>4</th><td>170</td><td>0.309668</td><td>169</td><td>192</td><td>Love Hina Haru Special: Kimi Sakura Chiru Nakare!!</td></tr><tr><th>5</th><td>869</td><td>0.255753</td><td>868</td><td>963</td><td>Love Hina: Motoko no Sentaku, Koi ka Ken... &quot;Naku na&quot;</td></tr><tr><th>6</th><td>2898</td><td>0.192223</td><td>2897</td><td>3247</td><td>Love Hina Final Selection</td></tr><tr><th>7</th><td>173</td><td>0.0830307</td><td>172</td><td>195</td><td>Onegai☆Teacher</td></tr><tr><th>8</th><td>41</td><td>0.0784482</td><td>40</td><td>59</td><td>Chobits</td></tr><tr><th>9</th><td>136</td><td>0.0775308</td><td>135</td><td>157</td><td>Mahou Sensei Negima!</td></tr><tr><th>10</th><td>32</td><td>0.0717814</td><td>31</td><td>50</td><td>Aa! Megami-sama! (TV)</td></tr><tr><th>11</th><td>113</td><td>0.0701487</td><td>112</td><td>133</td><td>Green Green</td></tr><tr><th>12</th><td>174</td><td>0.0700094</td><td>173</td><td>196</td><td>Onegai☆Twins</td></tr><tr><th>13</th><td>225</td><td>0.0695482</td><td>224</td><td>248</td><td>Ichigo 100%</td></tr><tr><th>14</th><td>45</td><td>0.0641636</td><td>44</td><td>63</td><td>DearS</td></tr><tr><th>15</th><td>218</td><td>0.0623349</td><td>217</td><td>241</td><td>Girls Bravo: First Season</td></tr><tr><th>16</th><td>35</td><td>0.0607266</td><td>34</td><td>53</td><td>Ai Yori Aoshi</td></tr><tr><th>17</th><td>171</td><td>0.0596738</td><td>170</td><td>193</td><td>Maburaho</td></tr><tr><th>18</th><td>555</td><td>0.0528112</td><td>554</td><td>591</td><td>Amaenaide yo!!</td></tr><tr><th>19</th><td>387</td><td>0.0515627</td><td>386</td><td>412</td><td>Kore ga Watashi no Goshujinsama</td></tr><tr><th>20</th><td>15</td><td>0.0513347</td><td>14</td><td>24</td><td>School Rumble</td></tr><tr><th>21</th><td>458</td><td>0.0511272</td><td>457</td><td>487</td><td>Girls Bravo: Second Season</td></tr><tr><th>22</th><td>52</td><td>0.0486335</td><td>51</td><td>71</td><td>Full Metal Panic!</td></tr><tr><th>23</th><td>295</td><td>0.0474032</td><td>294</td><td>318</td><td>Hand Maid May</td></tr><tr><th>24</th><td>59</td><td>0.046797</td><td>58</td><td>79</td><td>Shuffle!</td></tr><tr><th>25</th><td>367</td><td>0.0465621</td><td>366</td><td>390</td><td>Suzuka</td></tr><tr><th>26</th><td>2723</td><td>0.0462133</td><td>2722</td><td>2993</td><td>Rosario to Vampire</td></tr><tr><th>27</th><td>1091</td><td>0.0459606</td><td>1090</td><td>1195</td><td>Zero no Tsukaima</td></tr><tr><th>28</th><td>307</td><td>0.0446393</td><td>306</td><td>330</td><td>Midori no Hibi</td></tr><tr><th>29</th><td>1111</td><td>0.0444059</td><td>1110</td><td>1218</td><td>Tonagura!</td></tr><tr><th>30</th><td>796</td><td>0.0443651</td><td>795</td><td>880</td><td>Aa! Megami-sama!: Sorezore no Tsubasa</td></tr></tbody></table></div>"
      ],
      "text/latex": [
       "\\begin{tabular}{r|cccccc}\n",
       "\t& anime & weight & uid & anime\\_id & title & \\\\\n",
       "\t\\hline\n",
       "\t& Int64 & Float32 & Int64 & Int64 & String & \\\\\n",
       "\t\\hline\n",
       "\t1 & 167 & 0.999997 & 166 & 189 & Love Hina & $\\dots$ \\\\\n",
       "\t2 & 168 & 0.3949 & 167 & 190 & Love Hina Again & $\\dots$ \\\\\n",
       "\t3 & 169 & 0.32214 & 168 & 191 & Love Hina Christmas Special: Silent Eve & $\\dots$ \\\\\n",
       "\t4 & 170 & 0.309668 & 169 & 192 & Love Hina Haru Special: Kimi Sakura Chiru Nakare!! & $\\dots$ \\\\\n",
       "\t5 & 869 & 0.255753 & 868 & 963 & Love Hina: Motoko no Sentaku, Koi ka Ken... \"Naku na\" & $\\dots$ \\\\\n",
       "\t6 & 2898 & 0.192223 & 2897 & 3247 & Love Hina Final Selection & $\\dots$ \\\\\n",
       "\t7 & 173 & 0.0830307 & 172 & 195 & Onegai☆Teacher & $\\dots$ \\\\\n",
       "\t8 & 41 & 0.0784482 & 40 & 59 & Chobits & $\\dots$ \\\\\n",
       "\t9 & 136 & 0.0775308 & 135 & 157 & Mahou Sensei Negima! & $\\dots$ \\\\\n",
       "\t10 & 32 & 0.0717814 & 31 & 50 & Aa! Megami-sama! (TV) & $\\dots$ \\\\\n",
       "\t11 & 113 & 0.0701487 & 112 & 133 & Green Green & $\\dots$ \\\\\n",
       "\t12 & 174 & 0.0700094 & 173 & 196 & Onegai☆Twins & $\\dots$ \\\\\n",
       "\t13 & 225 & 0.0695482 & 224 & 248 & Ichigo 100\\% & $\\dots$ \\\\\n",
       "\t14 & 45 & 0.0641636 & 44 & 63 & DearS & $\\dots$ \\\\\n",
       "\t15 & 218 & 0.0623349 & 217 & 241 & Girls Bravo: First Season & $\\dots$ \\\\\n",
       "\t16 & 35 & 0.0607266 & 34 & 53 & Ai Yori Aoshi & $\\dots$ \\\\\n",
       "\t17 & 171 & 0.0596738 & 170 & 193 & Maburaho & $\\dots$ \\\\\n",
       "\t18 & 555 & 0.0528112 & 554 & 591 & Amaenaide yo!! & $\\dots$ \\\\\n",
       "\t19 & 387 & 0.0515627 & 386 & 412 & Kore ga Watashi no Goshujinsama & $\\dots$ \\\\\n",
       "\t20 & 15 & 0.0513347 & 14 & 24 & School Rumble & $\\dots$ \\\\\n",
       "\t21 & 458 & 0.0511272 & 457 & 487 & Girls Bravo: Second Season & $\\dots$ \\\\\n",
       "\t22 & 52 & 0.0486335 & 51 & 71 & Full Metal Panic! & $\\dots$ \\\\\n",
       "\t23 & 295 & 0.0474032 & 294 & 318 & Hand Maid May & $\\dots$ \\\\\n",
       "\t24 & 59 & 0.046797 & 58 & 79 & Shuffle! & $\\dots$ \\\\\n",
       "\t25 & 367 & 0.0465621 & 366 & 390 & Suzuka & $\\dots$ \\\\\n",
       "\t26 & 2723 & 0.0462133 & 2722 & 2993 & Rosario to Vampire & $\\dots$ \\\\\n",
       "\t27 & 1091 & 0.0459606 & 1090 & 1195 & Zero no Tsukaima & $\\dots$ \\\\\n",
       "\t28 & 307 & 0.0446393 & 306 & 330 & Midori no Hibi & $\\dots$ \\\\\n",
       "\t29 & 1111 & 0.0444059 & 1110 & 1218 & Tonagura! & $\\dots$ \\\\\n",
       "\t30 & 796 & 0.0443651 & 795 & 880 & Aa! Megami-sama!: Sorezore no Tsubasa & $\\dots$ \\\\\n",
       "\\end{tabular}\n"
      ],
      "text/plain": [
       "\u001b[1m30×22 DataFrame\u001b[0m\n",
       "\u001b[1m Row \u001b[0m│\u001b[1m anime \u001b[0m\u001b[1m weight    \u001b[0m\u001b[1m uid   \u001b[0m\u001b[1m anime_id \u001b[0m\u001b[1m title                             \u001b[0m\u001b[1m a\u001b[0m ⋯\n",
       "\u001b[1m     \u001b[0m│\u001b[90m Int64 \u001b[0m\u001b[90m Float32   \u001b[0m\u001b[90m Int64 \u001b[0m\u001b[90m Int64    \u001b[0m\u001b[90m String                            \u001b[0m\u001b[90m S\u001b[0m ⋯\n",
       "─────┼──────────────────────────────────────────────────────────────────────────\n",
       "   1 │   167  0.999997     166       189  Love Hina                          { ⋯\n",
       "   2 │   168  0.3949       167       190  Love Hina Again                    {\n",
       "   3 │   169  0.32214      168       191  Love Hina Christmas Special: Sil…  {\n",
       "   4 │   170  0.309668     169       192  Love Hina Haru Special: Kimi Sak…  {\n",
       "   5 │   869  0.255753     868       963  Love Hina: Motoko no Sentaku, Ko…  { ⋯\n",
       "   6 │  2898  0.192223    2897      3247  Love Hina Final Selection          {\n",
       "   7 │   173  0.0830307    172       195  Onegai☆Teacher                     {\n",
       "   8 │    41  0.0784482     40        59  Chobits                            {\n",
       "   9 │   136  0.0775308    135       157  Mahou Sensei Negima!               { ⋯\n",
       "  10 │    32  0.0717814     31        50  Aa! Megami-sama! (TV)              {\n",
       "  11 │   113  0.0701487    112       133  Green Green                        {\n",
       "  ⋮  │   ⋮        ⋮        ⋮       ⋮                      ⋮                    ⋱\n",
       "  21 │   458  0.0511272    457       487  Girls Bravo: Second Season         {\n",
       "  22 │    52  0.0486335     51        71  Full Metal Panic!                  { ⋯\n",
       "  23 │   295  0.0474032    294       318  Hand Maid May                      {\n",
       "  24 │    59  0.046797      58        79  Shuffle!                           {\n",
       "  25 │   367  0.0465621    366       390  Suzuka                             {\n",
       "  26 │  2723  0.0462133   2722      2993  Rosario to Vampire                 { ⋯\n",
       "  27 │  1091  0.0459606   1090      1195  Zero no Tsukaima                   {\n",
       "  28 │   307  0.0446393    306       330  Midori no Hibi                     {\n",
       "  29 │  1111  0.0444059   1110      1218  Tonagura!                          {\n",
       "  30 │   796  0.0443651    795       880  Aa! Megami-sama!: Sorezore no Ts…  { ⋯\n",
       "\u001b[36m                                                   17 columns and 9 rows omitted\u001b[0m"
      ]
     },
     "execution_count": 41,
     "metadata": {},
     "output_type": "execute_result"
    }
   ],
   "source": [
    "get_series(corr_df)"
   ]
  },
  {
   "cell_type": "code",
   "execution_count": 42,
   "id": "fe1b1ec4-2e4b-4776-9e38-eb083b578e86",
   "metadata": {},
   "outputs": [
    {
     "data": {
      "text/html": [
       "<div class=\"data-frame\"><p>30 rows × 22 columns (omitted printing of 17 columns)</p><table class=\"data-frame\"><thead><tr><th></th><th>anime</th><th>weight</th><th>uid</th><th>anime_id</th><th>title</th></tr><tr><th></th><th title=\"Int64\">Int64</th><th title=\"Float64\">Float64</th><th title=\"Int64\">Int64</th><th title=\"Int64\">Int64</th><th title=\"String\">String</th></tr></thead><tbody><tr><th>1</th><td>167</td><td>1.0</td><td>166</td><td>189</td><td>Love Hina</td></tr><tr><th>2</th><td>168</td><td>0.840407</td><td>167</td><td>190</td><td>Love Hina Again</td></tr><tr><th>3</th><td>169</td><td>0.763562</td><td>168</td><td>191</td><td>Love Hina Christmas Special: Silent Eve</td></tr><tr><th>4</th><td>170</td><td>0.745847</td><td>169</td><td>192</td><td>Love Hina Haru Special: Kimi Sakura Chiru Nakare!!</td></tr><tr><th>5</th><td>869</td><td>0.695854</td><td>868</td><td>963</td><td>Love Hina: Motoko no Sentaku, Koi ka Ken... &quot;Naku na&quot;</td></tr><tr><th>6</th><td>41</td><td>0.694563</td><td>40</td><td>59</td><td>Chobits</td></tr><tr><th>7</th><td>2898</td><td>0.678576</td><td>2897</td><td>3247</td><td>Love Hina Final Selection</td></tr><tr><th>8</th><td>32</td><td>0.672177</td><td>31</td><td>50</td><td>Aa! Megami-sama! (TV)</td></tr><tr><th>9</th><td>15</td><td>0.646117</td><td>14</td><td>24</td><td>School Rumble</td></tr><tr><th>10</th><td>225</td><td>0.626733</td><td>224</td><td>248</td><td>Ichigo 100%</td></tr><tr><th>11</th><td>173</td><td>0.612964</td><td>172</td><td>195</td><td>Onegai☆Teacher</td></tr><tr><th>12</th><td>113</td><td>0.612316</td><td>112</td><td>133</td><td>Green Green</td></tr><tr><th>13</th><td>765</td><td>0.603747</td><td>764</td><td>846</td><td>School Rumble Ni Gakki</td></tr><tr><th>14</th><td>45</td><td>0.602285</td><td>44</td><td>63</td><td>DearS</td></tr><tr><th>15</th><td>2723</td><td>0.600621</td><td>2722</td><td>2993</td><td>Rosario to Vampire</td></tr><tr><th>16</th><td>234</td><td>0.593538</td><td>233</td><td>257</td><td>Ikkitousen</td></tr><tr><th>17</th><td>35</td><td>0.583183</td><td>34</td><td>53</td><td>Ai Yori Aoshi</td></tr><tr><th>18</th><td>174</td><td>0.578215</td><td>173</td><td>196</td><td>Onegai☆Twins</td></tr><tr><th>19</th><td>52</td><td>0.574305</td><td>51</td><td>71</td><td>Full Metal Panic!</td></tr><tr><th>20</th><td>441</td><td>0.56559</td><td>440</td><td>469</td><td>Karin</td></tr><tr><th>21</th><td>53</td><td>0.559946</td><td>52</td><td>72</td><td>Full Metal Panic? Fumoffu</td></tr><tr><th>22</th><td>152</td><td>0.554992</td><td>151</td><td>174</td><td>Tenjou Tenge</td></tr><tr><th>23</th><td>796</td><td>0.554135</td><td>795</td><td>880</td><td>Aa! Megami-sama!: Sorezore no Tsubasa</td></tr><tr><th>24</th><td>59</td><td>0.552812</td><td>58</td><td>79</td><td>Shuffle!</td></tr><tr><th>25</th><td>371</td><td>0.551724</td><td>370</td><td>394</td><td>Ai Yori Aoshi: Enishi</td></tr><tr><th>26</th><td>5159</td><td>0.542836</td><td>5158</td><td>7817</td><td>B-gata H-kei</td></tr><tr><th>27</th><td>367</td><td>0.539766</td><td>366</td><td>390</td><td>Suzuka</td></tr><tr><th>28</th><td>3553</td><td>0.539592</td><td>3552</td><td>4214</td><td>Rosario to Vampire Capu2</td></tr><tr><th>29</th><td>307</td><td>0.537573</td><td>306</td><td>330</td><td>Midori no Hibi</td></tr><tr><th>30</th><td>126</td><td>0.535768</td><td>125</td><td>147</td><td>Kimi ga Nozomu Eien</td></tr></tbody></table></div>"
      ],
      "text/latex": [
       "\\begin{tabular}{r|cccccc}\n",
       "\t& anime & weight & uid & anime\\_id & title & \\\\\n",
       "\t\\hline\n",
       "\t& Int64 & Float64 & Int64 & Int64 & String & \\\\\n",
       "\t\\hline\n",
       "\t1 & 167 & 1.0 & 166 & 189 & Love Hina & $\\dots$ \\\\\n",
       "\t2 & 168 & 0.840407 & 167 & 190 & Love Hina Again & $\\dots$ \\\\\n",
       "\t3 & 169 & 0.763562 & 168 & 191 & Love Hina Christmas Special: Silent Eve & $\\dots$ \\\\\n",
       "\t4 & 170 & 0.745847 & 169 & 192 & Love Hina Haru Special: Kimi Sakura Chiru Nakare!! & $\\dots$ \\\\\n",
       "\t5 & 869 & 0.695854 & 868 & 963 & Love Hina: Motoko no Sentaku, Koi ka Ken... \"Naku na\" & $\\dots$ \\\\\n",
       "\t6 & 41 & 0.694563 & 40 & 59 & Chobits & $\\dots$ \\\\\n",
       "\t7 & 2898 & 0.678576 & 2897 & 3247 & Love Hina Final Selection & $\\dots$ \\\\\n",
       "\t8 & 32 & 0.672177 & 31 & 50 & Aa! Megami-sama! (TV) & $\\dots$ \\\\\n",
       "\t9 & 15 & 0.646117 & 14 & 24 & School Rumble & $\\dots$ \\\\\n",
       "\t10 & 225 & 0.626733 & 224 & 248 & Ichigo 100\\% & $\\dots$ \\\\\n",
       "\t11 & 173 & 0.612964 & 172 & 195 & Onegai☆Teacher & $\\dots$ \\\\\n",
       "\t12 & 113 & 0.612316 & 112 & 133 & Green Green & $\\dots$ \\\\\n",
       "\t13 & 765 & 0.603747 & 764 & 846 & School Rumble Ni Gakki & $\\dots$ \\\\\n",
       "\t14 & 45 & 0.602285 & 44 & 63 & DearS & $\\dots$ \\\\\n",
       "\t15 & 2723 & 0.600621 & 2722 & 2993 & Rosario to Vampire & $\\dots$ \\\\\n",
       "\t16 & 234 & 0.593538 & 233 & 257 & Ikkitousen & $\\dots$ \\\\\n",
       "\t17 & 35 & 0.583183 & 34 & 53 & Ai Yori Aoshi & $\\dots$ \\\\\n",
       "\t18 & 174 & 0.578215 & 173 & 196 & Onegai☆Twins & $\\dots$ \\\\\n",
       "\t19 & 52 & 0.574305 & 51 & 71 & Full Metal Panic! & $\\dots$ \\\\\n",
       "\t20 & 441 & 0.56559 & 440 & 469 & Karin & $\\dots$ \\\\\n",
       "\t21 & 53 & 0.559946 & 52 & 72 & Full Metal Panic? Fumoffu & $\\dots$ \\\\\n",
       "\t22 & 152 & 0.554992 & 151 & 174 & Tenjou Tenge & $\\dots$ \\\\\n",
       "\t23 & 796 & 0.554135 & 795 & 880 & Aa! Megami-sama!: Sorezore no Tsubasa & $\\dots$ \\\\\n",
       "\t24 & 59 & 0.552812 & 58 & 79 & Shuffle! & $\\dots$ \\\\\n",
       "\t25 & 371 & 0.551724 & 370 & 394 & Ai Yori Aoshi: Enishi & $\\dots$ \\\\\n",
       "\t26 & 5159 & 0.542836 & 5158 & 7817 & B-gata H-kei & $\\dots$ \\\\\n",
       "\t27 & 367 & 0.539766 & 366 & 390 & Suzuka & $\\dots$ \\\\\n",
       "\t28 & 3553 & 0.539592 & 3552 & 4214 & Rosario to Vampire Capu2 & $\\dots$ \\\\\n",
       "\t29 & 307 & 0.537573 & 306 & 330 & Midori no Hibi & $\\dots$ \\\\\n",
       "\t30 & 126 & 0.535768 & 125 & 147 & Kimi ga Nozomu Eien & $\\dots$ \\\\\n",
       "\\end{tabular}\n"
      ],
      "text/plain": [
       "\u001b[1m30×22 DataFrame\u001b[0m\n",
       "\u001b[1m Row \u001b[0m│\u001b[1m anime \u001b[0m\u001b[1m weight   \u001b[0m\u001b[1m uid   \u001b[0m\u001b[1m anime_id \u001b[0m\u001b[1m title                             \u001b[0m\u001b[1m al\u001b[0m ⋯\n",
       "\u001b[1m     \u001b[0m│\u001b[90m Int64 \u001b[0m\u001b[90m Float64  \u001b[0m\u001b[90m Int64 \u001b[0m\u001b[90m Int64    \u001b[0m\u001b[90m String                            \u001b[0m\u001b[90m St\u001b[0m ⋯\n",
       "─────┼──────────────────────────────────────────────────────────────────────────\n",
       "   1 │   167  1.0         166       189  Love Hina                          {' ⋯\n",
       "   2 │   168  0.840407    167       190  Love Hina Again                    {'\n",
       "   3 │   169  0.763562    168       191  Love Hina Christmas Special: Sil…  {'\n",
       "   4 │   170  0.745847    169       192  Love Hina Haru Special: Kimi Sak…  {'\n",
       "   5 │   869  0.695854    868       963  Love Hina: Motoko no Sentaku, Ko…  {' ⋯\n",
       "   6 │    41  0.694563     40        59  Chobits                            {'\n",
       "   7 │  2898  0.678576   2897      3247  Love Hina Final Selection          {'\n",
       "   8 │    32  0.672177     31        50  Aa! Megami-sama! (TV)              {'\n",
       "   9 │    15  0.646117     14        24  School Rumble                      {' ⋯\n",
       "  10 │   225  0.626733    224       248  Ichigo 100%                        {'\n",
       "  11 │   173  0.612964    172       195  Onegai☆Teacher                     {'\n",
       "  ⋮  │   ⋮       ⋮        ⋮       ⋮                      ⋮                     ⋱\n",
       "  21 │    53  0.559946     52        72  Full Metal Panic? Fumoffu          {'\n",
       "  22 │   152  0.554992    151       174  Tenjou Tenge                       {' ⋯\n",
       "  23 │   796  0.554135    795       880  Aa! Megami-sama!: Sorezore no Ts…  {'\n",
       "  24 │    59  0.552812     58        79  Shuffle!                           {'\n",
       "  25 │   371  0.551724    370       394  Ai Yori Aoshi: Enishi              {'\n",
       "  26 │  5159  0.542836   5158      7817  B-gata H-kei                       {' ⋯\n",
       "  27 │   367  0.539766    366       390  Suzuka                             {'\n",
       "  28 │  3553  0.539592   3552      4214  Rosario to Vampire Capu2           {'\n",
       "  29 │   307  0.537573    306       330  Midori no Hibi                     {'\n",
       "  30 │   126  0.535768    125       147  Kimi ga Nozomu Eien                {' ⋯\n",
       "\u001b[36m                                                   17 columns and 9 rows omitted\u001b[0m"
      ]
     },
     "execution_count": 42,
     "metadata": {},
     "output_type": "execute_result"
    }
   ],
   "source": [
    "get_series(embed_df)"
   ]
  },
  {
   "cell_type": "code",
   "execution_count": null,
   "id": "73367b4a-7d22-4899-bf22-747ed80ef87b",
   "metadata": {},
   "outputs": [],
   "source": []
  },
  {
   "cell_type": "code",
   "execution_count": null,
   "id": "828976c8-7a7a-43ca-bcb8-ffaedfbc6600",
   "metadata": {},
   "outputs": [],
   "source": []
  }
 ],
 "metadata": {
  "kernelspec": {
   "display_name": "Julia 1.6.3",
   "language": "julia",
   "name": "julia-1.6"
  },
  "language_info": {
   "file_extension": ".jl",
   "mimetype": "application/julia",
   "name": "julia",
   "version": "1.6.3"
  }
 },
 "nbformat": 4,
 "nbformat_minor": 5
}
