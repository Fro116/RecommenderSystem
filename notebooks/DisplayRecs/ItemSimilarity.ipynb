{
 "cells": [
  {
   "cell_type": "code",
   "execution_count": 1,
   "id": "79559bef-810a-402f-ad21-52092ec933f4",
   "metadata": {},
   "outputs": [],
   "source": [
    "name = \"../../data/recommendations/ItemSimilarity\"\n",
    "residual_alphas = [\"UserItemBiases\"];"
   ]
  },
  {
   "cell_type": "code",
   "execution_count": 2,
   "id": "a4ca1ac7-bfe8-48ab-a190-872aba4f6f5d",
   "metadata": {},
   "outputs": [],
   "source": [
    "import BSON"
   ]
  },
  {
   "cell_type": "code",
   "execution_count": 3,
   "id": "69b5a19a-24f5-4730-afe2-f451d27d18e3",
   "metadata": {},
   "outputs": [],
   "source": [
    "using NBInclude\n",
    "@nbinclude(\"../TrainingAlphas/Alpha.ipynb\");"
   ]
  },
  {
   "cell_type": "code",
   "execution_count": 4,
   "id": "eba43860-7763-48cc-b677-64cd6e6c8e55",
   "metadata": {
    "tags": []
   },
   "outputs": [],
   "source": [
    "anime_to_uid = DataFrame(CSV.File(\"../../data/processed_data/anime_to_uid.csv\"));\n",
    "anime = DataFrame(CSV.File(\"../../data/raw_data/anime.csv\", ntasks = 1));\n",
    "anime_to_uid = innerjoin(anime_to_uid, anime, on = \"anime_id\");"
   ]
  },
  {
   "cell_type": "markdown",
   "id": "03b8a971-b3be-48ab-a4d8-dd2d60f944a8",
   "metadata": {},
   "source": [
    "## Rating correlation"
   ]
  },
  {
   "cell_type": "code",
   "execution_count": 5,
   "id": "44769062-cd87-4646-b65b-27e64abab1c3",
   "metadata": {
    "tags": []
   },
   "outputs": [],
   "source": [
    "@memoize function get_norms(R)\n",
    "    norms = map(norm, eachslice(R, dims = 2))\n",
    "    norms[norms.==0] .= 1 # prevent division by 0\n",
    "    norms\n",
    "end;\n",
    "\n",
    "function get_correlation_neighborhood(item, R, K)\n",
    "    norms = get_norms(R)\n",
    "    weights = vec(R[:, item]' * R) ./ norms ./ norms[item]\n",
    "    order = sortperm(weights, rev = true)[1:K]\n",
    "    order[1:K], weights[order[1:K]]\n",
    "end\n",
    "\n",
    "const allsplits = RatingsDataset64(\n",
    "    reduce(\n",
    "        cat,\n",
    "        [\n",
    "            get_residuals(\"training\", residual_alphas),\n",
    "            get_residuals(\"validation\", residual_alphas),\n",
    "            get_residuals(\"test\", residual_alphas),\n",
    "        ],\n",
    "    ),\n",
    ")\n",
    "\n",
    "R = sparse(\n",
    "    allsplits.user,\n",
    "    allsplits.item,\n",
    "    allsplits.rating,\n",
    "    maximum(allsplits.user),\n",
    "    maximum(allsplits.item),\n",
    ");"
   ]
  },
  {
   "cell_type": "markdown",
   "id": "2786bacf-374e-4360-b594-e50850db59cf",
   "metadata": {},
   "source": [
    "## Embedding distance"
   ]
  },
  {
   "cell_type": "code",
   "execution_count": 6,
   "id": "7b9b0a88-142e-44ba-8411-e8f9fd7c9ce7",
   "metadata": {
    "tags": []
   },
   "outputs": [],
   "source": [
    "# function get_embedding_neighborhood(item, kernel, K, p)\n",
    "#     dists = map(x -> norm(x, p), eachslice(kernel .- kernel[:, item], dims = 2))\n",
    "#     weights = -dists\n",
    "#     order = sortperm(dists)[1:K]\n",
    "#     order[1:K], weights[order[1:K]]\n",
    "# end\n",
    "\n",
    "function get_embedding_neighborhood(item, kernel, K, p)\n",
    "    weights = item_embeddings' * item_embeddings[:, item]\n",
    "    order = sortperm(weights, rev = true)[1:K]\n",
    "    order[1:K], weights[order[1:K]]\n",
    "end\n",
    "\n",
    "function normalize_rows(X)\n",
    "    σ = std(X, dims = 2)\n",
    "    μ = mean(X, dims = 2)\n",
    "    (X .- μ) ./ σ / sqrt(size(X)[2] - 1)\n",
    "end\n",
    "\n",
    "BSON.@load read_params(\"GNN.1\")[\"model\"] m\n",
    "item_embeddings = collect(normalize_rows(m[end].paths[2][end].W[1:end-1, :])')\n",
    "#item_embeddings = collect(m[end].paths[2][end].W[1:end-1, :]')\n",
    "\n",
    "\n",
    "\n",
    "# item_embeddings = normalize_rows(\n",
    "#     vcat(\n",
    "#         [\n",
    "#             collect(read_params(\"MatrixFactorization.10\")[\"A\"]')\n",
    "#             collect(read_params(\"MatrixFactorization.20\")[\"A\"]')\n",
    "#             collect(read_params(\"MatrixFactorization.40\")[\"A\"]')\n",
    "#         ],\n",
    "#     ),\n",
    "# );"
   ]
  },
  {
   "cell_type": "markdown",
   "id": "19366469-871e-49c9-9939-ffbd61a093e8",
   "metadata": {},
   "source": [
    "# Compute Neighborhoods"
   ]
  },
  {
   "cell_type": "code",
   "execution_count": 9,
   "id": "061073cd-55d2-4db6-ae8d-1c032ef13a6a",
   "metadata": {},
   "outputs": [
    {
     "data": {
      "text/plain": [
       "2954"
      ]
     },
     "execution_count": 9,
     "metadata": {},
     "output_type": "execute_result"
    }
   ],
   "source": [
    "uid = only(anime_to_uid[anime_to_uid.anime_id.==3326, :uid])"
   ]
  },
  {
   "cell_type": "code",
   "execution_count": 10,
   "id": "12f00826-c379-43f6-b6c0-d03c5f4bc4cd",
   "metadata": {},
   "outputs": [],
   "source": [
    "items, weights = get_correlation_neighborhood(uid + 1, R, 30);\n",
    "corr_df = DataFrame(anime = items, weight = weights);"
   ]
  },
  {
   "cell_type": "code",
   "execution_count": 11,
   "id": "d3d19bfa-440d-4e09-8b17-dcee6a629e2e",
   "metadata": {},
   "outputs": [],
   "source": [
    "items, weights = get_embedding_neighborhood(uid + 1, item_embeddings, 30, 2);\n",
    "embed_df = DataFrame(anime = items, weight = weights);"
   ]
  },
  {
   "cell_type": "markdown",
   "id": "1f86d5cb-ed10-40cd-ac34-a41c4facb4d4",
   "metadata": {},
   "source": [
    "# Display Similar Series"
   ]
  },
  {
   "cell_type": "code",
   "execution_count": 12,
   "id": "f9d4be81-1f2b-4bfb-b23d-8cd19d63335f",
   "metadata": {},
   "outputs": [],
   "source": [
    "function get_series(df)\n",
    "    df = copy(df)\n",
    "    df[!, :uid] = df[:, :anime] .- 1\n",
    "    sim = innerjoin(df, anime_to_uid, on = \"uid\")\n",
    "    sort(sim, :weight, rev = true)\n",
    "end;"
   ]
  },
  {
   "cell_type": "code",
   "execution_count": 13,
   "id": "9a4c7fd6-ec13-45be-a2e0-a52a01ebd46c",
   "metadata": {},
   "outputs": [],
   "source": [
    "ENV[\"LINES\"] = 30;"
   ]
  },
  {
   "cell_type": "code",
   "execution_count": 14,
   "id": "995d184c-e231-40bc-a2fe-ff36af78a243",
   "metadata": {},
   "outputs": [
    {
     "data": {
      "text/html": [
       "<div class=\"data-frame\"><p>30 rows × 22 columns (omitted printing of 16 columns)</p><table class=\"data-frame\"><thead><tr><th></th><th>anime</th><th>weight</th><th>uid</th><th>anime_id</th><th>title</th><th>alternative_titles</th></tr><tr><th></th><th title=\"Int64\">Int64</th><th title=\"Float32\">Float32</th><th title=\"Int64\">Int64</th><th title=\"Int64\">Int64</th><th title=\"String\">String</th><th title=\"String\">String</th></tr></thead><tbody><tr><th>1</th><td>2955</td><td>0.999997</td><td>2954</td><td>3326</td><td>Inaka Isha</td><td>{&apos;synonyms&apos;: [&apos;Kafka Inaka Isha&apos;, &apos;Ein Landarzt&apos;], &apos;en&apos;: &quot;Franz Kafka&apos;s A Country Doctor&quot;, &apos;ja&apos;: &apos;カフカ 田舎医者&apos;}</td></tr><tr><th>2</th><td>1240</td><td>0.19679</td><td>1239</td><td>1370</td><td>Atama Yama</td><td>{&apos;synonyms&apos;: [&apos;Atama-yama&apos;], &apos;en&apos;: &apos;Mt. Head&apos;, &apos;ja&apos;: &apos;頭山&apos;}</td></tr><tr><th>3</th><td>3641</td><td>0.128019</td><td>3640</td><td>4458</td><td>Bavel no Hon</td><td>{&apos;synonyms&apos;: [], &apos;en&apos;: &quot;Bavel&apos;s Book&quot;, &apos;ja&apos;: &apos;バベルの本&apos;}</td></tr><tr><th>4</th><td>1099</td><td>0.126001</td><td>1098</td><td>1205</td><td>Aru Tabibito no Nikki</td><td>{&apos;synonyms&apos;: [&apos;The Diary of Tortov Roddle&apos;, &quot;A Traveller&apos;s Diary&quot;], &apos;en&apos;: &apos;&apos;, &apos;ja&apos;: &apos;或る旅人の日記&apos;}</td></tr><tr><th>5</th><td>565</td><td>0.12368</td><td>564</td><td>601</td><td>Nekojiru-sou</td><td>{&apos;synonyms&apos;: [], &apos;en&apos;: &apos;Cat Soup&apos;, &apos;ja&apos;: &apos;ねこぢる草&apos;}</td></tr><tr><th>6</th><td>4817</td><td>0.123217</td><td>4816</td><td>6935</td><td>Enkinhou no Hako: Hakase no Sagashimono</td><td>{&apos;synonyms&apos;: [&apos;Perspektivenbox&apos;], &apos;en&apos;: &quot;The Researcher&apos;s Search - Perspectivenbox&quot;, &apos;ja&apos;: &apos;遠近法の箱-博士のさがしもの&apos;}</td></tr><tr><th>7</th><td>3487</td><td>0.119318</td><td>3486</td><td>4095</td><td>Chuumon no Ooi Ryouriten (1991)</td><td>{&apos;synonyms&apos;: [&apos;A Well-Ordered Restaurant&apos;, &apos;The Restaurant of Many Orders&apos;], &apos;en&apos;: &apos;&apos;, &apos;ja&apos;: &apos;注文の多い料理店&apos;}</td></tr><tr><th>8</th><td>6311</td><td>0.118962</td><td>6310</td><td>10688</td><td>Muybridge no Ito</td><td>{&apos;synonyms&apos;: [&quot;Muybridge&apos;s Strings&quot;], &apos;en&apos;: &apos;&apos;, &apos;ja&apos;: &apos;マイブリッジの糸&apos;}</td></tr><tr><th>9</th><td>2878</td><td>0.114922</td><td>2877</td><td>3215</td><td>Fuyu no Hi</td><td>{&apos;synonyms&apos;: [], &apos;en&apos;: &apos;Winter Days&apos;, &apos;ja&apos;: &apos;冬の日&apos;}</td></tr><tr><th>10</th><td>4930</td><td>0.110809</td><td>4929</td><td>7243</td><td>Suisei</td><td>{&apos;synonyms&apos;: [], &apos;en&apos;: &apos;Aquatic&apos;, &apos;ja&apos;: &apos;水棲&apos;}</td></tr><tr><th>11</th><td>1098</td><td>0.107446</td><td>1097</td><td>1204</td><td>Kujira no Chouyaku</td><td>{&apos;synonyms&apos;: [&apos;Glassy Ocean&apos;], &apos;en&apos;: &apos;&apos;, &apos;ja&apos;: &apos;クジラの跳躍&apos;}</td></tr><tr><th>12</th><td>5323</td><td>0.107126</td><td>5322</td><td>8333</td><td>Kodomo no Keijijougaku</td><td>{&apos;synonyms&apos;: [], &apos;en&apos;: &quot;A Child&apos;s Metaphysics&quot;, &apos;ja&apos;: &apos;こどもの形而上学&apos;}</td></tr><tr><th>13</th><td>3002</td><td>0.105402</td><td>3001</td><td>3401</td><td>Aru Tabibito no Nikki Specials</td><td>{&apos;synonyms&apos;: [&apos;The Diary of Tortov Roddle Specials&apos;, &quot;A Traveller&apos;s Diary Specials&quot;], &apos;en&apos;: &apos;&apos;, &apos;ja&apos;: &apos;或る旅人の日記&apos;}</td></tr><tr><th>14</th><td>3367</td><td>0.104087</td><td>3366</td><td>3914</td><td>1001 Nights</td><td>{&apos;synonyms&apos;: [], &apos;en&apos;: &apos;&apos;, &apos;ja&apos;: &apos;1001 Nights&apos;}</td></tr><tr><th>15</th><td>3654</td><td>0.103527</td><td>3653</td><td>4475</td><td>Toshi wo Totta Wani</td><td>{&apos;synonyms&apos;: [&apos;The Old Crocodile&apos;], &apos;en&apos;: &apos;&apos;, &apos;ja&apos;: &apos;年をとった鰐&apos;}</td></tr><tr><th>16</th><td>1802</td><td>0.101569</td><td>1801</td><td>1978</td><td>Onkyo Seimeitai Noiseman</td><td>{&apos;synonyms&apos;: [], &apos;en&apos;: &apos;Noiseman Sound Insect&apos;, &apos;ja&apos;: &apos;音響生命体ノイズマン&apos;}</td></tr><tr><th>17</th><td>7024</td><td>0.101362</td><td>7023</td><td>13755</td><td>Shanshui Qing</td><td>{&apos;synonyms&apos;: [&apos;Shan shui qing&apos;, &apos;Feeling from Mountain and Water&apos;], &apos;en&apos;: &apos;&apos;, &apos;ja&apos;: &apos;山水情&apos;}</td></tr><tr><th>18</th><td>5156</td><td>0.0983595</td><td>5155</td><td>7810</td><td>Yami wo Mitsumeru Hane</td><td>{&apos;synonyms&apos;: [&apos;Feathers Gazing into the Darkness&apos;, &apos;Feathers Staring into the Darkness&apos;, &apos;Thinking and Drawing: Nihon no Shinseiki Art Animation&apos;, &apos;Thinking and Drawing: Japanese Art Animation of the New Millennium&apos;], &apos;en&apos;: &apos;A Feather Stare at the Dark&apos;, &apos;ja&apos;: &apos;闇を見つめる羽根&apos;}</td></tr><tr><th>19</th><td>4914</td><td>0.0934669</td><td>4913</td><td>7170</td><td>Kataku</td><td>{&apos;synonyms&apos;: [], &apos;en&apos;: &apos;House of Flames&apos;, &apos;ja&apos;: &apos;火宅&apos;}</td></tr><tr><th>20</th><td>791</td><td>0.0924391</td><td>790</td><td>875</td><td>Mind Game</td><td>{&apos;synonyms&apos;: [&apos;Mindgame&apos;], &apos;en&apos;: &apos;&apos;, &apos;ja&apos;: &apos;マインド・ゲーム&apos;}</td></tr><tr><th>21</th><td>1779</td><td>0.0919973</td><td>1778</td><td>1951</td><td>Manie-Manie: Meikyuu Monogatari</td><td>{&apos;synonyms&apos;: [&apos;Manie Manie The Labyrinth Tales&apos;, &apos;Labyrinth Labyrinthos&apos;, &apos;Hashiru Otoko&apos;, &apos;The Order to Stop Construction&apos;, &apos;Construction Cancellation Order&apos;, &apos;Running Man&apos;, &apos;Meikyu Monogatari&apos;], &apos;en&apos;: &apos;Neo Tokyo&apos;, &apos;ja&apos;: &apos;Manie-Manie 迷宮物語&apos;}</td></tr><tr><th>22</th><td>3643</td><td>0.0919501</td><td>3642</td><td>4460</td><td>Kikumana</td><td>{&apos;synonyms&apos;: [], &apos;en&apos;: &apos;&apos;, &apos;ja&apos;: &apos;キクマナ&apos;}</td></tr><tr><th>23</th><td>4931</td><td>0.0914996</td><td>4930</td><td>7244</td><td>Hyakka Zukan</td><td>{&apos;synonyms&apos;: [], &apos;en&apos;: &apos;Japanese-English Pictionary&apos;, &apos;ja&apos;: &apos;ひゃっかずかん&apos;}</td></tr><tr><th>24</th><td>4862</td><td>0.0903073</td><td>4861</td><td>7025</td><td>Kiseichuu no Ichiya</td><td>{&apos;synonyms&apos;: [&apos;The Midnight Parasites&apos;], &apos;en&apos;: &apos;&apos;, &apos;ja&apos;: &apos;寄生虫の一夜&apos;}</td></tr><tr><th>25</th><td>3080</td><td>0.0902337</td><td>3079</td><td>3508</td><td>Genius Party</td><td>{&apos;synonyms&apos;: [&apos;Shanghai Dragon&apos;, &apos;Deathtic 4&apos;, &apos;Doorbell&apos;, &apos;Limit Cycle&apos;, &apos;Happy Machine&apos;, &apos;Baby Blue&apos;], &apos;en&apos;: &apos;&apos;, &apos;ja&apos;: &apos;ジーニアスパーティー&apos;}</td></tr><tr><th>26</th><td>3054</td><td>0.0897292</td><td>3053</td><td>3472</td><td>Tenrankai no E</td><td>{&apos;synonyms&apos;: [], &apos;en&apos;: &apos;Pictures at an Exhibition&apos;, &apos;ja&apos;: &apos;展覧会の絵&apos;}</td></tr><tr><th>27</th><td>1360</td><td>0.0896888</td><td>1359</td><td>1497</td><td>Aru Machi Kado no Monogatari</td><td>{&apos;synonyms&apos;: [&apos;Aru Machikado no Monogatari&apos;, &apos;Story of a Street Corner&apos;, &apos;Tale of a Street Corner&apos;], &apos;en&apos;: &apos;Tales of the Street Corner&apos;, &apos;ja&apos;: &apos;ある街角の物語&apos;}</td></tr><tr><th>28</th><td>1007</td><td>0.0891616</td><td>1006</td><td>1106</td><td>Eikyuu Kazoku</td><td>{&apos;synonyms&apos;: [&apos;Eternal Family&apos;], &apos;en&apos;: &apos;&apos;, &apos;ja&apos;: &apos;永久家族&apos;}</td></tr><tr><th>29</th><td>801</td><td>0.0884018</td><td>800</td><td>885</td><td>Tenshi no Tamago</td><td>{&apos;synonyms&apos;: [], &apos;en&apos;: &quot;Angel&apos;s Egg&quot;, &apos;ja&apos;: &apos;天使のたまご&apos;}</td></tr><tr><th>30</th><td>2025</td><td>0.0880226</td><td>2024</td><td>2211</td><td>Jumping</td><td>{&apos;synonyms&apos;: [], &apos;en&apos;: &apos;&apos;, &apos;ja&apos;: &apos;ジャンピング&apos;}</td></tr></tbody></table></div>"
      ],
      "text/latex": [
       "\\begin{tabular}{r|ccccccc}\n",
       "\t& anime & weight & uid & anime\\_id & title & alternative\\_titles & \\\\\n",
       "\t\\hline\n",
       "\t& Int64 & Float32 & Int64 & Int64 & String & String & \\\\\n",
       "\t\\hline\n",
       "\t1 & 2955 & 0.999997 & 2954 & 3326 & Inaka Isha & \\{'synonyms': ['Kafka Inaka Isha', 'Ein Landarzt'], 'en': \"Franz Kafka's A Country Doctor\", 'ja': 'カフカ 田舎医者'\\} & $\\dots$ \\\\\n",
       "\t2 & 1240 & 0.19679 & 1239 & 1370 & Atama Yama & \\{'synonyms': ['Atama-yama'], 'en': 'Mt. Head', 'ja': '頭山'\\} & $\\dots$ \\\\\n",
       "\t3 & 3641 & 0.128019 & 3640 & 4458 & Bavel no Hon & \\{'synonyms': [], 'en': \"Bavel's Book\", 'ja': 'バベルの本'\\} & $\\dots$ \\\\\n",
       "\t4 & 1099 & 0.126001 & 1098 & 1205 & Aru Tabibito no Nikki & \\{'synonyms': ['The Diary of Tortov Roddle', \"A Traveller's Diary\"], 'en': '', 'ja': '或る旅人の日記'\\} & $\\dots$ \\\\\n",
       "\t5 & 565 & 0.12368 & 564 & 601 & Nekojiru-sou & \\{'synonyms': [], 'en': 'Cat Soup', 'ja': 'ねこぢる草'\\} & $\\dots$ \\\\\n",
       "\t6 & 4817 & 0.123217 & 4816 & 6935 & Enkinhou no Hako: Hakase no Sagashimono & \\{'synonyms': ['Perspektivenbox'], 'en': \"The Researcher's Search - Perspectivenbox\", 'ja': '遠近法の箱-博士のさがしもの'\\} & $\\dots$ \\\\\n",
       "\t7 & 3487 & 0.119318 & 3486 & 4095 & Chuumon no Ooi Ryouriten (1991) & \\{'synonyms': ['A Well-Ordered Restaurant', 'The Restaurant of Many Orders'], 'en': '', 'ja': '注文の多い料理店'\\} & $\\dots$ \\\\\n",
       "\t8 & 6311 & 0.118962 & 6310 & 10688 & Muybridge no Ito & \\{'synonyms': [\"Muybridge's Strings\"], 'en': '', 'ja': 'マイブリッジの糸'\\} & $\\dots$ \\\\\n",
       "\t9 & 2878 & 0.114922 & 2877 & 3215 & Fuyu no Hi & \\{'synonyms': [], 'en': 'Winter Days', 'ja': '冬の日'\\} & $\\dots$ \\\\\n",
       "\t10 & 4930 & 0.110809 & 4929 & 7243 & Suisei & \\{'synonyms': [], 'en': 'Aquatic', 'ja': '水棲'\\} & $\\dots$ \\\\\n",
       "\t11 & 1098 & 0.107446 & 1097 & 1204 & Kujira no Chouyaku & \\{'synonyms': ['Glassy Ocean'], 'en': '', 'ja': 'クジラの跳躍'\\} & $\\dots$ \\\\\n",
       "\t12 & 5323 & 0.107126 & 5322 & 8333 & Kodomo no Keijijougaku & \\{'synonyms': [], 'en': \"A Child's Metaphysics\", 'ja': 'こどもの形而上学'\\} & $\\dots$ \\\\\n",
       "\t13 & 3002 & 0.105402 & 3001 & 3401 & Aru Tabibito no Nikki Specials & \\{'synonyms': ['The Diary of Tortov Roddle Specials', \"A Traveller's Diary Specials\"], 'en': '', 'ja': '或る旅人の日記'\\} & $\\dots$ \\\\\n",
       "\t14 & 3367 & 0.104087 & 3366 & 3914 & 1001 Nights & \\{'synonyms': [], 'en': '', 'ja': '1001 Nights'\\} & $\\dots$ \\\\\n",
       "\t15 & 3654 & 0.103527 & 3653 & 4475 & Toshi wo Totta Wani & \\{'synonyms': ['The Old Crocodile'], 'en': '', 'ja': '年をとった鰐'\\} & $\\dots$ \\\\\n",
       "\t16 & 1802 & 0.101569 & 1801 & 1978 & Onkyo Seimeitai Noiseman & \\{'synonyms': [], 'en': 'Noiseman Sound Insect', 'ja': '音響生命体ノイズマン'\\} & $\\dots$ \\\\\n",
       "\t17 & 7024 & 0.101362 & 7023 & 13755 & Shanshui Qing & \\{'synonyms': ['Shan shui qing', 'Feeling from Mountain and Water'], 'en': '', 'ja': '山水情'\\} & $\\dots$ \\\\\n",
       "\t18 & 5156 & 0.0983595 & 5155 & 7810 & Yami wo Mitsumeru Hane & \\{'synonyms': ['Feathers Gazing into the Darkness', 'Feathers Staring into the Darkness', 'Thinking and Drawing: Nihon no Shinseiki Art Animation', 'Thinking and Drawing: Japanese Art Animation of the New Millennium'], 'en': 'A Feather Stare at the Dark', 'ja': '闇を見つめる羽根'\\} & $\\dots$ \\\\\n",
       "\t19 & 4914 & 0.0934669 & 4913 & 7170 & Kataku & \\{'synonyms': [], 'en': 'House of Flames', 'ja': '火宅'\\} & $\\dots$ \\\\\n",
       "\t20 & 791 & 0.0924391 & 790 & 875 & Mind Game & \\{'synonyms': ['Mindgame'], 'en': '', 'ja': 'マインド・ゲーム'\\} & $\\dots$ \\\\\n",
       "\t21 & 1779 & 0.0919973 & 1778 & 1951 & Manie-Manie: Meikyuu Monogatari & \\{'synonyms': ['Manie Manie The Labyrinth Tales', 'Labyrinth Labyrinthos', 'Hashiru Otoko', 'The Order to Stop Construction', 'Construction Cancellation Order', 'Running Man', 'Meikyu Monogatari'], 'en': 'Neo Tokyo', 'ja': 'Manie-Manie 迷宮物語'\\} & $\\dots$ \\\\\n",
       "\t22 & 3643 & 0.0919501 & 3642 & 4460 & Kikumana & \\{'synonyms': [], 'en': '', 'ja': 'キクマナ'\\} & $\\dots$ \\\\\n",
       "\t23 & 4931 & 0.0914996 & 4930 & 7244 & Hyakka Zukan & \\{'synonyms': [], 'en': 'Japanese-English Pictionary', 'ja': 'ひゃっかずかん'\\} & $\\dots$ \\\\\n",
       "\t24 & 4862 & 0.0903073 & 4861 & 7025 & Kiseichuu no Ichiya & \\{'synonyms': ['The Midnight Parasites'], 'en': '', 'ja': '寄生虫の一夜'\\} & $\\dots$ \\\\\n",
       "\t25 & 3080 & 0.0902337 & 3079 & 3508 & Genius Party & \\{'synonyms': ['Shanghai Dragon', 'Deathtic 4', 'Doorbell', 'Limit Cycle', 'Happy Machine', 'Baby Blue'], 'en': '', 'ja': 'ジーニアスパーティー'\\} & $\\dots$ \\\\\n",
       "\t26 & 3054 & 0.0897292 & 3053 & 3472 & Tenrankai no E & \\{'synonyms': [], 'en': 'Pictures at an Exhibition', 'ja': '展覧会の絵'\\} & $\\dots$ \\\\\n",
       "\t27 & 1360 & 0.0896888 & 1359 & 1497 & Aru Machi Kado no Monogatari & \\{'synonyms': ['Aru Machikado no Monogatari', 'Story of a Street Corner', 'Tale of a Street Corner'], 'en': 'Tales of the Street Corner', 'ja': 'ある街角の物語'\\} & $\\dots$ \\\\\n",
       "\t28 & 1007 & 0.0891616 & 1006 & 1106 & Eikyuu Kazoku & \\{'synonyms': ['Eternal Family'], 'en': '', 'ja': '永久家族'\\} & $\\dots$ \\\\\n",
       "\t29 & 801 & 0.0884018 & 800 & 885 & Tenshi no Tamago & \\{'synonyms': [], 'en': \"Angel's Egg\", 'ja': '天使のたまご'\\} & $\\dots$ \\\\\n",
       "\t30 & 2025 & 0.0880226 & 2024 & 2211 & Jumping & \\{'synonyms': [], 'en': '', 'ja': 'ジャンピング'\\} & $\\dots$ \\\\\n",
       "\\end{tabular}\n"
      ],
      "text/plain": [
       "\u001b[1m30×22 DataFrame\u001b[0m\n",
       "\u001b[1m Row \u001b[0m│\u001b[1m anime \u001b[0m\u001b[1m weight    \u001b[0m\u001b[1m uid   \u001b[0m\u001b[1m anime_id \u001b[0m\u001b[1m title                             \u001b[0m\u001b[1m a\u001b[0m ⋯\n",
       "\u001b[1m     \u001b[0m│\u001b[90m Int64 \u001b[0m\u001b[90m Float32   \u001b[0m\u001b[90m Int64 \u001b[0m\u001b[90m Int64    \u001b[0m\u001b[90m String                            \u001b[0m\u001b[90m S\u001b[0m ⋯\n",
       "─────┼──────────────────────────────────────────────────────────────────────────\n",
       "   1 │  2955  0.999997    2954      3326  Inaka Isha                         { ⋯\n",
       "   2 │  1240  0.19679     1239      1370  Atama Yama                         {\n",
       "   3 │  3641  0.128019    3640      4458  Bavel no Hon                       {\n",
       "   4 │  1099  0.126001    1098      1205  Aru Tabibito no Nikki              {\n",
       "   5 │   565  0.12368      564       601  Nekojiru-sou                       { ⋯\n",
       "   6 │  4817  0.123217    4816      6935  Enkinhou no Hako: Hakase no Saga…  {\n",
       "   7 │  3487  0.119318    3486      4095  Chuumon no Ooi Ryouriten (1991)    {\n",
       "   8 │  6311  0.118962    6310     10688  Muybridge no Ito                   {\n",
       "   9 │  2878  0.114922    2877      3215  Fuyu no Hi                         { ⋯\n",
       "  10 │  4930  0.110809    4929      7243  Suisei                             {\n",
       "  11 │  1098  0.107446    1097      1204  Kujira no Chouyaku                 {\n",
       "  ⋮  │   ⋮        ⋮        ⋮       ⋮                      ⋮                    ⋱\n",
       "  21 │  1779  0.0919973   1778      1951  Manie-Manie: Meikyuu Monogatari    {\n",
       "  22 │  3643  0.0919501   3642      4460  Kikumana                           { ⋯\n",
       "  23 │  4931  0.0914996   4930      7244  Hyakka Zukan                       {\n",
       "  24 │  4862  0.0903073   4861      7025  Kiseichuu no Ichiya                {\n",
       "  25 │  3080  0.0902337   3079      3508  Genius Party                       {\n",
       "  26 │  3054  0.0897292   3053      3472  Tenrankai no E                     { ⋯\n",
       "  27 │  1360  0.0896888   1359      1497  Aru Machi Kado no Monogatari       {\n",
       "  28 │  1007  0.0891616   1006      1106  Eikyuu Kazoku                      {\n",
       "  29 │   801  0.0884018    800       885  Tenshi no Tamago                   {\n",
       "  30 │  2025  0.0880226   2024      2211  Jumping                            { ⋯\n",
       "\u001b[36m                                                   17 columns and 9 rows omitted\u001b[0m"
      ]
     },
     "execution_count": 14,
     "metadata": {},
     "output_type": "execute_result"
    }
   ],
   "source": [
    "get_series(corr_df)"
   ]
  },
  {
   "cell_type": "code",
   "execution_count": 15,
   "id": "fe1b1ec4-2e4b-4776-9e38-eb083b578e86",
   "metadata": {},
   "outputs": [
    {
     "data": {
      "text/html": [
       "<div class=\"data-frame\"><p>30 rows × 22 columns (omitted printing of 16 columns)</p><table class=\"data-frame\"><thead><tr><th></th><th>anime</th><th>weight</th><th>uid</th><th>anime_id</th><th>title</th><th>alternative_titles</th></tr><tr><th></th><th title=\"Int64\">Int64</th><th title=\"Float64\">Float64</th><th title=\"Int64\">Int64</th><th title=\"Int64\">Int64</th><th title=\"String\">String</th><th title=\"String\">String</th></tr></thead><tbody><tr><th>1</th><td>2955</td><td>1.0</td><td>2954</td><td>3326</td><td>Inaka Isha</td><td>{&apos;synonyms&apos;: [&apos;Kafka Inaka Isha&apos;, &apos;Ein Landarzt&apos;], &apos;en&apos;: &quot;Franz Kafka&apos;s A Country Doctor&quot;, &apos;ja&apos;: &apos;カフカ 田舎医者&apos;}</td></tr><tr><th>2</th><td>1240</td><td>0.663072</td><td>1239</td><td>1370</td><td>Atama Yama</td><td>{&apos;synonyms&apos;: [&apos;Atama-yama&apos;], &apos;en&apos;: &apos;Mt. Head&apos;, &apos;ja&apos;: &apos;頭山&apos;}</td></tr><tr><th>3</th><td>3643</td><td>0.644736</td><td>3642</td><td>4460</td><td>Kikumana</td><td>{&apos;synonyms&apos;: [], &apos;en&apos;: &apos;&apos;, &apos;ja&apos;: &apos;キクマナ&apos;}</td></tr><tr><th>4</th><td>565</td><td>0.637754</td><td>564</td><td>601</td><td>Nekojiru-sou</td><td>{&apos;synonyms&apos;: [], &apos;en&apos;: &apos;Cat Soup&apos;, &apos;ja&apos;: &apos;ねこぢる草&apos;}</td></tr><tr><th>5</th><td>1099</td><td>0.633924</td><td>1098</td><td>1205</td><td>Aru Tabibito no Nikki</td><td>{&apos;synonyms&apos;: [&apos;The Diary of Tortov Roddle&apos;, &quot;A Traveller&apos;s Diary&quot;], &apos;en&apos;: &apos;&apos;, &apos;ja&apos;: &apos;或る旅人の日記&apos;}</td></tr><tr><th>6</th><td>975</td><td>0.597691</td><td>974</td><td>1072</td><td>Sweat Punch</td><td>{&apos;synonyms&apos;: [&apos;Deep Imagination&apos;, &apos;Dan Petory Kyoushu no Yuutsu&apos;, &quot;Professor Dan Petry&apos;s Blues&quot;, &apos;End of the World&apos;, &apos;Kigeki&apos;, &apos;Comedy&apos;, &apos;Higan&apos;, &apos;Beyond&apos;, &apos;Garakuta no Machi&apos;, &apos;Junk Town&apos;], &apos;en&apos;: &apos;Sweat Punch&apos;, &apos;ja&apos;: &apos;スウェットパンチ&apos;}</td></tr><tr><th>7</th><td>2601</td><td>0.581913</td><td>2600</td><td>2832</td><td>Ani*Kuri15</td><td>{&apos;synonyms&apos;: [&apos;Ani*Cre15&apos;, &apos;Ani Kuri 15&apos;, &apos;Ani-Kuri 15&apos;, &apos;Anikuri 15&apos;, &apos;Neko no Shuukai&apos;], &apos;en&apos;: &apos;&apos;, &apos;ja&apos;: &apos;アニ＊クリ15&apos;}</td></tr><tr><th>8</th><td>3080</td><td>0.579666</td><td>3079</td><td>3508</td><td>Genius Party</td><td>{&apos;synonyms&apos;: [&apos;Shanghai Dragon&apos;, &apos;Deathtic 4&apos;, &apos;Doorbell&apos;, &apos;Limit Cycle&apos;, &apos;Happy Machine&apos;, &apos;Baby Blue&apos;], &apos;en&apos;: &apos;&apos;, &apos;ja&apos;: &apos;ジーニアスパーティー&apos;}</td></tr><tr><th>9</th><td>4742</td><td>0.570622</td><td>4741</td><td>6795</td><td>Genius Party Beyond</td><td>{&apos;synonyms&apos;: [&apos;Genius Party 2&apos;, &apos;Gala&apos;, &apos;Moondrive&apos;, &apos;Wanwa the Puppy&apos;, &apos;Tojin Kit&apos;, &apos;Dimension Bomb&apos;], &apos;en&apos;: &apos;&apos;, &apos;ja&apos;: &apos;ジーニアスパーティービヨンド&apos;}</td></tr><tr><th>10</th><td>3983</td><td>0.56256</td><td>3982</td><td>5158</td><td>Noisy Birth</td><td>{&apos;synonyms&apos;: [], &apos;en&apos;: &apos;&apos;, &apos;ja&apos;: &apos;我ハ機ナリ&apos;}</td></tr><tr><th>11</th><td>2049</td><td>0.557441</td><td>2048</td><td>2235</td><td>Mizu no Kotoba</td><td>{&apos;synonyms&apos;: [&apos;Aquatic Language&apos;], &apos;en&apos;: &apos;&apos;, &apos;ja&apos;: &apos;水のコトバ&apos;}</td></tr><tr><th>12</th><td>3002</td><td>0.553521</td><td>3001</td><td>3401</td><td>Aru Tabibito no Nikki Specials</td><td>{&apos;synonyms&apos;: [&apos;The Diary of Tortov Roddle Specials&apos;, &quot;A Traveller&apos;s Diary Specials&quot;], &apos;en&apos;: &apos;&apos;, &apos;ja&apos;: &apos;或る旅人の日記&apos;}</td></tr><tr><th>13</th><td>1802</td><td>0.55264</td><td>1801</td><td>1978</td><td>Onkyo Seimeitai Noiseman</td><td>{&apos;synonyms&apos;: [], &apos;en&apos;: &apos;Noiseman Sound Insect&apos;, &apos;ja&apos;: &apos;音響生命体ノイズマン&apos;}</td></tr><tr><th>14</th><td>801</td><td>0.548516</td><td>800</td><td>885</td><td>Tenshi no Tamago</td><td>{&apos;synonyms&apos;: [], &apos;en&apos;: &quot;Angel&apos;s Egg&quot;, &apos;ja&apos;: &apos;天使のたまご&apos;}</td></tr><tr><th>15</th><td>6206</td><td>0.540652</td><td>6205</td><td>10448</td><td>Rain Town</td><td>{&apos;synonyms&apos;: [], &apos;en&apos;: &apos;&apos;, &apos;ja&apos;: &apos;rain town&apos;}</td></tr><tr><th>16</th><td>3367</td><td>0.538997</td><td>3366</td><td>3914</td><td>1001 Nights</td><td>{&apos;synonyms&apos;: [], &apos;en&apos;: &apos;&apos;, &apos;ja&apos;: &apos;1001 Nights&apos;}</td></tr><tr><th>17</th><td>705</td><td>0.534511</td><td>704</td><td>770</td><td>Pale Cocoon</td><td>{&apos;synonyms&apos;: [&apos;Aoi Tamago&apos;], &apos;en&apos;: &apos;&apos;, &apos;ja&apos;: &apos;ペイル・コクーン&apos;}</td></tr><tr><th>18</th><td>1007</td><td>0.521408</td><td>1006</td><td>1106</td><td>Eikyuu Kazoku</td><td>{&apos;synonyms&apos;: [&apos;Eternal Family&apos;], &apos;en&apos;: &apos;&apos;, &apos;ja&apos;: &apos;永久家族&apos;}</td></tr><tr><th>19</th><td>791</td><td>0.516139</td><td>790</td><td>875</td><td>Mind Game</td><td>{&apos;synonyms&apos;: [&apos;Mindgame&apos;], &apos;en&apos;: &apos;&apos;, &apos;ja&apos;: &apos;マインド・ゲーム&apos;}</td></tr><tr><th>20</th><td>1803</td><td>0.50737</td><td>1802</td><td>1979</td><td>Tobira wo Akete (1995)</td><td>{&apos;synonyms&apos;: [&apos;Tobira o Akete&apos;, &apos;Open the Door&apos;], &apos;en&apos;: &apos;&apos;, &apos;ja&apos;: &apos;トビラを開けて&apos;}</td></tr><tr><th>21</th><td>2640</td><td>0.50662</td><td>2639</td><td>2891</td><td>Iblard Jikan</td><td>{&apos;synonyms&apos;: [&apos;Iblard Time&apos;], &apos;en&apos;: &apos;&apos;, &apos;ja&apos;: &apos;イバラード時間&apos;}</td></tr><tr><th>22</th><td>3641</td><td>0.502609</td><td>3640</td><td>4458</td><td>Bavel no Hon</td><td>{&apos;synonyms&apos;: [], &apos;en&apos;: &quot;Bavel&apos;s Book&quot;, &apos;ja&apos;: &apos;バベルの本&apos;}</td></tr><tr><th>23</th><td>1098</td><td>0.501607</td><td>1097</td><td>1204</td><td>Kujira no Chouyaku</td><td>{&apos;synonyms&apos;: [&apos;Glassy Ocean&apos;], &apos;en&apos;: &apos;&apos;, &apos;ja&apos;: &apos;クジラの跳躍&apos;}</td></tr><tr><th>24</th><td>4098</td><td>0.50119</td><td>4097</td><td>5365</td><td>Tsumiki no Ie</td><td>{&apos;synonyms&apos;: [&apos;The House of Small Cubes&apos;], &apos;en&apos;: &apos;La Maison en Petits Cubes&apos;, &apos;ja&apos;: &apos;つみきのいえ&apos;}</td></tr><tr><th>25</th><td>1779</td><td>0.499834</td><td>1778</td><td>1951</td><td>Manie-Manie: Meikyuu Monogatari</td><td>{&apos;synonyms&apos;: [&apos;Manie Manie The Labyrinth Tales&apos;, &apos;Labyrinth Labyrinthos&apos;, &apos;Hashiru Otoko&apos;, &apos;The Order to Stop Construction&apos;, &apos;Construction Cancellation Order&apos;, &apos;Running Man&apos;, &apos;Meikyu Monogatari&apos;], &apos;en&apos;: &apos;Neo Tokyo&apos;, &apos;ja&apos;: &apos;Manie-Manie 迷宮物語&apos;}</td></tr><tr><th>26</th><td>1006</td><td>0.494618</td><td>1005</td><td>1105</td><td>Digital Juice</td><td>{&apos;synonyms&apos;: [&apos;KEIKAKU&apos;, &quot;Chicken&apos;s Insurance&quot;, &apos;Tsukiyo no Ban ni&apos;, &apos;TOJIN KIT&apos;, &apos;In the Evening of a Moonlit Night&apos;, &apos;Table and Fishman&apos;, &apos;The Saloon in the Air&apos;], &apos;en&apos;: &apos;&apos;, &apos;ja&apos;: &apos;デジタルジュース&apos;}</td></tr><tr><th>27</th><td>1328</td><td>0.4919</td><td>1327</td><td>1462</td><td>Memories</td><td>{&apos;synonyms&apos;: [&apos;Magnetic Rose&apos;, &apos;Stink Bomb&apos;, &apos;Cannon Fodder&apos;], &apos;en&apos;: &apos;&apos;, &apos;ja&apos;: &apos;MEMORIES（メモリーズ）&apos;}</td></tr><tr><th>28</th><td>6228</td><td>0.474402</td><td>6227</td><td>10500</td><td>Ojiisan no Lamp</td><td>{&apos;synonyms&apos;: [&apos;Wakate Animator Ikusei Project&apos;, &apos;2010 Young Animator Training Project&apos;, &apos;Anime Mirai 2010&apos;, &apos;Ojii-san no Lamp&apos;, &quot;Grandfather&apos;s Lamp&quot;, &apos;Project A&apos;], &apos;en&apos;: &apos;&apos;, &apos;ja&apos;: &apos;おぢいさんのランプ&apos;}</td></tr><tr><th>29</th><td>953</td><td>0.474174</td><td>952</td><td>1047</td><td>On Your Mark</td><td>{&apos;synonyms&apos;: [], &apos;en&apos;: &apos;On Your Mark&apos;, &apos;ja&apos;: &apos;On Your Mark CHAGE &amp; ASKA&apos;}</td></tr><tr><th>30</th><td>4733</td><td>0.473288</td><td>4732</td><td>6774</td><td>Kuuchuu Buranko</td><td>{&apos;synonyms&apos;: [&apos;Kuchu Buranko&apos;, &apos;Trapeze&apos;, &apos;Flying Trapeze&apos;], &apos;en&apos;: &quot;Welcome to Irabu&apos;s Office&quot;, &apos;ja&apos;: &apos;空中ブランコ&apos;}</td></tr></tbody></table></div>"
      ],
      "text/latex": [
       "\\begin{tabular}{r|ccccccc}\n",
       "\t& anime & weight & uid & anime\\_id & title & alternative\\_titles & \\\\\n",
       "\t\\hline\n",
       "\t& Int64 & Float64 & Int64 & Int64 & String & String & \\\\\n",
       "\t\\hline\n",
       "\t1 & 2955 & 1.0 & 2954 & 3326 & Inaka Isha & \\{'synonyms': ['Kafka Inaka Isha', 'Ein Landarzt'], 'en': \"Franz Kafka's A Country Doctor\", 'ja': 'カフカ 田舎医者'\\} & $\\dots$ \\\\\n",
       "\t2 & 1240 & 0.663072 & 1239 & 1370 & Atama Yama & \\{'synonyms': ['Atama-yama'], 'en': 'Mt. Head', 'ja': '頭山'\\} & $\\dots$ \\\\\n",
       "\t3 & 3643 & 0.644736 & 3642 & 4460 & Kikumana & \\{'synonyms': [], 'en': '', 'ja': 'キクマナ'\\} & $\\dots$ \\\\\n",
       "\t4 & 565 & 0.637754 & 564 & 601 & Nekojiru-sou & \\{'synonyms': [], 'en': 'Cat Soup', 'ja': 'ねこぢる草'\\} & $\\dots$ \\\\\n",
       "\t5 & 1099 & 0.633924 & 1098 & 1205 & Aru Tabibito no Nikki & \\{'synonyms': ['The Diary of Tortov Roddle', \"A Traveller's Diary\"], 'en': '', 'ja': '或る旅人の日記'\\} & $\\dots$ \\\\\n",
       "\t6 & 975 & 0.597691 & 974 & 1072 & Sweat Punch & \\{'synonyms': ['Deep Imagination', 'Dan Petory Kyoushu no Yuutsu', \"Professor Dan Petry's Blues\", 'End of the World', 'Kigeki', 'Comedy', 'Higan', 'Beyond', 'Garakuta no Machi', 'Junk Town'], 'en': 'Sweat Punch', 'ja': 'スウェットパンチ'\\} & $\\dots$ \\\\\n",
       "\t7 & 2601 & 0.581913 & 2600 & 2832 & Ani*Kuri15 & \\{'synonyms': ['Ani*Cre15', 'Ani Kuri 15', 'Ani-Kuri 15', 'Anikuri 15', 'Neko no Shuukai'], 'en': '', 'ja': 'アニ＊クリ15'\\} & $\\dots$ \\\\\n",
       "\t8 & 3080 & 0.579666 & 3079 & 3508 & Genius Party & \\{'synonyms': ['Shanghai Dragon', 'Deathtic 4', 'Doorbell', 'Limit Cycle', 'Happy Machine', 'Baby Blue'], 'en': '', 'ja': 'ジーニアスパーティー'\\} & $\\dots$ \\\\\n",
       "\t9 & 4742 & 0.570622 & 4741 & 6795 & Genius Party Beyond & \\{'synonyms': ['Genius Party 2', 'Gala', 'Moondrive', 'Wanwa the Puppy', 'Tojin Kit', 'Dimension Bomb'], 'en': '', 'ja': 'ジーニアスパーティービヨンド'\\} & $\\dots$ \\\\\n",
       "\t10 & 3983 & 0.56256 & 3982 & 5158 & Noisy Birth & \\{'synonyms': [], 'en': '', 'ja': '我ハ機ナリ'\\} & $\\dots$ \\\\\n",
       "\t11 & 2049 & 0.557441 & 2048 & 2235 & Mizu no Kotoba & \\{'synonyms': ['Aquatic Language'], 'en': '', 'ja': '水のコトバ'\\} & $\\dots$ \\\\\n",
       "\t12 & 3002 & 0.553521 & 3001 & 3401 & Aru Tabibito no Nikki Specials & \\{'synonyms': ['The Diary of Tortov Roddle Specials', \"A Traveller's Diary Specials\"], 'en': '', 'ja': '或る旅人の日記'\\} & $\\dots$ \\\\\n",
       "\t13 & 1802 & 0.55264 & 1801 & 1978 & Onkyo Seimeitai Noiseman & \\{'synonyms': [], 'en': 'Noiseman Sound Insect', 'ja': '音響生命体ノイズマン'\\} & $\\dots$ \\\\\n",
       "\t14 & 801 & 0.548516 & 800 & 885 & Tenshi no Tamago & \\{'synonyms': [], 'en': \"Angel's Egg\", 'ja': '天使のたまご'\\} & $\\dots$ \\\\\n",
       "\t15 & 6206 & 0.540652 & 6205 & 10448 & Rain Town & \\{'synonyms': [], 'en': '', 'ja': 'rain town'\\} & $\\dots$ \\\\\n",
       "\t16 & 3367 & 0.538997 & 3366 & 3914 & 1001 Nights & \\{'synonyms': [], 'en': '', 'ja': '1001 Nights'\\} & $\\dots$ \\\\\n",
       "\t17 & 705 & 0.534511 & 704 & 770 & Pale Cocoon & \\{'synonyms': ['Aoi Tamago'], 'en': '', 'ja': 'ペイル・コクーン'\\} & $\\dots$ \\\\\n",
       "\t18 & 1007 & 0.521408 & 1006 & 1106 & Eikyuu Kazoku & \\{'synonyms': ['Eternal Family'], 'en': '', 'ja': '永久家族'\\} & $\\dots$ \\\\\n",
       "\t19 & 791 & 0.516139 & 790 & 875 & Mind Game & \\{'synonyms': ['Mindgame'], 'en': '', 'ja': 'マインド・ゲーム'\\} & $\\dots$ \\\\\n",
       "\t20 & 1803 & 0.50737 & 1802 & 1979 & Tobira wo Akete (1995) & \\{'synonyms': ['Tobira o Akete', 'Open the Door'], 'en': '', 'ja': 'トビラを開けて'\\} & $\\dots$ \\\\\n",
       "\t21 & 2640 & 0.50662 & 2639 & 2891 & Iblard Jikan & \\{'synonyms': ['Iblard Time'], 'en': '', 'ja': 'イバラード時間'\\} & $\\dots$ \\\\\n",
       "\t22 & 3641 & 0.502609 & 3640 & 4458 & Bavel no Hon & \\{'synonyms': [], 'en': \"Bavel's Book\", 'ja': 'バベルの本'\\} & $\\dots$ \\\\\n",
       "\t23 & 1098 & 0.501607 & 1097 & 1204 & Kujira no Chouyaku & \\{'synonyms': ['Glassy Ocean'], 'en': '', 'ja': 'クジラの跳躍'\\} & $\\dots$ \\\\\n",
       "\t24 & 4098 & 0.50119 & 4097 & 5365 & Tsumiki no Ie & \\{'synonyms': ['The House of Small Cubes'], 'en': 'La Maison en Petits Cubes', 'ja': 'つみきのいえ'\\} & $\\dots$ \\\\\n",
       "\t25 & 1779 & 0.499834 & 1778 & 1951 & Manie-Manie: Meikyuu Monogatari & \\{'synonyms': ['Manie Manie The Labyrinth Tales', 'Labyrinth Labyrinthos', 'Hashiru Otoko', 'The Order to Stop Construction', 'Construction Cancellation Order', 'Running Man', 'Meikyu Monogatari'], 'en': 'Neo Tokyo', 'ja': 'Manie-Manie 迷宮物語'\\} & $\\dots$ \\\\\n",
       "\t26 & 1006 & 0.494618 & 1005 & 1105 & Digital Juice & \\{'synonyms': ['KEIKAKU', \"Chicken's Insurance\", 'Tsukiyo no Ban ni', 'TOJIN KIT', 'In the Evening of a Moonlit Night', 'Table and Fishman', 'The Saloon in the Air'], 'en': '', 'ja': 'デジタルジュース'\\} & $\\dots$ \\\\\n",
       "\t27 & 1328 & 0.4919 & 1327 & 1462 & Memories & \\{'synonyms': ['Magnetic Rose', 'Stink Bomb', 'Cannon Fodder'], 'en': '', 'ja': 'MEMORIES（メモリーズ）'\\} & $\\dots$ \\\\\n",
       "\t28 & 6228 & 0.474402 & 6227 & 10500 & Ojiisan no Lamp & \\{'synonyms': ['Wakate Animator Ikusei Project', '2010 Young Animator Training Project', 'Anime Mirai 2010', 'Ojii-san no Lamp', \"Grandfather's Lamp\", 'Project A'], 'en': '', 'ja': 'おぢいさんのランプ'\\} & $\\dots$ \\\\\n",
       "\t29 & 953 & 0.474174 & 952 & 1047 & On Your Mark & \\{'synonyms': [], 'en': 'On Your Mark', 'ja': 'On Your Mark CHAGE \\& ASKA'\\} & $\\dots$ \\\\\n",
       "\t30 & 4733 & 0.473288 & 4732 & 6774 & Kuuchuu Buranko & \\{'synonyms': ['Kuchu Buranko', 'Trapeze', 'Flying Trapeze'], 'en': \"Welcome to Irabu's Office\", 'ja': '空中ブランコ'\\} & $\\dots$ \\\\\n",
       "\\end{tabular}\n"
      ],
      "text/plain": [
       "\u001b[1m30×22 DataFrame\u001b[0m\n",
       "\u001b[1m Row \u001b[0m│\u001b[1m anime \u001b[0m\u001b[1m weight   \u001b[0m\u001b[1m uid   \u001b[0m\u001b[1m anime_id \u001b[0m\u001b[1m title                           \u001b[0m\u001b[1m alte\u001b[0m ⋯\n",
       "\u001b[1m     \u001b[0m│\u001b[90m Int64 \u001b[0m\u001b[90m Float64  \u001b[0m\u001b[90m Int64 \u001b[0m\u001b[90m Int64    \u001b[0m\u001b[90m String                          \u001b[0m\u001b[90m Stri\u001b[0m ⋯\n",
       "─────┼──────────────────────────────────────────────────────────────────────────\n",
       "   1 │  2955  1.0        2954      3326  Inaka Isha                       {'sy ⋯\n",
       "   2 │  1240  0.663072   1239      1370  Atama Yama                       {'sy\n",
       "   3 │  3643  0.644736   3642      4460  Kikumana                         {'sy\n",
       "   4 │   565  0.637754    564       601  Nekojiru-sou                     {'sy\n",
       "   5 │  1099  0.633924   1098      1205  Aru Tabibito no Nikki            {'sy ⋯\n",
       "   6 │   975  0.597691    974      1072  Sweat Punch                      {'sy\n",
       "   7 │  2601  0.581913   2600      2832  Ani*Kuri15                       {'sy\n",
       "   8 │  3080  0.579666   3079      3508  Genius Party                     {'sy\n",
       "   9 │  4742  0.570622   4741      6795  Genius Party Beyond              {'sy ⋯\n",
       "  10 │  3983  0.56256    3982      5158  Noisy Birth                      {'sy\n",
       "  11 │  2049  0.557441   2048      2235  Mizu no Kotoba                   {'sy\n",
       "  ⋮  │   ⋮       ⋮        ⋮       ⋮                     ⋮                      ⋱\n",
       "  21 │  2640  0.50662    2639      2891  Iblard Jikan                     {'sy\n",
       "  22 │  3641  0.502609   3640      4458  Bavel no Hon                     {'sy ⋯\n",
       "  23 │  1098  0.501607   1097      1204  Kujira no Chouyaku               {'sy\n",
       "  24 │  4098  0.50119    4097      5365  Tsumiki no Ie                    {'sy\n",
       "  25 │  1779  0.499834   1778      1951  Manie-Manie: Meikyuu Monogatari  {'sy\n",
       "  26 │  1006  0.494618   1005      1105  Digital Juice                    {'sy ⋯\n",
       "  27 │  1328  0.4919     1327      1462  Memories                         {'sy\n",
       "  28 │  6228  0.474402   6227     10500  Ojiisan no Lamp                  {'sy\n",
       "  29 │   953  0.474174    952      1047  On Your Mark                     {'sy\n",
       "  30 │  4733  0.473288   4732      6774  Kuuchuu Buranko                  {'sy ⋯\n",
       "\u001b[36m                                                   17 columns and 9 rows omitted\u001b[0m"
      ]
     },
     "execution_count": 15,
     "metadata": {},
     "output_type": "execute_result"
    }
   ],
   "source": [
    "get_series(embed_df)"
   ]
  },
  {
   "cell_type": "code",
   "execution_count": null,
   "id": "73367b4a-7d22-4899-bf22-747ed80ef87b",
   "metadata": {},
   "outputs": [],
   "source": []
  },
  {
   "cell_type": "code",
   "execution_count": null,
   "id": "828976c8-7a7a-43ca-bcb8-ffaedfbc6600",
   "metadata": {},
   "outputs": [],
   "source": []
  }
 ],
 "metadata": {
  "kernelspec": {
   "display_name": "Julia 1.6.3",
   "language": "julia",
   "name": "julia-1.6"
  },
  "language_info": {
   "file_extension": ".jl",
   "mimetype": "application/julia",
   "name": "julia",
   "version": "1.6.3"
  }
 },
 "nbformat": 4,
 "nbformat_minor": 5
}
