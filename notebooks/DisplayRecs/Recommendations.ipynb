{
 "cells": [
  {
   "cell_type": "code",
   "execution_count": 1,
   "id": "240e43fd-abc8-4d44-a3d6-85293d0dd756",
   "metadata": {},
   "outputs": [],
   "source": [
    "source = \"Recommendations\";"
   ]
  },
  {
   "cell_type": "code",
   "execution_count": 2,
   "id": "ba187524-034d-40f6-9e40-0ab5123e36bb",
   "metadata": {},
   "outputs": [],
   "source": [
    "using DataFrames\n",
    "import CSV\n",
    "import NBInclude: @nbinclude\n",
    "import Statistics: mean\n",
    "@nbinclude(\"../InferenceAlphas/Alpha.ipynb\");"
   ]
  },
  {
   "cell_type": "code",
   "execution_count": 3,
   "id": "2dc4c5b5-a759-463c-b163-e47fd461a554",
   "metadata": {},
   "outputs": [],
   "source": [
    "ENV[\"COLUMNS\"] = 999999;\n",
    "ENV[\"LINES\"] = 50;\n",
    "recommend_related_series = false;"
   ]
  },
  {
   "cell_type": "code",
   "execution_count": 4,
   "id": "20127075-7c57-4629-9283-d1f18a8ff2bb",
   "metadata": {},
   "outputs": [],
   "source": [
    "const anime = DataFrame(CSV.File(\"../../data/processed_data/anime.csv\", ntasks = 1))\n",
    "anime_to_uid = DataFrame(CSV.File(\"../../data/processed_data/anime_to_uid.csv\"))\n",
    "anime_to_uid = innerjoin(anime_to_uid, anime, on = \"anime_id\");"
   ]
  },
  {
   "cell_type": "code",
   "execution_count": 19,
   "id": "9fa0327c-2d09-4040-8819-32125a957f15",
   "metadata": {
    "tags": []
   },
   "outputs": [],
   "source": [
    "rating_df = DataFrame(\n",
    "    \"uid\" => 0:num_items()-1,\n",
    "    \"ranking\" => read_recommendee_alpha(\"BPR\", \"all\").rating,\n",
    "    \"explicit\" => read_recommendee_alpha(\"Explicit\", \"all\").rating,\n",
    "    \"implicit\" => read_recommendee_alpha(\"LinearImplicit\", \"all\").rating,\n",
    "    \"error_explicit\" => read_recommendee_alpha(\"ErrorExplicit\", \"all\").rating,\n",
    "    \"error_implicit\" => read_recommendee_alpha(\"ErrorImplicit\", \"all\").rating,\n",
    "    \"baseline_explicit\" =>\n",
    "        read_recommendee_alpha(\"ExplicitUserItemBiases\", \"all\").rating,\n",
    "    \"baseline_implicit\" =>\n",
    "        read_recommendee_alpha(\"NeuralImplicitUserItemBiases\", \"all\").rating,\n",
    ")\n",
    "rating_df[:, \"score\"] = rating_df[:, \"ranking\"];"
   ]
  },
  {
   "cell_type": "code",
   "execution_count": 20,
   "id": "89a34ece-a029-4b79-98a8-743d7aa89b22",
   "metadata": {},
   "outputs": [
    {
     "name": "stderr",
     "output_type": "stream",
     "text": [
      "\u001b[38;5;6m\u001b[1m[ \u001b[22m\u001b[39m\u001b[38;5;6m\u001b[1mInfo: \u001b[22m\u001b[39m20220629 11:36:49 RMSE: 1.4760647\n",
      "\u001b[38;5;6m\u001b[1m[ \u001b[22m\u001b[39m\u001b[38;5;6m\u001b[1mInfo: \u001b[22m\u001b[39m20220629 11:36:49 R2: 0.2672627\n"
     ]
    }
   ],
   "source": [
    "# evaluate our insample explicit predictions\n",
    "df = get_recommendee_split(false)\n",
    "rss = sum((df.rating - rating_df.explicit[df.item]) .^ 2)\n",
    "tss = sum((df.rating .- mean(df.rating)) .^ 2)\n",
    "@info \"RMSE: $(sqrt(rss / length(df.rating)))\"\n",
    "@info \"R2: $(1 - rss / tss)\""
   ]
  },
  {
   "cell_type": "code",
   "execution_count": 7,
   "id": "d2190fce-991a-487a-8cb3-ca7a1a8c17b8",
   "metadata": {},
   "outputs": [
    {
     "name": "stderr",
     "output_type": "stream",
     "text": [
      "\u001b[38;5;6m\u001b[1m[ \u001b[22m\u001b[39m\u001b[38;5;6m\u001b[1mInfo: \u001b[22m\u001b[39m20220629 11:32:52 Cross-entropy: 7.6447663\n"
     ]
    }
   ],
   "source": [
    "# evaluate our insample implicit predictions\n",
    "df = get_recommendee_split(true)\n",
    "p = rating_df.implicit[df.item]\n",
    "y = df.rating / length(df.rating)\n",
    "@info \"Cross-entropy: $(sum(-y .* log.(p)))\""
   ]
  },
  {
   "cell_type": "code",
   "execution_count": 8,
   "id": "33b47ef2-d558-42c1-990c-de1c91143d51",
   "metadata": {},
   "outputs": [],
   "source": [
    "# [ Info: 20220626 22:59:13 RMSE: 1.4526845\n",
    "# [ Info: 20220626 22:59:13 R2: 0.29029125"
   ]
  },
  {
   "cell_type": "code",
   "execution_count": 9,
   "id": "24345713-0e5e-4d52-89a2-16dd2b5d3f96",
   "metadata": {
    "tags": []
   },
   "outputs": [],
   "source": [
    "# don't recommend shows that the user has already seen before\n",
    "rating_df[:, \"display\"] .= true\n",
    "seen_items = vcat(get_recommendee_split(true).item, get_recommendee_split(false).item)\n",
    "rating_df.display[seen_items] .= false\n",
    "\n",
    "# don't recommend shows related to shows they have seen before\n",
    "if !recommend_related_series\n",
    "    related_series = read_recommendee_alpha(\"ItemCFRelated\", \"all\").rating .!= 0\n",
    "    rating_df.display[related_series] .= false\n",
    "end;"
   ]
  },
  {
   "cell_type": "code",
   "execution_count": 10,
   "id": "2f87ebbf-d246-43cc-8b07-79b4929318ea",
   "metadata": {},
   "outputs": [],
   "source": [
    "rec_df = innerjoin(anime_to_uid, rating_df, on = \"uid\");\n",
    "keepcols = [\"anime_id\", \"uid\", \"title\", \"genres\", \"medium\"]\n",
    "for x in names(rating_df)\n",
    "    if x ∉ keepcols\n",
    "        push!(keepcols, x)\n",
    "    end\n",
    "end\n",
    "rec_df = rec_df[:, keepcols];"
   ]
  },
  {
   "cell_type": "code",
   "execution_count": 11,
   "id": "43369775-7454-4784-8be2-c9dfbc828690",
   "metadata": {},
   "outputs": [
    {
     "data": {
      "text/plain": [
       "(441, 443)"
      ]
     },
     "execution_count": 11,
     "metadata": {},
     "output_type": "execute_result"
    }
   ],
   "source": [
    "length(get_recommendee_split(false).item), length(get_recommendee_split(true).item)"
   ]
  },
  {
   "cell_type": "code",
   "execution_count": 12,
   "id": "87d0ac7b-9f8d-4d5d-ab59-ad8e65a6d948",
   "metadata": {},
   "outputs": [],
   "source": [
    "function pretty_display(df)\n",
    "    sort(filter(x -> x.display, df), :score)\n",
    "end;"
   ]
  },
  {
   "cell_type": "code",
   "execution_count": 13,
   "id": "ed168f16-b287-4565-bf0d-4781e27c016a",
   "metadata": {
    "tags": []
   },
   "outputs": [
    {
     "data": {
      "text/html": [
       "<div class=\"data-frame\"><p>5,432 rows × 14 columns</p><table class=\"data-frame\"><thead><tr><th></th><th>anime_id</th><th>uid</th><th>title</th><th>genres</th><th>medium</th><th>ranking</th><th>explicit</th><th>implicit</th><th>error_explicit</th><th>error_implicit</th><th>baseline_explicit</th><th>baseline_implicit</th><th>score</th><th>display</th></tr><tr><th></th><th title=\"Int64\">Int64</th><th title=\"Int64\">Int64</th><th title=\"String\">String</th><th title=\"String\">String</th><th title=\"InlineStrings.String7\">String7</th><th title=\"Float32\">Float32</th><th title=\"Float32\">Float32</th><th title=\"Float32\">Float32</th><th title=\"Float32\">Float32</th><th title=\"Float32\">Float32</th><th title=\"Float32\">Float32</th><th title=\"Float32\">Float32</th><th title=\"Float32\">Float32</th><th title=\"Bool\">Bool</th></tr></thead><tbody><tr><th>1</th><td>257</td><td>9000</td><td>Ikkitousen</td><td>[&apos;Ecchi&apos;, &apos;Martial Arts&apos;, &apos;School&apos;, &apos;Super Power&apos;]</td><td>tv</td><td>2.0</td><td>5.80992</td><td>3.63182e-5</td><td>3.23582</td><td>0.129489</td><td>4.73864</td><td>0.000129053</td><td>2.0</td><td>1</td></tr><tr><th>2</th><td>31988</td><td>13387</td><td>Hibike! Euphonium 2</td><td>[&apos;Drama&apos;, &apos;Music&apos;, &apos;Performing Arts&apos;, &apos;School&apos;]</td><td>tv</td><td>14.0</td><td>7.94844</td><td>0.00122995</td><td>1.00092</td><td>0.0815675</td><td>7.07265</td><td>0.000182295</td><td>14.0</td><td>1</td></tr><tr><th>3</th><td>10490</td><td>7803</td><td>Blood-C</td><td>[&apos;Action&apos;, &apos;Gore&apos;, &apos;Horror&apos;, &apos;Mystery&apos;, &apos;School&apos;, &apos;Supernatural&apos;, &apos;Vampire&apos;]</td><td>tv</td><td>15.0</td><td>5.17652</td><td>6.35002e-5</td><td>2.2268</td><td>0.133564</td><td>4.93175</td><td>0.000324621</td><td>15.0</td><td>1</td></tr><tr><th>4</th><td>7079</td><td>662</td><td>Ookamikakushi</td><td>[&apos;Action&apos;, &apos;Horror&apos;, &apos;Mystery&apos;, &apos;Supernatural&apos;]</td><td>tv</td><td>16.0</td><td>5.57001</td><td>4.145e-5</td><td>2.35673</td><td>0.119562</td><td>4.70604</td><td>5.28148e-5</td><td>16.0</td><td>1</td></tr><tr><th>5</th><td>241</td><td>12874</td><td>Girls Bravo: First Season</td><td>[&apos;Comedy&apos;, &apos;Ecchi&apos;, &apos;Fantasy&apos;, &apos;Harem&apos;, &apos;Isekai&apos;, &apos;Romance&apos;, &apos;School&apos;, &apos;Shounen&apos;]</td><td>tv</td><td>17.0</td><td>5.30554</td><td>4.4352e-5</td><td>2.84026</td><td>0.112454</td><td>4.67248</td><td>0.000140309</td><td>17.0</td><td>1</td></tr><tr><th>6</th><td>30727</td><td>1266</td><td>Saenai Heroine no Sodatekata ♭</td><td>[&apos;Comedy&apos;, &apos;Ecchi&apos;, &apos;Harem&apos;, &apos;Otaku Culture&apos;, &apos;Romance&apos;, &apos;School&apos;]</td><td>tv</td><td>20.0</td><td>7.72764</td><td>0.000482927</td><td>1.06737</td><td>0.0771941</td><td>6.28666</td><td>0.000304281</td><td>20.0</td><td>1</td></tr><tr><th>7</th><td>16498</td><td>7644</td><td>Shingeki no Kyojin</td><td>[&apos;Action&apos;, &apos;Drama&apos;, &apos;Gore&apos;, &apos;Military&apos;, &apos;Shounen&apos;, &apos;Survival&apos;]</td><td>tv</td><td>22.0</td><td>8.13839</td><td>0.000638798</td><td>0.823535</td><td>0.047328</td><td>7.04385</td><td>0.00864467</td><td>22.0</td><td>1</td></tr><tr><th>8</th><td>146</td><td>10983</td><td>Kono Minikuku mo Utsukushii Sekai</td><td>[&apos;Comedy&apos;, &apos;Drama&apos;, &apos;Ecchi&apos;, &apos;Romance&apos;, &apos;Sci-Fi&apos;]</td><td>tv</td><td>23.0</td><td>5.59188</td><td>3.8636e-5</td><td>2.18763</td><td>0.115217</td><td>5.0595</td><td>5.0387e-5</td><td>23.0</td><td>1</td></tr><tr><th>9</th><td>16512</td><td>19908</td><td>Devil Survivor 2 The Animation</td><td>[&apos;Action&apos;, &apos;Mythology&apos;, &apos;Supernatural&apos;, &apos;Survival&apos;]</td><td>tv</td><td>28.0</td><td>5.56839</td><td>5.73268e-5</td><td>2.33645</td><td>0.114239</td><td>5.22092</td><td>0.000137065</td><td>28.0</td><td>1</td></tr><tr><th>10</th><td>7724</td><td>5926</td><td>Shiki</td><td>[&apos;Horror&apos;, &apos;Mystery&apos;, &apos;Psychological&apos;, &apos;Supernatural&apos;, &apos;Suspense&apos;, &apos;Vampire&apos;]</td><td>tv</td><td>31.0</td><td>7.00309</td><td>0.000621784</td><td>1.07296</td><td>0.0940347</td><td>6.27419</td><td>0.000550791</td><td>31.0</td><td>1</td></tr><tr><th>11</th><td>5262</td><td>6657</td><td>Shugo Chara!! Doki</td><td>[&apos;Comedy&apos;, &apos;Mahou Shoujo&apos;, &apos;School&apos;, &apos;Shoujo&apos;]</td><td>tv</td><td>32.0</td><td>6.01237</td><td>4.2572e-5</td><td>2.3805</td><td>0.0989875</td><td>5.73424</td><td>0.000134234</td><td>32.0</td><td>1</td></tr><tr><th>12</th><td>37497</td><td>1816</td><td>Irozuku Sekai no Ashita kara</td><td>[&apos;Drama&apos;, &apos;Love Polygon&apos;, &apos;Romance&apos;, &apos;School&apos;, &apos;Time Travel&apos;, &apos;Visual Arts&apos;]</td><td>tv</td><td>37.0</td><td>7.60896</td><td>0.000711415</td><td>1.10056</td><td>0.0689114</td><td>6.09097</td><td>0.000236411</td><td>37.0</td><td>1</td></tr><tr><th>13</th><td>1722</td><td>18559</td><td>Nagasarete Airantou</td><td>[&apos;Comedy&apos;, &apos;Ecchi&apos;, &apos;Fantasy&apos;, &apos;Harem&apos;, &apos;Romance&apos;, &apos;Shounen&apos;]</td><td>tv</td><td>43.0</td><td>5.8694</td><td>5.89566e-5</td><td>1.65651</td><td>0.111787</td><td>5.51167</td><td>8.10418e-5</td><td>43.0</td><td>1</td></tr><tr><th>14</th><td>196</td><td>3730</td><td>Onegai☆Twins</td><td>[&apos;Comedy&apos;, &apos;Drama&apos;, &apos;Harem&apos;, &apos;School&apos;, &apos;Sci-Fi&apos;]</td><td>tv</td><td>46.0</td><td>5.91899</td><td>6.97218e-5</td><td>1.65502</td><td>0.104136</td><td>5.17712</td><td>8.51376e-5</td><td>46.0</td><td>1</td></tr><tr><th>15</th><td>27831</td><td>11841</td><td>Durarara!!x2 Ten</td><td>[&apos;Action&apos;, &apos;Mystery&apos;, &apos;Supernatural&apos;]</td><td>tv</td><td>47.0</td><td>6.68417</td><td>6.70456e-5</td><td>1.15597</td><td>0.0969181</td><td>6.65368</td><td>0.000344482</td><td>47.0</td><td>1</td></tr><tr><th>16</th><td>5682</td><td>12503</td><td>Phantom: Requiem for the Phantom</td><td>[&apos;Action&apos;, &apos;Drama&apos;, &apos;Organized Crime&apos;, &apos;Seinen&apos;, &apos;Suspense&apos;]</td><td>tv</td><td>48.0</td><td>6.98487</td><td>0.000226944</td><td>1.23493</td><td>0.0852181</td><td>6.50221</td><td>0.000230538</td><td>48.0</td><td>1</td></tr><tr><th>17</th><td>322</td><td>13733</td><td>Paradise Kiss</td><td>[&apos;Comedy&apos;, &apos;Drama&apos;, &apos;Josei&apos;, &apos;Romance&apos;, &apos;Slice of Life&apos;, &apos;Visual Arts&apos;]</td><td>tv</td><td>51.0</td><td>7.24843</td><td>0.000580444</td><td>1.22377</td><td>0.0733965</td><td>6.39964</td><td>0.000216953</td><td>51.0</td><td>1</td></tr><tr><th>18</th><td>48583</td><td>18963</td><td>Shingeki no Kyojin: The Final Season Part 2</td><td>[&apos;Action&apos;, &apos;Drama&apos;, &apos;Gore&apos;, &apos;Military&apos;, &apos;Shounen&apos;, &apos;Survival&apos;]</td><td>tv</td><td>52.0</td><td>8.50582</td><td>0.000323367</td><td>0.835886</td><td>0.0174885</td><td>7.45514</td><td>0.00227523</td><td>52.0</td><td>1</td></tr><tr><th>19</th><td>48926</td><td>976</td><td>Komi-san wa, Comyushou desu.</td><td>[&apos;Comedy&apos;, &apos;Romantic Subtext&apos;, &apos;School&apos;, &apos;Shounen&apos;]</td><td>tv</td><td>56.0</td><td>7.37853</td><td>0.00135346</td><td>1.06601</td><td>0.0665281</td><td>6.6083</td><td>0.001346</td><td>56.0</td><td>1</td></tr><tr><th>20</th><td>27833</td><td>1275</td><td>Durarara!!x2 Ketsu</td><td>[&apos;Action&apos;, &apos;Mystery&apos;, &apos;Supernatural&apos;]</td><td>tv</td><td>60.0</td><td>6.73941</td><td>5.7401e-5</td><td>1.13592</td><td>0.088508</td><td>6.76306</td><td>0.0003062</td><td>60.0</td><td>1</td></tr><tr><th>21</th><td>487</td><td>15524</td><td>Girls Bravo: Second Season</td><td>[&apos;Comedy&apos;, &apos;Ecchi&apos;, &apos;Fantasy&apos;, &apos;Harem&apos;, &apos;Isekai&apos;, &apos;Romance&apos;, &apos;School&apos;, &apos;Shounen&apos;]</td><td>tv</td><td>61.0</td><td>5.57892</td><td>2.05613e-5</td><td>2.61137</td><td>0.0734879</td><td>4.89676</td><td>8.49156e-5</td><td>61.0</td><td>1</td></tr><tr><th>22</th><td>40028</td><td>5414</td><td>Shingeki no Kyojin: The Final Season</td><td>[&apos;Action&apos;, &apos;Drama&apos;, &apos;Gore&apos;, &apos;Military&apos;, &apos;Shounen&apos;, &apos;Survival&apos;]</td><td>tv</td><td>62.0</td><td>8.41503</td><td>0.000330911</td><td>1.30218</td><td>0.0206621</td><td>7.4072</td><td>0.00410722</td><td>62.0</td><td>1</td></tr><tr><th>23</th><td>35330</td><td>1955</td><td>Poputepipikku</td><td>[&apos;Comedy&apos;, &apos;Gag Humor&apos;, &apos;Parody&apos;]</td><td>tv</td><td>77.0</td><td>6.58529</td><td>0.000487723</td><td>1.11919</td><td>0.0825184</td><td>5.96703</td><td>0.00025252</td><td>77.0</td><td>1</td></tr><tr><th>24</th><td>40729</td><td>20213</td><td>Nomad: Megalo Box 2</td><td>[&apos;Combat Sports&apos;, &apos;Drama&apos;, &apos;Sci-Fi&apos;, &apos;Sports&apos;]</td><td>tv</td><td>78.0</td><td>7.22244</td><td>9.0594e-5</td><td>1.00417</td><td>0.0625224</td><td>7.05308</td><td>0.000164578</td><td>78.0</td><td>1</td></tr><tr><th>25</th><td>46095</td><td>1404</td><td>Vivy: Fluorite Eye&apos;s Song</td><td>[&apos;Action&apos;, &apos;Music&apos;, &apos;Sci-Fi&apos;, &apos;Suspense&apos;, &apos;Time Travel&apos;]</td><td>tv</td><td>90.0</td><td>7.74908</td><td>0.000811452</td><td>0.953723</td><td>0.0342983</td><td>7.14686</td><td>0.000549041</td><td>90.0</td><td>1</td></tr><tr><th>26</th><td>48569</td><td>5777</td><td>86 Part 2</td><td>[&apos;Action&apos;, &apos;Drama&apos;, &apos;Mecha&apos;, &apos;Military&apos;, &apos;Sci-Fi&apos;]</td><td>tv</td><td>91.0</td><td>7.55427</td><td>0.00030687</td><td>1.00601</td><td>0.0443314</td><td>7.29187</td><td>0.000503743</td><td>91.0</td><td>1</td></tr><tr><th>27</th><td>49738</td><td>5252</td><td>Heike Monogatari</td><td>[&apos;Drama&apos;, &apos;Historical&apos;, &apos;Samurai&apos;]</td><td>tv</td><td>95.0</td><td>6.65888</td><td>0.000296485</td><td>1.05777</td><td>0.0788412</td><td>6.71727</td><td>4.89731e-5</td><td>95.0</td><td>1</td></tr><tr><th>28</th><td>15417</td><td>8713</td><td>Gintama&apos;: Enchousen</td><td>[&apos;Action&apos;, &apos;Comedy&apos;, &apos;Gag Humor&apos;, &apos;Historical&apos;, &apos;Parody&apos;, &apos;Samurai&apos;, &apos;Sci-Fi&apos;, &apos;Shounen&apos;]</td><td>tv</td><td>97.0</td><td>8.04427</td><td>2.34727e-5</td><td>0.85323</td><td>0.0201214</td><td>7.74217</td><td>0.000263402</td><td>97.0</td><td>1</td></tr><tr><th>29</th><td>39783</td><td>15482</td><td>5-toubun no Hanayome ∬</td><td>[&apos;Comedy&apos;, &apos;Harem&apos;, &apos;Romance&apos;, &apos;School&apos;, &apos;Shounen&apos;]</td><td>tv</td><td>105.0</td><td>7.91345</td><td>0.000322904</td><td>0.896144</td><td>0.0191688</td><td>6.6726</td><td>0.000970508</td><td>105.0</td><td>1</td></tr><tr><th>30</th><td>6746</td><td>12937</td><td>Durarara!!</td><td>[&apos;Action&apos;, &apos;Mystery&apos;, &apos;Supernatural&apos;]</td><td>tv</td><td>108.0</td><td>6.56836</td><td>0.000394129</td><td>0.98166</td><td>0.0775118</td><td>6.66357</td><td>0.00156079</td><td>108.0</td><td>1</td></tr><tr><th>31</th><td>40221</td><td>269</td><td>Kami no Tou</td><td>[&apos;Action&apos;, &apos;Adventure&apos;, &apos;Drama&apos;, &apos;Fantasy&apos;, &apos;Mystery&apos;]</td><td>tv</td><td>111.0</td><td>7.42117</td><td>0.00034446</td><td>1.03134</td><td>0.0386343</td><td>6.20135</td><td>0.00117719</td><td>111.0</td><td>1</td></tr><tr><th>32</th><td>427</td><td>10763</td><td>Kaleido Star</td><td>[&apos;Comedy&apos;, &apos;Drama&apos;, &apos;Fantasy&apos;, &apos;Performing Arts&apos;, &apos;Shoujo&apos;]</td><td>tv</td><td>118.0</td><td>5.99735</td><td>0.000639475</td><td>2.04357</td><td>0.0697031</td><td>6.23046</td><td>7.28155e-5</td><td>118.0</td><td>1</td></tr><tr><th>33</th><td>42941</td><td>9316</td><td>Uma Musume: Pretty Derby (TV) Season 2</td><td>[&apos;Anthropomorphic&apos;, &apos;Sports&apos;]</td><td>tv</td><td>119.0</td><td>7.80029</td><td>7.82807e-5</td><td>0.881409</td><td>0.0222924</td><td>6.61651</td><td>2.75943e-5</td><td>119.0</td><td>1</td></tr><tr><th>34</th><td>32843</td><td>3602</td><td>Senki Zesshou Symphogear XV</td><td>[&apos;Action&apos;, &apos;Idols (Female)&apos;, &apos;Music&apos;, &apos;Sci-Fi&apos;]</td><td>tv</td><td>121.0</td><td>7.87823</td><td>0.000156776</td><td>0.799667</td><td>0.0186524</td><td>6.94163</td><td>1.68961e-5</td><td>121.0</td><td>1</td></tr><tr><th>35</th><td>63</td><td>13660</td><td>DearS</td><td>[&apos;Comedy&apos;, &apos;Ecchi&apos;, &apos;Harem&apos;, &apos;Romance&apos;, &apos;Sci-Fi&apos;, &apos;Shounen&apos;]</td><td>tv</td><td>123.0</td><td>5.31826</td><td>5.99073e-5</td><td>1.36314</td><td>0.101529</td><td>4.85622</td><td>0.000145905</td><td>123.0</td><td>1</td></tr><tr><th>36</th><td>32836</td><td>20123</td><td>Senki Zesshou Symphogear AXZ</td><td>[&apos;Action&apos;, &apos;Idols (Female)&apos;, &apos;Music&apos;, &apos;Sci-Fi&apos;]</td><td>tv</td><td>131.0</td><td>7.76733</td><td>0.000204116</td><td>0.865324</td><td>0.0186524</td><td>6.29791</td><td>2.03424e-5</td><td>131.0</td><td>1</td></tr><tr><th>37</th><td>41457</td><td>15791</td><td>86</td><td>[&apos;Action&apos;, &apos;Drama&apos;, &apos;Mecha&apos;, &apos;Military&apos;, &apos;Sci-Fi&apos;]</td><td>tv</td><td>137.0</td><td>7.26301</td><td>0.000406573</td><td>0.97457</td><td>0.0431834</td><td>6.85566</td><td>0.000801129</td><td>137.0</td><td>1</td></tr><tr><th>38</th><td>28977</td><td>11850</td><td>Gintama°</td><td>[&apos;Action&apos;, &apos;Comedy&apos;, &apos;Gag Humor&apos;, &apos;Historical&apos;, &apos;Parody&apos;, &apos;Samurai&apos;, &apos;Sci-Fi&apos;, &apos;Shounen&apos;]</td><td>tv</td><td>140.0</td><td>7.45326</td><td>4.17541e-5</td><td>1.01387</td><td>0.0367375</td><td>7.5762</td><td>0.000569903</td><td>140.0</td><td>1</td></tr><tr><th>39</th><td>2921</td><td>5647</td><td>Ashita no Joe 2</td><td>[&apos;Action&apos;, &apos;Combat Sports&apos;, &apos;Drama&apos;, &apos;Shounen&apos;, &apos;Slice of Life&apos;, &apos;Sports&apos;]</td><td>tv</td><td>144.0</td><td>7.92289</td><td>8.26744e-5</td><td>0.695075</td><td>0.0150608</td><td>8.01768</td><td>2.77932e-5</td><td>144.0</td><td>1</td></tr><tr><th>40</th><td>38101</td><td>13214</td><td>5-toubun no Hanayome</td><td>[&apos;Comedy&apos;, &apos;Harem&apos;, &apos;Romance&apos;, &apos;School&apos;, &apos;Shounen&apos;]</td><td>tv</td><td>147.0</td><td>7.62011</td><td>0.000447012</td><td>0.853687</td><td>0.0215447</td><td>6.24878</td><td>0.00133218</td><td>147.0</td><td>1</td></tr><tr><th>41</th><td>35849</td><td>12364</td><td>Darling in the FranXX</td><td>[&apos;Action&apos;, &apos;Drama&apos;, &apos;Mecha&apos;, &apos;Romance&apos;, &apos;Sci-Fi&apos;]</td><td>tv</td><td>149.0</td><td>7.5939</td><td>0.000651498</td><td>1.04024</td><td>0.020082</td><td>5.7367</td><td>0.00263048</td><td>149.0</td><td>1</td></tr><tr><th>42</th><td>25777</td><td>8685</td><td>Shingeki no Kyojin Season 2</td><td>[&apos;Action&apos;, &apos;Drama&apos;, &apos;Gore&apos;, &apos;Military&apos;, &apos;Shounen&apos;, &apos;Survival&apos;]</td><td>tv</td><td>152.0</td><td>7.66117</td><td>0.000409796</td><td>0.806677</td><td>0.0167866</td><td>7.09824</td><td>0.00522014</td><td>152.0</td><td>1</td></tr><tr><th>43</th><td>38524</td><td>12753</td><td>Shingeki no Kyojin Season 3 Part 2</td><td>[&apos;Action&apos;, &apos;Drama&apos;, &apos;Gore&apos;, &apos;Military&apos;, &apos;Shounen&apos;, &apos;Survival&apos;]</td><td>tv</td><td>154.0</td><td>7.01467</td><td>0.000329349</td><td>1.71389</td><td>0.038812</td><td>7.68329</td><td>0.00452048</td><td>154.0</td><td>1</td></tr><tr><th>44</th><td>27989</td><td>4600</td><td>Hibike! Euphonium</td><td>[&apos;Drama&apos;, &apos;Music&apos;, &apos;Performing Arts&apos;, &apos;School&apos;]</td><td>tv</td><td>159.0</td><td>7.33774</td><td>0.0015621</td><td>0.84032</td><td>0.0324222</td><td>6.71249</td><td>0.000345354</td><td>159.0</td><td>1</td></tr><tr><th>45</th><td>36259</td><td>10474</td><td>Pingu in the City</td><td>[&apos;Comedy&apos;, &apos;Kids&apos;, &apos;Slice of Life&apos;]</td><td>tv</td><td>162.0</td><td>7.48077</td><td>8.79202e-5</td><td>1.19981</td><td>0.0301955</td><td>7.03191</td><td>5.37744e-5</td><td>162.0</td><td>1</td></tr><tr><th>46</th><td>39388</td><td>8178</td><td>Koisuru Asteroid</td><td>[&apos;CGDCT&apos;, &apos;Comedy&apos;, &apos;Iyashikei&apos;, &apos;School&apos;, &apos;Slice of Life&apos;]</td><td>tv</td><td>168.0</td><td>6.90152</td><td>0.00011734</td><td>1.37648</td><td>0.0442473</td><td>5.42353</td><td>5.92764e-5</td><td>168.0</td><td>1</td></tr><tr><th>47</th><td>16894</td><td>10440</td><td>Kuroko no Basket 2nd Season</td><td>[&apos;School&apos;, &apos;Shounen&apos;, &apos;Sports&apos;, &apos;Team Sports&apos;]</td><td>tv</td><td>178.0</td><td>7.03593</td><td>0.000108512</td><td>0.876037</td><td>0.0415729</td><td>6.78135</td><td>0.00115838</td><td>178.0</td><td>1</td></tr><tr><th>48</th><td>32937</td><td>11298</td><td>Kono Subarashii Sekai ni Shukufuku wo! 2</td><td>[&apos;Adventure&apos;, &apos;Comedy&apos;, &apos;Fantasy&apos;, &apos;Isekai&apos;, &apos;Parody&apos;, &apos;Reincarnation&apos;]</td><td>tv</td><td>182.0</td><td>7.2245</td><td>0.000793605</td><td>0.86618</td><td>0.0299126</td><td>6.84116</td><td>0.00213723</td><td>182.0</td><td>1</td></tr><tr><th>49</th><td>40060</td><td>6803</td><td>BNA</td><td>[&apos;Action&apos;, &apos;Anthropomorphic&apos;, &apos;Fantasy&apos;, &apos;Super Power&apos;]</td><td>tv</td><td>186.0</td><td>6.30543</td><td>0.000266473</td><td>0.97211</td><td>0.0677405</td><td>6.08244</td><td>0.000451976</td><td>186.0</td><td>1</td></tr><tr><th>50</th><td>47159</td><td>6968</td><td>Tensai Ouji no Akaji Kokka Saisei Jutsu</td><td>[&apos;Comedy&apos;, &apos;Fantasy&apos;]</td><td>tv</td><td>194.0</td><td>6.60171</td><td>0.000347634</td><td>0.917447</td><td>0.0528708</td><td>5.87021</td><td>0.00024481</td><td>194.0</td><td>1</td></tr><tr><th>&vellip;</th><td>&vellip;</td><td>&vellip;</td><td>&vellip;</td><td>&vellip;</td><td>&vellip;</td><td>&vellip;</td><td>&vellip;</td><td>&vellip;</td><td>&vellip;</td><td>&vellip;</td><td>&vellip;</td><td>&vellip;</td><td>&vellip;</td><td>&vellip;</td></tr></tbody></table></div>"
      ],
      "text/latex": [
       "\\begin{tabular}{r|cccccccccccccc}\n",
       "\t& anime\\_id & uid & title & genres & medium & ranking & explicit & implicit & error\\_explicit & error\\_implicit & baseline\\_explicit & baseline\\_implicit & score & display\\\\\n",
       "\t\\hline\n",
       "\t& Int64 & Int64 & String & String & String7 & Float32 & Float32 & Float32 & Float32 & Float32 & Float32 & Float32 & Float32 & Bool\\\\\n",
       "\t\\hline\n",
       "\t1 & 257 & 9000 & Ikkitousen & ['Ecchi', 'Martial Arts', 'School', 'Super Power'] & tv & 2.0 & 5.80992 & 3.63182e-5 & 3.23582 & 0.129489 & 4.73864 & 0.000129053 & 2.0 & 1 \\\\\n",
       "\t2 & 31988 & 13387 & Hibike! Euphonium 2 & ['Drama', 'Music', 'Performing Arts', 'School'] & tv & 14.0 & 7.94844 & 0.00122995 & 1.00092 & 0.0815675 & 7.07265 & 0.000182295 & 14.0 & 1 \\\\\n",
       "\t3 & 10490 & 7803 & Blood-C & ['Action', 'Gore', 'Horror', 'Mystery', 'School', 'Supernatural', 'Vampire'] & tv & 15.0 & 5.17652 & 6.35002e-5 & 2.2268 & 0.133564 & 4.93175 & 0.000324621 & 15.0 & 1 \\\\\n",
       "\t4 & 7079 & 662 & Ookamikakushi & ['Action', 'Horror', 'Mystery', 'Supernatural'] & tv & 16.0 & 5.57001 & 4.145e-5 & 2.35673 & 0.119562 & 4.70604 & 5.28148e-5 & 16.0 & 1 \\\\\n",
       "\t5 & 241 & 12874 & Girls Bravo: First Season & ['Comedy', 'Ecchi', 'Fantasy', 'Harem', 'Isekai', 'Romance', 'School', 'Shounen'] & tv & 17.0 & 5.30554 & 4.4352e-5 & 2.84026 & 0.112454 & 4.67248 & 0.000140309 & 17.0 & 1 \\\\\n",
       "\t6 & 30727 & 1266 & Saenai Heroine no Sodatekata ♭ & ['Comedy', 'Ecchi', 'Harem', 'Otaku Culture', 'Romance', 'School'] & tv & 20.0 & 7.72764 & 0.000482927 & 1.06737 & 0.0771941 & 6.28666 & 0.000304281 & 20.0 & 1 \\\\\n",
       "\t7 & 16498 & 7644 & Shingeki no Kyojin & ['Action', 'Drama', 'Gore', 'Military', 'Shounen', 'Survival'] & tv & 22.0 & 8.13839 & 0.000638798 & 0.823535 & 0.047328 & 7.04385 & 0.00864467 & 22.0 & 1 \\\\\n",
       "\t8 & 146 & 10983 & Kono Minikuku mo Utsukushii Sekai & ['Comedy', 'Drama', 'Ecchi', 'Romance', 'Sci-Fi'] & tv & 23.0 & 5.59188 & 3.8636e-5 & 2.18763 & 0.115217 & 5.0595 & 5.0387e-5 & 23.0 & 1 \\\\\n",
       "\t9 & 16512 & 19908 & Devil Survivor 2 The Animation & ['Action', 'Mythology', 'Supernatural', 'Survival'] & tv & 28.0 & 5.56839 & 5.73268e-5 & 2.33645 & 0.114239 & 5.22092 & 0.000137065 & 28.0 & 1 \\\\\n",
       "\t10 & 7724 & 5926 & Shiki & ['Horror', 'Mystery', 'Psychological', 'Supernatural', 'Suspense', 'Vampire'] & tv & 31.0 & 7.00309 & 0.000621784 & 1.07296 & 0.0940347 & 6.27419 & 0.000550791 & 31.0 & 1 \\\\\n",
       "\t11 & 5262 & 6657 & Shugo Chara!! Doki & ['Comedy', 'Mahou Shoujo', 'School', 'Shoujo'] & tv & 32.0 & 6.01237 & 4.2572e-5 & 2.3805 & 0.0989875 & 5.73424 & 0.000134234 & 32.0 & 1 \\\\\n",
       "\t12 & 37497 & 1816 & Irozuku Sekai no Ashita kara & ['Drama', 'Love Polygon', 'Romance', 'School', 'Time Travel', 'Visual Arts'] & tv & 37.0 & 7.60896 & 0.000711415 & 1.10056 & 0.0689114 & 6.09097 & 0.000236411 & 37.0 & 1 \\\\\n",
       "\t13 & 1722 & 18559 & Nagasarete Airantou & ['Comedy', 'Ecchi', 'Fantasy', 'Harem', 'Romance', 'Shounen'] & tv & 43.0 & 5.8694 & 5.89566e-5 & 1.65651 & 0.111787 & 5.51167 & 8.10418e-5 & 43.0 & 1 \\\\\n",
       "\t14 & 196 & 3730 & Onegai☆Twins & ['Comedy', 'Drama', 'Harem', 'School', 'Sci-Fi'] & tv & 46.0 & 5.91899 & 6.97218e-5 & 1.65502 & 0.104136 & 5.17712 & 8.51376e-5 & 46.0 & 1 \\\\\n",
       "\t15 & 27831 & 11841 & Durarara!!x2 Ten & ['Action', 'Mystery', 'Supernatural'] & tv & 47.0 & 6.68417 & 6.70456e-5 & 1.15597 & 0.0969181 & 6.65368 & 0.000344482 & 47.0 & 1 \\\\\n",
       "\t16 & 5682 & 12503 & Phantom: Requiem for the Phantom & ['Action', 'Drama', 'Organized Crime', 'Seinen', 'Suspense'] & tv & 48.0 & 6.98487 & 0.000226944 & 1.23493 & 0.0852181 & 6.50221 & 0.000230538 & 48.0 & 1 \\\\\n",
       "\t17 & 322 & 13733 & Paradise Kiss & ['Comedy', 'Drama', 'Josei', 'Romance', 'Slice of Life', 'Visual Arts'] & tv & 51.0 & 7.24843 & 0.000580444 & 1.22377 & 0.0733965 & 6.39964 & 0.000216953 & 51.0 & 1 \\\\\n",
       "\t18 & 48583 & 18963 & Shingeki no Kyojin: The Final Season Part 2 & ['Action', 'Drama', 'Gore', 'Military', 'Shounen', 'Survival'] & tv & 52.0 & 8.50582 & 0.000323367 & 0.835886 & 0.0174885 & 7.45514 & 0.00227523 & 52.0 & 1 \\\\\n",
       "\t19 & 48926 & 976 & Komi-san wa, Comyushou desu. & ['Comedy', 'Romantic Subtext', 'School', 'Shounen'] & tv & 56.0 & 7.37853 & 0.00135346 & 1.06601 & 0.0665281 & 6.6083 & 0.001346 & 56.0 & 1 \\\\\n",
       "\t20 & 27833 & 1275 & Durarara!!x2 Ketsu & ['Action', 'Mystery', 'Supernatural'] & tv & 60.0 & 6.73941 & 5.7401e-5 & 1.13592 & 0.088508 & 6.76306 & 0.0003062 & 60.0 & 1 \\\\\n",
       "\t21 & 487 & 15524 & Girls Bravo: Second Season & ['Comedy', 'Ecchi', 'Fantasy', 'Harem', 'Isekai', 'Romance', 'School', 'Shounen'] & tv & 61.0 & 5.57892 & 2.05613e-5 & 2.61137 & 0.0734879 & 4.89676 & 8.49156e-5 & 61.0 & 1 \\\\\n",
       "\t22 & 40028 & 5414 & Shingeki no Kyojin: The Final Season & ['Action', 'Drama', 'Gore', 'Military', 'Shounen', 'Survival'] & tv & 62.0 & 8.41503 & 0.000330911 & 1.30218 & 0.0206621 & 7.4072 & 0.00410722 & 62.0 & 1 \\\\\n",
       "\t23 & 35330 & 1955 & Poputepipikku & ['Comedy', 'Gag Humor', 'Parody'] & tv & 77.0 & 6.58529 & 0.000487723 & 1.11919 & 0.0825184 & 5.96703 & 0.00025252 & 77.0 & 1 \\\\\n",
       "\t24 & 40729 & 20213 & Nomad: Megalo Box 2 & ['Combat Sports', 'Drama', 'Sci-Fi', 'Sports'] & tv & 78.0 & 7.22244 & 9.0594e-5 & 1.00417 & 0.0625224 & 7.05308 & 0.000164578 & 78.0 & 1 \\\\\n",
       "\t25 & 46095 & 1404 & Vivy: Fluorite Eye's Song & ['Action', 'Music', 'Sci-Fi', 'Suspense', 'Time Travel'] & tv & 90.0 & 7.74908 & 0.000811452 & 0.953723 & 0.0342983 & 7.14686 & 0.000549041 & 90.0 & 1 \\\\\n",
       "\t26 & 48569 & 5777 & 86 Part 2 & ['Action', 'Drama', 'Mecha', 'Military', 'Sci-Fi'] & tv & 91.0 & 7.55427 & 0.00030687 & 1.00601 & 0.0443314 & 7.29187 & 0.000503743 & 91.0 & 1 \\\\\n",
       "\t27 & 49738 & 5252 & Heike Monogatari & ['Drama', 'Historical', 'Samurai'] & tv & 95.0 & 6.65888 & 0.000296485 & 1.05777 & 0.0788412 & 6.71727 & 4.89731e-5 & 95.0 & 1 \\\\\n",
       "\t28 & 15417 & 8713 & Gintama': Enchousen & ['Action', 'Comedy', 'Gag Humor', 'Historical', 'Parody', 'Samurai', 'Sci-Fi', 'Shounen'] & tv & 97.0 & 8.04427 & 2.34727e-5 & 0.85323 & 0.0201214 & 7.74217 & 0.000263402 & 97.0 & 1 \\\\\n",
       "\t29 & 39783 & 15482 & 5-toubun no Hanayome ∬ & ['Comedy', 'Harem', 'Romance', 'School', 'Shounen'] & tv & 105.0 & 7.91345 & 0.000322904 & 0.896144 & 0.0191688 & 6.6726 & 0.000970508 & 105.0 & 1 \\\\\n",
       "\t30 & 6746 & 12937 & Durarara!! & ['Action', 'Mystery', 'Supernatural'] & tv & 108.0 & 6.56836 & 0.000394129 & 0.98166 & 0.0775118 & 6.66357 & 0.00156079 & 108.0 & 1 \\\\\n",
       "\t31 & 40221 & 269 & Kami no Tou & ['Action', 'Adventure', 'Drama', 'Fantasy', 'Mystery'] & tv & 111.0 & 7.42117 & 0.00034446 & 1.03134 & 0.0386343 & 6.20135 & 0.00117719 & 111.0 & 1 \\\\\n",
       "\t32 & 427 & 10763 & Kaleido Star & ['Comedy', 'Drama', 'Fantasy', 'Performing Arts', 'Shoujo'] & tv & 118.0 & 5.99735 & 0.000639475 & 2.04357 & 0.0697031 & 6.23046 & 7.28155e-5 & 118.0 & 1 \\\\\n",
       "\t33 & 42941 & 9316 & Uma Musume: Pretty Derby (TV) Season 2 & ['Anthropomorphic', 'Sports'] & tv & 119.0 & 7.80029 & 7.82807e-5 & 0.881409 & 0.0222924 & 6.61651 & 2.75943e-5 & 119.0 & 1 \\\\\n",
       "\t34 & 32843 & 3602 & Senki Zesshou Symphogear XV & ['Action', 'Idols (Female)', 'Music', 'Sci-Fi'] & tv & 121.0 & 7.87823 & 0.000156776 & 0.799667 & 0.0186524 & 6.94163 & 1.68961e-5 & 121.0 & 1 \\\\\n",
       "\t35 & 63 & 13660 & DearS & ['Comedy', 'Ecchi', 'Harem', 'Romance', 'Sci-Fi', 'Shounen'] & tv & 123.0 & 5.31826 & 5.99073e-5 & 1.36314 & 0.101529 & 4.85622 & 0.000145905 & 123.0 & 1 \\\\\n",
       "\t36 & 32836 & 20123 & Senki Zesshou Symphogear AXZ & ['Action', 'Idols (Female)', 'Music', 'Sci-Fi'] & tv & 131.0 & 7.76733 & 0.000204116 & 0.865324 & 0.0186524 & 6.29791 & 2.03424e-5 & 131.0 & 1 \\\\\n",
       "\t37 & 41457 & 15791 & 86 & ['Action', 'Drama', 'Mecha', 'Military', 'Sci-Fi'] & tv & 137.0 & 7.26301 & 0.000406573 & 0.97457 & 0.0431834 & 6.85566 & 0.000801129 & 137.0 & 1 \\\\\n",
       "\t38 & 28977 & 11850 & Gintama° & ['Action', 'Comedy', 'Gag Humor', 'Historical', 'Parody', 'Samurai', 'Sci-Fi', 'Shounen'] & tv & 140.0 & 7.45326 & 4.17541e-5 & 1.01387 & 0.0367375 & 7.5762 & 0.000569903 & 140.0 & 1 \\\\\n",
       "\t39 & 2921 & 5647 & Ashita no Joe 2 & ['Action', 'Combat Sports', 'Drama', 'Shounen', 'Slice of Life', 'Sports'] & tv & 144.0 & 7.92289 & 8.26744e-5 & 0.695075 & 0.0150608 & 8.01768 & 2.77932e-5 & 144.0 & 1 \\\\\n",
       "\t40 & 38101 & 13214 & 5-toubun no Hanayome & ['Comedy', 'Harem', 'Romance', 'School', 'Shounen'] & tv & 147.0 & 7.62011 & 0.000447012 & 0.853687 & 0.0215447 & 6.24878 & 0.00133218 & 147.0 & 1 \\\\\n",
       "\t41 & 35849 & 12364 & Darling in the FranXX & ['Action', 'Drama', 'Mecha', 'Romance', 'Sci-Fi'] & tv & 149.0 & 7.5939 & 0.000651498 & 1.04024 & 0.020082 & 5.7367 & 0.00263048 & 149.0 & 1 \\\\\n",
       "\t42 & 25777 & 8685 & Shingeki no Kyojin Season 2 & ['Action', 'Drama', 'Gore', 'Military', 'Shounen', 'Survival'] & tv & 152.0 & 7.66117 & 0.000409796 & 0.806677 & 0.0167866 & 7.09824 & 0.00522014 & 152.0 & 1 \\\\\n",
       "\t43 & 38524 & 12753 & Shingeki no Kyojin Season 3 Part 2 & ['Action', 'Drama', 'Gore', 'Military', 'Shounen', 'Survival'] & tv & 154.0 & 7.01467 & 0.000329349 & 1.71389 & 0.038812 & 7.68329 & 0.00452048 & 154.0 & 1 \\\\\n",
       "\t44 & 27989 & 4600 & Hibike! Euphonium & ['Drama', 'Music', 'Performing Arts', 'School'] & tv & 159.0 & 7.33774 & 0.0015621 & 0.84032 & 0.0324222 & 6.71249 & 0.000345354 & 159.0 & 1 \\\\\n",
       "\t45 & 36259 & 10474 & Pingu in the City & ['Comedy', 'Kids', 'Slice of Life'] & tv & 162.0 & 7.48077 & 8.79202e-5 & 1.19981 & 0.0301955 & 7.03191 & 5.37744e-5 & 162.0 & 1 \\\\\n",
       "\t46 & 39388 & 8178 & Koisuru Asteroid & ['CGDCT', 'Comedy', 'Iyashikei', 'School', 'Slice of Life'] & tv & 168.0 & 6.90152 & 0.00011734 & 1.37648 & 0.0442473 & 5.42353 & 5.92764e-5 & 168.0 & 1 \\\\\n",
       "\t47 & 16894 & 10440 & Kuroko no Basket 2nd Season & ['School', 'Shounen', 'Sports', 'Team Sports'] & tv & 178.0 & 7.03593 & 0.000108512 & 0.876037 & 0.0415729 & 6.78135 & 0.00115838 & 178.0 & 1 \\\\\n",
       "\t48 & 32937 & 11298 & Kono Subarashii Sekai ni Shukufuku wo! 2 & ['Adventure', 'Comedy', 'Fantasy', 'Isekai', 'Parody', 'Reincarnation'] & tv & 182.0 & 7.2245 & 0.000793605 & 0.86618 & 0.0299126 & 6.84116 & 0.00213723 & 182.0 & 1 \\\\\n",
       "\t49 & 40060 & 6803 & BNA & ['Action', 'Anthropomorphic', 'Fantasy', 'Super Power'] & tv & 186.0 & 6.30543 & 0.000266473 & 0.97211 & 0.0677405 & 6.08244 & 0.000451976 & 186.0 & 1 \\\\\n",
       "\t50 & 47159 & 6968 & Tensai Ouji no Akaji Kokka Saisei Jutsu & ['Comedy', 'Fantasy'] & tv & 194.0 & 6.60171 & 0.000347634 & 0.917447 & 0.0528708 & 5.87021 & 0.00024481 & 194.0 & 1 \\\\\n",
       "\t$\\dots$ & $\\dots$ & $\\dots$ & $\\dots$ & $\\dots$ & $\\dots$ & $\\dots$ & $\\dots$ & $\\dots$ & $\\dots$ & $\\dots$ & $\\dots$ & $\\dots$ & $\\dots$ & $\\dots$ \\\\\n",
       "\\end{tabular}\n"
      ],
      "text/plain": [
       "\u001b[1m5432×14 DataFrame\u001b[0m\n",
       "\u001b[1m  Row \u001b[0m│\u001b[1m anime_id \u001b[0m\u001b[1m uid   \u001b[0m\u001b[1m title                             \u001b[0m\u001b[1m genres                            \u001b[0m\u001b[1m medium  \u001b[0m\u001b[1m ranking \u001b[0m\u001b[1m explicit \u001b[0m\u001b[1m implicit    \u001b[0m\u001b[1m error_explicit \u001b[0m\u001b[1m error_implicit \u001b[0m\u001b[1m baseline_explicit \u001b[0m\u001b[1m baseline_implicit \u001b[0m\u001b[1m score   \u001b[0m\u001b[1m display \u001b[0m\n",
       "\u001b[1m      \u001b[0m│\u001b[90m Int64    \u001b[0m\u001b[90m Int64 \u001b[0m\u001b[90m String                            \u001b[0m\u001b[90m String                            \u001b[0m\u001b[90m String7 \u001b[0m\u001b[90m Float32 \u001b[0m\u001b[90m Float32  \u001b[0m\u001b[90m Float32     \u001b[0m\u001b[90m Float32        \u001b[0m\u001b[90m Float32        \u001b[0m\u001b[90m Float32           \u001b[0m\u001b[90m Float32           \u001b[0m\u001b[90m Float32 \u001b[0m\u001b[90m Bool    \u001b[0m\n",
       "──────┼────────────────────────────────────────────────────────────────────────────────────────────────────────────────────────────────────────────────────────────────────────────────────────────────────────────────────────\n",
       "    1 │      257   9000  Ikkitousen                         ['Ecchi', 'Martial Arts', 'Schoo…  tv           2.0   5.80992  3.63182e-5         3.23582      0.129489               4.73864        0.000129053      2.0     true\n",
       "    2 │    31988  13387  Hibike! Euphonium 2                ['Drama', 'Music', 'Performing A…  tv          14.0   7.94844  0.00122995         1.00092      0.0815675              7.07265        0.000182295     14.0     true\n",
       "    3 │    10490   7803  Blood-C                            ['Action', 'Gore', 'Horror', 'My…  tv          15.0   5.17652  6.35002e-5         2.2268       0.133564               4.93175        0.000324621     15.0     true\n",
       "    4 │     7079    662  Ookamikakushi                      ['Action', 'Horror', 'Mystery', …  tv          16.0   5.57001  4.145e-5           2.35673      0.119562               4.70604        5.28148e-5      16.0     true\n",
       "    5 │      241  12874  Girls Bravo: First Season          ['Comedy', 'Ecchi', 'Fantasy', '…  tv          17.0   5.30554  4.4352e-5          2.84026      0.112454               4.67248        0.000140309     17.0     true\n",
       "    6 │    30727   1266  Saenai Heroine no Sodatekata ♭     ['Comedy', 'Ecchi', 'Harem', 'Ot…  tv          20.0   7.72764  0.000482927        1.06737      0.0771941              6.28666        0.000304281     20.0     true\n",
       "    7 │    16498   7644  Shingeki no Kyojin                 ['Action', 'Drama', 'Gore', 'Mil…  tv          22.0   8.13839  0.000638798        0.823535     0.047328               7.04385        0.00864467      22.0     true\n",
       "    8 │      146  10983  Kono Minikuku mo Utsukushii Sekai  ['Comedy', 'Drama', 'Ecchi', 'Ro…  tv          23.0   5.59188  3.8636e-5          2.18763      0.115217               5.0595         5.0387e-5       23.0     true\n",
       "    9 │    16512  19908  Devil Survivor 2 The Animation     ['Action', 'Mythology', 'Superna…  tv          28.0   5.56839  5.73268e-5         2.33645      0.114239               5.22092        0.000137065     28.0     true\n",
       "   10 │     7724   5926  Shiki                              ['Horror', 'Mystery', 'Psycholog…  tv          31.0   7.00309  0.000621784        1.07296      0.0940347              6.27419        0.000550791     31.0     true\n",
       "   11 │     5262   6657  Shugo Chara!! Doki                 ['Comedy', 'Mahou Shoujo', 'Scho…  tv          32.0   6.01237  4.2572e-5          2.3805       0.0989875              5.73424        0.000134234     32.0     true\n",
       "   12 │    37497   1816  Irozuku Sekai no Ashita kara       ['Drama', 'Love Polygon', 'Roman…  tv          37.0   7.60896  0.000711415        1.10056      0.0689114              6.09097        0.000236411     37.0     true\n",
       "   13 │     1722  18559  Nagasarete Airantou                ['Comedy', 'Ecchi', 'Fantasy', '…  tv          43.0   5.8694   5.89566e-5         1.65651      0.111787               5.51167        8.10418e-5      43.0     true\n",
       "   14 │      196   3730  Onegai☆Twins                       ['Comedy', 'Drama', 'Harem', 'Sc…  tv          46.0   5.91899  6.97218e-5         1.65502      0.104136               5.17712        8.51376e-5      46.0     true\n",
       "   15 │    27831  11841  Durarara!!x2 Ten                   ['Action', 'Mystery', 'Supernatu…  tv          47.0   6.68417  6.70456e-5         1.15597      0.0969181              6.65368        0.000344482     47.0     true\n",
       "   16 │     5682  12503  Phantom: Requiem for the Phantom   ['Action', 'Drama', 'Organized C…  tv          48.0   6.98487  0.000226944        1.23493      0.0852181              6.50221        0.000230538     48.0     true\n",
       "   17 │      322  13733  Paradise Kiss                      ['Comedy', 'Drama', 'Josei', 'Ro…  tv          51.0   7.24843  0.000580444        1.22377      0.0733965              6.39964        0.000216953     51.0     true\n",
       "   18 │    48583  18963  Shingeki no Kyojin: The Final Se…  ['Action', 'Drama', 'Gore', 'Mil…  tv          52.0   8.50582  0.000323367        0.835886     0.0174885              7.45514        0.00227523      52.0     true\n",
       "   19 │    48926    976  Komi-san wa, Comyushou desu.       ['Comedy', 'Romantic Subtext', '…  tv          56.0   7.37853  0.00135346         1.06601      0.0665281              6.6083         0.001346        56.0     true\n",
       "   20 │    27833   1275  Durarara!!x2 Ketsu                 ['Action', 'Mystery', 'Supernatu…  tv          60.0   6.73941  5.7401e-5          1.13592      0.088508               6.76306        0.0003062       60.0     true\n",
       "   21 │      487  15524  Girls Bravo: Second Season         ['Comedy', 'Ecchi', 'Fantasy', '…  tv          61.0   5.57892  2.05613e-5         2.61137      0.0734879              4.89676        8.49156e-5      61.0     true\n",
       "  ⋮   │    ⋮        ⋮                    ⋮                                  ⋮                     ⋮        ⋮        ⋮           ⋮             ⋮               ⋮                 ⋮                  ⋮             ⋮        ⋮\n",
       " 5413 │    36552  12477  Pikachin-Kit                       ['Comedy', 'Kids', 'Sci-Fi']       tv       20272.0   5.73791  1.51382e-7         1.86798     -0.000518913            5.131          1.34886e-7   20272.0     true\n",
       " 5414 │    36316  16154  Shichisei no Subaru                ['Action', 'Fantasy', 'Sci-Fi', …  tv       20275.0   5.9357   4.53567e-5         1.80048     -0.000254766            4.42529        8.79507e-5   20275.0     true\n",
       " 5415 │    33572   3945  Idol Memories                      ['Idols (Female)', 'Music']        tv       20277.0   4.62509  1.2548e-6          1.98072     -0.000619195            3.7176         2.35208e-6   20277.0     true\n",
       " 5416 │    36511  17187  Tokyo Ghoul:re                     ['Action', 'Fantasy', 'Gore', 'H…  tv       20278.0   5.29398  7.95356e-5         2.40452     -0.000179198            4.83539        0.00181439   20278.0     true\n",
       " 5417 │     5886   1879  Kujira no Josephina                ['Adventure', 'Fantasy']           tv       20284.0   5.69369  1.81754e-7         1.89657     -0.000518913            5.1064         1.78857e-7   20284.0     true\n",
       " 5418 │    38857  16599  Neko no Nyagh: Nya Misérables      ['Kids', 'Strategy Game', 'Visua…  tv       20285.0   5.77685  2.66327e-7         1.88371     -0.000518913            5.17292        1.81577e-7   20285.0     true\n",
       " 5419 │    38449  18185  Choujigen Kakumei Anime: Dimensi…  ['School']                         tv       20292.0   4.21584  3.81467e-6         2.19394     -0.000104832            3.40256        4.54678e-6   20292.0     true\n",
       " 5420 │    35818   1559  Love Kome: We Love Rice Nikisaku   ['Gourmet', 'Slice of Life']       tv       20293.0   4.78363  6.48197e-7         1.89652     -0.00132852             3.66476        1.70665e-6   20293.0     true\n",
       " 5421 │    34411   1239  Taishou Mebiusline: Chicchai-san   ['Historical', 'Supernatural']     tv       20299.0   3.90497  9.19214e-7         2.26827     -0.000231783            3.23083        5.70445e-6   20299.0     true\n",
       " 5422 │    37571  19086  Senjuushi                          ['Action', 'Military']             tv       20300.0   3.83312  9.12299e-7         2.26817     -0.000231783            3.02879        5.07272e-6   20300.0     true\n",
       " 5423 │     6075  16461  Ai no Wakakusa Yama Monogatari     ['Comedy']                         tv       20307.0   5.75499  1.04214e-6         2.10871     -6.38375e-5             5.14827        3.91839e-7   20307.0     true\n",
       " 5424 │     2259  11651  Dr. Rin ni Kiitemite!              ['Comedy', 'Fantasy', 'Romance',…  tv       20309.0   5.77261  2.25847e-6         2.21367      0.000498945            5.1874         2.19629e-6   20309.0     true\n",
       " 5425 │    36196  16880  Kaijuu Girls: Ultra Kaijuu Gijin…  ['Comedy', 'Fantasy', 'Parody']    tv       20315.0   5.74292  1.10331e-6         1.99344     -0.000873439            4.80954        2.0085e-6    20315.0     true\n",
       " 5426 │    38331   4114  Stand My Heroes: Piece of Truth    ['Mystery', 'Reverse Harem', 'Ro…  tv       20317.0   4.8654   1.01019e-6         2.30688      0.00017038             3.98347        1.33023e-5   20317.0     true\n",
       " 5427 │    40137   5477  ARP Backstage Pass                 ['Idols (Male)', 'Music']          tv       20322.0   4.91091  4.86681e-7         2.0729      -0.00132852             4.0141         2.91587e-6   20322.0     true\n",
       " 5428 │    48517  14988  Dosukoi Sushi Zumou                ['Comedy', 'Gourmet', 'Kids', 'M…  tv       20325.0   5.76751  2.47769e-7         2.10871     -0.000518913            5.16062        2.17069e-7   20325.0     true\n",
       " 5429 │    33113   6465  Scared Rider Xechs                 ['Adventure', 'Reverse Harem', '…  tv       20329.0   4.06942  1.24086e-6         2.59445      0.000966519            3.41012        9.33742e-6   20329.0     true\n",
       " 5430 │    37992    507  Jingai-san no Yome                 ['Comedy', 'Fantasy', 'Josei', '…  tv       20336.0   5.01083  7.03849e-6         1.90665     -0.00476508             4.35628        3.10142e-5   20336.0     true\n",
       " 5431 │    33447  17184  Piace: Watashi no Italian          ['Comedy', 'Gourmet', 'Slice of …  tv       20338.0   5.03338  4.19601e-6         2.70374     -4.04418e-5             4.51079        8.48871e-6   20338.0     true\n",
       " 5432 │     2156   1136  Bakugan Battle Brawlers            ['Action', 'Fantasy', 'Strategy …  tv       20339.0   4.49194  2.5416e-5          1.44197     -0.0159211              5.01826        0.000155226  20339.0     true\n",
       "\u001b[36m                                                                                                                                                                                                              5391 rows omitted\u001b[0m"
      ]
     },
     "execution_count": 13,
     "metadata": {},
     "output_type": "execute_result"
    }
   ],
   "source": [
    "filter(x -> x.medium == \"tv\", rec_df) |> pretty_display"
   ]
  },
  {
   "cell_type": "code",
   "execution_count": 14,
   "id": "32eaa697-ed9a-419f-b98f-8b335e433afb",
   "metadata": {},
   "outputs": [],
   "source": [
    "import Statistics: quantile"
   ]
  },
  {
   "cell_type": "code",
   "execution_count": 15,
   "id": "7ee48028-14a4-41b7-92ec-7cdb79172d86",
   "metadata": {},
   "outputs": [
    {
     "data": {
      "text/html": [
       "<div class=\"data-frame\"><p>7,021 rows × 14 columns</p><table class=\"data-frame\"><thead><tr><th></th><th>anime_id</th><th>uid</th><th>title</th><th>genres</th><th>medium</th><th>ranking</th><th>explicit</th><th>implicit</th><th>error_explicit</th><th>error_implicit</th><th>baseline_explicit</th><th>baseline_implicit</th><th>score</th><th>display</th></tr><tr><th></th><th title=\"Int64\">Int64</th><th title=\"Int64\">Int64</th><th title=\"String\">String</th><th title=\"String\">String</th><th title=\"InlineStrings.String7\">String7</th><th title=\"Float32\">Float32</th><th title=\"Float32\">Float32</th><th title=\"Float32\">Float32</th><th title=\"Float32\">Float32</th><th title=\"Float32\">Float32</th><th title=\"Float32\">Float32</th><th title=\"Float32\">Float32</th><th title=\"Float32\">Float32</th><th title=\"Bool\">Bool</th></tr></thead><tbody><tr><th>1</th><td>48583</td><td>18963</td><td>Shingeki no Kyojin: The Final Season Part 2</td><td>[&apos;Action&apos;, &apos;Drama&apos;, &apos;Gore&apos;, &apos;Military&apos;, &apos;Shounen&apos;, &apos;Survival&apos;]</td><td>tv</td><td>52.0</td><td>8.50582</td><td>0.000323367</td><td>0.835886</td><td>0.0174885</td><td>7.45514</td><td>0.00227523</td><td>-7.66994</td><td>1</td></tr><tr><th>2</th><td>16498</td><td>7644</td><td>Shingeki no Kyojin</td><td>[&apos;Action&apos;, &apos;Drama&apos;, &apos;Gore&apos;, &apos;Military&apos;, &apos;Shounen&apos;, &apos;Survival&apos;]</td><td>tv</td><td>22.0</td><td>8.13839</td><td>0.000638798</td><td>0.823535</td><td>0.047328</td><td>7.04385</td><td>0.00864467</td><td>-7.31486</td><td>1</td></tr><tr><th>3</th><td>42984</td><td>8632</td><td>Gotcha!</td><td>[&apos;Fantasy&apos;, &apos;Music&apos;]</td><td>music</td><td>114.0</td><td>7.97039</td><td>9.22618e-5</td><td>0.696185</td><td>0.0165146</td><td>7.41328</td><td>3.0276e-5</td><td>-7.2742</td><td>1</td></tr><tr><th>4</th><td>9735</td><td>16789</td><td>Gintama: Shinyaku Benizakura-hen</td><td>[&apos;Action&apos;, &apos;Comedy&apos;, &apos;Historical&apos;, &apos;Parody&apos;, &apos;Samurai&apos;, &apos;Sci-Fi&apos;, &apos;Shounen&apos;]</td><td>special</td><td>4857.0</td><td>8.29265</td><td>2.70756e-6</td><td>1.02868</td><td>0.00103539</td><td>6.98621</td><td>2.51028e-5</td><td>-7.26397</td><td>1</td></tr><tr><th>5</th><td>36885</td><td>18930</td><td>Saenai Heroine no Sodatekata Fine</td><td>[&apos;Comedy&apos;, &apos;Ecchi&apos;, &apos;Harem&apos;, &apos;Otaku Culture&apos;, &apos;Romance&apos;, &apos;School&apos;]</td><td>movie</td><td>45.0</td><td>7.98564</td><td>0.000258834</td><td>0.735142</td><td>0.04503</td><td>6.99953</td><td>0.000127407</td><td>-7.2505</td><td>1</td></tr><tr><th>6</th><td>6945</td><td>14978</td><td>Gintama: Shiroyasha Koutan</td><td>[&apos;Action&apos;, &apos;Comedy&apos;, &apos;Historical&apos;, &apos;Parody&apos;, &apos;Sci-Fi&apos;]</td><td>special</td><td>3103.0</td><td>8.15929</td><td>6.99017e-6</td><td>0.955871</td><td>0.00581444</td><td>7.06262</td><td>4.78695e-5</td><td>-7.20342</td><td>1</td></tr><tr><th>7</th><td>15417</td><td>8713</td><td>Gintama&apos;: Enchousen</td><td>[&apos;Action&apos;, &apos;Comedy&apos;, &apos;Gag Humor&apos;, &apos;Historical&apos;, &apos;Parody&apos;, &apos;Samurai&apos;, &apos;Sci-Fi&apos;, &apos;Shounen&apos;]</td><td>tv</td><td>97.0</td><td>8.04427</td><td>2.34727e-5</td><td>0.85323</td><td>0.0201214</td><td>7.74217</td><td>0.000263402</td><td>-7.19104</td><td>1</td></tr><tr><th>8</th><td>48411</td><td>10158</td><td>Aria the Benedizione</td><td>[&apos;Fantasy&apos;, &apos;Iyashikei&apos;, &apos;Sci-Fi&apos;, &apos;Shounen&apos;, &apos;Slice of Life&apos;]</td><td>movie</td><td>3497.0</td><td>7.90446</td><td>1.97921e-6</td><td>0.715248</td><td>0.00229598</td><td>6.88097</td><td>2.90412e-7</td><td>-7.18922</td><td>1</td></tr><tr><th>9</th><td>40028</td><td>5414</td><td>Shingeki no Kyojin: The Final Season</td><td>[&apos;Action&apos;, &apos;Drama&apos;, &apos;Gore&apos;, &apos;Military&apos;, &apos;Shounen&apos;, &apos;Survival&apos;]</td><td>tv</td><td>62.0</td><td>8.41503</td><td>0.000330911</td><td>1.30218</td><td>0.0206621</td><td>7.4072</td><td>0.00410722</td><td>-7.11285</td><td>1</td></tr><tr><th>10</th><td>32843</td><td>3602</td><td>Senki Zesshou Symphogear XV</td><td>[&apos;Action&apos;, &apos;Idols (Female)&apos;, &apos;Music&apos;, &apos;Sci-Fi&apos;]</td><td>tv</td><td>121.0</td><td>7.87823</td><td>0.000156776</td><td>0.799667</td><td>0.0186524</td><td>6.94163</td><td>1.68961e-5</td><td>-7.07856</td><td>1</td></tr><tr><th>11</th><td>10643</td><td>1803</td><td>Gintama: Dai Hanseikai</td><td>[&apos;Action&apos;, &apos;Comedy&apos;, &apos;Parody&apos;, &apos;Samurai&apos;]</td><td>special</td><td>4591.0</td><td>8.14223</td><td>2.35067e-6</td><td>1.07471</td><td>0.00233157</td><td>6.8151</td><td>2.04266e-5</td><td>-7.06752</td><td>1</td></tr><tr><th>12</th><td>39783</td><td>15482</td><td>5-toubun no Hanayome ∬</td><td>[&apos;Comedy&apos;, &apos;Harem&apos;, &apos;Romance&apos;, &apos;School&apos;, &apos;Shounen&apos;]</td><td>tv</td><td>105.0</td><td>7.91345</td><td>0.000322904</td><td>0.896144</td><td>0.0191688</td><td>6.6726</td><td>0.000970508</td><td>-7.01731</td><td>1</td></tr><tr><th>13</th><td>34096</td><td>6992</td><td>Gintama.</td><td>[&apos;Action&apos;, &apos;Comedy&apos;, &apos;Gag Humor&apos;, &apos;Historical&apos;, &apos;Parody&apos;, &apos;Samurai&apos;, &apos;Sci-Fi&apos;, &apos;Shounen&apos;]</td><td>tv</td><td>1763.0</td><td>7.85976</td><td>2.00849e-5</td><td>0.911374</td><td>0.00866735</td><td>7.69422</td><td>0.000235387</td><td>-6.94839</td><td>1</td></tr><tr><th>14</th><td>31988</td><td>13387</td><td>Hibike! Euphonium 2</td><td>[&apos;Drama&apos;, &apos;Music&apos;, &apos;Performing Arts&apos;, &apos;School&apos;]</td><td>tv</td><td>14.0</td><td>7.94844</td><td>0.00122995</td><td>1.00092</td><td>0.0815675</td><td>7.07265</td><td>0.000182295</td><td>-6.94753</td><td>1</td></tr><tr><th>15</th><td>42941</td><td>9316</td><td>Uma Musume: Pretty Derby (TV) Season 2</td><td>[&apos;Anthropomorphic&apos;, &apos;Sports&apos;]</td><td>tv</td><td>119.0</td><td>7.80029</td><td>7.82807e-5</td><td>0.881409</td><td>0.0222924</td><td>6.61651</td><td>2.75943e-5</td><td>-6.91888</td><td>1</td></tr><tr><th>16</th><td>32836</td><td>20123</td><td>Senki Zesshou Symphogear AXZ</td><td>[&apos;Action&apos;, &apos;Idols (Female)&apos;, &apos;Music&apos;, &apos;Sci-Fi&apos;]</td><td>tv</td><td>131.0</td><td>7.76733</td><td>0.000204116</td><td>0.865324</td><td>0.0186524</td><td>6.29791</td><td>2.03424e-5</td><td>-6.902</td><td>1</td></tr><tr><th>17</th><td>2761</td><td>2129</td><td>Densetsu Kyojin Ideon: Hatsudou-hen</td><td>[&apos;Drama&apos;, &apos;Mecha&apos;, &apos;Sci-Fi&apos;, &apos;Space&apos;]</td><td>movie</td><td>169.0</td><td>7.64829</td><td>0.00010305</td><td>0.788849</td><td>0.0197343</td><td>7.34332</td><td>3.96429e-6</td><td>-6.85944</td><td>1</td></tr><tr><th>18</th><td>25777</td><td>8685</td><td>Shingeki no Kyojin Season 2</td><td>[&apos;Action&apos;, &apos;Drama&apos;, &apos;Gore&apos;, &apos;Military&apos;, &apos;Shounen&apos;, &apos;Survival&apos;]</td><td>tv</td><td>152.0</td><td>7.66117</td><td>0.000409796</td><td>0.806677</td><td>0.0167866</td><td>7.09824</td><td>0.00522014</td><td>-6.8545</td><td>1</td></tr><tr><th>19</th><td>2951</td><td>16098</td><td>Gintama: Nanigoto mo Saiyo ga Kanjin nano de Tasho Senobisuru Kurai ga Choudoyoi</td><td>[&apos;Action&apos;, &apos;Comedy&apos;, &apos;Historical&apos;, &apos;Mecha&apos;, &apos;Parody&apos;, &apos;Samurai&apos;, &apos;Sci-Fi&apos;, &apos;Shounen&apos;]</td><td>special</td><td>14572.0</td><td>8.01028</td><td>8.45857e-6</td><td>1.16556</td><td>-0.0021176</td><td>6.75708</td><td>4.41231e-5</td><td>-6.84472</td><td>1</td></tr><tr><th>20</th><td>40787</td><td>7995</td><td>Josee to Tora to Sakana-tachi</td><td>[&apos;Drama&apos;, &apos;Romance&apos;, &apos;Slice of Life&apos;, &apos;Visual Arts&apos;]</td><td>movie</td><td>85.0</td><td>7.68802</td><td>0.000744377</td><td>0.880067</td><td>0.0376692</td><td>7.04659</td><td>0.000393736</td><td>-6.80795</td><td>1</td></tr><tr><th>21</th><td>46095</td><td>1404</td><td>Vivy: Fluorite Eye&apos;s Song</td><td>[&apos;Action&apos;, &apos;Music&apos;, &apos;Sci-Fi&apos;, &apos;Suspense&apos;, &apos;Time Travel&apos;]</td><td>tv</td><td>90.0</td><td>7.74908</td><td>0.000811452</td><td>0.953723</td><td>0.0342983</td><td>7.14686</td><td>0.000549041</td><td>-6.79536</td><td>1</td></tr><tr><th>22</th><td>38101</td><td>13214</td><td>5-toubun no Hanayome</td><td>[&apos;Comedy&apos;, &apos;Harem&apos;, &apos;Romance&apos;, &apos;School&apos;, &apos;Shounen&apos;]</td><td>tv</td><td>147.0</td><td>7.62011</td><td>0.000447012</td><td>0.853687</td><td>0.0215447</td><td>6.24878</td><td>0.00133218</td><td>-6.76642</td><td>1</td></tr><tr><th>23</th><td>37987</td><td>13638</td><td>Violet Evergarden Movie</td><td>[&apos;Drama&apos;, &apos;Fantasy&apos;, &apos;Slice of Life&apos;]</td><td>movie</td><td>141.0</td><td>7.75584</td><td>0.000423248</td><td>0.991379</td><td>0.0246143</td><td>7.56981</td><td>0.000509545</td><td>-6.76446</td><td>1</td></tr><tr><th>24</th><td>44511</td><td>12557</td><td>Chainsaw Man</td><td>[&apos;Action&apos;, &apos;Adventure&apos;, &apos;Gore&apos;, &apos;Mythology&apos;, &apos;Shounen&apos;]</td><td>tv</td><td>4859.0</td><td>7.61916</td><td>1.42945e-7</td><td>0.91296</td><td>-0.000108642</td><td>7.31126</td><td>1.59259e-6</td><td>-6.7062</td><td>1</td></tr><tr><th>25</th><td>37491</td><td>13057</td><td>Gintama.: Shirogane no Tamashii-hen - Kouhan-sen</td><td>[&apos;Action&apos;, &apos;Comedy&apos;, &apos;Gag Humor&apos;, &apos;Historical&apos;, &apos;Parody&apos;, &apos;Samurai&apos;, &apos;Sci-Fi&apos;, &apos;Shounen&apos;]</td><td>tv</td><td>3551.0</td><td>7.77746</td><td>1.15641e-5</td><td>1.07309</td><td>0.00492251</td><td>7.64155</td><td>0.000141983</td><td>-6.70438</td><td>1</td></tr><tr><th>26</th><td>15335</td><td>6688</td><td>Gintama Movie 2: Kanketsu-hen - Yorozuya yo Eien Nare</td><td>[&apos;Action&apos;, &apos;Comedy&apos;, &apos;Gag Humor&apos;, &apos;Historical&apos;, &apos;Parody&apos;, &apos;Samurai&apos;, &apos;Sci-Fi&apos;, &apos;Shounen&apos;, &apos;Time Travel&apos;]</td><td>movie</td><td>548.0</td><td>7.73914</td><td>2.41977e-5</td><td>1.07368</td><td>0.0140228</td><td>7.60918</td><td>0.00020613</td><td>-6.66546</td><td>1</td></tr><tr><th>27</th><td>30727</td><td>1266</td><td>Saenai Heroine no Sodatekata ♭</td><td>[&apos;Comedy&apos;, &apos;Ecchi&apos;, &apos;Harem&apos;, &apos;Otaku Culture&apos;, &apos;Romance&apos;, &apos;School&apos;]</td><td>tv</td><td>20.0</td><td>7.72764</td><td>0.000482927</td><td>1.06737</td><td>0.0771941</td><td>6.28666</td><td>0.000304281</td><td>-6.66027</td><td>1</td></tr><tr><th>28</th><td>10050</td><td>9463</td><td>Macross F Music Clip Shuu: Nyankuri</td><td>[&apos;Music&apos;]</td><td>music</td><td>371.0</td><td>7.55581</td><td>2.44478e-5</td><td>0.896482</td><td>0.0129198</td><td>6.15198</td><td>2.01177e-6</td><td>-6.65933</td><td>1</td></tr><tr><th>29</th><td>35473</td><td>17744</td><td>Yuuki Yuuna wa Yuushabu Shozoku 3</td><td>[&apos;Comedy&apos;, &apos;Fantasy&apos;, &apos;Slice of Life&apos;]</td><td>movie</td><td>4952.0</td><td>7.6652</td><td>3.59229e-6</td><td>1.02498</td><td>0.00200605</td><td>5.43945</td><td>1.02955e-6</td><td>-6.64022</td><td>1</td></tr><tr><th>30</th><td>44087</td><td>11302</td><td>Gintama: The Semi-Final</td><td>[&apos;Action&apos;, &apos;Comedy&apos;, &apos;Gag Humor&apos;, &apos;Historical&apos;, &apos;Parody&apos;, &apos;Samurai&apos;, &apos;Shounen&apos;]</td><td>special</td><td>124.0</td><td>7.7864</td><td>5.86587e-6</td><td>1.15077</td><td>0.0288011</td><td>7.27995</td><td>4.84453e-5</td><td>-6.63564</td><td>1</td></tr><tr><th>31</th><td>36838</td><td>19449</td><td>Gintama.: Shirogane no Tamashii-hen</td><td>[&apos;Action&apos;, &apos;Comedy&apos;, &apos;Gag Humor&apos;, &apos;Historical&apos;, &apos;Parody&apos;, &apos;Samurai&apos;, &apos;Sci-Fi&apos;, &apos;Shounen&apos;]</td><td>tv</td><td>3340.0</td><td>7.69318</td><td>1.30691e-5</td><td>1.06091</td><td>0.00569736</td><td>7.5484</td><td>0.000156383</td><td>-6.63226</td><td>1</td></tr><tr><th>32</th><td>35472</td><td>7295</td><td>Yuuki Yuuna wa Yuushabu Shozoku 2</td><td>[&apos;Comedy&apos;, &apos;Fantasy&apos;, &apos;Slice of Life&apos;]</td><td>movie</td><td>4806.0</td><td>7.63802</td><td>4.47146e-6</td><td>1.02323</td><td>0.00239672</td><td>5.40189</td><td>1.15624e-6</td><td>-6.61479</td><td>1</td></tr><tr><th>33</th><td>41361</td><td>3592</td><td>Eiga Daisuki Pompo-san (Movie)</td><td>[&apos;Comedy&apos;, &apos;Drama&apos;]</td><td>movie</td><td>222.0</td><td>7.37279</td><td>0.000360768</td><td>0.776768</td><td>0.0174319</td><td>7.18814</td><td>9.0885e-6</td><td>-6.59602</td><td>1</td></tr><tr><th>34</th><td>7616</td><td>5602</td><td>Michi (Movie)</td><td>[&apos;Drama&apos;, &apos;Slice of Life&apos;]</td><td>movie</td><td>8103.0</td><td>7.91186</td><td>3.68323e-6</td><td>1.3246</td><td>0.000199939</td><td>7.66429</td><td>3.26802e-7</td><td>-6.58726</td><td>1</td></tr><tr><th>35</th><td>48653</td><td>10169</td><td>Yoru ni Kakeru</td><td>[&apos;Music&apos;]</td><td>music</td><td>129.0</td><td>7.9835</td><td>3.11094e-5</td><td>1.4243</td><td>0.022837</td><td>7.34285</td><td>2.04591e-5</td><td>-6.55919</td><td>1</td></tr><tr><th>36</th><td>1065</td><td>2038</td><td>Touch</td><td>[&apos;Drama&apos;, &apos;Love Polygon&apos;, &apos;Romance&apos;, &apos;School&apos;, &apos;Shounen&apos;, &apos;Slice of Life&apos;, &apos;Sports&apos;, &apos;Team Sports&apos;]</td><td>tv</td><td>221.0</td><td>7.35202</td><td>0.000231628</td><td>0.797992</td><td>0.0179736</td><td>6.90687</td><td>1.48876e-5</td><td>-6.55403</td><td>1</td></tr><tr><th>37</th><td>35849</td><td>12364</td><td>Darling in the FranXX</td><td>[&apos;Action&apos;, &apos;Drama&apos;, &apos;Mecha&apos;, &apos;Romance&apos;, &apos;Sci-Fi&apos;]</td><td>tv</td><td>149.0</td><td>7.5939</td><td>0.000651498</td><td>1.04024</td><td>0.020082</td><td>5.7367</td><td>0.00263048</td><td>-6.55366</td><td>1</td></tr><tr><th>38</th><td>48569</td><td>5777</td><td>86 Part 2</td><td>[&apos;Action&apos;, &apos;Drama&apos;, &apos;Mecha&apos;, &apos;Military&apos;, &apos;Sci-Fi&apos;]</td><td>tv</td><td>91.0</td><td>7.55427</td><td>0.00030687</td><td>1.00601</td><td>0.0443314</td><td>7.29187</td><td>0.000503743</td><td>-6.54826</td><td>1</td></tr><tr><th>39</th><td>42076</td><td>2301</td><td>Inochi no Tabekata</td><td>[&apos;Horror&apos;, &apos;Music&apos;, &apos;Supernatural&apos;]</td><td>music</td><td>4225.0</td><td>7.76204</td><td>7.68742e-6</td><td>1.23674</td><td>0.00469405</td><td>7.04775</td><td>3.93137e-6</td><td>-6.5253</td><td>1</td></tr><tr><th>40</th><td>37870</td><td>9019</td><td>BanG Dream! 3rd Season</td><td>[&apos;Music&apos;]</td><td>tv</td><td>1765.0</td><td>7.4938</td><td>2.26148e-5</td><td>0.972163</td><td>0.0102018</td><td>6.55417</td><td>2.63548e-5</td><td>-6.52164</td><td>1</td></tr><tr><th>41</th><td>37497</td><td>1816</td><td>Irozuku Sekai no Ashita kara</td><td>[&apos;Drama&apos;, &apos;Love Polygon&apos;, &apos;Romance&apos;, &apos;School&apos;, &apos;Time Travel&apos;, &apos;Visual Arts&apos;]</td><td>tv</td><td>37.0</td><td>7.60896</td><td>0.000711415</td><td>1.10056</td><td>0.0689114</td><td>6.09097</td><td>0.000236411</td><td>-6.5084</td><td>1</td></tr><tr><th>42</th><td>1382</td><td>14403</td><td>Yuusha-Ou GaoGaiGar Final</td><td>[&apos;Adventure&apos;, &apos;Drama&apos;, &apos;Mecha&apos;, &apos;Sci-Fi&apos;, &apos;Shounen&apos;]</td><td>ova</td><td>2612.0</td><td>7.27133</td><td>4.95634e-5</td><td>0.77302</td><td>0.00622285</td><td>7.10707</td><td>5.67389e-6</td><td>-6.49831</td><td>1</td></tr><tr><th>43</th><td>27989</td><td>4600</td><td>Hibike! Euphonium</td><td>[&apos;Drama&apos;, &apos;Music&apos;, &apos;Performing Arts&apos;, &apos;School&apos;]</td><td>tv</td><td>159.0</td><td>7.33774</td><td>0.0015621</td><td>0.84032</td><td>0.0324222</td><td>6.71249</td><td>0.000345354</td><td>-6.49742</td><td>1</td></tr><tr><th>44</th><td>44070</td><td>14195</td><td>Tian Guan Ci Fu Special</td><td>[&apos;Drama&apos;, &apos;Historical&apos;, &apos;Supernatural&apos;]</td><td>ona</td><td>155.0</td><td>7.64109</td><td>7.03662e-5</td><td>1.14603</td><td>0.0261544</td><td>7.17715</td><td>3.74635e-5</td><td>-6.49506</td><td>1</td></tr><tr><th>45</th><td>32366</td><td>16663</td><td>Gintama°: Aizome Kaori-hen</td><td>[&apos;Comedy&apos;, &apos;Gag Humor&apos;, &apos;Parody&apos;]</td><td>ova</td><td>146.0</td><td>7.63265</td><td>7.04383e-6</td><td>1.15588</td><td>0.0285117</td><td>7.1375</td><td>6.1843e-5</td><td>-6.47677</td><td>1</td></tr><tr><th>46</th><td>37956</td><td>9105</td><td>3D Kanojo: Real Girl 2nd Season</td><td>[&apos;Romance&apos;, &apos;School&apos;, &apos;Shoujo&apos;]</td><td>tv</td><td>3227.0</td><td>7.45649</td><td>5.37598e-5</td><td>0.987644</td><td>0.00630657</td><td>6.11279</td><td>0.000164826</td><td>-6.46885</td><td>1</td></tr><tr><th>47</th><td>1023</td><td>19936</td><td>Wolf&apos;s Rain OVA</td><td>[&apos;Adventure&apos;, &apos;Drama&apos;, &apos;Psychological&apos;, &apos;Sci-Fi&apos;, &apos;Supernatural&apos;]</td><td>ova</td><td>205.0</td><td>7.27945</td><td>0.000293364</td><td>0.816686</td><td>0.0241948</td><td>6.76604</td><td>6.00648e-5</td><td>-6.46277</td><td>1</td></tr><tr><th>48</th><td>21573</td><td>15434</td><td>Senki Zesshou Symphogear GX</td><td>[&apos;Action&apos;, &apos;Idols (Female)&apos;, &apos;Music&apos;, &apos;Sci-Fi&apos;]</td><td>tv</td><td>203.0</td><td>7.37212</td><td>0.000224612</td><td>0.913011</td><td>0.0190972</td><td>6.07995</td><td>2.88984e-5</td><td>-6.45911</td><td>1</td></tr><tr><th>49</th><td>35677</td><td>18606</td><td>Liz to Aoi Tori</td><td>[&apos;Drama&apos;, &apos;Music&apos;, &apos;Performing Arts&apos;, &apos;School&apos;]</td><td>movie</td><td>59.0</td><td>7.38679</td><td>0.0016207</td><td>0.928254</td><td>0.0639821</td><td>7.07088</td><td>7.81838e-5</td><td>-6.45853</td><td>1</td></tr><tr><th>50</th><td>33970</td><td>8707</td><td>Girls &amp; Panzer: Saishuushou Part 1</td><td>[&apos;Military&apos;, &apos;School&apos;]</td><td>movie</td><td>233.0</td><td>7.26696</td><td>0.000411748</td><td>0.844633</td><td>0.0193292</td><td>6.55526</td><td>3.65275e-5</td><td>-6.42233</td><td>1</td></tr><tr><th>&vellip;</th><td>&vellip;</td><td>&vellip;</td><td>&vellip;</td><td>&vellip;</td><td>&vellip;</td><td>&vellip;</td><td>&vellip;</td><td>&vellip;</td><td>&vellip;</td><td>&vellip;</td><td>&vellip;</td><td>&vellip;</td><td>&vellip;</td><td>&vellip;</td></tr></tbody></table></div>"
      ],
      "text/latex": [
       "\\begin{tabular}{r|cccccccccccccc}\n",
       "\t& anime\\_id & uid & title & genres & medium & ranking & explicit & implicit & error\\_explicit & error\\_implicit & baseline\\_explicit & baseline\\_implicit & score & display\\\\\n",
       "\t\\hline\n",
       "\t& Int64 & Int64 & String & String & String7 & Float32 & Float32 & Float32 & Float32 & Float32 & Float32 & Float32 & Float32 & Bool\\\\\n",
       "\t\\hline\n",
       "\t1 & 48583 & 18963 & Shingeki no Kyojin: The Final Season Part 2 & ['Action', 'Drama', 'Gore', 'Military', 'Shounen', 'Survival'] & tv & 52.0 & 8.50582 & 0.000323367 & 0.835886 & 0.0174885 & 7.45514 & 0.00227523 & -7.66994 & 1 \\\\\n",
       "\t2 & 16498 & 7644 & Shingeki no Kyojin & ['Action', 'Drama', 'Gore', 'Military', 'Shounen', 'Survival'] & tv & 22.0 & 8.13839 & 0.000638798 & 0.823535 & 0.047328 & 7.04385 & 0.00864467 & -7.31486 & 1 \\\\\n",
       "\t3 & 42984 & 8632 & Gotcha! & ['Fantasy', 'Music'] & music & 114.0 & 7.97039 & 9.22618e-5 & 0.696185 & 0.0165146 & 7.41328 & 3.0276e-5 & -7.2742 & 1 \\\\\n",
       "\t4 & 9735 & 16789 & Gintama: Shinyaku Benizakura-hen & ['Action', 'Comedy', 'Historical', 'Parody', 'Samurai', 'Sci-Fi', 'Shounen'] & special & 4857.0 & 8.29265 & 2.70756e-6 & 1.02868 & 0.00103539 & 6.98621 & 2.51028e-5 & -7.26397 & 1 \\\\\n",
       "\t5 & 36885 & 18930 & Saenai Heroine no Sodatekata Fine & ['Comedy', 'Ecchi', 'Harem', 'Otaku Culture', 'Romance', 'School'] & movie & 45.0 & 7.98564 & 0.000258834 & 0.735142 & 0.04503 & 6.99953 & 0.000127407 & -7.2505 & 1 \\\\\n",
       "\t6 & 6945 & 14978 & Gintama: Shiroyasha Koutan & ['Action', 'Comedy', 'Historical', 'Parody', 'Sci-Fi'] & special & 3103.0 & 8.15929 & 6.99017e-6 & 0.955871 & 0.00581444 & 7.06262 & 4.78695e-5 & -7.20342 & 1 \\\\\n",
       "\t7 & 15417 & 8713 & Gintama': Enchousen & ['Action', 'Comedy', 'Gag Humor', 'Historical', 'Parody', 'Samurai', 'Sci-Fi', 'Shounen'] & tv & 97.0 & 8.04427 & 2.34727e-5 & 0.85323 & 0.0201214 & 7.74217 & 0.000263402 & -7.19104 & 1 \\\\\n",
       "\t8 & 48411 & 10158 & Aria the Benedizione & ['Fantasy', 'Iyashikei', 'Sci-Fi', 'Shounen', 'Slice of Life'] & movie & 3497.0 & 7.90446 & 1.97921e-6 & 0.715248 & 0.00229598 & 6.88097 & 2.90412e-7 & -7.18922 & 1 \\\\\n",
       "\t9 & 40028 & 5414 & Shingeki no Kyojin: The Final Season & ['Action', 'Drama', 'Gore', 'Military', 'Shounen', 'Survival'] & tv & 62.0 & 8.41503 & 0.000330911 & 1.30218 & 0.0206621 & 7.4072 & 0.00410722 & -7.11285 & 1 \\\\\n",
       "\t10 & 32843 & 3602 & Senki Zesshou Symphogear XV & ['Action', 'Idols (Female)', 'Music', 'Sci-Fi'] & tv & 121.0 & 7.87823 & 0.000156776 & 0.799667 & 0.0186524 & 6.94163 & 1.68961e-5 & -7.07856 & 1 \\\\\n",
       "\t11 & 10643 & 1803 & Gintama: Dai Hanseikai & ['Action', 'Comedy', 'Parody', 'Samurai'] & special & 4591.0 & 8.14223 & 2.35067e-6 & 1.07471 & 0.00233157 & 6.8151 & 2.04266e-5 & -7.06752 & 1 \\\\\n",
       "\t12 & 39783 & 15482 & 5-toubun no Hanayome ∬ & ['Comedy', 'Harem', 'Romance', 'School', 'Shounen'] & tv & 105.0 & 7.91345 & 0.000322904 & 0.896144 & 0.0191688 & 6.6726 & 0.000970508 & -7.01731 & 1 \\\\\n",
       "\t13 & 34096 & 6992 & Gintama. & ['Action', 'Comedy', 'Gag Humor', 'Historical', 'Parody', 'Samurai', 'Sci-Fi', 'Shounen'] & tv & 1763.0 & 7.85976 & 2.00849e-5 & 0.911374 & 0.00866735 & 7.69422 & 0.000235387 & -6.94839 & 1 \\\\\n",
       "\t14 & 31988 & 13387 & Hibike! Euphonium 2 & ['Drama', 'Music', 'Performing Arts', 'School'] & tv & 14.0 & 7.94844 & 0.00122995 & 1.00092 & 0.0815675 & 7.07265 & 0.000182295 & -6.94753 & 1 \\\\\n",
       "\t15 & 42941 & 9316 & Uma Musume: Pretty Derby (TV) Season 2 & ['Anthropomorphic', 'Sports'] & tv & 119.0 & 7.80029 & 7.82807e-5 & 0.881409 & 0.0222924 & 6.61651 & 2.75943e-5 & -6.91888 & 1 \\\\\n",
       "\t16 & 32836 & 20123 & Senki Zesshou Symphogear AXZ & ['Action', 'Idols (Female)', 'Music', 'Sci-Fi'] & tv & 131.0 & 7.76733 & 0.000204116 & 0.865324 & 0.0186524 & 6.29791 & 2.03424e-5 & -6.902 & 1 \\\\\n",
       "\t17 & 2761 & 2129 & Densetsu Kyojin Ideon: Hatsudou-hen & ['Drama', 'Mecha', 'Sci-Fi', 'Space'] & movie & 169.0 & 7.64829 & 0.00010305 & 0.788849 & 0.0197343 & 7.34332 & 3.96429e-6 & -6.85944 & 1 \\\\\n",
       "\t18 & 25777 & 8685 & Shingeki no Kyojin Season 2 & ['Action', 'Drama', 'Gore', 'Military', 'Shounen', 'Survival'] & tv & 152.0 & 7.66117 & 0.000409796 & 0.806677 & 0.0167866 & 7.09824 & 0.00522014 & -6.8545 & 1 \\\\\n",
       "\t19 & 2951 & 16098 & Gintama: Nanigoto mo Saiyo ga Kanjin nano de Tasho Senobisuru Kurai ga Choudoyoi & ['Action', 'Comedy', 'Historical', 'Mecha', 'Parody', 'Samurai', 'Sci-Fi', 'Shounen'] & special & 14572.0 & 8.01028 & 8.45857e-6 & 1.16556 & -0.0021176 & 6.75708 & 4.41231e-5 & -6.84472 & 1 \\\\\n",
       "\t20 & 40787 & 7995 & Josee to Tora to Sakana-tachi & ['Drama', 'Romance', 'Slice of Life', 'Visual Arts'] & movie & 85.0 & 7.68802 & 0.000744377 & 0.880067 & 0.0376692 & 7.04659 & 0.000393736 & -6.80795 & 1 \\\\\n",
       "\t21 & 46095 & 1404 & Vivy: Fluorite Eye's Song & ['Action', 'Music', 'Sci-Fi', 'Suspense', 'Time Travel'] & tv & 90.0 & 7.74908 & 0.000811452 & 0.953723 & 0.0342983 & 7.14686 & 0.000549041 & -6.79536 & 1 \\\\\n",
       "\t22 & 38101 & 13214 & 5-toubun no Hanayome & ['Comedy', 'Harem', 'Romance', 'School', 'Shounen'] & tv & 147.0 & 7.62011 & 0.000447012 & 0.853687 & 0.0215447 & 6.24878 & 0.00133218 & -6.76642 & 1 \\\\\n",
       "\t23 & 37987 & 13638 & Violet Evergarden Movie & ['Drama', 'Fantasy', 'Slice of Life'] & movie & 141.0 & 7.75584 & 0.000423248 & 0.991379 & 0.0246143 & 7.56981 & 0.000509545 & -6.76446 & 1 \\\\\n",
       "\t24 & 44511 & 12557 & Chainsaw Man & ['Action', 'Adventure', 'Gore', 'Mythology', 'Shounen'] & tv & 4859.0 & 7.61916 & 1.42945e-7 & 0.91296 & -0.000108642 & 7.31126 & 1.59259e-6 & -6.7062 & 1 \\\\\n",
       "\t25 & 37491 & 13057 & Gintama.: Shirogane no Tamashii-hen - Kouhan-sen & ['Action', 'Comedy', 'Gag Humor', 'Historical', 'Parody', 'Samurai', 'Sci-Fi', 'Shounen'] & tv & 3551.0 & 7.77746 & 1.15641e-5 & 1.07309 & 0.00492251 & 7.64155 & 0.000141983 & -6.70438 & 1 \\\\\n",
       "\t26 & 15335 & 6688 & Gintama Movie 2: Kanketsu-hen - Yorozuya yo Eien Nare & ['Action', 'Comedy', 'Gag Humor', 'Historical', 'Parody', 'Samurai', 'Sci-Fi', 'Shounen', 'Time Travel'] & movie & 548.0 & 7.73914 & 2.41977e-5 & 1.07368 & 0.0140228 & 7.60918 & 0.00020613 & -6.66546 & 1 \\\\\n",
       "\t27 & 30727 & 1266 & Saenai Heroine no Sodatekata ♭ & ['Comedy', 'Ecchi', 'Harem', 'Otaku Culture', 'Romance', 'School'] & tv & 20.0 & 7.72764 & 0.000482927 & 1.06737 & 0.0771941 & 6.28666 & 0.000304281 & -6.66027 & 1 \\\\\n",
       "\t28 & 10050 & 9463 & Macross F Music Clip Shuu: Nyankuri & ['Music'] & music & 371.0 & 7.55581 & 2.44478e-5 & 0.896482 & 0.0129198 & 6.15198 & 2.01177e-6 & -6.65933 & 1 \\\\\n",
       "\t29 & 35473 & 17744 & Yuuki Yuuna wa Yuushabu Shozoku 3 & ['Comedy', 'Fantasy', 'Slice of Life'] & movie & 4952.0 & 7.6652 & 3.59229e-6 & 1.02498 & 0.00200605 & 5.43945 & 1.02955e-6 & -6.64022 & 1 \\\\\n",
       "\t30 & 44087 & 11302 & Gintama: The Semi-Final & ['Action', 'Comedy', 'Gag Humor', 'Historical', 'Parody', 'Samurai', 'Shounen'] & special & 124.0 & 7.7864 & 5.86587e-6 & 1.15077 & 0.0288011 & 7.27995 & 4.84453e-5 & -6.63564 & 1 \\\\\n",
       "\t31 & 36838 & 19449 & Gintama.: Shirogane no Tamashii-hen & ['Action', 'Comedy', 'Gag Humor', 'Historical', 'Parody', 'Samurai', 'Sci-Fi', 'Shounen'] & tv & 3340.0 & 7.69318 & 1.30691e-5 & 1.06091 & 0.00569736 & 7.5484 & 0.000156383 & -6.63226 & 1 \\\\\n",
       "\t32 & 35472 & 7295 & Yuuki Yuuna wa Yuushabu Shozoku 2 & ['Comedy', 'Fantasy', 'Slice of Life'] & movie & 4806.0 & 7.63802 & 4.47146e-6 & 1.02323 & 0.00239672 & 5.40189 & 1.15624e-6 & -6.61479 & 1 \\\\\n",
       "\t33 & 41361 & 3592 & Eiga Daisuki Pompo-san (Movie) & ['Comedy', 'Drama'] & movie & 222.0 & 7.37279 & 0.000360768 & 0.776768 & 0.0174319 & 7.18814 & 9.0885e-6 & -6.59602 & 1 \\\\\n",
       "\t34 & 7616 & 5602 & Michi (Movie) & ['Drama', 'Slice of Life'] & movie & 8103.0 & 7.91186 & 3.68323e-6 & 1.3246 & 0.000199939 & 7.66429 & 3.26802e-7 & -6.58726 & 1 \\\\\n",
       "\t35 & 48653 & 10169 & Yoru ni Kakeru & ['Music'] & music & 129.0 & 7.9835 & 3.11094e-5 & 1.4243 & 0.022837 & 7.34285 & 2.04591e-5 & -6.55919 & 1 \\\\\n",
       "\t36 & 1065 & 2038 & Touch & ['Drama', 'Love Polygon', 'Romance', 'School', 'Shounen', 'Slice of Life', 'Sports', 'Team Sports'] & tv & 221.0 & 7.35202 & 0.000231628 & 0.797992 & 0.0179736 & 6.90687 & 1.48876e-5 & -6.55403 & 1 \\\\\n",
       "\t37 & 35849 & 12364 & Darling in the FranXX & ['Action', 'Drama', 'Mecha', 'Romance', 'Sci-Fi'] & tv & 149.0 & 7.5939 & 0.000651498 & 1.04024 & 0.020082 & 5.7367 & 0.00263048 & -6.55366 & 1 \\\\\n",
       "\t38 & 48569 & 5777 & 86 Part 2 & ['Action', 'Drama', 'Mecha', 'Military', 'Sci-Fi'] & tv & 91.0 & 7.55427 & 0.00030687 & 1.00601 & 0.0443314 & 7.29187 & 0.000503743 & -6.54826 & 1 \\\\\n",
       "\t39 & 42076 & 2301 & Inochi no Tabekata & ['Horror', 'Music', 'Supernatural'] & music & 4225.0 & 7.76204 & 7.68742e-6 & 1.23674 & 0.00469405 & 7.04775 & 3.93137e-6 & -6.5253 & 1 \\\\\n",
       "\t40 & 37870 & 9019 & BanG Dream! 3rd Season & ['Music'] & tv & 1765.0 & 7.4938 & 2.26148e-5 & 0.972163 & 0.0102018 & 6.55417 & 2.63548e-5 & -6.52164 & 1 \\\\\n",
       "\t41 & 37497 & 1816 & Irozuku Sekai no Ashita kara & ['Drama', 'Love Polygon', 'Romance', 'School', 'Time Travel', 'Visual Arts'] & tv & 37.0 & 7.60896 & 0.000711415 & 1.10056 & 0.0689114 & 6.09097 & 0.000236411 & -6.5084 & 1 \\\\\n",
       "\t42 & 1382 & 14403 & Yuusha-Ou GaoGaiGar Final & ['Adventure', 'Drama', 'Mecha', 'Sci-Fi', 'Shounen'] & ova & 2612.0 & 7.27133 & 4.95634e-5 & 0.77302 & 0.00622285 & 7.10707 & 5.67389e-6 & -6.49831 & 1 \\\\\n",
       "\t43 & 27989 & 4600 & Hibike! Euphonium & ['Drama', 'Music', 'Performing Arts', 'School'] & tv & 159.0 & 7.33774 & 0.0015621 & 0.84032 & 0.0324222 & 6.71249 & 0.000345354 & -6.49742 & 1 \\\\\n",
       "\t44 & 44070 & 14195 & Tian Guan Ci Fu Special & ['Drama', 'Historical', 'Supernatural'] & ona & 155.0 & 7.64109 & 7.03662e-5 & 1.14603 & 0.0261544 & 7.17715 & 3.74635e-5 & -6.49506 & 1 \\\\\n",
       "\t45 & 32366 & 16663 & Gintama°: Aizome Kaori-hen & ['Comedy', 'Gag Humor', 'Parody'] & ova & 146.0 & 7.63265 & 7.04383e-6 & 1.15588 & 0.0285117 & 7.1375 & 6.1843e-5 & -6.47677 & 1 \\\\\n",
       "\t46 & 37956 & 9105 & 3D Kanojo: Real Girl 2nd Season & ['Romance', 'School', 'Shoujo'] & tv & 3227.0 & 7.45649 & 5.37598e-5 & 0.987644 & 0.00630657 & 6.11279 & 0.000164826 & -6.46885 & 1 \\\\\n",
       "\t47 & 1023 & 19936 & Wolf's Rain OVA & ['Adventure', 'Drama', 'Psychological', 'Sci-Fi', 'Supernatural'] & ova & 205.0 & 7.27945 & 0.000293364 & 0.816686 & 0.0241948 & 6.76604 & 6.00648e-5 & -6.46277 & 1 \\\\\n",
       "\t48 & 21573 & 15434 & Senki Zesshou Symphogear GX & ['Action', 'Idols (Female)', 'Music', 'Sci-Fi'] & tv & 203.0 & 7.37212 & 0.000224612 & 0.913011 & 0.0190972 & 6.07995 & 2.88984e-5 & -6.45911 & 1 \\\\\n",
       "\t49 & 35677 & 18606 & Liz to Aoi Tori & ['Drama', 'Music', 'Performing Arts', 'School'] & movie & 59.0 & 7.38679 & 0.0016207 & 0.928254 & 0.0639821 & 7.07088 & 7.81838e-5 & -6.45853 & 1 \\\\\n",
       "\t50 & 33970 & 8707 & Girls \\& Panzer: Saishuushou Part 1 & ['Military', 'School'] & movie & 233.0 & 7.26696 & 0.000411748 & 0.844633 & 0.0193292 & 6.55526 & 3.65275e-5 & -6.42233 & 1 \\\\\n",
       "\t$\\dots$ & $\\dots$ & $\\dots$ & $\\dots$ & $\\dots$ & $\\dots$ & $\\dots$ & $\\dots$ & $\\dots$ & $\\dots$ & $\\dots$ & $\\dots$ & $\\dots$ & $\\dots$ & $\\dots$ \\\\\n",
       "\\end{tabular}\n"
      ],
      "text/plain": [
       "\u001b[1m7021×14 DataFrame\u001b[0m\n",
       "\u001b[1m  Row \u001b[0m│\u001b[1m anime_id \u001b[0m\u001b[1m uid   \u001b[0m\u001b[1m title                             \u001b[0m\u001b[1m genres                            \u001b[0m\u001b[1m medium  \u001b[0m\u001b[1m ranking \u001b[0m\u001b[1m explicit \u001b[0m\u001b[1m implicit    \u001b[0m\u001b[1m error_explicit \u001b[0m\u001b[1m error_implicit \u001b[0m\u001b[1m baseline_explicit \u001b[0m\u001b[1m baseline_implicit \u001b[0m\u001b[1m score     \u001b[0m\u001b[1m display \u001b[0m\n",
       "\u001b[1m      \u001b[0m│\u001b[90m Int64    \u001b[0m\u001b[90m Int64 \u001b[0m\u001b[90m String                            \u001b[0m\u001b[90m String                            \u001b[0m\u001b[90m String7 \u001b[0m\u001b[90m Float32 \u001b[0m\u001b[90m Float32  \u001b[0m\u001b[90m Float32     \u001b[0m\u001b[90m Float32        \u001b[0m\u001b[90m Float32        \u001b[0m\u001b[90m Float32           \u001b[0m\u001b[90m Float32           \u001b[0m\u001b[90m Float32   \u001b[0m\u001b[90m Bool    \u001b[0m\n",
       "──────┼──────────────────────────────────────────────────────────────────────────────────────────────────────────────────────────────────────────────────────────────────────────────────────────────────────────────────────────\n",
       "    1 │    48583  18963  Shingeki no Kyojin: The Final Se…  ['Action', 'Drama', 'Gore', 'Mil…  tv          52.0   8.50582  0.000323367        0.835886     0.0174885              7.45514        0.00227523   -7.66994      true\n",
       "    2 │    16498   7644  Shingeki no Kyojin                 ['Action', 'Drama', 'Gore', 'Mil…  tv          22.0   8.13839  0.000638798        0.823535     0.047328               7.04385        0.00864467   -7.31486      true\n",
       "    3 │    42984   8632  Gotcha!                            ['Fantasy', 'Music']               music      114.0   7.97039  9.22618e-5         0.696185     0.0165146              7.41328        3.0276e-5    -7.2742       true\n",
       "    4 │     9735  16789  Gintama: Shinyaku Benizakura-hen   ['Action', 'Comedy', 'Historical…  special   4857.0   8.29265  2.70756e-6         1.02868      0.00103539             6.98621        2.51028e-5   -7.26397      true\n",
       "    5 │    36885  18930  Saenai Heroine no Sodatekata Fine  ['Comedy', 'Ecchi', 'Harem', 'Ot…  movie       45.0   7.98564  0.000258834        0.735142     0.04503                6.99953        0.000127407  -7.2505       true\n",
       "    6 │     6945  14978  Gintama: Shiroyasha Koutan         ['Action', 'Comedy', 'Historical…  special   3103.0   8.15929  6.99017e-6         0.955871     0.00581444             7.06262        4.78695e-5   -7.20342      true\n",
       "    7 │    15417   8713  Gintama': Enchousen                ['Action', 'Comedy', 'Gag Humor'…  tv          97.0   8.04427  2.34727e-5         0.85323      0.0201214              7.74217        0.000263402  -7.19104      true\n",
       "    8 │    48411  10158  Aria the Benedizione               ['Fantasy', 'Iyashikei', 'Sci-Fi…  movie     3497.0   7.90446  1.97921e-6         0.715248     0.00229598             6.88097        2.90412e-7   -7.18922      true\n",
       "    9 │    40028   5414  Shingeki no Kyojin: The Final Se…  ['Action', 'Drama', 'Gore', 'Mil…  tv          62.0   8.41503  0.000330911        1.30218      0.0206621              7.4072         0.00410722   -7.11285      true\n",
       "   10 │    32843   3602  Senki Zesshou Symphogear XV        ['Action', 'Idols (Female)', 'Mu…  tv         121.0   7.87823  0.000156776        0.799667     0.0186524              6.94163        1.68961e-5   -7.07856      true\n",
       "   11 │    10643   1803  Gintama: Dai Hanseikai             ['Action', 'Comedy', 'Parody', '…  special   4591.0   8.14223  2.35067e-6         1.07471      0.00233157             6.8151         2.04266e-5   -7.06752      true\n",
       "   12 │    39783  15482  5-toubun no Hanayome ∬             ['Comedy', 'Harem', 'Romance', '…  tv         105.0   7.91345  0.000322904        0.896144     0.0191688              6.6726         0.000970508  -7.01731      true\n",
       "   13 │    34096   6992  Gintama.                           ['Action', 'Comedy', 'Gag Humor'…  tv        1763.0   7.85976  2.00849e-5         0.911374     0.00866735             7.69422        0.000235387  -6.94839      true\n",
       "   14 │    31988  13387  Hibike! Euphonium 2                ['Drama', 'Music', 'Performing A…  tv          14.0   7.94844  0.00122995         1.00092      0.0815675              7.07265        0.000182295  -6.94753      true\n",
       "   15 │    42941   9316  Uma Musume: Pretty Derby (TV) Se…  ['Anthropomorphic', 'Sports']      tv         119.0   7.80029  7.82807e-5         0.881409     0.0222924              6.61651        2.75943e-5   -6.91888      true\n",
       "   16 │    32836  20123  Senki Zesshou Symphogear AXZ       ['Action', 'Idols (Female)', 'Mu…  tv         131.0   7.76733  0.000204116        0.865324     0.0186524              6.29791        2.03424e-5   -6.902        true\n",
       "   17 │     2761   2129  Densetsu Kyojin Ideon: Hatsudou-…  ['Drama', 'Mecha', 'Sci-Fi', 'Sp…  movie      169.0   7.64829  0.00010305         0.788849     0.0197343              7.34332        3.96429e-6   -6.85944      true\n",
       "   18 │    25777   8685  Shingeki no Kyojin Season 2        ['Action', 'Drama', 'Gore', 'Mil…  tv         152.0   7.66117  0.000409796        0.806677     0.0167866              7.09824        0.00522014   -6.8545       true\n",
       "   19 │     2951  16098  Gintama: Nanigoto mo Saiyo ga Ka…  ['Action', 'Comedy', 'Historical…  special  14572.0   8.01028  8.45857e-6         1.16556     -0.0021176              6.75708        4.41231e-5   -6.84472      true\n",
       "   20 │    40787   7995  Josee to Tora to Sakana-tachi      ['Drama', 'Romance', 'Slice of L…  movie       85.0   7.68802  0.000744377        0.880067     0.0376692              7.04659        0.000393736  -6.80795      true\n",
       "   21 │    46095   1404  Vivy: Fluorite Eye's Song          ['Action', 'Music', 'Sci-Fi', 'S…  tv          90.0   7.74908  0.000811452        0.953723     0.0342983              7.14686        0.000549041  -6.79536      true\n",
       "  ⋮   │    ⋮        ⋮                    ⋮                                  ⋮                     ⋮        ⋮        ⋮           ⋮             ⋮               ⋮                 ⋮                  ⋮              ⋮         ⋮\n",
       " 7002 │    30329  11997  Nice to See You                    ['Avant Garde']                    movie    18864.0   3.30771  4.83912e-7         1.60122      0.000198595            2.79995        1.85796e-7   -1.70649      true\n",
       " 7003 │    38763   4713  Synchro Noise                      ['Music']                          music    14600.0   3.15491  1.99585e-7         1.45069      0.000198595            3.01118        1.71968e-7   -1.70423      true\n",
       " 7004 │    39611  18609  Hametarou                          ['Music', 'Parody']                special  19753.0   3.50998  1.16484e-7         1.80724      0.000198595            2.98424        1.21761e-7   -1.70274      true\n",
       " 7005 │     7343  17793  Youbi Masochist Animation          ['Hentai']                         ova      15217.0   3.13569  4.85872e-7         1.45843      0.000198595            2.87198        2.13777e-7   -1.67726      true\n",
       " 7006 │    36280   1882  Usatalk                            ['Avant Garde']                    ona      13994.0   3.1019   5.59715e-7         1.43558      0.000198595            2.99833        2.47015e-7   -1.66632      true\n",
       " 7007 │    37823   3480  Conception                         ['Action', 'Adventure', 'Fantasy…  tv        2928.0   3.02712  1.63878e-5         1.37716      0.0131835              2.79203        8.34961e-5   -1.64996      true\n",
       " 7008 │    12397  19323  Original Video Romance Animation   ['Comedy', 'Hentai']               ova      14074.0   3.08374  4.52897e-7         1.43558      0.000198595            2.97859        1.89371e-7   -1.64817      true\n",
       " 7009 │    34411   1239  Taishou Mebiusline: Chicchai-san   ['Historical', 'Supernatural']     tv       20299.0   3.90497  9.19214e-7         2.26827     -0.000231783            3.23083        5.70445e-6   -1.6367       true\n",
       " 7010 │    29111   2887  Onna Spy Goumon: Teki no Ajito w…  ['Hentai']                         ova      14191.0   3.06411  2.62334e-7         1.43558      0.000198595            2.92592        1.63184e-7   -1.62853      true\n",
       " 7011 │    24259  11312  Mechano: Scientific Attack Force   ['Avant Garde', 'Comedy', 'Fanta…  ova      14073.0   3.03238  4.75591e-7         1.43558      0.000198595            2.92823        1.56293e-7   -1.5968       true\n",
       " 7012 │    30859   9583  Memory of Red                      ['Avant Garde']                    movie     9890.0   3.00537  1.4933e-6          1.43558      0.000976538            2.89888        4.90318e-7   -1.56979      true\n",
       " 7013 │    37571  19086  Senjuushi                          ['Action', 'Military']             tv       20300.0   3.83312  9.12299e-7         2.26817     -0.000231783            3.02879        5.07272e-6   -1.56494      true\n",
       " 7014 │    33113   6465  Scared Rider Xechs                 ['Adventure', 'Reverse Harem', '…  tv       20329.0   4.06942  1.24086e-6         2.59445      0.000966519            3.41012        9.33742e-6   -1.47497      true\n",
       " 7015 │    19315   1837  Pupa                               ['Fantasy', 'Horror', 'Psycholog…  tv        2692.0   2.82733  0.000198321        1.4387       0.0181809              1.93381        0.000191514  -1.38863      true\n",
       " 7016 │    40074  12683  Gibiate                            ['Action', 'Fantasy', 'Horror', …  tv        6755.0   2.55787  5.20579e-6         1.24003      0.00234809             2.24737        4.5274e-5    -1.31784      true\n",
       " 7017 │    32294  11908  Ai (ONA)                           ['Romance']                        ona       3460.0   2.502    1.70642e-5         1.19448      0.00978693             1.92978        4.71391e-6   -1.30752      true\n",
       " 7018 │    33696  15672  3D Onara Gorou ga Dance Dance Da…  ['Comedy', 'Music']                music    19901.0   3.20325  5.61506e-6         1.97323      0.000428689            2.79881        3.43059e-6   -1.23002      true\n",
       " 7019 │    33394  17363  Mahou Shoujo? Naria☆Girls          ['Mahou Shoujo']                   tv        9665.0   2.95028  1.29621e-5         1.94181      0.0041851              2.43853        3.4018e-6    -1.00847      true\n",
       " 7020 │    29949   3363  Nami                               ['Avant Garde']                    movie     3266.0   1.73525  0.000100381        1.24007      0.0177509              1.5575         2.18791e-5   -0.495174     true\n",
       " 7021 │    38853     24  Ex-Arm                             ['Action', 'Sci-Fi', 'Seinen']     tv        3043.0   1.18055  3.6372e-5          1.40629      0.0306112              1.03228        9.61637e-5    0.225741     true\n",
       "\u001b[36m                                                                                                                                                                                                                6980 rows omitted\u001b[0m"
      ]
     },
     "execution_count": 15,
     "metadata": {},
     "output_type": "execute_result"
    }
   ],
   "source": [
    "df = copy(rec_df)\n",
    "df[:, \"score\"] = -(df[:, \"explicit\"] - df[:, \"error_explicit\"]);\n",
    "filter(\n",
    "    x -> x.explicit - x.baseline_explicit > 0.1,\n",
    "    filter(x -> x.implicit > quantile(df.implicit, 0.01), df),\n",
    ") |> pretty_display"
   ]
  },
  {
   "cell_type": "code",
   "execution_count": 16,
   "id": "0c37685d-f011-4643-8a41-2806d87c8b36",
   "metadata": {},
   "outputs": [],
   "source": [
    "# \tanime_id\tuid\ttitle\tgenres\tmedium\trating\talpha\tstd\tp\tnsfw\n",
    "# Int64\tInt64\tString\tString?\tString7\tFloat32\tFloat32\tFloat32\tFloat32\tString7\n",
    "# 1\t31988\t11173\tHibike! Euphonium 2\t['Drama', 'Music', 'School']\ttv\t7.38253\t0.356698\t0.792334\t0.00168306\twhite\n",
    "# 2\t1065\t967\tTouch\t['Drama', 'Romance', 'School', 'Shounen', 'Slice of Life', 'Sports']\ttv\t7.34929\t0.467546\t0.908755\t0.00076882\twhite\n",
    "# 3\t27989\t9666\tHibike! Euphonium\t['Drama', 'Music', 'School']\ttv\t7.23239\t0.571174\t0.868754\t0.00258483\twhite\n",
    "# 4\t1858\t1694\tGakuen Utopia Manabi Straight!\t['Comedy', 'School', 'Slice of Life']\ttv\t7.09079\t1.20158\t0.729596\t0.00062308\twhite\n",
    "# 5\t25835\t9373\tShirobako\t['Comedy', 'Drama']\ttv\t7.14048\t0.161561\t0.805839\t0.00261632\twhite\n",
    "# 6\t5941\t4377\tCross Game\t['Comedy', 'Drama', 'Romance', 'School', 'Shounen', 'Sports']\ttv\t7.23503\t0.154975\t0.9538\t0.00104641\twhite\n",
    "# 7\t39570\t15596\tHigh Score Girl II\t['Comedy', 'Game', 'Romance', 'School', 'Seinen']\ttv\t7.01997\t0.324915\t0.878117\t0.000592566\twhite\n",
    "# 8\t1530\t1388\tKanon (2006)\t['Drama', 'Romance', 'Slice of Life', 'Supernatural']\ttv\t7.16325\t0.720318\t1.03834\t0.00227492\twhite\n",
    "# 9\t488\t458\tIchigo Mashimaro\t['Comedy', 'Slice of Life']\ttv\t6.9334\t0.724677\t0.852129\t0.00104676\twhite\n",
    "# 10\t122\t101\tFull Moon wo Sagashite\t['Comedy', 'Drama', 'Music', 'Romance', 'Shoujo', 'Supernatural']\ttv\t6.94031\t0.727181\t0.869193\t0.000667557\twhite\n",
    "# 11\t21877\t8534\tHigh Score Girl\t['Comedy', 'Game', 'Romance', 'School', 'Seinen']\ttv\t6.88657\t0.471743\t0.941942\t0.000968524\twhite\n",
    "# 12\t38993\t15192\tKarakai Jouzu no Takagi-san 2\t['Comedy', 'Romance', 'School', 'Shounen', 'Slice of Life']\ttv\t6.78872\t0.179552\t0.993493\t0.000348786\twhite\n",
    "# 13\t532\t499\tBishoujo Senshi Sailor Moon S\t['Drama', 'Romance', 'Shoujo']\ttv\t6.63147\t0.41036\t0.84895\t0.000437212\twhite\n",
    "# 14\t135\t114\tHikaru no Go\t['Comedy', 'Game', 'Shounen', 'Supernatural']\ttv\t6.74995\t0.153899\t1.02637\t0.000676344\twhite\n",
    "# 15\t30727\t10611\tSaenai Heroine no Sodatekata ♭\t['Comedy', 'Ecchi', 'Harem', 'Romance', 'School']\ttv\t6.59874\t0.364116\t0.876918\t0.000742145\twhite\n",
    "# 16\t593\t556\tMugen no Ryvius\t['Drama', 'Mecha', 'Military', 'Psychological', 'Sci-Fi', 'Space']\ttv\t6.68717\t0.304934\t0.972565\t0.00101426\twhite\n",
    "# 17\t34902\t12650\tTsurezure Children\t['Comedy', 'Romance', 'School', 'Shounen']\ttv\t6.51234\t0.364974\t0.807823\t0.00102669\twhite\n",
    "# 18\t59\t40\tChobits\t['Comedy', 'Drama', 'Ecchi', 'Romance', 'Sci-Fi', 'Seinen']\ttv\t6.6161\t0.883723\t0.948174\t0.00179486\twhite\n",
    "# 19\t38753\t15022\tAraburu Kisetsu no Otome-domo yo.\t['Comedy', 'Drama', 'Romance', 'School', 'Shounen']\ttv\t6.52573\t0.495667\t0.864833\t0.000905996\twhite\n",
    "# 20\t31771\t11089\tAmanchu!\t['Comedy', 'School', 'Shounen', 'Slice of Life']\ttv\t6.58394\t0.685901\t0.926502\t0.000584655\twhite\n",
    "# 21\t35860\t13252\tKarakai Jouzu no Takagi-san\t['Comedy', 'Romance', 'School', 'Shounen', 'Slice of Life']\ttv\t6.59876\t0.432538\t0.977115\t0.000852553\twhite\n",
    "# 22\t427\t400\tKaleido Star\t['Comedy', 'Drama', 'Fantasy', 'Shoujo', 'Sports']\ttv\t6.57368\t0.344165\t0.97538\t0.000534053\twhite\n",
    "# 23\t40530\t16120\tJaku-Chara Tomozaki-kun\t['Drama', 'Romance', 'School']\ttv\t6.47727\t0.923203\t0.894883\t0.000440828\twhite\n",
    "# 24\t874\t789\tDigimon Tamers\t['Adventure', 'Comedy', 'Drama', 'Fantasy', 'Shounen']\ttv\t6.52593\t0.48561\t0.980111\t0.000362535\twhite\n",
    "# 25\t35240\t12889\tPrincess Principal\t['Action', 'Historical', 'Mystery']\ttv\t6.5926\t0.377174\t1.06195\t0.000912882\twhite\n",
    "# 26\t42361\t16907\tIjiranaide, Nagatoro-san\t['Comedy', 'Romance', 'Slice of Life']\ttv\t6.60228\t0.83992\t1.08517\t0.000529261\twhite\n",
    "# 27\t18897\t7968\tNisekoi\t['Comedy', 'Harem', 'Romance', 'School', 'Shounen']\ttv\t6.31667\t0.286932\t0.808886\t0.00141164\twhite\n",
    "# 28\t1486\t1348\tKodomo no Omocha (TV)\t['Comedy', 'Drama', 'Romance', 'Shoujo']\ttv\t6.56859\t0.231561\t1.06944\t0.000533452\twhite\n",
    "# 29\t35639\t13136\tJust Because!\t['Drama', 'Romance', 'School', 'Slice of Life']\ttv\t6.46695\t0.763056\t0.99794\t0.000684533\twhite\n",
    "# 30\t1222\t1114\tBokura ga Ita\t['Drama', 'Romance', 'Shoujo', 'Slice of Life']\ttv\t6.70307\t1.16039\t1.23905\t0.000494813\twhite\n",
    "# 31\t41619\t16653\tMunou na Nana\t['Psychological', 'Shounen', 'Super Power', 'Supernatural', 'Suspense']\ttv\t6.41985\t0.698886\t0.958501\t0.000440847\twhite\n",
    "# 32\t14131\t7087\tGirls & Panzer\t['Action', 'Military', 'School', 'Sports']\ttv\t6.55237\t0.586552\t1.13453\t0.00168731\twhite\n",
    "# 33\t552\t517\tDigimon Adventure\t['Action', 'Adventure', 'Comedy', 'Fantasy', 'Kids']\ttv\t6.55298\t0.365117\t1.13609\t0.000609451\twhite\n",
    "# 34\t40685\t16205\tSuper Cub\t['School', 'Slice of Life']\ttv\t6.35695\t0.364119\t0.944397\t0.000580612\twhite\n",
    "# 35\t37890\t14482\tOshi ga Budoukan Ittekuretara Shinu\t['Comedy', 'Girls Love', 'Music', 'Seinen', 'Slice of Life']\ttv\t6.20357\t0.206216\t0.801772\t0.000379987\twhite\n",
    "# 36\t34984\t12704\tKoi wa Ameagari no You ni\t['Drama', 'Romance', 'Seinen', 'Slice of Life']\ttv\t6.56196\t0.419388\t1.16207\t0.00116559\twhite\n",
    "# 37\t3958\t3399\tKannagi\t['Comedy', 'School', 'Shounen', 'Supernatural']\ttv\t6.24875\t0.494657\t0.866859\t0.00120494\twhite\n",
    "# 38\t31859\t11120\tHai to Gensou no Grimgar\t['Action', 'Adventure', 'Drama', 'Fantasy']\ttv\t6.24894\t0.166416\t0.876223\t0.000963634\twhite\n",
    "# 39\t13333\t6942\tTari Tari\t['Music', 'School', 'Slice of Life']\ttv\t6.24726\t0.466783\t0.878362\t0.00116383\twhite\n",
    "# 40\t587\t550\tHanbun no Tsuki ga Noboru Sora\t['Comedy', 'Drama', 'Romance']\ttv\t6.30107\t0.38663\t0.960221\t0.00128816\twhite\n",
    "# 41\t8861\t5539\tYosuga no Sora: In Solitude, Where We Are Least Alone.\t['Drama', 'Ecchi', 'Harem', 'Romance']\ttv\t7.46844\t3.02749\t2.15606\t0.00104767\tgray\n",
    "# 42\t2986\t2716\tBamboo Blade\t['Comedy', 'School', 'Seinen', 'Sports']\ttv\t6.17986\t0.452029\t0.868882\t0.000749638\twhite\n",
    "# 43\t35756\t13204\tComic Girls\t['Comedy', 'Slice of Life']\ttv\t6.22388\t0.350058\t0.919891\t0.000430328\twhite\n",
    "# 44\t1087\t987\tKimagure Orange☆Road\t['Comedy', 'Drama', 'Romance', 'School', 'Shounen', 'Slice of Life', 'Super Power']\ttv\t6.38255\t0.190579\t1.07896\t0.000837759\twhite\n",
    "# 45\t12149\t6691\tAKB0048\t['Music', 'Sci-Fi']\ttv\t6.26354\t0.61283\t0.960399\t0.00053292\twhite\n",
    "# 46\t330\t306\tMidori no Hibi\t['Comedy', 'Drama', 'Ecchi', 'Romance', 'Shounen']\ttv\t6.17071\t0.533026\t0.875367\t0.00092522\twhite\n",
    "# 47\t46093\t17949\tShiroi Suna no Aquatope\t['Drama', 'Slice of Life']\ttv\t6.36729\t0.377252\t1.0729\t0.000547827\twhite\n",
    "# 48\t5150\t3975\tHatsukoi Limited.\t['Comedy', 'Romance', 'School', 'Shounen']\ttv\t6.09554\t0.397329\t0.811726\t0.000535075\twhite\n",
    "# 49\t740\t677\tBishoujo Senshi Sailor Moon R\t['Demons', 'Romance', 'Shoujo']\ttv\t6.29016\t0.24701\t1.00655\t0.000616277\twhite\n",
    "# 50\t37982\t14550\tDomestic na Kanojo\t['Drama', 'Romance', 'School', "
   ]
  },
  {
   "cell_type": "code",
   "execution_count": null,
   "id": "6a403abe-f9d6-450e-8f67-29916098f252",
   "metadata": {},
   "outputs": [],
   "source": []
  }
 ],
 "metadata": {
  "kernelspec": {
   "display_name": "Julia 1.8.0-rc1",
   "language": "julia",
   "name": "julia-1.8"
  },
  "language_info": {
   "file_extension": ".jl",
   "mimetype": "application/julia",
   "name": "julia",
   "version": "1.8.0"
  }
 },
 "nbformat": 4,
 "nbformat_minor": 5
}
