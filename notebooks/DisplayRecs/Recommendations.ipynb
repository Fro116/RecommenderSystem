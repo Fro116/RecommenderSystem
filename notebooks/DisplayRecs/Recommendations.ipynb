{
 "cells": [
  {
   "cell_type": "code",
   "execution_count": 1,
   "id": "240e43fd-abc8-4d44-a3d6-85293d0dd756",
   "metadata": {},
   "outputs": [],
   "source": [
    "source = \"Recommendations\";"
   ]
  },
  {
   "cell_type": "code",
   "execution_count": 2,
   "id": "ba187524-034d-40f6-9e40-0ab5123e36bb",
   "metadata": {},
   "outputs": [],
   "source": [
    "using DataFrames\n",
    "import CSV\n",
    "import NBInclude: @nbinclude\n",
    "import Statistics: mean\n",
    "@nbinclude(\"../InferenceAlphas/Alpha.ipynb\");"
   ]
  },
  {
   "cell_type": "code",
   "execution_count": 3,
   "id": "2dc4c5b5-a759-463c-b163-e47fd461a554",
   "metadata": {},
   "outputs": [],
   "source": [
    "ENV[\"COLUMNS\"] = 999999;\n",
    "ENV[\"LINES\"] = 50;\n",
    "recommend_related_series = true;"
   ]
  },
  {
   "cell_type": "code",
   "execution_count": 4,
   "id": "20127075-7c57-4629-9283-d1f18a8ff2bb",
   "metadata": {},
   "outputs": [],
   "source": [
    "const anime = DataFrame(CSV.File(\"../../data/processed_data/anime.csv\", ntasks = 1))\n",
    "anime_to_uid = DataFrame(CSV.File(\"../../data/processed_data/anime_to_uid.csv\"))\n",
    "anime_to_uid = innerjoin(anime_to_uid, anime, on = \"anime_id\");"
   ]
  },
  {
   "cell_type": "code",
   "execution_count": 5,
   "id": "9fa0327c-2d09-4040-8819-32125a957f15",
   "metadata": {
    "tags": []
   },
   "outputs": [],
   "source": [
    "rating_df = DataFrame(\n",
    "    \"uid\" => 0:num_items()-1,\n",
    "    \"ranking\" => read_recommendee_alpha(\"BPR\", \"all\").rating,\n",
    "    \"explicit\" => read_recommendee_alpha(\"Explicit\", \"all\").rating,\n",
    "    \"implicit\" => read_recommendee_alpha(\"LinearImplicit\", \"all\").rating,\n",
    "    \"error_explicit\" => read_recommendee_alpha(\"ErrorExplicit\", \"all\").rating,\n",
    "    \"error_implicit\" => read_recommendee_alpha(\"ErrorImplicit\", \"all\").rating,\n",
    "    \"baseline_explicit\" =>\n",
    "        read_recommendee_alpha(\"ExplicitUserItemBiases\", \"all\").rating,\n",
    "    \"baseline_implicit\" => read_recommendee_alpha(\"PopularityBaseline\", \"all\").rating,\n",
    ")\n",
    "rating_df[:, \"score\"] = rating_df[:, \"ranking\"];"
   ]
  },
  {
   "cell_type": "code",
   "execution_count": 6,
   "id": "89a34ece-a029-4b79-98a8-743d7aa89b22",
   "metadata": {},
   "outputs": [
    {
     "name": "stderr",
     "output_type": "stream",
     "text": [
      "\u001b[38;5;6m\u001b[1m[ \u001b[22m\u001b[39m\u001b[38;5;6m\u001b[1mInfo: \u001b[22m\u001b[39m20220627 00:59:06 RMSE: 1.5628924\n",
      "\u001b[38;5;6m\u001b[1m[ \u001b[22m\u001b[39m\u001b[38;5;6m\u001b[1mInfo: \u001b[22m\u001b[39m20220627 00:59:06 R2: 0.17852247\n"
     ]
    }
   ],
   "source": [
    "# evaluate our insample predictions\n",
    "df = get_recommendee_split(false)\n",
    "const rss = sum((df.rating - rating_df.explicit[df.item]) .^ 2)\n",
    "const tss = sum((df.rating .- mean(df.rating)) .^ 2)\n",
    "@info \"RMSE: $(sqrt(rss / length(df.rating)))\"\n",
    "@info \"R2: $(1 - rss / tss)\""
   ]
  },
  {
   "cell_type": "code",
   "execution_count": 7,
   "id": "33b47ef2-d558-42c1-990c-de1c91143d51",
   "metadata": {},
   "outputs": [],
   "source": [
    "# [ Info: 20220626 22:59:13 RMSE: 1.4526845\n",
    "# [ Info: 20220626 22:59:13 R2: 0.29029125"
   ]
  },
  {
   "cell_type": "code",
   "execution_count": 8,
   "id": "24345713-0e5e-4d52-89a2-16dd2b5d3f96",
   "metadata": {
    "tags": []
   },
   "outputs": [],
   "source": [
    "# don't recommend shows that the user has already seen before\n",
    "rating_df[:, \"display\"] .= true\n",
    "seen_items = vcat(get_recommendee_split(true).item, get_recommendee_split(false).item)\n",
    "rating_df.display[seen_items] .= false\n",
    "\n",
    "# don't recommend shows related to shows they have seen before\n",
    "if !recommend_related_series\n",
    "    related_series =\n",
    "        get_alpha(\"ItemCF.Related.strict_relations\", \"recommendee_inference\").rating .!= 0\n",
    "    rating_df.display[related_series] .= false\n",
    "end;"
   ]
  },
  {
   "cell_type": "code",
   "execution_count": 9,
   "id": "2f87ebbf-d246-43cc-8b07-79b4929318ea",
   "metadata": {},
   "outputs": [],
   "source": [
    "rec_df = innerjoin(anime_to_uid, rating_df, on = \"uid\");\n",
    "keepcols = [\"anime_id\", \"uid\", \"title\", \"genres\", \"medium\"]\n",
    "for x in names(rating_df)\n",
    "    if x ∉ keepcols\n",
    "        push!(keepcols, x)\n",
    "    end\n",
    "end\n",
    "rec_df = rec_df[:, keepcols];"
   ]
  },
  {
   "cell_type": "code",
   "execution_count": 10,
   "id": "43369775-7454-4784-8be2-c9dfbc828690",
   "metadata": {},
   "outputs": [
    {
     "data": {
      "text/plain": [
       "(441, 443)"
      ]
     },
     "execution_count": 10,
     "metadata": {},
     "output_type": "execute_result"
    }
   ],
   "source": [
    "length(get_recommendee_split(false).item), length(get_recommendee_split(true).item)"
   ]
  },
  {
   "cell_type": "code",
   "execution_count": 11,
   "id": "87d0ac7b-9f8d-4d5d-ab59-ad8e65a6d948",
   "metadata": {},
   "outputs": [],
   "source": [
    "function pretty_display(df)\n",
    "    sort(filter(x -> x.display, df), :score)\n",
    "end;"
   ]
  },
  {
   "cell_type": "code",
   "execution_count": 12,
   "id": "ed168f16-b287-4565-bf0d-4781e27c016a",
   "metadata": {
    "tags": []
   },
   "outputs": [
    {
     "data": {
      "text/html": [
       "<div class=\"data-frame\"><p>5,650 rows × 14 columns</p><table class=\"data-frame\"><thead><tr><th></th><th>anime_id</th><th>uid</th><th>title</th><th>genres</th><th>medium</th><th>ranking</th><th>explicit</th><th>implicit</th><th>error_explicit</th><th>error_implicit</th><th>baseline_explicit</th><th>baseline_implicit</th><th>score</th><th>display</th></tr><tr><th></th><th title=\"Int64\">Int64</th><th title=\"Int64\">Int64</th><th title=\"String\">String</th><th title=\"String\">String</th><th title=\"InlineStrings.String7\">String7</th><th title=\"Float32\">Float32</th><th title=\"Float32\">Float32</th><th title=\"Float32\">Float32</th><th title=\"Float32\">Float32</th><th title=\"Float32\">Float32</th><th title=\"Float32\">Float32</th><th title=\"Float32\">Float32</th><th title=\"Float32\">Float32</th><th title=\"Bool\">Bool</th></tr></thead><tbody><tr><th>1</th><td>16498</td><td>7644</td><td>Shingeki no Kyojin</td><td>[&apos;Action&apos;, &apos;Drama&apos;, &apos;Gore&apos;, &apos;Military&apos;, &apos;Shounen&apos;, &apos;Survival&apos;]</td><td>tv</td><td>2.0</td><td>8.68123</td><td>-16.4992</td><td>0.978192</td><td>0.00156031</td><td>7.04385</td><td>0.00424123</td><td>2.0</td><td>1</td></tr><tr><th>2</th><td>20</td><td>15281</td><td>Naruto</td><td>[&apos;Action&apos;, &apos;Adventure&apos;, &apos;Fantasy&apos;, &apos;Martial Arts&apos;, &apos;Shounen&apos;]</td><td>tv</td><td>3.0</td><td>5.76309</td><td>-16.8007</td><td>1.50707</td><td>0.000567369</td><td>6.42401</td><td>0.0031124</td><td>3.0</td><td>1</td></tr><tr><th>3</th><td>5114</td><td>17079</td><td>Fullmetal Alchemist: Brotherhood</td><td>[&apos;Action&apos;, &apos;Adventure&apos;, &apos;Drama&apos;, &apos;Fantasy&apos;, &apos;Military&apos;, &apos;Shounen&apos;]</td><td>tv</td><td>4.0</td><td>6.31715</td><td>-16.8231</td><td>1.34942</td><td>-0.000399966</td><td>7.62535</td><td>0.00308928</td><td>4.0</td><td>1</td></tr><tr><th>4</th><td>38000</td><td>11465</td><td>Kimetsu no Yaiba</td><td>[&apos;Action&apos;, &apos;Fantasy&apos;, &apos;Historical&apos;, &apos;Shounen&apos;]</td><td>tv</td><td>5.0</td><td>5.64166</td><td>-16.8334</td><td>1.46722</td><td>-0.00328093</td><td>7.0779</td><td>0.00326954</td><td>5.0</td><td>1</td></tr><tr><th>5</th><td>30276</td><td>2415</td><td>One Punch Man</td><td>[&apos;Action&apos;, &apos;Comedy&apos;, &apos;Parody&apos;, &apos;Seinen&apos;, &apos;Super Power&apos;]</td><td>tv</td><td>6.0</td><td>6.27504</td><td>-16.8379</td><td>1.33224</td><td>0.00111136</td><td>7.02705</td><td>0.00351741</td><td>6.0</td><td>1</td></tr><tr><th>6</th><td>25777</td><td>8685</td><td>Shingeki no Kyojin Season 2</td><td>[&apos;Action&apos;, &apos;Drama&apos;, &apos;Gore&apos;, &apos;Military&apos;, &apos;Shounen&apos;, &apos;Survival&apos;]</td><td>tv</td><td>9.0</td><td>8.11878</td><td>-17.0036</td><td>1.01077</td><td>0.0234612</td><td>7.09824</td><td>0.00310658</td><td>9.0</td><td>1</td></tr><tr><th>7</th><td>1735</td><td>14119</td><td>Naruto: Shippuuden</td><td>[&apos;Action&apos;, &apos;Adventure&apos;, &apos;Fantasy&apos;, &apos;Martial Arts&apos;, &apos;Shounen&apos;]</td><td>tv</td><td>10.0</td><td>7.01802</td><td>-17.0084</td><td>0.618683</td><td>-0.00226669</td><td>6.69386</td><td>0.00261285</td><td>10.0</td><td>1</td></tr><tr><th>8</th><td>22319</td><td>20135</td><td>Tokyo Ghoul</td><td>[&apos;Action&apos;, &apos;Fantasy&apos;, &apos;Gore&apos;, &apos;Horror&apos;, &apos;Psychological&apos;, &apos;Seinen&apos;]</td><td>tv</td><td>11.0</td><td>7.83445</td><td>-17.0227</td><td>1.02838</td><td>-0.00859476</td><td>6.28796</td><td>0.00306753</td><td>11.0</td><td>1</td></tr><tr><th>9</th><td>11061</td><td>7814</td><td>Hunter x Hunter (2011)</td><td>[&apos;Action&apos;, &apos;Adventure&apos;, &apos;Fantasy&apos;, &apos;Shounen&apos;]</td><td>tv</td><td>12.0</td><td>7.74717</td><td>-17.0277</td><td>1.0377</td><td>0.000980651</td><td>7.57482</td><td>0.00262857</td><td>12.0</td><td>1</td></tr><tr><th>10</th><td>40748</td><td>18010</td><td>Jujutsu Kaisen (TV)</td><td>[&apos;Action&apos;, &apos;Fantasy&apos;, &apos;School&apos;, &apos;Shounen&apos;]</td><td>tv</td><td>14.0</td><td>5.98092</td><td>-17.0656</td><td>1.49462</td><td>-0.00328093</td><td>7.21643</td><td>0.00263575</td><td>14.0</td><td>1</td></tr><tr><th>11</th><td>21</td><td>9917</td><td>One Piece</td><td>[&apos;Action&apos;, &apos;Adventure&apos;, &apos;Fantasy&apos;, &apos;Shounen&apos;]</td><td>tv</td><td>15.0</td><td>6.17419</td><td>-17.0674</td><td>1.5508</td><td>-0.00198248</td><td>7.19899</td><td>0.00216222</td><td>15.0</td><td>1</td></tr><tr><th>12</th><td>33486</td><td>19915</td><td>Boku no Hero Academia 2nd Season</td><td>[&apos;Action&apos;, &apos;School&apos;, &apos;Shounen&apos;, &apos;Super Power&apos;]</td><td>tv</td><td>16.0</td><td>6.96642</td><td>-17.1231</td><td>0.603542</td><td>-0.00183502</td><td>6.68712</td><td>0.00294497</td><td>16.0</td><td>1</td></tr><tr><th>13</th><td>38524</td><td>12753</td><td>Shingeki no Kyojin Season 3 Part 2</td><td>[&apos;Action&apos;, &apos;Drama&apos;, &apos;Gore&apos;, &apos;Military&apos;, &apos;Shounen&apos;, &apos;Survival&apos;]</td><td>tv</td><td>17.0</td><td>7.99588</td><td>-17.1475</td><td>0.796689</td><td>0.00502999</td><td>7.68329</td><td>0.00253456</td><td>17.0</td><td>1</td></tr><tr><th>14</th><td>35760</td><td>19030</td><td>Shingeki no Kyojin Season 3</td><td>[&apos;Action&apos;, &apos;Drama&apos;, &apos;Gore&apos;, &apos;Military&apos;, &apos;Shounen&apos;, &apos;Survival&apos;]</td><td>tv</td><td>18.0</td><td>8.02281</td><td>-17.1484</td><td>1.00171</td><td>0.00584838</td><td>7.23127</td><td>0.00269863</td><td>18.0</td><td>1</td></tr><tr><th>15</th><td>40028</td><td>5414</td><td>Shingeki no Kyojin: The Final Season</td><td>[&apos;Action&apos;, &apos;Drama&apos;, &apos;Gore&apos;, &apos;Military&apos;, &apos;Shounen&apos;, &apos;Survival&apos;]</td><td>tv</td><td>19.0</td><td>9.35344</td><td>-17.2434</td><td>0.763452</td><td>0.00246246</td><td>7.4072</td><td>0.00219663</td><td>19.0</td><td>1</td></tr><tr><th>16</th><td>36456</td><td>15146</td><td>Boku no Hero Academia 3rd Season</td><td>[&apos;Action&apos;, &apos;School&apos;, &apos;Shounen&apos;, &apos;Super Power&apos;]</td><td>tv</td><td>21.0</td><td>6.19335</td><td>-17.3003</td><td>1.14672</td><td>0.00146596</td><td>6.63844</td><td>0.00256673</td><td>21.0</td><td>1</td></tr><tr><th>17</th><td>37779</td><td>5006</td><td>Yakusoku no Neverland</td><td>[&apos;Mystery&apos;, &apos;Psychological&apos;, &apos;Sci-Fi&apos;, &apos;Shounen&apos;, &apos;Survival&apos;, &apos;Suspense&apos;]</td><td>tv</td><td>25.0</td><td>8.01793</td><td>-17.4398</td><td>1.18074</td><td>0.0466387</td><td>7.15962</td><td>0.00218617</td><td>25.0</td><td>1</td></tr><tr><th>18</th><td>23755</td><td>4369</td><td>Nanatsu no Taizai</td><td>[&apos;Action&apos;, &apos;Adventure&apos;, &apos;Fantasy&apos;, &apos;Shounen&apos;]</td><td>tv</td><td>27.0</td><td>4.74473</td><td>-17.4444</td><td>1.43846</td><td>0.0144757</td><td>6.15531</td><td>0.00234624</td><td>27.0</td><td>1</td></tr><tr><th>19</th><td>269</td><td>20133</td><td>Bleach</td><td>[&apos;Action&apos;, &apos;Adventure&apos;, &apos;Fantasy&apos;, &apos;Shounen&apos;]</td><td>tv</td><td>31.0</td><td>5.82084</td><td>-17.4643</td><td>1.28022</td><td>0.000160759</td><td>6.24199</td><td>0.00197478</td><td>31.0</td><td>1</td></tr><tr><th>20</th><td>22199</td><td>14576</td><td>Akame ga Kill!</td><td>[&apos;Action&apos;, &apos;Fantasy&apos;, &apos;Gore&apos;, &apos;Shounen&apos;, &apos;Super Power&apos;]</td><td>tv</td><td>35.0</td><td>4.49769</td><td>-17.5116</td><td>1.37105</td><td>-0.000609359</td><td>5.97578</td><td>0.00228138</td><td>35.0</td><td>1</td></tr><tr><th>21</th><td>27899</td><td>19378</td><td>Tokyo Ghoul √A</td><td>[&apos;Action&apos;, &apos;Fantasy&apos;, &apos;Gore&apos;, &apos;Horror&apos;, &apos;Psychological&apos;, &apos;Seinen&apos;]</td><td>tv</td><td>36.0</td><td>6.99105</td><td>-17.5352</td><td>1.34077</td><td>-0.0140571</td><td>5.52318</td><td>0.00216162</td><td>36.0</td><td>1</td></tr><tr><th>22</th><td>14719</td><td>17131</td><td>JoJo no Kimyou na Bouken (TV)</td><td>[&apos;Action&apos;, &apos;Adventure&apos;, &apos;Shounen&apos;, &apos;Supernatural&apos;, &apos;Vampire&apos;]</td><td>tv</td><td>37.0</td><td>4.28468</td><td>-17.5442</td><td>1.55592</td><td>-0.00328093</td><td>6.56471</td><td>0.00191972</td><td>37.0</td><td>1</td></tr><tr><th>23</th><td>32182</td><td>15115</td><td>Mob Psycho 100</td><td>[&apos;Action&apos;, &apos;Comedy&apos;, &apos;Super Power&apos;, &apos;Supernatural&apos;]</td><td>tv</td><td>40.0</td><td>7.11109</td><td>-17.5773</td><td>0.868575</td><td>0.00124612</td><td>7.14511</td><td>0.00215383</td><td>40.0</td><td>1</td></tr><tr><th>24</th><td>30831</td><td>6335</td><td>Kono Subarashii Sekai ni Shukufuku wo!</td><td>[&apos;Adventure&apos;, &apos;Comedy&apos;, &apos;Fantasy&apos;, &apos;Isekai&apos;, &apos;Parody&apos;, &apos;Reincarnation&apos;]</td><td>tv</td><td>42.0</td><td>7.26576</td><td>-17.5843</td><td>1.15619</td><td>-0.000179624</td><td>6.66097</td><td>0.00232477</td><td>42.0</td><td>1</td></tr><tr><th>25</th><td>38408</td><td>9965</td><td>Boku no Hero Academia 4th Season</td><td>[&apos;Action&apos;, &apos;School&apos;, &apos;Shounen&apos;, &apos;Super Power&apos;]</td><td>tv</td><td>43.0</td><td>5.68214</td><td>-17.5896</td><td>1.56947</td><td>-0.00366062</td><td>6.51578</td><td>0.00199742</td><td>43.0</td><td>1</td></tr><tr><th>26</th><td>24833</td><td>3082</td><td>Ansatsu Kyoushitsu</td><td>[&apos;Action&apos;, &apos;Comedy&apos;, &apos;School&apos;, &apos;Shounen&apos;]</td><td>tv</td><td>44.0</td><td>5.09258</td><td>-17.5938</td><td>1.28055</td><td>-0.00314386</td><td>6.61076</td><td>0.00216675</td><td>44.0</td><td>1</td></tr><tr><th>27</th><td>6702</td><td>4795</td><td>Fairy Tail</td><td>[&apos;Action&apos;, &apos;Adventure&apos;, &apos;Fantasy&apos;, &apos;Shounen&apos;]</td><td>tv</td><td>46.0</td><td>6.3849</td><td>-17.6425</td><td>0.916157</td><td>-0.000463612</td><td>5.89579</td><td>0.00189279</td><td>46.0</td><td>1</td></tr><tr><th>28</th><td>9919</td><td>11769</td><td>Ao no Exorcist</td><td>[&apos;Action&apos;, &apos;Fantasy&apos;, &apos;Mythology&apos;, &apos;School&apos;, &apos;Shounen&apos;]</td><td>tv</td><td>47.0</td><td>4.64701</td><td>-17.6475</td><td>1.33875</td><td>-0.00161157</td><td>5.97839</td><td>0.00209026</td><td>47.0</td><td>1</td></tr><tr><th>29</th><td>1</td><td>11017</td><td>Cowboy Bebop</td><td>[&apos;Action&apos;, &apos;Adult Cast&apos;, &apos;Sci-Fi&apos;, &apos;Space&apos;]</td><td>tv</td><td>49.0</td><td>8.09465</td><td>-17.6655</td><td>1.26588</td><td>0.0661356</td><td>7.43068</td><td>0.00168163</td><td>49.0</td><td>1</td></tr><tr><th>30</th><td>22535</td><td>11784</td><td>Kiseijuu: Sei no Kakuritsu</td><td>[&apos;Action&apos;, &apos;Gore&apos;, &apos;Horror&apos;, &apos;Psychological&apos;, &apos;Sci-Fi&apos;, &apos;Seinen&apos;]</td><td>tv</td><td>52.0</td><td>6.18941</td><td>-17.6697</td><td>1.24801</td><td>-0.00266766</td><td>6.91023</td><td>0.00202229</td><td>52.0</td><td>1</td></tr><tr><th>31</th><td>35849</td><td>12364</td><td>Darling in the FranXX</td><td>[&apos;Action&apos;, &apos;Drama&apos;, &apos;Mecha&apos;, &apos;Romance&apos;, &apos;Sci-Fi&apos;]</td><td>tv</td><td>53.0</td><td>7.63915</td><td>-17.689</td><td>1.23072</td><td>-0.0109708</td><td>5.7367</td><td>0.00188621</td><td>53.0</td><td>1</td></tr><tr><th>32</th><td>34134</td><td>16568</td><td>One Punch Man 2nd Season</td><td>[&apos;Action&apos;, &apos;Comedy&apos;, &apos;Parody&apos;, &apos;Seinen&apos;, &apos;Super Power&apos;]</td><td>tv</td><td>54.0</td><td>5.07087</td><td>-17.7079</td><td>1.33482</td><td>-0.000727347</td><td>6.05774</td><td>0.0018543</td><td>54.0</td><td>1</td></tr><tr><th>33</th><td>37999</td><td>3442</td><td>Kaguya-sama wa Kokurasetai: Tensai-tachi no Renai Zunousen</td><td>[&apos;Comedy&apos;, &apos;Psychological&apos;, &apos;Romantic Subtext&apos;, &apos;School&apos;, &apos;Seinen&apos;]</td><td>tv</td><td>56.0</td><td>7.62385</td><td>-17.7135</td><td>1.38751</td><td>-0.0146644</td><td>7.01441</td><td>0.0019742</td><td>56.0</td><td>1</td></tr><tr><th>34</th><td>50265</td><td>4347</td><td>Spy x Family</td><td>[&apos;Action&apos;, &apos;Childcare&apos;, &apos;Comedy&apos;, &apos;Shounen&apos;]</td><td>tv</td><td>58.0</td><td>5.90965</td><td>-17.7499</td><td>1.67411</td><td>-0.00328093</td><td>7.47808</td><td>0.00103509</td><td>58.0</td><td>1</td></tr><tr><th>35</th><td>47778</td><td>18684</td><td>Kimetsu no Yaiba: Yuukaku-hen</td><td>[&apos;Action&apos;, &apos;Fantasy&apos;, &apos;Historical&apos;, &apos;Shounen&apos;]</td><td>tv</td><td>59.0</td><td>6.11167</td><td>-17.7707</td><td>1.64012</td><td>-0.00284207</td><td>7.42571</td><td>0.00142428</td><td>59.0</td><td>1</td></tr><tr><th>36</th><td>33352</td><td>7763</td><td>Violet Evergarden</td><td>[&apos;Drama&apos;, &apos;Fantasy&apos;, &apos;Slice of Life&apos;]</td><td>tv</td><td>62.0</td><td>5.42456</td><td>-17.7995</td><td>1.38337</td><td>-0.00324658</td><td>7.26352</td><td>0.00178117</td><td>62.0</td><td>1</td></tr><tr><th>37</th><td>35790</td><td>19234</td><td>Tate no Yuusha no Nariagari</td><td>[&apos;Action&apos;, &apos;Adventure&apos;, &apos;Drama&apos;, &apos;Fantasy&apos;, &apos;Isekai&apos;]</td><td>tv</td><td>65.0</td><td>5.2895</td><td>-17.8249</td><td>1.51728</td><td>0.0148898</td><td>6.56697</td><td>0.00184094</td><td>65.0</td><td>1</td></tr><tr><th>38</th><td>28223</td><td>17869</td><td>Death Parade</td><td>[&apos;Adult Cast&apos;, &apos;Drama&apos;, &apos;High Stakes Game&apos;, &apos;Psychological&apos;, &apos;Supernatural&apos;, &apos;Suspense&apos;]</td><td>tv</td><td>66.0</td><td>7.27394</td><td>-17.8277</td><td>1.34092</td><td>0.0170495</td><td>6.78244</td><td>0.00183756</td><td>66.0</td><td>1</td></tr><tr><th>39</th><td>48583</td><td>18963</td><td>Shingeki no Kyojin: The Final Season Part 2</td><td>[&apos;Action&apos;, &apos;Drama&apos;, &apos;Gore&apos;, &apos;Military&apos;, &apos;Shounen&apos;, &apos;Survival&apos;]</td><td>tv</td><td>67.0</td><td>9.11366</td><td>-17.8341</td><td>0.880222</td><td>0.0046387</td><td>7.45514</td><td>0.00126221</td><td>67.0</td><td>1</td></tr><tr><th>40</th><td>28891</td><td>9157</td><td>Haikyuu!! Second Season</td><td>[&apos;School&apos;, &apos;Shounen&apos;, &apos;Sports&apos;, &apos;Team Sports&apos;]</td><td>tv</td><td>68.0</td><td>8.39496</td><td>-17.8374</td><td>1.02178</td><td>-0.00678189</td><td>7.22776</td><td>0.0016207</td><td>68.0</td><td>1</td></tr><tr><th>41</th><td>3588</td><td>113</td><td>Soul Eater</td><td>[&apos;Action&apos;, &apos;Comedy&apos;, &apos;Fantasy&apos;, &apos;Shounen&apos;, &apos;Supernatural&apos;]</td><td>tv</td><td>69.0</td><td>7.21096</td><td>-17.8483</td><td>1.51134</td><td>0.00867793</td><td>6.31389</td><td>0.00161961</td><td>69.0</td><td>1</td></tr><tr><th>42</th><td>28171</td><td>7544</td><td>Shokugeki no Souma</td><td>[&apos;Ecchi&apos;, &apos;Gourmet&apos;, &apos;School&apos;, &apos;Shounen&apos;]</td><td>tv</td><td>70.0</td><td>5.3219</td><td>-17.8475</td><td>1.35797</td><td>-0.00322557</td><td>6.67778</td><td>0.00186597</td><td>70.0</td><td>1</td></tr><tr><th>43</th><td>20899</td><td>12777</td><td>JoJo no Kimyou na Bouken Part 3: Stardust Crusaders</td><td>[&apos;Action&apos;, &apos;Adventure&apos;, &apos;Drama&apos;, &apos;Shounen&apos;, &apos;Supernatural&apos;]</td><td>tv</td><td>72.0</td><td>5.22014</td><td>-17.8639</td><td>1.35377</td><td>-0.00312454</td><td>6.80907</td><td>0.00148228</td><td>72.0</td><td>1</td></tr><tr><th>44</th><td>813</td><td>12911</td><td>Dragon Ball Z</td><td>[&apos;Action&apos;, &apos;Adventure&apos;, &apos;Comedy&apos;, &apos;Fantasy&apos;, &apos;Martial Arts&apos;, &apos;Shounen&apos;, &apos;Super Power&apos;]</td><td>tv</td><td>74.0</td><td>5.72105</td><td>-17.8733</td><td>1.56922</td><td>-0.00124523</td><td>6.68018</td><td>0.00140241</td><td>74.0</td><td>1</td></tr><tr><th>45</th><td>11617</td><td>7558</td><td>High School DxD</td><td>[&apos;Comedy&apos;, &apos;Ecchi&apos;, &apos;Harem&apos;, &apos;Mythology&apos;, &apos;Romance&apos;, &apos;School&apos;]</td><td>tv</td><td>75.0</td><td>4.40464</td><td>-17.8782</td><td>1.33552</td><td>-0.000128047</td><td>5.72704</td><td>0.00166893</td><td>75.0</td><td>1</td></tr><tr><th>46</th><td>37510</td><td>7710</td><td>Mob Psycho 100 II</td><td>[&apos;Action&apos;, &apos;Comedy&apos;, &apos;Super Power&apos;, &apos;Supernatural&apos;]</td><td>tv</td><td>78.0</td><td>7.30275</td><td>-17.8946</td><td>0.758204</td><td>0.00112692</td><td>7.51132</td><td>0.00160489</td><td>78.0</td><td>1</td></tr><tr><th>47</th><td>8074</td><td>13914</td><td>Highschool of the Dead</td><td>[&apos;Action&apos;, &apos;Ecchi&apos;, &apos;Gore&apos;, &apos;Horror&apos;, &apos;Shounen&apos;, &apos;Supernatural&apos;, &apos;Survival&apos;]</td><td>tv</td><td>79.0</td><td>3.90616</td><td>-17.8961</td><td>1.42733</td><td>0.000147279</td><td>5.48368</td><td>0.00174552</td><td>79.0</td><td>1</td></tr><tr><th>48</th><td>32937</td><td>11298</td><td>Kono Subarashii Sekai ni Shukufuku wo! 2</td><td>[&apos;Adventure&apos;, &apos;Comedy&apos;, &apos;Fantasy&apos;, &apos;Isekai&apos;, &apos;Parody&apos;, &apos;Reincarnation&apos;]</td><td>tv</td><td>81.0</td><td>7.53976</td><td>-17.8967</td><td>1.30945</td><td>-0.0144363</td><td>6.84116</td><td>0.00186493</td><td>81.0</td><td>1</td></tr><tr><th>49</th><td>28999</td><td>2034</td><td>Charlotte</td><td>[&apos;Drama&apos;, &apos;School&apos;, &apos;Super Power&apos;]</td><td>tv</td><td>82.0</td><td>7.19456</td><td>-17.9108</td><td>1.32998</td><td>-0.00483634</td><td>6.2574</td><td>0.00180256</td><td>82.0</td><td>1</td></tr><tr><th>50</th><td>31933</td><td>1044</td><td>JoJo no Kimyou na Bouken Part 4: Diamond wa Kudakenai</td><td>[&apos;Action&apos;, &apos;Adventure&apos;, &apos;Comedy&apos;, &apos;Drama&apos;, &apos;Shounen&apos;, &apos;Supernatural&apos;]</td><td>tv</td><td>84.0</td><td>5.57017</td><td>-17.9882</td><td>1.40261</td><td>-0.00328093</td><td>7.23537</td><td>0.00129478</td><td>84.0</td><td>1</td></tr><tr><th>&vellip;</th><td>&vellip;</td><td>&vellip;</td><td>&vellip;</td><td>&vellip;</td><td>&vellip;</td><td>&vellip;</td><td>&vellip;</td><td>&vellip;</td><td>&vellip;</td><td>&vellip;</td><td>&vellip;</td><td>&vellip;</td><td>&vellip;</td><td>&vellip;</td></tr></tbody></table></div>"
      ],
      "text/latex": [
       "\\begin{tabular}{r|cccccccccccccc}\n",
       "\t& anime\\_id & uid & title & genres & medium & ranking & explicit & implicit & error\\_explicit & error\\_implicit & baseline\\_explicit & baseline\\_implicit & score & display\\\\\n",
       "\t\\hline\n",
       "\t& Int64 & Int64 & String & String & String7 & Float32 & Float32 & Float32 & Float32 & Float32 & Float32 & Float32 & Float32 & Bool\\\\\n",
       "\t\\hline\n",
       "\t1 & 16498 & 7644 & Shingeki no Kyojin & ['Action', 'Drama', 'Gore', 'Military', 'Shounen', 'Survival'] & tv & 2.0 & 8.68123 & -16.4992 & 0.978192 & 0.00156031 & 7.04385 & 0.00424123 & 2.0 & 1 \\\\\n",
       "\t2 & 20 & 15281 & Naruto & ['Action', 'Adventure', 'Fantasy', 'Martial Arts', 'Shounen'] & tv & 3.0 & 5.76309 & -16.8007 & 1.50707 & 0.000567369 & 6.42401 & 0.0031124 & 3.0 & 1 \\\\\n",
       "\t3 & 5114 & 17079 & Fullmetal Alchemist: Brotherhood & ['Action', 'Adventure', 'Drama', 'Fantasy', 'Military', 'Shounen'] & tv & 4.0 & 6.31715 & -16.8231 & 1.34942 & -0.000399966 & 7.62535 & 0.00308928 & 4.0 & 1 \\\\\n",
       "\t4 & 38000 & 11465 & Kimetsu no Yaiba & ['Action', 'Fantasy', 'Historical', 'Shounen'] & tv & 5.0 & 5.64166 & -16.8334 & 1.46722 & -0.00328093 & 7.0779 & 0.00326954 & 5.0 & 1 \\\\\n",
       "\t5 & 30276 & 2415 & One Punch Man & ['Action', 'Comedy', 'Parody', 'Seinen', 'Super Power'] & tv & 6.0 & 6.27504 & -16.8379 & 1.33224 & 0.00111136 & 7.02705 & 0.00351741 & 6.0 & 1 \\\\\n",
       "\t6 & 25777 & 8685 & Shingeki no Kyojin Season 2 & ['Action', 'Drama', 'Gore', 'Military', 'Shounen', 'Survival'] & tv & 9.0 & 8.11878 & -17.0036 & 1.01077 & 0.0234612 & 7.09824 & 0.00310658 & 9.0 & 1 \\\\\n",
       "\t7 & 1735 & 14119 & Naruto: Shippuuden & ['Action', 'Adventure', 'Fantasy', 'Martial Arts', 'Shounen'] & tv & 10.0 & 7.01802 & -17.0084 & 0.618683 & -0.00226669 & 6.69386 & 0.00261285 & 10.0 & 1 \\\\\n",
       "\t8 & 22319 & 20135 & Tokyo Ghoul & ['Action', 'Fantasy', 'Gore', 'Horror', 'Psychological', 'Seinen'] & tv & 11.0 & 7.83445 & -17.0227 & 1.02838 & -0.00859476 & 6.28796 & 0.00306753 & 11.0 & 1 \\\\\n",
       "\t9 & 11061 & 7814 & Hunter x Hunter (2011) & ['Action', 'Adventure', 'Fantasy', 'Shounen'] & tv & 12.0 & 7.74717 & -17.0277 & 1.0377 & 0.000980651 & 7.57482 & 0.00262857 & 12.0 & 1 \\\\\n",
       "\t10 & 40748 & 18010 & Jujutsu Kaisen (TV) & ['Action', 'Fantasy', 'School', 'Shounen'] & tv & 14.0 & 5.98092 & -17.0656 & 1.49462 & -0.00328093 & 7.21643 & 0.00263575 & 14.0 & 1 \\\\\n",
       "\t11 & 21 & 9917 & One Piece & ['Action', 'Adventure', 'Fantasy', 'Shounen'] & tv & 15.0 & 6.17419 & -17.0674 & 1.5508 & -0.00198248 & 7.19899 & 0.00216222 & 15.0 & 1 \\\\\n",
       "\t12 & 33486 & 19915 & Boku no Hero Academia 2nd Season & ['Action', 'School', 'Shounen', 'Super Power'] & tv & 16.0 & 6.96642 & -17.1231 & 0.603542 & -0.00183502 & 6.68712 & 0.00294497 & 16.0 & 1 \\\\\n",
       "\t13 & 38524 & 12753 & Shingeki no Kyojin Season 3 Part 2 & ['Action', 'Drama', 'Gore', 'Military', 'Shounen', 'Survival'] & tv & 17.0 & 7.99588 & -17.1475 & 0.796689 & 0.00502999 & 7.68329 & 0.00253456 & 17.0 & 1 \\\\\n",
       "\t14 & 35760 & 19030 & Shingeki no Kyojin Season 3 & ['Action', 'Drama', 'Gore', 'Military', 'Shounen', 'Survival'] & tv & 18.0 & 8.02281 & -17.1484 & 1.00171 & 0.00584838 & 7.23127 & 0.00269863 & 18.0 & 1 \\\\\n",
       "\t15 & 40028 & 5414 & Shingeki no Kyojin: The Final Season & ['Action', 'Drama', 'Gore', 'Military', 'Shounen', 'Survival'] & tv & 19.0 & 9.35344 & -17.2434 & 0.763452 & 0.00246246 & 7.4072 & 0.00219663 & 19.0 & 1 \\\\\n",
       "\t16 & 36456 & 15146 & Boku no Hero Academia 3rd Season & ['Action', 'School', 'Shounen', 'Super Power'] & tv & 21.0 & 6.19335 & -17.3003 & 1.14672 & 0.00146596 & 6.63844 & 0.00256673 & 21.0 & 1 \\\\\n",
       "\t17 & 37779 & 5006 & Yakusoku no Neverland & ['Mystery', 'Psychological', 'Sci-Fi', 'Shounen', 'Survival', 'Suspense'] & tv & 25.0 & 8.01793 & -17.4398 & 1.18074 & 0.0466387 & 7.15962 & 0.00218617 & 25.0 & 1 \\\\\n",
       "\t18 & 23755 & 4369 & Nanatsu no Taizai & ['Action', 'Adventure', 'Fantasy', 'Shounen'] & tv & 27.0 & 4.74473 & -17.4444 & 1.43846 & 0.0144757 & 6.15531 & 0.00234624 & 27.0 & 1 \\\\\n",
       "\t19 & 269 & 20133 & Bleach & ['Action', 'Adventure', 'Fantasy', 'Shounen'] & tv & 31.0 & 5.82084 & -17.4643 & 1.28022 & 0.000160759 & 6.24199 & 0.00197478 & 31.0 & 1 \\\\\n",
       "\t20 & 22199 & 14576 & Akame ga Kill! & ['Action', 'Fantasy', 'Gore', 'Shounen', 'Super Power'] & tv & 35.0 & 4.49769 & -17.5116 & 1.37105 & -0.000609359 & 5.97578 & 0.00228138 & 35.0 & 1 \\\\\n",
       "\t21 & 27899 & 19378 & Tokyo Ghoul √A & ['Action', 'Fantasy', 'Gore', 'Horror', 'Psychological', 'Seinen'] & tv & 36.0 & 6.99105 & -17.5352 & 1.34077 & -0.0140571 & 5.52318 & 0.00216162 & 36.0 & 1 \\\\\n",
       "\t22 & 14719 & 17131 & JoJo no Kimyou na Bouken (TV) & ['Action', 'Adventure', 'Shounen', 'Supernatural', 'Vampire'] & tv & 37.0 & 4.28468 & -17.5442 & 1.55592 & -0.00328093 & 6.56471 & 0.00191972 & 37.0 & 1 \\\\\n",
       "\t23 & 32182 & 15115 & Mob Psycho 100 & ['Action', 'Comedy', 'Super Power', 'Supernatural'] & tv & 40.0 & 7.11109 & -17.5773 & 0.868575 & 0.00124612 & 7.14511 & 0.00215383 & 40.0 & 1 \\\\\n",
       "\t24 & 30831 & 6335 & Kono Subarashii Sekai ni Shukufuku wo! & ['Adventure', 'Comedy', 'Fantasy', 'Isekai', 'Parody', 'Reincarnation'] & tv & 42.0 & 7.26576 & -17.5843 & 1.15619 & -0.000179624 & 6.66097 & 0.00232477 & 42.0 & 1 \\\\\n",
       "\t25 & 38408 & 9965 & Boku no Hero Academia 4th Season & ['Action', 'School', 'Shounen', 'Super Power'] & tv & 43.0 & 5.68214 & -17.5896 & 1.56947 & -0.00366062 & 6.51578 & 0.00199742 & 43.0 & 1 \\\\\n",
       "\t26 & 24833 & 3082 & Ansatsu Kyoushitsu & ['Action', 'Comedy', 'School', 'Shounen'] & tv & 44.0 & 5.09258 & -17.5938 & 1.28055 & -0.00314386 & 6.61076 & 0.00216675 & 44.0 & 1 \\\\\n",
       "\t27 & 6702 & 4795 & Fairy Tail & ['Action', 'Adventure', 'Fantasy', 'Shounen'] & tv & 46.0 & 6.3849 & -17.6425 & 0.916157 & -0.000463612 & 5.89579 & 0.00189279 & 46.0 & 1 \\\\\n",
       "\t28 & 9919 & 11769 & Ao no Exorcist & ['Action', 'Fantasy', 'Mythology', 'School', 'Shounen'] & tv & 47.0 & 4.64701 & -17.6475 & 1.33875 & -0.00161157 & 5.97839 & 0.00209026 & 47.0 & 1 \\\\\n",
       "\t29 & 1 & 11017 & Cowboy Bebop & ['Action', 'Adult Cast', 'Sci-Fi', 'Space'] & tv & 49.0 & 8.09465 & -17.6655 & 1.26588 & 0.0661356 & 7.43068 & 0.00168163 & 49.0 & 1 \\\\\n",
       "\t30 & 22535 & 11784 & Kiseijuu: Sei no Kakuritsu & ['Action', 'Gore', 'Horror', 'Psychological', 'Sci-Fi', 'Seinen'] & tv & 52.0 & 6.18941 & -17.6697 & 1.24801 & -0.00266766 & 6.91023 & 0.00202229 & 52.0 & 1 \\\\\n",
       "\t31 & 35849 & 12364 & Darling in the FranXX & ['Action', 'Drama', 'Mecha', 'Romance', 'Sci-Fi'] & tv & 53.0 & 7.63915 & -17.689 & 1.23072 & -0.0109708 & 5.7367 & 0.00188621 & 53.0 & 1 \\\\\n",
       "\t32 & 34134 & 16568 & One Punch Man 2nd Season & ['Action', 'Comedy', 'Parody', 'Seinen', 'Super Power'] & tv & 54.0 & 5.07087 & -17.7079 & 1.33482 & -0.000727347 & 6.05774 & 0.0018543 & 54.0 & 1 \\\\\n",
       "\t33 & 37999 & 3442 & Kaguya-sama wa Kokurasetai: Tensai-tachi no Renai Zunousen & ['Comedy', 'Psychological', 'Romantic Subtext', 'School', 'Seinen'] & tv & 56.0 & 7.62385 & -17.7135 & 1.38751 & -0.0146644 & 7.01441 & 0.0019742 & 56.0 & 1 \\\\\n",
       "\t34 & 50265 & 4347 & Spy x Family & ['Action', 'Childcare', 'Comedy', 'Shounen'] & tv & 58.0 & 5.90965 & -17.7499 & 1.67411 & -0.00328093 & 7.47808 & 0.00103509 & 58.0 & 1 \\\\\n",
       "\t35 & 47778 & 18684 & Kimetsu no Yaiba: Yuukaku-hen & ['Action', 'Fantasy', 'Historical', 'Shounen'] & tv & 59.0 & 6.11167 & -17.7707 & 1.64012 & -0.00284207 & 7.42571 & 0.00142428 & 59.0 & 1 \\\\\n",
       "\t36 & 33352 & 7763 & Violet Evergarden & ['Drama', 'Fantasy', 'Slice of Life'] & tv & 62.0 & 5.42456 & -17.7995 & 1.38337 & -0.00324658 & 7.26352 & 0.00178117 & 62.0 & 1 \\\\\n",
       "\t37 & 35790 & 19234 & Tate no Yuusha no Nariagari & ['Action', 'Adventure', 'Drama', 'Fantasy', 'Isekai'] & tv & 65.0 & 5.2895 & -17.8249 & 1.51728 & 0.0148898 & 6.56697 & 0.00184094 & 65.0 & 1 \\\\\n",
       "\t38 & 28223 & 17869 & Death Parade & ['Adult Cast', 'Drama', 'High Stakes Game', 'Psychological', 'Supernatural', 'Suspense'] & tv & 66.0 & 7.27394 & -17.8277 & 1.34092 & 0.0170495 & 6.78244 & 0.00183756 & 66.0 & 1 \\\\\n",
       "\t39 & 48583 & 18963 & Shingeki no Kyojin: The Final Season Part 2 & ['Action', 'Drama', 'Gore', 'Military', 'Shounen', 'Survival'] & tv & 67.0 & 9.11366 & -17.8341 & 0.880222 & 0.0046387 & 7.45514 & 0.00126221 & 67.0 & 1 \\\\\n",
       "\t40 & 28891 & 9157 & Haikyuu!! Second Season & ['School', 'Shounen', 'Sports', 'Team Sports'] & tv & 68.0 & 8.39496 & -17.8374 & 1.02178 & -0.00678189 & 7.22776 & 0.0016207 & 68.0 & 1 \\\\\n",
       "\t41 & 3588 & 113 & Soul Eater & ['Action', 'Comedy', 'Fantasy', 'Shounen', 'Supernatural'] & tv & 69.0 & 7.21096 & -17.8483 & 1.51134 & 0.00867793 & 6.31389 & 0.00161961 & 69.0 & 1 \\\\\n",
       "\t42 & 28171 & 7544 & Shokugeki no Souma & ['Ecchi', 'Gourmet', 'School', 'Shounen'] & tv & 70.0 & 5.3219 & -17.8475 & 1.35797 & -0.00322557 & 6.67778 & 0.00186597 & 70.0 & 1 \\\\\n",
       "\t43 & 20899 & 12777 & JoJo no Kimyou na Bouken Part 3: Stardust Crusaders & ['Action', 'Adventure', 'Drama', 'Shounen', 'Supernatural'] & tv & 72.0 & 5.22014 & -17.8639 & 1.35377 & -0.00312454 & 6.80907 & 0.00148228 & 72.0 & 1 \\\\\n",
       "\t44 & 813 & 12911 & Dragon Ball Z & ['Action', 'Adventure', 'Comedy', 'Fantasy', 'Martial Arts', 'Shounen', 'Super Power'] & tv & 74.0 & 5.72105 & -17.8733 & 1.56922 & -0.00124523 & 6.68018 & 0.00140241 & 74.0 & 1 \\\\\n",
       "\t45 & 11617 & 7558 & High School DxD & ['Comedy', 'Ecchi', 'Harem', 'Mythology', 'Romance', 'School'] & tv & 75.0 & 4.40464 & -17.8782 & 1.33552 & -0.000128047 & 5.72704 & 0.00166893 & 75.0 & 1 \\\\\n",
       "\t46 & 37510 & 7710 & Mob Psycho 100 II & ['Action', 'Comedy', 'Super Power', 'Supernatural'] & tv & 78.0 & 7.30275 & -17.8946 & 0.758204 & 0.00112692 & 7.51132 & 0.00160489 & 78.0 & 1 \\\\\n",
       "\t47 & 8074 & 13914 & Highschool of the Dead & ['Action', 'Ecchi', 'Gore', 'Horror', 'Shounen', 'Supernatural', 'Survival'] & tv & 79.0 & 3.90616 & -17.8961 & 1.42733 & 0.000147279 & 5.48368 & 0.00174552 & 79.0 & 1 \\\\\n",
       "\t48 & 32937 & 11298 & Kono Subarashii Sekai ni Shukufuku wo! 2 & ['Adventure', 'Comedy', 'Fantasy', 'Isekai', 'Parody', 'Reincarnation'] & tv & 81.0 & 7.53976 & -17.8967 & 1.30945 & -0.0144363 & 6.84116 & 0.00186493 & 81.0 & 1 \\\\\n",
       "\t49 & 28999 & 2034 & Charlotte & ['Drama', 'School', 'Super Power'] & tv & 82.0 & 7.19456 & -17.9108 & 1.32998 & -0.00483634 & 6.2574 & 0.00180256 & 82.0 & 1 \\\\\n",
       "\t50 & 31933 & 1044 & JoJo no Kimyou na Bouken Part 4: Diamond wa Kudakenai & ['Action', 'Adventure', 'Comedy', 'Drama', 'Shounen', 'Supernatural'] & tv & 84.0 & 5.57017 & -17.9882 & 1.40261 & -0.00328093 & 7.23537 & 0.00129478 & 84.0 & 1 \\\\\n",
       "\t$\\dots$ & $\\dots$ & $\\dots$ & $\\dots$ & $\\dots$ & $\\dots$ & $\\dots$ & $\\dots$ & $\\dots$ & $\\dots$ & $\\dots$ & $\\dots$ & $\\dots$ & $\\dots$ & $\\dots$ \\\\\n",
       "\\end{tabular}\n"
      ],
      "text/plain": [
       "\u001b[1m5650×14 DataFrame\u001b[0m\n",
       "\u001b[1m  Row \u001b[0m│\u001b[1m anime_id \u001b[0m\u001b[1m uid   \u001b[0m\u001b[1m title                             \u001b[0m\u001b[1m genres                            \u001b[0m\u001b[1m medium  \u001b[0m\u001b[1m ranking \u001b[0m\u001b[1m explicit \u001b[0m\u001b[1m implicit \u001b[0m\u001b[1m error_explicit \u001b[0m\u001b[1m error_implicit \u001b[0m\u001b[1m baseline_explicit \u001b[0m\u001b[1m baseline_implicit \u001b[0m\u001b[1m score   \u001b[0m\u001b[1m display \u001b[0m\n",
       "\u001b[1m      \u001b[0m│\u001b[90m Int64    \u001b[0m\u001b[90m Int64 \u001b[0m\u001b[90m String                            \u001b[0m\u001b[90m String                            \u001b[0m\u001b[90m String7 \u001b[0m\u001b[90m Float32 \u001b[0m\u001b[90m Float32  \u001b[0m\u001b[90m Float32  \u001b[0m\u001b[90m Float32        \u001b[0m\u001b[90m Float32        \u001b[0m\u001b[90m Float32           \u001b[0m\u001b[90m Float32           \u001b[0m\u001b[90m Float32 \u001b[0m\u001b[90m Bool    \u001b[0m\n",
       "──────┼─────────────────────────────────────────────────────────────────────────────────────────────────────────────────────────────────────────────────────────────────────────────────────────────────────────────────────\n",
       "    1 │    16498   7644  Shingeki no Kyojin                 ['Action', 'Drama', 'Gore', 'Mil…  tv           2.0   8.68123  -16.4992        0.978192     0.00156031             7.04385         0.00424123      2.0     true\n",
       "    2 │       20  15281  Naruto                             ['Action', 'Adventure', 'Fantasy…  tv           3.0   5.76309  -16.8007        1.50707      0.000567369            6.42401         0.0031124       3.0     true\n",
       "    3 │     5114  17079  Fullmetal Alchemist: Brotherhood   ['Action', 'Adventure', 'Drama',…  tv           4.0   6.31715  -16.8231        1.34942     -0.000399966            7.62535         0.00308928      4.0     true\n",
       "    4 │    38000  11465  Kimetsu no Yaiba                   ['Action', 'Fantasy', 'Historica…  tv           5.0   5.64166  -16.8334        1.46722     -0.00328093             7.0779          0.00326954      5.0     true\n",
       "    5 │    30276   2415  One Punch Man                      ['Action', 'Comedy', 'Parody', '…  tv           6.0   6.27504  -16.8379        1.33224      0.00111136             7.02705         0.00351741      6.0     true\n",
       "    6 │    25777   8685  Shingeki no Kyojin Season 2        ['Action', 'Drama', 'Gore', 'Mil…  tv           9.0   8.11878  -17.0036        1.01077      0.0234612              7.09824         0.00310658      9.0     true\n",
       "    7 │     1735  14119  Naruto: Shippuuden                 ['Action', 'Adventure', 'Fantasy…  tv          10.0   7.01802  -17.0084        0.618683    -0.00226669             6.69386         0.00261285     10.0     true\n",
       "    8 │    22319  20135  Tokyo Ghoul                        ['Action', 'Fantasy', 'Gore', 'H…  tv          11.0   7.83445  -17.0227        1.02838     -0.00859476             6.28796         0.00306753     11.0     true\n",
       "    9 │    11061   7814  Hunter x Hunter (2011)             ['Action', 'Adventure', 'Fantasy…  tv          12.0   7.74717  -17.0277        1.0377       0.000980651            7.57482         0.00262857     12.0     true\n",
       "   10 │    40748  18010  Jujutsu Kaisen (TV)                ['Action', 'Fantasy', 'School', …  tv          14.0   5.98092  -17.0656        1.49462     -0.00328093             7.21643         0.00263575     14.0     true\n",
       "   11 │       21   9917  One Piece                          ['Action', 'Adventure', 'Fantasy…  tv          15.0   6.17419  -17.0674        1.5508      -0.00198248             7.19899         0.00216222     15.0     true\n",
       "   12 │    33486  19915  Boku no Hero Academia 2nd Season   ['Action', 'School', 'Shounen', …  tv          16.0   6.96642  -17.1231        0.603542    -0.00183502             6.68712         0.00294497     16.0     true\n",
       "   13 │    38524  12753  Shingeki no Kyojin Season 3 Part…  ['Action', 'Drama', 'Gore', 'Mil…  tv          17.0   7.99588  -17.1475        0.796689     0.00502999             7.68329         0.00253456     17.0     true\n",
       "   14 │    35760  19030  Shingeki no Kyojin Season 3        ['Action', 'Drama', 'Gore', 'Mil…  tv          18.0   8.02281  -17.1484        1.00171      0.00584838             7.23127         0.00269863     18.0     true\n",
       "   15 │    40028   5414  Shingeki no Kyojin: The Final Se…  ['Action', 'Drama', 'Gore', 'Mil…  tv          19.0   9.35344  -17.2434        0.763452     0.00246246             7.4072          0.00219663     19.0     true\n",
       "   16 │    36456  15146  Boku no Hero Academia 3rd Season   ['Action', 'School', 'Shounen', …  tv          21.0   6.19335  -17.3003        1.14672      0.00146596             6.63844         0.00256673     21.0     true\n",
       "   17 │    37779   5006  Yakusoku no Neverland              ['Mystery', 'Psychological', 'Sc…  tv          25.0   8.01793  -17.4398        1.18074      0.0466387              7.15962         0.00218617     25.0     true\n",
       "   18 │    23755   4369  Nanatsu no Taizai                  ['Action', 'Adventure', 'Fantasy…  tv          27.0   4.74473  -17.4444        1.43846      0.0144757              6.15531         0.00234624     27.0     true\n",
       "   19 │      269  20133  Bleach                             ['Action', 'Adventure', 'Fantasy…  tv          31.0   5.82084  -17.4643        1.28022      0.000160759            6.24199         0.00197478     31.0     true\n",
       "   20 │    22199  14576  Akame ga Kill!                     ['Action', 'Fantasy', 'Gore', 'S…  tv          35.0   4.49769  -17.5116        1.37105     -0.000609359            5.97578         0.00228138     35.0     true\n",
       "   21 │    27899  19378  Tokyo Ghoul √A                     ['Action', 'Fantasy', 'Gore', 'H…  tv          36.0   6.99105  -17.5352        1.34077     -0.0140571              5.52318         0.00216162     36.0     true\n",
       "  ⋮   │    ⋮        ⋮                    ⋮                                  ⋮                     ⋮        ⋮        ⋮         ⋮            ⋮               ⋮                 ⋮                  ⋮             ⋮        ⋮\n",
       " 5631 │    49970   7417  Shuo Guo Lei Lei 2nd Season        ['Kids']                           tv       20313.0   4.86544  -27.9004        1.26107     -0.000374231            5.07008         2.83814e-8  20313.0     true\n",
       " 5632 │    44035  15085  Ling Su Zhengba                    ['Adventure', 'Kids', 'Racing', …  tv       20315.0   4.74757  -27.9004        1.3409      -0.000222477            5.11581         1.2614e-8   20315.0     true\n",
       " 5633 │    46256  19989  Jia You Jiu Shen                   ['Historical']                     tv       20316.0   4.74757  -27.9004        1.3409      -0.000222477            5.11581         2.20744e-8  20316.0     true\n",
       " 5634 │    44477   6827  Shenqi A You                       ['Kids']                           tv       20318.0   4.74757  -27.9004        1.3409      -0.000222477            5.11581         1.2614e-8   20318.0     true\n",
       " 5635 │    44467    923  Wu Long Xiao Zi                    ['Fantasy', 'Kids']                tv       20319.0   4.74757  -27.9004        1.3409      -0.000222477            5.11581         1.2614e-8   20319.0     true\n",
       " 5636 │    43950   9192  Zhishi Laoren                      ['Educational', 'Kids']            tv       20320.0   4.74757  -27.9004        1.3409      -0.000222477            5.11581         1.57674e-8  20320.0     true\n",
       " 5637 │    44021   3947  Dianji Xiaozi 3rd Season           ['Kids']                           tv       20321.0   4.74757  -27.9004        1.3409      -0.000222477            5.11581         1.57674e-8  20321.0     true\n",
       " 5638 │    48280   2424  Jadoo Ilgijang                     ['Comedy', 'Kids', 'School']       tv       20323.0   4.74757  -27.9004        1.3409      -0.000222477            5.11581         1.57674e-8  20323.0     true\n",
       " 5639 │    45765  17517  Huo Xing Wa: Maoxian Leyuan        ['Kids']                           tv       20324.0   4.61154  -27.9003        1.4695      -0.000366928            5.11743         3.15349e-8  20324.0     true\n",
       " 5640 │    45973  19097  Lu Dang Jin Jian                   ['Historical']                     tv       20325.0   4.74757  -27.9004        1.3409      -0.000222477            5.11581         1.2614e-8   20325.0     true\n",
       " 5641 │    44422  18989  Shaonian Shiye: Ji Yu Shengdian    ['Historical', 'Kids']             tv       20326.0   4.74757  -27.9004        1.3409      -0.000222477            5.11581         1.2614e-8   20326.0     true\n",
       " 5642 │    44188  18914  Gushi Nainai                       ['Adventure', 'Fantasy', 'Kids']   tv       20327.0   4.74757  -27.9004        1.3409      -0.000222477            5.11581         1.2614e-8   20327.0     true\n",
       " 5643 │    43945  12845  Cong Ming De Ben Xiao Zhu          ['Anthropomorphic', 'Kids']        tv       20329.0   4.74757  -27.9004        1.3409      -0.000222477            5.11581         1.2614e-8   20329.0     true\n",
       " 5644 │    44420   9713  Shaonian Shiye: Zhongyi Man Qian…  ['Historical', 'Kids']             tv       20330.0   4.74757  -27.9004        1.3409      -0.000222477            5.11581         1.2614e-8   20330.0     true\n",
       " 5645 │    44421   8476  Shaonian Shiye: Gongji Da Yu       ['Historical', 'Kids']             tv       20331.0   4.74757  -27.9004        1.3409      -0.000222477            5.11581         1.2614e-8   20331.0     true\n",
       " 5646 │    44117   5380  Kaixin Chaoren Lianmeng: Xingji …  ['Comedy', 'Kids', 'Sci-Fi']       tv       20332.0   4.74757  -27.9004        1.3409      -0.000222477            5.11581         1.2614e-8   20332.0     true\n",
       " 5647 │    47648    430  San Zhi Songshu: Songshu Xiao Zh…  ['Adventure', 'Anthropomorphic',…  tv       20333.0   4.74757  -27.9004        1.3409      -0.000222477            5.11581         1.2614e-8   20333.0     true\n",
       " 5648 │    45661   7316  Rubi Yoyo 2                        ['Kids']                           tv       20335.0   4.86544  -27.9005        1.26107     -0.000374231            5.07008         2.83814e-8  20335.0     true\n",
       " 5649 │    45904   4872  Mo Di Qiyu Ji                      ['Kids']                           tv       20337.0   4.74757  -27.9006        1.3409      -0.000222477            5.11581         2.83814e-8  20337.0     true\n",
       " 5650 │    45380  16425  Tianyan Zhi Zhan                   ['Adventure', 'Kids', 'Sci-Fi']    tv       20338.0   4.74757  -27.9006        1.3409      -0.000222477            5.11581         1.57674e-8  20338.0     true\n",
       "\u001b[36m                                                                                                                                                                                                           5609 rows omitted\u001b[0m"
      ]
     },
     "execution_count": 12,
     "metadata": {},
     "output_type": "execute_result"
    }
   ],
   "source": [
    "filter(x -> x.medium == \"tv\", rec_df) |> pretty_display"
   ]
  },
  {
   "cell_type": "code",
   "execution_count": 13,
   "id": "7ee48028-14a4-41b7-92ec-7cdb79172d86",
   "metadata": {},
   "outputs": [
    {
     "data": {
      "text/html": [
       "<div class=\"data-frame\"><p>6,406 rows × 14 columns</p><table class=\"data-frame\"><thead><tr><th></th><th>anime_id</th><th>uid</th><th>title</th><th>genres</th><th>medium</th><th>ranking</th><th>explicit</th><th>implicit</th><th>error_explicit</th><th>error_implicit</th><th>baseline_explicit</th><th>baseline_implicit</th><th>score</th><th>display</th></tr><tr><th></th><th title=\"Int64\">Int64</th><th title=\"Int64\">Int64</th><th title=\"String\">String</th><th title=\"String\">String</th><th title=\"InlineStrings.String7\">String7</th><th title=\"Float32\">Float32</th><th title=\"Float32\">Float32</th><th title=\"Float32\">Float32</th><th title=\"Float32\">Float32</th><th title=\"Float32\">Float32</th><th title=\"Float32\">Float32</th><th title=\"Float32\">Float32</th><th title=\"Float32\">Float32</th><th title=\"Bool\">Bool</th></tr></thead><tbody><tr><th>1</th><td>34376</td><td>1289</td><td>Yuuki Yuuna wa Yuusha de Aru: Washio Sumi no Shou 3 - Yakusoku</td><td>[&apos;Drama&apos;, &apos;Fantasy&apos;, &apos;Mahou Shoujo&apos;, &apos;Slice of Life&apos;]</td><td>movie</td><td>5774.0</td><td>9.5254</td><td>-23.9332</td><td>0.647393</td><td>0.0134953</td><td>6.80728</td><td>1.2696e-5</td><td>-8.87801</td><td>1</td></tr><tr><th>2</th><td>34375</td><td>2707</td><td>Yuuki Yuuna wa Yuusha de Aru: Washio Sumi no Shou 2 - Tamashii</td><td>[&apos;Drama&apos;, &apos;Fantasy&apos;, &apos;Mahou Shoujo&apos;, &apos;Slice of Life&apos;]</td><td>movie</td><td>5785.0</td><td>9.45815</td><td>-23.9364</td><td>0.711345</td><td>0.00828607</td><td>6.60721</td><td>1.30491e-5</td><td>-8.74681</td><td>1</td></tr><tr><th>3</th><td>40028</td><td>5414</td><td>Shingeki no Kyojin: The Final Season</td><td>[&apos;Action&apos;, &apos;Drama&apos;, &apos;Gore&apos;, &apos;Military&apos;, &apos;Shounen&apos;, &apos;Survival&apos;]</td><td>tv</td><td>19.0</td><td>9.35344</td><td>-17.2434</td><td>0.763452</td><td>0.00246246</td><td>7.4072</td><td>0.00219663</td><td>-8.58998</td><td>1</td></tr><tr><th>4</th><td>34374</td><td>7098</td><td>Yuuki Yuuna wa Yuusha de Aru: Washio Sumi no Shou 1 - Tomodachi</td><td>[&apos;Drama&apos;, &apos;Fantasy&apos;, &apos;Mahou Shoujo&apos;, &apos;Slice of Life&apos;]</td><td>movie</td><td>5762.0</td><td>9.01315</td><td>-23.9261</td><td>0.772657</td><td>0.0108597</td><td>6.29922</td><td>1.34938e-5</td><td>-8.24049</td><td>1</td></tr><tr><th>5</th><td>48583</td><td>18963</td><td>Shingeki no Kyojin: The Final Season Part 2</td><td>[&apos;Action&apos;, &apos;Drama&apos;, &apos;Gore&apos;, &apos;Military&apos;, &apos;Shounen&apos;, &apos;Survival&apos;]</td><td>tv</td><td>67.0</td><td>9.11366</td><td>-17.8341</td><td>0.880222</td><td>0.0046387</td><td>7.45514</td><td>0.00126221</td><td>-8.23343</td><td>1</td></tr><tr><th>6</th><td>16498</td><td>7644</td><td>Shingeki no Kyojin</td><td>[&apos;Action&apos;, &apos;Drama&apos;, &apos;Gore&apos;, &apos;Military&apos;, &apos;Shounen&apos;, &apos;Survival&apos;]</td><td>tv</td><td>2.0</td><td>8.68123</td><td>-16.4992</td><td>0.978192</td><td>0.00156031</td><td>7.04385</td><td>0.00424123</td><td>-7.70304</td><td>1</td></tr><tr><th>7</th><td>38329</td><td>4161</td><td>Seishun Buta Yarou wa Yumemiru Shoujo no Yume wo Minai</td><td>[&apos;Drama&apos;, &apos;Romance&apos;, &apos;School&apos;, &apos;Supernatural&apos;]</td><td>movie</td><td>212.0</td><td>8.56422</td><td>-18.6953</td><td>0.981739</td><td>0.0017738</td><td>7.2443</td><td>0.000822991</td><td>-7.58249</td><td>1</td></tr><tr><th>8</th><td>29831</td><td>1773</td><td>Tamayura: Sotsugyou Shashin Part 4 - Ashita</td><td>[&apos;CGDCT&apos;, &apos;Comedy&apos;, &apos;Drama&apos;, &apos;Iyashikei&apos;, &apos;Slice of Life&apos;]</td><td>movie</td><td>7082.0</td><td>8.3159</td><td>-24.5703</td><td>0.809005</td><td>0.0049342</td><td>7.18098</td><td>8.35044e-6</td><td>-7.5069</td><td>1</td></tr><tr><th>9</th><td>42587</td><td>13295</td><td>Yuuki Yuuna wa Yuusha de Aru: Dai Mankai no Shou</td><td>[&apos;Drama&apos;, &apos;Fantasy&apos;, &apos;Mahou Shoujo&apos;, &apos;Slice of Life&apos;]</td><td>tv</td><td>5010.0</td><td>8.29393</td><td>-23.5196</td><td>0.887041</td><td>0.00553287</td><td>5.90612</td><td>1.62878e-5</td><td>-7.40689</td><td>1</td></tr><tr><th>10</th><td>42984</td><td>8632</td><td>Gotcha!</td><td>[&apos;Fantasy&apos;, &apos;Music&apos;]</td><td>music</td><td>2948.0</td><td>8.2581</td><td>-22.1536</td><td>0.878641</td><td>0.0325775</td><td>7.41328</td><td>4.62617e-5</td><td>-7.37946</td><td>1</td></tr><tr><th>11</th><td>28891</td><td>9157</td><td>Haikyuu!! Second Season</td><td>[&apos;School&apos;, &apos;Shounen&apos;, &apos;Sports&apos;, &apos;Team Sports&apos;]</td><td>tv</td><td>68.0</td><td>8.39496</td><td>-17.8374</td><td>1.02178</td><td>-0.00678189</td><td>7.22776</td><td>0.0016207</td><td>-7.37318</td><td>1</td></tr><tr><th>12</th><td>32935</td><td>2448</td><td>Haikyuu!!: Karasuno Koukou vs. Shiratorizawa Gakuen Koukou</td><td>[&apos;School&apos;, &apos;Shounen&apos;, &apos;Sports&apos;, &apos;Team Sports&apos;]</td><td>tv</td><td>95.0</td><td>8.37364</td><td>-18.0381</td><td>1.04885</td><td>-0.00921333</td><td>7.39082</td><td>0.00136979</td><td>-7.32479</td><td>1</td></tr><tr><th>13</th><td>40664</td><td>19524</td><td>Shoujo☆Kageki Revue Starlight Movie</td><td>[&apos;Music&apos;, &apos;Performing Arts&apos;, &apos;School&apos;]</td><td>movie</td><td>5702.0</td><td>8.4648</td><td>-23.8923</td><td>1.19547</td><td>-0.00434823</td><td>7.6506</td><td>8.32206e-6</td><td>-7.26933</td><td>1</td></tr><tr><th>14</th><td>38883</td><td>14856</td><td>Haikyuu!! To the Top</td><td>[&apos;School&apos;, &apos;Shounen&apos;, &apos;Sports&apos;, &apos;Team Sports&apos;]</td><td>tv</td><td>143.0</td><td>8.32505</td><td>-18.3386</td><td>1.06216</td><td>-0.0127391</td><td>6.96516</td><td>0.00104375</td><td>-7.26289</td><td>1</td></tr><tr><th>15</th><td>29830</td><td>18700</td><td>Tamayura: Sotsugyou Shashin Part 3 - Akogare</td><td>[&apos;CGDCT&apos;, &apos;Comedy&apos;, &apos;Drama&apos;, &apos;Iyashikei&apos;, &apos;Slice of Life&apos;]</td><td>movie</td><td>7203.0</td><td>8.01617</td><td>-24.6248</td><td>0.759477</td><td>0.00103954</td><td>6.82051</td><td>8.19277e-6</td><td>-7.25669</td><td>1</td></tr><tr><th>16</th><td>21899</td><td>15189</td><td>Gintama: Yorinuki Gintama-san on Theater 2D</td><td>[&apos;Action&apos;, &apos;Comedy&apos;, &apos;Gag Humor&apos;, &apos;Historical&apos;, &apos;Parody&apos;, &apos;Samurai&apos;, &apos;Sci-Fi&apos;, &apos;Shounen&apos;]</td><td>movie</td><td>3432.0</td><td>8.56406</td><td>-22.4928</td><td>1.31165</td><td>0.0169094</td><td>7.16331</td><td>3.78766e-5</td><td>-7.25241</td><td>1</td></tr><tr><th>17</th><td>11979</td><td>14471</td><td>Mahou Shoujo Madoka★Magica Movie 2: Eien no Monogatari</td><td>[&apos;Drama&apos;, &apos;Mahou Shoujo&apos;, &apos;Psychological&apos;, &apos;Suspense&apos;]</td><td>movie</td><td>1113.0</td><td>7.91513</td><td>-20.4202</td><td>0.694671</td><td>-0.00782789</td><td>7.05945</td><td>0.000218622</td><td>-7.22046</td><td>1</td></tr><tr><th>18</th><td>38524</td><td>12753</td><td>Shingeki no Kyojin Season 3 Part 2</td><td>[&apos;Action&apos;, &apos;Drama&apos;, &apos;Gore&apos;, &apos;Military&apos;, &apos;Shounen&apos;, &apos;Survival&apos;]</td><td>tv</td><td>17.0</td><td>7.99588</td><td>-17.1475</td><td>0.796689</td><td>0.00502999</td><td>7.68329</td><td>0.00253456</td><td>-7.1992</td><td>1</td></tr><tr><th>19</th><td>2921</td><td>5647</td><td>Ashita no Joe 2</td><td>[&apos;Action&apos;, &apos;Combat Sports&apos;, &apos;Drama&apos;, &apos;Shounen&apos;, &apos;Slice of Life&apos;, &apos;Sports&apos;]</td><td>tv</td><td>3062.0</td><td>8.243</td><td>-22.2391</td><td>1.0743</td><td>0.0219221</td><td>8.01768</td><td>3.49123e-5</td><td>-7.1687</td><td>1</td></tr><tr><th>20</th><td>39783</td><td>15482</td><td>5-toubun no Hanayome ∬</td><td>[&apos;Comedy&apos;, &apos;Harem&apos;, &apos;Romance&apos;, &apos;School&apos;, &apos;Shounen&apos;]</td><td>tv</td><td>208.0</td><td>8.18507</td><td>-18.6861</td><td>1.02482</td><td>-0.00428852</td><td>6.6726</td><td>0.000815294</td><td>-7.16025</td><td>1</td></tr><tr><th>21</th><td>29829</td><td>19680</td><td>Tamayura: Sotsugyou Shashin Part 2 - Hibiki</td><td>[&apos;CGDCT&apos;, &apos;Comedy&apos;, &apos;Drama&apos;, &apos;Iyashikei&apos;, &apos;Slice of Life&apos;]</td><td>movie</td><td>7060.0</td><td>7.90331</td><td>-24.5572</td><td>0.77651</td><td>-0.00719304</td><td>6.7538</td><td>8.65948e-6</td><td>-7.1268</td><td>1</td></tr><tr><th>22</th><td>399</td><td>6592</td><td>Seikai no Senki Special</td><td>[&apos;Action&apos;, &apos;Military&apos;, &apos;Romance&apos;, &apos;Sci-Fi&apos;, &apos;Space&apos;]</td><td>special</td><td>8864.0</td><td>7.94744</td><td>-25.4166</td><td>0.827035</td><td>0.00164598</td><td>6.1576</td><td>3.4783e-6</td><td>-7.12041</td><td>1</td></tr><tr><th>23</th><td>39112</td><td>7159</td><td>Kawaki wo Ameku</td><td>[&apos;Music&apos;]</td><td>music</td><td>3134.0</td><td>8.15135</td><td>-22.2889</td><td>1.03113</td><td>0.0265594</td><td>7.19493</td><td>4.24018e-5</td><td>-7.12022</td><td>1</td></tr><tr><th>24</th><td>32843</td><td>3602</td><td>Senki Zesshou Symphogear XV</td><td>[&apos;Action&apos;, &apos;Idols (Female)&apos;, &apos;Music&apos;, &apos;Sci-Fi&apos;]</td><td>tv</td><td>3795.0</td><td>7.93204</td><td>-22.7368</td><td>0.814314</td><td>0.00164598</td><td>6.94163</td><td>3.1311e-5</td><td>-7.11772</td><td>1</td></tr><tr><th>25</th><td>25777</td><td>8685</td><td>Shingeki no Kyojin Season 2</td><td>[&apos;Action&apos;, &apos;Drama&apos;, &apos;Gore&apos;, &apos;Military&apos;, &apos;Shounen&apos;, &apos;Survival&apos;]</td><td>tv</td><td>9.0</td><td>8.11878</td><td>-17.0036</td><td>1.01077</td><td>0.0234612</td><td>7.09824</td><td>0.00310658</td><td>-7.10801</td><td>1</td></tr><tr><th>26</th><td>31</td><td>17299</td><td>Neon Genesis Evangelion: Death &amp; Rebirth</td><td>[&apos;Drama&apos;, &apos;Mecha&apos;, &apos;Psychological&apos;, &apos;Sci-Fi&apos;]</td><td>movie</td><td>653.0</td><td>7.99837</td><td>-19.7975</td><td>0.896074</td><td>0.00875494</td><td>6.11667</td><td>0.000308175</td><td>-7.10229</td><td>1</td></tr><tr><th>27</th><td>9969</td><td>17885</td><td>Gintama&apos;</td><td>[&apos;Action&apos;, &apos;Comedy&apos;, &apos;Gag Humor&apos;, &apos;Historical&apos;, &apos;Parody&apos;, &apos;Samurai&apos;, &apos;Sci-Fi&apos;, &apos;Shounen&apos;]</td><td>tv</td><td>461.0</td><td>8.38102</td><td>-19.4255</td><td>1.29603</td><td>0.01847</td><td>7.64176</td><td>0.000431215</td><td>-7.08499</td><td>1</td></tr><tr><th>28</th><td>9735</td><td>16789</td><td>Gintama: Shinyaku Benizakura-hen</td><td>[&apos;Action&apos;, &apos;Comedy&apos;, &apos;Historical&apos;, &apos;Parody&apos;, &apos;Samurai&apos;, &apos;Sci-Fi&apos;, &apos;Shounen&apos;]</td><td>special</td><td>3219.0</td><td>8.03485</td><td>-22.3409</td><td>0.982118</td><td>-0.00522363</td><td>6.98621</td><td>4.44327e-5</td><td>-7.05273</td><td>1</td></tr><tr><th>29</th><td>44042</td><td>9155</td><td>Holo no Graffiti</td><td>[&apos;Comedy&apos;]</td><td>ona</td><td>2444.0</td><td>8.21204</td><td>-21.7071</td><td>1.1636</td><td>0.00313378</td><td>7.1057</td><td>4.63216e-5</td><td>-7.04844</td><td>1</td></tr><tr><th>30</th><td>39486</td><td>3238</td><td>Gintama: The Final</td><td>[&apos;Action&apos;, &apos;Comedy&apos;, &apos;Drama&apos;, &apos;Gag Humor&apos;, &apos;Historical&apos;, &apos;Parody&apos;, &apos;Samurai&apos;, &apos;Sci-Fi&apos;, &apos;Shounen&apos;]</td><td>movie</td><td>1368.0</td><td>8.36408</td><td>-20.7156</td><td>1.31875</td><td>0.0183687</td><td>7.75127</td><td>0.000101539</td><td>-7.04533</td><td>1</td></tr><tr><th>31</th><td>48411</td><td>10158</td><td>Aria the Benedizione</td><td>[&apos;Fantasy&apos;, &apos;Iyashikei&apos;, &apos;Sci-Fi&apos;, &apos;Shounen&apos;, &apos;Slice of Life&apos;]</td><td>movie</td><td>11986.0</td><td>7.80354</td><td>-26.8004</td><td>0.758512</td><td>-0.005593</td><td>6.88097</td><td>7.00075e-7</td><td>-7.04503</td><td>1</td></tr><tr><th>32</th><td>48653</td><td>10169</td><td>Yoru ni Kakeru</td><td>[&apos;Music&apos;]</td><td>music</td><td>3519.0</td><td>8.22505</td><td>-22.5455</td><td>1.18588</td><td>0.0107463</td><td>7.34285</td><td>2.34241e-5</td><td>-7.03917</td><td>1</td></tr><tr><th>33</th><td>40434</td><td>7678</td><td>Mo Dao Zu Shi: Wanjie Pian</td><td>[&apos;Action&apos;, &apos;Drama&apos;, &apos;Historical&apos;, &apos;Mythology&apos;, &apos;Supernatural&apos;]</td><td>ona</td><td>2441.0</td><td>8.22225</td><td>-21.7076</td><td>1.18588</td><td>0.0107463</td><td>7.33966</td><td>4.48615e-5</td><td>-7.03637</td><td>1</td></tr><tr><th>34</th><td>35760</td><td>19030</td><td>Shingeki no Kyojin Season 3</td><td>[&apos;Action&apos;, &apos;Drama&apos;, &apos;Gore&apos;, &apos;Military&apos;, &apos;Shounen&apos;, &apos;Survival&apos;]</td><td>tv</td><td>18.0</td><td>8.02281</td><td>-17.1484</td><td>1.00171</td><td>0.00584838</td><td>7.23127</td><td>0.00269863</td><td>-7.0211</td><td>1</td></tr><tr><th>35</th><td>15417</td><td>8713</td><td>Gintama&apos;: Enchousen</td><td>[&apos;Action&apos;, &apos;Comedy&apos;, &apos;Gag Humor&apos;, &apos;Historical&apos;, &apos;Parody&apos;, &apos;Samurai&apos;, &apos;Sci-Fi&apos;, &apos;Shounen&apos;]</td><td>tv</td><td>782.0</td><td>8.30483</td><td>-19.9902</td><td>1.29378</td><td>0.0196058</td><td>7.74217</td><td>0.000304438</td><td>-7.01106</td><td>1</td></tr><tr><th>36</th><td>50160</td><td>17537</td><td>Kingdom 4th Season</td><td>[&apos;Action&apos;, &apos;Historical&apos;, &apos;Military&apos;, &apos;Seinen&apos;]</td><td>tv</td><td>3402.0</td><td>8.10706</td><td>-22.4688</td><td>1.11698</td><td>-0.00758413</td><td>7.42268</td><td>2.01697e-5</td><td>-6.99007</td><td>1</td></tr><tr><th>37</th><td>48569</td><td>5777</td><td>86 Part 2</td><td>[&apos;Action&apos;, &apos;Drama&apos;, &apos;Mecha&apos;, &apos;Military&apos;, &apos;Sci-Fi&apos;]</td><td>tv</td><td>429.0</td><td>8.23219</td><td>-19.3418</td><td>1.24421</td><td>0.0699701</td><td>7.29187</td><td>0.000448675</td><td>-6.98799</td><td>1</td></tr><tr><th>38</th><td>28977</td><td>11850</td><td>Gintama°</td><td>[&apos;Action&apos;, &apos;Comedy&apos;, &apos;Gag Humor&apos;, &apos;Historical&apos;, &apos;Parody&apos;, &apos;Samurai&apos;, &apos;Sci-Fi&apos;, &apos;Shounen&apos;]</td><td>tv</td><td>378.0</td><td>8.22</td><td>-19.2184</td><td>1.23917</td><td>0.0331123</td><td>7.5762</td><td>0.000424753</td><td>-6.98083</td><td>1</td></tr><tr><th>39</th><td>37987</td><td>13638</td><td>Violet Evergarden Movie</td><td>[&apos;Drama&apos;, &apos;Fantasy&apos;, &apos;Slice of Life&apos;]</td><td>movie</td><td>426.0</td><td>8.28958</td><td>-19.3304</td><td>1.30973</td><td>0.0666329</td><td>7.56981</td><td>0.000418736</td><td>-6.97985</td><td>1</td></tr><tr><th>40</th><td>6945</td><td>14978</td><td>Gintama: Shiroyasha Koutan</td><td>[&apos;Action&apos;, &apos;Comedy&apos;, &apos;Historical&apos;, &apos;Parody&apos;, &apos;Sci-Fi&apos;]</td><td>special</td><td>2427.0</td><td>7.99821</td><td>-21.6954</td><td>1.02556</td><td>0.00893265</td><td>7.06262</td><td>8.13317e-5</td><td>-6.97266</td><td>1</td></tr><tr><th>41</th><td>11977</td><td>11665</td><td>Mahou Shoujo Madoka★Magica Movie 1: Hajimari no Monogatari</td><td>[&apos;Drama&apos;, &apos;Mahou Shoujo&apos;, &apos;Psychological&apos;, &apos;Suspense&apos;]</td><td>movie</td><td>1085.0</td><td>7.72425</td><td>-20.3944</td><td>0.757713</td><td>-0.00347652</td><td>6.89739</td><td>0.000223415</td><td>-6.96653</td><td>1</td></tr><tr><th>42</th><td>40682</td><td>5799</td><td>Kingdom 3rd Season</td><td>[&apos;Action&apos;, &apos;Historical&apos;, &apos;Military&apos;, &apos;Seinen&apos;]</td><td>tv</td><td>2136.0</td><td>7.75631</td><td>-21.4577</td><td>0.802238</td><td>0.000366159</td><td>7.39631</td><td>6.6526e-5</td><td>-6.95407</td><td>1</td></tr><tr><th>43</th><td>37491</td><td>13057</td><td>Gintama.: Shirogane no Tamashii-hen - Kouhan-sen</td><td>[&apos;Action&apos;, &apos;Comedy&apos;, &apos;Gag Humor&apos;, &apos;Historical&apos;, &apos;Parody&apos;, &apos;Samurai&apos;, &apos;Sci-Fi&apos;, &apos;Shounen&apos;]</td><td>tv</td><td>1278.0</td><td>8.23255</td><td>-20.6082</td><td>1.2925</td><td>0.0218297</td><td>7.64155</td><td>0.000182442</td><td>-6.94005</td><td>1</td></tr><tr><th>44</th><td>36885</td><td>18930</td><td>Saenai Heroine no Sodatekata Fine</td><td>[&apos;Comedy&apos;, &apos;Ecchi&apos;, &apos;Harem&apos;, &apos;Otaku Culture&apos;, &apos;Romance&apos;, &apos;School&apos;]</td><td>movie</td><td>1372.0</td><td>7.99719</td><td>-20.7165</td><td>1.06551</td><td>0.00707998</td><td>6.99953</td><td>0.000164032</td><td>-6.93168</td><td>1</td></tr><tr><th>45</th><td>7616</td><td>5602</td><td>Michi (Movie)</td><td>[&apos;Drama&apos;, &apos;Slice of Life&apos;]</td><td>movie</td><td>11675.0</td><td>8.03068</td><td>-26.6823</td><td>1.10315</td><td>-0.000754777</td><td>7.66429</td><td>8.16754e-7</td><td>-6.92754</td><td>1</td></tr><tr><th>46</th><td>4565</td><td>14864</td><td>Tengen Toppa Gurren Lagann Movie 2: Lagann-hen</td><td>[&apos;Action&apos;, &apos;Mecha&apos;, &apos;Sci-Fi&apos;, &apos;Space&apos;, &apos;Super Power&apos;]</td><td>movie</td><td>1135.0</td><td>7.75314</td><td>-20.44</td><td>0.826727</td><td>0.000366159</td><td>7.33589</td><td>0.000212498</td><td>-6.92641</td><td>1</td></tr><tr><th>47</th><td>32836</td><td>20123</td><td>Senki Zesshou Symphogear AXZ</td><td>[&apos;Action&apos;, &apos;Idols (Female)&apos;, &apos;Music&apos;, &apos;Sci-Fi&apos;]</td><td>tv</td><td>3535.0</td><td>7.76334</td><td>-22.5512</td><td>0.845119</td><td>-0.00365129</td><td>6.29791</td><td>3.85041e-5</td><td>-6.91822</td><td>1</td></tr><tr><th>48</th><td>46095</td><td>1404</td><td>Vivy: Fluorite Eye&apos;s Song</td><td>[&apos;Action&apos;, &apos;Music&apos;, &apos;Sci-Fi&apos;, &apos;Suspense&apos;, &apos;Time Travel&apos;]</td><td>tv</td><td>395.0</td><td>8.12919</td><td>-19.2557</td><td>1.21528</td><td>0.0598792</td><td>7.14686</td><td>0.000546292</td><td>-6.91391</td><td>1</td></tr><tr><th>49</th><td>40776</td><td>8909</td><td>Haikyuu!! To the Top Part 2</td><td>[&apos;School&apos;, &apos;Shounen&apos;, &apos;Sports&apos;, &apos;Team Sports&apos;]</td><td>tv</td><td>171.0</td><td>7.83708</td><td>-18.5119</td><td>0.927916</td><td>0.00130849</td><td>7.15138</td><td>0.000873577</td><td>-6.90917</td><td>1</td></tr><tr><th>50</th><td>42941</td><td>9316</td><td>Uma Musume: Pretty Derby (TV) Season 2</td><td>[&apos;Anthropomorphic&apos;, &apos;Sports&apos;]</td><td>tv</td><td>3077.0</td><td>7.82203</td><td>-22.2463</td><td>0.931705</td><td>0.00406411</td><td>6.61651</td><td>4.73307e-5</td><td>-6.89033</td><td>1</td></tr><tr><th>&vellip;</th><td>&vellip;</td><td>&vellip;</td><td>&vellip;</td><td>&vellip;</td><td>&vellip;</td><td>&vellip;</td><td>&vellip;</td><td>&vellip;</td><td>&vellip;</td><td>&vellip;</td><td>&vellip;</td><td>&vellip;</td><td>&vellip;</td><td>&vellip;</td></tr></tbody></table></div>"
      ],
      "text/latex": [
       "\\begin{tabular}{r|cccccccccccccc}\n",
       "\t& anime\\_id & uid & title & genres & medium & ranking & explicit & implicit & error\\_explicit & error\\_implicit & baseline\\_explicit & baseline\\_implicit & score & display\\\\\n",
       "\t\\hline\n",
       "\t& Int64 & Int64 & String & String & String7 & Float32 & Float32 & Float32 & Float32 & Float32 & Float32 & Float32 & Float32 & Bool\\\\\n",
       "\t\\hline\n",
       "\t1 & 34376 & 1289 & Yuuki Yuuna wa Yuusha de Aru: Washio Sumi no Shou 3 - Yakusoku & ['Drama', 'Fantasy', 'Mahou Shoujo', 'Slice of Life'] & movie & 5774.0 & 9.5254 & -23.9332 & 0.647393 & 0.0134953 & 6.80728 & 1.2696e-5 & -8.87801 & 1 \\\\\n",
       "\t2 & 34375 & 2707 & Yuuki Yuuna wa Yuusha de Aru: Washio Sumi no Shou 2 - Tamashii & ['Drama', 'Fantasy', 'Mahou Shoujo', 'Slice of Life'] & movie & 5785.0 & 9.45815 & -23.9364 & 0.711345 & 0.00828607 & 6.60721 & 1.30491e-5 & -8.74681 & 1 \\\\\n",
       "\t3 & 40028 & 5414 & Shingeki no Kyojin: The Final Season & ['Action', 'Drama', 'Gore', 'Military', 'Shounen', 'Survival'] & tv & 19.0 & 9.35344 & -17.2434 & 0.763452 & 0.00246246 & 7.4072 & 0.00219663 & -8.58998 & 1 \\\\\n",
       "\t4 & 34374 & 7098 & Yuuki Yuuna wa Yuusha de Aru: Washio Sumi no Shou 1 - Tomodachi & ['Drama', 'Fantasy', 'Mahou Shoujo', 'Slice of Life'] & movie & 5762.0 & 9.01315 & -23.9261 & 0.772657 & 0.0108597 & 6.29922 & 1.34938e-5 & -8.24049 & 1 \\\\\n",
       "\t5 & 48583 & 18963 & Shingeki no Kyojin: The Final Season Part 2 & ['Action', 'Drama', 'Gore', 'Military', 'Shounen', 'Survival'] & tv & 67.0 & 9.11366 & -17.8341 & 0.880222 & 0.0046387 & 7.45514 & 0.00126221 & -8.23343 & 1 \\\\\n",
       "\t6 & 16498 & 7644 & Shingeki no Kyojin & ['Action', 'Drama', 'Gore', 'Military', 'Shounen', 'Survival'] & tv & 2.0 & 8.68123 & -16.4992 & 0.978192 & 0.00156031 & 7.04385 & 0.00424123 & -7.70304 & 1 \\\\\n",
       "\t7 & 38329 & 4161 & Seishun Buta Yarou wa Yumemiru Shoujo no Yume wo Minai & ['Drama', 'Romance', 'School', 'Supernatural'] & movie & 212.0 & 8.56422 & -18.6953 & 0.981739 & 0.0017738 & 7.2443 & 0.000822991 & -7.58249 & 1 \\\\\n",
       "\t8 & 29831 & 1773 & Tamayura: Sotsugyou Shashin Part 4 - Ashita & ['CGDCT', 'Comedy', 'Drama', 'Iyashikei', 'Slice of Life'] & movie & 7082.0 & 8.3159 & -24.5703 & 0.809005 & 0.0049342 & 7.18098 & 8.35044e-6 & -7.5069 & 1 \\\\\n",
       "\t9 & 42587 & 13295 & Yuuki Yuuna wa Yuusha de Aru: Dai Mankai no Shou & ['Drama', 'Fantasy', 'Mahou Shoujo', 'Slice of Life'] & tv & 5010.0 & 8.29393 & -23.5196 & 0.887041 & 0.00553287 & 5.90612 & 1.62878e-5 & -7.40689 & 1 \\\\\n",
       "\t10 & 42984 & 8632 & Gotcha! & ['Fantasy', 'Music'] & music & 2948.0 & 8.2581 & -22.1536 & 0.878641 & 0.0325775 & 7.41328 & 4.62617e-5 & -7.37946 & 1 \\\\\n",
       "\t11 & 28891 & 9157 & Haikyuu!! Second Season & ['School', 'Shounen', 'Sports', 'Team Sports'] & tv & 68.0 & 8.39496 & -17.8374 & 1.02178 & -0.00678189 & 7.22776 & 0.0016207 & -7.37318 & 1 \\\\\n",
       "\t12 & 32935 & 2448 & Haikyuu!!: Karasuno Koukou vs. Shiratorizawa Gakuen Koukou & ['School', 'Shounen', 'Sports', 'Team Sports'] & tv & 95.0 & 8.37364 & -18.0381 & 1.04885 & -0.00921333 & 7.39082 & 0.00136979 & -7.32479 & 1 \\\\\n",
       "\t13 & 40664 & 19524 & Shoujo☆Kageki Revue Starlight Movie & ['Music', 'Performing Arts', 'School'] & movie & 5702.0 & 8.4648 & -23.8923 & 1.19547 & -0.00434823 & 7.6506 & 8.32206e-6 & -7.26933 & 1 \\\\\n",
       "\t14 & 38883 & 14856 & Haikyuu!! To the Top & ['School', 'Shounen', 'Sports', 'Team Sports'] & tv & 143.0 & 8.32505 & -18.3386 & 1.06216 & -0.0127391 & 6.96516 & 0.00104375 & -7.26289 & 1 \\\\\n",
       "\t15 & 29830 & 18700 & Tamayura: Sotsugyou Shashin Part 3 - Akogare & ['CGDCT', 'Comedy', 'Drama', 'Iyashikei', 'Slice of Life'] & movie & 7203.0 & 8.01617 & -24.6248 & 0.759477 & 0.00103954 & 6.82051 & 8.19277e-6 & -7.25669 & 1 \\\\\n",
       "\t16 & 21899 & 15189 & Gintama: Yorinuki Gintama-san on Theater 2D & ['Action', 'Comedy', 'Gag Humor', 'Historical', 'Parody', 'Samurai', 'Sci-Fi', 'Shounen'] & movie & 3432.0 & 8.56406 & -22.4928 & 1.31165 & 0.0169094 & 7.16331 & 3.78766e-5 & -7.25241 & 1 \\\\\n",
       "\t17 & 11979 & 14471 & Mahou Shoujo Madoka★Magica Movie 2: Eien no Monogatari & ['Drama', 'Mahou Shoujo', 'Psychological', 'Suspense'] & movie & 1113.0 & 7.91513 & -20.4202 & 0.694671 & -0.00782789 & 7.05945 & 0.000218622 & -7.22046 & 1 \\\\\n",
       "\t18 & 38524 & 12753 & Shingeki no Kyojin Season 3 Part 2 & ['Action', 'Drama', 'Gore', 'Military', 'Shounen', 'Survival'] & tv & 17.0 & 7.99588 & -17.1475 & 0.796689 & 0.00502999 & 7.68329 & 0.00253456 & -7.1992 & 1 \\\\\n",
       "\t19 & 2921 & 5647 & Ashita no Joe 2 & ['Action', 'Combat Sports', 'Drama', 'Shounen', 'Slice of Life', 'Sports'] & tv & 3062.0 & 8.243 & -22.2391 & 1.0743 & 0.0219221 & 8.01768 & 3.49123e-5 & -7.1687 & 1 \\\\\n",
       "\t20 & 39783 & 15482 & 5-toubun no Hanayome ∬ & ['Comedy', 'Harem', 'Romance', 'School', 'Shounen'] & tv & 208.0 & 8.18507 & -18.6861 & 1.02482 & -0.00428852 & 6.6726 & 0.000815294 & -7.16025 & 1 \\\\\n",
       "\t21 & 29829 & 19680 & Tamayura: Sotsugyou Shashin Part 2 - Hibiki & ['CGDCT', 'Comedy', 'Drama', 'Iyashikei', 'Slice of Life'] & movie & 7060.0 & 7.90331 & -24.5572 & 0.77651 & -0.00719304 & 6.7538 & 8.65948e-6 & -7.1268 & 1 \\\\\n",
       "\t22 & 399 & 6592 & Seikai no Senki Special & ['Action', 'Military', 'Romance', 'Sci-Fi', 'Space'] & special & 8864.0 & 7.94744 & -25.4166 & 0.827035 & 0.00164598 & 6.1576 & 3.4783e-6 & -7.12041 & 1 \\\\\n",
       "\t23 & 39112 & 7159 & Kawaki wo Ameku & ['Music'] & music & 3134.0 & 8.15135 & -22.2889 & 1.03113 & 0.0265594 & 7.19493 & 4.24018e-5 & -7.12022 & 1 \\\\\n",
       "\t24 & 32843 & 3602 & Senki Zesshou Symphogear XV & ['Action', 'Idols (Female)', 'Music', 'Sci-Fi'] & tv & 3795.0 & 7.93204 & -22.7368 & 0.814314 & 0.00164598 & 6.94163 & 3.1311e-5 & -7.11772 & 1 \\\\\n",
       "\t25 & 25777 & 8685 & Shingeki no Kyojin Season 2 & ['Action', 'Drama', 'Gore', 'Military', 'Shounen', 'Survival'] & tv & 9.0 & 8.11878 & -17.0036 & 1.01077 & 0.0234612 & 7.09824 & 0.00310658 & -7.10801 & 1 \\\\\n",
       "\t26 & 31 & 17299 & Neon Genesis Evangelion: Death \\& Rebirth & ['Drama', 'Mecha', 'Psychological', 'Sci-Fi'] & movie & 653.0 & 7.99837 & -19.7975 & 0.896074 & 0.00875494 & 6.11667 & 0.000308175 & -7.10229 & 1 \\\\\n",
       "\t27 & 9969 & 17885 & Gintama' & ['Action', 'Comedy', 'Gag Humor', 'Historical', 'Parody', 'Samurai', 'Sci-Fi', 'Shounen'] & tv & 461.0 & 8.38102 & -19.4255 & 1.29603 & 0.01847 & 7.64176 & 0.000431215 & -7.08499 & 1 \\\\\n",
       "\t28 & 9735 & 16789 & Gintama: Shinyaku Benizakura-hen & ['Action', 'Comedy', 'Historical', 'Parody', 'Samurai', 'Sci-Fi', 'Shounen'] & special & 3219.0 & 8.03485 & -22.3409 & 0.982118 & -0.00522363 & 6.98621 & 4.44327e-5 & -7.05273 & 1 \\\\\n",
       "\t29 & 44042 & 9155 & Holo no Graffiti & ['Comedy'] & ona & 2444.0 & 8.21204 & -21.7071 & 1.1636 & 0.00313378 & 7.1057 & 4.63216e-5 & -7.04844 & 1 \\\\\n",
       "\t30 & 39486 & 3238 & Gintama: The Final & ['Action', 'Comedy', 'Drama', 'Gag Humor', 'Historical', 'Parody', 'Samurai', 'Sci-Fi', 'Shounen'] & movie & 1368.0 & 8.36408 & -20.7156 & 1.31875 & 0.0183687 & 7.75127 & 0.000101539 & -7.04533 & 1 \\\\\n",
       "\t31 & 48411 & 10158 & Aria the Benedizione & ['Fantasy', 'Iyashikei', 'Sci-Fi', 'Shounen', 'Slice of Life'] & movie & 11986.0 & 7.80354 & -26.8004 & 0.758512 & -0.005593 & 6.88097 & 7.00075e-7 & -7.04503 & 1 \\\\\n",
       "\t32 & 48653 & 10169 & Yoru ni Kakeru & ['Music'] & music & 3519.0 & 8.22505 & -22.5455 & 1.18588 & 0.0107463 & 7.34285 & 2.34241e-5 & -7.03917 & 1 \\\\\n",
       "\t33 & 40434 & 7678 & Mo Dao Zu Shi: Wanjie Pian & ['Action', 'Drama', 'Historical', 'Mythology', 'Supernatural'] & ona & 2441.0 & 8.22225 & -21.7076 & 1.18588 & 0.0107463 & 7.33966 & 4.48615e-5 & -7.03637 & 1 \\\\\n",
       "\t34 & 35760 & 19030 & Shingeki no Kyojin Season 3 & ['Action', 'Drama', 'Gore', 'Military', 'Shounen', 'Survival'] & tv & 18.0 & 8.02281 & -17.1484 & 1.00171 & 0.00584838 & 7.23127 & 0.00269863 & -7.0211 & 1 \\\\\n",
       "\t35 & 15417 & 8713 & Gintama': Enchousen & ['Action', 'Comedy', 'Gag Humor', 'Historical', 'Parody', 'Samurai', 'Sci-Fi', 'Shounen'] & tv & 782.0 & 8.30483 & -19.9902 & 1.29378 & 0.0196058 & 7.74217 & 0.000304438 & -7.01106 & 1 \\\\\n",
       "\t36 & 50160 & 17537 & Kingdom 4th Season & ['Action', 'Historical', 'Military', 'Seinen'] & tv & 3402.0 & 8.10706 & -22.4688 & 1.11698 & -0.00758413 & 7.42268 & 2.01697e-5 & -6.99007 & 1 \\\\\n",
       "\t37 & 48569 & 5777 & 86 Part 2 & ['Action', 'Drama', 'Mecha', 'Military', 'Sci-Fi'] & tv & 429.0 & 8.23219 & -19.3418 & 1.24421 & 0.0699701 & 7.29187 & 0.000448675 & -6.98799 & 1 \\\\\n",
       "\t38 & 28977 & 11850 & Gintama° & ['Action', 'Comedy', 'Gag Humor', 'Historical', 'Parody', 'Samurai', 'Sci-Fi', 'Shounen'] & tv & 378.0 & 8.22 & -19.2184 & 1.23917 & 0.0331123 & 7.5762 & 0.000424753 & -6.98083 & 1 \\\\\n",
       "\t39 & 37987 & 13638 & Violet Evergarden Movie & ['Drama', 'Fantasy', 'Slice of Life'] & movie & 426.0 & 8.28958 & -19.3304 & 1.30973 & 0.0666329 & 7.56981 & 0.000418736 & -6.97985 & 1 \\\\\n",
       "\t40 & 6945 & 14978 & Gintama: Shiroyasha Koutan & ['Action', 'Comedy', 'Historical', 'Parody', 'Sci-Fi'] & special & 2427.0 & 7.99821 & -21.6954 & 1.02556 & 0.00893265 & 7.06262 & 8.13317e-5 & -6.97266 & 1 \\\\\n",
       "\t41 & 11977 & 11665 & Mahou Shoujo Madoka★Magica Movie 1: Hajimari no Monogatari & ['Drama', 'Mahou Shoujo', 'Psychological', 'Suspense'] & movie & 1085.0 & 7.72425 & -20.3944 & 0.757713 & -0.00347652 & 6.89739 & 0.000223415 & -6.96653 & 1 \\\\\n",
       "\t42 & 40682 & 5799 & Kingdom 3rd Season & ['Action', 'Historical', 'Military', 'Seinen'] & tv & 2136.0 & 7.75631 & -21.4577 & 0.802238 & 0.000366159 & 7.39631 & 6.6526e-5 & -6.95407 & 1 \\\\\n",
       "\t43 & 37491 & 13057 & Gintama.: Shirogane no Tamashii-hen - Kouhan-sen & ['Action', 'Comedy', 'Gag Humor', 'Historical', 'Parody', 'Samurai', 'Sci-Fi', 'Shounen'] & tv & 1278.0 & 8.23255 & -20.6082 & 1.2925 & 0.0218297 & 7.64155 & 0.000182442 & -6.94005 & 1 \\\\\n",
       "\t44 & 36885 & 18930 & Saenai Heroine no Sodatekata Fine & ['Comedy', 'Ecchi', 'Harem', 'Otaku Culture', 'Romance', 'School'] & movie & 1372.0 & 7.99719 & -20.7165 & 1.06551 & 0.00707998 & 6.99953 & 0.000164032 & -6.93168 & 1 \\\\\n",
       "\t45 & 7616 & 5602 & Michi (Movie) & ['Drama', 'Slice of Life'] & movie & 11675.0 & 8.03068 & -26.6823 & 1.10315 & -0.000754777 & 7.66429 & 8.16754e-7 & -6.92754 & 1 \\\\\n",
       "\t46 & 4565 & 14864 & Tengen Toppa Gurren Lagann Movie 2: Lagann-hen & ['Action', 'Mecha', 'Sci-Fi', 'Space', 'Super Power'] & movie & 1135.0 & 7.75314 & -20.44 & 0.826727 & 0.000366159 & 7.33589 & 0.000212498 & -6.92641 & 1 \\\\\n",
       "\t47 & 32836 & 20123 & Senki Zesshou Symphogear AXZ & ['Action', 'Idols (Female)', 'Music', 'Sci-Fi'] & tv & 3535.0 & 7.76334 & -22.5512 & 0.845119 & -0.00365129 & 6.29791 & 3.85041e-5 & -6.91822 & 1 \\\\\n",
       "\t48 & 46095 & 1404 & Vivy: Fluorite Eye's Song & ['Action', 'Music', 'Sci-Fi', 'Suspense', 'Time Travel'] & tv & 395.0 & 8.12919 & -19.2557 & 1.21528 & 0.0598792 & 7.14686 & 0.000546292 & -6.91391 & 1 \\\\\n",
       "\t49 & 40776 & 8909 & Haikyuu!! To the Top Part 2 & ['School', 'Shounen', 'Sports', 'Team Sports'] & tv & 171.0 & 7.83708 & -18.5119 & 0.927916 & 0.00130849 & 7.15138 & 0.000873577 & -6.90917 & 1 \\\\\n",
       "\t50 & 42941 & 9316 & Uma Musume: Pretty Derby (TV) Season 2 & ['Anthropomorphic', 'Sports'] & tv & 3077.0 & 7.82203 & -22.2463 & 0.931705 & 0.00406411 & 6.61651 & 4.73307e-5 & -6.89033 & 1 \\\\\n",
       "\t$\\dots$ & $\\dots$ & $\\dots$ & $\\dots$ & $\\dots$ & $\\dots$ & $\\dots$ & $\\dots$ & $\\dots$ & $\\dots$ & $\\dots$ & $\\dots$ & $\\dots$ & $\\dots$ & $\\dots$ \\\\\n",
       "\\end{tabular}\n"
      ],
      "text/plain": [
       "\u001b[1m6406×14 DataFrame\u001b[0m\n",
       "\u001b[1m  Row \u001b[0m│\u001b[1m anime_id \u001b[0m\u001b[1m uid   \u001b[0m\u001b[1m title                             \u001b[0m\u001b[1m genres                            \u001b[0m\u001b[1m medium  \u001b[0m\u001b[1m ranking \u001b[0m\u001b[1m explicit \u001b[0m\u001b[1m implicit \u001b[0m\u001b[1m error_explicit \u001b[0m\u001b[1m error_implicit \u001b[0m\u001b[1m baseline_explicit \u001b[0m\u001b[1m baseline_implicit \u001b[0m\u001b[1m score     \u001b[0m\u001b[1m display \u001b[0m\n",
       "\u001b[1m      \u001b[0m│\u001b[90m Int64    \u001b[0m\u001b[90m Int64 \u001b[0m\u001b[90m String                            \u001b[0m\u001b[90m String                            \u001b[0m\u001b[90m String7 \u001b[0m\u001b[90m Float32 \u001b[0m\u001b[90m Float32  \u001b[0m\u001b[90m Float32  \u001b[0m\u001b[90m Float32        \u001b[0m\u001b[90m Float32        \u001b[0m\u001b[90m Float32           \u001b[0m\u001b[90m Float32           \u001b[0m\u001b[90m Float32   \u001b[0m\u001b[90m Bool    \u001b[0m\n",
       "──────┼───────────────────────────────────────────────────────────────────────────────────────────────────────────────────────────────────────────────────────────────────────────────────────────────────────────────────────\n",
       "    1 │    34376   1289  Yuuki Yuuna wa Yuusha de Aru: Wa…  ['Drama', 'Fantasy', 'Mahou Shou…  movie     5774.0   9.5254   -23.9332        0.647393     0.0134953              6.80728        1.2696e-5    -8.87801      true\n",
       "    2 │    34375   2707  Yuuki Yuuna wa Yuusha de Aru: Wa…  ['Drama', 'Fantasy', 'Mahou Shou…  movie     5785.0   9.45815  -23.9364        0.711345     0.00828607             6.60721        1.30491e-5   -8.74681      true\n",
       "    3 │    40028   5414  Shingeki no Kyojin: The Final Se…  ['Action', 'Drama', 'Gore', 'Mil…  tv          19.0   9.35344  -17.2434        0.763452     0.00246246             7.4072         0.00219663   -8.58998      true\n",
       "    4 │    34374   7098  Yuuki Yuuna wa Yuusha de Aru: Wa…  ['Drama', 'Fantasy', 'Mahou Shou…  movie     5762.0   9.01315  -23.9261        0.772657     0.0108597              6.29922        1.34938e-5   -8.24049      true\n",
       "    5 │    48583  18963  Shingeki no Kyojin: The Final Se…  ['Action', 'Drama', 'Gore', 'Mil…  tv          67.0   9.11366  -17.8341        0.880222     0.0046387              7.45514        0.00126221   -8.23343      true\n",
       "    6 │    16498   7644  Shingeki no Kyojin                 ['Action', 'Drama', 'Gore', 'Mil…  tv           2.0   8.68123  -16.4992        0.978192     0.00156031             7.04385        0.00424123   -7.70304      true\n",
       "    7 │    38329   4161  Seishun Buta Yarou wa Yumemiru S…  ['Drama', 'Romance', 'School', '…  movie      212.0   8.56422  -18.6953        0.981739     0.0017738              7.2443         0.000822991  -7.58249      true\n",
       "    8 │    29831   1773  Tamayura: Sotsugyou Shashin Part…  ['CGDCT', 'Comedy', 'Drama', 'Iy…  movie     7082.0   8.3159   -24.5703        0.809005     0.0049342              7.18098        8.35044e-6   -7.5069       true\n",
       "    9 │    42587  13295  Yuuki Yuuna wa Yuusha de Aru: Da…  ['Drama', 'Fantasy', 'Mahou Shou…  tv        5010.0   8.29393  -23.5196        0.887041     0.00553287             5.90612        1.62878e-5   -7.40689      true\n",
       "   10 │    42984   8632  Gotcha!                            ['Fantasy', 'Music']               music     2948.0   8.2581   -22.1536        0.878641     0.0325775              7.41328        4.62617e-5   -7.37946      true\n",
       "   11 │    28891   9157  Haikyuu!! Second Season            ['School', 'Shounen', 'Sports', …  tv          68.0   8.39496  -17.8374        1.02178     -0.00678189             7.22776        0.0016207    -7.37318      true\n",
       "   12 │    32935   2448  Haikyuu!!: Karasuno Koukou vs. S…  ['School', 'Shounen', 'Sports', …  tv          95.0   8.37364  -18.0381        1.04885     -0.00921333             7.39082        0.00136979   -7.32479      true\n",
       "   13 │    40664  19524  Shoujo☆Kageki Revue Starlight Mo…  ['Music', 'Performing Arts', 'Sc…  movie     5702.0   8.4648   -23.8923        1.19547     -0.00434823             7.6506         8.32206e-6   -7.26933      true\n",
       "   14 │    38883  14856  Haikyuu!! To the Top               ['School', 'Shounen', 'Sports', …  tv         143.0   8.32505  -18.3386        1.06216     -0.0127391              6.96516        0.00104375   -7.26289      true\n",
       "   15 │    29830  18700  Tamayura: Sotsugyou Shashin Part…  ['CGDCT', 'Comedy', 'Drama', 'Iy…  movie     7203.0   8.01617  -24.6248        0.759477     0.00103954             6.82051        8.19277e-6   -7.25669      true\n",
       "   16 │    21899  15189  Gintama: Yorinuki Gintama-san on…  ['Action', 'Comedy', 'Gag Humor'…  movie     3432.0   8.56406  -22.4928        1.31165      0.0169094              7.16331        3.78766e-5   -7.25241      true\n",
       "   17 │    11979  14471  Mahou Shoujo Madoka★Magica Movie…  ['Drama', 'Mahou Shoujo', 'Psych…  movie     1113.0   7.91513  -20.4202        0.694671    -0.00782789             7.05945        0.000218622  -7.22046      true\n",
       "   18 │    38524  12753  Shingeki no Kyojin Season 3 Part…  ['Action', 'Drama', 'Gore', 'Mil…  tv          17.0   7.99588  -17.1475        0.796689     0.00502999             7.68329        0.00253456   -7.1992       true\n",
       "   19 │     2921   5647  Ashita no Joe 2                    ['Action', 'Combat Sports', 'Dra…  tv        3062.0   8.243    -22.2391        1.0743       0.0219221              8.01768        3.49123e-5   -7.1687       true\n",
       "   20 │    39783  15482  5-toubun no Hanayome ∬             ['Comedy', 'Harem', 'Romance', '…  tv         208.0   8.18507  -18.6861        1.02482     -0.00428852             6.6726         0.000815294  -7.16025      true\n",
       "   21 │    29829  19680  Tamayura: Sotsugyou Shashin Part…  ['CGDCT', 'Comedy', 'Drama', 'Iy…  movie     7060.0   7.90331  -24.5572        0.77651     -0.00719304             6.7538         8.65948e-6   -7.1268       true\n",
       "  ⋮   │    ⋮        ⋮                    ⋮                                  ⋮                     ⋮        ⋮        ⋮         ⋮            ⋮               ⋮                 ⋮                  ⋮              ⋮         ⋮\n",
       " 6387 │    38771    706  Wego Graphics                      ['Music']                          special  15104.0   3.35917  -27.5706        1.39011     -0.000394832            3.17799        3.62651e-7   -1.96906      true\n",
       " 6388 │    30814   5022  Landscape                          ['Avant Garde']                    movie    14068.0   3.61588  -27.3973        1.65797     -2.41515e-5             3.03773        5.58168e-7   -1.9579       true\n",
       " 6389 │    30396   1299  Akai Kutsu! Onnanoko!              ['Avant Garde']                    movie    12097.0   3.30396  -26.8427        1.39011     -0.000394832            3.12285        9.77582e-7   -1.91385      true\n",
       " 6390 │    39718  18195  Jah Jhaka                          ['Music']                          music    15071.0   3.54999  -27.5653        1.65797     -2.41515e-5             3.05893        3.31116e-7   -1.89201      true\n",
       " 6391 │    31139   1802  Ame-iro Cocoa: Rainy Color e You…  ['Comedy', 'Slice of Life', 'Wor…  tv        5568.0   3.58653  -23.8235        1.69614     -0.000405951            3.36621        1.40929e-5   -1.89039      true\n",
       " 6392 │    32293  12520  Kerorinpasu                        ['Music']                          ona      12802.0   3.27576  -27.0836        1.39011     -0.000394832            3.09655        7.75759e-7   -1.88566      true\n",
       " 6393 │    30332  13059  Comics                             ['Avant Garde']                    movie    11500.0   3.57226  -26.6179        1.69614     -0.000405951            3.35142        1.16679e-6   -1.87612      true\n",
       " 6394 │    33861  18204  Nani no Yaku ni Mo Tatanai Karap…  ['Comedy']                         ona      15262.0   3.31361  -27.5936        1.45248     -0.000394832            3.10278        2.96428e-7   -1.86113      true\n",
       " 6395 │    30705   7787  Makura no Danshi                   ['Slice of Life']                  tv        2630.0   3.18157  -21.8553        1.32761      0.0181977              3.02846        5.6151e-5    -1.85396      true\n",
       " 6396 │    39611  18609  Hametarou                          ['Music', 'Parody']                special  15965.0   3.2389   -27.6696        1.44585     -0.000394832            2.98424        2.86968e-7   -1.79305      true\n",
       " 6397 │    22167   8444  Goldfish Fetish                    ['Avant Garde']                    movie    12578.0   3.12427  -27.0109        1.39137     -0.000394832            2.94461        8.16754e-7   -1.7329       true\n",
       " 6398 │     9504  17038  Sakura no Mori                     ['Hentai']                         ova      13452.0   3.31183  -27.2667        1.59812     -0.000394832            3.09906        5.17172e-7   -1.71371      true\n",
       " 6399 │    30669   9158  Why Re-Mix 2002                    ['Avant Garde']                    movie    14406.0   3.36229  -27.4614        1.65296     -0.000394832            2.84266        5.14019e-7   -1.70932      true\n",
       " 6400 │    30329  11997  Nice to See You                    ['Avant Garde']                    movie    13385.0   3.43866  -27.247         1.75057     -0.000394832            2.79995        7.12689e-7   -1.68809      true\n",
       " 6401 │     7343  17793  Youbi Masochist Animation          ['Hentai']                         ova      12888.0   3.05465  -27.1067        1.39137     -0.000394832            2.87198        6.02317e-7   -1.66328      true\n",
       " 6402 │    19315   1837  Pupa                               ['Fantasy', 'Horror', 'Psycholog…  tv        1020.0   2.65556  -20.309         1.1192      -0.00165819             1.93381        0.000241819  -1.53636      true\n",
       " 6403 │    33696  15672  3D Onara Gorou ga Dance Dance Da…  ['Comedy', 'Music']                music     6582.0   3.3547   -24.3312        1.95092     -0.000394832            2.79881        5.72674e-6   -1.40378      true\n",
       " 6404 │     5547  13091  Kateikyoushi Bishounen Kari        ['Hentai']                         ova      12299.0   2.76982  -26.917         1.38438      7.85661e-5             2.63917        8.23061e-7   -1.38544      true\n",
       " 6405 │    30665   8462  4.Eyes                             ['Avant Garde']                    movie    11013.0   2.85499  -26.4195        1.51785      7.85661e-5             2.58161        1.40015e-6   -1.33714      true\n",
       " 6406 │    32294  11908  Ai (ONA)                           ['Romance']                        ona       5936.0   2.64345  -24.0134        1.64647     -0.00753828             1.92978        7.60622e-6   -0.996987     true\n",
       "\u001b[36m                                                                                                                                                                                                             6365 rows omitted\u001b[0m"
      ]
     },
     "execution_count": 13,
     "metadata": {},
     "output_type": "execute_result"
    }
   ],
   "source": [
    "df = copy(rec_df)\n",
    "df[:, \"score\"] = -(df[:, \"explicit\"] - df[:, \"error_explicit\"]);\n",
    "filter(x -> x.explicit - x.baseline_explicit > 0.1, df) |> pretty_display"
   ]
  },
  {
   "cell_type": "code",
   "execution_count": 14,
   "id": "0c37685d-f011-4643-8a41-2806d87c8b36",
   "metadata": {},
   "outputs": [],
   "source": [
    "# \tanime_id\tuid\ttitle\tgenres\tmedium\trating\talpha\tstd\tp\tnsfw\n",
    "# Int64\tInt64\tString\tString?\tString7\tFloat32\tFloat32\tFloat32\tFloat32\tString7\n",
    "# 1\t31988\t11173\tHibike! Euphonium 2\t['Drama', 'Music', 'School']\ttv\t7.38253\t0.356698\t0.792334\t0.00168306\twhite\n",
    "# 2\t1065\t967\tTouch\t['Drama', 'Romance', 'School', 'Shounen', 'Slice of Life', 'Sports']\ttv\t7.34929\t0.467546\t0.908755\t0.00076882\twhite\n",
    "# 3\t27989\t9666\tHibike! Euphonium\t['Drama', 'Music', 'School']\ttv\t7.23239\t0.571174\t0.868754\t0.00258483\twhite\n",
    "# 4\t1858\t1694\tGakuen Utopia Manabi Straight!\t['Comedy', 'School', 'Slice of Life']\ttv\t7.09079\t1.20158\t0.729596\t0.00062308\twhite\n",
    "# 5\t25835\t9373\tShirobako\t['Comedy', 'Drama']\ttv\t7.14048\t0.161561\t0.805839\t0.00261632\twhite\n",
    "# 6\t5941\t4377\tCross Game\t['Comedy', 'Drama', 'Romance', 'School', 'Shounen', 'Sports']\ttv\t7.23503\t0.154975\t0.9538\t0.00104641\twhite\n",
    "# 7\t39570\t15596\tHigh Score Girl II\t['Comedy', 'Game', 'Romance', 'School', 'Seinen']\ttv\t7.01997\t0.324915\t0.878117\t0.000592566\twhite\n",
    "# 8\t1530\t1388\tKanon (2006)\t['Drama', 'Romance', 'Slice of Life', 'Supernatural']\ttv\t7.16325\t0.720318\t1.03834\t0.00227492\twhite\n",
    "# 9\t488\t458\tIchigo Mashimaro\t['Comedy', 'Slice of Life']\ttv\t6.9334\t0.724677\t0.852129\t0.00104676\twhite\n",
    "# 10\t122\t101\tFull Moon wo Sagashite\t['Comedy', 'Drama', 'Music', 'Romance', 'Shoujo', 'Supernatural']\ttv\t6.94031\t0.727181\t0.869193\t0.000667557\twhite\n",
    "# 11\t21877\t8534\tHigh Score Girl\t['Comedy', 'Game', 'Romance', 'School', 'Seinen']\ttv\t6.88657\t0.471743\t0.941942\t0.000968524\twhite\n",
    "# 12\t38993\t15192\tKarakai Jouzu no Takagi-san 2\t['Comedy', 'Romance', 'School', 'Shounen', 'Slice of Life']\ttv\t6.78872\t0.179552\t0.993493\t0.000348786\twhite\n",
    "# 13\t532\t499\tBishoujo Senshi Sailor Moon S\t['Drama', 'Romance', 'Shoujo']\ttv\t6.63147\t0.41036\t0.84895\t0.000437212\twhite\n",
    "# 14\t135\t114\tHikaru no Go\t['Comedy', 'Game', 'Shounen', 'Supernatural']\ttv\t6.74995\t0.153899\t1.02637\t0.000676344\twhite\n",
    "# 15\t30727\t10611\tSaenai Heroine no Sodatekata ♭\t['Comedy', 'Ecchi', 'Harem', 'Romance', 'School']\ttv\t6.59874\t0.364116\t0.876918\t0.000742145\twhite\n",
    "# 16\t593\t556\tMugen no Ryvius\t['Drama', 'Mecha', 'Military', 'Psychological', 'Sci-Fi', 'Space']\ttv\t6.68717\t0.304934\t0.972565\t0.00101426\twhite\n",
    "# 17\t34902\t12650\tTsurezure Children\t['Comedy', 'Romance', 'School', 'Shounen']\ttv\t6.51234\t0.364974\t0.807823\t0.00102669\twhite\n",
    "# 18\t59\t40\tChobits\t['Comedy', 'Drama', 'Ecchi', 'Romance', 'Sci-Fi', 'Seinen']\ttv\t6.6161\t0.883723\t0.948174\t0.00179486\twhite\n",
    "# 19\t38753\t15022\tAraburu Kisetsu no Otome-domo yo.\t['Comedy', 'Drama', 'Romance', 'School', 'Shounen']\ttv\t6.52573\t0.495667\t0.864833\t0.000905996\twhite\n",
    "# 20\t31771\t11089\tAmanchu!\t['Comedy', 'School', 'Shounen', 'Slice of Life']\ttv\t6.58394\t0.685901\t0.926502\t0.000584655\twhite\n",
    "# 21\t35860\t13252\tKarakai Jouzu no Takagi-san\t['Comedy', 'Romance', 'School', 'Shounen', 'Slice of Life']\ttv\t6.59876\t0.432538\t0.977115\t0.000852553\twhite\n",
    "# 22\t427\t400\tKaleido Star\t['Comedy', 'Drama', 'Fantasy', 'Shoujo', 'Sports']\ttv\t6.57368\t0.344165\t0.97538\t0.000534053\twhite\n",
    "# 23\t40530\t16120\tJaku-Chara Tomozaki-kun\t['Drama', 'Romance', 'School']\ttv\t6.47727\t0.923203\t0.894883\t0.000440828\twhite\n",
    "# 24\t874\t789\tDigimon Tamers\t['Adventure', 'Comedy', 'Drama', 'Fantasy', 'Shounen']\ttv\t6.52593\t0.48561\t0.980111\t0.000362535\twhite\n",
    "# 25\t35240\t12889\tPrincess Principal\t['Action', 'Historical', 'Mystery']\ttv\t6.5926\t0.377174\t1.06195\t0.000912882\twhite\n",
    "# 26\t42361\t16907\tIjiranaide, Nagatoro-san\t['Comedy', 'Romance', 'Slice of Life']\ttv\t6.60228\t0.83992\t1.08517\t0.000529261\twhite\n",
    "# 27\t18897\t7968\tNisekoi\t['Comedy', 'Harem', 'Romance', 'School', 'Shounen']\ttv\t6.31667\t0.286932\t0.808886\t0.00141164\twhite\n",
    "# 28\t1486\t1348\tKodomo no Omocha (TV)\t['Comedy', 'Drama', 'Romance', 'Shoujo']\ttv\t6.56859\t0.231561\t1.06944\t0.000533452\twhite\n",
    "# 29\t35639\t13136\tJust Because!\t['Drama', 'Romance', 'School', 'Slice of Life']\ttv\t6.46695\t0.763056\t0.99794\t0.000684533\twhite\n",
    "# 30\t1222\t1114\tBokura ga Ita\t['Drama', 'Romance', 'Shoujo', 'Slice of Life']\ttv\t6.70307\t1.16039\t1.23905\t0.000494813\twhite\n",
    "# 31\t41619\t16653\tMunou na Nana\t['Psychological', 'Shounen', 'Super Power', 'Supernatural', 'Suspense']\ttv\t6.41985\t0.698886\t0.958501\t0.000440847\twhite\n",
    "# 32\t14131\t7087\tGirls & Panzer\t['Action', 'Military', 'School', 'Sports']\ttv\t6.55237\t0.586552\t1.13453\t0.00168731\twhite\n",
    "# 33\t552\t517\tDigimon Adventure\t['Action', 'Adventure', 'Comedy', 'Fantasy', 'Kids']\ttv\t6.55298\t0.365117\t1.13609\t0.000609451\twhite\n",
    "# 34\t40685\t16205\tSuper Cub\t['School', 'Slice of Life']\ttv\t6.35695\t0.364119\t0.944397\t0.000580612\twhite\n",
    "# 35\t37890\t14482\tOshi ga Budoukan Ittekuretara Shinu\t['Comedy', 'Girls Love', 'Music', 'Seinen', 'Slice of Life']\ttv\t6.20357\t0.206216\t0.801772\t0.000379987\twhite\n",
    "# 36\t34984\t12704\tKoi wa Ameagari no You ni\t['Drama', 'Romance', 'Seinen', 'Slice of Life']\ttv\t6.56196\t0.419388\t1.16207\t0.00116559\twhite\n",
    "# 37\t3958\t3399\tKannagi\t['Comedy', 'School', 'Shounen', 'Supernatural']\ttv\t6.24875\t0.494657\t0.866859\t0.00120494\twhite\n",
    "# 38\t31859\t11120\tHai to Gensou no Grimgar\t['Action', 'Adventure', 'Drama', 'Fantasy']\ttv\t6.24894\t0.166416\t0.876223\t0.000963634\twhite\n",
    "# 39\t13333\t6942\tTari Tari\t['Music', 'School', 'Slice of Life']\ttv\t6.24726\t0.466783\t0.878362\t0.00116383\twhite\n",
    "# 40\t587\t550\tHanbun no Tsuki ga Noboru Sora\t['Comedy', 'Drama', 'Romance']\ttv\t6.30107\t0.38663\t0.960221\t0.00128816\twhite\n",
    "# 41\t8861\t5539\tYosuga no Sora: In Solitude, Where We Are Least Alone.\t['Drama', 'Ecchi', 'Harem', 'Romance']\ttv\t7.46844\t3.02749\t2.15606\t0.00104767\tgray\n",
    "# 42\t2986\t2716\tBamboo Blade\t['Comedy', 'School', 'Seinen', 'Sports']\ttv\t6.17986\t0.452029\t0.868882\t0.000749638\twhite\n",
    "# 43\t35756\t13204\tComic Girls\t['Comedy', 'Slice of Life']\ttv\t6.22388\t0.350058\t0.919891\t0.000430328\twhite\n",
    "# 44\t1087\t987\tKimagure Orange☆Road\t['Comedy', 'Drama', 'Romance', 'School', 'Shounen', 'Slice of Life', 'Super Power']\ttv\t6.38255\t0.190579\t1.07896\t0.000837759\twhite\n",
    "# 45\t12149\t6691\tAKB0048\t['Music', 'Sci-Fi']\ttv\t6.26354\t0.61283\t0.960399\t0.00053292\twhite\n",
    "# 46\t330\t306\tMidori no Hibi\t['Comedy', 'Drama', 'Ecchi', 'Romance', 'Shounen']\ttv\t6.17071\t0.533026\t0.875367\t0.00092522\twhite\n",
    "# 47\t46093\t17949\tShiroi Suna no Aquatope\t['Drama', 'Slice of Life']\ttv\t6.36729\t0.377252\t1.0729\t0.000547827\twhite\n",
    "# 48\t5150\t3975\tHatsukoi Limited.\t['Comedy', 'Romance', 'School', 'Shounen']\ttv\t6.09554\t0.397329\t0.811726\t0.000535075\twhite\n",
    "# 49\t740\t677\tBishoujo Senshi Sailor Moon R\t['Demons', 'Romance', 'Shoujo']\ttv\t6.29016\t0.24701\t1.00655\t0.000616277\twhite\n",
    "# 50\t37982\t14550\tDomestic na Kanojo\t['Drama', 'Romance', 'School', "
   ]
  },
  {
   "cell_type": "code",
   "execution_count": null,
   "id": "6a403abe-f9d6-450e-8f67-29916098f252",
   "metadata": {},
   "outputs": [],
   "source": []
  }
 ],
 "metadata": {
  "kernelspec": {
   "display_name": "Julia 1.8.0-rc1",
   "language": "julia",
   "name": "julia-1.8"
  },
  "language_info": {
   "file_extension": ".jl",
   "mimetype": "application/julia",
   "name": "julia",
   "version": "1.8.0"
  }
 },
 "nbformat": 4,
 "nbformat_minor": 5
}
