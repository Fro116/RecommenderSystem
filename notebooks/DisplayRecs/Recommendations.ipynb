{
 "cells": [
  {
   "cell_type": "code",
   "execution_count": null,
   "id": "240e43fd-abc8-4d44-a3d6-85293d0dd756",
   "metadata": {},
   "outputs": [],
   "source": [
    "source = \"Recommendations\";"
   ]
  },
  {
   "cell_type": "code",
   "execution_count": null,
   "id": "ba187524-034d-40f6-9e40-0ab5123e36bb",
   "metadata": {},
   "outputs": [],
   "source": [
    "using NBInclude\n",
    "@nbinclude(\"../ProductionAlphas/Alpha.ipynb\");"
   ]
  },
  {
   "cell_type": "code",
   "execution_count": null,
   "id": "2dc4c5b5-a759-463c-b163-e47fd461a554",
   "metadata": {},
   "outputs": [],
   "source": [
    "ENV[\"COLUMNS\"] = 999999;\n",
    "ENV[\"LINES\"] = 100;\n",
    "recommend_related_series = false;"
   ]
  },
  {
   "cell_type": "code",
   "execution_count": null,
   "id": "20127075-7c57-4629-9283-d1f18a8ff2bb",
   "metadata": {},
   "outputs": [],
   "source": [
    "anime = DataFrame(CSV.File(\"../../data/raw_data/anime.csv\", ntasks = 1))\n",
    "anime_to_uid = DataFrame(CSV.File(\"../../data/processed_data/anime_to_uid.csv\"))\n",
    "anime_to_uid = innerjoin(anime_to_uid, anime, on = \"anime_id\");"
   ]
  },
  {
   "cell_type": "code",
   "execution_count": null,
   "id": "9fa0327c-2d09-4040-8819-32125a957f15",
   "metadata": {
    "tags": []
   },
   "outputs": [],
   "source": [
    "predictions = read_recommendee_alpha(\"CombineSignals\").rating\n",
    "rating_df = DataFrame(\n",
    "    \"uid\" => 0:length(predictions)-1,\n",
    "    \"rating\" => predictions,\n",
    "    \"alpha\" => predictions - read_recommendee_alpha(\"UserItemBiases\").rating,\n",
    "    \"std\" => read_recommendee_alpha(\"PredictedErrors\").rating,\n",
    ");\n",
    "rating_df.score = rating_df.rating - 2 * rating_df.std;"
   ]
  },
  {
   "cell_type": "code",
   "execution_count": null,
   "id": "89a34ece-a029-4b79-98a8-743d7aa89b22",
   "metadata": {},
   "outputs": [],
   "source": [
    "# evaluate our insample predictions\n",
    "df = get_recommendee_list()\n",
    "@debug rmse(df.rating, predictions[df.item])\n",
    "@debug mae(df.rating, predictions[df.item])\n",
    "@debug r2(df.rating, predictions[df.item])"
   ]
  },
  {
   "cell_type": "code",
   "execution_count": null,
   "id": "24345713-0e5e-4d52-89a2-16dd2b5d3f96",
   "metadata": {
    "tags": []
   },
   "outputs": [],
   "source": [
    "# don't recommend shows that the user has already seen before\n",
    "function dont_recommend!(df, mask)\n",
    "    df.rating[mask] .= 0\n",
    "    df.alpha[mask] .= 0\n",
    "    df.score[mask] .= -Inf\n",
    "end\n",
    "\n",
    "dont_recommend!(rating_df, get_recommendee_list().item)\n",
    "dont_recommend!(rating_df, get_implicit_list().item)\n",
    "\n",
    "if !recommend_related_series\n",
    "    related_series =\n",
    "        get_alpha(\"ItemCFRelated.strict_relations\", \"recommendee_inference\").rating .!= 0\n",
    "    dont_recommend!(rating_df, related_series)\n",
    "end;"
   ]
  },
  {
   "cell_type": "code",
   "execution_count": null,
   "id": "2f87ebbf-d246-43cc-8b07-79b4929318ea",
   "metadata": {},
   "outputs": [],
   "source": [
    "rec_df = innerjoin(anime_to_uid, rating_df, on = \"uid\");\n",
    "rec_df = rec_df[\n",
    "    :,\n",
    "    [\"anime_id\", \"uid\", \"title\", \"genres\", \"medium\", \"rating\", \"alpha\", \"std\", \"score\"],\n",
    "];"
   ]
  },
  {
   "cell_type": "code",
   "execution_count": null,
   "id": "43369775-7454-4784-8be2-c9dfbc828690",
   "metadata": {},
   "outputs": [],
   "source": [
    "length(get_recommendee_list().item) + length(get_implicit_list().item)"
   ]
  },
  {
   "cell_type": "code",
   "execution_count": null,
   "id": "e3bc9c36-6023-425b-9f9c-ce3c7e29dc5c",
   "metadata": {},
   "outputs": [],
   "source": [
    "# the model predicts ratings conditional on the user watching the series\n",
    "# we want to predict ratings for items the user has not already decided to watch\n",
    "# to mitigate the sampling bias, we first filter to series that the user is likely to be interested in\n",
    "# TODO find how to send this automatically\n",
    "min_alpha = 0.2"
   ]
  },
  {
   "cell_type": "code",
   "execution_count": null,
   "id": "ad91f3a1-3446-41b0-a2f4-1e6554182551",
   "metadata": {},
   "outputs": [],
   "source": [
    "sort!(\n",
    "    filter(x -> x.alpha .> min_alpha, filter(x -> x.medium == \"tv\", rec_df)),\n",
    "    :score,\n",
    "    rev = true,\n",
    ")"
   ]
  },
  {
   "cell_type": "code",
   "execution_count": null,
   "id": "f11991a0-e1a9-48c9-be63-99923a5f67da",
   "metadata": {},
   "outputs": [],
   "source": [
    "sort!(\n",
    "    filter(x -> x.alpha .> min_alpha, filter(x -> x.medium == \"tv\", rec_df)),\n",
    "    :score,\n",
    "    rev = true,\n",
    ").title[1:30]"
   ]
  },
  {
   "cell_type": "code",
   "execution_count": null,
   "id": "59598a98-b265-4727-8afe-2c7a49cb0e59",
   "metadata": {},
   "outputs": [],
   "source": [
    "sort!(filter(x -> x.alpha .> 0, filter(x -> x.medium == \"tv\", rec_df)), :score, rev = true)"
   ]
  },
  {
   "cell_type": "code",
   "execution_count": null,
   "id": "139637ed-279e-4ba9-b28f-05239c853559",
   "metadata": {},
   "outputs": [],
   "source": [
    "sort!(filter(x -> x.alpha .> 0, filter(x -> x.medium == \"tv\", rec_df)), :rating, rev = true)"
   ]
  },
  {
   "cell_type": "code",
   "execution_count": null,
   "id": "cac84730-10b8-46b2-a9cb-91ea7494988d",
   "metadata": {},
   "outputs": [],
   "source": [
    "sort!(filter(x -> x.alpha > min_alpha, rec_df), :score, rev = true)"
   ]
  },
  {
   "cell_type": "code",
   "execution_count": null,
   "id": "db68f808-db9c-4bff-8378-81ebd16b1ca5",
   "metadata": {},
   "outputs": [],
   "source": []
  }
 ],
 "metadata": {
  "kernelspec": {
   "display_name": "Julia 1.6.3",
   "language": "julia",
   "name": "julia-1.6"
  },
  "language_info": {
   "file_extension": ".jl",
   "mimetype": "application/julia",
   "name": "julia",
   "version": "1.6.3"
  }
 },
 "nbformat": 4,
 "nbformat_minor": 5
}
