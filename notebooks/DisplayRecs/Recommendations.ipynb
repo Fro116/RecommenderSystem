{
 "cells": [
  {
   "cell_type": "code",
   "execution_count": 1,
   "id": "240e43fd-abc8-4d44-a3d6-85293d0dd756",
   "metadata": {},
   "outputs": [],
   "source": [
    "source = \"Recommendations\";"
   ]
  },
  {
   "cell_type": "code",
   "execution_count": 2,
   "id": "ba187524-034d-40f6-9e40-0ab5123e36bb",
   "metadata": {},
   "outputs": [],
   "source": [
    "using DataFrames\n",
    "import CSV\n",
    "import NBInclude: @nbinclude\n",
    "import Statistics: mean\n",
    "@nbinclude(\"../InferenceAlphas/Alpha.ipynb\");"
   ]
  },
  {
   "cell_type": "code",
   "execution_count": 3,
   "id": "2dc4c5b5-a759-463c-b163-e47fd461a554",
   "metadata": {},
   "outputs": [],
   "source": [
    "ENV[\"COLUMNS\"] = 999999;\n",
    "ENV[\"LINES\"] = 50;\n",
    "recommend_related_series = false;"
   ]
  },
  {
   "cell_type": "code",
   "execution_count": 4,
   "id": "20127075-7c57-4629-9283-d1f18a8ff2bb",
   "metadata": {},
   "outputs": [],
   "source": [
    "const anime = DataFrame(CSV.File(\"../../data/processed_data/anime.csv\", ntasks = 1))\n",
    "anime_to_uid = DataFrame(CSV.File(\"../../data/processed_data/anime_to_uid.csv\"))\n",
    "anime_to_uid = innerjoin(anime_to_uid, anime, on = \"anime_id\");"
   ]
  },
  {
   "cell_type": "code",
   "execution_count": 5,
   "id": "9fa0327c-2d09-4040-8819-32125a957f15",
   "metadata": {
    "tags": []
   },
   "outputs": [],
   "source": [
    "rating_df = DataFrame(\n",
    "    \"uid\" => 0:num_items()-1,\n",
    "    \"ranking\" => read_recommendee_alpha(\"BPR\", \"all\").rating,\n",
    "    \"explicit\" => read_recommendee_alpha(\"Explicit\", \"all\").rating,\n",
    "    \"implicit\" => read_recommendee_alpha(\"LinearImplicit\", \"all\").rating,\n",
    "    \"error_explicit\" => read_recommendee_alpha(\"ErrorExplicit\", \"all\").rating,\n",
    "    \"error_implicit\" => read_recommendee_alpha(\"ErrorImplicit\", \"all\").rating,\n",
    "    \"baseline_explicit\" =>\n",
    "        read_recommendee_alpha(\"ExplicitUserItemBiases\", \"all\").rating,\n",
    "    \"baseline_implicit\" =>\n",
    "        read_recommendee_alpha(\"NeuralImplicitUserItemBiases\", \"all\").rating,\n",
    ")\n",
    "rating_df[:, \"score\"] = rating_df[:, \"ranking\"];"
   ]
  },
  {
   "cell_type": "code",
   "execution_count": 6,
   "id": "89a34ece-a029-4b79-98a8-743d7aa89b22",
   "metadata": {},
   "outputs": [
    {
     "name": "stderr",
     "output_type": "stream",
     "text": [
      "\u001b[38;5;6m\u001b[1m[ \u001b[22m\u001b[39m\u001b[38;5;6m\u001b[1mInfo: \u001b[22m\u001b[39m20220630 10:59:07 RMSE: 1.4020191\n",
      "\u001b[38;5;6m\u001b[1m[ \u001b[22m\u001b[39m\u001b[38;5;6m\u001b[1mInfo: \u001b[22m\u001b[39m20220630 10:59:07 R2: 0.3389331\n"
     ]
    }
   ],
   "source": [
    "# evaluate our insample explicit predictions\n",
    "df = get_recommendee_split(false)\n",
    "rss = sum((df.rating - rating_df.explicit[df.item]) .^ 2)\n",
    "tss = sum((df.rating .- mean(df.rating)) .^ 2)\n",
    "@info \"RMSE: $(sqrt(rss / length(df.rating)))\"\n",
    "@info \"R2: $(1 - rss / tss)\""
   ]
  },
  {
   "cell_type": "code",
   "execution_count": 7,
   "id": "d22dd3b0-e1d7-4533-a054-cb8986d45bb4",
   "metadata": {},
   "outputs": [],
   "source": [
    "# [ Info: 20220629 11:36:49 RMSE: 1.4760647\n",
    "# [ Info: 20220629 11:36:49 R2: 0.2672627"
   ]
  },
  {
   "cell_type": "code",
   "execution_count": 8,
   "id": "d2190fce-991a-487a-8cb3-ca7a1a8c17b8",
   "metadata": {},
   "outputs": [
    {
     "name": "stderr",
     "output_type": "stream",
     "text": [
      "\u001b[38;5;6m\u001b[1m[ \u001b[22m\u001b[39m\u001b[38;5;6m\u001b[1mInfo: \u001b[22m\u001b[39m20220630 10:59:07 Cross-entropy: 7.4751287\n"
     ]
    }
   ],
   "source": [
    "# evaluate our insample implicit predictions\n",
    "df = get_recommendee_split(true)\n",
    "p = rating_df.implicit[df.item]\n",
    "y = df.rating / length(df.rating)\n",
    "@info \"Cross-entropy: $(sum(-y .* log.(p)))\""
   ]
  },
  {
   "cell_type": "code",
   "execution_count": 9,
   "id": "33b47ef2-d558-42c1-990c-de1c91143d51",
   "metadata": {},
   "outputs": [],
   "source": [
    "# [ Info: 20220626 22:59:13 RMSE: 1.4526845\n",
    "# [ Info: 20220626 22:59:13 R2: 0.29029125"
   ]
  },
  {
   "cell_type": "code",
   "execution_count": 10,
   "id": "24345713-0e5e-4d52-89a2-16dd2b5d3f96",
   "metadata": {
    "tags": []
   },
   "outputs": [],
   "source": [
    "# don't recommend shows that the user has already seen before\n",
    "rating_df[:, \"display\"] .= true\n",
    "seen_items = vcat(get_recommendee_split(true).item, get_recommendee_split(false).item)\n",
    "rating_df.display[seen_items] .= false\n",
    "\n",
    "# don't recommend shows related to shows they have seen before\n",
    "if !recommend_related_series\n",
    "    related_series = read_recommendee_alpha(\"ItemCFRelated\", \"all\").rating .!= 0\n",
    "    rating_df.display[related_series] .= false\n",
    "end;"
   ]
  },
  {
   "cell_type": "code",
   "execution_count": 11,
   "id": "2f87ebbf-d246-43cc-8b07-79b4929318ea",
   "metadata": {},
   "outputs": [],
   "source": [
    "rec_df = innerjoin(anime_to_uid, rating_df, on = \"uid\");\n",
    "keepcols = [\"anime_id\", \"uid\", \"title\", \"genres\", \"medium\"]\n",
    "for x in names(rating_df)\n",
    "    if x ∉ keepcols\n",
    "        push!(keepcols, x)\n",
    "    end\n",
    "end\n",
    "rec_df = rec_df[:, keepcols];"
   ]
  },
  {
   "cell_type": "code",
   "execution_count": 12,
   "id": "43369775-7454-4784-8be2-c9dfbc828690",
   "metadata": {},
   "outputs": [
    {
     "data": {
      "text/plain": [
       "(441, 443)"
      ]
     },
     "execution_count": 12,
     "metadata": {},
     "output_type": "execute_result"
    }
   ],
   "source": [
    "length(get_recommendee_split(false).item), length(get_recommendee_split(true).item)"
   ]
  },
  {
   "cell_type": "code",
   "execution_count": 13,
   "id": "87d0ac7b-9f8d-4d5d-ab59-ad8e65a6d948",
   "metadata": {},
   "outputs": [],
   "source": [
    "function pretty_display(df)\n",
    "    sort(filter(x -> x.display, df), :score)\n",
    "end;"
   ]
  },
  {
   "cell_type": "code",
   "execution_count": 14,
   "id": "ed168f16-b287-4565-bf0d-4781e27c016a",
   "metadata": {
    "tags": []
   },
   "outputs": [
    {
     "data": {
      "text/html": [
       "<div class=\"data-frame\"><p>5,432 rows × 14 columns</p><table class=\"data-frame\"><thead><tr><th></th><th>anime_id</th><th>uid</th><th>title</th><th>genres</th><th>medium</th><th>ranking</th><th>explicit</th><th>implicit</th><th>error_explicit</th><th>error_implicit</th><th>baseline_explicit</th><th>baseline_implicit</th><th>score</th><th>display</th></tr><tr><th></th><th title=\"Int64\">Int64</th><th title=\"Int64\">Int64</th><th title=\"String\">String</th><th title=\"String\">String</th><th title=\"InlineStrings.String7\">String7</th><th title=\"Float32\">Float32</th><th title=\"Float32\">Float32</th><th title=\"Float32\">Float32</th><th title=\"Float32\">Float32</th><th title=\"Float32\">Float32</th><th title=\"Float32\">Float32</th><th title=\"Float32\">Float32</th><th title=\"Float32\">Float32</th><th title=\"Bool\">Bool</th></tr></thead><tbody><tr><th>1</th><td>36259</td><td>10474</td><td>Pingu in the City</td><td>[&apos;Comedy&apos;, &apos;Kids&apos;, &apos;Slice of Life&apos;]</td><td>tv</td><td>54.0</td><td>7.32275</td><td>6.53317e-5</td><td>1.07801</td><td>0.0401608</td><td>7.07446</td><td>5.37744e-5</td><td>54.0</td><td>1</td></tr><tr><th>2</th><td>38524</td><td>12753</td><td>Shingeki no Kyojin Season 3 Part 2</td><td>[&apos;Action&apos;, &apos;Drama&apos;, &apos;Gore&apos;, &apos;Military&apos;, &apos;Shounen&apos;, &apos;Survival&apos;]</td><td>tv</td><td>71.0</td><td>7.52367</td><td>0.00040463</td><td>0.828919</td><td>0.0185988</td><td>7.72584</td><td>0.00452048</td><td>71.0</td><td>1</td></tr><tr><th>3</th><td>32843</td><td>3602</td><td>Senki Zesshou Symphogear XV</td><td>[&apos;Action&apos;, &apos;Idols (Female)&apos;, &apos;Music&apos;, &apos;Sci-Fi&apos;]</td><td>tv</td><td>79.0</td><td>7.49684</td><td>0.000146658</td><td>0.793819</td><td>0.0201014</td><td>6.98418</td><td>1.68961e-5</td><td>79.0</td><td>1</td></tr><tr><th>4</th><td>11061</td><td>7814</td><td>Hunter x Hunter (2011)</td><td>[&apos;Action&apos;, &apos;Adventure&apos;, &apos;Fantasy&apos;, &apos;Shounen&apos;]</td><td>tv</td><td>81.0</td><td>7.38618</td><td>0.000822997</td><td>1.03435</td><td>0.0217475</td><td>7.61737</td><td>0.00509626</td><td>81.0</td><td>1</td></tr><tr><th>5</th><td>16498</td><td>7644</td><td>Shingeki no Kyojin</td><td>[&apos;Action&apos;, &apos;Drama&apos;, &apos;Gore&apos;, &apos;Military&apos;, &apos;Shounen&apos;, &apos;Survival&apos;]</td><td>tv</td><td>92.0</td><td>7.12432</td><td>0.00130991</td><td>0.83693</td><td>0.0212263</td><td>7.0864</td><td>0.00864467</td><td>92.0</td><td>1</td></tr><tr><th>6</th><td>32836</td><td>20123</td><td>Senki Zesshou Symphogear AXZ</td><td>[&apos;Action&apos;, &apos;Idols (Female)&apos;, &apos;Music&apos;, &apos;Sci-Fi&apos;]</td><td>tv</td><td>100.0</td><td>7.32192</td><td>0.000144378</td><td>0.887158</td><td>0.0189914</td><td>6.34046</td><td>2.03424e-5</td><td>100.0</td><td>1</td></tr><tr><th>7</th><td>42941</td><td>9316</td><td>Uma Musume: Pretty Derby (TV) Season 2</td><td>[&apos;Anthropomorphic&apos;, &apos;Sports&apos;]</td><td>tv</td><td>138.0</td><td>7.20405</td><td>0.000149508</td><td>0.776613</td><td>0.0174649</td><td>6.65906</td><td>2.75943e-5</td><td>138.0</td><td>1</td></tr><tr><th>8</th><td>2164</td><td>4538</td><td>Dennou Coil</td><td>[&apos;Adventure&apos;, &apos;Comedy&apos;, &apos;Drama&apos;, &apos;Mystery&apos;, &apos;Sci-Fi&apos;]</td><td>tv</td><td>142.0</td><td>6.91257</td><td>0.00270957</td><td>0.673864</td><td>0.0277175</td><td>6.93308</td><td>7.60008e-5</td><td>142.0</td><td>1</td></tr><tr><th>9</th><td>21573</td><td>15434</td><td>Senki Zesshou Symphogear GX</td><td>[&apos;Action&apos;, &apos;Idols (Female)&apos;, &apos;Music&apos;, &apos;Sci-Fi&apos;]</td><td>tv</td><td>158.0</td><td>7.11156</td><td>0.000140783</td><td>0.855747</td><td>0.0174807</td><td>6.1225</td><td>2.88984e-5</td><td>158.0</td><td>1</td></tr><tr><th>10</th><td>1065</td><td>2038</td><td>Touch</td><td>[&apos;Drama&apos;, &apos;Love Polygon&apos;, &apos;Romance&apos;, &apos;School&apos;, &apos;Shounen&apos;, &apos;Slice of Life&apos;, &apos;Sports&apos;, &apos;Team Sports&apos;]</td><td>tv</td><td>160.0</td><td>7.12212</td><td>0.000269041</td><td>0.770259</td><td>0.0190513</td><td>6.94942</td><td>1.48876e-5</td><td>160.0</td><td>1</td></tr><tr><th>11</th><td>46102</td><td>6211</td><td>Odd Taxi</td><td>[&apos;Anthropomorphic&apos;, &apos;Mystery&apos;]</td><td>tv</td><td>161.0</td><td>7.061</td><td>0.0010385</td><td>0.708776</td><td>0.0224944</td><td>7.63224</td><td>0.000455196</td><td>161.0</td><td>1</td></tr><tr><th>12</th><td>19</td><td>17026</td><td>Monster</td><td>[&apos;Adult Cast&apos;, &apos;Drama&apos;, &apos;Mystery&apos;, &apos;Psychological&apos;, &apos;Seinen&apos;, &apos;Suspense&apos;]</td><td>tv</td><td>164.0</td><td>7.0528</td><td>0.00133912</td><td>0.837758</td><td>0.0224944</td><td>7.63481</td><td>0.000990614</td><td>164.0</td><td>1</td></tr><tr><th>13</th><td>25777</td><td>8685</td><td>Shingeki no Kyojin Season 2</td><td>[&apos;Action&apos;, &apos;Drama&apos;, &apos;Gore&apos;, &apos;Military&apos;, &apos;Shounen&apos;, &apos;Survival&apos;]</td><td>tv</td><td>165.0</td><td>6.9569</td><td>0.000668633</td><td>0.780924</td><td>0.0205235</td><td>7.14079</td><td>0.00522014</td><td>165.0</td><td>1</td></tr><tr><th>14</th><td>35760</td><td>19030</td><td>Shingeki no Kyojin Season 3</td><td>[&apos;Action&apos;, &apos;Drama&apos;, &apos;Gore&apos;, &apos;Military&apos;, &apos;Shounen&apos;, &apos;Survival&apos;]</td><td>tv</td><td>166.0</td><td>6.98332</td><td>0.000457668</td><td>0.840726</td><td>0.0207617</td><td>7.27382</td><td>0.00451671</td><td>166.0</td><td>1</td></tr><tr><th>15</th><td>25835</td><td>1337</td><td>Shirobako</td><td>[&apos;Adult Cast&apos;, &apos;Comedy&apos;, &apos;Drama&apos;, &apos;Otaku Culture&apos;, &apos;Workplace&apos;]</td><td>tv</td><td>176.0</td><td>6.93675</td><td>0.00202575</td><td>0.678229</td><td>0.0217408</td><td>7.01784</td><td>0.000255512</td><td>176.0</td><td>1</td></tr><tr><th>16</th><td>31988</td><td>13387</td><td>Hibike! Euphonium 2</td><td>[&apos;Drama&apos;, &apos;Music&apos;, &apos;Performing Arts&apos;, &apos;School&apos;]</td><td>tv</td><td>177.0</td><td>7.00893</td><td>0.000880315</td><td>0.624756</td><td>0.0196133</td><td>7.1152</td><td>0.000182295</td><td>177.0</td><td>1</td></tr><tr><th>17</th><td>1530</td><td>4298</td><td>Kanon (2006)</td><td>[&apos;Drama&apos;, &apos;Romance&apos;, &apos;Slice of Life&apos;, &apos;Supernatural&apos;]</td><td>tv</td><td>178.0</td><td>6.91472</td><td>0.00192675</td><td>0.704502</td><td>0.0207405</td><td>6.51258</td><td>0.000266576</td><td>178.0</td><td>1</td></tr><tr><th>18</th><td>3750</td><td>7976</td><td>Maria-sama ga Miteru 4th</td><td>[&apos;Girls Love&apos;, &apos;School&apos;, &apos;Shoujo&apos;, &apos;Slice of Life&apos;]</td><td>tv</td><td>179.0</td><td>7.03296</td><td>0.000178736</td><td>0.738345</td><td>0.0172091</td><td>6.43946</td><td>1.25908e-5</td><td>179.0</td><td>1</td></tr><tr><th>19</th><td>27989</td><td>4600</td><td>Hibike! Euphonium</td><td>[&apos;Drama&apos;, &apos;Music&apos;, &apos;Performing Arts&apos;, &apos;School&apos;]</td><td>tv</td><td>182.0</td><td>6.89415</td><td>0.00154885</td><td>0.601251</td><td>0.0213402</td><td>6.75504</td><td>0.000345354</td><td>182.0</td><td>1</td></tr><tr><th>20</th><td>1</td><td>11017</td><td>Cowboy Bebop</td><td>[&apos;Action&apos;, &apos;Adult Cast&apos;, &apos;Sci-Fi&apos;, &apos;Space&apos;]</td><td>tv</td><td>183.0</td><td>6.9298</td><td>0.00113649</td><td>0.910997</td><td>0.0221605</td><td>7.47323</td><td>0.00269313</td><td>183.0</td><td>1</td></tr><tr><th>21</th><td>44235</td><td>16883</td><td>Pui Pui Molcar</td><td>[&apos;Anthropomorphic&apos;, &apos;Comedy&apos;, &apos;Kids&apos;, &apos;Racing&apos;]</td><td>tv</td><td>185.0</td><td>7.09178</td><td>0.000253395</td><td>0.962166</td><td>0.0180271</td><td>7.2256</td><td>1.53201e-5</td><td>185.0</td><td>1</td></tr><tr><th>22</th><td>38474</td><td>11711</td><td>Yuru Camp△ Season 2</td><td>[&apos;CGDCT&apos;, &apos;Iyashikei&apos;, &apos;Slice of Life&apos;]</td><td>tv</td><td>187.0</td><td>7.04966</td><td>0.00036709</td><td>0.652517</td><td>0.017261</td><td>7.27417</td><td>0.000163092</td><td>187.0</td><td>1</td></tr><tr><th>23</th><td>2402</td><td>13181</td><td>Ashita no Joe</td><td>[&apos;Action&apos;, &apos;Combat Sports&apos;, &apos;Drama&apos;, &apos;Shounen&apos;, &apos;Slice of Life&apos;, &apos;Sports&apos;]</td><td>tv</td><td>190.0</td><td>7.14589</td><td>0.000113399</td><td>0.638155</td><td>0.0138099</td><td>7.51189</td><td>4.34877e-5</td><td>190.0</td><td>1</td></tr><tr><th>24</th><td>2035</td><td>17102</td><td>Eikoku Koi Monogatari Emma: Molders-hen</td><td>[&apos;Drama&apos;, &apos;Historical&apos;, &apos;Romance&apos;, &apos;Seinen&apos;, &apos;Slice of Life&apos;]</td><td>tv</td><td>194.0</td><td>6.99244</td><td>0.000235787</td><td>0.720848</td><td>0.0175844</td><td>6.60352</td><td>1.58661e-5</td><td>194.0</td><td>1</td></tr><tr><th>25</th><td>345</td><td>7805</td><td>Eikoku Koi Monogatari Emma</td><td>[&apos;Drama&apos;, &apos;Historical&apos;, &apos;Romance&apos;, &apos;Seinen&apos;, &apos;Slice of Life&apos;]</td><td>tv</td><td>195.0</td><td>6.94175</td><td>0.00054303</td><td>0.76085</td><td>0.0188877</td><td>6.34224</td><td>3.02486e-5</td><td>195.0</td><td>1</td></tr><tr><th>26</th><td>813</td><td>12911</td><td>Dragon Ball Z</td><td>[&apos;Action&apos;, &apos;Adventure&apos;, &apos;Comedy&apos;, &apos;Fantasy&apos;, &apos;Martial Arts&apos;, &apos;Shounen&apos;, &apos;Super Power&apos;]</td><td>tv</td><td>199.0</td><td>6.95528</td><td>0.000299224</td><td>0.881142</td><td>0.0174802</td><td>6.72273</td><td>0.00218775</td><td>199.0</td><td>1</td></tr><tr><th>27</th><td>444</td><td>19910</td><td>Maria-sama ga Miteru: Haru</td><td>[&apos;Drama&apos;, &apos;Girls Love&apos;, &apos;Romance&apos;, &apos;School&apos;, &apos;Shoujo&apos;]</td><td>tv</td><td>200.0</td><td>6.93011</td><td>0.000336476</td><td>0.74682</td><td>0.0185523</td><td>6.31261</td><td>1.886e-5</td><td>200.0</td><td>1</td></tr><tr><th>28</th><td>30276</td><td>2415</td><td>One Punch Man</td><td>[&apos;Action&apos;, &apos;Comedy&apos;, &apos;Parody&apos;, &apos;Seinen&apos;, &apos;Super Power&apos;]</td><td>tv</td><td>208.0</td><td>6.79889</td><td>0.000929457</td><td>0.970881</td><td>0.0207592</td><td>7.0696</td><td>0.00616084</td><td>208.0</td><td>1</td></tr><tr><th>29</th><td>48583</td><td>18963</td><td>Shingeki no Kyojin: The Final Season Part 2</td><td>[&apos;Action&apos;, &apos;Drama&apos;, &apos;Gore&apos;, &apos;Military&apos;, &apos;Shounen&apos;, &apos;Survival&apos;]</td><td>tv</td><td>212.0</td><td>7.14664</td><td>0.000142259</td><td>1.02351</td><td>0.0116786</td><td>7.49769</td><td>0.00227523</td><td>212.0</td><td>1</td></tr><tr><th>30</th><td>877</td><td>6348</td><td>Nana</td><td>[&apos;Adult Cast&apos;, &apos;Drama&apos;, &apos;Love Polygon&apos;, &apos;Music&apos;, &apos;Romance&apos;, &apos;Shoujo&apos;, &apos;Slice of Life&apos;]</td><td>tv</td><td>222.0</td><td>6.87237</td><td>0.00112425</td><td>0.715309</td><td>0.0207619</td><td>7.08501</td><td>0.000628588</td><td>222.0</td><td>1</td></tr><tr><th>31</th><td>33352</td><td>7763</td><td>Violet Evergarden</td><td>[&apos;Drama&apos;, &apos;Fantasy&apos;, &apos;Slice of Life&apos;]</td><td>tv</td><td>229.0</td><td>6.8244</td><td>0.00124597</td><td>0.90166</td><td>0.0221104</td><td>7.30607</td><td>0.00235537</td><td>229.0</td><td>1</td></tr><tr><th>32</th><td>136</td><td>18634</td><td>Hunter x Hunter</td><td>[&apos;Action&apos;, &apos;Adventure&apos;, &apos;Fantasy&apos;, &apos;Shounen&apos;]</td><td>tv</td><td>231.0</td><td>6.92087</td><td>0.000375651</td><td>0.833232</td><td>0.0184636</td><td>6.93139</td><td>0.000681127</td><td>231.0</td><td>1</td></tr><tr><th>33</th><td>38337</td><td>3787</td><td>Gochuumon wa Usagi Desu ka? Bloom</td><td>[&apos;CGDCT&apos;, &apos;Comedy&apos;, &apos;Iyashikei&apos;, &apos;Workplace&apos;]</td><td>tv</td><td>242.0</td><td>6.96948</td><td>7.96807e-5</td><td>0.71678</td><td>0.0135435</td><td>6.54904</td><td>3.21394e-5</td><td>242.0</td><td>1</td></tr><tr><th>34</th><td>50265</td><td>4347</td><td>Spy x Family</td><td>[&apos;Action&apos;, &apos;Childcare&apos;, &apos;Comedy&apos;, &apos;Shounen&apos;]</td><td>tv</td><td>248.0</td><td>6.86078</td><td>0.000178924</td><td>0.869896</td><td>0.0195547</td><td>7.52063</td><td>0.00247514</td><td>248.0</td><td>1</td></tr><tr><th>35</th><td>34798</td><td>1065</td><td>Yuru Camp△</td><td>[&apos;CGDCT&apos;, &apos;Iyashikei&apos;, &apos;Slice of Life&apos;]</td><td>tv</td><td>250.0</td><td>6.83229</td><td>0.00120519</td><td>0.759464</td><td>0.0191836</td><td>6.96863</td><td>0.000417752</td><td>250.0</td><td>1</td></tr><tr><th>36</th><td>427</td><td>10763</td><td>Kaleido Star</td><td>[&apos;Comedy&apos;, &apos;Drama&apos;, &apos;Fantasy&apos;, &apos;Performing Arts&apos;, &apos;Shoujo&apos;]</td><td>tv</td><td>251.0</td><td>6.79204</td><td>0.000471778</td><td>0.790806</td><td>0.0198358</td><td>6.27301</td><td>7.28155e-5</td><td>251.0</td><td>1</td></tr><tr><th>37</th><td>46095</td><td>1404</td><td>Vivy: Fluorite Eye&apos;s Song</td><td>[&apos;Action&apos;, &apos;Music&apos;, &apos;Sci-Fi&apos;, &apos;Suspense&apos;, &apos;Time Travel&apos;]</td><td>tv</td><td>253.0</td><td>6.80892</td><td>0.000721917</td><td>0.777586</td><td>0.0211606</td><td>7.18941</td><td>0.000549041</td><td>253.0</td><td>1</td></tr><tr><th>38</th><td>593</td><td>19591</td><td>Mugen no Ryvius</td><td>[&apos;Drama&apos;, &apos;Mecha&apos;, &apos;Military&apos;, &apos;Psychological&apos;, &apos;Sci-Fi&apos;, &apos;Space&apos;]</td><td>tv</td><td>255.0</td><td>6.76944</td><td>0.00122229</td><td>0.766713</td><td>0.0201386</td><td>6.41441</td><td>1.78216e-5</td><td>255.0</td><td>1</td></tr><tr><th>39</th><td>59</td><td>2756</td><td>Chobits</td><td>[&apos;Comedy&apos;, &apos;Drama&apos;, &apos;Ecchi&apos;, &apos;Romance&apos;, &apos;Sci-Fi&apos;, &apos;Seinen&apos;]</td><td>tv</td><td>258.0</td><td>6.7491</td><td>0.00114877</td><td>0.894463</td><td>0.0189608</td><td>5.83423</td><td>0.000599974</td><td>258.0</td><td>1</td></tr><tr><th>40</th><td>1483</td><td>3288</td><td>Master Keaton</td><td>[&apos;Adult Cast&apos;, &apos;Adventure&apos;, &apos;Drama&apos;, &apos;Historical&apos;, &apos;Mystery&apos;, &apos;Seinen&apos;]</td><td>tv</td><td>266.0</td><td>6.85946</td><td>9.4696e-5</td><td>0.753121</td><td>0.0170629</td><td>6.76214</td><td>8.20047e-6</td><td>266.0</td><td>1</td></tr><tr><th>41</th><td>24415</td><td>10027</td><td>Kuroko no Basket 3rd Season</td><td>[&apos;School&apos;, &apos;Shounen&apos;, &apos;Sports&apos;, &apos;Team Sports&apos;]</td><td>tv</td><td>267.0</td><td>6.85289</td><td>9.34111e-5</td><td>0.839351</td><td>0.0173714</td><td>6.91971</td><td>0.000985262</td><td>267.0</td><td>1</td></tr><tr><th>42</th><td>552</td><td>7972</td><td>Digimon Adventure</td><td>[&apos;Action&apos;, &apos;Adventure&apos;, &apos;Comedy&apos;, &apos;Fantasy&apos;, &apos;Isekai&apos;, &apos;Kids&apos;]</td><td>tv</td><td>278.0</td><td>6.72032</td><td>0.000391411</td><td>0.84047</td><td>0.0208641</td><td>6.32014</td><td>0.000594438</td><td>278.0</td><td>1</td></tr><tr><th>43</th><td>5941</td><td>8550</td><td>Cross Game</td><td>[&apos;Drama&apos;, &apos;Romance&apos;, &apos;School&apos;, &apos;Shounen&apos;, &apos;Sports&apos;, &apos;Team Sports&apos;]</td><td>tv</td><td>284.0</td><td>6.81634</td><td>0.000669433</td><td>0.729531</td><td>0.0184166</td><td>7.12508</td><td>7.40832e-5</td><td>284.0</td><td>1</td></tr><tr><th>44</th><td>122</td><td>5773</td><td>Full Moon wo Sagashite</td><td>[&apos;Comedy&apos;, &apos;Drama&apos;, &apos;Music&apos;, &apos;Romance&apos;, &apos;Shoujo&apos;, &apos;Supernatural&apos;]</td><td>tv</td><td>291.0</td><td>6.77335</td><td>0.000401662</td><td>0.793594</td><td>0.0176585</td><td>6.31197</td><td>0.000110629</td><td>291.0</td><td>1</td></tr><tr><th>45</th><td>488</td><td>813</td><td>Ichigo Mashimaro</td><td>[&apos;CGDCT&apos;, &apos;Comedy&apos;, &apos;Iyashikei&apos;, &apos;Slice of Life&apos;]</td><td>tv</td><td>292.0</td><td>6.72901</td><td>0.00138589</td><td>0.790429</td><td>0.01853</td><td>6.27809</td><td>6.07543e-5</td><td>292.0</td><td>1</td></tr><tr><th>46</th><td>195</td><td>12530</td><td>Onegai☆Teacher</td><td>[&apos;Drama&apos;, &apos;Romance&apos;, &apos;School&apos;, &apos;Sci-Fi&apos;]</td><td>tv</td><td>297.0</td><td>6.63854</td><td>0.000565717</td><td>0.975071</td><td>0.021647</td><td>5.52968</td><td>0.000168376</td><td>297.0</td><td>1</td></tr><tr><th>47</th><td>16067</td><td>13712</td><td>Nagi no Asu kara</td><td>[&apos;Drama&apos;, &apos;Fantasy&apos;, &apos;Romance&apos;]</td><td>tv</td><td>298.0</td><td>6.43693</td><td>0.00181171</td><td>0.954238</td><td>0.0312372</td><td>6.50419</td><td>0.000503683</td><td>298.0</td><td>1</td></tr><tr><th>48</th><td>1735</td><td>14119</td><td>Naruto: Shippuuden</td><td>[&apos;Action&apos;, &apos;Adventure&apos;, &apos;Fantasy&apos;, &apos;Martial Arts&apos;, &apos;Shounen&apos;]</td><td>tv</td><td>299.0</td><td>6.63434</td><td>0.000444984</td><td>1.24729</td><td>0.0202975</td><td>6.73641</td><td>0.00519541</td><td>299.0</td><td>1</td></tr><tr><th>49</th><td>22535</td><td>11784</td><td>Kiseijuu: Sei no Kakuritsu</td><td>[&apos;Action&apos;, &apos;Gore&apos;, &apos;Horror&apos;, &apos;Psychological&apos;, &apos;Sci-Fi&apos;, &apos;Seinen&apos;]</td><td>tv</td><td>300.0</td><td>6.71837</td><td>0.000790434</td><td>1.12343</td><td>0.020677</td><td>6.95278</td><td>0.00268168</td><td>300.0</td><td>1</td></tr><tr><th>50</th><td>32937</td><td>11298</td><td>Kono Subarashii Sekai ni Shukufuku wo! 2</td><td>[&apos;Adventure&apos;, &apos;Comedy&apos;, &apos;Fantasy&apos;, &apos;Isekai&apos;, &apos;Parody&apos;, &apos;Reincarnation&apos;]</td><td>tv</td><td>303.0</td><td>6.68482</td><td>0.00116729</td><td>0.913643</td><td>0.0207166</td><td>6.88371</td><td>0.00213723</td><td>303.0</td><td>1</td></tr><tr><th>&vellip;</th><td>&vellip;</td><td>&vellip;</td><td>&vellip;</td><td>&vellip;</td><td>&vellip;</td><td>&vellip;</td><td>&vellip;</td><td>&vellip;</td><td>&vellip;</td><td>&vellip;</td><td>&vellip;</td><td>&vellip;</td><td>&vellip;</td><td>&vellip;</td></tr></tbody></table></div>"
      ],
      "text/latex": [
       "\\begin{tabular}{r|cccccccccccccc}\n",
       "\t& anime\\_id & uid & title & genres & medium & ranking & explicit & implicit & error\\_explicit & error\\_implicit & baseline\\_explicit & baseline\\_implicit & score & display\\\\\n",
       "\t\\hline\n",
       "\t& Int64 & Int64 & String & String & String7 & Float32 & Float32 & Float32 & Float32 & Float32 & Float32 & Float32 & Float32 & Bool\\\\\n",
       "\t\\hline\n",
       "\t1 & 36259 & 10474 & Pingu in the City & ['Comedy', 'Kids', 'Slice of Life'] & tv & 54.0 & 7.32275 & 6.53317e-5 & 1.07801 & 0.0401608 & 7.07446 & 5.37744e-5 & 54.0 & 1 \\\\\n",
       "\t2 & 38524 & 12753 & Shingeki no Kyojin Season 3 Part 2 & ['Action', 'Drama', 'Gore', 'Military', 'Shounen', 'Survival'] & tv & 71.0 & 7.52367 & 0.00040463 & 0.828919 & 0.0185988 & 7.72584 & 0.00452048 & 71.0 & 1 \\\\\n",
       "\t3 & 32843 & 3602 & Senki Zesshou Symphogear XV & ['Action', 'Idols (Female)', 'Music', 'Sci-Fi'] & tv & 79.0 & 7.49684 & 0.000146658 & 0.793819 & 0.0201014 & 6.98418 & 1.68961e-5 & 79.0 & 1 \\\\\n",
       "\t4 & 11061 & 7814 & Hunter x Hunter (2011) & ['Action', 'Adventure', 'Fantasy', 'Shounen'] & tv & 81.0 & 7.38618 & 0.000822997 & 1.03435 & 0.0217475 & 7.61737 & 0.00509626 & 81.0 & 1 \\\\\n",
       "\t5 & 16498 & 7644 & Shingeki no Kyojin & ['Action', 'Drama', 'Gore', 'Military', 'Shounen', 'Survival'] & tv & 92.0 & 7.12432 & 0.00130991 & 0.83693 & 0.0212263 & 7.0864 & 0.00864467 & 92.0 & 1 \\\\\n",
       "\t6 & 32836 & 20123 & Senki Zesshou Symphogear AXZ & ['Action', 'Idols (Female)', 'Music', 'Sci-Fi'] & tv & 100.0 & 7.32192 & 0.000144378 & 0.887158 & 0.0189914 & 6.34046 & 2.03424e-5 & 100.0 & 1 \\\\\n",
       "\t7 & 42941 & 9316 & Uma Musume: Pretty Derby (TV) Season 2 & ['Anthropomorphic', 'Sports'] & tv & 138.0 & 7.20405 & 0.000149508 & 0.776613 & 0.0174649 & 6.65906 & 2.75943e-5 & 138.0 & 1 \\\\\n",
       "\t8 & 2164 & 4538 & Dennou Coil & ['Adventure', 'Comedy', 'Drama', 'Mystery', 'Sci-Fi'] & tv & 142.0 & 6.91257 & 0.00270957 & 0.673864 & 0.0277175 & 6.93308 & 7.60008e-5 & 142.0 & 1 \\\\\n",
       "\t9 & 21573 & 15434 & Senki Zesshou Symphogear GX & ['Action', 'Idols (Female)', 'Music', 'Sci-Fi'] & tv & 158.0 & 7.11156 & 0.000140783 & 0.855747 & 0.0174807 & 6.1225 & 2.88984e-5 & 158.0 & 1 \\\\\n",
       "\t10 & 1065 & 2038 & Touch & ['Drama', 'Love Polygon', 'Romance', 'School', 'Shounen', 'Slice of Life', 'Sports', 'Team Sports'] & tv & 160.0 & 7.12212 & 0.000269041 & 0.770259 & 0.0190513 & 6.94942 & 1.48876e-5 & 160.0 & 1 \\\\\n",
       "\t11 & 46102 & 6211 & Odd Taxi & ['Anthropomorphic', 'Mystery'] & tv & 161.0 & 7.061 & 0.0010385 & 0.708776 & 0.0224944 & 7.63224 & 0.000455196 & 161.0 & 1 \\\\\n",
       "\t12 & 19 & 17026 & Monster & ['Adult Cast', 'Drama', 'Mystery', 'Psychological', 'Seinen', 'Suspense'] & tv & 164.0 & 7.0528 & 0.00133912 & 0.837758 & 0.0224944 & 7.63481 & 0.000990614 & 164.0 & 1 \\\\\n",
       "\t13 & 25777 & 8685 & Shingeki no Kyojin Season 2 & ['Action', 'Drama', 'Gore', 'Military', 'Shounen', 'Survival'] & tv & 165.0 & 6.9569 & 0.000668633 & 0.780924 & 0.0205235 & 7.14079 & 0.00522014 & 165.0 & 1 \\\\\n",
       "\t14 & 35760 & 19030 & Shingeki no Kyojin Season 3 & ['Action', 'Drama', 'Gore', 'Military', 'Shounen', 'Survival'] & tv & 166.0 & 6.98332 & 0.000457668 & 0.840726 & 0.0207617 & 7.27382 & 0.00451671 & 166.0 & 1 \\\\\n",
       "\t15 & 25835 & 1337 & Shirobako & ['Adult Cast', 'Comedy', 'Drama', 'Otaku Culture', 'Workplace'] & tv & 176.0 & 6.93675 & 0.00202575 & 0.678229 & 0.0217408 & 7.01784 & 0.000255512 & 176.0 & 1 \\\\\n",
       "\t16 & 31988 & 13387 & Hibike! Euphonium 2 & ['Drama', 'Music', 'Performing Arts', 'School'] & tv & 177.0 & 7.00893 & 0.000880315 & 0.624756 & 0.0196133 & 7.1152 & 0.000182295 & 177.0 & 1 \\\\\n",
       "\t17 & 1530 & 4298 & Kanon (2006) & ['Drama', 'Romance', 'Slice of Life', 'Supernatural'] & tv & 178.0 & 6.91472 & 0.00192675 & 0.704502 & 0.0207405 & 6.51258 & 0.000266576 & 178.0 & 1 \\\\\n",
       "\t18 & 3750 & 7976 & Maria-sama ga Miteru 4th & ['Girls Love', 'School', 'Shoujo', 'Slice of Life'] & tv & 179.0 & 7.03296 & 0.000178736 & 0.738345 & 0.0172091 & 6.43946 & 1.25908e-5 & 179.0 & 1 \\\\\n",
       "\t19 & 27989 & 4600 & Hibike! Euphonium & ['Drama', 'Music', 'Performing Arts', 'School'] & tv & 182.0 & 6.89415 & 0.00154885 & 0.601251 & 0.0213402 & 6.75504 & 0.000345354 & 182.0 & 1 \\\\\n",
       "\t20 & 1 & 11017 & Cowboy Bebop & ['Action', 'Adult Cast', 'Sci-Fi', 'Space'] & tv & 183.0 & 6.9298 & 0.00113649 & 0.910997 & 0.0221605 & 7.47323 & 0.00269313 & 183.0 & 1 \\\\\n",
       "\t21 & 44235 & 16883 & Pui Pui Molcar & ['Anthropomorphic', 'Comedy', 'Kids', 'Racing'] & tv & 185.0 & 7.09178 & 0.000253395 & 0.962166 & 0.0180271 & 7.2256 & 1.53201e-5 & 185.0 & 1 \\\\\n",
       "\t22 & 38474 & 11711 & Yuru Camp△ Season 2 & ['CGDCT', 'Iyashikei', 'Slice of Life'] & tv & 187.0 & 7.04966 & 0.00036709 & 0.652517 & 0.017261 & 7.27417 & 0.000163092 & 187.0 & 1 \\\\\n",
       "\t23 & 2402 & 13181 & Ashita no Joe & ['Action', 'Combat Sports', 'Drama', 'Shounen', 'Slice of Life', 'Sports'] & tv & 190.0 & 7.14589 & 0.000113399 & 0.638155 & 0.0138099 & 7.51189 & 4.34877e-5 & 190.0 & 1 \\\\\n",
       "\t24 & 2035 & 17102 & Eikoku Koi Monogatari Emma: Molders-hen & ['Drama', 'Historical', 'Romance', 'Seinen', 'Slice of Life'] & tv & 194.0 & 6.99244 & 0.000235787 & 0.720848 & 0.0175844 & 6.60352 & 1.58661e-5 & 194.0 & 1 \\\\\n",
       "\t25 & 345 & 7805 & Eikoku Koi Monogatari Emma & ['Drama', 'Historical', 'Romance', 'Seinen', 'Slice of Life'] & tv & 195.0 & 6.94175 & 0.00054303 & 0.76085 & 0.0188877 & 6.34224 & 3.02486e-5 & 195.0 & 1 \\\\\n",
       "\t26 & 813 & 12911 & Dragon Ball Z & ['Action', 'Adventure', 'Comedy', 'Fantasy', 'Martial Arts', 'Shounen', 'Super Power'] & tv & 199.0 & 6.95528 & 0.000299224 & 0.881142 & 0.0174802 & 6.72273 & 0.00218775 & 199.0 & 1 \\\\\n",
       "\t27 & 444 & 19910 & Maria-sama ga Miteru: Haru & ['Drama', 'Girls Love', 'Romance', 'School', 'Shoujo'] & tv & 200.0 & 6.93011 & 0.000336476 & 0.74682 & 0.0185523 & 6.31261 & 1.886e-5 & 200.0 & 1 \\\\\n",
       "\t28 & 30276 & 2415 & One Punch Man & ['Action', 'Comedy', 'Parody', 'Seinen', 'Super Power'] & tv & 208.0 & 6.79889 & 0.000929457 & 0.970881 & 0.0207592 & 7.0696 & 0.00616084 & 208.0 & 1 \\\\\n",
       "\t29 & 48583 & 18963 & Shingeki no Kyojin: The Final Season Part 2 & ['Action', 'Drama', 'Gore', 'Military', 'Shounen', 'Survival'] & tv & 212.0 & 7.14664 & 0.000142259 & 1.02351 & 0.0116786 & 7.49769 & 0.00227523 & 212.0 & 1 \\\\\n",
       "\t30 & 877 & 6348 & Nana & ['Adult Cast', 'Drama', 'Love Polygon', 'Music', 'Romance', 'Shoujo', 'Slice of Life'] & tv & 222.0 & 6.87237 & 0.00112425 & 0.715309 & 0.0207619 & 7.08501 & 0.000628588 & 222.0 & 1 \\\\\n",
       "\t31 & 33352 & 7763 & Violet Evergarden & ['Drama', 'Fantasy', 'Slice of Life'] & tv & 229.0 & 6.8244 & 0.00124597 & 0.90166 & 0.0221104 & 7.30607 & 0.00235537 & 229.0 & 1 \\\\\n",
       "\t32 & 136 & 18634 & Hunter x Hunter & ['Action', 'Adventure', 'Fantasy', 'Shounen'] & tv & 231.0 & 6.92087 & 0.000375651 & 0.833232 & 0.0184636 & 6.93139 & 0.000681127 & 231.0 & 1 \\\\\n",
       "\t33 & 38337 & 3787 & Gochuumon wa Usagi Desu ka? Bloom & ['CGDCT', 'Comedy', 'Iyashikei', 'Workplace'] & tv & 242.0 & 6.96948 & 7.96807e-5 & 0.71678 & 0.0135435 & 6.54904 & 3.21394e-5 & 242.0 & 1 \\\\\n",
       "\t34 & 50265 & 4347 & Spy x Family & ['Action', 'Childcare', 'Comedy', 'Shounen'] & tv & 248.0 & 6.86078 & 0.000178924 & 0.869896 & 0.0195547 & 7.52063 & 0.00247514 & 248.0 & 1 \\\\\n",
       "\t35 & 34798 & 1065 & Yuru Camp△ & ['CGDCT', 'Iyashikei', 'Slice of Life'] & tv & 250.0 & 6.83229 & 0.00120519 & 0.759464 & 0.0191836 & 6.96863 & 0.000417752 & 250.0 & 1 \\\\\n",
       "\t36 & 427 & 10763 & Kaleido Star & ['Comedy', 'Drama', 'Fantasy', 'Performing Arts', 'Shoujo'] & tv & 251.0 & 6.79204 & 0.000471778 & 0.790806 & 0.0198358 & 6.27301 & 7.28155e-5 & 251.0 & 1 \\\\\n",
       "\t37 & 46095 & 1404 & Vivy: Fluorite Eye's Song & ['Action', 'Music', 'Sci-Fi', 'Suspense', 'Time Travel'] & tv & 253.0 & 6.80892 & 0.000721917 & 0.777586 & 0.0211606 & 7.18941 & 0.000549041 & 253.0 & 1 \\\\\n",
       "\t38 & 593 & 19591 & Mugen no Ryvius & ['Drama', 'Mecha', 'Military', 'Psychological', 'Sci-Fi', 'Space'] & tv & 255.0 & 6.76944 & 0.00122229 & 0.766713 & 0.0201386 & 6.41441 & 1.78216e-5 & 255.0 & 1 \\\\\n",
       "\t39 & 59 & 2756 & Chobits & ['Comedy', 'Drama', 'Ecchi', 'Romance', 'Sci-Fi', 'Seinen'] & tv & 258.0 & 6.7491 & 0.00114877 & 0.894463 & 0.0189608 & 5.83423 & 0.000599974 & 258.0 & 1 \\\\\n",
       "\t40 & 1483 & 3288 & Master Keaton & ['Adult Cast', 'Adventure', 'Drama', 'Historical', 'Mystery', 'Seinen'] & tv & 266.0 & 6.85946 & 9.4696e-5 & 0.753121 & 0.0170629 & 6.76214 & 8.20047e-6 & 266.0 & 1 \\\\\n",
       "\t41 & 24415 & 10027 & Kuroko no Basket 3rd Season & ['School', 'Shounen', 'Sports', 'Team Sports'] & tv & 267.0 & 6.85289 & 9.34111e-5 & 0.839351 & 0.0173714 & 6.91971 & 0.000985262 & 267.0 & 1 \\\\\n",
       "\t42 & 552 & 7972 & Digimon Adventure & ['Action', 'Adventure', 'Comedy', 'Fantasy', 'Isekai', 'Kids'] & tv & 278.0 & 6.72032 & 0.000391411 & 0.84047 & 0.0208641 & 6.32014 & 0.000594438 & 278.0 & 1 \\\\\n",
       "\t43 & 5941 & 8550 & Cross Game & ['Drama', 'Romance', 'School', 'Shounen', 'Sports', 'Team Sports'] & tv & 284.0 & 6.81634 & 0.000669433 & 0.729531 & 0.0184166 & 7.12508 & 7.40832e-5 & 284.0 & 1 \\\\\n",
       "\t44 & 122 & 5773 & Full Moon wo Sagashite & ['Comedy', 'Drama', 'Music', 'Romance', 'Shoujo', 'Supernatural'] & tv & 291.0 & 6.77335 & 0.000401662 & 0.793594 & 0.0176585 & 6.31197 & 0.000110629 & 291.0 & 1 \\\\\n",
       "\t45 & 488 & 813 & Ichigo Mashimaro & ['CGDCT', 'Comedy', 'Iyashikei', 'Slice of Life'] & tv & 292.0 & 6.72901 & 0.00138589 & 0.790429 & 0.01853 & 6.27809 & 6.07543e-5 & 292.0 & 1 \\\\\n",
       "\t46 & 195 & 12530 & Onegai☆Teacher & ['Drama', 'Romance', 'School', 'Sci-Fi'] & tv & 297.0 & 6.63854 & 0.000565717 & 0.975071 & 0.021647 & 5.52968 & 0.000168376 & 297.0 & 1 \\\\\n",
       "\t47 & 16067 & 13712 & Nagi no Asu kara & ['Drama', 'Fantasy', 'Romance'] & tv & 298.0 & 6.43693 & 0.00181171 & 0.954238 & 0.0312372 & 6.50419 & 0.000503683 & 298.0 & 1 \\\\\n",
       "\t48 & 1735 & 14119 & Naruto: Shippuuden & ['Action', 'Adventure', 'Fantasy', 'Martial Arts', 'Shounen'] & tv & 299.0 & 6.63434 & 0.000444984 & 1.24729 & 0.0202975 & 6.73641 & 0.00519541 & 299.0 & 1 \\\\\n",
       "\t49 & 22535 & 11784 & Kiseijuu: Sei no Kakuritsu & ['Action', 'Gore', 'Horror', 'Psychological', 'Sci-Fi', 'Seinen'] & tv & 300.0 & 6.71837 & 0.000790434 & 1.12343 & 0.020677 & 6.95278 & 0.00268168 & 300.0 & 1 \\\\\n",
       "\t50 & 32937 & 11298 & Kono Subarashii Sekai ni Shukufuku wo! 2 & ['Adventure', 'Comedy', 'Fantasy', 'Isekai', 'Parody', 'Reincarnation'] & tv & 303.0 & 6.68482 & 0.00116729 & 0.913643 & 0.0207166 & 6.88371 & 0.00213723 & 303.0 & 1 \\\\\n",
       "\t$\\dots$ & $\\dots$ & $\\dots$ & $\\dots$ & $\\dots$ & $\\dots$ & $\\dots$ & $\\dots$ & $\\dots$ & $\\dots$ & $\\dots$ & $\\dots$ & $\\dots$ & $\\dots$ & $\\dots$ \\\\\n",
       "\\end{tabular}\n"
      ],
      "text/plain": [
       "\u001b[1m5432×14 DataFrame\u001b[0m\n",
       "\u001b[1m  Row \u001b[0m│\u001b[1m anime_id \u001b[0m\u001b[1m uid   \u001b[0m\u001b[1m title                             \u001b[0m\u001b[1m genres                            \u001b[0m\u001b[1m medium  \u001b[0m\u001b[1m ranking \u001b[0m\u001b[1m explicit \u001b[0m\u001b[1m implicit    \u001b[0m\u001b[1m error_explicit \u001b[0m\u001b[1m error_implicit \u001b[0m\u001b[1m baseline_explicit \u001b[0m\u001b[1m baseline_implicit \u001b[0m\u001b[1m score   \u001b[0m\u001b[1m display \u001b[0m\n",
       "\u001b[1m      \u001b[0m│\u001b[90m Int64    \u001b[0m\u001b[90m Int64 \u001b[0m\u001b[90m String                            \u001b[0m\u001b[90m String                            \u001b[0m\u001b[90m String7 \u001b[0m\u001b[90m Float32 \u001b[0m\u001b[90m Float32  \u001b[0m\u001b[90m Float32     \u001b[0m\u001b[90m Float32        \u001b[0m\u001b[90m Float32        \u001b[0m\u001b[90m Float32           \u001b[0m\u001b[90m Float32           \u001b[0m\u001b[90m Float32 \u001b[0m\u001b[90m Bool    \u001b[0m\n",
       "──────┼────────────────────────────────────────────────────────────────────────────────────────────────────────────────────────────────────────────────────────────────────────────────────────────────────────────────────────\n",
       "    1 │    36259  10474  Pingu in the City                  ['Comedy', 'Kids', 'Slice of Lif…  tv          54.0   7.32275  6.53317e-5         1.07801      0.0401608              7.07446        5.37744e-5      54.0     true\n",
       "    2 │    38524  12753  Shingeki no Kyojin Season 3 Part…  ['Action', 'Drama', 'Gore', 'Mil…  tv          71.0   7.52367  0.00040463         0.828919     0.0185988              7.72584        0.00452048      71.0     true\n",
       "    3 │    32843   3602  Senki Zesshou Symphogear XV        ['Action', 'Idols (Female)', 'Mu…  tv          79.0   7.49684  0.000146658        0.793819     0.0201014              6.98418        1.68961e-5      79.0     true\n",
       "    4 │    11061   7814  Hunter x Hunter (2011)             ['Action', 'Adventure', 'Fantasy…  tv          81.0   7.38618  0.000822997        1.03435      0.0217475              7.61737        0.00509626      81.0     true\n",
       "    5 │    16498   7644  Shingeki no Kyojin                 ['Action', 'Drama', 'Gore', 'Mil…  tv          92.0   7.12432  0.00130991         0.83693      0.0212263              7.0864         0.00864467      92.0     true\n",
       "    6 │    32836  20123  Senki Zesshou Symphogear AXZ       ['Action', 'Idols (Female)', 'Mu…  tv         100.0   7.32192  0.000144378        0.887158     0.0189914              6.34046        2.03424e-5     100.0     true\n",
       "    7 │    42941   9316  Uma Musume: Pretty Derby (TV) Se…  ['Anthropomorphic', 'Sports']      tv         138.0   7.20405  0.000149508        0.776613     0.0174649              6.65906        2.75943e-5     138.0     true\n",
       "    8 │     2164   4538  Dennou Coil                        ['Adventure', 'Comedy', 'Drama',…  tv         142.0   6.91257  0.00270957         0.673864     0.0277175              6.93308        7.60008e-5     142.0     true\n",
       "    9 │    21573  15434  Senki Zesshou Symphogear GX        ['Action', 'Idols (Female)', 'Mu…  tv         158.0   7.11156  0.000140783        0.855747     0.0174807              6.1225         2.88984e-5     158.0     true\n",
       "   10 │     1065   2038  Touch                              ['Drama', 'Love Polygon', 'Roman…  tv         160.0   7.12212  0.000269041        0.770259     0.0190513              6.94942        1.48876e-5     160.0     true\n",
       "   11 │    46102   6211  Odd Taxi                           ['Anthropomorphic', 'Mystery']     tv         161.0   7.061    0.0010385          0.708776     0.0224944              7.63224        0.000455196    161.0     true\n",
       "   12 │       19  17026  Monster                            ['Adult Cast', 'Drama', 'Mystery…  tv         164.0   7.0528   0.00133912         0.837758     0.0224944              7.63481        0.000990614    164.0     true\n",
       "   13 │    25777   8685  Shingeki no Kyojin Season 2        ['Action', 'Drama', 'Gore', 'Mil…  tv         165.0   6.9569   0.000668633        0.780924     0.0205235              7.14079        0.00522014     165.0     true\n",
       "   14 │    35760  19030  Shingeki no Kyojin Season 3        ['Action', 'Drama', 'Gore', 'Mil…  tv         166.0   6.98332  0.000457668        0.840726     0.0207617              7.27382        0.00451671     166.0     true\n",
       "   15 │    25835   1337  Shirobako                          ['Adult Cast', 'Comedy', 'Drama'…  tv         176.0   6.93675  0.00202575         0.678229     0.0217408              7.01784        0.000255512    176.0     true\n",
       "   16 │    31988  13387  Hibike! Euphonium 2                ['Drama', 'Music', 'Performing A…  tv         177.0   7.00893  0.000880315        0.624756     0.0196133              7.1152         0.000182295    177.0     true\n",
       "   17 │     1530   4298  Kanon (2006)                       ['Drama', 'Romance', 'Slice of L…  tv         178.0   6.91472  0.00192675         0.704502     0.0207405              6.51258        0.000266576    178.0     true\n",
       "   18 │     3750   7976  Maria-sama ga Miteru 4th           ['Girls Love', 'School', 'Shoujo…  tv         179.0   7.03296  0.000178736        0.738345     0.0172091              6.43946        1.25908e-5     179.0     true\n",
       "   19 │    27989   4600  Hibike! Euphonium                  ['Drama', 'Music', 'Performing A…  tv         182.0   6.89415  0.00154885         0.601251     0.0213402              6.75504        0.000345354    182.0     true\n",
       "   20 │        1  11017  Cowboy Bebop                       ['Action', 'Adult Cast', 'Sci-Fi…  tv         183.0   6.9298   0.00113649         0.910997     0.0221605              7.47323        0.00269313     183.0     true\n",
       "   21 │    44235  16883  Pui Pui Molcar                     ['Anthropomorphic', 'Comedy', 'K…  tv         185.0   7.09178  0.000253395        0.962166     0.0180271              7.2256         1.53201e-5     185.0     true\n",
       "  ⋮   │    ⋮        ⋮                    ⋮                                  ⋮                     ⋮        ⋮        ⋮           ⋮             ⋮               ⋮                 ⋮                  ⋮             ⋮        ⋮\n",
       " 5413 │    38284  14846  Devidol!                           ['Comedy']                         tv       20239.0   4.20228  3.44245e-6         1.76082      0.000269717            3.55082        7.69565e-7   20239.0     true\n",
       " 5414 │    12963  20110  Jewelpet Kira☆Deco!                ['Anthropomorphic', 'Fantasy', '…  tv       20241.0   5.68655  7.36119e-7         1.65661      0.000447527            5.29035        2.00871e-6   20241.0     true\n",
       " 5415 │    34503  14397  KochinPa! Dainiki                  ['Comedy']                         tv       20243.0   4.15922  1.72923e-6         1.7946       0.000349209            3.51509        6.39136e-7   20243.0     true\n",
       " 5416 │    39277  14385  Youkai Watch!                      ['Comedy', 'Kids', 'Mythology', …  tv       20250.0   5.2932   2.01859e-7         1.68119      0.000198595            4.96269        1.98e-6      20250.0     true\n",
       " 5417 │    11859  18458  Queen's Blade: Rebellion           ['Action', 'Adventure', 'Ecchi',…  tv       20251.0   5.11733  2.76177e-6         2.36105      0.00447524             4.67027        2.05654e-5   20251.0     true\n",
       " 5418 │    37448   3210  Ladyspo                            ['Action', 'Comedy', 'Sci-Fi']     tv       20252.0   2.76794  3.58855e-6         1.88816     -0.000539885            1.78139        1.25607e-6   20252.0     true\n",
       " 5419 │    40320   7401  Tenka Hyakken: Meiji-kan e Youko…  ['Action', 'Adventure', 'Fantasy…  tv       20256.0   4.14174  3.18165e-6         1.91705      0.000518582            3.57146        2.29729e-6   20256.0     true\n",
       " 5420 │    33771   6507  Cheating Craft                     ['Action', 'Comedy', 'School']     tv       20270.0   4.39799  3.976e-6           2.6829       0.00467145             3.86456        4.15352e-5   20270.0     true\n",
       " 5421 │    35999   5791  Dia Horizon (Kabu)                 ['Action', 'Adventure', 'Fantasy…  tv       20273.0   3.30012  4.98605e-7         1.88724     -0.00132852             2.31823        8.40153e-7   20273.0     true\n",
       " 5422 │    34223   8407  Forest Fairy Five                  ['Comedy', 'Fantasy', 'Music']     tv       20278.0   2.56825  2.98494e-6         2.29499     -0.00029102             1.68678        1.67494e-6   20278.0     true\n",
       " 5423 │    33021  19949  Ragnastrike Angels                 ['Action']                         tv       20282.0   3.62366  4.06961e-6         2.26817     -0.000104832            2.96356        5.99018e-6   20282.0     true\n",
       " 5424 │    30382  10016  Aquarion Logos                     ['Action', 'Comedy', 'Drama', 'F…  tv       20288.0   4.67539  3.72551e-6         2.6974       0.00344374             4.03324        9.83936e-6   20288.0     true\n",
       " 5425 │    35730   9822  Musekinin Galaxy☆Tylor             ['Comedy', 'Military', 'Parody',…  tv       20305.0   3.44374  6.15275e-6         2.38035     -0.000394707            2.66906        2.19859e-6   20305.0     true\n",
       " 5426 │    35383   9442  Yousei Land Mukashibanashi         ['Comedy', 'Fantasy', 'Historica…  tv       20311.0   3.79852  2.2743e-7          2.13364     -0.00132852             2.45023        2.88604e-7   20311.0     true\n",
       " 5427 │     1912   5409  Marginal Prince: Gekkeiju no Ouj…  ['Boys Love', 'Romance', 'School…  tv       20325.0   4.59168  4.47661e-7         2.41328     -0.000353123            4.0493         8.17199e-6   20325.0     true\n",
       " 5428 │    36309   4391  Butlers: Chitose Momotose Monoga…  ['Comedy', 'School', 'Supernatur…  tv       20332.0   4.66906  1.11382e-6         2.6974       0.000842852            4.02835        1.06851e-5   20332.0     true\n",
       " 5429 │    34411   1239  Taishou Mebiusline: Chicchai-san   ['Historical', 'Supernatural']     tv       20333.0   3.82786  8.03561e-7         2.71107     -0.000231783            3.27338        5.70445e-6   20333.0     true\n",
       " 5430 │    36511  17187  Tokyo Ghoul:re                     ['Action', 'Fantasy', 'Gore', 'H…  tv       20334.0   4.82592  9.30415e-5         1.23729     -0.0126213              4.87794        0.00181439   20334.0     true\n",
       " 5431 │     1561   7817  Lovedol: Lovely Idol               ['Idols (Female)', 'Music']        tv       20336.0   4.94078  7.10356e-6         2.89454      0.00109772             4.45644        4.4934e-6    20336.0     true\n",
       " 5432 │     1037   5132  Saint Beast: Seijuu Kourin-hen     ['Action', 'Fantasy', 'Supernatu…  tv       20338.0   4.86059  4.99023e-7         2.88725      0.000236794            4.37411        4.99077e-6   20338.0     true\n",
       "\u001b[36m                                                                                                                                                                                                              5391 rows omitted\u001b[0m"
      ]
     },
     "execution_count": 14,
     "metadata": {},
     "output_type": "execute_result"
    }
   ],
   "source": [
    "filter(x -> x.medium == \"tv\", rec_df) |> pretty_display"
   ]
  },
  {
   "cell_type": "code",
   "execution_count": 15,
   "id": "32eaa697-ed9a-419f-b98f-8b335e433afb",
   "metadata": {},
   "outputs": [],
   "source": [
    "import Statistics: quantile"
   ]
  },
  {
   "cell_type": "code",
   "execution_count": 16,
   "id": "7ee48028-14a4-41b7-92ec-7cdb79172d86",
   "metadata": {},
   "outputs": [
    {
     "data": {
      "text/html": [
       "<div class=\"data-frame\"><p>3,655 rows × 14 columns</p><table class=\"data-frame\"><thead><tr><th></th><th>anime_id</th><th>uid</th><th>title</th><th>genres</th><th>medium</th><th>ranking</th><th>explicit</th><th>implicit</th><th>error_explicit</th><th>error_implicit</th><th>baseline_explicit</th><th>baseline_implicit</th><th>score</th><th>display</th></tr><tr><th></th><th title=\"Int64\">Int64</th><th title=\"Int64\">Int64</th><th title=\"String\">String</th><th title=\"String\">String</th><th title=\"InlineStrings.String7\">String7</th><th title=\"Float32\">Float32</th><th title=\"Float32\">Float32</th><th title=\"Float32\">Float32</th><th title=\"Float32\">Float32</th><th title=\"Float32\">Float32</th><th title=\"Float32\">Float32</th><th title=\"Float32\">Float32</th><th title=\"Float32\">Float32</th><th title=\"Bool\">Bool</th></tr></thead><tbody><tr><th>1</th><td>48411</td><td>10158</td><td>Aria the Benedizione</td><td>[&apos;Fantasy&apos;, &apos;Iyashikei&apos;, &apos;Sci-Fi&apos;, &apos;Shounen&apos;, &apos;Slice of Life&apos;]</td><td>movie</td><td>3719.0</td><td>7.78023</td><td>2.12903e-6</td><td>0.860498</td><td>0.00225001</td><td>6.92352</td><td>2.90412e-7</td><td>-6.91973</td><td>1</td></tr><tr><th>2</th><td>42984</td><td>8632</td><td>Gotcha!</td><td>[&apos;Fantasy&apos;, &apos;Music&apos;]</td><td>music</td><td>63.0</td><td>7.67925</td><td>0.000108708</td><td>0.781197</td><td>0.0188144</td><td>7.45583</td><td>3.0276e-5</td><td>-6.89805</td><td>1</td></tr><tr><th>3</th><td>32843</td><td>3602</td><td>Senki Zesshou Symphogear XV</td><td>[&apos;Action&apos;, &apos;Idols (Female)&apos;, &apos;Music&apos;, &apos;Sci-Fi&apos;]</td><td>tv</td><td>79.0</td><td>7.49684</td><td>0.000146658</td><td>0.793819</td><td>0.0201014</td><td>6.98418</td><td>1.68961e-5</td><td>-6.70303</td><td>1</td></tr><tr><th>4</th><td>10050</td><td>9463</td><td>Macross F Music Clip Shuu: Nyankuri</td><td>[&apos;Music&apos;]</td><td>music</td><td>524.0</td><td>7.41321</td><td>1.50553e-5</td><td>0.900859</td><td>0.0107849</td><td>6.19453</td><td>2.01177e-6</td><td>-6.51235</td><td>1</td></tr><tr><th>5</th><td>35472</td><td>7295</td><td>Yuuki Yuuna wa Yuushabu Shozoku 2</td><td>[&apos;Comedy&apos;, &apos;Fantasy&apos;, &apos;Slice of Life&apos;]</td><td>movie</td><td>1510.0</td><td>7.49685</td><td>1.31532e-5</td><td>1.01703</td><td>0.010365</td><td>5.44444</td><td>1.15624e-6</td><td>-6.47982</td><td>1</td></tr><tr><th>6</th><td>33970</td><td>8707</td><td>Girls &amp; Panzer: Saishuushou Part 1</td><td>[&apos;Military&apos;, &apos;School&apos;]</td><td>movie</td><td>103.0</td><td>7.30118</td><td>0.00030287</td><td>0.835283</td><td>0.0193292</td><td>6.59781</td><td>3.65275e-5</td><td>-6.46589</td><td>1</td></tr><tr><th>7</th><td>35473</td><td>17744</td><td>Yuuki Yuuna wa Yuushabu Shozoku 3</td><td>[&apos;Comedy&apos;, &apos;Fantasy&apos;, &apos;Slice of Life&apos;]</td><td>movie</td><td>1960.0</td><td>7.51696</td><td>1.25148e-5</td><td>1.06102</td><td>0.010365</td><td>5.482</td><td>1.02955e-6</td><td>-6.45594</td><td>1</td></tr><tr><th>8</th><td>32836</td><td>20123</td><td>Senki Zesshou Symphogear AXZ</td><td>[&apos;Action&apos;, &apos;Idols (Female)&apos;, &apos;Music&apos;, &apos;Sci-Fi&apos;]</td><td>tv</td><td>100.0</td><td>7.32192</td><td>0.000144378</td><td>0.887158</td><td>0.0189914</td><td>6.34046</td><td>2.03424e-5</td><td>-6.43476</td><td>1</td></tr><tr><th>9</th><td>42941</td><td>9316</td><td>Uma Musume: Pretty Derby (TV) Season 2</td><td>[&apos;Anthropomorphic&apos;, &apos;Sports&apos;]</td><td>tv</td><td>138.0</td><td>7.20405</td><td>0.000149508</td><td>0.776613</td><td>0.0174649</td><td>6.65906</td><td>2.75943e-5</td><td>-6.42744</td><td>1</td></tr><tr><th>10</th><td>18617</td><td>17959</td><td>Girls &amp; Panzer Movie</td><td>[&apos;Military&apos;, &apos;School&apos;, &apos;Sports&apos;]</td><td>movie</td><td>144.0</td><td>7.16494</td><td>0.000554716</td><td>0.770304</td><td>0.0182035</td><td>6.80799</td><td>0.000100038</td><td>-6.39464</td><td>1</td></tr><tr><th>11</th><td>1729</td><td>12433</td><td>Maria-sama ga Miteru 3rd</td><td>[&apos;Drama&apos;, &apos;Girls Love&apos;, &apos;School&apos;, &apos;Slice of Life&apos;]</td><td>ova</td><td>129.0</td><td>7.17649</td><td>0.000223759</td><td>0.798127</td><td>0.0195644</td><td>6.49166</td><td>1.43781e-5</td><td>-6.37836</td><td>1</td></tr><tr><th>12</th><td>37870</td><td>9019</td><td>BanG Dream! 3rd Season</td><td>[&apos;Music&apos;]</td><td>tv</td><td>319.0</td><td>7.16772</td><td>1.70944e-5</td><td>0.806386</td><td>0.010602</td><td>6.59672</td><td>2.63548e-5</td><td>-6.36134</td><td>1</td></tr><tr><th>13</th><td>1065</td><td>2038</td><td>Touch</td><td>[&apos;Drama&apos;, &apos;Love Polygon&apos;, &apos;Romance&apos;, &apos;School&apos;, &apos;Shounen&apos;, &apos;Slice of Life&apos;, &apos;Sports&apos;, &apos;Team Sports&apos;]</td><td>tv</td><td>160.0</td><td>7.12212</td><td>0.000269041</td><td>0.770259</td><td>0.0190513</td><td>6.94942</td><td>1.48876e-5</td><td>-6.35186</td><td>1</td></tr><tr><th>14</th><td>3750</td><td>7976</td><td>Maria-sama ga Miteru 4th</td><td>[&apos;Girls Love&apos;, &apos;School&apos;, &apos;Shoujo&apos;, &apos;Slice of Life&apos;]</td><td>tv</td><td>179.0</td><td>7.03296</td><td>0.000178736</td><td>0.738345</td><td>0.0172091</td><td>6.43946</td><td>1.25908e-5</td><td>-6.29461</td><td>1</td></tr><tr><th>15</th><td>27989</td><td>4600</td><td>Hibike! Euphonium</td><td>[&apos;Drama&apos;, &apos;Music&apos;, &apos;Performing Arts&apos;, &apos;School&apos;]</td><td>tv</td><td>182.0</td><td>6.89415</td><td>0.00154885</td><td>0.601251</td><td>0.0213402</td><td>6.75504</td><td>0.000345354</td><td>-6.2929</td><td>1</td></tr><tr><th>16</th><td>2035</td><td>17102</td><td>Eikoku Koi Monogatari Emma: Molders-hen</td><td>[&apos;Drama&apos;, &apos;Historical&apos;, &apos;Romance&apos;, &apos;Seinen&apos;, &apos;Slice of Life&apos;]</td><td>tv</td><td>194.0</td><td>6.99244</td><td>0.000235787</td><td>0.720848</td><td>0.0175844</td><td>6.60352</td><td>1.58661e-5</td><td>-6.27159</td><td>1</td></tr><tr><th>17</th><td>21573</td><td>15434</td><td>Senki Zesshou Symphogear GX</td><td>[&apos;Action&apos;, &apos;Idols (Female)&apos;, &apos;Music&apos;, &apos;Sci-Fi&apos;]</td><td>tv</td><td>158.0</td><td>7.11156</td><td>0.000140783</td><td>0.855747</td><td>0.0174807</td><td>6.1225</td><td>2.88984e-5</td><td>-6.25581</td><td>1</td></tr><tr><th>18</th><td>38337</td><td>3787</td><td>Gochuumon wa Usagi Desu ka? Bloom</td><td>[&apos;CGDCT&apos;, &apos;Comedy&apos;, &apos;Iyashikei&apos;, &apos;Workplace&apos;]</td><td>tv</td><td>242.0</td><td>6.96948</td><td>7.96807e-5</td><td>0.71678</td><td>0.0135435</td><td>6.54904</td><td>3.21394e-5</td><td>-6.2527</td><td>1</td></tr><tr><th>19</th><td>36259</td><td>10474</td><td>Pingu in the City</td><td>[&apos;Comedy&apos;, &apos;Kids&apos;, &apos;Slice of Life&apos;]</td><td>tv</td><td>54.0</td><td>7.32275</td><td>6.53317e-5</td><td>1.07801</td><td>0.0401608</td><td>7.07446</td><td>5.37744e-5</td><td>-6.24475</td><td>1</td></tr><tr><th>20</th><td>1530</td><td>4298</td><td>Kanon (2006)</td><td>[&apos;Drama&apos;, &apos;Romance&apos;, &apos;Slice of Life&apos;, &apos;Supernatural&apos;]</td><td>tv</td><td>178.0</td><td>6.91472</td><td>0.00192675</td><td>0.704502</td><td>0.0207405</td><td>6.51258</td><td>0.000266576</td><td>-6.21022</td><td>1</td></tr><tr><th>21</th><td>34394</td><td>16999</td><td>Yuuki Yuuna wa Yuushabu Shozoku</td><td>[&apos;Comedy&apos;, &apos;Fantasy&apos;, &apos;Slice of Life&apos;]</td><td>movie</td><td>1006.0</td><td>7.25413</td><td>1.62242e-5</td><td>1.05755</td><td>0.0120672</td><td>5.32183</td><td>1.39415e-6</td><td>-6.19658</td><td>1</td></tr><tr><th>22</th><td>444</td><td>19910</td><td>Maria-sama ga Miteru: Haru</td><td>[&apos;Drama&apos;, &apos;Girls Love&apos;, &apos;Romance&apos;, &apos;School&apos;, &apos;Shoujo&apos;]</td><td>tv</td><td>200.0</td><td>6.93011</td><td>0.000336476</td><td>0.74682</td><td>0.0185523</td><td>6.31261</td><td>1.886e-5</td><td>-6.18329</td><td>1</td></tr><tr><th>23</th><td>345</td><td>7805</td><td>Eikoku Koi Monogatari Emma</td><td>[&apos;Drama&apos;, &apos;Historical&apos;, &apos;Romance&apos;, &apos;Seinen&apos;, &apos;Slice of Life&apos;]</td><td>tv</td><td>195.0</td><td>6.94175</td><td>0.00054303</td><td>0.76085</td><td>0.0188877</td><td>6.34224</td><td>3.02486e-5</td><td>-6.1809</td><td>1</td></tr><tr><th>24</th><td>32826</td><td>17726</td><td>Yuuki no Baton</td><td>[&apos;Music&apos;]</td><td>music</td><td>3360.0</td><td>7.07203</td><td>6.1814e-6</td><td>0.901722</td><td>0.00521942</td><td>5.45417</td><td>9.74836e-7</td><td>-6.1703</td><td>1</td></tr><tr><th>25</th><td>5802</td><td>5581</td><td>Fantascope: Tylostoma</td><td>[&apos;Fantasy&apos;, &apos;Supernatural&apos;]</td><td>ova</td><td>2632.0</td><td>6.82797</td><td>1.13019e-5</td><td>0.706619</td><td>0.0052762</td><td>6.44404</td><td>1.43275e-6</td><td>-6.12135</td><td>1</td></tr><tr><th>26</th><td>37804</td><td>7018</td><td>Shirobako Movie</td><td>[&apos;Adult Cast&apos;, &apos;Comedy&apos;, &apos;Drama&apos;, &apos;Otaku Culture&apos;, &apos;Workplace&apos;]</td><td>movie</td><td>268.0</td><td>6.81931</td><td>0.000367731</td><td>0.728646</td><td>0.0176707</td><td>6.57545</td><td>1.33637e-5</td><td>-6.09066</td><td>1</td></tr><tr><th>27</th><td>813</td><td>12911</td><td>Dragon Ball Z</td><td>[&apos;Action&apos;, &apos;Adventure&apos;, &apos;Comedy&apos;, &apos;Fantasy&apos;, &apos;Martial Arts&apos;, &apos;Shounen&apos;, &apos;Super Power&apos;]</td><td>tv</td><td>199.0</td><td>6.95528</td><td>0.000299224</td><td>0.881142</td><td>0.0174802</td><td>6.72273</td><td>0.00218775</td><td>-6.07413</td><td>1</td></tr><tr><th>28</th><td>9930</td><td>1788</td><td>Snow Halation</td><td>[&apos;Idols (Female)&apos;, &apos;Music&apos;]</td><td>music</td><td>969.0</td><td>6.80354</td><td>3.61897e-5</td><td>0.72959</td><td>0.0085169</td><td>6.54962</td><td>1.99962e-5</td><td>-6.07395</td><td>1</td></tr><tr><th>29</th><td>36214</td><td>12494</td><td>Asagao to Kase-san.</td><td>[&apos;Girls Love&apos;, &apos;Romance&apos;, &apos;School&apos;, &apos;Shoujo&apos;]</td><td>ova</td><td>247.0</td><td>6.84111</td><td>0.000630283</td><td>0.767937</td><td>0.0183905</td><td>6.49536</td><td>8.35839e-5</td><td>-6.07317</td><td>1</td></tr><tr><th>30</th><td>33818</td><td>5577</td><td>Amanchu!: Yakusoku no Natsu to Atarashii Omoide no Koto</td><td>[&apos;Comedy&apos;, &apos;Iyashikei&apos;, &apos;School&apos;, &apos;Shounen&apos;, &apos;Slice of Life&apos;]</td><td>ova</td><td>293.0</td><td>6.78324</td><td>0.000105464</td><td>0.759587</td><td>0.0168454</td><td>6.1981</td><td>7.38012e-6</td><td>-6.02365</td><td>1</td></tr><tr><th>31</th><td>32153</td><td>12969</td><td>Mahou Shoujo Madoka★Magica: Concept Movie</td><td>[&apos;Drama&apos;, &apos;Psychological&apos;, &apos;Suspense&apos;]</td><td>movie</td><td>274.0</td><td>6.80744</td><td>0.000133298</td><td>0.787578</td><td>0.0165549</td><td>6.03165</td><td>1.7151e-5</td><td>-6.01986</td><td>1</td></tr><tr><th>32</th><td>1888</td><td>10365</td><td>Ichigo Mashimaro OVA</td><td>[&apos;CGDCT&apos;, &apos;Comedy&apos;, &apos;Iyashikei&apos;, &apos;School&apos;, &apos;Slice of Life&apos;]</td><td>ova</td><td>264.0</td><td>6.77716</td><td>0.000881606</td><td>0.759638</td><td>0.0190223</td><td>6.41584</td><td>1.77285e-5</td><td>-6.01752</td><td>1</td></tr><tr><th>33</th><td>4811</td><td>14419</td><td>Ichigo Mashimaro Encore</td><td>[&apos;CGDCT&apos;, &apos;Comedy&apos;, &apos;Iyashikei&apos;, &apos;Slice of Life&apos;]</td><td>ova</td><td>275.0</td><td>6.77705</td><td>0.00063814</td><td>0.760302</td><td>0.0185667</td><td>6.40617</td><td>1.45283e-5</td><td>-6.01675</td><td>1</td></tr><tr><th>34</th><td>353</td><td>12724</td><td>Ojamajo Doremi Dokkaan!</td><td>[&apos;Comedy&apos;, &apos;Shoujo&apos;]</td><td>tv</td><td>421.0</td><td>6.76645</td><td>2.23931e-5</td><td>0.750499</td><td>0.0106812</td><td>6.33443</td><td>1.29148e-5</td><td>-6.01595</td><td>1</td></tr><tr><th>35</th><td>208</td><td>15780</td><td>R.O.D: Read or Die</td><td>[&apos;Action&apos;, &apos;Adult Cast&apos;, &apos;Adventure&apos;, &apos;Historical&apos;, &apos;Mystery&apos;, &apos;Sci-Fi&apos;]</td><td>ova</td><td>269.0</td><td>6.78131</td><td>0.00075574</td><td>0.772597</td><td>0.0186485</td><td>6.40689</td><td>5.44576e-5</td><td>-6.00871</td><td>1</td></tr><tr><th>36</th><td>593</td><td>19591</td><td>Mugen no Ryvius</td><td>[&apos;Drama&apos;, &apos;Mecha&apos;, &apos;Military&apos;, &apos;Psychological&apos;, &apos;Sci-Fi&apos;, &apos;Space&apos;]</td><td>tv</td><td>255.0</td><td>6.76944</td><td>0.00122229</td><td>0.766713</td><td>0.0201386</td><td>6.41441</td><td>1.78216e-5</td><td>-6.00273</td><td>1</td></tr><tr><th>37</th><td>427</td><td>10763</td><td>Kaleido Star</td><td>[&apos;Comedy&apos;, &apos;Drama&apos;, &apos;Fantasy&apos;, &apos;Performing Arts&apos;, &apos;Shoujo&apos;]</td><td>tv</td><td>251.0</td><td>6.79204</td><td>0.000471778</td><td>0.790806</td><td>0.0198358</td><td>6.27301</td><td>7.28155e-5</td><td>-6.00123</td><td>1</td></tr><tr><th>38</th><td>122</td><td>5773</td><td>Full Moon wo Sagashite</td><td>[&apos;Comedy&apos;, &apos;Drama&apos;, &apos;Music&apos;, &apos;Romance&apos;, &apos;Shoujo&apos;, &apos;Supernatural&apos;]</td><td>tv</td><td>291.0</td><td>6.77335</td><td>0.000401662</td><td>0.793594</td><td>0.0176585</td><td>6.31197</td><td>0.000110629</td><td>-5.97976</td><td>1</td></tr><tr><th>39</th><td>13755</td><td>14795</td><td>Shanshui Qing</td><td>[&apos;Music&apos;]</td><td>movie</td><td>4941.0</td><td>6.98086</td><td>8.47224e-6</td><td>1.02872</td><td>0.00105002</td><td>6.79985</td><td>8.11627e-7</td><td>-5.95214</td><td>1</td></tr><tr><th>40</th><td>429</td><td>8498</td><td>Kaleido Star: Legend of Phoenix - Layla Hamilton Monogatari</td><td>[&apos;Comedy&apos;, &apos;Drama&apos;, &apos;Shoujo&apos;]</td><td>ova</td><td>343.0</td><td>6.72561</td><td>9.98218e-5</td><td>0.777096</td><td>0.0163243</td><td>6.34823</td><td>1.15483e-5</td><td>-5.94852</td><td>1</td></tr><tr><th>41</th><td>488</td><td>813</td><td>Ichigo Mashimaro</td><td>[&apos;CGDCT&apos;, &apos;Comedy&apos;, &apos;Iyashikei&apos;, &apos;Slice of Life&apos;]</td><td>tv</td><td>292.0</td><td>6.72901</td><td>0.00138589</td><td>0.790429</td><td>0.01853</td><td>6.27809</td><td>6.07543e-5</td><td>-5.93858</td><td>1</td></tr><tr><th>42</th><td>24973</td><td>6752</td><td>Bokura wa Minna Kawai-sou Specials</td><td>[&apos;Comedy&apos;, &apos;Seinen&apos;]</td><td>special</td><td>3926.0</td><td>6.77525</td><td>2.42224e-6</td><td>0.843924</td><td>0.00257459</td><td>5.73263</td><td>6.91461e-6</td><td>-5.93133</td><td>1</td></tr><tr><th>43</th><td>38081</td><td>10701</td><td>Girls &amp; Panzer: Saishuushou Part 2</td><td>[&apos;Military&apos;, &apos;School&apos;]</td><td>movie</td><td>241.0</td><td>6.85734</td><td>0.000202395</td><td>0.928231</td><td>0.0210176</td><td>6.74042</td><td>2.53541e-5</td><td>-5.92911</td><td>1</td></tr><tr><th>44</th><td>2397</td><td>10995</td><td>Digimon Adventure: Bokura no War Game!</td><td>[&apos;Adventure&apos;, &apos;Comedy&apos;, &apos;Kids&apos;, &apos;Sci-Fi&apos;]</td><td>movie</td><td>378.0</td><td>6.72057</td><td>0.000134971</td><td>0.802268</td><td>0.0142842</td><td>6.46793</td><td>8.63386e-5</td><td>-5.9183</td><td>1</td></tr><tr><th>45</th><td>37869</td><td>2555</td><td>BanG Dream! 2nd Season</td><td>[&apos;Music&apos;]</td><td>tv</td><td>392.0</td><td>6.71211</td><td>2.36234e-5</td><td>0.801903</td><td>0.0122618</td><td>6.10429</td><td>3.74851e-5</td><td>-5.9102</td><td>1</td></tr><tr><th>46</th><td>46431</td><td>4324</td><td>Yahari Ore no Seishun Love Comedy wa Machigatteiru. Kan OVA</td><td>[&apos;Comedy&apos;, &apos;Love Polygon&apos;, &apos;Romance&apos;, &apos;School&apos;]</td><td>ova</td><td>4236.0</td><td>6.69637</td><td>2.93374e-8</td><td>0.789121</td><td>0.000701349</td><td>6.43767</td><td>1.92794e-7</td><td>-5.90725</td><td>1</td></tr><tr><th>47</th><td>552</td><td>7972</td><td>Digimon Adventure</td><td>[&apos;Action&apos;, &apos;Adventure&apos;, &apos;Comedy&apos;, &apos;Fantasy&apos;, &apos;Isekai&apos;, &apos;Kids&apos;]</td><td>tv</td><td>278.0</td><td>6.72032</td><td>0.000391411</td><td>0.84047</td><td>0.0208641</td><td>6.32014</td><td>0.000594438</td><td>-5.87985</td><td>1</td></tr><tr><th>48</th><td>29787</td><td>19813</td><td>Gochuumon wa Usagi Desu ka??</td><td>[&apos;CGDCT&apos;, &apos;Comedy&apos;, &apos;Iyashikei&apos;, &apos;Workplace&apos;]</td><td>tv</td><td>370.0</td><td>6.71862</td><td>0.00014546</td><td>0.847128</td><td>0.0148236</td><td>6.34104</td><td>8.94137e-5</td><td>-5.8715</td><td>1</td></tr><tr><th>49</th><td>15989</td><td>7399</td><td>Saki Achiga-hen: Episode of Side-A Specials</td><td>[&apos;School&apos;, &apos;Slice of Life&apos;, &apos;Strategy Game&apos;]</td><td>special</td><td>385.0</td><td>6.67442</td><td>0.000121711</td><td>0.803149</td><td>0.0152057</td><td>6.26934</td><td>8.23729e-6</td><td>-5.87127</td><td>1</td></tr><tr><th>50</th><td>49730</td><td>582</td><td>Pokemon Evolutions</td><td>[&apos;Adventure&apos;, &apos;Fantasy&apos;, &apos;Kids&apos;]</td><td>ona</td><td>2868.0</td><td>6.67009</td><td>1.14598e-5</td><td>0.81454</td><td>0.00602725</td><td>6.25156</td><td>1.38117e-5</td><td>-5.85556</td><td>1</td></tr><tr><th>&vellip;</th><td>&vellip;</td><td>&vellip;</td><td>&vellip;</td><td>&vellip;</td><td>&vellip;</td><td>&vellip;</td><td>&vellip;</td><td>&vellip;</td><td>&vellip;</td><td>&vellip;</td><td>&vellip;</td><td>&vellip;</td><td>&vellip;</td><td>&vellip;</td></tr></tbody></table></div>"
      ],
      "text/latex": [
       "\\begin{tabular}{r|cccccccccccccc}\n",
       "\t& anime\\_id & uid & title & genres & medium & ranking & explicit & implicit & error\\_explicit & error\\_implicit & baseline\\_explicit & baseline\\_implicit & score & display\\\\\n",
       "\t\\hline\n",
       "\t& Int64 & Int64 & String & String & String7 & Float32 & Float32 & Float32 & Float32 & Float32 & Float32 & Float32 & Float32 & Bool\\\\\n",
       "\t\\hline\n",
       "\t1 & 48411 & 10158 & Aria the Benedizione & ['Fantasy', 'Iyashikei', 'Sci-Fi', 'Shounen', 'Slice of Life'] & movie & 3719.0 & 7.78023 & 2.12903e-6 & 0.860498 & 0.00225001 & 6.92352 & 2.90412e-7 & -6.91973 & 1 \\\\\n",
       "\t2 & 42984 & 8632 & Gotcha! & ['Fantasy', 'Music'] & music & 63.0 & 7.67925 & 0.000108708 & 0.781197 & 0.0188144 & 7.45583 & 3.0276e-5 & -6.89805 & 1 \\\\\n",
       "\t3 & 32843 & 3602 & Senki Zesshou Symphogear XV & ['Action', 'Idols (Female)', 'Music', 'Sci-Fi'] & tv & 79.0 & 7.49684 & 0.000146658 & 0.793819 & 0.0201014 & 6.98418 & 1.68961e-5 & -6.70303 & 1 \\\\\n",
       "\t4 & 10050 & 9463 & Macross F Music Clip Shuu: Nyankuri & ['Music'] & music & 524.0 & 7.41321 & 1.50553e-5 & 0.900859 & 0.0107849 & 6.19453 & 2.01177e-6 & -6.51235 & 1 \\\\\n",
       "\t5 & 35472 & 7295 & Yuuki Yuuna wa Yuushabu Shozoku 2 & ['Comedy', 'Fantasy', 'Slice of Life'] & movie & 1510.0 & 7.49685 & 1.31532e-5 & 1.01703 & 0.010365 & 5.44444 & 1.15624e-6 & -6.47982 & 1 \\\\\n",
       "\t6 & 33970 & 8707 & Girls \\& Panzer: Saishuushou Part 1 & ['Military', 'School'] & movie & 103.0 & 7.30118 & 0.00030287 & 0.835283 & 0.0193292 & 6.59781 & 3.65275e-5 & -6.46589 & 1 \\\\\n",
       "\t7 & 35473 & 17744 & Yuuki Yuuna wa Yuushabu Shozoku 3 & ['Comedy', 'Fantasy', 'Slice of Life'] & movie & 1960.0 & 7.51696 & 1.25148e-5 & 1.06102 & 0.010365 & 5.482 & 1.02955e-6 & -6.45594 & 1 \\\\\n",
       "\t8 & 32836 & 20123 & Senki Zesshou Symphogear AXZ & ['Action', 'Idols (Female)', 'Music', 'Sci-Fi'] & tv & 100.0 & 7.32192 & 0.000144378 & 0.887158 & 0.0189914 & 6.34046 & 2.03424e-5 & -6.43476 & 1 \\\\\n",
       "\t9 & 42941 & 9316 & Uma Musume: Pretty Derby (TV) Season 2 & ['Anthropomorphic', 'Sports'] & tv & 138.0 & 7.20405 & 0.000149508 & 0.776613 & 0.0174649 & 6.65906 & 2.75943e-5 & -6.42744 & 1 \\\\\n",
       "\t10 & 18617 & 17959 & Girls \\& Panzer Movie & ['Military', 'School', 'Sports'] & movie & 144.0 & 7.16494 & 0.000554716 & 0.770304 & 0.0182035 & 6.80799 & 0.000100038 & -6.39464 & 1 \\\\\n",
       "\t11 & 1729 & 12433 & Maria-sama ga Miteru 3rd & ['Drama', 'Girls Love', 'School', 'Slice of Life'] & ova & 129.0 & 7.17649 & 0.000223759 & 0.798127 & 0.0195644 & 6.49166 & 1.43781e-5 & -6.37836 & 1 \\\\\n",
       "\t12 & 37870 & 9019 & BanG Dream! 3rd Season & ['Music'] & tv & 319.0 & 7.16772 & 1.70944e-5 & 0.806386 & 0.010602 & 6.59672 & 2.63548e-5 & -6.36134 & 1 \\\\\n",
       "\t13 & 1065 & 2038 & Touch & ['Drama', 'Love Polygon', 'Romance', 'School', 'Shounen', 'Slice of Life', 'Sports', 'Team Sports'] & tv & 160.0 & 7.12212 & 0.000269041 & 0.770259 & 0.0190513 & 6.94942 & 1.48876e-5 & -6.35186 & 1 \\\\\n",
       "\t14 & 3750 & 7976 & Maria-sama ga Miteru 4th & ['Girls Love', 'School', 'Shoujo', 'Slice of Life'] & tv & 179.0 & 7.03296 & 0.000178736 & 0.738345 & 0.0172091 & 6.43946 & 1.25908e-5 & -6.29461 & 1 \\\\\n",
       "\t15 & 27989 & 4600 & Hibike! Euphonium & ['Drama', 'Music', 'Performing Arts', 'School'] & tv & 182.0 & 6.89415 & 0.00154885 & 0.601251 & 0.0213402 & 6.75504 & 0.000345354 & -6.2929 & 1 \\\\\n",
       "\t16 & 2035 & 17102 & Eikoku Koi Monogatari Emma: Molders-hen & ['Drama', 'Historical', 'Romance', 'Seinen', 'Slice of Life'] & tv & 194.0 & 6.99244 & 0.000235787 & 0.720848 & 0.0175844 & 6.60352 & 1.58661e-5 & -6.27159 & 1 \\\\\n",
       "\t17 & 21573 & 15434 & Senki Zesshou Symphogear GX & ['Action', 'Idols (Female)', 'Music', 'Sci-Fi'] & tv & 158.0 & 7.11156 & 0.000140783 & 0.855747 & 0.0174807 & 6.1225 & 2.88984e-5 & -6.25581 & 1 \\\\\n",
       "\t18 & 38337 & 3787 & Gochuumon wa Usagi Desu ka? Bloom & ['CGDCT', 'Comedy', 'Iyashikei', 'Workplace'] & tv & 242.0 & 6.96948 & 7.96807e-5 & 0.71678 & 0.0135435 & 6.54904 & 3.21394e-5 & -6.2527 & 1 \\\\\n",
       "\t19 & 36259 & 10474 & Pingu in the City & ['Comedy', 'Kids', 'Slice of Life'] & tv & 54.0 & 7.32275 & 6.53317e-5 & 1.07801 & 0.0401608 & 7.07446 & 5.37744e-5 & -6.24475 & 1 \\\\\n",
       "\t20 & 1530 & 4298 & Kanon (2006) & ['Drama', 'Romance', 'Slice of Life', 'Supernatural'] & tv & 178.0 & 6.91472 & 0.00192675 & 0.704502 & 0.0207405 & 6.51258 & 0.000266576 & -6.21022 & 1 \\\\\n",
       "\t21 & 34394 & 16999 & Yuuki Yuuna wa Yuushabu Shozoku & ['Comedy', 'Fantasy', 'Slice of Life'] & movie & 1006.0 & 7.25413 & 1.62242e-5 & 1.05755 & 0.0120672 & 5.32183 & 1.39415e-6 & -6.19658 & 1 \\\\\n",
       "\t22 & 444 & 19910 & Maria-sama ga Miteru: Haru & ['Drama', 'Girls Love', 'Romance', 'School', 'Shoujo'] & tv & 200.0 & 6.93011 & 0.000336476 & 0.74682 & 0.0185523 & 6.31261 & 1.886e-5 & -6.18329 & 1 \\\\\n",
       "\t23 & 345 & 7805 & Eikoku Koi Monogatari Emma & ['Drama', 'Historical', 'Romance', 'Seinen', 'Slice of Life'] & tv & 195.0 & 6.94175 & 0.00054303 & 0.76085 & 0.0188877 & 6.34224 & 3.02486e-5 & -6.1809 & 1 \\\\\n",
       "\t24 & 32826 & 17726 & Yuuki no Baton & ['Music'] & music & 3360.0 & 7.07203 & 6.1814e-6 & 0.901722 & 0.00521942 & 5.45417 & 9.74836e-7 & -6.1703 & 1 \\\\\n",
       "\t25 & 5802 & 5581 & Fantascope: Tylostoma & ['Fantasy', 'Supernatural'] & ova & 2632.0 & 6.82797 & 1.13019e-5 & 0.706619 & 0.0052762 & 6.44404 & 1.43275e-6 & -6.12135 & 1 \\\\\n",
       "\t26 & 37804 & 7018 & Shirobako Movie & ['Adult Cast', 'Comedy', 'Drama', 'Otaku Culture', 'Workplace'] & movie & 268.0 & 6.81931 & 0.000367731 & 0.728646 & 0.0176707 & 6.57545 & 1.33637e-5 & -6.09066 & 1 \\\\\n",
       "\t27 & 813 & 12911 & Dragon Ball Z & ['Action', 'Adventure', 'Comedy', 'Fantasy', 'Martial Arts', 'Shounen', 'Super Power'] & tv & 199.0 & 6.95528 & 0.000299224 & 0.881142 & 0.0174802 & 6.72273 & 0.00218775 & -6.07413 & 1 \\\\\n",
       "\t28 & 9930 & 1788 & Snow Halation & ['Idols (Female)', 'Music'] & music & 969.0 & 6.80354 & 3.61897e-5 & 0.72959 & 0.0085169 & 6.54962 & 1.99962e-5 & -6.07395 & 1 \\\\\n",
       "\t29 & 36214 & 12494 & Asagao to Kase-san. & ['Girls Love', 'Romance', 'School', 'Shoujo'] & ova & 247.0 & 6.84111 & 0.000630283 & 0.767937 & 0.0183905 & 6.49536 & 8.35839e-5 & -6.07317 & 1 \\\\\n",
       "\t30 & 33818 & 5577 & Amanchu!: Yakusoku no Natsu to Atarashii Omoide no Koto & ['Comedy', 'Iyashikei', 'School', 'Shounen', 'Slice of Life'] & ova & 293.0 & 6.78324 & 0.000105464 & 0.759587 & 0.0168454 & 6.1981 & 7.38012e-6 & -6.02365 & 1 \\\\\n",
       "\t31 & 32153 & 12969 & Mahou Shoujo Madoka★Magica: Concept Movie & ['Drama', 'Psychological', 'Suspense'] & movie & 274.0 & 6.80744 & 0.000133298 & 0.787578 & 0.0165549 & 6.03165 & 1.7151e-5 & -6.01986 & 1 \\\\\n",
       "\t32 & 1888 & 10365 & Ichigo Mashimaro OVA & ['CGDCT', 'Comedy', 'Iyashikei', 'School', 'Slice of Life'] & ova & 264.0 & 6.77716 & 0.000881606 & 0.759638 & 0.0190223 & 6.41584 & 1.77285e-5 & -6.01752 & 1 \\\\\n",
       "\t33 & 4811 & 14419 & Ichigo Mashimaro Encore & ['CGDCT', 'Comedy', 'Iyashikei', 'Slice of Life'] & ova & 275.0 & 6.77705 & 0.00063814 & 0.760302 & 0.0185667 & 6.40617 & 1.45283e-5 & -6.01675 & 1 \\\\\n",
       "\t34 & 353 & 12724 & Ojamajo Doremi Dokkaan! & ['Comedy', 'Shoujo'] & tv & 421.0 & 6.76645 & 2.23931e-5 & 0.750499 & 0.0106812 & 6.33443 & 1.29148e-5 & -6.01595 & 1 \\\\\n",
       "\t35 & 208 & 15780 & R.O.D: Read or Die & ['Action', 'Adult Cast', 'Adventure', 'Historical', 'Mystery', 'Sci-Fi'] & ova & 269.0 & 6.78131 & 0.00075574 & 0.772597 & 0.0186485 & 6.40689 & 5.44576e-5 & -6.00871 & 1 \\\\\n",
       "\t36 & 593 & 19591 & Mugen no Ryvius & ['Drama', 'Mecha', 'Military', 'Psychological', 'Sci-Fi', 'Space'] & tv & 255.0 & 6.76944 & 0.00122229 & 0.766713 & 0.0201386 & 6.41441 & 1.78216e-5 & -6.00273 & 1 \\\\\n",
       "\t37 & 427 & 10763 & Kaleido Star & ['Comedy', 'Drama', 'Fantasy', 'Performing Arts', 'Shoujo'] & tv & 251.0 & 6.79204 & 0.000471778 & 0.790806 & 0.0198358 & 6.27301 & 7.28155e-5 & -6.00123 & 1 \\\\\n",
       "\t38 & 122 & 5773 & Full Moon wo Sagashite & ['Comedy', 'Drama', 'Music', 'Romance', 'Shoujo', 'Supernatural'] & tv & 291.0 & 6.77335 & 0.000401662 & 0.793594 & 0.0176585 & 6.31197 & 0.000110629 & -5.97976 & 1 \\\\\n",
       "\t39 & 13755 & 14795 & Shanshui Qing & ['Music'] & movie & 4941.0 & 6.98086 & 8.47224e-6 & 1.02872 & 0.00105002 & 6.79985 & 8.11627e-7 & -5.95214 & 1 \\\\\n",
       "\t40 & 429 & 8498 & Kaleido Star: Legend of Phoenix - Layla Hamilton Monogatari & ['Comedy', 'Drama', 'Shoujo'] & ova & 343.0 & 6.72561 & 9.98218e-5 & 0.777096 & 0.0163243 & 6.34823 & 1.15483e-5 & -5.94852 & 1 \\\\\n",
       "\t41 & 488 & 813 & Ichigo Mashimaro & ['CGDCT', 'Comedy', 'Iyashikei', 'Slice of Life'] & tv & 292.0 & 6.72901 & 0.00138589 & 0.790429 & 0.01853 & 6.27809 & 6.07543e-5 & -5.93858 & 1 \\\\\n",
       "\t42 & 24973 & 6752 & Bokura wa Minna Kawai-sou Specials & ['Comedy', 'Seinen'] & special & 3926.0 & 6.77525 & 2.42224e-6 & 0.843924 & 0.00257459 & 5.73263 & 6.91461e-6 & -5.93133 & 1 \\\\\n",
       "\t43 & 38081 & 10701 & Girls \\& Panzer: Saishuushou Part 2 & ['Military', 'School'] & movie & 241.0 & 6.85734 & 0.000202395 & 0.928231 & 0.0210176 & 6.74042 & 2.53541e-5 & -5.92911 & 1 \\\\\n",
       "\t44 & 2397 & 10995 & Digimon Adventure: Bokura no War Game! & ['Adventure', 'Comedy', 'Kids', 'Sci-Fi'] & movie & 378.0 & 6.72057 & 0.000134971 & 0.802268 & 0.0142842 & 6.46793 & 8.63386e-5 & -5.9183 & 1 \\\\\n",
       "\t45 & 37869 & 2555 & BanG Dream! 2nd Season & ['Music'] & tv & 392.0 & 6.71211 & 2.36234e-5 & 0.801903 & 0.0122618 & 6.10429 & 3.74851e-5 & -5.9102 & 1 \\\\\n",
       "\t46 & 46431 & 4324 & Yahari Ore no Seishun Love Comedy wa Machigatteiru. Kan OVA & ['Comedy', 'Love Polygon', 'Romance', 'School'] & ova & 4236.0 & 6.69637 & 2.93374e-8 & 0.789121 & 0.000701349 & 6.43767 & 1.92794e-7 & -5.90725 & 1 \\\\\n",
       "\t47 & 552 & 7972 & Digimon Adventure & ['Action', 'Adventure', 'Comedy', 'Fantasy', 'Isekai', 'Kids'] & tv & 278.0 & 6.72032 & 0.000391411 & 0.84047 & 0.0208641 & 6.32014 & 0.000594438 & -5.87985 & 1 \\\\\n",
       "\t48 & 29787 & 19813 & Gochuumon wa Usagi Desu ka?? & ['CGDCT', 'Comedy', 'Iyashikei', 'Workplace'] & tv & 370.0 & 6.71862 & 0.00014546 & 0.847128 & 0.0148236 & 6.34104 & 8.94137e-5 & -5.8715 & 1 \\\\\n",
       "\t49 & 15989 & 7399 & Saki Achiga-hen: Episode of Side-A Specials & ['School', 'Slice of Life', 'Strategy Game'] & special & 385.0 & 6.67442 & 0.000121711 & 0.803149 & 0.0152057 & 6.26934 & 8.23729e-6 & -5.87127 & 1 \\\\\n",
       "\t50 & 49730 & 582 & Pokemon Evolutions & ['Adventure', 'Fantasy', 'Kids'] & ona & 2868.0 & 6.67009 & 1.14598e-5 & 0.81454 & 0.00602725 & 6.25156 & 1.38117e-5 & -5.85556 & 1 \\\\\n",
       "\t$\\dots$ & $\\dots$ & $\\dots$ & $\\dots$ & $\\dots$ & $\\dots$ & $\\dots$ & $\\dots$ & $\\dots$ & $\\dots$ & $\\dots$ & $\\dots$ & $\\dots$ & $\\dots$ & $\\dots$ \\\\\n",
       "\\end{tabular}\n"
      ],
      "text/plain": [
       "\u001b[1m3655×14 DataFrame\u001b[0m\n",
       "\u001b[1m  Row \u001b[0m│\u001b[1m anime_id \u001b[0m\u001b[1m uid   \u001b[0m\u001b[1m title                             \u001b[0m\u001b[1m genres                            \u001b[0m\u001b[1m medium  \u001b[0m\u001b[1m ranking \u001b[0m\u001b[1m explicit \u001b[0m\u001b[1m implicit    \u001b[0m\u001b[1m error_explicit \u001b[0m\u001b[1m error_implicit \u001b[0m\u001b[1m baseline_explicit \u001b[0m\u001b[1m baseline_implicit \u001b[0m\u001b[1m score     \u001b[0m\u001b[1m display \u001b[0m\n",
       "\u001b[1m      \u001b[0m│\u001b[90m Int64    \u001b[0m\u001b[90m Int64 \u001b[0m\u001b[90m String                            \u001b[0m\u001b[90m String                            \u001b[0m\u001b[90m String7 \u001b[0m\u001b[90m Float32 \u001b[0m\u001b[90m Float32  \u001b[0m\u001b[90m Float32     \u001b[0m\u001b[90m Float32        \u001b[0m\u001b[90m Float32        \u001b[0m\u001b[90m Float32           \u001b[0m\u001b[90m Float32           \u001b[0m\u001b[90m Float32   \u001b[0m\u001b[90m Bool    \u001b[0m\n",
       "──────┼──────────────────────────────────────────────────────────────────────────────────────────────────────────────────────────────────────────────────────────────────────────────────────────────────────────────────────────\n",
       "    1 │    48411  10158  Aria the Benedizione               ['Fantasy', 'Iyashikei', 'Sci-Fi…  movie     3719.0   7.78023  2.12903e-6         0.860498     0.00225001             6.92352        2.90412e-7   -6.91973      true\n",
       "    2 │    42984   8632  Gotcha!                            ['Fantasy', 'Music']               music       63.0   7.67925  0.000108708        0.781197     0.0188144              7.45583        3.0276e-5    -6.89805      true\n",
       "    3 │    32843   3602  Senki Zesshou Symphogear XV        ['Action', 'Idols (Female)', 'Mu…  tv          79.0   7.49684  0.000146658        0.793819     0.0201014              6.98418        1.68961e-5   -6.70303      true\n",
       "    4 │    10050   9463  Macross F Music Clip Shuu: Nyank…  ['Music']                          music      524.0   7.41321  1.50553e-5         0.900859     0.0107849              6.19453        2.01177e-6   -6.51235      true\n",
       "    5 │    35472   7295  Yuuki Yuuna wa Yuushabu Shozoku 2  ['Comedy', 'Fantasy', 'Slice of …  movie     1510.0   7.49685  1.31532e-5         1.01703      0.010365               5.44444        1.15624e-6   -6.47982      true\n",
       "    6 │    33970   8707  Girls & Panzer: Saishuushou Part…  ['Military', 'School']             movie      103.0   7.30118  0.00030287         0.835283     0.0193292              6.59781        3.65275e-5   -6.46589      true\n",
       "    7 │    35473  17744  Yuuki Yuuna wa Yuushabu Shozoku 3  ['Comedy', 'Fantasy', 'Slice of …  movie     1960.0   7.51696  1.25148e-5         1.06102      0.010365               5.482          1.02955e-6   -6.45594      true\n",
       "    8 │    32836  20123  Senki Zesshou Symphogear AXZ       ['Action', 'Idols (Female)', 'Mu…  tv         100.0   7.32192  0.000144378        0.887158     0.0189914              6.34046        2.03424e-5   -6.43476      true\n",
       "    9 │    42941   9316  Uma Musume: Pretty Derby (TV) Se…  ['Anthropomorphic', 'Sports']      tv         138.0   7.20405  0.000149508        0.776613     0.0174649              6.65906        2.75943e-5   -6.42744      true\n",
       "   10 │    18617  17959  Girls & Panzer Movie               ['Military', 'School', 'Sports']   movie      144.0   7.16494  0.000554716        0.770304     0.0182035              6.80799        0.000100038  -6.39464      true\n",
       "   11 │     1729  12433  Maria-sama ga Miteru 3rd           ['Drama', 'Girls Love', 'School'…  ova        129.0   7.17649  0.000223759        0.798127     0.0195644              6.49166        1.43781e-5   -6.37836      true\n",
       "   12 │    37870   9019  BanG Dream! 3rd Season             ['Music']                          tv         319.0   7.16772  1.70944e-5         0.806386     0.010602               6.59672        2.63548e-5   -6.36134      true\n",
       "   13 │     1065   2038  Touch                              ['Drama', 'Love Polygon', 'Roman…  tv         160.0   7.12212  0.000269041        0.770259     0.0190513              6.94942        1.48876e-5   -6.35186      true\n",
       "   14 │     3750   7976  Maria-sama ga Miteru 4th           ['Girls Love', 'School', 'Shoujo…  tv         179.0   7.03296  0.000178736        0.738345     0.0172091              6.43946        1.25908e-5   -6.29461      true\n",
       "   15 │    27989   4600  Hibike! Euphonium                  ['Drama', 'Music', 'Performing A…  tv         182.0   6.89415  0.00154885         0.601251     0.0213402              6.75504        0.000345354  -6.2929       true\n",
       "   16 │     2035  17102  Eikoku Koi Monogatari Emma: Mold…  ['Drama', 'Historical', 'Romance…  tv         194.0   6.99244  0.000235787        0.720848     0.0175844              6.60352        1.58661e-5   -6.27159      true\n",
       "   17 │    21573  15434  Senki Zesshou Symphogear GX        ['Action', 'Idols (Female)', 'Mu…  tv         158.0   7.11156  0.000140783        0.855747     0.0174807              6.1225         2.88984e-5   -6.25581      true\n",
       "   18 │    38337   3787  Gochuumon wa Usagi Desu ka? Bloom  ['CGDCT', 'Comedy', 'Iyashikei',…  tv         242.0   6.96948  7.96807e-5         0.71678      0.0135435              6.54904        3.21394e-5   -6.2527       true\n",
       "   19 │    36259  10474  Pingu in the City                  ['Comedy', 'Kids', 'Slice of Lif…  tv          54.0   7.32275  6.53317e-5         1.07801      0.0401608              7.07446        5.37744e-5   -6.24475      true\n",
       "   20 │     1530   4298  Kanon (2006)                       ['Drama', 'Romance', 'Slice of L…  tv         178.0   6.91472  0.00192675         0.704502     0.0207405              6.51258        0.000266576  -6.21022      true\n",
       "   21 │    34394  16999  Yuuki Yuuna wa Yuushabu Shozoku    ['Comedy', 'Fantasy', 'Slice of …  movie     1006.0   7.25413  1.62242e-5         1.05755      0.0120672              5.32183        1.39415e-6   -6.19658      true\n",
       "  ⋮   │    ⋮        ⋮                    ⋮                                  ⋮                     ⋮        ⋮        ⋮           ⋮             ⋮               ⋮                 ⋮                  ⋮              ⋮         ⋮\n",
       " 3636 │    40845  15866  Marudase Kintarou                  ['Boys Love']                      movie    20299.0   3.43294  8.10228e-7         2.37804     -0.000269982            2.73603        3.6159e-6    -1.0549       true\n",
       " 3637 │    38980  13328  I Like It                          ['Music']                          music    13721.0   2.40374  1.02127e-6         1.35432      0.000653671            1.99241        9.63372e-7   -1.04942      true\n",
       " 3638 │     9342  19489  Twinkle Nora Rock Me!              ['Action', 'Sci-Fi']               ova       5255.0   2.8306   3.52478e-5         1.84787      0.00711048             2.23561        2.8118e-6    -0.982727     true\n",
       " 3639 │    42260   4800  Ninja Collection                   ['Horror', 'Supernatural']         tv       14998.0   2.61743  3.62748e-6         1.64948      0.00108981             2.27099        8.13332e-6   -0.967947     true\n",
       " 3640 │    29949   3363  Nami                               ['Avant Garde']                    movie     4879.0   2.31041  3.8041e-5          1.35588      0.00607849             1.60005        2.18791e-5   -0.954528     true\n",
       " 3641 │     5877   7986  Abunai Sisters: Koko & Mika        ['Action', 'Comedy', 'Ecchi']      ova       4671.0   2.02991  1.42651e-5         1.14972      0.00543488             1.69925        7.31872e-6   -0.880194     true\n",
       " 3642 │    37448   3210  Ladyspo                            ['Action', 'Comedy', 'Sci-Fi']     tv       20252.0   2.76794  3.58855e-6         1.88816     -0.000539885            1.78139        1.25607e-6   -0.879776     true\n",
       " 3643 │     6953  15789  Ningen Doubutsuen                  ['Avant Garde']                    movie     7169.0   2.67356  1.88272e-5         1.81287      0.00450369             2.05025        3.21311e-6   -0.860693     true\n",
       " 3644 │    22169   4217  Fetish Doll                        ['Avant Garde']                    movie    20281.0   3.12756  2.58185e-6         2.2781      -0.000310657            2.33255        1.67909e-6   -0.849455     true\n",
       " 3645 │    13405   6652  Utsu Musume Sayuri                 ['Avant Garde', 'Comedy']          ova       4019.0   1.7085   7.33688e-5         0.894289     0.0133902              1.28355        2.7369e-5    -0.814209     true\n",
       " 3646 │     3287   5731  Tenkuu Danzai Skelter+Heaven       ['Mecha', 'Sci-Fi']                ova       3101.0   2.07895  0.000248343        1.2921       0.0208809              1.09736        4.6595e-5    -0.786845     true\n",
       " 3647 │    29978   4951  001                                ['Comedy']                         ona       4173.0   3.1437   1.50595e-5         2.36151      0.0121857              2.53887        2.09277e-5   -0.7822       true\n",
       " 3648 │    31586    834  Mochibei                           ['Avant Garde']                    movie    20322.0   3.18667  6.94997e-6         2.40864     -0.00134284             2.3211         5.15263e-6   -0.778035     true\n",
       " 3649 │    22179   9325  Aki no Puzzle                      ['Avant Garde']                    movie    20228.0   2.43178  2.19928e-6         1.71739     -0.000336218            1.57889        1.62959e-6   -0.714391     true\n",
       " 3650 │    39917  19781  Sabiiro no Armor: Reimei           ['Action', 'Historical', 'Samura…  tv       19655.0   2.37221  2.65607e-6         1.66529      0.000498945            1.84503        3.42834e-6   -0.706915     true\n",
       " 3651 │     8689  16238  Born by Myself                     ['Avant Garde', 'Psychological']   ona      20275.0   2.96468  3.43273e-6         2.27254      0.000269717            2.22803        1.59956e-6   -0.69214      true\n",
       " 3652 │    31634   8996  Kokuhaku                           ['Horror']                         ona       4729.0   1.82654  1.39332e-5         1.14972      0.00543488             1.49453        7.02659e-6   -0.676829     true\n",
       " 3653 │    32894  11334  Love Bites                         ['Horror']                         ona      20155.0   2.54797  7.68939e-6         1.93496      0.00111309             1.93326        3.6818e-6    -0.613017     true\n",
       " 3654 │     5569  19160  Tsui no Sora                       ['Hentai']                         ova       5652.0   1.7159   1.2344e-5          1.23763      0.0041851              1.2028         5.60527e-6   -0.478274     true\n",
       " 3655 │    34223   8407  Forest Fairy Five                  ['Comedy', 'Fantasy', 'Music']     tv       20278.0   2.56825  2.98494e-6         2.29499     -0.00029102             1.68678        1.67494e-6   -0.273257     true\n",
       "\u001b[36m                                                                                                                                                                                                                3614 rows omitted\u001b[0m"
      ]
     },
     "execution_count": 16,
     "metadata": {},
     "output_type": "execute_result"
    }
   ],
   "source": [
    "df = copy(rec_df)\n",
    "df[:, \"score\"] = -(df[:, \"explicit\"] - df[:, \"error_explicit\"]);\n",
    "filter(\n",
    "    x -> x.explicit - x.baseline_explicit > 0.1,\n",
    "    filter(x -> x.implicit > quantile(df.implicit, 0.01), df),\n",
    ") |> pretty_display"
   ]
  },
  {
   "cell_type": "code",
   "execution_count": 17,
   "id": "0c37685d-f011-4643-8a41-2806d87c8b36",
   "metadata": {},
   "outputs": [],
   "source": [
    "# \tanime_id\tuid\ttitle\tgenres\tmedium\trating\talpha\tstd\tp\tnsfw\n",
    "# Int64\tInt64\tString\tString?\tString7\tFloat32\tFloat32\tFloat32\tFloat32\tString7\n",
    "# 1\t31988\t11173\tHibike! Euphonium 2\t['Drama', 'Music', 'School']\ttv\t7.38253\t0.356698\t0.792334\t0.00168306\twhite\n",
    "# 2\t1065\t967\tTouch\t['Drama', 'Romance', 'School', 'Shounen', 'Slice of Life', 'Sports']\ttv\t7.34929\t0.467546\t0.908755\t0.00076882\twhite\n",
    "# 3\t27989\t9666\tHibike! Euphonium\t['Drama', 'Music', 'School']\ttv\t7.23239\t0.571174\t0.868754\t0.00258483\twhite\n",
    "# 4\t1858\t1694\tGakuen Utopia Manabi Straight!\t['Comedy', 'School', 'Slice of Life']\ttv\t7.09079\t1.20158\t0.729596\t0.00062308\twhite\n",
    "# 5\t25835\t9373\tShirobako\t['Comedy', 'Drama']\ttv\t7.14048\t0.161561\t0.805839\t0.00261632\twhite\n",
    "# 6\t5941\t4377\tCross Game\t['Comedy', 'Drama', 'Romance', 'School', 'Shounen', 'Sports']\ttv\t7.23503\t0.154975\t0.9538\t0.00104641\twhite\n",
    "# 7\t39570\t15596\tHigh Score Girl II\t['Comedy', 'Game', 'Romance', 'School', 'Seinen']\ttv\t7.01997\t0.324915\t0.878117\t0.000592566\twhite\n",
    "# 8\t1530\t1388\tKanon (2006)\t['Drama', 'Romance', 'Slice of Life', 'Supernatural']\ttv\t7.16325\t0.720318\t1.03834\t0.00227492\twhite\n",
    "# 9\t488\t458\tIchigo Mashimaro\t['Comedy', 'Slice of Life']\ttv\t6.9334\t0.724677\t0.852129\t0.00104676\twhite\n",
    "# 10\t122\t101\tFull Moon wo Sagashite\t['Comedy', 'Drama', 'Music', 'Romance', 'Shoujo', 'Supernatural']\ttv\t6.94031\t0.727181\t0.869193\t0.000667557\twhite\n",
    "# 11\t21877\t8534\tHigh Score Girl\t['Comedy', 'Game', 'Romance', 'School', 'Seinen']\ttv\t6.88657\t0.471743\t0.941942\t0.000968524\twhite\n",
    "# 12\t38993\t15192\tKarakai Jouzu no Takagi-san 2\t['Comedy', 'Romance', 'School', 'Shounen', 'Slice of Life']\ttv\t6.78872\t0.179552\t0.993493\t0.000348786\twhite\n",
    "# 13\t532\t499\tBishoujo Senshi Sailor Moon S\t['Drama', 'Romance', 'Shoujo']\ttv\t6.63147\t0.41036\t0.84895\t0.000437212\twhite\n",
    "# 14\t135\t114\tHikaru no Go\t['Comedy', 'Game', 'Shounen', 'Supernatural']\ttv\t6.74995\t0.153899\t1.02637\t0.000676344\twhite\n",
    "# 15\t30727\t10611\tSaenai Heroine no Sodatekata ♭\t['Comedy', 'Ecchi', 'Harem', 'Romance', 'School']\ttv\t6.59874\t0.364116\t0.876918\t0.000742145\twhite\n",
    "# 16\t593\t556\tMugen no Ryvius\t['Drama', 'Mecha', 'Military', 'Psychological', 'Sci-Fi', 'Space']\ttv\t6.68717\t0.304934\t0.972565\t0.00101426\twhite\n",
    "# 17\t34902\t12650\tTsurezure Children\t['Comedy', 'Romance', 'School', 'Shounen']\ttv\t6.51234\t0.364974\t0.807823\t0.00102669\twhite\n",
    "# 18\t59\t40\tChobits\t['Comedy', 'Drama', 'Ecchi', 'Romance', 'Sci-Fi', 'Seinen']\ttv\t6.6161\t0.883723\t0.948174\t0.00179486\twhite\n",
    "# 19\t38753\t15022\tAraburu Kisetsu no Otome-domo yo.\t['Comedy', 'Drama', 'Romance', 'School', 'Shounen']\ttv\t6.52573\t0.495667\t0.864833\t0.000905996\twhite\n",
    "# 20\t31771\t11089\tAmanchu!\t['Comedy', 'School', 'Shounen', 'Slice of Life']\ttv\t6.58394\t0.685901\t0.926502\t0.000584655\twhite\n",
    "# 21\t35860\t13252\tKarakai Jouzu no Takagi-san\t['Comedy', 'Romance', 'School', 'Shounen', 'Slice of Life']\ttv\t6.59876\t0.432538\t0.977115\t0.000852553\twhite\n",
    "# 22\t427\t400\tKaleido Star\t['Comedy', 'Drama', 'Fantasy', 'Shoujo', 'Sports']\ttv\t6.57368\t0.344165\t0.97538\t0.000534053\twhite\n",
    "# 23\t40530\t16120\tJaku-Chara Tomozaki-kun\t['Drama', 'Romance', 'School']\ttv\t6.47727\t0.923203\t0.894883\t0.000440828\twhite\n",
    "# 24\t874\t789\tDigimon Tamers\t['Adventure', 'Comedy', 'Drama', 'Fantasy', 'Shounen']\ttv\t6.52593\t0.48561\t0.980111\t0.000362535\twhite\n",
    "# 25\t35240\t12889\tPrincess Principal\t['Action', 'Historical', 'Mystery']\ttv\t6.5926\t0.377174\t1.06195\t0.000912882\twhite\n",
    "# 26\t42361\t16907\tIjiranaide, Nagatoro-san\t['Comedy', 'Romance', 'Slice of Life']\ttv\t6.60228\t0.83992\t1.08517\t0.000529261\twhite\n",
    "# 27\t18897\t7968\tNisekoi\t['Comedy', 'Harem', 'Romance', 'School', 'Shounen']\ttv\t6.31667\t0.286932\t0.808886\t0.00141164\twhite\n",
    "# 28\t1486\t1348\tKodomo no Omocha (TV)\t['Comedy', 'Drama', 'Romance', 'Shoujo']\ttv\t6.56859\t0.231561\t1.06944\t0.000533452\twhite\n",
    "# 29\t35639\t13136\tJust Because!\t['Drama', 'Romance', 'School', 'Slice of Life']\ttv\t6.46695\t0.763056\t0.99794\t0.000684533\twhite\n",
    "# 30\t1222\t1114\tBokura ga Ita\t['Drama', 'Romance', 'Shoujo', 'Slice of Life']\ttv\t6.70307\t1.16039\t1.23905\t0.000494813\twhite\n",
    "# 31\t41619\t16653\tMunou na Nana\t['Psychological', 'Shounen', 'Super Power', 'Supernatural', 'Suspense']\ttv\t6.41985\t0.698886\t0.958501\t0.000440847\twhite\n",
    "# 32\t14131\t7087\tGirls & Panzer\t['Action', 'Military', 'School', 'Sports']\ttv\t6.55237\t0.586552\t1.13453\t0.00168731\twhite\n",
    "# 33\t552\t517\tDigimon Adventure\t['Action', 'Adventure', 'Comedy', 'Fantasy', 'Kids']\ttv\t6.55298\t0.365117\t1.13609\t0.000609451\twhite\n",
    "# 34\t40685\t16205\tSuper Cub\t['School', 'Slice of Life']\ttv\t6.35695\t0.364119\t0.944397\t0.000580612\twhite\n",
    "# 35\t37890\t14482\tOshi ga Budoukan Ittekuretara Shinu\t['Comedy', 'Girls Love', 'Music', 'Seinen', 'Slice of Life']\ttv\t6.20357\t0.206216\t0.801772\t0.000379987\twhite\n",
    "# 36\t34984\t12704\tKoi wa Ameagari no You ni\t['Drama', 'Romance', 'Seinen', 'Slice of Life']\ttv\t6.56196\t0.419388\t1.16207\t0.00116559\twhite\n",
    "# 37\t3958\t3399\tKannagi\t['Comedy', 'School', 'Shounen', 'Supernatural']\ttv\t6.24875\t0.494657\t0.866859\t0.00120494\twhite\n",
    "# 38\t31859\t11120\tHai to Gensou no Grimgar\t['Action', 'Adventure', 'Drama', 'Fantasy']\ttv\t6.24894\t0.166416\t0.876223\t0.000963634\twhite\n",
    "# 39\t13333\t6942\tTari Tari\t['Music', 'School', 'Slice of Life']\ttv\t6.24726\t0.466783\t0.878362\t0.00116383\twhite\n",
    "# 40\t587\t550\tHanbun no Tsuki ga Noboru Sora\t['Comedy', 'Drama', 'Romance']\ttv\t6.30107\t0.38663\t0.960221\t0.00128816\twhite\n",
    "# 41\t8861\t5539\tYosuga no Sora: In Solitude, Where We Are Least Alone.\t['Drama', 'Ecchi', 'Harem', 'Romance']\ttv\t7.46844\t3.02749\t2.15606\t0.00104767\tgray\n",
    "# 42\t2986\t2716\tBamboo Blade\t['Comedy', 'School', 'Seinen', 'Sports']\ttv\t6.17986\t0.452029\t0.868882\t0.000749638\twhite\n",
    "# 43\t35756\t13204\tComic Girls\t['Comedy', 'Slice of Life']\ttv\t6.22388\t0.350058\t0.919891\t0.000430328\twhite\n",
    "# 44\t1087\t987\tKimagure Orange☆Road\t['Comedy', 'Drama', 'Romance', 'School', 'Shounen', 'Slice of Life', 'Super Power']\ttv\t6.38255\t0.190579\t1.07896\t0.000837759\twhite\n",
    "# 45\t12149\t6691\tAKB0048\t['Music', 'Sci-Fi']\ttv\t6.26354\t0.61283\t0.960399\t0.00053292\twhite\n",
    "# 46\t330\t306\tMidori no Hibi\t['Comedy', 'Drama', 'Ecchi', 'Romance', 'Shounen']\ttv\t6.17071\t0.533026\t0.875367\t0.00092522\twhite\n",
    "# 47\t46093\t17949\tShiroi Suna no Aquatope\t['Drama', 'Slice of Life']\ttv\t6.36729\t0.377252\t1.0729\t0.000547827\twhite\n",
    "# 48\t5150\t3975\tHatsukoi Limited.\t['Comedy', 'Romance', 'School', 'Shounen']\ttv\t6.09554\t0.397329\t0.811726\t0.000535075\twhite\n",
    "# 49\t740\t677\tBishoujo Senshi Sailor Moon R\t['Demons', 'Romance', 'Shoujo']\ttv\t6.29016\t0.24701\t1.00655\t0.000616277\twhite\n",
    "# 50\t37982\t14550\tDomestic na Kanojo\t['Drama', 'Romance', 'School', "
   ]
  },
  {
   "cell_type": "code",
   "execution_count": null,
   "id": "6a403abe-f9d6-450e-8f67-29916098f252",
   "metadata": {},
   "outputs": [],
   "source": []
  }
 ],
 "metadata": {
  "kernelspec": {
   "display_name": "Julia 1.8.0-rc1",
   "language": "julia",
   "name": "julia-1.8"
  },
  "language_info": {
   "file_extension": ".jl",
   "mimetype": "application/julia",
   "name": "julia",
   "version": "1.8.0"
  }
 },
 "nbformat": 4,
 "nbformat_minor": 5
}
