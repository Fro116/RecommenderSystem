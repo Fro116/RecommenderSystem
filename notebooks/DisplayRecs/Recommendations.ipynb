{
 "cells": [
  {
   "cell_type": "code",
   "execution_count": 1,
   "id": "240e43fd-abc8-4d44-a3d6-85293d0dd756",
   "metadata": {},
   "outputs": [],
   "source": [
    "source = \"Recommendations\";"
   ]
  },
  {
   "cell_type": "code",
   "execution_count": 2,
   "id": "ba187524-034d-40f6-9e40-0ab5123e36bb",
   "metadata": {},
   "outputs": [],
   "source": [
    "using DataFrames\n",
    "import CSV\n",
    "import NBInclude: @nbinclude\n",
    "import Statistics: mean\n",
    "@nbinclude(\"../InferenceAlphas/Alpha.ipynb\");"
   ]
  },
  {
   "cell_type": "code",
   "execution_count": 3,
   "id": "2dc4c5b5-a759-463c-b163-e47fd461a554",
   "metadata": {},
   "outputs": [],
   "source": [
    "ENV[\"COLUMNS\"] = 999999;\n",
    "ENV[\"LINES\"] = 50;\n",
    "recommend_related_series = true;"
   ]
  },
  {
   "cell_type": "code",
   "execution_count": 4,
   "id": "20127075-7c57-4629-9283-d1f18a8ff2bb",
   "metadata": {},
   "outputs": [],
   "source": [
    "const anime = DataFrame(CSV.File(\"../../data/processed_data/anime.csv\", ntasks = 1))\n",
    "anime_to_uid = DataFrame(CSV.File(\"../../data/processed_data/anime_to_uid.csv\"))\n",
    "anime_to_uid = innerjoin(anime_to_uid, anime, on = \"anime_id\");"
   ]
  },
  {
   "cell_type": "code",
   "execution_count": 5,
   "id": "9fa0327c-2d09-4040-8819-32125a957f15",
   "metadata": {
    "tags": []
   },
   "outputs": [],
   "source": [
    "rating_df = DataFrame(\n",
    "    \"uid\" => 0:num_items()-1,\n",
    "    \"ranking\" => read_recommendee_alpha(\"BPR\", \"all\").rating,\n",
    "    \"explicit\" => read_recommendee_alpha(\"Explicit\", \"all\").rating,\n",
    "    \"implicit\" => read_recommendee_alpha(\"LinearImplicit\", \"all\").rating,\n",
    "    \"error_explicit\" => read_recommendee_alpha(\"ErrorExplicit\", \"all\").rating,\n",
    "    \"error_implicit\" => read_recommendee_alpha(\"ErrorImplicit\", \"all\").rating,\n",
    "    \"baseline_explicit\" =>\n",
    "        read_recommendee_alpha(\"ExplicitUserItemBiases\", \"all\").rating,\n",
    "    \"baseline_implicit\" => read_recommendee_alpha(\"PopularityBaseline\", \"all\").rating,\n",
    ")\n",
    "rating_df[:, \"score\"] = rating_df[:, \"ranking\"];"
   ]
  },
  {
   "cell_type": "code",
   "execution_count": 6,
   "id": "89a34ece-a029-4b79-98a8-743d7aa89b22",
   "metadata": {},
   "outputs": [
    {
     "name": "stderr",
     "output_type": "stream",
     "text": [
      "\u001b[38;5;6m\u001b[1m[ \u001b[22m\u001b[39m\u001b[38;5;6m\u001b[1mInfo: \u001b[22m\u001b[39m20220626 15:13:09 RMSE: 1.4549922\n",
      "\u001b[38;5;6m\u001b[1m[ \u001b[22m\u001b[39m\u001b[38;5;6m\u001b[1mInfo: \u001b[22m\u001b[39m20220626 15:13:09 R2: 0.28803468\n"
     ]
    }
   ],
   "source": [
    "# evaluate our insample predictions\n",
    "df = get_recommendee_split(false)\n",
    "const rss = sum((df.rating - rating_df.explicit[df.item]) .^ 2)\n",
    "const tss = sum((df.rating .- mean(df.rating)) .^ 2)\n",
    "@info \"RMSE: $(sqrt(rss / length(df.rating)))\"\n",
    "@info \"R2: $(1 - rss / tss)\""
   ]
  },
  {
   "cell_type": "code",
   "execution_count": 7,
   "id": "24345713-0e5e-4d52-89a2-16dd2b5d3f96",
   "metadata": {
    "tags": []
   },
   "outputs": [],
   "source": [
    "# don't recommend shows that the user has already seen before\n",
    "rating_df[:, \"display\"] .= true\n",
    "seen_items = vcat(get_recommendee_split(true).item, get_recommendee_split(false).item)\n",
    "rating_df.display[seen_items] .= false\n",
    "\n",
    "# don't recommend shows related to shows they have seen before\n",
    "if !recommend_related_series\n",
    "    related_series =\n",
    "        get_alpha(\"ItemCF.Related.strict_relations\", \"recommendee_inference\").rating .!= 0\n",
    "    rating_df.display[related_series] .= false\n",
    "end;"
   ]
  },
  {
   "cell_type": "code",
   "execution_count": 8,
   "id": "2f87ebbf-d246-43cc-8b07-79b4929318ea",
   "metadata": {},
   "outputs": [],
   "source": [
    "rec_df = innerjoin(anime_to_uid, rating_df, on = \"uid\");\n",
    "keepcols = [\"anime_id\", \"uid\", \"title\", \"genres\", \"medium\"]\n",
    "for x in names(rating_df)\n",
    "    if x ∉ keepcols\n",
    "        push!(keepcols, x)\n",
    "    end\n",
    "end\n",
    "rec_df = rec_df[:, keepcols];"
   ]
  },
  {
   "cell_type": "code",
   "execution_count": 9,
   "id": "43369775-7454-4784-8be2-c9dfbc828690",
   "metadata": {},
   "outputs": [
    {
     "data": {
      "text/plain": [
       "(441, 443)"
      ]
     },
     "execution_count": 9,
     "metadata": {},
     "output_type": "execute_result"
    }
   ],
   "source": [
    "length(get_recommendee_split(false).item), length(get_recommendee_split(true).item)"
   ]
  },
  {
   "cell_type": "code",
   "execution_count": 10,
   "id": "87d0ac7b-9f8d-4d5d-ab59-ad8e65a6d948",
   "metadata": {},
   "outputs": [],
   "source": [
    "function pretty_display(df)\n",
    "    sort(filter(x -> x.display, df), :score)\n",
    "end;"
   ]
  },
  {
   "cell_type": "code",
   "execution_count": 11,
   "id": "ed168f16-b287-4565-bf0d-4781e27c016a",
   "metadata": {
    "tags": []
   },
   "outputs": [
    {
     "data": {
      "text/html": [
       "<div class=\"data-frame\"><p>5,650 rows × 14 columns</p><table class=\"data-frame\"><thead><tr><th></th><th>anime_id</th><th>uid</th><th>title</th><th>genres</th><th>medium</th><th>ranking</th><th>explicit</th><th>implicit</th><th>error_explicit</th><th>error_implicit</th><th>baseline_explicit</th><th>baseline_implicit</th><th>score</th><th>display</th></tr><tr><th></th><th title=\"Int64\">Int64</th><th title=\"Int64\">Int64</th><th title=\"String\">String</th><th title=\"String\">String</th><th title=\"InlineStrings.String7\">String7</th><th title=\"Float32\">Float32</th><th title=\"Float32\">Float32</th><th title=\"Float32\">Float32</th><th title=\"Float32\">Float32</th><th title=\"Float32\">Float32</th><th title=\"Float32\">Float32</th><th title=\"Float32\">Float32</th><th title=\"Float32\">Float32</th><th title=\"Bool\">Bool</th></tr></thead><tbody><tr><th>1</th><td>5114</td><td>17079</td><td>Fullmetal Alchemist: Brotherhood</td><td>[&apos;Action&apos;, &apos;Adventure&apos;, &apos;Drama&apos;, &apos;Fantasy&apos;, &apos;Military&apos;, &apos;Shounen&apos;]</td><td>tv</td><td>15.0</td><td>8.10881</td><td>0.00308927</td><td>1.03487</td><td>0.229428</td><td>7.62535</td><td>0.00308928</td><td>15.0</td><td>1</td></tr><tr><th>2</th><td>38524</td><td>12753</td><td>Shingeki no Kyojin Season 3 Part 2</td><td>[&apos;Action&apos;, &apos;Drama&apos;, &apos;Gore&apos;, &apos;Military&apos;, &apos;Shounen&apos;, &apos;Survival&apos;]</td><td>tv</td><td>16.0</td><td>8.04535</td><td>0.00253456</td><td>0.862004</td><td>0.228715</td><td>7.68329</td><td>0.00253456</td><td>16.0</td><td>1</td></tr><tr><th>3</th><td>40028</td><td>5414</td><td>Shingeki no Kyojin: The Final Season</td><td>[&apos;Action&apos;, &apos;Drama&apos;, &apos;Gore&apos;, &apos;Military&apos;, &apos;Shounen&apos;, &apos;Survival&apos;]</td><td>tv</td><td>32.0</td><td>7.7869</td><td>0.00219663</td><td>0.906047</td><td>0.211023</td><td>7.4072</td><td>0.00219663</td><td>32.0</td><td>1</td></tr><tr><th>4</th><td>11061</td><td>7814</td><td>Hunter x Hunter (2011)</td><td>[&apos;Action&apos;, &apos;Adventure&apos;, &apos;Fantasy&apos;, &apos;Shounen&apos;]</td><td>tv</td><td>36.0</td><td>7.69266</td><td>0.00262856</td><td>1.07681</td><td>0.236616</td><td>7.57482</td><td>0.00262857</td><td>36.0</td><td>1</td></tr><tr><th>5</th><td>42587</td><td>13295</td><td>Yuuki Yuuna wa Yuusha de Aru: Dai Mankai no Shou</td><td>[&apos;Drama&apos;, &apos;Fantasy&apos;, &apos;Mahou Shoujo&apos;, &apos;Slice of Life&apos;]</td><td>tv</td><td>40.0</td><td>7.96928</td><td>1.62878e-5</td><td>1.05102</td><td>0.107299</td><td>5.90612</td><td>1.62878e-5</td><td>40.0</td><td>1</td></tr><tr><th>6</th><td>28891</td><td>9157</td><td>Haikyuu!! Second Season</td><td>[&apos;School&apos;, &apos;Shounen&apos;, &apos;Sports&apos;, &apos;Team Sports&apos;]</td><td>tv</td><td>45.0</td><td>7.67453</td><td>0.0016207</td><td>0.873716</td><td>0.155618</td><td>7.22776</td><td>0.0016207</td><td>45.0</td><td>1</td></tr><tr><th>7</th><td>16498</td><td>7644</td><td>Shingeki no Kyojin</td><td>[&apos;Action&apos;, &apos;Drama&apos;, &apos;Gore&apos;, &apos;Military&apos;, &apos;Shounen&apos;, &apos;Survival&apos;]</td><td>tv</td><td>51.0</td><td>7.24461</td><td>0.00424122</td><td>0.963547</td><td>0.204823</td><td>7.04385</td><td>0.00424123</td><td>51.0</td><td>1</td></tr><tr><th>8</th><td>25777</td><td>8685</td><td>Shingeki no Kyojin Season 2</td><td>[&apos;Action&apos;, &apos;Drama&apos;, &apos;Gore&apos;, &apos;Military&apos;, &apos;Shounen&apos;, &apos;Survival&apos;]</td><td>tv</td><td>52.0</td><td>7.18928</td><td>0.00310658</td><td>0.839084</td><td>0.238822</td><td>7.09824</td><td>0.00310658</td><td>52.0</td><td>1</td></tr><tr><th>9</th><td>30276</td><td>2415</td><td>One Punch Man</td><td>[&apos;Action&apos;, &apos;Comedy&apos;, &apos;Parody&apos;, &apos;Seinen&apos;, &apos;Super Power&apos;]</td><td>tv</td><td>54.0</td><td>7.14623</td><td>0.0035174</td><td>1.10283</td><td>0.264691</td><td>7.02705</td><td>0.00351741</td><td>54.0</td><td>1</td></tr><tr><th>10</th><td>40748</td><td>18010</td><td>Jujutsu Kaisen (TV)</td><td>[&apos;Action&apos;, &apos;Fantasy&apos;, &apos;School&apos;, &apos;Shounen&apos;]</td><td>tv</td><td>55.0</td><td>7.14456</td><td>0.00263574</td><td>1.03073</td><td>0.275208</td><td>7.21643</td><td>0.00263575</td><td>55.0</td><td>1</td></tr><tr><th>11</th><td>48583</td><td>18963</td><td>Shingeki no Kyojin: The Final Season Part 2</td><td>[&apos;Action&apos;, &apos;Drama&apos;, &apos;Gore&apos;, &apos;Military&apos;, &apos;Shounen&apos;, &apos;Survival&apos;]</td><td>tv</td><td>69.0</td><td>7.63805</td><td>0.0012622</td><td>0.857252</td><td>0.156731</td><td>7.45514</td><td>0.00126221</td><td>69.0</td><td>1</td></tr><tr><th>12</th><td>32935</td><td>2448</td><td>Haikyuu!!: Karasuno Koukou vs. Shiratorizawa Gakuen Koukou</td><td>[&apos;School&apos;, &apos;Shounen&apos;, &apos;Sports&apos;, &apos;Team Sports&apos;]</td><td>tv</td><td>70.0</td><td>7.5759</td><td>0.00136979</td><td>0.996574</td><td>0.170686</td><td>7.39082</td><td>0.00136979</td><td>70.0</td><td>1</td></tr><tr><th>13</th><td>38000</td><td>11465</td><td>Kimetsu no Yaiba</td><td>[&apos;Action&apos;, &apos;Fantasy&apos;, &apos;Historical&apos;, &apos;Shounen&apos;]</td><td>tv</td><td>72.0</td><td>7.01204</td><td>0.00326954</td><td>0.89993</td><td>0.264015</td><td>7.0779</td><td>0.00326954</td><td>72.0</td><td>1</td></tr><tr><th>14</th><td>47778</td><td>18684</td><td>Kimetsu no Yaiba: Yuukaku-hen</td><td>[&apos;Action&apos;, &apos;Fantasy&apos;, &apos;Historical&apos;, &apos;Shounen&apos;]</td><td>tv</td><td>77.0</td><td>7.35919</td><td>0.00142428</td><td>0.886807</td><td>0.195734</td><td>7.42571</td><td>0.00142428</td><td>77.0</td><td>1</td></tr><tr><th>15</th><td>33486</td><td>19915</td><td>Boku no Hero Academia 2nd Season</td><td>[&apos;Action&apos;, &apos;School&apos;, &apos;Shounen&apos;, &apos;Super Power&apos;]</td><td>tv</td><td>79.0</td><td>7.10337</td><td>0.00294497</td><td>0.673</td><td>0.15027</td><td>6.68712</td><td>0.00294497</td><td>79.0</td><td>1</td></tr><tr><th>16</th><td>35760</td><td>19030</td><td>Shingeki no Kyojin Season 3</td><td>[&apos;Action&apos;, &apos;Drama&apos;, &apos;Gore&apos;, &apos;Military&apos;, &apos;Shounen&apos;, &apos;Survival&apos;]</td><td>tv</td><td>82.0</td><td>7.16494</td><td>0.00269863</td><td>0.98421</td><td>0.21859</td><td>7.23127</td><td>0.00269863</td><td>82.0</td><td>1</td></tr><tr><th>17</th><td>40776</td><td>8909</td><td>Haikyuu!! To the Top Part 2</td><td>[&apos;School&apos;, &apos;Shounen&apos;, &apos;Sports&apos;, &apos;Team Sports&apos;]</td><td>tv</td><td>84.0</td><td>7.33049</td><td>0.000873575</td><td>0.809011</td><td>0.143257</td><td>7.15138</td><td>0.000873577</td><td>84.0</td><td>1</td></tr><tr><th>18</th><td>38883</td><td>14856</td><td>Haikyuu!! To the Top</td><td>[&apos;School&apos;, &apos;Shounen&apos;, &apos;Sports&apos;, &apos;Team Sports&apos;]</td><td>tv</td><td>85.0</td><td>7.33367</td><td>0.00104375</td><td>0.979724</td><td>0.141159</td><td>6.96516</td><td>0.00104375</td><td>85.0</td><td>1</td></tr><tr><th>19</th><td>21</td><td>9917</td><td>One Piece</td><td>[&apos;Action&apos;, &apos;Adventure&apos;, &apos;Fantasy&apos;, &apos;Shounen&apos;]</td><td>tv</td><td>88.0</td><td>7.08491</td><td>0.00216221</td><td>1.00964</td><td>0.219196</td><td>7.19899</td><td>0.00216222</td><td>88.0</td><td>1</td></tr><tr><th>20</th><td>19111</td><td>15311</td><td>Love Live! School Idol Project 2nd Season</td><td>[&apos;Idols (Female)&apos;, &apos;Music&apos;, &apos;School&apos;, &apos;Slice of Life&apos;]</td><td>tv</td><td>91.0</td><td>7.28637</td><td>0.000328063</td><td>1.01488</td><td>0.107964</td><td>6.31284</td><td>0.000328064</td><td>91.0</td><td>1</td></tr><tr><th>21</th><td>1</td><td>11017</td><td>Cowboy Bebop</td><td>[&apos;Action&apos;, &apos;Adult Cast&apos;, &apos;Sci-Fi&apos;, &apos;Space&apos;]</td><td>tv</td><td>98.0</td><td>7.14034</td><td>0.00168163</td><td>0.917395</td><td>0.194343</td><td>7.43068</td><td>0.00168163</td><td>98.0</td><td>1</td></tr><tr><th>22</th><td>37779</td><td>5006</td><td>Yakusoku no Neverland</td><td>[&apos;Mystery&apos;, &apos;Psychological&apos;, &apos;Sci-Fi&apos;, &apos;Shounen&apos;, &apos;Survival&apos;, &apos;Suspense&apos;]</td><td>tv</td><td>100.0</td><td>6.97499</td><td>0.00218617</td><td>1.00818</td><td>0.226122</td><td>7.15962</td><td>0.00218617</td><td>100.0</td><td>1</td></tr><tr><th>23</th><td>37510</td><td>7710</td><td>Mob Psycho 100 II</td><td>[&apos;Action&apos;, &apos;Comedy&apos;, &apos;Super Power&apos;, &apos;Supernatural&apos;]</td><td>tv</td><td>101.0</td><td>7.19257</td><td>0.00160488</td><td>1.20797</td><td>0.204379</td><td>7.51132</td><td>0.00160489</td><td>101.0</td><td>1</td></tr><tr><th>24</th><td>50265</td><td>4347</td><td>Spy x Family</td><td>[&apos;Action&apos;, &apos;Childcare&apos;, &apos;Comedy&apos;, &apos;Shounen&apos;]</td><td>tv</td><td>107.0</td><td>7.21792</td><td>0.00103509</td><td>0.870559</td><td>0.176016</td><td>7.47808</td><td>0.00103509</td><td>107.0</td><td>1</td></tr><tr><th>25</th><td>30484</td><td>6093</td><td>Steins;Gate 0</td><td>[&apos;Drama&apos;, &apos;Sci-Fi&apos;, &apos;Suspense&apos;, &apos;Time Travel&apos;]</td><td>tv</td><td>108.0</td><td>7.24585</td><td>0.000843721</td><td>0.938933</td><td>0.148013</td><td>7.23536</td><td>0.000843723</td><td>108.0</td><td>1</td></tr><tr><th>26</th><td>37521</td><td>12349</td><td>Vinland Saga</td><td>[&apos;Action&apos;, &apos;Adventure&apos;, &apos;Drama&apos;, &apos;Historical&apos;, &apos;Seinen&apos;]</td><td>tv</td><td>109.0</td><td>7.14337</td><td>0.00133033</td><td>0.79087</td><td>0.182571</td><td>7.44317</td><td>0.00133033</td><td>109.0</td><td>1</td></tr><tr><th>27</th><td>813</td><td>12911</td><td>Dragon Ball Z</td><td>[&apos;Action&apos;, &apos;Adventure&apos;, &apos;Comedy&apos;, &apos;Fantasy&apos;, &apos;Martial Arts&apos;, &apos;Shounen&apos;, &apos;Super Power&apos;]</td><td>tv</td><td>111.0</td><td>7.04296</td><td>0.00140241</td><td>0.775016</td><td>0.135349</td><td>6.68018</td><td>0.00140241</td><td>111.0</td><td>1</td></tr><tr><th>28</th><td>26055</td><td>9103</td><td>JoJo no Kimyou na Bouken Part 3: Stardust Crusaders 2nd Season</td><td>[&apos;Action&apos;, &apos;Adventure&apos;, &apos;Drama&apos;, &apos;Shounen&apos;, &apos;Supernatural&apos;]</td><td>tv</td><td>113.0</td><td>7.0687</td><td>0.00133276</td><td>0.772944</td><td>0.163506</td><td>7.16622</td><td>0.00133276</td><td>113.0</td><td>1</td></tr><tr><th>29</th><td>36456</td><td>15146</td><td>Boku no Hero Academia 3rd Season</td><td>[&apos;Action&apos;, &apos;School&apos;, &apos;Shounen&apos;, &apos;Super Power&apos;]</td><td>tv</td><td>116.0</td><td>6.85821</td><td>0.00256673</td><td>0.677034</td><td>0.154493</td><td>6.63844</td><td>0.00256673</td><td>116.0</td><td>1</td></tr><tr><th>30</th><td>20</td><td>15281</td><td>Naruto</td><td>[&apos;Action&apos;, &apos;Adventure&apos;, &apos;Fantasy&apos;, &apos;Martial Arts&apos;, &apos;Shounen&apos;]</td><td>tv</td><td>117.0</td><td>6.82172</td><td>0.00311239</td><td>1.02131</td><td>0.185035</td><td>6.42401</td><td>0.0031124</td><td>117.0</td><td>1</td></tr><tr><th>31</th><td>22535</td><td>11784</td><td>Kiseijuu: Sei no Kakuritsu</td><td>[&apos;Action&apos;, &apos;Gore&apos;, &apos;Horror&apos;, &apos;Psychological&apos;, &apos;Sci-Fi&apos;, &apos;Seinen&apos;]</td><td>tv</td><td>118.0</td><td>6.94298</td><td>0.00202228</td><td>0.887302</td><td>0.183694</td><td>6.91023</td><td>0.00202229</td><td>118.0</td><td>1</td></tr><tr><th>32</th><td>19</td><td>17026</td><td>Monster</td><td>[&apos;Adult Cast&apos;, &apos;Drama&apos;, &apos;Mystery&apos;, &apos;Psychological&apos;, &apos;Seinen&apos;, &apos;Suspense&apos;]</td><td>tv</td><td>120.0</td><td>7.23144</td><td>0.000735493</td><td>0.948559</td><td>0.160704</td><td>7.59226</td><td>0.000735495</td><td>120.0</td><td>1</td></tr><tr><th>33</th><td>269</td><td>20133</td><td>Bleach</td><td>[&apos;Action&apos;, &apos;Adventure&apos;, &apos;Fantasy&apos;, &apos;Shounen&apos;]</td><td>tv</td><td>123.0</td><td>6.87316</td><td>0.00197477</td><td>1.17045</td><td>0.1761</td><td>6.24199</td><td>0.00197478</td><td>123.0</td><td>1</td></tr><tr><th>34</th><td>33352</td><td>7763</td><td>Violet Evergarden</td><td>[&apos;Drama&apos;, &apos;Fantasy&apos;, &apos;Slice of Life&apos;]</td><td>tv</td><td>124.0</td><td>6.96353</td><td>0.00178117</td><td>1.13689</td><td>0.222436</td><td>7.26352</td><td>0.00178117</td><td>124.0</td><td>1</td></tr><tr><th>35</th><td>32836</td><td>20123</td><td>Senki Zesshou Symphogear AXZ</td><td>[&apos;Action&apos;, &apos;Idols (Female)&apos;, &apos;Music&apos;, &apos;Sci-Fi&apos;]</td><td>tv</td><td>127.0</td><td>7.47314</td><td>3.85041e-5</td><td>0.972104</td><td>0.0922177</td><td>6.29791</td><td>3.85041e-5</td><td>127.0</td><td>1</td></tr><tr><th>36</th><td>32843</td><td>3602</td><td>Senki Zesshou Symphogear XV</td><td>[&apos;Action&apos;, &apos;Idols (Female)&apos;, &apos;Music&apos;, &apos;Sci-Fi&apos;]</td><td>tv</td><td>129.0</td><td>7.66232</td><td>3.1311e-5</td><td>0.859867</td><td>0.0904677</td><td>6.94163</td><td>3.1311e-5</td><td>129.0</td><td>1</td></tr><tr><th>37</th><td>43608</td><td>7264</td><td>Kaguya-sama wa Kokurasetai: Ultra Romantic</td><td>[&apos;Comedy&apos;, &apos;Psychological&apos;, &apos;Romantic Subtext&apos;, &apos;School&apos;, &apos;Seinen&apos;, &apos;Suspense&apos;]</td><td>tv</td><td>136.0</td><td>7.16772</td><td>0.000512309</td><td>0.794885</td><td>0.132189</td><td>7.43691</td><td>0.00051231</td><td>136.0</td><td>1</td></tr><tr><th>38</th><td>48569</td><td>5777</td><td>86 Part 2</td><td>[&apos;Action&apos;, &apos;Drama&apos;, &apos;Mecha&apos;, &apos;Military&apos;, &apos;Sci-Fi&apos;]</td><td>tv</td><td>137.0</td><td>7.09894</td><td>0.000448675</td><td>0.776681</td><td>0.140703</td><td>7.29187</td><td>0.000448675</td><td>137.0</td><td>1</td></tr><tr><th>39</th><td>46102</td><td>6211</td><td>Odd Taxi</td><td>[&apos;Anthropomorphic&apos;, &apos;Mystery&apos;]</td><td>tv</td><td>138.0</td><td>7.16414</td><td>0.000405664</td><td>0.806896</td><td>0.143645</td><td>7.58969</td><td>0.000405665</td><td>138.0</td><td>1</td></tr><tr><th>40</th><td>16049</td><td>12418</td><td>Toaru Kagaku no Railgun S</td><td>[&apos;Action&apos;, &apos;Sci-Fi&apos;, &apos;Super Power&apos;]</td><td>tv</td><td>142.0</td><td>6.98865</td><td>0.000437275</td><td>0.779458</td><td>0.107206</td><td>6.60729</td><td>0.000437276</td><td>142.0</td><td>1</td></tr><tr><th>41</th><td>37999</td><td>3442</td><td>Kaguya-sama wa Kokurasetai: Tensai-tachi no Renai Zunousen</td><td>[&apos;Comedy&apos;, &apos;Psychological&apos;, &apos;Romantic Subtext&apos;, &apos;School&apos;, &apos;Seinen&apos;]</td><td>tv</td><td>146.0</td><td>6.82117</td><td>0.0019742</td><td>0.932457</td><td>0.204045</td><td>7.01441</td><td>0.0019742</td><td>146.0</td><td>1</td></tr><tr><th>42</th><td>15417</td><td>8713</td><td>Gintama&apos;: Enchousen</td><td>[&apos;Action&apos;, &apos;Comedy&apos;, &apos;Gag Humor&apos;, &apos;Historical&apos;, &apos;Parody&apos;, &apos;Samurai&apos;, &apos;Sci-Fi&apos;, &apos;Shounen&apos;]</td><td>tv</td><td>147.0</td><td>7.1665</td><td>0.000304437</td><td>0.727331</td><td>0.129813</td><td>7.74217</td><td>0.000304438</td><td>147.0</td><td>1</td></tr><tr><th>43</th><td>48736</td><td>12617</td><td>Sono Bisque Doll wa Koi wo Suru</td><td>[&apos;Otaku Culture&apos;, &apos;Romance&apos;, &apos;School&apos;, &apos;Seinen&apos;, &apos;Slice of Life&apos;]</td><td>tv</td><td>148.0</td><td>6.93586</td><td>0.00114395</td><td>0.842979</td><td>0.141831</td><td>6.88766</td><td>0.00114395</td><td>148.0</td><td>1</td></tr><tr><th>44</th><td>37991</td><td>14841</td><td>JoJo no Kimyou na Bouken Part 5: Ougon no Kaze</td><td>[&apos;Action&apos;, &apos;Adventure&apos;, &apos;Organized Crime&apos;, &apos;Shounen&apos;]</td><td>tv</td><td>149.0</td><td>6.95837</td><td>0.00112665</td><td>0.909374</td><td>0.183673</td><td>7.30847</td><td>0.00112665</td><td>149.0</td><td>1</td></tr><tr><th>45</th><td>1735</td><td>14119</td><td>Naruto: Shippuuden</td><td>[&apos;Action&apos;, &apos;Adventure&apos;, &apos;Fantasy&apos;, &apos;Martial Arts&apos;, &apos;Shounen&apos;]</td><td>tv</td><td>150.0</td><td>6.90528</td><td>0.00261284</td><td>1.4068</td><td>0.182387</td><td>6.69386</td><td>0.00261285</td><td>150.0</td><td>1</td></tr><tr><th>46</th><td>9969</td><td>17885</td><td>Gintama&apos;</td><td>[&apos;Action&apos;, &apos;Comedy&apos;, &apos;Gag Humor&apos;, &apos;Historical&apos;, &apos;Parody&apos;, &apos;Samurai&apos;, &apos;Sci-Fi&apos;, &apos;Shounen&apos;]</td><td>tv</td><td>152.0</td><td>7.10378</td><td>0.000431214</td><td>0.745068</td><td>0.143134</td><td>7.64176</td><td>0.000431215</td><td>152.0</td><td>1</td></tr><tr><th>47</th><td>28977</td><td>11850</td><td>Gintama°</td><td>[&apos;Action&apos;, &apos;Comedy&apos;, &apos;Gag Humor&apos;, &apos;Historical&apos;, &apos;Parody&apos;, &apos;Samurai&apos;, &apos;Sci-Fi&apos;, &apos;Shounen&apos;]</td><td>tv</td><td>154.0</td><td>7.07746</td><td>0.000424752</td><td>0.731461</td><td>0.14304</td><td>7.5762</td><td>0.000424753</td><td>154.0</td><td>1</td></tr><tr><th>48</th><td>32182</td><td>15115</td><td>Mob Psycho 100</td><td>[&apos;Action&apos;, &apos;Comedy&apos;, &apos;Super Power&apos;, &apos;Supernatural&apos;]</td><td>tv</td><td>156.0</td><td>6.77475</td><td>0.00215383</td><td>0.967472</td><td>0.221453</td><td>7.14511</td><td>0.00215383</td><td>156.0</td><td>1</td></tr><tr><th>49</th><td>7593</td><td>15376</td><td>Kiss x Sis (TV)</td><td>[&apos;Comedy&apos;, &apos;Ecchi&apos;, &apos;Harem&apos;, &apos;Romance&apos;, &apos;School&apos;, &apos;Seinen&apos;]</td><td>tv</td><td>158.0</td><td>6.31291</td><td>0.000726156</td><td>1.66827</td><td>0.252104</td><td>4.9714</td><td>0.000726157</td><td>158.0</td><td>1</td></tr><tr><th>50</th><td>37982</td><td>1034</td><td>Domestic na Kanojo</td><td>[&apos;Drama&apos;, &apos;Love Polygon&apos;, &apos;Romance&apos;, &apos;School&apos;, &apos;Shounen&apos;]</td><td>tv</td><td>159.0</td><td>6.28376</td><td>0.000888917</td><td>1.43417</td><td>0.248329</td><td>5.26371</td><td>0.000888918</td><td>159.0</td><td>1</td></tr><tr><th>&vellip;</th><td>&vellip;</td><td>&vellip;</td><td>&vellip;</td><td>&vellip;</td><td>&vellip;</td><td>&vellip;</td><td>&vellip;</td><td>&vellip;</td><td>&vellip;</td><td>&vellip;</td><td>&vellip;</td><td>&vellip;</td><td>&vellip;</td><td>&vellip;</td></tr></tbody></table></div>"
      ],
      "text/latex": [
       "\\begin{tabular}{r|cccccccccccccc}\n",
       "\t& anime\\_id & uid & title & genres & medium & ranking & explicit & implicit & error\\_explicit & error\\_implicit & baseline\\_explicit & baseline\\_implicit & score & display\\\\\n",
       "\t\\hline\n",
       "\t& Int64 & Int64 & String & String & String7 & Float32 & Float32 & Float32 & Float32 & Float32 & Float32 & Float32 & Float32 & Bool\\\\\n",
       "\t\\hline\n",
       "\t1 & 5114 & 17079 & Fullmetal Alchemist: Brotherhood & ['Action', 'Adventure', 'Drama', 'Fantasy', 'Military', 'Shounen'] & tv & 15.0 & 8.10881 & 0.00308927 & 1.03487 & 0.229428 & 7.62535 & 0.00308928 & 15.0 & 1 \\\\\n",
       "\t2 & 38524 & 12753 & Shingeki no Kyojin Season 3 Part 2 & ['Action', 'Drama', 'Gore', 'Military', 'Shounen', 'Survival'] & tv & 16.0 & 8.04535 & 0.00253456 & 0.862004 & 0.228715 & 7.68329 & 0.00253456 & 16.0 & 1 \\\\\n",
       "\t3 & 40028 & 5414 & Shingeki no Kyojin: The Final Season & ['Action', 'Drama', 'Gore', 'Military', 'Shounen', 'Survival'] & tv & 32.0 & 7.7869 & 0.00219663 & 0.906047 & 0.211023 & 7.4072 & 0.00219663 & 32.0 & 1 \\\\\n",
       "\t4 & 11061 & 7814 & Hunter x Hunter (2011) & ['Action', 'Adventure', 'Fantasy', 'Shounen'] & tv & 36.0 & 7.69266 & 0.00262856 & 1.07681 & 0.236616 & 7.57482 & 0.00262857 & 36.0 & 1 \\\\\n",
       "\t5 & 42587 & 13295 & Yuuki Yuuna wa Yuusha de Aru: Dai Mankai no Shou & ['Drama', 'Fantasy', 'Mahou Shoujo', 'Slice of Life'] & tv & 40.0 & 7.96928 & 1.62878e-5 & 1.05102 & 0.107299 & 5.90612 & 1.62878e-5 & 40.0 & 1 \\\\\n",
       "\t6 & 28891 & 9157 & Haikyuu!! Second Season & ['School', 'Shounen', 'Sports', 'Team Sports'] & tv & 45.0 & 7.67453 & 0.0016207 & 0.873716 & 0.155618 & 7.22776 & 0.0016207 & 45.0 & 1 \\\\\n",
       "\t7 & 16498 & 7644 & Shingeki no Kyojin & ['Action', 'Drama', 'Gore', 'Military', 'Shounen', 'Survival'] & tv & 51.0 & 7.24461 & 0.00424122 & 0.963547 & 0.204823 & 7.04385 & 0.00424123 & 51.0 & 1 \\\\\n",
       "\t8 & 25777 & 8685 & Shingeki no Kyojin Season 2 & ['Action', 'Drama', 'Gore', 'Military', 'Shounen', 'Survival'] & tv & 52.0 & 7.18928 & 0.00310658 & 0.839084 & 0.238822 & 7.09824 & 0.00310658 & 52.0 & 1 \\\\\n",
       "\t9 & 30276 & 2415 & One Punch Man & ['Action', 'Comedy', 'Parody', 'Seinen', 'Super Power'] & tv & 54.0 & 7.14623 & 0.0035174 & 1.10283 & 0.264691 & 7.02705 & 0.00351741 & 54.0 & 1 \\\\\n",
       "\t10 & 40748 & 18010 & Jujutsu Kaisen (TV) & ['Action', 'Fantasy', 'School', 'Shounen'] & tv & 55.0 & 7.14456 & 0.00263574 & 1.03073 & 0.275208 & 7.21643 & 0.00263575 & 55.0 & 1 \\\\\n",
       "\t11 & 48583 & 18963 & Shingeki no Kyojin: The Final Season Part 2 & ['Action', 'Drama', 'Gore', 'Military', 'Shounen', 'Survival'] & tv & 69.0 & 7.63805 & 0.0012622 & 0.857252 & 0.156731 & 7.45514 & 0.00126221 & 69.0 & 1 \\\\\n",
       "\t12 & 32935 & 2448 & Haikyuu!!: Karasuno Koukou vs. Shiratorizawa Gakuen Koukou & ['School', 'Shounen', 'Sports', 'Team Sports'] & tv & 70.0 & 7.5759 & 0.00136979 & 0.996574 & 0.170686 & 7.39082 & 0.00136979 & 70.0 & 1 \\\\\n",
       "\t13 & 38000 & 11465 & Kimetsu no Yaiba & ['Action', 'Fantasy', 'Historical', 'Shounen'] & tv & 72.0 & 7.01204 & 0.00326954 & 0.89993 & 0.264015 & 7.0779 & 0.00326954 & 72.0 & 1 \\\\\n",
       "\t14 & 47778 & 18684 & Kimetsu no Yaiba: Yuukaku-hen & ['Action', 'Fantasy', 'Historical', 'Shounen'] & tv & 77.0 & 7.35919 & 0.00142428 & 0.886807 & 0.195734 & 7.42571 & 0.00142428 & 77.0 & 1 \\\\\n",
       "\t15 & 33486 & 19915 & Boku no Hero Academia 2nd Season & ['Action', 'School', 'Shounen', 'Super Power'] & tv & 79.0 & 7.10337 & 0.00294497 & 0.673 & 0.15027 & 6.68712 & 0.00294497 & 79.0 & 1 \\\\\n",
       "\t16 & 35760 & 19030 & Shingeki no Kyojin Season 3 & ['Action', 'Drama', 'Gore', 'Military', 'Shounen', 'Survival'] & tv & 82.0 & 7.16494 & 0.00269863 & 0.98421 & 0.21859 & 7.23127 & 0.00269863 & 82.0 & 1 \\\\\n",
       "\t17 & 40776 & 8909 & Haikyuu!! To the Top Part 2 & ['School', 'Shounen', 'Sports', 'Team Sports'] & tv & 84.0 & 7.33049 & 0.000873575 & 0.809011 & 0.143257 & 7.15138 & 0.000873577 & 84.0 & 1 \\\\\n",
       "\t18 & 38883 & 14856 & Haikyuu!! To the Top & ['School', 'Shounen', 'Sports', 'Team Sports'] & tv & 85.0 & 7.33367 & 0.00104375 & 0.979724 & 0.141159 & 6.96516 & 0.00104375 & 85.0 & 1 \\\\\n",
       "\t19 & 21 & 9917 & One Piece & ['Action', 'Adventure', 'Fantasy', 'Shounen'] & tv & 88.0 & 7.08491 & 0.00216221 & 1.00964 & 0.219196 & 7.19899 & 0.00216222 & 88.0 & 1 \\\\\n",
       "\t20 & 19111 & 15311 & Love Live! School Idol Project 2nd Season & ['Idols (Female)', 'Music', 'School', 'Slice of Life'] & tv & 91.0 & 7.28637 & 0.000328063 & 1.01488 & 0.107964 & 6.31284 & 0.000328064 & 91.0 & 1 \\\\\n",
       "\t21 & 1 & 11017 & Cowboy Bebop & ['Action', 'Adult Cast', 'Sci-Fi', 'Space'] & tv & 98.0 & 7.14034 & 0.00168163 & 0.917395 & 0.194343 & 7.43068 & 0.00168163 & 98.0 & 1 \\\\\n",
       "\t22 & 37779 & 5006 & Yakusoku no Neverland & ['Mystery', 'Psychological', 'Sci-Fi', 'Shounen', 'Survival', 'Suspense'] & tv & 100.0 & 6.97499 & 0.00218617 & 1.00818 & 0.226122 & 7.15962 & 0.00218617 & 100.0 & 1 \\\\\n",
       "\t23 & 37510 & 7710 & Mob Psycho 100 II & ['Action', 'Comedy', 'Super Power', 'Supernatural'] & tv & 101.0 & 7.19257 & 0.00160488 & 1.20797 & 0.204379 & 7.51132 & 0.00160489 & 101.0 & 1 \\\\\n",
       "\t24 & 50265 & 4347 & Spy x Family & ['Action', 'Childcare', 'Comedy', 'Shounen'] & tv & 107.0 & 7.21792 & 0.00103509 & 0.870559 & 0.176016 & 7.47808 & 0.00103509 & 107.0 & 1 \\\\\n",
       "\t25 & 30484 & 6093 & Steins;Gate 0 & ['Drama', 'Sci-Fi', 'Suspense', 'Time Travel'] & tv & 108.0 & 7.24585 & 0.000843721 & 0.938933 & 0.148013 & 7.23536 & 0.000843723 & 108.0 & 1 \\\\\n",
       "\t26 & 37521 & 12349 & Vinland Saga & ['Action', 'Adventure', 'Drama', 'Historical', 'Seinen'] & tv & 109.0 & 7.14337 & 0.00133033 & 0.79087 & 0.182571 & 7.44317 & 0.00133033 & 109.0 & 1 \\\\\n",
       "\t27 & 813 & 12911 & Dragon Ball Z & ['Action', 'Adventure', 'Comedy', 'Fantasy', 'Martial Arts', 'Shounen', 'Super Power'] & tv & 111.0 & 7.04296 & 0.00140241 & 0.775016 & 0.135349 & 6.68018 & 0.00140241 & 111.0 & 1 \\\\\n",
       "\t28 & 26055 & 9103 & JoJo no Kimyou na Bouken Part 3: Stardust Crusaders 2nd Season & ['Action', 'Adventure', 'Drama', 'Shounen', 'Supernatural'] & tv & 113.0 & 7.0687 & 0.00133276 & 0.772944 & 0.163506 & 7.16622 & 0.00133276 & 113.0 & 1 \\\\\n",
       "\t29 & 36456 & 15146 & Boku no Hero Academia 3rd Season & ['Action', 'School', 'Shounen', 'Super Power'] & tv & 116.0 & 6.85821 & 0.00256673 & 0.677034 & 0.154493 & 6.63844 & 0.00256673 & 116.0 & 1 \\\\\n",
       "\t30 & 20 & 15281 & Naruto & ['Action', 'Adventure', 'Fantasy', 'Martial Arts', 'Shounen'] & tv & 117.0 & 6.82172 & 0.00311239 & 1.02131 & 0.185035 & 6.42401 & 0.0031124 & 117.0 & 1 \\\\\n",
       "\t31 & 22535 & 11784 & Kiseijuu: Sei no Kakuritsu & ['Action', 'Gore', 'Horror', 'Psychological', 'Sci-Fi', 'Seinen'] & tv & 118.0 & 6.94298 & 0.00202228 & 0.887302 & 0.183694 & 6.91023 & 0.00202229 & 118.0 & 1 \\\\\n",
       "\t32 & 19 & 17026 & Monster & ['Adult Cast', 'Drama', 'Mystery', 'Psychological', 'Seinen', 'Suspense'] & tv & 120.0 & 7.23144 & 0.000735493 & 0.948559 & 0.160704 & 7.59226 & 0.000735495 & 120.0 & 1 \\\\\n",
       "\t33 & 269 & 20133 & Bleach & ['Action', 'Adventure', 'Fantasy', 'Shounen'] & tv & 123.0 & 6.87316 & 0.00197477 & 1.17045 & 0.1761 & 6.24199 & 0.00197478 & 123.0 & 1 \\\\\n",
       "\t34 & 33352 & 7763 & Violet Evergarden & ['Drama', 'Fantasy', 'Slice of Life'] & tv & 124.0 & 6.96353 & 0.00178117 & 1.13689 & 0.222436 & 7.26352 & 0.00178117 & 124.0 & 1 \\\\\n",
       "\t35 & 32836 & 20123 & Senki Zesshou Symphogear AXZ & ['Action', 'Idols (Female)', 'Music', 'Sci-Fi'] & tv & 127.0 & 7.47314 & 3.85041e-5 & 0.972104 & 0.0922177 & 6.29791 & 3.85041e-5 & 127.0 & 1 \\\\\n",
       "\t36 & 32843 & 3602 & Senki Zesshou Symphogear XV & ['Action', 'Idols (Female)', 'Music', 'Sci-Fi'] & tv & 129.0 & 7.66232 & 3.1311e-5 & 0.859867 & 0.0904677 & 6.94163 & 3.1311e-5 & 129.0 & 1 \\\\\n",
       "\t37 & 43608 & 7264 & Kaguya-sama wa Kokurasetai: Ultra Romantic & ['Comedy', 'Psychological', 'Romantic Subtext', 'School', 'Seinen', 'Suspense'] & tv & 136.0 & 7.16772 & 0.000512309 & 0.794885 & 0.132189 & 7.43691 & 0.00051231 & 136.0 & 1 \\\\\n",
       "\t38 & 48569 & 5777 & 86 Part 2 & ['Action', 'Drama', 'Mecha', 'Military', 'Sci-Fi'] & tv & 137.0 & 7.09894 & 0.000448675 & 0.776681 & 0.140703 & 7.29187 & 0.000448675 & 137.0 & 1 \\\\\n",
       "\t39 & 46102 & 6211 & Odd Taxi & ['Anthropomorphic', 'Mystery'] & tv & 138.0 & 7.16414 & 0.000405664 & 0.806896 & 0.143645 & 7.58969 & 0.000405665 & 138.0 & 1 \\\\\n",
       "\t40 & 16049 & 12418 & Toaru Kagaku no Railgun S & ['Action', 'Sci-Fi', 'Super Power'] & tv & 142.0 & 6.98865 & 0.000437275 & 0.779458 & 0.107206 & 6.60729 & 0.000437276 & 142.0 & 1 \\\\\n",
       "\t41 & 37999 & 3442 & Kaguya-sama wa Kokurasetai: Tensai-tachi no Renai Zunousen & ['Comedy', 'Psychological', 'Romantic Subtext', 'School', 'Seinen'] & tv & 146.0 & 6.82117 & 0.0019742 & 0.932457 & 0.204045 & 7.01441 & 0.0019742 & 146.0 & 1 \\\\\n",
       "\t42 & 15417 & 8713 & Gintama': Enchousen & ['Action', 'Comedy', 'Gag Humor', 'Historical', 'Parody', 'Samurai', 'Sci-Fi', 'Shounen'] & tv & 147.0 & 7.1665 & 0.000304437 & 0.727331 & 0.129813 & 7.74217 & 0.000304438 & 147.0 & 1 \\\\\n",
       "\t43 & 48736 & 12617 & Sono Bisque Doll wa Koi wo Suru & ['Otaku Culture', 'Romance', 'School', 'Seinen', 'Slice of Life'] & tv & 148.0 & 6.93586 & 0.00114395 & 0.842979 & 0.141831 & 6.88766 & 0.00114395 & 148.0 & 1 \\\\\n",
       "\t44 & 37991 & 14841 & JoJo no Kimyou na Bouken Part 5: Ougon no Kaze & ['Action', 'Adventure', 'Organized Crime', 'Shounen'] & tv & 149.0 & 6.95837 & 0.00112665 & 0.909374 & 0.183673 & 7.30847 & 0.00112665 & 149.0 & 1 \\\\\n",
       "\t45 & 1735 & 14119 & Naruto: Shippuuden & ['Action', 'Adventure', 'Fantasy', 'Martial Arts', 'Shounen'] & tv & 150.0 & 6.90528 & 0.00261284 & 1.4068 & 0.182387 & 6.69386 & 0.00261285 & 150.0 & 1 \\\\\n",
       "\t46 & 9969 & 17885 & Gintama' & ['Action', 'Comedy', 'Gag Humor', 'Historical', 'Parody', 'Samurai', 'Sci-Fi', 'Shounen'] & tv & 152.0 & 7.10378 & 0.000431214 & 0.745068 & 0.143134 & 7.64176 & 0.000431215 & 152.0 & 1 \\\\\n",
       "\t47 & 28977 & 11850 & Gintama° & ['Action', 'Comedy', 'Gag Humor', 'Historical', 'Parody', 'Samurai', 'Sci-Fi', 'Shounen'] & tv & 154.0 & 7.07746 & 0.000424752 & 0.731461 & 0.14304 & 7.5762 & 0.000424753 & 154.0 & 1 \\\\\n",
       "\t48 & 32182 & 15115 & Mob Psycho 100 & ['Action', 'Comedy', 'Super Power', 'Supernatural'] & tv & 156.0 & 6.77475 & 0.00215383 & 0.967472 & 0.221453 & 7.14511 & 0.00215383 & 156.0 & 1 \\\\\n",
       "\t49 & 7593 & 15376 & Kiss x Sis (TV) & ['Comedy', 'Ecchi', 'Harem', 'Romance', 'School', 'Seinen'] & tv & 158.0 & 6.31291 & 0.000726156 & 1.66827 & 0.252104 & 4.9714 & 0.000726157 & 158.0 & 1 \\\\\n",
       "\t50 & 37982 & 1034 & Domestic na Kanojo & ['Drama', 'Love Polygon', 'Romance', 'School', 'Shounen'] & tv & 159.0 & 6.28376 & 0.000888917 & 1.43417 & 0.248329 & 5.26371 & 0.000888918 & 159.0 & 1 \\\\\n",
       "\t$\\dots$ & $\\dots$ & $\\dots$ & $\\dots$ & $\\dots$ & $\\dots$ & $\\dots$ & $\\dots$ & $\\dots$ & $\\dots$ & $\\dots$ & $\\dots$ & $\\dots$ & $\\dots$ & $\\dots$ \\\\\n",
       "\\end{tabular}\n"
      ],
      "text/plain": [
       "\u001b[1m5650×14 DataFrame\u001b[0m\n",
       "\u001b[1m  Row \u001b[0m│\u001b[1m anime_id \u001b[0m\u001b[1m uid   \u001b[0m\u001b[1m title                             \u001b[0m\u001b[1m genres                            \u001b[0m\u001b[1m medium  \u001b[0m\u001b[1m ranking \u001b[0m\u001b[1m explicit \u001b[0m\u001b[1m implicit    \u001b[0m\u001b[1m error_explicit \u001b[0m\u001b[1m error_implicit \u001b[0m\u001b[1m baseline_explicit \u001b[0m\u001b[1m baseline_implicit \u001b[0m\u001b[1m score   \u001b[0m\u001b[1m display \u001b[0m\n",
       "\u001b[1m      \u001b[0m│\u001b[90m Int64    \u001b[0m\u001b[90m Int64 \u001b[0m\u001b[90m String                            \u001b[0m\u001b[90m String                            \u001b[0m\u001b[90m String7 \u001b[0m\u001b[90m Float32 \u001b[0m\u001b[90m Float32  \u001b[0m\u001b[90m Float32     \u001b[0m\u001b[90m Float32        \u001b[0m\u001b[90m Float32        \u001b[0m\u001b[90m Float32           \u001b[0m\u001b[90m Float32           \u001b[0m\u001b[90m Float32 \u001b[0m\u001b[90m Bool    \u001b[0m\n",
       "──────┼────────────────────────────────────────────────────────────────────────────────────────────────────────────────────────────────────────────────────────────────────────────────────────────────────────────────────────\n",
       "    1 │     5114  17079  Fullmetal Alchemist: Brotherhood   ['Action', 'Adventure', 'Drama',…  tv          15.0   8.10881  0.00308927         1.03487      0.229428               7.62535        0.00308928      15.0     true\n",
       "    2 │    38524  12753  Shingeki no Kyojin Season 3 Part…  ['Action', 'Drama', 'Gore', 'Mil…  tv          16.0   8.04535  0.00253456         0.862004     0.228715               7.68329        0.00253456      16.0     true\n",
       "    3 │    40028   5414  Shingeki no Kyojin: The Final Se…  ['Action', 'Drama', 'Gore', 'Mil…  tv          32.0   7.7869   0.00219663         0.906047     0.211023               7.4072         0.00219663      32.0     true\n",
       "    4 │    11061   7814  Hunter x Hunter (2011)             ['Action', 'Adventure', 'Fantasy…  tv          36.0   7.69266  0.00262856         1.07681      0.236616               7.57482        0.00262857      36.0     true\n",
       "    5 │    42587  13295  Yuuki Yuuna wa Yuusha de Aru: Da…  ['Drama', 'Fantasy', 'Mahou Shou…  tv          40.0   7.96928  1.62878e-5         1.05102      0.107299               5.90612        1.62878e-5      40.0     true\n",
       "    6 │    28891   9157  Haikyuu!! Second Season            ['School', 'Shounen', 'Sports', …  tv          45.0   7.67453  0.0016207          0.873716     0.155618               7.22776        0.0016207       45.0     true\n",
       "    7 │    16498   7644  Shingeki no Kyojin                 ['Action', 'Drama', 'Gore', 'Mil…  tv          51.0   7.24461  0.00424122         0.963547     0.204823               7.04385        0.00424123      51.0     true\n",
       "    8 │    25777   8685  Shingeki no Kyojin Season 2        ['Action', 'Drama', 'Gore', 'Mil…  tv          52.0   7.18928  0.00310658         0.839084     0.238822               7.09824        0.00310658      52.0     true\n",
       "    9 │    30276   2415  One Punch Man                      ['Action', 'Comedy', 'Parody', '…  tv          54.0   7.14623  0.0035174          1.10283      0.264691               7.02705        0.00351741      54.0     true\n",
       "   10 │    40748  18010  Jujutsu Kaisen (TV)                ['Action', 'Fantasy', 'School', …  tv          55.0   7.14456  0.00263574         1.03073      0.275208               7.21643        0.00263575      55.0     true\n",
       "   11 │    48583  18963  Shingeki no Kyojin: The Final Se…  ['Action', 'Drama', 'Gore', 'Mil…  tv          69.0   7.63805  0.0012622          0.857252     0.156731               7.45514        0.00126221      69.0     true\n",
       "   12 │    32935   2448  Haikyuu!!: Karasuno Koukou vs. S…  ['School', 'Shounen', 'Sports', …  tv          70.0   7.5759   0.00136979         0.996574     0.170686               7.39082        0.00136979      70.0     true\n",
       "   13 │    38000  11465  Kimetsu no Yaiba                   ['Action', 'Fantasy', 'Historica…  tv          72.0   7.01204  0.00326954         0.89993      0.264015               7.0779         0.00326954      72.0     true\n",
       "   14 │    47778  18684  Kimetsu no Yaiba: Yuukaku-hen      ['Action', 'Fantasy', 'Historica…  tv          77.0   7.35919  0.00142428         0.886807     0.195734               7.42571        0.00142428      77.0     true\n",
       "   15 │    33486  19915  Boku no Hero Academia 2nd Season   ['Action', 'School', 'Shounen', …  tv          79.0   7.10337  0.00294497         0.673        0.15027                6.68712        0.00294497      79.0     true\n",
       "   16 │    35760  19030  Shingeki no Kyojin Season 3        ['Action', 'Drama', 'Gore', 'Mil…  tv          82.0   7.16494  0.00269863         0.98421      0.21859                7.23127        0.00269863      82.0     true\n",
       "   17 │    40776   8909  Haikyuu!! To the Top Part 2        ['School', 'Shounen', 'Sports', …  tv          84.0   7.33049  0.000873575        0.809011     0.143257               7.15138        0.000873577     84.0     true\n",
       "   18 │    38883  14856  Haikyuu!! To the Top               ['School', 'Shounen', 'Sports', …  tv          85.0   7.33367  0.00104375         0.979724     0.141159               6.96516        0.00104375      85.0     true\n",
       "   19 │       21   9917  One Piece                          ['Action', 'Adventure', 'Fantasy…  tv          88.0   7.08491  0.00216221         1.00964      0.219196               7.19899        0.00216222      88.0     true\n",
       "   20 │    19111  15311  Love Live! School Idol Project 2…  ['Idols (Female)', 'Music', 'Sch…  tv          91.0   7.28637  0.000328063        1.01488      0.107964               6.31284        0.000328064     91.0     true\n",
       "   21 │        1  11017  Cowboy Bebop                       ['Action', 'Adult Cast', 'Sci-Fi…  tv          98.0   7.14034  0.00168163         0.917395     0.194343               7.43068        0.00168163      98.0     true\n",
       "  ⋮   │    ⋮        ⋮                    ⋮                                  ⋮                     ⋮        ⋮        ⋮           ⋮             ⋮               ⋮                 ⋮                  ⋮             ⋮        ⋮\n",
       " 5631 │    20123  13943  Kappamaki                          ['Comedy', 'Slice of Life']        tv       20212.0   4.93975  2.42917e-7         1.84997      0.000681593            4.9225         2.42819e-7   20212.0     true\n",
       " 5632 │     2930  13137  Tensai? Dr. Hamax                  ['Comedy']                         tv       20218.0   4.93897  2.42917e-7         1.84997      0.000681593            4.92171        2.42819e-7   20218.0     true\n",
       " 5633 │    45696  15631  Shuxue Huang Dao Lixian Ji         ['Kids']                           tv       20220.0   4.9401   3.7941e-8          1.84997      0.000681593            4.92285        3.78419e-8   20220.0     true\n",
       " 5634 │     5810  12342  Sakuran Boy DT                     ['Comedy', 'Super Power']          tv       20223.0   4.93795  3.28062e-7         1.84997      0.000681593            4.92069        3.27963e-7   20223.0     true\n",
       " 5635 │    19995   6041  King Kong: 001/7 Tom Thumb         ['Adventure', 'Sci-Fi']            tv       20227.0   4.93763  3.28062e-7         1.84997      0.000681593            4.92037        3.27963e-7   20227.0     true\n",
       " 5636 │    10815   5684  UFO Senshi Dai Apolon 2            ['Action', 'Mecha', 'Sci-Fi']      tv       20232.0   4.93676  3.75364e-7         1.84997      0.000681593            4.91949        3.75265e-7   20232.0     true\n",
       " 5637 │     3683  14834  Kabatotto                          ['Comedy']                         tv       20233.0   4.93458  6.49717e-7         1.84997      0.000681593            4.9173         6.49619e-7   20233.0     true\n",
       " 5638 │    42179   2748  Lalalacoco II                      ['Comedy', 'Kids', 'Slice of Lif…  tv       20237.0   4.93769  1.42006e-7         1.84997      0.000681593            4.92043        1.41907e-7   20237.0     true\n",
       " 5639 │     8890  20324  Nippon-ichi no Otoko no Tamashii   ['Comedy', 'Romance']              tv       20246.0   4.93236  6.84405e-7         1.84997      0.000681593            4.91507        6.84307e-7   20246.0     true\n",
       " 5640 │    19457   8183  Green Saver                        ['Adventure', 'Kids']              tv       20249.0   4.93533  1.86155e-7         1.84997      0.000681593            4.91805        1.86056e-7   20249.0     true\n",
       " 5641 │    36423  11469  Zhandou Wang Zhi Jufeng Zhan Hun   ['Action', 'Kids', 'Shounen']      tv       20250.0   4.93159  7.0648e-7          1.84997      0.000681593            4.9143         7.06382e-7   20250.0     true\n",
       " 5642 │    37714   2603  Shin Manga Naruhodo Monogatari     ['Educational', 'Kids']            tv       20276.0   4.93044  1.5462e-7          1.84997      0.000681593            4.91314        1.54521e-7   20276.0     true\n",
       " 5643 │    25059  12052  Nikoniko, Pun                      ['Comedy', 'Fantasy', 'Kids']      tv       20277.0   4.92986  2.30304e-7         1.84997      0.000681593            4.91256        2.30205e-7   20277.0     true\n",
       " 5644 │    49070   2926  Geo Mecha: Captain Dino            ['Action', 'Kids', 'Mecha', 'Sci…  tv       20279.0   4.9307   8.83967e-8         1.84997      0.000681593            4.9134         8.82977e-8   20279.0     true\n",
       " 5645 │    32596   1352  The Snack World (TV)               ['Adventure', 'Comedy', 'Fantasy…  tv       20284.0   4.92622  5.23578e-7         1.84997      0.000681593            4.9089         5.23479e-7   20284.0     true\n",
       " 5646 │     6868   1535  Wansa-kun                          ['Comedy']                         tv       20285.0   4.92696  3.84824e-7         1.84997      0.000681593            4.90964        3.84726e-7   20285.0     true\n",
       " 5647 │    45690   8744  Jie Jie Xiong Yu Di Di Niao        ['Kids']                           tv       20287.0   4.92926  4.4248e-8          1.84997      0.000681593            4.91196        4.41489e-8   20287.0     true\n",
       " 5648 │     5374    668  Miracle! Mimika                    ['Gourmet', 'Kids', 'Slice of Li…  tv       20291.0   4.92647  3.31215e-7         1.84997      0.000681593            4.90915        3.31116e-7   20291.0     true\n",
       " 5649 │    35383   9442  Yousei Land Mukashibanashi         ['Comedy', 'Fantasy', 'Historica…  tv       20324.0   2.78998  9.2407e-7          2.32631      0.00139956             2.40768        9.23973e-7   20324.0     true\n",
       " 5650 │    49992  13911  Qi Qi Miao Le Xing                 ['Comedy', 'Kids', 'School']       tv       20335.0   3.09995  7.26293e-8         2.32631      0.00120439             2.71911        7.25303e-8   20335.0     true\n",
       "\u001b[36m                                                                                                                                                                                                              5609 rows omitted\u001b[0m"
      ]
     },
     "execution_count": 11,
     "metadata": {},
     "output_type": "execute_result"
    }
   ],
   "source": [
    "filter(x -> x.medium == \"tv\", rec_df) |> pretty_display"
   ]
  },
  {
   "cell_type": "code",
   "execution_count": 12,
   "id": "7ee48028-14a4-41b7-92ec-7cdb79172d86",
   "metadata": {},
   "outputs": [
    {
     "data": {
      "text/html": [
       "<div class=\"data-frame\"><p>2,063 rows × 14 columns</p><table class=\"data-frame\"><thead><tr><th></th><th>anime_id</th><th>uid</th><th>title</th><th>genres</th><th>medium</th><th>ranking</th><th>explicit</th><th>implicit</th><th>error_explicit</th><th>error_implicit</th><th>baseline_explicit</th><th>baseline_implicit</th><th>score</th><th>display</th></tr><tr><th></th><th title=\"Int64\">Int64</th><th title=\"Int64\">Int64</th><th title=\"String\">String</th><th title=\"String\">String</th><th title=\"InlineStrings.String7\">String7</th><th title=\"Float32\">Float32</th><th title=\"Float32\">Float32</th><th title=\"Float32\">Float32</th><th title=\"Float32\">Float32</th><th title=\"Float32\">Float32</th><th title=\"Float32\">Float32</th><th title=\"Float32\">Float32</th><th title=\"Float32\">Float32</th><th title=\"Bool\">Bool</th></tr></thead><tbody><tr><th>1</th><td>34376</td><td>1289</td><td>Yuuki Yuuna wa Yuusha de Aru: Washio Sumi no Shou 3 - Yakusoku</td><td>[&apos;Drama&apos;, &apos;Fantasy&apos;, &apos;Mahou Shoujo&apos;, &apos;Slice of Life&apos;]</td><td>movie</td><td>1.0</td><td>9.5244</td><td>1.2696e-5</td><td>0.716989</td><td>0.15861</td><td>6.80728</td><td>1.2696e-5</td><td>-8.80742</td><td>1</td></tr><tr><th>2</th><td>34375</td><td>2707</td><td>Yuuki Yuuna wa Yuusha de Aru: Washio Sumi no Shou 2 - Tamashii</td><td>[&apos;Drama&apos;, &apos;Fantasy&apos;, &apos;Mahou Shoujo&apos;, &apos;Slice of Life&apos;]</td><td>movie</td><td>3.0</td><td>9.38373</td><td>1.30492e-5</td><td>0.842511</td><td>0.153089</td><td>6.60721</td><td>1.30491e-5</td><td>-8.54122</td><td>1</td></tr><tr><th>3</th><td>34374</td><td>7098</td><td>Yuuki Yuuna wa Yuusha de Aru: Washio Sumi no Shou 1 - Tomodachi</td><td>[&apos;Drama&apos;, &apos;Fantasy&apos;, &apos;Mahou Shoujo&apos;, &apos;Slice of Life&apos;]</td><td>movie</td><td>5.0</td><td>8.91244</td><td>1.34939e-5</td><td>0.905103</td><td>0.136298</td><td>6.29922</td><td>1.34938e-5</td><td>-8.00733</td><td>1</td></tr><tr><th>4</th><td>11979</td><td>14471</td><td>Mahou Shoujo Madoka★Magica Movie 2: Eien no Monogatari</td><td>[&apos;Drama&apos;, &apos;Mahou Shoujo&apos;, &apos;Psychological&apos;, &apos;Suspense&apos;]</td><td>movie</td><td>29.0</td><td>7.99175</td><td>0.000218622</td><td>0.719155</td><td>0.125456</td><td>7.05945</td><td>0.000218622</td><td>-7.2726</td><td>1</td></tr><tr><th>5</th><td>29831</td><td>1773</td><td>Tamayura: Sotsugyou Shashin Part 4 - Ashita</td><td>[&apos;CGDCT&apos;, &apos;Comedy&apos;, &apos;Drama&apos;, &apos;Iyashikei&apos;, &apos;Slice of Life&apos;]</td><td>movie</td><td>73.0</td><td>8.17977</td><td>8.35052e-6</td><td>0.938518</td><td>0.104479</td><td>7.18098</td><td>8.35044e-6</td><td>-7.24125</td><td>1</td></tr><tr><th>6</th><td>42984</td><td>8632</td><td>Gotcha!</td><td>[&apos;Fantasy&apos;, &apos;Music&apos;]</td><td>music</td><td>44.0</td><td>7.94058</td><td>4.62617e-5</td><td>0.726873</td><td>0.112802</td><td>7.41328</td><td>4.62617e-5</td><td>-7.21371</td><td>1</td></tr><tr><th>7</th><td>38524</td><td>12753</td><td>Shingeki no Kyojin Season 3 Part 2</td><td>[&apos;Action&apos;, &apos;Drama&apos;, &apos;Gore&apos;, &apos;Military&apos;, &apos;Shounen&apos;, &apos;Survival&apos;]</td><td>tv</td><td>16.0</td><td>8.04535</td><td>0.00253456</td><td>0.862004</td><td>0.228715</td><td>7.68329</td><td>0.00253456</td><td>-7.18334</td><td>1</td></tr><tr><th>8</th><td>5114</td><td>17079</td><td>Fullmetal Alchemist: Brotherhood</td><td>[&apos;Action&apos;, &apos;Adventure&apos;, &apos;Drama&apos;, &apos;Fantasy&apos;, &apos;Military&apos;, &apos;Shounen&apos;]</td><td>tv</td><td>15.0</td><td>8.10881</td><td>0.00308927</td><td>1.03487</td><td>0.229428</td><td>7.62535</td><td>0.00308928</td><td>-7.07394</td><td>1</td></tr><tr><th>9</th><td>11977</td><td>11665</td><td>Mahou Shoujo Madoka★Magica Movie 1: Hajimari no Monogatari</td><td>[&apos;Drama&apos;, &apos;Mahou Shoujo&apos;, &apos;Psychological&apos;, &apos;Suspense&apos;]</td><td>movie</td><td>60.0</td><td>7.81557</td><td>0.000223415</td><td>0.786567</td><td>0.106875</td><td>6.89739</td><td>0.000223415</td><td>-7.029</td><td>1</td></tr><tr><th>10</th><td>29830</td><td>18700</td><td>Tamayura: Sotsugyou Shashin Part 3 - Akogare</td><td>[&apos;CGDCT&apos;, &apos;Comedy&apos;, &apos;Drama&apos;, &apos;Iyashikei&apos;, &apos;Slice of Life&apos;]</td><td>movie</td><td>106.0</td><td>7.85273</td><td>8.19285e-6</td><td>0.853085</td><td>0.0889265</td><td>6.82051</td><td>8.19277e-6</td><td>-6.99965</td><td>1</td></tr><tr><th>11</th><td>29829</td><td>19680</td><td>Tamayura: Sotsugyou Shashin Part 2 - Hibiki</td><td>[&apos;CGDCT&apos;, &apos;Comedy&apos;, &apos;Drama&apos;, &apos;Iyashikei&apos;, &apos;Slice of Life&apos;]</td><td>movie</td><td>105.0</td><td>7.81876</td><td>8.65957e-6</td><td>0.85773</td><td>0.0889265</td><td>6.7538</td><td>8.65948e-6</td><td>-6.96103</td><td>1</td></tr><tr><th>12</th><td>42587</td><td>13295</td><td>Yuuki Yuuna wa Yuusha de Aru: Dai Mankai no Shou</td><td>[&apos;Drama&apos;, &apos;Fantasy&apos;, &apos;Mahou Shoujo&apos;, &apos;Slice of Life&apos;]</td><td>tv</td><td>40.0</td><td>7.96928</td><td>1.62878e-5</td><td>1.05102</td><td>0.107299</td><td>5.90612</td><td>1.62878e-5</td><td>-6.91826</td><td>1</td></tr><tr><th>13</th><td>40028</td><td>5414</td><td>Shingeki no Kyojin: The Final Season</td><td>[&apos;Action&apos;, &apos;Drama&apos;, &apos;Gore&apos;, &apos;Military&apos;, &apos;Shounen&apos;, &apos;Survival&apos;]</td><td>tv</td><td>32.0</td><td>7.7869</td><td>0.00219663</td><td>0.906047</td><td>0.211023</td><td>7.4072</td><td>0.00219663</td><td>-6.88085</td><td>1</td></tr><tr><th>14</th><td>32843</td><td>3602</td><td>Senki Zesshou Symphogear XV</td><td>[&apos;Action&apos;, &apos;Idols (Female)&apos;, &apos;Music&apos;, &apos;Sci-Fi&apos;]</td><td>tv</td><td>129.0</td><td>7.66232</td><td>3.1311e-5</td><td>0.859867</td><td>0.0904677</td><td>6.94163</td><td>3.1311e-5</td><td>-6.80245</td><td>1</td></tr><tr><th>15</th><td>28891</td><td>9157</td><td>Haikyuu!! Second Season</td><td>[&apos;School&apos;, &apos;Shounen&apos;, &apos;Sports&apos;, &apos;Team Sports&apos;]</td><td>tv</td><td>45.0</td><td>7.67453</td><td>0.0016207</td><td>0.873716</td><td>0.155618</td><td>7.22776</td><td>0.0016207</td><td>-6.80081</td><td>1</td></tr><tr><th>16</th><td>38329</td><td>4161</td><td>Seishun Buta Yarou wa Yumemiru Shoujo no Yume wo Minai</td><td>[&apos;Drama&apos;, &apos;Romance&apos;, &apos;School&apos;, &apos;Supernatural&apos;]</td><td>movie</td><td>67.0</td><td>7.66419</td><td>0.00082299</td><td>0.87727</td><td>0.1394</td><td>7.2443</td><td>0.000822991</td><td>-6.78692</td><td>1</td></tr><tr><th>17</th><td>48583</td><td>18963</td><td>Shingeki no Kyojin: The Final Season Part 2</td><td>[&apos;Action&apos;, &apos;Drama&apos;, &apos;Gore&apos;, &apos;Military&apos;, &apos;Shounen&apos;, &apos;Survival&apos;]</td><td>tv</td><td>69.0</td><td>7.63805</td><td>0.0012622</td><td>0.857252</td><td>0.156731</td><td>7.45514</td><td>0.00126221</td><td>-6.7808</td><td>1</td></tr><tr><th>18</th><td>48411</td><td>10158</td><td>Aria the Benedizione</td><td>[&apos;Fantasy&apos;, &apos;Iyashikei&apos;, &apos;Sci-Fi&apos;, &apos;Shounen&apos;, &apos;Slice of Life&apos;]</td><td>movie</td><td>2266.0</td><td>7.70009</td><td>7.00173e-7</td><td>0.944922</td><td>0.0272695</td><td>6.88097</td><td>7.00075e-7</td><td>-6.75517</td><td>1</td></tr><tr><th>19</th><td>2761</td><td>2129</td><td>Densetsu Kyojin Ideon: Hatsudou-hen</td><td>[&apos;Drama&apos;, &apos;Mecha&apos;, &apos;Sci-Fi&apos;, &apos;Space&apos;]</td><td>movie</td><td>1016.0</td><td>7.58089</td><td>7.86804e-6</td><td>0.883584</td><td>0.0608449</td><td>7.34332</td><td>7.86796e-6</td><td>-6.6973</td><td>1</td></tr><tr><th>20</th><td>7616</td><td>5602</td><td>Michi (Movie)</td><td>[&apos;Drama&apos;, &apos;Slice of Life&apos;]</td><td>movie</td><td>18383.0</td><td>8.04886</td><td>8.16851e-7</td><td>1.40065</td><td>0.000888977</td><td>7.66429</td><td>8.16754e-7</td><td>-6.6482</td><td>1</td></tr><tr><th>21</th><td>11061</td><td>7814</td><td>Hunter x Hunter (2011)</td><td>[&apos;Action&apos;, &apos;Adventure&apos;, &apos;Fantasy&apos;, &apos;Shounen&apos;]</td><td>tv</td><td>36.0</td><td>7.69266</td><td>0.00262856</td><td>1.07681</td><td>0.236616</td><td>7.57482</td><td>0.00262857</td><td>-6.61585</td><td>1</td></tr><tr><th>22</th><td>40664</td><td>19524</td><td>Shoujo☆Kageki Revue Starlight Movie</td><td>[&apos;Music&apos;, &apos;Performing Arts&apos;, &apos;School&apos;]</td><td>movie</td><td>5431.0</td><td>7.76846</td><td>8.32214e-6</td><td>1.15722</td><td>0.00711299</td><td>7.6506</td><td>8.32206e-6</td><td>-6.61125</td><td>1</td></tr><tr><th>23</th><td>31</td><td>17299</td><td>Neon Genesis Evangelion: Death &amp; Rebirth</td><td>[&apos;Drama&apos;, &apos;Mecha&apos;, &apos;Psychological&apos;, &apos;Sci-Fi&apos;]</td><td>movie</td><td>61.0</td><td>7.58265</td><td>0.000308174</td><td>0.999825</td><td>0.11443</td><td>6.11667</td><td>0.000308175</td><td>-6.58283</td><td>1</td></tr><tr><th>24</th><td>399</td><td>6592</td><td>Seikai no Senki Special</td><td>[&apos;Action&apos;, &apos;Military&apos;, &apos;Romance&apos;, &apos;Sci-Fi&apos;, &apos;Space&apos;]</td><td>special</td><td>725.0</td><td>7.70416</td><td>3.47839e-6</td><td>1.12397</td><td>0.0583303</td><td>6.1576</td><td>3.4783e-6</td><td>-6.58018</td><td>1</td></tr><tr><th>25</th><td>32935</td><td>2448</td><td>Haikyuu!!: Karasuno Koukou vs. Shiratorizawa Gakuen Koukou</td><td>[&apos;School&apos;, &apos;Shounen&apos;, &apos;Sports&apos;, &apos;Team Sports&apos;]</td><td>tv</td><td>70.0</td><td>7.5759</td><td>0.00136979</td><td>0.996574</td><td>0.170686</td><td>7.39082</td><td>0.00136979</td><td>-6.57932</td><td>1</td></tr><tr><th>26</th><td>40776</td><td>8909</td><td>Haikyuu!! To the Top Part 2</td><td>[&apos;School&apos;, &apos;Shounen&apos;, &apos;Sports&apos;, &apos;Team Sports&apos;]</td><td>tv</td><td>84.0</td><td>7.33049</td><td>0.000873575</td><td>0.809011</td><td>0.143257</td><td>7.15138</td><td>0.000873577</td><td>-6.52148</td><td>1</td></tr><tr><th>27</th><td>41361</td><td>3592</td><td>Eiga Daisuki Pompo-san (Movie)</td><td>[&apos;Comedy&apos;, &apos;Drama&apos;]</td><td>movie</td><td>623.0</td><td>7.41212</td><td>1.46133e-5</td><td>0.894446</td><td>0.0759163</td><td>7.18814</td><td>1.46133e-5</td><td>-6.51767</td><td>1</td></tr><tr><th>28</th><td>32836</td><td>20123</td><td>Senki Zesshou Symphogear AXZ</td><td>[&apos;Action&apos;, &apos;Idols (Female)&apos;, &apos;Music&apos;, &apos;Sci-Fi&apos;]</td><td>tv</td><td>127.0</td><td>7.47314</td><td>3.85041e-5</td><td>0.972104</td><td>0.0922177</td><td>6.29791</td><td>3.85041e-5</td><td>-6.50104</td><td>1</td></tr><tr><th>29</th><td>24997</td><td>10925</td><td>Love Live! The School Idol Movie</td><td>[&apos;Idols (Female)&apos;, &apos;Music&apos;, &apos;School&apos;, &apos;Slice of Life&apos;]</td><td>movie</td><td>128.0</td><td>7.40173</td><td>0.00016043</td><td>0.95309</td><td>0.0958655</td><td>6.48038</td><td>0.000160431</td><td>-6.44864</td><td>1</td></tr><tr><th>30</th><td>17739</td><td>3879</td><td>Hidamari Sketch: Sae Hiro Sotsugyou-hen</td><td>[&apos;CGDCT&apos;, &apos;Comedy&apos;, &apos;Iyashikei&apos;, &apos;School&apos;, &apos;Seinen&apos;, &apos;Slice of Life&apos;, &apos;Visual Arts&apos;]</td><td>ova</td><td>1454.0</td><td>7.31743</td><td>1.50958e-5</td><td>0.884048</td><td>0.0549566</td><td>7.16819</td><td>1.50958e-5</td><td>-6.43339</td><td>1</td></tr><tr><th>31</th><td>33486</td><td>19915</td><td>Boku no Hero Academia 2nd Season</td><td>[&apos;Action&apos;, &apos;School&apos;, &apos;Shounen&apos;, &apos;Super Power&apos;]</td><td>tv</td><td>79.0</td><td>7.10337</td><td>0.00294497</td><td>0.673</td><td>0.15027</td><td>6.68712</td><td>0.00294497</td><td>-6.43037</td><td>1</td></tr><tr><th>32</th><td>33970</td><td>8707</td><td>Girls &amp; Panzer: Saishuushou Part 1</td><td>[&apos;Military&apos;, &apos;School&apos;]</td><td>movie</td><td>199.0</td><td>7.35239</td><td>4.89548e-5</td><td>0.922457</td><td>0.0860113</td><td>6.55526</td><td>4.89548e-5</td><td>-6.42993</td><td>1</td></tr><tr><th>33</th><td>10050</td><td>9463</td><td>Macross F Music Clip Shuu: Nyankuri</td><td>[&apos;Music&apos;]</td><td>music</td><td>469.0</td><td>7.44689</td><td>5.7899e-6</td><td>1.02712</td><td>0.0659588</td><td>6.15198</td><td>5.78981e-6</td><td>-6.41977</td><td>1</td></tr><tr><th>34</th><td>35472</td><td>7295</td><td>Yuuki Yuuna wa Yuushabu Shozoku 2</td><td>[&apos;Comedy&apos;, &apos;Fantasy&apos;, &apos;Slice of Life&apos;]</td><td>movie</td><td>428.0</td><td>7.48515</td><td>3.85681e-6</td><td>1.0769</td><td>0.0501704</td><td>5.40189</td><td>3.85672e-6</td><td>-6.40825</td><td>1</td></tr><tr><th>35</th><td>25729</td><td>10946</td><td>Tamayura: Sotsugyou Shashin Part 1 - Kizashi</td><td>[&apos;CGDCT&apos;, &apos;Comedy&apos;, &apos;Drama&apos;, &apos;Iyashikei&apos;, &apos;Slice of Life&apos;]</td><td>movie</td><td>323.0</td><td>7.3772</td><td>9.53939e-6</td><td>0.981856</td><td>0.0807646</td><td>6.52793</td><td>9.53931e-6</td><td>-6.39535</td><td>1</td></tr><tr><th>36</th><td>1065</td><td>2038</td><td>Touch</td><td>[&apos;Drama&apos;, &apos;Love Polygon&apos;, &apos;Romance&apos;, &apos;School&apos;, &apos;Shounen&apos;, &apos;Slice of Life&apos;, &apos;Sports&apos;, &apos;Team Sports&apos;]</td><td>tv</td><td>543.0</td><td>7.30161</td><td>2.62749e-5</td><td>0.910054</td><td>0.077192</td><td>6.90687</td><td>2.62749e-5</td><td>-6.39156</td><td>1</td></tr><tr><th>37</th><td>35320</td><td>18944</td><td>Cardcaptor Sakura: Clear Card-hen Prologue - Sakura to Futatsu no Kuma</td><td>[&apos;Fantasy&apos;, &apos;Mahou Shoujo&apos;, &apos;Romance&apos;, &apos;Shoujo&apos;]</td><td>ova</td><td>202.0</td><td>7.34796</td><td>4.76713e-5</td><td>0.966267</td><td>0.0860113</td><td>6.44418</td><td>4.76713e-5</td><td>-6.38169</td><td>1</td></tr><tr><th>38</th><td>4454</td><td>17352</td><td>Macross F: Close Encounter - Deculture Edition</td><td>[&apos;Action&apos;, &apos;Mecha&apos;, &apos;Military&apos;, &apos;Music&apos;, &apos;Sci-Fi&apos;, &apos;Space&apos;]</td><td>special</td><td>203.0</td><td>7.36558</td><td>1.62784e-5</td><td>0.986387</td><td>0.0866716</td><td>6.4429</td><td>1.62783e-5</td><td>-6.37919</td><td>1</td></tr><tr><th>39</th><td>35473</td><td>17744</td><td>Yuuki Yuuna wa Yuushabu Shozoku 3</td><td>[&apos;Comedy&apos;, &apos;Fantasy&apos;, &apos;Slice of Life&apos;]</td><td>movie</td><td>479.0</td><td>7.46775</td><td>3.47839e-6</td><td>1.0905</td><td>0.0501956</td><td>5.43945</td><td>3.4783e-6</td><td>-6.37725</td><td>1</td></tr><tr><th>40</th><td>1381</td><td>16641</td><td>Seikai no Monshou Special</td><td>[&apos;Action&apos;, &apos;Military&apos;, &apos;Romance&apos;, &apos;Sci-Fi&apos;, &apos;Space&apos;]</td><td>special</td><td>775.0</td><td>7.38824</td><td>3.82528e-6</td><td>1.02147</td><td>0.0501704</td><td>6.02758</td><td>3.82518e-6</td><td>-6.36677</td><td>1</td></tr><tr><th>41</th><td>33221</td><td>5814</td><td>Mobile Suit Gundam Thunderbolt: December Sky</td><td>[&apos;Action&apos;, &apos;Drama&apos;, &apos;Mecha&apos;, &apos;Military&apos;, &apos;Sci-Fi&apos;, &apos;Space&apos;]</td><td>movie</td><td>588.0</td><td>7.24809</td><td>2.60037e-5</td><td>0.890652</td><td>0.0749807</td><td>6.91242</td><td>2.60037e-5</td><td>-6.35744</td><td>1</td></tr><tr><th>42</th><td>38883</td><td>14856</td><td>Haikyuu!! To the Top</td><td>[&apos;School&apos;, &apos;Shounen&apos;, &apos;Sports&apos;, &apos;Team Sports&apos;]</td><td>tv</td><td>85.0</td><td>7.33367</td><td>0.00104375</td><td>0.979724</td><td>0.141159</td><td>6.96516</td><td>0.00104375</td><td>-6.35395</td><td>1</td></tr><tr><th>43</th><td>36990</td><td>15848</td><td>Non Non Biyori Movie: Vacation</td><td>[&apos;CGDCT&apos;, &apos;Iyashikei&apos;, &apos;Seinen&apos;, &apos;Slice of Life&apos;]</td><td>movie</td><td>594.0</td><td>7.15334</td><td>7.96508e-5</td><td>0.813947</td><td>0.0697373</td><td>6.94694</td><td>7.96508e-5</td><td>-6.3394</td><td>1</td></tr><tr><th>44</th><td>371</td><td>7437</td><td>Cardcaptor Sakura Movie 1</td><td>[&apos;Comedy&apos;, &apos;Drama&apos;, &apos;Fantasy&apos;, &apos;Mahou Shoujo&apos;, &apos;Shoujo&apos;]</td><td>movie</td><td>103.0</td><td>7.37381</td><td>0.000130034</td><td>1.04284</td><td>0.0994382</td><td>6.09244</td><td>0.000130034</td><td>-6.33097</td><td>1</td></tr><tr><th>45</th><td>42941</td><td>9316</td><td>Uma Musume: Pretty Derby (TV) Season 2</td><td>[&apos;Anthropomorphic&apos;, &apos;Sports&apos;]</td><td>tv</td><td>429.0</td><td>7.23991</td><td>4.73307e-5</td><td>0.910116</td><td>0.0760206</td><td>6.61651</td><td>4.73307e-5</td><td>-6.32979</td><td>1</td></tr><tr><th>46</th><td>49521</td><td>20318</td><td>Non Non Biyori Nonstop: Bukatsu wo Ganbatta</td><td>[&apos;CGDCT&apos;, &apos;Iyashikei&apos;, &apos;Seinen&apos;, &apos;Slice of Life&apos;]</td><td>ova</td><td>831.0</td><td>7.04063</td><td>1.22861e-5</td><td>0.715991</td><td>0.0525654</td><td>6.87728</td><td>1.2286e-5</td><td>-6.32464</td><td>1</td></tr><tr><th>47</th><td>5244</td><td>7353</td><td>Aria the Natural: Sono Futatabi Deaeru Kiseki ni...</td><td>[&apos;Fantasy&apos;, &apos;Iyashikei&apos;, &apos;Sci-Fi&apos;, &apos;Shounen&apos;, &apos;Slice of Life&apos;]</td><td>special</td><td>197.0</td><td>7.29561</td><td>2.02076e-5</td><td>0.980783</td><td>0.0881667</td><td>6.34311</td><td>2.02076e-5</td><td>-6.31482</td><td>1</td></tr><tr><th>48</th><td>18617</td><td>17959</td><td>Girls &amp; Panzer Movie</td><td>[&apos;Military&apos;, &apos;School&apos;, &apos;Sports&apos;]</td><td>movie</td><td>341.0</td><td>7.24172</td><td>0.000119126</td><td>0.932136</td><td>0.0853366</td><td>6.76544</td><td>0.000119126</td><td>-6.30958</td><td>1</td></tr><tr><th>49</th><td>1483</td><td>3288</td><td>Master Keaton</td><td>[&apos;Adult Cast&apos;, &apos;Adventure&apos;, &apos;Drama&apos;, &apos;Historical&apos;, &apos;Mystery&apos;, &apos;Seinen&apos;]</td><td>tv</td><td>432.0</td><td>7.0942</td><td>1.53954e-5</td><td>0.785494</td><td>0.068941</td><td>6.71959</td><td>1.53953e-5</td><td>-6.3087</td><td>1</td></tr><tr><th>50</th><td>136</td><td>18634</td><td>Hunter x Hunter</td><td>[&apos;Action&apos;, &apos;Adventure&apos;, &apos;Fantasy&apos;, &apos;Shounen&apos;]</td><td>tv</td><td>167.0</td><td>7.0523</td><td>0.000520025</td><td>0.752282</td><td>0.102462</td><td>6.88883</td><td>0.000520026</td><td>-6.30002</td><td>1</td></tr><tr><th>&vellip;</th><td>&vellip;</td><td>&vellip;</td><td>&vellip;</td><td>&vellip;</td><td>&vellip;</td><td>&vellip;</td><td>&vellip;</td><td>&vellip;</td><td>&vellip;</td><td>&vellip;</td><td>&vellip;</td><td>&vellip;</td><td>&vellip;</td><td>&vellip;</td></tr></tbody></table></div>"
      ],
      "text/latex": [
       "\\begin{tabular}{r|cccccccccccccc}\n",
       "\t& anime\\_id & uid & title & genres & medium & ranking & explicit & implicit & error\\_explicit & error\\_implicit & baseline\\_explicit & baseline\\_implicit & score & display\\\\\n",
       "\t\\hline\n",
       "\t& Int64 & Int64 & String & String & String7 & Float32 & Float32 & Float32 & Float32 & Float32 & Float32 & Float32 & Float32 & Bool\\\\\n",
       "\t\\hline\n",
       "\t1 & 34376 & 1289 & Yuuki Yuuna wa Yuusha de Aru: Washio Sumi no Shou 3 - Yakusoku & ['Drama', 'Fantasy', 'Mahou Shoujo', 'Slice of Life'] & movie & 1.0 & 9.5244 & 1.2696e-5 & 0.716989 & 0.15861 & 6.80728 & 1.2696e-5 & -8.80742 & 1 \\\\\n",
       "\t2 & 34375 & 2707 & Yuuki Yuuna wa Yuusha de Aru: Washio Sumi no Shou 2 - Tamashii & ['Drama', 'Fantasy', 'Mahou Shoujo', 'Slice of Life'] & movie & 3.0 & 9.38373 & 1.30492e-5 & 0.842511 & 0.153089 & 6.60721 & 1.30491e-5 & -8.54122 & 1 \\\\\n",
       "\t3 & 34374 & 7098 & Yuuki Yuuna wa Yuusha de Aru: Washio Sumi no Shou 1 - Tomodachi & ['Drama', 'Fantasy', 'Mahou Shoujo', 'Slice of Life'] & movie & 5.0 & 8.91244 & 1.34939e-5 & 0.905103 & 0.136298 & 6.29922 & 1.34938e-5 & -8.00733 & 1 \\\\\n",
       "\t4 & 11979 & 14471 & Mahou Shoujo Madoka★Magica Movie 2: Eien no Monogatari & ['Drama', 'Mahou Shoujo', 'Psychological', 'Suspense'] & movie & 29.0 & 7.99175 & 0.000218622 & 0.719155 & 0.125456 & 7.05945 & 0.000218622 & -7.2726 & 1 \\\\\n",
       "\t5 & 29831 & 1773 & Tamayura: Sotsugyou Shashin Part 4 - Ashita & ['CGDCT', 'Comedy', 'Drama', 'Iyashikei', 'Slice of Life'] & movie & 73.0 & 8.17977 & 8.35052e-6 & 0.938518 & 0.104479 & 7.18098 & 8.35044e-6 & -7.24125 & 1 \\\\\n",
       "\t6 & 42984 & 8632 & Gotcha! & ['Fantasy', 'Music'] & music & 44.0 & 7.94058 & 4.62617e-5 & 0.726873 & 0.112802 & 7.41328 & 4.62617e-5 & -7.21371 & 1 \\\\\n",
       "\t7 & 38524 & 12753 & Shingeki no Kyojin Season 3 Part 2 & ['Action', 'Drama', 'Gore', 'Military', 'Shounen', 'Survival'] & tv & 16.0 & 8.04535 & 0.00253456 & 0.862004 & 0.228715 & 7.68329 & 0.00253456 & -7.18334 & 1 \\\\\n",
       "\t8 & 5114 & 17079 & Fullmetal Alchemist: Brotherhood & ['Action', 'Adventure', 'Drama', 'Fantasy', 'Military', 'Shounen'] & tv & 15.0 & 8.10881 & 0.00308927 & 1.03487 & 0.229428 & 7.62535 & 0.00308928 & -7.07394 & 1 \\\\\n",
       "\t9 & 11977 & 11665 & Mahou Shoujo Madoka★Magica Movie 1: Hajimari no Monogatari & ['Drama', 'Mahou Shoujo', 'Psychological', 'Suspense'] & movie & 60.0 & 7.81557 & 0.000223415 & 0.786567 & 0.106875 & 6.89739 & 0.000223415 & -7.029 & 1 \\\\\n",
       "\t10 & 29830 & 18700 & Tamayura: Sotsugyou Shashin Part 3 - Akogare & ['CGDCT', 'Comedy', 'Drama', 'Iyashikei', 'Slice of Life'] & movie & 106.0 & 7.85273 & 8.19285e-6 & 0.853085 & 0.0889265 & 6.82051 & 8.19277e-6 & -6.99965 & 1 \\\\\n",
       "\t11 & 29829 & 19680 & Tamayura: Sotsugyou Shashin Part 2 - Hibiki & ['CGDCT', 'Comedy', 'Drama', 'Iyashikei', 'Slice of Life'] & movie & 105.0 & 7.81876 & 8.65957e-6 & 0.85773 & 0.0889265 & 6.7538 & 8.65948e-6 & -6.96103 & 1 \\\\\n",
       "\t12 & 42587 & 13295 & Yuuki Yuuna wa Yuusha de Aru: Dai Mankai no Shou & ['Drama', 'Fantasy', 'Mahou Shoujo', 'Slice of Life'] & tv & 40.0 & 7.96928 & 1.62878e-5 & 1.05102 & 0.107299 & 5.90612 & 1.62878e-5 & -6.91826 & 1 \\\\\n",
       "\t13 & 40028 & 5414 & Shingeki no Kyojin: The Final Season & ['Action', 'Drama', 'Gore', 'Military', 'Shounen', 'Survival'] & tv & 32.0 & 7.7869 & 0.00219663 & 0.906047 & 0.211023 & 7.4072 & 0.00219663 & -6.88085 & 1 \\\\\n",
       "\t14 & 32843 & 3602 & Senki Zesshou Symphogear XV & ['Action', 'Idols (Female)', 'Music', 'Sci-Fi'] & tv & 129.0 & 7.66232 & 3.1311e-5 & 0.859867 & 0.0904677 & 6.94163 & 3.1311e-5 & -6.80245 & 1 \\\\\n",
       "\t15 & 28891 & 9157 & Haikyuu!! Second Season & ['School', 'Shounen', 'Sports', 'Team Sports'] & tv & 45.0 & 7.67453 & 0.0016207 & 0.873716 & 0.155618 & 7.22776 & 0.0016207 & -6.80081 & 1 \\\\\n",
       "\t16 & 38329 & 4161 & Seishun Buta Yarou wa Yumemiru Shoujo no Yume wo Minai & ['Drama', 'Romance', 'School', 'Supernatural'] & movie & 67.0 & 7.66419 & 0.00082299 & 0.87727 & 0.1394 & 7.2443 & 0.000822991 & -6.78692 & 1 \\\\\n",
       "\t17 & 48583 & 18963 & Shingeki no Kyojin: The Final Season Part 2 & ['Action', 'Drama', 'Gore', 'Military', 'Shounen', 'Survival'] & tv & 69.0 & 7.63805 & 0.0012622 & 0.857252 & 0.156731 & 7.45514 & 0.00126221 & -6.7808 & 1 \\\\\n",
       "\t18 & 48411 & 10158 & Aria the Benedizione & ['Fantasy', 'Iyashikei', 'Sci-Fi', 'Shounen', 'Slice of Life'] & movie & 2266.0 & 7.70009 & 7.00173e-7 & 0.944922 & 0.0272695 & 6.88097 & 7.00075e-7 & -6.75517 & 1 \\\\\n",
       "\t19 & 2761 & 2129 & Densetsu Kyojin Ideon: Hatsudou-hen & ['Drama', 'Mecha', 'Sci-Fi', 'Space'] & movie & 1016.0 & 7.58089 & 7.86804e-6 & 0.883584 & 0.0608449 & 7.34332 & 7.86796e-6 & -6.6973 & 1 \\\\\n",
       "\t20 & 7616 & 5602 & Michi (Movie) & ['Drama', 'Slice of Life'] & movie & 18383.0 & 8.04886 & 8.16851e-7 & 1.40065 & 0.000888977 & 7.66429 & 8.16754e-7 & -6.6482 & 1 \\\\\n",
       "\t21 & 11061 & 7814 & Hunter x Hunter (2011) & ['Action', 'Adventure', 'Fantasy', 'Shounen'] & tv & 36.0 & 7.69266 & 0.00262856 & 1.07681 & 0.236616 & 7.57482 & 0.00262857 & -6.61585 & 1 \\\\\n",
       "\t22 & 40664 & 19524 & Shoujo☆Kageki Revue Starlight Movie & ['Music', 'Performing Arts', 'School'] & movie & 5431.0 & 7.76846 & 8.32214e-6 & 1.15722 & 0.00711299 & 7.6506 & 8.32206e-6 & -6.61125 & 1 \\\\\n",
       "\t23 & 31 & 17299 & Neon Genesis Evangelion: Death \\& Rebirth & ['Drama', 'Mecha', 'Psychological', 'Sci-Fi'] & movie & 61.0 & 7.58265 & 0.000308174 & 0.999825 & 0.11443 & 6.11667 & 0.000308175 & -6.58283 & 1 \\\\\n",
       "\t24 & 399 & 6592 & Seikai no Senki Special & ['Action', 'Military', 'Romance', 'Sci-Fi', 'Space'] & special & 725.0 & 7.70416 & 3.47839e-6 & 1.12397 & 0.0583303 & 6.1576 & 3.4783e-6 & -6.58018 & 1 \\\\\n",
       "\t25 & 32935 & 2448 & Haikyuu!!: Karasuno Koukou vs. Shiratorizawa Gakuen Koukou & ['School', 'Shounen', 'Sports', 'Team Sports'] & tv & 70.0 & 7.5759 & 0.00136979 & 0.996574 & 0.170686 & 7.39082 & 0.00136979 & -6.57932 & 1 \\\\\n",
       "\t26 & 40776 & 8909 & Haikyuu!! To the Top Part 2 & ['School', 'Shounen', 'Sports', 'Team Sports'] & tv & 84.0 & 7.33049 & 0.000873575 & 0.809011 & 0.143257 & 7.15138 & 0.000873577 & -6.52148 & 1 \\\\\n",
       "\t27 & 41361 & 3592 & Eiga Daisuki Pompo-san (Movie) & ['Comedy', 'Drama'] & movie & 623.0 & 7.41212 & 1.46133e-5 & 0.894446 & 0.0759163 & 7.18814 & 1.46133e-5 & -6.51767 & 1 \\\\\n",
       "\t28 & 32836 & 20123 & Senki Zesshou Symphogear AXZ & ['Action', 'Idols (Female)', 'Music', 'Sci-Fi'] & tv & 127.0 & 7.47314 & 3.85041e-5 & 0.972104 & 0.0922177 & 6.29791 & 3.85041e-5 & -6.50104 & 1 \\\\\n",
       "\t29 & 24997 & 10925 & Love Live! The School Idol Movie & ['Idols (Female)', 'Music', 'School', 'Slice of Life'] & movie & 128.0 & 7.40173 & 0.00016043 & 0.95309 & 0.0958655 & 6.48038 & 0.000160431 & -6.44864 & 1 \\\\\n",
       "\t30 & 17739 & 3879 & Hidamari Sketch: Sae Hiro Sotsugyou-hen & ['CGDCT', 'Comedy', 'Iyashikei', 'School', 'Seinen', 'Slice of Life', 'Visual Arts'] & ova & 1454.0 & 7.31743 & 1.50958e-5 & 0.884048 & 0.0549566 & 7.16819 & 1.50958e-5 & -6.43339 & 1 \\\\\n",
       "\t31 & 33486 & 19915 & Boku no Hero Academia 2nd Season & ['Action', 'School', 'Shounen', 'Super Power'] & tv & 79.0 & 7.10337 & 0.00294497 & 0.673 & 0.15027 & 6.68712 & 0.00294497 & -6.43037 & 1 \\\\\n",
       "\t32 & 33970 & 8707 & Girls \\& Panzer: Saishuushou Part 1 & ['Military', 'School'] & movie & 199.0 & 7.35239 & 4.89548e-5 & 0.922457 & 0.0860113 & 6.55526 & 4.89548e-5 & -6.42993 & 1 \\\\\n",
       "\t33 & 10050 & 9463 & Macross F Music Clip Shuu: Nyankuri & ['Music'] & music & 469.0 & 7.44689 & 5.7899e-6 & 1.02712 & 0.0659588 & 6.15198 & 5.78981e-6 & -6.41977 & 1 \\\\\n",
       "\t34 & 35472 & 7295 & Yuuki Yuuna wa Yuushabu Shozoku 2 & ['Comedy', 'Fantasy', 'Slice of Life'] & movie & 428.0 & 7.48515 & 3.85681e-6 & 1.0769 & 0.0501704 & 5.40189 & 3.85672e-6 & -6.40825 & 1 \\\\\n",
       "\t35 & 25729 & 10946 & Tamayura: Sotsugyou Shashin Part 1 - Kizashi & ['CGDCT', 'Comedy', 'Drama', 'Iyashikei', 'Slice of Life'] & movie & 323.0 & 7.3772 & 9.53939e-6 & 0.981856 & 0.0807646 & 6.52793 & 9.53931e-6 & -6.39535 & 1 \\\\\n",
       "\t36 & 1065 & 2038 & Touch & ['Drama', 'Love Polygon', 'Romance', 'School', 'Shounen', 'Slice of Life', 'Sports', 'Team Sports'] & tv & 543.0 & 7.30161 & 2.62749e-5 & 0.910054 & 0.077192 & 6.90687 & 2.62749e-5 & -6.39156 & 1 \\\\\n",
       "\t37 & 35320 & 18944 & Cardcaptor Sakura: Clear Card-hen Prologue - Sakura to Futatsu no Kuma & ['Fantasy', 'Mahou Shoujo', 'Romance', 'Shoujo'] & ova & 202.0 & 7.34796 & 4.76713e-5 & 0.966267 & 0.0860113 & 6.44418 & 4.76713e-5 & -6.38169 & 1 \\\\\n",
       "\t38 & 4454 & 17352 & Macross F: Close Encounter - Deculture Edition & ['Action', 'Mecha', 'Military', 'Music', 'Sci-Fi', 'Space'] & special & 203.0 & 7.36558 & 1.62784e-5 & 0.986387 & 0.0866716 & 6.4429 & 1.62783e-5 & -6.37919 & 1 \\\\\n",
       "\t39 & 35473 & 17744 & Yuuki Yuuna wa Yuushabu Shozoku 3 & ['Comedy', 'Fantasy', 'Slice of Life'] & movie & 479.0 & 7.46775 & 3.47839e-6 & 1.0905 & 0.0501956 & 5.43945 & 3.4783e-6 & -6.37725 & 1 \\\\\n",
       "\t40 & 1381 & 16641 & Seikai no Monshou Special & ['Action', 'Military', 'Romance', 'Sci-Fi', 'Space'] & special & 775.0 & 7.38824 & 3.82528e-6 & 1.02147 & 0.0501704 & 6.02758 & 3.82518e-6 & -6.36677 & 1 \\\\\n",
       "\t41 & 33221 & 5814 & Mobile Suit Gundam Thunderbolt: December Sky & ['Action', 'Drama', 'Mecha', 'Military', 'Sci-Fi', 'Space'] & movie & 588.0 & 7.24809 & 2.60037e-5 & 0.890652 & 0.0749807 & 6.91242 & 2.60037e-5 & -6.35744 & 1 \\\\\n",
       "\t42 & 38883 & 14856 & Haikyuu!! To the Top & ['School', 'Shounen', 'Sports', 'Team Sports'] & tv & 85.0 & 7.33367 & 0.00104375 & 0.979724 & 0.141159 & 6.96516 & 0.00104375 & -6.35395 & 1 \\\\\n",
       "\t43 & 36990 & 15848 & Non Non Biyori Movie: Vacation & ['CGDCT', 'Iyashikei', 'Seinen', 'Slice of Life'] & movie & 594.0 & 7.15334 & 7.96508e-5 & 0.813947 & 0.0697373 & 6.94694 & 7.96508e-5 & -6.3394 & 1 \\\\\n",
       "\t44 & 371 & 7437 & Cardcaptor Sakura Movie 1 & ['Comedy', 'Drama', 'Fantasy', 'Mahou Shoujo', 'Shoujo'] & movie & 103.0 & 7.37381 & 0.000130034 & 1.04284 & 0.0994382 & 6.09244 & 0.000130034 & -6.33097 & 1 \\\\\n",
       "\t45 & 42941 & 9316 & Uma Musume: Pretty Derby (TV) Season 2 & ['Anthropomorphic', 'Sports'] & tv & 429.0 & 7.23991 & 4.73307e-5 & 0.910116 & 0.0760206 & 6.61651 & 4.73307e-5 & -6.32979 & 1 \\\\\n",
       "\t46 & 49521 & 20318 & Non Non Biyori Nonstop: Bukatsu wo Ganbatta & ['CGDCT', 'Iyashikei', 'Seinen', 'Slice of Life'] & ova & 831.0 & 7.04063 & 1.22861e-5 & 0.715991 & 0.0525654 & 6.87728 & 1.2286e-5 & -6.32464 & 1 \\\\\n",
       "\t47 & 5244 & 7353 & Aria the Natural: Sono Futatabi Deaeru Kiseki ni... & ['Fantasy', 'Iyashikei', 'Sci-Fi', 'Shounen', 'Slice of Life'] & special & 197.0 & 7.29561 & 2.02076e-5 & 0.980783 & 0.0881667 & 6.34311 & 2.02076e-5 & -6.31482 & 1 \\\\\n",
       "\t48 & 18617 & 17959 & Girls \\& Panzer Movie & ['Military', 'School', 'Sports'] & movie & 341.0 & 7.24172 & 0.000119126 & 0.932136 & 0.0853366 & 6.76544 & 0.000119126 & -6.30958 & 1 \\\\\n",
       "\t49 & 1483 & 3288 & Master Keaton & ['Adult Cast', 'Adventure', 'Drama', 'Historical', 'Mystery', 'Seinen'] & tv & 432.0 & 7.0942 & 1.53954e-5 & 0.785494 & 0.068941 & 6.71959 & 1.53953e-5 & -6.3087 & 1 \\\\\n",
       "\t50 & 136 & 18634 & Hunter x Hunter & ['Action', 'Adventure', 'Fantasy', 'Shounen'] & tv & 167.0 & 7.0523 & 0.000520025 & 0.752282 & 0.102462 & 6.88883 & 0.000520026 & -6.30002 & 1 \\\\\n",
       "\t$\\dots$ & $\\dots$ & $\\dots$ & $\\dots$ & $\\dots$ & $\\dots$ & $\\dots$ & $\\dots$ & $\\dots$ & $\\dots$ & $\\dots$ & $\\dots$ & $\\dots$ & $\\dots$ & $\\dots$ \\\\\n",
       "\\end{tabular}\n"
      ],
      "text/plain": [
       "\u001b[1m2063×14 DataFrame\u001b[0m\n",
       "\u001b[1m  Row \u001b[0m│\u001b[1m anime_id \u001b[0m\u001b[1m uid   \u001b[0m\u001b[1m title                             \u001b[0m\u001b[1m genres                            \u001b[0m\u001b[1m medium  \u001b[0m\u001b[1m ranking \u001b[0m\u001b[1m explicit \u001b[0m\u001b[1m implicit    \u001b[0m\u001b[1m error_explicit \u001b[0m\u001b[1m error_implicit \u001b[0m\u001b[1m baseline_explicit \u001b[0m\u001b[1m baseline_implicit \u001b[0m\u001b[1m score       \u001b[0m\u001b[1m display \u001b[0m\n",
       "\u001b[1m      \u001b[0m│\u001b[90m Int64    \u001b[0m\u001b[90m Int64 \u001b[0m\u001b[90m String                            \u001b[0m\u001b[90m String                            \u001b[0m\u001b[90m String7 \u001b[0m\u001b[90m Float32 \u001b[0m\u001b[90m Float32  \u001b[0m\u001b[90m Float32     \u001b[0m\u001b[90m Float32        \u001b[0m\u001b[90m Float32        \u001b[0m\u001b[90m Float32           \u001b[0m\u001b[90m Float32           \u001b[0m\u001b[90m Float32     \u001b[0m\u001b[90m Bool    \u001b[0m\n",
       "──────┼────────────────────────────────────────────────────────────────────────────────────────────────────────────────────────────────────────────────────────────────────────────────────────────────────────────────────────────\n",
       "    1 │    34376   1289  Yuuki Yuuna wa Yuusha de Aru: Wa…  ['Drama', 'Fantasy', 'Mahou Shou…  movie        1.0   9.5244   1.2696e-5          0.716989     0.15861                6.80728        1.2696e-5    -8.80742        true\n",
       "    2 │    34375   2707  Yuuki Yuuna wa Yuusha de Aru: Wa…  ['Drama', 'Fantasy', 'Mahou Shou…  movie        3.0   9.38373  1.30492e-5         0.842511     0.153089               6.60721        1.30491e-5   -8.54122        true\n",
       "    3 │    34374   7098  Yuuki Yuuna wa Yuusha de Aru: Wa…  ['Drama', 'Fantasy', 'Mahou Shou…  movie        5.0   8.91244  1.34939e-5         0.905103     0.136298               6.29922        1.34938e-5   -8.00733        true\n",
       "    4 │    11979  14471  Mahou Shoujo Madoka★Magica Movie…  ['Drama', 'Mahou Shoujo', 'Psych…  movie       29.0   7.99175  0.000218622        0.719155     0.125456               7.05945        0.000218622  -7.2726         true\n",
       "    5 │    29831   1773  Tamayura: Sotsugyou Shashin Part…  ['CGDCT', 'Comedy', 'Drama', 'Iy…  movie       73.0   8.17977  8.35052e-6         0.938518     0.104479               7.18098        8.35044e-6   -7.24125        true\n",
       "    6 │    42984   8632  Gotcha!                            ['Fantasy', 'Music']               music       44.0   7.94058  4.62617e-5         0.726873     0.112802               7.41328        4.62617e-5   -7.21371        true\n",
       "    7 │    38524  12753  Shingeki no Kyojin Season 3 Part…  ['Action', 'Drama', 'Gore', 'Mil…  tv          16.0   8.04535  0.00253456         0.862004     0.228715               7.68329        0.00253456   -7.18334        true\n",
       "    8 │     5114  17079  Fullmetal Alchemist: Brotherhood   ['Action', 'Adventure', 'Drama',…  tv          15.0   8.10881  0.00308927         1.03487      0.229428               7.62535        0.00308928   -7.07394        true\n",
       "    9 │    11977  11665  Mahou Shoujo Madoka★Magica Movie…  ['Drama', 'Mahou Shoujo', 'Psych…  movie       60.0   7.81557  0.000223415        0.786567     0.106875               6.89739        0.000223415  -7.029          true\n",
       "   10 │    29830  18700  Tamayura: Sotsugyou Shashin Part…  ['CGDCT', 'Comedy', 'Drama', 'Iy…  movie      106.0   7.85273  8.19285e-6         0.853085     0.0889265              6.82051        8.19277e-6   -6.99965        true\n",
       "   11 │    29829  19680  Tamayura: Sotsugyou Shashin Part…  ['CGDCT', 'Comedy', 'Drama', 'Iy…  movie      105.0   7.81876  8.65957e-6         0.85773      0.0889265              6.7538         8.65948e-6   -6.96103        true\n",
       "   12 │    42587  13295  Yuuki Yuuna wa Yuusha de Aru: Da…  ['Drama', 'Fantasy', 'Mahou Shou…  tv          40.0   7.96928  1.62878e-5         1.05102      0.107299               5.90612        1.62878e-5   -6.91826        true\n",
       "   13 │    40028   5414  Shingeki no Kyojin: The Final Se…  ['Action', 'Drama', 'Gore', 'Mil…  tv          32.0   7.7869   0.00219663         0.906047     0.211023               7.4072         0.00219663   -6.88085        true\n",
       "   14 │    32843   3602  Senki Zesshou Symphogear XV        ['Action', 'Idols (Female)', 'Mu…  tv         129.0   7.66232  3.1311e-5          0.859867     0.0904677              6.94163        3.1311e-5    -6.80245        true\n",
       "   15 │    28891   9157  Haikyuu!! Second Season            ['School', 'Shounen', 'Sports', …  tv          45.0   7.67453  0.0016207          0.873716     0.155618               7.22776        0.0016207    -6.80081        true\n",
       "   16 │    38329   4161  Seishun Buta Yarou wa Yumemiru S…  ['Drama', 'Romance', 'School', '…  movie       67.0   7.66419  0.00082299         0.87727      0.1394                 7.2443         0.000822991  -6.78692        true\n",
       "   17 │    48583  18963  Shingeki no Kyojin: The Final Se…  ['Action', 'Drama', 'Gore', 'Mil…  tv          69.0   7.63805  0.0012622          0.857252     0.156731               7.45514        0.00126221   -6.7808         true\n",
       "   18 │    48411  10158  Aria the Benedizione               ['Fantasy', 'Iyashikei', 'Sci-Fi…  movie     2266.0   7.70009  7.00173e-7         0.944922     0.0272695              6.88097        7.00075e-7   -6.75517        true\n",
       "   19 │     2761   2129  Densetsu Kyojin Ideon: Hatsudou-…  ['Drama', 'Mecha', 'Sci-Fi', 'Sp…  movie     1016.0   7.58089  7.86804e-6         0.883584     0.0608449              7.34332        7.86796e-6   -6.6973         true\n",
       "   20 │     7616   5602  Michi (Movie)                      ['Drama', 'Slice of Life']         movie    18383.0   8.04886  8.16851e-7         1.40065      0.000888977            7.66429        8.16754e-7   -6.6482         true\n",
       "   21 │    11061   7814  Hunter x Hunter (2011)             ['Action', 'Adventure', 'Fantasy…  tv          36.0   7.69266  0.00262856         1.07681      0.236616               7.57482        0.00262857   -6.61585        true\n",
       "  ⋮   │    ⋮        ⋮                    ⋮                                  ⋮                     ⋮        ⋮        ⋮           ⋮             ⋮               ⋮                 ⋮                  ⋮               ⋮          ⋮\n",
       " 2044 │     5589  15095  Offside Girl                       ['Hentai', 'Sports']               ova      20302.0   2.78783  2.0341e-6          2.24889      0.00236068             2.47412        2.034e-6     -0.538934       true\n",
       " 2045 │    32294  11908  Ai (ONA)                           ['Romance']                        ona       6061.0   2.03051  7.6063e-6          1.49323      0.00780922             1.92978        7.60622e-6   -0.537274       true\n",
       " 2046 │    30860  19586  Koumon-teki Juuku Ketsujiru Juke   ['Avant Garde', 'Comedy', 'Music…  music    20301.0   2.77944  2.31476e-6         2.24889      0.00236068             2.46569        2.31466e-6   -0.530547       true\n",
       " 2047 │    38196   1493  Chouetsu Sekai                     ['Fantasy']                        ova      20330.0   2.85373  6.68638e-7         2.32631      0.00120439             2.47172        6.6854e-7    -0.52742        true\n",
       " 2048 │    28929  10769  Vampire Holmes                     ['Comedy', 'Mystery', 'Supernatu…  tv        3779.0   2.22809  2.55465e-5         1.70544      0.0272764              2.06658        2.55464e-5   -0.522645       true\n",
       " 2049 │    37571  19086  Senjuushi                          ['Action', 'Military']             tv       18945.0   3.77569  1.23397e-5         3.26565      0.0123548              3.02879        1.23396e-5   -0.51004        true\n",
       " 2050 │    13405   6652  Utsu Musume Sayuri                 ['Avant Garde', 'Comedy']          ova       4032.0   1.45026  3.65742e-5         0.944505     0.0333823              1.241          3.65742e-5   -0.505754       true\n",
       " 2051 │    16608    718  Shitcom                            ['Comedy', 'Romance']              ona       3540.0   2.29531  3.86177e-5         1.80241      0.042518               2.0807         3.86176e-5   -0.492903       true\n",
       " 2052 │    39917  19781  Sabiiro no Armor: Reimei           ['Action', 'Historical', 'Samura…  tv        7229.0   1.9038   6.3386e-6          1.41139      0.00555011             1.80248        6.33851e-6   -0.492412       true\n",
       " 2053 │    35383   9442  Yousei Land Mukashibanashi         ['Comedy', 'Fantasy', 'Historica…  tv       20324.0   2.78998  9.2407e-7          2.32631      0.00139956             2.40768        9.23973e-7   -0.463678       true\n",
       " 2054 │    22161   7019  Scrap Diary                        ['Avant Garde']                    movie    20300.0   2.67269  2.51973e-6         2.24889      0.00236068             2.35843        2.51964e-6   -0.423792       true\n",
       " 2055 │    35448  12228  Yo! Daitouryou Trap-kun            ['Comedy', 'Parody']               ona      18866.0   3.67649  1.1895e-5          3.26565      0.0123548              2.92912        1.1895e-5    -0.410836       true\n",
       " 2056 │     2777   1074  Generation of Chaos Next: Chikai…  ['Action', 'Adventure', 'Fantasy…  ova      20306.0   2.67614  1.83858e-6         2.32631      0.00236068             2.2933         1.83848e-6   -0.349836       true\n",
       " 2057 │    34223   8407  Forest Fairy Five                  ['Comedy', 'Fantasy', 'Music']     tv        8753.0   1.74629  3.91042e-6         1.41139      0.00337013             1.64423        3.91033e-6   -0.3349         true\n",
       " 2058 │    29978   4951  001                                ['Comedy']                         ona       4547.0   3.11145  3.05857e-5         2.82217      0.0311842              2.49632        3.05857e-5   -0.28928        true\n",
       " 2059 │    37448   3210  Ladyspo                            ['Action', 'Comedy', 'Sci-Fi']     tv        9169.0   2.056    3.35856e-6         1.76932      0.00320614             1.73884        3.35847e-6   -0.286679       true\n",
       " 2060 │    22179   9325  Aki no Puzzle                      ['Avant Garde']                    movie     8641.0   1.85445  3.68652e-6         1.76932      0.0036511              1.53634        3.68643e-6   -0.0851308      true\n",
       " 2061 │    31634   8996  Kokuhaku                           ['Horror']                         ona       5552.0   2.01886  1.12391e-5         2.0227       0.0123548              1.45198        1.1239e-5     0.00383663     true\n",
       " 2062 │    29949   3363  Nami                               ['Avant Garde']                    movie     3784.0   2.04253  2.90721e-5         2.04804      0.0273955              1.5575         2.9072e-5     0.0055089      true\n",
       " 2063 │     5569  19160  Tsui no Sora                       ['Hentai']                         ova       8176.0   1.26458  7.20266e-6         1.41139      0.00559663             1.16024        7.20257e-6    0.146815       true\n",
       "\u001b[36m                                                                                                                                                                                                                  2022 rows omitted\u001b[0m"
      ]
     },
     "execution_count": 12,
     "metadata": {},
     "output_type": "execute_result"
    }
   ],
   "source": [
    "df = copy(rec_df)\n",
    "df[:, \"score\"] = -(df[:, \"explicit\"] - df[:, \"error_explicit\"]);\n",
    "filter(x -> x.explicit - x.baseline_explicit > 0.1, df) |> pretty_display"
   ]
  },
  {
   "cell_type": "code",
   "execution_count": null,
   "id": "24b37aba-588a-4aab-a442-159c20fbada0",
   "metadata": {
    "tags": []
   },
   "outputs": [],
   "source": []
  },
  {
   "cell_type": "code",
   "execution_count": 13,
   "id": "0c37685d-f011-4643-8a41-2806d87c8b36",
   "metadata": {},
   "outputs": [],
   "source": [
    "# \tanime_id\tuid\ttitle\tgenres\tmedium\trating\talpha\tstd\tp\tnsfw\n",
    "# Int64\tInt64\tString\tString?\tString7\tFloat32\tFloat32\tFloat32\tFloat32\tString7\n",
    "# 1\t31988\t11173\tHibike! Euphonium 2\t['Drama', 'Music', 'School']\ttv\t7.38253\t0.356698\t0.792334\t0.00168306\twhite\n",
    "# 2\t1065\t967\tTouch\t['Drama', 'Romance', 'School', 'Shounen', 'Slice of Life', 'Sports']\ttv\t7.34929\t0.467546\t0.908755\t0.00076882\twhite\n",
    "# 3\t27989\t9666\tHibike! Euphonium\t['Drama', 'Music', 'School']\ttv\t7.23239\t0.571174\t0.868754\t0.00258483\twhite\n",
    "# 4\t1858\t1694\tGakuen Utopia Manabi Straight!\t['Comedy', 'School', 'Slice of Life']\ttv\t7.09079\t1.20158\t0.729596\t0.00062308\twhite\n",
    "# 5\t25835\t9373\tShirobako\t['Comedy', 'Drama']\ttv\t7.14048\t0.161561\t0.805839\t0.00261632\twhite\n",
    "# 6\t5941\t4377\tCross Game\t['Comedy', 'Drama', 'Romance', 'School', 'Shounen', 'Sports']\ttv\t7.23503\t0.154975\t0.9538\t0.00104641\twhite\n",
    "# 7\t39570\t15596\tHigh Score Girl II\t['Comedy', 'Game', 'Romance', 'School', 'Seinen']\ttv\t7.01997\t0.324915\t0.878117\t0.000592566\twhite\n",
    "# 8\t1530\t1388\tKanon (2006)\t['Drama', 'Romance', 'Slice of Life', 'Supernatural']\ttv\t7.16325\t0.720318\t1.03834\t0.00227492\twhite\n",
    "# 9\t488\t458\tIchigo Mashimaro\t['Comedy', 'Slice of Life']\ttv\t6.9334\t0.724677\t0.852129\t0.00104676\twhite\n",
    "# 10\t122\t101\tFull Moon wo Sagashite\t['Comedy', 'Drama', 'Music', 'Romance', 'Shoujo', 'Supernatural']\ttv\t6.94031\t0.727181\t0.869193\t0.000667557\twhite\n",
    "# 11\t21877\t8534\tHigh Score Girl\t['Comedy', 'Game', 'Romance', 'School', 'Seinen']\ttv\t6.88657\t0.471743\t0.941942\t0.000968524\twhite\n",
    "# 12\t38993\t15192\tKarakai Jouzu no Takagi-san 2\t['Comedy', 'Romance', 'School', 'Shounen', 'Slice of Life']\ttv\t6.78872\t0.179552\t0.993493\t0.000348786\twhite\n",
    "# 13\t532\t499\tBishoujo Senshi Sailor Moon S\t['Drama', 'Romance', 'Shoujo']\ttv\t6.63147\t0.41036\t0.84895\t0.000437212\twhite\n",
    "# 14\t135\t114\tHikaru no Go\t['Comedy', 'Game', 'Shounen', 'Supernatural']\ttv\t6.74995\t0.153899\t1.02637\t0.000676344\twhite\n",
    "# 15\t30727\t10611\tSaenai Heroine no Sodatekata ♭\t['Comedy', 'Ecchi', 'Harem', 'Romance', 'School']\ttv\t6.59874\t0.364116\t0.876918\t0.000742145\twhite\n",
    "# 16\t593\t556\tMugen no Ryvius\t['Drama', 'Mecha', 'Military', 'Psychological', 'Sci-Fi', 'Space']\ttv\t6.68717\t0.304934\t0.972565\t0.00101426\twhite\n",
    "# 17\t34902\t12650\tTsurezure Children\t['Comedy', 'Romance', 'School', 'Shounen']\ttv\t6.51234\t0.364974\t0.807823\t0.00102669\twhite\n",
    "# 18\t59\t40\tChobits\t['Comedy', 'Drama', 'Ecchi', 'Romance', 'Sci-Fi', 'Seinen']\ttv\t6.6161\t0.883723\t0.948174\t0.00179486\twhite\n",
    "# 19\t38753\t15022\tAraburu Kisetsu no Otome-domo yo.\t['Comedy', 'Drama', 'Romance', 'School', 'Shounen']\ttv\t6.52573\t0.495667\t0.864833\t0.000905996\twhite\n",
    "# 20\t31771\t11089\tAmanchu!\t['Comedy', 'School', 'Shounen', 'Slice of Life']\ttv\t6.58394\t0.685901\t0.926502\t0.000584655\twhite\n",
    "# 21\t35860\t13252\tKarakai Jouzu no Takagi-san\t['Comedy', 'Romance', 'School', 'Shounen', 'Slice of Life']\ttv\t6.59876\t0.432538\t0.977115\t0.000852553\twhite\n",
    "# 22\t427\t400\tKaleido Star\t['Comedy', 'Drama', 'Fantasy', 'Shoujo', 'Sports']\ttv\t6.57368\t0.344165\t0.97538\t0.000534053\twhite\n",
    "# 23\t40530\t16120\tJaku-Chara Tomozaki-kun\t['Drama', 'Romance', 'School']\ttv\t6.47727\t0.923203\t0.894883\t0.000440828\twhite\n",
    "# 24\t874\t789\tDigimon Tamers\t['Adventure', 'Comedy', 'Drama', 'Fantasy', 'Shounen']\ttv\t6.52593\t0.48561\t0.980111\t0.000362535\twhite\n",
    "# 25\t35240\t12889\tPrincess Principal\t['Action', 'Historical', 'Mystery']\ttv\t6.5926\t0.377174\t1.06195\t0.000912882\twhite\n",
    "# 26\t42361\t16907\tIjiranaide, Nagatoro-san\t['Comedy', 'Romance', 'Slice of Life']\ttv\t6.60228\t0.83992\t1.08517\t0.000529261\twhite\n",
    "# 27\t18897\t7968\tNisekoi\t['Comedy', 'Harem', 'Romance', 'School', 'Shounen']\ttv\t6.31667\t0.286932\t0.808886\t0.00141164\twhite\n",
    "# 28\t1486\t1348\tKodomo no Omocha (TV)\t['Comedy', 'Drama', 'Romance', 'Shoujo']\ttv\t6.56859\t0.231561\t1.06944\t0.000533452\twhite\n",
    "# 29\t35639\t13136\tJust Because!\t['Drama', 'Romance', 'School', 'Slice of Life']\ttv\t6.46695\t0.763056\t0.99794\t0.000684533\twhite\n",
    "# 30\t1222\t1114\tBokura ga Ita\t['Drama', 'Romance', 'Shoujo', 'Slice of Life']\ttv\t6.70307\t1.16039\t1.23905\t0.000494813\twhite\n",
    "# 31\t41619\t16653\tMunou na Nana\t['Psychological', 'Shounen', 'Super Power', 'Supernatural', 'Suspense']\ttv\t6.41985\t0.698886\t0.958501\t0.000440847\twhite\n",
    "# 32\t14131\t7087\tGirls & Panzer\t['Action', 'Military', 'School', 'Sports']\ttv\t6.55237\t0.586552\t1.13453\t0.00168731\twhite\n",
    "# 33\t552\t517\tDigimon Adventure\t['Action', 'Adventure', 'Comedy', 'Fantasy', 'Kids']\ttv\t6.55298\t0.365117\t1.13609\t0.000609451\twhite\n",
    "# 34\t40685\t16205\tSuper Cub\t['School', 'Slice of Life']\ttv\t6.35695\t0.364119\t0.944397\t0.000580612\twhite\n",
    "# 35\t37890\t14482\tOshi ga Budoukan Ittekuretara Shinu\t['Comedy', 'Girls Love', 'Music', 'Seinen', 'Slice of Life']\ttv\t6.20357\t0.206216\t0.801772\t0.000379987\twhite\n",
    "# 36\t34984\t12704\tKoi wa Ameagari no You ni\t['Drama', 'Romance', 'Seinen', 'Slice of Life']\ttv\t6.56196\t0.419388\t1.16207\t0.00116559\twhite\n",
    "# 37\t3958\t3399\tKannagi\t['Comedy', 'School', 'Shounen', 'Supernatural']\ttv\t6.24875\t0.494657\t0.866859\t0.00120494\twhite\n",
    "# 38\t31859\t11120\tHai to Gensou no Grimgar\t['Action', 'Adventure', 'Drama', 'Fantasy']\ttv\t6.24894\t0.166416\t0.876223\t0.000963634\twhite\n",
    "# 39\t13333\t6942\tTari Tari\t['Music', 'School', 'Slice of Life']\ttv\t6.24726\t0.466783\t0.878362\t0.00116383\twhite\n",
    "# 40\t587\t550\tHanbun no Tsuki ga Noboru Sora\t['Comedy', 'Drama', 'Romance']\ttv\t6.30107\t0.38663\t0.960221\t0.00128816\twhite\n",
    "# 41\t8861\t5539\tYosuga no Sora: In Solitude, Where We Are Least Alone.\t['Drama', 'Ecchi', 'Harem', 'Romance']\ttv\t7.46844\t3.02749\t2.15606\t0.00104767\tgray\n",
    "# 42\t2986\t2716\tBamboo Blade\t['Comedy', 'School', 'Seinen', 'Sports']\ttv\t6.17986\t0.452029\t0.868882\t0.000749638\twhite\n",
    "# 43\t35756\t13204\tComic Girls\t['Comedy', 'Slice of Life']\ttv\t6.22388\t0.350058\t0.919891\t0.000430328\twhite\n",
    "# 44\t1087\t987\tKimagure Orange☆Road\t['Comedy', 'Drama', 'Romance', 'School', 'Shounen', 'Slice of Life', 'Super Power']\ttv\t6.38255\t0.190579\t1.07896\t0.000837759\twhite\n",
    "# 45\t12149\t6691\tAKB0048\t['Music', 'Sci-Fi']\ttv\t6.26354\t0.61283\t0.960399\t0.00053292\twhite\n",
    "# 46\t330\t306\tMidori no Hibi\t['Comedy', 'Drama', 'Ecchi', 'Romance', 'Shounen']\ttv\t6.17071\t0.533026\t0.875367\t0.00092522\twhite\n",
    "# 47\t46093\t17949\tShiroi Suna no Aquatope\t['Drama', 'Slice of Life']\ttv\t6.36729\t0.377252\t1.0729\t0.000547827\twhite\n",
    "# 48\t5150\t3975\tHatsukoi Limited.\t['Comedy', 'Romance', 'School', 'Shounen']\ttv\t6.09554\t0.397329\t0.811726\t0.000535075\twhite\n",
    "# 49\t740\t677\tBishoujo Senshi Sailor Moon R\t['Demons', 'Romance', 'Shoujo']\ttv\t6.29016\t0.24701\t1.00655\t0.000616277\twhite\n",
    "# 50\t37982\t14550\tDomestic na Kanojo\t['Drama', 'Romance', 'School', "
   ]
  }
 ],
 "metadata": {
  "kernelspec": {
   "display_name": "Julia 1.8.0-rc1",
   "language": "julia",
   "name": "julia-1.8"
  },
  "language_info": {
   "file_extension": ".jl",
   "mimetype": "application/julia",
   "name": "julia",
   "version": "1.8.0"
  }
 },
 "nbformat": 4,
 "nbformat_minor": 5
}
