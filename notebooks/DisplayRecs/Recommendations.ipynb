{
 "cells": [
  {
   "cell_type": "code",
   "execution_count": 1,
   "id": "021d0dd4-cad8-4f79-b7ac-2198dc8680e9",
   "metadata": {},
   "outputs": [
    {
     "name": "stderr",
     "output_type": "stream",
     "text": [
      "\u001b[38;5;6m\u001b[1m[ \u001b[22m\u001b[39m\u001b[38;5;6m\u001b[1mInfo: \u001b[22m\u001b[39m20220708 00:11:15 Insample RMSE: 1.2724406\n",
      "\u001b[38;5;6m\u001b[1m[ \u001b[22m\u001b[39m\u001b[38;5;6m\u001b[1mInfo: \u001b[22m\u001b[39m20220708 00:11:15 Insample R2: 0.45511317\n"
     ]
    }
   ],
   "source": [
    "import NBInclude: @nbinclude\n",
    "@nbinclude(\"RecommendationsBase.ipynb\");"
   ]
  },
  {
   "cell_type": "markdown",
   "id": "4bbff9b5-51eb-4d21-8c94-950f9ad9e3fd",
   "metadata": {},
   "source": [
    "## Curated TV Series"
   ]
  },
  {
   "cell_type": "code",
   "execution_count": 2,
   "id": "bbcb4f02-77de-4d35-b80b-ca8083203590",
   "metadata": {
    "tags": []
   },
   "outputs": [
    {
     "data": {
      "text/html": [
       "<div class=\"data-frame\"><p>50 rows × 15 columns</p><table class=\"data-frame\"><thead><tr><th></th><th>anime_id</th><th>uid</th><th>title</th><th>genres</th><th>medium</th><th>ranking</th><th>explicit</th><th>implicit</th><th>error_explicit</th><th>error_implicit</th><th>baseline_explicit</th><th>baseline_implicit</th><th>score</th><th>seen</th><th>related</th></tr><tr><th></th><th title=\"Int64\">Int64</th><th title=\"Int64\">Int64</th><th title=\"String\">String</th><th title=\"String\">String</th><th title=\"InlineStrings.String7\">String7</th><th title=\"Float32\">Float32</th><th title=\"Float32\">Float32</th><th title=\"Float32\">Float32</th><th title=\"Float32\">Float32</th><th title=\"Float32\">Float32</th><th title=\"Float32\">Float32</th><th title=\"Float32\">Float32</th><th title=\"Float32\">Float32</th><th title=\"Bool\">Bool</th><th title=\"Bool\">Bool</th></tr></thead><tbody><tr><th>1</th><td>5941</td><td>8550</td><td>Cross Game</td><td>[&apos;Drama&apos;, &apos;Romance&apos;, &apos;School&apos;, &apos;Shounen&apos;, &apos;Sports&apos;, &apos;Team Sports&apos;]</td><td>tv</td><td>9.0</td><td>7.79907</td><td>0.00403852</td><td>0.876048</td><td>0.0188587</td><td>7.12028</td><td>9.87377e-5</td><td>9.0</td><td>0</td><td>0</td></tr><tr><th>2</th><td>27989</td><td>4600</td><td>Hibike! Euphonium</td><td>[&apos;Drama&apos;, &apos;Music&apos;, &apos;Performing Arts&apos;, &apos;School&apos;]</td><td>tv</td><td>15.0</td><td>7.64189</td><td>0.00263704</td><td>0.997587</td><td>0.0175495</td><td>6.75024</td><td>0.000460287</td><td>15.0</td><td>0</td><td>0</td></tr><tr><th>3</th><td>1065</td><td>2038</td><td>Touch</td><td>[&apos;Drama&apos;, &apos;Love Polygon&apos;, &apos;Romance&apos;, &apos;School&apos;, &apos;Shounen&apos;, &apos;Slice of Life&apos;, &apos;Sports&apos;, &apos;Team Sports&apos;]</td><td>tv</td><td>17.0</td><td>7.58733</td><td>0.000856546</td><td>0.720291</td><td>0.0175318</td><td>6.94463</td><td>1.9842e-5</td><td>17.0</td><td>0</td><td>0</td></tr><tr><th>4</th><td>122</td><td>5773</td><td>Full Moon wo Sagashite</td><td>[&apos;Comedy&apos;, &apos;Drama&apos;, &apos;Music&apos;, &apos;Romance&apos;, &apos;Shoujo&apos;, &apos;Supernatural&apos;]</td><td>tv</td><td>24.0</td><td>7.28565</td><td>0.00166384</td><td>1.11776</td><td>0.0224149</td><td>6.30717</td><td>0.000147446</td><td>24.0</td><td>0</td><td>0</td></tr><tr><th>5</th><td>135</td><td>11918</td><td>Hikaru no Go</td><td>[&apos;Comedy&apos;, &apos;Shounen&apos;, &apos;Strategy Game&apos;, &apos;Supernatural&apos;]</td><td>tv</td><td>27.0</td><td>7.48417</td><td>0.00112157</td><td>1.05287</td><td>0.01563</td><td>6.67032</td><td>0.000153084</td><td>27.0</td><td>0</td><td>0</td></tr><tr><th>6</th><td>42941</td><td>9316</td><td>Uma Musume: Pretty Derby (TV) Season 2</td><td>[&apos;Anthropomorphic&apos;, &apos;Sports&apos;]</td><td>tv</td><td>30.0</td><td>7.66418</td><td>0.000188502</td><td>0.932386</td><td>0.0135477</td><td>6.65427</td><td>3.67776e-5</td><td>30.0</td><td>0</td><td>0</td></tr><tr><th>7</th><td>38993</td><td>11039</td><td>Karakai Jouzu no Takagi-san 2</td><td>[&apos;Comedy&apos;, &apos;Iyashikei&apos;, &apos;Romantic Subtext&apos;, &apos;School&apos;, &apos;Shounen&apos;]</td><td>tv</td><td>37.0</td><td>7.34045</td><td>0.000956109</td><td>0.829321</td><td>0.0144625</td><td>6.69618</td><td>0.000452976</td><td>37.0</td><td>0</td><td>0</td></tr><tr><th>8</th><td>49721</td><td>14980</td><td>Karakai Jouzu no Takagi-san 3</td><td>[&apos;Comedy&apos;, &apos;Iyashikei&apos;, &apos;Romantic Subtext&apos;, &apos;School&apos;, &apos;Shounen&apos;]</td><td>tv</td><td>43.0</td><td>7.41957</td><td>0.000683623</td><td>0.941736</td><td>0.015482</td><td>7.07822</td><td>0.000216592</td><td>43.0</td><td>0</td><td>0</td></tr><tr><th>9</th><td>25835</td><td>1337</td><td>Shirobako</td><td>[&apos;Adult Cast&apos;, &apos;Comedy&apos;, &apos;Drama&apos;, &apos;Otaku Culture&apos;, &apos;Workplace&apos;]</td><td>tv</td><td>46.0</td><td>7.13735</td><td>0.00340941</td><td>0.610344</td><td>0.0192106</td><td>7.01304</td><td>0.000340545</td><td>46.0</td><td>0</td><td>0</td></tr><tr><th>10</th><td>1453</td><td>18267</td><td>Maison Ikkoku</td><td>[&apos;Adult Cast&apos;, &apos;Comedy&apos;, &apos;Drama&apos;, &apos;Romance&apos;, &apos;Seinen&apos;, &apos;Slice of Life&apos;]</td><td>tv</td><td>48.0</td><td>7.20007</td><td>0.00186543</td><td>0.671643</td><td>0.0169027</td><td>6.9618</td><td>4.40217e-5</td><td>48.0</td><td>0</td><td>0</td></tr><tr><th>11</th><td>1530</td><td>4298</td><td>Kanon (2006)</td><td>[&apos;Drama&apos;, &apos;Romance&apos;, &apos;Slice of Life&apos;, &apos;Supernatural&apos;]</td><td>tv</td><td>49.0</td><td>7.11329</td><td>0.00452729</td><td>0.68115</td><td>0.0211797</td><td>6.50778</td><td>0.00035529</td><td>49.0</td><td>0</td><td>0</td></tr><tr><th>12</th><td>593</td><td>19591</td><td>Mugen no Ryvius</td><td>[&apos;Drama&apos;, &apos;Mecha&apos;, &apos;Military&apos;, &apos;Psychological&apos;, &apos;Sci-Fi&apos;, &apos;Space&apos;]</td><td>tv</td><td>56.0</td><td>7.09265</td><td>0.0049314</td><td>0.781618</td><td>0.0178564</td><td>6.40961</td><td>2.37525e-5</td><td>56.0</td><td>0</td><td>0</td></tr><tr><th>13</th><td>42745</td><td>5383</td><td>Machikado Mazoku: 2-choume</td><td>[&apos;Comedy&apos;, &apos;Mahou Shoujo&apos;, &apos;Slice of Life&apos;]</td><td>tv</td><td>57.0</td><td>7.26618</td><td>0.000425804</td><td>1.0887</td><td>0.01622</td><td>6.45532</td><td>2.89915e-5</td><td>57.0</td><td>0</td><td>0</td></tr><tr><th>14</th><td>31988</td><td>13387</td><td>Hibike! Euphonium 2</td><td>[&apos;Drama&apos;, &apos;Music&apos;, &apos;Performing Arts&apos;, &apos;School&apos;]</td><td>tv</td><td>62.0</td><td>7.1743</td><td>0.00165176</td><td>0.821976</td><td>0.0160333</td><td>7.1104</td><td>0.000242961</td><td>62.0</td><td>0</td><td>0</td></tr><tr><th>15</th><td>1486</td><td>11829</td><td>Kodomo no Omocha (TV)</td><td>[&apos;Comedy&apos;, &apos;Drama&apos;, &apos;Love Polygon&apos;, &apos;Romance&apos;, &apos;Shoujo&apos;, &apos;Showbiz&apos;]</td><td>tv</td><td>64.0</td><td>7.1243</td><td>0.00120309</td><td>0.756733</td><td>0.0181922</td><td>6.50663</td><td>7.83732e-5</td><td>64.0</td><td>0</td><td>0</td></tr><tr><th>16</th><td>877</td><td>6348</td><td>Nana</td><td>[&apos;Adult Cast&apos;, &apos;Drama&apos;, &apos;Love Polygon&apos;, &apos;Music&apos;, &apos;Romance&apos;, &apos;Shoujo&apos;, &apos;Slice of Life&apos;]</td><td>tv</td><td>66.0</td><td>7.09471</td><td>0.00175933</td><td>0.638758</td><td>0.0169027</td><td>7.08022</td><td>0.000837779</td><td>66.0</td><td>0</td><td>0</td></tr><tr><th>17</th><td>1974</td><td>8589</td><td>Glass no Kamen (2005)</td><td>[&apos;Drama&apos;, &apos;Performing Arts&apos;, &apos;Shoujo&apos;, &apos;Showbiz&apos;]</td><td>tv</td><td>68.0</td><td>7.12567</td><td>0.00016806</td><td>0.722785</td><td>0.0181145</td><td>6.68123</td><td>2.59385e-5</td><td>68.0</td><td>0</td><td>0</td></tr><tr><th>18</th><td>444</td><td>19910</td><td>Maria-sama ga Miteru: Haru</td><td>[&apos;Drama&apos;, &apos;Girls Love&apos;, &apos;Romance&apos;, &apos;School&apos;, &apos;Shoujo&apos;]</td><td>tv</td><td>70.0</td><td>7.10564</td><td>0.000583793</td><td>0.731853</td><td>0.0164337</td><td>6.30781</td><td>2.51365e-5</td><td>70.0</td><td>0</td><td>0</td></tr><tr><th>19</th><td>427</td><td>10763</td><td>Kaleido Star</td><td>[&apos;Comedy&apos;, &apos;Drama&apos;, &apos;Fantasy&apos;, &apos;Performing Arts&apos;, &apos;Shoujo&apos;]</td><td>tv</td><td>72.0</td><td>7.07724</td><td>0.00119682</td><td>0.780611</td><td>0.0168537</td><td>6.26821</td><td>9.70482e-5</td><td>72.0</td><td>0</td><td>0</td></tr><tr><th>20</th><td>3750</td><td>7976</td><td>Maria-sama ga Miteru 4th</td><td>[&apos;Girls Love&apos;, &apos;School&apos;, &apos;Shoujo&apos;, &apos;Slice of Life&apos;]</td><td>tv</td><td>75.0</td><td>7.12785</td><td>0.000152504</td><td>0.784816</td><td>0.0141358</td><td>6.43466</td><td>1.67809e-5</td><td>75.0</td><td>0</td><td>0</td></tr><tr><th>21</th><td>21877</td><td>1365</td><td>High Score Girl</td><td>[&apos;Comedy&apos;, &apos;Love Polygon&apos;, &apos;Romantic Subtext&apos;, &apos;School&apos;, &apos;Seinen&apos;, &apos;Video Game&apos;]</td><td>tv</td><td>78.0</td><td>7.01111</td><td>0.00281976</td><td>0.738821</td><td>0.0169153</td><td>6.45281</td><td>0.000325648</td><td>78.0</td><td>0</td><td>0</td></tr><tr><th>22</th><td>1858</td><td>10180</td><td>Gakuen Utopia Manabi Straight!</td><td>[&apos;CGDCT&apos;, &apos;Comedy&apos;, &apos;School&apos;, &apos;Slice of Life&apos;]</td><td>tv</td><td>79.0</td><td>6.88808</td><td>0.0072132</td><td>0.787563</td><td>0.0191211</td><td>5.93891</td><td>2.04954e-5</td><td>79.0</td><td>0</td><td>0</td></tr><tr><th>23</th><td>43691</td><td>7639</td><td>Kageki Shoujo!!</td><td>[&apos;Drama&apos;, &apos;Performing Arts&apos;, &apos;School&apos;, &apos;Seinen&apos;]</td><td>tv</td><td>80.0</td><td>6.90314</td><td>0.000836326</td><td>0.817171</td><td>0.0247032</td><td>6.55838</td><td>6.33973e-5</td><td>80.0</td><td>0</td><td>0</td></tr><tr><th>24</th><td>488</td><td>813</td><td>Ichigo Mashimaro</td><td>[&apos;CGDCT&apos;, &apos;Comedy&apos;, &apos;Iyashikei&apos;, &apos;Slice of Life&apos;]</td><td>tv</td><td>82.0</td><td>6.79782</td><td>0.0060248</td><td>0.911958</td><td>0.0209118</td><td>6.27329</td><td>8.09729e-5</td><td>82.0</td><td>0</td><td>0</td></tr><tr><th>25</th><td>34798</td><td>1065</td><td>Yuru Camp△</td><td>[&apos;CGDCT&apos;, &apos;Iyashikei&apos;, &apos;Slice of Life&apos;]</td><td>tv</td><td>84.0</td><td>6.97521</td><td>0.0021744</td><td>0.935347</td><td>0.0172792</td><td>6.96383</td><td>0.000556777</td><td>84.0</td><td>0</td><td>0</td></tr><tr><th>26</th><td>42429</td><td>18521</td><td>Honzuki no Gekokujou: Shisho ni Naru Tame ni wa Shudan wo Erandeiraremasen 3rd Season</td><td>[&apos;Fantasy&apos;, &apos;Isekai&apos;, &apos;Reincarnation&apos;, &apos;Slice of Life&apos;]</td><td>tv</td><td>87.0</td><td>7.20961</td><td>0.000353164</td><td>1.19511</td><td>0.0167421</td><td>6.65197</td><td>6.90876e-5</td><td>87.0</td><td>0</td><td>0</td></tr><tr><th>27</th><td>21185</td><td>17918</td><td>Baby Steps</td><td>[&apos;School&apos;, &apos;Shounen&apos;, &apos;Sports&apos;]</td><td>tv</td><td>95.0</td><td>7.11907</td><td>0.000402354</td><td>0.927938</td><td>0.0146936</td><td>6.4404</td><td>0.000150492</td><td>95.0</td><td>0</td><td>0</td></tr><tr><th>28</th><td>30015</td><td>17576</td><td>ReLIFE</td><td>[&apos;Drama&apos;, &apos;Romance&apos;, &apos;School&apos;, &apos;Slice of Life&apos;]</td><td>tv</td><td>105.0</td><td>6.89178</td><td>0.00160696</td><td>0.683274</td><td>0.0180637</td><td>6.5677</td><td>0.00146251</td><td>105.0</td><td>0</td><td>0</td></tr><tr><th>29</th><td>113</td><td>18877</td><td>Uchuu no Stellvia</td><td>[&apos;Action&apos;, &apos;Mecha&apos;, &apos;Romance&apos;, &apos;Sci-Fi&apos;, &apos;Space&apos;]</td><td>tv</td><td>107.0</td><td>6.95409</td><td>0.00101984</td><td>0.865673</td><td>0.0164892</td><td>5.96551</td><td>1.73692e-5</td><td>107.0</td><td>0</td><td>0</td></tr><tr><th>30</th><td>48553</td><td>5763</td><td>Akebi-chan no Sailor-fuku</td><td>[&apos;School&apos;, &apos;Slice of Life&apos;]</td><td>tv</td><td>111.0</td><td>6.90448</td><td>0.00157288</td><td>0.870064</td><td>0.0168829</td><td>6.3188</td><td>0.000199235</td><td>111.0</td><td>0</td><td>0</td></tr><tr><th>31</th><td>101</td><td>4316</td><td>Air</td><td>[&apos;Drama&apos;, &apos;Romance&apos;, &apos;Slice of Life&apos;, &apos;Supernatural&apos;]</td><td>tv</td><td>118.0</td><td>6.62812</td><td>0.00413643</td><td>1.0308</td><td>0.0178489</td><td>5.78603</td><td>0.000426911</td><td>118.0</td><td>0</td><td>0</td></tr><tr><th>32</th><td>386</td><td>14690</td><td>H2</td><td>[&apos;Comedy&apos;, &apos;Romance&apos;, &apos;Shounen&apos;, &apos;Sports&apos;, &apos;Team Sports&apos;]</td><td>tv</td><td>125.0</td><td>7.32632</td><td>6.0598e-5</td><td>1.30313</td><td>0.0131153</td><td>5.96946</td><td>5.54857e-6</td><td>125.0</td><td>0</td><td>0</td></tr><tr><th>33</th><td>48702</td><td>4211</td><td>Dance Dance Danseur</td><td>[&apos;Drama&apos;, &apos;Performing Arts&apos;, &apos;Seinen&apos;]</td><td>tv</td><td>126.0</td><td>7.20173</td><td>6.32478e-5</td><td>1.24421</td><td>0.0150105</td><td>6.37271</td><td>5.92784e-5</td><td>126.0</td><td>0</td><td>0</td></tr><tr><th>34</th><td>283</td><td>12829</td><td>Akage no Anne</td><td>[&apos;Drama&apos;, &apos;Historical&apos;, &apos;Iyashikei&apos;, &apos;Slice of Life&apos;]</td><td>tv</td><td>128.0</td><td>7.00233</td><td>0.000460169</td><td>0.969528</td><td>0.0169022</td><td>6.70402</td><td>2.22082e-5</td><td>128.0</td><td>0</td><td>0</td></tr><tr><th>35</th><td>1087</td><td>10438</td><td>Kimagure Orange☆Road</td><td>[&apos;Comedy&apos;, &apos;Drama&apos;, &apos;Romance&apos;, &apos;School&apos;, &apos;Shounen&apos;, &apos;Slice of Life&apos;, &apos;Super Power&apos;]</td><td>tv</td><td>131.0</td><td>6.88521</td><td>0.00160198</td><td>0.796873</td><td>0.0158764</td><td>6.32728</td><td>3.13423e-5</td><td>131.0</td><td>0</td><td>0</td></tr><tr><th>36</th><td>65</td><td>6714</td><td>Rozen Maiden: Träumend</td><td>[&apos;Action&apos;, &apos;Comedy&apos;, &apos;Drama&apos;, &apos;Seinen&apos;]</td><td>tv</td><td>132.0</td><td>6.91009</td><td>0.000668777</td><td>0.85516</td><td>0.0153328</td><td>6.22007</td><td>0.000152102</td><td>132.0</td><td>0</td><td>0</td></tr><tr><th>37</th><td>345</td><td>7805</td><td>Eikoku Koi Monogatari Emma</td><td>[&apos;Drama&apos;, &apos;Historical&apos;, &apos;Romance&apos;, &apos;Seinen&apos;, &apos;Slice of Life&apos;]</td><td>tv</td><td>144.0</td><td>6.87906</td><td>0.000899739</td><td>0.729184</td><td>0.016803</td><td>6.33745</td><td>4.03152e-5</td><td>144.0</td><td>0</td><td>0</td></tr><tr><th>38</th><td>709</td><td>18753</td><td>Mujin Wakusei Survive</td><td>[&apos;Action&apos;, &apos;Adventure&apos;, &apos;Fantasy&apos;, &apos;Sci-Fi&apos;, &apos;Slice of Life&apos;, &apos;Survival&apos;]</td><td>tv</td><td>147.0</td><td>6.83787</td><td>0.000323118</td><td>0.830316</td><td>0.0183953</td><td>6.31784</td><td>2.29291e-5</td><td>147.0</td><td>0</td><td>0</td></tr><tr><th>39</th><td>35503</td><td>18585</td><td>Shoujo☆Kageki Revue Starlight</td><td>[&apos;Music&apos;, &apos;Performing Arts&apos;, &apos;School&apos;]</td><td>tv</td><td>149.0</td><td>6.79665</td><td>0.00270995</td><td>0.662375</td><td>0.0160921</td><td>6.51118</td><td>6.52479e-5</td><td>149.0</td><td>0</td><td>0</td></tr><tr><th>40</th><td>39468</td><td>17896</td><td>Honzuki no Gekokujou: Shisho ni Naru Tame ni wa Shudan wo Erandeiraremasen</td><td>[&apos;Fantasy&apos;, &apos;Isekai&apos;, &apos;Reincarnation&apos;, &apos;Slice of Life&apos;]</td><td>tv</td><td>157.0</td><td>6.75272</td><td>0.0014973</td><td>0.872393</td><td>0.0189974</td><td>6.63245</td><td>0.00031154</td><td>157.0</td><td>0</td><td>0</td></tr><tr><th>41</th><td>2942</td><td>3800</td><td>Sketchbook: Full Color&apos;s</td><td>[&apos;CGDCT&apos;, &apos;Comedy&apos;, &apos;Iyashikei&apos;, &apos;Slice of Life&apos;, &apos;Visual Arts&apos;]</td><td>tv</td><td>160.0</td><td>6.61916</td><td>0.00235777</td><td>0.771696</td><td>0.0246327</td><td>6.10699</td><td>1.93149e-5</td><td>160.0</td><td>0</td><td>0</td></tr><tr><th>42</th><td>64</td><td>7519</td><td>Rozen Maiden</td><td>[&apos;Action&apos;, &apos;Comedy&apos;, &apos;Drama&apos;, &apos;Seinen&apos;]</td><td>tv</td><td>163.0</td><td>6.67079</td><td>0.00108591</td><td>0.808741</td><td>0.0196391</td><td>5.96598</td><td>0.000285364</td><td>163.0</td><td>0</td><td>0</td></tr><tr><th>43</th><td>35860</td><td>13453</td><td>Karakai Jouzu no Takagi-san</td><td>[&apos;Comedy&apos;, &apos;Iyashikei&apos;, &apos;Romantic Subtext&apos;, &apos;School&apos;, &apos;Shounen&apos;]</td><td>tv</td><td>164.0</td><td>6.60696</td><td>0.00183602</td><td>0.856169</td><td>0.0209026</td><td>6.28587</td><td>0.000811435</td><td>164.0</td><td>0</td><td>0</td></tr><tr><th>44</th><td>158</td><td>3710</td><td>Maria-sama ga Miteru</td><td>[&apos;Drama&apos;, &apos;Girls Love&apos;, &apos;Romance&apos;, &apos;Shoujo&apos;, &apos;Slice of Life&apos;]</td><td>tv</td><td>172.0</td><td>6.7517</td><td>0.000788061</td><td>0.988142</td><td>0.016882</td><td>5.86883</td><td>5.29725e-5</td><td>172.0</td><td>0</td><td>0</td></tr><tr><th>45</th><td>34902</td><td>5679</td><td>Tsurezure Children</td><td>[&apos;Comedy&apos;, &apos;Romance&apos;, &apos;School&apos;, &apos;Shounen&apos;]</td><td>tv</td><td>173.0</td><td>6.64749</td><td>0.00201804</td><td>0.943735</td><td>0.0167764</td><td>6.15869</td><td>0.000993549</td><td>173.0</td><td>0</td><td>0</td></tr><tr><th>46</th><td>1695</td><td>16406</td><td>Les Misérables: Shoujo Cosette</td><td>[&apos;Drama&apos;, &apos;Historical&apos;, &apos;Shoujo&apos;, &apos;Slice of Life&apos;]</td><td>tv</td><td>178.0</td><td>6.94483</td><td>0.000125898</td><td>1.00091</td><td>0.0153177</td><td>6.59493</td><td>2.21303e-5</td><td>178.0</td><td>0</td><td>0</td></tr><tr><th>47</th><td>327</td><td>18584</td><td>Puchi Pri*Yucie</td><td>[&apos;Comedy&apos;, &apos;Fantasy&apos;, &apos;Shoujo&apos;]</td><td>tv</td><td>186.0</td><td>6.81789</td><td>0.000285317</td><td>0.964422</td><td>0.0134982</td><td>5.84586</td><td>1.54341e-5</td><td>186.0</td><td>0</td><td>0</td></tr><tr><th>48</th><td>2035</td><td>17102</td><td>Eikoku Koi Monogatari Emma: Molders-hen</td><td>[&apos;Drama&apos;, &apos;Historical&apos;, &apos;Romance&apos;, &apos;Seinen&apos;, &apos;Slice of Life&apos;]</td><td>tv</td><td>189.0</td><td>6.88937</td><td>0.00014226</td><td>0.782303</td><td>0.0121459</td><td>6.59872</td><td>2.11462e-5</td><td>189.0</td><td>0</td><td>0</td></tr><tr><th>49</th><td>40174</td><td>10102</td><td>Zombieland Saga: Revenge</td><td>[&apos;Comedy&apos;, &apos;Idols (Female)&apos;, &apos;Music&apos;, &apos;Supernatural&apos;]</td><td>tv</td><td>191.0</td><td>6.76557</td><td>0.000336421</td><td>0.797586</td><td>0.0156041</td><td>6.70133</td><td>0.000204387</td><td>191.0</td><td>0</td><td>0</td></tr><tr><th>50</th><td>16067</td><td>13712</td><td>Nagi no Asu kara</td><td>[&apos;Drama&apos;, &apos;Fantasy&apos;, &apos;Romance&apos;]</td><td>tv</td><td>202.0</td><td>6.53151</td><td>0.00340218</td><td>0.785726</td><td>0.0187718</td><td>6.49939</td><td>0.000671307</td><td>202.0</td><td>0</td><td>0</td></tr></tbody></table></div>"
      ],
      "text/latex": [
       "\\begin{tabular}{r|ccccccccccccccc}\n",
       "\t& anime\\_id & uid & title & genres & medium & ranking & explicit & implicit & error\\_explicit & error\\_implicit & baseline\\_explicit & baseline\\_implicit & score & seen & related\\\\\n",
       "\t\\hline\n",
       "\t& Int64 & Int64 & String & String & String7 & Float32 & Float32 & Float32 & Float32 & Float32 & Float32 & Float32 & Float32 & Bool & Bool\\\\\n",
       "\t\\hline\n",
       "\t1 & 5941 & 8550 & Cross Game & ['Drama', 'Romance', 'School', 'Shounen', 'Sports', 'Team Sports'] & tv & 9.0 & 7.79907 & 0.00403852 & 0.876048 & 0.0188587 & 7.12028 & 9.87377e-5 & 9.0 & 0 & 0 \\\\\n",
       "\t2 & 27989 & 4600 & Hibike! Euphonium & ['Drama', 'Music', 'Performing Arts', 'School'] & tv & 15.0 & 7.64189 & 0.00263704 & 0.997587 & 0.0175495 & 6.75024 & 0.000460287 & 15.0 & 0 & 0 \\\\\n",
       "\t3 & 1065 & 2038 & Touch & ['Drama', 'Love Polygon', 'Romance', 'School', 'Shounen', 'Slice of Life', 'Sports', 'Team Sports'] & tv & 17.0 & 7.58733 & 0.000856546 & 0.720291 & 0.0175318 & 6.94463 & 1.9842e-5 & 17.0 & 0 & 0 \\\\\n",
       "\t4 & 122 & 5773 & Full Moon wo Sagashite & ['Comedy', 'Drama', 'Music', 'Romance', 'Shoujo', 'Supernatural'] & tv & 24.0 & 7.28565 & 0.00166384 & 1.11776 & 0.0224149 & 6.30717 & 0.000147446 & 24.0 & 0 & 0 \\\\\n",
       "\t5 & 135 & 11918 & Hikaru no Go & ['Comedy', 'Shounen', 'Strategy Game', 'Supernatural'] & tv & 27.0 & 7.48417 & 0.00112157 & 1.05287 & 0.01563 & 6.67032 & 0.000153084 & 27.0 & 0 & 0 \\\\\n",
       "\t6 & 42941 & 9316 & Uma Musume: Pretty Derby (TV) Season 2 & ['Anthropomorphic', 'Sports'] & tv & 30.0 & 7.66418 & 0.000188502 & 0.932386 & 0.0135477 & 6.65427 & 3.67776e-5 & 30.0 & 0 & 0 \\\\\n",
       "\t7 & 38993 & 11039 & Karakai Jouzu no Takagi-san 2 & ['Comedy', 'Iyashikei', 'Romantic Subtext', 'School', 'Shounen'] & tv & 37.0 & 7.34045 & 0.000956109 & 0.829321 & 0.0144625 & 6.69618 & 0.000452976 & 37.0 & 0 & 0 \\\\\n",
       "\t8 & 49721 & 14980 & Karakai Jouzu no Takagi-san 3 & ['Comedy', 'Iyashikei', 'Romantic Subtext', 'School', 'Shounen'] & tv & 43.0 & 7.41957 & 0.000683623 & 0.941736 & 0.015482 & 7.07822 & 0.000216592 & 43.0 & 0 & 0 \\\\\n",
       "\t9 & 25835 & 1337 & Shirobako & ['Adult Cast', 'Comedy', 'Drama', 'Otaku Culture', 'Workplace'] & tv & 46.0 & 7.13735 & 0.00340941 & 0.610344 & 0.0192106 & 7.01304 & 0.000340545 & 46.0 & 0 & 0 \\\\\n",
       "\t10 & 1453 & 18267 & Maison Ikkoku & ['Adult Cast', 'Comedy', 'Drama', 'Romance', 'Seinen', 'Slice of Life'] & tv & 48.0 & 7.20007 & 0.00186543 & 0.671643 & 0.0169027 & 6.9618 & 4.40217e-5 & 48.0 & 0 & 0 \\\\\n",
       "\t11 & 1530 & 4298 & Kanon (2006) & ['Drama', 'Romance', 'Slice of Life', 'Supernatural'] & tv & 49.0 & 7.11329 & 0.00452729 & 0.68115 & 0.0211797 & 6.50778 & 0.00035529 & 49.0 & 0 & 0 \\\\\n",
       "\t12 & 593 & 19591 & Mugen no Ryvius & ['Drama', 'Mecha', 'Military', 'Psychological', 'Sci-Fi', 'Space'] & tv & 56.0 & 7.09265 & 0.0049314 & 0.781618 & 0.0178564 & 6.40961 & 2.37525e-5 & 56.0 & 0 & 0 \\\\\n",
       "\t13 & 42745 & 5383 & Machikado Mazoku: 2-choume & ['Comedy', 'Mahou Shoujo', 'Slice of Life'] & tv & 57.0 & 7.26618 & 0.000425804 & 1.0887 & 0.01622 & 6.45532 & 2.89915e-5 & 57.0 & 0 & 0 \\\\\n",
       "\t14 & 31988 & 13387 & Hibike! Euphonium 2 & ['Drama', 'Music', 'Performing Arts', 'School'] & tv & 62.0 & 7.1743 & 0.00165176 & 0.821976 & 0.0160333 & 7.1104 & 0.000242961 & 62.0 & 0 & 0 \\\\\n",
       "\t15 & 1486 & 11829 & Kodomo no Omocha (TV) & ['Comedy', 'Drama', 'Love Polygon', 'Romance', 'Shoujo', 'Showbiz'] & tv & 64.0 & 7.1243 & 0.00120309 & 0.756733 & 0.0181922 & 6.50663 & 7.83732e-5 & 64.0 & 0 & 0 \\\\\n",
       "\t16 & 877 & 6348 & Nana & ['Adult Cast', 'Drama', 'Love Polygon', 'Music', 'Romance', 'Shoujo', 'Slice of Life'] & tv & 66.0 & 7.09471 & 0.00175933 & 0.638758 & 0.0169027 & 7.08022 & 0.000837779 & 66.0 & 0 & 0 \\\\\n",
       "\t17 & 1974 & 8589 & Glass no Kamen (2005) & ['Drama', 'Performing Arts', 'Shoujo', 'Showbiz'] & tv & 68.0 & 7.12567 & 0.00016806 & 0.722785 & 0.0181145 & 6.68123 & 2.59385e-5 & 68.0 & 0 & 0 \\\\\n",
       "\t18 & 444 & 19910 & Maria-sama ga Miteru: Haru & ['Drama', 'Girls Love', 'Romance', 'School', 'Shoujo'] & tv & 70.0 & 7.10564 & 0.000583793 & 0.731853 & 0.0164337 & 6.30781 & 2.51365e-5 & 70.0 & 0 & 0 \\\\\n",
       "\t19 & 427 & 10763 & Kaleido Star & ['Comedy', 'Drama', 'Fantasy', 'Performing Arts', 'Shoujo'] & tv & 72.0 & 7.07724 & 0.00119682 & 0.780611 & 0.0168537 & 6.26821 & 9.70482e-5 & 72.0 & 0 & 0 \\\\\n",
       "\t20 & 3750 & 7976 & Maria-sama ga Miteru 4th & ['Girls Love', 'School', 'Shoujo', 'Slice of Life'] & tv & 75.0 & 7.12785 & 0.000152504 & 0.784816 & 0.0141358 & 6.43466 & 1.67809e-5 & 75.0 & 0 & 0 \\\\\n",
       "\t21 & 21877 & 1365 & High Score Girl & ['Comedy', 'Love Polygon', 'Romantic Subtext', 'School', 'Seinen', 'Video Game'] & tv & 78.0 & 7.01111 & 0.00281976 & 0.738821 & 0.0169153 & 6.45281 & 0.000325648 & 78.0 & 0 & 0 \\\\\n",
       "\t22 & 1858 & 10180 & Gakuen Utopia Manabi Straight! & ['CGDCT', 'Comedy', 'School', 'Slice of Life'] & tv & 79.0 & 6.88808 & 0.0072132 & 0.787563 & 0.0191211 & 5.93891 & 2.04954e-5 & 79.0 & 0 & 0 \\\\\n",
       "\t23 & 43691 & 7639 & Kageki Shoujo!! & ['Drama', 'Performing Arts', 'School', 'Seinen'] & tv & 80.0 & 6.90314 & 0.000836326 & 0.817171 & 0.0247032 & 6.55838 & 6.33973e-5 & 80.0 & 0 & 0 \\\\\n",
       "\t24 & 488 & 813 & Ichigo Mashimaro & ['CGDCT', 'Comedy', 'Iyashikei', 'Slice of Life'] & tv & 82.0 & 6.79782 & 0.0060248 & 0.911958 & 0.0209118 & 6.27329 & 8.09729e-5 & 82.0 & 0 & 0 \\\\\n",
       "\t25 & 34798 & 1065 & Yuru Camp△ & ['CGDCT', 'Iyashikei', 'Slice of Life'] & tv & 84.0 & 6.97521 & 0.0021744 & 0.935347 & 0.0172792 & 6.96383 & 0.000556777 & 84.0 & 0 & 0 \\\\\n",
       "\t26 & 42429 & 18521 & Honzuki no Gekokujou: Shisho ni Naru Tame ni wa Shudan wo Erandeiraremasen 3rd Season & ['Fantasy', 'Isekai', 'Reincarnation', 'Slice of Life'] & tv & 87.0 & 7.20961 & 0.000353164 & 1.19511 & 0.0167421 & 6.65197 & 6.90876e-5 & 87.0 & 0 & 0 \\\\\n",
       "\t27 & 21185 & 17918 & Baby Steps & ['School', 'Shounen', 'Sports'] & tv & 95.0 & 7.11907 & 0.000402354 & 0.927938 & 0.0146936 & 6.4404 & 0.000150492 & 95.0 & 0 & 0 \\\\\n",
       "\t28 & 30015 & 17576 & ReLIFE & ['Drama', 'Romance', 'School', 'Slice of Life'] & tv & 105.0 & 6.89178 & 0.00160696 & 0.683274 & 0.0180637 & 6.5677 & 0.00146251 & 105.0 & 0 & 0 \\\\\n",
       "\t29 & 113 & 18877 & Uchuu no Stellvia & ['Action', 'Mecha', 'Romance', 'Sci-Fi', 'Space'] & tv & 107.0 & 6.95409 & 0.00101984 & 0.865673 & 0.0164892 & 5.96551 & 1.73692e-5 & 107.0 & 0 & 0 \\\\\n",
       "\t30 & 48553 & 5763 & Akebi-chan no Sailor-fuku & ['School', 'Slice of Life'] & tv & 111.0 & 6.90448 & 0.00157288 & 0.870064 & 0.0168829 & 6.3188 & 0.000199235 & 111.0 & 0 & 0 \\\\\n",
       "\t31 & 101 & 4316 & Air & ['Drama', 'Romance', 'Slice of Life', 'Supernatural'] & tv & 118.0 & 6.62812 & 0.00413643 & 1.0308 & 0.0178489 & 5.78603 & 0.000426911 & 118.0 & 0 & 0 \\\\\n",
       "\t32 & 386 & 14690 & H2 & ['Comedy', 'Romance', 'Shounen', 'Sports', 'Team Sports'] & tv & 125.0 & 7.32632 & 6.0598e-5 & 1.30313 & 0.0131153 & 5.96946 & 5.54857e-6 & 125.0 & 0 & 0 \\\\\n",
       "\t33 & 48702 & 4211 & Dance Dance Danseur & ['Drama', 'Performing Arts', 'Seinen'] & tv & 126.0 & 7.20173 & 6.32478e-5 & 1.24421 & 0.0150105 & 6.37271 & 5.92784e-5 & 126.0 & 0 & 0 \\\\\n",
       "\t34 & 283 & 12829 & Akage no Anne & ['Drama', 'Historical', 'Iyashikei', 'Slice of Life'] & tv & 128.0 & 7.00233 & 0.000460169 & 0.969528 & 0.0169022 & 6.70402 & 2.22082e-5 & 128.0 & 0 & 0 \\\\\n",
       "\t35 & 1087 & 10438 & Kimagure Orange☆Road & ['Comedy', 'Drama', 'Romance', 'School', 'Shounen', 'Slice of Life', 'Super Power'] & tv & 131.0 & 6.88521 & 0.00160198 & 0.796873 & 0.0158764 & 6.32728 & 3.13423e-5 & 131.0 & 0 & 0 \\\\\n",
       "\t36 & 65 & 6714 & Rozen Maiden: Träumend & ['Action', 'Comedy', 'Drama', 'Seinen'] & tv & 132.0 & 6.91009 & 0.000668777 & 0.85516 & 0.0153328 & 6.22007 & 0.000152102 & 132.0 & 0 & 0 \\\\\n",
       "\t37 & 345 & 7805 & Eikoku Koi Monogatari Emma & ['Drama', 'Historical', 'Romance', 'Seinen', 'Slice of Life'] & tv & 144.0 & 6.87906 & 0.000899739 & 0.729184 & 0.016803 & 6.33745 & 4.03152e-5 & 144.0 & 0 & 0 \\\\\n",
       "\t38 & 709 & 18753 & Mujin Wakusei Survive & ['Action', 'Adventure', 'Fantasy', 'Sci-Fi', 'Slice of Life', 'Survival'] & tv & 147.0 & 6.83787 & 0.000323118 & 0.830316 & 0.0183953 & 6.31784 & 2.29291e-5 & 147.0 & 0 & 0 \\\\\n",
       "\t39 & 35503 & 18585 & Shoujo☆Kageki Revue Starlight & ['Music', 'Performing Arts', 'School'] & tv & 149.0 & 6.79665 & 0.00270995 & 0.662375 & 0.0160921 & 6.51118 & 6.52479e-5 & 149.0 & 0 & 0 \\\\\n",
       "\t40 & 39468 & 17896 & Honzuki no Gekokujou: Shisho ni Naru Tame ni wa Shudan wo Erandeiraremasen & ['Fantasy', 'Isekai', 'Reincarnation', 'Slice of Life'] & tv & 157.0 & 6.75272 & 0.0014973 & 0.872393 & 0.0189974 & 6.63245 & 0.00031154 & 157.0 & 0 & 0 \\\\\n",
       "\t41 & 2942 & 3800 & Sketchbook: Full Color's & ['CGDCT', 'Comedy', 'Iyashikei', 'Slice of Life', 'Visual Arts'] & tv & 160.0 & 6.61916 & 0.00235777 & 0.771696 & 0.0246327 & 6.10699 & 1.93149e-5 & 160.0 & 0 & 0 \\\\\n",
       "\t42 & 64 & 7519 & Rozen Maiden & ['Action', 'Comedy', 'Drama', 'Seinen'] & tv & 163.0 & 6.67079 & 0.00108591 & 0.808741 & 0.0196391 & 5.96598 & 0.000285364 & 163.0 & 0 & 0 \\\\\n",
       "\t43 & 35860 & 13453 & Karakai Jouzu no Takagi-san & ['Comedy', 'Iyashikei', 'Romantic Subtext', 'School', 'Shounen'] & tv & 164.0 & 6.60696 & 0.00183602 & 0.856169 & 0.0209026 & 6.28587 & 0.000811435 & 164.0 & 0 & 0 \\\\\n",
       "\t44 & 158 & 3710 & Maria-sama ga Miteru & ['Drama', 'Girls Love', 'Romance', 'Shoujo', 'Slice of Life'] & tv & 172.0 & 6.7517 & 0.000788061 & 0.988142 & 0.016882 & 5.86883 & 5.29725e-5 & 172.0 & 0 & 0 \\\\\n",
       "\t45 & 34902 & 5679 & Tsurezure Children & ['Comedy', 'Romance', 'School', 'Shounen'] & tv & 173.0 & 6.64749 & 0.00201804 & 0.943735 & 0.0167764 & 6.15869 & 0.000993549 & 173.0 & 0 & 0 \\\\\n",
       "\t46 & 1695 & 16406 & Les Misérables: Shoujo Cosette & ['Drama', 'Historical', 'Shoujo', 'Slice of Life'] & tv & 178.0 & 6.94483 & 0.000125898 & 1.00091 & 0.0153177 & 6.59493 & 2.21303e-5 & 178.0 & 0 & 0 \\\\\n",
       "\t47 & 327 & 18584 & Puchi Pri*Yucie & ['Comedy', 'Fantasy', 'Shoujo'] & tv & 186.0 & 6.81789 & 0.000285317 & 0.964422 & 0.0134982 & 5.84586 & 1.54341e-5 & 186.0 & 0 & 0 \\\\\n",
       "\t48 & 2035 & 17102 & Eikoku Koi Monogatari Emma: Molders-hen & ['Drama', 'Historical', 'Romance', 'Seinen', 'Slice of Life'] & tv & 189.0 & 6.88937 & 0.00014226 & 0.782303 & 0.0121459 & 6.59872 & 2.11462e-5 & 189.0 & 0 & 0 \\\\\n",
       "\t49 & 40174 & 10102 & Zombieland Saga: Revenge & ['Comedy', 'Idols (Female)', 'Music', 'Supernatural'] & tv & 191.0 & 6.76557 & 0.000336421 & 0.797586 & 0.0156041 & 6.70133 & 0.000204387 & 191.0 & 0 & 0 \\\\\n",
       "\t50 & 16067 & 13712 & Nagi no Asu kara & ['Drama', 'Fantasy', 'Romance'] & tv & 202.0 & 6.53151 & 0.00340218 & 0.785726 & 0.0187718 & 6.49939 & 0.000671307 & 202.0 & 0 & 0 \\\\\n",
       "\\end{tabular}\n"
      ],
      "text/plain": [
       "\u001b[1m50×15 DataFrame\u001b[0m\n",
       "\u001b[1m Row \u001b[0m│\u001b[1m anime_id \u001b[0m\u001b[1m uid   \u001b[0m\u001b[1m title                             \u001b[0m\u001b[1m genres                            \u001b[0m\u001b[1m medium  \u001b[0m\u001b[1m ranking \u001b[0m\u001b[1m explicit \u001b[0m\u001b[1m implicit    \u001b[0m\u001b[1m error_explicit \u001b[0m\u001b[1m error_implicit \u001b[0m\u001b[1m baseline_explicit \u001b[0m\u001b[1m baseline_implicit \u001b[0m\u001b[1m score   \u001b[0m\u001b[1m seen  \u001b[0m\u001b[1m related \u001b[0m\n",
       "\u001b[1m     \u001b[0m│\u001b[90m Int64    \u001b[0m\u001b[90m Int64 \u001b[0m\u001b[90m String                            \u001b[0m\u001b[90m String                            \u001b[0m\u001b[90m String7 \u001b[0m\u001b[90m Float32 \u001b[0m\u001b[90m Float32  \u001b[0m\u001b[90m Float32     \u001b[0m\u001b[90m Float32        \u001b[0m\u001b[90m Float32        \u001b[0m\u001b[90m Float32           \u001b[0m\u001b[90m Float32           \u001b[0m\u001b[90m Float32 \u001b[0m\u001b[90m Bool  \u001b[0m\u001b[90m Bool    \u001b[0m\n",
       "─────┼───────────────────────────────────────────────────────────────────────────────────────────────────────────────────────────────────────────────────────────────────────────────────────────────────────────────────────────────\n",
       "   1 │     5941   8550  Cross Game                         ['Drama', 'Romance', 'School', '…  tv           9.0   7.79907  0.00403852         0.876048       0.0188587            7.12028        9.87377e-5       9.0  false    false\n",
       "   2 │    27989   4600  Hibike! Euphonium                  ['Drama', 'Music', 'Performing A…  tv          15.0   7.64189  0.00263704         0.997587       0.0175495            6.75024        0.000460287     15.0  false    false\n",
       "   3 │     1065   2038  Touch                              ['Drama', 'Love Polygon', 'Roman…  tv          17.0   7.58733  0.000856546        0.720291       0.0175318            6.94463        1.9842e-5       17.0  false    false\n",
       "   4 │      122   5773  Full Moon wo Sagashite             ['Comedy', 'Drama', 'Music', 'Ro…  tv          24.0   7.28565  0.00166384         1.11776        0.0224149            6.30717        0.000147446     24.0  false    false\n",
       "   5 │      135  11918  Hikaru no Go                       ['Comedy', 'Shounen', 'Strategy …  tv          27.0   7.48417  0.00112157         1.05287        0.01563              6.67032        0.000153084     27.0  false    false\n",
       "   6 │    42941   9316  Uma Musume: Pretty Derby (TV) Se…  ['Anthropomorphic', 'Sports']      tv          30.0   7.66418  0.000188502        0.932386       0.0135477            6.65427        3.67776e-5      30.0  false    false\n",
       "   7 │    38993  11039  Karakai Jouzu no Takagi-san 2      ['Comedy', 'Iyashikei', 'Romanti…  tv          37.0   7.34045  0.000956109        0.829321       0.0144625            6.69618        0.000452976     37.0  false    false\n",
       "   8 │    49721  14980  Karakai Jouzu no Takagi-san 3      ['Comedy', 'Iyashikei', 'Romanti…  tv          43.0   7.41957  0.000683623        0.941736       0.015482             7.07822        0.000216592     43.0  false    false\n",
       "   9 │    25835   1337  Shirobako                          ['Adult Cast', 'Comedy', 'Drama'…  tv          46.0   7.13735  0.00340941         0.610344       0.0192106            7.01304        0.000340545     46.0  false    false\n",
       "  10 │     1453  18267  Maison Ikkoku                      ['Adult Cast', 'Comedy', 'Drama'…  tv          48.0   7.20007  0.00186543         0.671643       0.0169027            6.9618         4.40217e-5      48.0  false    false\n",
       "  11 │     1530   4298  Kanon (2006)                       ['Drama', 'Romance', 'Slice of L…  tv          49.0   7.11329  0.00452729         0.68115        0.0211797            6.50778        0.00035529      49.0  false    false\n",
       "  12 │      593  19591  Mugen no Ryvius                    ['Drama', 'Mecha', 'Military', '…  tv          56.0   7.09265  0.0049314          0.781618       0.0178564            6.40961        2.37525e-5      56.0  false    false\n",
       "  13 │    42745   5383  Machikado Mazoku: 2-choume         ['Comedy', 'Mahou Shoujo', 'Slic…  tv          57.0   7.26618  0.000425804        1.0887         0.01622              6.45532        2.89915e-5      57.0  false    false\n",
       "  14 │    31988  13387  Hibike! Euphonium 2                ['Drama', 'Music', 'Performing A…  tv          62.0   7.1743   0.00165176         0.821976       0.0160333            7.1104         0.000242961     62.0  false    false\n",
       "  15 │     1486  11829  Kodomo no Omocha (TV)              ['Comedy', 'Drama', 'Love Polygo…  tv          64.0   7.1243   0.00120309         0.756733       0.0181922            6.50663        7.83732e-5      64.0  false    false\n",
       "  16 │      877   6348  Nana                               ['Adult Cast', 'Drama', 'Love Po…  tv          66.0   7.09471  0.00175933         0.638758       0.0169027            7.08022        0.000837779     66.0  false    false\n",
       "  17 │     1974   8589  Glass no Kamen (2005)              ['Drama', 'Performing Arts', 'Sh…  tv          68.0   7.12567  0.00016806         0.722785       0.0181145            6.68123        2.59385e-5      68.0  false    false\n",
       "  18 │      444  19910  Maria-sama ga Miteru: Haru         ['Drama', 'Girls Love', 'Romance…  tv          70.0   7.10564  0.000583793        0.731853       0.0164337            6.30781        2.51365e-5      70.0  false    false\n",
       "  19 │      427  10763  Kaleido Star                       ['Comedy', 'Drama', 'Fantasy', '…  tv          72.0   7.07724  0.00119682         0.780611       0.0168537            6.26821        9.70482e-5      72.0  false    false\n",
       "  20 │     3750   7976  Maria-sama ga Miteru 4th           ['Girls Love', 'School', 'Shoujo…  tv          75.0   7.12785  0.000152504        0.784816       0.0141358            6.43466        1.67809e-5      75.0  false    false\n",
       "  21 │    21877   1365  High Score Girl                    ['Comedy', 'Love Polygon', 'Roma…  tv          78.0   7.01111  0.00281976         0.738821       0.0169153            6.45281        0.000325648     78.0  false    false\n",
       "  22 │     1858  10180  Gakuen Utopia Manabi Straight!     ['CGDCT', 'Comedy', 'School', 'S…  tv          79.0   6.88808  0.0072132          0.787563       0.0191211            5.93891        2.04954e-5      79.0  false    false\n",
       "  23 │    43691   7639  Kageki Shoujo!!                    ['Drama', 'Performing Arts', 'Sc…  tv          80.0   6.90314  0.000836326        0.817171       0.0247032            6.55838        6.33973e-5      80.0  false    false\n",
       "  24 │      488    813  Ichigo Mashimaro                   ['CGDCT', 'Comedy', 'Iyashikei',…  tv          82.0   6.79782  0.0060248          0.911958       0.0209118            6.27329        8.09729e-5      82.0  false    false\n",
       "  25 │    34798   1065  Yuru Camp△                         ['CGDCT', 'Iyashikei', 'Slice of…  tv          84.0   6.97521  0.0021744          0.935347       0.0172792            6.96383        0.000556777     84.0  false    false\n",
       "  26 │    42429  18521  Honzuki no Gekokujou: Shisho ni …  ['Fantasy', 'Isekai', 'Reincarna…  tv          87.0   7.20961  0.000353164        1.19511        0.0167421            6.65197        6.90876e-5      87.0  false    false\n",
       "  27 │    21185  17918  Baby Steps                         ['School', 'Shounen', 'Sports']    tv          95.0   7.11907  0.000402354        0.927938       0.0146936            6.4404         0.000150492     95.0  false    false\n",
       "  28 │    30015  17576  ReLIFE                             ['Drama', 'Romance', 'School', '…  tv         105.0   6.89178  0.00160696         0.683274       0.0180637            6.5677         0.00146251     105.0  false    false\n",
       "  29 │      113  18877  Uchuu no Stellvia                  ['Action', 'Mecha', 'Romance', '…  tv         107.0   6.95409  0.00101984         0.865673       0.0164892            5.96551        1.73692e-5     107.0  false    false\n",
       "  30 │    48553   5763  Akebi-chan no Sailor-fuku          ['School', 'Slice of Life']        tv         111.0   6.90448  0.00157288         0.870064       0.0168829            6.3188         0.000199235    111.0  false    false\n",
       "  31 │      101   4316  Air                                ['Drama', 'Romance', 'Slice of L…  tv         118.0   6.62812  0.00413643         1.0308         0.0178489            5.78603        0.000426911    118.0  false    false\n",
       "  32 │      386  14690  H2                                 ['Comedy', 'Romance', 'Shounen',…  tv         125.0   7.32632  6.0598e-5          1.30313        0.0131153            5.96946        5.54857e-6     125.0  false    false\n",
       "  33 │    48702   4211  Dance Dance Danseur                ['Drama', 'Performing Arts', 'Se…  tv         126.0   7.20173  6.32478e-5         1.24421        0.0150105            6.37271        5.92784e-5     126.0  false    false\n",
       "  34 │      283  12829  Akage no Anne                      ['Drama', 'Historical', 'Iyashik…  tv         128.0   7.00233  0.000460169        0.969528       0.0169022            6.70402        2.22082e-5     128.0  false    false\n",
       "  35 │     1087  10438  Kimagure Orange☆Road               ['Comedy', 'Drama', 'Romance', '…  tv         131.0   6.88521  0.00160198         0.796873       0.0158764            6.32728        3.13423e-5     131.0  false    false\n",
       "  36 │       65   6714  Rozen Maiden: Träumend             ['Action', 'Comedy', 'Drama', 'S…  tv         132.0   6.91009  0.000668777        0.85516        0.0153328            6.22007        0.000152102    132.0  false    false\n",
       "  37 │      345   7805  Eikoku Koi Monogatari Emma         ['Drama', 'Historical', 'Romance…  tv         144.0   6.87906  0.000899739        0.729184       0.016803             6.33745        4.03152e-5     144.0  false    false\n",
       "  38 │      709  18753  Mujin Wakusei Survive              ['Action', 'Adventure', 'Fantasy…  tv         147.0   6.83787  0.000323118        0.830316       0.0183953            6.31784        2.29291e-5     147.0  false    false\n",
       "  39 │    35503  18585  Shoujo☆Kageki Revue Starlight      ['Music', 'Performing Arts', 'Sc…  tv         149.0   6.79665  0.00270995         0.662375       0.0160921            6.51118        6.52479e-5     149.0  false    false\n",
       "  40 │    39468  17896  Honzuki no Gekokujou: Shisho ni …  ['Fantasy', 'Isekai', 'Reincarna…  tv         157.0   6.75272  0.0014973          0.872393       0.0189974            6.63245        0.00031154     157.0  false    false\n",
       "  41 │     2942   3800  Sketchbook: Full Color's           ['CGDCT', 'Comedy', 'Iyashikei',…  tv         160.0   6.61916  0.00235777         0.771696       0.0246327            6.10699        1.93149e-5     160.0  false    false\n",
       "  42 │       64   7519  Rozen Maiden                       ['Action', 'Comedy', 'Drama', 'S…  tv         163.0   6.67079  0.00108591         0.808741       0.0196391            5.96598        0.000285364    163.0  false    false\n",
       "  43 │    35860  13453  Karakai Jouzu no Takagi-san        ['Comedy', 'Iyashikei', 'Romanti…  tv         164.0   6.60696  0.00183602         0.856169       0.0209026            6.28587        0.000811435    164.0  false    false\n",
       "  44 │      158   3710  Maria-sama ga Miteru               ['Drama', 'Girls Love', 'Romance…  tv         172.0   6.7517   0.000788061        0.988142       0.016882             5.86883        5.29725e-5     172.0  false    false\n",
       "  45 │    34902   5679  Tsurezure Children                 ['Comedy', 'Romance', 'School', …  tv         173.0   6.64749  0.00201804         0.943735       0.0167764            6.15869        0.000993549    173.0  false    false\n",
       "  46 │     1695  16406  Les Misérables: Shoujo Cosette     ['Drama', 'Historical', 'Shoujo'…  tv         178.0   6.94483  0.000125898        1.00091        0.0153177            6.59493        2.21303e-5     178.0  false    false\n",
       "  47 │      327  18584  Puchi Pri*Yucie                    ['Comedy', 'Fantasy', 'Shoujo']    tv         186.0   6.81789  0.000285317        0.964422       0.0134982            5.84586        1.54341e-5     186.0  false    false\n",
       "  48 │     2035  17102  Eikoku Koi Monogatari Emma: Mold…  ['Drama', 'Historical', 'Romance…  tv         189.0   6.88937  0.00014226         0.782303       0.0121459            6.59872        2.11462e-5     189.0  false    false\n",
       "  49 │    40174  10102  Zombieland Saga: Revenge           ['Comedy', 'Idols (Female)', 'Mu…  tv         191.0   6.76557  0.000336421        0.797586       0.0156041            6.70133        0.000204387    191.0  false    false\n",
       "  50 │    16067  13712  Nagi no Asu kara                   ['Drama', 'Fantasy', 'Romance']    tv         202.0   6.53151  0.00340218         0.785726       0.0187718            6.49939        0.000671307    202.0  false    false"
      ]
     },
     "execution_count": 2,
     "metadata": {},
     "output_type": "execute_result"
    }
   ],
   "source": [
    "first(\n",
    "    rec_df |>\n",
    "    tv_display |>\n",
    "    implicit_display |>\n",
    "    explicit_display |>\n",
    "    unrelated_display |>\n",
    "    unseen_display,\n",
    "    50,\n",
    ")"
   ]
  },
  {
   "cell_type": "markdown",
   "id": "c277e6e7-b832-42ee-9da5-8d9ba5af97b9",
   "metadata": {},
   "source": [
    "## Curated Specials"
   ]
  },
  {
   "cell_type": "code",
   "execution_count": 3,
   "id": "7afa4ed5-1b02-4f36-8a66-5f2be5665d85",
   "metadata": {
    "tags": []
   },
   "outputs": [
    {
     "data": {
      "text/html": [
       "<div class=\"data-frame\"><p>10 rows × 15 columns</p><table class=\"data-frame\"><thead><tr><th></th><th>anime_id</th><th>uid</th><th>title</th><th>genres</th><th>medium</th><th>ranking</th><th>explicit</th><th>implicit</th><th>error_explicit</th><th>error_implicit</th><th>baseline_explicit</th><th>baseline_implicit</th><th>score</th><th>seen</th><th>related</th></tr><tr><th></th><th title=\"Int64\">Int64</th><th title=\"Int64\">Int64</th><th title=\"String\">String</th><th title=\"String\">String</th><th title=\"InlineStrings.String7\">String7</th><th title=\"Float32\">Float32</th><th title=\"Float32\">Float32</th><th title=\"Float32\">Float32</th><th title=\"Float32\">Float32</th><th title=\"Float32\">Float32</th><th title=\"Float32\">Float32</th><th title=\"Float32\">Float32</th><th title=\"Float32\">Float32</th><th title=\"Bool\">Bool</th><th title=\"Bool\">Bool</th></tr></thead><tbody><tr><th>1</th><td>2454</td><td>15616</td><td>Kimagure Orange☆Road: Ano Hi ni Kaeritai</td><td>[&apos;Comedy&apos;, &apos;Drama&apos;, &apos;Romance&apos;, &apos;Shounen&apos;, &apos;Slice of Life&apos;]</td><td>movie</td><td>21.0</td><td>7.59398</td><td>0.000175207</td><td>1.02539</td><td>0.0190324</td><td>6.59801</td><td>7.40786e-6</td><td>21.0</td><td>0</td><td>0</td></tr><tr><th>2</th><td>38422</td><td>13888</td><td>High Score Girl: Extra Stage</td><td>[&apos;Comedy&apos;, &apos;Love Polygon&apos;, &apos;Romantic Subtext&apos;, &apos;School&apos;, &apos;Seinen&apos;, &apos;Video Game&apos;]</td><td>ova</td><td>28.0</td><td>7.51018</td><td>0.000960544</td><td>1.16391</td><td>0.0157395</td><td>6.74174</td><td>9.15347e-5</td><td>28.0</td><td>0</td><td>0</td></tr><tr><th>3</th><td>40664</td><td>19524</td><td>Shoujo☆Kageki Revue Starlight Movie</td><td>[&apos;Music&apos;, &apos;Performing Arts&apos;, &apos;School&apos;]</td><td>movie</td><td>29.0</td><td>7.76013</td><td>0.000188372</td><td>0.949996</td><td>0.0164447</td><td>7.68836</td><td>7.09105e-6</td><td>29.0</td><td>0</td><td>0</td></tr><tr><th>4</th><td>35677</td><td>18606</td><td>Liz to Aoi Tori</td><td>[&apos;Drama&apos;, &apos;Music&apos;, &apos;Performing Arts&apos;, &apos;School&apos;]</td><td>movie</td><td>51.0</td><td>7.10951</td><td>0.00313026</td><td>0.77692</td><td>0.022326</td><td>7.10863</td><td>0.000104203</td><td>51.0</td><td>0</td><td>0</td></tr><tr><th>5</th><td>35678</td><td>12875</td><td>Hibike! Euphonium Movie 3: Chikai no Finale</td><td>[&apos;Drama&apos;, &apos;Music&apos;, &apos;Performing Arts&apos;, &apos;School&apos;]</td><td>movie</td><td>52.0</td><td>7.22077</td><td>0.000820769</td><td>0.747372</td><td>0.0153225</td><td>6.57013</td><td>4.78398e-5</td><td>52.0</td><td>0</td><td>0</td></tr><tr><th>6</th><td>949</td><td>9788</td><td>Top wo Nerae! Gunbuster</td><td>[&apos;Action&apos;, &apos;Comedy&apos;, &apos;Drama&apos;, &apos;Mecha&apos;, &apos;Military&apos;, &apos;Sci-Fi&apos;, &apos;Shounen&apos;, &apos;Space&apos;]</td><td>ova</td><td>54.0</td><td>7.06907</td><td>0.00448864</td><td>0.698275</td><td>0.0224796</td><td>7.01077</td><td>0.000117517</td><td>54.0</td><td>0</td><td>0</td></tr><tr><th>7</th><td>44042</td><td>9155</td><td>Holo no Graffiti</td><td>[&apos;Comedy&apos;]</td><td>ona</td><td>58.0</td><td>7.42197</td><td>6.37469e-5</td><td>0.945167</td><td>0.0155154</td><td>7.14345</td><td>6.306e-5</td><td>58.0</td><td>0</td><td>0</td></tr><tr><th>8</th><td>15989</td><td>7399</td><td>Saki Achiga-hen: Episode of Side-A Specials</td><td>[&apos;School&apos;, &apos;Slice of Life&apos;, &apos;Strategy Game&apos;]</td><td>special</td><td>59.0</td><td>7.34375</td><td>0.000247256</td><td>0.950948</td><td>0.0127529</td><td>6.26454</td><td>1.09786e-5</td><td>59.0</td><td>0</td><td>0</td></tr><tr><th>9</th><td>34085</td><td>9971</td><td>Sakura Nagashi</td><td>[&apos;Action&apos;, &apos;Drama&apos;, &apos;Mecha&apos;, &apos;Music&apos;, &apos;Sci-Fi&apos;]</td><td>music</td><td>85.0</td><td>7.29159</td><td>6.40274e-5</td><td>1.2635</td><td>0.0150664</td><td>6.23364</td><td>5.13897e-6</td><td>85.0</td><td>0</td><td>0</td></tr><tr><th>10</th><td>18617</td><td>17959</td><td>Girls &amp; Panzer Movie</td><td>[&apos;Military&apos;, &apos;School&apos;, &apos;Sports&apos;]</td><td>movie</td><td>86.0</td><td>6.96517</td><td>0.00172311</td><td>1.0631</td><td>0.0178101</td><td>6.80319</td><td>0.00013333</td><td>86.0</td><td>0</td><td>0</td></tr></tbody></table></div>"
      ],
      "text/latex": [
       "\\begin{tabular}{r|ccccccccccccccc}\n",
       "\t& anime\\_id & uid & title & genres & medium & ranking & explicit & implicit & error\\_explicit & error\\_implicit & baseline\\_explicit & baseline\\_implicit & score & seen & related\\\\\n",
       "\t\\hline\n",
       "\t& Int64 & Int64 & String & String & String7 & Float32 & Float32 & Float32 & Float32 & Float32 & Float32 & Float32 & Float32 & Bool & Bool\\\\\n",
       "\t\\hline\n",
       "\t1 & 2454 & 15616 & Kimagure Orange☆Road: Ano Hi ni Kaeritai & ['Comedy', 'Drama', 'Romance', 'Shounen', 'Slice of Life'] & movie & 21.0 & 7.59398 & 0.000175207 & 1.02539 & 0.0190324 & 6.59801 & 7.40786e-6 & 21.0 & 0 & 0 \\\\\n",
       "\t2 & 38422 & 13888 & High Score Girl: Extra Stage & ['Comedy', 'Love Polygon', 'Romantic Subtext', 'School', 'Seinen', 'Video Game'] & ova & 28.0 & 7.51018 & 0.000960544 & 1.16391 & 0.0157395 & 6.74174 & 9.15347e-5 & 28.0 & 0 & 0 \\\\\n",
       "\t3 & 40664 & 19524 & Shoujo☆Kageki Revue Starlight Movie & ['Music', 'Performing Arts', 'School'] & movie & 29.0 & 7.76013 & 0.000188372 & 0.949996 & 0.0164447 & 7.68836 & 7.09105e-6 & 29.0 & 0 & 0 \\\\\n",
       "\t4 & 35677 & 18606 & Liz to Aoi Tori & ['Drama', 'Music', 'Performing Arts', 'School'] & movie & 51.0 & 7.10951 & 0.00313026 & 0.77692 & 0.022326 & 7.10863 & 0.000104203 & 51.0 & 0 & 0 \\\\\n",
       "\t5 & 35678 & 12875 & Hibike! Euphonium Movie 3: Chikai no Finale & ['Drama', 'Music', 'Performing Arts', 'School'] & movie & 52.0 & 7.22077 & 0.000820769 & 0.747372 & 0.0153225 & 6.57013 & 4.78398e-5 & 52.0 & 0 & 0 \\\\\n",
       "\t6 & 949 & 9788 & Top wo Nerae! Gunbuster & ['Action', 'Comedy', 'Drama', 'Mecha', 'Military', 'Sci-Fi', 'Shounen', 'Space'] & ova & 54.0 & 7.06907 & 0.00448864 & 0.698275 & 0.0224796 & 7.01077 & 0.000117517 & 54.0 & 0 & 0 \\\\\n",
       "\t7 & 44042 & 9155 & Holo no Graffiti & ['Comedy'] & ona & 58.0 & 7.42197 & 6.37469e-5 & 0.945167 & 0.0155154 & 7.14345 & 6.306e-5 & 58.0 & 0 & 0 \\\\\n",
       "\t8 & 15989 & 7399 & Saki Achiga-hen: Episode of Side-A Specials & ['School', 'Slice of Life', 'Strategy Game'] & special & 59.0 & 7.34375 & 0.000247256 & 0.950948 & 0.0127529 & 6.26454 & 1.09786e-5 & 59.0 & 0 & 0 \\\\\n",
       "\t9 & 34085 & 9971 & Sakura Nagashi & ['Action', 'Drama', 'Mecha', 'Music', 'Sci-Fi'] & music & 85.0 & 7.29159 & 6.40274e-5 & 1.2635 & 0.0150664 & 6.23364 & 5.13897e-6 & 85.0 & 0 & 0 \\\\\n",
       "\t10 & 18617 & 17959 & Girls \\& Panzer Movie & ['Military', 'School', 'Sports'] & movie & 86.0 & 6.96517 & 0.00172311 & 1.0631 & 0.0178101 & 6.80319 & 0.00013333 & 86.0 & 0 & 0 \\\\\n",
       "\\end{tabular}\n"
      ],
      "text/plain": [
       "\u001b[1m10×15 DataFrame\u001b[0m\n",
       "\u001b[1m Row \u001b[0m│\u001b[1m anime_id \u001b[0m\u001b[1m uid   \u001b[0m\u001b[1m title                             \u001b[0m\u001b[1m genres                            \u001b[0m\u001b[1m medium  \u001b[0m\u001b[1m ranking \u001b[0m\u001b[1m explicit \u001b[0m\u001b[1m implicit    \u001b[0m\u001b[1m error_explicit \u001b[0m\u001b[1m error_implicit \u001b[0m\u001b[1m baseline_explicit \u001b[0m\u001b[1m baseline_implicit \u001b[0m\u001b[1m score   \u001b[0m\u001b[1m seen  \u001b[0m\u001b[1m related \u001b[0m\n",
       "\u001b[1m     \u001b[0m│\u001b[90m Int64    \u001b[0m\u001b[90m Int64 \u001b[0m\u001b[90m String                            \u001b[0m\u001b[90m String                            \u001b[0m\u001b[90m String7 \u001b[0m\u001b[90m Float32 \u001b[0m\u001b[90m Float32  \u001b[0m\u001b[90m Float32     \u001b[0m\u001b[90m Float32        \u001b[0m\u001b[90m Float32        \u001b[0m\u001b[90m Float32           \u001b[0m\u001b[90m Float32           \u001b[0m\u001b[90m Float32 \u001b[0m\u001b[90m Bool  \u001b[0m\u001b[90m Bool    \u001b[0m\n",
       "─────┼───────────────────────────────────────────────────────────────────────────────────────────────────────────────────────────────────────────────────────────────────────────────────────────────────────────────────────────────\n",
       "   1 │     2454  15616  Kimagure Orange☆Road: Ano Hi ni …  ['Comedy', 'Drama', 'Romance', '…  movie       21.0   7.59398  0.000175207        1.02539        0.0190324            6.59801        7.40786e-6      21.0  false    false\n",
       "   2 │    38422  13888  High Score Girl: Extra Stage       ['Comedy', 'Love Polygon', 'Roma…  ova         28.0   7.51018  0.000960544        1.16391        0.0157395            6.74174        9.15347e-5      28.0  false    false\n",
       "   3 │    40664  19524  Shoujo☆Kageki Revue Starlight Mo…  ['Music', 'Performing Arts', 'Sc…  movie       29.0   7.76013  0.000188372        0.949996       0.0164447            7.68836        7.09105e-6      29.0  false    false\n",
       "   4 │    35677  18606  Liz to Aoi Tori                    ['Drama', 'Music', 'Performing A…  movie       51.0   7.10951  0.00313026         0.77692        0.022326             7.10863        0.000104203     51.0  false    false\n",
       "   5 │    35678  12875  Hibike! Euphonium Movie 3: Chika…  ['Drama', 'Music', 'Performing A…  movie       52.0   7.22077  0.000820769        0.747372       0.0153225            6.57013        4.78398e-5      52.0  false    false\n",
       "   6 │      949   9788  Top wo Nerae! Gunbuster            ['Action', 'Comedy', 'Drama', 'M…  ova         54.0   7.06907  0.00448864         0.698275       0.0224796            7.01077        0.000117517     54.0  false    false\n",
       "   7 │    44042   9155  Holo no Graffiti                   ['Comedy']                         ona         58.0   7.42197  6.37469e-5         0.945167       0.0155154            7.14345        6.306e-5        58.0  false    false\n",
       "   8 │    15989   7399  Saki Achiga-hen: Episode of Side…  ['School', 'Slice of Life', 'Str…  special     59.0   7.34375  0.000247256        0.950948       0.0127529            6.26454        1.09786e-5      59.0  false    false\n",
       "   9 │    34085   9971  Sakura Nagashi                     ['Action', 'Drama', 'Mecha', 'Mu…  music       85.0   7.29159  6.40274e-5         1.2635         0.0150664            6.23364        5.13897e-6      85.0  false    false\n",
       "  10 │    18617  17959  Girls & Panzer Movie               ['Military', 'School', 'Sports']   movie       86.0   6.96517  0.00172311         1.0631         0.0178101            6.80319        0.00013333      86.0  false    false"
      ]
     },
     "execution_count": 3,
     "metadata": {},
     "output_type": "execute_result"
    }
   ],
   "source": [
    "first(\n",
    "    rec_df |>\n",
    "    inv_tv_display |>\n",
    "    implicit_display |>\n",
    "    explicit_display |>\n",
    "    unrelated_display |>\n",
    "    unseen_display,\n",
    "    10,\n",
    ")"
   ]
  },
  {
   "cell_type": "markdown",
   "id": "f7f64fdd-a7d6-4ef6-bc2a-88701b32d2c7",
   "metadata": {},
   "source": [
    "## Continue Watching TV Series"
   ]
  },
  {
   "cell_type": "code",
   "execution_count": 4,
   "id": "2d4e0462-1c58-4178-a545-cdc606506b75",
   "metadata": {},
   "outputs": [
    {
     "data": {
      "text/html": [
       "<div class=\"data-frame\"><p>10 rows × 15 columns</p><table class=\"data-frame\"><thead><tr><th></th><th>anime_id</th><th>uid</th><th>title</th><th>genres</th><th>medium</th><th>ranking</th><th>explicit</th><th>implicit</th><th>error_explicit</th><th>error_implicit</th><th>baseline_explicit</th><th>baseline_implicit</th><th>score</th><th>seen</th><th>related</th></tr><tr><th></th><th title=\"Int64\">Int64</th><th title=\"Int64\">Int64</th><th title=\"String\">String</th><th title=\"String\">String</th><th title=\"InlineStrings.String7\">String7</th><th title=\"Float32\">Float32</th><th title=\"Float32\">Float32</th><th title=\"Float32\">Float32</th><th title=\"Float32\">Float32</th><th title=\"Float32\">Float32</th><th title=\"Float32\">Float32</th><th title=\"Float32\">Float32</th><th title=\"Float32\">Float32</th><th title=\"Bool\">Bool</th><th title=\"Bool\">Bool</th></tr></thead><tbody><tr><th>1</th><td>42587</td><td>13295</td><td>Yuuki Yuuna wa Yuusha de Aru: Dai Mankai no Shou</td><td>[&apos;Drama&apos;, &apos;Fantasy&apos;, &apos;Mahou Shoujo&apos;, &apos;Slice of Life&apos;]</td><td>tv</td><td>7.0</td><td>8.06117</td><td>0.000601653</td><td>0.974526</td><td>0.0201745</td><td>5.94387</td><td>1.02947e-5</td><td>7.0</td><td>0</td><td>1</td></tr><tr><th>2</th><td>43608</td><td>7264</td><td>Kaguya-sama wa Kokurasetai: Ultra Romantic</td><td>[&apos;Comedy&apos;, &apos;Psychological&apos;, &apos;Romantic Subtext&apos;, &apos;School&apos;, &apos;Seinen&apos;, &apos;Suspense&apos;]</td><td>tv</td><td>22.0</td><td>7.7963</td><td>0.000948903</td><td>0.941139</td><td>0.0151677</td><td>7.47467</td><td>0.00101131</td><td>22.0</td><td>0</td><td>1</td></tr><tr><th>3</th><td>37999</td><td>3442</td><td>Kaguya-sama wa Kokurasetai: Tensai-tachi no Renai Zunousen</td><td>[&apos;Comedy&apos;, &apos;Psychological&apos;, &apos;Romantic Subtext&apos;, &apos;School&apos;, &apos;Seinen&apos;]</td><td>tv</td><td>34.0</td><td>7.10852</td><td>0.00429605</td><td>0.672193</td><td>0.0288182</td><td>7.05217</td><td>0.00342105</td><td>34.0</td><td>0</td><td>1</td></tr><tr><th>4</th><td>33</td><td>18323</td><td>Kenpuu Denki Berserk</td><td>[&apos;Action&apos;, &apos;Adventure&apos;, &apos;Drama&apos;, &apos;Fantasy&apos;, &apos;Gore&apos;, &apos;Horror&apos;, &apos;Military&apos;, &apos;Mythology&apos;, &apos;Seinen&apos;, &apos;Supernatural&apos;]</td><td>tv</td><td>38.0</td><td>7.17114</td><td>0.00104412</td><td>0.754057</td><td>0.0251038</td><td>7.30844</td><td>0.000996253</td><td>38.0</td><td>0</td><td>1</td></tr><tr><th>5</th><td>23623</td><td>14046</td><td>Non Non Biyori Repeat</td><td>[&apos;CGDCT&apos;, &apos;Iyashikei&apos;, &apos;School&apos;, &apos;Seinen&apos;, &apos;Slice of Life&apos;]</td><td>tv</td><td>53.0</td><td>7.12724</td><td>0.00236792</td><td>0.568073</td><td>0.0160314</td><td>6.86341</td><td>0.000215291</td><td>53.0</td><td>0</td><td>1</td></tr><tr><th>6</th><td>5114</td><td>17079</td><td>Fullmetal Alchemist: Brotherhood</td><td>[&apos;Action&apos;, &apos;Adventure&apos;, &apos;Drama&apos;, &apos;Fantasy&apos;, &apos;Military&apos;, &apos;Shounen&apos;]</td><td>tv</td><td>55.0</td><td>7.05038</td><td>0.00233275</td><td>0.99369</td><td>0.0170687</td><td>7.66311</td><td>0.00833421</td><td>55.0</td><td>0</td><td>1</td></tr><tr><th>7</th><td>39808</td><td>17939</td><td>Non Non Biyori Nonstop</td><td>[&apos;CGDCT&apos;, &apos;Iyashikei&apos;, &apos;Seinen&apos;, &apos;Slice of Life&apos;]</td><td>tv</td><td>60.0</td><td>7.13531</td><td>0.00161622</td><td>0.632685</td><td>0.0170845</td><td>7.08152</td><td>9.58043e-5</td><td>60.0</td><td>0</td><td>1</td></tr><tr><th>8</th><td>11239</td><td>14609</td><td>Hidamari Sketch x Honeycomb</td><td>[&apos;CGDCT&apos;, &apos;Comedy&apos;, &apos;Iyashikei&apos;, &apos;School&apos;, &apos;Seinen&apos;, &apos;Slice of Life&apos;, &apos;Visual Arts&apos;]</td><td>tv</td><td>69.0</td><td>7.09316</td><td>0.000887204</td><td>0.612616</td><td>0.0159337</td><td>6.90358</td><td>1.45948e-5</td><td>69.0</td><td>0</td><td>1</td></tr><tr><th>9</th><td>19111</td><td>15311</td><td>Love Live! School Idol Project 2nd Season</td><td>[&apos;Idols (Female)&apos;, &apos;Music&apos;, &apos;School&apos;, &apos;Slice of Life&apos;]</td><td>tv</td><td>71.0</td><td>7.03824</td><td>0.00063574</td><td>0.651091</td><td>0.0182952</td><td>6.3506</td><td>0.000406483</td><td>71.0</td><td>0</td><td>1</td></tr><tr><th>10</th><td>21</td><td>9917</td><td>One Piece</td><td>[&apos;Action&apos;, &apos;Adventure&apos;, &apos;Fantasy&apos;, &apos;Shounen&apos;]</td><td>tv</td><td>74.0</td><td>6.99101</td><td>0.000383295</td><td>0.971269</td><td>0.0157272</td><td>7.23675</td><td>0.00652739</td><td>74.0</td><td>0</td><td>1</td></tr></tbody></table></div>"
      ],
      "text/latex": [
       "\\begin{tabular}{r|ccccccccccccccc}\n",
       "\t& anime\\_id & uid & title & genres & medium & ranking & explicit & implicit & error\\_explicit & error\\_implicit & baseline\\_explicit & baseline\\_implicit & score & seen & related\\\\\n",
       "\t\\hline\n",
       "\t& Int64 & Int64 & String & String & String7 & Float32 & Float32 & Float32 & Float32 & Float32 & Float32 & Float32 & Float32 & Bool & Bool\\\\\n",
       "\t\\hline\n",
       "\t1 & 42587 & 13295 & Yuuki Yuuna wa Yuusha de Aru: Dai Mankai no Shou & ['Drama', 'Fantasy', 'Mahou Shoujo', 'Slice of Life'] & tv & 7.0 & 8.06117 & 0.000601653 & 0.974526 & 0.0201745 & 5.94387 & 1.02947e-5 & 7.0 & 0 & 1 \\\\\n",
       "\t2 & 43608 & 7264 & Kaguya-sama wa Kokurasetai: Ultra Romantic & ['Comedy', 'Psychological', 'Romantic Subtext', 'School', 'Seinen', 'Suspense'] & tv & 22.0 & 7.7963 & 0.000948903 & 0.941139 & 0.0151677 & 7.47467 & 0.00101131 & 22.0 & 0 & 1 \\\\\n",
       "\t3 & 37999 & 3442 & Kaguya-sama wa Kokurasetai: Tensai-tachi no Renai Zunousen & ['Comedy', 'Psychological', 'Romantic Subtext', 'School', 'Seinen'] & tv & 34.0 & 7.10852 & 0.00429605 & 0.672193 & 0.0288182 & 7.05217 & 0.00342105 & 34.0 & 0 & 1 \\\\\n",
       "\t4 & 33 & 18323 & Kenpuu Denki Berserk & ['Action', 'Adventure', 'Drama', 'Fantasy', 'Gore', 'Horror', 'Military', 'Mythology', 'Seinen', 'Supernatural'] & tv & 38.0 & 7.17114 & 0.00104412 & 0.754057 & 0.0251038 & 7.30844 & 0.000996253 & 38.0 & 0 & 1 \\\\\n",
       "\t5 & 23623 & 14046 & Non Non Biyori Repeat & ['CGDCT', 'Iyashikei', 'School', 'Seinen', 'Slice of Life'] & tv & 53.0 & 7.12724 & 0.00236792 & 0.568073 & 0.0160314 & 6.86341 & 0.000215291 & 53.0 & 0 & 1 \\\\\n",
       "\t6 & 5114 & 17079 & Fullmetal Alchemist: Brotherhood & ['Action', 'Adventure', 'Drama', 'Fantasy', 'Military', 'Shounen'] & tv & 55.0 & 7.05038 & 0.00233275 & 0.99369 & 0.0170687 & 7.66311 & 0.00833421 & 55.0 & 0 & 1 \\\\\n",
       "\t7 & 39808 & 17939 & Non Non Biyori Nonstop & ['CGDCT', 'Iyashikei', 'Seinen', 'Slice of Life'] & tv & 60.0 & 7.13531 & 0.00161622 & 0.632685 & 0.0170845 & 7.08152 & 9.58043e-5 & 60.0 & 0 & 1 \\\\\n",
       "\t8 & 11239 & 14609 & Hidamari Sketch x Honeycomb & ['CGDCT', 'Comedy', 'Iyashikei', 'School', 'Seinen', 'Slice of Life', 'Visual Arts'] & tv & 69.0 & 7.09316 & 0.000887204 & 0.612616 & 0.0159337 & 6.90358 & 1.45948e-5 & 69.0 & 0 & 1 \\\\\n",
       "\t9 & 19111 & 15311 & Love Live! School Idol Project 2nd Season & ['Idols (Female)', 'Music', 'School', 'Slice of Life'] & tv & 71.0 & 7.03824 & 0.00063574 & 0.651091 & 0.0182952 & 6.3506 & 0.000406483 & 71.0 & 0 & 1 \\\\\n",
       "\t10 & 21 & 9917 & One Piece & ['Action', 'Adventure', 'Fantasy', 'Shounen'] & tv & 74.0 & 6.99101 & 0.000383295 & 0.971269 & 0.0157272 & 7.23675 & 0.00652739 & 74.0 & 0 & 1 \\\\\n",
       "\\end{tabular}\n"
      ],
      "text/plain": [
       "\u001b[1m10×15 DataFrame\u001b[0m\n",
       "\u001b[1m Row \u001b[0m│\u001b[1m anime_id \u001b[0m\u001b[1m uid   \u001b[0m\u001b[1m title                             \u001b[0m\u001b[1m genres                            \u001b[0m\u001b[1m medium  \u001b[0m\u001b[1m ranking \u001b[0m\u001b[1m explicit \u001b[0m\u001b[1m implicit    \u001b[0m\u001b[1m error_explicit \u001b[0m\u001b[1m error_implicit \u001b[0m\u001b[1m baseline_explicit \u001b[0m\u001b[1m baseline_implicit \u001b[0m\u001b[1m score   \u001b[0m\u001b[1m seen  \u001b[0m\u001b[1m related \u001b[0m\n",
       "\u001b[1m     \u001b[0m│\u001b[90m Int64    \u001b[0m\u001b[90m Int64 \u001b[0m\u001b[90m String                            \u001b[0m\u001b[90m String                            \u001b[0m\u001b[90m String7 \u001b[0m\u001b[90m Float32 \u001b[0m\u001b[90m Float32  \u001b[0m\u001b[90m Float32     \u001b[0m\u001b[90m Float32        \u001b[0m\u001b[90m Float32        \u001b[0m\u001b[90m Float32           \u001b[0m\u001b[90m Float32           \u001b[0m\u001b[90m Float32 \u001b[0m\u001b[90m Bool  \u001b[0m\u001b[90m Bool    \u001b[0m\n",
       "─────┼───────────────────────────────────────────────────────────────────────────────────────────────────────────────────────────────────────────────────────────────────────────────────────────────────────────────────────────────\n",
       "   1 │    42587  13295  Yuuki Yuuna wa Yuusha de Aru: Da…  ['Drama', 'Fantasy', 'Mahou Shou…  tv           7.0   8.06117  0.000601653        0.974526       0.0201745            5.94387        1.02947e-5       7.0  false     true\n",
       "   2 │    43608   7264  Kaguya-sama wa Kokurasetai: Ultr…  ['Comedy', 'Psychological', 'Rom…  tv          22.0   7.7963   0.000948903        0.941139       0.0151677            7.47467        0.00101131      22.0  false     true\n",
       "   3 │    37999   3442  Kaguya-sama wa Kokurasetai: Tens…  ['Comedy', 'Psychological', 'Rom…  tv          34.0   7.10852  0.00429605         0.672193       0.0288182            7.05217        0.00342105      34.0  false     true\n",
       "   4 │       33  18323  Kenpuu Denki Berserk               ['Action', 'Adventure', 'Drama',…  tv          38.0   7.17114  0.00104412         0.754057       0.0251038            7.30844        0.000996253     38.0  false     true\n",
       "   5 │    23623  14046  Non Non Biyori Repeat              ['CGDCT', 'Iyashikei', 'School',…  tv          53.0   7.12724  0.00236792         0.568073       0.0160314            6.86341        0.000215291     53.0  false     true\n",
       "   6 │     5114  17079  Fullmetal Alchemist: Brotherhood   ['Action', 'Adventure', 'Drama',…  tv          55.0   7.05038  0.00233275         0.99369        0.0170687            7.66311        0.00833421      55.0  false     true\n",
       "   7 │    39808  17939  Non Non Biyori Nonstop             ['CGDCT', 'Iyashikei', 'Seinen',…  tv          60.0   7.13531  0.00161622         0.632685       0.0170845            7.08152        9.58043e-5      60.0  false     true\n",
       "   8 │    11239  14609  Hidamari Sketch x Honeycomb        ['CGDCT', 'Comedy', 'Iyashikei',…  tv          69.0   7.09316  0.000887204        0.612616       0.0159337            6.90358        1.45948e-5      69.0  false     true\n",
       "   9 │    19111  15311  Love Live! School Idol Project 2…  ['Idols (Female)', 'Music', 'Sch…  tv          71.0   7.03824  0.00063574         0.651091       0.0182952            6.3506         0.000406483     71.0  false     true\n",
       "  10 │       21   9917  One Piece                          ['Action', 'Adventure', 'Fantasy…  tv          74.0   6.99101  0.000383295        0.971269       0.0157272            7.23675        0.00652739      74.0  false     true"
      ]
     },
     "execution_count": 4,
     "metadata": {},
     "output_type": "execute_result"
    }
   ],
   "source": [
    "first(rec_df |> tv_display |> related_display |> unseen_display, 10)"
   ]
  },
  {
   "cell_type": "markdown",
   "id": "d33d9bca-8a0d-4277-9825-d2b2424c547a",
   "metadata": {},
   "source": [
    "## Continue Watching Specials"
   ]
  },
  {
   "cell_type": "code",
   "execution_count": 5,
   "id": "6f435800-0df1-4846-af40-8d98f22c8701",
   "metadata": {},
   "outputs": [
    {
     "data": {
      "text/html": [
       "<div class=\"data-frame\"><p>10 rows × 15 columns</p><table class=\"data-frame\"><thead><tr><th></th><th>anime_id</th><th>uid</th><th>title</th><th>genres</th><th>medium</th><th>ranking</th><th>explicit</th><th>implicit</th><th>error_explicit</th><th>error_implicit</th><th>baseline_explicit</th><th>baseline_implicit</th><th>score</th><th>seen</th><th>related</th></tr><tr><th></th><th title=\"Int64\">Int64</th><th title=\"Int64\">Int64</th><th title=\"String\">String</th><th title=\"String\">String</th><th title=\"InlineStrings.String7\">String7</th><th title=\"Float32\">Float32</th><th title=\"Float32\">Float32</th><th title=\"Float32\">Float32</th><th title=\"Float32\">Float32</th><th title=\"Float32\">Float32</th><th title=\"Float32\">Float32</th><th title=\"Float32\">Float32</th><th title=\"Float32\">Float32</th><th title=\"Bool\">Bool</th><th title=\"Bool\">Bool</th></tr></thead><tbody><tr><th>1</th><td>11979</td><td>14471</td><td>Mahou Shoujo Madoka★Magica Movie 2: Eien no Monogatari</td><td>[&apos;Drama&apos;, &apos;Mahou Shoujo&apos;, &apos;Psychological&apos;, &apos;Suspense&apos;]</td><td>movie</td><td>1.0</td><td>9.04965</td><td>0.00172292</td><td>0.955487</td><td>0.0197045</td><td>7.0972</td><td>0.000228368</td><td>1.0</td><td>0</td><td>1</td></tr><tr><th>2</th><td>34376</td><td>1289</td><td>Yuuki Yuuna wa Yuusha de Aru: Washio Sumi no Shou 3 - Yakusoku</td><td>[&apos;Drama&apos;, &apos;Fantasy&apos;, &apos;Mahou Shoujo&apos;, &apos;Slice of Life&apos;]</td><td>movie</td><td>2.0</td><td>9.03747</td><td>0.000198568</td><td>0.89334</td><td>0.012472</td><td>6.84503</td><td>6.8073e-6</td><td>2.0</td><td>0</td><td>1</td></tr><tr><th>3</th><td>11977</td><td>11665</td><td>Mahou Shoujo Madoka★Magica Movie 1: Hajimari no Monogatari</td><td>[&apos;Drama&apos;, &apos;Mahou Shoujo&apos;, &apos;Psychological&apos;, &apos;Suspense&apos;]</td><td>movie</td><td>3.0</td><td>8.52262</td><td>0.00159649</td><td>0.931889</td><td>0.0220222</td><td>6.93514</td><td>0.000234344</td><td>3.0</td><td>0</td><td>1</td></tr><tr><th>4</th><td>34374</td><td>7098</td><td>Yuuki Yuuna wa Yuusha de Aru: Washio Sumi no Shou 1 - Tomodachi</td><td>[&apos;Drama&apos;, &apos;Fantasy&apos;, &apos;Mahou Shoujo&apos;, &apos;Slice of Life&apos;]</td><td>movie</td><td>4.0</td><td>8.4127</td><td>0.000171636</td><td>1.15296</td><td>0.0151327</td><td>6.33698</td><td>6.85589e-6</td><td>4.0</td><td>0</td><td>1</td></tr><tr><th>5</th><td>34375</td><td>2707</td><td>Yuuki Yuuna wa Yuusha de Aru: Washio Sumi no Shou 2 - Tamashii</td><td>[&apos;Drama&apos;, &apos;Fantasy&apos;, &apos;Mahou Shoujo&apos;, &apos;Slice of Life&apos;]</td><td>movie</td><td>5.0</td><td>8.42054</td><td>0.000253027</td><td>0.997434</td><td>0.015898</td><td>6.64496</td><td>6.78558e-6</td><td>5.0</td><td>0</td><td>1</td></tr><tr><th>6</th><td>31</td><td>17299</td><td>Neon Genesis Evangelion: Death &amp; Rebirth</td><td>[&apos;Drama&apos;, &apos;Mecha&apos;, &apos;Psychological&apos;, &apos;Sci-Fi&apos;]</td><td>movie</td><td>8.0</td><td>7.91132</td><td>0.000733261</td><td>0.945158</td><td>0.0175607</td><td>6.15442</td><td>0.000425672</td><td>8.0</td><td>0</td><td>1</td></tr><tr><th>7</th><td>4059</td><td>728</td><td>Clannad: Mou Hitotsu no Sekai, Tomoyo-hen</td><td>[&apos;Drama&apos;, &apos;Romance&apos;, &apos;School&apos;]</td><td>special</td><td>11.0</td><td>7.65899</td><td>0.00244737</td><td>0.90061</td><td>0.0232225</td><td>6.50166</td><td>0.000512151</td><td>11.0</td><td>0</td><td>1</td></tr><tr><th>8</th><td>371</td><td>7437</td><td>Cardcaptor Sakura Movie 1</td><td>[&apos;Comedy&apos;, &apos;Drama&apos;, &apos;Fantasy&apos;, &apos;Mahou Shoujo&apos;, &apos;Shoujo&apos;]</td><td>movie</td><td>12.0</td><td>7.69652</td><td>0.00237173</td><td>0.806992</td><td>0.0166514</td><td>6.1302</td><td>0.000153506</td><td>12.0</td><td>0</td><td>1</td></tr><tr><th>9</th><td>6862</td><td>2353</td><td>K-On!: Live House!</td><td>[&apos;CGDCT&apos;, &apos;Comedy&apos;, &apos;Music&apos;, &apos;School&apos;]</td><td>special</td><td>13.0</td><td>7.63737</td><td>0.000721989</td><td>0.944511</td><td>0.022394</td><td>6.4686</td><td>0.000246322</td><td>13.0</td><td>0</td><td>1</td></tr><tr><th>10</th><td>9734</td><td>15229</td><td>K-On!!: Keikaku!</td><td>[&apos;CGDCT&apos;, &apos;Comedy&apos;, &apos;Music&apos;, &apos;School&apos;, &apos;Slice of Life&apos;]</td><td>special</td><td>16.0</td><td>7.64302</td><td>0.000726865</td><td>0.906561</td><td>0.0173078</td><td>6.49597</td><td>0.000167074</td><td>16.0</td><td>0</td><td>1</td></tr></tbody></table></div>"
      ],
      "text/latex": [
       "\\begin{tabular}{r|ccccccccccccccc}\n",
       "\t& anime\\_id & uid & title & genres & medium & ranking & explicit & implicit & error\\_explicit & error\\_implicit & baseline\\_explicit & baseline\\_implicit & score & seen & related\\\\\n",
       "\t\\hline\n",
       "\t& Int64 & Int64 & String & String & String7 & Float32 & Float32 & Float32 & Float32 & Float32 & Float32 & Float32 & Float32 & Bool & Bool\\\\\n",
       "\t\\hline\n",
       "\t1 & 11979 & 14471 & Mahou Shoujo Madoka★Magica Movie 2: Eien no Monogatari & ['Drama', 'Mahou Shoujo', 'Psychological', 'Suspense'] & movie & 1.0 & 9.04965 & 0.00172292 & 0.955487 & 0.0197045 & 7.0972 & 0.000228368 & 1.0 & 0 & 1 \\\\\n",
       "\t2 & 34376 & 1289 & Yuuki Yuuna wa Yuusha de Aru: Washio Sumi no Shou 3 - Yakusoku & ['Drama', 'Fantasy', 'Mahou Shoujo', 'Slice of Life'] & movie & 2.0 & 9.03747 & 0.000198568 & 0.89334 & 0.012472 & 6.84503 & 6.8073e-6 & 2.0 & 0 & 1 \\\\\n",
       "\t3 & 11977 & 11665 & Mahou Shoujo Madoka★Magica Movie 1: Hajimari no Monogatari & ['Drama', 'Mahou Shoujo', 'Psychological', 'Suspense'] & movie & 3.0 & 8.52262 & 0.00159649 & 0.931889 & 0.0220222 & 6.93514 & 0.000234344 & 3.0 & 0 & 1 \\\\\n",
       "\t4 & 34374 & 7098 & Yuuki Yuuna wa Yuusha de Aru: Washio Sumi no Shou 1 - Tomodachi & ['Drama', 'Fantasy', 'Mahou Shoujo', 'Slice of Life'] & movie & 4.0 & 8.4127 & 0.000171636 & 1.15296 & 0.0151327 & 6.33698 & 6.85589e-6 & 4.0 & 0 & 1 \\\\\n",
       "\t5 & 34375 & 2707 & Yuuki Yuuna wa Yuusha de Aru: Washio Sumi no Shou 2 - Tamashii & ['Drama', 'Fantasy', 'Mahou Shoujo', 'Slice of Life'] & movie & 5.0 & 8.42054 & 0.000253027 & 0.997434 & 0.015898 & 6.64496 & 6.78558e-6 & 5.0 & 0 & 1 \\\\\n",
       "\t6 & 31 & 17299 & Neon Genesis Evangelion: Death \\& Rebirth & ['Drama', 'Mecha', 'Psychological', 'Sci-Fi'] & movie & 8.0 & 7.91132 & 0.000733261 & 0.945158 & 0.0175607 & 6.15442 & 0.000425672 & 8.0 & 0 & 1 \\\\\n",
       "\t7 & 4059 & 728 & Clannad: Mou Hitotsu no Sekai, Tomoyo-hen & ['Drama', 'Romance', 'School'] & special & 11.0 & 7.65899 & 0.00244737 & 0.90061 & 0.0232225 & 6.50166 & 0.000512151 & 11.0 & 0 & 1 \\\\\n",
       "\t8 & 371 & 7437 & Cardcaptor Sakura Movie 1 & ['Comedy', 'Drama', 'Fantasy', 'Mahou Shoujo', 'Shoujo'] & movie & 12.0 & 7.69652 & 0.00237173 & 0.806992 & 0.0166514 & 6.1302 & 0.000153506 & 12.0 & 0 & 1 \\\\\n",
       "\t9 & 6862 & 2353 & K-On!: Live House! & ['CGDCT', 'Comedy', 'Music', 'School'] & special & 13.0 & 7.63737 & 0.000721989 & 0.944511 & 0.022394 & 6.4686 & 0.000246322 & 13.0 & 0 & 1 \\\\\n",
       "\t10 & 9734 & 15229 & K-On!!: Keikaku! & ['CGDCT', 'Comedy', 'Music', 'School', 'Slice of Life'] & special & 16.0 & 7.64302 & 0.000726865 & 0.906561 & 0.0173078 & 6.49597 & 0.000167074 & 16.0 & 0 & 1 \\\\\n",
       "\\end{tabular}\n"
      ],
      "text/plain": [
       "\u001b[1m10×15 DataFrame\u001b[0m\n",
       "\u001b[1m Row \u001b[0m│\u001b[1m anime_id \u001b[0m\u001b[1m uid   \u001b[0m\u001b[1m title                             \u001b[0m\u001b[1m genres                            \u001b[0m\u001b[1m medium  \u001b[0m\u001b[1m ranking \u001b[0m\u001b[1m explicit \u001b[0m\u001b[1m implicit    \u001b[0m\u001b[1m error_explicit \u001b[0m\u001b[1m error_implicit \u001b[0m\u001b[1m baseline_explicit \u001b[0m\u001b[1m baseline_implicit \u001b[0m\u001b[1m score   \u001b[0m\u001b[1m seen  \u001b[0m\u001b[1m related \u001b[0m\n",
       "\u001b[1m     \u001b[0m│\u001b[90m Int64    \u001b[0m\u001b[90m Int64 \u001b[0m\u001b[90m String                            \u001b[0m\u001b[90m String                            \u001b[0m\u001b[90m String7 \u001b[0m\u001b[90m Float32 \u001b[0m\u001b[90m Float32  \u001b[0m\u001b[90m Float32     \u001b[0m\u001b[90m Float32        \u001b[0m\u001b[90m Float32        \u001b[0m\u001b[90m Float32           \u001b[0m\u001b[90m Float32           \u001b[0m\u001b[90m Float32 \u001b[0m\u001b[90m Bool  \u001b[0m\u001b[90m Bool    \u001b[0m\n",
       "─────┼───────────────────────────────────────────────────────────────────────────────────────────────────────────────────────────────────────────────────────────────────────────────────────────────────────────────────────────────\n",
       "   1 │    11979  14471  Mahou Shoujo Madoka★Magica Movie…  ['Drama', 'Mahou Shoujo', 'Psych…  movie        1.0   9.04965  0.00172292         0.955487       0.0197045            7.0972         0.000228368      1.0  false     true\n",
       "   2 │    34376   1289  Yuuki Yuuna wa Yuusha de Aru: Wa…  ['Drama', 'Fantasy', 'Mahou Shou…  movie        2.0   9.03747  0.000198568        0.89334        0.012472             6.84503        6.8073e-6        2.0  false     true\n",
       "   3 │    11977  11665  Mahou Shoujo Madoka★Magica Movie…  ['Drama', 'Mahou Shoujo', 'Psych…  movie        3.0   8.52262  0.00159649         0.931889       0.0220222            6.93514        0.000234344      3.0  false     true\n",
       "   4 │    34374   7098  Yuuki Yuuna wa Yuusha de Aru: Wa…  ['Drama', 'Fantasy', 'Mahou Shou…  movie        4.0   8.4127   0.000171636        1.15296        0.0151327            6.33698        6.85589e-6       4.0  false     true\n",
       "   5 │    34375   2707  Yuuki Yuuna wa Yuusha de Aru: Wa…  ['Drama', 'Fantasy', 'Mahou Shou…  movie        5.0   8.42054  0.000253027        0.997434       0.015898             6.64496        6.78558e-6       5.0  false     true\n",
       "   6 │       31  17299  Neon Genesis Evangelion: Death &…  ['Drama', 'Mecha', 'Psychologica…  movie        8.0   7.91132  0.000733261        0.945158       0.0175607            6.15442        0.000425672      8.0  false     true\n",
       "   7 │     4059    728  Clannad: Mou Hitotsu no Sekai, T…  ['Drama', 'Romance', 'School']     special     11.0   7.65899  0.00244737         0.90061        0.0232225            6.50166        0.000512151     11.0  false     true\n",
       "   8 │      371   7437  Cardcaptor Sakura Movie 1          ['Comedy', 'Drama', 'Fantasy', '…  movie       12.0   7.69652  0.00237173         0.806992       0.0166514            6.1302         0.000153506     12.0  false     true\n",
       "   9 │     6862   2353  K-On!: Live House!                 ['CGDCT', 'Comedy', 'Music', 'Sc…  special     13.0   7.63737  0.000721989        0.944511       0.022394             6.4686         0.000246322     13.0  false     true\n",
       "  10 │     9734  15229  K-On!!: Keikaku!                   ['CGDCT', 'Comedy', 'Music', 'Sc…  special     16.0   7.64302  0.000726865        0.906561       0.0173078            6.49597        0.000167074     16.0  false     true"
      ]
     },
     "execution_count": 5,
     "metadata": {},
     "output_type": "execute_result"
    }
   ],
   "source": [
    "first(rec_df |> inv_tv_display |> related_display |> unseen_display, 10)"
   ]
  },
  {
   "cell_type": "markdown",
   "id": "db5d27e1-c407-40be-a562-d84d559c1de4",
   "metadata": {},
   "source": [
    "## Popular items"
   ]
  },
  {
   "cell_type": "code",
   "execution_count": 6,
   "id": "b71a85fa-a826-46ef-9653-8109e0dbbc11",
   "metadata": {
    "tags": []
   },
   "outputs": [
    {
     "data": {
      "text/html": [
       "<div class=\"data-frame\"><p>10 rows × 15 columns</p><table class=\"data-frame\"><thead><tr><th></th><th>anime_id</th><th>uid</th><th>title</th><th>genres</th><th>medium</th><th>ranking</th><th>explicit</th><th>implicit</th><th>error_explicit</th><th>error_implicit</th><th>baseline_explicit</th><th>baseline_implicit</th><th>score</th><th>seen</th><th>related</th></tr><tr><th></th><th title=\"Int64\">Int64</th><th title=\"Int64\">Int64</th><th title=\"String\">String</th><th title=\"String\">String</th><th title=\"InlineStrings.String7\">String7</th><th title=\"Float32\">Float32</th><th title=\"Float32\">Float32</th><th title=\"Float32\">Float32</th><th title=\"Float32\">Float32</th><th title=\"Float32\">Float32</th><th title=\"Float32\">Float32</th><th title=\"Float32\">Float32</th><th title=\"Float32\">Float32</th><th title=\"Bool\">Bool</th><th title=\"Bool\">Bool</th></tr></thead><tbody><tr><th>1</th><td>38524</td><td>12753</td><td>Shingeki no Kyojin Season 3 Part 2</td><td>[&apos;Action&apos;, &apos;Drama&apos;, &apos;Gore&apos;, &apos;Military&apos;, &apos;Shounen&apos;, &apos;Survival&apos;]</td><td>tv</td><td>6.0</td><td>8.09787</td><td>0.00101759</td><td>0.684831</td><td>0.0138733</td><td>7.72105</td><td>0.00602488</td><td>6.0</td><td>0</td><td>0</td></tr><tr><th>2</th><td>40028</td><td>5414</td><td>Shingeki no Kyojin: The Final Season</td><td>[&apos;Action&apos;, &apos;Drama&apos;, &apos;Gore&apos;, &apos;Military&apos;, &apos;Shounen&apos;, &apos;Survival&apos;]</td><td>tv</td><td>10.0</td><td>7.81374</td><td>0.000751328</td><td>0.811394</td><td>0.0125314</td><td>7.44496</td><td>0.00547408</td><td>10.0</td><td>0</td><td>0</td></tr><tr><th>3</th><td>25777</td><td>8685</td><td>Shingeki no Kyojin Season 2</td><td>[&apos;Action&apos;, &apos;Drama&apos;, &apos;Gore&apos;, &apos;Military&apos;, &apos;Shounen&apos;, &apos;Survival&apos;]</td><td>tv</td><td>14.0</td><td>7.60877</td><td>0.00119347</td><td>0.911592</td><td>0.0149581</td><td>7.13599</td><td>0.00695737</td><td>14.0</td><td>0</td><td>0</td></tr><tr><th>4</th><td>16498</td><td>7644</td><td>Shingeki no Kyojin</td><td>[&apos;Action&apos;, &apos;Drama&apos;, &apos;Gore&apos;, &apos;Military&apos;, &apos;Shounen&apos;, &apos;Survival&apos;]</td><td>tv</td><td>18.0</td><td>7.22825</td><td>0.00231433</td><td>1.03395</td><td>0.017008</td><td>7.08161</td><td>0.0115216</td><td>18.0</td><td>0</td><td>0</td></tr><tr><th>5</th><td>11061</td><td>7814</td><td>Hunter x Hunter (2011)</td><td>[&apos;Action&apos;, &apos;Adventure&apos;, &apos;Fantasy&apos;, &apos;Shounen&apos;]</td><td>tv</td><td>19.0</td><td>7.52644</td><td>0.000765398</td><td>0.95483</td><td>0.0141401</td><td>7.61258</td><td>0.00679227</td><td>19.0</td><td>0</td><td>0</td></tr><tr><th>6</th><td>35760</td><td>19030</td><td>Shingeki no Kyojin Season 3</td><td>[&apos;Action&apos;, &apos;Drama&apos;, &apos;Gore&apos;, &apos;Military&apos;, &apos;Shounen&apos;, &apos;Survival&apos;]</td><td>tv</td><td>23.0</td><td>7.38798</td><td>0.0011309</td><td>0.819895</td><td>0.0160394</td><td>7.26902</td><td>0.00601985</td><td>23.0</td><td>0</td><td>0</td></tr><tr><th>7</th><td>48583</td><td>18963</td><td>Shingeki no Kyojin: The Final Season Part 2</td><td>[&apos;Action&apos;, &apos;Drama&apos;, &apos;Gore&apos;, &apos;Military&apos;, &apos;Shounen&apos;, &apos;Survival&apos;]</td><td>tv</td><td>31.0</td><td>7.57007</td><td>0.000373345</td><td>0.792355</td><td>0.0116661</td><td>7.49289</td><td>0.00303241</td><td>31.0</td><td>0</td><td>0</td></tr><tr><th>8</th><td>50265</td><td>4347</td><td>Spy x Family</td><td>[&apos;Action&apos;, &apos;Childcare&apos;, &apos;Comedy&apos;, &apos;Shounen&apos;]</td><td>tv</td><td>42.0</td><td>7.28062</td><td>0.000944774</td><td>0.972967</td><td>0.0154375</td><td>7.51584</td><td>0.00329886</td><td>42.0</td><td>0</td><td>0</td></tr><tr><th>9</th><td>479</td><td>12288</td><td>Ueki no Housoku</td><td>[&apos;Action&apos;, &apos;Adventure&apos;, &apos;Comedy&apos;, &apos;Drama&apos;, &apos;Shounen&apos;, &apos;Super Power&apos;, &apos;Supernatural&apos;]</td><td>tv</td><td>83.0</td><td>5.79514</td><td>9.48514e-5</td><td>1.146</td><td>0.0526402</td><td>6.1745</td><td>0.000123483</td><td>83.0</td><td>0</td><td>0</td></tr><tr><th>10</th><td>136</td><td>18634</td><td>Hunter x Hunter</td><td>[&apos;Action&apos;, &apos;Adventure&apos;, &apos;Fantasy&apos;, &apos;Shounen&apos;]</td><td>tv</td><td>88.0</td><td>7.45537</td><td>0.000242073</td><td>1.24643</td><td>0.0136376</td><td>6.92659</td><td>0.000907803</td><td>88.0</td><td>0</td><td>0</td></tr></tbody></table></div>"
      ],
      "text/latex": [
       "\\begin{tabular}{r|ccccccccccccccc}\n",
       "\t& anime\\_id & uid & title & genres & medium & ranking & explicit & implicit & error\\_explicit & error\\_implicit & baseline\\_explicit & baseline\\_implicit & score & seen & related\\\\\n",
       "\t\\hline\n",
       "\t& Int64 & Int64 & String & String & String7 & Float32 & Float32 & Float32 & Float32 & Float32 & Float32 & Float32 & Float32 & Bool & Bool\\\\\n",
       "\t\\hline\n",
       "\t1 & 38524 & 12753 & Shingeki no Kyojin Season 3 Part 2 & ['Action', 'Drama', 'Gore', 'Military', 'Shounen', 'Survival'] & tv & 6.0 & 8.09787 & 0.00101759 & 0.684831 & 0.0138733 & 7.72105 & 0.00602488 & 6.0 & 0 & 0 \\\\\n",
       "\t2 & 40028 & 5414 & Shingeki no Kyojin: The Final Season & ['Action', 'Drama', 'Gore', 'Military', 'Shounen', 'Survival'] & tv & 10.0 & 7.81374 & 0.000751328 & 0.811394 & 0.0125314 & 7.44496 & 0.00547408 & 10.0 & 0 & 0 \\\\\n",
       "\t3 & 25777 & 8685 & Shingeki no Kyojin Season 2 & ['Action', 'Drama', 'Gore', 'Military', 'Shounen', 'Survival'] & tv & 14.0 & 7.60877 & 0.00119347 & 0.911592 & 0.0149581 & 7.13599 & 0.00695737 & 14.0 & 0 & 0 \\\\\n",
       "\t4 & 16498 & 7644 & Shingeki no Kyojin & ['Action', 'Drama', 'Gore', 'Military', 'Shounen', 'Survival'] & tv & 18.0 & 7.22825 & 0.00231433 & 1.03395 & 0.017008 & 7.08161 & 0.0115216 & 18.0 & 0 & 0 \\\\\n",
       "\t5 & 11061 & 7814 & Hunter x Hunter (2011) & ['Action', 'Adventure', 'Fantasy', 'Shounen'] & tv & 19.0 & 7.52644 & 0.000765398 & 0.95483 & 0.0141401 & 7.61258 & 0.00679227 & 19.0 & 0 & 0 \\\\\n",
       "\t6 & 35760 & 19030 & Shingeki no Kyojin Season 3 & ['Action', 'Drama', 'Gore', 'Military', 'Shounen', 'Survival'] & tv & 23.0 & 7.38798 & 0.0011309 & 0.819895 & 0.0160394 & 7.26902 & 0.00601985 & 23.0 & 0 & 0 \\\\\n",
       "\t7 & 48583 & 18963 & Shingeki no Kyojin: The Final Season Part 2 & ['Action', 'Drama', 'Gore', 'Military', 'Shounen', 'Survival'] & tv & 31.0 & 7.57007 & 0.000373345 & 0.792355 & 0.0116661 & 7.49289 & 0.00303241 & 31.0 & 0 & 0 \\\\\n",
       "\t8 & 50265 & 4347 & Spy x Family & ['Action', 'Childcare', 'Comedy', 'Shounen'] & tv & 42.0 & 7.28062 & 0.000944774 & 0.972967 & 0.0154375 & 7.51584 & 0.00329886 & 42.0 & 0 & 0 \\\\\n",
       "\t9 & 479 & 12288 & Ueki no Housoku & ['Action', 'Adventure', 'Comedy', 'Drama', 'Shounen', 'Super Power', 'Supernatural'] & tv & 83.0 & 5.79514 & 9.48514e-5 & 1.146 & 0.0526402 & 6.1745 & 0.000123483 & 83.0 & 0 & 0 \\\\\n",
       "\t10 & 136 & 18634 & Hunter x Hunter & ['Action', 'Adventure', 'Fantasy', 'Shounen'] & tv & 88.0 & 7.45537 & 0.000242073 & 1.24643 & 0.0136376 & 6.92659 & 0.000907803 & 88.0 & 0 & 0 \\\\\n",
       "\\end{tabular}\n"
      ],
      "text/plain": [
       "\u001b[1m10×15 DataFrame\u001b[0m\n",
       "\u001b[1m Row \u001b[0m│\u001b[1m anime_id \u001b[0m\u001b[1m uid   \u001b[0m\u001b[1m title                             \u001b[0m\u001b[1m genres                            \u001b[0m\u001b[1m medium  \u001b[0m\u001b[1m ranking \u001b[0m\u001b[1m explicit \u001b[0m\u001b[1m implicit    \u001b[0m\u001b[1m error_explicit \u001b[0m\u001b[1m error_implicit \u001b[0m\u001b[1m baseline_explicit \u001b[0m\u001b[1m baseline_implicit \u001b[0m\u001b[1m score   \u001b[0m\u001b[1m seen  \u001b[0m\u001b[1m related \u001b[0m\n",
       "\u001b[1m     \u001b[0m│\u001b[90m Int64    \u001b[0m\u001b[90m Int64 \u001b[0m\u001b[90m String                            \u001b[0m\u001b[90m String                            \u001b[0m\u001b[90m String7 \u001b[0m\u001b[90m Float32 \u001b[0m\u001b[90m Float32  \u001b[0m\u001b[90m Float32     \u001b[0m\u001b[90m Float32        \u001b[0m\u001b[90m Float32        \u001b[0m\u001b[90m Float32           \u001b[0m\u001b[90m Float32           \u001b[0m\u001b[90m Float32 \u001b[0m\u001b[90m Bool  \u001b[0m\u001b[90m Bool    \u001b[0m\n",
       "─────┼───────────────────────────────────────────────────────────────────────────────────────────────────────────────────────────────────────────────────────────────────────────────────────────────────────────────────────────────\n",
       "   1 │    38524  12753  Shingeki no Kyojin Season 3 Part…  ['Action', 'Drama', 'Gore', 'Mil…  tv           6.0   8.09787  0.00101759         0.684831       0.0138733            7.72105        0.00602488       6.0  false    false\n",
       "   2 │    40028   5414  Shingeki no Kyojin: The Final Se…  ['Action', 'Drama', 'Gore', 'Mil…  tv          10.0   7.81374  0.000751328        0.811394       0.0125314            7.44496        0.00547408      10.0  false    false\n",
       "   3 │    25777   8685  Shingeki no Kyojin Season 2        ['Action', 'Drama', 'Gore', 'Mil…  tv          14.0   7.60877  0.00119347         0.911592       0.0149581            7.13599        0.00695737      14.0  false    false\n",
       "   4 │    16498   7644  Shingeki no Kyojin                 ['Action', 'Drama', 'Gore', 'Mil…  tv          18.0   7.22825  0.00231433         1.03395        0.017008             7.08161        0.0115216       18.0  false    false\n",
       "   5 │    11061   7814  Hunter x Hunter (2011)             ['Action', 'Adventure', 'Fantasy…  tv          19.0   7.52644  0.000765398        0.95483        0.0141401            7.61258        0.00679227      19.0  false    false\n",
       "   6 │    35760  19030  Shingeki no Kyojin Season 3        ['Action', 'Drama', 'Gore', 'Mil…  tv          23.0   7.38798  0.0011309          0.819895       0.0160394            7.26902        0.00601985      23.0  false    false\n",
       "   7 │    48583  18963  Shingeki no Kyojin: The Final Se…  ['Action', 'Drama', 'Gore', 'Mil…  tv          31.0   7.57007  0.000373345        0.792355       0.0116661            7.49289        0.00303241      31.0  false    false\n",
       "   8 │    50265   4347  Spy x Family                       ['Action', 'Childcare', 'Comedy'…  tv          42.0   7.28062  0.000944774        0.972967       0.0154375            7.51584        0.00329886      42.0  false    false\n",
       "   9 │      479  12288  Ueki no Housoku                    ['Action', 'Adventure', 'Comedy'…  tv          83.0   5.79514  9.48514e-5         1.146          0.0526402            6.1745         0.000123483     83.0  false    false\n",
       "  10 │      136  18634  Hunter x Hunter                    ['Action', 'Adventure', 'Fantasy…  tv          88.0   7.45537  0.000242073        1.24643        0.0136376            6.92659        0.000907803     88.0  false    false"
      ]
     },
     "execution_count": 6,
     "metadata": {},
     "output_type": "execute_result"
    }
   ],
   "source": [
    "first(\n",
    "    rec_df |> tv_display |> inv_implicit_display |> unrelated_display |> unseen_display,\n",
    "    10,\n",
    ")"
   ]
  },
  {
   "cell_type": "markdown",
   "id": "1fafd801-74b1-4788-888a-c4ce64addf87",
   "metadata": {},
   "source": [
    "## Highly Rated Items"
   ]
  },
  {
   "cell_type": "code",
   "execution_count": 7,
   "id": "f3c1bf49-5626-47ec-a786-4ae9786e4e67",
   "metadata": {},
   "outputs": [
    {
     "data": {
      "text/html": [
       "<div class=\"data-frame\"><p>10 rows × 15 columns</p><table class=\"data-frame\"><thead><tr><th></th><th>anime_id</th><th>uid</th><th>title</th><th>genres</th><th>medium</th><th>ranking</th><th>explicit</th><th>implicit</th><th>error_explicit</th><th>error_implicit</th><th>baseline_explicit</th><th>baseline_implicit</th><th>score</th><th>seen</th><th>related</th></tr><tr><th></th><th title=\"Int64\">Int64</th><th title=\"Int64\">Int64</th><th title=\"String\">String</th><th title=\"String\">String</th><th title=\"InlineStrings.String7\">String7</th><th title=\"Float32\">Float32</th><th title=\"Float32\">Float32</th><th title=\"Float32\">Float32</th><th title=\"Float32\">Float32</th><th title=\"Float32\">Float32</th><th title=\"Float32\">Float32</th><th title=\"Float32\">Float32</th><th title=\"Float32\">Float32</th><th title=\"Bool\">Bool</th><th title=\"Bool\">Bool</th></tr></thead><tbody><tr><th>1</th><td>11061</td><td>7814</td><td>Hunter x Hunter (2011)</td><td>[&apos;Action&apos;, &apos;Adventure&apos;, &apos;Fantasy&apos;, &apos;Shounen&apos;]</td><td>tv</td><td>19.0</td><td>7.52644</td><td>0.000765398</td><td>0.95483</td><td>0.0141401</td><td>7.61258</td><td>0.00679227</td><td>19.0</td><td>0</td><td>0</td></tr><tr><th>2</th><td>50265</td><td>4347</td><td>Spy x Family</td><td>[&apos;Action&apos;, &apos;Childcare&apos;, &apos;Comedy&apos;, &apos;Shounen&apos;]</td><td>tv</td><td>42.0</td><td>7.28062</td><td>0.000944774</td><td>0.972967</td><td>0.0154375</td><td>7.51584</td><td>0.00329886</td><td>42.0</td><td>0</td><td>0</td></tr><tr><th>3</th><td>46102</td><td>6211</td><td>Odd Taxi</td><td>[&apos;Anthropomorphic&apos;, &apos;Mystery&apos;]</td><td>tv</td><td>50.0</td><td>7.07394</td><td>0.00254737</td><td>0.671028</td><td>0.0243766</td><td>7.62744</td><td>0.000606683</td><td>50.0</td><td>0</td><td>0</td></tr><tr><th>4</th><td>2164</td><td>4538</td><td>Dennou Coil</td><td>[&apos;Adventure&apos;, &apos;Comedy&apos;, &apos;Drama&apos;, &apos;Mystery&apos;, &apos;Sci-Fi&apos;]</td><td>tv</td><td>81.0</td><td>6.8674</td><td>0.00641436</td><td>0.900115</td><td>0.0178745</td><td>6.92828</td><td>0.000101294</td><td>81.0</td><td>0</td><td>0</td></tr><tr><th>5</th><td>479</td><td>12288</td><td>Ueki no Housoku</td><td>[&apos;Action&apos;, &apos;Adventure&apos;, &apos;Comedy&apos;, &apos;Drama&apos;, &apos;Shounen&apos;, &apos;Super Power&apos;, &apos;Supernatural&apos;]</td><td>tv</td><td>83.0</td><td>5.79514</td><td>9.48514e-5</td><td>1.146</td><td>0.0526402</td><td>6.1745</td><td>0.000123483</td><td>83.0</td><td>0</td><td>0</td></tr><tr><th>6</th><td>38474</td><td>11711</td><td>Yuru Camp△ Season 2</td><td>[&apos;CGDCT&apos;, &apos;Iyashikei&apos;, &apos;Slice of Life&apos;]</td><td>tv</td><td>93.0</td><td>6.95893</td><td>0.00161795</td><td>0.823942</td><td>0.0187276</td><td>7.26937</td><td>0.000217368</td><td>93.0</td><td>0</td><td>0</td></tr><tr><th>7</th><td>40815</td><td>5820</td><td>Honzuki no Gekokujou: Shisho ni Naru Tame ni wa Shudan wo Erandeiraremasen 2nd Season</td><td>[&apos;Fantasy&apos;, &apos;Isekai&apos;, &apos;Reincarnation&apos;, &apos;Slice of Life&apos;]</td><td>tv</td><td>122.0</td><td>6.76008</td><td>0.00104476</td><td>0.967247</td><td>0.021598</td><td>6.772</td><td>0.000222718</td><td>122.0</td><td>0</td><td>0</td></tr><tr><th>8</th><td>37510</td><td>7710</td><td>Mob Psycho 100 II</td><td>[&apos;Action&apos;, &apos;Comedy&apos;, &apos;Super Power&apos;, &apos;Supernatural&apos;]</td><td>tv</td><td>127.0</td><td>6.85942</td><td>0.000981002</td><td>0.861961</td><td>0.0173322</td><td>7.54907</td><td>0.00285437</td><td>127.0</td><td>0</td><td>0</td></tr><tr><th>9</th><td>47778</td><td>18684</td><td>Kimetsu no Yaiba: Yuukaku-hen</td><td>[&apos;Action&apos;, &apos;Fantasy&apos;, &apos;Historical&apos;, &apos;Shounen&apos;]</td><td>tv</td><td>135.0</td><td>6.94916</td><td>0.000488577</td><td>1.0016</td><td>0.0152367</td><td>7.46346</td><td>0.00323079</td><td>135.0</td><td>0</td><td>0</td></tr><tr><th>10</th><td>2402</td><td>13181</td><td>Ashita no Joe</td><td>[&apos;Action&apos;, &apos;Combat Sports&apos;, &apos;Drama&apos;, &apos;Shounen&apos;, &apos;Slice of Life&apos;, &apos;Sports&apos;]</td><td>tv</td><td>143.0</td><td>6.92611</td><td>0.000162987</td><td>0.634543</td><td>0.0126219</td><td>7.50709</td><td>5.79601e-5</td><td>143.0</td><td>0</td><td>0</td></tr></tbody></table></div>"
      ],
      "text/latex": [
       "\\begin{tabular}{r|ccccccccccccccc}\n",
       "\t& anime\\_id & uid & title & genres & medium & ranking & explicit & implicit & error\\_explicit & error\\_implicit & baseline\\_explicit & baseline\\_implicit & score & seen & related\\\\\n",
       "\t\\hline\n",
       "\t& Int64 & Int64 & String & String & String7 & Float32 & Float32 & Float32 & Float32 & Float32 & Float32 & Float32 & Float32 & Bool & Bool\\\\\n",
       "\t\\hline\n",
       "\t1 & 11061 & 7814 & Hunter x Hunter (2011) & ['Action', 'Adventure', 'Fantasy', 'Shounen'] & tv & 19.0 & 7.52644 & 0.000765398 & 0.95483 & 0.0141401 & 7.61258 & 0.00679227 & 19.0 & 0 & 0 \\\\\n",
       "\t2 & 50265 & 4347 & Spy x Family & ['Action', 'Childcare', 'Comedy', 'Shounen'] & tv & 42.0 & 7.28062 & 0.000944774 & 0.972967 & 0.0154375 & 7.51584 & 0.00329886 & 42.0 & 0 & 0 \\\\\n",
       "\t3 & 46102 & 6211 & Odd Taxi & ['Anthropomorphic', 'Mystery'] & tv & 50.0 & 7.07394 & 0.00254737 & 0.671028 & 0.0243766 & 7.62744 & 0.000606683 & 50.0 & 0 & 0 \\\\\n",
       "\t4 & 2164 & 4538 & Dennou Coil & ['Adventure', 'Comedy', 'Drama', 'Mystery', 'Sci-Fi'] & tv & 81.0 & 6.8674 & 0.00641436 & 0.900115 & 0.0178745 & 6.92828 & 0.000101294 & 81.0 & 0 & 0 \\\\\n",
       "\t5 & 479 & 12288 & Ueki no Housoku & ['Action', 'Adventure', 'Comedy', 'Drama', 'Shounen', 'Super Power', 'Supernatural'] & tv & 83.0 & 5.79514 & 9.48514e-5 & 1.146 & 0.0526402 & 6.1745 & 0.000123483 & 83.0 & 0 & 0 \\\\\n",
       "\t6 & 38474 & 11711 & Yuru Camp△ Season 2 & ['CGDCT', 'Iyashikei', 'Slice of Life'] & tv & 93.0 & 6.95893 & 0.00161795 & 0.823942 & 0.0187276 & 7.26937 & 0.000217368 & 93.0 & 0 & 0 \\\\\n",
       "\t7 & 40815 & 5820 & Honzuki no Gekokujou: Shisho ni Naru Tame ni wa Shudan wo Erandeiraremasen 2nd Season & ['Fantasy', 'Isekai', 'Reincarnation', 'Slice of Life'] & tv & 122.0 & 6.76008 & 0.00104476 & 0.967247 & 0.021598 & 6.772 & 0.000222718 & 122.0 & 0 & 0 \\\\\n",
       "\t8 & 37510 & 7710 & Mob Psycho 100 II & ['Action', 'Comedy', 'Super Power', 'Supernatural'] & tv & 127.0 & 6.85942 & 0.000981002 & 0.861961 & 0.0173322 & 7.54907 & 0.00285437 & 127.0 & 0 & 0 \\\\\n",
       "\t9 & 47778 & 18684 & Kimetsu no Yaiba: Yuukaku-hen & ['Action', 'Fantasy', 'Historical', 'Shounen'] & tv & 135.0 & 6.94916 & 0.000488577 & 1.0016 & 0.0152367 & 7.46346 & 0.00323079 & 135.0 & 0 & 0 \\\\\n",
       "\t10 & 2402 & 13181 & Ashita no Joe & ['Action', 'Combat Sports', 'Drama', 'Shounen', 'Slice of Life', 'Sports'] & tv & 143.0 & 6.92611 & 0.000162987 & 0.634543 & 0.0126219 & 7.50709 & 5.79601e-5 & 143.0 & 0 & 0 \\\\\n",
       "\\end{tabular}\n"
      ],
      "text/plain": [
       "\u001b[1m10×15 DataFrame\u001b[0m\n",
       "\u001b[1m Row \u001b[0m│\u001b[1m anime_id \u001b[0m\u001b[1m uid   \u001b[0m\u001b[1m title                             \u001b[0m\u001b[1m genres                            \u001b[0m\u001b[1m medium  \u001b[0m\u001b[1m ranking \u001b[0m\u001b[1m explicit \u001b[0m\u001b[1m implicit    \u001b[0m\u001b[1m error_explicit \u001b[0m\u001b[1m error_implicit \u001b[0m\u001b[1m baseline_explicit \u001b[0m\u001b[1m baseline_implicit \u001b[0m\u001b[1m score   \u001b[0m\u001b[1m seen  \u001b[0m\u001b[1m related \u001b[0m\n",
       "\u001b[1m     \u001b[0m│\u001b[90m Int64    \u001b[0m\u001b[90m Int64 \u001b[0m\u001b[90m String                            \u001b[0m\u001b[90m String                            \u001b[0m\u001b[90m String7 \u001b[0m\u001b[90m Float32 \u001b[0m\u001b[90m Float32  \u001b[0m\u001b[90m Float32     \u001b[0m\u001b[90m Float32        \u001b[0m\u001b[90m Float32        \u001b[0m\u001b[90m Float32           \u001b[0m\u001b[90m Float32           \u001b[0m\u001b[90m Float32 \u001b[0m\u001b[90m Bool  \u001b[0m\u001b[90m Bool    \u001b[0m\n",
       "─────┼───────────────────────────────────────────────────────────────────────────────────────────────────────────────────────────────────────────────────────────────────────────────────────────────────────────────────────────────\n",
       "   1 │    11061   7814  Hunter x Hunter (2011)             ['Action', 'Adventure', 'Fantasy…  tv          19.0   7.52644  0.000765398        0.95483        0.0141401            7.61258        0.00679227      19.0  false    false\n",
       "   2 │    50265   4347  Spy x Family                       ['Action', 'Childcare', 'Comedy'…  tv          42.0   7.28062  0.000944774        0.972967       0.0154375            7.51584        0.00329886      42.0  false    false\n",
       "   3 │    46102   6211  Odd Taxi                           ['Anthropomorphic', 'Mystery']     tv          50.0   7.07394  0.00254737         0.671028       0.0243766            7.62744        0.000606683     50.0  false    false\n",
       "   4 │     2164   4538  Dennou Coil                        ['Adventure', 'Comedy', 'Drama',…  tv          81.0   6.8674   0.00641436         0.900115       0.0178745            6.92828        0.000101294     81.0  false    false\n",
       "   5 │      479  12288  Ueki no Housoku                    ['Action', 'Adventure', 'Comedy'…  tv          83.0   5.79514  9.48514e-5         1.146          0.0526402            6.1745         0.000123483     83.0  false    false\n",
       "   6 │    38474  11711  Yuru Camp△ Season 2                ['CGDCT', 'Iyashikei', 'Slice of…  tv          93.0   6.95893  0.00161795         0.823942       0.0187276            7.26937        0.000217368     93.0  false    false\n",
       "   7 │    40815   5820  Honzuki no Gekokujou: Shisho ni …  ['Fantasy', 'Isekai', 'Reincarna…  tv         122.0   6.76008  0.00104476         0.967247       0.021598             6.772          0.000222718    122.0  false    false\n",
       "   8 │    37510   7710  Mob Psycho 100 II                  ['Action', 'Comedy', 'Super Powe…  tv         127.0   6.85942  0.000981002        0.861961       0.0173322            7.54907        0.00285437     127.0  false    false\n",
       "   9 │    47778  18684  Kimetsu no Yaiba: Yuukaku-hen      ['Action', 'Fantasy', 'Historica…  tv         135.0   6.94916  0.000488577        1.0016         0.0152367            7.46346        0.00323079     135.0  false    false\n",
       "  10 │     2402  13181  Ashita no Joe                      ['Action', 'Combat Sports', 'Dra…  tv         143.0   6.92611  0.000162987        0.634543       0.0126219            7.50709        5.79601e-5     143.0  false    false"
      ]
     },
     "execution_count": 7,
     "metadata": {},
     "output_type": "execute_result"
    }
   ],
   "source": [
    "first(\n",
    "    rec_df |> tv_display |> inv_explicit_display |> unrelated_display |> unseen_display,\n",
    "    10,\n",
    ")"
   ]
  }
 ],
 "metadata": {
  "kernelspec": {
   "display_name": "Julia 1.8.0-rc1",
   "language": "julia",
   "name": "julia-1.8"
  },
  "language_info": {
   "file_extension": ".jl",
   "mimetype": "application/julia",
   "name": "julia",
   "version": "1.8.0"
  }
 },
 "nbformat": 4,
 "nbformat_minor": 5
}
