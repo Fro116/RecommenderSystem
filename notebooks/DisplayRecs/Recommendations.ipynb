{
 "cells": [
  {
   "cell_type": "code",
   "execution_count": 1,
   "id": "240e43fd-abc8-4d44-a3d6-85293d0dd756",
   "metadata": {},
   "outputs": [],
   "source": [
    "source = \"Recommendations\";"
   ]
  },
  {
   "cell_type": "code",
   "execution_count": 2,
   "id": "ba187524-034d-40f6-9e40-0ab5123e36bb",
   "metadata": {},
   "outputs": [],
   "source": [
    "using NBInclude\n",
    "@nbinclude(\"../ProductionAlphas/Alpha.ipynb\");"
   ]
  },
  {
   "cell_type": "code",
   "execution_count": 3,
   "id": "2dc4c5b5-a759-463c-b163-e47fd461a554",
   "metadata": {},
   "outputs": [],
   "source": [
    "ENV[\"COLUMNS\"] = 999999;\n",
    "ENV[\"LINES\"] = 100;\n",
    "recommend_related_series = false;"
   ]
  },
  {
   "cell_type": "code",
   "execution_count": 4,
   "id": "20127075-7c57-4629-9283-d1f18a8ff2bb",
   "metadata": {},
   "outputs": [],
   "source": [
    "anime = DataFrame(CSV.File(\"../../data/raw_data/anime.csv\", ntasks = 1))\n",
    "anime_to_uid = DataFrame(CSV.File(\"../../data/processed_data/anime_to_uid.csv\"))\n",
    "anime_to_uid = innerjoin(anime_to_uid, anime, on = \"anime_id\");"
   ]
  },
  {
   "cell_type": "code",
   "execution_count": 5,
   "id": "9fa0327c-2d09-4040-8819-32125a957f15",
   "metadata": {
    "tags": []
   },
   "outputs": [],
   "source": [
    "predictions = read_recommendee_alpha(\"CombineSignals\").rating\n",
    "rating_df = DataFrame(\n",
    "    \"uid\" => 0:length(predictions)-1,\n",
    "    \"rating\" => predictions,\n",
    "    \"alpha\" => predictions - read_recommendee_alpha(\"UserItemBiases\").rating,\n",
    "    \"std\" => read_recommendee_alpha(\"PredictedErrors\").rating,\n",
    "    \"p\" => read_recommendee_alpha(\"ANN\").rating,\n",
    ");\n",
    "# penalize items for uncertainty. This can come from 1) model error or 2) insufficient training data\n",
    "rating_df.score = rating_df.rating - 1 * rating_df.std;"
   ]
  },
  {
   "cell_type": "code",
   "execution_count": 6,
   "id": "89a34ece-a029-4b79-98a8-743d7aa89b22",
   "metadata": {},
   "outputs": [
    {
     "name": "stderr",
     "output_type": "stream",
     "text": [
      "\u001b[38;5;4m\u001b[1m[ \u001b[22m\u001b[39m\u001b[38;5;4m\u001b[1mDebug: \u001b[22m\u001b[39m20220123 23:37:09 0.8897539856867506\n",
      "\u001b[38;5;4m\u001b[1m[ \u001b[22m\u001b[39m\u001b[38;5;4m\u001b[1mDebug: \u001b[22m\u001b[39m20220123 23:37:09 0.6647985557678926\n",
      "\u001b[38;5;4m\u001b[1m[ \u001b[22m\u001b[39m\u001b[38;5;4m\u001b[1mDebug: \u001b[22m\u001b[39m20220123 23:37:09 0.5940442402636654\n"
     ]
    }
   ],
   "source": [
    "# evaluate our insample predictions\n",
    "df = get_recommendee_list()\n",
    "@debug rmse(df.rating, predictions[df.item])\n",
    "@debug mae(df.rating, predictions[df.item])\n",
    "@debug r2(df.rating, predictions[df.item])"
   ]
  },
  {
   "cell_type": "code",
   "execution_count": 7,
   "id": "2058ae9e-53cb-431a-ac4c-623b900b0d16",
   "metadata": {},
   "outputs": [],
   "source": [
    "function dont_recommend!(df, mask)\n",
    "    df.rating[mask] .= 0\n",
    "    df.alpha[mask] .= 0\n",
    "    df.score[mask] .= -Inf\n",
    "end;\n",
    "\n",
    "# don't recommend shows that the user has already seen before\n",
    "dont_recommend!(rating_df, get_recommendee_list().item);"
   ]
  },
  {
   "cell_type": "code",
   "execution_count": 8,
   "id": "24345713-0e5e-4d52-89a2-16dd2b5d3f96",
   "metadata": {
    "tags": []
   },
   "outputs": [],
   "source": [
    "function dont_recommend!(df, mask)\n",
    "    df.rating[mask] .= 0\n",
    "    df.alpha[mask] .= -Inf\n",
    "    df.score[mask] .= -Inf\n",
    "    df.p[mask] .= 0\n",
    "end;\n",
    "\n",
    "# don't recommend shows that the user has already seen before\n",
    "dont_recommend!(rating_df, get_recommendee_list().item)\n",
    "dont_recommend!(rating_df, get_implicit_list().item)\n",
    "\n",
    "# don't recommend shows related to shows they have seen before\n",
    "if !recommend_related_series\n",
    "    related_series =\n",
    "        get_alpha(\"ItemCFRelated.strict_relations\", \"recommendee_inference\").rating .!= 0\n",
    "    dont_recommend!(rating_df, related_series)\n",
    "end;"
   ]
  },
  {
   "cell_type": "code",
   "execution_count": 9,
   "id": "2f87ebbf-d246-43cc-8b07-79b4929318ea",
   "metadata": {},
   "outputs": [],
   "source": [
    "rec_df = innerjoin(anime_to_uid, rating_df, on = \"uid\");\n",
    "rec_df = rec_df[\n",
    "    :,\n",
    "    [\n",
    "        \"anime_id\",\n",
    "        \"uid\",\n",
    "        \"title\",\n",
    "        \"genres\",\n",
    "        \"medium\",\n",
    "        \"rating\",\n",
    "        \"alpha\",\n",
    "        \"std\",\n",
    "        \"score\",\n",
    "        \"p\",\n",
    "    ],\n",
    "];"
   ]
  },
  {
   "cell_type": "code",
   "execution_count": 10,
   "id": "43369775-7454-4784-8be2-c9dfbc828690",
   "metadata": {},
   "outputs": [
    {
     "data": {
      "text/plain": [
       "621"
      ]
     },
     "execution_count": 10,
     "metadata": {},
     "output_type": "execute_result"
    }
   ],
   "source": [
    "length(get_recommendee_list().item) + length(get_implicit_list().item)"
   ]
  },
  {
   "cell_type": "code",
   "execution_count": 11,
   "id": "6c754385-ed58-4658-a5aa-931223d26790",
   "metadata": {},
   "outputs": [
    {
     "data": {
      "text/plain": [
       "(1.1855039616648355e-7, 5.043072292210127e-6, 5.259483368718069e-5)"
      ]
     },
     "execution_count": 11,
     "metadata": {},
     "output_type": "execute_result"
    }
   ],
   "source": [
    "median(rec_df.p), quantile(rec_df.p, 0.75), quantile(rec_df.p, 0.9)"
   ]
  },
  {
   "cell_type": "code",
   "execution_count": 12,
   "id": "9e690f25-1bd6-480f-8dd6-a8d6d90d8ef9",
   "metadata": {},
   "outputs": [
    {
     "data": {
      "text/plain": [
       "0.19146084625694046"
      ]
     },
     "execution_count": 12,
     "metadata": {},
     "output_type": "execute_result"
    }
   ],
   "source": [
    "1000 / length(filter(x -> x.medium == \"tv\", rec_df).p)"
   ]
  },
  {
   "cell_type": "code",
   "execution_count": 13,
   "id": "16807fbc-71e8-448a-88ce-6d2d128dbb25",
   "metadata": {},
   "outputs": [
    {
     "data": {
      "text/html": [
       "<div class=\"data-frame\"><p>1 rows × 10 columns</p><table class=\"data-frame\"><thead><tr><th></th><th>anime_id</th><th>uid</th><th>title</th><th>genres</th><th>medium</th><th>rating</th><th>alpha</th><th>std</th><th>score</th><th>p</th></tr><tr><th></th><th title=\"Int64\">Int64</th><th title=\"Int64\">Int64</th><th title=\"String\">String</th><th title=\"String\">String</th><th title=\"String7\">String7</th><th title=\"Float64\">Float64</th><th title=\"Float64\">Float64</th><th title=\"Float64\">Float64</th><th title=\"Float64\">Float64</th><th title=\"Float64\">Float64</th></tr></thead><tbody><tr><th>1</th><td>26</td><td>24</td><td>Texhnolyze</td><td>[&apos;Action&apos;, &apos;Drama&apos;, &apos;Psychological&apos;, &apos;Sci-Fi&apos;]</td><td>tv</td><td>8.1478</td><td>-0.322322</td><td>1.10292</td><td>7.04488</td><td>9.3912e-5</td></tr></tbody></table></div>"
      ],
      "text/latex": [
       "\\begin{tabular}{r|cccccccccc}\n",
       "\t& anime\\_id & uid & title & genres & medium & rating & alpha & std & score & p\\\\\n",
       "\t\\hline\n",
       "\t& Int64 & Int64 & String & String & String7 & Float64 & Float64 & Float64 & Float64 & Float64\\\\\n",
       "\t\\hline\n",
       "\t1 & 26 & 24 & Texhnolyze & ['Action', 'Drama', 'Psychological', 'Sci-Fi'] & tv & 8.1478 & -0.322322 & 1.10292 & 7.04488 & 9.3912e-5 \\\\\n",
       "\\end{tabular}\n"
      ],
      "text/plain": [
       "\u001b[1m1×10 DataFrame\u001b[0m\n",
       "\u001b[1m Row \u001b[0m│\u001b[1m anime_id \u001b[0m\u001b[1m uid   \u001b[0m\u001b[1m title      \u001b[0m\u001b[1m genres                            \u001b[0m\u001b[1m medium  \u001b[0m\u001b[1m rating  \u001b[0m\u001b[1m alpha     \u001b[0m\u001b[1m std     \u001b[0m\u001b[1m score   \u001b[0m\u001b[1m p         \u001b[0m\n",
       "\u001b[1m     \u001b[0m│\u001b[90m Int64    \u001b[0m\u001b[90m Int64 \u001b[0m\u001b[90m String     \u001b[0m\u001b[90m String                            \u001b[0m\u001b[90m String7 \u001b[0m\u001b[90m Float64 \u001b[0m\u001b[90m Float64   \u001b[0m\u001b[90m Float64 \u001b[0m\u001b[90m Float64 \u001b[0m\u001b[90m Float64   \u001b[0m\n",
       "─────┼──────────────────────────────────────────────────────────────────────────────────────────────────────────────────────────\n",
       "   1 │       26     24  Texhnolyze  ['Action', 'Drama', 'Psychologic…  tv        8.1478  -0.322322  1.10292  7.04488  9.3912e-5"
      ]
     },
     "execution_count": 13,
     "metadata": {},
     "output_type": "execute_result"
    }
   ],
   "source": [
    "filter(x -> x.anime_id == 26, rec_df)"
   ]
  },
  {
   "cell_type": "code",
   "execution_count": 14,
   "id": "e3bc9c36-6023-425b-9f9c-ce3c7e29dc5c",
   "metadata": {},
   "outputs": [],
   "source": [
    "# the model predicts ratings conditional on the user watching the series\n",
    "# we want to predict ratings for items the user has not already decided to watch\n",
    "# to mitigate the sampling bias, we first filter to series that the user is likely to be interested in\n",
    "min_alpha = quantile(filter(x -> x.medium == \"tv\", rec_df).alpha, 0.75);\n",
    "min_p = quantile(filter(x -> x.medium == \"tv\", rec_df).p, 0.8);"
   ]
  },
  {
   "cell_type": "code",
   "execution_count": 15,
   "id": "7e6e5acd-cf57-47b0-a14c-84b3aa86b384",
   "metadata": {},
   "outputs": [
    {
     "data": {
      "text/plain": [
       "(0.06329309495422208, 5.5020628497004574e-5)"
      ]
     },
     "execution_count": 15,
     "metadata": {},
     "output_type": "execute_result"
    }
   ],
   "source": [
    "min_alpha, min_p"
   ]
  },
  {
   "cell_type": "code",
   "execution_count": 16,
   "id": "c29f2a91-ee7c-4bf1-962b-639938a3c6d1",
   "metadata": {},
   "outputs": [
    {
     "data": {
      "text/plain": [
       "0.1"
      ]
     },
     "execution_count": 16,
     "metadata": {},
     "output_type": "execute_result"
    }
   ],
   "source": [
    "min_alpha = 0.1"
   ]
  },
  {
   "cell_type": "code",
   "execution_count": 17,
   "id": "2d1d16b1-af0b-4b2e-bc96-c67c88cce11f",
   "metadata": {},
   "outputs": [
    {
     "data": {
      "text/plain": [
       "sampling_filter (generic function with 1 method)"
      ]
     },
     "execution_count": 17,
     "metadata": {},
     "output_type": "execute_result"
    }
   ],
   "source": [
    "function sampling_filter(df)\n",
    "    filter(x -> x.p >= min_p, filter(x -> x.alpha .> min_alpha, df))\n",
    "end"
   ]
  },
  {
   "cell_type": "code",
   "execution_count": 18,
   "id": "87d0ac7b-9f8d-4d5d-ab59-ad8e65a6d948",
   "metadata": {},
   "outputs": [],
   "source": [
    "function pretty_display(df)\n",
    "    df = sort(df, :score, rev = true)\n",
    "    select(df, Not(:score))\n",
    "end;"
   ]
  },
  {
   "cell_type": "code",
   "execution_count": 19,
   "id": "8be1796c-4241-47d0-83c4-f7ed3a9c10b5",
   "metadata": {},
   "outputs": [
    {
     "data": {
      "text/html": [
       "<div class=\"data-frame\"><p>409 rows × 9 columns</p><table class=\"data-frame\"><thead><tr><th></th><th>anime_id</th><th>uid</th><th>title</th><th>genres</th><th>medium</th><th>rating</th><th>alpha</th><th>std</th><th>p</th></tr><tr><th></th><th title=\"Int64\">Int64</th><th title=\"Int64\">Int64</th><th title=\"String\">String</th><th title=\"String\">String</th><th title=\"String7\">String7</th><th title=\"Float64\">Float64</th><th title=\"Float64\">Float64</th><th title=\"Float64\">Float64</th><th title=\"Float64\">Float64</th></tr></thead><tbody><tr><th>1</th><td>19</td><td>17</td><td>Monster</td><td>[&apos;Drama&apos;, &apos;Horror&apos;, &apos;Mystery&apos;, &apos;Police&apos;, &apos;Psychological&apos;, &apos;Seinen&apos;, &apos;Suspense&apos;]</td><td>tv</td><td>9.57911</td><td>0.179291</td><td>0.783126</td><td>0.000450352</td></tr><tr><th>2</th><td>877</td><td>864</td><td>Nana</td><td>[&apos;Comedy&apos;, &apos;Drama&apos;, &apos;Music&apos;, &apos;Romance&apos;, &apos;Shoujo&apos;, &apos;Slice of Life&apos;]</td><td>tv</td><td>9.42157</td><td>0.703496</td><td>0.69414</td><td>0.000161927</td></tr><tr><th>3</th><td>12431</td><td>10569</td><td>Uchuu Kyoudai</td><td>[&apos;Comedy&apos;, &apos;Sci-Fi&apos;, &apos;Seinen&apos;, &apos;Slice of Life&apos;, &apos;Space&apos;]</td><td>tv</td><td>9.37633</td><td>0.404755</td><td>0.691916</td><td>0.000164613</td></tr><tr><th>4</th><td>12531</td><td>10615</td><td>Sakamichi no Apollon</td><td>[&apos;Drama&apos;, &apos;Josei&apos;, &apos;Music&apos;, &apos;Romance&apos;, &apos;School&apos;]</td><td>tv</td><td>9.13093</td><td>0.374252</td><td>0.626664</td><td>0.00022669</td></tr><tr><th>5</th><td>5941</td><td>5678</td><td>Cross Game</td><td>[&apos;Comedy&apos;, &apos;Drama&apos;, &apos;Romance&apos;, &apos;School&apos;, &apos;Shounen&apos;, &apos;Sports&apos;]</td><td>tv</td><td>9.23264</td><td>0.394292</td><td>0.736427</td><td>8.54747e-5</td></tr><tr><th>6</th><td>57</td><td>55</td><td>Beck</td><td>[&apos;Comedy&apos;, &apos;Drama&apos;, &apos;Music&apos;, &apos;Shounen&apos;, &apos;Slice of Life&apos;]</td><td>tv</td><td>9.04127</td><td>0.471829</td><td>0.586103</td><td>0.000148104</td></tr><tr><th>7</th><td>12365</td><td>10541</td><td>Bakuman. 3rd Season</td><td>[&apos;Comedy&apos;, &apos;Drama&apos;, &apos;Romance&apos;, &apos;Shounen&apos;]</td><td>tv</td><td>9.09822</td><td>0.182425</td><td>0.645067</td><td>0.000497861</td></tr><tr><th>8</th><td>239</td><td>235</td><td>Gankutsuou</td><td>[&apos;Drama&apos;, &apos;Mystery&apos;, &apos;Sci-Fi&apos;, &apos;Supernatural&apos;, &apos;Suspense&apos;]</td><td>tv</td><td>9.07008</td><td>0.303079</td><td>0.633981</td><td>9.18222e-5</td></tr><tr><th>9</th><td>329</td><td>327</td><td>Planetes</td><td>[&apos;Drama&apos;, &apos;Romance&apos;, &apos;Sci-Fi&apos;, &apos;Seinen&apos;, &apos;Space&apos;]</td><td>tv</td><td>9.05609</td><td>0.194288</td><td>0.646657</td><td>0.000155614</td></tr><tr><th>10</th><td>37965</td><td>5019</td><td>Kaze ga Tsuyoku Fuiteiru</td><td>[&apos;Drama&apos;, &apos;Sports&apos;]</td><td>tv</td><td>8.94232</td><td>0.114608</td><td>0.590573</td><td>0.000372341</td></tr><tr><th>11</th><td>2164</td><td>2146</td><td>Dennou Coil</td><td>[&apos;Adventure&apos;, &apos;Comedy&apos;, &apos;Drama&apos;, &apos;Mystery&apos;, &apos;Sci-Fi&apos;]</td><td>tv</td><td>8.94181</td><td>0.284984</td><td>0.736643</td><td>5.8564e-5</td></tr><tr><th>12</th><td>34636</td><td>1850</td><td>Ballroom e Youkoso</td><td>[&apos;Comedy&apos;, &apos;Drama&apos;, &apos;Romance&apos;, &apos;School&apos;, &apos;Shounen&apos;, &apos;Sports&apos;]</td><td>tv</td><td>8.85222</td><td>0.431543</td><td>0.647171</td><td>0.000460644</td></tr><tr><th>13</th><td>38889</td><td>5855</td><td>Kono Oto Tomare! 2nd Season</td><td>[&apos;Drama&apos;, &apos;Music&apos;, &apos;Romance&apos;, &apos;School&apos;, &apos;Shounen&apos;]</td><td>tv</td><td>8.76393</td><td>0.102055</td><td>0.582024</td><td>0.00027871</td></tr><tr><th>14</th><td>135</td><td>139</td><td>Hikaru no Go</td><td>[&apos;Comedy&apos;, &apos;Game&apos;, &apos;Shounen&apos;, &apos;Supernatural&apos;]</td><td>tv</td><td>8.86111</td><td>0.532064</td><td>0.681206</td><td>5.97041e-5</td></tr><tr><th>15</th><td>9289</td><td>8572</td><td>Hanasaku Iroha</td><td>[&apos;Comedy&apos;, &apos;Drama&apos;, &apos;Slice of Life&apos;]</td><td>tv</td><td>8.93998</td><td>0.749248</td><td>0.763337</td><td>0.00038665</td></tr><tr><th>16</th><td>37520</td><td>4608</td><td>Dororo</td><td>[&apos;Action&apos;, &apos;Adventure&apos;, &apos;Demons&apos;, &apos;Historical&apos;, &apos;Samurai&apos;, &apos;Shounen&apos;, &apos;Supernatural&apos;]</td><td>tv</td><td>8.77164</td><td>0.355514</td><td>0.63205</td><td>0.000681784</td></tr><tr><th>17</th><td>5682</td><td>5438</td><td>Phantom: Requiem for the Phantom</td><td>[&apos;Action&apos;, &apos;Drama&apos;, &apos;Seinen&apos;, &apos;Suspense&apos;]</td><td>tv</td><td>8.91883</td><td>0.75091</td><td>0.799643</td><td>0.000291809</td></tr><tr><th>18</th><td>36649</td><td>3815</td><td>Banana Fish</td><td>[&apos;Action&apos;, &apos;Adventure&apos;, &apos;Drama&apos;, &apos;Shoujo&apos;]</td><td>tv</td><td>8.79936</td><td>0.242959</td><td>0.698481</td><td>0.000364611</td></tr><tr><th>19</th><td>10800</td><td>9816</td><td>Chihayafuru</td><td>[&apos;Drama&apos;, &apos;Game&apos;, &apos;Josei&apos;, &apos;School&apos;, &apos;Slice of Life&apos;, &apos;Sports&apos;]</td><td>tv</td><td>8.80888</td><td>0.222628</td><td>0.712988</td><td>0.000468124</td></tr><tr><th>20</th><td>10721</td><td>9741</td><td>Mawaru Penguindrum</td><td>[&apos;Avant Garde&apos;, &apos;Comedy&apos;, &apos;Drama&apos;, &apos;Mystery&apos;, &apos;Psychological&apos;]</td><td>tv</td><td>8.81268</td><td>0.340597</td><td>0.735864</td><td>0.000293278</td></tr><tr><th>21</th><td>32729</td><td>16950</td><td>Orange</td><td>[&apos;Drama&apos;, &apos;Romance&apos;, &apos;School&apos;, &apos;Sci-Fi&apos;, &apos;Shoujo&apos;]</td><td>tv</td><td>8.77538</td><td>1.08681</td><td>0.745878</td><td>0.000853492</td></tr><tr><th>22</th><td>8425</td><td>7939</td><td>Gosick</td><td>[&apos;Drama&apos;, &apos;Historical&apos;, &apos;Mystery&apos;, &apos;Romance&apos;]</td><td>tv</td><td>8.92925</td><td>0.737467</td><td>0.917903</td><td>0.00066039</td></tr><tr><th>23</th><td>7674</td><td>7296</td><td>Bakuman.</td><td>[&apos;Comedy&apos;, &apos;Drama&apos;, &apos;Romance&apos;, &apos;Shounen&apos;]</td><td>tv</td><td>8.69878</td><td>0.237556</td><td>0.701377</td><td>0.000619728</td></tr><tr><th>24</th><td>21995</td><td>13830</td><td>Ao Haru Ride</td><td>[&apos;Drama&apos;, &apos;Romance&apos;, &apos;School&apos;, &apos;Shoujo&apos;, &apos;Slice of Life&apos;]</td><td>tv</td><td>8.74272</td><td>1.0388</td><td>0.78384</td><td>0.000925938</td></tr><tr><th>25</th><td>45</td><td>43</td><td>Rurouni Kenshin: Meiji Kenkaku Romantan</td><td>[&apos;Action&apos;, &apos;Adventure&apos;, &apos;Comedy&apos;, &apos;Historical&apos;, &apos;Romance&apos;, &apos;Samurai&apos;, &apos;Shounen&apos;]</td><td>tv</td><td>8.56726</td><td>0.130459</td><td>0.628391</td><td>0.000183799</td></tr><tr><th>26</th><td>18245</td><td>12895</td><td>White Album 2</td><td>[&apos;Drama&apos;, &apos;Music&apos;, &apos;Romance&apos;, &apos;Slice of Life&apos;]</td><td>tv</td><td>8.72652</td><td>0.776108</td><td>0.804837</td><td>0.000562897</td></tr><tr><th>27</th><td>39198</td><td>6153</td><td>Kanata no Astra</td><td>[&apos;Adventure&apos;, &apos;Mystery&apos;, &apos;Sci-Fi&apos;, &apos;Shounen&apos;, &apos;Space&apos;]</td><td>tv</td><td>8.54856</td><td>0.175212</td><td>0.641693</td><td>0.000513124</td></tr><tr><th>28</th><td>32867</td><td>98</td><td>Bungou Stray Dogs 2nd Season</td><td>[&apos;Action&apos;, &apos;Mystery&apos;, &apos;Seinen&apos;, &apos;Super Power&apos;, &apos;Supernatural&apos;]</td><td>tv</td><td>8.62005</td><td>0.239477</td><td>0.727206</td><td>0.000728741</td></tr><tr><th>29</th><td>12445</td><td>10576</td><td>Tasogare Otome x Amnesia</td><td>[&apos;Horror&apos;, &apos;Mystery&apos;, &apos;Romance&apos;, &apos;School&apos;, &apos;Shounen&apos;, &apos;Supernatural&apos;]</td><td>tv</td><td>8.67476</td><td>0.80604</td><td>0.791908</td><td>0.000749552</td></tr><tr><th>30</th><td>25013</td><td>14592</td><td>Akatsuki no Yona</td><td>[&apos;Action&apos;, &apos;Adventure&apos;, &apos;Comedy&apos;, &apos;Fantasy&apos;, &apos;Romance&apos;, &apos;Shoujo&apos;]</td><td>tv</td><td>8.72917</td><td>0.53547</td><td>0.858659</td><td>0.000956594</td></tr><tr><th>31</th><td>237</td><td>233</td><td>Koukyoushihen Eureka Seven</td><td>[&apos;Adventure&apos;, &apos;Drama&apos;, &apos;Mecha&apos;, &apos;Romance&apos;, &apos;Sci-Fi&apos;]</td><td>tv</td><td>8.73776</td><td>0.521423</td><td>0.924275</td><td>0.000304271</td></tr><tr><th>32</th><td>12189</td><td>10491</td><td>Hyouka</td><td>[&apos;Mystery&apos;, &apos;School&apos;, &apos;Slice of Life&apos;]</td><td>tv</td><td>8.66746</td><td>0.402918</td><td>0.860881</td><td>0.00184167</td></tr><tr><th>33</th><td>202</td><td>200</td><td>Wolf&apos;s Rain</td><td>[&apos;Action&apos;, &apos;Adventure&apos;, &apos;Drama&apos;, &apos;Fantasy&apos;, &apos;Mystery&apos;, &apos;Sci-Fi&apos;]</td><td>tv</td><td>8.67405</td><td>0.627754</td><td>0.897821</td><td>6.34542e-5</td></tr><tr><th>34</th><td>7724</td><td>7341</td><td>Shiki</td><td>[&apos;Horror&apos;, &apos;Mystery&apos;, &apos;Psychological&apos;, &apos;Supernatural&apos;, &apos;Suspense&apos;, &apos;Vampire&apos;]</td><td>tv</td><td>8.51686</td><td>0.478159</td><td>0.74479</td><td>0.000560591</td></tr><tr><th>35</th><td>37435</td><td>4530</td><td>Carole &amp; Tuesday</td><td>[&apos;Drama&apos;, &apos;Music&apos;, &apos;Sci-Fi&apos;]</td><td>tv</td><td>8.54126</td><td>0.314739</td><td>0.773412</td><td>0.000336496</td></tr><tr><th>36</th><td>14713</td><td>11419</td><td>Kamisama Hajimemashita</td><td>[&apos;Comedy&apos;, &apos;Demons&apos;, &apos;Fantasy&apos;, &apos;Romance&apos;, &apos;Shoujo&apos;, &apos;Supernatural&apos;]</td><td>tv</td><td>8.47917</td><td>0.460792</td><td>0.720294</td><td>0.000275387</td></tr><tr><th>37</th><td>21185</td><td>13623</td><td>Baby Steps</td><td>[&apos;Romance&apos;, &apos;School&apos;, &apos;Shounen&apos;, &apos;Sports&apos;]</td><td>tv</td><td>8.4599</td><td>0.397775</td><td>0.705732</td><td>0.000292931</td></tr><tr><th>38</th><td>32998</td><td>226</td><td>91 Days</td><td>[&apos;Action&apos;, &apos;Drama&apos;, &apos;Historical&apos;]</td><td>tv</td><td>8.55031</td><td>0.449074</td><td>0.814586</td><td>0.000609515</td></tr><tr><th>39</th><td>6045</td><td>5779</td><td>Kimi ni Todoke</td><td>[&apos;Drama&apos;, &apos;Romance&apos;, &apos;School&apos;, &apos;Shoujo&apos;, &apos;Slice of Life&apos;]</td><td>tv</td><td>8.46091</td><td>0.329956</td><td>0.741085</td><td>0.000530382</td></tr><tr><th>40</th><td>30123</td><td>15790</td><td>Akagami no Shirayuki-hime</td><td>[&apos;Drama&apos;, &apos;Fantasy&apos;, &apos;Romance&apos;, &apos;Shoujo&apos;]</td><td>tv</td><td>8.34219</td><td>0.503572</td><td>0.624884</td><td>0.000643772</td></tr><tr><th>41</th><td>28297</td><td>15181</td><td>Ore Monogatari!!</td><td>[&apos;Comedy&apos;, &apos;Romance&apos;, &apos;Shoujo&apos;]</td><td>tv</td><td>8.45586</td><td>0.321057</td><td>0.746964</td><td>0.000749228</td></tr><tr><th>42</th><td>21327</td><td>13647</td><td>Isshuukan Friends.</td><td>[&apos;Comedy&apos;, &apos;School&apos;, &apos;Shounen&apos;, &apos;Slice of Life&apos;]</td><td>tv</td><td>8.51593</td><td>0.802917</td><td>0.81705</td><td>0.000608377</td></tr><tr><th>43</th><td>38080</td><td>5132</td><td>Kono Oto Tomare!</td><td>[&apos;Drama&apos;, &apos;Music&apos;, &apos;Romance&apos;, &apos;School&apos;, &apos;Shounen&apos;]</td><td>tv</td><td>8.2918</td><td>0.273489</td><td>0.620822</td><td>0.000246938</td></tr><tr><th>44</th><td>35062</td><td>2276</td><td>Mahoutsukai no Yome</td><td>[&apos;Fantasy&apos;, &apos;Shounen&apos;, &apos;Slice of Life&apos;]</td><td>tv</td><td>8.42915</td><td>0.199491</td><td>0.75934</td><td>0.0012028</td></tr><tr><th>45</th><td>9941</td><td>9107</td><td>Tiger &amp; Bunny</td><td>[&apos;Action&apos;, &apos;Comedy&apos;, &apos;Mystery&apos;, &apos;Super Power&apos;]</td><td>tv</td><td>8.50078</td><td>0.248748</td><td>0.831728</td><td>0.000105788</td></tr><tr><th>46</th><td>22101</td><td>13856</td><td>Soredemo Sekai wa Utsukushii</td><td>[&apos;Adventure&apos;, &apos;Fantasy&apos;, &apos;Romance&apos;, &apos;Shoujo&apos;]</td><td>tv</td><td>8.43888</td><td>0.746937</td><td>0.79013</td><td>0.000364248</td></tr><tr><th>47</th><td>37497</td><td>4587</td><td>Irozuku Sekai no Ashita kara</td><td>[&apos;Drama&apos;, &apos;Romance&apos;, &apos;School&apos;]</td><td>tv</td><td>8.36067</td><td>0.748703</td><td>0.722033</td><td>0.000728026</td></tr><tr><th>48</th><td>11739</td><td>10343</td><td>Kimi to Boku. 2</td><td>[&apos;Comedy&apos;, &apos;Drama&apos;, &apos;Romance&apos;, &apos;School&apos;, &apos;Shounen&apos;, &apos;Slice of Life&apos;]</td><td>tv</td><td>8.35973</td><td>0.176703</td><td>0.730702</td><td>7.81276e-5</td></tr><tr><th>49</th><td>25681</td><td>14728</td><td>Kamisama Hajimemashita◎</td><td>[&apos;Comedy&apos;, &apos;Demons&apos;, &apos;Fantasy&apos;, &apos;Romance&apos;, &apos;Shoujo&apos;, &apos;Supernatural&apos;]</td><td>tv</td><td>8.43844</td><td>0.237563</td><td>0.812341</td><td>0.000176908</td></tr><tr><th>50</th><td>2025</td><td>2007</td><td>Darker than Black: Kuro no Keiyakusha</td><td>[&apos;Action&apos;, &apos;Mystery&apos;, &apos;Sci-Fi&apos;, &apos;Super Power&apos;]</td><td>tv</td><td>8.48749</td><td>0.16733</td><td>0.865289</td><td>0.000704555</td></tr><tr><th>51</th><td>790</td><td>780</td><td>Ergo Proxy</td><td>[&apos;Mystery&apos;, &apos;Psychological&apos;, &apos;Sci-Fi&apos;]</td><td>tv</td><td>8.73398</td><td>0.442661</td><td>1.11371</td><td>0.000298853</td></tr><tr><th>52</th><td>34547</td><td>1763</td><td>Shoukoku no Altair</td><td>[&apos;Adventure&apos;, &apos;Drama&apos;, &apos;Fantasy&apos;, &apos;Historical&apos;, &apos;Military&apos;, &apos;Shounen&apos;]</td><td>tv</td><td>8.4311</td><td>0.950773</td><td>0.811708</td><td>0.000153058</td></tr><tr><th>53</th><td>1571</td><td>1555</td><td>Ghost Hunt</td><td>[&apos;Horror&apos;, &apos;Mystery&apos;, &apos;Shoujo&apos;, &apos;Supernatural&apos;]</td><td>tv</td><td>8.54396</td><td>0.655196</td><td>0.927169</td><td>0.000110056</td></tr><tr><th>54</th><td>31173</td><td>16292</td><td>Akagami no Shirayuki-hime 2nd Season</td><td>[&apos;Drama&apos;, &apos;Fantasy&apos;, &apos;Romance&apos;, &apos;Shoujo&apos;]</td><td>tv</td><td>8.25379</td><td>0.169368</td><td>0.639488</td><td>0.000325448</td></tr><tr><th>55</th><td>5530</td><td>5303</td><td>Pandora Hearts</td><td>[&apos;Adventure&apos;, &apos;Fantasy&apos;, &apos;Mystery&apos;, &apos;Shounen&apos;, &apos;Supernatural&apos;]</td><td>tv</td><td>8.53468</td><td>0.759556</td><td>0.931218</td><td>0.00018496</td></tr><tr><th>56</th><td>38145</td><td>5197</td><td>Doukyonin wa Hiza, Tokidoki, Atama no Ue.</td><td>[&apos;Comedy&apos;, &apos;Slice of Life&apos;]</td><td>tv</td><td>8.13285</td><td>0.171771</td><td>0.557612</td><td>0.000318821</td></tr><tr><th>57</th><td>9863</td><td>9035</td><td>SKET Dance</td><td>[&apos;Comedy&apos;, &apos;School&apos;, &apos;Shounen&apos;]</td><td>tv</td><td>8.47196</td><td>0.242504</td><td>0.902542</td><td>0.00020449</td></tr><tr><th>58</th><td>4722</td><td>4580</td><td>Skip Beat!</td><td>[&apos;Comedy&apos;, &apos;Drama&apos;, &apos;Romance&apos;, &apos;Shoujo&apos;]</td><td>tv</td><td>8.49501</td><td>0.271586</td><td>0.939339</td><td>8.50043e-5</td></tr><tr><th>59</th><td>33337</td><td>565</td><td>ACCA: 13-ku Kansatsu-ka</td><td>[&apos;Drama&apos;, &apos;Fantasy&apos;, &apos;Mystery&apos;, &apos;Police&apos;, &apos;Seinen&apos;]</td><td>tv</td><td>8.25129</td><td>0.173054</td><td>0.701179</td><td>0.000180582</td></tr><tr><th>60</th><td>1482</td><td>1468</td><td>D.Gray-man</td><td>[&apos;Action&apos;, &apos;Adventure&apos;, &apos;Comedy&apos;, &apos;Demons&apos;, &apos;Shounen&apos;, &apos;Super Power&apos;]</td><td>tv</td><td>8.44871</td><td>0.415802</td><td>0.909338</td><td>0.000282738</td></tr><tr><th>61</th><td>30187</td><td>15834</td><td>Sakurako-san no Ashimoto ni wa Shitai ga Umatteiru</td><td>[&apos;Drama&apos;, &apos;Mystery&apos;, &apos;Suspense&apos;]</td><td>tv</td><td>8.26785</td><td>0.72411</td><td>0.72941</td><td>0.0004923</td></tr><tr><th>62</th><td>22145</td><td>13865</td><td>Kuroshitsuji: Book of Circus</td><td>[&apos;Action&apos;, &apos;Comedy&apos;, &apos;Demons&apos;, &apos;Historical&apos;, &apos;Mystery&apos;, &apos;Shounen&apos;, &apos;Supernatural&apos;]</td><td>tv</td><td>8.46309</td><td>0.173369</td><td>0.926755</td><td>0.000220344</td></tr><tr><th>63</th><td>12883</td><td>10775</td><td>Tsuritama</td><td>[&apos;Comedy&apos;, &apos;Sci-Fi&apos;, &apos;Slice of Life&apos;, &apos;Sports&apos;]</td><td>tv</td><td>8.15696</td><td>0.221946</td><td>0.631303</td><td>7.76943e-5</td></tr><tr><th>64</th><td>10460</td><td>9494</td><td>Kimi to Boku.</td><td>[&apos;Comedy&apos;, &apos;Drama&apos;, &apos;Romance&apos;, &apos;School&apos;, &apos;Shounen&apos;, &apos;Slice of Life&apos;]</td><td>tv</td><td>8.22546</td><td>0.423197</td><td>0.703684</td><td>0.000147782</td></tr><tr><th>65</th><td>32948</td><td>178</td><td>Fune wo Amu</td><td>[&apos;Drama&apos;, &apos;Romance&apos;, &apos;Slice of Life&apos;]</td><td>tv</td><td>8.3774</td><td>0.290224</td><td>0.859026</td><td>0.000145844</td></tr><tr><th>66</th><td>10049</td><td>9205</td><td>Nurarihyon no Mago: Sennen Makyou</td><td>[&apos;Action&apos;, &apos;Demons&apos;, &apos;Shounen&apos;, &apos;Supernatural&apos;]</td><td>tv</td><td>8.37396</td><td>0.287588</td><td>0.861049</td><td>0.000133382</td></tr><tr><th>67</th><td>16009</td><td>12006</td><td>Kamisama no Inai Nichiyoubi</td><td>[&apos;Adventure&apos;, &apos;Fantasy&apos;, &apos;Mystery&apos;]</td><td>tv</td><td>8.24702</td><td>0.804943</td><td>0.745415</td><td>0.000260249</td></tr><tr><th>68</th><td>36220</td><td>3400</td><td>Itsudatte Bokura no Koi wa 10 cm Datta.</td><td>[&apos;Comedy&apos;, &apos;Drama&apos;, &apos;Romance&apos;, &apos;School&apos;]</td><td>tv</td><td>8.11635</td><td>0.5196</td><td>0.617815</td><td>0.000396319</td></tr><tr><th>69</th><td>3588</td><td>3531</td><td>Soul Eater</td><td>[&apos;Action&apos;, &apos;Comedy&apos;, &apos;Fantasy&apos;, &apos;Shounen&apos;, &apos;Supernatural&apos;]</td><td>tv</td><td>8.29537</td><td>0.293711</td><td>0.801947</td><td>0.000850048</td></tr><tr><th>70</th><td>5074</td><td>4898</td><td>Tetsuwan Birdy Decode:02</td><td>[&apos;Action&apos;, &apos;Comedy&apos;, &apos;Sci-Fi&apos;]</td><td>tv</td><td>8.42028</td><td>0.359578</td><td>0.943119</td><td>8.3557e-5</td></tr><tr><th>71</th><td>10568</td><td>9598</td><td>Kamisama no Memochou</td><td>[&apos;Mystery&apos;]</td><td>tv</td><td>8.3195</td><td>0.753146</td><td>0.861431</td><td>0.000262209</td></tr><tr><th>72</th><td>36653</td><td>3819</td><td>Tsurune: Kazemai Koukou Kyuudoubu</td><td>[&apos;Drama&apos;, &apos;School&apos;, &apos;Sports&apos;]</td><td>tv</td><td>8.18075</td><td>0.362494</td><td>0.724941</td><td>0.000110087</td></tr><tr><th>73</th><td>150</td><td>148</td><td>Blood+</td><td>[&apos;Action&apos;, &apos;Drama&apos;, &apos;Horror&apos;, &apos;Military&apos;, &apos;Mystery&apos;, &apos;Supernatural&apos;, &apos;Vampire&apos;]</td><td>tv</td><td>8.36141</td><td>0.698851</td><td>0.91047</td><td>9.38118e-5</td></tr><tr><th>74</th><td>1604</td><td>1588</td><td>Katekyo Hitman Reborn!</td><td>[&apos;Action&apos;, &apos;Comedy&apos;, &apos;Shounen&apos;, &apos;Super Power&apos;]</td><td>tv</td><td>8.31671</td><td>0.283278</td><td>0.872107</td><td>0.000294834</td></tr><tr><th>75</th><td>28249</td><td>15174</td><td>Arslan Senki (TV)</td><td>[&apos;Action&apos;, &apos;Adventure&apos;, &apos;Drama&apos;, &apos;Fantasy&apos;, &apos;Historical&apos;, &apos;Shounen&apos;]</td><td>tv</td><td>8.2261</td><td>0.345827</td><td>0.786325</td><td>0.000351967</td></tr><tr><th>76</th><td>25183</td><td>14639</td><td>Gangsta.</td><td>[&apos;Action&apos;, &apos;Drama&apos;, &apos;Seinen&apos;]</td><td>tv</td><td>8.06189</td><td>0.560485</td><td>0.626972</td><td>0.000730732</td></tr><tr><th>77</th><td>37972</td><td>5028</td><td>Hoshiai no Sora</td><td>[&apos;Drama&apos;, &apos;School&apos;, &apos;Slice of Life&apos;, &apos;Sports&apos;]</td><td>tv</td><td>8.03246</td><td>0.239001</td><td>0.598952</td><td>0.000221071</td></tr><tr><th>78</th><td>38753</td><td>5719</td><td>Araburu Kisetsu no Otome-domo yo.</td><td>[&apos;Comedy&apos;, &apos;Drama&apos;, &apos;Romance&apos;, &apos;School&apos;, &apos;Shounen&apos;]</td><td>tv</td><td>7.93323</td><td>0.213647</td><td>0.499984</td><td>0.000797158</td></tr><tr><th>79</th><td>9656</td><td>8871</td><td>Kimi ni Todoke 2nd Season</td><td>[&apos;Drama&apos;, &apos;Romance&apos;, &apos;School&apos;, &apos;Shoujo&apos;, &apos;Slice of Life&apos;]</td><td>tv</td><td>8.37114</td><td>0.244952</td><td>0.939742</td><td>0.000348745</td></tr><tr><th>80</th><td>4981</td><td>4819</td><td>Casshern Sins</td><td>[&apos;Action&apos;, &apos;Adventure&apos;, &apos;Drama&apos;, &apos;Psychological&apos;, &apos;Sci-Fi&apos;]</td><td>tv</td><td>8.32821</td><td>0.3628</td><td>0.899282</td><td>0.000128252</td></tr><tr><th>81</th><td>5507</td><td>5285</td><td>Senjou no Valkyria</td><td>[&apos;Action&apos;, &apos;Military&apos;, &apos;Romance&apos;]</td><td>tv</td><td>8.24589</td><td>0.578753</td><td>0.82902</td><td>0.00012052</td></tr><tr><th>82</th><td>34494</td><td>1711</td><td>Sakura Quest</td><td>[&apos;Comedy&apos;, &apos;Slice of Life&apos;]</td><td>tv</td><td>8.16218</td><td>0.571373</td><td>0.761303</td><td>0.000344854</td></tr><tr><th>83</th><td>32828</td><td>58</td><td>Amaama to Inazuma</td><td>[&apos;Comedy&apos;, &apos;Gourmet&apos;, &apos;Seinen&apos;, &apos;Slice of Life&apos;]</td><td>tv</td><td>7.9751</td><td>0.27747</td><td>0.601111</td><td>0.000703673</td></tr><tr><th>84</th><td>4725</td><td>4583</td><td>Ga-Rei: Zero</td><td>[&apos;Action&apos;, &apos;Super Power&apos;, &apos;Supernatural&apos;, &apos;Suspense&apos;]</td><td>tv</td><td>8.15587</td><td>0.368759</td><td>0.786408</td><td>0.000196117</td></tr><tr><th>85</th><td>21603</td><td>13731</td><td>Mekakucity Actors</td><td>[&apos;Comedy&apos;, &apos;Sci-Fi&apos;, &apos;Super Power&apos;, &apos;Supernatural&apos;]</td><td>tv</td><td>8.14732</td><td>1.03764</td><td>0.780118</td><td>0.000836103</td></tr><tr><th>86</th><td>23673</td><td>14316</td><td>Ookami Shoujo to Kuro Ouji</td><td>[&apos;Comedy&apos;, &apos;Romance&apos;, &apos;School&apos;, &apos;Shoujo&apos;]</td><td>tv</td><td>8.1407</td><td>1.02738</td><td>0.774323</td><td>0.000446695</td></tr><tr><th>87</th><td>24405</td><td>14460</td><td>World Trigger</td><td>[&apos;Action&apos;, &apos;School&apos;, &apos;Sci-Fi&apos;, &apos;Shounen&apos;, &apos;Supernatural&apos;]</td><td>tv</td><td>8.16903</td><td>0.750685</td><td>0.807338</td><td>0.00042773</td></tr><tr><th>88</th><td>10161</td><td>9305</td><td>No.6</td><td>[&apos;Action&apos;, &apos;Drama&apos;, &apos;Mystery&apos;, &apos;Sci-Fi&apos;]</td><td>tv</td><td>8.21743</td><td>0.593023</td><td>0.863425</td><td>0.000115968</td></tr><tr><th>89</th><td>7661</td><td>7283</td><td>Giant Killing</td><td>[&apos;Drama&apos;, &apos;Seinen&apos;, &apos;Sports&apos;]</td><td>tv</td><td>8.02278</td><td>0.128822</td><td>0.66918</td><td>5.99606e-5</td></tr><tr><th>90</th><td>32494</td><td>16855</td><td>Days (TV)</td><td>[&apos;School&apos;, &apos;Shounen&apos;, &apos;Sports&apos;]</td><td>tv</td><td>7.97851</td><td>0.809737</td><td>0.642682</td><td>0.000108619</td></tr><tr><th>91</th><td>13333</td><td>11005</td><td>Tari Tari</td><td>[&apos;Music&apos;, &apos;School&apos;, &apos;Slice of Life&apos;]</td><td>tv</td><td>8.20138</td><td>0.706353</td><td>0.86843</td><td>0.000186562</td></tr><tr><th>92</th><td>10793</td><td>9810</td><td>Guilty Crown</td><td>[&apos;Action&apos;, &apos;Drama&apos;, &apos;Mecha&apos;, &apos;Romance&apos;, &apos;Sci-Fi&apos;, &apos;Super Power&apos;]</td><td>tv</td><td>8.16957</td><td>0.746956</td><td>0.843585</td><td>0.00108345</td></tr><tr><th>93</th><td>23421</td><td>14261</td><td>Re:␣Hamatora</td><td>[&apos;Comedy&apos;, &apos;Drama&apos;, &apos;Mystery&apos;, &apos;Super Power&apos;]</td><td>tv</td><td>7.93692</td><td>0.540786</td><td>0.617433</td><td>0.000280699</td></tr><tr><th>94</th><td>37007</td><td>4154</td><td>Hinomaruzumou</td><td>[&apos;Martial Arts&apos;, &apos;Shounen&apos;, &apos;Sports&apos;]</td><td>tv</td><td>7.91342</td><td>0.195213</td><td>0.601234</td><td>0.000243033</td></tr><tr><th>95</th><td>1594</td><td>1578</td><td>Jigoku Shoujo Futakomori</td><td>[&apos;Horror&apos;, &apos;Mystery&apos;, &apos;Psychological&apos;, &apos;Supernatural&apos;]</td><td>tv</td><td>8.32</td><td>0.238111</td><td>1.01014</td><td>7.47147e-5</td></tr><tr><th>96</th><td>2002</td><td>1984</td><td>Heroic Age</td><td>[&apos;Action&apos;, &apos;Mecha&apos;, &apos;Military&apos;, &apos;Sci-Fi&apos;, &apos;Space&apos;]</td><td>tv</td><td>8.11707</td><td>0.558479</td><td>0.811203</td><td>6.58759e-5</td></tr><tr><th>97</th><td>14467</td><td>11360</td><td>K</td><td>[&apos;Action&apos;, &apos;Mystery&apos;, &apos;Super Power&apos;, &apos;Supernatural&apos;]</td><td>tv</td><td>8.11669</td><td>0.624542</td><td>0.812353</td><td>0.000560242</td></tr><tr><th>98</th><td>21743</td><td>13765</td><td>Donten ni Warau</td><td>[&apos;Action&apos;, &apos;Historical&apos;, &apos;Shoujo&apos;, &apos;Supernatural&apos;]</td><td>tv</td><td>8.14785</td><td>0.616967</td><td>0.844026</td><td>6.01553e-5</td></tr><tr><th>99</th><td>2112</td><td>2094</td><td>Over Drive</td><td>[&apos;Shounen&apos;, &apos;Sports&apos;]</td><td>tv</td><td>8.14112</td><td>0.4469</td><td>0.841543</td><td>6.40702e-5</td></tr><tr><th>100</th><td>330</td><td>326</td><td>Midori no Hibi</td><td>[&apos;Comedy&apos;, &apos;Drama&apos;, &apos;Ecchi&apos;, &apos;Romance&apos;, &apos;Shounen&apos;]</td><td>tv</td><td>8.02662</td><td>0.649549</td><td>0.727268</td><td>0.000160352</td></tr><tr><th>&vellip;</th><td>&vellip;</td><td>&vellip;</td><td>&vellip;</td><td>&vellip;</td><td>&vellip;</td><td>&vellip;</td><td>&vellip;</td><td>&vellip;</td><td>&vellip;</td></tr></tbody></table></div>"
      ],
      "text/latex": [
       "\\begin{tabular}{r|ccccccccc}\n",
       "\t& anime\\_id & uid & title & genres & medium & rating & alpha & std & p\\\\\n",
       "\t\\hline\n",
       "\t& Int64 & Int64 & String & String & String7 & Float64 & Float64 & Float64 & Float64\\\\\n",
       "\t\\hline\n",
       "\t1 & 19 & 17 & Monster & ['Drama', 'Horror', 'Mystery', 'Police', 'Psychological', 'Seinen', 'Suspense'] & tv & 9.57911 & 0.179291 & 0.783126 & 0.000450352 \\\\\n",
       "\t2 & 877 & 864 & Nana & ['Comedy', 'Drama', 'Music', 'Romance', 'Shoujo', 'Slice of Life'] & tv & 9.42157 & 0.703496 & 0.69414 & 0.000161927 \\\\\n",
       "\t3 & 12431 & 10569 & Uchuu Kyoudai & ['Comedy', 'Sci-Fi', 'Seinen', 'Slice of Life', 'Space'] & tv & 9.37633 & 0.404755 & 0.691916 & 0.000164613 \\\\\n",
       "\t4 & 12531 & 10615 & Sakamichi no Apollon & ['Drama', 'Josei', 'Music', 'Romance', 'School'] & tv & 9.13093 & 0.374252 & 0.626664 & 0.00022669 \\\\\n",
       "\t5 & 5941 & 5678 & Cross Game & ['Comedy', 'Drama', 'Romance', 'School', 'Shounen', 'Sports'] & tv & 9.23264 & 0.394292 & 0.736427 & 8.54747e-5 \\\\\n",
       "\t6 & 57 & 55 & Beck & ['Comedy', 'Drama', 'Music', 'Shounen', 'Slice of Life'] & tv & 9.04127 & 0.471829 & 0.586103 & 0.000148104 \\\\\n",
       "\t7 & 12365 & 10541 & Bakuman. 3rd Season & ['Comedy', 'Drama', 'Romance', 'Shounen'] & tv & 9.09822 & 0.182425 & 0.645067 & 0.000497861 \\\\\n",
       "\t8 & 239 & 235 & Gankutsuou & ['Drama', 'Mystery', 'Sci-Fi', 'Supernatural', 'Suspense'] & tv & 9.07008 & 0.303079 & 0.633981 & 9.18222e-5 \\\\\n",
       "\t9 & 329 & 327 & Planetes & ['Drama', 'Romance', 'Sci-Fi', 'Seinen', 'Space'] & tv & 9.05609 & 0.194288 & 0.646657 & 0.000155614 \\\\\n",
       "\t10 & 37965 & 5019 & Kaze ga Tsuyoku Fuiteiru & ['Drama', 'Sports'] & tv & 8.94232 & 0.114608 & 0.590573 & 0.000372341 \\\\\n",
       "\t11 & 2164 & 2146 & Dennou Coil & ['Adventure', 'Comedy', 'Drama', 'Mystery', 'Sci-Fi'] & tv & 8.94181 & 0.284984 & 0.736643 & 5.8564e-5 \\\\\n",
       "\t12 & 34636 & 1850 & Ballroom e Youkoso & ['Comedy', 'Drama', 'Romance', 'School', 'Shounen', 'Sports'] & tv & 8.85222 & 0.431543 & 0.647171 & 0.000460644 \\\\\n",
       "\t13 & 38889 & 5855 & Kono Oto Tomare! 2nd Season & ['Drama', 'Music', 'Romance', 'School', 'Shounen'] & tv & 8.76393 & 0.102055 & 0.582024 & 0.00027871 \\\\\n",
       "\t14 & 135 & 139 & Hikaru no Go & ['Comedy', 'Game', 'Shounen', 'Supernatural'] & tv & 8.86111 & 0.532064 & 0.681206 & 5.97041e-5 \\\\\n",
       "\t15 & 9289 & 8572 & Hanasaku Iroha & ['Comedy', 'Drama', 'Slice of Life'] & tv & 8.93998 & 0.749248 & 0.763337 & 0.00038665 \\\\\n",
       "\t16 & 37520 & 4608 & Dororo & ['Action', 'Adventure', 'Demons', 'Historical', 'Samurai', 'Shounen', 'Supernatural'] & tv & 8.77164 & 0.355514 & 0.63205 & 0.000681784 \\\\\n",
       "\t17 & 5682 & 5438 & Phantom: Requiem for the Phantom & ['Action', 'Drama', 'Seinen', 'Suspense'] & tv & 8.91883 & 0.75091 & 0.799643 & 0.000291809 \\\\\n",
       "\t18 & 36649 & 3815 & Banana Fish & ['Action', 'Adventure', 'Drama', 'Shoujo'] & tv & 8.79936 & 0.242959 & 0.698481 & 0.000364611 \\\\\n",
       "\t19 & 10800 & 9816 & Chihayafuru & ['Drama', 'Game', 'Josei', 'School', 'Slice of Life', 'Sports'] & tv & 8.80888 & 0.222628 & 0.712988 & 0.000468124 \\\\\n",
       "\t20 & 10721 & 9741 & Mawaru Penguindrum & ['Avant Garde', 'Comedy', 'Drama', 'Mystery', 'Psychological'] & tv & 8.81268 & 0.340597 & 0.735864 & 0.000293278 \\\\\n",
       "\t21 & 32729 & 16950 & Orange & ['Drama', 'Romance', 'School', 'Sci-Fi', 'Shoujo'] & tv & 8.77538 & 1.08681 & 0.745878 & 0.000853492 \\\\\n",
       "\t22 & 8425 & 7939 & Gosick & ['Drama', 'Historical', 'Mystery', 'Romance'] & tv & 8.92925 & 0.737467 & 0.917903 & 0.00066039 \\\\\n",
       "\t23 & 7674 & 7296 & Bakuman. & ['Comedy', 'Drama', 'Romance', 'Shounen'] & tv & 8.69878 & 0.237556 & 0.701377 & 0.000619728 \\\\\n",
       "\t24 & 21995 & 13830 & Ao Haru Ride & ['Drama', 'Romance', 'School', 'Shoujo', 'Slice of Life'] & tv & 8.74272 & 1.0388 & 0.78384 & 0.000925938 \\\\\n",
       "\t25 & 45 & 43 & Rurouni Kenshin: Meiji Kenkaku Romantan & ['Action', 'Adventure', 'Comedy', 'Historical', 'Romance', 'Samurai', 'Shounen'] & tv & 8.56726 & 0.130459 & 0.628391 & 0.000183799 \\\\\n",
       "\t26 & 18245 & 12895 & White Album 2 & ['Drama', 'Music', 'Romance', 'Slice of Life'] & tv & 8.72652 & 0.776108 & 0.804837 & 0.000562897 \\\\\n",
       "\t27 & 39198 & 6153 & Kanata no Astra & ['Adventure', 'Mystery', 'Sci-Fi', 'Shounen', 'Space'] & tv & 8.54856 & 0.175212 & 0.641693 & 0.000513124 \\\\\n",
       "\t28 & 32867 & 98 & Bungou Stray Dogs 2nd Season & ['Action', 'Mystery', 'Seinen', 'Super Power', 'Supernatural'] & tv & 8.62005 & 0.239477 & 0.727206 & 0.000728741 \\\\\n",
       "\t29 & 12445 & 10576 & Tasogare Otome x Amnesia & ['Horror', 'Mystery', 'Romance', 'School', 'Shounen', 'Supernatural'] & tv & 8.67476 & 0.80604 & 0.791908 & 0.000749552 \\\\\n",
       "\t30 & 25013 & 14592 & Akatsuki no Yona & ['Action', 'Adventure', 'Comedy', 'Fantasy', 'Romance', 'Shoujo'] & tv & 8.72917 & 0.53547 & 0.858659 & 0.000956594 \\\\\n",
       "\t31 & 237 & 233 & Koukyoushihen Eureka Seven & ['Adventure', 'Drama', 'Mecha', 'Romance', 'Sci-Fi'] & tv & 8.73776 & 0.521423 & 0.924275 & 0.000304271 \\\\\n",
       "\t32 & 12189 & 10491 & Hyouka & ['Mystery', 'School', 'Slice of Life'] & tv & 8.66746 & 0.402918 & 0.860881 & 0.00184167 \\\\\n",
       "\t33 & 202 & 200 & Wolf's Rain & ['Action', 'Adventure', 'Drama', 'Fantasy', 'Mystery', 'Sci-Fi'] & tv & 8.67405 & 0.627754 & 0.897821 & 6.34542e-5 \\\\\n",
       "\t34 & 7724 & 7341 & Shiki & ['Horror', 'Mystery', 'Psychological', 'Supernatural', 'Suspense', 'Vampire'] & tv & 8.51686 & 0.478159 & 0.74479 & 0.000560591 \\\\\n",
       "\t35 & 37435 & 4530 & Carole \\& Tuesday & ['Drama', 'Music', 'Sci-Fi'] & tv & 8.54126 & 0.314739 & 0.773412 & 0.000336496 \\\\\n",
       "\t36 & 14713 & 11419 & Kamisama Hajimemashita & ['Comedy', 'Demons', 'Fantasy', 'Romance', 'Shoujo', 'Supernatural'] & tv & 8.47917 & 0.460792 & 0.720294 & 0.000275387 \\\\\n",
       "\t37 & 21185 & 13623 & Baby Steps & ['Romance', 'School', 'Shounen', 'Sports'] & tv & 8.4599 & 0.397775 & 0.705732 & 0.000292931 \\\\\n",
       "\t38 & 32998 & 226 & 91 Days & ['Action', 'Drama', 'Historical'] & tv & 8.55031 & 0.449074 & 0.814586 & 0.000609515 \\\\\n",
       "\t39 & 6045 & 5779 & Kimi ni Todoke & ['Drama', 'Romance', 'School', 'Shoujo', 'Slice of Life'] & tv & 8.46091 & 0.329956 & 0.741085 & 0.000530382 \\\\\n",
       "\t40 & 30123 & 15790 & Akagami no Shirayuki-hime & ['Drama', 'Fantasy', 'Romance', 'Shoujo'] & tv & 8.34219 & 0.503572 & 0.624884 & 0.000643772 \\\\\n",
       "\t41 & 28297 & 15181 & Ore Monogatari!! & ['Comedy', 'Romance', 'Shoujo'] & tv & 8.45586 & 0.321057 & 0.746964 & 0.000749228 \\\\\n",
       "\t42 & 21327 & 13647 & Isshuukan Friends. & ['Comedy', 'School', 'Shounen', 'Slice of Life'] & tv & 8.51593 & 0.802917 & 0.81705 & 0.000608377 \\\\\n",
       "\t43 & 38080 & 5132 & Kono Oto Tomare! & ['Drama', 'Music', 'Romance', 'School', 'Shounen'] & tv & 8.2918 & 0.273489 & 0.620822 & 0.000246938 \\\\\n",
       "\t44 & 35062 & 2276 & Mahoutsukai no Yome & ['Fantasy', 'Shounen', 'Slice of Life'] & tv & 8.42915 & 0.199491 & 0.75934 & 0.0012028 \\\\\n",
       "\t45 & 9941 & 9107 & Tiger \\& Bunny & ['Action', 'Comedy', 'Mystery', 'Super Power'] & tv & 8.50078 & 0.248748 & 0.831728 & 0.000105788 \\\\\n",
       "\t46 & 22101 & 13856 & Soredemo Sekai wa Utsukushii & ['Adventure', 'Fantasy', 'Romance', 'Shoujo'] & tv & 8.43888 & 0.746937 & 0.79013 & 0.000364248 \\\\\n",
       "\t47 & 37497 & 4587 & Irozuku Sekai no Ashita kara & ['Drama', 'Romance', 'School'] & tv & 8.36067 & 0.748703 & 0.722033 & 0.000728026 \\\\\n",
       "\t48 & 11739 & 10343 & Kimi to Boku. 2 & ['Comedy', 'Drama', 'Romance', 'School', 'Shounen', 'Slice of Life'] & tv & 8.35973 & 0.176703 & 0.730702 & 7.81276e-5 \\\\\n",
       "\t49 & 25681 & 14728 & Kamisama Hajimemashita◎ & ['Comedy', 'Demons', 'Fantasy', 'Romance', 'Shoujo', 'Supernatural'] & tv & 8.43844 & 0.237563 & 0.812341 & 0.000176908 \\\\\n",
       "\t50 & 2025 & 2007 & Darker than Black: Kuro no Keiyakusha & ['Action', 'Mystery', 'Sci-Fi', 'Super Power'] & tv & 8.48749 & 0.16733 & 0.865289 & 0.000704555 \\\\\n",
       "\t51 & 790 & 780 & Ergo Proxy & ['Mystery', 'Psychological', 'Sci-Fi'] & tv & 8.73398 & 0.442661 & 1.11371 & 0.000298853 \\\\\n",
       "\t52 & 34547 & 1763 & Shoukoku no Altair & ['Adventure', 'Drama', 'Fantasy', 'Historical', 'Military', 'Shounen'] & tv & 8.4311 & 0.950773 & 0.811708 & 0.000153058 \\\\\n",
       "\t53 & 1571 & 1555 & Ghost Hunt & ['Horror', 'Mystery', 'Shoujo', 'Supernatural'] & tv & 8.54396 & 0.655196 & 0.927169 & 0.000110056 \\\\\n",
       "\t54 & 31173 & 16292 & Akagami no Shirayuki-hime 2nd Season & ['Drama', 'Fantasy', 'Romance', 'Shoujo'] & tv & 8.25379 & 0.169368 & 0.639488 & 0.000325448 \\\\\n",
       "\t55 & 5530 & 5303 & Pandora Hearts & ['Adventure', 'Fantasy', 'Mystery', 'Shounen', 'Supernatural'] & tv & 8.53468 & 0.759556 & 0.931218 & 0.00018496 \\\\\n",
       "\t56 & 38145 & 5197 & Doukyonin wa Hiza, Tokidoki, Atama no Ue. & ['Comedy', 'Slice of Life'] & tv & 8.13285 & 0.171771 & 0.557612 & 0.000318821 \\\\\n",
       "\t57 & 9863 & 9035 & SKET Dance & ['Comedy', 'School', 'Shounen'] & tv & 8.47196 & 0.242504 & 0.902542 & 0.00020449 \\\\\n",
       "\t58 & 4722 & 4580 & Skip Beat! & ['Comedy', 'Drama', 'Romance', 'Shoujo'] & tv & 8.49501 & 0.271586 & 0.939339 & 8.50043e-5 \\\\\n",
       "\t59 & 33337 & 565 & ACCA: 13-ku Kansatsu-ka & ['Drama', 'Fantasy', 'Mystery', 'Police', 'Seinen'] & tv & 8.25129 & 0.173054 & 0.701179 & 0.000180582 \\\\\n",
       "\t60 & 1482 & 1468 & D.Gray-man & ['Action', 'Adventure', 'Comedy', 'Demons', 'Shounen', 'Super Power'] & tv & 8.44871 & 0.415802 & 0.909338 & 0.000282738 \\\\\n",
       "\t61 & 30187 & 15834 & Sakurako-san no Ashimoto ni wa Shitai ga Umatteiru & ['Drama', 'Mystery', 'Suspense'] & tv & 8.26785 & 0.72411 & 0.72941 & 0.0004923 \\\\\n",
       "\t62 & 22145 & 13865 & Kuroshitsuji: Book of Circus & ['Action', 'Comedy', 'Demons', 'Historical', 'Mystery', 'Shounen', 'Supernatural'] & tv & 8.46309 & 0.173369 & 0.926755 & 0.000220344 \\\\\n",
       "\t63 & 12883 & 10775 & Tsuritama & ['Comedy', 'Sci-Fi', 'Slice of Life', 'Sports'] & tv & 8.15696 & 0.221946 & 0.631303 & 7.76943e-5 \\\\\n",
       "\t64 & 10460 & 9494 & Kimi to Boku. & ['Comedy', 'Drama', 'Romance', 'School', 'Shounen', 'Slice of Life'] & tv & 8.22546 & 0.423197 & 0.703684 & 0.000147782 \\\\\n",
       "\t65 & 32948 & 178 & Fune wo Amu & ['Drama', 'Romance', 'Slice of Life'] & tv & 8.3774 & 0.290224 & 0.859026 & 0.000145844 \\\\\n",
       "\t66 & 10049 & 9205 & Nurarihyon no Mago: Sennen Makyou & ['Action', 'Demons', 'Shounen', 'Supernatural'] & tv & 8.37396 & 0.287588 & 0.861049 & 0.000133382 \\\\\n",
       "\t67 & 16009 & 12006 & Kamisama no Inai Nichiyoubi & ['Adventure', 'Fantasy', 'Mystery'] & tv & 8.24702 & 0.804943 & 0.745415 & 0.000260249 \\\\\n",
       "\t68 & 36220 & 3400 & Itsudatte Bokura no Koi wa 10 cm Datta. & ['Comedy', 'Drama', 'Romance', 'School'] & tv & 8.11635 & 0.5196 & 0.617815 & 0.000396319 \\\\\n",
       "\t69 & 3588 & 3531 & Soul Eater & ['Action', 'Comedy', 'Fantasy', 'Shounen', 'Supernatural'] & tv & 8.29537 & 0.293711 & 0.801947 & 0.000850048 \\\\\n",
       "\t70 & 5074 & 4898 & Tetsuwan Birdy Decode:02 & ['Action', 'Comedy', 'Sci-Fi'] & tv & 8.42028 & 0.359578 & 0.943119 & 8.3557e-5 \\\\\n",
       "\t71 & 10568 & 9598 & Kamisama no Memochou & ['Mystery'] & tv & 8.3195 & 0.753146 & 0.861431 & 0.000262209 \\\\\n",
       "\t72 & 36653 & 3819 & Tsurune: Kazemai Koukou Kyuudoubu & ['Drama', 'School', 'Sports'] & tv & 8.18075 & 0.362494 & 0.724941 & 0.000110087 \\\\\n",
       "\t73 & 150 & 148 & Blood+ & ['Action', 'Drama', 'Horror', 'Military', 'Mystery', 'Supernatural', 'Vampire'] & tv & 8.36141 & 0.698851 & 0.91047 & 9.38118e-5 \\\\\n",
       "\t74 & 1604 & 1588 & Katekyo Hitman Reborn! & ['Action', 'Comedy', 'Shounen', 'Super Power'] & tv & 8.31671 & 0.283278 & 0.872107 & 0.000294834 \\\\\n",
       "\t75 & 28249 & 15174 & Arslan Senki (TV) & ['Action', 'Adventure', 'Drama', 'Fantasy', 'Historical', 'Shounen'] & tv & 8.2261 & 0.345827 & 0.786325 & 0.000351967 \\\\\n",
       "\t76 & 25183 & 14639 & Gangsta. & ['Action', 'Drama', 'Seinen'] & tv & 8.06189 & 0.560485 & 0.626972 & 0.000730732 \\\\\n",
       "\t77 & 37972 & 5028 & Hoshiai no Sora & ['Drama', 'School', 'Slice of Life', 'Sports'] & tv & 8.03246 & 0.239001 & 0.598952 & 0.000221071 \\\\\n",
       "\t78 & 38753 & 5719 & Araburu Kisetsu no Otome-domo yo. & ['Comedy', 'Drama', 'Romance', 'School', 'Shounen'] & tv & 7.93323 & 0.213647 & 0.499984 & 0.000797158 \\\\\n",
       "\t79 & 9656 & 8871 & Kimi ni Todoke 2nd Season & ['Drama', 'Romance', 'School', 'Shoujo', 'Slice of Life'] & tv & 8.37114 & 0.244952 & 0.939742 & 0.000348745 \\\\\n",
       "\t80 & 4981 & 4819 & Casshern Sins & ['Action', 'Adventure', 'Drama', 'Psychological', 'Sci-Fi'] & tv & 8.32821 & 0.3628 & 0.899282 & 0.000128252 \\\\\n",
       "\t81 & 5507 & 5285 & Senjou no Valkyria & ['Action', 'Military', 'Romance'] & tv & 8.24589 & 0.578753 & 0.82902 & 0.00012052 \\\\\n",
       "\t82 & 34494 & 1711 & Sakura Quest & ['Comedy', 'Slice of Life'] & tv & 8.16218 & 0.571373 & 0.761303 & 0.000344854 \\\\\n",
       "\t83 & 32828 & 58 & Amaama to Inazuma & ['Comedy', 'Gourmet', 'Seinen', 'Slice of Life'] & tv & 7.9751 & 0.27747 & 0.601111 & 0.000703673 \\\\\n",
       "\t84 & 4725 & 4583 & Ga-Rei: Zero & ['Action', 'Super Power', 'Supernatural', 'Suspense'] & tv & 8.15587 & 0.368759 & 0.786408 & 0.000196117 \\\\\n",
       "\t85 & 21603 & 13731 & Mekakucity Actors & ['Comedy', 'Sci-Fi', 'Super Power', 'Supernatural'] & tv & 8.14732 & 1.03764 & 0.780118 & 0.000836103 \\\\\n",
       "\t86 & 23673 & 14316 & Ookami Shoujo to Kuro Ouji & ['Comedy', 'Romance', 'School', 'Shoujo'] & tv & 8.1407 & 1.02738 & 0.774323 & 0.000446695 \\\\\n",
       "\t87 & 24405 & 14460 & World Trigger & ['Action', 'School', 'Sci-Fi', 'Shounen', 'Supernatural'] & tv & 8.16903 & 0.750685 & 0.807338 & 0.00042773 \\\\\n",
       "\t88 & 10161 & 9305 & No.6 & ['Action', 'Drama', 'Mystery', 'Sci-Fi'] & tv & 8.21743 & 0.593023 & 0.863425 & 0.000115968 \\\\\n",
       "\t89 & 7661 & 7283 & Giant Killing & ['Drama', 'Seinen', 'Sports'] & tv & 8.02278 & 0.128822 & 0.66918 & 5.99606e-5 \\\\\n",
       "\t90 & 32494 & 16855 & Days (TV) & ['School', 'Shounen', 'Sports'] & tv & 7.97851 & 0.809737 & 0.642682 & 0.000108619 \\\\\n",
       "\t91 & 13333 & 11005 & Tari Tari & ['Music', 'School', 'Slice of Life'] & tv & 8.20138 & 0.706353 & 0.86843 & 0.000186562 \\\\\n",
       "\t92 & 10793 & 9810 & Guilty Crown & ['Action', 'Drama', 'Mecha', 'Romance', 'Sci-Fi', 'Super Power'] & tv & 8.16957 & 0.746956 & 0.843585 & 0.00108345 \\\\\n",
       "\t93 & 23421 & 14261 & Re:␣Hamatora & ['Comedy', 'Drama', 'Mystery', 'Super Power'] & tv & 7.93692 & 0.540786 & 0.617433 & 0.000280699 \\\\\n",
       "\t94 & 37007 & 4154 & Hinomaruzumou & ['Martial Arts', 'Shounen', 'Sports'] & tv & 7.91342 & 0.195213 & 0.601234 & 0.000243033 \\\\\n",
       "\t95 & 1594 & 1578 & Jigoku Shoujo Futakomori & ['Horror', 'Mystery', 'Psychological', 'Supernatural'] & tv & 8.32 & 0.238111 & 1.01014 & 7.47147e-5 \\\\\n",
       "\t96 & 2002 & 1984 & Heroic Age & ['Action', 'Mecha', 'Military', 'Sci-Fi', 'Space'] & tv & 8.11707 & 0.558479 & 0.811203 & 6.58759e-5 \\\\\n",
       "\t97 & 14467 & 11360 & K & ['Action', 'Mystery', 'Super Power', 'Supernatural'] & tv & 8.11669 & 0.624542 & 0.812353 & 0.000560242 \\\\\n",
       "\t98 & 21743 & 13765 & Donten ni Warau & ['Action', 'Historical', 'Shoujo', 'Supernatural'] & tv & 8.14785 & 0.616967 & 0.844026 & 6.01553e-5 \\\\\n",
       "\t99 & 2112 & 2094 & Over Drive & ['Shounen', 'Sports'] & tv & 8.14112 & 0.4469 & 0.841543 & 6.40702e-5 \\\\\n",
       "\t100 & 330 & 326 & Midori no Hibi & ['Comedy', 'Drama', 'Ecchi', 'Romance', 'Shounen'] & tv & 8.02662 & 0.649549 & 0.727268 & 0.000160352 \\\\\n",
       "\t$\\dots$ & $\\dots$ & $\\dots$ & $\\dots$ & $\\dots$ & $\\dots$ & $\\dots$ & $\\dots$ & $\\dots$ & $\\dots$ \\\\\n",
       "\\end{tabular}\n"
      ],
      "text/plain": [
       "\u001b[1m409×9 DataFrame\u001b[0m\n",
       "\u001b[1m Row \u001b[0m│\u001b[1m anime_id \u001b[0m\u001b[1m uid   \u001b[0m\u001b[1m title                             \u001b[0m\u001b[1m genres                            \u001b[0m\u001b[1m medium  \u001b[0m\u001b[1m rating  \u001b[0m\u001b[1m alpha    \u001b[0m\u001b[1m std      \u001b[0m\u001b[1m p           \u001b[0m\n",
       "\u001b[1m     \u001b[0m│\u001b[90m Int64    \u001b[0m\u001b[90m Int64 \u001b[0m\u001b[90m String                            \u001b[0m\u001b[90m String                            \u001b[0m\u001b[90m String7 \u001b[0m\u001b[90m Float64 \u001b[0m\u001b[90m Float64  \u001b[0m\u001b[90m Float64  \u001b[0m\u001b[90m Float64     \u001b[0m\n",
       "─────┼──────────────────────────────────────────────────────────────────────────────────────────────────────────────────────────────────────────\n",
       "   1 │       19     17  Monster                            ['Drama', 'Horror', 'Mystery', '…  tv       9.57911  0.179291  0.783126  0.000450352\n",
       "   2 │      877    864  Nana                               ['Comedy', 'Drama', 'Music', 'Ro…  tv       9.42157  0.703496  0.69414   0.000161927\n",
       "   3 │    12431  10569  Uchuu Kyoudai                      ['Comedy', 'Sci-Fi', 'Seinen', '…  tv       9.37633  0.404755  0.691916  0.000164613\n",
       "   4 │    12531  10615  Sakamichi no Apollon               ['Drama', 'Josei', 'Music', 'Rom…  tv       9.13093  0.374252  0.626664  0.00022669\n",
       "   5 │     5941   5678  Cross Game                         ['Comedy', 'Drama', 'Romance', '…  tv       9.23264  0.394292  0.736427  8.54747e-5\n",
       "   6 │       57     55  Beck                               ['Comedy', 'Drama', 'Music', 'Sh…  tv       9.04127  0.471829  0.586103  0.000148104\n",
       "   7 │    12365  10541  Bakuman. 3rd Season                ['Comedy', 'Drama', 'Romance', '…  tv       9.09822  0.182425  0.645067  0.000497861\n",
       "   8 │      239    235  Gankutsuou                         ['Drama', 'Mystery', 'Sci-Fi', '…  tv       9.07008  0.303079  0.633981  9.18222e-5\n",
       "   9 │      329    327  Planetes                           ['Drama', 'Romance', 'Sci-Fi', '…  tv       9.05609  0.194288  0.646657  0.000155614\n",
       "  10 │    37965   5019  Kaze ga Tsuyoku Fuiteiru           ['Drama', 'Sports']                tv       8.94232  0.114608  0.590573  0.000372341\n",
       "  11 │     2164   2146  Dennou Coil                        ['Adventure', 'Comedy', 'Drama',…  tv       8.94181  0.284984  0.736643  5.8564e-5\n",
       "  12 │    34636   1850  Ballroom e Youkoso                 ['Comedy', 'Drama', 'Romance', '…  tv       8.85222  0.431543  0.647171  0.000460644\n",
       "  13 │    38889   5855  Kono Oto Tomare! 2nd Season        ['Drama', 'Music', 'Romance', 'S…  tv       8.76393  0.102055  0.582024  0.00027871\n",
       "  14 │      135    139  Hikaru no Go                       ['Comedy', 'Game', 'Shounen', 'S…  tv       8.86111  0.532064  0.681206  5.97041e-5\n",
       "  15 │     9289   8572  Hanasaku Iroha                     ['Comedy', 'Drama', 'Slice of Li…  tv       8.93998  0.749248  0.763337  0.00038665\n",
       "  16 │    37520   4608  Dororo                             ['Action', 'Adventure', 'Demons'…  tv       8.77164  0.355514  0.63205   0.000681784\n",
       "  17 │     5682   5438  Phantom: Requiem for the Phantom   ['Action', 'Drama', 'Seinen', 'S…  tv       8.91883  0.75091   0.799643  0.000291809\n",
       "  18 │    36649   3815  Banana Fish                        ['Action', 'Adventure', 'Drama',…  tv       8.79936  0.242959  0.698481  0.000364611\n",
       "  19 │    10800   9816  Chihayafuru                        ['Drama', 'Game', 'Josei', 'Scho…  tv       8.80888  0.222628  0.712988  0.000468124\n",
       "  20 │    10721   9741  Mawaru Penguindrum                 ['Avant Garde', 'Comedy', 'Drama…  tv       8.81268  0.340597  0.735864  0.000293278\n",
       "  21 │    32729  16950  Orange                             ['Drama', 'Romance', 'School', '…  tv       8.77538  1.08681   0.745878  0.000853492\n",
       "  22 │     8425   7939  Gosick                             ['Drama', 'Historical', 'Mystery…  tv       8.92925  0.737467  0.917903  0.00066039\n",
       "  23 │     7674   7296  Bakuman.                           ['Comedy', 'Drama', 'Romance', '…  tv       8.69878  0.237556  0.701377  0.000619728\n",
       "  24 │    21995  13830  Ao Haru Ride                       ['Drama', 'Romance', 'School', '…  tv       8.74272  1.0388    0.78384   0.000925938\n",
       "  25 │       45     43  Rurouni Kenshin: Meiji Kenkaku R…  ['Action', 'Adventure', 'Comedy'…  tv       8.56726  0.130459  0.628391  0.000183799\n",
       "  26 │    18245  12895  White Album 2                      ['Drama', 'Music', 'Romance', 'S…  tv       8.72652  0.776108  0.804837  0.000562897\n",
       "  27 │    39198   6153  Kanata no Astra                    ['Adventure', 'Mystery', 'Sci-Fi…  tv       8.54856  0.175212  0.641693  0.000513124\n",
       "  28 │    32867     98  Bungou Stray Dogs 2nd Season       ['Action', 'Mystery', 'Seinen', …  tv       8.62005  0.239477  0.727206  0.000728741\n",
       "  29 │    12445  10576  Tasogare Otome x Amnesia           ['Horror', 'Mystery', 'Romance',…  tv       8.67476  0.80604   0.791908  0.000749552\n",
       "  30 │    25013  14592  Akatsuki no Yona                   ['Action', 'Adventure', 'Comedy'…  tv       8.72917  0.53547   0.858659  0.000956594\n",
       "  31 │      237    233  Koukyoushihen Eureka Seven         ['Adventure', 'Drama', 'Mecha', …  tv       8.73776  0.521423  0.924275  0.000304271\n",
       "  32 │    12189  10491  Hyouka                             ['Mystery', 'School', 'Slice of …  tv       8.66746  0.402918  0.860881  0.00184167\n",
       "  33 │      202    200  Wolf's Rain                        ['Action', 'Adventure', 'Drama',…  tv       8.67405  0.627754  0.897821  6.34542e-5\n",
       "  34 │     7724   7341  Shiki                              ['Horror', 'Mystery', 'Psycholog…  tv       8.51686  0.478159  0.74479   0.000560591\n",
       "  35 │    37435   4530  Carole & Tuesday                   ['Drama', 'Music', 'Sci-Fi']       tv       8.54126  0.314739  0.773412  0.000336496\n",
       "  36 │    14713  11419  Kamisama Hajimemashita             ['Comedy', 'Demons', 'Fantasy', …  tv       8.47917  0.460792  0.720294  0.000275387\n",
       "  37 │    21185  13623  Baby Steps                         ['Romance', 'School', 'Shounen',…  tv       8.4599   0.397775  0.705732  0.000292931\n",
       "  38 │    32998    226  91 Days                            ['Action', 'Drama', 'Historical']  tv       8.55031  0.449074  0.814586  0.000609515\n",
       "  39 │     6045   5779  Kimi ni Todoke                     ['Drama', 'Romance', 'School', '…  tv       8.46091  0.329956  0.741085  0.000530382\n",
       "  40 │    30123  15790  Akagami no Shirayuki-hime          ['Drama', 'Fantasy', 'Romance', …  tv       8.34219  0.503572  0.624884  0.000643772\n",
       "  41 │    28297  15181  Ore Monogatari!!                   ['Comedy', 'Romance', 'Shoujo']    tv       8.45586  0.321057  0.746964  0.000749228\n",
       "  42 │    21327  13647  Isshuukan Friends.                 ['Comedy', 'School', 'Shounen', …  tv       8.51593  0.802917  0.81705   0.000608377\n",
       "  43 │    38080   5132  Kono Oto Tomare!                   ['Drama', 'Music', 'Romance', 'S…  tv       8.2918   0.273489  0.620822  0.000246938\n",
       "  44 │    35062   2276  Mahoutsukai no Yome                ['Fantasy', 'Shounen', 'Slice of…  tv       8.42915  0.199491  0.75934   0.0012028\n",
       "  45 │     9941   9107  Tiger & Bunny                      ['Action', 'Comedy', 'Mystery', …  tv       8.50078  0.248748  0.831728  0.000105788\n",
       "  46 │    22101  13856  Soredemo Sekai wa Utsukushii       ['Adventure', 'Fantasy', 'Romanc…  tv       8.43888  0.746937  0.79013   0.000364248\n",
       "  ⋮  │    ⋮        ⋮                    ⋮                                  ⋮                     ⋮        ⋮        ⋮         ⋮           ⋮\n",
       " 365 │    29976  15694  Dance with Devils                  ['Demons', 'Harem', 'Romance', '…  tv       6.6041   0.390128  0.968631  8.50663e-5\n",
       " 366 │    15883  11948  Fantasista Doll                    ['Fantasy', 'Sci-Fi']              tv       6.36877  0.242407  0.749136  5.97523e-5\n",
       " 367 │    34866   2083  Yu☆Gi☆Oh! VRAINS                   ['Action', 'Fantasy', 'Game', 'S…  tv       6.68938  0.110927  1.08145   5.82448e-5\n",
       " 368 │    34566   1781  Boruto: Naruto Next Generations    ['Action', 'Adventure', 'Martial…  tv       6.68533  0.797387  1.11058   0.00052292\n",
       " 369 │    36266   3446  Mahou Shoujo Site                  ['Drama', 'Horror', 'Psychologic…  tv       6.54714  0.101741  0.986152  0.000598101\n",
       " 370 │    31223  16306  Phantasy Star Online 2 The Anima…  ['Action', 'Game', 'School', 'Sc…  tv       6.2818   0.230798  0.751346  0.000165849\n",
       " 371 │    37576   4661  Majutsushi Orphen Hagure Tabi      ['Action', 'Adventure', 'Drama',…  tv       6.30011  0.514498  0.774319  0.000144429\n",
       " 372 │    31790  16574  Active Raid: Kidou Kyoushuushits…  ['Comedy', 'Mecha', 'Police', 'S…  tv       6.2405   0.431451  0.722737  0.000128555\n",
       " 373 │    25283  14649  Kuusen Madoushi Kouhosei no Kyou…  ['Action', 'Drama', 'Fantasy', '…  tv       6.29526  0.188479  0.786429  0.00042485\n",
       " 374 │    33889   6384  Saredo Tsumibito wa Ryuu to Odoru  ['Action', 'Drama', 'Fantasy', '…  tv       6.20922  0.588314  0.705206  7.27237e-5\n",
       " 375 │    32878    108  ēlDLIVE                            ['Action', 'Police', 'Sci-Fi', '…  tv       6.25102  0.26938   0.763983  9.09611e-5\n",
       " 376 │    31710  16533  Divine Gate                        ['Action', 'Fantasy', 'Sci-Fi']    tv       6.14503  0.648862  0.661999  0.000289939\n",
       " 377 │    29758  15566  Taboo Tattoo                       ['Action', 'Martial Arts', 'Myst…  tv       6.284    0.597997  0.814427  0.000658484\n",
       " 378 │    30091  15766  Chaos Dragon: Sekiryuu Seneki      ['Action', 'Fantasy', 'Supernatu…  tv       6.31896  0.89428   0.868501  0.00023625\n",
       " 379 │    36245   3427  Evil or Live                       ['Psychological', 'School']        tv       6.38952  0.757418  0.949884  0.000285241\n",
       " 380 │    37436   4531  Revisions                          ['Action', 'Mecha', 'Sci-Fi']      tv       6.37019  0.191737  0.938645  9.86291e-5\n",
       " 381 │    32608  16902  Endride                            ['Adventure', 'Fantasy']           tv       6.26733  0.952111  0.860671  9.66902e-5\n",
       " 382 │    22547  13991  Blade & Soul                       ['Action', 'Adventure', 'Fantasy…  tv       6.2749   0.325617  0.904535  0.000236506\n",
       " 383 │    38091   5143  Hachigatsu no Cinderella Nine (T…  ['School', 'Sports']               tv       6.3058   0.222205  0.967543  7.84761e-5\n",
       " 384 │    23079  14156  Glasslip                           ['Romance', 'Slice of Life', 'Su…  tv       6.47998  1.113     1.14991   0.000282435\n",
       " 385 │    40783   7578  Shachou, Battle no Jikan Desu!     ['Action', 'Adventure', 'Fantasy…  tv       6.06775  0.451047  0.737884  8.2125e-5\n",
       " 386 │    15085  11545  Amnesia                            ['Fantasy', 'Harem', 'Mystery', …  tv       6.44297  0.578544  1.14068   0.000142537\n",
       " 387 │    37446   4540  Hyakuren no Haou to Seiyaku no V…  ['Fantasy', 'Harem']               tv       5.95058  0.502442  0.678412  0.000334804\n",
       " 388 │    40165   7039  Listeners                          ['Mecha', 'Music', 'Sci-Fi']       tv       6.13296  0.607127  0.862497  0.000158848\n",
       " 389 │    37952   5006  Shoumetsu Toshi                    ['Action', 'Adventure', 'Drama',…  tv       6.07444  0.790353  0.806807  0.000105804\n",
       " 390 │    23333  14235  DRAMAtical Murder                  ['Action', 'Psychological', 'Sci…  tv       6.27427  0.367861  1.02186   6.90333e-5\n",
       " 391 │    12367  10543  Shining Hearts: Shiawase no Pan    ['Action', 'Fantasy']              tv       6.14975  0.131375  0.911157  6.22498e-5\n",
       " 392 │    41834   8447  King's Raid: Ishi wo Tsugumono-t…  ['Action', 'Adventure', 'Fantasy…  tv       6.00587  0.314106  0.810175  7.27943e-5\n",
       " 393 │    37154   4269  Grimms Notes The Animation         ['Action', 'Adventure', 'Fantasy…  tv       6.1041   0.340565  0.914154  7.48818e-5\n",
       " 394 │    35997   3188  Märchen Mädchen                    ['Fantasy', 'School']              tv       5.95232  0.516684  0.765808  6.8569e-5\n",
       " 395 │    40961   7738  Hortensia Saga (TV)                ['Action', 'Adventure', 'Fantasy…  tv       5.95682  0.407589  0.809699  7.94335e-5\n",
       " 396 │    39966   6876  Tamayomi                           ['School', 'Sports']               tv       5.99142  0.362236  0.897019  7.2646e-5\n",
       " 397 │    36027   3213  Ousama Game The Animation          ['Drama', 'Horror', 'Mystery', '…  tv       6.03367  1.22821   0.95728   0.0005532\n",
       " 398 │    38843   5809  Shironeko Project: Zero Chronicle  ['Action', 'Adventure', 'Fantasy…  tv       5.83424  0.729419  0.775069  0.000168571\n",
       " 399 │    33985   1205  Bloodivores                        ['Action', 'Supernatural', 'Vamp…  tv       5.96046  0.667904  0.943405  0.000124639\n",
       " 400 │    31904  16616  Big Order (TV)                     ['Action', 'Shounen', 'Super Pow…  tv       6.06213  0.823983  1.14155   0.000557776\n",
       " 401 │    32271  16765  Dies Irae                          ['Action', 'Military', 'Super Po…  tv       5.63985  0.434186  0.778495  0.000228489\n",
       " 402 │    35252   2460  Hatena☆Illusion                    ['Comedy', 'Ecchi', 'Romance', '…  tv       5.87137  0.562916  1.02175   0.000120514\n",
       " 403 │    36510   3676  Ulysses: Jehanne Darc to Renkin …  ['Action', 'Fantasy']              tv       5.6843   0.515026  0.878531  0.000171181\n",
       " 404 │    15605  11818  Brothers Conflict                  ['Harem', 'Romance', 'Shoujo']     tv       6.02902  0.147674  1.26417   0.000119602\n",
       " 405 │    49292  12258  Deep Insanity: The Lost Child      ['Sci-Fi']                         tv       5.67254  0.473108  1.07289   7.20272e-5\n",
       " 406 │    36632   3798  Ore ga Suki nano wa Imouto daked…  ['Comedy', 'Ecchi', 'Romance']     tv       5.19735  0.515983  0.933987  0.000370122\n",
       " 407 │    17513  12697  Diabolik Lovers                    ['Harem', 'School', 'Shoujo', 'V…  tv       5.35264  0.344626  1.28439   0.000186239\n",
       " 408 │    40074   6963  Gibiate                            ['Action', 'Fantasy', 'Horror', …  tv       4.6618   0.81612   1.20229   0.000100202\n",
       " 409 │    19315  13179  Pupa                               ['Fantasy', 'Horror', 'Psycholog…  tv       3.80198  0.199661  1.49703   0.000324246\n",
       "\u001b[36m                                                                                                                                318 rows omitted\u001b[0m"
      ]
     },
     "execution_count": 19,
     "metadata": {},
     "output_type": "execute_result"
    }
   ],
   "source": [
    "filter(x -> x.medium == \"tv\", rec_df |> sampling_filter) |> pretty_display"
   ]
  },
  {
   "cell_type": "code",
   "execution_count": 20,
   "id": "f11991a0-e1a9-48c9-be63-99923a5f67da",
   "metadata": {},
   "outputs": [],
   "source": [
    "# sort!(\n",
    "#     filter(\n",
    "#         x -> x.p >= min_p,\n",
    "#         filter(x -> x.alpha .> min_alpha, filter(x -> x.medium == \"tv\", rec_df)),\n",
    "#     ),\n",
    "#     :score,\n",
    "#     rev = true,\n",
    "# ).title[1:50]"
   ]
  },
  {
   "cell_type": "code",
   "execution_count": 21,
   "id": "cac84730-10b8-46b2-a9cb-91ea7494988d",
   "metadata": {},
   "outputs": [
    {
     "data": {
      "text/html": [
       "<div class=\"data-frame\"><p>459 rows × 9 columns</p><table class=\"data-frame\"><thead><tr><th></th><th>anime_id</th><th>uid</th><th>title</th><th>genres</th><th>medium</th><th>rating</th><th>alpha</th><th>std</th><th>p</th></tr><tr><th></th><th title=\"Int64\">Int64</th><th title=\"Int64\">Int64</th><th title=\"String\">String</th><th title=\"String\">String</th><th title=\"String7\">String7</th><th title=\"Float64\">Float64</th><th title=\"Float64\">Float64</th><th title=\"Float64\">Float64</th><th title=\"Float64\">Float64</th></tr></thead><tbody><tr><th>1</th><td>19</td><td>17</td><td>Monster</td><td>[&apos;Drama&apos;, &apos;Horror&apos;, &apos;Mystery&apos;, &apos;Police&apos;, &apos;Psychological&apos;, &apos;Seinen&apos;, &apos;Suspense&apos;]</td><td>tv</td><td>9.57911</td><td>0.179291</td><td>0.783126</td><td>0.000450352</td></tr><tr><th>2</th><td>877</td><td>864</td><td>Nana</td><td>[&apos;Comedy&apos;, &apos;Drama&apos;, &apos;Music&apos;, &apos;Romance&apos;, &apos;Shoujo&apos;, &apos;Slice of Life&apos;]</td><td>tv</td><td>9.42157</td><td>0.703496</td><td>0.69414</td><td>0.000161927</td></tr><tr><th>3</th><td>12431</td><td>10569</td><td>Uchuu Kyoudai</td><td>[&apos;Comedy&apos;, &apos;Sci-Fi&apos;, &apos;Seinen&apos;, &apos;Slice of Life&apos;, &apos;Space&apos;]</td><td>tv</td><td>9.37633</td><td>0.404755</td><td>0.691916</td><td>0.000164613</td></tr><tr><th>4</th><td>12531</td><td>10615</td><td>Sakamichi no Apollon</td><td>[&apos;Drama&apos;, &apos;Josei&apos;, &apos;Music&apos;, &apos;Romance&apos;, &apos;School&apos;]</td><td>tv</td><td>9.13093</td><td>0.374252</td><td>0.626664</td><td>0.00022669</td></tr><tr><th>5</th><td>5941</td><td>5678</td><td>Cross Game</td><td>[&apos;Comedy&apos;, &apos;Drama&apos;, &apos;Romance&apos;, &apos;School&apos;, &apos;Shounen&apos;, &apos;Sports&apos;]</td><td>tv</td><td>9.23264</td><td>0.394292</td><td>0.736427</td><td>8.54747e-5</td></tr><tr><th>6</th><td>12355</td><td>10536</td><td>Ookami Kodomo no Ame to Yuki</td><td>[&apos;Fantasy&apos;, &apos;Slice of Life&apos;]</td><td>movie</td><td>9.21048</td><td>0.247287</td><td>0.734339</td><td>0.000677486</td></tr><tr><th>7</th><td>57</td><td>55</td><td>Beck</td><td>[&apos;Comedy&apos;, &apos;Drama&apos;, &apos;Music&apos;, &apos;Shounen&apos;, &apos;Slice of Life&apos;]</td><td>tv</td><td>9.04127</td><td>0.471829</td><td>0.586103</td><td>0.000148104</td></tr><tr><th>8</th><td>12365</td><td>10541</td><td>Bakuman. 3rd Season</td><td>[&apos;Comedy&apos;, &apos;Drama&apos;, &apos;Romance&apos;, &apos;Shounen&apos;]</td><td>tv</td><td>9.09822</td><td>0.182425</td><td>0.645067</td><td>0.000497861</td></tr><tr><th>9</th><td>239</td><td>235</td><td>Gankutsuou</td><td>[&apos;Drama&apos;, &apos;Mystery&apos;, &apos;Sci-Fi&apos;, &apos;Supernatural&apos;, &apos;Suspense&apos;]</td><td>tv</td><td>9.07008</td><td>0.303079</td><td>0.633981</td><td>9.18222e-5</td></tr><tr><th>10</th><td>329</td><td>327</td><td>Planetes</td><td>[&apos;Drama&apos;, &apos;Romance&apos;, &apos;Sci-Fi&apos;, &apos;Seinen&apos;, &apos;Space&apos;]</td><td>tv</td><td>9.05609</td><td>0.194288</td><td>0.646657</td><td>0.000155614</td></tr><tr><th>11</th><td>36098</td><td>3284</td><td>Kimi no Suizou wo Tabetai</td><td>[&apos;Drama&apos;, &apos;Romance&apos;, &apos;Slice of Life&apos;]</td><td>movie</td><td>9.02768</td><td>0.266972</td><td>0.657165</td><td>0.00104234</td></tr><tr><th>12</th><td>35851</td><td>3051</td><td>Sayonara no Asa ni Yakusoku no Hana wo Kazarou</td><td>[&apos;Drama&apos;, &apos;Fantasy&apos;]</td><td>movie</td><td>9.00168</td><td>0.249214</td><td>0.63899</td><td>0.000379796</td></tr><tr><th>13</th><td>37965</td><td>5019</td><td>Kaze ga Tsuyoku Fuiteiru</td><td>[&apos;Drama&apos;, &apos;Sports&apos;]</td><td>tv</td><td>8.94232</td><td>0.114608</td><td>0.590573</td><td>0.000372341</td></tr><tr><th>14</th><td>2164</td><td>2146</td><td>Dennou Coil</td><td>[&apos;Adventure&apos;, &apos;Comedy&apos;, &apos;Drama&apos;, &apos;Mystery&apos;, &apos;Sci-Fi&apos;]</td><td>tv</td><td>8.94181</td><td>0.284984</td><td>0.736643</td><td>5.8564e-5</td></tr><tr><th>15</th><td>34636</td><td>1850</td><td>Ballroom e Youkoso</td><td>[&apos;Comedy&apos;, &apos;Drama&apos;, &apos;Romance&apos;, &apos;School&apos;, &apos;Shounen&apos;, &apos;Sports&apos;]</td><td>tv</td><td>8.85222</td><td>0.431543</td><td>0.647171</td><td>0.000460644</td></tr><tr><th>16</th><td>38889</td><td>5855</td><td>Kono Oto Tomare! 2nd Season</td><td>[&apos;Drama&apos;, &apos;Music&apos;, &apos;Romance&apos;, &apos;School&apos;, &apos;Shounen&apos;]</td><td>tv</td><td>8.76393</td><td>0.102055</td><td>0.582024</td><td>0.00027871</td></tr><tr><th>17</th><td>135</td><td>139</td><td>Hikaru no Go</td><td>[&apos;Comedy&apos;, &apos;Game&apos;, &apos;Shounen&apos;, &apos;Supernatural&apos;]</td><td>tv</td><td>8.86111</td><td>0.532064</td><td>0.681206</td><td>5.97041e-5</td></tr><tr><th>18</th><td>9289</td><td>8572</td><td>Hanasaku Iroha</td><td>[&apos;Comedy&apos;, &apos;Drama&apos;, &apos;Slice of Life&apos;]</td><td>tv</td><td>8.93998</td><td>0.749248</td><td>0.763337</td><td>0.00038665</td></tr><tr><th>19</th><td>37520</td><td>4608</td><td>Dororo</td><td>[&apos;Action&apos;, &apos;Adventure&apos;, &apos;Demons&apos;, &apos;Historical&apos;, &apos;Samurai&apos;, &apos;Shounen&apos;, &apos;Supernatural&apos;]</td><td>tv</td><td>8.77164</td><td>0.355514</td><td>0.63205</td><td>0.000681784</td></tr><tr><th>20</th><td>5682</td><td>5438</td><td>Phantom: Requiem for the Phantom</td><td>[&apos;Action&apos;, &apos;Drama&apos;, &apos;Seinen&apos;, &apos;Suspense&apos;]</td><td>tv</td><td>8.91883</td><td>0.75091</td><td>0.799643</td><td>0.000291809</td></tr><tr><th>21</th><td>28725</td><td>15281</td><td>Kokoro ga Sakebitagatterunda.</td><td>[&apos;Drama&apos;, &apos;Romance&apos;, &apos;School&apos;]</td><td>movie</td><td>8.84581</td><td>0.660269</td><td>0.739891</td><td>0.000468</td></tr><tr><th>22</th><td>36649</td><td>3815</td><td>Banana Fish</td><td>[&apos;Action&apos;, &apos;Adventure&apos;, &apos;Drama&apos;, &apos;Shoujo&apos;]</td><td>tv</td><td>8.79936</td><td>0.242959</td><td>0.698481</td><td>0.000364611</td></tr><tr><th>23</th><td>10800</td><td>9816</td><td>Chihayafuru</td><td>[&apos;Drama&apos;, &apos;Game&apos;, &apos;Josei&apos;, &apos;School&apos;, &apos;Slice of Life&apos;, &apos;Sports&apos;]</td><td>tv</td><td>8.80888</td><td>0.222628</td><td>0.712988</td><td>0.000468124</td></tr><tr><th>24</th><td>10721</td><td>9741</td><td>Mawaru Penguindrum</td><td>[&apos;Avant Garde&apos;, &apos;Comedy&apos;, &apos;Drama&apos;, &apos;Mystery&apos;, &apos;Psychological&apos;]</td><td>tv</td><td>8.81268</td><td>0.340597</td><td>0.735864</td><td>0.000293278</td></tr><tr><th>25</th><td>10408</td><td>9463</td><td>Hotarubi no Mori e</td><td>[&apos;Drama&apos;, &apos;Romance&apos;, &apos;Shoujo&apos;, &apos;Supernatural&apos;]</td><td>movie</td><td>8.89225</td><td>0.33893</td><td>0.818932</td><td>0.000628376</td></tr><tr><th>26</th><td>32729</td><td>16950</td><td>Orange</td><td>[&apos;Drama&apos;, &apos;Romance&apos;, &apos;School&apos;, &apos;Sci-Fi&apos;, &apos;Shoujo&apos;]</td><td>tv</td><td>8.77538</td><td>1.08681</td><td>0.745878</td><td>0.000853492</td></tr><tr><th>27</th><td>8425</td><td>7939</td><td>Gosick</td><td>[&apos;Drama&apos;, &apos;Historical&apos;, &apos;Mystery&apos;, &apos;Romance&apos;]</td><td>tv</td><td>8.92925</td><td>0.737467</td><td>0.917903</td><td>0.00066039</td></tr><tr><th>28</th><td>7674</td><td>7296</td><td>Bakuman.</td><td>[&apos;Comedy&apos;, &apos;Drama&apos;, &apos;Romance&apos;, &apos;Shounen&apos;]</td><td>tv</td><td>8.69878</td><td>0.237556</td><td>0.701377</td><td>0.000619728</td></tr><tr><th>29</th><td>8142</td><td>7687</td><td>Colorful (Movie)</td><td>[&apos;Drama&apos;, &apos;Slice of Life&apos;, &apos;Supernatural&apos;]</td><td>movie</td><td>8.76853</td><td>0.484626</td><td>0.779412</td><td>0.000143924</td></tr><tr><th>30</th><td>21995</td><td>13830</td><td>Ao Haru Ride</td><td>[&apos;Drama&apos;, &apos;Romance&apos;, &apos;School&apos;, &apos;Shoujo&apos;, &apos;Slice of Life&apos;]</td><td>tv</td><td>8.74272</td><td>1.0388</td><td>0.78384</td><td>0.000925938</td></tr><tr><th>31</th><td>45</td><td>43</td><td>Rurouni Kenshin: Meiji Kenkaku Romantan</td><td>[&apos;Action&apos;, &apos;Adventure&apos;, &apos;Comedy&apos;, &apos;Historical&apos;, &apos;Romance&apos;, &apos;Samurai&apos;, &apos;Shounen&apos;]</td><td>tv</td><td>8.56726</td><td>0.130459</td><td>0.628391</td><td>0.000183799</td></tr><tr><th>32</th><td>2236</td><td>2218</td><td>Toki wo Kakeru Shoujo</td><td>[&apos;Drama&apos;, &apos;Romance&apos;, &apos;School&apos;, &apos;Sci-Fi&apos;]</td><td>movie</td><td>8.75184</td><td>0.227814</td><td>0.817692</td><td>0.000657721</td></tr><tr><th>33</th><td>21557</td><td>13715</td><td>Omoide no Marnie</td><td>[&apos;Drama&apos;, &apos;Mystery&apos;, &apos;Psychological&apos;]</td><td>movie</td><td>8.75145</td><td>0.241845</td><td>0.822822</td><td>0.000193568</td></tr><tr><th>34</th><td>18245</td><td>12895</td><td>White Album 2</td><td>[&apos;Drama&apos;, &apos;Music&apos;, &apos;Romance&apos;, &apos;Slice of Life&apos;]</td><td>tv</td><td>8.72652</td><td>0.776108</td><td>0.804837</td><td>0.000562897</td></tr><tr><th>35</th><td>39198</td><td>6153</td><td>Kanata no Astra</td><td>[&apos;Adventure&apos;, &apos;Mystery&apos;, &apos;Sci-Fi&apos;, &apos;Shounen&apos;, &apos;Space&apos;]</td><td>tv</td><td>8.54856</td><td>0.175212</td><td>0.641693</td><td>0.000513124</td></tr><tr><th>36</th><td>30709</td><td>16058</td><td>Kamisama Hajimemashita: Kako-hen</td><td>[&apos;Comedy&apos;, &apos;Demons&apos;, &apos;Fantasy&apos;, &apos;Romance&apos;, &apos;Shoujo&apos;, &apos;Supernatural&apos;]</td><td>ova</td><td>8.65118</td><td>0.162149</td><td>0.756621</td><td>9.33692e-5</td></tr><tr><th>37</th><td>32867</td><td>98</td><td>Bungou Stray Dogs 2nd Season</td><td>[&apos;Action&apos;, &apos;Mystery&apos;, &apos;Seinen&apos;, &apos;Super Power&apos;, &apos;Supernatural&apos;]</td><td>tv</td><td>8.62005</td><td>0.239477</td><td>0.727206</td><td>0.000728741</td></tr><tr><th>38</th><td>12445</td><td>10576</td><td>Tasogare Otome x Amnesia</td><td>[&apos;Horror&apos;, &apos;Mystery&apos;, &apos;Romance&apos;, &apos;School&apos;, &apos;Shounen&apos;, &apos;Supernatural&apos;]</td><td>tv</td><td>8.67476</td><td>0.80604</td><td>0.791908</td><td>0.000749552</td></tr><tr><th>39</th><td>25013</td><td>14592</td><td>Akatsuki no Yona</td><td>[&apos;Action&apos;, &apos;Adventure&apos;, &apos;Comedy&apos;, &apos;Fantasy&apos;, &apos;Romance&apos;, &apos;Shoujo&apos;]</td><td>tv</td><td>8.72917</td><td>0.53547</td><td>0.858659</td><td>0.000956594</td></tr><tr><th>40</th><td>237</td><td>233</td><td>Koukyoushihen Eureka Seven</td><td>[&apos;Adventure&apos;, &apos;Drama&apos;, &apos;Mecha&apos;, &apos;Romance&apos;, &apos;Sci-Fi&apos;]</td><td>tv</td><td>8.73776</td><td>0.521423</td><td>0.924275</td><td>0.000304271</td></tr><tr><th>41</th><td>12189</td><td>10491</td><td>Hyouka</td><td>[&apos;Mystery&apos;, &apos;School&apos;, &apos;Slice of Life&apos;]</td><td>tv</td><td>8.66746</td><td>0.402918</td><td>0.860881</td><td>0.00184167</td></tr><tr><th>42</th><td>202</td><td>200</td><td>Wolf&apos;s Rain</td><td>[&apos;Action&apos;, &apos;Adventure&apos;, &apos;Drama&apos;, &apos;Fantasy&apos;, &apos;Mystery&apos;, &apos;Sci-Fi&apos;]</td><td>tv</td><td>8.67405</td><td>0.627754</td><td>0.897821</td><td>6.34542e-5</td></tr><tr><th>43</th><td>7724</td><td>7341</td><td>Shiki</td><td>[&apos;Horror&apos;, &apos;Mystery&apos;, &apos;Psychological&apos;, &apos;Supernatural&apos;, &apos;Suspense&apos;, &apos;Vampire&apos;]</td><td>tv</td><td>8.51686</td><td>0.478159</td><td>0.74479</td><td>0.000560591</td></tr><tr><th>44</th><td>37435</td><td>4530</td><td>Carole &amp; Tuesday</td><td>[&apos;Drama&apos;, &apos;Music&apos;, &apos;Sci-Fi&apos;]</td><td>tv</td><td>8.54126</td><td>0.314739</td><td>0.773412</td><td>0.000336496</td></tr><tr><th>45</th><td>16782</td><td>12381</td><td>Kotonoha no Niwa</td><td>[&apos;Drama&apos;, &apos;Romance&apos;, &apos;Slice of Life&apos;]</td><td>movie</td><td>8.53369</td><td>0.204294</td><td>0.7701</td><td>0.00116644</td></tr><tr><th>46</th><td>14713</td><td>11419</td><td>Kamisama Hajimemashita</td><td>[&apos;Comedy&apos;, &apos;Demons&apos;, &apos;Fantasy&apos;, &apos;Romance&apos;, &apos;Shoujo&apos;, &apos;Supernatural&apos;]</td><td>tv</td><td>8.47917</td><td>0.460792</td><td>0.720294</td><td>0.000275387</td></tr><tr><th>47</th><td>21185</td><td>13623</td><td>Baby Steps</td><td>[&apos;Romance&apos;, &apos;School&apos;, &apos;Shounen&apos;, &apos;Sports&apos;]</td><td>tv</td><td>8.4599</td><td>0.397775</td><td>0.705732</td><td>0.000292931</td></tr><tr><th>48</th><td>32998</td><td>226</td><td>91 Days</td><td>[&apos;Action&apos;, &apos;Drama&apos;, &apos;Historical&apos;]</td><td>tv</td><td>8.55031</td><td>0.449074</td><td>0.814586</td><td>0.000609515</td></tr><tr><th>49</th><td>6045</td><td>5779</td><td>Kimi ni Todoke</td><td>[&apos;Drama&apos;, &apos;Romance&apos;, &apos;School&apos;, &apos;Shoujo&apos;, &apos;Slice of Life&apos;]</td><td>tv</td><td>8.46091</td><td>0.329956</td><td>0.741085</td><td>0.000530382</td></tr><tr><th>50</th><td>30123</td><td>15790</td><td>Akagami no Shirayuki-hime</td><td>[&apos;Drama&apos;, &apos;Fantasy&apos;, &apos;Romance&apos;, &apos;Shoujo&apos;]</td><td>tv</td><td>8.34219</td><td>0.503572</td><td>0.624884</td><td>0.000643772</td></tr><tr><th>51</th><td>28297</td><td>15181</td><td>Ore Monogatari!!</td><td>[&apos;Comedy&apos;, &apos;Romance&apos;, &apos;Shoujo&apos;]</td><td>tv</td><td>8.45586</td><td>0.321057</td><td>0.746964</td><td>0.000749228</td></tr><tr><th>52</th><td>21327</td><td>13647</td><td>Isshuukan Friends.</td><td>[&apos;Comedy&apos;, &apos;School&apos;, &apos;Shounen&apos;, &apos;Slice of Life&apos;]</td><td>tv</td><td>8.51593</td><td>0.802917</td><td>0.81705</td><td>0.000608377</td></tr><tr><th>53</th><td>38080</td><td>5132</td><td>Kono Oto Tomare!</td><td>[&apos;Drama&apos;, &apos;Music&apos;, &apos;Romance&apos;, &apos;School&apos;, &apos;Shounen&apos;]</td><td>tv</td><td>8.2918</td><td>0.273489</td><td>0.620822</td><td>0.000246938</td></tr><tr><th>54</th><td>35062</td><td>2276</td><td>Mahoutsukai no Yome</td><td>[&apos;Fantasy&apos;, &apos;Shounen&apos;, &apos;Slice of Life&apos;]</td><td>tv</td><td>8.42915</td><td>0.199491</td><td>0.75934</td><td>0.0012028</td></tr><tr><th>55</th><td>9941</td><td>9107</td><td>Tiger &amp; Bunny</td><td>[&apos;Action&apos;, &apos;Comedy&apos;, &apos;Mystery&apos;, &apos;Super Power&apos;]</td><td>tv</td><td>8.50078</td><td>0.248748</td><td>0.831728</td><td>0.000105788</td></tr><tr><th>56</th><td>7711</td><td>7328</td><td>Karigurashi no Arrietty</td><td>[&apos;Fantasy&apos;]</td><td>movie</td><td>8.44594</td><td>0.145974</td><td>0.79164</td><td>0.000154198</td></tr><tr><th>57</th><td>22101</td><td>13856</td><td>Soredemo Sekai wa Utsukushii</td><td>[&apos;Adventure&apos;, &apos;Fantasy&apos;, &apos;Romance&apos;, &apos;Shoujo&apos;]</td><td>tv</td><td>8.43888</td><td>0.746937</td><td>0.79013</td><td>0.000364248</td></tr><tr><th>58</th><td>37497</td><td>4587</td><td>Irozuku Sekai no Ashita kara</td><td>[&apos;Drama&apos;, &apos;Romance&apos;, &apos;School&apos;]</td><td>tv</td><td>8.36067</td><td>0.748703</td><td>0.722033</td><td>0.000728026</td></tr><tr><th>59</th><td>11739</td><td>10343</td><td>Kimi to Boku. 2</td><td>[&apos;Comedy&apos;, &apos;Drama&apos;, &apos;Romance&apos;, &apos;School&apos;, &apos;Shounen&apos;, &apos;Slice of Life&apos;]</td><td>tv</td><td>8.35973</td><td>0.176703</td><td>0.730702</td><td>7.81276e-5</td></tr><tr><th>60</th><td>25681</td><td>14728</td><td>Kamisama Hajimemashita◎</td><td>[&apos;Comedy&apos;, &apos;Demons&apos;, &apos;Fantasy&apos;, &apos;Romance&apos;, &apos;Shoujo&apos;, &apos;Supernatural&apos;]</td><td>tv</td><td>8.43844</td><td>0.237563</td><td>0.812341</td><td>0.000176908</td></tr><tr><th>61</th><td>2025</td><td>2007</td><td>Darker than Black: Kuro no Keiyakusha</td><td>[&apos;Action&apos;, &apos;Mystery&apos;, &apos;Sci-Fi&apos;, &apos;Super Power&apos;]</td><td>tv</td><td>8.48749</td><td>0.16733</td><td>0.865289</td><td>0.000704555</td></tr><tr><th>62</th><td>790</td><td>780</td><td>Ergo Proxy</td><td>[&apos;Mystery&apos;, &apos;Psychological&apos;, &apos;Sci-Fi&apos;]</td><td>tv</td><td>8.73398</td><td>0.442661</td><td>1.11371</td><td>0.000298853</td></tr><tr><th>63</th><td>34547</td><td>1763</td><td>Shoukoku no Altair</td><td>[&apos;Adventure&apos;, &apos;Drama&apos;, &apos;Fantasy&apos;, &apos;Historical&apos;, &apos;Military&apos;, &apos;Shounen&apos;]</td><td>tv</td><td>8.4311</td><td>0.950773</td><td>0.811708</td><td>0.000153058</td></tr><tr><th>64</th><td>1571</td><td>1555</td><td>Ghost Hunt</td><td>[&apos;Horror&apos;, &apos;Mystery&apos;, &apos;Shoujo&apos;, &apos;Supernatural&apos;]</td><td>tv</td><td>8.54396</td><td>0.655196</td><td>0.927169</td><td>0.000110056</td></tr><tr><th>65</th><td>31173</td><td>16292</td><td>Akagami no Shirayuki-hime 2nd Season</td><td>[&apos;Drama&apos;, &apos;Fantasy&apos;, &apos;Romance&apos;, &apos;Shoujo&apos;]</td><td>tv</td><td>8.25379</td><td>0.169368</td><td>0.639488</td><td>0.000325448</td></tr><tr><th>66</th><td>5530</td><td>5303</td><td>Pandora Hearts</td><td>[&apos;Adventure&apos;, &apos;Fantasy&apos;, &apos;Mystery&apos;, &apos;Shounen&apos;, &apos;Supernatural&apos;]</td><td>tv</td><td>8.53468</td><td>0.759556</td><td>0.931218</td><td>0.00018496</td></tr><tr><th>67</th><td>9000</td><td>8396</td><td>Toaru Hikuushi e no Tsuioku</td><td>[&apos;Adventure&apos;, &apos;Military&apos;, &apos;Romance&apos;]</td><td>movie</td><td>8.28446</td><td>0.352492</td><td>0.689532</td><td>6.98633e-5</td></tr><tr><th>68</th><td>38145</td><td>5197</td><td>Doukyonin wa Hiza, Tokidoki, Atama no Ue.</td><td>[&apos;Comedy&apos;, &apos;Slice of Life&apos;]</td><td>tv</td><td>8.13285</td><td>0.171771</td><td>0.557612</td><td>0.000318821</td></tr><tr><th>69</th><td>9863</td><td>9035</td><td>SKET Dance</td><td>[&apos;Comedy&apos;, &apos;School&apos;, &apos;Shounen&apos;]</td><td>tv</td><td>8.47196</td><td>0.242504</td><td>0.902542</td><td>0.00020449</td></tr><tr><th>70</th><td>4722</td><td>4580</td><td>Skip Beat!</td><td>[&apos;Comedy&apos;, &apos;Drama&apos;, &apos;Romance&apos;, &apos;Shoujo&apos;]</td><td>tv</td><td>8.49501</td><td>0.271586</td><td>0.939339</td><td>8.50043e-5</td></tr><tr><th>71</th><td>33337</td><td>565</td><td>ACCA: 13-ku Kansatsu-ka</td><td>[&apos;Drama&apos;, &apos;Fantasy&apos;, &apos;Mystery&apos;, &apos;Police&apos;, &apos;Seinen&apos;]</td><td>tv</td><td>8.25129</td><td>0.173054</td><td>0.701179</td><td>0.000180582</td></tr><tr><th>72</th><td>1482</td><td>1468</td><td>D.Gray-man</td><td>[&apos;Action&apos;, &apos;Adventure&apos;, &apos;Comedy&apos;, &apos;Demons&apos;, &apos;Shounen&apos;, &apos;Super Power&apos;]</td><td>tv</td><td>8.44871</td><td>0.415802</td><td>0.909338</td><td>0.000282738</td></tr><tr><th>73</th><td>30187</td><td>15834</td><td>Sakurako-san no Ashimoto ni wa Shitai ga Umatteiru</td><td>[&apos;Drama&apos;, &apos;Mystery&apos;, &apos;Suspense&apos;]</td><td>tv</td><td>8.26785</td><td>0.72411</td><td>0.72941</td><td>0.0004923</td></tr><tr><th>74</th><td>22145</td><td>13865</td><td>Kuroshitsuji: Book of Circus</td><td>[&apos;Action&apos;, &apos;Comedy&apos;, &apos;Demons&apos;, &apos;Historical&apos;, &apos;Mystery&apos;, &apos;Shounen&apos;, &apos;Supernatural&apos;]</td><td>tv</td><td>8.46309</td><td>0.173369</td><td>0.926755</td><td>0.000220344</td></tr><tr><th>75</th><td>12883</td><td>10775</td><td>Tsuritama</td><td>[&apos;Comedy&apos;, &apos;Sci-Fi&apos;, &apos;Slice of Life&apos;, &apos;Sports&apos;]</td><td>tv</td><td>8.15696</td><td>0.221946</td><td>0.631303</td><td>7.76943e-5</td></tr><tr><th>76</th><td>10460</td><td>9494</td><td>Kimi to Boku.</td><td>[&apos;Comedy&apos;, &apos;Drama&apos;, &apos;Romance&apos;, &apos;School&apos;, &apos;Shounen&apos;, &apos;Slice of Life&apos;]</td><td>tv</td><td>8.22546</td><td>0.423197</td><td>0.703684</td><td>0.000147782</td></tr><tr><th>77</th><td>32948</td><td>178</td><td>Fune wo Amu</td><td>[&apos;Drama&apos;, &apos;Romance&apos;, &apos;Slice of Life&apos;]</td><td>tv</td><td>8.3774</td><td>0.290224</td><td>0.859026</td><td>0.000145844</td></tr><tr><th>78</th><td>10049</td><td>9205</td><td>Nurarihyon no Mago: Sennen Makyou</td><td>[&apos;Action&apos;, &apos;Demons&apos;, &apos;Shounen&apos;, &apos;Supernatural&apos;]</td><td>tv</td><td>8.37396</td><td>0.287588</td><td>0.861049</td><td>0.000133382</td></tr><tr><th>79</th><td>16009</td><td>12006</td><td>Kamisama no Inai Nichiyoubi</td><td>[&apos;Adventure&apos;, &apos;Fantasy&apos;, &apos;Mystery&apos;]</td><td>tv</td><td>8.24702</td><td>0.804943</td><td>0.745415</td><td>0.000260249</td></tr><tr><th>80</th><td>36220</td><td>3400</td><td>Itsudatte Bokura no Koi wa 10 cm Datta.</td><td>[&apos;Comedy&apos;, &apos;Drama&apos;, &apos;Romance&apos;, &apos;School&apos;]</td><td>tv</td><td>8.11635</td><td>0.5196</td><td>0.617815</td><td>0.000396319</td></tr><tr><th>81</th><td>3588</td><td>3531</td><td>Soul Eater</td><td>[&apos;Action&apos;, &apos;Comedy&apos;, &apos;Fantasy&apos;, &apos;Shounen&apos;, &apos;Supernatural&apos;]</td><td>tv</td><td>8.29537</td><td>0.293711</td><td>0.801947</td><td>0.000850048</td></tr><tr><th>82</th><td>5074</td><td>4898</td><td>Tetsuwan Birdy Decode:02</td><td>[&apos;Action&apos;, &apos;Comedy&apos;, &apos;Sci-Fi&apos;]</td><td>tv</td><td>8.42028</td><td>0.359578</td><td>0.943119</td><td>8.3557e-5</td></tr><tr><th>83</th><td>10568</td><td>9598</td><td>Kamisama no Memochou</td><td>[&apos;Mystery&apos;]</td><td>tv</td><td>8.3195</td><td>0.753146</td><td>0.861431</td><td>0.000262209</td></tr><tr><th>84</th><td>36653</td><td>3819</td><td>Tsurune: Kazemai Koukou Kyuudoubu</td><td>[&apos;Drama&apos;, &apos;School&apos;, &apos;Sports&apos;]</td><td>tv</td><td>8.18075</td><td>0.362494</td><td>0.724941</td><td>0.000110087</td></tr><tr><th>85</th><td>150</td><td>148</td><td>Blood+</td><td>[&apos;Action&apos;, &apos;Drama&apos;, &apos;Horror&apos;, &apos;Military&apos;, &apos;Mystery&apos;, &apos;Supernatural&apos;, &apos;Vampire&apos;]</td><td>tv</td><td>8.36141</td><td>0.698851</td><td>0.91047</td><td>9.38118e-5</td></tr><tr><th>86</th><td>1604</td><td>1588</td><td>Katekyo Hitman Reborn!</td><td>[&apos;Action&apos;, &apos;Comedy&apos;, &apos;Shounen&apos;, &apos;Super Power&apos;]</td><td>tv</td><td>8.31671</td><td>0.283278</td><td>0.872107</td><td>0.000294834</td></tr><tr><th>87</th><td>28249</td><td>15174</td><td>Arslan Senki (TV)</td><td>[&apos;Action&apos;, &apos;Adventure&apos;, &apos;Drama&apos;, &apos;Fantasy&apos;, &apos;Historical&apos;, &apos;Shounen&apos;]</td><td>tv</td><td>8.2261</td><td>0.345827</td><td>0.786325</td><td>0.000351967</td></tr><tr><th>88</th><td>25183</td><td>14639</td><td>Gangsta.</td><td>[&apos;Action&apos;, &apos;Drama&apos;, &apos;Seinen&apos;]</td><td>tv</td><td>8.06189</td><td>0.560485</td><td>0.626972</td><td>0.000730732</td></tr><tr><th>89</th><td>37972</td><td>5028</td><td>Hoshiai no Sora</td><td>[&apos;Drama&apos;, &apos;School&apos;, &apos;Slice of Life&apos;, &apos;Sports&apos;]</td><td>tv</td><td>8.03246</td><td>0.239001</td><td>0.598952</td><td>0.000221071</td></tr><tr><th>90</th><td>38753</td><td>5719</td><td>Araburu Kisetsu no Otome-domo yo.</td><td>[&apos;Comedy&apos;, &apos;Drama&apos;, &apos;Romance&apos;, &apos;School&apos;, &apos;Shounen&apos;]</td><td>tv</td><td>7.93323</td><td>0.213647</td><td>0.499984</td><td>0.000797158</td></tr><tr><th>91</th><td>9656</td><td>8871</td><td>Kimi ni Todoke 2nd Season</td><td>[&apos;Drama&apos;, &apos;Romance&apos;, &apos;School&apos;, &apos;Shoujo&apos;, &apos;Slice of Life&apos;]</td><td>tv</td><td>8.37114</td><td>0.244952</td><td>0.939742</td><td>0.000348745</td></tr><tr><th>92</th><td>4981</td><td>4819</td><td>Casshern Sins</td><td>[&apos;Action&apos;, &apos;Adventure&apos;, &apos;Drama&apos;, &apos;Psychological&apos;, &apos;Sci-Fi&apos;]</td><td>tv</td><td>8.32821</td><td>0.3628</td><td>0.899282</td><td>0.000128252</td></tr><tr><th>93</th><td>5507</td><td>5285</td><td>Senjou no Valkyria</td><td>[&apos;Action&apos;, &apos;Military&apos;, &apos;Romance&apos;]</td><td>tv</td><td>8.24589</td><td>0.578753</td><td>0.82902</td><td>0.00012052</td></tr><tr><th>94</th><td>34494</td><td>1711</td><td>Sakura Quest</td><td>[&apos;Comedy&apos;, &apos;Slice of Life&apos;]</td><td>tv</td><td>8.16218</td><td>0.571373</td><td>0.761303</td><td>0.000344854</td></tr><tr><th>95</th><td>32828</td><td>58</td><td>Amaama to Inazuma</td><td>[&apos;Comedy&apos;, &apos;Gourmet&apos;, &apos;Seinen&apos;, &apos;Slice of Life&apos;]</td><td>tv</td><td>7.9751</td><td>0.27747</td><td>0.601111</td><td>0.000703673</td></tr><tr><th>96</th><td>4725</td><td>4583</td><td>Ga-Rei: Zero</td><td>[&apos;Action&apos;, &apos;Super Power&apos;, &apos;Supernatural&apos;, &apos;Suspense&apos;]</td><td>tv</td><td>8.15587</td><td>0.368759</td><td>0.786408</td><td>0.000196117</td></tr><tr><th>97</th><td>6408</td><td>6132</td><td>&quot;Bungaku Shoujo&quot; Movie</td><td>[&apos;Drama&apos;, &apos;Mystery&apos;, &apos;Romance&apos;, &apos;School&apos;]</td><td>movie</td><td>8.23621</td><td>0.640259</td><td>0.867248</td><td>6.16163e-5</td></tr><tr><th>98</th><td>21603</td><td>13731</td><td>Mekakucity Actors</td><td>[&apos;Comedy&apos;, &apos;Sci-Fi&apos;, &apos;Super Power&apos;, &apos;Supernatural&apos;]</td><td>tv</td><td>8.14732</td><td>1.03764</td><td>0.780118</td><td>0.000836103</td></tr><tr><th>99</th><td>23673</td><td>14316</td><td>Ookami Shoujo to Kuro Ouji</td><td>[&apos;Comedy&apos;, &apos;Romance&apos;, &apos;School&apos;, &apos;Shoujo&apos;]</td><td>tv</td><td>8.1407</td><td>1.02738</td><td>0.774323</td><td>0.000446695</td></tr><tr><th>100</th><td>24405</td><td>14460</td><td>World Trigger</td><td>[&apos;Action&apos;, &apos;School&apos;, &apos;Sci-Fi&apos;, &apos;Shounen&apos;, &apos;Supernatural&apos;]</td><td>tv</td><td>8.16903</td><td>0.750685</td><td>0.807338</td><td>0.00042773</td></tr><tr><th>&vellip;</th><td>&vellip;</td><td>&vellip;</td><td>&vellip;</td><td>&vellip;</td><td>&vellip;</td><td>&vellip;</td><td>&vellip;</td><td>&vellip;</td><td>&vellip;</td></tr></tbody></table></div>"
      ],
      "text/latex": [
       "\\begin{tabular}{r|ccccccccc}\n",
       "\t& anime\\_id & uid & title & genres & medium & rating & alpha & std & p\\\\\n",
       "\t\\hline\n",
       "\t& Int64 & Int64 & String & String & String7 & Float64 & Float64 & Float64 & Float64\\\\\n",
       "\t\\hline\n",
       "\t1 & 19 & 17 & Monster & ['Drama', 'Horror', 'Mystery', 'Police', 'Psychological', 'Seinen', 'Suspense'] & tv & 9.57911 & 0.179291 & 0.783126 & 0.000450352 \\\\\n",
       "\t2 & 877 & 864 & Nana & ['Comedy', 'Drama', 'Music', 'Romance', 'Shoujo', 'Slice of Life'] & tv & 9.42157 & 0.703496 & 0.69414 & 0.000161927 \\\\\n",
       "\t3 & 12431 & 10569 & Uchuu Kyoudai & ['Comedy', 'Sci-Fi', 'Seinen', 'Slice of Life', 'Space'] & tv & 9.37633 & 0.404755 & 0.691916 & 0.000164613 \\\\\n",
       "\t4 & 12531 & 10615 & Sakamichi no Apollon & ['Drama', 'Josei', 'Music', 'Romance', 'School'] & tv & 9.13093 & 0.374252 & 0.626664 & 0.00022669 \\\\\n",
       "\t5 & 5941 & 5678 & Cross Game & ['Comedy', 'Drama', 'Romance', 'School', 'Shounen', 'Sports'] & tv & 9.23264 & 0.394292 & 0.736427 & 8.54747e-5 \\\\\n",
       "\t6 & 12355 & 10536 & Ookami Kodomo no Ame to Yuki & ['Fantasy', 'Slice of Life'] & movie & 9.21048 & 0.247287 & 0.734339 & 0.000677486 \\\\\n",
       "\t7 & 57 & 55 & Beck & ['Comedy', 'Drama', 'Music', 'Shounen', 'Slice of Life'] & tv & 9.04127 & 0.471829 & 0.586103 & 0.000148104 \\\\\n",
       "\t8 & 12365 & 10541 & Bakuman. 3rd Season & ['Comedy', 'Drama', 'Romance', 'Shounen'] & tv & 9.09822 & 0.182425 & 0.645067 & 0.000497861 \\\\\n",
       "\t9 & 239 & 235 & Gankutsuou & ['Drama', 'Mystery', 'Sci-Fi', 'Supernatural', 'Suspense'] & tv & 9.07008 & 0.303079 & 0.633981 & 9.18222e-5 \\\\\n",
       "\t10 & 329 & 327 & Planetes & ['Drama', 'Romance', 'Sci-Fi', 'Seinen', 'Space'] & tv & 9.05609 & 0.194288 & 0.646657 & 0.000155614 \\\\\n",
       "\t11 & 36098 & 3284 & Kimi no Suizou wo Tabetai & ['Drama', 'Romance', 'Slice of Life'] & movie & 9.02768 & 0.266972 & 0.657165 & 0.00104234 \\\\\n",
       "\t12 & 35851 & 3051 & Sayonara no Asa ni Yakusoku no Hana wo Kazarou & ['Drama', 'Fantasy'] & movie & 9.00168 & 0.249214 & 0.63899 & 0.000379796 \\\\\n",
       "\t13 & 37965 & 5019 & Kaze ga Tsuyoku Fuiteiru & ['Drama', 'Sports'] & tv & 8.94232 & 0.114608 & 0.590573 & 0.000372341 \\\\\n",
       "\t14 & 2164 & 2146 & Dennou Coil & ['Adventure', 'Comedy', 'Drama', 'Mystery', 'Sci-Fi'] & tv & 8.94181 & 0.284984 & 0.736643 & 5.8564e-5 \\\\\n",
       "\t15 & 34636 & 1850 & Ballroom e Youkoso & ['Comedy', 'Drama', 'Romance', 'School', 'Shounen', 'Sports'] & tv & 8.85222 & 0.431543 & 0.647171 & 0.000460644 \\\\\n",
       "\t16 & 38889 & 5855 & Kono Oto Tomare! 2nd Season & ['Drama', 'Music', 'Romance', 'School', 'Shounen'] & tv & 8.76393 & 0.102055 & 0.582024 & 0.00027871 \\\\\n",
       "\t17 & 135 & 139 & Hikaru no Go & ['Comedy', 'Game', 'Shounen', 'Supernatural'] & tv & 8.86111 & 0.532064 & 0.681206 & 5.97041e-5 \\\\\n",
       "\t18 & 9289 & 8572 & Hanasaku Iroha & ['Comedy', 'Drama', 'Slice of Life'] & tv & 8.93998 & 0.749248 & 0.763337 & 0.00038665 \\\\\n",
       "\t19 & 37520 & 4608 & Dororo & ['Action', 'Adventure', 'Demons', 'Historical', 'Samurai', 'Shounen', 'Supernatural'] & tv & 8.77164 & 0.355514 & 0.63205 & 0.000681784 \\\\\n",
       "\t20 & 5682 & 5438 & Phantom: Requiem for the Phantom & ['Action', 'Drama', 'Seinen', 'Suspense'] & tv & 8.91883 & 0.75091 & 0.799643 & 0.000291809 \\\\\n",
       "\t21 & 28725 & 15281 & Kokoro ga Sakebitagatterunda. & ['Drama', 'Romance', 'School'] & movie & 8.84581 & 0.660269 & 0.739891 & 0.000468 \\\\\n",
       "\t22 & 36649 & 3815 & Banana Fish & ['Action', 'Adventure', 'Drama', 'Shoujo'] & tv & 8.79936 & 0.242959 & 0.698481 & 0.000364611 \\\\\n",
       "\t23 & 10800 & 9816 & Chihayafuru & ['Drama', 'Game', 'Josei', 'School', 'Slice of Life', 'Sports'] & tv & 8.80888 & 0.222628 & 0.712988 & 0.000468124 \\\\\n",
       "\t24 & 10721 & 9741 & Mawaru Penguindrum & ['Avant Garde', 'Comedy', 'Drama', 'Mystery', 'Psychological'] & tv & 8.81268 & 0.340597 & 0.735864 & 0.000293278 \\\\\n",
       "\t25 & 10408 & 9463 & Hotarubi no Mori e & ['Drama', 'Romance', 'Shoujo', 'Supernatural'] & movie & 8.89225 & 0.33893 & 0.818932 & 0.000628376 \\\\\n",
       "\t26 & 32729 & 16950 & Orange & ['Drama', 'Romance', 'School', 'Sci-Fi', 'Shoujo'] & tv & 8.77538 & 1.08681 & 0.745878 & 0.000853492 \\\\\n",
       "\t27 & 8425 & 7939 & Gosick & ['Drama', 'Historical', 'Mystery', 'Romance'] & tv & 8.92925 & 0.737467 & 0.917903 & 0.00066039 \\\\\n",
       "\t28 & 7674 & 7296 & Bakuman. & ['Comedy', 'Drama', 'Romance', 'Shounen'] & tv & 8.69878 & 0.237556 & 0.701377 & 0.000619728 \\\\\n",
       "\t29 & 8142 & 7687 & Colorful (Movie) & ['Drama', 'Slice of Life', 'Supernatural'] & movie & 8.76853 & 0.484626 & 0.779412 & 0.000143924 \\\\\n",
       "\t30 & 21995 & 13830 & Ao Haru Ride & ['Drama', 'Romance', 'School', 'Shoujo', 'Slice of Life'] & tv & 8.74272 & 1.0388 & 0.78384 & 0.000925938 \\\\\n",
       "\t31 & 45 & 43 & Rurouni Kenshin: Meiji Kenkaku Romantan & ['Action', 'Adventure', 'Comedy', 'Historical', 'Romance', 'Samurai', 'Shounen'] & tv & 8.56726 & 0.130459 & 0.628391 & 0.000183799 \\\\\n",
       "\t32 & 2236 & 2218 & Toki wo Kakeru Shoujo & ['Drama', 'Romance', 'School', 'Sci-Fi'] & movie & 8.75184 & 0.227814 & 0.817692 & 0.000657721 \\\\\n",
       "\t33 & 21557 & 13715 & Omoide no Marnie & ['Drama', 'Mystery', 'Psychological'] & movie & 8.75145 & 0.241845 & 0.822822 & 0.000193568 \\\\\n",
       "\t34 & 18245 & 12895 & White Album 2 & ['Drama', 'Music', 'Romance', 'Slice of Life'] & tv & 8.72652 & 0.776108 & 0.804837 & 0.000562897 \\\\\n",
       "\t35 & 39198 & 6153 & Kanata no Astra & ['Adventure', 'Mystery', 'Sci-Fi', 'Shounen', 'Space'] & tv & 8.54856 & 0.175212 & 0.641693 & 0.000513124 \\\\\n",
       "\t36 & 30709 & 16058 & Kamisama Hajimemashita: Kako-hen & ['Comedy', 'Demons', 'Fantasy', 'Romance', 'Shoujo', 'Supernatural'] & ova & 8.65118 & 0.162149 & 0.756621 & 9.33692e-5 \\\\\n",
       "\t37 & 32867 & 98 & Bungou Stray Dogs 2nd Season & ['Action', 'Mystery', 'Seinen', 'Super Power', 'Supernatural'] & tv & 8.62005 & 0.239477 & 0.727206 & 0.000728741 \\\\\n",
       "\t38 & 12445 & 10576 & Tasogare Otome x Amnesia & ['Horror', 'Mystery', 'Romance', 'School', 'Shounen', 'Supernatural'] & tv & 8.67476 & 0.80604 & 0.791908 & 0.000749552 \\\\\n",
       "\t39 & 25013 & 14592 & Akatsuki no Yona & ['Action', 'Adventure', 'Comedy', 'Fantasy', 'Romance', 'Shoujo'] & tv & 8.72917 & 0.53547 & 0.858659 & 0.000956594 \\\\\n",
       "\t40 & 237 & 233 & Koukyoushihen Eureka Seven & ['Adventure', 'Drama', 'Mecha', 'Romance', 'Sci-Fi'] & tv & 8.73776 & 0.521423 & 0.924275 & 0.000304271 \\\\\n",
       "\t41 & 12189 & 10491 & Hyouka & ['Mystery', 'School', 'Slice of Life'] & tv & 8.66746 & 0.402918 & 0.860881 & 0.00184167 \\\\\n",
       "\t42 & 202 & 200 & Wolf's Rain & ['Action', 'Adventure', 'Drama', 'Fantasy', 'Mystery', 'Sci-Fi'] & tv & 8.67405 & 0.627754 & 0.897821 & 6.34542e-5 \\\\\n",
       "\t43 & 7724 & 7341 & Shiki & ['Horror', 'Mystery', 'Psychological', 'Supernatural', 'Suspense', 'Vampire'] & tv & 8.51686 & 0.478159 & 0.74479 & 0.000560591 \\\\\n",
       "\t44 & 37435 & 4530 & Carole \\& Tuesday & ['Drama', 'Music', 'Sci-Fi'] & tv & 8.54126 & 0.314739 & 0.773412 & 0.000336496 \\\\\n",
       "\t45 & 16782 & 12381 & Kotonoha no Niwa & ['Drama', 'Romance', 'Slice of Life'] & movie & 8.53369 & 0.204294 & 0.7701 & 0.00116644 \\\\\n",
       "\t46 & 14713 & 11419 & Kamisama Hajimemashita & ['Comedy', 'Demons', 'Fantasy', 'Romance', 'Shoujo', 'Supernatural'] & tv & 8.47917 & 0.460792 & 0.720294 & 0.000275387 \\\\\n",
       "\t47 & 21185 & 13623 & Baby Steps & ['Romance', 'School', 'Shounen', 'Sports'] & tv & 8.4599 & 0.397775 & 0.705732 & 0.000292931 \\\\\n",
       "\t48 & 32998 & 226 & 91 Days & ['Action', 'Drama', 'Historical'] & tv & 8.55031 & 0.449074 & 0.814586 & 0.000609515 \\\\\n",
       "\t49 & 6045 & 5779 & Kimi ni Todoke & ['Drama', 'Romance', 'School', 'Shoujo', 'Slice of Life'] & tv & 8.46091 & 0.329956 & 0.741085 & 0.000530382 \\\\\n",
       "\t50 & 30123 & 15790 & Akagami no Shirayuki-hime & ['Drama', 'Fantasy', 'Romance', 'Shoujo'] & tv & 8.34219 & 0.503572 & 0.624884 & 0.000643772 \\\\\n",
       "\t51 & 28297 & 15181 & Ore Monogatari!! & ['Comedy', 'Romance', 'Shoujo'] & tv & 8.45586 & 0.321057 & 0.746964 & 0.000749228 \\\\\n",
       "\t52 & 21327 & 13647 & Isshuukan Friends. & ['Comedy', 'School', 'Shounen', 'Slice of Life'] & tv & 8.51593 & 0.802917 & 0.81705 & 0.000608377 \\\\\n",
       "\t53 & 38080 & 5132 & Kono Oto Tomare! & ['Drama', 'Music', 'Romance', 'School', 'Shounen'] & tv & 8.2918 & 0.273489 & 0.620822 & 0.000246938 \\\\\n",
       "\t54 & 35062 & 2276 & Mahoutsukai no Yome & ['Fantasy', 'Shounen', 'Slice of Life'] & tv & 8.42915 & 0.199491 & 0.75934 & 0.0012028 \\\\\n",
       "\t55 & 9941 & 9107 & Tiger \\& Bunny & ['Action', 'Comedy', 'Mystery', 'Super Power'] & tv & 8.50078 & 0.248748 & 0.831728 & 0.000105788 \\\\\n",
       "\t56 & 7711 & 7328 & Karigurashi no Arrietty & ['Fantasy'] & movie & 8.44594 & 0.145974 & 0.79164 & 0.000154198 \\\\\n",
       "\t57 & 22101 & 13856 & Soredemo Sekai wa Utsukushii & ['Adventure', 'Fantasy', 'Romance', 'Shoujo'] & tv & 8.43888 & 0.746937 & 0.79013 & 0.000364248 \\\\\n",
       "\t58 & 37497 & 4587 & Irozuku Sekai no Ashita kara & ['Drama', 'Romance', 'School'] & tv & 8.36067 & 0.748703 & 0.722033 & 0.000728026 \\\\\n",
       "\t59 & 11739 & 10343 & Kimi to Boku. 2 & ['Comedy', 'Drama', 'Romance', 'School', 'Shounen', 'Slice of Life'] & tv & 8.35973 & 0.176703 & 0.730702 & 7.81276e-5 \\\\\n",
       "\t60 & 25681 & 14728 & Kamisama Hajimemashita◎ & ['Comedy', 'Demons', 'Fantasy', 'Romance', 'Shoujo', 'Supernatural'] & tv & 8.43844 & 0.237563 & 0.812341 & 0.000176908 \\\\\n",
       "\t61 & 2025 & 2007 & Darker than Black: Kuro no Keiyakusha & ['Action', 'Mystery', 'Sci-Fi', 'Super Power'] & tv & 8.48749 & 0.16733 & 0.865289 & 0.000704555 \\\\\n",
       "\t62 & 790 & 780 & Ergo Proxy & ['Mystery', 'Psychological', 'Sci-Fi'] & tv & 8.73398 & 0.442661 & 1.11371 & 0.000298853 \\\\\n",
       "\t63 & 34547 & 1763 & Shoukoku no Altair & ['Adventure', 'Drama', 'Fantasy', 'Historical', 'Military', 'Shounen'] & tv & 8.4311 & 0.950773 & 0.811708 & 0.000153058 \\\\\n",
       "\t64 & 1571 & 1555 & Ghost Hunt & ['Horror', 'Mystery', 'Shoujo', 'Supernatural'] & tv & 8.54396 & 0.655196 & 0.927169 & 0.000110056 \\\\\n",
       "\t65 & 31173 & 16292 & Akagami no Shirayuki-hime 2nd Season & ['Drama', 'Fantasy', 'Romance', 'Shoujo'] & tv & 8.25379 & 0.169368 & 0.639488 & 0.000325448 \\\\\n",
       "\t66 & 5530 & 5303 & Pandora Hearts & ['Adventure', 'Fantasy', 'Mystery', 'Shounen', 'Supernatural'] & tv & 8.53468 & 0.759556 & 0.931218 & 0.00018496 \\\\\n",
       "\t67 & 9000 & 8396 & Toaru Hikuushi e no Tsuioku & ['Adventure', 'Military', 'Romance'] & movie & 8.28446 & 0.352492 & 0.689532 & 6.98633e-5 \\\\\n",
       "\t68 & 38145 & 5197 & Doukyonin wa Hiza, Tokidoki, Atama no Ue. & ['Comedy', 'Slice of Life'] & tv & 8.13285 & 0.171771 & 0.557612 & 0.000318821 \\\\\n",
       "\t69 & 9863 & 9035 & SKET Dance & ['Comedy', 'School', 'Shounen'] & tv & 8.47196 & 0.242504 & 0.902542 & 0.00020449 \\\\\n",
       "\t70 & 4722 & 4580 & Skip Beat! & ['Comedy', 'Drama', 'Romance', 'Shoujo'] & tv & 8.49501 & 0.271586 & 0.939339 & 8.50043e-5 \\\\\n",
       "\t71 & 33337 & 565 & ACCA: 13-ku Kansatsu-ka & ['Drama', 'Fantasy', 'Mystery', 'Police', 'Seinen'] & tv & 8.25129 & 0.173054 & 0.701179 & 0.000180582 \\\\\n",
       "\t72 & 1482 & 1468 & D.Gray-man & ['Action', 'Adventure', 'Comedy', 'Demons', 'Shounen', 'Super Power'] & tv & 8.44871 & 0.415802 & 0.909338 & 0.000282738 \\\\\n",
       "\t73 & 30187 & 15834 & Sakurako-san no Ashimoto ni wa Shitai ga Umatteiru & ['Drama', 'Mystery', 'Suspense'] & tv & 8.26785 & 0.72411 & 0.72941 & 0.0004923 \\\\\n",
       "\t74 & 22145 & 13865 & Kuroshitsuji: Book of Circus & ['Action', 'Comedy', 'Demons', 'Historical', 'Mystery', 'Shounen', 'Supernatural'] & tv & 8.46309 & 0.173369 & 0.926755 & 0.000220344 \\\\\n",
       "\t75 & 12883 & 10775 & Tsuritama & ['Comedy', 'Sci-Fi', 'Slice of Life', 'Sports'] & tv & 8.15696 & 0.221946 & 0.631303 & 7.76943e-5 \\\\\n",
       "\t76 & 10460 & 9494 & Kimi to Boku. & ['Comedy', 'Drama', 'Romance', 'School', 'Shounen', 'Slice of Life'] & tv & 8.22546 & 0.423197 & 0.703684 & 0.000147782 \\\\\n",
       "\t77 & 32948 & 178 & Fune wo Amu & ['Drama', 'Romance', 'Slice of Life'] & tv & 8.3774 & 0.290224 & 0.859026 & 0.000145844 \\\\\n",
       "\t78 & 10049 & 9205 & Nurarihyon no Mago: Sennen Makyou & ['Action', 'Demons', 'Shounen', 'Supernatural'] & tv & 8.37396 & 0.287588 & 0.861049 & 0.000133382 \\\\\n",
       "\t79 & 16009 & 12006 & Kamisama no Inai Nichiyoubi & ['Adventure', 'Fantasy', 'Mystery'] & tv & 8.24702 & 0.804943 & 0.745415 & 0.000260249 \\\\\n",
       "\t80 & 36220 & 3400 & Itsudatte Bokura no Koi wa 10 cm Datta. & ['Comedy', 'Drama', 'Romance', 'School'] & tv & 8.11635 & 0.5196 & 0.617815 & 0.000396319 \\\\\n",
       "\t81 & 3588 & 3531 & Soul Eater & ['Action', 'Comedy', 'Fantasy', 'Shounen', 'Supernatural'] & tv & 8.29537 & 0.293711 & 0.801947 & 0.000850048 \\\\\n",
       "\t82 & 5074 & 4898 & Tetsuwan Birdy Decode:02 & ['Action', 'Comedy', 'Sci-Fi'] & tv & 8.42028 & 0.359578 & 0.943119 & 8.3557e-5 \\\\\n",
       "\t83 & 10568 & 9598 & Kamisama no Memochou & ['Mystery'] & tv & 8.3195 & 0.753146 & 0.861431 & 0.000262209 \\\\\n",
       "\t84 & 36653 & 3819 & Tsurune: Kazemai Koukou Kyuudoubu & ['Drama', 'School', 'Sports'] & tv & 8.18075 & 0.362494 & 0.724941 & 0.000110087 \\\\\n",
       "\t85 & 150 & 148 & Blood+ & ['Action', 'Drama', 'Horror', 'Military', 'Mystery', 'Supernatural', 'Vampire'] & tv & 8.36141 & 0.698851 & 0.91047 & 9.38118e-5 \\\\\n",
       "\t86 & 1604 & 1588 & Katekyo Hitman Reborn! & ['Action', 'Comedy', 'Shounen', 'Super Power'] & tv & 8.31671 & 0.283278 & 0.872107 & 0.000294834 \\\\\n",
       "\t87 & 28249 & 15174 & Arslan Senki (TV) & ['Action', 'Adventure', 'Drama', 'Fantasy', 'Historical', 'Shounen'] & tv & 8.2261 & 0.345827 & 0.786325 & 0.000351967 \\\\\n",
       "\t88 & 25183 & 14639 & Gangsta. & ['Action', 'Drama', 'Seinen'] & tv & 8.06189 & 0.560485 & 0.626972 & 0.000730732 \\\\\n",
       "\t89 & 37972 & 5028 & Hoshiai no Sora & ['Drama', 'School', 'Slice of Life', 'Sports'] & tv & 8.03246 & 0.239001 & 0.598952 & 0.000221071 \\\\\n",
       "\t90 & 38753 & 5719 & Araburu Kisetsu no Otome-domo yo. & ['Comedy', 'Drama', 'Romance', 'School', 'Shounen'] & tv & 7.93323 & 0.213647 & 0.499984 & 0.000797158 \\\\\n",
       "\t91 & 9656 & 8871 & Kimi ni Todoke 2nd Season & ['Drama', 'Romance', 'School', 'Shoujo', 'Slice of Life'] & tv & 8.37114 & 0.244952 & 0.939742 & 0.000348745 \\\\\n",
       "\t92 & 4981 & 4819 & Casshern Sins & ['Action', 'Adventure', 'Drama', 'Psychological', 'Sci-Fi'] & tv & 8.32821 & 0.3628 & 0.899282 & 0.000128252 \\\\\n",
       "\t93 & 5507 & 5285 & Senjou no Valkyria & ['Action', 'Military', 'Romance'] & tv & 8.24589 & 0.578753 & 0.82902 & 0.00012052 \\\\\n",
       "\t94 & 34494 & 1711 & Sakura Quest & ['Comedy', 'Slice of Life'] & tv & 8.16218 & 0.571373 & 0.761303 & 0.000344854 \\\\\n",
       "\t95 & 32828 & 58 & Amaama to Inazuma & ['Comedy', 'Gourmet', 'Seinen', 'Slice of Life'] & tv & 7.9751 & 0.27747 & 0.601111 & 0.000703673 \\\\\n",
       "\t96 & 4725 & 4583 & Ga-Rei: Zero & ['Action', 'Super Power', 'Supernatural', 'Suspense'] & tv & 8.15587 & 0.368759 & 0.786408 & 0.000196117 \\\\\n",
       "\t97 & 6408 & 6132 & \"Bungaku Shoujo\" Movie & ['Drama', 'Mystery', 'Romance', 'School'] & movie & 8.23621 & 0.640259 & 0.867248 & 6.16163e-5 \\\\\n",
       "\t98 & 21603 & 13731 & Mekakucity Actors & ['Comedy', 'Sci-Fi', 'Super Power', 'Supernatural'] & tv & 8.14732 & 1.03764 & 0.780118 & 0.000836103 \\\\\n",
       "\t99 & 23673 & 14316 & Ookami Shoujo to Kuro Ouji & ['Comedy', 'Romance', 'School', 'Shoujo'] & tv & 8.1407 & 1.02738 & 0.774323 & 0.000446695 \\\\\n",
       "\t100 & 24405 & 14460 & World Trigger & ['Action', 'School', 'Sci-Fi', 'Shounen', 'Supernatural'] & tv & 8.16903 & 0.750685 & 0.807338 & 0.00042773 \\\\\n",
       "\t$\\dots$ & $\\dots$ & $\\dots$ & $\\dots$ & $\\dots$ & $\\dots$ & $\\dots$ & $\\dots$ & $\\dots$ & $\\dots$ \\\\\n",
       "\\end{tabular}\n"
      ],
      "text/plain": [
       "\u001b[1m459×9 DataFrame\u001b[0m\n",
       "\u001b[1m Row \u001b[0m│\u001b[1m anime_id \u001b[0m\u001b[1m uid   \u001b[0m\u001b[1m title                             \u001b[0m\u001b[1m genres                            \u001b[0m\u001b[1m medium  \u001b[0m\u001b[1m rating  \u001b[0m\u001b[1m alpha    \u001b[0m\u001b[1m std      \u001b[0m\u001b[1m p           \u001b[0m\n",
       "\u001b[1m     \u001b[0m│\u001b[90m Int64    \u001b[0m\u001b[90m Int64 \u001b[0m\u001b[90m String                            \u001b[0m\u001b[90m String                            \u001b[0m\u001b[90m String7 \u001b[0m\u001b[90m Float64 \u001b[0m\u001b[90m Float64  \u001b[0m\u001b[90m Float64  \u001b[0m\u001b[90m Float64     \u001b[0m\n",
       "─────┼──────────────────────────────────────────────────────────────────────────────────────────────────────────────────────────────────────────\n",
       "   1 │       19     17  Monster                            ['Drama', 'Horror', 'Mystery', '…  tv       9.57911  0.179291  0.783126  0.000450352\n",
       "   2 │      877    864  Nana                               ['Comedy', 'Drama', 'Music', 'Ro…  tv       9.42157  0.703496  0.69414   0.000161927\n",
       "   3 │    12431  10569  Uchuu Kyoudai                      ['Comedy', 'Sci-Fi', 'Seinen', '…  tv       9.37633  0.404755  0.691916  0.000164613\n",
       "   4 │    12531  10615  Sakamichi no Apollon               ['Drama', 'Josei', 'Music', 'Rom…  tv       9.13093  0.374252  0.626664  0.00022669\n",
       "   5 │     5941   5678  Cross Game                         ['Comedy', 'Drama', 'Romance', '…  tv       9.23264  0.394292  0.736427  8.54747e-5\n",
       "   6 │    12355  10536  Ookami Kodomo no Ame to Yuki       ['Fantasy', 'Slice of Life']       movie    9.21048  0.247287  0.734339  0.000677486\n",
       "   7 │       57     55  Beck                               ['Comedy', 'Drama', 'Music', 'Sh…  tv       9.04127  0.471829  0.586103  0.000148104\n",
       "   8 │    12365  10541  Bakuman. 3rd Season                ['Comedy', 'Drama', 'Romance', '…  tv       9.09822  0.182425  0.645067  0.000497861\n",
       "   9 │      239    235  Gankutsuou                         ['Drama', 'Mystery', 'Sci-Fi', '…  tv       9.07008  0.303079  0.633981  9.18222e-5\n",
       "  10 │      329    327  Planetes                           ['Drama', 'Romance', 'Sci-Fi', '…  tv       9.05609  0.194288  0.646657  0.000155614\n",
       "  11 │    36098   3284  Kimi no Suizou wo Tabetai          ['Drama', 'Romance', 'Slice of L…  movie    9.02768  0.266972  0.657165  0.00104234\n",
       "  12 │    35851   3051  Sayonara no Asa ni Yakusoku no H…  ['Drama', 'Fantasy']               movie    9.00168  0.249214  0.63899   0.000379796\n",
       "  13 │    37965   5019  Kaze ga Tsuyoku Fuiteiru           ['Drama', 'Sports']                tv       8.94232  0.114608  0.590573  0.000372341\n",
       "  14 │     2164   2146  Dennou Coil                        ['Adventure', 'Comedy', 'Drama',…  tv       8.94181  0.284984  0.736643  5.8564e-5\n",
       "  15 │    34636   1850  Ballroom e Youkoso                 ['Comedy', 'Drama', 'Romance', '…  tv       8.85222  0.431543  0.647171  0.000460644\n",
       "  16 │    38889   5855  Kono Oto Tomare! 2nd Season        ['Drama', 'Music', 'Romance', 'S…  tv       8.76393  0.102055  0.582024  0.00027871\n",
       "  17 │      135    139  Hikaru no Go                       ['Comedy', 'Game', 'Shounen', 'S…  tv       8.86111  0.532064  0.681206  5.97041e-5\n",
       "  18 │     9289   8572  Hanasaku Iroha                     ['Comedy', 'Drama', 'Slice of Li…  tv       8.93998  0.749248  0.763337  0.00038665\n",
       "  19 │    37520   4608  Dororo                             ['Action', 'Adventure', 'Demons'…  tv       8.77164  0.355514  0.63205   0.000681784\n",
       "  20 │     5682   5438  Phantom: Requiem for the Phantom   ['Action', 'Drama', 'Seinen', 'S…  tv       8.91883  0.75091   0.799643  0.000291809\n",
       "  21 │    28725  15281  Kokoro ga Sakebitagatterunda.      ['Drama', 'Romance', 'School']     movie    8.84581  0.660269  0.739891  0.000468\n",
       "  22 │    36649   3815  Banana Fish                        ['Action', 'Adventure', 'Drama',…  tv       8.79936  0.242959  0.698481  0.000364611\n",
       "  23 │    10800   9816  Chihayafuru                        ['Drama', 'Game', 'Josei', 'Scho…  tv       8.80888  0.222628  0.712988  0.000468124\n",
       "  24 │    10721   9741  Mawaru Penguindrum                 ['Avant Garde', 'Comedy', 'Drama…  tv       8.81268  0.340597  0.735864  0.000293278\n",
       "  25 │    10408   9463  Hotarubi no Mori e                 ['Drama', 'Romance', 'Shoujo', '…  movie    8.89225  0.33893   0.818932  0.000628376\n",
       "  26 │    32729  16950  Orange                             ['Drama', 'Romance', 'School', '…  tv       8.77538  1.08681   0.745878  0.000853492\n",
       "  27 │     8425   7939  Gosick                             ['Drama', 'Historical', 'Mystery…  tv       8.92925  0.737467  0.917903  0.00066039\n",
       "  28 │     7674   7296  Bakuman.                           ['Comedy', 'Drama', 'Romance', '…  tv       8.69878  0.237556  0.701377  0.000619728\n",
       "  29 │     8142   7687  Colorful (Movie)                   ['Drama', 'Slice of Life', 'Supe…  movie    8.76853  0.484626  0.779412  0.000143924\n",
       "  30 │    21995  13830  Ao Haru Ride                       ['Drama', 'Romance', 'School', '…  tv       8.74272  1.0388    0.78384   0.000925938\n",
       "  31 │       45     43  Rurouni Kenshin: Meiji Kenkaku R…  ['Action', 'Adventure', 'Comedy'…  tv       8.56726  0.130459  0.628391  0.000183799\n",
       "  32 │     2236   2218  Toki wo Kakeru Shoujo              ['Drama', 'Romance', 'School', '…  movie    8.75184  0.227814  0.817692  0.000657721\n",
       "  33 │    21557  13715  Omoide no Marnie                   ['Drama', 'Mystery', 'Psychologi…  movie    8.75145  0.241845  0.822822  0.000193568\n",
       "  34 │    18245  12895  White Album 2                      ['Drama', 'Music', 'Romance', 'S…  tv       8.72652  0.776108  0.804837  0.000562897\n",
       "  35 │    39198   6153  Kanata no Astra                    ['Adventure', 'Mystery', 'Sci-Fi…  tv       8.54856  0.175212  0.641693  0.000513124\n",
       "  36 │    30709  16058  Kamisama Hajimemashita: Kako-hen   ['Comedy', 'Demons', 'Fantasy', …  ova      8.65118  0.162149  0.756621  9.33692e-5\n",
       "  37 │    32867     98  Bungou Stray Dogs 2nd Season       ['Action', 'Mystery', 'Seinen', …  tv       8.62005  0.239477  0.727206  0.000728741\n",
       "  38 │    12445  10576  Tasogare Otome x Amnesia           ['Horror', 'Mystery', 'Romance',…  tv       8.67476  0.80604   0.791908  0.000749552\n",
       "  39 │    25013  14592  Akatsuki no Yona                   ['Action', 'Adventure', 'Comedy'…  tv       8.72917  0.53547   0.858659  0.000956594\n",
       "  40 │      237    233  Koukyoushihen Eureka Seven         ['Adventure', 'Drama', 'Mecha', …  tv       8.73776  0.521423  0.924275  0.000304271\n",
       "  41 │    12189  10491  Hyouka                             ['Mystery', 'School', 'Slice of …  tv       8.66746  0.402918  0.860881  0.00184167\n",
       "  42 │      202    200  Wolf's Rain                        ['Action', 'Adventure', 'Drama',…  tv       8.67405  0.627754  0.897821  6.34542e-5\n",
       "  43 │     7724   7341  Shiki                              ['Horror', 'Mystery', 'Psycholog…  tv       8.51686  0.478159  0.74479   0.000560591\n",
       "  44 │    37435   4530  Carole & Tuesday                   ['Drama', 'Music', 'Sci-Fi']       tv       8.54126  0.314739  0.773412  0.000336496\n",
       "  45 │    16782  12381  Kotonoha no Niwa                   ['Drama', 'Romance', 'Slice of L…  movie    8.53369  0.204294  0.7701    0.00116644\n",
       "  46 │    14713  11419  Kamisama Hajimemashita             ['Comedy', 'Demons', 'Fantasy', …  tv       8.47917  0.460792  0.720294  0.000275387\n",
       "  ⋮  │    ⋮        ⋮                    ⋮                                  ⋮                     ⋮        ⋮        ⋮         ⋮           ⋮\n",
       " 415 │    36266   3446  Mahou Shoujo Site                  ['Drama', 'Horror', 'Psychologic…  tv       6.54714  0.101741  0.986152  0.000598101\n",
       " 416 │    31223  16306  Phantasy Star Online 2 The Anima…  ['Action', 'Game', 'School', 'Sc…  tv       6.2818   0.230798  0.751346  0.000165849\n",
       " 417 │    37576   4661  Majutsushi Orphen Hagure Tabi      ['Action', 'Adventure', 'Drama',…  tv       6.30011  0.514498  0.774319  0.000144429\n",
       " 418 │    31790  16574  Active Raid: Kidou Kyoushuushits…  ['Comedy', 'Mecha', 'Police', 'S…  tv       6.2405   0.431451  0.722737  0.000128555\n",
       " 419 │    25283  14649  Kuusen Madoushi Kouhosei no Kyou…  ['Action', 'Drama', 'Fantasy', '…  tv       6.29526  0.188479  0.786429  0.00042485\n",
       " 420 │    33889   6384  Saredo Tsumibito wa Ryuu to Odoru  ['Action', 'Drama', 'Fantasy', '…  tv       6.20922  0.588314  0.705206  7.27237e-5\n",
       " 421 │    32878    108  ēlDLIVE                            ['Action', 'Police', 'Sci-Fi', '…  tv       6.25102  0.26938   0.763983  9.09611e-5\n",
       " 422 │    31710  16533  Divine Gate                        ['Action', 'Fantasy', 'Sci-Fi']    tv       6.14503  0.648862  0.661999  0.000289939\n",
       " 423 │    29758  15566  Taboo Tattoo                       ['Action', 'Martial Arts', 'Myst…  tv       6.284    0.597997  0.814427  0.000658484\n",
       " 424 │    30091  15766  Chaos Dragon: Sekiryuu Seneki      ['Action', 'Fantasy', 'Supernatu…  tv       6.31896  0.89428   0.868501  0.00023625\n",
       " 425 │    36245   3427  Evil or Live                       ['Psychological', 'School']        tv       6.38952  0.757418  0.949884  0.000285241\n",
       " 426 │    37436   4531  Revisions                          ['Action', 'Mecha', 'Sci-Fi']      tv       6.37019  0.191737  0.938645  9.86291e-5\n",
       " 427 │    32608  16902  Endride                            ['Adventure', 'Fantasy']           tv       6.26733  0.952111  0.860671  9.66902e-5\n",
       " 428 │    37994  14962  B: The Beginning - Succession      ['Action', 'Mystery', 'Police', …  ona      6.37114  0.207909  0.992897  5.95956e-5\n",
       " 429 │    22547  13991  Blade & Soul                       ['Action', 'Adventure', 'Fantasy…  tv       6.2749   0.325617  0.904535  0.000236506\n",
       " 430 │    38091   5143  Hachigatsu no Cinderella Nine (T…  ['School', 'Sports']               tv       6.3058   0.222205  0.967543  7.84761e-5\n",
       " 431 │    23079  14156  Glasslip                           ['Romance', 'Slice of Life', 'Su…  tv       6.47998  1.113     1.14991   0.000282435\n",
       " 432 │    40783   7578  Shachou, Battle no Jikan Desu!     ['Action', 'Adventure', 'Fantasy…  tv       6.06775  0.451047  0.737884  8.2125e-5\n",
       " 433 │    15085  11545  Amnesia                            ['Fantasy', 'Harem', 'Mystery', …  tv       6.44297  0.578544  1.14068   0.000142537\n",
       " 434 │    37446   4540  Hyakuren no Haou to Seiyaku no V…  ['Fantasy', 'Harem']               tv       5.95058  0.502442  0.678412  0.000334804\n",
       " 435 │    40165   7039  Listeners                          ['Mecha', 'Music', 'Sci-Fi']       tv       6.13296  0.607127  0.862497  0.000158848\n",
       " 436 │    37952   5006  Shoumetsu Toshi                    ['Action', 'Adventure', 'Drama',…  tv       6.07444  0.790353  0.806807  0.000105804\n",
       " 437 │    23333  14235  DRAMAtical Murder                  ['Action', 'Psychological', 'Sci…  tv       6.27427  0.367861  1.02186   6.90333e-5\n",
       " 438 │    12367  10543  Shining Hearts: Shiawase no Pan    ['Action', 'Fantasy']              tv       6.14975  0.131375  0.911157  6.22498e-5\n",
       " 439 │    41834   8447  King's Raid: Ishi wo Tsugumono-t…  ['Action', 'Adventure', 'Fantasy…  tv       6.00587  0.314106  0.810175  7.27943e-5\n",
       " 440 │    37154   4269  Grimms Notes The Animation         ['Action', 'Adventure', 'Fantasy…  tv       6.1041   0.340565  0.914154  7.48818e-5\n",
       " 441 │    35997   3188  Märchen Mädchen                    ['Fantasy', 'School']              tv       5.95232  0.516684  0.765808  6.8569e-5\n",
       " 442 │    43697   9944  Yasuke                             ['Action', 'Fantasy', 'Samurai']   ona      6.00426  0.110924  0.843082  7.93505e-5\n",
       " 443 │    40961   7738  Hortensia Saga (TV)                ['Action', 'Adventure', 'Fantasy…  tv       5.95682  0.407589  0.809699  7.94335e-5\n",
       " 444 │    30137  15800  Big Order                          ['Action', 'Shounen', 'Super Pow…  ova      5.95318  0.238991  0.851999  0.000130856\n",
       " 445 │    39966   6876  Tamayomi                           ['School', 'Sports']               tv       5.99142  0.362236  0.897019  7.2646e-5\n",
       " 446 │    36027   3213  Ousama Game The Animation          ['Drama', 'Horror', 'Mystery', '…  tv       6.03367  1.22821   0.95728   0.0005532\n",
       " 447 │    38843   5809  Shironeko Project: Zero Chronicle  ['Action', 'Adventure', 'Fantasy…  tv       5.83424  0.729419  0.775069  0.000168571\n",
       " 448 │    33985   1205  Bloodivores                        ['Action', 'Supernatural', 'Vamp…  tv       5.96046  0.667904  0.943405  0.000124639\n",
       " 449 │    36524   3690  Dies Irae: Reimei                  ['Action', 'Super Power']          special  5.85955  0.408048  0.859731  0.000115535\n",
       " 450 │    31904  16616  Big Order (TV)                     ['Action', 'Shounen', 'Super Pow…  tv       6.06213  0.823983  1.14155   0.000557776\n",
       " 451 │    32271  16765  Dies Irae                          ['Action', 'Military', 'Super Po…  tv       5.63985  0.434186  0.778495  0.000228489\n",
       " 452 │    35252   2460  Hatena☆Illusion                    ['Comedy', 'Ecchi', 'Romance', '…  tv       5.87137  0.562916  1.02175   0.000120514\n",
       " 453 │    36510   3676  Ulysses: Jehanne Darc to Renkin …  ['Action', 'Fantasy']              tv       5.6843   0.515026  0.878531  0.000171181\n",
       " 454 │    15605  11818  Brothers Conflict                  ['Harem', 'Romance', 'Shoujo']     tv       6.02902  0.147674  1.26417   0.000119602\n",
       " 455 │    49292  12258  Deep Insanity: The Lost Child      ['Sci-Fi']                         tv       5.67254  0.473108  1.07289   7.20272e-5\n",
       " 456 │    36632   3798  Ore ga Suki nano wa Imouto daked…  ['Comedy', 'Ecchi', 'Romance']     tv       5.19735  0.515983  0.933987  0.000370122\n",
       " 457 │    17513  12697  Diabolik Lovers                    ['Harem', 'School', 'Shoujo', 'V…  tv       5.35264  0.344626  1.28439   0.000186239\n",
       " 458 │    40074   6963  Gibiate                            ['Action', 'Fantasy', 'Horror', …  tv       4.6618   0.81612   1.20229   0.000100202\n",
       " 459 │    19315  13179  Pupa                               ['Fantasy', 'Horror', 'Psycholog…  tv       3.80198  0.199661  1.49703   0.000324246\n",
       "\u001b[36m                                                                                                                                368 rows omitted\u001b[0m"
      ]
     },
     "execution_count": 21,
     "metadata": {},
     "output_type": "execute_result"
    }
   ],
   "source": [
    "rec_df |> sampling_filter |> pretty_display"
   ]
  },
  {
   "cell_type": "code",
   "execution_count": null,
   "id": "db68f808-db9c-4bff-8378-81ebd16b1ca5",
   "metadata": {},
   "outputs": [],
   "source": []
  }
 ],
 "metadata": {
  "kernelspec": {
   "display_name": "Julia 1.6.3",
   "language": "julia",
   "name": "julia-1.6"
  },
  "language_info": {
   "file_extension": ".jl",
   "mimetype": "application/julia",
   "name": "julia",
   "version": "1.6.3"
  }
 },
 "nbformat": 4,
 "nbformat_minor": 5
}
