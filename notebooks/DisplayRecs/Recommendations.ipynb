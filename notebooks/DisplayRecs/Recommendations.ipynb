{
 "cells": [
  {
   "cell_type": "code",
   "execution_count": 1,
   "id": "240e43fd-abc8-4d44-a3d6-85293d0dd756",
   "metadata": {},
   "outputs": [],
   "source": [
    "source = \"Recommendations\";"
   ]
  },
  {
   "cell_type": "code",
   "execution_count": 2,
   "id": "ba187524-034d-40f6-9e40-0ab5123e36bb",
   "metadata": {},
   "outputs": [],
   "source": [
    "using NBInclude\n",
    "@nbinclude(\"../ProductionAlphas/Alpha.ipynb\");"
   ]
  },
  {
   "cell_type": "code",
   "execution_count": 3,
   "id": "2dc4c5b5-a759-463c-b163-e47fd461a554",
   "metadata": {},
   "outputs": [],
   "source": [
    "ENV[\"COLUMNS\"] = 999999;\n",
    "ENV[\"LINES\"] = 100;\n",
    "recommend_related_series = false;"
   ]
  },
  {
   "cell_type": "code",
   "execution_count": 4,
   "id": "20127075-7c57-4629-9283-d1f18a8ff2bb",
   "metadata": {},
   "outputs": [],
   "source": [
    "anime = DataFrame(CSV.File(\"../../data/raw_data/anime.csv\", ntasks = 1))\n",
    "anime_to_uid = DataFrame(CSV.File(\"../../data/processed_data/anime_to_uid.csv\"))\n",
    "anime_to_uid = innerjoin(anime_to_uid, anime, on = \"anime_id\");"
   ]
  },
  {
   "cell_type": "code",
   "execution_count": 5,
   "id": "9fa0327c-2d09-4040-8819-32125a957f15",
   "metadata": {
    "tags": []
   },
   "outputs": [],
   "source": [
    "predictions = read_recommendee_alpha(\"CombineSignals\").rating\n",
    "rating_df = DataFrame(\n",
    "    \"uid\" => 0:length(predictions)-1,\n",
    "    \"rating\" => predictions,\n",
    "    \"alpha\" => predictions - read_recommendee_alpha(\"UserItemBiases\").rating,\n",
    "    \"std\" => read_recommendee_alpha(\"PredictedErrors\").rating,\n",
    "    \"p\" => read_recommendee_alpha(\"ANN\").rating,\n",
    ");\n",
    "# penalize items for uncertainty. This can come from 1) model error or 2) insufficient training data\n",
    "rating_df.score = rating_df.rating - 1 * rating_df.std;"
   ]
  },
  {
   "cell_type": "code",
   "execution_count": 6,
   "id": "89a34ece-a029-4b79-98a8-743d7aa89b22",
   "metadata": {},
   "outputs": [
    {
     "name": "stderr",
     "output_type": "stream",
     "text": [
      "\u001b[38;5;4m\u001b[1m[ \u001b[22m\u001b[39m\u001b[38;5;4m\u001b[1mDebug: \u001b[22m\u001b[39m20220124 06:00:22 1.2921525637618538\n",
      "\u001b[38;5;4m\u001b[1m[ \u001b[22m\u001b[39m\u001b[38;5;4m\u001b[1mDebug: \u001b[22m\u001b[39m20220124 06:00:22 0.9872614997567055\n",
      "\u001b[38;5;4m\u001b[1m[ \u001b[22m\u001b[39m\u001b[38;5;4m\u001b[1mDebug: \u001b[22m\u001b[39m20220124 06:00:22 0.4451926269017402\n"
     ]
    }
   ],
   "source": [
    "# evaluate our insample predictions\n",
    "df = get_recommendee_list()\n",
    "@debug rmse(df.rating, predictions[df.item])\n",
    "@debug mae(df.rating, predictions[df.item])\n",
    "@debug r2(df.rating, predictions[df.item])"
   ]
  },
  {
   "cell_type": "code",
   "execution_count": 7,
   "id": "24345713-0e5e-4d52-89a2-16dd2b5d3f96",
   "metadata": {
    "tags": []
   },
   "outputs": [],
   "source": [
    "function dont_recommend!(df, mask)\n",
    "    df.rating[mask] .= 0\n",
    "    df.alpha[mask] .= -Inf\n",
    "    df.score[mask] .= -Inf\n",
    "    df.p[mask] .= 0\n",
    "end;\n",
    "\n",
    "# don't recommend shows that the user has already seen before\n",
    "dont_recommend!(rating_df, get_recommendee_list().item)\n",
    "dont_recommend!(rating_df, get_implicit_list().item)\n",
    "\n",
    "# don't recommend shows related to shows they have seen before\n",
    "if !recommend_related_series\n",
    "    related_series =\n",
    "        get_alpha(\"ItemCFRelated.strict_relations\", \"recommendee_inference\").rating .!= 0\n",
    "    dont_recommend!(rating_df, related_series)\n",
    "end;\n",
    "\n",
    "# renormalize p\n",
    "rating_df.p = rating_df.p ./ sum(rating_df.p);"
   ]
  },
  {
   "cell_type": "code",
   "execution_count": 8,
   "id": "2f87ebbf-d246-43cc-8b07-79b4929318ea",
   "metadata": {},
   "outputs": [],
   "source": [
    "rec_df = innerjoin(anime_to_uid, rating_df, on = \"uid\");\n",
    "rec_df = rec_df[\n",
    "    :,\n",
    "    [\n",
    "        \"anime_id\",\n",
    "        \"uid\",\n",
    "        \"title\",\n",
    "        \"genres\",\n",
    "        \"medium\",\n",
    "        \"rating\",\n",
    "        \"alpha\",\n",
    "        \"std\",\n",
    "        \"score\",\n",
    "        \"p\",\n",
    "    ],\n",
    "];"
   ]
  },
  {
   "cell_type": "code",
   "execution_count": 9,
   "id": "43369775-7454-4784-8be2-c9dfbc828690",
   "metadata": {},
   "outputs": [
    {
     "data": {
      "text/plain": [
       "420"
      ]
     },
     "execution_count": 9,
     "metadata": {},
     "output_type": "execute_result"
    }
   ],
   "source": [
    "length(get_recommendee_list().item) + length(get_implicit_list().item)"
   ]
  },
  {
   "cell_type": "code",
   "execution_count": 10,
   "id": "6c754385-ed58-4658-a5aa-931223d26790",
   "metadata": {},
   "outputs": [
    {
     "data": {
      "text/plain": [
       "(1.5763948237367375e-7, 2.1463280446115106e-5, 0.00013660620714230212)"
      ]
     },
     "execution_count": 10,
     "metadata": {},
     "output_type": "execute_result"
    }
   ],
   "source": [
    "median(rec_df.p), quantile(rec_df.p, 0.75), quantile(rec_df.p, 0.9)"
   ]
  },
  {
   "cell_type": "code",
   "execution_count": 11,
   "id": "e3bc9c36-6023-425b-9f9c-ce3c7e29dc5c",
   "metadata": {},
   "outputs": [],
   "source": [
    "# the model predicts ratings conditional on the user watching the series\n",
    "# we want to predict ratings for items the user has not already decided to watch\n",
    "# to mitigate the sampling bias, we first filter to series that the user is likely to be interested in\n",
    "min_alpha = quantile(filter(x -> x.medium == \"tv\", rec_df).alpha, 0.75);\n",
    "min_p = quantile(filter(x -> x.medium == \"tv\", rec_df).p, 0.8);"
   ]
  },
  {
   "cell_type": "code",
   "execution_count": 12,
   "id": "7e6e5acd-cf57-47b0-a14c-84b3aa86b384",
   "metadata": {},
   "outputs": [
    {
     "data": {
      "text/plain": [
       "(0.19866622948507517, 0.00014881216963895372)"
      ]
     },
     "execution_count": 12,
     "metadata": {},
     "output_type": "execute_result"
    }
   ],
   "source": [
    "min_alpha, min_p"
   ]
  },
  {
   "cell_type": "code",
   "execution_count": 13,
   "id": "c29f2a91-ee7c-4bf1-962b-639938a3c6d1",
   "metadata": {},
   "outputs": [
    {
     "data": {
      "text/plain": [
       "0.1"
      ]
     },
     "execution_count": 13,
     "metadata": {},
     "output_type": "execute_result"
    }
   ],
   "source": [
    "min_alpha = 0.1"
   ]
  },
  {
   "cell_type": "code",
   "execution_count": 14,
   "id": "2d1d16b1-af0b-4b2e-bc96-c67c88cce11f",
   "metadata": {},
   "outputs": [
    {
     "data": {
      "text/plain": [
       "sampling_filter (generic function with 1 method)"
      ]
     },
     "execution_count": 14,
     "metadata": {},
     "output_type": "execute_result"
    }
   ],
   "source": [
    "function sampling_filter(df)\n",
    "    filter(x -> x.p >= min_p, filter(x -> x.alpha .> min_alpha, df))\n",
    "end"
   ]
  },
  {
   "cell_type": "code",
   "execution_count": 15,
   "id": "18ff34eb-30fd-4161-b14e-81658d4d2960",
   "metadata": {},
   "outputs": [
    {
     "data": {
      "text/html": [
       "<div class=\"data-frame\"><p>1 rows × 10 columns</p><table class=\"data-frame\"><thead><tr><th></th><th>anime_id</th><th>uid</th><th>title</th><th>genres</th><th>medium</th><th>rating</th><th>alpha</th><th>std</th><th>score</th><th>p</th></tr><tr><th></th><th title=\"Int64\">Int64</th><th title=\"Int64\">Int64</th><th title=\"String\">String</th><th title=\"String\">String</th><th title=\"String7\">String7</th><th title=\"Float64\">Float64</th><th title=\"Float64\">Float64</th><th title=\"Float64\">Float64</th><th title=\"Float64\">Float64</th><th title=\"Float64\">Float64</th></tr></thead><tbody><tr><th>1</th><td>19</td><td>17</td><td>Monster</td><td>[&apos;Drama&apos;, &apos;Horror&apos;, &apos;Mystery&apos;, &apos;Police&apos;, &apos;Psychological&apos;, &apos;Seinen&apos;, &apos;Suspense&apos;]</td><td>tv</td><td>6.31506</td><td>-1.37899</td><td>1.22866</td><td>5.0864</td><td>0.00324212</td></tr></tbody></table></div>"
      ],
      "text/latex": [
       "\\begin{tabular}{r|cccccccccc}\n",
       "\t& anime\\_id & uid & title & genres & medium & rating & alpha & std & score & p\\\\\n",
       "\t\\hline\n",
       "\t& Int64 & Int64 & String & String & String7 & Float64 & Float64 & Float64 & Float64 & Float64\\\\\n",
       "\t\\hline\n",
       "\t1 & 19 & 17 & Monster & ['Drama', 'Horror', 'Mystery', 'Police', 'Psychological', 'Seinen', 'Suspense'] & tv & 6.31506 & -1.37899 & 1.22866 & 5.0864 & 0.00324212 \\\\\n",
       "\\end{tabular}\n"
      ],
      "text/plain": [
       "\u001b[1m1×10 DataFrame\u001b[0m\n",
       "\u001b[1m Row \u001b[0m│\u001b[1m anime_id \u001b[0m\u001b[1m uid   \u001b[0m\u001b[1m title   \u001b[0m\u001b[1m genres                            \u001b[0m\u001b[1m medium  \u001b[0m\u001b[1m rating  \u001b[0m\u001b[1m alpha    \u001b[0m\u001b[1m std     \u001b[0m\u001b[1m score   \u001b[0m\u001b[1m p          \u001b[0m\n",
       "\u001b[1m     \u001b[0m│\u001b[90m Int64    \u001b[0m\u001b[90m Int64 \u001b[0m\u001b[90m String  \u001b[0m\u001b[90m String                            \u001b[0m\u001b[90m String7 \u001b[0m\u001b[90m Float64 \u001b[0m\u001b[90m Float64  \u001b[0m\u001b[90m Float64 \u001b[0m\u001b[90m Float64 \u001b[0m\u001b[90m Float64    \u001b[0m\n",
       "─────┼───────────────────────────────────────────────────────────────────────────────────────────────────────────────────────\n",
       "   1 │       19     17  Monster  ['Drama', 'Horror', 'Mystery', '…  tv       6.31506  -1.37899  1.22866   5.0864  0.00324212"
      ]
     },
     "execution_count": 15,
     "metadata": {},
     "output_type": "execute_result"
    }
   ],
   "source": [
    "filter(x -> x.title == \"Monster\", rec_df)"
   ]
  },
  {
   "cell_type": "code",
   "execution_count": 16,
   "id": "87d0ac7b-9f8d-4d5d-ab59-ad8e65a6d948",
   "metadata": {},
   "outputs": [],
   "source": [
    "function pretty_display(df)\n",
    "    df = sort(df, :score, rev = true)\n",
    "    select(df, Not(:score))\n",
    "end;"
   ]
  },
  {
   "cell_type": "code",
   "execution_count": 17,
   "id": "34a59b44-0f91-4433-bca3-1ca7f5e1dcb6",
   "metadata": {},
   "outputs": [
    {
     "data": {
      "text/plain": [
       "10-element Vector{String}:\n",
       " \"Hibike! Euphonium\"\n",
       " \"Shirobako\"\n",
       " \"Girls & Panzer\"\n",
       " \"Hibike! Euphonium 2\"\n",
       " \"Kanon (2006)\"\n",
       " \"Air\"\n",
       " \"The iDOLM@STER\"\n",
       " \"Chobits\"\n",
       " \"Rozen Maiden\"\n",
       " \"Kemono Friends\""
      ]
     },
     "execution_count": 17,
     "metadata": {},
     "output_type": "execute_result"
    }
   ],
   "source": [
    "sort!(\n",
    "    (filter(x -> x.medium == \"tv\", rec_df |> sampling_filter)|>pretty_display)[1:100, :],\n",
    "    :p,\n",
    "    rev = true,\n",
    ").title[1:10]"
   ]
  },
  {
   "cell_type": "code",
   "execution_count": 18,
   "id": "8be1796c-4241-47d0-83c4-f7ed3a9c10b5",
   "metadata": {},
   "outputs": [
    {
     "data": {
      "text/html": [
       "<div class=\"data-frame\"><p>255 rows × 9 columns</p><table class=\"data-frame\"><thead><tr><th></th><th>anime_id</th><th>uid</th><th>title</th><th>genres</th><th>medium</th><th>rating</th><th>alpha</th><th>std</th><th>p</th></tr><tr><th></th><th title=\"Int64\">Int64</th><th title=\"Int64\">Int64</th><th title=\"String\">String</th><th title=\"String\">String</th><th title=\"String7\">String7</th><th title=\"Float64\">Float64</th><th title=\"Float64\">Float64</th><th title=\"Float64\">Float64</th><th title=\"Float64\">Float64</th></tr></thead><tbody><tr><th>1</th><td>31988</td><td>16650</td><td>Hibike! Euphonium 2</td><td>[&apos;Drama&apos;, &apos;Music&apos;, &apos;School&apos;]</td><td>tv</td><td>7.31783</td><td>0.276794</td><td>0.860187</td><td>0.00227862</td></tr><tr><th>2</th><td>34914</td><td>2128</td><td>New Game!!</td><td>[&apos;Comedy&apos;, &apos;Game&apos;, &apos;Slice of Life&apos;]</td><td>tv</td><td>7.01229</td><td>0.713709</td><td>0.633501</td><td>0.00114507</td></tr><tr><th>3</th><td>3750</td><td>3684</td><td>Maria-sama ga Miteru 4th</td><td>[&apos;Girls Love&apos;, &apos;School&apos;, &apos;Shoujo&apos;, &apos;Slice of Life&apos;]</td><td>tv</td><td>7.17142</td><td>0.75794</td><td>0.80201</td><td>0.00015453</td></tr><tr><th>4</th><td>1530</td><td>1514</td><td>Kanon (2006)</td><td>[&apos;Drama&apos;, &apos;Romance&apos;, &apos;Slice of Life&apos;, &apos;Supernatural&apos;]</td><td>tv</td><td>7.22907</td><td>0.732846</td><td>0.889388</td><td>0.00197499</td></tr><tr><th>5</th><td>38993</td><td>5956</td><td>Karakai Jouzu no Takagi-san 2</td><td>[&apos;Comedy&apos;, &apos;Romance&apos;, &apos;School&apos;, &apos;Shounen&apos;, &apos;Slice of Life&apos;]</td><td>tv</td><td>6.89854</td><td>0.300659</td><td>0.71322</td><td>0.000212542</td></tr><tr><th>6</th><td>488</td><td>484</td><td>Ichigo Mashimaro</td><td>[&apos;Comedy&apos;, &apos;Slice of Life&apos;]</td><td>tv</td><td>6.90632</td><td>0.652097</td><td>0.725876</td><td>0.0015532</td></tr><tr><th>7</th><td>27989</td><td>15108</td><td>Hibike! Euphonium</td><td>[&apos;Drama&apos;, &apos;Music&apos;, &apos;School&apos;]</td><td>tv</td><td>6.96863</td><td>0.296272</td><td>0.821908</td><td>0.00314564</td></tr><tr><th>8</th><td>1858</td><td>1841</td><td>Gakuen Utopia Manabi Straight!</td><td>[&apos;Comedy&apos;, &apos;School&apos;, &apos;Slice of Life&apos;]</td><td>tv</td><td>6.89827</td><td>0.970434</td><td>0.808837</td><td>0.000309187</td></tr><tr><th>9</th><td>593</td><td>589</td><td>Mugen no Ryvius</td><td>[&apos;Drama&apos;, &apos;Mecha&apos;, &apos;Military&apos;, &apos;Psychological&apos;, &apos;Sci-Fi&apos;, &apos;Space&apos;]</td><td>tv</td><td>7.15226</td><td>0.717948</td><td>1.09881</td><td>0.000212193</td></tr><tr><th>10</th><td>877</td><td>864</td><td>Nana</td><td>[&apos;Comedy&apos;, &apos;Drama&apos;, &apos;Music&apos;, &apos;Romance&apos;, &apos;Shoujo&apos;, &apos;Slice of Life&apos;]</td><td>tv</td><td>7.2808</td><td>0.268505</td><td>1.23625</td><td>0.00128622</td></tr><tr><th>11</th><td>444</td><td>440</td><td>Maria-sama ga Miteru: Haru</td><td>[&apos;Drama&apos;, &apos;Girls Love&apos;, &apos;Romance&apos;, &apos;School&apos;, &apos;Shoujo&apos;]</td><td>tv</td><td>6.79158</td><td>0.533587</td><td>0.850345</td><td>0.000208187</td></tr><tr><th>12</th><td>122</td><td>120</td><td>Full Moon wo Sagashite</td><td>[&apos;Comedy&apos;, &apos;Drama&apos;, &apos;Music&apos;, &apos;Romance&apos;, &apos;Shoujo&apos;, &apos;Supernatural&apos;]</td><td>tv</td><td>6.92751</td><td>0.671116</td><td>1.01773</td><td>0.000217698</td></tr><tr><th>13</th><td>39783</td><td>6714</td><td>5-toubun no Hanayome ∬</td><td>[&apos;Comedy&apos;, &apos;Harem&apos;, &apos;Romance&apos;, &apos;School&apos;, &apos;Shounen&apos;]</td><td>tv</td><td>6.8902</td><td>0.376524</td><td>0.987837</td><td>0.000176418</td></tr><tr><th>14</th><td>42941</td><td>9313</td><td>Uma Musume: Pretty Derby (TV) Season 2</td><td>[&apos;Comedy&apos;, &apos;Slice of Life&apos;, &apos;Sports&apos;]</td><td>tv</td><td>7.03777</td><td>0.487675</td><td>1.14971</td><td>0.000151762</td></tr><tr><th>15</th><td>29787</td><td>15583</td><td>Gochuumon wa Usagi Desu ka??</td><td>[&apos;Comedy&apos;, &apos;Slice of Life&apos;]</td><td>tv</td><td>6.60885</td><td>0.32393</td><td>0.873096</td><td>0.00122408</td></tr><tr><th>16</th><td>30727</td><td>16064</td><td>Saenai Heroine no Sodatekata ♭</td><td>[&apos;Comedy&apos;, &apos;Ecchi&apos;, &apos;Harem&apos;, &apos;Romance&apos;, &apos;School&apos;]</td><td>tv</td><td>6.71959</td><td>0.501457</td><td>0.994073</td><td>0.000501885</td></tr><tr><th>17</th><td>33089</td><td>317</td><td>Kemono Friends</td><td>[&apos;Adventure&apos;, &apos;Comedy&apos;, &apos;Fantasy&apos;]</td><td>tv</td><td>6.67476</td><td>0.605963</td><td>0.953188</td><td>0.00158521</td></tr><tr><th>18</th><td>35639</td><td>2844</td><td>Just Because!</td><td>[&apos;Drama&apos;, &apos;Romance&apos;, &apos;School&apos;, &apos;Slice of Life&apos;]</td><td>tv</td><td>6.71328</td><td>1.07081</td><td>0.996729</td><td>0.000390616</td></tr><tr><th>19</th><td>427</td><td>423</td><td>Kaleido Star</td><td>[&apos;Comedy&apos;, &apos;Drama&apos;, &apos;Fantasy&apos;, &apos;Shoujo&apos;, &apos;Sports&apos;]</td><td>tv</td><td>6.67913</td><td>0.394879</td><td>1.01153</td><td>0.000162488</td></tr><tr><th>20</th><td>21877</td><td>13802</td><td>High Score Girl</td><td>[&apos;Comedy&apos;, &apos;Game&apos;, &apos;Romance&apos;, &apos;School&apos;, &apos;Seinen&apos;]</td><td>tv</td><td>6.65644</td><td>0.205141</td><td>0.993221</td><td>0.000825758</td></tr><tr><th>21</th><td>38753</td><td>5719</td><td>Araburu Kisetsu no Otome-domo yo.</td><td>[&apos;Comedy&apos;, &apos;Drama&apos;, &apos;Romance&apos;, &apos;School&apos;, &apos;Shounen&apos;]</td><td>tv</td><td>6.58601</td><td>0.572206</td><td>0.93007</td><td>0.000512281</td></tr><tr><th>22</th><td>42361</td><td>8831</td><td>Ijiranaide, Nagatoro-san</td><td>[&apos;Comedy&apos;, &apos;Romance&apos;, &apos;Slice of Life&apos;]</td><td>tv</td><td>6.48398</td><td>0.827335</td><td>0.841302</td><td>0.000241377</td></tr><tr><th>23</th><td>532</td><td>528</td><td>Bishoujo Senshi Sailor Moon S</td><td>[&apos;Drama&apos;, &apos;Romance&apos;, &apos;Shoujo&apos;]</td><td>tv</td><td>6.42464</td><td>0.232407</td><td>0.80726</td><td>0.000391338</td></tr><tr><th>24</th><td>25835</td><td>14749</td><td>Shirobako</td><td>[&apos;Comedy&apos;, &apos;Drama&apos;]</td><td>tv</td><td>7.33144</td><td>0.320422</td><td>1.72448</td><td>0.00289862</td></tr><tr><th>25</th><td>14941</td><td>11486</td><td>AKB0048: Next Stage</td><td>[&apos;Music&apos;, &apos;Sci-Fi&apos;]</td><td>tv</td><td>6.63382</td><td>0.626084</td><td>1.03584</td><td>0.000290204</td></tr><tr><th>26</th><td>32836</td><td>67</td><td>Senki Zesshou Symphogear AXZ</td><td>[&apos;Action&apos;, &apos;Music&apos;, &apos;Sci-Fi&apos;]</td><td>tv</td><td>6.93375</td><td>0.760931</td><td>1.40695</td><td>0.000186081</td></tr><tr><th>27</th><td>182</td><td>180</td><td>Tenkuu no Escaflowne</td><td>[&apos;Adventure&apos;, &apos;Fantasy&apos;, &apos;Mecha&apos;, &apos;Psychological&apos;, &apos;Romance&apos;]</td><td>tv</td><td>6.51354</td><td>0.233981</td><td>0.987095</td><td>0.000807177</td></tr><tr><th>28</th><td>59</td><td>57</td><td>Chobits</td><td>[&apos;Comedy&apos;, &apos;Drama&apos;, &apos;Ecchi&apos;, &apos;Romance&apos;, &apos;Sci-Fi&apos;, &apos;Seinen&apos;]</td><td>tv</td><td>6.569</td><td>0.803546</td><td>1.04584</td><td>0.00162937</td></tr><tr><th>29</th><td>37982</td><td>5036</td><td>Domestic na Kanojo</td><td>[&apos;Drama&apos;, &apos;Romance&apos;, &apos;School&apos;, &apos;Shounen&apos;]</td><td>tv</td><td>6.51356</td><td>1.4899</td><td>1.02749</td><td>0.00034542</td></tr><tr><th>30</th><td>18897</td><td>13057</td><td>Nisekoi</td><td>[&apos;Comedy&apos;, &apos;Harem&apos;, &apos;Romance&apos;, &apos;School&apos;, &apos;Shounen&apos;]</td><td>tv</td><td>6.33795</td><td>0.328646</td><td>0.879429</td><td>0.00123047</td></tr><tr><th>31</th><td>35860</td><td>3060</td><td>Karakai Jouzu no Takagi-san</td><td>[&apos;Comedy&apos;, &apos;Romance&apos;, &apos;School&apos;, &apos;Shounen&apos;, &apos;Slice of Life&apos;]</td><td>tv</td><td>6.4686</td><td>0.346633</td><td>1.01473</td><td>0.000500116</td></tr><tr><th>32</th><td>330</td><td>326</td><td>Midori no Hibi</td><td>[&apos;Comedy&apos;, &apos;Drama&apos;, &apos;Ecchi&apos;, &apos;Romance&apos;, &apos;Shounen&apos;]</td><td>tv</td><td>6.29302</td><td>0.621726</td><td>0.844272</td><td>0.000824668</td></tr><tr><th>33</th><td>158</td><td>156</td><td>Maria-sama ga Miteru</td><td>[&apos;Drama&apos;, &apos;Girls Love&apos;, &apos;Romance&apos;, &apos;Shoujo&apos;, &apos;Slice of Life&apos;]</td><td>tv</td><td>6.53241</td><td>0.702656</td><td>1.08778</td><td>0.000385479</td></tr><tr><th>34</th><td>34902</td><td>2116</td><td>Tsurezure Children</td><td>[&apos;Comedy&apos;, &apos;Romance&apos;, &apos;School&apos;, &apos;Shounen&apos;]</td><td>tv</td><td>6.36847</td><td>0.210585</td><td>0.926962</td><td>0.00069528</td></tr><tr><th>35</th><td>23277</td><td>14214</td><td>Saenai Heroine no Sodatekata</td><td>[&apos;Comedy&apos;, &apos;Ecchi&apos;, &apos;Harem&apos;, &apos;Romance&apos;, &apos;School&apos;]</td><td>tv</td><td>6.36238</td><td>0.451538</td><td>0.933471</td><td>0.000990278</td></tr><tr><th>36</th><td>587</td><td>584</td><td>Hanbun no Tsuki ga Noboru Sora</td><td>[&apos;Comedy&apos;, &apos;Drama&apos;, &apos;Romance&apos;]</td><td>tv</td><td>6.37015</td><td>0.446992</td><td>0.945245</td><td>0.000326225</td></tr><tr><th>37</th><td>5671</td><td>5427</td><td>Saki</td><td>[&apos;Game&apos;, &apos;School&apos;, &apos;Slice of Life&apos;]</td><td>tv</td><td>6.36886</td><td>0.475589</td><td>0.957233</td><td>0.000770826</td></tr><tr><th>38</th><td>40685</td><td>7503</td><td>Super Cub</td><td>[&apos;School&apos;, &apos;Slice of Life&apos;]</td><td>tv</td><td>6.44334</td><td>0.440245</td><td>1.03287</td><td>0.000205581</td></tr><tr><th>39</th><td>1222</td><td>1209</td><td>Bokura ga Ita</td><td>[&apos;Drama&apos;, &apos;Romance&apos;, &apos;Shoujo&apos;, &apos;Slice of Life&apos;]</td><td>tv</td><td>6.7227</td><td>1.14725</td><td>1.32476</td><td>0.000434063</td></tr><tr><th>40</th><td>38101</td><td>5153</td><td>5-toubun no Hanayome</td><td>[&apos;Comedy&apos;, &apos;Harem&apos;, &apos;Romance&apos;, &apos;School&apos;, &apos;Shounen&apos;]</td><td>tv</td><td>6.3435</td><td>0.353589</td><td>0.976349</td><td>0.000405277</td></tr><tr><th>41</th><td>530</td><td>526</td><td>Bishoujo Senshi Sailor Moon</td><td>[&apos;Demons&apos;, &apos;Romance&apos;, &apos;Shoujo&apos;]</td><td>tv</td><td>6.17195</td><td>0.159274</td><td>0.829708</td><td>0.00086286</td></tr><tr><th>42</th><td>195</td><td>193</td><td>Onegai☆Teacher</td><td>[&apos;Comedy&apos;, &apos;Drama&apos;, &apos;Romance&apos;, &apos;School&apos;, &apos;Sci-Fi&apos;]</td><td>tv</td><td>6.35511</td><td>0.91477</td><td>1.01446</td><td>0.000671816</td></tr><tr><th>43</th><td>584</td><td>580</td><td>Noein: Mou Hitori no Kimi e</td><td>[&apos;Adventure&apos;, &apos;Drama&apos;, &apos;Sci-Fi&apos;, &apos;Slice of Life&apos;]</td><td>tv</td><td>6.34014</td><td>0.106677</td><td>1.00488</td><td>0.00044902</td></tr><tr><th>44</th><td>40938</td><td>7715</td><td>Hige wo Soru. Soshite Joshikousei wo Hirou.</td><td>[&apos;Drama&apos;, &apos;Romance&apos;]</td><td>tv</td><td>6.15984</td><td>0.622444</td><td>0.830061</td><td>0.000240783</td></tr><tr><th>45</th><td>1592</td><td>1576</td><td>Hataraki Man</td><td>[&apos;Comedy&apos;, &apos;Drama&apos;, &apos;Romance&apos;, &apos;Seinen&apos;, &apos;Slice of Life&apos;]</td><td>tv</td><td>6.23931</td><td>0.437493</td><td>0.913471</td><td>0.000190017</td></tr><tr><th>46</th><td>35240</td><td>2448</td><td>Princess Principal</td><td>[&apos;Action&apos;, &apos;Historical&apos;, &apos;Mystery&apos;]</td><td>tv</td><td>6.45214</td><td>0.249076</td><td>1.12801</td><td>0.000858722</td></tr><tr><th>47</th><td>4720</td><td>4578</td><td>White Album</td><td>[&apos;Drama&apos;, &apos;Harem&apos;, &apos;Music&apos;, &apos;Romance&apos;]</td><td>tv</td><td>6.29442</td><td>1.37693</td><td>0.973344</td><td>0.000400933</td></tr><tr><th>48</th><td>3958</td><td>3888</td><td>Kannagi</td><td>[&apos;Comedy&apos;, &apos;School&apos;, &apos;Shounen&apos;, &apos;Supernatural&apos;]</td><td>tv</td><td>6.32809</td><td>0.540137</td><td>1.00936</td><td>0.000904309</td></tr><tr><th>49</th><td>2942</td><td>2915</td><td>Sketchbook: Full Color&apos;s</td><td>[&apos;Comedy&apos;, &apos;Slice of Life&apos;]</td><td>tv</td><td>6.30469</td><td>0.258274</td><td>0.988348</td><td>0.000201543</td></tr><tr><th>50</th><td>165</td><td>163</td><td>RahXephon</td><td>[&apos;Action&apos;, &apos;Drama&apos;, &apos;Mecha&apos;, &apos;Music&apos;, &apos;Mystery&apos;, &apos;Psychological&apos;, &apos;Romance&apos;, &apos;Sci-Fi&apos;]</td><td>tv</td><td>6.33353</td><td>0.248349</td><td>1.01737</td><td>0.000703886</td></tr><tr><th>51</th><td>48849</td><td>12035</td><td>Sonny Boy</td><td>[&apos;Mystery&apos;, &apos;Super Power&apos;]</td><td>tv</td><td>6.5154</td><td>0.17497</td><td>1.20187</td><td>0.000245127</td></tr><tr><th>52</th><td>1087</td><td>1074</td><td>Kimagure Orange☆Road</td><td>[&apos;Comedy&apos;, &apos;Drama&apos;, &apos;Romance&apos;, &apos;School&apos;, &apos;Shounen&apos;, &apos;Slice of Life&apos;, &apos;Super Power&apos;]</td><td>tv</td><td>6.34967</td><td>0.173525</td><td>1.03689</td><td>0.000235451</td></tr><tr><th>53</th><td>31859</td><td>16595</td><td>Hai to Gensou no Grimgar</td><td>[&apos;Action&apos;, &apos;Adventure&apos;, &apos;Drama&apos;, &apos;Fantasy&apos;]</td><td>tv</td><td>6.37042</td><td>0.342214</td><td>1.06412</td><td>0.000582996</td></tr><tr><th>54</th><td>102</td><td>100</td><td>Aishiteruze Baby★★</td><td>[&apos;Comedy&apos;, &apos;Drama&apos;, &apos;Romance&apos;, &apos;Shoujo&apos;]</td><td>tv</td><td>6.21857</td><td>0.522754</td><td>0.912727</td><td>0.000256626</td></tr><tr><th>55</th><td>52</td><td>50</td><td>Kidou Tenshi Angelic Layer</td><td>[&apos;Comedy&apos;, &apos;Drama&apos;, &apos;Sci-Fi&apos;, &apos;Shounen&apos;, &apos;Sports&apos;]</td><td>tv</td><td>6.17603</td><td>0.61563</td><td>0.871245</td><td>0.000286138</td></tr><tr><th>56</th><td>5141</td><td>4964</td><td>Taishou Yakyuu Musume.</td><td>[&apos;Comedy&apos;, &apos;Historical&apos;, &apos;School&apos;, &apos;Seinen&apos;, &apos;Sports&apos;]</td><td>tv</td><td>6.30738</td><td>0.274323</td><td>1.01732</td><td>0.000193451</td></tr><tr><th>57</th><td>5150</td><td>4972</td><td>Hatsukoi Limited.</td><td>[&apos;Comedy&apos;, &apos;Romance&apos;, &apos;School&apos;, &apos;Shounen&apos;]</td><td>tv</td><td>6.10775</td><td>0.370677</td><td>0.822985</td><td>0.000414231</td></tr><tr><th>58</th><td>4483</td><td>4360</td><td>Mahoutsukai ni Taisetsu na Koto: Natsu no Sora</td><td>[&apos;Drama&apos;, &apos;Romance&apos;, &apos;Shounen&apos;, &apos;Slice of Life&apos;]</td><td>tv</td><td>6.32237</td><td>0.445821</td><td>1.08574</td><td>0.000285769</td></tr><tr><th>59</th><td>552</td><td>548</td><td>Digimon Adventure</td><td>[&apos;Action&apos;, &apos;Adventure&apos;, &apos;Comedy&apos;, &apos;Fantasy&apos;, &apos;Kids&apos;]</td><td>tv</td><td>6.49667</td><td>0.322633</td><td>1.26986</td><td>0.000657909</td></tr><tr><th>60</th><td>34934</td><td>2148</td><td>Koi to Uso</td><td>[&apos;Drama&apos;, &apos;Romance&apos;, &apos;School&apos;]</td><td>tv</td><td>6.04411</td><td>1.20409</td><td>0.824223</td><td>0.000570646</td></tr><tr><th>61</th><td>209</td><td>208</td><td>R.O.D: The TV</td><td>[&apos;Action&apos;, &apos;Adventure&apos;, &apos;Comedy&apos;, &apos;Drama&apos;, &apos;Sci-Fi&apos;, &apos;Super Power&apos;]</td><td>tv</td><td>6.19603</td><td>0.215586</td><td>0.9823</td><td>0.00029214</td></tr><tr><th>62</th><td>38476</td><td>5461</td><td>Heya Camp△</td><td>[&apos;Comedy&apos;, &apos;Slice of Life&apos;]</td><td>tv</td><td>6.01789</td><td>0.208117</td><td>0.808406</td><td>0.00039632</td></tr><tr><th>63</th><td>31771</td><td>16566</td><td>Amanchu!</td><td>[&apos;Comedy&apos;, &apos;School&apos;, &apos;Shounen&apos;, &apos;Slice of Life&apos;]</td><td>tv</td><td>6.30161</td><td>0.342984</td><td>1.09368</td><td>0.000636645</td></tr><tr><th>64</th><td>196</td><td>195</td><td>Onegai☆Twins</td><td>[&apos;Comedy&apos;, &apos;Drama&apos;, &apos;Harem&apos;, &apos;School&apos;, &apos;Sci-Fi&apos;]</td><td>tv</td><td>6.20351</td><td>1.02313</td><td>1.00548</td><td>0.000200422</td></tr><tr><th>65</th><td>15225</td><td>11606</td><td>Hentai Ouji to Warawanai Neko.</td><td>[&apos;Comedy&apos;, &apos;Harem&apos;, &apos;Romance&apos;, &apos;School&apos;, &apos;Supernatural&apos;]</td><td>tv</td><td>5.90181</td><td>0.3845</td><td>0.717479</td><td>0.000847454</td></tr><tr><th>66</th><td>37259</td><td>4368</td><td>Hanebado!</td><td>[&apos;Seinen&apos;, &apos;Sports&apos;]</td><td>tv</td><td>6.12465</td><td>0.664816</td><td>0.954617</td><td>0.00024705</td></tr><tr><th>67</th><td>31500</td><td>16413</td><td>High School Fleet</td><td>[&apos;Action&apos;, &apos;Military&apos;, &apos;School&apos;]</td><td>tv</td><td>6.47777</td><td>0.830922</td><td>1.30781</td><td>0.000441951</td></tr><tr><th>68</th><td>13333</td><td>11005</td><td>Tari Tari</td><td>[&apos;Music&apos;, &apos;School&apos;, &apos;Slice of Life&apos;]</td><td>tv</td><td>5.92948</td><td>0.140227</td><td>0.76331</td><td>0.00109145</td></tr><tr><th>69</th><td>6164</td><td>5898</td><td>Aoi Hana</td><td>[&apos;Girls Love&apos;, &apos;Romance&apos;, &apos;Slice of Life&apos;]</td><td>tv</td><td>6.1989</td><td>0.466889</td><td>1.03709</td><td>0.00143922</td></tr><tr><th>70</th><td>21681</td><td>13748</td><td>Hanayamata</td><td>[&apos;Comedy&apos;, &apos;School&apos;, &apos;Slice of Life&apos;]</td><td>tv</td><td>6.16625</td><td>0.40739</td><td>1.00735</td><td>0.000736994</td></tr><tr><th>71</th><td>2986</td><td>2959</td><td>Bamboo Blade</td><td>[&apos;Comedy&apos;, &apos;School&apos;, &apos;Seinen&apos;, &apos;Sports&apos;]</td><td>tv</td><td>6.11611</td><td>0.328074</td><td>0.958784</td><td>0.000341396</td></tr><tr><th>72</th><td>35376</td><td>2584</td><td>Himouto! Umaru-chan R</td><td>[&apos;Comedy&apos;, &apos;School&apos;, &apos;Seinen&apos;, &apos;Slice of Life&apos;]</td><td>tv</td><td>5.9466</td><td>0.214403</td><td>0.794552</td><td>0.000495133</td></tr><tr><th>73</th><td>126</td><td>124</td><td>Futakoi Alternative</td><td>[&apos;Comedy&apos;, &apos;Drama&apos;, &apos;Romance&apos;]</td><td>tv</td><td>6.09892</td><td>0.821828</td><td>0.959757</td><td>0.000150501</td></tr><tr><th>74</th><td>10884</td><td>9900</td><td>Saki Achiga-hen: Episode of Side-A</td><td>[&apos;Game&apos;, &apos;School&apos;, &apos;Slice of Life&apos;]</td><td>tv</td><td>6.16291</td><td>0.376841</td><td>1.03061</td><td>0.000324624</td></tr><tr><th>75</th><td>41619</td><td>8281</td><td>Munou na Nana</td><td>[&apos;Psychological&apos;, &apos;Shounen&apos;, &apos;Super Power&apos;, &apos;Supernatural&apos;, &apos;Suspense&apos;]</td><td>tv</td><td>6.08488</td><td>0.459254</td><td>0.965901</td><td>0.000160348</td></tr><tr><th>76</th><td>21573</td><td>13722</td><td>Senki Zesshou Symphogear GX</td><td>[&apos;Action&apos;, &apos;Music&apos;, &apos;Sci-Fi&apos;]</td><td>tv</td><td>6.68574</td><td>0.737728</td><td>1.57091</td><td>0.000210905</td></tr><tr><th>77</th><td>30344</td><td>15911</td><td>The iDOLM@STER Cinderella Girls 2nd Season</td><td>[&apos;Comedy&apos;, &apos;Drama&apos;, &apos;Music&apos;]</td><td>tv</td><td>6.58505</td><td>0.742146</td><td>1.48573</td><td>0.000541893</td></tr><tr><th>78</th><td>101</td><td>99</td><td>Air</td><td>[&apos;Drama&apos;, &apos;Romance&apos;, &apos;Slice of Life&apos;, &apos;Supernatural&apos;]</td><td>tv</td><td>6.31429</td><td>0.59109</td><td>1.22152</td><td>0.00186881</td></tr><tr><th>79</th><td>27787</td><td>15061</td><td>Nisekoi:</td><td>[&apos;Comedy&apos;, &apos;Harem&apos;, &apos;Romance&apos;, &apos;School&apos;, &apos;Shounen&apos;]</td><td>tv</td><td>6.01279</td><td>0.315216</td><td>0.932183</td><td>0.000630377</td></tr><tr><th>80</th><td>38186</td><td>5224</td><td>Bokutachi wa Benkyou ga Dekinai</td><td>[&apos;Comedy&apos;, &apos;Harem&apos;, &apos;Romance&apos;, &apos;School&apos;, &apos;Shounen&apos;]</td><td>tv</td><td>6.12954</td><td>0.476105</td><td>1.06135</td><td>0.000167546</td></tr><tr><th>81</th><td>35756</td><td>2961</td><td>Comic Girls</td><td>[&apos;Comedy&apos;, &apos;Slice of Life&apos;]</td><td>tv</td><td>5.99954</td><td>0.120864</td><td>0.932028</td><td>0.000573943</td></tr><tr><th>82</th><td>5670</td><td>5426</td><td>GA: Geijutsuka Art Design Class</td><td>[&apos;Comedy&apos;, &apos;School&apos;, &apos;Seinen&apos;, &apos;Slice of Life&apos;]</td><td>tv</td><td>5.82534</td><td>0.231964</td><td>0.769759</td><td>0.00016961</td></tr><tr><th>83</th><td>10278</td><td>9394</td><td>The iDOLM@STER</td><td>[&apos;Comedy&apos;, &apos;Drama&apos;, &apos;Music&apos;]</td><td>tv</td><td>6.2514</td><td>0.153369</td><td>1.1976</td><td>0.00164567</td></tr><tr><th>84</th><td>40870</td><td>7652</td><td>SSSS.Dynazenon</td><td>[&apos;Action&apos;, &apos;Mecha&apos;, &apos;Sci-Fi&apos;]</td><td>tv</td><td>6.23441</td><td>0.148973</td><td>1.1853</td><td>0.000160709</td></tr><tr><th>85</th><td>64</td><td>62</td><td>Rozen Maiden</td><td>[&apos;Action&apos;, &apos;Comedy&apos;, &apos;Drama&apos;, &apos;Seinen&apos;]</td><td>tv</td><td>5.96849</td><td>0.118436</td><td>0.920656</td><td>0.00161621</td></tr><tr><th>86</th><td>15061</td><td>11539</td><td>Aikatsu!</td><td>[&apos;Music&apos;, &apos;School&apos;, &apos;Shoujo&apos;, &apos;Slice of Life&apos;]</td><td>tv</td><td>6.22732</td><td>0.368622</td><td>1.18488</td><td>0.000175782</td></tr><tr><th>87</th><td>35241</td><td>2449</td><td>Konohana Kitan</td><td>[&apos;Fantasy&apos;, &apos;Girls Love&apos;, &apos;Seinen&apos;, &apos;Slice of Life&apos;]</td><td>tv</td><td>6.16443</td><td>0.24343</td><td>1.12914</td><td>0.000274875</td></tr><tr><th>88</th><td>35249</td><td>2457</td><td>Uma Musume: Pretty Derby (TV)</td><td>[&apos;Comedy&apos;, &apos;Slice of Life&apos;, &apos;Sports&apos;]</td><td>tv</td><td>6.07144</td><td>0.271074</td><td>1.04006</td><td>0.000412868</td></tr><tr><th>89</th><td>14131</td><td>11283</td><td>Girls &amp; Panzer</td><td>[&apos;Action&apos;, &apos;Military&apos;, &apos;School&apos;, &apos;Sports&apos;]</td><td>tv</td><td>6.4567</td><td>0.443696</td><td>1.42594</td><td>0.00257955</td></tr><tr><th>90</th><td>16123</td><td>12056</td><td>Saki Zenkoku-hen</td><td>[&apos;Game&apos;, &apos;School&apos;, &apos;Slice of Life&apos;]</td><td>tv</td><td>6.32756</td><td>0.382101</td><td>1.2995</td><td>0.000220624</td></tr><tr><th>91</th><td>32607</td><td>16901</td><td>Gi(a)rlish Number</td><td>[&apos;Slice of Life&apos;]</td><td>tv</td><td>6.08503</td><td>0.558849</td><td>1.06834</td><td>0.000804753</td></tr><tr><th>92</th><td>35540</td><td>2748</td><td>Slow Start</td><td>[&apos;Comedy&apos;, &apos;School&apos;, &apos;Slice of Life&apos;]</td><td>tv</td><td>5.89303</td><td>0.536205</td><td>0.885412</td><td>0.000314509</td></tr><tr><th>93</th><td>40483</td><td>7332</td><td>Murenase! Seton Gakuen</td><td>[&apos;Comedy&apos;, &apos;School&apos;]</td><td>tv</td><td>5.88456</td><td>0.415967</td><td>0.888433</td><td>0.000154079</td></tr><tr><th>94</th><td>31952</td><td>16634</td><td>Kono Bijutsubu ni wa Mondai ga Aru!</td><td>[&apos;Comedy&apos;, &apos;Romance&apos;, &apos;School&apos;, &apos;Seinen&apos;]</td><td>tv</td><td>5.82908</td><td>0.145965</td><td>0.838734</td><td>0.000501506</td></tr><tr><th>95</th><td>789</td><td>779</td><td>Shinigami no Ballad.</td><td>[&apos;Drama&apos;, &apos;Fantasy&apos;, &apos;Psychological&apos;, &apos;Supernatural&apos;]</td><td>tv</td><td>5.90824</td><td>0.510482</td><td>0.920453</td><td>0.000374234</td></tr><tr><th>96</th><td>11179</td><td>10077</td><td>Papa no Iukoto wo Kikinasai!</td><td>[&apos;Comedy&apos;, &apos;Romance&apos;, &apos;Slice of Life&apos;]</td><td>tv</td><td>5.85514</td><td>0.246718</td><td>0.867493</td><td>0.000531428</td></tr><tr><th>97</th><td>11433</td><td>10218</td><td>Ano Natsu de Matteru</td><td>[&apos;Comedy&apos;, &apos;Drama&apos;, &apos;Romance&apos;, &apos;Sci-Fi&apos;, &apos;Slice of Life&apos;]</td><td>tv</td><td>6.13143</td><td>0.295317</td><td>1.1493</td><td>0.00144477</td></tr><tr><th>98</th><td>32901</td><td>131</td><td>Eromanga-sensei</td><td>[&apos;Comedy&apos;, &apos;Drama&apos;, &apos;Ecchi&apos;, &apos;Romance&apos;]</td><td>tv</td><td>5.91887</td><td>1.15103</td><td>0.946061</td><td>0.00103857</td></tr><tr><th>99</th><td>2225</td><td>2207</td><td>Alps no Shoujo Heidi</td><td>[&apos;Drama&apos;, &apos;Historical&apos;, &apos;Slice of Life&apos;]</td><td>tv</td><td>6.01828</td><td>0.108712</td><td>1.05754</td><td>0.000158145</td></tr><tr><th>100</th><td>36800</td><td>3960</td><td>Amanchu! Advance</td><td>[&apos;Comedy&apos;, &apos;School&apos;, &apos;Shounen&apos;, &apos;Slice of Life&apos;]</td><td>tv</td><td>6.22509</td><td>0.395867</td><td>1.26604</td><td>0.000159515</td></tr><tr><th>&vellip;</th><td>&vellip;</td><td>&vellip;</td><td>&vellip;</td><td>&vellip;</td><td>&vellip;</td><td>&vellip;</td><td>&vellip;</td><td>&vellip;</td><td>&vellip;</td></tr></tbody></table></div>"
      ],
      "text/latex": [
       "\\begin{tabular}{r|ccccccccc}\n",
       "\t& anime\\_id & uid & title & genres & medium & rating & alpha & std & p\\\\\n",
       "\t\\hline\n",
       "\t& Int64 & Int64 & String & String & String7 & Float64 & Float64 & Float64 & Float64\\\\\n",
       "\t\\hline\n",
       "\t1 & 31988 & 16650 & Hibike! Euphonium 2 & ['Drama', 'Music', 'School'] & tv & 7.31783 & 0.276794 & 0.860187 & 0.00227862 \\\\\n",
       "\t2 & 34914 & 2128 & New Game!! & ['Comedy', 'Game', 'Slice of Life'] & tv & 7.01229 & 0.713709 & 0.633501 & 0.00114507 \\\\\n",
       "\t3 & 3750 & 3684 & Maria-sama ga Miteru 4th & ['Girls Love', 'School', 'Shoujo', 'Slice of Life'] & tv & 7.17142 & 0.75794 & 0.80201 & 0.00015453 \\\\\n",
       "\t4 & 1530 & 1514 & Kanon (2006) & ['Drama', 'Romance', 'Slice of Life', 'Supernatural'] & tv & 7.22907 & 0.732846 & 0.889388 & 0.00197499 \\\\\n",
       "\t5 & 38993 & 5956 & Karakai Jouzu no Takagi-san 2 & ['Comedy', 'Romance', 'School', 'Shounen', 'Slice of Life'] & tv & 6.89854 & 0.300659 & 0.71322 & 0.000212542 \\\\\n",
       "\t6 & 488 & 484 & Ichigo Mashimaro & ['Comedy', 'Slice of Life'] & tv & 6.90632 & 0.652097 & 0.725876 & 0.0015532 \\\\\n",
       "\t7 & 27989 & 15108 & Hibike! Euphonium & ['Drama', 'Music', 'School'] & tv & 6.96863 & 0.296272 & 0.821908 & 0.00314564 \\\\\n",
       "\t8 & 1858 & 1841 & Gakuen Utopia Manabi Straight! & ['Comedy', 'School', 'Slice of Life'] & tv & 6.89827 & 0.970434 & 0.808837 & 0.000309187 \\\\\n",
       "\t9 & 593 & 589 & Mugen no Ryvius & ['Drama', 'Mecha', 'Military', 'Psychological', 'Sci-Fi', 'Space'] & tv & 7.15226 & 0.717948 & 1.09881 & 0.000212193 \\\\\n",
       "\t10 & 877 & 864 & Nana & ['Comedy', 'Drama', 'Music', 'Romance', 'Shoujo', 'Slice of Life'] & tv & 7.2808 & 0.268505 & 1.23625 & 0.00128622 \\\\\n",
       "\t11 & 444 & 440 & Maria-sama ga Miteru: Haru & ['Drama', 'Girls Love', 'Romance', 'School', 'Shoujo'] & tv & 6.79158 & 0.533587 & 0.850345 & 0.000208187 \\\\\n",
       "\t12 & 122 & 120 & Full Moon wo Sagashite & ['Comedy', 'Drama', 'Music', 'Romance', 'Shoujo', 'Supernatural'] & tv & 6.92751 & 0.671116 & 1.01773 & 0.000217698 \\\\\n",
       "\t13 & 39783 & 6714 & 5-toubun no Hanayome ∬ & ['Comedy', 'Harem', 'Romance', 'School', 'Shounen'] & tv & 6.8902 & 0.376524 & 0.987837 & 0.000176418 \\\\\n",
       "\t14 & 42941 & 9313 & Uma Musume: Pretty Derby (TV) Season 2 & ['Comedy', 'Slice of Life', 'Sports'] & tv & 7.03777 & 0.487675 & 1.14971 & 0.000151762 \\\\\n",
       "\t15 & 29787 & 15583 & Gochuumon wa Usagi Desu ka?? & ['Comedy', 'Slice of Life'] & tv & 6.60885 & 0.32393 & 0.873096 & 0.00122408 \\\\\n",
       "\t16 & 30727 & 16064 & Saenai Heroine no Sodatekata ♭ & ['Comedy', 'Ecchi', 'Harem', 'Romance', 'School'] & tv & 6.71959 & 0.501457 & 0.994073 & 0.000501885 \\\\\n",
       "\t17 & 33089 & 317 & Kemono Friends & ['Adventure', 'Comedy', 'Fantasy'] & tv & 6.67476 & 0.605963 & 0.953188 & 0.00158521 \\\\\n",
       "\t18 & 35639 & 2844 & Just Because! & ['Drama', 'Romance', 'School', 'Slice of Life'] & tv & 6.71328 & 1.07081 & 0.996729 & 0.000390616 \\\\\n",
       "\t19 & 427 & 423 & Kaleido Star & ['Comedy', 'Drama', 'Fantasy', 'Shoujo', 'Sports'] & tv & 6.67913 & 0.394879 & 1.01153 & 0.000162488 \\\\\n",
       "\t20 & 21877 & 13802 & High Score Girl & ['Comedy', 'Game', 'Romance', 'School', 'Seinen'] & tv & 6.65644 & 0.205141 & 0.993221 & 0.000825758 \\\\\n",
       "\t21 & 38753 & 5719 & Araburu Kisetsu no Otome-domo yo. & ['Comedy', 'Drama', 'Romance', 'School', 'Shounen'] & tv & 6.58601 & 0.572206 & 0.93007 & 0.000512281 \\\\\n",
       "\t22 & 42361 & 8831 & Ijiranaide, Nagatoro-san & ['Comedy', 'Romance', 'Slice of Life'] & tv & 6.48398 & 0.827335 & 0.841302 & 0.000241377 \\\\\n",
       "\t23 & 532 & 528 & Bishoujo Senshi Sailor Moon S & ['Drama', 'Romance', 'Shoujo'] & tv & 6.42464 & 0.232407 & 0.80726 & 0.000391338 \\\\\n",
       "\t24 & 25835 & 14749 & Shirobako & ['Comedy', 'Drama'] & tv & 7.33144 & 0.320422 & 1.72448 & 0.00289862 \\\\\n",
       "\t25 & 14941 & 11486 & AKB0048: Next Stage & ['Music', 'Sci-Fi'] & tv & 6.63382 & 0.626084 & 1.03584 & 0.000290204 \\\\\n",
       "\t26 & 32836 & 67 & Senki Zesshou Symphogear AXZ & ['Action', 'Music', 'Sci-Fi'] & tv & 6.93375 & 0.760931 & 1.40695 & 0.000186081 \\\\\n",
       "\t27 & 182 & 180 & Tenkuu no Escaflowne & ['Adventure', 'Fantasy', 'Mecha', 'Psychological', 'Romance'] & tv & 6.51354 & 0.233981 & 0.987095 & 0.000807177 \\\\\n",
       "\t28 & 59 & 57 & Chobits & ['Comedy', 'Drama', 'Ecchi', 'Romance', 'Sci-Fi', 'Seinen'] & tv & 6.569 & 0.803546 & 1.04584 & 0.00162937 \\\\\n",
       "\t29 & 37982 & 5036 & Domestic na Kanojo & ['Drama', 'Romance', 'School', 'Shounen'] & tv & 6.51356 & 1.4899 & 1.02749 & 0.00034542 \\\\\n",
       "\t30 & 18897 & 13057 & Nisekoi & ['Comedy', 'Harem', 'Romance', 'School', 'Shounen'] & tv & 6.33795 & 0.328646 & 0.879429 & 0.00123047 \\\\\n",
       "\t31 & 35860 & 3060 & Karakai Jouzu no Takagi-san & ['Comedy', 'Romance', 'School', 'Shounen', 'Slice of Life'] & tv & 6.4686 & 0.346633 & 1.01473 & 0.000500116 \\\\\n",
       "\t32 & 330 & 326 & Midori no Hibi & ['Comedy', 'Drama', 'Ecchi', 'Romance', 'Shounen'] & tv & 6.29302 & 0.621726 & 0.844272 & 0.000824668 \\\\\n",
       "\t33 & 158 & 156 & Maria-sama ga Miteru & ['Drama', 'Girls Love', 'Romance', 'Shoujo', 'Slice of Life'] & tv & 6.53241 & 0.702656 & 1.08778 & 0.000385479 \\\\\n",
       "\t34 & 34902 & 2116 & Tsurezure Children & ['Comedy', 'Romance', 'School', 'Shounen'] & tv & 6.36847 & 0.210585 & 0.926962 & 0.00069528 \\\\\n",
       "\t35 & 23277 & 14214 & Saenai Heroine no Sodatekata & ['Comedy', 'Ecchi', 'Harem', 'Romance', 'School'] & tv & 6.36238 & 0.451538 & 0.933471 & 0.000990278 \\\\\n",
       "\t36 & 587 & 584 & Hanbun no Tsuki ga Noboru Sora & ['Comedy', 'Drama', 'Romance'] & tv & 6.37015 & 0.446992 & 0.945245 & 0.000326225 \\\\\n",
       "\t37 & 5671 & 5427 & Saki & ['Game', 'School', 'Slice of Life'] & tv & 6.36886 & 0.475589 & 0.957233 & 0.000770826 \\\\\n",
       "\t38 & 40685 & 7503 & Super Cub & ['School', 'Slice of Life'] & tv & 6.44334 & 0.440245 & 1.03287 & 0.000205581 \\\\\n",
       "\t39 & 1222 & 1209 & Bokura ga Ita & ['Drama', 'Romance', 'Shoujo', 'Slice of Life'] & tv & 6.7227 & 1.14725 & 1.32476 & 0.000434063 \\\\\n",
       "\t40 & 38101 & 5153 & 5-toubun no Hanayome & ['Comedy', 'Harem', 'Romance', 'School', 'Shounen'] & tv & 6.3435 & 0.353589 & 0.976349 & 0.000405277 \\\\\n",
       "\t41 & 530 & 526 & Bishoujo Senshi Sailor Moon & ['Demons', 'Romance', 'Shoujo'] & tv & 6.17195 & 0.159274 & 0.829708 & 0.00086286 \\\\\n",
       "\t42 & 195 & 193 & Onegai☆Teacher & ['Comedy', 'Drama', 'Romance', 'School', 'Sci-Fi'] & tv & 6.35511 & 0.91477 & 1.01446 & 0.000671816 \\\\\n",
       "\t43 & 584 & 580 & Noein: Mou Hitori no Kimi e & ['Adventure', 'Drama', 'Sci-Fi', 'Slice of Life'] & tv & 6.34014 & 0.106677 & 1.00488 & 0.00044902 \\\\\n",
       "\t44 & 40938 & 7715 & Hige wo Soru. Soshite Joshikousei wo Hirou. & ['Drama', 'Romance'] & tv & 6.15984 & 0.622444 & 0.830061 & 0.000240783 \\\\\n",
       "\t45 & 1592 & 1576 & Hataraki Man & ['Comedy', 'Drama', 'Romance', 'Seinen', 'Slice of Life'] & tv & 6.23931 & 0.437493 & 0.913471 & 0.000190017 \\\\\n",
       "\t46 & 35240 & 2448 & Princess Principal & ['Action', 'Historical', 'Mystery'] & tv & 6.45214 & 0.249076 & 1.12801 & 0.000858722 \\\\\n",
       "\t47 & 4720 & 4578 & White Album & ['Drama', 'Harem', 'Music', 'Romance'] & tv & 6.29442 & 1.37693 & 0.973344 & 0.000400933 \\\\\n",
       "\t48 & 3958 & 3888 & Kannagi & ['Comedy', 'School', 'Shounen', 'Supernatural'] & tv & 6.32809 & 0.540137 & 1.00936 & 0.000904309 \\\\\n",
       "\t49 & 2942 & 2915 & Sketchbook: Full Color's & ['Comedy', 'Slice of Life'] & tv & 6.30469 & 0.258274 & 0.988348 & 0.000201543 \\\\\n",
       "\t50 & 165 & 163 & RahXephon & ['Action', 'Drama', 'Mecha', 'Music', 'Mystery', 'Psychological', 'Romance', 'Sci-Fi'] & tv & 6.33353 & 0.248349 & 1.01737 & 0.000703886 \\\\\n",
       "\t51 & 48849 & 12035 & Sonny Boy & ['Mystery', 'Super Power'] & tv & 6.5154 & 0.17497 & 1.20187 & 0.000245127 \\\\\n",
       "\t52 & 1087 & 1074 & Kimagure Orange☆Road & ['Comedy', 'Drama', 'Romance', 'School', 'Shounen', 'Slice of Life', 'Super Power'] & tv & 6.34967 & 0.173525 & 1.03689 & 0.000235451 \\\\\n",
       "\t53 & 31859 & 16595 & Hai to Gensou no Grimgar & ['Action', 'Adventure', 'Drama', 'Fantasy'] & tv & 6.37042 & 0.342214 & 1.06412 & 0.000582996 \\\\\n",
       "\t54 & 102 & 100 & Aishiteruze Baby★★ & ['Comedy', 'Drama', 'Romance', 'Shoujo'] & tv & 6.21857 & 0.522754 & 0.912727 & 0.000256626 \\\\\n",
       "\t55 & 52 & 50 & Kidou Tenshi Angelic Layer & ['Comedy', 'Drama', 'Sci-Fi', 'Shounen', 'Sports'] & tv & 6.17603 & 0.61563 & 0.871245 & 0.000286138 \\\\\n",
       "\t56 & 5141 & 4964 & Taishou Yakyuu Musume. & ['Comedy', 'Historical', 'School', 'Seinen', 'Sports'] & tv & 6.30738 & 0.274323 & 1.01732 & 0.000193451 \\\\\n",
       "\t57 & 5150 & 4972 & Hatsukoi Limited. & ['Comedy', 'Romance', 'School', 'Shounen'] & tv & 6.10775 & 0.370677 & 0.822985 & 0.000414231 \\\\\n",
       "\t58 & 4483 & 4360 & Mahoutsukai ni Taisetsu na Koto: Natsu no Sora & ['Drama', 'Romance', 'Shounen', 'Slice of Life'] & tv & 6.32237 & 0.445821 & 1.08574 & 0.000285769 \\\\\n",
       "\t59 & 552 & 548 & Digimon Adventure & ['Action', 'Adventure', 'Comedy', 'Fantasy', 'Kids'] & tv & 6.49667 & 0.322633 & 1.26986 & 0.000657909 \\\\\n",
       "\t60 & 34934 & 2148 & Koi to Uso & ['Drama', 'Romance', 'School'] & tv & 6.04411 & 1.20409 & 0.824223 & 0.000570646 \\\\\n",
       "\t61 & 209 & 208 & R.O.D: The TV & ['Action', 'Adventure', 'Comedy', 'Drama', 'Sci-Fi', 'Super Power'] & tv & 6.19603 & 0.215586 & 0.9823 & 0.00029214 \\\\\n",
       "\t62 & 38476 & 5461 & Heya Camp△ & ['Comedy', 'Slice of Life'] & tv & 6.01789 & 0.208117 & 0.808406 & 0.00039632 \\\\\n",
       "\t63 & 31771 & 16566 & Amanchu! & ['Comedy', 'School', 'Shounen', 'Slice of Life'] & tv & 6.30161 & 0.342984 & 1.09368 & 0.000636645 \\\\\n",
       "\t64 & 196 & 195 & Onegai☆Twins & ['Comedy', 'Drama', 'Harem', 'School', 'Sci-Fi'] & tv & 6.20351 & 1.02313 & 1.00548 & 0.000200422 \\\\\n",
       "\t65 & 15225 & 11606 & Hentai Ouji to Warawanai Neko. & ['Comedy', 'Harem', 'Romance', 'School', 'Supernatural'] & tv & 5.90181 & 0.3845 & 0.717479 & 0.000847454 \\\\\n",
       "\t66 & 37259 & 4368 & Hanebado! & ['Seinen', 'Sports'] & tv & 6.12465 & 0.664816 & 0.954617 & 0.00024705 \\\\\n",
       "\t67 & 31500 & 16413 & High School Fleet & ['Action', 'Military', 'School'] & tv & 6.47777 & 0.830922 & 1.30781 & 0.000441951 \\\\\n",
       "\t68 & 13333 & 11005 & Tari Tari & ['Music', 'School', 'Slice of Life'] & tv & 5.92948 & 0.140227 & 0.76331 & 0.00109145 \\\\\n",
       "\t69 & 6164 & 5898 & Aoi Hana & ['Girls Love', 'Romance', 'Slice of Life'] & tv & 6.1989 & 0.466889 & 1.03709 & 0.00143922 \\\\\n",
       "\t70 & 21681 & 13748 & Hanayamata & ['Comedy', 'School', 'Slice of Life'] & tv & 6.16625 & 0.40739 & 1.00735 & 0.000736994 \\\\\n",
       "\t71 & 2986 & 2959 & Bamboo Blade & ['Comedy', 'School', 'Seinen', 'Sports'] & tv & 6.11611 & 0.328074 & 0.958784 & 0.000341396 \\\\\n",
       "\t72 & 35376 & 2584 & Himouto! Umaru-chan R & ['Comedy', 'School', 'Seinen', 'Slice of Life'] & tv & 5.9466 & 0.214403 & 0.794552 & 0.000495133 \\\\\n",
       "\t73 & 126 & 124 & Futakoi Alternative & ['Comedy', 'Drama', 'Romance'] & tv & 6.09892 & 0.821828 & 0.959757 & 0.000150501 \\\\\n",
       "\t74 & 10884 & 9900 & Saki Achiga-hen: Episode of Side-A & ['Game', 'School', 'Slice of Life'] & tv & 6.16291 & 0.376841 & 1.03061 & 0.000324624 \\\\\n",
       "\t75 & 41619 & 8281 & Munou na Nana & ['Psychological', 'Shounen', 'Super Power', 'Supernatural', 'Suspense'] & tv & 6.08488 & 0.459254 & 0.965901 & 0.000160348 \\\\\n",
       "\t76 & 21573 & 13722 & Senki Zesshou Symphogear GX & ['Action', 'Music', 'Sci-Fi'] & tv & 6.68574 & 0.737728 & 1.57091 & 0.000210905 \\\\\n",
       "\t77 & 30344 & 15911 & The iDOLM@STER Cinderella Girls 2nd Season & ['Comedy', 'Drama', 'Music'] & tv & 6.58505 & 0.742146 & 1.48573 & 0.000541893 \\\\\n",
       "\t78 & 101 & 99 & Air & ['Drama', 'Romance', 'Slice of Life', 'Supernatural'] & tv & 6.31429 & 0.59109 & 1.22152 & 0.00186881 \\\\\n",
       "\t79 & 27787 & 15061 & Nisekoi: & ['Comedy', 'Harem', 'Romance', 'School', 'Shounen'] & tv & 6.01279 & 0.315216 & 0.932183 & 0.000630377 \\\\\n",
       "\t80 & 38186 & 5224 & Bokutachi wa Benkyou ga Dekinai & ['Comedy', 'Harem', 'Romance', 'School', 'Shounen'] & tv & 6.12954 & 0.476105 & 1.06135 & 0.000167546 \\\\\n",
       "\t81 & 35756 & 2961 & Comic Girls & ['Comedy', 'Slice of Life'] & tv & 5.99954 & 0.120864 & 0.932028 & 0.000573943 \\\\\n",
       "\t82 & 5670 & 5426 & GA: Geijutsuka Art Design Class & ['Comedy', 'School', 'Seinen', 'Slice of Life'] & tv & 5.82534 & 0.231964 & 0.769759 & 0.00016961 \\\\\n",
       "\t83 & 10278 & 9394 & The iDOLM@STER & ['Comedy', 'Drama', 'Music'] & tv & 6.2514 & 0.153369 & 1.1976 & 0.00164567 \\\\\n",
       "\t84 & 40870 & 7652 & SSSS.Dynazenon & ['Action', 'Mecha', 'Sci-Fi'] & tv & 6.23441 & 0.148973 & 1.1853 & 0.000160709 \\\\\n",
       "\t85 & 64 & 62 & Rozen Maiden & ['Action', 'Comedy', 'Drama', 'Seinen'] & tv & 5.96849 & 0.118436 & 0.920656 & 0.00161621 \\\\\n",
       "\t86 & 15061 & 11539 & Aikatsu! & ['Music', 'School', 'Shoujo', 'Slice of Life'] & tv & 6.22732 & 0.368622 & 1.18488 & 0.000175782 \\\\\n",
       "\t87 & 35241 & 2449 & Konohana Kitan & ['Fantasy', 'Girls Love', 'Seinen', 'Slice of Life'] & tv & 6.16443 & 0.24343 & 1.12914 & 0.000274875 \\\\\n",
       "\t88 & 35249 & 2457 & Uma Musume: Pretty Derby (TV) & ['Comedy', 'Slice of Life', 'Sports'] & tv & 6.07144 & 0.271074 & 1.04006 & 0.000412868 \\\\\n",
       "\t89 & 14131 & 11283 & Girls \\& Panzer & ['Action', 'Military', 'School', 'Sports'] & tv & 6.4567 & 0.443696 & 1.42594 & 0.00257955 \\\\\n",
       "\t90 & 16123 & 12056 & Saki Zenkoku-hen & ['Game', 'School', 'Slice of Life'] & tv & 6.32756 & 0.382101 & 1.2995 & 0.000220624 \\\\\n",
       "\t91 & 32607 & 16901 & Gi(a)rlish Number & ['Slice of Life'] & tv & 6.08503 & 0.558849 & 1.06834 & 0.000804753 \\\\\n",
       "\t92 & 35540 & 2748 & Slow Start & ['Comedy', 'School', 'Slice of Life'] & tv & 5.89303 & 0.536205 & 0.885412 & 0.000314509 \\\\\n",
       "\t93 & 40483 & 7332 & Murenase! Seton Gakuen & ['Comedy', 'School'] & tv & 5.88456 & 0.415967 & 0.888433 & 0.000154079 \\\\\n",
       "\t94 & 31952 & 16634 & Kono Bijutsubu ni wa Mondai ga Aru! & ['Comedy', 'Romance', 'School', 'Seinen'] & tv & 5.82908 & 0.145965 & 0.838734 & 0.000501506 \\\\\n",
       "\t95 & 789 & 779 & Shinigami no Ballad. & ['Drama', 'Fantasy', 'Psychological', 'Supernatural'] & tv & 5.90824 & 0.510482 & 0.920453 & 0.000374234 \\\\\n",
       "\t96 & 11179 & 10077 & Papa no Iukoto wo Kikinasai! & ['Comedy', 'Romance', 'Slice of Life'] & tv & 5.85514 & 0.246718 & 0.867493 & 0.000531428 \\\\\n",
       "\t97 & 11433 & 10218 & Ano Natsu de Matteru & ['Comedy', 'Drama', 'Romance', 'Sci-Fi', 'Slice of Life'] & tv & 6.13143 & 0.295317 & 1.1493 & 0.00144477 \\\\\n",
       "\t98 & 32901 & 131 & Eromanga-sensei & ['Comedy', 'Drama', 'Ecchi', 'Romance'] & tv & 5.91887 & 1.15103 & 0.946061 & 0.00103857 \\\\\n",
       "\t99 & 2225 & 2207 & Alps no Shoujo Heidi & ['Drama', 'Historical', 'Slice of Life'] & tv & 6.01828 & 0.108712 & 1.05754 & 0.000158145 \\\\\n",
       "\t100 & 36800 & 3960 & Amanchu! Advance & ['Comedy', 'School', 'Shounen', 'Slice of Life'] & tv & 6.22509 & 0.395867 & 1.26604 & 0.000159515 \\\\\n",
       "\t$\\dots$ & $\\dots$ & $\\dots$ & $\\dots$ & $\\dots$ & $\\dots$ & $\\dots$ & $\\dots$ & $\\dots$ & $\\dots$ \\\\\n",
       "\\end{tabular}\n"
      ],
      "text/plain": [
       "\u001b[1m255×9 DataFrame\u001b[0m\n",
       "\u001b[1m Row \u001b[0m│\u001b[1m anime_id \u001b[0m\u001b[1m uid   \u001b[0m\u001b[1m title                             \u001b[0m\u001b[1m genres                            \u001b[0m\u001b[1m medium  \u001b[0m\u001b[1m rating  \u001b[0m\u001b[1m alpha    \u001b[0m\u001b[1m std      \u001b[0m\u001b[1m p           \u001b[0m\n",
       "\u001b[1m     \u001b[0m│\u001b[90m Int64    \u001b[0m\u001b[90m Int64 \u001b[0m\u001b[90m String                            \u001b[0m\u001b[90m String                            \u001b[0m\u001b[90m String7 \u001b[0m\u001b[90m Float64 \u001b[0m\u001b[90m Float64  \u001b[0m\u001b[90m Float64  \u001b[0m\u001b[90m Float64     \u001b[0m\n",
       "─────┼──────────────────────────────────────────────────────────────────────────────────────────────────────────────────────────────────────────\n",
       "   1 │    31988  16650  Hibike! Euphonium 2                ['Drama', 'Music', 'School']       tv       7.31783  0.276794  0.860187  0.00227862\n",
       "   2 │    34914   2128  New Game!!                         ['Comedy', 'Game', 'Slice of Lif…  tv       7.01229  0.713709  0.633501  0.00114507\n",
       "   3 │     3750   3684  Maria-sama ga Miteru 4th           ['Girls Love', 'School', 'Shoujo…  tv       7.17142  0.75794   0.80201   0.00015453\n",
       "   4 │     1530   1514  Kanon (2006)                       ['Drama', 'Romance', 'Slice of L…  tv       7.22907  0.732846  0.889388  0.00197499\n",
       "   5 │    38993   5956  Karakai Jouzu no Takagi-san 2      ['Comedy', 'Romance', 'School', …  tv       6.89854  0.300659  0.71322   0.000212542\n",
       "   6 │      488    484  Ichigo Mashimaro                   ['Comedy', 'Slice of Life']        tv       6.90632  0.652097  0.725876  0.0015532\n",
       "   7 │    27989  15108  Hibike! Euphonium                  ['Drama', 'Music', 'School']       tv       6.96863  0.296272  0.821908  0.00314564\n",
       "   8 │     1858   1841  Gakuen Utopia Manabi Straight!     ['Comedy', 'School', 'Slice of L…  tv       6.89827  0.970434  0.808837  0.000309187\n",
       "   9 │      593    589  Mugen no Ryvius                    ['Drama', 'Mecha', 'Military', '…  tv       7.15226  0.717948  1.09881   0.000212193\n",
       "  10 │      877    864  Nana                               ['Comedy', 'Drama', 'Music', 'Ro…  tv       7.2808   0.268505  1.23625   0.00128622\n",
       "  11 │      444    440  Maria-sama ga Miteru: Haru         ['Drama', 'Girls Love', 'Romance…  tv       6.79158  0.533587  0.850345  0.000208187\n",
       "  12 │      122    120  Full Moon wo Sagashite             ['Comedy', 'Drama', 'Music', 'Ro…  tv       6.92751  0.671116  1.01773   0.000217698\n",
       "  13 │    39783   6714  5-toubun no Hanayome ∬             ['Comedy', 'Harem', 'Romance', '…  tv       6.8902   0.376524  0.987837  0.000176418\n",
       "  14 │    42941   9313  Uma Musume: Pretty Derby (TV) Se…  ['Comedy', 'Slice of Life', 'Spo…  tv       7.03777  0.487675  1.14971   0.000151762\n",
       "  15 │    29787  15583  Gochuumon wa Usagi Desu ka??       ['Comedy', 'Slice of Life']        tv       6.60885  0.32393   0.873096  0.00122408\n",
       "  16 │    30727  16064  Saenai Heroine no Sodatekata ♭     ['Comedy', 'Ecchi', 'Harem', 'Ro…  tv       6.71959  0.501457  0.994073  0.000501885\n",
       "  17 │    33089    317  Kemono Friends                     ['Adventure', 'Comedy', 'Fantasy…  tv       6.67476  0.605963  0.953188  0.00158521\n",
       "  18 │    35639   2844  Just Because!                      ['Drama', 'Romance', 'School', '…  tv       6.71328  1.07081   0.996729  0.000390616\n",
       "  19 │      427    423  Kaleido Star                       ['Comedy', 'Drama', 'Fantasy', '…  tv       6.67913  0.394879  1.01153   0.000162488\n",
       "  20 │    21877  13802  High Score Girl                    ['Comedy', 'Game', 'Romance', 'S…  tv       6.65644  0.205141  0.993221  0.000825758\n",
       "  21 │    38753   5719  Araburu Kisetsu no Otome-domo yo.  ['Comedy', 'Drama', 'Romance', '…  tv       6.58601  0.572206  0.93007   0.000512281\n",
       "  22 │    42361   8831  Ijiranaide, Nagatoro-san           ['Comedy', 'Romance', 'Slice of …  tv       6.48398  0.827335  0.841302  0.000241377\n",
       "  23 │      532    528  Bishoujo Senshi Sailor Moon S      ['Drama', 'Romance', 'Shoujo']     tv       6.42464  0.232407  0.80726   0.000391338\n",
       "  24 │    25835  14749  Shirobako                          ['Comedy', 'Drama']                tv       7.33144  0.320422  1.72448   0.00289862\n",
       "  25 │    14941  11486  AKB0048: Next Stage                ['Music', 'Sci-Fi']                tv       6.63382  0.626084  1.03584   0.000290204\n",
       "  26 │    32836     67  Senki Zesshou Symphogear AXZ       ['Action', 'Music', 'Sci-Fi']      tv       6.93375  0.760931  1.40695   0.000186081\n",
       "  27 │      182    180  Tenkuu no Escaflowne               ['Adventure', 'Fantasy', 'Mecha'…  tv       6.51354  0.233981  0.987095  0.000807177\n",
       "  28 │       59     57  Chobits                            ['Comedy', 'Drama', 'Ecchi', 'Ro…  tv       6.569    0.803546  1.04584   0.00162937\n",
       "  29 │    37982   5036  Domestic na Kanojo                 ['Drama', 'Romance', 'School', '…  tv       6.51356  1.4899    1.02749   0.00034542\n",
       "  30 │    18897  13057  Nisekoi                            ['Comedy', 'Harem', 'Romance', '…  tv       6.33795  0.328646  0.879429  0.00123047\n",
       "  31 │    35860   3060  Karakai Jouzu no Takagi-san        ['Comedy', 'Romance', 'School', …  tv       6.4686   0.346633  1.01473   0.000500116\n",
       "  32 │      330    326  Midori no Hibi                     ['Comedy', 'Drama', 'Ecchi', 'Ro…  tv       6.29302  0.621726  0.844272  0.000824668\n",
       "  33 │      158    156  Maria-sama ga Miteru               ['Drama', 'Girls Love', 'Romance…  tv       6.53241  0.702656  1.08778   0.000385479\n",
       "  34 │    34902   2116  Tsurezure Children                 ['Comedy', 'Romance', 'School', …  tv       6.36847  0.210585  0.926962  0.00069528\n",
       "  35 │    23277  14214  Saenai Heroine no Sodatekata       ['Comedy', 'Ecchi', 'Harem', 'Ro…  tv       6.36238  0.451538  0.933471  0.000990278\n",
       "  36 │      587    584  Hanbun no Tsuki ga Noboru Sora     ['Comedy', 'Drama', 'Romance']     tv       6.37015  0.446992  0.945245  0.000326225\n",
       "  37 │     5671   5427  Saki                               ['Game', 'School', 'Slice of Lif…  tv       6.36886  0.475589  0.957233  0.000770826\n",
       "  38 │    40685   7503  Super Cub                          ['School', 'Slice of Life']        tv       6.44334  0.440245  1.03287   0.000205581\n",
       "  39 │     1222   1209  Bokura ga Ita                      ['Drama', 'Romance', 'Shoujo', '…  tv       6.7227   1.14725   1.32476   0.000434063\n",
       "  40 │    38101   5153  5-toubun no Hanayome               ['Comedy', 'Harem', 'Romance', '…  tv       6.3435   0.353589  0.976349  0.000405277\n",
       "  41 │      530    526  Bishoujo Senshi Sailor Moon        ['Demons', 'Romance', 'Shoujo']    tv       6.17195  0.159274  0.829708  0.00086286\n",
       "  42 │      195    193  Onegai☆Teacher                     ['Comedy', 'Drama', 'Romance', '…  tv       6.35511  0.91477   1.01446   0.000671816\n",
       "  43 │      584    580  Noein: Mou Hitori no Kimi e        ['Adventure', 'Drama', 'Sci-Fi',…  tv       6.34014  0.106677  1.00488   0.00044902\n",
       "  44 │    40938   7715  Hige wo Soru. Soshite Joshikouse…  ['Drama', 'Romance']               tv       6.15984  0.622444  0.830061  0.000240783\n",
       "  45 │     1592   1576  Hataraki Man                       ['Comedy', 'Drama', 'Romance', '…  tv       6.23931  0.437493  0.913471  0.000190017\n",
       "  46 │    35240   2448  Princess Principal                 ['Action', 'Historical', 'Myster…  tv       6.45214  0.249076  1.12801   0.000858722\n",
       "  ⋮  │    ⋮        ⋮                    ⋮                                  ⋮                     ⋮        ⋮        ⋮         ⋮           ⋮\n",
       " 211 │      508    506  Tottoko Hamtarou                   ['Adventure', 'Comedy', 'Kids']    tv       5.42157  0.24585   1.29173   0.000179234\n",
       " 212 │    31636  16484  Dagashi Kashi                      ['Comedy', 'Gourmet', 'Shounen',…  tv       5.14188  0.134446  1.04649   0.000899613\n",
       " 213 │    37979   5033  Mahou Shoujo Tokushusen Asuka      ['Action', 'Drama', 'Military', …  tv       4.9397   0.333235  0.85321   0.000149537\n",
       " 214 │    34580   1794  Nana Maru San Batsu                ['Game', 'School', 'Seinen']       tv       5.32266  0.148178  1.23828   0.000187888\n",
       " 215 │    21507  13693  Soul Eater NOT!                    ['Action', 'Comedy', 'Ecchi', 'S…  tv       5.04297  0.681327  0.967283  0.000485956\n",
       " 216 │    38610   5581  Tejina-senpai                      ['Comedy', 'Ecchi', 'School', 'S…  tv       5.03425  0.258065  0.984689  0.00018086\n",
       " 217 │    34392   1608  One Room                           ['Slice of Life']                  tv       5.52029  1.66304   1.48992   0.000273736\n",
       " 218 │    38295   5300  Joshikausei                        ['Comedy', 'School', 'Slice of L…  tv       4.84727  0.771609  0.839107  0.00016059\n",
       " 219 │    31091  16257  Komori-san wa Kotowarenai!         ['Comedy', 'School', 'Slice of L…  tv       4.88174  0.254018  0.890867  0.000214592\n",
       " 220 │    21845  13791  Ushinawareta Mirai wo Motomete     ['Drama', 'Romance', 'School', '…  tv       5.62434  0.769928  1.65254   0.000184665\n",
       " 221 │     9598   8836  Haiyoru! Nyaruani: Remember My L…  ['Comedy', 'Sci-Fi']               tv       4.99591  0.462706  1.04706   0.000162328\n",
       " 222 │     1694   1679  iDOLM@STER Xenoglossia             ['Action', 'Comedy', 'Mecha', 'S…  tv       5.05728  0.203214  1.11915   0.000211174\n",
       " 223 │    30895  16135  HaruChika: Haruta to Chika wa Se…  ['Music', 'Mystery', 'Romance', …  tv       5.01442  0.37704   1.10568   0.000277701\n",
       " 224 │    21511  13695  Kantai Collection: KanColle        ['Action', 'Military', 'School',…  tv       5.60494  0.511118  1.72133   0.000913335\n",
       " 225 │     9736   8938  Astarotte no Omocha!               ['Comedy', 'Demons', 'Ecchi', 'F…  tv       4.99348  0.229373  1.11654   0.000440959\n",
       " 226 │    32454  16840  Usakame                            ['Comedy', 'Shounen', 'Slice of …  tv       4.99906  0.558925  1.14819   0.000149797\n",
       " 227 │    24855  14555  Girlfriend (Kari)                  ['School', 'Slice of Life']        tv       4.87646  0.82677   1.02616   0.00021166\n",
       " 228 │      610    609  Popotan                            ['Comedy', 'Drama', 'Ecchi', 'Su…  tv       5.07354  0.455412  1.22768   0.000161456\n",
       " 229 │     7593   7220  Kiss x Sis (TV)                    ['Comedy', 'Ecchi', 'Harem', 'Ro…  tv       5.28515  0.463995  1.47153   0.000807985\n",
       " 230 │    17651  12733  Genei wo Kakeru Taiyou             NaN                                tv       5.12743  0.339452  1.32471   0.000453057\n",
       " 231 │    31498  16411  Pan de Peace!                      ['Comedy', 'Gourmet', 'School', …  tv       4.71523  0.684879  0.914959  0.000252061\n",
       " 232 │     2367   2349  Moetan                             ['Comedy', 'Ecchi', 'School']      tv       4.93929  0.227885  1.14201   0.000246484\n",
       " 233 │    32438  16833  Mayoiga                            ['Comedy', 'Drama', 'Horror', 'M…  tv       4.97223  1.04582   1.18066   0.000712476\n",
       " 234 │    36516   3682  Beatless                           ['Action', 'Drama', 'Romance', '…  tv       4.76426  0.52642   0.984774  0.000150884\n",
       " 235 │    30127  15794  Danchigai                          ['Comedy', 'Slice of Life']        tv       4.96287  0.182101  1.19977   0.000175592\n",
       " 236 │    36266   3446  Mahou Shoujo Site                  ['Drama', 'Horror', 'Psychologic…  tv       5.07883  0.339213  1.32154   0.000494395\n",
       " 237 │    36943   4096  Tachibanakan Triangle              ['Comedy', 'Ecchi', 'Girls Love']  tv       4.68311  0.860584  0.943125  0.000149048\n",
       " 238 │    16397  12193  Photokano                          ['Ecchi', 'Romance', 'School']     tv       4.67798  0.283899  0.974332  0.000162045\n",
       " 239 │      241    237  Girls Bravo: First Season          ['Comedy', 'Ecchi', 'Fantasy', '…  tv       4.99309  0.390171  1.3008    0.000263254\n",
       " 240 │      417    413  Ragnarök The Animation             ['Action', 'Fantasy']              tv       5.00965  0.336381  1.34186   0.000188371\n",
       " 241 │    31716  16536  Rewrite                            ['Action', 'Comedy', 'Romance', …  tv       4.92328  0.109463  1.30261   0.000226877\n",
       " 242 │     9587   8825  Oniichan no Koto nanka Zenzen Su…  ['Comedy', 'Ecchi', 'Harem', 'Ro…  tv       4.68773  0.362009  1.15223   0.00024978\n",
       " 243 │    15883  11948  Fantasista Doll                    ['Fantasy', 'Sci-Fi']              tv       4.65692  0.236336  1.1329    0.000149156\n",
       " 244 │    31793  16575  Mahou Shoujo Nante Mou Ii Desuka…  ['Comedy']                         tv       4.66102  0.221867  1.14114   0.000161662\n",
       " 245 │    26085  14806  Military!                          ['Comedy', 'Ecchi', 'Military', …  tv       4.37249  0.28643   0.910169  0.000236859\n",
       " 246 │    10838   9854  Double-J                           ['Comedy', 'School', 'Shounen']    tv       4.77025  0.813978  1.38384   0.000185411\n",
       " 247 │    17777  12779  Saikin, Imouto no Yousu ga Chott…  ['Comedy', 'Ecchi', 'Romance', '…  tv       4.55511  0.156168  1.19111   0.000418026\n",
       " 248 │    16405  12198  Boku no Imouto wa \"Osaka Okan\"     ['Comedy', 'Gourmet']              tv       4.29633  0.172405  1.27088   0.000156206\n",
       " 249 │     6682   6397  11eyes                             ['Action', 'Ecchi', 'Super Power…  tv       4.43469  0.154538  1.41372   0.000265381\n",
       " 250 │    31318  16351  Comet Lucifer                      ['Action', 'Adventure', 'Fantasy…  tv       4.31359  0.222619  1.32998   0.000204697\n",
       " 251 │    39617   6560  Yakusoku no Neverland 2nd Season   ['Mystery', 'Psychological', 'Sc…  tv       4.32409  0.539911  1.40007   0.000321104\n",
       " 252 │    31519  16427  Anitore! EX                        ['Comedy', 'Sports']               tv       4.49866  0.590919  1.62977   0.000251841\n",
       " 253 │    31904  16616  Big Order (TV)                     ['Action', 'Shounen', 'Super Pow…  tv       3.79933  0.266962  1.18283   0.000238127\n",
       " 254 │    30948  16177  Kowabon                            ['Horror']                         tv       3.87889  0.123783  1.31846   0.000180532\n",
       " 255 │    19315  13179  Pupa                               ['Fantasy', 'Horror', 'Psycholog…  tv       3.19889  1.30235   1.4936    0.00116633\n",
       "\u001b[36m                                                                                                                                164 rows omitted\u001b[0m"
      ]
     },
     "execution_count": 18,
     "metadata": {},
     "output_type": "execute_result"
    }
   ],
   "source": [
    "filter(x -> x.medium == \"tv\", rec_df |> sampling_filter) |> pretty_display"
   ]
  },
  {
   "cell_type": "code",
   "execution_count": 19,
   "id": "f11991a0-e1a9-48c9-be63-99923a5f67da",
   "metadata": {},
   "outputs": [],
   "source": [
    "# sort!(\n",
    "#     filter(\n",
    "#         x -> x.p >= min_p,\n",
    "#         filter(x -> x.alpha .> min_alpha, filter(x -> x.medium == \"tv\", rec_df)),\n",
    "#     ),\n",
    "#     :score,\n",
    "#     rev = true,\n",
    "# ).title[1:50]"
   ]
  },
  {
   "cell_type": "code",
   "execution_count": 20,
   "id": "cac84730-10b8-46b2-a9cb-91ea7494988d",
   "metadata": {},
   "outputs": [
    {
     "data": {
      "text/html": [
       "<div class=\"data-frame\"><p>387 rows × 9 columns</p><table class=\"data-frame\"><thead><tr><th></th><th>anime_id</th><th>uid</th><th>title</th><th>genres</th><th>medium</th><th>rating</th><th>alpha</th><th>std</th><th>p</th></tr><tr><th></th><th title=\"Int64\">Int64</th><th title=\"Int64\">Int64</th><th title=\"String\">String</th><th title=\"String\">String</th><th title=\"String7\">String7</th><th title=\"Float64\">Float64</th><th title=\"Float64\">Float64</th><th title=\"Float64\">Float64</th><th title=\"Float64\">Float64</th></tr></thead><tbody><tr><th>1</th><td>42984</td><td>9352</td><td>Gotcha!</td><td>[&apos;Fantasy&apos;, &apos;Music&apos;]</td><td>music</td><td>7.81981</td><td>0.641094</td><td>1.19288</td><td>0.000159476</td></tr><tr><th>2</th><td>31988</td><td>16650</td><td>Hibike! Euphonium 2</td><td>[&apos;Drama&apos;, &apos;Music&apos;, &apos;School&apos;]</td><td>tv</td><td>7.31783</td><td>0.276794</td><td>0.860187</td><td>0.00227862</td></tr><tr><th>3</th><td>34914</td><td>2128</td><td>New Game!!</td><td>[&apos;Comedy&apos;, &apos;Game&apos;, &apos;Slice of Life&apos;]</td><td>tv</td><td>7.01229</td><td>0.713709</td><td>0.633501</td><td>0.00114507</td></tr><tr><th>4</th><td>3750</td><td>3684</td><td>Maria-sama ga Miteru 4th</td><td>[&apos;Girls Love&apos;, &apos;School&apos;, &apos;Shoujo&apos;, &apos;Slice of Life&apos;]</td><td>tv</td><td>7.17142</td><td>0.75794</td><td>0.80201</td><td>0.00015453</td></tr><tr><th>5</th><td>33970</td><td>1190</td><td>Girls &amp; Panzer: Saishuushou Part 1</td><td>[&apos;Military&apos;, &apos;School&apos;]</td><td>movie</td><td>7.21071</td><td>0.633273</td><td>0.867454</td><td>0.000155275</td></tr><tr><th>6</th><td>1729</td><td>1713</td><td>Maria-sama ga Miteru 3rd</td><td>[&apos;Drama&apos;, &apos;Girls Love&apos;, &apos;School&apos;, &apos;Slice of Life&apos;]</td><td>ova</td><td>7.21715</td><td>0.748611</td><td>0.875576</td><td>0.00033268</td></tr><tr><th>7</th><td>1530</td><td>1514</td><td>Kanon (2006)</td><td>[&apos;Drama&apos;, &apos;Romance&apos;, &apos;Slice of Life&apos;, &apos;Supernatural&apos;]</td><td>tv</td><td>7.22907</td><td>0.732846</td><td>0.889388</td><td>0.00197499</td></tr><tr><th>8</th><td>32153</td><td>16711</td><td>Mahou Shoujo Madoka★Magica: Concept Movie</td><td>[&apos;Drama&apos;, &apos;Psychological&apos;, &apos;Suspense&apos;]</td><td>movie</td><td>7.13749</td><td>1.37538</td><td>0.823932</td><td>0.000211705</td></tr><tr><th>9</th><td>38993</td><td>5956</td><td>Karakai Jouzu no Takagi-san 2</td><td>[&apos;Comedy&apos;, &apos;Romance&apos;, &apos;School&apos;, &apos;Shounen&apos;, &apos;Slice of Life&apos;]</td><td>tv</td><td>6.89854</td><td>0.300659</td><td>0.71322</td><td>0.000212542</td></tr><tr><th>10</th><td>488</td><td>484</td><td>Ichigo Mashimaro</td><td>[&apos;Comedy&apos;, &apos;Slice of Life&apos;]</td><td>tv</td><td>6.90632</td><td>0.652097</td><td>0.725876</td><td>0.0015532</td></tr><tr><th>11</th><td>27989</td><td>15108</td><td>Hibike! Euphonium</td><td>[&apos;Drama&apos;, &apos;Music&apos;, &apos;School&apos;]</td><td>tv</td><td>6.96863</td><td>0.296272</td><td>0.821908</td><td>0.00314564</td></tr><tr><th>12</th><td>1858</td><td>1841</td><td>Gakuen Utopia Manabi Straight!</td><td>[&apos;Comedy&apos;, &apos;School&apos;, &apos;Slice of Life&apos;]</td><td>tv</td><td>6.89827</td><td>0.970434</td><td>0.808837</td><td>0.000309187</td></tr><tr><th>13</th><td>18617</td><td>12981</td><td>Girls &amp; Panzer Movie</td><td>[&apos;Military&apos;, &apos;School&apos;, &apos;Sports&apos;]</td><td>movie</td><td>7.23132</td><td>0.362644</td><td>1.16409</td><td>0.00169387</td></tr><tr><th>14</th><td>593</td><td>589</td><td>Mugen no Ryvius</td><td>[&apos;Drama&apos;, &apos;Mecha&apos;, &apos;Military&apos;, &apos;Psychological&apos;, &apos;Sci-Fi&apos;, &apos;Space&apos;]</td><td>tv</td><td>7.15226</td><td>0.717948</td><td>1.09881</td><td>0.000212193</td></tr><tr><th>15</th><td>877</td><td>864</td><td>Nana</td><td>[&apos;Comedy&apos;, &apos;Drama&apos;, &apos;Music&apos;, &apos;Romance&apos;, &apos;Shoujo&apos;, &apos;Slice of Life&apos;]</td><td>tv</td><td>7.2808</td><td>0.268505</td><td>1.23625</td><td>0.00128622</td></tr><tr><th>16</th><td>37804</td><td>4869</td><td>Shirobako Movie</td><td>[&apos;Comedy&apos;, &apos;Drama&apos;]</td><td>movie</td><td>6.87292</td><td>0.339557</td><td>0.839614</td><td>0.000158607</td></tr><tr><th>17</th><td>444</td><td>440</td><td>Maria-sama ga Miteru: Haru</td><td>[&apos;Drama&apos;, &apos;Girls Love&apos;, &apos;Romance&apos;, &apos;School&apos;, &apos;Shoujo&apos;]</td><td>tv</td><td>6.79158</td><td>0.533587</td><td>0.850345</td><td>0.000208187</td></tr><tr><th>18</th><td>122</td><td>120</td><td>Full Moon wo Sagashite</td><td>[&apos;Comedy&apos;, &apos;Drama&apos;, &apos;Music&apos;, &apos;Romance&apos;, &apos;Shoujo&apos;, &apos;Supernatural&apos;]</td><td>tv</td><td>6.92751</td><td>0.671116</td><td>1.01773</td><td>0.000217698</td></tr><tr><th>19</th><td>38422</td><td>5411</td><td>High Score Girl: Extra Stage</td><td>[&apos;Comedy&apos;, &apos;Game&apos;, &apos;Romance&apos;, &apos;School&apos;, &apos;Seinen&apos;]</td><td>ova</td><td>6.82881</td><td>0.158991</td><td>0.923695</td><td>0.000417</td></tr><tr><th>20</th><td>39783</td><td>6714</td><td>5-toubun no Hanayome ∬</td><td>[&apos;Comedy&apos;, &apos;Harem&apos;, &apos;Romance&apos;, &apos;School&apos;, &apos;Shounen&apos;]</td><td>tv</td><td>6.8902</td><td>0.376524</td><td>0.987837</td><td>0.000176418</td></tr><tr><th>21</th><td>9930</td><td>9096</td><td>Snow Halation</td><td>[&apos;Music&apos;]</td><td>music</td><td>6.83864</td><td>0.711264</td><td>0.938501</td><td>0.000163949</td></tr><tr><th>22</th><td>42941</td><td>9313</td><td>Uma Musume: Pretty Derby (TV) Season 2</td><td>[&apos;Comedy&apos;, &apos;Slice of Life&apos;, &apos;Sports&apos;]</td><td>tv</td><td>7.03777</td><td>0.487675</td><td>1.14971</td><td>0.000151762</td></tr><tr><th>23</th><td>31665</td><td>16499</td><td>Hibike! Euphonium: Kakedasu Monaka</td><td>[&apos;Drama&apos;, &apos;Music&apos;, &apos;School&apos;]</td><td>special</td><td>6.69717</td><td>0.525779</td><td>0.810157</td><td>0.0007005</td></tr><tr><th>24</th><td>35338</td><td>2546</td><td>Saenai Heroine no Sodatekata ♭: Koi to Junjou no Service-kai</td><td>[&apos;Comedy&apos;, &apos;Ecchi&apos;, &apos;Harem&apos;, &apos;Romance&apos;, &apos;School&apos;]</td><td>special</td><td>6.53188</td><td>0.847281</td><td>0.740598</td><td>0.000299738</td></tr><tr><th>25</th><td>29787</td><td>15583</td><td>Gochuumon wa Usagi Desu ka??</td><td>[&apos;Comedy&apos;, &apos;Slice of Life&apos;]</td><td>tv</td><td>6.60885</td><td>0.32393</td><td>0.873096</td><td>0.00122408</td></tr><tr><th>26</th><td>30727</td><td>16064</td><td>Saenai Heroine no Sodatekata ♭</td><td>[&apos;Comedy&apos;, &apos;Ecchi&apos;, &apos;Harem&apos;, &apos;Romance&apos;, &apos;School&apos;]</td><td>tv</td><td>6.71959</td><td>0.501457</td><td>0.994073</td><td>0.000501885</td></tr><tr><th>27</th><td>33089</td><td>317</td><td>Kemono Friends</td><td>[&apos;Adventure&apos;, &apos;Comedy&apos;, &apos;Fantasy&apos;]</td><td>tv</td><td>6.67476</td><td>0.605963</td><td>0.953188</td><td>0.00158521</td></tr><tr><th>28</th><td>22839</td><td>14089</td><td>Cross Road</td><td>[&apos;School&apos;, &apos;Slice of Life&apos;]</td><td>special</td><td>6.41923</td><td>0.437716</td><td>0.702473</td><td>0.000446895</td></tr><tr><th>29</th><td>35639</td><td>2844</td><td>Just Because!</td><td>[&apos;Drama&apos;, &apos;Romance&apos;, &apos;School&apos;, &apos;Slice of Life&apos;]</td><td>tv</td><td>6.71328</td><td>1.07081</td><td>0.996729</td><td>0.000390616</td></tr><tr><th>30</th><td>1888</td><td>1870</td><td>Ichigo Mashimaro OVA</td><td>[&apos;Comedy&apos;, &apos;School&apos;, &apos;Slice of Life&apos;]</td><td>ova</td><td>6.58685</td><td>0.269821</td><td>0.874034</td><td>0.000288463</td></tr><tr><th>31</th><td>17437</td><td>12674</td><td>The iDOLM@STER Movie: Kagayaki no Mukougawa e!</td><td>[&apos;Comedy&apos;, &apos;Drama&apos;, &apos;Music&apos;]</td><td>movie</td><td>6.80103</td><td>0.589334</td><td>1.09821</td><td>0.000391168</td></tr><tr><th>32</th><td>33280</td><td>508</td><td>Gochuumon wa Usagi Desu ka??: Dear My Sister</td><td>[&apos;Comedy&apos;, &apos;Slice of Life&apos;]</td><td>movie</td><td>6.47273</td><td>0.219168</td><td>0.793644</td><td>0.000162165</td></tr><tr><th>33</th><td>427</td><td>423</td><td>Kaleido Star</td><td>[&apos;Comedy&apos;, &apos;Drama&apos;, &apos;Fantasy&apos;, &apos;Shoujo&apos;, &apos;Sports&apos;]</td><td>tv</td><td>6.67913</td><td>0.394879</td><td>1.01153</td><td>0.000162488</td></tr><tr><th>34</th><td>21877</td><td>13802</td><td>High Score Girl</td><td>[&apos;Comedy&apos;, &apos;Game&apos;, &apos;Romance&apos;, &apos;School&apos;, &apos;Seinen&apos;]</td><td>tv</td><td>6.65644</td><td>0.205141</td><td>0.993221</td><td>0.000825758</td></tr><tr><th>35</th><td>38753</td><td>5719</td><td>Araburu Kisetsu no Otome-domo yo.</td><td>[&apos;Comedy&apos;, &apos;Drama&apos;, &apos;Romance&apos;, &apos;School&apos;, &apos;Shounen&apos;]</td><td>tv</td><td>6.58601</td><td>0.572206</td><td>0.93007</td><td>0.000512281</td></tr><tr><th>36</th><td>42361</td><td>8831</td><td>Ijiranaide, Nagatoro-san</td><td>[&apos;Comedy&apos;, &apos;Romance&apos;, &apos;Slice of Life&apos;]</td><td>tv</td><td>6.48398</td><td>0.827335</td><td>0.841302</td><td>0.000241377</td></tr><tr><th>37</th><td>18619</td><td>12982</td><td>Girls &amp; Panzer: Kore ga Hontou no Anzio-sen Desu!</td><td>[&apos;Military&apos;, &apos;School&apos;, &apos;Sports&apos;]</td><td>ova</td><td>6.54394</td><td>0.28381</td><td>0.907973</td><td>0.000533606</td></tr><tr><th>38</th><td>532</td><td>528</td><td>Bishoujo Senshi Sailor Moon S</td><td>[&apos;Drama&apos;, &apos;Romance&apos;, &apos;Shoujo&apos;]</td><td>tv</td><td>6.42464</td><td>0.232407</td><td>0.80726</td><td>0.000391338</td></tr><tr><th>39</th><td>25835</td><td>14749</td><td>Shirobako</td><td>[&apos;Comedy&apos;, &apos;Drama&apos;]</td><td>tv</td><td>7.33144</td><td>0.320422</td><td>1.72448</td><td>0.00289862</td></tr><tr><th>40</th><td>11889</td><td>10403</td><td>The iDOLM@STER: 765 Pro to Iu Monogatari</td><td>[&apos;Comedy&apos;, &apos;Drama&apos;, &apos;Music&apos;]</td><td>special</td><td>6.42668</td><td>0.34906</td><td>0.824021</td><td>0.000284963</td></tr><tr><th>41</th><td>14941</td><td>11486</td><td>AKB0048: Next Stage</td><td>[&apos;Music&apos;, &apos;Sci-Fi&apos;]</td><td>tv</td><td>6.63382</td><td>0.626084</td><td>1.03584</td><td>0.000290204</td></tr><tr><th>42</th><td>811</td><td>802</td><td>I&apos;&apos;s Pure</td><td>[&apos;Comedy&apos;, &apos;Drama&apos;, &apos;Ecchi&apos;, &apos;Romance&apos;, &apos;School&apos;]</td><td>ova</td><td>6.52998</td><td>1.2478</td><td>0.994403</td><td>0.000164128</td></tr><tr><th>43</th><td>32836</td><td>67</td><td>Senki Zesshou Symphogear AXZ</td><td>[&apos;Action&apos;, &apos;Music&apos;, &apos;Sci-Fi&apos;]</td><td>tv</td><td>6.93375</td><td>0.760931</td><td>1.40695</td><td>0.000186081</td></tr><tr><th>44</th><td>182</td><td>180</td><td>Tenkuu no Escaflowne</td><td>[&apos;Adventure&apos;, &apos;Fantasy&apos;, &apos;Mecha&apos;, &apos;Psychological&apos;, &apos;Romance&apos;]</td><td>tv</td><td>6.51354</td><td>0.233981</td><td>0.987095</td><td>0.000807177</td></tr><tr><th>45</th><td>59</td><td>57</td><td>Chobits</td><td>[&apos;Comedy&apos;, &apos;Drama&apos;, &apos;Ecchi&apos;, &apos;Romance&apos;, &apos;Sci-Fi&apos;, &apos;Seinen&apos;]</td><td>tv</td><td>6.569</td><td>0.803546</td><td>1.04584</td><td>0.00162937</td></tr><tr><th>46</th><td>37982</td><td>5036</td><td>Domestic na Kanojo</td><td>[&apos;Drama&apos;, &apos;Romance&apos;, &apos;School&apos;, &apos;Shounen&apos;]</td><td>tv</td><td>6.51356</td><td>1.4899</td><td>1.02749</td><td>0.00034542</td></tr><tr><th>47</th><td>18897</td><td>13057</td><td>Nisekoi</td><td>[&apos;Comedy&apos;, &apos;Harem&apos;, &apos;Romance&apos;, &apos;School&apos;, &apos;Shounen&apos;]</td><td>tv</td><td>6.33795</td><td>0.328646</td><td>0.879429</td><td>0.00123047</td></tr><tr><th>48</th><td>35860</td><td>3060</td><td>Karakai Jouzu no Takagi-san</td><td>[&apos;Comedy&apos;, &apos;Romance&apos;, &apos;School&apos;, &apos;Shounen&apos;, &apos;Slice of Life&apos;]</td><td>tv</td><td>6.4686</td><td>0.346633</td><td>1.01473</td><td>0.000500116</td></tr><tr><th>49</th><td>330</td><td>326</td><td>Midori no Hibi</td><td>[&apos;Comedy&apos;, &apos;Drama&apos;, &apos;Ecchi&apos;, &apos;Romance&apos;, &apos;Shounen&apos;]</td><td>tv</td><td>6.29302</td><td>0.621726</td><td>0.844272</td><td>0.000824668</td></tr><tr><th>50</th><td>158</td><td>156</td><td>Maria-sama ga Miteru</td><td>[&apos;Drama&apos;, &apos;Girls Love&apos;, &apos;Romance&apos;, &apos;Shoujo&apos;, &apos;Slice of Life&apos;]</td><td>tv</td><td>6.53241</td><td>0.702656</td><td>1.08778</td><td>0.000385479</td></tr><tr><th>51</th><td>34902</td><td>2116</td><td>Tsurezure Children</td><td>[&apos;Comedy&apos;, &apos;Romance&apos;, &apos;School&apos;, &apos;Shounen&apos;]</td><td>tv</td><td>6.36847</td><td>0.210585</td><td>0.926962</td><td>0.00069528</td></tr><tr><th>52</th><td>37621</td><td>4705</td><td>Karakai Jouzu no Takagi-san: Water Slide</td><td>[&apos;Comedy&apos;, &apos;Romance&apos;, &apos;Shounen&apos;, &apos;Slice of Life&apos;]</td><td>ova</td><td>6.54749</td><td>0.710936</td><td>1.10856</td><td>0.000156554</td></tr><tr><th>53</th><td>29317</td><td>15393</td><td>Saenai Heroine no Sodatekata: Ai to Seishun no Service-kai</td><td>[&apos;Comedy&apos;, &apos;Ecchi&apos;, &apos;Harem&apos;, &apos;Romance&apos;]</td><td>special</td><td>6.13282</td><td>0.737332</td><td>0.695167</td><td>0.000472926</td></tr><tr><th>54</th><td>23277</td><td>14214</td><td>Saenai Heroine no Sodatekata</td><td>[&apos;Comedy&apos;, &apos;Ecchi&apos;, &apos;Harem&apos;, &apos;Romance&apos;, &apos;School&apos;]</td><td>tv</td><td>6.36238</td><td>0.451538</td><td>0.933471</td><td>0.000990278</td></tr><tr><th>55</th><td>28105</td><td>15144</td><td>Shirobako Specials</td><td>[&apos;Adventure&apos;, &apos;Comedy&apos;]</td><td>special</td><td>6.41479</td><td>0.885345</td><td>0.986988</td><td>0.000285294</td></tr><tr><th>56</th><td>587</td><td>584</td><td>Hanbun no Tsuki ga Noboru Sora</td><td>[&apos;Comedy&apos;, &apos;Drama&apos;, &apos;Romance&apos;]</td><td>tv</td><td>6.37015</td><td>0.446992</td><td>0.945245</td><td>0.000326225</td></tr><tr><th>57</th><td>4811</td><td>4664</td><td>Ichigo Mashimaro Encore</td><td>[&apos;Comedy&apos;, &apos;Slice of Life&apos;]</td><td>ova</td><td>6.5293</td><td>0.197666</td><td>1.10521</td><td>0.000294653</td></tr><tr><th>58</th><td>5671</td><td>5427</td><td>Saki</td><td>[&apos;Game&apos;, &apos;School&apos;, &apos;Slice of Life&apos;]</td><td>tv</td><td>6.36886</td><td>0.475589</td><td>0.957233</td><td>0.000770826</td></tr><tr><th>59</th><td>40685</td><td>7503</td><td>Super Cub</td><td>[&apos;School&apos;, &apos;Slice of Life&apos;]</td><td>tv</td><td>6.44334</td><td>0.440245</td><td>1.03287</td><td>0.000205581</td></tr><tr><th>60</th><td>1222</td><td>1209</td><td>Bokura ga Ita</td><td>[&apos;Drama&apos;, &apos;Romance&apos;, &apos;Shoujo&apos;, &apos;Slice of Life&apos;]</td><td>tv</td><td>6.7227</td><td>1.14725</td><td>1.32476</td><td>0.000434063</td></tr><tr><th>61</th><td>443</td><td>439</td><td>Onegai☆Teacher: Himitsu na Futari</td><td>[&apos;Comedy&apos;, &apos;Ecchi&apos;, &apos;Romance&apos;, &apos;Sci-Fi&apos;]</td><td>ova</td><td>6.42128</td><td>0.894504</td><td>1.04185</td><td>0.00023895</td></tr><tr><th>62</th><td>24227</td><td>14442</td><td>Nisekoi OVA</td><td>[&apos;Comedy&apos;, &apos;Harem&apos;, &apos;Romance&apos;, &apos;School&apos;, &apos;Shounen&apos;]</td><td>ova</td><td>6.19101</td><td>0.523249</td><td>0.822511</td><td>0.000268781</td></tr><tr><th>63</th><td>38101</td><td>5153</td><td>5-toubun no Hanayome</td><td>[&apos;Comedy&apos;, &apos;Harem&apos;, &apos;Romance&apos;, &apos;School&apos;, &apos;Shounen&apos;]</td><td>tv</td><td>6.3435</td><td>0.353589</td><td>0.976349</td><td>0.000405277</td></tr><tr><th>64</th><td>837</td><td>828</td><td>Kyou no 5 no 2</td><td>[&apos;Comedy&apos;, &apos;Ecchi&apos;, &apos;School&apos;, &apos;Seinen&apos;]</td><td>ova</td><td>6.31842</td><td>0.681934</td><td>0.959903</td><td>0.000269967</td></tr><tr><th>65</th><td>10445</td><td>9479</td><td>Perfect Day</td><td>[&apos;Music&apos;]</td><td>music</td><td>6.30104</td><td>0.216587</td><td>0.950436</td><td>0.000170544</td></tr><tr><th>66</th><td>33091</td><td>2626</td><td>Planetarian: Chiisana Hoshi no Yume</td><td>[&apos;Drama&apos;, &apos;Sci-Fi&apos;]</td><td>ona</td><td>6.33551</td><td>0.185147</td><td>0.988509</td><td>0.000673923</td></tr><tr><th>67</th><td>530</td><td>526</td><td>Bishoujo Senshi Sailor Moon</td><td>[&apos;Demons&apos;, &apos;Romance&apos;, &apos;Shoujo&apos;]</td><td>tv</td><td>6.17195</td><td>0.159274</td><td>0.829708</td><td>0.00086286</td></tr><tr><th>68</th><td>195</td><td>193</td><td>Onegai☆Teacher</td><td>[&apos;Comedy&apos;, &apos;Drama&apos;, &apos;Romance&apos;, &apos;School&apos;, &apos;Sci-Fi&apos;]</td><td>tv</td><td>6.35511</td><td>0.91477</td><td>1.01446</td><td>0.000671816</td></tr><tr><th>69</th><td>584</td><td>580</td><td>Noein: Mou Hitori no Kimi e</td><td>[&apos;Adventure&apos;, &apos;Drama&apos;, &apos;Sci-Fi&apos;, &apos;Slice of Life&apos;]</td><td>tv</td><td>6.34014</td><td>0.106677</td><td>1.00488</td><td>0.00044902</td></tr><tr><th>70</th><td>40938</td><td>7715</td><td>Hige wo Soru. Soshite Joshikousei wo Hirou.</td><td>[&apos;Drama&apos;, &apos;Romance&apos;]</td><td>tv</td><td>6.15984</td><td>0.622444</td><td>0.830061</td><td>0.000240783</td></tr><tr><th>71</th><td>36214</td><td>3394</td><td>Asagao to Kase-san.</td><td>[&apos;Girls Love&apos;, &apos;Romance&apos;, &apos;School&apos;, &apos;Shoujo&apos;]</td><td>ova</td><td>6.48634</td><td>0.111588</td><td>1.1566</td><td>0.000651584</td></tr><tr><th>72</th><td>1592</td><td>1576</td><td>Hataraki Man</td><td>[&apos;Comedy&apos;, &apos;Drama&apos;, &apos;Romance&apos;, &apos;Seinen&apos;, &apos;Slice of Life&apos;]</td><td>tv</td><td>6.23931</td><td>0.437493</td><td>0.913471</td><td>0.000190017</td></tr><tr><th>73</th><td>35240</td><td>2448</td><td>Princess Principal</td><td>[&apos;Action&apos;, &apos;Historical&apos;, &apos;Mystery&apos;]</td><td>tv</td><td>6.45214</td><td>0.249076</td><td>1.12801</td><td>0.000858722</td></tr><tr><th>74</th><td>4720</td><td>4578</td><td>White Album</td><td>[&apos;Drama&apos;, &apos;Harem&apos;, &apos;Music&apos;, &apos;Romance&apos;]</td><td>tv</td><td>6.29442</td><td>1.37693</td><td>0.973344</td><td>0.000400933</td></tr><tr><th>75</th><td>3958</td><td>3888</td><td>Kannagi</td><td>[&apos;Comedy&apos;, &apos;School&apos;, &apos;Shounen&apos;, &apos;Supernatural&apos;]</td><td>tv</td><td>6.32809</td><td>0.540137</td><td>1.00936</td><td>0.000904309</td></tr><tr><th>76</th><td>2942</td><td>2915</td><td>Sketchbook: Full Color&apos;s</td><td>[&apos;Comedy&apos;, &apos;Slice of Life&apos;]</td><td>tv</td><td>6.30469</td><td>0.258274</td><td>0.988348</td><td>0.000201543</td></tr><tr><th>77</th><td>165</td><td>163</td><td>RahXephon</td><td>[&apos;Action&apos;, &apos;Drama&apos;, &apos;Mecha&apos;, &apos;Music&apos;, &apos;Mystery&apos;, &apos;Psychological&apos;, &apos;Romance&apos;, &apos;Sci-Fi&apos;]</td><td>tv</td><td>6.33353</td><td>0.248349</td><td>1.01737</td><td>0.000703886</td></tr><tr><th>78</th><td>48849</td><td>12035</td><td>Sonny Boy</td><td>[&apos;Mystery&apos;, &apos;Super Power&apos;]</td><td>tv</td><td>6.5154</td><td>0.17497</td><td>1.20187</td><td>0.000245127</td></tr><tr><th>79</th><td>1087</td><td>1074</td><td>Kimagure Orange☆Road</td><td>[&apos;Comedy&apos;, &apos;Drama&apos;, &apos;Romance&apos;, &apos;School&apos;, &apos;Shounen&apos;, &apos;Slice of Life&apos;, &apos;Super Power&apos;]</td><td>tv</td><td>6.34967</td><td>0.173525</td><td>1.03689</td><td>0.000235451</td></tr><tr><th>80</th><td>31859</td><td>16595</td><td>Hai to Gensou no Grimgar</td><td>[&apos;Action&apos;, &apos;Adventure&apos;, &apos;Drama&apos;, &apos;Fantasy&apos;]</td><td>tv</td><td>6.37042</td><td>0.342214</td><td>1.06412</td><td>0.000582996</td></tr><tr><th>81</th><td>102</td><td>100</td><td>Aishiteruze Baby★★</td><td>[&apos;Comedy&apos;, &apos;Drama&apos;, &apos;Romance&apos;, &apos;Shoujo&apos;]</td><td>tv</td><td>6.21857</td><td>0.522754</td><td>0.912727</td><td>0.000256626</td></tr><tr><th>82</th><td>52</td><td>50</td><td>Kidou Tenshi Angelic Layer</td><td>[&apos;Comedy&apos;, &apos;Drama&apos;, &apos;Sci-Fi&apos;, &apos;Shounen&apos;, &apos;Sports&apos;]</td><td>tv</td><td>6.17603</td><td>0.61563</td><td>0.871245</td><td>0.000286138</td></tr><tr><th>83</th><td>5141</td><td>4964</td><td>Taishou Yakyuu Musume.</td><td>[&apos;Comedy&apos;, &apos;Historical&apos;, &apos;School&apos;, &apos;Seinen&apos;, &apos;Sports&apos;]</td><td>tv</td><td>6.30738</td><td>0.274323</td><td>1.01732</td><td>0.000193451</td></tr><tr><th>84</th><td>5150</td><td>4972</td><td>Hatsukoi Limited.</td><td>[&apos;Comedy&apos;, &apos;Romance&apos;, &apos;School&apos;, &apos;Shounen&apos;]</td><td>tv</td><td>6.10775</td><td>0.370677</td><td>0.822985</td><td>0.000414231</td></tr><tr><th>85</th><td>32287</td><td>16771</td><td>Kanamewo</td><td>[&apos;Drama&apos;, &apos;Girls Love&apos;, &apos;Romance&apos;, &apos;Supernatural&apos;]</td><td>ona</td><td>6.19153</td><td>0.506135</td><td>0.911479</td><td>0.000194429</td></tr><tr><th>86</th><td>1003</td><td>992</td><td>Aa! Megami-sama! (TV) Specials</td><td>[&apos;Comedy&apos;, &apos;Romance&apos;, &apos;Seinen&apos;, &apos;Supernatural&apos;]</td><td>special</td><td>6.38188</td><td>0.534184</td><td>1.12089</td><td>0.000156347</td></tr><tr><th>87</th><td>20517</td><td>13462</td><td>Little Busters!: EX</td><td>[&apos;Comedy&apos;, &apos;Drama&apos;, &apos;Romance&apos;, &apos;School&apos;, &apos;Slice of Life&apos;, &apos;Supernatural&apos;]</td><td>special</td><td>6.29488</td><td>0.118455</td><td>1.03861</td><td>0.000230666</td></tr><tr><th>88</th><td>524</td><td>520</td><td>Onegai☆Twins: Natsu wa Owaranai</td><td>[&apos;Comedy&apos;, &apos;Drama&apos;, &apos;Romance&apos;]</td><td>ova</td><td>6.14464</td><td>0.863032</td><td>0.888482</td><td>0.000187852</td></tr><tr><th>89</th><td>9213</td><td>8527</td><td>Kowarekake no Orgel</td><td>[&apos;Drama&apos;, &apos;Music&apos;, &apos;Sci-Fi&apos;, &apos;Slice of Life&apos;]</td><td>ova</td><td>6.00119</td><td>0.135103</td><td>0.763904</td><td>0.000359057</td></tr><tr><th>90</th><td>4483</td><td>4360</td><td>Mahoutsukai ni Taisetsu na Koto: Natsu no Sora</td><td>[&apos;Drama&apos;, &apos;Romance&apos;, &apos;Shounen&apos;, &apos;Slice of Life&apos;]</td><td>tv</td><td>6.32237</td><td>0.445821</td><td>1.08574</td><td>0.000285769</td></tr><tr><th>91</th><td>1577</td><td>1561</td><td>Taiho Shichau zo</td><td>[&apos;Action&apos;, &apos;Comedy&apos;, &apos;Police&apos;, &apos;Seinen&apos;]</td><td>ova</td><td>6.47491</td><td>0.134802</td><td>1.24252</td><td>0.000161174</td></tr><tr><th>92</th><td>17901</td><td>12809</td><td>All Alone With You</td><td>[&apos;Fantasy&apos;, &apos;Music&apos;]</td><td>music</td><td>6.3502</td><td>0.429923</td><td>1.11955</td><td>0.00020435</td></tr><tr><th>93</th><td>552</td><td>548</td><td>Digimon Adventure</td><td>[&apos;Action&apos;, &apos;Adventure&apos;, &apos;Comedy&apos;, &apos;Fantasy&apos;, &apos;Kids&apos;]</td><td>tv</td><td>6.49667</td><td>0.322633</td><td>1.26986</td><td>0.000657909</td></tr><tr><th>94</th><td>5084</td><td>4908</td><td>Mai Mai Shinko to Sennen no Mahou</td><td>[&apos;Adventure&apos;, &apos;Drama&apos;]</td><td>movie</td><td>6.26888</td><td>0.174004</td><td>1.04218</td><td>0.000159257</td></tr><tr><th>95</th><td>34934</td><td>2148</td><td>Koi to Uso</td><td>[&apos;Drama&apos;, &apos;Romance&apos;, &apos;School&apos;]</td><td>tv</td><td>6.04411</td><td>1.20409</td><td>0.824223</td><td>0.000570646</td></tr><tr><th>96</th><td>10804</td><td>9820</td><td>Ikoku Meiro no Croisée The Animation: Ongakkai &quot;Récital&quot;</td><td>[&apos;Historical&apos;, &apos;Seinen&apos;, &apos;Slice of Life&apos;]</td><td>special</td><td>6.13105</td><td>0.153044</td><td>0.912326</td><td>0.000162817</td></tr><tr><th>97</th><td>209</td><td>208</td><td>R.O.D: The TV</td><td>[&apos;Action&apos;, &apos;Adventure&apos;, &apos;Comedy&apos;, &apos;Drama&apos;, &apos;Sci-Fi&apos;, &apos;Super Power&apos;]</td><td>tv</td><td>6.19603</td><td>0.215586</td><td>0.9823</td><td>0.00029214</td></tr><tr><th>98</th><td>38476</td><td>5461</td><td>Heya Camp△</td><td>[&apos;Comedy&apos;, &apos;Slice of Life&apos;]</td><td>tv</td><td>6.01789</td><td>0.208117</td><td>0.808406</td><td>0.00039632</td></tr><tr><th>99</th><td>31771</td><td>16566</td><td>Amanchu!</td><td>[&apos;Comedy&apos;, &apos;School&apos;, &apos;Shounen&apos;, &apos;Slice of Life&apos;]</td><td>tv</td><td>6.30161</td><td>0.342984</td><td>1.09368</td><td>0.000636645</td></tr><tr><th>100</th><td>39175</td><td>6131</td><td>Cider no You ni Kotoba ga Wakiagaru</td><td>[&apos;Music&apos;, &apos;Romance&apos;, &apos;Slice of Life&apos;]</td><td>movie</td><td>6.22654</td><td>0.196345</td><td>1.02104</td><td>0.000193222</td></tr><tr><th>&vellip;</th><td>&vellip;</td><td>&vellip;</td><td>&vellip;</td><td>&vellip;</td><td>&vellip;</td><td>&vellip;</td><td>&vellip;</td><td>&vellip;</td><td>&vellip;</td></tr></tbody></table></div>"
      ],
      "text/latex": [
       "\\begin{tabular}{r|ccccccccc}\n",
       "\t& anime\\_id & uid & title & genres & medium & rating & alpha & std & p\\\\\n",
       "\t\\hline\n",
       "\t& Int64 & Int64 & String & String & String7 & Float64 & Float64 & Float64 & Float64\\\\\n",
       "\t\\hline\n",
       "\t1 & 42984 & 9352 & Gotcha! & ['Fantasy', 'Music'] & music & 7.81981 & 0.641094 & 1.19288 & 0.000159476 \\\\\n",
       "\t2 & 31988 & 16650 & Hibike! Euphonium 2 & ['Drama', 'Music', 'School'] & tv & 7.31783 & 0.276794 & 0.860187 & 0.00227862 \\\\\n",
       "\t3 & 34914 & 2128 & New Game!! & ['Comedy', 'Game', 'Slice of Life'] & tv & 7.01229 & 0.713709 & 0.633501 & 0.00114507 \\\\\n",
       "\t4 & 3750 & 3684 & Maria-sama ga Miteru 4th & ['Girls Love', 'School', 'Shoujo', 'Slice of Life'] & tv & 7.17142 & 0.75794 & 0.80201 & 0.00015453 \\\\\n",
       "\t5 & 33970 & 1190 & Girls \\& Panzer: Saishuushou Part 1 & ['Military', 'School'] & movie & 7.21071 & 0.633273 & 0.867454 & 0.000155275 \\\\\n",
       "\t6 & 1729 & 1713 & Maria-sama ga Miteru 3rd & ['Drama', 'Girls Love', 'School', 'Slice of Life'] & ova & 7.21715 & 0.748611 & 0.875576 & 0.00033268 \\\\\n",
       "\t7 & 1530 & 1514 & Kanon (2006) & ['Drama', 'Romance', 'Slice of Life', 'Supernatural'] & tv & 7.22907 & 0.732846 & 0.889388 & 0.00197499 \\\\\n",
       "\t8 & 32153 & 16711 & Mahou Shoujo Madoka★Magica: Concept Movie & ['Drama', 'Psychological', 'Suspense'] & movie & 7.13749 & 1.37538 & 0.823932 & 0.000211705 \\\\\n",
       "\t9 & 38993 & 5956 & Karakai Jouzu no Takagi-san 2 & ['Comedy', 'Romance', 'School', 'Shounen', 'Slice of Life'] & tv & 6.89854 & 0.300659 & 0.71322 & 0.000212542 \\\\\n",
       "\t10 & 488 & 484 & Ichigo Mashimaro & ['Comedy', 'Slice of Life'] & tv & 6.90632 & 0.652097 & 0.725876 & 0.0015532 \\\\\n",
       "\t11 & 27989 & 15108 & Hibike! Euphonium & ['Drama', 'Music', 'School'] & tv & 6.96863 & 0.296272 & 0.821908 & 0.00314564 \\\\\n",
       "\t12 & 1858 & 1841 & Gakuen Utopia Manabi Straight! & ['Comedy', 'School', 'Slice of Life'] & tv & 6.89827 & 0.970434 & 0.808837 & 0.000309187 \\\\\n",
       "\t13 & 18617 & 12981 & Girls \\& Panzer Movie & ['Military', 'School', 'Sports'] & movie & 7.23132 & 0.362644 & 1.16409 & 0.00169387 \\\\\n",
       "\t14 & 593 & 589 & Mugen no Ryvius & ['Drama', 'Mecha', 'Military', 'Psychological', 'Sci-Fi', 'Space'] & tv & 7.15226 & 0.717948 & 1.09881 & 0.000212193 \\\\\n",
       "\t15 & 877 & 864 & Nana & ['Comedy', 'Drama', 'Music', 'Romance', 'Shoujo', 'Slice of Life'] & tv & 7.2808 & 0.268505 & 1.23625 & 0.00128622 \\\\\n",
       "\t16 & 37804 & 4869 & Shirobako Movie & ['Comedy', 'Drama'] & movie & 6.87292 & 0.339557 & 0.839614 & 0.000158607 \\\\\n",
       "\t17 & 444 & 440 & Maria-sama ga Miteru: Haru & ['Drama', 'Girls Love', 'Romance', 'School', 'Shoujo'] & tv & 6.79158 & 0.533587 & 0.850345 & 0.000208187 \\\\\n",
       "\t18 & 122 & 120 & Full Moon wo Sagashite & ['Comedy', 'Drama', 'Music', 'Romance', 'Shoujo', 'Supernatural'] & tv & 6.92751 & 0.671116 & 1.01773 & 0.000217698 \\\\\n",
       "\t19 & 38422 & 5411 & High Score Girl: Extra Stage & ['Comedy', 'Game', 'Romance', 'School', 'Seinen'] & ova & 6.82881 & 0.158991 & 0.923695 & 0.000417 \\\\\n",
       "\t20 & 39783 & 6714 & 5-toubun no Hanayome ∬ & ['Comedy', 'Harem', 'Romance', 'School', 'Shounen'] & tv & 6.8902 & 0.376524 & 0.987837 & 0.000176418 \\\\\n",
       "\t21 & 9930 & 9096 & Snow Halation & ['Music'] & music & 6.83864 & 0.711264 & 0.938501 & 0.000163949 \\\\\n",
       "\t22 & 42941 & 9313 & Uma Musume: Pretty Derby (TV) Season 2 & ['Comedy', 'Slice of Life', 'Sports'] & tv & 7.03777 & 0.487675 & 1.14971 & 0.000151762 \\\\\n",
       "\t23 & 31665 & 16499 & Hibike! Euphonium: Kakedasu Monaka & ['Drama', 'Music', 'School'] & special & 6.69717 & 0.525779 & 0.810157 & 0.0007005 \\\\\n",
       "\t24 & 35338 & 2546 & Saenai Heroine no Sodatekata ♭: Koi to Junjou no Service-kai & ['Comedy', 'Ecchi', 'Harem', 'Romance', 'School'] & special & 6.53188 & 0.847281 & 0.740598 & 0.000299738 \\\\\n",
       "\t25 & 29787 & 15583 & Gochuumon wa Usagi Desu ka?? & ['Comedy', 'Slice of Life'] & tv & 6.60885 & 0.32393 & 0.873096 & 0.00122408 \\\\\n",
       "\t26 & 30727 & 16064 & Saenai Heroine no Sodatekata ♭ & ['Comedy', 'Ecchi', 'Harem', 'Romance', 'School'] & tv & 6.71959 & 0.501457 & 0.994073 & 0.000501885 \\\\\n",
       "\t27 & 33089 & 317 & Kemono Friends & ['Adventure', 'Comedy', 'Fantasy'] & tv & 6.67476 & 0.605963 & 0.953188 & 0.00158521 \\\\\n",
       "\t28 & 22839 & 14089 & Cross Road & ['School', 'Slice of Life'] & special & 6.41923 & 0.437716 & 0.702473 & 0.000446895 \\\\\n",
       "\t29 & 35639 & 2844 & Just Because! & ['Drama', 'Romance', 'School', 'Slice of Life'] & tv & 6.71328 & 1.07081 & 0.996729 & 0.000390616 \\\\\n",
       "\t30 & 1888 & 1870 & Ichigo Mashimaro OVA & ['Comedy', 'School', 'Slice of Life'] & ova & 6.58685 & 0.269821 & 0.874034 & 0.000288463 \\\\\n",
       "\t31 & 17437 & 12674 & The iDOLM@STER Movie: Kagayaki no Mukougawa e! & ['Comedy', 'Drama', 'Music'] & movie & 6.80103 & 0.589334 & 1.09821 & 0.000391168 \\\\\n",
       "\t32 & 33280 & 508 & Gochuumon wa Usagi Desu ka??: Dear My Sister & ['Comedy', 'Slice of Life'] & movie & 6.47273 & 0.219168 & 0.793644 & 0.000162165 \\\\\n",
       "\t33 & 427 & 423 & Kaleido Star & ['Comedy', 'Drama', 'Fantasy', 'Shoujo', 'Sports'] & tv & 6.67913 & 0.394879 & 1.01153 & 0.000162488 \\\\\n",
       "\t34 & 21877 & 13802 & High Score Girl & ['Comedy', 'Game', 'Romance', 'School', 'Seinen'] & tv & 6.65644 & 0.205141 & 0.993221 & 0.000825758 \\\\\n",
       "\t35 & 38753 & 5719 & Araburu Kisetsu no Otome-domo yo. & ['Comedy', 'Drama', 'Romance', 'School', 'Shounen'] & tv & 6.58601 & 0.572206 & 0.93007 & 0.000512281 \\\\\n",
       "\t36 & 42361 & 8831 & Ijiranaide, Nagatoro-san & ['Comedy', 'Romance', 'Slice of Life'] & tv & 6.48398 & 0.827335 & 0.841302 & 0.000241377 \\\\\n",
       "\t37 & 18619 & 12982 & Girls \\& Panzer: Kore ga Hontou no Anzio-sen Desu! & ['Military', 'School', 'Sports'] & ova & 6.54394 & 0.28381 & 0.907973 & 0.000533606 \\\\\n",
       "\t38 & 532 & 528 & Bishoujo Senshi Sailor Moon S & ['Drama', 'Romance', 'Shoujo'] & tv & 6.42464 & 0.232407 & 0.80726 & 0.000391338 \\\\\n",
       "\t39 & 25835 & 14749 & Shirobako & ['Comedy', 'Drama'] & tv & 7.33144 & 0.320422 & 1.72448 & 0.00289862 \\\\\n",
       "\t40 & 11889 & 10403 & The iDOLM@STER: 765 Pro to Iu Monogatari & ['Comedy', 'Drama', 'Music'] & special & 6.42668 & 0.34906 & 0.824021 & 0.000284963 \\\\\n",
       "\t41 & 14941 & 11486 & AKB0048: Next Stage & ['Music', 'Sci-Fi'] & tv & 6.63382 & 0.626084 & 1.03584 & 0.000290204 \\\\\n",
       "\t42 & 811 & 802 & I''s Pure & ['Comedy', 'Drama', 'Ecchi', 'Romance', 'School'] & ova & 6.52998 & 1.2478 & 0.994403 & 0.000164128 \\\\\n",
       "\t43 & 32836 & 67 & Senki Zesshou Symphogear AXZ & ['Action', 'Music', 'Sci-Fi'] & tv & 6.93375 & 0.760931 & 1.40695 & 0.000186081 \\\\\n",
       "\t44 & 182 & 180 & Tenkuu no Escaflowne & ['Adventure', 'Fantasy', 'Mecha', 'Psychological', 'Romance'] & tv & 6.51354 & 0.233981 & 0.987095 & 0.000807177 \\\\\n",
       "\t45 & 59 & 57 & Chobits & ['Comedy', 'Drama', 'Ecchi', 'Romance', 'Sci-Fi', 'Seinen'] & tv & 6.569 & 0.803546 & 1.04584 & 0.00162937 \\\\\n",
       "\t46 & 37982 & 5036 & Domestic na Kanojo & ['Drama', 'Romance', 'School', 'Shounen'] & tv & 6.51356 & 1.4899 & 1.02749 & 0.00034542 \\\\\n",
       "\t47 & 18897 & 13057 & Nisekoi & ['Comedy', 'Harem', 'Romance', 'School', 'Shounen'] & tv & 6.33795 & 0.328646 & 0.879429 & 0.00123047 \\\\\n",
       "\t48 & 35860 & 3060 & Karakai Jouzu no Takagi-san & ['Comedy', 'Romance', 'School', 'Shounen', 'Slice of Life'] & tv & 6.4686 & 0.346633 & 1.01473 & 0.000500116 \\\\\n",
       "\t49 & 330 & 326 & Midori no Hibi & ['Comedy', 'Drama', 'Ecchi', 'Romance', 'Shounen'] & tv & 6.29302 & 0.621726 & 0.844272 & 0.000824668 \\\\\n",
       "\t50 & 158 & 156 & Maria-sama ga Miteru & ['Drama', 'Girls Love', 'Romance', 'Shoujo', 'Slice of Life'] & tv & 6.53241 & 0.702656 & 1.08778 & 0.000385479 \\\\\n",
       "\t51 & 34902 & 2116 & Tsurezure Children & ['Comedy', 'Romance', 'School', 'Shounen'] & tv & 6.36847 & 0.210585 & 0.926962 & 0.00069528 \\\\\n",
       "\t52 & 37621 & 4705 & Karakai Jouzu no Takagi-san: Water Slide & ['Comedy', 'Romance', 'Shounen', 'Slice of Life'] & ova & 6.54749 & 0.710936 & 1.10856 & 0.000156554 \\\\\n",
       "\t53 & 29317 & 15393 & Saenai Heroine no Sodatekata: Ai to Seishun no Service-kai & ['Comedy', 'Ecchi', 'Harem', 'Romance'] & special & 6.13282 & 0.737332 & 0.695167 & 0.000472926 \\\\\n",
       "\t54 & 23277 & 14214 & Saenai Heroine no Sodatekata & ['Comedy', 'Ecchi', 'Harem', 'Romance', 'School'] & tv & 6.36238 & 0.451538 & 0.933471 & 0.000990278 \\\\\n",
       "\t55 & 28105 & 15144 & Shirobako Specials & ['Adventure', 'Comedy'] & special & 6.41479 & 0.885345 & 0.986988 & 0.000285294 \\\\\n",
       "\t56 & 587 & 584 & Hanbun no Tsuki ga Noboru Sora & ['Comedy', 'Drama', 'Romance'] & tv & 6.37015 & 0.446992 & 0.945245 & 0.000326225 \\\\\n",
       "\t57 & 4811 & 4664 & Ichigo Mashimaro Encore & ['Comedy', 'Slice of Life'] & ova & 6.5293 & 0.197666 & 1.10521 & 0.000294653 \\\\\n",
       "\t58 & 5671 & 5427 & Saki & ['Game', 'School', 'Slice of Life'] & tv & 6.36886 & 0.475589 & 0.957233 & 0.000770826 \\\\\n",
       "\t59 & 40685 & 7503 & Super Cub & ['School', 'Slice of Life'] & tv & 6.44334 & 0.440245 & 1.03287 & 0.000205581 \\\\\n",
       "\t60 & 1222 & 1209 & Bokura ga Ita & ['Drama', 'Romance', 'Shoujo', 'Slice of Life'] & tv & 6.7227 & 1.14725 & 1.32476 & 0.000434063 \\\\\n",
       "\t61 & 443 & 439 & Onegai☆Teacher: Himitsu na Futari & ['Comedy', 'Ecchi', 'Romance', 'Sci-Fi'] & ova & 6.42128 & 0.894504 & 1.04185 & 0.00023895 \\\\\n",
       "\t62 & 24227 & 14442 & Nisekoi OVA & ['Comedy', 'Harem', 'Romance', 'School', 'Shounen'] & ova & 6.19101 & 0.523249 & 0.822511 & 0.000268781 \\\\\n",
       "\t63 & 38101 & 5153 & 5-toubun no Hanayome & ['Comedy', 'Harem', 'Romance', 'School', 'Shounen'] & tv & 6.3435 & 0.353589 & 0.976349 & 0.000405277 \\\\\n",
       "\t64 & 837 & 828 & Kyou no 5 no 2 & ['Comedy', 'Ecchi', 'School', 'Seinen'] & ova & 6.31842 & 0.681934 & 0.959903 & 0.000269967 \\\\\n",
       "\t65 & 10445 & 9479 & Perfect Day & ['Music'] & music & 6.30104 & 0.216587 & 0.950436 & 0.000170544 \\\\\n",
       "\t66 & 33091 & 2626 & Planetarian: Chiisana Hoshi no Yume & ['Drama', 'Sci-Fi'] & ona & 6.33551 & 0.185147 & 0.988509 & 0.000673923 \\\\\n",
       "\t67 & 530 & 526 & Bishoujo Senshi Sailor Moon & ['Demons', 'Romance', 'Shoujo'] & tv & 6.17195 & 0.159274 & 0.829708 & 0.00086286 \\\\\n",
       "\t68 & 195 & 193 & Onegai☆Teacher & ['Comedy', 'Drama', 'Romance', 'School', 'Sci-Fi'] & tv & 6.35511 & 0.91477 & 1.01446 & 0.000671816 \\\\\n",
       "\t69 & 584 & 580 & Noein: Mou Hitori no Kimi e & ['Adventure', 'Drama', 'Sci-Fi', 'Slice of Life'] & tv & 6.34014 & 0.106677 & 1.00488 & 0.00044902 \\\\\n",
       "\t70 & 40938 & 7715 & Hige wo Soru. Soshite Joshikousei wo Hirou. & ['Drama', 'Romance'] & tv & 6.15984 & 0.622444 & 0.830061 & 0.000240783 \\\\\n",
       "\t71 & 36214 & 3394 & Asagao to Kase-san. & ['Girls Love', 'Romance', 'School', 'Shoujo'] & ova & 6.48634 & 0.111588 & 1.1566 & 0.000651584 \\\\\n",
       "\t72 & 1592 & 1576 & Hataraki Man & ['Comedy', 'Drama', 'Romance', 'Seinen', 'Slice of Life'] & tv & 6.23931 & 0.437493 & 0.913471 & 0.000190017 \\\\\n",
       "\t73 & 35240 & 2448 & Princess Principal & ['Action', 'Historical', 'Mystery'] & tv & 6.45214 & 0.249076 & 1.12801 & 0.000858722 \\\\\n",
       "\t74 & 4720 & 4578 & White Album & ['Drama', 'Harem', 'Music', 'Romance'] & tv & 6.29442 & 1.37693 & 0.973344 & 0.000400933 \\\\\n",
       "\t75 & 3958 & 3888 & Kannagi & ['Comedy', 'School', 'Shounen', 'Supernatural'] & tv & 6.32809 & 0.540137 & 1.00936 & 0.000904309 \\\\\n",
       "\t76 & 2942 & 2915 & Sketchbook: Full Color's & ['Comedy', 'Slice of Life'] & tv & 6.30469 & 0.258274 & 0.988348 & 0.000201543 \\\\\n",
       "\t77 & 165 & 163 & RahXephon & ['Action', 'Drama', 'Mecha', 'Music', 'Mystery', 'Psychological', 'Romance', 'Sci-Fi'] & tv & 6.33353 & 0.248349 & 1.01737 & 0.000703886 \\\\\n",
       "\t78 & 48849 & 12035 & Sonny Boy & ['Mystery', 'Super Power'] & tv & 6.5154 & 0.17497 & 1.20187 & 0.000245127 \\\\\n",
       "\t79 & 1087 & 1074 & Kimagure Orange☆Road & ['Comedy', 'Drama', 'Romance', 'School', 'Shounen', 'Slice of Life', 'Super Power'] & tv & 6.34967 & 0.173525 & 1.03689 & 0.000235451 \\\\\n",
       "\t80 & 31859 & 16595 & Hai to Gensou no Grimgar & ['Action', 'Adventure', 'Drama', 'Fantasy'] & tv & 6.37042 & 0.342214 & 1.06412 & 0.000582996 \\\\\n",
       "\t81 & 102 & 100 & Aishiteruze Baby★★ & ['Comedy', 'Drama', 'Romance', 'Shoujo'] & tv & 6.21857 & 0.522754 & 0.912727 & 0.000256626 \\\\\n",
       "\t82 & 52 & 50 & Kidou Tenshi Angelic Layer & ['Comedy', 'Drama', 'Sci-Fi', 'Shounen', 'Sports'] & tv & 6.17603 & 0.61563 & 0.871245 & 0.000286138 \\\\\n",
       "\t83 & 5141 & 4964 & Taishou Yakyuu Musume. & ['Comedy', 'Historical', 'School', 'Seinen', 'Sports'] & tv & 6.30738 & 0.274323 & 1.01732 & 0.000193451 \\\\\n",
       "\t84 & 5150 & 4972 & Hatsukoi Limited. & ['Comedy', 'Romance', 'School', 'Shounen'] & tv & 6.10775 & 0.370677 & 0.822985 & 0.000414231 \\\\\n",
       "\t85 & 32287 & 16771 & Kanamewo & ['Drama', 'Girls Love', 'Romance', 'Supernatural'] & ona & 6.19153 & 0.506135 & 0.911479 & 0.000194429 \\\\\n",
       "\t86 & 1003 & 992 & Aa! Megami-sama! (TV) Specials & ['Comedy', 'Romance', 'Seinen', 'Supernatural'] & special & 6.38188 & 0.534184 & 1.12089 & 0.000156347 \\\\\n",
       "\t87 & 20517 & 13462 & Little Busters!: EX & ['Comedy', 'Drama', 'Romance', 'School', 'Slice of Life', 'Supernatural'] & special & 6.29488 & 0.118455 & 1.03861 & 0.000230666 \\\\\n",
       "\t88 & 524 & 520 & Onegai☆Twins: Natsu wa Owaranai & ['Comedy', 'Drama', 'Romance'] & ova & 6.14464 & 0.863032 & 0.888482 & 0.000187852 \\\\\n",
       "\t89 & 9213 & 8527 & Kowarekake no Orgel & ['Drama', 'Music', 'Sci-Fi', 'Slice of Life'] & ova & 6.00119 & 0.135103 & 0.763904 & 0.000359057 \\\\\n",
       "\t90 & 4483 & 4360 & Mahoutsukai ni Taisetsu na Koto: Natsu no Sora & ['Drama', 'Romance', 'Shounen', 'Slice of Life'] & tv & 6.32237 & 0.445821 & 1.08574 & 0.000285769 \\\\\n",
       "\t91 & 1577 & 1561 & Taiho Shichau zo & ['Action', 'Comedy', 'Police', 'Seinen'] & ova & 6.47491 & 0.134802 & 1.24252 & 0.000161174 \\\\\n",
       "\t92 & 17901 & 12809 & All Alone With You & ['Fantasy', 'Music'] & music & 6.3502 & 0.429923 & 1.11955 & 0.00020435 \\\\\n",
       "\t93 & 552 & 548 & Digimon Adventure & ['Action', 'Adventure', 'Comedy', 'Fantasy', 'Kids'] & tv & 6.49667 & 0.322633 & 1.26986 & 0.000657909 \\\\\n",
       "\t94 & 5084 & 4908 & Mai Mai Shinko to Sennen no Mahou & ['Adventure', 'Drama'] & movie & 6.26888 & 0.174004 & 1.04218 & 0.000159257 \\\\\n",
       "\t95 & 34934 & 2148 & Koi to Uso & ['Drama', 'Romance', 'School'] & tv & 6.04411 & 1.20409 & 0.824223 & 0.000570646 \\\\\n",
       "\t96 & 10804 & 9820 & Ikoku Meiro no Croisée The Animation: Ongakkai \"Récital\" & ['Historical', 'Seinen', 'Slice of Life'] & special & 6.13105 & 0.153044 & 0.912326 & 0.000162817 \\\\\n",
       "\t97 & 209 & 208 & R.O.D: The TV & ['Action', 'Adventure', 'Comedy', 'Drama', 'Sci-Fi', 'Super Power'] & tv & 6.19603 & 0.215586 & 0.9823 & 0.00029214 \\\\\n",
       "\t98 & 38476 & 5461 & Heya Camp△ & ['Comedy', 'Slice of Life'] & tv & 6.01789 & 0.208117 & 0.808406 & 0.00039632 \\\\\n",
       "\t99 & 31771 & 16566 & Amanchu! & ['Comedy', 'School', 'Shounen', 'Slice of Life'] & tv & 6.30161 & 0.342984 & 1.09368 & 0.000636645 \\\\\n",
       "\t100 & 39175 & 6131 & Cider no You ni Kotoba ga Wakiagaru & ['Music', 'Romance', 'Slice of Life'] & movie & 6.22654 & 0.196345 & 1.02104 & 0.000193222 \\\\\n",
       "\t$\\dots$ & $\\dots$ & $\\dots$ & $\\dots$ & $\\dots$ & $\\dots$ & $\\dots$ & $\\dots$ & $\\dots$ & $\\dots$ \\\\\n",
       "\\end{tabular}\n"
      ],
      "text/plain": [
       "\u001b[1m387×9 DataFrame\u001b[0m\n",
       "\u001b[1m Row \u001b[0m│\u001b[1m anime_id \u001b[0m\u001b[1m uid   \u001b[0m\u001b[1m title                             \u001b[0m\u001b[1m genres                            \u001b[0m\u001b[1m medium  \u001b[0m\u001b[1m rating  \u001b[0m\u001b[1m alpha    \u001b[0m\u001b[1m std      \u001b[0m\u001b[1m p           \u001b[0m\n",
       "\u001b[1m     \u001b[0m│\u001b[90m Int64    \u001b[0m\u001b[90m Int64 \u001b[0m\u001b[90m String                            \u001b[0m\u001b[90m String                            \u001b[0m\u001b[90m String7 \u001b[0m\u001b[90m Float64 \u001b[0m\u001b[90m Float64  \u001b[0m\u001b[90m Float64  \u001b[0m\u001b[90m Float64     \u001b[0m\n",
       "─────┼──────────────────────────────────────────────────────────────────────────────────────────────────────────────────────────────────────────\n",
       "   1 │    42984   9352  Gotcha!                            ['Fantasy', 'Music']               music    7.81981  0.641094  1.19288   0.000159476\n",
       "   2 │    31988  16650  Hibike! Euphonium 2                ['Drama', 'Music', 'School']       tv       7.31783  0.276794  0.860187  0.00227862\n",
       "   3 │    34914   2128  New Game!!                         ['Comedy', 'Game', 'Slice of Lif…  tv       7.01229  0.713709  0.633501  0.00114507\n",
       "   4 │     3750   3684  Maria-sama ga Miteru 4th           ['Girls Love', 'School', 'Shoujo…  tv       7.17142  0.75794   0.80201   0.00015453\n",
       "   5 │    33970   1190  Girls & Panzer: Saishuushou Part…  ['Military', 'School']             movie    7.21071  0.633273  0.867454  0.000155275\n",
       "   6 │     1729   1713  Maria-sama ga Miteru 3rd           ['Drama', 'Girls Love', 'School'…  ova      7.21715  0.748611  0.875576  0.00033268\n",
       "   7 │     1530   1514  Kanon (2006)                       ['Drama', 'Romance', 'Slice of L…  tv       7.22907  0.732846  0.889388  0.00197499\n",
       "   8 │    32153  16711  Mahou Shoujo Madoka★Magica: Conc…  ['Drama', 'Psychological', 'Susp…  movie    7.13749  1.37538   0.823932  0.000211705\n",
       "   9 │    38993   5956  Karakai Jouzu no Takagi-san 2      ['Comedy', 'Romance', 'School', …  tv       6.89854  0.300659  0.71322   0.000212542\n",
       "  10 │      488    484  Ichigo Mashimaro                   ['Comedy', 'Slice of Life']        tv       6.90632  0.652097  0.725876  0.0015532\n",
       "  11 │    27989  15108  Hibike! Euphonium                  ['Drama', 'Music', 'School']       tv       6.96863  0.296272  0.821908  0.00314564\n",
       "  12 │     1858   1841  Gakuen Utopia Manabi Straight!     ['Comedy', 'School', 'Slice of L…  tv       6.89827  0.970434  0.808837  0.000309187\n",
       "  13 │    18617  12981  Girls & Panzer Movie               ['Military', 'School', 'Sports']   movie    7.23132  0.362644  1.16409   0.00169387\n",
       "  14 │      593    589  Mugen no Ryvius                    ['Drama', 'Mecha', 'Military', '…  tv       7.15226  0.717948  1.09881   0.000212193\n",
       "  15 │      877    864  Nana                               ['Comedy', 'Drama', 'Music', 'Ro…  tv       7.2808   0.268505  1.23625   0.00128622\n",
       "  16 │    37804   4869  Shirobako Movie                    ['Comedy', 'Drama']                movie    6.87292  0.339557  0.839614  0.000158607\n",
       "  17 │      444    440  Maria-sama ga Miteru: Haru         ['Drama', 'Girls Love', 'Romance…  tv       6.79158  0.533587  0.850345  0.000208187\n",
       "  18 │      122    120  Full Moon wo Sagashite             ['Comedy', 'Drama', 'Music', 'Ro…  tv       6.92751  0.671116  1.01773   0.000217698\n",
       "  19 │    38422   5411  High Score Girl: Extra Stage       ['Comedy', 'Game', 'Romance', 'S…  ova      6.82881  0.158991  0.923695  0.000417\n",
       "  20 │    39783   6714  5-toubun no Hanayome ∬             ['Comedy', 'Harem', 'Romance', '…  tv       6.8902   0.376524  0.987837  0.000176418\n",
       "  21 │     9930   9096  Snow Halation                      ['Music']                          music    6.83864  0.711264  0.938501  0.000163949\n",
       "  22 │    42941   9313  Uma Musume: Pretty Derby (TV) Se…  ['Comedy', 'Slice of Life', 'Spo…  tv       7.03777  0.487675  1.14971   0.000151762\n",
       "  23 │    31665  16499  Hibike! Euphonium: Kakedasu Mona…  ['Drama', 'Music', 'School']       special  6.69717  0.525779  0.810157  0.0007005\n",
       "  24 │    35338   2546  Saenai Heroine no Sodatekata ♭: …  ['Comedy', 'Ecchi', 'Harem', 'Ro…  special  6.53188  0.847281  0.740598  0.000299738\n",
       "  25 │    29787  15583  Gochuumon wa Usagi Desu ka??       ['Comedy', 'Slice of Life']        tv       6.60885  0.32393   0.873096  0.00122408\n",
       "  26 │    30727  16064  Saenai Heroine no Sodatekata ♭     ['Comedy', 'Ecchi', 'Harem', 'Ro…  tv       6.71959  0.501457  0.994073  0.000501885\n",
       "  27 │    33089    317  Kemono Friends                     ['Adventure', 'Comedy', 'Fantasy…  tv       6.67476  0.605963  0.953188  0.00158521\n",
       "  28 │    22839  14089  Cross Road                         ['School', 'Slice of Life']        special  6.41923  0.437716  0.702473  0.000446895\n",
       "  29 │    35639   2844  Just Because!                      ['Drama', 'Romance', 'School', '…  tv       6.71328  1.07081   0.996729  0.000390616\n",
       "  30 │     1888   1870  Ichigo Mashimaro OVA               ['Comedy', 'School', 'Slice of L…  ova      6.58685  0.269821  0.874034  0.000288463\n",
       "  31 │    17437  12674  The iDOLM@STER Movie: Kagayaki n…  ['Comedy', 'Drama', 'Music']       movie    6.80103  0.589334  1.09821   0.000391168\n",
       "  32 │    33280    508  Gochuumon wa Usagi Desu ka??: De…  ['Comedy', 'Slice of Life']        movie    6.47273  0.219168  0.793644  0.000162165\n",
       "  33 │      427    423  Kaleido Star                       ['Comedy', 'Drama', 'Fantasy', '…  tv       6.67913  0.394879  1.01153   0.000162488\n",
       "  34 │    21877  13802  High Score Girl                    ['Comedy', 'Game', 'Romance', 'S…  tv       6.65644  0.205141  0.993221  0.000825758\n",
       "  35 │    38753   5719  Araburu Kisetsu no Otome-domo yo.  ['Comedy', 'Drama', 'Romance', '…  tv       6.58601  0.572206  0.93007   0.000512281\n",
       "  36 │    42361   8831  Ijiranaide, Nagatoro-san           ['Comedy', 'Romance', 'Slice of …  tv       6.48398  0.827335  0.841302  0.000241377\n",
       "  37 │    18619  12982  Girls & Panzer: Kore ga Hontou n…  ['Military', 'School', 'Sports']   ova      6.54394  0.28381   0.907973  0.000533606\n",
       "  38 │      532    528  Bishoujo Senshi Sailor Moon S      ['Drama', 'Romance', 'Shoujo']     tv       6.42464  0.232407  0.80726   0.000391338\n",
       "  39 │    25835  14749  Shirobako                          ['Comedy', 'Drama']                tv       7.33144  0.320422  1.72448   0.00289862\n",
       "  40 │    11889  10403  The iDOLM@STER: 765 Pro to Iu Mo…  ['Comedy', 'Drama', 'Music']       special  6.42668  0.34906   0.824021  0.000284963\n",
       "  41 │    14941  11486  AKB0048: Next Stage                ['Music', 'Sci-Fi']                tv       6.63382  0.626084  1.03584   0.000290204\n",
       "  42 │      811    802  I''s Pure                          ['Comedy', 'Drama', 'Ecchi', 'Ro…  ova      6.52998  1.2478    0.994403  0.000164128\n",
       "  43 │    32836     67  Senki Zesshou Symphogear AXZ       ['Action', 'Music', 'Sci-Fi']      tv       6.93375  0.760931  1.40695   0.000186081\n",
       "  44 │      182    180  Tenkuu no Escaflowne               ['Adventure', 'Fantasy', 'Mecha'…  tv       6.51354  0.233981  0.987095  0.000807177\n",
       "  45 │       59     57  Chobits                            ['Comedy', 'Drama', 'Ecchi', 'Ro…  tv       6.569    0.803546  1.04584   0.00162937\n",
       "  46 │    37982   5036  Domestic na Kanojo                 ['Drama', 'Romance', 'School', '…  tv       6.51356  1.4899    1.02749   0.00034542\n",
       "  ⋮  │    ⋮        ⋮                    ⋮                                  ⋮                     ⋮        ⋮        ⋮         ⋮           ⋮\n",
       " 343 │    32454  16840  Usakame                            ['Comedy', 'Shounen', 'Slice of …  tv       4.99906  0.558925  1.14819   0.000149797\n",
       " 344 │    24855  14555  Girlfriend (Kari)                  ['School', 'Slice of Life']        tv       4.87646  0.82677   1.02616   0.00021166\n",
       " 345 │      610    609  Popotan                            ['Comedy', 'Drama', 'Ecchi', 'Su…  tv       5.07354  0.455412  1.22768   0.000161456\n",
       " 346 │    17205  12548  Cowboy Bebop: Ein no Natsuyasumi   ['Adventure']                      special  5.06361  0.153625  1.23121   0.000161717\n",
       " 347 │     9581   8819  MM! Specials                       ['Comedy', 'Ecchi', 'School']      special  4.8918   0.180837  1.07586   0.00019043\n",
       " 348 │     7593   7220  Kiss x Sis (TV)                    ['Comedy', 'Ecchi', 'Harem', 'Ro…  tv       5.28515  0.463995  1.47153   0.000807985\n",
       " 349 │    17651  12733  Genei wo Kakeru Taiyou             NaN                                tv       5.12743  0.339452  1.32471   0.000453057\n",
       " 350 │    31498  16411  Pan de Peace!                      ['Comedy', 'Gourmet', 'School', …  tv       4.71523  0.684879  0.914959  0.000252061\n",
       " 351 │     2367   2349  Moetan                             ['Comedy', 'Ecchi', 'School']      tv       4.93929  0.227885  1.14201   0.000246484\n",
       " 352 │     3011   2982  Yotsunoha                          ['Romance', 'School']              ova      5.13269  0.367369  1.337     0.000152985\n",
       " 353 │     7596   7223  Haiyoru! Nyaruani                  ['Comedy', 'Parody', 'Sci-Fi']     ova      4.80445  0.188306  1.01058   0.000186051\n",
       " 354 │    32438  16833  Mayoiga                            ['Comedy', 'Drama', 'Horror', 'M…  tv       4.97223  1.04582   1.18066   0.000712476\n",
       " 355 │    36516   3682  Beatless                           ['Action', 'Drama', 'Romance', '…  tv       4.76426  0.52642   0.984774  0.000150884\n",
       " 356 │    30127  15794  Danchigai                          ['Comedy', 'Slice of Life']        tv       4.96287  0.182101  1.19977   0.000175592\n",
       " 357 │    36266   3446  Mahou Shoujo Site                  ['Drama', 'Horror', 'Psychologic…  tv       5.07883  0.339213  1.32154   0.000494395\n",
       " 358 │    34498   1714  Uchiage Hanabi, Shita kara Miru …  ['Romance', 'Sci-Fi']              movie    5.21395  0.576552  1.46324   0.000544576\n",
       " 359 │    36943   4096  Tachibanakan Triangle              ['Comedy', 'Ecchi', 'Girls Love']  tv       4.68311  0.860584  0.943125  0.000149048\n",
       " 360 │    16397  12193  Photokano                          ['Ecchi', 'Romance', 'School']     tv       4.67798  0.283899  0.974332  0.000162045\n",
       " 361 │      241    237  Girls Bravo: First Season          ['Comedy', 'Ecchi', 'Fantasy', '…  tv       4.99309  0.390171  1.3008    0.000263254\n",
       " 362 │      417    413  Ragnarök The Animation             ['Action', 'Fantasy']              tv       5.00965  0.336381  1.34186   0.000188371\n",
       " 363 │    31716  16536  Rewrite                            ['Action', 'Comedy', 'Romance', …  tv       4.92328  0.109463  1.30261   0.000226877\n",
       " 364 │       51     49  Tenshi Kinryouku                   ['Action', 'Drama', 'Romance', '…  ova      4.90541  0.200788  1.31649   0.000201484\n",
       " 365 │     9587   8825  Oniichan no Koto nanka Zenzen Su…  ['Comedy', 'Ecchi', 'Harem', 'Ro…  tv       4.68773  0.362009  1.15223   0.00024978\n",
       " 366 │    15883  11948  Fantasista Doll                    ['Fantasy', 'Sci-Fi']              tv       4.65692  0.236336  1.1329    0.000149156\n",
       " 367 │    31793  16575  Mahou Shoujo Nante Mou Ii Desuka…  ['Comedy']                         tv       4.66102  0.221867  1.14114   0.000161662\n",
       " 368 │    26085  14806  Military!                          ['Comedy', 'Ecchi', 'Military', …  tv       4.37249  0.28643   0.910169  0.000236859\n",
       " 369 │    10838   9854  Double-J                           ['Comedy', 'School', 'Shounen']    tv       4.77025  0.813978  1.38384   0.000185411\n",
       " 370 │    10258   9383  Gokicha!!                          ['Comedy']                         ona      4.68078  0.566196  1.3102    0.000152819\n",
       " 371 │    17777  12779  Saikin, Imouto no Yousu ga Chott…  ['Comedy', 'Ecchi', 'Romance', '…  tv       4.55511  0.156168  1.19111   0.000418026\n",
       " 372 │     2981   2954  Chika Gentou Gekiga: Shoujo Tsub…  ['Drama', 'Historical', 'Horror']  movie    5.26688  1.25465   2.07354   0.000163902\n",
       " 373 │    16405  12198  Boku no Imouto wa \"Osaka Okan\"     ['Comedy', 'Gourmet']              tv       4.29633  0.172405  1.27088   0.000156206\n",
       " 374 │     6682   6397  11eyes                             ['Action', 'Ecchi', 'Super Power…  tv       4.43469  0.154538  1.41372   0.000265381\n",
       " 375 │    31318  16351  Comet Lucifer                      ['Action', 'Adventure', 'Fantasy…  tv       4.31359  0.222619  1.32998   0.000204697\n",
       " 376 │    10417   9464  Gyo                                ['Horror']                         movie    4.39339  0.297092  1.44802   0.000571346\n",
       " 377 │    39617   6560  Yakusoku no Neverland 2nd Season   ['Mystery', 'Psychological', 'Sc…  tv       4.32409  0.539911  1.40007   0.000321104\n",
       " 378 │    31519  16427  Anitore! EX                        ['Comedy', 'Sports']               tv       4.49866  0.590919  1.62977   0.000251841\n",
       " 379 │    31904  16616  Big Order (TV)                     ['Action', 'Shounen', 'Super Pow…  tv       3.79933  0.266962  1.18283   0.000238127\n",
       " 380 │    30948  16177  Kowabon                            ['Horror']                         tv       3.87889  0.123783  1.31846   0.000180532\n",
       " 381 │     1657   1641  Byston Well Monogatari: Garzey n…  ['Action', 'Fantasy']              ova      4.15136  0.883139  1.85994   0.000240845\n",
       " 382 │    11867  10394  Cipher                             ['Drama', 'Shoujo']                ova      3.87173  0.293469  2.11751   0.000248171\n",
       " 383 │    19315  13179  Pupa                               ['Fantasy', 'Horror', 'Psycholog…  tv       3.19889  1.30235   1.4936    0.00116633\n",
       " 384 │    16608  12299  Shitcom                            ['Comedy', 'Romance']              ona      2.70914  0.907143  1.76456   0.000294226\n",
       " 385 │      413    409  Hametsu no Mars                    ['Horror', 'Sci-Fi']               ova      2.39317  1.09258   1.59775   0.000959125\n",
       " 386 │    13405  11033  Utsu Musume Sayuri                 ['Avant Garde', 'Comedy']          ova      1.69696  0.566767  1.39272   0.000188404\n",
       " 387 │     3287   3241  Tenkuu Danzai Skelter+Heaven       ['Mecha', 'Sci-Fi']                ova      1.66585  0.649448  1.38857   0.00036992\n",
       "\u001b[36m                                                                                                                                296 rows omitted\u001b[0m"
      ]
     },
     "execution_count": 20,
     "metadata": {},
     "output_type": "execute_result"
    }
   ],
   "source": [
    "rec_df |> sampling_filter |> pretty_display"
   ]
  },
  {
   "cell_type": "code",
   "execution_count": null,
   "id": "db68f808-db9c-4bff-8378-81ebd16b1ca5",
   "metadata": {},
   "outputs": [],
   "source": []
  }
 ],
 "metadata": {
  "kernelspec": {
   "display_name": "Julia 1.6.3",
   "language": "julia",
   "name": "julia-1.6"
  },
  "language_info": {
   "file_extension": ".jl",
   "mimetype": "application/julia",
   "name": "julia",
   "version": "1.6.3"
  }
 },
 "nbformat": 4,
 "nbformat_minor": 5
}
