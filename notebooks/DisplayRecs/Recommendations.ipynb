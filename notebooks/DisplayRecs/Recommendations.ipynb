{
 "cells": [
  {
   "cell_type": "code",
   "execution_count": 1,
   "id": "240e43fd-abc8-4d44-a3d6-85293d0dd756",
   "metadata": {},
   "outputs": [],
   "source": [
    "source = \"Recommendations\";"
   ]
  },
  {
   "cell_type": "code",
   "execution_count": 2,
   "id": "ba187524-034d-40f6-9e40-0ab5123e36bb",
   "metadata": {},
   "outputs": [],
   "source": [
    "using DataFrames\n",
    "import CSV\n",
    "import NBInclude: @nbinclude\n",
    "import Statistics: mean\n",
    "@nbinclude(\"../InferenceAlphas/Alpha.ipynb\");"
   ]
  },
  {
   "cell_type": "code",
   "execution_count": 3,
   "id": "2dc4c5b5-a759-463c-b163-e47fd461a554",
   "metadata": {},
   "outputs": [],
   "source": [
    "ENV[\"COLUMNS\"] = 999999;\n",
    "ENV[\"LINES\"] = 50;\n",
    "recommend_related_series = true;"
   ]
  },
  {
   "cell_type": "code",
   "execution_count": 4,
   "id": "20127075-7c57-4629-9283-d1f18a8ff2bb",
   "metadata": {},
   "outputs": [],
   "source": [
    "const anime = DataFrame(CSV.File(\"../../data/processed_data/anime.csv\", ntasks = 1))\n",
    "anime_to_uid = DataFrame(CSV.File(\"../../data/processed_data/anime_to_uid.csv\"))\n",
    "anime_to_uid = innerjoin(anime_to_uid, anime, on = \"anime_id\");"
   ]
  },
  {
   "cell_type": "code",
   "execution_count": 5,
   "id": "9fa0327c-2d09-4040-8819-32125a957f15",
   "metadata": {
    "tags": []
   },
   "outputs": [],
   "source": [
    "rating_df = DataFrame(\n",
    "    \"uid\" => 0:num_items()-1,\n",
    "    \"ranking\" => read_recommendee_alpha(\"BPR\", \"all\").rating,\n",
    "    \"explicit\" => read_recommendee_alpha(\"Explicit\", \"all\").rating,\n",
    "    \"implicit\" => read_recommendee_alpha(\"LinearImplicit\", \"all\").rating,\n",
    "    \"error_explicit\" => read_recommendee_alpha(\"ErrorExplicit\", \"all\").rating,\n",
    "    \"error_implicit\" => read_recommendee_alpha(\"ErrorImplicit\", \"all\").rating,\n",
    "    \"baseline_explicit\" =>\n",
    "        read_recommendee_alpha(\"ExplicitUserItemBiases\", \"all\").rating,\n",
    "    \"baseline_implicit\" => read_recommendee_alpha(\"PopularityBaseline\", \"all\").rating,\n",
    ")\n",
    "rating_df[:, \"score\"] = rating_df[:, \"ranking\"];"
   ]
  },
  {
   "cell_type": "code",
   "execution_count": 6,
   "id": "89a34ece-a029-4b79-98a8-743d7aa89b22",
   "metadata": {},
   "outputs": [
    {
     "name": "stderr",
     "output_type": "stream",
     "text": [
      "\u001b[38;5;6m\u001b[1m[ \u001b[22m\u001b[39m\u001b[38;5;6m\u001b[1mInfo: \u001b[22m\u001b[39m20220626 17:30:13 RMSE: 1.4474236\n",
      "\u001b[38;5;6m\u001b[1m[ \u001b[22m\u001b[39m\u001b[38;5;6m\u001b[1mInfo: \u001b[22m\u001b[39m20220626 17:30:13 R2: 0.29542243\n"
     ]
    }
   ],
   "source": [
    "# evaluate our insample predictions\n",
    "df = get_recommendee_split(false)\n",
    "const rss = sum((df.rating - rating_df.explicit[df.item]) .^ 2)\n",
    "const tss = sum((df.rating .- mean(df.rating)) .^ 2)\n",
    "@info \"RMSE: $(sqrt(rss / length(df.rating)))\"\n",
    "@info \"R2: $(1 - rss / tss)\""
   ]
  },
  {
   "cell_type": "code",
   "execution_count": 7,
   "id": "33b47ef2-d558-42c1-990c-de1c91143d51",
   "metadata": {},
   "outputs": [],
   "source": [
    "# [ Info: 20220626 15:13:09 RMSE: 1.4549922\n",
    "# [ Info: 20220626 15:13:09 R2: 0.28803468"
   ]
  },
  {
   "cell_type": "code",
   "execution_count": 8,
   "id": "24345713-0e5e-4d52-89a2-16dd2b5d3f96",
   "metadata": {
    "tags": []
   },
   "outputs": [],
   "source": [
    "# don't recommend shows that the user has already seen before\n",
    "rating_df[:, \"display\"] .= true\n",
    "seen_items = vcat(get_recommendee_split(true).item, get_recommendee_split(false).item)\n",
    "rating_df.display[seen_items] .= false\n",
    "\n",
    "# don't recommend shows related to shows they have seen before\n",
    "if !recommend_related_series\n",
    "    related_series =\n",
    "        get_alpha(\"ItemCF.Related.strict_relations\", \"recommendee_inference\").rating .!= 0\n",
    "    rating_df.display[related_series] .= false\n",
    "end;"
   ]
  },
  {
   "cell_type": "code",
   "execution_count": 9,
   "id": "2f87ebbf-d246-43cc-8b07-79b4929318ea",
   "metadata": {},
   "outputs": [],
   "source": [
    "rec_df = innerjoin(anime_to_uid, rating_df, on = \"uid\");\n",
    "keepcols = [\"anime_id\", \"uid\", \"title\", \"genres\", \"medium\"]\n",
    "for x in names(rating_df)\n",
    "    if x ∉ keepcols\n",
    "        push!(keepcols, x)\n",
    "    end\n",
    "end\n",
    "rec_df = rec_df[:, keepcols];"
   ]
  },
  {
   "cell_type": "code",
   "execution_count": 10,
   "id": "43369775-7454-4784-8be2-c9dfbc828690",
   "metadata": {},
   "outputs": [
    {
     "data": {
      "text/plain": [
       "(441, 443)"
      ]
     },
     "execution_count": 10,
     "metadata": {},
     "output_type": "execute_result"
    }
   ],
   "source": [
    "length(get_recommendee_split(false).item), length(get_recommendee_split(true).item)"
   ]
  },
  {
   "cell_type": "code",
   "execution_count": 11,
   "id": "87d0ac7b-9f8d-4d5d-ab59-ad8e65a6d948",
   "metadata": {},
   "outputs": [],
   "source": [
    "function pretty_display(df)\n",
    "    sort(filter(x -> x.display, df), :score)\n",
    "end;"
   ]
  },
  {
   "cell_type": "code",
   "execution_count": 12,
   "id": "ed168f16-b287-4565-bf0d-4781e27c016a",
   "metadata": {
    "tags": []
   },
   "outputs": [
    {
     "data": {
      "text/html": [
       "<div class=\"data-frame\"><p>5,650 rows × 14 columns</p><table class=\"data-frame\"><thead><tr><th></th><th>anime_id</th><th>uid</th><th>title</th><th>genres</th><th>medium</th><th>ranking</th><th>explicit</th><th>implicit</th><th>error_explicit</th><th>error_implicit</th><th>baseline_explicit</th><th>baseline_implicit</th><th>score</th><th>display</th></tr><tr><th></th><th title=\"Int64\">Int64</th><th title=\"Int64\">Int64</th><th title=\"String\">String</th><th title=\"String\">String</th><th title=\"InlineStrings.String7\">String7</th><th title=\"Float32\">Float32</th><th title=\"Float32\">Float32</th><th title=\"Float32\">Float32</th><th title=\"Float32\">Float32</th><th title=\"Float32\">Float32</th><th title=\"Float32\">Float32</th><th title=\"Float32\">Float32</th><th title=\"Float32\">Float32</th><th title=\"Bool\">Bool</th></tr></thead><tbody><tr><th>1</th><td>5114</td><td>17079</td><td>Fullmetal Alchemist: Brotherhood</td><td>[&apos;Action&apos;, &apos;Adventure&apos;, &apos;Drama&apos;, &apos;Fantasy&apos;, &apos;Military&apos;, &apos;Shounen&apos;]</td><td>tv</td><td>4.0</td><td>8.16355</td><td>0.00308927</td><td>0.937534</td><td>0.0606551</td><td>7.62535</td><td>0.00308928</td><td>4.0</td><td>1</td></tr><tr><th>2</th><td>38524</td><td>12753</td><td>Shingeki no Kyojin Season 3 Part 2</td><td>[&apos;Action&apos;, &apos;Drama&apos;, &apos;Gore&apos;, &apos;Military&apos;, &apos;Shounen&apos;, &apos;Survival&apos;]</td><td>tv</td><td>10.0</td><td>7.9787</td><td>0.00253456</td><td>0.726492</td><td>0.0562963</td><td>7.68329</td><td>0.00253456</td><td>10.0</td><td>1</td></tr><tr><th>3</th><td>40028</td><td>5414</td><td>Shingeki no Kyojin: The Final Season</td><td>[&apos;Action&apos;, &apos;Drama&apos;, &apos;Gore&apos;, &apos;Military&apos;, &apos;Shounen&apos;, &apos;Survival&apos;]</td><td>tv</td><td>13.0</td><td>7.81089</td><td>0.00219663</td><td>0.794572</td><td>0.0569247</td><td>7.4072</td><td>0.00219663</td><td>13.0</td><td>1</td></tr><tr><th>4</th><td>11061</td><td>7814</td><td>Hunter x Hunter (2011)</td><td>[&apos;Action&apos;, &apos;Adventure&apos;, &apos;Fantasy&apos;, &apos;Shounen&apos;]</td><td>tv</td><td>23.0</td><td>7.67325</td><td>0.00262856</td><td>0.982317</td><td>0.0455285</td><td>7.57482</td><td>0.00262857</td><td>23.0</td><td>1</td></tr><tr><th>5</th><td>42587</td><td>13295</td><td>Yuuki Yuuna wa Yuusha de Aru: Dai Mankai no Shou</td><td>[&apos;Drama&apos;, &apos;Fantasy&apos;, &apos;Mahou Shoujo&apos;, &apos;Slice of Life&apos;]</td><td>tv</td><td>36.0</td><td>7.96017</td><td>1.62878e-5</td><td>0.935407</td><td>0.0245981</td><td>5.90612</td><td>1.62878e-5</td><td>36.0</td><td>1</td></tr><tr><th>6</th><td>30276</td><td>2415</td><td>One Punch Man</td><td>[&apos;Action&apos;, &apos;Comedy&apos;, &apos;Parody&apos;, &apos;Seinen&apos;, &apos;Super Power&apos;]</td><td>tv</td><td>39.0</td><td>7.16893</td><td>0.0035174</td><td>0.920127</td><td>0.045311</td><td>7.02705</td><td>0.00351741</td><td>39.0</td><td>1</td></tr><tr><th>7</th><td>32935</td><td>2448</td><td>Haikyuu!!: Karasuno Koukou vs. Shiratorizawa Gakuen Koukou</td><td>[&apos;School&apos;, &apos;Shounen&apos;, &apos;Sports&apos;, &apos;Team Sports&apos;]</td><td>tv</td><td>50.0</td><td>7.65925</td><td>0.00136979</td><td>0.829766</td><td>0.0283017</td><td>7.39082</td><td>0.00136979</td><td>50.0</td><td>1</td></tr><tr><th>8</th><td>28891</td><td>9157</td><td>Haikyuu!! Second Season</td><td>[&apos;School&apos;, &apos;Shounen&apos;, &apos;Sports&apos;, &apos;Team Sports&apos;]</td><td>tv</td><td>52.0</td><td>7.78005</td><td>0.0016207</td><td>0.764133</td><td>0.0166238</td><td>7.22776</td><td>0.0016207</td><td>52.0</td><td>1</td></tr><tr><th>9</th><td>33486</td><td>19915</td><td>Boku no Hero Academia 2nd Season</td><td>[&apos;Action&apos;, &apos;School&apos;, &apos;Shounen&apos;, &apos;Super Power&apos;]</td><td>tv</td><td>54.0</td><td>7.14203</td><td>0.00294497</td><td>0.653479</td><td>0.032842</td><td>6.68712</td><td>0.00294497</td><td>54.0</td><td>1</td></tr><tr><th>10</th><td>16498</td><td>7644</td><td>Shingeki no Kyojin</td><td>[&apos;Action&apos;, &apos;Drama&apos;, &apos;Gore&apos;, &apos;Military&apos;, &apos;Shounen&apos;, &apos;Survival&apos;]</td><td>tv</td><td>63.0</td><td>7.27143</td><td>0.00424122</td><td>0.870262</td><td>0.0221567</td><td>7.04385</td><td>0.00424123</td><td>63.0</td><td>1</td></tr><tr><th>11</th><td>35760</td><td>19030</td><td>Shingeki no Kyojin Season 3</td><td>[&apos;Action&apos;, &apos;Drama&apos;, &apos;Gore&apos;, &apos;Military&apos;, &apos;Shounen&apos;, &apos;Survival&apos;]</td><td>tv</td><td>64.0</td><td>7.32776</td><td>0.00269863</td><td>0.728629</td><td>0.027675</td><td>7.23127</td><td>0.00269863</td><td>64.0</td><td>1</td></tr><tr><th>12</th><td>48583</td><td>18963</td><td>Shingeki no Kyojin: The Final Season Part 2</td><td>[&apos;Action&apos;, &apos;Drama&apos;, &apos;Gore&apos;, &apos;Military&apos;, &apos;Shounen&apos;, &apos;Survival&apos;]</td><td>tv</td><td>75.0</td><td>7.68086</td><td>0.0012622</td><td>0.746005</td><td>0.0165148</td><td>7.45514</td><td>0.00126221</td><td>75.0</td><td>1</td></tr><tr><th>13</th><td>34973</td><td>8521</td><td>Love Live! Sunshine!! 2nd Season</td><td>[&apos;Idols (Female)&apos;, &apos;Music&apos;, &apos;School&apos;, &apos;Slice of Life&apos;]</td><td>tv</td><td>78.0</td><td>7.08627</td><td>0.000133001</td><td>0.81717</td><td>0.0432326</td><td>6.17328</td><td>0.000133002</td><td>78.0</td><td>1</td></tr><tr><th>14</th><td>25777</td><td>8685</td><td>Shingeki no Kyojin Season 2</td><td>[&apos;Action&apos;, &apos;Drama&apos;, &apos;Gore&apos;, &apos;Military&apos;, &apos;Shounen&apos;, &apos;Survival&apos;]</td><td>tv</td><td>80.0</td><td>7.19782</td><td>0.00310658</td><td>0.704384</td><td>0.0207142</td><td>7.09824</td><td>0.00310658</td><td>80.0</td><td>1</td></tr><tr><th>15</th><td>32843</td><td>3602</td><td>Senki Zesshou Symphogear XV</td><td>[&apos;Action&apos;, &apos;Idols (Female)&apos;, &apos;Music&apos;, &apos;Sci-Fi&apos;]</td><td>tv</td><td>85.0</td><td>7.64439</td><td>3.1311e-5</td><td>0.81197</td><td>0.0186996</td><td>6.94163</td><td>3.1311e-5</td><td>85.0</td><td>1</td></tr><tr><th>16</th><td>38883</td><td>14856</td><td>Haikyuu!! To the Top</td><td>[&apos;School&apos;, &apos;Shounen&apos;, &apos;Sports&apos;, &apos;Team Sports&apos;]</td><td>tv</td><td>89.0</td><td>7.40991</td><td>0.00104375</td><td>0.829151</td><td>0.0213088</td><td>6.96516</td><td>0.00104375</td><td>89.0</td><td>1</td></tr><tr><th>17</th><td>32836</td><td>20123</td><td>Senki Zesshou Symphogear AXZ</td><td>[&apos;Action&apos;, &apos;Idols (Female)&apos;, &apos;Music&apos;, &apos;Sci-Fi&apos;]</td><td>tv</td><td>90.0</td><td>7.46411</td><td>3.85041e-5</td><td>0.910852</td><td>0.0221687</td><td>6.29791</td><td>3.85041e-5</td><td>90.0</td><td>1</td></tr><tr><th>18</th><td>40748</td><td>18010</td><td>Jujutsu Kaisen (TV)</td><td>[&apos;Action&apos;, &apos;Fantasy&apos;, &apos;School&apos;, &apos;Shounen&apos;]</td><td>tv</td><td>91.0</td><td>7.17113</td><td>0.00263574</td><td>1.05068</td><td>0.0283968</td><td>7.21643</td><td>0.00263575</td><td>91.0</td><td>1</td></tr><tr><th>19</th><td>40776</td><td>8909</td><td>Haikyuu!! To the Top Part 2</td><td>[&apos;School&apos;, &apos;Shounen&apos;, &apos;Sports&apos;, &apos;Team Sports&apos;]</td><td>tv</td><td>92.0</td><td>7.38326</td><td>0.000873575</td><td>0.761762</td><td>0.0227915</td><td>7.15138</td><td>0.000873577</td><td>92.0</td><td>1</td></tr><tr><th>20</th><td>50265</td><td>4347</td><td>Spy x Family</td><td>[&apos;Action&apos;, &apos;Childcare&apos;, &apos;Comedy&apos;, &apos;Shounen&apos;]</td><td>tv</td><td>93.0</td><td>7.16968</td><td>0.00103509</td><td>0.718243</td><td>0.0328537</td><td>7.47808</td><td>0.00103509</td><td>93.0</td><td>1</td></tr><tr><th>21</th><td>21573</td><td>15434</td><td>Senki Zesshou Symphogear GX</td><td>[&apos;Action&apos;, &apos;Idols (Female)&apos;, &apos;Music&apos;, &apos;Sci-Fi&apos;]</td><td>tv</td><td>100.0</td><td>7.25368</td><td>5.34958e-5</td><td>0.914476</td><td>0.0271503</td><td>6.07995</td><td>5.34958e-5</td><td>100.0</td><td>1</td></tr><tr><th>22</th><td>47778</td><td>18684</td><td>Kimetsu no Yaiba: Yuukaku-hen</td><td>[&apos;Action&apos;, &apos;Fantasy&apos;, &apos;Historical&apos;, &apos;Shounen&apos;]</td><td>tv</td><td>101.0</td><td>7.36249</td><td>0.00142428</td><td>0.813897</td><td>0.0197257</td><td>7.42571</td><td>0.00142428</td><td>101.0</td><td>1</td></tr><tr><th>23</th><td>2921</td><td>5647</td><td>Ashita no Joe 2</td><td>[&apos;Action&apos;, &apos;Combat Sports&apos;, &apos;Drama&apos;, &apos;Shounen&apos;, &apos;Slice of Life&apos;, &apos;Sports&apos;]</td><td>tv</td><td>102.0</td><td>7.77878</td><td>3.49123e-5</td><td>0.70835</td><td>0.0117852</td><td>8.01768</td><td>3.49123e-5</td><td>102.0</td><td>1</td></tr><tr><th>24</th><td>38000</td><td>11465</td><td>Kimetsu no Yaiba</td><td>[&apos;Action&apos;, &apos;Fantasy&apos;, &apos;Historical&apos;, &apos;Shounen&apos;]</td><td>tv</td><td>110.0</td><td>6.90825</td><td>0.00326954</td><td>0.73602</td><td>0.0233258</td><td>7.0779</td><td>0.00326954</td><td>110.0</td><td>1</td></tr><tr><th>25</th><td>1735</td><td>14119</td><td>Naruto: Shippuuden</td><td>[&apos;Action&apos;, &apos;Adventure&apos;, &apos;Fantasy&apos;, &apos;Martial Arts&apos;, &apos;Shounen&apos;]</td><td>tv</td><td>113.0</td><td>7.03086</td><td>0.00261284</td><td>1.10363</td><td>0.0269071</td><td>6.69386</td><td>0.00261285</td><td>113.0</td><td>1</td></tr><tr><th>26</th><td>19111</td><td>15311</td><td>Love Live! School Idol Project 2nd Season</td><td>[&apos;Idols (Female)&apos;, &apos;Music&apos;, &apos;School&apos;, &apos;Slice of Life&apos;]</td><td>tv</td><td>114.0</td><td>7.35686</td><td>0.000328063</td><td>0.904472</td><td>0.0187381</td><td>6.31284</td><td>0.000328064</td><td>114.0</td><td>1</td></tr><tr><th>27</th><td>20</td><td>15281</td><td>Naruto</td><td>[&apos;Action&apos;, &apos;Adventure&apos;, &apos;Fantasy&apos;, &apos;Martial Arts&apos;, &apos;Shounen&apos;]</td><td>tv</td><td>118.0</td><td>6.89135</td><td>0.00311239</td><td>0.867383</td><td>0.0228601</td><td>6.42401</td><td>0.0031124</td><td>118.0</td><td>1</td></tr><tr><th>28</th><td>31706</td><td>13554</td><td>Fate/kaleid liner Prisma☆Illya 3rei!!</td><td>[&apos;Action&apos;, &apos;Comedy&apos;, &apos;Fantasy&apos;, &apos;Mahou Shoujo&apos;]</td><td>tv</td><td>119.0</td><td>7.00609</td><td>0.000145174</td><td>0.834763</td><td>0.0338276</td><td>6.11051</td><td>0.000145174</td><td>119.0</td><td>1</td></tr><tr><th>29</th><td>22319</td><td>20135</td><td>Tokyo Ghoul</td><td>[&apos;Action&apos;, &apos;Fantasy&apos;, &apos;Gore&apos;, &apos;Horror&apos;, &apos;Psychological&apos;, &apos;Seinen&apos;]</td><td>tv</td><td>126.0</td><td>6.56994</td><td>0.00306752</td><td>0.986321</td><td>0.0385583</td><td>6.28796</td><td>0.00306753</td><td>126.0</td><td>1</td></tr><tr><th>30</th><td>22535</td><td>11784</td><td>Kiseijuu: Sei no Kakuritsu</td><td>[&apos;Action&apos;, &apos;Gore&apos;, &apos;Horror&apos;, &apos;Psychological&apos;, &apos;Sci-Fi&apos;, &apos;Seinen&apos;]</td><td>tv</td><td>128.0</td><td>7.01075</td><td>0.00202228</td><td>0.793188</td><td>0.0230279</td><td>6.91023</td><td>0.00202229</td><td>128.0</td><td>1</td></tr><tr><th>31</th><td>33354</td><td>9190</td><td>Cardcaptor Sakura: Clear Card-hen</td><td>[&apos;Adventure&apos;, &apos;Comedy&apos;, &apos;Fantasy&apos;, &apos;Mahou Shoujo&apos;, &apos;Romance&apos;, &apos;Shoujo&apos;]</td><td>tv</td><td>134.0</td><td>7.22279</td><td>0.000119072</td><td>0.901436</td><td>0.0218964</td><td>6.21114</td><td>0.000119073</td><td>134.0</td><td>1</td></tr><tr><th>32</th><td>42941</td><td>9316</td><td>Uma Musume: Pretty Derby (TV) Season 2</td><td>[&apos;Anthropomorphic&apos;, &apos;Sports&apos;]</td><td>tv</td><td>137.0</td><td>7.24847</td><td>4.73307e-5</td><td>0.827636</td><td>0.022034</td><td>6.61651</td><td>4.73307e-5</td><td>137.0</td><td>1</td></tr><tr><th>33</th><td>30484</td><td>6093</td><td>Steins;Gate 0</td><td>[&apos;Drama&apos;, &apos;Sci-Fi&apos;, &apos;Suspense&apos;, &apos;Time Travel&apos;]</td><td>tv</td><td>140.0</td><td>7.26795</td><td>0.000843721</td><td>0.811557</td><td>0.019731</td><td>7.23536</td><td>0.000843723</td><td>140.0</td><td>1</td></tr><tr><th>34</th><td>813</td><td>12911</td><td>Dragon Ball Z</td><td>[&apos;Action&apos;, &apos;Adventure&apos;, &apos;Comedy&apos;, &apos;Fantasy&apos;, &apos;Martial Arts&apos;, &apos;Shounen&apos;, &apos;Super Power&apos;]</td><td>tv</td><td>143.0</td><td>7.12245</td><td>0.00140241</td><td>0.759075</td><td>0.0167331</td><td>6.68018</td><td>0.00140241</td><td>143.0</td><td>1</td></tr><tr><th>35</th><td>37870</td><td>9019</td><td>BanG Dream! 3rd Season</td><td>[&apos;Music&apos;]</td><td>tv</td><td>152.0</td><td>7.20198</td><td>3.466e-5</td><td>0.820001</td><td>0.0202034</td><td>6.55417</td><td>3.466e-5</td><td>152.0</td><td>1</td></tr><tr><th>36</th><td>269</td><td>20133</td><td>Bleach</td><td>[&apos;Action&apos;, &apos;Adventure&apos;, &apos;Fantasy&apos;, &apos;Shounen&apos;]</td><td>tv</td><td>155.0</td><td>6.81025</td><td>0.00197477</td><td>0.941715</td><td>0.0267096</td><td>6.24199</td><td>0.00197478</td><td>155.0</td><td>1</td></tr><tr><th>37</th><td>36456</td><td>15146</td><td>Boku no Hero Academia 3rd Season</td><td>[&apos;Action&apos;, &apos;School&apos;, &apos;Shounen&apos;, &apos;Super Power&apos;]</td><td>tv</td><td>162.0</td><td>6.92352</td><td>0.00256673</td><td>0.637901</td><td>0.0116246</td><td>6.63844</td><td>0.00256673</td><td>162.0</td><td>1</td></tr><tr><th>38</th><td>21</td><td>9917</td><td>One Piece</td><td>[&apos;Action&apos;, &apos;Adventure&apos;, &apos;Fantasy&apos;, &apos;Shounen&apos;]</td><td>tv</td><td>164.0</td><td>7.05703</td><td>0.00216221</td><td>0.85297</td><td>0.0163345</td><td>7.19899</td><td>0.00216222</td><td>164.0</td><td>1</td></tr><tr><th>39</th><td>40682</td><td>5799</td><td>Kingdom 3rd Season</td><td>[&apos;Action&apos;, &apos;Historical&apos;, &apos;Military&apos;, &apos;Seinen&apos;]</td><td>tv</td><td>165.0</td><td>7.42775</td><td>6.6526e-5</td><td>0.792963</td><td>0.0119057</td><td>7.39631</td><td>6.6526e-5</td><td>165.0</td><td>1</td></tr><tr><th>40</th><td>26055</td><td>9103</td><td>JoJo no Kimyou na Bouken Part 3: Stardust Crusaders 2nd Season</td><td>[&apos;Action&apos;, &apos;Adventure&apos;, &apos;Drama&apos;, &apos;Shounen&apos;, &apos;Supernatural&apos;]</td><td>tv</td><td>166.0</td><td>7.03868</td><td>0.00133276</td><td>0.687902</td><td>0.0187291</td><td>7.16622</td><td>0.00133276</td><td>166.0</td><td>1</td></tr><tr><th>41</th><td>1065</td><td>2038</td><td>Touch</td><td>[&apos;Drama&apos;, &apos;Love Polygon&apos;, &apos;Romance&apos;, &apos;School&apos;, &apos;Shounen&apos;, &apos;Slice of Life&apos;, &apos;Sports&apos;, &apos;Team Sports&apos;]</td><td>tv</td><td>170.0</td><td>7.27102</td><td>2.62749e-5</td><td>0.823328</td><td>0.0167814</td><td>6.90687</td><td>2.62749e-5</td><td>170.0</td><td>1</td></tr><tr><th>42</th><td>43608</td><td>7264</td><td>Kaguya-sama wa Kokurasetai: Ultra Romantic</td><td>[&apos;Comedy&apos;, &apos;Psychological&apos;, &apos;Romantic Subtext&apos;, &apos;School&apos;, &apos;Seinen&apos;, &apos;Suspense&apos;]</td><td>tv</td><td>171.0</td><td>7.15919</td><td>0.000512309</td><td>0.679822</td><td>0.0195538</td><td>7.43691</td><td>0.00051231</td><td>171.0</td><td>1</td></tr><tr><th>43</th><td>2035</td><td>17102</td><td>Eikoku Koi Monogatari Emma: Molders-hen</td><td>[&apos;Drama&apos;, &apos;Historical&apos;, &apos;Romance&apos;, &apos;Seinen&apos;, &apos;Slice of Life&apos;]</td><td>tv</td><td>174.0</td><td>7.11829</td><td>2.79337e-5</td><td>0.745692</td><td>0.0189343</td><td>6.56097</td><td>2.79336e-5</td><td>174.0</td><td>1</td></tr><tr><th>44</th><td>1</td><td>11017</td><td>Cowboy Bebop</td><td>[&apos;Action&apos;, &apos;Adult Cast&apos;, &apos;Sci-Fi&apos;, &apos;Space&apos;]</td><td>tv</td><td>175.0</td><td>7.09806</td><td>0.00168163</td><td>0.859301</td><td>0.0176445</td><td>7.43068</td><td>0.00168163</td><td>175.0</td><td>1</td></tr><tr><th>45</th><td>19</td><td>17026</td><td>Monster</td><td>[&apos;Adult Cast&apos;, &apos;Drama&apos;, &apos;Mystery&apos;, &apos;Psychological&apos;, &apos;Seinen&apos;, &apos;Suspense&apos;]</td><td>tv</td><td>176.0</td><td>7.17364</td><td>0.000735493</td><td>0.813293</td><td>0.0200242</td><td>7.59226</td><td>0.000735495</td><td>176.0</td><td>1</td></tr><tr><th>46</th><td>136</td><td>18634</td><td>Hunter x Hunter</td><td>[&apos;Action&apos;, &apos;Adventure&apos;, &apos;Fantasy&apos;, &apos;Shounen&apos;]</td><td>tv</td><td>178.0</td><td>7.07282</td><td>0.000520025</td><td>0.644978</td><td>0.0171897</td><td>6.88883</td><td>0.000520026</td><td>178.0</td><td>1</td></tr><tr><th>47</th><td>48569</td><td>5777</td><td>86 Part 2</td><td>[&apos;Action&apos;, &apos;Drama&apos;, &apos;Mecha&apos;, &apos;Military&apos;, &apos;Sci-Fi&apos;]</td><td>tv</td><td>180.0</td><td>7.08919</td><td>0.000448675</td><td>0.653622</td><td>0.0196922</td><td>7.29187</td><td>0.000448675</td><td>180.0</td><td>1</td></tr><tr><th>48</th><td>16049</td><td>12418</td><td>Toaru Kagaku no Railgun S</td><td>[&apos;Action&apos;, &apos;Sci-Fi&apos;, &apos;Super Power&apos;]</td><td>tv</td><td>182.0</td><td>7.0155</td><td>0.000437275</td><td>0.664369</td><td>0.0182433</td><td>6.60729</td><td>0.000437276</td><td>182.0</td><td>1</td></tr><tr><th>49</th><td>48736</td><td>12617</td><td>Sono Bisque Doll wa Koi wo Suru</td><td>[&apos;Otaku Culture&apos;, &apos;Romance&apos;, &apos;School&apos;, &apos;Seinen&apos;, &apos;Slice of Life&apos;]</td><td>tv</td><td>186.0</td><td>6.98606</td><td>0.00114395</td><td>0.709217</td><td>0.017428</td><td>6.88766</td><td>0.00114395</td><td>186.0</td><td>1</td></tr><tr><th>50</th><td>37779</td><td>5006</td><td>Yakusoku no Neverland</td><td>[&apos;Mystery&apos;, &apos;Psychological&apos;, &apos;Sci-Fi&apos;, &apos;Shounen&apos;, &apos;Survival&apos;, &apos;Suspense&apos;]</td><td>tv</td><td>187.0</td><td>6.97074</td><td>0.00218617</td><td>0.853928</td><td>0.0163345</td><td>7.15962</td><td>0.00218617</td><td>187.0</td><td>1</td></tr><tr><th>&vellip;</th><td>&vellip;</td><td>&vellip;</td><td>&vellip;</td><td>&vellip;</td><td>&vellip;</td><td>&vellip;</td><td>&vellip;</td><td>&vellip;</td><td>&vellip;</td><td>&vellip;</td><td>&vellip;</td><td>&vellip;</td><td>&vellip;</td><td>&vellip;</td></tr></tbody></table></div>"
      ],
      "text/latex": [
       "\\begin{tabular}{r|cccccccccccccc}\n",
       "\t& anime\\_id & uid & title & genres & medium & ranking & explicit & implicit & error\\_explicit & error\\_implicit & baseline\\_explicit & baseline\\_implicit & score & display\\\\\n",
       "\t\\hline\n",
       "\t& Int64 & Int64 & String & String & String7 & Float32 & Float32 & Float32 & Float32 & Float32 & Float32 & Float32 & Float32 & Bool\\\\\n",
       "\t\\hline\n",
       "\t1 & 5114 & 17079 & Fullmetal Alchemist: Brotherhood & ['Action', 'Adventure', 'Drama', 'Fantasy', 'Military', 'Shounen'] & tv & 4.0 & 8.16355 & 0.00308927 & 0.937534 & 0.0606551 & 7.62535 & 0.00308928 & 4.0 & 1 \\\\\n",
       "\t2 & 38524 & 12753 & Shingeki no Kyojin Season 3 Part 2 & ['Action', 'Drama', 'Gore', 'Military', 'Shounen', 'Survival'] & tv & 10.0 & 7.9787 & 0.00253456 & 0.726492 & 0.0562963 & 7.68329 & 0.00253456 & 10.0 & 1 \\\\\n",
       "\t3 & 40028 & 5414 & Shingeki no Kyojin: The Final Season & ['Action', 'Drama', 'Gore', 'Military', 'Shounen', 'Survival'] & tv & 13.0 & 7.81089 & 0.00219663 & 0.794572 & 0.0569247 & 7.4072 & 0.00219663 & 13.0 & 1 \\\\\n",
       "\t4 & 11061 & 7814 & Hunter x Hunter (2011) & ['Action', 'Adventure', 'Fantasy', 'Shounen'] & tv & 23.0 & 7.67325 & 0.00262856 & 0.982317 & 0.0455285 & 7.57482 & 0.00262857 & 23.0 & 1 \\\\\n",
       "\t5 & 42587 & 13295 & Yuuki Yuuna wa Yuusha de Aru: Dai Mankai no Shou & ['Drama', 'Fantasy', 'Mahou Shoujo', 'Slice of Life'] & tv & 36.0 & 7.96017 & 1.62878e-5 & 0.935407 & 0.0245981 & 5.90612 & 1.62878e-5 & 36.0 & 1 \\\\\n",
       "\t6 & 30276 & 2415 & One Punch Man & ['Action', 'Comedy', 'Parody', 'Seinen', 'Super Power'] & tv & 39.0 & 7.16893 & 0.0035174 & 0.920127 & 0.045311 & 7.02705 & 0.00351741 & 39.0 & 1 \\\\\n",
       "\t7 & 32935 & 2448 & Haikyuu!!: Karasuno Koukou vs. Shiratorizawa Gakuen Koukou & ['School', 'Shounen', 'Sports', 'Team Sports'] & tv & 50.0 & 7.65925 & 0.00136979 & 0.829766 & 0.0283017 & 7.39082 & 0.00136979 & 50.0 & 1 \\\\\n",
       "\t8 & 28891 & 9157 & Haikyuu!! Second Season & ['School', 'Shounen', 'Sports', 'Team Sports'] & tv & 52.0 & 7.78005 & 0.0016207 & 0.764133 & 0.0166238 & 7.22776 & 0.0016207 & 52.0 & 1 \\\\\n",
       "\t9 & 33486 & 19915 & Boku no Hero Academia 2nd Season & ['Action', 'School', 'Shounen', 'Super Power'] & tv & 54.0 & 7.14203 & 0.00294497 & 0.653479 & 0.032842 & 6.68712 & 0.00294497 & 54.0 & 1 \\\\\n",
       "\t10 & 16498 & 7644 & Shingeki no Kyojin & ['Action', 'Drama', 'Gore', 'Military', 'Shounen', 'Survival'] & tv & 63.0 & 7.27143 & 0.00424122 & 0.870262 & 0.0221567 & 7.04385 & 0.00424123 & 63.0 & 1 \\\\\n",
       "\t11 & 35760 & 19030 & Shingeki no Kyojin Season 3 & ['Action', 'Drama', 'Gore', 'Military', 'Shounen', 'Survival'] & tv & 64.0 & 7.32776 & 0.00269863 & 0.728629 & 0.027675 & 7.23127 & 0.00269863 & 64.0 & 1 \\\\\n",
       "\t12 & 48583 & 18963 & Shingeki no Kyojin: The Final Season Part 2 & ['Action', 'Drama', 'Gore', 'Military', 'Shounen', 'Survival'] & tv & 75.0 & 7.68086 & 0.0012622 & 0.746005 & 0.0165148 & 7.45514 & 0.00126221 & 75.0 & 1 \\\\\n",
       "\t13 & 34973 & 8521 & Love Live! Sunshine!! 2nd Season & ['Idols (Female)', 'Music', 'School', 'Slice of Life'] & tv & 78.0 & 7.08627 & 0.000133001 & 0.81717 & 0.0432326 & 6.17328 & 0.000133002 & 78.0 & 1 \\\\\n",
       "\t14 & 25777 & 8685 & Shingeki no Kyojin Season 2 & ['Action', 'Drama', 'Gore', 'Military', 'Shounen', 'Survival'] & tv & 80.0 & 7.19782 & 0.00310658 & 0.704384 & 0.0207142 & 7.09824 & 0.00310658 & 80.0 & 1 \\\\\n",
       "\t15 & 32843 & 3602 & Senki Zesshou Symphogear XV & ['Action', 'Idols (Female)', 'Music', 'Sci-Fi'] & tv & 85.0 & 7.64439 & 3.1311e-5 & 0.81197 & 0.0186996 & 6.94163 & 3.1311e-5 & 85.0 & 1 \\\\\n",
       "\t16 & 38883 & 14856 & Haikyuu!! To the Top & ['School', 'Shounen', 'Sports', 'Team Sports'] & tv & 89.0 & 7.40991 & 0.00104375 & 0.829151 & 0.0213088 & 6.96516 & 0.00104375 & 89.0 & 1 \\\\\n",
       "\t17 & 32836 & 20123 & Senki Zesshou Symphogear AXZ & ['Action', 'Idols (Female)', 'Music', 'Sci-Fi'] & tv & 90.0 & 7.46411 & 3.85041e-5 & 0.910852 & 0.0221687 & 6.29791 & 3.85041e-5 & 90.0 & 1 \\\\\n",
       "\t18 & 40748 & 18010 & Jujutsu Kaisen (TV) & ['Action', 'Fantasy', 'School', 'Shounen'] & tv & 91.0 & 7.17113 & 0.00263574 & 1.05068 & 0.0283968 & 7.21643 & 0.00263575 & 91.0 & 1 \\\\\n",
       "\t19 & 40776 & 8909 & Haikyuu!! To the Top Part 2 & ['School', 'Shounen', 'Sports', 'Team Sports'] & tv & 92.0 & 7.38326 & 0.000873575 & 0.761762 & 0.0227915 & 7.15138 & 0.000873577 & 92.0 & 1 \\\\\n",
       "\t20 & 50265 & 4347 & Spy x Family & ['Action', 'Childcare', 'Comedy', 'Shounen'] & tv & 93.0 & 7.16968 & 0.00103509 & 0.718243 & 0.0328537 & 7.47808 & 0.00103509 & 93.0 & 1 \\\\\n",
       "\t21 & 21573 & 15434 & Senki Zesshou Symphogear GX & ['Action', 'Idols (Female)', 'Music', 'Sci-Fi'] & tv & 100.0 & 7.25368 & 5.34958e-5 & 0.914476 & 0.0271503 & 6.07995 & 5.34958e-5 & 100.0 & 1 \\\\\n",
       "\t22 & 47778 & 18684 & Kimetsu no Yaiba: Yuukaku-hen & ['Action', 'Fantasy', 'Historical', 'Shounen'] & tv & 101.0 & 7.36249 & 0.00142428 & 0.813897 & 0.0197257 & 7.42571 & 0.00142428 & 101.0 & 1 \\\\\n",
       "\t23 & 2921 & 5647 & Ashita no Joe 2 & ['Action', 'Combat Sports', 'Drama', 'Shounen', 'Slice of Life', 'Sports'] & tv & 102.0 & 7.77878 & 3.49123e-5 & 0.70835 & 0.0117852 & 8.01768 & 3.49123e-5 & 102.0 & 1 \\\\\n",
       "\t24 & 38000 & 11465 & Kimetsu no Yaiba & ['Action', 'Fantasy', 'Historical', 'Shounen'] & tv & 110.0 & 6.90825 & 0.00326954 & 0.73602 & 0.0233258 & 7.0779 & 0.00326954 & 110.0 & 1 \\\\\n",
       "\t25 & 1735 & 14119 & Naruto: Shippuuden & ['Action', 'Adventure', 'Fantasy', 'Martial Arts', 'Shounen'] & tv & 113.0 & 7.03086 & 0.00261284 & 1.10363 & 0.0269071 & 6.69386 & 0.00261285 & 113.0 & 1 \\\\\n",
       "\t26 & 19111 & 15311 & Love Live! School Idol Project 2nd Season & ['Idols (Female)', 'Music', 'School', 'Slice of Life'] & tv & 114.0 & 7.35686 & 0.000328063 & 0.904472 & 0.0187381 & 6.31284 & 0.000328064 & 114.0 & 1 \\\\\n",
       "\t27 & 20 & 15281 & Naruto & ['Action', 'Adventure', 'Fantasy', 'Martial Arts', 'Shounen'] & tv & 118.0 & 6.89135 & 0.00311239 & 0.867383 & 0.0228601 & 6.42401 & 0.0031124 & 118.0 & 1 \\\\\n",
       "\t28 & 31706 & 13554 & Fate/kaleid liner Prisma☆Illya 3rei!! & ['Action', 'Comedy', 'Fantasy', 'Mahou Shoujo'] & tv & 119.0 & 7.00609 & 0.000145174 & 0.834763 & 0.0338276 & 6.11051 & 0.000145174 & 119.0 & 1 \\\\\n",
       "\t29 & 22319 & 20135 & Tokyo Ghoul & ['Action', 'Fantasy', 'Gore', 'Horror', 'Psychological', 'Seinen'] & tv & 126.0 & 6.56994 & 0.00306752 & 0.986321 & 0.0385583 & 6.28796 & 0.00306753 & 126.0 & 1 \\\\\n",
       "\t30 & 22535 & 11784 & Kiseijuu: Sei no Kakuritsu & ['Action', 'Gore', 'Horror', 'Psychological', 'Sci-Fi', 'Seinen'] & tv & 128.0 & 7.01075 & 0.00202228 & 0.793188 & 0.0230279 & 6.91023 & 0.00202229 & 128.0 & 1 \\\\\n",
       "\t31 & 33354 & 9190 & Cardcaptor Sakura: Clear Card-hen & ['Adventure', 'Comedy', 'Fantasy', 'Mahou Shoujo', 'Romance', 'Shoujo'] & tv & 134.0 & 7.22279 & 0.000119072 & 0.901436 & 0.0218964 & 6.21114 & 0.000119073 & 134.0 & 1 \\\\\n",
       "\t32 & 42941 & 9316 & Uma Musume: Pretty Derby (TV) Season 2 & ['Anthropomorphic', 'Sports'] & tv & 137.0 & 7.24847 & 4.73307e-5 & 0.827636 & 0.022034 & 6.61651 & 4.73307e-5 & 137.0 & 1 \\\\\n",
       "\t33 & 30484 & 6093 & Steins;Gate 0 & ['Drama', 'Sci-Fi', 'Suspense', 'Time Travel'] & tv & 140.0 & 7.26795 & 0.000843721 & 0.811557 & 0.019731 & 7.23536 & 0.000843723 & 140.0 & 1 \\\\\n",
       "\t34 & 813 & 12911 & Dragon Ball Z & ['Action', 'Adventure', 'Comedy', 'Fantasy', 'Martial Arts', 'Shounen', 'Super Power'] & tv & 143.0 & 7.12245 & 0.00140241 & 0.759075 & 0.0167331 & 6.68018 & 0.00140241 & 143.0 & 1 \\\\\n",
       "\t35 & 37870 & 9019 & BanG Dream! 3rd Season & ['Music'] & tv & 152.0 & 7.20198 & 3.466e-5 & 0.820001 & 0.0202034 & 6.55417 & 3.466e-5 & 152.0 & 1 \\\\\n",
       "\t36 & 269 & 20133 & Bleach & ['Action', 'Adventure', 'Fantasy', 'Shounen'] & tv & 155.0 & 6.81025 & 0.00197477 & 0.941715 & 0.0267096 & 6.24199 & 0.00197478 & 155.0 & 1 \\\\\n",
       "\t37 & 36456 & 15146 & Boku no Hero Academia 3rd Season & ['Action', 'School', 'Shounen', 'Super Power'] & tv & 162.0 & 6.92352 & 0.00256673 & 0.637901 & 0.0116246 & 6.63844 & 0.00256673 & 162.0 & 1 \\\\\n",
       "\t38 & 21 & 9917 & One Piece & ['Action', 'Adventure', 'Fantasy', 'Shounen'] & tv & 164.0 & 7.05703 & 0.00216221 & 0.85297 & 0.0163345 & 7.19899 & 0.00216222 & 164.0 & 1 \\\\\n",
       "\t39 & 40682 & 5799 & Kingdom 3rd Season & ['Action', 'Historical', 'Military', 'Seinen'] & tv & 165.0 & 7.42775 & 6.6526e-5 & 0.792963 & 0.0119057 & 7.39631 & 6.6526e-5 & 165.0 & 1 \\\\\n",
       "\t40 & 26055 & 9103 & JoJo no Kimyou na Bouken Part 3: Stardust Crusaders 2nd Season & ['Action', 'Adventure', 'Drama', 'Shounen', 'Supernatural'] & tv & 166.0 & 7.03868 & 0.00133276 & 0.687902 & 0.0187291 & 7.16622 & 0.00133276 & 166.0 & 1 \\\\\n",
       "\t41 & 1065 & 2038 & Touch & ['Drama', 'Love Polygon', 'Romance', 'School', 'Shounen', 'Slice of Life', 'Sports', 'Team Sports'] & tv & 170.0 & 7.27102 & 2.62749e-5 & 0.823328 & 0.0167814 & 6.90687 & 2.62749e-5 & 170.0 & 1 \\\\\n",
       "\t42 & 43608 & 7264 & Kaguya-sama wa Kokurasetai: Ultra Romantic & ['Comedy', 'Psychological', 'Romantic Subtext', 'School', 'Seinen', 'Suspense'] & tv & 171.0 & 7.15919 & 0.000512309 & 0.679822 & 0.0195538 & 7.43691 & 0.00051231 & 171.0 & 1 \\\\\n",
       "\t43 & 2035 & 17102 & Eikoku Koi Monogatari Emma: Molders-hen & ['Drama', 'Historical', 'Romance', 'Seinen', 'Slice of Life'] & tv & 174.0 & 7.11829 & 2.79337e-5 & 0.745692 & 0.0189343 & 6.56097 & 2.79336e-5 & 174.0 & 1 \\\\\n",
       "\t44 & 1 & 11017 & Cowboy Bebop & ['Action', 'Adult Cast', 'Sci-Fi', 'Space'] & tv & 175.0 & 7.09806 & 0.00168163 & 0.859301 & 0.0176445 & 7.43068 & 0.00168163 & 175.0 & 1 \\\\\n",
       "\t45 & 19 & 17026 & Monster & ['Adult Cast', 'Drama', 'Mystery', 'Psychological', 'Seinen', 'Suspense'] & tv & 176.0 & 7.17364 & 0.000735493 & 0.813293 & 0.0200242 & 7.59226 & 0.000735495 & 176.0 & 1 \\\\\n",
       "\t46 & 136 & 18634 & Hunter x Hunter & ['Action', 'Adventure', 'Fantasy', 'Shounen'] & tv & 178.0 & 7.07282 & 0.000520025 & 0.644978 & 0.0171897 & 6.88883 & 0.000520026 & 178.0 & 1 \\\\\n",
       "\t47 & 48569 & 5777 & 86 Part 2 & ['Action', 'Drama', 'Mecha', 'Military', 'Sci-Fi'] & tv & 180.0 & 7.08919 & 0.000448675 & 0.653622 & 0.0196922 & 7.29187 & 0.000448675 & 180.0 & 1 \\\\\n",
       "\t48 & 16049 & 12418 & Toaru Kagaku no Railgun S & ['Action', 'Sci-Fi', 'Super Power'] & tv & 182.0 & 7.0155 & 0.000437275 & 0.664369 & 0.0182433 & 6.60729 & 0.000437276 & 182.0 & 1 \\\\\n",
       "\t49 & 48736 & 12617 & Sono Bisque Doll wa Koi wo Suru & ['Otaku Culture', 'Romance', 'School', 'Seinen', 'Slice of Life'] & tv & 186.0 & 6.98606 & 0.00114395 & 0.709217 & 0.017428 & 6.88766 & 0.00114395 & 186.0 & 1 \\\\\n",
       "\t50 & 37779 & 5006 & Yakusoku no Neverland & ['Mystery', 'Psychological', 'Sci-Fi', 'Shounen', 'Survival', 'Suspense'] & tv & 187.0 & 6.97074 & 0.00218617 & 0.853928 & 0.0163345 & 7.15962 & 0.00218617 & 187.0 & 1 \\\\\n",
       "\t$\\dots$ & $\\dots$ & $\\dots$ & $\\dots$ & $\\dots$ & $\\dots$ & $\\dots$ & $\\dots$ & $\\dots$ & $\\dots$ & $\\dots$ & $\\dots$ & $\\dots$ & $\\dots$ & $\\dots$ \\\\\n",
       "\\end{tabular}\n"
      ],
      "text/plain": [
       "\u001b[1m5650×14 DataFrame\u001b[0m\n",
       "\u001b[1m  Row \u001b[0m│\u001b[1m anime_id \u001b[0m\u001b[1m uid   \u001b[0m\u001b[1m title                             \u001b[0m\u001b[1m genres                            \u001b[0m\u001b[1m medium  \u001b[0m\u001b[1m ranking \u001b[0m\u001b[1m explicit \u001b[0m\u001b[1m implicit    \u001b[0m\u001b[1m error_explicit \u001b[0m\u001b[1m error_implicit \u001b[0m\u001b[1m baseline_explicit \u001b[0m\u001b[1m baseline_implicit \u001b[0m\u001b[1m score   \u001b[0m\u001b[1m display \u001b[0m\n",
       "\u001b[1m      \u001b[0m│\u001b[90m Int64    \u001b[0m\u001b[90m Int64 \u001b[0m\u001b[90m String                            \u001b[0m\u001b[90m String                            \u001b[0m\u001b[90m String7 \u001b[0m\u001b[90m Float32 \u001b[0m\u001b[90m Float32  \u001b[0m\u001b[90m Float32     \u001b[0m\u001b[90m Float32        \u001b[0m\u001b[90m Float32        \u001b[0m\u001b[90m Float32           \u001b[0m\u001b[90m Float32           \u001b[0m\u001b[90m Float32 \u001b[0m\u001b[90m Bool    \u001b[0m\n",
       "──────┼────────────────────────────────────────────────────────────────────────────────────────────────────────────────────────────────────────────────────────────────────────────────────────────────────────────────────────\n",
       "    1 │     5114  17079  Fullmetal Alchemist: Brotherhood   ['Action', 'Adventure', 'Drama',…  tv           4.0   8.16355  0.00308927         0.937534     0.0606551              7.62535        0.00308928       4.0     true\n",
       "    2 │    38524  12753  Shingeki no Kyojin Season 3 Part…  ['Action', 'Drama', 'Gore', 'Mil…  tv          10.0   7.9787   0.00253456         0.726492     0.0562963              7.68329        0.00253456      10.0     true\n",
       "    3 │    40028   5414  Shingeki no Kyojin: The Final Se…  ['Action', 'Drama', 'Gore', 'Mil…  tv          13.0   7.81089  0.00219663         0.794572     0.0569247              7.4072         0.00219663      13.0     true\n",
       "    4 │    11061   7814  Hunter x Hunter (2011)             ['Action', 'Adventure', 'Fantasy…  tv          23.0   7.67325  0.00262856         0.982317     0.0455285              7.57482        0.00262857      23.0     true\n",
       "    5 │    42587  13295  Yuuki Yuuna wa Yuusha de Aru: Da…  ['Drama', 'Fantasy', 'Mahou Shou…  tv          36.0   7.96017  1.62878e-5         0.935407     0.0245981              5.90612        1.62878e-5      36.0     true\n",
       "    6 │    30276   2415  One Punch Man                      ['Action', 'Comedy', 'Parody', '…  tv          39.0   7.16893  0.0035174          0.920127     0.045311               7.02705        0.00351741      39.0     true\n",
       "    7 │    32935   2448  Haikyuu!!: Karasuno Koukou vs. S…  ['School', 'Shounen', 'Sports', …  tv          50.0   7.65925  0.00136979         0.829766     0.0283017              7.39082        0.00136979      50.0     true\n",
       "    8 │    28891   9157  Haikyuu!! Second Season            ['School', 'Shounen', 'Sports', …  tv          52.0   7.78005  0.0016207          0.764133     0.0166238              7.22776        0.0016207       52.0     true\n",
       "    9 │    33486  19915  Boku no Hero Academia 2nd Season   ['Action', 'School', 'Shounen', …  tv          54.0   7.14203  0.00294497         0.653479     0.032842               6.68712        0.00294497      54.0     true\n",
       "   10 │    16498   7644  Shingeki no Kyojin                 ['Action', 'Drama', 'Gore', 'Mil…  tv          63.0   7.27143  0.00424122         0.870262     0.0221567              7.04385        0.00424123      63.0     true\n",
       "   11 │    35760  19030  Shingeki no Kyojin Season 3        ['Action', 'Drama', 'Gore', 'Mil…  tv          64.0   7.32776  0.00269863         0.728629     0.027675               7.23127        0.00269863      64.0     true\n",
       "   12 │    48583  18963  Shingeki no Kyojin: The Final Se…  ['Action', 'Drama', 'Gore', 'Mil…  tv          75.0   7.68086  0.0012622          0.746005     0.0165148              7.45514        0.00126221      75.0     true\n",
       "   13 │    34973   8521  Love Live! Sunshine!! 2nd Season   ['Idols (Female)', 'Music', 'Sch…  tv          78.0   7.08627  0.000133001        0.81717      0.0432326              6.17328        0.000133002     78.0     true\n",
       "   14 │    25777   8685  Shingeki no Kyojin Season 2        ['Action', 'Drama', 'Gore', 'Mil…  tv          80.0   7.19782  0.00310658         0.704384     0.0207142              7.09824        0.00310658      80.0     true\n",
       "   15 │    32843   3602  Senki Zesshou Symphogear XV        ['Action', 'Idols (Female)', 'Mu…  tv          85.0   7.64439  3.1311e-5          0.81197      0.0186996              6.94163        3.1311e-5       85.0     true\n",
       "   16 │    38883  14856  Haikyuu!! To the Top               ['School', 'Shounen', 'Sports', …  tv          89.0   7.40991  0.00104375         0.829151     0.0213088              6.96516        0.00104375      89.0     true\n",
       "   17 │    32836  20123  Senki Zesshou Symphogear AXZ       ['Action', 'Idols (Female)', 'Mu…  tv          90.0   7.46411  3.85041e-5         0.910852     0.0221687              6.29791        3.85041e-5      90.0     true\n",
       "   18 │    40748  18010  Jujutsu Kaisen (TV)                ['Action', 'Fantasy', 'School', …  tv          91.0   7.17113  0.00263574         1.05068      0.0283968              7.21643        0.00263575      91.0     true\n",
       "   19 │    40776   8909  Haikyuu!! To the Top Part 2        ['School', 'Shounen', 'Sports', …  tv          92.0   7.38326  0.000873575        0.761762     0.0227915              7.15138        0.000873577     92.0     true\n",
       "   20 │    50265   4347  Spy x Family                       ['Action', 'Childcare', 'Comedy'…  tv          93.0   7.16968  0.00103509         0.718243     0.0328537              7.47808        0.00103509      93.0     true\n",
       "   21 │    21573  15434  Senki Zesshou Symphogear GX        ['Action', 'Idols (Female)', 'Mu…  tv         100.0   7.25368  5.34958e-5         0.914476     0.0271503              6.07995        5.34958e-5     100.0     true\n",
       "  ⋮   │    ⋮        ⋮                    ⋮                                  ⋮                     ⋮        ⋮        ⋮           ⋮             ⋮               ⋮                 ⋮                  ⋮             ⋮        ⋮\n",
       " 5631 │    14623  12168  Chikyuu SOS Sore Ike Kororin       ['Action', 'Comedy', 'Kids', 'Sc…  tv       20261.0   4.67253  2.30304e-7         1.52454     -0.000239017            4.81754        2.30205e-7   20261.0     true\n",
       " 5632 │    19843  13939  Tamagotchi! Miracle Friends        ['Comedy', 'Fantasy', 'Kids']      tv       20269.0   4.6748   4.4474e-7          1.52454     -0.000239017            4.81983        4.44642e-7   20269.0     true\n",
       " 5633 │    11275   7469  Akadou Suzunosuke                  ['Adventure', 'Historical']        tv       20270.0   4.67522  5.92954e-7         1.52454     -0.000239017            4.82025        5.92856e-7   20270.0     true\n",
       " 5634 │    30120  15326  Spoon-hime no Swing Kitchen        ['Adventure', 'Kids']              tv       20278.0   4.67513  1.83001e-7         1.52454     -0.000239017            4.82016        1.82902e-7   20278.0     true\n",
       " 5635 │    39124  17604  Hong Mao Lan Tu: Le Fantian        ['Kids']                           tv       20286.0   4.67677  9.78572e-8         1.52454     -0.000239017            4.82181        9.77582e-8   20286.0     true\n",
       " 5636 │    34666   5943  Kemy                               ['Kids']                           tv       20287.0   4.67709  1.86155e-7         1.52454     -0.000239017            4.82213        1.86056e-7   20287.0     true\n",
       " 5637 │    29473   6633  Toko-chan Chokkin                  ['Adventure', 'Historical', 'Kid…  tv       20293.0   4.67829  1.95615e-7         1.52454     -0.000239017            4.82333        1.95516e-7   20293.0     true\n",
       " 5638 │    39528   7672  Washimo 7th Season                 ['Comedy', 'Kids', 'School', 'Sc…  tv       20302.0   4.67925  1.19932e-7         1.52454     -0.000239017            4.8243         1.19833e-7   20302.0     true\n",
       " 5639 │    43985  17847  Xi Yangyang Yu Hui Tailang: Gei …  ['Adventure', 'Comedy', 'Kids']    tv       20303.0   4.67932  1.32546e-7         1.52454     -0.000239017            4.82437        1.32447e-7   20303.0     true\n",
       " 5640 │    23829  19522  Komatsu Sakyo Anime Gekijou        ['Comedy', 'Parody', 'Sci-Fi', '…  tv       20307.0   4.68019  2.87066e-7         1.52454     -0.000239017            4.82524        2.86968e-7   20307.0     true\n",
       " 5641 │    43986  17422  Xi Yangyang Yu Hui Tailang: Jing…  ['Adventure', 'Comedy', 'Kids']    tv       20309.0   4.68016  9.15502e-8         1.52454     -0.000239017            4.82521        9.14512e-8   20309.0     true\n",
       " 5642 │    38451   7378  Reizouko no Tsukenosuke!           ['Comedy', 'Kids', 'Parody']       tv       20315.0   4.68099  1.95615e-7         1.52454     -0.000239017            4.82605        1.95516e-7   20315.0     true\n",
       " 5643 │    40953   8229  Lalalacoco                         ['Comedy', 'Kids', 'Slice of Lif…  tv       20318.0   4.68204  1.5462e-7          1.52454     -0.000239017            4.82711        1.54521e-7   20318.0     true\n",
       " 5644 │     9438   4686  Rainbow Sentai Robin               ['Action', 'Adventure', 'Sci-Fi']  tv       20319.0   4.6835   6.71791e-7         1.52454     -0.000239017            4.82857        6.71693e-7   20319.0     true\n",
       " 5645 │    41118  19827  Kakuza Tousan                      ['Comedy', 'Drama', 'Historical'…  tv       20325.0   4.68354  1.13625e-7         1.52454     -0.000239017            4.82861        1.13526e-7   20325.0     true\n",
       " 5646 │    48324   7496  Hanjawang Jumong                   ['Adventure', 'Comedy', 'Kids']    tv       20327.0   4.68366  5.37084e-8         1.52454     -0.000239017            4.82874        5.36093e-8   20327.0     true\n",
       " 5647 │    48323  17304  Zombie Dumb                        ['Comedy', 'Kids', 'Supernatural…  tv       20332.0   4.68434  8.52433e-8         1.52454     -0.000239017            4.82942        8.51442e-8   20332.0     true\n",
       " 5648 │    34667    365  Kemy Tamheomdae                    ['Adventure', 'Kids']              tv       20335.0   4.68523  1.73541e-7         1.52454     -0.000239017            4.83031        1.73442e-7   20335.0     true\n",
       " 5649 │     6822  15228  Ukkari Pénélope (2009)             ['Comedy', 'Slice of Life']        tv       20336.0   4.68621  5.51959e-7         1.52454     -0.000239017            4.83129        5.51861e-7   20336.0     true\n",
       " 5650 │    36027   9310  Ousama Game The Animation          ['Drama', 'Gore', 'Horror', 'Mys…  tv       20340.0   4.99467  0.000298367        2.11137     -0.0521948              3.5095         0.000298367  20340.0     true\n",
       "\u001b[36m                                                                                                                                                                                                              5609 rows omitted\u001b[0m"
      ]
     },
     "execution_count": 12,
     "metadata": {},
     "output_type": "execute_result"
    }
   ],
   "source": [
    "filter(x -> x.medium == \"tv\", rec_df) |> pretty_display"
   ]
  },
  {
   "cell_type": "code",
   "execution_count": 13,
   "id": "7ee48028-14a4-41b7-92ec-7cdb79172d86",
   "metadata": {},
   "outputs": [
    {
     "data": {
      "text/html": [
       "<div class=\"data-frame\"><p>1,245 rows × 14 columns</p><table class=\"data-frame\"><thead><tr><th></th><th>anime_id</th><th>uid</th><th>title</th><th>genres</th><th>medium</th><th>ranking</th><th>explicit</th><th>implicit</th><th>error_explicit</th><th>error_implicit</th><th>baseline_explicit</th><th>baseline_implicit</th><th>score</th><th>display</th></tr><tr><th></th><th title=\"Int64\">Int64</th><th title=\"Int64\">Int64</th><th title=\"String\">String</th><th title=\"String\">String</th><th title=\"InlineStrings.String7\">String7</th><th title=\"Float32\">Float32</th><th title=\"Float32\">Float32</th><th title=\"Float32\">Float32</th><th title=\"Float32\">Float32</th><th title=\"Float32\">Float32</th><th title=\"Float32\">Float32</th><th title=\"Float32\">Float32</th><th title=\"Float32\">Float32</th><th title=\"Bool\">Bool</th></tr></thead><tbody><tr><th>1</th><td>34376</td><td>1289</td><td>Yuuki Yuuna wa Yuusha de Aru: Washio Sumi no Shou 3 - Yakusoku</td><td>[&apos;Drama&apos;, &apos;Fantasy&apos;, &apos;Mahou Shoujo&apos;, &apos;Slice of Life&apos;]</td><td>movie</td><td>1.0</td><td>9.54215</td><td>1.2696e-5</td><td>0.657149</td><td>0.0352804</td><td>6.80728</td><td>1.2696e-5</td><td>-8.885</td><td>1</td></tr><tr><th>2</th><td>34375</td><td>2707</td><td>Yuuki Yuuna wa Yuusha de Aru: Washio Sumi no Shou 2 - Tamashii</td><td>[&apos;Drama&apos;, &apos;Fantasy&apos;, &apos;Mahou Shoujo&apos;, &apos;Slice of Life&apos;]</td><td>movie</td><td>2.0</td><td>9.43584</td><td>1.30492e-5</td><td>0.779259</td><td>0.0298524</td><td>6.60721</td><td>1.30491e-5</td><td>-8.65658</td><td>1</td></tr><tr><th>3</th><td>34374</td><td>7098</td><td>Yuuki Yuuna wa Yuusha de Aru: Washio Sumi no Shou 1 - Tomodachi</td><td>[&apos;Drama&apos;, &apos;Fantasy&apos;, &apos;Mahou Shoujo&apos;, &apos;Slice of Life&apos;]</td><td>movie</td><td>7.0</td><td>8.9126</td><td>1.34939e-5</td><td>0.874233</td><td>0.0254956</td><td>6.29922</td><td>1.34938e-5</td><td>-8.03836</td><td>1</td></tr><tr><th>4</th><td>11979</td><td>14471</td><td>Mahou Shoujo Madoka★Magica Movie 2: Eien no Monogatari</td><td>[&apos;Drama&apos;, &apos;Mahou Shoujo&apos;, &apos;Psychological&apos;, &apos;Suspense&apos;]</td><td>movie</td><td>37.0</td><td>8.08621</td><td>0.000218622</td><td>0.689972</td><td>0.0189724</td><td>7.05945</td><td>0.000218622</td><td>-7.39623</td><td>1</td></tr><tr><th>5</th><td>29831</td><td>1773</td><td>Tamayura: Sotsugyou Shashin Part 4 - Ashita</td><td>[&apos;CGDCT&apos;, &apos;Comedy&apos;, &apos;Drama&apos;, &apos;Iyashikei&apos;, &apos;Slice of Life&apos;]</td><td>movie</td><td>32.0</td><td>8.17892</td><td>8.35052e-6</td><td>0.831202</td><td>0.0245061</td><td>7.18098</td><td>8.35044e-6</td><td>-7.34772</td><td>1</td></tr><tr><th>6</th><td>42984</td><td>8632</td><td>Gotcha!</td><td>[&apos;Fantasy&apos;, &apos;Music&apos;]</td><td>music</td><td>46.0</td><td>7.91574</td><td>4.62617e-5</td><td>0.657967</td><td>0.0222007</td><td>7.41328</td><td>4.62617e-5</td><td>-7.25777</td><td>1</td></tr><tr><th>7</th><td>38524</td><td>12753</td><td>Shingeki no Kyojin Season 3 Part 2</td><td>[&apos;Action&apos;, &apos;Drama&apos;, &apos;Gore&apos;, &apos;Military&apos;, &apos;Shounen&apos;, &apos;Survival&apos;]</td><td>tv</td><td>10.0</td><td>7.9787</td><td>0.00253456</td><td>0.726492</td><td>0.0562963</td><td>7.68329</td><td>0.00253456</td><td>-7.25221</td><td>1</td></tr><tr><th>8</th><td>5114</td><td>17079</td><td>Fullmetal Alchemist: Brotherhood</td><td>[&apos;Action&apos;, &apos;Adventure&apos;, &apos;Drama&apos;, &apos;Fantasy&apos;, &apos;Military&apos;, &apos;Shounen&apos;]</td><td>tv</td><td>4.0</td><td>8.16355</td><td>0.00308927</td><td>0.937534</td><td>0.0606551</td><td>7.62535</td><td>0.00308928</td><td>-7.22601</td><td>1</td></tr><tr><th>9</th><td>11977</td><td>11665</td><td>Mahou Shoujo Madoka★Magica Movie 1: Hajimari no Monogatari</td><td>[&apos;Drama&apos;, &apos;Mahou Shoujo&apos;, &apos;Psychological&apos;, &apos;Suspense&apos;]</td><td>movie</td><td>48.0</td><td>7.88379</td><td>0.000223415</td><td>0.706149</td><td>0.0188718</td><td>6.89739</td><td>0.000223415</td><td>-7.17764</td><td>1</td></tr><tr><th>10</th><td>29830</td><td>18700</td><td>Tamayura: Sotsugyou Shashin Part 3 - Akogare</td><td>[&apos;CGDCT&apos;, &apos;Comedy&apos;, &apos;Drama&apos;, &apos;Iyashikei&apos;, &apos;Slice of Life&apos;]</td><td>movie</td><td>51.0</td><td>7.85345</td><td>8.19285e-6</td><td>0.77844</td><td>0.0224714</td><td>6.82051</td><td>8.19277e-6</td><td>-7.07501</td><td>1</td></tr><tr><th>11</th><td>29829</td><td>19680</td><td>Tamayura: Sotsugyou Shashin Part 2 - Hibiki</td><td>[&apos;CGDCT&apos;, &apos;Comedy&apos;, &apos;Drama&apos;, &apos;Iyashikei&apos;, &apos;Slice of Life&apos;]</td><td>movie</td><td>53.0</td><td>7.82069</td><td>8.65957e-6</td><td>0.784772</td><td>0.0224714</td><td>6.7538</td><td>8.65948e-6</td><td>-7.03592</td><td>1</td></tr><tr><th>12</th><td>42587</td><td>13295</td><td>Yuuki Yuuna wa Yuusha de Aru: Dai Mankai no Shou</td><td>[&apos;Drama&apos;, &apos;Fantasy&apos;, &apos;Mahou Shoujo&apos;, &apos;Slice of Life&apos;]</td><td>tv</td><td>36.0</td><td>7.96017</td><td>1.62878e-5</td><td>0.935407</td><td>0.0245981</td><td>5.90612</td><td>1.62878e-5</td><td>-7.02477</td><td>1</td></tr><tr><th>13</th><td>48411</td><td>10158</td><td>Aria the Benedizione</td><td>[&apos;Fantasy&apos;, &apos;Iyashikei&apos;, &apos;Sci-Fi&apos;, &apos;Shounen&apos;, &apos;Slice of Life&apos;]</td><td>movie</td><td>132.0</td><td>7.77099</td><td>7.00173e-7</td><td>0.750391</td><td>0.00507811</td><td>6.88097</td><td>7.00075e-7</td><td>-7.0206</td><td>1</td></tr><tr><th>14</th><td>40028</td><td>5414</td><td>Shingeki no Kyojin: The Final Season</td><td>[&apos;Action&apos;, &apos;Drama&apos;, &apos;Gore&apos;, &apos;Military&apos;, &apos;Shounen&apos;, &apos;Survival&apos;]</td><td>tv</td><td>13.0</td><td>7.81089</td><td>0.00219663</td><td>0.794572</td><td>0.0569247</td><td>7.4072</td><td>0.00219663</td><td>-7.01632</td><td>1</td></tr><tr><th>15</th><td>28891</td><td>9157</td><td>Haikyuu!! Second Season</td><td>[&apos;School&apos;, &apos;Shounen&apos;, &apos;Sports&apos;, &apos;Team Sports&apos;]</td><td>tv</td><td>52.0</td><td>7.78005</td><td>0.0016207</td><td>0.764133</td><td>0.0166238</td><td>7.22776</td><td>0.0016207</td><td>-7.01591</td><td>1</td></tr><tr><th>16</th><td>38329</td><td>4161</td><td>Seishun Buta Yarou wa Yumemiru Shoujo no Yume wo Minai</td><td>[&apos;Drama&apos;, &apos;Romance&apos;, &apos;School&apos;, &apos;Supernatural&apos;]</td><td>movie</td><td>70.0</td><td>7.7295</td><td>0.00082299</td><td>0.789519</td><td>0.018921</td><td>7.2443</td><td>0.000822991</td><td>-6.93999</td><td>1</td></tr><tr><th>17</th><td>48583</td><td>18963</td><td>Shingeki no Kyojin: The Final Season Part 2</td><td>[&apos;Action&apos;, &apos;Drama&apos;, &apos;Gore&apos;, &apos;Military&apos;, &apos;Shounen&apos;, &apos;Survival&apos;]</td><td>tv</td><td>75.0</td><td>7.68086</td><td>0.0012622</td><td>0.746005</td><td>0.0165148</td><td>7.45514</td><td>0.00126221</td><td>-6.93485</td><td>1</td></tr><tr><th>18</th><td>32843</td><td>3602</td><td>Senki Zesshou Symphogear XV</td><td>[&apos;Action&apos;, &apos;Idols (Female)&apos;, &apos;Music&apos;, &apos;Sci-Fi&apos;]</td><td>tv</td><td>85.0</td><td>7.64439</td><td>3.1311e-5</td><td>0.81197</td><td>0.0186996</td><td>6.94163</td><td>3.1311e-5</td><td>-6.83242</td><td>1</td></tr><tr><th>19</th><td>32935</td><td>2448</td><td>Haikyuu!!: Karasuno Koukou vs. Shiratorizawa Gakuen Koukou</td><td>[&apos;School&apos;, &apos;Shounen&apos;, &apos;Sports&apos;, &apos;Team Sports&apos;]</td><td>tv</td><td>50.0</td><td>7.65925</td><td>0.00136979</td><td>0.829766</td><td>0.0283017</td><td>7.39082</td><td>0.00136979</td><td>-6.82948</td><td>1</td></tr><tr><th>20</th><td>399</td><td>6592</td><td>Seikai no Senki Special</td><td>[&apos;Action&apos;, &apos;Military&apos;, &apos;Romance&apos;, &apos;Sci-Fi&apos;, &apos;Space&apos;]</td><td>special</td><td>79.0</td><td>7.71724</td><td>3.47839e-6</td><td>0.922272</td><td>0.0143456</td><td>6.1576</td><td>3.4783e-6</td><td>-6.79497</td><td>1</td></tr><tr><th>21</th><td>31</td><td>17299</td><td>Neon Genesis Evangelion: Death &amp; Rebirth</td><td>[&apos;Drama&apos;, &apos;Mecha&apos;, &apos;Psychological&apos;, &apos;Sci-Fi&apos;]</td><td>movie</td><td>76.0</td><td>7.64961</td><td>0.000308174</td><td>0.904731</td><td>0.0183259</td><td>6.11667</td><td>0.000308175</td><td>-6.74488</td><td>1</td></tr><tr><th>22</th><td>2761</td><td>2129</td><td>Densetsu Kyojin Ideon: Hatsudou-hen</td><td>[&apos;Drama&apos;, &apos;Mecha&apos;, &apos;Sci-Fi&apos;, &apos;Space&apos;]</td><td>movie</td><td>150.0</td><td>7.53116</td><td>7.86804e-6</td><td>0.803151</td><td>0.0105131</td><td>7.34332</td><td>7.86796e-6</td><td>-6.72801</td><td>1</td></tr><tr><th>23</th><td>40776</td><td>8909</td><td>Haikyuu!! To the Top Part 2</td><td>[&apos;School&apos;, &apos;Shounen&apos;, &apos;Sports&apos;, &apos;Team Sports&apos;]</td><td>tv</td><td>92.0</td><td>7.38326</td><td>0.000873575</td><td>0.761762</td><td>0.0227915</td><td>7.15138</td><td>0.000873577</td><td>-6.6215</td><td>1</td></tr><tr><th>24</th><td>38883</td><td>14856</td><td>Haikyuu!! To the Top</td><td>[&apos;School&apos;, &apos;Shounen&apos;, &apos;Sports&apos;, &apos;Team Sports&apos;]</td><td>tv</td><td>89.0</td><td>7.40991</td><td>0.00104375</td><td>0.829151</td><td>0.0213088</td><td>6.96516</td><td>0.00104375</td><td>-6.58076</td><td>1</td></tr><tr><th>25</th><td>41361</td><td>3592</td><td>Eiga Daisuki Pompo-san (Movie)</td><td>[&apos;Comedy&apos;, &apos;Drama&apos;]</td><td>movie</td><td>179.0</td><td>7.37451</td><td>1.46133e-5</td><td>0.808303</td><td>0.0113197</td><td>7.18814</td><td>1.46133e-5</td><td>-6.56621</td><td>1</td></tr><tr><th>26</th><td>32836</td><td>20123</td><td>Senki Zesshou Symphogear AXZ</td><td>[&apos;Action&apos;, &apos;Idols (Female)&apos;, &apos;Music&apos;, &apos;Sci-Fi&apos;]</td><td>tv</td><td>90.0</td><td>7.46411</td><td>3.85041e-5</td><td>0.910852</td><td>0.0221687</td><td>6.29791</td><td>3.85041e-5</td><td>-6.55326</td><td>1</td></tr><tr><th>27</th><td>24997</td><td>10925</td><td>Love Live! The School Idol Movie</td><td>[&apos;Idols (Female)&apos;, &apos;Music&apos;, &apos;School&apos;, &apos;Slice of Life&apos;]</td><td>movie</td><td>68.0</td><td>7.43155</td><td>0.00016043</td><td>0.878554</td><td>0.035179</td><td>6.48038</td><td>0.000160431</td><td>-6.553</td><td>1</td></tr><tr><th>28</th><td>7616</td><td>5602</td><td>Michi (Movie)</td><td>[&apos;Drama&apos;, &apos;Slice of Life&apos;]</td><td>movie</td><td>5216.0</td><td>7.83477</td><td>8.16851e-7</td><td>1.28511</td><td>-0.000436878</td><td>7.66429</td><td>8.16754e-7</td><td>-6.54966</td><td>1</td></tr><tr><th>29</th><td>25729</td><td>10946</td><td>Tamayura: Sotsugyou Shashin Part 1 - Kizashi</td><td>[&apos;CGDCT&apos;, &apos;Comedy&apos;, &apos;Drama&apos;, &apos;Iyashikei&apos;, &apos;Slice of Life&apos;]</td><td>movie</td><td>115.0</td><td>7.38082</td><td>9.53939e-6</td><td>0.865831</td><td>0.0201025</td><td>6.52793</td><td>9.53931e-6</td><td>-6.51499</td><td>1</td></tr><tr><th>30</th><td>10050</td><td>9463</td><td>Macross F Music Clip Shuu: Nyankuri</td><td>[&apos;Music&apos;]</td><td>music</td><td>98.0</td><td>7.43774</td><td>5.7899e-6</td><td>0.924212</td><td>0.0200237</td><td>6.15198</td><td>5.78981e-6</td><td>-6.51353</td><td>1</td></tr><tr><th>31</th><td>33970</td><td>8707</td><td>Girls &amp; Panzer: Saishuushou Part 1</td><td>[&apos;Military&apos;, &apos;School&apos;]</td><td>movie</td><td>103.0</td><td>7.34289</td><td>4.89548e-5</td><td>0.847348</td><td>0.0240709</td><td>6.55526</td><td>4.89548e-5</td><td>-6.49554</td><td>1</td></tr><tr><th>32</th><td>17739</td><td>3879</td><td>Hidamari Sketch: Sae Hiro Sotsugyou-hen</td><td>[&apos;CGDCT&apos;, &apos;Comedy&apos;, &apos;Iyashikei&apos;, &apos;School&apos;, &apos;Seinen&apos;, &apos;Slice of Life&apos;, &apos;Visual Arts&apos;]</td><td>ova</td><td>199.0</td><td>7.27791</td><td>1.50958e-5</td><td>0.786519</td><td>0.0129226</td><td>7.16819</td><td>1.50958e-5</td><td>-6.49139</td><td>1</td></tr><tr><th>33</th><td>33486</td><td>19915</td><td>Boku no Hero Academia 2nd Season</td><td>[&apos;Action&apos;, &apos;School&apos;, &apos;Shounen&apos;, &apos;Super Power&apos;]</td><td>tv</td><td>54.0</td><td>7.14203</td><td>0.00294497</td><td>0.653479</td><td>0.032842</td><td>6.68712</td><td>0.00294497</td><td>-6.48856</td><td>1</td></tr><tr><th>34</th><td>35320</td><td>18944</td><td>Cardcaptor Sakura: Clear Card-hen Prologue - Sakura to Futatsu no Kuma</td><td>[&apos;Fantasy&apos;, &apos;Mahou Shoujo&apos;, &apos;Romance&apos;, &apos;Shoujo&apos;]</td><td>ova</td><td>96.0</td><td>7.35021</td><td>4.76713e-5</td><td>0.884284</td><td>0.0257949</td><td>6.44418</td><td>4.76713e-5</td><td>-6.46593</td><td>1</td></tr><tr><th>35</th><td>4454</td><td>17352</td><td>Macross F: Close Encounter - Deculture Edition</td><td>[&apos;Action&apos;, &apos;Mecha&apos;, &apos;Military&apos;, &apos;Music&apos;, &apos;Sci-Fi&apos;, &apos;Space&apos;]</td><td>special</td><td>120.0</td><td>7.35927</td><td>1.62784e-5</td><td>0.901008</td><td>0.0209316</td><td>6.4429</td><td>1.62783e-5</td><td>-6.45826</td><td>1</td></tr><tr><th>36</th><td>1381</td><td>16641</td><td>Seikai no Monshou Special</td><td>[&apos;Action&apos;, &apos;Military&apos;, &apos;Romance&apos;, &apos;Sci-Fi&apos;, &apos;Space&apos;]</td><td>special</td><td>141.0</td><td>7.39943</td><td>3.82528e-6</td><td>0.943023</td><td>0.0126146</td><td>6.02758</td><td>3.82518e-6</td><td>-6.45641</td><td>1</td></tr><tr><th>37</th><td>19111</td><td>15311</td><td>Love Live! School Idol Project 2nd Season</td><td>[&apos;Idols (Female)&apos;, &apos;Music&apos;, &apos;School&apos;, &apos;Slice of Life&apos;]</td><td>tv</td><td>114.0</td><td>7.35686</td><td>0.000328063</td><td>0.904472</td><td>0.0187381</td><td>6.31284</td><td>0.000328064</td><td>-6.45239</td><td>1</td></tr><tr><th>38</th><td>371</td><td>7437</td><td>Cardcaptor Sakura Movie 1</td><td>[&apos;Comedy&apos;, &apos;Drama&apos;, &apos;Fantasy&apos;, &apos;Mahou Shoujo&apos;, &apos;Shoujo&apos;]</td><td>movie</td><td>73.0</td><td>7.37597</td><td>0.000130034</td><td>0.927517</td><td>0.0338171</td><td>6.09244</td><td>0.000130034</td><td>-6.44845</td><td>1</td></tr><tr><th>39</th><td>1065</td><td>2038</td><td>Touch</td><td>[&apos;Drama&apos;, &apos;Love Polygon&apos;, &apos;Romance&apos;, &apos;School&apos;, &apos;Shounen&apos;, &apos;Slice of Life&apos;, &apos;Sports&apos;, &apos;Team Sports&apos;]</td><td>tv</td><td>170.0</td><td>7.27102</td><td>2.62749e-5</td><td>0.823328</td><td>0.0167814</td><td>6.90687</td><td>2.62749e-5</td><td>-6.44769</td><td>1</td></tr><tr><th>40</th><td>136</td><td>18634</td><td>Hunter x Hunter</td><td>[&apos;Action&apos;, &apos;Adventure&apos;, &apos;Fantasy&apos;, &apos;Shounen&apos;]</td><td>tv</td><td>178.0</td><td>7.07282</td><td>0.000520025</td><td>0.644978</td><td>0.0171897</td><td>6.88883</td><td>0.000520026</td><td>-6.42784</td><td>1</td></tr><tr><th>41</th><td>33221</td><td>5814</td><td>Mobile Suit Gundam Thunderbolt: December Sky</td><td>[&apos;Action&apos;, &apos;Drama&apos;, &apos;Mecha&apos;, &apos;Military&apos;, &apos;Sci-Fi&apos;, &apos;Space&apos;]</td><td>movie</td><td>211.0</td><td>7.21622</td><td>2.60037e-5</td><td>0.788788</td><td>0.0131738</td><td>6.91242</td><td>2.60037e-5</td><td>-6.42743</td><td>1</td></tr><tr><th>42</th><td>6862</td><td>2353</td><td>K-On!: Live House!</td><td>[&apos;CGDCT&apos;, &apos;Comedy&apos;, &apos;Music&apos;, &apos;School&apos;]</td><td>special</td><td>123.0</td><td>7.32037</td><td>0.000238627</td><td>0.894138</td><td>0.0200611</td><td>6.43085</td><td>0.000238628</td><td>-6.42623</td><td>1</td></tr><tr><th>43</th><td>36990</td><td>15848</td><td>Non Non Biyori Movie: Vacation</td><td>[&apos;CGDCT&apos;, &apos;Iyashikei&apos;, &apos;Seinen&apos;, &apos;Slice of Life&apos;]</td><td>movie</td><td>212.0</td><td>7.12738</td><td>7.96508e-5</td><td>0.706327</td><td>0.0155538</td><td>6.94694</td><td>7.96508e-5</td><td>-6.42105</td><td>1</td></tr><tr><th>44</th><td>42941</td><td>9316</td><td>Uma Musume: Pretty Derby (TV) Season 2</td><td>[&apos;Anthropomorphic&apos;, &apos;Sports&apos;]</td><td>tv</td><td>137.0</td><td>7.24847</td><td>4.73307e-5</td><td>0.827636</td><td>0.022034</td><td>6.61651</td><td>4.73307e-5</td><td>-6.42083</td><td>1</td></tr><tr><th>45</th><td>18617</td><td>17959</td><td>Girls &amp; Panzer Movie</td><td>[&apos;Military&apos;, &apos;School&apos;, &apos;Sports&apos;]</td><td>movie</td><td>146.0</td><td>7.23982</td><td>0.000119126</td><td>0.829314</td><td>0.0216584</td><td>6.76544</td><td>0.000119126</td><td>-6.4105</td><td>1</td></tr><tr><th>46</th><td>9735</td><td>16789</td><td>Gintama: Shinyaku Benizakura-hen</td><td>[&apos;Action&apos;, &apos;Comedy&apos;, &apos;Historical&apos;, &apos;Parody&apos;, &apos;Samurai&apos;, &apos;Sci-Fi&apos;, &apos;Shounen&apos;]</td><td>special</td><td>271.0</td><td>7.09731</td><td>4.44327e-5</td><td>0.695965</td><td>0.0111844</td><td>6.98621</td><td>4.44327e-5</td><td>-6.40134</td><td>1</td></tr><tr><th>47</th><td>16498</td><td>7644</td><td>Shingeki no Kyojin</td><td>[&apos;Action&apos;, &apos;Drama&apos;, &apos;Gore&apos;, &apos;Military&apos;, &apos;Shounen&apos;, &apos;Survival&apos;]</td><td>tv</td><td>63.0</td><td>7.27143</td><td>0.00424122</td><td>0.870262</td><td>0.0221567</td><td>7.04385</td><td>0.00424123</td><td>-6.40116</td><td>1</td></tr><tr><th>48</th><td>10863</td><td>15741</td><td>Steins;Gate: Oukoubakko no Poriomania</td><td>[&apos;Comedy&apos;, &apos;Sci-Fi&apos;, &apos;Time Travel&apos;]</td><td>special</td><td>160.0</td><td>7.11197</td><td>0.000612993</td><td>0.716493</td><td>0.0198489</td><td>6.95851</td><td>0.000612994</td><td>-6.39548</td><td>1</td></tr><tr><th>49</th><td>9734</td><td>15229</td><td>K-On!!: Keikaku!</td><td>[&apos;CGDCT&apos;, &apos;Comedy&apos;, &apos;Music&apos;, &apos;School&apos;, &apos;Slice of Life&apos;]</td><td>special</td><td>84.0</td><td>7.26748</td><td>0.000176264</td><td>0.874094</td><td>0.034906</td><td>6.45821</td><td>0.000176264</td><td>-6.39339</td><td>1</td></tr><tr><th>50</th><td>35466</td><td>11518</td><td>ReLIFE: Kanketsu-hen</td><td>[&apos;Romance&apos;, &apos;School&apos;, &apos;Slice of Life&apos;]</td><td>special</td><td>183.0</td><td>7.04552</td><td>0.0004639</td><td>0.659505</td><td>0.0176283</td><td>6.81194</td><td>0.0004639</td><td>-6.38601</td><td>1</td></tr><tr><th>&vellip;</th><td>&vellip;</td><td>&vellip;</td><td>&vellip;</td><td>&vellip;</td><td>&vellip;</td><td>&vellip;</td><td>&vellip;</td><td>&vellip;</td><td>&vellip;</td><td>&vellip;</td><td>&vellip;</td><td>&vellip;</td><td>&vellip;</td><td>&vellip;</td></tr></tbody></table></div>"
      ],
      "text/latex": [
       "\\begin{tabular}{r|cccccccccccccc}\n",
       "\t& anime\\_id & uid & title & genres & medium & ranking & explicit & implicit & error\\_explicit & error\\_implicit & baseline\\_explicit & baseline\\_implicit & score & display\\\\\n",
       "\t\\hline\n",
       "\t& Int64 & Int64 & String & String & String7 & Float32 & Float32 & Float32 & Float32 & Float32 & Float32 & Float32 & Float32 & Bool\\\\\n",
       "\t\\hline\n",
       "\t1 & 34376 & 1289 & Yuuki Yuuna wa Yuusha de Aru: Washio Sumi no Shou 3 - Yakusoku & ['Drama', 'Fantasy', 'Mahou Shoujo', 'Slice of Life'] & movie & 1.0 & 9.54215 & 1.2696e-5 & 0.657149 & 0.0352804 & 6.80728 & 1.2696e-5 & -8.885 & 1 \\\\\n",
       "\t2 & 34375 & 2707 & Yuuki Yuuna wa Yuusha de Aru: Washio Sumi no Shou 2 - Tamashii & ['Drama', 'Fantasy', 'Mahou Shoujo', 'Slice of Life'] & movie & 2.0 & 9.43584 & 1.30492e-5 & 0.779259 & 0.0298524 & 6.60721 & 1.30491e-5 & -8.65658 & 1 \\\\\n",
       "\t3 & 34374 & 7098 & Yuuki Yuuna wa Yuusha de Aru: Washio Sumi no Shou 1 - Tomodachi & ['Drama', 'Fantasy', 'Mahou Shoujo', 'Slice of Life'] & movie & 7.0 & 8.9126 & 1.34939e-5 & 0.874233 & 0.0254956 & 6.29922 & 1.34938e-5 & -8.03836 & 1 \\\\\n",
       "\t4 & 11979 & 14471 & Mahou Shoujo Madoka★Magica Movie 2: Eien no Monogatari & ['Drama', 'Mahou Shoujo', 'Psychological', 'Suspense'] & movie & 37.0 & 8.08621 & 0.000218622 & 0.689972 & 0.0189724 & 7.05945 & 0.000218622 & -7.39623 & 1 \\\\\n",
       "\t5 & 29831 & 1773 & Tamayura: Sotsugyou Shashin Part 4 - Ashita & ['CGDCT', 'Comedy', 'Drama', 'Iyashikei', 'Slice of Life'] & movie & 32.0 & 8.17892 & 8.35052e-6 & 0.831202 & 0.0245061 & 7.18098 & 8.35044e-6 & -7.34772 & 1 \\\\\n",
       "\t6 & 42984 & 8632 & Gotcha! & ['Fantasy', 'Music'] & music & 46.0 & 7.91574 & 4.62617e-5 & 0.657967 & 0.0222007 & 7.41328 & 4.62617e-5 & -7.25777 & 1 \\\\\n",
       "\t7 & 38524 & 12753 & Shingeki no Kyojin Season 3 Part 2 & ['Action', 'Drama', 'Gore', 'Military', 'Shounen', 'Survival'] & tv & 10.0 & 7.9787 & 0.00253456 & 0.726492 & 0.0562963 & 7.68329 & 0.00253456 & -7.25221 & 1 \\\\\n",
       "\t8 & 5114 & 17079 & Fullmetal Alchemist: Brotherhood & ['Action', 'Adventure', 'Drama', 'Fantasy', 'Military', 'Shounen'] & tv & 4.0 & 8.16355 & 0.00308927 & 0.937534 & 0.0606551 & 7.62535 & 0.00308928 & -7.22601 & 1 \\\\\n",
       "\t9 & 11977 & 11665 & Mahou Shoujo Madoka★Magica Movie 1: Hajimari no Monogatari & ['Drama', 'Mahou Shoujo', 'Psychological', 'Suspense'] & movie & 48.0 & 7.88379 & 0.000223415 & 0.706149 & 0.0188718 & 6.89739 & 0.000223415 & -7.17764 & 1 \\\\\n",
       "\t10 & 29830 & 18700 & Tamayura: Sotsugyou Shashin Part 3 - Akogare & ['CGDCT', 'Comedy', 'Drama', 'Iyashikei', 'Slice of Life'] & movie & 51.0 & 7.85345 & 8.19285e-6 & 0.77844 & 0.0224714 & 6.82051 & 8.19277e-6 & -7.07501 & 1 \\\\\n",
       "\t11 & 29829 & 19680 & Tamayura: Sotsugyou Shashin Part 2 - Hibiki & ['CGDCT', 'Comedy', 'Drama', 'Iyashikei', 'Slice of Life'] & movie & 53.0 & 7.82069 & 8.65957e-6 & 0.784772 & 0.0224714 & 6.7538 & 8.65948e-6 & -7.03592 & 1 \\\\\n",
       "\t12 & 42587 & 13295 & Yuuki Yuuna wa Yuusha de Aru: Dai Mankai no Shou & ['Drama', 'Fantasy', 'Mahou Shoujo', 'Slice of Life'] & tv & 36.0 & 7.96017 & 1.62878e-5 & 0.935407 & 0.0245981 & 5.90612 & 1.62878e-5 & -7.02477 & 1 \\\\\n",
       "\t13 & 48411 & 10158 & Aria the Benedizione & ['Fantasy', 'Iyashikei', 'Sci-Fi', 'Shounen', 'Slice of Life'] & movie & 132.0 & 7.77099 & 7.00173e-7 & 0.750391 & 0.00507811 & 6.88097 & 7.00075e-7 & -7.0206 & 1 \\\\\n",
       "\t14 & 40028 & 5414 & Shingeki no Kyojin: The Final Season & ['Action', 'Drama', 'Gore', 'Military', 'Shounen', 'Survival'] & tv & 13.0 & 7.81089 & 0.00219663 & 0.794572 & 0.0569247 & 7.4072 & 0.00219663 & -7.01632 & 1 \\\\\n",
       "\t15 & 28891 & 9157 & Haikyuu!! Second Season & ['School', 'Shounen', 'Sports', 'Team Sports'] & tv & 52.0 & 7.78005 & 0.0016207 & 0.764133 & 0.0166238 & 7.22776 & 0.0016207 & -7.01591 & 1 \\\\\n",
       "\t16 & 38329 & 4161 & Seishun Buta Yarou wa Yumemiru Shoujo no Yume wo Minai & ['Drama', 'Romance', 'School', 'Supernatural'] & movie & 70.0 & 7.7295 & 0.00082299 & 0.789519 & 0.018921 & 7.2443 & 0.000822991 & -6.93999 & 1 \\\\\n",
       "\t17 & 48583 & 18963 & Shingeki no Kyojin: The Final Season Part 2 & ['Action', 'Drama', 'Gore', 'Military', 'Shounen', 'Survival'] & tv & 75.0 & 7.68086 & 0.0012622 & 0.746005 & 0.0165148 & 7.45514 & 0.00126221 & -6.93485 & 1 \\\\\n",
       "\t18 & 32843 & 3602 & Senki Zesshou Symphogear XV & ['Action', 'Idols (Female)', 'Music', 'Sci-Fi'] & tv & 85.0 & 7.64439 & 3.1311e-5 & 0.81197 & 0.0186996 & 6.94163 & 3.1311e-5 & -6.83242 & 1 \\\\\n",
       "\t19 & 32935 & 2448 & Haikyuu!!: Karasuno Koukou vs. Shiratorizawa Gakuen Koukou & ['School', 'Shounen', 'Sports', 'Team Sports'] & tv & 50.0 & 7.65925 & 0.00136979 & 0.829766 & 0.0283017 & 7.39082 & 0.00136979 & -6.82948 & 1 \\\\\n",
       "\t20 & 399 & 6592 & Seikai no Senki Special & ['Action', 'Military', 'Romance', 'Sci-Fi', 'Space'] & special & 79.0 & 7.71724 & 3.47839e-6 & 0.922272 & 0.0143456 & 6.1576 & 3.4783e-6 & -6.79497 & 1 \\\\\n",
       "\t21 & 31 & 17299 & Neon Genesis Evangelion: Death \\& Rebirth & ['Drama', 'Mecha', 'Psychological', 'Sci-Fi'] & movie & 76.0 & 7.64961 & 0.000308174 & 0.904731 & 0.0183259 & 6.11667 & 0.000308175 & -6.74488 & 1 \\\\\n",
       "\t22 & 2761 & 2129 & Densetsu Kyojin Ideon: Hatsudou-hen & ['Drama', 'Mecha', 'Sci-Fi', 'Space'] & movie & 150.0 & 7.53116 & 7.86804e-6 & 0.803151 & 0.0105131 & 7.34332 & 7.86796e-6 & -6.72801 & 1 \\\\\n",
       "\t23 & 40776 & 8909 & Haikyuu!! To the Top Part 2 & ['School', 'Shounen', 'Sports', 'Team Sports'] & tv & 92.0 & 7.38326 & 0.000873575 & 0.761762 & 0.0227915 & 7.15138 & 0.000873577 & -6.6215 & 1 \\\\\n",
       "\t24 & 38883 & 14856 & Haikyuu!! To the Top & ['School', 'Shounen', 'Sports', 'Team Sports'] & tv & 89.0 & 7.40991 & 0.00104375 & 0.829151 & 0.0213088 & 6.96516 & 0.00104375 & -6.58076 & 1 \\\\\n",
       "\t25 & 41361 & 3592 & Eiga Daisuki Pompo-san (Movie) & ['Comedy', 'Drama'] & movie & 179.0 & 7.37451 & 1.46133e-5 & 0.808303 & 0.0113197 & 7.18814 & 1.46133e-5 & -6.56621 & 1 \\\\\n",
       "\t26 & 32836 & 20123 & Senki Zesshou Symphogear AXZ & ['Action', 'Idols (Female)', 'Music', 'Sci-Fi'] & tv & 90.0 & 7.46411 & 3.85041e-5 & 0.910852 & 0.0221687 & 6.29791 & 3.85041e-5 & -6.55326 & 1 \\\\\n",
       "\t27 & 24997 & 10925 & Love Live! The School Idol Movie & ['Idols (Female)', 'Music', 'School', 'Slice of Life'] & movie & 68.0 & 7.43155 & 0.00016043 & 0.878554 & 0.035179 & 6.48038 & 0.000160431 & -6.553 & 1 \\\\\n",
       "\t28 & 7616 & 5602 & Michi (Movie) & ['Drama', 'Slice of Life'] & movie & 5216.0 & 7.83477 & 8.16851e-7 & 1.28511 & -0.000436878 & 7.66429 & 8.16754e-7 & -6.54966 & 1 \\\\\n",
       "\t29 & 25729 & 10946 & Tamayura: Sotsugyou Shashin Part 1 - Kizashi & ['CGDCT', 'Comedy', 'Drama', 'Iyashikei', 'Slice of Life'] & movie & 115.0 & 7.38082 & 9.53939e-6 & 0.865831 & 0.0201025 & 6.52793 & 9.53931e-6 & -6.51499 & 1 \\\\\n",
       "\t30 & 10050 & 9463 & Macross F Music Clip Shuu: Nyankuri & ['Music'] & music & 98.0 & 7.43774 & 5.7899e-6 & 0.924212 & 0.0200237 & 6.15198 & 5.78981e-6 & -6.51353 & 1 \\\\\n",
       "\t31 & 33970 & 8707 & Girls \\& Panzer: Saishuushou Part 1 & ['Military', 'School'] & movie & 103.0 & 7.34289 & 4.89548e-5 & 0.847348 & 0.0240709 & 6.55526 & 4.89548e-5 & -6.49554 & 1 \\\\\n",
       "\t32 & 17739 & 3879 & Hidamari Sketch: Sae Hiro Sotsugyou-hen & ['CGDCT', 'Comedy', 'Iyashikei', 'School', 'Seinen', 'Slice of Life', 'Visual Arts'] & ova & 199.0 & 7.27791 & 1.50958e-5 & 0.786519 & 0.0129226 & 7.16819 & 1.50958e-5 & -6.49139 & 1 \\\\\n",
       "\t33 & 33486 & 19915 & Boku no Hero Academia 2nd Season & ['Action', 'School', 'Shounen', 'Super Power'] & tv & 54.0 & 7.14203 & 0.00294497 & 0.653479 & 0.032842 & 6.68712 & 0.00294497 & -6.48856 & 1 \\\\\n",
       "\t34 & 35320 & 18944 & Cardcaptor Sakura: Clear Card-hen Prologue - Sakura to Futatsu no Kuma & ['Fantasy', 'Mahou Shoujo', 'Romance', 'Shoujo'] & ova & 96.0 & 7.35021 & 4.76713e-5 & 0.884284 & 0.0257949 & 6.44418 & 4.76713e-5 & -6.46593 & 1 \\\\\n",
       "\t35 & 4454 & 17352 & Macross F: Close Encounter - Deculture Edition & ['Action', 'Mecha', 'Military', 'Music', 'Sci-Fi', 'Space'] & special & 120.0 & 7.35927 & 1.62784e-5 & 0.901008 & 0.0209316 & 6.4429 & 1.62783e-5 & -6.45826 & 1 \\\\\n",
       "\t36 & 1381 & 16641 & Seikai no Monshou Special & ['Action', 'Military', 'Romance', 'Sci-Fi', 'Space'] & special & 141.0 & 7.39943 & 3.82528e-6 & 0.943023 & 0.0126146 & 6.02758 & 3.82518e-6 & -6.45641 & 1 \\\\\n",
       "\t37 & 19111 & 15311 & Love Live! School Idol Project 2nd Season & ['Idols (Female)', 'Music', 'School', 'Slice of Life'] & tv & 114.0 & 7.35686 & 0.000328063 & 0.904472 & 0.0187381 & 6.31284 & 0.000328064 & -6.45239 & 1 \\\\\n",
       "\t38 & 371 & 7437 & Cardcaptor Sakura Movie 1 & ['Comedy', 'Drama', 'Fantasy', 'Mahou Shoujo', 'Shoujo'] & movie & 73.0 & 7.37597 & 0.000130034 & 0.927517 & 0.0338171 & 6.09244 & 0.000130034 & -6.44845 & 1 \\\\\n",
       "\t39 & 1065 & 2038 & Touch & ['Drama', 'Love Polygon', 'Romance', 'School', 'Shounen', 'Slice of Life', 'Sports', 'Team Sports'] & tv & 170.0 & 7.27102 & 2.62749e-5 & 0.823328 & 0.0167814 & 6.90687 & 2.62749e-5 & -6.44769 & 1 \\\\\n",
       "\t40 & 136 & 18634 & Hunter x Hunter & ['Action', 'Adventure', 'Fantasy', 'Shounen'] & tv & 178.0 & 7.07282 & 0.000520025 & 0.644978 & 0.0171897 & 6.88883 & 0.000520026 & -6.42784 & 1 \\\\\n",
       "\t41 & 33221 & 5814 & Mobile Suit Gundam Thunderbolt: December Sky & ['Action', 'Drama', 'Mecha', 'Military', 'Sci-Fi', 'Space'] & movie & 211.0 & 7.21622 & 2.60037e-5 & 0.788788 & 0.0131738 & 6.91242 & 2.60037e-5 & -6.42743 & 1 \\\\\n",
       "\t42 & 6862 & 2353 & K-On!: Live House! & ['CGDCT', 'Comedy', 'Music', 'School'] & special & 123.0 & 7.32037 & 0.000238627 & 0.894138 & 0.0200611 & 6.43085 & 0.000238628 & -6.42623 & 1 \\\\\n",
       "\t43 & 36990 & 15848 & Non Non Biyori Movie: Vacation & ['CGDCT', 'Iyashikei', 'Seinen', 'Slice of Life'] & movie & 212.0 & 7.12738 & 7.96508e-5 & 0.706327 & 0.0155538 & 6.94694 & 7.96508e-5 & -6.42105 & 1 \\\\\n",
       "\t44 & 42941 & 9316 & Uma Musume: Pretty Derby (TV) Season 2 & ['Anthropomorphic', 'Sports'] & tv & 137.0 & 7.24847 & 4.73307e-5 & 0.827636 & 0.022034 & 6.61651 & 4.73307e-5 & -6.42083 & 1 \\\\\n",
       "\t45 & 18617 & 17959 & Girls \\& Panzer Movie & ['Military', 'School', 'Sports'] & movie & 146.0 & 7.23982 & 0.000119126 & 0.829314 & 0.0216584 & 6.76544 & 0.000119126 & -6.4105 & 1 \\\\\n",
       "\t46 & 9735 & 16789 & Gintama: Shinyaku Benizakura-hen & ['Action', 'Comedy', 'Historical', 'Parody', 'Samurai', 'Sci-Fi', 'Shounen'] & special & 271.0 & 7.09731 & 4.44327e-5 & 0.695965 & 0.0111844 & 6.98621 & 4.44327e-5 & -6.40134 & 1 \\\\\n",
       "\t47 & 16498 & 7644 & Shingeki no Kyojin & ['Action', 'Drama', 'Gore', 'Military', 'Shounen', 'Survival'] & tv & 63.0 & 7.27143 & 0.00424122 & 0.870262 & 0.0221567 & 7.04385 & 0.00424123 & -6.40116 & 1 \\\\\n",
       "\t48 & 10863 & 15741 & Steins;Gate: Oukoubakko no Poriomania & ['Comedy', 'Sci-Fi', 'Time Travel'] & special & 160.0 & 7.11197 & 0.000612993 & 0.716493 & 0.0198489 & 6.95851 & 0.000612994 & -6.39548 & 1 \\\\\n",
       "\t49 & 9734 & 15229 & K-On!!: Keikaku! & ['CGDCT', 'Comedy', 'Music', 'School', 'Slice of Life'] & special & 84.0 & 7.26748 & 0.000176264 & 0.874094 & 0.034906 & 6.45821 & 0.000176264 & -6.39339 & 1 \\\\\n",
       "\t50 & 35466 & 11518 & ReLIFE: Kanketsu-hen & ['Romance', 'School', 'Slice of Life'] & special & 183.0 & 7.04552 & 0.0004639 & 0.659505 & 0.0176283 & 6.81194 & 0.0004639 & -6.38601 & 1 \\\\\n",
       "\t$\\dots$ & $\\dots$ & $\\dots$ & $\\dots$ & $\\dots$ & $\\dots$ & $\\dots$ & $\\dots$ & $\\dots$ & $\\dots$ & $\\dots$ & $\\dots$ & $\\dots$ & $\\dots$ & $\\dots$ \\\\\n",
       "\\end{tabular}\n"
      ],
      "text/plain": [
       "\u001b[1m1245×14 DataFrame\u001b[0m\n",
       "\u001b[1m  Row \u001b[0m│\u001b[1m anime_id \u001b[0m\u001b[1m uid   \u001b[0m\u001b[1m title                             \u001b[0m\u001b[1m genres                            \u001b[0m\u001b[1m medium  \u001b[0m\u001b[1m ranking \u001b[0m\u001b[1m explicit \u001b[0m\u001b[1m implicit    \u001b[0m\u001b[1m error_explicit \u001b[0m\u001b[1m error_implicit \u001b[0m\u001b[1m baseline_explicit \u001b[0m\u001b[1m baseline_implicit \u001b[0m\u001b[1m score     \u001b[0m\u001b[1m display \u001b[0m\n",
       "\u001b[1m      \u001b[0m│\u001b[90m Int64    \u001b[0m\u001b[90m Int64 \u001b[0m\u001b[90m String                            \u001b[0m\u001b[90m String                            \u001b[0m\u001b[90m String7 \u001b[0m\u001b[90m Float32 \u001b[0m\u001b[90m Float32  \u001b[0m\u001b[90m Float32     \u001b[0m\u001b[90m Float32        \u001b[0m\u001b[90m Float32        \u001b[0m\u001b[90m Float32           \u001b[0m\u001b[90m Float32           \u001b[0m\u001b[90m Float32   \u001b[0m\u001b[90m Bool    \u001b[0m\n",
       "──────┼──────────────────────────────────────────────────────────────────────────────────────────────────────────────────────────────────────────────────────────────────────────────────────────────────────────────────────────\n",
       "    1 │    34376   1289  Yuuki Yuuna wa Yuusha de Aru: Wa…  ['Drama', 'Fantasy', 'Mahou Shou…  movie        1.0   9.54215  1.2696e-5          0.657149     0.0352804              6.80728        1.2696e-5    -8.885        true\n",
       "    2 │    34375   2707  Yuuki Yuuna wa Yuusha de Aru: Wa…  ['Drama', 'Fantasy', 'Mahou Shou…  movie        2.0   9.43584  1.30492e-5         0.779259     0.0298524              6.60721        1.30491e-5   -8.65658      true\n",
       "    3 │    34374   7098  Yuuki Yuuna wa Yuusha de Aru: Wa…  ['Drama', 'Fantasy', 'Mahou Shou…  movie        7.0   8.9126   1.34939e-5         0.874233     0.0254956              6.29922        1.34938e-5   -8.03836      true\n",
       "    4 │    11979  14471  Mahou Shoujo Madoka★Magica Movie…  ['Drama', 'Mahou Shoujo', 'Psych…  movie       37.0   8.08621  0.000218622        0.689972     0.0189724              7.05945        0.000218622  -7.39623      true\n",
       "    5 │    29831   1773  Tamayura: Sotsugyou Shashin Part…  ['CGDCT', 'Comedy', 'Drama', 'Iy…  movie       32.0   8.17892  8.35052e-6         0.831202     0.0245061              7.18098        8.35044e-6   -7.34772      true\n",
       "    6 │    42984   8632  Gotcha!                            ['Fantasy', 'Music']               music       46.0   7.91574  4.62617e-5         0.657967     0.0222007              7.41328        4.62617e-5   -7.25777      true\n",
       "    7 │    38524  12753  Shingeki no Kyojin Season 3 Part…  ['Action', 'Drama', 'Gore', 'Mil…  tv          10.0   7.9787   0.00253456         0.726492     0.0562963              7.68329        0.00253456   -7.25221      true\n",
       "    8 │     5114  17079  Fullmetal Alchemist: Brotherhood   ['Action', 'Adventure', 'Drama',…  tv           4.0   8.16355  0.00308927         0.937534     0.0606551              7.62535        0.00308928   -7.22601      true\n",
       "    9 │    11977  11665  Mahou Shoujo Madoka★Magica Movie…  ['Drama', 'Mahou Shoujo', 'Psych…  movie       48.0   7.88379  0.000223415        0.706149     0.0188718              6.89739        0.000223415  -7.17764      true\n",
       "   10 │    29830  18700  Tamayura: Sotsugyou Shashin Part…  ['CGDCT', 'Comedy', 'Drama', 'Iy…  movie       51.0   7.85345  8.19285e-6         0.77844      0.0224714              6.82051        8.19277e-6   -7.07501      true\n",
       "   11 │    29829  19680  Tamayura: Sotsugyou Shashin Part…  ['CGDCT', 'Comedy', 'Drama', 'Iy…  movie       53.0   7.82069  8.65957e-6         0.784772     0.0224714              6.7538         8.65948e-6   -7.03592      true\n",
       "   12 │    42587  13295  Yuuki Yuuna wa Yuusha de Aru: Da…  ['Drama', 'Fantasy', 'Mahou Shou…  tv          36.0   7.96017  1.62878e-5         0.935407     0.0245981              5.90612        1.62878e-5   -7.02477      true\n",
       "   13 │    48411  10158  Aria the Benedizione               ['Fantasy', 'Iyashikei', 'Sci-Fi…  movie      132.0   7.77099  7.00173e-7         0.750391     0.00507811             6.88097        7.00075e-7   -7.0206       true\n",
       "   14 │    40028   5414  Shingeki no Kyojin: The Final Se…  ['Action', 'Drama', 'Gore', 'Mil…  tv          13.0   7.81089  0.00219663         0.794572     0.0569247              7.4072         0.00219663   -7.01632      true\n",
       "   15 │    28891   9157  Haikyuu!! Second Season            ['School', 'Shounen', 'Sports', …  tv          52.0   7.78005  0.0016207          0.764133     0.0166238              7.22776        0.0016207    -7.01591      true\n",
       "   16 │    38329   4161  Seishun Buta Yarou wa Yumemiru S…  ['Drama', 'Romance', 'School', '…  movie       70.0   7.7295   0.00082299         0.789519     0.018921               7.2443         0.000822991  -6.93999      true\n",
       "   17 │    48583  18963  Shingeki no Kyojin: The Final Se…  ['Action', 'Drama', 'Gore', 'Mil…  tv          75.0   7.68086  0.0012622          0.746005     0.0165148              7.45514        0.00126221   -6.93485      true\n",
       "   18 │    32843   3602  Senki Zesshou Symphogear XV        ['Action', 'Idols (Female)', 'Mu…  tv          85.0   7.64439  3.1311e-5          0.81197      0.0186996              6.94163        3.1311e-5    -6.83242      true\n",
       "   19 │    32935   2448  Haikyuu!!: Karasuno Koukou vs. S…  ['School', 'Shounen', 'Sports', …  tv          50.0   7.65925  0.00136979         0.829766     0.0283017              7.39082        0.00136979   -6.82948      true\n",
       "   20 │      399   6592  Seikai no Senki Special            ['Action', 'Military', 'Romance'…  special     79.0   7.71724  3.47839e-6         0.922272     0.0143456              6.1576         3.4783e-6    -6.79497      true\n",
       "   21 │       31  17299  Neon Genesis Evangelion: Death &…  ['Drama', 'Mecha', 'Psychologica…  movie       76.0   7.64961  0.000308174        0.904731     0.0183259              6.11667        0.000308175  -6.74488      true\n",
       "  ⋮   │    ⋮        ⋮                    ⋮                                  ⋮                     ⋮        ⋮        ⋮           ⋮             ⋮               ⋮                 ⋮                  ⋮              ⋮         ⋮\n",
       " 1226 │    41379  13983  Kimi wa Kanata                     ['Drama', 'Fantasy', 'Isekai']     movie    20339.0   4.66599  2.83247e-5         3.59362      0.00238663             4.23904        2.83246e-5   -1.07237      true\n",
       " 1227 │     1585  15870  Spectral Force                     ['Fantasy', 'Mythology']           ova      10077.0   2.72165  2.42828e-6         1.65657      0.000400237            2.57279        2.42819e-6   -1.06509      true\n",
       " 1228 │    34060  13809  Dead World                         ['Horror']                         ona       9748.0   2.71672  2.95807e-6         1.65657      0.000480046            2.56783        2.95797e-6   -1.06016      true\n",
       " 1229 │    31686  18578  Shigeru                            ['Avant Garde', 'Comedy']          ona       9747.0   2.71111  2.79093e-6         1.65657      0.000480046            2.56219        2.79084e-6   -1.05454      true\n",
       " 1230 │    29617   2517  Good-by Elvis and USA              ['Avant Garde', 'Music']           movie    10076.0   2.39185  2.37467e-6         1.35314      0.000400237            2.24143        2.37458e-6   -1.03872      true\n",
       " 1231 │     7900   3322  Super Child                        ['Action', 'Adventure', 'Sci-Fi']  movie    12010.0   2.31818  1.42863e-6         1.29        -0.000150255            2.1736         1.42853e-6   -1.02818      true\n",
       " 1232 │    38196   1493  Chouetsu Sekai                     ['Fantasy']                        ova      11553.0   2.61491  6.68638e-7         1.59343     -0.000197728            2.47172        6.6854e-7    -1.02147      true\n",
       " 1233 │     8689  16238  Born by Myself                     ['Avant Garde', 'Psychological']   ona       9502.0   2.33616  3.67706e-6         1.35314      0.000939566            2.18548        3.67697e-6   -0.983025     true\n",
       " 1234 │     5589  15095  Offside Girl                       ['Hentai', 'Sports']               ova      10144.0   2.62344  2.0341e-6          1.65657      0.000321346            2.47412        2.034e-6     -0.966878     true\n",
       " 1235 │    30860  19586  Koumon-teki Juuku Ketsujiru Juke   ['Avant Garde', 'Comedy', 'Music…  music    10113.0   2.61506  2.31476e-6         1.65657      0.000400237            2.46569        2.31466e-6   -0.958492     true\n",
       " 1236 │     2776   9785  Generation of Chaos                ['Action', 'Adventure', 'Fantasy…  ova      10042.0   2.28607  3.09051e-6         1.35314      0.000480046            2.13515        3.09042e-6   -0.932934     true\n",
       " 1237 │     4310   6235  Joshidai: Ecchi Soudanshitsu       ['Hentai']                         ova      11474.0   2.19691  1.73136e-6         1.29         9.27831e-5             2.05176        1.73127e-6   -0.906909     true\n",
       " 1238 │      413   8548  Hametsu no Mars                    ['Horror', 'Sci-Fi']               ova       4641.0   1.77442  0.000104771        0.922046     0.00802976             1.43659        0.000104772  -0.852373     true\n",
       " 1239 │    22177   3174  Madonna (Movie)                    ['Avant Garde']                    movie    11472.0   2.19154  2.00887e-6         1.35314      0.000321346            2.04017        2.00877e-6   -0.838402     true\n",
       " 1240 │    38980  13328  I Like It                          ['Music']                          music    12009.0   2.09548  1.67775e-6         1.29         5.53623e-5             1.94986        1.67766e-6   -0.805481     true\n",
       " 1241 │    13405   6652  Utsu Musume Sayuri                 ['Avant Garde', 'Comedy']          ova       4867.0   1.43894  3.65742e-5         0.900303     0.00913814             1.241          3.65742e-5   -0.538633     true\n",
       " 1242 │    37448   3210  Ladyspo                            ['Action', 'Comedy', 'Sci-Fi']     tv        9996.0   1.89161  3.35856e-6         1.35314      0.00074597             1.73884        3.35847e-6   -0.538479     true\n",
       " 1243 │    22179   9325  Aki no Puzzle                      ['Avant Garde']                    movie     9694.0   1.69007  3.68652e-6         1.35314      0.000939566            1.53634        3.68643e-6   -0.336931     true\n",
       " 1244 │    29949   3363  Nami                               ['Avant Garde']                    movie     4065.0   1.6713   2.90721e-5         1.35738      0.00980211             1.5575         2.9072e-5    -0.31392      true\n",
       " 1245 │    31634   8996  Kokuhaku                           ['Horror']                         ona       6416.0   1.57372  1.12391e-5         1.40526      0.00352508             1.45198        1.1239e-5    -0.168466     true\n",
       "\u001b[36m                                                                                                                                                                                                                1204 rows omitted\u001b[0m"
      ]
     },
     "execution_count": 13,
     "metadata": {},
     "output_type": "execute_result"
    }
   ],
   "source": [
    "df = copy(rec_df)\n",
    "df[:, \"score\"] = -(df[:, \"explicit\"] - df[:, \"error_explicit\"]);\n",
    "filter(x -> x.explicit - x.baseline_explicit > 0.1, df) |> pretty_display"
   ]
  },
  {
   "cell_type": "code",
   "execution_count": 14,
   "id": "0c37685d-f011-4643-8a41-2806d87c8b36",
   "metadata": {},
   "outputs": [],
   "source": [
    "# \tanime_id\tuid\ttitle\tgenres\tmedium\trating\talpha\tstd\tp\tnsfw\n",
    "# Int64\tInt64\tString\tString?\tString7\tFloat32\tFloat32\tFloat32\tFloat32\tString7\n",
    "# 1\t31988\t11173\tHibike! Euphonium 2\t['Drama', 'Music', 'School']\ttv\t7.38253\t0.356698\t0.792334\t0.00168306\twhite\n",
    "# 2\t1065\t967\tTouch\t['Drama', 'Romance', 'School', 'Shounen', 'Slice of Life', 'Sports']\ttv\t7.34929\t0.467546\t0.908755\t0.00076882\twhite\n",
    "# 3\t27989\t9666\tHibike! Euphonium\t['Drama', 'Music', 'School']\ttv\t7.23239\t0.571174\t0.868754\t0.00258483\twhite\n",
    "# 4\t1858\t1694\tGakuen Utopia Manabi Straight!\t['Comedy', 'School', 'Slice of Life']\ttv\t7.09079\t1.20158\t0.729596\t0.00062308\twhite\n",
    "# 5\t25835\t9373\tShirobako\t['Comedy', 'Drama']\ttv\t7.14048\t0.161561\t0.805839\t0.00261632\twhite\n",
    "# 6\t5941\t4377\tCross Game\t['Comedy', 'Drama', 'Romance', 'School', 'Shounen', 'Sports']\ttv\t7.23503\t0.154975\t0.9538\t0.00104641\twhite\n",
    "# 7\t39570\t15596\tHigh Score Girl II\t['Comedy', 'Game', 'Romance', 'School', 'Seinen']\ttv\t7.01997\t0.324915\t0.878117\t0.000592566\twhite\n",
    "# 8\t1530\t1388\tKanon (2006)\t['Drama', 'Romance', 'Slice of Life', 'Supernatural']\ttv\t7.16325\t0.720318\t1.03834\t0.00227492\twhite\n",
    "# 9\t488\t458\tIchigo Mashimaro\t['Comedy', 'Slice of Life']\ttv\t6.9334\t0.724677\t0.852129\t0.00104676\twhite\n",
    "# 10\t122\t101\tFull Moon wo Sagashite\t['Comedy', 'Drama', 'Music', 'Romance', 'Shoujo', 'Supernatural']\ttv\t6.94031\t0.727181\t0.869193\t0.000667557\twhite\n",
    "# 11\t21877\t8534\tHigh Score Girl\t['Comedy', 'Game', 'Romance', 'School', 'Seinen']\ttv\t6.88657\t0.471743\t0.941942\t0.000968524\twhite\n",
    "# 12\t38993\t15192\tKarakai Jouzu no Takagi-san 2\t['Comedy', 'Romance', 'School', 'Shounen', 'Slice of Life']\ttv\t6.78872\t0.179552\t0.993493\t0.000348786\twhite\n",
    "# 13\t532\t499\tBishoujo Senshi Sailor Moon S\t['Drama', 'Romance', 'Shoujo']\ttv\t6.63147\t0.41036\t0.84895\t0.000437212\twhite\n",
    "# 14\t135\t114\tHikaru no Go\t['Comedy', 'Game', 'Shounen', 'Supernatural']\ttv\t6.74995\t0.153899\t1.02637\t0.000676344\twhite\n",
    "# 15\t30727\t10611\tSaenai Heroine no Sodatekata ♭\t['Comedy', 'Ecchi', 'Harem', 'Romance', 'School']\ttv\t6.59874\t0.364116\t0.876918\t0.000742145\twhite\n",
    "# 16\t593\t556\tMugen no Ryvius\t['Drama', 'Mecha', 'Military', 'Psychological', 'Sci-Fi', 'Space']\ttv\t6.68717\t0.304934\t0.972565\t0.00101426\twhite\n",
    "# 17\t34902\t12650\tTsurezure Children\t['Comedy', 'Romance', 'School', 'Shounen']\ttv\t6.51234\t0.364974\t0.807823\t0.00102669\twhite\n",
    "# 18\t59\t40\tChobits\t['Comedy', 'Drama', 'Ecchi', 'Romance', 'Sci-Fi', 'Seinen']\ttv\t6.6161\t0.883723\t0.948174\t0.00179486\twhite\n",
    "# 19\t38753\t15022\tAraburu Kisetsu no Otome-domo yo.\t['Comedy', 'Drama', 'Romance', 'School', 'Shounen']\ttv\t6.52573\t0.495667\t0.864833\t0.000905996\twhite\n",
    "# 20\t31771\t11089\tAmanchu!\t['Comedy', 'School', 'Shounen', 'Slice of Life']\ttv\t6.58394\t0.685901\t0.926502\t0.000584655\twhite\n",
    "# 21\t35860\t13252\tKarakai Jouzu no Takagi-san\t['Comedy', 'Romance', 'School', 'Shounen', 'Slice of Life']\ttv\t6.59876\t0.432538\t0.977115\t0.000852553\twhite\n",
    "# 22\t427\t400\tKaleido Star\t['Comedy', 'Drama', 'Fantasy', 'Shoujo', 'Sports']\ttv\t6.57368\t0.344165\t0.97538\t0.000534053\twhite\n",
    "# 23\t40530\t16120\tJaku-Chara Tomozaki-kun\t['Drama', 'Romance', 'School']\ttv\t6.47727\t0.923203\t0.894883\t0.000440828\twhite\n",
    "# 24\t874\t789\tDigimon Tamers\t['Adventure', 'Comedy', 'Drama', 'Fantasy', 'Shounen']\ttv\t6.52593\t0.48561\t0.980111\t0.000362535\twhite\n",
    "# 25\t35240\t12889\tPrincess Principal\t['Action', 'Historical', 'Mystery']\ttv\t6.5926\t0.377174\t1.06195\t0.000912882\twhite\n",
    "# 26\t42361\t16907\tIjiranaide, Nagatoro-san\t['Comedy', 'Romance', 'Slice of Life']\ttv\t6.60228\t0.83992\t1.08517\t0.000529261\twhite\n",
    "# 27\t18897\t7968\tNisekoi\t['Comedy', 'Harem', 'Romance', 'School', 'Shounen']\ttv\t6.31667\t0.286932\t0.808886\t0.00141164\twhite\n",
    "# 28\t1486\t1348\tKodomo no Omocha (TV)\t['Comedy', 'Drama', 'Romance', 'Shoujo']\ttv\t6.56859\t0.231561\t1.06944\t0.000533452\twhite\n",
    "# 29\t35639\t13136\tJust Because!\t['Drama', 'Romance', 'School', 'Slice of Life']\ttv\t6.46695\t0.763056\t0.99794\t0.000684533\twhite\n",
    "# 30\t1222\t1114\tBokura ga Ita\t['Drama', 'Romance', 'Shoujo', 'Slice of Life']\ttv\t6.70307\t1.16039\t1.23905\t0.000494813\twhite\n",
    "# 31\t41619\t16653\tMunou na Nana\t['Psychological', 'Shounen', 'Super Power', 'Supernatural', 'Suspense']\ttv\t6.41985\t0.698886\t0.958501\t0.000440847\twhite\n",
    "# 32\t14131\t7087\tGirls & Panzer\t['Action', 'Military', 'School', 'Sports']\ttv\t6.55237\t0.586552\t1.13453\t0.00168731\twhite\n",
    "# 33\t552\t517\tDigimon Adventure\t['Action', 'Adventure', 'Comedy', 'Fantasy', 'Kids']\ttv\t6.55298\t0.365117\t1.13609\t0.000609451\twhite\n",
    "# 34\t40685\t16205\tSuper Cub\t['School', 'Slice of Life']\ttv\t6.35695\t0.364119\t0.944397\t0.000580612\twhite\n",
    "# 35\t37890\t14482\tOshi ga Budoukan Ittekuretara Shinu\t['Comedy', 'Girls Love', 'Music', 'Seinen', 'Slice of Life']\ttv\t6.20357\t0.206216\t0.801772\t0.000379987\twhite\n",
    "# 36\t34984\t12704\tKoi wa Ameagari no You ni\t['Drama', 'Romance', 'Seinen', 'Slice of Life']\ttv\t6.56196\t0.419388\t1.16207\t0.00116559\twhite\n",
    "# 37\t3958\t3399\tKannagi\t['Comedy', 'School', 'Shounen', 'Supernatural']\ttv\t6.24875\t0.494657\t0.866859\t0.00120494\twhite\n",
    "# 38\t31859\t11120\tHai to Gensou no Grimgar\t['Action', 'Adventure', 'Drama', 'Fantasy']\ttv\t6.24894\t0.166416\t0.876223\t0.000963634\twhite\n",
    "# 39\t13333\t6942\tTari Tari\t['Music', 'School', 'Slice of Life']\ttv\t6.24726\t0.466783\t0.878362\t0.00116383\twhite\n",
    "# 40\t587\t550\tHanbun no Tsuki ga Noboru Sora\t['Comedy', 'Drama', 'Romance']\ttv\t6.30107\t0.38663\t0.960221\t0.00128816\twhite\n",
    "# 41\t8861\t5539\tYosuga no Sora: In Solitude, Where We Are Least Alone.\t['Drama', 'Ecchi', 'Harem', 'Romance']\ttv\t7.46844\t3.02749\t2.15606\t0.00104767\tgray\n",
    "# 42\t2986\t2716\tBamboo Blade\t['Comedy', 'School', 'Seinen', 'Sports']\ttv\t6.17986\t0.452029\t0.868882\t0.000749638\twhite\n",
    "# 43\t35756\t13204\tComic Girls\t['Comedy', 'Slice of Life']\ttv\t6.22388\t0.350058\t0.919891\t0.000430328\twhite\n",
    "# 44\t1087\t987\tKimagure Orange☆Road\t['Comedy', 'Drama', 'Romance', 'School', 'Shounen', 'Slice of Life', 'Super Power']\ttv\t6.38255\t0.190579\t1.07896\t0.000837759\twhite\n",
    "# 45\t12149\t6691\tAKB0048\t['Music', 'Sci-Fi']\ttv\t6.26354\t0.61283\t0.960399\t0.00053292\twhite\n",
    "# 46\t330\t306\tMidori no Hibi\t['Comedy', 'Drama', 'Ecchi', 'Romance', 'Shounen']\ttv\t6.17071\t0.533026\t0.875367\t0.00092522\twhite\n",
    "# 47\t46093\t17949\tShiroi Suna no Aquatope\t['Drama', 'Slice of Life']\ttv\t6.36729\t0.377252\t1.0729\t0.000547827\twhite\n",
    "# 48\t5150\t3975\tHatsukoi Limited.\t['Comedy', 'Romance', 'School', 'Shounen']\ttv\t6.09554\t0.397329\t0.811726\t0.000535075\twhite\n",
    "# 49\t740\t677\tBishoujo Senshi Sailor Moon R\t['Demons', 'Romance', 'Shoujo']\ttv\t6.29016\t0.24701\t1.00655\t0.000616277\twhite\n",
    "# 50\t37982\t14550\tDomestic na Kanojo\t['Drama', 'Romance', 'School', "
   ]
  }
 ],
 "metadata": {
  "kernelspec": {
   "display_name": "Julia 1.8.0-rc1",
   "language": "julia",
   "name": "julia-1.8"
  },
  "language_info": {
   "file_extension": ".jl",
   "mimetype": "application/julia",
   "name": "julia",
   "version": "1.8.0"
  }
 },
 "nbformat": 4,
 "nbformat_minor": 5
}
