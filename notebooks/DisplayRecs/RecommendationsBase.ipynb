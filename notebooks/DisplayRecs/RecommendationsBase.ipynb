{
 "cells": [
  {
   "cell_type": "code",
   "execution_count": null,
   "id": "240e43fd-abc8-4d44-a3d6-85293d0dd756",
   "metadata": {},
   "outputs": [],
   "source": [
    "source = \"Recommendations\";"
   ]
  },
  {
   "cell_type": "code",
   "execution_count": null,
   "id": "ba187524-034d-40f6-9e40-0ab5123e36bb",
   "metadata": {},
   "outputs": [],
   "source": [
    "using DataFrames\n",
    "import CSV\n",
    "import NBInclude: @nbinclude\n",
    "import Statistics: mean, quantile\n",
    "@nbinclude(\"../InferenceAlphas/Alpha.ipynb\")\n",
    "@nbinclude(\"../InferenceAlphas/Ensemble/SuppressImplicit.ipynb\");;"
   ]
  },
  {
   "cell_type": "code",
   "execution_count": null,
   "id": "1390f397-7dcd-4662-a07c-6de9dbc640e0",
   "metadata": {},
   "outputs": [],
   "source": [
    "@assert username == get_recommendee_username()"
   ]
  },
  {
   "cell_type": "code",
   "execution_count": null,
   "id": "2dc4c5b5-a759-463c-b163-e47fd461a554",
   "metadata": {},
   "outputs": [],
   "source": [
    "ENV[\"COLUMNS\"] = 999999;\n",
    "ENV[\"LINES\"] = 200;"
   ]
  },
  {
   "cell_type": "code",
   "execution_count": null,
   "id": "20127075-7c57-4629-9283-d1f18a8ff2bb",
   "metadata": {},
   "outputs": [],
   "source": [
    "const anime = DataFrame(CSV.File(\"../../data/processed_data/anime.csv\", ntasks = 1))\n",
    "anime_to_uid = DataFrame(CSV.File(\"../../data/processed_data/anime_to_uid.csv\"))\n",
    "anime_to_uid = innerjoin(anime_to_uid, anime, on = \"anime_id\");"
   ]
  },
  {
   "cell_type": "code",
   "execution_count": null,
   "id": "9fa0327c-2d09-4040-8819-32125a957f15",
   "metadata": {
    "tags": []
   },
   "outputs": [],
   "source": [
    "rating_df = DataFrame(\n",
    "    \"uid\" => 0:num_items()-1,\n",
    "    \"ranking\" => read_recommendee_alpha(\"BPRT\", \"all\").rating,\n",
    "    \"explicit\" => read_recommendee_alpha(\"Explicit\", \"all\").rating,\n",
    "    \"implicit\" =>\n",
    "        read_recommendee_suppressed_alpha(\"LinearImplicit\", \"all\", true).rating,\n",
    "    \"error_explicit\" => read_recommendee_alpha(\"ErrorExplicit\", \"all\").rating,\n",
    "    \"error_implicit\" => read_recommendee_alpha(\"ErrorImplicit\", \"all\").rating,\n",
    "    \"baseline_explicit\" =>\n",
    "        read_recommendee_alpha(\"ExplicitUserItemBiases\", \"all\").rating,\n",
    "    \"baseline_implicit\" =>\n",
    "        read_recommendee_suppressed_alpha(\n",
    "            \"NeuralImplicitUserItemBiases\",\n",
    "            \"all\",\n",
    "            true,\n",
    "        ).rating,\n",
    ")\n",
    "rating_df[:, \"score\"] = rating_df[:, \"ranking\"];"
   ]
  },
  {
   "cell_type": "code",
   "execution_count": null,
   "id": "89a34ece-a029-4b79-98a8-743d7aa89b22",
   "metadata": {},
   "outputs": [],
   "source": [
    "# evaluate our insample explicit predictions\n",
    "df = get_recommendee_split(false)\n",
    "rss = sum((df.rating - rating_df.explicit[df.item]) .^ 2)\n",
    "tss = sum((df.rating .- mean(df.rating)) .^ 2)\n",
    "@info \"Insample RMSE: $(sqrt(rss / length(df.rating)))\"\n",
    "@info \"Insample R2: $(1 - rss / tss)\""
   ]
  },
  {
   "cell_type": "code",
   "execution_count": null,
   "id": "24345713-0e5e-4d52-89a2-16dd2b5d3f96",
   "metadata": {
    "tags": []
   },
   "outputs": [],
   "source": [
    "# don't recommend shows that the user has already seen before\n",
    "rating_df[:, \"seen\"] .= false\n",
    "seen_items = vcat(get_recommendee_split(true).item, get_recommendee_split(false).item)\n",
    "rating_df.seen[seen_items] .= true\n",
    "\n",
    "# don't recommend shows related to shows they have seen before\n",
    "rating_df[:, \"related\"] .= false\n",
    "related_series = read_recommendee_alpha(\"ItemCFRelated\", \"all\").rating .!= 0\n",
    "rating_df.related[related_series] .= true;"
   ]
  },
  {
   "cell_type": "code",
   "execution_count": null,
   "id": "2f87ebbf-d246-43cc-8b07-79b4929318ea",
   "metadata": {},
   "outputs": [],
   "source": [
    "rec_df = innerjoin(anime_to_uid, rating_df, on = \"uid\");\n",
    "keepcols = [\"anime_id\", \"uid\", \"title\", \"genres\", \"medium\"]\n",
    "for x in names(rating_df)\n",
    "    if x ∉ keepcols\n",
    "        push!(keepcols, x)\n",
    "    end\n",
    "end\n",
    "rec_df = rec_df[:, keepcols];"
   ]
  },
  {
   "cell_type": "code",
   "execution_count": null,
   "id": "43369775-7454-4784-8be2-c9dfbc828690",
   "metadata": {},
   "outputs": [],
   "source": [
    "length(get_recommendee_split(false).item), length(get_recommendee_split(true).item)"
   ]
  },
  {
   "cell_type": "code",
   "execution_count": null,
   "id": "87d0ac7b-9f8d-4d5d-ab59-ad8e65a6d948",
   "metadata": {},
   "outputs": [],
   "source": [
    "function unseen_display(df)\n",
    "    sort(filter(x -> !x.seen, df), :score)\n",
    "end\n",
    "\n",
    "function unrelated_display(df)\n",
    "    filter(x -> !x.related, df)\n",
    "end\n",
    "\n",
    "function related_display(df)\n",
    "    sort(filter(x -> !x.seen && x.related, df), :score)\n",
    "end\n",
    "\n",
    "function explicit_display(df)\n",
    "    filter(x -> x.explicit > x.baseline_explicit, df)\n",
    "end\n",
    "\n",
    "function implicit_display(df)\n",
    "    filter(x -> x.implicit > x.baseline_implicit, df)\n",
    "end\n",
    "\n",
    "function inv_explicit_display(df)\n",
    "    filter(x -> x.explicit <= x.baseline_explicit, df)\n",
    "end\n",
    "\n",
    "function inv_implicit_display(df)\n",
    "    filter(x -> x.implicit <= x.baseline_implicit, df)\n",
    "end\n",
    "\n",
    "function tv_display(df)\n",
    "    filter(x -> x.medium == \"tv\", df)\n",
    "end\n",
    "\n",
    "function inv_tv_display(df)\n",
    "    filter(x -> x.medium != \"tv\", df)\n",
    "end;"
   ]
  }
 ],
 "metadata": {
  "kernelspec": {
   "display_name": "Julia 1.8.0-rc1",
   "language": "julia",
   "name": "julia-1.8"
  },
  "language_info": {
   "file_extension": ".jl",
   "mimetype": "application/julia",
   "name": "julia",
   "version": "1.8.0"
  }
 },
 "nbformat": 4,
 "nbformat_minor": 5
}
