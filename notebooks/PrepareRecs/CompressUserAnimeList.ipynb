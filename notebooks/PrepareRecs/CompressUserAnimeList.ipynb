{
 "cells": [
  {
   "cell_type": "markdown",
   "id": "cc489d0a-a7c7-46ce-b594-a69b40c91515",
   "metadata": {},
   "source": [
    "# Write the user anime list in a Julia optimized format"
   ]
  },
  {
   "cell_type": "code",
   "execution_count": 1,
   "id": "674c10f3-5f4f-4e25-b766-dfc51bb0f9e6",
   "metadata": {},
   "outputs": [],
   "source": [
    "using CSV\n",
    "using DataFrames\n",
    "using JLD2\n",
    "using JupyterFormatter"
   ]
  },
  {
   "cell_type": "code",
   "execution_count": 2,
   "id": "63210d73-c657-40d7-9624-a53038c40bab",
   "metadata": {},
   "outputs": [],
   "source": [
    "enable_autoformat();"
   ]
  },
  {
   "cell_type": "code",
   "execution_count": 3,
   "id": "1a1a93d8-8f93-4be1-a71a-0299dc0fd49d",
   "metadata": {},
   "outputs": [],
   "source": [
    "dir = \"../../data/recommendations/\";"
   ]
  },
  {
   "cell_type": "code",
   "execution_count": 4,
   "id": "47075cbd-76b4-4003-a7a6-0347a54e5a80",
   "metadata": {},
   "outputs": [],
   "source": [
    "username = open(dir * \"recommendee_username.txt\") do f\n",
    "    read(f, String)\n",
    "end;"
   ]
  },
  {
   "cell_type": "code",
   "execution_count": 5,
   "id": "9ef8b56d-e445-4a80-b5dc-ae44f9a88972",
   "metadata": {
    "tags": []
   },
   "outputs": [],
   "source": [
    "file = dir * \"$username/user_anime_list.csv\"\n",
    "df = DataFrame(CSV.File(file))\n",
    "df.username .+= 1 # julia is 1 indexed\n",
    "df.anime_id .+= 1\n",
    "df.my_score = float(df.my_score);"
   ]
  },
  {
   "cell_type": "code",
   "execution_count": 6,
   "id": "ccd4e41a-f0ba-40f3-bfae-b6245963a37b",
   "metadata": {},
   "outputs": [],
   "source": [
    "struct RatingsDataset\n",
    "    user::Vector{Int64}\n",
    "    item::Vector{Int64}\n",
    "    rating::Vector{Float64}\n",
    "end;"
   ]
  },
  {
   "cell_type": "code",
   "execution_count": 7,
   "id": "b94b8ea3-88cf-47a4-b8a6-b14414874f6d",
   "metadata": {},
   "outputs": [],
   "source": [
    "user_anime_list = RatingsDataset(df.username, df.anime_id, df.my_score);"
   ]
  },
  {
   "cell_type": "code",
   "execution_count": 8,
   "id": "70694e14-854a-440c-be92-e5fefe4b1162",
   "metadata": {},
   "outputs": [],
   "source": [
    "file = dir * \"$username/user_anime_list.jld2\"\n",
    "jldsave(file; user_anime_list);"
   ]
  }
 ],
 "metadata": {
  "kernelspec": {
   "display_name": "Julia 1.6.3",
   "language": "julia",
   "name": "julia-1.6"
  },
  "language_info": {
   "file_extension": ".jl",
   "mimetype": "application/julia",
   "name": "julia",
   "version": "1.6.3"
  }
 },
 "nbformat": 4,
 "nbformat_minor": 5
}
