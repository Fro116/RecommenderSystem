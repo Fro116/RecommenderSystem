{
 "cells": [
  {
   "cell_type": "markdown",
   "id": "cc489d0a-a7c7-46ce-b594-a69b40c91515",
   "metadata": {},
   "source": [
    "# Write the user anime list in a Julia optimized format"
   ]
  },
  {
   "cell_type": "code",
   "execution_count": 1,
   "id": "674c10f3-5f4f-4e25-b766-dfc51bb0f9e6",
   "metadata": {},
   "outputs": [],
   "source": [
    "using CSV\n",
    "using DataFrames\n",
    "using JLD2\n",
    "using JupyterFormatter"
   ]
  },
  {
   "cell_type": "code",
   "execution_count": 2,
   "id": "63210d73-c657-40d7-9624-a53038c40bab",
   "metadata": {},
   "outputs": [],
   "source": [
    "enable_autoformat();"
   ]
  },
  {
   "cell_type": "code",
   "execution_count": 3,
   "id": "1a1a93d8-8f93-4be1-a71a-0299dc0fd49d",
   "metadata": {},
   "outputs": [],
   "source": [
    "dir = \"../../data/recommendations\";"
   ]
  },
  {
   "cell_type": "code",
   "execution_count": 4,
   "id": "47075cbd-76b4-4003-a7a6-0347a54e5a80",
   "metadata": {},
   "outputs": [],
   "source": [
    "username = open(\"$dir/recommendee_username.txt\") do f\n",
    "    read(f, String)\n",
    "end;"
   ]
  },
  {
   "cell_type": "code",
   "execution_count": 5,
   "id": "ccd4e41a-f0ba-40f3-bfae-b6245963a37b",
   "metadata": {},
   "outputs": [],
   "source": [
    "struct RatingsDataset\n",
    "    user::Vector{Int64}\n",
    "    item::Vector{Int64}\n",
    "    rating::Vector{Float64}\n",
    "end;"
   ]
  },
  {
   "cell_type": "code",
   "execution_count": 6,
   "id": "d2601e36-167d-4a7a-a2f6-65c18f3a96a6",
   "metadata": {},
   "outputs": [],
   "source": [
    "function compress(filename)\n",
    "    file = \"$dir/$username/$filename\"\n",
    "    df = DataFrame(CSV.File(file))\n",
    "    df.username .+= 1 # julia is 1 indexed\n",
    "    df.anime_id .+= 1\n",
    "    df.my_score = float(df.my_score)\n",
    "    RatingsDataset(df.username, df.anime_id, df.my_score)\n",
    "end;"
   ]
  },
  {
   "cell_type": "code",
   "execution_count": 7,
   "id": "a6ee2486-7fec-4df8-8f26-8a5c37a51788",
   "metadata": {},
   "outputs": [],
   "source": [
    "user_anime_list = compress(\"user_anime_list.csv\")\n",
    "implicit_anime_list = compress(\"implicit_anime_list.csv\");"
   ]
  },
  {
   "cell_type": "code",
   "execution_count": null,
   "id": "69342d39-bb76-4e97-a60d-3e253396666b",
   "metadata": {},
   "outputs": [],
   "source": [
    "outfile = \"$dir/$username/splits.jld2\"\n",
    "jldsave(outfile; user_anime_list, implicit_anime_list)"
   ]
  }
 ],
 "metadata": {
  "kernelspec": {
   "display_name": "Julia 1.6.3",
   "language": "julia",
   "name": "julia-1.6"
  },
  "language_info": {
   "file_extension": ".jl",
   "mimetype": "application/julia",
   "name": "julia",
   "version": "1.6.3"
  }
 },
 "nbformat": 4,
 "nbformat_minor": 5
}
