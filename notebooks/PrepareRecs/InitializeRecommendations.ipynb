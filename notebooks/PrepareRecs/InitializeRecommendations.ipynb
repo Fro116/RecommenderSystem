{
 "cells": [
  {
   "cell_type": "markdown",
   "id": "7d9ace2b-b10d-4ee7-afbe-60eddca4e7f2",
   "metadata": {},
   "source": [
    "# Begin the process for giving recommendations\n",
    "* Fill in the `recommendee_username` and `anime_list_source` fields\n",
    "* This will determine who we are making recommendations for"
   ]
  },
  {
   "cell_type": "code",
   "execution_count": 1,
   "id": "ff539929-767e-473a-b3a8-430ae491600f",
   "metadata": {},
   "outputs": [],
   "source": [
    "# The following example gives recommendations for the user at https://myanimelist.net/animelist/Fro116\n",
    "# If you have a MAL or AniList account, simply put in your username and site\n",
    "# If you have a Kitsu or AnimePlanet account, use https://malscraper.azurewebsites.net\n",
    "# to export your list to xml and save it as ../../data/recommendations/anime_list.xml\n",
    "recommendee_username = \"TAAPAye\"  # CHANGE ME!\n",
    "anime_list_source = \"AniList\"  # CHANGE ME!"
   ]
  },
  {
   "cell_type": "code",
   "execution_count": 2,
   "id": "d4c04784-7ca9-4040-b582-b8d69e57e8ac",
   "metadata": {},
   "outputs": [],
   "source": [
    "import os"
   ]
  },
  {
   "cell_type": "code",
   "execution_count": 3,
   "id": "5050359c-0086-442c-9a0d-14d518ef8bb4",
   "metadata": {},
   "outputs": [],
   "source": [
    "assert anime_list_source in [\"MAL\", \"AniList\", \"XML\"]\n",
    "if anime_list_source == \"XML\":\n",
    "    assert os.path.exists(\"../../data/recommendations/anime_list.xml\")"
   ]
  },
  {
   "cell_type": "code",
   "execution_count": 4,
   "id": "ecd9da56-59ef-4296-ae28-89a8aa1b731a",
   "metadata": {},
   "outputs": [],
   "source": [
    "data_path = \"../../data/recommendations\"\n",
    "if not os.path.exists(data_path):\n",
    "    os.mkdir(data_path)\n",
    "os.chdir(data_path)"
   ]
  },
  {
   "cell_type": "code",
   "execution_count": 5,
   "id": "189bb16b-3c47-41f8-9ecc-49ee2898c42c",
   "metadata": {},
   "outputs": [],
   "source": [
    "with open(\"recommendee_username.txt\", \"w\") as f:\n",
    "    f.write(recommendee_username)"
   ]
  },
  {
   "cell_type": "code",
   "execution_count": 6,
   "id": "882fcfbb-211b-4703-8afd-22a411957f04",
   "metadata": {},
   "outputs": [],
   "source": [
    "with open(\"anime_list_source.txt\", \"w\") as f:\n",
    "    f.write(anime_list_source)"
   ]
  },
  {
   "cell_type": "code",
   "execution_count": null,
   "id": "2c73a1e4-b5cd-4924-be72-5cbe80879c3b",
   "metadata": {},
   "outputs": [],
   "source": []
  }
 ],
 "metadata": {
  "kernelspec": {
   "display_name": "Python 3 (ipykernel)",
   "language": "python",
   "name": "python3"
  },
  "language_info": {
   "codemirror_mode": {
    "name": "ipython",
    "version": 3
   },
   "file_extension": ".py",
   "mimetype": "text/x-python",
   "name": "python",
   "nbconvert_exporter": "python",
   "pygments_lexer": "ipython3",
   "version": "3.8.10"
  }
 },
 "nbformat": 4,
 "nbformat_minor": 5
}
