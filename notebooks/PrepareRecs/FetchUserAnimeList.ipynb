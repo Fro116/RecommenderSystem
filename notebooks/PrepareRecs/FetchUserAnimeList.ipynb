{
 "cells": [
  {
   "cell_type": "markdown",
   "metadata": {},
   "source": [
    "# Fetching a user anime-list\n",
    "* Given a user, we get an up-to-date version of their anime-list\n",
    "* Supports reading public anime-lists from MyAnimeList and AniList"
   ]
  },
  {
   "cell_type": "code",
   "execution_count": 1,
   "metadata": {},
   "outputs": [],
   "source": [
    "import json\n",
    "import os\n",
    "import pickle\n",
    "import time\n",
    "\n",
    "import pandas as pd\n",
    "import requests\n",
    "from ratelimit import limits, sleep_and_retry\n",
    "from tqdm import tqdm"
   ]
  },
  {
   "cell_type": "code",
   "execution_count": 2,
   "metadata": {},
   "outputs": [],
   "source": [
    "data_path = \"../../data/recommendations\"\n",
    "os.chdir(data_path)\n",
    "with open(\"recommendee_username.txt\") as f:\n",
    "    username = f.read()\n",
    "with open(\"anime_list_source.txt\") as f:\n",
    "    source = f.read()    \n",
    "assert source in [\"MAL\", \"MALOfficialAPI\", \"AniList\"]"
   ]
  },
  {
   "cell_type": "code",
   "execution_count": 3,
   "metadata": {},
   "outputs": [],
   "source": [
    "data_path = os.path.join(data_path, username)\n",
    "if not os.path.exists(data_path):\n",
    "    os.mkdir(data_path)\n",
    "os.chdir(data_path)"
   ]
  },
  {
   "cell_type": "code",
   "execution_count": 4,
   "metadata": {},
   "outputs": [],
   "source": [
    "def import_from_mal(username):\n",
    "    @sleep_and_retry\n",
    "    @limits(calls=1, period=4)\n",
    "    def call_api(url):\n",
    "        try:\n",
    "            response = requests.get(url)\n",
    "            if (response.status_code == 500) or (response.status_code == 503):\n",
    "                # This can occur if MAL servers go down\n",
    "                raise Exception(f\"{response.status_code}\")\n",
    "        except Exception as e:\n",
    "            timeout = 600\n",
    "            print(\n",
    "                f\"Received error {str(e)} while accessing {url}. Retrying in {timeout} seconds\"\n",
    "            )\n",
    "            time.sleep(timeout)\n",
    "            return call_api(url)\n",
    "        return response\n",
    "\n",
    "    def process_json(json):\n",
    "        records = [(x[\"mal_id\"], x[\"score\"]) for x in json[\"anime\"]]\n",
    "        return pd.DataFrame.from_records(records, columns=[\"anime_id\", \"my_score\"])\n",
    "\n",
    "    def get_anime_list(username):\n",
    "        pages = []\n",
    "\n",
    "        max_items_per_page = 300  # property of the API\n",
    "        more_pages = True\n",
    "        page = 1\n",
    "\n",
    "        # hack to allow tqdm profiling\n",
    "        def generator():\n",
    "            while more_pages:\n",
    "                yield\n",
    "\n",
    "        for _ in tqdm(generator()):\n",
    "            response = call_api(\n",
    "                f\"https://api.jikan.moe/v3/user/{username}/animelist/all/{page}\"\n",
    "            )\n",
    "            response.raise_for_status()\n",
    "\n",
    "            paged_anime_list = process_json(response.json())\n",
    "            pages.append(paged_anime_list)\n",
    "            page += 1\n",
    "            if len(paged_anime_list) < max_items_per_page:\n",
    "                more_pages = False\n",
    "\n",
    "        anime_list = pd.concat(pages, ignore_index=True)\n",
    "        anime_list[\"username\"] = username\n",
    "        # remove unrated shows\n",
    "        anime_list = anime_list.loc[lambda x: x[\"my_score\"] != 0]\n",
    "        return anime_list[[\"username\", \"anime_id\", \"my_score\"]]\n",
    "\n",
    "    return get_anime_list(username)"
   ]
  },
  {
   "cell_type": "code",
   "execution_count": 5,
   "metadata": {},
   "outputs": [],
   "source": [
    "def import_from_mal_official_api(username):\n",
    "    token = json.load(open(\"../../mal/mal_authentication/token.json\", \"r\"))\n",
    "\n",
    "    @sleep_and_retry\n",
    "    @limits(calls=1, period=0.75)\n",
    "    def call_api(url):\n",
    "        try:\n",
    "            response = requests.get(\n",
    "                url, headers={\"Authorization\": f'Bearer {token[\"access_token\"]}'}\n",
    "            )\n",
    "            if response.status_code == 500:\n",
    "                # This can occur if MAL servers go down\n",
    "                raise Exception(f\"{response.status_code}\")\n",
    "        except Exception as e:\n",
    "            retry_timeout = 3600\n",
    "            print(\n",
    "                f\"Received error {str(e)} while accessing {url}. Retrying in {retry_timeout} seconds\"\n",
    "            )\n",
    "            time.sleep(retry_timeout)\n",
    "            return call_api(url)\n",
    "        return response\n",
    "\n",
    "    def process_json(json):\n",
    "        return pd.DataFrame.from_records(\n",
    "            [(x[\"node\"][\"id\"], x[\"list_status\"][\"score\"]) for x in json[\"data\"]],\n",
    "            columns=[\"anime_id\", \"my_score\"],\n",
    "        )\n",
    "\n",
    "    def get_user_anime_list(username):\n",
    "        anime_lists = []\n",
    "        more_pages = True\n",
    "        url = f\"https://api.myanimelist.net/v2/users/{username}/animelist?limit=1000&fields=list_status\"\n",
    "        while more_pages:\n",
    "            response = call_api(url)\n",
    "\n",
    "            if response.status_code == 403 or response.status_code == 404:\n",
    "                # 403: This can occur if the user privated their list\n",
    "                # 404: This can occur if the user deleted their account\n",
    "                return pd.DataFrame(), False\n",
    "\n",
    "            response.raise_for_status()\n",
    "            json = response.json()\n",
    "            anime_lists.append(process_json(json))\n",
    "\n",
    "            more_pages = \"next\" in json[\"paging\"]\n",
    "            if more_pages:\n",
    "                url = json[\"paging\"][\"next\"]\n",
    "        user_anime_list = pd.concat(anime_lists, ignore_index=True)\n",
    "        user_anime_list[\"username\"] = username\n",
    "        user_anime_list = user_anime_list.loc[lambda x: x[\"my_score\"] != 0]\n",
    "        return user_anime_list, True\n",
    "    \n",
    "    df, ret = get_user_anime_list(username)\n",
    "    if not ret:\n",
    "        raise Exception(f'Could not resolve list for {username}')\n",
    "    return df"
   ]
  },
  {
   "cell_type": "code",
   "execution_count": 6,
   "metadata": {},
   "outputs": [],
   "source": [
    "def import_from_anilist(username):\n",
    "    @sleep_and_retry\n",
    "    @limits(calls=1, period=1)\n",
    "    def call_api(url, json):\n",
    "        try:\n",
    "            response = requests.post(url, json=json)\n",
    "            if (response.status_code == 500) or (response.status_code == 503):\n",
    "                # This can occur if servers go down\n",
    "                raise Exception(f\"{response.status_code}\")\n",
    "        except Exception as e:\n",
    "            timeout = 600\n",
    "            print(\n",
    "                f\"Received error {str(e)} while accessing {url}. Retrying in {timeout} seconds\"\n",
    "            )\n",
    "            time.sleep(timeout)\n",
    "            return call_api(url)\n",
    "        return response\n",
    "\n",
    "    url = \"https://graphql.anilist.co\"\n",
    "\n",
    "    def process_json(json):\n",
    "        records = [\n",
    "            (entry[\"media\"][\"idMal\"], entry[\"score\"])\n",
    "            for x in json[\"data\"][\"MediaListCollection\"][\"lists\"]\n",
    "            for entry in x[\"entries\"]\n",
    "        ]\n",
    "        return pd.DataFrame.from_records(records, columns=[\"anime_id\", \"my_score\"])\n",
    "\n",
    "    def get_user_id(username):\n",
    "        query = \"query ($userName: String) { User (search: $userName) { id } }\"\n",
    "        variables = {\"userName\": \"'\" + username + \"'\"}\n",
    "        response = call_api(url, {\"query\": query, \"variables\": variables})\n",
    "        response.raise_for_status()\n",
    "        return response.json()[\"data\"][\"User\"][\"id\"]\n",
    "\n",
    "    def get_anime_list(username):\n",
    "        userid = get_user_id(username)\n",
    "\n",
    "        query = \"\"\"\n",
    "        query ($userID: Int, $MEDIA: MediaType) {\n",
    "        MediaListCollection (userId: $userID, type: $MEDIA) { \n",
    "            lists {\n",
    "                entries\n",
    "                {\n",
    "                    status\n",
    "                    score\n",
    "                    media\n",
    "                    {\n",
    "                        idMal\n",
    "                    }\n",
    "                }\n",
    "            }\n",
    "        }\n",
    "        }\n",
    "        \"\"\"\n",
    "        variables = {\"userID\": str(userid), \"MEDIA\": \"ANIME\"}\n",
    "\n",
    "        response = call_api(url, {\"query\": query, \"variables\": variables})\n",
    "        response.raise_for_status()\n",
    "        anime_list = process_json(response.json())\n",
    "        # remove unrated shows\n",
    "        anime_list = anime_list.loc[lambda x: x[\"my_score\"] != 0]\n",
    "        # deduplicate shows that appear on multiple lists\n",
    "        anime_list = anime_list.groupby(\"anime_id\").mean().reset_index()\n",
    "        anime_list[\"username\"] = username\n",
    "        return anime_list\n",
    "\n",
    "    return get_anime_list(username)"
   ]
  },
  {
   "cell_type": "code",
   "execution_count": 7,
   "metadata": {},
   "outputs": [
    {
     "name": "stderr",
     "output_type": "stream",
     "text": [
      "2it [00:04,  2.21s/it]\n"
     ]
    }
   ],
   "source": [
    "import_fns = {'MAL': import_from_mal, 'MALOfficialAPI': import_from_mal_official_api, 'AniList': import_from_anilist}\n",
    "if not source in import_fns:\n",
    "    raise Exception(f\"Unsupported anime-list source {source}\")\n",
    "df = import_fns[source](username)"
   ]
  },
  {
   "cell_type": "code",
   "execution_count": 8,
   "metadata": {},
   "outputs": [],
   "source": [
    "anime_to_uid = pd.read_csv(\"../../processed_data/anime_to_uid.csv\")"
   ]
  },
  {
   "cell_type": "code",
   "execution_count": 9,
   "metadata": {},
   "outputs": [],
   "source": [
    "df = df.merge(anime_to_uid, on=\"anime_id\")"
   ]
  },
  {
   "cell_type": "code",
   "execution_count": 10,
   "metadata": {},
   "outputs": [],
   "source": [
    "username_to_uid = pd.read_csv(\"../../processed_data/username_to_uid.csv\")"
   ]
  },
  {
   "cell_type": "code",
   "execution_count": 11,
   "metadata": {},
   "outputs": [],
   "source": [
    "if username in list(username_to_uid[\"username\"]):\n",
    "    user_uid = username_to_uid.set_index(\"username\").loc[username, \"uid\"]\n",
    "else:\n",
    "    user_uid = max(username_to_uid[\"uid\"]) + 1"
   ]
  },
  {
   "cell_type": "code",
   "execution_count": 12,
   "metadata": {},
   "outputs": [],
   "source": [
    "df[\"username\"] = user_uid\n",
    "df[\"anime_id\"] = df[\"uid\"]"
   ]
  },
  {
   "cell_type": "code",
   "execution_count": 13,
   "metadata": {},
   "outputs": [],
   "source": [
    "df[[\"username\", \"anime_id\", \"my_score\"]].to_csv(\"user_anime_list.csv\", index=False)"
   ]
  }
 ],
 "metadata": {
  "kernelspec": {
   "display_name": "Python 3 (ipykernel)",
   "language": "python",
   "name": "python3"
  },
  "language_info": {
   "codemirror_mode": {
    "name": "ipython",
    "version": 3
   },
   "file_extension": ".py",
   "mimetype": "text/x-python",
   "name": "python",
   "nbconvert_exporter": "python",
   "pygments_lexer": "ipython3",
   "version": "3.8.12"
  }
 },
 "nbformat": 4,
 "nbformat_minor": 4
}
