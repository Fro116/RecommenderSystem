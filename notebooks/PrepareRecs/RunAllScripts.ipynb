{
 "cells": [
  {
   "cell_type": "code",
   "execution_count": 1,
   "id": "7df9b9d0-f4e3-4db9-b67d-799c100e8ab9",
   "metadata": {},
   "outputs": [],
   "source": [
    "import os\n",
    "\n",
    "import papermill as pm"
   ]
  },
  {
   "cell_type": "code",
   "execution_count": 2,
   "id": "ff539929-767e-473a-b3a8-430ae491600f",
   "metadata": {},
   "outputs": [],
   "source": [
    "# The following example gives recommendations for the user at https://myanimelist.net/animelist/Fro116\n",
    "# If you have a MAL or AniList account, simply put in your username and site\n",
    "# If you have a Kitsu or AnimePlanet account, use https://malscraper.azurewebsites.net\n",
    "# to export your list to xml and save it as ../../data/recommendations/anime_list.xml"
   ]
  },
  {
   "cell_type": "code",
   "execution_count": 3,
   "id": "0b374919-3fda-4225-a92f-bd831083fdd2",
   "metadata": {
    "tags": [
     "parameters"
    ]
   },
   "outputs": [],
   "source": [
    "username = \"Fro116\"\n",
    "source = \"MAL\""
   ]
  },
  {
   "cell_type": "code",
   "execution_count": 4,
   "id": "0162aac0-a1a6-4a99-8378-49bdbeb4f158",
   "metadata": {},
   "outputs": [],
   "source": [
    "data_path = \"../../data/recommendations\"\n",
    "if not os.path.exists(data_path):\n",
    "    os.mkdir(data_path)"
   ]
  },
  {
   "cell_type": "code",
   "execution_count": 5,
   "id": "57946395-ecb9-4ec9-a228-ae9f5bc69e9f",
   "metadata": {},
   "outputs": [
    {
     "data": {
      "application/vnd.jupyter.widget-view+json": {
       "model_id": "976930bc215344a49424bc4defc2fdc2",
       "version_major": 2,
       "version_minor": 0
      },
      "text/plain": [
       "Executing:   0%|          | 0/8 [00:00<?, ?cell/s]"
      ]
     },
     "metadata": {},
     "output_type": "display_data"
    }
   ],
   "source": [
    "pm.execute_notebook(\n",
    "    \"InitializeRecommendations.ipynb\",\n",
    "    f\"{data_path}/InitializeRecommendations.ipynb\",\n",
    "    parameters=dict(username=username, source=source),\n",
    ");"
   ]
  },
  {
   "cell_type": "code",
   "execution_count": 6,
   "id": "86f8058a-2fba-43bb-9aa2-2e8d18a28dd5",
   "metadata": {},
   "outputs": [
    {
     "data": {
      "application/vnd.jupyter.widget-view+json": {
       "model_id": "a9476e1c4a2845c89fe79024c891278f",
       "version_major": 2,
       "version_minor": 0
      },
      "text/plain": [
       "Executing:   0%|          | 0/16 [00:00<?, ?cell/s]"
      ]
     },
     "metadata": {},
     "output_type": "display_data"
    }
   ],
   "source": [
    "pm.execute_notebook(\n",
    "    \"FetchUserAnimeList.ipynb\",\n",
    "    f\"{data_path}/FetchUserAnimeList.ipynb\",\n",
    "    parameters=dict(username=username, source=source),\n",
    ");"
   ]
  },
  {
   "cell_type": "code",
   "execution_count": 7,
   "id": "d57cea0d-479a-446c-8a7c-f3ab70728239",
   "metadata": {},
   "outputs": [
    {
     "data": {
      "application/vnd.jupyter.widget-view+json": {
       "model_id": "fc6c1e2e0f7f438fae055fc2201c951a",
       "version_major": 2,
       "version_minor": 0
      },
      "text/plain": [
       "Executing:   0%|          | 0/11 [00:00<?, ?cell/s]"
      ]
     },
     "metadata": {},
     "output_type": "display_data"
    },
    {
     "name": "stdout",
     "output_type": "stream",
     "text": [
      "Starting kernel event loops.\n"
     ]
    }
   ],
   "source": [
    "pm.execute_notebook(\n",
    "    \"CompressUserAnimeList.ipynb\",\n",
    "    f\"{data_path}/CompressUserAnimeList.ipynb\",\n",
    "    parameters=dict(username=username),\n",
    ");"
   ]
  },
  {
   "cell_type": "code",
   "execution_count": null,
   "id": "f7cd304b-1d38-442c-86c8-fd54301afe05",
   "metadata": {},
   "outputs": [],
   "source": []
  }
 ],
 "metadata": {
  "kernelspec": {
   "display_name": "Python 3 (ipykernel)",
   "language": "python",
   "name": "python3"
  },
  "language_info": {
   "codemirror_mode": {
    "name": "ipython",
    "version": 3
   },
   "file_extension": ".py",
   "mimetype": "text/x-python",
   "name": "python",
   "nbconvert_exporter": "python",
   "pygments_lexer": "ipython3",
   "version": "3.8.9"
  }
 },
 "nbformat": 4,
 "nbformat_minor": 5
}
