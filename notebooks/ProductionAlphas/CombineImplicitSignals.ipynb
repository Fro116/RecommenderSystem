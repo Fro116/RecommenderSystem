{
 "cells": [
  {
   "cell_type": "code",
   "execution_count": 1,
   "id": "c7a9cc07-4942-4597-9cca-449076d55ee3",
   "metadata": {},
   "outputs": [],
   "source": [
    "source = \"CombineImplicitSignals\";"
   ]
  },
  {
   "cell_type": "code",
   "execution_count": 2,
   "id": "df1985d4-a4cc-41de-8abb-3916a8feae14",
   "metadata": {},
   "outputs": [],
   "source": [
    "using NBInclude\n",
    "@nbinclude(\"Alpha.ipynb\");"
   ]
  },
  {
   "cell_type": "code",
   "execution_count": null,
   "id": "6a3665fe-72a6-4cf3-8ec9-98dad382a29f",
   "metadata": {},
   "outputs": [],
   "source": [
    "function compute_alpha()\n",
    "    params = read_params(source);\n",
    "    X = zeros(num_items());\n",
    "    \n",
    "    @showprogress for i = 1:length(params[\"alphas\"])\n",
    "        X += read_recommendee_alpha(params[\"alphas\"][i]).rating * params[\"β\"][i]\n",
    "    end    \n",
    "    \n",
    "    @showprogress for i = 1:length(params[\"priors\"])\n",
    "        X += params[\"priors\"][i] * params[\"β\"][i+length(params[\"alphas\"])]\n",
    "    end\n",
    "    \n",
    "    X = X / sum(X); # correct for floating point errors   \n",
    "    model(items) = X[items]\n",
    "    write_recommendee_alpha(model);    \n",
    "end;"
   ]
  },
  {
   "cell_type": "code",
   "execution_count": 3,
   "id": "e22973c7-9c78-4e1c-86c3-599b001eadab",
   "metadata": {},
   "outputs": [],
   "source": [
    "compute_alpha()"
   ]
  }
 ],
 "metadata": {
  "kernelspec": {
   "display_name": "Julia 1.6.3",
   "language": "julia",
   "name": "julia-1.6"
  },
  "language_info": {
   "file_extension": ".jl",
   "mimetype": "application/julia",
   "name": "julia",
   "version": "1.6.3"
  }
 },
 "nbformat": 4,
 "nbformat_minor": 5
}
