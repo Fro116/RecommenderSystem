{
 "cells": [
  {
   "cell_type": "markdown",
   "id": "c8444cb2-7790-417e-a55e-5877c091967f",
   "metadata": {},
   "source": [
    "# Common utitities for all production alphas"
   ]
  },
  {
   "cell_type": "code",
   "execution_count": null,
   "id": "359f04bc-c85a-4d08-9f75-b8cf82666d04",
   "metadata": {},
   "outputs": [],
   "source": [
    "function get_recommendee_username()\n",
    "    dir = \"../../data/recommendations\"\n",
    "    open(\"$dir/recommendee_username.txt\") do f\n",
    "        read(f, String)\n",
    "    end    \n",
    "end;"
   ]
  },
  {
   "cell_type": "code",
   "execution_count": null,
   "id": "c69e5a4c-de1e-49ad-9125-8955428b995a",
   "metadata": {},
   "outputs": [],
   "source": [
    "name = \"../../data/recommendations/$(get_recommendee_username())/alphas/$source\"\n",
    "residual_alphas = [];"
   ]
  },
  {
   "cell_type": "code",
   "execution_count": null,
   "id": "ee4cd69a-bcb7-4ea1-be5c-eae322fad926",
   "metadata": {},
   "outputs": [],
   "source": [
    "@nbinclude(\"../TrainingAlphas/Alpha.ipynb\");"
   ]
  },
  {
   "cell_type": "code",
   "execution_count": null,
   "id": "871950fa-abc4-45e3-b4aa-996de7858441",
   "metadata": {},
   "outputs": [],
   "source": [
    "using DataFrames"
   ]
  },
  {
   "cell_type": "code",
   "execution_count": null,
   "id": "a1c46f03-e76d-4e2c-b76a-a54b9cb3771f",
   "metadata": {},
   "outputs": [],
   "source": [
    "function get_recommendee_list()\n",
    "    username = get_recommendee_username()\n",
    "    dir = \"../../data/recommendations\"\n",
    "    file = \"$dir/$username/user_anime_list.jld2\"\n",
    "    load(file)[\"user_anime_list\"]\n",
    "end;"
   ]
  },
  {
   "cell_type": "code",
   "execution_count": null,
   "id": "09e4ef94-e9ef-4353-933e-d5d9d65a4791",
   "metadata": {},
   "outputs": [],
   "source": [
    "function write_recommendee_predictions(model)\n",
    "    df = DataFrame(CSV.File(\"../../data/processed_data/anime_to_uid.csv\"))\n",
    "    items = 1:maximum(df.uid)\n",
    "    training = get_recommendee_list()\n",
    "    users = fill(training.user[1], length(items))\n",
    "    predictions = RatingsDataset(users, items, model(items))\n",
    "\n",
    "    dir = \"../../data/recommendations\"\n",
    "    username = get_recommendee_username()\n",
    "    outdir = mkpath(\"$dir/$username/alphas/$source\")\n",
    "    save(\"$outdir/predictions.jld2\", Dict(\"predictions\" => predictions))\n",
    "end;"
   ]
  }
 ],
 "metadata": {
  "kernelspec": {
   "display_name": "Julia 1.6.3",
   "language": "julia",
   "name": "julia-1.6"
  },
  "language_info": {
   "file_extension": ".jl",
   "mimetype": "application/julia",
   "name": "julia",
   "version": "1.6.3"
  }
 },
 "nbformat": 4,
 "nbformat_minor": 5
}
