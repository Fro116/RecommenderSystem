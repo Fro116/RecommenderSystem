{
 "cells": [
  {
   "cell_type": "markdown",
   "id": "c8444cb2-7790-417e-a55e-5877c091967f",
   "metadata": {},
   "source": [
    "# Common utitities for all production alphas"
   ]
  },
  {
   "cell_type": "code",
   "execution_count": null,
   "id": "359f04bc-c85a-4d08-9f75-b8cf82666d04",
   "metadata": {},
   "outputs": [],
   "source": [
    "function get_recommendee_username()\n",
    "    dir = \"../../data/recommendations\"\n",
    "    open(\"$dir/recommendee_username.txt\") do f\n",
    "        read(f, String)\n",
    "    end    \n",
    "end;"
   ]
  },
  {
   "cell_type": "code",
   "execution_count": null,
   "id": "c69e5a4c-de1e-49ad-9125-8955428b995a",
   "metadata": {},
   "outputs": [],
   "source": [
    "name = \"../../data/recommendations/$(get_recommendee_username())/alphas/$source\"\n",
    "residual_alphas = [];"
   ]
  },
  {
   "cell_type": "code",
   "execution_count": null,
   "id": "871950fa-abc4-45e3-b4aa-996de7858441",
   "metadata": {},
   "outputs": [],
   "source": [
    "using DataFrames"
   ]
  },
  {
   "cell_type": "code",
   "execution_count": null,
   "id": "ee4cd69a-bcb7-4ea1-be5c-eae322fad926",
   "metadata": {},
   "outputs": [],
   "source": [
    "@nbinclude(\"../TrainingAlphas/Alpha.ipynb\");"
   ]
  },
  {
   "cell_type": "code",
   "execution_count": null,
   "id": "7158750b-c68d-4e1b-bc65-ea527fbd0a8e",
   "metadata": {},
   "outputs": [],
   "source": [
    "function get_recommendee_list()\n",
    "    username = get_recommendee_username()\n",
    "    dir = \"../../data/recommendations\"\n",
    "    file = \"$dir/$username/splits.jld2\"\n",
    "    load(file)[\"user_anime_list\"]\n",
    "end\n",
    "\n",
    "function get_implicit_list()\n",
    "    username = get_recommendee_username()\n",
    "    dir = \"../../data/recommendations\"\n",
    "    file = \"$dir/$username/splits.jld2\"\n",
    "    load(file)[\"implicit_anime_list\"]    \n",
    "end\n",
    "\n",
    "function get_split(split)\n",
    "    @assert split in\n",
    "            [\"training\", \"validation\", \"test\", \"recommendee\", \"recommendee_inference\"]\n",
    "    file = \"../../data/splits/splits.jld2\"\n",
    "    if split == \"recommendee\"\n",
    "        return get_recommendee_list()\n",
    "    elseif split == \"recommendee_inference\"\n",
    "        df = get_recommendee_list()\n",
    "        return RatingsDataset(\n",
    "            fill(df.user[1], num_items()),\n",
    "            collect(1:num_items()),\n",
    "            zeros(num_items()),\n",
    "        )\n",
    "    elseif split == \"training\"\n",
    "        return cat(load(file, split), get_recommendee_list())\n",
    "    end\n",
    "    load(file, split)\n",
    "end;"
   ]
  },
  {
   "cell_type": "code",
   "execution_count": null,
   "id": "3f56c37b-9325-490a-b90c-e3257dadabf4",
   "metadata": {},
   "outputs": [],
   "source": [
    "function recommendee_alpha_basepath()\n",
    "    dir = \"../../data/recommendations\"\n",
    "    username = get_recommendee_username()\n",
    "    mkpath(\"$dir/$username/alphas\")    \n",
    "end"
   ]
  },
  {
   "cell_type": "code",
   "execution_count": null,
   "id": "09e4ef94-e9ef-4353-933e-d5d9d65a4791",
   "metadata": {},
   "outputs": [],
   "source": [
    "function write_recommendee_alpha(model; outdir = source)\n",
    "    items = 1:num_items()\n",
    "    training = get_recommendee_list()\n",
    "    users = fill(training.user[1], length(items))\n",
    "    alpha = RatingsDataset(users, items, model(items))\n",
    "\n",
    "    outdir = mkpath(\"$(recommendee_alpha_basepath())/$outdir\")\n",
    "    save(\"$outdir/alpha.jld2\", Dict(\"alpha\" => alpha))\n",
    "end;"
   ]
  },
  {
   "cell_type": "code",
   "execution_count": null,
   "id": "79924ce4-ea3f-4657-88b2-4fcceb64f5c3",
   "metadata": {},
   "outputs": [],
   "source": [
    "function read_recommendee_alpha(alpha)\n",
    "    load(\"$(recommendee_alpha_basepath())/$alpha/alpha.jld2\")[\"alpha\"]\n",
    "end;\n",
    "\n",
    "function get_alpha(alpha, split)\n",
    "    @assert split in\n",
    "            [\"training\", \"validation\", \"test\", \"recommendee\", \"recommendee_inference\"]\n",
    "    file = \"../../data/alphas/$(alpha)/predictions.jld2\"\n",
    "    if split in [\"recommendee\", \"training\"]\n",
    "        mask = get_split(\"recommendee\").item\n",
    "        df = read_recommendee_alpha(alpha)\n",
    "        df = RatingsDataset(df.user[mask], df.item[mask], df.rating[mask])\n",
    "        return split == \"recommendee\" ? df : cat(load(file, split), df)\n",
    "    elseif split == \"recommendee_inference\"\n",
    "        return read_recommendee_alpha(alpha)\n",
    "    end\n",
    "    load(file, split)\n",
    "end;"
   ]
  },
  {
   "cell_type": "code",
   "execution_count": null,
   "id": "f6674044-d42c-40fe-b556-297e38b456e5",
   "metadata": {},
   "outputs": [],
   "source": [
    "function reset_recommenndee_alphas()\n",
    "    rm(recommendee_alpha_basepath(), recursive=true)\n",
    "end;"
   ]
  },
  {
   "cell_type": "code",
   "execution_count": null,
   "id": "758696f8-58c1-4557-893f-dd330bf0eb91",
   "metadata": {},
   "outputs": [],
   "source": [
    "function should_compute(alpha)\n",
    "    dir = recommendee_alpha_basepath() \n",
    "    # see if we've already computed this alpha\n",
    "    if isfile(\"$dir/alpha/alpha.jld2\")\n",
    "        return false\n",
    "    end\n",
    "    \n",
    "    # see if we have the dependencies necessary to compute the alpha\n",
    "    residual_alphas = missing\n",
    "    for key in [\"residual_alphas\", \"training_residuals\"]\n",
    "        if key in keys(read_params(alpha))\n",
    "            residual_alphas = read_params(alpha)[key]\n",
    "        end\n",
    "    end\n",
    "    if ismissing(residual_alphas)\n",
    "        throw(ArgumentError(\"Could not find residual alphas for $alpha\"))\n",
    "    end\n",
    "    for α in residual_alphas\n",
    "        if !isfile(\"$dir/$α/alpha.jld2\")\n",
    "            return false\n",
    "        end\n",
    "    end\n",
    "    \n",
    "    # we're good to go!\n",
    "    true\n",
    "end;"
   ]
  }
 ],
 "metadata": {
  "kernelspec": {
   "display_name": "Julia 1.6.3",
   "language": "julia",
   "name": "julia-1.6"
  },
  "language_info": {
   "file_extension": ".jl",
   "mimetype": "application/julia",
   "name": "julia",
   "version": "1.6.3"
  }
 },
 "nbformat": 4,
 "nbformat_minor": 5
}
