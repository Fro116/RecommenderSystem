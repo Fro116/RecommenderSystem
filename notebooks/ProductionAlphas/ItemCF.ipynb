{
 "cells": [
  {
   "cell_type": "markdown",
   "id": "c3758ece-9b72-47b4-ae6a-aa364e0443e3",
   "metadata": {},
   "source": [
    "# Item Collaborative Filtering\n",
    "* Computes Item Collaborative Filtering alphas for the recommendee\n",
    "* See `../TrainingAlphas/ItemCF.ipynb` for algorithm details"
   ]
  },
  {
   "cell_type": "code",
   "execution_count": 1,
   "id": "7cc9334a-2287-41d6-885b-a5cca94fe263",
   "metadata": {},
   "outputs": [],
   "source": [
    "source = \"ItemCF\";"
   ]
  },
  {
   "cell_type": "code",
   "execution_count": 2,
   "id": "d17593ac-3260-4c01-a5df-91edfcd17e13",
   "metadata": {},
   "outputs": [],
   "source": [
    "using NBInclude\n",
    "@nbinclude(\"Alpha.ipynb\");"
   ]
  },
  {
   "cell_type": "markdown",
   "id": "bff8e524-e8f8-48bd-9ca7-c28a05a122b8",
   "metadata": {},
   "source": [
    "## Determine the neighborhoods for each user and item"
   ]
  },
  {
   "cell_type": "code",
   "execution_count": 3,
   "id": "c9572dd9-db8e-4b1c-83ca-cacc666325f9",
   "metadata": {},
   "outputs": [],
   "source": [
    "function read_similarity_matrix(outdir)\n",
    "    read_params(outdir)[\"S\"]\n",
    "end;"
   ]
  },
  {
   "cell_type": "code",
   "execution_count": 4,
   "id": "cd34115c-51b5-4af1-908d-4322a46d5918",
   "metadata": {},
   "outputs": [],
   "source": [
    "function get_abs_neighborhood(item, S, K)\n",
    "    weights = S[:, item]\n",
    "    K = Int(min(K, length(weights) - 1))\n",
    "    # skip the most correlated item because it's always itself\n",
    "    order = partialsortperm(abs.(weights), 2:K+1, rev = true)\n",
    "    order, weights[order]\n",
    "end;"
   ]
  },
  {
   "cell_type": "code",
   "execution_count": 5,
   "id": "00ebb580-b942-4113-8d60-78a83042d876",
   "metadata": {},
   "outputs": [],
   "source": [
    "# each prediction is just the weighted sum of all items in the neighborhood\n",
    "# we apply regularization terms to decay the weights, ratings, and final prediction\n",
    "function make_prediction(item, users, R, get_neighborhood, λ)\n",
    "    if item > size(R)[2]\n",
    "        # the item was not in our training set; we have no information\n",
    "        return zeros(length(item))\n",
    "    end\n",
    "    items, weights = get_neighborhood(item)\n",
    "    decay(x, a) = x != 0 ? sign(x) * abs(x)^a : 0\n",
    "    weights = decay.(weights, λ[1])\n",
    "    predictions = zeros(eltype(weights), length(users))\n",
    "    weight_sum = zeros(eltype(weights), length(users))\n",
    "    for u = 1:length(users)\n",
    "        for (i, weight) in zip(items, weights)\n",
    "            if R[users[u], i] != 0\n",
    "                predictions[u] += weight * decay(R[users[u], i], λ[2])\n",
    "                weight_sum[u] += abs(weight)\n",
    "            end\n",
    "        end\n",
    "    end\n",
    "    for u = 1:length(users)\n",
    "        if weight_sum[u] + λ[3] != 0\n",
    "            predictions[u] /= (weight_sum[u] + λ[3])\n",
    "        end\n",
    "    end\n",
    "    predictions\n",
    "end;"
   ]
  },
  {
   "cell_type": "code",
   "execution_count": 6,
   "id": "5214736f-516e-4d6f-8f0b-92171355ebe5",
   "metadata": {},
   "outputs": [],
   "source": [
    "function collaborative_filtering(training, inference, get_neighborhood, λ)\n",
    "    R = sparse(\n",
    "        training.user,\n",
    "        training.item,\n",
    "        training.rating,\n",
    "        maximum(training.user),\n",
    "        num_items(),\n",
    "    )\n",
    "\n",
    "    preds = zeros(eltype(λ), length(inference.rating), Threads.nthreads())\n",
    "    @tprogress Threads.@threads for item in collect(Set(inference.item))\n",
    "        mask = inference.item .== item\n",
    "        preds[mask, Threads.threadid()] =\n",
    "            make_prediction(item, inference.user[mask], R, get_neighborhood, λ)\n",
    "    end\n",
    "\n",
    "    vec(sum(preds, dims = 2))\n",
    "end;"
   ]
  },
  {
   "cell_type": "markdown",
   "id": "94cf908b-4b56-412a-9765-c13021874f41",
   "metadata": {},
   "source": [
    "## Item based CF"
   ]
  },
  {
   "cell_type": "code",
   "execution_count": 7,
   "id": "67c55780-0666-47d9-881a-a5035061913f",
   "metadata": {},
   "outputs": [
    {
     "data": {
      "text/plain": [
       "10-element Vector{String}:\n",
       " \"ItemCF.16\"\n",
       " \"ItemCF.64\"\n",
       " \"ItemCF.256\"\n",
       " \"ItemCF.1024\"\n",
       " \"ItemCFResid.16\"\n",
       " \"ItemCFResid.64\"\n",
       " \"ItemCFResid.256\"\n",
       " \"ItemCFResid.1024\"\n",
       " \"ItemCFRelated.strict_relations\"\n",
       " \"ItemCFEmbed.1024\""
      ]
     },
     "execution_count": 7,
     "metadata": {},
     "output_type": "execute_result"
    }
   ],
   "source": [
    "function get_alphas()\n",
    "    [x for x in read_params(\"CombineSignals\")[\"alphas\"] if occursin(\"ItemCF\", x)]\n",
    "end;"
   ]
  },
  {
   "cell_type": "code",
   "execution_count": 8,
   "id": "defaefcb-d98d-420b-9956-f955e9430176",
   "metadata": {},
   "outputs": [
    {
     "name": "stderr",
     "output_type": "stream",
     "text": [
      "\u001b[32mProgress: 100%|███████████████████████████| Time: 0:00:02 ( 2.69 ms/it)\u001b[39m\n",
      "\u001b[32mProgress: 100%|███████████████████████████| Time: 0:00:01 ( 1.22 ms/it)\u001b[39m\n",
      "\u001b[32mProgress: 100%|███████████████████████████| Time: 0:00:00 ( 0.69 ms/it)\u001b[39m\n",
      "\u001b[32mProgress: 100%|███████████████████████████| Time: 0:00:01 ( 1.68 ms/it)\u001b[39m\n",
      "\u001b[32mProgress: 100%|███████████████████████████| Time: 0:00:00 ( 0.44 ms/it)\u001b[39m\n",
      "\u001b[32mProgress: 100%|███████████████████████████| Time: 0:00:00 ( 0.46 ms/it)\u001b[39m\n",
      "\u001b[32mProgress: 100%|███████████████████████████| Time: 0:00:00 ( 0.66 ms/it)\u001b[39m\n",
      "\u001b[32mProgress: 100%|███████████████████████████| Time: 0:00:01 ( 1.68 ms/it)\u001b[39m\n",
      "\u001b[32mProgress: 100%|███████████████████████████| Time: 0:00:01 ( 1.25 ms/it)\u001b[39m\n",
      "\u001b[32mProgress: 100%|███████████████████████████| Time: 0:00:03 ( 2.86 ms/it)\u001b[39m\n"
     ]
    }
   ],
   "source": [
    "function compute_alpha(alpha)\n",
    "    params = read_params(alpha)\n",
    "    S = read_similarity_matrix(params[\"S\"])\n",
    "    K = params[\"K\"]\n",
    "    neighborhood_types = Dict(\"abs\" => get_abs_neighborhood)\n",
    "    neighborhoods = i -> neighborhood_types[params[\"neighborhood_type\"]](i, S, K)\n",
    "    λ = params[\"λ\"]\n",
    "    training = get_residuals(\"recommendee\", params[\"training_residuals\"])\n",
    "    training.user .= 1 # relabel ids so that recommendee -> 1\n",
    "    inference = RatingsDataset(fill(1, num_items()), 1:num_items(), zeros(num_items()))\n",
    "    predictions = collaborative_filtering(training, inference, neighborhoods, λ)\n",
    "    model(items) = predictions[items]\n",
    "    write_recommendee_alpha(model, outdir = alpha)\n",
    "end;"
   ]
  },
  {
   "cell_type": "code",
   "execution_count": null,
   "id": "7dd85e5f-4b83-48cd-b5a5-1013b52cb00d",
   "metadata": {},
   "outputs": [],
   "source": [
    "for alpha in get_alphas()\n",
    "    compute_alpha(alpha)\n",
    "end;"
   ]
  }
 ],
 "metadata": {
  "kernelspec": {
   "display_name": "Julia 1.6.3",
   "language": "julia",
   "name": "julia-1.6"
  },
  "language_info": {
   "file_extension": ".jl",
   "mimetype": "application/julia",
   "name": "julia",
   "version": "1.6.3"
  }
 },
 "nbformat": 4,
 "nbformat_minor": 5
}
