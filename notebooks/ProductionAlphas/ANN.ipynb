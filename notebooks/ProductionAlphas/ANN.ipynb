{
 "cells": [
  {
   "cell_type": "code",
   "execution_count": 1,
   "id": "596cf9b9-7752-481e-bcb5-7f8150129df7",
   "metadata": {},
   "outputs": [],
   "source": [
    "source = \"ANN\";\n",
    "residual_alphas = [\"UserItemBiases\"];"
   ]
  },
  {
   "cell_type": "code",
   "execution_count": 2,
   "id": "29400691-b393-48e6-8b43-e118932e7c5e",
   "metadata": {},
   "outputs": [],
   "source": [
    "using Flux\n",
    "import BSON"
   ]
  },
  {
   "cell_type": "code",
   "execution_count": 3,
   "id": "a2904792-3994-4d66-9c12-798ff1d7a50a",
   "metadata": {},
   "outputs": [],
   "source": [
    "using NBInclude\n",
    "@nbinclude(\"Alpha.ipynb\");"
   ]
  },
  {
   "cell_type": "code",
   "execution_count": 4,
   "id": "42b52a04-8ac2-4970-8076-7e0f8bbec7cb",
   "metadata": {},
   "outputs": [],
   "source": [
    "BSON.@load \"../../data/alphas/$source/model.bson\" m"
   ]
  },
  {
   "cell_type": "code",
   "execution_count": 5,
   "id": "22056ec0-d0fe-4f06-bf85-afb9fe7254ae",
   "metadata": {},
   "outputs": [],
   "source": [
    "df = cat(get_recommendee_list(), get_implicit_list());"
   ]
  },
  {
   "cell_type": "code",
   "execution_count": 6,
   "id": "fa95810b-2f75-4158-9d4d-52300b5b87bf",
   "metadata": {},
   "outputs": [],
   "source": [
    "X = zeros(Float32, num_items());\n",
    "X[df.item] .= 1;"
   ]
  },
  {
   "cell_type": "code",
   "execution_count": 7,
   "id": "35f52827-d203-4fa5-96bc-4de4d4052ab9",
   "metadata": {},
   "outputs": [],
   "source": [
    "function get_input(X)\n",
    "    # normalize for embeddings\n",
    "    weight = sum(X .!= 0)\n",
    "    if weight == 0\n",
    "        weight = 1\n",
    "    end\n",
    "    X = X ./ weight\n",
    "\n",
    "    return X\n",
    "end;"
   ]
  },
  {
   "cell_type": "code",
   "execution_count": 8,
   "id": "1305f10f-5a1c-4e2f-925c-6e047246a184",
   "metadata": {},
   "outputs": [],
   "source": [
    "p = exp.(m(get_input(X)))\n",
    "p = p ./ sum(p);"
   ]
  },
  {
   "cell_type": "code",
   "execution_count": 9,
   "id": "16e4dde8-6d3e-4d1a-a527-884b07659749",
   "metadata": {},
   "outputs": [],
   "source": [
    "model(items) = p[items]\n",
    "write_recommendee_alpha(model)"
   ]
  }
 ],
 "metadata": {
  "kernelspec": {
   "display_name": "Julia 1.6.3",
   "language": "julia",
   "name": "julia-1.6"
  },
  "language_info": {
   "file_extension": ".jl",
   "mimetype": "application/julia",
   "name": "julia",
   "version": "1.6.3"
  }
 },
 "nbformat": 4,
 "nbformat_minor": 5
}
