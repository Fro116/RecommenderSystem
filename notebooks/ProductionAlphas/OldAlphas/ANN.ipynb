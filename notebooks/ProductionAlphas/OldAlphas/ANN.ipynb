{
 "cells": [
  {
   "cell_type": "code",
   "execution_count": 1,
   "id": "596cf9b9-7752-481e-bcb5-7f8150129df7",
   "metadata": {},
   "outputs": [],
   "source": [
    "source = \"ANN\";\n",
    "residual_alphas = [\"UserItemBiases\"];"
   ]
  },
  {
   "cell_type": "code",
   "execution_count": 2,
   "id": "29400691-b393-48e6-8b43-e118932e7c5e",
   "metadata": {},
   "outputs": [],
   "source": [
    "using Flux\n",
    "import BSON"
   ]
  },
  {
   "cell_type": "code",
   "execution_count": 3,
   "id": "a2904792-3994-4d66-9c12-798ff1d7a50a",
   "metadata": {},
   "outputs": [],
   "source": [
    "using NBInclude\n",
    "@nbinclude(\"Alpha.ipynb\");"
   ]
  },
  {
   "cell_type": "code",
   "execution_count": 7,
   "id": "35f52827-d203-4fa5-96bc-4de4d4052ab9",
   "metadata": {},
   "outputs": [],
   "source": [
    "function get_input(X)\n",
    "    # normalize for embeddings\n",
    "    weight = sum(X .!= 0)\n",
    "    if weight == 0\n",
    "        weight = 1\n",
    "    end\n",
    "    X = X ./ weight\n",
    "    return X\n",
    "end;"
   ]
  },
  {
   "cell_type": "code",
   "execution_count": null,
   "id": "6d87a9e5-dc78-4da2-9530-833c84d60d6b",
   "metadata": {},
   "outputs": [],
   "source": [
    "function compute_alpha()\n",
    "    BSON.@load \"../../data/alphas/$source/model.bson\" m\n",
    "    df = cat(get_recommendee_list(), get_implicit_list());\n",
    "    X = zeros(Float32, num_items());\n",
    "    X[df.item] .= 1;\n",
    "    p = exp.(m(get_input(X)))\n",
    "    p = p ./ sum(p);\n",
    "    model(items) = p[items]\n",
    "    write_recommendee_alpha(model)\n",
    "end"
   ]
  },
  {
   "cell_type": "code",
   "execution_count": null,
   "id": "ba6e58d9-9844-45e6-8b3c-415f69e36c8f",
   "metadata": {},
   "outputs": [],
   "source": [
    "compute_alpha()"
   ]
  }
 ],
 "metadata": {
  "kernelspec": {
   "display_name": "Julia 1.6.3",
   "language": "julia",
   "name": "julia-1.6"
  },
  "language_info": {
   "file_extension": ".jl",
   "mimetype": "application/julia",
   "name": "julia",
   "version": "1.6.3"
  }
 },
 "nbformat": 4,
 "nbformat_minor": 5
}
