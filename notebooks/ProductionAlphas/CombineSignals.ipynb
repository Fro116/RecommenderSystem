{
 "cells": [
  {
   "cell_type": "code",
   "execution_count": 1,
   "id": "c7a9cc07-4942-4597-9cca-449076d55ee3",
   "metadata": {},
   "outputs": [],
   "source": [
    "source = \"CombineSignals\";"
   ]
  },
  {
   "cell_type": "code",
   "execution_count": 2,
   "id": "df1985d4-a4cc-41de-8abb-3916a8feae14",
   "metadata": {},
   "outputs": [],
   "source": [
    "using NBInclude\n",
    "import XGBoost\n",
    "@nbinclude(\"Alpha.ipynb\");"
   ]
  },
  {
   "cell_type": "code",
   "execution_count": 3,
   "id": "6332589b-920b-492c-ae0f-cb2b691c2d7c",
   "metadata": {},
   "outputs": [],
   "source": [
    "@nbinclude(\"../TrainingAlphas/XGBoostFeatures.ipynb\");"
   ]
  },
  {
   "cell_type": "code",
   "execution_count": 4,
   "id": "9b787122-46dd-45b8-a871-113d4b9b3287",
   "metadata": {},
   "outputs": [],
   "source": [
    "# used for XGBoostFeatures\n",
    "function read_params(alpha)\n",
    "    params = load(\"../../data/alphas/$alpha/params.jld2\")\n",
    "    if alpha == \"UserItemBiases\"\n",
    "        μ = mean(read_recommendee_alpha(\"UserItemBiases\").rating - params[\"a\"])\n",
    "        push!(params[\"u\"], μ)\n",
    "    end\n",
    "    params\n",
    "end;"
   ]
  },
  {
   "cell_type": "code",
   "execution_count": 5,
   "id": "e22973c7-9c78-4e1c-86c3-599b001eadab",
   "metadata": {},
   "outputs": [],
   "source": [
    "params = read_params(source);"
   ]
  },
  {
   "cell_type": "code",
   "execution_count": 6,
   "id": "9dc9dcac-83e6-45a1-b4fd-0d87b24ef426",
   "metadata": {},
   "outputs": [
    {
     "name": "stderr",
     "output_type": "stream",
     "text": [
      "\u001b[32mProgress: 100%|█████████████████████████████████████████| Time: 0:00:00\u001b[39m\n",
      "\u001b[32mProgress: 100%|███████████████████████████| Time: 0:00:00 ( 0.23 μs/it)\u001b[39mit)\u001b[39m\n",
      "\u001b[32mProgress: 100%|███████████████████████████| Time: 0:00:00 ( 0.18 μs/it)\u001b[39m\n",
      "\u001b[32mProgress: 100%|███████████████████████████| Time: 0:00:02 ( 0.57 μs/it)\u001b[39m\n",
      "\u001b[32mProgress: 100%|███████████████████████████| Time: 0:00:01 ( 0.39 μs/it)\u001b[39m\n",
      "\u001b[32mProgress: 100%|███████████████████████████| Time: 0:00:02 ( 0.54 μs/it)\u001b[39m\n",
      "\u001b[32mProgress: 100%|███████████████████████████| Time: 0:00:03 ( 0.88 μs/it)\u001b[39m\n",
      "\u001b[32mProgress: 100%|███████████████████████████| Time: 0:00:00 (95.26 μs/it)\u001b[39m\n",
      "\u001b[38;5;4m\u001b[1m[ \u001b[22m\u001b[39m\u001b[38;5;4m\u001b[1mDebug: \u001b[22m\u001b[39m20220117 02:16:12 nsfw categories: String7[\"white\"]\n",
      "\u001b[32mProgress: 100%|███████████████████████████| Time: 0:00:00 ( 0.24 ms/it)\u001b[39m\n",
      "\u001b[38;5;4m\u001b[1m[ \u001b[22m\u001b[39m\u001b[38;5;4m\u001b[1mDebug: \u001b[22m\u001b[39m20220117 02:16:13 medium categories: String7[\"movie\", \"music\", \"ona\", \"ova\", \"special\", \"tv\", \"unknown\"]\n",
      "\u001b[38;5;4m\u001b[1m[ \u001b[22m\u001b[39m\u001b[38;5;4m\u001b[1mDebug: \u001b[22m\u001b[39m20220117 02:16:14 source categories: String15[\"4_koma_manga\", \"NaN\", \"book\", \"card_game\", \"digital_manga\", \"game\", \"light_novel\", \"manga\", \"mixed_media\", \"music\", \"novel\", \"original\", \"other\", \"picture_book\", \"radio\", \"visual_novel\", \"web_manga\"]\n",
      "\u001b[32mProgress: 100%|███████████████████████████| Time: 0:00:00 ( 0.14 ms/it)\u001b[39m\n",
      "\u001b[38;5;4m\u001b[1m[ \u001b[22m\u001b[39m\u001b[38;5;4m\u001b[1mDebug: \u001b[22m\u001b[39m20220117 02:16:15 start_year categories: [1915.0, 1920.0, 1925.0, 1930.0, 1935.0, 1940.0, 1945.0, 1950.0, 1955.0, 1960.0, 1965.0, 1970.0, 1975.0, 1980.0, 1985.0, 1990.0, 1995.0, 2000.0, 2005.0, 2010.0, 2015.0, 2020.0, 2025.0, 2030.0, 2035.0]\n",
      "\u001b[32mProgress: 100%|███████████████████████████| Time: 0:00:04 ( 1.04 μs/it)\u001b[39m\n",
      "\u001b[38;5;4m\u001b[1m[ \u001b[22m\u001b[39m\u001b[38;5;4m\u001b[1mDebug: \u001b[22m\u001b[39m20220117 02:16:25 end_year categories: [1915.0, 1920.0, 1925.0, 1930.0, 1935.0, 1940.0, 1945.0, 1950.0, 1955.0, 1960.0, 1965.0, 1970.0, 1975.0, 1980.0, 1985.0, 1990.0, 1995.0, 2000.0, 2005.0, 2010.0, 2015.0, 2020.0, 2025.0, 2030.0, 2035.0]\n",
      "\u001b[32mProgress: 100%|███████████████████████████| Time: 0:00:04 ( 1.04 μs/it)\u001b[39m\n",
      "\u001b[38;5;4m\u001b[1m[ \u001b[22m\u001b[39m\u001b[38;5;4m\u001b[1mDebug: \u001b[22m\u001b[39m20220117 02:16:34 nsfw categories: String7[\"white\"]\n",
      "\u001b[32mProgress: 100%|███████████████████████████| Time: 0:00:03 ( 0.80 μs/it)\u001b[39m\n",
      "\u001b[38;5;4m\u001b[1m[ \u001b[22m\u001b[39m\u001b[38;5;4m\u001b[1mDebug: \u001b[22m\u001b[39m20220117 02:16:42 medium categories: String7[\"movie\", \"music\", \"ona\", \"ova\", \"special\", \"tv\", \"unknown\"]\n",
      "\u001b[32mProgress: 100%|███████████████████████████| Time: 0:00:03 ( 0.81 μs/it)\u001b[39m\n",
      "\u001b[38;5;4m\u001b[1m[ \u001b[22m\u001b[39m\u001b[38;5;4m\u001b[1mDebug: \u001b[22m\u001b[39m20220117 02:16:50 num_episodes categories: [0.0, 1.0, 2.0, 3.0, 4.0, 5.0, 6.0, 13.0, 26.0, 52.0, 100.0]\n",
      "\u001b[32mProgress: 100%|███████████████████████████| Time: 0:00:02 ( 0.66 μs/it)\u001b[39m\n",
      "\u001b[38;5;4m\u001b[1m[ \u001b[22m\u001b[39m\u001b[38;5;4m\u001b[1mDebug: \u001b[22m\u001b[39m20220117 02:16:58 source categories: String15[\"4_koma_manga\", \"book\", \"card_game\", \"digital_manga\", \"game\", \"light_novel\", \"manga\", \"mixed_media\", \"music\", \"novel\", \"original\", \"other\", \"picture_book\", \"radio\", \"visual_novel\", \"web_manga\"]\n",
      "\u001b[32mProgress: 100%|███████████████████████████| Time: 0:00:02 ( 0.68 μs/it)\u001b[39m\n",
      "\u001b[38;5;4m\u001b[1m[ \u001b[22m\u001b[39m\u001b[38;5;4m\u001b[1mDebug: \u001b[22m\u001b[39m20220117 02:17:07 average_episode_duration categories: [0.0, 600.0, 1200.0, 1800.0, 3600.0, 5400.0, 7200.0, 9000.0, 10800.0]\n",
      "\u001b[32mProgress: 100%|███████████████████████████| Time: 0:00:02 ( 0.65 μs/it)\u001b[39m\n"
     ]
    }
   ],
   "source": [
    "X = get_augmented_indep(\"recommendee_inference\", params[\"alphas\"], params[\"β\"]);"
   ]
  },
  {
   "cell_type": "code",
   "execution_count": 7,
   "id": "ca443864-43da-4d9a-8651-8054d31af978",
   "metadata": {
    "tags": []
   },
   "outputs": [],
   "source": [
    "bst = XGBoost.Booster(model_file = params[\"bst\"])\n",
    "boost_preds = XGBoost.predict(bst, X)\n",
    "predictions =\n",
    "    get_indep(\"recommendee_inference\", params[\"alphas\"]) * params[\"β\"] + boost_preds;"
   ]
  },
  {
   "cell_type": "code",
   "execution_count": 8,
   "id": "bdfd62a2-d1e0-4507-9a8c-d050de9a402f",
   "metadata": {},
   "outputs": [
    {
     "name": "stderr",
     "output_type": "stream",
     "text": [
      "\u001b[38;5;4m\u001b[1m[ \u001b[22m\u001b[39m\u001b[38;5;4m\u001b[1mDebug: \u001b[22m\u001b[39m20220117 02:17:17 average bst magnitude: 0.15520689, 0.20645452\n"
     ]
    }
   ],
   "source": [
    "@debug \"average bst magnitude: $(mean(abs.(boost_preds))), $(sqrt(mean(boost_preds .^ 2)))\""
   ]
  },
  {
   "cell_type": "code",
   "execution_count": 9,
   "id": "1edf33b5-a127-4937-a8dd-686ced8d937c",
   "metadata": {},
   "outputs": [],
   "source": [
    "model(items) = predictions[items]\n",
    "write_recommendee_alpha(model);"
   ]
  },
  {
   "cell_type": "markdown",
   "id": "8226ae79-f318-49f6-9698-4103cac6de4e",
   "metadata": {},
   "source": [
    "## Error model"
   ]
  },
  {
   "cell_type": "code",
   "execution_count": 10,
   "id": "f711d8b5-22b5-4f5b-8712-33cd66e58c10",
   "metadata": {},
   "outputs": [],
   "source": [
    "error_bst = XGBoost.Booster(model_file = params[\"error_bst\"])\n",
    "error_preds = sqrt.(clamp.(XGBoost.predict(error_bst, hcat(X, boost_preds)), 0, Inf));"
   ]
  },
  {
   "cell_type": "code",
   "execution_count": 12,
   "id": "6d9b8669-194a-4ad5-8ca9-8c68f735e366",
   "metadata": {},
   "outputs": [],
   "source": [
    "model(items) = error_preds[items]\n",
    "write_recommendee_alpha(model, outdir = \"PredictedErrors\");"
   ]
  }
 ],
 "metadata": {
  "kernelspec": {
   "display_name": "Julia 1.6.3",
   "language": "julia",
   "name": "julia-1.6"
  },
  "language_info": {
   "file_extension": ".jl",
   "mimetype": "application/julia",
   "name": "julia",
   "version": "1.6.3"
  }
 },
 "nbformat": 4,
 "nbformat_minor": 5
}
