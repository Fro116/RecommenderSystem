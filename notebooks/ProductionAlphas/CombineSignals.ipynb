{
 "cells": [
  {
   "cell_type": "code",
   "execution_count": 1,
   "id": "c7a9cc07-4942-4597-9cca-449076d55ee3",
   "metadata": {},
   "outputs": [],
   "source": [
    "source = \"CombineSignals\";"
   ]
  },
  {
   "cell_type": "code",
   "execution_count": 2,
   "id": "df1985d4-a4cc-41de-8abb-3916a8feae14",
   "metadata": {},
   "outputs": [],
   "source": [
    "using NBInclude\n",
    "@nbinclude(\"Alpha.ipynb\");"
   ]
  },
  {
   "cell_type": "code",
   "execution_count": 3,
   "id": "e22973c7-9c78-4e1c-86c3-599b001eadab",
   "metadata": {},
   "outputs": [],
   "source": [
    "params = read_params(source);"
   ]
  },
  {
   "cell_type": "code",
   "execution_count": 4,
   "id": "29d8afd3-be6d-4fc1-b28c-b7edebc27578",
   "metadata": {
    "tags": []
   },
   "outputs": [],
   "source": [
    "X = zeros(num_items(), length(params[\"alphas\"]))\n",
    "for j = 1:size(X)[2]\n",
    "    X[:, j] = read_recommendee_alpha(params[\"alphas\"][j]).rating\n",
    "end"
   ]
  },
  {
   "cell_type": "code",
   "execution_count": 5,
   "id": "57a26f7e-477d-4950-8660-0dc8b22ce54d",
   "metadata": {
    "tags": []
   },
   "outputs": [],
   "source": [
    "predictions = X * params[\"β\"];"
   ]
  },
  {
   "cell_type": "code",
   "execution_count": 6,
   "id": "1edf33b5-a127-4937-a8dd-686ced8d937c",
   "metadata": {},
   "outputs": [],
   "source": [
    "model(items) = predictions[items];"
   ]
  },
  {
   "cell_type": "code",
   "execution_count": 7,
   "id": "d3b29faf-2ac7-4f9a-bb7d-fb04c9392611",
   "metadata": {},
   "outputs": [],
   "source": [
    "write_recommendee_alpha(model);"
   ]
  }
 ],
 "metadata": {
  "kernelspec": {
   "display_name": "Julia 1.6.3",
   "language": "julia",
   "name": "julia-1.6"
  },
  "language_info": {
   "file_extension": ".jl",
   "mimetype": "application/julia",
   "name": "julia",
   "version": "1.6.3"
  }
 },
 "nbformat": 4,
 "nbformat_minor": 5
}
