{
 "cells": [
  {
   "cell_type": "code",
   "execution_count": null,
   "id": "c7a9cc07-4942-4597-9cca-449076d55ee3",
   "metadata": {},
   "outputs": [],
   "source": [
    "source = \"CombineSignals\";"
   ]
  },
  {
   "cell_type": "code",
   "execution_count": null,
   "id": "df1985d4-a4cc-41de-8abb-3916a8feae14",
   "metadata": {},
   "outputs": [],
   "source": [
    "using NBInclude\n",
    "import XGBoost\n",
    "@nbinclude(\"Alpha.ipynb\");"
   ]
  },
  {
   "cell_type": "code",
   "execution_count": null,
   "id": "6332589b-920b-492c-ae0f-cb2b691c2d7c",
   "metadata": {},
   "outputs": [],
   "source": [
    "@nbinclude(\"../TrainingAlphas/XGBoostFeatures.ipynb\");"
   ]
  },
  {
   "cell_type": "code",
   "execution_count": null,
   "id": "9b787122-46dd-45b8-a871-113d4b9b3287",
   "metadata": {},
   "outputs": [],
   "source": [
    "# used for XGBoostFeatures\n",
    "function read_params(alpha)\n",
    "    params = load(\"../../data/alphas/$alpha/params.jld2\")\n",
    "    if alpha == \"UserItemBiases\"\n",
    "        μ = mean(read_recommendee_alpha(\"UserItemBiases\").rating - params[\"a\"])\n",
    "        push!(params[\"u\"], μ)\n",
    "    end\n",
    "    params\n",
    "end;"
   ]
  },
  {
   "cell_type": "code",
   "execution_count": null,
   "id": "ab134860-a009-416b-a0a3-d9bcfda6a051",
   "metadata": {},
   "outputs": [],
   "source": [
    "function compute_alpha()\n",
    "    params = read_params(source);\n",
    "    X = get_augmented_indep(\"recommendee_inference\", params[\"alphas\"], params[\"β\"]);\n",
    "    bst = XGBoost.Booster(model_file = params[\"bst\"])\n",
    "    boost_preds = XGBoost.predict(bst, X)\n",
    "    predictions =\n",
    "        get_indep(\"recommendee_inference\", params[\"alphas\"]) * params[\"β\"] + boost_preds;\n",
    "    @debug \"average bst magnitude: $(mean(abs.(boost_preds))), $(sqrt(mean(boost_preds .^ 2)))\"\n",
    "    \n",
    "    # predictions\n",
    "    model(items) = predictions[items]\n",
    "    write_recommendee_alpha(model);\n",
    "    \n",
    "    # error predictions\n",
    "    error_bst = XGBoost.Booster(model_file = params[\"error_bst\"])\n",
    "    error_preds = clamp.(XGBoost.predict(error_bst, hcat(X, boost_preds)), 0, Inf);\n",
    "    model(items) = error_preds[items]\n",
    "    write_recommendee_alpha(model, outdir = \"PredictedErrors\");    \n",
    "end"
   ]
  },
  {
   "cell_type": "code",
   "execution_count": null,
   "id": "50697dfe-f004-4976-b681-dbcd0a369765",
   "metadata": {},
   "outputs": [],
   "source": [
    "compute_alpha()"
   ]
  }
 ],
 "metadata": {
  "kernelspec": {
   "display_name": "Julia 1.6.3",
   "language": "julia",
   "name": "julia-1.6"
  },
  "language_info": {
   "file_extension": ".jl",
   "mimetype": "application/julia",
   "name": "julia",
   "version": "1.6.3"
  }
 },
 "nbformat": 4,
 "nbformat_minor": 5
}
