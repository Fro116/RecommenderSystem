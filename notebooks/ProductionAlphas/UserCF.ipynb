{
 "cells": [
  {
   "cell_type": "markdown",
   "id": "c3758ece-9b72-47b4-ae6a-aa364e0443e3",
   "metadata": {},
   "source": [
    "# User Collaborative Filtering\n",
    "* Computes Item Collaborative Filtering alphas for the recommendee\n",
    "* See `../TrainingAlphas/UserCF.ipynb` for algorithm details"
   ]
  },
  {
   "cell_type": "code",
   "execution_count": 1,
   "id": "7cc9334a-2287-41d6-885b-a5cca94fe263",
   "metadata": {},
   "outputs": [],
   "source": [
    "source = \"UserCF\";"
   ]
  },
  {
   "cell_type": "code",
   "execution_count": 2,
   "id": "e7bfbeb8-fde8-4aad-956f-0d0f3b2ee449",
   "metadata": {},
   "outputs": [],
   "source": [
    "using DataStructures\n",
    "using LSHFunctions\n",
    "using Random"
   ]
  },
  {
   "cell_type": "code",
   "execution_count": 3,
   "id": "d17593ac-3260-4c01-a5df-91edfcd17e13",
   "metadata": {},
   "outputs": [],
   "source": [
    "using NBInclude\n",
    "@nbinclude(\"Alpha.ipynb\");"
   ]
  },
  {
   "cell_type": "markdown",
   "id": "bff8e524-e8f8-48bd-9ca7-c28a05a122b8",
   "metadata": {},
   "source": [
    "## Determine the neighborhoods for each user and item"
   ]
  },
  {
   "cell_type": "code",
   "execution_count": 4,
   "id": "5fbd815a-cabb-409b-9ad6-b8246ece9ec8",
   "metadata": {},
   "outputs": [],
   "source": [
    "const n_hashes = 64\n",
    "const bits_per_hash = 12\n",
    "\n",
    "Random.seed!(20220103)\n",
    "simhashfn = SimHash(n_hashes * bits_per_hash);\n",
    "function bitvec_to_int(x)\n",
    "    sum(2^(j - 1) * x[j] for j = 1:length(x))\n",
    "end\n",
    "\n",
    "function hashfn(x)\n",
    "    chunk_size = bits_per_hash\n",
    "    hashbits = simhashfn(x)\n",
    "    [\n",
    "        bitvec_to_int(hashbits[(k-1)*chunk_size+1:k*chunk_size]) for\n",
    "        k = 1:length(hashbits)÷chunk_size\n",
    "    ]\n",
    "end;"
   ]
  },
  {
   "cell_type": "code",
   "execution_count": 5,
   "id": "ec706701-c1dd-4aab-9851-0049896a5841",
   "metadata": {},
   "outputs": [],
   "source": [
    "@memoize function get_hash_buckets(R)\n",
    "    @debug \"generating hash buckets\"\n",
    "    t_hash_buckets =\n",
    "        [[DefaultDict(() -> Int32[]) for i = 1:n_hashes] for t = 1:Threads.nthreads()]\n",
    "    @tprogress Threads.@threads for j = 1:size(R)[2]\n",
    "        hashes = hashfn(R[:, j])\n",
    "        for i = 1:n_hashes\n",
    "            push!(t_hash_buckets[Threads.threadid()][i][hashes[i]], j)\n",
    "        end\n",
    "    end\n",
    "\n",
    "    hash_buckets = [DefaultDict(() -> Int32[]) for i = 1:n_hashes]\n",
    "    @tprogress Threads.@threads for i = 1:n_hashes\n",
    "        for t = 1:Threads.nthreads()\n",
    "            for k in keys(t_hash_buckets[t][i])\n",
    "                push!(hash_buckets[i][k], t_hash_buckets[t][i][k]...)\n",
    "            end\n",
    "        end\n",
    "    end\n",
    "    hash_buckets\n",
    "end\n",
    "\n",
    "function get_hash_neighbors(R, j)\n",
    "    hash_buckets = get_hash_buckets(R)\n",
    "    hash = hashfn(R[:, j])\n",
    "    vcat([hash_buckets[i][hash[i]] for i = 1:length(hash)]...)\n",
    "end;"
   ]
  },
  {
   "cell_type": "code",
   "execution_count": 6,
   "id": "ee59d88d-4753-41ce-a0eb-520af7216ccc",
   "metadata": {},
   "outputs": [],
   "source": [
    "@memoize function get_norms(R)\n",
    "    norms = map(norm, eachslice(R, dims = 2))\n",
    "    norms[norms.==0] .= 1 # prevent division by 0\n",
    "    norms\n",
    "end;\n",
    "\n",
    "function get_abs_neighborhood(item, R, K)\n",
    "    norms = get_norms(R)\n",
    "    weights = zeros(size(R)[2])\n",
    "    mask = get_hash_neighbors(R, item)\n",
    "    weights[mask] = vec(R[:, item]' * R[:, mask])\n",
    "    weights = weights ./ norms ./ norms[item]\n",
    "    weights[item] = Inf\n",
    "    order = partialsortperm(abs.(weights), 2:K+1, rev = true)\n",
    "    (convert.(Int32, order), convert.(Float32, weights[order]))\n",
    "end;"
   ]
  },
  {
   "cell_type": "code",
   "execution_count": 7,
   "id": "00ebb580-b942-4113-8d60-78a83042d876",
   "metadata": {},
   "outputs": [],
   "source": [
    "# each prediction is just the weighted sum of all items in the neighborhood\n",
    "# we apply regularization terms to decay the weights, ratings, and final prediction\n",
    "function make_prediction(item, users, R, get_neighborhood, λ)\n",
    "    if item > size(R)[2]\n",
    "        # the item was not in our training set; we have no information\n",
    "        return zeros(length(item))\n",
    "    end\n",
    "    items, weights = get_neighborhood(item)\n",
    "    decay(x, a) = x != 0 ? sign(x) * abs(x)^a : 0\n",
    "    weights = decay.(weights, λ[1])\n",
    "    predictions = zeros(eltype(weights), length(users))\n",
    "    weight_sum = zeros(eltype(weights), length(users))\n",
    "    for u = 1:length(users)\n",
    "        for (i, weight) in zip(items, weights)\n",
    "            if R[users[u], i] != 0\n",
    "                predictions[u] += weight * decay(R[users[u], i], λ[2])\n",
    "                weight_sum[u] += abs(weight)\n",
    "            end\n",
    "        end\n",
    "    end\n",
    "    for u = 1:length(users)\n",
    "        if weight_sum[u] + λ[3] != 0\n",
    "            predictions[u] /= (weight_sum[u] + λ[3])\n",
    "        end\n",
    "    end\n",
    "    predictions\n",
    "end;"
   ]
  },
  {
   "cell_type": "code",
   "execution_count": 8,
   "id": "5214736f-516e-4d6f-8f0b-92171355ebe5",
   "metadata": {},
   "outputs": [],
   "source": [
    "function collaborative_filtering(R, inference, get_neighborhood, λ)\n",
    "    preds = zeros(eltype(λ), length(inference.rating), Threads.nthreads())\n",
    "    @tprogress Threads.@threads for item in collect(Set(inference.item))\n",
    "        mask = inference.item .== item\n",
    "        preds[mask, Threads.threadid()] =\n",
    "            make_prediction(item, inference.user[mask], R, get_neighborhood, λ)\n",
    "    end\n",
    "\n",
    "    vec(sum(preds, dims = 2))\n",
    "end;"
   ]
  },
  {
   "cell_type": "markdown",
   "id": "94cf908b-4b56-412a-9765-c13021874f41",
   "metadata": {},
   "source": [
    "## User based CF"
   ]
  },
  {
   "cell_type": "code",
   "execution_count": 9,
   "id": "67c55780-0666-47d9-881a-a5035061913f",
   "metadata": {},
   "outputs": [
    {
     "data": {
      "text/plain": [
       "1-element Vector{String}:\n",
       " \"UserCF.256\""
      ]
     },
     "execution_count": 9,
     "metadata": {},
     "output_type": "execute_result"
    }
   ],
   "source": [
    "cf_alphas = [x for x in read_params(\"CombineSignals\")[\"alphas\"] if occursin(\"UserCF\", x)]"
   ]
  },
  {
   "cell_type": "code",
   "execution_count": 10,
   "id": "992e1a3f-7e5a-44b1-803f-442856c5db51",
   "metadata": {},
   "outputs": [],
   "source": [
    "# alpha = cf_alphas[1]\n",
    "# params = read_params(alpha)\n",
    "# K = params[\"K\"]\n",
    "# λ = params[\"λ\"]\n",
    "# training = get_residuals(\"training\", params[\"training_residuals\"])'\n",
    "# R = sparse(\n",
    "#     training.user,\n",
    "#     training.item,\n",
    "#     training.rating,\n",
    "#     num_items(),\n",
    "#     maximum(training.item),\n",
    "# )"
   ]
  },
  {
   "cell_type": "code",
   "execution_count": 11,
   "id": "2542bf56-e260-4033-a29c-64fa2dd3131c",
   "metadata": {},
   "outputs": [],
   "source": [
    "function get_alphas()\n",
    "    [x for x in read_params(\"CombineSignals\")[\"alphas\"] if occursin(\"UserCF\", x)]\n",
    "end;"
   ]
  },
  {
   "cell_type": "code",
   "execution_count": 12,
   "id": "defaefcb-d98d-420b-9956-f955e9430176",
   "metadata": {},
   "outputs": [],
   "source": [
    "function compute_alpha(alpha)\n",
    "    # read in parameters\n",
    "    params = read_params(alpha)\n",
    "    K = params[\"K\"]\n",
    "    λ = params[\"λ\"]\n",
    "    training = get_residuals(\"training\", params[\"training_residuals\"])'\n",
    "    R = sparse(\n",
    "        training.user,\n",
    "        training.item,\n",
    "        training.rating,\n",
    "        num_items(),\n",
    "        maximum(training.item),\n",
    "    )\n",
    "\n",
    "    # if the recommendee was also in the training set, then remove the stale list\n",
    "    username_to_uid = DataFrame(CSV.File(\"../../data/processed_data/username_to_uid.csv\"))\n",
    "    username_to_uid.uid .+= 1\n",
    "    username_to_uid.username = lowercase.(username_to_uid.username)\n",
    "    username_uid =\n",
    "        filter(x -> x.username == lowercase(get_recommendee_username()), username_to_uid).uid\n",
    "    if length(username_uid) > 0\n",
    "        @assert length(username_uid) == 1\n",
    "        R[:, username_uid] .= 0\n",
    "    end\n",
    "    dropzeros!(R)\n",
    "\n",
    "    # cache neighborhoods\n",
    "    get_hash_buckets(R)\n",
    "\n",
    "    # compute alpha\n",
    "    neighborhood_types = Dict(\"abs\" => get_abs_neighborhood)\n",
    "    neighborhoods = i -> neighborhood_types[params[\"neighborhood_type\"]](i, R, K)\n",
    "    recommendee_uid = get_split(\"recommendee\").user[1]\n",
    "    inference =\n",
    "        RatingsDataset(\n",
    "            fill(recommendee_uid, num_items()),\n",
    "            1:num_items(),\n",
    "            zeros(num_items()),\n",
    "        )'\n",
    "    predictions = collaborative_filtering(R, inference, neighborhoods, λ)\n",
    "    model(items) = predictions[items]\n",
    "    write_recommendee_alpha(model, outdir = alpha)\n",
    "end;"
   ]
  },
  {
   "cell_type": "code",
   "execution_count": 13,
   "id": "916c0abb-d6d4-4cc4-87e8-dc0d0c6ff09a",
   "metadata": {},
   "outputs": [
    {
     "name": "stderr",
     "output_type": "stream",
     "text": [
      "\u001b[32mProgress: 100%|█████████████████████████████████████████| Time: 0:01:27\u001b[39m\n",
      "\u001b[38;5;4m\u001b[1m[ \u001b[22m\u001b[39m\u001b[38;5;4m\u001b[1mDebug: \u001b[22m\u001b[39m20220115 01:40:00 generating hash buckets\n",
      "\u001b[32mProgress: 100%|███████████████████████████| Time: 0:00:33 ( 1.20 ms/it)\u001b[39m\n",
      "\u001b[32mProgress: 100%|███████████████████████████| Time: 0:00:03 ( 0.91  s/it)\u001b[39m\n"
     ]
    }
   ],
   "source": [
    "for alpha in get_alphas()\n",
    "    compute_alpha(alpha)\n",
    "end;"
   ]
  },
  {
   "cell_type": "code",
   "execution_count": null,
   "id": "e274f961-d432-47ee-8f0d-9f0727ab354b",
   "metadata": {},
   "outputs": [],
   "source": []
  }
 ],
 "metadata": {
  "kernelspec": {
   "display_name": "Julia 1.6.3",
   "language": "julia",
   "name": "julia-1.6"
  },
  "language_info": {
   "file_extension": ".jl",
   "mimetype": "application/julia",
   "name": "julia",
   "version": "1.6.3"
  }
 },
 "nbformat": 4,
 "nbformat_minor": 5
}
