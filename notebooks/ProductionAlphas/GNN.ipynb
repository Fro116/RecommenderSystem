{
 "cells": [
  {
   "cell_type": "markdown",
   "id": "c3758ece-9b72-47b4-ae6a-aa364e0443e3",
   "metadata": {},
   "source": [
    "# General Neural Network"
   ]
  },
  {
   "cell_type": "code",
   "execution_count": 1,
   "id": "31294b0f-f9ad-47f9-a6a7-8e004a20b819",
   "metadata": {},
   "outputs": [],
   "source": [
    "source = \"GNN\";"
   ]
  },
  {
   "cell_type": "code",
   "execution_count": 2,
   "id": "54170f91-c85c-4207-9939-572cad4db024",
   "metadata": {},
   "outputs": [],
   "source": [
    "using Flux\n",
    "import BSON"
   ]
  },
  {
   "cell_type": "code",
   "execution_count": 3,
   "id": "c2980ef8-4e80-4e30-bd25-f14970595252",
   "metadata": {},
   "outputs": [],
   "source": [
    "using NBInclude\n",
    "@nbinclude(\"Alpha.ipynb\");"
   ]
  },
  {
   "cell_type": "code",
   "execution_count": 4,
   "id": "08801fd4-7057-49f0-9fa7-9854d17494cc",
   "metadata": {},
   "outputs": [],
   "source": [
    "device = gpu;"
   ]
  },
  {
   "cell_type": "markdown",
   "id": "638f2e93-80aa-4d4f-90ee-d70e3610cd13",
   "metadata": {},
   "source": [
    "## Data preparation"
   ]
  },
  {
   "cell_type": "code",
   "execution_count": 5,
   "id": "69230c4b-c1f5-427c-a0af-434bb6122514",
   "metadata": {},
   "outputs": [],
   "source": [
    "function get_data()\n",
    "    # inputs are the user's ratings for all shows (unseen shows get mapped to zero) + implicit ratings + heterogenous features\n",
    "    # outputs are the user's ratings for all shows (unseen shows get mapped to zero)\n",
    "    df = cat(get_residuals(\"recommendee\", residual_alphas), get_implicit_list())\n",
    "    X = zeros(Float32, num_items() + 1)\n",
    "    X[df.item] = df.rating\n",
    "    Xr = zeros(Float32, num_items() + 1)\n",
    "    Xr[df.item] .= 1\n",
    "    X = vcat(X, Xr)\n",
    "\n",
    "    # add heterogeneous features\n",
    "    weight = length(df.item)\n",
    "    nitems_feature = weight / (num_items() + 1)\n",
    "    push!(X, nitems_feature)\n",
    "    push!(X, sqrt(nitems_feature))\n",
    "    push!(X, nitems_feature^2)\n",
    "    X\n",
    "end;"
   ]
  },
  {
   "cell_type": "code",
   "execution_count": 9,
   "id": "3beafa99-6c8b-40e3-a1e3-4d3d3df47493",
   "metadata": {},
   "outputs": [],
   "source": [
    "# custom split layer\n",
    "struct Split{T}\n",
    "    paths::T\n",
    "end\n",
    "Split(paths...) = Split(paths)\n",
    "Flux.@functor Split\n",
    "(m::Split)(x::AbstractArray) = map(f -> f(x), m.paths)"
   ]
  },
  {
   "cell_type": "code",
   "execution_count": 10,
   "id": "f9926a40-3738-4849-b5ca-bba6b120db82",
   "metadata": {},
   "outputs": [],
   "source": [
    "function compute_alpha()\n",
    "    BSON.@load \"../../data/alphas/$source/model.bson\" m\n",
    "    ratings, implicit = m(get_data())\n",
    "    write_recommendee_alpha(x -> ratings[x])\n",
    "    write_recommendee_alpha(x -> implicit[x], outdir = \"GNN_implicit\")\n",
    "end;"
   ]
  },
  {
   "cell_type": "code",
   "execution_count": 11,
   "id": "d3f950a8-61e4-4ca3-ad76-403fe46aa849",
   "metadata": {},
   "outputs": [],
   "source": [
    "compute_alpha()"
   ]
  },
  {
   "cell_type": "code",
   "execution_count": null,
   "id": "cada1a37-4e4c-4169-8ad7-acfd0920b0da",
   "metadata": {},
   "outputs": [],
   "source": []
  }
 ],
 "metadata": {
  "kernelspec": {
   "display_name": "Julia 1.6.3",
   "language": "julia",
   "name": "julia-1.6"
  },
  "language_info": {
   "file_extension": ".jl",
   "mimetype": "application/julia",
   "name": "julia",
   "version": "1.6.3"
  }
 },
 "nbformat": 4,
 "nbformat_minor": 5
}
