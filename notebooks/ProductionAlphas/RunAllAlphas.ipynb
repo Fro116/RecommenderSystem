{
 "cells": [
  {
   "cell_type": "markdown",
   "id": "a2559ebd-296e-421f-9421-9e613ddc3c8a",
   "metadata": {},
   "source": [
    "# Run All alphas"
   ]
  },
  {
   "cell_type": "code",
   "execution_count": 1,
   "id": "855dd425-8d9c-42c0-8d3e-0d38d0f79300",
   "metadata": {},
   "outputs": [],
   "source": [
    "using NBInclude"
   ]
  },
  {
   "cell_type": "code",
   "execution_count": 2,
   "id": "9aa42492-3353-4850-a561-d3ce0d7f6946",
   "metadata": {},
   "outputs": [],
   "source": [
    "@nbinclude(\"ResetAlphas.ipynb\");"
   ]
  },
  {
   "cell_type": "code",
   "execution_count": 3,
   "id": "c619d675-5893-4e5f-9130-46b2c20b92cc",
   "metadata": {},
   "outputs": [
    {
     "name": "stderr",
     "output_type": "stream",
     "text": [
      "\u001b[38;5;4m\u001b[1m[ \u001b[22m\u001b[39m\u001b[38;5;4m\u001b[1mDebug: \u001b[22m\u001b[39m20220402 22:41:54 training model with parameters [2.2125266]\n",
      "\u001b[38;5;4m\u001b[1m[ \u001b[22m\u001b[39m\u001b[38;5;4m\u001b[1mDebug: \u001b[22m\u001b[39m20220402 22:41:55 Float32[5.8657813]\n",
      "\u001b[38;5;4m\u001b[1m[ \u001b[22m\u001b[39m\u001b[38;5;4m\u001b[1mDebug: \u001b[22m\u001b[39m20220402 22:41:56 Float32[5.8961606]\n",
      "\u001b[38;5;4m\u001b[1m[ \u001b[22m\u001b[39m\u001b[38;5;4m\u001b[1mDebug: \u001b[22m\u001b[39m20220402 22:41:56 Float32[5.8963175]\n",
      "\u001b[38;5;4m\u001b[1m[ \u001b[22m\u001b[39m\u001b[38;5;4m\u001b[1mDebug: \u001b[22m\u001b[39m20220402 22:41:56 Float32[5.896318]\n",
      "\u001b[38;5;4m\u001b[1m[ \u001b[22m\u001b[39m\u001b[38;5;4m\u001b[1mDebug: \u001b[22m\u001b[39m20220402 22:41:56 Float32[5.896318]\n"
     ]
    }
   ],
   "source": [
    "@nbinclude(\"UserItemBiases.ipynb\");"
   ]
  },
  {
   "cell_type": "code",
   "execution_count": 4,
   "id": "9e88043a-9d12-4584-a80e-d91cb6e019a8",
   "metadata": {},
   "outputs": [
    {
     "name": "stderr",
     "output_type": "stream",
     "text": [
      "\u001b[32mProgress: 100%|█████████████████████████████████████████| Time: 0:00:12\u001b[39m\n"
     ]
    }
   ],
   "source": [
    "@nbinclude(\"GNN.ipynb\");"
   ]
  },
  {
   "cell_type": "code",
   "execution_count": 5,
   "id": "9d222061-4593-4bac-980b-a2cb7c762749",
   "metadata": {},
   "outputs": [
    {
     "name": "stderr",
     "output_type": "stream",
     "text": [
      "\u001b[38;5;4m\u001b[1m[ \u001b[22m\u001b[39m\u001b[38;5;4m\u001b[1mDebug: \u001b[22m\u001b[39m20220402 22:42:28 Creating new cache for \"/opt/julia-1.6.3/share/julia/stdlib/v1.6/Random/Project.toml\"\n",
      "\u001b[38;5;4m\u001b[1m[ \u001b[22m\u001b[39m\u001b[38;5;4m\u001b[1mDebug: \u001b[22m\u001b[39m20220402 22:42:30 training model with parameters [405.20609179711454]\n",
      "\u001b[38;5;4m\u001b[1m[ \u001b[22m\u001b[39m\u001b[38;5;4m\u001b[1mDebug: \u001b[22m\u001b[39m20220402 22:42:31 loss: 340.05948666424547\n",
      "\u001b[38;5;4m\u001b[1m[ \u001b[22m\u001b[39m\u001b[38;5;4m\u001b[1mDebug: \u001b[22m\u001b[39m20220402 22:42:32 loss: 2.371618416560328\n",
      "\u001b[38;5;4m\u001b[1m[ \u001b[22m\u001b[39m\u001b[38;5;4m\u001b[1mDebug: \u001b[22m\u001b[39m20220402 22:42:32 loss: 2.371618416560328\n",
      "\u001b[38;5;4m\u001b[1m[ \u001b[22m\u001b[39m\u001b[38;5;4m\u001b[1mDebug: \u001b[22m\u001b[39m20220402 22:42:33 training model with parameters [179.13081469671914]\n",
      "\u001b[38;5;4m\u001b[1m[ \u001b[22m\u001b[39m\u001b[38;5;4m\u001b[1mDebug: \u001b[22m\u001b[39m20220402 22:42:33 loss: 94.72683675670262\n",
      "\u001b[38;5;4m\u001b[1m[ \u001b[22m\u001b[39m\u001b[38;5;4m\u001b[1mDebug: \u001b[22m\u001b[39m20220402 22:42:33 loss: 2.1647632282562044\n",
      "\u001b[38;5;4m\u001b[1m[ \u001b[22m\u001b[39m\u001b[38;5;4m\u001b[1mDebug: \u001b[22m\u001b[39m20220402 22:42:33 loss: 2.1647632282562044\n",
      "\u001b[32mProgress:  67%|███████████████████████████▍             |  ETA: 0:00:03\u001b[39m\u001b[38;5;4m\u001b[1m[ \u001b[22m\u001b[39m\u001b[38;5;4m\u001b[1mDebug: \u001b[22m\u001b[39m20220402 22:42:37 training model with parameters [7.468568988703054e6]\n",
      "\u001b[38;5;4m\u001b[1m[ \u001b[22m\u001b[39m\u001b[38;5;4m\u001b[1mDebug: \u001b[22m\u001b[39m20220402 22:42:37 loss: 4.479840223822521e6\n",
      "\u001b[38;5;4m\u001b[1m[ \u001b[22m\u001b[39m\u001b[38;5;4m\u001b[1mDebug: \u001b[22m\u001b[39m20220402 22:42:37 loss: 1.9828698880448696\n",
      "\u001b[38;5;4m\u001b[1m[ \u001b[22m\u001b[39m\u001b[38;5;4m\u001b[1mDebug: \u001b[22m\u001b[39m20220402 22:42:37 loss: 1.9828698880448696\n",
      "\u001b[32mProgress: 100%|█████████████████████████████████████████| Time: 0:00:09\u001b[39m\n"
     ]
    }
   ],
   "source": [
    "@nbinclude(\"MatrixFactorization.ipynb\");"
   ]
  },
  {
   "cell_type": "code",
   "execution_count": 6,
   "id": "faca0e3c-9770-4ba7-8d5c-92cdde493895",
   "metadata": {},
   "outputs": [
    {
     "name": "stderr",
     "output_type": "stream",
     "text": [
      "\u001b[32mProgress: 100%|███████████████████████████| Time: 0:00:02 ( 2.40 ms/it)\u001b[39m\n",
      "\u001b[32mProgress: 100%|███████████████████████████| Time: 0:00:01 ( 1.15 ms/it)\u001b[39m\n",
      "\u001b[32mProgress: 100%|███████████████████████████| Time: 0:00:00 ( 0.61 ms/it)\u001b[39m\n",
      "\u001b[32mProgress: 100%|███████████████████████████| Time: 0:00:00 ( 0.58 ms/it)\u001b[39m\n",
      "\u001b[32mProgress: 100%|███████████████████████████| Time: 0:00:01 ( 1.08 ms/it)\u001b[39m\n",
      "\u001b[32mProgress: 100%|███████████████████████████| Time: 0:00:07 ( 6.48 ms/it)\u001b[39m\n",
      "\u001b[32mProgress: 100%|███████████████████████████| Time: 0:00:01 ( 1.25 ms/it)\u001b[39m\n",
      "\u001b[32mProgress: 100%|███████████████████████████| Time: 0:00:01 ( 1.01 ms/it)\u001b[39m\n",
      "\u001b[32mProgress: 100%|███████████████████████████| Time: 0:00:00 ( 0.76 ms/it)\u001b[39m\n",
      "\u001b[32mProgress: 100%|███████████████████████████| Time: 0:00:00 ( 0.43 ms/it)\u001b[39m\n",
      "\u001b[32mProgress: 100%|███████████████████████████| Time: 0:00:00 ( 0.42 ms/it)\u001b[39m\n",
      "\u001b[32mProgress: 100%|█████████████████████████████████████████| Time: 0:01:40\u001b[39m\n"
     ]
    }
   ],
   "source": [
    "@nbinclude(\"ItemCF.ipynb\");"
   ]
  },
  {
   "cell_type": "code",
   "execution_count": 7,
   "id": "0fef8054-330b-4c3b-8612-ad7ded4ec4fa",
   "metadata": {},
   "outputs": [
    {
     "name": "stderr",
     "output_type": "stream",
     "text": [
      "\u001b[38;5;4m\u001b[1m[ \u001b[22m\u001b[39m\u001b[38;5;4m\u001b[1mDebug: \u001b[22m\u001b[39m20220402 22:45:22 generating hash buckets\n",
      "\u001b[32mProgress: 100%|███████████████████████████| Time: 0:01:28 ( 1.08 ms/it)\u001b[39mm\n",
      "\u001b[32mProgress: 100%|███████████████████████████| Time: 0:00:16 ( 4.12  s/it)\u001b[39m\n"
     ]
    }
   ],
   "source": [
    "@nbinclude(\"UserCF.ipynb\");"
   ]
  },
  {
   "cell_type": "code",
   "execution_count": 8,
   "id": "f7621760-f18e-4e55-aa49-6926052bf812",
   "metadata": {},
   "outputs": [
    {
     "name": "stderr",
     "output_type": "stream",
     "text": [
      "\u001b[32mProgress: 100%|█████████████████████████████████████████| Time: 0:00:10\u001b[39m\n"
     ]
    }
   ],
   "source": [
    "# rerun the GNN alpha to get residuals\n",
    "@nbinclude(\"GNN.ipynb\");"
   ]
  },
  {
   "cell_type": "code",
   "execution_count": 9,
   "id": "6df1252b-6d1e-428e-ab45-0d7441b5e7b5",
   "metadata": {
    "tags": []
   },
   "outputs": [
    {
     "name": "stderr",
     "output_type": "stream",
     "text": [
      "\u001b[32mProgress: 100%|███████████████████████████| Time: 0:00:04 ( 0.49 μs/it)\u001b[39m\n",
      "\u001b[32mProgress: 100%|███████████████████████████| Time: 0:00:03 ( 0.42 μs/it)\u001b[39m\n",
      "\u001b[32mProgress: 100%|███████████████████████████| Time: 0:00:08 ( 0.93 μs/it)\u001b[39m\n",
      "\u001b[32mProgress: 100%|███████████████████████████| Time: 0:00:00 ( 0.10 ms/it)\u001b[39m\n",
      "\u001b[32mProgress: 100%|███████████████████████████| Time: 0:00:08 ( 0.91 μs/it)\u001b[39m\n",
      "\u001b[32mProgress: 100%|███████████████████████████| Time: 0:00:08 ( 0.89 μs/it)\u001b[39m\n",
      "\u001b[32mProgress: 100%|███████████████████████████| Time: 0:00:00 (87.13 μs/it)\u001b[39m\n",
      "\u001b[32mProgress: 100%|███████████████████████████| Time: 0:00:08 ( 0.92 μs/it)\u001b[39m\n",
      "\u001b[32mProgress: 100%|███████████████████████████| Time: 0:00:00 ( 1.56 μs/it)\u001b[39m\n",
      "\u001b[38;5;4m\u001b[1m[ \u001b[22m\u001b[39m\u001b[38;5;4m\u001b[1mDebug: \u001b[22m\u001b[39m20220402 22:49:07 nsfw categories: String7[\"gray\", \"white\"]\n",
      "\u001b[32mProgress: 100%|███████████████████████████| Time: 0:00:00 ( 0.24 ms/it)\u001b[39m\n",
      "\u001b[38;5;4m\u001b[1m[ \u001b[22m\u001b[39m\u001b[38;5;4m\u001b[1mDebug: \u001b[22m\u001b[39m20220402 22:49:08 medium categories: String7[\"movie\", \"music\", \"ona\", \"ova\", \"special\", \"tv\", \"unknown\"]\n",
      "\u001b[38;5;4m\u001b[1m[ \u001b[22m\u001b[39m\u001b[38;5;4m\u001b[1mDebug: \u001b[22m\u001b[39m20220402 22:49:10 source categories: String15[\"4_koma_manga\", \"book\", \"card_game\", \"digital_manga\", \"game\", \"light_novel\", \"manga\", \"mixed_media\", \"music\", \"novel\", \"original\", \"other\", \"picture_book\", \"radio\", \"visual_novel\", \"web_manga\", \"web_novel\"]\n",
      "\u001b[32mProgress: 100%|███████████████████████████| Time: 0:00:00 ( 0.14 ms/it)\u001b[39m\n",
      "\u001b[38;5;4m\u001b[1m[ \u001b[22m\u001b[39m\u001b[38;5;4m\u001b[1mDebug: \u001b[22m\u001b[39m20220402 22:49:11 start_year categories: [1915.0, 1920.0, 1925.0, 1930.0, 1935.0, 1940.0, 1945.0, 1950.0, 1955.0, 1960.0, 1965.0, 1970.0, 1975.0, 1980.0, 1985.0, 1990.0, 1995.0, 2000.0, 2005.0, 2010.0, 2015.0, 2020.0, 2025.0]\n",
      "\u001b[32mProgress: 100%|███████████████████████████| Time: 0:00:09 ( 0.99 μs/it)\u001b[39m\n",
      "\u001b[38;5;4m\u001b[1m[ \u001b[22m\u001b[39m\u001b[38;5;4m\u001b[1mDebug: \u001b[22m\u001b[39m20220402 22:49:28 end_year categories: [1915.0, 1920.0, 1925.0, 1930.0, 1935.0, 1940.0, 1945.0, 1950.0, 1955.0, 1960.0, 1965.0, 1970.0, 1975.0, 1980.0, 1985.0, 1990.0, 1995.0, 2000.0, 2005.0, 2010.0, 2015.0, 2020.0, 2025.0]\n",
      "\u001b[32mProgress: 100%|███████████████████████████| Time: 0:00:09 ( 1.04 μs/it)\u001b[39m\n",
      "\u001b[38;5;4m\u001b[1m[ \u001b[22m\u001b[39m\u001b[38;5;4m\u001b[1mDebug: \u001b[22m\u001b[39m20220402 22:49:46 nsfw categories: String7[\"gray\", \"white\"]\n",
      "\u001b[32mProgress: 100%|███████████████████████████| Time: 0:00:09 ( 0.98 μs/it)\u001b[39m\n",
      "\u001b[38;5;4m\u001b[1m[ \u001b[22m\u001b[39m\u001b[38;5;4m\u001b[1mDebug: \u001b[22m\u001b[39m20220402 22:50:03 medium categories: String7[\"movie\", \"music\", \"ona\", \"ova\", \"special\", \"tv\", \"unknown\"]\n",
      "\u001b[32mProgress: 100%|███████████████████████████| Time: 0:00:09 ( 0.98 μs/it)\u001b[39m\n",
      "\u001b[38;5;4m\u001b[1m[ \u001b[22m\u001b[39m\u001b[38;5;4m\u001b[1mDebug: \u001b[22m\u001b[39m20220402 22:50:20 num_episodes categories: [0.0, 1.0, 2.0, 3.0, 4.0, 5.0, 6.0, 13.0, 26.0, 52.0, 100.0]\n",
      "\u001b[32mProgress: 100%|███████████████████████████| Time: 0:00:09 ( 0.99 μs/it)\u001b[39m\n",
      "\u001b[38;5;4m\u001b[1m[ \u001b[22m\u001b[39m\u001b[38;5;4m\u001b[1mDebug: \u001b[22m\u001b[39m20220402 22:50:37 source categories: String15[\"4_koma_manga\", \"book\", \"card_game\", \"digital_manga\", \"game\", \"light_novel\", \"manga\", \"mixed_media\", \"music\", \"novel\", \"original\", \"other\", \"picture_book\", \"radio\", \"visual_novel\", \"web_manga\", \"web_novel\"]\n",
      "\u001b[32mProgress: 100%|███████████████████████████| Time: 0:00:09 ( 1.01 μs/it)\u001b[39m\n",
      "\u001b[38;5;4m\u001b[1m[ \u001b[22m\u001b[39m\u001b[38;5;4m\u001b[1mDebug: \u001b[22m\u001b[39m20220402 22:50:55 average_episode_duration categories: [0.0, 600.0, 1200.0, 1800.0, 3600.0, 5400.0, 7200.0, 9000.0, 10800.0]\n",
      "\u001b[32mProgress: 100%|███████████████████████████| Time: 0:00:09 ( 1.01 μs/it)\u001b[39m\n",
      "\u001b[38;5;4m\u001b[1m[ \u001b[22m\u001b[39m\u001b[38;5;4m\u001b[1mDebug: \u001b[22m\u001b[39m20220402 22:51:12 average bst magnitude: 0.10073309, 0.15316235\n"
     ]
    }
   ],
   "source": [
    "@nbinclude(\"CombineSignals.ipynb\");"
   ]
  },
  {
   "cell_type": "code",
   "execution_count": 10,
   "id": "80e4b823-276d-49be-a47e-46d4cbeeb7a5",
   "metadata": {},
   "outputs": [],
   "source": [
    "@nbinclude(\"CombineImplicitSignals.ipynb\");"
   ]
  },
  {
   "cell_type": "code",
   "execution_count": 11,
   "id": "a287c384-d8b2-4146-a1a2-2da3c7b5d5dc",
   "metadata": {
    "tags": []
   },
   "outputs": [],
   "source": [
    "# @nbinclude(\"ANN.ipynb\");"
   ]
  }
 ],
 "metadata": {
  "kernelspec": {
   "display_name": "Julia 1.6.3",
   "language": "julia",
   "name": "julia-1.6"
  },
  "language_info": {
   "file_extension": ".jl",
   "mimetype": "application/julia",
   "name": "julia",
   "version": "1.6.3"
  }
 },
 "nbformat": 4,
 "nbformat_minor": 5
}
