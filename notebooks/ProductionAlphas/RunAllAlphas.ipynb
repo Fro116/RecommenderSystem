{
 "cells": [
  {
   "cell_type": "markdown",
   "id": "a2559ebd-296e-421f-9421-9e613ddc3c8a",
   "metadata": {},
   "source": [
    "# Run All alphas"
   ]
  },
  {
   "cell_type": "code",
   "execution_count": 1,
   "id": "334a0217-6d34-4df2-a54a-2b9fbc0531fe",
   "metadata": {},
   "outputs": [],
   "source": [
    "using NBInclude"
   ]
  },
  {
   "cell_type": "code",
   "execution_count": 2,
   "id": "c619d675-5893-4e5f-9130-46b2c20b92cc",
   "metadata": {},
   "outputs": [
    {
     "name": "stderr",
     "output_type": "stream",
     "text": [
      "\u001b[38;5;4m\u001b[1m[ \u001b[22m\u001b[39m\u001b[38;5;4m\u001b[1mDebug: \u001b[22m\u001b[39m20220128 21:53:49 training model with parameters [2.061994938223341]\n",
      "\u001b[38;5;4m\u001b[1m[ \u001b[22m\u001b[39m\u001b[38;5;4m\u001b[1mDebug: \u001b[22m\u001b[39m20220128 21:53:50 [5.878277867546641]\n",
      "\u001b[38;5;4m\u001b[1m[ \u001b[22m\u001b[39m\u001b[38;5;4m\u001b[1mDebug: \u001b[22m\u001b[39m20220128 21:53:51 [5.907133082620631]\n",
      "\u001b[38;5;4m\u001b[1m[ \u001b[22m\u001b[39m\u001b[38;5;4m\u001b[1mDebug: \u001b[22m\u001b[39m20220128 21:53:51 [5.907274726730646]\n",
      "\u001b[38;5;4m\u001b[1m[ \u001b[22m\u001b[39m\u001b[38;5;4m\u001b[1mDebug: \u001b[22m\u001b[39m20220128 21:53:51 [5.907275422031438]\n",
      "\u001b[38;5;4m\u001b[1m[ \u001b[22m\u001b[39m\u001b[38;5;4m\u001b[1mDebug: \u001b[22m\u001b[39m20220128 21:53:51 [5.907275425444521]\n",
      "\u001b[38;5;4m\u001b[1m[ \u001b[22m\u001b[39m\u001b[38;5;4m\u001b[1mDebug: \u001b[22m\u001b[39m20220128 21:53:51 [5.907275425461275]\n"
     ]
    }
   ],
   "source": [
    "@nbinclude(\"UserItemBiases.ipynb\");"
   ]
  },
  {
   "cell_type": "code",
   "execution_count": 3,
   "id": "9e88043a-9d12-4584-a80e-d91cb6e019a8",
   "metadata": {},
   "outputs": [],
   "source": [
    "# @nbinclude(\"GNN.ipynb\");"
   ]
  },
  {
   "cell_type": "code",
   "execution_count": 4,
   "id": "9d222061-4593-4bac-980b-a2cb7c762749",
   "metadata": {},
   "outputs": [
    {
     "name": "stderr",
     "output_type": "stream",
     "text": [
      "\u001b[38;5;4m\u001b[1m[ \u001b[22m\u001b[39m\u001b[38;5;4m\u001b[1mDebug: \u001b[22m\u001b[39m20220128 21:54:25 Creating new cache for \"/opt/julia-1.6.3/share/julia/stdlib/v1.6/Random/Project.toml\"\n",
      "\u001b[38;5;4m\u001b[1m[ \u001b[22m\u001b[39m\u001b[38;5;4m\u001b[1mDebug: \u001b[22m\u001b[39m20220128 21:54:30 training model with parameters [175.6941168065606]\n",
      "\u001b[38;5;4m\u001b[1m[ \u001b[22m\u001b[39m\u001b[38;5;4m\u001b[1mDebug: \u001b[22m\u001b[39m20220128 21:54:31 loss: 80.32429809577694\n",
      "\u001b[38;5;4m\u001b[1m[ \u001b[22m\u001b[39m\u001b[38;5;4m\u001b[1mDebug: \u001b[22m\u001b[39m20220128 21:54:32 loss: 2.3621049743006473\n",
      "\u001b[38;5;4m\u001b[1m[ \u001b[22m\u001b[39m\u001b[38;5;4m\u001b[1mDebug: \u001b[22m\u001b[39m20220128 21:54:32 loss: 2.3621049743006473\n",
      "\u001b[38;5;4m\u001b[1m[ \u001b[22m\u001b[39m\u001b[38;5;4m\u001b[1mDebug: \u001b[22m\u001b[39m20220128 21:54:33 training model with parameters [171.7920145176628]\n",
      "\u001b[38;5;4m\u001b[1m[ \u001b[22m\u001b[39m\u001b[38;5;4m\u001b[1mDebug: \u001b[22m\u001b[39m20220128 21:54:33 loss: 349.36369367189394\n",
      "\u001b[38;5;4m\u001b[1m[ \u001b[22m\u001b[39m\u001b[38;5;4m\u001b[1mDebug: \u001b[22m\u001b[39m20220128 21:54:33 loss: 2.122074654589584\n",
      "\u001b[38;5;4m\u001b[1m[ \u001b[22m\u001b[39m\u001b[38;5;4m\u001b[1mDebug: \u001b[22m\u001b[39m20220128 21:54:33 loss: 2.122074654589584\n",
      "\u001b[38;5;4m\u001b[1m[ \u001b[22m\u001b[39m\u001b[38;5;4m\u001b[1mDebug: \u001b[22m\u001b[39m20220128 21:54:34 training model with parameters [98.24458457647926]\n",
      "\u001b[38;5;4m\u001b[1m[ \u001b[22m\u001b[39m\u001b[38;5;4m\u001b[1mDebug: \u001b[22m\u001b[39m20220128 21:54:34 loss: 91.37847049309187\n",
      "\u001b[38;5;4m\u001b[1m[ \u001b[22m\u001b[39m\u001b[38;5;4m\u001b[1mDebug: \u001b[22m\u001b[39m20220128 21:54:34 loss: 1.9185734738133884\n",
      "\u001b[38;5;4m\u001b[1m[ \u001b[22m\u001b[39m\u001b[38;5;4m\u001b[1mDebug: \u001b[22m\u001b[39m20220128 21:54:34 loss: 1.9185734738133884\n"
     ]
    }
   ],
   "source": [
    "@nbinclude(\"MatrixFactorization.ipynb\");"
   ]
  },
  {
   "cell_type": "code",
   "execution_count": 5,
   "id": "faca0e3c-9770-4ba7-8d5c-92cdde493895",
   "metadata": {},
   "outputs": [
    {
     "name": "stderr",
     "output_type": "stream",
     "text": [
      "\u001b[32mProgress: 100%|███████████████████████████| Time: 0:00:02 ( 2.62 ms/it)\u001b[39m\n",
      "\u001b[32mProgress: 100%|███████████████████████████| Time: 0:00:00 ( 0.44 ms/it)\u001b[39m\n",
      "\u001b[32mProgress: 100%|███████████████████████████| Time: 0:00:00 ( 0.68 ms/it)\u001b[39m\n",
      "\u001b[32mProgress: 100%|███████████████████████████| Time: 0:00:01 ( 1.70 ms/it)\u001b[39m\n",
      "\u001b[32mProgress: 100%|███████████████████████████| Time: 0:00:00 ( 0.40 ms/it)\u001b[39m\n",
      "\u001b[32mProgress: 100%|███████████████████████████| Time: 0:00:00 ( 0.43 ms/it)\u001b[39m\n",
      "\u001b[32mProgress: 100%|███████████████████████████| Time: 0:00:00 ( 0.65 ms/it)\u001b[39m\n",
      "\u001b[32mProgress: 100%|███████████████████████████| Time: 0:00:01 ( 1.65 ms/it)\u001b[39m\n",
      "\u001b[32mProgress: 100%|███████████████████████████| Time: 0:00:01 ( 1.20 ms/it)\u001b[39m\n",
      "\u001b[32mProgress: 100%|███████████████████████████| Time: 0:00:02 ( 2.12 ms/it)\u001b[39m\n"
     ]
    }
   ],
   "source": [
    "@nbinclude(\"ItemCF.ipynb\");"
   ]
  },
  {
   "cell_type": "code",
   "execution_count": 6,
   "id": "0fef8054-330b-4c3b-8612-ad7ded4ec4fa",
   "metadata": {},
   "outputs": [
    {
     "name": "stderr",
     "output_type": "stream",
     "text": [
      "\u001b[32mProgress: 100%|█████████████████████████████████████████| Time: 0:03:03\u001b[39m\n",
      "\u001b[38;5;4m\u001b[1m[ \u001b[22m\u001b[39m\u001b[38;5;4m\u001b[1mDebug: \u001b[22m\u001b[39m20220128 21:58:51 generating hash buckets\n",
      "\u001b[32mProgress: 100%|███████████████████████████| Time: 0:00:32 ( 1.16 ms/it)\u001b[39m\n",
      "\u001b[32mProgress: 100%|███████████████████████████| Time: 0:00:03 ( 0.89  s/it)\u001b[39m\n"
     ]
    }
   ],
   "source": [
    "@nbinclude(\"UserCF.ipynb\");"
   ]
  },
  {
   "cell_type": "code",
   "execution_count": 7,
   "id": "6df1252b-6d1e-428e-ab45-0d7441b5e7b5",
   "metadata": {},
   "outputs": [
    {
     "name": "stderr",
     "output_type": "stream",
     "text": [
      "\u001b[32mProgress: 100%|███████████████████████████| Time: 0:00:01 ( 0.46 μs/it)\u001b[39m\n",
      "\u001b[32mProgress: 100%|███████████████████████████| Time: 0:00:00 ( 0.21 μs/it)\u001b[39m\n",
      "\u001b[32mProgress: 100%|███████████████████████████| Time: 0:00:04 ( 0.98 μs/it)\u001b[39m\n",
      "\u001b[32mProgress: 100%|███████████████████████████| Time: 0:00:03 ( 0.92 μs/it)\u001b[39m\n",
      "\u001b[32mProgress: 100%|███████████████████████████| Time: 0:00:03 ( 0.93 μs/it)\u001b[39m\n",
      "\u001b[32mProgress: 100%|███████████████████████████| Time: 0:00:03 ( 0.92 μs/it)\u001b[39m\n",
      "\u001b[38;5;4m\u001b[1m[ \u001b[22m\u001b[39m\u001b[38;5;4m\u001b[1mDebug: \u001b[22m\u001b[39m20220128 22:00:42 nsfw categories: String7[\"white\"]\n",
      "\u001b[32mProgress: 100%|███████████████████████████| Time: 0:00:00 ( 0.24 ms/it)\u001b[39m\n",
      "\u001b[38;5;4m\u001b[1m[ \u001b[22m\u001b[39m\u001b[38;5;4m\u001b[1mDebug: \u001b[22m\u001b[39m20220128 22:00:43 medium categories: String7[\"movie\", \"music\", \"ona\", \"ova\", \"special\", \"tv\", \"unknown\"]\n",
      "\u001b[38;5;4m\u001b[1m[ \u001b[22m\u001b[39m\u001b[38;5;4m\u001b[1mDebug: \u001b[22m\u001b[39m20220128 22:00:44 source categories: String15[\"4_koma_manga\", \"NaN\", \"book\", \"card_game\", \"digital_manga\", \"game\", \"light_novel\", \"manga\", \"mixed_media\", \"music\", \"novel\", \"original\", \"other\", \"picture_book\", \"radio\", \"visual_novel\", \"web_manga\"]\n",
      "\u001b[32mProgress: 100%|███████████████████████████| Time: 0:00:00 ( 0.18 ms/it)\u001b[39m\n",
      "\u001b[38;5;4m\u001b[1m[ \u001b[22m\u001b[39m\u001b[38;5;4m\u001b[1mDebug: \u001b[22m\u001b[39m20220128 22:00:45 start_year categories: [1915.0, 1920.0, 1925.0, 1930.0, 1935.0, 1940.0, 1945.0, 1950.0, 1955.0, 1960.0, 1965.0, 1970.0, 1975.0, 1980.0, 1985.0, 1990.0, 1995.0, 2000.0, 2005.0, 2010.0, 2015.0, 2020.0, 2025.0, 2030.0, 2035.0]\n",
      "\u001b[32mProgress: 100%|███████████████████████████| Time: 0:00:04 ( 1.07 μs/it)\u001b[39m\n",
      "\u001b[38;5;4m\u001b[1m[ \u001b[22m\u001b[39m\u001b[38;5;4m\u001b[1mDebug: \u001b[22m\u001b[39m20220128 22:00:55 end_year categories: [1915.0, 1920.0, 1925.0, 1930.0, 1935.0, 1940.0, 1945.0, 1950.0, 1955.0, 1960.0, 1965.0, 1970.0, 1975.0, 1980.0, 1985.0, 1990.0, 1995.0, 2000.0, 2005.0, 2010.0, 2015.0, 2020.0, 2025.0, 2030.0, 2035.0]\n",
      "\u001b[32mProgress: 100%|███████████████████████████| Time: 0:00:04 ( 1.04 μs/it)\u001b[39m\n",
      "\u001b[38;5;4m\u001b[1m[ \u001b[22m\u001b[39m\u001b[38;5;4m\u001b[1mDebug: \u001b[22m\u001b[39m20220128 22:01:06 nsfw categories: String7[\"white\"]\n",
      "\u001b[32mProgress: 100%|███████████████████████████| Time: 0:00:04 ( 1.04 μs/it)\u001b[39m\n",
      "\u001b[38;5;4m\u001b[1m[ \u001b[22m\u001b[39m\u001b[38;5;4m\u001b[1mDebug: \u001b[22m\u001b[39m20220128 22:01:16 medium categories: String7[\"movie\", \"music\", \"ona\", \"ova\", \"special\", \"tv\", \"unknown\"]\n",
      "\u001b[32mProgress: 100%|███████████████████████████| Time: 0:00:04 ( 1.03 μs/it)\u001b[39m\n",
      "\u001b[38;5;4m\u001b[1m[ \u001b[22m\u001b[39m\u001b[38;5;4m\u001b[1mDebug: \u001b[22m\u001b[39m20220128 22:01:26 num_episodes categories: [0.0, 1.0, 2.0, 3.0, 4.0, 5.0, 6.0, 13.0, 26.0, 52.0, 100.0]\n",
      "\u001b[32mProgress: 100%|███████████████████████████| Time: 0:00:04 ( 1.05 μs/it)\u001b[39m\n",
      "\u001b[38;5;4m\u001b[1m[ \u001b[22m\u001b[39m\u001b[38;5;4m\u001b[1mDebug: \u001b[22m\u001b[39m20220128 22:01:36 source categories: String15[\"4_koma_manga\", \"book\", \"card_game\", \"digital_manga\", \"game\", \"light_novel\", \"manga\", \"mixed_media\", \"music\", \"novel\", \"original\", \"other\", \"picture_book\", \"radio\", \"visual_novel\", \"web_manga\"]\n",
      "\u001b[32mProgress: 100%|███████████████████████████| Time: 0:00:04 ( 1.07 μs/it)\u001b[39m\n",
      "\u001b[38;5;4m\u001b[1m[ \u001b[22m\u001b[39m\u001b[38;5;4m\u001b[1mDebug: \u001b[22m\u001b[39m20220128 22:01:46 average_episode_duration categories: [0.0, 600.0, 1200.0, 1800.0, 3600.0, 5400.0, 7200.0, 9000.0, 10800.0]\n",
      "\u001b[32mProgress: 100%|███████████████████████████| Time: 0:00:04 ( 1.03 μs/it)\u001b[39m\n",
      "\u001b[38;5;4m\u001b[1m[ \u001b[22m\u001b[39m\u001b[38;5;4m\u001b[1mDebug: \u001b[22m\u001b[39m20220128 22:01:57 average bst magnitude: 0.22620031, 0.3008418\n"
     ]
    },
    {
     "ename": "LoadError",
     "evalue": "LoadError: Call to XGBoost C function XGBoosterPredict failed: [22:01:57] /workspace/srcdir/xgboost/src/learner.cc:1231: Check failed: learner_model_param_.num_feature >= p_fmat->Info().num_col_ (61 vs. 62) : Number of columns does not match number of features in booster.\nStack trace:\n  [bt] (0) /home/ubuntu/.julia/artifacts/52d7e967635aad1b12ee5f7ac3593f843a1500f1/lib/libxgboost.so(+0x1c0de4) [0xfffee46d3de4]\n  [bt] (1) /home/ubuntu/.julia/artifacts/52d7e967635aad1b12ee5f7ac3593f843a1500f1/lib/libxgboost.so(xgboost::LearnerImpl::ValidateDMatrix(xgboost::DMatrix*, bool) const+0x254) [0xfffee46dd654]\n  [bt] (2) /home/ubuntu/.julia/artifacts/52d7e967635aad1b12ee5f7ac3593f843a1500f1/lib/libxgboost.so(xgboost::LearnerImpl::PredictRaw(xgboost::DMatrix*, xgboost::PredictionCacheEntry*, bool, unsigned int, unsigned int) const+0x34) [0xfffee46dd6e4]\n  [bt] (3) /home/ubuntu/.julia/artifacts/52d7e967635aad1b12ee5f7ac3593f843a1500f1/lib/libxgboost.so(xgboost::LearnerImpl::Predict(std::shared_ptr<xgboost::DMatrix>, bool, xgboost::HostDeviceVector<float>*, unsigned int, unsigned int, bool, bool, bool, bool, bool)+0x2fc) [0xfffee46e433c]\n  [bt] (4) /home/ubuntu/.julia/artifacts/52d7e967635aad1b12ee5f7ac3593f843a1500f1/lib/libxgboost.so(XGBoosterPredict+0xd0) [0xfffee45ee620]\n  [bt] (5) [0xfffee5016f74]\n  [bt] (6) [0xfffee50174cc]\n  [bt] (7) [0xfffee501776c]\n  [bt] (8) /opt/julia-1.6.3/bin/../lib/julia/libjulia-internal.so.1(jl_apply_generic+0x218) [0xffff98748630]\n\n\nin expression starting at /home/ubuntu/RecommenderSystem/notebooks/ProductionAlphas/CombineSignals.ipynb:In[10]:2",
     "output_type": "error",
     "traceback": [
      "LoadError: Call to XGBoost C function XGBoosterPredict failed: [22:01:57] /workspace/srcdir/xgboost/src/learner.cc:1231: Check failed: learner_model_param_.num_feature >= p_fmat->Info().num_col_ (61 vs. 62) : Number of columns does not match number of features in booster.\nStack trace:\n  [bt] (0) /home/ubuntu/.julia/artifacts/52d7e967635aad1b12ee5f7ac3593f843a1500f1/lib/libxgboost.so(+0x1c0de4) [0xfffee46d3de4]\n  [bt] (1) /home/ubuntu/.julia/artifacts/52d7e967635aad1b12ee5f7ac3593f843a1500f1/lib/libxgboost.so(xgboost::LearnerImpl::ValidateDMatrix(xgboost::DMatrix*, bool) const+0x254) [0xfffee46dd654]\n  [bt] (2) /home/ubuntu/.julia/artifacts/52d7e967635aad1b12ee5f7ac3593f843a1500f1/lib/libxgboost.so(xgboost::LearnerImpl::PredictRaw(xgboost::DMatrix*, xgboost::PredictionCacheEntry*, bool, unsigned int, unsigned int) const+0x34) [0xfffee46dd6e4]\n  [bt] (3) /home/ubuntu/.julia/artifacts/52d7e967635aad1b12ee5f7ac3593f843a1500f1/lib/libxgboost.so(xgboost::LearnerImpl::Predict(std::shared_ptr<xgboost::DMatrix>, bool, xgboost::HostDeviceVector<float>*, unsigned int, unsigned int, bool, bool, bool, bool, bool)+0x2fc) [0xfffee46e433c]\n  [bt] (4) /home/ubuntu/.julia/artifacts/52d7e967635aad1b12ee5f7ac3593f843a1500f1/lib/libxgboost.so(XGBoosterPredict+0xd0) [0xfffee45ee620]\n  [bt] (5) [0xfffee5016f74]\n  [bt] (6) [0xfffee50174cc]\n  [bt] (7) [0xfffee501776c]\n  [bt] (8) /opt/julia-1.6.3/bin/../lib/julia/libjulia-internal.so.1(jl_apply_generic+0x218) [0xffff98748630]\n\n\nin expression starting at /home/ubuntu/RecommenderSystem/notebooks/ProductionAlphas/CombineSignals.ipynb:In[10]:2",
      "",
      "Stacktrace:",
      "  [1] error(::String, ::String, ::String, ::String)",
      "    @ Base ./error.jl:42",
      "  [2] XGBoosterPredict(handle::Ptr{Nothing}, dmat::Ptr{Nothing}, option_mask::Int32, ntree_limit::UInt32, training::Int32, out_len::Vector{UInt64})",
      "    @ XGBoost ~/.julia/packages/XGBoost/fI0vs/src/xgboost_wrapper_h.jl:11",
      "  [3] predict(bst::XGBoost.Booster, data::Matrix{Float64}; output_margin::Bool, ntree_limit::Int64, training::Int64)",
      "    @ XGBoost ~/.julia/packages/XGBoost/fI0vs/src/xgboost_lib.jl:243",
      "  [4] predict(bst::XGBoost.Booster, data::Matrix{Float64})",
      "    @ XGBoost ~/.julia/packages/XGBoost/fI0vs/src/xgboost_lib.jl:238",
      "  [5] top-level scope",
      "    @ ~/RecommenderSystem/notebooks/ProductionAlphas/CombineSignals.ipynb:In[10]:2",
      "  [6] eval",
      "    @ ./boot.jl:360 [inlined]",
      "  [7] include_string(mapexpr::typeof(identity), mod::Module, code::String, filename::String)",
      "    @ Base ./loading.jl:1116",
      "  [8] include_string",
      "    @ ./loading.jl:1126 [inlined]",
      "  [9] my_include_string(m::Module, s::String, path::String, prev::Nothing, softscope::Bool)",
      "    @ NBInclude ~/.julia/packages/NBInclude/MxvbF/src/NBInclude.jl:30",
      " [10] #2",
      "    @ ~/.julia/packages/NBInclude/MxvbF/src/NBInclude.jl:93 [inlined]",
      " [11] task_local_storage(body::NBInclude.var\"#2#3\"{Bool, Module, String, Nothing, String, String}, key::Symbol, val::Bool)",
      "    @ Base ./task.jl:281",
      " [12] nbinclude(m::Module, path::String; renumber::Bool, counters::UnitRange{Int64}, regex::Regex, anshook::typeof(identity), softscope::Bool)",
      "    @ NBInclude ~/.julia/packages/NBInclude/MxvbF/src/NBInclude.jl:92",
      " [13] nbinclude(m::Module, path::String)",
      "    @ NBInclude ~/.julia/packages/NBInclude/MxvbF/src/NBInclude.jl:65",
      " [14] top-level scope",
      "    @ In[7]:1",
      " [15] eval",
      "    @ ./boot.jl:360 [inlined]",
      " [16] include_string(mapexpr::typeof(REPL.softscope), mod::Module, code::String, filename::String)",
      "    @ Base ./loading.jl:1116"
     ]
    }
   ],
   "source": [
    "@nbinclude(\"CombineSignals.ipynb\");"
   ]
  },
  {
   "cell_type": "code",
   "execution_count": 8,
   "id": "a287c384-d8b2-4146-a1a2-2da3c7b5d5dc",
   "metadata": {},
   "outputs": [
    {
     "name": "stderr",
     "output_type": "stream",
     "text": [
      "\u001b[38;5;4m\u001b[1m[ \u001b[22m\u001b[39m\u001b[38;5;4m\u001b[1mDebug: \u001b[22m\u001b[39m20220128 22:02:02 Using LLVM 11.0.1 at /opt/julia-1.6.3/bin/../lib/julia/libLLVM-11jl.so\n",
      "WARNING: using Flux.params in module Main conflicts with an existing identifier.\n"
     ]
    },
    {
     "ename": "LoadError",
     "evalue": "LoadError: DimensionMismatch(\"second dimension of A, 16981, does not match length of x, 16980\")\nin expression starting at /home/ubuntu/RecommenderSystem/notebooks/ProductionAlphas/ANN.ipynb:In[+6]:1",
     "output_type": "error",
     "traceback": [
      "LoadError: DimensionMismatch(\"second dimension of A, 16981, does not match length of x, 16980\")\nin expression starting at /home/ubuntu/RecommenderSystem/notebooks/ProductionAlphas/ANN.ipynb:In[+6]:1",
      "",
      "Stacktrace:",
      "  [1] gemv!(y::Vector{Float32}, tA::Char, A::Matrix{Float32}, x::Vector{Float32}, α::Bool, β::Bool)",
      "    @ LinearAlgebra /buildworker/worker/package_linuxaarch64/build/usr/share/julia/stdlib/v1.6/LinearAlgebra/src/matmul.jl:530",
      "  [2] mul!",
      "    @ /buildworker/worker/package_linuxaarch64/build/usr/share/julia/stdlib/v1.6/LinearAlgebra/src/matmul.jl:66 [inlined]",
      "  [3] mul!",
      "    @ /buildworker/worker/package_linuxaarch64/build/usr/share/julia/stdlib/v1.6/LinearAlgebra/src/matmul.jl:275 [inlined]",
      "  [4] *",
      "    @ /buildworker/worker/package_linuxaarch64/build/usr/share/julia/stdlib/v1.6/LinearAlgebra/src/matmul.jl:47 [inlined]",
      "  [5] (::Dense{typeof(identity), Matrix{Float32}, Flux.Zeros})(x::Vector{Float32})",
      "    @ Flux ~/.julia/packages/Flux/BPPNj/src/layers/basic.jl:158",
      "  [6] #176",
      "    @ ~/.julia/packages/Flux/BPPNj/src/layers/basic.jl:447 [inlined]",
      "  [7] MappingRF",
      "    @ ./reduce.jl:93 [inlined]",
      "  [8] afoldl",
      "    @ ./operators.jl:533 [inlined]",
      "  [9] _foldl_impl",
      "    @ ./tuple.jl:263 [inlined]",
      " [10] foldl_impl",
      "    @ ./reduce.jl:48 [inlined]",
      " [11] mapfoldl_impl",
      "    @ ./reduce.jl:44 [inlined]",
      " [12] #mapfoldl#214",
      "    @ ./reduce.jl:160 [inlined]",
      " [13] mapfoldl",
      "    @ ./reduce.jl:160 [inlined]",
      " [14] #mapreduce#218",
      "    @ ./reduce.jl:287 [inlined]",
      " [15] mapreduce",
      "    @ ./reduce.jl:287 [inlined]",
      " [16] Parallel",
      "    @ ~/.julia/packages/Flux/BPPNj/src/layers/basic.jl:447 [inlined]",
      " [17] applychain(fs::Tuple{Parallel{typeof(vcat), Tuple{Dense{typeof(identity), Matrix{Float32}, Flux.Zeros}, Dense{typeof(identity), Matrix{Float32}, Flux.Zeros}, Dense{typeof(identity), Matrix{Float32}, Flux.Zeros}}}, Dense{typeof(relu), Matrix{Float32}, Vector{Float32}}, Dense{typeof(relu), Matrix{Float32}, Vector{Float32}}, Dense{typeof(identity), Matrix{Float32}, Vector{Float32}}}, x::Vector{Float32})",
      "    @ Flux ~/.julia/packages/Flux/BPPNj/src/layers/basic.jl:47",
      " [18] (::Chain{Tuple{Parallel{typeof(vcat), Tuple{Dense{typeof(identity), Matrix{Float32}, Flux.Zeros}, Dense{typeof(identity), Matrix{Float32}, Flux.Zeros}, Dense{typeof(identity), Matrix{Float32}, Flux.Zeros}}}, Dense{typeof(relu), Matrix{Float32}, Vector{Float32}}, Dense{typeof(relu), Matrix{Float32}, Vector{Float32}}, Dense{typeof(identity), Matrix{Float32}, Vector{Float32}}}})(x::Vector{Float32})",
      "    @ Flux ~/.julia/packages/Flux/BPPNj/src/layers/basic.jl:49",
      " [19] compute_alpha()",
      "    @ Main ~/RecommenderSystem/notebooks/ProductionAlphas/ANN.ipynb:In[+5]:6",
      " [20] top-level scope",
      "    @ ~/RecommenderSystem/notebooks/ProductionAlphas/ANN.ipynb:In[+6]:1",
      " [21] eval",
      "    @ ./boot.jl:360 [inlined]",
      " [22] include_string(mapexpr::typeof(identity), mod::Module, code::String, filename::String)",
      "    @ Base ./loading.jl:1116",
      " [23] include_string",
      "    @ ./loading.jl:1126 [inlined]",
      " [24] my_include_string(m::Module, s::String, path::String, prev::Nothing, softscope::Bool)",
      "    @ NBInclude ~/.julia/packages/NBInclude/MxvbF/src/NBInclude.jl:30",
      " [25] #2",
      "    @ ~/.julia/packages/NBInclude/MxvbF/src/NBInclude.jl:93 [inlined]",
      " [26] task_local_storage(body::NBInclude.var\"#2#3\"{Bool, Module, String, Nothing, String, String}, key::Symbol, val::Bool)",
      "    @ Base ./task.jl:281",
      " [27] nbinclude(m::Module, path::String; renumber::Bool, counters::UnitRange{Int64}, regex::Regex, anshook::typeof(identity), softscope::Bool)",
      "    @ NBInclude ~/.julia/packages/NBInclude/MxvbF/src/NBInclude.jl:92",
      " [28] nbinclude(m::Module, path::String)",
      "    @ NBInclude ~/.julia/packages/NBInclude/MxvbF/src/NBInclude.jl:65",
      " [29] top-level scope",
      "    @ In[8]:1",
      " [30] eval",
      "    @ ./boot.jl:360 [inlined]",
      " [31] include_string(mapexpr::typeof(REPL.softscope), mod::Module, code::String, filename::String)",
      "    @ Base ./loading.jl:1116"
     ]
    }
   ],
   "source": [
    "@nbinclude(\"ANN.ipynb\");"
   ]
  }
 ],
 "metadata": {
  "kernelspec": {
   "display_name": "Julia 1.6.3",
   "language": "julia",
   "name": "julia-1.6"
  },
  "language_info": {
   "file_extension": ".jl",
   "mimetype": "application/julia",
   "name": "julia",
   "version": "1.6.3"
  }
 },
 "nbformat": 4,
 "nbformat_minor": 5
}
