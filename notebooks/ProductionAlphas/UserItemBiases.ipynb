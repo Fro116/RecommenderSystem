{
 "cells": [
  {
   "cell_type": "markdown",
   "id": "c3758ece-9b72-47b4-ae6a-aa364e0443e3",
   "metadata": {},
   "source": [
    "# User Item Biases With Regularization\n",
    "* Prediction for user $i$ and item $j$ is $\\tilde r_{ij} = u_i + a_j$\n",
    "* Loss function is $L = \\sum_{\\Omega}(r_{ij} - u_i - a_j)^2 + \\lambda_u \\sum_i (u_i - \\bar u) ^2 + \\lambda_a \\sum_j (a_j - \\bar a)^2 $\n",
    "* $\\bar u$ is the mean of $u_i$ and $\\bar a$ is the mean of $a_j$ \n",
    "* $\\Omega$ is the set of oberved pairs $(i, j)$\n",
    "* $r_{ij}$ is the rating for user $i$ and item $j$"
   ]
  },
  {
   "cell_type": "code",
   "execution_count": 1,
   "id": "7cc9334a-2287-41d6-885b-a5cca94fe263",
   "metadata": {},
   "outputs": [],
   "source": [
    "source = \"UserItemBiases\";"
   ]
  },
  {
   "cell_type": "code",
   "execution_count": 2,
   "id": "df87db6f-667c-4bc2-9d48-7f4debe6750f",
   "metadata": {
    "tags": []
   },
   "outputs": [],
   "source": [
    "using NBInclude\n",
    "@nbinclude(\"Alpha.ipynb\");"
   ]
  },
  {
   "cell_type": "markdown",
   "id": "99f52a69-0231-4bff-8a9f-26bb16ee9f33",
   "metadata": {},
   "source": [
    "# Alternating Least Squares Algorithm\n",
    "* $u_i = \\dfrac{\\sum_{j \\in \\Omega_i}(r_{ij} - a_j) + \\bar u \\lambda_u}{|\\Omega_i| + \\lambda_u} = \\dfrac{\\rho_i + \\bar u \\lambda_u}{|\\Omega_i| + \\lambda_u}$\n",
    "* $\\Omega$ is the set of (user, item) pairs that we have ratings for\n",
    "* $\\Omega_i$ is subset of $\\Omega$ for which the user is the $i$-th user"
   ]
  },
  {
   "cell_type": "code",
   "execution_count": 3,
   "id": "fb96c1bd-40b5-457b-9872-ca6633256390",
   "metadata": {},
   "outputs": [],
   "source": [
    "function get_residuals!(users, items, ratings, u, a, ρ, Ω)\n",
    "    for row = 1:length(users)\n",
    "        i = users[row]\n",
    "        j = items[row]\n",
    "        r = ratings[row]\n",
    "        ρ[i] += r - a[j]\n",
    "        Ω[i] += 1\n",
    "    end\n",
    "    ρ, Ω\n",
    "end\n",
    "\n",
    "# todo move to utils\n",
    "function thread_range(n)\n",
    "    tid = Threads.threadid()\n",
    "    nt = Threads.nthreads()\n",
    "    d, r = divrem(n, nt)\n",
    "    from = (tid - 1) * d + min(r, tid - 1) + 1\n",
    "    to = from + d - 1 + (tid ≤ r ? 1 : 0)\n",
    "    from:to\n",
    "end\n",
    "\n",
    "function update_users!(users, items, ratings, u, a, λ_u, ρ, Ω)\n",
    "    Threads.@threads for t = 1:Threads.nthreads()\n",
    "        range = thread_range(length(ratings))\n",
    "        ρ[:, Threads.threadid()] .= 0\n",
    "        Ω[:, Threads.threadid()] .= 0\n",
    "        @views get_residuals!(\n",
    "            users[range],\n",
    "            items[range],\n",
    "            ratings[range],\n",
    "            u,\n",
    "            a,\n",
    "            ρ[:, Threads.threadid()],\n",
    "            Ω[:, Threads.threadid()],\n",
    "        )\n",
    "    end\n",
    "    ρ = sum(ρ, dims = 2)\n",
    "    Ω = sum(Ω, dims = 2)\n",
    "\n",
    "    μ = mean(u)\n",
    "    Threads.@threads for i = 1:length(u)\n",
    "        u[i] = (ρ[i] + μ * λ_u) / (Ω[i] + λ_u)\n",
    "    end\n",
    "end;"
   ]
  },
  {
   "cell_type": "code",
   "execution_count": 4,
   "id": "d0371f61-27bf-4f52-b822-d060f7be01b3",
   "metadata": {},
   "outputs": [],
   "source": [
    "function train_model(training, λ_u, a, stop_criteria)\n",
    "    @debug \"training model with parameters [$λ_u]\"\n",
    "    users, items, ratings = training.user, training.item, training.rating\n",
    "    u = zeros(eltype(λ_u), maximum(users))\n",
    "\n",
    "    ρ_u = zeros(eltype(u), length(u), Threads.nthreads())\n",
    "    Ω_u = zeros(eltype(u), length(u), Threads.nthreads())\n",
    "\n",
    "    while !stop!(stop_criteria, [u])\n",
    "        update_users!(users, items, ratings, u, a, λ_u, ρ_u, Ω_u)\n",
    "        @debug u\n",
    "    end\n",
    "    u\n",
    "end;"
   ]
  },
  {
   "cell_type": "code",
   "execution_count": 5,
   "id": "59fb718e-dc9e-4452-b72c-829ae2d843ff",
   "metadata": {},
   "outputs": [],
   "source": [
    "function make_prediction(users, items, u, a)\n",
    "    r = zeros(eltype(u), length(users))\n",
    "    u_mean = mean(u)\n",
    "    a_mean = mean(a)\n",
    "    for i = 1:length(r)\n",
    "        if users[i] > length(u)\n",
    "            r[i] += mean(u)\n",
    "        else\n",
    "            r[i] += u[users[i]]\n",
    "        end\n",
    "        if items[i] > length(a)\n",
    "            r[i] += mean(a)\n",
    "        else\n",
    "            r[i] += a[items[i]]\n",
    "        end\n",
    "    end\n",
    "    r\n",
    "end;"
   ]
  },
  {
   "cell_type": "markdown",
   "id": "6e57cc00-5576-4e20-9dd8-52f9c4ec58f8",
   "metadata": {},
   "source": [
    "# Compute Alphas"
   ]
  },
  {
   "cell_type": "code",
   "execution_count": 6,
   "id": "e52b5f43-77a8-4da8-8d7e-4225626942e9",
   "metadata": {},
   "outputs": [],
   "source": [
    "training = get_recommendee_list()\n",
    "params = read_params(source);"
   ]
  },
  {
   "cell_type": "code",
   "execution_count": 7,
   "id": "15495b44-6898-4bd3-a746-ef8ca840f0c6",
   "metadata": {},
   "outputs": [
    {
     "name": "stderr",
     "output_type": "stream",
     "text": [
      "\u001b[38;5;4m\u001b[1m[ \u001b[22m\u001b[39m\u001b[38;5;4m\u001b[1mDebug: \u001b[22m\u001b[39m20211228 03:20:56 training model with parameters [2.061994938223341]\n",
      "\u001b[38;5;4m\u001b[1m[ \u001b[22m\u001b[39m\u001b[38;5;4m\u001b[1mDebug: \u001b[22m\u001b[39m20211228 03:20:57 [5.965289354197389]\n",
      "\u001b[38;5;4m\u001b[1m[ \u001b[22m\u001b[39m\u001b[38;5;4m\u001b[1mDebug: \u001b[22m\u001b[39m20211228 03:20:58 [5.995212812470979]\n",
      "\u001b[38;5;4m\u001b[1m[ \u001b[22m\u001b[39m\u001b[38;5;4m\u001b[1mDebug: \u001b[22m\u001b[39m20211228 03:20:58 [5.995362916397525]\n",
      "\u001b[38;5;4m\u001b[1m[ \u001b[22m\u001b[39m\u001b[38;5;4m\u001b[1mDebug: \u001b[22m\u001b[39m20211228 03:20:58 [5.995363669358248]\n",
      "\u001b[38;5;4m\u001b[1m[ \u001b[22m\u001b[39m\u001b[38;5;4m\u001b[1mDebug: \u001b[22m\u001b[39m20211228 03:20:58 [5.995363673135296]\n",
      "\u001b[38;5;4m\u001b[1m[ \u001b[22m\u001b[39m\u001b[38;5;4m\u001b[1mDebug: \u001b[22m\u001b[39m20211228 03:20:58 [5.995363673154244]\n"
     ]
    }
   ],
   "source": [
    "training.user .= 1 # relabel ids so that recommendee -> 1\n",
    "stop_criteria = convergence_stopper(1e-9)\n",
    "u = train_model(training, params[\"λ\"][1], params[\"a\"], stop_criteria);"
   ]
  },
  {
   "cell_type": "code",
   "execution_count": 8,
   "id": "bd86b2cc-bc7e-4fdb-93fd-37e1f15422c7",
   "metadata": {},
   "outputs": [],
   "source": [
    "model(items) = make_prediction(fill(1, length(items)), items, u, params[\"a\"]);"
   ]
  },
  {
   "cell_type": "code",
   "execution_count": 9,
   "id": "ef820a41-58bb-4a00-b99c-799d391af54b",
   "metadata": {},
   "outputs": [],
   "source": [
    "write_recommendee_alpha(model);"
   ]
  }
 ],
 "metadata": {
  "kernelspec": {
   "display_name": "Julia 1.6.3",
   "language": "julia",
   "name": "julia-1.6"
  },
  "language_info": {
   "file_extension": ".jl",
   "mimetype": "application/julia",
   "name": "julia",
   "version": "1.6.3"
  }
 },
 "nbformat": 4,
 "nbformat_minor": 5
}
