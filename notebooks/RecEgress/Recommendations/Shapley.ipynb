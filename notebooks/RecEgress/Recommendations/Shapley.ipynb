{
 "cells": [
  {
   "cell_type": "code",
   "execution_count": 1,
   "id": "14efc809-cfba-46bc-97ee-6db050314160",
   "metadata": {
    "tags": [
     "parameters"
    ]
   },
   "outputs": [],
   "source": [
    "username = \"Fro116\"\n",
    "source = \"MAL\";"
   ]
  },
  {
   "cell_type": "code",
   "execution_count": 2,
   "id": "ba187524-034d-40f6-9e40-0ab5123e36bb",
   "metadata": {
    "tags": []
   },
   "outputs": [
    {
     "name": "stderr",
     "output_type": "stream",
     "text": [
      "\u001b[33m\u001b[1m┌ \u001b[22m\u001b[39m\u001b[33m\u001b[1mWarning: \u001b[22m\u001b[39msource_name not defined: using all/Inference\n",
      "\u001b[33m\u001b[1m└ \u001b[22m\u001b[39m\u001b[90m@ Main ~/Desktop/RecommenderSystem/notebooks/InferenceAlphas/Alpha.ipynb:In[+2]:3\u001b[39m\n"
     ]
    }
   ],
   "source": [
    "import NBInclude: @nbinclude\n",
    "@nbinclude(\"../../InferenceAlphas/Alpha.ipynb\");"
   ]
  },
  {
   "cell_type": "code",
   "execution_count": 3,
   "id": "0699b442-e589-48ba-9d00-b286cc2c211f",
   "metadata": {},
   "outputs": [],
   "source": [
    "coefs = [-5.481506, 1.2974571, -1.084365, 0.24383727]\n",
    "coefs = exp.(coefs);"
   ]
  },
  {
   "cell_type": "code",
   "execution_count": 4,
   "id": "ba6bb453-239c-487d-8bf4-1fd6b68264c1",
   "metadata": {},
   "outputs": [],
   "source": [
    "# function vec(x::DropItems)\n",
    "#     m = zeros(num_items(\"manga\") + num_items(\"anime\") + 1)\n",
    "#     for y in x.manga_items\n",
    "#         m[y] = 1\n",
    "#     end\n",
    "#     for y in x.anime_items\n",
    "#         m[y+num_items(\"manga\")] = 1\n",
    "#     end\n",
    "#     m[end] = 1 # the intercept term\n",
    "#     m\n",
    "# end;"
   ]
  },
  {
   "cell_type": "code",
   "execution_count": 5,
   "id": "4c0c708a-a8d5-413f-9018-2594eda2b908",
   "metadata": {},
   "outputs": [],
   "source": [
    "# @memoize function get_values(medium, task, coefs)\n",
    "#     relu(x) = max(x, zero(eltype(x)))\n",
    "#     imp_alpha = read_recommendee_params(\"$medium/$task/Transformer/v1/implicit\")[\"alpha\"]\n",
    "#     exp_alpha = read_recommendee_params(\"$medium/$task/Transformer/v1/explicit\")[\"alpha\"]\n",
    "#     exp_alpha = relu.((exp_alpha .+ 10) ./ 10)\n",
    "#     utility = sum(coefs .* [imp_alpha, exp_alpha, log.(imp_alpha), log.(exp_alpha)])\n",
    "\n",
    "#     noise =\n",
    "#         read_recommendee_params(\"anime/temporal_causal/Transformer/v1/implicit\")[\"noise\"]\n",
    "#     idxs = [x for x in 1:length(noise) if typeof(noise[x]) == DropItems]\n",
    "#     noise = noise[idxs]\n",
    "#     utility = utility[:, idxs]\n",
    "\n",
    "#     utility, noise\n",
    "# end"
   ]
  },
  {
   "cell_type": "code",
   "execution_count": 6,
   "id": "32c2084b-a95e-48e2-aa49-275ede71cabf",
   "metadata": {},
   "outputs": [
    {
     "data": {
      "text/plain": [
       "get_attribution_data (generic function with 1 method)"
      ]
     },
     "execution_count": 6,
     "metadata": {},
     "output_type": "execute_result"
    }
   ],
   "source": [
    "function encode(x::DropItems)\n",
    "    m = zeros(num_items(\"manga\") + num_items(\"anime\") + 1)\n",
    "    for y in x.manga_items\n",
    "        m[y] = -1\n",
    "    end\n",
    "    for y in x.anime_items\n",
    "        m[y+num_items(\"manga\")] = -1\n",
    "    end\n",
    "    m[end] = 1 # the intercept term\n",
    "    m\n",
    "end\n",
    "\n",
    "@memoize function get_attribution_data(medium, task, coefs)\n",
    "    relu(x) = max(x, zero(eltype(x)))\n",
    "    imp_alpha = read_recommendee_params(\"$medium/$task/Transformer/v1/implicit\")[\"alpha\"]\n",
    "    exp_alpha = read_recommendee_params(\"$medium/$task/Transformer/v1/explicit\")[\"alpha\"]\n",
    "    exp_alpha = relu.((exp_alpha .+ 10) ./ 10)\n",
    "    utility = sum(coefs .* [imp_alpha, exp_alpha, log.(imp_alpha), log.(exp_alpha)])\n",
    "\n",
    "    noise =\n",
    "        read_recommendee_params(\"anime/temporal_causal/Transformer/v1/implicit\")[\"noise\"]\n",
    "    idxs = [x for x in 1:length(noise) if typeof(noise[x]) == DropItems]\n",
    "    noise = noise[idxs]\n",
    "    utility = utility[:, idxs]\n",
    "\n",
    "    M = reduce(hcat, encode.(noise))\n",
    "    utility, M\n",
    "end"
   ]
  },
  {
   "cell_type": "code",
   "execution_count": 13,
   "id": "17fe5b28-6f36-4847-929a-e8521516c2eb",
   "metadata": {
    "scrolled": true
   },
   "outputs": [
    {
     "data": {
      "text/plain": [
       "([1.6782465136167606 1.1710987052889827 … 1.1594172754168972 0.41184471372214115; 2.249898711298231 1.9227066145592775 … 2.096234981367689 1.9163803710718277; … ; 2.3933555562967843 2.0348550368410763 … 1.6707101750712914 1.6797779066593121; 0.5470715110167559 1.1444750355613134 … 0.7504151946766187 0.019771798629687698], [0.0 0.0 … 0.0 0.0; 0.0 0.0 … 0.0 0.0; … ; 0.0 0.0 … 0.0 0.0; 1.0 1.0 … 1.0 1.0])"
      ]
     },
     "execution_count": 13,
     "metadata": {},
     "output_type": "execute_result"
    }
   ],
   "source": [
    "utility, M = get_attribution_data(\"anime\", \"temporal_causal\", coefs)"
   ]
  },
  {
   "cell_type": "code",
   "execution_count": 14,
   "id": "abc9fe5d-7d30-41a5-882b-d8b352931920",
   "metadata": {},
   "outputs": [],
   "source": [
    "kanojo = 22311 # kanojo\n",
    "bunny = 19765 # bunny\n",
    "bocchi = 6437 # spy x fam\n",
    "ojamajo = 5802 # clear card\n",
    "touch = 23762 # kodocha\n",
    "fullmoon = 8706 # kodocha\n",
    "tengoku = 5667\n",
    "item = bocchi + 1;"
   ]
  },
  {
   "cell_type": "code",
   "execution_count": 22,
   "id": "c9350eb1-0d4b-4234-9dc7-104c718f173a",
   "metadata": {},
   "outputs": [],
   "source": [
    "attrs = M' \\ utility[item, :];"
   ]
  },
  {
   "cell_type": "code",
   "execution_count": 35,
   "id": "ae30da81-928c-4551-9176-ad85036a9561",
   "metadata": {},
   "outputs": [
    {
     "data": {
      "text/plain": [
       "91822×2 Matrix{Float64}:\n",
       " 0.0          0.0\n",
       " 0.0          0.0\n",
       " 0.0          0.0\n",
       " 0.0          0.0\n",
       " 0.0          0.0\n",
       " 0.0          0.0\n",
       " 0.0          0.0\n",
       " 0.0          0.0\n",
       " 0.0          0.0\n",
       " 0.0          0.0\n",
       " 0.0          0.0\n",
       " 0.0          0.0\n",
       " 0.0          0.0\n",
       " ⋮           \n",
       " 0.0          0.0\n",
       " 0.0          0.0\n",
       " 0.0184192   -0.0174045\n",
       " 0.0          0.0\n",
       " 0.0          0.0\n",
       " 0.0          0.0\n",
       " 0.0          0.0\n",
       " 0.0          0.0\n",
       " 0.0          0.0\n",
       " 0.0          0.0\n",
       " 0.0          0.0\n",
       " 0.00672504   0.0104289"
      ]
     },
     "execution_count": 35,
     "metadata": {},
     "output_type": "execute_result"
    }
   ],
   "source": [
    "M' \\ utility[1:2, :]'"
   ]
  },
  {
   "cell_type": "code",
   "execution_count": 33,
   "id": "7bd8b2cc-e1a3-4d2b-8b47-e3d6bad75cf9",
   "metadata": {},
   "outputs": [
    {
     "data": {
      "text/plain": [
       "256×2 adjoint(::Matrix{Float64}) with eltype Float64:\n",
       " 1.67825   2.2499\n",
       " 1.1711    1.92271\n",
       " 0.703921  2.06481\n",
       " 1.49094   2.45551\n",
       " 0.721562  2.14207\n",
       " 0.655485  2.17063\n",
       " 1.85532   2.56885\n",
       " 0.35367   1.42878\n",
       " 1.13662   2.33534\n",
       " 0.946271  2.15146\n",
       " 1.91048   2.5347\n",
       " 1.21162   1.68324\n",
       " 0.910594  2.01299\n",
       " ⋮         \n",
       " 1.50398   2.42999\n",
       " 1.25361   2.52799\n",
       " 0.581859  1.80086\n",
       " 1.05393   1.95093\n",
       " 1.74468   2.33743\n",
       " 1.45902   2.0407\n",
       " 1.25016   2.57782\n",
       " 1.11329   2.00038\n",
       " 1.0881    2.27063\n",
       " 0.844142  2.04134\n",
       " 1.15942   2.09623\n",
       " 0.411845  1.91638"
      ]
     },
     "execution_count": 33,
     "metadata": {},
     "output_type": "execute_result"
    }
   ],
   "source": [
    "utility[1:2, :]'"
   ]
  },
  {
   "cell_type": "code",
   "execution_count": 28,
   "id": "a5e0cfd0-0332-43d2-b445-802d66e72966",
   "metadata": {},
   "outputs": [
    {
     "data": {
      "text/plain": [
       "91822-element Vector{Int64}:\n",
       " -64755\n",
       "   2096\n",
       " -21772\n",
       "   1844\n",
       "   1740\n",
       " -45896\n",
       " -44237\n",
       "   2897\n",
       "   3618\n",
       " -42394\n",
       "    548\n",
       "  -8234\n",
       " -64122\n",
       "      ⋮\n",
       "   3902\n",
       " -16983\n",
       " -43691\n",
       "   1951\n",
       " -58287\n",
       " -58825\n",
       " -31511\n",
       "  -3397\n",
       "  -7509\n",
       "   1735\n",
       " -44160\n",
       " -16414"
      ]
     },
     "execution_count": 28,
     "metadata": {},
     "output_type": "execute_result"
    }
   ],
   "source": [
    "sortperm(attrs2) .- num_items(\"manga\") .- 1"
   ]
  },
  {
   "cell_type": "code",
   "execution_count": 27,
   "id": "10fed90a-6278-425f-aa9e-fa6c72c216f0",
   "metadata": {},
   "outputs": [
    {
     "data": {
      "text/plain": [
       "91822-element Vector{Int64}:\n",
       "   2486\n",
       "  11782\n",
       "  16537\n",
       "   5876\n",
       " -22957\n",
       "   8645\n",
       "   1846\n",
       "   9233\n",
       "  -4804\n",
       "  18065\n",
       "   6309\n",
       " -64122\n",
       "  13899\n",
       "      ⋮\n",
       "  15105\n",
       "     44\n",
       "  24737\n",
       "  17460\n",
       "  11586\n",
       " -55789\n",
       "  11210\n",
       " -27781\n",
       "  19010\n",
       "    689\n",
       "   2897\n",
       " -13875"
      ]
     },
     "execution_count": 27,
     "metadata": {},
     "output_type": "execute_result"
    }
   ],
   "source": [
    "sortperm(attrs) .- num_items(\"manga\") .- 1"
   ]
  },
  {
   "cell_type": "code",
   "execution_count": 12,
   "id": "cd39e372-4b7a-45b2-b68f-8d137344e05a",
   "metadata": {},
   "outputs": [
    {
     "ename": "LoadError",
     "evalue": "UndefVarError: `attrs` not defined",
     "output_type": "error",
     "traceback": [
      "UndefVarError: `attrs` not defined",
      "",
      "Stacktrace:",
      " [1] top-level scope",
      "   @ In[12]:1"
     ]
    }
   ],
   "source": [
    "sortperm(attrs) .- 1"
   ]
  },
  {
   "cell_type": "code",
   "execution_count": null,
   "id": "3a432c3b-9ff7-4bec-9e77-d2dbbc1b6b0f",
   "metadata": {},
   "outputs": [],
   "source": []
  }
 ],
 "metadata": {
  "kernelspec": {
   "display_name": "Julia 1.9.2",
   "language": "julia",
   "name": "julia-1.9"
  },
  "language_info": {
   "file_extension": ".jl",
   "mimetype": "application/julia",
   "name": "julia",
   "version": "1.9.2"
  }
 },
 "nbformat": 4,
 "nbformat_minor": 5
}
