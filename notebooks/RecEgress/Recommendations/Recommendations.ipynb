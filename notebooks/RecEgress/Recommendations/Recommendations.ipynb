{
 "cells": [
  {
   "cell_type": "markdown",
   "id": "55a6ae15-00bf-482b-9b38-9795bd469f6a",
   "metadata": {
    "editable": true,
    "slideshow": {
     "slide_type": ""
    },
    "tags": []
   },
   "source": [
    "<h1>Recommendations</h1>\n",
    "\n",
    "<ul>\n",
    "  <li><a href=\"#Anime\">Anime</a></li>\n",
    "  <li><a href=\"#Manga\">Manga</a></li>\n",
    "</ul>"
   ]
  },
  {
   "cell_type": "code",
   "execution_count": null,
   "id": "6ec5877a-e91f-48f7-814e-df5b66fc763e",
   "metadata": {
    "tags": [
     "parameters"
    ]
   },
   "outputs": [],
   "source": [
    "username = \"\"\n",
    "source = \"\";"
   ]
  },
  {
   "cell_type": "code",
   "execution_count": null,
   "id": "021d0dd4-cad8-4f79-b7ac-2198dc8680e9",
   "metadata": {},
   "outputs": [],
   "source": [
    "import NBInclude: @nbinclude\n",
    "@nbinclude(\"RecommendationsBase.ipynb\");"
   ]
  },
  {
   "cell_type": "markdown",
   "id": "f319dd0a-2cc3-40ab-ac01-879c1ed95812",
   "metadata": {},
   "source": [
    "# Anime"
   ]
  },
  {
   "cell_type": "code",
   "execution_count": null,
   "id": "5f2cbb2b-36f6-463c-a4ae-ec599b697516",
   "metadata": {},
   "outputs": [],
   "source": [
    "recommend(\"anime\")"
   ]
  },
  {
   "cell_type": "markdown",
   "id": "980b76e0-a4f0-4122-89e9-dcc329a72292",
   "metadata": {},
   "source": [
    "# Manga"
   ]
  },
  {
   "cell_type": "code",
   "execution_count": null,
   "id": "919ba9d7-a7ba-48bf-9dd8-fe808288ba05",
   "metadata": {
    "editable": true,
    "scrolled": true,
    "slideshow": {
     "slide_type": ""
    },
    "tags": []
   },
   "outputs": [],
   "source": [
    "recommend(\"manga\")"
   ]
  }
 ],
 "metadata": {
  "kernelspec": {
   "display_name": "Julia 1.9.4",
   "language": "julia",
   "name": "julia-1.9"
  },
  "language_info": {
   "file_extension": ".jl",
   "mimetype": "application/julia",
   "name": "julia",
   "version": "1.9.4"
  }
 },
 "nbformat": 4,
 "nbformat_minor": 5
}
