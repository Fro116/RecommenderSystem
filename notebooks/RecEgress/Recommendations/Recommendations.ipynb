{
 "cells": [
  {
   "cell_type": "code",
   "execution_count": null,
   "id": "84cd1886-2d23-40f4-8c34-6508f94ba290",
   "metadata": {
    "editable": true,
    "slideshow": {
     "slide_type": ""
    },
    "tags": []
   },
   "outputs": [],
   "source": [
    "import NBInclude: @nbinclude\n",
    "@nbinclude(\"RecommendationsBase.ipynb\");\n",
    "md\"# $username's <a href=\\\"#Anime\\\">anime</a> and <a href=\\\"#Manga\\\">manga</a> recommendations!\""
   ]
  },
  {
   "cell_type": "markdown",
   "id": "f319dd0a-2cc3-40ab-ac01-879c1ed95812",
   "metadata": {},
   "source": [
    "# Anime"
   ]
  },
  {
   "cell_type": "code",
   "execution_count": null,
   "id": "5f2cbb2b-36f6-463c-a4ae-ec599b697516",
   "metadata": {
    "editable": true,
    "slideshow": {
     "slide_type": ""
    },
    "tags": []
   },
   "outputs": [],
   "source": [
    "recommend(\"anime\")"
   ]
  },
  {
   "cell_type": "markdown",
   "id": "980b76e0-a4f0-4122-89e9-dcc329a72292",
   "metadata": {},
   "source": [
    "# Manga"
   ]
  },
  {
   "cell_type": "code",
   "execution_count": null,
   "id": "919ba9d7-a7ba-48bf-9dd8-fe808288ba05",
   "metadata": {
    "editable": true,
    "slideshow": {
     "slide_type": ""
    },
    "tags": []
   },
   "outputs": [],
   "source": [
    "recommend(\"manga\")"
   ]
  }
 ],
 "metadata": {
  "kernelspec": {
   "display_name": "Julia 1.9.4",
   "language": "julia",
   "name": "julia-1.9"
  },
  "language_info": {
   "file_extension": ".jl",
   "mimetype": "application/julia",
   "name": "julia",
   "version": "1.9.4"
  }
 },
 "nbformat": 4,
 "nbformat_minor": 5
}
