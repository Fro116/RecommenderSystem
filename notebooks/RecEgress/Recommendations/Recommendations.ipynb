{
 "cells": [
  {
   "cell_type": "code",
   "execution_count": null,
   "id": "fc60aeb6-5f19-4552-a55c-6959f5a16c61",
   "metadata": {
    "editable": true,
    "papermill": {
     "duration": 0.494687,
     "end_time": "2024-03-04T09:18:47.456245",
     "exception": false,
     "start_time": "2024-03-04T09:18:46.961558",
     "status": "completed"
    },
    "slideshow": {
     "slide_type": ""
    },
    "tags": []
   },
   "outputs": [],
   "source": [
    "import os\n",
    "\n",
    "import pandas as pd\n",
    "from IPython.display import HTML, Markdown\n",
    "\n",
    "pd.set_option(\"display.max_colwidth\", None)\n",
    "\n",
    "\n",
    "def get_data_path(file):\n",
    "    path = os.path.dirname(os.getcwd())\n",
    "    while True:\n",
    "        if os.path.basename(path) == \"data\":\n",
    "            return os.path.join(path, file)\n",
    "        if os.path.basename(path) == \"notebooks\":\n",
    "            return os.path.join(os.path.dirname(path), \"data\", file)\n",
    "        path = os.path.dirname(path)\n",
    "\n",
    "\n",
    "def display_recs(medium):\n",
    "    rec_dir = get_data_path(f\"recommendations/{source}/{username}\")\n",
    "    df = pd.read_csv(os.path.join(rec_dir, f\"recs.{medium}.csv\"))\n",
    "    display(\n",
    "        HTML(\n",
    "            df.style.set_properties(**{\"text-align\": \"left\"})\n",
    "            .set_table_styles([dict(selector=\"th\", props=[(\"text-align\", \"left\")])])\n",
    "            .hide()\n",
    "            .to_html()\n",
    "        )\n",
    "    )\n",
    "\n",
    "\n",
    "display(\n",
    "    Markdown(\n",
    "        f'# {username}\\'s <a href=\"#Anime\">anime</a> and <a href=\"#Manga\">manga</a> recommendations!'\n",
    "    )\n",
    ")"
   ]
  },
  {
   "cell_type": "markdown",
   "id": "487966a6-c5f1-4443-a0cd-c00911c247c0",
   "metadata": {
    "editable": true,
    "papermill": {
     "duration": 0.008657,
     "end_time": "2024-03-04T09:18:47.465822",
     "exception": false,
     "start_time": "2024-03-04T09:18:47.457165",
     "status": "completed"
    },
    "slideshow": {
     "slide_type": ""
    },
    "tags": []
   },
   "source": [
    "# Anime"
   ]
  },
  {
   "cell_type": "code",
   "execution_count": null,
   "id": "50e2fb29-a33e-4c01-8230-474a56ebe920",
   "metadata": {
    "editable": true,
    "papermill": {
     "duration": 0.019307,
     "end_time": "2024-03-04T09:18:48.416553",
     "exception": false,
     "start_time": "2024-03-04T09:18:48.397246",
     "status": "completed"
    },
    "slideshow": {
     "slide_type": ""
    },
    "tags": []
   },
   "outputs": [],
   "source": [
    "display_recs(\"anime\");"
   ]
  },
  {
   "cell_type": "markdown",
   "id": "f81be5f3-c7d6-4887-bff5-817d48d21ecb",
   "metadata": {
    "editable": true,
    "papermill": {
     "duration": 0.003671,
     "end_time": "2024-03-04T09:18:48.425119",
     "exception": false,
     "start_time": "2024-03-04T09:18:48.421448",
     "status": "completed"
    },
    "slideshow": {
     "slide_type": ""
    },
    "tags": []
   },
   "source": [
    "# Manga"
   ]
  },
  {
   "cell_type": "code",
   "execution_count": null,
   "id": "ab55eac5-1596-43d3-866c-6c150402394c",
   "metadata": {
    "editable": true,
    "papermill": {
     "duration": 0.049704,
     "end_time": "2024-03-04T09:18:48.477600",
     "exception": false,
     "start_time": "2024-03-04T09:18:48.427896",
     "status": "completed"
    },
    "slideshow": {
     "slide_type": ""
    },
    "tags": []
   },
   "outputs": [],
   "source": [
    "display_recs(\"manga\");"
   ]
  }
 ],
 "metadata": {
  "kernelspec": {
   "display_name": "Python 3 (ipykernel)",
   "language": "python",
   "name": "python3"
  },
  "language_info": {
   "codemirror_mode": {
    "name": "ipython",
    "version": 3
   },
   "file_extension": ".py",
   "mimetype": "text/x-python",
   "name": "python",
   "nbconvert_exporter": "python",
   "pygments_lexer": "ipython3",
   "version": "3.10.12"
  },
  "papermill": {
   "default_parameters": {},
   "duration": 2.603231,
   "end_time": "2024-03-04T09:18:48.697371",
   "environment_variables": {},
   "exception": null,
   "input_path": "Recommendations.ipynb",
   "output_path": "test.ipynb",
   "parameters": {
    "source": "anilist",
    "username": "TAAPAye"
   },
   "start_time": "2024-03-04T09:18:46.094140",
   "version": "2.4.0"
  }
 },
 "nbformat": 4,
 "nbformat_minor": 5
}
