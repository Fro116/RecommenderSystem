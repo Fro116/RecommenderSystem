{
 "cells": [
  {
   "cell_type": "markdown",
   "id": "8569f4e0-f062-400e-b480-d6c237b18735",
   "metadata": {
    "editable": true,
    "slideshow": {
     "slide_type": ""
    },
    "tags": []
   },
   "source": [
    "# Also Watched\n",
    "* Attaches a column to the recommendations about what other viewers have watched"
   ]
  },
  {
   "cell_type": "code",
   "execution_count": null,
   "id": "16577dd0-4b98-48a2-a592-88182b7d3408",
   "metadata": {},
   "outputs": [],
   "source": [
    "@memoize read_params_memoized(x) = read_params(x);"
   ]
  },
  {
   "cell_type": "code",
   "execution_count": null,
   "id": "466978d4-b4c7-4122-bbcb-c62b168ab7f4",
   "metadata": {},
   "outputs": [],
   "source": [
    "function get_also_watched(watch_similarity, related_series, item, allowed_items)\n",
    "    W = watch_similarity\n",
    "    R = related_series\n",
    "    related_items = Set(R[:, item+1].nzind .- 1)\n",
    "    also_watched = nothing\n",
    "    watch_rate = -Inf\n",
    "    for x in allowed_items\n",
    "        if x in related_items\n",
    "            continue\n",
    "        end\n",
    "        rate = W[x + 1, item + 1]\n",
    "        if rate > watch_rate\n",
    "            watch_rate = rate\n",
    "            also_watched = x\n",
    "        end\n",
    "    end\n",
    "    also_watched\n",
    "end;"
   ]
  },
  {
   "cell_type": "code",
   "execution_count": null,
   "id": "0827186f-b428-459a-adf3-d1a1e1dc0aa7",
   "metadata": {},
   "outputs": [],
   "source": [
    "function attach_also_watched!(rec_df, allowed_df, medium)\n",
    "    W = read_params_memoized(\"$medium/all/WatchSimilarity\")[\"S\"]\n",
    "    R = read_params_memoized(\"$medium/all/RelatedSeries/similarity_matrix\")[\"S\"]\n",
    "    also_watched = [get_also_watched(W, R, x, allowed_df.uid) for x in rec_df.uid]\n",
    "    links = [get_link(medium, source, x) for x in also_watched]\n",
    "    if medium == \"anime\"\n",
    "        col = :viewers_also_watched\n",
    "    elseif medium == \"manga\"\n",
    "        col = :readers_also_read\n",
    "    else\n",
    "        @assert false\n",
    "    end\n",
    "    rec_df[:, col] = links\n",
    "    rec_df\n",
    "end;"
   ]
  }
 ],
 "metadata": {
  "kernelspec": {
   "display_name": "Julia 1.9.2",
   "language": "julia",
   "name": "julia-1.9"
  },
  "language_info": {
   "file_extension": ".jl",
   "mimetype": "application/julia",
   "name": "julia",
   "version": "1.9.2"
  }
 },
 "nbformat": 4,
 "nbformat_minor": 5
}
