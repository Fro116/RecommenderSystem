{
 "cells": [
  {
   "cell_type": "markdown",
   "id": "94c36253-4400-487f-8d80-7f3ef9d75152",
   "metadata": {
    "editable": true,
    "slideshow": {
     "slide_type": ""
    },
    "tags": []
   },
   "source": [
    "# Steps to generate recommendations\n",
    "1. Run StartDaemons.ipynb to setup the servers\n",
    "2. Put your username and source in the cell below. For example, setting username=\"Fro116\" and source=\"mal\" will generate recommendations for the user \"Fro116\" on the site \"myanimelist.net\"\n",
    "3. Run the script to generate an html page of recommendations"
   ]
  },
  {
   "cell_type": "code",
   "execution_count": null,
   "id": "8bc93667-9b2c-40ce-99d7-3978f2dd7b69",
   "metadata": {
    "editable": true,
    "slideshow": {
     "slide_type": ""
    },
    "tags": [
     "parameters"
    ]
   },
   "outputs": [],
   "source": [
    "username = \"\"\n",
    "source = \"\""
   ]
  },
  {
   "cell_type": "code",
   "execution_count": null,
   "id": "cb3b775c-b28b-4dc9-84c0-7655d63615e8",
   "metadata": {
    "editable": true,
    "slideshow": {
     "slide_type": ""
    },
    "tags": []
   },
   "outputs": [],
   "source": [
    "daemon = True # todo remove\n",
    "sources = [\n",
    "    \"mal\",\n",
    "    \"anilist\",\n",
    "    \"kitsu\",\n",
    "    \"animeplanet\",\n",
    "]"
   ]
  },
  {
   "cell_type": "code",
   "execution_count": null,
   "id": "bf8cd602-524f-4a21-a68a-ccfce7c4fffc",
   "metadata": {
    "editable": true,
    "slideshow": {
     "slide_type": ""
    },
    "tags": []
   },
   "outputs": [],
   "source": [
    "assert username, \"Must provide a username\"\n",
    "assert source in sources, \"Must provide a list source\"\n",
    "if \"@\" in username:\n",
    "    fields = username.split(\"@\")\n",
    "    assert len(fields) == 2 and fields[0] == source"
   ]
  },
  {
   "cell_type": "code",
   "execution_count": null,
   "id": "7df9b9d0-f4e3-4db9-b67d-799c100e8ab9",
   "metadata": {
    "editable": true,
    "slideshow": {
     "slide_type": ""
    },
    "tags": []
   },
   "outputs": [],
   "source": [
    "import logging\n",
    "import os\n",
    "import shutil\n",
    "import subprocess\n",
    "\n",
    "import papermill as pm"
   ]
  },
  {
   "cell_type": "code",
   "execution_count": null,
   "id": "b465a248-834b-4b65-9d07-7d1faa6c01bf",
   "metadata": {
    "editable": true,
    "slideshow": {
     "slide_type": ""
    },
    "tags": []
   },
   "outputs": [],
   "source": [
    "ALL_MEDIUMS = [\"manga\", \"anime\"]"
   ]
  },
  {
   "cell_type": "code",
   "execution_count": null,
   "id": "d39772a7-3577-4f48-8aef-5e5b3905d6e3",
   "metadata": {
    "editable": true,
    "slideshow": {
     "slide_type": ""
    },
    "tags": []
   },
   "outputs": [],
   "source": [
    "logging.disable(logging.ERROR)"
   ]
  },
  {
   "cell_type": "code",
   "execution_count": null,
   "id": "0162aac0-a1a6-4a99-8378-49bdbeb4f158",
   "metadata": {
    "editable": true,
    "slideshow": {
     "slide_type": ""
    },
    "tags": []
   },
   "outputs": [],
   "source": [
    "data_path = os.path.abspath(\"../../data/recommendations\")\n",
    "if not os.path.exists(data_path):\n",
    "    os.mkdir(data_path)\n",
    "if \"@\" in username:\n",
    "    rec_dir = os.path.join(data_path, *username.split(\"@\"))\n",
    "else:\n",
    "    rec_dir = os.path.join(data_path, source, str(username))"
   ]
  },
  {
   "cell_type": "code",
   "execution_count": null,
   "id": "5ca4cb69-0b88-4f13-98f3-6b6582248e8a",
   "metadata": {
    "editable": true,
    "slideshow": {
     "slide_type": ""
    },
    "tags": []
   },
   "outputs": [],
   "source": [
    "def run_julia_script(outdir, name, port, *args):\n",
    "    pwd = os.getcwd()\n",
    "    try:\n",
    "        os.chdir(outdir)\n",
    "        if daemon:\n",
    "            os.system(\n",
    "                f\"julia --startup-file=no -e 'using DaemonMode; runargs({port})' {name} {' '.join(args)}\"\n",
    "            )\n",
    "        else:\n",
    "            os.system(f\"julia {name} {' '.join(args)}\")\n",
    "    finally:\n",
    "        os.chdir(pwd)"
   ]
  },
  {
   "cell_type": "code",
   "execution_count": null,
   "id": "a92245a8-68a8-41d6-a0ba-0b65c5d50eee",
   "metadata": {
    "editable": true,
    "slideshow": {
     "slide_type": ""
    },
    "tags": []
   },
   "outputs": [],
   "source": [
    "def run_python_script(outdir, script, **kwargs):\n",
    "    pwd = os.getcwd()\n",
    "    try:\n",
    "        os.chdir(outdir)\n",
    "        procs = []\n",
    "        for medium in ALL_MEDIUMS:\n",
    "            cmdlist = [\n",
    "                \"papermill\",\n",
    "                script,\n",
    "                \"/dev/null\",\n",
    "                \"-p\",\n",
    "                \"medium\",\n",
    "                medium,\n",
    "            ]\n",
    "            for k, v in kwargs.items():\n",
    "                cmdlist.append(\"-p\")\n",
    "                cmdlist.append(k)\n",
    "                cmdlist.append(v)\n",
    "            procs.append(\n",
    "                subprocess.Popen(\n",
    "                    cmdlist, stdout=subprocess.DEVNULL, stderr=subprocess.STDOUT\n",
    "                )\n",
    "            )\n",
    "        for p in procs:\n",
    "            p.wait()\n",
    "    finally:\n",
    "        os.chdir(pwd)"
   ]
  },
  {
   "cell_type": "markdown",
   "id": "f89d8057-fefa-4c83-97c3-6a8c6214b8c9",
   "metadata": {
    "editable": true,
    "slideshow": {
     "slide_type": ""
    },
    "tags": []
   },
   "source": [
    "## RecIngress"
   ]
  },
  {
   "cell_type": "code",
   "execution_count": null,
   "id": "88de56a9-5909-42ab-bdf7-2dd39f064ee2",
   "metadata": {
    "editable": true,
    "slideshow": {
     "slide_type": ""
    },
    "tags": []
   },
   "outputs": [],
   "source": [
    "if os.path.exists(rec_dir):\n",
    "    shutil.rmtree(rec_dir)"
   ]
  },
  {
   "cell_type": "code",
   "execution_count": null,
   "id": "9f3c4b94-c0a9-49de-a092-02799d7f54c4",
   "metadata": {},
   "outputs": [],
   "source": [
    "%%time\n",
    "procs = []\n",
    "for medium in ALL_MEDIUMS:\n",
    "    port = 3020 + sources.index(source)\n",
    "    cmdlist = [\n",
    "        \"curl\",\n",
    "        f\"http://localhost:{port}/query?username={username}&medium={medium}\",\n",
    "    ]\n",
    "    procs.append(\n",
    "        subprocess.Popen(cmdlist, stdout=subprocess.DEVNULL, stderr=subprocess.STDOUT)\n",
    "    )\n",
    "    for p in procs:\n",
    "        p.wait()"
   ]
  },
  {
   "cell_type": "code",
   "execution_count": null,
   "id": "cb9f0f2c-0436-4d01-b737-b60b14983e66",
   "metadata": {
    "editable": true,
    "slideshow": {
     "slide_type": ""
    },
    "tags": []
   },
   "outputs": [],
   "source": [
    "original_source = source\n",
    "username = str(username)\n",
    "if \"@\" in username:\n",
    "    username = username.split(\"@\")[1]"
   ]
  },
  {
   "cell_type": "markdown",
   "id": "fb225f59-603b-472c-bc58-fb3ff9aa140e",
   "metadata": {
    "editable": true,
    "slideshow": {
     "slide_type": ""
    },
    "tags": []
   },
   "source": [
    "## RecEgress"
   ]
  },
  {
   "cell_type": "code",
   "execution_count": null,
   "id": "9c921527-2f99-4289-a20f-fc5d2f5a6fad",
   "metadata": {
    "editable": true,
    "slideshow": {
     "slide_type": ""
    },
    "tags": []
   },
   "outputs": [],
   "source": [
    "%%time\n",
    "run_julia_script(\n",
    "    \"../InferenceAlphas\", \"RunAllScripts.jl\", 3000, username, source, str(daemon)\n",
    ")"
   ]
  },
  {
   "cell_type": "code",
   "execution_count": null,
   "id": "5e8f4946-dd9e-42c9-9604-ba2732f57c65",
   "metadata": {
    "editable": true,
    "slideshow": {
     "slide_type": ""
    },
    "tags": []
   },
   "outputs": [],
   "source": [
    "%%time\n",
    "run_julia_script(\"Recommendations\", \"Recommendations.jl\", 3007, username, source)"
   ]
  },
  {
   "cell_type": "code",
   "execution_count": null,
   "id": "4aa26353-74b5-43d8-b7f6-41ea5f8df1a2",
   "metadata": {
    "editable": true,
    "slideshow": {
     "slide_type": ""
    },
    "tags": []
   },
   "outputs": [],
   "source": [
    "def runcmd(cmdlist):\n",
    "    subprocess.Popen(\n",
    "        cmdlist, stdout=subprocess.DEVNULL, stderr=subprocess.STDOUT\n",
    "    ).wait()\n",
    "\n",
    "\n",
    "def export_html(username, source):\n",
    "    pwd = os.getcwd()\n",
    "    try:\n",
    "        os.chdir(\"./Recommendations\")\n",
    "        outfn = os.path.join(rec_dir, \"Recommendations.ipynb\")\n",
    "        runcmd(\n",
    "            [\n",
    "                \"papermill\",\n",
    "                \"Recommendations.ipynb\",\n",
    "                outfn,\n",
    "                \"--prepare-only\",\n",
    "                \"-p\",\n",
    "                \"username\",\n",
    "                username,\n",
    "                \"-p\",\n",
    "                \"source\",\n",
    "                source,\n",
    "            ]\n",
    "        )\n",
    "        runcmd(\n",
    "            [\"jupyter\", \"nbconvert\", \"--to\", \"html\", \"--execute\", \"--no-input\", outfn]\n",
    "        )\n",
    "    finally:\n",
    "        os.chdir(pwd)"
   ]
  },
  {
   "cell_type": "code",
   "execution_count": null,
   "id": "c225c6bc-522c-492f-b658-a8712411e6c6",
   "metadata": {
    "editable": true,
    "slideshow": {
     "slide_type": ""
    },
    "tags": []
   },
   "outputs": [],
   "source": [
    "%%time\n",
    "export_html(username, source)"
   ]
  }
 ],
 "metadata": {
  "kernelspec": {
   "display_name": "Python 3 (ipykernel)",
   "language": "python",
   "name": "python3"
  },
  "language_info": {
   "codemirror_mode": {
    "name": "ipython",
    "version": 3
   },
   "file_extension": ".py",
   "mimetype": "text/x-python",
   "name": "python",
   "nbconvert_exporter": "python",
   "pygments_lexer": "ipython3",
   "version": "3.10.12"
  }
 },
 "nbformat": 4,
 "nbformat_minor": 5
}
