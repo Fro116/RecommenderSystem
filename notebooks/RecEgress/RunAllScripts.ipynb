{
 "cells": [
  {
   "cell_type": "markdown",
   "id": "94c36253-4400-487f-8d80-7f3ef9d75152",
   "metadata": {},
   "source": [
    "# Recommendations\n",
    "* The recommendations for a user will be output as a notebook in \"../../data/recommendations/{username}/rec_egress/{username}.ipynb\""
   ]
  },
  {
   "cell_type": "code",
   "execution_count": null,
   "id": "7df9b9d0-f4e3-4db9-b67d-799c100e8ab9",
   "metadata": {},
   "outputs": [],
   "source": [
    "import os\n",
    "import shutil\n",
    "\n",
    "import papermill as pm"
   ]
  },
  {
   "cell_type": "code",
   "execution_count": null,
   "id": "8bc93667-9b2c-40ce-99d7-3978f2dd7b69",
   "metadata": {
    "tags": [
     "parameters"
    ]
   },
   "outputs": [],
   "source": [
    "username = \"Fro116\" # PLACE THE USER YOU WANT RECOMMENDATIONS FOR HERE\n",
    "source = \"MAL\" # PLACE THE USER'S LIST SOURCE HERE\n",
    "task = \"temporal_causal\"\n",
    "DAEMON_MODE = False"
   ]
  },
  {
   "cell_type": "code",
   "execution_count": null,
   "id": "bf8cd602-524f-4a21-a68a-ccfce7c4fffc",
   "metadata": {},
   "outputs": [],
   "source": [
    "assert username, \"Must provide a username\"\n",
    "assert source in [\"MAL\", \"AniList\", \"Kitsu\", \"Training\"], \"Must provide a source\""
   ]
  },
  {
   "cell_type": "code",
   "execution_count": null,
   "id": "0162aac0-a1a6-4a99-8378-49bdbeb4f158",
   "metadata": {},
   "outputs": [],
   "source": [
    "data_path = os.path.abspath(\"../../data/recommendations\")\n",
    "if not os.path.exists(data_path):\n",
    "    os.mkdir(data_path)\n",
    "rec_dir = os.path.join(data_path, username)\n",
    "papermill_path = os.path.join(rec_dir, \"papermill\")"
   ]
  },
  {
   "cell_type": "code",
   "execution_count": null,
   "id": "dbbc936b-c9cb-40e3-bce3-21a7769c30b7",
   "metadata": {},
   "outputs": [],
   "source": [
    "if DAEMON_MODE:\n",
    "    print(\"Run the following commands to start julia daemons:\")\n",
    "    for i in range(6):\n",
    "        print(f\"julia -e 'using DaemonMode; serve(300{i}, true)' &\")    \n",
    "    julia_args = \"-e 'using DaemonMode; runargs({port})'\"    \n",
    "else:\n",
    "    julia_args = \"\""
   ]
  },
  {
   "cell_type": "code",
   "execution_count": null,
   "id": "3975a1af-a8c0-4b14-8fb1-7f50d7acef04",
   "metadata": {},
   "outputs": [],
   "source": [
    "def run_julia_notebook(name, port, *args):\n",
    "    os.system(f\"julia {julia_args.format(port=port)} {name} {' '.join(args)}\")"
   ]
  },
  {
   "cell_type": "markdown",
   "id": "f89d8057-fefa-4c83-97c3-6a8c6214b8c9",
   "metadata": {},
   "source": [
    "## RecIngress"
   ]
  },
  {
   "cell_type": "code",
   "execution_count": null,
   "id": "4c1ecfbd-cd6f-4f69-8dc9-2f8d4e348821",
   "metadata": {},
   "outputs": [],
   "source": [
    "def run_ingress_notebook(name, output_name=None, **kwargs):\n",
    "    outdir = os.path.join(papermill_path, \"rec_ingress\")\n",
    "    if not os.path.exists(outdir):\n",
    "        os.makedirs(outdir, exist_ok=True)\n",
    "    if output_name is None:\n",
    "        output_name = name\n",
    "    pm.execute_notebook(\n",
    "        f\"../RecIngress/{name}.ipynb\",\n",
    "        f\"{outdir}/{name}.ipynb\",\n",
    "        parameters=dict(username=username, source=source, **kwargs),\n",
    "    )"
   ]
  },
  {
   "cell_type": "code",
   "execution_count": null,
   "id": "3e73a831-33e1-499c-aaea-e6e10ef1c2fa",
   "metadata": {},
   "outputs": [],
   "source": [
    "def run_ingress_julia(name, *args):\n",
    "    cwd = os.getcwd()\n",
    "    os.chdir(\"../RecIngress\")\n",
    "    for folder in name.split(\"/\")[:-1]:\n",
    "        os.chdir(folder)\n",
    "    try:\n",
    "        run_julia_notebook(f\"{name.split('/')[-1]}.jl\", 3000, username, *args)\n",
    "    finally:\n",
    "        os.chdir(cwd)"
   ]
  },
  {
   "cell_type": "code",
   "execution_count": null,
   "id": "88de56a9-5909-42ab-bdf7-2dd39f064ee2",
   "metadata": {},
   "outputs": [],
   "source": [
    "if os.path.exists(rec_dir):\n",
    "    shutil.rmtree(rec_dir)"
   ]
  },
  {
   "cell_type": "code",
   "execution_count": null,
   "id": "7e348a78-03e7-464c-a87a-9fdf6cdb8768",
   "metadata": {},
   "outputs": [],
   "source": [
    "#TODO consolidate papermill startup costs"
   ]
  },
  {
   "cell_type": "code",
   "execution_count": null,
   "id": "d4c66ede-13cd-4a2a-af7f-0345bba6dd9a",
   "metadata": {
    "tags": []
   },
   "outputs": [],
   "source": [
    "run_ingress_notebook(\"FetchMediaLists\", task=task)"
   ]
  },
  {
   "cell_type": "code",
   "execution_count": null,
   "id": "fa6ef61f-0bda-40fe-b5fd-bd7744730a56",
   "metadata": {},
   "outputs": [],
   "source": [
    "for medium in [\"anime\", \"manga\"]:\n",
    "    run_ingress_notebook(\"ImportMediaLists\", f\"Import{medium}Lists\", media=medium)\n",
    "    run_ingress_notebook(\"ProcessMediaLists\", f\"Process{medium}Lists\", media=medium)\n",
    "    run_ingress_notebook(\"RelabelMediaIds\", f\"Relabel{medium}Ids\", media=medium)\n",
    "    run_ingress_notebook(\"GenerateMediaSplits\", f\"Generate{medium}Splits\", media=medium)"
   ]
  },
  {
   "cell_type": "code",
   "execution_count": null,
   "id": "d1ae43bf-9867-4ebf-a907-e2c75cb49c82",
   "metadata": {},
   "outputs": [],
   "source": [
    "run_ingress_julia(\"CompressSplits\")"
   ]
  },
  {
   "cell_type": "markdown",
   "id": "05b76d6b-c0d5-4018-8bd8-c30fd1c52bfe",
   "metadata": {},
   "source": [
    "## InferenceAlphas"
   ]
  },
  {
   "cell_type": "code",
   "execution_count": null,
   "id": "490145b6-d7a3-4971-a871-18e925ae24b3",
   "metadata": {},
   "outputs": [],
   "source": [
    "def run_inference_julia(name, port, *args):\n",
    "    cwd = os.getcwd()\n",
    "    os.chdir(\"../InferenceAlphas\")\n",
    "    for folder in name.split(\"/\")[:-1]:\n",
    "        os.chdir(folder)\n",
    "    try:\n",
    "        run_julia_notebook(f\"{name.split('/')[-1]}.jl\", port, username, *args)\n",
    "    finally:\n",
    "        os.chdir(cwd)"
   ]
  },
  {
   "cell_type": "code",
   "execution_count": null,
   "id": "9c921527-2f99-4289-a20f-fc5d2f5a6fad",
   "metadata": {
    "tags": []
   },
   "outputs": [],
   "source": [
    "run_inference_julia(\"Explicit/Explicit\", 3001)"
   ]
  },
  {
   "cell_type": "code",
   "execution_count": null,
   "id": "94ae8b15-765d-4717-9504-9a5578388990",
   "metadata": {
    "tags": []
   },
   "outputs": [],
   "source": [
    "run_inference_julia(\"Nondirectional/Nondirectional\", 3002)"
   ]
  },
  {
   "cell_type": "code",
   "execution_count": null,
   "id": "e70cb43e-16db-4356-8e74-e0e5ee26df44",
   "metadata": {
    "tags": []
   },
   "outputs": [],
   "source": [
    "run_inference_julia(\"Transformer/Transformer\", 3003)"
   ]
  },
  {
   "cell_type": "code",
   "execution_count": null,
   "id": "6771bf10-3843-445c-bf63-32c517f939c9",
   "metadata": {
    "tags": []
   },
   "outputs": [],
   "source": [
    "run_inference_julia(\"Neural/Neural\", 3004)"
   ]
  },
  {
   "cell_type": "code",
   "execution_count": null,
   "id": "4c2a5bfd-6ffa-46b1-80e9-cc8fddb25314",
   "metadata": {},
   "outputs": [],
   "source": [
    "run_inference_julia(\"Ensemble/Ensemble\", 3005)"
   ]
  },
  {
   "cell_type": "markdown",
   "id": "fb225f59-603b-472c-bc58-fb3ff9aa140e",
   "metadata": {},
   "source": [
    "## RecEgress"
   ]
  },
  {
   "cell_type": "code",
   "execution_count": null,
   "id": "4e3ae6ef-948b-4696-bd6f-6b17419502e1",
   "metadata": {},
   "outputs": [],
   "source": [
    "def run_egress_notebook(name, output_name, **kwargs):\n",
    "    outdir = os.path.join(papermill_path, \"rec_egress\")\n",
    "    if not os.path.exists(outdir):\n",
    "        os.makedirs(outdir, exist_ok=True)    \n",
    "    pm.execute_notebook(\n",
    "        f\"{name}.ipynb\",\n",
    "        f\"{outdir}/{output_name}.ipynb\",\n",
    "        parameters=dict(username=username, **kwargs),\n",
    "    )"
   ]
  },
  {
   "cell_type": "code",
   "execution_count": null,
   "id": "304d0713-3d27-43f7-b9b3-a4b7d0c8a5f7",
   "metadata": {
    "tags": []
   },
   "outputs": [],
   "source": [
    "if source == \"Training\":\n",
    "    for medium in [\"manga\", \"anime\"]:\n",
    "        run_egress_notebook(\n",
    "            f\"TrainingServingSkew\",\n",
    "            f\"{medium.capitalize()}TrainingServingSkew\",\n",
    "            task=task,\n",
    "            medium=medium,\n",
    "        )\n",
    "else:\n",
    "    run_egress_notebook(\"Recommendations\", username, source=source)"
   ]
  },
  {
   "cell_type": "code",
   "execution_count": null,
   "id": "f7cd304b-1d38-442c-86c8-fd54301afe05",
   "metadata": {},
   "outputs": [],
   "source": [
    "print(\"Success!\")"
   ]
  }
 ],
 "metadata": {
  "kernelspec": {
   "display_name": "Python 3 (ipykernel)",
   "language": "python",
   "name": "python3"
  },
  "language_info": {
   "codemirror_mode": {
    "name": "ipython",
    "version": 3
   },
   "file_extension": ".py",
   "mimetype": "text/x-python",
   "name": "python",
   "nbconvert_exporter": "python",
   "pygments_lexer": "ipython3",
   "version": "3.10.12"
  }
 },
 "nbformat": 4,
 "nbformat_minor": 5
}
