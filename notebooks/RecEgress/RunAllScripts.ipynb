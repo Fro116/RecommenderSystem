{
 "cells": [
  {
   "cell_type": "code",
   "execution_count": null,
   "id": "7df9b9d0-f4e3-4db9-b67d-799c100e8ab9",
   "metadata": {},
   "outputs": [],
   "source": [
    "import os\n",
    "\n",
    "import papermill as pm"
   ]
  },
  {
   "cell_type": "code",
   "execution_count": null,
   "id": "0b374919-3fda-4225-a92f-bd831083fdd2",
   "metadata": {
    "tags": [
     "parameters"
    ]
   },
   "outputs": [],
   "source": [
    "# username = \"Fro116\"\n",
    "# source = \"MAL\"\n",
    "username = \"10\"\n",
    "source = \"Training\""
   ]
  },
  {
   "cell_type": "code",
   "execution_count": null,
   "id": "0162aac0-a1a6-4a99-8378-49bdbeb4f158",
   "metadata": {},
   "outputs": [],
   "source": [
    "data_path = \"../../data/recommendations\"\n",
    "if not os.path.exists(data_path):\n",
    "    os.mkdir(data_path)"
   ]
  },
  {
   "cell_type": "code",
   "execution_count": null,
   "id": "3576c416-5c63-4af1-b842-49583685ceac",
   "metadata": {},
   "outputs": [],
   "source": [
    "papermill_path = f\"../../data/recommendations/{username}/papermill/\""
   ]
  },
  {
   "cell_type": "code",
   "execution_count": null,
   "id": "4c1ecfbd-cd6f-4f69-8dc9-2f8d4e348821",
   "metadata": {},
   "outputs": [],
   "source": [
    "def run_ingress_notebook(name):\n",
    "    outdir = os.path.join(papermill_path, \"rec_egress\")\n",
    "    if not os.path.exists(outdir):\n",
    "        os.makedirs(outdir, exist_ok=True)\n",
    "    pm.execute_notebook(\n",
    "        f\"../RecIngress/{name}.ipynb\",\n",
    "        f\"{outdir}/{name}.ipynb\",\n",
    "        parameters=dict(username=username, source=source),\n",
    "    )"
   ]
  },
  {
   "cell_type": "markdown",
   "id": "8f89edb6-79a0-4144-b3d4-7be9e7b05962",
   "metadata": {},
   "source": [
    "## RecIngress"
   ]
  },
  {
   "cell_type": "code",
   "execution_count": null,
   "id": "57946395-ecb9-4ec9-a228-ae9f5bc69e9f",
   "metadata": {
    "tags": []
   },
   "outputs": [],
   "source": [
    "run_ingress_notebook(\"InitializeRecommendations\")"
   ]
  },
  {
   "cell_type": "code",
   "execution_count": null,
   "id": "68968c69-4e43-4873-bb13-f741290b99cc",
   "metadata": {},
   "outputs": [],
   "source": [
    "run_ingress_notebook(\"FetchUserAnimeList\")"
   ]
  },
  {
   "cell_type": "code",
   "execution_count": null,
   "id": "a096b51e-4086-4b89-8815-a10b073767c5",
   "metadata": {},
   "outputs": [],
   "source": [
    "run_ingress_notebook(\"ImportUserAnimeList\")"
   ]
  },
  {
   "cell_type": "code",
   "execution_count": null,
   "id": "574e57d8-80f7-4b60-b38b-a56ee348ae38",
   "metadata": {},
   "outputs": [],
   "source": [
    "run_ingress_notebook(\"ProcessUserAnimeList\")"
   ]
  },
  {
   "cell_type": "code",
   "execution_count": null,
   "id": "237ec333-ae1c-4873-add8-2ad4938d4d64",
   "metadata": {},
   "outputs": [],
   "source": [
    "run_ingress_notebook(\"GenerateSplits\")"
   ]
  },
  {
   "cell_type": "code",
   "execution_count": null,
   "id": "3dd73a06-6791-477b-af82-08c1a53af476",
   "metadata": {},
   "outputs": [],
   "source": [
    "run_ingress_notebook(\"CompressUserAnimeList\")"
   ]
  },
  {
   "cell_type": "markdown",
   "id": "53261e6d-1c51-4c39-a2e4-233f9ffb5c05",
   "metadata": {},
   "source": [
    "## RecEgress"
   ]
  },
  {
   "cell_type": "code",
   "execution_count": null,
   "id": "188d680d-9b14-472a-a0f2-f7054c1de5af",
   "metadata": {},
   "outputs": [],
   "source": [
    "def run_inference_notebook(name):\n",
    "    cwd = os.getcwd()\n",
    "    fields = name.split(\"/\")\n",
    "    outdir = os.path.abspath(\n",
    "        os.path.join(papermill_path, \"inference_alphas\", \"/\".join(fields[:-1]).lower())\n",
    "    )\n",
    "    if not os.path.exists(outdir):\n",
    "        os.makedirs(outdir, exist_ok=True)\n",
    "    try:\n",
    "        os.chdir(\"../InferenceAlphas\")\n",
    "        for subdir in fields[:-1]:\n",
    "            os.chdir(subdir)\n",
    "        pm.execute_notebook(\n",
    "            f\"{fields[-1]}.ipynb\",\n",
    "            os.path.join(outdir, f\"{fields[-1]}.ipynb\"),\n",
    "            parameters=dict(username=username, outdir=outdir),\n",
    "        )\n",
    "    finally:\n",
    "        os.chdir(cwd)"
   ]
  },
  {
   "cell_type": "code",
   "execution_count": null,
   "id": "dee8c1ad-a1b9-4fe2-bfd4-72effc3b27b9",
   "metadata": {},
   "outputs": [],
   "source": [
    "run_inference_notebook(\"ResetAlphas\")"
   ]
  },
  {
   "cell_type": "code",
   "execution_count": null,
   "id": "71e717f8-89f3-4790-b6d1-54d815f8aa03",
   "metadata": {},
   "outputs": [],
   "source": [
    "run_inference_notebook(\"Nondirectional/RunAllScripts\")"
   ]
  },
  {
   "cell_type": "code",
   "execution_count": null,
   "id": "a80f4826-9b0d-486b-9ba8-e9e2afb6c0d6",
   "metadata": {},
   "outputs": [],
   "source": [
    "run_inference_notebook(\"Explicit/RunAllScripts\")"
   ]
  },
  {
   "cell_type": "code",
   "execution_count": null,
   "id": "2ef6c613-9326-4b3c-94ab-cef21792cc99",
   "metadata": {},
   "outputs": [],
   "source": [
    "run_inference_notebook(\"Neural/RunAllScripts\")"
   ]
  },
  {
   "cell_type": "code",
   "execution_count": null,
   "id": "cbb65b71-4e87-449d-ba09-8b779107351b",
   "metadata": {},
   "outputs": [],
   "source": [
    "# cwd = os.getcwd()\n",
    "# try:\n",
    "#     os.chdir(\"../InferenceAlphas\")\n",
    "#     pm.execute_notebook(\n",
    "#         \"RunAllAlphas.ipynb\",\n",
    "#         f\"{data_path}/RunAllAlphas.ipynb\",\n",
    "#         parameters=dict(username=username),\n",
    "#     )\n",
    "#     os.chdir(\"../DisplayRecs\")\n",
    "#     if source == \"Training\":\n",
    "#         pm.execute_notebook(\n",
    "#             \"TrainingServingSkew.ipynb\",\n",
    "#             f\"{data_path}/TrainingServingSkew.ipynb\",\n",
    "#             parameters=dict(username=username),\n",
    "#         )\n",
    "#     else:\n",
    "#         pm.execute_notebook(\n",
    "#             \"Recommendations.ipynb\",\n",
    "#             f\"{data_path}/{username}/Recommendations.ipynb\",\n",
    "#             parameters=dict(username=username),\n",
    "#         )\n",
    "# finally:\n",
    "#     os.chdir(cwd)"
   ]
  },
  {
   "cell_type": "code",
   "execution_count": null,
   "id": "f7cd304b-1d38-442c-86c8-fd54301afe05",
   "metadata": {},
   "outputs": [],
   "source": [
    "print(\"Success!\")"
   ]
  },
  {
   "cell_type": "code",
   "execution_count": null,
   "id": "fe49d48b-7c00-434b-9f07-75549573b71a",
   "metadata": {},
   "outputs": [],
   "source": []
  }
 ],
 "metadata": {
  "kernelspec": {
   "display_name": "Python 3 (ipykernel)",
   "language": "python",
   "name": "python3"
  },
  "language_info": {
   "codemirror_mode": {
    "name": "ipython",
    "version": 3
   },
   "file_extension": ".py",
   "mimetype": "text/x-python",
   "name": "python",
   "nbconvert_exporter": "python",
   "pygments_lexer": "ipython3",
   "version": "3.10.4"
  }
 },
 "nbformat": 4,
 "nbformat_minor": 5
}
