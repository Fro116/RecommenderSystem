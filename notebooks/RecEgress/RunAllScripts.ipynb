{
 "cells": [
  {
   "cell_type": "code",
   "execution_count": null,
   "id": "7df9b9d0-f4e3-4db9-b67d-799c100e8ab9",
   "metadata": {},
   "outputs": [],
   "source": [
    "import os\n",
    "import shutil\n",
    "\n",
    "import papermill as pm"
   ]
  },
  {
   "cell_type": "code",
   "execution_count": null,
   "id": "0b374919-3fda-4225-a92f-bd831083fdd2",
   "metadata": {
    "tags": [
     "parameters"
    ]
   },
   "outputs": [],
   "source": [
    "username = \"Fro116\"\n",
    "source = \"MAL\"\n",
    "# username = \"33\"\n",
    "# source = \"Training\""
   ]
  },
  {
   "cell_type": "code",
   "execution_count": null,
   "id": "0162aac0-a1a6-4a99-8378-49bdbeb4f158",
   "metadata": {},
   "outputs": [],
   "source": [
    "data_path = os.path.abspath(\"../../data/recommendations\")\n",
    "if not os.path.exists(data_path):\n",
    "    os.mkdir(data_path)\n",
    "rec_dir = os.path.join(data_path, username)\n",
    "papermill_path = os.path.join(rec_dir, \"papermill\")"
   ]
  },
  {
   "cell_type": "markdown",
   "id": "f89d8057-fefa-4c83-97c3-6a8c6214b8c9",
   "metadata": {},
   "source": [
    "## RecIngress"
   ]
  },
  {
   "cell_type": "code",
   "execution_count": null,
   "id": "4c1ecfbd-cd6f-4f69-8dc9-2f8d4e348821",
   "metadata": {},
   "outputs": [],
   "source": [
    "def run_ingress_notebook(name):\n",
    "    outdir = os.path.join(papermill_path, \"rec_ingress\")\n",
    "    if not os.path.exists(outdir):\n",
    "        os.makedirs(outdir, exist_ok=True)\n",
    "    pm.execute_notebook(\n",
    "        f\"../RecIngress/{name}.ipynb\",\n",
    "        f\"{outdir}/{name}.ipynb\",\n",
    "        parameters=dict(username=username, source=source),\n",
    "    )"
   ]
  },
  {
   "cell_type": "code",
   "execution_count": null,
   "id": "88de56a9-5909-42ab-bdf7-2dd39f064ee2",
   "metadata": {},
   "outputs": [],
   "source": [
    "if os.path.exists(rec_dir):\n",
    "    shutil.rmtree(rec_dir)"
   ]
  },
  {
   "cell_type": "code",
   "execution_count": null,
   "id": "d4c66ede-13cd-4a2a-af7f-0345bba6dd9a",
   "metadata": {
    "tags": []
   },
   "outputs": [],
   "source": [
    "run_ingress_notebook(\"FetchAnimeLists\")"
   ]
  },
  {
   "cell_type": "code",
   "execution_count": null,
   "id": "fa6ef61f-0bda-40fe-b5fd-bd7744730a56",
   "metadata": {},
   "outputs": [],
   "source": [
    "run_ingress_notebook(\"ImportAnimeLists\")"
   ]
  },
  {
   "cell_type": "code",
   "execution_count": null,
   "id": "51158cff-0d75-4b33-83bf-a38b77989fde",
   "metadata": {},
   "outputs": [],
   "source": [
    "run_ingress_notebook(\"ProcessAnimeLists\")"
   ]
  },
  {
   "cell_type": "code",
   "execution_count": null,
   "id": "ce1df74e-d7cf-4ce8-b49d-d505ffe021b7",
   "metadata": {},
   "outputs": [],
   "source": [
    "run_ingress_notebook(\"RelabelIds\")"
   ]
  },
  {
   "cell_type": "code",
   "execution_count": null,
   "id": "e661943e-b298-4d87-9de5-fac72f103e84",
   "metadata": {
    "tags": []
   },
   "outputs": [],
   "source": [
    "run_ingress_notebook(\"GenerateSplits\")"
   ]
  },
  {
   "cell_type": "code",
   "execution_count": null,
   "id": "a431e557-a09f-403d-88a8-7c3a06af52c1",
   "metadata": {},
   "outputs": [],
   "source": [
    "run_ingress_notebook(\"CompressSplits\")"
   ]
  },
  {
   "cell_type": "markdown",
   "id": "05b76d6b-c0d5-4018-8bd8-c30fd1c52bfe",
   "metadata": {},
   "source": [
    "## InferenceAlphas"
   ]
  },
  {
   "cell_type": "code",
   "execution_count": null,
   "id": "605e4584-30d4-442c-a5a8-12c268ca076a",
   "metadata": {},
   "outputs": [],
   "source": [
    "def run_inference_alphas_notebook(name):\n",
    "    cwd = os.getcwd()\n",
    "    os.chdir(\"../InferenceAlphas\")\n",
    "    for folder in name.split(\"/\")[:-1]:\n",
    "        os.chdir(folder)\n",
    "    try:\n",
    "        outdir = os.path.join(papermill_path, \"inference_alphas\")\n",
    "        for folder in name.split(\"/\")[:-1]:\n",
    "            outdir = os.path.join(outdir, folder.lower())\n",
    "        basename = name.split(\"/\")[-1]\n",
    "        if not os.path.exists(outdir):\n",
    "            os.makedirs(outdir, exist_ok=True)\n",
    "        pm.execute_notebook(\n",
    "            f\"{basename}.ipynb\",\n",
    "            f\"{outdir}/{basename}.ipynb\",\n",
    "            parameters=dict(username=username, source=source, outdir=outdir),\n",
    "        )\n",
    "    finally:\n",
    "        os.chdir(cwd)"
   ]
  },
  {
   "cell_type": "code",
   "execution_count": null,
   "id": "795fd9e9-1b2a-45c2-aba8-5703d6a47684",
   "metadata": {},
   "outputs": [],
   "source": [
    "run_inference_alphas_notebook(\"ResetAlphas\")"
   ]
  },
  {
   "cell_type": "code",
   "execution_count": null,
   "id": "e362c755-f4c7-40bc-a1f9-069eaaf8b19d",
   "metadata": {},
   "outputs": [],
   "source": [
    "run_inference_alphas_notebook(\"Simple/RunAllScripts\")"
   ]
  },
  {
   "cell_type": "code",
   "execution_count": null,
   "id": "c4676376-27c5-4dc9-9ac0-91ebb4248cec",
   "metadata": {},
   "outputs": [],
   "source": [
    "run_inference_alphas_notebook(\"Explicit/RunAllScripts\")"
   ]
  },
  {
   "cell_type": "code",
   "execution_count": null,
   "id": "f61f3d72-871b-498b-bd51-ec760ca56ede",
   "metadata": {},
   "outputs": [],
   "source": [
    "run_inference_alphas_notebook(\"Nondirectional/RunAllScripts\")"
   ]
  },
  {
   "cell_type": "code",
   "execution_count": null,
   "id": "d2d64c9e-e0ca-4f10-b3d3-052f034823ae",
   "metadata": {},
   "outputs": [],
   "source": [
    "run_inference_alphas_notebook(\"Neural/RunAllScripts\")"
   ]
  },
  {
   "cell_type": "code",
   "execution_count": null,
   "id": "76cb5b5b-7439-4607-a4bb-36f53d7666be",
   "metadata": {},
   "outputs": [],
   "source": [
    "run_inference_alphas_notebook(\"Ensemble/RunAllScripts\")"
   ]
  },
  {
   "cell_type": "markdown",
   "id": "fb225f59-603b-472c-bc58-fb3ff9aa140e",
   "metadata": {},
   "source": [
    "## RecEgress"
   ]
  },
  {
   "cell_type": "code",
   "execution_count": null,
   "id": "4e3ae6ef-948b-4696-bd6f-6b17419502e1",
   "metadata": {},
   "outputs": [],
   "source": [
    "def run_egress_notebook(name):\n",
    "    outdir = os.path.join(papermill_path, \"rec_egress\")\n",
    "    if not os.path.exists(outdir):\n",
    "        os.makedirs(outdir, exist_ok=True)\n",
    "    pm.execute_notebook(\n",
    "        f\"{name}.ipynb\",\n",
    "        f\"{outdir}/{name}.ipynb\",\n",
    "        parameters=dict(username=username, source=source),\n",
    "    )"
   ]
  },
  {
   "cell_type": "code",
   "execution_count": null,
   "id": "304d0713-3d27-43f7-b9b3-a4b7d0c8a5f7",
   "metadata": {},
   "outputs": [],
   "source": [
    "if source == \"Training\":\n",
    "    run_egress_notebook(\"TrainingServingSkew\")\n",
    "else:\n",
    "    run_egress_notebook(\"Recommendations\")"
   ]
  },
  {
   "cell_type": "code",
   "execution_count": null,
   "id": "f7cd304b-1d38-442c-86c8-fd54301afe05",
   "metadata": {},
   "outputs": [],
   "source": [
    "print(\"Success!\")"
   ]
  }
 ],
 "metadata": {
  "kernelspec": {
   "display_name": "Python 3 (ipykernel)",
   "language": "python",
   "name": "python3"
  },
  "language_info": {
   "codemirror_mode": {
    "name": "ipython",
    "version": 3
   },
   "file_extension": ".py",
   "mimetype": "text/x-python",
   "name": "python",
   "nbconvert_exporter": "python",
   "pygments_lexer": "ipython3",
   "version": "3.10.6"
  }
 },
 "nbformat": 4,
 "nbformat_minor": 5
}
