{
 "cells": [
  {
   "cell_type": "code",
   "execution_count": 1,
   "id": "7df9b9d0-f4e3-4db9-b67d-799c100e8ab9",
   "metadata": {},
   "outputs": [],
   "source": [
    "import os\n",
    "\n",
    "import papermill as pm"
   ]
  },
  {
   "cell_type": "code",
   "execution_count": 2,
   "id": "0b374919-3fda-4225-a92f-bd831083fdd2",
   "metadata": {
    "tags": [
     "parameters"
    ]
   },
   "outputs": [],
   "source": [
    "username = \"\"\n",
    "source = \"\""
   ]
  },
  {
   "cell_type": "code",
   "execution_count": 3,
   "id": "dec52e3e-03b8-43d5-911e-03d4d290f711",
   "metadata": {
    "tags": [
     "parameters"
    ]
   },
   "outputs": [],
   "source": [
    "username = \"Fro116\"\n",
    "source = \"MAL\"\n",
    "# username = \"4209276\"\n",
    "# source = \"Training\""
   ]
  },
  {
   "cell_type": "code",
   "execution_count": 4,
   "id": "0162aac0-a1a6-4a99-8378-49bdbeb4f158",
   "metadata": {},
   "outputs": [],
   "source": [
    "data_path = \"../../data/recommendations\"\n",
    "if not os.path.exists(data_path):\n",
    "    os.mkdir(data_path)"
   ]
  },
  {
   "cell_type": "code",
   "execution_count": 5,
   "id": "3576c416-5c63-4af1-b842-49583685ceac",
   "metadata": {},
   "outputs": [],
   "source": [
    "papermill_path = f\"../../data/recommendations/{username}/papermill/\""
   ]
  },
  {
   "cell_type": "code",
   "execution_count": 6,
   "id": "4c1ecfbd-cd6f-4f69-8dc9-2f8d4e348821",
   "metadata": {},
   "outputs": [],
   "source": [
    "def run_ingress_notebook(name):\n",
    "    outdir = os.path.join(papermill_path, \"rec_ingress\")\n",
    "    if not os.path.exists(outdir):\n",
    "        os.makedirs(outdir, exist_ok=True)\n",
    "    pm.execute_notebook(\n",
    "        f\"../RecIngress/{name}.ipynb\",\n",
    "        f\"{outdir}/{name}.ipynb\",\n",
    "        parameters=dict(username=username, source=source),\n",
    "    )"
   ]
  },
  {
   "cell_type": "markdown",
   "id": "fb225f59-603b-472c-bc58-fb3ff9aa140e",
   "metadata": {},
   "source": [
    "## RecEgress"
   ]
  },
  {
   "cell_type": "code",
   "execution_count": 20,
   "id": "4e3ae6ef-948b-4696-bd6f-6b17419502e1",
   "metadata": {},
   "outputs": [],
   "source": [
    "def run_egress_notebook(name):\n",
    "    outdir = os.path.join(papermill_path, \"rec_egress\")\n",
    "    if not os.path.exists(outdir):\n",
    "        os.makedirs(outdir, exist_ok=True)\n",
    "    pm.execute_notebook(\n",
    "        f\"{name}.ipynb\",\n",
    "        f\"{outdir}/{name}.ipynb\",\n",
    "        parameters=dict(username=username),\n",
    "    )"
   ]
  },
  {
   "cell_type": "code",
   "execution_count": 8,
   "id": "304d0713-3d27-43f7-b9b3-a4b7d0c8a5f7",
   "metadata": {},
   "outputs": [
    {
     "name": "stderr",
     "output_type": "stream",
     "text": [
      "Input notebook does not contain a cell with tag 'parameters'\n"
     ]
    },
    {
     "data": {
      "application/vnd.jupyter.widget-view+json": {
       "model_id": "cf182445139045eaba5848361873c11d",
       "version_major": 2,
       "version_minor": 0
      },
      "text/plain": [
       "Executing:   0%|          | 0/14 [00:00<?, ?cell/s]"
      ]
     },
     "metadata": {},
     "output_type": "display_data"
    },
    {
     "name": "stdout",
     "output_type": "stream",
     "text": [
      "Starting kernel event loops.\n"
     ]
    }
   ],
   "source": [
    "if source == \"Training\":\n",
    "    run_egress_notebook(\"TrainingServingSkew\")\n",
    "else:\n",
    "    run_egress_notebook(\"Recommendations\")    "
   ]
  },
  {
   "cell_type": "code",
   "execution_count": 9,
   "id": "f7cd304b-1d38-442c-86c8-fd54301afe05",
   "metadata": {},
   "outputs": [
    {
     "name": "stdout",
     "output_type": "stream",
     "text": [
      "Success!\n"
     ]
    }
   ],
   "source": [
    "print(\"Success!\")"
   ]
  }
 ],
 "metadata": {
  "kernelspec": {
   "display_name": "Python 3 (ipykernel)",
   "language": "python",
   "name": "python3"
  },
  "language_info": {
   "codemirror_mode": {
    "name": "ipython",
    "version": 3
   },
   "file_extension": ".py",
   "mimetype": "text/x-python",
   "name": "python",
   "nbconvert_exporter": "python",
   "pygments_lexer": "ipython3",
   "version": "3.10.4"
  }
 },
 "nbformat": 4,
 "nbformat_minor": 5
}
