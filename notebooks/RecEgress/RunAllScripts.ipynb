{
 "cells": [
  {
   "cell_type": "markdown",
   "id": "94c36253-4400-487f-8d80-7f3ef9d75152",
   "metadata": {},
   "source": [
    "# Steps to generate recommendations\n",
    "1. Put your username and source in the cell below. For example, setting username=\"Fro116\" and source=\"mal\" will generate recommendations for the user \"Fro116\" on the site \"myanimelist.net\"\n",
    "2. Run the script to generate a notebook of recommendations\n",
    "3. View the recs by opening the notebook at the given path"
   ]
  },
  {
   "cell_type": "code",
   "execution_count": null,
   "id": "8bc93667-9b2c-40ce-99d7-3978f2dd7b69",
   "metadata": {
    "editable": true,
    "slideshow": {
     "slide_type": ""
    },
    "tags": [
     "parameters"
    ]
   },
   "outputs": [],
   "source": [
    "username = \"\"\n",
    "source = \"\""
   ]
  },
  {
   "cell_type": "code",
   "execution_count": null,
   "id": "bf8cd602-524f-4a21-a68a-ccfce7c4fffc",
   "metadata": {},
   "outputs": [],
   "source": [
    "assert username, \"Must provide a username\"\n",
    "assert source in [\n",
    "    \"mal\",\n",
    "    \"anilist\",\n",
    "    \"kitsu\",\n",
    "    \"animeplanet\",\n",
    "    \"training\",\n",
    "], \"Must provide a list source\""
   ]
  },
  {
   "cell_type": "code",
   "execution_count": null,
   "id": "7df9b9d0-f4e3-4db9-b67d-799c100e8ab9",
   "metadata": {},
   "outputs": [],
   "source": [
    "import os\n",
    "import shutil\n",
    "import subprocess\n",
    "\n",
    "import papermill as pm"
   ]
  },
  {
   "cell_type": "code",
   "execution_count": null,
   "id": "b465a248-834b-4b65-9d07-7d1faa6c01bf",
   "metadata": {},
   "outputs": [],
   "source": [
    "ALL_MEDIUMS = [\"manga\", \"anime\"]"
   ]
  },
  {
   "cell_type": "code",
   "execution_count": null,
   "id": "0162aac0-a1a6-4a99-8378-49bdbeb4f158",
   "metadata": {},
   "outputs": [],
   "source": [
    "data_path = os.path.abspath(\"../../data/recommendations\")\n",
    "if not os.path.exists(data_path):\n",
    "    os.mkdir(data_path)\n",
    "if source == \"training\":\n",
    "    rec_dir = os.path.join(data_path, username.split(\"@\")[0], username.split(\"@\")[1])\n",
    "    papermill_path = os.path.join(rec_dir, \"papermill\")\n",
    "else:\n",
    "    rec_dir = os.path.join(data_path, source, str(username))\n",
    "    papermill_path = os.path.join(rec_dir, \"papermill\", source)"
   ]
  },
  {
   "cell_type": "code",
   "execution_count": null,
   "id": "3975a1af-a8c0-4b14-8fb1-7f50d7acef04",
   "metadata": {},
   "outputs": [],
   "source": [
    "def run_julia_notebook(name, *args):\n",
    "    os.system(f\"julia {name} {' '.join(args)}\")"
   ]
  },
  {
   "cell_type": "markdown",
   "id": "f89d8057-fefa-4c83-97c3-6a8c6214b8c9",
   "metadata": {},
   "source": [
    "## RecIngress"
   ]
  },
  {
   "cell_type": "code",
   "execution_count": null,
   "id": "4c1ecfbd-cd6f-4f69-8dc9-2f8d4e348821",
   "metadata": {},
   "outputs": [],
   "source": [
    "def run_ingress_notebook(name, output_name=None, **kwargs):\n",
    "    outdir = os.path.join(papermill_path, \"rec_ingress\")\n",
    "    if not os.path.exists(outdir):\n",
    "        os.makedirs(outdir, exist_ok=True)\n",
    "    if output_name is None:\n",
    "        output_name = name\n",
    "    pm.execute_notebook(\n",
    "        f\"../RecIngress/{name}.ipynb\",\n",
    "        f\"{outdir}/{name}.ipynb\",\n",
    "        parameters=dict(username=username, source=source, **kwargs),\n",
    "    )"
   ]
  },
  {
   "cell_type": "code",
   "execution_count": null,
   "id": "3e73a831-33e1-499c-aaea-e6e10ef1c2fa",
   "metadata": {},
   "outputs": [],
   "source": [
    "def run_ingress_julia(name, *args):\n",
    "    cwd = os.getcwd()\n",
    "    os.chdir(\"../RecIngress\")\n",
    "    for folder in name.split(\"/\")[:-1]:\n",
    "        os.chdir(folder)\n",
    "    try:\n",
    "        run_julia_notebook(f\"{name.split('/')[-1]}.jl\", username, source, *args)\n",
    "    finally:\n",
    "        os.chdir(cwd)"
   ]
  },
  {
   "cell_type": "code",
   "execution_count": null,
   "id": "88de56a9-5909-42ab-bdf7-2dd39f064ee2",
   "metadata": {},
   "outputs": [],
   "source": [
    "if os.path.exists(rec_dir):\n",
    "    shutil.rmtree(rec_dir)"
   ]
  },
  {
   "cell_type": "code",
   "execution_count": null,
   "id": "d4c66ede-13cd-4a2a-af7f-0345bba6dd9a",
   "metadata": {
    "tags": []
   },
   "outputs": [],
   "source": [
    "%%time\n",
    "run_ingress_notebook(\"FetchMediaLists\")\n",
    "original_source = source\n",
    "username = str(username)\n",
    "if source == \"training\":\n",
    "    source, username = username.split(\"@\")"
   ]
  },
  {
   "cell_type": "code",
   "execution_count": null,
   "id": "fa6ef61f-0bda-40fe-b5fd-bd7744730a56",
   "metadata": {},
   "outputs": [],
   "source": [
    "%%time\n",
    "# TODO consolidate papermill startup costs\n",
    "for medium in ALL_MEDIUMS:\n",
    "    run_ingress_notebook(\"ImportMediaLists\", f\"Import{medium}Lists\", media=medium)\n",
    "    run_ingress_notebook(\"ProcessMediaLists\", f\"Process{medium}Lists\", media=medium)\n",
    "    run_ingress_notebook(\"GenerateMediaSplits\", f\"Generate{medium}Splits\", media=medium)\n",
    "temp_fn = \"../ImportDatasets/gpu.lock\"\n",
    "if os.path.exists(temp_fn):\n",
    "    os.remove(temp_fn)"
   ]
  },
  {
   "cell_type": "code",
   "execution_count": null,
   "id": "d1ae43bf-9867-4ebf-a907-e2c75cb49c82",
   "metadata": {},
   "outputs": [],
   "source": [
    "%%time\n",
    "run_ingress_julia(\"CompressSplits\")"
   ]
  },
  {
   "cell_type": "markdown",
   "id": "05b76d6b-c0d5-4018-8bd8-c30fd1c52bfe",
   "metadata": {},
   "source": [
    "## InferenceAlphas"
   ]
  },
  {
   "cell_type": "code",
   "execution_count": null,
   "id": "490145b6-d7a3-4971-a871-18e925ae24b3",
   "metadata": {},
   "outputs": [],
   "source": [
    "def run_inference_julia(name, *args):\n",
    "    cwd = os.getcwd()\n",
    "    os.chdir(\"../InferenceAlphas\")\n",
    "    for folder in name.split(\"/\")[:-1]:\n",
    "        os.chdir(folder)\n",
    "    try:\n",
    "        run_julia_notebook(f\"{name.split('/')[-1]}.jl\", username, source)\n",
    "    finally:\n",
    "        os.chdir(cwd)"
   ]
  },
  {
   "cell_type": "code",
   "execution_count": null,
   "id": "9c921527-2f99-4289-a20f-fc5d2f5a6fad",
   "metadata": {
    "tags": []
   },
   "outputs": [],
   "source": [
    "%%time\n",
    "run_inference_julia(\"Baseline/Baseline\")\n",
    "run_inference_julia(\"Nondirectional/Nondirectional\")\n",
    "run_inference_julia(\"Transformer/Transformer\")\n",
    "run_inference_julia(\"BagOfWords/BagOfWords\")\n",
    "run_inference_julia(\"Ensemble/Ensemble\")"
   ]
  },
  {
   "cell_type": "markdown",
   "id": "fb225f59-603b-472c-bc58-fb3ff9aa140e",
   "metadata": {},
   "source": [
    "## RecEgress"
   ]
  },
  {
   "cell_type": "code",
   "execution_count": null,
   "id": "4e3ae6ef-948b-4696-bd6f-6b17419502e1",
   "metadata": {
    "editable": true,
    "slideshow": {
     "slide_type": ""
    },
    "tags": []
   },
   "outputs": [],
   "source": [
    "def run_egress_notebook(name, output_name, **kwargs):\n",
    "    outdir = os.path.join(papermill_path, \"rec_egress\")\n",
    "    if not os.path.exists(outdir):\n",
    "        os.makedirs(outdir, exist_ok=True)\n",
    "    cwd = os.getcwd()\n",
    "    os.chdir(os.path.dirname(name))\n",
    "    try:\n",
    "        pm.execute_notebook(\n",
    "            f\"{os.path.basename(name)}.ipynb\",\n",
    "            f\"{outdir}/{output_name}.ipynb\",\n",
    "            parameters=dict(\n",
    "                username=username,\n",
    "                source=source,\n",
    "                supress_injected_params=None,\n",
    "                **kwargs,\n",
    "            ),\n",
    "        )\n",
    "        subprocess.run(\n",
    "            [\n",
    "                \"jupyter\",\n",
    "                \"nbconvert\",\n",
    "                \"--no-input\",\n",
    "                \"--to\",\n",
    "                \"html\",\n",
    "                f\"{outdir}/{output_name}.ipynb\",\n",
    "            ],\n",
    "            stderr=subprocess.DEVNULL,\n",
    "        )\n",
    "    finally:\n",
    "        os.chdir(cwd)"
   ]
  },
  {
   "cell_type": "code",
   "execution_count": null,
   "id": "990068e1-9021-4214-a330-ab79752d124e",
   "metadata": {
    "editable": true,
    "slideshow": {
     "slide_type": ""
    },
    "tags": []
   },
   "outputs": [],
   "source": [
    "%%time\n",
    "if original_source == \"training\":\n",
    "    for medium in ALL_MEDIUMS:\n",
    "        run_egress_notebook(\n",
    "            f\"./TrainingServingSkew\",\n",
    "            f\"{medium.capitalize()}TrainingServingSkew\",\n",
    "            medium=medium,\n",
    "        )"
   ]
  },
  {
   "cell_type": "code",
   "execution_count": null,
   "id": "304d0713-3d27-43f7-b9b3-a4b7d0c8a5f7",
   "metadata": {
    "editable": true,
    "scrolled": true,
    "slideshow": {
     "slide_type": ""
    },
    "tags": []
   },
   "outputs": [],
   "source": [
    "%%time\n",
    "run_egress_notebook(\"Recommendations/Recommendations\", \"Recommendations\")"
   ]
  },
  {
   "cell_type": "code",
   "execution_count": null,
   "id": "f7cd304b-1d38-442c-86c8-fd54301afe05",
   "metadata": {
    "editable": true,
    "slideshow": {
     "slide_type": ""
    },
    "tags": []
   },
   "outputs": [],
   "source": [
    "output_fn = os.path.join(papermill_path, \"rec_egress\", \"Recommendations.html\")\n",
    "print(f\"Recommendations have been successfully written to {output_fn}\")"
   ]
  }
 ],
 "metadata": {
  "kernelspec": {
   "display_name": "Python 3 (ipykernel)",
   "language": "python",
   "name": "python3"
  },
  "language_info": {
   "codemirror_mode": {
    "name": "ipython",
    "version": 3
   },
   "file_extension": ".py",
   "mimetype": "text/x-python",
   "name": "python",
   "nbconvert_exporter": "python",
   "pygments_lexer": "ipython3",
   "version": "3.10.12"
  }
 },
 "nbformat": 4,
 "nbformat_minor": 5
}
