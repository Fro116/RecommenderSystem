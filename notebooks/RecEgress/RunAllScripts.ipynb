{
 "cells": [
  {
   "cell_type": "code",
   "execution_count": 1,
   "id": "7df9b9d0-f4e3-4db9-b67d-799c100e8ab9",
   "metadata": {},
   "outputs": [],
   "source": [
    "import os\n",
    "\n",
    "import papermill as pm"
   ]
  },
  {
   "cell_type": "code",
   "execution_count": 2,
   "id": "0b374919-3fda-4225-a92f-bd831083fdd2",
   "metadata": {
    "tags": [
     "parameters"
    ]
   },
   "outputs": [],
   "source": [
    "# username = \"Fro116\"\n",
    "# source = \"MAL\"\n",
    "username = \"10\"\n",
    "source = \"Training\""
   ]
  },
  {
   "cell_type": "code",
   "execution_count": 3,
   "id": "0162aac0-a1a6-4a99-8378-49bdbeb4f158",
   "metadata": {},
   "outputs": [],
   "source": [
    "data_path = \"../../data/recommendations\"\n",
    "if not os.path.exists(data_path):\n",
    "    os.mkdir(data_path)"
   ]
  },
  {
   "cell_type": "code",
   "execution_count": 4,
   "id": "94fa9395-809f-4873-88fd-d4b21bbe6256",
   "metadata": {},
   "outputs": [],
   "source": [
    "papermill_path = \"../../data/papermill/rec_egress\"\n",
    "if not os.path.exists(papermill_path):\n",
    "    os.makedirs(papermill_path, exist_ok=True)"
   ]
  },
  {
   "cell_type": "code",
   "execution_count": 5,
   "id": "4c1ecfbd-cd6f-4f69-8dc9-2f8d4e348821",
   "metadata": {},
   "outputs": [],
   "source": [
    "def run_ingress_notebook(name):\n",
    "    pm.execute_notebook(\n",
    "        f\"../RecIngress/{name}.ipynb\",\n",
    "        f\"{papermill_path}/{name}.ipynb\",\n",
    "        parameters=dict(username=username, source=source),\n",
    "    )"
   ]
  },
  {
   "cell_type": "markdown",
   "id": "8f89edb6-79a0-4144-b3d4-7be9e7b05962",
   "metadata": {},
   "source": [
    "## RecIngress"
   ]
  },
  {
   "cell_type": "code",
   "execution_count": 6,
   "id": "57946395-ecb9-4ec9-a228-ae9f5bc69e9f",
   "metadata": {
    "tags": []
   },
   "outputs": [
    {
     "data": {
      "application/vnd.jupyter.widget-view+json": {
       "model_id": "befdee081b574b13bae17eb1c7e20123",
       "version_major": 2,
       "version_minor": 0
      },
      "text/plain": [
       "Executing:   0%|          | 0/8 [00:00<?, ?cell/s]"
      ]
     },
     "metadata": {},
     "output_type": "display_data"
    }
   ],
   "source": [
    "run_ingress_notebook(\"InitializeRecommendations\")"
   ]
  },
  {
   "cell_type": "code",
   "execution_count": 7,
   "id": "68968c69-4e43-4873-bb13-f741290b99cc",
   "metadata": {},
   "outputs": [
    {
     "data": {
      "application/vnd.jupyter.widget-view+json": {
       "model_id": "2e21d7efbfc942e987a0e3f6a61ad42b",
       "version_major": 2,
       "version_minor": 0
      },
      "text/plain": [
       "Executing:   0%|          | 0/15 [00:00<?, ?cell/s]"
      ]
     },
     "metadata": {},
     "output_type": "display_data"
    }
   ],
   "source": [
    "run_ingress_notebook(\"FetchUserAnimeList\")"
   ]
  },
  {
   "cell_type": "code",
   "execution_count": 8,
   "id": "a096b51e-4086-4b89-8815-a10b073767c5",
   "metadata": {},
   "outputs": [
    {
     "data": {
      "application/vnd.jupyter.widget-view+json": {
       "model_id": "9edfe30b519f43fd887be1cf3004f853",
       "version_major": 2,
       "version_minor": 0
      },
      "text/plain": [
       "Executing:   0%|          | 0/14 [00:00<?, ?cell/s]"
      ]
     },
     "metadata": {},
     "output_type": "display_data"
    }
   ],
   "source": [
    "run_ingress_notebook(\"ImportUserAnimeList\")"
   ]
  },
  {
   "cell_type": "code",
   "execution_count": 9,
   "id": "574e57d8-80f7-4b60-b38b-a56ee348ae38",
   "metadata": {},
   "outputs": [
    {
     "data": {
      "application/vnd.jupyter.widget-view+json": {
       "model_id": "75dc42e523874c13bc1ddda8b30439eb",
       "version_major": 2,
       "version_minor": 0
      },
      "text/plain": [
       "Executing:   0%|          | 0/7 [00:00<?, ?cell/s]"
      ]
     },
     "metadata": {},
     "output_type": "display_data"
    }
   ],
   "source": [
    "run_ingress_notebook(\"ProcessUserAnimeList\")"
   ]
  },
  {
   "cell_type": "code",
   "execution_count": 10,
   "id": "237ec333-ae1c-4873-add8-2ad4938d4d64",
   "metadata": {},
   "outputs": [
    {
     "data": {
      "application/vnd.jupyter.widget-view+json": {
       "model_id": "c77b964b316745269ba77ac13e7b214a",
       "version_major": 2,
       "version_minor": 0
      },
      "text/plain": [
       "Executing:   0%|          | 0/9 [00:00<?, ?cell/s]"
      ]
     },
     "metadata": {},
     "output_type": "display_data"
    }
   ],
   "source": [
    "run_ingress_notebook(\"GenerateSplits\")"
   ]
  },
  {
   "cell_type": "code",
   "execution_count": 11,
   "id": "3dd73a06-6791-477b-af82-08c1a53af476",
   "metadata": {},
   "outputs": [
    {
     "data": {
      "application/vnd.jupyter.widget-view+json": {
       "model_id": "e86bc038f07c4d9d84151958b5aba323",
       "version_major": 2,
       "version_minor": 0
      },
      "text/plain": [
       "Executing:   0%|          | 0/10 [00:00<?, ?cell/s]"
      ]
     },
     "metadata": {},
     "output_type": "display_data"
    },
    {
     "name": "stdout",
     "output_type": "stream",
     "text": [
      "Starting kernel event loops.\n"
     ]
    }
   ],
   "source": [
    "run_ingress_notebook(\"CompressUserAnimeList\")"
   ]
  },
  {
   "cell_type": "markdown",
   "id": "53261e6d-1c51-4c39-a2e4-233f9ffb5c05",
   "metadata": {},
   "source": [
    "## RecEgress"
   ]
  },
  {
   "cell_type": "code",
   "execution_count": 12,
   "id": "cbb65b71-4e87-449d-ba09-8b779107351b",
   "metadata": {},
   "outputs": [],
   "source": [
    "# cwd = os.getcwd()\n",
    "# try:\n",
    "#     os.chdir(\"../InferenceAlphas\")\n",
    "#     pm.execute_notebook(\n",
    "#         \"RunAllAlphas.ipynb\",\n",
    "#         f\"{data_path}/RunAllAlphas.ipynb\",\n",
    "#         parameters=dict(username=username),\n",
    "#     )\n",
    "#     os.chdir(\"../DisplayRecs\")\n",
    "#     if source == \"Training\":\n",
    "#         pm.execute_notebook(\n",
    "#             \"TrainingServingSkew.ipynb\",\n",
    "#             f\"{data_path}/TrainingServingSkew.ipynb\",\n",
    "#             parameters=dict(username=username),\n",
    "#         )\n",
    "#     else:\n",
    "#         pm.execute_notebook(\n",
    "#             \"Recommendations.ipynb\",\n",
    "#             f\"{data_path}/{username}/Recommendations.ipynb\",\n",
    "#             parameters=dict(username=username),\n",
    "#         )\n",
    "# finally:\n",
    "#     os.chdir(cwd)"
   ]
  },
  {
   "cell_type": "code",
   "execution_count": 13,
   "id": "f7cd304b-1d38-442c-86c8-fd54301afe05",
   "metadata": {},
   "outputs": [
    {
     "name": "stdout",
     "output_type": "stream",
     "text": [
      "Success!\n"
     ]
    }
   ],
   "source": [
    "print(\"Success!\")"
   ]
  },
  {
   "cell_type": "code",
   "execution_count": null,
   "id": "fe49d48b-7c00-434b-9f07-75549573b71a",
   "metadata": {},
   "outputs": [],
   "source": []
  }
 ],
 "metadata": {
  "kernelspec": {
   "display_name": "Python 3 (ipykernel)",
   "language": "python",
   "name": "python3"
  },
  "language_info": {
   "codemirror_mode": {
    "name": "ipython",
    "version": 3
   },
   "file_extension": ".py",
   "mimetype": "text/x-python",
   "name": "python",
   "nbconvert_exporter": "python",
   "pygments_lexer": "ipython3",
   "version": "3.10.4"
  }
 },
 "nbformat": 4,
 "nbformat_minor": 5
}
