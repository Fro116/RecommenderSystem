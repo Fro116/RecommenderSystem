{
 "cells": [
  {
   "cell_type": "code",
   "execution_count": null,
   "id": "7df9b9d0-f4e3-4db9-b67d-799c100e8ab9",
   "metadata": {},
   "outputs": [],
   "source": [
    "import os\n",
    "import shutil\n",
    "\n",
    "import papermill as pm"
   ]
  },
  {
   "cell_type": "code",
   "execution_count": null,
   "id": "0b374919-3fda-4225-a92f-bd831083fdd2",
   "metadata": {
    "tags": [
     "parameters"
    ]
   },
   "outputs": [],
   "source": [
    "username = \"Fro116\"\n",
    "source = \"MAL\"\n",
    "training_task = None\n",
    "DAEMON_MODE = False"
   ]
  },
  {
   "cell_type": "code",
   "execution_count": null,
   "id": "4de7f120-5caa-40c3-b377-72183f5e2f2a",
   "metadata": {},
   "outputs": [],
   "source": [
    "if source != \"Training\":\n",
    "    training_task = None"
   ]
  },
  {
   "cell_type": "code",
   "execution_count": null,
   "id": "0162aac0-a1a6-4a99-8378-49bdbeb4f158",
   "metadata": {},
   "outputs": [],
   "source": [
    "data_path = os.path.abspath(\"../../data/recommendations\")\n",
    "if not os.path.exists(data_path):\n",
    "    os.mkdir(data_path)\n",
    "rec_dir = os.path.join(data_path, username)\n",
    "papermill_path = os.path.join(rec_dir, \"papermill\")"
   ]
  },
  {
   "cell_type": "code",
   "execution_count": null,
   "id": "dbbc936b-c9cb-40e3-bce3-21a7769c30b7",
   "metadata": {},
   "outputs": [],
   "source": [
    "julia_args = \"-e 'using DaemonMode; runargs({port})'\"\n",
    "if not DAEMON_MODE:\n",
    "    print(\n",
    "        \"Julia daemon not detected, disabling client mode. Run the \"\n",
    "        \"following commands and set DAEMON_MODE=true to enable julia \"\n",
    "        \"daemon mode:\"\n",
    "    )\n",
    "    for i in range(6):\n",
    "        print(f\"julia -e 'using DaemonMode; serve(300{i}, true)' &\")\n",
    "    julia_args = \"\""
   ]
  },
  {
   "cell_type": "code",
   "execution_count": null,
   "id": "3975a1af-a8c0-4b14-8fb1-7f50d7acef04",
   "metadata": {},
   "outputs": [],
   "source": [
    "def run_julia_notebook(name, port, *args):\n",
    "    os.system(f\"julia {julia_args.format(port=port)} {name} {' '.join(args)}\")"
   ]
  },
  {
   "cell_type": "markdown",
   "id": "f89d8057-fefa-4c83-97c3-6a8c6214b8c9",
   "metadata": {},
   "source": [
    "## RecIngress"
   ]
  },
  {
   "cell_type": "code",
   "execution_count": null,
   "id": "4c1ecfbd-cd6f-4f69-8dc9-2f8d4e348821",
   "metadata": {},
   "outputs": [],
   "source": [
    "def run_ingress_notebook(name, **kwargs):\n",
    "    outdir = os.path.join(papermill_path, \"rec_ingress\")\n",
    "    if not os.path.exists(outdir):\n",
    "        os.makedirs(outdir, exist_ok=True)\n",
    "    pm.execute_notebook(\n",
    "        f\"../RecIngress/{name}.ipynb\",\n",
    "        f\"{outdir}/{name}.ipynb\",\n",
    "        parameters=dict(username=username, source=source, **kwargs),\n",
    "    )"
   ]
  },
  {
   "cell_type": "code",
   "execution_count": null,
   "id": "3e73a831-33e1-499c-aaea-e6e10ef1c2fa",
   "metadata": {},
   "outputs": [],
   "source": [
    "def run_ingress_julia(name, *args):\n",
    "    cwd = os.getcwd()\n",
    "    os.chdir(\"../RecIngress\")\n",
    "    for folder in name.split(\"/\")[:-1]:\n",
    "        os.chdir(folder)\n",
    "    try:\n",
    "        run_julia_notebook(f\"{name.split('/')[-1]}.jl\", 3000, username, *args)\n",
    "    finally:\n",
    "        os.chdir(cwd)"
   ]
  },
  {
   "cell_type": "code",
   "execution_count": null,
   "id": "88de56a9-5909-42ab-bdf7-2dd39f064ee2",
   "metadata": {},
   "outputs": [],
   "source": [
    "if os.path.exists(rec_dir):\n",
    "    shutil.rmtree(rec_dir)"
   ]
  },
  {
   "cell_type": "code",
   "execution_count": null,
   "id": "7e348a78-03e7-464c-a87a-9fdf6cdb8768",
   "metadata": {},
   "outputs": [],
   "source": [
    "# TODO consolidate papermill startup costs"
   ]
  },
  {
   "cell_type": "code",
   "execution_count": null,
   "id": "d4c66ede-13cd-4a2a-af7f-0345bba6dd9a",
   "metadata": {
    "tags": []
   },
   "outputs": [],
   "source": [
    "run_ingress_notebook(\"FetchAnimeLists\", training_task=training_task)"
   ]
  },
  {
   "cell_type": "code",
   "execution_count": null,
   "id": "fa6ef61f-0bda-40fe-b5fd-bd7744730a56",
   "metadata": {},
   "outputs": [],
   "source": [
    "run_ingress_notebook(\"ImportAnimeLists\")"
   ]
  },
  {
   "cell_type": "code",
   "execution_count": null,
   "id": "51158cff-0d75-4b33-83bf-a38b77989fde",
   "metadata": {},
   "outputs": [],
   "source": [
    "run_ingress_notebook(\"ProcessAnimeLists\")"
   ]
  },
  {
   "cell_type": "code",
   "execution_count": null,
   "id": "ce1df74e-d7cf-4ce8-b49d-d505ffe021b7",
   "metadata": {},
   "outputs": [],
   "source": [
    "run_ingress_notebook(\"RelabelIds\")"
   ]
  },
  {
   "cell_type": "code",
   "execution_count": null,
   "id": "e661943e-b298-4d87-9de5-fac72f103e84",
   "metadata": {
    "tags": []
   },
   "outputs": [],
   "source": [
    "run_ingress_notebook(\"GenerateSplits\")"
   ]
  },
  {
   "cell_type": "code",
   "execution_count": null,
   "id": "d1ae43bf-9867-4ebf-a907-e2c75cb49c82",
   "metadata": {},
   "outputs": [],
   "source": [
    "run_ingress_julia(\"CompressSplits\")"
   ]
  },
  {
   "cell_type": "markdown",
   "id": "05b76d6b-c0d5-4018-8bd8-c30fd1c52bfe",
   "metadata": {},
   "source": [
    "## InferenceAlphas"
   ]
  },
  {
   "cell_type": "code",
   "execution_count": null,
   "id": "490145b6-d7a3-4971-a871-18e925ae24b3",
   "metadata": {},
   "outputs": [],
   "source": [
    "def run_inference_julia(name, port, *args):\n",
    "    cwd = os.getcwd()\n",
    "    os.chdir(\"../InferenceAlphas\")\n",
    "    for folder in name.split(\"/\")[:-1]:\n",
    "        os.chdir(folder)\n",
    "    try:\n",
    "        run_julia_notebook(f\"{name.split('/')[-1]}.jl\", port, username, *args)\n",
    "    finally:\n",
    "        os.chdir(cwd)"
   ]
  },
  {
   "cell_type": "code",
   "execution_count": null,
   "id": "9c921527-2f99-4289-a20f-fc5d2f5a6fad",
   "metadata": {
    "tags": []
   },
   "outputs": [],
   "source": [
    "run_inference_julia(\"Explicit/Explicit\", 3001)"
   ]
  },
  {
   "cell_type": "code",
   "execution_count": null,
   "id": "94ae8b15-765d-4717-9504-9a5578388990",
   "metadata": {},
   "outputs": [],
   "source": [
    "run_inference_julia(\"Nondirectional/Nondirectional\", 3002)"
   ]
  },
  {
   "cell_type": "code",
   "execution_count": null,
   "id": "e70cb43e-16db-4356-8e74-e0e5ee26df44",
   "metadata": {},
   "outputs": [],
   "source": [
    "run_inference_julia(\"Transformer/Transformer\", 3003)"
   ]
  },
  {
   "cell_type": "code",
   "execution_count": null,
   "id": "6771bf10-3843-445c-bf63-32c517f939c9",
   "metadata": {},
   "outputs": [],
   "source": [
    "run_inference_julia(\"Neural/Neural\", 3004)"
   ]
  },
  {
   "cell_type": "code",
   "execution_count": null,
   "id": "4c2a5bfd-6ffa-46b1-80e9-cc8fddb25314",
   "metadata": {},
   "outputs": [],
   "source": [
    "run_inference_julia(\"Ensemble/Ensemble\", 3005)"
   ]
  },
  {
   "cell_type": "markdown",
   "id": "fb225f59-603b-472c-bc58-fb3ff9aa140e",
   "metadata": {},
   "source": [
    "## RecEgress"
   ]
  },
  {
   "cell_type": "code",
   "execution_count": null,
   "id": "4e3ae6ef-948b-4696-bd6f-6b17419502e1",
   "metadata": {},
   "outputs": [],
   "source": [
    "def run_egress_notebook(name, **kwargs):\n",
    "    outdir = rec_dir\n",
    "    pm.execute_notebook(\n",
    "        f\"{name}.ipynb\",\n",
    "        f\"{outdir}/{name}.ipynb\",\n",
    "        parameters=dict(username=username, source=source, **kwargs),\n",
    "    )"
   ]
  },
  {
   "cell_type": "code",
   "execution_count": null,
   "id": "304d0713-3d27-43f7-b9b3-a4b7d0c8a5f7",
   "metadata": {},
   "outputs": [],
   "source": [
    "if source == \"Training\":\n",
    "    run_egress_notebook(\"TrainingServingSkew\", task=training_task)\n",
    "else:\n",
    "    run_egress_notebook(\"Recommendations\")"
   ]
  },
  {
   "cell_type": "code",
   "execution_count": null,
   "id": "f7cd304b-1d38-442c-86c8-fd54301afe05",
   "metadata": {},
   "outputs": [],
   "source": [
    "print(\"Success!\")"
   ]
  }
 ],
 "metadata": {
  "kernelspec": {
   "display_name": "Python 3 (ipykernel)",
   "language": "python",
   "name": "python3"
  },
  "language_info": {
   "codemirror_mode": {
    "name": "ipython",
    "version": 3
   },
   "file_extension": ".py",
   "mimetype": "text/x-python",
   "name": "python",
   "nbconvert_exporter": "python",
   "pygments_lexer": "ipython3",
   "version": "3.10.6"
  }
 },
 "nbformat": 4,
 "nbformat_minor": 5
}
