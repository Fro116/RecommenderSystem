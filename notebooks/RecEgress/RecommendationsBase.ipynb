{
 "cells": [
  {
   "cell_type": "code",
   "execution_count": null,
   "id": "240e43fd-abc8-4d44-a3d6-85293d0dd756",
   "metadata": {},
   "outputs": [],
   "source": [
    "const source_name = \"Recommendations\";"
   ]
  },
  {
   "cell_type": "code",
   "execution_count": null,
   "id": "ba187524-034d-40f6-9e40-0ab5123e36bb",
   "metadata": {
    "tags": []
   },
   "outputs": [],
   "source": [
    "using DataFrames\n",
    "import CSV\n",
    "import NBInclude: @nbinclude\n",
    "import Statistics: mean, quantile, cor\n",
    "@nbinclude(\"../InferenceAlphas/Alpha.ipynb\");"
   ]
  },
  {
   "cell_type": "code",
   "execution_count": null,
   "id": "2dc4c5b5-a759-463c-b163-e47fd461a554",
   "metadata": {},
   "outputs": [],
   "source": [
    "ENV[\"DATAFRAMES_COLUMNS\"] = 300;\n",
    "ENV[\"DATAFRAMES_ROWS\"] = 300;"
   ]
  },
  {
   "cell_type": "code",
   "execution_count": null,
   "id": "f86579c5-06f8-4f20-a49b-1d7a6e337f01",
   "metadata": {},
   "outputs": [],
   "source": [
    "function to_hyperlink(title, url)\n",
    "    \"<a href=\\\"$url\\\">$title</a>\"\n",
    "end\n",
    "\n",
    "function get_hyperlink(title, links; source = \"MAL\")\n",
    "    if source == \"MAL\"\n",
    "        search = \"myanimelist\"\n",
    "    elseif source == \"AniList\"\n",
    "        search = \"anilist\"\n",
    "    else\n",
    "        @assert false\n",
    "    end\n",
    "\n",
    "    # try to return the preferred source\n",
    "    parsed_links = eval(Meta.parse(replace(links, \"'\" => \"\\\"\")))\n",
    "    for link in parsed_links\n",
    "        if occursin(search, link)\n",
    "            return to_hyperlink(title, link)\n",
    "        end\n",
    "    end\n",
    "\n",
    "    # default to mal\n",
    "    search = \"myanimelist\"\n",
    "    parsed_links = eval(Meta.parse(replace(links, \"'\" => \"\\\"\")))\n",
    "    for link in parsed_links\n",
    "        if occursin(search, link)\n",
    "            return to_hyperlink(title, link)\n",
    "        end\n",
    "    end\n",
    "\n",
    "    return title\n",
    "end\n",
    "\n",
    "function get_anime()\n",
    "    df = DataFrame(\n",
    "        CSV.File(\"../../data/processed_data/anime.csv\", ntasks = 1; stringtype = String),\n",
    "    )\n",
    "    df.title = get_hyperlink.(df.title, df.links; source=source)\n",
    "    df\n",
    "end;"
   ]
  },
  {
   "cell_type": "code",
   "execution_count": null,
   "id": "20127075-7c57-4629-9283-d1f18a8ff2bb",
   "metadata": {},
   "outputs": [],
   "source": [
    "const anime = get_anime()\n",
    "anime_to_uid = DataFrame(CSV.File(\"../../data/processed_data/anime_to_uid.csv\"))\n",
    "anime_to_uid = innerjoin(anime_to_uid, anime, on = \"animeid\" => \"anime_id\");"
   ]
  },
  {
   "cell_type": "code",
   "execution_count": null,
   "id": "9fa0327c-2d09-4040-8819-32125a957f15",
   "metadata": {
    "tags": []
   },
   "outputs": [],
   "source": [
    "get_alpha(x) = read_recommendee_alpha(x, \"all\").rating\n",
    "rating_df = DataFrame(\n",
    "    \"uid\" => 0:num_items()-1,\n",
    "    \"explicit\" => get_alpha(\"Explicit\"),\n",
    "    \"implicit\" => get_alpha(\"LinearImplicit\"),\n",
    "    \"baseline_explicit\" => get_alpha(\"ExplicitUserItemBiases\"),\n",
    "    \"baseline_implicit\" => get_alpha(\"NeuralImplicitItemBiases\"),\n",
    ")\n",
    "rating_df[:, \"score\"] = -get_alpha(\"MLE.Ensemble\");"
   ]
  },
  {
   "cell_type": "code",
   "execution_count": null,
   "id": "89a34ece-a029-4b79-98a8-743d7aa89b22",
   "metadata": {},
   "outputs": [],
   "source": [
    "# evaluate our insample explicit predictions\n",
    "df = get_recommendee_split(\"explicit\")\n",
    "rss = sum((df.rating - rating_df.explicit[df.item]) .^ 2)\n",
    "tss = sum((df.rating .- mean(df.rating)) .^ 2)\n",
    "@info \"Debug Data\"\n",
    "@info \"RMSE: $(sqrt(rss / length(df.rating)))\"\n",
    "@info \"R2: $(1 - rss / tss)\"\n",
    "@info \"Correlation: $(cor(df.rating, rating_df.explicit[df.item]))\""
   ]
  },
  {
   "cell_type": "code",
   "execution_count": null,
   "id": "24345713-0e5e-4d52-89a2-16dd2b5d3f96",
   "metadata": {
    "tags": []
   },
   "outputs": [],
   "source": [
    "# don't recommend shows that the user has already seen before\n",
    "rating_df[:, \"seen\"] .= false\n",
    "rating_df.seen[get_recommendee_split(\"implicit\").item] .= true\n",
    "rating_df[:, \"ptw\"] .= false\n",
    "rating_df.ptw[get_recommendee_split(\"ptw\").item] .= true\n",
    "\n",
    "# don't recommend shows related to shows they have seen before\n",
    "rating_df[:, \"related\"] .= false\n",
    "rating_df.related[read_recommendee_alpha(\"RelatedSeries\", \"all\").rating .!= 0] .= true;\n",
    "rating_df[:, \"recap\"] .= false\n",
    "rating_df.recap[read_recommendee_alpha(\"RecapSeries\", \"all\").rating .!= 0] .= true;"
   ]
  },
  {
   "cell_type": "code",
   "execution_count": null,
   "id": "2f87ebbf-d246-43cc-8b07-79b4929318ea",
   "metadata": {},
   "outputs": [],
   "source": [
    "rec_df = innerjoin(anime_to_uid, rating_df, on = \"uid\");\n",
    "keepcols = [\"animeid\", \"uid\", \"title\",  \"medium\", \"num_episodes\", \"start_date\", \"genres\", \"tags\"]\n",
    "for x in names(rating_df)\n",
    "    if x ∉ keepcols\n",
    "        push!(keepcols, x)\n",
    "    end\n",
    "end\n",
    "rec_df = rec_df[:, keepcols];"
   ]
  },
  {
   "cell_type": "code",
   "execution_count": null,
   "id": "43369775-7454-4784-8be2-c9dfbc828690",
   "metadata": {},
   "outputs": [],
   "source": [
    "for (content, name) in [(\"explicit\", \"rated\"), (\"implicit\", \"watched\"), (\"ptw\", \"planned to watch\")]\n",
    "    n = length(get_recommendee_split(content).item)\n",
    "    @info \"$n items $name\"\n",
    "end"
   ]
  },
  {
   "cell_type": "code",
   "execution_count": null,
   "id": "86abfc3e-9418-413a-b99a-bb048e44cbc4",
   "metadata": {},
   "outputs": [],
   "source": [
    "# function is_recent(x)\n",
    "#     if ismissing(x)\n",
    "#         return false\n",
    "#     end\n",
    "#     (x > Dates.today() - Dates.Month(6)) && (x < Dates.today())\n",
    "# end"
   ]
  },
  {
   "cell_type": "code",
   "execution_count": null,
   "id": "7f138fb7-a682-4325-a8a9-3aa7cdd38603",
   "metadata": {},
   "outputs": [],
   "source": [
    "function top(df::DataFrame, n::Integer)\n",
    "    df = first(sort(df, :score), n)\n",
    "    df = select(df, Not([:recap, :related, :ptw, :seen, :animeid, :uid]))\n",
    "    headers = titlecase.(replace.(names(df), \"_\" => \" \"))\n",
    "    Base.show(\n",
    "        stdout,\n",
    "        MIME(\"text/html\"),\n",
    "        df;\n",
    "        allow_html_in_cells = true,\n",
    "        header = headers,\n",
    "        nosubheader = true,\n",
    "        row_number_column_title = \"Rank\",\n",
    "        top_left_str = \"\",\n",
    "    )\n",
    "end\n",
    "\n",
    "top(n::Integer) = x -> top(x, n);"
   ]
  },
  {
   "cell_type": "code",
   "execution_count": null,
   "id": "87d0ac7b-9f8d-4d5d-ab59-ad8e65a6d948",
   "metadata": {},
   "outputs": [],
   "source": [
    "seen(df) = filter(x -> x.seen, df)\n",
    "inv_seen(df) = filter(x -> !x.seen, df)\n",
    "inv_related(df) = filter(x -> !x.related, df)\n",
    "inv_recap(df) = filter(x -> !x.recap, df)\n",
    "ptw(df) = filter(x -> x.ptw, df)\n",
    "related(df) = filter(x -> !x.seen && x.related, df)\n",
    "explicit(df) = filter(x -> x.explicit > x.baseline_explicit, df)\n",
    "implicit(df) = filter(x -> x.implicit > x.baseline_implicit, df)\n",
    "inv_explicit(df) = filter(x -> x.explicit <= x.baseline_explicit, df)\n",
    "inv_implicit(df) = filter(x -> x.implicit <= x.baseline_implicit, df)\n",
    "tv(df) = filter(x -> x.medium in [\"tv\", \"ona\"], df)\n",
    "inv_tv(df) = filter(x -> x.medium ∉ [\"tv\", \"ona\"], df)\n",
    "recent(df) = filter(x -> is_recent.(x.start_date), df)"
   ]
  }
 ],
 "metadata": {
  "kernelspec": {
   "display_name": "Julia 1.8.2",
   "language": "julia",
   "name": "julia-1.8"
  },
  "language_info": {
   "file_extension": ".jl",
   "mimetype": "application/julia",
   "name": "julia",
   "version": "1.8.2"
  }
 },
 "nbformat": 4,
 "nbformat_minor": 5
}
