{
 "cells": [
  {
   "cell_type": "code",
   "execution_count": null,
   "id": "240e43fd-abc8-4d44-a3d6-85293d0dd756",
   "metadata": {},
   "outputs": [],
   "source": [
    "const source_name = \"Recommendations\";"
   ]
  },
  {
   "cell_type": "code",
   "execution_count": null,
   "id": "ba187524-034d-40f6-9e40-0ab5123e36bb",
   "metadata": {
    "tags": []
   },
   "outputs": [],
   "source": [
    "using DataFrames\n",
    "import CSV\n",
    "import NBInclude: @nbinclude\n",
    "import Statistics: mean, quantile, cor\n",
    "@nbinclude(\"../InferenceAlphas/Alpha.ipynb\");"
   ]
  },
  {
   "cell_type": "code",
   "execution_count": null,
   "id": "2dc4c5b5-a759-463c-b163-e47fd461a554",
   "metadata": {},
   "outputs": [],
   "source": [
    "ENV[\"DATAFRAMES_COLUMNS\"] = 100;\n",
    "ENV[\"DATAFRAMES_ROWS\"] = 100;"
   ]
  },
  {
   "cell_type": "code",
   "execution_count": null,
   "id": "f86579c5-06f8-4f20-a49b-1d7a6e337f01",
   "metadata": {},
   "outputs": [],
   "source": [
    "function get_anime()\n",
    "    return DataFrame(\n",
    "        CSV.File(\"../../data/processed_data/anime.csv\", ntasks = 1; stringtype = String),\n",
    "    )\n",
    "end;"
   ]
  },
  {
   "cell_type": "code",
   "execution_count": null,
   "id": "20127075-7c57-4629-9283-d1f18a8ff2bb",
   "metadata": {},
   "outputs": [],
   "source": [
    "const anime = get_anime()\n",
    "anime_to_uid = DataFrame(CSV.File(\"../../data/processed_data/anime_to_uid.csv\"))\n",
    "anime_to_uid = innerjoin(anime_to_uid, anime, on = \"animeid\" => \"anime_id\");"
   ]
  },
  {
   "cell_type": "code",
   "execution_count": null,
   "id": "9fa0327c-2d09-4040-8819-32125a957f15",
   "metadata": {
    "tags": []
   },
   "outputs": [],
   "source": [
    "get_alpha(x) = read_recommendee_alpha(x, \"all\").rating\n",
    "rating_df = DataFrame(\n",
    "    \"uid\" => 0:num_items()-1,\n",
    "    \"explicit\" => get_alpha(\"Explicit\"),\n",
    "    \"implicit\" => get_alpha(\"LinearImplicit\"),\n",
    "    \"ptw\" => get_alpha(\"LinearPtw\"),\n",
    "    \"baseline_explicit\" => get_alpha(\"ExplicitUserItemBiases\"),\n",
    "    \"baseline_implicit\" => get_alpha(\"NeuralImplicitItemBiases\"),\n",
    "    \"baseline_ptw\" => get_alpha(\"NeuralPtwItemBiases\"),\n",
    ")\n",
    "rating_df[:, \"score\"] = -get_alpha(\"BPR.Neural.Test\");"
   ]
  },
  {
   "cell_type": "code",
   "execution_count": null,
   "id": "89a34ece-a029-4b79-98a8-743d7aa89b22",
   "metadata": {},
   "outputs": [],
   "source": [
    "# evaluate our insample explicit predictions\n",
    "df = get_recommendee_split(\"explicit\")\n",
    "rss = sum((df.rating - rating_df.explicit[df.item]) .^ 2)\n",
    "tss = sum((df.rating .- mean(df.rating)) .^ 2)\n",
    "@info \"RMSE: $(sqrt(rss / length(df.rating)))\"\n",
    "@info \"R2: $(1 - rss / tss)\"\n",
    "@info \"Correlation: $(cor(df.rating, rating_df.explicit[df.item]))\""
   ]
  },
  {
   "cell_type": "code",
   "execution_count": null,
   "id": "24345713-0e5e-4d52-89a2-16dd2b5d3f96",
   "metadata": {
    "tags": []
   },
   "outputs": [],
   "source": [
    "# don't recommend shows that the user has already seen before\n",
    "rating_df[:, \"seen\"] .= false\n",
    "seen_items = get_recommendee_split(\"implicit\").item\n",
    "rating_df.seen[seen_items] .= true\n",
    "\n",
    "# don't recommend shows related to shows they have seen before\n",
    "rating_df[:, \"related\"] .= false\n",
    "related_series = read_recommendee_alpha(\"ItemCFRelated\", \"all\").rating .!= 0\n",
    "rating_df.related[related_series] .= true;"
   ]
  },
  {
   "cell_type": "code",
   "execution_count": null,
   "id": "2f87ebbf-d246-43cc-8b07-79b4929318ea",
   "metadata": {},
   "outputs": [],
   "source": [
    "rec_df = innerjoin(anime_to_uid, rating_df, on = \"uid\");\n",
    "keepcols = [\"animeid\", \"uid\", \"title\", \"genres\", \"medium\", \"num_episodes\", \"start_date\"]\n",
    "for x in names(rating_df)\n",
    "    if x ∉ keepcols\n",
    "        push!(keepcols, x)\n",
    "    end\n",
    "end\n",
    "rec_df = rec_df[:, keepcols];"
   ]
  },
  {
   "cell_type": "code",
   "execution_count": null,
   "id": "43369775-7454-4784-8be2-c9dfbc828690",
   "metadata": {},
   "outputs": [],
   "source": [
    "for content in [\"explicit\", \"implicit\", \"ptw\"]\n",
    "    n = length(get_recommendee_split(content).item)\n",
    "    @info \"$n $content items\"\n",
    "end"
   ]
  },
  {
   "cell_type": "code",
   "execution_count": null,
   "id": "86abfc3e-9418-413a-b99a-bb048e44cbc4",
   "metadata": {},
   "outputs": [],
   "source": [
    "function is_recent(x)\n",
    "    if ismissing(x)\n",
    "        return false\n",
    "    end\n",
    "    (x > Dates.today() - Dates.Month(6)) && (x < Dates.today())\n",
    "end"
   ]
  },
  {
   "cell_type": "code",
   "execution_count": null,
   "id": "87d0ac7b-9f8d-4d5d-ab59-ad8e65a6d948",
   "metadata": {},
   "outputs": [],
   "source": [
    "function unseen_display(df)\n",
    "    sort(filter(x -> !x.seen, df), :score)\n",
    "end\n",
    "\n",
    "function unrelated_display(df)\n",
    "    filter(x -> !x.related, df)\n",
    "end\n",
    "\n",
    "function related_display(df)\n",
    "    sort(filter(x -> !x.seen && x.related, df), :score)\n",
    "end\n",
    "\n",
    "function explicit_display(df)\n",
    "    filter(x -> x.explicit > x.baseline_explicit, df)\n",
    "end\n",
    "\n",
    "function implicit_display(df)\n",
    "    filter(x -> x.implicit > x.baseline_implicit, df)\n",
    "end\n",
    "\n",
    "function inv_explicit_display(df)\n",
    "    filter(x -> x.explicit <= x.baseline_explicit, df)\n",
    "end\n",
    "\n",
    "function inv_implicit_display(df)\n",
    "    filter(x -> x.implicit <= x.baseline_implicit, df)\n",
    "end\n",
    "\n",
    "function tv_display(df)\n",
    "    filter(x -> x.medium in [\"tv\", \"ona\"], df)\n",
    "end\n",
    "\n",
    "function inv_tv_display(df)\n",
    "    filter(x -> x.medium ∉ [\"tv\", \"ona\"], df)\n",
    "end\n",
    "\n",
    "function recent_display(df)\n",
    "    filter(x -> is_recent.(x.start_date), df)\n",
    "end;"
   ]
  }
 ],
 "metadata": {
  "kernelspec": {
   "display_name": "Julia 1.8.2",
   "language": "julia",
   "name": "julia-1.8"
  },
  "language_info": {
   "file_extension": ".jl",
   "mimetype": "application/julia",
   "name": "julia",
   "version": "1.8.2"
  }
 },
 "nbformat": 4,
 "nbformat_minor": 5
}
