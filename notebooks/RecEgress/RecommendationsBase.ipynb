{
 "cells": [
  {
   "cell_type": "code",
   "execution_count": null,
   "id": "240e43fd-abc8-4d44-a3d6-85293d0dd756",
   "metadata": {},
   "outputs": [],
   "source": [
    "const source_name = \"Recommendations\";"
   ]
  },
  {
   "cell_type": "code",
   "execution_count": null,
   "id": "ba187524-034d-40f6-9e40-0ab5123e36bb",
   "metadata": {
    "tags": []
   },
   "outputs": [],
   "source": [
    "using DataFrames\n",
    "import CSV\n",
    "import NBInclude: @nbinclude\n",
    "import Statistics: mean, quantile, cor\n",
    "@nbinclude(\"../InferenceAlphas/Alpha.ipynb\");"
   ]
  },
  {
   "cell_type": "code",
   "execution_count": null,
   "id": "2dc4c5b5-a759-463c-b163-e47fd461a554",
   "metadata": {},
   "outputs": [],
   "source": [
    "ENV[\"DATAFRAMES_COLUMNS\"] = 300;\n",
    "ENV[\"DATAFRAMES_ROWS\"] = 300;"
   ]
  },
  {
   "cell_type": "code",
   "execution_count": null,
   "id": "1d5e6e3a-8617-49fa-8da1-5ac2f2923927",
   "metadata": {},
   "outputs": [],
   "source": [
    "DEBUG = false"
   ]
  },
  {
   "cell_type": "code",
   "execution_count": null,
   "id": "82a21cba-2259-45a9-a0d6-2a36d57ebb6b",
   "metadata": {},
   "outputs": [],
   "source": [
    "if source == \"MAL\"\n",
    "    sourcename = \"MyAnimeList\"\n",
    "elseif source == \"AniList\"\n",
    "    sourcename = \"AniList\"\n",
    "elseif source == \"XML\"\n",
    "    sourcename = \"XML\"\n",
    "else\n",
    "    @assert false\n",
    "end\n",
    "@info \"Displaying recommendations for $username from $sourcename\""
   ]
  },
  {
   "cell_type": "markdown",
   "id": "16859e20-8b33-4118-8ab5-4e4972807300",
   "metadata": {},
   "source": [
    "# Merge recommendations with item metadata"
   ]
  },
  {
   "cell_type": "code",
   "execution_count": null,
   "id": "f86579c5-06f8-4f20-a49b-1d7a6e337f01",
   "metadata": {},
   "outputs": [],
   "source": [
    "function to_hyperlink(title, url)\n",
    "    \"<a href=\\\"$url\\\">$title</a>\"\n",
    "end\n",
    "\n",
    "function get_hyperlink(title, links; source = \"MAL\")\n",
    "    if source == \"MAL\"\n",
    "        search = \"myanimelist\"\n",
    "    elseif source == \"AniList\"\n",
    "        search = \"anilist\"\n",
    "    elseif source == \"XML\"\n",
    "        search = \"MAL\"\n",
    "    else\n",
    "        @assert false\n",
    "    end\n",
    "\n",
    "    # try to return the preferred source\n",
    "    parsed_links = eval(Meta.parse(replace(links, \"'\" => \"\\\"\")))\n",
    "    for link in parsed_links\n",
    "        if occursin(search, link)\n",
    "            return to_hyperlink(title, link)\n",
    "        end\n",
    "    end\n",
    "\n",
    "    # default to mal\n",
    "    search = \"myanimelist\"\n",
    "    parsed_links = eval(Meta.parse(replace(links, \"'\" => \"\\\"\")))\n",
    "    for link in parsed_links\n",
    "        if occursin(search, link)\n",
    "            return to_hyperlink(title, link)\n",
    "        end\n",
    "    end\n",
    "\n",
    "    return title\n",
    "end\n",
    "\n",
    "function parse_time(x)\n",
    "    minutes = Int(round(x / 60))\n",
    "    hours = Int(floor(minutes / 60))\n",
    "    minutes = minutes % 60\n",
    "    function time_string(x, suffix)\n",
    "        if x == 0\n",
    "            return \"\"\n",
    "        else\n",
    "            return \"$(x)$(suffix) \"\n",
    "        end\n",
    "    end\n",
    "    time_string(hours, \"h\") * time_string(minutes, \"m\")\n",
    "end\n",
    "\n",
    "function get_anime()\n",
    "    df = DataFrame(\n",
    "        CSV.File(\"../../data/processed_data/anime.csv\", ntasks = 1; stringtype = String),\n",
    "    )\n",
    "    df.title = get_hyperlink.(df.title, df.links; source = source)\n",
    "    df.average_episode_duration = parse_time.(df.average_episode_duration)\n",
    "    df\n",
    "end;"
   ]
  },
  {
   "cell_type": "code",
   "execution_count": null,
   "id": "20127075-7c57-4629-9283-d1f18a8ff2bb",
   "metadata": {},
   "outputs": [],
   "source": [
    "const anime = get_anime()\n",
    "anime_to_uid = DataFrame(CSV.File(\"../../data/processed_data/anime_to_uid.csv\"))\n",
    "anime_to_uid = innerjoin(anime_to_uid, anime, on = \"animeid\" => \"anime_id\");"
   ]
  },
  {
   "cell_type": "code",
   "execution_count": null,
   "id": "9fa0327c-2d09-4040-8819-32125a957f15",
   "metadata": {
    "tags": []
   },
   "outputs": [],
   "source": [
    "get_alpha(x) = read_recommendee_alpha(x, \"all\").rating\n",
    "rating_df = DataFrame(\n",
    "    \"uid\" => 0:num_items()-1,\n",
    "    \"explicit\" => get_alpha(\"Explicit\"),\n",
    "    \"implicit\" => get_alpha(\"LinearImplicit\"),\n",
    "    \"baseline_explicit\" => get_alpha(\"ExplicitUserItemBiases\"),\n",
    "    \"baseline_implicit\" => get_alpha(\"NeuralImplicitItemBiases\"),\n",
    ")\n",
    "rating_df[:, \"score\"] = get_alpha(\"MLE.Ensemble\")\n",
    "rating_df[:, \"relative_explicit\"] =\n",
    "    rating_df[:, \"explicit\"] ./ rating_df[:, \"baseline_explicit\"]\n",
    "rating_df[:, \"relative_implicit\"] =\n",
    "    rating_df[:, \"implicit\"] ./ rating_df[:, \"baseline_implicit\"];"
   ]
  },
  {
   "cell_type": "code",
   "execution_count": null,
   "id": "24345713-0e5e-4d52-89a2-16dd2b5d3f96",
   "metadata": {
    "tags": []
   },
   "outputs": [],
   "source": [
    "# don't recommend shows that the user has already seen before\n",
    "rating_df[:, \"seen\"] .= false\n",
    "rating_df.seen[get_recommendee_split(\"implicit\").item] .= true\n",
    "rating_df[:, \"ptw\"] .= false\n",
    "rating_df.ptw[get_recommendee_split(\"ptw\").item] .= true\n",
    "\n",
    "# don't recommend shows related to shows they have seen before\n",
    "rating_df[:, \"related\"] .= false\n",
    "rating_df.related[read_recommendee_alpha(\"RelatedSeries\", \"all\").rating.!=0] .= true;\n",
    "rating_df[:, \"recap\"] .= false\n",
    "rating_df.recap[read_recommendee_alpha(\"RecapSeries\", \"all\").rating.!=0] .= true;\n",
    "\n",
    "rating_df.score = rating_df.score .- mean(filter(x -> !x.seen, rating_df).score);"
   ]
  },
  {
   "cell_type": "code",
   "execution_count": null,
   "id": "2f87ebbf-d246-43cc-8b07-79b4929318ea",
   "metadata": {},
   "outputs": [],
   "source": [
    "rec_df = innerjoin(anime_to_uid, rating_df, on = \"uid\");\n",
    "keepcols = [\n",
    "    \"animeid\",\n",
    "    \"uid\",\n",
    "    \"title\",\n",
    "    \"medium\",\n",
    "    \"num_episodes\",\n",
    "    \"average_episode_duration\",\n",
    "    \"start_date\",\n",
    "    \"genres\",\n",
    "    \"tags\",\n",
    "]\n",
    "for x in names(rating_df)\n",
    "    if x ∉ keepcols\n",
    "        push!(keepcols, x)\n",
    "    end\n",
    "end\n",
    "rec_df = rec_df[:, keepcols];"
   ]
  },
  {
   "cell_type": "markdown",
   "id": "84cfe9b5-e6d5-4360-93f5-d18b783b4a77",
   "metadata": {},
   "source": [
    "# Print debugging information"
   ]
  },
  {
   "cell_type": "code",
   "execution_count": null,
   "id": "89a34ece-a029-4b79-98a8-743d7aa89b22",
   "metadata": {},
   "outputs": [],
   "source": [
    "if DEBUG\n",
    "    df = get_recommendee_split(\"explicit\")\n",
    "    rss = sum((df.rating - rating_df.explicit[df.item]) .^ 2)\n",
    "    tss = sum((df.rating .- mean(df.rating)) .^ 2)\n",
    "    @info \"Debug Info\"\n",
    "    @info \"RMSE: $(sqrt(rss / length(df.rating)))\"\n",
    "    @info \"R2: $(1 - rss / tss)\"\n",
    "    @info \"Correlation: $(cor(df.rating, rating_df.explicit[df.item]))\"\n",
    "end"
   ]
  },
  {
   "cell_type": "code",
   "execution_count": null,
   "id": "43369775-7454-4784-8be2-c9dfbc828690",
   "metadata": {},
   "outputs": [],
   "source": [
    "for (content, name) in\n",
    "    [(\"explicit\", \"rated\"), (\"implicit\", \"watched\"), (\"ptw\", \"planned to watch\")]\n",
    "    n = length(get_recommendee_split(content).item)\n",
    "    @info \"$n items $name\"\n",
    "end"
   ]
  },
  {
   "cell_type": "markdown",
   "id": "6c2f0d81-6437-4f9e-9d67-804212c24d68",
   "metadata": {},
   "source": [
    "# Create display filters"
   ]
  },
  {
   "cell_type": "code",
   "execution_count": null,
   "id": "bc4fa33a-6a6c-4ee1-ac51-b45b306ea1e8",
   "metadata": {},
   "outputs": [],
   "source": [
    "display_filter(f) = (df; fn = identity) -> filter(fn ∘ f, df)\n",
    "inv(f) = (x...) -> f(x...; fn = !)\n",
    "seen = display_filter(x -> x.seen)\n",
    "related = display_filter(x -> x.related)\n",
    "recap = display_filter(x -> x.recap)\n",
    "ptw = display_filter(x -> x.ptw)\n",
    "tv = display_filter(x -> x.medium in [\"tv\", \"ona\"])\n",
    "top(n) = x -> first(sort(x, :score, rev = true), n);"
   ]
  },
  {
   "cell_type": "code",
   "execution_count": null,
   "id": "86abfc3e-9418-413a-b99a-bb048e44cbc4",
   "metadata": {},
   "outputs": [],
   "source": [
    "function is_recent(x)\n",
    "    if ismissing(x)\n",
    "        return false\n",
    "    end\n",
    "    (x > Dates.today() - Dates.Month(6)) && (x < Dates.today())\n",
    "end;\n",
    "recent = display_filter(x -> is_recent.(x.start_date));"
   ]
  },
  {
   "cell_type": "code",
   "execution_count": null,
   "id": "1869d3b1-da2e-42a6-be68-a37a73133828",
   "metadata": {},
   "outputs": [],
   "source": [
    "function outlier_filter(df::DataFrame, n::Integer, p::Number; fn::Function)\n",
    "    max_outliers = Int(floor(n * p)) + 1\n",
    "    df = df |> top(n + max_outliers) |> copy\n",
    "    q_imp = quantile(df.relative_implicit, p)\n",
    "    ϵ = eps(eltype(q_imp))\n",
    "    df = filter(\n",
    "        x -> fn(\n",
    "            (x.relative_implicit >= q_imp - ϵ) ||\n",
    "                (x.relative_implicit >= 1 && x.relative_explicit >= 1),\n",
    "        ),\n",
    "        df,\n",
    "    )\n",
    "    df |> top(n)\n",
    "end\n",
    "outlier_filter(n, p; fn = identity) = (x; fn = fn) -> outlier_filter(x, n, p; fn = fn);"
   ]
  },
  {
   "cell_type": "code",
   "execution_count": null,
   "id": "39308d35-d4cb-437d-a5c4-c4542b0b268f",
   "metadata": {},
   "outputs": [],
   "source": [
    "function display(df::DataFrame)\n",
    "    df = select(\n",
    "        df,\n",
    "        Not([\n",
    "            :recap,\n",
    "            :related,\n",
    "            :ptw,\n",
    "            :seen,\n",
    "            :animeid,\n",
    "            :uid,\n",
    "            :baseline_implicit,\n",
    "            :baseline_explicit,\n",
    "        ]),\n",
    "    )\n",
    "    if !DEBUG\n",
    "        df = select(df, Not([:explicit, :implicit, :relative_explicit, :relative_implicit]))\n",
    "    end\n",
    "    headers = titlecase.(replace.(names(df), \"_\" => \" \"))\n",
    "    headers = replace(\n",
    "        headers,\n",
    "        \"Medium\" => \"Type\",\n",
    "        \"Explicit\" => \"Rating\",\n",
    "        \"Implicit\" => \"Watch Probability\",\n",
    "        \"Relative Explicit\" => \"Relative Rating\",\n",
    "        \"Relative Implicit\" => \"Relative Watch Probability\",\n",
    "        \"Average Episode Duration\" => \"Episode Length\",\n",
    "        \"Num Episodes\" => \"Episodes\",\n",
    "    )\n",
    "    Base.show(\n",
    "        stdout,\n",
    "        MIME(\"text/html\"),\n",
    "        df;\n",
    "        allow_html_in_cells = true,\n",
    "        header = headers,\n",
    "        nosubheader = true,\n",
    "        row_number_column_title = \"Rank\",\n",
    "        top_left_str = \"\",\n",
    "    )\n",
    "end;"
   ]
  },
  {
   "cell_type": "code",
   "execution_count": null,
   "id": "9d7f1364-cfc2-475f-8d41-402b658afc9f",
   "metadata": {},
   "outputs": [],
   "source": [
    "curated_feed(n) = rec_df |> inv(seen) |> inv(related) |> outlier_filter(n, 0.1) |> display\n",
    "outlier_feed(n) =\n",
    "    rec_df |> inv(seen) |> inv(related) |> inv(outlier_filter(n, 0.1)) |> display\n",
    "continue_watching_tv(n) = rec_df |> tv |> related |> inv(seen) |> top(n) |> display\n",
    "continue_watching_specials(n) =\n",
    "    rec_df |> inv(tv) |> related |> inv(seen) |> top(n) |> display\n",
    "plan_to_watch(n) = rec_df |> ptw |> top(n) |> display;"
   ]
  }
 ],
 "metadata": {
  "kernelspec": {
   "display_name": "Julia 1.8.2",
   "language": "julia",
   "name": "julia-1.8"
  },
  "language_info": {
   "file_extension": ".jl",
   "mimetype": "application/julia",
   "name": "julia",
   "version": "1.8.2"
  }
 },
 "nbformat": 4,
 "nbformat_minor": 5
}
