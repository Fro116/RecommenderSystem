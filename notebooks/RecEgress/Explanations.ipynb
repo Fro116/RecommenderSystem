{
 "cells": [
  {
   "cell_type": "markdown",
   "id": "8569f4e0-f062-400e-b480-d6c237b18735",
   "metadata": {
    "editable": true,
    "slideshow": {
     "slide_type": ""
    },
    "tags": []
   },
   "source": [
    "# Explanations\n",
    "* Attaches a column to the recommendations about why the item was recommended"
   ]
  },
  {
   "cell_type": "code",
   "execution_count": null,
   "id": "16577dd0-4b98-48a2-a592-88182b7d3408",
   "metadata": {},
   "outputs": [],
   "source": [
    "import JSON"
   ]
  },
  {
   "cell_type": "code",
   "execution_count": null,
   "id": "e3e2a372-a784-4ffa-ac91-ec554e86d61e",
   "metadata": {},
   "outputs": [],
   "source": [
    "function get_utility_coefs(medium, task, alpha)\n",
    "    prev_log_level = Logging.min_enabled_level(Logging.global_logger())\n",
    "    Logging.disable_logging(Logging.Warn)\n",
    "    medium = \"anime\"\n",
    "    task = \"temporal_causal\"\n",
    "    m = read_params(\"$medium/$task/$alpha\")[\"m\"]\n",
    "    Logging.disable_logging(prev_log_level)\n",
    "    m = getfield(m, :fields)[:layers][1].paths\n",
    "    vcat(vec(m[1].W), vec(m[2].W))\n",
    "end"
   ]
  },
  {
   "cell_type": "code",
   "execution_count": null,
   "id": "8bfcb00d-8935-4ace-8b5c-7989b9d1ab9d",
   "metadata": {},
   "outputs": [],
   "source": [
    "function load_attributions(username, medium, task, alpha, items)\n",
    "    coefs = get_utility_coefs(medium, task, alpha)\n",
    "    cmd = [\n",
    "        \"python3\",\n",
    "        \"IntegratedGradients.py\",\n",
    "        \"--username\",\n",
    "        \"$username\",\n",
    "        \"--medium\",\n",
    "        \"$medium\",\n",
    "        \"--task\",\n",
    "        \"$task\",\n",
    "        \"--coefs\",\n",
    "        string.(coefs)...,\n",
    "        \"--items\",\n",
    "        string.(items)...,\n",
    "    ]\n",
    "    run(`$cmd`)\n",
    "    cache_fn = (\n",
    "        \"../../data/recommendations/$username/\" *\n",
    "        \"explanations/$medium/integrated_gradients.json\"\n",
    "    )\n",
    "    f = open(cache_fn)\n",
    "    attrs = JSON.parse(f)\n",
    "    close(f)\n",
    "    attrs\n",
    "end;"
   ]
  },
  {
   "cell_type": "code",
   "execution_count": null,
   "id": "277d5044-b7a4-4a20-8c4a-152f11d522a6",
   "metadata": {},
   "outputs": [],
   "source": [
    "function get_explanation(attrs, item, topn)\n",
    "    influences = attrs[\"attributions\"][string(item)]\n",
    "    sorted_attrs = sortperm(influences)\n",
    "    explanations = []\n",
    "    for n = 1:topn\n",
    "        idx = sorted_attrs[end+1-n]\n",
    "        if influences[idx] == 0\n",
    "            continue\n",
    "        end\n",
    "        for m in [\"anime\", \"manga\"]\n",
    "            uid = attrs[m][idx]\n",
    "            if uid < num_items(m)\n",
    "                push!(explanations, get_link(m, source, uid))\n",
    "            end\n",
    "        end\n",
    "    end\n",
    "    explanations\n",
    "end;"
   ]
  },
  {
   "cell_type": "code",
   "execution_count": null,
   "id": "d160b405-9347-46c1-83b5-9a7171f50da6",
   "metadata": {},
   "outputs": [],
   "source": [
    "function attach_explanations!(rec_df, medium, task, alpha, N)\n",
    "    items = rec_df.uid .- 1\n",
    "    attrs = load_attributions(username, medium, task, alpha, items)\n",
    "    expls = [get_explanation(attrs, x, N) for x in items]\n",
    "    formatted_expls = [join(string.(x), \", \") for x in expls]\n",
    "    col = :because_you_liked\n",
    "    rec_df[:, col] = formatted_expls\n",
    "    rec_df\n",
    "end;"
   ]
  }
 ],
 "metadata": {
  "kernelspec": {
   "display_name": "Julia 1.9.2",
   "language": "julia",
   "name": "julia-1.9"
  },
  "language_info": {
   "file_extension": ".jl",
   "mimetype": "application/julia",
   "name": "julia",
   "version": "1.9.2"
  }
 },
 "nbformat": 4,
 "nbformat_minor": 5
}
