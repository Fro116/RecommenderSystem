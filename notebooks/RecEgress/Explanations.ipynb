{
 "cells": [
  {
   "cell_type": "markdown",
   "id": "8569f4e0-f062-400e-b480-d6c237b18735",
   "metadata": {},
   "source": [
    "# Explanations"
   ]
  },
  {
   "cell_type": "code",
   "execution_count": 3,
   "id": "9d40729e-4c49-4d5d-8b78-398321c2f2b0",
   "metadata": {},
   "outputs": [],
   "source": [
    "# TODO distinguish between FMA <-> FMA:B and other alt versions (maybe by medium/type?)"
   ]
  },
  {
   "cell_type": "code",
   "execution_count": 4,
   "id": "fc3aef43-c808-487b-a45f-15088b081f25",
   "metadata": {},
   "outputs": [],
   "source": [
    "# function generate_explanations(items, feature)\n",
    "#     # uses linear interpolations to determine the item \n",
    "#     # that had the biggest impact on the feature\n",
    "#     p = read_recommendee_params(feature)\n",
    "#     noise = get_perturbations()\n",
    "#     alpha = p[\"alpha\"]\n",
    "#     A = alpha[items, :] .- alpha[items, 1]\n",
    "#     # if length(items) > 1\n",
    "#     #     A .-= mean(A, dims = 1)\n",
    "#     # end\n",
    "\n",
    "#     explanations = []\n",
    "#     for i = 1:length(items)\n",
    "#         minval = Inf\n",
    "#         idx = nothing\n",
    "#         for j = 1:size(A)[2]\n",
    "#             if isa(noise[j], Identity)\n",
    "#                 continue\n",
    "#             end\n",
    "#             if A[i, j] < minval\n",
    "#                 minval = A[i, j]\n",
    "#                 idx = j\n",
    "#             end\n",
    "#         end\n",
    "\n",
    "#         expl = (\n",
    "#             item = noise[idx].item,\n",
    "#             medium = noise[idx].medium,\n",
    "#             noise = noise[idx],\n",
    "#             value = A[i, idx],\n",
    "#             kind = \"change\",\n",
    "#         )\n",
    "#         push!(explanations, expl)\n",
    "#     end\n",
    "#     explanations\n",
    "# end\n",
    "\n",
    "# @memoize function get_link_map(source)\n",
    "#     uid_to_link = Dict()\n",
    "#     for medium in ALL_MEDIUMS\n",
    "#         a = get_media_to_uid(medium, source)\n",
    "#         for (uid, link) in Iterators.zip(a.uid, a.title)\n",
    "#             uid_to_link[(medium, uid + 1)] = link\n",
    "#         end\n",
    "#     end\n",
    "#     uid_to_link\n",
    "# end\n",
    "\n",
    "# function format_explanations!(df, explanations, links)\n",
    "#     reasons = []\n",
    "#     metadata = []\n",
    "#     for ex in explanations\n",
    "#         if ex[:value] > 100 # TODO tune threshold\n",
    "#             push!(reasons, \"$(ex[:value])\")\n",
    "#         else\n",
    "#             key = (ex[:medium], ex[:item])\n",
    "#             push!(reasons, links[key])\n",
    "#         end\n",
    "#         push!(metadata, (ex[:value], ex[:noise]))\n",
    "#     end\n",
    "#     df[:, :explanation] = reasons\n",
    "#     df[:, :metadata] = metadata\n",
    "#     df\n",
    "# end\n",
    "\n",
    "# function explain(df, feature, source)\n",
    "#     explanations = generate_explanations(df.uid, feature)\n",
    "#     links = get_link_map(source)\n",
    "#     format_explanations!(df, explanations, links)\n",
    "#     df\n",
    "# end\n",
    "# explain(feature, source) = df -> explain(df, feature, source);"
   ]
  }
 ],
 "metadata": {
  "kernelspec": {
   "display_name": "Julia 1.9.2",
   "language": "julia",
   "name": "julia-1.9"
  },
  "language_info": {
   "file_extension": ".jl",
   "mimetype": "application/julia",
   "name": "julia",
   "version": "1.9.2"
  }
 },
 "nbformat": 4,
 "nbformat_minor": 5
}
