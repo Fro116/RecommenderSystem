{
 "cells": [
  {
   "cell_type": "code",
   "execution_count": 1,
   "id": "79559bef-810a-402f-ad21-52092ec933f4",
   "metadata": {},
   "outputs": [],
   "source": [
    "const name = \"ItemSimilarity\";"
   ]
  },
  {
   "cell_type": "code",
   "execution_count": 2,
   "id": "69b5a19a-24f5-4730-afe2-f451d27d18e3",
   "metadata": {},
   "outputs": [],
   "source": [
    "using CSV\n",
    "using DataFrames\n",
    "using LinearAlgebra\n",
    "import NBInclude: @nbinclude\n",
    "using SparseArrays\n",
    "@nbinclude(\"../TrainingAlphas/Alpha.ipynb\");"
   ]
  },
  {
   "cell_type": "code",
   "execution_count": 3,
   "id": "eba43860-7763-48cc-b677-64cd6e6c8e55",
   "metadata": {
    "tags": []
   },
   "outputs": [],
   "source": [
    "anime_to_uid = DataFrame(CSV.File(\"../../data/processed_data/anime_to_uid.csv\"));\n",
    "anime = DataFrame(CSV.File(\"../../data/raw_data/anime.csv\", ntasks = 1));\n",
    "anime_to_uid = innerjoin(anime_to_uid, anime, on = \"anime_id\");"
   ]
  },
  {
   "cell_type": "code",
   "execution_count": 184,
   "id": "214dc3db-87a6-4adc-abd4-7af4d0bb978b",
   "metadata": {},
   "outputs": [
    {
     "name": "stderr",
     "output_type": "stream",
     "text": [
      "\u001b[38;5;3m\u001b[1m[ \u001b[22m\u001b[39m\u001b[38;5;3m\u001b[1mWarning: \u001b[22m\u001b[39m20220707 22:39:55 type Main.ItemCFLayer does not exist in workspace; reconstructing\n",
      "\u001b[38;5;3m\u001b[1m[ \u001b[22m\u001b[39m\u001b[38;5;3m\u001b[1mWarning: \u001b[22m\u001b[39m20220707 22:39:56 type Main.StorageLayer does not exist in workspace; reconstructing\n",
      "\u001b[38;5;3m\u001b[1m[ \u001b[22m\u001b[39m\u001b[38;5;3m\u001b[1mWarning: \u001b[22m\u001b[39m20220707 22:39:56 type Main.Hyperparams does not exist in workspace; reconstructing\n"
     ]
    }
   ],
   "source": [
    "W = read_params(\"NeuralExplicitItemCFUntuned\")[\"m\"][1].W;"
   ]
  },
  {
   "cell_type": "code",
   "execution_count": 186,
   "id": "a04c976a-cce1-467b-9cf0-caa7adee5e90",
   "metadata": {
    "tags": []
   },
   "outputs": [],
   "source": [
    "W = read_params(read_params(\"ExplicitItemCF\")[\"S\"])[\"S\"];"
   ]
  },
  {
   "cell_type": "code",
   "execution_count": 175,
   "id": "135d6b35-fed5-467a-97ad-665f74d10e89",
   "metadata": {},
   "outputs": [
    {
     "name": "stderr",
     "output_type": "stream",
     "text": [
      "\u001b[38;5;3m\u001b[1m[ \u001b[22m\u001b[39m\u001b[38;5;3m\u001b[1mWarning: \u001b[22m\u001b[39m20220707 22:39:08 type Main.ItemCFLayer does not exist in workspace; reconstructing\n",
      "\u001b[38;5;3m\u001b[1m[ \u001b[22m\u001b[39m\u001b[38;5;3m\u001b[1mWarning: \u001b[22m\u001b[39m20220707 22:39:09 type Main.StorageLayer does not exist in workspace; reconstructing\n",
      "\u001b[38;5;3m\u001b[1m[ \u001b[22m\u001b[39m\u001b[38;5;3m\u001b[1mWarning: \u001b[22m\u001b[39m20220707 22:39:09 type Main.Hyperparams does not exist in workspace; reconstructing\n"
     ]
    }
   ],
   "source": [
    "W = read_params(\"NeuralImplicitItemCFUntuned\")[\"m\"][1].W;"
   ]
  },
  {
   "cell_type": "code",
   "execution_count": 176,
   "id": "fcffb3a7-f499-4906-bf24-0b9b16bea6f2",
   "metadata": {},
   "outputs": [],
   "source": [
    "# m = read_params(\"NeuralExplicitAutoencoderUntuned\")[\"m\"]\n",
    "# R = collect(m[end-1].weight')\n",
    "# W = zeros(Float32, num_items(), num_items())\n",
    "# @showprogress for i = 1:size(R)[2]\n",
    "#     for j = 1:size(R)[2]\n",
    "#         W[i, j] = norm(R[:, i] - R[:, j])\n",
    "#     end\n",
    "# end\n",
    "# W = 1 ./ W;"
   ]
  },
  {
   "cell_type": "code",
   "execution_count": 177,
   "id": "69014711-0fef-4efc-b9f8-b6e132e3f2e7",
   "metadata": {},
   "outputs": [],
   "source": [
    "for i = 1:size(W)[1]\n",
    "    W[i, i] = Inf\n",
    "end;"
   ]
  },
  {
   "cell_type": "code",
   "execution_count": 178,
   "id": "44769062-cd87-4646-b65b-27e64abab1c3",
   "metadata": {
    "tags": []
   },
   "outputs": [],
   "source": [
    "function get_neighborhood(item, W, K; transpose = false)\n",
    "    if transpose\n",
    "        weights = W[item, :]\n",
    "    else\n",
    "        weights = W[:, item]\n",
    "    end\n",
    "    order = sortperm(weights, rev = true)[1:K]\n",
    "    order[1:K], weights[order[1:K]]\n",
    "end;"
   ]
  },
  {
   "cell_type": "code",
   "execution_count": 179,
   "id": "f9d4be81-1f2b-4bfb-b23d-8cd19d63335f",
   "metadata": {},
   "outputs": [],
   "source": [
    "function get_series(df)\n",
    "    df = copy(df)\n",
    "    df[!, :uid] = df[:, :anime] .- 1\n",
    "    sim = innerjoin(df, anime_to_uid, on = \"uid\")\n",
    "    sort(sim, :weight, rev = true)\n",
    "end;"
   ]
  },
  {
   "cell_type": "code",
   "execution_count": 180,
   "id": "ae2820b5-bb54-4777-8b9f-e0e15144a931",
   "metadata": {},
   "outputs": [],
   "source": [
    "function display_related_series(mal_uid)\n",
    "    uid = only(anime_to_uid[anime_to_uid.anime_id.==mal_uid, :uid])\n",
    "    items, weights = get_neighborhood(uid + 1, W, 30)\n",
    "    df = DataFrame(anime = items, weight = weights)\n",
    "    get_series(df)\n",
    "end;"
   ]
  },
  {
   "cell_type": "code",
   "execution_count": 181,
   "id": "9a4c7fd6-ec13-45be-a2e0-a52a01ebd46c",
   "metadata": {},
   "outputs": [],
   "source": [
    "ENV[\"LINES\"] = 30;"
   ]
  },
  {
   "cell_type": "code",
   "execution_count": 185,
   "id": "995d184c-e231-40bc-a2fe-ff36af78a243",
   "metadata": {},
   "outputs": [
    {
     "data": {
      "text/html": [
       "<div class=\"data-frame\"><p>30 rows × 23 columns (omitted printing of 18 columns)</p><table class=\"data-frame\"><thead><tr><th></th><th>anime</th><th>weight</th><th>uid</th><th>anime_id</th><th>title</th></tr><tr><th></th><th title=\"Int64\">Int64</th><th title=\"Float32\">Float32</th><th title=\"Int64\">Int64</th><th title=\"Int64\">Int64</th><th title=\"String\">String</th></tr></thead><tbody><tr><th>1</th><td>18467</td><td>0.999868</td><td>18466</td><td>9756</td><td>Mahou Shoujo Madoka★Magica</td></tr><tr><th>2</th><td>7776</td><td>0.198524</td><td>7775</td><td>11981</td><td>Mahou Shoujo Madoka★Magica Movie 3: Hangyaku no Monogatari</td></tr><tr><th>3</th><td>14472</td><td>0.152269</td><td>14471</td><td>11979</td><td>Mahou Shoujo Madoka★Magica Movie 2: Eien no Monogatari</td></tr><tr><th>4</th><td>11666</td><td>0.148111</td><td>11665</td><td>11977</td><td>Mahou Shoujo Madoka★Magica Movie 1: Hajimari no Monogatari</td></tr><tr><th>5</th><td>18231</td><td>0.0888934</td><td>18230</td><td>5081</td><td>Bakemonogatari</td></tr><tr><th>6</th><td>18018</td><td>0.0870935</td><td>18017</td><td>17074</td><td>Monogatari Series: Second Season</td></tr><tr><th>7</th><td>282</td><td>0.0850711</td><td>281</td><td>11741</td><td>Fate/Zero 2nd Season</td></tr><tr><th>8</th><td>15702</td><td>0.0767691</td><td>15701</td><td>7311</td><td>Suzumiya Haruhi no Shoushitsu</td></tr><tr><th>9</th><td>2835</td><td>0.0756835</td><td>2834</td><td>10087</td><td>Fate/Zero</td></tr><tr><th>10</th><td>4044</td><td>0.0740393</td><td>4043</td><td>9253</td><td>Steins;Gate</td></tr><tr><th>11</th><td>17160</td><td>0.0689545</td><td>17159</td><td>34599</td><td>Made in Abyss</td></tr><tr><th>12</th><td>4973</td><td>0.0674881</td><td>4972</td><td>18679</td><td>Kill la Kill</td></tr><tr><th>13</th><td>2140</td><td>0.0668769</td><td>2139</td><td>30</td><td>Neon Genesis Evangelion</td></tr><tr><th>14</th><td>12008</td><td>0.0662369</td><td>12007</td><td>2001</td><td>Tengen Toppa Gurren Lagann</td></tr><tr><th>15</th><td>3570</td><td>0.063745</td><td>3569</td><td>31181</td><td>Owarimonogatari</td></tr><tr><th>16</th><td>8976</td><td>0.0617808</td><td>8975</td><td>13601</td><td>Psycho-Pass</td></tr><tr><th>17</th><td>2002</td><td>0.060689</td><td>2001</td><td>13125</td><td>Shinsekai yori</td></tr><tr><th>18</th><td>3445</td><td>0.0584826</td><td>3444</td><td>35247</td><td>Owarimonogatari 2nd Season</td></tr><tr><th>19</th><td>17976</td><td>0.057774</td><td>17975</td><td>15689</td><td>Nekomonogatari: Kuro</td></tr><tr><th>20</th><td>1338</td><td>0.0561199</td><td>1337</td><td>25835</td><td>Shirobako</td></tr><tr><th>21</th><td>1313</td><td>0.0549239</td><td>1312</td><td>849</td><td>Suzumiya Haruhi no Yuuutsu</td></tr><tr><th>22</th><td>8175</td><td>0.0543117</td><td>8174</td><td>934</td><td>Higurashi no Naku Koro ni</td></tr><tr><th>23</th><td>9857</td><td>0.0539292</td><td>9856</td><td>10721</td><td>Mawaru Penguindrum</td></tr><tr><th>24</th><td>1011</td><td>0.0530701</td><td>1010</td><td>31758</td><td>Kizumonogatari III: Reiketsu-hen</td></tr><tr><th>25</th><td>4601</td><td>0.0530239</td><td>4600</td><td>27989</td><td>Hibike! Euphonium</td></tr><tr><th>26</th><td>401</td><td>0.0521559</td><td>400</td><td>4181</td><td>Clannad: After Story</td></tr><tr><th>27</th><td>17717</td><td>0.0519731</td><td>17716</td><td>21855</td><td>Hanamonogatari</td></tr><tr><th>28</th><td>16468</td><td>0.0516738</td><td>16467</td><td>6594</td><td>Katanagatari</td></tr><tr><th>29</th><td>9027</td><td>0.0514667</td><td>9026</td><td>2251</td><td>Baccano!</td></tr><tr><th>30</th><td>6038</td><td>0.051178</td><td>6037</td><td>35557</td><td>Houseki no Kuni (TV)</td></tr></tbody></table></div>"
      ],
      "text/latex": [
       "\\begin{tabular}{r|cccccc}\n",
       "\t& anime & weight & uid & anime\\_id & title & \\\\\n",
       "\t\\hline\n",
       "\t& Int64 & Float32 & Int64 & Int64 & String & \\\\\n",
       "\t\\hline\n",
       "\t1 & 18467 & 0.999868 & 18466 & 9756 & Mahou Shoujo Madoka★Magica & $\\dots$ \\\\\n",
       "\t2 & 7776 & 0.198524 & 7775 & 11981 & Mahou Shoujo Madoka★Magica Movie 3: Hangyaku no Monogatari & $\\dots$ \\\\\n",
       "\t3 & 14472 & 0.152269 & 14471 & 11979 & Mahou Shoujo Madoka★Magica Movie 2: Eien no Monogatari & $\\dots$ \\\\\n",
       "\t4 & 11666 & 0.148111 & 11665 & 11977 & Mahou Shoujo Madoka★Magica Movie 1: Hajimari no Monogatari & $\\dots$ \\\\\n",
       "\t5 & 18231 & 0.0888934 & 18230 & 5081 & Bakemonogatari & $\\dots$ \\\\\n",
       "\t6 & 18018 & 0.0870935 & 18017 & 17074 & Monogatari Series: Second Season & $\\dots$ \\\\\n",
       "\t7 & 282 & 0.0850711 & 281 & 11741 & Fate/Zero 2nd Season & $\\dots$ \\\\\n",
       "\t8 & 15702 & 0.0767691 & 15701 & 7311 & Suzumiya Haruhi no Shoushitsu & $\\dots$ \\\\\n",
       "\t9 & 2835 & 0.0756835 & 2834 & 10087 & Fate/Zero & $\\dots$ \\\\\n",
       "\t10 & 4044 & 0.0740393 & 4043 & 9253 & Steins;Gate & $\\dots$ \\\\\n",
       "\t11 & 17160 & 0.0689545 & 17159 & 34599 & Made in Abyss & $\\dots$ \\\\\n",
       "\t12 & 4973 & 0.0674881 & 4972 & 18679 & Kill la Kill & $\\dots$ \\\\\n",
       "\t13 & 2140 & 0.0668769 & 2139 & 30 & Neon Genesis Evangelion & $\\dots$ \\\\\n",
       "\t14 & 12008 & 0.0662369 & 12007 & 2001 & Tengen Toppa Gurren Lagann & $\\dots$ \\\\\n",
       "\t15 & 3570 & 0.063745 & 3569 & 31181 & Owarimonogatari & $\\dots$ \\\\\n",
       "\t16 & 8976 & 0.0617808 & 8975 & 13601 & Psycho-Pass & $\\dots$ \\\\\n",
       "\t17 & 2002 & 0.060689 & 2001 & 13125 & Shinsekai yori & $\\dots$ \\\\\n",
       "\t18 & 3445 & 0.0584826 & 3444 & 35247 & Owarimonogatari 2nd Season & $\\dots$ \\\\\n",
       "\t19 & 17976 & 0.057774 & 17975 & 15689 & Nekomonogatari: Kuro & $\\dots$ \\\\\n",
       "\t20 & 1338 & 0.0561199 & 1337 & 25835 & Shirobako & $\\dots$ \\\\\n",
       "\t21 & 1313 & 0.0549239 & 1312 & 849 & Suzumiya Haruhi no Yuuutsu & $\\dots$ \\\\\n",
       "\t22 & 8175 & 0.0543117 & 8174 & 934 & Higurashi no Naku Koro ni & $\\dots$ \\\\\n",
       "\t23 & 9857 & 0.0539292 & 9856 & 10721 & Mawaru Penguindrum & $\\dots$ \\\\\n",
       "\t24 & 1011 & 0.0530701 & 1010 & 31758 & Kizumonogatari III: Reiketsu-hen & $\\dots$ \\\\\n",
       "\t25 & 4601 & 0.0530239 & 4600 & 27989 & Hibike! Euphonium & $\\dots$ \\\\\n",
       "\t26 & 401 & 0.0521559 & 400 & 4181 & Clannad: After Story & $\\dots$ \\\\\n",
       "\t27 & 17717 & 0.0519731 & 17716 & 21855 & Hanamonogatari & $\\dots$ \\\\\n",
       "\t28 & 16468 & 0.0516738 & 16467 & 6594 & Katanagatari & $\\dots$ \\\\\n",
       "\t29 & 9027 & 0.0514667 & 9026 & 2251 & Baccano! & $\\dots$ \\\\\n",
       "\t30 & 6038 & 0.051178 & 6037 & 35557 & Houseki no Kuni (TV) & $\\dots$ \\\\\n",
       "\\end{tabular}\n"
      ],
      "text/plain": [
       "\u001b[1m30×23 DataFrame\u001b[0m\n",
       "\u001b[1m Row \u001b[0m│\u001b[1m anime \u001b[0m\u001b[1m weight    \u001b[0m\u001b[1m uid   \u001b[0m\u001b[1m anime_id \u001b[0m\u001b[1m title                             \u001b[0m\u001b[1m m\u001b[0m ⋯\n",
       "\u001b[1m     \u001b[0m│\u001b[90m Int64 \u001b[0m\u001b[90m Float32   \u001b[0m\u001b[90m Int64 \u001b[0m\u001b[90m Int64    \u001b[0m\u001b[90m String                            \u001b[0m\u001b[90m S\u001b[0m ⋯\n",
       "─────┼──────────────────────────────────────────────────────────────────────────\n",
       "   1 │ 18467  0.999868   18466      9756  Mahou Shoujo Madoka★Magica         { ⋯\n",
       "   2 │  7776  0.198524    7775     11981  Mahou Shoujo Madoka★Magica Movie…  {\n",
       "   3 │ 14472  0.152269   14471     11979  Mahou Shoujo Madoka★Magica Movie…  {\n",
       "   4 │ 11666  0.148111   11665     11977  Mahou Shoujo Madoka★Magica Movie…  {\n",
       "   5 │ 18231  0.0888934  18230      5081  Bakemonogatari                     { ⋯\n",
       "   6 │ 18018  0.0870935  18017     17074  Monogatari Series: Second Season   {\n",
       "   7 │   282  0.0850711    281     11741  Fate/Zero 2nd Season               {\n",
       "   8 │ 15702  0.0767691  15701      7311  Suzumiya Haruhi no Shoushitsu      {\n",
       "   9 │  2835  0.0756835   2834     10087  Fate/Zero                          { ⋯\n",
       "  10 │  4044  0.0740393   4043      9253  Steins;Gate                        {\n",
       "  11 │ 17160  0.0689545  17159     34599  Made in Abyss                      {\n",
       "  ⋮  │   ⋮        ⋮        ⋮       ⋮                      ⋮                    ⋱\n",
       "  21 │  1313  0.0549239   1312       849  Suzumiya Haruhi no Yuuutsu         {\n",
       "  22 │  8175  0.0543117   8174       934  Higurashi no Naku Koro ni          { ⋯\n",
       "  23 │  9857  0.0539292   9856     10721  Mawaru Penguindrum                 {\n",
       "  24 │  1011  0.0530701   1010     31758  Kizumonogatari III: Reiketsu-hen   {\n",
       "  25 │  4601  0.0530239   4600     27989  Hibike! Euphonium                  {\n",
       "  26 │   401  0.0521559    400      4181  Clannad: After Story               { ⋯\n",
       "  27 │ 17717  0.0519731  17716     21855  Hanamonogatari                     {\n",
       "  28 │ 16468  0.0516738  16467      6594  Katanagatari                       {\n",
       "  29 │  9027  0.0514667   9026      2251  Baccano!                           {\n",
       "  30 │  6038  0.051178    6037     35557  Houseki no Kuni (TV)               { ⋯\n",
       "\u001b[36m                                                   18 columns and 9 rows omitted\u001b[0m"
      ]
     },
     "execution_count": 187,
     "metadata": {},
     "output_type": "execute_result"
    }
   ],
   "source": [
    "display_related_series(9756)"
   ]
  },
  {
   "cell_type": "code",
   "execution_count": null,
   "id": "73367b4a-7d22-4899-bf22-747ed80ef87b",
   "metadata": {},
   "outputs": [],
   "source": []
  },
  {
   "cell_type": "code",
   "execution_count": null,
   "id": "828976c8-7a7a-43ca-bcb8-ffaedfbc6600",
   "metadata": {},
   "outputs": [],
   "source": []
  }
 ],
 "metadata": {
  "kernelspec": {
   "display_name": "Julia 1.8.0-rc1",
   "language": "julia",
   "name": "julia-1.8"
  },
  "language_info": {
   "file_extension": ".jl",
   "mimetype": "application/julia",
   "name": "julia",
   "version": "1.8.0"
  }
 },
 "nbformat": 4,
 "nbformat_minor": 5
}
