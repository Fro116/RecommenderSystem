{
 "cells": [
  {
   "cell_type": "code",
   "execution_count": null,
   "id": "79559bef-810a-402f-ad21-52092ec933f4",
   "metadata": {},
   "outputs": [],
   "source": [
    "const name = \"ItemSimilarity\";"
   ]
  },
  {
   "cell_type": "code",
   "execution_count": null,
   "id": "69b5a19a-24f5-4730-afe2-f451d27d18e3",
   "metadata": {},
   "outputs": [],
   "source": [
    "using CSV\n",
    "using DataFrames\n",
    "using LinearAlgebra\n",
    "import NBInclude: @nbinclude\n",
    "using SparseArrays\n",
    "@nbinclude(\"../TrainingAlphas/Alpha.ipynb\");"
   ]
  },
  {
   "cell_type": "code",
   "execution_count": null,
   "id": "eba43860-7763-48cc-b677-64cd6e6c8e55",
   "metadata": {
    "tags": []
   },
   "outputs": [],
   "source": [
    "anime_to_uid = DataFrame(CSV.File(\"../../data/processed_data/anime_to_uid.csv\"));\n",
    "anime = DataFrame(\n",
    "    CSV.File(\"../../data/processed_data/anime.csv\", ntasks = 1; stringtype = String),\n",
    ")\n",
    "anime_to_uid = innerjoin(anime_to_uid, anime, on = \"animeid\" => \"anime_id\");"
   ]
  },
  {
   "cell_type": "code",
   "execution_count": null,
   "id": "022066c3-cfeb-40f0-bdcc-5cf2801ee272",
   "metadata": {
    "tags": []
   },
   "outputs": [],
   "source": [
    "Logging.disable_logging(Logging.Warn)\n",
    "Z = read_params(\"all/Transformer/norm/checkpoints/6\")[\"m\"].embed.embeddings.item.embedding\n",
    "Z = Z[:, 1:num_items()];"
   ]
  },
  {
   "cell_type": "code",
   "execution_count": null,
   "id": "6186d6a3-2064-4514-bf24-7b56d2de60c9",
   "metadata": {},
   "outputs": [],
   "source": [
    "#cosine distance\n",
    "normalize!.(eachcol(Z))\n",
    "W = Z' * Z;"
   ]
  },
  {
   "cell_type": "code",
   "execution_count": null,
   "id": "44769062-cd87-4646-b65b-27e64abab1c3",
   "metadata": {
    "tags": []
   },
   "outputs": [],
   "source": [
    "function get_neighborhood(item, W, K; transpose = false)\n",
    "    if transpose\n",
    "        weights = W[item, :]\n",
    "    else\n",
    "        weights = W[:, item]\n",
    "    end\n",
    "    order = sortperm(weights, rev = true)[1:K]\n",
    "    order[1:K], weights[order[1:K]]\n",
    "end;"
   ]
  },
  {
   "cell_type": "code",
   "execution_count": null,
   "id": "f9d4be81-1f2b-4bfb-b23d-8cd19d63335f",
   "metadata": {},
   "outputs": [],
   "source": [
    "function get_series(df)\n",
    "    df = copy(df)\n",
    "    df[!, :uid] = df[:, :anime] .- 1\n",
    "    sim = innerjoin(df, anime_to_uid, on = \"uid\")\n",
    "    sort(sim, :weight, rev = true)\n",
    "end;"
   ]
  },
  {
   "cell_type": "code",
   "execution_count": null,
   "id": "75888477-9a4c-4740-9e34-8b02fc6209f0",
   "metadata": {},
   "outputs": [],
   "source": [
    "function display(df::DataFrame)\n",
    "    df = select(df, :title, :weight)\n",
    "    headers = titlecase.(replace.(names(df), \"_\" => \" \"))\n",
    "    Base.show(\n",
    "        stdout,\n",
    "        MIME(\"text/html\"),\n",
    "        df;\n",
    "        allow_html_in_cells = true,\n",
    "        header = headers,\n",
    "        nosubheader = true,\n",
    "        row_number_column_title = \"Rank\",\n",
    "        top_left_str = \"\",\n",
    "    )\n",
    "end;"
   ]
  },
  {
   "cell_type": "code",
   "execution_count": null,
   "id": "ae2820b5-bb54-4777-8b9f-e0e15144a931",
   "metadata": {},
   "outputs": [],
   "source": [
    "function display_related_series(mal_uid)\n",
    "    uid = only(anime_to_uid[anime_to_uid.animeid.==mal_uid, :uid])\n",
    "    items, weights = get_neighborhood(uid + 1, W, 30)\n",
    "    df = DataFrame(anime = items, weight = weights)\n",
    "    get_series(df) |> display\n",
    "end;"
   ]
  },
  {
   "cell_type": "code",
   "execution_count": null,
   "id": "9a4c7fd6-ec13-45be-a2e0-a52a01ebd46c",
   "metadata": {},
   "outputs": [],
   "source": [
    "ENV[\"DATAFRAMES_COLUMNS\"] = 300;\n",
    "ENV[\"DATAFRAMES_ROWS\"] = 300;"
   ]
  },
  {
   "cell_type": "code",
   "execution_count": null,
   "id": "3f2dcd38-a71e-4c2e-b46d-57495ea93221",
   "metadata": {},
   "outputs": [],
   "source": [
    "# good series to test: 721, 290, 189, 39535, 82, 12467"
   ]
  },
  {
   "cell_type": "code",
   "execution_count": null,
   "id": "42638f47-a674-4da4-9ac2-4d43ce00133e",
   "metadata": {
    "tags": []
   },
   "outputs": [],
   "source": [
    "display_related_series(721)"
   ]
  }
 ],
 "metadata": {
  "kernelspec": {
   "display_name": "Julia 1.8.3",
   "language": "julia",
   "name": "julia-1.8"
  },
  "language_info": {
   "file_extension": ".jl",
   "mimetype": "application/julia",
   "name": "julia",
   "version": "1.8.3"
  }
 },
 "nbformat": 4,
 "nbformat_minor": 5
}
