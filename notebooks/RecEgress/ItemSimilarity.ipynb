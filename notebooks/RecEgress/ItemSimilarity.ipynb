{
 "cells": [
  {
   "cell_type": "code",
   "execution_count": null,
   "id": "63fccdf7-427a-4f7a-8741-168aa696c672",
   "metadata": {
    "editable": true,
    "slideshow": {
     "slide_type": ""
    },
    "tags": [
     "parameters"
    ]
   },
   "outputs": [],
   "source": [
    "malid = 1"
   ]
  },
  {
   "cell_type": "code",
   "execution_count": null,
   "id": "79559bef-810a-402f-ad21-52092ec933f4",
   "metadata": {},
   "outputs": [],
   "source": [
    "const medium = \"anime\";"
   ]
  },
  {
   "cell_type": "code",
   "execution_count": null,
   "id": "69b5a19a-24f5-4730-afe2-f451d27d18e3",
   "metadata": {},
   "outputs": [],
   "source": [
    "using CSV\n",
    "using DataFrames\n",
    "using LinearAlgebra\n",
    "import NBInclude: @nbinclude\n",
    "using SparseArrays\n",
    "using StatsBase: cor\n",
    "using Statistics: mean\n",
    "@nbinclude(\"../TrainingAlphas/Alpha.ipynb\");"
   ]
  },
  {
   "cell_type": "code",
   "execution_count": null,
   "id": "9a4c7fd6-ec13-45be-a2e0-a52a01ebd46c",
   "metadata": {},
   "outputs": [],
   "source": [
    "ENV[\"DATAFRAMES_COLUMNS\"] = 300;\n",
    "ENV[\"DATAFRAMES_ROWS\"] = 300;"
   ]
  },
  {
   "cell_type": "code",
   "execution_count": null,
   "id": "eba43860-7763-48cc-b677-64cd6e6c8e55",
   "metadata": {
    "tags": []
   },
   "outputs": [],
   "source": [
    "function get_media_df(medium)\n",
    "    media_to_uid = DataFrame(CSV.File(\"../../data/processed_data/$(medium)_to_uid.csv\"))\n",
    "    media = DataFrame(\n",
    "        CSV.File(\n",
    "            \"../../data/processed_data/$(medium).csv\",\n",
    "            ntasks = 1;\n",
    "            stringtype = String,\n",
    "        ),\n",
    "    )\n",
    "    innerjoin(media_to_uid, media, on = \"mediaid\" => \"$(medium)_id\")\n",
    "end;"
   ]
  },
  {
   "cell_type": "code",
   "execution_count": null,
   "id": "0f10d791-142e-4719-a95e-1afc41330b10",
   "metadata": {},
   "outputs": [],
   "source": [
    "function get_neighborhood(item, W, K; transpose = false)\n",
    "    weights = W[:, item]\n",
    "    order = sortperm(weights, rev = true)[1:K]\n",
    "    order[1:K], weights[order[1:K]]\n",
    "end;"
   ]
  },
  {
   "cell_type": "code",
   "execution_count": null,
   "id": "f9d4be81-1f2b-4bfb-b23d-8cd19d63335f",
   "metadata": {},
   "outputs": [],
   "source": [
    "function get_series(df, media_to_uid)\n",
    "    df = copy(df)\n",
    "    df[!, :uid] = df[:, Symbol(medium)] .- 1\n",
    "    sim = innerjoin(df, media_to_uid, on = \"uid\")\n",
    "    sort(sim, :weight, rev = true)\n",
    "end;"
   ]
  },
  {
   "cell_type": "code",
   "execution_count": null,
   "id": "75888477-9a4c-4740-9e34-8b02fc6209f0",
   "metadata": {},
   "outputs": [],
   "source": [
    "function display(df::DataFrame)\n",
    "    df = select(df, :title, :weight, :uid)\n",
    "    headers = titlecase.(Base.replace.(names(df), \"_\" => \" \"))\n",
    "    Base.show(\n",
    "        stdout,\n",
    "        MIME(\"text/html\"),\n",
    "        df;\n",
    "        allow_html_in_cells = true,\n",
    "        header = headers,\n",
    "        row_number_column_title = \"Rank\",\n",
    "        top_left_str = \"\",\n",
    "    )\n",
    "end;"
   ]
  },
  {
   "cell_type": "code",
   "execution_count": null,
   "id": "ae2820b5-bb54-4777-8b9f-e0e15144a931",
   "metadata": {},
   "outputs": [],
   "source": [
    "function display_related_series(mal_uid, media_to_uid, W)\n",
    "    uid = only(media_to_uid[media_to_uid[:, \"mediaid\"].==mal_uid, :uid])\n",
    "    items, weights = get_neighborhood(uid + 1, W, 100)\n",
    "    df = DataFrame(weight = weights)\n",
    "    df[:, medium] = items\n",
    "    get_series(df, media_to_uid) |> display\n",
    "end;"
   ]
  },
  {
   "cell_type": "code",
   "execution_count": null,
   "id": "e03453df-44da-4ac6-beac-9528264016cb",
   "metadata": {},
   "outputs": [],
   "source": [
    "media_df = get_media_df(medium)\n",
    "sim_weights = read_params(\"$medium/Nondirectional/WatchSimilarity\", true)[\"S\"];"
   ]
  },
  {
   "cell_type": "code",
   "execution_count": null,
   "id": "a7506c13-db4c-41e3-b0a8-bf054d35b6cb",
   "metadata": {
    "tags": []
   },
   "outputs": [],
   "source": [
    "display_related_series(malid, media_df, sim_weights)"
   ]
  }
 ],
 "metadata": {
  "kernelspec": {
   "display_name": "Julia 1.9.4",
   "language": "julia",
   "name": "julia-1.9"
  },
  "language_info": {
   "file_extension": ".jl",
   "mimetype": "application/julia",
   "name": "julia",
   "version": "1.9.4"
  }
 },
 "nbformat": 4,
 "nbformat_minor": 5
}
