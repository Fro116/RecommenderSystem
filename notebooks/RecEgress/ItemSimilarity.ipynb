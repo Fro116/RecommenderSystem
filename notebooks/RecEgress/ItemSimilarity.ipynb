{
 "cells": [
  {
   "cell_type": "code",
   "execution_count": 1,
   "id": "79559bef-810a-402f-ad21-52092ec933f4",
   "metadata": {},
   "outputs": [],
   "source": [
    "const name = \"all/ItemSimilarity\";"
   ]
  },
  {
   "cell_type": "code",
   "execution_count": 1,
   "id": "69b5a19a-24f5-4730-afe2-f451d27d18e3",
   "metadata": {},
   "outputs": [],
   "source": [
    "using CSV\n",
    "using DataFrames\n",
    "using LinearAlgebra\n",
    "import NBInclude: @nbinclude\n",
    "using SparseArrays\n",
    "using StatsBase: cor\n",
    "using Statistics: mean\n",
    "@nbinclude(\"../TrainingAlphas/Alpha.ipynb\");"
   ]
  },
  {
   "cell_type": "code",
   "execution_count": 2,
   "id": "eba43860-7763-48cc-b677-64cd6e6c8e55",
   "metadata": {
    "tags": []
   },
   "outputs": [],
   "source": [
    "anime_to_uid = DataFrame(CSV.File(\"../../data/processed_data/anime_to_uid.csv\"));\n",
    "anime = DataFrame(\n",
    "    CSV.File(\"../../data/processed_data/anime.csv\", ntasks = 1; stringtype = String),\n",
    ")\n",
    "anime_to_uid = innerjoin(anime_to_uid, anime, on = \"animeid\" => \"anime_id\");"
   ]
  },
  {
   "cell_type": "code",
   "execution_count": 3,
   "id": "81ae4550-ff7f-4b7f-8d49-647f71f044e2",
   "metadata": {},
   "outputs": [
    {
     "data": {
      "text/plain": [
       "get_data (generic function with 1 method)"
      ]
     },
     "execution_count": 3,
     "metadata": {},
     "output_type": "execute_result"
    }
   ],
   "source": [
    "function sparset(df)\n",
    "    sparse(df.user, df.item, df.rating, num_users(), num_items())\n",
    "end;\n",
    "\n",
    "function get_data()\n",
    "    df = reduce(\n",
    "        cat,\n",
    "        [\n",
    "            get_split(x, y, z; fields = [:user, :item, :timestamp, :rating]) for\n",
    "            x in [\"training\", \"validation\", \"test\"] for y in [\"random\", \"temporal\"] for\n",
    "            z in [\"implicit\"]\n",
    "        ],\n",
    "    )\n",
    "    sparse(df), sparset(df)\n",
    "end;"
   ]
  },
  {
   "cell_type": "code",
   "execution_count": 4,
   "id": "861aee42-f499-472d-ade0-0dceb2918465",
   "metadata": {
    "tags": []
   },
   "outputs": [
    {
     "data": {
      "text/plain": [
       "(sparse(Int32[16, 452, 2657, 4872, 6504, 6679, 7532, 8491, 8882, 9057  …  17838, 18092, 18610, 19243, 20703, 20872, 21232, 21283, 21643, 22167], [1, 1, 1, 1, 1, 1, 1, 1, 1, 1  …  5452310, 5452310, 5452310, 5452310, 5452310, 5452310, 5452310, 5452310, 5452310, 5452310], Float32[1.0, 1.0, 1.0, 1.0, 1.0, 1.0, 1.0, 1.0, 1.0, 1.0  …  1.0, 1.0, 1.0, 1.0, 1.0, 1.0, 1.0, 1.0, 1.0, 1.0], 24182, 5452310), sparse(Int32[24703, 48418, 57472, 69660, 173308, 182565, 191301, 200983, 206037, 227644  …  2433513, 2547988, 2667024, 3938330, 3950768, 3993419, 4535938, 5100094, 5419981, 5443334], [1, 1, 1, 1, 1, 1, 1, 1, 1, 1  …  24182, 24182, 24182, 24182, 24182, 24182, 24182, 24182, 24182, 24182], Float32[1.0, 1.0, 1.0, 1.0, 1.0, 1.0, 1.0, 1.0, 1.0, 1.0  …  1.0, 1.0, 1.0, 1.0, 1.0, 1.0, 1.0, 1.0, 1.0, 1.0], 5452310, 24182))"
      ]
     },
     "execution_count": 4,
     "metadata": {},
     "output_type": "execute_result"
    }
   ],
   "source": [
    "M, Mt = get_data();"
   ]
  },
  {
   "cell_type": "code",
   "execution_count": 6,
   "id": "bf0b1b18-f93c-4932-bbf9-9322049760a7",
   "metadata": {
    "tags": []
   },
   "outputs": [
    {
     "name": "stderr",
     "output_type": "stream",
     "text": [
      "\u001b[32mProgress: 100%|███████████████████████████| Time: 0:01:53 ( 0.11  s/it)\u001b[39m\n"
     ]
    }
   ],
   "source": [
    "W = zeros(Float32, num_items(), num_items());\n",
    "counts = sum(M, dims = 2)\n",
    "@tprogress Threads.@threads for i = 1:num_items()\n",
    "    if counts[i] > 0\n",
    "        intersection = M * Mt[:, i]\n",
    "        union = (counts - intersection) .+ counts[i]\n",
    "        W[:, i] = intersection ./ union\n",
    "    end\n",
    "end"
   ]
  },
  {
   "cell_type": "code",
   "execution_count": 7,
   "id": "0f10d791-142e-4719-a95e-1afc41330b10",
   "metadata": {},
   "outputs": [],
   "source": [
    "function get_neighborhood(item, W, K; transpose = false)\n",
    "    weights = W[:, item]\n",
    "    order = sortperm(weights, rev = true)[1:K]\n",
    "    order[1:K], weights[order[1:K]]\n",
    "end;"
   ]
  },
  {
   "cell_type": "code",
   "execution_count": 8,
   "id": "f9d4be81-1f2b-4bfb-b23d-8cd19d63335f",
   "metadata": {},
   "outputs": [],
   "source": [
    "function get_series(df)\n",
    "    df = copy(df)\n",
    "    df[!, :uid] = df[:, :anime] .- 1\n",
    "    sim = innerjoin(df, anime_to_uid, on = \"uid\")\n",
    "    sort(sim, :weight, rev = true)\n",
    "end;"
   ]
  },
  {
   "cell_type": "code",
   "execution_count": 9,
   "id": "75888477-9a4c-4740-9e34-8b02fc6209f0",
   "metadata": {},
   "outputs": [],
   "source": [
    "function display(df::DataFrame)\n",
    "    df = select(df, :title, :weight, :uid)\n",
    "    headers = titlecase.(Base.replace.(names(df), \"_\" => \" \"))\n",
    "    Base.show(\n",
    "        stdout,\n",
    "        MIME(\"text/html\"),\n",
    "        df;\n",
    "        allow_html_in_cells = true,\n",
    "        header = headers,\n",
    "        nosubheader = true,\n",
    "        row_number_column_title = \"Rank\",\n",
    "        top_left_str = \"\",\n",
    "    )\n",
    "end;"
   ]
  },
  {
   "cell_type": "code",
   "execution_count": 10,
   "id": "ae2820b5-bb54-4777-8b9f-e0e15144a931",
   "metadata": {},
   "outputs": [],
   "source": [
    "function display_related_series(mal_uid)\n",
    "    uid = only(anime_to_uid[anime_to_uid.animeid.==mal_uid, :uid])\n",
    "    items, weights = get_neighborhood(uid + 1, W, 100)\n",
    "    df = DataFrame(anime = items, weight = weights)\n",
    "    get_series(df) |> display\n",
    "end;"
   ]
  },
  {
   "cell_type": "code",
   "execution_count": 11,
   "id": "9a4c7fd6-ec13-45be-a2e0-a52a01ebd46c",
   "metadata": {},
   "outputs": [],
   "source": [
    "ENV[\"DATAFRAMES_COLUMNS\"] = 300;\n",
    "ENV[\"DATAFRAMES_ROWS\"] = 300;"
   ]
  },
  {
   "cell_type": "code",
   "execution_count": 12,
   "id": "3f2dcd38-a71e-4c2e-b46d-57495ea93221",
   "metadata": {},
   "outputs": [],
   "source": [
    "# good series to test: 721, 290, 189, 39535, 82, 12467, 9756, 37521, 49387"
   ]
  },
  {
   "cell_type": "code",
   "execution_count": 15,
   "id": "a7506c13-db4c-41e3-b0a8-bf054d35b6cb",
   "metadata": {
    "tags": []
   },
   "outputs": [
    {
     "data": {
      "text/html": [
       "<div class = \"data-frame\" style = \"overflow-x: scroll;\"><table class = \"data-frame\" style = \"margin-bottom: 6px;\"><thead><tr class = \"header headerLastRow\"><th class = \"rowNumber\" style = \"font-weight: bold; text-align: right;\">Rank</th><th style = \"text-align: left;\">Title</th><th style = \"text-align: left;\">Weight</th><th style = \"text-align: left;\">Uid</th></tr></thead><tbody><tr><td class = \"rowNumber\" style = \"font-weight: bold; text-align: right;\">1</td><td style = \"text-align: left;\">Mushoku Tensei: Isekai Ittara Honki Dasu</td><td style = \"text-align: right;\">1.0</td><td style = \"text-align: right;\">12888</td></tr><tr><td class = \"rowNumber\" style = \"font-weight: bold; text-align: right;\">2</td><td style = \"text-align: left;\">Mushoku Tensei: Isekai Ittara Honki Dasu Part 2</td><td style = \"text-align: right;\">0.618675</td><td style = \"text-align: right;\">4232</td></tr><tr><td class = \"rowNumber\" style = \"font-weight: bold; text-align: right;\">3</td><td style = \"text-align: left;\">Tensei shitara Slime Datta Ken 2nd Season</td><td style = \"text-align: right;\">0.444997</td><td style = \"text-align: right;\">16719</td></tr><tr><td class = \"rowNumber\" style = \"font-weight: bold; text-align: right;\">4</td><td style = \"text-align: left;\">Tensei shitara Slime Datta Ken</td><td style = \"text-align: right;\">0.41715</td><td style = \"text-align: right;\">17087</td></tr><tr><td class = \"rowNumber\" style = \"font-weight: bold; text-align: right;\">5</td><td style = \"text-align: left;\">Tate no Yuusha no Nariagari</td><td style = \"text-align: right;\">0.407717</td><td style = \"text-align: right;\">10033</td></tr><tr><td class = \"rowNumber\" style = \"font-weight: bold; text-align: right;\">6</td><td style = \"text-align: left;\">Re:Zero kara Hajimeru Isekai Seikatsu 2nd Season</td><td style = \"text-align: right;\">0.382462</td><td style = \"text-align: right;\">23922</td></tr><tr><td class = \"rowNumber\" style = \"font-weight: bold; text-align: right;\">7</td><td style = \"text-align: left;\">Tensei shitara Slime Datta Ken 2nd Season Part 2</td><td style = \"text-align: right;\">0.37739</td><td style = \"text-align: right;\">22006</td></tr><tr><td class = \"rowNumber\" style = \"font-weight: bold; text-align: right;\">8</td><td style = \"text-align: left;\">Re:Zero kara Hajimeru Isekai Seikatsu 2nd Season Part 2</td><td style = \"text-align: right;\">0.370387</td><td style = \"text-align: right;\">22106</td></tr><tr><td class = \"rowNumber\" style = \"font-weight: bold; text-align: right;\">9</td><td style = \"text-align: left;\">Horimiya</td><td style = \"text-align: right;\">0.368468</td><td style = \"text-align: right;\">23264</td></tr><tr><td class = \"rowNumber\" style = \"font-weight: bold; text-align: right;\">10</td><td style = \"text-align: left;\">Maou Gakuin no Futekigousha: Shijou Saikyou no Maou no Shiso, Tensei shite Shison-tachi no Gakkou e Kayou</td><td style = \"text-align: right;\">0.359462</td><td style = \"text-align: right;\">944</td></tr><tr><td class = \"rowNumber\" style = \"font-weight: bold; text-align: right;\">11</td><td style = \"text-align: left;\">Dr. Stone</td><td style = \"text-align: right;\">0.345622</td><td style = \"text-align: right;\">18603</td></tr><tr><td class = \"rowNumber\" style = \"font-weight: bold; text-align: right;\">12</td><td style = \"text-align: left;\">Dr. Stone: Stone Wars</td><td style = \"text-align: right;\">0.345515</td><td style = \"text-align: right;\">7093</td></tr><tr><td class = \"rowNumber\" style = \"font-weight: bold; text-align: right;\">13</td><td style = \"text-align: left;\">Sono Bisque Doll wa Koi wo Suru</td><td style = \"text-align: right;\">0.341926</td><td style = \"text-align: right;\">18592</td></tr><tr><td class = \"rowNumber\" style = \"font-weight: bold; text-align: right;\">14</td><td style = \"text-align: left;\">Spy x Family</td><td style = \"text-align: right;\">0.341613</td><td style = \"text-align: right;\">8949</td></tr><tr><td class = \"rowNumber\" style = \"font-weight: bold; text-align: right;\">15</td><td style = \"text-align: left;\">Jujutsu Kaisen</td><td style = \"text-align: right;\">0.341327</td><td style = \"text-align: right;\">4154</td></tr><tr><td class = \"rowNumber\" style = \"font-weight: bold; text-align: right;\">16</td><td style = \"text-align: left;\">Kono Subarashii Sekai ni Shukufuku wo!</td><td style = \"text-align: right;\">0.341031</td><td style = \"text-align: right;\">13956</td></tr><tr><td class = \"rowNumber\" style = \"font-weight: bold; text-align: right;\">17</td><td style = \"text-align: left;\">Kaguya-sama wa Kokurasetai: Tensai-tachi no Renai Zunousen</td><td style = \"text-align: right;\">0.339361</td><td style = \"text-align: right;\">20810</td></tr><tr><td class = \"rowNumber\" style = \"font-weight: bold; text-align: right;\">18</td><td style = \"text-align: left;\">Kaguya-sama wa Kokurasetai? Tensai-tachi no Renai Zunousen</td><td style = \"text-align: right;\">0.337463</td><td style = \"text-align: right;\">20209</td></tr><tr><td class = \"rowNumber\" style = \"font-weight: bold; text-align: right;\">19</td><td style = \"text-align: left;\">Kono Subarashii Sekai ni Shukufuku wo! 2</td><td style = \"text-align: right;\">0.336554</td><td style = \"text-align: right;\">16114</td></tr><tr><td class = \"rowNumber\" style = \"font-weight: bold; text-align: right;\">20</td><td style = \"text-align: left;\">Youkoso Jitsuryoku Shijou Shugi no Kyoushitsu e</td><td style = \"text-align: right;\">0.336043</td><td style = \"text-align: right;\">14308</td></tr><tr><td class = \"rowNumber\" style = \"font-weight: bold; text-align: right;\">21</td><td style = \"text-align: left;\">Re:Zero kara Hajimeru Isekai Seikatsu</td><td style = \"text-align: right;\">0.332122</td><td style = \"text-align: right;\">1227</td></tr><tr><td class = \"rowNumber\" style = \"font-weight: bold; text-align: right;\">22</td><td style = \"text-align: left;\">Enen no Shouboutai</td><td style = \"text-align: right;\">0.327179</td><td style = \"text-align: right;\">1663</td></tr><tr><td class = \"rowNumber\" style = \"font-weight: bold; text-align: right;\">23</td><td style = \"text-align: left;\">Seishun Buta Yarou wa Bunny Girl Senpai no Yume wo Minai</td><td style = \"text-align: right;\">0.325464</td><td style = \"text-align: right;\">5660</td></tr><tr><td class = \"rowNumber\" style = \"font-weight: bold; text-align: right;\">24</td><td style = \"text-align: left;\">Kanojo, Okarishimasu</td><td style = \"text-align: right;\">0.32382</td><td style = \"text-align: right;\">794</td></tr><tr><td class = \"rowNumber\" style = \"font-weight: bold; text-align: right;\">25</td><td style = \"text-align: left;\">Kimetsu no Yaiba: Yuukaku-hen</td><td style = \"text-align: right;\">0.322477</td><td style = \"text-align: right;\">4501</td></tr><tr><td class = \"rowNumber\" style = \"font-weight: bold; text-align: right;\">26</td><td style = \"text-align: left;\">Dungeon ni Deai wo Motomeru no wa Machigatteiru Darou ka II</td><td style = \"text-align: right;\">0.322318</td><td style = \"text-align: right;\">5173</td></tr><tr><td class = \"rowNumber\" style = \"font-weight: bold; text-align: right;\">27</td><td style = \"text-align: left;\">The God of High School</td><td style = \"text-align: right;\">0.320987</td><td style = \"text-align: right;\">17573</td></tr><tr><td class = \"rowNumber\" style = \"font-weight: bold; text-align: right;\">28</td><td style = \"text-align: left;\">Overlord</td><td style = \"text-align: right;\">0.32095</td><td style = \"text-align: right;\">21996</td></tr><tr><td class = \"rowNumber\" style = \"font-weight: bold; text-align: right;\">29</td><td style = \"text-align: left;\">5-toubun no Hanayome</td><td style = \"text-align: right;\">0.316584</td><td style = \"text-align: right;\">6478</td></tr><tr><td class = \"rowNumber\" style = \"font-weight: bold; text-align: right;\">30</td><td style = \"text-align: left;\">Vinland Saga</td><td style = \"text-align: right;\">0.316459</td><td style = \"text-align: right;\">13136</td></tr><tr><td class = \"rowNumber\" style = \"font-weight: bold; text-align: right;\">31</td><td style = \"text-align: left;\">Kami no Tou</td><td style = \"text-align: right;\">0.316261</td><td style = \"text-align: right;\">18154</td></tr><tr><td class = \"rowNumber\" style = \"font-weight: bold; text-align: right;\">32</td><td style = \"text-align: left;\">Goblin Slayer</td><td style = \"text-align: right;\">0.314504</td><td style = \"text-align: right;\">7354</td></tr><tr><td class = \"rowNumber\" style = \"font-weight: bold; text-align: right;\">33</td><td style = \"text-align: left;\">Shingeki no Kyojin: The Final Season</td><td style = \"text-align: right;\">0.313473</td><td style = \"text-align: right;\">2656</td></tr><tr><td class = \"rowNumber\" style = \"font-weight: bold; text-align: right;\">34</td><td style = \"text-align: left;\">Dungeon ni Deai wo Motomeru no wa Machigatteiru Darou ka</td><td style = \"text-align: right;\">0.312206</td><td style = \"text-align: right;\">23129</td></tr><tr><td class = \"rowNumber\" style = \"font-weight: bold; text-align: right;\">35</td><td style = \"text-align: left;\">Tokyo Revengers</td><td style = \"text-align: right;\">0.312141</td><td style = \"text-align: right;\">12077</td></tr><tr><td class = \"rowNumber\" style = \"font-weight: bold; text-align: right;\">36</td><td style = \"text-align: left;\">Fumetsu no Anata e</td><td style = \"text-align: right;\">0.311348</td><td style = \"text-align: right;\">24111</td></tr><tr><td class = \"rowNumber\" style = \"font-weight: bold; text-align: right;\">37</td><td style = \"text-align: left;\">One Punch Man 2nd Season</td><td style = \"text-align: right;\">0.311062</td><td style = \"text-align: right;\">6521</td></tr><tr><td class = \"rowNumber\" style = \"font-weight: bold; text-align: right;\">38</td><td style = \"text-align: left;\">Overlord II</td><td style = \"text-align: right;\">0.310583</td><td style = \"text-align: right;\">3511</td></tr><tr><td class = \"rowNumber\" style = \"font-weight: bold; text-align: right;\">39</td><td style = \"text-align: left;\">Sekai Saikou no Ansatsusha, Isekai Kizoku ni Tensei suru</td><td style = \"text-align: right;\">0.30894</td><td style = \"text-align: right;\">21173</td></tr><tr><td class = \"rowNumber\" style = \"font-weight: bold; text-align: right;\">40</td><td style = \"text-align: left;\">86</td><td style = \"text-align: right;\">0.307701</td><td style = \"text-align: right;\">9240</td></tr><tr><td class = \"rowNumber\" style = \"font-weight: bold; text-align: right;\">41</td><td style = \"text-align: left;\">Kimetsu no Yaiba Movie: Mugen Ressha-hen</td><td style = \"text-align: right;\">0.307477</td><td style = \"text-align: right;\">7650</td></tr><tr><td class = \"rowNumber\" style = \"font-weight: bold; text-align: right;\">42</td><td style = \"text-align: left;\">Arifureta Shokugyou de Sekai Saikyou</td><td style = \"text-align: right;\">0.305508</td><td style = \"text-align: right;\">2937</td></tr><tr><td class = \"rowNumber\" style = \"font-weight: bold; text-align: right;\">43</td><td style = \"text-align: left;\">Overlord III</td><td style = \"text-align: right;\">0.305356</td><td style = \"text-align: right;\">112</td></tr><tr><td class = \"rowNumber\" style = \"font-weight: bold; text-align: right;\">44</td><td style = \"text-align: left;\">Kaifuku Jutsushi no Yarinaoshi</td><td style = \"text-align: right;\">0.30531</td><td style = \"text-align: right;\">8097</td></tr><tr><td class = \"rowNumber\" style = \"font-weight: bold; text-align: right;\">45</td><td style = \"text-align: left;\">Black Clover</td><td style = \"text-align: right;\">0.29791</td><td style = \"text-align: right;\">15785</td></tr><tr><td class = \"rowNumber\" style = \"font-weight: bold; text-align: right;\">46</td><td style = \"text-align: left;\">Kimetsu no Yaiba</td><td style = \"text-align: right;\">0.296881</td><td style = \"text-align: right;\">20871</td></tr><tr><td class = \"rowNumber\" style = \"font-weight: bold; text-align: right;\">47</td><td style = \"text-align: left;\">Sword Art Online: Alicization</td><td style = \"text-align: right;\">0.294986</td><td style = \"text-align: right;\">12596</td></tr><tr><td class = \"rowNumber\" style = \"font-weight: bold; text-align: right;\">48</td><td style = \"text-align: left;\">5-toubun no Hanayome ∬</td><td style = \"text-align: right;\">0.294502</td><td style = \"text-align: right;\">12428</td></tr><tr><td class = \"rowNumber\" style = \"font-weight: bold; text-align: right;\">49</td><td style = \"text-align: left;\">Isekai Maou to Shoukan Shoujo no Dorei Majutsu</td><td style = \"text-align: right;\">0.293645</td><td style = \"text-align: right;\">20012</td></tr><tr><td class = \"rowNumber\" style = \"font-weight: bold; text-align: right;\">50</td><td style = \"text-align: left;\">Boku no Hero Academia 4th Season</td><td style = \"text-align: right;\">0.293111</td><td style = \"text-align: right;\">1981</td></tr><tr><td class = \"rowNumber\" style = \"font-weight: bold; text-align: right;\">51</td><td style = \"text-align: left;\">Darling in the FranXX</td><td style = \"text-align: right;\">0.29231</td><td style = \"text-align: right;\">9400</td></tr><tr><td class = \"rowNumber\" style = \"font-weight: bold; text-align: right;\">52</td><td style = \"text-align: left;\">Dungeon ni Deai wo Motomeru no wa Machigatteiru Darou ka III</td><td style = \"text-align: right;\">0.290254</td><td style = \"text-align: right;\">5382</td></tr><tr><td class = \"rowNumber\" style = \"font-weight: bold; text-align: right;\">53</td><td style = \"text-align: left;\">Tonikaku Kawaii</td><td style = \"text-align: right;\">0.289211</td><td style = \"text-align: right;\">18434</td></tr><tr><td class = \"rowNumber\" style = \"font-weight: bold; text-align: right;\">54</td><td style = \"text-align: left;\">Shingeki no Kyojin Season 3 Part 2</td><td style = \"text-align: right;\">0.289072</td><td style = \"text-align: right;\">4871</td></tr><tr><td class = \"rowNumber\" style = \"font-weight: bold; text-align: right;\">55</td><td style = \"text-align: left;\">Chainsaw Man</td><td style = \"text-align: right;\">0.288025</td><td style = \"text-align: right;\">23230</td></tr><tr><td class = \"rowNumber\" style = \"font-weight: bold; text-align: right;\">56</td><td style = \"text-align: left;\">Boku no Hero Academia 5th Season</td><td style = \"text-align: right;\">0.287386</td><td style = \"text-align: right;\">8571</td></tr><tr><td class = \"rowNumber\" style = \"font-weight: bold; text-align: right;\">57</td><td style = \"text-align: left;\">Hige wo Soru. Soshite Joshikousei wo Hirou.</td><td style = \"text-align: right;\">0.287345</td><td style = \"text-align: right;\">11030</td></tr><tr><td class = \"rowNumber\" style = \"font-weight: bold; text-align: right;\">58</td><td style = \"text-align: left;\">Shinchou Yuusha: Kono Yuusha ga Ore Tueee Kuse ni Shinchou Sugiru</td><td style = \"text-align: right;\">0.286349</td><td style = \"text-align: right;\">18896</td></tr><tr><td class = \"rowNumber\" style = \"font-weight: bold; text-align: right;\">59</td><td style = \"text-align: left;\">Mob Psycho 100 II</td><td style = \"text-align: right;\">0.286094</td><td style = \"text-align: right;\">10165</td></tr><tr><td class = \"rowNumber\" style = \"font-weight: bold; text-align: right;\">60</td><td style = \"text-align: left;\">Komi-san wa, Comyushou desu.</td><td style = \"text-align: right;\">0.285104</td><td style = \"text-align: right;\">17879</td></tr><tr><td class = \"rowNumber\" style = \"font-weight: bold; text-align: right;\">61</td><td style = \"text-align: left;\">Shingeki no Kyojin Season 3</td><td style = \"text-align: right;\">0.284786</td><td style = \"text-align: right;\">10849</td></tr><tr><td class = \"rowNumber\" style = \"font-weight: bold; text-align: right;\">62</td><td style = \"text-align: left;\">Ijiranaide, Nagatoro-san</td><td style = \"text-align: right;\">0.283226</td><td style = \"text-align: right;\">12739</td></tr><tr><td class = \"rowNumber\" style = \"font-weight: bold; text-align: right;\">63</td><td style = \"text-align: left;\">Yahari Ore no Seishun Love Comedy wa Machigatteiru.</td><td style = \"text-align: right;\">0.281288</td><td style = \"text-align: right;\">7935</td></tr><tr><td class = \"rowNumber\" style = \"font-weight: bold; text-align: right;\">64</td><td style = \"text-align: left;\">Hataraku Maou-sama!</td><td style = \"text-align: right;\">0.281074</td><td style = \"text-align: right;\">21567</td></tr><tr><td class = \"rowNumber\" style = \"font-weight: bold; text-align: right;\">65</td><td style = \"text-align: left;\">Mob Psycho 100</td><td style = \"text-align: right;\">0.280736</td><td style = \"text-align: right;\">21856</td></tr><tr><td class = \"rowNumber\" style = \"font-weight: bold; text-align: right;\">66</td><td style = \"text-align: left;\">Kono Subarashii Sekai ni Shukufuku wo! Movie: Kurenai Densetsu</td><td style = \"text-align: right;\">0.280263</td><td style = \"text-align: right;\">12433</td></tr><tr><td class = \"rowNumber\" style = \"font-weight: bold; text-align: right;\">67</td><td style = \"text-align: left;\">No Game No Life</td><td style = \"text-align: right;\">0.277764</td><td style = \"text-align: right;\">16818</td></tr><tr><td class = \"rowNumber\" style = \"font-weight: bold; text-align: right;\">68</td><td style = \"text-align: left;\">Shingeki no Kyojin: The Final Season Part 2</td><td style = \"text-align: right;\">0.277622</td><td style = \"text-align: right;\">11009</td></tr><tr><td class = \"rowNumber\" style = \"font-weight: bold; text-align: right;\">69</td><td style = \"text-align: left;\">Boku no Hero Academia 3rd Season</td><td style = \"text-align: right;\">0.276772</td><td style = \"text-align: right;\">14326</td></tr><tr><td class = \"rowNumber\" style = \"font-weight: bold; text-align: right;\">70</td><td style = \"text-align: left;\">Sword Art Online: Alicization - War of Underworld</td><td style = \"text-align: right;\">0.276542</td><td style = \"text-align: right;\">7123</td></tr><tr><td class = \"rowNumber\" style = \"font-weight: bold; text-align: right;\">71</td><td style = \"text-align: left;\">Enen no Shouboutai: Ni no Shou</td><td style = \"text-align: right;\">0.275953</td><td style = \"text-align: right;\">5432</td></tr><tr><td class = \"rowNumber\" style = \"font-weight: bold; text-align: right;\">72</td><td style = \"text-align: left;\">Yakusoku no Neverland</td><td style = \"text-align: right;\">0.275476</td><td style = \"text-align: right;\">7316</td></tr><tr><td class = \"rowNumber\" style = \"font-weight: bold; text-align: right;\">73</td><td style = \"text-align: left;\">Kaguya-sama wa Kokurasetai: Ultra Romantic</td><td style = \"text-align: right;\">0.273128</td><td style = \"text-align: right;\">4429</td></tr><tr><td class = \"rowNumber\" style = \"font-weight: bold; text-align: right;\">74</td><td style = \"text-align: left;\">Yahari Ore no Seishun Love Comedy wa Machigatteiru. Zoku</td><td style = \"text-align: right;\">0.271721</td><td style = \"text-align: right;\">22020</td></tr><tr><td class = \"rowNumber\" style = \"font-weight: bold; text-align: right;\">75</td><td style = \"text-align: left;\">Tate no Yuusha no Nariagari Season 2</td><td style = \"text-align: right;\">0.270968</td><td style = \"text-align: right;\">13662</td></tr><tr><td class = \"rowNumber\" style = \"font-weight: bold; text-align: right;\">76</td><td style = \"text-align: left;\">Yahari Ore no Seishun Love Comedy wa Machigatteiru. Kan</td><td style = \"text-align: right;\">0.270291</td><td style = \"text-align: right;\">13925</td></tr><tr><td class = \"rowNumber\" style = \"font-weight: bold; text-align: right;\">77</td><td style = \"text-align: left;\">Shingeki no Kyojin Season 2</td><td style = \"text-align: right;\">0.268396</td><td style = \"text-align: right;\">14992</td></tr><tr><td class = \"rowNumber\" style = \"font-weight: bold; text-align: right;\">78</td><td style = \"text-align: left;\">Dororo</td><td style = \"text-align: right;\">0.266968</td><td style = \"text-align: right;\">14754</td></tr><tr><td class = \"rowNumber\" style = \"font-weight: bold; text-align: right;\">79</td><td style = \"text-align: left;\">Kenja no Mago</td><td style = \"text-align: right;\">0.265782</td><td style = \"text-align: right;\">12857</td></tr><tr><td class = \"rowNumber\" style = \"font-weight: bold; text-align: right;\">80</td><td style = \"text-align: left;\">Sword Art Online II</td><td style = \"text-align: right;\">0.264987</td><td style = \"text-align: right;\">194</td></tr><tr><td class = \"rowNumber\" style = \"font-weight: bold; text-align: right;\">81</td><td style = \"text-align: left;\">Charlotte</td><td style = \"text-align: right;\">0.264728</td><td style = \"text-align: right;\">17062</td></tr><tr><td class = \"rowNumber\" style = \"font-weight: bold; text-align: right;\">82</td><td style = \"text-align: left;\">Boku no Hero Academia 2nd Season</td><td style = \"text-align: right;\">0.264302</td><td style = \"text-align: right;\">11225</td></tr><tr><td class = \"rowNumber\" style = \"font-weight: bold; text-align: right;\">83</td><td style = \"text-align: left;\">Akame ga Kill!</td><td style = \"text-align: right;\">0.262863</td><td style = \"text-align: right;\">20417</td></tr><tr><td class = \"rowNumber\" style = \"font-weight: bold; text-align: right;\">84</td><td style = \"text-align: left;\">Nanatsu no Taizai</td><td style = \"text-align: right;\">0.25975</td><td style = \"text-align: right;\">17040</td></tr><tr><td class = \"rowNumber\" style = \"font-weight: bold; text-align: right;\">85</td><td style = \"text-align: left;\">Sword Art Online: Alicization - War of Underworld 2nd Season</td><td style = \"text-align: right;\">0.259125</td><td style = \"text-align: right;\">2985</td></tr><tr><td class = \"rowNumber\" style = \"font-weight: bold; text-align: right;\">86</td><td style = \"text-align: left;\">Nanatsu no Taizai: Imashime no Fukkatsu</td><td style = \"text-align: right;\">0.256771</td><td style = \"text-align: right;\">11328</td></tr><tr><td class = \"rowNumber\" style = \"font-weight: bold; text-align: right;\">87</td><td style = \"text-align: left;\">Rakudai Kishi no Cavalry</td><td style = \"text-align: right;\">0.25646</td><td style = \"text-align: right;\">18198</td></tr><tr><td class = \"rowNumber\" style = \"font-weight: bold; text-align: right;\">88</td><td style = \"text-align: left;\">One Punch Man</td><td style = \"text-align: right;\">0.25612</td><td style = \"text-align: right;\">6678</td></tr><tr><td class = \"rowNumber\" style = \"font-weight: bold; text-align: right;\">89</td><td style = \"text-align: left;\">Ansatsu Kyoushitsu</td><td style = \"text-align: right;\">0.255928</td><td style = \"text-align: right;\">5120</td></tr><tr><td class = \"rowNumber\" style = \"font-weight: bold; text-align: right;\">90</td><td style = \"text-align: left;\">Shokugeki no Souma</td><td style = \"text-align: right;\">0.252887</td><td style = \"text-align: right;\">7294</td></tr><tr><td class = \"rowNumber\" style = \"font-weight: bold; text-align: right;\">91</td><td style = \"text-align: left;\">Ousama Ranking</td><td style = \"text-align: right;\">0.252761</td><td style = \"text-align: right;\">6169</td></tr><tr><td class = \"rowNumber\" style = \"font-weight: bold; text-align: right;\">92</td><td style = \"text-align: left;\">Koe no Katachi</td><td style = \"text-align: right;\">0.252514</td><td style = \"text-align: right;\">9056</td></tr><tr><td class = \"rowNumber\" style = \"font-weight: bold; text-align: right;\">93</td><td style = \"text-align: left;\">Boku no Hero Academia</td><td style = \"text-align: right;\">0.252234</td><td style = \"text-align: right;\">21642</td></tr><tr><td class = \"rowNumber\" style = \"font-weight: bold; text-align: right;\">94</td><td style = \"text-align: left;\">Yakusoku no Neverland 2nd Season</td><td style = \"text-align: right;\">0.25159</td><td style = \"text-align: right;\">8179</td></tr><tr><td class = \"rowNumber\" style = \"font-weight: bold; text-align: right;\">95</td><td style = \"text-align: left;\">Violet Evergarden</td><td style = \"text-align: right;\">0.250658</td><td style = \"text-align: right;\">19862</td></tr><tr><td class = \"rowNumber\" style = \"font-weight: bold; text-align: right;\">96</td><td style = \"text-align: left;\">Kimi no Na wa.</td><td style = \"text-align: right;\">0.249387</td><td style = \"text-align: right;\">8881</td></tr><tr><td class = \"rowNumber\" style = \"font-weight: bold; text-align: right;\">97</td><td style = \"text-align: left;\">Mahouka Koukou no Rettousei</td><td style = \"text-align: right;\">0.249043</td><td style = \"text-align: right;\">18632</td></tr><tr><td class = \"rowNumber\" style = \"font-weight: bold; text-align: right;\">98</td><td style = \"text-align: left;\">Kumo desu ga, Nani ka?</td><td style = \"text-align: right;\">0.248955</td><td style = \"text-align: right;\">21432</td></tr><tr><td class = \"rowNumber\" style = \"font-weight: bold; text-align: right;\">99</td><td style = \"text-align: left;\">Kobayashi-san Chi no Maid Dragon</td><td style = \"text-align: right;\">0.24875</td><td style = \"text-align: right;\">248</td></tr><tr><td class = \"rowNumber\" style = \"font-weight: bold; text-align: right;\">100</td><td style = \"text-align: left;\">Made in Abyss</td><td style = \"text-align: right;\">0.248587</td><td style = \"text-align: right;\">1362</td></tr></tbody></table></div>"
      ]
     },
     "metadata": {},
     "output_type": "display_data"
    }
   ],
   "source": [
    "display_related_series(39535)"
   ]
  },
  {
   "cell_type": "code",
   "execution_count": 14,
   "id": "91f3efc5-fb95-4ec6-a8b1-6b1a61842d60",
   "metadata": {
    "tags": []
   },
   "outputs": [
    {
     "name": "stderr",
     "output_type": "stream",
     "text": [
      "\u001b[32mProgress: 100%|███████████████████████████| Time: 0:06:09 ( 0.37  s/it)\u001b[39m\n"
     ]
    },
    {
     "data": {
      "text/html": [
       "<div class = \"data-frame\" style = \"overflow-x: scroll;\"><table class = \"data-frame\" style = \"margin-bottom: 6px;\"><thead><tr class = \"header headerLastRow\"><th class = \"rowNumber\" style = \"font-weight: bold; text-align: right;\">Rank</th><th style = \"text-align: left;\">Title</th><th style = \"text-align: left;\">Weight</th><th style = \"text-align: left;\">Uid</th></tr></thead><tbody><tr><td class = \"rowNumber\" style = \"font-weight: bold; text-align: right;\">1</td><td style = \"text-align: left;\">Vinland Saga</td><td style = \"text-align: right;\">1.0</td><td style = \"text-align: right;\">13136</td></tr><tr><td class = \"rowNumber\" style = \"font-weight: bold; text-align: right;\">2</td><td style = \"text-align: left;\">Dr. Stone</td><td style = \"text-align: right;\">0.554619</td><td style = \"text-align: right;\">18603</td></tr><tr><td class = \"rowNumber\" style = \"font-weight: bold; text-align: right;\">3</td><td style = \"text-align: left;\">Kimetsu no Yaiba</td><td style = \"text-align: right;\">0.547818</td><td style = \"text-align: right;\">20871</td></tr><tr><td class = \"rowNumber\" style = \"font-weight: bold; text-align: right;\">4</td><td style = \"text-align: left;\">Shingeki no Kyojin Season 3 Part 2</td><td style = \"text-align: right;\">0.538515</td><td style = \"text-align: right;\">4871</td></tr><tr><td class = \"rowNumber\" style = \"font-weight: bold; text-align: right;\">5</td><td style = \"text-align: left;\">Jujutsu Kaisen</td><td style = \"text-align: right;\">0.53395</td><td style = \"text-align: right;\">4154</td></tr><tr><td class = \"rowNumber\" style = \"font-weight: bold; text-align: right;\">6</td><td style = \"text-align: left;\">Shingeki no Kyojin Season 3</td><td style = \"text-align: right;\">0.531189</td><td style = \"text-align: right;\">10849</td></tr><tr><td class = \"rowNumber\" style = \"font-weight: bold; text-align: right;\">7</td><td style = \"text-align: left;\">Mob Psycho 100 II</td><td style = \"text-align: right;\">0.519075</td><td style = \"text-align: right;\">10165</td></tr><tr><td class = \"rowNumber\" style = \"font-weight: bold; text-align: right;\">8</td><td style = \"text-align: left;\">Dororo</td><td style = \"text-align: right;\">0.515613</td><td style = \"text-align: right;\">14754</td></tr><tr><td class = \"rowNumber\" style = \"font-weight: bold; text-align: right;\">9</td><td style = \"text-align: left;\">Shingeki no Kyojin Season 2</td><td style = \"text-align: right;\">0.513987</td><td style = \"text-align: right;\">14992</td></tr><tr><td class = \"rowNumber\" style = \"font-weight: bold; text-align: right;\">10</td><td style = \"text-align: left;\">Yakusoku no Neverland</td><td style = \"text-align: right;\">0.513228</td><td style = \"text-align: right;\">7316</td></tr><tr><td class = \"rowNumber\" style = \"font-weight: bold; text-align: right;\">11</td><td style = \"text-align: left;\">Mob Psycho 100</td><td style = \"text-align: right;\">0.512073</td><td style = \"text-align: right;\">21856</td></tr><tr><td class = \"rowNumber\" style = \"font-weight: bold; text-align: right;\">12</td><td style = \"text-align: left;\">Enen no Shouboutai</td><td style = \"text-align: right;\">0.508836</td><td style = \"text-align: right;\">1663</td></tr><tr><td class = \"rowNumber\" style = \"font-weight: bold; text-align: right;\">13</td><td style = \"text-align: left;\">Shingeki no Kyojin: The Final Season</td><td style = \"text-align: right;\">0.50624</td><td style = \"text-align: right;\">2656</td></tr><tr><td class = \"rowNumber\" style = \"font-weight: bold; text-align: right;\">14</td><td style = \"text-align: left;\">One Punch Man</td><td style = \"text-align: right;\">0.497183</td><td style = \"text-align: right;\">6678</td></tr><tr><td class = \"rowNumber\" style = \"font-weight: bold; text-align: right;\">15</td><td style = \"text-align: left;\">Tate no Yuusha no Nariagari</td><td style = \"text-align: right;\">0.494605</td><td style = \"text-align: right;\">10033</td></tr><tr><td class = \"rowNumber\" style = \"font-weight: bold; text-align: right;\">16</td><td style = \"text-align: left;\">One Punch Man 2nd Season</td><td style = \"text-align: right;\">0.492827</td><td style = \"text-align: right;\">6521</td></tr><tr><td class = \"rowNumber\" style = \"font-weight: bold; text-align: right;\">17</td><td style = \"text-align: left;\">Shingeki no Kyojin</td><td style = \"text-align: right;\">0.483682</td><td style = \"text-align: right;\">20168</td></tr><tr><td class = \"rowNumber\" style = \"font-weight: bold; text-align: right;\">18</td><td style = \"text-align: left;\">Boku no Hero Academia 3rd Season</td><td style = \"text-align: right;\">0.483303</td><td style = \"text-align: right;\">14326</td></tr><tr><td class = \"rowNumber\" style = \"font-weight: bold; text-align: right;\">19</td><td style = \"text-align: left;\">Mushoku Tensei: Isekai Ittara Honki Dasu</td><td style = \"text-align: right;\">0.480919</td><td style = \"text-align: right;\">12888</td></tr><tr><td class = \"rowNumber\" style = \"font-weight: bold; text-align: right;\">20</td><td style = \"text-align: left;\">Hunter x Hunter (2011)</td><td style = \"text-align: right;\">0.480394</td><td style = \"text-align: right;\">15</td></tr><tr><td class = \"rowNumber\" style = \"font-weight: bold; text-align: right;\">21</td><td style = \"text-align: left;\">Boku no Hero Academia 2nd Season</td><td style = \"text-align: right;\">0.479248</td><td style = \"text-align: right;\">11225</td></tr><tr><td class = \"rowNumber\" style = \"font-weight: bold; text-align: right;\">22</td><td style = \"text-align: left;\">Boku no Hero Academia</td><td style = \"text-align: right;\">0.478167</td><td style = \"text-align: right;\">21642</td></tr><tr><td class = \"rowNumber\" style = \"font-weight: bold; text-align: right;\">23</td><td style = \"text-align: left;\">Boku no Hero Academia 4th Season</td><td style = \"text-align: right;\">0.478101</td><td style = \"text-align: right;\">1981</td></tr><tr><td class = \"rowNumber\" style = \"font-weight: bold; text-align: right;\">24</td><td style = \"text-align: left;\">Kami no Tou</td><td style = \"text-align: right;\">0.466218</td><td style = \"text-align: right;\">18154</td></tr><tr><td class = \"rowNumber\" style = \"font-weight: bold; text-align: right;\">25</td><td style = \"text-align: left;\">Fullmetal Alchemist: Brotherhood</td><td style = \"text-align: right;\">0.466204</td><td style = \"text-align: right;\">11703</td></tr><tr><td class = \"rowNumber\" style = \"font-weight: bold; text-align: right;\">26</td><td style = \"text-align: left;\">The God of High School</td><td style = \"text-align: right;\">0.464367</td><td style = \"text-align: right;\">17573</td></tr><tr><td class = \"rowNumber\" style = \"font-weight: bold; text-align: right;\">27</td><td style = \"text-align: left;\">Black Clover</td><td style = \"text-align: right;\">0.462382</td><td style = \"text-align: right;\">15785</td></tr><tr><td class = \"rowNumber\" style = \"font-weight: bold; text-align: right;\">28</td><td style = \"text-align: left;\">Re:Zero kara Hajimeru Isekai Seikatsu</td><td style = \"text-align: right;\">0.459961</td><td style = \"text-align: right;\">1227</td></tr><tr><td class = \"rowNumber\" style = \"font-weight: bold; text-align: right;\">29</td><td style = \"text-align: left;\">Kaguya-sama wa Kokurasetai: Tensai-tachi no Renai Zunousen</td><td style = \"text-align: right;\">0.456675</td><td style = \"text-align: right;\">20810</td></tr><tr><td class = \"rowNumber\" style = \"font-weight: bold; text-align: right;\">30</td><td style = \"text-align: left;\">Tensei shitara Slime Datta Ken</td><td style = \"text-align: right;\">0.45645</td><td style = \"text-align: right;\">17087</td></tr><tr><td class = \"rowNumber\" style = \"font-weight: bold; text-align: right;\">31</td><td style = \"text-align: left;\">Tokyo Revengers</td><td style = \"text-align: right;\">0.453147</td><td style = \"text-align: right;\">12077</td></tr><tr><td class = \"rowNumber\" style = \"font-weight: bold; text-align: right;\">32</td><td style = \"text-align: left;\">Dr. Stone: Stone Wars</td><td style = \"text-align: right;\">0.448944</td><td style = \"text-align: right;\">7093</td></tr><tr><td class = \"rowNumber\" style = \"font-weight: bold; text-align: right;\">33</td><td style = \"text-align: left;\">Kimetsu no Yaiba Movie: Mugen Ressha-hen</td><td style = \"text-align: right;\">0.4483</td><td style = \"text-align: right;\">7650</td></tr><tr><td class = \"rowNumber\" style = \"font-weight: bold; text-align: right;\">34</td><td style = \"text-align: left;\">Nanatsu no Taizai</td><td style = \"text-align: right;\">0.447051</td><td style = \"text-align: right;\">17040</td></tr><tr><td class = \"rowNumber\" style = \"font-weight: bold; text-align: right;\">35</td><td style = \"text-align: left;\">Kimetsu no Yaiba: Yuukaku-hen</td><td style = \"text-align: right;\">0.446663</td><td style = \"text-align: right;\">4501</td></tr><tr><td class = \"rowNumber\" style = \"font-weight: bold; text-align: right;\">36</td><td style = \"text-align: left;\">Death Note</td><td style = \"text-align: right;\">0.446576</td><td style = \"text-align: right;\">14870</td></tr><tr><td class = \"rowNumber\" style = \"font-weight: bold; text-align: right;\">37</td><td style = \"text-align: left;\">Kiseijuu: Sei no Kakuritsu</td><td style = \"text-align: right;\">0.444653</td><td style = \"text-align: right;\">3060</td></tr><tr><td class = \"rowNumber\" style = \"font-weight: bold; text-align: right;\">38</td><td style = \"text-align: left;\">Tokyo Ghoul</td><td style = \"text-align: right;\">0.443295</td><td style = \"text-align: right;\">6080</td></tr><tr><td class = \"rowNumber\" style = \"font-weight: bold; text-align: right;\">39</td><td style = \"text-align: left;\">Re:Zero kara Hajimeru Isekai Seikatsu 2nd Season</td><td style = \"text-align: right;\">0.440123</td><td style = \"text-align: right;\">23922</td></tr><tr><td class = \"rowNumber\" style = \"font-weight: bold; text-align: right;\">40</td><td style = \"text-align: left;\">Made in Abyss</td><td style = \"text-align: right;\">0.438983</td><td style = \"text-align: right;\">1362</td></tr><tr><td class = \"rowNumber\" style = \"font-weight: bold; text-align: right;\">41</td><td style = \"text-align: left;\">Kimi no Na wa.</td><td style = \"text-align: right;\">0.438543</td><td style = \"text-align: right;\">8881</td></tr><tr><td class = \"rowNumber\" style = \"font-weight: bold; text-align: right;\">42</td><td style = \"text-align: left;\">Shingeki no Kyojin: The Final Season Part 2</td><td style = \"text-align: right;\">0.436062</td><td style = \"text-align: right;\">11009</td></tr><tr><td class = \"rowNumber\" style = \"font-weight: bold; text-align: right;\">43</td><td style = \"text-align: left;\">Goblin Slayer</td><td style = \"text-align: right;\">0.436058</td><td style = \"text-align: right;\">7354</td></tr><tr><td class = \"rowNumber\" style = \"font-weight: bold; text-align: right;\">44</td><td style = \"text-align: left;\">Koe no Katachi</td><td style = \"text-align: right;\">0.433948</td><td style = \"text-align: right;\">9056</td></tr><tr><td class = \"rowNumber\" style = \"font-weight: bold; text-align: right;\">45</td><td style = \"text-align: left;\">Seishun Buta Yarou wa Bunny Girl Senpai no Yume wo Minai</td><td style = \"text-align: right;\">0.433721</td><td style = \"text-align: right;\">5660</td></tr><tr><td class = \"rowNumber\" style = \"font-weight: bold; text-align: right;\">46</td><td style = \"text-align: left;\">Kaguya-sama wa Kokurasetai? Tensai-tachi no Renai Zunousen</td><td style = \"text-align: right;\">0.432641</td><td style = \"text-align: right;\">20209</td></tr><tr><td class = \"rowNumber\" style = \"font-weight: bold; text-align: right;\">47</td><td style = \"text-align: left;\">Boku dake ga Inai Machi</td><td style = \"text-align: right;\">0.432571</td><td style = \"text-align: right;\">3374</td></tr><tr><td class = \"rowNumber\" style = \"font-weight: bold; text-align: right;\">48</td><td style = \"text-align: left;\">Mushoku Tensei: Isekai Ittara Honki Dasu Part 2</td><td style = \"text-align: right;\">0.431067</td><td style = \"text-align: right;\">4232</td></tr><tr><td class = \"rowNumber\" style = \"font-weight: bold; text-align: right;\">49</td><td style = \"text-align: left;\">Kono Subarashii Sekai ni Shukufuku wo!</td><td style = \"text-align: right;\">0.429784</td><td style = \"text-align: right;\">13956</td></tr><tr><td class = \"rowNumber\" style = \"font-weight: bold; text-align: right;\">50</td><td style = \"text-align: left;\">Steins;Gate</td><td style = \"text-align: right;\">0.426248</td><td style = \"text-align: right;\">11117</td></tr><tr><td class = \"rowNumber\" style = \"font-weight: bold; text-align: right;\">51</td><td style = \"text-align: left;\">Akame ga Kill!</td><td style = \"text-align: right;\">0.425433</td><td style = \"text-align: right;\">20417</td></tr><tr><td class = \"rowNumber\" style = \"font-weight: bold; text-align: right;\">52</td><td style = \"text-align: left;\">Spy x Family</td><td style = \"text-align: right;\">0.424467</td><td style = \"text-align: right;\">8949</td></tr><tr><td class = \"rowNumber\" style = \"font-weight: bold; text-align: right;\">53</td><td style = \"text-align: left;\">Code Geass: Hangyaku no Lelouch</td><td style = \"text-align: right;\">0.422547</td><td style = \"text-align: right;\">10278</td></tr><tr><td class = \"rowNumber\" style = \"font-weight: bold; text-align: right;\">54</td><td style = \"text-align: left;\">JoJo no Kimyou na Bouken (TV)</td><td style = \"text-align: right;\">0.421749</td><td style = \"text-align: right;\">10093</td></tr><tr><td class = \"rowNumber\" style = \"font-weight: bold; text-align: right;\">55</td><td style = \"text-align: left;\">Overlord</td><td style = \"text-align: right;\">0.421288</td><td style = \"text-align: right;\">21996</td></tr><tr><td class = \"rowNumber\" style = \"font-weight: bold; text-align: right;\">56</td><td style = \"text-align: left;\">Fumetsu no Anata e</td><td style = \"text-align: right;\">0.420913</td><td style = \"text-align: right;\">24111</td></tr><tr><td class = \"rowNumber\" style = \"font-weight: bold; text-align: right;\">57</td><td style = \"text-align: left;\">Naruto</td><td style = \"text-align: right;\">0.420229</td><td style = \"text-align: right;\">2406</td></tr><tr><td class = \"rowNumber\" style = \"font-weight: bold; text-align: right;\">58</td><td style = \"text-align: left;\">Naruto: Shippuuden</td><td style = \"text-align: right;\">0.420146</td><td style = \"text-align: right;\">10024</td></tr><tr><td class = \"rowNumber\" style = \"font-weight: bold; text-align: right;\">59</td><td style = \"text-align: left;\">Violet Evergarden</td><td style = \"text-align: right;\">0.418065</td><td style = \"text-align: right;\">19862</td></tr><tr><td class = \"rowNumber\" style = \"font-weight: bold; text-align: right;\">60</td><td style = \"text-align: left;\">Nanatsu no Taizai: Imashime no Fukkatsu</td><td style = \"text-align: right;\">0.41645</td><td style = \"text-align: right;\">11328</td></tr><tr><td class = \"rowNumber\" style = \"font-weight: bold; text-align: right;\">61</td><td style = \"text-align: left;\">Ansatsu Kyoushitsu</td><td style = \"text-align: right;\">0.413064</td><td style = \"text-align: right;\">5120</td></tr><tr><td class = \"rowNumber\" style = \"font-weight: bold; text-align: right;\">62</td><td style = \"text-align: left;\">Enen no Shouboutai: Ni no Shou</td><td style = \"text-align: right;\">0.411634</td><td style = \"text-align: right;\">5432</td></tr><tr><td class = \"rowNumber\" style = \"font-weight: bold; text-align: right;\">63</td><td style = \"text-align: left;\">Chainsaw Man</td><td style = \"text-align: right;\">0.411432</td><td style = \"text-align: right;\">23230</td></tr><tr><td class = \"rowNumber\" style = \"font-weight: bold; text-align: right;\">64</td><td style = \"text-align: left;\">Sword Art Online</td><td style = \"text-align: right;\">0.411344</td><td style = \"text-align: right;\">16665</td></tr><tr><td class = \"rowNumber\" style = \"font-weight: bold; text-align: right;\">65</td><td style = \"text-align: left;\">Youkoso Jitsuryoku Shijou Shugi no Kyoushitsu e</td><td style = \"text-align: right;\">0.411156</td><td style = \"text-align: right;\">14308</td></tr><tr><td class = \"rowNumber\" style = \"font-weight: bold; text-align: right;\">66</td><td style = \"text-align: left;\">Kono Subarashii Sekai ni Shukufuku wo! 2</td><td style = \"text-align: right;\">0.41041</td><td style = \"text-align: right;\">16114</td></tr><tr><td class = \"rowNumber\" style = \"font-weight: bold; text-align: right;\">67</td><td style = \"text-align: left;\">Haikyuu!!</td><td style = \"text-align: right;\">0.407968</td><td style = \"text-align: right;\">15715</td></tr><tr><td class = \"rowNumber\" style = \"font-weight: bold; text-align: right;\">68</td><td style = \"text-align: left;\">No Game No Life</td><td style = \"text-align: right;\">0.407464</td><td style = \"text-align: right;\">16818</td></tr><tr><td class = \"rowNumber\" style = \"font-weight: bold; text-align: right;\">69</td><td style = \"text-align: left;\">Noragami</td><td style = \"text-align: right;\">0.405134</td><td style = \"text-align: right;\">1857</td></tr><tr><td class = \"rowNumber\" style = \"font-weight: bold; text-align: right;\">70</td><td style = \"text-align: left;\">Re:Zero kara Hajimeru Isekai Seikatsu 2nd Season Part 2</td><td style = \"text-align: right;\">0.403739</td><td style = \"text-align: right;\">22106</td></tr><tr><td class = \"rowNumber\" style = \"font-weight: bold; text-align: right;\">71</td><td style = \"text-align: left;\">Tensei shitara Slime Datta Ken 2nd Season</td><td style = \"text-align: right;\">0.403394</td><td style = \"text-align: right;\">16719</td></tr><tr><td class = \"rowNumber\" style = \"font-weight: bold; text-align: right;\">72</td><td style = \"text-align: left;\">One Piece</td><td style = \"text-align: right;\">0.402559</td><td style = \"text-align: right;\">20362</td></tr><tr><td class = \"rowNumber\" style = \"font-weight: bold; text-align: right;\">73</td><td style = \"text-align: left;\">Code Geass: Hangyaku no Lelouch R2</td><td style = \"text-align: right;\">0.40016</td><td style = \"text-align: right;\">11329</td></tr><tr><td class = \"rowNumber\" style = \"font-weight: bold; text-align: right;\">74</td><td style = \"text-align: left;\">Tokyo Ghoul √A</td><td style = \"text-align: right;\">0.399536</td><td style = \"text-align: right;\">12564</td></tr><tr><td class = \"rowNumber\" style = \"font-weight: bold; text-align: right;\">75</td><td style = \"text-align: left;\">Darling in the FranXX</td><td style = \"text-align: right;\">0.399358</td><td style = \"text-align: right;\">9400</td></tr><tr><td class = \"rowNumber\" style = \"font-weight: bold; text-align: right;\">76</td><td style = \"text-align: left;\">Boku no Hero Academia 5th Season</td><td style = \"text-align: right;\">0.396591</td><td style = \"text-align: right;\">8571</td></tr><tr><td class = \"rowNumber\" style = \"font-weight: bold; text-align: right;\">77</td><td style = \"text-align: left;\">Death Parade</td><td style = \"text-align: right;\">0.396514</td><td style = \"text-align: right;\">6494</td></tr><tr><td class = \"rowNumber\" style = \"font-weight: bold; text-align: right;\">78</td><td style = \"text-align: left;\">Haikyuu!! Second Season</td><td style = \"text-align: right;\">0.394584</td><td style = \"text-align: right;\">11503</td></tr><tr><td class = \"rowNumber\" style = \"font-weight: bold; text-align: right;\">79</td><td style = \"text-align: left;\">Overlord II</td><td style = \"text-align: right;\">0.393839</td><td style = \"text-align: right;\">3511</td></tr><tr><td class = \"rowNumber\" style = \"font-weight: bold; text-align: right;\">80</td><td style = \"text-align: left;\">Ousama Ranking</td><td style = \"text-align: right;\">0.392011</td><td style = \"text-align: right;\">6169</td></tr><tr><td class = \"rowNumber\" style = \"font-weight: bold; text-align: right;\">81</td><td style = \"text-align: left;\">JoJo no Kimyou na Bouken Part 3: Stardust Crusaders</td><td style = \"text-align: right;\">0.391577</td><td style = \"text-align: right;\">9376</td></tr><tr><td class = \"rowNumber\" style = \"font-weight: bold; text-align: right;\">82</td><td style = \"text-align: left;\">Shigatsu wa Kimi no Uso</td><td style = \"text-align: right;\">0.390502</td><td style = \"text-align: right;\">9412</td></tr><tr><td class = \"rowNumber\" style = \"font-weight: bold; text-align: right;\">83</td><td style = \"text-align: left;\">Haikyuu!! Karasuno Koukou vs. Shiratorizawa Gakuen Koukou</td><td style = \"text-align: right;\">0.389685</td><td style = \"text-align: right;\">11377</td></tr><tr><td class = \"rowNumber\" style = \"font-weight: bold; text-align: right;\">84</td><td style = \"text-align: left;\">Overlord III</td><td style = \"text-align: right;\">0.387891</td><td style = \"text-align: right;\">112</td></tr><tr><td class = \"rowNumber\" style = \"font-weight: bold; text-align: right;\">85</td><td style = \"text-align: left;\">86</td><td style = \"text-align: right;\">0.387502</td><td style = \"text-align: right;\">9240</td></tr><tr><td class = \"rowNumber\" style = \"font-weight: bold; text-align: right;\">86</td><td style = \"text-align: left;\">Horimiya</td><td style = \"text-align: right;\">0.386441</td><td style = \"text-align: right;\">23264</td></tr><tr><td class = \"rowNumber\" style = \"font-weight: bold; text-align: right;\">87</td><td style = \"text-align: left;\">Tokyo Ghoul:re</td><td style = \"text-align: right;\">0.386274</td><td style = \"text-align: right;\">4851</td></tr><tr><td class = \"rowNumber\" style = \"font-weight: bold; text-align: right;\">88</td><td style = \"text-align: left;\">Dungeon ni Deai wo Motomeru no wa Machigatteiru Darou ka</td><td style = \"text-align: right;\">0.385048</td><td style = \"text-align: right;\">23129</td></tr><tr><td class = \"rowNumber\" style = \"font-weight: bold; text-align: right;\">89</td><td style = \"text-align: left;\">Shokugeki no Souma</td><td style = \"text-align: right;\">0.384403</td><td style = \"text-align: right;\">7294</td></tr><tr><td class = \"rowNumber\" style = \"font-weight: bold; text-align: right;\">90</td><td style = \"text-align: left;\">JoJo no Kimyou na Bouken Part 3: Stardust Crusaders 2nd Season</td><td style = \"text-align: right;\">0.383177</td><td style = \"text-align: right;\">2797</td></tr><tr><td class = \"rowNumber\" style = \"font-weight: bold; text-align: right;\">91</td><td style = \"text-align: left;\">Fate/Zero</td><td style = \"text-align: right;\">0.382557</td><td style = \"text-align: right;\">13736</td></tr><tr><td class = \"rowNumber\" style = \"font-weight: bold; text-align: right;\">92</td><td style = \"text-align: left;\">Haikyuu!! To the Top</td><td style = \"text-align: right;\">0.382301</td><td style = \"text-align: right;\">23999</td></tr><tr><td class = \"rowNumber\" style = \"font-weight: bold; text-align: right;\">93</td><td style = \"text-align: left;\">JoJo no Kimyou na Bouken Part 5: Ougon no Kaze</td><td style = \"text-align: right;\">0.381585</td><td style = \"text-align: right;\">1011</td></tr><tr><td class = \"rowNumber\" style = \"font-weight: bold; text-align: right;\">94</td><td style = \"text-align: left;\">Yakusoku no Neverland 2nd Season</td><td style = \"text-align: right;\">0.381569</td><td style = \"text-align: right;\">8179</td></tr><tr><td class = \"rowNumber\" style = \"font-weight: bold; text-align: right;\">95</td><td style = \"text-align: left;\">Sword Art Online II</td><td style = \"text-align: right;\">0.380156</td><td style = \"text-align: right;\">194</td></tr><tr><td class = \"rowNumber\" style = \"font-weight: bold; text-align: right;\">96</td><td style = \"text-align: left;\">Noragami Aragoto</td><td style = \"text-align: right;\">0.380103</td><td style = \"text-align: right;\">12513</td></tr><tr><td class = \"rowNumber\" style = \"font-weight: bold; text-align: right;\">97</td><td style = \"text-align: left;\">Ansatsu Kyoushitsu 2nd Season</td><td style = \"text-align: right;\">0.379596</td><td style = \"text-align: right;\">18750</td></tr><tr><td class = \"rowNumber\" style = \"font-weight: bold; text-align: right;\">98</td><td style = \"text-align: left;\">Dungeon ni Deai wo Motomeru no wa Machigatteiru Darou ka II</td><td style = \"text-align: right;\">0.379567</td><td style = \"text-align: right;\">5173</td></tr><tr><td class = \"rowNumber\" style = \"font-weight: bold; text-align: right;\">99</td><td style = \"text-align: left;\">Grand Blue</td><td style = \"text-align: right;\">0.37834</td><td style = \"text-align: right;\">10713</td></tr><tr><td class = \"rowNumber\" style = \"font-weight: bold; text-align: right;\">100</td><td style = \"text-align: left;\">JoJo no Kimyou na Bouken Part 4: Diamond wa Kudakenai</td><td style = \"text-align: right;\">0.378018</td><td style = \"text-align: right;\">17025</td></tr></tbody></table></div>"
      ]
     },
     "metadata": {},
     "output_type": "display_data"
    }
   ],
   "source": [
    "display_related_series(37521)"
   ]
  },
  {
   "cell_type": "code",
   "execution_count": 15,
   "id": "fa646c0c-674c-429a-922c-d3391a0fc61d",
   "metadata": {},
   "outputs": [],
   "source": [
    "# 1\tPrincess Tutu\t1.0\n",
    "# 2\tShoujo Kakumei Utena\t0.254906\n",
    "# 3\tFull Moon wo Sagashite\t0.228932\n",
    "# 4\tKuragehime\t0.225228\n",
    "# 5\tMawaru Penguindrum\t0.220572\n",
    "# 6\tCardcaptor Sakura\t0.210011\n",
    "# 7\tTokyo Mew Mew\t0.208115\n",
    "# 8\tShugo Chara!\t0.207744\n",
    "# 9\tShoujo Kakumei Utena: Adolescence Mokushiroku\t0.207724\n",
    "# 10\tKaiba\t0.202521\n",
    "# 11\tHaibane Renmei\t0.201937\n",
    "# 12\tHirogaru Sky! Precure\t0.200713\n",
    "# 13\tVersailles no Bara\t0.196705\n",
    "# 14\tCardcaptor Sakura Movie 2: Fuuin Sareta Card\t0.193909\n",
    "# 15\tDelicious Party♡Precure\t0.192223\n",
    "# 16\tAria the Animation\t0.191062\n",
    "# 17\tKaleido Star\t0.190768\n",
    "# 18\tOjamajo Doremi\t0.186161\n",
    "# 19\tKareshi Kanojo no Jijou\t0.182229\n",
    "# 20\tDennou Coil\t0.17748\n",
    "# 21\tGakuen Alice\t0.176189\n",
    "# 22\tTop wo Nerae! Gunbuster\t0.176024\n",
    "# 23\tFlip Flappers\t0.174974\n",
    "# 24\tSarazanmai\t0.174411\n",
    "# 25\tSennen Joyuu\t0.173716\n",
    "# 26\tSayonara Zetsubou Sensei\t0.17254\n",
    "# 27\tCardcaptor Sakura Movie 1\t0.171731\n",
    "# 28\tKodomo no Omocha (TV)\t0.171682\n",
    "# 29\tGankutsuou\t0.170489\n",
    "# 30\tJinrui wa Suitai Shimashita\t0.169933"
   ]
  }
 ],
 "metadata": {
  "kernelspec": {
   "display_name": "Julia 1.8.3",
   "language": "julia",
   "name": "julia-1.8"
  },
  "language_info": {
   "file_extension": ".jl",
   "mimetype": "application/julia",
   "name": "julia",
   "version": "1.8.3"
  }
 },
 "nbformat": 4,
 "nbformat_minor": 5
}
