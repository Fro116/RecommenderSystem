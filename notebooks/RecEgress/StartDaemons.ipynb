{
 "cells": [
  {
   "cell_type": "markdown",
   "id": "6eee7e7b-310d-4946-91ae-c6f0bf6ff989",
   "metadata": {
    "editable": true,
    "slideshow": {
     "slide_type": ""
    },
    "tags": [
     "parameters"
    ]
   },
   "source": [
    "# Start Daemons\n",
    "* reduce cold start latency by running servers"
   ]
  },
  {
   "cell_type": "code",
   "execution_count": 1,
   "id": "7349bc9f-0a31-486b-9c0f-de3ceffdc2c2",
   "metadata": {
    "execution": {
     "iopub.execute_input": "2024-03-04T07:53:32.689877Z",
     "iopub.status.busy": "2024-03-04T07:53:32.689281Z",
     "iopub.status.idle": "2024-03-04T07:53:32.699360Z",
     "shell.execute_reply": "2024-03-04T07:53:32.698899Z",
     "shell.execute_reply.started": "2024-03-04T07:53:32.689833Z"
    }
   },
   "outputs": [],
   "source": [
    "import subprocess\n",
    "import time"
   ]
  },
  {
   "cell_type": "code",
   "execution_count": 2,
   "id": "f17a6266-3517-44b4-ba55-bce93cce723c",
   "metadata": {
    "editable": true,
    "execution": {
     "iopub.execute_input": "2024-03-04T07:53:32.700992Z",
     "iopub.status.busy": "2024-03-04T07:53:32.700636Z",
     "iopub.status.idle": "2024-03-04T07:53:32.806709Z",
     "shell.execute_reply": "2024-03-04T07:53:32.805065Z",
     "shell.execute_reply.started": "2024-03-04T07:53:32.700973Z"
    },
    "slideshow": {
     "slide_type": ""
    },
    "tags": [
     "parameters"
    ]
   },
   "outputs": [],
   "source": [
    "procs = []\n",
    "for i in range(7):\n",
    "    cmdlist = [\n",
    "        \"julia\",\n",
    "        \"-t\",\n",
    "        \"auto\",\n",
    "        \"-e\",\n",
    "        f\"using DaemonMode; serve({3000+i})\",\n",
    "    ]\n",
    "    procs.append(subprocess.Popen(cmdlist))"
   ]
  },
  {
   "cell_type": "code",
   "execution_count": null,
   "id": "b442c3ac-0f4d-498c-bd75-e332a90a2e6f",
   "metadata": {
    "editable": true,
    "execution": {
     "iopub.execute_input": "2024-03-04T07:53:32.808483Z",
     "iopub.status.busy": "2024-03-04T07:53:32.808361Z"
    },
    "slideshow": {
     "slide_type": ""
    },
    "tags": [
     "parameters"
    ]
   },
   "outputs": [],
   "source": [
    "# keep the notebook alive to keep the procs alive\n",
    "while True:\n",
    "    time.sleep(3600)"
   ]
  }
 ],
 "metadata": {
  "kernelspec": {
   "display_name": "Python 3 (ipykernel)",
   "language": "python",
   "name": "python3"
  },
  "language_info": {
   "codemirror_mode": {
    "name": "ipython",
    "version": 3
   },
   "file_extension": ".py",
   "mimetype": "text/x-python",
   "name": "python",
   "nbconvert_exporter": "python",
   "pygments_lexer": "ipython3",
   "version": "3.10.12"
  }
 },
 "nbformat": 4,
 "nbformat_minor": 5
}
