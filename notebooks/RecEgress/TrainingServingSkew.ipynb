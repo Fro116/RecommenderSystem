{
 "cells": [
  {
   "cell_type": "markdown",
   "id": "a2559ebd-296e-421f-9421-9e613ddc3c8a",
   "metadata": {},
   "source": [
    "# TrainingServingSkew\n",
    "* Moniitors whether the alphas generated for inference are identical \n",
    "    to the alphas generated during training"
   ]
  },
  {
   "cell_type": "code",
   "execution_count": null,
   "id": "256c270c-ce83-4bb8-97d9-434c1553f5cf",
   "metadata": {
    "tags": [
     "parameters"
    ]
   },
   "outputs": [],
   "source": [
    "username = \"\"\n",
    "task = \"\""
   ]
  },
  {
   "cell_type": "code",
   "execution_count": null,
   "id": "855dd425-8d9c-42c0-8d3e-0d38d0f79300",
   "metadata": {},
   "outputs": [],
   "source": [
    "import NBInclude: @nbinclude\n",
    "import Statistics: mean\n",
    "@nbinclude(\"../InferenceAlphas/Alpha.ipynb\");"
   ]
  },
  {
   "cell_type": "code",
   "execution_count": null,
   "id": "3672bc40-9a69-4628-a7a4-aef4c8e780bd",
   "metadata": {},
   "outputs": [],
   "source": [
    "function read_training_alpha(alpha::String, split::String; content = nothing)\n",
    "    uid = parse(Int, get_recommendee_username()) + 1\n",
    "    if isnothing(content)\n",
    "        if occursin(\"explicit\", lowercase(alpha))\n",
    "            @assert isnothing(content)\n",
    "            content = \"explicit\"\n",
    "        end\n",
    "        if occursin(\"implicit\", lowercase(alpha)) || alpha in [\n",
    "            \"all/UserAverage\",\n",
    "            \"all/UserVariance\",\n",
    "            \"all/SimpleAverage\",\n",
    "            \"$task/MLE.Ensemble\",\n",
    "        ]\n",
    "            @assert isnothing(content)\n",
    "            content = \"implicit\"\n",
    "        end\n",
    "        if occursin(\"Ptw\", alpha)\n",
    "            @assert isnothing(content)\n",
    "            content = \"ptw\"\n",
    "        end\n",
    "        @assert !isnothing(content) alpha\n",
    "    end\n",
    "    df = read_alpha(alpha, split, task, content)\n",
    "    mask = df.user .== uid\n",
    "    df =\n",
    "        RatingsDataset(user = df.user[mask], item = df.item[mask], rating = df.rating[mask])\n",
    "    df\n",
    "end;"
   ]
  },
  {
   "cell_type": "code",
   "execution_count": null,
   "id": "766163ef-58c2-4d75-912a-da52f6d8201c",
   "metadata": {},
   "outputs": [],
   "source": [
    "function average_errors(alpha, split; content = nothing)\n",
    "    serving = read_recommendee_alpha(alpha, \"all\")\n",
    "    training = read_training_alpha(alpha, split; content = content)\n",
    "    if length(training.item) == 0\n",
    "        return 0\n",
    "    end\n",
    "    abs.(training.rating .- serving.rating[training.item])\n",
    "end\n",
    "\n",
    "function relative_errors(alpha, split; content = nothing)\n",
    "    serving = read_recommendee_alpha(alpha, \"all\")\n",
    "    training = read_training_alpha(alpha, split; content = content)\n",
    "    if length(training.item) == 0\n",
    "        return 0\n",
    "    end\n",
    "    ϵ = eps(Float64)\n",
    "    abs.(abs.(training.rating) ./ (abs.(serving.rating[training.item]) .+ ϵ) .- 1)\n",
    "end;"
   ]
  },
  {
   "cell_type": "code",
   "execution_count": null,
   "id": "25287163-01d1-4840-92c9-55390d2e4207",
   "metadata": {},
   "outputs": [],
   "source": [
    "function maximum_error(alpha, split; content = nothing)\n",
    "    maximum(average_errors(alpha, split; content = content))\n",
    "end\n",
    "\n",
    "function average_abs_error(alpha, split; content = nothing)\n",
    "    mean(average_errors(alpha, split; content = content))\n",
    "end\n",
    "\n",
    "function average_rel_error(alpha, split; content = nothing)\n",
    "    mean(relative_errors(alpha, split; content = content))\n",
    "end;"
   ]
  },
  {
   "cell_type": "code",
   "execution_count": null,
   "id": "97288ab9-4b28-4127-a2ce-e07d48b40242",
   "metadata": {},
   "outputs": [],
   "source": [
    "function display_errors(alphas, split; content = nothing)\n",
    "    alpha_padding = maximum(length.(alphas))\n",
    "    number_padding = 16\n",
    "\n",
    "    header_1 = rpad(\"Alpha\", alpha_padding)\n",
    "    header_2 = rpad(\"Avg Abs Error\", number_padding)\n",
    "    header_3 = rpad(\"Avg Rel Error\", number_padding)\n",
    "    header_4 = rpad(\"Max Error\", number_padding)\n",
    "    @info \"$header_1 $header_2 $header_3 $header_4\"\n",
    "\n",
    "    for alpha in alphas\n",
    "        avg_abs_error =\n",
    "            rpad(average_abs_error(alpha, split; content = content), number_padding)\n",
    "        avg_rel_error =\n",
    "            rpad(average_rel_error(alpha, split; content = content), number_padding)\n",
    "        max_error = rpad(maximum_error(alpha, split; content = content), number_padding)\n",
    "        alpha = rpad(alpha, alpha_padding)\n",
    "        @info \"$alpha $avg_abs_error $avg_rel_error $max_error\"\n",
    "    end\n",
    "end;"
   ]
  },
  {
   "cell_type": "code",
   "execution_count": null,
   "id": "070f5f53-d832-4b5b-8702-be8061d37bec",
   "metadata": {},
   "outputs": [],
   "source": [
    "potential_alphas = vcat(\n",
    "    [\n",
    "        [\"$t/\" * x for x in readdir(recommendee_alpha_basepath() * \"/$t\")] for\n",
    "        t in [\"all\", task]\n",
    "    ]...,\n",
    "    [\"$task/Transformer/explicit\", \"$task/Transformer/implicit\"],\n",
    ")\n",
    "alphas = sort([\n",
    "    x for\n",
    "    x in potential_alphas if ispath(\"$(recommendee_alpha_basepath())/$(x)/alpha.jld2\")\n",
    "])\n",
    "validation_alphas = sort(\n",
    "    [\n",
    "        [\"$task/Linear$x\" for x in [\"Explicit\", \"Implicit\"]]\n",
    "        [\"$task/Nonlinear$x\" for x in [\"Explicit\", \"Implicit\"]]\n",
    "        [\"$task/Explicit\"]\n",
    "    ],\n",
    ")\n",
    "test_alphas = sort([\"$task/MLE.Ensemble\"])\n",
    "inference_only_alphas = sort([\"all/RecapSeries\", \"all/RelatedSeries\"])\n",
    "training_alphas = [\n",
    "    x for\n",
    "    x in alphas if x ∉ validation_alphas && x ∉ test_alphas && x ∉ inference_only_alphas\n",
    "];"
   ]
  },
  {
   "cell_type": "markdown",
   "id": "9471e0c7-2839-4768-83bc-999da9d0cea9",
   "metadata": {
    "tags": []
   },
   "source": [
    "# Regular splits"
   ]
  },
  {
   "cell_type": "code",
   "execution_count": null,
   "id": "3e6871cd-79d5-4963-b649-4fa43fca75a7",
   "metadata": {},
   "outputs": [],
   "source": [
    "display_errors(training_alphas, \"training\")"
   ]
  },
  {
   "cell_type": "code",
   "execution_count": null,
   "id": "29af0231-d1b5-412e-affe-774f35c17819",
   "metadata": {},
   "outputs": [],
   "source": [
    "display_errors(training_alphas, \"validation\")\n",
    "println()\n",
    "display_errors(validation_alphas, \"validation\")"
   ]
  },
  {
   "cell_type": "code",
   "execution_count": null,
   "id": "c17d65d5-d6f3-4734-970a-743d583921b4",
   "metadata": {},
   "outputs": [],
   "source": [
    "display_errors(training_alphas, \"test\")\n",
    "println()\n",
    "display_errors(validation_alphas, \"test\")\n",
    "println()\n",
    "# display_errors(test_alphas, \"test\")"
   ]
  },
  {
   "cell_type": "markdown",
   "id": "783777e5-086c-4159-944d-db63618cc0a4",
   "metadata": {
    "tags": []
   },
   "source": [
    "# Negative splits"
   ]
  },
  {
   "cell_type": "code",
   "execution_count": null,
   "id": "75423595-1721-42ff-8571-95a2170260e9",
   "metadata": {},
   "outputs": [],
   "source": [
    "display_errors(training_alphas, \"training\"; content = \"negative\")"
   ]
  },
  {
   "cell_type": "code",
   "execution_count": null,
   "id": "c2b887eb-d4ae-469a-a11a-d24cbd5189df",
   "metadata": {},
   "outputs": [],
   "source": [
    "display_errors(training_alphas, \"validation\"; content = \"negative\")\n",
    "println()\n",
    "display_errors(validation_alphas, \"validation\"; content = \"negative\")"
   ]
  },
  {
   "cell_type": "code",
   "execution_count": null,
   "id": "b8fb8bd8-e962-419e-b33a-eac684663d2a",
   "metadata": {},
   "outputs": [],
   "source": [
    "display_errors(training_alphas, \"test\"; content = \"negative\")\n",
    "println()\n",
    "display_errors(validation_alphas, \"test\"; content = \"negative\")\n",
    "println()\n",
    "# display_errors(test_alphas, \"test\"; content = \"negative\")"
   ]
  },
  {
   "cell_type": "code",
   "execution_count": null,
   "id": "d3076d0d-43b2-4224-bd46-319bdf850336",
   "metadata": {},
   "outputs": [],
   "source": []
  }
 ],
 "metadata": {
  "kernelspec": {
   "display_name": "Julia 1.8.3",
   "language": "julia",
   "name": "julia-1.8"
  },
  "language_info": {
   "file_extension": ".jl",
   "mimetype": "application/julia",
   "name": "julia",
   "version": "1.8.3"
  }
 },
 "nbformat": 4,
 "nbformat_minor": 5
}
