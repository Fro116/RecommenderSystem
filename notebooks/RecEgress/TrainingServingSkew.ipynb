{
 "cells": [
  {
   "cell_type": "markdown",
   "id": "a2559ebd-296e-421f-9421-9e613ddc3c8a",
   "metadata": {},
   "source": [
    "# Training Serving Skew\n",
    "* Checks that the alphas generated for inference are identical to the alphas generated during training"
   ]
  },
  {
   "cell_type": "code",
   "execution_count": null,
   "id": "256c270c-ce83-4bb8-97d9-434c1553f5cf",
   "metadata": {
    "tags": [
     "parameters"
    ]
   },
   "outputs": [],
   "source": [
    "username = \"\"\n",
    "source = \"\"\n",
    "medium = \"\""
   ]
  },
  {
   "cell_type": "code",
   "execution_count": null,
   "id": "855dd425-8d9c-42c0-8d3e-0d38d0f79300",
   "metadata": {},
   "outputs": [],
   "source": [
    "import NBInclude: @nbinclude\n",
    "import Statistics: mean\n",
    "@nbinclude(\"../TrainingAlphas/Alpha.ipynb\");"
   ]
  },
  {
   "cell_type": "code",
   "execution_count": null,
   "id": "9f7f11ae-adb4-4b55-9019-134f27e7d424",
   "metadata": {},
   "outputs": [],
   "source": [
    "get_fields() = [x for x in fieldnames(RatingsDataset) if x ∉ [:alpha, :metric, :userid]];"
   ]
  },
  {
   "cell_type": "markdown",
   "id": "d26a152d-5aa9-4e8c-b9b1-ac981b37cf92",
   "metadata": {},
   "source": [
    "## Check that the raw data is the same"
   ]
  },
  {
   "cell_type": "code",
   "execution_count": null,
   "id": "fb95e23c-afc7-4c55-9794-b00cee64bc5c",
   "metadata": {},
   "outputs": [],
   "source": [
    "function get_rec_split(medium)\n",
    "    get_raw_split(\"rec_training\", medium, get_fields(), nothing)\n",
    "end;"
   ]
  },
  {
   "cell_type": "code",
   "execution_count": null,
   "id": "6c793bc8-91d5-4b31-bdac-ab09d6ec3995",
   "metadata": {},
   "outputs": [],
   "source": [
    "@memoize function get_training_uid(source, username)\n",
    "    username_to_uid =\n",
    "        DataFrame(CSV.File(get_data_path(\"processed_data/username_to_uid.csv\")))\n",
    "    idx = findfirst(x -> x == \"$source@$username\", username_to_uid.userid)\n",
    "    if isnothing(idx)\n",
    "        return nothing\n",
    "    end\n",
    "    username_to_uid.uid[idx]\n",
    "end;"
   ]
  },
  {
   "cell_type": "code",
   "execution_count": null,
   "id": "4ffdf58e-b338-4da7-9135-58cf39395fc0",
   "metadata": {},
   "outputs": [],
   "source": [
    "function get_training_split(medium, split = \"training\")\n",
    "    uid = get_training_uid(source, username)\n",
    "    df = get_raw_split(split, medium, vcat([:userid], get_fields()), nothing)\n",
    "    filter(df, df.userid .== uid)\n",
    "end;"
   ]
  },
  {
   "cell_type": "code",
   "execution_count": null,
   "id": "689d3cf5-f62d-471f-91c9-cd1fa1a11f30",
   "metadata": {},
   "outputs": [],
   "source": [
    "function check_raw_splits(medium)\n",
    "    x = get_rec_split(medium)\n",
    "    y = get_training_split(medium)\n",
    "    for k in get_fields()\n",
    "        @assert all(getfield(x, k) .== getfield(y, k))\n",
    "    end\n",
    "end;"
   ]
  },
  {
   "cell_type": "markdown",
   "id": "6a35f91e-a6f8-4dad-8dbc-da347faa4b32",
   "metadata": {},
   "source": [
    "## Check that the computed alphas are the same"
   ]
  },
  {
   "cell_type": "code",
   "execution_count": null,
   "id": "9a72dc59-80a8-463c-b365-012a0a3e6466",
   "metadata": {},
   "outputs": [],
   "source": [
    "function get_training_alpha(alpha)\n",
    "    uid = get_training_uid(source, username)\n",
    "    dfs = []\n",
    "    for x in [\"test\", \"negative\"]\n",
    "        df = get_raw_split(x, medium, [:userid, :itemid], alpha)\n",
    "        df = filter(df, df.userid .== uid)\n",
    "        push!(dfs, df)\n",
    "    end\n",
    "    reduce(cat, dfs)\n",
    "end;"
   ]
  },
  {
   "cell_type": "code",
   "execution_count": null,
   "id": "3672bc40-9a69-4628-a7a4-aef4c8e780bd",
   "metadata": {},
   "outputs": [],
   "source": [
    "function get_rec_alpha(alpha)\n",
    "    get_raw_split(\"rec_inference\", medium, [:userid, :itemid], alpha)\n",
    "end;"
   ]
  },
  {
   "cell_type": "code",
   "execution_count": null,
   "id": "9f51e67e-3141-4a64-ab96-708049be8f1c",
   "metadata": {},
   "outputs": [],
   "source": [
    "function check_raw_alpha(alpha)\n",
    "    x = get_training_alpha(alpha)\n",
    "    y = get_rec_alpha(alpha)\n",
    "    d = y.alpha[x.itemid.+1] - x.alpha\n",
    "    absdiffs = abs.(d)\n",
    "    reldiffs = abs.(d ./ x.alpha)\n",
    "    maximum(absdiffs), mean(absdiffs)\n",
    "end;"
   ]
  },
  {
   "cell_type": "code",
   "execution_count": null,
   "id": "1a7698ca-5df5-4862-855a-1163853e7d0c",
   "metadata": {},
   "outputs": [],
   "source": [
    "function check_skew()\n",
    "    alphas = vcat(\n",
    "        [\"$medium/Baseline/rating\"],\n",
    "        [\"$medium/BagOfWords/v1/$metric\" for metric in ALL_METRICS],\n",
    "        [\"$medium/Transformer/v1/$metric\" for metric in ALL_METRICS],\n",
    "        [\"$medium/Linear/$metric\" for metric in ALL_METRICS],\n",
    "    )\n",
    "\n",
    "    uid = get_training_uid(source, username)\n",
    "    if isnothing(uid)\n",
    "        return\n",
    "    end\n",
    "    if length(get_training_split(medium, \"test\").userid) == 0\n",
    "        return\n",
    "    end\n",
    "    for x in alphas\n",
    "        @info (x, check_raw_alpha(x)...)\n",
    "    end\n",
    "end"
   ]
  },
  {
   "cell_type": "code",
   "execution_count": null,
   "id": "bb72832d-25e5-46e5-b5d9-e56f9f19a9db",
   "metadata": {},
   "outputs": [],
   "source": [
    "check_skew()"
   ]
  }
 ],
 "metadata": {
  "kernelspec": {
   "display_name": "Julia 1.9.4",
   "language": "julia",
   "name": "julia-1.9"
  },
  "language_info": {
   "file_extension": ".jl",
   "mimetype": "application/julia",
   "name": "julia",
   "version": "1.9.4"
  }
 },
 "nbformat": 4,
 "nbformat_minor": 5
}
