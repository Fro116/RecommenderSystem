{
 "cells": [
  {
   "cell_type": "markdown",
   "id": "a2559ebd-296e-421f-9421-9e613ddc3c8a",
   "metadata": {},
   "source": [
    "# TrainingServingSkew\n",
    "* Moniitors whether the alphas generated for inference are identical \n",
    "    to the alphas generated during training"
   ]
  },
  {
   "cell_type": "code",
   "execution_count": null,
   "id": "855dd425-8d9c-42c0-8d3e-0d38d0f79300",
   "metadata": {},
   "outputs": [],
   "source": [
    "import NBInclude: @nbinclude\n",
    "import Statistics: mean\n",
    "@nbinclude(\"../InferenceAlphas/Alpha.ipynb\");"
   ]
  },
  {
   "cell_type": "code",
   "execution_count": null,
   "id": "3672bc40-9a69-4628-a7a4-aef4c8e780bd",
   "metadata": {},
   "outputs": [],
   "source": [
    "function read_training_alpha(alpha::String, split::String)\n",
    "    uid = parse(Int, get_recommendee_username()) + 1\n",
    "    content = nothing\n",
    "    if occursin(\"Explicit\", alpha) || alpha in [\"UserAverage\", \"UserVariance\"]\n",
    "        @assert isnothing(content)\n",
    "        content = \"explicit\"\n",
    "    end\n",
    "    if occursin(\"Implicit\", alpha)\n",
    "        @assert isnothing(content)\n",
    "        content = \"implicit\"\n",
    "    end\n",
    "    if occursin(\"Ptw\", alpha)\n",
    "        @assert isnothing(content)\n",
    "        content = \"ptw\"\n",
    "    end\n",
    "    @assert !isnothing(content)\n",
    "    df = read_alpha(alpha, split, content)\n",
    "    mask = df.user .== uid\n",
    "    df =\n",
    "        RatingsDataset(user = df.user[mask], item = df.item[mask], rating = df.rating[mask])\n",
    "    df\n",
    "end;"
   ]
  },
  {
   "cell_type": "code",
   "execution_count": null,
   "id": "766163ef-58c2-4d75-912a-da52f6d8201c",
   "metadata": {},
   "outputs": [],
   "source": [
    "function average_errors(alpha, split)\n",
    "    serving = read_recommendee_alpha(alpha, \"all\")\n",
    "    training = read_training_alpha(alpha, split)\n",
    "    if length(training.item) == 0\n",
    "        return 0\n",
    "    end\n",
    "    abs.(training.rating .- serving.rating[training.item])\n",
    "end\n",
    "\n",
    "function relative_errors(alpha, split)\n",
    "    serving = read_recommendee_alpha(alpha, \"all\")\n",
    "    training = read_training_alpha(alpha, split)\n",
    "    if length(training.item) == 0\n",
    "        return 0\n",
    "    end\n",
    "    ϵ = eps(Float64)\n",
    "    abs.(abs.(training.rating) ./ (abs.(serving.rating[training.item]) .+ ϵ) .- 1)\n",
    "end;"
   ]
  },
  {
   "cell_type": "code",
   "execution_count": null,
   "id": "25287163-01d1-4840-92c9-55390d2e4207",
   "metadata": {},
   "outputs": [],
   "source": [
    "function maximum_error(alpha, split)\n",
    "    maximum(average_errors(alpha, split))\n",
    "end\n",
    "\n",
    "function average_abs_error(alpha, split)\n",
    "    mean(average_errors(alpha, split))\n",
    "end\n",
    "\n",
    "function average_rel_error(alpha, split)\n",
    "    mean(relative_errors(alpha, split))\n",
    "end;"
   ]
  },
  {
   "cell_type": "code",
   "execution_count": null,
   "id": "97288ab9-4b28-4127-a2ce-e07d48b40242",
   "metadata": {},
   "outputs": [],
   "source": [
    "function display_errors(alphas, split)\n",
    "    alpha_padding = maximum(length.(alphas))\n",
    "    number_padding = 16\n",
    "\n",
    "    header_1 = rpad(\"Alpha\", alpha_padding)\n",
    "    header_2 = rpad(\"Avg Abs Error\", number_padding)\n",
    "    header_3 = rpad(\"Avg Rel Error\", number_padding)\n",
    "    header_4 = rpad(\"Max Error\", number_padding)\n",
    "    @info \"$header_1 $header_2 $header_3 $header_4\"\n",
    "\n",
    "    for alpha in alphas\n",
    "        avg_abs_error = rpad(average_abs_error(alpha, split), number_padding)\n",
    "        avg_rel_error = rpad(average_rel_error(alpha, split), number_padding)\n",
    "        max_error = rpad(maximum_error(alpha, split), number_padding)\n",
    "        alpha = rpad(alpha, alpha_padding)\n",
    "        @info \"$alpha $avg_abs_error $avg_rel_error $max_error\"\n",
    "    end\n",
    "end;"
   ]
  },
  {
   "cell_type": "code",
   "execution_count": null,
   "id": "070f5f53-d832-4b5b-8702-be8061d37bec",
   "metadata": {},
   "outputs": [],
   "source": [
    "potential_alphas = readdir(recommendee_alpha_basepath())\n",
    "alphas = sort([\n",
    "    x for\n",
    "    x in potential_alphas if ispath(\"$(recommendee_alpha_basepath())/$(x)/alpha.jld2\")\n",
    "])\n",
    "ensemble_alphas =\n",
    "    sort([\"$x$y\" for x in [\"Linear\", \"Nonlinear\"] for y in [\"Explicit\", \"Implicit\", \"Ptw\"]])\n",
    "inference_only_alphas = sort([\n",
    "    [\"ItemCFRelated\"]\n",
    "    [\"BPR.$x$y\" for x in [\"neural\", \"tree\"] for y in [\"\", \".ptw\"]]\n",
    "])\n",
    "standard_alphas = [x for x in alphas if x ∉ ensemble_alphas && x ∉ inference_only_alphas];"
   ]
  },
  {
   "cell_type": "code",
   "execution_count": null,
   "id": "3e6871cd-79d5-4963-b649-4fa43fca75a7",
   "metadata": {},
   "outputs": [],
   "source": [
    "display_errors(standard_alphas, \"training\")\n",
    "# ensemble alphas do not save training splits"
   ]
  },
  {
   "cell_type": "code",
   "execution_count": null,
   "id": "29af0231-d1b5-412e-affe-774f35c17819",
   "metadata": {},
   "outputs": [],
   "source": [
    "display_errors(standard_alphas, \"validation\")\n",
    "println()\n",
    "display_errors(ensemble_alphas, \"validation\")"
   ]
  },
  {
   "cell_type": "code",
   "execution_count": null,
   "id": "c17d65d5-d6f3-4734-970a-743d583921b4",
   "metadata": {},
   "outputs": [],
   "source": [
    "display_errors(standard_alphas, \"test\")\n",
    "println()\n",
    "display_errors(ensemble_alphas, \"test\")"
   ]
  }
 ],
 "metadata": {
  "kernelspec": {
   "display_name": "Julia 1.8.0-rc1",
   "language": "julia",
   "name": "julia-1.8"
  },
  "language_info": {
   "file_extension": ".jl",
   "mimetype": "application/julia",
   "name": "julia",
   "version": "1.8.0"
  }
 },
 "nbformat": 4,
 "nbformat_minor": 5
}
