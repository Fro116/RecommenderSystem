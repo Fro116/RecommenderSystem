{
 "cells": [
  {
   "cell_type": "markdown",
   "id": "a2559ebd-296e-421f-9421-9e613ddc3c8a",
   "metadata": {},
   "source": [
    "# TrainingServingSkew\n",
    "* Moniitors whether the alphas generated for inference are identical \n",
    "    to the alphas generated during training"
   ]
  },
  {
   "cell_type": "code",
   "execution_count": null,
   "id": "256c270c-ce83-4bb8-97d9-434c1553f5cf",
   "metadata": {
    "tags": [
     "parameters"
    ]
   },
   "outputs": [],
   "source": [
    "username = \"\"\n",
    "task = \"\"\n",
    "medium = \"\""
   ]
  },
  {
   "cell_type": "code",
   "execution_count": null,
   "id": "3af0a7ed-ee57-443b-bbd1-889ed7bd58ae",
   "metadata": {},
   "outputs": [],
   "source": [
    "source_name = \"TrainingServingSkew\""
   ]
  },
  {
   "cell_type": "code",
   "execution_count": null,
   "id": "855dd425-8d9c-42c0-8d3e-0d38d0f79300",
   "metadata": {},
   "outputs": [],
   "source": [
    "import NBInclude: @nbinclude\n",
    "import Statistics: mean\n",
    "@nbinclude(\"../InferenceAlphas/Alpha.ipynb\");"
   ]
  },
  {
   "cell_type": "code",
   "execution_count": null,
   "id": "3672bc40-9a69-4628-a7a4-aef4c8e780bd",
   "metadata": {},
   "outputs": [],
   "source": [
    "function read_training_alpha(\n",
    "    alpha::String,\n",
    "    split::String,\n",
    "    medium::String;\n",
    "    content = nothing,\n",
    ")\n",
    "    uid = parse(Int, get_recommendee_username()) + 1\n",
    "    if isnothing(content)\n",
    "        if occursin(\"ItemCount\", alpha) ||\n",
    "           occursin(\"implicit\", lowercase(alpha)) ||\n",
    "           alpha in [\n",
    "               \"$medium/all/UserAverage\",\n",
    "               \"$medium/all/UserVariance\",\n",
    "               \"$medium/all/SimpleAverage\",\n",
    "               \"$medium/all/SequelSeries\",\n",
    "               \"$medium/$task/MLE.Ensemble\",\n",
    "           ]\n",
    "            content = \"implicit\"\n",
    "        elseif occursin(\"explicit\", lowercase(alpha))\n",
    "            content = \"explicit\"\n",
    "        end\n",
    "        @assert !isnothing(content) alpha\n",
    "    end\n",
    "    df = read_alpha(alpha, split, task, content, medium)\n",
    "    filter(df, df.user .== uid)\n",
    "end;"
   ]
  },
  {
   "cell_type": "code",
   "execution_count": null,
   "id": "766163ef-58c2-4d75-912a-da52f6d8201c",
   "metadata": {},
   "outputs": [],
   "source": [
    "function get_errors(alpha, split, medium, content, fn)\n",
    "    serving = read_recommendee_alpha(alpha, \"all\", medium)\n",
    "    training = read_training_alpha(alpha, split, medium; content = content)\n",
    "    if length(training.item) == 0\n",
    "        return 0\n",
    "    end\n",
    "    fn(training, serving)\n",
    "\n",
    "    abs.(training.rating .- serving.rating[training.item])\n",
    "end\n",
    "\n",
    "function average_errors(alpha, split, medium; content = nothing)\n",
    "    get_errors(\n",
    "        alpha,\n",
    "        split,\n",
    "        medium,\n",
    "        content,\n",
    "        (training, serving) -> abs.(training.rating .- serving.rating[training.item]),\n",
    "    )\n",
    "end\n",
    "\n",
    "function relative_errors(alpha, split, medium; content = nothing)\n",
    "    get_errors(\n",
    "        alpha,\n",
    "        split,\n",
    "        medium,\n",
    "        content,\n",
    "        (training, serving) ->\n",
    "            abs.(\n",
    "                abs.(training.rating) ./\n",
    "                (abs.(serving.rating[training.item]) .+ eps(Float64)) .- 1,\n",
    "            ),\n",
    "    )\n",
    "end;"
   ]
  },
  {
   "cell_type": "code",
   "execution_count": null,
   "id": "25287163-01d1-4840-92c9-55390d2e4207",
   "metadata": {},
   "outputs": [],
   "source": [
    "function maximum_error(alpha, split, medium; content = nothing)\n",
    "    maximum(average_errors(alpha, split, medium; content = content))\n",
    "end\n",
    "\n",
    "function average_abs_error(alpha, split, medium; content = nothing)\n",
    "    mean(average_errors(alpha, split, medium; content = content))\n",
    "end\n",
    "\n",
    "function average_rel_error(alpha, split, medium; content = nothing)\n",
    "    mean(relative_errors(alpha, split, medium; content = content))\n",
    "end;"
   ]
  },
  {
   "cell_type": "code",
   "execution_count": null,
   "id": "97288ab9-4b28-4127-a2ce-e07d48b40242",
   "metadata": {},
   "outputs": [],
   "source": [
    "function display_errors(alphas, split, medium; content = nothing)\n",
    "    if isempty(alphas)\n",
    "        return\n",
    "    end\n",
    "    alpha_padding = maximum(length.(alphas))\n",
    "    number_padding = 16\n",
    "\n",
    "    header_1 = rpad(\"Alpha\", alpha_padding)\n",
    "    header_2 = rpad(\"Avg Abs Error\", number_padding)\n",
    "    header_3 = rpad(\"Avg Rel Error\", number_padding)\n",
    "    header_4 = rpad(\"Max Error\", number_padding)\n",
    "    @info \"$header_1 $header_2 $header_3 $header_4\"\n",
    "\n",
    "    for alpha in alphas\n",
    "        GC.gc()\n",
    "        avg_abs_error =\n",
    "            rpad(average_abs_error(alpha, split, medium; content = content), number_padding)\n",
    "        avg_rel_error =\n",
    "            rpad(average_rel_error(alpha, split, medium; content = content), number_padding)\n",
    "        max_error =\n",
    "            rpad(maximum_error(alpha, split, medium; content = content), number_padding)\n",
    "        alpha = rpad(alpha, alpha_padding)\n",
    "        @info \"$alpha $avg_abs_error $avg_rel_error $max_error\"\n",
    "    end\n",
    "end;"
   ]
  },
  {
   "cell_type": "code",
   "execution_count": null,
   "id": "070f5f53-d832-4b5b-8702-be8061d37bec",
   "metadata": {},
   "outputs": [],
   "source": [
    "potential_alphas = vcat(\n",
    "    [\n",
    "        [\"$medium/$t/\" * x for x in readdir(recommendee_alpha_basepath() * \"/$medium/$t\")] for t in [\"all\", task]\n",
    "    ]...,\n",
    "    [\"$medium/$task/Transformer/v1/explicit\", \"$medium/$task/Transformer/v1/implicit\"],\n",
    ")\n",
    "alphas = sort([\n",
    "    x for\n",
    "    x in potential_alphas if ispath(\"$(recommendee_alpha_basepath())/$(x)/alpha.jld2\")\n",
    "])\n",
    "validation_alphas = sort([\"$medium/$task/Linear$x\" for x in [\"Explicit\", \"Implicit\"]])\n",
    "# test_alphas = sort([\"$medium/$task/MLE.Ensemble\"])\n",
    "test_alphas = String[]\n",
    "inference_only_alphas = sort(\n",
    "    vcat(\n",
    "        [\n",
    "            \"$medium/all/RecapSeries\",\n",
    "            \"$medium/all/RelatedSeries\",\n",
    "            \"$medium/all/CrossRelatedSeries\",\n",
    "            \"$medium/all/CrossRecapSeries\",\n",
    "        ],\n",
    "        [x for x in alphas if occursin(\"MLE.Ensemble\", x)],\n",
    "    ),\n",
    ")\n",
    "training_alphas = [\n",
    "    x for\n",
    "    x in alphas if x ∉ validation_alphas && x ∉ test_alphas && x ∉ inference_only_alphas\n",
    "];"
   ]
  },
  {
   "cell_type": "markdown",
   "id": "9471e0c7-2839-4768-83bc-999da9d0cea9",
   "metadata": {
    "tags": []
   },
   "source": [
    "# Regular splits"
   ]
  },
  {
   "cell_type": "code",
   "execution_count": null,
   "id": "3e6871cd-79d5-4963-b649-4fa43fca75a7",
   "metadata": {},
   "outputs": [],
   "source": [
    "display_errors(training_alphas, \"training\", medium)"
   ]
  },
  {
   "cell_type": "code",
   "execution_count": null,
   "id": "29af0231-d1b5-412e-affe-774f35c17819",
   "metadata": {},
   "outputs": [],
   "source": [
    "# display_errors(training_alphas, \"validation\")\n",
    "# println()\n",
    "# display_errors(validation_alphas, \"validation\")"
   ]
  },
  {
   "cell_type": "code",
   "execution_count": null,
   "id": "c17d65d5-d6f3-4734-970a-743d583921b4",
   "metadata": {},
   "outputs": [],
   "source": [
    "display_errors(training_alphas, \"test\", medium)\n",
    "println()\n",
    "display_errors(validation_alphas, \"test\", medium)\n",
    "println()\n",
    "display_errors(test_alphas, \"test\", medium)"
   ]
  },
  {
   "cell_type": "markdown",
   "id": "783777e5-086c-4159-944d-db63618cc0a4",
   "metadata": {
    "tags": []
   },
   "source": [
    "# Negative splits"
   ]
  },
  {
   "cell_type": "code",
   "execution_count": null,
   "id": "75423595-1721-42ff-8571-95a2170260e9",
   "metadata": {},
   "outputs": [],
   "source": [
    "# display_errors(training_alphas, \"training\"; content = \"negative\")"
   ]
  },
  {
   "cell_type": "code",
   "execution_count": null,
   "id": "c2b887eb-d4ae-469a-a11a-d24cbd5189df",
   "metadata": {},
   "outputs": [],
   "source": [
    "# display_errors(training_alphas, \"validation\"; content = \"negative\")\n",
    "# println()\n",
    "# display_errors(validation_alphas, \"validation\"; content = \"negative\")"
   ]
  },
  {
   "cell_type": "code",
   "execution_count": null,
   "id": "b8fb8bd8-e962-419e-b33a-eac684663d2a",
   "metadata": {},
   "outputs": [],
   "source": [
    "display_errors(training_alphas, \"test\", medium; content = \"negative\")\n",
    "println()\n",
    "display_errors(validation_alphas, \"test\", medium; content = \"negative\")\n",
    "println()\n",
    "display_errors(test_alphas, \"test\", medium; content = \"negative\")"
   ]
  }
 ],
 "metadata": {
  "kernelspec": {
   "display_name": "Julia 1.9.0-rc2",
   "language": "julia",
   "name": "julia-1.9"
  },
  "language_info": {
   "file_extension": ".jl",
   "mimetype": "application/julia",
   "name": "julia",
   "version": "1.9.0"
  }
 },
 "nbformat": 4,
 "nbformat_minor": 5
}
