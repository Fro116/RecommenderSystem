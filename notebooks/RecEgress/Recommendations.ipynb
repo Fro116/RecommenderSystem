{
 "cells": [
  {
   "cell_type": "code",
   "execution_count": null,
   "id": "6ec5877a-e91f-48f7-814e-df5b66fc763e",
   "metadata": {
    "tags": [
     "parameters"
    ]
   },
   "outputs": [],
   "source": [
    "username = \"Fro116\"\n",
    "source = \"MAL\"\n",
    "medium = \"anime\";"
   ]
  },
  {
   "cell_type": "code",
   "execution_count": null,
   "id": "021d0dd4-cad8-4f79-b7ac-2198dc8680e9",
   "metadata": {},
   "outputs": [],
   "source": [
    "import NBInclude: @nbinclude\n",
    "@nbinclude(\"RecommendationsBase.ipynb\");\n",
    "# TODO ptw series"
   ]
  },
  {
   "cell_type": "code",
   "execution_count": null,
   "id": "8ebdac71-3af2-41da-b2a9-6934b2082693",
   "metadata": {},
   "outputs": [],
   "source": [
    "a = get_rec_df(\"temporal\", medium, \".2\");"
   ]
  },
  {
   "cell_type": "code",
   "execution_count": null,
   "id": "9e50fcae-d77f-4d7c-bfab-981e81f3f52a",
   "metadata": {
    "tags": []
   },
   "outputs": [],
   "source": [
    "a |>\n",
    "inv(seen) |>\n",
    "inv(recap) |>\n",
    "inv(dependent) |>\n",
    "inv(crossrelated) |>\n",
    "released(medium) |>\n",
    "top(40) |>\n",
    "display(medium)"
   ]
  },
  {
   "cell_type": "code",
   "execution_count": null,
   "id": "73f1de20-d9a1-407d-a672-e8c31a2284e2",
   "metadata": {},
   "outputs": [],
   "source": [
    "b = get_rec_df(\"temporal_causal\", medium, \".2\");"
   ]
  },
  {
   "cell_type": "code",
   "execution_count": null,
   "id": "969d087b-92f0-4546-bf13-05e8cba5f686",
   "metadata": {
    "tags": []
   },
   "outputs": [],
   "source": [
    "b |>\n",
    "inv(seen) |>\n",
    "inv(recap) |>\n",
    "inv(dependent) |>\n",
    "inv(crossrelated) |>\n",
    "released(medium) |>\n",
    "top(40) |>\n",
    "display(medium)"
   ]
  },
  {
   "cell_type": "markdown",
   "id": "6036438e-4d90-477c-867d-e4b3bc54f5e0",
   "metadata": {},
   "source": [
    "# RERANKING"
   ]
  },
  {
   "cell_type": "code",
   "execution_count": null,
   "id": "aab58985-b786-43a0-ac20-c9ecd230e4c5",
   "metadata": {},
   "outputs": [],
   "source": [
    "@memoize function get_similarity_metric(medium::String, weights = nothing)\n",
    "    alphas = [\"$medium/all/WatchSimilarity\", \"$medium/all/GenreSimilarity\"]\n",
    "    if medium == \"anime\"\n",
    "        push!(alphas, \"$medium/all/TagSimilarity\")\n",
    "    end\n",
    "    if isnothing(weights)\n",
    "        weights = ones(Float32, length(alphas))\n",
    "    end\n",
    "    weights ./ sum(weights)\n",
    "    sum([read_params(x)[\"S\"] for x in alphas] .* weights)\n",
    "end;"
   ]
  },
  {
   "cell_type": "code",
   "execution_count": null,
   "id": "02742226-6ec8-4e01-8b73-cfe82a717011",
   "metadata": {},
   "outputs": [],
   "source": [
    "get_similarity_metric(\"anime\");"
   ]
  },
  {
   "cell_type": "code",
   "execution_count": null,
   "id": "d4cc435e-b606-4263-bd86-04b83ff981f1",
   "metadata": {},
   "outputs": [],
   "source": [
    "get_similarity_metric(\"manga\");"
   ]
  },
  {
   "cell_type": "code",
   "execution_count": null,
   "id": "e28f6dd0-70ed-4285-a17f-d2963237ecba",
   "metadata": {},
   "outputs": [],
   "source": [
    "function solve_quadratic_program(\n",
    "    list_size,\n",
    "    similarity_metric,\n",
    "    relevance_scores,\n",
    "    attributes,\n",
    "    relative_constraints,\n",
    ")\n",
    "    # solves the quadratic program:\n",
    "    # minimize x' * similarity_metric * x - relevance_scores * x \n",
    "    # with the constraints:\n",
    "    # sum(x) = list_size\n",
    "    # x \\in {0, 1} are binary variables    \n",
    "    # attributes[i]' * x <= constraints[i] for all i\n",
    "\n",
    "    # scale problem by list_size\n",
    "    N = size(similarity_metric)[1]\n",
    "    similarity_metric ./= list_size^2\n",
    "    relevance_scores ./= list_size\n",
    "    constraints = [ceil(x * list_size) for x in relative_constraints]\n",
    "\n",
    "    # make the initial optimization problem convex\n",
    "    # this will not change the solution to the minimization problem\n",
    "    posdef_penalty = 0\n",
    "    while !LinearAlgebra.isposdef(similarity_metric)\n",
    "        similarity_metric -= posdef_penalty * LinearAlgebra.I(N)\n",
    "        posdef_penalty = max(1, posdef_penalty * 2)\n",
    "        similarity_metric += posdef_penalty * LinearAlgebra.I(N)\n",
    "    end\n",
    "\n",
    "    # solve the mixed-integer quadratic problem by\n",
    "    # iteratively solving the QP with an increasing penalty \n",
    "    # for non-binary solutions\n",
    "    nonbinary_penalty = 0\n",
    "    model = nothing\n",
    "    warm_start = zeros(N)\n",
    "    epsilon = 0.01\n",
    "    while sum(warm_start .> epsilon) != list_size\n",
    "        # model\n",
    "        model = Model(\n",
    "            optimizer_with_attributes(Ipopt.Optimizer, \"print_level\" => 0, \"sb\" => \"yes\"),\n",
    "        )\n",
    "        @variable(model, 0 <= x[1:N] <= 1)\n",
    "        JuMP.set_start_value.(x, warm_start)\n",
    "\n",
    "        # constraints\n",
    "        @constraint(model, sum(x) == list_size)\n",
    "        for i = 1:length(constraints)\n",
    "            @constraint(model, attributes[i]' * x <= constraints[i])\n",
    "        end\n",
    "\n",
    "        #objective\n",
    "        @expression(model, relevance, relevance_scores' * x)\n",
    "        @expression(model, similarity, x' * similarity_metric * x)\n",
    "        @expression(model, penalty, nonbinary_penalty * x' * (1 .- x))\n",
    "        @objective(model, Min, similarity - relevance + penalty)\n",
    "\n",
    "        # solve\n",
    "        optimize!(model)\n",
    "        y = value.(x)\n",
    "        nonbinary_penalty = max(1, nonbinary_penalty * 2)\n",
    "        if nonbinary_penalty > 2^10\n",
    "            @info \"could not solve miqp $list_size. dropping constraint\"\n",
    "            @assert length(constraints) > 0\n",
    "            skip = (list_size % length(constraints)) + 1\n",
    "            return solve_quadratic_program(\n",
    "                list_size,\n",
    "                similarity_metric,\n",
    "                relevance_scores,\n",
    "                [attributes[i] for i in 1:length(attributes) if i != skip],\n",
    "                [relative_constraints[i] for i in 1:length(constraints) if i != skip],\n",
    "            )\n",
    "        end\n",
    "        warm_start = value.(x)\n",
    "    end\n",
    "\n",
    "    collect(1:length(warm_start))[warm_start.>epsilon]\n",
    "end;"
   ]
  },
  {
   "cell_type": "code",
   "execution_count": null,
   "id": "13ea1c93-4d98-4a78-9015-2766fcb3f37d",
   "metadata": {},
   "outputs": [],
   "source": [
    "function get_reranking_order(\n",
    "    similarity_metric,\n",
    "    list_size,\n",
    "    relevance_scores,\n",
    "    attributes,\n",
    "    constraints,\n",
    ")\n",
    "    # get a subset of the list_size best recs\n",
    "    candidates = solve_quadratic_program(\n",
    "        list_size,\n",
    "        similarity_metric,\n",
    "        relevance_scores,\n",
    "        attributes,\n",
    "        constraints,\n",
    "    )\n",
    "\n",
    "    # rerank the recs such that the top N items \n",
    "    # are a optimal subset for any 1 <= N <= list_size\n",
    "    order = []\n",
    "    while length(candidates) > 0\n",
    "        new_candidates = candidates[solve_quadratic_program(\n",
    "            length(candidates) - 1,\n",
    "            similarity_metric[candidates, candidates],\n",
    "            relevance_scores[candidates],\n",
    "            [x[candidates] for x in attributes],\n",
    "            constraints,\n",
    "        )]\n",
    "        worst_candidate = [x for x in candidates if x ∉ new_candidates][1]\n",
    "        candidates = [x for x in candidates if x != worst_candidate]\n",
    "        pushfirst!(order, worst_candidate)\n",
    "    end\n",
    "    order\n",
    "end;"
   ]
  },
  {
   "cell_type": "code",
   "execution_count": null,
   "id": "685a602c-1d02-435b-a090-482773cf3d2e",
   "metadata": {},
   "outputs": [],
   "source": [
    "function rerank(df, medium::String, list_size; similarity_penalty)\n",
    "    S = similarity_penalty * get_similarity_metric(medium)[df.uid.+1, df.uid.+1]\n",
    "    order = get_reranking_order(\n",
    "        S,\n",
    "        list_size,\n",
    "        copy(df.score), # exp.(df.score),\n",
    "        [],\n",
    "        [],\n",
    "        # [df.long_runner, df.related],\n",
    "        # [long_runner_constraint, related_constraint],\n",
    "    )\n",
    "    df[order, :]\n",
    "end;"
   ]
  },
  {
   "cell_type": "code",
   "execution_count": null,
   "id": "54c47ef0-41c8-402f-9e27-0e7b146428f6",
   "metadata": {},
   "outputs": [],
   "source": [
    "c =\n",
    "    b |>\n",
    "    inv(seen) |>\n",
    "    inv(recap) |>\n",
    "    inv(dependent) |>\n",
    "    inv(crossrelated) |>\n",
    "    released(medium) |>\n",
    "    # startdate(2023, 01) |>\n",
    "    top(5);"
   ]
  },
  {
   "cell_type": "code",
   "execution_count": null,
   "id": "517a3121-1fd3-47ea-848a-59b7da6b97f1",
   "metadata": {},
   "outputs": [],
   "source": [
    "# TODO bucketwise randomization"
   ]
  },
  {
   "cell_type": "code",
   "execution_count": null,
   "id": "8b254dca-4840-44fe-b29f-35b96425422a",
   "metadata": {},
   "outputs": [],
   "source": [
    "rerank(c, \"anime\", length(c.title); similarity_penalty = 1000) |> display(\"anime\")"
   ]
  },
  {
   "cell_type": "code",
   "execution_count": null,
   "id": "6480cb43-1c21-423b-b6b6-d703d5580531",
   "metadata": {
    "tags": []
   },
   "outputs": [],
   "source": [
    "rerank(c, \"anime\", length(c.title); similarity_penalty = 0.1) |> display(\"anime\")"
   ]
  }
 ],
 "metadata": {
  "kernelspec": {
   "display_name": "Julia 1.9.0-rc2",
   "language": "julia",
   "name": "julia-1.9"
  },
  "language_info": {
   "file_extension": ".jl",
   "mimetype": "application/julia",
   "name": "julia",
   "version": "1.9.0"
  }
 },
 "nbformat": 4,
 "nbformat_minor": 5
}
