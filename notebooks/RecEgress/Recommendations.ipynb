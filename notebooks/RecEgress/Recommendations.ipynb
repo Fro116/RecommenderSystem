{
 "cells": [
  {
   "cell_type": "code",
   "execution_count": null,
   "id": "021d0dd4-cad8-4f79-b7ac-2198dc8680e9",
   "metadata": {},
   "outputs": [],
   "source": [
    "import NBInclude: @nbinclude\n",
    "@nbinclude(\"RecommendationsBase.ipynb\");"
   ]
  },
  {
   "cell_type": "markdown",
   "id": "4bbff9b5-51eb-4d21-8c94-950f9ad9e3fd",
   "metadata": {},
   "source": [
    "## Curated TV Series"
   ]
  },
  {
   "cell_type": "code",
   "execution_count": null,
   "id": "bbcb4f02-77de-4d35-b80b-ca8083203590",
   "metadata": {
    "tags": []
   },
   "outputs": [],
   "source": [
    "first(\n",
    "    rec_df |>\n",
    "    tv_display |>\n",
    "    implicit_display |>\n",
    "    explicit_display |>\n",
    "    unrelated_display |>\n",
    "    unseen_display,\n",
    "    50,\n",
    ")"
   ]
  },
  {
   "cell_type": "markdown",
   "id": "db5d27e1-c407-40be-a562-d84d559c1de4",
   "metadata": {
    "tags": []
   },
   "source": [
    "## Popular items"
   ]
  },
  {
   "cell_type": "code",
   "execution_count": null,
   "id": "b71a85fa-a826-46ef-9653-8109e0dbbc11",
   "metadata": {
    "tags": []
   },
   "outputs": [],
   "source": [
    "first(\n",
    "    rec_df |> tv_display |> inv_implicit_display |> unrelated_display |> unseen_display,\n",
    "    10,\n",
    ")"
   ]
  },
  {
   "cell_type": "markdown",
   "id": "1fafd801-74b1-4788-888a-c4ce64addf87",
   "metadata": {},
   "source": [
    "## Highly Rated Items"
   ]
  },
  {
   "cell_type": "code",
   "execution_count": null,
   "id": "f3c1bf49-5626-47ec-a786-4ae9786e4e67",
   "metadata": {},
   "outputs": [],
   "source": [
    "first(\n",
    "    rec_df |> tv_display |> inv_explicit_display |> unrelated_display |> unseen_display,\n",
    "    10,\n",
    ")"
   ]
  },
  {
   "cell_type": "markdown",
   "id": "c277e6e7-b832-42ee-9da5-8d9ba5af97b9",
   "metadata": {},
   "source": [
    "## Curated Specials"
   ]
  },
  {
   "cell_type": "code",
   "execution_count": null,
   "id": "7afa4ed5-1b02-4f36-8a66-5f2be5665d85",
   "metadata": {
    "tags": []
   },
   "outputs": [],
   "source": [
    "first(\n",
    "    rec_df |>\n",
    "    inv_tv_display |>\n",
    "    implicit_display |>\n",
    "    explicit_display |>\n",
    "    unrelated_display |>\n",
    "    unseen_display,\n",
    "    10,\n",
    ")"
   ]
  },
  {
   "cell_type": "markdown",
   "id": "f7f64fdd-a7d6-4ef6-bc2a-88701b32d2c7",
   "metadata": {},
   "source": [
    "## Continue Watching TV Series"
   ]
  },
  {
   "cell_type": "code",
   "execution_count": null,
   "id": "2d4e0462-1c58-4178-a545-cdc606506b75",
   "metadata": {},
   "outputs": [],
   "source": [
    "first(rec_df |> tv_display |> related_display |> unseen_display, 10)"
   ]
  },
  {
   "cell_type": "markdown",
   "id": "d33d9bca-8a0d-4277-9825-d2b2424c547a",
   "metadata": {},
   "source": [
    "## Continue Watching Specials"
   ]
  },
  {
   "cell_type": "code",
   "execution_count": null,
   "id": "6f435800-0df1-4846-af40-8d98f22c8701",
   "metadata": {},
   "outputs": [],
   "source": [
    "first(rec_df |> inv_tv_display |> related_display |> unseen_display, 10)"
   ]
  }
 ],
 "metadata": {
  "kernelspec": {
   "display_name": "Julia 1.8.0-rc1",
   "language": "julia",
   "name": "julia-1.8"
  },
  "language_info": {
   "file_extension": ".jl",
   "mimetype": "application/julia",
   "name": "julia",
   "version": "1.8.0"
  }
 },
 "nbformat": 4,
 "nbformat_minor": 5
}
