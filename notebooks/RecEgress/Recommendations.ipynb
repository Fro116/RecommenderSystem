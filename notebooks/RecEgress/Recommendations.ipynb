{
 "cells": [
  {
   "cell_type": "code",
   "execution_count": null,
   "id": "6ec5877a-e91f-48f7-814e-df5b66fc763e",
   "metadata": {
    "tags": [
     "parameters"
    ]
   },
   "outputs": [],
   "source": [
    "username = \"\"\n",
    "source = \"\";"
   ]
  },
  {
   "cell_type": "code",
   "execution_count": null,
   "id": "021d0dd4-cad8-4f79-b7ac-2198dc8680e9",
   "metadata": {},
   "outputs": [],
   "source": [
    "import NBInclude: @nbinclude\n",
    "@nbinclude(\"RecommendationsBase.ipynb\");"
   ]
  },
  {
   "cell_type": "code",
   "execution_count": null,
   "id": "b90ee3e7-2b0e-4cf7-b9a0-f1a3ff2c7dc5",
   "metadata": {
    "tags": []
   },
   "outputs": [],
   "source": [
    "for task in ALL_TASKS\n",
    "    get_twostage_recs(task)\n",
    "end"
   ]
  },
  {
   "cell_type": "code",
   "execution_count": null,
   "id": "5279d827-e08f-4187-8f47-0984e92bff88",
   "metadata": {
    "tags": []
   },
   "outputs": [],
   "source": [
    "for task in ALL_TASKS\n",
    "    get_onestage_recs(task)\n",
    "end"
   ]
  }
 ],
 "metadata": {
  "kernelspec": {
   "display_name": "Julia 1.8.3",
   "language": "julia",
   "name": "julia-1.8"
  },
  "language_info": {
   "file_extension": ".jl",
   "mimetype": "application/julia",
   "name": "julia",
   "version": "1.8.3"
  }
 },
 "nbformat": 4,
 "nbformat_minor": 5
}
