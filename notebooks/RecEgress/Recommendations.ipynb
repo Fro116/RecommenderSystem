{
 "cells": [
  {
   "cell_type": "code",
   "execution_count": null,
   "id": "6ec5877a-e91f-48f7-814e-df5b66fc763e",
   "metadata": {
    "tags": [
     "parameters"
    ]
   },
   "outputs": [],
   "source": [
    "username = \"\"\n",
    "source = \"\";"
   ]
  },
  {
   "cell_type": "code",
   "execution_count": null,
   "id": "021d0dd4-cad8-4f79-b7ac-2198dc8680e9",
   "metadata": {},
   "outputs": [],
   "source": [
    "import NBInclude: @nbinclude\n",
    "@nbinclude(\"RecommendationsBase.ipynb\");"
   ]
  },
  {
   "cell_type": "code",
   "execution_count": null,
   "id": "7ae750d8-86a9-4bbe-813d-4d73a9082251",
   "metadata": {},
   "outputs": [],
   "source": [
    "Random.seed!(hash(username))\n",
    "abtest_order = Random.shuffle(1:3);"
   ]
  },
  {
   "cell_type": "markdown",
   "id": "4bbff9b5-51eb-4d21-8c94-950f9ad9e3fd",
   "metadata": {
    "tags": []
   },
   "source": [
    "# Variant A"
   ]
  },
  {
   "cell_type": "code",
   "execution_count": null,
   "id": "38a1ff11-ae63-462e-99f6-e0a6e736b5c0",
   "metadata": {
    "tags": []
   },
   "outputs": [],
   "source": [
    "recommendations(abtest_order[1])"
   ]
  },
  {
   "cell_type": "markdown",
   "id": "f7f64fdd-a7d6-4ef6-bc2a-88701b32d2c7",
   "metadata": {},
   "source": [
    "# Variant B"
   ]
  },
  {
   "cell_type": "code",
   "execution_count": null,
   "id": "2d4e0462-1c58-4178-a545-cdc606506b75",
   "metadata": {
    "tags": []
   },
   "outputs": [],
   "source": [
    "recommendations(abtest_order[2])"
   ]
  },
  {
   "cell_type": "markdown",
   "id": "695369a9-a120-4ab8-8a99-947d104c65de",
   "metadata": {
    "tags": []
   },
   "source": [
    "# Variant C"
   ]
  },
  {
   "cell_type": "code",
   "execution_count": null,
   "id": "ae29ebde-da5d-4a4b-9003-c7ebee6463f8",
   "metadata": {},
   "outputs": [],
   "source": [
    "recommendations(abtest_order[3])"
   ]
  }
 ],
 "metadata": {
  "kernelspec": {
   "display_name": "Julia 1.8.3",
   "language": "julia",
   "name": "julia-1.8"
  },
  "language_info": {
   "file_extension": ".jl",
   "mimetype": "application/julia",
   "name": "julia",
   "version": "1.8.3"
  }
 },
 "nbformat": 4,
 "nbformat_minor": 5
}
