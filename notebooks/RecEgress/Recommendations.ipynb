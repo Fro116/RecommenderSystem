{
 "cells": [
  {
   "cell_type": "code",
   "execution_count": null,
   "id": "6ec5877a-e91f-48f7-814e-df5b66fc763e",
   "metadata": {
    "tags": [
     "parameters"
    ]
   },
   "outputs": [],
   "source": [
    "username = \"\"\n",
    "source = \"\";"
   ]
  },
  {
   "cell_type": "code",
   "execution_count": null,
   "id": "021d0dd4-cad8-4f79-b7ac-2198dc8680e9",
   "metadata": {},
   "outputs": [],
   "source": [
    "import NBInclude: @nbinclude\n",
    "@nbinclude(\"RecommendationsBase.ipynb\");"
   ]
  },
  {
   "cell_type": "code",
   "execution_count": null,
   "id": "b7214ba6-fda9-4ee1-8b5e-86a033da58b1",
   "metadata": {},
   "outputs": [],
   "source": [
    "get_recs(\"temporal\", \"\")"
   ]
  },
  {
   "cell_type": "code",
   "execution_count": null,
   "id": "d59299d6-68b7-485f-ab56-23882efdcc26",
   "metadata": {
    "tags": []
   },
   "outputs": [],
   "source": [
    "get_recs(\"random\", \"\")"
   ]
  }
 ],
 "metadata": {
  "kernelspec": {
   "display_name": "Julia 1.8.3",
   "language": "julia",
   "name": "julia-1.8"
  },
  "language_info": {
   "file_extension": ".jl",
   "mimetype": "application/julia",
   "name": "julia",
   "version": "1.8.3"
  }
 },
 "nbformat": 4,
 "nbformat_minor": 5
}
