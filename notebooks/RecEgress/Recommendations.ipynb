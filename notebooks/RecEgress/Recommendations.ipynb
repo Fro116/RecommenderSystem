{
 "cells": [
  {
   "cell_type": "code",
   "execution_count": null,
   "id": "f436e68f-1a36-4392-9858-fc732bca7d5a",
   "metadata": {
    "tags": [
     "parameters"
    ]
   },
   "outputs": [],
   "source": [
    "username = \"\"\n",
    "source = \"\""
   ]
  },
  {
   "cell_type": "code",
   "execution_count": null,
   "id": "021d0dd4-cad8-4f79-b7ac-2198dc8680e9",
   "metadata": {},
   "outputs": [],
   "source": [
    "import NBInclude: @nbinclude\n",
    "@nbinclude(\"RecommendationsBase.ipynb\");"
   ]
  },
  {
   "cell_type": "code",
   "execution_count": null,
   "id": "10094faf-2d94-4788-bbc7-08b2bdb041f8",
   "metadata": {},
   "outputs": [],
   "source": [
    "function top(df::DataFrame, n::Integer)\n",
    "    df = first(sort(df, :score), n)\n",
    "    df = select(df, Not([:recap, :related, :ptw, :seen, :animeid, :uid]))\n",
    "    headers = titlecase.(replace.(names(df), \"_\" => \" \"))\n",
    "    Base.show(\n",
    "        stdout,\n",
    "        MIME(\"text/html\"),\n",
    "        df;\n",
    "        allow_html_in_cells = true,\n",
    "        header = headers,\n",
    "        nosubheader = true,\n",
    "        row_number_column_title = \"Rank\",\n",
    "        top_left_str = \"\",\n",
    "    )\n",
    "end\n",
    "\n",
    "top(n::Integer) = x -> top(x, n);"
   ]
  },
  {
   "cell_type": "markdown",
   "id": "4bbff9b5-51eb-4d21-8c94-950f9ad9e3fd",
   "metadata": {
    "tags": []
   },
   "source": [
    "## Curated Feed"
   ]
  },
  {
   "cell_type": "code",
   "execution_count": null,
   "id": "7a89ce29-0874-435a-a37b-06b125d4ce4f",
   "metadata": {
    "tags": []
   },
   "outputs": [],
   "source": [
    "rec_df |> implicit |> explicit |> inv_related |> inv_seen |> top(100)"
   ]
  },
  {
   "cell_type": "markdown",
   "id": "db5d27e1-c407-40be-a562-d84d559c1de4",
   "metadata": {
    "tags": []
   },
   "source": [
    "## Popular Series"
   ]
  },
  {
   "cell_type": "code",
   "execution_count": null,
   "id": "b71a85fa-a826-46ef-9653-8109e0dbbc11",
   "metadata": {
    "tags": []
   },
   "outputs": [],
   "source": [
    "rec_df |> tv |> inv_implicit |> explicit |> inv_related |> inv_seen |> top(10)"
   ]
  },
  {
   "cell_type": "markdown",
   "id": "1fafd801-74b1-4788-888a-c4ce64addf87",
   "metadata": {},
   "source": [
    "## Highly Rated Series"
   ]
  },
  {
   "cell_type": "code",
   "execution_count": null,
   "id": "f3c1bf49-5626-47ec-a786-4ae9786e4e67",
   "metadata": {},
   "outputs": [],
   "source": [
    "rec_df |> tv |> implicit |> inv_explicit |> inv_related |> inv_seen |> top(10)"
   ]
  },
  {
   "cell_type": "markdown",
   "id": "f7f64fdd-a7d6-4ef6-bc2a-88701b32d2c7",
   "metadata": {},
   "source": [
    "## Continue Watching"
   ]
  },
  {
   "cell_type": "code",
   "execution_count": null,
   "id": "2d4e0462-1c58-4178-a545-cdc606506b75",
   "metadata": {
    "tags": []
   },
   "outputs": [],
   "source": [
    "rec_df |> tv |> related |> inv_seen |> top(5)"
   ]
  },
  {
   "cell_type": "code",
   "execution_count": null,
   "id": "7afa4ed5-1b02-4f36-8a66-5f2be5665d85",
   "metadata": {
    "tags": []
   },
   "outputs": [],
   "source": [
    "rec_df |> inv_tv |> related |> inv_recap |> inv_seen |> top(5)"
   ]
  },
  {
   "cell_type": "markdown",
   "id": "d33d9bca-8a0d-4277-9825-d2b2424c547a",
   "metadata": {},
   "source": [
    "## Plan to Watch"
   ]
  },
  {
   "cell_type": "code",
   "execution_count": null,
   "id": "6f435800-0df1-4846-af40-8d98f22c8701",
   "metadata": {},
   "outputs": [],
   "source": [
    "rec_df |> ptw |> top(10)"
   ]
  }
 ],
 "metadata": {
  "kernelspec": {
   "display_name": "Julia 1.8.2",
   "language": "julia",
   "name": "julia-1.8"
  },
  "language_info": {
   "file_extension": ".jl",
   "mimetype": "application/julia",
   "name": "julia",
   "version": "1.8.2"
  }
 },
 "nbformat": 4,
 "nbformat_minor": 5
}
