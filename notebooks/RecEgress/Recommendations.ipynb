{
 "cells": [
  {
   "cell_type": "code",
   "execution_count": null,
   "id": "f436e68f-1a36-4392-9858-fc732bca7d5a",
   "metadata": {
    "tags": [
     "parameters"
    ]
   },
   "outputs": [],
   "source": [
    "username = \"\"\n",
    "source = \"\";"
   ]
  },
  {
   "cell_type": "code",
   "execution_count": null,
   "id": "021d0dd4-cad8-4f79-b7ac-2198dc8680e9",
   "metadata": {},
   "outputs": [],
   "source": [
    "import NBInclude: @nbinclude\n",
    "@nbinclude(\"RecommendationsBase.ipynb\");"
   ]
  },
  {
   "cell_type": "markdown",
   "id": "4bbff9b5-51eb-4d21-8c94-950f9ad9e3fd",
   "metadata": {
    "tags": []
   },
   "source": [
    "# Curated Feed\n",
    "* Score: The predicted probability that $x \\in X$ is your favorite item is $\\dfrac{\\exp(score_x)}{\\sum_{y\\in X} \\exp(score_y)}$"
   ]
  },
  {
   "cell_type": "code",
   "execution_count": null,
   "id": "38a1ff11-ae63-462e-99f6-e0a6e736b5c0",
   "metadata": {
    "tags": []
   },
   "outputs": [],
   "source": [
    "curated_feed(200)"
   ]
  },
  {
   "cell_type": "markdown",
   "id": "f7f64fdd-a7d6-4ef6-bc2a-88701b32d2c7",
   "metadata": {},
   "source": [
    "# Continue Watching\n",
    "* Items that are related to shows you have watched (sequels/side stories/etc)"
   ]
  },
  {
   "cell_type": "code",
   "execution_count": null,
   "id": "2d4e0462-1c58-4178-a545-cdc606506b75",
   "metadata": {
    "tags": []
   },
   "outputs": [],
   "source": [
    "continue_watching_tv(5)"
   ]
  },
  {
   "cell_type": "code",
   "execution_count": null,
   "id": "7afa4ed5-1b02-4f36-8a66-5f2be5665d85",
   "metadata": {
    "tags": []
   },
   "outputs": [],
   "source": [
    "continue_watching_specials(5)"
   ]
  },
  {
   "cell_type": "markdown",
   "id": "d33d9bca-8a0d-4277-9825-d2b2424c547a",
   "metadata": {},
   "source": [
    "# Plan to Watch\n",
    "* Items on your plan to watch list"
   ]
  },
  {
   "cell_type": "code",
   "execution_count": null,
   "id": "6f435800-0df1-4846-af40-8d98f22c8701",
   "metadata": {},
   "outputs": [],
   "source": [
    "plan_to_watch(10)"
   ]
  },
  {
   "cell_type": "markdown",
   "id": "8efb2df2-db7d-438b-b883-22f145e507f2",
   "metadata": {
    "tags": []
   },
   "source": [
    "# Filtered Items\n",
    "* An experimental feature that filters out negative items from your feed"
   ]
  },
  {
   "cell_type": "code",
   "execution_count": null,
   "id": "e1d3f0e5-ab69-4aeb-bd74-a52a763b06ba",
   "metadata": {
    "tags": []
   },
   "outputs": [],
   "source": [
    "outlier_feed(200)"
   ]
  }
 ],
 "metadata": {
  "kernelspec": {
   "display_name": "Julia 1.8.3",
   "language": "julia",
   "name": "julia-1.8"
  },
  "language_info": {
   "file_extension": ".jl",
   "mimetype": "application/julia",
   "name": "julia",
   "version": "1.8.3"
  }
 },
 "nbformat": 4,
 "nbformat_minor": 5
}
