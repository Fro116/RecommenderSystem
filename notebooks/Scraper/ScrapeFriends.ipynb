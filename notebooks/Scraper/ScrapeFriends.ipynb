{
 "cells": [
  {
   "cell_type": "code",
   "execution_count": 1,
   "metadata": {},
   "outputs": [],
   "source": [
    "import os\n",
    "import time\n",
    "\n",
    "import pandas as pd\n",
    "import requests\n",
    "from tqdm import tqdm"
   ]
  },
  {
   "cell_type": "code",
   "execution_count": 2,
   "metadata": {},
   "outputs": [],
   "source": [
    "os.chdir(\"../../data/user_profiles\")"
   ]
  },
  {
   "cell_type": "code",
   "execution_count": 3,
   "metadata": {},
   "outputs": [],
   "source": [
    "staring_usernames = [\"Fro116\"]\n",
    "num_iters = 10000"
   ]
  },
  {
   "cell_type": "code",
   "execution_count": 4,
   "metadata": {},
   "outputs": [],
   "source": [
    "def get_friend_df(json):\n",
    "    # turn the json response into a dataframe\n",
    "    usernames = []\n",
    "    for item in json[\"friends\"]:\n",
    "        usernames.append(item[\"username\"])\n",
    "    return pd.DataFrame({\"friends\": usernames})"
   ]
  },
  {
   "cell_type": "code",
   "execution_count": 5,
   "metadata": {},
   "outputs": [],
   "source": [
    "def get_friends(usernames):\n",
    "    friend_lists = []\n",
    "\n",
    "    max_items_per_page = 300  # property of the API\n",
    "    for username in tqdm(usernames):\n",
    "        more_pages = True\n",
    "        page = 1\n",
    "        friends = []\n",
    "        while more_pages:\n",
    "            time.sleep(5)  # Jikan requires a minimum rate limit of 1 request per 4 secs\n",
    "            response = requests.get(\n",
    "                f\"https://api.jikan.moe/v3/user/{username}/friends/{page}\"\n",
    "            )\n",
    "            page_df = get_friend_df(response.json())\n",
    "            friends.append(page_df)\n",
    "            page += 1\n",
    "            if len(page_df) < max_items_per_page:\n",
    "                more_pages = False\n",
    "        friend_df = pd.concat(friends)\n",
    "        friend_df[\"username\"] = username\n",
    "        friend_lists.append(friend_df)\n",
    "    friends = pd.concat(friend_lists, ignore_index=True)\n",
    "    return friends"
   ]
  },
  {
   "cell_type": "code",
   "execution_count": null,
   "metadata": {
    "tags": []
   },
   "outputs": [
    {
     "name": "stderr",
     "output_type": "stream",
     "text": [
      "100%|██████████| 1/1 [00:05<00:00,  5.47s/it]\n",
      "100%|██████████| 8/8 [00:43<00:00,  5.40s/it]\n",
      "100%|██████████| 113/113 [12:47<00:00,  6.79s/it]\n",
      "  1%|          | 59/4722 [06:34<8:47:17,  6.78s/it]"
     ]
    }
   ],
   "source": [
    "usernames = set(staring_usernames)\n",
    "\n",
    "friends_by_round = [pd.DataFrame()]\n",
    "usernames_by_round = [set()]\n",
    "for i in range(num_iters):\n",
    "    new_usernames = usernames - usernames_by_round[i]\n",
    "    if len(new_usernames) == 0:\n",
    "        break\n",
    "    new_friends = get_friends(new_usernames)\n",
    "    friends_by_round.append(new_friends)\n",
    "\n",
    "    usernames_by_round.append(usernames)\n",
    "    usernames = set(new_friends[\"friends\"]) | usernames_by_round[i] | new_usernames\n",
    "    pd.Series(sorted(list(usernames))).to_csv(\"usernames.csv\", header=False, index=False)"
   ]
  },
  {
   "cell_type": "code",
   "execution_count": null,
   "metadata": {},
   "outputs": [],
   "source": [
    "usernames_by_round"
   ]
  },
  {
   "cell_type": "code",
   "execution_count": null,
   "metadata": {},
   "outputs": [],
   "source": [
    "friends_by_round"
   ]
  },
  {
   "cell_type": "code",
   "execution_count": null,
   "metadata": {},
   "outputs": [],
   "source": []
  }
 ],
 "metadata": {
  "kernelspec": {
   "display_name": "Python 3",
   "language": "python",
   "name": "python3"
  },
  "language_info": {
   "codemirror_mode": {
    "name": "ipython",
    "version": 3
   },
   "file_extension": ".py",
   "mimetype": "text/x-python",
   "name": "python",
   "nbconvert_exporter": "python",
   "pygments_lexer": "ipython3",
   "version": "3.8.5"
  }
 },
 "nbformat": 4,
 "nbformat_minor": 4
}
