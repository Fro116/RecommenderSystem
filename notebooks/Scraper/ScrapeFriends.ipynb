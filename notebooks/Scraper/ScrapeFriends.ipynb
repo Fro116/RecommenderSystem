{
 "cells": [
  {
   "cell_type": "code",
   "execution_count": 1,
   "metadata": {},
   "outputs": [],
   "source": [
    "import time\n",
    "\n",
    "import pandas as pd\n",
    "import requests\n",
    "from tqdm import tqdm"
   ]
  },
  {
   "cell_type": "code",
   "execution_count": 2,
   "metadata": {},
   "outputs": [],
   "source": [
    "usernames = [\"Fro116\"]"
   ]
  },
  {
   "cell_type": "code",
   "execution_count": 3,
   "metadata": {},
   "outputs": [],
   "source": [
    "def get_friend_df(json):\n",
    "    # turn the json response into a dataframe\n",
    "    usernames = []\n",
    "    for item in response.json()[\"friends\"]:\n",
    "        usernames.append(item[\"username\"])\n",
    "    return pd.DataFrame({\"friends\": usernames})"
   ]
  },
  {
   "cell_type": "code",
   "execution_count": 18,
   "metadata": {},
   "outputs": [
    {
     "name": "stderr",
     "output_type": "stream",
     "text": [
      "100%|██████████| 122/122 [13:33<00:00,  6.67s/it]\n"
     ]
    }
   ],
   "source": [
    "friend_lists = []\n",
    "\n",
    "max_items_per_page = 300  # property of the API\n",
    "for username in tqdm(usernames):\n",
    "    more_pages = True\n",
    "    page = 1\n",
    "    friends = []\n",
    "    while more_pages:\n",
    "        time.sleep(5)  # Jikan requires a minimum rate limit of 1 request per 4 secs\n",
    "        response = requests.get(\n",
    "            f\"https://api.jikan.moe/v3/user/{username}/friends/{page}\"\n",
    "        )\n",
    "        page_df = get_friend_df(response.json())\n",
    "        friends.append(page_df)\n",
    "        page += 1\n",
    "        if len(page_df) < max_items_per_page:\n",
    "            more_pages = False\n",
    "    friend_df = pd.concat(friends)\n",
    "    friend_df[\"username\"] = username\n",
    "    friend_lists.append(friend_df)"
   ]
  },
  {
   "cell_type": "code",
   "execution_count": 19,
   "metadata": {},
   "outputs": [],
   "source": [
    "friends = pd.concat(friend_lists)"
   ]
  },
  {
   "cell_type": "code",
   "execution_count": 20,
   "metadata": {},
   "outputs": [],
   "source": [
    "all_users = set(friends['friends']) | set(friends['username'])"
   ]
  },
  {
   "cell_type": "code",
   "execution_count": 21,
   "metadata": {},
   "outputs": [
    {
     "name": "stdout",
     "output_type": "stream",
     "text": [
      "4815\n"
     ]
    }
   ],
   "source": [
    "usernames = list(all_users)\n",
    "print(len(usernames))"
   ]
  },
  {
   "cell_type": "code",
   "execution_count": 22,
   "metadata": {},
   "outputs": [
    {
     "data": {
      "text/html": [
       "<div>\n",
       "<style scoped>\n",
       "    .dataframe tbody tr th:only-of-type {\n",
       "        vertical-align: middle;\n",
       "    }\n",
       "\n",
       "    .dataframe tbody tr th {\n",
       "        vertical-align: top;\n",
       "    }\n",
       "\n",
       "    .dataframe thead th {\n",
       "        text-align: right;\n",
       "    }\n",
       "</style>\n",
       "<table border=\"1\" class=\"dataframe\">\n",
       "  <thead>\n",
       "    <tr style=\"text-align: right;\">\n",
       "      <th></th>\n",
       "      <th>friends</th>\n",
       "      <th>username</th>\n",
       "    </tr>\n",
       "  </thead>\n",
       "  <tbody>\n",
       "    <tr>\n",
       "      <th>0</th>\n",
       "      <td>mpfei</td>\n",
       "      <td>hourglassstorms</td>\n",
       "    </tr>\n",
       "    <tr>\n",
       "      <th>1</th>\n",
       "      <td>fukisora</td>\n",
       "      <td>hourglassstorms</td>\n",
       "    </tr>\n",
       "    <tr>\n",
       "      <th>2</th>\n",
       "      <td>animequeen1012</td>\n",
       "      <td>hourglassstorms</td>\n",
       "    </tr>\n",
       "    <tr>\n",
       "      <th>0</th>\n",
       "      <td>Stardew</td>\n",
       "      <td>Sugar-</td>\n",
       "    </tr>\n",
       "    <tr>\n",
       "      <th>1</th>\n",
       "      <td>Burakchef</td>\n",
       "      <td>Sugar-</td>\n",
       "    </tr>\n",
       "    <tr>\n",
       "      <th>...</th>\n",
       "      <td>...</td>\n",
       "      <td>...</td>\n",
       "    </tr>\n",
       "    <tr>\n",
       "      <th>15</th>\n",
       "      <td>Teejee666</td>\n",
       "      <td>2crazy4u</td>\n",
       "    </tr>\n",
       "    <tr>\n",
       "      <th>16</th>\n",
       "      <td>bleachman99</td>\n",
       "      <td>2crazy4u</td>\n",
       "    </tr>\n",
       "    <tr>\n",
       "      <th>17</th>\n",
       "      <td>Mymaknaepuppy</td>\n",
       "      <td>2crazy4u</td>\n",
       "    </tr>\n",
       "    <tr>\n",
       "      <th>18</th>\n",
       "      <td>taichoo</td>\n",
       "      <td>2crazy4u</td>\n",
       "    </tr>\n",
       "    <tr>\n",
       "      <th>19</th>\n",
       "      <td>SasukeForever</td>\n",
       "      <td>2crazy4u</td>\n",
       "    </tr>\n",
       "  </tbody>\n",
       "</table>\n",
       "<p>6406 rows × 2 columns</p>\n",
       "</div>"
      ],
      "text/plain": [
       "           friends         username\n",
       "0            mpfei  hourglassstorms\n",
       "1         fukisora  hourglassstorms\n",
       "2   animequeen1012  hourglassstorms\n",
       "0          Stardew           Sugar-\n",
       "1        Burakchef           Sugar-\n",
       "..             ...              ...\n",
       "15       Teejee666         2crazy4u\n",
       "16     bleachman99         2crazy4u\n",
       "17   Mymaknaepuppy         2crazy4u\n",
       "18         taichoo         2crazy4u\n",
       "19   SasukeForever         2crazy4u\n",
       "\n",
       "[6406 rows x 2 columns]"
      ]
     },
     "execution_count": 22,
     "metadata": {},
     "output_type": "execute_result"
    }
   ],
   "source": [
    "friends"
   ]
  },
  {
   "cell_type": "code",
   "execution_count": null,
   "metadata": {},
   "outputs": [],
   "source": []
  }
 ],
 "metadata": {
  "kernelspec": {
   "display_name": "Python 3",
   "language": "python",
   "name": "python3"
  },
  "language_info": {
   "codemirror_mode": {
    "name": "ipython",
    "version": 3
   },
   "file_extension": ".py",
   "mimetype": "text/x-python",
   "name": "python",
   "nbconvert_exporter": "python",
   "pygments_lexer": "ipython3",
   "version": "3.8.5"
  }
 },
 "nbformat": 4,
 "nbformat_minor": 4
}
