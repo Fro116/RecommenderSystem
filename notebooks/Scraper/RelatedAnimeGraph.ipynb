{
 "cells": [
  {
   "cell_type": "code",
   "execution_count": 1,
   "metadata": {},
   "outputs": [],
   "source": [
    "import ast\n",
    "import os\n",
    "import time\n",
    "\n",
    "import pandas as pd\n",
    "import requests\n",
    "from tqdm import tqdm"
   ]
  },
  {
   "cell_type": "code",
   "execution_count": 2,
   "metadata": {},
   "outputs": [],
   "source": [
    "os.chdir(\"../../data/\")"
   ]
  },
  {
   "cell_type": "code",
   "execution_count": 3,
   "metadata": {},
   "outputs": [],
   "source": [
    "anime = pd.read_csv(\"AnimeList.csv\")"
   ]
  },
  {
   "cell_type": "code",
   "execution_count": 4,
   "metadata": {},
   "outputs": [],
   "source": [
    "def get_related_series(data, anime_id):\n",
    "    df = pd.DataFrame({\"source\": [], \"target\": [], \"relationship\": []})\n",
    "    related = ast.literal_eval(data)\n",
    "    if not related:\n",
    "        return df\n",
    "\n",
    "    related_series = set()\n",
    "    for key, val in related.items():\n",
    "        for item in val:\n",
    "            if item[\"type\"] == \"anime\":\n",
    "                df = df.append(\n",
    "                    {\"source\": anime_id, \"target\": item[\"mal_id\"], \"relationship\": key}\n",
    "                    , ignore_index=True\n",
    "                )\n",
    "    return df"
   ]
  },
  {
   "cell_type": "code",
   "execution_count": 5,
   "metadata": {},
   "outputs": [
    {
     "name": "stderr",
     "output_type": "stream",
     "text": [
      "100%|██████████| 14478/14478 [00:40<00:00, 358.53it/s]\n"
     ]
    }
   ],
   "source": [
    "all_related_series = []\n",
    "for i in tqdm(range(len(anime))):\n",
    "    anime_id = anime.iloc[i][\"anime_id\"]\n",
    "    related_series = get_related_series(anime.iloc[i][\"related\"], anime_id)\n",
    "    all_related_series.append(related_series)\n",
    "related_series_df = pd.concat(all_related_series, ignore_index=True)\n",
    "related_series_df[['source', 'target']] = related_series_df[['source', 'target']].astype(int)"
   ]
  },
  {
   "cell_type": "code",
   "execution_count": 6,
   "metadata": {},
   "outputs": [
    {
     "data": {
      "text/html": [
       "<div>\n",
       "<style scoped>\n",
       "    .dataframe tbody tr th:only-of-type {\n",
       "        vertical-align: middle;\n",
       "    }\n",
       "\n",
       "    .dataframe tbody tr th {\n",
       "        vertical-align: top;\n",
       "    }\n",
       "\n",
       "    .dataframe thead th {\n",
       "        text-align: right;\n",
       "    }\n",
       "</style>\n",
       "<table border=\"1\" class=\"dataframe\">\n",
       "  <thead>\n",
       "    <tr style=\"text-align: right;\">\n",
       "      <th></th>\n",
       "      <th>source</th>\n",
       "      <th>target</th>\n",
       "      <th>relationship</th>\n",
       "    </tr>\n",
       "  </thead>\n",
       "  <tbody>\n",
       "    <tr>\n",
       "      <th>0</th>\n",
       "      <td>11013</td>\n",
       "      <td>13403</td>\n",
       "      <td>Sequel</td>\n",
       "    </tr>\n",
       "    <tr>\n",
       "      <th>1</th>\n",
       "      <td>2104</td>\n",
       "      <td>4163</td>\n",
       "      <td>Sequel</td>\n",
       "    </tr>\n",
       "    <tr>\n",
       "      <th>2</th>\n",
       "      <td>2104</td>\n",
       "      <td>5199</td>\n",
       "      <td>Side story</td>\n",
       "    </tr>\n",
       "    <tr>\n",
       "      <th>3</th>\n",
       "      <td>2104</td>\n",
       "      <td>28385</td>\n",
       "      <td>Alternative version</td>\n",
       "    </tr>\n",
       "    <tr>\n",
       "      <th>4</th>\n",
       "      <td>5262</td>\n",
       "      <td>2923</td>\n",
       "      <td>Prequel</td>\n",
       "    </tr>\n",
       "  </tbody>\n",
       "</table>\n",
       "</div>"
      ],
      "text/plain": [
       "   source  target         relationship\n",
       "0   11013   13403               Sequel\n",
       "1    2104    4163               Sequel\n",
       "2    2104    5199           Side story\n",
       "3    2104   28385  Alternative version\n",
       "4    5262    2923              Prequel"
      ]
     },
     "execution_count": 6,
     "metadata": {},
     "output_type": "execute_result"
    }
   ],
   "source": [
    "related_series_df.head()"
   ]
  },
  {
   "cell_type": "code",
   "execution_count": null,
   "metadata": {},
   "outputs": [],
   "source": []
  }
 ],
 "metadata": {
  "kernelspec": {
   "display_name": "Python 3",
   "language": "python",
   "name": "python3"
  },
  "language_info": {
   "codemirror_mode": {
    "name": "ipython",
    "version": 3
   },
   "file_extension": ".py",
   "mimetype": "text/x-python",
   "name": "python",
   "nbconvert_exporter": "python",
   "pygments_lexer": "ipython3",
   "version": "3.8.5"
  }
 },
 "nbformat": 4,
 "nbformat_minor": 4
}
