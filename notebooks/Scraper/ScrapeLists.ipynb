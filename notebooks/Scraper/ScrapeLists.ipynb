{
 "cells": [
  {
   "cell_type": "code",
   "execution_count": 1,
   "metadata": {},
   "outputs": [],
   "source": [
    "import os\n",
    "import time\n",
    "\n",
    "import pandas as pd\n",
    "import requests\n",
    "from tqdm import tqdm"
   ]
  },
  {
   "cell_type": "code",
   "execution_count": 2,
   "metadata": {},
   "outputs": [],
   "source": [
    "usernames = [\"Fro116\", \"mpfei\"]"
   ]
  },
  {
   "cell_type": "code",
   "execution_count": 3,
   "metadata": {},
   "outputs": [],
   "source": [
    "os.chdir(\"../../data/user_profiles\")"
   ]
  },
  {
   "cell_type": "code",
   "execution_count": 4,
   "metadata": {},
   "outputs": [],
   "source": [
    "def get_score_df(json):\n",
    "    # turn the json response into a dataframe\n",
    "    anime_ids = []\n",
    "    scores = []\n",
    "    for item in response.json()[\"anime\"]:\n",
    "        anime_ids.append(item[\"mal_id\"])\n",
    "        scores.append(item[\"score\"])\n",
    "    return pd.DataFrame({\"anime_id\": anime_ids, \"my_score\": scores})"
   ]
  },
  {
   "cell_type": "code",
   "execution_count": 5,
   "metadata": {},
   "outputs": [
    {
     "name": "stderr",
     "output_type": "stream",
     "text": [
      "100%|██████████| 2/2 [00:19<00:00,  9.68s/it]\n"
     ]
    }
   ],
   "source": [
    "user_lists = []\n",
    "\n",
    "max_items_per_page = 300  # property of the API\n",
    "for username in tqdm(usernames):\n",
    "    more_pages = True\n",
    "    page = 1\n",
    "    scores = []\n",
    "    while more_pages:\n",
    "        time.sleep(5)\n",
    "        response = requests.get(\n",
    "            f\"https://api.jikan.moe/v3/user/{username}/animelist/all/{page}\"\n",
    "        )\n",
    "        page_df = get_score_df(response.json())\n",
    "        scores.append(page_df)\n",
    "        page += 1\n",
    "        if len(page_df) < max_items_per_page:\n",
    "            more_pages = False\n",
    "    score_df = pd.concat(scores)\n",
    "    score_df[\"username\"] = username\n",
    "    score_df = score_df.loc[lambda x: x[\"my_score\"] != 0]\n",
    "    user_lists.append(score_df)"
   ]
  },
  {
   "cell_type": "code",
   "execution_count": 6,
   "metadata": {
    "tags": []
   },
   "outputs": [],
   "source": [
    "scores = pd.concat(user_lists)"
   ]
  },
  {
   "cell_type": "code",
   "execution_count": 9,
   "metadata": {},
   "outputs": [],
   "source": [
    "scores.to_pickle(\"ExtraUserAnimeLists.pkl\")"
   ]
  },
  {
   "cell_type": "code",
   "execution_count": 8,
   "metadata": {},
   "outputs": [
    {
     "data": {
      "text/html": [
       "<div>\n",
       "<style scoped>\n",
       "    .dataframe tbody tr th:only-of-type {\n",
       "        vertical-align: middle;\n",
       "    }\n",
       "\n",
       "    .dataframe tbody tr th {\n",
       "        vertical-align: top;\n",
       "    }\n",
       "\n",
       "    .dataframe thead th {\n",
       "        text-align: right;\n",
       "    }\n",
       "</style>\n",
       "<table border=\"1\" class=\"dataframe\">\n",
       "  <thead>\n",
       "    <tr style=\"text-align: right;\">\n",
       "      <th></th>\n",
       "      <th>anime_id</th>\n",
       "      <th>my_score</th>\n",
       "      <th>username</th>\n",
       "    </tr>\n",
       "  </thead>\n",
       "  <tbody>\n",
       "    <tr>\n",
       "      <th>0</th>\n",
       "      <td>7193</td>\n",
       "      <td>7</td>\n",
       "      <td>Fro116</td>\n",
       "    </tr>\n",
       "    <tr>\n",
       "      <th>1</th>\n",
       "      <td>820</td>\n",
       "      <td>10</td>\n",
       "      <td>Fro116</td>\n",
       "    </tr>\n",
       "    <tr>\n",
       "      <th>3</th>\n",
       "      <td>24629</td>\n",
       "      <td>6</td>\n",
       "      <td>Fro116</td>\n",
       "    </tr>\n",
       "    <tr>\n",
       "      <th>5</th>\n",
       "      <td>31646</td>\n",
       "      <td>7</td>\n",
       "      <td>Fro116</td>\n",
       "    </tr>\n",
       "    <tr>\n",
       "      <th>6</th>\n",
       "      <td>35180</td>\n",
       "      <td>7</td>\n",
       "      <td>Fro116</td>\n",
       "    </tr>\n",
       "    <tr>\n",
       "      <th>...</th>\n",
       "      <td>...</td>\n",
       "      <td>...</td>\n",
       "      <td>...</td>\n",
       "    </tr>\n",
       "    <tr>\n",
       "      <th>74</th>\n",
       "      <td>25519</td>\n",
       "      <td>8</td>\n",
       "      <td>mpfei</td>\n",
       "    </tr>\n",
       "    <tr>\n",
       "      <th>76</th>\n",
       "      <td>1050</td>\n",
       "      <td>8</td>\n",
       "      <td>mpfei</td>\n",
       "    </tr>\n",
       "    <tr>\n",
       "      <th>77</th>\n",
       "      <td>245</td>\n",
       "      <td>8</td>\n",
       "      <td>mpfei</td>\n",
       "    </tr>\n",
       "    <tr>\n",
       "      <th>78</th>\n",
       "      <td>38483</td>\n",
       "      <td>8</td>\n",
       "      <td>mpfei</td>\n",
       "    </tr>\n",
       "    <tr>\n",
       "      <th>79</th>\n",
       "      <td>6114</td>\n",
       "      <td>7</td>\n",
       "      <td>mpfei</td>\n",
       "    </tr>\n",
       "  </tbody>\n",
       "</table>\n",
       "<p>450 rows × 3 columns</p>\n",
       "</div>"
      ],
      "text/plain": [
       "    anime_id  my_score username\n",
       "0       7193         7   Fro116\n",
       "1        820        10   Fro116\n",
       "3      24629         6   Fro116\n",
       "5      31646         7   Fro116\n",
       "6      35180         7   Fro116\n",
       "..       ...       ...      ...\n",
       "74     25519         8    mpfei\n",
       "76      1050         8    mpfei\n",
       "77       245         8    mpfei\n",
       "78     38483         8    mpfei\n",
       "79      6114         7    mpfei\n",
       "\n",
       "[450 rows x 3 columns]"
      ]
     },
     "execution_count": 8,
     "metadata": {},
     "output_type": "execute_result"
    }
   ],
   "source": [
    "scores"
   ]
  },
  {
   "cell_type": "code",
   "execution_count": null,
   "metadata": {},
   "outputs": [],
   "source": []
  }
 ],
 "metadata": {
  "kernelspec": {
   "display_name": "Python 3",
   "language": "python",
   "name": "python3"
  },
  "language_info": {
   "codemirror_mode": {
    "name": "ipython",
    "version": 3
   },
   "file_extension": ".py",
   "mimetype": "text/x-python",
   "name": "python",
   "nbconvert_exporter": "python",
   "pygments_lexer": "ipython3",
   "version": "3.8.5"
  }
 },
 "nbformat": 4,
 "nbformat_minor": 4
}
