{
 "cells": [
  {
   "cell_type": "markdown",
   "id": "1fb53806-43bc-41ab-8cfd-74fe52b06b49",
   "metadata": {},
   "source": [
    "# Installing Dependencies\n",
    "* [cuda](https://developer.nvidia.com/cuda-downloads)\n",
    "* [docker](https://docs.docker.com/get-started/get-docker)\n",
    "* [gcloud](https://cloud.google.com/sdk/docs/install)\n",
    "* [julia](https://julialang.org/downloads/)\n",
    "  * Run `julia requirements.jl` to install dependencies\n",
    "  * Use a project located in `../../juliaenv`\n",
    "* [miller](https://github.com/johnkerl/miller)\n",
    "* [python](https://www.python.org/downloads/)\n",
    "  * Run `pip install -r requirements.txt` to install dependencies\n",
    "  * Use a venv located in `../../venv`\n",
    "* [rclone](https://rclone.org/install/)\n",
    "* [sfcompute](https://docs.sfcompute.com/guide/getting-started)\n",
    "* [zstd](https://github.com/facebook/zstd)"
   ]
  },
  {
   "cell_type": "markdown",
   "id": "d11bc456-b82c-4f0b-af6e-2244898de2b9",
   "metadata": {},
   "source": [
    "# Continous Deployment\n",
    "* Place all secrets (authentication tokens, database credentials, etc.) in `../secrets`\n",
    "* Run the scripts in `scripts/`"
   ]
  }
 ],
 "metadata": {
  "kernelspec": {
   "display_name": "Python 3 (ipykernel)",
   "language": "python",
   "name": "python3"
  },
  "language_info": {
   "codemirror_mode": {
    "name": "ipython",
    "version": 3
   },
   "file_extension": ".py",
   "mimetype": "text/x-python",
   "name": "python",
   "nbconvert_exporter": "python",
   "pygments_lexer": "ipython3",
   "version": "3.12.3"
  }
 },
 "nbformat": 4,
 "nbformat_minor": 5
}
