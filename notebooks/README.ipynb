{
 "cells": [
  {
   "cell_type": "markdown",
   "id": "1fb53806-43bc-41ab-8cfd-74fe52b06b49",
   "metadata": {},
   "source": [
    "# Step 1. Installing Dependencies\n",
    "* [cuda](https://developer.nvidia.com/cuda-downloads)\n",
    "* [docker](https://docs.docker.com/get-started/get-docker)\n",
    "* [julia](https://julialang.org/downloads/)\n",
    "  * Run `julia requirements.jl` to install dependencies\n",
    "* [python](https://www.python.org/downloads/)\n",
    "  * Run `pip install -r requirements.txt` to install dependencies"
   ]
  },
  {
   "cell_type": "markdown",
   "id": "d11bc456-b82c-4f0b-af6e-2244898de2b9",
   "metadata": {},
   "source": [
    "# Step 2. Curating Datasets\n",
    "* Place all environment variables (authentication tokens, database credentials, etc.) in `../environment`\n",
    "* Run `cd Collect && ./deploy.sh`"
   ]
  },
  {
   "cell_type": "markdown",
   "id": "debf68f7-5ac1-4908-9154-81ceb95705dd",
   "metadata": {},
   "source": [
    "# Step 3. Training Models\n",
    "* Run `notebooks/Train/Baseline/RunAllScripts.ipynb`\n",
    "* Run `notebooks/Train/BagOfWords/RunAllScripts.ipynb`\n",
    "* Run `notebooks/Train/Transformer/RunAllScripts.ipynb`\n",
    "* Run `notebooks/Train/Nondirectional/RunAllScripts.ipynb`\n",
    "* Run `notebooks/Train/Ensemble/RunAllScripts.ipynb`"
   ]
  },
  {
   "cell_type": "markdown",
   "id": "d9f8b281-0bb3-48fc-8a0d-0d54c6574032",
   "metadata": {},
   "source": [
    "# Step 4. Deploying Web Server\n",
    "* Run `notebooks/Backend/Package.ipynb`\n",
    "* Run `notebooks/Frontend/Package.ipynb`\n",
    "* Run `notebooks/Frontend/Deploy.ipynb`\n",
    "* Open `localhost:3000` in a browser to connect to the web app"
   ]
  },
  {
   "cell_type": "code",
   "execution_count": null,
   "id": "790bd47e-8046-4ce5-9f22-51e2be7fd043",
   "metadata": {},
   "outputs": [],
   "source": []
  }
 ],
 "metadata": {
  "kernelspec": {
   "display_name": "Python 3 (ipykernel)",
   "language": "python",
   "name": "python3"
  },
  "language_info": {
   "codemirror_mode": {
    "name": "ipython",
    "version": 3
   },
   "file_extension": ".py",
   "mimetype": "text/x-python",
   "name": "python",
   "nbconvert_exporter": "python",
   "pygments_lexer": "ipython3",
   "version": "3.12.3"
  }
 },
 "nbformat": 4,
 "nbformat_minor": 5
}
