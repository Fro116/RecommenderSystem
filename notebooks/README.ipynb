{
 "cells": [
  {
   "cell_type": "markdown",
   "id": "132b6850-8c4f-4ef8-b395-c0b577e3d675",
   "metadata": {
    "editable": true,
    "slideshow": {
     "slide_type": ""
    },
    "tags": []
   },
   "source": [
    "# Step 1. Installing Python Depedencies\n",
    "* [curl_cffi](https://github.com/yifeikong/curl_cffi)\n",
    "* [filelock](https://github.com/tox-dev/filelock)\n",
    "* [h5py](https://docs.h5py.org/en/stable/build.html)\n",
    "* [hdf5plugin](https://github.com/silx-kit/hdf5plugin)\n",
    "* [numpy](https://numpy.org/install/)\n",
    "* [pandas](https://pandas.pydata.org/docs/getting_started/index.html#getting-started)\n",
    "* [papermill](https://papermill.readthedocs.io/en/latest/index.html)\n",
    "* [ratelimit](https://pypi.org/project/ratelimit/)\n",
    "* [scipy](https://scipy.org/install/)\n",
    "* [tables](https://pypi.org/project/tables/)\n",
    "* [torch](https://pytorch.org/get-started/locally/)\n",
    "* [tqdm](https://github.com/tqdm/tqdm)"
   ]
  },
  {
   "cell_type": "markdown",
   "id": "b31ea982-9e40-41ec-8a43-d2d0086e3426",
   "metadata": {},
   "source": [
    "# Step 2. Installing Julia Dependencies\n",
    "* [CSV](https://github.com/JuliaData/CSV.jl)\n",
    "* [CodecZstd](https://github.com/JuliaIO/CodecZstd.jl)\n",
    "* [DataFrames](https://dataframes.juliadata.org/stable/man/getting_started/)\n",
    "* [H5Zblosc](https://github.com/JuliaIO/HDF5Plugins.jl)\n",
    "* [Glob](https://github.com/vtjnash/Glob.jl)\n",
    "* [HDF5](https://github.com/JuliaIO/HDF5.jl)\n",
    "* [IJulia](https://github.com/JuliaLang/IJulia.jl)\n",
    "* [JLD2](https://github.com/JuliaIO/JLD2.jl)\n",
    "* [JSON](https://github.com/JuliaIO/JSON.jl)\n",
    "* [JupyterFormatter](https://juliahub.com/ui/Packages/JupyterFormatter/Qolop/0.1.0)\n",
    "* [LoggingExtras](https://github.com/JuliaLogging/LoggingExtras.jl)\n",
    "* [Memoize](https://github.com/JuliaCollections/Memoize.jl)\n",
    "* [MLUtils](https://github.com/JuliaML/MLUtils.jl)\n",
    "* [NBInclude](https://github.com/stevengj/NBInclude.jl)\n",
    "* [NNlib](https://github.com/FluxML/NNlib.jl)\n",
    "* [Optim](https://julianlsolvers.github.io/Optim.jl/stable/#)\n",
    "* [ProgressMeter](https://github.com/timholy/ProgressMeter.jl)\n",
    "* [Setfield](https://github.com/jw3126/Setfield.jl)\n",
    "* [StatsBase](https://github.com/JuliaStats/StatsBase.jl)\n",
    "* [StringDistances](https://github.com/matthieugomez/StringDistances.jl)"
   ]
  },
  {
   "cell_type": "markdown",
   "id": "1fb53806-43bc-41ab-8cfd-74fe52b06b49",
   "metadata": {},
   "source": [
    "# Step 3. Installing Frameworks\n",
    "* [cuda](https://developer.nvidia.com/cuda-downloads)\n",
    "* [docker](https://docs.docker.com/get-started/get-docker)"
   ]
  },
  {
   "cell_type": "markdown",
   "id": "d11bc456-b82c-4f0b-af6e-2244898de2b9",
   "metadata": {},
   "source": [
    "# Step 4. Curating Datasets\n",
    "* Run `notebooks/Collect/API/GenerateMalToken.ipynb`\n",
    "* Run `notebooks/Collect/API/GenerateKitsuToken.ipynb`\n",
    "* Run `notebooks/Collect/WebEndpoints/WebScripts.ipynb`\n",
    "* Run `notebooks/Collect/ApiEndPoints/ContinuousScripts.ipynb`\n",
    "* Run `notebooks/Preprocess/ImportMedia/RunAllScripts.ipynb`\n",
    "* Run `notebooks/Preprocess/ImportLists/RunAllScripts.ipynb`"
   ]
  },
  {
   "cell_type": "markdown",
   "id": "debf68f7-5ac1-4908-9154-81ceb95705dd",
   "metadata": {},
   "source": [
    "# Step 5. Training Models\n",
    "* Run `notebooks/Train/Baseline/RunAllScripts.ipynb`\n",
    "* Run `notebooks/Train/BagOfWords/RunAllScripts.ipynb`\n",
    "* Run `notebooks/Train/Transformer/RunAllScripts.ipynb`\n",
    "* Run `notebooks/Train/Nondirectional/RunAllScripts.ipynb`\n",
    "* Run `notebooks/Train/Ensemble/RunAllScripts.ipynb`"
   ]
  },
  {
   "cell_type": "markdown",
   "id": "d9f8b281-0bb3-48fc-8a0d-0d54c6574032",
   "metadata": {},
   "source": [
    "# Step 6. Starting the Web Server\n",
    "* Run `notebooks/Backend/Package.ipynb`\n",
    "* Run `notebooks/Frontend/Package.ipynb`\n",
    "* Run `notebooks/Frontend/Deploy.ipynb`\n",
    "* Open `localhost:3000` in a browser to connect to the web app"
   ]
  }
 ],
 "metadata": {
  "kernelspec": {
   "display_name": "Python 3 (ipykernel)",
   "language": "python",
   "name": "python3"
  },
  "language_info": {
   "codemirror_mode": {
    "name": "ipython",
    "version": 3
   },
   "file_extension": ".py",
   "mimetype": "text/x-python",
   "name": "python",
   "nbconvert_exporter": "python",
   "pygments_lexer": "ipython3",
   "version": "3.12.3"
  }
 },
 "nbformat": 4,
 "nbformat_minor": 5
}
