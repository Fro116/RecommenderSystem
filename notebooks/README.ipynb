{
 "cells": [
  {
   "cell_type": "markdown",
   "id": "132b6850-8c4f-4ef8-b395-c0b577e3d675",
   "metadata": {},
   "source": [
    "# Python depedencies\n",
    "* [ratelimit](https://pypi.org/project/ratelimit/)\n",
    "* [igraph](https://igraph.org/python/)"
   ]
  },
  {
   "cell_type": "markdown",
   "id": "d11bc456-b82c-4f0b-af6e-2244898de2b9",
   "metadata": {},
   "source": [
    "# Setting up the recommender system\n",
    "* TODO commit the data/ top level directory"
   ]
  },
  {
   "cell_type": "markdown",
   "id": "79b13103-c3db-40f1-a722-a174164d9ea7",
   "metadata": {},
   "source": [
    "## Using a Prebuilt Dataset (recommended)\n",
    "* Download the datasets in https://www.kaggle.com/azathoth42/myanimelist and extract the folder in `data/imported_datasets/azathoth42`\n",
    "* run `notebooks/ImportDatasets/azathoth42.ipynb`"
   ]
  },
  {
   "cell_type": "markdown",
   "id": "e97542b8-5812-40c3-b92e-e49ab414221e",
   "metadata": {},
   "source": [
    "## Generating a Dataset from Scratch (not recommended)\n",
    "* TODO rename folders"
   ]
  },
  {
   "cell_type": "markdown",
   "id": "a0108e95-1453-48be-8009-4861a77cbb1d",
   "metadata": {},
   "source": [
    "#### Get authorization token\n",
    "* run `notebooks/API/GenerateToken.ipynb`"
   ]
  },
  {
   "cell_type": "markdown",
   "id": "624f829e-89b2-4662-9eb6-a1110035e253",
   "metadata": {},
   "source": [
    "#### Get anime facts\n",
    "* run `notebooks/API/GetAnime.ipynb`"
   ]
  },
  {
   "cell_type": "markdown",
   "id": "c91a3482-c1c5-4c23-b56c-986088f705bb",
   "metadata": {},
   "source": [
    "#### Get users \n",
    "* run `notebooks/API/GetUsers.ipynb` until a sufficient number of users have been found"
   ]
  },
  {
   "cell_type": "markdown",
   "id": "d9b6c932-cbd8-45ec-b072-da34bd2b8d2a",
   "metadata": {},
   "source": [
    "#### Get user anime-lists\n",
    "* run `notebooks/API/GetUserAnimeLists.ipynb` until a sufficient number of lists have been found"
   ]
  },
  {
   "cell_type": "markdown",
   "id": "07e20537-b7cb-4f72-bf67-bb3450a3984c",
   "metadata": {},
   "source": [
    "#### TODO run import file\n",
    "* todo"
   ]
  },
  {
   "cell_type": "code",
   "execution_count": null,
   "id": "6f2b1f04-389a-4889-aa59-b2637aaa731e",
   "metadata": {},
   "outputs": [],
   "source": []
  }
 ],
 "metadata": {
  "kernelspec": {
   "display_name": "Python 3",
   "language": "python",
   "name": "python3"
  },
  "language_info": {
   "codemirror_mode": {
    "name": "ipython",
    "version": 3
   },
   "file_extension": ".py",
   "mimetype": "text/x-python",
   "name": "python",
   "nbconvert_exporter": "python",
   "pygments_lexer": "ipython3",
   "version": "3.8.8"
  }
 },
 "nbformat": 4,
 "nbformat_minor": 5
}
