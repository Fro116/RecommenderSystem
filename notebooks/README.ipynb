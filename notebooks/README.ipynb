{
 "cells": [
  {
   "cell_type": "markdown",
   "id": "132b6850-8c4f-4ef8-b395-c0b577e3d675",
   "metadata": {},
   "source": [
    "# Step 0. Installing Python Depedencies\n",
    "* [ratelimit](https://pypi.org/project/ratelimit/)\n",
    "* [igraph](https://igraph.org/python/)"
   ]
  },
  {
   "cell_type": "markdown",
   "id": "d11bc456-b82c-4f0b-af6e-2244898de2b9",
   "metadata": {},
   "source": [
    "# Step 1. Setting up the Recommender System\n",
    "## Using a Prebuilt Dataset (recommended)\n",
    "* Download the datasets in https://www.kaggle.com/azathoth42/myanimelist and extract the folder in `data/imported_datasets/azathoth42`\n",
    "* Run `notebooks/ImportDatasets/azathoth42.ipynb`\n",
    "\n",
    "## Generating a Dataset from Scratch (not recommended)\n",
    "* Run `notebooks/API/GenerateToken.ipynb`\n",
    "* Run `notebooks/API/GetAnime.ipynb`\n",
    "* Run `notebooks/API/GetUsers.ipynb` until a sufficient number of users have been found\n",
    "* Run `notebooks/API/GetUserAnimeLists.ipynb` until a sufficient number of lists have been found\n",
    "* TODO run import notebook"
   ]
  },
  {
   "cell_type": "markdown",
   "id": "9a24088e-9712-4269-a36c-aebff8a393fd",
   "metadata": {},
   "source": [
    "# Step 2. Preprocessing Rating Data\n",
    "* Run `notebooks/ProcessData/NormalizeRatings.ipynb`\n",
    "* Run `notebooks/ProcessData/RelatedAnimeGraph.ipynb`\n",
    "* Run `notebooks/ProcessData/StoreItemCorrelations.ipynb`"
   ]
  },
  {
   "cell_type": "markdown",
   "id": "2d4d1d3b-6bdf-42e7-a5ea-4f025e46530c",
   "metadata": {},
   "source": [
    "# Step 3. Cross-Validating Hyperparameters\n",
    "* Steps 3 and onward need to be rerun for each user you want to generate recommendations for\n",
    "* Run `notebooks/Process/Data/FetchUserAnimeList.ipynb`\n",
    "* TODO document"
   ]
  },
  {
   "cell_type": "markdown",
   "id": "a832ea93-3404-4c35-813a-3872b3cb000c",
   "metadata": {},
   "source": [
    "# Step 4. Train the Recommender Model\n",
    "* Run every notebook in `notebooks/Signals/`"
   ]
  },
  {
   "cell_type": "markdown",
   "id": "cd7094fe-f47d-4e61-a7f5-47a1b0600e17",
   "metadata": {},
   "source": [
    "# Step 5. Output Recommendations\n",
    "* Run `notebooks/Recommendations/CombineSignals.ipynb`"
   ]
  },
  {
   "cell_type": "code",
   "execution_count": null,
   "id": "8ede4015-c645-446f-8a08-ffa99b66aa25",
   "metadata": {},
   "outputs": [],
   "source": []
  }
 ],
 "metadata": {
  "kernelspec": {
   "display_name": "Python 3",
   "language": "python",
   "name": "python3"
  },
  "language_info": {
   "codemirror_mode": {
    "name": "ipython",
    "version": 3
   },
   "file_extension": ".py",
   "mimetype": "text/x-python",
   "name": "python",
   "nbconvert_exporter": "python",
   "pygments_lexer": "ipython3",
   "version": "3.8.5"
  }
 },
 "nbformat": 4,
 "nbformat_minor": 5
}
