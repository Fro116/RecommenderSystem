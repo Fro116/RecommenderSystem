{
 "cells": [
  {
   "cell_type": "markdown",
   "id": "132b6850-8c4f-4ef8-b395-c0b577e3d675",
   "metadata": {},
   "source": [
    "# Python depedencies\n",
    "* [ratelimit](https://pypi.org/project/ratelimit/)\n",
    "* [igraph](https://igraph.org/python/)"
   ]
  },
  {
   "cell_type": "markdown",
   "id": "d11bc456-b82c-4f0b-af6e-2244898de2b9",
   "metadata": {},
   "source": [
    "# Running the recommender system"
   ]
  },
  {
   "cell_type": "markdown",
   "id": "a0108e95-1453-48be-8009-4861a77cbb1d",
   "metadata": {},
   "source": [
    "## Get authorization token\n",
    "* run `notebooks/API/GenerateToken.ipynb`"
   ]
  },
  {
   "cell_type": "markdown",
   "id": "624f829e-89b2-4662-9eb6-a1110035e253",
   "metadata": {},
   "source": [
    "## Get anime lists\n",
    "* run `notebooks/API/GetAnimeList.ipynb`"
   ]
  },
  {
   "cell_type": "code",
   "execution_count": null,
   "id": "5c5121d5-ceb7-43c2-9c4a-b1e55a755c02",
   "metadata": {},
   "outputs": [],
   "source": []
  }
 ],
 "metadata": {
  "kernelspec": {
   "display_name": "Python 3",
   "language": "python",
   "name": "python3"
  },
  "language_info": {
   "codemirror_mode": {
    "name": "ipython",
    "version": 3
   },
   "file_extension": ".py",
   "mimetype": "text/x-python",
   "name": "python",
   "nbconvert_exporter": "python",
   "pygments_lexer": "ipython3",
   "version": "3.8.5"
  }
 },
 "nbformat": 4,
 "nbformat_minor": 5
}
