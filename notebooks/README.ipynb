{
 "cells": [
  {
   "cell_type": "markdown",
   "id": "132b6850-8c4f-4ef8-b395-c0b577e3d675",
   "metadata": {
    "editable": true,
    "slideshow": {
     "slide_type": ""
    },
    "tags": []
   },
   "source": [
    "# Step 1. Installing Python Depedencies\n",
    "## Install the following packages\n",
    "* [filelock](https://github.com/tox-dev/filelock)\n",
    "* [flask](https://flask.palletsprojects.com/en)\n",
    "* [gunicorn](https://flask.palletsprojects.com/en/3.0.x/deploying/gunicorn/)\n",
    "* [h5py](https://docs.h5py.org/en/stable/build.html)\n",
    "* [hdf5plugin](https://github.com/silx-kit/hdf5plugin)\n",
    "* [msgpack](https://pypi.org/project/msgpack/)\n",
    "* [numpy](https://numpy.org/install/)\n",
    "* [pandas](https://pandas.pydata.org/docs/getting_started/index.html#getting-started)\n",
    "* [papermill](https://papermill.readthedocs.io/en/latest/index.html)\n",
    "* [pyyaml](https://pyyaml.org/wiki/PyYAMLDocumentation)\n",
    "* [rapidfuzz](https://github.com/maxbachmann/RapidFuzz)\n",
    "* [ratelimit](https://pypi.org/project/ratelimit/)\n",
    "* [scipy](https://scipy.org/install/)\n",
    "* [tables](https://pypi.org/project/tables/)\n",
    "* [torch](https://pytorch.org/get-started/locally/)\n",
    "* [tqdm](https://github.com/tqdm/tqdm)\n",
    "* [waitress](https://pypi.org/project/waitress/)\n",
    "* [zstandard](https://pypi.org/project/zstandard/)\n",
    "\n",
    "## Install the following frameworks\n",
    "* [cuda](https://developer.nvidia.com/cuda-downloads)"
   ]
  },
  {
   "cell_type": "markdown",
   "id": "63f41dbc-c6d2-440e-b3bf-8be1ba497ebf",
   "metadata": {
    "tags": []
   },
   "source": [
    "# Step 2. Installing Julia and Dependencies\n",
    "* Install Julia (version >= 1.9) from https://julialang.org/downloads/"
   ]
  },
  {
   "cell_type": "markdown",
   "id": "b31ea982-9e40-41ec-8a43-d2d0086e3426",
   "metadata": {},
   "source": [
    "### Install the following packages\n",
    "* [CSV](https://github.com/JuliaData/CSV.jl)\n",
    "* [CodecZstd](https://github.com/JuliaIO/CodecZstd.jl)\n",
    "* [DataFrames](https://dataframes.juliadata.org/stable/man/getting_started/)\n",
    "* [H5Zblosc](https://github.com/JuliaIO/HDF5Plugins.jl)\n",
    "* [Glob](https://github.com/vtjnash/Glob.jl)\n",
    "* [HDF5](https://github.com/JuliaIO/HDF5.jl)\n",
    "* [HTTP](https://github.com/JuliaWeb/HTTP.jl)\n",
    "* [IJulia](https://github.com/JuliaLang/IJulia.jl)\n",
    "* [JLD2](https://github.com/JuliaIO/JLD2.jl)\n",
    "* [JSON](https://github.com/JuliaIO/JSON.jl)\n",
    "* [JuMP](https://jump.dev)\n",
    "* [JupyterFormatter](https://juliahub.com/ui/Packages/JupyterFormatter/Qolop/0.1.0)\n",
    "* [LoggingExtras](https://github.com/JuliaLogging/LoggingExtras.jl)\n",
    "* [Memoize](https://github.com/JuliaCollections/Memoize.jl)\n",
    "* [MLUtils](https://github.com/JuliaML/MLUtils.jl)\n",
    "* [MsgPack](https://github.com/JuliaIO/MsgPack.jl)\n",
    "* [NBInclude](https://github.com/stevengj/NBInclude.jl)\n",
    "* [NNlib](https://github.com/FluxML/NNlib.jl)\n",
    "* [Optim](https://julianlsolvers.github.io/Optim.jl/stable/#)\n",
    "* [Oxygen](https://github.com/OxygenFramework/Oxygen.jl)\n",
    "* [ProgressMeter](https://github.com/timholy/ProgressMeter.jl)\n",
    "* [SCIP](https://github.com/scipopt/SCIP.jl)\n",
    "* [Setfield](https://github.com/jw3126/Setfield.jl)\n",
    "* [StatsBase](https://github.com/JuliaStats/StatsBase.jl)\n",
    "* [YAML](https://github.com/JuliaData/YAML.jl)"
   ]
  },
  {
   "cell_type": "markdown",
   "id": "d11bc456-b82c-4f0b-af6e-2244898de2b9",
   "metadata": {},
   "source": [
    "# Step 3. Curating Datasets\n",
    "* Run `notebooks/API/API/GenerateMalToken.ipynb`\n",
    "* Run `notebooks/API/API/GenerateKitsuToken.ipynb`\n",
    "* Run `notebooks/API/WebEndpoints/WebScripts.ipynb`\n",
    "* Run `notebooks/API/ApiEndPoints/Executors/ContinuousScripts.ipynb`"
   ]
  },
  {
   "cell_type": "markdown",
   "id": "773e89af-9d0a-4358-9f21-0e9098ddcf12",
   "metadata": {
    "tags": []
   },
   "source": [
    "# Step 4. Setup Environment\n",
    "* The codebase can be run in the following modes:\n",
    "  * Research: reserves the last N days for out-of-sample testing\n",
    "  * Production: trains new models using all available data\n",
    "  * Streaming: takes the pretrained models from prod and finetunes on new data\n",
    "* The mode can be configured by populating artifacts in the `environment/` folder. By default, the codebase is run in research mode."
   ]
  },
  {
   "cell_type": "markdown",
   "id": "758a02ec-99a1-4dc7-babd-08663aa1efd5",
   "metadata": {},
   "source": [
    "# Step 5. Preprocessing Data\n",
    "* Run `notebooks/ImportDatasets/RunAllScripts.ipynb`\n",
    "* Run `notebooks/ProcessData/RunAllScripts.ipynb`"
   ]
  },
  {
   "cell_type": "markdown",
   "id": "debf68f7-5ac1-4908-9154-81ceb95705dd",
   "metadata": {},
   "source": [
    "# Step 6. Training Models\n",
    "* Run `notebooks/TrainingAlphas/Transformer/RunAllScripts.ipynb`\n",
    "* Run `notebooks/TrainingAlphas/Baseline/RunAllScripts.ipynb`\n",
    "* Run `notebooks/TrainingAlphas/BagOfWords/RunAllScripts.ipynb`\n",
    "* Run `notebooks/TrainingAlphas/Nondirectional/RunAllScripts.ipynb`\n",
    "* Run `notebooks/TrainingAlphas/Ensemble/RunAllScripts.ipynb`"
   ]
  },
  {
   "cell_type": "markdown",
   "id": "d9f8b281-0bb3-48fc-8a0d-0d54c6574032",
   "metadata": {},
   "source": [
    "# Step 7. Starting Web Server \n",
    "* Run `notebooks/Microservices/Package.ipynb`\n",
    "* Run `notebooks/Microservices/Deploy.ipynb`\n",
    "* Open `localhost:3000` in a browser to connect to the web app"
   ]
  }
 ],
 "metadata": {
  "kernelspec": {
   "display_name": "Python 3 (ipykernel)",
   "language": "python",
   "name": "python3"
  },
  "language_info": {
   "codemirror_mode": {
    "name": "ipython",
    "version": 3
   },
   "file_extension": ".py",
   "mimetype": "text/x-python",
   "name": "python",
   "nbconvert_exporter": "python",
   "pygments_lexer": "ipython3",
   "version": "3.10.12"
  }
 },
 "nbformat": 4,
 "nbformat_minor": 5
}
