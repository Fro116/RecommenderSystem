{
 "cells": [
  {
   "cell_type": "markdown",
   "id": "132b6850-8c4f-4ef8-b395-c0b577e3d675",
   "metadata": {},
   "source": [
    "# Step 1. Installing Python Depedencies\n",
    "* [black](https://pypi.org/project/black/)\n",
    "* [ipywidgets](https://ipywidgets.readthedocs.io/en/stable/user_install.html)\n",
    "* [pandas](https://pandas.pydata.org/docs/getting_started/index.html#getting-started)\n",
    "* [papermill](https://papermill.readthedocs.io/en/latest/index.html)\n",
    "* [ratelimit](https://pypi.org/project/ratelimit/)\n",
    "* [scipy](https://scipy.org/install/)\n",
    "* [tqdm](https://github.com/tqdm/tqdm)"
   ]
  },
  {
   "cell_type": "markdown",
   "id": "63f41dbc-c6d2-440e-b3bf-8be1ba497ebf",
   "metadata": {
    "tags": []
   },
   "source": [
    "# Step 2. Installing Julia and Dependencies\n",
    "* Install Julia from https://julialang.org/downloads/"
   ]
  },
  {
   "cell_type": "markdown",
   "id": "246252a5-b685-4e83-b7e2-394f0143f427",
   "metadata": {},
   "source": [
    "## Install the following dependencies\n",
    "* [CSV](https://github.com/JuliaData/CSV.jl)\n",
    "* [CUDA](https://cuda.juliagpu.org/stable/)\n",
    "* [DataFrames](https://dataframes.juliadata.org/stable/man/getting_started/)\n",
    "* [DataStructures](https://juliacollections.github.io/DataStructures.jl/latest/)\n",
    "* [Flux](https://github.com/FluxML/Flux.jl)\n",
    "* [JLD2](https://github.com/JuliaIO/JLD2.jl)\n",
    "* [JupyterFormatter](https://juliahub.com/ui/Packages/JupyterFormatter/Qolop/0.1.0)\n",
    "* [LightGBM](https://github.com/IQVIA-ML/LightGBM.jl)\n",
    "* [LRUCache](https://github.com/JuliaCollections/LRUCache.jl)\n",
    "* [LoggingExtras](https://github.com/JuliaLogging/LoggingExtras.jl)\n",
    "* [Memoize](https://github.com/JuliaCollections/Memoize.jl)\n",
    "* [NBInclude](https://github.com/stevengj/NBInclude.jl)\n",
    "* [NLopt](https://github.com/JuliaOpt/NLopt.jl)\n",
    "* [Optim](https://julianlsolvers.github.io/Optim.jl/stable/#)\n",
    "* [Parameters](https://github.com/mauro3/Parameters.jl)\n",
    "* [ProgressMeter](https://github.com/timholy/ProgressMeter.jl)\n",
    "* [Setfield](https://github.com/jw3126/Setfield.jl)\n",
    "* [StatsBase](https://github.com/JuliaStats/StatsBase.jl)"
   ]
  },
  {
   "cell_type": "markdown",
   "id": "da819b9d-2663-4405-b043-10046e9fd714",
   "metadata": {},
   "source": [
    "## This can be done by pasting the following in Julia's package mode"
   ]
  },
  {
   "cell_type": "raw",
   "id": "66a28fb8-ad1e-4bfa-a492-e350b4540e28",
   "metadata": {},
   "source": [
    "add CSV\n",
    "add CUDA\n",
    "add DataFrames\n",
    "add DataStructures\n",
    "add FileIO\n",
    "add Flux\n",
    "add JLD2\n",
    "add JupyterFormatter\n",
    "add LightGBM\n",
    "add LRUCache\n",
    "add LoggingExtras\n",
    "add Memoize\n",
    "add NBInclude\n",
    "add NLopt\n",
    "add Optim\n",
    "add Parameters\n",
    "add ProgressMeter\n",
    "add Setfield\n",
    "add StatsBase"
   ]
  },
  {
   "cell_type": "markdown",
   "id": "d11bc456-b82c-4f0b-af6e-2244898de2b9",
   "metadata": {},
   "source": [
    "# Step 3. Curating Datasets\n",
    "## Getting data from MAL\n",
    "* Run `notebooks/API/GenerateToken.ipynb`\n",
    "* Run `notebooks/API/GetRecentUsernamesMal.ipynb` until a sufficient number of users have been found\n",
    "* Run `notebooks/API/GetUserAnimeListsMal.ipynb` until a sufficient number of lists have been found\n",
    "* Run `notebooks/API/GetAnime.ipynb`\n",
    "\n",
    "## Getting data from AniList\n",
    "* Run `notebooks/API/GetUserAnimeListsAnilist.ipynb` until a sufficient number of users have been found\n",
    "* Run `notebooks/API/GetUsersAnilist.ipynb`\n",
    "\n",
    "## Combining sources\n",
    "* Run `notebooks/ImportDatasets/RunAllScripts.ipynb`"
   ]
  },
  {
   "cell_type": "markdown",
   "id": "758a02ec-99a1-4dc7-babd-08663aa1efd5",
   "metadata": {},
   "source": [
    "# Step 4. Preprocessing Data\n",
    "* Run `notebooks/ProcessData/RunAllScripts.ipynb`"
   ]
  },
  {
   "cell_type": "markdown",
   "id": "debf68f7-5ac1-4908-9154-81ceb95705dd",
   "metadata": {},
   "source": [
    "# Step 5. Training Models\n",
    "* Run `notebooks/TrainingAlphas/Simple/RunAllScripts.ipynb.ipynb`\n",
    "* Run `notebooks/TrainingAlphas/Explicit/RunAllScripts.ipynb`\n",
    "* Run `notebooks/TrainingAlphas/Neural/Models/RunAllScripts.ipynb`\n",
    "* Run `notebooks/TrainingAlphas/Nondirectional/RunAllScripts.ipynb`\n",
    "* Run `notebooks/TrainingAlphas/Ensemble/Ensemble.ipynb`"
   ]
  },
  {
   "cell_type": "markdown",
   "id": "d9f8b281-0bb3-48fc-8a0d-0d54c6574032",
   "metadata": {},
   "source": [
    "# Step 3. Generating Recommendations \n",
    "* Fill in the fields in `notebooks/RecEgress/RunAllScripts.ipynb` and run it"
   ]
  },
  {
   "cell_type": "code",
   "execution_count": null,
   "id": "186f50aa-69b4-451e-8a53-c817f94b7c3c",
   "metadata": {},
   "outputs": [],
   "source": []
  }
 ],
 "metadata": {
  "kernelspec": {
   "display_name": "Python 3 (ipykernel)",
   "language": "python",
   "name": "python3"
  },
  "language_info": {
   "codemirror_mode": {
    "name": "ipython",
    "version": 3
   },
   "file_extension": ".py",
   "mimetype": "text/x-python",
   "name": "python",
   "nbconvert_exporter": "python",
   "pygments_lexer": "ipython3",
   "version": "3.10.6"
  }
 },
 "nbformat": 4,
 "nbformat_minor": 5
}
