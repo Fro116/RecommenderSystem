{
 "cells": [
  {
   "cell_type": "markdown",
   "id": "132b6850-8c4f-4ef8-b395-c0b577e3d675",
   "metadata": {},
   "source": [
    "# Step 0a. Installing Python Depedencies\n",
    "* [implicit](https://github.com/benfred/implicit)\n",
    "* [ipywidgets](https://ipywidgets.readthedocs.io/en/stable/user_install.html)\n",
    "* [pandas](https://pandas.pydata.org/docs/getting_started/index.html#getting-started)\n",
    "* [ratelimit](https://pypi.org/project/ratelimit/)\n",
    "* [scipy](https://scipy.org/install/)\n",
    "* [tqdm](https://github.com/tqdm/tqdm)"
   ]
  },
  {
   "cell_type": "markdown",
   "id": "63f41dbc-c6d2-440e-b3bf-8be1ba497ebf",
   "metadata": {},
   "source": [
    "# Step 0b. Installing Julia Dependencies\n",
    "* [CSV](https://github.com/JuliaData/CSV.jl)\n",
    "* [CUDA](https://cuda.juliagpu.org/stable/)\n",
    "* [DataFrames](https://dataframes.juliadata.org/stable/man/getting_started/)\n",
    "* [DataStructures](https://juliacollections.github.io/DataStructures.jl/latest/)\n",
    "* [Flux](https://github.com/FluxML/Flux.jl)\n",
    "* [JLD2](https://github.com/JuliaIO/JLD2.jl)\n",
    "* [JupyterFormatter](https://juliahub.com/ui/Packages/JupyterFormatter/Qolop/0.1.0)\n",
    "* [LightGBM](https://github.com/IQVIA-ML/LightGBM.jl)\n",
    "* [LRUCache](https://github.com/JuliaCollections/LRUCache.jl)\n",
    "* [LoggingExtras](https://github.com/JuliaLogging/LoggingExtras.jl)\n",
    "* [Memoize](https://github.com/JuliaCollections/Memoize.jl)\n",
    "* [NBInclude](https://github.com/stevengj/NBInclude.jl)\n",
    "* [Optim](https://julianlsolvers.github.io/Optim.jl/stable/#)\n",
    "* [Parameters](https://github.com/mauro3/Parameters.jl)\n",
    "* [ProgressMeter](https://github.com/timholy/ProgressMeter.jl)\n",
    "* [Setfield](https://github.com/jw3126/Setfield.jl)\n",
    "* [StatsBase](https://github.com/JuliaStats/StatsBase.jl)"
   ]
  },
  {
   "cell_type": "markdown",
   "id": "da819b9d-2663-4405-b043-10046e9fd714",
   "metadata": {},
   "source": [
    "## Paste the following in package mode to install all dependencies"
   ]
  },
  {
   "cell_type": "raw",
   "id": "66a28fb8-ad1e-4bfa-a492-e350b4540e28",
   "metadata": {},
   "source": [
    "add CSV\n",
    "add CUDA\n",
    "add DataFrames\n",
    "add DataStructures\n",
    "add FileIO\n",
    "add Flux\n",
    "add JLD2\n",
    "add JupyterFormatter\n",
    "add LightGBM\n",
    "add LRUCache\n",
    "add LoggingExtras\n",
    "add Memoize\n",
    "add NBInclude\n",
    "add Optim\n",
    "add Parameters\n",
    "add ProgressMeter\n",
    "add Setfield\n",
    "add StatsBase"
   ]
  },
  {
   "cell_type": "markdown",
   "id": "d11bc456-b82c-4f0b-af6e-2244898de2b9",
   "metadata": {},
   "source": [
    "# Step 1. Setting up the Recommender System\n",
    "* Choose one of the following two options:\n",
    "## Generating a Dataset from Scratch \n",
    "* Run `notebooks/API/GenerateToken.ipynb`\n",
    "* Run `notebooks/API/GetRecentUsernames.ipynb` until a sufficient number of users have been found\n",
    "* Run `notebooks/API/GetUserAnimeLists.ipynb` until a sufficient number of lists have been found\n",
    "* Run `notebooks/API/GetAnime.ipynb`\n",
    "* Run `notebooks/ImportDatasets/MyAnimeList.ipynb`\n",
    "## Using a Prebuilt Dataset (in progress)\n",
    "* Download the datasets in https://www.kaggle.com/azathoth42/myanimelist and extract the folder in `data/imported_datasets/azathoth42`\n",
    "* Run `notebooks/ImportDatasets/azathoth42.ipynb`"
   ]
  },
  {
   "cell_type": "markdown",
   "id": "758a02ec-99a1-4dc7-babd-08663aa1efd5",
   "metadata": {},
   "source": [
    "# Step 2. Preprocessing Rating Data\n",
    "* Run `notebooks/ProcessData/RelabelIds.ipynb`\n",
    "* Run `notebooks/ProcessData/GenerateSplits.ipynb`\n",
    "* Run `notebooks/ProcessData/CompressSplits.ipynb`\n",
    "* Run `notebooks/ProcessData/RelatedAnimeGraph.ipynb`"
   ]
  },
  {
   "cell_type": "code",
   "execution_count": null,
   "id": "4ca99aa7-9cb9-4cfa-ba60-f8312ecb9e9a",
   "metadata": {},
   "outputs": [],
   "source": [
    "# TODO delete unused files in raw_data and processed_data"
   ]
  },
  {
   "cell_type": "markdown",
   "id": "debf68f7-5ac1-4908-9154-81ceb95705dd",
   "metadata": {},
   "source": [
    "# Step 3. Train Models\n",
    "* TODO update\n",
    "* Run `notebooks/TrainingAlphas/UserItemBiases.ipynb`\n",
    "* Run `notebooks/TrainingAlphas/GNN.ipynb`\n",
    "* Run `notebooks/TrainingAlphas/MatrixFactorization.ipynb`\n",
    "* Run `notebooks/TrainingAlphas/ItemCF.ipynb`\n",
    "* Run `notebooks/TrainingAlphas/ItemCF.Resid.ipynb`\n",
    "* Run `notebooks/TrainingAlphas/GNN.Resid.ipynb`\n",
    "* Run `notebooks/TrainingAlphas/ItemCF.Related.ipynb`\n",
    "* Run `notebooks/TrainingAlphas/ItemCF.Embed.ipynb`\n",
    "* Run `notebooks/TrainingAlphas/UserCF.ipynb`\n",
    "* Run `notebooks/TrainingAlphas/CombineSignals.ipynb`"
   ]
  },
  {
   "cell_type": "markdown",
   "id": "d9f8b281-0bb3-48fc-8a0d-0d54c6574032",
   "metadata": {},
   "source": [
    "# Step 4. Initialize Recommendations \n",
    "* TODO productionalize via papermill\n",
    "* Fill in the fields in `notebooks/PrepareRecs/InitializeRecommendations.ipynb` and run it\n",
    "* Run `notebooks/PrepareRecs/FetchUserAnimeList.ipynb`\n",
    "* Run `notebooks/PrepareRecs/CompressUserAnimeList.ipynb`"
   ]
  },
  {
   "cell_type": "markdown",
   "id": "00925295-1638-4b02-b450-08ebe122ba75",
   "metadata": {},
   "source": [
    "# Step 5. Generate Recommendations\n",
    "* Run `notebooks/ProductionAlphas/RunAllAlphas.ipynb`"
   ]
  },
  {
   "cell_type": "markdown",
   "id": "768d2b87-7f6d-4941-95cd-4c49ced065ca",
   "metadata": {},
   "source": [
    "# Step 6. View Recommendations\n",
    "* Run `notebooks/DisplayRecs/Recommendations.ipynb`"
   ]
  },
  {
   "cell_type": "code",
   "execution_count": null,
   "id": "186f50aa-69b4-451e-8a53-c817f94b7c3c",
   "metadata": {},
   "outputs": [],
   "source": []
  }
 ],
 "metadata": {
  "kernelspec": {
   "display_name": "Python 3 (ipykernel)",
   "language": "python",
   "name": "python3"
  },
  "language_info": {
   "codemirror_mode": {
    "name": "ipython",
    "version": 3
   },
   "file_extension": ".py",
   "mimetype": "text/x-python",
   "name": "python",
   "nbconvert_exporter": "python",
   "pygments_lexer": "ipython3",
   "version": "3.8.12"
  }
 },
 "nbformat": 4,
 "nbformat_minor": 5
}
