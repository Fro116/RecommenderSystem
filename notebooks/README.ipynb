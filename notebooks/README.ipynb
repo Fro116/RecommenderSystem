{
 "cells": [
  {
   "cell_type": "markdown",
   "id": "132b6850-8c4f-4ef8-b395-c0b577e3d675",
   "metadata": {},
   "source": [
    "# Step 1. Installing Python Depedencies\n",
    "## Install the following packages\n",
    "* [h5py](https://docs.h5py.org/en/stable/build.html)\n",
    "* [numpy](https://numpy.org/install/)\n",
    "* [pandas](https://pandas.pydata.org/docs/getting_started/index.html#getting-started)\n",
    "* [papermill](https://papermill.readthedocs.io/en/latest/index.html)\n",
    "* [ratelimit](https://pypi.org/project/ratelimit/)\n",
    "* [scipy](https://scipy.org/install/)\n",
    "* [torch](https://pytorch.org/get-started/locally/)\n",
    "* [tqdm](https://github.com/tqdm/tqdm)\n",
    "\n",
    "pip install h5py numpy pandas papermill ratelimit scipy torch tqdm\n",
    "## Install the following frameworks\n",
    "* [cuda](https://developer.nvidia.com/cuda-downloads)"
   ]
  },
  {
   "cell_type": "markdown",
   "id": "63f41dbc-c6d2-440e-b3bf-8be1ba497ebf",
   "metadata": {
    "tags": []
   },
   "source": [
    "# Step 2. Installing Julia and Dependencies\n",
    "* Install Julia (version >= 1.9) from https://julialang.org/downloads/"
   ]
  },
  {
   "cell_type": "markdown",
   "id": "b31ea982-9e40-41ec-8a43-d2d0086e3426",
   "metadata": {},
   "source": [
    "### Install the following packages\n",
    "* [HDF5](https://github.com/JuliaIO/HDF5.jl)\n",
    "* [IJulia](https://github.com/JuliaLang/IJulia.jl)\n",
    "* [JLD2](https://github.com/JuliaIO/JLD2.jl)\n",
    "* [JSON](https://github.com/JuliaIO/JSON.jl)\n",
    "* [JupyterFormatter](https://juliahub.com/ui/Packages/JupyterFormatter/Qolop/0.1.0)\n",
    "* [LoggingExtras](https://github.com/JuliaLogging/LoggingExtras.jl)\n",
    "* [LRUCache](https://github.com/JuliaCollections/LRUCache.jl)\n",
    "* [Memoize](https://github.com/JuliaCollections/Memoize.jl)\n",
    "* [NBInclude](https://github.com/stevengj/NBInclude.jl)\n",
    "* [NNlib](https://github.com/FluxML/NNlib.jl)\n",
    "* [Optim](https://julianlsolvers.github.io/Optim.jl/stable/#)\n",
    "* [ParameterSchedulers](https://github.com/FluxML/ParameterSchedulers.jl)\n",
    "* [Setfield](https://github.com/jw3126/Setfield.jl)\n",
    "* [StatsBase](https://github.com/JuliaStats/StatsBase.jl)\n",
    "* [CSV](https://github.com/JuliaData/CSV.jl)\n",
    "* [CUDA](https://cuda.juliagpu.org/stable/)\n",
    "* [DaemonMode](https://github.com/dmolina/DaemonMode.jl)\n",
    "* [DataFrames](https://dataframes.juliadata.org/stable/man/getting_started/)\n",
    "* [DataStructures](https://juliacollections.github.io/DataStructures.jl/latest/)\n",
    "* [Flux](https://github.com/FluxML/Flux.jl)\n",
    "* [Functors](https://github.com/FluxML/Functors.jl)\n",
    "* [Ipopt](https://github.com/jump-dev/Ipopt.jl)\n",
    "* [JuMP](https://jump.dev)\n",
    "* [JupyterFormatter](https://juliahub.com/ui/Packages/JupyterFormatter/Qolop/0.1.0)\n",
    "* [LightGBM](https://github.com/IQVIA-ML/LightGBM.jl)\n",
    "* [NeuralAttentionlib](https://github.com/chengchingwen/NeuralAttentionlib.jl)\n",
    "* [NLopt](https://github.com/JuliaOpt/NLopt.jl)\n",
    "* [NNlibCUDA](https://github.com/FluxML/NNlibCUDA.jl)\n",
    "* [Optimisers](https://github.com/FluxML/Optimisers.jl)\n",
    "* [ParameterSchedulers](https://github.com/FluxML/ParameterSchedulers.jl)"
   ]
  },
  {
   "cell_type": "markdown",
   "id": "da819b9d-2663-4405-b043-10046e9fd714",
   "metadata": {},
   "source": [
    "### They can be installed by pasting this cell in Julia's package mode"
   ]
  },
  {
   "cell_type": "code",
   "execution_count": null,
   "id": "6ec2e0c6-a006-48dd-9efa-b3389bd1065d",
   "metadata": {},
   "outputs": [],
   "source": [
    "add HDF5\n",
    "add IJulia\n",
    "add JupyterFormatter\n",
    "add JLD2\n",
    "add JSON\n",
    "add LoggingExtras\n",
    "add LRUCache\n",
    "add Memoize\n",
    "add MLUtils\n",
    "add NBInclude\n",
    "add NNlib\n",
    "add Optim\n",
    "add ProgressMeter\n",
    "add Setfield\n",
    "add StatsBase\n",
    "\n",
    "add CSV\n",
    "add CUDA\n",
    "add DaemonMode\n",
    "add DataFrames\n",
    "add DataStructures\n",
    "add Flux\n",
    "add Functors\n",
    "add Ipopt\n",
    "add JuMP\n",
    "add JupyterFormatter\n",
    "add LightGBM\n",
    "add NeuralAttentionlib\n",
    "add NLopt\n",
    "add NNlibCUDA\n",
    "add Optimisers\n",
    "add ParameterSchedulers"
   ]
  },
  {
   "cell_type": "markdown",
   "id": "d11bc456-b82c-4f0b-af6e-2244898de2b9",
   "metadata": {},
   "source": [
    "# Step 3. Curating Datasets\n",
    "## Getting data from MAL\n",
    "* Run `notebooks/API/API/GenerateMalToken.ipynb`\n",
    "* Run `notebooks/API/WebEndpoints/GetRecentUsernamesMal.ipynb` until a sufficient number of users have been found\n",
    "* Run `notebooks/API/ApiEndpoints/Executors/ContinuousScriptsMal.ipynb` until a sufficient number of lists have been found\n",
    "* Run `notebooks/API/ApiEndpoints/Executors/BatchScriptsMal.ipynb`\n",
    "\n",
    "## Getting data from AniList\n",
    "* Run `notebooks/API/ApiEndpoints/Executors/ContinuousScriptsAniList.ipynb` until a sufficient number of lists have been found\n",
    "* Run `notebooks/API/ApiEndpoints/Executors/BatchScriptsAniList.ipynb`\n",
    "\n",
    "## Getting data from Kitsu\n",
    "* Run `notebooks/API/API/GenerateKitsuToken.ipynb`\n",
    "* Run `notebooks/API/ApiEndpoints/Executors/ContinuousScriptsKitsu.ipynb` until a sufficient number of lists have been found"
   ]
  },
  {
   "cell_type": "markdown",
   "id": "758a02ec-99a1-4dc7-babd-08663aa1efd5",
   "metadata": {},
   "source": [
    "# Step 4. Preprocessing Data\n",
    "* Run `notebooks/ImportDatasets/RunAllScripts.ipynb`\n",
    "* Run `notebooks/ProcessData/RunAllScripts.ipynb`"
   ]
  },
  {
   "cell_type": "markdown",
   "id": "debf68f7-5ac1-4908-9154-81ceb95705dd",
   "metadata": {},
   "source": [
    "# Step 5. Training Models\n",
    "* Run `notebooks/TrainingAlphas/Explicit/RunAllScripts.ipynb`\n",
    "* Run `notebooks/TrainingAlphas/Transformer/RunAllScripts.ipynb`\n",
    "* Run `notebooks/TrainingAlphas/Nondirectional/RunAllScripts.ipynb`\n",
    "* Run `notebooks/TrainingAlphas/Neural/Models/RunAllScripts.ipynb`\n",
    "* Run `notebooks/TrainingAlphas/Ensemble/RunAllScripts.ipynb`"
   ]
  },
  {
   "cell_type": "markdown",
   "id": "d9f8b281-0bb3-48fc-8a0d-0d54c6574032",
   "metadata": {},
   "source": [
    "# Step 3. Generating Recommendations \n",
    "* Fill in the fields in `notebooks/RecEgress/RunAllScripts.ipynb` and run it"
   ]
  }
 ],
 "metadata": {
  "kernelspec": {
   "display_name": "Python 3 (ipykernel)",
   "language": "python",
   "name": "python3"
  },
  "language_info": {
   "codemirror_mode": {
    "name": "ipython",
    "version": 3
   },
   "file_extension": ".py",
   "mimetype": "text/x-python",
   "name": "python",
   "nbconvert_exporter": "python",
   "pygments_lexer": "ipython3",
   "version": "3.10.6"
  }
 },
 "nbformat": 4,
 "nbformat_minor": 5
}
