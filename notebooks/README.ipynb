{
 "cells": [
  {
   "cell_type": "markdown",
   "id": "132b6850-8c4f-4ef8-b395-c0b577e3d675",
   "metadata": {},
   "source": [
    "# Step 0. Installing Python Depedencies\n",
    "* [igraph](https://igraph.org/python/)\n",
    "* [pandas](https://pandas.pydata.org/docs/getting_started/index.html#getting-started)\n",
    "* [ratelimit](https://pypi.org/project/ratelimit/)\n",
    "* [scipy](https://scipy.org/install/)\n",
    "* [sklearn](https://scikit-learn.org/stable/install.html)\n",
    "* [tqdm](https://github.com/tqdm/tqdm)"
   ]
  },
  {
   "cell_type": "markdown",
   "id": "63f41dbc-c6d2-440e-b3bf-8be1ba497ebf",
   "metadata": {},
   "source": [
    "# Step 0. Installing Julia Dependencies\n",
    "* [CSV](https://github.com/JuliaData/CSV.jl)\n",
    "* [DataFrames](https://dataframes.juliadata.org/stable/man/getting_started/)\n",
    "* [DataStructures](https://juliacollections.github.io/DataStructures.jl/latest/)\n",
    "* [FileIO](https://github.com/JuliaIO/FileIO.jl)\n",
    "* [JLD2](https://github.com/JuliaIO/JLD2.jl)\n",
    "* [JupyterFormatter](https://juliahub.com/ui/Packages/JupyterFormatter/Qolop/0.1.0)\n",
    "* [LoggingExtras](https://github.com/JuliaLogging/LoggingExtras.jl)\n",
    "* [NBInclude](https://github.com/stevengj/NBInclude.jl)\n",
    "* [Optim](https://julianlsolvers.github.io/Optim.jl/stable/#)\n",
    "* [ProgressMeter](https://github.com/timholy/ProgressMeter.jl)"
   ]
  },
  {
   "cell_type": "markdown",
   "id": "d11bc456-b82c-4f0b-af6e-2244898de2b9",
   "metadata": {},
   "source": [
    "# Step 1. Setting up the Recommender System\n",
    "## Using a Prebuilt Dataset (recommended)\n",
    "* Download the datasets in https://www.kaggle.com/azathoth42/myanimelist and extract the folder in `data/imported_datasets/azathoth42`\n",
    "* Run `notebooks/ImportDatasets/azathoth42.ipynb`\n",
    "\n",
    "## Generating a Dataset from Scratch (not recommended)\n",
    "* Run `notebooks/API/GenerateToken.ipynb`\n",
    "* Run `notebooks/API/GetAnime.ipynb`\n",
    "* Run `notebooks/API/GetUsers.ipynb` until a sufficient number of users have been found\n",
    "* Run `notebooks/API/GetUserAnimeLists.ipynb` until a sufficient number of lists have been found\n",
    "* Run `notebooks/ImportDatasets/MyAnimeList.ipynb`"
   ]
  },
  {
   "cell_type": "markdown",
   "id": "758a02ec-99a1-4dc7-babd-08663aa1efd5",
   "metadata": {},
   "source": [
    "# Step 2. Preprocessing Rating Data\n",
    "* Run `notebooks/ProcessData/RelabelIds.ipynb`\n",
    "* Run `notebooks/ProcessData/GenerateSplits.ipynb`\n",
    "* Run `notebooks/ProcessData/CompressSplits.ipynb`"
   ]
  },
  {
   "cell_type": "markdown",
   "id": "debf68f7-5ac1-4908-9154-81ceb95705dd",
   "metadata": {},
   "source": [
    "# Step 3. Train models"
   ]
  },
  {
   "cell_type": "markdown",
   "id": "d9f8b281-0bb3-48fc-8a0d-0d54c6574032",
   "metadata": {},
   "source": [
    "* Run `notebooks/TrainingAlphas/UserItemBiases.ipynb`"
   ]
  },
  {
   "cell_type": "markdown",
   "id": "9a24088e-9712-4269-a36c-aebff8a393fd",
   "metadata": {},
   "source": [
    "# Step 2. Preprocessing Rating Data\n",
    "* Run `notebooks/ProcessData/NormalizeRatings.ipynb`\n",
    "* Run `notebooks/ProcessData/RelatedAnimeGraph.ipynb`\n",
    "* Run `notebooks/ProcessData/RecommendationsGraph.ipynb`\n",
    "* Run `notebooks/ProcessData/ItemCorrelations.ipynb`"
   ]
  },
  {
   "cell_type": "markdown",
   "id": "2d4d1d3b-6bdf-42e7-a5ea-4f025e46530c",
   "metadata": {},
   "source": [
    "# Step 3. Training Signals\n",
    "* Steps 3 and onward need to be rerun for each user you want to generate recommendations for\n",
    "* Run `notebooks/Recommendations/FetchUserAnimeList.ipynb`\n",
    "* Run `notebooks/Signals/RelatedAnimeGraph.ipynb`\n",
    "* Run `notebooks/CrossValidations/RelatedGraphCV.ipynb`\n",
    "* Run `notebooks/CrossValidations/RecGraphCV.ipynb`\n",
    "* Run `notebooks/CrossValidations/NeighborhoodCFCV.ipynb`\n",
    "\n",
    "* TODO document"
   ]
  },
  {
   "cell_type": "markdown",
   "id": "a832ea93-3404-4c35-813a-3872b3cb000c",
   "metadata": {},
   "source": [
    "# Step 4. Evaluating Signals\n",
    "* Run every notebook in `notebooks/Signals/`"
   ]
  },
  {
   "cell_type": "markdown",
   "id": "cd7094fe-f47d-4e61-a7f5-47a1b0600e17",
   "metadata": {},
   "source": [
    "# Step 5. Output Recommendations\n",
    "* Run `notebooks/Recommendations/CombineSignals.ipynb`"
   ]
  }
 ],
 "metadata": {
  "kernelspec": {
   "display_name": "Python 3 (ipykernel)",
   "language": "python",
   "name": "python3"
  },
  "language_info": {
   "codemirror_mode": {
    "name": "ipython",
    "version": 3
   },
   "file_extension": ".py",
   "mimetype": "text/x-python",
   "name": "python",
   "nbconvert_exporter": "python",
   "pygments_lexer": "ipython3",
   "version": "3.8.12"
  }
 },
 "nbformat": 4,
 "nbformat_minor": 5
}
