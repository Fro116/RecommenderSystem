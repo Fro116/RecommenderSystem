{
 "cells": [
  {
   "cell_type": "markdown",
   "metadata": {},
   "source": [
    "# MyAnimeList User Recommendations\n",
    "* This is a signal based off of MyAnimeList user-submitted \n",
    "  recommendations. (See https://myanimelist.net/recommendations.php?s=recentrecs&t=anime)\n",
    "* The predicted score for a series is the weighted sum over all recommended series that\n",
    "  the user has seen\n",
    "* To get the weight between two series, we first construct the undirected adjacency graph of recommendations\n",
    "* Then, we normalize each edge (i->j) by dividing by degree of i and of j.\n",
    "* We raise the adjacency matrix to a given power, normalizing at each step, to reduce sparsity\n",
    "* Finally we apply the transformation weight -> weight^alpha for some fixed alpha"
   ]
  },
  {
   "cell_type": "code",
   "execution_count": 1,
   "metadata": {},
   "outputs": [],
   "source": [
    "import os\n",
    "import pickle\n",
    "\n",
    "import numpy as np\n",
    "import pandas as pd\n",
    "from tqdm import tqdm"
   ]
  },
  {
   "cell_type": "code",
   "execution_count": 2,
   "metadata": {},
   "outputs": [],
   "source": [
    "# TODO read these hyperparameters from a file\n",
    "# Change this to get recommendations for a different user\n",
    "recommendee = \"Fro116\"\n",
    "\n",
    "# parameters chosen by cross-validation\n",
    "power = 3\n",
    "α = 1\n",
    "symmetric_recommendations = True\n",
    "signal_name = f\"maluserrec{power}\""
   ]
  },
  {
   "cell_type": "code",
   "execution_count": 3,
   "metadata": {},
   "outputs": [],
   "source": [
    "outdir = f\"../../data/recommendations/{recommendee}\"\n",
    "os.chdir(outdir)"
   ]
  },
  {
   "cell_type": "code",
   "execution_count": 4,
   "metadata": {},
   "outputs": [],
   "source": [
    "anime = pd.read_csv(\"../../cleaned_data/anime.csv\")"
   ]
  },
  {
   "cell_type": "code",
   "execution_count": 5,
   "metadata": {
    "tags": []
   },
   "outputs": [],
   "source": [
    "user_df = pickle.load(open(\"user_anime_list.pkl\", \"rb\"))"
   ]
  },
  {
   "cell_type": "code",
   "execution_count": 6,
   "metadata": {
    "tags": []
   },
   "outputs": [],
   "source": [
    "rec_df = pickle.load(open(f\"../../processed_data/mal_user_recs_pow_{power}.pkl\", \"rb\"))"
   ]
  },
  {
   "cell_type": "code",
   "execution_count": 7,
   "metadata": {},
   "outputs": [],
   "source": [
    "rec_df[\"weight\"] = rec_df[\"weight\"] ** α"
   ]
  },
  {
   "cell_type": "code",
   "execution_count": 8,
   "metadata": {},
   "outputs": [],
   "source": [
    "user_recs = (\n",
    "    user_df.set_index(\"anime_id\")\n",
    "    .merge(rec_df, left_on=[\"anime_id\"], right_on=[\"source\"])\n",
    "    .drop(\"source\", axis=1)\n",
    "    .rename({\"target\": \"anime_id\"}, axis=1)\n",
    ")"
   ]
  },
  {
   "cell_type": "code",
   "execution_count": 9,
   "metadata": {},
   "outputs": [],
   "source": [
    "pred_scores = user_recs.groupby(\"anime_id\").apply(\n",
    "    lambda x: np.dot(x[\"score\"], x[\"weight\"]) / x[\"weight\"].sum()\n",
    ")"
   ]
  },
  {
   "cell_type": "code",
   "execution_count": 10,
   "metadata": {},
   "outputs": [],
   "source": [
    "pred_vars = user_recs.groupby(\"anime_id\").apply(\n",
    "    lambda x: np.dot(x[\"score_var\"], x[\"weight\"] ** 2) / (x[\"weight\"]).sum() ** 2\n",
    ")\n",
    "# TODO apply a bessel correction\n",
    "#pred_vars = 1"
   ]
  },
  {
   "cell_type": "code",
   "execution_count": 11,
   "metadata": {},
   "outputs": [
    {
     "data": {
      "text/html": [
       "<div>\n",
       "<style scoped>\n",
       "    .dataframe tbody tr th:only-of-type {\n",
       "        vertical-align: middle;\n",
       "    }\n",
       "\n",
       "    .dataframe tbody tr th {\n",
       "        vertical-align: top;\n",
       "    }\n",
       "\n",
       "    .dataframe thead th {\n",
       "        text-align: right;\n",
       "    }\n",
       "</style>\n",
       "<table border=\"1\" class=\"dataframe\">\n",
       "  <thead>\n",
       "    <tr style=\"text-align: right;\">\n",
       "      <th></th>\n",
       "      <th>source</th>\n",
       "      <th>target</th>\n",
       "      <th>weight</th>\n",
       "    </tr>\n",
       "  </thead>\n",
       "  <tbody>\n",
       "    <tr>\n",
       "      <th>0</th>\n",
       "      <td>1</td>\n",
       "      <td>5</td>\n",
       "      <td>5.115315e-08</td>\n",
       "    </tr>\n",
       "    <tr>\n",
       "      <th>1</th>\n",
       "      <td>6</td>\n",
       "      <td>5</td>\n",
       "      <td>2.733039e-09</td>\n",
       "    </tr>\n",
       "    <tr>\n",
       "      <th>2</th>\n",
       "      <td>7</td>\n",
       "      <td>5</td>\n",
       "      <td>8.681316e-09</td>\n",
       "    </tr>\n",
       "    <tr>\n",
       "      <th>3</th>\n",
       "      <td>8</td>\n",
       "      <td>5</td>\n",
       "      <td>6.587286e-10</td>\n",
       "    </tr>\n",
       "    <tr>\n",
       "      <th>4</th>\n",
       "      <td>15</td>\n",
       "      <td>5</td>\n",
       "      <td>9.044291e-11</td>\n",
       "    </tr>\n",
       "    <tr>\n",
       "      <th>...</th>\n",
       "      <td>...</td>\n",
       "      <td>...</td>\n",
       "      <td>...</td>\n",
       "    </tr>\n",
       "    <tr>\n",
       "      <th>18052357</th>\n",
       "      <td>39113</td>\n",
       "      <td>39511</td>\n",
       "      <td>2.797939e-02</td>\n",
       "    </tr>\n",
       "    <tr>\n",
       "      <th>18052358</th>\n",
       "      <td>39114</td>\n",
       "      <td>39511</td>\n",
       "      <td>1.980068e-02</td>\n",
       "    </tr>\n",
       "    <tr>\n",
       "      <th>18052359</th>\n",
       "      <td>39113</td>\n",
       "      <td>39112</td>\n",
       "      <td>1.980068e-02</td>\n",
       "    </tr>\n",
       "    <tr>\n",
       "      <th>18052360</th>\n",
       "      <td>39114</td>\n",
       "      <td>39112</td>\n",
       "      <td>2.797939e-02</td>\n",
       "    </tr>\n",
       "    <tr>\n",
       "      <th>18052361</th>\n",
       "      <td>39511</td>\n",
       "      <td>39112</td>\n",
       "      <td>6.988474e-03</td>\n",
       "    </tr>\n",
       "  </tbody>\n",
       "</table>\n",
       "<p>18052362 rows × 3 columns</p>\n",
       "</div>"
      ],
      "text/plain": [
       "          source  target        weight\n",
       "0              1       5  5.115315e-08\n",
       "1              6       5  2.733039e-09\n",
       "2              7       5  8.681316e-09\n",
       "3              8       5  6.587286e-10\n",
       "4             15       5  9.044291e-11\n",
       "...          ...     ...           ...\n",
       "18052357   39113   39511  2.797939e-02\n",
       "18052358   39114   39511  1.980068e-02\n",
       "18052359   39113   39112  1.980068e-02\n",
       "18052360   39114   39112  2.797939e-02\n",
       "18052361   39511   39112  6.988474e-03\n",
       "\n",
       "[18052362 rows x 3 columns]"
      ]
     },
     "execution_count": 11,
     "metadata": {},
     "output_type": "execute_result"
    }
   ],
   "source": [
    "rec_df"
   ]
  },
  {
   "cell_type": "code",
   "execution_count": 12,
   "metadata": {},
   "outputs": [],
   "source": [
    "signal = pd.DataFrame()\n",
    "signal[\"delta\"] = pred_scores\n",
    "signal[\"delta_var\"] = pred_vars"
   ]
  },
  {
   "cell_type": "code",
   "execution_count": 13,
   "metadata": {},
   "outputs": [],
   "source": [
    "# This signal does not use the rating of an item\n",
    "# in its prediction for the score of that item\n",
    "# so there are no overfitting concerns\n",
    "signal.to_pickle(f\"{signal_name}_loocv.pkl\")\n",
    "signal.to_pickle(f\"{signal_name}.pkl\")"
   ]
  },
  {
   "cell_type": "code",
   "execution_count": 14,
   "metadata": {},
   "outputs": [
    {
     "data": {
      "text/plain": [
       "5944"
      ]
     },
     "execution_count": 14,
     "metadata": {},
     "output_type": "execute_result"
    }
   ],
   "source": [
    "len(signal)"
   ]
  },
  {
   "cell_type": "code",
   "execution_count": 15,
   "metadata": {},
   "outputs": [],
   "source": [
    "import functools\n",
    "import scipy.stats as st\n",
    "import statsmodels.formula.api as smf\n",
    "@functools.wraps(smf.ols)\n",
    "def lm(*args, **kwargs):\n",
    "    return smf.ols(*args, **kwargs).fit()"
   ]
  },
  {
   "cell_type": "code",
   "execution_count": 16,
   "metadata": {},
   "outputs": [],
   "source": [
    "pred_df = user_df.merge(signal, on = 'anime_id', how='left').fillna(0)"
   ]
  },
  {
   "cell_type": "code",
   "execution_count": 17,
   "metadata": {},
   "outputs": [
    {
     "name": "stdout",
     "output_type": "stream",
     "text": [
      "                            OLS Regression Results                            \n",
      "==============================================================================\n",
      "Dep. Variable:                  score   R-squared:                       0.160\n",
      "Model:                            OLS   Adj. R-squared:                  0.158\n",
      "Method:                 Least Squares   F-statistic:                     66.16\n",
      "Date:                Wed, 26 May 2021   Prob (F-statistic):           7.47e-15\n",
      "Time:                        22:03:41   Log-Likelihood:                -646.19\n",
      "No. Observations:                 349   AIC:                             1296.\n",
      "Df Residuals:                     347   BIC:                             1304.\n",
      "Df Model:                           1                                         \n",
      "Covariance Type:            nonrobust                                         \n",
      "==============================================================================\n",
      "                 coef    std err          t      P>|t|      [0.025      0.975]\n",
      "------------------------------------------------------------------------------\n",
      "Intercept      0.0584      0.094      0.621      0.535      -0.127       0.243\n",
      "delta          1.1739      0.144      8.134      0.000       0.890       1.458\n",
      "==============================================================================\n",
      "Omnibus:                        5.421   Durbin-Watson:                   1.546\n",
      "Prob(Omnibus):                  0.067   Jarque-Bera (JB):                5.534\n",
      "Skew:                          -0.292   Prob(JB):                       0.0629\n",
      "Kurtosis:                       2.803   Cond. No.                         1.98\n",
      "==============================================================================\n",
      "\n",
      "Notes:\n",
      "[1] Standard Errors assume that the covariance matrix of the errors is correctly specified.\n"
     ]
    }
   ],
   "source": [
    "print(lm('score ~ delta ', pred_df).summary())"
   ]
  },
  {
   "cell_type": "code",
   "execution_count": 18,
   "metadata": {},
   "outputs": [
    {
     "data": {
      "text/plain": [
       "5944"
      ]
     },
     "execution_count": 18,
     "metadata": {},
     "output_type": "execute_result"
    }
   ],
   "source": [
    "len(signal)"
   ]
  },
  {
   "cell_type": "code",
   "execution_count": 19,
   "metadata": {},
   "outputs": [
    {
     "data": {
      "text/html": [
       "<div>\n",
       "<style scoped>\n",
       "    .dataframe tbody tr th:only-of-type {\n",
       "        vertical-align: middle;\n",
       "    }\n",
       "\n",
       "    .dataframe tbody tr th {\n",
       "        vertical-align: top;\n",
       "    }\n",
       "\n",
       "    .dataframe thead th {\n",
       "        text-align: right;\n",
       "    }\n",
       "</style>\n",
       "<table border=\"1\" class=\"dataframe\">\n",
       "  <thead>\n",
       "    <tr style=\"text-align: right;\">\n",
       "      <th></th>\n",
       "      <th>delta</th>\n",
       "      <th>delta_var</th>\n",
       "    </tr>\n",
       "    <tr>\n",
       "      <th>anime_id</th>\n",
       "      <th></th>\n",
       "      <th></th>\n",
       "    </tr>\n",
       "  </thead>\n",
       "  <tbody>\n",
       "    <tr>\n",
       "      <th>1</th>\n",
       "      <td>-0.796281</td>\n",
       "      <td>0.160605</td>\n",
       "    </tr>\n",
       "    <tr>\n",
       "      <th>5</th>\n",
       "      <td>-0.857400</td>\n",
       "      <td>0.105230</td>\n",
       "    </tr>\n",
       "    <tr>\n",
       "      <th>6</th>\n",
       "      <td>-1.032556</td>\n",
       "      <td>0.101370</td>\n",
       "    </tr>\n",
       "    <tr>\n",
       "      <th>7</th>\n",
       "      <td>-1.424144</td>\n",
       "      <td>0.133403</td>\n",
       "    </tr>\n",
       "    <tr>\n",
       "      <th>8</th>\n",
       "      <td>-0.476658</td>\n",
       "      <td>0.112314</td>\n",
       "    </tr>\n",
       "    <tr>\n",
       "      <th>...</th>\n",
       "      <td>...</td>\n",
       "      <td>...</td>\n",
       "    </tr>\n",
       "    <tr>\n",
       "      <th>48759</th>\n",
       "      <td>-0.898856</td>\n",
       "      <td>0.197013</td>\n",
       "    </tr>\n",
       "    <tr>\n",
       "      <th>48869</th>\n",
       "      <td>1.223411</td>\n",
       "      <td>1.327175</td>\n",
       "    </tr>\n",
       "    <tr>\n",
       "      <th>48961</th>\n",
       "      <td>-0.148136</td>\n",
       "      <td>2.035165</td>\n",
       "    </tr>\n",
       "    <tr>\n",
       "      <th>48971</th>\n",
       "      <td>-0.148136</td>\n",
       "      <td>2.035165</td>\n",
       "    </tr>\n",
       "    <tr>\n",
       "      <th>49014</th>\n",
       "      <td>-0.155245</td>\n",
       "      <td>0.827739</td>\n",
       "    </tr>\n",
       "  </tbody>\n",
       "</table>\n",
       "<p>5944 rows × 2 columns</p>\n",
       "</div>"
      ],
      "text/plain": [
       "             delta  delta_var\n",
       "anime_id                     \n",
       "1        -0.796281   0.160605\n",
       "5        -0.857400   0.105230\n",
       "6        -1.032556   0.101370\n",
       "7        -1.424144   0.133403\n",
       "8        -0.476658   0.112314\n",
       "...            ...        ...\n",
       "48759    -0.898856   0.197013\n",
       "48869     1.223411   1.327175\n",
       "48961    -0.148136   2.035165\n",
       "48971    -0.148136   2.035165\n",
       "49014    -0.155245   0.827739\n",
       "\n",
       "[5944 rows x 2 columns]"
      ]
     },
     "execution_count": 19,
     "metadata": {},
     "output_type": "execute_result"
    }
   ],
   "source": [
    "signal"
   ]
  },
  {
   "cell_type": "markdown",
   "metadata": {},
   "source": [
    "### "
   ]
  }
 ],
 "metadata": {
  "kernelspec": {
   "display_name": "Python 3",
   "language": "python",
   "name": "python3"
  },
  "language_info": {
   "codemirror_mode": {
    "name": "ipython",
    "version": 3
   },
   "file_extension": ".py",
   "mimetype": "text/x-python",
   "name": "python",
   "nbconvert_exporter": "python",
   "pygments_lexer": "ipython3",
   "version": "3.8.5"
  }
 },
 "nbformat": 4,
 "nbformat_minor": 4
}
