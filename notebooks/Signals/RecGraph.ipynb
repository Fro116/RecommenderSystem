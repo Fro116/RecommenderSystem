{
 "cells": [
  {
   "cell_type": "markdown",
   "metadata": {},
   "source": [
    "# MyAnimeList User Recommendations\n",
    "* This is a signal based off of MyAnimeList user-submitted \n",
    "  recommendations. (See https://myanimelist.net/recommendations.php?s=recentrecs&t=anime)\n",
    "* The predicted score for a series is the weighted sum over all recommended series that\n",
    "  the user has seen\n",
    "* To get the weight between two series, we first construct the undirected adjacency graph of recommendations\n",
    "* Then, we normalize each edge (i->j) by dividing by degree of i and of j.\n",
    "* We raise the adjacency matrix to a given power, normalizing at each step, to reduce sparsity\n",
    "* Finally we apply the transformation weight -> weight^alpha for some fixed alpha"
   ]
  },
  {
   "cell_type": "code",
   "execution_count": 1,
   "metadata": {},
   "outputs": [],
   "source": [
    "# CHANGE THIS PARAMETER\n",
    "recommendee = \"taapaye\""
   ]
  },
  {
   "cell_type": "code",
   "execution_count": 2,
   "metadata": {},
   "outputs": [],
   "source": [
    "import os\n",
    "import pickle\n",
    "\n",
    "import numpy as np\n",
    "import pandas as pd\n",
    "from tqdm import tqdm"
   ]
  },
  {
   "cell_type": "code",
   "execution_count": 3,
   "metadata": {},
   "outputs": [],
   "source": [
    "outdir = f\"../../data/recommendations/{recommendee}\"\n",
    "os.chdir(outdir)"
   ]
  },
  {
   "cell_type": "code",
   "execution_count": 4,
   "metadata": {},
   "outputs": [],
   "source": [
    "# parameters chosen by cross-validation\n",
    "parameters = pickle.load(open('parameters/maluserrec.best.pkl', 'rb'))\n",
    "power = parameters['power'].squeeze()\n",
    "α = 1\n",
    "symmetric_recommendations = True\n",
    "signal_name = f\"maluserrec\""
   ]
  },
  {
   "cell_type": "code",
   "execution_count": 5,
   "metadata": {},
   "outputs": [],
   "source": [
    "anime = pd.read_csv(\"../../cleaned_data/anime.csv\")"
   ]
  },
  {
   "cell_type": "code",
   "execution_count": 6,
   "metadata": {
    "tags": []
   },
   "outputs": [],
   "source": [
    "user_df = pickle.load(open(\"user_anime_list.pkl\", \"rb\"))"
   ]
  },
  {
   "cell_type": "code",
   "execution_count": 7,
   "metadata": {
    "tags": []
   },
   "outputs": [],
   "source": [
    "rec_df = pickle.load(open(f\"../../processed_data/mal_user_recs_pow_{power}.pkl\", \"rb\"))"
   ]
  },
  {
   "cell_type": "code",
   "execution_count": 8,
   "metadata": {},
   "outputs": [],
   "source": [
    "rec_df[\"weight\"] = rec_df[\"weight\"] ** α"
   ]
  },
  {
   "cell_type": "code",
   "execution_count": 9,
   "metadata": {},
   "outputs": [],
   "source": [
    "user_recs = (\n",
    "    user_df.set_index(\"anime_id\")\n",
    "    .merge(rec_df, left_on=[\"anime_id\"], right_on=[\"source\"])\n",
    "    .drop(\"source\", axis=1)\n",
    "    .rename({\"target\": \"anime_id\"}, axis=1)\n",
    ")"
   ]
  },
  {
   "cell_type": "code",
   "execution_count": 10,
   "metadata": {},
   "outputs": [],
   "source": [
    "pred_scores = user_recs.groupby(\"anime_id\").apply(\n",
    "    lambda x: np.dot(x[\"score\"], x[\"weight\"]) / x[\"weight\"].sum()\n",
    ")"
   ]
  },
  {
   "cell_type": "code",
   "execution_count": 11,
   "metadata": {},
   "outputs": [],
   "source": [
    "pred_vars = user_recs.groupby(\"anime_id\").apply(\n",
    "    lambda x: np.dot(x[\"score_var\"], x[\"weight\"] ** 2) / (x[\"weight\"]).sum() ** 2\n",
    ")\n",
    "# TODO apply a bessel correction"
   ]
  },
  {
   "cell_type": "code",
   "execution_count": 12,
   "metadata": {},
   "outputs": [],
   "source": [
    "signal = pd.DataFrame()\n",
    "signal[\"delta\"] = pred_scores\n",
    "signal[\"delta_var\"] = pred_vars"
   ]
  },
  {
   "cell_type": "code",
   "execution_count": 13,
   "metadata": {},
   "outputs": [],
   "source": [
    "# This signal does not use the rating of an item\n",
    "# in its prediction for the score of that item\n",
    "# so there are no overfitting concerns\n",
    "signal.to_pickle(f\"{signal_name}_loocv.pkl\")\n",
    "signal.to_pickle(f\"{signal_name}.pkl\")"
   ]
  },
  {
   "cell_type": "markdown",
   "metadata": {},
   "source": [
    "### "
   ]
  }
 ],
 "metadata": {
  "kernelspec": {
   "display_name": "Python 3",
   "language": "python",
   "name": "python3"
  },
  "language_info": {
   "codemirror_mode": {
    "name": "ipython",
    "version": 3
   },
   "file_extension": ".py",
   "mimetype": "text/x-python",
   "name": "python",
   "nbconvert_exporter": "python",
   "pygments_lexer": "ipython3",
   "version": "3.8.8"
  }
 },
 "nbformat": 4,
 "nbformat_minor": 4
}
