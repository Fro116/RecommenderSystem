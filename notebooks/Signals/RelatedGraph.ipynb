{
 "cells": [
  {
   "cell_type": "markdown",
   "metadata": {},
   "source": [
    "# Related Anime Graph\n",
    "* This is a simple signal based off of related series\n",
    "* Two series are said to be related if one is a sequel/prequel/etc. of the other\n",
    "* The predicted score of a series is the average of all related series"
   ]
  },
  {
   "cell_type": "code",
   "execution_count": 1,
   "metadata": {},
   "outputs": [],
   "source": [
    "# CHANGE THIS PARAMETER\n",
    "recommendee = \"taapaye\""
   ]
  },
  {
   "cell_type": "code",
   "execution_count": 2,
   "metadata": {},
   "outputs": [],
   "source": [
    "import os\n",
    "import pickle\n",
    "\n",
    "import numpy as np\n",
    "import pandas as pd\n",
    "from tqdm import tqdm"
   ]
  },
  {
   "cell_type": "code",
   "execution_count": 3,
   "metadata": {},
   "outputs": [],
   "source": [
    "# TODO read these hyperparameters from a file\n",
    "# Change this to get recommendations for a different user\n",
    "signal_name = f\"related\""
   ]
  },
  {
   "cell_type": "code",
   "execution_count": 4,
   "metadata": {},
   "outputs": [],
   "source": [
    "outdir = f\"../../data/recommendations/{recommendee}\"\n",
    "os.chdir(outdir)"
   ]
  },
  {
   "cell_type": "code",
   "execution_count": 5,
   "metadata": {
    "tags": []
   },
   "outputs": [],
   "source": [
    "user_df = pickle.load(open(\"user_anime_list.pkl\", \"rb\"))"
   ]
  },
  {
   "cell_type": "code",
   "execution_count": 6,
   "metadata": {},
   "outputs": [],
   "source": [
    "related_df = pickle.load(open(\"../../processed_data/related_anime_graph.pkl\", \"rb\"))"
   ]
  },
  {
   "cell_type": "code",
   "execution_count": 7,
   "metadata": {
    "tags": []
   },
   "outputs": [],
   "source": [
    "def get_oos_prediction(user_df, related_df, anime_id):\n",
    "    user_oos = user_df.loc[lambda x: x[\"anime_id\"] != anime_id]\n",
    "    series_df = (\n",
    "        user_oos.merge(related_df, on=\"anime_id\")\n",
    "        .groupby(\"series_id\")[[\"score\", \"score_var\"]]\n",
    "        .mean()\n",
    "    )\n",
    "    pred_scores = related_df.merge(series_df, on=\"series_id\", how=\"left\").fillna(0)\n",
    "    pred_scores = pred_scores.rename(\n",
    "        {\"score\": \"delta\", \"score_var\": \"delta_var\"}, axis=1\n",
    "    ).drop(\"series_id\", axis=1)\n",
    "    return pred_scores.loc[lambda x: x[\"anime_id\"] == anime_id]"
   ]
  },
  {
   "cell_type": "code",
   "execution_count": 8,
   "metadata": {},
   "outputs": [
    {
     "name": "stderr",
     "output_type": "stream",
     "text": [
      "100%|██████████| 349/349 [00:03<00:00, 100.53it/s]\n"
     ]
    }
   ],
   "source": [
    "loocv_dfs = []\n",
    "for anime_id in tqdm(user_df[\"anime_id\"]):\n",
    "    loocv_dfs.append(get_oos_prediction(user_df, related_df, anime_id))\n",
    "loocv_df = pd.concat(loocv_dfs, ignore_index=True).set_index(\"anime_id\")\n",
    "loocv_df.to_pickle(f\"{signal_name}_loocv.pkl\")"
   ]
  },
  {
   "cell_type": "code",
   "execution_count": 9,
   "metadata": {},
   "outputs": [],
   "source": [
    "pred_scores = (\n",
    "    user_df.merge(related_df, on=\"anime_id\").groupby(\"series_id\")[\"score\"].mean()\n",
    ")"
   ]
  },
  {
   "cell_type": "code",
   "execution_count": 10,
   "metadata": {
    "tags": []
   },
   "outputs": [],
   "source": [
    "pred_vars = (\n",
    "    user_df.merge(related_df, on=\"anime_id\")\n",
    "    .groupby(\"series_id\")[\"score_var\"]\n",
    "    .apply(lambda x: x.sum() / x.size ** 2)\n",
    ")\n",
    "# TODO apply bessel correction"
   ]
  },
  {
   "cell_type": "code",
   "execution_count": 11,
   "metadata": {},
   "outputs": [],
   "source": [
    "signal = pd.DataFrame()\n",
    "signal[\"delta\"] = pred_scores\n",
    "signal[\"delta_var\"] = pred_vars\n",
    "signal = (\n",
    "    signal.merge(related_df, on=\"series_id\")\n",
    "    .drop(\"series_id\", axis=1)\n",
    "    .set_index(\"anime_id\")\n",
    ")\n",
    "signal.to_pickle(f\"{signal_name}.pkl\")"
   ]
  },
  {
   "cell_type": "code",
   "execution_count": 12,
   "metadata": {},
   "outputs": [
    {
     "data": {
      "text/html": [
       "<div>\n",
       "<style scoped>\n",
       "    .dataframe tbody tr th:only-of-type {\n",
       "        vertical-align: middle;\n",
       "    }\n",
       "\n",
       "    .dataframe tbody tr th {\n",
       "        vertical-align: top;\n",
       "    }\n",
       "\n",
       "    .dataframe thead th {\n",
       "        text-align: right;\n",
       "    }\n",
       "</style>\n",
       "<table border=\"1\" class=\"dataframe\">\n",
       "  <thead>\n",
       "    <tr style=\"text-align: right;\">\n",
       "      <th></th>\n",
       "      <th>username</th>\n",
       "      <th>anime_id</th>\n",
       "      <th>score</th>\n",
       "      <th>score_var</th>\n",
       "    </tr>\n",
       "  </thead>\n",
       "  <tbody>\n",
       "  </tbody>\n",
       "</table>\n",
       "</div>"
      ],
      "text/plain": [
       "Empty DataFrame\n",
       "Columns: [username, anime_id, score, score_var]\n",
       "Index: []"
      ]
     },
     "execution_count": 12,
     "metadata": {},
     "output_type": "execute_result"
    }
   ],
   "source": [
    "user_df.loc[lambda x: x['anime_id'] == 37105]"
   ]
  },
  {
   "cell_type": "code",
   "execution_count": 14,
   "metadata": {},
   "outputs": [
    {
     "data": {
      "text/html": [
       "<div>\n",
       "<style scoped>\n",
       "    .dataframe tbody tr th:only-of-type {\n",
       "        vertical-align: middle;\n",
       "    }\n",
       "\n",
       "    .dataframe tbody tr th {\n",
       "        vertical-align: top;\n",
       "    }\n",
       "\n",
       "    .dataframe thead th {\n",
       "        text-align: right;\n",
       "    }\n",
       "</style>\n",
       "<table border=\"1\" class=\"dataframe\">\n",
       "  <thead>\n",
       "    <tr style=\"text-align: right;\">\n",
       "      <th></th>\n",
       "      <th>delta</th>\n",
       "      <th>delta_var</th>\n",
       "    </tr>\n",
       "    <tr>\n",
       "      <th>anime_id</th>\n",
       "      <th></th>\n",
       "      <th></th>\n",
       "    </tr>\n",
       "  </thead>\n",
       "  <tbody>\n",
       "    <tr>\n",
       "      <th>897</th>\n",
       "      <td>0.116583</td>\n",
       "      <td>0.070804</td>\n",
       "    </tr>\n",
       "    <tr>\n",
       "      <th>33947</th>\n",
       "      <td>0.116583</td>\n",
       "      <td>0.070804</td>\n",
       "    </tr>\n",
       "    <tr>\n",
       "      <th>30694</th>\n",
       "      <td>0.116583</td>\n",
       "      <td>0.070804</td>\n",
       "    </tr>\n",
       "    <tr>\n",
       "      <th>25389</th>\n",
       "      <td>0.116583</td>\n",
       "      <td>0.070804</td>\n",
       "    </tr>\n",
       "    <tr>\n",
       "      <th>22777</th>\n",
       "      <td>0.116583</td>\n",
       "      <td>0.070804</td>\n",
       "    </tr>\n",
       "    <tr>\n",
       "      <th>...</th>\n",
       "      <td>...</td>\n",
       "      <td>...</td>\n",
       "    </tr>\n",
       "    <tr>\n",
       "      <th>3016</th>\n",
       "      <td>0.750089</td>\n",
       "      <td>2.650004</td>\n",
       "    </tr>\n",
       "    <tr>\n",
       "      <th>34572</th>\n",
       "      <td>-0.465655</td>\n",
       "      <td>2.673146</td>\n",
       "    </tr>\n",
       "    <tr>\n",
       "      <th>36027</th>\n",
       "      <td>-1.937559</td>\n",
       "      <td>2.838948</td>\n",
       "    </tr>\n",
       "    <tr>\n",
       "      <th>36974</th>\n",
       "      <td>-1.937559</td>\n",
       "      <td>2.838948</td>\n",
       "    </tr>\n",
       "    <tr>\n",
       "      <th>1050</th>\n",
       "      <td>2.705483</td>\n",
       "      <td>3.310501</td>\n",
       "    </tr>\n",
       "  </tbody>\n",
       "</table>\n",
       "<p>939 rows × 2 columns</p>\n",
       "</div>"
      ],
      "text/plain": [
       "             delta  delta_var\n",
       "anime_id                     \n",
       "897       0.116583   0.070804\n",
       "33947     0.116583   0.070804\n",
       "30694     0.116583   0.070804\n",
       "25389     0.116583   0.070804\n",
       "22777     0.116583   0.070804\n",
       "...            ...        ...\n",
       "3016      0.750089   2.650004\n",
       "34572    -0.465655   2.673146\n",
       "36027    -1.937559   2.838948\n",
       "36974    -1.937559   2.838948\n",
       "1050      2.705483   3.310501\n",
       "\n",
       "[939 rows x 2 columns]"
      ]
     },
     "execution_count": 14,
     "metadata": {},
     "output_type": "execute_result"
    }
   ],
   "source": [
    "signal.sort_values(by='delta_var')"
   ]
  },
  {
   "cell_type": "code",
   "execution_count": null,
   "metadata": {},
   "outputs": [],
   "source": []
  }
 ],
 "metadata": {
  "kernelspec": {
   "display_name": "Python 3",
   "language": "python",
   "name": "python3"
  },
  "language_info": {
   "codemirror_mode": {
    "name": "ipython",
    "version": 3
   },
   "file_extension": ".py",
   "mimetype": "text/x-python",
   "name": "python",
   "nbconvert_exporter": "python",
   "pygments_lexer": "ipython3",
   "version": "3.8.5"
  }
 },
 "nbformat": 4,
 "nbformat_minor": 4
}
