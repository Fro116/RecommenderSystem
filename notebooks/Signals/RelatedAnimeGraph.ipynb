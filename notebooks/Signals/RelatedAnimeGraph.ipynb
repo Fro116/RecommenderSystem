{
 "cells": [
  {
   "cell_type": "markdown",
   "metadata": {},
   "source": [
    "# Related Anime Graph\n",
    "* This is a simple signal based off of related series\n",
    "* Two series are said to be related if one is a sequel/prequel/etc. of the other\n",
    "* The predicted score of a series is the average of all related series"
   ]
  },
  {
   "cell_type": "code",
   "execution_count": 1,
   "metadata": {},
   "outputs": [],
   "source": [
    "# CHANGE THIS PARAMETER\n",
    "recommendee = \"taapaye\""
   ]
  },
  {
   "cell_type": "code",
   "execution_count": 2,
   "metadata": {},
   "outputs": [],
   "source": [
    "import os\n",
    "import pickle\n",
    "\n",
    "import numpy as np\n",
    "import pandas as pd\n",
    "from tqdm import tqdm"
   ]
  },
  {
   "cell_type": "code",
   "execution_count": 3,
   "metadata": {},
   "outputs": [],
   "source": [
    "# TODO read these hyperparameters from a file\n",
    "# Change this to get recommendations for a different user\n",
    "signal_name = f\"related\""
   ]
  },
  {
   "cell_type": "code",
   "execution_count": 4,
   "metadata": {},
   "outputs": [],
   "source": [
    "outdir = f\"../../data/recommendations/{recommendee}\"\n",
    "os.chdir(outdir)"
   ]
  },
  {
   "cell_type": "code",
   "execution_count": 5,
   "metadata": {
    "tags": []
   },
   "outputs": [],
   "source": [
    "user_df = pickle.load(open(\"user_anime_list.pkl\", \"rb\"))"
   ]
  },
  {
   "cell_type": "code",
   "execution_count": 6,
   "metadata": {},
   "outputs": [],
   "source": [
    "#related_df = pickle.load(open(\"../../processed_data/related_anime_graph.pkl\", \"rb\"))"
   ]
  },
  {
   "cell_type": "code",
   "execution_count": 7,
   "metadata": {
    "tags": []
   },
   "outputs": [],
   "source": [
    "def get_oos_prediction(user_df, related_df, anime_id):\n",
    "    user_oos = user_df.loc[lambda x: x[\"anime_id\"] != anime_id]\n",
    "    series_df = (\n",
    "        user_oos.merge(related_df, on=\"anime_id\")\n",
    "        .groupby(\"series_id\")[[\"score\", \"score_var\"]]\n",
    "        .mean()\n",
    "    )\n",
    "    pred_scores = related_df.merge(series_df, on=\"series_id\", how=\"left\").fillna(0)\n",
    "    pred_scores = pred_scores.rename(\n",
    "        {\"score\": \"delta\", \"score_var\": \"delta_var\"}, axis=1\n",
    "    ).drop(\"series_id\", axis=1)\n",
    "    return pred_scores.loc[lambda x: x[\"anime_id\"] == anime_id]"
   ]
  },
  {
   "cell_type": "code",
   "execution_count": 8,
   "metadata": {},
   "outputs": [],
   "source": [
    "def store_signals(signal_name):\n",
    "    related_df = pickle.load(open(f\"../../processed_data/{signal_name}_anime_graph.pkl\", \"rb\"))\n",
    "    signal_name=signal_name.replace('_', '')\n",
    "    \n",
    "    loocv_dfs = []\n",
    "    for anime_id in tqdm(user_df[\"anime_id\"]):\n",
    "        loocv_dfs.append(get_oos_prediction(user_df, related_df, anime_id))\n",
    "    loocv_df = pd.concat(loocv_dfs, ignore_index=True).set_index(\"anime_id\")\n",
    "    loocv_df.to_pickle(f\"{signal_name}_loocv.pkl\")\n",
    "    \n",
    "    pred_scores = (\n",
    "        user_df.merge(related_df, on=\"anime_id\").groupby(\"series_id\")[\"score\"].mean()\n",
    "    )\n",
    "    pred_vars = (\n",
    "        user_df.merge(related_df, on=\"anime_id\")\n",
    "        .groupby(\"series_id\")[\"score_var\"]\n",
    "        .apply(lambda x: x.sum() / x.size ** 2)\n",
    "    )\n",
    "    signal = pd.DataFrame()\n",
    "    signal[\"delta\"] = pred_scores\n",
    "    signal[\"delta_var\"] = pred_vars\n",
    "    signal = (\n",
    "        signal.merge(related_df, on=\"series_id\")\n",
    "        .drop(\"series_id\", axis=1)\n",
    "        .set_index(\"anime_id\")\n",
    "    )\n",
    "    signal.to_pickle(f\"{signal_name}.pkl\")"
   ]
  },
  {
   "cell_type": "code",
   "execution_count": 9,
   "metadata": {},
   "outputs": [
    {
     "name": "stderr",
     "output_type": "stream",
     "text": [
      "100%|████████████████████████████████████████████████████████████████████████████████| 425/425 [00:04<00:00, 89.50it/s]\n",
      "100%|████████████████████████████████████████████████████████████████████████████████| 425/425 [00:04<00:00, 92.09it/s]\n",
      "100%|████████████████████████████████████████████████████████████████████████████████| 425/425 [00:04<00:00, 96.20it/s]\n"
     ]
    }
   ],
   "source": [
    "store_signals('strict_relations')\n",
    "store_signals('weak_relations')\n",
    "store_signals('all_relations')"
   ]
  },
  {
   "cell_type": "code",
   "execution_count": null,
   "metadata": {},
   "outputs": [],
   "source": []
  }
 ],
 "metadata": {
  "kernelspec": {
   "display_name": "Python 3",
   "language": "python",
   "name": "python3"
  },
  "language_info": {
   "codemirror_mode": {
    "name": "ipython",
    "version": 3
   },
   "file_extension": ".py",
   "mimetype": "text/x-python",
   "name": "python",
   "nbconvert_exporter": "python",
   "pygments_lexer": "ipython3",
   "version": "3.8.8"
  }
 },
 "nbformat": 4,
 "nbformat_minor": 4
}
