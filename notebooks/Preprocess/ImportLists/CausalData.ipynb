{
 "cells": [
  {
   "cell_type": "code",
   "execution_count": null,
   "id": "da8e7b50-c7f4-4f46-9aea-e3193e09f431",
   "metadata": {
    "editable": true,
    "slideshow": {
     "slide_type": ""
    },
    "tags": []
   },
   "outputs": [],
   "source": [
    "import JupyterFormatter\n",
    "JupyterFormatter.enable_autoformat();"
   ]
  },
  {
   "cell_type": "code",
   "execution_count": null,
   "id": "9543d703-da7d-44bb-acdc-50b157aca4df",
   "metadata": {},
   "outputs": [],
   "source": [
    "import NBInclude: @nbinclude\n",
    "@nbinclude(\"Data.ipynb\");"
   ]
  },
  {
   "cell_type": "code",
   "execution_count": null,
   "id": "b90f96f3-ee80-493e-838b-02366111ab69",
   "metadata": {},
   "outputs": [],
   "source": [
    "const MAX_OUPUT_ITEMS = 5\n",
    "const MAX_OUPUT_DAYS = 14"
   ]
  },
  {
   "cell_type": "code",
   "execution_count": null,
   "id": "8286c135-0b26-4e08-af2a-624e6a5f0c7b",
   "metadata": {
    "editable": true,
    "slideshow": {
     "slide_type": ""
    },
    "tags": []
   },
   "outputs": [],
   "source": [
    "function get_update_map(dataset::String)\n",
    "    dfs = load_datasets(dataset)\n",
    "    update_maps = Vector{Dict{Int32,Float64}}(undef, length(dfs))\n",
    "    @showprogress Threads.@threads for i = 1:length(dfs)\n",
    "        update_map = Dict{Int32,Float64}()\n",
    "        df = dfs[i]\n",
    "        for (u, t) in zip(df.userid, df.updated_at)\n",
    "            if u ∉ keys(update_map)\n",
    "                update_map[u] = 0\n",
    "            end\n",
    "            update_map[u] = max(update_map[u], t)\n",
    "        end\n",
    "        update_maps[i] = update_map\n",
    "    end\n",
    "    updates = merge(update_maps...)\n",
    "    userids = read_csv(get_data_path(\"processed_data/$dataset.userid_map.csv\"))\n",
    "    userids[!, :userid] = parse.(Int32, userids.userid)\n",
    "    userids[!, :updated_at] = [get(updates, i, 0) for i in userids.userid]\n",
    "    userids\n",
    "end;"
   ]
  },
  {
   "cell_type": "code",
   "execution_count": null,
   "id": "da887495-339f-4d8d-9f91-df73a362e1d5",
   "metadata": {
    "editable": true,
    "slideshow": {
     "slide_type": ""
    },
    "tags": []
   },
   "outputs": [],
   "source": [
    "function get_valid_users()\n",
    "    s = get_update_map(\"streaming\")\n",
    "    t = get_update_map(\"test\")\n",
    "    df = DataFrames.rightjoin(s, t, on = [:source, :username], renamecols = \"_s\" => \"_t\")\n",
    "    df = filter(x -> x.updated_at_t .> coalesce(x.updated_at_s, 0), df)\n",
    "    df[!, :userid] = 1:DataFrames.nrow(df)\n",
    "    CSV.write(get_data_path(\"processed_data/causal.userid_map.csv\"), df)\n",
    "    df\n",
    "end;"
   ]
  },
  {
   "cell_type": "code",
   "execution_count": null,
   "id": "0ab6fa59-5a5d-4f72-986f-f7a5ebee2789",
   "metadata": {
    "editable": true,
    "slideshow": {
     "slide_type": ""
    },
    "tags": []
   },
   "outputs": [],
   "source": [
    "function filter_users(dataset, users)\n",
    "    userids = Dict{Int32,Int32}\n",
    "    source_col = Dict(\"streaming\" => users.userid_s, \"test\" => users.userid_t)\n",
    "    userid_map = Dict{Int32,Int32}(\n",
    "        k => v for (k, v) in zip(source_col[dataset], users.userid) if !ismissing(k)\n",
    "    )\n",
    "    dfs = load_datasets(dataset)\n",
    "    @showprogress Threads.@threads for i = 1:length(dfs)\n",
    "        dfs[i].userid .= dfs[i].userid .|> x -> get(userid_map, x, 0)\n",
    "        dfs[i] = subset(dfs[i], dfs[i].userid .!= 0)\n",
    "    end\n",
    "    dfs\n",
    "end;"
   ]
  },
  {
   "cell_type": "code",
   "execution_count": null,
   "id": "8c8a892e-5c1d-4f71-8d38-e090b940632b",
   "metadata": {
    "editable": true,
    "slideshow": {
     "slide_type": ""
    },
    "tags": []
   },
   "outputs": [],
   "source": [
    "function filter_causal!(dfs, users)\n",
    "    streaming_map = Dict{Int32,Float64}(\n",
    "        k => v for (k, v) in zip(users.userid, users.updated_at_s) if !ismissing(v)\n",
    "    )\n",
    "    @showprogress Threads.@threads for i = 1:length(dfs)\n",
    "        df = dfs[i]\n",
    "        mask = [t > get(streaming_map, u, 0) for (t, u) in zip(df.updated_at, df.userid)]\n",
    "        dfs[i] = subset(df, mask)\n",
    "    end\n",
    "end;"
   ]
  },
  {
   "cell_type": "code",
   "execution_count": null,
   "id": "ee081912-b2e7-4f13-a2b4-0f087188908a",
   "metadata": {},
   "outputs": [],
   "source": [
    "function filter_duplicates!(input_dfs, output_dfs)\n",
    "    userids = union([Set(df.userid) for df in vcat(input_dfs, output_dfs)]...)\n",
    "    seen_items = Dict(u => Set() for u in userids)\n",
    "    @showprogress for df in input_dfs\n",
    "        for (s, u, i) in zip(df.status, df.userid, df.itemid)\n",
    "            if s != STATUS_MAP[\"planned\"]\n",
    "                push!(seen_items[u], i)\n",
    "            end\n",
    "        end\n",
    "    end\n",
    "    @showprogress Threads.@threads for i = 1:length(output_dfs)\n",
    "        df = output_dfs[i]\n",
    "        mask = [a ∉ seen_items[u] for (u, a) in zip(df.userid, df.itemid)]\n",
    "        output_dfs[i] = subset(df, mask)\n",
    "    end\n",
    "end;"
   ]
  },
  {
   "cell_type": "code",
   "execution_count": null,
   "id": "b36de8c9-ebee-4cd8-a3c1-d6b260e277dd",
   "metadata": {
    "editable": true,
    "slideshow": {
     "slide_type": ""
    },
    "tags": []
   },
   "outputs": [],
   "source": [
    "function filter_recent!(dfs, ts_cutoff)\n",
    "    update_maps = [Dict{Int32,Float64}() for _ = 1:length(dfs)]\n",
    "    @showprogress Threads.@threads for i = 1:length(dfs)\n",
    "        df = dfs[i]\n",
    "        update_map = update_maps[i]\n",
    "        for (u, t) in zip(df.userid, df.updated_at)\n",
    "            if u ∉ keys(update_map)\n",
    "                update_map[u] = Inf\n",
    "            end\n",
    "            update_map[u] = min(update_map[u], t)\n",
    "        end\n",
    "        update_maps[i] = update_map\n",
    "    end\n",
    "    valid_userids = Set()\n",
    "    for map in update_maps\n",
    "        for (u, t) in map\n",
    "            if t >= ts_cutoff\n",
    "                push!(valid_userids, u)\n",
    "            end\n",
    "        end\n",
    "    end\n",
    "    @showprogress Threads.@threads for i = 1:length(dfs)\n",
    "        dfs[i] = subset(dfs[i], dfs[i].userid .∈ (valid_userids,))\n",
    "    end\n",
    "end;"
   ]
  },
  {
   "cell_type": "code",
   "execution_count": null,
   "id": "d7a9c34b-71e9-4740-910d-eb6098d2f3ce",
   "metadata": {},
   "outputs": [],
   "source": [
    "seed_rng!(\"Preprocess/ImportLists/CausalData\");"
   ]
  },
  {
   "cell_type": "code",
   "execution_count": null,
   "id": "6b94e2a0-5abf-4ce5-aa3a-eac2ba7a8301",
   "metadata": {
    "scrolled": true
   },
   "outputs": [],
   "source": [
    "users = get_valid_users();"
   ]
  },
  {
   "cell_type": "code",
   "execution_count": null,
   "id": "c6318684-202b-4a73-b25c-0b8632e61881",
   "metadata": {
    "editable": true,
    "slideshow": {
     "slide_type": ""
    },
    "tags": []
   },
   "outputs": [],
   "source": [
    "train_dfs = Vector{RatingsDataset}()\n",
    "test_input_dfs = filter_users(\"streaming\", users);\n",
    "test_output_dfs = filter_users(\"test\", users);"
   ]
  },
  {
   "cell_type": "code",
   "execution_count": null,
   "id": "eca3d731-80a3-4b22-b97b-cb5c17192797",
   "metadata": {},
   "outputs": [],
   "source": [
    "filter_causal!(test_output_dfs, users);"
   ]
  },
  {
   "cell_type": "code",
   "execution_count": null,
   "id": "0b8fdae0-7146-413c-bc70-4a49772fda57",
   "metadata": {},
   "outputs": [],
   "source": [
    "filter_duplicates!(test_input_dfs, test_output_dfs);"
   ]
  },
  {
   "cell_type": "code",
   "execution_count": null,
   "id": "7b93b93a-fbd4-479a-acda-9e117bc4fcfc",
   "metadata": {
    "editable": true,
    "slideshow": {
     "slide_type": ""
    },
    "tags": []
   },
   "outputs": [],
   "source": [
    "_, test_output_dfs = create_splits!(test_output_dfs, 0, MAX_OUPUT_ITEMS, false);"
   ]
  },
  {
   "cell_type": "code",
   "execution_count": null,
   "id": "88bdbe2f-d53b-4bea-8d5a-568b31312579",
   "metadata": {
    "editable": true,
    "slideshow": {
     "slide_type": ""
    },
    "tags": []
   },
   "outputs": [],
   "source": [
    "ts_cutoff =\n",
    "    get_max_valid_ts(\"streaming\") - (24 * 60 * 60 * MAX_OUPUT_DAYS) / (MAX_TS - MIN_TS)\n",
    "filter_recent!(test_output_dfs, ts_cutoff);"
   ]
  },
  {
   "cell_type": "code",
   "execution_count": null,
   "id": "d0b3dcb4-60cf-436a-8992-700b3495835f",
   "metadata": {
    "editable": true,
    "slideshow": {
     "slide_type": ""
    },
    "tags": []
   },
   "outputs": [],
   "source": [
    "filter_input!(test_input_dfs, test_output_dfs);"
   ]
  },
  {
   "cell_type": "code",
   "execution_count": null,
   "id": "0fc6c80e-43e3-44c0-8ef3-cdd197236e0e",
   "metadata": {
    "editable": true,
    "slideshow": {
     "slide_type": ""
    },
    "tags": []
   },
   "outputs": [],
   "source": [
    "relabel_userids!(train_dfs, test_input_dfs, test_output_dfs, \"causal\");"
   ]
  },
  {
   "cell_type": "code",
   "execution_count": null,
   "id": "717ba3a0-1030-4b87-ac31-f6c949bcd237",
   "metadata": {},
   "outputs": [],
   "source": [
    "save_dataset(train_dfs, test_input_dfs, test_output_dfs, \"causal\");"
   ]
  }
 ],
 "metadata": {
  "kernelspec": {
   "display_name": "Julia 1.10.2",
   "language": "julia",
   "name": "julia-1.10"
  },
  "language_info": {
   "file_extension": ".jl",
   "mimetype": "application/julia",
   "name": "julia",
   "version": "1.10.2"
  }
 },
 "nbformat": 4,
 "nbformat_minor": 5
}
