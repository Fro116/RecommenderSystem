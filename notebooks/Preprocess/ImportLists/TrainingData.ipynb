{
 "cells": [
  {
   "cell_type": "code",
   "execution_count": null,
   "id": "da8e7b50-c7f4-4f46-9aea-e3193e09f431",
   "metadata": {
    "editable": true,
    "slideshow": {
     "slide_type": ""
    },
    "tags": []
   },
   "outputs": [],
   "source": [
    "import JupyterFormatter\n",
    "JupyterFormatter.enable_autoformat();"
   ]
  },
  {
   "cell_type": "code",
   "execution_count": null,
   "id": "cf5ac39c-8c29-4912-baec-9b42eb3c27e7",
   "metadata": {},
   "outputs": [],
   "source": [
    "import NBInclude: @nbinclude\n",
    "@nbinclude(\"Data.ipynb\");"
   ]
  },
  {
   "cell_type": "code",
   "execution_count": null,
   "id": "ea465c77-a3ae-4412-b897-715c0dde43ed",
   "metadata": {
    "editable": true,
    "slideshow": {
     "slide_type": ""
    },
    "tags": []
   },
   "outputs": [],
   "source": [
    "const MIN_ITEMS = 5;\n",
    "const MAX_OUPUT_DAYS = 7\n",
    "const MAX_OUPUT_ITEMS = 5\n",
    "const TEST_USER_FRAC = 0.01;"
   ]
  },
  {
   "cell_type": "code",
   "execution_count": null,
   "id": "ee199ddb-7250-49cd-877a-1a257e8e6ced",
   "metadata": {
    "editable": true,
    "slideshow": {
     "slide_type": ""
    },
    "tags": []
   },
   "outputs": [],
   "source": [
    "seed_rng!(\"Preprocess/ImportLists/TrainingData\");"
   ]
  },
  {
   "cell_type": "code",
   "execution_count": null,
   "id": "f1a5c194-456c-468a-a0b0-f77ed63be8f4",
   "metadata": {
    "editable": true,
    "slideshow": {
     "slide_type": ""
    },
    "tags": []
   },
   "outputs": [],
   "source": [
    "dfs = load_datasets(\"training\");"
   ]
  },
  {
   "cell_type": "code",
   "execution_count": null,
   "id": "971a51e8-d383-422d-937c-bcc8d6d6e600",
   "metadata": {
    "editable": true,
    "slideshow": {
     "slide_type": ""
    },
    "tags": []
   },
   "outputs": [],
   "source": [
    "train_dfs, test_dfs = split_by_user!(dfs, TEST_USER_FRAC);"
   ]
  },
  {
   "cell_type": "code",
   "execution_count": null,
   "id": "b1cdf9cb-0e2f-49f5-83af-f1d1124f133f",
   "metadata": {
    "editable": true,
    "slideshow": {
     "slide_type": ""
    },
    "tags": []
   },
   "outputs": [],
   "source": [
    "drop_sparse_users!(train_dfs, MIN_ITEMS);"
   ]
  },
  {
   "cell_type": "code",
   "execution_count": null,
   "id": "e691ea18-bde2-4ea3-8176-8b61812f869c",
   "metadata": {
    "editable": true,
    "slideshow": {
     "slide_type": ""
    },
    "tags": []
   },
   "outputs": [],
   "source": [
    "ts_cutoff =\n",
    "    get_max_valid_ts(\"training\") - (24 * 60 * 60 * MAX_OUPUT_DAYS) / (MAX_TS - MIN_TS)\n",
    "test_input_dfs, test_output_dfs = create_splits!(test_dfs, ts_cutoff, MAX_OUPUT_ITEMS, true)\n",
    "filter_input!(test_input_dfs, test_output_dfs);"
   ]
  },
  {
   "cell_type": "code",
   "execution_count": null,
   "id": "ebb3a86d-357d-482f-aa86-7f6a01fecd59",
   "metadata": {
    "editable": true,
    "slideshow": {
     "slide_type": ""
    },
    "tags": []
   },
   "outputs": [],
   "source": [
    "relabel_userids!(train_dfs, test_input_dfs, test_output_dfs, \"training\");"
   ]
  },
  {
   "cell_type": "code",
   "execution_count": null,
   "id": "9cf88aa4-7b26-4a90-87df-e9e48ebeff7c",
   "metadata": {
    "editable": true,
    "slideshow": {
     "slide_type": ""
    },
    "tags": []
   },
   "outputs": [],
   "source": [
    "save_dataset(train_dfs, test_input_dfs, test_output_dfs, \"training\");"
   ]
  }
 ],
 "metadata": {
  "kernelspec": {
   "display_name": "Julia 1.10.2",
   "language": "julia",
   "name": "julia-1.10"
  },
  "language_info": {
   "file_extension": ".jl",
   "mimetype": "application/julia",
   "name": "julia",
   "version": "1.10.2"
  }
 },
 "nbformat": 4,
 "nbformat_minor": 5
}
