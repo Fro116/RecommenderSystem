{
 "cells": [
  {
   "cell_type": "markdown",
   "id": "b501b679-f08c-49c7-8beb-ea01498070e8",
   "metadata": {},
   "source": [
    "# Match items using Mal IDs"
   ]
  },
  {
   "cell_type": "code",
   "execution_count": null,
   "id": "c24fed74-bf63-4769-8e36-00f002d5b6fc",
   "metadata": {},
   "outputs": [],
   "source": [
    "import glob\n",
    "import os\n",
    "from functools import cache\n",
    "\n",
    "import pandas as pd\n",
    "from tqdm import tqdm"
   ]
  },
  {
   "cell_type": "code",
   "execution_count": null,
   "id": "ee368a84-39a1-478e-9f7b-36d8ef3d5102",
   "metadata": {},
   "outputs": [],
   "source": [
    "@cache\n",
    "def get_valid_ids(medium, source):\n",
    "    df = pd.read_csv(\n",
    "        f\"../../../data/media/sources/{source}.{medium}.csv\",\n",
    "        keep_default_na=False,\n",
    "        dtype=str,\n",
    "    )\n",
    "    return set(df.uid)"
   ]
  },
  {
   "cell_type": "code",
   "execution_count": null,
   "id": "7d60e860-eea9-40e4-bda7-a92b0754e743",
   "metadata": {},
   "outputs": [],
   "source": [
    "def anilist_to_mal(medium):\n",
    "    anilist_to_mal = {}\n",
    "    valid_mal_ids = get_valid_ids(medium, \"mal\")\n",
    "    valid_anilist_ids = get_valid_ids(medium, \"anilist\")\n",
    "    for f in glob.glob(f\"../../../data/anilist/media_facts/{medium}.*.csv\"):\n",
    "        df = pd.read_csv(f, keep_default_na=False, dtype=str)\n",
    "        for i in range(len(df)):\n",
    "            malid = df.iloc[i].malid\n",
    "            if malid.endswith(\".0\"):\n",
    "                malid = malid[: -len(\".0\")]\n",
    "            if malid != \"\":\n",
    "                malid = malid\n",
    "                anilistid = df.iloc[i].anilistid\n",
    "                if malid in valid_mal_ids and anilistid in valid_anilist_ids:\n",
    "                    anilist_to_mal[anilistid] = malid\n",
    "    return anilist_to_mal"
   ]
  },
  {
   "cell_type": "code",
   "execution_count": null,
   "id": "400a9100-7fca-4db5-8217-80e83ef032fd",
   "metadata": {},
   "outputs": [],
   "source": [
    "def kitsu_to_mal(medium):\n",
    "    kitsu_to_mal = {}\n",
    "    valid_mal_ids = get_valid_ids(medium, \"mal\")\n",
    "    valid_kitsu_ids = get_valid_ids(medium, \"kitsu\")\n",
    "    for f in tqdm(\n",
    "        glob.glob(f\"../../../data/kitsu/user_media_facts/user_{medium}_list.*.csv\")\n",
    "    ):\n",
    "        df = pd.read_csv(f, keep_default_na=False, dtype=str)\n",
    "        df = df[[\"kitsuid\", \"malid\"]].drop_duplicates().query(\"malid != ''\")\n",
    "        df = df.loc[\n",
    "            lambda x: x.malid.isin(valid_mal_ids) & x.kitsuid.isin(valid_kitsu_ids)\n",
    "        ]\n",
    "        kitsu_to_mal |= df.set_index(\"kitsuid\")[\"malid\"].to_dict()\n",
    "    return kitsu_to_mal"
   ]
  },
  {
   "cell_type": "code",
   "execution_count": null,
   "id": "f715b2da-aea2-4d21-85f7-982ab91160f3",
   "metadata": {},
   "outputs": [],
   "source": [
    "def get_malid_mapping(medium, source1, source2):\n",
    "    mapping = {}\n",
    "    if source2 == \"mal\":\n",
    "        if source1 == \"anilist\":\n",
    "            mapping = anilist_to_mal(medium)\n",
    "        elif source1 == \"kitsu\":\n",
    "            mapping = kitsu_to_mal(medium)\n",
    "    keys = list(mapping)\n",
    "    values = [mapping[k] for k in keys]\n",
    "    return pd.DataFrame.from_dict({source1: keys, source2: values})"
   ]
  },
  {
   "cell_type": "code",
   "execution_count": null,
   "id": "168e0c6a-c9e2-4b89-bc6b-2b4e3896e3dc",
   "metadata": {},
   "outputs": [],
   "source": [
    "outdir = \"../../../data/media/malid\"\n",
    "os.makedirs(outdir, exist_ok=True)\n",
    "os.chdir(outdir)\n",
    "sources = [\"mal\", \"anilist\", \"kitsu\", \"animeplanet\"]\n",
    "for medium in [\"manga\", \"anime\"]:\n",
    "    for i in range(len(sources)):\n",
    "        for j in range(i + 1, len(sources)):\n",
    "            df = get_malid_mapping(medium, sources[j], sources[i])\n",
    "            df.to_csv(f\"{medium}.{sources[j]}.{sources[i]}.csv\", index=False)"
   ]
  }
 ],
 "metadata": {
  "kernelspec": {
   "display_name": "Python 3 (ipykernel)",
   "language": "python",
   "name": "python3"
  },
  "language_info": {
   "codemirror_mode": {
    "name": "ipython",
    "version": 3
   },
   "file_extension": ".py",
   "mimetype": "text/x-python",
   "name": "python",
   "nbconvert_exporter": "python",
   "pygments_lexer": "ipython3",
   "version": "3.10.12"
  }
 },
 "nbformat": 4,
 "nbformat_minor": 5
}
