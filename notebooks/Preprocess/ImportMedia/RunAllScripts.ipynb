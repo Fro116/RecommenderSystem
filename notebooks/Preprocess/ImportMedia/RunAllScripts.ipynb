{
 "cells": [
  {
   "cell_type": "markdown",
   "id": "8bdac8f1-c6cb-4e63-8661-de9323573641",
   "metadata": {
    "editable": true,
    "slideshow": {
     "slide_type": ""
    },
    "tags": []
   },
   "source": [
    "# Import Datasets\n",
    "* Parses the data from different websites and converts them into a unified format"
   ]
  },
  {
   "cell_type": "code",
   "execution_count": null,
   "id": "7df9b9d0-f4e3-4db9-b67d-799c100e8ab9",
   "metadata": {},
   "outputs": [],
   "source": [
    "import glob\n",
    "import os\n",
    "import shutil\n",
    "import subprocess\n",
    "import time\n",
    "\n",
    "import papermill as pm"
   ]
  },
  {
   "cell_type": "code",
   "execution_count": null,
   "id": "0162aac0-a1a6-4a99-8378-49bdbeb4f158",
   "metadata": {},
   "outputs": [],
   "source": [
    "data_path = \"../../../data/papermill/import_datasets/import_media\"\n",
    "if not os.path.exists(data_path):\n",
    "    os.makedirs(data_path, exist_ok=True)"
   ]
  },
  {
   "cell_type": "code",
   "execution_count": null,
   "id": "b4b306f8-f3eb-4ab6-a83e-090952c05bf9",
   "metadata": {},
   "outputs": [],
   "source": [
    "def run_background_notebook(input, output, parameters):\n",
    "    cmdlist = [\n",
    "        \"papermill\",\n",
    "        input,\n",
    "        output,\n",
    "    ]\n",
    "    for k, v in parameters.items():\n",
    "        cmdlist += [\"-p\", k, str(v)]\n",
    "    return subprocess.Popen(\n",
    "        cmdlist, stdout=subprocess.DEVNULL, stderr=subprocess.DEVNULL\n",
    "    )"
   ]
  },
  {
   "cell_type": "code",
   "execution_count": null,
   "id": "58e8d146-da94-4334-8b78-80453cee9e31",
   "metadata": {},
   "outputs": [],
   "source": [
    "def run_notebook(input, output=None, parameters=None, background=False):\n",
    "    if output is None:\n",
    "        output = input\n",
    "    output = os.path.join(data_path, output)\n",
    "    parameters = parameters if parameters is not None else dict()\n",
    "    if background:\n",
    "        return run_background_notebook(input, output, parameters)\n",
    "    else:\n",
    "        return pm.execute_notebook(input, output, parameters=parameters)"
   ]
  },
  {
   "cell_type": "code",
   "execution_count": null,
   "id": "22535069-af5f-48d0-a947-9d24b6ab1da0",
   "metadata": {},
   "outputs": [],
   "source": [
    "for n in [\n",
    "    \"Standardize\",\n",
    "    \"MatchMetadata\",\n",
    "    \"MatchManual\",\n",
    "    \"MatchMalid\",\n",
    "    \"MatchManami\",\n",
    "    \"Match\",\n",
    "    \"Relations\",\n",
    "    \"Finalize\",\n",
    "]:\n",
    "    run_notebook(n + \".ipynb\")"
   ]
  }
 ],
 "metadata": {
  "kernelspec": {
   "display_name": "Python 3 (ipykernel)",
   "language": "python",
   "name": "python3"
  },
  "language_info": {
   "codemirror_mode": {
    "name": "ipython",
    "version": 3
   },
   "file_extension": ".py",
   "mimetype": "text/x-python",
   "name": "python",
   "nbconvert_exporter": "python",
   "pygments_lexer": "ipython3",
   "version": "3.12.3"
  }
 },
 "nbformat": 4,
 "nbformat_minor": 5
}
