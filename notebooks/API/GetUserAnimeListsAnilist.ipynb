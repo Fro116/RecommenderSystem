{
 "cells": [
  {
   "cell_type": "markdown",
   "id": "1915b44a-3a42-431f-bd6c-94edf9e5bc36",
   "metadata": {
    "tags": []
   },
   "source": [
    "# Getting Anilist anime-lists\n",
    "* See GetUserAnimeLists.ipynb for more info"
   ]
  },
  {
   "cell_type": "code",
   "execution_count": null,
   "id": "bdb92dbd-7e88-4ef7-91ba-6d0babba548c",
   "metadata": {
    "tags": []
   },
   "outputs": [],
   "source": [
    "name = \"anilist\""
   ]
  },
  {
   "cell_type": "code",
   "execution_count": null,
   "id": "49ea740f-2e3f-4a1f-80f0-f9718d4b4bcf",
   "metadata": {},
   "outputs": [],
   "source": [
    "%run Anilist.ipynb"
   ]
  },
  {
   "cell_type": "markdown",
   "id": "90f2c1b8-99ed-4bb3-8c15-338d0709db5a",
   "metadata": {},
   "source": [
    "## Get usernames"
   ]
  },
  {
   "cell_type": "code",
   "execution_count": null,
   "id": "622d5273-5795-41ce-a967-c91f63c0631c",
   "metadata": {},
   "outputs": [],
   "source": [
    "def read_usernames():\n",
    "    users = list(range(1, 1000000)) + list(range(5100000, 6100000))\n",
    "    np.random.shuffle(users)\n",
    "    return users"
   ]
  },
  {
   "cell_type": "code",
   "execution_count": null,
   "id": "ccff50e8-6b5b-422a-a0b7-0475351f1045",
   "metadata": {},
   "outputs": [],
   "source": [
    "%run GetUserAnimeLists.ipynb"
   ]
  }
 ],
 "metadata": {
  "kernelspec": {
   "display_name": "Python 3 (ipykernel)",
   "language": "python",
   "name": "python3"
  },
  "language_info": {
   "codemirror_mode": {
    "name": "ipython",
    "version": 3
   },
   "file_extension": ".py",
   "mimetype": "text/x-python",
   "name": "python",
   "nbconvert_exporter": "python",
   "pygments_lexer": "ipython3",
   "version": "3.10.4"
  }
 },
 "nbformat": 4,
 "nbformat_minor": 5
}
