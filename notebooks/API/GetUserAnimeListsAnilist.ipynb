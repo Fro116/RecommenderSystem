{
 "cells": [
  {
   "cell_type": "markdown",
   "id": "1915b44a-3a42-431f-bd6c-94edf9e5bc36",
   "metadata": {
    "tags": []
   },
   "source": [
    "# Getting Anilist anime-lists\n",
    "* See GetUserAnimeLists.ipynb for more info"
   ]
  },
  {
   "cell_type": "code",
   "execution_count": null,
   "id": "ab9e087d-edee-4dbb-b2f2-58a544b07c92",
   "metadata": {},
   "outputs": [],
   "source": [
    "from ratelimit import limits, sleep_and_retry"
   ]
  },
  {
   "cell_type": "code",
   "execution_count": null,
   "id": "bdb92dbd-7e88-4ef7-91ba-6d0babba548c",
   "metadata": {
    "tags": []
   },
   "outputs": [],
   "source": [
    "name = \"anilist\""
   ]
  },
  {
   "cell_type": "markdown",
   "id": "4dd55c16-a8c1-4b3b-87c1-2b8aef672917",
   "metadata": {
    "tags": []
   },
   "source": [
    "## Parse AniList API"
   ]
  },
  {
   "cell_type": "code",
   "execution_count": null,
   "id": "d65acdee-4e10-4fda-8699-f9dc3e9df386",
   "metadata": {},
   "outputs": [],
   "source": [
    "@sleep_and_retry\n",
    "@limits(calls=1, period=0.75)\n",
    "def call_api(url, json, retry_timeout=1):\n",
    "    try:\n",
    "        response = requests.post(url, json=json)\n",
    "        if response.status_code in [500, 502, 504] and retry_timeout < 3600:\n",
    "            # This can occur if Anilist servers go down or if the page doesnt exist\n",
    "            raise Exception(f\"{response.status_code}\")\n",
    "    except Exception as e:\n",
    "        logger.warning(\n",
    "            f\"Received error {str(e)} while accessing {url} with arguments {json['variables']}.\"\n",
    "            f\" Retrying in {retry_timeout} seconds\"\n",
    "        )\n",
    "        time.sleep(retry_timeout)\n",
    "        retry_timeout = min(retry_timeout * 2, 3600)\n",
    "        return call_api(url, json, retry_timeout)\n",
    "    return response\n",
    "\n",
    "\n",
    "def process_json(json):\n",
    "    records = [\n",
    "        (\n",
    "            entry[\"media\"][\"idMal\"],\n",
    "            entry[\"score\"],\n",
    "            entry[\"status\"],\n",
    "            entry[\"progress\"],\n",
    "            entry[\"updatedAt\"],\n",
    "            entry[\"createdAt\"],\n",
    "        )\n",
    "        for x in json[\"data\"][\"MediaListCollection\"][\"lists\"]\n",
    "        for entry in x[\"entries\"]\n",
    "    ]\n",
    "    df = pd.DataFrame.from_records(\n",
    "        records,\n",
    "        columns=[\n",
    "            \"uid\",\n",
    "            \"score\",\n",
    "            \"status\",\n",
    "            \"num_episodes_watched\",\n",
    "            \"updated_at\",\n",
    "            \"created_at\",\n",
    "        ],\n",
    "    )\n",
    "    df[\"is_rewatching\"] = df[\"status\"] == \"REPEATING\"\n",
    "    df[\"status\"] = df[\"status\"].replace(\n",
    "        {\n",
    "            \"CURRENT\": \"watching\",\n",
    "            \"COMPLETED\": \"completed\",\n",
    "            \"PAUSED\": \"on_hold\",\n",
    "            \"DROPPED\": \"dropped\",\n",
    "            \"PLANNING\": \"plan_to_watch\",\n",
    "            \"REPEATING\": \"completed\"\n",
    "        }\n",
    "    )\n",
    "    while any(df[\"score\"] > 10):\n",
    "        df[\"score\"] /= 10\n",
    "    return df\n",
    "\n",
    "\n",
    "def get_user_anime_list(userid):\n",
    "    has_next_chunk = True\n",
    "    chunk = 0\n",
    "    anime_lists = []\n",
    "    while has_next_chunk:\n",
    "        query = \"\"\"\n",
    "        query ($userID: Int, $MEDIA: MediaType, $chunk: Int) {\n",
    "            MediaListCollection (userId: $userID, type: $MEDIA, chunk: $chunk) {\n",
    "                hasNextChunk\n",
    "                lists {\n",
    "                    entries\n",
    "                    {\n",
    "                        status\n",
    "                        score\n",
    "                        progress\n",
    "                        updatedAt\n",
    "                        createdAt\n",
    "                        media\n",
    "                        {\n",
    "                            idMal\n",
    "                        }\n",
    "                    }\n",
    "                }\n",
    "            }\n",
    "        }\n",
    "        \"\"\"\n",
    "        variables = {\"userID\": str(userid), \"MEDIA\": \"ANIME\", \"chunk\": chunk}\n",
    "        url = \"https://graphql.anilist.co\"\n",
    "        response = call_api(url, {\"query\": query, \"variables\": variables})\n",
    "        if response.status_code in [403, 404]:\n",
    "            # 403: This can occur if the user privated their list\n",
    "            # 404: This can occur if the user deleted their account\n",
    "            return pd.DataFrame(), False\n",
    "        if not response.ok:\n",
    "            logger.warning(f\"Error {response} received when handling {url}\")\n",
    "            return pd.DataFrame(), False\n",
    "        has_next_chunk = response.json()['data']['MediaListCollection']['hasNextChunk']\n",
    "        anime_lists.append(process_json(response.json()))\n",
    "        chunk += 1\n",
    "    anime_list = pd.concat(anime_lists)\n",
    "    # deduplicate shows that appear on multiple lists\n",
    "    anime_list = anime_list.sort_values(by=['updated_at', 'created_at']).groupby(\"uid\").last().reset_index()\n",
    "    anime_list[\"username\"] = f\"AniList@{userid}\"\n",
    "    return anime_list, True"
   ]
  },
  {
   "cell_type": "markdown",
   "id": "90f2c1b8-99ed-4bb3-8c15-338d0709db5a",
   "metadata": {},
   "source": [
    "## Get usernames"
   ]
  },
  {
   "cell_type": "code",
   "execution_count": null,
   "id": "622d5273-5795-41ce-a967-c91f63c0631c",
   "metadata": {},
   "outputs": [],
   "source": [
    "def read_usernames():\n",
    "    users = list(range(1, 1000000)) + list(range(5100000, 6000000))\n",
    "    np.random.shuffle(users)\n",
    "    return users"
   ]
  },
  {
   "cell_type": "code",
   "execution_count": null,
   "id": "ccff50e8-6b5b-422a-a0b7-0475351f1045",
   "metadata": {},
   "outputs": [],
   "source": [
    "%run GetUserAnimeLists.ipynb"
   ]
  }
 ],
 "metadata": {
  "kernelspec": {
   "display_name": "Python 3 (ipykernel)",
   "language": "python",
   "name": "python3"
  },
  "language_info": {
   "codemirror_mode": {
    "name": "ipython",
    "version": 3
   },
   "file_extension": ".py",
   "mimetype": "text/x-python",
   "name": "python",
   "nbconvert_exporter": "python",
   "pygments_lexer": "ipython3",
   "version": "3.8.10"
  }
 },
 "nbformat": 4,
 "nbformat_minor": 5
}
