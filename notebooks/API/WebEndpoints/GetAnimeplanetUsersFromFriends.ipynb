{
 "cells": [
  {
   "cell_type": "markdown",
   "metadata": {},
   "source": [
    "# Generating a list of Animeplanet usernames\n",
    "* Looks at followers and following"
   ]
  },
  {
   "cell_type": "code",
   "execution_count": null,
   "metadata": {},
   "outputs": [],
   "source": [
    "import os\n",
    "import random\n",
    "import re\n",
    "import time\n",
    "\n",
    "from filelock import FileLock"
   ]
  },
  {
   "cell_type": "code",
   "execution_count": null,
   "metadata": {
    "editable": true,
    "slideshow": {
     "slide_type": ""
    },
    "tags": [
     "parameters"
    ]
   },
   "outputs": [],
   "source": [
    "PROXY_NUMBER = 0\n",
    "NUM_PROXIES = 1"
   ]
  },
  {
   "cell_type": "code",
   "execution_count": null,
   "metadata": {},
   "outputs": [],
   "source": [
    "name = \"get_friend_username\"\n",
    "source = \"animeplanet\""
   ]
  },
  {
   "cell_type": "code",
   "execution_count": null,
   "metadata": {},
   "outputs": [],
   "source": [
    "exec(open(\"web_endpoint_base.py\").read())"
   ]
  },
  {
   "cell_type": "code",
   "execution_count": null,
   "metadata": {},
   "outputs": [],
   "source": [
    "LOCK_FILE = f\"../../animeplanet_friends.lock\"\n",
    "LOCK = FileLock(LOCK_FILE, timeout=-1)"
   ]
  },
  {
   "cell_type": "code",
   "execution_count": null,
   "metadata": {},
   "outputs": [],
   "source": [
    "def get_users_on_url(url):\n",
    "    response = call_api(url)\n",
    "    if response.status_code in [404]:\n",
    "        logging.warning(f\"Error {response} received when handling {url}\")\n",
    "        return set()\n",
    "    if not response.ok:\n",
    "        logging.warning(f\"Error {response} received when handling {url}\")\n",
    "        return set()\n",
    "    urls = re.findall(\"\"\"/users/[^\"/#%?.'><]+\"\"\", response.text)\n",
    "    users = {x[len(\"/users/\") :] for x in urls}\n",
    "    return users"
   ]
  },
  {
   "cell_type": "code",
   "execution_count": null,
   "metadata": {},
   "outputs": [],
   "source": [
    "def get_users_on_base_url(base_url):\n",
    "    users = set()\n",
    "    page = 1\n",
    "    while True:\n",
    "        url = base_url + f\"?page={page}\"\n",
    "        new_users = get_users_on_url(url)\n",
    "        if len(users) == len(users | new_users):\n",
    "            break\n",
    "        users |= new_users\n",
    "        page += 1\n",
    "    return users"
   ]
  },
  {
   "cell_type": "code",
   "execution_count": null,
   "metadata": {},
   "outputs": [],
   "source": [
    "def get_users(user):\n",
    "    users = [\n",
    "        get_users_on_base_url(f\"https://www.anime-planet.com/users/{user}/{x}\")\n",
    "        for x in [\"followers\", \"following\"]\n",
    "    ]\n",
    "    return set().union(*users)"
   ]
  },
  {
   "cell_type": "code",
   "execution_count": null,
   "metadata": {},
   "outputs": [],
   "source": [
    "def reset_state():\n",
    "    usernames = set()\n",
    "    if os.path.exists(\"friend_usernames.txt\"):\n",
    "        with open(\"friend_usernames.txt\") as f:\n",
    "            usernames = {x.strip() for x in f.readlines() if x.strip()}\n",
    "    recent = set()\n",
    "    if os.path.exists(\"recent_usernames.txt\"):\n",
    "        with open(\"recent_usernames.txt\") as f:\n",
    "            recent = {x.strip() for x in f.readlines() if x.strip()}\n",
    "    visited = set()\n",
    "    if os.path.exists(\"friend_visited.txt\"):\n",
    "        with open(\"friend_visited.txt\") as f:\n",
    "            visited = {x.strip() for x in f.readlines() if x.strip()}\n",
    "    logging.info(\n",
    "        f\"Starting with {len(usernames | recent)} stored usernames and {len(visited)} visited usernames\"\n",
    "    )\n",
    "    new_users = list((usernames | recent) - visited)\n",
    "    old_users = list(visited)\n",
    "    random.shuffle(new_users)\n",
    "    random.shuffle(old_users)\n",
    "    order = (new_users + old_users)[:1000]\n",
    "    if not order:\n",
    "        timeout = 600\n",
    "        logging.info(f\"No users found. Retrying in {timeout} seconds\")\n",
    "        time.sleep(timeout)\n",
    "        return reset_state()\n",
    "    return usernames, recent, visited, order"
   ]
  },
  {
   "cell_type": "code",
   "execution_count": null,
   "metadata": {
    "tags": []
   },
   "outputs": [],
   "source": [
    "while True:\n",
    "    usernames, recent, visited, order = reset_state()\n",
    "    for user in order:\n",
    "        users = get_users(user)\n",
    "        visited.add(user)\n",
    "        usernames |= users\n",
    "        if should_save(\"users\", max_iters=500) or user == order[-1]:\n",
    "            with LOCK:\n",
    "                atomic_to_csv(sorted(list(usernames)), \"friend_usernames.txt\")\n",
    "                atomic_to_csv(sorted(list(visited)), \"friend_visited.txt\")\n",
    "                logging.info(\n",
    "                    f\"Successfully written {len(usernames)} users and visited {len(visited)} usernames\"\n",
    "                )\n",
    "    time.sleep(1)"
   ]
  }
 ],
 "metadata": {
  "kernelspec": {
   "display_name": "Python 3 (ipykernel)",
   "language": "python",
   "name": "python3"
  },
  "language_info": {
   "codemirror_mode": {
    "name": "ipython",
    "version": 3
   },
   "file_extension": ".py",
   "mimetype": "text/x-python",
   "name": "python",
   "nbconvert_exporter": "python",
   "pygments_lexer": "ipython3",
   "version": "3.10.12"
  }
 },
 "nbformat": 4,
 "nbformat_minor": 4
}
