{
 "cells": [
  {
   "cell_type": "markdown",
   "metadata": {},
   "source": [
    "# Generating a list of Animeplanet usernames\n",
    "* Looks at followers and following"
   ]
  },
  {
   "cell_type": "code",
   "execution_count": null,
   "metadata": {},
   "outputs": [],
   "source": [
    "import os\n",
    "import random\n",
    "import re\n",
    "import time"
   ]
  },
  {
   "cell_type": "code",
   "execution_count": null,
   "metadata": {
    "editable": true,
    "slideshow": {
     "slide_type": ""
    },
    "tags": [
     "parameters"
    ]
   },
   "outputs": [],
   "source": [
    "PROXY_NUMBER = 0"
   ]
  },
  {
   "cell_type": "code",
   "execution_count": null,
   "metadata": {},
   "outputs": [],
   "source": [
    "name = \"get_friend_username\"\n",
    "source = \"animeplanet\""
   ]
  },
  {
   "cell_type": "code",
   "execution_count": null,
   "metadata": {},
   "outputs": [],
   "source": [
    "%run WebEndpointBase.ipynb"
   ]
  },
  {
   "cell_type": "code",
   "execution_count": null,
   "metadata": {},
   "outputs": [],
   "source": [
    "# if we rerunning the notebook, then resume execution where we last left off\n",
    "usernames = set()\n",
    "if os.path.exists(\"friend_usernames.txt\"):\n",
    "    with open(\"friend_usernames.txt\") as f:\n",
    "        usernames = {x.strip() for x in f.readlines() if x.strip()}\n",
    "\n",
    "recent = set()\n",
    "if os.path.exists(\"character_usernames.txt\"):\n",
    "    with open(\"character_usernames.txt\") as f:\n",
    "        recent = {x.strip() for x in f.readlines() if x.strip()}\n",
    "\n",
    "visited = set()\n",
    "if os.path.exists(\"friend_visited.txt\"):\n",
    "    with open(\"friend_visited.txt\") as f:\n",
    "        visited = {x.strip() for x in f.readlines() if x.strip()}\n",
    "\n",
    "logger.info(\n",
    "    f\"Starting with {len(usernames | recent)} stored usernames and {len(visited)} visited usernames\"\n",
    ")"
   ]
  },
  {
   "cell_type": "code",
   "execution_count": null,
   "metadata": {},
   "outputs": [],
   "source": [
    "def order_users(usernames, recent, visited):\n",
    "    order = list((usernames | recent) - visited)\n",
    "    random.shuffle(order)\n",
    "    return order"
   ]
  },
  {
   "cell_type": "code",
   "execution_count": null,
   "metadata": {},
   "outputs": [],
   "source": [
    "def get_users_on_url(url):\n",
    "    response = call_api(url)\n",
    "    if response.status_code in [404]:\n",
    "        logger.warning(f\"Error {response} received when handling {url}\")\n",
    "        return set()\n",
    "    if not response.ok:\n",
    "        logger.warning(f\"Error {response} received when handling {url}\")\n",
    "        return set()\n",
    "    urls = re.findall(\"\"\"/users/[^\"/#%?.'><]+\"\"\", response.text)\n",
    "    users = {x[len(\"/users/\") :] for x in urls}\n",
    "    return users"
   ]
  },
  {
   "cell_type": "code",
   "execution_count": null,
   "metadata": {},
   "outputs": [],
   "source": [
    "def get_users_on_base_url(base_url):\n",
    "    users = set()\n",
    "    page = 1\n",
    "    while True:\n",
    "        url = base_url + f\"?page={page}\"\n",
    "        new_users = get_users_on_url(url)\n",
    "        if len(users) == len(users | new_users):\n",
    "            break\n",
    "        users |= new_users\n",
    "        page += 1\n",
    "    return users"
   ]
  },
  {
   "cell_type": "code",
   "execution_count": null,
   "metadata": {},
   "outputs": [],
   "source": [
    "def get_users(user):\n",
    "    users = [\n",
    "        get_users_on_base_url(f\"https://www.anime-planet.com/users/{user}/{x}\")\n",
    "        for x in [\"followers\", \"following\"]\n",
    "    ]\n",
    "    return set().union(*users)"
   ]
  },
  {
   "cell_type": "code",
   "execution_count": null,
   "metadata": {
    "tags": []
   },
   "outputs": [],
   "source": [
    "while True:\n",
    "    order = order_users(usernames, recent, visited)\n",
    "    for user in order:\n",
    "        users = get_users(user)\n",
    "        visited.add(user)\n",
    "        usernames |= users\n",
    "        if should_save(\"users\", max_iters=500):\n",
    "            atomic_to_csv(sorted(list(usernames)), \"friend_usernames.txt\")\n",
    "            atomic_to_csv(sorted(list(visited)), \"friend_visited.txt\")\n",
    "            logger.info(\n",
    "                f\"Successfully written {len(usernames)} users and visited {len(visited)} usernames\"\n",
    "            )\n",
    "    time.sleep(1)"
   ]
  }
 ],
 "metadata": {
  "kernelspec": {
   "display_name": "Python 3 (ipykernel)",
   "language": "python",
   "name": "python3"
  },
  "language_info": {
   "codemirror_mode": {
    "name": "ipython",
    "version": 3
   },
   "file_extension": ".py",
   "mimetype": "text/x-python",
   "name": "python",
   "nbconvert_exporter": "python",
   "pygments_lexer": "ipython3",
   "version": "3.10.12"
  }
 },
 "nbformat": 4,
 "nbformat_minor": 4
}
