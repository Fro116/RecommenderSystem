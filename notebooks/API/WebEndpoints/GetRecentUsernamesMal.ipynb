{
 "cells": [
  {
   "cell_type": "markdown",
   "metadata": {},
   "source": [
    "# Generating a list of MAL usernames\n",
    "* The page https://myanimelist.net/users.php contains a list of recently active users\n",
    "* We continually refresh that page and write down any new users\n",
    "* You can terminate or restart the notebook at any point without losing progress. All users found so far will be stored at `data/mal/user_facts/recent_usernames.txt`.\n",
    "* This notebook will run indefinitely. You must manually terminate once an acceptable number of users have been found"
   ]
  },
  {
   "cell_type": "code",
   "execution_count": 1,
   "metadata": {},
   "outputs": [],
   "source": [
    "import re"
   ]
  },
  {
   "cell_type": "code",
   "execution_count": 2,
   "metadata": {},
   "outputs": [],
   "source": [
    "name = \"get_random_username\""
   ]
  },
  {
   "cell_type": "code",
   "execution_count": 3,
   "metadata": {},
   "outputs": [],
   "source": [
    "# share resources with the other web endpoint\n",
    "PARTITION = 1\n",
    "NUM_PARTITIONS = 2"
   ]
  },
  {
   "cell_type": "code",
   "execution_count": 4,
   "metadata": {},
   "outputs": [],
   "source": [
    "%run WebEndpointBase.ipynb"
   ]
  },
  {
   "cell_type": "code",
   "execution_count": 5,
   "metadata": {},
   "outputs": [
    {
     "name": "stderr",
     "output_type": "stream",
     "text": [
      "get_random_username:INFO:2023-03-12 04:22:34: Starting with 3458653 stored usernames\n"
     ]
    }
   ],
   "source": [
    "# if we rerunning the notebook, then resume execution where we last left off\n",
    "recent_usernames = set()\n",
    "if os.path.exists(\"recent_usernames.txt\"):\n",
    "    with open(\"recent_usernames.txt\") as f:\n",
    "        recent_usernames = {x.strip() for x in f.readlines() if x.strip()}\n",
    "\n",
    "\n",
    "logger.info(f\"Starting with {len(recent_usernames)} stored usernames\")"
   ]
  },
  {
   "cell_type": "code",
   "execution_count": 6,
   "metadata": {},
   "outputs": [],
   "source": [
    "# parse the recently online users page on https://myanimelist.net/users.php\n",
    "def get_users():\n",
    "    url = \"https://myanimelist.net/users.php\"\n",
    "    response = call_api(url)\n",
    "    if response.status_code in [404]:\n",
    "        logger.warning(f\"Error {response} received when handling {url}\")        \n",
    "        return set()\n",
    "    if not response.ok:\n",
    "        logger.warning(f\"Error {response} received when handling {url}\")\n",
    "        return set()\n",
    "    urls = re.findall('''/profile/[^\"/#%]+\"''', response.text)\n",
    "    users = {x[len(\"/profile/\") : -len('\"')] for x in urls}\n",
    "    return users"
   ]
  },
  {
   "cell_type": "code",
   "execution_count": null,
   "metadata": {
    "tags": []
   },
   "outputs": [
    {
     "name": "stderr",
     "output_type": "stream",
     "text": [
      "get_random_username:INFO:2023-03-12 04:22:35: Writing data for users. Will next write data after 2 iterations\n",
      "get_random_username:INFO:2023-03-12 04:22:38: Successfully written 3458653 users \n",
      "get_random_username:INFO:2023-03-12 04:22:41: Writing data for users. Will next write data after 4 iterations\n",
      "get_random_username:INFO:2023-03-12 04:22:43: Successfully written 3458653 users \n",
      "get_random_username:INFO:2023-03-12 04:22:50: Writing data for users. Will next write data after 8 iterations\n",
      "get_random_username:INFO:2023-03-12 04:22:53: Successfully written 3458657 users \n",
      "get_random_username:INFO:2023-03-12 04:23:08: Writing data for users. Will next write data after 16 iterations\n",
      "get_random_username:INFO:2023-03-12 04:23:10: Successfully written 3458665 users \n",
      "get_random_username:INFO:2023-03-12 04:23:41: Writing data for users. Will next write data after 32 iterations\n",
      "get_random_username:INFO:2023-03-12 04:23:43: Successfully written 3458669 users \n",
      "get_random_username:INFO:2023-03-12 04:24:46: Writing data for users. Will next write data after 64 iterations\n",
      "get_random_username:INFO:2023-03-12 04:24:49: Successfully written 3458686 users \n",
      "get_random_username:INFO:2023-03-12 04:26:56: Writing data for users. Will next write data after 128 iterations\n",
      "get_random_username:INFO:2023-03-12 04:26:58: Successfully written 3458709 users \n",
      "get_random_username:INFO:2023-03-12 04:31:13: Writing data for users. Will next write data after 256 iterations\n",
      "get_random_username:INFO:2023-03-12 04:31:16: Successfully written 3458747 users \n",
      "get_random_username:INFO:2023-03-12 04:39:47: Writing data for users. Will next write data after 512 iterations\n",
      "get_random_username:INFO:2023-03-12 04:39:49: Successfully written 3458849 users \n"
     ]
    }
   ],
   "source": [
    "while True:\n",
    "    users = get_users()\n",
    "    recent_usernames |= users\n",
    "    if should_save(\"users\"):\n",
    "        atomic_to_csv(sorted(list(recent_usernames)), \"recent_usernames.txt\")\n",
    "        logger.info(f\"Successfully written {len(recent_usernames)} users \")"
   ]
  }
 ],
 "metadata": {
  "kernelspec": {
   "display_name": "Python 3 (ipykernel)",
   "language": "python",
   "name": "python3"
  },
  "language_info": {
   "codemirror_mode": {
    "name": "ipython",
    "version": 3
   },
   "file_extension": ".py",
   "mimetype": "text/x-python",
   "name": "python",
   "nbconvert_exporter": "python",
   "pygments_lexer": "ipython3",
   "version": "3.10.6"
  }
 },
 "nbformat": 4,
 "nbformat_minor": 4
}
