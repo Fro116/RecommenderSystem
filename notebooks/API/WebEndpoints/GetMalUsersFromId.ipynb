{
 "cells": [
  {
   "cell_type": "markdown",
   "metadata": {},
   "source": [
    "# Get Mal Users From ID\n",
    "* We look up a username by querying their user id\n",
    "* You can terminate or restart the notebook at any point without losing progress. All users found so far will be stored at `data/mal/user_facts`.\n",
    "* This notebook will run indefinitely. You must manually terminate once an acceptable number of users have been found"
   ]
  },
  {
   "cell_type": "code",
   "execution_count": null,
   "metadata": {
    "editable": true,
    "slideshow": {
     "slide_type": ""
    },
    "tags": []
   },
   "outputs": [],
   "source": [
    "import os\n",
    "import random\n",
    "import re\n",
    "import traceback\n",
    "\n",
    "from filelock import FileLock\n",
    "from tqdm import tqdm"
   ]
  },
  {
   "cell_type": "code",
   "execution_count": null,
   "metadata": {
    "editable": true,
    "slideshow": {
     "slide_type": ""
    },
    "tags": [
     "parameters"
    ]
   },
   "outputs": [],
   "source": [
    "PARTITION = 0\n",
    "NUM_PARTITIONS = 1\n",
    "PROXY_NUMBER = 0\n",
    "NUM_PROXIES = 1"
   ]
  },
  {
   "cell_type": "code",
   "execution_count": null,
   "metadata": {
    "editable": true,
    "slideshow": {
     "slide_type": ""
    },
    "tags": []
   },
   "outputs": [],
   "source": [
    "name = f\"get_mal_users.{PARTITION}\"\n",
    "source = \"mal\"\n",
    "outfile = f\"get_mal_users.{PARTITION}.csv\""
   ]
  },
  {
   "cell_type": "code",
   "execution_count": null,
   "metadata": {},
   "outputs": [],
   "source": [
    "exec(open(\"web_endpoint_base.py\").read())"
   ]
  },
  {
   "cell_type": "code",
   "execution_count": null,
   "metadata": {},
   "outputs": [],
   "source": [
    "LOCK_FILE = f\"../../mal_id.lock\"\n",
    "LOCK = FileLock(LOCK_FILE, timeout=-1)"
   ]
  },
  {
   "cell_type": "code",
   "execution_count": null,
   "metadata": {
    "tags": []
   },
   "outputs": [],
   "source": [
    "def get_max_id():\n",
    "    fn = \"maxid.txt\"\n",
    "    if not os.path.exists(fn):\n",
    "        maxid = 17337283\n",
    "    else:\n",
    "        with open(fn) as f:\n",
    "            lines = f.readlines()\n",
    "            assert len(lines) == 1\n",
    "            maxid = int(lines[0].strip())\n",
    "    # see if any new users have joined\n",
    "    testid = maxid + random.randint(1, 10000)\n",
    "    if get_username(testid):\n",
    "        maxid = testid\n",
    "        partfn = f\"{fn}.{PARTITION}.txt\"\n",
    "        with open(partfn, \"w\") as f:\n",
    "            f.write(f\"{maxid}\\n\")\n",
    "        os.rename(partfn, fn)\n",
    "    return maxid"
   ]
  },
  {
   "cell_type": "code",
   "execution_count": null,
   "metadata": {},
   "outputs": [],
   "source": [
    "@LOCK\n",
    "def save(records):\n",
    "    logging.info(f\"Saving {len(records)} extra userids\")\n",
    "    new_userids = {int(x[0]) for x in records}\n",
    "    header_fields = [\"userid\", \"username\", \"failed_attempts\"]\n",
    "    userid_col = header_fields.index(\"userid\")\n",
    "    username_col = header_fields.index(\"username\")\n",
    "    attempt_col = header_fields.index(\"failed_attempts\")\n",
    "\n",
    "    userid_to_record = {}\n",
    "    with open(outfile + \"~\", \"w\") as f:\n",
    "        f.write(\",\".join(header_fields) + \"\\n\")\n",
    "        if os.path.exists(outfile):\n",
    "            with open(outfile) as g:\n",
    "                header = False\n",
    "                for line in g:\n",
    "                    fields = line.strip().split(\",\")\n",
    "                    if not header:\n",
    "                        header = True\n",
    "                        continue\n",
    "                    userid = int(fields[userid_col])\n",
    "                    if not is_valid_userid(userid):\n",
    "                        continue\n",
    "                    if userid in new_userids:\n",
    "                        userid_to_record[userid] = fields\n",
    "                    else:\n",
    "                        f.write(line)\n",
    "        for record in records:\n",
    "            userid = int(record[userid_col])\n",
    "            if record[username_col] != \"\":\n",
    "                f.write(f\"{record[0]},{record[1]},{0}\\n\")\n",
    "            elif userid in userid_to_record:\n",
    "                stored_record = userid_to_record[userid]\n",
    "                attempts = int(stored_record[attempt_col]) + 1\n",
    "                if attempts == 1:\n",
    "                    # to guard against transient failures, we use the last good state\n",
    "                    f.write(f\"{stored_record[0]},{stored_record[1]},{attempts}\\n\")\n",
    "                else:\n",
    "                    # if we fail twice in a row, then assume the userid is empty\n",
    "                    f.write(f\"{record[0]},{record[1]},{attempts}\\n\")\n",
    "            else:\n",
    "                f.write(f\"{record[0]},{record[1]},{1}\\n\")\n",
    "    os.replace(outfile + \"~\", outfile)"
   ]
  },
  {
   "cell_type": "code",
   "execution_count": null,
   "metadata": {},
   "outputs": [],
   "source": [
    "def is_valid_userid(x):\n",
    "    return x % NUM_PARTITIONS == PARTITION\n",
    "\n",
    "\n",
    "def get_remaining_userids(N):\n",
    "    searched_userids = []\n",
    "    if os.path.exists(outfile):\n",
    "        with open(outfile) as f:\n",
    "            header = False\n",
    "            for line in tqdm(f):\n",
    "                fields = line.strip().split(\",\")\n",
    "                if not header:\n",
    "                    header = True\n",
    "                    userid_col = fields.index(\"userid\")\n",
    "                    username_col = fields.index(\"username\")\n",
    "                    continue\n",
    "                userid = int(fields[userid_col])\n",
    "                if is_valid_userid(userid):\n",
    "                    searched_userids.append(userid)\n",
    "\n",
    "    searched_userids_set = set(searched_userids)\n",
    "    remaining_userids = [\n",
    "        x\n",
    "        for x in range(1, get_max_id() + 1)\n",
    "        if is_valid_userid(x) and x not in searched_userids_set\n",
    "    ]\n",
    "    random.shuffle(remaining_userids)\n",
    "    logging.info(\n",
    "        f\"{len(searched_userids)} searched userids, \"\n",
    "        f\"and {len(remaining_userids)} remaining userids\"\n",
    "    )\n",
    "\n",
    "    # we revisit searched_userids because users can change names over time\n",
    "    to_search = remaining_userids[:N] + searched_userids[:N]\n",
    "    return to_search[:N]"
   ]
  },
  {
   "cell_type": "code",
   "execution_count": null,
   "metadata": {},
   "outputs": [],
   "source": [
    "# used for rebalancing when NUM_PARTITIONS changes\n",
    "def repartition(fn, N, M):\n",
    "    with open(f\"{fn}.unified.csv\", \"w\") as f:\n",
    "        for t in range(N):\n",
    "            header = False\n",
    "            with open(fn + f\".{t}.csv\") as infile:\n",
    "                for line in tqdm(infile):\n",
    "                    if not header:\n",
    "                        header = True\n",
    "                        if t == 0:\n",
    "                            f.write(line)\n",
    "                        continue\n",
    "                    f.write(line)\n",
    "            os.remove(fn + f\".{t}.csv\")\n",
    "\n",
    "    with open(f\"{fn}.unified.csv\") as infile:\n",
    "        files = [open(fn + f\".{t}.csv\", \"w\") for t in range(M)]\n",
    "        header = False\n",
    "        for line in tqdm(infile):\n",
    "            if not header:\n",
    "                header = True\n",
    "                usercol = line.strip().split(\",\").index(\"userid\")\n",
    "                for f in files:\n",
    "                    f.write(line)\n",
    "                continue\n",
    "            userid = int(line.strip().split(\",\")[usercol])\n",
    "            files[userid % M].write(line)\n",
    "        for f in files:\n",
    "            f.close()\n",
    "    os.remove(f\"{fn}.unified.csv\")\n",
    "\n",
    "\n",
    "def repartition_all(N, M):\n",
    "    repartition(f\"../../../data/{source}/user_facts/get_mal_users\", N, M)"
   ]
  },
  {
   "cell_type": "code",
   "execution_count": null,
   "metadata": {
    "editable": true,
    "slideshow": {
     "slide_type": ""
    },
    "tags": []
   },
   "outputs": [],
   "source": [
    "try:\n",
    "    records = []\n",
    "    for userid in get_remaining_userids(20000):\n",
    "        username = get_username(userid)\n",
    "        if \",\" in username:\n",
    "            username = \"\" # old mal accounts may have commas in them\n",
    "        records.append((userid, username))\n",
    "        if should_save(\"records\", 2000):\n",
    "            save(records)\n",
    "            records = []\n",
    "    save(records)\n",
    "except Exception as e:\n",
    "    logging.info(traceback.format_exc())\n",
    "    logging.info(str(e))\n",
    "    while True:\n",
    "        time.sleep(3600)"
   ]
  }
 ],
 "metadata": {
  "kernelspec": {
   "display_name": "Python 3 (ipykernel)",
   "language": "python",
   "name": "python3"
  },
  "language_info": {
   "codemirror_mode": {
    "name": "ipython",
    "version": 3
   },
   "file_extension": ".py",
   "mimetype": "text/x-python",
   "name": "python",
   "nbconvert_exporter": "python",
   "pygments_lexer": "ipython3",
   "version": "3.10.12"
  }
 },
 "nbformat": 4,
 "nbformat_minor": 4
}
