{
 "cells": [
  {
   "cell_type": "markdown",
   "metadata": {},
   "source": [
    "# Generating a list of MAL usernames\n",
    "* We look up a username by querying their user id\n",
    "* You can terminate or restart the notebook at any point without losing progress. All users found so far will be stored at `data/mal/user_facts`.\n",
    "* This notebook will run indefinitely. You must manually terminate once an acceptable number of users have been found"
   ]
  },
  {
   "cell_type": "code",
   "execution_count": null,
   "metadata": {
    "editable": true,
    "slideshow": {
     "slide_type": ""
    },
    "tags": []
   },
   "outputs": [],
   "source": [
    "import os\n",
    "import random\n",
    "import re\n",
    "\n",
    "from tqdm import tqdm"
   ]
  },
  {
   "cell_type": "code",
   "execution_count": null,
   "metadata": {
    "editable": true,
    "slideshow": {
     "slide_type": ""
    },
    "tags": [
     "parameters"
    ]
   },
   "outputs": [],
   "source": [
    "PARTITION = 0\n",
    "NUM_PARTITIONS = 1\n",
    "PROXY_NUMBER = 0"
   ]
  },
  {
   "cell_type": "code",
   "execution_count": null,
   "metadata": {
    "editable": true,
    "slideshow": {
     "slide_type": ""
    },
    "tags": []
   },
   "outputs": [],
   "source": [
    "name = f\"get_mal_users.{PARTITION}\"\n",
    "source = \"mal\"\n",
    "outfile = f\"get_mal_users.{PARTITION}.csv\"\n",
    "# can get the most recent userid by searching the usernames in https://myanimelist.net/comments.php?id=17337283\n",
    "max_mal_userid = 17337283  #  current as of 20231021"
   ]
  },
  {
   "cell_type": "code",
   "execution_count": null,
   "metadata": {},
   "outputs": [],
   "source": [
    "%run WebEndpointBase.ipynb"
   ]
  },
  {
   "cell_type": "code",
   "execution_count": null,
   "metadata": {
    "editable": true,
    "slideshow": {
     "slide_type": ""
    },
    "tags": []
   },
   "outputs": [],
   "source": [
    "# returns all usernames that have commented on the given userid's profile\n",
    "def get_username(userid):\n",
    "    url = f\"https://myanimelist.net/comments.php?id={userid}\"\n",
    "    response = call_api(url)\n",
    "    if response.status_code in [404]:\n",
    "        # the user may have deleted their account\n",
    "        return \"\"\n",
    "    if not response.ok:\n",
    "        logger.warning(f\"Error {response} received when handling {url}\")\n",
    "        return \"\"\n",
    "    urls = re.findall('''/profile/[^\"/#%]+\"''', response.text)\n",
    "    users = [x[len(\"/profile/\") : -len('\"')] for x in urls]\n",
    "    return users[0]"
   ]
  },
  {
   "cell_type": "code",
   "execution_count": null,
   "metadata": {},
   "outputs": [],
   "source": [
    "def save(records):\n",
    "    new_userids = {int(x[0]) for x in records}\n",
    "    with open(outfile + \"~\", \"w\") as f:\n",
    "        f.write(\"userid,username\\n\")\n",
    "        for record in records:\n",
    "            f.write(f\"{record[0]},{record[1]}\\n\")\n",
    "        if os.path.exists(outfile):\n",
    "            with open(outfile) as g:\n",
    "                header = False\n",
    "                for line in g:\n",
    "                    fields = line.strip().split(\",\")\n",
    "                    if not header:\n",
    "                        header = True\n",
    "                        userid_col = fields.index(\"userid\")\n",
    "                        continue\n",
    "                    userid = int(fields[userid_col])\n",
    "                    if is_valid_userid(userid) and userid not in new_userids:\n",
    "                        f.write(line)\n",
    "    os.replace(outfile + \"~\", outfile)"
   ]
  },
  {
   "cell_type": "code",
   "execution_count": null,
   "metadata": {},
   "outputs": [],
   "source": [
    "def is_valid_userid(x):\n",
    "    return x % NUM_PARTITIONS == PARTITION\n",
    "\n",
    "\n",
    "def get_remaining_userids():\n",
    "    searched_userids = set()\n",
    "    if os.path.exists(outfile):\n",
    "        with open(outfile) as f:\n",
    "            header = False\n",
    "            for line in tqdm(f):\n",
    "                fields = line.strip().split(\",\")\n",
    "                if not header:\n",
    "                    header = True\n",
    "                    userid_col = fields.index(\"userid\")\n",
    "                    continue\n",
    "                userid = int(fields[userid_col])\n",
    "                if is_valid_userid(userid):\n",
    "                    searched_userids.add(userid)\n",
    "\n",
    "    remaining_userids = [\n",
    "        x\n",
    "        for x in range(1, max_mal_userid + 1)\n",
    "        if is_valid_userid(x) and x not in searched_userids\n",
    "    ]\n",
    "    random.shuffle(remaining_userids)\n",
    "    logger.info(\n",
    "        f\"Starting with {len(searched_userids)} userids out of {len(remaining_userids)}\"\n",
    "    )\n",
    "\n",
    "    if len(remaining_userids) < 20000:\n",
    "        searched_userids = list(searched_userids)\n",
    "        random.shuffle(searched_userids)\n",
    "        remaining_userids = (remaining_userids + searched_userids)[:20000]\n",
    "    return remaining_userids"
   ]
  },
  {
   "cell_type": "code",
   "execution_count": null,
   "metadata": {
    "editable": true,
    "slideshow": {
     "slide_type": ""
    },
    "tags": []
   },
   "outputs": [],
   "source": [
    "while True:\n",
    "    records = []\n",
    "    for userid in get_remaining_userids():\n",
    "        username = get_username(userid)\n",
    "        records.append((userid, username))\n",
    "        if len(records) > 10000:\n",
    "            save(records)\n",
    "            records = []\n",
    "    save(records)"
   ]
  }
 ],
 "metadata": {
  "kernelspec": {
   "display_name": "Python 3 (ipykernel)",
   "language": "python",
   "name": "python3"
  },
  "language_info": {
   "codemirror_mode": {
    "name": "ipython",
    "version": 3
   },
   "file_extension": ".py",
   "mimetype": "text/x-python",
   "name": "python",
   "nbconvert_exporter": "python",
   "pygments_lexer": "ipython3",
   "version": "3.10.12"
  }
 },
 "nbformat": 4,
 "nbformat_minor": 4
}
