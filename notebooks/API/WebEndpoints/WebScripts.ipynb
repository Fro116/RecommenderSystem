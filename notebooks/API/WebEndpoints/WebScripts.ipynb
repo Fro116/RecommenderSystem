{
 "cells": [
  {
   "cell_type": "markdown",
   "id": "c23842b9-2756-4cd8-a61e-d6d3a1e7b654",
   "metadata": {},
   "source": [
    "# Web Scripts\n",
    "* This notebook will run indefinitely. You must manually kill this notebook after a sufficient dataset has been collected."
   ]
  },
  {
   "cell_type": "code",
   "execution_count": null,
   "id": "b9a660d8-4536-4e78-92ec-e2dd97da9a9e",
   "metadata": {},
   "outputs": [],
   "source": [
    "import glob\n",
    "import os\n",
    "import subprocess\n",
    "import time"
   ]
  },
  {
   "cell_type": "code",
   "execution_count": null,
   "id": "9069b51a-a5a2-4ac4-ac3d-a3900e3823b7",
   "metadata": {},
   "outputs": [],
   "source": [
    "cwd = os.getcwd()\n",
    "procs = []"
   ]
  },
  {
   "cell_type": "code",
   "execution_count": null,
   "id": "051fca74-9af7-43e7-bb22-c3ea11b1dd3a",
   "metadata": {},
   "outputs": [],
   "source": [
    "def spawn_process(cmdlist):\n",
    "    print(cmdlist)\n",
    "    p = subprocess.Popen(cmdlist)\n",
    "    procs.append(p)\n",
    "    time.sleep(1)"
   ]
  },
  {
   "cell_type": "code",
   "execution_count": null,
   "id": "0ab794b1-8c61-4aae-9c3c-e9046210b9f1",
   "metadata": {
    "editable": true,
    "slideshow": {
     "slide_type": ""
    },
    "tags": []
   },
   "outputs": [],
   "source": [
    "def spawn_notebook(fn, partition, num_partitions, proxyid, periodmult):\n",
    "    cmdlist = [\n",
    "        \"papermill\",\n",
    "        f\"{cwd}/{fn}.ipynb\",\n",
    "        \"/dev/null\",\n",
    "        \"-p\",\n",
    "        \"PARTITION\",\n",
    "        str(partition),\n",
    "        \"-p\",\n",
    "        \"NUM_PARTITIONS\",\n",
    "        str(num_partitions),\n",
    "        \"-p\",\n",
    "        \"PROXY_NUMBER\",\n",
    "        str(proxyid),\n",
    "        \"-p\",\n",
    "        \"API_PERIOD_MULT\",\n",
    "        str(periodmult),\n",
    "    ]\n",
    "    spawn_process(cmdlist)"
   ]
  },
  {
   "cell_type": "code",
   "execution_count": null,
   "id": "b8836448-7945-481e-8349-e0218b6da1e3",
   "metadata": {},
   "outputs": [],
   "source": [
    "def spawn_notebooks(fn, key):\n",
    "    if os.path.exists(\"../../../data/proxies\"):\n",
    "        PROXIES = []\n",
    "        API_PERIOD_MULT = 1\n",
    "        with open(\"../../../data/proxies/proxy_map.txt\") as f:\n",
    "            for line in f:\n",
    "                fields = line.strip().split(\",\")\n",
    "                if key in fields:\n",
    "                    PROXIES.append(fields[0])\n",
    "    else:\n",
    "        PROXIES = [0]\n",
    "        API_PERIOD_MULT = 2\n",
    "\n",
    "    for i in range(len(PROXIES)):\n",
    "        spawn_notebook(fn, i, len(PROXIES), PROXIES[i], API_PERIOD_MULT)"
   ]
  },
  {
   "cell_type": "code",
   "execution_count": null,
   "id": "4a3c7778-a813-4b72-8aab-bdd05d844bb6",
   "metadata": {
    "editable": true,
    "slideshow": {
     "slide_type": ""
    },
    "tags": []
   },
   "outputs": [],
   "source": [
    "spawn_notebooks(\"GetMalUsersFromRecent\", \"mal_recent\")"
   ]
  },
  {
   "cell_type": "code",
   "execution_count": null,
   "id": "7e0065c3-c9e0-4fec-a178-7cdca454641e",
   "metadata": {},
   "outputs": [],
   "source": [
    "spawn_notebooks(\"GetMalUsersFromId\", \"mal_id\")"
   ]
  },
  {
   "cell_type": "code",
   "execution_count": null,
   "id": "86e2acbe-e675-496c-aead-2c6fbe71af9f",
   "metadata": {},
   "outputs": [],
   "source": [
    "spawn_notebooks(\"GetAnimeplanetUsersFromFriends\", \"animeplanet_friends\")"
   ]
  },
  {
   "cell_type": "code",
   "execution_count": null,
   "id": "81e83b29-a1aa-46cf-8947-2f415453d9a8",
   "metadata": {},
   "outputs": [],
   "source": [
    "spawn_notebooks(\"GetAnimeplanetUsersFromRecent\", \"animeplanet_recent\")"
   ]
  }
 ],
 "metadata": {
  "kernelspec": {
   "display_name": "Python 3 (ipykernel)",
   "language": "python",
   "name": "python3"
  },
  "language_info": {
   "codemirror_mode": {
    "name": "ipython",
    "version": 3
   },
   "file_extension": ".py",
   "mimetype": "text/x-python",
   "name": "python",
   "nbconvert_exporter": "python",
   "pygments_lexer": "ipython3",
   "version": "3.9.6"
  }
 },
 "nbformat": 4,
 "nbformat_minor": 5
}
