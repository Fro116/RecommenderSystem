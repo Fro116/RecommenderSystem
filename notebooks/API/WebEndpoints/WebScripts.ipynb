{
 "cells": [
  {
   "cell_type": "markdown",
   "id": "c23842b9-2756-4cd8-a61e-d6d3a1e7b654",
   "metadata": {},
   "source": [
    "# Web Scripts\n",
    "* This notebook will run indefinitely. You must manually kill this notebook after a sufficient dataset has been collected."
   ]
  },
  {
   "cell_type": "code",
   "execution_count": 1,
   "id": "b9a660d8-4536-4e78-92ec-e2dd97da9a9e",
   "metadata": {},
   "outputs": [],
   "source": [
    "import glob\n",
    "import os\n",
    "import subprocess\n",
    "import time\n",
    "\n",
    "from ratelimit import limits, sleep_and_retry"
   ]
  },
  {
   "cell_type": "code",
   "execution_count": 2,
   "id": "9069b51a-a5a2-4ac4-ac3d-a3900e3823b7",
   "metadata": {},
   "outputs": [],
   "source": [
    "cwd = os.getcwd()"
   ]
  },
  {
   "cell_type": "code",
   "execution_count": 3,
   "id": "159fa63e-b553-4137-b97c-2879f03ba49a",
   "metadata": {},
   "outputs": [],
   "source": [
    "procs = {}"
   ]
  },
  {
   "cell_type": "code",
   "execution_count": 4,
   "id": "051fca74-9af7-43e7-bb22-c3ea11b1dd3a",
   "metadata": {},
   "outputs": [],
   "source": [
    "@sleep_and_retry\n",
    "@limits(calls=1, period=5)\n",
    "def spawn_process(cmdlist):\n",
    "    print(cmdlist)\n",
    "    return subprocess.Popen(cmdlist)"
   ]
  },
  {
   "cell_type": "code",
   "execution_count": 5,
   "id": "0ab794b1-8c61-4aae-9c3c-e9046210b9f1",
   "metadata": {
    "editable": true,
    "slideshow": {
     "slide_type": ""
    },
    "tags": []
   },
   "outputs": [],
   "source": [
    "def spawn_notebook(fn, partition, num_partitions, proxyid, periodmult):\n",
    "    cmdlist = [\n",
    "        \"papermill\",\n",
    "        f\"{cwd}/{fn}.ipynb\",\n",
    "        \"/dev/null\",\n",
    "        \"-p\",\n",
    "        \"PARTITION\",\n",
    "        str(partition),\n",
    "        \"-p\",\n",
    "        \"NUM_PARTITIONS\",\n",
    "        str(num_partitions),\n",
    "        \"-p\",\n",
    "        \"PROXY_NUMBER\",\n",
    "        str(proxyid),\n",
    "        \"-p\",\n",
    "        \"API_PERIOD_MULT\",\n",
    "        str(periodmult),\n",
    "    ]\n",
    "    return spawn_process(cmdlist)"
   ]
  },
  {
   "cell_type": "code",
   "execution_count": 6,
   "id": "b8836448-7945-481e-8349-e0218b6da1e3",
   "metadata": {},
   "outputs": [],
   "source": [
    "def spawn_notebooks(fn, key):\n",
    "    proxymap = \"../../../environment/proxies/proxy_map.txt\"\n",
    "    if os.path.exists(proxymap):\n",
    "        PROXIES = []\n",
    "        API_PERIOD_MULT = 1\n",
    "        with open(proxymap) as f:\n",
    "            for line in f:\n",
    "                fields = line.strip().split(\",\")\n",
    "                if key in fields:\n",
    "                    PROXIES.append(fields[0])\n",
    "    else:\n",
    "        PROXIES = [0]\n",
    "        API_PERIOD_MULT = 2\n",
    "\n",
    "    for i in range(len(PROXIES)):\n",
    "        args = (fn, i, len(PROXIES), PROXIES[i], API_PERIOD_MULT)\n",
    "        procs[args] = spawn_notebook(*args)"
   ]
  },
  {
   "cell_type": "code",
   "execution_count": 7,
   "id": "5972331f-9fa2-4bba-bb69-71ecdd75b0b5",
   "metadata": {},
   "outputs": [
    {
     "name": "stdout",
     "output_type": "stream",
     "text": [
      "['papermill', '/home/ubuntu/RecommenderSystem/notebooks/API/WebEndpoints/GetMedia.ipynb', '/dev/null', '-p', 'PARTITION', '0', '-p', 'NUM_PARTITIONS', '5', '-p', 'PROXY_NUMBER', '50', '-p', 'API_PERIOD_MULT', '1']\n"
     ]
    },
    {
     "name": "stderr",
     "output_type": "stream",
     "text": [
      "Input Notebook:  /home/ubuntu/RecommenderSystem/notebooks/API/WebEndpoints/GetMedia.ipynb\n",
      "Output Notebook: /dev/null\n",
      "Passed unknown parameter: API_PERIOD_MULT\n",
      "Executing:   0%|          | 0/16 [00:00<?, ?cell/s]/home/ubuntu/.local/lib/python3.10/site-packages/papermill/iorw.py:153: UserWarning: the file is not specified with any extension : null\n",
      "  warnings.warn(\n",
      "Executing notebook with kernel: python3\n",
      "/home/ubuntu/.local/lib/python3.10/site-packages/papermill/iorw.py:153: UserWarning: the file is not specified with any extension : null\n",
      "  warnings.warn(\n",
      "Executing:  75%|███████▌  | 12/16 [00:01<00:00, 13.80cell/s]"
     ]
    },
    {
     "name": "stdout",
     "output_type": "stream",
     "text": [
      "['papermill', '/home/ubuntu/RecommenderSystem/notebooks/API/WebEndpoints/GetMedia.ipynb', '/dev/null', '-p', 'PARTITION', '1', '-p', 'NUM_PARTITIONS', '5', '-p', 'PROXY_NUMBER', '51', '-p', 'API_PERIOD_MULT', '1']\n"
     ]
    },
    {
     "name": "stderr",
     "output_type": "stream",
     "text": [
      "Input Notebook:  /home/ubuntu/RecommenderSystem/notebooks/API/WebEndpoints/GetMedia.ipynb\n",
      "Output Notebook: /dev/null\n",
      "Passed unknown parameter: API_PERIOD_MULT\n",
      "Executing:   0%|          | 0/16 [00:00<?, ?cell/s]/home/ubuntu/.local/lib/python3.10/site-packages/papermill/iorw.py:153: UserWarning: the file is not specified with any extension : null\n",
      "  warnings.warn(\n",
      "Executing notebook with kernel: python3\n",
      "/home/ubuntu/.local/lib/python3.10/site-packages/papermill/iorw.py:153: UserWarning: the file is not specified with any extension : null\n",
      "  warnings.warn(\n",
      "Executing:  62%|██████▎   | 10/16 [00:01<00:00, 11.56cell/s]"
     ]
    },
    {
     "name": "stdout",
     "output_type": "stream",
     "text": [
      "['papermill', '/home/ubuntu/RecommenderSystem/notebooks/API/WebEndpoints/GetMedia.ipynb', '/dev/null', '-p', 'PARTITION', '2', '-p', 'NUM_PARTITIONS', '5', '-p', 'PROXY_NUMBER', '52', '-p', 'API_PERIOD_MULT', '1']\n"
     ]
    },
    {
     "name": "stderr",
     "output_type": "stream",
     "text": [
      "Input Notebook:  /home/ubuntu/RecommenderSystem/notebooks/API/WebEndpoints/GetMedia.ipynb\n",
      "Output Notebook: /dev/null\n",
      "Passed unknown parameter: API_PERIOD_MULT\n",
      "Executing:   0%|          | 0/16 [00:00<?, ?cell/s]/home/ubuntu/.local/lib/python3.10/site-packages/papermill/iorw.py:153: UserWarning: the file is not specified with any extension : null\n",
      "  warnings.warn(\n",
      "Executing notebook with kernel: python3\n",
      "/home/ubuntu/.local/lib/python3.10/site-packages/papermill/iorw.py:153: UserWarning: the file is not specified with any extension : null\n",
      "  warnings.warn(\n",
      "Executing:  62%|██████▎   | 10/16 [00:01<00:00, 11.15cell/s]"
     ]
    },
    {
     "name": "stdout",
     "output_type": "stream",
     "text": [
      "['papermill', '/home/ubuntu/RecommenderSystem/notebooks/API/WebEndpoints/GetMedia.ipynb', '/dev/null', '-p', 'PARTITION', '3', '-p', 'NUM_PARTITIONS', '5', '-p', 'PROXY_NUMBER', '53', '-p', 'API_PERIOD_MULT', '1']\n"
     ]
    },
    {
     "name": "stderr",
     "output_type": "stream",
     "text": [
      "Input Notebook:  /home/ubuntu/RecommenderSystem/notebooks/API/WebEndpoints/GetMedia.ipynb\n",
      "Output Notebook: /dev/null\n",
      "Passed unknown parameter: API_PERIOD_MULT\n",
      "Executing:   0%|          | 0/16 [00:00<?, ?cell/s]/home/ubuntu/.local/lib/python3.10/site-packages/papermill/iorw.py:153: UserWarning: the file is not specified with any extension : null\n",
      "  warnings.warn(\n",
      "Executing notebook with kernel: python3\n",
      "/home/ubuntu/.local/lib/python3.10/site-packages/papermill/iorw.py:153: UserWarning: the file is not specified with any extension : null\n",
      "  warnings.warn(\n",
      "Executing:  50%|█████     | 8/16 [00:01<00:00,  8.89cell/s]"
     ]
    },
    {
     "name": "stdout",
     "output_type": "stream",
     "text": [
      "['papermill', '/home/ubuntu/RecommenderSystem/notebooks/API/WebEndpoints/GetMedia.ipynb', '/dev/null', '-p', 'PARTITION', '4', '-p', 'NUM_PARTITIONS', '5', '-p', 'PROXY_NUMBER', '54', '-p', 'API_PERIOD_MULT', '1']\n"
     ]
    }
   ],
   "source": [
    "spawn_notebooks(\"GetMedia\", \"mal_media\")"
   ]
  },
  {
   "cell_type": "code",
   "execution_count": 8,
   "id": "7e0065c3-c9e0-4fec-a178-7cdca454641e",
   "metadata": {
    "scrolled": true
   },
   "outputs": [
    {
     "name": "stderr",
     "output_type": "stream",
     "text": [
      "Executing:  94%|█████████▍| 15/16 [00:20<00:00, 13.80cell/s]Input Notebook:  /home/ubuntu/RecommenderSystem/notebooks/API/WebEndpoints/GetMedia.ipynb\n",
      "Output Notebook: /dev/null\n",
      "Passed unknown parameter: API_PERIOD_MULT\n",
      "Executing:   0%|          | 0/16 [00:00<?, ?cell/s]/home/ubuntu/.local/lib/python3.10/site-packages/papermill/iorw.py:153: UserWarning: the file is not specified with any extension : null\n",
      "  warnings.warn(\n",
      "Executing notebook with kernel: python3\n",
      "/home/ubuntu/.local/lib/python3.10/site-packages/papermill/iorw.py:153: UserWarning: the file is not specified with any extension : null\n",
      "  warnings.warn(\n",
      "Executing:  44%|████▍     | 7/16 [00:01<00:01,  7.32cell/s]"
     ]
    },
    {
     "name": "stdout",
     "output_type": "stream",
     "text": [
      "['papermill', '/home/ubuntu/RecommenderSystem/notebooks/API/WebEndpoints/GetMalUsersFromId.ipynb', '/dev/null', '-p', 'PARTITION', '0', '-p', 'NUM_PARTITIONS', '30', '-p', 'PROXY_NUMBER', '60', '-p', 'API_PERIOD_MULT', '1']\n"
     ]
    },
    {
     "name": "stderr",
     "output_type": "stream",
     "text": [
      "Executing:  94%|█████████▍| 15/16 [00:20<00:00, 11.56cell/s]Input Notebook:  /home/ubuntu/RecommenderSystem/notebooks/API/WebEndpoints/GetMalUsersFromId.ipynb\n",
      "Output Notebook: /dev/null\n",
      "Passed unknown parameter: API_PERIOD_MULT\n",
      "Executing:   0%|          | 0/12 [00:00<?, ?cell/s]/home/ubuntu/.local/lib/python3.10/site-packages/papermill/iorw.py:153: UserWarning: the file is not specified with any extension : null\n",
      "  warnings.warn(\n",
      "Executing notebook with kernel: python3\n",
      "/home/ubuntu/.local/lib/python3.10/site-packages/papermill/iorw.py:153: UserWarning: the file is not specified with any extension : null\n",
      "  warnings.warn(\n",
      "Executing:  50%|█████     | 6/12 [00:01<00:01,  4.60cell/s]"
     ]
    },
    {
     "name": "stdout",
     "output_type": "stream",
     "text": [
      "['papermill', '/home/ubuntu/RecommenderSystem/notebooks/API/WebEndpoints/GetMalUsersFromId.ipynb', '/dev/null', '-p', 'PARTITION', '1', '-p', 'NUM_PARTITIONS', '30', '-p', 'PROXY_NUMBER', '61', '-p', 'API_PERIOD_MULT', '1']\n"
     ]
    },
    {
     "name": "stderr",
     "output_type": "stream",
     "text": [
      "Executing:  94%|█████████▍| 15/16 [00:20<00:00, 11.15cell/s]Input Notebook:  /home/ubuntu/RecommenderSystem/notebooks/API/WebEndpoints/GetMalUsersFromId.ipynb\n",
      "Output Notebook: /dev/null\n",
      "Passed unknown parameter: API_PERIOD_MULT\n",
      "Executing:   0%|          | 0/12 [00:00<?, ?cell/s]/home/ubuntu/.local/lib/python3.10/site-packages/papermill/iorw.py:153: UserWarning: the file is not specified with any extension : null\n",
      "  warnings.warn(\n",
      "Executing notebook with kernel: python3\n",
      "/home/ubuntu/.local/lib/python3.10/site-packages/papermill/iorw.py:153: UserWarning: the file is not specified with any extension : null\n",
      "  warnings.warn(\n",
      "Executing:  50%|█████     | 6/12 [00:01<00:01,  5.06cell/s]"
     ]
    },
    {
     "name": "stdout",
     "output_type": "stream",
     "text": [
      "['papermill', '/home/ubuntu/RecommenderSystem/notebooks/API/WebEndpoints/GetMalUsersFromId.ipynb', '/dev/null', '-p', 'PARTITION', '2', '-p', 'NUM_PARTITIONS', '30', '-p', 'PROXY_NUMBER', '62', '-p', 'API_PERIOD_MULT', '1']\n"
     ]
    },
    {
     "name": "stderr",
     "output_type": "stream",
     "text": [
      "Executing:  94%|█████████▍| 15/16 [00:20<00:00,  8.89cell/s]Input Notebook:  /home/ubuntu/RecommenderSystem/notebooks/API/WebEndpoints/GetMalUsersFromId.ipynb\n",
      "Output Notebook: /dev/null\n",
      "Passed unknown parameter: API_PERIOD_MULT\n",
      "Executing:   0%|          | 0/12 [00:00<?, ?cell/s]/home/ubuntu/.local/lib/python3.10/site-packages/papermill/iorw.py:153: UserWarning: the file is not specified with any extension : null\n",
      "  warnings.warn(\n",
      "Executing notebook with kernel: python3\n",
      "/home/ubuntu/.local/lib/python3.10/site-packages/papermill/iorw.py:153: UserWarning: the file is not specified with any extension : null\n",
      "  warnings.warn(\n",
      "Executing:  50%|█████     | 6/12 [00:01<00:01,  4.91cell/s]"
     ]
    },
    {
     "name": "stdout",
     "output_type": "stream",
     "text": [
      "['papermill', '/home/ubuntu/RecommenderSystem/notebooks/API/WebEndpoints/GetMalUsersFromId.ipynb', '/dev/null', '-p', 'PARTITION', '3', '-p', 'NUM_PARTITIONS', '30', '-p', 'PROXY_NUMBER', '63', '-p', 'API_PERIOD_MULT', '1']\n"
     ]
    },
    {
     "name": "stderr",
     "output_type": "stream",
     "text": [
      "Input Notebook:  /home/ubuntu/RecommenderSystem/notebooks/API/WebEndpoints/GetMalUsersFromId.ipynb\n",
      "Output Notebook: /dev/null\n",
      "Passed unknown parameter: API_PERIOD_MULT\n",
      "Executing:   0%|          | 0/12 [00:00<?, ?cell/s]/home/ubuntu/.local/lib/python3.10/site-packages/papermill/iorw.py:153: UserWarning: the file is not specified with any extension : null\n",
      "  warnings.warn(\n",
      "Executing notebook with kernel: python3\n",
      "/home/ubuntu/.local/lib/python3.10/site-packages/papermill/iorw.py:153: UserWarning: the file is not specified with any extension : null\n",
      "  warnings.warn(\n",
      "Executing:  50%|█████     | 6/12 [00:01<00:01,  5.07cell/s]"
     ]
    },
    {
     "name": "stdout",
     "output_type": "stream",
     "text": [
      "['papermill', '/home/ubuntu/RecommenderSystem/notebooks/API/WebEndpoints/GetMalUsersFromId.ipynb', '/dev/null', '-p', 'PARTITION', '4', '-p', 'NUM_PARTITIONS', '30', '-p', 'PROXY_NUMBER', '64', '-p', 'API_PERIOD_MULT', '1']\n"
     ]
    },
    {
     "name": "stderr",
     "output_type": "stream",
     "text": [
      "Input Notebook:  /home/ubuntu/RecommenderSystem/notebooks/API/WebEndpoints/GetMalUsersFromId.ipynb\n",
      "Output Notebook: /dev/null\n",
      "Passed unknown parameter: API_PERIOD_MULT\n",
      "Executing:   0%|          | 0/12 [00:00<?, ?cell/s]/home/ubuntu/.local/lib/python3.10/site-packages/papermill/iorw.py:153: UserWarning: the file is not specified with any extension : null\n",
      "  warnings.warn(\n",
      "Executing notebook with kernel: python3\n",
      "/home/ubuntu/.local/lib/python3.10/site-packages/papermill/iorw.py:153: UserWarning: the file is not specified with any extension : null\n",
      "  warnings.warn(\n",
      "Executing:  50%|█████     | 6/12 [00:01<00:01,  4.67cell/s]"
     ]
    },
    {
     "name": "stdout",
     "output_type": "stream",
     "text": [
      "['papermill', '/home/ubuntu/RecommenderSystem/notebooks/API/WebEndpoints/GetMalUsersFromId.ipynb', '/dev/null', '-p', 'PARTITION', '5', '-p', 'NUM_PARTITIONS', '30', '-p', 'PROXY_NUMBER', '65', '-p', 'API_PERIOD_MULT', '1']\n"
     ]
    },
    {
     "name": "stderr",
     "output_type": "stream",
     "text": [
      "Input Notebook:  /home/ubuntu/RecommenderSystem/notebooks/API/WebEndpoints/GetMalUsersFromId.ipynb\n",
      "Output Notebook: /dev/null\n",
      "Passed unknown parameter: API_PERIOD_MULT\n",
      "Executing:   0%|          | 0/12 [00:00<?, ?cell/s]/home/ubuntu/.local/lib/python3.10/site-packages/papermill/iorw.py:153: UserWarning: the file is not specified with any extension : null\n",
      "  warnings.warn(\n",
      "Executing notebook with kernel: python3\n",
      "/home/ubuntu/.local/lib/python3.10/site-packages/papermill/iorw.py:153: UserWarning: the file is not specified with any extension : null\n",
      "  warnings.warn(\n",
      "Executing:  50%|█████     | 6/12 [00:01<00:01,  4.88cell/s]"
     ]
    },
    {
     "name": "stdout",
     "output_type": "stream",
     "text": [
      "['papermill', '/home/ubuntu/RecommenderSystem/notebooks/API/WebEndpoints/GetMalUsersFromId.ipynb', '/dev/null', '-p', 'PARTITION', '6', '-p', 'NUM_PARTITIONS', '30', '-p', 'PROXY_NUMBER', '66', '-p', 'API_PERIOD_MULT', '1']\n"
     ]
    },
    {
     "name": "stderr",
     "output_type": "stream",
     "text": [
      "Input Notebook:  /home/ubuntu/RecommenderSystem/notebooks/API/WebEndpoints/GetMalUsersFromId.ipynb\n",
      "Output Notebook: /dev/null\n",
      "Passed unknown parameter: API_PERIOD_MULT\n",
      "Executing:   0%|          | 0/12 [00:00<?, ?cell/s]/home/ubuntu/.local/lib/python3.10/site-packages/papermill/iorw.py:153: UserWarning: the file is not specified with any extension : null\n",
      "  warnings.warn(\n",
      "Executing notebook with kernel: python3\n",
      "/home/ubuntu/.local/lib/python3.10/site-packages/papermill/iorw.py:153: UserWarning: the file is not specified with any extension : null\n",
      "  warnings.warn(\n",
      "Executing:  50%|█████     | 6/12 [00:01<00:01,  4.42cell/s]"
     ]
    },
    {
     "name": "stdout",
     "output_type": "stream",
     "text": [
      "['papermill', '/home/ubuntu/RecommenderSystem/notebooks/API/WebEndpoints/GetMalUsersFromId.ipynb', '/dev/null', '-p', 'PARTITION', '7', '-p', 'NUM_PARTITIONS', '30', '-p', 'PROXY_NUMBER', '67', '-p', 'API_PERIOD_MULT', '1']\n"
     ]
    },
    {
     "name": "stderr",
     "output_type": "stream",
     "text": [
      "Input Notebook:  /home/ubuntu/RecommenderSystem/notebooks/API/WebEndpoints/GetMalUsersFromId.ipynb\n",
      "Output Notebook: /dev/null\n",
      "Passed unknown parameter: API_PERIOD_MULT\n",
      "Executing:   0%|          | 0/12 [00:00<?, ?cell/s]/home/ubuntu/.local/lib/python3.10/site-packages/papermill/iorw.py:153: UserWarning: the file is not specified with any extension : null\n",
      "  warnings.warn(\n",
      "Executing notebook with kernel: python3\n",
      "/home/ubuntu/.local/lib/python3.10/site-packages/papermill/iorw.py:153: UserWarning: the file is not specified with any extension : null\n",
      "  warnings.warn(\n",
      "Executing:  50%|█████     | 6/12 [00:01<00:01,  4.84cell/s]"
     ]
    },
    {
     "name": "stdout",
     "output_type": "stream",
     "text": [
      "['papermill', '/home/ubuntu/RecommenderSystem/notebooks/API/WebEndpoints/GetMalUsersFromId.ipynb', '/dev/null', '-p', 'PARTITION', '8', '-p', 'NUM_PARTITIONS', '30', '-p', 'PROXY_NUMBER', '68', '-p', 'API_PERIOD_MULT', '1']\n"
     ]
    },
    {
     "name": "stderr",
     "output_type": "stream",
     "text": [
      "Input Notebook:  /home/ubuntu/RecommenderSystem/notebooks/API/WebEndpoints/GetMalUsersFromId.ipynb\n",
      "Output Notebook: /dev/null\n",
      "Passed unknown parameter: API_PERIOD_MULT\n",
      "Executing:   0%|          | 0/12 [00:00<?, ?cell/s]/home/ubuntu/.local/lib/python3.10/site-packages/papermill/iorw.py:153: UserWarning: the file is not specified with any extension : null\n",
      "  warnings.warn(\n",
      "Executing notebook with kernel: python3\n",
      "/home/ubuntu/.local/lib/python3.10/site-packages/papermill/iorw.py:153: UserWarning: the file is not specified with any extension : null\n",
      "  warnings.warn(\n",
      "Executing:  50%|█████     | 6/12 [00:01<00:01,  5.25cell/s]"
     ]
    },
    {
     "name": "stdout",
     "output_type": "stream",
     "text": [
      "['papermill', '/home/ubuntu/RecommenderSystem/notebooks/API/WebEndpoints/GetMalUsersFromId.ipynb', '/dev/null', '-p', 'PARTITION', '9', '-p', 'NUM_PARTITIONS', '30', '-p', 'PROXY_NUMBER', '69', '-p', 'API_PERIOD_MULT', '1']\n"
     ]
    },
    {
     "name": "stderr",
     "output_type": "stream",
     "text": [
      "Input Notebook:  /home/ubuntu/RecommenderSystem/notebooks/API/WebEndpoints/GetMalUsersFromId.ipynb\n",
      "Output Notebook: /dev/null\n",
      "Passed unknown parameter: API_PERIOD_MULT\n",
      "Executing:   0%|          | 0/12 [00:00<?, ?cell/s]/home/ubuntu/.local/lib/python3.10/site-packages/papermill/iorw.py:153: UserWarning: the file is not specified with any extension : null\n",
      "  warnings.warn(\n",
      "Executing notebook with kernel: python3\n",
      "/home/ubuntu/.local/lib/python3.10/site-packages/papermill/iorw.py:153: UserWarning: the file is not specified with any extension : null\n",
      "  warnings.warn(\n",
      "Executing:  50%|█████     | 6/12 [00:01<00:01,  4.76cell/s]"
     ]
    },
    {
     "name": "stdout",
     "output_type": "stream",
     "text": [
      "['papermill', '/home/ubuntu/RecommenderSystem/notebooks/API/WebEndpoints/GetMalUsersFromId.ipynb', '/dev/null', '-p', 'PARTITION', '10', '-p', 'NUM_PARTITIONS', '30', '-p', 'PROXY_NUMBER', '70', '-p', 'API_PERIOD_MULT', '1']\n"
     ]
    },
    {
     "name": "stderr",
     "output_type": "stream",
     "text": [
      "Input Notebook:  /home/ubuntu/RecommenderSystem/notebooks/API/WebEndpoints/GetMalUsersFromId.ipynb\n",
      "Output Notebook: /dev/null\n",
      "Passed unknown parameter: API_PERIOD_MULT\n",
      "Executing:   0%|          | 0/12 [00:00<?, ?cell/s]/home/ubuntu/.local/lib/python3.10/site-packages/papermill/iorw.py:153: UserWarning: the file is not specified with any extension : null\n",
      "  warnings.warn(\n",
      "Executing notebook with kernel: python3\n",
      "/home/ubuntu/.local/lib/python3.10/site-packages/papermill/iorw.py:153: UserWarning: the file is not specified with any extension : null\n",
      "  warnings.warn(\n",
      "Executing:  50%|█████     | 6/12 [00:01<00:01,  4.71cell/s]"
     ]
    },
    {
     "name": "stdout",
     "output_type": "stream",
     "text": [
      "['papermill', '/home/ubuntu/RecommenderSystem/notebooks/API/WebEndpoints/GetMalUsersFromId.ipynb', '/dev/null', '-p', 'PARTITION', '11', '-p', 'NUM_PARTITIONS', '30', '-p', 'PROXY_NUMBER', '71', '-p', 'API_PERIOD_MULT', '1']\n"
     ]
    },
    {
     "name": "stderr",
     "output_type": "stream",
     "text": [
      "Input Notebook:  /home/ubuntu/RecommenderSystem/notebooks/API/WebEndpoints/GetMalUsersFromId.ipynb\n",
      "Output Notebook: /dev/null\n",
      "Passed unknown parameter: API_PERIOD_MULT\n",
      "Executing:   0%|          | 0/12 [00:00<?, ?cell/s]/home/ubuntu/.local/lib/python3.10/site-packages/papermill/iorw.py:153: UserWarning: the file is not specified with any extension : null\n",
      "  warnings.warn(\n",
      "Executing notebook with kernel: python3\n",
      "/home/ubuntu/.local/lib/python3.10/site-packages/papermill/iorw.py:153: UserWarning: the file is not specified with any extension : null\n",
      "  warnings.warn(\n",
      "Executing:  50%|█████     | 6/12 [00:01<00:01,  4.95cell/s]"
     ]
    },
    {
     "name": "stdout",
     "output_type": "stream",
     "text": [
      "['papermill', '/home/ubuntu/RecommenderSystem/notebooks/API/WebEndpoints/GetMalUsersFromId.ipynb', '/dev/null', '-p', 'PARTITION', '12', '-p', 'NUM_PARTITIONS', '30', '-p', 'PROXY_NUMBER', '72', '-p', 'API_PERIOD_MULT', '1']\n"
     ]
    },
    {
     "name": "stderr",
     "output_type": "stream",
     "text": [
      "Input Notebook:  /home/ubuntu/RecommenderSystem/notebooks/API/WebEndpoints/GetMalUsersFromId.ipynb\n",
      "Output Notebook: /dev/null\n",
      "Passed unknown parameter: API_PERIOD_MULT\n",
      "Executing:   0%|          | 0/12 [00:00<?, ?cell/s]/home/ubuntu/.local/lib/python3.10/site-packages/papermill/iorw.py:153: UserWarning: the file is not specified with any extension : null\n",
      "  warnings.warn(\n",
      "Executing notebook with kernel: python3\n",
      "/home/ubuntu/.local/lib/python3.10/site-packages/papermill/iorw.py:153: UserWarning: the file is not specified with any extension : null\n",
      "  warnings.warn(\n",
      "Executing:  50%|█████     | 6/12 [00:01<00:01,  4.96cell/s]"
     ]
    },
    {
     "name": "stdout",
     "output_type": "stream",
     "text": [
      "['papermill', '/home/ubuntu/RecommenderSystem/notebooks/API/WebEndpoints/GetMalUsersFromId.ipynb', '/dev/null', '-p', 'PARTITION', '13', '-p', 'NUM_PARTITIONS', '30', '-p', 'PROXY_NUMBER', '73', '-p', 'API_PERIOD_MULT', '1']\n"
     ]
    },
    {
     "name": "stderr",
     "output_type": "stream",
     "text": [
      "Input Notebook:  /home/ubuntu/RecommenderSystem/notebooks/API/WebEndpoints/GetMalUsersFromId.ipynb\n",
      "Output Notebook: /dev/null\n",
      "Passed unknown parameter: API_PERIOD_MULT\n",
      "Executing:   0%|          | 0/12 [00:00<?, ?cell/s]/home/ubuntu/.local/lib/python3.10/site-packages/papermill/iorw.py:153: UserWarning: the file is not specified with any extension : null\n",
      "  warnings.warn(\n",
      "Executing notebook with kernel: python3\n",
      "/home/ubuntu/.local/lib/python3.10/site-packages/papermill/iorw.py:153: UserWarning: the file is not specified with any extension : null\n",
      "  warnings.warn(\n",
      "Executing:  50%|█████     | 6/12 [00:01<00:01,  5.15cell/s]"
     ]
    },
    {
     "name": "stdout",
     "output_type": "stream",
     "text": [
      "['papermill', '/home/ubuntu/RecommenderSystem/notebooks/API/WebEndpoints/GetMalUsersFromId.ipynb', '/dev/null', '-p', 'PARTITION', '14', '-p', 'NUM_PARTITIONS', '30', '-p', 'PROXY_NUMBER', '74', '-p', 'API_PERIOD_MULT', '1']\n"
     ]
    },
    {
     "name": "stderr",
     "output_type": "stream",
     "text": [
      "Input Notebook:  /home/ubuntu/RecommenderSystem/notebooks/API/WebEndpoints/GetMalUsersFromId.ipynb\n",
      "Output Notebook: /dev/null\n",
      "Passed unknown parameter: API_PERIOD_MULT\n",
      "Executing:   0%|          | 0/12 [00:00<?, ?cell/s]/home/ubuntu/.local/lib/python3.10/site-packages/papermill/iorw.py:153: UserWarning: the file is not specified with any extension : null\n",
      "  warnings.warn(\n",
      "Executing notebook with kernel: python3\n",
      "/home/ubuntu/.local/lib/python3.10/site-packages/papermill/iorw.py:153: UserWarning: the file is not specified with any extension : null\n",
      "  warnings.warn(\n",
      "Executing:  50%|█████     | 6/12 [00:01<00:01,  4.43cell/s]"
     ]
    },
    {
     "name": "stdout",
     "output_type": "stream",
     "text": [
      "['papermill', '/home/ubuntu/RecommenderSystem/notebooks/API/WebEndpoints/GetMalUsersFromId.ipynb', '/dev/null', '-p', 'PARTITION', '15', '-p', 'NUM_PARTITIONS', '30', '-p', 'PROXY_NUMBER', '75', '-p', 'API_PERIOD_MULT', '1']\n"
     ]
    },
    {
     "name": "stderr",
     "output_type": "stream",
     "text": [
      "Input Notebook:  /home/ubuntu/RecommenderSystem/notebooks/API/WebEndpoints/GetMalUsersFromId.ipynb\n",
      "Output Notebook: /dev/null\n",
      "Passed unknown parameter: API_PERIOD_MULT\n",
      "Executing:   0%|          | 0/12 [00:00<?, ?cell/s]/home/ubuntu/.local/lib/python3.10/site-packages/papermill/iorw.py:153: UserWarning: the file is not specified with any extension : null\n",
      "  warnings.warn(\n",
      "Executing notebook with kernel: python3\n",
      "/home/ubuntu/.local/lib/python3.10/site-packages/papermill/iorw.py:153: UserWarning: the file is not specified with any extension : null\n",
      "  warnings.warn(\n",
      "Executing:  50%|█████     | 6/12 [00:01<00:01,  4.70cell/s]"
     ]
    },
    {
     "name": "stdout",
     "output_type": "stream",
     "text": [
      "['papermill', '/home/ubuntu/RecommenderSystem/notebooks/API/WebEndpoints/GetMalUsersFromId.ipynb', '/dev/null', '-p', 'PARTITION', '16', '-p', 'NUM_PARTITIONS', '30', '-p', 'PROXY_NUMBER', '76', '-p', 'API_PERIOD_MULT', '1']\n"
     ]
    },
    {
     "name": "stderr",
     "output_type": "stream",
     "text": [
      "Input Notebook:  /home/ubuntu/RecommenderSystem/notebooks/API/WebEndpoints/GetMalUsersFromId.ipynb\n",
      "Output Notebook: /dev/null\n",
      "Passed unknown parameter: API_PERIOD_MULT\n",
      "Executing:   0%|          | 0/12 [00:00<?, ?cell/s]/home/ubuntu/.local/lib/python3.10/site-packages/papermill/iorw.py:153: UserWarning: the file is not specified with any extension : null\n",
      "  warnings.warn(\n",
      "Executing notebook with kernel: python3\n",
      "/home/ubuntu/.local/lib/python3.10/site-packages/papermill/iorw.py:153: UserWarning: the file is not specified with any extension : null\n",
      "  warnings.warn(\n",
      "Executing:  50%|█████     | 6/12 [00:01<00:01,  4.82cell/s]"
     ]
    },
    {
     "name": "stdout",
     "output_type": "stream",
     "text": [
      "['papermill', '/home/ubuntu/RecommenderSystem/notebooks/API/WebEndpoints/GetMalUsersFromId.ipynb', '/dev/null', '-p', 'PARTITION', '17', '-p', 'NUM_PARTITIONS', '30', '-p', 'PROXY_NUMBER', '77', '-p', 'API_PERIOD_MULT', '1']\n"
     ]
    },
    {
     "name": "stderr",
     "output_type": "stream",
     "text": [
      "Input Notebook:  /home/ubuntu/RecommenderSystem/notebooks/API/WebEndpoints/GetMalUsersFromId.ipynb\n",
      "Output Notebook: /dev/null\n",
      "Passed unknown parameter: API_PERIOD_MULT\n",
      "Executing:   0%|          | 0/12 [00:00<?, ?cell/s]/home/ubuntu/.local/lib/python3.10/site-packages/papermill/iorw.py:153: UserWarning: the file is not specified with any extension : null\n",
      "  warnings.warn(\n",
      "Executing notebook with kernel: python3\n",
      "/home/ubuntu/.local/lib/python3.10/site-packages/papermill/iorw.py:153: UserWarning: the file is not specified with any extension : null\n",
      "  warnings.warn(\n",
      "Executing:  50%|█████     | 6/12 [00:01<00:01,  5.07cell/s]"
     ]
    },
    {
     "name": "stdout",
     "output_type": "stream",
     "text": [
      "['papermill', '/home/ubuntu/RecommenderSystem/notebooks/API/WebEndpoints/GetMalUsersFromId.ipynb', '/dev/null', '-p', 'PARTITION', '18', '-p', 'NUM_PARTITIONS', '30', '-p', 'PROXY_NUMBER', '78', '-p', 'API_PERIOD_MULT', '1']\n"
     ]
    },
    {
     "name": "stderr",
     "output_type": "stream",
     "text": [
      "Input Notebook:  /home/ubuntu/RecommenderSystem/notebooks/API/WebEndpoints/GetMalUsersFromId.ipynb\n",
      "Output Notebook: /dev/null\n",
      "Passed unknown parameter: API_PERIOD_MULT\n",
      "Executing:   0%|          | 0/12 [00:00<?, ?cell/s]/home/ubuntu/.local/lib/python3.10/site-packages/papermill/iorw.py:153: UserWarning: the file is not specified with any extension : null\n",
      "  warnings.warn(\n",
      "Executing notebook with kernel: python3\n",
      "/home/ubuntu/.local/lib/python3.10/site-packages/papermill/iorw.py:153: UserWarning: the file is not specified with any extension : null\n",
      "  warnings.warn(\n",
      "Executing:  50%|█████     | 6/12 [00:01<00:01,  4.63cell/s]"
     ]
    },
    {
     "name": "stdout",
     "output_type": "stream",
     "text": [
      "['papermill', '/home/ubuntu/RecommenderSystem/notebooks/API/WebEndpoints/GetMalUsersFromId.ipynb', '/dev/null', '-p', 'PARTITION', '19', '-p', 'NUM_PARTITIONS', '30', '-p', 'PROXY_NUMBER', '79', '-p', 'API_PERIOD_MULT', '1']\n"
     ]
    },
    {
     "name": "stderr",
     "output_type": "stream",
     "text": [
      "Input Notebook:  /home/ubuntu/RecommenderSystem/notebooks/API/WebEndpoints/GetMalUsersFromId.ipynb\n",
      "Output Notebook: /dev/null\n",
      "Passed unknown parameter: API_PERIOD_MULT\n",
      "Executing:   0%|          | 0/12 [00:00<?, ?cell/s]/home/ubuntu/.local/lib/python3.10/site-packages/papermill/iorw.py:153: UserWarning: the file is not specified with any extension : null\n",
      "  warnings.warn(\n",
      "Executing notebook with kernel: python3\n",
      "/home/ubuntu/.local/lib/python3.10/site-packages/papermill/iorw.py:153: UserWarning: the file is not specified with any extension : null\n",
      "  warnings.warn(\n",
      "Executing:  50%|█████     | 6/12 [00:01<00:01,  5.09cell/s]"
     ]
    },
    {
     "name": "stdout",
     "output_type": "stream",
     "text": [
      "['papermill', '/home/ubuntu/RecommenderSystem/notebooks/API/WebEndpoints/GetMalUsersFromId.ipynb', '/dev/null', '-p', 'PARTITION', '20', '-p', 'NUM_PARTITIONS', '30', '-p', 'PROXY_NUMBER', '80', '-p', 'API_PERIOD_MULT', '1']\n"
     ]
    },
    {
     "name": "stderr",
     "output_type": "stream",
     "text": [
      "Input Notebook:  /home/ubuntu/RecommenderSystem/notebooks/API/WebEndpoints/GetMalUsersFromId.ipynb\n",
      "Output Notebook: /dev/null\n",
      "Passed unknown parameter: API_PERIOD_MULT\n",
      "Executing:   0%|          | 0/12 [00:00<?, ?cell/s]/home/ubuntu/.local/lib/python3.10/site-packages/papermill/iorw.py:153: UserWarning: the file is not specified with any extension : null\n",
      "  warnings.warn(\n",
      "Executing notebook with kernel: python3\n",
      "/home/ubuntu/.local/lib/python3.10/site-packages/papermill/iorw.py:153: UserWarning: the file is not specified with any extension : null\n",
      "  warnings.warn(\n",
      "Executing:  50%|█████     | 6/12 [00:01<00:01,  4.77cell/s]"
     ]
    },
    {
     "name": "stdout",
     "output_type": "stream",
     "text": [
      "['papermill', '/home/ubuntu/RecommenderSystem/notebooks/API/WebEndpoints/GetMalUsersFromId.ipynb', '/dev/null', '-p', 'PARTITION', '21', '-p', 'NUM_PARTITIONS', '30', '-p', 'PROXY_NUMBER', '81', '-p', 'API_PERIOD_MULT', '1']\n"
     ]
    },
    {
     "name": "stderr",
     "output_type": "stream",
     "text": [
      "Input Notebook:  /home/ubuntu/RecommenderSystem/notebooks/API/WebEndpoints/GetMalUsersFromId.ipynb\n",
      "Output Notebook: /dev/null\n",
      "Passed unknown parameter: API_PERIOD_MULT\n",
      "Executing:   0%|          | 0/12 [00:00<?, ?cell/s]/home/ubuntu/.local/lib/python3.10/site-packages/papermill/iorw.py:153: UserWarning: the file is not specified with any extension : null\n",
      "  warnings.warn(\n",
      "Executing notebook with kernel: python3\n",
      "/home/ubuntu/.local/lib/python3.10/site-packages/papermill/iorw.py:153: UserWarning: the file is not specified with any extension : null\n",
      "  warnings.warn(\n",
      "Executing:  50%|█████     | 6/12 [00:01<00:01,  5.19cell/s]"
     ]
    },
    {
     "name": "stdout",
     "output_type": "stream",
     "text": [
      "['papermill', '/home/ubuntu/RecommenderSystem/notebooks/API/WebEndpoints/GetMalUsersFromId.ipynb', '/dev/null', '-p', 'PARTITION', '22', '-p', 'NUM_PARTITIONS', '30', '-p', 'PROXY_NUMBER', '82', '-p', 'API_PERIOD_MULT', '1']\n"
     ]
    },
    {
     "name": "stderr",
     "output_type": "stream",
     "text": [
      "Input Notebook:  /home/ubuntu/RecommenderSystem/notebooks/API/WebEndpoints/GetMalUsersFromId.ipynb\n",
      "Output Notebook: /dev/null\n",
      "Passed unknown parameter: API_PERIOD_MULT\n",
      "Executing:   0%|          | 0/12 [00:00<?, ?cell/s]/home/ubuntu/.local/lib/python3.10/site-packages/papermill/iorw.py:153: UserWarning: the file is not specified with any extension : null\n",
      "  warnings.warn(\n",
      "Executing notebook with kernel: python3\n",
      "/home/ubuntu/.local/lib/python3.10/site-packages/papermill/iorw.py:153: UserWarning: the file is not specified with any extension : null\n",
      "  warnings.warn(\n",
      "Executing:  50%|█████     | 6/12 [00:01<00:01,  4.78cell/s]"
     ]
    },
    {
     "name": "stdout",
     "output_type": "stream",
     "text": [
      "['papermill', '/home/ubuntu/RecommenderSystem/notebooks/API/WebEndpoints/GetMalUsersFromId.ipynb', '/dev/null', '-p', 'PARTITION', '23', '-p', 'NUM_PARTITIONS', '30', '-p', 'PROXY_NUMBER', '83', '-p', 'API_PERIOD_MULT', '1']\n"
     ]
    },
    {
     "name": "stderr",
     "output_type": "stream",
     "text": [
      "Input Notebook:  /home/ubuntu/RecommenderSystem/notebooks/API/WebEndpoints/GetMalUsersFromId.ipynb\n",
      "Output Notebook: /dev/null\n",
      "Passed unknown parameter: API_PERIOD_MULT\n",
      "Executing:   0%|          | 0/12 [00:00<?, ?cell/s]/home/ubuntu/.local/lib/python3.10/site-packages/papermill/iorw.py:153: UserWarning: the file is not specified with any extension : null\n",
      "  warnings.warn(\n",
      "Executing notebook with kernel: python3\n",
      "/home/ubuntu/.local/lib/python3.10/site-packages/papermill/iorw.py:153: UserWarning: the file is not specified with any extension : null\n",
      "  warnings.warn(\n",
      "Executing:  50%|█████     | 6/12 [00:01<00:01,  5.01cell/s]"
     ]
    },
    {
     "name": "stdout",
     "output_type": "stream",
     "text": [
      "['papermill', '/home/ubuntu/RecommenderSystem/notebooks/API/WebEndpoints/GetMalUsersFromId.ipynb', '/dev/null', '-p', 'PARTITION', '24', '-p', 'NUM_PARTITIONS', '30', '-p', 'PROXY_NUMBER', '84', '-p', 'API_PERIOD_MULT', '1']\n"
     ]
    },
    {
     "name": "stderr",
     "output_type": "stream",
     "text": [
      "Input Notebook:  /home/ubuntu/RecommenderSystem/notebooks/API/WebEndpoints/GetMalUsersFromId.ipynb\n",
      "Output Notebook: /dev/null\n",
      "Passed unknown parameter: API_PERIOD_MULT\n",
      "Executing:   0%|          | 0/12 [00:00<?, ?cell/s]/home/ubuntu/.local/lib/python3.10/site-packages/papermill/iorw.py:153: UserWarning: the file is not specified with any extension : null\n",
      "  warnings.warn(\n",
      "Executing notebook with kernel: python3\n",
      "/home/ubuntu/.local/lib/python3.10/site-packages/papermill/iorw.py:153: UserWarning: the file is not specified with any extension : null\n",
      "  warnings.warn(\n",
      "Executing:  50%|█████     | 6/12 [00:01<00:01,  4.93cell/s]"
     ]
    },
    {
     "name": "stdout",
     "output_type": "stream",
     "text": [
      "['papermill', '/home/ubuntu/RecommenderSystem/notebooks/API/WebEndpoints/GetMalUsersFromId.ipynb', '/dev/null', '-p', 'PARTITION', '25', '-p', 'NUM_PARTITIONS', '30', '-p', 'PROXY_NUMBER', '85', '-p', 'API_PERIOD_MULT', '1']\n"
     ]
    },
    {
     "name": "stderr",
     "output_type": "stream",
     "text": [
      "Input Notebook:  /home/ubuntu/RecommenderSystem/notebooks/API/WebEndpoints/GetMalUsersFromId.ipynb\n",
      "Output Notebook: /dev/null\n",
      "Passed unknown parameter: API_PERIOD_MULT\n",
      "Executing:   0%|          | 0/12 [00:00<?, ?cell/s]/home/ubuntu/.local/lib/python3.10/site-packages/papermill/iorw.py:153: UserWarning: the file is not specified with any extension : null\n",
      "  warnings.warn(\n",
      "Executing notebook with kernel: python3\n",
      "/home/ubuntu/.local/lib/python3.10/site-packages/papermill/iorw.py:153: UserWarning: the file is not specified with any extension : null\n",
      "  warnings.warn(\n",
      "Executing:  50%|█████     | 6/12 [00:01<00:01,  4.79cell/s]"
     ]
    },
    {
     "name": "stdout",
     "output_type": "stream",
     "text": [
      "['papermill', '/home/ubuntu/RecommenderSystem/notebooks/API/WebEndpoints/GetMalUsersFromId.ipynb', '/dev/null', '-p', 'PARTITION', '26', '-p', 'NUM_PARTITIONS', '30', '-p', 'PROXY_NUMBER', '86', '-p', 'API_PERIOD_MULT', '1']\n"
     ]
    },
    {
     "name": "stderr",
     "output_type": "stream",
     "text": [
      "Input Notebook:  /home/ubuntu/RecommenderSystem/notebooks/API/WebEndpoints/GetMalUsersFromId.ipynb\n",
      "Output Notebook: /dev/null\n",
      "Passed unknown parameter: API_PERIOD_MULT\n",
      "Executing:   0%|          | 0/12 [00:00<?, ?cell/s]/home/ubuntu/.local/lib/python3.10/site-packages/papermill/iorw.py:153: UserWarning: the file is not specified with any extension : null\n",
      "  warnings.warn(\n",
      "Executing notebook with kernel: python3\n",
      "/home/ubuntu/.local/lib/python3.10/site-packages/papermill/iorw.py:153: UserWarning: the file is not specified with any extension : null\n",
      "  warnings.warn(\n",
      "Executing:  50%|█████     | 6/12 [00:01<00:01,  4.91cell/s]"
     ]
    },
    {
     "name": "stdout",
     "output_type": "stream",
     "text": [
      "['papermill', '/home/ubuntu/RecommenderSystem/notebooks/API/WebEndpoints/GetMalUsersFromId.ipynb', '/dev/null', '-p', 'PARTITION', '27', '-p', 'NUM_PARTITIONS', '30', '-p', 'PROXY_NUMBER', '87', '-p', 'API_PERIOD_MULT', '1']\n"
     ]
    },
    {
     "name": "stderr",
     "output_type": "stream",
     "text": [
      "Input Notebook:  /home/ubuntu/RecommenderSystem/notebooks/API/WebEndpoints/GetMalUsersFromId.ipynb\n",
      "Output Notebook: /dev/null\n",
      "Passed unknown parameter: API_PERIOD_MULT\n",
      "Executing:   0%|          | 0/12 [00:00<?, ?cell/s]/home/ubuntu/.local/lib/python3.10/site-packages/papermill/iorw.py:153: UserWarning: the file is not specified with any extension : null\n",
      "  warnings.warn(\n",
      "Executing notebook with kernel: python3\n",
      "/home/ubuntu/.local/lib/python3.10/site-packages/papermill/iorw.py:153: UserWarning: the file is not specified with any extension : null\n",
      "  warnings.warn(\n",
      "Executing:  50%|█████     | 6/12 [00:01<00:01,  4.57cell/s]"
     ]
    },
    {
     "name": "stdout",
     "output_type": "stream",
     "text": [
      "['papermill', '/home/ubuntu/RecommenderSystem/notebooks/API/WebEndpoints/GetMalUsersFromId.ipynb', '/dev/null', '-p', 'PARTITION', '28', '-p', 'NUM_PARTITIONS', '30', '-p', 'PROXY_NUMBER', '88', '-p', 'API_PERIOD_MULT', '1']\n"
     ]
    },
    {
     "name": "stderr",
     "output_type": "stream",
     "text": [
      "Input Notebook:  /home/ubuntu/RecommenderSystem/notebooks/API/WebEndpoints/GetMalUsersFromId.ipynb\n",
      "Output Notebook: /dev/null\n",
      "Passed unknown parameter: API_PERIOD_MULT\n",
      "Executing:   0%|          | 0/12 [00:00<?, ?cell/s]/home/ubuntu/.local/lib/python3.10/site-packages/papermill/iorw.py:153: UserWarning: the file is not specified with any extension : null\n",
      "  warnings.warn(\n",
      "Executing notebook with kernel: python3\n",
      "/home/ubuntu/.local/lib/python3.10/site-packages/papermill/iorw.py:153: UserWarning: the file is not specified with any extension : null\n",
      "  warnings.warn(\n",
      "Executing:  50%|█████     | 6/12 [00:01<00:01,  4.97cell/s]"
     ]
    },
    {
     "name": "stdout",
     "output_type": "stream",
     "text": [
      "['papermill', '/home/ubuntu/RecommenderSystem/notebooks/API/WebEndpoints/GetMalUsersFromId.ipynb', '/dev/null', '-p', 'PARTITION', '29', '-p', 'NUM_PARTITIONS', '30', '-p', 'PROXY_NUMBER', '89', '-p', 'API_PERIOD_MULT', '1']\n"
     ]
    }
   ],
   "source": [
    "spawn_notebooks(\"GetMalUsersFromId\", \"mal_id\")"
   ]
  },
  {
   "cell_type": "code",
   "execution_count": 9,
   "id": "86e2acbe-e675-496c-aead-2c6fbe71af9f",
   "metadata": {},
   "outputs": [
    {
     "name": "stderr",
     "output_type": "stream",
     "text": [
      "Input Notebook:  /home/ubuntu/RecommenderSystem/notebooks/API/WebEndpoints/GetMalUsersFromId.ipynb\n",
      "Output Notebook: /dev/null\n",
      "Passed unknown parameter: API_PERIOD_MULT\n",
      "Executing:   0%|          | 0/12 [00:00<?, ?cell/s]/home/ubuntu/.local/lib/python3.10/site-packages/papermill/iorw.py:153: UserWarning: the file is not specified with any extension : null\n",
      "  warnings.warn(\n",
      "Executing notebook with kernel: python3\n",
      "/home/ubuntu/.local/lib/python3.10/site-packages/papermill/iorw.py:153: UserWarning: the file is not specified with any extension : null\n",
      "  warnings.warn(\n",
      "Executing:  50%|█████     | 6/12 [00:01<00:01,  4.33cell/s]"
     ]
    },
    {
     "name": "stdout",
     "output_type": "stream",
     "text": [
      "['papermill', '/home/ubuntu/RecommenderSystem/notebooks/API/WebEndpoints/GetAnimeplanetUsersFromFriends.ipynb', '/dev/null', '-p', 'PARTITION', '0', '-p', 'NUM_PARTITIONS', '1', '-p', 'PROXY_NUMBER', '41', '-p', 'API_PERIOD_MULT', '1']\n"
     ]
    }
   ],
   "source": [
    "spawn_notebooks(\"GetAnimeplanetUsersFromFriends\", \"animeplanet_friends\")"
   ]
  },
  {
   "cell_type": "code",
   "execution_count": 10,
   "id": "81e83b29-a1aa-46cf-8947-2f415453d9a8",
   "metadata": {
    "scrolled": true
   },
   "outputs": [
    {
     "name": "stderr",
     "output_type": "stream",
     "text": [
      "Input Notebook:  /home/ubuntu/RecommenderSystem/notebooks/API/WebEndpoints/GetAnimeplanetUsersFromFriends.ipynb\n",
      "Output Notebook: /dev/null\n",
      "Passed unknown parameter: PARTITION\n",
      "Passed unknown parameter: NUM_PARTITIONS\n",
      "Passed unknown parameter: API_PERIOD_MULT\n",
      "Executing:   0%|          | 0/12 [00:00<?, ?cell/s]/home/ubuntu/.local/lib/python3.10/site-packages/papermill/iorw.py:153: UserWarning: the file is not specified with any extension : null\n",
      "  warnings.warn(\n",
      "Executing notebook with kernel: python3\n",
      "/home/ubuntu/.local/lib/python3.10/site-packages/papermill/iorw.py:153: UserWarning: the file is not specified with any extension : null\n",
      "  warnings.warn(\n",
      "Executing:  50%|█████     | 6/12 [00:01<00:01,  4.89cell/s]"
     ]
    },
    {
     "name": "stdout",
     "output_type": "stream",
     "text": [
      "['papermill', '/home/ubuntu/RecommenderSystem/notebooks/API/WebEndpoints/GetAnimeplanetUsersFromRecent.ipynb', '/dev/null', '-p', 'PARTITION', '0', '-p', 'NUM_PARTITIONS', '1', '-p', 'PROXY_NUMBER', '40', '-p', 'API_PERIOD_MULT', '1']\n"
     ]
    }
   ],
   "source": [
    "spawn_notebooks(\"GetAnimeplanetUsersFromRecent\", \"animeplanet_recent\")"
   ]
  },
  {
   "cell_type": "code",
   "execution_count": null,
   "id": "0f643dd0-d1ea-4229-b3af-7a0ebbecf55b",
   "metadata": {},
   "outputs": [
    {
     "name": "stderr",
     "output_type": "stream",
     "text": [
      "Input Notebook:  /home/ubuntu/RecommenderSystem/notebooks/API/WebEndpoints/GetAnimeplanetUsersFromRecent.ipynb\n",
      "Output Notebook: /dev/null\n",
      "Passed unknown parameter: PARTITION\n",
      "Passed unknown parameter: NUM_PARTITIONS\n",
      "Passed unknown parameter: API_PERIOD_MULT\n",
      "Executing:   0%|          | 0/13 [00:00<?, ?cell/s]/home/ubuntu/.local/lib/python3.10/site-packages/papermill/iorw.py:153: UserWarning: the file is not specified with any extension : null\n",
      "  warnings.warn(\n",
      "Executing notebook with kernel: python3\n",
      "/home/ubuntu/.local/lib/python3.10/site-packages/papermill/iorw.py:153: UserWarning: the file is not specified with any extension : null\n",
      "  warnings.warn(\n",
      "Executing:  46%|████▌     | 6/13 [00:01<00:01,  4.22cell/s]"
     ]
    }
   ],
   "source": [
    "while True:\n",
    "    time.sleep(1)\n",
    "    for k, v in procs.items():\n",
    "        if v.poll() is not None:\n",
    "            # spawn a new process to replace the finished one\n",
    "            procs[k] = spawn_notebook(*k)"
   ]
  }
 ],
 "metadata": {
  "kernelspec": {
   "display_name": "Python 3 (ipykernel)",
   "language": "python",
   "name": "python3"
  },
  "language_info": {
   "codemirror_mode": {
    "name": "ipython",
    "version": 3
   },
   "file_extension": ".py",
   "mimetype": "text/x-python",
   "name": "python",
   "nbconvert_exporter": "python",
   "pygments_lexer": "ipython3",
   "version": "3.10.12"
  }
 },
 "nbformat": 4,
 "nbformat_minor": 5
}
