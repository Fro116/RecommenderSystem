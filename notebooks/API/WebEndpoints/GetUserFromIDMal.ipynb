{
 "cells": [
  {
   "cell_type": "markdown",
   "metadata": {},
   "source": [
    "# Generating a list of MAL usernames\n",
    "* We look up a username by querying their user id\n",
    "* You can terminate or restart the notebook at any point without losing progress. All users found so far will be stored at `data/mal/user_facts/usernames_from_id.txt`.\n",
    "* This notebook will run indefinitely. You must manually terminate once an acceptable number of users have been found"
   ]
  },
  {
   "cell_type": "code",
   "execution_count": null,
   "metadata": {},
   "outputs": [],
   "source": [
    "import random\n",
    "import re\n",
    "\n",
    "from tqdm import tqdm"
   ]
  },
  {
   "cell_type": "code",
   "execution_count": null,
   "metadata": {},
   "outputs": [],
   "source": [
    "name = \"get_user_from_id\"\n",
    "source = \"mal\""
   ]
  },
  {
   "cell_type": "code",
   "execution_count": null,
   "metadata": {},
   "outputs": [],
   "source": [
    "PROXY_PARTITION = \"0,2\"\n",
    "%run WebEndpointBase.ipynb"
   ]
  },
  {
   "cell_type": "code",
   "execution_count": null,
   "metadata": {},
   "outputs": [],
   "source": [
    "# if we rerunning the notebook, then resume execution where we last left off\n",
    "usernames = set()\n",
    "if os.path.exists(\"usernames_from_id.txt\"):\n",
    "    with open(\"usernames_from_id.txt\") as f:\n",
    "        usernames = {x.strip() for x in f.readlines() if x.strip()}\n",
    "\n",
    "searched_userids = set()\n",
    "if os.path.exists(\"searched_userids.txt\"):\n",
    "    with open(\"searched_userids.txt\") as f:\n",
    "        for line in tqdm(f):\n",
    "            searched_userids.add(int(line.strip()))\n",
    "\n",
    "logger.info(\n",
    "    f\"Starting with {len(usernames)} stored usernames after searching {len(searched_userids)} userids\"\n",
    ")"
   ]
  },
  {
   "cell_type": "code",
   "execution_count": null,
   "metadata": {},
   "outputs": [],
   "source": [
    "# returns all usernames that have commented on the given userid's profile\n",
    "def get_usernames(userid):\n",
    "    url = f\"https://myanimelist.net/comments.php?id={userid}\"\n",
    "    response = call_api(url)\n",
    "    if response.status_code in [404]:\n",
    "        # the user may have deleted their account\n",
    "        return set()\n",
    "    if not response.ok:\n",
    "        logger.warning(f\"Error {response} received when handling {url}\")\n",
    "        return set()\n",
    "    urls = re.findall('''/profile/[^\"/#%]+\"''', response.text)\n",
    "    users = {x[len(\"/profile/\") : -len('\"')] for x in urls}\n",
    "    return users"
   ]
  },
  {
   "cell_type": "code",
   "execution_count": null,
   "metadata": {},
   "outputs": [],
   "source": [
    "def save():\n",
    "    atomic_to_csv(sorted(list(usernames)), \"usernames_from_id.txt\")\n",
    "    atomic_to_csv(sorted(list(searched_userids)), \"searched_userids.txt\")\n",
    "    logger.info(\n",
    "        f\"Successfully wrote {len(usernames)} users after searching {len(searched_userids)} userids\"\n",
    "    )"
   ]
  },
  {
   "cell_type": "code",
   "execution_count": null,
   "metadata": {
    "tags": []
   },
   "outputs": [],
   "source": [
    "# can get the most recent userid by searching the usernames in https://myanimelist.net/comments.php?id=16857856\n",
    "max_mal_userid = 16857854 # current as of 20230624\n",
    "remaining_userids = list(set(range(1, max_mal_userid + 1)) - searched_userids)\n",
    "random.shuffle(remaining_userids)\n",
    "for userid in remaining_userids:\n",
    "    usernames |= get_usernames(userid)\n",
    "    searched_userids.add(userid)\n",
    "    if should_save(\"users\"):\n",
    "        save()\n",
    "save()"
   ]
  },
  {
   "cell_type": "code",
   "execution_count": null,
   "metadata": {},
   "outputs": [],
   "source": [
    "logger.info(\"Finished!\")"
   ]
  },
  {
   "cell_type": "code",
   "execution_count": null,
   "metadata": {},
   "outputs": [],
   "source": [
    "https://myanimelist.net/comments.php?id=16553901"
   ]
  }
 ],
 "metadata": {
  "kernelspec": {
   "display_name": "Python 3 (ipykernel)",
   "language": "python",
   "name": "python3"
  },
  "language_info": {
   "codemirror_mode": {
    "name": "ipython",
    "version": 3
   },
   "file_extension": ".py",
   "mimetype": "text/x-python",
   "name": "python",
   "nbconvert_exporter": "python",
   "pygments_lexer": "ipython3",
   "version": "3.10.6"
  }
 },
 "nbformat": 4,
 "nbformat_minor": 4
}
