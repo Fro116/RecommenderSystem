{
 "cells": [
  {
   "cell_type": "markdown",
   "metadata": {},
   "source": [
    "# Generating a list of Animeplanet usernames\n",
    "* from recent webpages"
   ]
  },
  {
   "cell_type": "code",
   "execution_count": null,
   "metadata": {},
   "outputs": [],
   "source": [
    "import os\n",
    "import re\n",
    "\n",
    "from filelock import FileLock"
   ]
  },
  {
   "cell_type": "code",
   "execution_count": null,
   "metadata": {
    "editable": true,
    "slideshow": {
     "slide_type": ""
    },
    "tags": [
     "parameters"
    ]
   },
   "outputs": [],
   "source": [
    "PROXY_NUMBER = 0"
   ]
  },
  {
   "cell_type": "code",
   "execution_count": null,
   "metadata": {},
   "outputs": [],
   "source": [
    "name = \"get_recent_usernames\"\n",
    "source = \"animeplanet\""
   ]
  },
  {
   "cell_type": "code",
   "execution_count": null,
   "metadata": {},
   "outputs": [],
   "source": [
    "exec(open(\"WebEndpointBase.py\").read())"
   ]
  },
  {
   "cell_type": "code",
   "execution_count": null,
   "metadata": {},
   "outputs": [],
   "source": [
    "LOCK_FILE = \"../../animeplanet_recent.lock\"\n",
    "LOCK = FileLock(LOCK_FILE, timeout=-1)"
   ]
  },
  {
   "cell_type": "code",
   "execution_count": null,
   "metadata": {
    "tags": []
   },
   "outputs": [],
   "source": [
    "def get_users(url, prefix):\n",
    "    response = call_api(url)\n",
    "    if response.status_code in [404]:\n",
    "        logger.warning(f\"Error {response} received when handling {url}\")\n",
    "        return {}\n",
    "    if not response.ok:\n",
    "        logger.warning(f\"Error {response} received when handling {url}\")\n",
    "        return {}\n",
    "    urls = re.findall(prefix + \"\"\"[^\"/#%?.'><]+\"\"\", response.text)\n",
    "    return {x[len(prefix) :] for x in urls}"
   ]
  },
  {
   "cell_type": "code",
   "execution_count": null,
   "metadata": {},
   "outputs": [],
   "source": [
    "def get_character_urls():\n",
    "    urls = [\n",
    "        (x, \"/characters/\")\n",
    "        for x in [\n",
    "            \"https://www.anime-planet.com/characters/\",\n",
    "            \"https://www.anime-planet.com/characters/top-loved\",\n",
    "            \"https://www.anime-planet.com/characters/top-loved/today\",\n",
    "            \"https://www.anime-planet.com/characters/top-loved/week\",\n",
    "            \"https://www.anime-planet.com/characters/top-hated\",\n",
    "            \"https://www.anime-planet.com/characters/top-hated/today\",\n",
    "            \"https://www.anime-planet.com/characters/top-hated/week\",\n",
    "        ]\n",
    "    ]\n",
    "    users = set()\n",
    "    for url, prefix in urls:\n",
    "        users |= get_users(url, prefix)\n",
    "    return [(f\"https://www.anime-planet.com/characters/{x}\", \"/users/\") for x in users]"
   ]
  },
  {
   "cell_type": "code",
   "execution_count": null,
   "metadata": {
    "tags": []
   },
   "outputs": [],
   "source": [
    "def get_frontpage_urls():\n",
    "    return [\n",
    "        (x, \"/users/\")\n",
    "        for x in [\n",
    "            \"https://www.anime-planet.com/community/\",\n",
    "            \"https://www.anime-planet.com/users/recent_user_reviews.php?mode=anime\",\n",
    "            \"https://www.anime-planet.com/users/recent_user_reviews.php?mode=manga\",\n",
    "            \"https://www.anime-planet.com/users/recent_recommendations.php?filter=anime&page=1\",\n",
    "            \"https://www.anime-planet.com/users/recent_recommendations.php?filter=manga&page=1\",\n",
    "        ]\n",
    "    ]"
   ]
  },
  {
   "cell_type": "code",
   "execution_count": null,
   "metadata": {
    "tags": []
   },
   "outputs": [],
   "source": [
    "def get_forum_urls():\n",
    "    return [\n",
    "        (\"https://www.anime-planet.com/forum/\", \"members/\"),\n",
    "        (\"https://www.anime-planet.com/forum/recent-activity/\", \"members/\"),\n",
    "        (\"https://www.anime-planet.com/forum/members/\", \"members/\"),\n",
    "        (\"https://www.anime-planet.com/forum/find-new/1/posts\", \"members/\"),\n",
    "        (\"https://www.anime-planet.com/forum/find-new/1/profile-posts\", \"members/\"),\n",
    "        (\"https://www.anime-planet.com/forum/online/?type=registered\", \"members/\"),\n",
    "    ]"
   ]
  },
  {
   "cell_type": "code",
   "execution_count": null,
   "metadata": {},
   "outputs": [],
   "source": [
    "def reset_state():\n",
    "    usernames = set()\n",
    "    if os.path.exists(\"recent_usernames.txt\"):\n",
    "        with open(\"recent_usernames.txt\") as f:\n",
    "            usernames = {x.strip() for x in f.readlines() if x.strip()}\n",
    "    return usernames"
   ]
  },
  {
   "cell_type": "code",
   "execution_count": null,
   "metadata": {
    "tags": []
   },
   "outputs": [],
   "source": [
    "while True:\n",
    "    usernames = reset_state()\n",
    "    for fn in [get_frontpage_urls, get_forum_urls, get_character_urls]:\n",
    "        urls = fn()\n",
    "        for url, prefix in urls:\n",
    "            num_usernames = len(usernames)\n",
    "            usernames |= get_users(url, prefix)\n",
    "            if len(usernames) > num_usernames:\n",
    "                with LOCK:\n",
    "                    atomic_to_csv(sorted(list(usernames)), \"recent_usernames.txt\")\n",
    "                    logger.info(f\"Successfully written {len(usernames)} users\")"
   ]
  }
 ],
 "metadata": {
  "kernelspec": {
   "display_name": "Python 3 (ipykernel)",
   "language": "python",
   "name": "python3"
  },
  "language_info": {
   "codemirror_mode": {
    "name": "ipython",
    "version": 3
   },
   "file_extension": ".py",
   "mimetype": "text/x-python",
   "name": "python",
   "nbconvert_exporter": "python",
   "pygments_lexer": "ipython3",
   "version": "3.10.12"
  }
 },
 "nbformat": 4,
 "nbformat_minor": 4
}
