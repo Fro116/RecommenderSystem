{
 "cells": [
  {
   "cell_type": "markdown",
   "metadata": {},
   "source": [
    "# Generating a list of Animeplanet usernames\n",
    "* Looks at character likes/dislikes"
   ]
  },
  {
   "cell_type": "code",
   "execution_count": null,
   "metadata": {},
   "outputs": [],
   "source": [
    "import random\n",
    "import re"
   ]
  },
  {
   "cell_type": "code",
   "execution_count": null,
   "metadata": {},
   "outputs": [],
   "source": [
    "name = \"get_character_usernames\"\n",
    "source = \"animeplanet\""
   ]
  },
  {
   "cell_type": "code",
   "execution_count": null,
   "metadata": {},
   "outputs": [],
   "source": [
    "PROXY_PARTITION = \"1,2\"\n",
    "%run WebEndpointBase.ipynb"
   ]
  },
  {
   "cell_type": "code",
   "execution_count": null,
   "metadata": {},
   "outputs": [],
   "source": [
    "# if we rerunning the notebook, then resume execution where we last left off\n",
    "usernames = set()\n",
    "if os.path.exists(\"character_usernames.txt\"):\n",
    "    with open(\"character_usernames.txt\") as f:\n",
    "        usernames = {x.strip() for x in f.readlines() if x.strip()}\n",
    "\n",
    "visited = set()\n",
    "if os.path.exists(\"character_visited.txt\"):\n",
    "    with open(\"character_visited.txt\") as f:\n",
    "        visited = {x.strip() for x in f.readlines() if x.strip()}\n",
    "\n",
    "logger.info(\n",
    "    f\"Starting with {len(usernames)} stored usernames and {len(visited)} visited characters\"\n",
    ")"
   ]
  },
  {
   "cell_type": "code",
   "execution_count": null,
   "metadata": {},
   "outputs": [],
   "source": [
    "def get_characters():\n",
    "    urls = [\n",
    "        (\"https://www.anime-planet.com/characters/\", \"/characters/\"),\n",
    "        (\"https://www.anime-planet.com/characters/top-loved\", \"/characters/\"),\n",
    "        (\"https://www.anime-planet.com/characters/top-loved/today\", \"/characters/\"),\n",
    "        (\"https://www.anime-planet.com/characters/top-loved/week\", \"/characters/\"),\n",
    "        (\"https://www.anime-planet.com/characters/top-hated\", \"/characters/\"),\n",
    "        (\"https://www.anime-planet.com/characters/top-hated/today\", \"/characters/\"),\n",
    "        (\"https://www.anime-planet.com/characters/top-hated/week\", \"/characters/\"),        \n",
    "    ]\n",
    "    characters = set()\n",
    "    for entry in urls:\n",
    "        url, prefix = entry\n",
    "        response = call_api(url)\n",
    "        if response.status_code in [404]:\n",
    "            logger.warning(f\"Error {response} received when handling {url}\")\n",
    "            continue\n",
    "        if not response.ok:\n",
    "            logger.warning(f\"Error {response} received when handling {url}\")\n",
    "            continue\n",
    "        urls = re.findall(prefix + \"\"\"[^\"/#%?.']+\"\"\", response.text)\n",
    "        characters |= {x[len(prefix) :] for x in urls}\n",
    "    return characters"
   ]
  },
  {
   "cell_type": "code",
   "execution_count": null,
   "metadata": {},
   "outputs": [],
   "source": [
    "def order_chars(characters, visited):\n",
    "    order = list(characters - visited)\n",
    "    random.shuffle(order)\n",
    "    return order"
   ]
  },
  {
   "cell_type": "code",
   "execution_count": null,
   "metadata": {},
   "outputs": [],
   "source": [
    "def get_users_on_url(url):\n",
    "    response = call_api(url)\n",
    "    if response.status_code in [404]:\n",
    "        logger.warning(f\"Error {response} received when handling {url}\")\n",
    "        return set()\n",
    "    if not response.ok:\n",
    "        logger.warning(f\"Error {response} received when handling {url}\")\n",
    "        return set()\n",
    "    urls = re.findall(\"\"\"/users/[^\"/#%?.']+\"\"\", response.text)\n",
    "    users = {x[len(\"/users/\") :] for x in urls}\n",
    "    return users"
   ]
  },
  {
   "cell_type": "code",
   "execution_count": null,
   "metadata": {},
   "outputs": [],
   "source": [
    "def get_users_on_base_url(base_url):\n",
    "    users = set()\n",
    "    page = 1\n",
    "    while True:\n",
    "        url = base_url + f\"?page={page}\"\n",
    "        new_users = get_users_on_url(url)\n",
    "        if len(users) == len(users | new_users):\n",
    "            break\n",
    "        users |= new_users\n",
    "        page += 1\n",
    "    return users"
   ]
  },
  {
   "cell_type": "code",
   "execution_count": null,
   "metadata": {},
   "outputs": [],
   "source": [
    "def get_users(character):\n",
    "    users = [\n",
    "        get_users_on_base_url(f\"https://www.anime-planet.com/characters/{character}/{x}\")\n",
    "        for x in [\"loves\", \"hates\"]\n",
    "    ]\n",
    "    return set().union(*users)"
   ]
  },
  {
   "cell_type": "code",
   "execution_count": null,
   "metadata": {},
   "outputs": [],
   "source": [
    "def get_recent_users():\n",
    "    urls = [\n",
    "        (\"https://www.anime-planet.com/community/\", \"/users/\"),\n",
    "        (\"https://www.anime-planet.com/users/recent_user_reviews.php?mode=anime\", \"/users/\"),        \n",
    "        (\"https://www.anime-planet.com/users/recent_user_reviews.php?mode=manga\", \"/users/\"),\n",
    "        (\"https://www.anime-planet.com/users/recent_recommendations.php?filter=anime&page=1\", \"/users/\"),                \n",
    "        (\"https://www.anime-planet.com/users/recent_recommendations.php?filter=manga&page=1\", \"/users/\"),\n",
    "        (\"https://www.anime-planet.com/forum/\", \"members/\"),\n",
    "        (\"https://www.anime-planet.com/forum/recent-activity/\", \"members/\"),                \n",
    "        (\"https://www.anime-planet.com/forum/members/\", \"members/\"),        \n",
    "        (\"https://www.anime-planet.com/forum/find-new/1/posts\", \"members/\"),\n",
    "        (\"https://www.anime-planet.com/forum/find-new/1/profile-posts\", \"members/\"),\n",
    "        (\"https://www.anime-planet.com/forum/online/?type=registered\", \"members/\"),\n",
    "    ]\n",
    "    users = set()\n",
    "    for entry in urls:\n",
    "        url, prefix = entry\n",
    "        response = call_api(url)\n",
    "        if response.status_code in [404]:\n",
    "            logger.warning(f\"Error {response} received when handling {url}\")\n",
    "            continue\n",
    "        if not response.ok:\n",
    "            logger.warning(f\"Error {response} received when handling {url}\")\n",
    "            continue\n",
    "        urls = re.findall(prefix + \"\"\"[^\"/#%?.']+\"\"\", response.text)\n",
    "        users |= {x[len(prefix) :] for x in urls}\n",
    "    return users"
   ]
  },
  {
   "cell_type": "code",
   "execution_count": null,
   "metadata": {
    "tags": []
   },
   "outputs": [],
   "source": [
    "while True:\n",
    "    characters = get_characters()\n",
    "    order = order_chars(characters, visited)\n",
    "    timestamp = time.time()\n",
    "    for char in order:\n",
    "        num_usernames = len(usernames)  \n",
    "        users = get_users(char)\n",
    "        visited.add(char)\n",
    "        usernames |= users\n",
    "        if time.time() - timestamp > 3600:\n",
    "            usernames |= get_recent_users()\n",
    "            timestamp = time.time()\n",
    "        if len(usernames) > num_usernames:\n",
    "            atomic_to_csv(sorted(list(usernames)), \"character_usernames.txt\")\n",
    "            atomic_to_csv(sorted(list(visited)), \"character_visited.txt\")\n",
    "            logger.info(\n",
    "                f\"Successfully written {len(usernames)} users and visited {len(visited)} characters\"\n",
    "            )"
   ]
  }
 ],
 "metadata": {
  "kernelspec": {
   "display_name": "Python 3 (ipykernel)",
   "language": "python",
   "name": "python3"
  },
  "language_info": {
   "codemirror_mode": {
    "name": "ipython",
    "version": 3
   },
   "file_extension": ".py",
   "mimetype": "text/x-python",
   "name": "python",
   "nbconvert_exporter": "python",
   "pygments_lexer": "ipython3",
   "version": "3.10.6"
  }
 },
 "nbformat": 4,
 "nbformat_minor": 4
}
