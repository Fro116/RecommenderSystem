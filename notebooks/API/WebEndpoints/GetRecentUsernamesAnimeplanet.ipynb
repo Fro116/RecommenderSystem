{
 "cells": [
  {
   "cell_type": "markdown",
   "metadata": {},
   "source": [
    "# Generating a list of Animeplanet usernames\n",
    "* Finds users that have been recently active on the site"
   ]
  },
  {
   "cell_type": "code",
   "execution_count": null,
   "metadata": {},
   "outputs": [],
   "source": [
    "import re"
   ]
  },
  {
   "cell_type": "code",
   "execution_count": null,
   "metadata": {},
   "outputs": [],
   "source": [
    "name = \"get_recent_username\"\n",
    "source = \"animeplanet\""
   ]
  },
  {
   "cell_type": "code",
   "execution_count": null,
   "metadata": {},
   "outputs": [],
   "source": [
    "PROXY_PARTITION = \"1,2\"\n",
    "%run WebEndpointBase.ipynb"
   ]
  },
  {
   "cell_type": "code",
   "execution_count": null,
   "metadata": {},
   "outputs": [],
   "source": [
    "# if we rerunning the notebook, then resume execution where we last left off\n",
    "usernames = set()\n",
    "if os.path.exists(\"recent_usernames.txt\"):\n",
    "    with open(\"recent_usernames.txt\") as f:\n",
    "        usernames = {x.strip() for x in f.readlines() if x.strip()}\n",
    "\n",
    "\n",
    "logger.info(f\"Starting with {len(usernames)} stored usernames\")"
   ]
  },
  {
   "cell_type": "code",
   "execution_count": null,
   "metadata": {},
   "outputs": [],
   "source": [
    "url_index = 0"
   ]
  },
  {
   "cell_type": "code",
   "execution_count": null,
   "metadata": {},
   "outputs": [],
   "source": [
    "def get_users():\n",
    "    urls = [\n",
    "        (\"https://www.anime-planet.com/community/\", \"/users/\"),\n",
    "        (\"https://www.anime-planet.com/forum/\", \"members/\"),\n",
    "    ]\n",
    "    global url_index\n",
    "    url_index = (url_index + 1) % len(urls)\n",
    "    url, prefix = urls[url_index]\n",
    "    response = call_api(url)\n",
    "    if response.status_code in [404]:\n",
    "        logger.warning(f\"Error {response} received when handling {url}\")\n",
    "        return set()\n",
    "    if not response.ok:\n",
    "        logger.warning(f\"Error {response} received when handling {url}\")\n",
    "        return set()\n",
    "    urls = re.findall(prefix + \"\"\"[^\"/#%?.']+\"\"\", response.text)\n",
    "    users = {x[len(prefix) :] for x in urls}\n",
    "    return users"
   ]
  },
  {
   "cell_type": "code",
   "execution_count": null,
   "metadata": {
    "tags": []
   },
   "outputs": [],
   "source": [
    "while True:\n",
    "    users = get_users()\n",
    "    usernames |= users\n",
    "    if should_save(\"users\"):\n",
    "        atomic_to_csv(sorted(list(usernames)), \"recent_usernames.txt\")\n",
    "        logger.info(f\"Successfully written {len(usernames)} users \")"
   ]
  }
 ],
 "metadata": {
  "kernelspec": {
   "display_name": "Python 3 (ipykernel)",
   "language": "python",
   "name": "python3"
  },
  "language_info": {
   "codemirror_mode": {
    "name": "ipython",
    "version": 3
   },
   "file_extension": ".py",
   "mimetype": "text/x-python",
   "name": "python",
   "nbconvert_exporter": "python",
   "pygments_lexer": "ipython3",
   "version": "3.10.6"
  }
 },
 "nbformat": 4,
 "nbformat_minor": 4
}
