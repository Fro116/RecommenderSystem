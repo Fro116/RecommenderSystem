{
 "cells": [
  {
   "cell_type": "markdown",
   "id": "f550bd4c-2e49-43ff-8d9b-a4189437fe95",
   "metadata": {},
   "source": [
    "# Get Media\n",
    "* We store metadata in `data/mal/media_facts`"
   ]
  },
  {
   "cell_type": "code",
   "execution_count": null,
   "id": "16a55928-bc2d-4dfb-974f-2480e13c1f0c",
   "metadata": {},
   "outputs": [],
   "source": [
    "import glob\n",
    "import logging\n",
    "import os\n",
    "import random\n",
    "import time\n",
    "import traceback\n",
    "from hashlib import sha256\n",
    "\n",
    "from filelock import FileLock\n",
    "from tqdm import tqdm"
   ]
  },
  {
   "cell_type": "code",
   "execution_count": null,
   "id": "7c5d02e0-d861-4fa8-ae7d-7817ded0bdf3",
   "metadata": {
    "tags": [
     "parameters"
    ]
   },
   "outputs": [],
   "source": [
    "PARTITION = 0\n",
    "NUM_PARTITIONS = 1\n",
    "PROXY_NUMBER = 0"
   ]
  },
  {
   "cell_type": "markdown",
   "id": "12519d36-ea48-4c1c-aa75-a6a7d84152ef",
   "metadata": {},
   "source": [
    "# Setup"
   ]
  },
  {
   "cell_type": "code",
   "execution_count": null,
   "id": "6db574f0-b22a-4447-a03c-5c87e444c798",
   "metadata": {},
   "outputs": [],
   "source": [
    "def import_notebook(nb):\n",
    "    cwd = os.getcwd()\n",
    "    try:\n",
    "        os.chdir(os.path.dirname(nb))\n",
    "        script = os.path.basename(nb)\n",
    "        %run $script\n",
    "    finally:\n",
    "        os.chdir(cwd)"
   ]
  },
  {
   "cell_type": "code",
   "execution_count": null,
   "id": "92745bd1-1430-4440-9b82-36c094967bf2",
   "metadata": {},
   "outputs": [],
   "source": [
    "import_notebook(f\"../API/MalWebApi.ipynb\")"
   ]
  },
  {
   "cell_type": "code",
   "execution_count": null,
   "id": "1e50d2d6-3aa2-4ae2-b6cb-8daa401f6ccf",
   "metadata": {},
   "outputs": [],
   "source": [
    "data_path = f\"../../../data/mal/media_facts\"\n",
    "if not os.path.exists(data_path):\n",
    "    os.mkdir(data_path)\n",
    "os.chdir(data_path)"
   ]
  },
  {
   "cell_type": "code",
   "execution_count": null,
   "id": "6199917e-ad6d-4ad4-996b-abb7a705e3e2",
   "metadata": {},
   "outputs": [],
   "source": [
    "name = \"get_media\"\n",
    "logger = logging.getLogger(name)\n",
    "logger.setLevel(logging.DEBUG)\n",
    "formatter = logging.Formatter(\n",
    "    \"%(name)s:%(levelname)s:%(asctime)s: %(message)s\", datefmt=\"%Y-%m-%d %H:%M:%S\"\n",
    ")\n",
    "for stream in [\n",
    "    logging.FileHandler(f\"{name}.{PARTITION}.log\", \"w+\"),\n",
    "]:\n",
    "    stream.setFormatter(formatter)\n",
    "    logger.addHandler(stream)"
   ]
  },
  {
   "cell_type": "code",
   "execution_count": null,
   "id": "0f83c2a0-da6a-48bb-ae72-2cce3e2a6836",
   "metadata": {},
   "outputs": [],
   "source": [
    "LOCK_FILE = f\"../../mal_media.lock\"\n",
    "LOCK = FileLock(LOCK_FILE, timeout=-1)"
   ]
  },
  {
   "cell_type": "markdown",
   "id": "fb69ce62-8fd4-4479-8197-1ced9a890b36",
   "metadata": {},
   "source": [
    "# Collect data"
   ]
  },
  {
   "cell_type": "code",
   "execution_count": null,
   "id": "bcf1666f-8e2d-4513-b009-079cc1d9e9ae",
   "metadata": {},
   "outputs": [],
   "source": [
    "def get_media_ids(input_fn):\n",
    "    item_ids = set()\n",
    "    with open(input_fn, \"r\") as in_file:\n",
    "        header = False\n",
    "        for line in tqdm(in_file):\n",
    "            if not header:\n",
    "                idx = line.strip().split(\",\").index(\"uid\")\n",
    "                header = True\n",
    "                continue\n",
    "            item_id = line.strip().split(\",\")[idx]\n",
    "            item_ids.add(int(item_id))\n",
    "    return item_ids"
   ]
  },
  {
   "cell_type": "code",
   "execution_count": null,
   "id": "0af69cfa",
   "metadata": {
    "tags": []
   },
   "outputs": [],
   "source": [
    "def portable_hash(x):\n",
    "    return int(sha256(str(x).encode(\"utf-8\")).hexdigest(), 16)"
   ]
  },
  {
   "cell_type": "code",
   "execution_count": null,
   "id": "4f6d2f2d-9874-42e7-add0-593e9239692f",
   "metadata": {},
   "outputs": [],
   "source": [
    "def get_media_partition(media):\n",
    "    media_ids = set()\n",
    "    for file in glob.glob(f\"../user_media_facts/user_{media}_list.*.csv\"):\n",
    "        media_ids |= get_media_ids(file)\n",
    "    media_ids = sorted(\n",
    "        [x for x in media_ids if portable_hash(x) % NUM_PARTITIONS == PARTITION]\n",
    "    )\n",
    "    if not media_ids:\n",
    "        timeout = 600\n",
    "        logger.info(f\"Could not find {media} media_ids. Retrying in {timeout} seconds\")\n",
    "        time.sleep(timeout)\n",
    "        return get_media_partition(media)\n",
    "    return media_ids"
   ]
  },
  {
   "cell_type": "code",
   "execution_count": null,
   "id": "d13791d4-d18e-45d5-a421-383fe8c7f2b6",
   "metadata": {},
   "outputs": [],
   "source": [
    "@LOCK\n",
    "def merge(fn, df, idcol):\n",
    "    logger.info(f\"Saving {len(df)} entries to {fn}\")\n",
    "    if df.empty:\n",
    "        return\n",
    "    ts_col = \"accessed_at\"\n",
    "    df[ts_col] = int(time.time())\n",
    "    if os.path.exists(fn):\n",
    "        # if the api is down, then fallback to the last good state\n",
    "        saved_state = pd.read_csv(fn)\n",
    "        max_fallback_secs = 30 * 24 * 3600\n",
    "        saved_state = saved_state.query(f\"{ts_col} > {time.time() - max_fallback_secs}\")\n",
    "    else:\n",
    "        saved_state = pd.DataFrame()\n",
    "    df = pd.concat([df, saved_state])\n",
    "    df = df.groupby(idcol).first().reset_index()\n",
    "    for x in [\"source_id\", \"target_id\", idcol]:\n",
    "        if x in df.columns:\n",
    "            df[x] = df[x].astype(int)\n",
    "    df.to_csv(fn + \"~\", index=False)\n",
    "    os.rename(fn + \"~\", fn)"
   ]
  },
  {
   "cell_type": "code",
   "execution_count": null,
   "id": "cead93c2-f722-425b-9b9f-a28ba9789175",
   "metadata": {
    "tags": []
   },
   "outputs": [],
   "source": [
    "try:\n",
    "    mediums = [\"anime\", \"manga\"]\n",
    "    random.shuffle(mediums)\n",
    "    while True:\n",
    "        for medium in mediums:\n",
    "            media_ids = get_media_partition(medium)\n",
    "            random.shuffle(media_ids)\n",
    "            logger.info(f\"Collecting data for {len(media_ids)} {medium} entries\")\n",
    "            details = []\n",
    "            relations = []\n",
    "            details_fn = f\"{medium}.{PARTITION}.csv\"\n",
    "            relations_fn = f\"{medium}_relations.{PARTITION}.csv\"\n",
    "            for i, x in enumerate(tqdm(media_ids)):\n",
    "                d, r = get_media_facts(x, medium)\n",
    "                details.append(d)\n",
    "                relations.append(r)\n",
    "                if i % 500 == 0 or i == len(media_ids) - 1:\n",
    "                    merge(details_fn, pd.concat(details), f\"{medium}_id\")\n",
    "                    merge(relations_fn, pd.concat(relations), \"source_id\")\n",
    "                    details = []\n",
    "                    relations = []\n",
    "            assert len(details) == 0 and len(relations) == 0\n",
    "except Exception as e:\n",
    "    logger.info(traceback.format_exc())\n",
    "    logger.info(str(e))"
   ]
  }
 ],
 "metadata": {
  "kernelspec": {
   "display_name": "Python 3 (ipykernel)",
   "language": "python",
   "name": "python3"
  },
  "language_info": {
   "codemirror_mode": {
    "name": "ipython",
    "version": 3
   },
   "file_extension": ".py",
   "mimetype": "text/x-python",
   "name": "python",
   "nbconvert_exporter": "python",
   "pygments_lexer": "ipython3",
   "version": "3.10.12"
  }
 },
 "nbformat": 4,
 "nbformat_minor": 5
}
