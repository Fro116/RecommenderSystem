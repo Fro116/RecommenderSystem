{
 "cells": [
  {
   "cell_type": "markdown",
   "id": "f550bd4c-2e49-43ff-8d9b-a4189437fe95",
   "metadata": {},
   "source": [
    "# Get Media\n",
    "* Stores item information in `data/{SOURCE}/media_facts`"
   ]
  },
  {
   "cell_type": "code",
   "execution_count": null,
   "id": "16a55928-bc2d-4dfb-974f-2480e13c1f0c",
   "metadata": {},
   "outputs": [],
   "source": [
    "import glob\n",
    "import logging\n",
    "import os\n",
    "import random\n",
    "import sys\n",
    "import time\n",
    "import traceback\n",
    "from hashlib import sha256\n",
    "\n",
    "import pandas as pd\n",
    "from filelock import FileLock\n",
    "from tqdm import tqdm"
   ]
  },
  {
   "cell_type": "code",
   "execution_count": null,
   "id": "7c5d02e0-d861-4fa8-ae7d-7817ded0bdf3",
   "metadata": {
    "tags": [
     "parameters"
    ]
   },
   "outputs": [],
   "source": [
    "PARTITION = 0\n",
    "NUM_PARTITIONS = 1\n",
    "PROXY_NUMBER = 0\n",
    "NUM_PROXIES = 1\n",
    "SOURCE = \"\""
   ]
  },
  {
   "cell_type": "markdown",
   "id": "12519d36-ea48-4c1c-aa75-a6a7d84152ef",
   "metadata": {},
   "source": [
    "# Setup"
   ]
  },
  {
   "cell_type": "code",
   "execution_count": null,
   "id": "db31e62c-ec68-4257-bcd5-fc9d91f870d2",
   "metadata": {},
   "outputs": [],
   "source": [
    "def configure_logging(logfile):\n",
    "    name = f\"get_media_{SOURCE}\"\n",
    "    logger = logging.getLogger()\n",
    "    logger.handlers.clear()\n",
    "    logger.setLevel(logging.INFO)\n",
    "    formatter = logging.Formatter(\n",
    "        \"%(name)s:%(levelname)s:%(asctime)s: %(message)s\", datefmt=\"%Y-%m-%d %H:%M:%S\"\n",
    "    )\n",
    "    for stream in [\n",
    "        logging.handlers.RotatingFileHandler(\n",
    "            logfile, \"w+\", maxBytes=1000000, backupCount=1\n",
    "        ),\n",
    "    ]:\n",
    "        stream.setFormatter(formatter)\n",
    "        logger.addHandler(stream)"
   ]
  },
  {
   "cell_type": "code",
   "execution_count": null,
   "id": "b1c605fa-b1cd-430e-8256-a6a26b987140",
   "metadata": {},
   "outputs": [],
   "source": [
    "sys.path.append(\"..\")\n",
    "from API import anilist_api, animeplanet_api, api_setup, kitsu_api, mal_web_api\n",
    "\n",
    "if SOURCE == \"mal\":\n",
    "    api = mal_web_api\n",
    "    IDCOL = \"uid\"\n",
    "elif SOURCE == \"anilist\":\n",
    "    api = anilist_api\n",
    "    IDCOL = \"anilistid\"\n",
    "elif SOURCE == \"kitsu\":\n",
    "    api = kitsu_api\n",
    "    IDCOL = \"kitsuid\"\n",
    "elif SOURCE == \"animeplanet\":\n",
    "    api = animeplanet_api\n",
    "    IDCOL = \"url\"\n",
    "else:\n",
    "    assert False\n",
    "PROXIES = api_setup.load_proxies(PROXY_NUMBER, NUM_PROXIES)\n",
    "SESSION = api.make_session(PROXIES, 1)"
   ]
  },
  {
   "cell_type": "code",
   "execution_count": null,
   "id": "1e50d2d6-3aa2-4ae2-b6cb-8daa401f6ccf",
   "metadata": {},
   "outputs": [],
   "source": [
    "data_path = f\"../../../data/{SOURCE}/media_facts\"\n",
    "if not os.path.exists(data_path):\n",
    "    os.mkdir(data_path)\n",
    "os.chdir(data_path)"
   ]
  },
  {
   "cell_type": "code",
   "execution_count": null,
   "id": "73a6c248-3c1f-4717-8212-cdb15f8f8c76",
   "metadata": {},
   "outputs": [],
   "source": [
    "configure_logging(f\"get_media.{PARTITION}.log\")"
   ]
  },
  {
   "cell_type": "code",
   "execution_count": null,
   "id": "0f83c2a0-da6a-48bb-ae72-2cce3e2a6836",
   "metadata": {},
   "outputs": [],
   "source": [
    "LOCK_FILE = f\"../../{SOURCE}_media.lock\"\n",
    "LOCK = FileLock(LOCK_FILE, timeout=-1)"
   ]
  },
  {
   "cell_type": "markdown",
   "id": "fb69ce62-8fd4-4479-8197-1ced9a890b36",
   "metadata": {},
   "source": [
    "# Collect data"
   ]
  },
  {
   "cell_type": "code",
   "execution_count": null,
   "id": "bcf1666f-8e2d-4513-b009-079cc1d9e9ae",
   "metadata": {},
   "outputs": [],
   "source": [
    "def get_media_ids(input_fn):\n",
    "    item_ids = set()\n",
    "    with open(input_fn, \"r\") as in_file:\n",
    "        header = False\n",
    "        for line in tqdm(in_file):\n",
    "            if not header:\n",
    "                idx = line.strip().split(\",\").index(IDCOL)\n",
    "                header = True\n",
    "                continue\n",
    "            item_id = line.strip().split(\",\")[idx]\n",
    "            item_ids.add(item_id)\n",
    "    return item_ids"
   ]
  },
  {
   "cell_type": "code",
   "execution_count": null,
   "id": "0af69cfa",
   "metadata": {
    "tags": []
   },
   "outputs": [],
   "source": [
    "def portable_hash(x):\n",
    "    return int(sha256(str(x).encode(\"utf-8\")).hexdigest(), 16)"
   ]
  },
  {
   "cell_type": "code",
   "execution_count": null,
   "id": "4f6d2f2d-9874-42e7-add0-593e9239692f",
   "metadata": {},
   "outputs": [],
   "source": [
    "def get_media_partition(media):\n",
    "    media_ids = set()\n",
    "    for file in glob.glob(f\"../user_media_facts/user_{media}_list.*.csv\"):\n",
    "        media_ids |= get_media_ids(file)\n",
    "    media_ids = sorted(\n",
    "        [x for x in media_ids if portable_hash(x) % NUM_PARTITIONS == PARTITION]\n",
    "    )\n",
    "    if not media_ids:\n",
    "        timeout = 600\n",
    "        logging.info(f\"Could not find {media} media_ids. Retrying in {timeout} seconds\")\n",
    "        time.sleep(timeout)\n",
    "        return get_media_partition(media)\n",
    "    return media_ids"
   ]
  },
  {
   "cell_type": "code",
   "execution_count": null,
   "id": "d13791d4-d18e-45d5-a421-383fe8c7f2b6",
   "metadata": {},
   "outputs": [],
   "source": [
    "@LOCK\n",
    "def merge(fn, df, idcol):\n",
    "    logging.info(f\"Saving {len(df)} entries to {fn}\")\n",
    "    if df.empty:\n",
    "        return\n",
    "    ts_col = \"accessed_at\"\n",
    "    df[ts_col] = int(time.time())\n",
    "    # set column dtypes\n",
    "    intcols = [\"uid\", \"anilistid\", \"kitsuid\"]\n",
    "    if SOURCE != \"animeplanet\":\n",
    "        intcols += [\"source_id\", \"target_id\"]\n",
    "    for x in intcols:\n",
    "        if x in df.columns:\n",
    "            df[x] = df[x].astype(int)\n",
    "    if os.path.exists(fn):\n",
    "        # if the api is down, then fallback to the last good state\n",
    "        saved_state = pd.read_csv(fn, dtype={x: int for x in intcols})\n",
    "        max_fallback_secs = 30 * 24 * 3600\n",
    "        saved_state = saved_state.query(f\"{ts_col} > {time.time() - max_fallback_secs}\")\n",
    "        saved_state = saved_state.loc[lambda x: ~x[idcol].isin(df[idcol])]\n",
    "    else:\n",
    "        saved_state = pd.DataFrame()\n",
    "    df = pd.concat([df, saved_state])\n",
    "    df.to_csv(fn + \"~\", index=False)\n",
    "    os.rename(fn + \"~\", fn)"
   ]
  },
  {
   "cell_type": "code",
   "execution_count": null,
   "id": "cead93c2-f722-425b-9b9f-a28ba9789175",
   "metadata": {
    "tags": []
   },
   "outputs": [],
   "source": [
    "try:\n",
    "    mediums = [\"anime\", \"manga\"]\n",
    "    for medium in mediums:\n",
    "        media_ids = get_media_partition(medium)\n",
    "        random.shuffle(media_ids)\n",
    "        logging.info(f\"Collecting data for {len(media_ids)} {medium} entries\")\n",
    "        details = []\n",
    "        relations = []\n",
    "        details_fn = f\"{medium}.{PARTITION}.csv\"\n",
    "        relations_fn = f\"{medium}_relations.{PARTITION}.csv\"\n",
    "        for i, x in enumerate(tqdm(media_ids)):\n",
    "            d, r = api.get_media_facts(SESSION, x, medium)\n",
    "            details.append(d)\n",
    "            relations.append(r)\n",
    "            if i % 500 == 0 or i == len(media_ids) - 1:\n",
    "                merge(details_fn, pd.concat(details), IDCOL)\n",
    "                merge(relations_fn, pd.concat(relations), \"source_id\")\n",
    "                details = []\n",
    "                relations = []\n",
    "        assert len(details) == 0 and len(relations) == 0\n",
    "except Exception as e:\n",
    "    logging.info(traceback.format_exc(limit=10))\n",
    "    logging.info(str(e))\n",
    "    while True:\n",
    "        time.sleep(3600)"
   ]
  }
 ],
 "metadata": {
  "kernelspec": {
   "display_name": "Python 3 (ipykernel)",
   "language": "python",
   "name": "python3"
  },
  "language_info": {
   "codemirror_mode": {
    "name": "ipython",
    "version": 3
   },
   "file_extension": ".py",
   "mimetype": "text/x-python",
   "name": "python",
   "nbconvert_exporter": "python",
   "pygments_lexer": "ipython3",
   "version": "3.10.12"
  }
 },
 "nbformat": 4,
 "nbformat_minor": 5
}
