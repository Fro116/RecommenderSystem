{
 "cells": [
  {
   "cell_type": "code",
   "execution_count": null,
   "id": "4a03fd6d-4b06-4132-b3d3-64275c1352cc",
   "metadata": {},
   "outputs": [],
   "source": [
    "import contextlib\n",
    "import logging\n",
    "import os\n",
    "import shutil\n",
    "import time\n",
    "\n",
    "import pandas as pd\n",
    "import requests"
   ]
  },
  {
   "cell_type": "markdown",
   "id": "efda676c-b617-4429-91b6-acb87b3a2273",
   "metadata": {},
   "source": [
    "# Setup"
   ]
  },
  {
   "cell_type": "code",
   "execution_count": null,
   "id": "b2ef1d18-5e5f-4aaf-9a38-2c305d735240",
   "metadata": {},
   "outputs": [],
   "source": [
    "def import_notebook(nb):\n",
    "    cwd = os.getcwd()\n",
    "    try:\n",
    "        os.chdir(os.path.dirname(nb))\n",
    "        script = os.path.basename(nb)\n",
    "        %run $script\n",
    "    finally:\n",
    "        os.chdir(cwd)"
   ]
  },
  {
   "cell_type": "code",
   "execution_count": null,
   "id": "aacf9867-01d6-443a-b327-b162915d129d",
   "metadata": {},
   "outputs": [],
   "source": [
    "if source == \"mal\":\n",
    "    API_PERIOD = 4\n",
    "    import_notebook(\"../API/MalWebApi.ipynb\")\n",
    "elif source == \"animeplanet\":\n",
    "    import_notebook(\"../API/AnimeplanetApi.ipynb\")\n",
    "else:\n",
    "    assert False"
   ]
  },
  {
   "cell_type": "code",
   "execution_count": null,
   "id": "c8066819-42e5-4f2b-836b-4e8568cac976",
   "metadata": {},
   "outputs": [],
   "source": [
    "data_path = f\"../../../data/{source}/user_facts\"\n",
    "if not os.path.exists(data_path):\n",
    "    os.makedirs(data_path, exist_ok=True)\n",
    "os.chdir(data_path)"
   ]
  },
  {
   "cell_type": "markdown",
   "id": "777b1b7e-eee9-40e7-9de5-94ca690c3f21",
   "metadata": {},
   "source": [
    "# Logging"
   ]
  },
  {
   "cell_type": "code",
   "execution_count": null,
   "id": "76ca9842-87e1-4e50-bc62-d2e841380e74",
   "metadata": {},
   "outputs": [],
   "source": [
    "logger = logging.getLogger(name)\n",
    "logger.setLevel(logging.DEBUG)\n",
    "formatter = logging.Formatter(\n",
    "    \"%(name)s:%(levelname)s:%(asctime)s: %(message)s\", datefmt=\"%Y-%m-%d %H:%M:%S\"\n",
    ")\n",
    "LOG_FILE = f\"{name}.log\"\n",
    "for stream in [\n",
    "    logging.handlers.RotatingFileHandler(\n",
    "        LOG_FILE, \"w+\", maxBytes=1000000, backupCount=1\n",
    "    ),\n",
    "]:\n",
    "    stream.setFormatter(formatter)\n",
    "    logger.addHandler(stream)"
   ]
  },
  {
   "cell_type": "markdown",
   "id": "c39b18da-5e27-40b6-a4f6-70f5b9ca0bb7",
   "metadata": {},
   "source": [
    "# Saving"
   ]
  },
  {
   "cell_type": "code",
   "execution_count": null,
   "id": "6237682f-7432-4bb0-813c-14d6e784c2d6",
   "metadata": {},
   "outputs": [],
   "source": [
    "@contextlib.contextmanager\n",
    "def atomic_overwrite(filename):\n",
    "    temp = filename + \"~\"\n",
    "    with open(temp, \"w\") as f:\n",
    "        yield f\n",
    "    os.replace(temp, filename)\n",
    "\n",
    "\n",
    "def atomic_to_csv(collection, filename):\n",
    "    with atomic_overwrite(filename) as f:\n",
    "        pd.Series(collection).to_csv(f, header=False, index=False)"
   ]
  },
  {
   "cell_type": "code",
   "execution_count": null,
   "id": "271e4a8b-f314-4c1b-9a53-937963527ca9",
   "metadata": {},
   "outputs": [],
   "source": [
    "def should_save(reason, max_iters=3600):\n",
    "    should_save = False\n",
    "    if reason not in SAVE_REASONS:\n",
    "        SAVE_REASONS[reason] = (0, 1)\n",
    "    iterations_since_last_write, iterations_until_next_write = SAVE_REASONS[reason]\n",
    "    iterations_since_last_write += 1\n",
    "    if iterations_since_last_write >= iterations_until_next_write:\n",
    "        iterations_since_last_write = 0\n",
    "        iterations_until_next_write = min(2 * iterations_until_next_write, max_iters)\n",
    "        should_save = True\n",
    "        logger.info(\n",
    "            f\"Writing data for {reason}. Will next write data \"\n",
    "            f\"after {iterations_until_next_write} iterations\"\n",
    "        )\n",
    "    SAVE_REASONS[reason] = (iterations_since_last_write, iterations_until_next_write)\n",
    "    return should_save\n",
    "\n",
    "\n",
    "SAVE_REASONS = {}"
   ]
  }
 ],
 "metadata": {
  "kernelspec": {
   "display_name": "Python 3 (ipykernel)",
   "language": "python",
   "name": "python3"
  },
  "language_info": {
   "codemirror_mode": {
    "name": "ipython",
    "version": 3
   },
   "file_extension": ".py",
   "mimetype": "text/x-python",
   "name": "python",
   "nbconvert_exporter": "python",
   "pygments_lexer": "ipython3",
   "version": "3.10.12"
  }
 },
 "nbformat": 4,
 "nbformat_minor": 5
}
