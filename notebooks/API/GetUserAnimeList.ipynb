{
 "cells": [
  {
   "cell_type": "code",
   "execution_count": 1,
   "id": "16a55928-bc2d-4dfb-974f-2480e13c1f0c",
   "metadata": {},
   "outputs": [],
   "source": [
    "import json\n",
    "import os\n",
    "\n",
    "import pandas as pd\n",
    "import requests\n",
    "from ratelimit import limits, sleep_and_retry\n",
    "from tqdm import tqdm"
   ]
  },
  {
   "cell_type": "code",
   "execution_count": 2,
   "id": "1e50d2d6-3aa2-4ae2-b6cb-8daa401f6ccf",
   "metadata": {},
   "outputs": [],
   "source": [
    "data_path = \"../../data/user_facts\"\n",
    "if not os.path.exists(data_path):\n",
    "    os.mkdir(data_path)\n",
    "os.chdir(data_path)"
   ]
  },
  {
   "cell_type": "code",
   "execution_count": 3,
   "id": "a36dd4e4-5e93-4e57-bfca-8f271e4afce8",
   "metadata": {},
   "outputs": [],
   "source": [
    "token = json.load(open(\"../mal_authentication/token.json\", \"r\"))"
   ]
  },
  {
   "cell_type": "code",
   "execution_count": 4,
   "id": "a872e694-1db1-4d9c-b84f-6d6ed5700f9a",
   "metadata": {},
   "outputs": [],
   "source": [
    "# Limit api requests to 2 calls per second\n",
    "@sleep_and_retry\n",
    "@limits(calls=1, period=0.51)\n",
    "def call_api(url):\n",
    "    response = requests.get(\n",
    "        url, headers={\"Authorization\": f'Bearer {token[\"access_token\"]}'}\n",
    "    )\n",
    "    return response"
   ]
  },
  {
   "cell_type": "code",
   "execution_count": 5,
   "id": "91330d5a-2086-4d4f-8938-919b16f0560e",
   "metadata": {},
   "outputs": [],
   "source": [
    "with open(\"usernames.txt\", \"r\") as f:\n",
    "    usernames = [x.strip() for x in f.readlines()]"
   ]
  },
  {
   "cell_type": "code",
   "execution_count": 6,
   "id": "7645a852-54df-4152-88e7-76570b550c78",
   "metadata": {},
   "outputs": [],
   "source": [
    "def process_json(json):\n",
    "    return pd.DataFrame.from_records(\n",
    "        [(x['node']['id'], x['node']['score'] if 'score' in x['node'] else 0) for x in json['data']],\n",
    "                         columns = ['anime_id', 'my_score']\n",
    "    )"
   ]
  },
  {
   "cell_type": "code",
   "execution_count": 7,
   "id": "e1ab2a76-a736-4d48-92dc-6d422fdf08a8",
   "metadata": {},
   "outputs": [],
   "source": [
    "def get_user_anime_list(username):\n",
    "    anime_lists = []\n",
    "    more_pages = True\n",
    "    url = f'https://api.myanimelist.net/v2/users/{username}/animelist?limit=1000&fields=list_status'\n",
    "    while more_pages:\n",
    "        response = call_api(url)\n",
    "    \n",
    "        if response.status_code == 403 or response.status_code == 404:\n",
    "            # 403: This can occur if the user privated their list\n",
    "            # 404: This can occur if the user deleted their account\n",
    "            return pd.DataFrame(), False\n",
    "    \n",
    "        response.raise_for_status()\n",
    "        json = response.json()\n",
    "        anime_lists.append(process_json(json))\n",
    "        \n",
    "        more_pages = 'next' in json['paging']\n",
    "        if more_pages:\n",
    "            url = json['paging']['next']\n",
    "    user_anime_list = pd.concat(anime_lists, ignore_index=True)\n",
    "    user_anime_list['username'] = username\n",
    "    return user_anime_list, True"
   ]
  },
  {
   "cell_type": "code",
   "execution_count": 8,
   "id": "5eff37af-acda-491d-9f30-2deec9e4c6a5",
   "metadata": {},
   "outputs": [
    {
     "name": "stderr",
     "output_type": "stream",
     "text": [
      "100%|██████████████████████████████████████████████████████████████████████████████████| 10/10 [00:11<00:00,  1.17s/it]\n"
     ]
    }
   ],
   "source": [
    "user_anime_lists = []\n",
    "failed_users = []\n",
    "for username in tqdm(usernames[:10]):\n",
    "    user_anime_list, ok = get_user_anime_list(username)\n",
    "    if not ok:\n",
    "        failed_users.append(username)\n",
    "    user_anime_lists.append(user_anime_list)"
   ]
  }
 ],
 "metadata": {
  "kernelspec": {
   "display_name": "Python 3",
   "language": "python",
   "name": "python3"
  },
  "language_info": {
   "codemirror_mode": {
    "name": "ipython",
    "version": 3
   },
   "file_extension": ".py",
   "mimetype": "text/x-python",
   "name": "python",
   "nbconvert_exporter": "python",
   "pygments_lexer": "ipython3",
   "version": "3.8.8"
  }
 },
 "nbformat": 4,
 "nbformat_minor": 5
}
