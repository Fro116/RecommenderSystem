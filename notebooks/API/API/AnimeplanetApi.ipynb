{
 "cells": [
  {
   "cell_type": "markdown",
   "id": "2636ebe7-77c8-4001-8702-72ac634b15b0",
   "metadata": {},
   "source": [
    "# Setup"
   ]
  },
  {
   "cell_type": "code",
   "execution_count": null,
   "id": "6e811617-e774-4fe9-9a55-f39898b45861",
   "metadata": {},
   "outputs": [],
   "source": [
    "import re"
   ]
  },
  {
   "cell_type": "code",
   "execution_count": null,
   "id": "4a03fd6d-4b06-4132-b3d3-64275c1352cc",
   "metadata": {},
   "outputs": [],
   "source": [
    "API_PERIOD = 4\n",
    "%run ApiSetup.ipynb"
   ]
  },
  {
   "cell_type": "markdown",
   "id": "5a08230f-e881-4664-a959-3f6fe2af1f6b",
   "metadata": {
    "execution": {
     "iopub.execute_input": "2023-10-04T22:57:12.060735Z",
     "iopub.status.busy": "2023-10-04T22:57:12.060201Z",
     "iopub.status.idle": "2023-10-04T22:57:12.064878Z",
     "shell.execute_reply": "2023-10-04T22:57:12.064055Z",
     "shell.execute_reply.started": "2023-10-04T22:57:12.060704Z"
    }
   },
   "source": [
    "# Parse AnimePlanet API"
   ]
  },
  {
   "cell_type": "code",
   "execution_count": null,
   "id": "52f6b55e-a77d-4402-b45e-33fa7129cf59",
   "metadata": {},
   "outputs": [],
   "source": [
    "def call_api(url):\n",
    "    header = (\n",
    "        \"Mozilla/5.0 (Macintosh; Intel Mac OS X 14_0) \"\n",
    "        \"AppleWebKit/537.36 (KHTML, like Gecko) \"\n",
    "        \"Chrome/117.0.0.0 Safari/537.36\"\n",
    "    )\n",
    "    return call_api_internal(\n",
    "        url, \"GET\", \"web\", extra_error_codes=[403], headers={\"User-Agent\": header}\n",
    "    )"
   ]
  },
  {
   "cell_type": "code",
   "execution_count": null,
   "id": "f3e1b02d-38ac-4875-8a6d-eae6543cf347",
   "metadata": {},
   "outputs": [],
   "source": [
    "MATCHFIELD = \"\"\"([^<>]+)\"\"\"\n",
    "\n",
    "\n",
    "def unpack(x):\n",
    "    assert len(x) == 1\n",
    "    return x[0]"
   ]
  },
  {
   "cell_type": "code",
   "execution_count": null,
   "id": "048668bc-cf1e-41da-853f-e07d28b7fec6",
   "metadata": {},
   "outputs": [],
   "source": [
    "def is_private_list(resp, username):\n",
    "    usernames = re.findall(\n",
    "        MATCHFIELD + \" has chosen to make their content private.\", resp.text\n",
    "    )\n",
    "    if not usernames:\n",
    "        return False\n",
    "    assert unpack(usernames).lower().strip() == username.lower()\n",
    "    return True\n",
    "\n",
    "\n",
    "def is_invalid_user(resp, username):\n",
    "    return f\"<title>Search Results for {username}\" in resp.text\n",
    "\n",
    "\n",
    "def get_title(x):\n",
    "    return sanitize_string(\n",
    "        unpack(re.findall('<h3 class=\"cardName\">' + MATCHFIELD + \"</h3>\", x))\n",
    "    )\n",
    "\n",
    "\n",
    "def get_score(x):\n",
    "    scores = re.findall('<div class=\"ttRating\">' + MATCHFIELD + \"</div>\", x)\n",
    "    if not scores:\n",
    "        return \"0\"\n",
    "    return str(2 * float(unpack(scores)))\n",
    "\n",
    "\n",
    "def get_status(x):\n",
    "    status = re.findall('<span class=\"status' + MATCHFIELD + '\">', x)\n",
    "    return unpack(status)\n",
    "\n",
    "\n",
    "def get_progress(x, medium):\n",
    "    if medium == \"anime\":\n",
    "        suffix = \"eps\"\n",
    "    elif medium == \"manga\":\n",
    "        suffix = \"chs\"\n",
    "    else:\n",
    "        assert False\n",
    "    progress = re.findall(\"</span> \" + MATCHFIELD + f\" {suffix}</div>\", x)\n",
    "    if not progress:\n",
    "        return 0\n",
    "    return unpack(progress)\n",
    "\n",
    "\n",
    "def parse_entry(x, medium):\n",
    "    return (get_title(x), get_score(x), get_status(x), get_progress(x, medium))\n",
    "\n",
    "\n",
    "def get_page_entries(resp):\n",
    "    return [x for x in resp.text.split(\"\\n\") if '<h3 class=\"cardName\">' in x]\n",
    "\n",
    "\n",
    "def get_page_numbers(resp):\n",
    "    return set(re.findall('page=([0-9]*)\">', resp.text))"
   ]
  },
  {
   "cell_type": "code",
   "execution_count": null,
   "id": "42a05aa3-fbcc-4bff-a9cb-c046731eb2c7",
   "metadata": {},
   "outputs": [],
   "source": [
    "def get_feed_entries(resp):\n",
    "    return [x for x in resp.text.split(\"\\n\") if \"data-timestamp\" in x]\n",
    "\n",
    "\n",
    "def get_feed_title(x):\n",
    "    return unpack(re.findall('\">' + MATCHFIELD + f\"</h5>\", x))\n",
    "\n",
    "\n",
    "def get_feed_timestamp(x):\n",
    "    return unpack(re.findall('data-timestamp=\"' + MATCHFIELD + f'\">', x))\n",
    "\n",
    "\n",
    "def get_feed_data(username, medium):\n",
    "    feed_data = {}\n",
    "    next_page = True\n",
    "    page = 0\n",
    "    while next_page and page < 15:\n",
    "        page += 1\n",
    "        url = (\n",
    "            f\"https://www.anime-planet.com/users/{username}\"\n",
    "            + f\"/feed?type={medium}&page={page}\"\n",
    "        )\n",
    "        resp = call_api(url)\n",
    "        if not resp.ok:\n",
    "            return {}, False\n",
    "        next_page = False\n",
    "        data = get_feed_entries(resp)\n",
    "        if data:\n",
    "            next_page = True\n",
    "            for x in data:\n",
    "                key = get_feed_title(x)\n",
    "                if key not in feed_data:\n",
    "                    feed_data[key] = get_feed_timestamp(x)\n",
    "    return feed_data, True"
   ]
  },
  {
   "cell_type": "code",
   "execution_count": null,
   "id": "61ff8fb4-a45a-4f81-84e6-fb3cbdb7646e",
   "metadata": {},
   "outputs": [],
   "source": [
    "def get_user_media_list(username, medium):\n",
    "    page = 0\n",
    "    next_page = True\n",
    "    records = []\n",
    "    while next_page:\n",
    "        page += 1\n",
    "        url = (\n",
    "            f\"https://www.anime-planet.com/users/{username}\"\n",
    "            + f\"/{medium}?sort=user_updated&order=desc&per_page=560\"\n",
    "            + f\"&page={page}\"\n",
    "        )\n",
    "        resp = call_api(url)\n",
    "        if (\n",
    "            not resp.ok\n",
    "            or is_private_list(resp, username)\n",
    "            or is_invalid_user(resp, username)\n",
    "        ):\n",
    "            return pd.DataFrame(), False\n",
    "        for x in get_page_entries(resp):\n",
    "            records.append(parse_entry(x, medium))\n",
    "        if str(page + 1) not in get_page_numbers(resp):\n",
    "            next_page = False\n",
    "    df = pd.DataFrame(\n",
    "        data=list(reversed(records)), columns=[\"title\", \"score\", \"status\", \"progress\"]\n",
    "    )\n",
    "    if len(df) > 0:\n",
    "        feed_data, feed_ok = get_feed_data(username, medium)\n",
    "        if not feed_ok:\n",
    "            logging.info(f\"Cannot parse feed for {username} {medium}\")\n",
    "    else:\n",
    "        feed_data = {}\n",
    "    df[\"updated_at\"] = 0\n",
    "    for i in range(len(df)):\n",
    "        df.loc[i, \"updated_at\"] = int(feed_data.get(df.loc[i, \"title\"], 0))\n",
    "    df[\"item_order\"] = list(range(len(df)))\n",
    "    df[\"username\"] = username\n",
    "    return df, True"
   ]
  }
 ],
 "metadata": {
  "kernelspec": {
   "display_name": "Python 3 (ipykernel)",
   "language": "python",
   "name": "python3"
  },
  "language_info": {
   "codemirror_mode": {
    "name": "ipython",
    "version": 3
   },
   "file_extension": ".py",
   "mimetype": "text/x-python",
   "name": "python",
   "nbconvert_exporter": "python",
   "pygments_lexer": "ipython3",
   "version": "3.9.6"
  }
 },
 "nbformat": 4,
 "nbformat_minor": 5
}
