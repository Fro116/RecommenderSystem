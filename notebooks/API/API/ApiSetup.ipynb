{
 "cells": [
  {
   "cell_type": "code",
   "execution_count": null,
   "id": "29b0734e-b9c2-4737-bee0-f057ab0f3ed8",
   "metadata": {},
   "outputs": [],
   "source": [
    "import logging\n",
    "import os\n",
    "import random\n",
    "import time\n",
    "\n",
    "import pandas as pd\n",
    "import requests\n",
    "from ratelimit import limits, sleep_and_retry"
   ]
  },
  {
   "cell_type": "markdown",
   "id": "6db420e8-150a-4cb4-a72f-68dcd2c3c0c9",
   "metadata": {},
   "source": [
    "# Logging"
   ]
  },
  {
   "cell_type": "code",
   "execution_count": null,
   "id": "acd45232-0eac-4fc2-9be9-13c2f348c22a",
   "metadata": {},
   "outputs": [],
   "source": [
    "try:\n",
    "    logger\n",
    "except NameError:\n",
    "    logger = logging.getLogger(\"\")"
   ]
  },
  {
   "cell_type": "markdown",
   "id": "4172e997-2dc1-4941-8a4d-07ed52c6561c",
   "metadata": {},
   "source": [
    "# Proxies"
   ]
  },
  {
   "cell_type": "code",
   "execution_count": null,
   "id": "2bee0d51-f337-4280-b55f-6a9a9c121502",
   "metadata": {},
   "outputs": [],
   "source": [
    "def get_datapath(path):\n",
    "    datapath = os.getcwd()\n",
    "    while datapath.split(\"/\")[-1] not in [\"notebooks\", \"data\"]:\n",
    "        datapath = \"/\".join(datapath.split(\"/\")[:-1])\n",
    "    datapath = \"/\".join(datapath.split(\"/\")[:-1])\n",
    "    return os.path.join(datapath, \"data\", path)"
   ]
  },
  {
   "cell_type": "code",
   "execution_count": null,
   "id": "c9e035f2-1570-434e-a84b-27fa78d5610e",
   "metadata": {},
   "outputs": [],
   "source": [
    "def setup_proxy(index, fn):\n",
    "    if not os.path.exists(fn):\n",
    "        assert index == 0\n",
    "        return None\n",
    "\n",
    "    proxylist = []\n",
    "    with open(fn) as f:\n",
    "        for line in f:\n",
    "            proxyurl, port, username, password = line.strip().split(\":\")\n",
    "            proxylist.append(f\"http://{username}:{password}@{proxyurl}:{port}\")\n",
    "    return {domain: proxylist[index] for domain in [\"http\", \"https\"]}"
   ]
  },
  {
   "cell_type": "code",
   "execution_count": null,
   "id": "37186390-d3c0-4602-974c-d08b310a1222",
   "metadata": {},
   "outputs": [],
   "source": [
    "if PROXY_NUMBER == \"SHARED\":\n",
    "    proxyfn = get_datapath(\"../environment/proxies/proxies.txt\")\n",
    "    with open(proxyfn, \"r\") as f:\n",
    "        num_proxies = len(f.readlines())\n",
    "    IN_PROXY = [\n",
    "        setup_proxy(x, proxyfn)\n",
    "        for x in range(num_proxies)\n",
    "        if (x % NUM_PARTITIONS) == PARTITION\n",
    "    ]\n",
    "    OUT_PROXY = [\n",
    "        setup_proxy(x, proxyfn)\n",
    "        for x in range(num_proxies)\n",
    "        if (x % NUM_PARTITIONS) != PARTITION\n",
    "    ]\n",
    "    random.shuffle(IN_PROXY)\n",
    "    random.shuffle(OUT_PROXY)\n",
    "    PROXY = IN_PROXY + OUT_PROXY\n",
    "else:\n",
    "    PROXY = [\n",
    "        setup_proxy(\n",
    "            int(PROXY_NUMBER),\n",
    "            get_datapath(\"../environment/proxies/proxies.txt\"),\n",
    "        )\n",
    "    ]"
   ]
  },
  {
   "cell_type": "code",
   "execution_count": null,
   "id": "957061e7-a57f-4ff0-9e86-bb98643baa25",
   "metadata": {},
   "outputs": [],
   "source": [
    "def reset_session():\n",
    "    global SESSION\n",
    "    global PROXY\n",
    "    x = PROXY.pop(0)\n",
    "    PROXY.append(x)\n",
    "    SESSION = requests.Session()\n",
    "    SESSION.proxies.update(x)"
   ]
  },
  {
   "cell_type": "code",
   "execution_count": null,
   "id": "07f4c41e-8d7d-4d28-bd55-b9432e547d2c",
   "metadata": {},
   "outputs": [],
   "source": [
    "SESSION = None\n",
    "reset_session()"
   ]
  },
  {
   "cell_type": "markdown",
   "id": "d8a1bac9-174c-4ef3-9642-16b162edc37b",
   "metadata": {
    "tags": []
   },
   "source": [
    "# API endpoint"
   ]
  },
  {
   "cell_type": "code",
   "execution_count": null,
   "id": "5b95ea4a-ab08-45e7-8cc2-d4f07732e412",
   "metadata": {},
   "outputs": [],
   "source": [
    "try:\n",
    "    API_PERIOD_MULT\n",
    "except NameError:\n",
    "    API_PERIOD_MULT = 1"
   ]
  },
  {
   "cell_type": "code",
   "execution_count": null,
   "id": "d3e67786-b939-44e9-a03f-ddf8ff08109e",
   "metadata": {},
   "outputs": [],
   "source": [
    "@sleep_and_retry\n",
    "@limits(calls=1, period=API_PERIOD * API_PERIOD_MULT)\n",
    "def call_api_internal(\n",
    "    url, request_type, source, retry_timeout=1, extra_error_codes=[], **kwargs\n",
    "):\n",
    "    if request_type == \"POST\":\n",
    "        request_call = SESSION.post\n",
    "    elif request_type == \"GET\":\n",
    "        request_call = SESSION.get\n",
    "    else:\n",
    "        raise ValueError(f\"Invalid request type {request_type}\")\n",
    "\n",
    "    max_timeout = 300\n",
    "    response = None\n",
    "    try:\n",
    "        response = request_call(url, timeout=5, **kwargs)\n",
    "        if (\n",
    "            response.status_code\n",
    "            in [409, 429, 500, 502, 503, 504, 520, 530] + extra_error_codes\n",
    "            and retry_timeout < max_timeout\n",
    "        ):\n",
    "            # transient errors\n",
    "            raise Exception(f\"{response.status_code}\")\n",
    "        if (\n",
    "            source == \"mal\"\n",
    "            and response.status_code == 200\n",
    "            and \"data\" not in response.json()\n",
    "            and retry_timeout < max_timeout\n",
    "        ):\n",
    "            # sometimes the response returns 200 but is empty\n",
    "            raise Exception(f\"{response.status_code}\")\n",
    "        if response.status_code in [401]:\n",
    "            logger.error(\"Authentication token expired\")\n",
    "            return response\n",
    "    except Exception as e:\n",
    "        if response is not None:\n",
    "            if \"Retry-After\" in response.headers:\n",
    "                retry_timeout = int(response.headers[\"Retry-After\"])\n",
    "            logger.warning(f\"Error {response} received when handling {url}\")\n",
    "        logger.warning(\n",
    "            f\"Received error '{str(e)}' while accessing {url}. Retrying in {retry_timeout} seconds\"\n",
    "        )\n",
    "        time.sleep(retry_timeout)\n",
    "        retry_timeout = min(retry_timeout * 2, max_timeout)\n",
    "        reset_session()\n",
    "        return call_api_internal(\n",
    "            url,\n",
    "            request_type,\n",
    "            source,\n",
    "            retry_timeout,\n",
    "            extra_error_codes=extra_error_codes,\n",
    "            **kwargs,\n",
    "        )\n",
    "    return response"
   ]
  },
  {
   "cell_type": "markdown",
   "id": "150c695d-5587-4c1e-bde9-ed1831486cb0",
   "metadata": {},
   "source": [
    "# Data cleaning"
   ]
  },
  {
   "cell_type": "code",
   "execution_count": null,
   "id": "45eef05b-5051-43af-a4ee-c1af9d1c1b46",
   "metadata": {},
   "outputs": [],
   "source": [
    "def sanitize_string(x):\n",
    "    # to support string and newline parsing\n",
    "    if x is None:\n",
    "        return \"\"\n",
    "    replacements = {\n",
    "        \"\\n\": \" \",\n",
    "        \"\\r\": \" \",\n",
    "        \",\": \" \",\n",
    "        \"\\x00\": \" \",\n",
    "    }\n",
    "    for k, v in replacements.items():\n",
    "        x = x.replace(k, v)\n",
    "    return x"
   ]
  },
  {
   "cell_type": "code",
   "execution_count": null,
   "id": "8411137b-d019-4aa5-8a71-0f77388be631",
   "metadata": {},
   "outputs": [],
   "source": [
    "def to_unix_time(date, fmt):\n",
    "    time = int(datetime.datetime.timestamp(datetime.datetime.strptime(date, fmt)))\n",
    "    if time < 0:\n",
    "        logger.warning(f\"Could not parse timestamp {date} {fmt} {time}\")\n",
    "        time = 0\n",
    "    return time"
   ]
  }
 ],
 "metadata": {
  "kernelspec": {
   "display_name": "Python 3 (ipykernel)",
   "language": "python",
   "name": "python3"
  },
  "language_info": {
   "codemirror_mode": {
    "name": "ipython",
    "version": 3
   },
   "file_extension": ".py",
   "mimetype": "text/x-python",
   "name": "python",
   "nbconvert_exporter": "python",
   "pygments_lexer": "ipython3",
   "version": "3.10.12"
  }
 },
 "nbformat": 4,
 "nbformat_minor": 5
}
