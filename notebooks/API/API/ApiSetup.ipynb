{
 "cells": [
  {
   "cell_type": "code",
   "execution_count": null,
   "id": "29b0734e-b9c2-4737-bee0-f057ab0f3ed8",
   "metadata": {},
   "outputs": [],
   "source": [
    "import logging\n",
    "import os\n",
    "import time\n",
    "\n",
    "import pandas as pd\n",
    "import requests\n",
    "from ratelimit import limits, sleep_and_retry"
   ]
  },
  {
   "cell_type": "markdown",
   "id": "6db420e8-150a-4cb4-a72f-68dcd2c3c0c9",
   "metadata": {},
   "source": [
    "# Logging"
   ]
  },
  {
   "cell_type": "code",
   "execution_count": null,
   "id": "acd45232-0eac-4fc2-9be9-13c2f348c22a",
   "metadata": {},
   "outputs": [],
   "source": [
    "try:\n",
    "    logger\n",
    "except:\n",
    "    logger = logging.getLogger(\"\")"
   ]
  },
  {
   "cell_type": "markdown",
   "id": "4172e997-2dc1-4941-8a4d-07ed52c6561c",
   "metadata": {},
   "source": [
    "# Proxies"
   ]
  },
  {
   "cell_type": "code",
   "execution_count": null,
   "id": "2bee0d51-f337-4280-b55f-6a9a9c121502",
   "metadata": {},
   "outputs": [],
   "source": [
    "def get_datapath(path):\n",
    "    datapath = os.getcwd()\n",
    "    while datapath.split(\"/\")[-1] not in [\"notebooks\", \"data\"]:\n",
    "        datapath = \"/\".join(datapath.split(\"/\")[:-1])\n",
    "    datapath = \"/\".join(datapath.split(\"/\")[:-1])\n",
    "    return os.path.join(datapath, \"data\", path)"
   ]
  },
  {
   "cell_type": "code",
   "execution_count": null,
   "id": "c9e035f2-1570-434e-a84b-27fa78d5610e",
   "metadata": {},
   "outputs": [],
   "source": [
    "PROXYLIST = []\n",
    "if os.path.exists(get_datapath(\"proxies/proxies.txt\")):\n",
    "    with open(get_datapath(\"proxies/proxies.txt\")) as f:\n",
    "        for line in f:\n",
    "            proxyurl, port, username, password = line.strip().split(\":\")\n",
    "            PROXYLIST.append(f\"http://{username}:{password}@{proxyurl}:{port}\")\n",
    "PROXYLIST_INDEX = 0"
   ]
  },
  {
   "cell_type": "code",
   "execution_count": null,
   "id": "e2438c76-8582-45f3-9a03-c231f6379045",
   "metadata": {},
   "outputs": [],
   "source": [
    "try:\n",
    "    PROXY_PARTITION\n",
    "    PROXYLIST = [\n",
    "        x\n",
    "        for i, x in enumerate(PROXYLIST)\n",
    "        if i % int(PROXY_PARTITION.split(\",\")[1]) == int(PROXY_PARTITION.split(\",\")[0])\n",
    "    ]\n",
    "except:\n",
    "    pass\n",
    "try:\n",
    "    PROXY_NUMBER\n",
    "    PROXYLIST = [PROXYLIST[PROXY_NUMBER]]\n",
    "except:\n",
    "    pass"
   ]
  },
  {
   "cell_type": "code",
   "execution_count": null,
   "id": "fefc6aea-06d6-4536-9b15-9685b8a0729c",
   "metadata": {},
   "outputs": [],
   "source": [
    "def get_proxy(source):\n",
    "    if not PROXYLIST:\n",
    "        return None\n",
    "    global PROXYLIST_INDEX\n",
    "    if source == \"mal\":\n",
    "        # switching between proxies can cause the auth token to expire\n",
    "        assert PROXYLIST_INDEX == 0\n",
    "    else:\n",
    "        PROXYLIST_INDEX = (PROXYLIST_INDEX + 1) % len(PROXYLIST)\n",
    "    proxy = {domain: PROXYLIST[PROXYLIST_INDEX] for domain in [\"http\", \"https\"]}\n",
    "    return proxy"
   ]
  },
  {
   "cell_type": "markdown",
   "id": "d8a1bac9-174c-4ef3-9642-16b162edc37b",
   "metadata": {},
   "source": [
    "# API endpoint"
   ]
  },
  {
   "cell_type": "code",
   "execution_count": null,
   "id": "9be0a5e7-5181-4703-903c-8cddad1a0db1",
   "metadata": {},
   "outputs": [],
   "source": [
    "try:\n",
    "    API_PERIOD_MULT\n",
    "    assert(API_PERIOD_MULT >= 1)\n",
    "    API_PERIOD = API_PERIOD * API_PERIOD_MULT\n",
    "except:\n",
    "    pass\n",
    "try:\n",
    "    API_PERIOD = API_PERIOD / max(len(PROXYLIST), 1)\n",
    "except:\n",
    "    pass\n",
    "try:\n",
    "    MIN_API_PERIOD\n",
    "    API_PERIOD = max(API_PERIOD, MIN_API_PERIOD)\n",
    "except:\n",
    "    pass"
   ]
  },
  {
   "cell_type": "code",
   "execution_count": null,
   "id": "d3e67786-b939-44e9-a03f-ddf8ff08109e",
   "metadata": {},
   "outputs": [],
   "source": [
    "@sleep_and_retry\n",
    "@limits(calls=1, period=API_PERIOD)\n",
    "def call_api_internal(\n",
    "    url, request_type, source, retry_timeout=1, extra_error_codes=[], **kwargs\n",
    "):\n",
    "    if request_type == \"POST\":\n",
    "        request_call = requests.post\n",
    "    elif request_type == \"GET\":\n",
    "        request_call = requests.get\n",
    "    else:\n",
    "        raise ValueError(f\"Invalid request type {request_type}\")\n",
    "\n",
    "    response = None\n",
    "    try:\n",
    "        response = request_call(url, proxies=get_proxy(source), timeout=5, **kwargs)\n",
    "        if (\n",
    "            response.status_code in [500, 502, 504, 429, 409, 530] + extra_error_codes\n",
    "            and retry_timeout < 3600\n",
    "        ):\n",
    "            # transient errors\n",
    "            raise Exception(f\"{response.status_code}\")\n",
    "        if response.status_code in [401]:\n",
    "            logger.error(\"Authentication token expired\")\n",
    "            sys.exit(1)\n",
    "    except Exception as e:\n",
    "        if response is not None:\n",
    "            if \"Retry-After\" in response.headers:\n",
    "                retry_timeout = int(response.headers[\"Retry-After\"])\n",
    "        logger.warning(\n",
    "            f\"Received error '{str(e)}' while accessing {url}. Retrying in {retry_timeout} seconds\"\n",
    "        )\n",
    "        time.sleep(retry_timeout)\n",
    "        retry_timeout = min(retry_timeout * 2, 3600)\n",
    "        return call_api_internal(url, request_type, source, retry_timeout, **kwargs)\n",
    "    return response"
   ]
  }
 ],
 "metadata": {
  "kernelspec": {
   "display_name": "Python 3 (ipykernel)",
   "language": "python",
   "name": "python3"
  },
  "language_info": {
   "codemirror_mode": {
    "name": "ipython",
    "version": 3
   },
   "file_extension": ".py",
   "mimetype": "text/x-python",
   "name": "python",
   "nbconvert_exporter": "python",
   "pygments_lexer": "ipython3",
   "version": "3.10.6"
  }
 },
 "nbformat": 4,
 "nbformat_minor": 5
}
