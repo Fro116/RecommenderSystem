{
 "cells": [
  {
   "cell_type": "markdown",
   "id": "f92c3878-79ca-49f7-a9d1-1f1989588b86",
   "metadata": {},
   "source": [
    "# Setup"
   ]
  },
  {
   "cell_type": "code",
   "execution_count": null,
   "id": "2adf6ffa-2013-4f6e-add2-89ea26416272",
   "metadata": {},
   "outputs": [],
   "source": [
    "API_PERIOD = 2\n",
    "%run ApiSetup.ipynb"
   ]
  },
  {
   "cell_type": "markdown",
   "id": "95476cec-b48d-49e0-8b71-aa06615fc65d",
   "metadata": {
    "tags": []
   },
   "source": [
    "# Parse AniList API"
   ]
  },
  {
   "cell_type": "code",
   "execution_count": null,
   "id": "8b037ab9-8ea2-4e96-9f8a-caa45800930f",
   "metadata": {},
   "outputs": [],
   "source": [
    "def call_api(url, json):\n",
    "    return call_api_internal(url, \"POST\", \"anilist\", json=json)"
   ]
  },
  {
   "cell_type": "code",
   "execution_count": null,
   "id": "4306dc7e-5edc-4b68-8270-09a918e6e32e",
   "metadata": {},
   "outputs": [],
   "source": [
    "def sanitize_date(x):\n",
    "    def get(x, key, default):\n",
    "        y = x.get(key, default)\n",
    "        if y is None:\n",
    "            return default\n",
    "        return y\n",
    "\n",
    "    return f'{get(x, \"year\", \"\")}-{get(x, \"month\", \"\")}-{get(x, \"date\", \"\")}'"
   ]
  },
  {
   "cell_type": "code",
   "execution_count": null,
   "id": "8d5badb7-5c91-408e-b917-5c22260720e9",
   "metadata": {},
   "outputs": [],
   "source": [
    "def process_json(json):\n",
    "    records = [\n",
    "        (\n",
    "            entry[\"media\"][\"idMal\"],\n",
    "            entry[\"score\"],\n",
    "            entry[\"status\"],\n",
    "            entry[\"progress\"],\n",
    "            entry[\"progressVolumes\"],\n",
    "            entry[\"repeat\"],\n",
    "            entry[\"priority\"],\n",
    "            sanitize_string(entry[\"notes\"]),\n",
    "            sanitize_date(entry[\"startedAt\"]),\n",
    "            sanitize_date(entry[\"completedAt\"]),\n",
    "            entry[\"updatedAt\"],\n",
    "            entry[\"createdAt\"],\n",
    "        )\n",
    "        for x in json[\"data\"][\"MediaListCollection\"][\"lists\"]\n",
    "        for entry in x[\"entries\"]\n",
    "    ]\n",
    "    df = pd.DataFrame.from_records(\n",
    "        records,\n",
    "        columns=[\n",
    "            \"uid\",\n",
    "            \"score\",\n",
    "            \"status\",\n",
    "            \"progress\",\n",
    "            \"progress_volumes\",\n",
    "            \"repeat\",\n",
    "            \"priority\",\n",
    "            \"notes\",\n",
    "            \"started_at\",\n",
    "            \"completed_at\",\n",
    "            \"updated_at\",\n",
    "            \"created_at\",\n",
    "        ],\n",
    "    )\n",
    "    df = df.loc[lambda x: ~x[\"uid\"].isna()].copy()\n",
    "    df[\"uid\"] = df[\"uid\"].astype(int)\n",
    "    return df\n",
    "\n",
    "\n",
    "def get_user_media_list(userid, mediatype):\n",
    "    listtype = mediatype.upper()\n",
    "    has_next_chunk = True\n",
    "    chunk = 0\n",
    "    media_lists = []\n",
    "    while has_next_chunk:\n",
    "        query = \"\"\"\n",
    "        query ($userID: Int, $MEDIA: MediaType, $chunk: Int) {\n",
    "            MediaListCollection (userId: $userID, type: $MEDIA, chunk: $chunk) {\n",
    "                hasNextChunk\n",
    "                lists {\n",
    "                    entries\n",
    "                    {\n",
    "                        status\n",
    "                        score(format: POINT_10_DECIMAL)\n",
    "                        progress\n",
    "                        progressVolumes\n",
    "                        repeat\n",
    "                        priority\n",
    "                        notes\n",
    "                        startedAt {\n",
    "                            year\n",
    "                            month\n",
    "                            day\n",
    "                        }\n",
    "                        completedAt {\n",
    "                            year\n",
    "                            month\n",
    "                            day\n",
    "                        }\n",
    "                        updatedAt\n",
    "                        createdAt\n",
    "                        media\n",
    "                        {\n",
    "                            idMal\n",
    "                        }\n",
    "                    }\n",
    "                }\n",
    "            }\n",
    "        }\n",
    "        \"\"\"\n",
    "        variables = {\"userID\": str(userid), \"MEDIA\": listtype, \"chunk\": chunk}\n",
    "        url = \"https://graphql.anilist.co\"\n",
    "        response = call_api(url, {\"query\": query, \"variables\": variables})\n",
    "        if response.status_code in [403, 404]:\n",
    "            # 403: This can occur if the user privated their list\n",
    "            # 404: This can occur if the user deleted their account\n",
    "            return pd.DataFrame(), False\n",
    "        if not response.ok:\n",
    "            logger.warning(f\"Error {response} received when handling {url}\")\n",
    "            return pd.DataFrame(), False\n",
    "        has_next_chunk = response.json()[\"data\"][\"MediaListCollection\"][\"hasNextChunk\"]\n",
    "        media_lists.append(process_json(response.json()))\n",
    "        chunk += 1\n",
    "    media_list = pd.concat(media_lists)\n",
    "    # deduplicate shows that appear on multiple lists\n",
    "    media_list = (\n",
    "        media_list.sort_values(by=[\"updated_at\", \"created_at\"])\n",
    "        .groupby(\"uid\")\n",
    "        .last()\n",
    "        .reset_index()\n",
    "    )\n",
    "    media_list[\"username\"] = f\"{userid}\"\n",
    "    return media_list, True"
   ]
  },
  {
   "cell_type": "code",
   "execution_count": null,
   "id": "c8d903fc-0128-4777-9163-4ca60147fd98",
   "metadata": {},
   "outputs": [],
   "source": [
    "def get_userid(username):\n",
    "    url = \"https://graphql.anilist.co\"\n",
    "    query = \"query ($username: String) { User (name: $username) { id } }\"\n",
    "    variables = {\"username\": str(username)}\n",
    "    response = call_api(url, {\"query\": query, \"variables\": variables})\n",
    "    try:\n",
    "        response.raise_for_status()\n",
    "    except Exception as e:\n",
    "        logger.warning(f\"Received error {str(e)} while accessing {url}\")\n",
    "        return f\"{userid}\"\n",
    "    return response.json()[\"data\"][\"User\"][\"id\"]"
   ]
  },
  {
   "cell_type": "code",
   "execution_count": null,
   "id": "651af465-ece4-4ef2-99be-210b67497748",
   "metadata": {},
   "outputs": [],
   "source": [
    "def get_username(userid):\n",
    "    url = \"https://graphql.anilist.co\"\n",
    "    query = \"query ($userid: Int) { User (id: $userid) { name } }\"\n",
    "    variables = {\"userid\": str(userid)}\n",
    "    response = call_api(url, {\"query\": query, \"variables\": variables})\n",
    "    try:\n",
    "        response.raise_for_status()\n",
    "    except Exception as e:\n",
    "        logger.warning(f\"Received error {str(e)} while accessing {url}\")\n",
    "        return f\"{userid}\"\n",
    "    return response.json()[\"data\"][\"User\"][\"name\"]"
   ]
  }
 ],
 "metadata": {
  "kernelspec": {
   "display_name": "Python 3 (ipykernel)",
   "language": "python",
   "name": "python3"
  },
  "language_info": {
   "codemirror_mode": {
    "name": "ipython",
    "version": 3
   },
   "file_extension": ".py",
   "mimetype": "text/x-python",
   "name": "python",
   "nbconvert_exporter": "python",
   "pygments_lexer": "ipython3",
   "version": "3.10.12"
  }
 },
 "nbformat": 4,
 "nbformat_minor": 5
}
