{
 "cells": [
  {
   "cell_type": "markdown",
   "id": "7c5ff4cb-82fc-4b04-b224-6e754f8d547d",
   "metadata": {},
   "source": [
    "## Setup"
   ]
  },
  {
   "cell_type": "code",
   "execution_count": null,
   "id": "3fe9cbef-7c7e-476d-a863-ca1368fc7f8c",
   "metadata": {},
   "outputs": [],
   "source": [
    "try:\n",
    "    TOKEN_NUMBER\n",
    "except:\n",
    "    TOKEN_NUMBER = 0\n",
    "try:\n",
    "    PROXY_NUMBER\n",
    "except:\n",
    "    PROXY_NUMBER = TOKEN_NUMBER"
   ]
  },
  {
   "cell_type": "code",
   "execution_count": null,
   "id": "1513f79b-e3c4-4e63-a3ce-a4d366f08f65",
   "metadata": {},
   "outputs": [],
   "source": [
    "API_PERIOD = 1\n",
    "%run ApiSetup.ipynb"
   ]
  },
  {
   "cell_type": "code",
   "execution_count": null,
   "id": "0146af3c-569e-41aa-a3af-dbe725e1c42c",
   "metadata": {},
   "outputs": [],
   "source": [
    "with open(get_datapath(f\"mal/mal_authentication/clientid.{TOKEN_NUMBER}.txt\")) as f:\n",
    "    MAL_ACCESS_TOKEN = f.readlines()[0].strip()"
   ]
  },
  {
   "cell_type": "code",
   "execution_count": null,
   "id": "b1feccda-5158-4a8c-83ae-698fc5d296f7",
   "metadata": {},
   "outputs": [],
   "source": [
    "def call_api(url):\n",
    "    assert len(PROXYLIST) <= 1\n",
    "    return call_api_internal(\n",
    "        url,\n",
    "        \"GET\",\n",
    "        \"mal\",\n",
    "        headers={\"X-MAL-CLIENT-ID\": MAL_ACCESS_TOKEN},\n",
    "    )"
   ]
  },
  {
   "cell_type": "code",
   "execution_count": null,
   "id": "d664d8b3-3a93-4a4b-91bf-60b5edd0582a",
   "metadata": {},
   "outputs": [],
   "source": [
    "def get_user_media_list(username, mediatype):\n",
    "    if mediatype == \"anime\":\n",
    "        return get_user_anime_list(username)\n",
    "    elif mediatype == \"manga\":\n",
    "        return get_user_manga_list(username)\n",
    "    else:\n",
    "        raise ValueError()"
   ]
  },
  {
   "cell_type": "markdown",
   "id": "9f194eed-3a39-4ce0-ae8b-b7eaed808340",
   "metadata": {},
   "source": [
    "## Anime lists"
   ]
  },
  {
   "cell_type": "code",
   "execution_count": null,
   "id": "4e68ede3-0a8f-4e12-acc9-c9ee6e2de7f3",
   "metadata": {},
   "outputs": [],
   "source": [
    "def get_user_list(username, listtype, processfn):\n",
    "    anime_lists = []\n",
    "    more_pages = True\n",
    "    url = f\"https://api.myanimelist.net/v2/users/{username}/{listtype}list?limit=1000&fields=list_status&nsfw=true\"\n",
    "    while more_pages:\n",
    "        response = call_api(url)\n",
    "        if response.status_code in [403, 404]:\n",
    "            # 403: This can occur if the user has privated their list\n",
    "            # 404: This can occur if the user deleted their account\n",
    "            logger.warning(f\"Error {response} received when handling {url}\")\n",
    "            return pd.DataFrame(), False\n",
    "        if not response.ok:\n",
    "            logger.warning(f\"Error {response} received when handling {url}\")\n",
    "            return pd.DataFrame(), False\n",
    "\n",
    "        json = response.json()\n",
    "        anime_lists.append(processfn(json))\n",
    "        more_pages = \"next\" in json[\"paging\"]\n",
    "        if more_pages:\n",
    "            url = json[\"paging\"][\"next\"]\n",
    "    user_anime_list = pd.concat(anime_lists, ignore_index=True)\n",
    "    user_anime_list[\"username\"] = username\n",
    "    return user_anime_list, True"
   ]
  },
  {
   "cell_type": "code",
   "execution_count": null,
   "id": "39aaa6d9-4deb-470a-8b68-89d878741da7",
   "metadata": {},
   "outputs": [],
   "source": [
    "def parse_anime_json_node(x):\n",
    "    ls = x[\"list_status\"]\n",
    "    entry = pd.DataFrame.from_dict(\n",
    "        {\n",
    "            \"uid\": [x[\"node\"][\"id\"]],\n",
    "            \"status\": [ls.get(\"status\", \"\")],\n",
    "            \"score\": [ls.get(\"score\", -1)],\n",
    "            \"num_episodes_watched\": [ls.get(\"num_episodes_watched\", -1)],\n",
    "            \"is_rewatching\": [ls.get(\"is_rewatching\", False)],\n",
    "            \"start_date\": [ls.get(\"start_date\", \"\")],\n",
    "            \"finish_date\": [ls.get(\"finish_date\", \"\")],\n",
    "            \"priority\": [ls.get(\"priority\", -1)],\n",
    "            \"num_times_rewatched\": [ls.get(\"num_times_rewatched\", -1)],\n",
    "            \"rewatch_value\": [ls.get(\"rewatch_value\", -1)],\n",
    "            \"updated_at\": [ls.get(\"updated_at\", \"\")],\n",
    "        }\n",
    "    )\n",
    "    return entry\n",
    "\n",
    "\n",
    "def process_anime_json(json):\n",
    "    entries = [parse_anime_json_node(x) for x in json[\"data\"]]\n",
    "    if entries:\n",
    "        return pd.concat(entries, ignore_index=True)\n",
    "    else:\n",
    "        return pd.DataFrame.from_dict(\n",
    "            {\n",
    "                \"uid\": [],\n",
    "                \"status\": [],\n",
    "                \"score\": [],\n",
    "                \"num_episodes_watched\": [],\n",
    "                \"is_rewatching\": [],\n",
    "                \"start_date\": [],\n",
    "                \"finish_date\": [],\n",
    "                \"priority\": [],\n",
    "                \"num_times_rewatched\": [],\n",
    "                \"rewatch_value\": [],\n",
    "                \"updated_at\": [],\n",
    "            }\n",
    "        )\n",
    "\n",
    "\n",
    "def get_user_anime_list(username):\n",
    "    return get_user_list(username, \"anime\", process_anime_json)"
   ]
  },
  {
   "cell_type": "markdown",
   "id": "0eb4d208-dcad-4ffa-904a-78560c5476cc",
   "metadata": {},
   "source": [
    "## Manga lists"
   ]
  },
  {
   "cell_type": "code",
   "execution_count": null,
   "id": "ce8483b5-e813-4064-89e6-544b9036856c",
   "metadata": {},
   "outputs": [],
   "source": [
    "def parse_manga_json_node(x):\n",
    "    ls = x[\"list_status\"]\n",
    "    entry = pd.DataFrame.from_dict(\n",
    "        {\n",
    "            \"uid\": [x[\"node\"][\"id\"]],\n",
    "            \"status\": [ls.get(\"status\", \"\")],\n",
    "            \"score\": [ls.get(\"score\", \"\")],\n",
    "            \"num_volumes\": [ls.get(\"num_volumes_read\", \"\")],\n",
    "            \"num_chapters\": [ls.get(\"num_chapters_read\", \"\")],\n",
    "            \"updated_at\": [ls.get(\"updated_at\", \"\")],\n",
    "        }\n",
    "    )\n",
    "    return entry\n",
    "\n",
    "\n",
    "def process_manga_json(json):\n",
    "    entries = [parse_manga_json_node(x) for x in json[\"data\"]]\n",
    "    if entries:\n",
    "        return pd.concat(entries, ignore_index=True)\n",
    "    else:\n",
    "        return pd.DataFrame.from_dict(\n",
    "            {\n",
    "                \"uid\": [],\n",
    "                \"status\": [],\n",
    "                \"score\": [],\n",
    "                \"num_volumes\": [],\n",
    "                \"num_chapters\": [],\n",
    "                \"updated_at\": [],\n",
    "            }\n",
    "        )\n",
    "\n",
    "\n",
    "def get_user_manga_list(username):\n",
    "    return get_user_list(username, \"manga\", process_manga_json)"
   ]
  },
  {
   "cell_type": "markdown",
   "id": "9ccbf5ae-90e1-4a8f-831a-dbb6f01c3fb1",
   "metadata": {},
   "source": [
    "## Anime"
   ]
  },
  {
   "cell_type": "code",
   "execution_count": null,
   "id": "c4184ee1-3343-455f-87b9-418cad94d5c1",
   "metadata": {},
   "outputs": [],
   "source": [
    "def get_media_fields(media):\n",
    "    if media == \"anime\":\n",
    "        media_fields = [\n",
    "            \"num_episodes\",\n",
    "            \"related_anime\",\n",
    "            \"average_episode_duration\",\n",
    "            \"source\",\n",
    "            \"studios\",\n",
    "            \"start_season\",\n",
    "        ]\n",
    "    elif media == \"manga\":\n",
    "        media_fields = [\"num_volumes\", \"num_chapters\", \"related_manga\", \"authors\"]\n",
    "    else:\n",
    "        assert False\n",
    "    return [\n",
    "        \"id\",\n",
    "        \"title\",\n",
    "        \"main_picture\",\n",
    "        \"alternative_titles\",\n",
    "        \"start_date\",\n",
    "        \"end_date\",\n",
    "        \"synopsis\",\n",
    "        \"num_list_users\",\n",
    "        \"num_scoring_users\",\n",
    "        \"nsfw\",\n",
    "        \"genres\",\n",
    "        \"media_type\",\n",
    "        \"status\",\n",
    "        \"recommendations\",\n",
    "    ] + media_fields"
   ]
  },
  {
   "cell_type": "code",
   "execution_count": null,
   "id": "797d2ed7-a1a7-4596-b198-faa180ee8a85",
   "metadata": {},
   "outputs": [],
   "source": [
    "def process_media_details_json(json, media):\n",
    "    def get_key(key):\n",
    "        return [json[key] if key in json else \"NaN\"]\n",
    "\n",
    "    special_cols = {\n",
    "        f\"related_{media}\": [\n",
    "            [\n",
    "                {f\"{media}_id\": x[\"node\"][\"id\"], \"relation\": x[\"relation_type\"]}\n",
    "                for x in json[f\"related_{media}\"]\n",
    "            ]\n",
    "        ],\n",
    "        \"recommendations\": [\n",
    "            [\n",
    "                {\n",
    "                    f\"{media}_id\": x[\"node\"][\"id\"],\n",
    "                    \"num_recommendations\": x[\"num_recommendations\"],\n",
    "                }\n",
    "                for x in json[\"recommendations\"]\n",
    "            ]\n",
    "        ],\n",
    "        \"genres\": [[x[\"name\"] for x in json[\"genres\"]] if \"genres\" in json else \"[]\"],\n",
    "    }\n",
    "    regular_cols = {\n",
    "        x: get_key(x) for x in get_media_fields(media) if x not in special_cols\n",
    "    }\n",
    "    regular_cols.update(special_cols)\n",
    "    df = pd.DataFrame.from_dict(regular_cols)\n",
    "    df = df.rename({\"id\": f\"{media}_id\", \"media_type\": \"medium\"}, axis=1)\n",
    "    return df\n",
    "\n",
    "\n",
    "def get_media_details(mediaid, media):\n",
    "    url = f'https://api.myanimelist.net/v2/{media}/{mediaid}?fields={\",\".join(get_media_fields(media))}&nsfw=true'\n",
    "    response = call_api(url)\n",
    "    if response.status_code == 404:\n",
    "        logger.warning(f\"Received error {response.status_code} while accessing {url}\")\n",
    "        return pd.DataFrame()\n",
    "    try:\n",
    "        response.raise_for_status()\n",
    "    except Exception as e:\n",
    "        logger.warning(f\"Received error {str(e)} while accessing {url}\")\n",
    "        return pd.DataFrame()\n",
    "    df = process_media_details_json(response.json(), media)\n",
    "    return df"
   ]
  }
 ],
 "metadata": {
  "kernelspec": {
   "display_name": "Python 3 (ipykernel)",
   "language": "python",
   "name": "python3"
  },
  "language_info": {
   "codemirror_mode": {
    "name": "ipython",
    "version": 3
   },
   "file_extension": ".py",
   "mimetype": "text/x-python",
   "name": "python",
   "nbconvert_exporter": "python",
   "pygments_lexer": "ipython3",
   "version": "3.10.6"
  }
 },
 "nbformat": 4,
 "nbformat_minor": 5
}
