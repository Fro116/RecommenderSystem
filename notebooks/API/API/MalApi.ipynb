{
 "cells": [
  {
   "cell_type": "markdown",
   "id": "7c5ff4cb-82fc-4b04-b224-6e754f8d547d",
   "metadata": {},
   "source": [
    "# Setup"
   ]
  },
  {
   "cell_type": "code",
   "execution_count": null,
   "id": "1513f79b-e3c4-4e63-a3ce-a4d366f08f65",
   "metadata": {},
   "outputs": [],
   "source": [
    "API_PERIOD = 10\n",
    "%run ApiSetup.ipynb"
   ]
  },
  {
   "cell_type": "code",
   "execution_count": null,
   "id": "3fe9cbef-7c7e-476d-a863-ca1368fc7f8c",
   "metadata": {},
   "outputs": [],
   "source": [
    "try:\n",
    "    TOKEN_NUMBER\n",
    "    with open(\n",
    "        get_datapath(f\"../environment/mal/authentication/clientid.{TOKEN_NUMBER}.txt\")\n",
    "    ) as f:\n",
    "        MAL_ACCESS_TOKEN = f.readlines()[0].strip()\n",
    "except:\n",
    "    pass"
   ]
  },
  {
   "cell_type": "code",
   "execution_count": null,
   "id": "b1feccda-5158-4a8c-83ae-698fc5d296f7",
   "metadata": {},
   "outputs": [],
   "source": [
    "def call_api(url):\n",
    "    return call_api_internal(\n",
    "        url,\n",
    "        \"GET\",\n",
    "        \"mal\",\n",
    "        headers={\"X-MAL-CLIENT-ID\": MAL_ACCESS_TOKEN},\n",
    "    )"
   ]
  },
  {
   "cell_type": "markdown",
   "id": "9f194eed-3a39-4ce0-ae8b-b7eaed808340",
   "metadata": {},
   "source": [
    "# Media lists"
   ]
  },
  {
   "cell_type": "code",
   "execution_count": null,
   "id": "4e68ede3-0a8f-4e12-acc9-c9ee6e2de7f3",
   "metadata": {},
   "outputs": [],
   "source": [
    "def get_user_media_list(username, media):\n",
    "    media_lists = []\n",
    "    more_pages = True\n",
    "    url = (\n",
    "        \"https://api.myanimelist.net/v2/users/\"\n",
    "        f\"{username}/{media}list?limit=1000&fields=list_status&nsfw=true\"\n",
    "    )\n",
    "    while more_pages:\n",
    "        response = call_api(url)\n",
    "        if response.status_code != 200 or \"data\" not in response.json():\n",
    "            logger.warning(f\"Error {response} received when handling {url}\")\n",
    "            return pd.DataFrame(), False\n",
    "\n",
    "        json = response.json()\n",
    "        media_lists.append(process_media_list_json(json, media))\n",
    "        more_pages = \"next\" in json[\"paging\"]\n",
    "        if more_pages:\n",
    "            url = json[\"paging\"][\"next\"]\n",
    "    user_media_list = pd.concat(media_lists, ignore_index=True)\n",
    "    user_media_list[\"username\"] = username\n",
    "    return user_media_list, True"
   ]
  },
  {
   "cell_type": "code",
   "execution_count": null,
   "id": "e6c44fa3-f1f7-4970-8b0e-e2dd68ae285b",
   "metadata": {},
   "outputs": [],
   "source": [
    "def process_media_list_json(json, media):\n",
    "    entries = [parse_json_node(x, media) for x in json[\"data\"]]\n",
    "    if entries:\n",
    "        return pd.concat(entries, ignore_index=True)\n",
    "    else:\n",
    "        return pd.DataFrame()\n",
    "\n",
    "\n",
    "def parse_json_node(x, media):\n",
    "    ls = x[\"list_status\"]\n",
    "    progress_col = {\n",
    "        \"anime\": \"num_episodes_watched\",\n",
    "        \"manga\": \"num_chapters_read\",\n",
    "    }\n",
    "    repeat_col = {\n",
    "        \"anime\": \"is_rewatching\",\n",
    "        \"manga\": \"is_rereading\",\n",
    "    }\n",
    "    repeat_count_col = {\n",
    "        \"anime\": \"num_times_rewatched\",\n",
    "        \"manga\": \"num_times_reread\",\n",
    "    }\n",
    "    repeat_value_col = {\n",
    "        \"anime\": \"rewatch_value\",\n",
    "        \"manga\": \"reread_value\",\n",
    "    }\n",
    "    entry = pd.DataFrame.from_dict(\n",
    "        {\n",
    "            \"uid\": [x[\"node\"][\"id\"]],\n",
    "            \"status\": [ls.get(\"status\", \"\")],\n",
    "            \"score\": [ls.get(\"score\", \"\")],\n",
    "            \"progress\": [ls.get(progress_col[media], \"\")],\n",
    "            \"progress_volumes\": [ls.get(\"num_volumes_read\", \"\")],\n",
    "            \"started_at\": [ls.get(\"start_date\", \"\")],\n",
    "            \"completed_at\": [ls.get(\"finish_date\", \"\")],\n",
    "            \"priority\": [ls.get(\"priority\", \"\")],\n",
    "            \"repeat\": [ls.get(repeat_col[media], False)],\n",
    "            \"repeat_count\": [ls.get(repeat_count_col[media], \"\")],\n",
    "            \"repeat_value\": [ls.get(repeat_value_col[media], \"\")],\n",
    "            \"tags\": [\" \".join([sanitize_string(x) for x in ls.get(\"tags\", [])])],\n",
    "            \"notes\": [sanitize_string(ls.get(\"comments\", \"\"))],\n",
    "            \"updated_at\": [process_timestamp(ls.get(\"updated_at\", None))],\n",
    "        }\n",
    "    )\n",
    "    return entry"
   ]
  },
  {
   "cell_type": "code",
   "execution_count": null,
   "id": "344334fd-602b-4e52-9d94-4ddfea2dbfbb",
   "metadata": {},
   "outputs": [],
   "source": [
    "def process_timestamp(time):\n",
    "    if time is None:\n",
    "        return 0\n",
    "    try:\n",
    "        return to_unix_time(time, \"%Y-%m-%dT%H:%M:%S+00:00\")\n",
    "    except:\n",
    "        return 0"
   ]
  }
 ],
 "metadata": {
  "kernelspec": {
   "display_name": "Python 3 (ipykernel)",
   "language": "python",
   "name": "python3"
  },
  "language_info": {
   "codemirror_mode": {
    "name": "ipython",
    "version": 3
   },
   "file_extension": ".py",
   "mimetype": "text/x-python",
   "name": "python",
   "nbconvert_exporter": "python",
   "pygments_lexer": "ipython3",
   "version": "3.10.12"
  }
 },
 "nbformat": 4,
 "nbformat_minor": 5
}
