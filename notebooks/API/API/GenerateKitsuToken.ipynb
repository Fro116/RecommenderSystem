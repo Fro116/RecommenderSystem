{
 "cells": [
  {
   "cell_type": "markdown",
   "metadata": {
    "tags": []
   },
   "source": [
    "# Steps to access the Kitsu API\n",
    "1. Create a Kitsu account (https://kitsu.io)\n",
    "2. Put your username and password in the cell below\n",
    "3. Run the script to verify that the oath2 token was properly generated"
   ]
  },
  {
   "cell_type": "code",
   "execution_count": null,
   "metadata": {
    "tags": [
     "parameters"
    ]
   },
   "outputs": [],
   "source": [
    "USERNAME = \"\"\n",
    "PASSWORD = \"\""
   ]
  },
  {
   "cell_type": "code",
   "execution_count": null,
   "metadata": {},
   "outputs": [],
   "source": [
    "assert USERNAME and PASSWORD, \"must fill in USERNAME and PASSWORD\""
   ]
  },
  {
   "cell_type": "code",
   "execution_count": null,
   "metadata": {},
   "outputs": [],
   "source": [
    "import os"
   ]
  },
  {
   "cell_type": "code",
   "execution_count": null,
   "metadata": {},
   "outputs": [],
   "source": [
    "credentials_fn = f\"../../../data/kitsu/kitsu_authentication/credentials.0.txt\"\n",
    "with open(credentials_fn, 'w') as f:\n",
    "    f.write(USERNAME + \"\\n\")\n",
    "    f.write(PASSWORD + \"\\n\")"
   ]
  },
  {
   "cell_type": "code",
   "execution_count": null,
   "metadata": {},
   "outputs": [],
   "source": [
    "%run KitsuApi.ipynb"
   ]
  },
  {
   "cell_type": "code",
   "execution_count": null,
   "metadata": {
    "tags": []
   },
   "outputs": [],
   "source": [
    "df, ok = get_user_media_list(1404688, \"anime\")\n",
    "if not ok or df.empty:\n",
    "    raise ValueError(\"Invalid oath2 token. Double check that the username and password are correct\")\n",
    "else:\n",
    "    print(\"Successfully accessed API!\")    "
   ]
  }
 ],
 "metadata": {
  "kernelspec": {
   "display_name": "Python 3 (ipykernel)",
   "language": "python",
   "name": "python3"
  },
  "language_info": {
   "codemirror_mode": {
    "name": "ipython",
    "version": 3
   },
   "file_extension": ".py",
   "mimetype": "text/x-python",
   "name": "python",
   "nbconvert_exporter": "python",
   "pygments_lexer": "ipython3",
   "version": "3.10.12"
  }
 },
 "nbformat": 4,
 "nbformat_minor": 4
}
