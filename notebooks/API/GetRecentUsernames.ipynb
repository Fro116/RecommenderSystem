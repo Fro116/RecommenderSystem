{
 "cells": [
  {
   "cell_type": "markdown",
   "metadata": {},
   "source": [
    "# Generating a list of MAL usernames\n",
    "* The page https://myanimelist.net/users.php contains a list of recently active users\n",
    "* We continually refresh that page and write down any new users\n",
    "* You can terminate or restart the notebook at any point without losing progress. All users found so far will be stored at `data/mal/user_facts/recent_usernames.txt`.\n",
    "* This notebook will run indefinitely. You must manually terminate once an acceptable number of users have been found"
   ]
  },
  {
   "cell_type": "code",
   "execution_count": 1,
   "metadata": {},
   "outputs": [],
   "source": [
    "import contextlib\n",
    "import logging\n",
    "import os\n",
    "import re\n",
    "import shutil\n",
    "import time\n",
    "\n",
    "import numpy as np\n",
    "import pandas as pd\n",
    "import requests\n",
    "from ratelimit import limits, sleep_and_retry"
   ]
  },
  {
   "cell_type": "code",
   "execution_count": 2,
   "metadata": {},
   "outputs": [],
   "source": [
    "# outdir\n",
    "data_path = \"../../data/mal/user_facts\"\n",
    "if not os.path.exists(data_path):\n",
    "    os.mkdir(data_path)\n",
    "os.chdir(data_path)"
   ]
  },
  {
   "cell_type": "code",
   "execution_count": 3,
   "metadata": {},
   "outputs": [],
   "source": [
    "# logging\n",
    "logger = logging.getLogger(\"GetRecentUsernames\")\n",
    "logger.setLevel(logging.DEBUG)\n",
    "formatter = logging.Formatter(\n",
    "    \"%(name)s:%(levelname)s:%(asctime)s: %(message)s\", datefmt=\"%Y-%m-%d %H:%M:%S\"\n",
    ")\n",
    "for stream in [\n",
    "    logging.FileHandler(\"get_recent_usernames.log\"),\n",
    "    logging.StreamHandler(),\n",
    "]:\n",
    "    stream.setFormatter(formatter)\n",
    "    logger.addHandler(stream)"
   ]
  },
  {
   "cell_type": "code",
   "execution_count": 4,
   "metadata": {},
   "outputs": [
    {
     "name": "stderr",
     "output_type": "stream",
     "text": [
      "GetRecentUsernames:INFO:2022-07-13 04:36:44: Starting with 1971828 stored usernames\n"
     ]
    }
   ],
   "source": [
    "# if we rerunning the notebook, then resume execution where we last left off\n",
    "recent_usernames = set()\n",
    "if os.path.exists(\"recent_usernames.txt\"):\n",
    "    with open(\"recent_usernames.txt\") as f:\n",
    "        recent_usernames = {x.strip() for x in f.readlines() if x.strip()}\n",
    "\n",
    "\n",
    "logger.info(f\"Starting with {len(recent_usernames)} stored usernames\")"
   ]
  },
  {
   "cell_type": "code",
   "execution_count": 5,
   "metadata": {},
   "outputs": [],
   "source": [
    "# apply rate limiting with exponential backoff for unexpected errors\n",
    "@sleep_and_retry\n",
    "@limits(calls=1, period=3)\n",
    "def call_api(url, retry_timeout=1):\n",
    "    try:\n",
    "        response = requests.get(url)\n",
    "        if response.status_code in [403, 429, 500, 503, 504]:\n",
    "            # This can occur if MAL servers go down\n",
    "            raise Exception(f\"{response.status_code}\")\n",
    "    except Exception as e:\n",
    "        logger.warning(\n",
    "            f\"Received error {str(e)} while accessing {url}. Retrying in {retry_timeout} seconds\"\n",
    "        )\n",
    "        time.sleep(retry_timeout)\n",
    "        retry_timeout = min(retry_timeout * 2, 3600)\n",
    "        return call_api(url, retry_timeout)\n",
    "    return response"
   ]
  },
  {
   "cell_type": "code",
   "execution_count": 6,
   "metadata": {},
   "outputs": [],
   "source": [
    "# parse the recently online users page on https://myanimelist.net/users.php\n",
    "def get_users():\n",
    "    url = \"https://myanimelist.net/users.php\"\n",
    "    response = call_api(url)\n",
    "    if response.status_code in [404]:\n",
    "        # the user may have deleted their account\n",
    "        return set()\n",
    "    if not response.ok:\n",
    "        logger.warning(f\"Error {response} received when handling {url}\")\n",
    "        return set()\n",
    "    urls = re.findall('''/profile/[^\"/#%]+\"''', response.text)\n",
    "    users = {x[len(\"/profile/\") : -len('\"')] for x in urls}\n",
    "    return users"
   ]
  },
  {
   "cell_type": "code",
   "execution_count": 7,
   "metadata": {},
   "outputs": [],
   "source": [
    "# atomic saving utilities\n",
    "@contextlib.contextmanager\n",
    "def atomic_overwrite(filename):\n",
    "    temp = filename + \"~\"\n",
    "    with open(temp, \"w\") as f:\n",
    "        yield f\n",
    "    os.replace(temp, filename)\n",
    "\n",
    "\n",
    "def atomic_to_csv(collection, filename):\n",
    "    with atomic_overwrite(filename) as f:\n",
    "        pd.Series(collection).to_csv(f, header=False, index=False)"
   ]
  },
  {
   "cell_type": "code",
   "execution_count": 8,
   "metadata": {},
   "outputs": [],
   "source": [
    "# snapshot hourly to amortize the cost of the disk I/O\n",
    "def should_save(reason):\n",
    "    should_save = False\n",
    "    if reason not in save_reasons:\n",
    "        save_reasons[reason] = (0, 1)\n",
    "    iterations_since_last_write, iterations_until_next_write = save_reasons[reason]\n",
    "    iterations_since_last_write += 1\n",
    "    if iterations_since_last_write >= iterations_until_next_write:\n",
    "        iterations_since_last_write = 0\n",
    "        iterations_until_next_write = min(2 * iterations_until_next_write, 1200)\n",
    "        should_save = True\n",
    "        logger.info(\n",
    "            f\"Writing data for {reason}. Will next write data \"\n",
    "            f\"after {iterations_until_next_write} iterations\"\n",
    "        )\n",
    "    save_reasons[reason] = (iterations_since_last_write, iterations_until_next_write)\n",
    "    return should_save\n",
    "\n",
    "\n",
    "save_reasons = {}"
   ]
  },
  {
   "cell_type": "code",
   "execution_count": null,
   "metadata": {
    "tags": []
   },
   "outputs": [
    {
     "name": "stderr",
     "output_type": "stream",
     "text": [
      "GetRecentUsernames:INFO:2022-07-13 04:36:45: Writing data for users. Will next write data after 2 iterations\n",
      "GetRecentUsernames:INFO:2022-07-13 04:36:49: Successfully written 1971829 users \n",
      "GetRecentUsernames:INFO:2022-07-13 04:36:53: Writing data for users. Will next write data after 4 iterations\n",
      "GetRecentUsernames:INFO:2022-07-13 04:36:57: Successfully written 1971834 users \n",
      "GetRecentUsernames:INFO:2022-07-13 04:37:06: Writing data for users. Will next write data after 8 iterations\n",
      "GetRecentUsernames:INFO:2022-07-13 04:37:10: Successfully written 1971841 users \n",
      "GetRecentUsernames:INFO:2022-07-13 04:37:32: Writing data for users. Will next write data after 16 iterations\n",
      "GetRecentUsernames:INFO:2022-07-13 04:37:36: Successfully written 1971850 users \n",
      "GetRecentUsernames:INFO:2022-07-13 04:38:22: Writing data for users. Will next write data after 32 iterations\n",
      "GetRecentUsernames:INFO:2022-07-13 04:38:26: Successfully written 1971869 users \n",
      "GetRecentUsernames:INFO:2022-07-13 04:39:59: Writing data for users. Will next write data after 64 iterations\n",
      "GetRecentUsernames:INFO:2022-07-13 04:40:03: Successfully written 1971912 users \n"
     ]
    }
   ],
   "source": [
    "while True:\n",
    "    users = get_users()\n",
    "    recent_usernames |= users\n",
    "    if should_save(\"users\"):\n",
    "        atomic_to_csv(sorted(list(recent_usernames)), \"recent_usernames.txt\")\n",
    "        logger.info(f\"Successfully written {len(recent_usernames)} users \")"
   ]
  }
 ],
 "metadata": {
  "kernelspec": {
   "display_name": "Python 3 (ipykernel)",
   "language": "python",
   "name": "python3"
  },
  "language_info": {
   "codemirror_mode": {
    "name": "ipython",
    "version": 3
   },
   "file_extension": ".py",
   "mimetype": "text/x-python",
   "name": "python",
   "nbconvert_exporter": "python",
   "pygments_lexer": "ipython3",
   "version": "3.8.10"
  }
 },
 "nbformat": 4,
 "nbformat_minor": 4
}
