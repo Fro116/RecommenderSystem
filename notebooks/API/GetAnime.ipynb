{
 "cells": [
  {
   "cell_type": "markdown",
   "id": "f550bd4c-2e49-43ff-8d9b-a4189437fe95",
   "metadata": {},
   "source": [
    "# Getting anime details\n",
    "* We store anime metadata in `data/mal/anime_facts/anime.csv`"
   ]
  },
  {
   "cell_type": "code",
   "execution_count": null,
   "id": "16a55928-bc2d-4dfb-974f-2480e13c1f0c",
   "metadata": {},
   "outputs": [],
   "source": [
    "import json\n",
    "import logging\n",
    "import os\n",
    "import time\n",
    "import urllib.request\n",
    "\n",
    "import pandas as pd\n",
    "import requests\n",
    "from ratelimit import limits, sleep_and_retry\n",
    "from tqdm import tqdm\n",
    "import glob"
   ]
  },
  {
   "cell_type": "code",
   "execution_count": null,
   "id": "1e50d2d6-3aa2-4ae2-b6cb-8daa401f6ccf",
   "metadata": {},
   "outputs": [],
   "source": [
    "data_path = \"../../data/mal/anime_facts\"\n",
    "if not os.path.exists(data_path):\n",
    "    os.mkdir(data_path)\n",
    "os.chdir(data_path)"
   ]
  },
  {
   "cell_type": "code",
   "execution_count": null,
   "id": "6199917e-ad6d-4ad4-996b-abb7a705e3e2",
   "metadata": {},
   "outputs": [],
   "source": [
    "# logging\n",
    "logger = logging.getLogger(\"GetAnime\")\n",
    "logger.setLevel(logging.DEBUG)\n",
    "formatter = logging.Formatter(\n",
    "    \"%(name)s:%(levelname)s:%(asctime)s: %(message)s\", datefmt=\"%Y-%m-%d %H:%M:%S\"\n",
    ")\n",
    "for stream in [\n",
    "    logging.FileHandler(\"get_user_anime_lists.log\"),\n",
    "    logging.StreamHandler(),\n",
    "]:\n",
    "    stream.setFormatter(formatter)\n",
    "    logger.addHandler(stream)"
   ]
  },
  {
   "cell_type": "code",
   "execution_count": null,
   "id": "a36dd4e4-5e93-4e57-bfca-8f271e4afce8",
   "metadata": {},
   "outputs": [],
   "source": [
    "token = json.load(open(f\"../mal_authentication/token.json\", \"r\"))"
   ]
  },
  {
   "cell_type": "code",
   "execution_count": null,
   "id": "eee2f215-0134-4e35-992a-626bde7369a3",
   "metadata": {},
   "outputs": [],
   "source": [
    "# apply rate limiting with exponential backoff for unexpected errors\n",
    "@sleep_and_retry\n",
    "@limits(calls=1, period=0.75)\n",
    "def call_api(url, retry_timeout=1):\n",
    "    try:\n",
    "        response = requests.get(\n",
    "            url, headers={\"Authorization\": f'Bearer {token[\"access_token\"]}'}\n",
    "        )\n",
    "        if response.status_code in [500, 504] and retry_timeout < 3600:\n",
    "            # This can occur if MAL servers go down or if the page doesnt exist\n",
    "            raise Exception(f\"{response.status_code}\")\n",
    "    except Exception as e:\n",
    "        logger.warning(\n",
    "            f\"Received error {str(e)} while accessing {url}. Retrying in {retry_timeout} seconds\"\n",
    "        )\n",
    "        time.sleep(retry_timeout)\n",
    "        retry_timeout = min(retry_timeout * 2, 3600)\n",
    "        return call_api(url, retry_timeout)\n",
    "    return response"
   ]
  },
  {
   "cell_type": "code",
   "execution_count": null,
   "id": "a635416a-494e-47d5-9ebd-5fdee6d86ada",
   "metadata": {},
   "outputs": [],
   "source": [
    "relevant_fields = [\n",
    "    \"id\",\n",
    "    \"title\",\n",
    "    \"main_picture\",\n",
    "    \"alternative_titles\",\n",
    "    \"start_date\",\n",
    "    \"end_date\",\n",
    "    \"synopsis\",\n",
    "    \"num_list_users\",\n",
    "    \"num_scoring_users\",\n",
    "    \"nsfw\",\n",
    "    \"genres\",\n",
    "    \"media_type\",\n",
    "    \"status\",\n",
    "    \"related_anime\",\n",
    "    \"num_episodes\",\n",
    "    \"start_season\",\n",
    "    \"source\",\n",
    "    \"average_episode_duration\",\n",
    "    \"studios\",\n",
    "    \"recommendations\",\n",
    "]"
   ]
  },
  {
   "cell_type": "code",
   "execution_count": null,
   "id": "8374d573-a74c-413a-b7e1-4844ca44e5cc",
   "metadata": {},
   "outputs": [],
   "source": [
    "def process_json(json):\n",
    "    def get_key(key):\n",
    "        return [json[key] if key in json else \"NaN\"]\n",
    "\n",
    "    special_cols = {\n",
    "        \"related_anime\": [\n",
    "            [\n",
    "                {\"anime_id\": x[\"node\"][\"id\"], \"relation\": x[\"relation_type\"]}\n",
    "                for x in json[\"related_anime\"]\n",
    "            ]\n",
    "        ],\n",
    "        \"recommendations\": [\n",
    "            [\n",
    "                {\n",
    "                    \"anime_id\": x[\"node\"][\"id\"],\n",
    "                    \"num_recommendations\": x[\"num_recommendations\"],\n",
    "                }\n",
    "                for x in json[\"recommendations\"]\n",
    "            ]\n",
    "        ],\n",
    "        \"genres\": [[x[\"name\"] for x in json[\"genres\"]] if \"genres\" in json else \"[]\"],\n",
    "    }\n",
    "    regular_cols = {x: get_key(x) for x in relevant_fields if x not in special_cols}\n",
    "    regular_cols.update(special_cols)\n",
    "    df = pd.DataFrame.from_dict(regular_cols)\n",
    "    df = df.rename({\"id\": \"anime_id\", \"media_type\": \"medium\"}, axis=1)\n",
    "    return df"
   ]
  },
  {
   "cell_type": "code",
   "execution_count": null,
   "id": "fe17a7c1-f276-4a66-9f13-65b9b3076999",
   "metadata": {},
   "outputs": [],
   "source": [
    "def get_anime_details(anime_id):\n",
    "    url = f'https://api.myanimelist.net/v2/anime/{anime_id}?fields={\",\".join(relevant_fields)}&nsfw=true'\n",
    "    response = call_api(url)\n",
    "    if response.status_code == 404:\n",
    "        return None, False\n",
    "\n",
    "    response.raise_for_status()\n",
    "    df = process_json(response.json())\n",
    "    return df, True"
   ]
  },
  {
   "cell_type": "code",
   "execution_count": null,
   "id": "983e1ceb-d592-475d-8a38-dc1343c2a460",
   "metadata": {},
   "outputs": [],
   "source": [
    "def get_all_details(anime_ids):\n",
    "    anime_details = []\n",
    "    for anime_id in tqdm(anime_ids):\n",
    "        details, ok = get_anime_details(anime_id)\n",
    "        if ok:\n",
    "            anime_details.append(details)\n",
    "        else:\n",
    "            logger.info(f\"Stale cache value for anime_id {anime_id}.\")\n",
    "    return pd.concat(anime_details, ignore_index=True)"
   ]
  },
  {
   "cell_type": "code",
   "execution_count": null,
   "id": "bcf1666f-8e2d-4513-b009-079cc1d9e9ae",
   "metadata": {},
   "outputs": [],
   "source": [
    "def get_item_ids(input_fn):\n",
    "    item_ids = set()\n",
    "    with open(input_fn, \"r\") as in_file:\n",
    "        header = False\n",
    "        for line in tqdm(in_file):\n",
    "            if not header:\n",
    "                idx = line.strip().split(\",\").index(\"uid\")\n",
    "                header = True\n",
    "                continue\n",
    "            item_id = line.strip().split(\",\")[idx]\n",
    "            item_ids.add(int(item_id))\n",
    "    return item_ids"
   ]
  },
  {
   "cell_type": "code",
   "execution_count": null,
   "id": "7b3b79ce-fde4-4cd1-b97f-c514b70cd395",
   "metadata": {},
   "outputs": [],
   "source": [
    "anime_ids = set()\n",
    "for file in glob.glob(\"../user_anime_facts/user_anime_list.*.csv\"):\n",
    "    anime_ids |= get_item_ids(file)\n",
    "anime_ids = sorted(anime_ids)\n",
    "anime_list = get_all_details(anime_ids)\n",
    "anime_list.to_csv(\"anime.csv\", index=False)"
   ]
  }
 ],
 "metadata": {
  "kernelspec": {
   "display_name": "Python 3 (ipykernel)",
   "language": "python",
   "name": "python3"
  },
  "language_info": {
   "codemirror_mode": {
    "name": "ipython",
    "version": 3
   },
   "file_extension": ".py",
   "mimetype": "text/x-python",
   "name": "python",
   "nbconvert_exporter": "python",
   "pygments_lexer": "ipython3",
   "version": "3.10.4"
  }
 },
 "nbformat": 4,
 "nbformat_minor": 5
}
