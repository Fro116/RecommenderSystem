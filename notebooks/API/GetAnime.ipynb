{
 "cells": [
  {
   "cell_type": "markdown",
   "id": "f550bd4c-2e49-43ff-8d9b-a4189437fe95",
   "metadata": {},
   "source": [
    "# Getting anime details\n",
    "* We store anime metadata in `data/mal/anime_facts/anime.csv`"
   ]
  },
  {
   "cell_type": "code",
   "execution_count": null,
   "id": "16a55928-bc2d-4dfb-974f-2480e13c1f0c",
   "metadata": {},
   "outputs": [],
   "source": [
    "import json\n",
    "import os\n",
    "import time\n",
    "import urllib.request\n",
    "\n",
    "import pandas as pd\n",
    "import requests\n",
    "from ratelimit import limits, sleep_and_retry\n",
    "from tqdm import tqdm"
   ]
  },
  {
   "cell_type": "code",
   "execution_count": null,
   "id": "1e50d2d6-3aa2-4ae2-b6cb-8daa401f6ccf",
   "metadata": {},
   "outputs": [],
   "source": [
    "data_path = \"../../data/mal/anime_facts\"\n",
    "if not os.path.exists(data_path):\n",
    "    os.mkdir(data_path)\n",
    "os.chdir(data_path)"
   ]
  },
  {
   "cell_type": "code",
   "execution_count": null,
   "id": "a36dd4e4-5e93-4e57-bfca-8f271e4afce8",
   "metadata": {},
   "outputs": [],
   "source": [
    "token = json.load(open(\"../mal_authentication/token.json\", \"r\"))"
   ]
  },
  {
   "cell_type": "code",
   "execution_count": null,
   "id": "24af32f4-da5c-4aba-b519-a60ef03dfd3e",
   "metadata": {},
   "outputs": [],
   "source": [
    "@sleep_and_retry\n",
    "@limits(calls=1, period=0.75)\n",
    "def call_api(url):\n",
    "    try:\n",
    "        response = requests.get(\n",
    "            url, headers={\"Authorization\": f'Bearer {token[\"access_token\"]}'}\n",
    "        )\n",
    "        if response.status_code == 500:\n",
    "            # This can occur if MAL servers go down\n",
    "            raise Exception(f\"{response.status_code}\")\n",
    "    except Exception as e:\n",
    "        retry_timeout = 3600\n",
    "        print(\n",
    "            f\"Received error {str(e)} while accessing {url}. Retrying in {retry_timeout} seconds\"\n",
    "        )\n",
    "        time.sleep(retry_timeout)\n",
    "        return call_api(url)\n",
    "    return response"
   ]
  },
  {
   "cell_type": "code",
   "execution_count": null,
   "id": "a635416a-494e-47d5-9ebd-5fdee6d86ada",
   "metadata": {},
   "outputs": [],
   "source": [
    "relevant_fields = [\n",
    "    \"id\",\n",
    "    \"title\",\n",
    "    \"main_picture\",\n",
    "    \"alternative_titles\",\n",
    "    \"start_date\",\n",
    "    \"end_date\",\n",
    "    \"synopsis\",\n",
    "    \"num_list_users\",\n",
    "    \"num_scoring_users\",\n",
    "    \"nsfw\",\n",
    "    \"genres\",\n",
    "    \"media_type\",\n",
    "    \"status\",\n",
    "    \"related_anime\",\n",
    "    \"num_episodes\",\n",
    "    \"start_season\",\n",
    "    \"source\",\n",
    "    \"average_episode_duration\",\n",
    "    \"studios\",\n",
    "    \"recommendations\",\n",
    "]"
   ]
  },
  {
   "cell_type": "code",
   "execution_count": null,
   "id": "8374d573-a74c-413a-b7e1-4844ca44e5cc",
   "metadata": {},
   "outputs": [],
   "source": [
    "def process_json(json):\n",
    "    def get_key(key):\n",
    "        return [json[key] if key in json else \"NaN\"]\n",
    "    \n",
    "    special_cols = {\n",
    "            \"related_anime\": [\n",
    "                [\n",
    "                    {\"anime_id\": x[\"node\"][\"id\"], \"relation\": x[\"relation_type\"]}\n",
    "                    for x in json[\"related_anime\"]\n",
    "                ]\n",
    "            ],\n",
    "            \"recommendations\": [\n",
    "                [\n",
    "                    {\n",
    "                        \"anime_id\": x[\"node\"][\"id\"],\n",
    "                        \"num_recommendations\": x[\"num_recommendations\"],\n",
    "                    }\n",
    "                    for x in json[\"recommendations\"]\n",
    "                ]\n",
    "            ],\n",
    "            \"genres\": [\n",
    "                [x[\"name\"] for x in json[\"genres\"]] if \"genres\" in json else \"[]\"\n",
    "            ],\n",
    "    }\n",
    "    regular_cols = {x: get_key(x) for x in relevant_fields if x not in special_cols}\n",
    "    regular_cols.update(special_cols)\n",
    "    df = pd.DataFrame.from_dict(regular_cols)\n",
    "    df = df.rename({\"id\": \"anime_id\", \"media_type\": \"medium\"}, axis=1)\n",
    "    return df"
   ]
  },
  {
   "cell_type": "code",
   "execution_count": null,
   "id": "fe17a7c1-f276-4a66-9f13-65b9b3076999",
   "metadata": {},
   "outputs": [],
   "source": [
    "def get_anime_details(anime_id):\n",
    "    url = f'https://api.myanimelist.net/v2/anime/{anime_id}?fields={\",\".join(relevant_fields)}&nsfw=true'\n",
    "    response = call_api(url)\n",
    "    if response.status_code == 404:\n",
    "        return None, False\n",
    "\n",
    "    response.raise_for_status()\n",
    "    df = process_json(response.json())\n",
    "    return df, True"
   ]
  },
  {
   "cell_type": "code",
   "execution_count": null,
   "id": "a85dcf93-d12d-42c3-8732-1f0fe1b5461e",
   "metadata": {},
   "outputs": [],
   "source": [
    "    url = f'https://api.myanimelist.net/v2/anime/1'\n",
    "    response = call_api(url)\n",
    "\n",
    "    response.raise_for_status()"
   ]
  },
  {
   "cell_type": "code",
   "execution_count": null,
   "id": "5cedd59c-f326-4e49-a3e0-54d817f67115",
   "metadata": {},
   "outputs": [],
   "source": [
    "response.json()"
   ]
  },
  {
   "cell_type": "code",
   "execution_count": null,
   "id": "983e1ceb-d592-475d-8a38-dc1343c2a460",
   "metadata": {},
   "outputs": [],
   "source": [
    "def get_anime_details_from_cache():\n",
    "    # uses https://github.com/seanbreckenridge/mal-id-cache to get an up-to-date list of MAL ids\n",
    "    anime_id_cache_url = \"https://raw.githubusercontent.com/seanbreckenridge/mal-id-cache/master/cache/anime_cache.json\"\n",
    "    anime_id_cache = eval(urllib.request.urlopen(anime_id_cache_url).read())\n",
    "    valid_anime_ids = set()\n",
    "    for _, v in anime_id_cache.items():\n",
    "        valid_anime_ids |= set(v)\n",
    "\n",
    "    anime_details = []\n",
    "    for anime_id in tqdm(valid_anime_ids):\n",
    "        details, ok = get_anime_details(anime_id)\n",
    "        if ok:\n",
    "            anime_details.append(details)\n",
    "        else:\n",
    "            print(f\"Stale cache value for anime_id {anime_id}.\")\n",
    "    return pd.concat(anime_details, ignore_index=True)"
   ]
  },
  {
   "cell_type": "code",
   "execution_count": null,
   "id": "355179a9-7f5b-430e-a3ac-c60ffa991b8e",
   "metadata": {},
   "outputs": [],
   "source": [
    "def get_anime_details_from_linear_search(start_id, step = 1000):\n",
    "    # we provide an alternate method to get an up-to-date list of MAL ids,\n",
    "    # just in case https://github.com/seanbreckenridge/mal-id-cache stops being updated\n",
    "    anime_details = []\n",
    "    failed_ids = []\n",
    "    continue_searching = True\n",
    "\n",
    "    # MAL anime id's are monotonic, but we don't know what the largest anime id is\n",
    "    # Let's do a simple linear search\n",
    "    while continue_searching:\n",
    "        continue_searching = False\n",
    "        for anime_id in tqdm(range(start_id, start_id + step)):\n",
    "            details, ok = get_anime_details(anime_id)\n",
    "            if ok:\n",
    "                anime_details.append(details)\n",
    "                continue_searching = True\n",
    "            else:\n",
    "                failed_ids.append(anime_id)\n",
    "        # we found more series. We haven't hit the max yet\n",
    "        start_id += step\n",
    "    return pd.concat(anime_details, ignore_index=True)"
   ]
  },
  {
   "cell_type": "code",
   "execution_count": null,
   "id": "e36f1963-ea16-474d-9176-fa1dadde29cd",
   "metadata": {},
   "outputs": [],
   "source": [
    "def verify_completion(anime_list, num_extra_ids_to_check=1000):\n",
    "    print(\"Verifying that all anime_ids have been indexed\", flush=True)\n",
    "    max_valid_id = anime_list[\"anime_id\"].max()\n",
    "    for anime_id in tqdm(\n",
    "        range(max_valid_id + 1, max_valid_id + 1 + num_extra_ids_to_check)\n",
    "    ):\n",
    "        details, ok = get_anime_details(anime_id)\n",
    "        if ok:\n",
    "            if details[\"status\"].squeeze() == \"not_yet_aired\":\n",
    "                continue\n",
    "            if (\n",
    "                details[\"num_scoring_users\"].squeeze() == \"NaN\"\n",
    "                or details[\"num_scoring_users\"].squeeze() == 0\n",
    "            ):\n",
    "                continue\n",
    "            raise Exception(\n",
    "                f\"Found a valid anime_id at {anime_id}, which is greater than the max recorded id of {max_valid_id}\"\n",
    "            )"
   ]
  },
  {
   "cell_type": "code",
   "execution_count": null,
   "id": "7b3b79ce-fde4-4cd1-b97f-c514b70cd395",
   "metadata": {
    "tags": []
   },
   "outputs": [],
   "source": [
    "max_anime_id = 0\n",
    "try:\n",
    "    anime_list = get_anime_details_from_cache()\n",
    "    max_anime_id = anime_list[\"anime_id\"].max()\n",
    "    verify_completion(anime_list)\n",
    "except Exception as e:\n",
    "    print(f\"Received error when loading anime_ids from cache: '{str(e)}'.\")\n",
    "    print(\"Regenerating anime_ids via linear search...\")\n",
    "    extra_anime_list = get_anime_details_from_linear_search(max_anime_id+1)\n",
    "    anime_list = pd.concat([anime_list, extra_anime_list], ignore_index=True)\n",
    "anime_list.to_csv(\"anime.csv\", index=False)"
   ]
  },
  {
   "cell_type": "code",
   "execution_count": null,
   "id": "93f8b86e-517d-461b-84ab-74d5196ccec2",
   "metadata": {},
   "outputs": [],
   "source": [
    "1"
   ]
  },
  {
   "cell_type": "code",
   "execution_count": null,
   "id": "e510e57c-8345-4416-b819-e4d51b5c9797",
   "metadata": {},
   "outputs": [],
   "source": [
    "1"
   ]
  },
  {
   "cell_type": "code",
   "execution_count": null,
   "id": "52ac1f11-9d67-4b72-a744-0473a68fc028",
   "metadata": {},
   "outputs": [],
   "source": []
  }
 ],
 "metadata": {
  "kernelspec": {
   "display_name": "Python 3 (ipykernel)",
   "language": "python",
   "name": "python3"
  },
  "language_info": {
   "codemirror_mode": {
    "name": "ipython",
    "version": 3
   },
   "file_extension": ".py",
   "mimetype": "text/x-python",
   "name": "python",
   "nbconvert_exporter": "python",
   "pygments_lexer": "ipython3",
   "version": "3.8.10"
  }
 },
 "nbformat": 4,
 "nbformat_minor": 5
}
