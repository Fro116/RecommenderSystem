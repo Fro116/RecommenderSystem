{
 "cells": [
  {
   "cell_type": "markdown",
   "id": "f550bd4c-2e49-43ff-8d9b-a4189437fe95",
   "metadata": {},
   "source": [
    "# Getting anime details\n",
    "* We store anime metadata in `data/mal/anime_facts/anime.csv`\n",
    "* This notebook should take 1-2 days to finish"
   ]
  },
  {
   "cell_type": "code",
   "execution_count": 1,
   "id": "16a55928-bc2d-4dfb-974f-2480e13c1f0c",
   "metadata": {},
   "outputs": [],
   "source": [
    "import json\n",
    "import os\n",
    "import time\n",
    "\n",
    "import pandas as pd\n",
    "import requests\n",
    "from ratelimit import limits, sleep_and_retry\n",
    "from tqdm import tqdm"
   ]
  },
  {
   "cell_type": "code",
   "execution_count": 2,
   "id": "1e50d2d6-3aa2-4ae2-b6cb-8daa401f6ccf",
   "metadata": {},
   "outputs": [],
   "source": [
    "data_path = \"../../data/mal/anime_facts\"\n",
    "if not os.path.exists(data_path):\n",
    "    os.mkdir(data_path)\n",
    "os.chdir(data_path)"
   ]
  },
  {
   "cell_type": "code",
   "execution_count": 3,
   "id": "a36dd4e4-5e93-4e57-bfca-8f271e4afce8",
   "metadata": {},
   "outputs": [],
   "source": [
    "token = json.load(open(\"../mal_authentication/token.json\", \"r\"))"
   ]
  },
  {
   "cell_type": "code",
   "execution_count": null,
   "id": "24af32f4-da5c-4aba-b519-a60ef03dfd3e",
   "metadata": {},
   "outputs": [],
   "source": [
    "@sleep_and_retry\n",
    "@limits(calls=1, period=0.75)\n",
    "def call_api(url):\n",
    "    try:\n",
    "        response = requests.get(\n",
    "            url, headers={\"Authorization\": f'Bearer {token[\"access_token\"]}'}\n",
    "        )\n",
    "        if response.status_code == 500:\n",
    "            # This can occur if MAL servers go down\n",
    "            raise Exception(f\"{response.status_code}\")\n",
    "    except Exception as e:\n",
    "        retry_timeout = 3600\n",
    "        print(\n",
    "            f\"Received error {str(e)} while accessing {url}. Retrying in {retry_timeout} seconds\"\n",
    "        )\n",
    "        time.sleep(retry_timeout)\n",
    "        return call_api(url)\n",
    "    return response"
   ]
  },
  {
   "cell_type": "code",
   "execution_count": 5,
   "id": "932672ca-3b5a-463e-b3e5-8d65f107f194",
   "metadata": {},
   "outputs": [],
   "source": [
    "all_fields = [\n",
    "    \"id\",\n",
    "    \"title\",\n",
    "    \"main_picture\",\n",
    "    \"alternative_titles\",\n",
    "    \"start_date\",\n",
    "    \"end_date\",\n",
    "    \"synopsis\",\n",
    "    \"mean\",\n",
    "    \"rank\",\n",
    "    \"popularity\",\n",
    "    \"num_list_users\",\n",
    "    \"num_scoring_users\",\n",
    "    \"nsfw\",\n",
    "    \"created_at\",\n",
    "    \"updated_at\",\n",
    "    \"media_type\",\n",
    "    \"status\",\n",
    "    \"genres\",\n",
    "    \"my_list_status\",\n",
    "    \"num_episodes\",\n",
    "    \"start_season\",\n",
    "    \"broadcast\",\n",
    "    \"source\",\n",
    "    \"average_episode_duration\",\n",
    "    \"rating\",\n",
    "    \"pictures\",\n",
    "    \"background\",\n",
    "    \"related_anime\",\n",
    "    \"related_manga\",\n",
    "    \"recommendations\",\n",
    "    \"studios\",\n",
    "    \"statistics\",\n",
    "]"
   ]
  },
  {
   "cell_type": "code",
   "execution_count": 6,
   "id": "a842d012-1ad1-44b8-965f-f8c7301e9257",
   "metadata": {},
   "outputs": [],
   "source": [
    "relevant_fields = [\n",
    "    \"id\",\n",
    "    \"title\",\n",
    "    \"media_type\",\n",
    "    \"status\",\n",
    "    \"genres\",\n",
    "    \"num_episodes\",\n",
    "    \"source\",\n",
    "    \"status\",\n",
    "    \"related_anime\",\n",
    "]"
   ]
  },
  {
   "cell_type": "code",
   "execution_count": 7,
   "id": "8374d573-a74c-413a-b7e1-4844ca44e5cc",
   "metadata": {},
   "outputs": [],
   "source": [
    "def process_json(json):\n",
    "    return pd.DataFrame.from_dict(\n",
    "        {\n",
    "            \"anime_id\": [json[\"id\"]],\n",
    "            \"title\": [json[\"title\"]],\n",
    "            \"genres\": [\n",
    "                [x[\"name\"] for x in json[\"genres\"]] if \"genres\" in json else \"Na\"\n",
    "            ],\n",
    "            \"source\": [json[\"source\"] if \"source\" in json else \"NaN\"],\n",
    "            \"related_anime\": [\n",
    "                [\n",
    "                    {\"anime_id\": x[\"node\"][\"id\"], \"relation\": x[\"relation_type\"]}\n",
    "                    for x in json[\"related_anime\"]\n",
    "                ]\n",
    "            ],\n",
    "        }\n",
    "    )"
   ]
  },
  {
   "cell_type": "code",
   "execution_count": 8,
   "id": "fe17a7c1-f276-4a66-9f13-65b9b3076999",
   "metadata": {},
   "outputs": [],
   "source": [
    "def get_anime_details(anime_id):\n",
    "    url = f'https://api.myanimelist.net/v2/anime/{anime_id}?fields={\",\".join(relevant_fields)}'\n",
    "    response = call_api(url)\n",
    "\n",
    "    if response.status_code == 500:\n",
    "        # The MAL API can spuriously reject for rate limits\n",
    "        print(f\"Error code {response.status_code} for {anime_id}\")\n",
    "        time.sleep(60)\n",
    "        response = call_api(url)\n",
    "\n",
    "    if response.status_code == 404:\n",
    "        return None, False\n",
    "\n",
    "    response.raise_for_status()\n",
    "    df = process_json(response.json())\n",
    "    return df, True"
   ]
  },
  {
   "cell_type": "code",
   "execution_count": 9,
   "id": "cea26a5b-0bd2-480f-a2e7-8dea1b54ac1a",
   "metadata": {},
   "outputs": [],
   "source": [
    "anime_details = []\n",
    "failed_ids = []\n",
    "tentaive_max_anime_id = 10\n",
    "anime_id = 0\n",
    "continue_searching = True"
   ]
  },
  {
   "cell_type": "code",
   "execution_count": 10,
   "id": "db736fe9-ca3e-409c-85b4-4c5745ccbcf1",
   "metadata": {
    "tags": []
   },
   "outputs": [
    {
     "name": "stderr",
     "output_type": "stream",
     "text": [
      "100%|████████████████████████████████████████████████████████████████████████████████████| 9/9 [00:06<00:00,  1.46it/s]\n",
      "100%|████████████████████████████████████████████████████████████████████████████████████| 9/9 [00:06<00:00,  1.32it/s]\n",
      "100%|██████████████████████████████████████████████████████████████████████████████████| 19/19 [00:14<00:00,  1.32it/s]\n",
      "100%|██████████████████████████████████████████████████████████████████████████████████| 39/39 [00:30<00:00,  1.29it/s]\n",
      "100%|██████████████████████████████████████████████████████████████████████████████████| 79/79 [01:01<00:00,  1.28it/s]\n",
      "100%|████████████████████████████████████████████████████████████████████████████████| 159/159 [02:03<00:00,  1.29it/s]\n",
      "100%|████████████████████████████████████████████████████████████████████████████████| 319/319 [04:17<00:00,  1.24it/s]\n",
      "100%|████████████████████████████████████████████████████████████████████████████████| 639/639 [08:11<00:00,  1.30it/s]\n",
      "100%|██████████████████████████████████████████████████████████████████████████████| 1279/1279 [16:45<00:00,  1.27it/s]\n",
      "100%|██████████████████████████████████████████████████████████████████████████████| 2559/2559 [34:31<00:00,  1.24it/s]\n",
      "100%|████████████████████████████████████████████████████████████████████████████| 5119/5119 [1:08:44<00:00,  1.24it/s]\n",
      "100%|██████████████████████████████████████████████████████████████████████████| 10239/10239 [2:10:32<00:00,  1.31it/s]\n",
      "100%|██████████████████████████████████████████████████████████████████████████| 20479/20479 [4:19:28<00:00,  1.32it/s]\n",
      "100%|██████████████████████████████████████████████████████████████████████████| 40959/40959 [8:39:02<00:00,  1.32it/s]\n",
      " 45%|████████████████████████████████▏                                       | 36567/81919 [7:45:49<9:37:44,  1.31it/s]\n"
     ]
    },
    {
     "ename": "HTTPError",
     "evalue": "500 Server Error: Internal Server Error for url: https://api.myanimelist.net/v2/anime/118488?fields=id,title,media_type,status,genres,num_episodes,source,status,related_anime",
     "output_type": "error",
     "traceback": [
      "\u001b[1;31m---------------------------------------------------------------------------\u001b[0m",
      "\u001b[1;31mHTTPError\u001b[0m                                 Traceback (most recent call last)",
      "\u001b[1;32m<ipython-input-10-78fe4647ebd2>\u001b[0m in \u001b[0;36m<module>\u001b[1;34m\u001b[0m\n\u001b[0;32m      4\u001b[0m     \u001b[0mcontinue_searching\u001b[0m \u001b[1;33m=\u001b[0m \u001b[1;32mFalse\u001b[0m\u001b[1;33m\u001b[0m\u001b[1;33m\u001b[0m\u001b[0m\n\u001b[0;32m      5\u001b[0m     \u001b[1;32mfor\u001b[0m \u001b[0manime_id\u001b[0m \u001b[1;32min\u001b[0m \u001b[0mtqdm\u001b[0m\u001b[1;33m(\u001b[0m\u001b[0mrange\u001b[0m\u001b[1;33m(\u001b[0m\u001b[0manime_id\u001b[0m \u001b[1;33m+\u001b[0m \u001b[1;36m1\u001b[0m\u001b[1;33m,\u001b[0m \u001b[0mtentaive_max_anime_id\u001b[0m\u001b[1;33m)\u001b[0m\u001b[1;33m)\u001b[0m\u001b[1;33m:\u001b[0m\u001b[1;33m\u001b[0m\u001b[1;33m\u001b[0m\u001b[0m\n\u001b[1;32m----> 6\u001b[1;33m         \u001b[0mdetails\u001b[0m\u001b[1;33m,\u001b[0m \u001b[0mok\u001b[0m \u001b[1;33m=\u001b[0m \u001b[0mget_anime_details\u001b[0m\u001b[1;33m(\u001b[0m\u001b[0manime_id\u001b[0m\u001b[1;33m)\u001b[0m\u001b[1;33m\u001b[0m\u001b[1;33m\u001b[0m\u001b[0m\n\u001b[0m\u001b[0;32m      7\u001b[0m         \u001b[1;32mif\u001b[0m \u001b[0mok\u001b[0m\u001b[1;33m:\u001b[0m\u001b[1;33m\u001b[0m\u001b[1;33m\u001b[0m\u001b[0m\n\u001b[0;32m      8\u001b[0m             \u001b[0manime_details\u001b[0m\u001b[1;33m.\u001b[0m\u001b[0mappend\u001b[0m\u001b[1;33m(\u001b[0m\u001b[0mdetails\u001b[0m\u001b[1;33m)\u001b[0m\u001b[1;33m\u001b[0m\u001b[1;33m\u001b[0m\u001b[0m\n",
      "\u001b[1;32m<ipython-input-8-bf1906043bb4>\u001b[0m in \u001b[0;36mget_anime_details\u001b[1;34m(anime_id)\u001b[0m\n\u001b[0;32m     12\u001b[0m         \u001b[1;32mreturn\u001b[0m \u001b[1;32mNone\u001b[0m\u001b[1;33m,\u001b[0m \u001b[1;32mFalse\u001b[0m\u001b[1;33m\u001b[0m\u001b[1;33m\u001b[0m\u001b[0m\n\u001b[0;32m     13\u001b[0m \u001b[1;33m\u001b[0m\u001b[0m\n\u001b[1;32m---> 14\u001b[1;33m     \u001b[0mresponse\u001b[0m\u001b[1;33m.\u001b[0m\u001b[0mraise_for_status\u001b[0m\u001b[1;33m(\u001b[0m\u001b[1;33m)\u001b[0m\u001b[1;33m\u001b[0m\u001b[1;33m\u001b[0m\u001b[0m\n\u001b[0m\u001b[0;32m     15\u001b[0m     \u001b[0mdf\u001b[0m \u001b[1;33m=\u001b[0m \u001b[0mprocess_json\u001b[0m\u001b[1;33m(\u001b[0m\u001b[0mresponse\u001b[0m\u001b[1;33m.\u001b[0m\u001b[0mjson\u001b[0m\u001b[1;33m(\u001b[0m\u001b[1;33m)\u001b[0m\u001b[1;33m)\u001b[0m\u001b[1;33m\u001b[0m\u001b[1;33m\u001b[0m\u001b[0m\n\u001b[0;32m     16\u001b[0m     \u001b[1;32mreturn\u001b[0m \u001b[0mdf\u001b[0m\u001b[1;33m,\u001b[0m \u001b[1;32mTrue\u001b[0m\u001b[1;33m\u001b[0m\u001b[1;33m\u001b[0m\u001b[0m\n",
      "\u001b[1;32m~\\anaconda3\\lib\\site-packages\\requests\\models.py\u001b[0m in \u001b[0;36mraise_for_status\u001b[1;34m(self)\u001b[0m\n\u001b[0;32m    941\u001b[0m \u001b[1;33m\u001b[0m\u001b[0m\n\u001b[0;32m    942\u001b[0m         \u001b[1;32mif\u001b[0m \u001b[0mhttp_error_msg\u001b[0m\u001b[1;33m:\u001b[0m\u001b[1;33m\u001b[0m\u001b[1;33m\u001b[0m\u001b[0m\n\u001b[1;32m--> 943\u001b[1;33m             \u001b[1;32mraise\u001b[0m \u001b[0mHTTPError\u001b[0m\u001b[1;33m(\u001b[0m\u001b[0mhttp_error_msg\u001b[0m\u001b[1;33m,\u001b[0m \u001b[0mresponse\u001b[0m\u001b[1;33m=\u001b[0m\u001b[0mself\u001b[0m\u001b[1;33m)\u001b[0m\u001b[1;33m\u001b[0m\u001b[1;33m\u001b[0m\u001b[0m\n\u001b[0m\u001b[0;32m    944\u001b[0m \u001b[1;33m\u001b[0m\u001b[0m\n\u001b[0;32m    945\u001b[0m     \u001b[1;32mdef\u001b[0m \u001b[0mclose\u001b[0m\u001b[1;33m(\u001b[0m\u001b[0mself\u001b[0m\u001b[1;33m)\u001b[0m\u001b[1;33m:\u001b[0m\u001b[1;33m\u001b[0m\u001b[1;33m\u001b[0m\u001b[0m\n",
      "\u001b[1;31mHTTPError\u001b[0m: 500 Server Error: Internal Server Error for url: https://api.myanimelist.net/v2/anime/118488?fields=id,title,media_type,status,genres,num_episodes,source,status,related_anime"
     ]
    }
   ],
   "source": [
    "# MAL anime id's are sequential, but we don't know what the largest anime id is\n",
    "# Let's do a simple exponential search\n",
    "while continue_searching:\n",
    "    continue_searching = False\n",
    "    for anime_id in tqdm(range(anime_id + 1, tentaive_max_anime_id)):\n",
    "        details, ok = get_anime_details(anime_id)\n",
    "        if ok:\n",
    "            anime_details.append(details)\n",
    "            continue_searching = True\n",
    "        else:\n",
    "            failed_ids.append(anime_id)\n",
    "        anime_id += 1\n",
    "    # we found more series; we probably haven't hit the max yet\n",
    "    tentaive_max_anime_id = int(tentaive_max_anime_id * 2)"
   ]
  },
  {
   "cell_type": "code",
   "execution_count": 13,
   "id": "f0bf394f-9fa4-4204-95b3-0ae1a6c89589",
   "metadata": {},
   "outputs": [],
   "source": [
    "anime_list = pd.concat(anime_details, ignore_index=True)"
   ]
  },
  {
   "cell_type": "code",
   "execution_count": 16,
   "id": "391f89f1-1248-4fe4-aeb6-1fd4e5daf839",
   "metadata": {},
   "outputs": [],
   "source": [
    "# Sanity check the results of the exponential search\n",
    "# If this fails then we have stopped the search too early\n",
    "spring_2021_anime_id = 41587\n",
    "assert anime_id > spring_2021_anime_id"
   ]
  },
  {
   "cell_type": "code",
   "execution_count": 15,
   "id": "258b4a62-32b7-43fd-b958-d64db51ccd3b",
   "metadata": {},
   "outputs": [],
   "source": [
    "anime_list.to_csv(os.path.join(data_path, \"anime.csv\"))"
   ]
  }
 ],
 "metadata": {
  "kernelspec": {
   "display_name": "Python 3",
   "language": "python",
   "name": "python3"
  },
  "language_info": {
   "codemirror_mode": {
    "name": "ipython",
    "version": 3
   },
   "file_extension": ".py",
   "mimetype": "text/x-python",
   "name": "python",
   "nbconvert_exporter": "python",
   "pygments_lexer": "ipython3",
   "version": "3.8.8"
  }
 },
 "nbformat": 4,
 "nbformat_minor": 5
}
