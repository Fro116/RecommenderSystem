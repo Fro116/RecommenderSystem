{
 "cells": [
  {
   "cell_type": "markdown",
   "id": "f550bd4c-2e49-43ff-8d9b-a4189437fe95",
   "metadata": {},
   "source": [
    "# Getting anime details\n",
    "* We store anime metadata in `data/mal/anime_facts/anime.csv`"
   ]
  },
  {
   "cell_type": "code",
   "execution_count": 1,
   "id": "16a55928-bc2d-4dfb-974f-2480e13c1f0c",
   "metadata": {},
   "outputs": [],
   "source": [
    "import json\n",
    "import os\n",
    "import time\n",
    "import urllib.request\n",
    "\n",
    "import pandas as pd\n",
    "import requests\n",
    "from ratelimit import limits, sleep_and_retry\n",
    "from tqdm import tqdm"
   ]
  },
  {
   "cell_type": "code",
   "execution_count": 2,
   "id": "1e50d2d6-3aa2-4ae2-b6cb-8daa401f6ccf",
   "metadata": {},
   "outputs": [],
   "source": [
    "data_path = \"../../data/mal/anime_facts\"\n",
    "if not os.path.exists(data_path):\n",
    "    os.mkdir(data_path)\n",
    "os.chdir(data_path)"
   ]
  },
  {
   "cell_type": "code",
   "execution_count": 3,
   "id": "a36dd4e4-5e93-4e57-bfca-8f271e4afce8",
   "metadata": {},
   "outputs": [],
   "source": [
    "token = json.load(open(\"../mal_authentication/token.json\", \"r\"))"
   ]
  },
  {
   "cell_type": "code",
   "execution_count": 4,
   "id": "24af32f4-da5c-4aba-b519-a60ef03dfd3e",
   "metadata": {},
   "outputs": [],
   "source": [
    "@sleep_and_retry\n",
    "@limits(calls=1, period=0.75)\n",
    "def call_api(url):\n",
    "    try:\n",
    "        response = requests.get(\n",
    "            url, headers={\"Authorization\": f'Bearer {token[\"access_token\"]}'}\n",
    "        )\n",
    "        if response.status_code == 500:\n",
    "            # This can occur if MAL servers go down\n",
    "            raise Exception(f\"{response.status_code}\")\n",
    "    except Exception as e:\n",
    "        retry_timeout = 3600\n",
    "        print(\n",
    "            f\"Received error {str(e)} while accessing {url}. Retrying in {retry_timeout} seconds\"\n",
    "        )\n",
    "        time.sleep(retry_timeout)\n",
    "        return call_api(url)\n",
    "    return response"
   ]
  },
  {
   "cell_type": "code",
   "execution_count": 5,
   "id": "932672ca-3b5a-463e-b3e5-8d65f107f194",
   "metadata": {},
   "outputs": [],
   "source": [
    "all_fields = [\n",
    "    \"id\",\n",
    "    \"title\",\n",
    "    \"main_picture\",\n",
    "    \"alternative_titles\",\n",
    "    \"start_date\",\n",
    "    \"end_date\",\n",
    "    \"synopsis\",\n",
    "    \"mean\",\n",
    "    \"rank\",\n",
    "    \"popularity\",\n",
    "    \"num_list_users\",\n",
    "    \"num_scoring_users\",\n",
    "    \"nsfw\",\n",
    "    \"created_at\",\n",
    "    \"updated_at\",\n",
    "    \"media_type\",\n",
    "    \"status\",\n",
    "    \"genres\",\n",
    "    \"my_list_status\",\n",
    "    \"num_episodes\",\n",
    "    \"start_season\",\n",
    "    \"broadcast\",\n",
    "    \"source\",\n",
    "    \"average_episode_duration\",\n",
    "    \"rating\",\n",
    "    \"pictures\",\n",
    "    \"background\",\n",
    "    \"related_anime\",\n",
    "    \"related_manga\",\n",
    "    \"recommendations\",\n",
    "    \"studios\",\n",
    "    \"statistics\",\n",
    "]"
   ]
  },
  {
   "cell_type": "code",
   "execution_count": 6,
   "id": "a842d012-1ad1-44b8-965f-f8c7301e9257",
   "metadata": {},
   "outputs": [],
   "source": [
    "relevant_fields = [\n",
    "    \"id\",\n",
    "    \"title\",\n",
    "    \"media_type\",\n",
    "    \"related_anime\",\n",
    "    \"recommendations\",\n",
    "    \"genres\",\n",
    "    \"source\",\n",
    "    \"num_episodes\",\n",
    "    \"status\",\n",
    "    \"num_scoring_users\",\n",
    "]"
   ]
  },
  {
   "cell_type": "code",
   "execution_count": 7,
   "id": "8374d573-a74c-413a-b7e1-4844ca44e5cc",
   "metadata": {},
   "outputs": [],
   "source": [
    "def process_json(json):\n",
    "    def get_key(key):\n",
    "        return [json[key] if key in json else \"NaN\"]\n",
    "\n",
    "    return pd.DataFrame.from_dict(\n",
    "        {\n",
    "            \"anime_id\": get_key(\"id\"),\n",
    "            \"title\": get_key(\"title\"),\n",
    "            \"medium\": get_key(\"media_type\"),\n",
    "            \"related_anime\": [\n",
    "                [\n",
    "                    {\"anime_id\": x[\"node\"][\"id\"], \"relation\": x[\"relation_type\"]}\n",
    "                    for x in json[\"related_anime\"]\n",
    "                ]\n",
    "            ],\n",
    "            \"recommendations\": [\n",
    "                [\n",
    "                    {\n",
    "                        \"anime_id\": x[\"node\"][\"id\"],\n",
    "                        \"num_recommendations\": x[\"num_recommendations\"],\n",
    "                    }\n",
    "                    for x in json[\"recommendations\"]\n",
    "                ]\n",
    "            ],\n",
    "            \"genres\": [\n",
    "                [x[\"name\"] for x in json[\"genres\"]] if \"genres\" in json else \"NaN\"\n",
    "            ],\n",
    "            \"source\": get_key(\"source\"),\n",
    "            \"num_episodes\": get_key(\"num_episodes\"),\n",
    "            \"status\": get_key(\"status\"),\n",
    "            \"num_scoring_users\": get_key(\"num_scoring_users\")\n",
    "        }\n",
    "    )"
   ]
  },
  {
   "cell_type": "code",
   "execution_count": 8,
   "id": "fe17a7c1-f276-4a66-9f13-65b9b3076999",
   "metadata": {},
   "outputs": [],
   "source": [
    "def get_anime_details(anime_id):\n",
    "    url = f'https://api.myanimelist.net/v2/anime/{anime_id}?fields={\",\".join(relevant_fields)}'\n",
    "    response = call_api(url)\n",
    "    if response.status_code == 404:\n",
    "        return None, False\n",
    "\n",
    "    response.raise_for_status()\n",
    "    df = process_json(response.json())\n",
    "    return df, True"
   ]
  },
  {
   "cell_type": "code",
   "execution_count": 9,
   "id": "983e1ceb-d592-475d-8a38-dc1343c2a460",
   "metadata": {},
   "outputs": [],
   "source": [
    "def get_anime_ids_from_cache():\n",
    "    # uses https://github.com/seanbreckenridge/mal-id-cache to get an up-to-date list of MAL ids\n",
    "    anime_id_cache_url = \"https://raw.githubusercontent.com/seanbreckenridge/mal-id-cache/master/cache/anime_cache.json\"\n",
    "    anime_id_cache = eval(urllib.request.urlopen(anime_id_cache_url).read())\n",
    "    valid_anime_ids = set()\n",
    "    for _, v in anime_id_cache.items():\n",
    "        valid_anime_ids |= set(v)\n",
    "\n",
    "    anime_details = []\n",
    "    for anime_id in tqdm(valid_anime_ids):\n",
    "        details, ok = get_anime_details(anime_id)\n",
    "        if ok:\n",
    "            anime_details.append(details)\n",
    "        else:\n",
    "            print(f\"Stale cache value for anime_id {anime_id}.\")\n",
    "    return pd.concat(anime_details, ignore_index=True)"
   ]
  },
  {
   "cell_type": "code",
   "execution_count": 10,
   "id": "355179a9-7f5b-430e-a3ac-c60ffa991b8e",
   "metadata": {},
   "outputs": [],
   "source": [
    "def get_anime_ids_from_exponential_search():\n",
    "    # we provide an alternate method to get an up-to-date list of MAL ids, \n",
    "    # just in case https://github.com/seanbreckenridge/mal-id-cache stops being updated\n",
    "    anime_details = []\n",
    "    failed_ids = []\n",
    "    tentative_max_anime_id = 10\n",
    "    anime_id = 0\n",
    "    continue_searching = True\n",
    "\n",
    "    # MAL anime id's are monotonic, but we don't know what the largest anime id is\n",
    "    # Let's do a simple exponential search\n",
    "    while continue_searching:\n",
    "        continue_searching = False\n",
    "        for anime_id in tqdm(range(anime_id + 1, tentative_max_anime_id)):\n",
    "            details, ok = get_anime_details(anime_id)\n",
    "            if ok:\n",
    "                anime_details.append(details)\n",
    "                continue_searching = True\n",
    "            else:\n",
    "                failed_ids.append(anime_id)\n",
    "            anime_id += 1\n",
    "        # we found more series; we probably haven't hit the max yet\n",
    "        tentative_max_anime_id = int(tentative_max_anime_id * 2)\n",
    "    return pd.concat(anime_details, ignore_index=True)"
   ]
  },
  {
   "cell_type": "code",
   "execution_count": 11,
   "id": "e36f1963-ea16-474d-9176-fa1dadde29cd",
   "metadata": {},
   "outputs": [],
   "source": [
    "def verify_completion(anime_list, num_extra_ids_to_check=1000):\n",
    "    print(\"Verifying that all anime_ids have been indexed\", flush=True)\n",
    "    max_valid_id = anime_list[\"anime_id\"].max()\n",
    "    for anime_id in tqdm(range(max_valid_id + 1, max_valid_id + 1 + num_extra_ids_to_check)):\n",
    "        details, ok = get_anime_details(anime_id)\n",
    "        if ok:\n",
    "            if details[\"status\"].squeeze() == 'not_yet_aired':\n",
    "                continue\n",
    "            if details[\"num_scoring_users\"].squeeze() == \"NaN\" or details[\"num_scoring_users\"].squeeze() == 0:\n",
    "                continue\n",
    "            raise Exception(\n",
    "                f\"Found a valid anime_id at {anime_id}, which is greater than the max recorded id of {max_valid_id}\"\n",
    "            )"
   ]
  },
  {
   "cell_type": "code",
   "execution_count": 12,
   "id": "7b3b79ce-fde4-4cd1-b97f-c514b70cd395",
   "metadata": {
    "tags": []
   },
   "outputs": [
    {
     "name": "stderr",
     "output_type": "stream",
     "text": [
      " 29%|█████████████████████▍                                                   | 5251/17875 [1:08:28<2:37:50,  1.33it/s]"
     ]
    },
    {
     "name": "stdout",
     "output_type": "stream",
     "text": [
      "Stale cache value for anime_id 8149.\n"
     ]
    },
    {
     "name": "stderr",
     "output_type": "stream",
     "text": [
      " 73%|████████████████████████████████████████████████████▎                   | 12981/17875 [2:49:22<1:01:31,  1.33it/s]"
     ]
    },
    {
     "name": "stdout",
     "output_type": "stream",
     "text": [
      "Stale cache value for anime_id 35322.\n"
     ]
    },
    {
     "name": "stderr",
     "output_type": "stream",
     "text": [
      " 78%|█████████████████████████████████████████████████████████▋                | 13946/17875 [3:02:08<47:43,  1.37it/s]"
     ]
    },
    {
     "name": "stdout",
     "output_type": "stream",
     "text": [
      "Stale cache value for anime_id 36925.\n"
     ]
    },
    {
     "name": "stderr",
     "output_type": "stream",
     "text": [
      " 86%|███████████████████████████████████████████████████████████████▌          | 15367/17875 [3:20:38<33:18,  1.26it/s]"
     ]
    },
    {
     "name": "stdout",
     "output_type": "stream",
     "text": [
      "Stale cache value for anime_id 39143.\n"
     ]
    },
    {
     "name": "stderr",
     "output_type": "stream",
     "text": [
      "100%|██████████████████████████████████████████████████████████████████████████| 17875/17875 [3:53:15<00:00,  1.28it/s]\n"
     ]
    },
    {
     "name": "stdout",
     "output_type": "stream",
     "text": [
      "Verifying that all anime_ids have been indexed\n"
     ]
    },
    {
     "name": "stderr",
     "output_type": "stream",
     "text": [
      "100%|██████████████████████████████████████████████████████████████████████████████| 1000/1000 [13:03<00:00,  1.28it/s]\n"
     ]
    }
   ],
   "source": [
    "try:\n",
    "    anime_list = get_anime_ids_from_cache()\n",
    "    verify_completion(anime_list)\n",
    "except Exception as e:\n",
    "    print(f\"Received error when loading anime_ids from cache: '{str(e)}'.\")\n",
    "    print(\"Regenerating anime_ids via exponential search...\")\n",
    "    anime_list = get_anime_ids_from_exponential_search()\n",
    "    verify_completion(anime_list)  \n",
    "anime_list.to_csv(\"anime.csv\", index=False)"
   ]
  }
 ],
 "metadata": {
  "kernelspec": {
   "display_name": "Python 3",
   "language": "python",
   "name": "python3"
  },
  "language_info": {
   "codemirror_mode": {
    "name": "ipython",
    "version": 3
   },
   "file_extension": ".py",
   "mimetype": "text/x-python",
   "name": "python",
   "nbconvert_exporter": "python",
   "pygments_lexer": "ipython3",
   "version": "3.8.8"
  }
 },
 "nbformat": 4,
 "nbformat_minor": 5
}
