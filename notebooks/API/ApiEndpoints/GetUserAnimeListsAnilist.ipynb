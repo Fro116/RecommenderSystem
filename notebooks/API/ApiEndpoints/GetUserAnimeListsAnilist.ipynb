{
 "cells": [
  {
   "cell_type": "markdown",
   "id": "1915b44a-3a42-431f-bd6c-94edf9e5bc36",
   "metadata": {
    "tags": []
   },
   "source": [
    "# Getting Anilist anime-lists\n",
    "* See GetUserAnimeLists.ipynb for more info"
   ]
  },
  {
   "cell_type": "code",
   "execution_count": null,
   "id": "e1604958-bdbe-4883-9ec4-be6859a63f29",
   "metadata": {
    "tags": [
     "parameters"
    ]
   },
   "outputs": [],
   "source": [
    "PARTITION = 0\n",
    "NUM_PARTITIONS = 1"
   ]
  },
  {
   "cell_type": "code",
   "execution_count": null,
   "id": "98e8108b-a567-4a38-8a00-c334eeaab9d4",
   "metadata": {},
   "outputs": [],
   "source": [
    "name = \"anilist\"\n",
    "users_per_batch = 50000"
   ]
  },
  {
   "cell_type": "code",
   "execution_count": null,
   "id": "622d5273-5795-41ce-a967-c91f63c0631c",
   "metadata": {},
   "outputs": [],
   "source": [
    "def read_usernames():\n",
    "    users = list(range(1, 1000000)) + list(range(5100000, 6198876))\n",
    "    users = [str(x) for x in users]\n",
    "    np.random.shuffle(users)\n",
    "    return users"
   ]
  },
  {
   "cell_type": "code",
   "execution_count": null,
   "id": "ccff50e8-6b5b-422a-a0b7-0475351f1045",
   "metadata": {
    "tags": []
   },
   "outputs": [],
   "source": [
    "%run GetUserAnimeLists.ipynb"
   ]
  }
 ],
 "metadata": {
  "kernelspec": {
   "display_name": "Python 3 (ipykernel)",
   "language": "python",
   "name": "python3"
  },
  "language_info": {
   "codemirror_mode": {
    "name": "ipython",
    "version": 3
   },
   "file_extension": ".py",
   "mimetype": "text/x-python",
   "name": "python",
   "nbconvert_exporter": "python",
   "pygments_lexer": "ipython3",
   "version": "3.10.6"
  }
 },
 "nbformat": 4,
 "nbformat_minor": 5
}
