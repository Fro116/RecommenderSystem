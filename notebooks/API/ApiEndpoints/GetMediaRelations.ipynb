{
 "cells": [
  {
   "cell_type": "markdown",
   "id": "f550bd4c-2e49-43ff-8d9b-a4189437fe95",
   "metadata": {},
   "source": [
    "# Getting media relations\n",
    "* We store metadata in `data/mal/anime_facts/anime_relations.csv`\n",
    "* We use anilist as a source because the related_series endpoint is broken on MAL"
   ]
  },
  {
   "cell_type": "code",
   "execution_count": null,
   "id": "16a55928-bc2d-4dfb-974f-2480e13c1f0c",
   "metadata": {},
   "outputs": [],
   "source": [
    "import glob\n",
    "import logging\n",
    "import os\n",
    "\n",
    "from tqdm import tqdm"
   ]
  },
  {
   "cell_type": "code",
   "execution_count": null,
   "id": "7c5d02e0-d861-4fa8-ae7d-7817ded0bdf3",
   "metadata": {
    "tags": [
     "parameters"
    ]
   },
   "outputs": [],
   "source": [
    "source_media = \"\"\n",
    "PROXY_NUMBER = 0\n",
    "NUM_PARTITIONS = 1"
   ]
  },
  {
   "cell_type": "markdown",
   "id": "12519d36-ea48-4c1c-aa75-a6a7d84152ef",
   "metadata": {},
   "source": [
    "# Setup"
   ]
  },
  {
   "cell_type": "code",
   "execution_count": null,
   "id": "6db574f0-b22a-4447-a03c-5c87e444c798",
   "metadata": {},
   "outputs": [],
   "source": [
    "def import_notebook(nb):\n",
    "    cwd = os.getcwd()\n",
    "    try:\n",
    "        os.chdir(os.path.dirname(nb))\n",
    "        script = os.path.basename(nb)\n",
    "        %run $script\n",
    "    finally:\n",
    "        os.chdir(cwd)"
   ]
  },
  {
   "cell_type": "code",
   "execution_count": null,
   "id": "92745bd1-1430-4440-9b82-36c094967bf2",
   "metadata": {},
   "outputs": [],
   "source": [
    "import_notebook(f\"../API/MalApi.ipynb\")"
   ]
  },
  {
   "cell_type": "code",
   "execution_count": null,
   "id": "1e50d2d6-3aa2-4ae2-b6cb-8daa401f6ccf",
   "metadata": {},
   "outputs": [],
   "source": [
    "data_path = f\"../../../data/mal/{source_media}_facts\"\n",
    "if not os.path.exists(data_path):\n",
    "    os.mkdir(data_path)\n",
    "os.chdir(data_path)"
   ]
  },
  {
   "cell_type": "code",
   "execution_count": null,
   "id": "6199917e-ad6d-4ad4-996b-abb7a705e3e2",
   "metadata": {},
   "outputs": [],
   "source": [
    "name = f\"get_{source_media}_relations\"\n",
    "logger = logging.getLogger(name)\n",
    "logger.setLevel(logging.DEBUG)\n",
    "formatter = logging.Formatter(\n",
    "    \"%(name)s:%(levelname)s:%(asctime)s: %(message)s\", datefmt=\"%Y-%m-%d %H:%M:%S\"\n",
    ")\n",
    "for stream in [\n",
    "    logging.FileHandler(f\"{name}.{PROXY_NUMBER}.log\", \"w+\"),\n",
    "]:\n",
    "    stream.setFormatter(formatter)\n",
    "    logger.addHandler(stream)"
   ]
  },
  {
   "cell_type": "markdown",
   "id": "fb69ce62-8fd4-4479-8197-1ced9a890b36",
   "metadata": {},
   "source": [
    "# Collect data"
   ]
  },
  {
   "cell_type": "code",
   "execution_count": null,
   "id": "bcf1666f-8e2d-4513-b009-079cc1d9e9ae",
   "metadata": {},
   "outputs": [],
   "source": [
    "def get_media_ids(input_fn):\n",
    "    item_ids = set()\n",
    "    with open(input_fn, \"r\") as in_file:\n",
    "        header = False\n",
    "        for line in tqdm(in_file):\n",
    "            if not header:\n",
    "                idx = line.strip().split(\",\").index(\"uid\")\n",
    "                header = True\n",
    "                continue\n",
    "            item_id = line.strip().split(\",\")[idx]\n",
    "            item_ids.add(int(item_id))\n",
    "    return item_ids"
   ]
  },
  {
   "cell_type": "code",
   "execution_count": null,
   "id": "0af69cfa",
   "metadata": {
    "tags": []
   },
   "outputs": [],
   "source": [
    "media_ids = set()\n",
    "for file in glob.glob(f\"../user_{source_media}_facts/user_{source_media}_list.*.csv\"):\n",
    "    media_ids |= get_media_ids(file)\n",
    "media_ids = sorted(media_ids)\n",
    "media_ids = sorted(\n",
    "    [x for (i, x) in enumerate(media_ids) if i % NUM_PARTITIONS == PROXY_NUMBER]\n",
    ")"
   ]
  },
  {
   "cell_type": "code",
   "execution_count": null,
   "id": "6f5b625a-5b6f-499a-a7bd-7f9987204f3a",
   "metadata": {},
   "outputs": [],
   "source": [
    "media_relations = [get_media_relations(x, source_media) for x in tqdm(media_ids)]\n",
    "media_relations = pd.concat(media_relations, ignore_index=True)\n",
    "media_relations.to_csv(f\"{source_media}_relations.{PROXY_NUMBER}.csv\", index=False)"
   ]
  }
 ],
 "metadata": {
  "kernelspec": {
   "display_name": "Python 3 (ipykernel)",
   "language": "python",
   "name": "python3"
  },
  "language_info": {
   "codemirror_mode": {
    "name": "ipython",
    "version": 3
   },
   "file_extension": ".py",
   "mimetype": "text/x-python",
   "name": "python",
   "nbconvert_exporter": "python",
   "pygments_lexer": "ipython3",
   "version": "3.10.12"
  }
 },
 "nbformat": 4,
 "nbformat_minor": 5
}
