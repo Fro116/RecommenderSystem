{
 "cells": [
  {
   "cell_type": "code",
   "execution_count": null,
   "id": "b9a660d8-4536-4e78-92ec-e2dd97da9a9e",
   "metadata": {},
   "outputs": [],
   "source": [
    "import os\n",
    "import subprocess\n",
    "import time"
   ]
  },
  {
   "cell_type": "code",
   "execution_count": null,
   "id": "9069b51a-a5a2-4ac4-ac3d-a3900e3823b7",
   "metadata": {},
   "outputs": [],
   "source": [
    "os.chdir(\"..\")\n",
    "cwd = os.getcwd()"
   ]
  },
  {
   "cell_type": "code",
   "execution_count": null,
   "id": "be0f7b68-e530-49f4-8bd4-442f0666d62a",
   "metadata": {},
   "outputs": [],
   "source": [
    "outdir = \"../../../data/papermill/api\"\n",
    "if not os.path.exists(outdir):\n",
    "    os.makedirs(outdir, exist_ok=True)"
   ]
  },
  {
   "cell_type": "code",
   "execution_count": null,
   "id": "d6a4398f-99f8-4960-86c9-c626d7ed4c6b",
   "metadata": {},
   "outputs": [],
   "source": [
    "def spawn_process(cmdlist):\n",
    "    print(cmdlist)\n",
    "    p = subprocess.Popen(cmdlist)\n",
    "    time.sleep(2)\n",
    "    return p"
   ]
  },
  {
   "cell_type": "code",
   "execution_count": null,
   "id": "f9f7ca7f-dbd7-48c7-b6fb-228357ee906d",
   "metadata": {},
   "outputs": [],
   "source": [
    "def spawn_notebook(script, name=None, args=[]):\n",
    "    if name is None:\n",
    "        name = script\n",
    "    cmdlist = [\n",
    "        \"papermill\",\n",
    "        f\"{cwd}/{script}.ipynb\",\n",
    "        f\"{outdir}/{name}.ipynb\",\n",
    "    ] + args\n",
    "    return spawn_process(cmdlist)"
   ]
  },
  {
   "cell_type": "code",
   "execution_count": null,
   "id": "6a584139-0fe1-4cc4-acbb-81745a305444",
   "metadata": {},
   "outputs": [],
   "source": [
    "NUM_PROXIES = 6"
   ]
  },
  {
   "cell_type": "code",
   "execution_count": null,
   "id": "86de9722-1dce-49e8-8708-91f086f956f0",
   "metadata": {},
   "outputs": [],
   "source": [
    "procs = [\n",
    "    spawn_notebook(\n",
    "        \"GetMediaRelations\",\n",
    "        name=f\"GetAnimeRelations.{i}\",\n",
    "        args=[\n",
    "            \"-p\",\n",
    "            \"source_media\",\n",
    "            \"anime\",\n",
    "            \"-p\",\n",
    "            \"PROXY_NUMBER\",\n",
    "            str(i),\n",
    "            \"-p\",\n",
    "            \"NUM_PARTITIONS\",\n",
    "            str(NUM_PROXIES),\n",
    "        ],\n",
    "    )\n",
    "    for i in range(NUM_PROXIES)\n",
    "]\n",
    "[p.wait() for p in procs]"
   ]
  },
  {
   "cell_type": "code",
   "execution_count": null,
   "id": "31404924-006f-48b5-bc99-73373133789e",
   "metadata": {},
   "outputs": [],
   "source": [
    "procs = [\n",
    "    spawn_notebook(\n",
    "        \"GetMediaRelations\",\n",
    "        name=f\"GetMangaRelations.{i}\",\n",
    "        args=[\n",
    "            \"-p\",\n",
    "            \"source_media\",\n",
    "            \"manga\",\n",
    "            \"-p\",\n",
    "            \"PROXY_NUMBER\",\n",
    "            str(i),\n",
    "            \"-p\",\n",
    "            \"NUM_PARTITIONS\",\n",
    "            str(NUM_PROXIES),\n",
    "        ],\n",
    "    )\n",
    "    for i in range(NUM_PROXIES)\n",
    "]\n",
    "[p.wait() for p in procs]"
   ]
  },
  {
   "cell_type": "code",
   "execution_count": null,
   "id": "df7729eb-a6a2-48d1-8fef-1af304545b31",
   "metadata": {
    "tags": []
   },
   "outputs": [],
   "source": [
    "procs = [\n",
    "    spawn_notebook(\n",
    "        \"GetUsersAnilist\",\n",
    "        name=f\"GetUsersAnilist.{i}\",\n",
    "        args=[\"-p\", \"PROXY_NUMBER\", str(i), \"-p\", \"NUM_PARTITIONS\", str(NUM_PROXIES)],\n",
    "    )\n",
    "    for i in range(NUM_PROXIES)\n",
    "]\n",
    "[p.wait() for p in procs]"
   ]
  }
 ],
 "metadata": {
  "kernelspec": {
   "display_name": "Python 3 (ipykernel)",
   "language": "python",
   "name": "python3"
  },
  "language_info": {
   "codemirror_mode": {
    "name": "ipython",
    "version": 3
   },
   "file_extension": ".py",
   "mimetype": "text/x-python",
   "name": "python",
   "nbconvert_exporter": "python",
   "pygments_lexer": "ipython3",
   "version": "3.10.6"
  }
 },
 "nbformat": 4,
 "nbformat_minor": 5
}
