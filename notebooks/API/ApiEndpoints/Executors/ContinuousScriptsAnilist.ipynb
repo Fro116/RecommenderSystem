{
 "cells": [
  {
   "cell_type": "markdown",
   "id": "5888d7c7-4691-48d1-af03-921174b56592",
   "metadata": {},
   "source": [
    "# Continous Anilist Scripts\n",
    "* This notebook will run indefinitely. You must manually kill this notebook once a sufficient number of lists have been found"
   ]
  },
  {
   "cell_type": "code",
   "execution_count": null,
   "id": "b9a660d8-4536-4e78-92ec-e2dd97da9a9e",
   "metadata": {},
   "outputs": [],
   "source": [
    "import os\n",
    "import subprocess\n",
    "import time\n",
    "\n",
    "from ratelimit import limits, sleep_and_retry"
   ]
  },
  {
   "cell_type": "code",
   "execution_count": null,
   "id": "9069b51a-a5a2-4ac4-ac3d-a3900e3823b7",
   "metadata": {},
   "outputs": [],
   "source": [
    "os.chdir(\"..\")\n",
    "cwd = os.getcwd()"
   ]
  },
  {
   "cell_type": "code",
   "execution_count": null,
   "id": "b56e95ea-c8c8-4743-9b00-d34643abeb7a",
   "metadata": {},
   "outputs": [],
   "source": [
    "procs = {}"
   ]
  },
  {
   "cell_type": "code",
   "execution_count": null,
   "id": "80a32cf9-c3b1-4417-8808-02eb2f3f97f6",
   "metadata": {},
   "outputs": [],
   "source": [
    "proxyfn = \"../../../environment/proxies/proxy_map.txt\"\n",
    "if os.path.exists(proxyfn):\n",
    "    PROXIES = []\n",
    "    with open(proxyfn) as f:\n",
    "        for line in f:\n",
    "            fields = line.strip().split(\",\")\n",
    "            if \"anilist\" in fields:\n",
    "                PROXIES.append(fields[0])\n",
    "else:\n",
    "    PROXIES = [0]"
   ]
  },
  {
   "cell_type": "code",
   "execution_count": null,
   "id": "051fca74-9af7-43e7-bb22-c3ea11b1dd3a",
   "metadata": {},
   "outputs": [],
   "source": [
    "@sleep_and_retry\n",
    "@limits(calls=1, period=5)\n",
    "def spawn_process(cmdlist):\n",
    "    print(cmdlist)\n",
    "    return subprocess.Popen(cmdlist)"
   ]
  },
  {
   "cell_type": "code",
   "execution_count": null,
   "id": "636a8052-eb1c-4c41-abcf-5542847b2d90",
   "metadata": {},
   "outputs": [],
   "source": [
    "def spawn_anilist_process(partition, num_partitions, proxyid):\n",
    "    cmdlist = [\n",
    "        \"papermill\",\n",
    "        f\"{cwd}/GetUserMediaListsAnilist.ipynb\",\n",
    "        \"/dev/null\",        \n",
    "        \"-p\",\n",
    "        \"PARTITION\",\n",
    "        str(partition),\n",
    "        \"-p\",\n",
    "        \"NUM_PARTITIONS\",\n",
    "        str(num_partitions),\n",
    "        \"-p\",\n",
    "        \"PROXY_NUMBER\",\n",
    "        str(proxyid),\n",
    "    ]\n",
    "    return spawn_process(cmdlist)"
   ]
  },
  {
   "cell_type": "code",
   "execution_count": null,
   "id": "ef2bfa1a-0615-48f0-af9c-72ace437910c",
   "metadata": {},
   "outputs": [],
   "source": [
    "def spawn(i):\n",
    "    return spawn_anilist_process(i, len(PROXIES), PROXIES[i])"
   ]
  },
  {
   "cell_type": "code",
   "execution_count": null,
   "id": "c5c8cf7a-7c57-410a-8551-e4c8e19fa786",
   "metadata": {
    "tags": []
   },
   "outputs": [],
   "source": [
    "for i in range(len(PROXIES)):\n",
    "    procs[i] = spawn(i)"
   ]
  },
  {
   "cell_type": "code",
   "execution_count": null,
   "id": "53415d45-b4b0-4561-b622-a9fbc582a026",
   "metadata": {},
   "outputs": [],
   "source": [
    "while True:\n",
    "    time.sleep(1)\n",
    "    for k, v in procs.items():\n",
    "        if v.poll() is not None:\n",
    "            # spawn a new process to replace the finished one\n",
    "            procs[k] = spawn(k)"
   ]
  }
 ],
 "metadata": {
  "kernelspec": {
   "display_name": "Python 3 (ipykernel)",
   "language": "python",
   "name": "python3"
  },
  "language_info": {
   "codemirror_mode": {
    "name": "ipython",
    "version": 3
   },
   "file_extension": ".py",
   "mimetype": "text/x-python",
   "name": "python",
   "nbconvert_exporter": "python",
   "pygments_lexer": "ipython3",
   "version": "3.10.12"
  }
 },
 "nbformat": 4,
 "nbformat_minor": 5
}
