{
 "cells": [
  {
   "cell_type": "markdown",
   "id": "c23842b9-2756-4cd8-a61e-d6d3a1e7b654",
   "metadata": {},
   "source": [
    "# Continous Mal Scripts\n",
    "* This notebook will run indefinitely. You must manually kill this notebook once a sufficient number of lists have been found"
   ]
  },
  {
   "cell_type": "code",
   "execution_count": null,
   "id": "b9a660d8-4536-4e78-92ec-e2dd97da9a9e",
   "metadata": {},
   "outputs": [],
   "source": [
    "import glob\n",
    "import os\n",
    "import subprocess\n",
    "import time"
   ]
  },
  {
   "cell_type": "code",
   "execution_count": null,
   "id": "9069b51a-a5a2-4ac4-ac3d-a3900e3823b7",
   "metadata": {},
   "outputs": [],
   "source": [
    "os.chdir(\"..\")\n",
    "cwd = os.getcwd()\n",
    "procs = []"
   ]
  },
  {
   "cell_type": "code",
   "execution_count": null,
   "id": "b8836448-7945-481e-8349-e0218b6da1e3",
   "metadata": {},
   "outputs": [],
   "source": [
    "if os.path.exists(\"../../../data/proxies\"):\n",
    "    API_PERIOD_MULT = 1\n",
    "    LIST_PROXIES = []\n",
    "    MEDIA_PROXIES = []\n",
    "    with open(\"../../../data/proxies/proxy_map.txt\") as f:\n",
    "        for line in f:\n",
    "            fields = line.strip().split(\",\")\n",
    "            if \"mal\" in fields:\n",
    "                LIST_PROXIES.append(fields[0])\n",
    "            if \"media\" in fields:\n",
    "                MEDIA_PROXIES.append(fields[0])\n",
    "else:\n",
    "    API_PERIOD_MULT = 2\n",
    "    LIST_PROXIES = [0]\n",
    "    MEDIA_PROXIES = [0]"
   ]
  },
  {
   "cell_type": "code",
   "execution_count": null,
   "id": "051fca74-9af7-43e7-bb22-c3ea11b1dd3a",
   "metadata": {},
   "outputs": [],
   "source": [
    "def spawn_process(cmdlist):\n",
    "    print(cmdlist)\n",
    "    p = subprocess.Popen(cmdlist)\n",
    "    procs.append(p)\n",
    "    time.sleep(1)"
   ]
  },
  {
   "cell_type": "code",
   "execution_count": null,
   "id": "0ab794b1-8c61-4aae-9c3c-e9046210b9f1",
   "metadata": {},
   "outputs": [],
   "source": [
    "def spawn_mal_process(script, partition, num_partitions, proxyid, periodmult):\n",
    "    cmdlist = [\n",
    "        \"papermill\",\n",
    "        f\"{cwd}/{script}.ipynb\",\n",
    "        \"/dev/null\",\n",
    "        \"-p\",\n",
    "        \"PARTITION\",\n",
    "        str(partition),\n",
    "        \"-p\",\n",
    "        \"NUM_PARTITIONS\",\n",
    "        str(num_partitions),\n",
    "        \"-p\",\n",
    "        \"PROXY_NUMBER\",\n",
    "        str(proxyid),\n",
    "        \"-p\",\n",
    "        \"TOKEN_NUMBER\",\n",
    "        str(proxyid),\n",
    "        \"-p\",\n",
    "        \"API_PERIOD_MULT\",\n",
    "        str(periodmult),\n",
    "    ]\n",
    "    spawn_process(cmdlist)"
   ]
  },
  {
   "cell_type": "code",
   "execution_count": null,
   "id": "4a3c7778-a813-4b72-8aab-bdd05d844bb6",
   "metadata": {
    "tags": []
   },
   "outputs": [],
   "source": [
    "for i in range(len(LIST_PROXIES)):\n",
    "    spawn_mal_process(\n",
    "        \"GetUserMediaListsMal\", i, len(LIST_PROXIES), LIST_PROXIES[i], API_PERIOD_MULT\n",
    "    )"
   ]
  },
  {
   "cell_type": "code",
   "execution_count": null,
   "id": "62a9170e-07ba-4b0f-a3db-3c861dce001f",
   "metadata": {},
   "outputs": [],
   "source": [
    "for i in range(len(MEDIA_PROXIES)):\n",
    "    spawn_mal_process(\n",
    "        \"GetMedia\", i, len(MEDIA_PROXIES), MEDIA_PROXIES[i], API_PERIOD_MULT\n",
    "    )"
   ]
  },
  {
   "cell_type": "code",
   "execution_count": null,
   "id": "82a8a712-c7e7-4388-8e39-385d8223809e",
   "metadata": {},
   "outputs": [],
   "source": [
    "# keep the notebook alive so the procs don't die\n",
    "while True:\n",
    "    time.sleep(3600)"
   ]
  }
 ],
 "metadata": {
  "kernelspec": {
   "display_name": "Python 3 (ipykernel)",
   "language": "python",
   "name": "python3"
  },
  "language_info": {
   "codemirror_mode": {
    "name": "ipython",
    "version": 3
   },
   "file_extension": ".py",
   "mimetype": "text/x-python",
   "name": "python",
   "nbconvert_exporter": "python",
   "pygments_lexer": "ipython3",
   "version": "3.9.6"
  }
 },
 "nbformat": 4,
 "nbformat_minor": 5
}
