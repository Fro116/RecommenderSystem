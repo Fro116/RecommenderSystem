{
 "cells": [
  {
   "cell_type": "markdown",
   "id": "c23842b9-2756-4cd8-a61e-d6d3a1e7b654",
   "metadata": {},
   "source": [
    "# Continous Mal Scripts\n",
    "* This notebook will run indefinitely. You must manually kill this notebook once a sufficient number of lists have been found"
   ]
  },
  {
   "cell_type": "code",
   "execution_count": null,
   "id": "b9a660d8-4536-4e78-92ec-e2dd97da9a9e",
   "metadata": {},
   "outputs": [],
   "source": [
    "import glob\n",
    "import os\n",
    "import subprocess\n",
    "import time"
   ]
  },
  {
   "cell_type": "code",
   "execution_count": null,
   "id": "9069b51a-a5a2-4ac4-ac3d-a3900e3823b7",
   "metadata": {},
   "outputs": [],
   "source": [
    "os.chdir(\"..\")\n",
    "cwd = os.getcwd()\n",
    "procs = []"
   ]
  },
  {
   "cell_type": "code",
   "execution_count": null,
   "id": "b8836448-7945-481e-8349-e0218b6da1e3",
   "metadata": {},
   "outputs": [],
   "source": [
    "if os.path.exists(\"../../../data/proxies\"):\n",
    "    PROXIES = []\n",
    "    with open(\"../../../data/proxies/proxy_map.txt\") as f:\n",
    "        for line in f:\n",
    "            fields = line.strip().split(\",\")\n",
    "            if \"mal\" in fields:\n",
    "                PROXIES.append(fields[0])\n",
    "else:\n",
    "    PROXIES = [0]"
   ]
  },
  {
   "cell_type": "code",
   "execution_count": null,
   "id": "e02031ca-947d-40bd-bdef-711b27dc3611",
   "metadata": {},
   "outputs": [],
   "source": [
    "NUM_ACCESS_TOKENS = len(\n",
    "    glob.glob(\"../../../data/mal/mal_authentication/clientid.*.txt\")\n",
    ")"
   ]
  },
  {
   "cell_type": "code",
   "execution_count": null,
   "id": "3f6dff7b-79b1-4a65-8085-c1e003140e28",
   "metadata": {},
   "outputs": [],
   "source": [
    "NUM_MAL_PARTITIONS = min(NUM_ACCESS_TOKENS, len(PROXIES))"
   ]
  },
  {
   "cell_type": "code",
   "execution_count": null,
   "id": "051fca74-9af7-43e7-bb22-c3ea11b1dd3a",
   "metadata": {},
   "outputs": [],
   "source": [
    "def spawn_process(cmdlist):\n",
    "    print(cmdlist)\n",
    "    p = subprocess.Popen(cmdlist)\n",
    "    procs.append(p)\n",
    "    time.sleep(1)"
   ]
  },
  {
   "cell_type": "code",
   "execution_count": null,
   "id": "0ab794b1-8c61-4aae-9c3c-e9046210b9f1",
   "metadata": {},
   "outputs": [],
   "source": [
    "def spawn_mal_process(partition, num_partitions, proxyid):\n",
    "    cmdlist = [\n",
    "        \"papermill\",\n",
    "        f\"{cwd}/GetUserMediaListsMal.ipynb\",\n",
    "        \"/dev/null\",\n",
    "        \"-p\",\n",
    "        \"PARTITION\",\n",
    "        str(partition),\n",
    "        \"-p\",\n",
    "        \"NUM_PARTITIONS\",\n",
    "        str(num_partitions),\n",
    "        \"-p\",\n",
    "        \"PROXY_NUMBER\",\n",
    "        str(proxyid),\n",
    "        \"-p\",\n",
    "        \"TOKEN_NUMBER\",\n",
    "        str(proxyid),      \n",
    "    ]\n",
    "    spawn_process(cmdlist)"
   ]
  },
  {
   "cell_type": "code",
   "execution_count": null,
   "id": "4a3c7778-a813-4b72-8aab-bdd05d844bb6",
   "metadata": {
    "tags": []
   },
   "outputs": [],
   "source": [
    "for i in range(NUM_MAL_PARTITIONS):\n",
    "    spawn_mal_process(i, NUM_MAL_PARTITIONS, PROXIES[i])"
   ]
  }
 ],
 "metadata": {
  "kernelspec": {
   "display_name": "Python 3 (ipykernel)",
   "language": "python",
   "name": "python3"
  },
  "language_info": {
   "codemirror_mode": {
    "name": "ipython",
    "version": 3
   },
   "file_extension": ".py",
   "mimetype": "text/x-python",
   "name": "python",
   "nbconvert_exporter": "python",
   "pygments_lexer": "ipython3",
   "version": "3.10.12"
  }
 },
 "nbformat": 4,
 "nbformat_minor": 5
}
