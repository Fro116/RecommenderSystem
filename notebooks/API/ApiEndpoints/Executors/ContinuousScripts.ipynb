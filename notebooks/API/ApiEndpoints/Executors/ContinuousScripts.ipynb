{
 "cells": [
  {
   "cell_type": "markdown",
   "id": "c23842b9-2756-4cd8-a61e-d6d3a1e7b654",
   "metadata": {},
   "source": [
    "# Continous Scripts\n",
    "* This notebook will run indefinitely. You must manually kill this notebook after a sufficient dataset has been collected"
   ]
  },
  {
   "cell_type": "code",
   "execution_count": null,
   "id": "b9a660d8-4536-4e78-92ec-e2dd97da9a9e",
   "metadata": {},
   "outputs": [],
   "source": [
    "import os\n",
    "import subprocess\n",
    "import time"
   ]
  },
  {
   "cell_type": "code",
   "execution_count": null,
   "id": "9069b51a-a5a2-4ac4-ac3d-a3900e3823b7",
   "metadata": {},
   "outputs": [],
   "source": [
    "cwd = os.getcwd()\n",
    "procs = []"
   ]
  },
  {
   "cell_type": "code",
   "execution_count": null,
   "id": "051fca74-9af7-43e7-bb22-c3ea11b1dd3a",
   "metadata": {},
   "outputs": [],
   "source": [
    "def spawn_process(cmdlist):\n",
    "    print(cmdlist)\n",
    "    p = subprocess.Popen(cmdlist)\n",
    "    procs.append(p)\n",
    "    time.sleep(1)"
   ]
  },
  {
   "cell_type": "code",
   "execution_count": null,
   "id": "0ab794b1-8c61-4aae-9c3c-e9046210b9f1",
   "metadata": {},
   "outputs": [],
   "source": [
    "def spawn_continuous_process(name):\n",
    "    cmdlist = [\n",
    "        \"papermill\",\n",
    "        f\"{os.getcwd()}/ContinuousScripts{name}.ipynb\",\n",
    "        \"/dev/null\",\n",
    "    ]\n",
    "    spawn_process(cmdlist)"
   ]
  },
  {
   "cell_type": "code",
   "execution_count": null,
   "id": "4a3c7778-a813-4b72-8aab-bdd05d844bb6",
   "metadata": {
    "tags": []
   },
   "outputs": [],
   "source": [
    "for name in [\"Mal\", \"Anilist\", \"Kitsu\", \"Animeplanet\"]:\n",
    "    spawn_continuous_process(name)"
   ]
  }
 ],
 "metadata": {
  "kernelspec": {
   "display_name": "Python 3 (ipykernel)",
   "language": "python",
   "name": "python3"
  },
  "language_info": {
   "codemirror_mode": {
    "name": "ipython",
    "version": 3
   },
   "file_extension": ".py",
   "mimetype": "text/x-python",
   "name": "python",
   "nbconvert_exporter": "python",
   "pygments_lexer": "ipython3",
   "version": "3.10.12"
  }
 },
 "nbformat": 4,
 "nbformat_minor": 5
}
