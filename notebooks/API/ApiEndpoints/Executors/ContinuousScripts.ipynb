{
 "cells": [
  {
   "cell_type": "code",
   "execution_count": null,
   "id": "b9a660d8-4536-4e78-92ec-e2dd97da9a9e",
   "metadata": {},
   "outputs": [],
   "source": [
    "import os\n",
    "import subprocess\n",
    "import time"
   ]
  },
  {
   "cell_type": "code",
   "execution_count": null,
   "id": "d95b930e-4782-449c-a692-7f50c6b0d76e",
   "metadata": {},
   "outputs": [],
   "source": [
    "NUM_ANILIST_ANIME_PARTITIONS = 3\n",
    "NUM_ANILIST_MANGA_PARTITIONS = 2\n",
    "NUM_MAL_ANIME_PARTITIONS = 3\n",
    "NUM_MAL_MANGA_PARTITIONS = 1\n",
    "NUM_ACCESS_TOKENS = 4\n",
    "assert NUM_MAL_ANIME_PARTITIONS + NUM_MAL_MANGA_PARTITIONS <= NUM_ACCESS_TOKENS"
   ]
  },
  {
   "cell_type": "code",
   "execution_count": null,
   "id": "9069b51a-a5a2-4ac4-ac3d-a3900e3823b7",
   "metadata": {},
   "outputs": [],
   "source": [
    "os.chdir(\"..\")\n",
    "cwd = os.getcwd()\n",
    "procs = []"
   ]
  },
  {
   "cell_type": "code",
   "execution_count": null,
   "id": "b62938ad-46db-44b1-8469-f7a98b96f375",
   "metadata": {},
   "outputs": [],
   "source": [
    "outdir = \"../../../data/papermill/api\"\n",
    "if not os.path.exists(outdir):\n",
    "    os.makedirs(outdir, exist_ok=True)"
   ]
  },
  {
   "cell_type": "code",
   "execution_count": null,
   "id": "051fca74-9af7-43e7-bb22-c3ea11b1dd3a",
   "metadata": {},
   "outputs": [],
   "source": [
    "def spawn_process(cmdlist):\n",
    "    print(cmdlist)\n",
    "    p = subprocess.Popen(cmdlist)\n",
    "    procs.append(p)\n",
    "    time.sleep(2)"
   ]
  },
  {
   "cell_type": "code",
   "execution_count": null,
   "id": "0ab794b1-8c61-4aae-9c3c-e9046210b9f1",
   "metadata": {},
   "outputs": [],
   "source": [
    "def spawn_mal_process(partition, num_partitions, mediatype, proxyid):\n",
    "    cmdlist = [\n",
    "        \"papermill\",\n",
    "        f\"{cwd}/GetUserMediaListsMal.ipynb\",\n",
    "        f\"{outdir}/GetUser{mediatype.capitalize()}ListsMal.{partition}.ipynb\",\n",
    "        \"-p\",\n",
    "        \"PARTITION\",\n",
    "        str(partition),\n",
    "        \"-p\",\n",
    "        \"NUM_PARTITIONS\",\n",
    "        str(num_partitions),\n",
    "        \"-p\",\n",
    "        \"MEDIATYPE\",\n",
    "        mediatype,        \n",
    "        \"-p\",\n",
    "        \"PROXY_NUMBER\",\n",
    "        str(proxyid),        \n",
    "        \"-p\",\n",
    "        \"TOKEN_NUMBER\",\n",
    "        str(proxyid),\n",
    "    ]\n",
    "    spawn_process(cmdlist)"
   ]
  },
  {
   "cell_type": "code",
   "execution_count": null,
   "id": "636a8052-eb1c-4c41-abcf-5542847b2d90",
   "metadata": {},
   "outputs": [],
   "source": [
    "def spawn_anilist_process(partition, num_partitions, mediatype, proxyid):\n",
    "    cmdlist = [\n",
    "        \"papermill\",\n",
    "        f\"{cwd}/GetUserMediaListsMal.ipynb\",\n",
    "        f\"{outdir}/GetUser{mediatype.capitalize()}ListsMal.{partition}.ipynb\",\n",
    "        \"-p\",\n",
    "        \"PARTITION\",\n",
    "        str(partition),\n",
    "        \"-p\",\n",
    "        \"NUM_PARTITIONS\",\n",
    "        str(num_partitions),\n",
    "        \"-p\",\n",
    "        \"MEDIATYPE\",\n",
    "        mediatype,\n",
    "        \"-p\",\n",
    "        \"PROXY_NUMBER\",\n",
    "        str(proxyid),        \n",
    "    ]\n",
    "    spawn_process(cmdlist)"
   ]
  },
  {
   "cell_type": "code",
   "execution_count": null,
   "id": "4a3c7778-a813-4b72-8aab-bdd05d844bb6",
   "metadata": {
    "tags": []
   },
   "outputs": [],
   "source": [
    "for i in range(NUM_MAL_ANIME_PARTITIONS):\n",
    "    spawn_mal_process(i, NUM_MAL_ANIME_PARTITIONS, \"anime\", i)\n",
    "for i in range(NUM_MAL_MANGA_PARTITIONS):\n",
    "    spawn_mal_process(\n",
    "        i, NUM_MAL_MANGA_PARTITIONS, \"manga\", i + NUM_MAL_ANIME_PARTITIONS\n",
    "    )\n",
    "for i in range(NUM_ANILIST_ANIME_PARTITIONS):\n",
    "    spawn_anilist_process(i, \"anime\", NUM_ANILIST_ANIME_PARTITIONS, i)\n",
    "for i in range(NUM_ANILIST_MANGA_PARTITIONS):\n",
    "    spawn_anilist_process(i, NUM_ANILIST_MANGA_PARTITIONS, \"manga\", i + NUM_ANILIST_ANIME_PARTITIONS)"
   ]
  }
 ],
 "metadata": {
  "kernelspec": {
   "display_name": "Python 3 (ipykernel)",
   "language": "python",
   "name": "python3"
  },
  "language_info": {
   "codemirror_mode": {
    "name": "ipython",
    "version": 3
   },
   "file_extension": ".py",
   "mimetype": "text/x-python",
   "name": "python",
   "nbconvert_exporter": "python",
   "pygments_lexer": "ipython3",
   "version": "3.10.6"
  }
 },
 "nbformat": 4,
 "nbformat_minor": 5
}
