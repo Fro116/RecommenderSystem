{
 "cells": [
  {
   "cell_type": "code",
   "execution_count": null,
   "id": "b9a660d8-4536-4e78-92ec-e2dd97da9a9e",
   "metadata": {},
   "outputs": [],
   "source": [
    "import os\n",
    "import subprocess\n",
    "import time"
   ]
  },
  {
   "cell_type": "code",
   "execution_count": null,
   "id": "d95b930e-4782-449c-a692-7f50c6b0d76e",
   "metadata": {},
   "outputs": [],
   "source": [
    "NUM_ANILIST_PARTITIONS = 5\n",
    "NUM_MAL_PARTITIONS = 3\n",
    "NUM_ACCESS_TOKENS = 3\n",
    "assert NUM_MAL_PARTITIONS <= NUM_ACCESS_TOKENS"
   ]
  },
  {
   "cell_type": "code",
   "execution_count": null,
   "id": "9069b51a-a5a2-4ac4-ac3d-a3900e3823b7",
   "metadata": {},
   "outputs": [],
   "source": [
    "os.chdir(\"..\")\n",
    "cwd = os.getcwd()\n",
    "procs = []"
   ]
  },
  {
   "cell_type": "code",
   "execution_count": null,
   "id": "b62938ad-46db-44b1-8469-f7a98b96f375",
   "metadata": {},
   "outputs": [],
   "source": [
    "outdir = \"../../../data/papermill/api\"\n",
    "if not os.path.exists(outdir):\n",
    "    os.makedirs(outdir, exist_ok=True)"
   ]
  },
  {
   "cell_type": "code",
   "execution_count": null,
   "id": "051fca74-9af7-43e7-bb22-c3ea11b1dd3a",
   "metadata": {},
   "outputs": [],
   "source": [
    "def spawn_process(cmdlist):\n",
    "    print(cmdlist)\n",
    "    p = subprocess.Popen(cmdlist)\n",
    "    procs.append(p)\n",
    "    time.sleep(2)"
   ]
  },
  {
   "cell_type": "code",
   "execution_count": null,
   "id": "4a3c7778-a813-4b72-8aab-bdd05d844bb6",
   "metadata": {
    "tags": []
   },
   "outputs": [],
   "source": [
    "# spawn mal processes\n",
    "for i in range(NUM_MAL_PARTITIONS):\n",
    "    for source in [\"Mal\"]:\n",
    "        cmdlist = [\n",
    "            \"papermill\",\n",
    "            f\"{cwd}/GetUserAnimeLists{source}.ipynb\",\n",
    "            f\"{outdir}/GetUserAnimeLists{source}.{i}.ipynb\",\n",
    "            \"-p\",\n",
    "            \"PARTITION\",\n",
    "            str(i),\n",
    "            \"-p\",\n",
    "            \"NUM_PARTITIONS\",\n",
    "            str(NUM_MAL_PARTITIONS),\n",
    "            \"-p\",\n",
    "            \"TOKEN_NUMBER\",\n",
    "            str(i % NUM_ACCESS_TOKENS),\n",
    "        ]\n",
    "        spawn_process(cmdlist)"
   ]
  },
  {
   "cell_type": "code",
   "execution_count": null,
   "id": "df7729eb-a6a2-48d1-8fef-1af304545b31",
   "metadata": {},
   "outputs": [],
   "source": [
    "# spawn anilist processes\n",
    "for i in range(NUM_ANILIST_PARTITIONS):\n",
    "    for source in [\"Anilist\"]:\n",
    "        cmdlist = [\n",
    "            \"papermill\",\n",
    "            f\"{cwd}/GetUserAnimeLists{source}.ipynb\",\n",
    "            f\"{outdir}/GetUserAnimeLists{source}.{i}.ipynb\",            \n",
    "            \"-p\",\n",
    "            \"PARTITION\",\n",
    "            str(i),\n",
    "            \"-p\",\n",
    "            \"NUM_PARTITIONS\",\n",
    "            str(NUM_ANILIST_PARTITIONS),\n",
    "        ]\n",
    "        spawn_process(cmdlist)"
   ]
  },
  {
   "cell_type": "code",
   "execution_count": null,
   "id": "62c13b07-fa36-4065-8a42-947c999cc076",
   "metadata": {},
   "outputs": [],
   "source": []
  }
 ],
 "metadata": {
  "kernelspec": {
   "display_name": "Python 3 (ipykernel)",
   "language": "python",
   "name": "python3"
  },
  "language_info": {
   "codemirror_mode": {
    "name": "ipython",
    "version": 3
   },
   "file_extension": ".py",
   "mimetype": "text/x-python",
   "name": "python",
   "nbconvert_exporter": "python",
   "pygments_lexer": "ipython3",
   "version": "3.10.6"
  }
 },
 "nbformat": 4,
 "nbformat_minor": 5
}
