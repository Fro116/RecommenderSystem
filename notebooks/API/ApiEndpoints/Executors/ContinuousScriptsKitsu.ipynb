{
 "cells": [
  {
   "cell_type": "markdown",
   "id": "5888d7c7-4691-48d1-af03-921174b56592",
   "metadata": {},
   "source": [
    "# Continous Kitsu Scripts\n",
    "* This notebook will run indefinitely. You must manually kill this notebook once a sufficient number of lists have been found"
   ]
  },
  {
   "cell_type": "code",
   "execution_count": null,
   "id": "b9a660d8-4536-4e78-92ec-e2dd97da9a9e",
   "metadata": {},
   "outputs": [],
   "source": [
    "import os\n",
    "import subprocess\n",
    "import time"
   ]
  },
  {
   "cell_type": "code",
   "execution_count": null,
   "id": "9069b51a-a5a2-4ac4-ac3d-a3900e3823b7",
   "metadata": {},
   "outputs": [],
   "source": [
    "os.chdir(\"..\")\n",
    "cwd = os.getcwd()"
   ]
  },
  {
   "cell_type": "code",
   "execution_count": null,
   "id": "80a32cf9-c3b1-4417-8808-02eb2f3f97f6",
   "metadata": {},
   "outputs": [],
   "source": [
    "if os.path.exists(\"../../../data/proxies\"):\n",
    "    with open(\"../../../data/proxies/proxies.txt\", \"r\") as f:\n",
    "        NUM_PROXIES = len(f.readlines())\n",
    "else:\n",
    "    NUM_PROXIES = 1"
   ]
  },
  {
   "cell_type": "code",
   "execution_count": null,
   "id": "d95b930e-4782-449c-a692-7f50c6b0d76e",
   "metadata": {},
   "outputs": [],
   "source": [
    "NUM_KITSU_ANIME_PARTITIONS = max(1, NUM_PROXIES * 2 // 3)\n",
    "NUM_KITSU_MANGA_PARTITIONS = max(1, NUM_PROXIES - NUM_KITSU_ANIME_PARTITIONS)"
   ]
  },
  {
   "cell_type": "code",
   "execution_count": null,
   "id": "b24e1c2d-5563-4fa4-8c58-a6d7718efea6",
   "metadata": {},
   "outputs": [],
   "source": [
    "if NUM_KITSU_ANIME_PARTITIONS + NUM_KITSU_MANGA_PARTITIONS > NUM_PROXIES:\n",
    "    API_PERIOD_MULT = 2\n",
    "else:\n",
    "    API_PERIOD_MULT = 1"
   ]
  },
  {
   "cell_type": "code",
   "execution_count": null,
   "id": "051fca74-9af7-43e7-bb22-c3ea11b1dd3a",
   "metadata": {},
   "outputs": [],
   "source": [
    "procs = []\n",
    "def spawn_process(cmdlist):\n",
    "    print(cmdlist)\n",
    "    p = subprocess.Popen(cmdlist)\n",
    "    procs.append(p)\n",
    "    time.sleep(1)"
   ]
  },
  {
   "cell_type": "code",
   "execution_count": null,
   "id": "636a8052-eb1c-4c41-abcf-5542847b2d90",
   "metadata": {},
   "outputs": [],
   "source": [
    "def spawn_kitsu_process(partition, num_partitions, mediatype, proxyid):\n",
    "    cmdlist = [\n",
    "        \"papermill\",\n",
    "        f\"{cwd}/GetUserMediaListsKitsu.ipynb\",\n",
    "        \"/dev/null\",        \n",
    "        \"-p\",\n",
    "        \"PARTITION\",\n",
    "        str(partition),\n",
    "        \"-p\",\n",
    "        \"NUM_PARTITIONS\",\n",
    "        str(num_partitions),\n",
    "        \"-p\",\n",
    "        \"MEDIATYPE\",\n",
    "        mediatype,\n",
    "        \"-p\",\n",
    "        \"PROXY_NUMBER\",\n",
    "        str(proxyid),\n",
    "        \"-p\",\n",
    "        \"API_PERIOD_MULT\",\n",
    "        str(API_PERIOD_MULT),\n",
    "    ]\n",
    "    spawn_process(cmdlist)"
   ]
  },
  {
   "cell_type": "code",
   "execution_count": null,
   "id": "c5c8cf7a-7c57-410a-8551-e4c8e19fa786",
   "metadata": {
    "tags": []
   },
   "outputs": [],
   "source": [
    "for i in range(NUM_KITSU_ANIME_PARTITIONS):\n",
    "    spawn_kitsu_process(i, NUM_KITSU_ANIME_PARTITIONS, \"anime\", i)"
   ]
  },
  {
   "cell_type": "code",
   "execution_count": null,
   "id": "c31e4852-b2aa-46d3-b9ff-b4524fc9646c",
   "metadata": {
    "tags": []
   },
   "outputs": [],
   "source": [
    "for i in range(NUM_KITSU_MANGA_PARTITIONS):\n",
    "    spawn_kitsu_process(\n",
    "        i, NUM_KITSU_MANGA_PARTITIONS, \"manga\", i + NUM_KITSU_ANIME_PARTITIONS\n",
    "    )"
   ]
  }
 ],
 "metadata": {
  "kernelspec": {
   "display_name": "Python 3 (ipykernel)",
   "language": "python",
   "name": "python3"
  },
  "language_info": {
   "codemirror_mode": {
    "name": "ipython",
    "version": 3
   },
   "file_extension": ".py",
   "mimetype": "text/x-python",
   "name": "python",
   "nbconvert_exporter": "python",
   "pygments_lexer": "ipython3",
   "version": "3.10.6"
  }
 },
 "nbformat": 4,
 "nbformat_minor": 5
}
