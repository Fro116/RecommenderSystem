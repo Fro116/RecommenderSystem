{
 "cells": [
  {
   "cell_type": "code",
   "execution_count": null,
   "id": "b9a660d8-4536-4e78-92ec-e2dd97da9a9e",
   "metadata": {},
   "outputs": [],
   "source": [
    "import os\n",
    "import subprocess\n",
    "import time"
   ]
  },
  {
   "cell_type": "code",
   "execution_count": null,
   "id": "9069b51a-a5a2-4ac4-ac3d-a3900e3823b7",
   "metadata": {},
   "outputs": [],
   "source": [
    "os.chdir(\"..\")\n",
    "cwd = os.getcwd()\n",
    "procs = []"
   ]
  },
  {
   "cell_type": "code",
   "execution_count": null,
   "id": "be0f7b68-e530-49f4-8bd4-442f0666d62a",
   "metadata": {},
   "outputs": [],
   "source": [
    "outdir = \"../../../data/papermill/api\"\n",
    "if not os.path.exists(outdir):\n",
    "    os.makedirs(outdir, exist_ok=True)"
   ]
  },
  {
   "cell_type": "code",
   "execution_count": null,
   "id": "d6a4398f-99f8-4960-86c9-c626d7ed4c6b",
   "metadata": {},
   "outputs": [],
   "source": [
    "def spawn_process(cmdlist):\n",
    "    print(cmdlist)\n",
    "    p = subprocess.Popen(cmdlist)\n",
    "    procs.append(p)\n",
    "    time.sleep(2)"
   ]
  },
  {
   "cell_type": "code",
   "execution_count": null,
   "id": "f9f7ca7f-dbd7-48c7-b6fb-228357ee906d",
   "metadata": {},
   "outputs": [],
   "source": [
    "def spawn_notebook(script):\n",
    "    cmdlist = [\n",
    "        \"papermill\",\n",
    "        f\"{cwd}/{script}.ipynb\",\n",
    "        f\"{outdir}/{script}.ipynb\",\n",
    "    ]\n",
    "    spawn_process(cmdlist)"
   ]
  },
  {
   "cell_type": "code",
   "execution_count": null,
   "id": "4a3c7778-a813-4b72-8aab-bdd05d844bb6",
   "metadata": {
    "tags": []
   },
   "outputs": [],
   "source": [
    "spawn_notebook(\"GetAnime\")"
   ]
  },
  {
   "cell_type": "code",
   "execution_count": null,
   "id": "dcb1a5bf-4e99-4456-bd30-c47b4d03ef3a",
   "metadata": {},
   "outputs": [],
   "source": [
    "spawn_notebook(\"GetAnimeRelations\")"
   ]
  },
  {
   "cell_type": "code",
   "execution_count": null,
   "id": "df7729eb-a6a2-48d1-8fef-1af304545b31",
   "metadata": {},
   "outputs": [],
   "source": [
    "spawn_notebook(\"GetUsersAnilist\")"
   ]
  }
 ],
 "metadata": {
  "kernelspec": {
   "display_name": "Python 3 (ipykernel)",
   "language": "python",
   "name": "python3"
  },
  "language_info": {
   "codemirror_mode": {
    "name": "ipython",
    "version": 3
   },
   "file_extension": ".py",
   "mimetype": "text/x-python",
   "name": "python",
   "nbconvert_exporter": "python",
   "pygments_lexer": "ipython3",
   "version": "3.10.6"
  }
 },
 "nbformat": 4,
 "nbformat_minor": 5
}
