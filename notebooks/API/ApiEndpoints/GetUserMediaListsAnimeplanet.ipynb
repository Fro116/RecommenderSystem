{
 "cells": [
  {
   "cell_type": "markdown",
   "id": "1915b44a-3a42-431f-bd6c-94edf9e5bc36",
   "metadata": {
    "tags": []
   },
   "source": [
    "# Getting AnimePlanet Lists"
   ]
  },
  {
   "cell_type": "code",
   "execution_count": null,
   "id": "e1604958-bdbe-4883-9ec4-be6859a63f29",
   "metadata": {
    "tags": [
     "parameters"
    ]
   },
   "outputs": [],
   "source": [
    "PARTITION = 0\n",
    "NUM_PARTITIONS = 1\n",
    "PROXY_NUMBER = 0\n",
    "NUM_PROXIES = 1\n",
    "NAME = \"animeplanet\""
   ]
  },
  {
   "cell_type": "code",
   "execution_count": null,
   "id": "57e9397f-1d1e-4385-acf0-4f95a6d6cbac",
   "metadata": {},
   "outputs": [],
   "source": [
    "def read_usernames_from_path(base, users):\n",
    "    path = f\"../user_facts/{base}.txt\"\n",
    "    if not os.path.exists(path):\n",
    "        return users\n",
    "    with open(path, \"r\") as f:\n",
    "        for line in f:\n",
    "            users.add(line.strip())\n",
    "        return users\n",
    "\n",
    "def read_usernames():\n",
    "    users = set()\n",
    "    read_usernames_from_path(\"recent_usernames\", users)\n",
    "    read_usernames_from_path(\"friend_usernames\", users)\n",
    "    return list(users)"
   ]
  },
  {
   "cell_type": "code",
   "execution_count": null,
   "id": "ccff50e8-6b5b-422a-a0b7-0475351f1045",
   "metadata": {
    "tags": []
   },
   "outputs": [],
   "source": [
    "%run GetUserMediaLists.ipynb"
   ]
  }
 ],
 "metadata": {
  "kernelspec": {
   "display_name": "Python 3 (ipykernel)",
   "language": "python",
   "name": "python3"
  },
  "language_info": {
   "codemirror_mode": {
    "name": "ipython",
    "version": 3
   },
   "file_extension": ".py",
   "mimetype": "text/x-python",
   "name": "python",
   "nbconvert_exporter": "python",
   "pygments_lexer": "ipython3",
   "version": "3.10.12"
  }
 },
 "nbformat": 4,
 "nbformat_minor": 5
}
