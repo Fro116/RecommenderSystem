{
 "cells": [
  {
   "cell_type": "markdown",
   "id": "c23842b9-2756-4cd8-a61e-d6d3a1e7b654",
   "metadata": {},
   "source": [
    "# Continous Scripts\n",
    "* This notebook will run indefinitely. You must manually kill this notebook after a sufficient dataset has been collected"
   ]
  },
  {
   "cell_type": "code",
   "execution_count": null,
   "id": "46196268-8366-422e-b5b0-42d49899a3a9",
   "metadata": {},
   "outputs": [],
   "source": [
    "import os\n",
    "import subprocess\n",
    "import time\n",
    "\n",
    "from ratelimit import limits, sleep_and_retry"
   ]
  },
  {
   "cell_type": "code",
   "execution_count": null,
   "id": "f464a2da-2ef8-4ace-9ae0-cad4ed1e1d95",
   "metadata": {},
   "outputs": [],
   "source": [
    "cwd = os.getcwd()"
   ]
  },
  {
   "cell_type": "code",
   "execution_count": null,
   "id": "b12e7008-dd05-41d6-8053-c1df50461420",
   "metadata": {},
   "outputs": [],
   "source": [
    "def get_proxies(source):\n",
    "    proxyfn = \"../../../environment/proxies/proxy_map.txt\"\n",
    "    if os.path.exists(proxyfn):\n",
    "        num_proxies = 0\n",
    "        list_proxies = []\n",
    "        with open(proxyfn) as f:\n",
    "            for line in f:\n",
    "                if not line.strip():\n",
    "                    continue\n",
    "                fields = line.strip().split(\",\")\n",
    "                if fields[0] == source:\n",
    "                    if fields[1] == \"lists\":\n",
    "                        list_proxies.append(num_proxies)\n",
    "                    num_proxies += 1\n",
    "    else:\n",
    "        num_proxies = 1\n",
    "        list_proxies = [0]\n",
    "    return list_proxies, num_proxies"
   ]
  },
  {
   "cell_type": "code",
   "execution_count": null,
   "id": "56fc163f-c1a1-405e-9337-486842e89149",
   "metadata": {
    "editable": true,
    "slideshow": {
     "slide_type": ""
    },
    "tags": []
   },
   "outputs": [],
   "source": [
    "@sleep_and_retry\n",
    "@limits(calls=1, period=5)\n",
    "def spawn_process(script, partition, num_partitions, proxy, num_proxies):\n",
    "    cmdlist = [\n",
    "        \"papermill\",\n",
    "        f\"{cwd}/{script}.ipynb\",\n",
    "        \"/dev/null\",\n",
    "        \"-p\",\n",
    "        \"PARTITION\",\n",
    "        str(partition),\n",
    "        \"-p\",\n",
    "        \"NUM_PARTITIONS\",\n",
    "        str(num_partitions),\n",
    "        \"-p\",\n",
    "        \"PROXY_NUMBER\",\n",
    "        str(proxy),\n",
    "        \"-p\",\n",
    "        \"NUM_PROXIES\",\n",
    "        str(num_proxies),\n",
    "        \"-p\",\n",
    "        \"TOKEN_NUMBER\",\n",
    "        str(partition),\n",
    "    ]\n",
    "    print(cmdlist)\n",
    "    return subprocess.Popen(cmdlist)"
   ]
  },
  {
   "cell_type": "code",
   "execution_count": null,
   "id": "92f6c0ae-6d4a-4ada-8411-0940ccf46910",
   "metadata": {},
   "outputs": [],
   "source": [
    "def spawn(source, i):\n",
    "    list_proxies, num_proxies = PROXIES[source]\n",
    "    return spawn_process(\n",
    "        f\"GetUserMediaLists{source.capitalize()}\", i, len(list_proxies), list_proxies[i], num_proxies\n",
    "    )"
   ]
  },
  {
   "cell_type": "code",
   "execution_count": null,
   "id": "cac7d422-fdd1-4ecd-9bb9-452d9524af6d",
   "metadata": {},
   "outputs": [],
   "source": [
    "ALL_SOURCES = [\"animeplanet\", \"kitsu\", \"anilist\", \"mal\"]\n",
    "PROXIES = {x: get_proxies(x) for x in ALL_SOURCES}\n",
    "procs = {}"
   ]
  },
  {
   "cell_type": "code",
   "execution_count": null,
   "id": "90c45860-f42a-401f-b3b2-7050ca7572a1",
   "metadata": {
    "scrolled": true
   },
   "outputs": [],
   "source": [
    "for source in ALL_SOURCES:\n",
    "    for i in range(len(PROXIES[source][0])):\n",
    "        k = (source, i)\n",
    "        procs[k] = spawn(*k)"
   ]
  },
  {
   "cell_type": "code",
   "execution_count": null,
   "id": "5f76863d-95be-4608-8e7c-d20808376ba5",
   "metadata": {
    "editable": true,
    "slideshow": {
     "slide_type": ""
    },
    "tags": []
   },
   "outputs": [],
   "source": [
    "while True:\n",
    "    time.sleep(1)\n",
    "    for k, v in procs.items():\n",
    "        if v.poll() is not None:\n",
    "            # spawn a new process to replace the finished one\n",
    "            procs[k] = spawn(*k)"
   ]
  }
 ],
 "metadata": {
  "kernelspec": {
   "display_name": "Python 3 (ipykernel)",
   "language": "python",
   "name": "python3"
  },
  "language_info": {
   "codemirror_mode": {
    "name": "ipython",
    "version": 3
   },
   "file_extension": ".py",
   "mimetype": "text/x-python",
   "name": "python",
   "nbconvert_exporter": "python",
   "pygments_lexer": "ipython3",
   "version": "3.10.12"
  }
 },
 "nbformat": 4,
 "nbformat_minor": 5
}
