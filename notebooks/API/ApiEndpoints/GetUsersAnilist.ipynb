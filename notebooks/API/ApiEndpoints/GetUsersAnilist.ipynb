{
 "cells": [
  {
   "cell_type": "markdown",
   "id": "1915b44a-3a42-431f-bd6c-94edf9e5bc36",
   "metadata": {
    "tags": []
   },
   "source": [
    "# Getting Anilist users\n",
    "* Turns an anilist userid into a username"
   ]
  },
  {
   "cell_type": "code",
   "execution_count": null,
   "id": "ab9e087d-edee-4dbb-b2f2-58a544b07c92",
   "metadata": {},
   "outputs": [],
   "source": [
    "import contextlib\n",
    "import datetime\n",
    "import glob\n",
    "import logging\n",
    "import os\n",
    "import random\n",
    "import shutil\n",
    "\n",
    "from tqdm import tqdm"
   ]
  },
  {
   "cell_type": "code",
   "execution_count": null,
   "id": "bdb92dbd-7e88-4ef7-91ba-6d0babba548c",
   "metadata": {
    "tags": []
   },
   "outputs": [],
   "source": [
    "name = \"anilist\""
   ]
  },
  {
   "cell_type": "code",
   "execution_count": null,
   "id": "3a8426fc-b58a-4bf4-b08b-4cd4f734ce1d",
   "metadata": {},
   "outputs": [],
   "source": [
    "def import_notebook(nb):\n",
    "    cwd = os.getcwd()\n",
    "    try:\n",
    "        os.chdir(os.path.dirname(nb))\n",
    "        script = os.path.basename(nb) \n",
    "        %run $script\n",
    "    finally:\n",
    "        os.chdir(cwd)"
   ]
  },
  {
   "cell_type": "code",
   "execution_count": null,
   "id": "82991499-e65f-4fe7-837a-34b1cdc21685",
   "metadata": {},
   "outputs": [],
   "source": [
    "import_notebook(f\"../API/{name.capitalize()}Api.ipynb\")"
   ]
  },
  {
   "cell_type": "code",
   "execution_count": null,
   "id": "7331fa5c-2e17-48c1-8fea-1ee40af8e075",
   "metadata": {},
   "outputs": [],
   "source": [
    "# outdir\n",
    "data_path = f\"../../../data/{name}/user_facts\"\n",
    "if not os.path.exists(data_path):\n",
    "    os.makedirs(data_path)\n",
    "os.chdir(data_path)"
   ]
  },
  {
   "cell_type": "code",
   "execution_count": null,
   "id": "95cdaa71-ee5c-40d1-a221-a133c5ad36fe",
   "metadata": {},
   "outputs": [],
   "source": [
    "# logging\n",
    "logger = logging.getLogger(\"GetUsers\")\n",
    "logger.setLevel(logging.DEBUG)\n",
    "formatter = logging.Formatter(\n",
    "    \"%(name)s:%(levelname)s:%(asctime)s: %(message)s\", datefmt=\"%Y-%m-%d %H:%M:%S\"\n",
    ")\n",
    "for stream in [\n",
    "    logging.FileHandler(\"get_users.log\"),\n",
    "    logging.StreamHandler(),\n",
    "]:\n",
    "    stream.setFormatter(formatter)\n",
    "    logger.addHandler(stream)"
   ]
  },
  {
   "cell_type": "markdown",
   "id": "4dd55c16-a8c1-4b3b-87c1-2b8aef672917",
   "metadata": {
    "tags": []
   },
   "source": [
    "## Parse AniList API"
   ]
  },
  {
   "cell_type": "code",
   "execution_count": null,
   "id": "ba9a4d6a-e940-4acd-99f9-6c55659ed2c8",
   "metadata": {},
   "outputs": [],
   "source": [
    "# atomic saving utilities\n",
    "@contextlib.contextmanager\n",
    "def atomic_append(filename):\n",
    "    temp = filename + \"~\"\n",
    "    with open(temp, \"w\") as f:\n",
    "        yield f\n",
    "\n",
    "    temp2 = temp + \"~\"\n",
    "    with open(temp2, \"wb\") as wfd:\n",
    "        for f in [filename, temp]:\n",
    "            with open(f, \"rb\") as fd:\n",
    "                shutil.copyfileobj(fd, wfd)\n",
    "    os.remove(temp)\n",
    "    os.replace(temp2, filename)\n",
    "\n",
    "\n",
    "def atomic_append_dataframe_to_csv(df, filename):\n",
    "    first_run = not os.path.exists(filename)\n",
    "    if first_run:\n",
    "        with open(filename, \"w\") as fp:\n",
    "            pass\n",
    "    temp = filename + \"~\"\n",
    "    with atomic_append(filename) as f:\n",
    "        df.to_csv(f, index=False, header=first_run)"
   ]
  },
  {
   "cell_type": "code",
   "execution_count": null,
   "id": "246bb78b-4add-4ef2-a404-7b02926625f2",
   "metadata": {},
   "outputs": [],
   "source": [
    "# snapshot hourly to amortize the cost of the disk I/O\n",
    "def should_save(reason):\n",
    "    should_save = False\n",
    "    if reason not in save_reasons:\n",
    "        save_reasons[reason] = (0, 1)\n",
    "    iterations_since_last_write, iterations_until_next_write = save_reasons[reason]\n",
    "    iterations_since_last_write += 1\n",
    "    if iterations_since_last_write >= iterations_until_next_write:\n",
    "        iterations_since_last_write = 0\n",
    "        iterations_until_next_write = min(2 * iterations_until_next_write, 5400)\n",
    "        should_save = True\n",
    "        logger.info(\n",
    "            f\"Writing data for {reason}. Will next write data \"\n",
    "            f\"after {iterations_until_next_write} iterations\"\n",
    "        )\n",
    "    save_reasons[reason] = (iterations_since_last_write, iterations_until_next_write)\n",
    "    return should_save\n",
    "\n",
    "\n",
    "save_reasons = {}"
   ]
  },
  {
   "cell_type": "code",
   "execution_count": null,
   "id": "36a67f9b-5f37-479f-a4ca-d72c6fa9e07a",
   "metadata": {},
   "outputs": [],
   "source": [
    "files = glob.glob(\"../user_anime_facts/user_status.*.csv\")\n",
    "user_df = pd.concat(pd.read_csv(f) for f in files)\n",
    "user_df = user_df.loc[lambda x: x[\"failed_attempts\"] == 0]"
   ]
  },
  {
   "cell_type": "code",
   "execution_count": null,
   "id": "3ff8dab8-1bcf-406a-b3b9-3f6aa2c3bd1d",
   "metadata": {},
   "outputs": [],
   "source": [
    "outfile = \"userid_to_username.csv\"\n",
    "if os.path.exists(outfile):\n",
    "    existing_userids = list(pd.read_csv(outfile)[\"userid\"])\n",
    "else:\n",
    "    existing_userids = []\n",
    "new_userids = list(set(user_df.username) - set(existing_userids))\n",
    "random.shuffle(new_userids)\n",
    "num_userids = len(existing_userids)"
   ]
  },
  {
   "cell_type": "code",
   "execution_count": null,
   "id": "b81404dc-7cd3-44e1-bff9-d0672aafc698",
   "metadata": {},
   "outputs": [],
   "source": [
    "logger.info(\n",
    "    f\"Getting usernames for {len(new_userids)} new userids and {len(existing_userids)} existing userids\"\n",
    ")"
   ]
  },
  {
   "cell_type": "code",
   "execution_count": null,
   "id": "476aa8ab-ef9f-4380-9e9b-d06799546dfa",
   "metadata": {},
   "outputs": [],
   "source": [
    "out_userids = []\n",
    "out_usernames = []\n",
    "for userid in new_userids:\n",
    "    username = get_username(userid)\n",
    "    out_userids.append(userid)\n",
    "    out_usernames.append(username)\n",
    "    if should_save(\"users\"):\n",
    "        atomic_append_dataframe_to_csv(\n",
    "            pd.DataFrame.from_dict({\"userid\": out_userids, \"username\": out_usernames}),\n",
    "            outfile,\n",
    "        )\n",
    "        num_userids += len(out_usernames)\n",
    "        logger.info(\n",
    "            f\"Successfully written {num_userids} usernames. \"\n",
    "            f\"{len(new_userids) - len(out_userids)} usernames remaining\"\n",
    "        )\n",
    "        out_userids = []\n",
    "        out_usernames = []"
   ]
  },
  {
   "cell_type": "code",
   "execution_count": null,
   "id": "8148de3f-e3e6-4e82-b415-253bf350c778",
   "metadata": {},
   "outputs": [],
   "source": [
    "atomic_append_dataframe_to_csv(\n",
    "    pd.DataFrame.from_dict({\"userid\": out_userids, \"username\": out_usernames}),\n",
    "    outfile,\n",
    ")\n",
    "num_userids += len(out_usernames)\n",
    "logger.info(f\"Successfully written {num_userids} usernames\")\n",
    "logger.info(\"Finished writing all usernames!\")"
   ]
  }
 ],
 "metadata": {
  "kernelspec": {
   "display_name": "Python 3 (ipykernel)",
   "language": "python",
   "name": "python3"
  },
  "language_info": {
   "codemirror_mode": {
    "name": "ipython",
    "version": 3
   },
   "file_extension": ".py",
   "mimetype": "text/x-python",
   "name": "python",
   "nbconvert_exporter": "python",
   "pygments_lexer": "ipython3",
   "version": "3.10.6"
  }
 },
 "nbformat": 4,
 "nbformat_minor": 5
}
