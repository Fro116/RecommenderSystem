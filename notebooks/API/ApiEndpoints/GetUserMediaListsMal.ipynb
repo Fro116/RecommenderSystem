{
 "cells": [
  {
   "cell_type": "markdown",
   "id": "1915b44a-3a42-431f-bd6c-94edf9e5bc36",
   "metadata": {},
   "source": [
    "# Getting MAL anime-lists\n",
    "* See GetUserAnimeLists.ipynb for more info"
   ]
  },
  {
   "cell_type": "code",
   "execution_count": null,
   "id": "9b0d1180-7e55-4b3f-8218-9c6596ba395b",
   "metadata": {
    "tags": [
     "parameters"
    ]
   },
   "outputs": [],
   "source": [
    "PARTITION = 0\n",
    "NUM_PARTITIONS = 1\n",
    "MEDIATYPE = \"anime\"\n",
    "PROXY_NUMBER = 0\n",
    "TOKEN_NUMBER = 0\n",
    "NAME = \"mal\""
   ]
  },
  {
   "cell_type": "code",
   "execution_count": null,
   "id": "622d5273-5795-41ce-a967-c91f63c0631c",
   "metadata": {},
   "outputs": [],
   "source": [
    "def read_usernames_from_path(base, users):\n",
    "    path = f\"../user_facts/{base}.txt\"\n",
    "    if not os.path.exists(path):\n",
    "        return users\n",
    "    with open(path, \"r\") as f:\n",
    "        for line in f:\n",
    "            users.add(line.strip())\n",
    "        return users\n",
    "\n",
    "def read_usernames():\n",
    "    users = set()\n",
    "    read_usernames_from_path(\"usernames\", users)\n",
    "    read_usernames_from_path(\"recent_usernames\", users)\n",
    "    read_usernames_from_path(\"usernames_from_id\", users)\n",
    "    return list(users)"
   ]
  },
  {
   "cell_type": "code",
   "execution_count": null,
   "id": "c20ce303-a168-4a3b-aedf-77487f74f07e",
   "metadata": {
    "tags": []
   },
   "outputs": [],
   "source": [
    "%run GetUserAnimeLists.ipynb"
   ]
  }
 ],
 "metadata": {
  "kernelspec": {
   "display_name": "Python 3 (ipykernel)",
   "language": "python",
   "name": "python3"
  },
  "language_info": {
   "codemirror_mode": {
    "name": "ipython",
    "version": 3
   },
   "file_extension": ".py",
   "mimetype": "text/x-python",
   "name": "python",
   "nbconvert_exporter": "python",
   "pygments_lexer": "ipython3",
   "version": "3.10.6"
  }
 },
 "nbformat": 4,
 "nbformat_minor": 5
}
