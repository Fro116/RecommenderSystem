{
 "cells": [
  {
   "cell_type": "markdown",
   "id": "1915b44a-3a42-431f-bd6c-94edf9e5bc36",
   "metadata": {},
   "source": [
    "# Getting MAL lists"
   ]
  },
  {
   "cell_type": "code",
   "execution_count": null,
   "id": "9b0d1180-7e55-4b3f-8218-9c6596ba395b",
   "metadata": {
    "tags": [
     "parameters"
    ]
   },
   "outputs": [],
   "source": [
    "PARTITION = 0\n",
    "NUM_PARTITIONS = 1\n",
    "PROXY_NUMBER = 0\n",
    "TOKEN_NUMBER = 0\n",
    "NAME = \"mal\""
   ]
  },
  {
   "cell_type": "code",
   "execution_count": null,
   "id": "6132b92c-487e-453a-b0bd-fff557020fc7",
   "metadata": {},
   "outputs": [],
   "source": [
    "def read_usernames():\n",
    "    users = set()\n",
    "    for file in glob.glob(\"../user_facts/get_mal_users.*.csv\"):\n",
    "        with open(file) as f:\n",
    "            header = False            \n",
    "            for line in f:\n",
    "                fields = line.strip().split(',')\n",
    "                if not header:\n",
    "                    header = True\n",
    "                    user_col = fields.index(\"username\")\n",
    "                    continue\n",
    "                username = fields[user_col]\n",
    "                if username:\n",
    "                    users.add(username)\n",
    "    return list(users)"
   ]
  },
  {
   "cell_type": "code",
   "execution_count": null,
   "id": "c20ce303-a168-4a3b-aedf-77487f74f07e",
   "metadata": {
    "tags": []
   },
   "outputs": [],
   "source": [
    "%run GetUserMediaLists.ipynb"
   ]
  }
 ],
 "metadata": {
  "kernelspec": {
   "display_name": "Python 3 (ipykernel)",
   "language": "python",
   "name": "python3"
  },
  "language_info": {
   "codemirror_mode": {
    "name": "ipython",
    "version": 3
   },
   "file_extension": ".py",
   "mimetype": "text/x-python",
   "name": "python",
   "nbconvert_exporter": "python",
   "pygments_lexer": "ipython3",
   "version": "3.10.12"
  }
 },
 "nbformat": 4,
 "nbformat_minor": 5
}
