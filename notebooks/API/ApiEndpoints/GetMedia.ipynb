{
 "cells": [
  {
   "cell_type": "markdown",
   "id": "f550bd4c-2e49-43ff-8d9b-a4189437fe95",
   "metadata": {},
   "source": [
    "# Getting media details\n",
    "* We store media metadata in `data/mal/{media}_facts/anime.csv`"
   ]
  },
  {
   "cell_type": "code",
   "execution_count": null,
   "id": "16a55928-bc2d-4dfb-974f-2480e13c1f0c",
   "metadata": {},
   "outputs": [],
   "source": [
    "import glob\n",
    "import logging\n",
    "import os\n",
    "\n",
    "from tqdm import tqdm"
   ]
  },
  {
   "cell_type": "code",
   "execution_count": null,
   "id": "478a3e57-9b55-424b-84a6-12fb34d567b7",
   "metadata": {
    "tags": [
     "parameters"
    ]
   },
   "outputs": [],
   "source": [
    "source_media = \"\"\n",
    "PROXY_NUMBER = 0\n",
    "NUM_PARTITIONS = 1"
   ]
  },
  {
   "cell_type": "code",
   "execution_count": null,
   "id": "ed540189-cf3a-4315-8a87-1eadeb3e6504",
   "metadata": {},
   "outputs": [],
   "source": [
    "TOKEN_NUMBER = PROXY_NUMBER"
   ]
  },
  {
   "cell_type": "markdown",
   "id": "12519d36-ea48-4c1c-aa75-a6a7d84152ef",
   "metadata": {},
   "source": [
    "# Setup"
   ]
  },
  {
   "cell_type": "code",
   "execution_count": null,
   "id": "6db574f0-b22a-4447-a03c-5c87e444c798",
   "metadata": {},
   "outputs": [],
   "source": [
    "def import_notebook(nb):\n",
    "    cwd = os.getcwd()\n",
    "    try:\n",
    "        os.chdir(os.path.dirname(nb))\n",
    "        script = os.path.basename(nb)\n",
    "        %run $script\n",
    "    finally:\n",
    "        os.chdir(cwd)"
   ]
  },
  {
   "cell_type": "code",
   "execution_count": null,
   "id": "92745bd1-1430-4440-9b82-36c094967bf2",
   "metadata": {},
   "outputs": [],
   "source": [
    "import_notebook(f\"../API/MalApi.ipynb\")"
   ]
  },
  {
   "cell_type": "code",
   "execution_count": null,
   "id": "1e50d2d6-3aa2-4ae2-b6cb-8daa401f6ccf",
   "metadata": {},
   "outputs": [],
   "source": [
    "data_path = f\"../../../data/mal/{source_media}_facts\"\n",
    "if not os.path.exists(data_path):\n",
    "    os.mkdir(data_path)\n",
    "os.chdir(data_path)"
   ]
  },
  {
   "cell_type": "code",
   "execution_count": null,
   "id": "6199917e-ad6d-4ad4-996b-abb7a705e3e2",
   "metadata": {},
   "outputs": [],
   "source": [
    "name = f\"get_{source_media}\"\n",
    "logger = logging.getLogger(name)\n",
    "logger.setLevel(logging.DEBUG)\n",
    "formatter = logging.Formatter(\n",
    "    \"%(name)s:%(levelname)s:%(asctime)s: %(message)s\", datefmt=\"%Y-%m-%d %H:%M:%S\"\n",
    ")\n",
    "for stream in [\n",
    "    logging.FileHandler(f\"{name}.{PROXY_NUMBER}.log\", \"w+\"),\n",
    "]:\n",
    "    stream.setFormatter(formatter)\n",
    "    logger.addHandler(stream)"
   ]
  },
  {
   "cell_type": "markdown",
   "id": "cd7fa73c-2f7f-4cad-bd52-aba07fbef006",
   "metadata": {},
   "source": [
    "# Collect data"
   ]
  },
  {
   "cell_type": "code",
   "execution_count": null,
   "id": "bcf1666f-8e2d-4513-b009-079cc1d9e9ae",
   "metadata": {},
   "outputs": [],
   "source": [
    "def get_media_ids(input_fn):\n",
    "    item_ids = set()\n",
    "    with open(input_fn, \"r\") as in_file:\n",
    "        header = False\n",
    "        for line in tqdm(in_file):\n",
    "            if not header:\n",
    "                idx = line.strip().split(\",\").index(\"uid\")\n",
    "                header = True\n",
    "                continue\n",
    "            item_id = line.strip().split(\",\")[idx]\n",
    "            item_ids.add(int(item_id))\n",
    "    return item_ids"
   ]
  },
  {
   "cell_type": "code",
   "execution_count": null,
   "id": "7b3b79ce-fde4-4cd1-b97f-c514b70cd395",
   "metadata": {
    "tags": []
   },
   "outputs": [],
   "source": [
    "media_ids = set()\n",
    "for file in glob.glob(f\"../user_{source_media}_facts/user_{source_media}_list.*.csv\"):\n",
    "    media_ids |= get_media_ids(file)\n",
    "media_ids = sorted(media_ids)\n",
    "media_ids = sorted(\n",
    "    [x for (i, x) in enumerate(media_ids) if i % NUM_PARTITIONS == PROXY_NUMBER]\n",
    ")"
   ]
  },
  {
   "cell_type": "code",
   "execution_count": null,
   "id": "c2306cf8-7bfe-4b80-b5bf-25a20e45a52d",
   "metadata": {
    "tags": []
   },
   "outputs": [],
   "source": [
    "media_details = [get_media_details(x, source_media) for x in tqdm(media_ids)]\n",
    "media_list = pd.concat(media_details, ignore_index=True)\n",
    "media_list.to_csv(f\"{source_media}.{PROXY_NUMBER}.csv\", index=False)"
   ]
  }
 ],
 "metadata": {
  "kernelspec": {
   "display_name": "Python 3 (ipykernel)",
   "language": "python",
   "name": "python3"
  },
  "language_info": {
   "codemirror_mode": {
    "name": "ipython",
    "version": 3
   },
   "file_extension": ".py",
   "mimetype": "text/x-python",
   "name": "python",
   "nbconvert_exporter": "python",
   "pygments_lexer": "ipython3",
   "version": "3.10.12"
  }
 },
 "nbformat": 4,
 "nbformat_minor": 5
}
