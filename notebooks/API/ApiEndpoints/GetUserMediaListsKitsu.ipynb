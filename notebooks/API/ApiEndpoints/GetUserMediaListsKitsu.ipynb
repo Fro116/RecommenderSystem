{
 "cells": [
  {
   "cell_type": "markdown",
   "id": "1915b44a-3a42-431f-bd6c-94edf9e5bc36",
   "metadata": {
    "tags": []
   },
   "source": [
    "# Getting Kitsu Lists"
   ]
  },
  {
   "cell_type": "code",
   "execution_count": null,
   "id": "e1604958-bdbe-4883-9ec4-be6859a63f29",
   "metadata": {
    "tags": [
     "parameters"
    ]
   },
   "outputs": [],
   "source": [
    "PARTITION = 0\n",
    "NUM_PARTITIONS = 1\n",
    "PROXY_NUMBER = 0\n",
    "NAME = \"kitsu\""
   ]
  },
  {
   "cell_type": "code",
   "execution_count": null,
   "id": "1fa42c5f-e572-404d-ac7b-6f91f4ef8c85",
   "metadata": {},
   "outputs": [],
   "source": [
    "def get_max_id():\n",
    "    fn = \"maxid.txt\"\n",
    "    if not os.path.exists(fn):\n",
    "        maxid = 1441603\n",
    "    else:\n",
    "        with open(fn) as f:\n",
    "            lines = f.readlines()\n",
    "            assert len(lines) == 1\n",
    "            maxid = int(lines[0].strip())\n",
    "    # see if any new users have joined\n",
    "    testid = maxid + random.randint(1, 10000)    \n",
    "    df, _ = get_user_media_list(testid, \"anime\")\n",
    "    if len(df) > 0:\n",
    "        maxid = testid\n",
    "        partfn = f\"{fn}.{PARTITION}.txt\"\n",
    "        with open(partfn, \"w\") as f:\n",
    "            f.write(f\"{maxid}\\n\")\n",
    "        os.rename(partfn, fn)\n",
    "    return maxid"
   ]
  },
  {
   "cell_type": "code",
   "execution_count": null,
   "id": "57e9397f-1d1e-4385-acf0-4f95a6d6cbac",
   "metadata": {},
   "outputs": [],
   "source": [
    "def read_usernames():\n",
    "    users = list(range(1, get_max_id()+1))\n",
    "    users = [str(x) for x in users]\n",
    "    np.random.shuffle(users)\n",
    "    return users"
   ]
  },
  {
   "cell_type": "code",
   "execution_count": null,
   "id": "ccff50e8-6b5b-422a-a0b7-0475351f1045",
   "metadata": {
    "tags": []
   },
   "outputs": [],
   "source": [
    "%run GetUserMediaLists.ipynb"
   ]
  }
 ],
 "metadata": {
  "kernelspec": {
   "display_name": "Python 3 (ipykernel)",
   "language": "python",
   "name": "python3"
  },
  "language_info": {
   "codemirror_mode": {
    "name": "ipython",
    "version": 3
   },
   "file_extension": ".py",
   "mimetype": "text/x-python",
   "name": "python",
   "nbconvert_exporter": "python",
   "pygments_lexer": "ipython3",
   "version": "3.9.6"
  }
 },
 "nbformat": 4,
 "nbformat_minor": 5
}
