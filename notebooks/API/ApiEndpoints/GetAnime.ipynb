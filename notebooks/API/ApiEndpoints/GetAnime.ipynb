{
 "cells": [
  {
   "cell_type": "markdown",
   "id": "f550bd4c-2e49-43ff-8d9b-a4189437fe95",
   "metadata": {},
   "source": [
    "# Getting anime details\n",
    "* We store anime metadata in `data/mal/anime_facts/anime.csv`"
   ]
  },
  {
   "cell_type": "code",
   "execution_count": null,
   "id": "16a55928-bc2d-4dfb-974f-2480e13c1f0c",
   "metadata": {},
   "outputs": [],
   "source": [
    "import logging\n",
    "import os\n",
    "\n",
    "from tqdm import tqdm\n",
    "import glob"
   ]
  },
  {
   "cell_type": "markdown",
   "id": "12519d36-ea48-4c1c-aa75-a6a7d84152ef",
   "metadata": {},
   "source": [
    "# Setup"
   ]
  },
  {
   "cell_type": "code",
   "execution_count": null,
   "id": "6db574f0-b22a-4447-a03c-5c87e444c798",
   "metadata": {},
   "outputs": [],
   "source": [
    "def import_notebook(nb):\n",
    "    cwd = os.getcwd()\n",
    "    try:\n",
    "        os.chdir(os.path.dirname(nb))\n",
    "        script = os.path.basename(nb) \n",
    "        %run $script\n",
    "    finally:\n",
    "        os.chdir(cwd)"
   ]
  },
  {
   "cell_type": "code",
   "execution_count": null,
   "id": "92745bd1-1430-4440-9b82-36c094967bf2",
   "metadata": {},
   "outputs": [],
   "source": [
    "import_notebook(f\"../API/MalApi.ipynb\")"
   ]
  },
  {
   "cell_type": "code",
   "execution_count": null,
   "id": "1e50d2d6-3aa2-4ae2-b6cb-8daa401f6ccf",
   "metadata": {},
   "outputs": [],
   "source": [
    "data_path = \"../../../data/mal/anime_facts\"\n",
    "if not os.path.exists(data_path):\n",
    "    os.mkdir(data_path)\n",
    "os.chdir(data_path)"
   ]
  },
  {
   "cell_type": "code",
   "execution_count": null,
   "id": "6199917e-ad6d-4ad4-996b-abb7a705e3e2",
   "metadata": {},
   "outputs": [],
   "source": [
    "name = \"get_anime\"\n",
    "logger = logging.getLogger(name)\n",
    "logger.setLevel(logging.DEBUG)\n",
    "formatter = logging.Formatter(\n",
    "    \"%(name)s:%(levelname)s:%(asctime)s: %(message)s\", datefmt=\"%Y-%m-%d %H:%M:%S\"\n",
    ")\n",
    "for stream in [\n",
    "    logging.FileHandler(f\"{name}.log\"),\n",
    "    logging.StreamHandler(),\n",
    "]:\n",
    "    stream.setFormatter(formatter)\n",
    "    logger.addHandler(stream)"
   ]
  },
  {
   "cell_type": "markdown",
   "id": "cd7fa73c-2f7f-4cad-bd52-aba07fbef006",
   "metadata": {},
   "source": [
    "# Collect data"
   ]
  },
  {
   "cell_type": "code",
   "execution_count": null,
   "id": "bcf1666f-8e2d-4513-b009-079cc1d9e9ae",
   "metadata": {},
   "outputs": [],
   "source": [
    "def get_item_ids(input_fn):\n",
    "    item_ids = set()\n",
    "    with open(input_fn, \"r\") as in_file:\n",
    "        header = False\n",
    "        for line in tqdm(in_file):\n",
    "            if not header:\n",
    "                idx = line.strip().split(\",\").index(\"uid\")\n",
    "                header = True\n",
    "                continue\n",
    "            item_id = line.strip().split(\",\")[idx]\n",
    "            item_ids.add(int(item_id))\n",
    "    return item_ids"
   ]
  },
  {
   "cell_type": "code",
   "execution_count": null,
   "id": "983e1ceb-d592-475d-8a38-dc1343c2a460",
   "metadata": {},
   "outputs": [],
   "source": [
    "def get_all_details(anime_ids):\n",
    "    anime_details = [get_anime_details(x) for x in tqdm(anime_ids)]\n",
    "    return pd.concat(anime_details, ignore_index=True)"
   ]
  },
  {
   "cell_type": "code",
   "execution_count": null,
   "id": "7b3b79ce-fde4-4cd1-b97f-c514b70cd395",
   "metadata": {
    "tags": []
   },
   "outputs": [],
   "source": [
    "anime_ids = set()\n",
    "for file in glob.glob(\"../user_anime_facts/user_anime_list.*.csv\"):\n",
    "    anime_ids |= get_item_ids(file)\n",
    "anime_ids = sorted(anime_ids)"
   ]
  },
  {
   "cell_type": "code",
   "execution_count": null,
   "id": "562ce9fd-c519-490f-9d12-be6f49a1333a",
   "metadata": {},
   "outputs": [],
   "source": [
    "anime_ids = anime_ids[30:40]"
   ]
  },
  {
   "cell_type": "code",
   "execution_count": null,
   "id": "c2306cf8-7bfe-4b80-b5bf-25a20e45a52d",
   "metadata": {
    "tags": []
   },
   "outputs": [],
   "source": [
    "anime_details = [get_anime_details(x) for x in tqdm(anime_ids)]\n",
    "anime_list = pd.concat(anime_details, ignore_index=True)\n",
    "anime_list.to_csv(\"anime.csv\", index=False)"
   ]
  }
 ],
 "metadata": {
  "kernelspec": {
   "display_name": "Python 3 (ipykernel)",
   "language": "python",
   "name": "python3"
  },
  "language_info": {
   "codemirror_mode": {
    "name": "ipython",
    "version": 3
   },
   "file_extension": ".py",
   "mimetype": "text/x-python",
   "name": "python",
   "nbconvert_exporter": "python",
   "pygments_lexer": "ipython3",
   "version": "3.10.6"
  }
 },
 "nbformat": 4,
 "nbformat_minor": 5
}
