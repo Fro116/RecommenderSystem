{
 "cells": [
  {
   "cell_type": "markdown",
   "id": "1915b44a-3a42-431f-bd6c-94edf9e5bc36",
   "metadata": {},
   "source": [
    "# Getting MAL anime-lists\n",
    "* See GetUserAnimeLists.ipynb for more info"
   ]
  },
  {
   "cell_type": "code",
   "execution_count": null,
   "id": "321dff41-4840-4741-9ca3-18d545847ed2",
   "metadata": {},
   "outputs": [],
   "source": [
    "name = \"mal\""
   ]
  },
  {
   "cell_type": "code",
   "execution_count": null,
   "id": "b82ccdcb-e615-48a8-a549-d7558957e400",
   "metadata": {},
   "outputs": [],
   "source": [
    "%run MalApi.ipynb"
   ]
  },
  {
   "cell_type": "markdown",
   "id": "90f2c1b8-99ed-4bb3-8c15-338d0709db5a",
   "metadata": {},
   "source": [
    "## Sort users by recency"
   ]
  },
  {
   "cell_type": "code",
   "execution_count": null,
   "id": "622d5273-5795-41ce-a967-c91f63c0631c",
   "metadata": {},
   "outputs": [],
   "source": [
    "def read_usernames_from_path(base):\n",
    "    path = f\"../user_facts/{base}.txt\"\n",
    "    if not os.path.exists(path):\n",
    "        return set()\n",
    "    with open(path, \"r\") as f:\n",
    "        return {x.strip() for x in f.readlines()}\n",
    "\n",
    "\n",
    "def read_usernames():\n",
    "    usernames = set()\n",
    "    usernames |= read_usernames_from_path(\"usernames\")\n",
    "    usernames |= read_usernames_from_path(\"recent_usernames\")\n",
    "    usernames |= read_usernames_from_path(\"usernames_from_id\")\n",
    "    return list(usernames)"
   ]
  },
  {
   "cell_type": "code",
   "execution_count": null,
   "id": "c20ce303-a168-4a3b-aedf-77487f74f07e",
   "metadata": {},
   "outputs": [],
   "source": [
    "%run GetUserAnimeLists.ipynb"
   ]
  }
 ],
 "metadata": {
  "kernelspec": {
   "display_name": "Python 3 (ipykernel)",
   "language": "python",
   "name": "python3"
  },
  "language_info": {
   "codemirror_mode": {
    "name": "ipython",
    "version": 3
   },
   "file_extension": ".py",
   "mimetype": "text/x-python",
   "name": "python",
   "nbconvert_exporter": "python",
   "pygments_lexer": "ipython3",
   "version": "3.8.10"
  }
 },
 "nbformat": 4,
 "nbformat_minor": 5
}
