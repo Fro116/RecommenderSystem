{
 "cells": [
  {
   "cell_type": "markdown",
   "id": "1915b44a-3a42-431f-bd6c-94edf9e5bc36",
   "metadata": {},
   "source": [
    "# Getting MAL anime-lists\n",
    "* See GetUserAnimeLists.ipynb for more info"
   ]
  },
  {
   "cell_type": "code",
   "execution_count": 4,
   "id": "90651443-feb0-429b-9d7a-6ffe7306aabf",
   "metadata": {},
   "outputs": [],
   "source": [
    "import json\n",
    "\n",
    "from ratelimit import limits, sleep_and_retry"
   ]
  },
  {
   "cell_type": "code",
   "execution_count": 5,
   "id": "321dff41-4840-4741-9ca3-18d545847ed2",
   "metadata": {},
   "outputs": [],
   "source": [
    "name = \"mal\""
   ]
  },
  {
   "cell_type": "markdown",
   "id": "4dd55c16-a8c1-4b3b-87c1-2b8aef672917",
   "metadata": {},
   "source": [
    "## Parse MAL API"
   ]
  },
  {
   "cell_type": "code",
   "execution_count": 6,
   "id": "a36dd4e4-5e93-4e57-bfca-8f271e4afce8",
   "metadata": {},
   "outputs": [
    {
     "ename": "FileNotFoundError",
     "evalue": "[Errno 2] No such file or directory: '../mal_authentication/token.json'",
     "output_type": "error",
     "traceback": [
      "\u001b[0;31m---------------------------------------------------------------------------\u001b[0m",
      "\u001b[0;31mFileNotFoundError\u001b[0m                         Traceback (most recent call last)",
      "Input \u001b[0;32mIn [6]\u001b[0m, in \u001b[0;36m<cell line: 1>\u001b[0;34m()\u001b[0m\n\u001b[0;32m----> 1\u001b[0m token \u001b[38;5;241m=\u001b[39m json\u001b[38;5;241m.\u001b[39mload(\u001b[38;5;28;43mopen\u001b[39;49m\u001b[43m(\u001b[49m\u001b[38;5;124;43m\"\u001b[39;49m\u001b[38;5;124;43m../mal_authentication/token.json\u001b[39;49m\u001b[38;5;124;43m\"\u001b[39;49m\u001b[43m,\u001b[49m\u001b[43m \u001b[49m\u001b[38;5;124;43m\"\u001b[39;49m\u001b[38;5;124;43mr\u001b[39;49m\u001b[38;5;124;43m\"\u001b[39;49m\u001b[43m)\u001b[49m)\n",
      "\u001b[0;31mFileNotFoundError\u001b[0m: [Errno 2] No such file or directory: '../mal_authentication/token.json'"
     ]
    }
   ],
   "source": [
    "token = json.load(open(\"../mal_authentication/token.json\", \"r\"))"
   ]
  },
  {
   "cell_type": "code",
   "execution_count": null,
   "id": "a872e694-1db1-4d9c-b84f-6d6ed5700f9a",
   "metadata": {},
   "outputs": [],
   "source": [
    "@sleep_and_retry\n",
    "@limits(calls=1, period=0.75)\n",
    "def call_api(url, retry_timeout=1):\n",
    "    try:\n",
    "        response = requests.get(\n",
    "            url, headers={\"Authorization\": f'Bearer {token[\"access_token\"]}'}\n",
    "        )\n",
    "        if response.status_code in [500, 504] and retry_timeout < 3600:\n",
    "            # This can occur if MAL servers go down or if the page doesnt exist\n",
    "            raise Exception(f\"{response.status_code}\")\n",
    "    except Exception as e:\n",
    "        logger.warning(\n",
    "            f\"Received error {str(e)} while accessing {url}. Retrying in {retry_timeout} seconds\"\n",
    "        )\n",
    "        time.sleep(retry_timeout)\n",
    "        retry_timeout = min(retry_timeout * 2, 3600)\n",
    "        return call_api(url, retry_timeout)\n",
    "    return response"
   ]
  },
  {
   "cell_type": "code",
   "execution_count": null,
   "id": "e1ab2a76-a736-4d48-92dc-6d422fdf08a8",
   "metadata": {},
   "outputs": [],
   "source": [
    "def parse_json_node(x):\n",
    "    ls = x[\"list_status\"]\n",
    "    entry = pd.DataFrame.from_dict(\n",
    "        {\n",
    "            \"uid\": [x[\"node\"][\"id\"]],\n",
    "            \"status\": [ls.get(\"status\", \"\")],\n",
    "            \"score\": [ls.get(\"score\", -1)],\n",
    "            \"num_episodes_watched\": [ls.get(\"num_episodes_watched\", -1)],\n",
    "            \"is_rewatching\": [ls.get(\"is_rewatching\", False)],\n",
    "            \"start_date\": [ls.get(\"start_date\", \"\")],\n",
    "            \"finish_date\": [ls.get(\"finish_date\", \"\")],\n",
    "            \"priority\": [ls.get(\"priority\", -1)],\n",
    "            \"num_times_rewatched\": [ls.get(\"num_times_rewatched\", -1)],\n",
    "            \"rewatch_value\": [ls.get(\"rewatch_value\", -1)],\n",
    "            \"updated_at\": [ls.get(\"updated_at\", \"\")],\n",
    "        }\n",
    "    )\n",
    "    return entry\n",
    "\n",
    "\n",
    "def process_json(json):\n",
    "    entries = [parse_json_node(x) for x in json[\"data\"]]\n",
    "    if entries:\n",
    "        return pd.concat(entries, ignore_index=True)\n",
    "    else:\n",
    "        return pd.DataFrame.from_dict(\n",
    "            {\n",
    "                \"uid\": [],\n",
    "                \"status\": [],\n",
    "                \"score\": [],\n",
    "                \"num_episodes_watched\": [],\n",
    "                \"is_rewatching\": [],\n",
    "                \"start_date\": [],\n",
    "                \"finish_date\": [],\n",
    "                \"priority\": [],\n",
    "                \"num_times_rewatched\": [],\n",
    "                \"rewatch_value\": [],\n",
    "                \"updated_at\": [],\n",
    "            }\n",
    "        )\n",
    "\n",
    "\n",
    "def get_user_anime_list(username):\n",
    "    anime_lists = []\n",
    "    more_pages = True\n",
    "    url = f\"https://api.myanimelist.net/v2/users/{username}/animelist?limit=1000&fields=list_status&nsfw=true\"\n",
    "    while more_pages:\n",
    "        response = call_api(url)\n",
    "        if response.status_code in [403, 404]:\n",
    "            # 403: This can occur if the user privated their list\n",
    "            # 404: This can occur if the user deleted their account\n",
    "            return pd.DataFrame(), False\n",
    "        if not response.ok:\n",
    "            logger.warning(f\"Error {response} received when handling {url}\")\n",
    "            return pd.DataFrame(), False\n",
    "\n",
    "        json = response.json()\n",
    "        anime_lists.append(process_json(json))\n",
    "        more_pages = \"next\" in json[\"paging\"]\n",
    "        if more_pages:\n",
    "            url = json[\"paging\"][\"next\"]\n",
    "    user_anime_list = pd.concat(anime_lists, ignore_index=True)\n",
    "    user_anime_list[\"username\"] = username\n",
    "    return user_anime_list, True"
   ]
  },
  {
   "cell_type": "markdown",
   "id": "90f2c1b8-99ed-4bb3-8c15-338d0709db5a",
   "metadata": {},
   "source": [
    "## Sort users by recency"
   ]
  },
  {
   "cell_type": "code",
   "execution_count": null,
   "id": "622d5273-5795-41ce-a967-c91f63c0631c",
   "metadata": {},
   "outputs": [],
   "source": [
    "def read_usernames_from_path(base):\n",
    "    path = f\"../user_facts/{base}.txt\"\n",
    "    if not os.path.exists(path):\n",
    "        return set()\n",
    "    with open(path, \"r\") as f:\n",
    "        return {x.strip() for x in f.readlines()}\n",
    "\n",
    "\n",
    "def read_usernames():\n",
    "    usernames = set()\n",
    "    usernames |= read_usernames_from_path(\"usernames\")\n",
    "    usernames |= read_usernames_from_path(\"recent_usernames\")\n",
    "    usernames |= read_usernames_from_path(\"usernames_from_id\")\n",
    "    return list(usernames)"
   ]
  },
  {
   "cell_type": "code",
   "execution_count": null,
   "id": "c20ce303-a168-4a3b-aedf-77487f74f07e",
   "metadata": {},
   "outputs": [],
   "source": [
    "%run GetUserAnimeLists.ipynb"
   ]
  }
 ],
 "metadata": {
  "kernelspec": {
   "display_name": "Python 3 (ipykernel)",
   "language": "python",
   "name": "python3"
  },
  "language_info": {
   "codemirror_mode": {
    "name": "ipython",
    "version": 3
   },
   "file_extension": ".py",
   "mimetype": "text/x-python",
   "name": "python",
   "nbconvert_exporter": "python",
   "pygments_lexer": "ipython3",
   "version": "3.8.9"
  }
 },
 "nbformat": 4,
 "nbformat_minor": 5
}
