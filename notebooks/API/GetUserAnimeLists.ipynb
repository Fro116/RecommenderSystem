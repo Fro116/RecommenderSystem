{
 "cells": [
  {
   "cell_type": "markdown",
   "id": "1915b44a-3a42-431f-bd6c-94edf9e5bc36",
   "metadata": {
    "tags": []
   },
   "source": [
    "# Getting user anime-lists\n",
    "* You can terminate or restart the notebook at any point without losing progress. All anime-lists found so far will be stored at `data/{source}/user_anime_facts/user_anime_list.csv`, where source is either MAL or AniList\n",
    "* This notebook will run indefinitely. You must manually terminate once an acceptable number of anime-lists have been found"
   ]
  },
  {
   "cell_type": "code",
   "execution_count": null,
   "id": "16a55928-bc2d-4dfb-974f-2480e13c1f0c",
   "metadata": {},
   "outputs": [],
   "source": [
    "import datetime\n",
    "import json\n",
    "import logging\n",
    "import os\n",
    "import random\n",
    "import time\n",
    "\n",
    "import numpy as np\n",
    "import pandas as pd\n",
    "import requests\n",
    "from tqdm import tqdm"
   ]
  },
  {
   "cell_type": "markdown",
   "id": "e65822b0-3bec-4869-94e1-d956684c4bba",
   "metadata": {},
   "source": [
    "## Basic setup"
   ]
  },
  {
   "cell_type": "code",
   "execution_count": null,
   "id": "1e50d2d6-3aa2-4ae2-b6cb-8daa401f6ccf",
   "metadata": {},
   "outputs": [],
   "source": [
    "# outdir\n",
    "data_path = f\"../../data/{name}/user_anime_facts\"\n",
    "if not os.path.exists(data_path):\n",
    "    os.makedirs(data_path, exist_ok=True)\n",
    "os.chdir(data_path)"
   ]
  },
  {
   "cell_type": "code",
   "execution_count": null,
   "id": "bbd8b363-578a-44d6-a82a-1005d9ca3cc1",
   "metadata": {},
   "outputs": [],
   "source": [
    "# logging\n",
    "logger = logging.getLogger(\"GetUserAnimeLists\")\n",
    "logger.setLevel(logging.DEBUG)\n",
    "formatter = logging.Formatter(\n",
    "    \"%(name)s:%(levelname)s:%(asctime)s: %(message)s\", datefmt=\"%Y-%m-%d %H:%M:%S\"\n",
    ")\n",
    "for stream in [\n",
    "    logging.FileHandler(\"get_user_anime_lists.log\"),\n",
    "    logging.StreamHandler(),\n",
    "]:\n",
    "    stream.setFormatter(formatter)\n",
    "    logger.addHandler(stream)"
   ]
  },
  {
   "cell_type": "markdown",
   "id": "90f2c1b8-99ed-4bb3-8c15-338d0709db5a",
   "metadata": {},
   "source": [
    "## Sort users by recency"
   ]
  },
  {
   "cell_type": "code",
   "execution_count": null,
   "id": "a74b6b41-a93b-434a-9408-261b11ba7b68",
   "metadata": {},
   "outputs": [],
   "source": [
    "def read_user_status():\n",
    "    user_status_file = \"user_status.csv\"\n",
    "    if os.path.exists(user_status_file):\n",
    "        return pd.read_csv(user_status_file, keep_default_na=False)\n",
    "    else:\n",
    "        return pd.DataFrame.from_dict(\n",
    "            {\n",
    "                \"username\": [],\n",
    "                \"access_timestamp\": [],\n",
    "                \"success\": [],\n",
    "            }\n",
    "        )"
   ]
  },
  {
   "cell_type": "code",
   "execution_count": null,
   "id": "1279a574-9d37-489a-9366-12cf46399574",
   "metadata": {},
   "outputs": [],
   "source": [
    "def prioritize_users():\n",
    "    usernames = read_usernames()\n",
    "    user_status = read_user_status()\n",
    "    new_users = list(set(usernames) - set(user_status[\"username\"]))\n",
    "    random.shuffle(new_users)\n",
    "    existing_users = list(user_status.sort_values(by=\"access_timestamp\")[\"username\"])\n",
    "    logger.info(\n",
    "        f\"Getting the anime lists of {len(new_users)} new users and refreshing \"\n",
    "        f\"the anime lists of {len(existing_users)} existing users!\"\n",
    "    )\n",
    "    return new_users + existing_users"
   ]
  },
  {
   "cell_type": "markdown",
   "id": "11f61b54-8179-4dda-8e9a-a4d8a0b9234f",
   "metadata": {},
   "source": [
    "## Continuously refresh anime lists\n",
    "* We take the least recently refreshed users and refresh their anime lists\n",
    "* These anime lists are stored in a temporary block\n",
    "* Once the block is big enough, we atomically merge it with the existing anime lists"
   ]
  },
  {
   "cell_type": "code",
   "execution_count": null,
   "id": "4098f0a2-fb1e-4022-a154-ad82a362d4b8",
   "metadata": {},
   "outputs": [],
   "source": [
    "def merge_block(file, user_field, users):\n",
    "    outfile = file + \"~\"\n",
    "    blockfile = file + \".block\"\n",
    "    first_run = not os.path.exists(file)\n",
    "    with open(outfile, \"w\") as out_file:\n",
    "        # copy over all the unchaged users\n",
    "        if not first_run:\n",
    "            with open(file, \"r\") as in_file:\n",
    "                header = False\n",
    "                for line in tqdm(in_file):\n",
    "                    if not header:\n",
    "                        header = True\n",
    "                        out_file.write(line)\n",
    "                        continue\n",
    "                    fields = line.strip().split(\",\")\n",
    "                    if fields[user_field] not in users:\n",
    "                        out_file.write(line)\n",
    "\n",
    "        # copy over the new block\n",
    "        with open(blockfile, \"r\") as in_file:\n",
    "            header = False\n",
    "            for line in tqdm(in_file):\n",
    "                if not header:\n",
    "                    if first_run:\n",
    "                        out_file.write(line)\n",
    "                    header = True\n",
    "                    continue\n",
    "                out_file.write(line)\n",
    "    os.replace(outfile, file)"
   ]
  },
  {
   "cell_type": "code",
   "execution_count": null,
   "id": "cb7f788a-4908-417d-b4d8-c76f1e18d209",
   "metadata": {},
   "outputs": [],
   "source": [
    "def merge_blocks():\n",
    "    users = set(pd.read_csv(\"user_status.csv.block\", keep_default_na=False)[\"username\"])\n",
    "    merge_block(\"user_anime_list.csv\", -1, users)\n",
    "    merge_block(\"user_status.csv\", 0, users)\n",
    "    logger.info(f\"Merging block of {len(users)} users into the main database\")"
   ]
  },
  {
   "cell_type": "code",
   "execution_count": null,
   "id": "5eff37af-acda-491d-9f30-2deec9e4c6a5",
   "metadata": {
    "tags": []
   },
   "outputs": [],
   "source": [
    "# get the anime list for each new user and write to disk\n",
    "while True:\n",
    "    usernames = prioritize_users()[:50000]\n",
    "    block = set()\n",
    "    for username in tqdm(usernames):\n",
    "        user_anime_list, ok = get_user_anime_list(username)\n",
    "        user_anime_list.to_csv(\n",
    "            \"user_anime_list.csv.block\",\n",
    "            index=False,\n",
    "            mode=\"w\" if not block else \"a+\",\n",
    "            header=not block,\n",
    "        )\n",
    "        \n",
    "        user_status_entry = pd.DataFrame.from_dict(\n",
    "            {\n",
    "                \"username\": [username],\n",
    "                \"access_timestamp\": [int(datetime.datetime.now().timestamp())],\n",
    "                \"success\": [ok],\n",
    "            }\n",
    "        )\n",
    "        user_status_entry.to_csv(\n",
    "            \"user_status.csv.block\",\n",
    "            index=False,\n",
    "            mode=\"w\" if not block else \"a+\",\n",
    "            header=not block,\n",
    "        )\n",
    "        block.add(username)\n",
    "    merge_blocks()"
   ]
  }
 ],
 "metadata": {
  "kernelspec": {
   "display_name": "Python 3 (ipykernel)",
   "language": "python",
   "name": "python3"
  },
  "language_info": {
   "codemirror_mode": {
    "name": "ipython",
    "version": 3
   },
   "file_extension": ".py",
   "mimetype": "text/x-python",
   "name": "python",
   "nbconvert_exporter": "python",
   "pygments_lexer": "ipython3",
   "version": "3.8.10"
  }
 },
 "nbformat": 4,
 "nbformat_minor": 5
}
