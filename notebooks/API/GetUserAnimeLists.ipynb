{
 "cells": [
  {
   "cell_type": "markdown",
   "id": "1915b44a-3a42-431f-bd6c-94edf9e5bc36",
   "metadata": {},
   "source": [
    "# Getting MAL anime-lists\n",
    "* We collect the anime-list for each username in `data/mal/user_facts/usernames.txt`\n",
    "* You can terminate or restart the notebook at any point without losing progress. All anime-lists found so far will be stored at `data/mal/user_anime_facts/user_anime_list.csv` \n",
    "* This notebook may take a long time to finish. Feel free to manually terminate once an acceptable number of anime-lists have been found\n",
    "* TODO make the csv append atomic"
   ]
  },
  {
   "cell_type": "code",
   "execution_count": 1,
   "id": "16a55928-bc2d-4dfb-974f-2480e13c1f0c",
   "metadata": {},
   "outputs": [],
   "source": [
    "import datetime\n",
    "import json\n",
    "import os\n",
    "import time\n",
    "\n",
    "import numpy as np\n",
    "import pandas as pd\n",
    "import requests\n",
    "from ratelimit import limits, sleep_and_retry\n",
    "from tqdm import tqdm"
   ]
  },
  {
   "cell_type": "code",
   "execution_count": 2,
   "id": "1e50d2d6-3aa2-4ae2-b6cb-8daa401f6ccf",
   "metadata": {},
   "outputs": [],
   "source": [
    "data_path = \"../../data/mal/user_anime_facts\"\n",
    "if not os.path.exists(data_path):\n",
    "    os.mkdir(data_path)\n",
    "os.chdir(data_path)"
   ]
  },
  {
   "cell_type": "code",
   "execution_count": 3,
   "id": "a36dd4e4-5e93-4e57-bfca-8f271e4afce8",
   "metadata": {},
   "outputs": [],
   "source": [
    "token = json.load(open(\"../mal_authentication/token.json\", \"r\"))"
   ]
  },
  {
   "cell_type": "code",
   "execution_count": 4,
   "id": "a872e694-1db1-4d9c-b84f-6d6ed5700f9a",
   "metadata": {},
   "outputs": [],
   "source": [
    "@sleep_and_retry\n",
    "@limits(calls=1, period=0.75)\n",
    "def call_api(url):\n",
    "    try:\n",
    "        response = requests.get(\n",
    "            url, headers={\"Authorization\": f'Bearer {token[\"access_token\"]}'}\n",
    "        )\n",
    "        if response.status_code == 500:\n",
    "            # This can occur if MAL servers go down\n",
    "            raise Exception(f\"{response.status_code}\")\n",
    "    except Exception as e:\n",
    "        retry_timeout = 3600\n",
    "        print(\n",
    "            f\"Received error {str(e)} while accessing {url}. Retrying in {retry_timeout} seconds\"\n",
    "        )\n",
    "        time.sleep(retry_timeout)\n",
    "        return call_api(url)\n",
    "    return response"
   ]
  },
  {
   "cell_type": "code",
   "execution_count": 5,
   "id": "7645a852-54df-4152-88e7-76570b550c78",
   "metadata": {},
   "outputs": [],
   "source": [
    "def process_json(json):\n",
    "    return pd.DataFrame.from_records(\n",
    "        [(x[\"node\"][\"id\"], x[\"list_status\"][\"score\"]) for x in json[\"data\"]],\n",
    "        columns=[\"anime_id\", \"my_score\"],\n",
    "    )"
   ]
  },
  {
   "cell_type": "code",
   "execution_count": 6,
   "id": "e1ab2a76-a736-4d48-92dc-6d422fdf08a8",
   "metadata": {},
   "outputs": [],
   "source": [
    "def get_user_anime_list(username):\n",
    "    anime_lists = []\n",
    "    more_pages = True\n",
    "    url = f\"https://api.myanimelist.net/v2/users/{username}/animelist?limit=1000&fields=list_status\"\n",
    "    while more_pages:\n",
    "        response = call_api(url)\n",
    "\n",
    "        if response.status_code == 403 or response.status_code == 404:\n",
    "            # 403: This can occur if the user privated their list\n",
    "            # 404: This can occur if the user deleted their account\n",
    "            return pd.DataFrame(), False\n",
    "\n",
    "        response.raise_for_status()\n",
    "        json = response.json()\n",
    "        anime_lists.append(process_json(json))\n",
    "\n",
    "        more_pages = \"next\" in json[\"paging\"]\n",
    "        if more_pages:\n",
    "            url = json[\"paging\"][\"next\"]\n",
    "    user_anime_list = pd.concat(anime_lists, ignore_index=True)\n",
    "    user_anime_list[\"username\"] = username\n",
    "    user_anime_list = user_anime_list.loc[lambda x: x[\"my_score\"] != 0]\n",
    "    return user_anime_list, True"
   ]
  },
  {
   "cell_type": "code",
   "execution_count": 7,
   "id": "2f6b3941-7f5d-4ee0-b382-d27a42461604",
   "metadata": {},
   "outputs": [],
   "source": [
    "first_run = True\n",
    "user_status = pd.DataFrame.from_dict(\n",
    "    {\"username\": [], \"access_timestamp\": [], \"success\": [],}\n",
    ")\n",
    "if os.path.exists(\"user_status.csv\"):\n",
    "    first_run = False\n",
    "    user_status = pd.read_csv(\"user_status.csv\")"
   ]
  },
  {
   "cell_type": "code",
   "execution_count": 8,
   "id": "91330d5a-2086-4d4f-8938-919b16f0560e",
   "metadata": {},
   "outputs": [],
   "source": [
    "with open(\"../user_facts/usernames.txt\", \"r\") as f:\n",
    "    usernames = [x.strip() for x in f.readlines()]"
   ]
  },
  {
   "cell_type": "code",
   "execution_count": 9,
   "id": "b21451fb-f19c-4f8a-a473-84063b1964df",
   "metadata": {
    "tags": []
   },
   "outputs": [
    {
     "name": "stdout",
     "output_type": "stream",
     "text": [
      "Found the anime lists of 81104 existing users!\n",
      "Getting the anime lists of 210920 new users!\n"
     ]
    }
   ],
   "source": [
    "usernames = list(set(usernames) - set(user_status[\"username\"]))\n",
    "np.random.shuffle(usernames)\n",
    "print(f\"Found the anime lists of {len(user_status)} existing users!\")\n",
    "print(f\"Getting the anime lists of {len(usernames)} new users!\")"
   ]
  },
  {
   "cell_type": "code",
   "execution_count": null,
   "id": "5eff37af-acda-491d-9f30-2deec9e4c6a5",
   "metadata": {},
   "outputs": [
    {
     "name": "stderr",
     "output_type": "stream",
     "text": [
      " 54%|████████████████████████████████████▉                               | 114419/210920 [27:07:09<28:47:27,  1.07s/it]"
     ]
    },
    {
     "name": "stdout",
     "output_type": "stream",
     "text": [
      "Recevied error 500 while accessing https://api.myanimelist.net/v2/users/OwlBlue/animelist?offset=13000&limit=1000&fields=list_status. Retrying in 3600 seconds\n"
     ]
    },
    {
     "name": "stderr",
     "output_type": "stream",
     "text": [
      " 87%|████████████████████████████████████████████████████████████▎        | 184277/210920 [44:21:12<7:16:53,  1.02it/s]"
     ]
    }
   ],
   "source": [
    "for username in tqdm(usernames):\n",
    "    user_anime_list, ok = get_user_anime_list(username)\n",
    "    pd.DataFrame.from_dict(\n",
    "        {\n",
    "            \"username\": [username],\n",
    "            \"access_timestamp\": [int(datetime.datetime.now().timestamp())],\n",
    "            \"success\": [ok],\n",
    "        }\n",
    "    ).to_csv(\n",
    "        \"user_status.csv\", index=False, mode=\"w\" if first_run else \"a\", header=first_run\n",
    "    )\n",
    "    user_anime_list.to_csv(\n",
    "        \"user_anime_list.csv\",\n",
    "        index=False,\n",
    "        mode=\"w\" if first_run else \"a\",\n",
    "        header=first_run,\n",
    "    )\n",
    "    first_run = False"
   ]
  },
  {
   "cell_type": "code",
   "execution_count": null,
   "id": "9063589b-34eb-4e9b-b205-9181ea1af824",
   "metadata": {},
   "outputs": [],
   "source": [
    "get_user_anime_list(username)"
   ]
  },
  {
   "cell_type": "code",
   "execution_count": null,
   "id": "964b1b49-56ac-4301-9722-1b58c4dc6163",
   "metadata": {},
   "outputs": [],
   "source": []
  }
 ],
 "metadata": {
  "kernelspec": {
   "display_name": "Python 3",
   "language": "python",
   "name": "python3"
  },
  "language_info": {
   "codemirror_mode": {
    "name": "ipython",
    "version": 3
   },
   "file_extension": ".py",
   "mimetype": "text/x-python",
   "name": "python",
   "nbconvert_exporter": "python",
   "pygments_lexer": "ipython3",
   "version": "3.8.8"
  }
 },
 "nbformat": 4,
 "nbformat_minor": 5
}
