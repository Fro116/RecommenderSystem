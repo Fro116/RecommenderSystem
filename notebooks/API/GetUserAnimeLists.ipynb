{
 "cells": [
  {
   "cell_type": "markdown",
   "id": "1915b44a-3a42-431f-bd6c-94edf9e5bc36",
   "metadata": {},
   "source": [
    "# Getting MAL anime-lists\n",
    "* We collect the anime-list for each username in `data/mal/user_facts/usernames.txt`\n",
    "* You can terminate or restart the notebook at any point without losing progress. All anime-lists found so far will be stored at `data/mal/user_anime_facts/user_anime_list.csv` \n",
    "* This notebook may take a long time to finish. Feel free to manually terminate once an acceptable number of anime-lists have been found\n",
    "* TODO don't discard unrated shows"
   ]
  },
  {
   "cell_type": "code",
   "execution_count": 1,
   "id": "16a55928-bc2d-4dfb-974f-2480e13c1f0c",
   "metadata": {},
   "outputs": [],
   "source": [
    "import datetime\n",
    "import json\n",
    "import logging\n",
    "import os\n",
    "import time\n",
    "\n",
    "import numpy as np\n",
    "import pandas as pd\n",
    "import requests\n",
    "from ratelimit import limits, sleep_and_retry\n",
    "from tqdm import tqdm"
   ]
  },
  {
   "cell_type": "code",
   "execution_count": 2,
   "id": "1e50d2d6-3aa2-4ae2-b6cb-8daa401f6ccf",
   "metadata": {},
   "outputs": [],
   "source": [
    "data_path = \"../../data/mal/user_anime_facts\"\n",
    "if not os.path.exists(data_path):\n",
    "    os.mkdir(data_path)\n",
    "os.chdir(data_path)"
   ]
  },
  {
   "cell_type": "code",
   "execution_count": 3,
   "id": "bbd8b363-578a-44d6-a82a-1005d9ca3cc1",
   "metadata": {},
   "outputs": [],
   "source": [
    "logger = logging.getLogger(\"GetUserAnimeLists\")\n",
    "logger.setLevel(logging.DEBUG)\n",
    "formatter = logging.Formatter(\n",
    "    \"%(name)s:%(levelname)s:%(asctime)s: %(message)s\", datefmt=\"%Y-%m-%d %H:%M:%S\"\n",
    ")\n",
    "for stream in [\n",
    "    logging.FileHandler(\"get_user_anime_lists.log\"),\n",
    "    logging.StreamHandler(),\n",
    "]:\n",
    "    stream.setFormatter(formatter)\n",
    "    logger.addHandler(stream)"
   ]
  },
  {
   "cell_type": "code",
   "execution_count": 4,
   "id": "a36dd4e4-5e93-4e57-bfca-8f271e4afce8",
   "metadata": {},
   "outputs": [],
   "source": [
    "token = json.load(open(\"../mal_authentication/token.json\", \"r\"))"
   ]
  },
  {
   "cell_type": "code",
   "execution_count": 5,
   "id": "a872e694-1db1-4d9c-b84f-6d6ed5700f9a",
   "metadata": {},
   "outputs": [],
   "source": [
    "# apply rate limiting with exponential backoff for unexpected errors\n",
    "@sleep_and_retry\n",
    "@limits(calls=1, period=0.75)\n",
    "def call_api(url, retry_timeout=1):\n",
    "    try:\n",
    "        response = requests.get(\n",
    "            url, headers={\"Authorization\": f'Bearer {token[\"access_token\"]}'}\n",
    "        )\n",
    "        if response.status_code in [500]:\n",
    "            # This can occur if MAL servers go down\n",
    "            raise Exception(f\"{response.status_code}\")\n",
    "    except Exception as e:\n",
    "        logger.warning(\n",
    "            f\"Received error {str(e)} while accessing {url}. Retrying in {retry_timeout} seconds\"\n",
    "        )\n",
    "        time.sleep(retry_timeout)\n",
    "        retry_timeout = min(retry_timeout * 2, 3600)\n",
    "        return call_api(url, retry_timeout)\n",
    "    return response"
   ]
  },
  {
   "cell_type": "code",
   "execution_count": 6,
   "id": "7645a852-54df-4152-88e7-76570b550c78",
   "metadata": {},
   "outputs": [],
   "source": [
    "def process_json(json):\n",
    "    return pd.DataFrame.from_records(\n",
    "        [(x[\"node\"][\"id\"], x[\"list_status\"][\"score\"]) for x in json[\"data\"]],\n",
    "        columns=[\"anime_id\", \"my_score\"],\n",
    "    )"
   ]
  },
  {
   "cell_type": "code",
   "execution_count": 7,
   "id": "e1ab2a76-a736-4d48-92dc-6d422fdf08a8",
   "metadata": {},
   "outputs": [],
   "source": [
    "def get_user_anime_list(username):\n",
    "    anime_lists = []\n",
    "    more_pages = True\n",
    "    url = f\"https://api.myanimelist.net/v2/users/{username}/animelist?limit=1000&fields=list_status\"\n",
    "    while more_pages:\n",
    "        response = call_api(url)\n",
    "        if response.status_code in [403, 404]:\n",
    "            # 403: This can occur if the user privated their list\n",
    "            # 404: This can occur if the user deleted their account\n",
    "            return pd.DataFrame(), False\n",
    "        if not response.ok:\n",
    "            logger.warning(f\"Error {response} received when handling {url}\")\n",
    "            return pd.DataFrame(), False\n",
    "\n",
    "        json = response.json()\n",
    "        anime_lists.append(process_json(json))\n",
    "        more_pages = \"next\" in json[\"paging\"]\n",
    "        if more_pages:\n",
    "            url = json[\"paging\"][\"next\"]\n",
    "    user_anime_list = pd.concat(anime_lists, ignore_index=True)\n",
    "    user_anime_list[\"username\"] = username\n",
    "    user_anime_list = user_anime_list.loc[lambda x: x[\"my_score\"] != 0]\n",
    "    return user_anime_list, True"
   ]
  },
  {
   "cell_type": "code",
   "execution_count": 8,
   "id": "91330d5a-2086-4d4f-8938-919b16f0560e",
   "metadata": {},
   "outputs": [],
   "source": [
    "with open(\"../user_facts/usernames.txt\", \"r\") as f:\n",
    "    usernames = [x.strip() for x in f.readlines()]"
   ]
  },
  {
   "cell_type": "code",
   "execution_count": 9,
   "id": "2f6b3941-7f5d-4ee0-b382-d27a42461604",
   "metadata": {},
   "outputs": [],
   "source": [
    "first_run = not os.path.exists(\"user_status.csv\")\n",
    "if first_run:\n",
    "    user_status = pd.DataFrame.from_dict(\n",
    "        {\n",
    "            \"username\": [],\n",
    "            \"access_timestamp\": [],\n",
    "            \"success\": [],\n",
    "        }\n",
    "    )\n",
    "else:\n",
    "    user_status = pd.read_csv(\"user_status.csv\")"
   ]
  },
  {
   "cell_type": "code",
   "execution_count": 10,
   "id": "b21451fb-f19c-4f8a-a473-84063b1964df",
   "metadata": {
    "tags": []
   },
   "outputs": [
    {
     "name": "stderr",
     "output_type": "stream",
     "text": [
      "GetUserAnimeLists:INFO:2021-11-06 22:16:07: Found the anime lists of 207287 existing users!\n",
      "GetUserAnimeLists:INFO:2021-11-06 22:16:07: Getting the anime lists of 162768 new users!\n"
     ]
    }
   ],
   "source": [
    "usernames = list(set(usernames) - set(user_status[\"username\"]))\n",
    "np.random.shuffle(usernames)\n",
    "logger.info(f\"Found the anime lists of {len(user_status)} existing users!\")\n",
    "logger.info(f\"Getting the anime lists of {len(usernames)} new users!\")"
   ]
  },
  {
   "cell_type": "code",
   "execution_count": 11,
   "id": "932112db-4260-482c-ae1b-0bceeb621cf6",
   "metadata": {},
   "outputs": [],
   "source": [
    "# Entries in user_anime_list.csv can be malformed if the notebook crashes in the \n",
    "# middle of saving a file. This function removes any malformed lines.\n",
    "def verify_user_anime_list_consistency():\n",
    "    logger.info(\"Verifying consistency of existing entries in user_anime_list.csv\")\n",
    "    input_fn = \"user_anime_list.csv\"\n",
    "    output_fn = input_fn + \"~\"\n",
    "    with open(input_fn, \"r\") as in_file:\n",
    "        with open(output_fn, \"w\") as out_file:\n",
    "            header = False\n",
    "            successful_users = set(user_status.loc[lambda x: x['success']]['username'])            \n",
    "            invalid_users = set()\n",
    "            for line in tqdm(in_file):\n",
    "                if not header:\n",
    "                    header = True\n",
    "                    correct_header = \"anime_id,my_score,username\\n\"\n",
    "                    if line.strip() != correct_header.strip():\n",
    "                        logger.warning(\n",
    "                            f\"Replacing malformed header line {line.strip} \"\n",
    "                            f\"with correct header {correct_header.strip()}\"\n",
    "                        )\n",
    "                        line = correct_header\n",
    "                    out_file.write(line)\n",
    "                    continue\n",
    "                fields = line.strip().split(\",\")\n",
    "                if len(fields) != 3:\n",
    "                    logger.warning(\n",
    "                        f\"Deleting malformed line in user_anime_list.csv {line} \"\n",
    "                    )\n",
    "                    continue\n",
    "                anime_id, score, username = fields\n",
    "                if username not in successful_users:\n",
    "                    if username not in invalid_users:\n",
    "                        invalid_users.add(username)\n",
    "                        logger.warning(\n",
    "                            f\"Deleting entries in user_anime_list.csv for \"\n",
    "                            f\" unrecognized username {username}\"\n",
    "                        )\n",
    "                    continue\n",
    "                out_file.write(line)\n",
    "    os.replace(output_fn, input_fn)"
   ]
  },
  {
   "cell_type": "code",
   "execution_count": 12,
   "id": "537ce27d-4e4f-448d-8ccb-a5d89ff20029",
   "metadata": {},
   "outputs": [
    {
     "name": "stderr",
     "output_type": "stream",
     "text": [
      "GetUserAnimeLists:INFO:2021-11-06 22:16:07: Verifying consistency of existing entries in user_anime_list.csv\n",
      "42060368it [00:36, 1164308.77it/s]\n"
     ]
    }
   ],
   "source": [
    "verify_user_anime_list_consistency()"
   ]
  },
  {
   "cell_type": "code",
   "execution_count": null,
   "id": "5eff37af-acda-491d-9f30-2deec9e4c6a5",
   "metadata": {
    "tags": []
   },
   "outputs": [
    {
     "name": "stderr",
     "output_type": "stream",
     "text": [
      "  0%|                                   | 454/162768 [06:12<39:21:02,  1.15it/s]"
     ]
    }
   ],
   "source": [
    "for username in tqdm(usernames):\n",
    "    user_anime_list, ok = get_user_anime_list(username)\n",
    "    user_anime_list.to_csv(\n",
    "        \"user_anime_list.csv\",\n",
    "        index=False,\n",
    "        mode=\"w\" if first_run else \"a\",\n",
    "        header=first_run,\n",
    "    )\n",
    "    pd.DataFrame.from_dict(\n",
    "        {\n",
    "            \"username\": [username],\n",
    "            \"access_timestamp\": [int(datetime.datetime.now().timestamp())],\n",
    "            \"success\": [ok],\n",
    "        }\n",
    "    ).to_csv(\n",
    "        \"user_status.csv\", index=False, mode=\"w\" if first_run else \"a\", header=first_run\n",
    "    )\n",
    "    first_run = False"
   ]
  },
  {
   "cell_type": "code",
   "execution_count": null,
   "id": "2833f9d0-fe17-4aa7-b480-690f16e0254a",
   "metadata": {},
   "outputs": [],
   "source": []
  }
 ],
 "metadata": {
  "kernelspec": {
   "display_name": "Python 3 (ipykernel)",
   "language": "python",
   "name": "python3"
  },
  "language_info": {
   "codemirror_mode": {
    "name": "ipython",
    "version": 3
   },
   "file_extension": ".py",
   "mimetype": "text/x-python",
   "name": "python",
   "nbconvert_exporter": "python",
   "pygments_lexer": "ipython3",
   "version": "3.8.10"
  }
 },
 "nbformat": 4,
 "nbformat_minor": 5
}
