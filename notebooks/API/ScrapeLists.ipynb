{
 "cells": [
  {
   "cell_type": "code",
   "execution_count": 1,
   "metadata": {},
   "outputs": [],
   "source": [
    "import os\n",
    "import time\n",
    "\n",
    "import pandas as pd\n",
    "import requests\n",
    "from tqdm import tqdm"
   ]
  },
  {
   "cell_type": "code",
   "execution_count": 2,
   "metadata": {},
   "outputs": [],
   "source": [
    "usernames = [\"Fro116\", \"mpfei\"]"
   ]
  },
  {
   "cell_type": "code",
   "execution_count": 3,
   "metadata": {},
   "outputs": [],
   "source": [
    "os.chdir(\"../../data/user_profiles\")"
   ]
  },
  {
   "cell_type": "code",
   "execution_count": 4,
   "metadata": {},
   "outputs": [],
   "source": [
    "def get_score_df(json):\n",
    "    # turn the json response into a dataframe\n",
    "    plan_to_watch_status = 6\n",
    "    dropped_status = 4\n",
    "    on_hold_status = 3\n",
    "    completed_status = 2\n",
    "    currently_watching_status = 1\n",
    "\n",
    "    volatile_rating_categories = [\n",
    "        plan_to_watch_status,\n",
    "        on_hold_status,\n",
    "        currently_watching_status,\n",
    "    ]\n",
    "\n",
    "    anime_ids = []\n",
    "    scores = []\n",
    "    for item in response.json()[\"anime\"]:\n",
    "        if (\n",
    "            item[\"watched_episodes\"] == 1\n",
    "            and item[\"total_episodes\"] > 1\n",
    "            and item[\"watching_status\"] in volatile_rating_categories\n",
    "        ):\n",
    "            # preliminary ratings may be biased\n",
    "            continue\n",
    "        anime_ids.append(item[\"mal_id\"])\n",
    "        scores.append(item[\"score\"])\n",
    "    return pd.DataFrame({\"anime_id\": anime_ids, \"my_score\": scores})"
   ]
  },
  {
   "cell_type": "code",
   "execution_count": 5,
   "metadata": {},
   "outputs": [
    {
     "name": "stderr",
     "output_type": "stream",
     "text": [
      "100%|██████████| 2/2 [00:16<00:00,  8.27s/it]\n"
     ]
    }
   ],
   "source": [
    "user_lists = []\n",
    "\n",
    "max_items_per_page = 300  # property of the API\n",
    "for username in tqdm(usernames):\n",
    "    more_pages = True\n",
    "    page = 1\n",
    "    scores = []\n",
    "    while more_pages:\n",
    "        time.sleep(5)\n",
    "        response = requests.get(\n",
    "            f\"https://api.jikan.moe/v3/user/{username}/animelist/all/{page}\"\n",
    "        )\n",
    "        page_df = get_score_df(response.json())\n",
    "        scores.append(page_df)\n",
    "        page += 1\n",
    "        if len(page_df) < max_items_per_page:\n",
    "            more_pages = False\n",
    "    score_df = pd.concat(scores)\n",
    "    score_df[\"username\"] = username\n",
    "    score_df = score_df.loc[lambda x: x[\"my_score\"] != 0]\n",
    "    user_lists.append(score_df)"
   ]
  },
  {
   "cell_type": "code",
   "execution_count": 6,
   "metadata": {
    "tags": []
   },
   "outputs": [],
   "source": [
    "scores = pd.concat(user_lists)"
   ]
  },
  {
   "cell_type": "code",
   "execution_count": 7,
   "metadata": {},
   "outputs": [],
   "source": [
    "scores.to_pickle(\"ExtraUserAnimeLists.pkl\")"
   ]
  },
  {
   "cell_type": "code",
   "execution_count": null,
   "metadata": {},
   "outputs": [],
   "source": []
  }
 ],
 "metadata": {
  "kernelspec": {
   "display_name": "Python 3",
   "language": "python",
   "name": "python3"
  },
  "language_info": {
   "codemirror_mode": {
    "name": "ipython",
    "version": 3
   },
   "file_extension": ".py",
   "mimetype": "text/x-python",
   "name": "python",
   "nbconvert_exporter": "python",
   "pygments_lexer": "ipython3",
   "version": "3.8.5"
  }
 },
 "nbformat": 4,
 "nbformat_minor": 4
}
