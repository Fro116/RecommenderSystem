{
 "cells": [
  {
   "cell_type": "markdown",
   "metadata": {},
   "source": [
    "# Generating a list of MAL usernames\n",
    "* We look up a username by querying their user id\n",
    "* You can terminate or restart the notebook at any point without losing progress. All users found so far will be stored at `data/mal/user_facts/usernames_from_id.txt`.\n",
    "* This notebook will run indefinitely. You must manually terminate once an acceptable number of users have been found"
   ]
  },
  {
   "cell_type": "code",
   "execution_count": 1,
   "metadata": {},
   "outputs": [],
   "source": [
    "import contextlib\n",
    "import logging\n",
    "import os\n",
    "import re\n",
    "import shutil\n",
    "import time\n",
    "\n",
    "import numpy as np\n",
    "import pandas as pd\n",
    "import requests\n",
    "from ratelimit import limits, sleep_and_retry"
   ]
  },
  {
   "cell_type": "code",
   "execution_count": 2,
   "metadata": {},
   "outputs": [],
   "source": [
    "# outdir\n",
    "data_path = \"../../data/mal/user_facts\"\n",
    "if not os.path.exists(data_path):\n",
    "    os.mkdir(data_path)\n",
    "os.chdir(data_path)"
   ]
  },
  {
   "cell_type": "code",
   "execution_count": 3,
   "metadata": {},
   "outputs": [],
   "source": [
    "# logging\n",
    "logger = logging.getLogger(\"GetUserFromID\")\n",
    "logger.setLevel(logging.DEBUG)\n",
    "formatter = logging.Formatter(\n",
    "    \"%(name)s:%(levelname)s:%(asctime)s: %(message)s\", datefmt=\"%Y-%m-%d %H:%M:%S\"\n",
    ")\n",
    "for stream in [\n",
    "    logging.FileHandler(\"get_user_from_id.log\"),\n",
    "    logging.StreamHandler(),\n",
    "]:\n",
    "    stream.setFormatter(formatter)\n",
    "    logger.addHandler(stream)"
   ]
  },
  {
   "cell_type": "code",
   "execution_count": 4,
   "metadata": {},
   "outputs": [
    {
     "name": "stderr",
     "output_type": "stream",
     "text": [
      "GetUserFromID:INFO:2022-07-13 04:36:56: Starting with 1649762 stored usernames at residue 8222427\n"
     ]
    }
   ],
   "source": [
    "# if we rerunning the notebook, then resume execution where we last left off\n",
    "usernames = set()\n",
    "if os.path.exists(\"usernames_from_id.txt\"):\n",
    "    with open(\"usernames_from_id.txt\") as f:\n",
    "        usernames = {x.strip() for x in f.readlines() if x.strip()}\n",
    "\n",
    "userid = 1\n",
    "if os.path.exists(\"current_userid.txt\"):\n",
    "    with open(\"current_userid.txt\") as f:\n",
    "        userid = int([x.strip() for x in f.readlines() if x.strip()][0])\n",
    "\n",
    "logger.info(f\"Starting with {len(usernames)} stored usernames at residue {userid}\")"
   ]
  },
  {
   "cell_type": "code",
   "execution_count": 5,
   "metadata": {},
   "outputs": [],
   "source": [
    "# apply rate limiting with exponential backoff for unexpected errors\n",
    "@sleep_and_retry\n",
    "@limits(calls=1, period=3)\n",
    "def call_api(url, retry_timeout=1):\n",
    "    try:\n",
    "        response = requests.get(url)\n",
    "        if response.status_code in [403, 429, 500, 503, 504]:\n",
    "            # This can occur if MAL servers go down\n",
    "            raise Exception(f\"{response.status_code}\")\n",
    "    except Exception as e:\n",
    "        logger.warning(\n",
    "            f\"Received error {str(e)} while accessing {url}. Retrying in {retry_timeout} seconds\"\n",
    "        )\n",
    "        time.sleep(retry_timeout)\n",
    "        retry_timeout = min(retry_timeout * 2, 3600)\n",
    "        return call_api(url, retry_timeout)\n",
    "    return response"
   ]
  },
  {
   "cell_type": "code",
   "execution_count": 6,
   "metadata": {},
   "outputs": [],
   "source": [
    "# returns all usernames that have commented on the given userid's profile\n",
    "def get_usernames(userid):\n",
    "    url = f\"https://myanimelist.net/comments.php?id={userid}\"\n",
    "    response = call_api(url)\n",
    "    if response.status_code in [404]:\n",
    "        # the user may have deleted their account\n",
    "        return set()\n",
    "    if not response.ok:\n",
    "        logger.warning(f\"Error {response} received when handling {url}\")\n",
    "        return set()\n",
    "    urls = re.findall('''/profile/[^\"/#%]+\"''', response.text)\n",
    "    users = {x[len(\"/profile/\") : -len('\"')] for x in urls}\n",
    "    return users"
   ]
  },
  {
   "cell_type": "code",
   "execution_count": 7,
   "metadata": {},
   "outputs": [],
   "source": [
    "# atomic saving utilities\n",
    "@contextlib.contextmanager\n",
    "def atomic_overwrite(filename):\n",
    "    temp = filename + \"~\"\n",
    "    with open(temp, \"w\") as f:\n",
    "        yield f\n",
    "    os.replace(temp, filename)\n",
    "\n",
    "\n",
    "def atomic_to_csv(collection, filename):\n",
    "    with atomic_overwrite(filename) as f:\n",
    "        pd.Series(collection).to_csv(f, header=False, index=False)"
   ]
  },
  {
   "cell_type": "code",
   "execution_count": 8,
   "metadata": {},
   "outputs": [],
   "source": [
    "# snapshot hourly to amortize the cost of the disk I/O\n",
    "def should_save(reason):\n",
    "    should_save = False\n",
    "    if reason not in save_reasons:\n",
    "        save_reasons[reason] = (0, 1)\n",
    "    iterations_since_last_write, iterations_until_next_write = save_reasons[reason]\n",
    "    iterations_since_last_write += 1\n",
    "    if iterations_since_last_write >= iterations_until_next_write:\n",
    "        iterations_since_last_write = 0\n",
    "        iterations_until_next_write = min(2 * iterations_until_next_write, 1200)\n",
    "        should_save = True\n",
    "        logger.info(\n",
    "            f\"Writing data for {reason}. Will next write data \"\n",
    "            f\"after {iterations_until_next_write} iterations\"\n",
    "        )\n",
    "    save_reasons[reason] = (iterations_since_last_write, iterations_until_next_write)\n",
    "    return should_save\n",
    "\n",
    "\n",
    "save_reasons = {}"
   ]
  },
  {
   "cell_type": "code",
   "execution_count": null,
   "metadata": {
    "tags": []
   },
   "outputs": [
    {
     "name": "stderr",
     "output_type": "stream",
     "text": [
      "GetUserFromID:INFO:2022-07-13 04:36:57: Writing data for users. Will next write data after 2 iterations\n",
      "GetUserFromID:INFO:2022-07-13 04:37:00: Successfully wrote 1649763 users at residue 9667300\n",
      "GetUserFromID:INFO:2022-07-13 04:37:04: Writing data for users. Will next write data after 4 iterations\n",
      "GetUserFromID:INFO:2022-07-13 04:37:07: Successfully wrote 1649765 users at residue 12005795\n",
      "GetUserFromID:INFO:2022-07-13 04:37:16: Writing data for users. Will next write data after 8 iterations\n",
      "GetUserFromID:INFO:2022-07-13 04:37:20: Successfully wrote 1649768 users at residue 12470611\n",
      "GetUserFromID:INFO:2022-07-13 04:37:41: Writing data for users. Will next write data after 16 iterations\n",
      "GetUserFromID:INFO:2022-07-13 04:37:44: Successfully wrote 1649778 users at residue 9782397\n",
      "GetUserFromID:INFO:2022-07-13 04:38:29: Writing data for users. Will next write data after 32 iterations\n",
      "GetUserFromID:INFO:2022-07-13 04:38:33: Successfully wrote 1649794 users at residue 7764381\n",
      "GetUserFromID:INFO:2022-07-13 04:40:06: Writing data for users. Will next write data after 64 iterations\n",
      "GetUserFromID:INFO:2022-07-13 04:40:09: Successfully wrote 1649822 users at residue 2924625\n"
     ]
    }
   ],
   "source": [
    "def save():\n",
    "    atomic_to_csv(sorted(list(usernames)), \"usernames_from_id.txt\")\n",
    "    atomic_to_csv([userid], \"current_userid.txt\")\n",
    "    logger.info(f\"Successfully wrote {len(usernames)} users at residue {userid}\")\n",
    "\n",
    "# we search through user ids using a cyclic group to avoid temporal bias\n",
    "maxid_prime_number = 14999981  # a prime number that upper bounds the number of MAL ids\n",
    "cyclic_generator = 3\n",
    "while True:\n",
    "    while (userid * cyclic_generator) % maxid_prime_number != 1:\n",
    "        usernames |= get_usernames(userid)\n",
    "        userid = (userid * cyclic_generator) % maxid_prime_number\n",
    "        if should_save(\"users\"):\n",
    "            save()\n",
    "    save()\n",
    "    maxid_prime_number *= 2"
   ]
  }
 ],
 "metadata": {
  "kernelspec": {
   "display_name": "Python 3 (ipykernel)",
   "language": "python",
   "name": "python3"
  },
  "language_info": {
   "codemirror_mode": {
    "name": "ipython",
    "version": 3
   },
   "file_extension": ".py",
   "mimetype": "text/x-python",
   "name": "python",
   "nbconvert_exporter": "python",
   "pygments_lexer": "ipython3",
   "version": "3.8.10"
  }
 },
 "nbformat": 4,
 "nbformat_minor": 4
}
