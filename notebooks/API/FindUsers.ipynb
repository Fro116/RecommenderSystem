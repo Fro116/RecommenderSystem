{
 "cells": [
  {
   "cell_type": "markdown",
   "metadata": {},
   "source": [
    "# Generating a list of MAL users\n",
    "* We start with a list of starting usernames, which can either be stored in `data/user_facts/usernames.txt` or specified in the notebook\n",
    "* Their friends are added, then friends of their friends and so on\n",
    "* This notebook will continue to run and snapshot data until the friend graph is spanned"
   ]
  },
  {
   "cell_type": "code",
   "execution_count": 1,
   "metadata": {},
   "outputs": [],
   "source": [
    "import os\n",
    "import time\n",
    "\n",
    "import pandas as pd\n",
    "import requests\n",
    "from tqdm import tqdm"
   ]
  },
  {
   "cell_type": "code",
   "execution_count": 2,
   "metadata": {},
   "outputs": [],
   "source": [
    "data_path = \"../../data/user_facts\"\n",
    "if not os.path.exists(data_path):\n",
    "    os.mkdir(data_path)\n",
    "os.chdir(data_path)"
   ]
  },
  {
   "cell_type": "code",
   "execution_count": 3,
   "metadata": {},
   "outputs": [],
   "source": [
    "if os.path.exists(\"usernames.txt\"):\n",
    "    with open('usernames.txt') as f:\n",
    "        starting_usernames = {x.strip() for x in f.readlines()}\n",
    "else:    \n",
    "    starting_usernames = [\"Fro116\"]"
   ]
  },
  {
   "cell_type": "code",
   "execution_count": 4,
   "metadata": {},
   "outputs": [],
   "source": [
    "def get_friend_df(json):\n",
    "    # turn the json response into a dataframe\n",
    "    usernames = []\n",
    "    for item in json[\"friends\"]:\n",
    "        usernames.append(item[\"username\"])\n",
    "    return pd.DataFrame({\"friends\": usernames})"
   ]
  },
  {
   "cell_type": "code",
   "execution_count": 5,
   "metadata": {},
   "outputs": [],
   "source": [
    "def get_friends(usernames):\n",
    "    friend_lists = []\n",
    "\n",
    "    max_items_per_page = 300  # property of the API\n",
    "    for username in tqdm(usernames):\n",
    "        more_pages = True\n",
    "        page = 1\n",
    "        friends = []\n",
    "        while more_pages:\n",
    "            time.sleep(4)  # Jikan requires a minimum rate limit of 1 request per 4 secs\n",
    "            response = requests.get(\n",
    "                f\"https://api.jikan.moe/v3/user/{username}/friends/{page}\"\n",
    "            )\n",
    "            if not response.ok:\n",
    "                print(f\"error: no friends found for {username}\")\n",
    "                continue\n",
    "            page_df = get_friend_df(response.json())\n",
    "            friends.append(page_df)\n",
    "            page += 1\n",
    "            if len(page_df) < max_items_per_page:\n",
    "                more_pages = False\n",
    "        friend_df = pd.concat(friends)\n",
    "        friend_df[\"username\"] = username\n",
    "        friend_lists.append(friend_df)\n",
    "    friends = pd.concat(friend_lists, ignore_index=True)\n",
    "    return friends"
   ]
  },
  {
   "cell_type": "code",
   "execution_count": null,
   "metadata": {
    "tags": []
   },
   "outputs": [
    {
     "name": "stderr",
     "output_type": "stream",
     "text": [
      "100%|██████████| 1/1 [00:04<00:00,  4.51s/it]\n",
      "100%|██████████| 8/8 [00:40<00:00,  5.08s/it]\n",
      "100%|██████████| 113/113 [10:35<00:00,  5.62s/it]\n",
      "  6%|▋         | 298/4728 [46:29<6:54:33,  5.61s/it]   "
     ]
    }
   ],
   "source": [
    "usernames = set(starting_usernames)\n",
    "\n",
    "friends_by_round = [pd.DataFrame()]\n",
    "usernames_by_round = [set()]\n",
    "while True:\n",
    "    epoch = len(usernames_by_round) - 1\n",
    "    new_usernames = usernames - usernames_by_round[epoch]\n",
    "    if len(new_usernames) == 0:\n",
    "        break\n",
    "    new_friends = get_friends(new_usernames)\n",
    "    friends_by_round.append(new_friends)\n",
    "\n",
    "    usernames_by_round.append(usernames)\n",
    "    usernames = set(new_friends[\"friends\"]) | usernames_by_round[epoch] | new_usernames\n",
    "    pd.Series(sorted(list(usernames))).to_csv(\"usernames.txt\", header=False, index=False)"
   ]
  }
 ],
 "metadata": {
  "kernelspec": {
   "display_name": "Python 3",
   "language": "python",
   "name": "python3"
  },
  "language_info": {
   "codemirror_mode": {
    "name": "ipython",
    "version": 3
   },
   "file_extension": ".py",
   "mimetype": "text/x-python",
   "name": "python",
   "nbconvert_exporter": "python",
   "pygments_lexer": "ipython3",
   "version": "3.8.5"
  }
 },
 "nbformat": 4,
 "nbformat_minor": 4
}
