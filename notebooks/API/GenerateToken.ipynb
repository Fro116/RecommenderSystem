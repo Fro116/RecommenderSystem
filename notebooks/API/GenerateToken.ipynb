{
 "cells": [
  {
   "cell_type": "markdown",
   "metadata": {
    "tags": []
   },
   "source": [
    "# Steps to getting an Authorization Token\n",
    "1. Register a web application on MyAnimeList as described in https://myanimelist.net/blog.php?eid=835707\n",
    "2. Store your MyAnimeList Client ID and Client Secret in the files `data/mal/mal_authentication/clientid.txt` and `data/mal/mal_authentication/clientsecret.txt`\n",
    "3. run the notebook"
   ]
  },
  {
   "cell_type": "code",
   "execution_count": null,
   "metadata": {},
   "outputs": [],
   "source": [
    "TOKEN_NUMBER = 3"
   ]
  },
  {
   "cell_type": "code",
   "execution_count": null,
   "metadata": {},
   "outputs": [],
   "source": [
    "clientid_fn = f\"clientid.txt\"\n",
    "clientsecret_fn = f\"clientsecret.txt\"\n",
    "token_fn = f\"token.json\""
   ]
  },
  {
   "cell_type": "code",
   "execution_count": null,
   "metadata": {},
   "outputs": [],
   "source": [
    "import json\n",
    "import os\n",
    "import secrets\n",
    "\n",
    "import requests\n",
    "\n",
    "os.chdir(\"../../data/mal/mal_authentication\")\n",
    "with open(clientid_fn) as f:\n",
    "    CLIENT_ID = f.read().strip()\n",
    "with open(clientsecret_fn) as f:\n",
    "    CLIENT_SECRET = f.read().strip()\n",
    "\n",
    "# 1. Generate a new Code Verifier / Code Challenge.\n",
    "def get_new_code_verifier() -> str:\n",
    "    token = secrets.token_urlsafe(100)\n",
    "    return token[:128]\n",
    "\n",
    "\n",
    "# 2. Print the URL needed to authorise your application.\n",
    "def print_new_authorisation_url(code_challenge: str):\n",
    "    global CLIENT_ID\n",
    "\n",
    "    url = f\"https://myanimelist.net/v1/oauth2/authorize?response_type=code&client_id={CLIENT_ID}&code_challenge={code_challenge}\"\n",
    "    print(f\"Authorise your application by clicking here: {url}\\n\")\n",
    "    print(\n",
    "        f\"After pressing 'Allow', it's okay if the page fails to open, you just\"\n",
    "        \" need to copy the URL that it tries to redirect you to\\n\"\n",
    "    )\n",
    "\n",
    "\n",
    "# 3. Once you've authorised your application, you will be redirected to the webpage you've\n",
    "#    specified in the API panel. The URL will contain a parameter named \"code\" (the Authorisation\n",
    "#    Code). You need to feed that code to the application.\n",
    "def generate_new_token(authorisation_code: str, code_verifier: str) -> dict:\n",
    "    global CLIENT_ID, CLIENT_SECRET\n",
    "\n",
    "    url = \"https://myanimelist.net/v1/oauth2/token\"\n",
    "    data = {\n",
    "        \"client_id\": CLIENT_ID,\n",
    "        \"client_secret\": CLIENT_SECRET,\n",
    "        \"code\": authorisation_code,\n",
    "        \"code_verifier\": code_verifier,\n",
    "        \"grant_type\": \"authorization_code\",\n",
    "    }\n",
    "\n",
    "    response = requests.post(url, data)\n",
    "    response.raise_for_status()  # Check whether the requests contains errors\n",
    "\n",
    "    token = response.json()\n",
    "    response.close()\n",
    "    print(\"Token generated successfully!\")\n",
    "\n",
    "    with open(token_fn, \"w\") as file:\n",
    "        json.dump(token, file, indent=4)\n",
    "        print(f\"Token saved in {token_fn}\")\n",
    "\n",
    "    return token\n",
    "\n",
    "\n",
    "# 4. Test the API by requesting your profile information\n",
    "def print_user_info(access_token: str):\n",
    "    url = \"https://api.myanimelist.net/v2/users/@me\"\n",
    "    response = requests.get(url, headers={\"Authorization\": f\"Bearer {access_token}\"})\n",
    "\n",
    "    response.raise_for_status()\n",
    "    user = response.json()\n",
    "    response.close()\n",
    "\n",
    "    print(f\"\\n>>> Greetings {user['name']}! <<<\")"
   ]
  },
  {
   "cell_type": "code",
   "execution_count": null,
   "metadata": {},
   "outputs": [],
   "source": [
    "code_verifier = code_challenge = get_new_code_verifier()\n",
    "print_new_authorisation_url(code_challenge)"
   ]
  },
  {
   "cell_type": "code",
   "execution_count": null,
   "metadata": {
    "tags": []
   },
   "outputs": [],
   "source": [
    "authorisation_code = input(\"Copy-paste the Authorisation Code or URL: \").strip()\n",
    "default_url_prefix = \"http://localhost/oauth?code=\"\n",
    "if authorisation_code.startswith(default_url_prefix):\n",
    "    authorisation_code = authorisation_code[len(default_url_prefix) :]\n",
    "token = generate_new_token(authorisation_code, code_verifier)"
   ]
  },
  {
   "cell_type": "code",
   "execution_count": null,
   "metadata": {},
   "outputs": [],
   "source": [
    "print_user_info(token[\"access_token\"])"
   ]
  }
 ],
 "metadata": {
  "kernelspec": {
   "display_name": "Python 3 (ipykernel)",
   "language": "python",
   "name": "python3"
  },
  "language_info": {
   "codemirror_mode": {
    "name": "ipython",
    "version": 3
   },
   "file_extension": ".py",
   "mimetype": "text/x-python",
   "name": "python",
   "nbconvert_exporter": "python",
   "pygments_lexer": "ipython3",
   "version": "3.10.4"
  }
 },
 "nbformat": 4,
 "nbformat_minor": 4
}
