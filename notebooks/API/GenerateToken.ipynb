{
 "cells": [
  {
   "cell_type": "markdown",
   "metadata": {},
   "source": [
    "# Steps to getting an Authorization Token\n",
    "1. Register a web application on MyAnimeList as described in https://myanimelist.net/blog.php?eid=835707\n",
    "2. Store your MyAnimeList Client ID and Client Secret in the files `data/mal_authentication/clientid.txt` and `data/mal_authentication/clientsecret.txt`\n",
    "3. run the notebook"
   ]
  },
  {
   "cell_type": "code",
   "execution_count": 1,
   "metadata": {},
   "outputs": [],
   "source": [
    "import json\n",
    "import os\n",
    "import secrets\n",
    "\n",
    "import requests\n",
    "\n",
    "os.chdir(\"../../data/mal_authentication\")\n",
    "with open(\"clientid.txt\") as f:\n",
    "    CLIENT_ID = f.read().strip()\n",
    "with open(\"clientsecret.txt\") as f:\n",
    "    CLIENT_SECRET = f.read().strip()\n",
    "\n",
    "# 1. Generate a new Code Verifier / Code Challenge.\n",
    "def get_new_code_verifier() -> str:\n",
    "    token = secrets.token_urlsafe(100)\n",
    "    return token[:128]\n",
    "\n",
    "\n",
    "# 2. Print the URL needed to authorise your application.\n",
    "def print_new_authorisation_url(code_challenge: str):\n",
    "    global CLIENT_ID\n",
    "\n",
    "    url = f\"https://myanimelist.net/v1/oauth2/authorize?response_type=code&client_id={CLIENT_ID}&code_challenge={code_challenge}\"\n",
    "    print(f\"Authorise your application by clicking here: {url}\\n\")\n",
    "    print(\n",
    "        f\"After pressing 'Allow', it's okay if the page fails to open, you just\"\n",
    "        \" need to copy the URL that it tries to redirect you to\\n\"\n",
    "    )\n",
    "\n",
    "\n",
    "# 3. Once you've authorised your application, you will be redirected to the webpage you've\n",
    "#    specified in the API panel. The URL will contain a parameter named \"code\" (the Authorisation\n",
    "#    Code). You need to feed that code to the application.\n",
    "def generate_new_token(authorisation_code: str, code_verifier: str) -> dict:\n",
    "    global CLIENT_ID, CLIENT_SECRET\n",
    "\n",
    "    url = \"https://myanimelist.net/v1/oauth2/token\"\n",
    "    data = {\n",
    "        \"client_id\": CLIENT_ID,\n",
    "        \"client_secret\": CLIENT_SECRET,\n",
    "        \"code\": authorisation_code,\n",
    "        \"code_verifier\": code_verifier,\n",
    "        \"grant_type\": \"authorization_code\",\n",
    "    }\n",
    "\n",
    "    response = requests.post(url, data)\n",
    "    response.raise_for_status()  # Check whether the requests contains errors\n",
    "\n",
    "    token = response.json()\n",
    "    response.close()\n",
    "    print(\"Token generated successfully!\")\n",
    "\n",
    "    with open(\"token.json\", \"w\") as file:\n",
    "        json.dump(token, file, indent=4)\n",
    "        print('Token saved in \"token.json\"')\n",
    "\n",
    "    return token\n",
    "\n",
    "\n",
    "# 4. Test the API by requesting your profile information\n",
    "def print_user_info(access_token: str):\n",
    "    url = \"https://api.myanimelist.net/v2/users/@me\"\n",
    "    response = requests.get(url, headers={\"Authorization\": f\"Bearer {access_token}\"})\n",
    "\n",
    "    response.raise_for_status()\n",
    "    user = response.json()\n",
    "    response.close()\n",
    "\n",
    "    print(f\"\\n>>> Greetings {user['name']}! <<<\")"
   ]
  },
  {
   "cell_type": "code",
   "execution_count": 2,
   "metadata": {},
   "outputs": [
    {
     "name": "stdout",
     "output_type": "stream",
     "text": [
      "Authorise your application by clicking here: https://myanimelist.net/v1/oauth2/authorize?response_type=code&client_id=2c833385ced9d77b887078684b405fbd&code_challenge=bP99zJBM8S45vHXwouctDZ4anip87E6pCXnikSe2scr3-Doy99p-VGSmA415VNgXOT-KvxkAK5npajmCie_BntupD_fnGN_MFD-sNLfVgBYkOZKuSXl_UiQX6y_PMRO0\n",
      "\n",
      "After pressing 'Allow', it's okay if the page fails to open, you just need to copy the URL that it tries to redirect you to\n",
      "\n"
     ]
    }
   ],
   "source": [
    "code_verifier = code_challenge = get_new_code_verifier()\n",
    "print_new_authorisation_url(code_challenge)"
   ]
  },
  {
   "cell_type": "code",
   "execution_count": 3,
   "metadata": {
    "tags": []
   },
   "outputs": [
    {
     "name": "stdin",
     "output_type": "stream",
     "text": [
      "Copy-paste the Authorisation Code or URL:  http://localhost/oauth?code=def502008182218f5fa0481eb2c4861bc2e7f053ea4b01c2bd9495080c36f777c9bfcd4fd0d305a43177e8062831a4f28bb5480f73cbfd52da954f8693f28ce1e21c7ac8f6b309f24be65feeca522cfb56418e18023880122cbd07b6df1b11cefd364693ac788243c8f1204764270d62fba8372898a853c8d7204b9558ca3eccfdc62aef2aea1e2e73c7a1aec0f82c96beaaf93368a16b43fa95d31e90778fa5da3cbd56bf9e6e60a79bcf6c0028c1034368dd3af6c533098277221811564aae8e7e04508c695d1264bda3578c46fb95867f88828d39d4cd91bc2a4138814a3ff1926df23fc55117e1043b464421f1897b507e132c9afe2b34395d901bc4e25a9bc81349cd3c9118727ccd9e3e74fd3a1fe4264430727ca41bd9884b428193e45fe00954e72600442370467a489eacffddd6f69d75c7b44d5cbacf69b746fb30ceff0814b53612038f60f90c01d08a0b1e6cc622166c4685ed50cba31bef110128a7201c9b899401a55c1c5ae36c066dbac40b455e0e3933ddc4cd9054567c8ab231c9b0c4b1c4a743966c14dd1d80effaa6ddaa7498e47ee7622b2edde7f8e61206cda8b980e1a434c4f8baa9215d5f2c8aceedfbf7603ea42aed532a5122170548fa00280151c06f4f51bcd7cae89e7eac662537bb15d45fddf593ca583ccce4ac403da3a5f72d09\n"
     ]
    },
    {
     "name": "stdout",
     "output_type": "stream",
     "text": [
      "Token generated successfully!\n",
      "Token saved in \"token.json\"\n"
     ]
    }
   ],
   "source": [
    "authorisation_code = input(\"Copy-paste the Authorisation Code or URL: \").strip()\n",
    "default_url_prefix = \"http://localhost/oauth?code=\"\n",
    "if authorisation_code.startswith(default_url_prefix):\n",
    "    authorisation_code = authorisation_code[len(default_url_prefix) :]\n",
    "token = generate_new_token(authorisation_code, code_verifier)"
   ]
  },
  {
   "cell_type": "code",
   "execution_count": 6,
   "metadata": {},
   "outputs": [
    {
     "name": "stdout",
     "output_type": "stream",
     "text": [
      "\n",
      ">>> Greetings Fro116! <<<\n"
     ]
    }
   ],
   "source": [
    "print_user_info(token['access_token'])"
   ]
  },
  {
   "cell_type": "code",
   "execution_count": null,
   "metadata": {},
   "outputs": [],
   "source": []
  }
 ],
 "metadata": {
  "kernelspec": {
   "display_name": "Python 3",
   "language": "python",
   "name": "python3"
  },
  "language_info": {
   "codemirror_mode": {
    "name": "ipython",
    "version": 3
   },
   "file_extension": ".py",
   "mimetype": "text/x-python",
   "name": "python",
   "nbconvert_exporter": "python",
   "pygments_lexer": "ipython3",
   "version": "3.8.5"
  }
 },
 "nbformat": 4,
 "nbformat_minor": 4
}
