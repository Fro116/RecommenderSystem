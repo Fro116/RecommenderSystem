{
 "cells": [
  {
   "cell_type": "markdown",
   "metadata": {},
   "source": [
    "# Steps to getting an Authorization Token\n",
    "1. Register a web application on MyAnimeList as described in https://myanimelist.net/blog.php?eid=835707\n",
    "2. Store your MyAnimeList Client ID and Client Secret in the files `data/mal_authentication/clientid.txt` and `data/mal_authentication/clientsecret.txt`\n",
    "3. run the notebook"
   ]
  },
  {
   "cell_type": "code",
   "execution_count": 1,
   "metadata": {},
   "outputs": [],
   "source": [
    "import json\n",
    "import os\n",
    "import secrets\n",
    "\n",
    "import requests\n",
    "\n",
    "os.chdir(\"../../data/mal_authentication\")\n",
    "with open(\"clientid.txt\") as f:\n",
    "    CLIENT_ID = f.read().strip()\n",
    "with open(\"clientsecret.txt\") as f:\n",
    "    CLIENT_SECRET = f.read().strip()\n",
    "\n",
    "# 1. Generate a new Code Verifier / Code Challenge.\n",
    "def get_new_code_verifier() -> str:\n",
    "    token = secrets.token_urlsafe(100)\n",
    "    return token[:128]\n",
    "\n",
    "\n",
    "# 2. Print the URL needed to authorise your application.\n",
    "def print_new_authorisation_url(code_challenge: str):\n",
    "    global CLIENT_ID\n",
    "\n",
    "    url = f\"https://myanimelist.net/v1/oauth2/authorize?response_type=code&client_id={CLIENT_ID}&code_challenge={code_challenge}\"\n",
    "    print(f\"Authorise your application by clicking here: {url}\\n\")\n",
    "    print(\n",
    "        f\"After pressing 'Allow', it's okay if the page fails to open, you just\"\n",
    "        \" need to copy the URL that it tries to redirect you to\\n\"\n",
    "    )\n",
    "\n",
    "\n",
    "# 3. Once you've authorised your application, you will be redirected to the webpage you've\n",
    "#    specified in the API panel. The URL will contain a parameter named \"code\" (the Authorisation\n",
    "#    Code). You need to feed that code to the application.\n",
    "def generate_new_token(authorisation_code: str, code_verifier: str) -> dict:\n",
    "    global CLIENT_ID, CLIENT_SECRET\n",
    "\n",
    "    url = \"https://myanimelist.net/v1/oauth2/token\"\n",
    "    data = {\n",
    "        \"client_id\": CLIENT_ID,\n",
    "        \"client_secret\": CLIENT_SECRET,\n",
    "        \"code\": authorisation_code,\n",
    "        \"code_verifier\": code_verifier,\n",
    "        \"grant_type\": \"authorization_code\",\n",
    "    }\n",
    "\n",
    "    response = requests.post(url, data)\n",
    "    response.raise_for_status()  # Check whether the requests contains errors\n",
    "\n",
    "    token = response.json()\n",
    "    response.close()\n",
    "    print(\"Token generated successfully!\")\n",
    "\n",
    "    with open(\"token.json\", \"w\") as file:\n",
    "        json.dump(token, file, indent=4)\n",
    "        print('Token saved in \"token.json\"')\n",
    "\n",
    "    return token\n",
    "\n",
    "\n",
    "# 4. Test the API by requesting your profile information\n",
    "def print_user_info(access_token: str):\n",
    "    url = \"https://api.myanimelist.net/v2/users/@me\"\n",
    "    response = requests.get(url, headers={\"Authorization\": f\"Bearer {access_token}\"})\n",
    "\n",
    "    response.raise_for_status()\n",
    "    user = response.json()\n",
    "    response.close()\n",
    "\n",
    "    print(f\"\\n>>> Greetings {user['name']}! <<<\")"
   ]
  },
  {
   "cell_type": "code",
   "execution_count": 2,
   "metadata": {},
   "outputs": [
    {
     "name": "stdout",
     "output_type": "stream",
     "text": [
      "Authorise your application by clicking here: https://myanimelist.net/v1/oauth2/authorize?response_type=code&client_id=2c833385ced9d77b887078684b405fbd&code_challenge=GNFAgwRkr13g-UlPHVZY42i-I9CzqmCnTB4TKECyIWD4W8XYmWT-8VzyxJQ13VN3JzJfolFBhttB7iUME8TUwKg39QdvNowF6j-NkJkDMb24jv9dvXOK7OyNKZ4QzDQQ\n",
      "\n",
      "After pressing 'Allow', it's okay if the page fails to open, you just need to copy the URL that it tries to redirect you to\n",
      "\n"
     ]
    }
   ],
   "source": [
    "code_verifier = code_challenge = get_new_code_verifier()\n",
    "print_new_authorisation_url(code_challenge)"
   ]
  },
  {
   "cell_type": "code",
   "execution_count": 3,
   "metadata": {
    "tags": []
   },
   "outputs": [
    {
     "name": "stdin",
     "output_type": "stream",
     "text": [
      "Copy-paste the Authorisation Code or URL:  http://localhost/oauth?code=def50200c7c65f6f7c933dd28383b3a15ba52a69757f9012ed8efe9d46af9faf1090521813d306962eb1cef87ca005a7fda99ae4083782505c834d40bce615401c94417cae88d6c48b833e8cf1850a2a7dfb4f903a9af92c012a3bf2ba07d172ebb6838473bad3cfa056f668a673413b9ced4014880e789702027b83a8fba7b20989660661efd92e96d1f0ed01abc154bf5440cd8e1e5ae97bff03e65fbba279119559992d49f6476e3ad7838ddd1d9da999b581fab6744fd8f41b3dc939c22e717963f22c987735a4b21b5c7285d21f3887559b4826351dd866a504ff78216eece2a0774f10e1e64f4ee86f79d2db6556ad96b4c3defb4405b33e4cddf8c464fb796cc0f1ee35fc4fee713020c1a1f27e5e8eac49a27a15e0ed7452c833a3cd94de1bd99e849d3f1c8f4d6d83fc0658a4da7d69dee81054d2d4c5b6c40f2070c4a2b08021f02fbf34017922ffcfa5fd575e5458a4b15c2f243f8074042c4230d3cc2791d570a0234f8407d6080576e1e22f86d59ed34369990451e9f5e99668ba70af47a3a444398f7b17d6efbe723712f6e317220c8b39c6b0405b356c13a3b820729ce90b31f7b6461aba948b581c3d498c8febc510c087dab4b465a710904050fb97c824461025fc7a16fadfbbfc10b1bddde3aa9118328d6da3e0100e17eac534826147768390\n"
     ]
    },
    {
     "name": "stdout",
     "output_type": "stream",
     "text": [
      "Token generated successfully!\n",
      "Token saved in \"token.json\"\n"
     ]
    }
   ],
   "source": [
    "authorisation_code = input(\"Copy-paste the Authorisation Code or URL: \").strip()\n",
    "default_url_prefix = \"http://localhost/oauth?code=\"\n",
    "if authorisation_code.startswith(default_url_prefix):\n",
    "    authorisation_code = authorisation_code[len(default_url_prefix) :]\n",
    "token = generate_new_token(authorisation_code, code_verifier)"
   ]
  },
  {
   "cell_type": "code",
   "execution_count": 4,
   "metadata": {},
   "outputs": [
    {
     "name": "stdout",
     "output_type": "stream",
     "text": [
      "\n",
      ">>> Greetings Fro116! <<<\n"
     ]
    }
   ],
   "source": [
    "print_user_info(token['access_token'])"
   ]
  },
  {
   "cell_type": "code",
   "execution_count": null,
   "metadata": {},
   "outputs": [],
   "source": []
  }
 ],
 "metadata": {
  "kernelspec": {
   "display_name": "Python 3",
   "language": "python",
   "name": "python3"
  },
  "language_info": {
   "codemirror_mode": {
    "name": "ipython",
    "version": 3
   },
   "file_extension": ".py",
   "mimetype": "text/x-python",
   "name": "python",
   "nbconvert_exporter": "python",
   "pygments_lexer": "ipython3",
   "version": "3.8.8"
  }
 },
 "nbformat": 4,
 "nbformat_minor": 4
}
