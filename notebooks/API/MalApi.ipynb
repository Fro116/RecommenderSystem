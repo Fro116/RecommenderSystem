{
 "cells": [
  {
   "cell_type": "code",
   "execution_count": null,
   "id": "8f07307b-41ff-40b9-b69e-740f6c6686b8",
   "metadata": {},
   "outputs": [],
   "source": [
    "import json\n",
    "import os\n",
    "import sys\n",
    "\n",
    "import requests\n",
    "from ratelimit import limits, sleep_and_retry"
   ]
  },
  {
   "cell_type": "markdown",
   "id": "9f194eed-3a39-4ce0-ae8b-b7eaed808340",
   "metadata": {},
   "source": [
    "## Parse MAL API"
   ]
  },
  {
   "cell_type": "code",
   "execution_count": null,
   "id": "0146af3c-569e-41aa-a3af-dbe725e1c42c",
   "metadata": {},
   "outputs": [],
   "source": [
    "mal_access_token = json.load(open(\"../../data/mal/mal_authentication/token.json\", \"r\"))"
   ]
  },
  {
   "cell_type": "code",
   "execution_count": null,
   "id": "b1feccda-5158-4a8c-83ae-698fc5d296f7",
   "metadata": {},
   "outputs": [],
   "source": [
    "@sleep_and_retry\n",
    "@limits(calls=1, period=1)\n",
    "def call_api(url, retry_timeout=1, max_timeout=100):\n",
    "    try:\n",
    "        response = requests.get(\n",
    "            url, headers={\"Authorization\": f'Bearer {mal_access_token[\"access_token\"]}'}\n",
    "        )\n",
    "        if response.status_code in [500, 502, 504, 429, 409] and retry_timeout < max_timeout:\n",
    "            # This can occur if MAL servers go down or if the page doesnt exist\n",
    "            raise Exception(f\"{response.status_code}\")\n",
    "        if response.status_code in [401]:\n",
    "            logger.error(\"Authentication token expired\")\n",
    "            sys.exit(1)\n",
    "    except Exception as e:\n",
    "        logger.warning(\n",
    "            f\"Received error {str(e)} while accessing {url}. Retrying in {retry_timeout} seconds\"\n",
    "        )\n",
    "        time.sleep(retry_timeout)\n",
    "        retry_timeout = retry_timeout * 2\n",
    "        return call_api(url, retry_timeout)\n",
    "    return response"
   ]
  },
  {
   "cell_type": "code",
   "execution_count": null,
   "id": "39aaa6d9-4deb-470a-8b68-89d878741da7",
   "metadata": {},
   "outputs": [],
   "source": [
    "def parse_json_node(x):\n",
    "    ls = x[\"list_status\"]\n",
    "    entry = pd.DataFrame.from_dict(\n",
    "        {\n",
    "            \"uid\": [x[\"node\"][\"id\"]],\n",
    "            \"status\": [ls.get(\"status\", \"\")],\n",
    "            \"score\": [ls.get(\"score\", -1)],\n",
    "            \"num_episodes_watched\": [ls.get(\"num_episodes_watched\", -1)],\n",
    "            \"is_rewatching\": [ls.get(\"is_rewatching\", False)],\n",
    "            \"start_date\": [ls.get(\"start_date\", \"\")],\n",
    "            \"finish_date\": [ls.get(\"finish_date\", \"\")],\n",
    "            \"priority\": [ls.get(\"priority\", -1)],\n",
    "            \"num_times_rewatched\": [ls.get(\"num_times_rewatched\", -1)],\n",
    "            \"rewatch_value\": [ls.get(\"rewatch_value\", -1)],\n",
    "            \"updated_at\": [ls.get(\"updated_at\", \"\")],\n",
    "        }\n",
    "    )\n",
    "    return entry\n",
    "\n",
    "\n",
    "def process_json(json):\n",
    "    entries = [parse_json_node(x) for x in json[\"data\"]]\n",
    "    if entries:\n",
    "        return pd.concat(entries, ignore_index=True)\n",
    "    else:\n",
    "        return pd.DataFrame.from_dict(\n",
    "            {\n",
    "                \"uid\": [],\n",
    "                \"status\": [],\n",
    "                \"score\": [],\n",
    "                \"num_episodes_watched\": [],\n",
    "                \"is_rewatching\": [],\n",
    "                \"start_date\": [],\n",
    "                \"finish_date\": [],\n",
    "                \"priority\": [],\n",
    "                \"num_times_rewatched\": [],\n",
    "                \"rewatch_value\": [],\n",
    "                \"updated_at\": [],\n",
    "            }\n",
    "        )\n",
    "\n",
    "\n",
    "def get_user_anime_list(username):\n",
    "    anime_lists = []\n",
    "    more_pages = True\n",
    "    url = f\"https://api.myanimelist.net/v2/users/{username}/animelist?limit=1000&fields=list_status&nsfw=true\"\n",
    "    while more_pages:\n",
    "        response = call_api(url)\n",
    "        if response.status_code in [403, 404]:\n",
    "            # 403: This can occur if the user has privated their list\n",
    "            # 404: This can occur if the user deleted their account\n",
    "            return pd.DataFrame(), False\n",
    "        if not response.ok:\n",
    "            logger.warning(f\"Error {response} received when handling {url}\")\n",
    "            return pd.DataFrame(), False\n",
    "\n",
    "        json = response.json()\n",
    "        anime_lists.append(process_json(json))\n",
    "        more_pages = \"next\" in json[\"paging\"]\n",
    "        if more_pages:\n",
    "            url = json[\"paging\"][\"next\"]\n",
    "    user_anime_list = pd.concat(anime_lists, ignore_index=True)\n",
    "    user_anime_list[\"username\"] = username\n",
    "    return user_anime_list, True"
   ]
  }
 ],
 "metadata": {
  "kernelspec": {
   "display_name": "Python 3 (ipykernel)",
   "language": "python",
   "name": "python3"
  },
  "language_info": {
   "codemirror_mode": {
    "name": "ipython",
    "version": 3
   },
   "file_extension": ".py",
   "mimetype": "text/x-python",
   "name": "python",
   "nbconvert_exporter": "python",
   "pygments_lexer": "ipython3",
   "version": "3.10.6"
  }
 },
 "nbformat": 4,
 "nbformat_minor": 5
}
