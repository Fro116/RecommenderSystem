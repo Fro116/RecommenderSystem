{
 "cells": [
  {
   "cell_type": "markdown",
   "metadata": {},
   "source": [
    "# Generating a list of MAL users\n",
    "* We start with a list of starting usernames, which can either be stored in `data/mal/user_facts/queue.txt` or specified in the notebook\n",
    "* Then, we do a breadth-first search of their friends until the friend graph is spanned\n",
    "* You can terminate or restart the notebook at any point without losing progress. All users found so far will be stored at `data/mal/user_facts/usernames.txt` \n",
    "* This notebook will run indefinitely. You must manually terminate once an acceptable number of users have been found"
   ]
  },
  {
   "cell_type": "code",
   "execution_count": 1,
   "metadata": {},
   "outputs": [],
   "source": [
    "import contextlib\n",
    "import logging\n",
    "import os\n",
    "import re\n",
    "import time\n",
    "\n",
    "import numpy as np\n",
    "import pandas as pd\n",
    "import requests\n",
    "from ratelimit import limits, sleep_and_retry\n",
    "from tqdm import tqdm"
   ]
  },
  {
   "cell_type": "code",
   "execution_count": 2,
   "metadata": {},
   "outputs": [],
   "source": [
    "data_path = \"../../data/mal/user_facts\"\n",
    "if not os.path.exists(data_path):\n",
    "    os.mkdir(data_path)\n",
    "os.chdir(data_path)"
   ]
  },
  {
   "cell_type": "code",
   "execution_count": 3,
   "metadata": {},
   "outputs": [],
   "source": [
    "logger = logging.getLogger(\"GetUsers\")\n",
    "logger.setLevel(logging.DEBUG)\n",
    "formatter = logging.Formatter(\n",
    "    \"%(name)s:%(levelname)s:%(asctime)s: %(message)s\", datefmt=\"%Y-%m-%d %H:%M:%S\"\n",
    ")\n",
    "for stream in [logging.FileHandler(\"get_users.log\"), logging.StreamHandler()]:\n",
    "    stream.setFormatter(formatter)\n",
    "    logger.addHandler(stream)"
   ]
  },
  {
   "cell_type": "code",
   "execution_count": 4,
   "metadata": {},
   "outputs": [
    {
     "name": "stderr",
     "output_type": "stream",
     "text": [
      "GetUsers:INFO:2021-11-06 21:10:26: Starting with 309365 users in queue and 57902 processed users for a total of 367267 users!\n"
     ]
    }
   ],
   "source": [
    "# reasonable defaults if this is the first time running the notebook\n",
    "queue = [\"Fro116\"]\n",
    "usernames = set()\n",
    "closed_nodes = set()\n",
    "shuffle_on_rerun = True\n",
    "\n",
    "# if we rerunning the notebook, then resume execution where we last left off\n",
    "if os.path.exists(\"queue.txt\"):\n",
    "    with open(\"queue.txt\") as f:\n",
    "        queue = [x.strip() for x in f.readlines() if x.strip()]\n",
    "if os.path.exists(\"usernames.txt\"):\n",
    "    with open(\"usernames.txt\") as f:\n",
    "        usernames = {x.strip() for x in f.readlines() if x.strip()}\n",
    "if os.path.exists(\"closed_nodes.txt\"):\n",
    "    with open(\"closed_nodes.txt\") as f:\n",
    "        closed_nodes = {x.strip() for x in f.readlines() if x.strip()}\n",
    "# handle the case where the notebook crashes mid-save\n",
    "queue = [x for x in queue if x not in closed_nodes]\n",
    "queue = queue + list(usernames - closed_nodes - set(queue))\n",
    "usernames |= set(queue)\n",
    "open_nodes = set(queue)\n",
    "if shuffle_on_rerun:\n",
    "    np.random.shuffle(queue)\n",
    "\n",
    "logger.info(\n",
    "    f\"Starting with {len(queue)} users in queue and {len(closed_nodes)} processed \"\n",
    "    f\"users for a total of {len(usernames)} users!\"\n",
    ")"
   ]
  },
  {
   "cell_type": "code",
   "execution_count": 5,
   "metadata": {},
   "outputs": [],
   "source": [
    "# apply rate limiting with exponential backoff for unexpected errors\n",
    "@sleep_and_retry\n",
    "@limits(calls=1, period=3)\n",
    "def call_api(url, retry_timeout=1):\n",
    "    try:\n",
    "        response = requests.get(url)\n",
    "        if response.status_code in [403, 429, 500, 503]:\n",
    "            # This can occur if MAL servers go down\n",
    "            raise Exception(f\"{response.status_code}\")\n",
    "    except Exception as e:\n",
    "        logger.warning(\n",
    "            f\"Received error {str(e)} while accessing {url}. Retrying in {timeout} seconds\"\n",
    "        )\n",
    "        time.sleep(retry_timeout)\n",
    "        retry_timeout = min(retry_timeout * 2, 3600)\n",
    "        return call_api(url, retry_timeout)\n",
    "    return response"
   ]
  },
  {
   "cell_type": "code",
   "execution_count": 6,
   "metadata": {},
   "outputs": [],
   "source": [
    "def get_friends(username):\n",
    "    url = f\"https://myanimelist.net/profile/{username}/friends\"\n",
    "    response = call_api(url)\n",
    "    if not response.ok:\n",
    "        logger.warning(f\"Error {response} received when handling {url}\")\n",
    "        return set()\n",
    "    friend_urls = re.findall(\n",
    "        '''https://myanimelist.net/profile/[^\"/#]+\"''', response.text\n",
    "    )\n",
    "    return {x[len(\"https://myanimelist.net/profile/\") : -len('\"')] for x in friend_urls}"
   ]
  },
  {
   "cell_type": "code",
   "execution_count": 7,
   "metadata": {},
   "outputs": [],
   "source": [
    "@contextlib.contextmanager\n",
    "def atomic_overwrite(filename):\n",
    "    temp = filename + \"~\"\n",
    "    with open(temp, \"w\") as f:\n",
    "        yield f\n",
    "    os.replace(temp, filename)  # this will only happen if no exception was raised\n",
    "\n",
    "\n",
    "def atomic_to_csv(collection, filename):\n",
    "    with atomic_overwrite(filename) as f:\n",
    "        pd.Series(collection).to_csv(f, header=False, index=False)"
   ]
  },
  {
   "cell_type": "code",
   "execution_count": null,
   "metadata": {
    "tags": []
   },
   "outputs": [
    {
     "name": "stderr",
     "output_type": "stream",
     "text": [
      "0it [00:00, ?it/s]GetUsers:INFO:2021-11-06 21:10:28: Successfully wrote 309365 users in queue and 57903 processed users for a total of 367268 users!\n",
      "GetUsers:INFO:2021-11-06 21:10:28: Will next write data after 2 iterations\n",
      "2it [00:03,  1.82s/it]GetUsers:INFO:2021-11-06 21:10:34: Successfully wrote 309371 users in queue and 57905 processed users for a total of 367276 users!\n",
      "GetUsers:INFO:2021-11-06 21:10:34: Will next write data after 4 iterations\n",
      "6it [00:15,  2.84s/it]GetUsers:INFO:2021-11-06 21:10:46: Successfully wrote 309374 users in queue and 57909 processed users for a total of 367283 users!\n",
      "GetUsers:INFO:2021-11-06 21:10:46: Will next write data after 8 iterations\n",
      "14it [00:39,  2.91s/it]GetUsers:INFO:2021-11-06 21:11:10: Successfully wrote 309394 users in queue and 57917 processed users for a total of 367311 users!\n",
      "GetUsers:INFO:2021-11-06 21:11:10: Will next write data after 16 iterations\n",
      "30it [01:27,  3.02s/it]GetUsers:INFO:2021-11-06 21:11:58: Successfully wrote 309426 users in queue and 57933 processed users for a total of 367359 users!\n",
      "GetUsers:INFO:2021-11-06 21:11:58: Will next write data after 32 iterations\n",
      "62it [03:03,  2.98s/it]GetUsers:INFO:2021-11-06 21:13:34: Successfully wrote 309452 users in queue and 57965 processed users for a total of 367417 users!\n",
      "GetUsers:INFO:2021-11-06 21:13:34: Will next write data after 64 iterations\n",
      "126it [06:15,  2.97s/it]GetUsers:INFO:2021-11-06 21:16:46: Successfully wrote 309540 users in queue and 58029 processed users for a total of 367569 users!\n",
      "GetUsers:INFO:2021-11-06 21:16:46: Will next write data after 128 iterations\n",
      "254it [12:40,  3.01s/it]GetUsers:INFO:2021-11-06 21:23:10: Successfully wrote 309809 users in queue and 58157 processed users for a total of 367966 users!\n",
      "GetUsers:INFO:2021-11-06 21:23:10: Will next write data after 256 iterations\n",
      "510it [25:28,  3.04s/it]GetUsers:INFO:2021-11-06 21:35:59: Successfully wrote 310118 users in queue and 58413 processed users for a total of 368531 users!\n",
      "GetUsers:INFO:2021-11-06 21:35:59: Will next write data after 512 iterations\n",
      "1022it [51:05,  2.99s/it]GetUsers:INFO:2021-11-06 22:01:36: Successfully wrote 310825 users in queue and 58925 processed users for a total of 369750 users!\n",
      "GetUsers:INFO:2021-11-06 22:01:36: Will next write data after 1024 iterations\n",
      "1449it [1:12:27,  3.02s/it]"
     ]
    }
   ],
   "source": [
    "# we use a generator for profiling with tqdm\n",
    "def generator(queue):\n",
    "    while queue:\n",
    "        yield\n",
    "\n",
    "\n",
    "iterations_until_next_write = 1\n",
    "iterations_since_last_write = 0\n",
    "for _ in tqdm(generator(queue)):\n",
    "    username = queue[0]\n",
    "    queue = queue[1:]\n",
    "    friends = get_friends(username)\n",
    "\n",
    "    usernames |= friends\n",
    "    new_friends = [x for x in friends if x not in closed_nodes and x not in open_nodes]\n",
    "    queue = queue + new_friends\n",
    "    open_nodes |= set(new_friends)\n",
    "    open_nodes.remove(username)\n",
    "    closed_nodes.add(username)\n",
    "\n",
    "    # snapshot hourly to amortize the cost of the disk I/O\n",
    "    iterations_since_last_write += 1\n",
    "    if iterations_since_last_write >= iterations_until_next_write:\n",
    "        iterations_since_last_write = 0\n",
    "        iterations_until_next_write = min(2 * iterations_until_next_write, 1200)\n",
    "\n",
    "        atomic_to_csv(sorted(list(usernames)), \"usernames.txt\")\n",
    "        atomic_to_csv(sorted(list(closed_nodes)), \"closed_nodes.txt\")\n",
    "        atomic_to_csv(queue, \"queue.txt\")\n",
    "        logger.info(\n",
    "            f\"Successfully wrote {len(queue)} users in queue and {len(closed_nodes)} \"\n",
    "            f\"processed users for a total of {len(usernames)} users!\"\n",
    "        )\n",
    "        logger.info(\n",
    "            f\"Will next write data after {iterations_until_next_write} iterations\"\n",
    "        )"
   ]
  }
 ],
 "metadata": {
  "kernelspec": {
   "display_name": "Python 3 (ipykernel)",
   "language": "python",
   "name": "python3"
  },
  "language_info": {
   "codemirror_mode": {
    "name": "ipython",
    "version": 3
   },
   "file_extension": ".py",
   "mimetype": "text/x-python",
   "name": "python",
   "nbconvert_exporter": "python",
   "pygments_lexer": "ipython3",
   "version": "3.8.10"
  }
 },
 "nbformat": 4,
 "nbformat_minor": 4
}
