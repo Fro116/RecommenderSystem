{
 "cells": [
  {
   "cell_type": "markdown",
   "metadata": {},
   "source": [
    "# Generating a list of MAL users\n",
    "* We start with a list of starting usernames, which can either be stored in `data/mal/user_facts/queue.txt` or specified in the notebook\n",
    "* Then, we do a bread-first search of their friends until the friend graph is spanned\n",
    "* You can terminate or restart the notebook at any point without losing progress. All users found so far will be stored at `data/mal/user_facts/usernames.txt` \n",
    "* This notebook may take a long time to finish. Feel free to manually terminate once an acceptable number of users have been found"
   ]
  },
  {
   "cell_type": "code",
   "execution_count": 1,
   "metadata": {},
   "outputs": [],
   "source": [
    "import os\n",
    "import time\n",
    "\n",
    "import pandas as pd\n",
    "import requests\n",
    "from ratelimit import limits, sleep_and_retry\n",
    "from tqdm import tqdm"
   ]
  },
  {
   "cell_type": "code",
   "execution_count": 2,
   "metadata": {},
   "outputs": [],
   "source": [
    "data_path = \"../../data/mal/user_facts\"\n",
    "if not os.path.exists(data_path):\n",
    "    os.mkdir(data_path)\n",
    "os.chdir(data_path)"
   ]
  },
  {
   "cell_type": "code",
   "execution_count": 3,
   "metadata": {},
   "outputs": [
    {
     "name": "stdout",
     "output_type": "stream",
     "text": [
      "Starting with 322554 users in queue and 61208 processed users!\n"
     ]
    }
   ],
   "source": [
    "# reasonable defaults if this is the first time running the notebook\n",
    "queue = [\"Fro116\"]\n",
    "usernames = set()\n",
    "closed_nodes = set()\n",
    "\n",
    "# if we rerunning the notebook, then resume execution where we last left off\n",
    "if os.path.exists(\"queue.txt\"):\n",
    "    with open(\"queue.txt\") as f:\n",
    "        queue = [x.strip() for x in f.readlines()]\n",
    "if os.path.exists(\"usernames.txt\"):\n",
    "    with open(\"usernames.txt\") as f:\n",
    "        usernames = {x.strip() for x in f.readlines()}\n",
    "if os.path.exists(\"closed_nodes.txt\"):\n",
    "    with open(\"closed_nodes.txt\") as f:\n",
    "        closed_nodes = {x.strip() for x in f.readlines()}\n",
    "open_nodes = set(queue)\n",
    "\n",
    "print(\n",
    "    f\"Starting with {len(queue)} users in queue and {len(closed_nodes)} processed users!\"\n",
    ")"
   ]
  },
  {
   "cell_type": "code",
   "execution_count": null,
   "metadata": {},
   "outputs": [],
   "source": []
  },
  {
   "cell_type": "code",
   "execution_count": 4,
   "metadata": {},
   "outputs": [],
   "source": [
    "def retry(url, error, timeout):\n",
    "    print(\n",
    "        f\"Received error {error} while accessing {url}. Retrying in {timeout} seconds\"\n",
    "    )\n",
    "    time.sleep(timeout)\n",
    "    return call_api(url)    \n",
    "@sleep_and_retry\n",
    "@limits(calls=1, period=4)\n",
    "def call_api(url):\n",
    "    try:\n",
    "        response = requests.get(url)\n",
    "        if response.status_code == 500:\n",
    "            # This can occur if MAL servers go down\n",
    "            raise Exception(f\"{response.status_code}\")\n",
    "        if response.status_code == 503:\n",
    "            return retry(url, response.status_code, 600)\n",
    "    except Exception as e:\n",
    "        return retry(url, str(e), 600)\n",
    "    return response"
   ]
  },
  {
   "cell_type": "code",
   "execution_count": 5,
   "metadata": {},
   "outputs": [],
   "source": [
    "def get_friends(username):\n",
    "    friends = set()\n",
    "\n",
    "    max_items_per_page = 300  # property of the API\n",
    "    more_pages = True\n",
    "    page = 1\n",
    "    while more_pages:\n",
    "        response = call_api(f\"https://api.jikan.moe/v3/user/{username}/friends/{page}\")\n",
    "        if response.status_code == 404:\n",
    "            # The user has no friends\n",
    "            return friends\n",
    "        if not response.ok:\n",
    "            print(f\"received error {response.status_code} for user {username}\")\n",
    "            return friends\n",
    "        new_friends = {x[\"username\"] for x in response.json()[\"friends\"]}\n",
    "        friends |= new_friends\n",
    "        page += 1\n",
    "        if len(new_friends) < max_items_per_page:\n",
    "            more_pages = False\n",
    "    return friends"
   ]
  },
  {
   "cell_type": "code",
   "execution_count": null,
   "metadata": {
    "tags": []
   },
   "outputs": [
    {
     "name": "stderr",
     "output_type": "stream",
     "text": [
      "10512it [11:43:19,  4.18s/it]"
     ]
    },
    {
     "name": "stdout",
     "output_type": "stream",
     "text": [
      "Recevied error 500 while accessing https://api.jikan.moe/v3/user/Shadow002/friends/1. Retrying in 600 seconds\n"
     ]
    },
    {
     "name": "stderr",
     "output_type": "stream",
     "text": [
      "11098it [12:32:40,  4.05s/it] "
     ]
    }
   ],
   "source": [
    "# we use a generator for profiling with tqdm\n",
    "def generator(queue):\n",
    "    while queue:\n",
    "        yield\n",
    "\n",
    "\n",
    "for _ in tqdm(generator(queue)):\n",
    "    username = queue[0]\n",
    "    queue = queue[1:]\n",
    "    friends = get_friends(username)\n",
    "\n",
    "    usernames |= friends\n",
    "    new_friends = [x for x in friends if x not in closed_nodes and x not in open_nodes]\n",
    "    queue += new_friends\n",
    "    open_nodes |= set(new_friends)\n",
    "    open_nodes.remove(username)\n",
    "    closed_nodes.add(username)\n",
    "\n",
    "    pd.Series(queue).to_csv(\"queue.txt\", header=False, index=False)\n",
    "    pd.Series(sorted(list(usernames))).to_csv(\n",
    "        \"usernames.txt\", header=False, index=False\n",
    "    )\n",
    "    pd.Series(sorted(list(closed_nodes))).to_csv(\n",
    "        \"closed_nodes.txt\", header=False, index=False\n",
    "    )"
   ]
  },
  {
   "cell_type": "code",
   "execution_count": null,
   "metadata": {},
   "outputs": [],
   "source": []
  }
 ],
 "metadata": {
  "kernelspec": {
   "display_name": "Python 3",
   "language": "python",
   "name": "python3"
  },
  "language_info": {
   "codemirror_mode": {
    "name": "ipython",
    "version": 3
   },
   "file_extension": ".py",
   "mimetype": "text/x-python",
   "name": "python",
   "nbconvert_exporter": "python",
   "pygments_lexer": "ipython3",
   "version": "3.8.8"
  }
 },
 "nbformat": 4,
 "nbformat_minor": 4
}
