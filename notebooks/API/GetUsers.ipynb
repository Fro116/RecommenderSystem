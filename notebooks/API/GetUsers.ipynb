{
 "cells": [
  {
   "cell_type": "markdown",
   "metadata": {},
   "source": [
    "# Generating a list of MAL users\n",
    "* We start with a list of starting usernames, which can either be stored in `data/mal/user_facts/queue.txt` or specified in the notebook\n",
    "* Then, we do a breadth-first search of their friends until the friend graph is spanned\n",
    "* You can terminate or restart the notebook at any point without losing progress. All users found so far will be stored at `data/mal/user_facts/usernames.txt` \n",
    "* This notebook will run indefinitely. You must manually terminate once an acceptable number of users have been found"
   ]
  },
  {
   "cell_type": "code",
   "execution_count": 1,
   "metadata": {},
   "outputs": [],
   "source": [
    "import contextlib\n",
    "import os\n",
    "import re\n",
    "import time\n",
    "\n",
    "import numpy as np\n",
    "import pandas as pd\n",
    "import requests\n",
    "from ratelimit import limits, sleep_and_retry\n",
    "from tqdm import tqdm"
   ]
  },
  {
   "cell_type": "code",
   "execution_count": 2,
   "metadata": {},
   "outputs": [],
   "source": [
    "data_path = \"../../data/mal/user_facts\"\n",
    "if not os.path.exists(data_path):\n",
    "    os.mkdir(data_path)\n",
    "os.chdir(data_path)"
   ]
  },
  {
   "cell_type": "code",
   "execution_count": 3,
   "metadata": {},
   "outputs": [
    {
     "name": "stdout",
     "output_type": "stream",
     "text": [
      "Starting with 284279 users in queue and 42701 processed users for a total of 326979 users!\n"
     ]
    }
   ],
   "source": [
    "# reasonable defaults if this is the first time running the notebook\n",
    "queue = [\"Fro116\"]\n",
    "usernames = set()\n",
    "closed_nodes = set()\n",
    "\n",
    "# if we rerunning the notebook, then resume execution where we last left off\n",
    "if os.path.exists(\"queue.txt\"):\n",
    "    with open(\"queue.txt\") as f:\n",
    "        queue = [x.strip() for x in f.readlines() if x.strip()]\n",
    "if os.path.exists(\"usernames.txt\"):\n",
    "    with open(\"usernames.txt\") as f:\n",
    "        usernames = {x.strip() for x in f.readlines() if x.strip()}\n",
    "if os.path.exists(\"closed_nodes.txt\"):\n",
    "    with open(\"closed_nodes.txt\") as f:\n",
    "        closed_nodes = {x.strip() for x in f.readlines() if x.strip()}\n",
    "queue = queue + list(usernames - closed_nodes - set(queue))\n",
    "np.random.shuffle(queue)\n",
    "open_nodes = set(queue)\n",
    "\n",
    "print(\n",
    "    f\"Starting with {len(queue)} users in queue and {len(closed_nodes)} processed users for a total of {len(usernames)} users!\"\n",
    ")"
   ]
  },
  {
   "cell_type": "code",
   "execution_count": 4,
   "metadata": {},
   "outputs": [],
   "source": [
    "@sleep_and_retry\n",
    "@limits(calls=1, period=3)\n",
    "def call_api(url):\n",
    "    try:\n",
    "        response = requests.get(url)\n",
    "        if response.status_code in [403, 429, 500, 503]:\n",
    "            # This can occur if MAL servers go down\n",
    "            raise Exception(f\"{response.status_code}\")\n",
    "    except Exception as e:\n",
    "        timeout = 600\n",
    "        print(\n",
    "            f\"Received error {str(e)} while accessing {url}. Retrying in {timeout} seconds\"\n",
    "        )\n",
    "        time.sleep(timeout)\n",
    "        return call_api(url)\n",
    "    return response"
   ]
  },
  {
   "cell_type": "code",
   "execution_count": 5,
   "metadata": {},
   "outputs": [],
   "source": [
    "def get_friends(username):\n",
    "    url=f\"https://myanimelist.net/profile/{username}/friends\"\n",
    "    response = call_api(url)\n",
    "    if not response.ok:\n",
    "        print(f\"Error {response} received when handling {url}\")\n",
    "        return set()\n",
    "    friend_urls = re.findall(\n",
    "        '''https://myanimelist.net/profile/[^\"/#]+\"''', response.text\n",
    "    )\n",
    "    return {x[len(\"https://myanimelist.net/profile/\") : -len('\"')] for x in friend_urls}"
   ]
  },
  {
   "cell_type": "code",
   "execution_count": 6,
   "metadata": {},
   "outputs": [],
   "source": [
    "@contextlib.contextmanager\n",
    "def atomic_overwrite(filename):\n",
    "    temp = filename + \"~\"\n",
    "    with open(temp, \"w\") as f:\n",
    "        yield f\n",
    "    os.replace(temp, filename)  # this will only happen if no exception was raised\n",
    "\n",
    "\n",
    "def atomic_to_csv(collection, filename):\n",
    "    with atomic_overwrite(filename) as f:\n",
    "        pd.Series(collection).to_csv(f, header=False, index=False)"
   ]
  },
  {
   "cell_type": "code",
   "execution_count": null,
   "metadata": {
    "tags": []
   },
   "outputs": [
    {
     "name": "stderr",
     "output_type": "stream",
     "text": [
      "11it [00:44,  6.81s/it]"
     ]
    }
   ],
   "source": [
    "# we use a generator for profiling with tqdm\n",
    "def generator(queue):\n",
    "    while queue:\n",
    "        yield\n",
    "\n",
    "\n",
    "for _ in tqdm(generator(queue)):\n",
    "    username = queue[0]\n",
    "    queue = queue[1:]\n",
    "    friends = get_friends(username)\n",
    "\n",
    "    usernames |= friends\n",
    "    new_friends = [x for x in friends if x not in closed_nodes and x not in open_nodes]\n",
    "    queue = queue + new_friends\n",
    "    open_nodes |= set(new_friends)\n",
    "    open_nodes.remove(username)\n",
    "    closed_nodes.add(username)\n",
    "\n",
    "    atomic_to_csv(queue, \"queue.txt\")\n",
    "    atomic_to_csv(sorted(list(usernames)), \"usernames.txt\")\n",
    "    atomic_to_csv(sorted(list(closed_nodes)), \"closed_nodes.txt\")"
   ]
  },
  {
   "cell_type": "code",
   "execution_count": null,
   "metadata": {},
   "outputs": [],
   "source": []
  }
 ],
 "metadata": {
  "kernelspec": {
   "display_name": "Python 3 (ipykernel)",
   "language": "python",
   "name": "python3"
  },
  "language_info": {
   "codemirror_mode": {
    "name": "ipython",
    "version": 3
   },
   "file_extension": ".py",
   "mimetype": "text/x-python",
   "name": "python",
   "nbconvert_exporter": "python",
   "pygments_lexer": "ipython3",
   "version": "3.8.10"
  }
 },
 "nbformat": 4,
 "nbformat_minor": 4
}
