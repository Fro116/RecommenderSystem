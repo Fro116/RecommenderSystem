{
 "cells": [
  {
   "cell_type": "markdown",
   "metadata": {},
   "source": [
    "# Generating a list of MAL users\n",
    "* We start with a list of starting usernames, which can either be stored in `data/user_facts/queue.txt` or specified in the notebook\n",
    "* Then, we do a bread-first search of their friends until the friend graph is spanned\n",
    "* You can terminate or restart the notebook at any point. All users found so far will be stored at `data/user_facts/usernames.txt` \n",
    "* This notebook may run indefinitely. Feel free to manually terminate once an acceptable number of users have been found"
   ]
  },
  {
   "cell_type": "code",
   "execution_count": 1,
   "metadata": {},
   "outputs": [],
   "source": [
    "import os\n",
    "import time\n",
    "\n",
    "import pandas as pd\n",
    "import requests\n",
    "from tqdm import tqdm\n",
    "from ratelimit import limits, sleep_and_retry"
   ]
  },
  {
   "cell_type": "code",
   "execution_count": 2,
   "metadata": {},
   "outputs": [],
   "source": [
    "data_path = \"../../data/user_facts\"\n",
    "if not os.path.exists(data_path):\n",
    "    os.mkdir(data_path)\n",
    "os.chdir(data_path)"
   ]
  },
  {
   "cell_type": "code",
   "execution_count": 3,
   "metadata": {},
   "outputs": [
    {
     "name": "stdout",
     "output_type": "stream",
     "text": [
      "Starting with 63513 users in queue and 3369 processed users!\n"
     ]
    }
   ],
   "source": [
    "# reasonable defaults if this is the first time running the notebook\n",
    "queue = ['Fro116']\n",
    "usernames = set()\n",
    "closed_nodes = set()\n",
    "\n",
    "# if we rerunning the notebook, then resume execution where we last left off\n",
    "if os.path.exists(\"queue.txt\"):\n",
    "    with open('queue.txt') as f:\n",
    "        queue = [x.strip() for x in f.readlines()]   \n",
    "if os.path.exists(\"usernames.txt\"):\n",
    "    with open('usernames.txt') as f:\n",
    "        usernames = {x.strip() for x in f.readlines()}\n",
    "if os.path.exists(\"closed_nodes.txt\"):\n",
    "    with open('closed_nodes.txt') as f:\n",
    "        closed_nodes = {x.strip() for x in f.readlines()} \n",
    "open_nodes = set(queue)    \n",
    "\n",
    "print(f\"Starting with {len(queue)} users in queue and {len(closed_nodes)} processed users!\")"
   ]
  },
  {
   "cell_type": "code",
   "execution_count": 4,
   "metadata": {},
   "outputs": [],
   "source": [
    "@sleep_and_retry\n",
    "@limits(calls=1, period=4)\n",
    "def call_api(url):\n",
    "    response = requests.get(\n",
    "        url\n",
    "    )\n",
    "    return response"
   ]
  },
  {
   "cell_type": "code",
   "execution_count": 5,
   "metadata": {},
   "outputs": [],
   "source": [
    "from ratelimit import limits, sleep_and_retry\n"
   ]
  },
  {
   "cell_type": "code",
   "execution_count": 6,
   "metadata": {},
   "outputs": [],
   "source": [
    "def get_friends(username):\n",
    "    friends = set()\n",
    "    \n",
    "    max_items_per_page = 300  # property of the API\n",
    "    more_pages = True\n",
    "    page = 1\n",
    "    while more_pages:\n",
    "        response = call_api(f\"https://api.jikan.moe/v3/user/{username}/friends/{page}\")\n",
    "        if not response.ok:\n",
    "            print(f\"error: no friends found for {username}. This can happen in rare circumstances\")\n",
    "            return friends\n",
    "        new_friends = {x['username'] for x in response.json()['friends']}\n",
    "        friends |= new_friends\n",
    "        page += 1\n",
    "        if len(new_friends) < max_items_per_page:\n",
    "            more_pages = False\n",
    "    return friends"
   ]
  },
  {
   "cell_type": "code",
   "execution_count": null,
   "metadata": {
    "tags": []
   },
   "outputs": [
    {
     "name": "stderr",
     "output_type": "stream",
     "text": [
      "878it [58:40,  3.92s/it]"
     ]
    },
    {
     "name": "stdout",
     "output_type": "stream",
     "text": [
      "error: no friends found for sunmd\n"
     ]
    },
    {
     "name": "stderr",
     "output_type": "stream",
     "text": [
      "7768it [8:39:30,  4.00s/it]"
     ]
    },
    {
     "name": "stdout",
     "output_type": "stream",
     "text": [
      "error: no friends found for FeraPlayz\n"
     ]
    },
    {
     "name": "stderr",
     "output_type": "stream",
     "text": [
      "8508it [9:29:03,  4.09s/it]"
     ]
    },
    {
     "name": "stdout",
     "output_type": "stream",
     "text": [
      "error: no friends found for MobJAMbatista\n"
     ]
    },
    {
     "name": "stderr",
     "output_type": "stream",
     "text": [
      "11141it [12:25:10,  3.92s/it]"
     ]
    }
   ],
   "source": [
    "# we use a generator for profiling with tqdm\n",
    "def generator(queue):\n",
    "    while queue:\n",
    "        yield\n",
    "\n",
    "for _ in tqdm(generator(queue)):\n",
    "    username = queue[0]\n",
    "    queue = queue[1:]\n",
    "    friends = get_friends(username)\n",
    "    \n",
    "    usernames |= friends\n",
    "    new_friends = [x for x in friends if x not in closed_nodes and x not in open_nodes]\n",
    "    queue += new_friends\n",
    "    open_nodes |= set(new_friends)\n",
    "    open_nodes.remove(username)    \n",
    "    closed_nodes.add(username)\n",
    "    \n",
    "    pd.Series(queue).to_csv(\"queue.txt\", header=False, index=False)\n",
    "    pd.Series(sorted(list(usernames))).to_csv(\"usernames.txt\", header=False, index=False)\n",
    "    pd.Series(sorted(list(closed_nodes))).to_csv(\"closed_nodes.txt\", header=False, index=False)"
   ]
  },
  {
   "cell_type": "code",
   "execution_count": null,
   "metadata": {},
   "outputs": [],
   "source": [
    "len(usernames), len(open_nodes), len(closed_nodes), len(queue)"
   ]
  },
  {
   "cell_type": "code",
   "execution_count": null,
   "metadata": {},
   "outputs": [],
   "source": []
  }
 ],
 "metadata": {
  "kernelspec": {
   "display_name": "Python 3",
   "language": "python",
   "name": "python3"
  },
  "language_info": {
   "codemirror_mode": {
    "name": "ipython",
    "version": 3
   },
   "file_extension": ".py",
   "mimetype": "text/x-python",
   "name": "python",
   "nbconvert_exporter": "python",
   "pygments_lexer": "ipython3",
   "version": "3.8.8"
  }
 },
 "nbformat": 4,
 "nbformat_minor": 4
}
