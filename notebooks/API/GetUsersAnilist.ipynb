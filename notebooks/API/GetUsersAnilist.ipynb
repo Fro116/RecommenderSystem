{
 "cells": [
  {
   "cell_type": "markdown",
   "id": "1915b44a-3a42-431f-bd6c-94edf9e5bc36",
   "metadata": {
    "tags": []
   },
   "source": [
    "# Getting Anilist anime-lists\n",
    "* See GetUserAnimeLists.ipynb for more info"
   ]
  },
  {
   "cell_type": "code",
   "execution_count": null,
   "id": "ab9e087d-edee-4dbb-b2f2-58a544b07c92",
   "metadata": {},
   "outputs": [],
   "source": [
    "import datetime\n",
    "import json\n",
    "import logging\n",
    "import os\n",
    "import time\n",
    "\n",
    "import numpy as np\n",
    "import pandas as pd\n",
    "import requests\n",
    "from ratelimit import limits, sleep_and_retry\n",
    "from tqdm import tqdm"
   ]
  },
  {
   "cell_type": "code",
   "execution_count": null,
   "id": "bdb92dbd-7e88-4ef7-91ba-6d0babba548c",
   "metadata": {
    "tags": []
   },
   "outputs": [],
   "source": [
    "name = \"anilist\""
   ]
  },
  {
   "cell_type": "code",
   "execution_count": null,
   "id": "7331fa5c-2e17-48c1-8fea-1ee40af8e075",
   "metadata": {},
   "outputs": [],
   "source": [
    "# outdir\n",
    "data_path = f\"../../data/{name}/user_facts\"\n",
    "if not os.path.exists(data_path):\n",
    "    os.makedirs(data_path)\n",
    "os.chdir(data_path)"
   ]
  },
  {
   "cell_type": "code",
   "execution_count": null,
   "id": "95cdaa71-ee5c-40d1-a221-a133c5ad36fe",
   "metadata": {},
   "outputs": [],
   "source": [
    "# logging\n",
    "logger = logging.getLogger(\"GetUsers\")\n",
    "logger.setLevel(logging.DEBUG)\n",
    "formatter = logging.Formatter(\n",
    "    \"%(name)s:%(levelname)s:%(asctime)s: %(message)s\", datefmt=\"%Y-%m-%d %H:%M:%S\"\n",
    ")\n",
    "for stream in [\n",
    "    logging.FileHandler(\"get_user_anime_lists.log\"),\n",
    "    logging.StreamHandler(),\n",
    "]:\n",
    "    stream.setFormatter(formatter)\n",
    "    logger.addHandler(stream)"
   ]
  },
  {
   "cell_type": "markdown",
   "id": "4dd55c16-a8c1-4b3b-87c1-2b8aef672917",
   "metadata": {
    "tags": []
   },
   "source": [
    "## Parse AniList API"
   ]
  },
  {
   "cell_type": "code",
   "execution_count": null,
   "id": "d65acdee-4e10-4fda-8699-f9dc3e9df386",
   "metadata": {},
   "outputs": [],
   "source": [
    "@sleep_and_retry\n",
    "@limits(calls=1, period=1)\n",
    "def call_api(url, json, retry_timeout=1):\n",
    "    try:\n",
    "        response = requests.post(url, json=json)\n",
    "        if response.status_code in [500, 504] and retry_timeout < 3600:\n",
    "            # This can occur if MAL servers go down or if the page doesnt exist\n",
    "            raise Exception(f\"{response.status_code}\")\n",
    "    except Exception as e:\n",
    "        logger.warning(\n",
    "            f\"Received error {str(e)} while accessing {url}. Retrying in {retry_timeout} seconds\"\n",
    "        )\n",
    "        time.sleep(retry_timeout)\n",
    "        retry_timeout = min(retry_timeout * 2, 3600)\n",
    "        return call_api(url, json, retry_timeout)\n",
    "    return response"
   ]
  },
  {
   "cell_type": "code",
   "execution_count": null,
   "id": "44b6e37f-32a7-4024-a571-a0b85c854f64",
   "metadata": {},
   "outputs": [],
   "source": [
    "def get_username(userid):\n",
    "    url = \"https://graphql.anilist.co\"\n",
    "    query = \"query ($userid: Int) { User (id: $userid) { name } }\"\n",
    "    variables = {\"userid\": str(userid)}\n",
    "    response = call_api(url, {\"query\": query, \"variables\": variables})\n",
    "    response.raise_for_status()\n",
    "    return response.json()[\"data\"][\"User\"][\"name\"]"
   ]
  },
  {
   "cell_type": "code",
   "execution_count": null,
   "id": "36a67f9b-5f37-479f-a4ca-d72c6fa9e07a",
   "metadata": {},
   "outputs": [],
   "source": [
    "user_df = pd.read_csv(\"../user_anime_facts/user_status.csv\")"
   ]
  },
  {
   "cell_type": "code",
   "execution_count": null,
   "id": "b81404dc-7cd3-44e1-bff9-d0672aafc698",
   "metadata": {},
   "outputs": [],
   "source": [
    "logger.info(f\"Getting usernames for {len(user_df)} user ids\")"
   ]
  },
  {
   "cell_type": "code",
   "execution_count": null,
   "id": "c5c584b2-c9a0-4456-8208-b598c74f09d1",
   "metadata": {},
   "outputs": [],
   "source": [
    "outfile = \"userid_to_username.csv\"\n",
    "with open(outfile, \"w\") as out:\n",
    "    out.write(\"userid,username\\n\")    \n",
    "    for userid in tqdm(user_df.username):\n",
    "        username = get_username(userid)\n",
    "        out.write(f\"{userid},{username}\\n\")"
   ]
  },
  {
   "cell_type": "code",
   "execution_count": null,
   "id": "c0a9cf15-1f55-49b1-ac68-3910ef37ae7c",
   "metadata": {},
   "outputs": [],
   "source": [
    "logger.info(f\"Success!\")"
   ]
  }
 ],
 "metadata": {
  "kernelspec": {
   "display_name": "Python 3 (ipykernel)",
   "language": "python",
   "name": "python3"
  },
  "language_info": {
   "codemirror_mode": {
    "name": "ipython",
    "version": 3
   },
   "file_extension": ".py",
   "mimetype": "text/x-python",
   "name": "python",
   "nbconvert_exporter": "python",
   "pygments_lexer": "ipython3",
   "version": "3.8.9"
  }
 },
 "nbformat": 4,
 "nbformat_minor": 5
}
