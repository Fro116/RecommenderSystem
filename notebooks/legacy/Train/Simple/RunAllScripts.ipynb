{
 "cells": [
  {
   "cell_type": "markdown",
   "id": "db8524cd-af87-464e-a17b-04b0f709f5f4",
   "metadata": {},
   "source": [
    "# Simple\n",
    "* Simple baselines used for debugging purposes"
   ]
  },
  {
   "cell_type": "code",
   "execution_count": null,
   "id": "7df9b9d0-f4e3-4db9-b67d-799c100e8ab9",
   "metadata": {},
   "outputs": [],
   "source": [
    "import os\n",
    "\n",
    "import papermill as pm"
   ]
  },
  {
   "cell_type": "code",
   "execution_count": null,
   "id": "3eec386d-9055-47e4-bfab-cb71c95ac6af",
   "metadata": {
    "editable": true,
    "slideshow": {
     "slide_type": ""
    },
    "tags": []
   },
   "outputs": [],
   "source": [
    "def run(script, output, params):\n",
    "    os.makedirs(os.path.dirname(output), exist_ok=True)\n",
    "    pm.execute_notebook(script, output, params)\n",
    "\n",
    "\n",
    "def run_notebook(script, metric, datasets):\n",
    "    path = \"../../../data/papermill/training_alphas/simple\"\n",
    "    version = \"v1\"\n",
    "    for dataset in datasets:\n",
    "        for medium in [\"manga\", \"anime\"]:\n",
    "            run(\n",
    "                script,\n",
    "                os.path.join(path, version, dataset, medium, metric, script),\n",
    "                dict(version=version, dataset=dataset, medium=medium, metric=metric)\n",
    "            )"
   ]
  },
  {
   "cell_type": "code",
   "execution_count": null,
   "id": "32576416-b64b-4b10-8ca0-6c9ded856272",
   "metadata": {},
   "outputs": [],
   "source": [
    "run_notebook(\"SimpleRating.ipynb\", \"rating\", [\"streaming\"])"
   ]
  },
  {
   "cell_type": "code",
   "execution_count": null,
   "id": "68fc0f90-e4e1-4dd5-a3ab-9085bd10715a",
   "metadata": {
    "editable": true,
    "slideshow": {
     "slide_type": ""
    },
    "tags": []
   },
   "outputs": [],
   "source": [
    "run_notebook(\"SimpleWatch.ipynb\", \"watch\", [\"streaming\"])"
   ]
  },
  {
   "cell_type": "code",
   "execution_count": null,
   "id": "ce16f689-4cf2-4d7d-9e82-13f0045d8cde",
   "metadata": {},
   "outputs": [],
   "source": [
    "run_notebook(\"SimpleWatch.ipynb\", \"plantowatch\", [\"streaming\"])"
   ]
  },
  {
   "cell_type": "code",
   "execution_count": null,
   "id": "e97d10fc-50e6-4615-9099-0d49d19cb79a",
   "metadata": {},
   "outputs": [],
   "source": [
    "run_notebook(\"SimpleDrop.ipynb\", \"drop\", [\"streaming\"])"
   ]
  },
  {
   "cell_type": "code",
   "execution_count": null,
   "id": "a9832f17-d0a8-45c9-9cdf-62e14813d43f",
   "metadata": {
    "editable": true,
    "slideshow": {
     "slide_type": ""
    },
    "tags": []
   },
   "outputs": [],
   "source": [
    "run_notebook(\"SimpleRatingBiases.ipynb\", \"rating\", [\"streaming\"])"
   ]
  },
  {
   "cell_type": "code",
   "execution_count": null,
   "id": "f7cd304b-1d38-442c-86c8-fd54301afe05",
   "metadata": {
    "editable": true,
    "slideshow": {
     "slide_type": ""
    },
    "tags": []
   },
   "outputs": [],
   "source": [
    "print(\"Success!\")"
   ]
  }
 ],
 "metadata": {
  "kernelspec": {
   "display_name": "Python 3 (ipykernel)",
   "language": "python",
   "name": "python3"
  },
  "language_info": {
   "codemirror_mode": {
    "name": "ipython",
    "version": 3
   },
   "file_extension": ".py",
   "mimetype": "text/x-python",
   "name": "python",
   "nbconvert_exporter": "python",
   "pygments_lexer": "ipython3",
   "version": "3.12.3"
  }
 },
 "nbformat": 4,
 "nbformat_minor": 5
}
