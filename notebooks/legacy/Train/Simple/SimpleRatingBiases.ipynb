{
 "cells": [
  {
   "cell_type": "markdown",
   "id": "34f6e653-a085-4ced-98a4-385398a5627d",
   "metadata": {
    "editable": true,
    "slideshow": {
     "slide_type": ""
    },
    "tags": []
   },
   "source": [
    "# Simple Rating Biases\n",
    "* Computes a bias for each user and for each item\n",
    "* Prediction for user $i$ and item $j$ is $\\tilde r_{ij} = m + u_i + a_j$\n",
    "* $m = \\text{mean}_{ij}(r_{ij})$\n",
    "* $u_i = \\text{mean}_j(r_{ij}) - m$\n",
    "* $a_j = \\text{mean}_i(r_{ij}) - m$"
   ]
  },
  {
   "cell_type": "code",
   "execution_count": null,
   "id": "8c22ec24-f3b3-470c-88a8-74b3dccb41cd",
   "metadata": {
    "editable": true,
    "slideshow": {
     "slide_type": ""
    },
    "tags": []
   },
   "outputs": [],
   "source": [
    "import NBInclude: @nbinclude\n",
    "@nbinclude(\"../TrainingAlpha.ipynb\");"
   ]
  },
  {
   "cell_type": "code",
   "execution_count": null,
   "id": "82f10808-a9b7-4db0-89be-00e6d3d3fd79",
   "metadata": {
    "editable": true,
    "slideshow": {
     "slide_type": ""
    },
    "tags": []
   },
   "outputs": [],
   "source": [
    "version = \"\"\n",
    "dataset = \"\"\n",
    "medium = \"\";"
   ]
  },
  {
   "cell_type": "code",
   "execution_count": null,
   "id": "5f693eb8-9aab-4305-a6ee-17e885f3f24d",
   "metadata": {
    "editable": true,
    "slideshow": {
     "slide_type": ""
    },
    "tags": []
   },
   "outputs": [],
   "source": [
    "import DataFrames: combine, DataFrame, groupby\n",
    "import Statistics: mean"
   ]
  },
  {
   "cell_type": "code",
   "execution_count": null,
   "id": "ece661bf-e431-47a9-bdae-29d7e91bfcd3",
   "metadata": {
    "editable": true,
    "slideshow": {
     "slide_type": ""
    },
    "tags": []
   },
   "outputs": [],
   "source": [
    "const name = \"simple/$version/$dataset/$medium/rating_baseline\";"
   ]
  },
  {
   "cell_type": "code",
   "execution_count": null,
   "id": "f97c3e4e-dd00-427a-b14f-3ca4a0b864dc",
   "metadata": {
    "editable": true,
    "slideshow": {
     "slide_type": ""
    },
    "tags": []
   },
   "outputs": [],
   "source": [
    "function get_df(dataset)\n",
    "    df = as_metric(\n",
    "        get_split(dataset, \"train\", medium, [:userid, :itemid, :rating]),\n",
    "        \"rating\",\n",
    "    )\n",
    "    DataFrame(user = df.userid, item = df.itemid, rating = convert.(Float64, df.rating))\n",
    "end;"
   ]
  },
  {
   "cell_type": "code",
   "execution_count": null,
   "id": "ed1032f4-e631-488c-b6fe-4a5b5b57d778",
   "metadata": {
    "editable": true,
    "slideshow": {
     "slide_type": ""
    },
    "tags": []
   },
   "outputs": [],
   "source": [
    "function train_model(dataset)\n",
    "    training = get_df(dataset)\n",
    "    μ = mean(training.rating)\n",
    "    a = combine(groupby(training, :item), :rating => mean => :rating)\n",
    "    a = Dict(Pair.(a.item, a.rating .- μ))\n",
    "    a = [get(a, i, 0) for i = 1:num_items(medium)]\n",
    "    write_params(Dict(\"a\" => convert.(Float32, a), \"μ\" => convert(Float32, μ)), name)\n",
    "end;"
   ]
  },
  {
   "cell_type": "code",
   "execution_count": null,
   "id": "48015a2c-b616-4544-bb58-1c98751bd52c",
   "metadata": {
    "editable": true,
    "slideshow": {
     "slide_type": ""
    },
    "tags": []
   },
   "outputs": [],
   "source": [
    "function model(dfs, userids, medium)\n",
    "    params = read_params(name)\n",
    "    μ = params[\"μ\"]\n",
    "    a = params[\"a\"]\n",
    "    preds = Dict{Int32,Vector{Float32}}()\n",
    "    rd = as_metric(dfs[medium], \"rating\")\n",
    "    df = DataFrame(user = rd.userid, item = rd.itemid, rating = rd.rating)\n",
    "    u = combine(groupby(df, :user), :rating => mean => :rating)\n",
    "    u = Dict(Pair.(u.user, u.rating .- μ))\n",
    "    @showprogress for user in userids\n",
    "        preds[user] = μ + get(u, user, 0) .+ a\n",
    "    end\n",
    "    preds\n",
    "end;"
   ]
  },
  {
   "cell_type": "code",
   "execution_count": null,
   "id": "73aafba5-cb9d-45fa-a956-24fcd5ae7021",
   "metadata": {},
   "outputs": [],
   "source": [
    "train_model(dataset);"
   ]
  },
  {
   "cell_type": "code",
   "execution_count": null,
   "id": "c49241ab-d74c-421d-8467-0593f44dc5a3",
   "metadata": {
    "editable": true,
    "slideshow": {
     "slide_type": ""
    },
    "tags": []
   },
   "outputs": [],
   "source": [
    "write_alpha((dfs, userids) -> model(dfs, userids, medium), medium, name, [medium])\n",
    "print_losses(medium, \"rating\", [name]);"
   ]
  }
 ],
 "metadata": {
  "kernelspec": {
   "display_name": "Julia 1.10.2",
   "language": "julia",
   "name": "julia-1.10"
  },
  "language_info": {
   "file_extension": ".jl",
   "mimetype": "application/julia",
   "name": "julia",
   "version": "1.10.2"
  }
 },
 "nbformat": 4,
 "nbformat_minor": 5
}
