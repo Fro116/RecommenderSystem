{
 "cells": [
  {
   "cell_type": "code",
   "execution_count": null,
   "id": "d90afc10-1ae5-4665-937e-d58a5859ac94",
   "metadata": {
    "editable": true,
    "slideshow": {
     "slide_type": ""
    },
    "tags": []
   },
   "outputs": [],
   "source": [
    "import NBInclude: @nbinclude\n",
    "@nbinclude(\"./Data.ipynb\");"
   ]
  },
  {
   "cell_type": "code",
   "execution_count": null,
   "id": "4f244b68-397e-4b42-b30d-d0adc92d4834",
   "metadata": {
    "editable": true,
    "slideshow": {
     "slide_type": ""
    },
    "tags": []
   },
   "outputs": [],
   "source": [
    "import JSON"
   ]
  },
  {
   "cell_type": "code",
   "execution_count": null,
   "id": "bfd56259-4513-4297-a978-99c765532231",
   "metadata": {
    "editable": true,
    "slideshow": {
     "slide_type": ""
    },
    "tags": [
     "parameters"
    ]
   },
   "outputs": [],
   "source": [
    "version = \"\"\n",
    "dataset = \"\"\n",
    "medium = \"\"\n",
    "metric = \"\";"
   ]
  },
  {
   "cell_type": "code",
   "execution_count": null,
   "id": "19614ffc-2dae-4688-a80e-8745b43c9992",
   "metadata": {},
   "outputs": [],
   "source": [
    "function sparse(x::RatingsDataset, c::Symbol, dataset::String, medium::String)\n",
    "    SparseArrays.sparse(\n",
    "        x.itemid,\n",
    "        x.userid,\n",
    "        getfield(x, c),\n",
    "        num_items(medium),\n",
    "        num_users(dataset),\n",
    "    )\n",
    "end\n",
    "\n",
    "function get_dataset(\n",
    "    dataset::String,\n",
    "    split::String,\n",
    "    medium::String,\n",
    "    metric::String,\n",
    "    epoch::String,\n",
    ")\n",
    "    @info \"loading dataset $dataset $split $medium $metric\"\n",
    "    @assert dataset in [\"training\", \"streaming\"] dataset\n",
    "    @assert split in [\"train\", \"test_input\"]\n",
    "    df = get_split(\n",
    "        dataset,\n",
    "        split,\n",
    "        medium,\n",
    "        [:userid, :itemid, :rating, :status, :medium, :updated_at, :update_order],\n",
    "    )\n",
    "    if dataset == \"streaming\" && split == \"train\"\n",
    "        input, output = input_output_split(\n",
    "            df,\n",
    "            get_timestamp(dataset, :max_ts) - get_timestamp(Dates.Day(7)),\n",
    "            5,\n",
    "            true,\n",
    "        )\n",
    "        input = as_metric(input, metric)\n",
    "        output = as_metric(output, metric)\n",
    "        df = Dict(\"input\" => input, \"output\" => output)[epoch]\n",
    "        resid = input\n",
    "    else\n",
    "        df = as_metric(df, metric)\n",
    "        resid = df\n",
    "    end\n",
    "    if metric == \"rating\"\n",
    "        baseline_dataset = dataset == \"training\" ? \"training\" : \"streaming\"\n",
    "        params = read_params(\"baseline/v1/$baseline_dataset/$medium/rating\")\n",
    "        user_biases = get_user_biases(resid, params)\n",
    "        item_biases = params[\"a\"]\n",
    "        β = params[\"β\"]\n",
    "        Threads.@threads for i = 1:length(df.metric)\n",
    "            df.metric[i] -=\n",
    "                (get(user_biases, df.userid[i], 0) + item_biases[df.itemid[i]]) * β\n",
    "        end\n",
    "    end\n",
    "    df\n",
    "end;"
   ]
  },
  {
   "cell_type": "code",
   "execution_count": null,
   "id": "1fa84fbe-12fd-4f67-aa24-4b5bbb71f4fa",
   "metadata": {
    "editable": true,
    "scrolled": true,
    "slideshow": {
     "slide_type": ""
    },
    "tags": []
   },
   "outputs": [],
   "source": [
    "function get_epoch_inputs(dataset::String, version::String)\n",
    "    @info \"loading inputs $dataset\"\n",
    "    fn = get_data_path(\"alphas/bagofwords/$version/$dataset/inputs.h5\")\n",
    "    if !isfile(fn)\n",
    "        # save inputs to disk\n",
    "        mkpath(dirname(fn))\n",
    "        X = vcat(\n",
    "            [\n",
    "                sparse(\n",
    "                    get_dataset(dataset, \"train\", medium, metric, \"input\"),\n",
    "                    :metric,\n",
    "                    dataset,\n",
    "                    medium,\n",
    "                ) for metric in [\"rating\", \"watch\"] for medium in ALL_MEDIUMS\n",
    "            ]...,\n",
    "        )\n",
    "        d = Dict{String,Any}()\n",
    "        record_sparse_array!(d, \"inputs\", X)\n",
    "        HDF5.h5open(fn, \"w\") do file\n",
    "            for (k, v) in d\n",
    "                file[k] = v\n",
    "            end\n",
    "        end\n",
    "    end\n",
    "    HDF5.h5open(fn, \"r\") do f\n",
    "        g(x) = read(f[x])\n",
    "        return SparseArrays.sparse(\n",
    "            g(\"inputs_i\"),\n",
    "            g(\"inputs_j\"),\n",
    "            g(\"inputs_v\"),\n",
    "            g(\"inputs_size\")...,\n",
    "        )\n",
    "    end\n",
    "end;"
   ]
  },
  {
   "cell_type": "code",
   "execution_count": null,
   "id": "c2d908fe-27ff-4b5e-8615-fa663fcc0023",
   "metadata": {
    "editable": true,
    "slideshow": {
     "slide_type": ""
    },
    "tags": []
   },
   "outputs": [],
   "source": [
    "function get_counts(df, col)\n",
    "    data = getfield(df, col)\n",
    "    counts = StatsBase.countmap(data)\n",
    "    Int32[counts[x] for x in data]\n",
    "end\n",
    "\n",
    "function get_weights(df, λ_wu, λ_wa, λ_wt)\n",
    "    users = get_counts(df, :userid)\n",
    "    items = get_counts(df, :itemid)\n",
    "    w = Vector{typeof(λ_wt)}(undef, length(users))\n",
    "    Threads.@threads for i = 1:length(w)\n",
    "        w[i] = (users[i]^λ_wu) * (items[i]^λ_wa) * (λ_wt^(1 - df.updated_at[i]))\n",
    "    end\n",
    "    w\n",
    "end\n",
    "\n",
    "function get_epoch_outputs(\n",
    "    dataset::String,\n",
    "    medium::String,\n",
    "    metric::String,\n",
    "    λ::Vector{Float32},\n",
    ")\n",
    "    @info \"loading outputs $dataset $medium $metric\"\n",
    "    df = get_dataset(dataset, \"train\", medium, metric, \"output\")\n",
    "    if dataset == \"training\"\n",
    "        λ_wu, λ_wa, λ_wt = λ\n",
    "        df.updated_at .= get_weights(df, λ_wu, λ_wa, sigmoid(λ_wt))\n",
    "    else\n",
    "        df.updated_at .= Float32[1.0 / x for x in get_counts(df, :userid)]\n",
    "    end\n",
    "    Y = sparse(df, :metric, dataset, medium)\n",
    "    W = sparse(df, :updated_at, dataset, medium)\n",
    "    Y, W\n",
    "end;"
   ]
  },
  {
   "cell_type": "code",
   "execution_count": null,
   "id": "461f469a-a870-4976-8b63-11f0cb65f440",
   "metadata": {
    "editable": true,
    "slideshow": {
     "slide_type": ""
    },
    "tags": []
   },
   "outputs": [],
   "source": [
    "function save_dataset(dataset, medium, metric, version)\n",
    "    seed_rng!(\"Train/Baseline/Train/$dataset/$medium/$metric\")\n",
    "    name = \"bagofwords/$version/$dataset/$medium/$metric\"\n",
    "    outdir = get_data_path(joinpath(\"alphas\", name))\n",
    "    if !isdir(outdir)\n",
    "        mkpath(outdir)\n",
    "    end\n",
    "    config = Dict(\n",
    "        \"input_sizes\" => num_items.(ALL_MEDIUMS),\n",
    "        \"output_index\" => findfirst(x -> x == medium, ALL_MEDIUMS),\n",
    "        \"metric\" => metric,\n",
    "    )\n",
    "    open(\"$outdir/config.json\", \"w\") do f\n",
    "        write(f, JSON.json(config))\n",
    "    end\n",
    "    X = get_epoch_inputs(dataset, version)\n",
    "    logit(p) = log(p / (1 - p))\n",
    "    λ_wt = logit(exp(log(0.5) / get_timestamp(Dates.Day(365))))\n",
    "    Y, W = get_epoch_outputs(dataset, medium, metric, Float32[0, 0, λ_wt])\n",
    "\n",
    "    userids = Random.shuffle([x for x in 1:size(X)[2] if sum(W[:, x]) != 0])\n",
    "    test_frac = Dict(\"training\" => 0.01, \"streaming\" => 0.1)[dataset]\n",
    "    n_train = Int(round(length(userids) * (1 - test_frac)))\n",
    "    train_userids = userids[1:n_train]\n",
    "    test_userids = userids[n_train+1:end]\n",
    "\n",
    "    save_features(\n",
    "        X[:, train_userids],\n",
    "        Y[:, train_userids],\n",
    "        W[:, train_userids],\n",
    "        train_userids,\n",
    "        \"$outdir/train.h5\",\n",
    "    )\n",
    "    save_features(\n",
    "        X[:, test_userids],\n",
    "        Y[:, test_userids],\n",
    "        W[:, test_userids],\n",
    "        test_userids,\n",
    "        \"$outdir/test.h5\",\n",
    "    )\n",
    "end;"
   ]
  },
  {
   "cell_type": "code",
   "execution_count": null,
   "id": "1a20ba2a-6f24-47d4-88dd-a491bbf681d7",
   "metadata": {
    "editable": true,
    "scrolled": true,
    "slideshow": {
     "slide_type": ""
    },
    "tags": []
   },
   "outputs": [],
   "source": [
    "save_dataset(dataset, medium, metric, version);"
   ]
  }
 ],
 "metadata": {
  "kernelspec": {
   "display_name": "Julia 1.10.2",
   "language": "julia",
   "name": "julia-1.10"
  },
  "language_info": {
   "file_extension": ".jl",
   "mimetype": "application/julia",
   "name": "julia",
   "version": "1.10.2"
  }
 },
 "nbformat": 4,
 "nbformat_minor": 5
}
