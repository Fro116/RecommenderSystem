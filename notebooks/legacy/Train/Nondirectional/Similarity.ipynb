{
 "cells": [
  {
   "cell_type": "markdown",
   "id": "c3758ece-9b72-47b4-ae6a-aa364e0443e3",
   "metadata": {},
   "source": [
    "# Similarity metrics\n",
    "* Computes similarity matrics M, where M[i, j] is the similarity between items i, j"
   ]
  },
  {
   "cell_type": "code",
   "execution_count": null,
   "id": "d17593ac-3260-4c01-a5df-91edfcd17e13",
   "metadata": {
    "editable": true,
    "slideshow": {
     "slide_type": ""
    },
    "tags": []
   },
   "outputs": [],
   "source": [
    "import NBInclude: @nbinclude\n",
    "@nbinclude(\"../TrainingAlpha.ipynb\");"
   ]
  },
  {
   "cell_type": "code",
   "execution_count": null,
   "id": "33a2ed6c-0356-4107-911c-3bbcfcec5253",
   "metadata": {
    "editable": true,
    "slideshow": {
     "slide_type": ""
    },
    "tags": [
     "parameters"
    ]
   },
   "outputs": [],
   "source": [
    "version = \"\"\n",
    "dataset = \"\"\n",
    "medium = \"\"\n",
    "metric = \"\""
   ]
  },
  {
   "cell_type": "code",
   "execution_count": null,
   "id": "c89b0f7b-795d-4263-bc3a-d610f93dec08",
   "metadata": {
    "editable": true,
    "slideshow": {
     "slide_type": ""
    },
    "tags": []
   },
   "outputs": [],
   "source": [
    "import SparseArrays"
   ]
  },
  {
   "cell_type": "markdown",
   "id": "8e05f8b2-13f5-40e2-b0ca-58a09e71e0b5",
   "metadata": {},
   "source": [
    "## Compute similarity matrices"
   ]
  },
  {
   "cell_type": "code",
   "execution_count": null,
   "id": "334daf7d-4d90-4f22-993e-0664dbb3e67d",
   "metadata": {
    "editable": true,
    "slideshow": {
     "slide_type": ""
    },
    "tags": []
   },
   "outputs": [],
   "source": [
    "function get_data(dataset, medium, metric, recent_years)\n",
    "    df = as_metric(\n",
    "        get_split(dataset, \"train\", medium, [:userid, :itemid, :status, :updated_at]),\n",
    "        metric,\n",
    "    )\n",
    "    df = subset(df, df.updated_at .>= 1 - get_timestamp(Dates.Day(365)) * recent_years)\n",
    "    M = SparseArrays.sparse(\n",
    "        df.itemid,\n",
    "        df.userid,\n",
    "        df.metric,\n",
    "        num_items(medium),\n",
    "        num_users(dataset),\n",
    "    )\n",
    "    Mt = SparseArrays.sparse(\n",
    "        df.userid,\n",
    "        df.itemid,\n",
    "        df.metric,\n",
    "        num_users(dataset),\n",
    "        num_items(medium),\n",
    "    )\n",
    "    M, Mt\n",
    "end;"
   ]
  },
  {
   "cell_type": "code",
   "execution_count": null,
   "id": "287941be-2ad0-4270-8177-92cf6d246100",
   "metadata": {},
   "outputs": [],
   "source": [
    "function get_watch_similarity(dataset, medium, metric, recent_years)\n",
    "    # intersection / union on sets of watches \n",
    "    M, Mt = get_data(dataset, medium, metric, recent_years)\n",
    "    W = zeros(Float32, num_items(medium), num_items(medium))\n",
    "    counts = sum(M, dims = 2)\n",
    "    @showprogress for i = 1:num_items(medium)\n",
    "        if counts[i] > 0\n",
    "            intersection = M * Mt[:, i]\n",
    "            union = (counts - intersection) .+ counts[i]\n",
    "            W[:, i] = intersection ./ union\n",
    "        end\n",
    "    end\n",
    "    W\n",
    "end;"
   ]
  },
  {
   "cell_type": "code",
   "execution_count": null,
   "id": "6fbe3342-9a20-4c1b-babb-621af3cc5f78",
   "metadata": {},
   "outputs": [],
   "source": [
    "function prune_entries!(M::Matrix, max_nonzero::Integer)\n",
    "    @showprogress Threads.@threads for i = 1:size(M)[2]\n",
    "        order = sortperm(M[:, i])\n",
    "        M[order[1:end-max_nonzero], i] .= 0\n",
    "    end\n",
    "end;"
   ]
  },
  {
   "cell_type": "code",
   "execution_count": null,
   "id": "c0c08130-a539-47a5-b69a-7f082896d5d8",
   "metadata": {
    "editable": true,
    "slideshow": {
     "slide_type": ""
    },
    "tags": []
   },
   "outputs": [],
   "source": [
    "W = get_watch_similarity(dataset, medium, metric, 10)\n",
    "prune_entries!(W, 1000) # to reduce the storage cost\n",
    "W = convert.(Float16, collect(W))\n",
    "write_params(Dict(\"S\" => W), \"nondirectional/$version/$dataset/$medium/$metric/similarity\");"
   ]
  }
 ],
 "metadata": {
  "kernelspec": {
   "display_name": "Julia 1.10.2",
   "language": "julia",
   "name": "julia-1.10"
  },
  "language_info": {
   "file_extension": ".jl",
   "mimetype": "application/julia",
   "name": "julia",
   "version": "1.10.2"
  }
 },
 "nbformat": 4,
 "nbformat_minor": 5
}
