{
 "cells": [
  {
   "cell_type": "markdown",
   "id": "d86471ad-46fa-4f3b-9a0b-7e84db063081",
   "metadata": {
    "editable": true,
    "slideshow": {
     "slide_type": ""
    },
    "tags": []
   },
   "source": [
    "# Nondirectional\n",
    "* Processes structured metadata about items, such as what genre an item is or whether one item is a sequel to another"
   ]
  },
  {
   "cell_type": "code",
   "execution_count": null,
   "id": "7df9b9d0-f4e3-4db9-b67d-799c100e8ab9",
   "metadata": {},
   "outputs": [],
   "source": [
    "import os\n",
    "\n",
    "import papermill as pm"
   ]
  },
  {
   "cell_type": "code",
   "execution_count": null,
   "id": "eff55cde-041f-4f26-8d31-34ed6d06ae52",
   "metadata": {},
   "outputs": [],
   "source": [
    "def run(script, output, params):\n",
    "    os.makedirs(os.path.dirname(output), exist_ok=True)\n",
    "    pm.execute_notebook(script, output, params)\n",
    "\n",
    "\n",
    "def run_notebook(script, datasets):\n",
    "    data_path = \"../../../data/papermill/training_alphas/nondirectional\"\n",
    "    version = \"v1\"\n",
    "    for dataset in datasets:\n",
    "        for medium in [\"manga\", \"anime\"]:\n",
    "            for metric in [\"watch\"]:\n",
    "                run(\n",
    "                    script,\n",
    "                    os.path.join(data_path, version, dataset, medium, metric, script),\n",
    "                    dict(\n",
    "                        version=version, dataset=dataset, medium=medium, metric=metric\n",
    "                    ),\n",
    "                )"
   ]
  },
  {
   "cell_type": "code",
   "execution_count": null,
   "id": "2b8960df-507f-471f-8975-7fcb534d4d17",
   "metadata": {
    "editable": true,
    "slideshow": {
     "slide_type": ""
    },
    "tags": []
   },
   "outputs": [],
   "source": [
    "run_notebook(\"Similarity.ipynb\", [\"training\"])"
   ]
  },
  {
   "cell_type": "code",
   "execution_count": null,
   "id": "7a54f872-21b7-49c9-bbcb-6e456e14e68a",
   "metadata": {},
   "outputs": [],
   "source": [
    "run_notebook(\"Related.ipynb\", [\"training\"])"
   ]
  },
  {
   "cell_type": "code",
   "execution_count": null,
   "id": "f7cd304b-1d38-442c-86c8-fd54301afe05",
   "metadata": {},
   "outputs": [],
   "source": [
    "print(\"Success!\")"
   ]
  }
 ],
 "metadata": {
  "kernelspec": {
   "display_name": "Python 3 (ipykernel)",
   "language": "python",
   "name": "python3"
  },
  "language_info": {
   "codemirror_mode": {
    "name": "ipython",
    "version": 3
   },
   "file_extension": ".py",
   "mimetype": "text/x-python",
   "name": "python",
   "nbconvert_exporter": "python",
   "pygments_lexer": "ipython3",
   "version": "3.12.3"
  }
 },
 "nbformat": 4,
 "nbformat_minor": 5
}
