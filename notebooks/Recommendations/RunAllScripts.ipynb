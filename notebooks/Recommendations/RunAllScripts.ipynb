{
 "cells": [
  {
   "cell_type": "markdown",
   "id": "94c36253-4400-487f-8d80-7f3ef9d75152",
   "metadata": {
    "editable": true,
    "slideshow": {
     "slide_type": ""
    },
    "tags": []
   },
   "source": [
    "# Steps to generate recommendations\n",
    "1. Run StartDaemons.ipynb to setup the servers\n",
    "2. Put your username and source in the cell below. For example, setting username=\"Fro116\" and source=\"mal\" will generate recommendations for the user \"Fro116\" on the site \"myanimelist.net\"\n",
    "3. Run the script to generate an html page of recommendations"
   ]
  },
  {
   "cell_type": "code",
   "execution_count": null,
   "id": "8bc93667-9b2c-40ce-99d7-3978f2dd7b69",
   "metadata": {
    "editable": true,
    "slideshow": {
     "slide_type": ""
    },
    "tags": [
     "parameters"
    ]
   },
   "outputs": [],
   "source": [
    "username = \"\"\n",
    "source = \"\""
   ]
  },
  {
   "cell_type": "code",
   "execution_count": null,
   "id": "7df9b9d0-f4e3-4db9-b67d-799c100e8ab9",
   "metadata": {
    "editable": true,
    "slideshow": {
     "slide_type": ""
    },
    "tags": []
   },
   "outputs": [],
   "source": [
    "import os\n",
    "import shutil\n",
    "import subprocess"
   ]
  },
  {
   "cell_type": "code",
   "execution_count": null,
   "id": "cb3b775c-b28b-4dc9-84c0-7655d63615e8",
   "metadata": {
    "editable": true,
    "slideshow": {
     "slide_type": ""
    },
    "tags": []
   },
   "outputs": [],
   "source": [
    "sources = [\n",
    "    \"mal\",\n",
    "    \"anilist\",\n",
    "    \"kitsu\",\n",
    "    \"animeplanet\",\n",
    "]\n",
    "assert username, \"Must provide a username\"\n",
    "assert source in sources, \"Must provide a list source\"\n",
    "if \"@\" in username:\n",
    "    fields = username.split(\"@\")\n",
    "    assert len(fields) == 2 and fields[0] == source"
   ]
  },
  {
   "cell_type": "code",
   "execution_count": null,
   "id": "88de56a9-5909-42ab-bdf7-2dd39f064ee2",
   "metadata": {
    "editable": true,
    "slideshow": {
     "slide_type": ""
    },
    "tags": []
   },
   "outputs": [],
   "source": [
    "data_path = os.path.abspath(\"../../data/recommendations\")\n",
    "if not os.path.exists(data_path):\n",
    "    os.mkdir(data_path)\n",
    "if \"@\" in username:\n",
    "    rec_dir = os.path.join(data_path, *username.split(\"@\"))\n",
    "else:\n",
    "    rec_dir = os.path.join(data_path, source, str(username))\n",
    "if os.path.exists(rec_dir):\n",
    "    shutil.rmtree(rec_dir)"
   ]
  },
  {
   "cell_type": "code",
   "execution_count": null,
   "id": "8d880525-5ca4-45ac-bb16-6c2ea92c8f27",
   "metadata": {},
   "outputs": [],
   "source": [
    "source_to_port = {\"mal\": 3000, \"anilist\": 3001, \"kitsu\": 3002, \"animeplanet\": 3003}\n",
    "python_script_to_port = {\n",
    "    \"Transformer\": 3004,\n",
    "    \"BagOfWords\": 3005,\n",
    "}\n",
    "julia_script_to_port = {\n",
    "    \"CompressSplits.jl\": 3006,\n",
    "    \"Baseline.jl\": 3007,\n",
    "    \"BagOfWords.jl\": 3008,\n",
    "    \"Nondirectional.jl\": 3009,\n",
    "    \"Transformer.jl\": 3010,\n",
    "    \"Ensemble.jl\": 3011,\n",
    "    \"Recommendations.jl\": 3012,\n",
    "}"
   ]
  },
  {
   "cell_type": "code",
   "execution_count": null,
   "id": "4dee88bc-4c53-49b8-b860-a8f03cbd35bc",
   "metadata": {},
   "outputs": [],
   "source": [
    "def spawn_parallel(commands):\n",
    "    procs = []\n",
    "    for cmd in commands:\n",
    "        procs.append(\n",
    "            subprocess.Popen(cmd, stdout=subprocess.DEVNULL, stderr=subprocess.STDOUT)\n",
    "        )\n",
    "    for p in procs:\n",
    "        p.wait()\n",
    "\n",
    "\n",
    "def create_julia_command(x):\n",
    "    port = julia_script_to_port[x]\n",
    "    url = f\"http://localhost:{port}/query?username={username}&source={source}\"\n",
    "    if x in [\"Transformer.jl\", \"BagOfWords.jl\"]:\n",
    "        base = x.split(\".\")[0]\n",
    "        url += f\"&modelport={python_script_to_port[base]}\"\n",
    "    return [\"curl\", url]"
   ]
  },
  {
   "cell_type": "markdown",
   "id": "f89d8057-fefa-4c83-97c3-6a8c6214b8c9",
   "metadata": {
    "editable": true,
    "slideshow": {
     "slide_type": ""
    },
    "tags": []
   },
   "source": [
    "# Query servers"
   ]
  },
  {
   "cell_type": "code",
   "execution_count": null,
   "id": "94a94bd2-9121-455a-9e75-75e5e0cba1de",
   "metadata": {},
   "outputs": [],
   "source": [
    "%%time\n",
    "spawn_parallel(\n",
    "    [\n",
    "        [\n",
    "            \"curl\",\n",
    "            f\"http://localhost:{source_to_port[source]}/query?username={username}&medium={medium}\",\n",
    "        ]\n",
    "        for medium in [\"manga\", \"anime\"]\n",
    "    ]\n",
    ")"
   ]
  },
  {
   "cell_type": "code",
   "execution_count": null,
   "id": "cb9f0f2c-0436-4d01-b737-b60b14983e66",
   "metadata": {
    "editable": true,
    "slideshow": {
     "slide_type": ""
    },
    "tags": []
   },
   "outputs": [],
   "source": [
    "username = str(username)\n",
    "if \"@\" in username:\n",
    "    username = username.split(\"@\")[1]"
   ]
  },
  {
   "cell_type": "code",
   "execution_count": null,
   "id": "d58f6f2a-069a-4959-afec-f13879048701",
   "metadata": {},
   "outputs": [],
   "source": [
    "%%time\n",
    "spawn_parallel([create_julia_command(x) for x in [\"CompressSplits.jl\"]])\n",
    "spawn_parallel([create_julia_command(x) for x in [\"Baseline.jl\"]])\n",
    "spawn_parallel(\n",
    "    [\n",
    "        create_julia_command(x)\n",
    "        for x in [\"BagOfWords.jl\", \"Nondirectional.jl\", \"Transformer.jl\"]\n",
    "    ]\n",
    ")\n",
    "spawn_parallel([create_julia_command(x) for x in [\"Ensemble.jl\"]])\n",
    "spawn_parallel([create_julia_command(x) for x in [\"Recommendations.jl\"]])"
   ]
  }
 ],
 "metadata": {
  "kernelspec": {
   "display_name": "Python 3 (ipykernel)",
   "language": "python",
   "name": "python3"
  },
  "language_info": {
   "codemirror_mode": {
    "name": "ipython",
    "version": 3
   },
   "file_extension": ".py",
   "mimetype": "text/x-python",
   "name": "python",
   "nbconvert_exporter": "python",
   "pygments_lexer": "ipython3",
   "version": "3.10.12"
  }
 },
 "nbformat": 4,
 "nbformat_minor": 5
}
