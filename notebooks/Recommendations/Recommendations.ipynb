{
 "cells": [
  {
   "cell_type": "code",
   "execution_count": 1,
   "id": "240e43fd-abc8-4d44-a3d6-85293d0dd756",
   "metadata": {},
   "outputs": [],
   "source": [
    "source = \"Recommendations\";"
   ]
  },
  {
   "cell_type": "code",
   "execution_count": 2,
   "id": "ba187524-034d-40f6-9e40-0ab5123e36bb",
   "metadata": {},
   "outputs": [],
   "source": [
    "using NBInclude\n",
    "@nbinclude(\"../ProductionAlphas/Alpha.ipynb\");"
   ]
  },
  {
   "cell_type": "code",
   "execution_count": 3,
   "id": "2dc4c5b5-a759-463c-b163-e47fd461a554",
   "metadata": {},
   "outputs": [],
   "source": [
    "ENV[\"COLUMNS\"] = 999999;\n",
    "#ENV[\"LINES\"] = 100;"
   ]
  },
  {
   "cell_type": "code",
   "execution_count": 4,
   "id": "20127075-7c57-4629-9283-d1f18a8ff2bb",
   "metadata": {},
   "outputs": [],
   "source": [
    "anime = DataFrame(CSV.File(\"../../data/raw_data/anime.csv\"))\n",
    "anime_to_uid = DataFrame(CSV.File(\"../../data/processed_data/anime_to_uid.csv\"))\n",
    "anime_to_uid = innerjoin(anime_to_uid, anime, on = \"anime_id\");"
   ]
  },
  {
   "cell_type": "code",
   "execution_count": 5,
   "id": "9fa0327c-2d09-4040-8819-32125a957f15",
   "metadata": {
    "tags": []
   },
   "outputs": [],
   "source": [
    "predictions = read_recommendee_alpha(\"CombineSignals\").rating\n",
    "rating_df = DataFrame(\"uid\" => 0:length(predictions)-1, \"rating\" => predictions);"
   ]
  },
  {
   "cell_type": "code",
   "execution_count": 6,
   "id": "c3ce70b8-843a-4f7d-a84a-551507c54bcf",
   "metadata": {},
   "outputs": [
    {
     "name": "stderr",
     "output_type": "stream",
     "text": [
      "\u001b[38;5;4m\u001b[1m[ \u001b[22m\u001b[39m\u001b[38;5;4m\u001b[1mDebug: \u001b[22m\u001b[39m20220102 22:23:08 1.3676658651157594\n",
      "\u001b[38;5;4m\u001b[1m[ \u001b[22m\u001b[39m\u001b[38;5;4m\u001b[1mDebug: \u001b[22m\u001b[39m20220102 22:23:08 1.0341588048722163\n",
      "\u001b[38;5;4m\u001b[1m[ \u001b[22m\u001b[39m\u001b[38;5;4m\u001b[1mDebug: \u001b[22m\u001b[39m20220102 22:23:08 0.35714737801661034\n"
     ]
    }
   ],
   "source": [
    "df = get_recommendee_list()\n",
    "@debug rmse(df.rating, predictions[df.item])\n",
    "@debug mae(df.rating, predictions[df.item])\n",
    "@debug r2(df.rating, predictions[df.item])\n",
    "rating_df.rating[df.item] .= 0;"
   ]
  },
  {
   "cell_type": "code",
   "execution_count": 7,
   "id": "25035c7e-c9be-4054-96ec-4e11bc575623",
   "metadata": {},
   "outputs": [
    {
     "data": {
      "text/html": [
       "<div class=\"data-frame\"><p>5,221 rows × 5 columns</p><table class=\"data-frame\"><thead><tr><th></th><th>anime_id</th><th>title</th><th>genres</th><th>medium</th><th>rating</th></tr><tr><th></th><th title=\"Int64\">Int64</th><th title=\"String\">String</th><th title=\"String\">String</th><th title=\"String7\">String7</th><th title=\"Float64\">Float64</th></tr></thead><tbody><tr><th>1</th><td>45576</td><td>Mushoku Tensei: Isekai Ittara Honki Dasu Part 2</td><td>[&apos;Drama&apos;, &apos;Ecchi&apos;, &apos;Fantasy&apos;]</td><td>tv</td><td>7.8878</td></tr><tr><th>2</th><td>32843</td><td>Senki Zesshou Symphogear XV</td><td>[&apos;Action&apos;, &apos;Music&apos;, &apos;Sci-Fi&apos;]</td><td>tv</td><td>7.85734</td></tr><tr><th>3</th><td>2921</td><td>Ashita no Joe 2</td><td>[&apos;Action&apos;, &apos;Drama&apos;, &apos;Shounen&apos;, &apos;Slice of Life&apos;, &apos;Sports&apos;]</td><td>tv</td><td>7.69286</td></tr><tr><th>4</th><td>42587</td><td>Yuuki Yuuna wa Yuusha de Aru: Dai Mankai no Shou</td><td>[&apos;Drama&apos;, &apos;Fantasy&apos;, &apos;Slice of Life&apos;]</td><td>tv</td><td>7.68312</td></tr><tr><th>5</th><td>38524</td><td>Shingeki no Kyojin Season 3 Part 2</td><td>[&apos;Action&apos;, &apos;Drama&apos;, &apos;Fantasy&apos;, &apos;Military&apos;, &apos;Mystery&apos;, &apos;Shounen&apos;, &apos;Super Power&apos;]</td><td>tv</td><td>7.65835</td></tr><tr><th>6</th><td>40028</td><td>Shingeki no Kyojin: The Final Season</td><td>[&apos;Action&apos;, &apos;Drama&apos;, &apos;Fantasy&apos;, &apos;Military&apos;, &apos;Mystery&apos;, &apos;Shounen&apos;, &apos;Super Power&apos;]</td><td>tv</td><td>7.54773</td></tr><tr><th>7</th><td>41169</td><td>Love Live! Superstar!!</td><td>[&apos;Music&apos;, &apos;School&apos;, &apos;Slice of Life&apos;]</td><td>tv</td><td>7.46555</td></tr><tr><th>8</th><td>19111</td><td>Love Live! School Idol Project 2nd Season</td><td>[&apos;Music&apos;, &apos;School&apos;, &apos;Slice of Life&apos;]</td><td>tv</td><td>7.44008</td></tr><tr><th>9</th><td>11061</td><td>Hunter x Hunter (2011)</td><td>[&apos;Action&apos;, &apos;Adventure&apos;, &apos;Fantasy&apos;, &apos;Shounen&apos;, &apos;Super Power&apos;]</td><td>tv</td><td>7.43426</td></tr><tr><th>10</th><td>3750</td><td>Maria-sama ga Miteru 4th</td><td>[&apos;Girls Love&apos;, &apos;School&apos;, &apos;Shoujo&apos;, &apos;Slice of Life&apos;]</td><td>tv</td><td>7.42854</td></tr><tr><th>11</th><td>28891</td><td>Haikyuu!! Second Season</td><td>[&apos;Comedy&apos;, &apos;Drama&apos;, &apos;School&apos;, &apos;Shounen&apos;, &apos;Sports&apos;]</td><td>tv</td><td>7.42335</td></tr><tr><th>12</th><td>39808</td><td>Non Non Biyori Nonstop</td><td>[&apos;Comedy&apos;, &apos;Seinen&apos;, &apos;Slice of Life&apos;]</td><td>tv</td><td>7.40772</td></tr><tr><th>13</th><td>32935</td><td>Haikyuu!!: Karasuno Koukou vs. Shiratorizawa Gakuen Koukou</td><td>[&apos;Comedy&apos;, &apos;Drama&apos;, &apos;School&apos;, &apos;Shounen&apos;, &apos;Sports&apos;]</td><td>tv</td><td>7.34564</td></tr><tr><th>14</th><td>34973</td><td>Love Live! Sunshine!! 2nd Season</td><td>[&apos;Music&apos;, &apos;School&apos;, &apos;Slice of Life&apos;]</td><td>tv</td><td>7.34315</td></tr><tr><th>15</th><td>1530</td><td>Kanon (2006)</td><td>[&apos;Drama&apos;, &apos;Romance&apos;, &apos;Slice of Life&apos;, &apos;Supernatural&apos;]</td><td>tv</td><td>7.333</td></tr><tr><th>16</th><td>37870</td><td>BanG Dream! 3rd Season</td><td>[&apos;Music&apos;]</td><td>tv</td><td>7.32757</td></tr><tr><th>17</th><td>31988</td><td>Hibike! Euphonium 2</td><td>[&apos;Drama&apos;, &apos;Music&apos;, &apos;School&apos;]</td><td>tv</td><td>7.32006</td></tr><tr><th>18</th><td>42941</td><td>Uma Musume: Pretty Derby (TV) Season 2</td><td>[&apos;Comedy&apos;, &apos;Slice of Life&apos;, &apos;Sports&apos;]</td><td>tv</td><td>7.27525</td></tr><tr><th>19</th><td>5114</td><td>Fullmetal Alchemist: Brotherhood</td><td>[&apos;Action&apos;, &apos;Adventure&apos;, &apos;Comedy&apos;, &apos;Drama&apos;, &apos;Fantasy&apos;, &apos;Military&apos;, &apos;Shounen&apos;]</td><td>tv</td><td>7.24755</td></tr><tr><th>20</th><td>11239</td><td>Hidamari Sketch x Honeycomb</td><td>[&apos;Comedy&apos;, &apos;School&apos;, &apos;Seinen&apos;, &apos;Slice of Life&apos;]</td><td>tv</td><td>7.24565</td></tr><tr><th>21</th><td>32526</td><td>Love Live! Sunshine!!</td><td>[&apos;Music&apos;, &apos;School&apos;, &apos;Slice of Life&apos;]</td><td>tv</td><td>7.245</td></tr><tr><th>22</th><td>25835</td><td>Shirobako</td><td>[&apos;Comedy&apos;, &apos;Drama&apos;]</td><td>tv</td><td>7.22318</td></tr><tr><th>23</th><td>32836</td><td>Senki Zesshou Symphogear AXZ</td><td>[&apos;Action&apos;, &apos;Music&apos;, &apos;Sci-Fi&apos;]</td><td>tv</td><td>7.21737</td></tr><tr><th>24</th><td>23623</td><td>Non Non Biyori Repeat</td><td>[&apos;Comedy&apos;, &apos;School&apos;, &apos;Seinen&apos;, &apos;Slice of Life&apos;]</td><td>tv</td><td>7.21045</td></tr><tr><th>25</th><td>7062</td><td>Hidamari Sketch x ☆☆☆</td><td>[&apos;Comedy&apos;, &apos;School&apos;, &apos;Seinen&apos;, &apos;Slice of Life&apos;]</td><td>tv</td><td>7.17037</td></tr><tr><th>26</th><td>877</td><td>Nana</td><td>[&apos;Comedy&apos;, &apos;Drama&apos;, &apos;Music&apos;, &apos;Romance&apos;, &apos;Shoujo&apos;, &apos;Slice of Life&apos;]</td><td>tv</td><td>7.16743</td></tr><tr><th>27</th><td>5941</td><td>Cross Game</td><td>[&apos;Comedy&apos;, &apos;Drama&apos;, &apos;Romance&apos;, &apos;School&apos;, &apos;Shounen&apos;, &apos;Sports&apos;]</td><td>tv</td><td>7.15359</td></tr><tr><th>28</th><td>38474</td><td>Yuru Camp△ Season 2</td><td>[&apos;Comedy&apos;, &apos;Slice of Life&apos;]</td><td>tv</td><td>7.13889</td></tr><tr><th>29</th><td>1065</td><td>Touch</td><td>[&apos;Drama&apos;, &apos;Romance&apos;, &apos;School&apos;, &apos;Shounen&apos;, &apos;Slice of Life&apos;, &apos;Sports&apos;]</td><td>tv</td><td>7.13691</td></tr><tr><th>30</th><td>3002</td><td>Gyakkyou Burai Kaiji: Ultimate Survivor</td><td>[&apos;Game&apos;, &apos;Psychological&apos;, &apos;Seinen&apos;, &apos;Suspense&apos;]</td><td>tv</td><td>7.0996</td></tr><tr><th>&vellip;</th><td>&vellip;</td><td>&vellip;</td><td>&vellip;</td><td>&vellip;</td><td>&vellip;</td></tr></tbody></table></div>"
      ],
      "text/latex": [
       "\\begin{tabular}{r|ccccc}\n",
       "\t& anime\\_id & title & genres & medium & rating\\\\\n",
       "\t\\hline\n",
       "\t& Int64 & String & String & String7 & Float64\\\\\n",
       "\t\\hline\n",
       "\t1 & 45576 & Mushoku Tensei: Isekai Ittara Honki Dasu Part 2 & ['Drama', 'Ecchi', 'Fantasy'] & tv & 7.8878 \\\\\n",
       "\t2 & 32843 & Senki Zesshou Symphogear XV & ['Action', 'Music', 'Sci-Fi'] & tv & 7.85734 \\\\\n",
       "\t3 & 2921 & Ashita no Joe 2 & ['Action', 'Drama', 'Shounen', 'Slice of Life', 'Sports'] & tv & 7.69286 \\\\\n",
       "\t4 & 42587 & Yuuki Yuuna wa Yuusha de Aru: Dai Mankai no Shou & ['Drama', 'Fantasy', 'Slice of Life'] & tv & 7.68312 \\\\\n",
       "\t5 & 38524 & Shingeki no Kyojin Season 3 Part 2 & ['Action', 'Drama', 'Fantasy', 'Military', 'Mystery', 'Shounen', 'Super Power'] & tv & 7.65835 \\\\\n",
       "\t6 & 40028 & Shingeki no Kyojin: The Final Season & ['Action', 'Drama', 'Fantasy', 'Military', 'Mystery', 'Shounen', 'Super Power'] & tv & 7.54773 \\\\\n",
       "\t7 & 41169 & Love Live! Superstar!! & ['Music', 'School', 'Slice of Life'] & tv & 7.46555 \\\\\n",
       "\t8 & 19111 & Love Live! School Idol Project 2nd Season & ['Music', 'School', 'Slice of Life'] & tv & 7.44008 \\\\\n",
       "\t9 & 11061 & Hunter x Hunter (2011) & ['Action', 'Adventure', 'Fantasy', 'Shounen', 'Super Power'] & tv & 7.43426 \\\\\n",
       "\t10 & 3750 & Maria-sama ga Miteru 4th & ['Girls Love', 'School', 'Shoujo', 'Slice of Life'] & tv & 7.42854 \\\\\n",
       "\t11 & 28891 & Haikyuu!! Second Season & ['Comedy', 'Drama', 'School', 'Shounen', 'Sports'] & tv & 7.42335 \\\\\n",
       "\t12 & 39808 & Non Non Biyori Nonstop & ['Comedy', 'Seinen', 'Slice of Life'] & tv & 7.40772 \\\\\n",
       "\t13 & 32935 & Haikyuu!!: Karasuno Koukou vs. Shiratorizawa Gakuen Koukou & ['Comedy', 'Drama', 'School', 'Shounen', 'Sports'] & tv & 7.34564 \\\\\n",
       "\t14 & 34973 & Love Live! Sunshine!! 2nd Season & ['Music', 'School', 'Slice of Life'] & tv & 7.34315 \\\\\n",
       "\t15 & 1530 & Kanon (2006) & ['Drama', 'Romance', 'Slice of Life', 'Supernatural'] & tv & 7.333 \\\\\n",
       "\t16 & 37870 & BanG Dream! 3rd Season & ['Music'] & tv & 7.32757 \\\\\n",
       "\t17 & 31988 & Hibike! Euphonium 2 & ['Drama', 'Music', 'School'] & tv & 7.32006 \\\\\n",
       "\t18 & 42941 & Uma Musume: Pretty Derby (TV) Season 2 & ['Comedy', 'Slice of Life', 'Sports'] & tv & 7.27525 \\\\\n",
       "\t19 & 5114 & Fullmetal Alchemist: Brotherhood & ['Action', 'Adventure', 'Comedy', 'Drama', 'Fantasy', 'Military', 'Shounen'] & tv & 7.24755 \\\\\n",
       "\t20 & 11239 & Hidamari Sketch x Honeycomb & ['Comedy', 'School', 'Seinen', 'Slice of Life'] & tv & 7.24565 \\\\\n",
       "\t21 & 32526 & Love Live! Sunshine!! & ['Music', 'School', 'Slice of Life'] & tv & 7.245 \\\\\n",
       "\t22 & 25835 & Shirobako & ['Comedy', 'Drama'] & tv & 7.22318 \\\\\n",
       "\t23 & 32836 & Senki Zesshou Symphogear AXZ & ['Action', 'Music', 'Sci-Fi'] & tv & 7.21737 \\\\\n",
       "\t24 & 23623 & Non Non Biyori Repeat & ['Comedy', 'School', 'Seinen', 'Slice of Life'] & tv & 7.21045 \\\\\n",
       "\t25 & 7062 & Hidamari Sketch x ☆☆☆ & ['Comedy', 'School', 'Seinen', 'Slice of Life'] & tv & 7.17037 \\\\\n",
       "\t26 & 877 & Nana & ['Comedy', 'Drama', 'Music', 'Romance', 'Shoujo', 'Slice of Life'] & tv & 7.16743 \\\\\n",
       "\t27 & 5941 & Cross Game & ['Comedy', 'Drama', 'Romance', 'School', 'Shounen', 'Sports'] & tv & 7.15359 \\\\\n",
       "\t28 & 38474 & Yuru Camp△ Season 2 & ['Comedy', 'Slice of Life'] & tv & 7.13889 \\\\\n",
       "\t29 & 1065 & Touch & ['Drama', 'Romance', 'School', 'Shounen', 'Slice of Life', 'Sports'] & tv & 7.13691 \\\\\n",
       "\t30 & 3002 & Gyakkyou Burai Kaiji: Ultimate Survivor & ['Game', 'Psychological', 'Seinen', 'Suspense'] & tv & 7.0996 \\\\\n",
       "\t$\\dots$ & $\\dots$ & $\\dots$ & $\\dots$ & $\\dots$ & $\\dots$ \\\\\n",
       "\\end{tabular}\n"
      ],
      "text/plain": [
       "\u001b[1m5221×5 DataFrame\u001b[0m\n",
       "\u001b[1m  Row \u001b[0m│\u001b[1m anime_id \u001b[0m\u001b[1m title                             \u001b[0m\u001b[1m genres                            \u001b[0m\u001b[1m medium  \u001b[0m\u001b[1m rating  \u001b[0m\n",
       "\u001b[1m      \u001b[0m│\u001b[90m Int64    \u001b[0m\u001b[90m String                            \u001b[0m\u001b[90m String                            \u001b[0m\u001b[90m String7 \u001b[0m\u001b[90m Float64 \u001b[0m\n",
       "──────┼──────────────────────────────────────────────────────────────────────────────────────────────────\n",
       "    1 │    45576  Mushoku Tensei: Isekai Ittara Ho…  ['Drama', 'Ecchi', 'Fantasy']      tv       7.8878\n",
       "    2 │    32843  Senki Zesshou Symphogear XV        ['Action', 'Music', 'Sci-Fi']      tv       7.85734\n",
       "    3 │     2921  Ashita no Joe 2                    ['Action', 'Drama', 'Shounen', '…  tv       7.69286\n",
       "    4 │    42587  Yuuki Yuuna wa Yuusha de Aru: Da…  ['Drama', 'Fantasy', 'Slice of L…  tv       7.68312\n",
       "    5 │    38524  Shingeki no Kyojin Season 3 Part…  ['Action', 'Drama', 'Fantasy', '…  tv       7.65835\n",
       "    6 │    40028  Shingeki no Kyojin: The Final Se…  ['Action', 'Drama', 'Fantasy', '…  tv       7.54773\n",
       "    7 │    41169  Love Live! Superstar!!             ['Music', 'School', 'Slice of Li…  tv       7.46555\n",
       "    8 │    19111  Love Live! School Idol Project 2…  ['Music', 'School', 'Slice of Li…  tv       7.44008\n",
       "    9 │    11061  Hunter x Hunter (2011)             ['Action', 'Adventure', 'Fantasy…  tv       7.43426\n",
       "   10 │     3750  Maria-sama ga Miteru 4th           ['Girls Love', 'School', 'Shoujo…  tv       7.42854\n",
       "   11 │    28891  Haikyuu!! Second Season            ['Comedy', 'Drama', 'School', 'S…  tv       7.42335\n",
       "  ⋮   │    ⋮                      ⋮                                  ⋮                     ⋮        ⋮\n",
       " 5212 │    25867  Rolling☆Girls                      ['Action', 'Adventure', 'Slice o…  tv       0.0\n",
       " 5213 │    25939  Mahou Shoujo Lyrical Nanoha ViVid  ['Action', 'Adventure', 'Martial…  tv       0.0\n",
       " 5214 │    28735  Shouwa Genroku Rakugo Shinjuu      ['Drama', 'Historical', 'Josei']   tv       0.0\n",
       " 5215 │    31043  Boku dake ga Inai Machi            ['Mystery', 'Psychological', 'Se…  tv       0.0\n",
       " 5216 │    31240  Re:Zero kara Hajimeru Isekai Sei…  ['Drama', 'Fantasy', 'Psychologi…  tv       0.0\n",
       " 5217 │    31376  Flying Witch                       ['Comedy', 'Shounen', 'Slice of …  tv       0.0\n",
       " 5218 │    31646  3-gatsu no Lion                    ['Drama', 'Game', 'Seinen', 'Sli…  tv       0.0\n",
       " 5219 │    31764  Nejimaki Seirei Senki: Tenkyou n…  ['Action', 'Adventure', 'Fantasy…  tv       0.0\n",
       " 5220 │    31953  New Game!                          ['Comedy', 'Game', 'Slice of Lif…  tv       0.0\n",
       " 5221 │    31964  Boku no Hero Academia              ['Action', 'Comedy', 'School', '…  tv       0.0\n",
       "\u001b[36m                                                                                        5200 rows omitted\u001b[0m"
      ]
     },
     "execution_count": 7,
     "metadata": {},
     "output_type": "execute_result"
    }
   ],
   "source": [
    "rec_df = innerjoin(anime_to_uid, rating_df, on = \"uid\");\n",
    "rec_df = rec_df[:, [\"anime_id\", \"title\", \"genres\", \"medium\", \"rating\"]];\n",
    "filter(x -> x.medium == \"tv\", sort!(rec_df, :rating, rev = true))"
   ]
  },
  {
   "cell_type": "code",
   "execution_count": 7,
   "id": "7a9461eb-2f0a-4583-bbb5-71306738dbf4",
   "metadata": {
    "tags": []
   },
   "outputs": [
    {
     "data": {
      "text/html": [
       "<div class=\"data-frame\"><p>5,221 rows × 5 columns</p><table class=\"data-frame\"><thead><tr><th></th><th>anime_id</th><th>title</th><th>genres</th><th>medium</th><th>rating</th></tr><tr><th></th><th title=\"Int64\">Int64</th><th title=\"String\">String</th><th title=\"String\">String</th><th title=\"String7\">String7</th><th title=\"Float64\">Float64</th></tr></thead><tbody><tr><th>1</th><td>32843</td><td>Senki Zesshou Symphogear XV</td><td>[&apos;Action&apos;, &apos;Music&apos;, &apos;Sci-Fi&apos;]</td><td>tv</td><td>7.85724</td></tr><tr><th>2</th><td>42587</td><td>Yuuki Yuuna wa Yuusha de Aru: Dai Mankai no Shou</td><td>[&apos;Drama&apos;, &apos;Fantasy&apos;, &apos;Slice of Life&apos;]</td><td>tv</td><td>7.75105</td></tr><tr><th>3</th><td>45576</td><td>Mushoku Tensei: Isekai Ittara Honki Dasu Part 2</td><td>[&apos;Drama&apos;, &apos;Ecchi&apos;, &apos;Fantasy&apos;]</td><td>tv</td><td>7.70775</td></tr><tr><th>4</th><td>38524</td><td>Shingeki no Kyojin Season 3 Part 2</td><td>[&apos;Action&apos;, &apos;Drama&apos;, &apos;Fantasy&apos;, &apos;Military&apos;, &apos;Mystery&apos;, &apos;Shounen&apos;, &apos;Super Power&apos;]</td><td>tv</td><td>7.70673</td></tr><tr><th>5</th><td>2921</td><td>Ashita no Joe 2</td><td>[&apos;Action&apos;, &apos;Drama&apos;, &apos;Shounen&apos;, &apos;Slice of Life&apos;, &apos;Sports&apos;]</td><td>tv</td><td>7.7061</td></tr><tr><th>6</th><td>40028</td><td>Shingeki no Kyojin: The Final Season</td><td>[&apos;Action&apos;, &apos;Drama&apos;, &apos;Fantasy&apos;, &apos;Military&apos;, &apos;Mystery&apos;, &apos;Shounen&apos;, &apos;Super Power&apos;]</td><td>tv</td><td>7.70556</td></tr><tr><th>7</th><td>19111</td><td>Love Live! School Idol Project 2nd Season</td><td>[&apos;Music&apos;, &apos;School&apos;, &apos;Slice of Life&apos;]</td><td>tv</td><td>7.53298</td></tr><tr><th>8</th><td>11061</td><td>Hunter x Hunter (2011)</td><td>[&apos;Action&apos;, &apos;Adventure&apos;, &apos;Fantasy&apos;, &apos;Shounen&apos;, &apos;Super Power&apos;]</td><td>tv</td><td>7.48605</td></tr><tr><th>9</th><td>3750</td><td>Maria-sama ga Miteru 4th</td><td>[&apos;Girls Love&apos;, &apos;School&apos;, &apos;Shoujo&apos;, &apos;Slice of Life&apos;]</td><td>tv</td><td>7.40074</td></tr><tr><th>10</th><td>1530</td><td>Kanon (2006)</td><td>[&apos;Drama&apos;, &apos;Romance&apos;, &apos;Slice of Life&apos;, &apos;Supernatural&apos;]</td><td>tv</td><td>7.36852</td></tr><tr><th>11</th><td>32935</td><td>Haikyuu!!: Karasuno Koukou vs. Shiratorizawa Gakuen Koukou</td><td>[&apos;Comedy&apos;, &apos;Drama&apos;, &apos;School&apos;, &apos;Shounen&apos;, &apos;Sports&apos;]</td><td>tv</td><td>7.32988</td></tr><tr><th>12</th><td>5114</td><td>Fullmetal Alchemist: Brotherhood</td><td>[&apos;Action&apos;, &apos;Adventure&apos;, &apos;Comedy&apos;, &apos;Drama&apos;, &apos;Fantasy&apos;, &apos;Military&apos;, &apos;Shounen&apos;]</td><td>tv</td><td>7.29153</td></tr><tr><th>13</th><td>32836</td><td>Senki Zesshou Symphogear AXZ</td><td>[&apos;Action&apos;, &apos;Music&apos;, &apos;Sci-Fi&apos;]</td><td>tv</td><td>7.27806</td></tr><tr><th>14</th><td>34973</td><td>Love Live! Sunshine!! 2nd Season</td><td>[&apos;Music&apos;, &apos;School&apos;, &apos;Slice of Life&apos;]</td><td>tv</td><td>7.25651</td></tr><tr><th>15</th><td>31988</td><td>Hibike! Euphonium 2</td><td>[&apos;Drama&apos;, &apos;Music&apos;, &apos;School&apos;]</td><td>tv</td><td>7.24399</td></tr><tr><th>16</th><td>11239</td><td>Hidamari Sketch x Honeycomb</td><td>[&apos;Comedy&apos;, &apos;School&apos;, &apos;Seinen&apos;, &apos;Slice of Life&apos;]</td><td>tv</td><td>7.23863</td></tr><tr><th>17</th><td>39808</td><td>Non Non Biyori Nonstop</td><td>[&apos;Comedy&apos;, &apos;Seinen&apos;, &apos;Slice of Life&apos;]</td><td>tv</td><td>7.23581</td></tr><tr><th>18</th><td>41169</td><td>Love Live! Superstar!!</td><td>[&apos;Music&apos;, &apos;School&apos;, &apos;Slice of Life&apos;]</td><td>tv</td><td>7.22996</td></tr><tr><th>19</th><td>5941</td><td>Cross Game</td><td>[&apos;Comedy&apos;, &apos;Drama&apos;, &apos;Romance&apos;, &apos;School&apos;, &apos;Shounen&apos;, &apos;Sports&apos;]</td><td>tv</td><td>7.21791</td></tr><tr><th>20</th><td>28891</td><td>Haikyuu!! Second Season</td><td>[&apos;Comedy&apos;, &apos;Drama&apos;, &apos;School&apos;, &apos;Shounen&apos;, &apos;Sports&apos;]</td><td>tv</td><td>7.21441</td></tr><tr><th>21</th><td>37870</td><td>BanG Dream! 3rd Season</td><td>[&apos;Music&apos;]</td><td>tv</td><td>7.20822</td></tr><tr><th>22</th><td>32526</td><td>Love Live! Sunshine!!</td><td>[&apos;Music&apos;, &apos;School&apos;, &apos;Slice of Life&apos;]</td><td>tv</td><td>7.18498</td></tr><tr><th>23</th><td>7062</td><td>Hidamari Sketch x ☆☆☆</td><td>[&apos;Comedy&apos;, &apos;School&apos;, &apos;Seinen&apos;, &apos;Slice of Life&apos;]</td><td>tv</td><td>7.15922</td></tr><tr><th>24</th><td>40834</td><td>Ousama Ranking</td><td>[&apos;Adventure&apos;, &apos;Fantasy&apos;]</td><td>tv</td><td>7.15283</td></tr><tr><th>25</th><td>42941</td><td>Uma Musume: Pretty Derby (TV) Season 2</td><td>[&apos;Comedy&apos;, &apos;Slice of Life&apos;, &apos;Sports&apos;]</td><td>tv</td><td>7.13337</td></tr><tr><th>26</th><td>23623</td><td>Non Non Biyori Repeat</td><td>[&apos;Comedy&apos;, &apos;School&apos;, &apos;Seinen&apos;, &apos;Slice of Life&apos;]</td><td>tv</td><td>7.10575</td></tr><tr><th>27</th><td>1065</td><td>Touch</td><td>[&apos;Drama&apos;, &apos;Romance&apos;, &apos;School&apos;, &apos;Shounen&apos;, &apos;Slice of Life&apos;, &apos;Sports&apos;]</td><td>tv</td><td>7.09692</td></tr><tr><th>28</th><td>39592</td><td>Mobile Suit Gundam: The Origin - Advent of the Red Comet</td><td>[&apos;Action&apos;, &apos;Mecha&apos;, &apos;Military&apos;, &apos;Sci-Fi&apos;, &apos;Shounen&apos;, &apos;Space&apos;]</td><td>tv</td><td>7.09469</td></tr><tr><th>29</th><td>877</td><td>Nana</td><td>[&apos;Comedy&apos;, &apos;Drama&apos;, &apos;Music&apos;, &apos;Romance&apos;, &apos;Shoujo&apos;, &apos;Slice of Life&apos;]</td><td>tv</td><td>7.09043</td></tr><tr><th>30</th><td>38474</td><td>Yuru Camp△ Season 2</td><td>[&apos;Comedy&apos;, &apos;Slice of Life&apos;]</td><td>tv</td><td>7.0732</td></tr><tr><th>&vellip;</th><td>&vellip;</td><td>&vellip;</td><td>&vellip;</td><td>&vellip;</td><td>&vellip;</td></tr></tbody></table></div>"
      ],
      "text/latex": [
       "\\begin{tabular}{r|ccccc}\n",
       "\t& anime\\_id & title & genres & medium & rating\\\\\n",
       "\t\\hline\n",
       "\t& Int64 & String & String & String7 & Float64\\\\\n",
       "\t\\hline\n",
       "\t1 & 32843 & Senki Zesshou Symphogear XV & ['Action', 'Music', 'Sci-Fi'] & tv & 7.85724 \\\\\n",
       "\t2 & 42587 & Yuuki Yuuna wa Yuusha de Aru: Dai Mankai no Shou & ['Drama', 'Fantasy', 'Slice of Life'] & tv & 7.75105 \\\\\n",
       "\t3 & 45576 & Mushoku Tensei: Isekai Ittara Honki Dasu Part 2 & ['Drama', 'Ecchi', 'Fantasy'] & tv & 7.70775 \\\\\n",
       "\t4 & 38524 & Shingeki no Kyojin Season 3 Part 2 & ['Action', 'Drama', 'Fantasy', 'Military', 'Mystery', 'Shounen', 'Super Power'] & tv & 7.70673 \\\\\n",
       "\t5 & 2921 & Ashita no Joe 2 & ['Action', 'Drama', 'Shounen', 'Slice of Life', 'Sports'] & tv & 7.7061 \\\\\n",
       "\t6 & 40028 & Shingeki no Kyojin: The Final Season & ['Action', 'Drama', 'Fantasy', 'Military', 'Mystery', 'Shounen', 'Super Power'] & tv & 7.70556 \\\\\n",
       "\t7 & 19111 & Love Live! School Idol Project 2nd Season & ['Music', 'School', 'Slice of Life'] & tv & 7.53298 \\\\\n",
       "\t8 & 11061 & Hunter x Hunter (2011) & ['Action', 'Adventure', 'Fantasy', 'Shounen', 'Super Power'] & tv & 7.48605 \\\\\n",
       "\t9 & 3750 & Maria-sama ga Miteru 4th & ['Girls Love', 'School', 'Shoujo', 'Slice of Life'] & tv & 7.40074 \\\\\n",
       "\t10 & 1530 & Kanon (2006) & ['Drama', 'Romance', 'Slice of Life', 'Supernatural'] & tv & 7.36852 \\\\\n",
       "\t11 & 32935 & Haikyuu!!: Karasuno Koukou vs. Shiratorizawa Gakuen Koukou & ['Comedy', 'Drama', 'School', 'Shounen', 'Sports'] & tv & 7.32988 \\\\\n",
       "\t12 & 5114 & Fullmetal Alchemist: Brotherhood & ['Action', 'Adventure', 'Comedy', 'Drama', 'Fantasy', 'Military', 'Shounen'] & tv & 7.29153 \\\\\n",
       "\t13 & 32836 & Senki Zesshou Symphogear AXZ & ['Action', 'Music', 'Sci-Fi'] & tv & 7.27806 \\\\\n",
       "\t14 & 34973 & Love Live! Sunshine!! 2nd Season & ['Music', 'School', 'Slice of Life'] & tv & 7.25651 \\\\\n",
       "\t15 & 31988 & Hibike! Euphonium 2 & ['Drama', 'Music', 'School'] & tv & 7.24399 \\\\\n",
       "\t16 & 11239 & Hidamari Sketch x Honeycomb & ['Comedy', 'School', 'Seinen', 'Slice of Life'] & tv & 7.23863 \\\\\n",
       "\t17 & 39808 & Non Non Biyori Nonstop & ['Comedy', 'Seinen', 'Slice of Life'] & tv & 7.23581 \\\\\n",
       "\t18 & 41169 & Love Live! Superstar!! & ['Music', 'School', 'Slice of Life'] & tv & 7.22996 \\\\\n",
       "\t19 & 5941 & Cross Game & ['Comedy', 'Drama', 'Romance', 'School', 'Shounen', 'Sports'] & tv & 7.21791 \\\\\n",
       "\t20 & 28891 & Haikyuu!! Second Season & ['Comedy', 'Drama', 'School', 'Shounen', 'Sports'] & tv & 7.21441 \\\\\n",
       "\t21 & 37870 & BanG Dream! 3rd Season & ['Music'] & tv & 7.20822 \\\\\n",
       "\t22 & 32526 & Love Live! Sunshine!! & ['Music', 'School', 'Slice of Life'] & tv & 7.18498 \\\\\n",
       "\t23 & 7062 & Hidamari Sketch x ☆☆☆ & ['Comedy', 'School', 'Seinen', 'Slice of Life'] & tv & 7.15922 \\\\\n",
       "\t24 & 40834 & Ousama Ranking & ['Adventure', 'Fantasy'] & tv & 7.15283 \\\\\n",
       "\t25 & 42941 & Uma Musume: Pretty Derby (TV) Season 2 & ['Comedy', 'Slice of Life', 'Sports'] & tv & 7.13337 \\\\\n",
       "\t26 & 23623 & Non Non Biyori Repeat & ['Comedy', 'School', 'Seinen', 'Slice of Life'] & tv & 7.10575 \\\\\n",
       "\t27 & 1065 & Touch & ['Drama', 'Romance', 'School', 'Shounen', 'Slice of Life', 'Sports'] & tv & 7.09692 \\\\\n",
       "\t28 & 39592 & Mobile Suit Gundam: The Origin - Advent of the Red Comet & ['Action', 'Mecha', 'Military', 'Sci-Fi', 'Shounen', 'Space'] & tv & 7.09469 \\\\\n",
       "\t29 & 877 & Nana & ['Comedy', 'Drama', 'Music', 'Romance', 'Shoujo', 'Slice of Life'] & tv & 7.09043 \\\\\n",
       "\t30 & 38474 & Yuru Camp△ Season 2 & ['Comedy', 'Slice of Life'] & tv & 7.0732 \\\\\n",
       "\t$\\dots$ & $\\dots$ & $\\dots$ & $\\dots$ & $\\dots$ & $\\dots$ \\\\\n",
       "\\end{tabular}\n"
      ],
      "text/plain": [
       "\u001b[1m5221×5 DataFrame\u001b[0m\n",
       "\u001b[1m  Row \u001b[0m│\u001b[1m anime_id \u001b[0m\u001b[1m title                             \u001b[0m\u001b[1m genres                            \u001b[0m\u001b[1m medium  \u001b[0m\u001b[1m rating  \u001b[0m\n",
       "\u001b[1m      \u001b[0m│\u001b[90m Int64    \u001b[0m\u001b[90m String                            \u001b[0m\u001b[90m String                            \u001b[0m\u001b[90m String7 \u001b[0m\u001b[90m Float64 \u001b[0m\n",
       "──────┼──────────────────────────────────────────────────────────────────────────────────────────────────\n",
       "    1 │    32843  Senki Zesshou Symphogear XV        ['Action', 'Music', 'Sci-Fi']      tv       7.85724\n",
       "    2 │    42587  Yuuki Yuuna wa Yuusha de Aru: Da…  ['Drama', 'Fantasy', 'Slice of L…  tv       7.75105\n",
       "    3 │    45576  Mushoku Tensei: Isekai Ittara Ho…  ['Drama', 'Ecchi', 'Fantasy']      tv       7.70775\n",
       "    4 │    38524  Shingeki no Kyojin Season 3 Part…  ['Action', 'Drama', 'Fantasy', '…  tv       7.70673\n",
       "    5 │     2921  Ashita no Joe 2                    ['Action', 'Drama', 'Shounen', '…  tv       7.7061\n",
       "    6 │    40028  Shingeki no Kyojin: The Final Se…  ['Action', 'Drama', 'Fantasy', '…  tv       7.70556\n",
       "    7 │    19111  Love Live! School Idol Project 2…  ['Music', 'School', 'Slice of Li…  tv       7.53298\n",
       "    8 │    11061  Hunter x Hunter (2011)             ['Action', 'Adventure', 'Fantasy…  tv       7.48605\n",
       "    9 │     3750  Maria-sama ga Miteru 4th           ['Girls Love', 'School', 'Shoujo…  tv       7.40074\n",
       "   10 │     1530  Kanon (2006)                       ['Drama', 'Romance', 'Slice of L…  tv       7.36852\n",
       "   11 │    32935  Haikyuu!!: Karasuno Koukou vs. S…  ['Comedy', 'Drama', 'School', 'S…  tv       7.32988\n",
       "  ⋮   │    ⋮                      ⋮                                  ⋮                     ⋮        ⋮\n",
       " 5212 │    25867  Rolling☆Girls                      ['Action', 'Adventure', 'Slice o…  tv       0.0\n",
       " 5213 │    25939  Mahou Shoujo Lyrical Nanoha ViVid  ['Action', 'Adventure', 'Martial…  tv       0.0\n",
       " 5214 │    28735  Shouwa Genroku Rakugo Shinjuu      ['Drama', 'Historical', 'Josei']   tv       0.0\n",
       " 5215 │    31043  Boku dake ga Inai Machi            ['Mystery', 'Psychological', 'Se…  tv       0.0\n",
       " 5216 │    31240  Re:Zero kara Hajimeru Isekai Sei…  ['Drama', 'Fantasy', 'Psychologi…  tv       0.0\n",
       " 5217 │    31376  Flying Witch                       ['Comedy', 'Shounen', 'Slice of …  tv       0.0\n",
       " 5218 │    31646  3-gatsu no Lion                    ['Drama', 'Game', 'Seinen', 'Sli…  tv       0.0\n",
       " 5219 │    31764  Nejimaki Seirei Senki: Tenkyou n…  ['Action', 'Adventure', 'Fantasy…  tv       0.0\n",
       " 5220 │    31953  New Game!                          ['Comedy', 'Game', 'Slice of Lif…  tv       0.0\n",
       " 5221 │    31964  Boku no Hero Academia              ['Action', 'Comedy', 'School', '…  tv       0.0\n",
       "\u001b[36m                                                                                        5200 rows omitted\u001b[0m"
      ]
     },
     "execution_count": 7,
     "metadata": {},
     "output_type": "execute_result"
    }
   ],
   "source": [
    "rec_df = innerjoin(anime_to_uid, rating_df, on = \"uid\");\n",
    "rec_df = rec_df[:, [\"anime_id\", \"title\", \"genres\", \"medium\", \"rating\"]];\n",
    "filter(x -> x.medium == \"tv\", sort!(rec_df, :rating, rev = true))"
   ]
  },
  {
   "cell_type": "code",
   "execution_count": 8,
   "id": "4805db5a-b8f6-42a0-a0b0-94fd50882fd5",
   "metadata": {},
   "outputs": [
    {
     "data": {
      "text/html": [
       "<div class=\"data-frame\"><p>16,973 rows × 5 columns</p><table class=\"data-frame\"><thead><tr><th></th><th>anime_id</th><th>title</th><th>genres</th><th>medium</th><th>rating</th></tr><tr><th></th><th title=\"Int64\">Int64</th><th title=\"String\">String</th><th title=\"String\">String</th><th title=\"String7\">String7</th><th title=\"Float64\">Float64</th></tr></thead><tbody><tr><th>1</th><td>34376</td><td>Yuuki Yuuna wa Yuusha de Aru: Washio Sumi no Shou 3 - Yakusoku</td><td>[&apos;Drama&apos;, &apos;Fantasy&apos;, &apos;Slice of Life&apos;]</td><td>movie</td><td>9.22151</td></tr><tr><th>2</th><td>34375</td><td>Yuuki Yuuna wa Yuusha de Aru: Washio Sumi no Shou 2 - Tamashii</td><td>[&apos;Drama&apos;, &apos;Fantasy&apos;, &apos;Slice of Life&apos;]</td><td>movie</td><td>8.95603</td></tr><tr><th>3</th><td>34374</td><td>Yuuki Yuuna wa Yuusha de Aru: Washio Sumi no Shou 1 - Tomodachi</td><td>[&apos;Drama&apos;, &apos;Fantasy&apos;, &apos;Slice of Life&apos;]</td><td>movie</td><td>8.69906</td></tr><tr><th>4</th><td>11979</td><td>Mahou Shoujo Madoka★Magica Movie 2: Eien no Monogatari</td><td>[&apos;Drama&apos;, &apos;Psychological&apos;, &apos;Suspense&apos;]</td><td>movie</td><td>8.47786</td></tr><tr><th>5</th><td>11977</td><td>Mahou Shoujo Madoka★Magica Movie 1: Hajimari no Monogatari</td><td>[&apos;Drama&apos;, &apos;Psychological&apos;, &apos;Suspense&apos;]</td><td>movie</td><td>8.43559</td></tr><tr><th>6</th><td>609</td><td>Saishuu Heiki Kanojo: Another Love Song</td><td>[&apos;Drama&apos;, &apos;Romance&apos;, &apos;Sci-Fi&apos;]</td><td>ova</td><td>8.35309</td></tr><tr><th>7</th><td>41674</td><td>Aria the Crepuscolo</td><td>[&apos;Fantasy&apos;, &apos;Sci-Fi&apos;, &apos;Shounen&apos;, &apos;Slice of Life&apos;]</td><td>movie</td><td>8.2125</td></tr><tr><th>8</th><td>29831</td><td>Tamayura: Sotsugyou Shashin Part 4 - Ashita</td><td>[&apos;Comedy&apos;, &apos;Drama&apos;, &apos;Slice of Life&apos;]</td><td>movie</td><td>8.02053</td></tr><tr><th>9</th><td>32843</td><td>Senki Zesshou Symphogear XV</td><td>[&apos;Action&apos;, &apos;Music&apos;, &apos;Sci-Fi&apos;]</td><td>tv</td><td>7.85724</td></tr><tr><th>10</th><td>42587</td><td>Yuuki Yuuna wa Yuusha de Aru: Dai Mankai no Shou</td><td>[&apos;Drama&apos;, &apos;Fantasy&apos;, &apos;Slice of Life&apos;]</td><td>tv</td><td>7.75105</td></tr><tr><th>11</th><td>45576</td><td>Mushoku Tensei: Isekai Ittara Honki Dasu Part 2</td><td>[&apos;Drama&apos;, &apos;Ecchi&apos;, &apos;Fantasy&apos;]</td><td>tv</td><td>7.70775</td></tr><tr><th>12</th><td>38524</td><td>Shingeki no Kyojin Season 3 Part 2</td><td>[&apos;Action&apos;, &apos;Drama&apos;, &apos;Fantasy&apos;, &apos;Military&apos;, &apos;Mystery&apos;, &apos;Shounen&apos;, &apos;Super Power&apos;]</td><td>tv</td><td>7.70673</td></tr><tr><th>13</th><td>2921</td><td>Ashita no Joe 2</td><td>[&apos;Action&apos;, &apos;Drama&apos;, &apos;Shounen&apos;, &apos;Slice of Life&apos;, &apos;Sports&apos;]</td><td>tv</td><td>7.7061</td></tr><tr><th>14</th><td>40028</td><td>Shingeki no Kyojin: The Final Season</td><td>[&apos;Action&apos;, &apos;Drama&apos;, &apos;Fantasy&apos;, &apos;Military&apos;, &apos;Mystery&apos;, &apos;Shounen&apos;, &apos;Super Power&apos;]</td><td>tv</td><td>7.70556</td></tr><tr><th>15</th><td>44042</td><td>Holo no Graffiti</td><td>[&apos;Comedy&apos;]</td><td>ona</td><td>7.70065</td></tr><tr><th>16</th><td>4565</td><td>Tengen Toppa Gurren Lagann Movie 2: Lagann-hen</td><td>[&apos;Action&apos;, &apos;Mecha&apos;, &apos;Sci-Fi&apos;, &apos;Space&apos;, &apos;Super Power&apos;]</td><td>movie</td><td>7.69493</td></tr><tr><th>17</th><td>9204</td><td>Omae Umasou da na</td><td>[&apos;Action&apos;, &apos;Adventure&apos;, &apos;Fantasy&apos;, &apos;Kids&apos;]</td><td>movie</td><td>7.60314</td></tr><tr><th>18</th><td>29829</td><td>Tamayura: Sotsugyou Shashin Part 2 - Hibiki</td><td>[&apos;Comedy&apos;, &apos;Drama&apos;, &apos;Slice of Life&apos;]</td><td>movie</td><td>7.60261</td></tr><tr><th>19</th><td>42984</td><td>Gotcha!</td><td>[&apos;Fantasy&apos;, &apos;Music&apos;]</td><td>music</td><td>7.59396</td></tr><tr><th>20</th><td>6862</td><td>K-On!: Live House!</td><td>[&apos;Comedy&apos;, &apos;Music&apos;, &apos;School&apos;, &apos;Slice of Life&apos;]</td><td>special</td><td>7.57705</td></tr><tr><th>21</th><td>4059</td><td>Clannad: Mou Hitotsu no Sekai, Tomoyo-hen</td><td>[&apos;Drama&apos;, &apos;Romance&apos;, &apos;School&apos;, &apos;Slice of Life&apos;]</td><td>special</td><td>7.55947</td></tr><tr><th>22</th><td>24997</td><td>Love Live! The School Idol Movie</td><td>[&apos;Music&apos;, &apos;School&apos;, &apos;Slice of Life&apos;]</td><td>movie</td><td>7.54903</td></tr><tr><th>23</th><td>17739</td><td>Hidamari Sketch: Sae Hiro Sotsugyou-hen</td><td>[&apos;Comedy&apos;, &apos;School&apos;, &apos;Seinen&apos;, &apos;Slice of Life&apos;]</td><td>ova</td><td>7.53863</td></tr><tr><th>24</th><td>19111</td><td>Love Live! School Idol Project 2nd Season</td><td>[&apos;Music&apos;, &apos;School&apos;, &apos;Slice of Life&apos;]</td><td>tv</td><td>7.53298</td></tr><tr><th>25</th><td>31</td><td>Neon Genesis Evangelion: Death &amp; Rebirth</td><td>[&apos;Drama&apos;, &apos;Mecha&apos;, &apos;Psychological&apos;, &apos;Sci-Fi&apos;]</td><td>movie</td><td>7.53036</td></tr><tr><th>26</th><td>9734</td><td>K-On!!: Keikaku!</td><td>[&apos;Comedy&apos;, &apos;Music&apos;, &apos;School&apos;, &apos;Slice of Life&apos;]</td><td>special</td><td>7.52144</td></tr><tr><th>27</th><td>38081</td><td>Girls &amp; Panzer: Saishuushou Part 2</td><td>[&apos;Military&apos;, &apos;School&apos;]</td><td>movie</td><td>7.51242</td></tr><tr><th>28</th><td>372</td><td>Cardcaptor Sakura Movie 2: Fuuin Sareta Card</td><td>[&apos;Comedy&apos;, &apos;Drama&apos;, &apos;Fantasy&apos;, &apos;Romance&apos;, &apos;Shoujo&apos;]</td><td>movie</td><td>7.51183</td></tr><tr><th>29</th><td>11061</td><td>Hunter x Hunter (2011)</td><td>[&apos;Action&apos;, &apos;Adventure&apos;, &apos;Fantasy&apos;, &apos;Shounen&apos;, &apos;Super Power&apos;]</td><td>tv</td><td>7.48605</td></tr><tr><th>30</th><td>29830</td><td>Tamayura: Sotsugyou Shashin Part 3 - Akogare</td><td>[&apos;Comedy&apos;, &apos;Drama&apos;, &apos;Slice of Life&apos;]</td><td>movie</td><td>7.48429</td></tr><tr><th>&vellip;</th><td>&vellip;</td><td>&vellip;</td><td>&vellip;</td><td>&vellip;</td><td>&vellip;</td></tr></tbody></table></div>"
      ],
      "text/latex": [
       "\\begin{tabular}{r|ccccc}\n",
       "\t& anime\\_id & title & genres & medium & rating\\\\\n",
       "\t\\hline\n",
       "\t& Int64 & String & String & String7 & Float64\\\\\n",
       "\t\\hline\n",
       "\t1 & 34376 & Yuuki Yuuna wa Yuusha de Aru: Washio Sumi no Shou 3 - Yakusoku & ['Drama', 'Fantasy', 'Slice of Life'] & movie & 9.22151 \\\\\n",
       "\t2 & 34375 & Yuuki Yuuna wa Yuusha de Aru: Washio Sumi no Shou 2 - Tamashii & ['Drama', 'Fantasy', 'Slice of Life'] & movie & 8.95603 \\\\\n",
       "\t3 & 34374 & Yuuki Yuuna wa Yuusha de Aru: Washio Sumi no Shou 1 - Tomodachi & ['Drama', 'Fantasy', 'Slice of Life'] & movie & 8.69906 \\\\\n",
       "\t4 & 11979 & Mahou Shoujo Madoka★Magica Movie 2: Eien no Monogatari & ['Drama', 'Psychological', 'Suspense'] & movie & 8.47786 \\\\\n",
       "\t5 & 11977 & Mahou Shoujo Madoka★Magica Movie 1: Hajimari no Monogatari & ['Drama', 'Psychological', 'Suspense'] & movie & 8.43559 \\\\\n",
       "\t6 & 609 & Saishuu Heiki Kanojo: Another Love Song & ['Drama', 'Romance', 'Sci-Fi'] & ova & 8.35309 \\\\\n",
       "\t7 & 41674 & Aria the Crepuscolo & ['Fantasy', 'Sci-Fi', 'Shounen', 'Slice of Life'] & movie & 8.2125 \\\\\n",
       "\t8 & 29831 & Tamayura: Sotsugyou Shashin Part 4 - Ashita & ['Comedy', 'Drama', 'Slice of Life'] & movie & 8.02053 \\\\\n",
       "\t9 & 32843 & Senki Zesshou Symphogear XV & ['Action', 'Music', 'Sci-Fi'] & tv & 7.85724 \\\\\n",
       "\t10 & 42587 & Yuuki Yuuna wa Yuusha de Aru: Dai Mankai no Shou & ['Drama', 'Fantasy', 'Slice of Life'] & tv & 7.75105 \\\\\n",
       "\t11 & 45576 & Mushoku Tensei: Isekai Ittara Honki Dasu Part 2 & ['Drama', 'Ecchi', 'Fantasy'] & tv & 7.70775 \\\\\n",
       "\t12 & 38524 & Shingeki no Kyojin Season 3 Part 2 & ['Action', 'Drama', 'Fantasy', 'Military', 'Mystery', 'Shounen', 'Super Power'] & tv & 7.70673 \\\\\n",
       "\t13 & 2921 & Ashita no Joe 2 & ['Action', 'Drama', 'Shounen', 'Slice of Life', 'Sports'] & tv & 7.7061 \\\\\n",
       "\t14 & 40028 & Shingeki no Kyojin: The Final Season & ['Action', 'Drama', 'Fantasy', 'Military', 'Mystery', 'Shounen', 'Super Power'] & tv & 7.70556 \\\\\n",
       "\t15 & 44042 & Holo no Graffiti & ['Comedy'] & ona & 7.70065 \\\\\n",
       "\t16 & 4565 & Tengen Toppa Gurren Lagann Movie 2: Lagann-hen & ['Action', 'Mecha', 'Sci-Fi', 'Space', 'Super Power'] & movie & 7.69493 \\\\\n",
       "\t17 & 9204 & Omae Umasou da na & ['Action', 'Adventure', 'Fantasy', 'Kids'] & movie & 7.60314 \\\\\n",
       "\t18 & 29829 & Tamayura: Sotsugyou Shashin Part 2 - Hibiki & ['Comedy', 'Drama', 'Slice of Life'] & movie & 7.60261 \\\\\n",
       "\t19 & 42984 & Gotcha! & ['Fantasy', 'Music'] & music & 7.59396 \\\\\n",
       "\t20 & 6862 & K-On!: Live House! & ['Comedy', 'Music', 'School', 'Slice of Life'] & special & 7.57705 \\\\\n",
       "\t21 & 4059 & Clannad: Mou Hitotsu no Sekai, Tomoyo-hen & ['Drama', 'Romance', 'School', 'Slice of Life'] & special & 7.55947 \\\\\n",
       "\t22 & 24997 & Love Live! The School Idol Movie & ['Music', 'School', 'Slice of Life'] & movie & 7.54903 \\\\\n",
       "\t23 & 17739 & Hidamari Sketch: Sae Hiro Sotsugyou-hen & ['Comedy', 'School', 'Seinen', 'Slice of Life'] & ova & 7.53863 \\\\\n",
       "\t24 & 19111 & Love Live! School Idol Project 2nd Season & ['Music', 'School', 'Slice of Life'] & tv & 7.53298 \\\\\n",
       "\t25 & 31 & Neon Genesis Evangelion: Death \\& Rebirth & ['Drama', 'Mecha', 'Psychological', 'Sci-Fi'] & movie & 7.53036 \\\\\n",
       "\t26 & 9734 & K-On!!: Keikaku! & ['Comedy', 'Music', 'School', 'Slice of Life'] & special & 7.52144 \\\\\n",
       "\t27 & 38081 & Girls \\& Panzer: Saishuushou Part 2 & ['Military', 'School'] & movie & 7.51242 \\\\\n",
       "\t28 & 372 & Cardcaptor Sakura Movie 2: Fuuin Sareta Card & ['Comedy', 'Drama', 'Fantasy', 'Romance', 'Shoujo'] & movie & 7.51183 \\\\\n",
       "\t29 & 11061 & Hunter x Hunter (2011) & ['Action', 'Adventure', 'Fantasy', 'Shounen', 'Super Power'] & tv & 7.48605 \\\\\n",
       "\t30 & 29830 & Tamayura: Sotsugyou Shashin Part 3 - Akogare & ['Comedy', 'Drama', 'Slice of Life'] & movie & 7.48429 \\\\\n",
       "\t$\\dots$ & $\\dots$ & $\\dots$ & $\\dots$ & $\\dots$ & $\\dots$ \\\\\n",
       "\\end{tabular}\n"
      ],
      "text/plain": [
       "\u001b[1m16973×5 DataFrame\u001b[0m\n",
       "\u001b[1m   Row \u001b[0m│\u001b[1m anime_id \u001b[0m\u001b[1m title                             \u001b[0m\u001b[1m genres                            \u001b[0m\u001b[1m medium  \u001b[0m\u001b[1m rating  \u001b[0m\n",
       "\u001b[1m       \u001b[0m│\u001b[90m Int64    \u001b[0m\u001b[90m String                            \u001b[0m\u001b[90m String                            \u001b[0m\u001b[90m String7 \u001b[0m\u001b[90m Float64 \u001b[0m\n",
       "───────┼──────────────────────────────────────────────────────────────────────────────────────────────────\n",
       "     1 │    34376  Yuuki Yuuna wa Yuusha de Aru: Wa…  ['Drama', 'Fantasy', 'Slice of L…  movie    9.22151\n",
       "     2 │    34375  Yuuki Yuuna wa Yuusha de Aru: Wa…  ['Drama', 'Fantasy', 'Slice of L…  movie    8.95603\n",
       "     3 │    34374  Yuuki Yuuna wa Yuusha de Aru: Wa…  ['Drama', 'Fantasy', 'Slice of L…  movie    8.69906\n",
       "     4 │    11979  Mahou Shoujo Madoka★Magica Movie…  ['Drama', 'Psychological', 'Susp…  movie    8.47786\n",
       "     5 │    11977  Mahou Shoujo Madoka★Magica Movie…  ['Drama', 'Psychological', 'Susp…  movie    8.43559\n",
       "     6 │      609  Saishuu Heiki Kanojo: Another Lo…  ['Drama', 'Romance', 'Sci-Fi']     ova      8.35309\n",
       "     7 │    41674  Aria the Crepuscolo                ['Fantasy', 'Sci-Fi', 'Shounen',…  movie    8.2125\n",
       "     8 │    29831  Tamayura: Sotsugyou Shashin Part…  ['Comedy', 'Drama', 'Slice of Li…  movie    8.02053\n",
       "     9 │    32843  Senki Zesshou Symphogear XV        ['Action', 'Music', 'Sci-Fi']      tv       7.85724\n",
       "    10 │    42587  Yuuki Yuuna wa Yuusha de Aru: Da…  ['Drama', 'Fantasy', 'Slice of L…  tv       7.75105\n",
       "    11 │    45576  Mushoku Tensei: Isekai Ittara Ho…  ['Drama', 'Ecchi', 'Fantasy']      tv       7.70775\n",
       "   ⋮   │    ⋮                      ⋮                                  ⋮                     ⋮        ⋮\n",
       " 16964 │    31240  Re:Zero kara Hajimeru Isekai Sei…  ['Drama', 'Fantasy', 'Psychologi…  tv       0.0\n",
       " 16965 │    31376  Flying Witch                       ['Comedy', 'Shounen', 'Slice of …  tv       0.0\n",
       " 16966 │    31646  3-gatsu no Lion                    ['Drama', 'Game', 'Seinen', 'Sli…  tv       0.0\n",
       " 16967 │    31757  Kizumonogatari II: Nekketsu-hen    ['Action', 'Mystery', 'Supernatu…  movie    0.0\n",
       " 16968 │    31758  Kizumonogatari III: Reiketsu-hen   ['Action', 'Mystery', 'Supernatu…  movie    0.0\n",
       " 16969 │    31763  Accel World: Infinite∞Burst        ['Action', 'Game', 'Romance', 'S…  movie    0.0\n",
       " 16970 │    31764  Nejimaki Seirei Senki: Tenkyou n…  ['Action', 'Adventure', 'Fantasy…  tv       0.0\n",
       " 16971 │    31953  New Game!                          ['Comedy', 'Game', 'Slice of Lif…  tv       0.0\n",
       " 16972 │    31964  Boku no Hero Academia              ['Action', 'Comedy', 'School', '…  tv       0.0\n",
       " 16973 │    32281  Kimi no Na wa.                     ['Drama', 'Romance', 'School', '…  movie    0.0\n",
       "\u001b[36m                                                                                        16952 rows omitted\u001b[0m"
      ]
     },
     "execution_count": 8,
     "metadata": {},
     "output_type": "execute_result"
    }
   ],
   "source": [
    "sort!(rec_df, :rating, rev = true)"
   ]
  },
  {
   "cell_type": "code",
   "execution_count": null,
   "id": "d79c8eb8-1af2-4f6f-943e-07dc480b214f",
   "metadata": {},
   "outputs": [],
   "source": []
  }
 ],
 "metadata": {
  "kernelspec": {
   "display_name": "Julia 1.6.3",
   "language": "julia",
   "name": "julia-1.6"
  },
  "language_info": {
   "file_extension": ".jl",
   "mimetype": "application/julia",
   "name": "julia",
   "version": "1.6.3"
  }
 },
 "nbformat": 4,
 "nbformat_minor": 5
}
