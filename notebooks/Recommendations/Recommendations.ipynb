{
 "cells": [
  {
   "cell_type": "code",
   "execution_count": 1,
   "id": "240e43fd-abc8-4d44-a3d6-85293d0dd756",
   "metadata": {},
   "outputs": [],
   "source": [
    "source = \"Recommendations\";"
   ]
  },
  {
   "cell_type": "code",
   "execution_count": 2,
   "id": "ba187524-034d-40f6-9e40-0ab5123e36bb",
   "metadata": {},
   "outputs": [],
   "source": [
    "using NBInclude\n",
    "@nbinclude(\"../ProductionAlphas/Alpha.ipynb\");"
   ]
  },
  {
   "cell_type": "code",
   "execution_count": 3,
   "id": "2dc4c5b5-a759-463c-b163-e47fd461a554",
   "metadata": {},
   "outputs": [],
   "source": [
    "ENV[\"COLUMNS\"] = 999999;\n",
    "#ENV[\"LINES\"] = 100;"
   ]
  },
  {
   "cell_type": "code",
   "execution_count": 4,
   "id": "20127075-7c57-4629-9283-d1f18a8ff2bb",
   "metadata": {},
   "outputs": [],
   "source": [
    "anime = DataFrame(CSV.File(\"../../data/raw_data/anime.csv\"))\n",
    "anime_to_uid = DataFrame(CSV.File(\"../../data/processed_data/anime_to_uid.csv\"))\n",
    "anime_to_uid = innerjoin(anime_to_uid, anime, on = \"anime_id\");"
   ]
  },
  {
   "cell_type": "code",
   "execution_count": 5,
   "id": "9fa0327c-2d09-4040-8819-32125a957f15",
   "metadata": {
    "tags": []
   },
   "outputs": [],
   "source": [
    "predictions = read_recommendee_alpha(\"CombineSignals\").rating\n",
    "rating_df = DataFrame(\"uid\" => 0:length(predictions)-1, \"rating\" => predictions);"
   ]
  },
  {
   "cell_type": "code",
   "execution_count": 6,
   "id": "c3ce70b8-843a-4f7d-a84a-551507c54bcf",
   "metadata": {},
   "outputs": [
    {
     "name": "stderr",
     "output_type": "stream",
     "text": [
      "\u001b[38;5;4m\u001b[1m[ \u001b[22m\u001b[39m\u001b[38;5;4m\u001b[1mDebug: \u001b[22m\u001b[39m20220107 03:29:20 1.3421033144989443\n",
      "\u001b[38;5;4m\u001b[1m[ \u001b[22m\u001b[39m\u001b[38;5;4m\u001b[1mDebug: \u001b[22m\u001b[39m20220107 03:29:20 1.0199398732142713\n",
      "\u001b[38;5;4m\u001b[1m[ \u001b[22m\u001b[39m\u001b[38;5;4m\u001b[1mDebug: \u001b[22m\u001b[39m20220107 03:29:21 0.3809534579966103\n"
     ]
    }
   ],
   "source": [
    "df = get_recommendee_list()\n",
    "@debug rmse(df.rating, predictions[df.item])\n",
    "@debug mae(df.rating, predictions[df.item])\n",
    "@debug r2(df.rating, predictions[df.item])\n",
    "rating_df.rating[df.item] .= 0;"
   ]
  },
  {
   "cell_type": "code",
   "execution_count": 7,
   "id": "8d802dec-d3d9-4a9b-aa2c-d5dc53f1025f",
   "metadata": {},
   "outputs": [],
   "source": [
    "#  Debug: 20220102 22:23:08 1.3676658651157594\n",
    "# [ Debug: 20220102 22:23:08 1.0341588048722163\n",
    "# [ Debug: 20220102 22:23:08 0.35714737801661034"
   ]
  },
  {
   "cell_type": "code",
   "execution_count": 8,
   "id": "25035c7e-c9be-4054-96ec-4e11bc575623",
   "metadata": {},
   "outputs": [
    {
     "data": {
      "text/html": [
       "<div class=\"data-frame\"><p>5,221 rows × 5 columns</p><table class=\"data-frame\"><thead><tr><th></th><th>anime_id</th><th>title</th><th>genres</th><th>medium</th><th>rating</th></tr><tr><th></th><th title=\"Int64\">Int64</th><th title=\"String\">String</th><th title=\"String\">String</th><th title=\"String7\">String7</th><th title=\"Float64\">Float64</th></tr></thead><tbody><tr><th>1</th><td>42587</td><td>Yuuki Yuuna wa Yuusha de Aru: Dai Mankai no Shou</td><td>[&apos;Drama&apos;, &apos;Fantasy&apos;, &apos;Slice of Life&apos;]</td><td>tv</td><td>8.48413</td></tr><tr><th>2</th><td>2921</td><td>Ashita no Joe 2</td><td>[&apos;Action&apos;, &apos;Drama&apos;, &apos;Shounen&apos;, &apos;Slice of Life&apos;, &apos;Sports&apos;]</td><td>tv</td><td>7.92818</td></tr><tr><th>3</th><td>45576</td><td>Mushoku Tensei: Isekai Ittara Honki Dasu Part 2</td><td>[&apos;Drama&apos;, &apos;Ecchi&apos;, &apos;Fantasy&apos;]</td><td>tv</td><td>7.89698</td></tr><tr><th>4</th><td>28891</td><td>Haikyuu!! Second Season</td><td>[&apos;Comedy&apos;, &apos;Drama&apos;, &apos;School&apos;, &apos;Shounen&apos;, &apos;Sports&apos;]</td><td>tv</td><td>7.68485</td></tr><tr><th>5</th><td>32843</td><td>Senki Zesshou Symphogear XV</td><td>[&apos;Action&apos;, &apos;Music&apos;, &apos;Sci-Fi&apos;]</td><td>tv</td><td>7.65173</td></tr><tr><th>6</th><td>38524</td><td>Shingeki no Kyojin Season 3 Part 2</td><td>[&apos;Action&apos;, &apos;Drama&apos;, &apos;Fantasy&apos;, &apos;Military&apos;, &apos;Mystery&apos;, &apos;Shounen&apos;, &apos;Super Power&apos;]</td><td>tv</td><td>7.61221</td></tr><tr><th>7</th><td>32935</td><td>Haikyuu!!: Karasuno Koukou vs. Shiratorizawa Gakuen Koukou</td><td>[&apos;Comedy&apos;, &apos;Drama&apos;, &apos;School&apos;, &apos;Shounen&apos;, &apos;Sports&apos;]</td><td>tv</td><td>7.51382</td></tr><tr><th>8</th><td>40028</td><td>Shingeki no Kyojin: The Final Season</td><td>[&apos;Action&apos;, &apos;Drama&apos;, &apos;Fantasy&apos;, &apos;Military&apos;, &apos;Mystery&apos;, &apos;Shounen&apos;, &apos;Super Power&apos;]</td><td>tv</td><td>7.49067</td></tr><tr><th>9</th><td>11061</td><td>Hunter x Hunter (2011)</td><td>[&apos;Action&apos;, &apos;Adventure&apos;, &apos;Fantasy&apos;, &apos;Shounen&apos;, &apos;Super Power&apos;]</td><td>tv</td><td>7.4634</td></tr><tr><th>10</th><td>19111</td><td>Love Live! School Idol Project 2nd Season</td><td>[&apos;Music&apos;, &apos;School&apos;, &apos;Slice of Life&apos;]</td><td>tv</td><td>7.43707</td></tr><tr><th>11</th><td>41169</td><td>Love Live! Superstar!!</td><td>[&apos;Music&apos;, &apos;School&apos;, &apos;Slice of Life&apos;]</td><td>tv</td><td>7.38821</td></tr><tr><th>12</th><td>5114</td><td>Fullmetal Alchemist: Brotherhood</td><td>[&apos;Action&apos;, &apos;Adventure&apos;, &apos;Comedy&apos;, &apos;Drama&apos;, &apos;Fantasy&apos;, &apos;Military&apos;, &apos;Shounen&apos;]</td><td>tv</td><td>7.37587</td></tr><tr><th>13</th><td>36259</td><td>Pingu in the City</td><td>[&apos;Comedy&apos;, &apos;Kids&apos;, &apos;Slice of Life&apos;]</td><td>tv</td><td>7.33908</td></tr><tr><th>14</th><td>39808</td><td>Non Non Biyori Nonstop</td><td>[&apos;Comedy&apos;, &apos;Seinen&apos;, &apos;Slice of Life&apos;]</td><td>tv</td><td>7.33544</td></tr><tr><th>15</th><td>877</td><td>Nana</td><td>[&apos;Comedy&apos;, &apos;Drama&apos;, &apos;Music&apos;, &apos;Romance&apos;, &apos;Shoujo&apos;, &apos;Slice of Life&apos;]</td><td>tv</td><td>7.31674</td></tr><tr><th>16</th><td>31988</td><td>Hibike! Euphonium 2</td><td>[&apos;Drama&apos;, &apos;Music&apos;, &apos;School&apos;]</td><td>tv</td><td>7.30856</td></tr><tr><th>17</th><td>37870</td><td>BanG Dream! 3rd Season</td><td>[&apos;Music&apos;]</td><td>tv</td><td>7.294</td></tr><tr><th>18</th><td>42941</td><td>Uma Musume: Pretty Derby (TV) Season 2</td><td>[&apos;Comedy&apos;, &apos;Slice of Life&apos;, &apos;Sports&apos;]</td><td>tv</td><td>7.25318</td></tr><tr><th>19</th><td>34973</td><td>Love Live! Sunshine!! 2nd Season</td><td>[&apos;Music&apos;, &apos;School&apos;, &apos;Slice of Life&apos;]</td><td>tv</td><td>7.25054</td></tr><tr><th>20</th><td>3750</td><td>Maria-sama ga Miteru 4th</td><td>[&apos;Girls Love&apos;, &apos;School&apos;, &apos;Shoujo&apos;, &apos;Slice of Life&apos;]</td><td>tv</td><td>7.24509</td></tr><tr><th>21</th><td>80</td><td>Mobile Suit Gundam</td><td>[&apos;Mecha&apos;, &apos;Military&apos;, &apos;Sci-Fi&apos;, &apos;Space&apos;]</td><td>tv</td><td>7.24168</td></tr><tr><th>22</th><td>5941</td><td>Cross Game</td><td>[&apos;Comedy&apos;, &apos;Drama&apos;, &apos;Romance&apos;, &apos;School&apos;, &apos;Shounen&apos;, &apos;Sports&apos;]</td><td>tv</td><td>7.23324</td></tr><tr><th>23</th><td>593</td><td>Mugen no Ryvius</td><td>[&apos;Drama&apos;, &apos;Mecha&apos;, &apos;Military&apos;, &apos;Psychological&apos;, &apos;Sci-Fi&apos;, &apos;Space&apos;]</td><td>tv</td><td>7.22326</td></tr><tr><th>24</th><td>93</td><td>Mobile Suit Gundam SEED</td><td>[&apos;Action&apos;, &apos;Drama&apos;, &apos;Mecha&apos;, &apos;Military&apos;, &apos;Romance&apos;, &apos;Sci-Fi&apos;, &apos;Space&apos;]</td><td>tv</td><td>7.21382</td></tr><tr><th>25</th><td>23623</td><td>Non Non Biyori Repeat</td><td>[&apos;Comedy&apos;, &apos;School&apos;, &apos;Seinen&apos;, &apos;Slice of Life&apos;]</td><td>tv</td><td>7.2089</td></tr><tr><th>26</th><td>31433</td><td>Ginga Eiyuu Densetsu: Die Neue These - Kaikou</td><td>[&apos;Action&apos;, &apos;Drama&apos;, &apos;Military&apos;, &apos;Sci-Fi&apos;, &apos;Space&apos;]</td><td>tv</td><td>7.18101</td></tr><tr><th>27</th><td>32526</td><td>Love Live! Sunshine!!</td><td>[&apos;Music&apos;, &apos;School&apos;, &apos;Slice of Life&apos;]</td><td>tv</td><td>7.16434</td></tr><tr><th>28</th><td>1530</td><td>Kanon (2006)</td><td>[&apos;Drama&apos;, &apos;Romance&apos;, &apos;Slice of Life&apos;, &apos;Supernatural&apos;]</td><td>tv</td><td>7.15196</td></tr><tr><th>29</th><td>33589</td><td>ViVid Strike!</td><td>[&apos;Action&apos;, &apos;Drama&apos;, &apos;Martial Arts&apos;]</td><td>tv</td><td>7.13745</td></tr><tr><th>30</th><td>1065</td><td>Touch</td><td>[&apos;Drama&apos;, &apos;Romance&apos;, &apos;School&apos;, &apos;Shounen&apos;, &apos;Slice of Life&apos;, &apos;Sports&apos;]</td><td>tv</td><td>7.13054</td></tr><tr><th>&vellip;</th><td>&vellip;</td><td>&vellip;</td><td>&vellip;</td><td>&vellip;</td><td>&vellip;</td></tr></tbody></table></div>"
      ],
      "text/latex": [
       "\\begin{tabular}{r|ccccc}\n",
       "\t& anime\\_id & title & genres & medium & rating\\\\\n",
       "\t\\hline\n",
       "\t& Int64 & String & String & String7 & Float64\\\\\n",
       "\t\\hline\n",
       "\t1 & 42587 & Yuuki Yuuna wa Yuusha de Aru: Dai Mankai no Shou & ['Drama', 'Fantasy', 'Slice of Life'] & tv & 8.48413 \\\\\n",
       "\t2 & 2921 & Ashita no Joe 2 & ['Action', 'Drama', 'Shounen', 'Slice of Life', 'Sports'] & tv & 7.92818 \\\\\n",
       "\t3 & 45576 & Mushoku Tensei: Isekai Ittara Honki Dasu Part 2 & ['Drama', 'Ecchi', 'Fantasy'] & tv & 7.89698 \\\\\n",
       "\t4 & 28891 & Haikyuu!! Second Season & ['Comedy', 'Drama', 'School', 'Shounen', 'Sports'] & tv & 7.68485 \\\\\n",
       "\t5 & 32843 & Senki Zesshou Symphogear XV & ['Action', 'Music', 'Sci-Fi'] & tv & 7.65173 \\\\\n",
       "\t6 & 38524 & Shingeki no Kyojin Season 3 Part 2 & ['Action', 'Drama', 'Fantasy', 'Military', 'Mystery', 'Shounen', 'Super Power'] & tv & 7.61221 \\\\\n",
       "\t7 & 32935 & Haikyuu!!: Karasuno Koukou vs. Shiratorizawa Gakuen Koukou & ['Comedy', 'Drama', 'School', 'Shounen', 'Sports'] & tv & 7.51382 \\\\\n",
       "\t8 & 40028 & Shingeki no Kyojin: The Final Season & ['Action', 'Drama', 'Fantasy', 'Military', 'Mystery', 'Shounen', 'Super Power'] & tv & 7.49067 \\\\\n",
       "\t9 & 11061 & Hunter x Hunter (2011) & ['Action', 'Adventure', 'Fantasy', 'Shounen', 'Super Power'] & tv & 7.4634 \\\\\n",
       "\t10 & 19111 & Love Live! School Idol Project 2nd Season & ['Music', 'School', 'Slice of Life'] & tv & 7.43707 \\\\\n",
       "\t11 & 41169 & Love Live! Superstar!! & ['Music', 'School', 'Slice of Life'] & tv & 7.38821 \\\\\n",
       "\t12 & 5114 & Fullmetal Alchemist: Brotherhood & ['Action', 'Adventure', 'Comedy', 'Drama', 'Fantasy', 'Military', 'Shounen'] & tv & 7.37587 \\\\\n",
       "\t13 & 36259 & Pingu in the City & ['Comedy', 'Kids', 'Slice of Life'] & tv & 7.33908 \\\\\n",
       "\t14 & 39808 & Non Non Biyori Nonstop & ['Comedy', 'Seinen', 'Slice of Life'] & tv & 7.33544 \\\\\n",
       "\t15 & 877 & Nana & ['Comedy', 'Drama', 'Music', 'Romance', 'Shoujo', 'Slice of Life'] & tv & 7.31674 \\\\\n",
       "\t16 & 31988 & Hibike! Euphonium 2 & ['Drama', 'Music', 'School'] & tv & 7.30856 \\\\\n",
       "\t17 & 37870 & BanG Dream! 3rd Season & ['Music'] & tv & 7.294 \\\\\n",
       "\t18 & 42941 & Uma Musume: Pretty Derby (TV) Season 2 & ['Comedy', 'Slice of Life', 'Sports'] & tv & 7.25318 \\\\\n",
       "\t19 & 34973 & Love Live! Sunshine!! 2nd Season & ['Music', 'School', 'Slice of Life'] & tv & 7.25054 \\\\\n",
       "\t20 & 3750 & Maria-sama ga Miteru 4th & ['Girls Love', 'School', 'Shoujo', 'Slice of Life'] & tv & 7.24509 \\\\\n",
       "\t21 & 80 & Mobile Suit Gundam & ['Mecha', 'Military', 'Sci-Fi', 'Space'] & tv & 7.24168 \\\\\n",
       "\t22 & 5941 & Cross Game & ['Comedy', 'Drama', 'Romance', 'School', 'Shounen', 'Sports'] & tv & 7.23324 \\\\\n",
       "\t23 & 593 & Mugen no Ryvius & ['Drama', 'Mecha', 'Military', 'Psychological', 'Sci-Fi', 'Space'] & tv & 7.22326 \\\\\n",
       "\t24 & 93 & Mobile Suit Gundam SEED & ['Action', 'Drama', 'Mecha', 'Military', 'Romance', 'Sci-Fi', 'Space'] & tv & 7.21382 \\\\\n",
       "\t25 & 23623 & Non Non Biyori Repeat & ['Comedy', 'School', 'Seinen', 'Slice of Life'] & tv & 7.2089 \\\\\n",
       "\t26 & 31433 & Ginga Eiyuu Densetsu: Die Neue These - Kaikou & ['Action', 'Drama', 'Military', 'Sci-Fi', 'Space'] & tv & 7.18101 \\\\\n",
       "\t27 & 32526 & Love Live! Sunshine!! & ['Music', 'School', 'Slice of Life'] & tv & 7.16434 \\\\\n",
       "\t28 & 1530 & Kanon (2006) & ['Drama', 'Romance', 'Slice of Life', 'Supernatural'] & tv & 7.15196 \\\\\n",
       "\t29 & 33589 & ViVid Strike! & ['Action', 'Drama', 'Martial Arts'] & tv & 7.13745 \\\\\n",
       "\t30 & 1065 & Touch & ['Drama', 'Romance', 'School', 'Shounen', 'Slice of Life', 'Sports'] & tv & 7.13054 \\\\\n",
       "\t$\\dots$ & $\\dots$ & $\\dots$ & $\\dots$ & $\\dots$ & $\\dots$ \\\\\n",
       "\\end{tabular}\n"
      ],
      "text/plain": [
       "\u001b[1m5221×5 DataFrame\u001b[0m\n",
       "\u001b[1m  Row \u001b[0m│\u001b[1m anime_id \u001b[0m\u001b[1m title                             \u001b[0m\u001b[1m genres                            \u001b[0m\u001b[1m medium  \u001b[0m\u001b[1m rating  \u001b[0m\n",
       "\u001b[1m      \u001b[0m│\u001b[90m Int64    \u001b[0m\u001b[90m String                            \u001b[0m\u001b[90m String                            \u001b[0m\u001b[90m String7 \u001b[0m\u001b[90m Float64 \u001b[0m\n",
       "──────┼──────────────────────────────────────────────────────────────────────────────────────────────────\n",
       "    1 │    42587  Yuuki Yuuna wa Yuusha de Aru: Da…  ['Drama', 'Fantasy', 'Slice of L…  tv       8.48413\n",
       "    2 │     2921  Ashita no Joe 2                    ['Action', 'Drama', 'Shounen', '…  tv       7.92818\n",
       "    3 │    45576  Mushoku Tensei: Isekai Ittara Ho…  ['Drama', 'Ecchi', 'Fantasy']      tv       7.89698\n",
       "    4 │    28891  Haikyuu!! Second Season            ['Comedy', 'Drama', 'School', 'S…  tv       7.68485\n",
       "    5 │    32843  Senki Zesshou Symphogear XV        ['Action', 'Music', 'Sci-Fi']      tv       7.65173\n",
       "    6 │    38524  Shingeki no Kyojin Season 3 Part…  ['Action', 'Drama', 'Fantasy', '…  tv       7.61221\n",
       "    7 │    32935  Haikyuu!!: Karasuno Koukou vs. S…  ['Comedy', 'Drama', 'School', 'S…  tv       7.51382\n",
       "    8 │    40028  Shingeki no Kyojin: The Final Se…  ['Action', 'Drama', 'Fantasy', '…  tv       7.49067\n",
       "    9 │    11061  Hunter x Hunter (2011)             ['Action', 'Adventure', 'Fantasy…  tv       7.4634\n",
       "   10 │    19111  Love Live! School Idol Project 2…  ['Music', 'School', 'Slice of Li…  tv       7.43707\n",
       "   11 │    41169  Love Live! Superstar!!             ['Music', 'School', 'Slice of Li…  tv       7.38821\n",
       "  ⋮   │    ⋮                      ⋮                                  ⋮                     ⋮        ⋮\n",
       " 5212 │    25867  Rolling☆Girls                      ['Action', 'Adventure', 'Slice o…  tv       0.0\n",
       " 5213 │    25939  Mahou Shoujo Lyrical Nanoha ViVid  ['Action', 'Adventure', 'Martial…  tv       0.0\n",
       " 5214 │    28735  Shouwa Genroku Rakugo Shinjuu      ['Drama', 'Historical', 'Josei']   tv       0.0\n",
       " 5215 │    31043  Boku dake ga Inai Machi            ['Mystery', 'Psychological', 'Se…  tv       0.0\n",
       " 5216 │    31240  Re:Zero kara Hajimeru Isekai Sei…  ['Drama', 'Fantasy', 'Psychologi…  tv       0.0\n",
       " 5217 │    31376  Flying Witch                       ['Comedy', 'Shounen', 'Slice of …  tv       0.0\n",
       " 5218 │    31646  3-gatsu no Lion                    ['Drama', 'Game', 'Seinen', 'Sli…  tv       0.0\n",
       " 5219 │    31764  Nejimaki Seirei Senki: Tenkyou n…  ['Action', 'Adventure', 'Fantasy…  tv       0.0\n",
       " 5220 │    31953  New Game!                          ['Comedy', 'Game', 'Slice of Lif…  tv       0.0\n",
       " 5221 │    31964  Boku no Hero Academia              ['Action', 'Comedy', 'School', '…  tv       0.0\n",
       "\u001b[36m                                                                                        5200 rows omitted\u001b[0m"
      ]
     },
     "execution_count": 8,
     "metadata": {},
     "output_type": "execute_result"
    }
   ],
   "source": [
    "rec_df = innerjoin(anime_to_uid, rating_df, on = \"uid\");\n",
    "rec_df = rec_df[:, [\"anime_id\", \"title\", \"genres\", \"medium\", \"rating\"]];\n",
    "filter(x -> x.medium == \"tv\", sort!(rec_df, :rating, rev = true))"
   ]
  },
  {
   "cell_type": "code",
   "execution_count": 10,
   "id": "4805db5a-b8f6-42a0-a0b0-94fd50882fd5",
   "metadata": {},
   "outputs": [
    {
     "data": {
      "text/html": [
       "<div class=\"data-frame\"><p>16,973 rows × 5 columns</p><table class=\"data-frame\"><thead><tr><th></th><th>anime_id</th><th>title</th><th>genres</th><th>medium</th><th>rating</th></tr><tr><th></th><th title=\"Int64\">Int64</th><th title=\"String\">String</th><th title=\"String\">String</th><th title=\"String7\">String7</th><th title=\"Float64\">Float64</th></tr></thead><tbody><tr><th>1</th><td>34376</td><td>Yuuki Yuuna wa Yuusha de Aru: Washio Sumi no Shou 3 - Yakusoku</td><td>[&apos;Drama&apos;, &apos;Fantasy&apos;, &apos;Slice of Life&apos;]</td><td>movie</td><td>9.04683</td></tr><tr><th>2</th><td>11979</td><td>Mahou Shoujo Madoka★Magica Movie 2: Eien no Monogatari</td><td>[&apos;Drama&apos;, &apos;Psychological&apos;, &apos;Suspense&apos;]</td><td>movie</td><td>8.95085</td></tr><tr><th>3</th><td>34375</td><td>Yuuki Yuuna wa Yuusha de Aru: Washio Sumi no Shou 2 - Tamashii</td><td>[&apos;Drama&apos;, &apos;Fantasy&apos;, &apos;Slice of Life&apos;]</td><td>movie</td><td>8.88433</td></tr><tr><th>4</th><td>11977</td><td>Mahou Shoujo Madoka★Magica Movie 1: Hajimari no Monogatari</td><td>[&apos;Drama&apos;, &apos;Psychological&apos;, &apos;Suspense&apos;]</td><td>movie</td><td>8.72419</td></tr><tr><th>5</th><td>34374</td><td>Yuuki Yuuna wa Yuusha de Aru: Washio Sumi no Shou 1 - Tomodachi</td><td>[&apos;Drama&apos;, &apos;Fantasy&apos;, &apos;Slice of Life&apos;]</td><td>movie</td><td>8.52646</td></tr><tr><th>6</th><td>42587</td><td>Yuuki Yuuna wa Yuusha de Aru: Dai Mankai no Shou</td><td>[&apos;Drama&apos;, &apos;Fantasy&apos;, &apos;Slice of Life&apos;]</td><td>tv</td><td>8.48413</td></tr><tr><th>7</th><td>41674</td><td>Aria the Crepuscolo</td><td>[&apos;Fantasy&apos;, &apos;Sci-Fi&apos;, &apos;Shounen&apos;, &apos;Slice of Life&apos;]</td><td>movie</td><td>8.21407</td></tr><tr><th>8</th><td>44042</td><td>Holo no Graffiti</td><td>[&apos;Comedy&apos;]</td><td>ona</td><td>7.9614</td></tr><tr><th>9</th><td>2921</td><td>Ashita no Joe 2</td><td>[&apos;Action&apos;, &apos;Drama&apos;, &apos;Shounen&apos;, &apos;Slice of Life&apos;, &apos;Sports&apos;]</td><td>tv</td><td>7.92818</td></tr><tr><th>10</th><td>45576</td><td>Mushoku Tensei: Isekai Ittara Honki Dasu Part 2</td><td>[&apos;Drama&apos;, &apos;Ecchi&apos;, &apos;Fantasy&apos;]</td><td>tv</td><td>7.89698</td></tr><tr><th>11</th><td>9204</td><td>Omae Umasou da na</td><td>[&apos;Action&apos;, &apos;Adventure&apos;, &apos;Fantasy&apos;, &apos;Kids&apos;]</td><td>movie</td><td>7.79637</td></tr><tr><th>12</th><td>4565</td><td>Tengen Toppa Gurren Lagann Movie 2: Lagann-hen</td><td>[&apos;Action&apos;, &apos;Mecha&apos;, &apos;Sci-Fi&apos;, &apos;Space&apos;, &apos;Super Power&apos;]</td><td>movie</td><td>7.74228</td></tr><tr><th>13</th><td>42984</td><td>Gotcha!</td><td>[&apos;Fantasy&apos;, &apos;Music&apos;]</td><td>music</td><td>7.71002</td></tr><tr><th>14</th><td>28891</td><td>Haikyuu!! Second Season</td><td>[&apos;Comedy&apos;, &apos;Drama&apos;, &apos;School&apos;, &apos;Shounen&apos;, &apos;Sports&apos;]</td><td>tv</td><td>7.68485</td></tr><tr><th>15</th><td>3371</td><td>Ginga Eiyuu Densetsu Gaiden</td><td>[&apos;Action&apos;, &apos;Drama&apos;, &apos;Military&apos;, &apos;Sci-Fi&apos;, &apos;Space&apos;]</td><td>ova</td><td>7.68244</td></tr><tr><th>16</th><td>32843</td><td>Senki Zesshou Symphogear XV</td><td>[&apos;Action&apos;, &apos;Music&apos;, &apos;Sci-Fi&apos;]</td><td>tv</td><td>7.65173</td></tr><tr><th>17</th><td>31</td><td>Neon Genesis Evangelion: Death &amp; Rebirth</td><td>[&apos;Drama&apos;, &apos;Mecha&apos;, &apos;Psychological&apos;, &apos;Sci-Fi&apos;]</td><td>movie</td><td>7.64007</td></tr><tr><th>18</th><td>29831</td><td>Tamayura: Sotsugyou Shashin Part 4 - Ashita</td><td>[&apos;Comedy&apos;, &apos;Drama&apos;, &apos;Slice of Life&apos;]</td><td>movie</td><td>7.63726</td></tr><tr><th>19</th><td>38524</td><td>Shingeki no Kyojin Season 3 Part 2</td><td>[&apos;Action&apos;, &apos;Drama&apos;, &apos;Fantasy&apos;, &apos;Military&apos;, &apos;Mystery&apos;, &apos;Shounen&apos;, &apos;Super Power&apos;]</td><td>tv</td><td>7.61221</td></tr><tr><th>20</th><td>3016</td><td>Ginga Eiyuu Densetsu: Arata Naru Tatakai no Overture</td><td>[&apos;Action&apos;, &apos;Drama&apos;, &apos;Military&apos;, &apos;Sci-Fi&apos;, &apos;Space&apos;]</td><td>movie</td><td>7.60923</td></tr><tr><th>21</th><td>3665</td><td>Ginga Eiyuu Densetsu Gaiden (1999)</td><td>[&apos;Action&apos;, &apos;Drama&apos;, &apos;Military&apos;, &apos;Sci-Fi&apos;, &apos;Space&apos;]</td><td>ova</td><td>7.57045</td></tr><tr><th>22</th><td>32826</td><td>Yuuki no Baton</td><td>[&apos;Music&apos;]</td><td>music</td><td>7.56227</td></tr><tr><th>23</th><td>609</td><td>Saishuu Heiki Kanojo: Another Love Song</td><td>[&apos;Drama&apos;, &apos;Romance&apos;, &apos;Sci-Fi&apos;]</td><td>ova</td><td>7.55914</td></tr><tr><th>24</th><td>4059</td><td>Clannad: Mou Hitotsu no Sekai, Tomoyo-hen</td><td>[&apos;Drama&apos;, &apos;Romance&apos;, &apos;School&apos;, &apos;Slice of Life&apos;]</td><td>special</td><td>7.54694</td></tr><tr><th>25</th><td>29829</td><td>Tamayura: Sotsugyou Shashin Part 2 - Hibiki</td><td>[&apos;Comedy&apos;, &apos;Drama&apos;, &apos;Slice of Life&apos;]</td><td>movie</td><td>7.51845</td></tr><tr><th>26</th><td>36371</td><td>Ginga Eiyuu Densetsu: Die Neue These - Seiran 3</td><td>[&apos;Action&apos;, &apos;Drama&apos;, &apos;Military&apos;, &apos;Sci-Fi&apos;, &apos;Space&apos;]</td><td>movie</td><td>7.51633</td></tr><tr><th>27</th><td>32935</td><td>Haikyuu!!: Karasuno Koukou vs. Shiratorizawa Gakuen Koukou</td><td>[&apos;Comedy&apos;, &apos;Drama&apos;, &apos;School&apos;, &apos;Shounen&apos;, &apos;Sports&apos;]</td><td>tv</td><td>7.51382</td></tr><tr><th>28</th><td>36370</td><td>Ginga Eiyuu Densetsu: Die Neue These - Seiran 2</td><td>[&apos;Action&apos;, &apos;Drama&apos;, &apos;Military&apos;, &apos;Sci-Fi&apos;, &apos;Space&apos;]</td><td>movie</td><td>7.49762</td></tr><tr><th>29</th><td>40028</td><td>Shingeki no Kyojin: The Final Season</td><td>[&apos;Action&apos;, &apos;Drama&apos;, &apos;Fantasy&apos;, &apos;Military&apos;, &apos;Mystery&apos;, &apos;Shounen&apos;, &apos;Super Power&apos;]</td><td>tv</td><td>7.49067</td></tr><tr><th>30</th><td>6862</td><td>K-On!: Live House!</td><td>[&apos;Comedy&apos;, &apos;Music&apos;, &apos;School&apos;, &apos;Slice of Life&apos;]</td><td>special</td><td>7.48429</td></tr><tr><th>&vellip;</th><td>&vellip;</td><td>&vellip;</td><td>&vellip;</td><td>&vellip;</td><td>&vellip;</td></tr></tbody></table></div>"
      ],
      "text/latex": [
       "\\begin{tabular}{r|ccccc}\n",
       "\t& anime\\_id & title & genres & medium & rating\\\\\n",
       "\t\\hline\n",
       "\t& Int64 & String & String & String7 & Float64\\\\\n",
       "\t\\hline\n",
       "\t1 & 34376 & Yuuki Yuuna wa Yuusha de Aru: Washio Sumi no Shou 3 - Yakusoku & ['Drama', 'Fantasy', 'Slice of Life'] & movie & 9.04683 \\\\\n",
       "\t2 & 11979 & Mahou Shoujo Madoka★Magica Movie 2: Eien no Monogatari & ['Drama', 'Psychological', 'Suspense'] & movie & 8.95085 \\\\\n",
       "\t3 & 34375 & Yuuki Yuuna wa Yuusha de Aru: Washio Sumi no Shou 2 - Tamashii & ['Drama', 'Fantasy', 'Slice of Life'] & movie & 8.88433 \\\\\n",
       "\t4 & 11977 & Mahou Shoujo Madoka★Magica Movie 1: Hajimari no Monogatari & ['Drama', 'Psychological', 'Suspense'] & movie & 8.72419 \\\\\n",
       "\t5 & 34374 & Yuuki Yuuna wa Yuusha de Aru: Washio Sumi no Shou 1 - Tomodachi & ['Drama', 'Fantasy', 'Slice of Life'] & movie & 8.52646 \\\\\n",
       "\t6 & 42587 & Yuuki Yuuna wa Yuusha de Aru: Dai Mankai no Shou & ['Drama', 'Fantasy', 'Slice of Life'] & tv & 8.48413 \\\\\n",
       "\t7 & 41674 & Aria the Crepuscolo & ['Fantasy', 'Sci-Fi', 'Shounen', 'Slice of Life'] & movie & 8.21407 \\\\\n",
       "\t8 & 44042 & Holo no Graffiti & ['Comedy'] & ona & 7.9614 \\\\\n",
       "\t9 & 2921 & Ashita no Joe 2 & ['Action', 'Drama', 'Shounen', 'Slice of Life', 'Sports'] & tv & 7.92818 \\\\\n",
       "\t10 & 45576 & Mushoku Tensei: Isekai Ittara Honki Dasu Part 2 & ['Drama', 'Ecchi', 'Fantasy'] & tv & 7.89698 \\\\\n",
       "\t11 & 9204 & Omae Umasou da na & ['Action', 'Adventure', 'Fantasy', 'Kids'] & movie & 7.79637 \\\\\n",
       "\t12 & 4565 & Tengen Toppa Gurren Lagann Movie 2: Lagann-hen & ['Action', 'Mecha', 'Sci-Fi', 'Space', 'Super Power'] & movie & 7.74228 \\\\\n",
       "\t13 & 42984 & Gotcha! & ['Fantasy', 'Music'] & music & 7.71002 \\\\\n",
       "\t14 & 28891 & Haikyuu!! Second Season & ['Comedy', 'Drama', 'School', 'Shounen', 'Sports'] & tv & 7.68485 \\\\\n",
       "\t15 & 3371 & Ginga Eiyuu Densetsu Gaiden & ['Action', 'Drama', 'Military', 'Sci-Fi', 'Space'] & ova & 7.68244 \\\\\n",
       "\t16 & 32843 & Senki Zesshou Symphogear XV & ['Action', 'Music', 'Sci-Fi'] & tv & 7.65173 \\\\\n",
       "\t17 & 31 & Neon Genesis Evangelion: Death \\& Rebirth & ['Drama', 'Mecha', 'Psychological', 'Sci-Fi'] & movie & 7.64007 \\\\\n",
       "\t18 & 29831 & Tamayura: Sotsugyou Shashin Part 4 - Ashita & ['Comedy', 'Drama', 'Slice of Life'] & movie & 7.63726 \\\\\n",
       "\t19 & 38524 & Shingeki no Kyojin Season 3 Part 2 & ['Action', 'Drama', 'Fantasy', 'Military', 'Mystery', 'Shounen', 'Super Power'] & tv & 7.61221 \\\\\n",
       "\t20 & 3016 & Ginga Eiyuu Densetsu: Arata Naru Tatakai no Overture & ['Action', 'Drama', 'Military', 'Sci-Fi', 'Space'] & movie & 7.60923 \\\\\n",
       "\t21 & 3665 & Ginga Eiyuu Densetsu Gaiden (1999) & ['Action', 'Drama', 'Military', 'Sci-Fi', 'Space'] & ova & 7.57045 \\\\\n",
       "\t22 & 32826 & Yuuki no Baton & ['Music'] & music & 7.56227 \\\\\n",
       "\t23 & 609 & Saishuu Heiki Kanojo: Another Love Song & ['Drama', 'Romance', 'Sci-Fi'] & ova & 7.55914 \\\\\n",
       "\t24 & 4059 & Clannad: Mou Hitotsu no Sekai, Tomoyo-hen & ['Drama', 'Romance', 'School', 'Slice of Life'] & special & 7.54694 \\\\\n",
       "\t25 & 29829 & Tamayura: Sotsugyou Shashin Part 2 - Hibiki & ['Comedy', 'Drama', 'Slice of Life'] & movie & 7.51845 \\\\\n",
       "\t26 & 36371 & Ginga Eiyuu Densetsu: Die Neue These - Seiran 3 & ['Action', 'Drama', 'Military', 'Sci-Fi', 'Space'] & movie & 7.51633 \\\\\n",
       "\t27 & 32935 & Haikyuu!!: Karasuno Koukou vs. Shiratorizawa Gakuen Koukou & ['Comedy', 'Drama', 'School', 'Shounen', 'Sports'] & tv & 7.51382 \\\\\n",
       "\t28 & 36370 & Ginga Eiyuu Densetsu: Die Neue These - Seiran 2 & ['Action', 'Drama', 'Military', 'Sci-Fi', 'Space'] & movie & 7.49762 \\\\\n",
       "\t29 & 40028 & Shingeki no Kyojin: The Final Season & ['Action', 'Drama', 'Fantasy', 'Military', 'Mystery', 'Shounen', 'Super Power'] & tv & 7.49067 \\\\\n",
       "\t30 & 6862 & K-On!: Live House! & ['Comedy', 'Music', 'School', 'Slice of Life'] & special & 7.48429 \\\\\n",
       "\t$\\dots$ & $\\dots$ & $\\dots$ & $\\dots$ & $\\dots$ & $\\dots$ \\\\\n",
       "\\end{tabular}\n"
      ],
      "text/plain": [
       "\u001b[1m16973×5 DataFrame\u001b[0m\n",
       "\u001b[1m   Row \u001b[0m│\u001b[1m anime_id \u001b[0m\u001b[1m title                             \u001b[0m\u001b[1m genres                            \u001b[0m\u001b[1m medium  \u001b[0m\u001b[1m rating  \u001b[0m\n",
       "\u001b[1m       \u001b[0m│\u001b[90m Int64    \u001b[0m\u001b[90m String                            \u001b[0m\u001b[90m String                            \u001b[0m\u001b[90m String7 \u001b[0m\u001b[90m Float64 \u001b[0m\n",
       "───────┼──────────────────────────────────────────────────────────────────────────────────────────────────\n",
       "     1 │    34376  Yuuki Yuuna wa Yuusha de Aru: Wa…  ['Drama', 'Fantasy', 'Slice of L…  movie    9.04683\n",
       "     2 │    11979  Mahou Shoujo Madoka★Magica Movie…  ['Drama', 'Psychological', 'Susp…  movie    8.95085\n",
       "     3 │    34375  Yuuki Yuuna wa Yuusha de Aru: Wa…  ['Drama', 'Fantasy', 'Slice of L…  movie    8.88433\n",
       "     4 │    11977  Mahou Shoujo Madoka★Magica Movie…  ['Drama', 'Psychological', 'Susp…  movie    8.72419\n",
       "     5 │    34374  Yuuki Yuuna wa Yuusha de Aru: Wa…  ['Drama', 'Fantasy', 'Slice of L…  movie    8.52646\n",
       "     6 │    42587  Yuuki Yuuna wa Yuusha de Aru: Da…  ['Drama', 'Fantasy', 'Slice of L…  tv       8.48413\n",
       "     7 │    41674  Aria the Crepuscolo                ['Fantasy', 'Sci-Fi', 'Shounen',…  movie    8.21407\n",
       "     8 │    44042  Holo no Graffiti                   ['Comedy']                         ona      7.9614\n",
       "     9 │     2921  Ashita no Joe 2                    ['Action', 'Drama', 'Shounen', '…  tv       7.92818\n",
       "    10 │    45576  Mushoku Tensei: Isekai Ittara Ho…  ['Drama', 'Ecchi', 'Fantasy']      tv       7.89698\n",
       "    11 │     9204  Omae Umasou da na                  ['Action', 'Adventure', 'Fantasy…  movie    7.79637\n",
       "   ⋮   │    ⋮                      ⋮                                  ⋮                     ⋮        ⋮\n",
       " 16964 │    31240  Re:Zero kara Hajimeru Isekai Sei…  ['Drama', 'Fantasy', 'Psychologi…  tv       0.0\n",
       " 16965 │    31376  Flying Witch                       ['Comedy', 'Shounen', 'Slice of …  tv       0.0\n",
       " 16966 │    31646  3-gatsu no Lion                    ['Drama', 'Game', 'Seinen', 'Sli…  tv       0.0\n",
       " 16967 │    31757  Kizumonogatari II: Nekketsu-hen    ['Action', 'Mystery', 'Supernatu…  movie    0.0\n",
       " 16968 │    31758  Kizumonogatari III: Reiketsu-hen   ['Action', 'Mystery', 'Supernatu…  movie    0.0\n",
       " 16969 │    31763  Accel World: Infinite∞Burst        ['Action', 'Game', 'Romance', 'S…  movie    0.0\n",
       " 16970 │    31764  Nejimaki Seirei Senki: Tenkyou n…  ['Action', 'Adventure', 'Fantasy…  tv       0.0\n",
       " 16971 │    31953  New Game!                          ['Comedy', 'Game', 'Slice of Lif…  tv       0.0\n",
       " 16972 │    31964  Boku no Hero Academia              ['Action', 'Comedy', 'School', '…  tv       0.0\n",
       " 16973 │    32281  Kimi no Na wa.                     ['Drama', 'Romance', 'School', '…  movie    0.0\n",
       "\u001b[36m                                                                                        16952 rows omitted\u001b[0m"
      ]
     },
     "execution_count": 10,
     "metadata": {},
     "output_type": "execute_result"
    }
   ],
   "source": [
    "sort!(rec_df, :rating, rev = true)"
   ]
  },
  {
   "cell_type": "code",
   "execution_count": null,
   "id": "d79c8eb8-1af2-4f6f-943e-07dc480b214f",
   "metadata": {},
   "outputs": [],
   "source": []
  }
 ],
 "metadata": {
  "kernelspec": {
   "display_name": "Julia 1.6.3",
   "language": "julia",
   "name": "julia-1.6"
  },
  "language_info": {
   "file_extension": ".jl",
   "mimetype": "application/julia",
   "name": "julia",
   "version": "1.6.3"
  }
 },
 "nbformat": 4,
 "nbformat_minor": 5
}
