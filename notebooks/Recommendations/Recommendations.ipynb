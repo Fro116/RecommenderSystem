{
 "cells": [
  {
   "cell_type": "code",
   "execution_count": 1,
   "id": "240e43fd-abc8-4d44-a3d6-85293d0dd756",
   "metadata": {},
   "outputs": [],
   "source": [
    "source = \"Recommendations\";"
   ]
  },
  {
   "cell_type": "code",
   "execution_count": 2,
   "id": "ba187524-034d-40f6-9e40-0ab5123e36bb",
   "metadata": {},
   "outputs": [],
   "source": [
    "using NBInclude\n",
    "@nbinclude(\"../ProductionAlphas/Alpha.ipynb\");"
   ]
  },
  {
   "cell_type": "code",
   "execution_count": 3,
   "id": "2dc4c5b5-a759-463c-b163-e47fd461a554",
   "metadata": {},
   "outputs": [],
   "source": [
    "ENV[\"COLUMNS\"] = 999999;\n",
    "#ENV[\"LINES\"] = 100;"
   ]
  },
  {
   "cell_type": "code",
   "execution_count": 4,
   "id": "20127075-7c57-4629-9283-d1f18a8ff2bb",
   "metadata": {},
   "outputs": [],
   "source": [
    "anime = DataFrame(CSV.File(\"../../data/raw_data/anime.csv\"))\n",
    "anime_to_uid = DataFrame(CSV.File(\"../../data/processed_data/anime_to_uid.csv\"))\n",
    "anime_to_uid = innerjoin(anime_to_uid, anime, on = \"anime_id\");"
   ]
  },
  {
   "cell_type": "code",
   "execution_count": 5,
   "id": "9fa0327c-2d09-4040-8819-32125a957f15",
   "metadata": {
    "tags": []
   },
   "outputs": [],
   "source": [
    "predictions = read_recommendee_alpha(\"CombineSignals\").rating\n",
    "rating_df = DataFrame(\"uid\" => 0:length(predictions)-1, \"rating\" => predictions);"
   ]
  },
  {
   "cell_type": "code",
   "execution_count": 6,
   "id": "c3ce70b8-843a-4f7d-a84a-551507c54bcf",
   "metadata": {},
   "outputs": [
    {
     "name": "stderr",
     "output_type": "stream",
     "text": [
      "\u001b[38;5;4m\u001b[1m[ \u001b[22m\u001b[39m\u001b[38;5;4m\u001b[1mDebug: \u001b[22m\u001b[39m20220109 01:05:40 1.323205342864471\n",
      "\u001b[38;5;4m\u001b[1m[ \u001b[22m\u001b[39m\u001b[38;5;4m\u001b[1mDebug: \u001b[22m\u001b[39m20220109 01:05:41 1.0072534355516645\n",
      "\u001b[38;5;4m\u001b[1m[ \u001b[22m\u001b[39m\u001b[38;5;4m\u001b[1mDebug: \u001b[22m\u001b[39m20220109 01:05:41 0.4037941932263426\n"
     ]
    }
   ],
   "source": [
    "# evaluate our insample predictions\n",
    "df = get_recommendee_list()\n",
    "@debug rmse(df.rating, predictions[df.item])\n",
    "@debug mae(df.rating, predictions[df.item])\n",
    "@debug r2(df.rating, predictions[df.item])"
   ]
  },
  {
   "cell_type": "code",
   "execution_count": 7,
   "id": "24345713-0e5e-4d52-89a2-16dd2b5d3f96",
   "metadata": {
    "tags": []
   },
   "outputs": [],
   "source": [
    "# don't recommend shows that the user has already seen before\n",
    "rating_df.rating[get_recommendee_list().item] .= 0\n",
    "rating_df.rating[get_implicit_list().item] .= 0;"
   ]
  },
  {
   "cell_type": "code",
   "execution_count": 8,
   "id": "25035c7e-c9be-4054-96ec-4e11bc575623",
   "metadata": {},
   "outputs": [
    {
     "data": {
      "text/html": [
       "<div class=\"data-frame\"><p>5,221 rows × 5 columns</p><table class=\"data-frame\"><thead><tr><th></th><th>anime_id</th><th>title</th><th>genres</th><th>medium</th><th>rating</th></tr><tr><th></th><th title=\"Int64\">Int64</th><th title=\"String\">String</th><th title=\"String\">String</th><th title=\"String7\">String7</th><th title=\"Float64\">Float64</th></tr></thead><tbody><tr><th>1</th><td>42587</td><td>Yuuki Yuuna wa Yuusha de Aru: Dai Mankai no Shou</td><td>[&apos;Drama&apos;, &apos;Fantasy&apos;, &apos;Slice of Life&apos;]</td><td>tv</td><td>8.31332</td></tr><tr><th>2</th><td>2921</td><td>Ashita no Joe 2</td><td>[&apos;Action&apos;, &apos;Drama&apos;, &apos;Shounen&apos;, &apos;Slice of Life&apos;, &apos;Sports&apos;]</td><td>tv</td><td>8.09726</td></tr><tr><th>3</th><td>45576</td><td>Mushoku Tensei: Isekai Ittara Honki Dasu Part 2</td><td>[&apos;Drama&apos;, &apos;Ecchi&apos;, &apos;Fantasy&apos;]</td><td>tv</td><td>7.8638</td></tr><tr><th>4</th><td>38524</td><td>Shingeki no Kyojin Season 3 Part 2</td><td>[&apos;Action&apos;, &apos;Drama&apos;, &apos;Fantasy&apos;, &apos;Military&apos;, &apos;Mystery&apos;, &apos;Shounen&apos;, &apos;Super Power&apos;]</td><td>tv</td><td>7.73232</td></tr><tr><th>5</th><td>28891</td><td>Haikyuu!! Second Season</td><td>[&apos;Comedy&apos;, &apos;Drama&apos;, &apos;School&apos;, &apos;Shounen&apos;, &apos;Sports&apos;]</td><td>tv</td><td>7.6985</td></tr><tr><th>6</th><td>32843</td><td>Senki Zesshou Symphogear XV</td><td>[&apos;Action&apos;, &apos;Music&apos;, &apos;Sci-Fi&apos;]</td><td>tv</td><td>7.60041</td></tr><tr><th>7</th><td>32935</td><td>Haikyuu!!: Karasuno Koukou vs. Shiratorizawa Gakuen Koukou</td><td>[&apos;Comedy&apos;, &apos;Drama&apos;, &apos;School&apos;, &apos;Shounen&apos;, &apos;Sports&apos;]</td><td>tv</td><td>7.54376</td></tr><tr><th>8</th><td>5114</td><td>Fullmetal Alchemist: Brotherhood</td><td>[&apos;Action&apos;, &apos;Adventure&apos;, &apos;Comedy&apos;, &apos;Drama&apos;, &apos;Fantasy&apos;, &apos;Military&apos;, &apos;Shounen&apos;]</td><td>tv</td><td>7.47793</td></tr><tr><th>9</th><td>41169</td><td>Love Live! Superstar!!</td><td>[&apos;Music&apos;, &apos;School&apos;, &apos;Slice of Life&apos;]</td><td>tv</td><td>7.45217</td></tr><tr><th>10</th><td>40028</td><td>Shingeki no Kyojin: The Final Season</td><td>[&apos;Action&apos;, &apos;Drama&apos;, &apos;Fantasy&apos;, &apos;Military&apos;, &apos;Mystery&apos;, &apos;Shounen&apos;, &apos;Super Power&apos;]</td><td>tv</td><td>7.45066</td></tr><tr><th>11</th><td>11061</td><td>Hunter x Hunter (2011)</td><td>[&apos;Action&apos;, &apos;Adventure&apos;, &apos;Fantasy&apos;, &apos;Shounen&apos;, &apos;Super Power&apos;]</td><td>tv</td><td>7.41402</td></tr><tr><th>12</th><td>877</td><td>Nana</td><td>[&apos;Comedy&apos;, &apos;Drama&apos;, &apos;Music&apos;, &apos;Romance&apos;, &apos;Shoujo&apos;, &apos;Slice of Life&apos;]</td><td>tv</td><td>7.3649</td></tr><tr><th>13</th><td>19111</td><td>Love Live! School Idol Project 2nd Season</td><td>[&apos;Music&apos;, &apos;School&apos;, &apos;Slice of Life&apos;]</td><td>tv</td><td>7.35735</td></tr><tr><th>14</th><td>31988</td><td>Hibike! Euphonium 2</td><td>[&apos;Drama&apos;, &apos;Music&apos;, &apos;School&apos;]</td><td>tv</td><td>7.34962</td></tr><tr><th>15</th><td>39808</td><td>Non Non Biyori Nonstop</td><td>[&apos;Comedy&apos;, &apos;Seinen&apos;, &apos;Slice of Life&apos;]</td><td>tv</td><td>7.33755</td></tr><tr><th>16</th><td>42941</td><td>Uma Musume: Pretty Derby (TV) Season 2</td><td>[&apos;Comedy&apos;, &apos;Slice of Life&apos;, &apos;Sports&apos;]</td><td>tv</td><td>7.29851</td></tr><tr><th>17</th><td>80</td><td>Mobile Suit Gundam</td><td>[&apos;Mecha&apos;, &apos;Military&apos;, &apos;Sci-Fi&apos;, &apos;Space&apos;]</td><td>tv</td><td>7.28864</td></tr><tr><th>18</th><td>34973</td><td>Love Live! Sunshine!! 2nd Season</td><td>[&apos;Music&apos;, &apos;School&apos;, &apos;Slice of Life&apos;]</td><td>tv</td><td>7.27181</td></tr><tr><th>19</th><td>23623</td><td>Non Non Biyori Repeat</td><td>[&apos;Comedy&apos;, &apos;School&apos;, &apos;Seinen&apos;, &apos;Slice of Life&apos;]</td><td>tv</td><td>7.26815</td></tr><tr><th>20</th><td>1065</td><td>Touch</td><td>[&apos;Drama&apos;, &apos;Romance&apos;, &apos;School&apos;, &apos;Shounen&apos;, &apos;Slice of Life&apos;, &apos;Sports&apos;]</td><td>tv</td><td>7.25215</td></tr><tr><th>21</th><td>5941</td><td>Cross Game</td><td>[&apos;Comedy&apos;, &apos;Drama&apos;, &apos;Romance&apos;, &apos;School&apos;, &apos;Shounen&apos;, &apos;Sports&apos;]</td><td>tv</td><td>7.23061</td></tr><tr><th>22</th><td>32526</td><td>Love Live! Sunshine!!</td><td>[&apos;Music&apos;, &apos;School&apos;, &apos;Slice of Life&apos;]</td><td>tv</td><td>7.21328</td></tr><tr><th>23</th><td>37870</td><td>BanG Dream! 3rd Season</td><td>[&apos;Music&apos;]</td><td>tv</td><td>7.18269</td></tr><tr><th>24</th><td>1530</td><td>Kanon (2006)</td><td>[&apos;Drama&apos;, &apos;Romance&apos;, &apos;Slice of Life&apos;, &apos;Supernatural&apos;]</td><td>tv</td><td>7.16971</td></tr><tr><th>25</th><td>3750</td><td>Maria-sama ga Miteru 4th</td><td>[&apos;Girls Love&apos;, &apos;School&apos;, &apos;Shoujo&apos;, &apos;Slice of Life&apos;]</td><td>tv</td><td>7.16793</td></tr><tr><th>26</th><td>593</td><td>Mugen no Ryvius</td><td>[&apos;Drama&apos;, &apos;Mecha&apos;, &apos;Military&apos;, &apos;Psychological&apos;, &apos;Sci-Fi&apos;, &apos;Space&apos;]</td><td>tv</td><td>7.13316</td></tr><tr><th>27</th><td>25835</td><td>Shirobako</td><td>[&apos;Comedy&apos;, &apos;Drama&apos;]</td><td>tv</td><td>7.13154</td></tr><tr><th>28</th><td>40776</td><td>Haikyuu!!: To the Top 2nd Season</td><td>[&apos;Comedy&apos;, &apos;Drama&apos;, &apos;School&apos;, &apos;Shounen&apos;, &apos;Sports&apos;]</td><td>tv</td><td>7.10445</td></tr><tr><th>29</th><td>33589</td><td>ViVid Strike!</td><td>[&apos;Action&apos;, &apos;Drama&apos;, &apos;Martial Arts&apos;]</td><td>tv</td><td>7.10018</td></tr><tr><th>30</th><td>93</td><td>Mobile Suit Gundam SEED</td><td>[&apos;Action&apos;, &apos;Drama&apos;, &apos;Mecha&apos;, &apos;Military&apos;, &apos;Romance&apos;, &apos;Sci-Fi&apos;, &apos;Space&apos;]</td><td>tv</td><td>7.08302</td></tr><tr><th>&vellip;</th><td>&vellip;</td><td>&vellip;</td><td>&vellip;</td><td>&vellip;</td><td>&vellip;</td></tr></tbody></table></div>"
      ],
      "text/latex": [
       "\\begin{tabular}{r|ccccc}\n",
       "\t& anime\\_id & title & genres & medium & rating\\\\\n",
       "\t\\hline\n",
       "\t& Int64 & String & String & String7 & Float64\\\\\n",
       "\t\\hline\n",
       "\t1 & 42587 & Yuuki Yuuna wa Yuusha de Aru: Dai Mankai no Shou & ['Drama', 'Fantasy', 'Slice of Life'] & tv & 8.31332 \\\\\n",
       "\t2 & 2921 & Ashita no Joe 2 & ['Action', 'Drama', 'Shounen', 'Slice of Life', 'Sports'] & tv & 8.09726 \\\\\n",
       "\t3 & 45576 & Mushoku Tensei: Isekai Ittara Honki Dasu Part 2 & ['Drama', 'Ecchi', 'Fantasy'] & tv & 7.8638 \\\\\n",
       "\t4 & 38524 & Shingeki no Kyojin Season 3 Part 2 & ['Action', 'Drama', 'Fantasy', 'Military', 'Mystery', 'Shounen', 'Super Power'] & tv & 7.73232 \\\\\n",
       "\t5 & 28891 & Haikyuu!! Second Season & ['Comedy', 'Drama', 'School', 'Shounen', 'Sports'] & tv & 7.6985 \\\\\n",
       "\t6 & 32843 & Senki Zesshou Symphogear XV & ['Action', 'Music', 'Sci-Fi'] & tv & 7.60041 \\\\\n",
       "\t7 & 32935 & Haikyuu!!: Karasuno Koukou vs. Shiratorizawa Gakuen Koukou & ['Comedy', 'Drama', 'School', 'Shounen', 'Sports'] & tv & 7.54376 \\\\\n",
       "\t8 & 5114 & Fullmetal Alchemist: Brotherhood & ['Action', 'Adventure', 'Comedy', 'Drama', 'Fantasy', 'Military', 'Shounen'] & tv & 7.47793 \\\\\n",
       "\t9 & 41169 & Love Live! Superstar!! & ['Music', 'School', 'Slice of Life'] & tv & 7.45217 \\\\\n",
       "\t10 & 40028 & Shingeki no Kyojin: The Final Season & ['Action', 'Drama', 'Fantasy', 'Military', 'Mystery', 'Shounen', 'Super Power'] & tv & 7.45066 \\\\\n",
       "\t11 & 11061 & Hunter x Hunter (2011) & ['Action', 'Adventure', 'Fantasy', 'Shounen', 'Super Power'] & tv & 7.41402 \\\\\n",
       "\t12 & 877 & Nana & ['Comedy', 'Drama', 'Music', 'Romance', 'Shoujo', 'Slice of Life'] & tv & 7.3649 \\\\\n",
       "\t13 & 19111 & Love Live! School Idol Project 2nd Season & ['Music', 'School', 'Slice of Life'] & tv & 7.35735 \\\\\n",
       "\t14 & 31988 & Hibike! Euphonium 2 & ['Drama', 'Music', 'School'] & tv & 7.34962 \\\\\n",
       "\t15 & 39808 & Non Non Biyori Nonstop & ['Comedy', 'Seinen', 'Slice of Life'] & tv & 7.33755 \\\\\n",
       "\t16 & 42941 & Uma Musume: Pretty Derby (TV) Season 2 & ['Comedy', 'Slice of Life', 'Sports'] & tv & 7.29851 \\\\\n",
       "\t17 & 80 & Mobile Suit Gundam & ['Mecha', 'Military', 'Sci-Fi', 'Space'] & tv & 7.28864 \\\\\n",
       "\t18 & 34973 & Love Live! Sunshine!! 2nd Season & ['Music', 'School', 'Slice of Life'] & tv & 7.27181 \\\\\n",
       "\t19 & 23623 & Non Non Biyori Repeat & ['Comedy', 'School', 'Seinen', 'Slice of Life'] & tv & 7.26815 \\\\\n",
       "\t20 & 1065 & Touch & ['Drama', 'Romance', 'School', 'Shounen', 'Slice of Life', 'Sports'] & tv & 7.25215 \\\\\n",
       "\t21 & 5941 & Cross Game & ['Comedy', 'Drama', 'Romance', 'School', 'Shounen', 'Sports'] & tv & 7.23061 \\\\\n",
       "\t22 & 32526 & Love Live! Sunshine!! & ['Music', 'School', 'Slice of Life'] & tv & 7.21328 \\\\\n",
       "\t23 & 37870 & BanG Dream! 3rd Season & ['Music'] & tv & 7.18269 \\\\\n",
       "\t24 & 1530 & Kanon (2006) & ['Drama', 'Romance', 'Slice of Life', 'Supernatural'] & tv & 7.16971 \\\\\n",
       "\t25 & 3750 & Maria-sama ga Miteru 4th & ['Girls Love', 'School', 'Shoujo', 'Slice of Life'] & tv & 7.16793 \\\\\n",
       "\t26 & 593 & Mugen no Ryvius & ['Drama', 'Mecha', 'Military', 'Psychological', 'Sci-Fi', 'Space'] & tv & 7.13316 \\\\\n",
       "\t27 & 25835 & Shirobako & ['Comedy', 'Drama'] & tv & 7.13154 \\\\\n",
       "\t28 & 40776 & Haikyuu!!: To the Top 2nd Season & ['Comedy', 'Drama', 'School', 'Shounen', 'Sports'] & tv & 7.10445 \\\\\n",
       "\t29 & 33589 & ViVid Strike! & ['Action', 'Drama', 'Martial Arts'] & tv & 7.10018 \\\\\n",
       "\t30 & 93 & Mobile Suit Gundam SEED & ['Action', 'Drama', 'Mecha', 'Military', 'Romance', 'Sci-Fi', 'Space'] & tv & 7.08302 \\\\\n",
       "\t$\\dots$ & $\\dots$ & $\\dots$ & $\\dots$ & $\\dots$ & $\\dots$ \\\\\n",
       "\\end{tabular}\n"
      ],
      "text/plain": [
       "\u001b[1m5221×5 DataFrame\u001b[0m\n",
       "\u001b[1m  Row \u001b[0m│\u001b[1m anime_id \u001b[0m\u001b[1m title                             \u001b[0m\u001b[1m genres                            \u001b[0m\u001b[1m medium  \u001b[0m\u001b[1m rating  \u001b[0m\n",
       "\u001b[1m      \u001b[0m│\u001b[90m Int64    \u001b[0m\u001b[90m String                            \u001b[0m\u001b[90m String                            \u001b[0m\u001b[90m String7 \u001b[0m\u001b[90m Float64 \u001b[0m\n",
       "──────┼──────────────────────────────────────────────────────────────────────────────────────────────────\n",
       "    1 │    42587  Yuuki Yuuna wa Yuusha de Aru: Da…  ['Drama', 'Fantasy', 'Slice of L…  tv       8.31332\n",
       "    2 │     2921  Ashita no Joe 2                    ['Action', 'Drama', 'Shounen', '…  tv       8.09726\n",
       "    3 │    45576  Mushoku Tensei: Isekai Ittara Ho…  ['Drama', 'Ecchi', 'Fantasy']      tv       7.8638\n",
       "    4 │    38524  Shingeki no Kyojin Season 3 Part…  ['Action', 'Drama', 'Fantasy', '…  tv       7.73232\n",
       "    5 │    28891  Haikyuu!! Second Season            ['Comedy', 'Drama', 'School', 'S…  tv       7.6985\n",
       "    6 │    32843  Senki Zesshou Symphogear XV        ['Action', 'Music', 'Sci-Fi']      tv       7.60041\n",
       "    7 │    32935  Haikyuu!!: Karasuno Koukou vs. S…  ['Comedy', 'Drama', 'School', 'S…  tv       7.54376\n",
       "    8 │     5114  Fullmetal Alchemist: Brotherhood   ['Action', 'Adventure', 'Comedy'…  tv       7.47793\n",
       "    9 │    41169  Love Live! Superstar!!             ['Music', 'School', 'Slice of Li…  tv       7.45217\n",
       "   10 │    40028  Shingeki no Kyojin: The Final Se…  ['Action', 'Drama', 'Fantasy', '…  tv       7.45066\n",
       "   11 │    11061  Hunter x Hunter (2011)             ['Action', 'Adventure', 'Fantasy…  tv       7.41402\n",
       "  ⋮   │    ⋮                      ⋮                                  ⋮                     ⋮        ⋮\n",
       " 5212 │    25867  Rolling☆Girls                      ['Action', 'Adventure', 'Slice o…  tv       0.0\n",
       " 5213 │    25939  Mahou Shoujo Lyrical Nanoha ViVid  ['Action', 'Adventure', 'Martial…  tv       0.0\n",
       " 5214 │    28735  Shouwa Genroku Rakugo Shinjuu      ['Drama', 'Historical', 'Josei']   tv       0.0\n",
       " 5215 │    31043  Boku dake ga Inai Machi            ['Mystery', 'Psychological', 'Se…  tv       0.0\n",
       " 5216 │    31240  Re:Zero kara Hajimeru Isekai Sei…  ['Drama', 'Fantasy', 'Psychologi…  tv       0.0\n",
       " 5217 │    31376  Flying Witch                       ['Comedy', 'Shounen', 'Slice of …  tv       0.0\n",
       " 5218 │    31646  3-gatsu no Lion                    ['Drama', 'Game', 'Seinen', 'Sli…  tv       0.0\n",
       " 5219 │    31764  Nejimaki Seirei Senki: Tenkyou n…  ['Action', 'Adventure', 'Fantasy…  tv       0.0\n",
       " 5220 │    31953  New Game!                          ['Comedy', 'Game', 'Slice of Lif…  tv       0.0\n",
       " 5221 │    31964  Boku no Hero Academia              ['Action', 'Comedy', 'School', '…  tv       0.0\n",
       "\u001b[36m                                                                                        5200 rows omitted\u001b[0m"
      ]
     },
     "execution_count": 8,
     "metadata": {},
     "output_type": "execute_result"
    }
   ],
   "source": [
    "rec_df = innerjoin(anime_to_uid, rating_df, on = \"uid\");\n",
    "rec_df = rec_df[:, [\"anime_id\", \"title\", \"genres\", \"medium\", \"rating\"]];\n",
    "filter(x -> x.medium == \"tv\", sort!(rec_df, :rating, rev = true))"
   ]
  },
  {
   "cell_type": "code",
   "execution_count": 9,
   "id": "4805db5a-b8f6-42a0-a0b0-94fd50882fd5",
   "metadata": {},
   "outputs": [
    {
     "data": {
      "text/html": [
       "<div class=\"data-frame\"><p>16,973 rows × 5 columns</p><table class=\"data-frame\"><thead><tr><th></th><th>anime_id</th><th>title</th><th>genres</th><th>medium</th><th>rating</th></tr><tr><th></th><th title=\"Int64\">Int64</th><th title=\"String\">String</th><th title=\"String\">String</th><th title=\"String7\">String7</th><th title=\"Float64\">Float64</th></tr></thead><tbody><tr><th>1</th><td>34376</td><td>Yuuki Yuuna wa Yuusha de Aru: Washio Sumi no Shou 3 - Yakusoku</td><td>[&apos;Drama&apos;, &apos;Fantasy&apos;, &apos;Slice of Life&apos;]</td><td>movie</td><td>9.07414</td></tr><tr><th>2</th><td>11979</td><td>Mahou Shoujo Madoka★Magica Movie 2: Eien no Monogatari</td><td>[&apos;Drama&apos;, &apos;Psychological&apos;, &apos;Suspense&apos;]</td><td>movie</td><td>8.9394</td></tr><tr><th>3</th><td>34375</td><td>Yuuki Yuuna wa Yuusha de Aru: Washio Sumi no Shou 2 - Tamashii</td><td>[&apos;Drama&apos;, &apos;Fantasy&apos;, &apos;Slice of Life&apos;]</td><td>movie</td><td>8.92491</td></tr><tr><th>4</th><td>11977</td><td>Mahou Shoujo Madoka★Magica Movie 1: Hajimari no Monogatari</td><td>[&apos;Drama&apos;, &apos;Psychological&apos;, &apos;Suspense&apos;]</td><td>movie</td><td>8.76122</td></tr><tr><th>5</th><td>34374</td><td>Yuuki Yuuna wa Yuusha de Aru: Washio Sumi no Shou 1 - Tomodachi</td><td>[&apos;Drama&apos;, &apos;Fantasy&apos;, &apos;Slice of Life&apos;]</td><td>movie</td><td>8.50913</td></tr><tr><th>6</th><td>42587</td><td>Yuuki Yuuna wa Yuusha de Aru: Dai Mankai no Shou</td><td>[&apos;Drama&apos;, &apos;Fantasy&apos;, &apos;Slice of Life&apos;]</td><td>tv</td><td>8.31332</td></tr><tr><th>7</th><td>44042</td><td>Holo no Graffiti</td><td>[&apos;Comedy&apos;]</td><td>ona</td><td>8.21184</td></tr><tr><th>8</th><td>2921</td><td>Ashita no Joe 2</td><td>[&apos;Action&apos;, &apos;Drama&apos;, &apos;Shounen&apos;, &apos;Slice of Life&apos;, &apos;Sports&apos;]</td><td>tv</td><td>8.09726</td></tr><tr><th>9</th><td>45576</td><td>Mushoku Tensei: Isekai Ittara Honki Dasu Part 2</td><td>[&apos;Drama&apos;, &apos;Ecchi&apos;, &apos;Fantasy&apos;]</td><td>tv</td><td>7.8638</td></tr><tr><th>10</th><td>41674</td><td>Aria the Crepuscolo</td><td>[&apos;Fantasy&apos;, &apos;Sci-Fi&apos;, &apos;Shounen&apos;, &apos;Slice of Life&apos;]</td><td>movie</td><td>7.81974</td></tr><tr><th>11</th><td>36371</td><td>Ginga Eiyuu Densetsu: Die Neue These - Seiran 3</td><td>[&apos;Action&apos;, &apos;Drama&apos;, &apos;Military&apos;, &apos;Sci-Fi&apos;, &apos;Space&apos;]</td><td>movie</td><td>7.8117</td></tr><tr><th>12</th><td>31</td><td>Neon Genesis Evangelion: Death &amp; Rebirth</td><td>[&apos;Drama&apos;, &apos;Mecha&apos;, &apos;Psychological&apos;, &apos;Sci-Fi&apos;]</td><td>movie</td><td>7.75864</td></tr><tr><th>13</th><td>38524</td><td>Shingeki no Kyojin Season 3 Part 2</td><td>[&apos;Action&apos;, &apos;Drama&apos;, &apos;Fantasy&apos;, &apos;Military&apos;, &apos;Mystery&apos;, &apos;Shounen&apos;, &apos;Super Power&apos;]</td><td>tv</td><td>7.73232</td></tr><tr><th>14</th><td>42984</td><td>Gotcha!</td><td>[&apos;Fantasy&apos;, &apos;Music&apos;]</td><td>music</td><td>7.71446</td></tr><tr><th>15</th><td>4565</td><td>Tengen Toppa Gurren Lagann Movie 2: Lagann-hen</td><td>[&apos;Action&apos;, &apos;Mecha&apos;, &apos;Sci-Fi&apos;, &apos;Space&apos;, &apos;Super Power&apos;]</td><td>movie</td><td>7.71053</td></tr><tr><th>16</th><td>28891</td><td>Haikyuu!! Second Season</td><td>[&apos;Comedy&apos;, &apos;Drama&apos;, &apos;School&apos;, &apos;Shounen&apos;, &apos;Sports&apos;]</td><td>tv</td><td>7.6985</td></tr><tr><th>17</th><td>9204</td><td>Omae Umasou da na</td><td>[&apos;Action&apos;, &apos;Adventure&apos;, &apos;Fantasy&apos;, &apos;Kids&apos;]</td><td>movie</td><td>7.68707</td></tr><tr><th>18</th><td>29831</td><td>Tamayura: Sotsugyou Shashin Part 4 - Ashita</td><td>[&apos;Comedy&apos;, &apos;Drama&apos;, &apos;Slice of Life&apos;]</td><td>movie</td><td>7.6528</td></tr><tr><th>19</th><td>3371</td><td>Ginga Eiyuu Densetsu Gaiden</td><td>[&apos;Action&apos;, &apos;Drama&apos;, &apos;Military&apos;, &apos;Sci-Fi&apos;, &apos;Space&apos;]</td><td>ova</td><td>7.63855</td></tr><tr><th>20</th><td>32843</td><td>Senki Zesshou Symphogear XV</td><td>[&apos;Action&apos;, &apos;Music&apos;, &apos;Sci-Fi&apos;]</td><td>tv</td><td>7.60041</td></tr><tr><th>21</th><td>609</td><td>Saishuu Heiki Kanojo: Another Love Song</td><td>[&apos;Drama&apos;, &apos;Romance&apos;, &apos;Sci-Fi&apos;]</td><td>ova</td><td>7.58467</td></tr><tr><th>22</th><td>3016</td><td>Ginga Eiyuu Densetsu: Arata Naru Tatakai no Overture</td><td>[&apos;Action&apos;, &apos;Drama&apos;, &apos;Military&apos;, &apos;Sci-Fi&apos;, &apos;Space&apos;]</td><td>movie</td><td>7.57467</td></tr><tr><th>23</th><td>36370</td><td>Ginga Eiyuu Densetsu: Die Neue These - Seiran 2</td><td>[&apos;Action&apos;, &apos;Drama&apos;, &apos;Military&apos;, &apos;Sci-Fi&apos;, &apos;Space&apos;]</td><td>movie</td><td>7.54729</td></tr><tr><th>24</th><td>32935</td><td>Haikyuu!!: Karasuno Koukou vs. Shiratorizawa Gakuen Koukou</td><td>[&apos;Comedy&apos;, &apos;Drama&apos;, &apos;School&apos;, &apos;Shounen&apos;, &apos;Sports&apos;]</td><td>tv</td><td>7.54376</td></tr><tr><th>25</th><td>32826</td><td>Yuuki no Baton</td><td>[&apos;Music&apos;]</td><td>music</td><td>7.52974</td></tr><tr><th>26</th><td>3665</td><td>Ginga Eiyuu Densetsu Gaiden (1999)</td><td>[&apos;Action&apos;, &apos;Drama&apos;, &apos;Military&apos;, &apos;Sci-Fi&apos;, &apos;Space&apos;]</td><td>ova</td><td>7.5259</td></tr><tr><th>27</th><td>29829</td><td>Tamayura: Sotsugyou Shashin Part 2 - Hibiki</td><td>[&apos;Comedy&apos;, &apos;Drama&apos;, &apos;Slice of Life&apos;]</td><td>movie</td><td>7.51319</td></tr><tr><th>28</th><td>38081</td><td>Girls &amp; Panzer: Saishuushou Part 2</td><td>[&apos;Military&apos;, &apos;School&apos;]</td><td>movie</td><td>7.50357</td></tr><tr><th>29</th><td>4059</td><td>Clannad: Mou Hitotsu no Sekai, Tomoyo-hen</td><td>[&apos;Drama&apos;, &apos;Romance&apos;, &apos;School&apos;, &apos;Slice of Life&apos;]</td><td>special</td><td>7.5008</td></tr><tr><th>30</th><td>5114</td><td>Fullmetal Alchemist: Brotherhood</td><td>[&apos;Action&apos;, &apos;Adventure&apos;, &apos;Comedy&apos;, &apos;Drama&apos;, &apos;Fantasy&apos;, &apos;Military&apos;, &apos;Shounen&apos;]</td><td>tv</td><td>7.47793</td></tr><tr><th>&vellip;</th><td>&vellip;</td><td>&vellip;</td><td>&vellip;</td><td>&vellip;</td><td>&vellip;</td></tr></tbody></table></div>"
      ],
      "text/latex": [
       "\\begin{tabular}{r|ccccc}\n",
       "\t& anime\\_id & title & genres & medium & rating\\\\\n",
       "\t\\hline\n",
       "\t& Int64 & String & String & String7 & Float64\\\\\n",
       "\t\\hline\n",
       "\t1 & 34376 & Yuuki Yuuna wa Yuusha de Aru: Washio Sumi no Shou 3 - Yakusoku & ['Drama', 'Fantasy', 'Slice of Life'] & movie & 9.07414 \\\\\n",
       "\t2 & 11979 & Mahou Shoujo Madoka★Magica Movie 2: Eien no Monogatari & ['Drama', 'Psychological', 'Suspense'] & movie & 8.9394 \\\\\n",
       "\t3 & 34375 & Yuuki Yuuna wa Yuusha de Aru: Washio Sumi no Shou 2 - Tamashii & ['Drama', 'Fantasy', 'Slice of Life'] & movie & 8.92491 \\\\\n",
       "\t4 & 11977 & Mahou Shoujo Madoka★Magica Movie 1: Hajimari no Monogatari & ['Drama', 'Psychological', 'Suspense'] & movie & 8.76122 \\\\\n",
       "\t5 & 34374 & Yuuki Yuuna wa Yuusha de Aru: Washio Sumi no Shou 1 - Tomodachi & ['Drama', 'Fantasy', 'Slice of Life'] & movie & 8.50913 \\\\\n",
       "\t6 & 42587 & Yuuki Yuuna wa Yuusha de Aru: Dai Mankai no Shou & ['Drama', 'Fantasy', 'Slice of Life'] & tv & 8.31332 \\\\\n",
       "\t7 & 44042 & Holo no Graffiti & ['Comedy'] & ona & 8.21184 \\\\\n",
       "\t8 & 2921 & Ashita no Joe 2 & ['Action', 'Drama', 'Shounen', 'Slice of Life', 'Sports'] & tv & 8.09726 \\\\\n",
       "\t9 & 45576 & Mushoku Tensei: Isekai Ittara Honki Dasu Part 2 & ['Drama', 'Ecchi', 'Fantasy'] & tv & 7.8638 \\\\\n",
       "\t10 & 41674 & Aria the Crepuscolo & ['Fantasy', 'Sci-Fi', 'Shounen', 'Slice of Life'] & movie & 7.81974 \\\\\n",
       "\t11 & 36371 & Ginga Eiyuu Densetsu: Die Neue These - Seiran 3 & ['Action', 'Drama', 'Military', 'Sci-Fi', 'Space'] & movie & 7.8117 \\\\\n",
       "\t12 & 31 & Neon Genesis Evangelion: Death \\& Rebirth & ['Drama', 'Mecha', 'Psychological', 'Sci-Fi'] & movie & 7.75864 \\\\\n",
       "\t13 & 38524 & Shingeki no Kyojin Season 3 Part 2 & ['Action', 'Drama', 'Fantasy', 'Military', 'Mystery', 'Shounen', 'Super Power'] & tv & 7.73232 \\\\\n",
       "\t14 & 42984 & Gotcha! & ['Fantasy', 'Music'] & music & 7.71446 \\\\\n",
       "\t15 & 4565 & Tengen Toppa Gurren Lagann Movie 2: Lagann-hen & ['Action', 'Mecha', 'Sci-Fi', 'Space', 'Super Power'] & movie & 7.71053 \\\\\n",
       "\t16 & 28891 & Haikyuu!! Second Season & ['Comedy', 'Drama', 'School', 'Shounen', 'Sports'] & tv & 7.6985 \\\\\n",
       "\t17 & 9204 & Omae Umasou da na & ['Action', 'Adventure', 'Fantasy', 'Kids'] & movie & 7.68707 \\\\\n",
       "\t18 & 29831 & Tamayura: Sotsugyou Shashin Part 4 - Ashita & ['Comedy', 'Drama', 'Slice of Life'] & movie & 7.6528 \\\\\n",
       "\t19 & 3371 & Ginga Eiyuu Densetsu Gaiden & ['Action', 'Drama', 'Military', 'Sci-Fi', 'Space'] & ova & 7.63855 \\\\\n",
       "\t20 & 32843 & Senki Zesshou Symphogear XV & ['Action', 'Music', 'Sci-Fi'] & tv & 7.60041 \\\\\n",
       "\t21 & 609 & Saishuu Heiki Kanojo: Another Love Song & ['Drama', 'Romance', 'Sci-Fi'] & ova & 7.58467 \\\\\n",
       "\t22 & 3016 & Ginga Eiyuu Densetsu: Arata Naru Tatakai no Overture & ['Action', 'Drama', 'Military', 'Sci-Fi', 'Space'] & movie & 7.57467 \\\\\n",
       "\t23 & 36370 & Ginga Eiyuu Densetsu: Die Neue These - Seiran 2 & ['Action', 'Drama', 'Military', 'Sci-Fi', 'Space'] & movie & 7.54729 \\\\\n",
       "\t24 & 32935 & Haikyuu!!: Karasuno Koukou vs. Shiratorizawa Gakuen Koukou & ['Comedy', 'Drama', 'School', 'Shounen', 'Sports'] & tv & 7.54376 \\\\\n",
       "\t25 & 32826 & Yuuki no Baton & ['Music'] & music & 7.52974 \\\\\n",
       "\t26 & 3665 & Ginga Eiyuu Densetsu Gaiden (1999) & ['Action', 'Drama', 'Military', 'Sci-Fi', 'Space'] & ova & 7.5259 \\\\\n",
       "\t27 & 29829 & Tamayura: Sotsugyou Shashin Part 2 - Hibiki & ['Comedy', 'Drama', 'Slice of Life'] & movie & 7.51319 \\\\\n",
       "\t28 & 38081 & Girls \\& Panzer: Saishuushou Part 2 & ['Military', 'School'] & movie & 7.50357 \\\\\n",
       "\t29 & 4059 & Clannad: Mou Hitotsu no Sekai, Tomoyo-hen & ['Drama', 'Romance', 'School', 'Slice of Life'] & special & 7.5008 \\\\\n",
       "\t30 & 5114 & Fullmetal Alchemist: Brotherhood & ['Action', 'Adventure', 'Comedy', 'Drama', 'Fantasy', 'Military', 'Shounen'] & tv & 7.47793 \\\\\n",
       "\t$\\dots$ & $\\dots$ & $\\dots$ & $\\dots$ & $\\dots$ & $\\dots$ \\\\\n",
       "\\end{tabular}\n"
      ],
      "text/plain": [
       "\u001b[1m16973×5 DataFrame\u001b[0m\n",
       "\u001b[1m   Row \u001b[0m│\u001b[1m anime_id \u001b[0m\u001b[1m title                             \u001b[0m\u001b[1m genres                            \u001b[0m\u001b[1m medium  \u001b[0m\u001b[1m rating  \u001b[0m\n",
       "\u001b[1m       \u001b[0m│\u001b[90m Int64    \u001b[0m\u001b[90m String                            \u001b[0m\u001b[90m String                            \u001b[0m\u001b[90m String7 \u001b[0m\u001b[90m Float64 \u001b[0m\n",
       "───────┼──────────────────────────────────────────────────────────────────────────────────────────────────\n",
       "     1 │    34376  Yuuki Yuuna wa Yuusha de Aru: Wa…  ['Drama', 'Fantasy', 'Slice of L…  movie    9.07414\n",
       "     2 │    11979  Mahou Shoujo Madoka★Magica Movie…  ['Drama', 'Psychological', 'Susp…  movie    8.9394\n",
       "     3 │    34375  Yuuki Yuuna wa Yuusha de Aru: Wa…  ['Drama', 'Fantasy', 'Slice of L…  movie    8.92491\n",
       "     4 │    11977  Mahou Shoujo Madoka★Magica Movie…  ['Drama', 'Psychological', 'Susp…  movie    8.76122\n",
       "     5 │    34374  Yuuki Yuuna wa Yuusha de Aru: Wa…  ['Drama', 'Fantasy', 'Slice of L…  movie    8.50913\n",
       "     6 │    42587  Yuuki Yuuna wa Yuusha de Aru: Da…  ['Drama', 'Fantasy', 'Slice of L…  tv       8.31332\n",
       "     7 │    44042  Holo no Graffiti                   ['Comedy']                         ona      8.21184\n",
       "     8 │     2921  Ashita no Joe 2                    ['Action', 'Drama', 'Shounen', '…  tv       8.09726\n",
       "     9 │    45576  Mushoku Tensei: Isekai Ittara Ho…  ['Drama', 'Ecchi', 'Fantasy']      tv       7.8638\n",
       "    10 │    41674  Aria the Crepuscolo                ['Fantasy', 'Sci-Fi', 'Shounen',…  movie    7.81974\n",
       "    11 │    36371  Ginga Eiyuu Densetsu: Die Neue T…  ['Action', 'Drama', 'Military', …  movie    7.8117\n",
       "   ⋮   │    ⋮                      ⋮                                  ⋮                     ⋮        ⋮\n",
       " 16964 │    31240  Re:Zero kara Hajimeru Isekai Sei…  ['Drama', 'Fantasy', 'Psychologi…  tv       0.0\n",
       " 16965 │    31376  Flying Witch                       ['Comedy', 'Shounen', 'Slice of …  tv       0.0\n",
       " 16966 │    31646  3-gatsu no Lion                    ['Drama', 'Game', 'Seinen', 'Sli…  tv       0.0\n",
       " 16967 │    31757  Kizumonogatari II: Nekketsu-hen    ['Action', 'Mystery', 'Supernatu…  movie    0.0\n",
       " 16968 │    31758  Kizumonogatari III: Reiketsu-hen   ['Action', 'Mystery', 'Supernatu…  movie    0.0\n",
       " 16969 │    31763  Accel World: Infinite∞Burst        ['Action', 'Game', 'Romance', 'S…  movie    0.0\n",
       " 16970 │    31764  Nejimaki Seirei Senki: Tenkyou n…  ['Action', 'Adventure', 'Fantasy…  tv       0.0\n",
       " 16971 │    31953  New Game!                          ['Comedy', 'Game', 'Slice of Lif…  tv       0.0\n",
       " 16972 │    31964  Boku no Hero Academia              ['Action', 'Comedy', 'School', '…  tv       0.0\n",
       " 16973 │    32281  Kimi no Na wa.                     ['Drama', 'Romance', 'School', '…  movie    0.0\n",
       "\u001b[36m                                                                                        16952 rows omitted\u001b[0m"
      ]
     },
     "execution_count": 9,
     "metadata": {},
     "output_type": "execute_result"
    }
   ],
   "source": [
    "sort!(rec_df, :rating, rev = true)"
   ]
  },
  {
   "cell_type": "code",
   "execution_count": null,
   "id": "d79c8eb8-1af2-4f6f-943e-07dc480b214f",
   "metadata": {},
   "outputs": [],
   "source": []
  }
 ],
 "metadata": {
  "kernelspec": {
   "display_name": "Julia 1.6.3",
   "language": "julia",
   "name": "julia-1.6"
  },
  "language_info": {
   "file_extension": ".jl",
   "mimetype": "application/julia",
   "name": "julia",
   "version": "1.6.3"
  }
 },
 "nbformat": 4,
 "nbformat_minor": 5
}
