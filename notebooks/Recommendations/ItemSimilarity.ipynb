{
 "cells": [
  {
   "cell_type": "code",
   "execution_count": 1,
   "id": "79559bef-810a-402f-ad21-52092ec933f4",
   "metadata": {},
   "outputs": [],
   "source": [
    "name = \"../../data/recommendations/ItemSimilarity\"\n",
    "residual_alphas = [\"UserItemBiases\"];"
   ]
  },
  {
   "cell_type": "code",
   "execution_count": 2,
   "id": "69b5a19a-24f5-4730-afe2-f451d27d18e3",
   "metadata": {},
   "outputs": [],
   "source": [
    "using NBInclude\n",
    "@nbinclude(\"../TrainingAlphas/Alpha.ipynb\");"
   ]
  },
  {
   "cell_type": "code",
   "execution_count": 3,
   "id": "a4ca1ac7-bfe8-48ab-a190-872aba4f6f5d",
   "metadata": {},
   "outputs": [],
   "source": [
    "using SparseArrays\n",
    "using DataFrames"
   ]
  },
  {
   "cell_type": "code",
   "execution_count": 4,
   "id": "eba43860-7763-48cc-b677-64cd6e6c8e55",
   "metadata": {
    "tags": []
   },
   "outputs": [],
   "source": [
    "anime_to_uid = DataFrame(CSV.File(\"../../data/processed_data/anime_to_uid.csv\"));\n",
    "anime = DataFrame(CSV.File(\"../../data/raw_data/anime.csv\"));\n",
    "anime_to_uid = innerjoin(anime_to_uid, anime, on = \"anime_id\");"
   ]
  },
  {
   "cell_type": "markdown",
   "id": "03b8a971-b3be-48ab-a4d8-dd2d60f944a8",
   "metadata": {},
   "source": [
    "## Rating correlation"
   ]
  },
  {
   "cell_type": "code",
   "execution_count": 5,
   "id": "44769062-cd87-4646-b65b-27e64abab1c3",
   "metadata": {
    "collapsed": true,
    "jupyter": {
     "outputs_hidden": true
    },
    "tags": []
   },
   "outputs": [
    {
     "data": {
      "text/plain": [
       "452577×16980 SparseMatrixCSC{Float64, Int64} with 85391078 stored entries:\n",
       "⣿⡇\n",
       "⣿⡇\n",
       "⣿⡇\n",
       "⣿⡇\n",
       "⣿⡇\n",
       "⣿⡇\n",
       "⣿⡇\n",
       "⣿⡇\n",
       "⣿⡇\n",
       "⣿⡇\n",
       "⣿⡇\n",
       "⣿⡇\n",
       "⣿⡇\n",
       "⣿⡇\n",
       "⣿⡇\n",
       "⣿⡇\n",
       "⣿⡇\n",
       "⣿⡇\n",
       "⣿⡇\n",
       "⣿⡇\n",
       "⣿⡇\n",
       "⣿⡇\n",
       "⣿⡇\n",
       "⣿⡇\n",
       "⣿⡇\n",
       "⣿⡇"
      ]
     },
     "execution_count": 5,
     "metadata": {},
     "output_type": "execute_result"
    }
   ],
   "source": [
    "@memoize function get_norms(R)\n",
    "    norms = map(norm, eachslice(R, dims = 2))\n",
    "    norms[norms.==0] .= 1 # prevent division by 0\n",
    "    norms\n",
    "end;\n",
    "\n",
    "function get_correlation_neighborhood(item, R, K)\n",
    "    norms = get_norms(R)\n",
    "    weights = vec(R[:, item]' * R) ./ norms ./ norms[item]\n",
    "    order = sortperm(weights, rev = true)[1:K]\n",
    "    order[1:K], weights[order[1:K]]\n",
    "end\n",
    "\n",
    "const training = get_residuals(\"training\", residual_alphas);\n",
    "const validation = get_residuals(\"validation\", residual_alphas);\n",
    "const test = get_residuals(\"test\", residual_alphas);\n",
    "const allsplits = RatingsDataset(\n",
    "    [training.user; validation.user; test.user],\n",
    "    [training.item; validation.item; test.item],\n",
    "    [training.rating; validation.rating; test.rating],\n",
    ")\n",
    "\n",
    "R = sparse(\n",
    "    allsplits.user,\n",
    "    allsplits.item,\n",
    "    allsplits.rating,\n",
    "    maximum(allsplits.user),\n",
    "    maximum(allsplits.item),\n",
    ");"
   ]
  },
  {
   "cell_type": "markdown",
   "id": "2786bacf-374e-4360-b594-e50850db59cf",
   "metadata": {},
   "source": [
    "## Embedding distance"
   ]
  },
  {
   "cell_type": "code",
   "execution_count": 6,
   "id": "7b9b0a88-142e-44ba-8411-e8f9fd7c9ce7",
   "metadata": {
    "collapsed": true,
    "jupyter": {
     "outputs_hidden": true
    },
    "tags": []
   },
   "outputs": [
    {
     "data": {
      "text/plain": [
       "70×16980 Matrix{Float64}:\n",
       "  4.45117     -5.27797    -3.11874    …   2.38678    -0.512491   -2.97931\n",
       " -1.53218      1.99659    -3.09534       -0.972563   -1.04417    -0.0300188\n",
       " -0.689801    11.8814     -2.27086       -1.61779    -5.36215    -3.00539\n",
       " -2.92707     -1.52531     4.66393       -0.715207    0.488593   -0.454993\n",
       "  2.88846      5.30894     3.03145        3.43452     3.43271     0.0886305\n",
       "  2.16354     -0.533594   -3.59314    …   3.3231      2.73315     2.55765\n",
       " -2.82664     -0.919777    5.02297       -1.99147    -2.25105    -0.943974\n",
       "  2.65113      1.33519     4.31841        2.78762     0.140085    0.42208\n",
       "  2.68568      2.64292     5.8812        -1.03283    -0.533891    1.99329\n",
       " -0.192814     5.2517     -2.06104        2.1356      1.16085     1.44298\n",
       "  0.63419     -3.187      -1.02936    …   0.528929   -0.812027   -0.717707\n",
       "  0.621811     5.53095    -0.994116       0.166121    0.787742    0.455445\n",
       "  1.2595       8.21105     1.23921       -0.345008   -0.263606    0.617078\n",
       "  ⋮                                   ⋱                          \n",
       "  0.0886134   -0.0191905  -0.523426      -0.0279604  -0.163051   -0.204838\n",
       "  0.00974589  -1.9482      0.676493      -0.17651    -0.18282    -0.0862339\n",
       " -0.352341    -0.557321    0.0626145  …  -0.313731   -0.212932   -0.0512505\n",
       " -0.341794    -1.21822     0.0641156     -0.436757   -0.170861    0.0278771\n",
       " -0.0951454    2.25335     0.267724      -0.307716    0.026708    0.0420254\n",
       "  0.219119     1.52464     0.179348      -0.0371608   0.0211638   0.14152\n",
       "  0.193319    -3.12683    -0.241916       0.0682114  -0.141616   -0.0391512\n",
       " -0.246025     0.653441    0.301691   …  -0.315579   -0.0812223   0.023294\n",
       " -0.267562    -6.52337     0.122799      -0.286098   -0.228247   -0.19845\n",
       " -0.0221519    2.42836    -0.367403      -0.110393   -0.136239   -0.15838\n",
       " -0.0701931    0.0580322  -0.0848301     -0.0227363   0.0732937   0.0174704\n",
       " -0.25261     -2.76672     0.300221      -0.154919   -0.143486   -0.189982"
      ]
     },
     "execution_count": 6,
     "metadata": {},
     "output_type": "execute_result"
    }
   ],
   "source": [
    "function get_embedding_neighborhood(item, kernel, K, p)\n",
    "    dists = map(x -> norm(x, p), eachslice(kernel .- kernel[:, item], dims = 2))\n",
    "    weights = -dists\n",
    "    order = sortperm(dists)[1:K]\n",
    "    order[1:K], weights[order[1:K]]\n",
    "end\n",
    "\n",
    "\n",
    "item_embeddings = vcat(\n",
    "    [\n",
    "        collect(read_params(\"MatrixFactorization10\")[\"A\"]')\n",
    "        collect(read_params(\"MatrixFactorization20\")[\"A\"]')\n",
    "        collect(read_params(\"MatrixFactorization40\")[\"A\"]')\n",
    "    ],\n",
    ");"
   ]
  },
  {
   "cell_type": "markdown",
   "id": "19366469-871e-49c9-9939-ffbd61a093e8",
   "metadata": {},
   "source": [
    "# Compute Neighborhoods"
   ]
  },
  {
   "cell_type": "code",
   "execution_count": 7,
   "id": "061073cd-55d2-4db6-ae8d-1c032ef13a6a",
   "metadata": {},
   "outputs": [],
   "source": [
    "uid = only(anime_to_uid[anime_to_uid.anime_id.==26, :uid]);"
   ]
  },
  {
   "cell_type": "code",
   "execution_count": 8,
   "id": "12f00826-c379-43f6-b6c0-d03c5f4bc4cd",
   "metadata": {},
   "outputs": [],
   "source": [
    "items, weights = get_correlation_neighborhood(uid + 1, R, 30);\n",
    "corr_df = DataFrame(anime = items, weight = weights);"
   ]
  },
  {
   "cell_type": "code",
   "execution_count": 9,
   "id": "d3d19bfa-440d-4e09-8b17-dcee6a629e2e",
   "metadata": {},
   "outputs": [],
   "source": [
    "items, weights = get_embedding_neighborhood(uid + 1, item_embeddings, 30, 2);\n",
    "embed_df = DataFrame(anime = items, weight = weights);"
   ]
  },
  {
   "cell_type": "markdown",
   "id": "1f86d5cb-ed10-40cd-ac34-a41c4facb4d4",
   "metadata": {},
   "source": [
    "# Display Similar Series"
   ]
  },
  {
   "cell_type": "code",
   "execution_count": 10,
   "id": "f9d4be81-1f2b-4bfb-b23d-8cd19d63335f",
   "metadata": {},
   "outputs": [],
   "source": [
    "function get_series(df)\n",
    "    df = copy(df)\n",
    "    df[!, :uid] = df[:, :anime] .- 1\n",
    "    sim = innerjoin(df, anime_to_uid, on = \"uid\")\n",
    "    sort(sim, :weight, rev = true)\n",
    "end;"
   ]
  },
  {
   "cell_type": "code",
   "execution_count": 11,
   "id": "995d184c-e231-40bc-a2fe-ff36af78a243",
   "metadata": {},
   "outputs": [
    {
     "data": {
      "text/html": [
       "<div class=\"data-frame\"><p>30 rows × 9 columns (omitted printing of 4 columns)</p><table class=\"data-frame\"><thead><tr><th></th><th>anime</th><th>weight</th><th>uid</th><th>anime_id</th><th>title</th></tr><tr><th></th><th title=\"Int64\">Int64</th><th title=\"Float64\">Float64</th><th title=\"Int64\">Int64</th><th title=\"Int64\">Int64</th><th title=\"String\">String</th></tr></thead><tbody><tr><th>1</th><td>25</td><td>1.0</td><td>24</td><td>26</td><td>Texhnolyze</td></tr><tr><th>2</th><td>336</td><td>0.192323</td><td>335</td><td>339</td><td>Serial Experiments Lain</td></tr><tr><th>3</th><td>386</td><td>0.172929</td><td>385</td><td>387</td><td>Haibane Renmei</td></tr><tr><th>4</th><td>873</td><td>0.151092</td><td>872</td><td>885</td><td>Tenshi no Tamago</td></tr><tr><th>5</th><td>7393</td><td>0.14446</td><td>7392</td><td>7785</td><td>Yojouhan Shinwa Taikei</td></tr><tr><th>6</th><td>3640</td><td>0.139111</td><td>3639</td><td>3701</td><td>Kaiba</td></tr><tr><th>7</th><td>568</td><td>0.13849</td><td>567</td><td>570</td><td>Jin-Rou</td></tr><tr><th>8</th><td>366</td><td>0.136902</td><td>365</td><td>369</td><td>Boogiepop wa Warawanai</td></tr><tr><th>9</th><td>811</td><td>0.133121</td><td>810</td><td>820</td><td>Ginga Eiyuu Densetsu</td></tr><tr><th>10</th><td>434</td><td>0.128573</td><td>433</td><td>437</td><td>Perfect Blue</td></tr><tr><th>11</th><td>781</td><td>0.128206</td><td>780</td><td>790</td><td>Ergo Proxy</td></tr><tr><th>12</th><td>42</td><td>0.127879</td><td>41</td><td>43</td><td>Koukaku Kidoutai</td></tr><tr><th>13</th><td>320</td><td>0.126176</td><td>319</td><td>323</td><td>Mousou Dairinin</td></tr><tr><th>14</th><td>31</td><td>0.12395</td><td>30</td><td>32</td><td>Neon Genesis Evangelion: The End of Evangelion</td></tr><tr><th>15</th><td>1084</td><td>0.12327</td><td>1083</td><td>1096</td><td>Kidou Keisatsu Patlabor 2 the Movie</td></tr><tr><th>16</th><td>13864</td><td>0.123133</td><td>13863</td><td>22135</td><td>Ping Pong the Animation</td></tr><tr><th>17</th><td>18</td><td>0.12161</td><td>17</td><td>19</td><td>Monster</td></tr><tr><th>18</th><td>2229</td><td>0.119427</td><td>2228</td><td>2246</td><td>Mononoke</td></tr><tr><th>19</th><td>4820</td><td>0.116617</td><td>4819</td><td>4981</td><td>Casshern Sins</td></tr><tr><th>20</th><td>1021</td><td>0.115501</td><td>1020</td><td>1033</td><td>Sennen Joyuu</td></tr><tr><th>21</th><td>792</td><td>0.113178</td><td>791</td><td>801</td><td>Koukaku Kidoutai: Stand Alone Complex 2nd GIG</td></tr><tr><th>22</th><td>483</td><td>0.110927</td><td>482</td><td>486</td><td>Kino no Tabi: The Beautiful World</td></tr><tr><th>23</th><td>464</td><td>0.109888</td><td>463</td><td>467</td><td>Koukaku Kidoutai: Stand Alone Complex</td></tr><tr><th>24</th><td>454</td><td>0.109553</td><td>453</td><td>457</td><td>Mushishi</td></tr><tr><th>25</th><td>437</td><td>0.1087</td><td>436</td><td>440</td><td>Shoujo Kakumei Utena</td></tr><tr><th>26</th><td>29</td><td>0.105839</td><td>28</td><td>30</td><td>Neon Genesis Evangelion</td></tr><tr><th>27</th><td>2385</td><td>0.100721</td><td>2384</td><td>2402</td><td>Ashita no Joe</td></tr><tr><th>28</th><td>1198</td><td>0.0996785</td><td>1197</td><td>1210</td><td>NHK ni Youkoso!</td></tr><tr><th>29</th><td>2895</td><td>0.0994763</td><td>2894</td><td>2921</td><td>Ashita no Joe 2</td></tr><tr><th>30</th><td>863</td><td>0.0991377</td><td>862</td><td>875</td><td>Mind Game</td></tr></tbody></table></div>"
      ],
      "text/latex": [
       "\\begin{tabular}{r|cccccc}\n",
       "\t& anime & weight & uid & anime\\_id & title & \\\\\n",
       "\t\\hline\n",
       "\t& Int64 & Float64 & Int64 & Int64 & String & \\\\\n",
       "\t\\hline\n",
       "\t1 & 25 & 1.0 & 24 & 26 & Texhnolyze & $\\dots$ \\\\\n",
       "\t2 & 336 & 0.192323 & 335 & 339 & Serial Experiments Lain & $\\dots$ \\\\\n",
       "\t3 & 386 & 0.172929 & 385 & 387 & Haibane Renmei & $\\dots$ \\\\\n",
       "\t4 & 873 & 0.151092 & 872 & 885 & Tenshi no Tamago & $\\dots$ \\\\\n",
       "\t5 & 7393 & 0.14446 & 7392 & 7785 & Yojouhan Shinwa Taikei & $\\dots$ \\\\\n",
       "\t6 & 3640 & 0.139111 & 3639 & 3701 & Kaiba & $\\dots$ \\\\\n",
       "\t7 & 568 & 0.13849 & 567 & 570 & Jin-Rou & $\\dots$ \\\\\n",
       "\t8 & 366 & 0.136902 & 365 & 369 & Boogiepop wa Warawanai & $\\dots$ \\\\\n",
       "\t9 & 811 & 0.133121 & 810 & 820 & Ginga Eiyuu Densetsu & $\\dots$ \\\\\n",
       "\t10 & 434 & 0.128573 & 433 & 437 & Perfect Blue & $\\dots$ \\\\\n",
       "\t11 & 781 & 0.128206 & 780 & 790 & Ergo Proxy & $\\dots$ \\\\\n",
       "\t12 & 42 & 0.127879 & 41 & 43 & Koukaku Kidoutai & $\\dots$ \\\\\n",
       "\t13 & 320 & 0.126176 & 319 & 323 & Mousou Dairinin & $\\dots$ \\\\\n",
       "\t14 & 31 & 0.12395 & 30 & 32 & Neon Genesis Evangelion: The End of Evangelion & $\\dots$ \\\\\n",
       "\t15 & 1084 & 0.12327 & 1083 & 1096 & Kidou Keisatsu Patlabor 2 the Movie & $\\dots$ \\\\\n",
       "\t16 & 13864 & 0.123133 & 13863 & 22135 & Ping Pong the Animation & $\\dots$ \\\\\n",
       "\t17 & 18 & 0.12161 & 17 & 19 & Monster & $\\dots$ \\\\\n",
       "\t18 & 2229 & 0.119427 & 2228 & 2246 & Mononoke & $\\dots$ \\\\\n",
       "\t19 & 4820 & 0.116617 & 4819 & 4981 & Casshern Sins & $\\dots$ \\\\\n",
       "\t20 & 1021 & 0.115501 & 1020 & 1033 & Sennen Joyuu & $\\dots$ \\\\\n",
       "\t21 & 792 & 0.113178 & 791 & 801 & Koukaku Kidoutai: Stand Alone Complex 2nd GIG & $\\dots$ \\\\\n",
       "\t22 & 483 & 0.110927 & 482 & 486 & Kino no Tabi: The Beautiful World & $\\dots$ \\\\\n",
       "\t23 & 464 & 0.109888 & 463 & 467 & Koukaku Kidoutai: Stand Alone Complex & $\\dots$ \\\\\n",
       "\t24 & 454 & 0.109553 & 453 & 457 & Mushishi & $\\dots$ \\\\\n",
       "\t25 & 437 & 0.1087 & 436 & 440 & Shoujo Kakumei Utena & $\\dots$ \\\\\n",
       "\t26 & 29 & 0.105839 & 28 & 30 & Neon Genesis Evangelion & $\\dots$ \\\\\n",
       "\t27 & 2385 & 0.100721 & 2384 & 2402 & Ashita no Joe & $\\dots$ \\\\\n",
       "\t28 & 1198 & 0.0996785 & 1197 & 1210 & NHK ni Youkoso! & $\\dots$ \\\\\n",
       "\t29 & 2895 & 0.0994763 & 2894 & 2921 & Ashita no Joe 2 & $\\dots$ \\\\\n",
       "\t30 & 863 & 0.0991377 & 862 & 875 & Mind Game & $\\dots$ \\\\\n",
       "\\end{tabular}\n"
      ],
      "text/plain": [
       "\u001b[1m30×9 DataFrame\u001b[0m\n",
       "\u001b[1m Row \u001b[0m│\u001b[1m anime \u001b[0m\u001b[1m weight    \u001b[0m\u001b[1m uid   \u001b[0m\u001b[1m anime_id \u001b[0m\u001b[1m title                             \u001b[0m\u001b[1m g\u001b[0m ⋯\n",
       "\u001b[1m     \u001b[0m│\u001b[90m Int64 \u001b[0m\u001b[90m Float64   \u001b[0m\u001b[90m Int64 \u001b[0m\u001b[90m Int64    \u001b[0m\u001b[90m String                            \u001b[0m\u001b[90m S\u001b[0m ⋯\n",
       "─────┼──────────────────────────────────────────────────────────────────────────\n",
       "   1 │    25  1.0           24        26  Texhnolyze                         [ ⋯\n",
       "   2 │   336  0.192323     335       339  Serial Experiments Lain            [\n",
       "   3 │   386  0.172929     385       387  Haibane Renmei                     [\n",
       "   4 │   873  0.151092     872       885  Tenshi no Tamago                   [\n",
       "   5 │  7393  0.14446     7392      7785  Yojouhan Shinwa Taikei             [ ⋯\n",
       "   6 │  3640  0.139111    3639      3701  Kaiba                              [\n",
       "   7 │   568  0.13849      567       570  Jin-Rou                            [\n",
       "   8 │   366  0.136902     365       369  Boogiepop wa Warawanai             [\n",
       "   9 │   811  0.133121     810       820  Ginga Eiyuu Densetsu               [ ⋯\n",
       "  10 │   434  0.128573     433       437  Perfect Blue                       [\n",
       "  11 │   781  0.128206     780       790  Ergo Proxy                         [\n",
       "  ⋮  │   ⋮        ⋮        ⋮       ⋮                      ⋮                    ⋱\n",
       "  21 │   792  0.113178     791       801  Koukaku Kidoutai: Stand Alone Co…  [\n",
       "  22 │   483  0.110927     482       486  Kino no Tabi: The Beautiful World  [ ⋯\n",
       "  23 │   464  0.109888     463       467  Koukaku Kidoutai: Stand Alone Co…  [\n",
       "  24 │   454  0.109553     453       457  Mushishi                           [\n",
       "  25 │   437  0.1087       436       440  Shoujo Kakumei Utena               [\n",
       "  26 │    29  0.105839      28        30  Neon Genesis Evangelion            [ ⋯\n",
       "  27 │  2385  0.100721    2384      2402  Ashita no Joe                      [\n",
       "  28 │  1198  0.0996785   1197      1210  NHK ni Youkoso!                    [\n",
       "  29 │  2895  0.0994763   2894      2921  Ashita no Joe 2                    [\n",
       "  30 │   863  0.0991377    862       875  Mind Game                          [ ⋯\n",
       "\u001b[36m                                                    4 columns and 9 rows omitted\u001b[0m"
      ]
     },
     "execution_count": 11,
     "metadata": {},
     "output_type": "execute_result"
    }
   ],
   "source": [
    "get_series(corr_df)"
   ]
  },
  {
   "cell_type": "code",
   "execution_count": 12,
   "id": "fe1b1ec4-2e4b-4776-9e38-eb083b578e86",
   "metadata": {},
   "outputs": [
    {
     "data": {
      "text/html": [
       "<div class=\"data-frame\"><p>30 rows × 9 columns (omitted printing of 3 columns)</p><table class=\"data-frame\"><thead><tr><th></th><th>anime</th><th>weight</th><th>uid</th><th>anime_id</th><th>title</th><th>genres</th></tr><tr><th></th><th title=\"Int64\">Int64</th><th title=\"Float64\">Float64</th><th title=\"Int64\">Int64</th><th title=\"Int64\">Int64</th><th title=\"String\">String</th><th title=\"Union{Missing, String}\">String?</th></tr></thead><tbody><tr><th>1</th><td>25</td><td>-0.0</td><td>24</td><td>26</td><td>Texhnolyze</td><td>[&apos;Action&apos;, &apos;Drama&apos;, &apos;Psychological&apos;, &apos;Sci-Fi&apos;]</td></tr><tr><th>2</th><td>366</td><td>-25.7911</td><td>365</td><td>369</td><td>Boogiepop wa Warawanai</td><td>[&apos;Avant Garde&apos;, &apos;Drama&apos;, &apos;Horror&apos;, &apos;Mystery&apos;, &apos;Psychological&apos;, &apos;Supernatural&apos;]</td></tr><tr><th>3</th><td>3640</td><td>-27.0785</td><td>3639</td><td>3701</td><td>Kaiba</td><td>[&apos;Adventure&apos;, &apos;Mystery&apos;, &apos;Romance&apos;, &apos;Sci-Fi&apos;]</td></tr><tr><th>4</th><td>7393</td><td>-28.4352</td><td>7392</td><td>7785</td><td>Yojouhan Shinwa Taikei</td><td>[&apos;Comedy&apos;, &apos;Mystery&apos;, &apos;Psychological&apos;, &apos;Romance&apos;]</td></tr><tr><th>5</th><td>873</td><td>-29.7006</td><td>872</td><td>885</td><td>Tenshi no Tamago</td><td>[&apos;Avant Garde&apos;, &apos;Drama&apos;, &apos;Fantasy&apos;]</td></tr><tr><th>6</th><td>6488</td><td>-30.7963</td><td>6487</td><td>6774</td><td>Kuuchuu Buranko</td><td>[&apos;Comedy&apos;, &apos;Drama&apos;, &apos;Psychological&apos;, &apos;Seinen&apos;]</td></tr><tr><th>7</th><td>1084</td><td>-31.0797</td><td>1083</td><td>1096</td><td>Kidou Keisatsu Patlabor 2 the Movie</td><td>[&apos;Drama&apos;, &apos;Mecha&apos;, &apos;Military&apos;, &apos;Mystery&apos;, &apos;Police&apos;, &apos;Sci-Fi&apos;]</td></tr><tr><th>8</th><td>2200</td><td>-31.115</td><td>2199</td><td>2216</td><td>Shigurui</td><td>[&apos;Action&apos;, &apos;Drama&apos;, &apos;Historical&apos;, &apos;Martial Arts&apos;, &apos;Psychological&apos;, &apos;Samurai&apos;, &apos;Seinen&apos;]</td></tr><tr><th>9</th><td>2229</td><td>-31.2368</td><td>2228</td><td>2246</td><td>Mononoke</td><td>[&apos;Demons&apos;, &apos;Fantasy&apos;, &apos;Historical&apos;, &apos;Horror&apos;, &apos;Mystery&apos;, &apos;Psychological&apos;, &apos;Seinen&apos;, &apos;Supernatural&apos;]</td></tr><tr><th>10</th><td>336</td><td>-31.2379</td><td>335</td><td>339</td><td>Serial Experiments Lain</td><td>[&apos;Avant Garde&apos;, &apos;Drama&apos;, &apos;Mystery&apos;, &apos;Psychological&apos;, &apos;Sci-Fi&apos;, &apos;Supernatural&apos;]</td></tr><tr><th>11</th><td>863</td><td>-31.6099</td><td>862</td><td>875</td><td>Mind Game</td><td>[&apos;Adventure&apos;, &apos;Avant Garde&apos;, &apos;Comedy&apos;, &apos;Psychological&apos;, &apos;Romance&apos;]</td></tr><tr><th>12</th><td>568</td><td>-32.5338</td><td>567</td><td>570</td><td>Jin-Rou</td><td>[&apos;Drama&apos;, &apos;Military&apos;, &apos;Police&apos;, &apos;Psychological&apos;, &apos;Romance&apos;]</td></tr><tr><th>13</th><td>13864</td><td>-33.4064</td><td>13863</td><td>22135</td><td>Ping Pong the Animation</td><td>[&apos;Drama&apos;, &apos;Psychological&apos;, &apos;Seinen&apos;, &apos;Sports&apos;]</td></tr><tr><th>14</th><td>386</td><td>-33.6192</td><td>385</td><td>387</td><td>Haibane Renmei</td><td>[&apos;Drama&apos;, &apos;Fantasy&apos;, &apos;Mystery&apos;, &apos;Psychological&apos;, &apos;Slice of Life&apos;]</td></tr><tr><th>15</th><td>2385</td><td>-33.8061</td><td>2384</td><td>2402</td><td>Ashita no Joe</td><td>[&apos;Action&apos;, &apos;Drama&apos;, &apos;Shounen&apos;, &apos;Slice of Life&apos;, &apos;Sports&apos;]</td></tr><tr><th>16</th><td>811</td><td>-33.8083</td><td>810</td><td>820</td><td>Ginga Eiyuu Densetsu</td><td>[&apos;Drama&apos;, &apos;Military&apos;, &apos;Sci-Fi&apos;, &apos;Space&apos;]</td></tr><tr><th>17</th><td>1441</td><td>-34.0211</td><td>1440</td><td>1454</td><td>Kemonozume</td><td>[&apos;Action&apos;, &apos;Demons&apos;, &apos;Horror&apos;, &apos;Romance&apos;, &apos;Supernatural&apos;]</td></tr><tr><th>18</th><td>3058</td><td>-34.5846</td><td>3057</td><td>3089</td><td>The Sky Crawlers</td><td>[&apos;Drama&apos;, &apos;Military&apos;]</td></tr><tr><th>19</th><td>320</td><td>-34.7337</td><td>319</td><td>323</td><td>Mousou Dairinin</td><td>[&apos;Avant Garde&apos;, &apos;Drama&apos;, &apos;Mystery&apos;, &apos;Police&apos;, &apos;Psychological&apos;, &apos;Supernatural&apos;, &apos;Suspense&apos;]</td></tr><tr><th>20</th><td>437</td><td>-34.7437</td><td>436</td><td>440</td><td>Shoujo Kakumei Utena</td><td>[&apos;Comedy&apos;, &apos;Drama&apos;, &apos;Fantasy&apos;, &apos;Mystery&apos;, &apos;Psychological&apos;, &apos;Shoujo&apos;]</td></tr><tr><th>21</th><td>9158</td><td>-34.9572</td><td>9157</td><td>9996</td><td>Hyouge Mono</td><td>[&apos;Historical&apos;, &apos;Samurai&apos;, &apos;Seinen&apos;]</td></tr><tr><th>22</th><td>2895</td><td>-35.0565</td><td>2894</td><td>2921</td><td>Ashita no Joe 2</td><td>[&apos;Action&apos;, &apos;Drama&apos;, &apos;Shounen&apos;, &apos;Slice of Life&apos;, &apos;Sports&apos;]</td></tr><tr><th>23</th><td>4724</td><td>-35.2676</td><td>4723</td><td>4879</td><td>Mouryou no Hako</td><td>[&apos;Mystery&apos;, &apos;Psychological&apos;, &apos;Seinen&apos;, &apos;Supernatural&apos;, &apos;Suspense&apos;]</td></tr><tr><th>24</th><td>1754</td><td>-35.2902</td><td>1753</td><td>34537</td><td>Yoru wa Mijikashi Arukeyo Otome</td><td>[&apos;Comedy&apos;, &apos;Romance&apos;]</td></tr><tr><th>25</th><td>477</td><td>-35.5255</td><td>476</td><td>95</td><td>Turn A Gundam</td><td>[&apos;Action&apos;, &apos;Adventure&apos;, &apos;Drama&apos;, &apos;Mecha&apos;, &apos;Military&apos;, &apos;Romance&apos;, &apos;Sci-Fi&apos;, &apos;Space&apos;]</td></tr><tr><th>26</th><td>6872</td><td>-35.8022</td><td>6871</td><td>7193</td><td>Aoi Bungaku Series</td><td>[&apos;Drama&apos;, &apos;Historical&apos;, &apos;Psychological&apos;, &apos;Seinen&apos;, &apos;Suspense&apos;]</td></tr><tr><th>27</th><td>434</td><td>-35.9185</td><td>433</td><td>437</td><td>Perfect Blue</td><td>[&apos;Avant Garde&apos;, &apos;Drama&apos;, &apos;Horror&apos;, &apos;Psychological&apos;]</td></tr><tr><th>28</th><td>781</td><td>-36.0442</td><td>780</td><td>790</td><td>Ergo Proxy</td><td>[&apos;Mystery&apos;, &apos;Psychological&apos;, &apos;Sci-Fi&apos;]</td></tr><tr><th>29</th><td>1022</td><td>-36.087</td><td>1021</td><td>1034</td><td>Ouritsu Uchuugun: Honneamise no Tsubasa</td><td>[&apos;Action&apos;, &apos;Drama&apos;, &apos;Military&apos;, &apos;Sci-Fi&apos;, &apos;Space&apos;]</td></tr><tr><th>30</th><td>511</td><td>-36.1139</td><td>510</td><td>514</td><td>Cossette no Shouzou</td><td>[&apos;Drama&apos;, &apos;Horror&apos;, &apos;Psychological&apos;, &apos;Romance&apos;, &apos;Supernatural&apos;]</td></tr></tbody></table></div>"
      ],
      "text/latex": [
       "\\begin{tabular}{r|ccccccc}\n",
       "\t& anime & weight & uid & anime\\_id & title & genres & \\\\\n",
       "\t\\hline\n",
       "\t& Int64 & Float64 & Int64 & Int64 & String & String? & \\\\\n",
       "\t\\hline\n",
       "\t1 & 25 & -0.0 & 24 & 26 & Texhnolyze & ['Action', 'Drama', 'Psychological', 'Sci-Fi'] & $\\dots$ \\\\\n",
       "\t2 & 366 & -25.7911 & 365 & 369 & Boogiepop wa Warawanai & ['Avant Garde', 'Drama', 'Horror', 'Mystery', 'Psychological', 'Supernatural'] & $\\dots$ \\\\\n",
       "\t3 & 3640 & -27.0785 & 3639 & 3701 & Kaiba & ['Adventure', 'Mystery', 'Romance', 'Sci-Fi'] & $\\dots$ \\\\\n",
       "\t4 & 7393 & -28.4352 & 7392 & 7785 & Yojouhan Shinwa Taikei & ['Comedy', 'Mystery', 'Psychological', 'Romance'] & $\\dots$ \\\\\n",
       "\t5 & 873 & -29.7006 & 872 & 885 & Tenshi no Tamago & ['Avant Garde', 'Drama', 'Fantasy'] & $\\dots$ \\\\\n",
       "\t6 & 6488 & -30.7963 & 6487 & 6774 & Kuuchuu Buranko & ['Comedy', 'Drama', 'Psychological', 'Seinen'] & $\\dots$ \\\\\n",
       "\t7 & 1084 & -31.0797 & 1083 & 1096 & Kidou Keisatsu Patlabor 2 the Movie & ['Drama', 'Mecha', 'Military', 'Mystery', 'Police', 'Sci-Fi'] & $\\dots$ \\\\\n",
       "\t8 & 2200 & -31.115 & 2199 & 2216 & Shigurui & ['Action', 'Drama', 'Historical', 'Martial Arts', 'Psychological', 'Samurai', 'Seinen'] & $\\dots$ \\\\\n",
       "\t9 & 2229 & -31.2368 & 2228 & 2246 & Mononoke & ['Demons', 'Fantasy', 'Historical', 'Horror', 'Mystery', 'Psychological', 'Seinen', 'Supernatural'] & $\\dots$ \\\\\n",
       "\t10 & 336 & -31.2379 & 335 & 339 & Serial Experiments Lain & ['Avant Garde', 'Drama', 'Mystery', 'Psychological', 'Sci-Fi', 'Supernatural'] & $\\dots$ \\\\\n",
       "\t11 & 863 & -31.6099 & 862 & 875 & Mind Game & ['Adventure', 'Avant Garde', 'Comedy', 'Psychological', 'Romance'] & $\\dots$ \\\\\n",
       "\t12 & 568 & -32.5338 & 567 & 570 & Jin-Rou & ['Drama', 'Military', 'Police', 'Psychological', 'Romance'] & $\\dots$ \\\\\n",
       "\t13 & 13864 & -33.4064 & 13863 & 22135 & Ping Pong the Animation & ['Drama', 'Psychological', 'Seinen', 'Sports'] & $\\dots$ \\\\\n",
       "\t14 & 386 & -33.6192 & 385 & 387 & Haibane Renmei & ['Drama', 'Fantasy', 'Mystery', 'Psychological', 'Slice of Life'] & $\\dots$ \\\\\n",
       "\t15 & 2385 & -33.8061 & 2384 & 2402 & Ashita no Joe & ['Action', 'Drama', 'Shounen', 'Slice of Life', 'Sports'] & $\\dots$ \\\\\n",
       "\t16 & 811 & -33.8083 & 810 & 820 & Ginga Eiyuu Densetsu & ['Drama', 'Military', 'Sci-Fi', 'Space'] & $\\dots$ \\\\\n",
       "\t17 & 1441 & -34.0211 & 1440 & 1454 & Kemonozume & ['Action', 'Demons', 'Horror', 'Romance', 'Supernatural'] & $\\dots$ \\\\\n",
       "\t18 & 3058 & -34.5846 & 3057 & 3089 & The Sky Crawlers & ['Drama', 'Military'] & $\\dots$ \\\\\n",
       "\t19 & 320 & -34.7337 & 319 & 323 & Mousou Dairinin & ['Avant Garde', 'Drama', 'Mystery', 'Police', 'Psychological', 'Supernatural', 'Suspense'] & $\\dots$ \\\\\n",
       "\t20 & 437 & -34.7437 & 436 & 440 & Shoujo Kakumei Utena & ['Comedy', 'Drama', 'Fantasy', 'Mystery', 'Psychological', 'Shoujo'] & $\\dots$ \\\\\n",
       "\t21 & 9158 & -34.9572 & 9157 & 9996 & Hyouge Mono & ['Historical', 'Samurai', 'Seinen'] & $\\dots$ \\\\\n",
       "\t22 & 2895 & -35.0565 & 2894 & 2921 & Ashita no Joe 2 & ['Action', 'Drama', 'Shounen', 'Slice of Life', 'Sports'] & $\\dots$ \\\\\n",
       "\t23 & 4724 & -35.2676 & 4723 & 4879 & Mouryou no Hako & ['Mystery', 'Psychological', 'Seinen', 'Supernatural', 'Suspense'] & $\\dots$ \\\\\n",
       "\t24 & 1754 & -35.2902 & 1753 & 34537 & Yoru wa Mijikashi Arukeyo Otome & ['Comedy', 'Romance'] & $\\dots$ \\\\\n",
       "\t25 & 477 & -35.5255 & 476 & 95 & Turn A Gundam & ['Action', 'Adventure', 'Drama', 'Mecha', 'Military', 'Romance', 'Sci-Fi', 'Space'] & $\\dots$ \\\\\n",
       "\t26 & 6872 & -35.8022 & 6871 & 7193 & Aoi Bungaku Series & ['Drama', 'Historical', 'Psychological', 'Seinen', 'Suspense'] & $\\dots$ \\\\\n",
       "\t27 & 434 & -35.9185 & 433 & 437 & Perfect Blue & ['Avant Garde', 'Drama', 'Horror', 'Psychological'] & $\\dots$ \\\\\n",
       "\t28 & 781 & -36.0442 & 780 & 790 & Ergo Proxy & ['Mystery', 'Psychological', 'Sci-Fi'] & $\\dots$ \\\\\n",
       "\t29 & 1022 & -36.087 & 1021 & 1034 & Ouritsu Uchuugun: Honneamise no Tsubasa & ['Action', 'Drama', 'Military', 'Sci-Fi', 'Space'] & $\\dots$ \\\\\n",
       "\t30 & 511 & -36.1139 & 510 & 514 & Cossette no Shouzou & ['Drama', 'Horror', 'Psychological', 'Romance', 'Supernatural'] & $\\dots$ \\\\\n",
       "\\end{tabular}\n"
      ],
      "text/plain": [
       "\u001b[1m30×9 DataFrame\u001b[0m\n",
       "\u001b[1m Row \u001b[0m│\u001b[1m anime \u001b[0m\u001b[1m weight   \u001b[0m\u001b[1m uid   \u001b[0m\u001b[1m anime_id \u001b[0m\u001b[1m title                             \u001b[0m\u001b[1m ge\u001b[0m ⋯\n",
       "\u001b[1m     \u001b[0m│\u001b[90m Int64 \u001b[0m\u001b[90m Float64  \u001b[0m\u001b[90m Int64 \u001b[0m\u001b[90m Int64    \u001b[0m\u001b[90m String                            \u001b[0m\u001b[90m St\u001b[0m ⋯\n",
       "─────┼──────────────────────────────────────────────────────────────────────────\n",
       "   1 │    25   -0.0        24        26  Texhnolyze                         [' ⋯\n",
       "   2 │   366  -25.7911    365       369  Boogiepop wa Warawanai             ['\n",
       "   3 │  3640  -27.0785   3639      3701  Kaiba                              ['\n",
       "   4 │  7393  -28.4352   7392      7785  Yojouhan Shinwa Taikei             ['\n",
       "   5 │   873  -29.7006    872       885  Tenshi no Tamago                   [' ⋯\n",
       "   6 │  6488  -30.7963   6487      6774  Kuuchuu Buranko                    ['\n",
       "   7 │  1084  -31.0797   1083      1096  Kidou Keisatsu Patlabor 2 the Mo…  ['\n",
       "   8 │  2200  -31.115    2199      2216  Shigurui                           ['\n",
       "   9 │  2229  -31.2368   2228      2246  Mononoke                           [' ⋯\n",
       "  10 │   336  -31.2379    335       339  Serial Experiments Lain            ['\n",
       "  11 │   863  -31.6099    862       875  Mind Game                          ['\n",
       "  ⋮  │   ⋮       ⋮        ⋮       ⋮                      ⋮                     ⋱\n",
       "  21 │  9158  -34.9572   9157      9996  Hyouge Mono                        ['\n",
       "  22 │  2895  -35.0565   2894      2921  Ashita no Joe 2                    [' ⋯\n",
       "  23 │  4724  -35.2676   4723      4879  Mouryou no Hako                    ['\n",
       "  24 │  1754  -35.2902   1753     34537  Yoru wa Mijikashi Arukeyo Otome    ['\n",
       "  25 │   477  -35.5255    476        95  Turn A Gundam                      ['\n",
       "  26 │  6872  -35.8022   6871      7193  Aoi Bungaku Series                 [' ⋯\n",
       "  27 │   434  -35.9185    433       437  Perfect Blue                       ['\n",
       "  28 │   781  -36.0442    780       790  Ergo Proxy                         ['\n",
       "  29 │  1022  -36.087    1021      1034  Ouritsu Uchuugun: Honneamise no …  ['\n",
       "  30 │   511  -36.1139    510       514  Cossette no Shouzou                [' ⋯\n",
       "\u001b[36m                                                    4 columns and 9 rows omitted\u001b[0m"
      ]
     },
     "execution_count": 12,
     "metadata": {},
     "output_type": "execute_result"
    }
   ],
   "source": [
    "get_series(embed_df)"
   ]
  },
  {
   "cell_type": "code",
   "execution_count": null,
   "id": "73367b4a-7d22-4899-bf22-747ed80ef87b",
   "metadata": {},
   "outputs": [],
   "source": []
  }
 ],
 "metadata": {
  "kernelspec": {
   "display_name": "Julia 1.6.3",
   "language": "julia",
   "name": "julia-1.6"
  },
  "language_info": {
   "file_extension": ".jl",
   "mimetype": "application/julia",
   "name": "julia",
   "version": "1.6.3"
  }
 },
 "nbformat": 4,
 "nbformat_minor": 5
}
