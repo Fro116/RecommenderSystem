{
 "cells": [
  {
   "cell_type": "code",
   "execution_count": 1,
   "id": "79559bef-810a-402f-ad21-52092ec933f4",
   "metadata": {},
   "outputs": [],
   "source": [
    "name = \"../../data/recommendations/ItemSimilarity\"\n",
    "residual_alphas = [\"UserItemBiases\"];"
   ]
  },
  {
   "cell_type": "code",
   "execution_count": 2,
   "id": "69b5a19a-24f5-4730-afe2-f451d27d18e3",
   "metadata": {},
   "outputs": [],
   "source": [
    "using NBInclude\n",
    "@nbinclude(\"../TrainingAlphas/Alpha.ipynb\");"
   ]
  },
  {
   "cell_type": "code",
   "execution_count": 3,
   "id": "a4ca1ac7-bfe8-48ab-a190-872aba4f6f5d",
   "metadata": {},
   "outputs": [],
   "source": [
    "using SparseArrays\n",
    "using DataFrames"
   ]
  },
  {
   "cell_type": "code",
   "execution_count": 4,
   "id": "eba43860-7763-48cc-b677-64cd6e6c8e55",
   "metadata": {
    "tags": []
   },
   "outputs": [],
   "source": [
    "anime_to_uid = DataFrame(CSV.File(\"../../data/processed_data/anime_to_uid.csv\"));\n",
    "anime = DataFrame(CSV.File(\"../../data/raw_data/anime.csv\"));\n",
    "anime_to_uid = innerjoin(anime_to_uid, anime, on = \"anime_id\");"
   ]
  },
  {
   "cell_type": "markdown",
   "id": "03b8a971-b3be-48ab-a4d8-dd2d60f944a8",
   "metadata": {},
   "source": [
    "## Rating correlation"
   ]
  },
  {
   "cell_type": "code",
   "execution_count": 5,
   "id": "44769062-cd87-4646-b65b-27e64abab1c3",
   "metadata": {
    "tags": []
   },
   "outputs": [],
   "source": [
    "@memoize function get_norms(R)\n",
    "    norms = map(norm, eachslice(R, dims = 2))\n",
    "    norms[norms.==0] .= 1 # prevent division by 0\n",
    "    norms\n",
    "end;\n",
    "\n",
    "function get_correlation_neighborhood(item, R, K)\n",
    "    norms = get_norms(R)\n",
    "    weights = vec(R[:, item]' * R) ./ norms ./ norms[item]\n",
    "    order = sortperm(weights, rev = true)[1:K]\n",
    "    order[1:K], weights[order[1:K]]\n",
    "end\n",
    "\n",
    "const training = get_residuals(\"training\", residual_alphas);\n",
    "const validation = get_residuals(\"validation\", residual_alphas);\n",
    "const test = get_residuals(\"test\", residual_alphas);\n",
    "const allsplits = RatingsDataset(\n",
    "    [training.user; validation.user; test.user],\n",
    "    [training.item; validation.item; test.item],\n",
    "    [training.rating; validation.rating; test.rating],\n",
    ")\n",
    "\n",
    "R = sparse(\n",
    "    allsplits.user,\n",
    "    allsplits.item,\n",
    "    allsplits.rating,\n",
    "    maximum(allsplits.user),\n",
    "    maximum(allsplits.item),\n",
    ");"
   ]
  },
  {
   "cell_type": "markdown",
   "id": "2786bacf-374e-4360-b594-e50850db59cf",
   "metadata": {},
   "source": [
    "## Embedding distance"
   ]
  },
  {
   "cell_type": "code",
   "execution_count": 14,
   "id": "7b9b0a88-142e-44ba-8411-e8f9fd7c9ce7",
   "metadata": {
    "tags": []
   },
   "outputs": [],
   "source": [
    "function get_embedding_neighborhood(item, kernel, K, p)\n",
    "    dists = map(x -> norm(x, p), eachslice(kernel .- kernel[:, item], dims = 2))\n",
    "    weights = -dists\n",
    "    order = sortperm(dists)[1:K]\n",
    "    order[1:K], weights[order[1:K]]\n",
    "end\n",
    "\n",
    "function normalize_rows(X)\n",
    "    σ = std(X, dims = 2)\n",
    "    μ = mean(X, dims = 2)\n",
    "    (X .- μ) ./ σ\n",
    "end\n",
    "\n",
    "item_embeddings = normalize_rows(\n",
    "    vcat(\n",
    "        [\n",
    "            collect(read_params(\"MatrixFactorization.10\")[\"A\"]')\n",
    "            collect(read_params(\"MatrixFactorization.20\")[\"A\"]')\n",
    "            collect(read_params(\"MatrixFactorization.40\")[\"A\"]')\n",
    "        ],\n",
    "    ),\n",
    ");"
   ]
  },
  {
   "cell_type": "markdown",
   "id": "19366469-871e-49c9-9939-ffbd61a093e8",
   "metadata": {},
   "source": [
    "# Compute Neighborhoods"
   ]
  },
  {
   "cell_type": "code",
   "execution_count": 21,
   "id": "061073cd-55d2-4db6-ae8d-1c032ef13a6a",
   "metadata": {},
   "outputs": [],
   "source": [
    "uid = only(anime_to_uid[anime_to_uid.anime_id.==721, :uid]);"
   ]
  },
  {
   "cell_type": "code",
   "execution_count": 22,
   "id": "12f00826-c379-43f6-b6c0-d03c5f4bc4cd",
   "metadata": {},
   "outputs": [],
   "source": [
    "items, weights = get_correlation_neighborhood(uid + 1, R, 30);\n",
    "corr_df = DataFrame(anime = items, weight = weights);"
   ]
  },
  {
   "cell_type": "code",
   "execution_count": 23,
   "id": "d3d19bfa-440d-4e09-8b17-dcee6a629e2e",
   "metadata": {},
   "outputs": [],
   "source": [
    "items, weights = get_embedding_neighborhood(uid + 1, item_embeddings, 30, 2);\n",
    "embed_df = DataFrame(anime = items, weight = weights);"
   ]
  },
  {
   "cell_type": "markdown",
   "id": "1f86d5cb-ed10-40cd-ac34-a41c4facb4d4",
   "metadata": {},
   "source": [
    "# Display Similar Series"
   ]
  },
  {
   "cell_type": "code",
   "execution_count": 24,
   "id": "f9d4be81-1f2b-4bfb-b23d-8cd19d63335f",
   "metadata": {},
   "outputs": [],
   "source": [
    "function get_series(df)\n",
    "    df = copy(df)\n",
    "    df[!, :uid] = df[:, :anime] .- 1\n",
    "    sim = innerjoin(df, anime_to_uid, on = \"uid\")\n",
    "    sort(sim, :weight, rev = true)\n",
    "end;"
   ]
  },
  {
   "cell_type": "code",
   "execution_count": 25,
   "id": "995d184c-e231-40bc-a2fe-ff36af78a243",
   "metadata": {},
   "outputs": [
    {
     "data": {
      "text/html": [
       "<div class=\"data-frame\"><p>30 rows × 13 columns (omitted printing of 7 columns)</p><table class=\"data-frame\"><thead><tr><th></th><th>anime</th><th>weight</th><th>uid</th><th>anime_id</th><th>title</th><th>medium</th></tr><tr><th></th><th title=\"Int64\">Int64</th><th title=\"Float64\">Float64</th><th title=\"Int64\">Int64</th><th title=\"Int64\">Int64</th><th title=\"String\">String</th><th title=\"String7\">String7</th></tr></thead><tbody><tr><th>1</th><td>714</td><td>1.0</td><td>713</td><td>721</td><td>Princess Tutu</td><td>tv</td></tr><tr><th>2</th><td>437</td><td>0.144456</td><td>436</td><td>440</td><td>Shoujo Kakumei Utena</td><td>tv</td></tr><tr><th>3</th><td>386</td><td>0.13854</td><td>385</td><td>387</td><td>Haibane Renmei</td><td>tv</td></tr><tr><th>4</th><td>337</td><td>0.122711</td><td>336</td><td>338</td><td>Versailles no Bara</td><td>tv</td></tr><tr><th>5</th><td>1021</td><td>0.118006</td><td>1020</td><td>1033</td><td>Sennen Joyuu</td><td>movie</td></tr><tr><th>6</th><td>3640</td><td>0.113799</td><td>3639</td><td>3701</td><td>Kaiba</td><td>tv</td></tr><tr><th>7</th><td>2147</td><td>0.112829</td><td>2146</td><td>2164</td><td>Dennou Coil</td><td>tv</td></tr><tr><th>8</th><td>7393</td><td>0.10689</td><td>7392</td><td>7785</td><td>Yojouhan Shinwa Taikei</td><td>tv</td></tr><tr><th>9</th><td>3252</td><td>0.101058</td><td>3251</td><td>3297</td><td>Aria the Origination</td><td>tv</td></tr><tr><th>10</th><td>950</td><td>0.0946853</td><td>949</td><td>962</td><td>Aria the Natural</td><td>tv</td></tr><tr><th>11</th><td>9742</td><td>0.0944621</td><td>9741</td><td>10721</td><td>Mawaru Penguindrum</td><td>tv</td></tr><tr><th>12</th><td>229</td><td>0.0930951</td><td>228</td><td>232</td><td>Cardcaptor Sakura</td><td>tv</td></tr><tr><th>13</th><td>144</td><td>0.0908302</td><td>143</td><td>145</td><td>Kareshi Kanojo no Jijou</td><td>tv</td></tr><tr><th>14</th><td>336</td><td>0.0899518</td><td>335</td><td>339</td><td>Serial Experiments Lain</td><td>tv</td></tr><tr><th>15</th><td>483</td><td>0.0896543</td><td>482</td><td>486</td><td>Kino no Tabi: The Beautiful World</td><td>tv</td></tr><tr><th>16</th><td>328</td><td>0.0893246</td><td>327</td><td>329</td><td>Planetes</td><td>tv</td></tr><tr><th>17</th><td>811</td><td>0.0885468</td><td>810</td><td>820</td><td>Ginga Eiyuu Densetsu</td><td>ova</td></tr><tr><th>18</th><td>1475</td><td>0.0871405</td><td>1474</td><td>1488</td><td>Area 88</td><td>ova</td></tr><tr><th>19</th><td>434</td><td>0.0870899</td><td>433</td><td>437</td><td>Perfect Blue</td><td>movie</td></tr><tr><th>20</th><td>2385</td><td>0.0870361</td><td>2384</td><td>2402</td><td>Ashita no Joe</td><td>tv</td></tr><tr><th>21</th><td>474</td><td>0.0862895</td><td>473</td><td>477</td><td>Aria the Animation</td><td>tv</td></tr><tr><th>22</th><td>3220</td><td>0.0852749</td><td>3219</td><td>3265</td><td>Princess Tutu Recaps</td><td>special</td></tr><tr><th>23</th><td>282</td><td>0.0841701</td><td>281</td><td>283</td><td>Akage no Anne</td><td>tv</td></tr><tr><th>24</th><td>2895</td><td>0.08182</td><td>2894</td><td>2921</td><td>Ashita no Joe 2</td><td>tv</td></tr><tr><th>25</th><td>236</td><td>0.0806743</td><td>235</td><td>239</td><td>Gankutsuou</td><td>tv</td></tr><tr><th>26</th><td>25</td><td>0.0804058</td><td>24</td><td>26</td><td>Texhnolyze</td><td>tv</td></tr><tr><th>27</th><td>454</td><td>0.079274</td><td>453</td><td>457</td><td>Mushishi</td><td>tv</td></tr><tr><th>28</th><td>1084</td><td>0.07661</td><td>1083</td><td>1096</td><td>Kidou Keisatsu Patlabor 2 the Movie</td><td>movie</td></tr><tr><th>29</th><td>9437</td><td>0.0754623</td><td>9436</td><td>10357</td><td>Jinrui wa Suitai Shimashita</td><td>tv</td></tr><tr><th>30</th><td>1198</td><td>0.0753321</td><td>1197</td><td>1210</td><td>NHK ni Youkoso!</td><td>tv</td></tr></tbody></table></div>"
      ],
      "text/latex": [
       "\\begin{tabular}{r|ccccccc}\n",
       "\t& anime & weight & uid & anime\\_id & title & medium & \\\\\n",
       "\t\\hline\n",
       "\t& Int64 & Float64 & Int64 & Int64 & String & String7 & \\\\\n",
       "\t\\hline\n",
       "\t1 & 714 & 1.0 & 713 & 721 & Princess Tutu & tv & $\\dots$ \\\\\n",
       "\t2 & 437 & 0.144456 & 436 & 440 & Shoujo Kakumei Utena & tv & $\\dots$ \\\\\n",
       "\t3 & 386 & 0.13854 & 385 & 387 & Haibane Renmei & tv & $\\dots$ \\\\\n",
       "\t4 & 337 & 0.122711 & 336 & 338 & Versailles no Bara & tv & $\\dots$ \\\\\n",
       "\t5 & 1021 & 0.118006 & 1020 & 1033 & Sennen Joyuu & movie & $\\dots$ \\\\\n",
       "\t6 & 3640 & 0.113799 & 3639 & 3701 & Kaiba & tv & $\\dots$ \\\\\n",
       "\t7 & 2147 & 0.112829 & 2146 & 2164 & Dennou Coil & tv & $\\dots$ \\\\\n",
       "\t8 & 7393 & 0.10689 & 7392 & 7785 & Yojouhan Shinwa Taikei & tv & $\\dots$ \\\\\n",
       "\t9 & 3252 & 0.101058 & 3251 & 3297 & Aria the Origination & tv & $\\dots$ \\\\\n",
       "\t10 & 950 & 0.0946853 & 949 & 962 & Aria the Natural & tv & $\\dots$ \\\\\n",
       "\t11 & 9742 & 0.0944621 & 9741 & 10721 & Mawaru Penguindrum & tv & $\\dots$ \\\\\n",
       "\t12 & 229 & 0.0930951 & 228 & 232 & Cardcaptor Sakura & tv & $\\dots$ \\\\\n",
       "\t13 & 144 & 0.0908302 & 143 & 145 & Kareshi Kanojo no Jijou & tv & $\\dots$ \\\\\n",
       "\t14 & 336 & 0.0899518 & 335 & 339 & Serial Experiments Lain & tv & $\\dots$ \\\\\n",
       "\t15 & 483 & 0.0896543 & 482 & 486 & Kino no Tabi: The Beautiful World & tv & $\\dots$ \\\\\n",
       "\t16 & 328 & 0.0893246 & 327 & 329 & Planetes & tv & $\\dots$ \\\\\n",
       "\t17 & 811 & 0.0885468 & 810 & 820 & Ginga Eiyuu Densetsu & ova & $\\dots$ \\\\\n",
       "\t18 & 1475 & 0.0871405 & 1474 & 1488 & Area 88 & ova & $\\dots$ \\\\\n",
       "\t19 & 434 & 0.0870899 & 433 & 437 & Perfect Blue & movie & $\\dots$ \\\\\n",
       "\t20 & 2385 & 0.0870361 & 2384 & 2402 & Ashita no Joe & tv & $\\dots$ \\\\\n",
       "\t21 & 474 & 0.0862895 & 473 & 477 & Aria the Animation & tv & $\\dots$ \\\\\n",
       "\t22 & 3220 & 0.0852749 & 3219 & 3265 & Princess Tutu Recaps & special & $\\dots$ \\\\\n",
       "\t23 & 282 & 0.0841701 & 281 & 283 & Akage no Anne & tv & $\\dots$ \\\\\n",
       "\t24 & 2895 & 0.08182 & 2894 & 2921 & Ashita no Joe 2 & tv & $\\dots$ \\\\\n",
       "\t25 & 236 & 0.0806743 & 235 & 239 & Gankutsuou & tv & $\\dots$ \\\\\n",
       "\t26 & 25 & 0.0804058 & 24 & 26 & Texhnolyze & tv & $\\dots$ \\\\\n",
       "\t27 & 454 & 0.079274 & 453 & 457 & Mushishi & tv & $\\dots$ \\\\\n",
       "\t28 & 1084 & 0.07661 & 1083 & 1096 & Kidou Keisatsu Patlabor 2 the Movie & movie & $\\dots$ \\\\\n",
       "\t29 & 9437 & 0.0754623 & 9436 & 10357 & Jinrui wa Suitai Shimashita & tv & $\\dots$ \\\\\n",
       "\t30 & 1198 & 0.0753321 & 1197 & 1210 & NHK ni Youkoso! & tv & $\\dots$ \\\\\n",
       "\\end{tabular}\n"
      ],
      "text/plain": [
       "\u001b[1m30×13 DataFrame\u001b[0m\n",
       "\u001b[1m Row \u001b[0m│\u001b[1m anime \u001b[0m\u001b[1m weight    \u001b[0m\u001b[1m uid   \u001b[0m\u001b[1m anime_id \u001b[0m\u001b[1m title                             \u001b[0m\u001b[1m m\u001b[0m ⋯\n",
       "\u001b[1m     \u001b[0m│\u001b[90m Int64 \u001b[0m\u001b[90m Float64   \u001b[0m\u001b[90m Int64 \u001b[0m\u001b[90m Int64    \u001b[0m\u001b[90m String                            \u001b[0m\u001b[90m S\u001b[0m ⋯\n",
       "─────┼──────────────────────────────────────────────────────────────────────────\n",
       "   1 │   714  1.0          713       721  Princess Tutu                      t ⋯\n",
       "   2 │   437  0.144456     436       440  Shoujo Kakumei Utena               t\n",
       "   3 │   386  0.13854      385       387  Haibane Renmei                     t\n",
       "   4 │   337  0.122711     336       338  Versailles no Bara                 t\n",
       "   5 │  1021  0.118006    1020      1033  Sennen Joyuu                       m ⋯\n",
       "   6 │  3640  0.113799    3639      3701  Kaiba                              t\n",
       "   7 │  2147  0.112829    2146      2164  Dennou Coil                        t\n",
       "   8 │  7393  0.10689     7392      7785  Yojouhan Shinwa Taikei             t\n",
       "   9 │  3252  0.101058    3251      3297  Aria the Origination               t ⋯\n",
       "  10 │   950  0.0946853    949       962  Aria the Natural                   t\n",
       "  11 │  9742  0.0944621   9741     10721  Mawaru Penguindrum                 t\n",
       "  ⋮  │   ⋮        ⋮        ⋮       ⋮                      ⋮                    ⋱\n",
       "  21 │   474  0.0862895    473       477  Aria the Animation                 t\n",
       "  22 │  3220  0.0852749   3219      3265  Princess Tutu Recaps               s ⋯\n",
       "  23 │   282  0.0841701    281       283  Akage no Anne                      t\n",
       "  24 │  2895  0.08182     2894      2921  Ashita no Joe 2                    t\n",
       "  25 │   236  0.0806743    235       239  Gankutsuou                         t\n",
       "  26 │    25  0.0804058     24        26  Texhnolyze                         t ⋯\n",
       "  27 │   454  0.079274     453       457  Mushishi                           t\n",
       "  28 │  1084  0.07661     1083      1096  Kidou Keisatsu Patlabor 2 the Mo…  m\n",
       "  29 │  9437  0.0754623   9436     10357  Jinrui wa Suitai Shimashita        t\n",
       "  30 │  1198  0.0753321   1197      1210  NHK ni Youkoso!                    t ⋯\n",
       "\u001b[36m                                                    8 columns and 9 rows omitted\u001b[0m"
      ]
     },
     "execution_count": 25,
     "metadata": {},
     "output_type": "execute_result"
    }
   ],
   "source": [
    "get_series(corr_df)"
   ]
  },
  {
   "cell_type": "code",
   "execution_count": 26,
   "id": "fe1b1ec4-2e4b-4776-9e38-eb083b578e86",
   "metadata": {},
   "outputs": [
    {
     "data": {
      "text/html": [
       "<div class=\"data-frame\"><p>30 rows × 13 columns (omitted printing of 8 columns)</p><table class=\"data-frame\"><thead><tr><th></th><th>anime</th><th>weight</th><th>uid</th><th>anime_id</th><th>title</th></tr><tr><th></th><th title=\"Int64\">Int64</th><th title=\"Float64\">Float64</th><th title=\"Int64\">Int64</th><th title=\"Int64\">Int64</th><th title=\"String\">String</th></tr></thead><tbody><tr><th>1</th><td>714</td><td>-0.0</td><td>713</td><td>721</td><td>Princess Tutu</td></tr><tr><th>2</th><td>2147</td><td>-10.5154</td><td>2146</td><td>2164</td><td>Dennou Coil</td></tr><tr><th>3</th><td>337</td><td>-12.7728</td><td>336</td><td>338</td><td>Versailles no Bara</td></tr><tr><th>4</th><td>452</td><td>-13.6509</td><td>451</td><td>455</td><td>Fantastic Children</td></tr><tr><th>5</th><td>477</td><td>-13.8412</td><td>476</td><td>95</td><td>Turn A Gundam</td></tr><tr><th>6</th><td>81</td><td>-13.9177</td><td>80</td><td>82</td><td>Mobile Suit Gundam 0080: War in the Pocket</td></tr><tr><th>7</th><td>866</td><td>-14.3207</td><td>865</td><td>878</td><td>Zegapain</td></tr><tr><th>8</th><td>786</td><td>-14.5065</td><td>785</td><td>795</td><td>Oniisama e...</td></tr><tr><th>9</th><td>2385</td><td>-14.508</td><td>2384</td><td>2402</td><td>Ashita no Joe</td></tr><tr><th>10</th><td>328</td><td>-14.565</td><td>327</td><td>329</td><td>Planetes</td></tr><tr><th>11</th><td>2895</td><td>-14.6351</td><td>2894</td><td>2921</td><td>Ashita no Joe 2</td></tr><tr><th>12</th><td>1021</td><td>-14.7242</td><td>1020</td><td>1033</td><td>Sennen Joyuu</td></tr><tr><th>13</th><td>486</td><td>-14.7441</td><td>485</td><td>489</td><td>Kamichu!</td></tr><tr><th>14</th><td>483</td><td>-14.8361</td><td>482</td><td>486</td><td>Kino no Tabi: The Beautiful World</td></tr><tr><th>15</th><td>386</td><td>-14.8447</td><td>385</td><td>387</td><td>Haibane Renmei</td></tr><tr><th>16</th><td>282</td><td>-14.9463</td><td>281</td><td>283</td><td>Akage no Anne</td></tr><tr><th>17</th><td>7270</td><td>-15.1196</td><td>7269</td><td>7645</td><td>Heartcatch Precure!</td></tr><tr><th>18</th><td>1076</td><td>-15.1286</td><td>1075</td><td>1088</td><td>Macross</td></tr><tr><th>19</th><td>1364</td><td>-15.1357</td><td>1363</td><td>1376</td><td>Ojamajo Doremi Na-i-sho</td></tr><tr><th>20</th><td>1586</td><td>-15.2975</td><td>1585</td><td>1601</td><td>Red Garden</td></tr><tr><th>21</th><td>1509</td><td>-15.3309</td><td>1508</td><td>1524</td><td>Fuujin Monogatari</td></tr><tr><th>22</th><td>236</td><td>-15.3649</td><td>235</td><td>239</td><td>Gankutsuou</td></tr><tr><th>23</th><td>1437</td><td>-15.3729</td><td>1436</td><td>1450</td><td>Brigadoon: Marin to Melan</td></tr><tr><th>24</th><td>1904</td><td>-15.3856</td><td>1903</td><td>1921</td><td>Urusei Yatsura 2: Beautiful Dreamer</td></tr><tr><th>25</th><td>860</td><td>-15.3951</td><td>859</td><td>872</td><td>Mahou Shoujo-tai Arusu</td></tr><tr><th>26</th><td>181</td><td>-15.4677</td><td>180</td><td>182</td><td>Tenkuu no Escaflowne</td></tr><tr><th>27</th><td>1114</td><td>-15.4704</td><td>1113</td><td>1126</td><td>Figure 17: Tsubasa &amp; Hikaru</td></tr><tr><th>28</th><td>2141</td><td>-15.4807</td><td>2140</td><td>2158</td><td>Terra e... (TV)</td></tr><tr><th>29</th><td>3640</td><td>-15.5192</td><td>3639</td><td>3701</td><td>Kaiba</td></tr><tr><th>30</th><td>2304</td><td>-15.5537</td><td>2303</td><td>2321</td><td>Giant Robo the Animation: Chikyuu ga Seishi Suru Hi</td></tr></tbody></table></div>"
      ],
      "text/latex": [
       "\\begin{tabular}{r|cccccc}\n",
       "\t& anime & weight & uid & anime\\_id & title & \\\\\n",
       "\t\\hline\n",
       "\t& Int64 & Float64 & Int64 & Int64 & String & \\\\\n",
       "\t\\hline\n",
       "\t1 & 714 & -0.0 & 713 & 721 & Princess Tutu & $\\dots$ \\\\\n",
       "\t2 & 2147 & -10.5154 & 2146 & 2164 & Dennou Coil & $\\dots$ \\\\\n",
       "\t3 & 337 & -12.7728 & 336 & 338 & Versailles no Bara & $\\dots$ \\\\\n",
       "\t4 & 452 & -13.6509 & 451 & 455 & Fantastic Children & $\\dots$ \\\\\n",
       "\t5 & 477 & -13.8412 & 476 & 95 & Turn A Gundam & $\\dots$ \\\\\n",
       "\t6 & 81 & -13.9177 & 80 & 82 & Mobile Suit Gundam 0080: War in the Pocket & $\\dots$ \\\\\n",
       "\t7 & 866 & -14.3207 & 865 & 878 & Zegapain & $\\dots$ \\\\\n",
       "\t8 & 786 & -14.5065 & 785 & 795 & Oniisama e... & $\\dots$ \\\\\n",
       "\t9 & 2385 & -14.508 & 2384 & 2402 & Ashita no Joe & $\\dots$ \\\\\n",
       "\t10 & 328 & -14.565 & 327 & 329 & Planetes & $\\dots$ \\\\\n",
       "\t11 & 2895 & -14.6351 & 2894 & 2921 & Ashita no Joe 2 & $\\dots$ \\\\\n",
       "\t12 & 1021 & -14.7242 & 1020 & 1033 & Sennen Joyuu & $\\dots$ \\\\\n",
       "\t13 & 486 & -14.7441 & 485 & 489 & Kamichu! & $\\dots$ \\\\\n",
       "\t14 & 483 & -14.8361 & 482 & 486 & Kino no Tabi: The Beautiful World & $\\dots$ \\\\\n",
       "\t15 & 386 & -14.8447 & 385 & 387 & Haibane Renmei & $\\dots$ \\\\\n",
       "\t16 & 282 & -14.9463 & 281 & 283 & Akage no Anne & $\\dots$ \\\\\n",
       "\t17 & 7270 & -15.1196 & 7269 & 7645 & Heartcatch Precure! & $\\dots$ \\\\\n",
       "\t18 & 1076 & -15.1286 & 1075 & 1088 & Macross & $\\dots$ \\\\\n",
       "\t19 & 1364 & -15.1357 & 1363 & 1376 & Ojamajo Doremi Na-i-sho & $\\dots$ \\\\\n",
       "\t20 & 1586 & -15.2975 & 1585 & 1601 & Red Garden & $\\dots$ \\\\\n",
       "\t21 & 1509 & -15.3309 & 1508 & 1524 & Fuujin Monogatari & $\\dots$ \\\\\n",
       "\t22 & 236 & -15.3649 & 235 & 239 & Gankutsuou & $\\dots$ \\\\\n",
       "\t23 & 1437 & -15.3729 & 1436 & 1450 & Brigadoon: Marin to Melan & $\\dots$ \\\\\n",
       "\t24 & 1904 & -15.3856 & 1903 & 1921 & Urusei Yatsura 2: Beautiful Dreamer & $\\dots$ \\\\\n",
       "\t25 & 860 & -15.3951 & 859 & 872 & Mahou Shoujo-tai Arusu & $\\dots$ \\\\\n",
       "\t26 & 181 & -15.4677 & 180 & 182 & Tenkuu no Escaflowne & $\\dots$ \\\\\n",
       "\t27 & 1114 & -15.4704 & 1113 & 1126 & Figure 17: Tsubasa \\& Hikaru & $\\dots$ \\\\\n",
       "\t28 & 2141 & -15.4807 & 2140 & 2158 & Terra e... (TV) & $\\dots$ \\\\\n",
       "\t29 & 3640 & -15.5192 & 3639 & 3701 & Kaiba & $\\dots$ \\\\\n",
       "\t30 & 2304 & -15.5537 & 2303 & 2321 & Giant Robo the Animation: Chikyuu ga Seishi Suru Hi & $\\dots$ \\\\\n",
       "\\end{tabular}\n"
      ],
      "text/plain": [
       "\u001b[1m30×13 DataFrame\u001b[0m\n",
       "\u001b[1m Row \u001b[0m│\u001b[1m anime \u001b[0m\u001b[1m weight   \u001b[0m\u001b[1m uid   \u001b[0m\u001b[1m anime_id \u001b[0m\u001b[1m title                             \u001b[0m\u001b[1m me\u001b[0m ⋯\n",
       "\u001b[1m     \u001b[0m│\u001b[90m Int64 \u001b[0m\u001b[90m Float64  \u001b[0m\u001b[90m Int64 \u001b[0m\u001b[90m Int64    \u001b[0m\u001b[90m String                            \u001b[0m\u001b[90m St\u001b[0m ⋯\n",
       "─────┼──────────────────────────────────────────────────────────────────────────\n",
       "   1 │   714   -0.0       713       721  Princess Tutu                      tv ⋯\n",
       "   2 │  2147  -10.5154   2146      2164  Dennou Coil                        tv\n",
       "   3 │   337  -12.7728    336       338  Versailles no Bara                 tv\n",
       "   4 │   452  -13.6509    451       455  Fantastic Children                 tv\n",
       "   5 │   477  -13.8412    476        95  Turn A Gundam                      tv ⋯\n",
       "   6 │    81  -13.9177     80        82  Mobile Suit Gundam 0080: War in …  ov\n",
       "   7 │   866  -14.3207    865       878  Zegapain                           tv\n",
       "   8 │   786  -14.5065    785       795  Oniisama e...                      tv\n",
       "   9 │  2385  -14.508    2384      2402  Ashita no Joe                      tv ⋯\n",
       "  10 │   328  -14.565     327       329  Planetes                           tv\n",
       "  11 │  2895  -14.6351   2894      2921  Ashita no Joe 2                    tv\n",
       "  ⋮  │   ⋮       ⋮        ⋮       ⋮                      ⋮                     ⋱\n",
       "  21 │  1509  -15.3309   1508      1524  Fuujin Monogatari                  tv\n",
       "  22 │   236  -15.3649    235       239  Gankutsuou                         tv ⋯\n",
       "  23 │  1437  -15.3729   1436      1450  Brigadoon: Marin to Melan          tv\n",
       "  24 │  1904  -15.3856   1903      1921  Urusei Yatsura 2: Beautiful Drea…  mo\n",
       "  25 │   860  -15.3951    859       872  Mahou Shoujo-tai Arusu             tv\n",
       "  26 │   181  -15.4677    180       182  Tenkuu no Escaflowne               tv ⋯\n",
       "  27 │  1114  -15.4704   1113      1126  Figure 17: Tsubasa & Hikaru        tv\n",
       "  28 │  2141  -15.4807   2140      2158  Terra e... (TV)                    tv\n",
       "  29 │  3640  -15.5192   3639      3701  Kaiba                              tv\n",
       "  30 │  2304  -15.5537   2303      2321  Giant Robo the Animation: Chikyu…  ov ⋯\n",
       "\u001b[36m                                                    8 columns and 9 rows omitted\u001b[0m"
      ]
     },
     "execution_count": 26,
     "metadata": {},
     "output_type": "execute_result"
    }
   ],
   "source": [
    "get_series(embed_df)"
   ]
  },
  {
   "cell_type": "code",
   "execution_count": null,
   "id": "73367b4a-7d22-4899-bf22-747ed80ef87b",
   "metadata": {},
   "outputs": [],
   "source": []
  }
 ],
 "metadata": {
  "kernelspec": {
   "display_name": "Julia 1.6.3",
   "language": "julia",
   "name": "julia-1.6"
  },
  "language_info": {
   "file_extension": ".jl",
   "mimetype": "application/julia",
   "name": "julia",
   "version": "1.6.3"
  }
 },
 "nbformat": 4,
 "nbformat_minor": 5
}
