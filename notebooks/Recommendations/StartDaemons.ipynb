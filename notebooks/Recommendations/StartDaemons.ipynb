{
 "cells": [
  {
   "cell_type": "markdown",
   "id": "6eee7e7b-310d-4946-91ae-c6f0bf6ff989",
   "metadata": {
    "editable": true,
    "slideshow": {
     "slide_type": ""
    },
    "tags": [
     "parameters"
    ]
   },
   "source": [
    "# Start Daemons\n",
    "* reduce cold start latency by running servers"
   ]
  },
  {
   "cell_type": "code",
   "execution_count": null,
   "id": "7349bc9f-0a31-486b-9c0f-de3ceffdc2c2",
   "metadata": {},
   "outputs": [],
   "source": [
    "import os\n",
    "import subprocess\n",
    "import time"
   ]
  },
  {
   "cell_type": "code",
   "execution_count": null,
   "id": "4a35baab-041f-44fe-ab97-89bef58f9da1",
   "metadata": {},
   "outputs": [],
   "source": [
    "procs = []"
   ]
  },
  {
   "cell_type": "code",
   "execution_count": null,
   "id": "97ba7ff1-a4f6-4f5b-b1a4-a54f1560149a",
   "metadata": {},
   "outputs": [],
   "source": [
    "def runcmd(cmdlist, env=None):\n",
    "    procs.append(\n",
    "        subprocess.Popen(\n",
    "            cmdlist, env=env, stdout=subprocess.DEVNULL, stderr=subprocess.STDOUT\n",
    "        )\n",
    "    )"
   ]
  },
  {
   "cell_type": "code",
   "execution_count": null,
   "id": "50c7fbb5-ac4e-4e74-8411-b433c56dcd7b",
   "metadata": {},
   "outputs": [],
   "source": [
    "sources = [\n",
    "    \"mal\",\n",
    "    \"anilist\",\n",
    "    \"kitsu\",\n",
    "    \"animeplanet\",\n",
    "]"
   ]
  },
  {
   "cell_type": "code",
   "execution_count": null,
   "id": "5dc61892-2b56-452b-90fc-1f6c73e57ff5",
   "metadata": {},
   "outputs": [],
   "source": [
    "for i, source in enumerate(sources):\n",
    "    env = os.environ.copy()\n",
    "    env[\"RSYS_LIST_SOURCE\"] = source\n",
    "    runcmd(\n",
    "        [\n",
    "            \"gunicorn\",\n",
    "            \"-w\",\n",
    "            \"2\",\n",
    "            \"FetchMediaLists:app\",\n",
    "            \"-b\",\n",
    "            f\"localhost:{3020+i}\",\n",
    "        ],\n",
    "        env,\n",
    "    )"
   ]
  },
  {
   "cell_type": "code",
   "execution_count": null,
   "id": "e3116721-ea07-44f6-9d71-2fb112a8c4f8",
   "metadata": {},
   "outputs": [],
   "source": [
    "runcmd([\"julia\", \"-t\", \"4\", \"Recommendations.jl\", \"3030\"])"
   ]
  },
  {
   "cell_type": "code",
   "execution_count": null,
   "id": "6c02231b-af1b-450f-860a-17d9a71b5961",
   "metadata": {},
   "outputs": [],
   "source": [
    "os.chdir(\"../InferenceAlphas\")"
   ]
  },
  {
   "cell_type": "code",
   "execution_count": null,
   "id": "f17a6266-3517-44b4-ba55-bce93cce723c",
   "metadata": {
    "editable": true,
    "slideshow": {
     "slide_type": ""
    },
    "tags": [
     "parameters"
    ]
   },
   "outputs": [],
   "source": [
    "for i in range(8):\n",
    "    runcmd(\n",
    "        [\n",
    "            \"julia\",\n",
    "            \"--startup-file=no\",\n",
    "            \"-t\",\n",
    "            \"auto\",\n",
    "            \"-e\",\n",
    "            f\"using DaemonMode; serve({3000+i})\",\n",
    "        ]\n",
    "    )"
   ]
  },
  {
   "cell_type": "code",
   "execution_count": null,
   "id": "daaacb90-aa8f-49cf-8b83-e9c7e91a5c76",
   "metadata": {},
   "outputs": [],
   "source": [
    "for server, workers, port in zip([\"Transformer\", \"BagOfWords\"], [2, 8], [3010, 3011]):\n",
    "    runcmd([\"gunicorn\", \"-w\", str(workers), f\"{server}:app\", \"-b\", f\"localhost:{port}\"])"
   ]
  },
  {
   "cell_type": "code",
   "execution_count": null,
   "id": "b442c3ac-0f4d-498c-bd75-e332a90a2e6f",
   "metadata": {
    "editable": true,
    "slideshow": {
     "slide_type": ""
    },
    "tags": [
     "parameters"
    ]
   },
   "outputs": [],
   "source": [
    "# keep the notebook alive to keep the procs alive\n",
    "while True:\n",
    "    time.sleep(3600)"
   ]
  },
  {
   "cell_type": "code",
   "execution_count": null,
   "id": "9582798e-0767-4d41-8707-63fa7702339c",
   "metadata": {},
   "outputs": [],
   "source": [
    "for p in procs:\n",
    "    p.terminate()"
   ]
  }
 ],
 "metadata": {
  "kernelspec": {
   "display_name": "Python 3 (ipykernel)",
   "language": "python",
   "name": "python3"
  },
  "language_info": {
   "codemirror_mode": {
    "name": "ipython",
    "version": 3
   },
   "file_extension": ".py",
   "mimetype": "text/x-python",
   "name": "python",
   "nbconvert_exporter": "python",
   "pygments_lexer": "ipython3",
   "version": "3.10.12"
  }
 },
 "nbformat": 4,
 "nbformat_minor": 5
}
