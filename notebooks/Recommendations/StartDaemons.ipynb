{
 "cells": [
  {
   "cell_type": "markdown",
   "id": "6eee7e7b-310d-4946-91ae-c6f0bf6ff989",
   "metadata": {
    "editable": true,
    "slideshow": {
     "slide_type": ""
    },
    "tags": [
     "parameters"
    ]
   },
   "source": [
    "# Start Daemons\n",
    "* reduce cold start latency by running servers"
   ]
  },
  {
   "cell_type": "code",
   "execution_count": null,
   "id": "7349bc9f-0a31-486b-9c0f-de3ceffdc2c2",
   "metadata": {},
   "outputs": [],
   "source": [
    "import os\n",
    "import subprocess\n",
    "import time"
   ]
  },
  {
   "cell_type": "code",
   "execution_count": null,
   "id": "4a35baab-041f-44fe-ab97-89bef58f9da1",
   "metadata": {},
   "outputs": [],
   "source": [
    "procs = []\n",
    "source_to_port = {\"mal\": 3000, \"anilist\": 3001, \"kitsu\": 3002, \"animeplanet\": 3003}\n",
    "python_script_to_port = {\n",
    "    \"Transformer\": 3004,\n",
    "    \"BagOfWords\": 3005,\n",
    "}\n",
    "julia_script_to_port = {\n",
    "    \"CompressSplits.jl\": 3006,\n",
    "    \"Baseline.jl\": 3007,\n",
    "    \"BagOfWords.jl\": 3008,\n",
    "    \"Nondirectional.jl\": 3009,\n",
    "    \"Transformer.jl\": 3010,\n",
    "    \"Ensemble.jl\": 3011,\n",
    "    \"Recommendations.jl\": 3012,\n",
    "}"
   ]
  },
  {
   "cell_type": "code",
   "execution_count": null,
   "id": "97ba7ff1-a4f6-4f5b-b1a4-a54f1560149a",
   "metadata": {},
   "outputs": [],
   "source": [
    "def runcmd(cmdlist, env=None):\n",
    "    procs.append(\n",
    "        subprocess.Popen(\n",
    "            cmdlist, env=env, stdout=subprocess.DEVNULL, stderr=subprocess.STDOUT\n",
    "        )\n",
    "    )"
   ]
  },
  {
   "cell_type": "code",
   "execution_count": null,
   "id": "77350451-ad31-469a-86f2-1e63e418e7c2",
   "metadata": {},
   "outputs": [],
   "source": [
    "def juliacmd(cmdlist):\n",
    "    port = julia_script_to_port[cmdlist[-1]]\n",
    "    cmdlist.append(str(port))\n",
    "    runcmd(cmdlist)"
   ]
  },
  {
   "cell_type": "code",
   "execution_count": null,
   "id": "5dc61892-2b56-452b-90fc-1f6c73e57ff5",
   "metadata": {},
   "outputs": [],
   "source": [
    "for source, port in source_to_port.items():\n",
    "    env = os.environ.copy()\n",
    "    env[\"RSYS_LIST_SOURCE\"] = source\n",
    "    runcmd(\n",
    "        [\n",
    "            \"gunicorn\",\n",
    "            \"-w\",\n",
    "            \"2\",\n",
    "            \"FetchMediaLists:app\",\n",
    "            \"-b\",\n",
    "            f\"localhost:{port}\",\n",
    "        ],\n",
    "        env,\n",
    "    )"
   ]
  },
  {
   "cell_type": "code",
   "execution_count": null,
   "id": "e3116721-ea07-44f6-9d71-2fb112a8c4f8",
   "metadata": {},
   "outputs": [],
   "source": [
    "juliacmd([\"julia\", \"-t\", \"4\", \"Recommendations.jl\"])"
   ]
  },
  {
   "cell_type": "code",
   "execution_count": null,
   "id": "6c02231b-af1b-450f-860a-17d9a71b5961",
   "metadata": {},
   "outputs": [],
   "source": [
    "os.chdir(\"../InferenceAlphas\")"
   ]
  },
  {
   "cell_type": "code",
   "execution_count": null,
   "id": "90487e46-a476-4b2a-b953-32120877ddb9",
   "metadata": {},
   "outputs": [],
   "source": [
    "for server, workers in zip(\n",
    "    [\n",
    "        \"CompressSplits.jl\",\n",
    "        \"Baseline.jl\",\n",
    "        \"BagOfWords.jl\",\n",
    "        \"Nondirectional.jl\",\n",
    "        \"Transformer.jl\",\n",
    "        \"Ensemble.jl\",\n",
    "    ],\n",
    "    [2, 2, 8, 2, 2, 4],\n",
    "):\n",
    "    juliacmd([\"julia\", \"-t\", str(workers), server])"
   ]
  },
  {
   "cell_type": "code",
   "execution_count": null,
   "id": "daaacb90-aa8f-49cf-8b83-e9c7e91a5c76",
   "metadata": {},
   "outputs": [],
   "source": [
    "for script, workers in zip([\"Transformer\", \"BagOfWords\"], [2, 8]):\n",
    "    runcmd(\n",
    "        [\n",
    "            \"gunicorn\",\n",
    "            \"-w\",\n",
    "            str(workers),\n",
    "            f\"{script}:app\",\n",
    "            \"-b\",\n",
    "            f\"localhost:{python_script_to_port[script]}\",\n",
    "        ]\n",
    "    )"
   ]
  },
  {
   "cell_type": "code",
   "execution_count": null,
   "id": "b442c3ac-0f4d-498c-bd75-e332a90a2e6f",
   "metadata": {
    "editable": true,
    "slideshow": {
     "slide_type": ""
    },
    "tags": [
     "parameters"
    ]
   },
   "outputs": [],
   "source": [
    "# keep the notebook alive to keep the procs alive\n",
    "while True:\n",
    "    time.sleep(3600)"
   ]
  },
  {
   "cell_type": "code",
   "execution_count": null,
   "id": "9582798e-0767-4d41-8707-63fa7702339c",
   "metadata": {},
   "outputs": [],
   "source": [
    "for p in procs:\n",
    "    p.terminate()"
   ]
  }
 ],
 "metadata": {
  "kernelspec": {
   "display_name": "Python 3 (ipykernel)",
   "language": "python",
   "name": "python3"
  },
  "language_info": {
   "codemirror_mode": {
    "name": "ipython",
    "version": 3
   },
   "file_extension": ".py",
   "mimetype": "text/x-python",
   "name": "python",
   "nbconvert_exporter": "python",
   "pygments_lexer": "ipython3",
   "version": "3.10.12"
  }
 },
 "nbformat": 4,
 "nbformat_minor": 5
}
