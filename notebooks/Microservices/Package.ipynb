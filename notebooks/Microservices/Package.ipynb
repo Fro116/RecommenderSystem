{
 "cells": [
  {
   "cell_type": "markdown",
   "id": "1b6ac972-8a36-4d76-a7c8-47150d9cb845",
   "metadata": {},
   "source": [
    "# Package\n",
    "* Builds docker containers for all microservices"
   ]
  },
  {
   "cell_type": "code",
   "execution_count": null,
   "id": "78de5207-f788-42e5-9efb-5bee7b64bfcb",
   "metadata": {},
   "outputs": [],
   "source": [
    "import NBInclude: @nbinclude\n",
    "import JSON\n",
    "@nbinclude(\"../TrainingAlphas/Alpha.ipynb\");"
   ]
  },
  {
   "cell_type": "code",
   "execution_count": null,
   "id": "e0908ea7-0cc2-4395-80a2-beb49c211836",
   "metadata": {},
   "outputs": [],
   "source": [
    "function copy(file::String, dst::String)\n",
    "    mkpath(joinpath(dst, dirname(file)))\n",
    "    cp(file, joinpath(dst, file))\n",
    "end\n",
    "\n",
    "function build(app::String, basedir::String)\n",
    "    name = split(app, \"/\")[end]\n",
    "    run(`docker build -q -t rsys/$name $basedir/$name`)\n",
    "end;"
   ]
  },
  {
   "cell_type": "code",
   "execution_count": null,
   "id": "d8857eab-f9ff-496f-ba4d-36ebc8c6e520",
   "metadata": {},
   "outputs": [],
   "source": [
    "function fetch_media_lists(basedir::String)\n",
    "    app = \"$basedir/fetch_media_lists\"\n",
    "    if ispath(app)\n",
    "        rm(app; recursive = true)\n",
    "    end\n",
    "    cp(\"notebooks/Microservices/fetch_media_lists\", app)\n",
    "    copy(\"notebooks/API/API\", app)\n",
    "    copy(\"environment/animeplanet\", app)\n",
    "    copy(\"environment/kitsu\", app)\n",
    "    copy(\"environment/mal\", app)\n",
    "    copy(\"environment/proxies\", app)\n",
    "    build(app, basedir)\n",
    "end;"
   ]
  },
  {
   "cell_type": "code",
   "execution_count": null,
   "id": "b1566e78-8e57-4402-a9a8-662082b78294",
   "metadata": {},
   "outputs": [],
   "source": [
    "function compress_media_lists(basedir::String)\n",
    "    app = \"$basedir/compress_media_lists\"\n",
    "    if ispath(app)\n",
    "        rm(app; recursive = true)\n",
    "    end\n",
    "    cp(\"notebooks/Microservices/compress_media_lists\", app)\n",
    "    copy(\"notebooks/ImportDatasets\", app)\n",
    "    copy(\"notebooks/ProcessData\", app)\n",
    "    copy(\"data/processed_data\", app)\n",
    "    build(app, basedir)\n",
    "end;"
   ]
  },
  {
   "cell_type": "code",
   "execution_count": null,
   "id": "fab7fb62-14c9-4fa7-9d71-b7c54ae184bf",
   "metadata": {},
   "outputs": [],
   "source": [
    "function bagofwords_jl(basedir::String)\n",
    "    app = \"$basedir/bagofwords_jl\"\n",
    "    if ispath(app)\n",
    "        rm(app; recursive = true)\n",
    "    end\n",
    "    cp(\"notebooks/Microservices/bagofwords_jl\", app)\n",
    "    copy(\"notebooks/TrainingAlphas/AlphaBase.ipynb\", \"$app/App/src\")\n",
    "    copy(\"notebooks/TrainingAlphas/Baseline/BaselineHelper.ipynb\", \"$app/App/src\")\n",
    "    for x in ALL_MEDIUMS\n",
    "        copy(\"data/alphas/$x/Baseline/rating/params.jld2\", \"$app/App/src\")\n",
    "    end\n",
    "    copy(\"data/processed_data\", \"$app/App/src\")\n",
    "    build(app, basedir)\n",
    "end;"
   ]
  },
  {
   "cell_type": "code",
   "execution_count": null,
   "id": "c60108a4-11ab-4cb6-800a-b3b24dab8dd1",
   "metadata": {},
   "outputs": [],
   "source": [
    "function bagofwords_py(basedir::String)\n",
    "    for medium in ALL_MEDIUMS\n",
    "        for metric in ALL_METRICS\n",
    "            app = \"$basedir/bagofwords_py_$(medium)_$(metric)\"\n",
    "            if ispath(app)\n",
    "                rm(app; recursive = true)\n",
    "            end\n",
    "            cp(\"notebooks/Microservices/bagofwords_py\", app)\n",
    "            copy(\"notebooks/TrainingAlphas/BagOfWords/bagofwords.py\", app)\n",
    "            copy(\"data/alphas/$(medium)/BagOfWords/v1/$(metric)/model.pt\", app)\n",
    "            copy(\"data/alphas/$(medium)/BagOfWords/v1/$(metric)/config.json\", app)\n",
    "            build(app, basedir)\n",
    "        end\n",
    "    end\n",
    "end;"
   ]
  },
  {
   "cell_type": "code",
   "execution_count": null,
   "id": "3299a37b-39cf-4285-9398-f8b528a36826",
   "metadata": {},
   "outputs": [],
   "source": [
    "function nondirectional(basedir::String)\n",
    "    app = \"$basedir/nondirectional\"\n",
    "    if ispath(app)\n",
    "        rm(app; recursive = true)\n",
    "    end\n",
    "    cp(\"notebooks/Microservices/nondirectional\", app)\n",
    "    copy(\"notebooks/TrainingAlphas/AlphaBase.ipynb\", \"$app/App/src\")\n",
    "    copy(\"data/processed_data\", \"$app/App/src\")\n",
    "    for m in ALL_MEDIUMS\n",
    "        copy(\"environment/alphas/$m/Nondirectional\", \"$app/App/src\")\n",
    "    end\n",
    "    build(app, basedir)\n",
    "end;"
   ]
  },
  {
   "cell_type": "code",
   "execution_count": null,
   "id": "c69ad685-cea7-494d-8d07-caeb9555a234",
   "metadata": {},
   "outputs": [],
   "source": [
    "function transformer_jl(basedir::String)\n",
    "    app = \"$basedir/transformer_jl\"\n",
    "    if ispath(app)\n",
    "        rm(app; recursive = true)\n",
    "    end\n",
    "    cp(\"notebooks/Microservices/transformer_jl\", app)\n",
    "    copy(\"notebooks/TrainingAlphas/AlphaBase.ipynb\", \"$app/App/src\")\n",
    "    copy(\"notebooks/TrainingAlphas/Transformer/Data.ipynb\", \"$app/App/src\")\n",
    "    copy(\"data/alphas/all/Transformer/v1/0/config.json\", \"$app/App/src\")\n",
    "    copy(\"data/processed_data\", \"$app/App/src\")\n",
    "    build(app, basedir)\n",
    "end;"
   ]
  },
  {
   "cell_type": "code",
   "execution_count": null,
   "id": "65b2492b-bd18-4496-b17a-148debeb2723",
   "metadata": {},
   "outputs": [],
   "source": [
    "function transformer_py(basedir::String)\n",
    "    for medium in ALL_MEDIUMS\n",
    "        app = \"$basedir/transformer_py_$(medium)\"\n",
    "        if ispath(app)\n",
    "            rm(app; recursive = true)\n",
    "        end\n",
    "        cp(\"notebooks/Microservices/transformer_py\", app)\n",
    "        copy(\"notebooks/TrainingAlphas/Transformer/transformer.py\", app)\n",
    "        copy(\"data/alphas/$(medium)/Transformer/v1/model.pt\", app)\n",
    "        copy(\"data/alphas/all/Transformer/v1/0/config.json\", app)\n",
    "        build(app, basedir)\n",
    "    end\n",
    "end;"
   ]
  },
  {
   "cell_type": "code",
   "execution_count": null,
   "id": "656a49a8-56b9-4775-bef4-f96eb511bf80",
   "metadata": {},
   "outputs": [],
   "source": [
    "function ensemble(basedir::String)\n",
    "    app = \"$basedir/ensemble\"\n",
    "    if ispath(app)\n",
    "        rm(app; recursive = true)\n",
    "    end\n",
    "    cp(\"notebooks/Microservices/ensemble\", app)\n",
    "    copy(\"notebooks/TrainingAlphas/AlphaBase.ipynb\", \"$app/App/src\")\n",
    "    copy(\"notebooks/TrainingAlphas/Ensemble/EnsembleInputs.ipynb\", \"$app/App/src\")\n",
    "    copy(\"data/processed_data\", \"$app/App/src\")\n",
    "    for m in ALL_MEDIUMS\n",
    "        copy(\"environment/alphas/$m/Linear\", \"$app/App/src\")\n",
    "    end\n",
    "    build(app, basedir)\n",
    "end;"
   ]
  },
  {
   "cell_type": "code",
   "execution_count": null,
   "id": "39ea8b53-0aa1-4695-a0cf-ac28c76570e1",
   "metadata": {},
   "outputs": [],
   "source": [
    "function get_endpoints()\n",
    "    apps = [\n",
    "        [\n",
    "            \"index\",\n",
    "            \"fetch_media_lists\",\n",
    "            \"compress_media_lists\",\n",
    "            \"nondirectional\",\n",
    "            \"bagofwords_jl\",\n",
    "            \"transformer_jl\",\n",
    "            \"ensemble\",\n",
    "        ]\n",
    "        [\"bagofwords_py_$(x)_$(y)\" for x in ALL_MEDIUMS for y in ALL_METRICS]\n",
    "        [\"transformer_py_$(x)\" for x in ALL_MEDIUMS]\n",
    "    ]\n",
    "    settings = get_settings()\n",
    "    if get(settings, \"cloud_hosting\", false)\n",
    "        domain = settings[\"cloud_hosting_domain\"]\n",
    "        tag = settings[\"cloud_hosting_tag\"]\n",
    "        d = Dict()\n",
    "        for app in apps\n",
    "            name = replace(app, \"_\" => \"-\")\n",
    "            d[app] = \"https://$(name)-$(tag)-$(domain)\"\n",
    "        end\n",
    "        return d\n",
    "    else\n",
    "        return Dict(app => \"http://$(app):8080\" for app in apps)\n",
    "    end\n",
    "end\n",
    "\n",
    "function index(basedir::String)\n",
    "    app = \"$basedir/index\"\n",
    "    if ispath(app)\n",
    "        rm(app; recursive = true)\n",
    "    end\n",
    "    cp(\"notebooks/Microservices/index\", app)\n",
    "    open(\"environment/endpoints.json\", \"w\") do f\n",
    "        write(f, JSON.json(get_endpoints()))\n",
    "    end\n",
    "    copy(\"environment/endpoints.json\", \"$app/App/src\")\n",
    "    copy(\"notebooks/TrainingAlphas/AlphaBase.ipynb\", \"$app/App/src\")\n",
    "    build(app, basedir)\n",
    "end;"
   ]
  },
  {
   "cell_type": "code",
   "execution_count": null,
   "id": "6e01085a-2628-4c41-9eac-da662d414e5d",
   "metadata": {},
   "outputs": [],
   "source": [
    "function package(basedir::String)\n",
    "    apps = [\n",
    "        fetch_media_lists,\n",
    "        compress_media_lists,\n",
    "        bagofwords_jl,\n",
    "        bagofwords_py,\n",
    "        nondirectional,\n",
    "        transformer_py,\n",
    "        transformer_jl,\n",
    "        ensemble,\n",
    "        index,\n",
    "    ]\n",
    "    Threads.@threads for app in apps\n",
    "        app(basedir)\n",
    "    end\n",
    "end;"
   ]
  },
  {
   "cell_type": "code",
   "execution_count": null,
   "id": "b8871564-57fb-4517-8ced-51824cd1d10a",
   "metadata": {},
   "outputs": [],
   "source": [
    "cd(joinpath(@__DIR__, \"../..\"))\n",
    "basedir = \"notebooks/Microservices/Images\";"
   ]
  },
  {
   "cell_type": "code",
   "execution_count": null,
   "id": "f3dcf424-3047-48a6-b987-448ef27e0ad7",
   "metadata": {
    "scrolled": true
   },
   "outputs": [],
   "source": [
    "if ispath(basedir)\n",
    "    rm(basedir; recursive = true)\n",
    "end\n",
    "mkpath(basedir)\n",
    "run(`docker system prune -f`);"
   ]
  },
  {
   "cell_type": "code",
   "execution_count": null,
   "id": "164f1bfd-9481-4bbc-be4b-dcf182684f3c",
   "metadata": {},
   "outputs": [],
   "source": [
    "package(basedir);"
   ]
  }
 ],
 "metadata": {
  "kernelspec": {
   "display_name": "Julia 1.9.4",
   "language": "julia",
   "name": "julia-1.9"
  },
  "language_info": {
   "file_extension": ".jl",
   "mimetype": "application/julia",
   "name": "julia",
   "version": "1.9.4"
  }
 },
 "nbformat": 4,
 "nbformat_minor": 5
}
