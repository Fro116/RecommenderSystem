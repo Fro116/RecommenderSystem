{
 "cells": [
  {
   "cell_type": "markdown",
   "id": "1b6ac972-8a36-4d76-a7c8-47150d9cb845",
   "metadata": {},
   "source": [
    "# Package\n",
    "* Builds docker containers for all microservices"
   ]
  },
  {
   "cell_type": "code",
   "execution_count": 1,
   "id": "78de5207-f788-42e5-9efb-5bee7b64bfcb",
   "metadata": {
    "execution": {
     "iopub.execute_input": "2024-04-07T18:56:52.024",
     "iopub.status.busy": "2024-04-07T18:56:51.791",
     "iopub.status.idle": "2024-04-07T18:56:54.522",
     "shell.execute_reply": "2024-04-07T18:56:54.486"
    }
   },
   "outputs": [],
   "source": [
    "import NBInclude: @nbinclude\n",
    "import JSON\n",
    "@nbinclude(\"../TrainingAlphas/Alpha.ipynb\");"
   ]
  },
  {
   "cell_type": "code",
   "execution_count": 2,
   "id": "e0908ea7-0cc2-4395-80a2-beb49c211836",
   "metadata": {
    "execution": {
     "iopub.execute_input": "2024-04-07T18:56:54.631",
     "iopub.status.busy": "2024-04-07T18:56:54.522",
     "iopub.status.idle": "2024-04-07T18:56:59.008",
     "shell.execute_reply": "2024-04-07T18:56:59.008"
    }
   },
   "outputs": [],
   "source": [
    "function copy(file::String, dst::String)\n",
    "    mkpath(joinpath(dst, dirname(file)))\n",
    "    cp(file, joinpath(dst, file))\n",
    "end\n",
    "\n",
    "function build(app::String, basedir::String)\n",
    "    name = split(app, \"/\")[end]\n",
    "    run(`docker build -q -t rsys/$name $basedir/$name`)\n",
    "end;"
   ]
  },
  {
   "cell_type": "code",
   "execution_count": 3,
   "id": "d8857eab-f9ff-496f-ba4d-36ebc8c6e520",
   "metadata": {
    "execution": {
     "iopub.execute_input": "2024-04-07T18:56:59.008",
     "iopub.status.busy": "2024-04-07T18:56:59.008",
     "iopub.status.idle": "2024-04-07T18:56:59.051",
     "shell.execute_reply": "2024-04-07T18:56:59.051"
    }
   },
   "outputs": [],
   "source": [
    "function fetch_media_lists(basedir::String)\n",
    "    app = \"$basedir/fetch_media_lists\"\n",
    "    if ispath(app)\n",
    "        rm(app; recursive = true)\n",
    "    end\n",
    "    cp(\"notebooks/Microservices/fetch_media_lists\", app)\n",
    "    copy(\"notebooks/API/API\", app)\n",
    "    copy(\"environment/animeplanet\", app)\n",
    "    copy(\"environment/kitsu\", app)\n",
    "    copy(\"environment/mal\", app)\n",
    "    copy(\"environment/proxies\", app)\n",
    "    build(app, basedir)\n",
    "end;"
   ]
  },
  {
   "cell_type": "code",
   "execution_count": 4,
   "id": "b1566e78-8e57-4402-a9a8-662082b78294",
   "metadata": {
    "execution": {
     "iopub.execute_input": "2024-04-07T18:56:59.052",
     "iopub.status.busy": "2024-04-07T18:56:59.051",
     "iopub.status.idle": "2024-04-07T18:56:59.052",
     "shell.execute_reply": "2024-04-07T18:56:59.052"
    }
   },
   "outputs": [],
   "source": [
    "function compress_media_lists(basedir::String)\n",
    "    app = \"$basedir/compress_media_lists\"\n",
    "    if ispath(app)\n",
    "        rm(app; recursive = true)\n",
    "    end\n",
    "    cp(\"notebooks/Microservices/compress_media_lists\", app)\n",
    "    copy(\"notebooks/ImportDatasets\", app)\n",
    "    copy(\"notebooks/ProcessData\", app)\n",
    "    copy(\"data/processed_data\", app)\n",
    "    build(app, basedir)\n",
    "end;"
   ]
  },
  {
   "cell_type": "code",
   "execution_count": 5,
   "id": "fab7fb62-14c9-4fa7-9d71-b7c54ae184bf",
   "metadata": {
    "execution": {
     "iopub.execute_input": "2024-04-07T18:56:59.052",
     "iopub.status.busy": "2024-04-07T18:56:59.052",
     "iopub.status.idle": "2024-04-07T18:56:59.290",
     "shell.execute_reply": "2024-04-07T18:56:59.289"
    }
   },
   "outputs": [],
   "source": [
    "function bagofwords_jl(basedir::String)\n",
    "    app = \"$basedir/bagofwords_jl\"\n",
    "    if ispath(app)\n",
    "        rm(app; recursive = true)\n",
    "    end\n",
    "    cp(\"notebooks/Microservices/bagofwords_jl\", app)\n",
    "    copy(\"notebooks/TrainingAlphas/AlphaBase.ipynb\", \"$app/App/src\")\n",
    "    copy(\"notebooks/TrainingAlphas/Baseline/BaselineHelper.ipynb\", \"$app/App/src\")\n",
    "    for x in ALL_MEDIUMS\n",
    "        copy(\"data/alphas/$x/Baseline/rating/params.jld2\", \"$app/App/src\")\n",
    "    end\n",
    "    copy(\"data/processed_data\", \"$app/App/src\")\n",
    "    build(app, basedir)\n",
    "end;"
   ]
  },
  {
   "cell_type": "code",
   "execution_count": 6,
   "id": "c60108a4-11ab-4cb6-800a-b3b24dab8dd1",
   "metadata": {
    "execution": {
     "iopub.execute_input": "2024-04-07T18:56:59.290",
     "iopub.status.busy": "2024-04-07T18:56:59.290",
     "iopub.status.idle": "2024-04-07T18:56:59.291",
     "shell.execute_reply": "2024-04-07T18:56:59.291"
    }
   },
   "outputs": [],
   "source": [
    "function bagofwords_py(basedir::String)\n",
    "    for medium in ALL_MEDIUMS\n",
    "        for metric in ALL_METRICS\n",
    "            app = \"$basedir/bagofwords_py_$(medium)_$(metric)\"\n",
    "            if ispath(app)\n",
    "                rm(app; recursive = true)\n",
    "            end\n",
    "            cp(\"notebooks/Microservices/bagofwords_py\", app)\n",
    "            copy(\"notebooks/TrainingAlphas/BagOfWords/bagofwords.py\", app)\n",
    "            copy(\"data/alphas/$(medium)/BagOfWords/v1/$(metric)/model.pt\", app)\n",
    "            copy(\"data/alphas/$(medium)/BagOfWords/v1/$(metric)/config.json\", app)\n",
    "            build(app, basedir)\n",
    "        end\n",
    "    end\n",
    "end;"
   ]
  },
  {
   "cell_type": "code",
   "execution_count": 7,
   "id": "3299a37b-39cf-4285-9398-f8b528a36826",
   "metadata": {
    "execution": {
     "iopub.execute_input": "2024-04-07T18:56:59.291",
     "iopub.status.busy": "2024-04-07T18:56:59.291",
     "iopub.status.idle": "2024-04-07T18:56:59.292",
     "shell.execute_reply": "2024-04-07T18:56:59.292"
    }
   },
   "outputs": [],
   "source": [
    "function nondirectional(basedir::String)\n",
    "    app = \"$basedir/nondirectional\"\n",
    "    if ispath(app)\n",
    "        rm(app; recursive = true)\n",
    "    end\n",
    "    cp(\"notebooks/Microservices/nondirectional\", app)\n",
    "    copy(\"notebooks/TrainingAlphas/AlphaBase.ipynb\", \"$app/App/src\")\n",
    "    copy(\"data/processed_data\", \"$app/App/src\")\n",
    "    for m in ALL_MEDIUMS\n",
    "        copy(\"environment/alphas/$m/Nondirectional\", \"$app/App/src\")\n",
    "    end\n",
    "    build(app, basedir)\n",
    "end;"
   ]
  },
  {
   "cell_type": "code",
   "execution_count": 8,
   "id": "c69ad685-cea7-494d-8d07-caeb9555a234",
   "metadata": {
    "execution": {
     "iopub.execute_input": "2024-04-07T18:56:59.292",
     "iopub.status.busy": "2024-04-07T18:56:59.292",
     "iopub.status.idle": "2024-04-07T18:56:59.293",
     "shell.execute_reply": "2024-04-07T18:56:59.293"
    }
   },
   "outputs": [],
   "source": [
    "function transformer_jl(basedir::String)\n",
    "    app = \"$basedir/transformer_jl\"\n",
    "    if ispath(app)\n",
    "        rm(app; recursive = true)\n",
    "    end\n",
    "    cp(\"notebooks/Microservices/transformer_jl\", app)\n",
    "    copy(\"notebooks/TrainingAlphas/AlphaBase.ipynb\", \"$app/App/src\")\n",
    "    copy(\"notebooks/TrainingAlphas/Transformer/Data.ipynb\", \"$app/App/src\")\n",
    "    copy(\"data/alphas/all/Transformer/v1/0/config.json\", \"$app/App/src\")\n",
    "    copy(\"data/processed_data\", \"$app/App/src\")\n",
    "    build(app, basedir)\n",
    "end;"
   ]
  },
  {
   "cell_type": "code",
   "execution_count": 9,
   "id": "65b2492b-bd18-4496-b17a-148debeb2723",
   "metadata": {
    "execution": {
     "iopub.execute_input": "2024-04-07T18:56:59.293",
     "iopub.status.busy": "2024-04-07T18:56:59.293",
     "iopub.status.idle": "2024-04-07T18:56:59.294",
     "shell.execute_reply": "2024-04-07T18:56:59.294"
    }
   },
   "outputs": [],
   "source": [
    "function transformer_py(basedir::String)\n",
    "    for medium in ALL_MEDIUMS\n",
    "        app = \"$basedir/transformer_py_$(medium)\"\n",
    "        if ispath(app)\n",
    "            rm(app; recursive = true)\n",
    "        end\n",
    "        cp(\"notebooks/Microservices/transformer_py\", app)\n",
    "        copy(\"notebooks/TrainingAlphas/Transformer/transformer.py\", app)\n",
    "        copy(\"data/alphas/$(medium)/Transformer/v1/model.pt\", app)\n",
    "        copy(\"data/alphas/all/Transformer/v1/0/config.json\", app)\n",
    "        build(app, basedir)\n",
    "    end\n",
    "end;"
   ]
  },
  {
   "cell_type": "code",
   "execution_count": 10,
   "id": "656a49a8-56b9-4775-bef4-f96eb511bf80",
   "metadata": {
    "execution": {
     "iopub.execute_input": "2024-04-07T18:56:59.294",
     "iopub.status.busy": "2024-04-07T18:56:59.294",
     "iopub.status.idle": "2024-04-07T18:56:59.295",
     "shell.execute_reply": "2024-04-07T18:56:59.295"
    }
   },
   "outputs": [],
   "source": [
    "function ensemble(basedir::String)\n",
    "    app = \"$basedir/ensemble\"\n",
    "    if ispath(app)\n",
    "        rm(app; recursive = true)\n",
    "    end\n",
    "    cp(\"notebooks/Microservices/ensemble\", app)\n",
    "    copy(\"notebooks/TrainingAlphas/AlphaBase.ipynb\", \"$app/App/src\")\n",
    "    copy(\"notebooks/TrainingAlphas/Ensemble/EnsembleInputs.ipynb\", \"$app/App/src\")\n",
    "    copy(\"data/processed_data\", \"$app/App/src\")\n",
    "    for m in ALL_MEDIUMS\n",
    "        copy(\"environment/alphas/$m/Linear\", \"$app/App/src\")\n",
    "    end\n",
    "    build(app, basedir)\n",
    "end;"
   ]
  },
  {
   "cell_type": "code",
   "execution_count": 28,
   "id": "39ea8b53-0aa1-4695-a0cf-ac28c76570e1",
   "metadata": {
    "execution": {
     "iopub.execute_input": "2024-04-07T20:14:24.006",
     "iopub.status.busy": "2024-04-07T20:14:24.005",
     "iopub.status.idle": "2024-04-07T20:14:24.027",
     "shell.execute_reply": "2024-04-07T20:14:24.027"
    }
   },
   "outputs": [],
   "source": [
    "function get_endpoints()\n",
    "    apps = [\n",
    "        [\n",
    "            \"index\",\n",
    "            \"fetch_media_lists\",\n",
    "            \"compress_media_lists\",\n",
    "            \"nondirectional\",\n",
    "            \"bagofwords_jl\",\n",
    "            \"transformer_jl\",\n",
    "            \"ensemble\",\n",
    "        ]\n",
    "        [\"bagofwords_py_$(x)_$(y)\" for x in ALL_MEDIUMS for y in ALL_METRICS]\n",
    "        [\"transformer_py_$(x)\" for x in ALL_MEDIUMS]\n",
    "    ]\n",
    "    settings = get_settings()\n",
    "    if get(settings, \"cloud_hosting\", false)\n",
    "        domain = settings[\"cloud_hosting_domain\"]\n",
    "        tag = settings[\"cloud_hosting_tag\"]\n",
    "        d = Dict()\n",
    "        for app in apps\n",
    "            name = replace(app, \"_\" => \"-\")\n",
    "            d[app] = \"https://$(name)-$(tag)-$(domain)\"\n",
    "        end\n",
    "        return d\n",
    "    else\n",
    "        return Dict(app => \"http://$(app):8080\" for app in apps)\n",
    "    end\n",
    "end\n",
    "\n",
    "function index(basedir::String)\n",
    "    app = \"$basedir/index\"\n",
    "    if ispath(app)\n",
    "        rm(app; recursive = true)\n",
    "    end\n",
    "    cp(\"notebooks/Microservices/index\", app)\n",
    "    open(\"environment/endpoints.json\", \"w\") do f\n",
    "        write(f, JSON.json(get_endpoints()))\n",
    "    end\n",
    "    copy(\"environment/endpoints.json\", \"$app/App/src\")\n",
    "    copy(\"notebooks/TrainingAlphas/AlphaBase.ipynb\", \"$app/App/src\")\n",
    "    build(app, basedir)\n",
    "end;"
   ]
  },
  {
   "cell_type": "code",
   "execution_count": 12,
   "id": "6e01085a-2628-4c41-9eac-da662d414e5d",
   "metadata": {
    "execution": {
     "iopub.execute_input": "2024-04-07T18:56:59.523",
     "iopub.status.busy": "2024-04-07T18:56:59.523",
     "iopub.status.idle": "2024-04-07T18:56:59.842",
     "shell.execute_reply": "2024-04-07T18:56:59.837"
    }
   },
   "outputs": [
    {
     "data": {
      "text/plain": [
       "package (generic function with 1 method)"
      ]
     },
     "execution_count": 12,
     "metadata": {},
     "output_type": "execute_result"
    }
   ],
   "source": [
    "function package(basedir::String)\n",
    "    apps = [\n",
    "        fetch_media_lists,\n",
    "        compress_media_lists,\n",
    "        bagofwords_jl,\n",
    "        bagofwords_py,\n",
    "        nondirectional,\n",
    "        transformer_py,\n",
    "        transformer_jl,\n",
    "        ensemble,\n",
    "        index,\n",
    "    ]\n",
    "    Threads.@threads for app in apps\n",
    "        app(basedir)\n",
    "    end\n",
    "end"
   ]
  },
  {
   "cell_type": "code",
   "execution_count": 13,
   "id": "b8871564-57fb-4517-8ced-51824cd1d10a",
   "metadata": {
    "execution": {
     "iopub.execute_input": "2024-04-07T18:56:59.842",
     "iopub.status.busy": "2024-04-07T18:56:59.842",
     "iopub.status.idle": "2024-04-07T18:56:59.843",
     "shell.execute_reply": "2024-04-07T18:56:59.843"
    }
   },
   "outputs": [],
   "source": [
    "cd(joinpath(@__DIR__, \"../..\"))\n",
    "basedir = \"notebooks/Microservices/Images\";"
   ]
  },
  {
   "cell_type": "code",
   "execution_count": 14,
   "id": "f3dcf424-3047-48a6-b987-448ef27e0ad7",
   "metadata": {
    "execution": {
     "iopub.execute_input": "2024-04-07T18:56:59.843",
     "iopub.status.busy": "2024-04-07T18:56:59.843",
     "iopub.status.idle": "2024-04-07T18:57:03.318",
     "shell.execute_reply": "2024-04-07T18:57:03.318"
    },
    "scrolled": true
   },
   "outputs": [
    {
     "name": "stdout",
     "output_type": "stream",
     "text": [
      "Deleted Images:\n",
      "untagged: us-central1-docker.pkg.dev/rsys-417115/rsys-images/index@sha256:0a048d50dff4688b4206903908e5294cf9a0ca86b791f18085408e83bf6c9676\n",
      "deleted: sha256:776d1e3166e30722a2e8e488d2534c5f8e460c44d00572d6ac6ddca14c98feea\n",
      "\n",
      "Deleted build cache objects:\n",
      "wx8cx42ru87obcmmjptiabw9l\n",
      "loyku5xlar497m07goc1acbrc\n",
      "4zvr3k1enu1l272kjl8711kgl\n",
      "jgnhmeoomv0xcpmpqqkn5camh\n",
      "o8eueie8li3iwswe5m9oc1w3t\n",
      "nma10xsyl82fqs1nuiwuo8q8m\n",
      "j425h974gbxign1g9le5hlhnj\n",
      "ngm4cxoksjteh16fm4kbpn4ia\n",
      "vo9y9ae8l1y3v6bve31d1cmy4\n",
      "vhh8u502gttmbclxjj5lcewy7\n",
      "lx404dgtrn2glpnrk6zfbbcbg\n",
      "vc2lkk85doureun4ashpn4yl4\n",
      "g8yhcu733ha2ap83p9omfzr0j\n",
      "114nvxguygbetyb97bylbjftc\n",
      "xrpm9xkjbl7bgbioue0td0rtx\n",
      "k9isi3fryj99ugpmtb9stdedh\n",
      "e544czfpf735a877mq2aprvts\n",
      "s85wcxwpmcu3dq464eowpvjxl\n",
      "aurfna4v2ermbir1p64f8m333\n",
      "wz7m0nqtg6zdn3djk8t8tjcxq\n",
      "37auo7as2vpv64xdcwje47j08\n",
      "tvbkjkpu51eobday7wv8e7o73\n",
      "oz24dz4xv2lb7b0l6pwamb10f\n",
      "qr0dbpyfhea4fv5manfi4e660\n",
      "mt5fit1xnbvkgcisar9qrbbdh\n",
      "ymu65yorxlqvnpif83tayyfg8\n",
      "bahc7skx97iybb2pw6yv66sch\n",
      "uop6izcygwax8sapk7u1dge47\n",
      "w39kfwjcnbn906gydg7wthav8\n",
      "ewurvkrxhbzgnm95aqgix60jh\n",
      "x9wqmbbh2t5r4rogbml61jnh4\n",
      "50p6b2jj7avp70ieg6f2rc16j\n",
      "bgqm9hhcgr8g3rqptlhm8a7u0\n",
      "yl26l1yyaws04m29rezpqmvla\n",
      "9iop7a29n2vvnoo1iappjzhh4\n",
      "rgntbe7g8j1jmox4xjvmxh8i1\n",
      "txhiaem07tzrnpx13jlvqhk9d\n",
      "n4bmrimco1b442foa5zrgfzip\n",
      "teg4ept97y0vro2t9pgr9e04g\n",
      "4to70yonl2yx4uuyli15nn7p6\n",
      "3ml2j1a2wa7u9pgwa7zeixcu9\n",
      "i23eeneqg056qilbqiu0naqvr\n",
      "bt7lokkg2o0i7sccqn0wixenk\n",
      "y2v7jgyrth755py80li1np33d\n",
      "befngho1qkojwul2e0hfuy17o\n",
      "o7r9dklf3prfgsohiou3v8n4m\n",
      "rw3c7gplcjvhxtoe4mocdjsei\n",
      "nvl4xsggmofjfdjiici05ocx3\n",
      "m11g20qbeq3s3n7t9rfzaotez\n",
      "3d6b3yswws6gneqnn97rvst3r\n",
      "\n",
      "Total reclaimed space: 11.62GB\n"
     ]
    }
   ],
   "source": [
    "if ispath(basedir)\n",
    "    rm(basedir; recursive = true)\n",
    "end\n",
    "mkpath(basedir)\n",
    "run(`docker system prune -f`);"
   ]
  },
  {
   "cell_type": "code",
   "execution_count": 15,
   "id": "164f1bfd-9481-4bbc-be4b-dcf182684f3c",
   "metadata": {
    "execution": {
     "iopub.execute_input": "2024-04-07T18:57:03.318",
     "iopub.status.busy": "2024-04-07T18:57:03.318",
     "iopub.status.idle": "2024-04-07T18:57:32.236",
     "shell.execute_reply": "2024-04-07T18:57:32.236"
    }
   },
   "outputs": [
    {
     "name": "stdout",
     "output_type": "stream",
     "text": [
      "sha256:628f7bda2326e8032638e843e93d5bd31cd618bb5f3e06702d1b2a6464cd7493\n",
      "sha256:1a1794523276bd4f78b00039c3d41628e481e75890a1db3df9ce851e47bf841d\n",
      "sha256:01b882f242bfe75f10c006d4405b99cee4692ce13473476cfe0e3570ab86db7b\n",
      "sha256:054fb5974f28a26737951ac9cfce75343598b6853c3316a070f349d083eb966c\n",
      "sha256:9a4658fbc7794546024201f407d2aa8c4dfd5e4b2200c639dbc55310b2bae8d7\n",
      "sha256:dd6dfbbb217029d6474fcf84904e0cac422ebab205ae5072969d44aa3d4ff11b\n",
      "sha256:730f99959e2894e13439f0f106fe1fc5deed59c9e57f20f2b3a63e6284f63464\n",
      "sha256:0d844326f3a9f0b5e9aeae97d1e760981a4c299dcfc59a7a303ef1f4bb8071ae\n",
      "sha256:afc48b928528a16e5cdb04482c9776ffae86df0cf0cf2c749f2f339bb8acee57\n",
      "sha256:141c6f902540f7a8fb9b3d997c12dbe2a90993b95563b576067f24f193e52fa6\n",
      "sha256:6b0d4f6a8398f9b245e531fab196a33ae3c2e54dcf2e0e925e571c766087ad43\n",
      "sha256:033a775aa9d89742f11e44656b77b44d4005fb2293df75cc0a0c750e1aa43bbb\n",
      "sha256:b76c208680ab389872e056e4d2d8df91fafe09809c45cff06e4a8b46f7bf5b54\n",
      "sha256:9ba2ba024b578c805a3505672735e6f0cf29b07032c4fc7e14820eb70c03e0bf\n",
      "sha256:066e7adb2a0c0a94b5f3fcdcc2c9b06d28721eca0502ce953db621f7c82609c7\n",
      "sha256:f35344d9ef1a6f725804f717697f22d5bc70deef63fc066eac4babd4387cfd5d\n",
      "sha256:e65c018bbc20ca2a48b86e48c5aad7c8639e14ff5e173f578b8f7ae489c7c37b\n"
     ]
    }
   ],
   "source": [
    "package(basedir);"
   ]
  },
  {
   "cell_type": "code",
   "execution_count": 36,
   "id": "d68e7d6c-bdcb-4886-9f26-69d776a80fc8",
   "metadata": {
    "execution": {
     "iopub.execute_input": "2024-04-07T20:28:57.489",
     "iopub.status.busy": "2024-04-07T20:28:57.489",
     "iopub.status.idle": "2024-04-07T20:30:12.245",
     "shell.execute_reply": "2024-04-07T20:30:12.245"
    }
   },
   "outputs": [
    {
     "name": "stdout",
     "output_type": "stream",
     "text": [
      "sha256:7e6dce63b51172a318a7a5712074a7448550c5314963becd561b29215fb13e96\n"
     ]
    }
   ],
   "source": [
    "index(basedir);"
   ]
  },
  {
   "cell_type": "code",
   "execution_count": 40,
   "id": "6c2f350c-c73d-4edf-9f2f-b9a14a132706",
   "metadata": {
    "execution": {
     "iopub.execute_input": "2024-04-07T21:02:32.438",
     "iopub.status.busy": "2024-04-07T21:02:32.438",
     "iopub.status.idle": "2024-04-07T21:02:35.359",
     "shell.execute_reply": "2024-04-07T21:02:35.358"
    }
   },
   "outputs": [
    {
     "name": "stdout",
     "output_type": "stream",
     "text": [
      "sha256:6421e17fe2dcf5224b5d63535bc11345fdfac706987953f920faeaf4f5a154b2\n"
     ]
    }
   ],
   "source": [
    "index(basedir);"
   ]
  }
 ],
 "metadata": {
  "kernelspec": {
   "display_name": "Julia 1.9.4",
   "language": "julia",
   "name": "julia-1.9"
  },
  "language_info": {
   "file_extension": ".jl",
   "mimetype": "application/julia",
   "name": "julia",
   "version": "1.9.4"
  }
 },
 "nbformat": 4,
 "nbformat_minor": 5
}
