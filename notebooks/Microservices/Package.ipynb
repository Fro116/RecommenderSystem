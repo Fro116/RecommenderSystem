{
 "cells": [
  {
   "cell_type": "code",
   "execution_count": 1,
   "id": "5e5f7dbc-34ed-4677-9fa7-1bf477863c1b",
   "metadata": {
    "execution": {
     "iopub.execute_input": "2024-03-25T00:45:04.820149Z",
     "iopub.status.busy": "2024-03-25T00:45:04.819930Z",
     "iopub.status.idle": "2024-03-25T00:45:04.825926Z",
     "shell.execute_reply": "2024-03-25T00:45:04.825377Z",
     "shell.execute_reply.started": "2024-03-25T00:45:04.820122Z"
    }
   },
   "outputs": [],
   "source": [
    "import os\n",
    "import shutil\n",
    "import subprocess"
   ]
  },
  {
   "cell_type": "code",
   "execution_count": 2,
   "id": "8bd4757d-4382-4ea5-af8d-9b38f967ab38",
   "metadata": {
    "execution": {
     "iopub.execute_input": "2024-03-25T00:45:04.827344Z",
     "iopub.status.busy": "2024-03-25T00:45:04.827117Z",
     "iopub.status.idle": "2024-03-25T00:45:04.848207Z",
     "shell.execute_reply": "2024-03-25T00:45:04.847299Z",
     "shell.execute_reply.started": "2024-03-25T00:45:04.827329Z"
    }
   },
   "outputs": [],
   "source": [
    "def copy(folder, dst):\n",
    "    shutil.copytree(folder, f\"{dst}/{folder}\")"
   ]
  },
  {
   "cell_type": "code",
   "execution_count": 3,
   "id": "7f02fab1-c0cd-4d7a-9a44-1b82dbd002c1",
   "metadata": {
    "execution": {
     "iopub.execute_input": "2024-03-25T00:45:04.850221Z",
     "iopub.status.busy": "2024-03-25T00:45:04.849513Z",
     "iopub.status.idle": "2024-03-25T00:45:04.863346Z",
     "shell.execute_reply": "2024-03-25T00:45:04.861463Z",
     "shell.execute_reply.started": "2024-03-25T00:45:04.850177Z"
    }
   },
   "outputs": [],
   "source": [
    "def copyfile(file, dst):\n",
    "    folder = os.path.dirname(file)\n",
    "    os.makedirs(f\"{dst}/{folder}\", exist_ok=True)\n",
    "    shutil.copyfile(file, f\"{dst}/{file}\")"
   ]
  },
  {
   "cell_type": "code",
   "execution_count": 4,
   "id": "dd1a7165-f5a9-4a75-8f09-6228bfb519b1",
   "metadata": {
    "execution": {
     "iopub.execute_input": "2024-03-25T00:45:04.866231Z",
     "iopub.status.busy": "2024-03-25T00:45:04.865556Z",
     "iopub.status.idle": "2024-03-25T00:45:04.874549Z",
     "shell.execute_reply": "2024-03-25T00:45:04.873720Z",
     "shell.execute_reply.started": "2024-03-25T00:45:04.866202Z"
    }
   },
   "outputs": [],
   "source": [
    "os.chdir(\"../..\")"
   ]
  },
  {
   "cell_type": "code",
   "execution_count": 5,
   "id": "959697d5-c3ab-4244-9a93-4cc1f5fa7249",
   "metadata": {
    "execution": {
     "iopub.execute_input": "2024-03-25T00:45:04.877616Z",
     "iopub.status.busy": "2024-03-25T00:45:04.877123Z",
     "iopub.status.idle": "2024-03-25T00:45:04.889189Z",
     "shell.execute_reply": "2024-03-25T00:45:04.886910Z",
     "shell.execute_reply.started": "2024-03-25T00:45:04.877591Z"
    }
   },
   "outputs": [],
   "source": [
    "base_dir = \"notebooks/Microservices/Images\""
   ]
  },
  {
   "cell_type": "code",
   "execution_count": 6,
   "id": "2b35a183-5a2f-4344-95e3-e87e36aaffdd",
   "metadata": {
    "execution": {
     "iopub.execute_input": "2024-03-25T00:45:04.891569Z",
     "iopub.status.busy": "2024-03-25T00:45:04.890968Z",
     "iopub.status.idle": "2024-03-25T00:45:04.899512Z",
     "shell.execute_reply": "2024-03-25T00:45:04.898885Z",
     "shell.execute_reply.started": "2024-03-25T00:45:04.891542Z"
    }
   },
   "outputs": [],
   "source": [
    "ALL_MEDIUMS = [\"manga\", \"anime\"]\n",
    "ALL_METRICS = [\"rating\", \"watch\", \"plantowatch\", \"drop\"]"
   ]
  },
  {
   "cell_type": "code",
   "execution_count": 7,
   "id": "ab003d08-2660-41ae-bb98-552e9b49697f",
   "metadata": {
    "execution": {
     "iopub.execute_input": "2024-03-25T00:45:04.902849Z",
     "iopub.status.busy": "2024-03-25T00:45:04.902290Z",
     "iopub.status.idle": "2024-03-25T00:45:04.912796Z",
     "shell.execute_reply": "2024-03-25T00:45:04.911888Z",
     "shell.execute_reply.started": "2024-03-25T00:45:04.902820Z"
    }
   },
   "outputs": [],
   "source": [
    "def build(app):\n",
    "    name = app.split(\"/\")[-1]\n",
    "    subprocess.run(\n",
    "        [\"docker\", \"build\", \"-q\", \"-t\", f\"rsys/{name}\", f\"{base_dir}/{name}\"]\n",
    "    )"
   ]
  },
  {
   "cell_type": "code",
   "execution_count": 8,
   "id": "f8432a2e-8f18-4e6f-857c-69301a3ec016",
   "metadata": {
    "execution": {
     "iopub.execute_input": "2024-03-25T00:45:04.914735Z",
     "iopub.status.busy": "2024-03-25T00:45:04.914033Z",
     "iopub.status.idle": "2024-03-25T00:45:04.925865Z",
     "shell.execute_reply": "2024-03-25T00:45:04.924908Z",
     "shell.execute_reply.started": "2024-03-25T00:45:04.914696Z"
    }
   },
   "outputs": [],
   "source": [
    "if os.path.exists(base_dir):\n",
    "    shutil.rmtree(base_dir)"
   ]
  },
  {
   "cell_type": "code",
   "execution_count": 19,
   "id": "2cae158a-a1d3-46c0-b942-85f41efca5f2",
   "metadata": {
    "execution": {
     "iopub.execute_input": "2024-03-25T02:54:08.486363Z",
     "iopub.status.busy": "2024-03-25T02:54:08.485942Z",
     "iopub.status.idle": "2024-03-25T02:55:26.515974Z",
     "shell.execute_reply": "2024-03-25T02:55:26.514951Z",
     "shell.execute_reply.started": "2024-03-25T02:54:08.486329Z"
    }
   },
   "outputs": [
    {
     "name": "stdout",
     "output_type": "stream",
     "text": [
      "sha256:8a12edd8f173a05d18ab03aa363318c14dc369d1311d70a1ccf0c2957a7b9012\n"
     ]
    }
   ],
   "source": [
    "# index\n",
    "app = f\"{base_dir}/index\"\n",
    "if os.path.exists(app):\n",
    "    shutil.rmtree(app)\n",
    "shutil.copytree(\"notebooks/Microservices/index\", app)\n",
    "build(app)"
   ]
  },
  {
   "cell_type": "code",
   "execution_count": 10,
   "id": "0d700866-f08e-4496-aa56-35e0f92c6f6d",
   "metadata": {
    "execution": {
     "iopub.execute_input": "2024-03-25T00:45:05.641332Z",
     "iopub.status.busy": "2024-03-25T00:45:05.640987Z",
     "iopub.status.idle": "2024-03-25T00:45:06.303889Z",
     "shell.execute_reply": "2024-03-25T00:45:06.302622Z",
     "shell.execute_reply.started": "2024-03-25T00:45:05.641300Z"
    }
   },
   "outputs": [
    {
     "name": "stdout",
     "output_type": "stream",
     "text": [
      "sha256:3c28d9d2be6c10dfa1c49c91fbbb5d8b4aac32e9c532eabf1f45131b43d02533\n"
     ]
    }
   ],
   "source": [
    "# fetch_media_lists\n",
    "app = f\"{base_dir}/fetch_media_lists\"\n",
    "if os.path.exists(app):\n",
    "    shutil.rmtree(app)\n",
    "shutil.copytree(\"notebooks/Microservices/fetch_media_lists\", app)\n",
    "copy(\"notebooks/API/API\", app)\n",
    "copy(\"environment/animeplanet\", app)\n",
    "copy(\"environment/kitsu\", app)\n",
    "copy(\"environment/mal\", app)\n",
    "copy(\"environment/proxies\", app)\n",
    "build(app)"
   ]
  },
  {
   "cell_type": "code",
   "execution_count": 20,
   "id": "b27d733d-6949-48f9-8b56-f0e0f462825d",
   "metadata": {
    "execution": {
     "iopub.execute_input": "2024-03-25T03:25:16.891410Z",
     "iopub.status.busy": "2024-03-25T03:25:16.890991Z",
     "iopub.status.idle": "2024-03-25T03:25:21.582236Z",
     "shell.execute_reply": "2024-03-25T03:25:21.580373Z",
     "shell.execute_reply.started": "2024-03-25T03:25:16.891375Z"
    }
   },
   "outputs": [
    {
     "name": "stdout",
     "output_type": "stream",
     "text": [
      "sha256:09b52939c8011bdd3d885273b29a6d4d1b1e84757153208a923c59873d40ca76\n"
     ]
    }
   ],
   "source": [
    "# compress_media_lists\n",
    "app = f\"{base_dir}/compress_media_lists\"\n",
    "if os.path.exists(app):\n",
    "    shutil.rmtree(app)\n",
    "shutil.copytree(\"notebooks/Microservices/compress_media_lists\", app)\n",
    "copy(\"notebooks/ImportDatasets\", app)\n",
    "copy(\"notebooks/ProcessData\", app)\n",
    "copy(\"data/processed_data\", app)\n",
    "build(app)"
   ]
  },
  {
   "cell_type": "code",
   "execution_count": 12,
   "id": "15feecdc-0231-46a1-ad35-106fb9a9dc98",
   "metadata": {
    "execution": {
     "iopub.execute_input": "2024-03-25T00:45:07.099416Z",
     "iopub.status.busy": "2024-03-25T00:45:07.099049Z",
     "iopub.status.idle": "2024-03-25T00:45:08.715139Z",
     "shell.execute_reply": "2024-03-25T00:45:08.713835Z",
     "shell.execute_reply.started": "2024-03-25T00:45:07.099382Z"
    }
   },
   "outputs": [
    {
     "name": "stdout",
     "output_type": "stream",
     "text": [
      "sha256:d2075570a5d5257572745f2c49804ffc5e2bb19cca23d708799acf1257c896d3\n"
     ]
    }
   ],
   "source": [
    "# nondirectional\n",
    "app = f\"{base_dir}/nondirectional\"\n",
    "if os.path.exists(app):\n",
    "    shutil.rmtree(app)\n",
    "shutil.copytree(\"notebooks/Microservices/nondirectional\", app)\n",
    "copyfile(\"notebooks/TrainingAlphas/AlphaBase.ipynb\", f\"{app}/App/src\")\n",
    "copy(\"data/processed_data\", f\"{app}/App/src\")\n",
    "for m in ALL_MEDIUMS:\n",
    "    copy(f\"environment/alphas/{m}/Nondirectional\", f\"{app}/App/src\")\n",
    "build(app)"
   ]
  },
  {
   "cell_type": "code",
   "execution_count": 13,
   "id": "f9d439ad-3604-47e8-937c-2b81207cf198",
   "metadata": {
    "execution": {
     "iopub.execute_input": "2024-03-25T00:45:08.717103Z",
     "iopub.status.busy": "2024-03-25T00:45:08.716753Z",
     "iopub.status.idle": "2024-03-25T00:45:09.409598Z",
     "shell.execute_reply": "2024-03-25T00:45:09.408619Z",
     "shell.execute_reply.started": "2024-03-25T00:45:08.717072Z"
    }
   },
   "outputs": [
    {
     "name": "stdout",
     "output_type": "stream",
     "text": [
      "sha256:a16cd25be169adae11593eb6dbbe3742e5a74e1bcd8fdbc993f9dc07b6c87164\n"
     ]
    }
   ],
   "source": [
    "# transformer_jl\n",
    "app = f\"{base_dir}/transformer_jl\"\n",
    "if os.path.exists(app):\n",
    "    shutil.rmtree(app)\n",
    "shutil.copytree(\"notebooks/Microservices/transformer_jl\", app)\n",
    "copyfile(\"notebooks/TrainingAlphas/AlphaBase.ipynb\", f\"{app}/App/src\")\n",
    "copyfile(\"notebooks/TrainingAlphas/Transformer/Data.ipynb\", f\"{app}/App/src\")\n",
    "copyfile(f\"data/alphas/all/Transformer/v1/0/config.json\", f\"{app}/App/src\")\n",
    "copy(\"data/processed_data\", f\"{app}/App/src\")\n",
    "build(app)"
   ]
  },
  {
   "cell_type": "code",
   "execution_count": 14,
   "id": "313eb350-3315-4485-bf6a-dc96f73be122",
   "metadata": {
    "execution": {
     "iopub.execute_input": "2024-03-25T00:45:09.411150Z",
     "iopub.status.busy": "2024-03-25T00:45:09.410813Z",
     "iopub.status.idle": "2024-03-25T00:45:12.374427Z",
     "shell.execute_reply": "2024-03-25T00:45:12.373139Z",
     "shell.execute_reply.started": "2024-03-25T00:45:09.411118Z"
    }
   },
   "outputs": [
    {
     "name": "stdout",
     "output_type": "stream",
     "text": [
      "sha256:a49e27cb0085fc960a67cf63316419fa695dc16b567bc3c9c8673f94f2172bd8\n"
     ]
    }
   ],
   "source": [
    "# transformer_py\n",
    "app = f\"{base_dir}/transformer_py\"\n",
    "if os.path.exists(app):\n",
    "    shutil.rmtree(app)\n",
    "shutil.copytree(\"notebooks/Microservices/transformer_py\", app)\n",
    "copyfile(\"notebooks/TrainingAlphas/Transformer/transformer.py\", app)\n",
    "for x in ALL_MEDIUMS:\n",
    "    copyfile(f\"data/alphas/{x}/Transformer/v1/model.pt\", app)\n",
    "copyfile(f\"data/alphas/all/Transformer/v1/0/config.json\", app)\n",
    "build(app)"
   ]
  },
  {
   "cell_type": "code",
   "execution_count": 15,
   "id": "901ed545-a21d-4b93-aec4-450930e209b0",
   "metadata": {
    "execution": {
     "iopub.execute_input": "2024-03-25T00:45:12.376102Z",
     "iopub.status.busy": "2024-03-25T00:45:12.375750Z",
     "iopub.status.idle": "2024-03-25T00:45:13.134698Z",
     "shell.execute_reply": "2024-03-25T00:45:13.133479Z",
     "shell.execute_reply.started": "2024-03-25T00:45:12.376071Z"
    }
   },
   "outputs": [
    {
     "name": "stdout",
     "output_type": "stream",
     "text": [
      "sha256:486c5f10b3ecc01f115a0b134702e39c08bd05f334c8c5c380ace5d93897a55b\n"
     ]
    }
   ],
   "source": [
    "# bagofwords_jl\n",
    "app = f\"{base_dir}/bagofwords_jl\"\n",
    "if os.path.exists(app):\n",
    "    shutil.rmtree(app)\n",
    "shutil.copytree(\"notebooks/Microservices/bagofwords_jl\", app)\n",
    "copyfile(\"notebooks/TrainingAlphas/AlphaBase.ipynb\", f\"{app}/App/src\")\n",
    "copyfile(\"notebooks/TrainingAlphas/Baseline/BaselineHelper.ipynb\", f\"{app}/App/src\")\n",
    "for x in ALL_MEDIUMS:\n",
    "    copyfile(f\"data/alphas/{x}/Baseline/rating/params.jld2\", f\"{app}/App/src\")\n",
    "copy(\"data/processed_data\", f\"{app}/App/src\")\n",
    "build(app)"
   ]
  },
  {
   "cell_type": "code",
   "execution_count": 16,
   "id": "6e8fed22-550e-4b03-a235-1a1011bad509",
   "metadata": {
    "execution": {
     "iopub.execute_input": "2024-03-25T00:45:13.136628Z",
     "iopub.status.busy": "2024-03-25T00:45:13.136248Z",
     "iopub.status.idle": "2024-03-25T00:45:31.592101Z",
     "shell.execute_reply": "2024-03-25T00:45:31.590801Z",
     "shell.execute_reply.started": "2024-03-25T00:45:13.136595Z"
    }
   },
   "outputs": [
    {
     "name": "stdout",
     "output_type": "stream",
     "text": [
      "sha256:5b5d7b6d3862ac2626e3377cb64b506d29cb6b4050ee6071e57d9336618d7094\n"
     ]
    }
   ],
   "source": [
    "# bagofwords_py\n",
    "app = f\"{base_dir}/bagofwords_py\"\n",
    "if os.path.exists(app):\n",
    "    shutil.rmtree(app)\n",
    "shutil.copytree(\"notebooks/Microservices/bagofwords_py\", app)\n",
    "copyfile(\"notebooks/TrainingAlphas/BagOfWords/bagofwords.py\", app)\n",
    "for x in ALL_MEDIUMS:\n",
    "    for y in ALL_METRICS:\n",
    "        copyfile(f\"data/alphas/{x}/BagOfWords/v1/{y}/model.pt\", app)\n",
    "        copyfile(f\"data/alphas/{x}/BagOfWords/v1/{y}/config.json\", app)\n",
    "build(app)"
   ]
  },
  {
   "cell_type": "code",
   "execution_count": 17,
   "id": "01276dca-5af5-49ad-93bc-5d6c5cb4936e",
   "metadata": {
    "execution": {
     "iopub.execute_input": "2024-03-25T00:45:31.594291Z",
     "iopub.status.busy": "2024-03-25T00:45:31.593748Z",
     "iopub.status.idle": "2024-03-25T00:45:32.195680Z",
     "shell.execute_reply": "2024-03-25T00:45:32.195252Z",
     "shell.execute_reply.started": "2024-03-25T00:45:31.594253Z"
    }
   },
   "outputs": [
    {
     "name": "stdout",
     "output_type": "stream",
     "text": [
      "sha256:7bf30eeddd2ece161be9a4048917ba47bd658141ab5690cb692634dc7948ef02\n"
     ]
    }
   ],
   "source": [
    "# ensemble\n",
    "app = f\"{base_dir}/ensemble\"\n",
    "if os.path.exists(app):\n",
    "    shutil.rmtree(app)\n",
    "shutil.copytree(\"notebooks/Microservices/ensemble\", app)\n",
    "copyfile(\"notebooks/TrainingAlphas/AlphaBase.ipynb\", f\"{app}/App/src\")\n",
    "copyfile(\"notebooks/TrainingAlphas/Ensemble/EnsembleInputs.ipynb\", f\"{app}/App/src\")\n",
    "copy(\"data/processed_data\", f\"{app}/App/src\")\n",
    "for m in ALL_MEDIUMS:\n",
    "    copy(f\"environment/alphas/{m}/Linear\", f\"{app}/App/src\")\n",
    "build(app)"
   ]
  }
 ],
 "metadata": {
  "kernelspec": {
   "display_name": "Python 3 (ipykernel)",
   "language": "python",
   "name": "python3"
  },
  "language_info": {
   "codemirror_mode": {
    "name": "ipython",
    "version": 3
   },
   "file_extension": ".py",
   "mimetype": "text/x-python",
   "name": "python",
   "nbconvert_exporter": "python",
   "pygments_lexer": "ipython3",
   "version": "3.10.12"
  }
 },
 "nbformat": 4,
 "nbformat_minor": 5
}
