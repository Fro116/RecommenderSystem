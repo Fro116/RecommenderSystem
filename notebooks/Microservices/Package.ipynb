{
 "cells": [
  {
   "cell_type": "code",
   "execution_count": null,
   "id": "993b757c-4dde-4422-90cf-070b72230e21",
   "metadata": {},
   "outputs": [],
   "source": [
    "import JupyterFormatter\n",
    "JupyterFormatter.enable_autoformat();"
   ]
  },
  {
   "cell_type": "code",
   "execution_count": null,
   "id": "e0908ea7-0cc2-4395-80a2-beb49c211836",
   "metadata": {},
   "outputs": [],
   "source": [
    "function copy(file::String, dst::String)\n",
    "    mkpath(joinpath(dst, dirname(file)))\n",
    "    cp(file, joinpath(dst, file))\n",
    "end\n",
    "\n",
    "function build(app::String, basedir::String)\n",
    "    name = split(app, \"/\")[end]\n",
    "    run(`docker build -q -t rsys/$name $basedir/$name`)\n",
    "end;"
   ]
  },
  {
   "cell_type": "code",
   "execution_count": null,
   "id": "d8857eab-f9ff-496f-ba4d-36ebc8c6e520",
   "metadata": {},
   "outputs": [],
   "source": [
    "function fetch_media_lists(basedir::String)\n",
    "    app = \"$basedir/fetch_media_lists\"\n",
    "    if ispath(app)\n",
    "        rm(app; recursive = true)\n",
    "    end\n",
    "    cp(\"notebooks/Microservices/fetch_media_lists\", app)\n",
    "    copy(\"notebooks/API/API\", app)\n",
    "    copy(\"environment/animeplanet\", app)\n",
    "    copy(\"environment/kitsu\", app)\n",
    "    copy(\"environment/mal\", app)\n",
    "    copy(\"environment/proxies\", app)\n",
    "    build(app, basedir)\n",
    "end;"
   ]
  },
  {
   "cell_type": "code",
   "execution_count": null,
   "id": "b1566e78-8e57-4402-a9a8-662082b78294",
   "metadata": {},
   "outputs": [],
   "source": [
    "function compress_media_lists(basedir::String)\n",
    "    app = \"$basedir/compress_media_lists\"\n",
    "    if ispath(app)\n",
    "        rm(app; recursive = true)\n",
    "    end\n",
    "    cp(\"notebooks/Microservices/compress_media_lists\", app)\n",
    "    copy(\"notebooks/ImportDatasets\", app)\n",
    "    copy(\"notebooks/ProcessData\", app)\n",
    "    copy(\"data/processed_data\", app)\n",
    "    build(app, basedir)\n",
    "end;"
   ]
  },
  {
   "cell_type": "code",
   "execution_count": null,
   "id": "fab7fb62-14c9-4fa7-9d71-b7c54ae184bf",
   "metadata": {},
   "outputs": [],
   "source": [
    "function bagofwords_jl(basedir::String)\n",
    "    app = \"$basedir/bagofwords_jl\"\n",
    "    if ispath(app)\n",
    "        rm(app; recursive = true)\n",
    "    end\n",
    "    cp(\"notebooks/Microservices/bagofwords_jl\", app)\n",
    "    copy(\"notebooks/TrainingAlphas/AlphaBase.ipynb\", \"$app/App/src\")\n",
    "    copy(\"notebooks/TrainingAlphas/Baseline/BaselineHelper.ipynb\", \"$app/App/src\")\n",
    "    for x in ALL_MEDIUMS\n",
    "        copy(\"data/alphas/$x/Baseline/rating/params.jld2\", \"$app/App/src\")\n",
    "    end\n",
    "    copy(\"data/processed_data\", \"$app/App/src\")\n",
    "    build(app, basedir)\n",
    "end;"
   ]
  },
  {
   "cell_type": "code",
   "execution_count": null,
   "id": "c60108a4-11ab-4cb6-800a-b3b24dab8dd1",
   "metadata": {},
   "outputs": [],
   "source": [
    "function bagofwords_py(basedir::String)\n",
    "    for medium in ALL_MEDIUMS\n",
    "        for metric in ALL_METRICS\n",
    "            app = \"$basedir/bagofwords_py_$(medium)_$(metric)\"\n",
    "            if ispath(app)\n",
    "                rm(app; recursive = true)\n",
    "            end\n",
    "            cp(\"notebooks/Microservices/bagofwords_py\", app)\n",
    "            copy(\"notebooks/TrainingAlphas/BagOfWords/bagofwords.py\", app)\n",
    "            copy(\"data/alphas/$(medium)/BagOfWords/v1/$(metric)/model.pt\", app)\n",
    "            copy(\"data/alphas/$(medium)/BagOfWords/v1/$(metric)/config.json\", app)\n",
    "            build(app, basedir)\n",
    "        end\n",
    "    end\n",
    "end;"
   ]
  },
  {
   "cell_type": "code",
   "execution_count": null,
   "id": "3299a37b-39cf-4285-9398-f8b528a36826",
   "metadata": {},
   "outputs": [],
   "source": [
    "function nondirectional(basedir::String)\n",
    "    app = \"$basedir/nondirectional\"\n",
    "    if ispath(app)\n",
    "        rm(app; recursive = true)\n",
    "    end\n",
    "    cp(\"notebooks/Microservices/nondirectional\", app)\n",
    "    copy(\"notebooks/TrainingAlphas/AlphaBase.ipynb\", \"$app/App/src\")\n",
    "    copy(\"data/processed_data\", \"$app/App/src\")\n",
    "    for m in ALL_MEDIUMS\n",
    "        copy(\"environment/alphas/$m/Nondirectional\", \"$app/App/src\")\n",
    "    end\n",
    "    build(app, basedir)\n",
    "end;"
   ]
  },
  {
   "cell_type": "code",
   "execution_count": null,
   "id": "c69ad685-cea7-494d-8d07-caeb9555a234",
   "metadata": {},
   "outputs": [],
   "source": [
    "function transformer_jl(basedir::String)\n",
    "    app = \"$basedir/transformer_jl\"\n",
    "    if ispath(app)\n",
    "        rm(app; recursive = true)\n",
    "    end\n",
    "    cp(\"notebooks/Microservices/transformer_jl\", app)\n",
    "    copy(\"notebooks/TrainingAlphas/AlphaBase.ipynb\", \"$app/App/src\")\n",
    "    copy(\"notebooks/TrainingAlphas/Transformer/Data.ipynb\", \"$app/App/src\")\n",
    "    copy(\"data/alphas/all/Transformer/v1/0/config.json\", \"$app/App/src\")\n",
    "    copy(\"data/processed_data\", \"$app/App/src\")\n",
    "    build(app, basedir)\n",
    "end;"
   ]
  },
  {
   "cell_type": "code",
   "execution_count": null,
   "id": "65b2492b-bd18-4496-b17a-148debeb2723",
   "metadata": {},
   "outputs": [],
   "source": [
    "function transformer_py(basedir::String)\n",
    "    for medium in ALL_MEDIUMS\n",
    "        app = \"$basedir/transformer_py_$(medium)\"\n",
    "        if ispath(app)\n",
    "            rm(app; recursive = true)\n",
    "        end\n",
    "        cp(\"notebooks/Microservices/transformer_py\", app)\n",
    "        copy(\"notebooks/TrainingAlphas/Transformer/transformer.py\", app)\n",
    "        copy(\"data/alphas/$(medium)/Transformer/v1/model.pt\", app)\n",
    "        copy(\"data/alphas/all/Transformer/v1/0/config.json\", app)\n",
    "        build(app, basedir)\n",
    "    end\n",
    "end;"
   ]
  },
  {
   "cell_type": "code",
   "execution_count": null,
   "id": "b8871564-57fb-4517-8ced-51824cd1d10a",
   "metadata": {},
   "outputs": [],
   "source": [
    "cd(\"../..\")\n",
    "basedir = \"notebooks/Microservices/Images\"\n",
    "ALL_MEDIUMS = [\"manga\", \"anime\"]\n",
    "ALL_METRICS = [\"rating\", \"watch\", \"plantowatch\", \"drop\"];"
   ]
  },
  {
   "cell_type": "code",
   "execution_count": null,
   "id": "f3dcf424-3047-48a6-b987-448ef27e0ad7",
   "metadata": {},
   "outputs": [],
   "source": [
    "if ispath(basedir)\n",
    "    rm(basedir; recursive = true)\n",
    "end\n",
    "mkpath(basedir);"
   ]
  },
  {
   "cell_type": "code",
   "execution_count": null,
   "id": "d11c0a84-f9a8-47b7-bf17-da4bd5ce3870",
   "metadata": {},
   "outputs": [],
   "source": [
    "fetch_media_lists(basedir);"
   ]
  },
  {
   "cell_type": "code",
   "execution_count": null,
   "id": "1b939055-35f9-4c34-bbe4-d0577eade11c",
   "metadata": {},
   "outputs": [],
   "source": [
    "compress_media_lists(basedir);"
   ]
  },
  {
   "cell_type": "code",
   "execution_count": null,
   "id": "ea7f3dd6-26dd-444d-b4b1-8853b1670a1e",
   "metadata": {},
   "outputs": [],
   "source": [
    "bagofwords_jl(basedir);"
   ]
  },
  {
   "cell_type": "code",
   "execution_count": null,
   "id": "daf67b3f-9116-4542-aa75-594affaa6d01",
   "metadata": {},
   "outputs": [],
   "source": [
    "bagofwords_py(basedir);"
   ]
  },
  {
   "cell_type": "code",
   "execution_count": null,
   "id": "71f4dd31-ea03-4882-b383-bcefcd900925",
   "metadata": {},
   "outputs": [],
   "source": [
    "nondirectional(basedir);"
   ]
  },
  {
   "cell_type": "code",
   "execution_count": null,
   "id": "f79237ff-f1b6-4422-bc28-52b60cbe9648",
   "metadata": {},
   "outputs": [],
   "source": [
    "transformer_jl(basedir);"
   ]
  },
  {
   "cell_type": "code",
   "execution_count": null,
   "id": "88950eca-cd01-4ba4-9ead-6b68f8256727",
   "metadata": {},
   "outputs": [],
   "source": [
    "transformer_py(basedir);"
   ]
  }
 ],
 "metadata": {
  "kernelspec": {
   "display_name": "Julia 1.9.4",
   "language": "julia",
   "name": "julia-1.9"
  },
  "language_info": {
   "file_extension": ".jl",
   "mimetype": "application/julia",
   "name": "julia",
   "version": "1.9.4"
  }
 },
 "nbformat": 4,
 "nbformat_minor": 5
}
