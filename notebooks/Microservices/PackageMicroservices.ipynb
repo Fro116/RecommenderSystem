{
 "cells": [
  {
   "cell_type": "code",
   "execution_count": null,
   "id": "5e5f7dbc-34ed-4677-9fa7-1bf477863c1b",
   "metadata": {},
   "outputs": [],
   "source": [
    "import os\n",
    "import shutil\n",
    "import subprocess"
   ]
  },
  {
   "cell_type": "code",
   "execution_count": null,
   "id": "8bd4757d-4382-4ea5-af8d-9b38f967ab38",
   "metadata": {},
   "outputs": [],
   "source": [
    "def copy(folder, dst):\n",
    "    shutil.copytree(folder, f\"{dst}/{folder}\")"
   ]
  },
  {
   "cell_type": "code",
   "execution_count": null,
   "id": "7f02fab1-c0cd-4d7a-9a44-1b82dbd002c1",
   "metadata": {},
   "outputs": [],
   "source": [
    "def copyfile(file, dst):\n",
    "    folder = os.path.dirname(file)\n",
    "    os.makedirs(f\"{dst}/{folder}\", exist_ok=True)\n",
    "    shutil.copyfile(file, f\"{dst}/{file}\")"
   ]
  },
  {
   "cell_type": "code",
   "execution_count": null,
   "id": "dd1a7165-f5a9-4a75-8f09-6228bfb519b1",
   "metadata": {},
   "outputs": [],
   "source": [
    "os.chdir(\"../..\")"
   ]
  },
  {
   "cell_type": "code",
   "execution_count": null,
   "id": "959697d5-c3ab-4244-9a93-4cc1f5fa7249",
   "metadata": {},
   "outputs": [],
   "source": [
    "base_dir = \"notebooks/Microservices/Images\""
   ]
  },
  {
   "cell_type": "code",
   "execution_count": null,
   "id": "2b35a183-5a2f-4344-95e3-e87e36aaffdd",
   "metadata": {},
   "outputs": [],
   "source": [
    "ALL_MEDIUMS = [\"manga\", \"anime\"]\n",
    "ALL_METRICS = [\"rating\", \"watch\", \"plantowatch\", \"drop\"]"
   ]
  },
  {
   "cell_type": "code",
   "execution_count": null,
   "id": "ab003d08-2660-41ae-bb98-552e9b49697f",
   "metadata": {},
   "outputs": [],
   "source": [
    "def build(app):\n",
    "    name = app.split(\"/\")[-1]\n",
    "    subprocess.run(\n",
    "        [\"docker\", \"build\", \"-q\", \"-t\", f\"rsys/{name}\", f\"{base_dir}/{name}\"]\n",
    "    )"
   ]
  },
  {
   "cell_type": "code",
   "execution_count": null,
   "id": "0d700866-f08e-4496-aa56-35e0f92c6f6d",
   "metadata": {},
   "outputs": [],
   "source": [
    "# fetch_media_lists\n",
    "app = f\"{base_dir}/fetch_media_lists\"\n",
    "if os.path.exists(app):\n",
    "    shutil.rmtree(app)\n",
    "shutil.copytree(\"notebooks/Microservices/fetch_media_lists\", app)\n",
    "copy(\"notebooks/API/API\", app)\n",
    "copy(\"environment/animeplanet\", app)\n",
    "copy(\"environment/kitsu\", app)\n",
    "copy(\"environment/mal\", app)\n",
    "copy(\"environment/proxies\", app)\n",
    "build(app)"
   ]
  },
  {
   "cell_type": "code",
   "execution_count": null,
   "id": "b27d733d-6949-48f9-8b56-f0e0f462825d",
   "metadata": {},
   "outputs": [],
   "source": [
    "# compress_media_lists\n",
    "app = f\"{base_dir}/compress_media_lists\"\n",
    "if os.path.exists(app):\n",
    "    shutil.rmtree(app)\n",
    "shutil.copytree(\"notebooks/Microservices/compress_media_lists\", app)\n",
    "copy(\"notebooks/ImportDatasets\", app)\n",
    "copy(\"notebooks/ProcessData\", app)\n",
    "copy(\"data/processed_data\", app)\n",
    "build(app)"
   ]
  },
  {
   "cell_type": "code",
   "execution_count": null,
   "id": "15feecdc-0231-46a1-ad35-106fb9a9dc98",
   "metadata": {},
   "outputs": [],
   "source": [
    "# nondirectional\n",
    "app = f\"{base_dir}/nondirectional\"\n",
    "if os.path.exists(app):\n",
    "    shutil.rmtree(app)\n",
    "shutil.copytree(\"notebooks/Microservices/nondirectional\", app)\n",
    "copyfile(\"notebooks/TrainingAlphas/AlphaBase.ipynb\", f\"{app}/App/src\")\n",
    "copy(\"data/processed_data\", f\"{app}/App/src\")\n",
    "for m in ALL_MEDIUMS:\n",
    "    copy(f\"environment/alphas/{m}/Nondirectional\", f\"{app}/App/src\")\n",
    "build(app)"
   ]
  },
  {
   "cell_type": "code",
   "execution_count": null,
   "id": "f9d439ad-3604-47e8-937c-2b81207cf198",
   "metadata": {},
   "outputs": [],
   "source": [
    "# transformer_jl\n",
    "app = f\"{base_dir}/transformer_jl\"\n",
    "if os.path.exists(app):\n",
    "    shutil.rmtree(app)\n",
    "shutil.copytree(\"notebooks/Microservices/transformer_jl\", app)\n",
    "copyfile(\"notebooks/TrainingAlphas/AlphaBase.ipynb\", f\"{app}/App/src\")\n",
    "copyfile(\"notebooks/TrainingAlphas/Transformer/Data.ipynb\", f\"{app}/App/src\")\n",
    "copyfile(f\"data/alphas/all/Transformer/v1/0/config.json\", f\"{app}/App/src\")\n",
    "copy(\"data/processed_data\", f\"{app}/App/src\")\n",
    "build(app)"
   ]
  },
  {
   "cell_type": "code",
   "execution_count": null,
   "id": "313eb350-3315-4485-bf6a-dc96f73be122",
   "metadata": {},
   "outputs": [],
   "source": [
    "# transformer_py\n",
    "app = f\"{base_dir}/transformer_py\"\n",
    "if os.path.exists(app):\n",
    "    shutil.rmtree(app)\n",
    "shutil.copytree(\"notebooks/Microservices/transformer_py\", app)\n",
    "copyfile(\"notebooks/TrainingAlphas/Transformer/transformer.py\", app)\n",
    "for x in ALL_MEDIUMS:\n",
    "    copyfile(f\"data/alphas/{x}/Transformer/v1/model.pt\", app)\n",
    "copyfile(f\"data/alphas/all/Transformer/v1/0/config.json\", app)\n",
    "build(app)"
   ]
  },
  {
   "cell_type": "code",
   "execution_count": null,
   "id": "901ed545-a21d-4b93-aec4-450930e209b0",
   "metadata": {},
   "outputs": [],
   "source": [
    "# bagofwords_jl\n",
    "app = f\"{base_dir}/bagofwords_jl\"\n",
    "if os.path.exists(app):\n",
    "    shutil.rmtree(app)\n",
    "shutil.copytree(\"notebooks/Microservices/bagofwords_jl\", app)\n",
    "copyfile(\"notebooks/TrainingAlphas/AlphaBase.ipynb\", f\"{app}/App/src\")\n",
    "copyfile(\"notebooks/TrainingAlphas/Baseline/BaselineHelper.ipynb\", f\"{app}/App/src\")\n",
    "for x in ALL_MEDIUMS:\n",
    "    copyfile(f\"data/alphas/{x}/Baseline/rating/params.jld2\", f\"{app}/App/src\")\n",
    "copy(\"data/processed_data\", f\"{app}/App/src\")\n",
    "build(app)"
   ]
  },
  {
   "cell_type": "code",
   "execution_count": null,
   "id": "6e8fed22-550e-4b03-a235-1a1011bad509",
   "metadata": {},
   "outputs": [],
   "source": [
    "# bagofwords_py\n",
    "app = f\"{base_dir}/bagofwords_py\"\n",
    "if os.path.exists(app):\n",
    "    shutil.rmtree(app)\n",
    "shutil.copytree(\"notebooks/Microservices/bagofwords_py\", app)\n",
    "copyfile(\"notebooks/TrainingAlphas/BagOfWords/bagofwords.py\", app)\n",
    "for x in ALL_MEDIUMS:\n",
    "    for y in ALL_METRICS:\n",
    "        copyfile(f\"data/alphas/{x}/BagOfWords/v1/{y}/model.pt\", app)\n",
    "        copyfile(f\"data/alphas/{x}/BagOfWords/v1/{y}/config.json\", app)\n",
    "build(app)"
   ]
  }
 ],
 "metadata": {
  "kernelspec": {
   "display_name": "Python 3 (ipykernel)",
   "language": "python",
   "name": "python3"
  },
  "language_info": {
   "codemirror_mode": {
    "name": "ipython",
    "version": 3
   },
   "file_extension": ".py",
   "mimetype": "text/x-python",
   "name": "python",
   "nbconvert_exporter": "python",
   "pygments_lexer": "ipython3",
   "version": "3.10.12"
  }
 },
 "nbformat": 4,
 "nbformat_minor": 5
}
