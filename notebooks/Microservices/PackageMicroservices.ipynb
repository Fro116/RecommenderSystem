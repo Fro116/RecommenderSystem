{
 "cells": [
  {
   "cell_type": "code",
   "execution_count": null,
   "id": "5e5f7dbc-34ed-4677-9fa7-1bf477863c1b",
   "metadata": {},
   "outputs": [],
   "source": [
    "import os\n",
    "import shutil\n",
    "import subprocess\n",
    "import time"
   ]
  },
  {
   "cell_type": "code",
   "execution_count": null,
   "id": "8bd4757d-4382-4ea5-af8d-9b38f967ab38",
   "metadata": {},
   "outputs": [],
   "source": [
    "def copy(folder, dst):\n",
    "    shutil.copytree(folder, f\"{dst}/{folder}\")"
   ]
  },
  {
   "cell_type": "code",
   "execution_count": null,
   "id": "dd1a7165-f5a9-4a75-8f09-6228bfb519b1",
   "metadata": {},
   "outputs": [],
   "source": [
    "os.chdir(\"../..\")"
   ]
  },
  {
   "cell_type": "code",
   "execution_count": null,
   "id": "959697d5-c3ab-4244-9a93-4cc1f5fa7249",
   "metadata": {},
   "outputs": [],
   "source": [
    "base_dir = \"notebooks/Microservices/images\"\n",
    "procs = []"
   ]
  },
  {
   "cell_type": "code",
   "execution_count": null,
   "id": "ab003d08-2660-41ae-bb98-552e9b49697f",
   "metadata": {},
   "outputs": [],
   "source": [
    "def build(app):\n",
    "    name = app.split(\"/\")[-1]\n",
    "    subprocess.run(\n",
    "        [\"docker\", \"build\", \"-q\", \"-t\", f\"rsys/{name}\", f\"{base_dir}/{name}\"]\n",
    "    )"
   ]
  },
  {
   "cell_type": "code",
   "execution_count": null,
   "id": "aee67570-000c-4e1a-a700-b81295657ff5",
   "metadata": {},
   "outputs": [],
   "source": [
    "def run(app, port):\n",
    "    name = app.split(\"/\")[-1]\n",
    "    return subprocess.Popen(\n",
    "        [\n",
    "            \"docker\",\n",
    "            \"run\",\n",
    "            \"--cpus\",\n",
    "            \"1\",\n",
    "            \"-m\",\n",
    "            \"1g\",\n",
    "            \"-p\",\n",
    "            f\"{port}:8080\",\n",
    "            f\"rsys/{name}\",\n",
    "        ]\n",
    "    )"
   ]
  },
  {
   "cell_type": "code",
   "execution_count": null,
   "id": "0d700866-f08e-4496-aa56-35e0f92c6f6d",
   "metadata": {},
   "outputs": [],
   "source": [
    "# fetch\n",
    "app = f\"{base_dir}/fetch_media_lists\"\n",
    "if os.path.exists(app):\n",
    "    shutil.rmtree(app)\n",
    "shutil.copytree(\"notebooks/Microservices/fetch_media_lists\", app)\n",
    "copy(\"notebooks/API/API\", app)\n",
    "copy(\"environment/animeplanet\", app)\n",
    "copy(\"environment/kitsu\", app)\n",
    "copy(\"environment/mal\", app)\n",
    "copy(\"environment/proxies\", app)\n",
    "build(app)\n",
    "procs.append(run(app, 3000))"
   ]
  },
  {
   "cell_type": "code",
   "execution_count": null,
   "id": "b27d733d-6949-48f9-8b56-f0e0f462825d",
   "metadata": {},
   "outputs": [],
   "source": [
    "# compress\n",
    "app = f\"{base_dir}/compress_media_lists\"\n",
    "if os.path.exists(app):\n",
    "    shutil.rmtree(app)\n",
    "shutil.copytree(\"notebooks/Microservices/compress_media_lists\", app)\n",
    "copy(\"notebooks/ImportDatasets\", app)\n",
    "copy(\"notebooks/ProcessData\", app)\n",
    "copy(\"data/processed_data\", app)\n",
    "build(app)\n",
    "procs.append(run(app, 3001))"
   ]
  },
  {
   "cell_type": "code",
   "execution_count": null,
   "id": "1db1564a-ef91-4e1b-8e7d-f2e0274a6204",
   "metadata": {},
   "outputs": [],
   "source": [
    "while True:\n",
    "    time.sleep(3600)"
   ]
  },
  {
   "cell_type": "code",
   "execution_count": null,
   "id": "54c8133c-23b3-4387-8fe5-7fc39e698b93",
   "metadata": {},
   "outputs": [],
   "source": [
    "for p in procs:\n",
    "    p.terminate()\n",
    "for p in procs:\n",
    "    p.wait()"
   ]
  }
 ],
 "metadata": {
  "kernelspec": {
   "display_name": "Python 3 (ipykernel)",
   "language": "python",
   "name": "python3"
  },
  "language_info": {
   "codemirror_mode": {
    "name": "ipython",
    "version": 3
   },
   "file_extension": ".py",
   "mimetype": "text/x-python",
   "name": "python",
   "nbconvert_exporter": "python",
   "pygments_lexer": "ipython3",
   "version": "3.10.12"
  }
 },
 "nbformat": 4,
 "nbformat_minor": 5
}
