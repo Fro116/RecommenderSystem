{
 "cells": [
  {
   "cell_type": "code",
   "execution_count": null,
   "id": "f33ac4bd-eb96-46fa-8c46-500adc72a8b2",
   "metadata": {},
   "outputs": [],
   "source": [
    "import JupyterFormatter\n",
    "JupyterFormatter.enable_autoformat();"
   ]
  },
  {
   "cell_type": "code",
   "execution_count": null,
   "id": "14c9d851-4ff9-4200-b6d8-8eb2846cef38",
   "metadata": {},
   "outputs": [],
   "source": [
    "import HTTP\n",
    "import JSON"
   ]
  },
  {
   "cell_type": "code",
   "execution_count": null,
   "id": "38743b9d-451c-4bf1-8275-cd8db9831155",
   "metadata": {},
   "outputs": [],
   "source": [
    "ALL_MEDIUMS = [\"manga\", \"anime\"];"
   ]
  },
  {
   "cell_type": "code",
   "execution_count": null,
   "id": "49e753b0-ac4e-4132-9985-cb7c47944be1",
   "metadata": {},
   "outputs": [],
   "source": [
    "URLS = Dict(\n",
    "    \"fetch_media_lists\" => \"http://localhost:3000\",\n",
    "    \"compress_media_lists\" => \"http://localhost:3001\",\n",
    "    \"nondirectional\" => \"http://localhost:3002\",\n",
    "    \"transformer_jl\" => \"http://localhost:3003\",\n",
    "    \"transformer_py\" => \"http://localhost:3004\",\n",
    ");"
   ]
  },
  {
   "cell_type": "code",
   "execution_count": null,
   "id": "9c4ca2ff-e2b5-40e2-b24d-fa7dcc296c4b",
   "metadata": {},
   "outputs": [],
   "source": [
    "run(app, path) = HTTP.get(URLS[app] * path)\n",
    "run(app, path, json) =\n",
    "    HTTP.post(URLS[app] * path, [(\"Content-Type\", \"application/json\")], json);"
   ]
  },
  {
   "cell_type": "code",
   "execution_count": null,
   "id": "42da907c-084d-4537-a87c-dece064d1b34",
   "metadata": {},
   "outputs": [],
   "source": [
    "function wake()\n",
    "    Threads.@threads for x in collect(keys(URLS))\n",
    "        run(x, \"/wake\")\n",
    "    end\n",
    "end;"
   ]
  },
  {
   "cell_type": "code",
   "execution_count": null,
   "id": "bc1abd89-ed78-450d-a17b-2f022c0f7822",
   "metadata": {},
   "outputs": [],
   "source": [
    "function get_media_list(username, source)\n",
    "    responses = Dict{Any,Any}(x => nothing for x in ALL_MEDIUMS)\n",
    "    Threads.@threads for medium in ALL_MEDIUMS\n",
    "        r1 = run(\n",
    "            \"fetch_media_lists\",\n",
    "            \"/query?username=$username&source=$source&medium=$medium\",\n",
    "        )\n",
    "        r2 = run(\n",
    "            \"compress_media_lists\",\n",
    "            \"/query?username=$username&source=$source&medium=$medium\",\n",
    "            String(r1.body),\n",
    "        )\n",
    "        responses[medium] = JSON.parse(String(r2.body))\n",
    "    end\n",
    "    JSON.json(responses)\n",
    "end;"
   ]
  },
  {
   "cell_type": "code",
   "execution_count": null,
   "id": "fd158536-848f-4a03-8ce6-5ab6565ad4af",
   "metadata": {},
   "outputs": [],
   "source": [
    "function transformer(data)\n",
    "    r = run(\"transformer_jl\", \"/process\", data)\n",
    "    responses = Dict{Any,Any}(x => nothing for x in ALL_MEDIUMS)\n",
    "    Threads.@threads for m in ALL_MEDIUMS\n",
    "        responses[m] = run(\"transformer_py\", \"/query?medium=$m\", String(copy(r.body)))\n",
    "    end\n",
    "    embeddings = merge([JSON.parse(String(copy(x.body))) for x in values(responses)]...)\n",
    "    run(\n",
    "        \"transformer_jl\",\n",
    "        \"/compute\",\n",
    "        JSON.json(Dict(\"payload\" => JSON.parse(data), \"embeddings\" => embeddings)),\n",
    "    )\n",
    "end;"
   ]
  },
  {
   "cell_type": "code",
   "execution_count": null,
   "id": "675a5cc4-1031-428e-8168-261124bbf89f",
   "metadata": {},
   "outputs": [],
   "source": [
    "function nondirectional(data)\n",
    "    run(\"nondirectional\", \"/query\", data)\n",
    "end;"
   ]
  },
  {
   "cell_type": "code",
   "execution_count": null,
   "id": "0f271cf9-fd1f-4071-b160-c0f35261a437",
   "metadata": {},
   "outputs": [],
   "source": [
    "function get_recs(username, source)\n",
    "    @time data = get_media_list(username, source)\n",
    "    @time t = transformer(data)\n",
    "    @time n = nondirectional(data)\n",
    "    t, n\n",
    "end;"
   ]
  },
  {
   "cell_type": "code",
   "execution_count": null,
   "id": "30dbc493-bfb1-4011-9461-946a68b88fda",
   "metadata": {},
   "outputs": [],
   "source": [
    "data = get_recs(\"Fro116\", \"mal\")"
   ]
  }
 ],
 "metadata": {
  "kernelspec": {
   "display_name": "Julia 1.9.4",
   "language": "julia",
   "name": "julia-1.9"
  },
  "language_info": {
   "file_extension": ".jl",
   "mimetype": "application/julia",
   "name": "julia",
   "version": "1.9.4"
  }
 },
 "nbformat": 4,
 "nbformat_minor": 5
}
