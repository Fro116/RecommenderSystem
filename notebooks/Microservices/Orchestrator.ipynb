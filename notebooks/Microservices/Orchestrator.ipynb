{
 "cells": [
  {
   "cell_type": "code",
   "execution_count": null,
   "id": "f33ac4bd-eb96-46fa-8c46-500adc72a8b2",
   "metadata": {},
   "outputs": [],
   "source": [
    "import JupyterFormatter\n",
    "JupyterFormatter.enable_autoformat();"
   ]
  },
  {
   "cell_type": "code",
   "execution_count": null,
   "id": "14c9d851-4ff9-4200-b6d8-8eb2846cef38",
   "metadata": {},
   "outputs": [],
   "source": [
    "import HTTP\n",
    "import JSON"
   ]
  },
  {
   "cell_type": "code",
   "execution_count": null,
   "id": "38743b9d-451c-4bf1-8275-cd8db9831155",
   "metadata": {},
   "outputs": [],
   "source": [
    "ALL_MEDIUMS = [\"manga\", \"anime\"];"
   ]
  },
  {
   "cell_type": "code",
   "execution_count": null,
   "id": "49e753b0-ac4e-4132-9985-cb7c47944be1",
   "metadata": {},
   "outputs": [],
   "source": [
    "URLS = Dict(\n",
    "    \"fetch_media_lists\" => \"http://localhost:3000\",\n",
    "    \"compress_media_lists\" => \"http://localhost:3001\",\n",
    "    \"nondirectional\" => \"http://localhost:3002\",\n",
    "    \"transformer_jl\" => \"http://localhost:3003\",\n",
    "    \"transformer_py\" => \"http://localhost:3004\",\n",
    "    \"bagofwords_jl\" => \"http://localhost:3005\",\n",
    "    \"bagofwords_py\" => \"http://localhost:3006\",\n",
    "    \"ensemble\" => \"http://localhost:3007\",\n",
    ");"
   ]
  },
  {
   "cell_type": "code",
   "execution_count": null,
   "id": "9c4ca2ff-e2b5-40e2-b24d-fa7dcc296c4b",
   "metadata": {},
   "outputs": [],
   "source": [
    "run(app, path) = HTTP.get(URLS[app] * path)\n",
    "run(app, path, json) =\n",
    "    HTTP.post(URLS[app] * path, [(\"Content-Type\", \"application/json\")], json);"
   ]
  },
  {
   "cell_type": "code",
   "execution_count": null,
   "id": "42da907c-084d-4537-a87c-dece064d1b34",
   "metadata": {},
   "outputs": [],
   "source": [
    "function wake()\n",
    "    Threads.@threads for x in collect(keys(URLS))\n",
    "        run(x, \"/wake\")\n",
    "    end\n",
    "end;"
   ]
  },
  {
   "cell_type": "code",
   "execution_count": null,
   "id": "bc1abd89-ed78-450d-a17b-2f022c0f7822",
   "metadata": {},
   "outputs": [],
   "source": [
    "function get_media_list(username, source)\n",
    "    responses = Dict{Any,Any}(x => nothing for x in ALL_MEDIUMS)\n",
    "    Threads.@threads for medium in ALL_MEDIUMS\n",
    "        r1 = run(\n",
    "            \"fetch_media_lists\",\n",
    "            \"/query?username=$username&source=$source&medium=$medium\",\n",
    "        )\n",
    "        r2 = run(\n",
    "            \"compress_media_lists\",\n",
    "            \"/query?username=$username&source=$source&medium=$medium\",\n",
    "            String(r1.body),\n",
    "        )\n",
    "        responses[medium] = JSON.parse(String(r2.body))\n",
    "    end\n",
    "    JSON.json(responses)\n",
    "end;"
   ]
  },
  {
   "cell_type": "code",
   "execution_count": null,
   "id": "fd158536-848f-4a03-8ce6-5ab6565ad4af",
   "metadata": {},
   "outputs": [],
   "source": [
    "function transformer(data)\n",
    "    r_process = run(\"transformer_jl\", \"/process\", data)\n",
    "    input = String(r_process.body)\n",
    "    responses = Dict{Any,Any}(x => nothing for x in ALL_MEDIUMS)\n",
    "    Threads.@threads for m in ALL_MEDIUMS\n",
    "        responses[m] = run(\"transformer_py\", \"/query?medium=$m\", input)\n",
    "    end\n",
    "    embeddings = merge([JSON.parse(String(copy(x.body))) for x in values(responses)]...)\n",
    "    r_compute = run(\n",
    "        \"transformer_jl\",\n",
    "        \"/compute\",\n",
    "        JSON.json(Dict(\"payload\" => JSON.parse(data), \"embeddings\" => embeddings)),\n",
    "    )\n",
    "    JSON.parse(String(r_compute.body))\n",
    "end;"
   ]
  },
  {
   "cell_type": "code",
   "execution_count": null,
   "id": "424a0065-8f1a-4b27-8502-88faa5c5ec02",
   "metadata": {},
   "outputs": [],
   "source": [
    "function bagofwords(data)\n",
    "    r_process = run(\"bagofwords_jl\", \"/process\", data)\n",
    "    process = JSON.parse(String(r_process.body))\n",
    "    alphas = process[\"alpha\"]\n",
    "    input = JSON.json(process[\"features\"])\n",
    "    responses = Dict{Any,Any}(x => nothing for x in ALL_MEDIUMS)\n",
    "    Threads.@threads for m in ALL_MEDIUMS\n",
    "        responses[m] = run(\"bagofwords_py\", \"/query?medium=$m\", input)\n",
    "    end\n",
    "    embeddings = merge([JSON.parse(String(copy(x.body))) for x in values(responses)]...)\n",
    "    r_compute = run(\n",
    "        \"bagofwords_jl\",\n",
    "        \"/compute\",\n",
    "        JSON.json(Dict(\"payload\" => JSON.parse(data), \"embeddings\" => embeddings)),\n",
    "    )\n",
    "    merge(alphas, JSON.parse(String(r_compute.body)))\n",
    "end;"
   ]
  },
  {
   "cell_type": "code",
   "execution_count": null,
   "id": "675a5cc4-1031-428e-8168-261124bbf89f",
   "metadata": {},
   "outputs": [],
   "source": [
    "function nondirectional(data)\n",
    "    r = run(\"nondirectional\", \"/query\", data)\n",
    "    JSON.parse(String(r.body))\n",
    "end;"
   ]
  },
  {
   "cell_type": "code",
   "execution_count": null,
   "id": "0f271cf9-fd1f-4071-b160-c0f35261a437",
   "metadata": {},
   "outputs": [],
   "source": [
    "function get_recs(username, source)\n",
    "    @time data = get_media_list(username, source)\n",
    "    responses =\n",
    "        Dict{Any,Any}(x => nothing for x in [\"bagofwords\", \"transformer\", \"nondirectional\"])\n",
    "    @time @sync begin\n",
    "        Threads.@spawn responses[\"bagofwords\"] = bagofwords(data)\n",
    "        Threads.@spawn responses[\"transformer\"] = transformer(data)\n",
    "        Threads.@spawn responses[\"nondirectional\"] = nondirectional(data)\n",
    "    end\n",
    "    alphas = merge(values(responses)...)\n",
    "    inputs = JSON.json(Dict(\"payload\" => JSON.parse(data), \"alphas\" => alphas))\n",
    "    run(\"ensemble\", \"/query?username=$username&source=$source\", inputs)\n",
    "end;"
   ]
  }
 ],
 "metadata": {
  "kernelspec": {
   "display_name": "Julia 1.9.4",
   "language": "julia",
   "name": "julia-1.9"
  },
  "language_info": {
   "file_extension": ".jl",
   "mimetype": "application/julia",
   "name": "julia",
   "version": "1.9.4"
  }
 },
 "nbformat": 4,
 "nbformat_minor": 5
}
