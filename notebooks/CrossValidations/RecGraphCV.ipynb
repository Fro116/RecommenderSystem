{
 "cells": [
  {
   "cell_type": "markdown",
   "metadata": {},
   "source": [
    "# TODO Document"
   ]
  },
  {
   "cell_type": "code",
   "execution_count": 1,
   "metadata": {},
   "outputs": [],
   "source": [
    "# CHANGE THIS PARAMETER\n",
    "recommendee = \"taapaye\""
   ]
  },
  {
   "cell_type": "code",
   "execution_count": 2,
   "metadata": {},
   "outputs": [],
   "source": [
    "import functools\n",
    "import os\n",
    "import pickle\n",
    "\n",
    "import numpy as np\n",
    "import pandas as pd\n",
    "import scipy.stats as st\n",
    "import statsmodels.formula.api as smf\n",
    "from tqdm import tqdm\n",
    "\n",
    "\n",
    "@functools.wraps(smf.ols)\n",
    "def lm(*args, **kwargs):\n",
    "    return smf.ols(*args, **kwargs).fit()"
   ]
  },
  {
   "cell_type": "code",
   "execution_count": 3,
   "metadata": {},
   "outputs": [],
   "source": [
    "outdir = f\"../../data/recommendations/{recommendee}\"\n",
    "os.chdir(outdir)"
   ]
  },
  {
   "cell_type": "code",
   "execution_count": 4,
   "metadata": {},
   "outputs": [],
   "source": [
    "anime = pd.read_csv(\"../../cleaned_data/anime.csv\")"
   ]
  },
  {
   "cell_type": "code",
   "execution_count": 5,
   "metadata": {
    "tags": []
   },
   "outputs": [],
   "source": [
    "user_df = pickle.load(open(\"user_anime_list.pkl\", \"rb\"))"
   ]
  },
  {
   "cell_type": "code",
   "execution_count": 6,
   "metadata": {},
   "outputs": [],
   "source": [
    "related_df = pickle.load(open(\"related_loocv.pkl\", \"rb\"))"
   ]
  },
  {
   "cell_type": "code",
   "execution_count": 7,
   "metadata": {},
   "outputs": [
    {
     "name": "stderr",
     "output_type": "stream",
     "text": [
      "100%|██████████| 10/10 [00:33<00:00,  3.35s/it]\n"
     ]
    }
   ],
   "source": [
    "records = []\n",
    "for power in tqdm(range(1, 11)):\n",
    "    rec_df = pickle.load(\n",
    "            open(f\"../../processed_data/mal_user_recs_pow_{power}.pkl\", \"rb\")\n",
    "        )\n",
    "    user_recs = (\n",
    "            user_df.set_index(\"anime_id\")\n",
    "            .merge(rec_df, left_on=[\"anime_id\"], right_on=[\"source\"])\n",
    "            .drop(\"source\", axis=1)\n",
    "            .rename({\"target\": \"anime_id\"}, axis=1)\n",
    "        )\n",
    "\n",
    "    pred_scores = user_recs.groupby(\"anime_id\").apply(\n",
    "            lambda x: np.dot(x[\"score\"], x[\"weight\"]) / x[\"weight\"].sum()\n",
    "        )\n",
    "    \n",
    "    signal = pd.DataFrame()\n",
    "    signal[\"related\"] = related_df[\"delta\"]\n",
    "    signal[\"delta\"] = pred_scores\n",
    "    pred_df = user_df.merge(signal, on=\"anime_id\", how=\"left\").fillna(0)\n",
    "    model = lm(\"score ~ delta + related\", pred_df)\n",
    "    rmse = np.sqrt(((pred_df['score'] - model.predict(pred_df)) ** 2).mean())\n",
    "    records.append((power, model.rsquared_adj, rmse))\n",
    "parameters = pd.DataFrame.from_records(records, columns = ['power','rsquared', 'rmse'])"
   ]
  },
  {
   "cell_type": "code",
   "execution_count": 8,
   "metadata": {},
   "outputs": [
    {
     "data": {
      "text/html": [
       "<div>\n",
       "<style scoped>\n",
       "    .dataframe tbody tr th:only-of-type {\n",
       "        vertical-align: middle;\n",
       "    }\n",
       "\n",
       "    .dataframe tbody tr th {\n",
       "        vertical-align: top;\n",
       "    }\n",
       "\n",
       "    .dataframe thead th {\n",
       "        text-align: right;\n",
       "    }\n",
       "</style>\n",
       "<table border=\"1\" class=\"dataframe\">\n",
       "  <thead>\n",
       "    <tr style=\"text-align: right;\">\n",
       "      <th></th>\n",
       "      <th>power</th>\n",
       "      <th>rsquared</th>\n",
       "      <th>rmse</th>\n",
       "    </tr>\n",
       "  </thead>\n",
       "  <tbody>\n",
       "    <tr>\n",
       "      <th>2</th>\n",
       "      <td>3</td>\n",
       "      <td>0.135202</td>\n",
       "      <td>1.219808</td>\n",
       "    </tr>\n",
       "    <tr>\n",
       "      <th>4</th>\n",
       "      <td>5</td>\n",
       "      <td>0.128881</td>\n",
       "      <td>1.224258</td>\n",
       "    </tr>\n",
       "    <tr>\n",
       "      <th>1</th>\n",
       "      <td>2</td>\n",
       "      <td>0.127222</td>\n",
       "      <td>1.225424</td>\n",
       "    </tr>\n",
       "    <tr>\n",
       "      <th>3</th>\n",
       "      <td>4</td>\n",
       "      <td>0.125609</td>\n",
       "      <td>1.226555</td>\n",
       "    </tr>\n",
       "    <tr>\n",
       "      <th>7</th>\n",
       "      <td>8</td>\n",
       "      <td>0.124026</td>\n",
       "      <td>1.229438</td>\n",
       "    </tr>\n",
       "    <tr>\n",
       "      <th>8</th>\n",
       "      <td>9</td>\n",
       "      <td>0.124026</td>\n",
       "      <td>1.229438</td>\n",
       "    </tr>\n",
       "    <tr>\n",
       "      <th>9</th>\n",
       "      <td>10</td>\n",
       "      <td>0.124026</td>\n",
       "      <td>1.229438</td>\n",
       "    </tr>\n",
       "    <tr>\n",
       "      <th>0</th>\n",
       "      <td>1</td>\n",
       "      <td>0.123610</td>\n",
       "      <td>1.227957</td>\n",
       "    </tr>\n",
       "    <tr>\n",
       "      <th>5</th>\n",
       "      <td>6</td>\n",
       "      <td>0.122843</td>\n",
       "      <td>1.228494</td>\n",
       "    </tr>\n",
       "    <tr>\n",
       "      <th>6</th>\n",
       "      <td>7</td>\n",
       "      <td>0.121947</td>\n",
       "      <td>1.229122</td>\n",
       "    </tr>\n",
       "  </tbody>\n",
       "</table>\n",
       "</div>"
      ],
      "text/plain": [
       "   power  rsquared      rmse\n",
       "2      3  0.135202  1.219808\n",
       "4      5  0.128881  1.224258\n",
       "1      2  0.127222  1.225424\n",
       "3      4  0.125609  1.226555\n",
       "7      8  0.124026  1.229438\n",
       "8      9  0.124026  1.229438\n",
       "9     10  0.124026  1.229438\n",
       "0      1  0.123610  1.227957\n",
       "5      6  0.122843  1.228494\n",
       "6      7  0.121947  1.229122"
      ]
     },
     "execution_count": 8,
     "metadata": {},
     "output_type": "execute_result"
    }
   ],
   "source": [
    "parameters.sort_values(by='rsquared', ascending=False)"
   ]
  },
  {
   "cell_type": "code",
   "execution_count": 9,
   "metadata": {},
   "outputs": [],
   "source": [
    "outdir = \"parameters\"\n",
    "if not os.path.exists(outdir):\n",
    "    os.mkdir(outdir)\n",
    "os.chdir(outdir)"
   ]
  },
  {
   "cell_type": "code",
   "execution_count": 10,
   "metadata": {},
   "outputs": [],
   "source": [
    "parameters.to_pickle(\"maluserrec.all.pkl\")"
   ]
  },
  {
   "cell_type": "code",
   "execution_count": 11,
   "metadata": {},
   "outputs": [],
   "source": [
    "parameters.sort_values(by='rsquared', ascending=False).head(1).to_pickle(\"maluserrec.best.pkl\")"
   ]
  },
  {
   "cell_type": "markdown",
   "metadata": {},
   "source": [
    "### "
   ]
  }
 ],
 "metadata": {
  "kernelspec": {
   "display_name": "Python 3",
   "language": "python",
   "name": "python3"
  },
  "language_info": {
   "codemirror_mode": {
    "name": "ipython",
    "version": 3
   },
   "file_extension": ".py",
   "mimetype": "text/x-python",
   "name": "python",
   "nbconvert_exporter": "python",
   "pygments_lexer": "ipython3",
   "version": "3.8.5"
  }
 },
 "nbformat": 4,
 "nbformat_minor": 4
}
