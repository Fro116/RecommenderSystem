{
 "cells": [
  {
   "cell_type": "markdown",
   "metadata": {},
   "source": [
    "# TODO: Document\n",
    "# TODO: Cleanup\n",
    "* Note, this script may take several days to run\n",
    "* TODO: Document the related-signal residualization\n",
    "* TODO: Document that this signal is prone to underfitting"
   ]
  },
  {
   "cell_type": "code",
   "execution_count": 1,
   "metadata": {},
   "outputs": [],
   "source": [
    "# CHANGE THIS PARAMETER\n",
    "username = \"taapaye\""
   ]
  },
  {
   "cell_type": "code",
   "execution_count": 2,
   "metadata": {},
   "outputs": [],
   "source": [
    "import functools\n",
    "import os\n",
    "import pickle\n",
    "import random\n",
    "\n",
    "import numpy as np\n",
    "import pandas as pd\n",
    "import scipy.stats as st\n",
    "import seaborn as sns\n",
    "import statsmodels.formula.api as smf\n",
    "from matplotlib import pyplot as plt\n",
    "from tqdm import tqdm as tqdm\n",
    "\n",
    "\n",
    "@functools.wraps(smf.ols)\n",
    "def lm(*args, **kwargs):\n",
    "    return smf.ols(*args, **kwargs).fit()"
   ]
  },
  {
   "cell_type": "code",
   "execution_count": 3,
   "metadata": {},
   "outputs": [],
   "source": [
    "np.random.seed(0)"
   ]
  },
  {
   "cell_type": "code",
   "execution_count": 4,
   "metadata": {},
   "outputs": [],
   "source": [
    "os.chdir(f\"../../data/recommendations/{username}\")"
   ]
  },
  {
   "cell_type": "code",
   "execution_count": 5,
   "metadata": {},
   "outputs": [],
   "source": [
    "filtered_df = pickle.load(open(\"../../processed_data/user_anime_lists.pkl\", \"rb\"))\n",
    "user_df = pickle.load(open(\"user_anime_list.pkl\", \"rb\"))\n",
    "filtered_df = filtered_df.loc[lambda x: ~x[\"username\"].isin(user_df.username)]\n",
    "filtered_df = pd.concat([filtered_df, user_df], ignore_index=True)\n",
    "filtered_df = filtered_df.set_index(\"username\")"
   ]
  },
  {
   "cell_type": "code",
   "execution_count": 6,
   "metadata": {},
   "outputs": [],
   "source": [
    "related_df = pickle.load(open(\"related_loocv.pkl\", \"rb\"))"
   ]
  },
  {
   "cell_type": "code",
   "execution_count": 7,
   "metadata": {},
   "outputs": [],
   "source": [
    "@functools.lru_cache()\n",
    "def get_item_corrs(nonneg_corrs=False):\n",
    "    corrs = pickle.load(open(\"../../processed_data/item_correlations.pkl\", \"rb\"))\n",
    "    if nonneg_corrs:\n",
    "        corrs[\"similarity\"] = corrs[\"corr\"]\n",
    "    else:\n",
    "        corrs[\"similarity\"] = corrs[\"corr\"].abs()\n",
    "    corrs = corrs.dropna()\n",
    "    corrs = corrs.loc[\n",
    "        lambda x: x.index.get_level_values(\"anime_id_x\")\n",
    "        != x.index.get_level_values(\"anime_id_y\")\n",
    "    ]\n",
    "    corrs = corrs.sort_values(by=\"similarity\")\n",
    "    return corrs\n",
    "\n",
    "\n",
    "def get_item_corrs_wrapper(df, username):\n",
    "    return get_item_corrs()\n",
    "\n",
    "\n",
    "def get_item_scores(df, corrs, username, neighborhood_size):\n",
    "    corrs = corrs.groupby(\"anime_id_x\").tail(neighborhood_size)\n",
    "    score = df.loc[username].merge(\n",
    "        corrs.reset_index(\"anime_id_x\"), left_on=\"anime_id\", right_on=\"anime_id_y\",\n",
    "    )\n",
    "    score = score.drop(\"anime_id\", axis=1).rename({\"anime_id_x\": \"anime_id\"}, axis=1)\n",
    "    return score"
   ]
  },
  {
   "cell_type": "code",
   "execution_count": 8,
   "metadata": {},
   "outputs": [],
   "source": [
    "def get_delta(score):\n",
    "    return score.groupby(\"anime_id\").apply(\n",
    "        lambda x: np.dot(x[\"score\"], x[\"corr\"]) / x[\"corr\"].abs().sum()\n",
    "    )"
   ]
  },
  {
   "cell_type": "code",
   "execution_count": 9,
   "metadata": {},
   "outputs": [],
   "source": [
    "def get_squared_error(df, pred_df, username):\n",
    "    pred_df = pred_df.loc[pred_df.index.intersection(df.loc[username].anime_id)]\n",
    "    pred_df = pred_df.merge(\n",
    "        df.loc[username].set_index(\"anime_id\")[\"score\"], on=\"anime_id\"\n",
    "    )\n",
    "    errors = pred_df[\"pred_score\"] - pred_df[\"score\"]\n",
    "    return np.dot(errors, errors)"
   ]
  },
  {
   "cell_type": "code",
   "execution_count": 22,
   "metadata": {},
   "outputs": [],
   "source": [
    "def compute_accuracy_metrics(\n",
    "    is_df, oos_df, score_fn, corrs_fn, username, neighborhood_sizes,\n",
    "):\n",
    "    corrs = corrs_fn(is_df, username)\n",
    "    metrics = pd.DataFrame()\n",
    "    for neighborhood_size in tqdm(\n",
    "        sorted(neighborhood_sizes), total=len(neighborhood_sizes),\n",
    "    ):\n",
    "        score = score_fn(is_df, corrs, username, neighborhood_size)\n",
    "        pred_df = pd.DataFrame()\n",
    "        pred_df[\"related\"] = related_df['delta']        \n",
    "        pred_df[\"delta\"] = get_delta(score)\n",
    "        pred_df = pred_df.fillna(0)\n",
    "\n",
    "        # train linear model\n",
    "        seen_shows = is_df.loc[username].merge(pred_df, on='anime_id')\n",
    "        model = lm(\"score ~ delta + related\", seen_shows)\n",
    "\n",
    "        # inference\n",
    "        pred_df[\"pred_score\"] = model.predict(pred_df)\n",
    "        return pred_df\n",
    "        is_pred_df = pred_df.loc[lambda x: x.index.isin(is_df.loc[username].anime_id)]\n",
    "        oos_pred_df = pred_df.loc[lambda x: x.index.isin(oos_df.anime_id)]\n",
    "\n",
    "        # compute coverage\n",
    "        is_coverage = len(is_pred_df.loc[lambda x: ~np.isclose(x['delta'], 0)]) / len(is_df.loc[username])\n",
    "        oos_coverage = len(oos_pred_df.loc[lambda x: ~np.isclose(x['delta'], 0)]) / len(oos_df)\n",
    "\n",
    "        # compute rmse\n",
    "        # TODO delete the 'missing' components as nothing should be missing anymore\n",
    "        missing_is = is_df.loc[username].loc[\n",
    "            lambda x: ~x.anime_id.isin(is_pred_df.index)\n",
    "            & ~x.anime_id.isin(oos_df.anime_id)\n",
    "        ]\n",
    "        missing_oos = oos_df.loc[lambda x: ~x.anime_id.isin(oos_pred_df.index)]\n",
    "        is_se = get_squared_error(is_df, is_pred_df, username)\n",
    "        oos_se = get_squared_error(oos_df, oos_pred_df, username)\n",
    "        missing_is_se = np.dot(missing_is[\"score\"], missing_is[\"score\"])\n",
    "        missing_oos_se = np.dot(missing_oos[\"score\"], missing_oos[\"score\"])\n",
    "        is_rmse = np.sqrt((is_se + missing_is_se) / len(is_df.loc[username]))\n",
    "        oos_rmse = np.sqrt((oos_se + missing_oos_se) / len(oos_df))\n",
    "        metrics = metrics.append(\n",
    "            {\n",
    "                \"neighborhood_size\": neighborhood_size,\n",
    "                \"is_rsquared\": model.rsquared_adj,\n",
    "                \"is_rmse\": is_rmse,\n",
    "                \"is_coverage\": is_coverage,\n",
    "                \"oos_rmse\": oos_rmse,\n",
    "                \"oos_coverage\": oos_coverage,\n",
    "            },\n",
    "            ignore_index=True,\n",
    "        )\n",
    "        print({\n",
    "                \"neighborhood_size\": neighborhood_size,\n",
    "                \"is_rsquared\": model.rsquared_adj,\n",
    "                \"is_rmse\": is_rmse,\n",
    "                \"is_coverage\": is_coverage,\n",
    "                \"oos_rmse\": oos_rmse,\n",
    "                \"oos_coverage\": oos_coverage,\n",
    "            },)\n",
    "    return metrics"
   ]
  },
  {
   "cell_type": "code",
   "execution_count": 23,
   "metadata": {},
   "outputs": [
    {
     "name": "stderr",
     "output_type": "stream",
     "text": [
      "  0%|          | 0/1 [00:37<?, ?it/s]\n"
     ]
    }
   ],
   "source": [
    "a = compute_accuracy_metrics(\n",
    "        is_df.copy(),\n",
    "        oos_df.copy(),\n",
    "        get_item_scores,\n",
    "        get_item_corrs_wrapper,\n",
    "        username,\n",
    "        [16],\n",
    "    )"
   ]
  },
  {
   "cell_type": "code",
   "execution_count": 24,
   "metadata": {},
   "outputs": [
    {
     "name": "stderr",
     "output_type": "stream",
     "text": [
      "  0%|          | 0/1 [01:05<?, ?it/s]\n"
     ]
    }
   ],
   "source": [
    "b = compute_accuracy_metrics(\n",
    "        is_df.copy(),\n",
    "        oos_df.copy(),\n",
    "        get_item_scores,\n",
    "        get_item_corrs_wrapper,\n",
    "        username,\n",
    "        [1448],\n",
    "    )"
   ]
  },
  {
   "cell_type": "code",
   "execution_count": 27,
   "metadata": {},
   "outputs": [],
   "source": [
    "a['delta2'] = b['delta']"
   ]
  },
  {
   "cell_type": "code",
   "execution_count": 31,
   "metadata": {},
   "outputs": [],
   "source": [
    "        seen_shows = is_df.loc[username].merge(a, on='anime_id')"
   ]
  },
  {
   "cell_type": "code",
   "execution_count": 32,
   "metadata": {},
   "outputs": [
    {
     "data": {
      "text/html": [
       "<div>\n",
       "<style scoped>\n",
       "    .dataframe tbody tr th:only-of-type {\n",
       "        vertical-align: middle;\n",
       "    }\n",
       "\n",
       "    .dataframe tbody tr th {\n",
       "        vertical-align: top;\n",
       "    }\n",
       "\n",
       "    .dataframe thead th {\n",
       "        text-align: right;\n",
       "    }\n",
       "</style>\n",
       "<table border=\"1\" class=\"dataframe\">\n",
       "  <thead>\n",
       "    <tr style=\"text-align: right;\">\n",
       "      <th></th>\n",
       "      <th>anime_id</th>\n",
       "      <th>score</th>\n",
       "      <th>score_var</th>\n",
       "      <th>related</th>\n",
       "      <th>delta</th>\n",
       "      <th>pred_score</th>\n",
       "      <th>delta2</th>\n",
       "    </tr>\n",
       "  </thead>\n",
       "  <tbody>\n",
       "    <tr>\n",
       "      <th>0</th>\n",
       "      <td>1</td>\n",
       "      <td>0.069825</td>\n",
       "      <td>1.812764</td>\n",
       "      <td>0.000000</td>\n",
       "      <td>-1.150561</td>\n",
       "      <td>-0.766137</td>\n",
       "      <td>-0.223729</td>\n",
       "    </tr>\n",
       "    <tr>\n",
       "      <th>1</th>\n",
       "      <td>20</td>\n",
       "      <td>-0.775816</td>\n",
       "      <td>2.073848</td>\n",
       "      <td>-1.215833</td>\n",
       "      <td>-0.670547</td>\n",
       "      <td>-0.814251</td>\n",
       "      <td>-0.211051</td>\n",
       "    </tr>\n",
       "    <tr>\n",
       "      <th>2</th>\n",
       "      <td>21</td>\n",
       "      <td>-1.705130</td>\n",
       "      <td>2.224881</td>\n",
       "      <td>-1.424083</td>\n",
       "      <td>-0.681599</td>\n",
       "      <td>-0.875114</td>\n",
       "      <td>-0.384288</td>\n",
       "    </tr>\n",
       "    <tr>\n",
       "      <th>3</th>\n",
       "      <td>30</td>\n",
       "      <td>0.531055</td>\n",
       "      <td>2.199041</td>\n",
       "      <td>0.398171</td>\n",
       "      <td>-0.353887</td>\n",
       "      <td>-0.212205</td>\n",
       "      <td>-0.170843</td>\n",
       "    </tr>\n",
       "    <tr>\n",
       "      <th>4</th>\n",
       "      <td>32</td>\n",
       "      <td>0.398171</td>\n",
       "      <td>2.255429</td>\n",
       "      <td>0.531055</td>\n",
       "      <td>-0.446718</td>\n",
       "      <td>-0.229722</td>\n",
       "      <td>-0.153287</td>\n",
       "    </tr>\n",
       "    <tr>\n",
       "      <th>...</th>\n",
       "      <td>...</td>\n",
       "      <td>...</td>\n",
       "      <td>...</td>\n",
       "      <td>...</td>\n",
       "      <td>...</td>\n",
       "      <td>...</td>\n",
       "      <td>...</td>\n",
       "    </tr>\n",
       "    <tr>\n",
       "      <th>344</th>\n",
       "      <td>36474</td>\n",
       "      <td>-4.250706</td>\n",
       "      <td>1.425790</td>\n",
       "      <td>-0.610481</td>\n",
       "      <td>0.000000</td>\n",
       "      <td>-0.277132</td>\n",
       "      <td>0.000000</td>\n",
       "    </tr>\n",
       "    <tr>\n",
       "      <th>345</th>\n",
       "      <td>36754</td>\n",
       "      <td>-2.131545</td>\n",
       "      <td>1.600437</td>\n",
       "      <td>0.000000</td>\n",
       "      <td>0.000000</td>\n",
       "      <td>-0.116990</td>\n",
       "      <td>-0.516631</td>\n",
       "    </tr>\n",
       "    <tr>\n",
       "      <th>346</th>\n",
       "      <td>36838</td>\n",
       "      <td>-0.004645</td>\n",
       "      <td>1.843033</td>\n",
       "      <td>0.005536</td>\n",
       "      <td>-0.063714</td>\n",
       "      <td>-0.151486</td>\n",
       "      <td>-0.468347</td>\n",
       "    </tr>\n",
       "    <tr>\n",
       "      <th>347</th>\n",
       "      <td>36949</td>\n",
       "      <td>-2.622063</td>\n",
       "      <td>1.474053</td>\n",
       "      <td>0.044124</td>\n",
       "      <td>-0.785637</td>\n",
       "      <td>-0.548672</td>\n",
       "      <td>-0.600962</td>\n",
       "    </tr>\n",
       "    <tr>\n",
       "      <th>348</th>\n",
       "      <td>37188</td>\n",
       "      <td>1.502995</td>\n",
       "      <td>1.574557</td>\n",
       "      <td>0.000000</td>\n",
       "      <td>0.000000</td>\n",
       "      <td>-0.116990</td>\n",
       "      <td>0.247785</td>\n",
       "    </tr>\n",
       "  </tbody>\n",
       "</table>\n",
       "<p>349 rows × 7 columns</p>\n",
       "</div>"
      ],
      "text/plain": [
       "     anime_id     score  score_var   related     delta  pred_score    delta2\n",
       "0           1  0.069825   1.812764  0.000000 -1.150561   -0.766137 -0.223729\n",
       "1          20 -0.775816   2.073848 -1.215833 -0.670547   -0.814251 -0.211051\n",
       "2          21 -1.705130   2.224881 -1.424083 -0.681599   -0.875114 -0.384288\n",
       "3          30  0.531055   2.199041  0.398171 -0.353887   -0.212205 -0.170843\n",
       "4          32  0.398171   2.255429  0.531055 -0.446718   -0.229722 -0.153287\n",
       "..        ...       ...        ...       ...       ...         ...       ...\n",
       "344     36474 -4.250706   1.425790 -0.610481  0.000000   -0.277132  0.000000\n",
       "345     36754 -2.131545   1.600437  0.000000  0.000000   -0.116990 -0.516631\n",
       "346     36838 -0.004645   1.843033  0.005536 -0.063714   -0.151486 -0.468347\n",
       "347     36949 -2.622063   1.474053  0.044124 -0.785637   -0.548672 -0.600962\n",
       "348     37188  1.502995   1.574557  0.000000  0.000000   -0.116990  0.247785\n",
       "\n",
       "[349 rows x 7 columns]"
      ]
     },
     "execution_count": 32,
     "metadata": {},
     "output_type": "execute_result"
    }
   ],
   "source": [
    "seen_shows"
   ]
  },
  {
   "cell_type": "code",
   "execution_count": 60,
   "metadata": {},
   "outputs": [
    {
     "name": "stdout",
     "output_type": "stream",
     "text": [
      "                            OLS Regression Results                            \n",
      "==============================================================================\n",
      "Dep. Variable:                  score   R-squared:                       0.199\n",
      "Model:                            OLS   Adj. R-squared:                  0.192\n",
      "Method:                 Least Squares   F-statistic:                     28.64\n",
      "Date:                Sat, 29 May 2021   Prob (F-statistic):           1.47e-16\n",
      "Time:                        02:58:09   Log-Likelihood:                -552.10\n",
      "No. Observations:                 349   AIC:                             1112.\n",
      "Df Residuals:                     345   BIC:                             1128.\n",
      "Df Model:                           3                                         \n",
      "Covariance Type:            nonrobust                                         \n",
      "==============================================================================\n",
      "                 coef    std err          t      P>|t|      [0.025      0.975]\n",
      "------------------------------------------------------------------------------\n",
      "Intercept      0.0671      0.103      0.651      0.515      -0.136       0.270\n",
      "delta          0.4341      0.124      3.503      0.001       0.190       0.678\n",
      "related        0.1838      0.109      1.684      0.093      -0.031       0.398\n",
      "delta2         0.7823      0.321      2.438      0.015       0.151       1.413\n",
      "==============================================================================\n",
      "Omnibus:                       25.354   Durbin-Watson:                   1.993\n",
      "Prob(Omnibus):                  0.000   Jarque-Bera (JB):               30.462\n",
      "Skew:                          -0.606   Prob(JB):                     2.43e-07\n",
      "Kurtosis:                       3.791   Cond. No.                         6.51\n",
      "==============================================================================\n",
      "\n",
      "Notes:\n",
      "[1] Standard Errors assume that the covariance matrix of the errors is correctly specified.\n"
     ]
    }
   ],
   "source": [
    "print(lm('score~delta + related + delta2', seen_shows).summary())"
   ]
  },
  {
   "cell_type": "code",
   "execution_count": 48,
   "metadata": {},
   "outputs": [],
   "source": [
    "model = lm('score~delta ', seen_shows)"
   ]
  },
  {
   "cell_type": "code",
   "execution_count": 53,
   "metadata": {},
   "outputs": [
    {
     "data": {
      "text/html": [
       "<div>\n",
       "<style scoped>\n",
       "    .dataframe tbody tr th:only-of-type {\n",
       "        vertical-align: middle;\n",
       "    }\n",
       "\n",
       "    .dataframe tbody tr th {\n",
       "        vertical-align: top;\n",
       "    }\n",
       "\n",
       "    .dataframe thead th {\n",
       "        text-align: right;\n",
       "    }\n",
       "</style>\n",
       "<table border=\"1\" class=\"dataframe\">\n",
       "  <thead>\n",
       "    <tr style=\"text-align: right;\">\n",
       "      <th></th>\n",
       "      <th>anime_id</th>\n",
       "      <th>score</th>\n",
       "      <th>score_var</th>\n",
       "    </tr>\n",
       "    <tr>\n",
       "      <th>username</th>\n",
       "      <th></th>\n",
       "      <th></th>\n",
       "      <th></th>\n",
       "    </tr>\n",
       "  </thead>\n",
       "  <tbody>\n",
       "    <tr>\n",
       "      <th>karthiga</th>\n",
       "      <td>21</td>\n",
       "      <td>0.605479</td>\n",
       "      <td>2.031881</td>\n",
       "    </tr>\n",
       "    <tr>\n",
       "      <th>karthiga</th>\n",
       "      <td>59</td>\n",
       "      <td>-0.474160</td>\n",
       "      <td>1.593917</td>\n",
       "    </tr>\n",
       "    <tr>\n",
       "      <th>karthiga</th>\n",
       "      <td>74</td>\n",
       "      <td>-0.750239</td>\n",
       "      <td>1.456926</td>\n",
       "    </tr>\n",
       "    <tr>\n",
       "      <th>karthiga</th>\n",
       "      <td>120</td>\n",
       "      <td>-0.743815</td>\n",
       "      <td>1.658394</td>\n",
       "    </tr>\n",
       "    <tr>\n",
       "      <th>karthiga</th>\n",
       "      <td>178</td>\n",
       "      <td>-0.206618</td>\n",
       "      <td>1.556040</td>\n",
       "    </tr>\n",
       "    <tr>\n",
       "      <th>...</th>\n",
       "      <td>...</td>\n",
       "      <td>...</td>\n",
       "      <td>...</td>\n",
       "    </tr>\n",
       "    <tr>\n",
       "      <th>taapaye</th>\n",
       "      <td>36474</td>\n",
       "      <td>-4.250706</td>\n",
       "      <td>1.425790</td>\n",
       "    </tr>\n",
       "    <tr>\n",
       "      <th>taapaye</th>\n",
       "      <td>36754</td>\n",
       "      <td>-2.131545</td>\n",
       "      <td>1.600437</td>\n",
       "    </tr>\n",
       "    <tr>\n",
       "      <th>taapaye</th>\n",
       "      <td>36838</td>\n",
       "      <td>-0.004645</td>\n",
       "      <td>1.843033</td>\n",
       "    </tr>\n",
       "    <tr>\n",
       "      <th>taapaye</th>\n",
       "      <td>36949</td>\n",
       "      <td>-2.622063</td>\n",
       "      <td>1.474053</td>\n",
       "    </tr>\n",
       "    <tr>\n",
       "      <th>taapaye</th>\n",
       "      <td>37188</td>\n",
       "      <td>1.502995</td>\n",
       "      <td>1.574557</td>\n",
       "    </tr>\n",
       "  </tbody>\n",
       "</table>\n",
       "<p>46351455 rows × 3 columns</p>\n",
       "</div>"
      ],
      "text/plain": [
       "          anime_id     score  score_var\n",
       "username                               \n",
       "karthiga        21  0.605479   2.031881\n",
       "karthiga        59 -0.474160   1.593917\n",
       "karthiga        74 -0.750239   1.456926\n",
       "karthiga       120 -0.743815   1.658394\n",
       "karthiga       178 -0.206618   1.556040\n",
       "...            ...       ...        ...\n",
       "taapaye      36474 -4.250706   1.425790\n",
       "taapaye      36754 -2.131545   1.600437\n",
       "taapaye      36838 -0.004645   1.843033\n",
       "taapaye      36949 -2.622063   1.474053\n",
       "taapaye      37188  1.502995   1.574557\n",
       "\n",
       "[46351455 rows x 3 columns]"
      ]
     },
     "execution_count": 53,
     "metadata": {},
     "output_type": "execute_result"
    }
   ],
   "source": [
    "is_df"
   ]
  },
  {
   "cell_type": "code",
   "execution_count": 54,
   "metadata": {},
   "outputs": [
    {
     "ename": "KeyError",
     "evalue": "30240",
     "output_type": "error",
     "traceback": [
      "\u001b[0;31m---------------------------------------------------------------------------\u001b[0m",
      "\u001b[0;31mKeyError\u001b[0m                                  Traceback (most recent call last)",
      "\u001b[0;32m~/opt/anaconda3/lib/python3.8/site-packages/pandas/core/indexes/base.py\u001b[0m in \u001b[0;36mget_loc\u001b[0;34m(self, key, method, tolerance)\u001b[0m\n\u001b[1;32m   3079\u001b[0m             \u001b[0;32mtry\u001b[0m\u001b[0;34m:\u001b[0m\u001b[0;34m\u001b[0m\u001b[0;34m\u001b[0m\u001b[0m\n\u001b[0;32m-> 3080\u001b[0;31m                 \u001b[0;32mreturn\u001b[0m \u001b[0mself\u001b[0m\u001b[0;34m.\u001b[0m\u001b[0m_engine\u001b[0m\u001b[0;34m.\u001b[0m\u001b[0mget_loc\u001b[0m\u001b[0;34m(\u001b[0m\u001b[0mcasted_key\u001b[0m\u001b[0;34m)\u001b[0m\u001b[0;34m\u001b[0m\u001b[0;34m\u001b[0m\u001b[0m\n\u001b[0m\u001b[1;32m   3081\u001b[0m             \u001b[0;32mexcept\u001b[0m \u001b[0mKeyError\u001b[0m \u001b[0;32mas\u001b[0m \u001b[0merr\u001b[0m\u001b[0;34m:\u001b[0m\u001b[0;34m\u001b[0m\u001b[0;34m\u001b[0m\u001b[0m\n",
      "\u001b[0;32mpandas/_libs/index.pyx\u001b[0m in \u001b[0;36mpandas._libs.index.IndexEngine.get_loc\u001b[0;34m()\u001b[0m\n",
      "\u001b[0;32mpandas/_libs/index.pyx\u001b[0m in \u001b[0;36mpandas._libs.index.IndexEngine.get_loc\u001b[0;34m()\u001b[0m\n",
      "\u001b[0;32mpandas/_libs/hashtable_class_helper.pxi\u001b[0m in \u001b[0;36mpandas._libs.hashtable.Int64HashTable.get_item\u001b[0;34m()\u001b[0m\n",
      "\u001b[0;32mpandas/_libs/hashtable_class_helper.pxi\u001b[0m in \u001b[0;36mpandas._libs.hashtable.Int64HashTable.get_item\u001b[0;34m()\u001b[0m\n",
      "\u001b[0;31mKeyError\u001b[0m: 30240",
      "\nThe above exception was the direct cause of the following exception:\n",
      "\u001b[0;31mKeyError\u001b[0m                                  Traceback (most recent call last)",
      "\u001b[0;32m<ipython-input-54-c6471418d62f>\u001b[0m in \u001b[0;36m<module>\u001b[0;34m\u001b[0m\n\u001b[0;32m----> 1\u001b[0;31m \u001b[0mmodel\u001b[0m\u001b[0;34m.\u001b[0m\u001b[0mpredict\u001b[0m\u001b[0;34m(\u001b[0m\u001b[0ma\u001b[0m\u001b[0;34m)\u001b[0m\u001b[0;34m.\u001b[0m\u001b[0mloc\u001b[0m\u001b[0;34m[\u001b[0m\u001b[0;36m30240\u001b[0m\u001b[0;34m]\u001b[0m\u001b[0;34m\u001b[0m\u001b[0;34m\u001b[0m\u001b[0m\n\u001b[0m",
      "\u001b[0;32m~/opt/anaconda3/lib/python3.8/site-packages/pandas/core/indexing.py\u001b[0m in \u001b[0;36m__getitem__\u001b[0;34m(self, key)\u001b[0m\n\u001b[1;32m    893\u001b[0m \u001b[0;34m\u001b[0m\u001b[0m\n\u001b[1;32m    894\u001b[0m             \u001b[0mmaybe_callable\u001b[0m \u001b[0;34m=\u001b[0m \u001b[0mcom\u001b[0m\u001b[0;34m.\u001b[0m\u001b[0mapply_if_callable\u001b[0m\u001b[0;34m(\u001b[0m\u001b[0mkey\u001b[0m\u001b[0;34m,\u001b[0m \u001b[0mself\u001b[0m\u001b[0;34m.\u001b[0m\u001b[0mobj\u001b[0m\u001b[0;34m)\u001b[0m\u001b[0;34m\u001b[0m\u001b[0;34m\u001b[0m\u001b[0m\n\u001b[0;32m--> 895\u001b[0;31m             \u001b[0;32mreturn\u001b[0m \u001b[0mself\u001b[0m\u001b[0;34m.\u001b[0m\u001b[0m_getitem_axis\u001b[0m\u001b[0;34m(\u001b[0m\u001b[0mmaybe_callable\u001b[0m\u001b[0;34m,\u001b[0m \u001b[0maxis\u001b[0m\u001b[0;34m=\u001b[0m\u001b[0maxis\u001b[0m\u001b[0;34m)\u001b[0m\u001b[0;34m\u001b[0m\u001b[0;34m\u001b[0m\u001b[0m\n\u001b[0m\u001b[1;32m    896\u001b[0m \u001b[0;34m\u001b[0m\u001b[0m\n\u001b[1;32m    897\u001b[0m     \u001b[0;32mdef\u001b[0m \u001b[0m_is_scalar_access\u001b[0m\u001b[0;34m(\u001b[0m\u001b[0mself\u001b[0m\u001b[0;34m,\u001b[0m \u001b[0mkey\u001b[0m\u001b[0;34m:\u001b[0m \u001b[0mTuple\u001b[0m\u001b[0;34m)\u001b[0m\u001b[0;34m:\u001b[0m\u001b[0;34m\u001b[0m\u001b[0;34m\u001b[0m\u001b[0m\n",
      "\u001b[0;32m~/opt/anaconda3/lib/python3.8/site-packages/pandas/core/indexing.py\u001b[0m in \u001b[0;36m_getitem_axis\u001b[0;34m(self, key, axis)\u001b[0m\n\u001b[1;32m   1122\u001b[0m         \u001b[0;31m# fall thru to straight lookup\u001b[0m\u001b[0;34m\u001b[0m\u001b[0;34m\u001b[0m\u001b[0;34m\u001b[0m\u001b[0m\n\u001b[1;32m   1123\u001b[0m         \u001b[0mself\u001b[0m\u001b[0;34m.\u001b[0m\u001b[0m_validate_key\u001b[0m\u001b[0;34m(\u001b[0m\u001b[0mkey\u001b[0m\u001b[0;34m,\u001b[0m \u001b[0maxis\u001b[0m\u001b[0;34m)\u001b[0m\u001b[0;34m\u001b[0m\u001b[0;34m\u001b[0m\u001b[0m\n\u001b[0;32m-> 1124\u001b[0;31m         \u001b[0;32mreturn\u001b[0m \u001b[0mself\u001b[0m\u001b[0;34m.\u001b[0m\u001b[0m_get_label\u001b[0m\u001b[0;34m(\u001b[0m\u001b[0mkey\u001b[0m\u001b[0;34m,\u001b[0m \u001b[0maxis\u001b[0m\u001b[0;34m=\u001b[0m\u001b[0maxis\u001b[0m\u001b[0;34m)\u001b[0m\u001b[0;34m\u001b[0m\u001b[0;34m\u001b[0m\u001b[0m\n\u001b[0m\u001b[1;32m   1125\u001b[0m \u001b[0;34m\u001b[0m\u001b[0m\n\u001b[1;32m   1126\u001b[0m     \u001b[0;32mdef\u001b[0m \u001b[0m_get_slice_axis\u001b[0m\u001b[0;34m(\u001b[0m\u001b[0mself\u001b[0m\u001b[0;34m,\u001b[0m \u001b[0mslice_obj\u001b[0m\u001b[0;34m:\u001b[0m \u001b[0mslice\u001b[0m\u001b[0;34m,\u001b[0m \u001b[0maxis\u001b[0m\u001b[0;34m:\u001b[0m \u001b[0mint\u001b[0m\u001b[0;34m)\u001b[0m\u001b[0;34m:\u001b[0m\u001b[0;34m\u001b[0m\u001b[0;34m\u001b[0m\u001b[0m\n",
      "\u001b[0;32m~/opt/anaconda3/lib/python3.8/site-packages/pandas/core/indexing.py\u001b[0m in \u001b[0;36m_get_label\u001b[0;34m(self, label, axis)\u001b[0m\n\u001b[1;32m   1071\u001b[0m     \u001b[0;32mdef\u001b[0m \u001b[0m_get_label\u001b[0m\u001b[0;34m(\u001b[0m\u001b[0mself\u001b[0m\u001b[0;34m,\u001b[0m \u001b[0mlabel\u001b[0m\u001b[0;34m,\u001b[0m \u001b[0maxis\u001b[0m\u001b[0;34m:\u001b[0m \u001b[0mint\u001b[0m\u001b[0;34m)\u001b[0m\u001b[0;34m:\u001b[0m\u001b[0;34m\u001b[0m\u001b[0;34m\u001b[0m\u001b[0m\n\u001b[1;32m   1072\u001b[0m         \u001b[0;31m# GH#5667 this will fail if the label is not present in the axis.\u001b[0m\u001b[0;34m\u001b[0m\u001b[0;34m\u001b[0m\u001b[0;34m\u001b[0m\u001b[0m\n\u001b[0;32m-> 1073\u001b[0;31m         \u001b[0;32mreturn\u001b[0m \u001b[0mself\u001b[0m\u001b[0;34m.\u001b[0m\u001b[0mobj\u001b[0m\u001b[0;34m.\u001b[0m\u001b[0mxs\u001b[0m\u001b[0;34m(\u001b[0m\u001b[0mlabel\u001b[0m\u001b[0;34m,\u001b[0m \u001b[0maxis\u001b[0m\u001b[0;34m=\u001b[0m\u001b[0maxis\u001b[0m\u001b[0;34m)\u001b[0m\u001b[0;34m\u001b[0m\u001b[0;34m\u001b[0m\u001b[0m\n\u001b[0m\u001b[1;32m   1074\u001b[0m \u001b[0;34m\u001b[0m\u001b[0m\n\u001b[1;32m   1075\u001b[0m     \u001b[0;32mdef\u001b[0m \u001b[0m_handle_lowerdim_multi_index_axis0\u001b[0m\u001b[0;34m(\u001b[0m\u001b[0mself\u001b[0m\u001b[0;34m,\u001b[0m \u001b[0mtup\u001b[0m\u001b[0;34m:\u001b[0m \u001b[0mTuple\u001b[0m\u001b[0;34m)\u001b[0m\u001b[0;34m:\u001b[0m\u001b[0;34m\u001b[0m\u001b[0;34m\u001b[0m\u001b[0m\n",
      "\u001b[0;32m~/opt/anaconda3/lib/python3.8/site-packages/pandas/core/generic.py\u001b[0m in \u001b[0;36mxs\u001b[0;34m(self, key, axis, level, drop_level)\u001b[0m\n\u001b[1;32m   3737\u001b[0m                 \u001b[0;32mraise\u001b[0m \u001b[0mTypeError\u001b[0m\u001b[0;34m(\u001b[0m\u001b[0;34mf\"Expected label or tuple of labels, got {key}\"\u001b[0m\u001b[0;34m)\u001b[0m \u001b[0;32mfrom\u001b[0m \u001b[0me\u001b[0m\u001b[0;34m\u001b[0m\u001b[0;34m\u001b[0m\u001b[0m\n\u001b[1;32m   3738\u001b[0m         \u001b[0;32melse\u001b[0m\u001b[0;34m:\u001b[0m\u001b[0;34m\u001b[0m\u001b[0;34m\u001b[0m\u001b[0m\n\u001b[0;32m-> 3739\u001b[0;31m             \u001b[0mloc\u001b[0m \u001b[0;34m=\u001b[0m \u001b[0mindex\u001b[0m\u001b[0;34m.\u001b[0m\u001b[0mget_loc\u001b[0m\u001b[0;34m(\u001b[0m\u001b[0mkey\u001b[0m\u001b[0;34m)\u001b[0m\u001b[0;34m\u001b[0m\u001b[0;34m\u001b[0m\u001b[0m\n\u001b[0m\u001b[1;32m   3740\u001b[0m \u001b[0;34m\u001b[0m\u001b[0m\n\u001b[1;32m   3741\u001b[0m             \u001b[0;32mif\u001b[0m \u001b[0misinstance\u001b[0m\u001b[0;34m(\u001b[0m\u001b[0mloc\u001b[0m\u001b[0;34m,\u001b[0m \u001b[0mnp\u001b[0m\u001b[0;34m.\u001b[0m\u001b[0mndarray\u001b[0m\u001b[0;34m)\u001b[0m\u001b[0;34m:\u001b[0m\u001b[0;34m\u001b[0m\u001b[0;34m\u001b[0m\u001b[0m\n",
      "\u001b[0;32m~/opt/anaconda3/lib/python3.8/site-packages/pandas/core/indexes/base.py\u001b[0m in \u001b[0;36mget_loc\u001b[0;34m(self, key, method, tolerance)\u001b[0m\n\u001b[1;32m   3080\u001b[0m                 \u001b[0;32mreturn\u001b[0m \u001b[0mself\u001b[0m\u001b[0;34m.\u001b[0m\u001b[0m_engine\u001b[0m\u001b[0;34m.\u001b[0m\u001b[0mget_loc\u001b[0m\u001b[0;34m(\u001b[0m\u001b[0mcasted_key\u001b[0m\u001b[0;34m)\u001b[0m\u001b[0;34m\u001b[0m\u001b[0;34m\u001b[0m\u001b[0m\n\u001b[1;32m   3081\u001b[0m             \u001b[0;32mexcept\u001b[0m \u001b[0mKeyError\u001b[0m \u001b[0;32mas\u001b[0m \u001b[0merr\u001b[0m\u001b[0;34m:\u001b[0m\u001b[0;34m\u001b[0m\u001b[0;34m\u001b[0m\u001b[0m\n\u001b[0;32m-> 3082\u001b[0;31m                 \u001b[0;32mraise\u001b[0m \u001b[0mKeyError\u001b[0m\u001b[0;34m(\u001b[0m\u001b[0mkey\u001b[0m\u001b[0;34m)\u001b[0m \u001b[0;32mfrom\u001b[0m \u001b[0merr\u001b[0m\u001b[0;34m\u001b[0m\u001b[0;34m\u001b[0m\u001b[0m\n\u001b[0m\u001b[1;32m   3083\u001b[0m \u001b[0;34m\u001b[0m\u001b[0m\n\u001b[1;32m   3084\u001b[0m         \u001b[0;32mif\u001b[0m \u001b[0mtolerance\u001b[0m \u001b[0;32mis\u001b[0m \u001b[0;32mnot\u001b[0m \u001b[0;32mNone\u001b[0m\u001b[0;34m:\u001b[0m\u001b[0;34m\u001b[0m\u001b[0;34m\u001b[0m\u001b[0m\n",
      "\u001b[0;31mKeyError\u001b[0m: 30240"
     ]
    }
   ],
   "source": [
    "model.predict(a).loc[30240]"
   ]
  },
  {
   "cell_type": "code",
   "execution_count": 55,
   "metadata": {},
   "outputs": [
    {
     "data": {
      "text/html": [
       "<div>\n",
       "<style scoped>\n",
       "    .dataframe tbody tr th:only-of-type {\n",
       "        vertical-align: middle;\n",
       "    }\n",
       "\n",
       "    .dataframe tbody tr th {\n",
       "        vertical-align: top;\n",
       "    }\n",
       "\n",
       "    .dataframe thead th {\n",
       "        text-align: right;\n",
       "    }\n",
       "</style>\n",
       "<table border=\"1\" class=\"dataframe\">\n",
       "  <thead>\n",
       "    <tr style=\"text-align: right;\">\n",
       "      <th></th>\n",
       "      <th>related</th>\n",
       "      <th>delta</th>\n",
       "      <th>pred_score</th>\n",
       "      <th>delta2</th>\n",
       "    </tr>\n",
       "    <tr>\n",
       "      <th>anime_id</th>\n",
       "      <th></th>\n",
       "      <th></th>\n",
       "      <th></th>\n",
       "      <th></th>\n",
       "    </tr>\n",
       "  </thead>\n",
       "  <tbody>\n",
       "    <tr>\n",
       "      <th>1</th>\n",
       "      <td>0.000000</td>\n",
       "      <td>-1.150561</td>\n",
       "      <td>-0.766137</td>\n",
       "      <td>-0.223729</td>\n",
       "    </tr>\n",
       "    <tr>\n",
       "      <th>20</th>\n",
       "      <td>-1.215833</td>\n",
       "      <td>-0.670547</td>\n",
       "      <td>-0.814251</td>\n",
       "      <td>-0.211051</td>\n",
       "    </tr>\n",
       "    <tr>\n",
       "      <th>21</th>\n",
       "      <td>-1.424083</td>\n",
       "      <td>-0.681599</td>\n",
       "      <td>-0.875114</td>\n",
       "      <td>-0.384288</td>\n",
       "    </tr>\n",
       "    <tr>\n",
       "      <th>30</th>\n",
       "      <td>0.398171</td>\n",
       "      <td>-0.353887</td>\n",
       "      <td>-0.212205</td>\n",
       "      <td>-0.170843</td>\n",
       "    </tr>\n",
       "    <tr>\n",
       "      <th>32</th>\n",
       "      <td>0.531055</td>\n",
       "      <td>-0.446718</td>\n",
       "      <td>-0.229722</td>\n",
       "      <td>-0.153287</td>\n",
       "    </tr>\n",
       "    <tr>\n",
       "      <th>...</th>\n",
       "      <td>...</td>\n",
       "      <td>...</td>\n",
       "      <td>...</td>\n",
       "      <td>...</td>\n",
       "    </tr>\n",
       "    <tr>\n",
       "      <th>36474</th>\n",
       "      <td>-0.610481</td>\n",
       "      <td>0.000000</td>\n",
       "      <td>-0.277132</td>\n",
       "      <td>0.000000</td>\n",
       "    </tr>\n",
       "    <tr>\n",
       "      <th>36754</th>\n",
       "      <td>0.000000</td>\n",
       "      <td>0.000000</td>\n",
       "      <td>-0.116990</td>\n",
       "      <td>-0.516631</td>\n",
       "    </tr>\n",
       "    <tr>\n",
       "      <th>36838</th>\n",
       "      <td>0.005536</td>\n",
       "      <td>-0.063714</td>\n",
       "      <td>-0.151486</td>\n",
       "      <td>-0.468347</td>\n",
       "    </tr>\n",
       "    <tr>\n",
       "      <th>36949</th>\n",
       "      <td>0.044124</td>\n",
       "      <td>-0.785637</td>\n",
       "      <td>-0.548672</td>\n",
       "      <td>-0.600962</td>\n",
       "    </tr>\n",
       "    <tr>\n",
       "      <th>37188</th>\n",
       "      <td>0.000000</td>\n",
       "      <td>0.000000</td>\n",
       "      <td>-0.116990</td>\n",
       "      <td>0.247785</td>\n",
       "    </tr>\n",
       "  </tbody>\n",
       "</table>\n",
       "<p>349 rows × 4 columns</p>\n",
       "</div>"
      ],
      "text/plain": [
       "           related     delta  pred_score    delta2\n",
       "anime_id                                          \n",
       "1         0.000000 -1.150561   -0.766137 -0.223729\n",
       "20       -1.215833 -0.670547   -0.814251 -0.211051\n",
       "21       -1.424083 -0.681599   -0.875114 -0.384288\n",
       "30        0.398171 -0.353887   -0.212205 -0.170843\n",
       "32        0.531055 -0.446718   -0.229722 -0.153287\n",
       "...            ...       ...         ...       ...\n",
       "36474    -0.610481  0.000000   -0.277132  0.000000\n",
       "36754     0.000000  0.000000   -0.116990 -0.516631\n",
       "36838     0.005536 -0.063714   -0.151486 -0.468347\n",
       "36949     0.044124 -0.785637   -0.548672 -0.600962\n",
       "37188     0.000000  0.000000   -0.116990  0.247785\n",
       "\n",
       "[349 rows x 4 columns]"
      ]
     },
     "execution_count": 55,
     "metadata": {},
     "output_type": "execute_result"
    }
   ],
   "source": [
    "a"
   ]
  },
  {
   "cell_type": "code",
   "execution_count": 21,
   "metadata": {
    "tags": []
   },
   "outputs": [
    {
     "name": "stderr",
     "output_type": "stream",
     "text": [
      "  4%|▎         | 1/27 [00:34<15:06, 34.88s/it]"
     ]
    },
    {
     "name": "stdout",
     "output_type": "stream",
     "text": [
      "{'neighborhood_size': 1, 'is_rsquared': 0.003358980009292245, 'is_rmse': 1.337587450812027, 'is_coverage': 0.6246418338108882, 'oos_rmse': 1.337587450812027, 'oos_coverage': 0.6246418338108882}\n"
     ]
    },
    {
     "name": "stderr",
     "output_type": "stream",
     "text": [
      "  7%|▋         | 2/27 [01:06<13:45, 33.01s/it]"
     ]
    },
    {
     "name": "stdout",
     "output_type": "stream",
     "text": [
      "{'neighborhood_size': 2, 'is_rsquared': 0.009961551397987045, 'is_rmse': 1.3229964682786333, 'is_coverage': 0.7621776504297995, 'oos_rmse': 1.3229964682786333, 'oos_coverage': 0.7621776504297995}\n"
     ]
    },
    {
     "name": "stderr",
     "output_type": "stream",
     "text": [
      " 11%|█         | 3/27 [01:43<13:53, 34.74s/it]"
     ]
    },
    {
     "name": "stdout",
     "output_type": "stream",
     "text": [
      "{'neighborhood_size': 4, 'is_rsquared': 0.010722003384865841, 'is_rmse': 1.3213651044698036, 'is_coverage': 0.8510028653295129, 'oos_rmse': 1.3213651044698036, 'oos_coverage': 0.8510028653295129}\n"
     ]
    },
    {
     "name": "stderr",
     "output_type": "stream",
     "text": [
      " 15%|█▍        | 4/27 [02:10<12:08, 31.66s/it]"
     ]
    },
    {
     "name": "stdout",
     "output_type": "stream",
     "text": [
      "{'neighborhood_size': 5, 'is_rsquared': 0.013433227189537211, 'is_rmse': 1.3159605403594044, 'is_coverage': 0.8767908309455588, 'oos_rmse': 1.3159605403594044, 'oos_coverage': 0.8767908309455588}\n"
     ]
    },
    {
     "name": "stderr",
     "output_type": "stream",
     "text": [
      " 19%|█▊        | 5/27 [02:48<12:30, 34.09s/it]"
     ]
    },
    {
     "name": "stdout",
     "output_type": "stream",
     "text": [
      "{'neighborhood_size': 8, 'is_rsquared': 0.018026521007338925, 'is_rmse': 1.308900087280997, 'is_coverage': 0.9340974212034384, 'oos_rmse': 1.308900087280997, 'oos_coverage': 0.9340974212034384}\n"
     ]
    },
    {
     "name": "stderr",
     "output_type": "stream",
     "text": [
      " 22%|██▏       | 6/27 [03:22<11:53, 33.95s/it]"
     ]
    },
    {
     "name": "stdout",
     "output_type": "stream",
     "text": [
      "{'neighborhood_size': 11, 'is_rsquared': 0.030273320873220544, 'is_rmse': 1.2899369305470505, 'is_coverage': 0.9541547277936963, 'oos_rmse': 1.2899369305470505, 'oos_coverage': 0.9541547277936963}\n"
     ]
    },
    {
     "name": "stderr",
     "output_type": "stream",
     "text": [
      " 26%|██▌       | 7/27 [03:55<11:12, 33.62s/it]"
     ]
    },
    {
     "name": "stdout",
     "output_type": "stream",
     "text": [
      "{'neighborhood_size': 16, 'is_rsquared': 0.03768800496328373, 'is_rmse': 1.2814038826513998, 'is_coverage': 0.9627507163323782, 'oos_rmse': 1.2814038826513998, 'oos_coverage': 0.9627507163323782}\n"
     ]
    },
    {
     "name": "stderr",
     "output_type": "stream",
     "text": [
      " 30%|██▉       | 8/27 [04:32<10:58, 34.64s/it]"
     ]
    },
    {
     "name": "stdout",
     "output_type": "stream",
     "text": [
      "{'neighborhood_size': 22, 'is_rsquared': 0.03793359944371588, 'is_rmse': 1.2831900291307936, 'is_coverage': 0.9742120343839542, 'oos_rmse': 1.2831900291307936, 'oos_coverage': 0.9742120343839542}\n"
     ]
    },
    {
     "name": "stderr",
     "output_type": "stream",
     "text": [
      " 33%|███▎      | 9/27 [05:04<10:08, 33.83s/it]"
     ]
    },
    {
     "name": "stdout",
     "output_type": "stream",
     "text": [
      "{'neighborhood_size': 32, 'is_rsquared': 0.02302006186890404, 'is_rmse': 1.3048578656933594, 'is_coverage': 0.9885386819484241, 'oos_rmse': 1.3048578656933594, 'oos_coverage': 0.9885386819484241}\n"
     ]
    },
    {
     "name": "stderr",
     "output_type": "stream",
     "text": [
      " 37%|███▋      | 10/27 [05:38<09:35, 33.83s/it]"
     ]
    },
    {
     "name": "stdout",
     "output_type": "stream",
     "text": [
      "{'neighborhood_size': 45, 'is_rsquared': 0.01879179280423926, 'is_rmse': 1.3100760064917478, 'is_coverage': 0.9914040114613181, 'oos_rmse': 1.3100760064917478, 'oos_coverage': 0.9914040114613181}\n"
     ]
    },
    {
     "name": "stderr",
     "output_type": "stream",
     "text": [
      " 41%|████      | 11/27 [06:12<09:04, 34.03s/it]"
     ]
    },
    {
     "name": "stdout",
     "output_type": "stream",
     "text": [
      "{'neighborhood_size': 64, 'is_rsquared': 0.017543888804884666, 'is_rmse': 1.3123004900520367, 'is_coverage': 0.994269340974212, 'oos_rmse': 1.3123004900520367, 'oos_coverage': 0.994269340974212}\n"
     ]
    },
    {
     "name": "stderr",
     "output_type": "stream",
     "text": [
      " 44%|████▍     | 12/27 [07:01<09:40, 38.70s/it]"
     ]
    },
    {
     "name": "stdout",
     "output_type": "stream",
     "text": [
      "{'neighborhood_size': 90, 'is_rsquared': 0.017052200395237138, 'is_rmse': 1.31322585013234, 'is_coverage': 0.994269340974212, 'oos_rmse': 1.31322585013234, 'oos_coverage': 0.994269340974212}\n"
     ]
    },
    {
     "name": "stderr",
     "output_type": "stream",
     "text": [
      " 48%|████▊     | 13/27 [07:44<09:18, 39.89s/it]"
     ]
    },
    {
     "name": "stdout",
     "output_type": "stream",
     "text": [
      "{'neighborhood_size': 128, 'is_rsquared': 0.02045954678827977, 'is_rmse': 1.3089685132681002, 'is_coverage': 0.994269340974212, 'oos_rmse': 1.3089685132681002, 'oos_coverage': 0.994269340974212}\n"
     ]
    },
    {
     "name": "stderr",
     "output_type": "stream",
     "text": [
      " 52%|█████▏    | 14/27 [08:35<09:23, 43.33s/it]"
     ]
    },
    {
     "name": "stdout",
     "output_type": "stream",
     "text": [
      "{'neighborhood_size': 181, 'is_rsquared': 0.02075121579235284, 'is_rmse': 1.3096995671987433, 'is_coverage': 0.994269340974212, 'oos_rmse': 1.3096995671987433, 'oos_coverage': 0.994269340974212}\n"
     ]
    },
    {
     "name": "stderr",
     "output_type": "stream",
     "text": [
      " 56%|█████▌    | 15/27 [09:18<08:37, 43.15s/it]"
     ]
    },
    {
     "name": "stdout",
     "output_type": "stream",
     "text": [
      "{'neighborhood_size': 256, 'is_rsquared': 0.021392325821819935, 'is_rmse': 1.3096899729401608, 'is_coverage': 0.994269340974212, 'oos_rmse': 1.3096899729401608, 'oos_coverage': 0.994269340974212}\n"
     ]
    },
    {
     "name": "stderr",
     "output_type": "stream",
     "text": [
      " 59%|█████▉    | 16/27 [10:06<08:09, 44.47s/it]"
     ]
    },
    {
     "name": "stdout",
     "output_type": "stream",
     "text": [
      "{'neighborhood_size': 362, 'is_rsquared': 0.03094061880697363, 'is_rmse': 1.2982758058595725, 'is_coverage': 0.994269340974212, 'oos_rmse': 1.2982758058595725, 'oos_coverage': 0.994269340974212}\n"
     ]
    },
    {
     "name": "stderr",
     "output_type": "stream",
     "text": [
      " 63%|██████▎   | 17/27 [10:53<07:33, 45.37s/it]"
     ]
    },
    {
     "name": "stdout",
     "output_type": "stream",
     "text": [
      "{'neighborhood_size': 512, 'is_rsquared': 0.030234072430191605, 'is_rmse': 1.2991949619520653, 'is_coverage': 0.994269340974212, 'oos_rmse': 1.2991949619520653, 'oos_coverage': 0.994269340974212}\n"
     ]
    },
    {
     "name": "stderr",
     "output_type": "stream",
     "text": [
      " 67%|██████▋   | 18/27 [11:44<07:03, 47.08s/it]"
     ]
    },
    {
     "name": "stdout",
     "output_type": "stream",
     "text": [
      "{'neighborhood_size': 724, 'is_rsquared': 0.029532432531097275, 'is_rmse': 1.2992300817332876, 'is_coverage': 0.994269340974212, 'oos_rmse': 1.2992300817332876, 'oos_coverage': 0.994269340974212}\n"
     ]
    },
    {
     "name": "stderr",
     "output_type": "stream",
     "text": [
      " 70%|███████   | 19/27 [12:45<06:49, 51.20s/it]"
     ]
    },
    {
     "name": "stdout",
     "output_type": "stream",
     "text": [
      "{'neighborhood_size': 1024, 'is_rsquared': 0.03146962300369904, 'is_rmse': 1.2948087963977108, 'is_coverage': 0.994269340974212, 'oos_rmse': 1.2948087963977108, 'oos_coverage': 0.994269340974212}\n"
     ]
    },
    {
     "name": "stderr",
     "output_type": "stream",
     "text": [
      " 74%|███████▍  | 20/27 [13:41<06:07, 52.52s/it]"
     ]
    },
    {
     "name": "stdout",
     "output_type": "stream",
     "text": [
      "{'neighborhood_size': 1448, 'is_rsquared': 0.030890774824158918, 'is_rmse': 1.294723320250361, 'is_coverage': 0.994269340974212, 'oos_rmse': 1.294723320250361, 'oos_coverage': 0.994269340974212}\n"
     ]
    },
    {
     "name": "stderr",
     "output_type": "stream",
     "text": [
      " 78%|███████▊  | 21/27 [14:45<05:37, 56.19s/it]"
     ]
    },
    {
     "name": "stdout",
     "output_type": "stream",
     "text": [
      "{'neighborhood_size': 2048, 'is_rsquared': 0.02604393189101828, 'is_rmse': 1.3012082895888097, 'is_coverage': 0.994269340974212, 'oos_rmse': 1.3012082895888097, 'oos_coverage': 0.994269340974212}\n"
     ]
    },
    {
     "name": "stderr",
     "output_type": "stream",
     "text": [
      " 81%|████████▏ | 22/27 [16:02<05:11, 62.32s/it]"
     ]
    },
    {
     "name": "stdout",
     "output_type": "stream",
     "text": [
      "{'neighborhood_size': 2896, 'is_rsquared': 0.027483117636328602, 'is_rmse': 1.298675931263201, 'is_coverage': 0.994269340974212, 'oos_rmse': 1.298675931263201, 'oos_coverage': 0.994269340974212}\n"
     ]
    },
    {
     "name": "stderr",
     "output_type": "stream",
     "text": [
      " 85%|████████▌ | 23/27 [17:15<04:22, 65.63s/it]"
     ]
    },
    {
     "name": "stdout",
     "output_type": "stream",
     "text": [
      "{'neighborhood_size': 4096, 'is_rsquared': 0.024299736952197226, 'is_rmse': 1.3021973678266634, 'is_coverage': 0.997134670487106, 'oos_rmse': 1.3021973678266634, 'oos_coverage': 0.997134670487106}\n"
     ]
    },
    {
     "name": "stderr",
     "output_type": "stream",
     "text": [
      " 89%|████████▉ | 24/27 [18:43<03:36, 72.30s/it]"
     ]
    },
    {
     "name": "stdout",
     "output_type": "stream",
     "text": [
      "{'neighborhood_size': 5792, 'is_rsquared': 0.025782940585365344, 'is_rmse': 1.3002782645748725, 'is_coverage': 0.997134670487106, 'oos_rmse': 1.3002782645748725, 'oos_coverage': 0.997134670487106}\n"
     ]
    },
    {
     "name": "stderr",
     "output_type": "stream",
     "text": [
      " 93%|█████████▎| 25/27 [20:20<02:39, 79.69s/it]"
     ]
    },
    {
     "name": "stdout",
     "output_type": "stream",
     "text": [
      "{'neighborhood_size': 8192, 'is_rsquared': 0.0271513606959376, 'is_rmse': 1.2988674356911376, 'is_coverage': 0.997134670487106, 'oos_rmse': 1.2988674356911376, 'oos_coverage': 0.997134670487106}\n"
     ]
    },
    {
     "name": "stderr",
     "output_type": "stream",
     "text": [
      " 96%|█████████▋| 26/27 [22:30<01:34, 94.74s/it]"
     ]
    },
    {
     "name": "stdout",
     "output_type": "stream",
     "text": [
      "{'neighborhood_size': 11585, 'is_rsquared': 0.027154311568203693, 'is_rmse': 1.2991640668554478, 'is_coverage': 0.997134670487106, 'oos_rmse': 1.2991640668554478, 'oos_coverage': 0.997134670487106}\n"
     ]
    },
    {
     "name": "stderr",
     "output_type": "stream",
     "text": [
      "100%|██████████| 27/27 [25:09<00:00, 55.92s/it] "
     ]
    },
    {
     "name": "stdout",
     "output_type": "stream",
     "text": [
      "{'neighborhood_size': 13865, 'is_rsquared': 0.027171678718070247, 'is_rmse': 1.299150159384227, 'is_coverage': 0.997134670487106, 'oos_rmse': 1.299150159384227, 'oos_coverage': 0.997134670487106}\n"
     ]
    },
    {
     "name": "stderr",
     "output_type": "stream",
     "text": [
      "\n"
     ]
    }
   ],
   "source": [
    "errors_by_neighborhood_size = []\n",
    "max_size = len(filtered_df.anime_id.unique())\n",
    "base = np.sqrt(2)\n",
    "neighborhood_sizes = [\n",
    "    int(base ** i) for i in range(int(np.log(max_size) / np.log(base)) + 1)\n",
    "] + [max_size]\n",
    "neighborhood_sizes = sorted(list(set(neighborhood_sizes)))\n",
    "\n",
    "oos_df = filtered_df.loc[username].sample(frac=1)\n",
    "is_df = filtered_df\n",
    "    \n",
    "item_metrics = compute_accuracy_metrics(\n",
    "        is_df.copy(),\n",
    "        oos_df.copy(),\n",
    "        get_item_scores,\n",
    "        get_item_corrs_wrapper,\n",
    "        username,\n",
    "        neighborhood_sizes,\n",
    "    )\n",
    "item_metrics[\"signal\"] = \"item\"\n",
    "errors_by_neighborhood_size.append(item_metrics)    "
   ]
  },
  {
   "cell_type": "code",
   "execution_count": null,
   "metadata": {},
   "outputs": [],
   "source": [
    "allerrors = pd.concat(errors_by_neighborhood_size, ignore_index=True)"
   ]
  },
  {
   "cell_type": "markdown",
   "metadata": {},
   "source": [
    "## Visualizations"
   ]
  },
  {
   "cell_type": "code",
   "execution_count": null,
   "metadata": {},
   "outputs": [],
   "source": [
    "wide_data = pd.melt(allerrors, [\"neighborhood_size\", \"signal\"])"
   ]
  },
  {
   "cell_type": "code",
   "execution_count": null,
   "metadata": {
    "tags": []
   },
   "outputs": [],
   "source": [
    "for signal in wide_data[\"signal\"].unique():\n",
    "    wide_data.loc[lambda x: x[\"signal\"] == signal, \"variable\"] = (\n",
    "        f\"{signal}_\" + wide_data.loc[lambda x: x[\"signal\"] == signal, \"variable\"]\n",
    "    )"
   ]
  },
  {
   "cell_type": "code",
   "execution_count": null,
   "metadata": {},
   "outputs": [],
   "source": [
    "plt.figure(figsize=(20, 10))\n",
    "_ = sns.lineplot(\n",
    "    x=\"neighborhood_size\",\n",
    "    y=\"value\",\n",
    "    hue=\"variable\",\n",
    "    data=wide_data.loc[lambda x: x.variable.str.contains(\"coverage\")],\n",
    ").set(xscale=\"log\", title=\"Prediction Coverage\")"
   ]
  },
  {
   "cell_type": "code",
   "execution_count": null,
   "metadata": {},
   "outputs": [],
   "source": [
    "plt.figure(figsize=(20, 10))\n",
    "_ = sns.lineplot(\n",
    "    x=\"neighborhood_size\",\n",
    "    y=\"value\",\n",
    "    hue=\"variable\",\n",
    "    data=wide_data.loc[lambda x: x.variable.str.contains(\"rmse\")],\n",
    ").set(xscale=\"log\", title=\"Root Mean Squared Error\")"
   ]
  },
  {
   "cell_type": "code",
   "execution_count": null,
   "metadata": {},
   "outputs": [],
   "source": [
    "allerrors.groupby([\"signal\", \"neighborhood_size\"]).mean().sort_values(\n",
    "    by=\"oos_rmse\"\n",
    ").head(50)"
   ]
  },
  {
   "cell_type": "code",
   "execution_count": null,
   "metadata": {},
   "outputs": [],
   "source": [
    "allerrors.groupby([\"signal\", \"neighborhood_size\"]).mean().rolling(3).mean().xs('item', level='signal').sort_values(by='oos_rmse')"
   ]
  },
  {
   "cell_type": "code",
   "execution_count": null,
   "metadata": {},
   "outputs": [],
   "source": [
    "(1.199971 + 1.200345 + 1.200527) / 3"
   ]
  },
  {
   "cell_type": "code",
   "execution_count": null,
   "metadata": {},
   "outputs": [],
   "source": [
    "(1.198847 + 1.198858 + 1.202293 ) / 3"
   ]
  },
  {
   "cell_type": "markdown",
   "metadata": {},
   "source": [
    "## Store best hyperparameters"
   ]
  },
  {
   "cell_type": "code",
   "execution_count": null,
   "metadata": {},
   "outputs": [],
   "source": [
    "allerrors.groupby([\"signal\", \"neighborhood_size\"]).mean().sort_values(\n",
    "    by=\"oos_rmse\"\n",
    ").reset_index().groupby(\"signal\").first()"
   ]
  },
  {
   "cell_type": "code",
   "execution_count": null,
   "metadata": {},
   "outputs": [],
   "source": [
    "outdir = \"parameters\"\n",
    "if not os.path.exists(outdir):\n",
    "    os.mkdir(outdir)\n",
    "os.chdir(outdir)"
   ]
  },
  {
   "cell_type": "code",
   "execution_count": null,
   "metadata": {},
   "outputs": [],
   "source": [
    "allerrors.groupby([\"signal\", \"neighborhood_size\"]).mean().sort_values(\n",
    "    by=\"oos_rmse\"\n",
    ").reset_index().groupby(\"signal\").first().to_pickle(\"neighborhoodcf.best.pkl\")\n",
    "allerrors.to_pickle(\"neighborhoodcf.all.pkl\")"
   ]
  },
  {
   "cell_type": "code",
   "execution_count": null,
   "metadata": {},
   "outputs": [],
   "source": []
  }
 ],
 "metadata": {
  "kernelspec": {
   "display_name": "Python 3",
   "language": "python",
   "name": "python3"
  },
  "language_info": {
   "codemirror_mode": {
    "name": "ipython",
    "version": 3
   },
   "file_extension": ".py",
   "mimetype": "text/x-python",
   "name": "python",
   "nbconvert_exporter": "python",
   "pygments_lexer": "ipython3",
   "version": "3.8.5"
  }
 },
 "nbformat": 4,
 "nbformat_minor": 4
}
