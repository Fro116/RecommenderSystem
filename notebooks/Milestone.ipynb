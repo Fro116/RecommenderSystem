{
 "cells": [
  {
   "cell_type": "markdown",
   "id": "e7f3d090-5188-4b1f-a904-060892bfa6a5",
   "metadata": {},
   "source": [
    "# Version 8.1.0"
   ]
  },
  {
   "cell_type": "markdown",
   "id": "ed332009-f9d1-481a-bfff-149859176c16",
   "metadata": {
    "tags": []
   },
   "source": [
    "# Release Roadmap\n",
    "* A list of improvements and bugfixes\n",
    "* Each ticket is tagged as high/medium/low (H/M/L) priority and easy/medium/hard (E/M/H) workload\n",
    "* Items that are tagged with $\\odot$ are currently being worked on"
   ]
  },
  {
   "cell_type": "markdown",
   "id": "ea30aa97-5ca0-42c1-8bb7-12eebae71319",
   "metadata": {},
   "source": [
    "# Inputs\n",
    "* M M measure effect of sentiment analysis on user notes\n",
    "* L H finetune sentiment model with manually curated examples\n",
    "* L H fetch steam games\n",
    "* M M audit the status -> metric mapping"
   ]
  },
  {
   "cell_type": "markdown",
   "id": "5b6774b2-e057-4032-a94a-2b2fa6c7532b",
   "metadata": {
    "editable": true,
    "slideshow": {
     "slide_type": ""
    },
    "tags": [
     "parameters"
    ]
   },
   "source": [
    "# Models"
   ]
  },
  {
   "cell_type": "markdown",
   "id": "47d7a26e-e1ad-4dde-b391-31e9a26af6c9",
   "metadata": {},
   "source": [
    "## Transformer\n",
    "* M M try masking rate 30%\n",
    "* M M try capping max_document_length\n",
    "* M M try cylic position invariance"
   ]
  },
  {
   "cell_type": "markdown",
   "id": "13c237b0-15ac-4b4c-8180-511cc73b4f37",
   "metadata": {},
   "source": [
    "## BagOfWords\n",
    "* M M try learning rate schedulers\n",
    "* M M retry label smoothing\n",
    "* M M scan learning rate\n",
    "* M M scan weighting hyperparams\n",
    "* M M try using nonresidualized ratings"
   ]
  },
  {
   "cell_type": "markdown",
   "id": "1ce0366c-829e-4d6b-bf30-41dfcf08a2c5",
   "metadata": {},
   "source": [
    "## MLE\n",
    "* scan interaction weights\n",
    "* try the monotonic networks paper"
   ]
  },
  {
   "cell_type": "markdown",
   "id": "67899958-2cda-4d9c-b19e-780e1760c231",
   "metadata": {},
   "source": [
    "# Outputs\n",
    "* M H support parallel daemon inference across users\n",
    "* M H support multi-user recommendations\n",
    "* H H setup a public website\n",
    "* M M use halflife decay for watch metrics\n",
    "* M M popularity bias sliders\n",
    "* M H search for similar series\n",
    "* M M audit display filters\n",
    "* M M revisit integrated gradients normalization"
   ]
  },
  {
   "cell_type": "markdown",
   "id": "1e6965b0-3ea4-423d-ba6e-a361329f6be1",
   "metadata": {},
   "source": [
    "# Misc\n",
    "* $\\odot$ H H have one button that runs the entire pipeline of building a new model\n",
    "* $\\odot$ H H support refreshing a model with newer data"
   ]
  }
 ],
 "metadata": {
  "kernelspec": {
   "display_name": "Julia 1.9.4",
   "language": "julia",
   "name": "julia-1.9"
  },
  "language_info": {
   "file_extension": ".jl",
   "mimetype": "application/julia",
   "name": "julia",
   "version": "1.9.4"
  }
 },
 "nbformat": 4,
 "nbformat_minor": 5
}
