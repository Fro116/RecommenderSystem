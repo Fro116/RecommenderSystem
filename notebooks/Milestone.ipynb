{
 "cells": [
  {
   "cell_type": "markdown",
   "id": "e7f3d090-5188-4b1f-a904-060892bfa6a5",
   "metadata": {},
   "source": [
    "# Version 11.2.0"
   ]
  },
  {
   "cell_type": "markdown",
   "id": "ed332009-f9d1-481a-bfff-149859176c16",
   "metadata": {
    "tags": []
   },
   "source": [
    "# Release Roadmap\n",
    "* A list of improvements and bugfixes\n",
    "* Tickets that are tagged with $\\odot$ are currently being worked on"
   ]
  },
  {
   "cell_type": "markdown",
   "id": "deb6008c-6585-4358-b13d-2269f1d15a08",
   "metadata": {},
   "source": [
    "## Item queries: search for items that are similar to a reference item\n",
    "  * collect: paginate recommendations from anilist\n",
    "  * collect: get recommendations from animeplanet\n",
    "  * training: train item similarity clip model\n",
    "  * inference: add an item similarity endpoint\n",
    "  * client: make a ui for requesting similar items\n",
    "## Multiquery recs: allow combining multiple queries\n",
    "  * inference: allow weighting different queries\n",
    "  * client: make a ui for displaying existing queries\n",
    "  * client: make a ui for adding a new query to an existing list\n",
    "## Explicit feedback: allow thumbs-up/thumbs-down feedback on recommendations\n",
    "  * inference: add an endpoint to check if a user is logged in\n",
    "  * client: add an option to log in via a source website\n",
    "  * client: allow giving thumbs-up/thumbs-down feedback\n",
    "  * inference: add an endpoint to save explicit feedback\n",
    "  * training: make the model aware of explicit feedback\n",
    "## Item static features: use mediatype, genre, etc. when suggesting items\n",
    "  * training: add static features for numerics\n",
    "  * training: add static features for categoricals\n",
    "## Training dynamics: adjust training hyperparameters for quality and cost\n",
    "  * training: increase max_seq_len to 2048\n",
    "  * training: rescale losses by modeltype\n",
    "  * training: use a learning rate scheduler\n",
    "  * training: test higher learning rates\n",
    "## User static features: use age, gender, location, etc. when suggesting items\n",
    "  * training: add static features for low cardinality\n",
    "  * training: add static features for text\n",
    "## Source specific features: use information that is only exposed in some apis\n",
    "  * training: add features by coverage\n",
    "## Temporal queries: items that were popular in a given time region\n",
    "  * training: train model m:time->watch_probability\n",
    "  * finetune: train currently trending models\n",
    "  * inference: add an endpoint for temporal queries\n",
    "  * client: expose currently trending\n",
    "  * client: expose historical trending\n",
    "## Bandwidth\n",
    "  * zstd or gzip encode all network hops"
   ]
  }
 ],
 "metadata": {
  "kernelspec": {
   "display_name": "Julia Sandbox",
   "language": "julia",
   "name": "julia-sandbox"
  },
  "language_info": {
   "file_extension": ".jl",
   "mimetype": "application/julia",
   "name": "julia",
   "version": "1.11.5"
  }
 },
 "nbformat": 4,
 "nbformat_minor": 5
}
