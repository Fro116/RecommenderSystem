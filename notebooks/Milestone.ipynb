{
 "cells": [
  {
   "cell_type": "markdown",
   "id": "e7f3d090-5188-4b1f-a904-060892bfa6a5",
   "metadata": {},
   "source": [
    "# Version 11.1.0"
   ]
  },
  {
   "cell_type": "markdown",
   "id": "ed332009-f9d1-481a-bfff-149859176c16",
   "metadata": {
    "tags": []
   },
   "source": [
    "# Release Roadmap\n",
    "* A list of improvements and bugfixes\n",
    "* Each ticket is tagged as high/medium/low (H/M/L) priority and easy/medium/hard (E/M/H) workload\n",
    "* Items that are tagged with $\\odot$ are currently being worked on"
   ]
  },
  {
   "cell_type": "markdown",
   "id": "5d7489fe-b351-4f36-a303-080532f7e769",
   "metadata": {},
   "source": [
    "# Collect\n",
    "* M M audit userid prioritization\n",
    "* M M audit dedups"
   ]
  },
  {
   "cell_type": "markdown",
   "id": "ab08417c-bcea-4256-9248-77331a76e16a",
   "metadata": {},
   "source": [
    "# Import\n",
    "* $\\odot$ H H multi-snapshot lists"
   ]
  },
  {
   "cell_type": "markdown",
   "id": "c35374c4-6d00-4b1e-b2ed-deea9c3f40ad",
   "metadata": {},
   "source": [
    "# Training\n",
    "* M M use more data types\n",
    "* M H support item embeddings\n",
    "* M M proper handling of \"missing\" vs 0 values"
   ]
  },
  {
   "cell_type": "markdown",
   "id": "fe5cf023-fa01-483b-8408-39d9dd400635",
   "metadata": {},
   "source": [
    "# Finetune\n",
    "* M M trending series embeddings"
   ]
  },
  {
   "cell_type": "markdown",
   "id": "b516643f-ea7a-43af-8406-7cc28b25b585",
   "metadata": {
    "execution": {
     "iopub.execute_input": "2025-03-13T21:37:10.307",
     "iopub.status.busy": "2025-03-13T21:37:09.975",
     "iopub.status.idle": "2025-03-13T21:37:10.529",
     "shell.execute_reply": "2025-03-13T21:37:10.466"
    }
   },
   "source": [
    "# Package\n",
    "* H M multi user recommendations\n",
    "* M M intra-query weighting\n",
    "* M M default to last successful query\n",
    "* M M make page refreshes instant"
   ]
  },
  {
   "cell_type": "markdown",
   "id": "838727f6-623e-4812-8605-a945326db8e4",
   "metadata": {},
   "source": [
    "# Test\n",
    "* L M setup a local test server"
   ]
  }
 ],
 "metadata": {
  "kernelspec": {
   "display_name": "Julia Sandbox",
   "language": "julia",
   "name": "julia-sandbox"
  },
  "language_info": {
   "file_extension": ".jl",
   "mimetype": "application/julia",
   "name": "julia",
   "version": "1.11.2"
  }
 },
 "nbformat": 4,
 "nbformat_minor": 5
}
