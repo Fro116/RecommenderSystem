{
 "cells": [
  {
   "cell_type": "markdown",
   "id": "e7f3d090-5188-4b1f-a904-060892bfa6a5",
   "metadata": {},
   "source": [
    "# Version 6.0.0-beta"
   ]
  },
  {
   "cell_type": "markdown",
   "id": "ed332009-f9d1-481a-bfff-149859176c16",
   "metadata": {
    "tags": []
   },
   "source": [
    "# Release Roadmap\n",
    "* A list of improvements and bugfixes\n",
    "* Each ticket is tagged as high/medium/low (H/M/L) priority and easy/medium/hard (E/M/H) workload\n",
    "* Items that are tagged with $\\odot$ are currently being worked on"
   ]
  },
  {
   "cell_type": "markdown",
   "id": "5b6774b2-e057-4032-a94a-2b2fa6c7532b",
   "metadata": {},
   "source": [
    "# Alphas\n",
    "* M M move item embeddings to nondirectional folder"
   ]
  },
  {
   "cell_type": "markdown",
   "id": "13c237b0-15ac-4b4c-8180-511cc73b4f37",
   "metadata": {},
   "source": [
    "# Neural Alphas\n",
    "* H H Flux 0.14 migration\n",
    "* M H expore other data augmentation strategies\n",
    "* M H timestamp aware embeddings\n",
    "* M M switch temporal holdout to causally predict the next N watches\n",
    "* M H Transformer alpha\n",
    "* M M metadata embedding where the inputs are ratings and first layer is hardcoded embeddings\n",
    "* M M retry label smoothing\n",
    "* M M use a cosine learning rate annealer\n",
    "* M M test averaging input enbeddings"
   ]
  },
  {
   "cell_type": "markdown",
   "id": "47d7a26e-e1ad-4dde-b391-31e9a26af6c9",
   "metadata": {},
   "source": [
    "# New Alphas\n",
    "* M H try transformer models"
   ]
  },
  {
   "cell_type": "markdown",
   "id": "857ab2d3-2aea-47b8-a228-9a001ef1a771",
   "metadata": {
    "tags": []
   },
   "source": [
    "# Ensembling"
   ]
  },
  {
   "cell_type": "markdown",
   "id": "a0a2a7c8-b3a4-4ae5-a385-5d03c0814a66",
   "metadata": {
    "tags": []
   },
   "source": [
    "### Nonlinear Model\n",
    "* M M try adding genre and tag features\n",
    "* M M try adding timestamps as a nondirectional feature"
   ]
  },
  {
   "cell_type": "markdown",
   "id": "ea30aa97-5ca0-42c1-8bb7-12eebae71319",
   "metadata": {},
   "source": [
    "# Data collection\n",
    "* M M Make ProcessOfflineDatabase robust to the source getting taken down\n",
    "* M M Deprecate user_rel and item_rel timestamps\n",
    "* M M have multiple val/test sets for finetuning random/causal/temporal models"
   ]
  },
  {
   "cell_type": "markdown",
   "id": "67899958-2cda-4d9c-b19e-780e1760c231",
   "metadata": {},
   "source": [
    "# Recommendations"
   ]
  },
  {
   "cell_type": "markdown",
   "id": "ea962d5d-9c05-4ce8-b95f-e0bf991ff27a",
   "metadata": {},
   "source": [
    "### DisplayRecs\n",
    "* M H prioritize novelty\n",
    "* M M output csv\n",
    "* M H upload results to public aws bucket"
   ]
  },
  {
   "cell_type": "markdown",
   "id": "1e6965b0-3ea4-423d-ba6e-a361329f6be1",
   "metadata": {},
   "source": [
    "# Misc\n",
    "* M H have one button that runs the entire pipeline of building a new model"
   ]
  }
 ],
 "metadata": {
  "kernelspec": {
   "display_name": "Julia 1.8.3",
   "language": "julia",
   "name": "julia-1.8"
  },
  "language_info": {
   "file_extension": ".jl",
   "mimetype": "application/julia",
   "name": "julia",
   "version": "1.8.3"
  }
 },
 "nbformat": 4,
 "nbformat_minor": 5
}
