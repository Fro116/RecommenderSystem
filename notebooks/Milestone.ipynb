{
 "cells": [
  {
   "cell_type": "markdown",
   "id": "e7f3d090-5188-4b1f-a904-060892bfa6a5",
   "metadata": {},
   "source": [
    "# Version 4.2.0"
   ]
  },
  {
   "cell_type": "markdown",
   "id": "ed332009-f9d1-481a-bfff-149859176c16",
   "metadata": {
    "tags": []
   },
   "source": [
    "# Release Roadmap\n",
    "* A list of improvements and bugfixes\n",
    "* Each ticket is tagged as high/medium/low (H/M/L) priority and easy/medium/hard (E/M/H) workload\n",
    "* Items that are tagged with $\\odot$ are currently being worked on"
   ]
  },
  {
   "cell_type": "markdown",
   "id": "5b6774b2-e057-4032-a94a-2b2fa6c7532b",
   "metadata": {},
   "source": [
    "# Alphas\n",
    "* M M move item embeddings to nondirectional folder\n",
    "* M M add an option to temporal weight the validation set, so we can try random sampling with a 1-year halflife"
   ]
  },
  {
   "cell_type": "markdown",
   "id": "13c237b0-15ac-4b4c-8180-511cc73b4f37",
   "metadata": {},
   "source": [
    "# Neural Alphas\n",
    "* M H expore other data augmentation strategies\n",
    "* M H timestamp aware embeddings\n",
    "* M M switch temporal holdout to causally predict the next N watches\n",
    "* M H Transformer alpha\n",
    "* M H Embedding alpha where each user is a matrix"
   ]
  },
  {
   "cell_type": "markdown",
   "id": "fa7e838d-13cb-40d1-8c2d-e279f734e59a",
   "metadata": {},
   "source": [
    "### NeuralNetworkBase"
   ]
  },
  {
   "cell_type": "markdown",
   "id": "642fa1b3-06a7-4eec-b220-fb920b92c2f4",
   "metadata": {
    "tags": []
   },
   "source": [
    "### NeuralItemCF"
   ]
  },
  {
   "cell_type": "markdown",
   "id": "c2e1f66e-5c95-4555-b5e2-9f72a6e2df31",
   "metadata": {
    "jp-MarkdownHeadingCollapsed": true,
    "tags": []
   },
   "source": [
    "### NeuralAE\n",
    "* Understand why adding metadata features doesn't improve performance"
   ]
  },
  {
   "cell_type": "markdown",
   "id": "ff174b60-84bf-4315-83a0-c5f4306801a3",
   "metadata": {},
   "source": [
    "### EASE"
   ]
  },
  {
   "cell_type": "markdown",
   "id": "669cbc2e-26e8-46b8-9a40-dc0e232f33e9",
   "metadata": {},
   "source": [
    "### NeuralDE\n",
    "* M H find any setting that provides orthogonal improvement to autoencoder, or delete it"
   ]
  },
  {
   "cell_type": "markdown",
   "id": "b5c68b0b-7358-4ad3-af86-e69e82f6d2e4",
   "metadata": {},
   "source": [
    "# Classical Alphas"
   ]
  },
  {
   "cell_type": "markdown",
   "id": "e8a63237-13a3-4bbb-8e0e-11ac704c1ca1",
   "metadata": {
    "tags": []
   },
   "source": [
    "### SimpleBaselines"
   ]
  },
  {
   "cell_type": "markdown",
   "id": "9307fa8c-ec11-4f8f-b0ba-985be98c7632",
   "metadata": {
    "jp-MarkdownHeadingCollapsed": true,
    "tags": []
   },
   "source": [
    "### ExplicitUserItemBiases"
   ]
  },
  {
   "cell_type": "markdown",
   "id": "1fa99bf9-37fa-4f5e-96ee-30138aff85af",
   "metadata": {
    "tags": []
   },
   "source": [
    "### ExplicitItemCF\n",
    "* M M use ratings that are identially zero"
   ]
  },
  {
   "cell_type": "markdown",
   "id": "47d7a26e-e1ad-4dde-b391-31e9a26af6c9",
   "metadata": {},
   "source": [
    "# New Alphas\n",
    "* M H try transformer models"
   ]
  },
  {
   "cell_type": "markdown",
   "id": "857ab2d3-2aea-47b8-a228-9a001ef1a771",
   "metadata": {
    "tags": []
   },
   "source": [
    "# Ensembling"
   ]
  },
  {
   "cell_type": "markdown",
   "id": "d332a82b-10bd-4947-9d33-41466d27fe72",
   "metadata": {
    "jp-MarkdownHeadingCollapsed": true,
    "tags": []
   },
   "source": [
    "### LinearModel"
   ]
  },
  {
   "cell_type": "markdown",
   "id": "a0a2a7c8-b3a4-4ae5-a385-5d03c0814a66",
   "metadata": {
    "tags": []
   },
   "source": [
    "### Nonlinear Model\n",
    "* M M try adding genre and tag features\n",
    "* M M try adding timestamps as a nondirectional feature"
   ]
  },
  {
   "cell_type": "markdown",
   "id": "9d4bebef-17ad-4a36-a2e7-8c33616e646d",
   "metadata": {
    "jp-MarkdownHeadingCollapsed": true,
    "tags": []
   },
   "source": [
    "### Error Model"
   ]
  },
  {
   "cell_type": "markdown",
   "id": "35148012-f8e9-451e-aca5-7bef1e665f9d",
   "metadata": {
    "tags": []
   },
   "source": [
    "### Bayesian Personalized Ranking\n",
    "* L H try out WARP\n",
    "* M M upweight difficult item pairs"
   ]
  },
  {
   "cell_type": "markdown",
   "id": "353cbfba-5174-4ca7-bb01-dcfd0675a962",
   "metadata": {},
   "source": [
    "# Inference"
   ]
  },
  {
   "cell_type": "markdown",
   "id": "ea30aa97-5ca0-42c1-8bb7-12eebae71319",
   "metadata": {},
   "source": [
    "# Data collection\n",
    "* M M Make ProcessOfflineDatabase robust to the source getting taken down\n",
    "* M M make AnilistApi use created_at instead of updated_at when available"
   ]
  },
  {
   "cell_type": "markdown",
   "id": "67899958-2cda-4d9c-b19e-780e1760c231",
   "metadata": {},
   "source": [
    "# Recommendations"
   ]
  },
  {
   "cell_type": "markdown",
   "id": "ea962d5d-9c05-4ce8-b95f-e0bf991ff27a",
   "metadata": {},
   "source": [
    "### DisplayRecs\n",
    "* M H prioritize novelty\n",
    "* M M HTML links\n",
    "* M M output csv\n",
    "* M H upload results to public aws bucket"
   ]
  },
  {
   "cell_type": "markdown",
   "id": "b1ae8f06-6e0d-4714-89e7-d950038256b4",
   "metadata": {
    "tags": []
   },
   "source": [
    "### FetchUserAnimeList"
   ]
  },
  {
   "cell_type": "markdown",
   "id": "a2cf4960-a674-4d27-91ca-cb6b986054cb",
   "metadata": {},
   "source": [
    "### TrainingServingSkew"
   ]
  },
  {
   "cell_type": "markdown",
   "id": "1e6965b0-3ea4-423d-ba6e-a361329f6be1",
   "metadata": {},
   "source": [
    "# Misc"
   ]
  },
  {
   "cell_type": "code",
   "execution_count": null,
   "id": "df201380-b970-4509-824c-4087fcd89a17",
   "metadata": {},
   "outputs": [],
   "source": []
  }
 ],
 "metadata": {
  "kernelspec": {
   "display_name": "Julia 1.8.0-rc1",
   "language": "julia",
   "name": "julia-1.8"
  },
  "language_info": {
   "file_extension": ".jl",
   "mimetype": "application/julia",
   "name": "julia",
   "version": "1.8.0"
  }
 },
 "nbformat": 4,
 "nbformat_minor": 5
}
