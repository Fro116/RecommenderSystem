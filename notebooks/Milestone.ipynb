{
 "cells": [
  {
   "cell_type": "markdown",
   "id": "e7f3d090-5188-4b1f-a904-060892bfa6a5",
   "metadata": {},
   "source": [
    "# Version 11.0.0"
   ]
  },
  {
   "cell_type": "markdown",
   "id": "ed332009-f9d1-481a-bfff-149859176c16",
   "metadata": {
    "tags": []
   },
   "source": [
    "# Release Roadmap\n",
    "* A list of improvements and bugfixes\n",
    "* Each ticket is tagged as high/medium/low (H/M/L) priority and easy/medium/hard (E/M/H) workload\n",
    "* Items that are tagged with $\\odot$ are currently being worked on"
   ]
  },
  {
   "cell_type": "markdown",
   "id": "5d7489fe-b351-4f36-a303-080532f7e769",
   "metadata": {},
   "source": [
    "# Collect\n",
    "* L M setup animeplanet api login\n",
    "* M M audit userid prioritization"
   ]
  },
  {
   "cell_type": "markdown",
   "id": "ab08417c-bcea-4256-9248-77331a76e16a",
   "metadata": {},
   "source": [
    "# Import\n",
    "* M M ablate adding more user fields\n",
    "* L M migrate scheduler to cron"
   ]
  },
  {
   "cell_type": "markdown",
   "id": "c35374c4-6d00-4b1e-b2ed-deea9c3f40ad",
   "metadata": {},
   "source": [
    "# Training\n",
    "* M M switch transformer to llama3\n",
    "  * L M get rid of pos embeddings\n",
    "  * L M vary max_seq_len for training efficiency\n",
    "  * L M finetune on longer sequences\n",
    "* M M use more data types\n",
    "* M H support item embeddings\n",
    "* L M scaling laws"
   ]
  },
  {
   "cell_type": "markdown",
   "id": "fe5cf023-fa01-483b-8408-39d9dd400635",
   "metadata": {},
   "source": [
    "# Finetune\n",
    "* M M trending series embeddings"
   ]
  },
  {
   "cell_type": "markdown",
   "id": "b516643f-ea7a-43af-8406-7cc28b25b585",
   "metadata": {
    "execution": {
     "iopub.execute_input": "2025-03-13T21:37:10.307",
     "iopub.status.busy": "2025-03-13T21:37:09.975",
     "iopub.status.idle": "2025-03-13T21:37:10.529",
     "shell.execute_reply": "2025-03-13T21:37:10.466"
    }
   },
   "source": [
    "# Package\n",
    "* H M multi user recommendations\n",
    "* M M intra-query weighting\n",
    "* M M add genres\n",
    "* M M default to last successful query\n",
    "* M M user autocomplete"
   ]
  },
  {
   "cell_type": "markdown",
   "id": "838727f6-623e-4812-8605-a945326db8e4",
   "metadata": {},
   "source": [
    "# Test\n",
    "* L M setup a local test server"
   ]
  },
  {
   "cell_type": "markdown",
   "id": "f19fdec2-78fd-4c8c-88db-85577ff238d2",
   "metadata": {},
   "source": [
    "# Misc\n",
    "* M M Upgrade julia version\n",
    "* M M Upgrade python version"
   ]
  },
  {
   "cell_type": "code",
   "execution_count": null,
   "id": "4da29096-8d6e-4b39-b35e-c24399cfcd99",
   "metadata": {},
   "outputs": [],
   "source": []
  }
 ],
 "metadata": {
  "kernelspec": {
   "display_name": "Julia Sandbox",
   "language": "julia",
   "name": "julia-sandbox"
  },
  "language_info": {
   "file_extension": ".jl",
   "mimetype": "application/julia",
   "name": "julia",
   "version": "1.11.2"
  }
 },
 "nbformat": 4,
 "nbformat_minor": 5
}
