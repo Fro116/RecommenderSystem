{
 "cells": [
  {
   "cell_type": "markdown",
   "id": "e7f3d090-5188-4b1f-a904-060892bfa6a5",
   "metadata": {},
   "source": [
    "# Version 10.0.0"
   ]
  },
  {
   "cell_type": "markdown",
   "id": "ed332009-f9d1-481a-bfff-149859176c16",
   "metadata": {
    "tags": []
   },
   "source": [
    "# Release Roadmap\n",
    "* A list of improvements and bugfixes\n",
    "* Each ticket is tagged as high/medium/low (H/M/L) priority and easy/medium/hard (E/M/H) workload\n",
    "* Items that are tagged with $\\odot$ are currently being worked on"
   ]
  },
  {
   "cell_type": "markdown",
   "id": "ea30aa97-5ca0-42c1-8bb7-12eebae71319",
   "metadata": {},
   "source": [
    "# Inputs\n",
    "* M M try using more metadata fields\n",
    "* M H use user-submitted reviews\n",
    "* M H use user-submitted recommendations\n",
    "* M M change the finetuning data halflife"
   ]
  },
  {
   "cell_type": "markdown",
   "id": "5b6774b2-e057-4032-a94a-2b2fa6c7532b",
   "metadata": {
    "editable": true,
    "slideshow": {
     "slide_type": ""
    },
    "tags": [
     "parameters"
    ]
   },
   "source": [
    "# Models\n",
    "* M M support trending slider\n",
    "* M M support item embeddings"
   ]
  },
  {
   "cell_type": "markdown",
   "id": "13c237b0-15ac-4b4c-8180-511cc73b4f37",
   "metadata": {},
   "source": [
    "## BagOfWords"
   ]
  },
  {
   "cell_type": "markdown",
   "id": "47d7a26e-e1ad-4dde-b391-31e9a26af6c9",
   "metadata": {},
   "source": [
    "## Transformer\n",
    "* M M try masking rate 30%\n",
    "* M M try capping max_document_length\n",
    "* M M try weighting by sequence length"
   ]
  },
  {
   "cell_type": "markdown",
   "id": "1e6965b0-3ea4-423d-ba6e-a361329f6be1",
   "metadata": {},
   "source": [
    "# Misc\n",
    "* $\\odot$ H H have one button that runs the entire pipeline of building a new model\n",
    "* H H add mobile support to website"
   ]
  }
 ],
 "metadata": {
  "kernelspec": {
   "display_name": "Julia Sandbox",
   "language": "julia",
   "name": "julia-sandbox"
  },
  "language_info": {
   "file_extension": ".jl",
   "mimetype": "application/julia",
   "name": "julia",
   "version": "1.11.2"
  }
 },
 "nbformat": 4,
 "nbformat_minor": 5
}
