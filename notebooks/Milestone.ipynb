{
 "cells": [
  {
   "cell_type": "markdown",
   "id": "e7f3d090-5188-4b1f-a904-060892bfa6a5",
   "metadata": {},
   "source": [
    "# Version 3.3.0"
   ]
  },
  {
   "cell_type": "markdown",
   "id": "ed332009-f9d1-481a-bfff-149859176c16",
   "metadata": {
    "tags": []
   },
   "source": [
    "# Release Roadmap\n",
    "* A list of improvements and bugfixes\n",
    "* Each ticket is tagged as high/medium/low (H/M/L) priority and easy/medium/hard (E/M/H) workload\n",
    "* Items that are tagged with $\\odot$ will be included in the next release"
   ]
  },
  {
   "cell_type": "markdown",
   "id": "ea12b2f5-19e8-427c-8b5b-95c06c6bb859",
   "metadata": {},
   "source": [
    "# API"
   ]
  },
  {
   "cell_type": "markdown",
   "id": "c40332d4-58f0-4f5f-ad35-00ed6bb24380",
   "metadata": {},
   "source": [
    "## Importing\n",
    "* L M Make the azathoth dataet work\n",
    "* L M Make the hasegawa dataset work\n",
    "* M M Incorporate rating metadata (tagged for v4.0.0)\n",
    "* M M Filter out plan-to-watch items (tagged for v4.0.0)"
   ]
  },
  {
   "cell_type": "markdown",
   "id": "20ca833a-9a82-475d-b9f2-21b9f61cd62f",
   "metadata": {
    "tags": []
   },
   "source": [
    "## Sampling"
   ]
  },
  {
   "cell_type": "markdown",
   "id": "0c8e203c-c4f7-4283-a67f-c164bbcfc091",
   "metadata": {},
   "source": [
    "## Alpha\n",
    "* L M Run all alphas through papermill"
   ]
  },
  {
   "cell_type": "markdown",
   "id": "fa7e838d-13cb-40d1-8c2d-e279f734e59a",
   "metadata": {},
   "source": [
    "## NeuralNetworkBase\n",
    "* L E perform input validation on Hyperparams (i.e. if a field needs to be >= 0, then assert that it actually is)\n",
    "* M H for validation loss, roll your own regression\n",
    "* M M have a better story for user retraining"
   ]
  },
  {
   "cell_type": "markdown",
   "id": "e8a63237-13a3-4bbb-8e0e-11ac704c1ca1",
   "metadata": {
    "tags": []
   },
   "source": [
    "## SimpleBaselines"
   ]
  },
  {
   "cell_type": "markdown",
   "id": "f42a53ff-08e5-4489-9cc3-7a0f9f694cd2",
   "metadata": {
    "jp-MarkdownHeadingCollapsed": true,
    "tags": []
   },
   "source": [
    "## LinearModel"
   ]
  },
  {
   "cell_type": "markdown",
   "id": "6705370b-30e9-4290-b539-76714f09a571",
   "metadata": {
    "tags": []
   },
   "source": [
    "## Nonlinear Model\n",
    "* M M hyperparameter tuning"
   ]
  },
  {
   "cell_type": "markdown",
   "id": "7cd8287d-ed20-47f1-9448-32b4d157642a",
   "metadata": {
    "jp-MarkdownHeadingCollapsed": true,
    "tags": []
   },
   "source": [
    "## Error Model\n",
    "* M M hyperparameter tuning\n",
    "* M M perform regression to get implicit errors"
   ]
  },
  {
   "cell_type": "markdown",
   "id": "bd00bfb6-66fa-4018-b650-1da842b38f69",
   "metadata": {
    "tags": []
   },
   "source": [
    "## Bayesian Personalized Ranking\n",
    "* L H try out WARP\n",
    "* L M Label smoothing"
   ]
  },
  {
   "cell_type": "markdown",
   "id": "bd95398b-f40a-4536-84e7-01ed405d42dd",
   "metadata": {
    "jp-MarkdownHeadingCollapsed": true,
    "tags": []
   },
   "source": [
    "## UserItemBiases"
   ]
  },
  {
   "cell_type": "markdown",
   "id": "78d0b7da-02d6-47de-8a4b-3a67d7763eae",
   "metadata": {
    "jp-MarkdownHeadingCollapsed": true,
    "tags": []
   },
   "source": [
    "## MatrixFactorization\n",
    "* M M Try the non-linear generalization A1(A2(U))\n",
    "* H M implement Flux inference"
   ]
  },
  {
   "cell_type": "markdown",
   "id": "642fa1b3-06a7-4eec-b220-fb920b92c2f4",
   "metadata": {
    "tags": []
   },
   "source": [
    "## ItemCF\n",
    "* H M train using Flux\n",
    "* H M implement Flux inference"
   ]
  },
  {
   "cell_type": "markdown",
   "id": "c2e1f66e-5c95-4555-b5e2-9f72a6e2df31",
   "metadata": {
    "jp-MarkdownHeadingCollapsed": true,
    "tags": []
   },
   "source": [
    "## NN\n",
    "* H M train using Flux\n",
    "* H M implement Flux inference\n",
    "* L E Try num layers\n",
    "* L E Try layer size\n",
    "* L E Try SGD/ADAM\n",
    "* L H Try Variational Autoencoder"
   ]
  },
  {
   "cell_type": "markdown",
   "id": "ff174b60-84bf-4315-83a0-c5f4306801a3",
   "metadata": {},
   "source": [
    "## EASE\n",
    "* H M train using Flux\n",
    "* H M implement Flux inference\n",
    "* L H Try the triplet generalization"
   ]
  },
  {
   "cell_type": "markdown",
   "id": "4edcac64-588f-459c-967a-48662225c436",
   "metadata": {},
   "source": [
    "## DisplayRecs\n",
    "* L E rename rating to ranking"
   ]
  },
  {
   "cell_type": "markdown",
   "id": "a67cb0ca-8331-4b53-9d69-548775ea5a79",
   "metadata": {},
   "source": [
    "## Misc\n",
    "* L E update readme\n",
    "* M M have one button to get recommendations from a MAL username\n",
    "* Make ProcessOfflineDatabase robust to the srouce getting taken down"
   ]
  },
  {
   "cell_type": "code",
   "execution_count": null,
   "id": "bbf9e954-6376-4c51-aa63-058a3e639bfb",
   "metadata": {},
   "outputs": [],
   "source": []
  }
 ],
 "metadata": {
  "kernelspec": {
   "display_name": "Julia 1.8.0-rc1",
   "language": "julia",
   "name": "julia-1.8"
  },
  "language_info": {
   "file_extension": ".jl",
   "mimetype": "application/julia",
   "name": "julia",
   "version": "1.8.0"
  }
 },
 "nbformat": 4,
 "nbformat_minor": 5
}
