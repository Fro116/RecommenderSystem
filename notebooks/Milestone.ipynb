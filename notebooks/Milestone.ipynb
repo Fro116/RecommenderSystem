{
 "cells": [
  {
   "cell_type": "markdown",
   "id": "e7f3d090-5188-4b1f-a904-060892bfa6a5",
   "metadata": {},
   "source": [
    "# Version 11.2.0"
   ]
  },
  {
   "cell_type": "markdown",
   "id": "ed332009-f9d1-481a-bfff-149859176c16",
   "metadata": {
    "tags": []
   },
   "source": [
    "# Release Roadmap\n",
    "* A list of improvements and bugfixes\n",
    "* Each ticket is tagged as high/medium/low (H/M/L) priority and easy/medium/hard (E/M/H) workload\n",
    "* Items that are tagged with $\\odot$ are currently being worked on"
   ]
  },
  {
   "cell_type": "markdown",
   "id": "5d7489fe-b351-4f36-a303-080532f7e769",
   "metadata": {},
   "source": [
    "# Collect\n",
    "* collect recommendations from animeplanet\n",
    "* paginate recommendations from anilist"
   ]
  },
  {
   "cell_type": "markdown",
   "id": "ab08417c-bcea-4256-9248-77331a76e16a",
   "metadata": {},
   "source": [
    "# Import"
   ]
  },
  {
   "cell_type": "markdown",
   "id": "c35374c4-6d00-4b1e-b2ed-deea9c3f40ad",
   "metadata": {},
   "source": [
    "# Training\n",
    "* M M user more user-item features\n",
    "* M M user static user/item features\n",
    "* H H item similarity model\n",
    "* $\\odot$ H H separate stages for ranking and retrieval"
   ]
  },
  {
   "cell_type": "markdown",
   "id": "fe5cf023-fa01-483b-8408-39d9dd400635",
   "metadata": {},
   "source": [
    "# Finetune\n",
    "* M M trending series"
   ]
  },
  {
   "cell_type": "markdown",
   "id": "b516643f-ea7a-43af-8406-7cc28b25b585",
   "metadata": {
    "execution": {
     "iopub.execute_input": "2025-03-13T21:37:10.307",
     "iopub.status.busy": "2025-03-13T21:37:09.975",
     "iopub.status.idle": "2025-03-13T21:37:10.529",
     "shell.execute_reply": "2025-03-13T21:37:10.466"
    }
   },
   "source": [
    "# Client\n",
    "* M M similar item reecommendations\n",
    "* M M multi user recommendations\n",
    "* M M intra-query weighting\n",
    "* L M default to last successful query\n",
    "* L M make page refreshes instant"
   ]
  },
  {
   "cell_type": "code",
   "execution_count": null,
   "id": "02519bdb-f1cf-40cd-b154-da33148c3a18",
   "metadata": {},
   "outputs": [],
   "source": []
  }
 ],
 "metadata": {
  "kernelspec": {
   "display_name": "Julia Sandbox",
   "language": "julia",
   "name": "julia-sandbox"
  },
  "language_info": {
   "file_extension": ".jl",
   "mimetype": "application/julia",
   "name": "julia",
   "version": "1.11.5"
  }
 },
 "nbformat": 4,
 "nbformat_minor": 5
}
