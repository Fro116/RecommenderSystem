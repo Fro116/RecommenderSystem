{
 "cells": [
  {
   "cell_type": "markdown",
   "id": "e7f3d090-5188-4b1f-a904-060892bfa6a5",
   "metadata": {},
   "source": [
    "# Version 8.0.0"
   ]
  },
  {
   "cell_type": "markdown",
   "id": "ed332009-f9d1-481a-bfff-149859176c16",
   "metadata": {
    "tags": []
   },
   "source": [
    "# Release Roadmap\n",
    "* A list of improvements and bugfixes\n",
    "* Each ticket is tagged as high/medium/low (H/M/L) priority and easy/medium/hard (E/M/H) workload\n",
    "* Items that are tagged with $\\odot$ are currently being worked on"
   ]
  },
  {
   "cell_type": "markdown",
   "id": "5b6774b2-e057-4032-a94a-2b2fa6c7532b",
   "metadata": {},
   "source": [
    "# Alphas\n",
    "* L M replace \\div with div"
   ]
  },
  {
   "cell_type": "markdown",
   "id": "47d7a26e-e1ad-4dde-b391-31e9a26af6c9",
   "metadata": {},
   "source": [
    "# Transformer Alphas\n",
    "* M M try causal masking models"
   ]
  },
  {
   "cell_type": "markdown",
   "id": "13c237b0-15ac-4b4c-8180-511cc73b4f37",
   "metadata": {},
   "source": [
    "# Neural Alphas\n",
    "* M M retry label smoothing\n",
    "* M M refresh hyperparams\n",
    "* M M convert to pytorch"
   ]
  },
  {
   "cell_type": "markdown",
   "id": "857ab2d3-2aea-47b8-a228-9a001ef1a771",
   "metadata": {
    "tags": []
   },
   "source": [
    "# Ensembling"
   ]
  },
  {
   "cell_type": "markdown",
   "id": "ea30aa97-5ca0-42c1-8bb7-12eebae71319",
   "metadata": {},
   "source": [
    "# Data collection\n",
    "* M M Make ProcessOfflineDatabase robust to the source getting taken down\n",
    "* H H fetch lists from animeplanet\n",
    "* M M fetch steam games\n",
    "* M M cleanup timeout/retry logic"
   ]
  },
  {
   "cell_type": "markdown",
   "id": "67899958-2cda-4d9c-b19e-780e1760c231",
   "metadata": {},
   "source": [
    "# Recommendations"
   ]
  },
  {
   "cell_type": "markdown",
   "id": "ea962d5d-9c05-4ce8-b95f-e0bf991ff27a",
   "metadata": {},
   "source": [
    "### DisplayRecs\n",
    "* M H support parallel daemon inference across users\n",
    "* M H support multi-user recommendations\n",
    "* H H setup a public website\n",
    "* M M use halflife decay for watch metrics\n",
    "* M M popularity bias sliders\n",
    "* M H search for similar series"
   ]
  },
  {
   "cell_type": "markdown",
   "id": "1e6965b0-3ea4-423d-ba6e-a361329f6be1",
   "metadata": {},
   "source": [
    "# Misc\n",
    "* M H have one button that runs the entire pipeline of building a new model\n",
    "* M H support refreshing a model with newer data\n",
    "* M H generate freshness metrics\n",
    "* M M bump up the number of retries before declaring a username invalid"
   ]
  }
 ],
 "metadata": {
  "kernelspec": {
   "display_name": "Julia 1.9.2",
   "language": "julia",
   "name": "julia-1.9"
  },
  "language_info": {
   "file_extension": ".jl",
   "mimetype": "application/julia",
   "name": "julia",
   "version": "1.9.2"
  }
 },
 "nbformat": 4,
 "nbformat_minor": 5
}
