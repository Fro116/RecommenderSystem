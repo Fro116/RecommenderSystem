{
 "cells": [
  {
   "cell_type": "markdown",
   "id": "e7f3d090-5188-4b1f-a904-060892bfa6a5",
   "metadata": {},
   "source": [
    "# Version 7.0.0"
   ]
  },
  {
   "cell_type": "markdown",
   "id": "ed332009-f9d1-481a-bfff-149859176c16",
   "metadata": {
    "tags": []
   },
   "source": [
    "# Release Roadmap\n",
    "* A list of improvements and bugfixes\n",
    "* Each ticket is tagged as high/medium/low (H/M/L) priority and easy/medium/hard (E/M/H) workload\n",
    "* Items that are tagged with $\\odot$ are currently being worked on"
   ]
  },
  {
   "cell_type": "markdown",
   "id": "5b6774b2-e057-4032-a94a-2b2fa6c7532b",
   "metadata": {},
   "source": [
    "# Alphas\n",
    "* L M replace \\div with div"
   ]
  },
  {
   "cell_type": "markdown",
   "id": "47d7a26e-e1ad-4dde-b391-31e9a26af6c9",
   "metadata": {},
   "source": [
    "# Transformer Alphas\n",
    "* M M symlink the best model\n",
    "* M M handle max_sequence_length more elegantly\n",
    "* M M try adding source as a feature\n",
    "* M M explore scaling laws\n",
    "* M M don't weight decay biases\n",
    "* M M try causal masking models\n",
    "* H M use cross-media models"
   ]
  },
  {
   "cell_type": "markdown",
   "id": "13c237b0-15ac-4b4c-8180-511cc73b4f37",
   "metadata": {},
   "source": [
    "# Neural Alphas\n",
    "* M M retry label smoothing\n",
    "* M M use a cosine learning rate annealer\n",
    "* M M refresh hyperparams"
   ]
  },
  {
   "cell_type": "markdown",
   "id": "857ab2d3-2aea-47b8-a228-9a001ef1a771",
   "metadata": {
    "tags": []
   },
   "source": [
    "# Ensembling"
   ]
  },
  {
   "cell_type": "markdown",
   "id": "a0a2a7c8-b3a4-4ae5-a385-5d03c0814a66",
   "metadata": {
    "tags": []
   },
   "source": [
    "### Nonlinear Model\n",
    "* M M try adding genre and tag features\n",
    "* M M try adding timestamps as a nondirectional feature\n",
    "* M M try adding source as a feature"
   ]
  },
  {
   "cell_type": "markdown",
   "id": "973c0f91-b35e-4da6-9fab-e1b018ff6311",
   "metadata": {},
   "source": [
    "### MLE"
   ]
  },
  {
   "cell_type": "markdown",
   "id": "ea30aa97-5ca0-42c1-8bb7-12eebae71319",
   "metadata": {},
   "source": [
    "# Data collection\n",
    "* M M Make ProcessOfflineDatabase robust to the source getting taken down\n",
    "* H H fetch lists from animeplanet (can search users using the followers and following endpoints)"
   ]
  },
  {
   "cell_type": "markdown",
   "id": "67899958-2cda-4d9c-b19e-780e1760c231",
   "metadata": {},
   "source": [
    "# Recommendations"
   ]
  },
  {
   "cell_type": "markdown",
   "id": "ea962d5d-9c05-4ce8-b95f-e0bf991ff27a",
   "metadata": {},
   "source": [
    "### DisplayRecs\n",
    "* M H upload results to public aws bucket\n",
    "* M H support parallel daemon inference across users\n",
    "* M H support multi-user recommendations\n",
    "* M M filter out anime for which the user has seen the manga"
   ]
  },
  {
   "cell_type": "markdown",
   "id": "1e6965b0-3ea4-423d-ba6e-a361329f6be1",
   "metadata": {},
   "source": [
    "# Misc\n",
    "* M H have one button that runs the entire pipeline of building a new model\n",
    "* M H support refreshing a model with newer data\n",
    "* M H support manga recommendations"
   ]
  }
 ],
 "metadata": {
  "kernelspec": {
   "display_name": "Julia 1.9.0-rc2",
   "language": "julia",
   "name": "julia-1.9"
  },
  "language_info": {
   "file_extension": ".jl",
   "mimetype": "application/julia",
   "name": "julia",
   "version": "1.9.0"
  }
 },
 "nbformat": 4,
 "nbformat_minor": 5
}
