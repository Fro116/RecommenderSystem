{
 "cells": [
  {
   "cell_type": "markdown",
   "id": "e7f3d090-5188-4b1f-a904-060892bfa6a5",
   "metadata": {},
   "source": [
    "# Version 3.14.0"
   ]
  },
  {
   "cell_type": "markdown",
   "id": "ed332009-f9d1-481a-bfff-149859176c16",
   "metadata": {
    "tags": []
   },
   "source": [
    "# Release Roadmap\n",
    "* A list of improvements and bugfixes\n",
    "* Each ticket is tagged as high/medium/low (H/M/L) priority and easy/medium/hard (E/M/H) workload\n",
    "* Items that are tagged with $\\odot$ will be included in the next release"
   ]
  },
  {
   "cell_type": "markdown",
   "id": "5b6774b2-e057-4032-a94a-2b2fa6c7532b",
   "metadata": {},
   "source": [
    "# Alphas\n",
    "* M M Consider downweighting users that have seen <10 items in the validation splits\n",
    "* M M helper method to filter a RatingsDataset via a mask"
   ]
  },
  {
   "cell_type": "markdown",
   "id": "13c237b0-15ac-4b4c-8180-511cc73b4f37",
   "metadata": {},
   "source": [
    "# Neural Alphas"
   ]
  },
  {
   "cell_type": "markdown",
   "id": "fa7e838d-13cb-40d1-8c2d-e279f734e59a",
   "metadata": {},
   "source": [
    "### NeuralNetworkBase\n",
    "* L E rename expdecay to powerdecay"
   ]
  },
  {
   "cell_type": "markdown",
   "id": "78d0b7da-02d6-47de-8a4b-3a67d7763eae",
   "metadata": {
    "jp-MarkdownHeadingCollapsed": true,
    "tags": []
   },
   "source": [
    "### NeuralMF\n",
    "* L M Try the non-linear generalization A1(A2(U))"
   ]
  },
  {
   "cell_type": "markdown",
   "id": "642fa1b3-06a7-4eec-b220-fb920b92c2f4",
   "metadata": {
    "tags": []
   },
   "source": [
    "### NeuralItemCF\n",
    "* M M run a tuned version\n",
    "* L M run a reduced rank version\n",
    "* L M run a polynomial version"
   ]
  },
  {
   "cell_type": "markdown",
   "id": "c2e1f66e-5c95-4555-b5e2-9f72a6e2df31",
   "metadata": {
    "jp-MarkdownHeadingCollapsed": true,
    "tags": []
   },
   "source": [
    "### NeuralAE\n",
    "* $\\odot$ M M run a tuned implicit version\n",
    "* M E Experiment with num layers\n",
    "* M E Experiment with layer size\n",
    "* L H Try Variational Autoencoder"
   ]
  },
  {
   "cell_type": "markdown",
   "id": "ff174b60-84bf-4315-83a0-c5f4306801a3",
   "metadata": {},
   "source": [
    "### EASE\n",
    "* L H Try the triplet generalization"
   ]
  },
  {
   "cell_type": "markdown",
   "id": "b5c68b0b-7358-4ad3-af86-e69e82f6d2e4",
   "metadata": {},
   "source": [
    "# Classical Alphas"
   ]
  },
  {
   "cell_type": "markdown",
   "id": "e8a63237-13a3-4bbb-8e0e-11ac704c1ca1",
   "metadata": {
    "tags": []
   },
   "source": [
    "### SimpleBaselines"
   ]
  },
  {
   "cell_type": "markdown",
   "id": "9307fa8c-ec11-4f8f-b0ba-985be98c7632",
   "metadata": {
    "jp-MarkdownHeadingCollapsed": true,
    "tags": []
   },
   "source": [
    "### ExplicitUserItemBiases"
   ]
  },
  {
   "cell_type": "markdown",
   "id": "1fa99bf9-37fa-4f5e-96ee-30138aff85af",
   "metadata": {
    "tags": []
   },
   "source": [
    "### ExplicitItemCF\n",
    "* L M make W a nonlinear combination of multiple similarity metrics\n",
    "* L M make R a nonlinear combination\n",
    "* L M try a bigger neighborhood size"
   ]
  },
  {
   "cell_type": "markdown",
   "id": "47d7a26e-e1ad-4dde-b391-31e9a26af6c9",
   "metadata": {},
   "source": [
    "# New Alphas\n",
    "* M H use item metadata"
   ]
  },
  {
   "cell_type": "markdown",
   "id": "857ab2d3-2aea-47b8-a228-9a001ef1a771",
   "metadata": {
    "tags": []
   },
   "source": [
    "# Ensembling"
   ]
  },
  {
   "cell_type": "markdown",
   "id": "d332a82b-10bd-4947-9d33-41466d27fe72",
   "metadata": {
    "jp-MarkdownHeadingCollapsed": true,
    "tags": []
   },
   "source": [
    "### LinearModel"
   ]
  },
  {
   "cell_type": "markdown",
   "id": "a0a2a7c8-b3a4-4ae5-a385-5d03c0814a66",
   "metadata": {
    "tags": []
   },
   "source": [
    "### Nonlinear Model\n",
    "* M M hyperparameter tuning\n",
    "* M M Nondirectional item features (e.g. item metadata)"
   ]
  },
  {
   "cell_type": "markdown",
   "id": "9d4bebef-17ad-4a36-a2e7-8c33616e646d",
   "metadata": {
    "jp-MarkdownHeadingCollapsed": true,
    "tags": []
   },
   "source": [
    "### Error Model\n",
    "* M M hyperparameter tuning"
   ]
  },
  {
   "cell_type": "markdown",
   "id": "35148012-f8e9-451e-aca5-7bef1e665f9d",
   "metadata": {
    "tags": []
   },
   "source": [
    "### Bayesian Personalized Ranking\n",
    "* L H try out WARP\n",
    "* M M penalize implicit misses and explicit misses differently\n",
    "* M M try passing the raw user and item embeddings\n",
    "* M M use watching status to break ties  (tagged for v4.0.0)"
   ]
  },
  {
   "cell_type": "markdown",
   "id": "353cbfba-5174-4ca7-bb01-dcfd0675a962",
   "metadata": {},
   "source": [
    "# Inference"
   ]
  },
  {
   "cell_type": "markdown",
   "id": "ea30aa97-5ca0-42c1-8bb7-12eebae71319",
   "metadata": {},
   "source": [
    "# Data collection\n",
    "* L M Make the azathoth dataet work\n",
    "* L M Make the hasegawa dataset work\n",
    "* M M Incorporate rating metadata (tagged for v4.0.0)\n",
    "* M M Filter out plan-to-watch items (tagged for v4.0.0)\n",
    "* M M Make ProcessOfflineDatabase robust to the source getting taken down"
   ]
  },
  {
   "cell_type": "markdown",
   "id": "67899958-2cda-4d9c-b19e-780e1760c231",
   "metadata": {},
   "source": [
    "# Recommendations"
   ]
  },
  {
   "cell_type": "markdown",
   "id": "ea962d5d-9c05-4ce8-b95f-e0bf991ff27a",
   "metadata": {},
   "source": [
    "### DisplayRecs\n",
    "* M H prioritize novelty"
   ]
  },
  {
   "cell_type": "markdown",
   "id": "b1ae8f06-6e0d-4714-89e7-d950038256b4",
   "metadata": {
    "tags": []
   },
   "source": [
    "### FetchUserAnimeList"
   ]
  },
  {
   "cell_type": "markdown",
   "id": "a2cf4960-a674-4d27-91ca-cb6b986054cb",
   "metadata": {},
   "source": [
    "### TrainingServingSkew"
   ]
  },
  {
   "cell_type": "markdown",
   "id": "1e6965b0-3ea4-423d-ba6e-a361329f6be1",
   "metadata": {},
   "source": [
    "# Misc\n",
    "* L E update readme"
   ]
  },
  {
   "cell_type": "code",
   "execution_count": null,
   "id": "df201380-b970-4509-824c-4087fcd89a17",
   "metadata": {},
   "outputs": [],
   "source": []
  }
 ],
 "metadata": {
  "kernelspec": {
   "display_name": "Julia 1.8.0-rc1",
   "language": "julia",
   "name": "julia-1.8"
  },
  "language_info": {
   "file_extension": ".jl",
   "mimetype": "application/julia",
   "name": "julia",
   "version": "1.8.0"
  }
 },
 "nbformat": 4,
 "nbformat_minor": 5
}
