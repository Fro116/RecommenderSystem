{
 "cells": [
  {
   "cell_type": "code",
   "execution_count": null,
   "id": "da8e7b50-c7f4-4f46-9aea-e3193e09f431",
   "metadata": {},
   "outputs": [],
   "source": [
    "import JupyterFormatter\n",
    "JupyterFormatter.enable_autoformat();"
   ]
  },
  {
   "cell_type": "code",
   "execution_count": null,
   "id": "9543d703-da7d-44bb-acdc-50b157aca4df",
   "metadata": {},
   "outputs": [],
   "source": [
    "import NBInclude: @nbinclude\n",
    "@nbinclude(\"Data.ipynb\");"
   ]
  },
  {
   "cell_type": "code",
   "execution_count": null,
   "id": "ea465c77-a3ae-4412-b897-715c0dde43ed",
   "metadata": {},
   "outputs": [],
   "source": [
    "const CUTOFF_DAYS = Dict(\"streaming\" => 7, \"test\" => 1)\n",
    "const CUTOFF_ITEMS = Dict(\"streaming\" => 5, \"test\" => 5);"
   ]
  },
  {
   "cell_type": "code",
   "execution_count": null,
   "id": "f95ef3c3-ff86-403e-a418-64d794f8e1fb",
   "metadata": {
    "editable": true,
    "slideshow": {
     "slide_type": ""
    },
    "tags": [
     "parameters"
    ]
   },
   "outputs": [],
   "source": [
    "SPLIT = \"\""
   ]
  },
  {
   "cell_type": "code",
   "execution_count": null,
   "id": "284f7f1c-632d-467d-8aaa-4e0a24ef30f5",
   "metadata": {},
   "outputs": [],
   "source": [
    "function create_splits!(dfs, max_valid_ts, cutoff_days, cutoff_items)\n",
    "    train_dfs = Vector{eltype(dfs)}(undef, length(dfs))\n",
    "    val_dfs = Vector{eltype(dfs)}(undef, length(dfs))\n",
    "    @showprogress Threads.@threads for t = 1:length(dfs)\n",
    "        df = dfs[t]\n",
    "        df = subset(df, sortperm(collect(zip(df.userid, df.updated_at, df.update_order))))\n",
    "        ts_cutoff = max_valid_ts - (24 * 60 * 60 * cutoff_days) / (MAX_TS - MIN_TS)\n",
    "        userid = nothing\n",
    "        num_val = [0 for _ in MEDIUM_MAP]\n",
    "        val_mask = [false for _ = 1:length(df.userid)]\n",
    "        for i in reverse(1:length(df.userid))\n",
    "            if userid != df.userid[i]\n",
    "                userid = df.userid[i]\n",
    "                num_val .= 0\n",
    "            end\n",
    "            if (df.updated_at[i] > ts_cutoff) && (num_val[df.medium[i]+1] < cutoff_items)\n",
    "                num_val[df.medium[i]+1] += 1\n",
    "                val_mask[i] = true\n",
    "            end\n",
    "        end\n",
    "        train_dfs[t] = subset(df, .!val_mask)\n",
    "        val_dfs[t] = subset(df, val_mask)\n",
    "        dfs[t] = RatingsDataset([[] for _ in fieldnames(RatingsDataset)]...) # free memory\n",
    "    end\n",
    "    train_dfs, val_dfs\n",
    "end;"
   ]
  },
  {
   "cell_type": "code",
   "execution_count": null,
   "id": "561e1602-73cd-4f1f-a221-e9980489a20b",
   "metadata": {},
   "outputs": [],
   "source": [
    "function filter_userids!(train_dfs, val_dfs)\n",
    "    valid_userids = union([Set(df.userid) for df in val_dfs]...)\n",
    "    @showprogress Threads.@threads for i = 1:length(train_dfs)\n",
    "        train_dfs[i] = subset(train_dfs[i], train_dfs[i].userid .∈ (valid_userids,))\n",
    "        val_dfs[i] = subset(val_dfs[i], val_dfs[i].userid .∈ (valid_userids,))\n",
    "    end\n",
    "end;"
   ]
  },
  {
   "cell_type": "code",
   "execution_count": null,
   "id": "8be36206-58f1-4541-a8df-4bca2fb832c9",
   "metadata": {},
   "outputs": [],
   "source": [
    "function save_split(name)\n",
    "    source_dir = \"$(name)_data\"\n",
    "    if !ispath(get_data_path(source_dir))\n",
    "        return\n",
    "    end\n",
    "    dfs = load_datasets(source_dir)\n",
    "    relabel_userids!(dfs)\n",
    "    max_valid_ts = get_max_valid_ts(name)\n",
    "    train_dfs, val_dfs =\n",
    "        create_splits!(dfs, max_valid_ts, CUTOFF_DAYS[name], CUTOFF_ITEMS[name])\n",
    "    filter_userids!(train_dfs, val_dfs)\n",
    "    save_splits(train_dfs, val_dfs, name)\n",
    "end;"
   ]
  },
  {
   "cell_type": "code",
   "execution_count": null,
   "id": "0389178b-de38-4d9a-8e41-d14c657abd73",
   "metadata": {},
   "outputs": [],
   "source": [
    "save_split(SPLIT)"
   ]
  }
 ],
 "metadata": {
  "kernelspec": {
   "display_name": "Julia 1.10.2",
   "language": "julia",
   "name": "julia-1.10"
  },
  "language_info": {
   "file_extension": ".jl",
   "mimetype": "application/julia",
   "name": "julia",
   "version": "1.10.2"
  }
 },
 "nbformat": 4,
 "nbformat_minor": 5
}
