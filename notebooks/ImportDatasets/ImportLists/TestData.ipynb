{
 "cells": [
  {
   "cell_type": "code",
   "execution_count": null,
   "id": "da8e7b50-c7f4-4f46-9aea-e3193e09f431",
   "metadata": {
    "editable": true,
    "slideshow": {
     "slide_type": ""
    },
    "tags": []
   },
   "outputs": [],
   "source": [
    "import JupyterFormatter\n",
    "JupyterFormatter.enable_autoformat();"
   ]
  },
  {
   "cell_type": "code",
   "execution_count": null,
   "id": "9543d703-da7d-44bb-acdc-50b157aca4df",
   "metadata": {},
   "outputs": [],
   "source": [
    "import NBInclude: @nbinclude\n",
    "@nbinclude(\"Data.ipynb\");"
   ]
  },
  {
   "cell_type": "code",
   "execution_count": null,
   "id": "ea465c77-a3ae-4412-b897-715c0dde43ed",
   "metadata": {
    "editable": true,
    "slideshow": {
     "slide_type": ""
    },
    "tags": []
   },
   "outputs": [],
   "source": [
    "const MIN_ITEMS = Dict(\"streaming\" => 5, \"test\" => 5)\n",
    "const TEST_USER_FRAC = Dict(\"streaming\" => 0.1, \"test\" => 1.0)\n",
    "const MAX_OUPUT_DAYS = Dict(\"streaming\" => 7, \"test\" => 0)\n",
    "const MAX_OUPUT_ITEMS = Dict(\"streaming\" => 5, \"test\" => 5);\n",
    "const OUTPUT_NEWEST = Dict(\"streaming\" => true, \"test\" => false);"
   ]
  },
  {
   "cell_type": "code",
   "execution_count": null,
   "id": "f95ef3c3-ff86-403e-a418-64d794f8e1fb",
   "metadata": {
    "editable": true,
    "slideshow": {
     "slide_type": ""
    },
    "tags": [
     "parameters"
    ]
   },
   "outputs": [],
   "source": [
    "dataset = \"\""
   ]
  },
  {
   "cell_type": "code",
   "execution_count": null,
   "id": "8be36206-58f1-4541-a8df-4bca2fb832c9",
   "metadata": {
    "editable": true,
    "slideshow": {
     "slide_type": ""
    },
    "tags": []
   },
   "outputs": [],
   "source": [
    "function save_dataset(dataset)\n",
    "    if !ispath(get_data_path(\"$(dataset)_data\"))\n",
    "        return\n",
    "    end\n",
    "    seed_rng!(\"ImportDatasets/ImportLists/$(titlecase(dataset))Data\")\n",
    "    dfs = load_datasets(dataset)\n",
    "    train_dfs, test_dfs = split_by_user!(dfs, TEST_USER_FRAC[dataset])\n",
    "    drop_sparse_users!(train_dfs, MIN_ITEMS[dataset])\n",
    "    ts_cutoff =\n",
    "        get_max_valid_ts(\"streaming\") -\n",
    "        (24 * 60 * 60 * MAX_OUPUT_DAYS[dataset]) / (MAX_TS - MIN_TS)\n",
    "    test_input_dfs, test_output_dfs = create_splits!(\n",
    "        test_dfs,\n",
    "        ts_cutoff,\n",
    "        MAX_OUPUT_ITEMS[dataset],\n",
    "        OUTPUT_NEWEST[dataset],\n",
    "    )\n",
    "    filter_input!(test_input_dfs, test_output_dfs)\n",
    "    relabel_userids!(train_dfs, test_input_dfs, test_output_dfs, dataset)\n",
    "    save_dataset(train_dfs, test_input_dfs, test_output_dfs, dataset)\n",
    "end;"
   ]
  },
  {
   "cell_type": "code",
   "execution_count": null,
   "id": "0389178b-de38-4d9a-8e41-d14c657abd73",
   "metadata": {
    "editable": true,
    "slideshow": {
     "slide_type": ""
    },
    "tags": []
   },
   "outputs": [],
   "source": [
    "save_dataset(dataset)"
   ]
  }
 ],
 "metadata": {
  "kernelspec": {
   "display_name": "Julia 1.10.2",
   "language": "julia",
   "name": "julia-1.10"
  },
  "language_info": {
   "file_extension": ".jl",
   "mimetype": "application/julia",
   "name": "julia",
   "version": "1.10.2"
  }
 },
 "nbformat": 4,
 "nbformat_minor": 5
}
