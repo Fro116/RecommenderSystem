{
 "cells": [
  {
   "cell_type": "code",
   "execution_count": null,
   "id": "c63d0f00-cdc1-449d-a456-c18f57b10c4f",
   "metadata": {
    "editable": true,
    "slideshow": {
     "slide_type": ""
    },
    "tags": []
   },
   "outputs": [],
   "source": [
    "import JupyterFormatter\n",
    "JupyterFormatter.enable_autoformat();"
   ]
  },
  {
   "cell_type": "code",
   "execution_count": null,
   "id": "5f25ff2e-694d-4e2a-bcb3-53d3d8773fce",
   "metadata": {},
   "outputs": [],
   "source": [
    "include(\"import_lists.jl\");"
   ]
  },
  {
   "cell_type": "code",
   "execution_count": null,
   "id": "dbd2030d-3a25-44d7-85c4-5728af5cb57e",
   "metadata": {},
   "outputs": [],
   "source": [
    "function save_status()\n",
    "    df = DataFrames.DataFrame([(k, v) for (k, v) in STATUS_MAP], [:name, :encoding])\n",
    "    df = sort(df, :encoding)\n",
    "    CSV.write(get_data_path(\"processed_data/status.csv\"), df)\n",
    "end\n",
    "\n",
    "save_status();"
   ]
  },
  {
   "cell_type": "code",
   "execution_count": null,
   "id": "8af3e779-f41f-4bd7-bb91-a44dc1662f84",
   "metadata": {},
   "outputs": [],
   "source": [
    "function cleanup()\n",
    "    for f in [\"training\", \"streaming\", \"test\"]\n",
    "        for stem in [\"$(f)_data\", \"raw_$(f)_data\"]\n",
    "            path = get_data_path(stem)\n",
    "            if ispath(path)\n",
    "                rm(path; recursive = true)\n",
    "            end\n",
    "        end\n",
    "    end\n",
    "end\n",
    "\n",
    "cleanup();"
   ]
  }
 ],
 "metadata": {
  "kernelspec": {
   "display_name": "Julia 1.10.2",
   "language": "julia",
   "name": "julia-1.10"
  },
  "language_info": {
   "file_extension": ".jl",
   "mimetype": "application/julia",
   "name": "julia",
   "version": "1.10.2"
  }
 },
 "nbformat": 4,
 "nbformat_minor": 5
}
