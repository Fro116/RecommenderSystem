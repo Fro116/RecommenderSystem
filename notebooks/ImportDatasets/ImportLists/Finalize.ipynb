{
 "cells": [
  {
   "cell_type": "code",
   "execution_count": null,
   "id": "c63d0f00-cdc1-449d-a456-c18f57b10c4f",
   "metadata": {},
   "outputs": [],
   "source": [
    "import JupyterFormatter\n",
    "JupyterFormatter.enable_autoformat();"
   ]
  },
  {
   "cell_type": "code",
   "execution_count": null,
   "id": "8705c158-4f45-485e-83ee-d6dfb9e06485",
   "metadata": {},
   "outputs": [],
   "source": [
    "function get_data_path(file)\n",
    "    path = pwd()\n",
    "    while basename(path) != \"notebooks\"\n",
    "        path = dirname(path)\n",
    "    end\n",
    "    path = dirname(path)\n",
    "    joinpath(path, \"data\", file)\n",
    "end;"
   ]
  },
  {
   "cell_type": "code",
   "execution_count": null,
   "id": "968570c0-d168-4c58-94d7-2033601cd751",
   "metadata": {},
   "outputs": [],
   "source": [
    "for f in [\"training\", \"streaming\", \"test\"]\n",
    "    path = get_data_path(\"$(f)_data\")\n",
    "    if ispath(path)\n",
    "        rm(path; recursive = true)\n",
    "    end\n",
    "end"
   ]
  }
 ],
 "metadata": {
  "kernelspec": {
   "display_name": "Julia 1.10.2",
   "language": "julia",
   "name": "julia-1.10"
  },
  "language_info": {
   "file_extension": ".jl",
   "mimetype": "application/julia",
   "name": "julia",
   "version": "1.10.2"
  }
 },
 "nbformat": 4,
 "nbformat_minor": 5
}
