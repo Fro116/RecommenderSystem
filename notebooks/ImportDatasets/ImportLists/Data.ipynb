{
 "cells": [
  {
   "cell_type": "code",
   "execution_count": null,
   "id": "da8e7b50-c7f4-4f46-9aea-e3193e09f431",
   "metadata": {
    "editable": true,
    "slideshow": {
     "slide_type": ""
    },
    "tags": []
   },
   "outputs": [],
   "source": [
    "import JupyterFormatter\n",
    "JupyterFormatter.enable_autoformat();"
   ]
  },
  {
   "cell_type": "code",
   "execution_count": null,
   "id": "4bf20b0e-1017-4ec3-9d39-55b61688f2e8",
   "metadata": {},
   "outputs": [],
   "source": [
    "import Glob\n",
    "import JLD2\n",
    "import ProgressMeter: @showprogress, next!\n",
    "import Random\n",
    "import SHA\n",
    "import StatsBase"
   ]
  },
  {
   "cell_type": "code",
   "execution_count": null,
   "id": "34c9c6be-fa91-4f20-b220-415b1c978404",
   "metadata": {
    "editable": true,
    "slideshow": {
     "slide_type": ""
    },
    "tags": []
   },
   "outputs": [],
   "source": [
    "include(\"import_lists.jl\");"
   ]
  },
  {
   "cell_type": "code",
   "execution_count": null,
   "id": "0b47ec12-d6d8-4f61-9aac-03f9a0540e4c",
   "metadata": {},
   "outputs": [],
   "source": [
    "function seed_rng!(salt::String)\n",
    "    init = first(read_csv(get_data_path(\"rng.csv\")).seed)\n",
    "    seed = first(reinterpret(UInt64, SHA.sha256(init * salt)))\n",
    "    Random.seed!(seed)\n",
    "end;"
   ]
  },
  {
   "cell_type": "code",
   "execution_count": null,
   "id": "19a8e4a0-c88f-4e01-b3c3-99770d6c3f84",
   "metadata": {
    "editable": true,
    "slideshow": {
     "slide_type": ""
    },
    "tags": []
   },
   "outputs": [],
   "source": [
    "function load_datasets(dataset)\n",
    "    get_files(d, m) = sort(Glob.glob(\"$(d)_data/*user_$(m)_list*jld2\", get_data_path(\"\")))\n",
    "    anime_files = get_files(dataset, \"anime\")\n",
    "    manga_files = get_files(dataset, \"manga\")\n",
    "    files = collect(zip(sort.((anime_files, manga_files))...))\n",
    "    for (a, m) in files\n",
    "        @assert replace(a, \"user_anime_list\" => \"user_manga_list\") == m\n",
    "    end\n",
    "    dfs = Vector{RatingsDataset}(undef, length(files))\n",
    "    @showprogress Threads.@threads for i = 1:length(dfs)\n",
    "        dfs[i] = reduce(cat, [JLD2.load(f, \"data\") for f in files[i]])\n",
    "    end\n",
    "    dfs\n",
    "end;"
   ]
  },
  {
   "cell_type": "code",
   "execution_count": null,
   "id": "3b74e45f-b93f-4977-b518-776085789b24",
   "metadata": {
    "editable": true,
    "slideshow": {
     "slide_type": ""
    },
    "tags": []
   },
   "outputs": [],
   "source": [
    "function split_by_user!(dfs, test_frac)\n",
    "    users = collect(union([Set(df.userid) for df in dfs]...))\n",
    "    num_test_users = round(Int, length(users) * test_frac)\n",
    "    test_userids = Set(StatsBase.sample(users, num_test_users, replace = false))\n",
    "    train_dfs = Vector{eltype(dfs)}(undef, length(dfs))\n",
    "    test_dfs = Vector{eltype(dfs)}(undef, length(dfs))\n",
    "    @showprogress Threads.@threads for i = 1:length(dfs)\n",
    "        train_dfs[i] = subset(dfs[i], dfs[i].userid .∉ (test_userids,))\n",
    "        test_dfs[i] = subset(dfs[i], dfs[i].userid .∈ (test_userids,))\n",
    "        dfs[i] = RatingsDataset([[] for _ in fieldnames(RatingsDataset)]...) # free memory\n",
    "    end\n",
    "    train_dfs, test_dfs\n",
    "end;"
   ]
  },
  {
   "cell_type": "code",
   "execution_count": null,
   "id": "2e59468f-3251-441b-95c8-e7071999745b",
   "metadata": {
    "editable": true,
    "slideshow": {
     "slide_type": ""
    },
    "tags": []
   },
   "outputs": [],
   "source": [
    "function drop_sparse_users!(dfs, min_items)\n",
    "    user_counts = Dict()\n",
    "    @showprogress for df in dfs\n",
    "        for (k, v) in StatsBase.countmap(df.userid)\n",
    "            @assert k ∉ keys(user_counts)\n",
    "            user_counts[k] = v\n",
    "        end\n",
    "    end\n",
    "    valid_userids = Set(k for (k, v) in user_counts if v >= min_items)\n",
    "    @showprogress Threads.@threads for i = 1:length(dfs)\n",
    "        dfs[i] = subset(dfs[i], dfs[i].userid .∈ (valid_userids,))\n",
    "    end\n",
    "end;"
   ]
  },
  {
   "cell_type": "code",
   "execution_count": null,
   "id": "ed649210-83c9-49ea-b165-e69fff432224",
   "metadata": {},
   "outputs": [],
   "source": [
    "function get_max_valid_ts(dataset)\n",
    "    maxunixtime = parse(\n",
    "        Float64, \n",
    "        first(read_csv(get_data_path(\"processed_data/$dataset.timestamps.csv\")).max_ts),\n",
    "    )\n",
    "    (maxunixtime - MIN_TS) / (MAX_TS - MIN_TS)\n",
    "end;"
   ]
  },
  {
   "cell_type": "code",
   "execution_count": null,
   "id": "36be4005-0e2e-45d8-b64c-43bd584879c3",
   "metadata": {
    "editable": true,
    "slideshow": {
     "slide_type": ""
    },
    "tags": []
   },
   "outputs": [],
   "source": [
    "function create_splits!(dfs, ts_cutoff, max_output_items, output_newest)\n",
    "    input_dfs = Vector{eltype(dfs)}(undef, length(dfs))\n",
    "    output_dfs = Vector{eltype(dfs)}(undef, length(dfs))\n",
    "    @showprogress Threads.@threads for t = 1:length(dfs)\n",
    "        df = dfs[t]\n",
    "        df = subset(df, sortperm(collect(zip(df.userid, df.updated_at, df.update_order))))\n",
    "        userid = nothing\n",
    "        order = 1:length(df.userid) |> (output_newest ? reverse : identity)\n",
    "        num_output = [0 for _ in MEDIUM_MAP]\n",
    "        input_mask = BitArray([false for _ = 1:length(df.userid)])\n",
    "        output_mask = BitArray([false for _ = 1:length(df.userid)])\n",
    "        for i in order\n",
    "            if userid != df.userid[i]\n",
    "                userid = df.userid[i]\n",
    "                num_output .= 0\n",
    "            end\n",
    "            if (df.updated_at[i] > ts_cutoff) &&\n",
    "               (num_output[df.medium[i]+1] < max_output_items)\n",
    "                num_output[df.medium[i]+1] += 1\n",
    "                output_mask[i] = true\n",
    "            end\n",
    "            if output_newest\n",
    "                input_mask[i] = !output_mask[i]\n",
    "            else\n",
    "                input_mask[i] = df.updated_at[i] <= ts_cutoff\n",
    "            end\n",
    "        end\n",
    "        input_dfs[t] = subset(df, input_mask)\n",
    "        output_dfs[t] = subset(df, output_mask)\n",
    "        dfs[t] = RatingsDataset([[] for _ in fieldnames(RatingsDataset)]...) # free memory\n",
    "    end\n",
    "    input_dfs, output_dfs\n",
    "end;"
   ]
  },
  {
   "cell_type": "code",
   "execution_count": null,
   "id": "561e1602-73cd-4f1f-a221-e9980489a20b",
   "metadata": {
    "editable": true,
    "slideshow": {
     "slide_type": ""
    },
    "tags": []
   },
   "outputs": [],
   "source": [
    "function filter_input!(input_dfs, output_dfs)\n",
    "    valid_userids = union([Set(df.userid) for df in output_dfs]...)\n",
    "    @showprogress Threads.@threads for i = 1:length(input_dfs)\n",
    "        input_dfs[i] = subset(input_dfs[i], input_dfs[i].userid .∈ (valid_userids,))\n",
    "    end\n",
    "end;"
   ]
  },
  {
   "cell_type": "code",
   "execution_count": null,
   "id": "53c18334-5850-4ee3-b111-5b1b8fda526e",
   "metadata": {
    "editable": true,
    "scrolled": true,
    "slideshow": {
     "slide_type": ""
    },
    "tags": []
   },
   "outputs": [],
   "source": [
    "function relabel_userids!(train_dfs, test_input_dfs, test_output_dfs, dataset)\n",
    "    datasets = [train_dfs, test_input_dfs, test_output_dfs]\n",
    "    userids = union([Set(df.userid) for dfs in datasets for df in dfs]...)\n",
    "    userids = Random.shuffle(sort(collect(userids)))\n",
    "    userid_map = Dict(u => i for (i, u) in Iterators.enumerate(userids))\n",
    "    CSV.write(\n",
    "        get_data_path(\"processed_data/$dataset.relabel_userid_map.csv\"),\n",
    "        DataFrames.DataFrame([(k, v) for (k, v) in userid_map], [:username, :userid]),\n",
    "    )\n",
    "    for dfs in datasets\n",
    "        @showprogress Threads.@threads for i = 1:length(dfs)\n",
    "            dfs[i].userid .= dfs[i].userid .|> x -> get(userid_map, x, 0)\n",
    "            dfs[i] = subset(dfs[i], dfs[i].userid .!= 0)\n",
    "        end\n",
    "    end\n",
    "end;"
   ]
  },
  {
   "cell_type": "code",
   "execution_count": null,
   "id": "0d3aa15a-fd4c-45dd-83f8-2cca2401f4a6",
   "metadata": {
    "editable": true,
    "slideshow": {
     "slide_type": ""
    },
    "tags": []
   },
   "outputs": [],
   "source": [
    "function save(dfs::Vector{RatingsDataset}, outdir::String)\n",
    "    medium = vcat([getfield(x, :medium) for x in dfs]...)\n",
    "    @showprogress for c in fieldnames(RatingsDataset)\n",
    "        x = vcat([getfield(x, c) for x in dfs]...)\n",
    "        d = Dict(m => x[medium.==MEDIUM_MAP[m]] for m in keys(MEDIUM_MAP))\n",
    "        fn = \"$outdir/$(string(c)).jld2\"\n",
    "        JLD2.save(fn, d; compress = false)\n",
    "    end\n",
    "end;"
   ]
  },
  {
   "cell_type": "code",
   "execution_count": null,
   "id": "bd791916-64a7-4097-9160-80d1acbbb3da",
   "metadata": {
    "editable": true,
    "slideshow": {
     "slide_type": ""
    },
    "tags": []
   },
   "outputs": [],
   "source": [
    "function save_dataset(train_dfs, test_input_dfs, test_output_dfs, dataset)\n",
    "    outdir = get_data_path(\"splits/$dataset\")\n",
    "    if !ispath(outdir)\n",
    "        mkpath(outdir)\n",
    "    end\n",
    "    for (dfs, name) in zip(\n",
    "        [train_dfs, test_input_dfs, test_output_dfs],\n",
    "        [\"train\", \"test_input\", \"test_output\"],\n",
    "    )\n",
    "        save(dfs, \"$outdir/$name\")\n",
    "    end\n",
    "end;"
   ]
  }
 ],
 "metadata": {
  "kernelspec": {
   "display_name": "Julia 1.10.2",
   "language": "julia",
   "name": "julia-1.10"
  },
  "language_info": {
   "file_extension": ".jl",
   "mimetype": "application/julia",
   "name": "julia",
   "version": "1.10.2"
  }
 },
 "nbformat": 4,
 "nbformat_minor": 5
}
