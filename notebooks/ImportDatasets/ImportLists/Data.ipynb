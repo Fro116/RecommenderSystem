{
 "cells": [
  {
   "cell_type": "code",
   "execution_count": null,
   "id": "da8e7b50-c7f4-4f46-9aea-e3193e09f431",
   "metadata": {},
   "outputs": [],
   "source": [
    "import JupyterFormatter\n",
    "JupyterFormatter.enable_autoformat();"
   ]
  },
  {
   "cell_type": "code",
   "execution_count": null,
   "id": "4bf20b0e-1017-4ec3-9d39-55b61688f2e8",
   "metadata": {},
   "outputs": [],
   "source": [
    "import Glob\n",
    "import JLD2\n",
    "import ProgressMeter: @showprogress, next!"
   ]
  },
  {
   "cell_type": "code",
   "execution_count": null,
   "id": "34c9c6be-fa91-4f20-b220-415b1c978404",
   "metadata": {
    "editable": true,
    "slideshow": {
     "slide_type": ""
    },
    "tags": []
   },
   "outputs": [],
   "source": [
    "include(\"import_lists.jl\");"
   ]
  },
  {
   "cell_type": "code",
   "execution_count": null,
   "id": "19a8e4a0-c88f-4e01-b3c3-99770d6c3f84",
   "metadata": {},
   "outputs": [],
   "source": [
    "function load_datasets(source_dir)\n",
    "    anime_files = sort(Glob.glob(\"$(source_dir)/*user_anime_list*jld2\", get_data_path(\"\")))\n",
    "    manga_files = sort(Glob.glob(\"$(source_dir)/*user_manga_list*jld2\", get_data_path(\"\")))\n",
    "    files = collect(zip(anime_files, manga_files))\n",
    "    for (a, m) in files\n",
    "        @assert replace(a, \"user_anime_list\" => \"user_manga_list\") == m\n",
    "    end\n",
    "    dfs = Vector{RatingsDataset}(undef, length(files))\n",
    "    @showprogress Threads.@threads for i = 1:length(dfs)\n",
    "        dfs[i] = reduce(cat, [JLD2.load(f, \"data\") for f in files[i]])\n",
    "    end\n",
    "    dfs\n",
    "end;"
   ]
  },
  {
   "cell_type": "code",
   "execution_count": null,
   "id": "53c18334-5850-4ee3-b111-5b1b8fda526e",
   "metadata": {
    "scrolled": true
   },
   "outputs": [],
   "source": [
    "function relabel_userids!(dfs)\n",
    "    userid_df = read_csv(get_data_path(\"processed_data/relabel_userid_map.csv\"))\n",
    "    userid_map = Dict(\n",
    "        parse(Int32, u) => parse(Int32, i) for\n",
    "        (u, i) in zip(userid_df.username, userid_df.userid)\n",
    "    )\n",
    "    @showprogress Threads.@threads for i = 1:length(dfs)\n",
    "        dfs[i].userid .= dfs[i].userid .|> x -> get(userid_map, x, 0)\n",
    "        dfs[i] = subset(dfs[i], dfs[i].userid .!= 0)\n",
    "    end\n",
    "end;"
   ]
  },
  {
   "cell_type": "code",
   "execution_count": null,
   "id": "ed649210-83c9-49ea-b165-e69fff432224",
   "metadata": {},
   "outputs": [],
   "source": [
    "function get_max_valid_ts(name)\n",
    "    files = Glob.glob(\n",
    "        \"raw_$(name)_data/*/user_media_facts/user_status.*.csv\",\n",
    "        get_data_path(\"\"),\n",
    "    )\n",
    "    maxunixtime =\n",
    "        maximum([maximum(parse.(Int64, read_csv(f).access_timestamp)) for f in files])\n",
    "    (maxunixtime - MIN_TS) / (MAX_TS - MIN_TS)\n",
    "end;"
   ]
  },
  {
   "cell_type": "code",
   "execution_count": null,
   "id": "0d3aa15a-fd4c-45dd-83f8-2cca2401f4a6",
   "metadata": {},
   "outputs": [],
   "source": [
    "function save(dfs::Vector{RatingsDataset}, filepath::String)\n",
    "    medium = vcat([getfield(x, :medium) for x in dfs]...)\n",
    "    @showprogress for c in fieldnames(RatingsDataset)\n",
    "        x = vcat([getfield(x, c) for x in dfs]...)\n",
    "        d = Dict(m => x[medium.==MEDIUM_MAP[m]] for m in keys(MEDIUM_MAP))\n",
    "        fn = filepath * string(c) * \".jld2\"\n",
    "        JLD2.save(fn, d; compress = false)\n",
    "    end\n",
    "end;"
   ]
  },
  {
   "cell_type": "code",
   "execution_count": null,
   "id": "bd791916-64a7-4097-9160-80d1acbbb3da",
   "metadata": {},
   "outputs": [],
   "source": [
    "function save_splits(train_dfs, val_dfs, name)\n",
    "    outdir = get_data_path(\"splits\")\n",
    "    if !ispath(outdir)\n",
    "        mkpath(outdir)\n",
    "    end\n",
    "    save(train_dfs, \"$outdir/$name.train.\")\n",
    "    save(val_dfs, \"$outdir/$name.test.\")\n",
    "end;"
   ]
  }
 ],
 "metadata": {
  "kernelspec": {
   "display_name": "Julia 1.10.2",
   "language": "julia",
   "name": "julia-1.10"
  },
  "language_info": {
   "file_extension": ".jl",
   "mimetype": "application/julia",
   "name": "julia",
   "version": "1.10.2"
  }
 },
 "nbformat": 4,
 "nbformat_minor": 5
}
