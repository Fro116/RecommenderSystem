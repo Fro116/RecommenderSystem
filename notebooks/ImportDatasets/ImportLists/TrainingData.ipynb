{
 "cells": [
  {
   "cell_type": "code",
   "execution_count": null,
   "id": "da8e7b50-c7f4-4f46-9aea-e3193e09f431",
   "metadata": {},
   "outputs": [],
   "source": [
    "import JupyterFormatter\n",
    "JupyterFormatter.enable_autoformat();"
   ]
  },
  {
   "cell_type": "code",
   "execution_count": null,
   "id": "4bf20b0e-1017-4ec3-9d39-55b61688f2e8",
   "metadata": {},
   "outputs": [],
   "source": [
    "import Glob\n",
    "import JLD2\n",
    "import ProgressMeter: @showprogress, next!\n",
    "import Random\n",
    "import SHA\n",
    "import StatsBase"
   ]
  },
  {
   "cell_type": "code",
   "execution_count": null,
   "id": "34c9c6be-fa91-4f20-b220-415b1c978404",
   "metadata": {
    "editable": true,
    "slideshow": {
     "slide_type": ""
    },
    "tags": []
   },
   "outputs": [],
   "source": [
    "include(\"import_lists.jl\");"
   ]
  },
  {
   "cell_type": "code",
   "execution_count": null,
   "id": "ea465c77-a3ae-4412-b897-715c0dde43ed",
   "metadata": {},
   "outputs": [],
   "source": [
    "const MIN_ITEMS = 5;\n",
    "const MAX_VALIDATION_DAYS = 7\n",
    "const MAX_VALIDATION_ITEMS = 5\n",
    "const VALIDATION_USER_FRAC = 0.01;"
   ]
  },
  {
   "cell_type": "code",
   "execution_count": null,
   "id": "19a8e4a0-c88f-4e01-b3c3-99770d6c3f84",
   "metadata": {},
   "outputs": [],
   "source": [
    "function load_datasets()\n",
    "    anime_files = sort(Glob.glob(\"training_data/*user_anime_list*jld2\", get_data_path(\"\")))\n",
    "    manga_files = sort(Glob.glob(\"training_data/*user_manga_list*jld2\", get_data_path(\"\")))\n",
    "    files = collect(zip(anime_files, manga_files))\n",
    "    for (a, m) in files\n",
    "        @assert replace(a, \"user_anime_list\" => \"user_manga_list\") == m\n",
    "    end\n",
    "    dfs = Vector{RatingsDataset}(undef, length(files))\n",
    "    @showprogress Threads.@threads for i = 1:length(dfs)\n",
    "        dfs[i] = reduce(cat, [JLD2.load(f, \"data\") for f in files[i]])\n",
    "    end\n",
    "    dfs\n",
    "end;"
   ]
  },
  {
   "cell_type": "code",
   "execution_count": null,
   "id": "d381d6b3-e77c-43fd-a498-ae17862b8ca6",
   "metadata": {},
   "outputs": [],
   "source": [
    "function drop_sparse_users!(dfs)\n",
    "    user_counts = Dict()\n",
    "    @showprogress for df in dfs\n",
    "        for (k, v) in StatsBase.countmap(df.userid)\n",
    "            @assert k ∉ keys(user_counts)\n",
    "            user_counts[k] = v\n",
    "        end\n",
    "    end\n",
    "    valid_userids = Set(k for (k, v) in user_counts if v >= MIN_ITEMS)\n",
    "\n",
    "    @showprogress Threads.@threads for i = 1:length(dfs)\n",
    "        dfs[i] = subset(dfs[i], dfs[i].userid .∈ (valid_userids,))\n",
    "    end\n",
    "end;"
   ]
  },
  {
   "cell_type": "code",
   "execution_count": null,
   "id": "53c18334-5850-4ee3-b111-5b1b8fda526e",
   "metadata": {
    "scrolled": true
   },
   "outputs": [],
   "source": [
    "function relabel_userids!(dfs)\n",
    "    userids = Int32[]\n",
    "    @showprogress for df in dfs\n",
    "        for k in Set(df.userid)\n",
    "            push!(userids, k)\n",
    "        end\n",
    "    end\n",
    "    @assert length(userids) == length(Set(userids))\n",
    "    sort!(userids)\n",
    "    hash = SHA.sha256(reinterpret(UInt8, userids))\n",
    "    Random.seed!(first(reinterpret(UInt64, hash)))\n",
    "    Random.shuffle!(userids)\n",
    "    userid_map = Dict(u => i for (i, u) in Iterators.enumerate(userids))\n",
    "    CSV.write(\n",
    "        get_data_path(\"processed_data/relabel_userid_map.csv\"),\n",
    "        DataFrames.DataFrame([(k, v) for (k, v) in userid_map], [:username, :userid]),\n",
    "    )\n",
    "    @showprogress Threads.@threads for i = 1:length(dfs)\n",
    "        dfs[i].userid .= dfs[i].userid .|> x -> userid_map[x]\n",
    "    end\n",
    "end;"
   ]
  },
  {
   "cell_type": "code",
   "execution_count": null,
   "id": "284f7f1c-632d-467d-8aaa-4e0a24ef30f5",
   "metadata": {},
   "outputs": [],
   "source": [
    "function create_splits!(dfs)\n",
    "    userid_map = read_csv(get_data_path(\"processed_data/relabel_userid_map.csv\"))\n",
    "    users = userid_map.userid .|> x -> parse(Int32, x)\n",
    "    validation_users = Set(\n",
    "        StatsBase.sample(\n",
    "            users,\n",
    "            round(Int, length(users) * VALIDATION_USER_FRAC),\n",
    "            replace = false,\n",
    "        ),\n",
    "    )\n",
    "\n",
    "    train_dfs = Vector{eltype(dfs)}(undef, length(dfs))\n",
    "    val_dfs = Vector{eltype(dfs)}(undef, length(dfs))\n",
    "    @showprogress Threads.@threads for t = 1:length(dfs)\n",
    "        df = dfs[t]\n",
    "        df = subset(df, sortperm(collect(zip(df.userid, df.updated_at, df.update_order))))\n",
    "        ts_cutoff = 1 - (24 * 60 * 60 * MAX_VALIDATION_DAYS) / (MAX_TS - MIN_TS)\n",
    "        userid = nothing\n",
    "        num_val = [0 for _ in MEDIUM_MAP]\n",
    "        val_mask = BitArray([false for _ = 1:length(df.userid)])\n",
    "        for i in reverse(1:length(df.userid))\n",
    "            if userid != df.userid[i]\n",
    "                userid = df.userid[i]\n",
    "                num_val .= 0\n",
    "            end\n",
    "            if (df.userid[i] in validation_users) &&\n",
    "               (df.updated_at[i] > ts_cutoff) &&\n",
    "               (num_val[df.medium[i]+1] < MAX_VALIDATION_ITEMS)\n",
    "                num_val[df.medium[i]+1] += 1\n",
    "                val_mask[i] = true\n",
    "            end\n",
    "        end\n",
    "        train_dfs[t] = subset(df, .!val_mask)\n",
    "        val_dfs[t] = subset(df, val_mask)\n",
    "        dfs[t] = RatingsDataset([[] for _ in fieldnames(RatingsDataset)]...) # free memory\n",
    "    end\n",
    "    train_dfs, val_dfs\n",
    "end;"
   ]
  },
  {
   "cell_type": "code",
   "execution_count": null,
   "id": "0d3aa15a-fd4c-45dd-83f8-2cca2401f4a6",
   "metadata": {},
   "outputs": [],
   "source": [
    "function save(dfs::Vector{RatingsDataset}, filepath::String)\n",
    "    @showprogress for c in fieldnames(RatingsDataset)\n",
    "        x = vcat([getfield(x, c) for x in dfs]...)\n",
    "        fn = filepath * string(c) * \".jld2\"\n",
    "        JLD2.save(fn, Dict(\"data\" => x); compress = false)\n",
    "    end\n",
    "end;"
   ]
  },
  {
   "cell_type": "code",
   "execution_count": null,
   "id": "bd791916-64a7-4097-9160-80d1acbbb3da",
   "metadata": {},
   "outputs": [],
   "source": [
    "function save_splits(train_dfs, val_dfs)\n",
    "    outdir = get_data_path(\"splits\")\n",
    "    if !ispath(outdir)\n",
    "        mkpath(outdir)\n",
    "    end\n",
    "    save(train_dfs, \"$outdir/training.\")\n",
    "    save(val_dfs, \"$outdir/validation.\")\n",
    "    rm(get_data_path(\"training_data\"), recursive = true)\n",
    "end;"
   ]
  },
  {
   "cell_type": "code",
   "execution_count": null,
   "id": "f1a5c194-456c-468a-a0b0-f77ed63be8f4",
   "metadata": {},
   "outputs": [],
   "source": [
    "dfs = load_datasets();"
   ]
  },
  {
   "cell_type": "code",
   "execution_count": null,
   "id": "b1cdf9cb-0e2f-49f5-83af-f1d1124f133f",
   "metadata": {},
   "outputs": [],
   "source": [
    "drop_sparse_users!(dfs);"
   ]
  },
  {
   "cell_type": "code",
   "execution_count": null,
   "id": "23d1ff72-4285-41b7-973a-46f57255e5d1",
   "metadata": {},
   "outputs": [],
   "source": [
    "relabel_userids!(dfs);"
   ]
  },
  {
   "cell_type": "code",
   "execution_count": null,
   "id": "971a51e8-d383-422d-937c-bcc8d6d6e600",
   "metadata": {},
   "outputs": [],
   "source": [
    "train_dfs, val_dfs = create_splits!(dfs);"
   ]
  },
  {
   "cell_type": "code",
   "execution_count": null,
   "id": "9cf88aa4-7b26-4a90-87df-e9e48ebeff7c",
   "metadata": {},
   "outputs": [],
   "source": [
    "save_splits(train_dfs, val_dfs);"
   ]
  }
 ],
 "metadata": {
  "kernelspec": {
   "display_name": "Julia 1.10.2",
   "language": "julia",
   "name": "julia-1.10"
  },
  "language_info": {
   "file_extension": ".jl",
   "mimetype": "application/julia",
   "name": "julia",
   "version": "1.10.2"
  }
 },
 "nbformat": 4,
 "nbformat_minor": 5
}
