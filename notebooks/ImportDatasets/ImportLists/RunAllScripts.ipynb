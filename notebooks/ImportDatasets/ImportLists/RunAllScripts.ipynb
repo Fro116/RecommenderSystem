{
 "cells": [
  {
   "cell_type": "markdown",
   "id": "8bdac8f1-c6cb-4e63-8661-de9323573641",
   "metadata": {
    "editable": true,
    "slideshow": {
     "slide_type": ""
    },
    "tags": []
   },
   "source": [
    "# Import Lists\n",
    "* Parses media lists from different websites and converts them into a unified format"
   ]
  },
  {
   "cell_type": "code",
   "execution_count": null,
   "id": "7df9b9d0-f4e3-4db9-b67d-799c100e8ab9",
   "metadata": {},
   "outputs": [],
   "source": [
    "import glob\n",
    "import os\n",
    "import shutil\n",
    "import subprocess\n",
    "import time\n",
    "\n",
    "import papermill as pm"
   ]
  },
  {
   "cell_type": "code",
   "execution_count": null,
   "id": "0162aac0-a1a6-4a99-8378-49bdbeb4f158",
   "metadata": {
    "editable": true,
    "slideshow": {
     "slide_type": ""
    },
    "tags": []
   },
   "outputs": [],
   "source": [
    "data_path = \"../../../data/papermill/import_datasets/import_lists\"\n",
    "if not os.path.exists(data_path):\n",
    "    os.makedirs(data_path, exist_ok=True)\n",
    "\n",
    "\n",
    "def run_background_notebook(input, output, parameters):\n",
    "    cmdlist = [\n",
    "        \"papermill\",\n",
    "        input,\n",
    "        output,\n",
    "    ]\n",
    "    for k, v in parameters.items():\n",
    "        cmdlist += [\"-p\", k, str(v)]\n",
    "    return subprocess.Popen(\n",
    "        cmdlist, stdout=subprocess.DEVNULL, stderr=subprocess.DEVNULL\n",
    "    )\n",
    "\n",
    "\n",
    "def run_notebook(input, output=None, parameters=None, background=False):\n",
    "    if output is None:\n",
    "        output = input\n",
    "    output = os.path.join(data_path, output)\n",
    "    parameters = parameters if parameters is not None else dict()\n",
    "    if background:\n",
    "        return run_background_notebook(input, output, parameters)\n",
    "    else:\n",
    "        return pm.execute_notebook(input, output, parameters=parameters)"
   ]
  },
  {
   "cell_type": "code",
   "execution_count": null,
   "id": "87c0128f-ea23-4564-a0a3-41432e89fe4d",
   "metadata": {
    "editable": true,
    "slideshow": {
     "slide_type": ""
    },
    "tags": []
   },
   "outputs": [],
   "source": [
    "# process user lists in parallel\n",
    "NUM_PARTS = 16\n",
    "start_time = time.time()\n",
    "print(f\"spawning {NUM_PARTS} processes\")\n",
    "procs = []\n",
    "for part in range(NUM_PARTS):\n",
    "    time.sleep(1)\n",
    "    procs.append(\n",
    "        run_notebook(\n",
    "            \"ImportLists.ipynb\",\n",
    "            output=f\"ImportLists.{part}.ipynb\",\n",
    "            parameters={\"PART\": part, \"NUM_PARTS\": NUM_PARTS},\n",
    "            background=True,\n",
    "        )\n",
    "    )\n",
    "for p in procs:\n",
    "    p.wait()\n",
    "    if p.returncode != 0:\n",
    "        raise subprocess.CalledProcessError(p.returncode, p.args)\n",
    "print(f\"processes finished in {int(round(time.time() - start_time))} seconds\")"
   ]
  },
  {
   "cell_type": "code",
   "execution_count": null,
   "id": "663bf312-3618-46b1-acb4-70dd4eaadd5c",
   "metadata": {},
   "outputs": [],
   "source": [
    "run_notebook(\"TrainingData.ipynb\");"
   ]
  },
  {
   "cell_type": "code",
   "execution_count": null,
   "id": "89d2b88f-2e8f-4dd6-bfbf-0ee0bc21ae8b",
   "metadata": {},
   "outputs": [],
   "source": [
    "# TODO sreaming and test data"
   ]
  }
 ],
 "metadata": {
  "kernelspec": {
   "display_name": "Python 3 (ipykernel)",
   "language": "python",
   "name": "python3"
  },
  "language_info": {
   "codemirror_mode": {
    "name": "ipython",
    "version": 3
   },
   "file_extension": ".py",
   "mimetype": "text/x-python",
   "name": "python",
   "nbconvert_exporter": "python",
   "pygments_lexer": "ipython3",
   "version": "3.10.12"
  }
 },
 "nbformat": 4,
 "nbformat_minor": 5
}
