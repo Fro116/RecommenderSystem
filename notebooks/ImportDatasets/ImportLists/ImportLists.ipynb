{
 "cells": [
  {
   "cell_type": "code",
   "execution_count": null,
   "id": "da8e7b50-c7f4-4f46-9aea-e3193e09f431",
   "metadata": {},
   "outputs": [],
   "source": [
    "import JupyterFormatter\n",
    "JupyterFormatter.enable_autoformat();"
   ]
  },
  {
   "cell_type": "code",
   "execution_count": null,
   "id": "4bf20b0e-1017-4ec3-9d39-55b61688f2e8",
   "metadata": {},
   "outputs": [],
   "source": [
    "import Glob\n",
    "import JLD2\n",
    "import ProgressMeter: @showprogress"
   ]
  },
  {
   "cell_type": "code",
   "execution_count": null,
   "id": "ed4e468e-9a5e-4531-a954-2a7d9d86ca0a",
   "metadata": {
    "editable": true,
    "slideshow": {
     "slide_type": ""
    },
    "tags": [
     "parameters"
    ]
   },
   "outputs": [],
   "source": [
    "PART = 0\n",
    "NUM_PARTS = 1\n",
    "SPLIT = \"\""
   ]
  },
  {
   "cell_type": "code",
   "execution_count": null,
   "id": "34c9c6be-fa91-4f20-b220-415b1c978404",
   "metadata": {
    "editable": true,
    "slideshow": {
     "slide_type": ""
    },
    "tags": []
   },
   "outputs": [],
   "source": [
    "include(\"import_lists.jl\");"
   ]
  },
  {
   "cell_type": "code",
   "execution_count": null,
   "id": "56db8f59-dd89-4f29-b509-5f02910d92cb",
   "metadata": {},
   "outputs": [],
   "source": [
    "function get_userid_map()\n",
    "    df = read_csv(get_data_path(\"processed_data/userid_map.csv\"))\n",
    "    df[!, :userid] = parse.(Int32, df.userid)\n",
    "    ret = Dict{String,Dict{String,Int32}}(s => Dict() for s in Set(df.source))\n",
    "    @showprogress for (s, username, userid) in zip(df.source, df.username, df.userid)\n",
    "        ret[s][username] = userid\n",
    "    end\n",
    "    ret\n",
    "end;"
   ]
  },
  {
   "cell_type": "code",
   "execution_count": null,
   "id": "3bb8e62a-981f-4350-a69e-d96042a2e764",
   "metadata": {},
   "outputs": [],
   "source": [
    "function get_max_valid_ts(f)\n",
    "    files = Glob.glob(\"raw_$(f)/*/user_media_facts/user_status.*.csv\", get_data_path(\"\"))\n",
    "    max_valid_ts =\n",
    "        maximum([maximum(parse.(Int64, read_csv(f).access_timestamp)) for f in files])\n",
    "    @assert max_valid_ts <= Dates.datetime2unix(Dates.now())\n",
    "    max_valid_ts\n",
    "end;"
   ]
  },
  {
   "cell_type": "code",
   "execution_count": null,
   "id": "a757d03d-79e2-4813-8045-d18b10c49dc6",
   "metadata": {},
   "outputs": [],
   "source": [
    "function import_lists(sourcedir, outdir, userid_map, max_valid_ts)\n",
    "    if !ispath(outdir)\n",
    "        mkpath(outdir)\n",
    "    end\n",
    "    for m in [\"manga\", \"anime\"]\n",
    "        for s in [\"mal\", \"anilist\", \"kitsu\", \"animeplanet\"]\n",
    "            files = Glob.glob(\"$s/user_media_facts/user_$(m)_list.*.csv\", sourcedir)\n",
    "            files =\n",
    "                [x for (i, x) in Iterators.enumerate(sort(files)) if i % NUM_PARTS == PART]\n",
    "            @showprogress for f in files\n",
    "                stem = basename(f)[1:end-length(\".csv\")]\n",
    "                fn = \"$outdir/$s.$stem.jld2\"\n",
    "                df = Dict(\n",
    "                    \"data\" =>\n",
    "                        import_list(m, s, userid_map[s], max_valid_ts, read_csv(f)),\n",
    "                )\n",
    "                JLD2.save(fn, df; compress = false)\n",
    "            end\n",
    "        end\n",
    "    end\n",
    "end;"
   ]
  },
  {
   "cell_type": "code",
   "execution_count": null,
   "id": "6452048b-3331-4883-9fff-850f58bed194",
   "metadata": {},
   "outputs": [],
   "source": [
    "const USERID_MAP = get_userid_map();\n",
    "f = \"$(SPLIT)_data\"\n",
    "if ispath(get_data_path(\"raw_$(f)\"))\n",
    "    import_lists(\n",
    "        get_data_path(\"raw_$(f)\"),\n",
    "        get_data_path(f),\n",
    "        USERID_MAP,\n",
    "        get_max_valid_ts(f),\n",
    "    )\n",
    "end"
   ]
  }
 ],
 "metadata": {
  "kernelspec": {
   "display_name": "Julia 1.10.2",
   "language": "julia",
   "name": "julia-1.10"
  },
  "language_info": {
   "file_extension": ".jl",
   "mimetype": "application/julia",
   "name": "julia",
   "version": "1.10.2"
  }
 },
 "nbformat": 4,
 "nbformat_minor": 5
}
