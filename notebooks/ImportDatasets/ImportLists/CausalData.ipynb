{
 "cells": [
  {
   "cell_type": "code",
   "execution_count": null,
   "id": "da8e7b50-c7f4-4f46-9aea-e3193e09f431",
   "metadata": {},
   "outputs": [],
   "source": [
    "import JupyterFormatter\n",
    "JupyterFormatter.enable_autoformat();"
   ]
  },
  {
   "cell_type": "code",
   "execution_count": null,
   "id": "9543d703-da7d-44bb-acdc-50b157aca4df",
   "metadata": {},
   "outputs": [],
   "source": [
    "import NBInclude: @nbinclude\n",
    "@nbinclude(\"Data.ipynb\");"
   ]
  },
  {
   "cell_type": "code",
   "execution_count": null,
   "id": "b90f96f3-ee80-493e-838b-02366111ab69",
   "metadata": {},
   "outputs": [],
   "source": [
    "const CUTOFF_ITEMS = 5\n",
    "const CUTOFF_DAYS = 14"
   ]
  },
  {
   "cell_type": "code",
   "execution_count": null,
   "id": "36555606-b33d-43ab-a0a3-8d3625f7bb18",
   "metadata": {},
   "outputs": [],
   "source": [
    "function get_update_map(fn)\n",
    "    dfs = load_datasets(fn)\n",
    "    update_maps = [Dict{Int32,Float64}() for _ = 1:length(dfs)]\n",
    "    @showprogress Threads.@threads for i = 1:length(dfs)\n",
    "        df = dfs[i]\n",
    "        update_map = update_maps[i]\n",
    "        for (u, t) in zip(df.userid, df.updated_at)\n",
    "            if u ∉ keys(update_map)\n",
    "                update_map[u] = 0\n",
    "            end\n",
    "            update_map[u] = max(update_map[u], t)\n",
    "        end\n",
    "        update_maps[i] = update_map\n",
    "    end\n",
    "    merge(update_maps...)\n",
    "end;"
   ]
  },
  {
   "cell_type": "code",
   "execution_count": null,
   "id": "da887495-339f-4d8d-9f91-df73a362e1d5",
   "metadata": {},
   "outputs": [],
   "source": [
    "function get_valid_users()\n",
    "    test_map = get_update_map(\"test_data\")\n",
    "    streaming_map = get_update_map(\"streaming_data\")\n",
    "    valid_users = Set{Int32}()\n",
    "    @showprogress for x in keys(streaming_map)\n",
    "        if get(test_map, x, 0) > streaming_map[x]\n",
    "            push!(valid_users, x)\n",
    "        end\n",
    "    end\n",
    "    valid_users\n",
    "end;"
   ]
  },
  {
   "cell_type": "code",
   "execution_count": null,
   "id": "0ab6fa59-5a5d-4f72-986f-f7a5ebee2789",
   "metadata": {},
   "outputs": [],
   "source": [
    "function filter_users(fn, valid_userids)\n",
    "    dfs = load_datasets(fn)\n",
    "    @showprogress Threads.@threads for i = 1:length(dfs)\n",
    "        dfs[i] = subset(dfs[i], dfs[i].userid .∈ (valid_userids,))\n",
    "    end\n",
    "    dfs\n",
    "end;"
   ]
  },
  {
   "cell_type": "code",
   "execution_count": null,
   "id": "8c8a892e-5c1d-4f71-8d38-e090b940632b",
   "metadata": {},
   "outputs": [],
   "source": [
    "function filter_time!(dfs)\n",
    "    streaming_map = get_update_map(\"streaming_data\")\n",
    "    @showprogress Threads.@threads for i = 1:length(dfs)\n",
    "        df = dfs[i]\n",
    "        mask = [t > streaming_map[u] for (t, u) in zip(df.updated_at, df.userid)]\n",
    "        dfs[i] = subset(df, mask)\n",
    "    end\n",
    "end;"
   ]
  },
  {
   "cell_type": "code",
   "execution_count": null,
   "id": "ee081912-b2e7-4f13-a2b4-0f087188908a",
   "metadata": {},
   "outputs": [],
   "source": [
    "function filter_duplicates!(train_dfs, test_dfs)\n",
    "    seen_items = Dict()\n",
    "    for df in train_dfs\n",
    "        for u in Set(df.userid)\n",
    "            seen_items[u] = Set()\n",
    "        end\n",
    "    end\n",
    "    for df in train_dfs\n",
    "        for (s, u, i) in zip(df.status, df.userid, df.itemid)\n",
    "            if s != STATUS_MAP[\"planned\"]\n",
    "                push!(seen_items[u], i)\n",
    "            end\n",
    "        end\n",
    "    end\n",
    "    @showprogress Threads.@threads for i = 1:length(test_dfs)\n",
    "        df = test_dfs[i]\n",
    "        mask = [a ∉ seen_items[u] for (u, a) in zip(df.userid, df.itemid)]\n",
    "        test_dfs[i] = subset(df, mask)\n",
    "    end\n",
    "end;"
   ]
  },
  {
   "cell_type": "code",
   "execution_count": null,
   "id": "28de16ad-7ccc-46a7-9871-16fad335c7e5",
   "metadata": {},
   "outputs": [],
   "source": [
    "function filter_count!(dfs, cutoff_items)\n",
    "    @showprogress Threads.@threads for t = 1:length(dfs)\n",
    "        df = dfs[t]\n",
    "        df = subset(df, sortperm(collect(zip(df.userid, df.updated_at, df.update_order))))\n",
    "        userid = nothing\n",
    "        num_val = [0 for _ in MEDIUM_MAP]\n",
    "        val_mask = [false for _ = 1:length(df.userid)]\n",
    "        for i in reverse(1:length(df.userid))\n",
    "            if userid != df.userid[i]\n",
    "                userid = df.userid[i]\n",
    "                num_val .= 0\n",
    "            end\n",
    "            if (num_val[df.medium[i]+1] < cutoff_items)\n",
    "                num_val[df.medium[i]+1] += 1\n",
    "                val_mask[i] = true\n",
    "            end\n",
    "        end\n",
    "        dfs[t] = subset(df, val_mask)\n",
    "    end\n",
    "end;"
   ]
  },
  {
   "cell_type": "code",
   "execution_count": null,
   "id": "b36de8c9-ebee-4cd8-a3c1-d6b260e277dd",
   "metadata": {},
   "outputs": [],
   "source": [
    "function filter_recent!(dfs, max_valid_ts, cutoff_days)\n",
    "    update_maps = [Dict{Int32,Float64}() for _ = 1:length(dfs)]\n",
    "    @showprogress Threads.@threads for i = 1:length(dfs)\n",
    "        df = dfs[i]\n",
    "        update_map = update_maps[i]\n",
    "        for (u, t) in zip(df.userid, df.updated_at)\n",
    "            if u ∉ keys(update_map)\n",
    "                update_map[u] = Inf\n",
    "            end\n",
    "            update_map[u] = min(update_map[u], t)\n",
    "        end\n",
    "        update_maps[i] = update_map\n",
    "    end\n",
    "    ts_cutoff = max_valid_ts - (24 * 60 * 60 * cutoff_days) / (MAX_TS - MIN_TS)\n",
    "    valid_userids = Set()\n",
    "    for map in update_maps\n",
    "        for (u, t) in map\n",
    "            if t >= ts_cutoff\n",
    "                push!(valid_userids, u)\n",
    "            end\n",
    "        end\n",
    "    end\n",
    "    @showprogress Threads.@threads for i = 1:length(dfs)\n",
    "        dfs[i] = subset(dfs[i], dfs[i].userid .∈ (valid_userids,))\n",
    "    end\n",
    "end;"
   ]
  },
  {
   "cell_type": "code",
   "execution_count": null,
   "id": "9f574cd4-1d64-4f18-975c-48d1d46426d5",
   "metadata": {},
   "outputs": [],
   "source": [
    "function filter_sparse!(train_dfs, test_dfs)\n",
    "    valid_userids = union([Set(df.userid) for df in test_dfs]...)\n",
    "    @showprogress Threads.@threads for i = 1:length(train_dfs)\n",
    "        df = train_dfs[i]\n",
    "        train_dfs[i] = subset(df, df.userid .∈ (valid_userids,))\n",
    "    end\n",
    "end;"
   ]
  },
  {
   "cell_type": "code",
   "execution_count": null,
   "id": "c6318684-202b-4a73-b25c-0b8632e61881",
   "metadata": {},
   "outputs": [],
   "source": [
    "valid_users = get_valid_users();\n",
    "train_dfs = filter_users(\"streaming_data\", valid_users);\n",
    "test_dfs = filter_users(\"test_data\", valid_users);"
   ]
  },
  {
   "cell_type": "code",
   "execution_count": null,
   "id": "ee37b1a5-e970-43fc-97aa-38542cfdfa1e",
   "metadata": {},
   "outputs": [],
   "source": [
    "filter_time!(test_dfs);"
   ]
  },
  {
   "cell_type": "code",
   "execution_count": null,
   "id": "8cfd759e-95c4-4196-a827-f909fef4be51",
   "metadata": {},
   "outputs": [],
   "source": [
    "relabel_userids!(train_dfs)\n",
    "relabel_userids!(test_dfs);"
   ]
  },
  {
   "cell_type": "code",
   "execution_count": null,
   "id": "0b8fdae0-7146-413c-bc70-4a49772fda57",
   "metadata": {},
   "outputs": [],
   "source": [
    "filter_duplicates!(train_dfs, test_dfs)"
   ]
  },
  {
   "cell_type": "code",
   "execution_count": null,
   "id": "36d0cb05-fca4-48f5-aba7-a0f80fd52472",
   "metadata": {},
   "outputs": [],
   "source": [
    "filter_count!(test_dfs, CUTOFF_ITEMS)"
   ]
  },
  {
   "cell_type": "code",
   "execution_count": null,
   "id": "88bdbe2f-d53b-4bea-8d5a-568b31312579",
   "metadata": {},
   "outputs": [],
   "source": [
    "filter_recent!(test_dfs, get_max_valid_ts(\"test\"), CUTOFF_DAYS)"
   ]
  },
  {
   "cell_type": "code",
   "execution_count": null,
   "id": "d0b3dcb4-60cf-436a-8992-700b3495835f",
   "metadata": {},
   "outputs": [],
   "source": [
    "filter_sparse!(train_dfs, test_dfs)"
   ]
  },
  {
   "cell_type": "code",
   "execution_count": null,
   "id": "717ba3a0-1030-4b87-ac31-f6c949bcd237",
   "metadata": {},
   "outputs": [],
   "source": [
    "save_splits(train_dfs, test_dfs, \"causal\");"
   ]
  }
 ],
 "metadata": {
  "kernelspec": {
   "display_name": "Julia 1.10.2",
   "language": "julia",
   "name": "julia-1.10"
  },
  "language_info": {
   "file_extension": ".jl",
   "mimetype": "application/julia",
   "name": "julia",
   "version": "1.10.2"
  }
 },
 "nbformat": 4,
 "nbformat_minor": 5
}
