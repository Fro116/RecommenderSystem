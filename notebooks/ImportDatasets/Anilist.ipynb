{
 "cells": [
  {
   "cell_type": "markdown",
   "id": "cd1d141c-5b0a-4f0b-b833-db7bf9f9e630",
   "metadata": {},
   "source": [
    "## Get User Lists"
   ]
  },
  {
   "cell_type": "code",
   "execution_count": null,
   "id": "96a2e296-6957-428a-a6d5-d50ed13bc903",
   "metadata": {},
   "outputs": [],
   "source": [
    "import datetime"
   ]
  },
  {
   "cell_type": "code",
   "execution_count": null,
   "id": "983d6356-12c1-4be2-9414-df4557a14d11",
   "metadata": {
    "editable": true,
    "slideshow": {
     "slide_type": ""
    },
    "tags": [
     "parameters"
    ]
   },
   "outputs": [],
   "source": [
    "INPUT_HEADER = [\n",
    "    \"uid\",\n",
    "    \"score\",    \n",
    "    \"status\",\n",
    "    \"progress\",\n",
    "    \"progress_volumes\",\n",
    "    \"repeat\",\n",
    "    \"priority\",\n",
    "    \"notes\",\n",
    "    \"started_at\",\n",
    "    \"completed_at\",\n",
    "    \"updated_at\",\n",
    "    \"created_at\",\n",
    "    \"username\",\n",
    "]\n",
    "\n",
    "TEXT_FIELDS = [\"notes\"]"
   ]
  },
  {
   "cell_type": "code",
   "execution_count": null,
   "id": "18b01bb0-76e2-4403-99b4-e8749107f698",
   "metadata": {},
   "outputs": [],
   "source": [
    "def process_status(status):\n",
    "    anilist_status_map = {\n",
    "        \"REPEATING\": \"rewatching\",\n",
    "        \"COMPLETED\": \"completed\",\n",
    "        \"CURRENT\": \"currently_watching\",\n",
    "        \"PLANNING\": \"planned\",\n",
    "        \"PAUSED\": \"on_hold\",\n",
    "        \"DROPPED\": \"dropped\",\n",
    "    }\n",
    "    return STATUS_MAP[anilist_status_map[status]]"
   ]
  },
  {
   "cell_type": "code",
   "execution_count": 12,
   "id": "a0707ec6-24b7-475b-9b28-82534902cdea",
   "metadata": {
    "execution": {
     "iopub.execute_input": "2023-11-11T02:57:15.017555Z",
     "iopub.status.busy": "2023-11-11T02:57:15.017405Z",
     "iopub.status.idle": "2023-11-11T02:57:15.020359Z",
     "shell.execute_reply": "2023-11-11T02:57:15.020019Z",
     "shell.execute_reply.started": "2023-11-11T02:57:15.017546Z"
    }
   },
   "outputs": [],
   "source": [
    "def parse_date(x):\n",
    "    fields = x.split(\"-\")\n",
    "    if len(fields) != 3:\n",
    "        return 0\n",
    "    if not any(x != \"\" for x in fields):\n",
    "        return 0\n",
    "    year = parse_int(fields[0], {\"\": 1})\n",
    "    month = parse_int(fields[1], {\"\": 1})\n",
    "    date = parse_int(fields[2], {\"\": 1})\n",
    "    try:\n",
    "        dt = datetime.datetime(year, month, date) # unix doesn't support year=1\n",
    "        return int(dt.timestamp())\n",
    "    except Exception as e:\n",
    "        return 0"
   ]
  },
  {
   "cell_type": "code",
   "execution_count": null,
   "id": "5d355948-21c0-4d14-842a-b21d8c537382",
   "metadata": {},
   "outputs": [],
   "source": [
    "def parse_fields(line, metadata):\n",
    "    fields = line.split(\",\")\n",
    "    get = lambda x: fields[INPUT_HEADER.index(x)]\n",
    "    mediaid = parse_int(get(\"uid\"))\n",
    "    sentiment = metadata[\"sentiments\"][get(\"notes\")] \n",
    "    return {\n",
    "        \"source\": SOURCE_MAP[SOURCE],\n",
    "        \"medium\": MEDIUM_MAP[MEDIUM],\n",
    "        \"userid\": f\"{SOURCE}@{get('username')}\",\n",
    "        \"mediaid\": mediaid,        \n",
    "        \"status\": process_status(get(\"status\")),\n",
    "        \"rating\": process_score(get(\"score\")),\n",
    "        \"updated_at\": parse_int(get(\"updated_at\"), allow_neg=True),\n",
    "        \"created_at\": parse_int(get(\"created_at\"), allow_neg=True),        \n",
    "        \"started_at\": parse_date(get(\"started_at\")),\n",
    "        \"finished_at\": parse_date(get(\"completed_at\")),\n",
    "        \"update_order\": 0,\n",
    "        \"progress\": get_progress(\n",
    "            MEDIUM,\n",
    "            mediaid,\n",
    "            parse_int(get(\"progress\")),\n",
    "            parse_int(get(\"progress_volumes\"), {\"\": 0}),\n",
    "        ),        \n",
    "        \"repeat_count\": parse_int(get(\"repeat\")),\n",
    "        \"priority\": parse_int(get(\"priority\")),\n",
    "        \"sentiment\": SENTIMENT_MAP[sentiment[\"sentiment\"]],\n",
    "        \"sentiment_score\": sentiment[\"score\"],\n",
    "        \"owned\": 0,\n",
    "    }"
   ]
  }
 ],
 "metadata": {
  "kernelspec": {
   "display_name": "Python 3 (ipykernel)",
   "language": "python",
   "name": "python3"
  },
  "language_info": {
   "codemirror_mode": {
    "name": "ipython",
    "version": 3
   },
   "file_extension": ".py",
   "mimetype": "text/x-python",
   "name": "python",
   "nbconvert_exporter": "python",
   "pygments_lexer": "ipython3",
   "version": "3.10.12"
  }
 },
 "nbformat": 4,
 "nbformat_minor": 5
}
