{
 "cells": [
  {
   "cell_type": "code",
   "execution_count": null,
   "id": "c63d0f00-cdc1-449d-a456-c18f57b10c4f",
   "metadata": {},
   "outputs": [],
   "source": [
    "import JupyterFormatter\n",
    "JupyterFormatter.enable_autoformat();"
   ]
  },
  {
   "cell_type": "code",
   "execution_count": null,
   "id": "318f86f4-e20f-4f4b-8324-8055eebabca9",
   "metadata": {},
   "outputs": [],
   "source": [
    "for m in [\"manga\", \"anime\"]\n",
    "    cp(\"../../../data/media/match/$m.csv\", \"../../../data/media/$m.csv\")\n",
    "    cp(\n",
    "        \"../../../data/media/relations/$m.relations.csv\",\n",
    "        \"../../../data/media/$m.relations.csv\",\n",
    "    )\n",
    "end"
   ]
  }
 ],
 "metadata": {
  "kernelspec": {
   "display_name": "Julia 1.10.2",
   "language": "julia",
   "name": "julia-1.10"
  },
  "language_info": {
   "file_extension": ".jl",
   "mimetype": "application/julia",
   "name": "julia",
   "version": "1.10.2"
  }
 },
 "nbformat": 4,
 "nbformat_minor": 5
}
