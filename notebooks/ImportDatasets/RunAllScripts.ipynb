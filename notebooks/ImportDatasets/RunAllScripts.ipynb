{
 "cells": [
  {
   "cell_type": "markdown",
   "id": "8bdac8f1-c6cb-4e63-8661-de9323573641",
   "metadata": {
    "editable": true,
    "slideshow": {
     "slide_type": ""
    },
    "tags": []
   },
   "source": [
    "# Import Datasets\n",
    "* Parses the data from different websites and converts them into a unified format"
   ]
  },
  {
   "cell_type": "code",
   "execution_count": null,
   "id": "7df9b9d0-f4e3-4db9-b67d-799c100e8ab9",
   "metadata": {},
   "outputs": [],
   "source": [
    "import glob\n",
    "import os\n",
    "import shutil\n",
    "import subprocess\n",
    "import time\n",
    "\n",
    "import papermill as pm"
   ]
  },
  {
   "cell_type": "code",
   "execution_count": null,
   "id": "0162aac0-a1a6-4a99-8378-49bdbeb4f158",
   "metadata": {},
   "outputs": [],
   "source": [
    "data_path = \"../../data/papermill/import_datasets\"\n",
    "if not os.path.exists(data_path):\n",
    "    os.makedirs(data_path, exist_ok=True)"
   ]
  },
  {
   "cell_type": "code",
   "execution_count": null,
   "id": "b4b306f8-f3eb-4ab6-a83e-090952c05bf9",
   "metadata": {},
   "outputs": [],
   "source": [
    "def run_background_notebook(input, output, parameters):\n",
    "    cmdlist = [\n",
    "        \"papermill\",\n",
    "        input,\n",
    "        output,\n",
    "    ]\n",
    "    for k, v in parameters.items():\n",
    "        cmdlist += [\"-p\", k, str(v)]\n",
    "    return subprocess.Popen(\n",
    "        cmdlist, stdout=subprocess.DEVNULL, stderr=subprocess.DEVNULL\n",
    "    )"
   ]
  },
  {
   "cell_type": "code",
   "execution_count": null,
   "id": "58e8d146-da94-4334-8b78-80453cee9e31",
   "metadata": {},
   "outputs": [],
   "source": [
    "def run_notebook(input, output=None, parameters=None, background=False):\n",
    "    if output is None:\n",
    "        output = input\n",
    "    output = os.path.join(data_path, output)\n",
    "    parameters = parameters if parameters is not None else dict()\n",
    "    if background:\n",
    "        return run_background_notebook(input, output, parameters)\n",
    "    else:\n",
    "        return pm.execute_notebook(input, output, parameters=parameters)"
   ]
  },
  {
   "cell_type": "code",
   "execution_count": null,
   "id": "13acce89-2b11-4f73-8d0e-0ac09668b90e",
   "metadata": {},
   "outputs": [],
   "source": [
    "ALL_MEDIUMS = [\"manga\", \"anime\"]\n",
    "parts = 16"
   ]
  },
  {
   "cell_type": "code",
   "execution_count": null,
   "id": "7dfaa962-e39b-4466-8d51-39e5e8218d48",
   "metadata": {},
   "outputs": [],
   "source": [
    "for medium in ALL_MEDIUMS:\n",
    "    run_notebook(\"ImportMedia.ipynb\", parameters={\"medium\": medium, \"parts\": parts})"
   ]
  },
  {
   "cell_type": "code",
   "execution_count": null,
   "id": "22535069-af5f-48d0-a947-9d24b6ab1da0",
   "metadata": {},
   "outputs": [],
   "source": [
    "run_notebook(\"AnimeplanetMappings.ipynb\");"
   ]
  },
  {
   "cell_type": "code",
   "execution_count": null,
   "id": "87c0128f-ea23-4564-a0a3-41432e89fe4d",
   "metadata": {
    "scrolled": true
   },
   "outputs": [],
   "source": [
    "for source in [\"mal\", \"anilist\", \"kitsu\", \"animeplanet\"]:\n",
    "    for medium in ALL_MEDIUMS:\n",
    "        num_parts = len(\n",
    "            glob.glob(f\"../../data/{source}/user_media_facts/user_{medium}_list.*.csv\")\n",
    "        )\n",
    "        start_time = time.time()\n",
    "        print(f\"spawning {num_parts} {source} {medium} processes\")\n",
    "        procs = []\n",
    "        for part in range(num_parts):\n",
    "            time.sleep(1)\n",
    "            procs.append(\n",
    "                run_notebook(\n",
    "                    \"ImportLists.ipynb\",\n",
    "                    output=f\"ImportLists.{source}.{medium}.{part}.ipynb\",\n",
    "                    parameters={\"MEDIUM\": medium, \"SOURCE\": source, \"PART\": part},\n",
    "                    background=True,\n",
    "                )\n",
    "            )\n",
    "        for p in procs:\n",
    "            p.wait()\n",
    "            if p.returncode != 0:\n",
    "                raise subprocess.CalledProcessError(p.returncode, p.args)\n",
    "        print(f\"processes finished in {int(round(time.time() - start_time))} seconds\")"
   ]
  },
  {
   "cell_type": "code",
   "execution_count": null,
   "id": "77a603be-c28e-4d8f-a749-104c99bc1ad4",
   "metadata": {
    "scrolled": true
   },
   "outputs": [],
   "source": [
    "run_notebook(\"CombineMediaLists.ipynb\", parameters={\"parts\": parts});"
   ]
  },
  {
   "cell_type": "code",
   "execution_count": null,
   "id": "f7cd304b-1d38-442c-86c8-fd54301afe05",
   "metadata": {
    "editable": true,
    "slideshow": {
     "slide_type": ""
    },
    "tags": [
     "parameters"
    ]
   },
   "outputs": [],
   "source": [
    "print(\"Success!\")"
   ]
  }
 ],
 "metadata": {
  "kernelspec": {
   "display_name": "Python 3 (ipykernel)",
   "language": "python",
   "name": "python3"
  },
  "language_info": {
   "codemirror_mode": {
    "name": "ipython",
    "version": 3
   },
   "file_extension": ".py",
   "mimetype": "text/x-python",
   "name": "python",
   "nbconvert_exporter": "python",
   "pygments_lexer": "ipython3",
   "version": "3.10.12"
  }
 },
 "nbformat": 4,
 "nbformat_minor": 5
}
