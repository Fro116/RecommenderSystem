{
 "cells": [
  {
   "cell_type": "code",
   "execution_count": null,
   "id": "7df9b9d0-f4e3-4db9-b67d-799c100e8ab9",
   "metadata": {},
   "outputs": [],
   "source": [
    "import os\n",
    "\n",
    "import papermill as pm"
   ]
  },
  {
   "cell_type": "code",
   "execution_count": null,
   "id": "0162aac0-a1a6-4a99-8378-49bdbeb4f158",
   "metadata": {},
   "outputs": [],
   "source": [
    "data_path = \"../../data/papermill/import_datasets\"\n",
    "if not os.path.exists(data_path):\n",
    "    os.makedirs(data_path, exist_ok=True)"
   ]
  },
  {
   "cell_type": "code",
   "execution_count": null,
   "id": "58e8d146-da94-4334-8b78-80453cee9e31",
   "metadata": {},
   "outputs": [],
   "source": [
    "def run_notebook(script, name = None, parameters = None):\n",
    "    if name is None:\n",
    "        name = script\n",
    "    parameters = parameters if parameters is not None else dict()\n",
    "    pm.execute_notebook(\n",
    "        script,\n",
    "        os.path.join(data_path, name),\n",
    "        parameters=parameters,\n",
    "    )"
   ]
  },
  {
   "cell_type": "code",
   "execution_count": null,
   "id": "f4a53638-c328-4127-b5c9-57816c791a2a",
   "metadata": {},
   "outputs": [],
   "source": [
    "def run_notebooks(script):\n",
    "    for media in [\"manga\". \"anime\"]:\n",
    "        run_notebook(f\"{script}.ipynb\", f\"{script}{media.capitalize()}.ipynb\", {\"media\": media})"
   ]
  },
  {
   "cell_type": "code",
   "execution_count": null,
   "id": "991901ea-fa19-4426-93a2-ccf446a00a73",
   "metadata": {},
   "outputs": [],
   "source": [
    "run_notebooks(\"AniList\")"
   ]
  },
  {
   "cell_type": "code",
   "execution_count": null,
   "id": "c97e085b-9cf2-4131-b443-86d442b70001",
   "metadata": {},
   "outputs": [],
   "source": [
    "run_notebooks(\"MyAnimeList\")"
   ]
  },
  {
   "cell_type": "code",
   "execution_count": null,
   "id": "77a603be-c28e-4d8f-a749-104c99bc1ad4",
   "metadata": {},
   "outputs": [],
   "source": [
    "run_notebooks(\"CombineMediaLists\")"
   ]
  },
  {
   "cell_type": "code",
   "execution_count": null,
   "id": "f7cd304b-1d38-442c-86c8-fd54301afe05",
   "metadata": {},
   "outputs": [],
   "source": [
    "print(\"Success!\")"
   ]
  }
 ],
 "metadata": {
  "kernelspec": {
   "display_name": "Python 3 (ipykernel)",
   "language": "python",
   "name": "python3"
  },
  "language_info": {
   "codemirror_mode": {
    "name": "ipython",
    "version": 3
   },
   "file_extension": ".py",
   "mimetype": "text/x-python",
   "name": "python",
   "nbconvert_exporter": "python",
   "pygments_lexer": "ipython3",
   "version": "3.10.6"
  }
 },
 "nbformat": 4,
 "nbformat_minor": 5
}
