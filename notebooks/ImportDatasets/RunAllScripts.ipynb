{
 "cells": [
  {
   "cell_type": "markdown",
   "id": "8bdac8f1-c6cb-4e63-8661-de9323573641",
   "metadata": {},
   "source": [
    "# Import Datasets\n",
    "* Parses the data from different websites and converts them into a unified format"
   ]
  },
  {
   "cell_type": "code",
   "execution_count": 1,
   "id": "7df9b9d0-f4e3-4db9-b67d-799c100e8ab9",
   "metadata": {
    "execution": {
     "iopub.execute_input": "2023-11-11T03:12:33.616823Z",
     "iopub.status.busy": "2023-11-11T03:12:33.616422Z",
     "iopub.status.idle": "2023-11-11T03:12:33.730521Z",
     "shell.execute_reply": "2023-11-11T03:12:33.730224Z",
     "shell.execute_reply.started": "2023-11-11T03:12:33.616786Z"
    }
   },
   "outputs": [],
   "source": [
    "import os\n",
    "\n",
    "import papermill as pm"
   ]
  },
  {
   "cell_type": "code",
   "execution_count": 2,
   "id": "0162aac0-a1a6-4a99-8378-49bdbeb4f158",
   "metadata": {
    "execution": {
     "iopub.execute_input": "2023-11-11T03:12:33.731074Z",
     "iopub.status.busy": "2023-11-11T03:12:33.730986Z",
     "iopub.status.idle": "2023-11-11T03:12:33.733094Z",
     "shell.execute_reply": "2023-11-11T03:12:33.732909Z",
     "shell.execute_reply.started": "2023-11-11T03:12:33.731067Z"
    }
   },
   "outputs": [],
   "source": [
    "data_path = \"../../data/papermill/import_datasets\"\n",
    "if not os.path.exists(data_path):\n",
    "    os.makedirs(data_path, exist_ok=True)"
   ]
  },
  {
   "cell_type": "code",
   "execution_count": 3,
   "id": "58e8d146-da94-4334-8b78-80453cee9e31",
   "metadata": {
    "execution": {
     "iopub.execute_input": "2023-11-11T03:12:33.733471Z",
     "iopub.status.busy": "2023-11-11T03:12:33.733359Z",
     "iopub.status.idle": "2023-11-11T03:12:33.740793Z",
     "shell.execute_reply": "2023-11-11T03:12:33.740618Z",
     "shell.execute_reply.started": "2023-11-11T03:12:33.733464Z"
    }
   },
   "outputs": [],
   "source": [
    "def run_notebook(script, output=None, parameters=None):\n",
    "    if output is None:\n",
    "        output = script\n",
    "    parameters = parameters if parameters is not None else dict()\n",
    "    pm.execute_notebook(\n",
    "        script,\n",
    "        os.path.join(data_path, output),\n",
    "        parameters=parameters,\n",
    "    )"
   ]
  },
  {
   "cell_type": "code",
   "execution_count": 4,
   "id": "bcfc7bf9-596e-43d5-b704-0196d5fef49a",
   "metadata": {
    "execution": {
     "iopub.execute_input": "2023-11-11T03:12:33.741391Z",
     "iopub.status.busy": "2023-11-11T03:12:33.741278Z",
     "iopub.status.idle": "2023-11-11T03:12:33.748516Z",
     "shell.execute_reply": "2023-11-11T03:12:33.748345Z",
     "shell.execute_reply.started": "2023-11-11T03:12:33.741384Z"
    }
   },
   "outputs": [],
   "source": [
    "ALL_MEDIUMS = [\"manga\", \"anime\"]"
   ]
  },
  {
   "cell_type": "code",
   "execution_count": 5,
   "id": "7dfaa962-e39b-4466-8d51-39e5e8218d48",
   "metadata": {
    "execution": {
     "iopub.execute_input": "2023-11-11T03:12:33.748805Z",
     "iopub.status.busy": "2023-11-11T03:12:33.748739Z",
     "iopub.status.idle": "2023-11-11T03:12:36.640581Z",
     "shell.execute_reply": "2023-11-11T03:12:36.640140Z",
     "shell.execute_reply.started": "2023-11-11T03:12:33.748799Z"
    }
   },
   "outputs": [
    {
     "data": {
      "application/vnd.jupyter.widget-view+json": {
       "model_id": "dbf8356c0e164d9897730f02bfb32fbf",
       "version_major": 2,
       "version_minor": 0
      },
      "text/plain": [
       "Executing:   0%|          | 0/8 [00:00<?, ?cell/s]"
      ]
     },
     "metadata": {},
     "output_type": "display_data"
    },
    {
     "data": {
      "application/vnd.jupyter.widget-view+json": {
       "model_id": "0ddaa7c5240c495e956e278fc3d171f0",
       "version_major": 2,
       "version_minor": 0
      },
      "text/plain": [
       "Executing:   0%|          | 0/8 [00:00<?, ?cell/s]"
      ]
     },
     "metadata": {},
     "output_type": "display_data"
    }
   ],
   "source": [
    "for medium in ALL_MEDIUMS:\n",
    "    run_notebook(\"ImportMedia.ipynb\", parameters = {\"medium\": medium})"
   ]
  },
  {
   "cell_type": "code",
   "execution_count": 6,
   "id": "22535069-af5f-48d0-a947-9d24b6ab1da0",
   "metadata": {
    "execution": {
     "iopub.execute_input": "2023-11-11T03:12:36.641317Z",
     "iopub.status.busy": "2023-11-11T03:12:36.641081Z",
     "iopub.status.idle": "2023-11-11T03:18:20.476444Z",
     "shell.execute_reply": "2023-11-11T03:18:20.475703Z",
     "shell.execute_reply.started": "2023-11-11T03:12:36.641304Z"
    }
   },
   "outputs": [
    {
     "data": {
      "application/vnd.jupyter.widget-view+json": {
       "model_id": "8cba3a7798c947c58fa25aee124811ea",
       "version_major": 2,
       "version_minor": 0
      },
      "text/plain": [
       "Executing:   0%|          | 0/15 [00:00<?, ?cell/s]"
      ]
     },
     "metadata": {},
     "output_type": "display_data"
    }
   ],
   "source": [
    "run_notebook(\"AnimeplanetMappings.ipynb\")"
   ]
  },
  {
   "cell_type": "code",
   "execution_count": null,
   "id": "87c0128f-ea23-4564-a0a3-41432e89fe4d",
   "metadata": {
    "execution": {
     "iopub.execute_input": "2023-11-11T03:18:20.476906Z",
     "iopub.status.busy": "2023-11-11T03:18:20.476824Z"
    }
   },
   "outputs": [
    {
     "data": {
      "application/vnd.jupyter.widget-view+json": {
       "model_id": "c6f9736c3d80423bb13c3dc7c31c6abe",
       "version_major": 2,
       "version_minor": 0
      },
      "text/plain": [
       "Executing:   0%|          | 0/24 [00:00<?, ?cell/s]"
      ]
     },
     "metadata": {},
     "output_type": "display_data"
    },
    {
     "data": {
      "application/vnd.jupyter.widget-view+json": {
       "model_id": "9220ad3cde2c4fc0b3e7cf637bacbb15",
       "version_major": 2,
       "version_minor": 0
      },
      "text/plain": [
       "Executing:   0%|          | 0/24 [00:00<?, ?cell/s]"
      ]
     },
     "metadata": {},
     "output_type": "display_data"
    }
   ],
   "source": [
    "# for source in [\"kitsu\", \"animeplanet\"]:\n",
    "for source in [\"mal\"]:    \n",
    "    for medium in ALL_MEDIUMS:\n",
    "        run_notebook(\n",
    "            \"ImportLists.ipynb\",\n",
    "            output=f\"ImportLists{source.capitalize()}{medium.capitalize()}.ipynb\",\n",
    "            parameters={\"MEDIUM\": medium, \"SOURCE\": source},\n",
    "        )"
   ]
  },
  {
   "cell_type": "code",
   "execution_count": null,
   "id": "77a603be-c28e-4d8f-a749-104c99bc1ad4",
   "metadata": {},
   "outputs": [],
   "source": [
    "# run_notebooks(\"CombineMediaLists\")"
   ]
  },
  {
   "cell_type": "code",
   "execution_count": null,
   "id": "f7cd304b-1d38-442c-86c8-fd54301afe05",
   "metadata": {
    "editable": true,
    "slideshow": {
     "slide_type": ""
    },
    "tags": [
     "parameters"
    ]
   },
   "outputs": [],
   "source": [
    "print(\"Success!\")"
   ]
  }
 ],
 "metadata": {
  "kernelspec": {
   "display_name": "Python 3 (ipykernel)",
   "language": "python",
   "name": "python3"
  },
  "language_info": {
   "codemirror_mode": {
    "name": "ipython",
    "version": 3
   },
   "file_extension": ".py",
   "mimetype": "text/x-python",
   "name": "python",
   "nbconvert_exporter": "python",
   "pygments_lexer": "ipython3",
   "version": "3.10.12"
  }
 },
 "nbformat": 4,
 "nbformat_minor": 5
}
