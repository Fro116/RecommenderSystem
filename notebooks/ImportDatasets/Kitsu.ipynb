{
 "cells": [
  {
   "cell_type": "markdown",
   "id": "cd1d141c-5b0a-4f0b-b833-db7bf9f9e630",
   "metadata": {},
   "source": [
    "## Get User Lists"
   ]
  },
  {
   "cell_type": "code",
   "execution_count": null,
   "id": "983d6356-12c1-4be2-9414-df4557a14d11",
   "metadata": {
    "editable": true,
    "slideshow": {
     "slide_type": ""
    },
    "tags": [
     "parameters"
    ]
   },
   "outputs": [],
   "source": [
    "INPUT_HEADER = [\n",
    "    \"uid\",\n",
    "    \"score\",\n",
    "    \"status\",\n",
    "    \"progress\",\n",
    "    \"volumes_owned\",\n",
    "    \"repeat\",\n",
    "    \"repeat_count\",\n",
    "    \"notes\",\n",
    "    \"private\",\n",
    "    \"reaction_skipped\",\n",
    "    \"progressed_at\",\n",
    "    \"updated_at\",\n",
    "    \"created_at\",\n",
    "    \"usertag\",\n",
    "    \"username\",\n",
    "]\n",
    "\n",
    "TEXT_FIELDS = [\"notes\"]"
   ]
  },
  {
   "cell_type": "code",
   "execution_count": null,
   "id": "18b01bb0-76e2-4403-99b4-e8749107f698",
   "metadata": {},
   "outputs": [],
   "source": [
    "def process_status(status, rewatch):\n",
    "    if rewatch == \"True\":\n",
    "        return STATUS_MAP[\"rewatching\"]\n",
    "    kitsu_status_map = {\n",
    "        \"completed\": \"completed\",\n",
    "        \"current\": \"currently_watching\",\n",
    "        \"dropped\": \"dropped\",\n",
    "        \"on_hold\": \"on_hold\",\n",
    "        \"planned\": \"planned\",\n",
    "    }\n",
    "    return STATUS_MAP[kitsu_status_map[status]]"
   ]
  },
  {
   "cell_type": "code",
   "execution_count": null,
   "id": "5d355948-21c0-4d14-842a-b21d8c537382",
   "metadata": {},
   "outputs": [],
   "source": [
    "def parse_fields(line, metadata):\n",
    "    fields = line.split(\",\")\n",
    "    get = lambda x: fields[INPUT_HEADER.index(x)]\n",
    "    mediaid = parse_int(get(\"uid\"))\n",
    "    sentiment = metadata[\"sentiments\"][get(\"notes\")]\n",
    "    return {\n",
    "        \"source\": SOURCE_MAP[SOURCE],\n",
    "        \"medium\": MEDIUM_MAP[MEDIUM],\n",
    "        \"userid\": f\"{SOURCE}@{parse_int(get('username'))}\",\n",
    "        \"mediaid\": mediaid,\n",
    "        \"status\": process_status(get(\"status\"), get(\"repeat\")),\n",
    "        \"rating\": process_score(get(\"score\")),\n",
    "        \"updated_at\": parse_int(get(\"updated_at\")),\n",
    "        \"created_at\": parse_int(get(\"created_at\")),\n",
    "        \"started_at\": 0,\n",
    "        \"finished_at\": 0,\n",
    "        \"update_order\": 0,\n",
    "        \"progress\": get_progress(MEDIUM, mediaid, parse_int(get(\"progress\")), 0),\n",
    "        \"repeat_count\": parse_int(get(\"repeat_count\")),\n",
    "        \"priority\": 0,\n",
    "        \"sentiment\": SENTIMENT_MAP[sentiment[\"sentiment\"]],\n",
    "        \"sentiment_score\": sentiment[\"score\"],\n",
    "        \"owned\": get_progress(MEDIUM, mediaid, 0, parse_int(get(\"volumes_owned\"))),\n",
    "    }"
   ]
  }
 ],
 "metadata": {
  "kernelspec": {
   "display_name": "Python 3 (ipykernel)",
   "language": "python",
   "name": "python3"
  },
  "language_info": {
   "codemirror_mode": {
    "name": "ipython",
    "version": 3
   },
   "file_extension": ".py",
   "mimetype": "text/x-python",
   "name": "python",
   "nbconvert_exporter": "python",
   "pygments_lexer": "ipython3",
   "version": "3.10.12"
  }
 },
 "nbformat": 4,
 "nbformat_minor": 5
}
