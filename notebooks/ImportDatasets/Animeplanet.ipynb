{
 "cells": [
  {
   "cell_type": "markdown",
   "id": "cd1d141c-5b0a-4f0b-b833-db7bf9f9e630",
   "metadata": {},
   "source": [
    "## Get User Lists"
   ]
  },
  {
   "cell_type": "code",
   "execution_count": null,
   "id": "96a2e296-6957-428a-a6d5-d50ed13bc903",
   "metadata": {},
   "outputs": [],
   "source": [
    "from functools import cache\n",
    "\n",
    "import pandas as pd"
   ]
  },
  {
   "cell_type": "code",
   "execution_count": null,
   "id": "983d6356-12c1-4be2-9414-df4557a14d11",
   "metadata": {
    "editable": true,
    "slideshow": {
     "slide_type": ""
    },
    "tags": [
     "parameters"
    ]
   },
   "outputs": [],
   "source": [
    "INPUT_HEADER = [\n",
    "    \"title\",\n",
    "    \"score\",\n",
    "    \"status\",\n",
    "    \"progress\",\n",
    "    \"updated_at\",\n",
    "    \"item_order\",\n",
    "    \"username\",\n",
    "]\n",
    "\n",
    "TEXT_FIELDS = []"
   ]
  },
  {
   "cell_type": "code",
   "execution_count": null,
   "id": "18b01bb0-76e2-4403-99b4-e8749107f698",
   "metadata": {},
   "outputs": [],
   "source": [
    "def process_status(status):\n",
    "    animeplanet_status_map = {\n",
    "        \"1\": \"completed\",\n",
    "        \"2\": \"currently_watching\",\n",
    "        \"3\": \"dropped\",\n",
    "        \"4\": \"planned\",\n",
    "        \"5\": \"on_hold\",\n",
    "        \"6\": \"wont_watch\",\n",
    "    }\n",
    "    return STATUS_MAP[animeplanet_status_map[status]]"
   ]
  },
  {
   "cell_type": "code",
   "execution_count": null,
   "id": "b166e763-d43a-4035-8876-95ab81087591",
   "metadata": {},
   "outputs": [],
   "source": [
    "@cache\n",
    "def get_title_mapping(medium):\n",
    "    return (\n",
    "        pd.read_csv(f\"../../data/raw_data/animeplanet_{medium}_to_uid.csv\")\n",
    "        .set_index(\"title\")[f\"{medium}_id\"]\n",
    "        .to_dict()\n",
    "    )\n",
    "\n",
    "\n",
    "def process_title(title):\n",
    "    return get_title_mapping(MEDIUM).get(title, -1)"
   ]
  },
  {
   "cell_type": "code",
   "execution_count": null,
   "id": "5d355948-21c0-4d14-842a-b21d8c537382",
   "metadata": {},
   "outputs": [],
   "source": [
    "def parse_fields(line, metadata):\n",
    "    fields = line.split(\",\")\n",
    "    get = lambda x: fields[INPUT_HEADER.index(x)]\n",
    "    mediaid = process_title(get(\"title\"))\n",
    "    return {\n",
    "        \"source\": SOURCE_MAP[SOURCE],\n",
    "        \"medium\": MEDIUM_MAP[MEDIUM],\n",
    "        \"userid\": f\"{SOURCE}@{get('username')}\",\n",
    "        \"mediaid\": mediaid,\n",
    "        \"status\": process_status(get(\"status\")),\n",
    "        \"rating\": process_score(get(\"score\")),\n",
    "        \"updated_at\": parse_int(get(\"updated_at\")),\n",
    "        \"created_at\": 0,\n",
    "        \"started_at\": 0,\n",
    "        \"finished_at\": 0,\n",
    "        \"update_order\": parse_int(get(\"item_order\")),\n",
    "        \"progress\": get_progress(MEDIUM, mediaid, parse_int(get(\"progress\")), 0),\n",
    "        \"repeat_count\": 0,\n",
    "        \"priority\": 0,\n",
    "        \"sentiment\": 0,\n",
    "        \"sentiment_score\": 0,\n",
    "        \"owned\": 0,\n",
    "    }"
   ]
  }
 ],
 "metadata": {
  "kernelspec": {
   "display_name": "Python 3 (ipykernel)",
   "language": "python",
   "name": "python3"
  },
  "language_info": {
   "codemirror_mode": {
    "name": "ipython",
    "version": 3
   },
   "file_extension": ".py",
   "mimetype": "text/x-python",
   "name": "python",
   "nbconvert_exporter": "python",
   "pygments_lexer": "ipython3",
   "version": "3.10.12"
  }
 },
 "nbformat": 4,
 "nbformat_minor": 5
}
