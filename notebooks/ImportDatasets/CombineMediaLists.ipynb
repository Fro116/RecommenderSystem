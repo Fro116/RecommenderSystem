{
 "cells": [
  {
   "cell_type": "markdown",
   "id": "9dc4dcf9-3010-4a89-91f7-0f3d43fe64f2",
   "metadata": {},
   "source": [
    "# Combine Media Lists\n",
    "* Merge data from different sources"
   ]
  },
  {
   "cell_type": "code",
   "execution_count": null,
   "id": "36b16c54-95ca-49ae-b781-b18fee53b7a3",
   "metadata": {},
   "outputs": [],
   "source": [
    "import os\n",
    "\n",
    "from tqdm import tqdm"
   ]
  },
  {
   "cell_type": "code",
   "execution_count": null,
   "id": "f29703f1-0ff3-458f-b5bd-e7d6143ff988",
   "metadata": {},
   "outputs": [],
   "source": [
    "outdir = \"../../data/raw_data\""
   ]
  },
  {
   "cell_type": "code",
   "execution_count": null,
   "id": "0e094c13-bb34-4020-99e0-a4d3a0b3439e",
   "metadata": {},
   "outputs": [],
   "source": [
    "def combine_sources(sources, medium):\n",
    "    outfile = os.path.join(outdir, f\"user_{medium}_list.csv\")\n",
    "    with open(outfile, \"w\") as out_file:\n",
    "        for i in range(len(sources)):\n",
    "            file = os.path.join(outdir, f\"user_{medium}_list.{sources[i]}.csv\")\n",
    "            with open(file, \"r\") as in_file:\n",
    "                header = False\n",
    "                for line in tqdm(in_file):\n",
    "                    if not header:\n",
    "                        header = True\n",
    "                        if i == 0:\n",
    "                            out_file.write(line)\n",
    "                        continue\n",
    "                    out_file.write(line)"
   ]
  },
  {
   "cell_type": "code",
   "execution_count": null,
   "id": "2546cc22-1391-4831-8d59-a91ad4f59f44",
   "metadata": {},
   "outputs": [],
   "source": [
    "for medium in [\"manga\", \"anime\"]:\n",
    "    combine_sources([\"mal\", \"anilist\", \"kitsu\", \"animeplanet\"], medium)"
   ]
  }
 ],
 "metadata": {
  "kernelspec": {
   "display_name": "Python 3 (ipykernel)",
   "language": "python",
   "name": "python3"
  },
  "language_info": {
   "codemirror_mode": {
    "name": "ipython",
    "version": 3
   },
   "file_extension": ".py",
   "mimetype": "text/x-python",
   "name": "python",
   "nbconvert_exporter": "python",
   "pygments_lexer": "ipython3",
   "version": "3.10.12"
  }
 },
 "nbformat": 4,
 "nbformat_minor": 5
}
