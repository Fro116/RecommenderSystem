{
 "cells": [
  {
   "cell_type": "markdown",
   "id": "cd1d141c-5b0a-4f0b-b833-db7bf9f9e630",
   "metadata": {},
   "source": [
    "## Get User Lists"
   ]
  },
  {
   "cell_type": "code",
   "execution_count": null,
   "id": "96a2e296-6957-428a-a6d5-d50ed13bc903",
   "metadata": {},
   "outputs": [],
   "source": [
    "import datetime"
   ]
  },
  {
   "cell_type": "code",
   "execution_count": null,
   "id": "983d6356-12c1-4be2-9414-df4557a14d11",
   "metadata": {
    "editable": true,
    "slideshow": {
     "slide_type": ""
    },
    "tags": [
     "parameters"
    ]
   },
   "outputs": [],
   "source": [
    "INPUT_HEADER = [\n",
    "    \"uid\",\n",
    "    \"status\",\n",
    "    \"score\",\n",
    "    \"progress\",\n",
    "    \"progress_volumes\",\n",
    "    \"started_at\",\n",
    "    \"completed_at\",\n",
    "    \"priority\",\n",
    "    \"repeat\",\n",
    "    \"repeat_count\",\n",
    "    \"repeat_value\",\n",
    "    \"tags\",\n",
    "    \"notes\",\n",
    "    \"updated_at\",\n",
    "    \"username\",\n",
    "]\n",
    "\n",
    "TEXT_FIELDS = []"
   ]
  },
  {
   "cell_type": "code",
   "execution_count": null,
   "id": "18b01bb0-76e2-4403-99b4-e8749107f698",
   "metadata": {},
   "outputs": [],
   "source": [
    "def process_status(status):\n",
    "    mal_status_map = {\n",
    "        \"completed\": \"completed\",\n",
    "        \"watching\": \"currently_watching\",\n",
    "        \"plan_to_watch\": \"planned\",\n",
    "        \"reading\": \"currently_watching\",\n",
    "        \"plan_to_read\": \"planned\",        \n",
    "        \"on_hold\": \"on_hold\",\n",
    "        \"dropped\": \"dropped\",\n",
    "        \"\": \"none\",\n",
    "    }\n",
    "    return STATUS_MAP[mal_status_map[status]]"
   ]
  },
  {
   "cell_type": "code",
   "execution_count": 12,
   "id": "a0707ec6-24b7-475b-9b28-82534902cdea",
   "metadata": {
    "execution": {
     "iopub.execute_input": "2023-11-11T02:57:15.017555Z",
     "iopub.status.busy": "2023-11-11T02:57:15.017405Z",
     "iopub.status.idle": "2023-11-11T02:57:15.020359Z",
     "shell.execute_reply": "2023-11-11T02:57:15.020019Z",
     "shell.execute_reply.started": "2023-11-11T02:57:15.017546Z"
    }
   },
   "outputs": [],
   "source": [
    "def parse_date(x):\n",
    "    if x == \"\":\n",
    "        return 0\n",
    "    year = 1\n",
    "    if len(x) >= 4:\n",
    "        year = int(x[:4])\n",
    "    month = 1\n",
    "    if len(x) >= 7:\n",
    "        month = int(x[5:7])\n",
    "    date = 1\n",
    "    if len(x) >= 10:\n",
    "        date = int(x[8:10])        \n",
    "    if x == \"\":\n",
    "        return 0\n",
    "    assert len(x) >= 4\n",
    "    try:\n",
    "        dt = datetime.datetime(year, month, date)\n",
    "        return int(dt.timestamp())\n",
    "    except Exception as e:\n",
    "        return 0    "
   ]
  },
  {
   "cell_type": "code",
   "execution_count": null,
   "id": "5d355948-21c0-4d14-842a-b21d8c537382",
   "metadata": {},
   "outputs": [],
   "source": [
    "def parse_fields(line, metadata):\n",
    "    fields = line.split(\",\")\n",
    "    get = lambda x: fields[INPUT_HEADER.index(x)]\n",
    "    mediaid = parse_int(get(\"uid\"))\n",
    "    return {\n",
    "        \"source\": SOURCE_MAP[SOURCE],\n",
    "        \"medium\": MEDIUM,\n",
    "        \"userid\": f\"{SOURCE}@{get('username')}\",\n",
    "        \"mediaid\": mediaid,\n",
    "        \"status\": process_status(get(\"status\")),\n",
    "        \"rating\": process_score(get(\"score\")),\n",
    "        \"updated_at\": parse_int(get(\"updated_at\")),\n",
    "        \"created_at\": 0,\n",
    "        \"started_at\": parse_date(get(\"started_at\")),\n",
    "        \"finished_at\": parse_date(get(\"completed_at\")),\n",
    "        \"update_order\": 0,\n",
    "        \"progress\": get_progress(\n",
    "            MEDIUM,\n",
    "            mediaid,\n",
    "            parse_int(get(\"progress\")),\n",
    "            parse_int(get(\"progress_volumes\"), {\"\": 0}),\n",
    "        ),        \n",
    "        \"repeat_count\": 0,\n",
    "        \"priority\": 0,\n",
    "        \"sentiment\": 0,\n",
    "        \"sentiment_score\": 0,\n",
    "        \"owned\": 0,\n",
    "    }"
   ]
  }
 ],
 "metadata": {
  "kernelspec": {
   "display_name": "Python 3 (ipykernel)",
   "language": "python",
   "name": "python3"
  },
  "language_info": {
   "codemirror_mode": {
    "name": "ipython",
    "version": 3
   },
   "file_extension": ".py",
   "mimetype": "text/x-python",
   "name": "python",
   "nbconvert_exporter": "python",
   "pygments_lexer": "ipython3",
   "version": "3.10.12"
  }
 },
 "nbformat": 4,
 "nbformat_minor": 5
}
