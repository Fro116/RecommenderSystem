{
 "cells": [
  {
   "cell_type": "markdown",
   "id": "15b873be-8bb1-48aa-bf48-ccd9a4ff5a09",
   "metadata": {},
   "source": [
    "# Importing datasets\n",
    "* Copy the datasets from https://www.kaggle.com/azathoth42/myanimelist into `data/imported_datasets/azathoth42`\n",
    "* Run the notebook"
   ]
  },
  {
   "cell_type": "code",
   "execution_count": null,
   "id": "8a148270-9dc5-4ebd-8258-19d316f558de",
   "metadata": {},
   "outputs": [],
   "source": [
    "# TODO this is wildly out of date"
   ]
  },
  {
   "cell_type": "code",
   "execution_count": 1,
   "id": "44f0cf86-8682-41cd-9bb3-eaa4dcc4140a",
   "metadata": {},
   "outputs": [],
   "source": [
    "import os\n",
    "import pickle\n",
    "\n",
    "import pandas as pd"
   ]
  },
  {
   "cell_type": "code",
   "execution_count": 2,
   "id": "9a483591-08d0-4ab7-9ea7-b8ff12bcb859",
   "metadata": {},
   "outputs": [],
   "source": [
    "source_dir = \"../../data/imported_datasets/azathoth42/\""
   ]
  },
  {
   "cell_type": "code",
   "execution_count": 3,
   "id": "0704ccb0-363c-43e4-bbaa-acdc5f4ed2cc",
   "metadata": {},
   "outputs": [],
   "source": [
    "outdir = \"../../data/raw_data\"\n",
    "if not os.path.exists(outdir):\n",
    "    os.mkdir(outdir)"
   ]
  },
  {
   "cell_type": "markdown",
   "id": "3766a96d-37d2-4fd4-b1f5-3bdcff3a134d",
   "metadata": {},
   "source": [
    "## Get anime facts"
   ]
  },
  {
   "cell_type": "code",
   "execution_count": 4,
   "id": "4465098b-1e9f-48bf-a35e-9096ef3c8f78",
   "metadata": {},
   "outputs": [],
   "source": [
    "anime = pd.read_csv(os.path.join(source_dir, \"AnimeList.csv\"))"
   ]
  },
  {
   "cell_type": "code",
   "execution_count": 5,
   "id": "79ab96d3-d0ec-4602-a24a-54d5c7d56575",
   "metadata": {},
   "outputs": [],
   "source": [
    "anime = anime[[\"anime_id\", \"title\", \"genre\", \"type\", \"related\"]].rename(\n",
    "    {\"genre\": \"genres\", \"related\": \"related_anime\", \"type\": \"medium\"}, axis=1\n",
    ")"
   ]
  },
  {
   "cell_type": "code",
   "execution_count": 6,
   "id": "cc4c186f-ae49-4f4b-a21b-7fa29ce0c6ca",
   "metadata": {},
   "outputs": [],
   "source": [
    "def process_related(related):\n",
    "    related = eval(related)\n",
    "    return [\n",
    "        {\"anime_id\": entry[\"mal_id\"], \"relation\": relation.lower()}\n",
    "        for relation in related\n",
    "        for entry in related[relation]\n",
    "        if entry[\"type\"] == \"anime\"\n",
    "    ]"
   ]
  },
  {
   "cell_type": "code",
   "execution_count": 7,
   "id": "92c13816-8251-4fd8-95e2-440ab69615a2",
   "metadata": {},
   "outputs": [],
   "source": [
    "anime[\"related_anime\"] = anime[\"related_anime\"].apply(process_related)"
   ]
  },
  {
   "cell_type": "code",
   "execution_count": 11,
   "id": "cfe2da0a-f62b-48b2-bf54-2b36382b4a3d",
   "metadata": {},
   "outputs": [],
   "source": [
    "anime[\"recommendations\"] = [[] for _ in range(len(anime))]"
   ]
  },
  {
   "cell_type": "code",
   "execution_count": 13,
   "id": "10138bf8-69f1-41cb-8b4f-e08dacfa448f",
   "metadata": {},
   "outputs": [],
   "source": [
    "anime = anime.sort_values(by=\"anime_id\")"
   ]
  },
  {
   "cell_type": "code",
   "execution_count": 14,
   "id": "fc830b14-4849-4837-a860-cf9a186bd168",
   "metadata": {},
   "outputs": [],
   "source": [
    "anime.to_csv(os.path.join(outdir, \"anime.csv\"), index=False)"
   ]
  },
  {
   "cell_type": "markdown",
   "id": "112ba05f-739a-4403-a522-8c0811ef23c6",
   "metadata": {},
   "source": [
    "## Get users"
   ]
  },
  {
   "cell_type": "code",
   "execution_count": 10,
   "id": "810d15b5-da7b-4113-a4ff-4cbf31ccd584",
   "metadata": {},
   "outputs": [],
   "source": [
    "users = pd.read_csv(os.path.join(source_dir, \"UserList.csv\"))"
   ]
  },
  {
   "cell_type": "code",
   "execution_count": 11,
   "id": "5cc2c19b-5c6f-4591-8fa7-38118f41f886",
   "metadata": {},
   "outputs": [],
   "source": [
    "users[[\"username\"]].to_csv(os.path.join(outdir, \"usernames.csv\"), index=False)"
   ]
  },
  {
   "cell_type": "markdown",
   "id": "1be0664d-b52e-48d0-9111-a059252208c8",
   "metadata": {},
   "source": [
    "## Get User Lists"
   ]
  },
  {
   "cell_type": "code",
   "execution_count": null,
   "id": "ecec7689-d123-4631-a725-b89807eb6f8d",
   "metadata": {},
   "outputs": [],
   "source": [
    "# This may take several minutes to finish\n",
    "anime_lists = pd.read_csv(os.path.join(source_dir, \"UserAnimeList.csv\"))"
   ]
  },
  {
   "cell_type": "code",
   "execution_count": null,
   "id": "6d288bf8-e287-4dd0-a619-2b7ef199c449",
   "metadata": {},
   "outputs": [],
   "source": [
    "anime_lists = anime_lists[[\"username\", \"anime_id\", \"my_score\"]]\n",
    "anime_lists = anime_lists.loc[lambda x: x[\"my_score\"] != 0].reset_index(drop=True)"
   ]
  },
  {
   "cell_type": "code",
   "execution_count": null,
   "id": "56842f0e-f73b-4adc-b09b-b2ec67646fe3",
   "metadata": {},
   "outputs": [],
   "source": [
    "anime_lists.to_pickle(os.path.join(outdir, \"user_anime_lists.pkl\"))"
   ]
  },
  {
   "cell_type": "code",
   "execution_count": null,
   "id": "a8b45319-b60a-465f-91a6-48772a87ff3e",
   "metadata": {},
   "outputs": [],
   "source": [
    "# This may take several minutes to finish\n",
    "anime_lists.to_csv(os.path.join(outdir, \"user_anime_lists.csv\"), index=False)"
   ]
  },
  {
   "cell_type": "markdown",
   "id": "4187e686-f46a-45cf-9cad-1ef3e24505c5",
   "metadata": {},
   "source": [
    "## Write source"
   ]
  },
  {
   "cell_type": "code",
   "execution_count": null,
   "id": "087a0f38-b6cd-48f1-aad8-0a694ec43a5c",
   "metadata": {},
   "outputs": [],
   "source": [
    "with open(os.path.join(outdir, \"source.txt\"), \"w\") as f:\n",
    "    f.write(\"Dataset available at https://www.kaggle.com/azathoth42/myanimelist\")"
   ]
  }
 ],
 "metadata": {
  "kernelspec": {
   "display_name": "Python 3 (ipykernel)",
   "language": "python",
   "name": "python3"
  },
  "language_info": {
   "codemirror_mode": {
    "name": "ipython",
    "version": 3
   },
   "file_extension": ".py",
   "mimetype": "text/x-python",
   "name": "python",
   "nbconvert_exporter": "python",
   "pygments_lexer": "ipython3",
   "version": "3.8.10"
  }
 },
 "nbformat": 4,
 "nbformat_minor": 5
}
