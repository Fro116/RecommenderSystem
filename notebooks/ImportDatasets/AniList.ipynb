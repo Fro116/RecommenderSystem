{
 "cells": [
  {
   "cell_type": "markdown",
   "id": "15b873be-8bb1-48aa-bf48-ccd9a4ff5a09",
   "metadata": {},
   "source": [
    "# Importing datasets\n",
    "* Converts data obtained form the AniList API into a shared format\n",
    "* Note that loading and saving the datasets may take several minutes"
   ]
  },
  {
   "cell_type": "code",
   "execution_count": null,
   "id": "44f0cf86-8682-41cd-9bb3-eaa4dcc4140a",
   "metadata": {},
   "outputs": [],
   "source": [
    "import datetime\n",
    "import glob\n",
    "import logging\n",
    "import os\n",
    "\n",
    "import pandas as pd"
   ]
  },
  {
   "cell_type": "code",
   "execution_count": null,
   "id": "fa1125b1-84a6-4b75-be3e-d5265e017279",
   "metadata": {
    "tags": [
     "parameters"
    ]
   },
   "outputs": [],
   "source": [
    "media = \"\""
   ]
  },
  {
   "cell_type": "code",
   "execution_count": null,
   "id": "9a483591-08d0-4ab7-9ea7-b8ff12bcb859",
   "metadata": {},
   "outputs": [],
   "source": [
    "source_dir = \"../../data/anilist/\""
   ]
  },
  {
   "cell_type": "code",
   "execution_count": null,
   "id": "0704ccb0-363c-43e4-bbaa-acdc5f4ed2cc",
   "metadata": {},
   "outputs": [],
   "source": [
    "outdir = \"../../data/raw_data\"\n",
    "if not os.path.exists(outdir):\n",
    "    os.mkdir(outdir)"
   ]
  },
  {
   "cell_type": "code",
   "execution_count": null,
   "id": "14b97641-c924-4918-baf8-69698ff11c29",
   "metadata": {},
   "outputs": [],
   "source": [
    "# logging\n",
    "logger = logging.getLogger(\"AniList\")\n",
    "logger.setLevel(logging.DEBUG)\n",
    "formatter = logging.Formatter(\n",
    "    \"%(name)s:%(levelname)s:%(asctime)s: %(message)s\", datefmt=\"%Y-%m-%d %H:%M:%S\"\n",
    ")\n",
    "for stream in [\n",
    "    logging.StreamHandler(),\n",
    "]:\n",
    "    stream.setFormatter(formatter)\n",
    "    logger.addHandler(stream)"
   ]
  },
  {
   "cell_type": "code",
   "execution_count": null,
   "id": "f34c55ba-1862-42fb-b4e5-0f8978fc9bf9",
   "metadata": {},
   "outputs": [],
   "source": [
    "%run ImportAnilistUserLists.ipynb"
   ]
  },
  {
   "cell_type": "code",
   "execution_count": null,
   "id": "13d72c47-a667-4515-9dc9-ed86119e7194",
   "metadata": {},
   "outputs": [],
   "source": [
    "if os.path.exists(os.path.join(outdir, f\"user_{media}_list.anilist.csv\")):\n",
    "    os.remove(os.path.join(outdir, f\"user_{media}_list.anilist.csv\"))"
   ]
  },
  {
   "cell_type": "code",
   "execution_count": null,
   "id": "f9e03c3b-ed64-4182-ad32-d032728b8265",
   "metadata": {},
   "outputs": [],
   "source": [
    "for file in glob.glob(os.path.join(source_dir, f\"user_{media}_facts/user_{media}_list.*.csv\")):\n",
    "    verify_user_media_list_consistency(\n",
    "        os.path.join(source_dir, file)\n",
    "    )"
   ]
  },
  {
   "cell_type": "code",
   "execution_count": null,
   "id": "f41264d8-84fb-4ed4-b084-151beb794518",
   "metadata": {},
   "outputs": [],
   "source": [
    "for file in glob.glob(os.path.join(source_dir, f\"user_{media}_facts/user_{media}_list.*.csv\")):\n",
    "    process_user_media_lists(\n",
    "        file,\n",
    "        os.path.join(outdir, f\"user_{media}_list.anilist.csv\"),\n",
    "    )"
   ]
  }
 ],
 "metadata": {
  "kernelspec": {
   "display_name": "Python 3 (ipykernel)",
   "language": "python",
   "name": "python3"
  },
  "language_info": {
   "codemirror_mode": {
    "name": "ipython",
    "version": 3
   },
   "file_extension": ".py",
   "mimetype": "text/x-python",
   "name": "python",
   "nbconvert_exporter": "python",
   "pygments_lexer": "ipython3",
   "version": "3.10.6"
  }
 },
 "nbformat": 4,
 "nbformat_minor": 5
}
