{
 "cells": [
  {
   "cell_type": "markdown",
   "id": "9dc4dcf9-3010-4a89-91f7-0f3d43fe64f2",
   "metadata": {},
   "source": [
    "# Combine AnimeLists\n",
    "* Merges data from MAL and AniList and deduplicates users"
   ]
  },
  {
   "cell_type": "code",
   "execution_count": null,
   "id": "36b16c54-95ca-49ae-b781-b18fee53b7a3",
   "metadata": {},
   "outputs": [],
   "source": [
    "import datetime\n",
    "import logging\n",
    "import os\n",
    "\n",
    "import pandas as pd\n",
    "from tqdm import tqdm"
   ]
  },
  {
   "cell_type": "code",
   "execution_count": null,
   "id": "f29703f1-0ff3-458f-b5bd-e7d6143ff988",
   "metadata": {},
   "outputs": [],
   "source": [
    "outdir = \"../../data/raw_data\""
   ]
  },
  {
   "cell_type": "code",
   "execution_count": null,
   "id": "a02673fa-b89f-401d-a2e2-24a72f713f2f",
   "metadata": {},
   "outputs": [],
   "source": [
    "# logging\n",
    "logger = logging.getLogger(\"CombineAnimeLists\")\n",
    "logger.setLevel(logging.DEBUG)\n",
    "formatter = logging.Formatter(\n",
    "    \"%(name)s:%(levelname)s:%(asctime)s: %(message)s\", datefmt=\"%Y-%m-%d %H:%M:%S\"\n",
    ")\n",
    "for stream in [\n",
    "    logging.StreamHandler(),\n",
    "]:\n",
    "    stream.setFormatter(formatter)\n",
    "    logger.addHandler(stream)"
   ]
  },
  {
   "cell_type": "code",
   "execution_count": null,
   "id": "bab23ead-7da1-4a92-a4ce-c71922a7c6ef",
   "metadata": {},
   "outputs": [],
   "source": [
    "def get_user_to_timestamp(source):\n",
    "    # finds the most recent timestamp for each user\n",
    "    file = os.path.join(outdir, f\"user_anime_list.{source}.csv\")\n",
    "    timestamps = {}\n",
    "    header = False    \n",
    "    with open(file, \"r\") as in_file:    \n",
    "        for line in tqdm(in_file):\n",
    "            if not header:\n",
    "                header = True\n",
    "                continue\n",
    "            fields = line.strip().split(\",\")\n",
    "            username = fields[0].lower()\n",
    "            ts = fields[3]\n",
    "            if username not in timestamps:\n",
    "                timestamps[username] = ts\n",
    "            else:\n",
    "                timestamps[username] = max(timestamps[username], ts)\n",
    "    return timestamps"
   ]
  },
  {
   "cell_type": "code",
   "execution_count": null,
   "id": "27eaa637-937f-4da3-abfb-7c1dd8c4d70d",
   "metadata": {},
   "outputs": [],
   "source": [
    "def get_user_to_source(sources):\n",
    "    # associate each user with their most recently updated source\n",
    "    timestamps = [get_user_to_timestamp(x) for x in sources]\n",
    "    user_to_source_ts = {}\n",
    "    for i in range(len(sources)):\n",
    "        ts = timestamps[i]\n",
    "        for u in tqdm(ts):\n",
    "            if u not in user_to_source_ts:\n",
    "                user_to_source_ts[u] = (ts[u], sources[i])\n",
    "            else:\n",
    "                if ts[u] > user_to_source_ts[u][1]:\n",
    "                    print(\"OVERWRITING\", u, sources[i])\n",
    "                    user_to_source_ts[u] = (ts[u], sources[i])\n",
    "    user_to_source = {x: user_to_source_ts[x][1] for x in user_to_source_ts}                    \n",
    "    return user_to_source"
   ]
  },
  {
   "cell_type": "code",
   "execution_count": null,
   "id": "0e094c13-bb34-4020-99e0-a4d3a0b3439e",
   "metadata": {},
   "outputs": [],
   "source": [
    "def combine_sources(sources):\n",
    "    user_to_source = get_user_to_source(sources)\n",
    "    # for each user, write down the list from their preferred source\n",
    "    outfile = os.path.join(outdir, f\"user_anime_list.csv\")\n",
    "    with open(outfile, \"w\") as out_file:    \n",
    "        for i in range(len(sources)):\n",
    "            file = os.path.join(outdir, f\"user_anime_list.{sources[i]}.csv\")\n",
    "            with open(file, \"r\") as in_file:\n",
    "                header = False\n",
    "                for line in tqdm(in_file):\n",
    "                    if not header:\n",
    "                        header = True\n",
    "                        if i == 0:\n",
    "                            out_file.write(line)\n",
    "                        continue\n",
    "                    fields = line.strip().split(\",\")\n",
    "                    username = fields[0].lower()\n",
    "                    if user_to_source[username] != sources[i]:\n",
    "                        continue\n",
    "                    out_file.write(line)"
   ]
  },
  {
   "cell_type": "code",
   "execution_count": null,
   "id": "2546cc22-1391-4831-8d59-a91ad4f59f44",
   "metadata": {},
   "outputs": [],
   "source": [
    "combine_sources([\"MAL\", \"AniList\"])"
   ]
  }
 ],
 "metadata": {
  "kernelspec": {
   "display_name": "Python 3 (ipykernel)",
   "language": "python",
   "name": "python3"
  },
  "language_info": {
   "codemirror_mode": {
    "name": "ipython",
    "version": 3
   },
   "file_extension": ".py",
   "mimetype": "text/x-python",
   "name": "python",
   "nbconvert_exporter": "python",
   "pygments_lexer": "ipython3",
   "version": "3.8.9"
  }
 },
 "nbformat": 4,
 "nbformat_minor": 5
}
