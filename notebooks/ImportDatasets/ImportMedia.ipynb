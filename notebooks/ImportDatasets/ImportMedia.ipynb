{
 "cells": [
  {
   "cell_type": "markdown",
   "id": "15b873be-8bb1-48aa-bf48-ccd9a4ff5a09",
   "metadata": {},
   "source": [
    "# Import Media\n",
    "* Saves media facts and associated metadata"
   ]
  },
  {
   "cell_type": "code",
   "execution_count": null,
   "id": "44f0cf86-8682-41cd-9bb3-eaa4dcc4140a",
   "metadata": {},
   "outputs": [],
   "source": [
    "import glob\n",
    "import os\n",
    "\n",
    "import pandas as pd"
   ]
  },
  {
   "cell_type": "code",
   "execution_count": null,
   "id": "b2bc8a7c-36ac-4abb-99e4-eb061451b741",
   "metadata": {
    "editable": true,
    "slideshow": {
     "slide_type": ""
    },
    "tags": [
     "parameters"
    ]
   },
   "outputs": [],
   "source": [
    "medium = \"\""
   ]
  },
  {
   "cell_type": "code",
   "execution_count": null,
   "id": "9a483591-08d0-4ab7-9ea7-b8ff12bcb859",
   "metadata": {},
   "outputs": [],
   "source": [
    "source_dir = \"../../data/mal/\""
   ]
  },
  {
   "cell_type": "code",
   "execution_count": null,
   "id": "0704ccb0-363c-43e4-bbaa-acdc5f4ed2cc",
   "metadata": {},
   "outputs": [],
   "source": [
    "outdir = \"../../data/raw_data\"\n",
    "if not os.path.exists(outdir):\n",
    "    os.mkdir(outdir)"
   ]
  },
  {
   "cell_type": "code",
   "execution_count": null,
   "id": "4465098b-1e9f-48bf-a35e-9096ef3c8f78",
   "metadata": {},
   "outputs": [],
   "source": [
    "df = pd.concat(\n",
    "    pd.read_csv(f)\n",
    "    for f in sorted(\n",
    "        glob.glob(os.path.join(source_dir, f\"media_facts/{medium}.*.csv\"))\n",
    "    )\n",
    ")\n",
    "df = df.sort_values(by=f\"{medium}_id\")\n",
    "df.to_csv(os.path.join(outdir, f\"{medium}.csv\"), index=False)"
   ]
  },
  {
   "cell_type": "code",
   "execution_count": null,
   "id": "10138bf8-69f1-41cb-8b4f-e08dacfa448f",
   "metadata": {},
   "outputs": [],
   "source": [
    "relations = pd.concat(\n",
    "    pd.read_csv(f)\n",
    "    for f in sorted(\n",
    "        glob.glob(os.path.join(source_dir, f\"media_facts/{medium}_relations.*.csv\"))\n",
    "    )\n",
    ")\n",
    "relations = relations.sort_values(by=\"source_id\")\n",
    "relations.to_csv(os.path.join(outdir, f\"{medium}_relations.csv\"), index=False)"
   ]
  }
 ],
 "metadata": {
  "kernelspec": {
   "display_name": "Python 3 (ipykernel)",
   "language": "python",
   "name": "python3"
  },
  "language_info": {
   "codemirror_mode": {
    "name": "ipython",
    "version": 3
   },
   "file_extension": ".py",
   "mimetype": "text/x-python",
   "name": "python",
   "nbconvert_exporter": "python",
   "pygments_lexer": "ipython3",
   "version": "3.9.6"
  }
 },
 "nbformat": 4,
 "nbformat_minor": 5
}
