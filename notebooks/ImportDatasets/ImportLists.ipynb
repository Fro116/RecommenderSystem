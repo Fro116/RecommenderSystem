{
 "cells": [
  {
   "cell_type": "markdown",
   "id": "15b873be-8bb1-48aa-bf48-ccd9a4ff5a09",
   "metadata": {},
   "source": [
    "# Import Lists\n",
    "* Converts user lists into a shared format"
   ]
  },
  {
   "cell_type": "code",
   "execution_count": null,
   "id": "44f0cf86-8682-41cd-9bb3-eaa4dcc4140a",
   "metadata": {},
   "outputs": [],
   "source": [
    "import datetime\n",
    "import glob\n",
    "import logging\n",
    "import os\n",
    "from functools import cache\n",
    "\n",
    "import pandas as pd\n",
    "from tqdm import tqdm\n",
    "from transformers import pipeline"
   ]
  },
  {
   "cell_type": "code",
   "execution_count": null,
   "id": "fa1125b1-84a6-4b75-be3e-d5265e017279",
   "metadata": {
    "tags": [
     "parameters"
    ]
   },
   "outputs": [],
   "source": [
    "MEDIUM = \"\"\n",
    "SOURCE = \"\""
   ]
  },
  {
   "cell_type": "code",
   "execution_count": null,
   "id": "9a483591-08d0-4ab7-9ea7-b8ff12bcb859",
   "metadata": {},
   "outputs": [],
   "source": [
    "source_dir = f\"../../data/{SOURCE}/\""
   ]
  },
  {
   "cell_type": "code",
   "execution_count": null,
   "id": "0704ccb0-363c-43e4-bbaa-acdc5f4ed2cc",
   "metadata": {},
   "outputs": [],
   "source": [
    "outdir = \"../../data/raw_data\"\n",
    "if not os.path.exists(outdir):\n",
    "    os.mkdir(outdir)\n",
    "MEDIA_DIR = outdir    "
   ]
  },
  {
   "cell_type": "code",
   "execution_count": null,
   "id": "14b97641-c924-4918-baf8-69698ff11c29",
   "metadata": {},
   "outputs": [],
   "source": [
    "logger = logging.getLogger(SOURCE)\n",
    "logger.setLevel(logging.DEBUG)\n",
    "formatter = logging.Formatter(\n",
    "    \"%(name)s:%(levelname)s:%(asctime)s: %(message)s\", datefmt=\"%Y-%m-%d %H:%M:%S\"\n",
    ")\n",
    "for stream in [\n",
    "    logging.StreamHandler(),\n",
    "]:\n",
    "    stream.setFormatter(formatter)\n",
    "    logger.addHandler(stream)"
   ]
  },
  {
   "cell_type": "markdown",
   "id": "f919df2e-021a-4791-b769-bd794d43d225",
   "metadata": {},
   "source": [
    "## Output"
   ]
  },
  {
   "cell_type": "code",
   "execution_count": null,
   "id": "6edc5874-704a-49e5-80cd-7896822c4f06",
   "metadata": {},
   "outputs": [],
   "source": [
    "%run ImportListsHelper.ipynb"
   ]
  },
  {
   "cell_type": "code",
   "execution_count": null,
   "id": "13d72c47-a667-4515-9dc9-ed86119e7194",
   "metadata": {},
   "outputs": [],
   "source": [
    "fn = os.path.join(outdir, f\"user_{MEDIUM}_list.{SOURCE}.csv\")\n",
    "if os.path.exists(fn):\n",
    "    os.remove(fn)"
   ]
  },
  {
   "cell_type": "code",
   "execution_count": null,
   "id": "f9e03c3b-ed64-4182-ad32-d032728b8265",
   "metadata": {},
   "outputs": [],
   "source": [
    "media_path = os.path.join(source_dir, f\"user_media_facts/user_{MEDIUM}_list.*.csv\")\n",
    "media_fns = sorted(glob.glob(media_path))\n",
    "for file in media_fns:\n",
    "    data = preprocess(file, INPUT_HEADER, TEXT_FIELDS)\n",
    "    data[\"sentiments\"] = compute_sentiments(list(data[\"texts\"]))\n",
    "    process(\n",
    "        file,\n",
    "        os.path.join(outdir, f\"user_{MEDIUM}_list.{SOURCE}.csv\"),\n",
    "        data,\n",
    "    )"
   ]
  }
 ],
 "metadata": {
  "kernelspec": {
   "display_name": "Python 3 (ipykernel)",
   "language": "python",
   "name": "python3"
  },
  "language_info": {
   "codemirror_mode": {
    "name": "ipython",
    "version": 3
   },
   "file_extension": ".py",
   "mimetype": "text/x-python",
   "name": "python",
   "nbconvert_exporter": "python",
   "pygments_lexer": "ipython3",
   "version": "3.10.12"
  }
 },
 "nbformat": 4,
 "nbformat_minor": 5
}
