{
 "cells": [
  {
   "cell_type": "markdown",
   "id": "15b873be-8bb1-48aa-bf48-ccd9a4ff5a09",
   "metadata": {},
   "source": [
    "# Importing datasets\n",
    "* Converts data obtained form the MyAnimeList API into a shared format\n",
    "* Note that loading and saving the datasets may take several minutes"
   ]
  },
  {
   "cell_type": "code",
   "execution_count": 1,
   "id": "44f0cf86-8682-41cd-9bb3-eaa4dcc4140a",
   "metadata": {},
   "outputs": [],
   "source": [
    "import logging\n",
    "import os\n",
    "\n",
    "import pandas as pd\n",
    "from tqdm import tqdm"
   ]
  },
  {
   "cell_type": "code",
   "execution_count": 2,
   "id": "9a483591-08d0-4ab7-9ea7-b8ff12bcb859",
   "metadata": {},
   "outputs": [],
   "source": [
    "source_dir = \"../../data/mal/\""
   ]
  },
  {
   "cell_type": "code",
   "execution_count": 3,
   "id": "0704ccb0-363c-43e4-bbaa-acdc5f4ed2cc",
   "metadata": {},
   "outputs": [],
   "source": [
    "outdir = \"../../data/raw_data\"\n",
    "if not os.path.exists(outdir):\n",
    "    os.mkdir(outdir)"
   ]
  },
  {
   "cell_type": "code",
   "execution_count": 4,
   "id": "14b97641-c924-4918-baf8-69698ff11c29",
   "metadata": {},
   "outputs": [],
   "source": [
    "# logging\n",
    "logger = logging.getLogger(\"MyAnimeList\")\n",
    "logger.setLevel(logging.DEBUG)\n",
    "formatter = logging.Formatter(\n",
    "    \"%(name)s:%(levelname)s:%(asctime)s: %(message)s\", datefmt=\"%Y-%m-%d %H:%M:%S\"\n",
    ")\n",
    "for stream in [\n",
    "    logging.StreamHandler(),\n",
    "]:\n",
    "    stream.setFormatter(formatter)\n",
    "    logger.addHandler(stream)"
   ]
  },
  {
   "cell_type": "markdown",
   "id": "3766a96d-37d2-4fd4-b1f5-3bdcff3a134d",
   "metadata": {},
   "source": [
    "## Get anime facts"
   ]
  },
  {
   "cell_type": "code",
   "execution_count": 5,
   "id": "4465098b-1e9f-48bf-a35e-9096ef3c8f78",
   "metadata": {},
   "outputs": [],
   "source": [
    "anime = pd.read_csv(os.path.join(source_dir, \"anime_facts/anime.csv\"))"
   ]
  },
  {
   "cell_type": "code",
   "execution_count": 6,
   "id": "10138bf8-69f1-41cb-8b4f-e08dacfa448f",
   "metadata": {},
   "outputs": [],
   "source": [
    "anime = anime.sort_values(by=\"anime_id\")"
   ]
  },
  {
   "cell_type": "code",
   "execution_count": 7,
   "id": "fc830b14-4849-4837-a860-cf9a186bd168",
   "metadata": {},
   "outputs": [],
   "source": [
    "anime.to_csv(os.path.join(outdir, \"anime.csv\"), index=False)"
   ]
  },
  {
   "cell_type": "markdown",
   "id": "1be0664d-b52e-48d0-9111-a059252208c8",
   "metadata": {},
   "source": [
    "## Get User Lists"
   ]
  },
  {
   "cell_type": "code",
   "execution_count": 8,
   "id": "2c1561d2-11bb-4017-ab10-a27b2e9f9bec",
   "metadata": {},
   "outputs": [
    {
     "name": "stderr",
     "output_type": "stream",
     "text": [
      "MyAnimeList:INFO:2022-06-03 01:26:38: Verifying consistency of existing entries in user_anime_list.csv\n",
      "230097674it [02:58, 1287180.26it/s]\n"
     ]
    }
   ],
   "source": [
    "# Entries in user_anime_list.csv can be malformed if the notebook crashes in the\n",
    "# middle of saving a file. This function removes any malformed lines.\n",
    "def verify_user_anime_list_consistency():\n",
    "    logger.info(\"Verifying consistency of existing entries in user_anime_list.csv\")\n",
    "    input_fn = os.path.join(source_dir, \"user_anime_facts/user_anime_list.csv\")\n",
    "    output_fn = input_fn + \"~\"\n",
    "    user_status = pd.read_csv(\n",
    "        os.path.join(source_dir, \"user_anime_facts/user_status.csv\"),\n",
    "        keep_default_na=False,\n",
    "    )\n",
    "    with open(input_fn, \"r\") as in_file:\n",
    "        with open(output_fn, \"w\") as out_file:\n",
    "            header = False\n",
    "            successful_users = set(user_status.loc[lambda x: x[\"success\"]][\"username\"])\n",
    "            invalid_users = set()\n",
    "            for line in tqdm(in_file):\n",
    "                if not header:\n",
    "                    header = True\n",
    "                    correct_header = \"anime_id,my_score,username\\n\"\n",
    "                    if line.strip() != correct_header.strip():\n",
    "                        logger.warning(\n",
    "                            f\"Replacing malformed header line {line.strip} \"\n",
    "                            f\"with correct header {correct_header.strip()}\"\n",
    "                        )\n",
    "                        line = correct_header\n",
    "                    out_file.write(line)\n",
    "                    continue\n",
    "                fields = line.strip().split(\",\")\n",
    "                if len(fields) != 3:\n",
    "                    logger.warning(\n",
    "                        f\"Deleting malformed line in user_anime_list.csv {line} \"\n",
    "                    )\n",
    "                    continue\n",
    "                anime_id, score, username = fields\n",
    "                if username not in successful_users:\n",
    "                    if username not in invalid_users:\n",
    "                        invalid_users.add(username)\n",
    "                        logger.warning(\n",
    "                            f\"Deleting entries in user_anime_list.csv for \"\n",
    "                            f\" unrecognized username {username}\"\n",
    "                        )\n",
    "                    continue\n",
    "                out_file.write(line)\n",
    "    os.replace(output_fn, input_fn)\n",
    "\n",
    "\n",
    "verify_user_anime_list_consistency()"
   ]
  },
  {
   "cell_type": "code",
   "execution_count": 9,
   "id": "ecec7689-d123-4631-a725-b89807eb6f8d",
   "metadata": {},
   "outputs": [],
   "source": [
    "anime_lists = pd.read_csv(\n",
    "    os.path.join(source_dir, \"user_anime_facts/user_anime_list.csv\")\n",
    ")"
   ]
  },
  {
   "cell_type": "code",
   "execution_count": 10,
   "id": "6d288bf8-e287-4dd0-a619-2b7ef199c449",
   "metadata": {},
   "outputs": [],
   "source": [
    "anime_lists = anime_lists[[\"username\", \"anime_id\", \"my_score\"]]\n",
    "implicit_lists = anime_lists.loc[lambda x: x[\"my_score\"] == 0].reset_index(drop=True)\n",
    "implicit_lists[\"my_score\"] = 1\n",
    "explicit_lists = anime_lists.loc[lambda x: x[\"my_score\"] != 0].reset_index(drop=True)"
   ]
  },
  {
   "cell_type": "code",
   "execution_count": 11,
   "id": "a8b45319-b60a-465f-91a6-48772a87ff3e",
   "metadata": {},
   "outputs": [],
   "source": [
    "explicit_lists.to_csv(os.path.join(outdir, \"user_explicit_lists.csv\"), index=False)\n",
    "implicit_lists.to_csv(os.path.join(outdir, \"user_implicit_lists.csv\"), index=False)"
   ]
  },
  {
   "cell_type": "markdown",
   "id": "4187e686-f46a-45cf-9cad-1ef3e24505c5",
   "metadata": {},
   "source": [
    "## Write source"
   ]
  },
  {
   "cell_type": "code",
   "execution_count": 12,
   "id": "087a0f38-b6cd-48f1-aad8-0a694ec43a5c",
   "metadata": {},
   "outputs": [],
   "source": [
    "with open(os.path.join(outdir, \"source.txt\"), \"w\") as f:\n",
    "    f.write(\"Dataset obtained using the MyAnimeList API\")"
   ]
  }
 ],
 "metadata": {
  "kernelspec": {
   "display_name": "Python 3 (ipykernel)",
   "language": "python",
   "name": "python3"
  },
  "language_info": {
   "codemirror_mode": {
    "name": "ipython",
    "version": 3
   },
   "file_extension": ".py",
   "mimetype": "text/x-python",
   "name": "python",
   "nbconvert_exporter": "python",
   "pygments_lexer": "ipython3",
   "version": "3.8.12"
  }
 },
 "nbformat": 4,
 "nbformat_minor": 5
}
