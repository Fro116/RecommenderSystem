{
 "cells": [
  {
   "cell_type": "markdown",
   "id": "15b873be-8bb1-48aa-bf48-ccd9a4ff5a09",
   "metadata": {},
   "source": [
    "# Importing datasets\n",
    "* Converts data obtained form the MyAnimeList API into a shared format\n",
    "* Note that loading and saving the datasets may take several minutes"
   ]
  },
  {
   "cell_type": "code",
   "execution_count": null,
   "id": "44f0cf86-8682-41cd-9bb3-eaa4dcc4140a",
   "metadata": {},
   "outputs": [],
   "source": [
    "import datetime\n",
    "import logging\n",
    "import os\n",
    "\n",
    "import pandas as pd\n",
    "from tqdm import tqdm"
   ]
  },
  {
   "cell_type": "code",
   "execution_count": null,
   "id": "9a483591-08d0-4ab7-9ea7-b8ff12bcb859",
   "metadata": {},
   "outputs": [],
   "source": [
    "source_dir = \"../../data/mal/\""
   ]
  },
  {
   "cell_type": "code",
   "execution_count": null,
   "id": "0704ccb0-363c-43e4-bbaa-acdc5f4ed2cc",
   "metadata": {},
   "outputs": [],
   "source": [
    "outdir = \"../../data/raw_data\"\n",
    "if not os.path.exists(outdir):\n",
    "    os.mkdir(outdir)"
   ]
  },
  {
   "cell_type": "code",
   "execution_count": null,
   "id": "14b97641-c924-4918-baf8-69698ff11c29",
   "metadata": {},
   "outputs": [],
   "source": [
    "# logging\n",
    "logger = logging.getLogger(\"MyAnimeList\")\n",
    "logger.setLevel(logging.DEBUG)\n",
    "formatter = logging.Formatter(\n",
    "    \"%(name)s:%(levelname)s:%(asctime)s: %(message)s\", datefmt=\"%Y-%m-%d %H:%M:%S\"\n",
    ")\n",
    "for stream in [\n",
    "    logging.StreamHandler(),\n",
    "]:\n",
    "    stream.setFormatter(formatter)\n",
    "    logger.addHandler(stream)"
   ]
  },
  {
   "cell_type": "markdown",
   "id": "3766a96d-37d2-4fd4-b1f5-3bdcff3a134d",
   "metadata": {},
   "source": [
    "## Get anime facts"
   ]
  },
  {
   "cell_type": "code",
   "execution_count": null,
   "id": "4465098b-1e9f-48bf-a35e-9096ef3c8f78",
   "metadata": {},
   "outputs": [],
   "source": [
    "anime = pd.read_csv(os.path.join(source_dir, \"anime_facts/anime.csv\"))"
   ]
  },
  {
   "cell_type": "code",
   "execution_count": null,
   "id": "10138bf8-69f1-41cb-8b4f-e08dacfa448f",
   "metadata": {},
   "outputs": [],
   "source": [
    "anime = anime.sort_values(by=\"anime_id\")"
   ]
  },
  {
   "cell_type": "code",
   "execution_count": null,
   "id": "fc830b14-4849-4837-a860-cf9a186bd168",
   "metadata": {},
   "outputs": [],
   "source": [
    "anime.to_csv(os.path.join(outdir, \"anime.csv\"), index=False)"
   ]
  },
  {
   "cell_type": "markdown",
   "id": "1be0664d-b52e-48d0-9111-a059252208c8",
   "metadata": {},
   "source": [
    "## Get User Lists"
   ]
  },
  {
   "cell_type": "code",
   "execution_count": null,
   "id": "2c1561d2-11bb-4017-ab10-a27b2e9f9bec",
   "metadata": {},
   "outputs": [],
   "source": [
    "# Entries in user_anime_list.csv can be malformed if the notebook crashes in the\n",
    "# middle of saving a file. This function removes any malformed lines.\n",
    "def verify_user_anime_list_consistency(input_fn):\n",
    "    logger.info(f\"Verifying consistency of entries in {input_fn}\")\n",
    "    output_fn = input_fn + \"~\"\n",
    "    user_status = pd.read_csv(\n",
    "        os.path.join(source_dir, \"user_anime_facts/user_status.csv\"),\n",
    "        keep_default_na=False,\n",
    "    )\n",
    "    with open(input_fn, \"r\") as in_file:\n",
    "        with open(output_fn, \"w\") as out_file:\n",
    "            header = False\n",
    "            successful_users = set(user_status.loc[lambda x: x[\"success\"]][\"username\"])\n",
    "            invalid_users = set()\n",
    "            for line in tqdm(in_file):\n",
    "                if not header:\n",
    "                    header = True\n",
    "                    correct_header = \"uid,status,score,num_episodes_watched,is_rewatching,start_date,finish_date,priority,num_times_rewatched,rewatch_value,updated_at,username\\n\"\n",
    "                    if line.strip() != correct_header.strip():\n",
    "                        logger.warning(\n",
    "                            f\"Replacing malformed header line {line.strip} \"\n",
    "                            f\"with correct header {correct_header.strip()}\"\n",
    "                        )\n",
    "                        line = correct_header\n",
    "                    out_file.write(line)\n",
    "                    continue\n",
    "                fields = line.strip().split(\",\")\n",
    "                if len(fields) != 12:\n",
    "                    logger.warning(\n",
    "                        f\"Deleting malformed line in user_anime_list.csv {line} \"\n",
    "                    )\n",
    "                    continue\n",
    "                username = fields[11]\n",
    "                if username not in successful_users:\n",
    "                    if username not in invalid_users:\n",
    "                        invalid_users.add(username)\n",
    "                        logger.warning(\n",
    "                            f\"Deleting entries in user_anime_list.csv for \"\n",
    "                            f\" unrecognized username {username}\"\n",
    "                        )\n",
    "                    continue\n",
    "                out_file.write(line)\n",
    "    os.replace(output_fn, input_fn)"
   ]
  },
  {
   "cell_type": "code",
   "execution_count": null,
   "id": "91fbd17a-ae5b-436c-906f-0fa7db9177ca",
   "metadata": {},
   "outputs": [],
   "source": [
    "def to_unix_time(date, fmt):\n",
    "    return str(int(datetime.datetime.timestamp(datetime.datetime.strptime(date, fmt))))"
   ]
  },
  {
   "cell_type": "code",
   "execution_count": null,
   "id": "aaaac7ca-5d12-4357-99e4-266eaf2d78bc",
   "metadata": {},
   "outputs": [],
   "source": [
    "def process_uid(uid):\n",
    "    assert uid.isdigit()\n",
    "    return uid\n",
    "\n",
    "\n",
    "def process_status(status):\n",
    "    if status == \"completed\":\n",
    "        return \"5\"\n",
    "    elif status == \"watching\":\n",
    "        return \"4\"\n",
    "    elif status == \"on_hold\":\n",
    "        return \"3\"\n",
    "    elif status == \"dropped\":\n",
    "        return \"2\"\n",
    "    elif status == \"plan_to_watch\":\n",
    "        return \"1\"\n",
    "    elif status == \"\":\n",
    "        return \"0\"\n",
    "    else:\n",
    "        assert False\n",
    "\n",
    "\n",
    "def process_score(score):\n",
    "    assert score.isdigit()\n",
    "    parsed_score = int(score)\n",
    "    assert parsed_score >= 0 and parsed_score <= 10\n",
    "    return score\n",
    "\n",
    "\n",
    "def process_num_episodes_watched(num):\n",
    "    assert num.isdigit()\n",
    "    return num\n",
    "\n",
    "\n",
    "def process_is_rewatching(rewatching):\n",
    "    if rewatching == \"-1\":\n",
    "        return \"0\"\n",
    "    else:\n",
    "        assert False\n",
    "\n",
    "\n",
    "def process_start_date(date):\n",
    "    if len(rewatching) == 0:\n",
    "        return \"0\"\n",
    "    else:\n",
    "        return to_unix_time(date, \"%Y-%m-%d\")\n",
    "\n",
    "\n",
    "def process_finish_date(date):\n",
    "    if len(rewatching) == 0:\n",
    "        return \"0\"\n",
    "    else:\n",
    "        return to_unix_time(date, \"%Y-%m-%d\")\n",
    "\n",
    "\n",
    "def process_priority(priority):\n",
    "    assert priority == \"-1\"\n",
    "    return priority\n",
    "\n",
    "\n",
    "def process_num_times_rewatched(rewatch):\n",
    "    return rewatch\n",
    "\n",
    "\n",
    "def process_rewatch_value(value):\n",
    "    return value\n",
    "\n",
    "\n",
    "def process_updated_at(time):\n",
    "    return to_unix_time(time, \"%Y-%m-%dT%H:%M:%S+00:00\")\n",
    "\n",
    "\n",
    "def process_username(username):\n",
    "    return username"
   ]
  },
  {
   "cell_type": "code",
   "execution_count": null,
   "id": "551ef669-4d0b-46b5-a27c-3cfb01292968",
   "metadata": {},
   "outputs": [],
   "source": [
    "def process_header(header):\n",
    "    assert header.split(\",\") == [\n",
    "        \"uid\",\n",
    "        \"status\",\n",
    "        \"score\",\n",
    "        \"num_episodes_watched\",\n",
    "        \"is_rewatching\",\n",
    "        \"start_date\",\n",
    "        \"finish_date\",\n",
    "        \"priority\",\n",
    "        \"num_times_rewatched\",\n",
    "        \"rewatch_value\",\n",
    "        \"updated_at\",\n",
    "        \"username\",\n",
    "    ]\n",
    "    return \",\".join(\n",
    "        [\n",
    "            \"username\",\n",
    "            \"animeid\",\n",
    "            \"score\",\n",
    "            \"timestamp\",\n",
    "            \"status\",\n",
    "            \"episodes\",\n",
    "            \"rewatch\",\n",
    "            \"source\",\n",
    "        ]\n",
    "    )\n",
    "\n",
    "\n",
    "def process_line(line):\n",
    "    try:\n",
    "        fields = line.split(\",\")\n",
    "        anime_uid = process_uid(fields[0])\n",
    "        status = process_status(fields[1])\n",
    "        score = process_score(fields[2])\n",
    "        episodes = process_num_episodes_watched(fields[3])\n",
    "        rewatch = process_is_rewatching(fields[9])\n",
    "        timestamp = process_updated_at(fields[10])\n",
    "        username = process_username(fields[11])\n",
    "        source = \"MAL\"\n",
    "    except Exception as e:\n",
    "        print(f\"Error: could not parse {line}\")\n",
    "        raise e\n",
    "    return \",\".join(\n",
    "        [username, anime_uid, score, timestamp, status, episodes, rewatch, source]\n",
    "    )"
   ]
  },
  {
   "cell_type": "code",
   "execution_count": null,
   "id": "f6f68e84-033d-4b7d-b465-c416a9b0ba3d",
   "metadata": {},
   "outputs": [],
   "source": [
    "def process_user_anime_lists(infile, outfile):\n",
    "    logger.info(f\"processing entries in {infile}\")\n",
    "    with open(infile, \"r\") as in_file:\n",
    "        with open(outfile, \"w\") as out_file:\n",
    "            header = False\n",
    "            for line in tqdm(in_file):\n",
    "                line = line.strip()\n",
    "                if not header:\n",
    "                    header = True\n",
    "                    out_file.write(process_header(line) + \"\\n\")\n",
    "                    continue\n",
    "                out_file.write(process_line(line) + \"\\n\")"
   ]
  },
  {
   "cell_type": "code",
   "execution_count": null,
   "id": "f9e03c3b-ed64-4182-ad32-d032728b8265",
   "metadata": {},
   "outputs": [],
   "source": [
    "verify_user_anime_list_consistency(\n",
    "    os.path.join(source_dir, \"user_anime_facts/user_anime_list.csv\")\n",
    ")"
   ]
  },
  {
   "cell_type": "code",
   "execution_count": null,
   "id": "f41264d8-84fb-4ed4-b084-151beb794518",
   "metadata": {},
   "outputs": [],
   "source": [
    "process_user_anime_lists(\n",
    "    os.path.join(source_dir, \"user_anime_facts/user_anime_list.csv\"),\n",
    "    os.path.join(outdir, \"user_anime_list.mal.csv\"),\n",
    ")"
   ]
  }
 ],
 "metadata": {
  "kernelspec": {
   "display_name": "Python 3 (ipykernel)",
   "language": "python",
   "name": "python3"
  },
  "language_info": {
   "codemirror_mode": {
    "name": "ipython",
    "version": 3
   },
   "file_extension": ".py",
   "mimetype": "text/x-python",
   "name": "python",
   "nbconvert_exporter": "python",
   "pygments_lexer": "ipython3",
   "version": "3.8.9"
  }
 },
 "nbformat": 4,
 "nbformat_minor": 5
}
