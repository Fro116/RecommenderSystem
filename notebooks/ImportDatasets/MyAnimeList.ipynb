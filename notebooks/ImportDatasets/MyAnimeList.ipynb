{
 "cells": [
  {
   "cell_type": "markdown",
   "id": "15b873be-8bb1-48aa-bf48-ccd9a4ff5a09",
   "metadata": {},
   "source": [
    "# Importing datasets\n",
    "* Converts data obtained form the MyAnimeList API into a shared format\n",
    "* Note that loading and saving the datasets may take several minutes"
   ]
  },
  {
   "cell_type": "code",
   "execution_count": null,
   "id": "44f0cf86-8682-41cd-9bb3-eaa4dcc4140a",
   "metadata": {},
   "outputs": [],
   "source": [
    "import datetime\n",
    "import glob\n",
    "import logging\n",
    "import os\n",
    "\n",
    "import pandas as pd"
   ]
  },
  {
   "cell_type": "code",
   "execution_count": null,
   "id": "9a483591-08d0-4ab7-9ea7-b8ff12bcb859",
   "metadata": {},
   "outputs": [],
   "source": [
    "source_dir = \"../../data/mal/\""
   ]
  },
  {
   "cell_type": "code",
   "execution_count": null,
   "id": "0704ccb0-363c-43e4-bbaa-acdc5f4ed2cc",
   "metadata": {},
   "outputs": [],
   "source": [
    "outdir = \"../../data/raw_data\"\n",
    "if not os.path.exists(outdir):\n",
    "    os.mkdir(outdir)"
   ]
  },
  {
   "cell_type": "code",
   "execution_count": null,
   "id": "14b97641-c924-4918-baf8-69698ff11c29",
   "metadata": {},
   "outputs": [],
   "source": [
    "# logging\n",
    "logger = logging.getLogger(\"MyAnimeList\")\n",
    "logger.setLevel(logging.DEBUG)\n",
    "formatter = logging.Formatter(\n",
    "    \"%(name)s:%(levelname)s:%(asctime)s: %(message)s\", datefmt=\"%Y-%m-%d %H:%M:%S\"\n",
    ")\n",
    "for stream in [\n",
    "    logging.StreamHandler(),\n",
    "]:\n",
    "    stream.setFormatter(formatter)\n",
    "    logger.addHandler(stream)"
   ]
  },
  {
   "cell_type": "markdown",
   "id": "3766a96d-37d2-4fd4-b1f5-3bdcff3a134d",
   "metadata": {},
   "source": [
    "## Get anime facts"
   ]
  },
  {
   "cell_type": "code",
   "execution_count": null,
   "id": "4465098b-1e9f-48bf-a35e-9096ef3c8f78",
   "metadata": {},
   "outputs": [],
   "source": [
    "anime = pd.read_csv(os.path.join(source_dir, \"anime_facts/anime.csv\"))"
   ]
  },
  {
   "cell_type": "code",
   "execution_count": null,
   "id": "10138bf8-69f1-41cb-8b4f-e08dacfa448f",
   "metadata": {},
   "outputs": [],
   "source": [
    "anime = anime.sort_values(by=\"anime_id\")"
   ]
  },
  {
   "cell_type": "code",
   "execution_count": null,
   "id": "fc830b14-4849-4837-a860-cf9a186bd168",
   "metadata": {},
   "outputs": [],
   "source": [
    "anime.to_csv(os.path.join(outdir, \"anime.csv\"), index=False)"
   ]
  },
  {
   "cell_type": "code",
   "execution_count": null,
   "id": "32e9631b-dba2-473c-8c41-df2037194b38",
   "metadata": {},
   "outputs": [],
   "source": [
    "%run ImportMalUserLists.ipynb"
   ]
  },
  {
   "cell_type": "code",
   "execution_count": null,
   "id": "68371448-a208-4830-8fc3-451ad3336ffa",
   "metadata": {},
   "outputs": [],
   "source": [
    "if os.path.exists(os.path.join(outdir, \"user_anime_list.mal.csv\")):\n",
    "    os.remove(os.path.join(outdir, \"user_anime_list.mal.csv\"))"
   ]
  },
  {
   "cell_type": "code",
   "execution_count": null,
   "id": "f9e03c3b-ed64-4182-ad32-d032728b8265",
   "metadata": {},
   "outputs": [],
   "source": [
    "for file in glob.glob(os.path.join(source_dir, \"user_anime_facts/user_anime_list.*.csv\")):\n",
    "    verify_user_anime_list_consistency(file)"
   ]
  },
  {
   "cell_type": "code",
   "execution_count": null,
   "id": "f41264d8-84fb-4ed4-b084-151beb794518",
   "metadata": {},
   "outputs": [],
   "source": [
    "for file in glob.glob(os.path.join(source_dir, \"user_anime_facts/user_anime_list.*.csv\")):\n",
    "    process_user_anime_lists(\n",
    "        os.path.join(source_dir, file),\n",
    "        os.path.join(outdir, \"user_anime_list.mal.csv\"),\n",
    "    )"
   ]
  }
 ],
 "metadata": {
  "kernelspec": {
   "display_name": "Python 3 (ipykernel)",
   "language": "python",
   "name": "python3"
  },
  "language_info": {
   "codemirror_mode": {
    "name": "ipython",
    "version": 3
   },
   "file_extension": ".py",
   "mimetype": "text/x-python",
   "name": "python",
   "nbconvert_exporter": "python",
   "pygments_lexer": "ipython3",
   "version": "3.10.4"
  }
 },
 "nbformat": 4,
 "nbformat_minor": 5
}
