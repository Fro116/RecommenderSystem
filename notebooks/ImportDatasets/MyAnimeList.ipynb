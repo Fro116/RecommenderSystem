{
 "cells": [
  {
   "cell_type": "markdown",
   "id": "15b873be-8bb1-48aa-bf48-ccd9a4ff5a09",
   "metadata": {},
   "source": [
    "# Importing datasets\n",
    "* Converts data obtained form the MyAnimeList API into a shared format"
   ]
  },
  {
   "cell_type": "code",
   "execution_count": 1,
   "id": "44f0cf86-8682-41cd-9bb3-eaa4dcc4140a",
   "metadata": {},
   "outputs": [],
   "source": [
    "import os\n",
    "import pickle\n",
    "\n",
    "import pandas as pd"
   ]
  },
  {
   "cell_type": "code",
   "execution_count": 2,
   "id": "9a483591-08d0-4ab7-9ea7-b8ff12bcb859",
   "metadata": {},
   "outputs": [],
   "source": [
    "source_dir = \"../../data/mal/\""
   ]
  },
  {
   "cell_type": "code",
   "execution_count": 3,
   "id": "0704ccb0-363c-43e4-bbaa-acdc5f4ed2cc",
   "metadata": {},
   "outputs": [],
   "source": [
    "outdir = \"../../data/cleaned_data\"\n",
    "if not os.path.exists(outdir):\n",
    "    os.mkdir(outdir)"
   ]
  },
  {
   "cell_type": "markdown",
   "id": "3766a96d-37d2-4fd4-b1f5-3bdcff3a134d",
   "metadata": {},
   "source": [
    "## Get anime facts"
   ]
  },
  {
   "cell_type": "code",
   "execution_count": 5,
   "id": "4465098b-1e9f-48bf-a35e-9096ef3c8f78",
   "metadata": {},
   "outputs": [],
   "source": [
    "anime = pd.read_csv(os.path.join(source_dir, \"anime_facts/anime.csv\"))"
   ]
  },
  {
   "cell_type": "code",
   "execution_count": 6,
   "id": "480e490a-90a1-4060-965f-0103c13801ab",
   "metadata": {},
   "outputs": [
    {
     "data": {
      "text/html": [
       "<div>\n",
       "<style scoped>\n",
       "    .dataframe tbody tr th:only-of-type {\n",
       "        vertical-align: middle;\n",
       "    }\n",
       "\n",
       "    .dataframe tbody tr th {\n",
       "        vertical-align: top;\n",
       "    }\n",
       "\n",
       "    .dataframe thead th {\n",
       "        text-align: right;\n",
       "    }\n",
       "</style>\n",
       "<table border=\"1\" class=\"dataframe\">\n",
       "  <thead>\n",
       "    <tr style=\"text-align: right;\">\n",
       "      <th></th>\n",
       "      <th>Unnamed: 0</th>\n",
       "      <th>anime_id</th>\n",
       "      <th>title</th>\n",
       "      <th>genres</th>\n",
       "      <th>source</th>\n",
       "      <th>related_anime</th>\n",
       "    </tr>\n",
       "  </thead>\n",
       "  <tbody>\n",
       "    <tr>\n",
       "      <th>0</th>\n",
       "      <td>0</td>\n",
       "      <td>1</td>\n",
       "      <td>Cowboy Bebop</td>\n",
       "      <td>['Action', 'Adventure', 'Comedy', 'Drama', 'Sc...</td>\n",
       "      <td>original</td>\n",
       "      <td>[{'anime_id': 5, 'relation': 'side_story'}, {'...</td>\n",
       "    </tr>\n",
       "    <tr>\n",
       "      <th>1</th>\n",
       "      <td>1</td>\n",
       "      <td>5</td>\n",
       "      <td>Cowboy Bebop: Tengoku no Tobira</td>\n",
       "      <td>['Action', 'Drama', 'Mystery', 'Sci-Fi', 'Space']</td>\n",
       "      <td>original</td>\n",
       "      <td>[{'anime_id': 1, 'relation': 'parent_story'}]</td>\n",
       "    </tr>\n",
       "    <tr>\n",
       "      <th>2</th>\n",
       "      <td>2</td>\n",
       "      <td>6</td>\n",
       "      <td>Trigun</td>\n",
       "      <td>['Action', 'Sci-Fi', 'Adventure', 'Comedy', 'D...</td>\n",
       "      <td>manga</td>\n",
       "      <td>[{'anime_id': 4106, 'relation': 'side_story'}]</td>\n",
       "    </tr>\n",
       "    <tr>\n",
       "      <th>3</th>\n",
       "      <td>3</td>\n",
       "      <td>7</td>\n",
       "      <td>Witch Hunter Robin</td>\n",
       "      <td>['Action', 'Mystery', 'Police', 'Supernatural'...</td>\n",
       "      <td>original</td>\n",
       "      <td>[]</td>\n",
       "    </tr>\n",
       "    <tr>\n",
       "      <th>4</th>\n",
       "      <td>4</td>\n",
       "      <td>8</td>\n",
       "      <td>Bouken Ou Beet</td>\n",
       "      <td>['Adventure', 'Fantasy', 'Shounen', 'Supernatu...</td>\n",
       "      <td>manga</td>\n",
       "      <td>[{'anime_id': 1123, 'relation': 'sequel'}]</td>\n",
       "    </tr>\n",
       "    <tr>\n",
       "      <th>...</th>\n",
       "      <td>...</td>\n",
       "      <td>...</td>\n",
       "      <td>...</td>\n",
       "      <td>...</td>\n",
       "      <td>...</td>\n",
       "      <td>...</td>\n",
       "    </tr>\n",
       "    <tr>\n",
       "      <th>22546</th>\n",
       "      <td>22546</td>\n",
       "      <td>49002</td>\n",
       "      <td>Milky party THE ANIMATION</td>\n",
       "      <td>['Ecchi', 'Hentai']</td>\n",
       "      <td>digital_manga</td>\n",
       "      <td>[]</td>\n",
       "    </tr>\n",
       "    <tr>\n",
       "      <th>22547</th>\n",
       "      <td>22547</td>\n",
       "      <td>49003</td>\n",
       "      <td>TabiHani</td>\n",
       "      <td>['Action', 'Comedy', 'Drama', 'Ecchi', 'Fantas...</td>\n",
       "      <td>original</td>\n",
       "      <td>[]</td>\n",
       "    </tr>\n",
       "    <tr>\n",
       "      <th>22548</th>\n",
       "      <td>22548</td>\n",
       "      <td>49004</td>\n",
       "      <td>QUI</td>\n",
       "      <td>['Music']</td>\n",
       "      <td>original</td>\n",
       "      <td>[]</td>\n",
       "    </tr>\n",
       "    <tr>\n",
       "      <th>22549</th>\n",
       "      <td>22549</td>\n",
       "      <td>49005</td>\n",
       "      <td>27th</td>\n",
       "      <td>['Music']</td>\n",
       "      <td>original</td>\n",
       "      <td>[]</td>\n",
       "    </tr>\n",
       "    <tr>\n",
       "      <th>22550</th>\n",
       "      <td>22550</td>\n",
       "      <td>49006</td>\n",
       "      <td>Rick and Morty vs. Genocider</td>\n",
       "      <td>['Action', 'Comedy']</td>\n",
       "      <td>other</td>\n",
       "      <td>[]</td>\n",
       "    </tr>\n",
       "  </tbody>\n",
       "</table>\n",
       "<p>22551 rows × 6 columns</p>\n",
       "</div>"
      ],
      "text/plain": [
       "       Unnamed: 0  anime_id                            title  \\\n",
       "0               0         1                     Cowboy Bebop   \n",
       "1               1         5  Cowboy Bebop: Tengoku no Tobira   \n",
       "2               2         6                           Trigun   \n",
       "3               3         7               Witch Hunter Robin   \n",
       "4               4         8                   Bouken Ou Beet   \n",
       "...           ...       ...                              ...   \n",
       "22546       22546     49002        Milky party THE ANIMATION   \n",
       "22547       22547     49003                         TabiHani   \n",
       "22548       22548     49004                              QUI   \n",
       "22549       22549     49005                             27th   \n",
       "22550       22550     49006     Rick and Morty vs. Genocider   \n",
       "\n",
       "                                                  genres         source  \\\n",
       "0      ['Action', 'Adventure', 'Comedy', 'Drama', 'Sc...       original   \n",
       "1      ['Action', 'Drama', 'Mystery', 'Sci-Fi', 'Space']       original   \n",
       "2      ['Action', 'Sci-Fi', 'Adventure', 'Comedy', 'D...          manga   \n",
       "3      ['Action', 'Mystery', 'Police', 'Supernatural'...       original   \n",
       "4      ['Adventure', 'Fantasy', 'Shounen', 'Supernatu...          manga   \n",
       "...                                                  ...            ...   \n",
       "22546                                ['Ecchi', 'Hentai']  digital_manga   \n",
       "22547  ['Action', 'Comedy', 'Drama', 'Ecchi', 'Fantas...       original   \n",
       "22548                                          ['Music']       original   \n",
       "22549                                          ['Music']       original   \n",
       "22550                               ['Action', 'Comedy']          other   \n",
       "\n",
       "                                           related_anime  \n",
       "0      [{'anime_id': 5, 'relation': 'side_story'}, {'...  \n",
       "1          [{'anime_id': 1, 'relation': 'parent_story'}]  \n",
       "2         [{'anime_id': 4106, 'relation': 'side_story'}]  \n",
       "3                                                     []  \n",
       "4             [{'anime_id': 1123, 'relation': 'sequel'}]  \n",
       "...                                                  ...  \n",
       "22546                                                 []  \n",
       "22547                                                 []  \n",
       "22548                                                 []  \n",
       "22549                                                 []  \n",
       "22550                                                 []  \n",
       "\n",
       "[22551 rows x 6 columns]"
      ]
     },
     "execution_count": 6,
     "metadata": {},
     "output_type": "execute_result"
    }
   ],
   "source": [
    "anime"
   ]
  },
  {
   "cell_type": "code",
   "execution_count": 5,
   "id": "79ab96d3-d0ec-4602-a24a-54d5c7d56575",
   "metadata": {},
   "outputs": [],
   "source": [
    "anime = anime[[\"anime_id\", \"title\", \"genre\", \"type\", \"related\"]].rename(\n",
    "    {\"genre\": \"genres\", \"related\": \"related_anime\"}, axis=1\n",
    ")"
   ]
  },
  {
   "cell_type": "code",
   "execution_count": 6,
   "id": "cc4c186f-ae49-4f4b-a21b-7fa29ce0c6ca",
   "metadata": {},
   "outputs": [],
   "source": [
    "def process_related(related):\n",
    "    related = eval(related)\n",
    "    return [\n",
    "        {\"anime_id\": entry[\"mal_id\"], \"relation\": relation}\n",
    "        for relation in related\n",
    "        for entry in related[relation]\n",
    "        if entry[\"type\"] == \"anime\"\n",
    "    ]"
   ]
  },
  {
   "cell_type": "code",
   "execution_count": 7,
   "id": "92c13816-8251-4fd8-95e2-440ab69615a2",
   "metadata": {},
   "outputs": [],
   "source": [
    "anime[\"related_anime\"] = anime[\"related_anime\"].apply(process_related)"
   ]
  },
  {
   "cell_type": "code",
   "execution_count": 8,
   "id": "10138bf8-69f1-41cb-8b4f-e08dacfa448f",
   "metadata": {},
   "outputs": [],
   "source": [
    "anime = anime.sort_values(by=\"anime_id\")"
   ]
  },
  {
   "cell_type": "code",
   "execution_count": 9,
   "id": "fc830b14-4849-4837-a860-cf9a186bd168",
   "metadata": {},
   "outputs": [],
   "source": [
    "anime.to_csv(os.path.join(outdir, \"anime.csv\"), index=False)"
   ]
  },
  {
   "cell_type": "markdown",
   "id": "112ba05f-739a-4403-a522-8c0811ef23c6",
   "metadata": {},
   "source": [
    "## Get users"
   ]
  },
  {
   "cell_type": "code",
   "execution_count": 4,
   "id": "810d15b5-da7b-4113-a4ff-4cbf31ccd584",
   "metadata": {},
   "outputs": [],
   "source": [
    "users = pd.read_csv(os.path.join(source_dir, \"user_facts/usernames.txt\"), header=None).rename({0: 'username'}, axis=1)"
   ]
  },
  {
   "cell_type": "code",
   "execution_count": 5,
   "id": "5cc2c19b-5c6f-4591-8fa7-38118f41f886",
   "metadata": {},
   "outputs": [],
   "source": [
    "users[[\"username\"]].to_csv(os.path.join(outdir, \"usernames.csv\"), index=False)"
   ]
  },
  {
   "cell_type": "markdown",
   "id": "1be0664d-b52e-48d0-9111-a059252208c8",
   "metadata": {},
   "source": [
    "## Get User Lists"
   ]
  },
  {
   "cell_type": "code",
   "execution_count": 6,
   "id": "ecec7689-d123-4631-a725-b89807eb6f8d",
   "metadata": {},
   "outputs": [],
   "source": [
    "# This may take several minutes to finish\n",
    "anime_lists = pd.read_csv(os.path.join(source_dir, \"user_anime_facts/user_anime_list.csv\"))"
   ]
  },
  {
   "cell_type": "code",
   "execution_count": 7,
   "id": "6d288bf8-e287-4dd0-a619-2b7ef199c449",
   "metadata": {},
   "outputs": [],
   "source": [
    "anime_lists = anime_lists[[\"username\", \"anime_id\", \"my_score\"]]\n",
    "anime_lists = anime_lists.loc[lambda x: x[\"my_score\"] != 0].reset_index(drop=True)"
   ]
  },
  {
   "cell_type": "code",
   "execution_count": 8,
   "id": "56842f0e-f73b-4adc-b09b-b2ec67646fe3",
   "metadata": {},
   "outputs": [],
   "source": [
    "anime_lists.to_pickle(os.path.join(outdir, \"user_anime_lists.pkl\"))"
   ]
  },
  {
   "cell_type": "code",
   "execution_count": 9,
   "id": "a8b45319-b60a-465f-91a6-48772a87ff3e",
   "metadata": {},
   "outputs": [],
   "source": [
    "# This may take several minutes to finish\n",
    "anime_lists.to_csv(os.path.join(outdir, \"user_anime_lists.csv\"), index=False)"
   ]
  },
  {
   "cell_type": "markdown",
   "id": "4187e686-f46a-45cf-9cad-1ef3e24505c5",
   "metadata": {},
   "source": [
    "## Write source"
   ]
  },
  {
   "cell_type": "code",
   "execution_count": 10,
   "id": "087a0f38-b6cd-48f1-aad8-0a694ec43a5c",
   "metadata": {},
   "outputs": [],
   "source": [
    "with open(os.path.join(outdir, \"source.txt\"), \"w\") as f:\n",
    "    f.write(\"Dataset obtained using the MyAnimeList API\")"
   ]
  },
  {
   "cell_type": "code",
   "execution_count": null,
   "id": "3848ed67-6208-4ed9-adab-a8c58a1c699c",
   "metadata": {},
   "outputs": [],
   "source": []
  }
 ],
 "metadata": {
  "kernelspec": {
   "display_name": "Python 3",
   "language": "python",
   "name": "python3"
  },
  "language_info": {
   "codemirror_mode": {
    "name": "ipython",
    "version": 3
   },
   "file_extension": ".py",
   "mimetype": "text/x-python",
   "name": "python",
   "nbconvert_exporter": "python",
   "pygments_lexer": "ipython3",
   "version": "3.8.8"
  }
 },
 "nbformat": 4,
 "nbformat_minor": 5
}
