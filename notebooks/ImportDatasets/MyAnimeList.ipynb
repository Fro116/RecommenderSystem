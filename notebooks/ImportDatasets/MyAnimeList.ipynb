{
 "cells": [
  {
   "cell_type": "markdown",
   "id": "15b873be-8bb1-48aa-bf48-ccd9a4ff5a09",
   "metadata": {},
   "source": [
    "# Importing datasets\n",
    "* Converts data obtained form the MyAnimeList API into a shared format"
   ]
  },
  {
   "cell_type": "code",
   "execution_count": 1,
   "id": "44f0cf86-8682-41cd-9bb3-eaa4dcc4140a",
   "metadata": {},
   "outputs": [],
   "source": [
    "import os\n",
    "import pickle\n",
    "\n",
    "import pandas as pd"
   ]
  },
  {
   "cell_type": "code",
   "execution_count": 2,
   "id": "9a483591-08d0-4ab7-9ea7-b8ff12bcb859",
   "metadata": {},
   "outputs": [],
   "source": [
    "source_dir = \"../../data/mal/\""
   ]
  },
  {
   "cell_type": "code",
   "execution_count": 3,
   "id": "0704ccb0-363c-43e4-bbaa-acdc5f4ed2cc",
   "metadata": {},
   "outputs": [],
   "source": [
    "outdir = \"../../data/cleaned_data\"\n",
    "if not os.path.exists(outdir):\n",
    "    os.mkdir(outdir)"
   ]
  },
  {
   "cell_type": "markdown",
   "id": "3766a96d-37d2-4fd4-b1f5-3bdcff3a134d",
   "metadata": {},
   "source": [
    "## Get anime facts"
   ]
  },
  {
   "cell_type": "code",
   "execution_count": 4,
   "id": "4465098b-1e9f-48bf-a35e-9096ef3c8f78",
   "metadata": {},
   "outputs": [],
   "source": [
    "anime = pd.read_csv(os.path.join(source_dir, \"anime_facts/anime.csv\"))"
   ]
  },
  {
   "cell_type": "code",
   "execution_count": 5,
   "id": "480e490a-90a1-4060-965f-0103c13801ab",
   "metadata": {},
   "outputs": [
    {
     "data": {
      "text/html": [
       "<div>\n",
       "<style scoped>\n",
       "    .dataframe tbody tr th:only-of-type {\n",
       "        vertical-align: middle;\n",
       "    }\n",
       "\n",
       "    .dataframe tbody tr th {\n",
       "        vertical-align: top;\n",
       "    }\n",
       "\n",
       "    .dataframe thead th {\n",
       "        text-align: right;\n",
       "    }\n",
       "</style>\n",
       "<table border=\"1\" class=\"dataframe\">\n",
       "  <thead>\n",
       "    <tr style=\"text-align: right;\">\n",
       "      <th></th>\n",
       "      <th>anime_id</th>\n",
       "      <th>title</th>\n",
       "      <th>medium</th>\n",
       "      <th>related_anime</th>\n",
       "      <th>recommendations</th>\n",
       "      <th>genres</th>\n",
       "      <th>source</th>\n",
       "      <th>num_episodes</th>\n",
       "      <th>status</th>\n",
       "      <th>num_scoring_users</th>\n",
       "    </tr>\n",
       "  </thead>\n",
       "  <tbody>\n",
       "    <tr>\n",
       "      <th>0</th>\n",
       "      <td>1</td>\n",
       "      <td>Cowboy Bebop</td>\n",
       "      <td>tv</td>\n",
       "      <td>[{'anime_id': 5, 'relation': 'side_story'}, {'...</td>\n",
       "      <td>[{'anime_id': 205, 'num_recommendations': 102}...</td>\n",
       "      <td>['Action', 'Adventure', 'Comedy', 'Drama', 'Sc...</td>\n",
       "      <td>original</td>\n",
       "      <td>26</td>\n",
       "      <td>finished_airing</td>\n",
       "      <td>656443</td>\n",
       "    </tr>\n",
       "    <tr>\n",
       "      <th>1</th>\n",
       "      <td>5</td>\n",
       "      <td>Cowboy Bebop: Tengoku no Tobira</td>\n",
       "      <td>movie</td>\n",
       "      <td>[{'anime_id': 1, 'relation': 'parent_story'}]</td>\n",
       "      <td>[{'anime_id': 4106, 'num_recommendations': 3},...</td>\n",
       "      <td>['Action', 'Drama', 'Mystery', 'Sci-Fi', 'Space']</td>\n",
       "      <td>original</td>\n",
       "      <td>1</td>\n",
       "      <td>finished_airing</td>\n",
       "      <td>167562</td>\n",
       "    </tr>\n",
       "    <tr>\n",
       "      <th>2</th>\n",
       "      <td>6</td>\n",
       "      <td>Trigun</td>\n",
       "      <td>tv</td>\n",
       "      <td>[{'anime_id': 4106, 'relation': 'side_story'}]</td>\n",
       "      <td>[{'anime_id': 1, 'num_recommendations': 73}, {...</td>\n",
       "      <td>['Action', 'Sci-Fi', 'Adventure', 'Comedy', 'D...</td>\n",
       "      <td>manga</td>\n",
       "      <td>26</td>\n",
       "      <td>finished_airing</td>\n",
       "      <td>287444</td>\n",
       "    </tr>\n",
       "    <tr>\n",
       "      <th>3</th>\n",
       "      <td>7</td>\n",
       "      <td>Witch Hunter Robin</td>\n",
       "      <td>tv</td>\n",
       "      <td>[]</td>\n",
       "      <td>[{'anime_id': 2025, 'num_recommendations': 12}...</td>\n",
       "      <td>['Action', 'Mystery', 'Police', 'Supernatural'...</td>\n",
       "      <td>original</td>\n",
       "      <td>26</td>\n",
       "      <td>finished_airing</td>\n",
       "      <td>37058</td>\n",
       "    </tr>\n",
       "    <tr>\n",
       "      <th>4</th>\n",
       "      <td>8</td>\n",
       "      <td>Bouken Ou Beet</td>\n",
       "      <td>tv</td>\n",
       "      <td>[{'anime_id': 1123, 'relation': 'sequel'}]</td>\n",
       "      <td>[{'anime_id': 136, 'num_recommendations': 2}, ...</td>\n",
       "      <td>['Adventure', 'Fantasy', 'Shounen', 'Supernatu...</td>\n",
       "      <td>manga</td>\n",
       "      <td>52</td>\n",
       "      <td>finished_airing</td>\n",
       "      <td>5454</td>\n",
       "    </tr>\n",
       "    <tr>\n",
       "      <th>...</th>\n",
       "      <td>...</td>\n",
       "      <td>...</td>\n",
       "      <td>...</td>\n",
       "      <td>...</td>\n",
       "      <td>...</td>\n",
       "      <td>...</td>\n",
       "      <td>...</td>\n",
       "      <td>...</td>\n",
       "      <td>...</td>\n",
       "      <td>...</td>\n",
       "    </tr>\n",
       "    <tr>\n",
       "      <th>17866</th>\n",
       "      <td>48992</td>\n",
       "      <td>Aru Nihon no Ekaki Shounen</td>\n",
       "      <td>movie</td>\n",
       "      <td>[]</td>\n",
       "      <td>[]</td>\n",
       "      <td>['Comedy', 'Dementia']</td>\n",
       "      <td>original</td>\n",
       "      <td>1</td>\n",
       "      <td>finished_airing</td>\n",
       "      <td>0</td>\n",
       "    </tr>\n",
       "    <tr>\n",
       "      <th>17867</th>\n",
       "      <td>48997</td>\n",
       "      <td>Fantasy Bishoujo Juniku Ojisan to</td>\n",
       "      <td>tv</td>\n",
       "      <td>[]</td>\n",
       "      <td>[]</td>\n",
       "      <td>['Adventure', 'Comedy', 'Fantasy']</td>\n",
       "      <td>manga</td>\n",
       "      <td>0</td>\n",
       "      <td>not_yet_aired</td>\n",
       "      <td>0</td>\n",
       "    </tr>\n",
       "    <tr>\n",
       "      <th>17868</th>\n",
       "      <td>49014</td>\n",
       "      <td>Daisan no Shinzou</td>\n",
       "      <td>music</td>\n",
       "      <td>[]</td>\n",
       "      <td>[{'anime_id': 30771, 'num_recommendations': 1}...</td>\n",
       "      <td>['Music']</td>\n",
       "      <td>original</td>\n",
       "      <td>1</td>\n",
       "      <td>finished_airing</td>\n",
       "      <td>47</td>\n",
       "    </tr>\n",
       "    <tr>\n",
       "      <th>17869</th>\n",
       "      <td>49020</td>\n",
       "      <td>Jashin Shoukan: Inran Kyonyuu Oyako Ikenie Gis...</td>\n",
       "      <td>ova</td>\n",
       "      <td>[]</td>\n",
       "      <td>[]</td>\n",
       "      <td>['Hentai']</td>\n",
       "      <td>visual_novel</td>\n",
       "      <td>2</td>\n",
       "      <td>not_yet_aired</td>\n",
       "      <td>0</td>\n",
       "    </tr>\n",
       "    <tr>\n",
       "      <th>17870</th>\n",
       "      <td>49026</td>\n",
       "      <td>Yuru Camp△ Season 2 Specials</td>\n",
       "      <td>special</td>\n",
       "      <td>[{'anime_id': 38474, 'relation': 'other'}]</td>\n",
       "      <td>[]</td>\n",
       "      <td>['Slice of Life', 'Comedy']</td>\n",
       "      <td>manga</td>\n",
       "      <td>2</td>\n",
       "      <td>currently_airing</td>\n",
       "      <td>3</td>\n",
       "    </tr>\n",
       "  </tbody>\n",
       "</table>\n",
       "<p>17871 rows × 10 columns</p>\n",
       "</div>"
      ],
      "text/plain": [
       "       anime_id                                              title   medium  \\\n",
       "0             1                                       Cowboy Bebop       tv   \n",
       "1             5                    Cowboy Bebop: Tengoku no Tobira    movie   \n",
       "2             6                                             Trigun       tv   \n",
       "3             7                                 Witch Hunter Robin       tv   \n",
       "4             8                                     Bouken Ou Beet       tv   \n",
       "...         ...                                                ...      ...   \n",
       "17866     48992                         Aru Nihon no Ekaki Shounen    movie   \n",
       "17867     48997                  Fantasy Bishoujo Juniku Ojisan to       tv   \n",
       "17868     49014                                  Daisan no Shinzou    music   \n",
       "17869     49020  Jashin Shoukan: Inran Kyonyuu Oyako Ikenie Gis...      ova   \n",
       "17870     49026                       Yuru Camp△ Season 2 Specials  special   \n",
       "\n",
       "                                           related_anime  \\\n",
       "0      [{'anime_id': 5, 'relation': 'side_story'}, {'...   \n",
       "1          [{'anime_id': 1, 'relation': 'parent_story'}]   \n",
       "2         [{'anime_id': 4106, 'relation': 'side_story'}]   \n",
       "3                                                     []   \n",
       "4             [{'anime_id': 1123, 'relation': 'sequel'}]   \n",
       "...                                                  ...   \n",
       "17866                                                 []   \n",
       "17867                                                 []   \n",
       "17868                                                 []   \n",
       "17869                                                 []   \n",
       "17870         [{'anime_id': 38474, 'relation': 'other'}]   \n",
       "\n",
       "                                         recommendations  \\\n",
       "0      [{'anime_id': 205, 'num_recommendations': 102}...   \n",
       "1      [{'anime_id': 4106, 'num_recommendations': 3},...   \n",
       "2      [{'anime_id': 1, 'num_recommendations': 73}, {...   \n",
       "3      [{'anime_id': 2025, 'num_recommendations': 12}...   \n",
       "4      [{'anime_id': 136, 'num_recommendations': 2}, ...   \n",
       "...                                                  ...   \n",
       "17866                                                 []   \n",
       "17867                                                 []   \n",
       "17868  [{'anime_id': 30771, 'num_recommendations': 1}...   \n",
       "17869                                                 []   \n",
       "17870                                                 []   \n",
       "\n",
       "                                                  genres        source  \\\n",
       "0      ['Action', 'Adventure', 'Comedy', 'Drama', 'Sc...      original   \n",
       "1      ['Action', 'Drama', 'Mystery', 'Sci-Fi', 'Space']      original   \n",
       "2      ['Action', 'Sci-Fi', 'Adventure', 'Comedy', 'D...         manga   \n",
       "3      ['Action', 'Mystery', 'Police', 'Supernatural'...      original   \n",
       "4      ['Adventure', 'Fantasy', 'Shounen', 'Supernatu...         manga   \n",
       "...                                                  ...           ...   \n",
       "17866                             ['Comedy', 'Dementia']      original   \n",
       "17867                 ['Adventure', 'Comedy', 'Fantasy']         manga   \n",
       "17868                                          ['Music']      original   \n",
       "17869                                         ['Hentai']  visual_novel   \n",
       "17870                        ['Slice of Life', 'Comedy']         manga   \n",
       "\n",
       "       num_episodes            status  num_scoring_users  \n",
       "0                26   finished_airing             656443  \n",
       "1                 1   finished_airing             167562  \n",
       "2                26   finished_airing             287444  \n",
       "3                26   finished_airing              37058  \n",
       "4                52   finished_airing               5454  \n",
       "...             ...               ...                ...  \n",
       "17866             1   finished_airing                  0  \n",
       "17867             0     not_yet_aired                  0  \n",
       "17868             1   finished_airing                 47  \n",
       "17869             2     not_yet_aired                  0  \n",
       "17870             2  currently_airing                  3  \n",
       "\n",
       "[17871 rows x 10 columns]"
      ]
     },
     "execution_count": 5,
     "metadata": {},
     "output_type": "execute_result"
    }
   ],
   "source": [
    "anime"
   ]
  },
  {
   "cell_type": "code",
   "execution_count": 6,
   "id": "79ab96d3-d0ec-4602-a24a-54d5c7d56575",
   "metadata": {},
   "outputs": [],
   "source": [
    "anime = anime[[\"anime_id\", \"title\", \"genres\", \"medium\", \"related_anime\", \"recommendations\"]]"
   ]
  },
  {
   "cell_type": "code",
   "execution_count": 7,
   "id": "10138bf8-69f1-41cb-8b4f-e08dacfa448f",
   "metadata": {},
   "outputs": [],
   "source": [
    "anime = anime.sort_values(by=\"anime_id\")"
   ]
  },
  {
   "cell_type": "code",
   "execution_count": 8,
   "id": "fc830b14-4849-4837-a860-cf9a186bd168",
   "metadata": {},
   "outputs": [],
   "source": [
    "anime.to_csv(os.path.join(outdir, \"anime.csv\"), index=False)"
   ]
  },
  {
   "cell_type": "markdown",
   "id": "112ba05f-739a-4403-a522-8c0811ef23c6",
   "metadata": {},
   "source": [
    "## Get users"
   ]
  },
  {
   "cell_type": "code",
   "execution_count": 9,
   "id": "810d15b5-da7b-4113-a4ff-4cbf31ccd584",
   "metadata": {},
   "outputs": [],
   "source": [
    "users = pd.read_csv(os.path.join(source_dir, \"user_facts/usernames.txt\"), header=None).rename({0: 'username'}, axis=1)"
   ]
  },
  {
   "cell_type": "code",
   "execution_count": 10,
   "id": "5cc2c19b-5c6f-4591-8fa7-38118f41f886",
   "metadata": {},
   "outputs": [],
   "source": [
    "users[[\"username\"]].to_csv(os.path.join(outdir, \"usernames.csv\"), index=False)"
   ]
  },
  {
   "cell_type": "markdown",
   "id": "1be0664d-b52e-48d0-9111-a059252208c8",
   "metadata": {},
   "source": [
    "## Get User Lists"
   ]
  },
  {
   "cell_type": "code",
   "execution_count": 11,
   "id": "ecec7689-d123-4631-a725-b89807eb6f8d",
   "metadata": {},
   "outputs": [],
   "source": [
    "# This may take several minutes to finish\n",
    "anime_lists = pd.read_csv(os.path.join(source_dir, \"user_anime_facts/user_anime_list.csv\"))"
   ]
  },
  {
   "cell_type": "code",
   "execution_count": 12,
   "id": "6d288bf8-e287-4dd0-a619-2b7ef199c449",
   "metadata": {},
   "outputs": [],
   "source": [
    "anime_lists = anime_lists[[\"username\", \"anime_id\", \"my_score\"]]\n",
    "anime_lists = anime_lists.loc[lambda x: x[\"my_score\"] != 0].reset_index(drop=True)"
   ]
  },
  {
   "cell_type": "code",
   "execution_count": 13,
   "id": "56842f0e-f73b-4adc-b09b-b2ec67646fe3",
   "metadata": {},
   "outputs": [],
   "source": [
    "anime_lists.to_pickle(os.path.join(outdir, \"user_anime_lists.pkl\"))"
   ]
  },
  {
   "cell_type": "code",
   "execution_count": 14,
   "id": "a8b45319-b60a-465f-91a6-48772a87ff3e",
   "metadata": {},
   "outputs": [],
   "source": [
    "# This may take several minutes to finish\n",
    "anime_lists.to_csv(os.path.join(outdir, \"user_anime_lists.csv\"), index=False)"
   ]
  },
  {
   "cell_type": "markdown",
   "id": "4187e686-f46a-45cf-9cad-1ef3e24505c5",
   "metadata": {},
   "source": [
    "## Write source"
   ]
  },
  {
   "cell_type": "code",
   "execution_count": 15,
   "id": "087a0f38-b6cd-48f1-aad8-0a694ec43a5c",
   "metadata": {},
   "outputs": [],
   "source": [
    "with open(os.path.join(outdir, \"source.txt\"), \"w\") as f:\n",
    "    f.write(\"Dataset obtained using the MyAnimeList API\")"
   ]
  },
  {
   "cell_type": "code",
   "execution_count": null,
   "id": "3848ed67-6208-4ed9-adab-a8c58a1c699c",
   "metadata": {},
   "outputs": [],
   "source": []
  }
 ],
 "metadata": {
  "kernelspec": {
   "display_name": "Python 3",
   "language": "python",
   "name": "python3"
  },
  "language_info": {
   "codemirror_mode": {
    "name": "ipython",
    "version": 3
   },
   "file_extension": ".py",
   "mimetype": "text/x-python",
   "name": "python",
   "nbconvert_exporter": "python",
   "pygments_lexer": "ipython3",
   "version": "3.8.8"
  }
 },
 "nbformat": 4,
 "nbformat_minor": 5
}
