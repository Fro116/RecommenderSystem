{
 "cells": [
  {
   "cell_type": "markdown",
   "id": "3602d171-5c6c-4dc9-8a2d-71fc7f06e6c0",
   "metadata": {
    "execution": {
     "iopub.execute_input": "2023-11-10T00:48:38.689478Z",
     "iopub.status.busy": "2023-11-10T00:48:38.689268Z",
     "iopub.status.idle": "2023-11-10T00:48:38.694685Z",
     "shell.execute_reply": "2023-11-10T00:48:38.694177Z",
     "shell.execute_reply.started": "2023-11-10T00:48:38.689454Z"
    }
   },
   "source": [
    "# Animeplanet Mappings\n",
    "* map between animeplanet title and mal id"
   ]
  },
  {
   "cell_type": "code",
   "execution_count": null,
   "id": "9f8220cf-fcbe-4731-8133-a5bd841cf88a",
   "metadata": {},
   "outputs": [],
   "source": [
    "import glob\n",
    "import html\n",
    "import json\n",
    "import os\n",
    "\n",
    "import pandas as pd\n",
    "import rapidfuzz\n",
    "from tqdm import tqdm"
   ]
  },
  {
   "cell_type": "code",
   "execution_count": null,
   "id": "1e4521e1-b786-49eb-9eca-7f8242b3814e",
   "metadata": {},
   "outputs": [],
   "source": [
    "os.chdir(\"../../data/raw_data\")\n",
    "os.makedirs(\"../processed_data\", exist_ok=True)"
   ]
  },
  {
   "cell_type": "code",
   "execution_count": null,
   "id": "e5790498-88e7-45a8-a85c-d2ac53d5e062",
   "metadata": {},
   "outputs": [],
   "source": [
    "def get_titles(input_fn):\n",
    "    titles = {}\n",
    "    with open(input_fn, \"r\") as in_file:\n",
    "        header = False\n",
    "        for line in tqdm(in_file):\n",
    "            fields = line.strip().split(\",\")\n",
    "            if not header:\n",
    "                header = True\n",
    "                header_fields = fields\n",
    "                continue\n",
    "            t = fields[header_fields.index(\"title\")]\n",
    "            if t not in titles:\n",
    "                titles[t] = 0\n",
    "            titles[t] += 1\n",
    "    return titles"
   ]
  },
  {
   "cell_type": "code",
   "execution_count": null,
   "id": "a72f3d76-3ed0-46ef-9462-9571a11977a3",
   "metadata": {},
   "outputs": [],
   "source": [
    "# TODO better fuzzy matching\n",
    "def fuzzy_match(keys, database, matches, sanitize):\n",
    "    # fuzzy match keys with database and append the output to matches\n",
    "    # returns the number of extra matches\n",
    "    total = 0\n",
    "    db_keys = [sanitize(x) for x in database.keys()]\n",
    "    db_values = list(database.values())\n",
    "    for x in tqdm(keys):\n",
    "        if x in matches:\n",
    "            continue\n",
    "        match = rapidfuzz.process.extractOne(\n",
    "            sanitize(x),\n",
    "            db_keys,\n",
    "            scorer=rapidfuzz.fuzz.ratio,\n",
    "            score_cutoff=85,\n",
    "        )\n",
    "        if match is not None:\n",
    "            matches[x] = db_values[match[2]]\n",
    "            total += 1\n",
    "    return total"
   ]
  },
  {
   "cell_type": "code",
   "execution_count": null,
   "id": "569e5330-91d6-4a3e-ae84-63aac0776735",
   "metadata": {},
   "outputs": [],
   "source": [
    "def get_keys(medium):\n",
    "    media_path = os.path.join(\n",
    "        \"../animeplanet\", f\"user_media_facts/user_{medium}_list.*.csv\"\n",
    "    )\n",
    "    media_fns = sorted(glob.glob(media_path))\n",
    "    titles = {}\n",
    "    for file in media_fns:\n",
    "        for k, v in get_titles(file).items():\n",
    "            if k not in titles:\n",
    "                titles[k] = 0\n",
    "            titles[k] += v\n",
    "    return titles"
   ]
  },
  {
   "cell_type": "markdown",
   "id": "e9adf3a9-c083-4b0c-82ac-5916d1c0932d",
   "metadata": {},
   "source": [
    "# Load from db"
   ]
  },
  {
   "cell_type": "code",
   "execution_count": null,
   "id": "7d401ab7-06d4-41ba-8739-adf987fd2971",
   "metadata": {},
   "outputs": [],
   "source": [
    "def get_database_mapping():\n",
    "    # Imports anime mappings from https://github.com/manami-project/anime-offline-database\n",
    "    html_to_mal = {}\n",
    "    try:\n",
    "        if os.path.exists(\"anime-offline-database.json\"):\n",
    "            os.remove(\"anime-offline-database.json\")\n",
    "        json_fn = \"https://github.com/manami-project/anime-offline-database/raw/master/anime-offline-database.json\"\n",
    "        ! wget $json_fn\n",
    "        with open(\"anime-offline-database.json\", \"r\") as f:\n",
    "            db = json.load(f)\n",
    "        for d in db[\"data\"]:\n",
    "            mal = None\n",
    "            html = None\n",
    "            for x in d[\"sources\"]:\n",
    "                if \"myanimelist.net\" in x:\n",
    "                    mal = x.split(\"/\")[-1]\n",
    "                elif \"anime-planet.com\" in x:\n",
    "                    html = x.split(\"/\")[-1]\n",
    "            if mal is not None and html is not None:\n",
    "                html_to_mal[html] = int(mal)\n",
    "    except Exception as e:\n",
    "        print(str(e))\n",
    "    return html_to_mal"
   ]
  },
  {
   "cell_type": "code",
   "execution_count": null,
   "id": "f05ecf80-1214-4ea3-9d18-2872d8cd6f69",
   "metadata": {},
   "outputs": [],
   "source": [
    "def html_sanitize(x):\n",
    "    return html.unescape(x.lower())"
   ]
  },
  {
   "cell_type": "markdown",
   "id": "40932e0b-25da-4eef-92a2-2f611338024b",
   "metadata": {},
   "source": [
    "# Load from titles"
   ]
  },
  {
   "cell_type": "code",
   "execution_count": null,
   "id": "ad65ef23-daed-48eb-9b54-d9c5422e1e91",
   "metadata": {},
   "outputs": [],
   "source": [
    "def get_media_mapping(medium):\n",
    "    df = pd.read_csv(f\"{medium}.csv\")\n",
    "    has_english_title = ~df.english_title.isna()\n",
    "    medium_to_suffix = {\"light_novel\": \" (novel)\", \"novel\": \" (novel)\"}\n",
    "    synonym_to_uid = {}\n",
    "    for i in range(len(df)):\n",
    "        suffix = medium_to_suffix.get(df.type[i], \"\")\n",
    "        synonym_to_uid[df.title[i] + suffix] = df[f\"{medium}_id\"][i]\n",
    "        if has_english_title[i]:\n",
    "            synonym_to_uid[df.english_title[i] + suffix] = df[f\"{medium}_id\"][i]\n",
    "    return synonym_to_uid"
   ]
  },
  {
   "cell_type": "markdown",
   "id": "9b0464e8-333a-4ec1-a0aa-c76e66333211",
   "metadata": {},
   "source": [
    "# Save results"
   ]
  },
  {
   "cell_type": "code",
   "execution_count": null,
   "id": "5ed4bd5b-fb52-4d97-9e8f-003c5d6c6c9c",
   "metadata": {},
   "outputs": [],
   "source": [
    "def write(medium, mapping):\n",
    "    with open(f\"../processed_data/animeplanet_{medium}_to_uid.csv\", \"w\") as f:\n",
    "        f.write(f\"title,{medium}_id\\n\")\n",
    "        for k, v in mapping.items():\n",
    "            f.write(f\"{k},{v}\\n\")"
   ]
  },
  {
   "cell_type": "code",
   "execution_count": null,
   "id": "61845b52-40ad-4017-87f5-6100ea58c907",
   "metadata": {},
   "outputs": [],
   "source": [
    "def write_unmapped(medium, keys, mapping):\n",
    "    df = pd.DataFrame.from_dict(keys, orient=\"index\").reset_index()\n",
    "    df.columns = [\"title\", \"count\"]\n",
    "    df = df.loc[lambda x: ~x.title.isin(mapping.keys())].sort_values(\n",
    "        by=\"count\", ascending=False\n",
    "    )\n",
    "    df.to_csv(f\"../processed_data/animeplanet_{medium}_unmapped.csv\", index=False)"
   ]
  },
  {
   "cell_type": "code",
   "execution_count": null,
   "id": "77e0871d-d030-4ba3-9ea4-d7691ac59c80",
   "metadata": {},
   "outputs": [],
   "source": [
    "anime_keys = get_keys(\"anime\")\n",
    "anime_to_uid = {}\n",
    "fuzzy_match(list(anime_keys), get_database_mapping(), anime_to_uid, html_sanitize)\n",
    "fuzzy_match(list(anime_keys), get_media_mapping(\"anime\"), anime_to_uid, html_sanitize)\n",
    "write(\"anime\", anime_to_uid)\n",
    "write_unmapped(\"anime\", anime_keys, anime_to_uid)"
   ]
  },
  {
   "cell_type": "code",
   "execution_count": null,
   "id": "fb250b7a-60a3-473b-8c23-fabc219179cc",
   "metadata": {
    "scrolled": true
   },
   "outputs": [],
   "source": [
    "manga_keys = get_keys(\"manga\")\n",
    "manga_to_uid = {}\n",
    "fuzzy_match(list(manga_keys), get_media_mapping(\"manga\"), manga_to_uid, html_sanitize)\n",
    "write(\"manga\", manga_to_uid)\n",
    "write_unmapped(\"manga\", manga_keys, manga_to_uid)"
   ]
  },
  {
   "cell_type": "code",
   "execution_count": null,
   "id": "ae51513e-761f-46f7-8350-70f33bd2eef9",
   "metadata": {},
   "outputs": [],
   "source": [
    "# TODO manually review unmapped items"
   ]
  }
 ],
 "metadata": {
  "kernelspec": {
   "display_name": "Python 3 (ipykernel)",
   "language": "python",
   "name": "python3"
  },
  "language_info": {
   "codemirror_mode": {
    "name": "ipython",
    "version": 3
   },
   "file_extension": ".py",
   "mimetype": "text/x-python",
   "name": "python",
   "nbconvert_exporter": "python",
   "pygments_lexer": "ipython3",
   "version": "3.10.12"
  }
 },
 "nbformat": 4,
 "nbformat_minor": 5
}
