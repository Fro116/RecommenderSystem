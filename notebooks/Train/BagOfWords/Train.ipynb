{
 "cells": [
  {
   "cell_type": "markdown",
   "id": "2fe867dd-8cfb-4a55-bd99-22071edc2b3b",
   "metadata": {
    "editable": true,
    "slideshow": {
     "slide_type": ""
    },
    "tags": []
   },
   "source": [
    "# BagOfWords\n",
    "* Trains a denoising autoencoder"
   ]
  },
  {
   "cell_type": "code",
   "execution_count": null,
   "id": "4fff7ee3-3e13-4c72-8941-a1744a615e8d",
   "metadata": {
    "editable": true,
    "slideshow": {
     "slide_type": ""
    },
    "tags": []
   },
   "outputs": [],
   "source": [
    "import NBInclude: @nbinclude\n",
    "@nbinclude(\"../TrainingAlpha.ipynb\");"
   ]
  },
  {
   "cell_type": "code",
   "execution_count": null,
   "id": "bfd56259-4513-4297-a978-99c765532231",
   "metadata": {
    "editable": true,
    "slideshow": {
     "slide_type": ""
    },
    "tags": [
     "parameters"
    ]
   },
   "outputs": [],
   "source": [
    "version = \"\"\n",
    "dataset = \"\"\n",
    "medium = \"\"\n",
    "metric = \"\";"
   ]
  },
  {
   "cell_type": "code",
   "execution_count": null,
   "id": "c408dbe8-3ce1-4337-b672-17536788d93d",
   "metadata": {
    "editable": true,
    "slideshow": {
     "slide_type": ""
    },
    "tags": []
   },
   "outputs": [],
   "source": [
    "function train_model(dataset, medium, metric, version)\n",
    "    outdir = get_data_path(\"alphas/bagofwords/$version/$dataset/$medium/$metric\")\n",
    "    args = [\"python3\", \"pytorch.py\", \"--outdir\", outdir]\n",
    "    if dataset == \"streaming\"\n",
    "        append!(\n",
    "            args,\n",
    "            [\n",
    "                \"--init\",\n",
    "                get_data_path(\n",
    "                    \"alphas/bagofwords/$version/training/$medium/$metric/model.pt\",\n",
    "                ),\n",
    "            ],\n",
    "        )\n",
    "    end\n",
    "    run(`$args`)\n",
    "    rm.([\"$outdir/$x.h5\" for x in [\"train\", \"test\"]])\n",
    "end;"
   ]
  },
  {
   "cell_type": "code",
   "execution_count": null,
   "id": "68ffdd62-c3be-4df7-9880-833d15698c44",
   "metadata": {
    "editable": true,
    "scrolled": true,
    "slideshow": {
     "slide_type": ""
    },
    "tags": []
   },
   "outputs": [],
   "source": [
    "train_model(dataset, medium, metric, version);"
   ]
  }
 ],
 "metadata": {
  "kernelspec": {
   "display_name": "Julia 1.10.2",
   "language": "julia",
   "name": "julia-1.10"
  },
  "language_info": {
   "file_extension": ".jl",
   "mimetype": "application/julia",
   "name": "julia",
   "version": "1.10.2"
  }
 },
 "nbformat": 4,
 "nbformat_minor": 5
}
