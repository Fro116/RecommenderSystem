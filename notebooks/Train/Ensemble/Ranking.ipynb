{
 "cells": [
  {
   "cell_type": "markdown",
   "id": "2df5351f-2171-4365-b750-8984d42c5fe5",
   "metadata": {
    "editable": true,
    "slideshow": {
     "slide_type": ""
    },
    "tags": []
   },
   "source": [
    "# Ranking\n",
    "* Learns the preference relation implied by future watches\n",
    "* Uses a modified form of the position-aware list-mle loss"
   ]
  },
  {
   "cell_type": "code",
   "execution_count": null,
   "id": "5781704c-40c0-48ca-8563-6e6e2d7ae045",
   "metadata": {
    "editable": true,
    "slideshow": {
     "slide_type": ""
    },
    "tags": [
     "parameters"
    ]
   },
   "outputs": [],
   "source": [
    "medium = \"\""
   ]
  },
  {
   "cell_type": "code",
   "execution_count": null,
   "id": "675ef55d-77be-4ebd-b636-6e6a6b155f7c",
   "metadata": {},
   "outputs": [],
   "source": [
    "import NBInclude: @nbinclude\n",
    "@nbinclude(\"../Alpha.ipynb\");"
   ]
  },
  {
   "cell_type": "code",
   "execution_count": null,
   "id": "3c255f75-fcf4-4d68-acfc-1790fefdb4c3",
   "metadata": {},
   "outputs": [],
   "source": [
    "import MLUtils\n",
    "import Random\n",
    "import StatsBase"
   ]
  },
  {
   "cell_type": "code",
   "execution_count": null,
   "id": "82060e01-e191-486c-9140-1d79d3293101",
   "metadata": {},
   "outputs": [],
   "source": [
    "import H5Zblosc\n",
    "import HDF5"
   ]
  },
  {
   "cell_type": "markdown",
   "id": "983021fc-ca79-476d-ac40-08e7fa6daa31",
   "metadata": {},
   "source": [
    "# Data"
   ]
  },
  {
   "cell_type": "code",
   "execution_count": null,
   "id": "6fca9aca-ccb6-4a25-8dfc-c523dbf4ddfc",
   "metadata": {},
   "outputs": [],
   "source": [
    "function get_features(alphas::Vector{String}, split::String, medium::String)\n",
    "    @info \"getting $split $medium $alphas\"\n",
    "    N = length(get_raw_split(split, medium, [:userid], nothing).userid)\n",
    "    T = Float16\n",
    "    A = Matrix{T}(undef, N, length(alphas))\n",
    "    @assert length(alphas) == get_feature_size()\n",
    "    @showprogress for i = 1:length(alphas)\n",
    "        x = get_raw_split(split, medium, Symbol[], alphas[i]).alpha\n",
    "        # normalize and make monotonic\n",
    "        if alphas[i] == \"$medium/Linear/rating\"\n",
    "            x = clamp.(x / 10, 0, 1)\n",
    "        elseif alphas[i] in [\"$medium/Linear/watch\", \"$medium/Linear/plantowatch\"]\n",
    "            nothing\n",
    "        elseif alphas[i] == \"$medium/Linear/drop\"\n",
    "            x = 1 .- x\n",
    "        else\n",
    "            @assert false\n",
    "        end\n",
    "        @assert minimum(x) >= 0 && maximum(x) <= 1\n",
    "        A[:, i] = convert.(T, x)\n",
    "    end\n",
    "    collect(A')\n",
    "end\n",
    "\n",
    "function get_features(alphas::Vector{String}, medium::String)\n",
    "    reduce(hcat, [get_features(alphas, x, medium) for x in [\"test\", \"negative\"]])\n",
    "end\n",
    "\n",
    "function get_feature_size()\n",
    "    4\n",
    "end;"
   ]
  },
  {
   "cell_type": "code",
   "execution_count": null,
   "id": "41a5e627-f871-454b-9e7c-fcc77ae4c91e",
   "metadata": {},
   "outputs": [],
   "source": [
    "function get_priority_size()\n",
    "    3\n",
    "end\n",
    "\n",
    "function get_priorities(split::String, medium::String)\n",
    "    @info \"getting $split $medium priorities\"\n",
    "    if split == \"test\"\n",
    "        fields = [:userid, :itemid, :rating, :status]\n",
    "    elseif split == \"negative\"\n",
    "        fields = [:userid, :itemid]\n",
    "    else\n",
    "        @assert false\n",
    "    end\n",
    "    df = get_raw_split(split, medium, fields, nothing)\n",
    "    A = Matrix{Float16}(undef, get_priority_size(), length(df.userid))\n",
    "    @showprogress for i = 1:length(df.userid)\n",
    "        if split == \"test\"\n",
    "            p = Float16[1, NaN, df.status[i]]\n",
    "            if df.rating[i] != 0\n",
    "                p[2] = df.rating[i]\n",
    "            end\n",
    "        elseif split == \"negative\"\n",
    "            p = Float16[0, NaN, NaN]\n",
    "        else\n",
    "            @assert false\n",
    "        end\n",
    "        A[:, i] = p\n",
    "    end\n",
    "    A\n",
    "end\n",
    "\n",
    "function get_priorities(medium::String)\n",
    "    reduce(hcat, [get_priorities(x, medium) for x in [\"test\", \"negative\"]])\n",
    "end;"
   ]
  },
  {
   "cell_type": "code",
   "execution_count": null,
   "id": "d822e18a-19a0-4af9-b015-ccccd22a74dc",
   "metadata": {},
   "outputs": [],
   "source": [
    "function get_user_to_indexes(medium::String, splits::Vector{String})\n",
    "    u_to_xs = Dict{Int32,Vector{Int32}}()\n",
    "    index::Int32 = 1\n",
    "    for split in splits\n",
    "        df = get_raw_split(split, medium, [:userid], nothing)\n",
    "        @showprogress for u in df.userid\n",
    "            if u ∉ keys(u_to_xs)\n",
    "                u_to_xs[u] = Int32[]\n",
    "            end\n",
    "            push!(u_to_xs[u], index)\n",
    "            index += 1\n",
    "        end\n",
    "    end\n",
    "    u_to_xs\n",
    "end;"
   ]
  },
  {
   "cell_type": "code",
   "execution_count": null,
   "id": "d4f7e3e1-4486-47ff-8a45-bdc4108724bd",
   "metadata": {},
   "outputs": [],
   "source": [
    "@kwdef struct Features\n",
    "    features::Matrix{Float32}\n",
    "    priorities::Matrix{Float16}\n",
    "    user_to_indexes::Dict{Int32,Vector{Int32}}\n",
    "    user_to_watched_indexes::Dict{Int32,Vector{Int32}}\n",
    "    training_users::Vector{Int32}\n",
    "    test_users::Vector{Int32}\n",
    "end\n",
    "\n",
    "function load_features()\n",
    "    alphas = [\"$medium/Linear/$metric\" for metric in ALL_METRICS]\n",
    "    F = get_features(alphas, medium)\n",
    "    P = get_priorities(medium)\n",
    "    u_to_i = get_user_to_indexes(medium, [\"test\", \"negative\"])\n",
    "    u_to_w = get_user_to_indexes(medium, [\"test\"])\n",
    "\n",
    "    users = collect(keys(u_to_i))\n",
    "    test_users =\n",
    "        Set(StatsBase.sample(users, Int(round(length(users) * 0.1)); replace = false))\n",
    "    training_users = Set(x for x in users if x ∉ test_users)\n",
    "    Features(F, P, u_to_i, u_to_w, collect(training_users), collect(test_users))\n",
    "end;"
   ]
  },
  {
   "cell_type": "markdown",
   "id": "5385a013-5d92-4c50-85b0-6ebb0ee1356d",
   "metadata": {},
   "source": [
    "# Batching"
   ]
  },
  {
   "cell_type": "code",
   "execution_count": null,
   "id": "fd147033-e4e6-40e6-b684-c322905da5c1",
   "metadata": {},
   "outputs": [],
   "source": [
    "function subsample(f::Features, u::Int32, list_size::Int32)\n",
    "    l = f.user_to_indexes[u]\n",
    "    w = f.user_to_watched_indexes[u]\n",
    "    list = StatsBase.sample(l, min(length(l), list_size); replace = false)\n",
    "    # ensure at least one item is watched\n",
    "    if all(f.priorities[1, i] == 0 for i in list)\n",
    "        list[1] = rand(w)\n",
    "    end\n",
    "    # pad to list_size\n",
    "    while length(list) < list_size\n",
    "        push!(list, -1)\n",
    "    end\n",
    "    list\n",
    "end\n",
    "\n",
    "function get_feature(f::Features, i::Int32)\n",
    "    if i == -1\n",
    "        return zeros(Float32, size(f.features)[1])\n",
    "    else\n",
    "        return f.features[:, i]\n",
    "    end\n",
    "end\n",
    "\n",
    "function get_priority(f::Features, i::Int32)\n",
    "    if i == -1\n",
    "        return Float16[0, NaN, NaN]\n",
    "    else\n",
    "        return f.priorities[:, i]\n",
    "    end\n",
    "end\n",
    "\n",
    "function get_sample(f::Features, user::Int32, list_size::Int32)\n",
    "    list = subsample(f, user, list_size)\n",
    "    features = hcat((get_feature(f, q) for q in list)...)\n",
    "    prios = MLUtils.batch(get_priority(f, i) for i in list)\n",
    "    features, prios\n",
    "end\n",
    "\n",
    "function get_epoch(f::Features, training::Bool, list_size::Int32)\n",
    "    if training\n",
    "        users = f.training_users\n",
    "    else\n",
    "        users = f.test_users\n",
    "    end\n",
    "    users = Random.shuffle(users)\n",
    "    feats = Vector{Matrix{Float32}}(undef, length(users))\n",
    "    prios = Vector{Matrix{Float16}}(undef, length(users))\n",
    "    @showprogress for i = 1:length(users)\n",
    "        feat, prio = get_sample(f, users[i], list_size)\n",
    "        feats[i] = feat\n",
    "        prios[i] = prio\n",
    "    end\n",
    "    Q = MLUtils.batch(feats)\n",
    "    P = MLUtils.batch(prios)\n",
    "    Q, P\n",
    "end;"
   ]
  },
  {
   "cell_type": "markdown",
   "id": "27aaa951-3156-44b0-8b6c-20a680300c8b",
   "metadata": {},
   "source": [
    "# Run"
   ]
  },
  {
   "cell_type": "code",
   "execution_count": null,
   "id": "c7f5c03f-ad1c-420c-85a0-188cf5824cb2",
   "metadata": {},
   "outputs": [],
   "source": [
    "function save_epoch(epoch, fn)\n",
    "    d = Dict{String,Any}()\n",
    "    d[\"features\"] = epoch[1]\n",
    "    d[\"prios\"] = convert.(Float32, epoch[2])\n",
    "    HDF5.h5open(fn, \"w\") do file\n",
    "        for (k, v) in d\n",
    "            file[k, blosc = 1] = v\n",
    "        end\n",
    "    end\n",
    "end;"
   ]
  },
  {
   "cell_type": "code",
   "execution_count": null,
   "id": "bd9cbc70-75a2-465a-8d7e-d8df504d7ccd",
   "metadata": {},
   "outputs": [],
   "source": [
    "f = load_features();"
   ]
  },
  {
   "cell_type": "code",
   "execution_count": null,
   "id": "9d87c86a-e90e-43f3-81d3-255a372210bc",
   "metadata": {},
   "outputs": [],
   "source": [
    "list_size = Int32(10240);"
   ]
  },
  {
   "cell_type": "code",
   "execution_count": null,
   "id": "572838e5-036d-4c91-af32-474707c0ebaa",
   "metadata": {
    "editable": true,
    "slideshow": {
     "slide_type": ""
    },
    "tags": [
     "parameters"
    ]
   },
   "outputs": [],
   "source": [
    "outdir = mkpath(get_data_path(\"alphas/$medium/Ranking/data\"))"
   ]
  },
  {
   "cell_type": "code",
   "execution_count": null,
   "id": "12ff2510-202a-4d95-a3ca-03b765f8ae4f",
   "metadata": {},
   "outputs": [],
   "source": [
    "save_epoch(get_epoch(f, true, list_size), \"$outdir/training.h5\")"
   ]
  },
  {
   "cell_type": "code",
   "execution_count": null,
   "id": "a1fbf76e-1086-4d2e-bd11-8b3d683f04b8",
   "metadata": {
    "editable": true,
    "slideshow": {
     "slide_type": ""
    },
    "tags": [
     "parameters"
    ]
   },
   "outputs": [],
   "source": [
    "save_epoch(get_epoch(f, false, list_size), \"$outdir/test.h5\")"
   ]
  }
 ],
 "metadata": {
  "kernelspec": {
   "display_name": "Julia 1.9.4",
   "language": "julia",
   "name": "julia-1.9"
  },
  "language_info": {
   "file_extension": ".jl",
   "mimetype": "application/julia",
   "name": "julia",
   "version": "1.9.4"
  }
 },
 "nbformat": 4,
 "nbformat_minor": 5
}
