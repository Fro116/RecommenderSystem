{
 "cells": [
  {
   "cell_type": "markdown",
   "id": "2df5351f-2171-4365-b750-8984d42c5fe5",
   "metadata": {},
   "source": [
    "# Linear\n",
    "* Trains a linear model"
   ]
  },
  {
   "cell_type": "code",
   "execution_count": null,
   "id": "69b5a19a-24f5-4730-afe2-f451d27d18e3",
   "metadata": {},
   "outputs": [],
   "source": [
    "import NBInclude: @nbinclude\n",
    "@nbinclude(\"../TrainingAlpha.ipynb\");"
   ]
  },
  {
   "cell_type": "code",
   "execution_count": null,
   "id": "935c8bdb-fa8d-4d84-9d4f-1f41bc402c6e",
   "metadata": {
    "editable": true,
    "slideshow": {
     "slide_type": ""
    },
    "tags": [
     "parameters"
    ]
   },
   "outputs": [],
   "source": [
    "version = \"\"\n",
    "dataset = \"\"\n",
    "medium = \"\"\n",
    "metric = \"\";"
   ]
  },
  {
   "cell_type": "code",
   "execution_count": null,
   "id": "cfb25350-fcdf-44ce-b50e-ac8b38e1fb92",
   "metadata": {},
   "outputs": [],
   "source": [
    "const name = \"linear/$version/$dataset/$medium/$metric\";"
   ]
  },
  {
   "cell_type": "code",
   "execution_count": null,
   "id": "a94513b6-7369-41f5-ad4e-c13369b0521d",
   "metadata": {},
   "outputs": [],
   "source": [
    "function train_model(dataset, medium, metric)\n",
    "    alphas = [\"bagofwords/v1/$dataset/$medium/$metric\"]\n",
    "    if metric == \"rating\"\n",
    "        push!(alphas, \"baseline/v1/$dataset/$medium/$metric\")\n",
    "    end\n",
    "    β = regress(get_features(dataset, medium, metric, alphas)..., metric)\n",
    "    @info β\n",
    "    write_params(Dict(\"alphas\" => alphas, \"β\" => β), name)\n",
    "end;"
   ]
  },
  {
   "cell_type": "code",
   "execution_count": null,
   "id": "9f180e95-6e58-43c4-82a0-97d4eb45af03",
   "metadata": {},
   "outputs": [],
   "source": [
    "function model(dfs, userids)\n",
    "    params = read_params(name)\n",
    "    β = params[\"β\"]\n",
    "    alphas = params[\"alphas\"]\n",
    "    preds = Dict{Int32,Vector{Float32}}()\n",
    "    @showprogress for u in userids\n",
    "        preds[u] = sum(dfs[alphas[i]][u] * β[i] for i = 1:length(alphas))\n",
    "    end\n",
    "    preds\n",
    "end;"
   ]
  },
  {
   "cell_type": "code",
   "execution_count": null,
   "id": "b100518e-0f8f-4402-8a2d-56bce0b910fc",
   "metadata": {},
   "outputs": [],
   "source": [
    "train_model(dataset, medium, metric);"
   ]
  },
  {
   "cell_type": "code",
   "execution_count": null,
   "id": "651fe675-9ebf-4c11-86a8-f3bd2f3d4331",
   "metadata": {},
   "outputs": [],
   "source": [
    "write_alpha(model, medium, name, read_params(name)[\"alphas\"]);"
   ]
  },
  {
   "cell_type": "code",
   "execution_count": null,
   "id": "326fb5b5-8ad1-404e-a324-9a3fc02bd93b",
   "metadata": {},
   "outputs": [],
   "source": [
    "print_losses(medium, metric, [name]);"
   ]
  }
 ],
 "metadata": {
  "kernelspec": {
   "display_name": "Julia 1.10.2",
   "language": "julia",
   "name": "julia-1.10"
  },
  "language_info": {
   "file_extension": ".jl",
   "mimetype": "application/julia",
   "name": "julia",
   "version": "1.10.2"
  }
 },
 "nbformat": 4,
 "nbformat_minor": 5
}
