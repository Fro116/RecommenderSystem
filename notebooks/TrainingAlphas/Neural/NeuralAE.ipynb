{
 "cells": [
  {
   "cell_type": "markdown",
   "id": "c3b725a4-c4a9-45ba-8611-1ab406b8e4aa",
   "metadata": {},
   "source": [
    "# Denoising Autoencoder"
   ]
  },
  {
   "cell_type": "code",
   "execution_count": null,
   "id": "d3ef15a8-4209-4fdc-afb6-ebcbd5e79a5a",
   "metadata": {},
   "outputs": [],
   "source": [
    "import NBInclude: @nbinclude\n",
    "@nbinclude(\"NeuralNetworkBase.ipynb\");"
   ]
  },
  {
   "cell_type": "code",
   "execution_count": null,
   "id": "8e4eca69-b05f-402c-b5c0-87d1e62a927d",
   "metadata": {
    "tags": []
   },
   "outputs": [],
   "source": [
    "train_alpha(\n",
    "    create_hyperparams(\n",
    "        \"autoencoder\",\n",
    "        false,\n",
    "        [\"ExplicitUserItemBiases\"],\n",
    "        [\"ExplicitUserItemBiases\"],\n",
    "    ),\n",
    "    \"NeuralExplicitAutoencoder\";\n",
    ")"
   ]
  },
  {
   "cell_type": "code",
   "execution_count": null,
   "id": "aaacad48-ce9a-4a57-b39c-22400c16d079",
   "metadata": {},
   "outputs": [],
   "source": [
    "train_alpha(\n",
    "    create_hyperparams(\n",
    "        \"autoencoder\",\n",
    "        true,\n",
    "        [\"NeuralImplicitUserItemBiases\"],\n",
    "        [\"ExplicitUserItemBiases\"],\n",
    "    ),\n",
    "    \"NeuralImplicitAutoencoder\")"
   ]
  },
  {
   "cell_type": "code",
   "execution_count": null,
   "id": "f43fd736-480c-45dc-b0ed-effc93f200b4",
   "metadata": {},
   "outputs": [],
   "source": []
  }
 ],
 "metadata": {
  "kernelspec": {
   "display_name": "Julia 1.8.0-rc1",
   "language": "julia",
   "name": "julia-1.8"
  },
  "language_info": {
   "file_extension": ".jl",
   "mimetype": "application/julia",
   "name": "julia",
   "version": "1.8.0"
  }
 },
 "nbformat": 4,
 "nbformat_minor": 5
}
