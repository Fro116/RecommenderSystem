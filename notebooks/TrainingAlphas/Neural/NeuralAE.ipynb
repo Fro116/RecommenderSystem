{
 "cells": [
  {
   "cell_type": "markdown",
   "id": "c3b725a4-c4a9-45ba-8611-1ab406b8e4aa",
   "metadata": {},
   "source": [
    "# Denoising Autoencoder"
   ]
  },
  {
   "cell_type": "code",
   "execution_count": 1,
   "id": "d3ef15a8-4209-4fdc-afb6-ebcbd5e79a5a",
   "metadata": {},
   "outputs": [],
   "source": [
    "import NBInclude: @nbinclude\n",
    "@nbinclude(\"NeuralNetworkBase.ipynb\");"
   ]
  },
  {
   "cell_type": "code",
   "execution_count": 2,
   "id": "0c2714d3-8fba-4df0-adde-bcf4f72f91f0",
   "metadata": {},
   "outputs": [
    {
     "data": {
      "text/plain": [
       "Hyperparameters:\n",
       "implicit              => false\n",
       "input_data            => implicit_explicit\n",
       "model                 => autoencoder\n",
       "batch_size            => 1024\n",
       "user_sampling_scheme  => 0.0\n",
       "learning_rate         => 0.001\n",
       "optimizer             => ADAMW\n",
       "seed                  => 20220524\n",
       "num_users             => 2714683\n",
       "item_weight_decay     => 0.0\n",
       "regularization_params => Float32[1.0f-5, 0.1]\n",
       "residual_alphas       => [\"ExplicitUserItemBiases\"]\n",
       "user_weight_decay     => 0.0\n"
      ]
     },
     "execution_count": 2,
     "metadata": {},
     "output_type": "execute_result"
    }
   ],
   "source": [
    "hyp = create_hyperparams(\"autoencoder\", false, [\"ExplicitUserItemBiases\"])\n",
    "hyp.regularization_params[end] = 0.1\n",
    "hyp"
   ]
  },
  {
   "cell_type": "code",
   "execution_count": 3,
   "id": "5754ee56-9635-44a1-9431-fa0267dcc2f8",
   "metadata": {},
   "outputs": [
    {
     "data": {
      "text/plain": [
       "Chain(\n",
       "  Dense(40680 => 1024, relu),           \u001b[90m# 41_657_344 parameters\u001b[39m\n",
       "  Dense(1024 => 512, relu),             \u001b[90m# 524_800 parameters\u001b[39m\n",
       "  Dense(512 => 256, relu),              \u001b[90m# 131_328 parameters\u001b[39m\n",
       "  Dense(256 => 20340),                  \u001b[90m# 5_227_380 parameters\u001b[39m\n",
       "  StorageLayer(Float32[1.0]),           \u001b[90m# 1 parameters\u001b[39m\n",
       ") \u001b[90m                  # Total: 9 arrays, \u001b[39m47_540_853 parameters, 181.355 MiB."
      ]
     },
     "execution_count": 3,
     "metadata": {},
     "output_type": "execute_result"
    }
   ],
   "source": [
    "G = hyp\n",
    "build_model()"
   ]
  },
  {
   "cell_type": "code",
   "execution_count": 4,
   "id": "fa96b75e-7f51-484c-ab05-94285b466e63",
   "metadata": {},
   "outputs": [],
   "source": [
    "G = nothing"
   ]
  },
  {
   "cell_type": "code",
   "execution_count": null,
   "id": "9b11c796-7414-4f62-be7d-8ac034f4eaf9",
   "metadata": {},
   "outputs": [
    {
     "name": "stderr",
     "output_type": "stream",
     "text": [
      "\u001b[32mProgress: 100%|███████████████████████████| Time: 0:00:00 (53.92 ns/it)\u001b[39m\n",
      "\u001b[32mProgress: 100%|███████████████████████████| Time: 0:00:00 (10.95 ns/it)\u001b[39m\n",
      "\u001b[32mProgress: 100%|█████████████████████████████████████████| Time: 0:02:27\u001b[39mm\n",
      "\u001b[32mProgress: 100%|█████████████████████████████████████████| Time: 0:01:03\u001b[39m\n",
      "\u001b[38;5;6m\u001b[1m[ \u001b[22m\u001b[39m\u001b[38;5;6m\u001b[1mInfo: \u001b[22m\u001b[39m20220628 09:23:44 losses: 1.5554861\n",
      "\u001b[32mProgress: 100%|█████████████████████████████████████████| Time: 0:01:42\u001b[39m\n",
      "\u001b[32mProgress: 100%|█████████████████████████████████████████| Time: 0:00:58\u001b[39m\n",
      "\u001b[38;5;6m\u001b[1m[ \u001b[22m\u001b[39m\u001b[38;5;6m\u001b[1mInfo: \u001b[22m\u001b[39m20220628 09:26:51 losses: 1.5291091\n",
      "\u001b[32mProgress: 100%|█████████████████████████████████████████| Time: 0:01:42\u001b[39m\n",
      "\u001b[32mProgress: 100%|█████████████████████████████████████████| Time: 0:00:58\u001b[39m\n",
      "\u001b[38;5;6m\u001b[1m[ \u001b[22m\u001b[39m\u001b[38;5;6m\u001b[1mInfo: \u001b[22m\u001b[39m20220628 09:29:59 losses: 1.5188292\n",
      "\u001b[32mProgress: 100%|█████████████████████████████████████████| Time: 0:01:42\u001b[39m\n",
      "\u001b[32mProgress: 100%|█████████████████████████████████████████| Time: 0:00:58\u001b[39m\n",
      "\u001b[38;5;6m\u001b[1m[ \u001b[22m\u001b[39m\u001b[38;5;6m\u001b[1mInfo: \u001b[22m\u001b[39m20220628 09:33:07 losses: 1.5176167\n",
      "\u001b[32mProgress: 100%|█████████████████████████████████████████| Time: 0:01:42\u001b[39m\n",
      "\u001b[32mProgress: 100%|█████████████████████████████████████████| Time: 0:00:58\u001b[39m\n",
      "\u001b[38;5;6m\u001b[1m[ \u001b[22m\u001b[39m\u001b[38;5;6m\u001b[1mInfo: \u001b[22m\u001b[39m20220628 09:36:14 losses: 1.5103306\n",
      "\u001b[32mProgress: 100%|█████████████████████████████████████████| Time: 0:01:42\u001b[39m\n",
      "\u001b[32mProgress: 100%|█████████████████████████████████████████| Time: 0:00:57\u001b[39m\n",
      "\u001b[38;5;6m\u001b[1m[ \u001b[22m\u001b[39m\u001b[38;5;6m\u001b[1mInfo: \u001b[22m\u001b[39m20220628 09:39:21 losses: 1.5026864\n",
      "\u001b[32mProgress: 100%|█████████████████████████████████████████| Time: 0:01:42\u001b[39m\n",
      "\u001b[32mProgress:  83%|█████████████████████████████████▉       |  ETA: 0:00:10\u001b[39m"
     ]
    }
   ],
   "source": [
    "train_model(hyp; verbose = true, patience = 2)"
   ]
  },
  {
   "cell_type": "code",
   "execution_count": null,
   "id": "aaacad48-ce9a-4a57-b39c-22400c16d079",
   "metadata": {},
   "outputs": [],
   "source": [
    "# for 10% holdout with no dropout:\n",
    "# [ Info: 20220628 07:37:20 losses: 1.0718489 1.4731412\n",
    "\n",
    "# for 50% holdout with no dropout:\n",
    "# [ Info: 20220628 00:59:13 losses: 1.1362941 1.4709458\n",
    "# [ Info: 20220628 01:04:26 losses: 1.104435 1.4575436\n",
    "# [ Info: 20220628 01:09:39 losses: 1.0939028 1.4565692\n",
    "# [ Info: 20220628 01:14:52 losses: 1.0738478 1.4454061\n",
    "# [ Info: 20220628 01:20:05 losses: 1.0755762 1.4475318"
   ]
  }
 ],
 "metadata": {
  "kernelspec": {
   "display_name": "Julia 1.8.0-rc1",
   "language": "julia",
   "name": "julia-1.8"
  },
  "language_info": {
   "file_extension": ".jl",
   "mimetype": "application/julia",
   "name": "julia",
   "version": "1.8.0"
  }
 },
 "nbformat": 4,
 "nbformat_minor": 5
}
