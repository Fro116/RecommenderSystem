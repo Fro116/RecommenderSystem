{
 "cells": [
  {
   "cell_type": "markdown",
   "id": "c3b725a4-c4a9-45ba-8611-1ab406b8e4aa",
   "metadata": {},
   "source": [
    "# Denoising Autoencoder"
   ]
  },
  {
   "cell_type": "code",
   "execution_count": 1,
   "id": "d3ef15a8-4209-4fdc-afb6-ebcbd5e79a5a",
   "metadata": {},
   "outputs": [],
   "source": [
    "import NBInclude: @nbinclude\n",
    "@nbinclude(\"NeuralNetworkBase.ipynb\");"
   ]
  },
  {
   "cell_type": "code",
   "execution_count": null,
   "id": "8e4eca69-b05f-402c-b5c0-87d1e62a927d",
   "metadata": {},
   "outputs": [
    {
     "name": "stderr",
     "output_type": "stream",
     "text": [
      "\u001b[38;5;6m\u001b[1m[ \u001b[22m\u001b[39m\u001b[38;5;6m\u001b[1mInfo: \u001b[22m\u001b[39m20220628 21:45:22 Optimizing hyperparameters...\n",
      "\u001b[32mProgress: 100%|███████████████████████████| Time: 0:00:00 (28.27 ns/it)\u001b[39m\n",
      "\u001b[32mProgress: 100%|███████████████████████████| Time: 0:00:00 (11.01 ns/it)\u001b[39m\n"
     ]
    }
   ],
   "source": [
    "train_alpha(\n",
    "    create_hyperparams(\"autoencoder\", false, [\"ExplicitUserItemBiases\"]),\n",
    "    \"NeuralExplicitAutoencoder\",\n",
    ")"
   ]
  },
  {
   "cell_type": "code",
   "execution_count": null,
   "id": "aaacad48-ce9a-4a57-b39c-22400c16d079",
   "metadata": {},
   "outputs": [],
   "source": [
    "# for 10% holdout with no dropout:\n",
    "# [ Info: 20220628 07:37:20 losses: 1.0718489 1.4731412\n",
    "\n",
    "# for 50% holdout with no dropout:\n",
    "# [ Info: 20220628 00:59:13 losses: 1.1362941 1.4709458\n",
    "# [ Info: 20220628 01:04:26 losses: 1.104435 1.4575436\n",
    "# [ Info: 20220628 01:09:39 losses: 1.0939028 1.4565692\n",
    "# [ Info: 20220628 01:14:52 losses: 1.0738478 1.4454061\n",
    "# [ Info: 20220628 01:20:05 losses: 1.0755762 1.4475318"
   ]
  }
 ],
 "metadata": {
  "kernelspec": {
   "display_name": "Julia 1.8.0-rc1",
   "language": "julia",
   "name": "julia-1.8"
  },
  "language_info": {
   "file_extension": ".jl",
   "mimetype": "application/julia",
   "name": "julia",
   "version": "1.8.0"
  }
 },
 "nbformat": 4,
 "nbformat_minor": 5
}
