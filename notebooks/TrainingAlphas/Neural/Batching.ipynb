{
 "cells": [
  {
   "cell_type": "markdown",
   "id": "01a52cbc-01d6-487c-8293-702ef156698a",
   "metadata": {},
   "source": [
    "## Batching\n",
    "* Turns an epoch into minibatches\n",
    "* Each data point will appear in a minibatch with a probability proportional to its sampling weight"
   ]
  },
  {
   "cell_type": "code",
   "execution_count": null,
   "id": "05f26d8e-43bc-48d0-ad0f-ef3066e58b98",
   "metadata": {},
   "outputs": [],
   "source": [
    "import StatsBase: sample, Weights"
   ]
  },
  {
   "cell_type": "code",
   "execution_count": null,
   "id": "aa2f87d3-1942-4abc-88ca-6b83433443c9",
   "metadata": {},
   "outputs": [],
   "source": [
    "function SparseArrays.sparse(split::RatingsDataset)\n",
    "    sparse(split.item, split.user, split.rating, num_items(), G.num_users)\n",
    "end;"
   ]
  },
  {
   "cell_type": "code",
   "execution_count": null,
   "id": "ea29632c-edd2-436c-a103-54182bcb21a7",
   "metadata": {},
   "outputs": [],
   "source": [
    "function slice(x::AbstractVector, range)\n",
    "    x[range]\n",
    "end\n",
    "\n",
    "function slice(x::AbstractMatrix, range)\n",
    "    x[:, range]\n",
    "end;"
   ]
  },
  {
   "cell_type": "code",
   "execution_count": null,
   "id": "203dd198-8047-4470-8e80-4640739dd8f8",
   "metadata": {},
   "outputs": [],
   "source": [
    "function get_sampling_order(split)\n",
    "    scheme = split == \"training\" ? G.user_sampling_scheme : \"constant\"\n",
    "    if scheme == \"constant\"\n",
    "        return shuffle(1:G.num_users)\n",
    "    else\n",
    "        weights = expdecay(\n",
    "            get_counts(split, G.implicit; per_rating = false),\n",
    "            weighting_scheme(scheme),\n",
    "        )\n",
    "        return sample(1:G.num_users, Weights(weights[1:G.num_users]), G.num_users)\n",
    "    end\n",
    "end;"
   ]
  },
  {
   "cell_type": "code",
   "execution_count": null,
   "id": "f7178e2f-0f72-4359-af2d-d8933060683d",
   "metadata": {},
   "outputs": [],
   "source": [
    "# holdout is a generalization of unscaled dropout for autoencoders\n",
    "# we randomly drop some percentage of the input and then try to reconstruct the input\n",
    "# we give a weight of 1 to items that were not dropped and a weight of ϵ to items\n",
    "# that were not dropped. \n",
    "# dropout is the special case where ϵ = 1\n",
    "# emphasized denoising is the special case where ϵ = 0\n",
    "\n",
    "function holdout(x, mask)\n",
    "    x .* repeat(mask, size(x)[1] ÷ size(mask)[1])\n",
    "end\n",
    "\n",
    "function holdout(batch, holdout_perc, identity_weight)\n",
    "    items = CUDA.rand(num_items()) .<= holdout_perc\n",
    "    holdout(batch[1], 1 .- items),\n",
    "    batch[2],\n",
    "    batch[3],\n",
    "    holdout(batch[4], items + identity_weight .* (1 .- items))\n",
    "end\n",
    "\n",
    "function postprocess_batch(batch, training::Bool)\n",
    "    if should_holdout_items(G.model) && training\n",
    "        holdout_perc = G.regularization_params[end]\n",
    "        return holdout(batch, holdout_perc, 0)\n",
    "    else\n",
    "        return batch\n",
    "    end\n",
    "end;"
   ]
  },
  {
   "cell_type": "code",
   "execution_count": null,
   "id": "72f35efa-decd-42ed-bcae-f7ea7cab6a57",
   "metadata": {},
   "outputs": [],
   "source": [
    "# performs the following steps\n",
    "# 1) shuffle the epoch by the sampling order\n",
    "# 2) split the epoch into minibatches of size batch_size\n",
    "# 3) return the iter-th minibatch\n",
    "function get_batch(epoch, iter, batch_size, sampling_order, training::Bool)\n",
    "    range = sampling_order[(iter-1)*batch_size+1:min(iter * batch_size, G.num_users)]\n",
    "    process(x) = slice(x, range) |> device\n",
    "    [postprocess_batch(process.(epoch), training)], range\n",
    "end;\n",
    "\n",
    "function get_batch(epoch, iter, batch_size, training::Bool)\n",
    "    get_batch(epoch, iter, batch_size, 1:G.num_users, training)\n",
    "end;"
   ]
  }
 ],
 "metadata": {
  "kernelspec": {
   "display_name": "Julia 1.8.0-rc1",
   "language": "julia",
   "name": "julia-1.8"
  },
  "language_info": {
   "file_extension": ".jl",
   "mimetype": "application/julia",
   "name": "julia",
   "version": "1.8.0"
  }
 },
 "nbformat": 4,
 "nbformat_minor": 5
}
