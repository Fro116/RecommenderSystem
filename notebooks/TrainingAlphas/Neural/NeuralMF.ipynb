{
 "cells": [
  {
   "cell_type": "markdown",
   "id": "c3b725a4-c4a9-45ba-8611-1ab406b8e4aa",
   "metadata": {},
   "source": [
    "# Neural Network Matrix Factorization"
   ]
  },
  {
   "cell_type": "code",
   "execution_count": 1,
   "id": "d3ef15a8-4209-4fdc-afb6-ebcbd5e79a5a",
   "metadata": {},
   "outputs": [],
   "source": [
    "import NBInclude: @nbinclude\n",
    "@nbinclude(\"NeuralNetworkBase.ipynb\");"
   ]
  },
  {
   "cell_type": "code",
   "execution_count": 2,
   "id": "136e0e2f-1993-4947-8cba-099ed285e953",
   "metadata": {
    "tags": []
   },
   "outputs": [
    {
     "name": "stderr",
     "output_type": "stream",
     "text": [
      "\u001b[38;5;6m\u001b[1m[ \u001b[22m\u001b[39m\u001b[38;5;6m\u001b[1mInfo: \u001b[22m\u001b[39m20220624 09:48:00 Training model...\n",
      "\u001b[32mProgress: 100%|███████████████████████████| Time: 0:00:00 (55.42 ns/it)\u001b[39m\n",
      "\u001b[38;5;6m\u001b[1m[ \u001b[22m\u001b[39m\u001b[38;5;6m\u001b[1mInfo: \u001b[22m\u001b[39m20220624 11:20:18 loss: 1.7956867 learning_rate: 0.001\n",
      "\u001b[38;5;6m\u001b[1m[ \u001b[22m\u001b[39m\u001b[38;5;6m\u001b[1mInfo: \u001b[22m\u001b[39m20220624 11:20:18 Trained model loss: 1.7956867\n",
      "\u001b[38;5;6m\u001b[1m[ \u001b[22m\u001b[39m\u001b[38;5;6m\u001b[1mInfo: \u001b[22m\u001b[39m20220624 11:20:18 Retraining user embeddings...\n",
      "\u001b[38;5;6m\u001b[1m[ \u001b[22m\u001b[39m\u001b[38;5;6m\u001b[1mInfo: \u001b[22m\u001b[39m20220624 11:21:18 [0.0, 0.0] 1.780233\n",
      "\u001b[38;5;6m\u001b[1m[ \u001b[22m\u001b[39m\u001b[38;5;6m\u001b[1mInfo: \u001b[22m\u001b[39m20220624 11:21:18 found minimum 1.7802330255508423 at point [0.0, 0.0] after 1 function calls (ended because MAXEVAL_REACHED)\n",
      "\u001b[38;5;6m\u001b[1m[ \u001b[22m\u001b[39m\u001b[38;5;6m\u001b[1mInfo: \u001b[22m\u001b[39m20220624 11:32:35 Retrained user embeddings with loss: 1.7956823\n",
      "\u001b[38;5;6m\u001b[1m[ \u001b[22m\u001b[39m\u001b[38;5;6m\u001b[1mInfo: \u001b[22m\u001b[39m20220624 11:32:35 Writing alpha...\n",
      "\u001b[32mProgress: 100%|█████████████████████████████████████████| Time: 0:06:01\u001b[39m\n",
      "\u001b[32mProgress: 100%|█████████████████████████████████████████| Time: 0:03:38\u001b[39m\n",
      "\u001b[32mProgress: 100%|███████████████████████████| Time: 0:00:01 ( 1.35 μs/it)\u001b[39m\n",
      "\u001b[38;5;6m\u001b[1m[ \u001b[22m\u001b[39m\u001b[38;5;6m\u001b[1mInfo: \u001b[22m\u001b[39m20220624 11:42:39 validation loss: 1.7956652647466165, β: [0.9991725980968783]\n",
      "\u001b[32mProgress: 100%|███████████████████████████| Time: 0:00:12 ( 1.29 μs/it)\u001b[39m\n",
      "\u001b[38;5;6m\u001b[1m[ \u001b[22m\u001b[39m\u001b[38;5;6m\u001b[1mInfo: \u001b[22m\u001b[39m20220624 11:42:54 training loss: 1.5733996234464116, β: [0.9991725980968783]\n",
      "\u001b[32mProgress: 100%|███████████████████████████| Time: 0:00:12 ( 1.29 μs/it)\u001b[39m\n",
      "\u001b[32mProgress: 100%|███████████████████████████| Time: 0:00:01 ( 1.33 μs/it)\u001b[39m\n",
      "\u001b[32mProgress: 100%|███████████████████████████| Time: 0:00:01 ( 1.33 μs/it)\u001b[39m\n",
      "\u001b[32mProgress: 100%|███████████████████████████| Time: 0:00:04 ( 1.30 μs/it)\u001b[39m\n",
      "\u001b[32mProgress: 100%|███████████████████████████| Time: 0:00:00 ( 1.33 μs/it)\u001b[39m\n",
      "\u001b[32mProgress: 100%|███████████████████████████| Time: 0:00:00 ( 1.36 μs/it)\u001b[39m\n",
      "\u001b[32mProgress: 100%|███████████████████████████| Time: 0:00:01 ( 0.89 μs/it)\u001b[39m\n"
     ]
    }
   ],
   "source": [
    "train_alpha(\n",
    "    create_hyperparams(\"user_item_biases\", false, []),\n",
    "    \"NeuralExplicitUserItemBiases\",\n",
    "    tune_hyperparams = false,\n",
    ")"
   ]
  },
  {
   "cell_type": "code",
   "execution_count": 3,
   "id": "10724e19-bc6e-41d2-ba41-2d226c0af8bf",
   "metadata": {},
   "outputs": [
    {
     "name": "stderr",
     "output_type": "stream",
     "text": [
      "\u001b[38;5;6m\u001b[1m[ \u001b[22m\u001b[39m\u001b[38;5;6m\u001b[1mInfo: \u001b[22m\u001b[39m20220624 11:43:27 Training model...\n",
      "\u001b[32mProgress: 100%|███████████████████████████| Time: 0:00:00 ( 8.60 ns/it)\u001b[39m\n",
      "\u001b[32mProgress: 100%|███████████████████████████| Time: 0:00:00 ( 7.76 ns/it)\u001b[39m\n",
      "\u001b[38;5;6m\u001b[1m[ \u001b[22m\u001b[39m\u001b[38;5;6m\u001b[1mInfo: \u001b[22m\u001b[39m20220624 12:55:30 loss: 7.323249 learning_rate: 0.001\n",
      "\u001b[38;5;6m\u001b[1m[ \u001b[22m\u001b[39m\u001b[38;5;6m\u001b[1mInfo: \u001b[22m\u001b[39m20220624 12:55:30 Trained model loss: 7.323249\n",
      "\u001b[38;5;6m\u001b[1m[ \u001b[22m\u001b[39m\u001b[38;5;6m\u001b[1mInfo: \u001b[22m\u001b[39m20220624 12:55:30 Retraining user embeddings...\n",
      "\u001b[38;5;6m\u001b[1m[ \u001b[22m\u001b[39m\u001b[38;5;6m\u001b[1mInfo: \u001b[22m\u001b[39m20220624 12:55:47 [0.0, 0.0] 7.363219\n",
      "\u001b[38;5;6m\u001b[1m[ \u001b[22m\u001b[39m\u001b[38;5;6m\u001b[1mInfo: \u001b[22m\u001b[39m20220624 12:55:47 found minimum 7.363218784332275 at point [0.0, 0.0] after 1 function calls (ended because MAXEVAL_REACHED)\n",
      "\u001b[38;5;6m\u001b[1m[ \u001b[22m\u001b[39m\u001b[38;5;6m\u001b[1mInfo: \u001b[22m\u001b[39m20220624 13:13:34 Retrained user embeddings with loss: 7.323249\n",
      "\u001b[38;5;6m\u001b[1m[ \u001b[22m\u001b[39m\u001b[38;5;6m\u001b[1mInfo: \u001b[22m\u001b[39m20220624 13:13:34 Writing alpha...\n",
      "\u001b[32mProgress: 100%|█████████████████████████████████████████| Time: 0:06:04\u001b[39m\n",
      "\u001b[32mProgress: 100%|█████████████████████████████████████████| Time: 0:04:15\u001b[39m\n",
      "\u001b[32mProgress: 100%|███████████████████████████| Time: 0:00:02 ( 1.40 μs/it)\u001b[39m\n",
      "\u001b[38;5;6m\u001b[1m[ \u001b[22m\u001b[39m\u001b[38;5;6m\u001b[1mInfo: \u001b[22m\u001b[39m20220624 13:24:52 validation loss: 7.37574442770987, β: Float32[1.6616731f-6, 0.99999833]\n",
      "\u001b[32mProgress: 100%|███████████████████████████| Time: 0:00:18 ( 1.40 μs/it)\u001b[39m\n",
      "\u001b[38;5;6m\u001b[1m[ \u001b[22m\u001b[39m\u001b[38;5;6m\u001b[1mInfo: \u001b[22m\u001b[39m20220624 13:25:18 training loss: 7.339359934319201, β: Float32[1.6616731f-6, 0.99999833]\n",
      "\u001b[32mProgress: 100%|███████████████████████████| Time: 0:00:13 ( 1.43 μs/it)\u001b[39m\n",
      "\u001b[32mProgress: 100%|███████████████████████████| Time: 0:00:01 ( 1.42 μs/it)\u001b[39m\n",
      "\u001b[32mProgress: 100%|███████████████████████████| Time: 0:00:01 ( 1.44 μs/it)\u001b[39m\n",
      "\u001b[32mProgress: 100%|███████████████████████████| Time: 0:00:05 ( 1.43 μs/it)\u001b[39m\n",
      "\u001b[32mProgress: 100%|███████████████████████████| Time: 0:00:00 ( 1.46 μs/it)\u001b[39m\n",
      "\u001b[32mProgress: 100%|███████████████████████████| Time: 0:00:00 ( 1.42 μs/it)\u001b[39m\n",
      "\u001b[32mProgress: 100%|███████████████████████████| Time: 0:00:01 ( 0.96 μs/it)\u001b[39m\n"
     ]
    }
   ],
   "source": [
    "train_alpha(\n",
    "    create_hyperparams(\"user_item_biases\", true, []),\n",
    "    \"NeuralImplicitUserItemBiases\",\n",
    "    tune_hyperparams = false,\n",
    ")"
   ]
  },
  {
   "cell_type": "code",
   "execution_count": 4,
   "id": "a3ddca30-f6db-471f-96e5-18ca245740bc",
   "metadata": {},
   "outputs": [
    {
     "name": "stderr",
     "output_type": "stream",
     "text": [
      "\u001b[38;5;6m\u001b[1m[ \u001b[22m\u001b[39m\u001b[38;5;6m\u001b[1mInfo: \u001b[22m\u001b[39m20220624 13:25:53 Training model...\n",
      "\u001b[38;5;6m\u001b[1m[ \u001b[22m\u001b[39m\u001b[38;5;6m\u001b[1mInfo: \u001b[22m\u001b[39m20220624 14:09:57 loss: 1.624119 learning_rate: 0.001\n",
      "\u001b[38;5;6m\u001b[1m[ \u001b[22m\u001b[39m\u001b[38;5;6m\u001b[1mInfo: \u001b[22m\u001b[39m20220624 14:09:57 Trained model loss: 1.624119\n",
      "\u001b[38;5;6m\u001b[1m[ \u001b[22m\u001b[39m\u001b[38;5;6m\u001b[1mInfo: \u001b[22m\u001b[39m20220624 14:09:57 Retraining user embeddings...\n",
      "\u001b[38;5;6m\u001b[1m[ \u001b[22m\u001b[39m\u001b[38;5;6m\u001b[1mInfo: \u001b[22m\u001b[39m20220624 14:10:22 [0.0, 0.0] 1.9531404\n",
      "\u001b[38;5;6m\u001b[1m[ \u001b[22m\u001b[39m\u001b[38;5;6m\u001b[1mInfo: \u001b[22m\u001b[39m20220624 14:10:22 found minimum 1.953140377998352 at point [0.0, 0.0] after 1 function calls (ended because MAXEVAL_REACHED)\n",
      "\u001b[38;5;6m\u001b[1m[ \u001b[22m\u001b[39m\u001b[38;5;6m\u001b[1mInfo: \u001b[22m\u001b[39m20220624 14:45:37 Retrained user embeddings with loss: 1.62933\n",
      "\u001b[38;5;6m\u001b[1m[ \u001b[22m\u001b[39m\u001b[38;5;6m\u001b[1mInfo: \u001b[22m\u001b[39m20220624 14:45:37 Writing alpha...\n",
      "\u001b[32mProgress: 100%|█████████████████████████████████████████| Time: 0:06:07\u001b[39m\n",
      "\u001b[32mProgress:  92%|█████████████████████████████████████▌   |  ETA: 0:00:35\u001b[39mIOPub message rate exceeded.\n",
      "The Jupyter server will temporarily stop sending output\n",
      "to the client in order to avoid crashing it.\n",
      "To change this limit, set the config variable\n",
      "`--ServerApp.iopub_msg_rate_limit`.\n",
      "\n",
      "Current values:\n",
      "ServerApp.iopub_msg_rate_limit=1000.0 (msgs/sec)\n",
      "ServerApp.rate_limit_window=3.0 (secs)\n",
      "\n"
     ]
    }
   ],
   "source": [
    "train_alpha(\n",
    "    create_hyperparams(\"matrix_factorization_64\", false, [\"ExplicitUserItemBiases\"]),\n",
    "    \"NeuralExplicitMatrixFactorization\",\n",
    "    tune_hyperparams = false,\n",
    ")"
   ]
  },
  {
   "cell_type": "code",
   "execution_count": 5,
   "id": "2fdd430c-8f7c-4e3c-9098-9becd2061002",
   "metadata": {},
   "outputs": [
    {
     "name": "stderr",
     "output_type": "stream",
     "text": [
      "\u001b[38;5;6m\u001b[1m[ \u001b[22m\u001b[39m\u001b[38;5;6m\u001b[1mInfo: \u001b[22m\u001b[39m20220624 14:59:47 Training model...\n",
      "\u001b[38;5;6m\u001b[1m[ \u001b[22m\u001b[39m\u001b[38;5;6m\u001b[1mInfo: \u001b[22m\u001b[39m20220624 16:20:21 loss: NaN learning_rate: 0.001\n",
      "\u001b[38;5;6m\u001b[1m[ \u001b[22m\u001b[39m\u001b[38;5;6m\u001b[1mInfo: \u001b[22m\u001b[39m20220624 16:20:21 Trained model loss: NaN\n",
      "\u001b[38;5;6m\u001b[1m[ \u001b[22m\u001b[39m\u001b[38;5;6m\u001b[1mInfo: \u001b[22m\u001b[39m20220624 16:20:21 Retraining user embeddings...\n",
      "\u001b[38;5;6m\u001b[1m[ \u001b[22m\u001b[39m\u001b[38;5;6m\u001b[1mInfo: \u001b[22m\u001b[39m20220624 16:20:21 found minimum 9.26642735e-315 at point [0.0, 0.0] after 1 function calls (ended because FORCED_STOP)\n",
      "\u001b[38;5;6m\u001b[1m[ \u001b[22m\u001b[39m\u001b[38;5;6m\u001b[1mInfo: \u001b[22m\u001b[39m20220624 17:03:19 Retrained user embeddings with loss: 7.611364\n",
      "\u001b[38;5;6m\u001b[1m[ \u001b[22m\u001b[39m\u001b[38;5;6m\u001b[1mInfo: \u001b[22m\u001b[39m20220624 17:03:19 Writing alpha...\n",
      "\u001b[32mProgress: 100%|█████████████████████████████████████████| Time: 0:06:09\u001b[39m\n",
      "\u001b[32mProgress: 100%|█████████████████████████████████████████| Time: 0:03:55\u001b[39m\n",
      "\u001b[32mProgress: 100%|███████████████████████████| Time: 0:00:01 ( 1.33 μs/it)\u001b[39m\n",
      "\u001b[38;5;6m\u001b[1m[ \u001b[22m\u001b[39m\u001b[38;5;6m\u001b[1mInfo: \u001b[22m\u001b[39m20220624 17:14:58 validation loss: 7.375744179262781, β: Float32[0.9999988, 5.8587693f-7, 5.858077f-7]\n",
      "\u001b[32mProgress: 100%|███████████████████████████| Time: 0:00:17 ( 1.30 μs/it)\u001b[39m\n",
      "\u001b[38;5;6m\u001b[1m[ \u001b[22m\u001b[39m\u001b[38;5;6m\u001b[1mInfo: \u001b[22m\u001b[39m20220624 17:15:28 training loss: 7.339359782017822, β: Float32[0.9999988, 5.8587693f-7, 5.858077f-7]\n",
      "\u001b[32mProgress: 100%|███████████████████████████| Time: 0:00:12 ( 1.29 μs/it)\u001b[39m\n",
      "\u001b[32mProgress: 100%|███████████████████████████| Time: 0:00:01 ( 1.31 μs/it)\u001b[39m\n",
      "\u001b[32mProgress: 100%|███████████████████████████| Time: 0:00:01 ( 1.37 μs/it)\u001b[39m\n",
      "\u001b[32mProgress: 100%|███████████████████████████| Time: 0:00:04 ( 1.29 μs/it)\u001b[39m\n",
      "\u001b[32mProgress: 100%|███████████████████████████| Time: 0:00:00 ( 1.34 μs/it)\u001b[39m\n",
      "\u001b[32mProgress: 100%|███████████████████████████| Time: 0:00:00 ( 1.42 μs/it)\u001b[39m\n",
      "\u001b[32mProgress: 100%|███████████████████████████| Time: 0:00:01 ( 0.89 μs/it)\u001b[39m\n"
     ]
    }
   ],
   "source": [
    "train_alpha(\n",
    "    create_hyperparams(\"matrix_factorization_64\", true, [\"NeuralImplicitUserItemBiases\"]),\n",
    "    \"NeuralImplicitMatrixFactorization\",\n",
    "    tune_hyperparams = false,\n",
    ")"
   ]
  }
 ],
 "metadata": {
  "kernelspec": {
   "display_name": "Julia 1.8.0-rc1",
   "language": "julia",
   "name": "julia-1.8"
  },
  "language_info": {
   "file_extension": ".jl",
   "mimetype": "application/julia",
   "name": "julia",
   "version": "1.8.0"
  }
 },
 "nbformat": 4,
 "nbformat_minor": 5
}
