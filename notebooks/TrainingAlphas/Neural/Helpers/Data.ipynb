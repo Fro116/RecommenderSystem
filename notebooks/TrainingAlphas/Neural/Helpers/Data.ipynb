{
 "cells": [
  {
   "cell_type": "markdown",
   "id": "826b1aac-67d5-4dec-be8b-1e6c65b4d252",
   "metadata": {},
   "source": [
    "## Data Preprocessing\n",
    "* An epoch is an efficient representation of all the models inputs, outputs, residualization, and weights\n",
    "* We generate one epoch per split and memoize them"
   ]
  },
  {
   "cell_type": "code",
   "execution_count": null,
   "id": "cd0b9722-a6ec-488d-a44b-d384bd1d283c",
   "metadata": {},
   "outputs": [],
   "source": [
    "import DelimitedFiles: readdlm\n",
    "import Statistics: mean, std\n",
    "@nbinclude(\"../../Ensemble/ItemMetadata.ipynb\");"
   ]
  },
  {
   "cell_type": "markdown",
   "id": "2123501e-4d50-48f2-8ad1-1e9541fc0d25",
   "metadata": {},
   "source": [
    "### Building blocks"
   ]
  },
  {
   "cell_type": "code",
   "execution_count": null,
   "id": "c1c39d34-3212-4131-8e1d-68021044fc7b",
   "metadata": {},
   "outputs": [],
   "source": [
    "function one_hot_inputs(implicit::Bool, num_users::Int)\n",
    "    convert.(Int32, collect(1:num_users))\n",
    "end;"
   ]
  },
  {
   "cell_type": "code",
   "execution_count": null,
   "id": "685714a9-2d8c-424f-a909-cbcf50218a6c",
   "metadata": {},
   "outputs": [],
   "source": [
    "function explicit_inputs(num_users::Int, residual_alphas::Vector{String})\n",
    "    df = get_split(\"training\", \"explicit\")\n",
    "    df = RatingsDataset(\n",
    "        user=df.user,\n",
    "        item=df.item,\n",
    "        rating=df.rating .- read_alpha(residual_alphas, \"training\", \"explicit\", false).rating,\n",
    "    )\n",
    "    sparse(filter_users(df, num_users))\n",
    "end;"
   ]
  },
  {
   "cell_type": "code",
   "execution_count": null,
   "id": "e83525d6-06d4-4b02-a9c3-147592a58e48",
   "metadata": {},
   "outputs": [],
   "source": [
    "function explicit_validity_inputs(num_users::Int)\n",
    "    df = get_split(\"training\", \"explicit\")\n",
    "    df = RatingsDataset(user=df.user, item=df.item, rating=fill(1, length(df.rating)))\n",
    "    sparse(filter_users(df, num_users))\n",
    "end;"
   ]
  },
  {
   "cell_type": "code",
   "execution_count": null,
   "id": "d6065f98-4065-4d0d-9800-6fd711b3f855",
   "metadata": {},
   "outputs": [],
   "source": [
    "function implicit_inputs(num_users::Int)\n",
    "    df = get_split(\"training\", \"implicit\")\n",
    "    sparse(filter_users(df, num_users))\n",
    "end;"
   ]
  },
  {
   "cell_type": "code",
   "execution_count": null,
   "id": "89954c90-398f-4fb6-9574-f3450d61a3b9",
   "metadata": {},
   "outputs": [],
   "source": [
    "function explicit_implicit_inputs(num_users::Int, residual_alphas::Vector{String})\n",
    "    vcat(\n",
    "        explicit_inputs(num_users, residual_alphas),\n",
    "        explicit_validity_inputs(num_users),\n",
    "        implicit_inputs(num_users),\n",
    "    )\n",
    "end;"
   ]
  },
  {
   "cell_type": "code",
   "execution_count": null,
   "id": "7818e52a-2b7e-4c9c-af2a-28b922fb214f",
   "metadata": {},
   "outputs": [],
   "source": [
    "function explicit_implicit_tuple_inputs(num_users::Int, residual_alphas::Vector{String})\n",
    "    explicit_inputs(num_users, residual_alphas),\n",
    "        explicit_validity_inputs(num_users),\n",
    "        implicit_inputs(num_users)\n",
    "end;"
   ]
  },
  {
   "cell_type": "code",
   "execution_count": null,
   "id": "e3bc74cc-6f28-446d-b41b-16e23eaa00f7",
   "metadata": {},
   "outputs": [],
   "source": [
    "function get_epoch_allitem_inputs(input_data::String, implicit::Bool, num_users::Int, input_alphas::Vector{String})\n",
    "    if input_data == \"one_hot\"\n",
    "        return one_hot_inputs(implicit, num_users)\n",
    "    elseif input_data == \"implicit\"\n",
    "        return implicit_inputs(num_users)\n",
    "    elseif input_data == \"explicit\"\n",
    "        return explicit_inputs(num_users, input_alphas)\n",
    "    elseif input_data == \"explicit_implicit\"\n",
    "        return explicit_implicit_inputs(num_users, input_alphas)\n",
    "    elseif input_data == \"explicit_implicit_tuple\"\n",
    "        return explicit_implicit_tuple_inputs(num_users, input_alphas)        \n",
    "    else\n",
    "        @assert false\n",
    "    end\n",
    "end;"
   ]
  },
  {
   "cell_type": "markdown",
   "id": "4b336f2f-16af-42e4-9ab2-aa59a09fa2ab",
   "metadata": {},
   "source": [
    "### Dispatch"
   ]
  },
  {
   "cell_type": "code",
   "execution_count": null,
   "id": "63807d27-83cc-4d4d-9437-a3e3668ed340",
   "metadata": {},
   "outputs": [],
   "source": [
    "function get_epoch_item_inputs(users::Vector{Int32}, items::Vector{Int32}, input_data::String, implicit::Bool, num_users::Int, input_alphas::Vector{String})\n",
    "    df = RatingsDataset(user=users, item=items)\n",
    "    df = filter_users(df, num_users)\n",
    "    U = get_epoch_allitem_inputs(input_data, implicit, num_users, input_alphas)\n",
    "    H = convert.(Float32, sparse(LinearAlgebra.I(num_items())))\n",
    "    M = get_neural_item_features()\n",
    "    T = readdlm(get_data_path(\"processed_data/text_embedding.csv\"), ',', Float32)\n",
    "    I = readdlm(get_data_path(\"processed_data/image_embedding.csv\"), ',', Float32)\n",
    "    A = (H, M..., T, I)\n",
    "    (df.user, U, df.item, A)\n",
    "end;"
   ]
  },
  {
   "cell_type": "code",
   "execution_count": null,
   "id": "73fd1e3e-2ea9-4068-a68e-95cd49bc9517",
   "metadata": {},
   "outputs": [],
   "source": [
    "function get_transformed_output_data(df, output_data::String)\n",
    "    if output_data == \"allitems\"\n",
    "        return sparse(df)\n",
    "    elseif output_data == \"item\"\n",
    "        return collect(df.rating')\n",
    "    else\n",
    "        @assert false\n",
    "    end\n",
    "end;"
   ]
  },
  {
   "cell_type": "code",
   "execution_count": null,
   "id": "4c0cd51a-8bfe-498b-9185-c0ecaeb1a9f8",
   "metadata": {},
   "outputs": [],
   "source": [
    "function get_epoch_inputs(\n",
    "    users::Vector,\n",
    "    items::Vector,\n",
    "    input_data::String,\n",
    "    output_data::String,\n",
    "    implicit::Bool,\n",
    "    num_users::Int,\n",
    "    input_alphas::Vector{String},\n",
    ")\n",
    "    if output_data == \"allitems\"\n",
    "        return get_epoch_allitem_inputs(input_data, implicit, num_users, input_alphas)\n",
    "    elseif output_data == \"item\"\n",
    "        return get_epoch_item_inputs(\n",
    "            users,\n",
    "            items,\n",
    "            input_data,\n",
    "            implicit,\n",
    "            num_users,\n",
    "            input_alphas,\n",
    "        )\n",
    "    else\n",
    "        @assert false\n",
    "    end\n",
    "end\n",
    "\n",
    "@memoize LRU{Any,Any}(maxsize = 2) function get_epoch_inputs(\n",
    "    split::String,\n",
    "    input_data::String,\n",
    "    output_data::String,\n",
    "    content::String,\n",
    "    implicit::Bool,\n",
    "    num_users::Int,\n",
    "    input_alphas::Vector{String},\n",
    ")\n",
    "    df = get_split(split, content)\n",
    "    get_epoch_inputs(\n",
    "        df.user,\n",
    "        df.item,\n",
    "        input_data,\n",
    "        output_data,\n",
    "        implicit,\n",
    "        num_users,\n",
    "        input_alphas,\n",
    "    )\n",
    "end\n",
    "\n",
    "@memoize LRU{Any,Any}(maxsize = 2) function get_epoch_outputs(\n",
    "    split::String,\n",
    "    output_data::String,\n",
    "    content::String,\n",
    "    implicit::Bool,\n",
    "    num_users::Int,\n",
    ")\n",
    "    df = filter_users(get_split(split, content), num_users)\n",
    "    get_transformed_output_data(df, output_data)\n",
    "end\n",
    "\n",
    "@memoize LRU{Any,Any}(maxsize = 2) function get_epoch_residuals(\n",
    "    split::String,\n",
    "    output_data::String,\n",
    "    content::String,\n",
    "    residual_alphas::Vector{String},\n",
    "    implicit::Bool,\n",
    "    num_users::Int,\n",
    ")\n",
    "    df = filter_users(read_alpha(residual_alphas, split, content, implicit), num_users)\n",
    "    get_transformed_output_data(df, output_data)\n",
    "end\n",
    "\n",
    "@memoize LRU{Any,Any}(maxsize = 2) function get_epoch_weights(\n",
    "    split::String,\n",
    "    output_data::String,\n",
    "    content::String,        \n",
    "    user_weight_decay::Union{String,Real},\n",
    "    item_weight_decay::Union{String,Real},\n",
    "    num_users::Int,\n",
    ")\n",
    "    if split == \"training\"\n",
    "        weights =\n",
    "            powerdecay(get_counts(split, content), user_weight_decay) .*\n",
    "            powerdecay(get_counts(split, content; by_item = true), item_weight_decay)\n",
    "    else\n",
    "        weights = powerdecay(get_counts(split, content), weighting_scheme(\"inverse\"))\n",
    "    end\n",
    "\n",
    "    df = get_split(split, content)\n",
    "    df = filter_users(RatingsDataset(user=df.user, item=df.item, rating=weights), num_users)\n",
    "    get_transformed_output_data(df, output_data)\n",
    "end;:"
   ]
  },
  {
   "cell_type": "code",
   "execution_count": null,
   "id": "272ebd7c-a236-4a22-b0af-17759579f995",
   "metadata": {},
   "outputs": [],
   "source": [
    "# returns (X, Y, Z, W) = (inputs, outputs, residualization alpha, weights)\n",
    "function get_epoch(split::String)\n",
    "    X = get_epoch_inputs(\n",
    "        split,\n",
    "        G.input_data,\n",
    "        G.output_data,\n",
    "        G.content,\n",
    "        G.implicit,\n",
    "        G.num_users,\n",
    "        G.input_alphas,\n",
    "    )\n",
    "    Y = get_epoch_outputs(split, G.output_data, G.content, G.implicit, G.num_users)\n",
    "    Z = get_epoch_residuals(\n",
    "        split,\n",
    "        G.output_data,\n",
    "        G.content,        \n",
    "        G.residual_alphas,\n",
    "        G.implicit,\n",
    "        G.num_users,\n",
    "    )\n",
    "    W = get_epoch_weights(\n",
    "        split,\n",
    "        G.output_data,\n",
    "        G.content,        \n",
    "        G.user_weight_decay,\n",
    "        G.item_weight_decay,\n",
    "        G.num_users,\n",
    "    )\n",
    "    X, Y, Z, W\n",
    "end;"
   ]
  },
  {
   "cell_type": "code",
   "execution_count": null,
   "id": "48b1a9c4-cf30-4352-994f-b904d5e08371",
   "metadata": {},
   "outputs": [],
   "source": [
    "function epoch_size(epoch)\n",
    "    if G.output_data == \"allitems\"\n",
    "        X = epoch[1]\n",
    "        if X isa Tuple\n",
    "            X = X[1]\n",
    "        end\n",
    "        dims = size(X)\n",
    "        return dims[length(dims)]\n",
    "    elseif G.output_data == \"item\"\n",
    "        return length(epoch[1][1])\n",
    "    else\n",
    "        @assert false\n",
    "    end\n",
    "end;"
   ]
  }
 ],
 "metadata": {
  "kernelspec": {
   "display_name": "Julia 1.8.0-rc1",
   "language": "julia",
   "name": "julia-1.8"
  },
  "language_info": {
   "file_extension": ".jl",
   "mimetype": "application/julia",
   "name": "julia",
   "version": "1.8.0"
  }
 },
 "nbformat": 4,
 "nbformat_minor": 5
}
