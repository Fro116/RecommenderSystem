{
 "cells": [
  {
   "cell_type": "markdown",
   "id": "826b1aac-67d5-4dec-be8b-1e6c65b4d252",
   "metadata": {
    "tags": []
   },
   "source": [
    "## Data Preprocessing\n",
    "* An epoch is an efficient representation of all the models inputs, outputs, residualization, and weights\n",
    "* We generate one epoch per split and memoize them"
   ]
  },
  {
   "cell_type": "code",
   "execution_count": null,
   "id": "cd0b9722-a6ec-488d-a44b-d384bd1d283c",
   "metadata": {},
   "outputs": [],
   "source": [
    "import DelimitedFiles: readdlm\n",
    "import Statistics: mean, std\n",
    "@nbinclude(\"../../Ensemble/ItemMetadata.ipynb\");"
   ]
  },
  {
   "cell_type": "markdown",
   "id": "a5170793-b7bd-41cf-90e8-5e738925766c",
   "metadata": {},
   "source": [
    "### RatingsDataset manipulation"
   ]
  },
  {
   "cell_type": "code",
   "execution_count": null,
   "id": "12f5dbd2-6b35-4f03-ab27-c468563e0774",
   "metadata": {},
   "outputs": [],
   "source": [
    "function SparseArrays.sparse(x::RatingsDataset; field::Symbol = :rating)\n",
    "    if (!@isdefined G) || isnothing(G)\n",
    "        n_users = num_users()\n",
    "    else\n",
    "        n_users = G.num_users\n",
    "    end\n",
    "    sparse(x.item, x.user, getfield(x, field), num_items(), n_users)\n",
    "end;"
   ]
  },
  {
   "cell_type": "markdown",
   "id": "2123501e-4d50-48f2-8ad1-1e9541fc0d25",
   "metadata": {
    "tags": []
   },
   "source": [
    "### Building blocks"
   ]
  },
  {
   "cell_type": "code",
   "execution_count": null,
   "id": "c1c39d34-3212-4131-8e1d-68021044fc7b",
   "metadata": {},
   "outputs": [],
   "source": [
    "function one_hot_inputs(implicit::Bool, num_users::Int)\n",
    "    convert.(Int32, collect(1:num_users))\n",
    "end;"
   ]
  },
  {
   "cell_type": "code",
   "execution_count": null,
   "id": "685714a9-2d8c-424f-a909-cbcf50218a6c",
   "metadata": {},
   "outputs": [],
   "source": [
    "function explicit_inputs(num_users::Int, residual_alphas::Vector{String})\n",
    "    df = get_split(\"training\", \"explicit\")\n",
    "    df = RatingsDataset(\n",
    "        user = df.user,\n",
    "        item = df.item,\n",
    "        rating = df.rating .-\n",
    "                 read_alpha(residual_alphas, \"training\", \"explicit\", false).rating,\n",
    "    )\n",
    "    sparse(filter_users(df, num_users))\n",
    "end;"
   ]
  },
  {
   "cell_type": "code",
   "execution_count": null,
   "id": "e83525d6-06d4-4b02-a9c3-147592a58e48",
   "metadata": {},
   "outputs": [],
   "source": [
    "function explicit_validity_inputs(num_users::Int)\n",
    "    df = get_split(\"training\", \"explicit\")\n",
    "    df = RatingsDataset(user = df.user, item = df.item, rating = fill(1, length(df.rating)))\n",
    "    sparse(filter_users(df, num_users))\n",
    "end;"
   ]
  },
  {
   "cell_type": "code",
   "execution_count": null,
   "id": "d6065f98-4065-4d0d-9800-6fd711b3f855",
   "metadata": {},
   "outputs": [],
   "source": [
    "function implicit_inputs(num_users::Int)\n",
    "    df = get_split(\"training\", \"implicit\")\n",
    "    sparse(filter_users(df, num_users))\n",
    "end;"
   ]
  },
  {
   "cell_type": "code",
   "execution_count": null,
   "id": "89954c90-398f-4fb6-9574-f3450d61a3b9",
   "metadata": {},
   "outputs": [],
   "source": [
    "function explicit_implicit_inputs(num_users::Int, residual_alphas::Vector{String})\n",
    "    vcat(\n",
    "        explicit_inputs(num_users, residual_alphas),\n",
    "        explicit_validity_inputs(num_users),\n",
    "        implicit_inputs(num_users),\n",
    "    )\n",
    "end;"
   ]
  },
  {
   "cell_type": "code",
   "execution_count": null,
   "id": "7818e52a-2b7e-4c9c-af2a-28b922fb214f",
   "metadata": {},
   "outputs": [],
   "source": [
    "function explicit_implicit_tuple_inputs(num_users::Int, residual_alphas::Vector{String})\n",
    "    explicit_inputs(num_users, residual_alphas),\n",
    "    explicit_validity_inputs(num_users),\n",
    "    implicit_inputs(num_users)\n",
    "end;"
   ]
  },
  {
   "cell_type": "code",
   "execution_count": null,
   "id": "83d001a2-7c1d-4db6-807b-a2d26d9bb4fe",
   "metadata": {},
   "outputs": [],
   "source": [
    "function field_inputs(num_users::Int, content::String, field::Symbol)\n",
    "    df = get_split(\"training\", content; fields = [:user, :item, field])\n",
    "    df = RatingsDataset(user = df.user, item = df.item, rating = getfield(df, field))\n",
    "    if field == :status\n",
    "        max_status = 5\n",
    "        @assert all(df.rating .<= max_status)\n",
    "        df = @set df.rating = df.rating ./ max_status\n",
    "    end\n",
    "    sparse(filter_users(df, num_users))\n",
    "end;"
   ]
  },
  {
   "cell_type": "code",
   "execution_count": null,
   "id": "89fd2505-724f-41a3-b710-a10c97d24e36",
   "metadata": {},
   "outputs": [],
   "source": [
    "function impression_metadata(num_users::Int, content::String, residual_alphas::Vector{String})\n",
    "    vcat(\n",
    "        explicit_inputs(num_users, residual_alphas),\n",
    "        field_inputs(num_users, content, :status),\n",
    "        field_inputs(num_users, content, :completion),\n",
    "        field_inputs(num_users, content, :timestamp),\n",
    "    )\n",
    "end;"
   ]
  },
  {
   "cell_type": "code",
   "execution_count": null,
   "id": "353d4d78-fdc9-4426-980f-f0f3c595f285",
   "metadata": {},
   "outputs": [],
   "source": [
    "function get_ordinal_timestamps(num_users::Int)\n",
    "    df = get_split(\"training\", \"implicit\"; fields = [:user, :item, :order])\n",
    "    filter_users(\n",
    "        RatingsDataset(user = df.user, item = df.item, rating = df.order),\n",
    "        num_users,\n",
    "    )\n",
    "end;"
   ]
  },
  {
   "cell_type": "code",
   "execution_count": null,
   "id": "99b8c972-3def-43a0-8300-33b03ef8cbed",
   "metadata": {},
   "outputs": [],
   "source": [
    "function get_timestamps(num_users::Int)\n",
    "    df = get_split(\"training\", \"implicit\"; fields = [:user, :item, :order])\n",
    "    filter_users(\n",
    "        RatingsDataset(user = df.user, item = df.item, rating = df.order),\n",
    "        num_users,\n",
    "    )\n",
    "end;"
   ]
  },
  {
   "cell_type": "markdown",
   "id": "4b336f2f-16af-42e4-9ab2-aa59a09fa2ab",
   "metadata": {},
   "source": [
    "### Dispatch"
   ]
  },
  {
   "cell_type": "code",
   "execution_count": null,
   "id": "e3bc74cc-6f28-446d-b41b-16e23eaa00f7",
   "metadata": {},
   "outputs": [],
   "source": [
    "function get_epoch_allitem_inputs(\n",
    "    input_data::String,\n",
    "    implicit::Bool,\n",
    "    num_users::Int,\n",
    "    input_alphas::Vector{String},\n",
    ")\n",
    "    if input_data == \"one_hot\"\n",
    "        return one_hot_inputs(implicit, num_users)\n",
    "    elseif input_data == \"implicit\"\n",
    "        return implicit_inputs(num_users)\n",
    "    elseif input_data == \"explicit\"\n",
    "        return explicit_inputs(num_users, input_alphas)\n",
    "    elseif input_data == \"explicit_implicit\"\n",
    "        return explicit_implicit_inputs(num_users, input_alphas)\n",
    "    elseif input_data == \"explicit_implicit_tuple\"\n",
    "        return explicit_implicit_tuple_inputs(num_users, input_alphas)\n",
    "    elseif input_data == \"impression_metadata\"\n",
    "        return impression_metadata(num_users, \"implicit\", input_alphas)    \n",
    "    elseif input_data == \"impression_metadata_ptw\"\n",
    "        return impression_metadata(num_users, \"ptw\", input_alphas)        \n",
    "    else\n",
    "        @assert false\n",
    "    end\n",
    "end;"
   ]
  },
  {
   "cell_type": "code",
   "execution_count": null,
   "id": "63807d27-83cc-4d4d-9437-a3e3668ed340",
   "metadata": {},
   "outputs": [],
   "source": [
    "function get_epoch_item_inputs(\n",
    "    users::Vector{Int32},\n",
    "    items::Vector{Int32},\n",
    "    input_data::String,\n",
    "    implicit::Bool,\n",
    "    num_users::Int,\n",
    "    input_alphas::Vector{String},\n",
    ")\n",
    "    U = get_epoch_allitem_inputs(input_data, implicit, num_users, input_alphas)\n",
    "    T = sparse(get_ordinal_timestamps(num_users))\n",
    "    H = convert.(Float32, sparse(LinearAlgebra.I(num_items())))\n",
    "    M = get_neural_item_features()\n",
    "    A = (H, M...)\n",
    "    df = filter_users(RatingsDataset(user = users, item = items), num_users)\n",
    "    (df.user, T, U, df.item, A)\n",
    "end;"
   ]
  },
  {
   "cell_type": "code",
   "execution_count": null,
   "id": "73fd1e3e-2ea9-4068-a68e-95cd49bc9517",
   "metadata": {},
   "outputs": [],
   "source": [
    "function get_transformed_output_data(df, output_data::String)\n",
    "    if output_data == \"allitems\"\n",
    "        return sparse(df)\n",
    "    elseif output_data == \"item\"\n",
    "        return collect(df.rating')\n",
    "    else\n",
    "        @assert false\n",
    "    end\n",
    "end;"
   ]
  },
  {
   "cell_type": "code",
   "execution_count": null,
   "id": "4c0cd51a-8bfe-498b-9185-c0ecaeb1a9f8",
   "metadata": {},
   "outputs": [],
   "source": [
    "function get_epoch_inputs(\n",
    "    users::Vector,\n",
    "    items::Vector,\n",
    "    input_data::String,\n",
    "    output_data::String,\n",
    "    implicit::Bool,\n",
    "    num_users::Int,\n",
    "    input_alphas::Vector{String},\n",
    ")\n",
    "    if output_data == \"allitems\"\n",
    "        return get_epoch_allitem_inputs(input_data, implicit, num_users, input_alphas)\n",
    "    elseif output_data == \"item\"\n",
    "        return get_epoch_item_inputs(\n",
    "            users,\n",
    "            items,\n",
    "            input_data,\n",
    "            implicit,\n",
    "            num_users,\n",
    "            input_alphas,\n",
    "        )\n",
    "    else\n",
    "        @assert false\n",
    "    end\n",
    "end\n",
    "\n",
    "@memoize LRU{Any,Any}(maxsize = 2) function get_epoch_inputs(\n",
    "    split::String,\n",
    "    input_data::String,\n",
    "    output_data::String,\n",
    "    content::String,\n",
    "    implicit::Bool,\n",
    "    num_users::Int,\n",
    "    input_alphas::Vector{String},\n",
    ")\n",
    "    df = get_split(split, content)\n",
    "    get_epoch_inputs(\n",
    "        df.user,\n",
    "        df.item,\n",
    "        input_data,\n",
    "        output_data,\n",
    "        implicit,\n",
    "        num_users,\n",
    "        input_alphas,\n",
    "    )\n",
    "end\n",
    "\n",
    "@memoize LRU{Any,Any}(maxsize = 2) function get_epoch_outputs(\n",
    "    split::String,\n",
    "    output_data::String,\n",
    "    content::String,\n",
    "    implicit::Bool,\n",
    "    num_users::Int,\n",
    ")\n",
    "    df = filter_users(get_split(split, content), num_users)\n",
    "    get_transformed_output_data(df, output_data)\n",
    "end\n",
    "\n",
    "@memoize LRU{Any,Any}(maxsize = 2) function get_epoch_residuals(\n",
    "    split::String,\n",
    "    output_data::String,\n",
    "    content::String,\n",
    "    residual_alphas::Vector{String},\n",
    "    implicit::Bool,\n",
    "    num_users::Int,\n",
    ")\n",
    "    df = filter_users(read_alpha(residual_alphas, split, content, implicit), num_users)\n",
    "    get_transformed_output_data(df, output_data)\n",
    "end\n",
    "\n",
    "@memoize LRU{Any,Any}(maxsize = 2) function get_epoch_weights(\n",
    "    split::String,\n",
    "    output_data::String,\n",
    "    content::String,\n",
    "    user_weight_decay::Union{String,Real},\n",
    "    item_weight_decay::Union{String,Real},\n",
    "    temporal_weight_decay::Union{String,Real},        \n",
    "    num_users::Int,\n",
    ")\n",
    "    if split == \"training\"\n",
    "        weights =\n",
    "            powerdecay(get_counts(split, content), user_weight_decay) .*\n",
    "            powerdecay(get_counts(split, content; by_item = true), item_weight_decay)\n",
    "            powerdecay(get_timestamps(split, content), temporal_weight_decay)\n",
    "    else\n",
    "        weights = powerdecay(get_counts(split, content), weighting_scheme(\"inverse\"))\n",
    "    end\n",
    "\n",
    "    df = get_split(split, content)\n",
    "    df = filter_users(\n",
    "        RatingsDataset(user = df.user, item = df.item, rating = weights),\n",
    "        num_users,\n",
    "    )\n",
    "    get_transformed_output_data(df, output_data)\n",
    "end\n",
    "\n",
    "@memoize LRU{Any,Any}(maxsize = 2) function get_epoch_ordinal_timestamps(\n",
    "    split::String,\n",
    "    output_data::String,\n",
    "    content::String,\n",
    "    num_users::Int,\n",
    ")\n",
    "    get_transformed_output_data(get_ordinal_timestamps(num_users), output_data)\n",
    "end;"
   ]
  },
  {
   "cell_type": "code",
   "execution_count": null,
   "id": "272ebd7c-a236-4a22-b0af-17759579f995",
   "metadata": {},
   "outputs": [],
   "source": [
    "# returns (X, Y, Z, W) = (inputs, outputs, residualization alpha, weights)\n",
    "function get_epoch(split::String)\n",
    "    X = get_epoch_inputs(\n",
    "        split,\n",
    "        G.input_data,\n",
    "        G.output_data,\n",
    "        G.content,\n",
    "        G.implicit,\n",
    "        G.num_users,\n",
    "        G.input_alphas,\n",
    "    )\n",
    "    Y = get_epoch_outputs(split, G.output_data, G.content, G.implicit, G.num_users)\n",
    "    Z = get_epoch_residuals(\n",
    "        split,\n",
    "        G.output_data,\n",
    "        G.content,\n",
    "        G.residual_alphas,\n",
    "        G.implicit,\n",
    "        G.num_users,\n",
    "    )\n",
    "    W = get_epoch_weights(\n",
    "        split,\n",
    "        G.output_data,\n",
    "        G.content,\n",
    "        G.user_weight_decay,\n",
    "        G.item_weight_decay,\n",
    "        G.temporal_weight_decay,\n",
    "        G.num_users,\n",
    "    )\n",
    "    epoch = (X, Y, Z, W)\n",
    "    if G.temporal_batching\n",
    "        T = get_epoch_ordinal_timestamps(split, G.output_data, G.content, G.num_users)\n",
    "        epoch = (epoch..., T)\n",
    "    end\n",
    "    epoch\n",
    "end;"
   ]
  },
  {
   "cell_type": "markdown",
   "id": "0c74b547-2a41-4ded-93c2-d1e54a646860",
   "metadata": {},
   "source": [
    "### Utilities"
   ]
  },
  {
   "cell_type": "code",
   "execution_count": null,
   "id": "48b1a9c4-cf30-4352-994f-b904d5e08371",
   "metadata": {},
   "outputs": [],
   "source": [
    "function epoch_size(epoch)\n",
    "    if G.output_data == \"allitems\"\n",
    "        X = epoch[1]\n",
    "        if X isa Tuple\n",
    "            @assert startswith(G.model, \"double_embedding\")\n",
    "            X = X[1]\n",
    "        end\n",
    "        return size(X)[end]\n",
    "    elseif G.output_data == \"item\"\n",
    "        return length(epoch[1][1])\n",
    "    else\n",
    "        @assert false\n",
    "    end\n",
    "end;"
   ]
  }
 ],
 "metadata": {
  "kernelspec": {
   "display_name": "Julia 1.8.0-rc1",
   "language": "julia",
   "name": "julia-1.8"
  },
  "language_info": {
   "file_extension": ".jl",
   "mimetype": "application/julia",
   "name": "julia",
   "version": "1.8.0"
  }
 },
 "nbformat": 4,
 "nbformat_minor": 5
}
