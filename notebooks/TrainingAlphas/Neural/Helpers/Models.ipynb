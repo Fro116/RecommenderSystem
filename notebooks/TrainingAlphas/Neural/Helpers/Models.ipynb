{
 "cells": [
  {
   "cell_type": "markdown",
   "id": "33d3fa63-a407-4e8d-86d2-b54b50e6d6ac",
   "metadata": {},
   "source": [
    "## Models"
   ]
  },
  {
   "cell_type": "code",
   "execution_count": null,
   "id": "7e0e569f-45d1-4a4c-9b53-4acb56dbdaee",
   "metadata": {},
   "outputs": [],
   "source": [
    "# A layer that stores a parameter and leaves the input unchaged\n",
    "# this is used for residualization\n",
    "struct StorageLayer\n",
    "    β::Any\n",
    "end\n",
    "StorageLayer(n::Integer; init = ones) = StorageLayer(init(Float32, n))\n",
    "(m::StorageLayer)(x) = x\n",
    "@functor StorageLayer"
   ]
  },
  {
   "cell_type": "code",
   "execution_count": null,
   "id": "ab5bd32e-e17f-48f8-a50e-8855b4a87e21",
   "metadata": {},
   "outputs": [],
   "source": [
    "# A layer that multiplies the input by a scalar\n",
    "struct ScalarLayer\n",
    "    γ::Any\n",
    "end\n",
    "ScalarLayer(n::Integer; init = ones) = ScalarLayer(init(Float32, n))\n",
    "function (m::ScalarLayer)(x)\n",
    "    x .* m.γ\n",
    "end\n",
    "@functor ScalarLayer"
   ]
  },
  {
   "cell_type": "code",
   "execution_count": null,
   "id": "d98c6ad4-0766-480e-86bf-50eb3ba9037d",
   "metadata": {},
   "outputs": [],
   "source": [
    "function autoencoder(rng, num_inputs, num_outputs)\n",
    "    init = (x...) -> Flux.glorot_uniform(rng, x...)\n",
    "    Chain(\n",
    "        Dense(num_inputs, 1024, relu, init = init),\n",
    "        Dense(1024, 512, relu, init = init),\n",
    "        Dense(512, 256, relu, init = init),\n",
    "        Dense(256, num_outputs, init = init),\n",
    "    )\n",
    "end;"
   ]
  },
  {
   "cell_type": "code",
   "execution_count": null,
   "id": "1c8db136-b854-4cf5-8e8e-8dd6fbc28081",
   "metadata": {},
   "outputs": [],
   "source": [
    "function build_model(; rng = Random.GLOBAL_RNG)\n",
    "    if startswith(G.model, \"autoencoder\")\n",
    "        m = autoencoder(rng, num_items(G.medium) * 3, num_items(G.medium))\n",
    "    elseif startswith(G.model, \"universal\")\n",
    "        m = autoencoder(rng, sum(num_items(x) for x in ALL_MEDIUMS) * 2, num_items(G.medium))        \n",
    "    else\n",
    "        @assert false\n",
    "    end\n",
    "    Chain(m..., StorageLayer(1))\n",
    "end;"
   ]
  }
 ],
 "metadata": {
  "kernelspec": {
   "display_name": "Julia 1.9.0-rc2",
   "language": "julia",
   "name": "julia-1.9"
  },
  "language_info": {
   "file_extension": ".jl",
   "mimetype": "application/julia",
   "name": "julia",
   "version": "1.9.0"
  }
 },
 "nbformat": 4,
 "nbformat_minor": 5
}
