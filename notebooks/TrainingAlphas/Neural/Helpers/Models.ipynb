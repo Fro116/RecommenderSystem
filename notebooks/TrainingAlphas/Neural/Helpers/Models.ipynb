{
 "cells": [
  {
   "cell_type": "markdown",
   "id": "33d3fa63-a407-4e8d-86d2-b54b50e6d6ac",
   "metadata": {},
   "source": [
    "## Models\n",
    "* To define a new model:\n",
    "  * add the architecture to `build_model` \n",
    "  * add the regularization to `regularization_loss`\n",
    "  * fill in any asserts"
   ]
  },
  {
   "cell_type": "markdown",
   "id": "5106d224-b9a8-4ce7-8382-5c6950f395d3",
   "metadata": {},
   "source": [
    "### Basic Layers"
   ]
  },
  {
   "cell_type": "code",
   "execution_count": null,
   "id": "3f49e2fa-a7f2-4f03-93b0-7829df41753c",
   "metadata": {},
   "outputs": [],
   "source": [
    "# a layer to join multiple inputs\n",
    "Join(combine, paths) = Parallel(combine, paths)\n",
    "Join(combine, paths...) = Join(combine, paths)"
   ]
  },
  {
   "cell_type": "code",
   "execution_count": null,
   "id": "7e0e569f-45d1-4a4c-9b53-4acb56dbdaee",
   "metadata": {},
   "outputs": [],
   "source": [
    "# A layer that stores a parameter and leaves the input unchaged\n",
    "# this is used for residualization\n",
    "struct StorageLayer\n",
    "    β::Any\n",
    "end\n",
    "StorageLayer(n::Integer; init = ones) = StorageLayer(init(Float32, n))\n",
    "function (m::StorageLayer)(x)\n",
    "    x\n",
    "end\n",
    "Flux.@functor StorageLayer"
   ]
  },
  {
   "cell_type": "code",
   "execution_count": null,
   "id": "f28bd4ac-d950-4e5e-bbdd-4649fd74d3d3",
   "metadata": {},
   "outputs": [],
   "source": [
    "# A layer that performs a linear regression on the input\n",
    "struct ScalarLayer\n",
    "    γ::Any\n",
    "end\n",
    "ScalarLayer(n::Integer; init = ones) = ScalarLayer(init(Float32, n))\n",
    "function (m::ScalarLayer)(x)\n",
    "    x .* m.γ\n",
    "end\n",
    "Flux.@functor ScalarLayer"
   ]
  },
  {
   "cell_type": "code",
   "execution_count": null,
   "id": "321ca69a-0b42-4859-8594-af05d93e52f8",
   "metadata": {},
   "outputs": [],
   "source": [
    "# A layer that adds a 1-D vector to the input\n",
    "struct BiasLayer\n",
    "    b::Any\n",
    "end\n",
    "BiasLayer(n::Integer; init = zeros) = BiasLayer(init(Float32, n))\n",
    "(m::BiasLayer)(x) = x .+ m.b\n",
    "Flux.@functor BiasLayer"
   ]
  },
  {
   "cell_type": "markdown",
   "id": "68e1f5ca-9be6-462f-b16b-46086e0efc9b",
   "metadata": {},
   "source": [
    "### Custom Models"
   ]
  },
  {
   "cell_type": "code",
   "execution_count": null,
   "id": "0bf80688-1e79-420a-9710-ae82a5b8184e",
   "metadata": {},
   "outputs": [],
   "source": [
    "# Implements a baseline predictor given by R[user, item] = a[item]\n",
    "function item_biases(rng)\n",
    "    A = BiasLayer(num_items())\n",
    "    Chain(zero_reshape, A)\n",
    "end\n",
    "\n",
    "function zero_reshape(x) \n",
    "    reshape(x, (1, length(x))) * zero(Float32)\n",
    "end;"
   ]
  },
  {
   "cell_type": "code",
   "execution_count": null,
   "id": "ac3a4037-6c15-4839-9054-24d6703d00e1",
   "metadata": {},
   "outputs": [],
   "source": [
    "# R[user, item] = dot(U[:, user], A[:, item])\n",
    "function matrix_factorization(rng, K)\n",
    "    init = (x...) -> Flux.glorot_uniform(rng, x...)\n",
    "    U = Flux.Embedding(G.num_users => K, init = init)\n",
    "    A = Dense(K, num_items(), bias = false, init = init)\n",
    "    Chain(U, A)\n",
    "end\n",
    "\n",
    "# λ_u ||U|| + λ_a ||a||\n",
    "function matrix_factorization_regularization(m, x)\n",
    "    sum(m[1](x) .^ 2) * G.regularization_params[1] +\n",
    "    sum(m[2].weight .^ 2) * G.regularization_params[2]\n",
    "end;"
   ]
  },
  {
   "cell_type": "code",
   "execution_count": null,
   "id": "a9c45681-5e2b-4667-8eb5-4b7c2fa09e5a",
   "metadata": {},
   "outputs": [],
   "source": [
    "# R[user, item] = weighted average of other items the user has seen,\n",
    "# where the weights are given by the neighborhood similarity matrix W\n",
    "\n",
    "struct ItemCFLayer\n",
    "    W::Any\n",
    "    mask::Any\n",
    "end\n",
    "ItemCFLayer(W) = ItemCFLayer(W, item_cf_mask())\n",
    "ItemCFLayer(n::Integer; init = Flux.glorot_uniform) = ItemCFLayer(init(n, n))\n",
    "function (m::ItemCFLayer)(x)\n",
    "    W = m.W .* m.mask\n",
    "    (W * x) ./ (abs.(W) * nonzero.(x) .+ 1.0f0)\n",
    "end\n",
    "Flux.@functor ItemCFLayer (W,)\n",
    "\n",
    "function item_based_collaborative_filtering(rng)\n",
    "    init = (x...) -> Flux.glorot_uniform(rng, x...)\n",
    "    Chain(ItemCFLayer(num_items(); init = init))\n",
    "end\n",
    "\n",
    "function item_cf_mask()\n",
    "    collect(1.0f0 .- LinearAlgebra.I(num_items()))\n",
    "end;\n",
    "\n",
    "function nonzero(x)\n",
    "    t = eltype(x)\n",
    "    x != zero(t) ? one(t) : zero(t)\n",
    "end\n",
    "\n",
    "function device(x::ItemCFLayer)\n",
    "    ItemCFLayer(x.W |> device, x.mask |> device)\n",
    "end\n",
    "\n",
    "function Flux.cpu(x::ItemCFLayer)\n",
    "    ItemCFLayer(x.W |> cpu, x.mask |> cpu)\n",
    "end;"
   ]
  },
  {
   "cell_type": "code",
   "execution_count": null,
   "id": "d98c6ad4-0766-480e-86bf-50eb3ba9037d",
   "metadata": {},
   "outputs": [],
   "source": [
    "# inputs are the concatenation of implicit and explicit ratings\n",
    "function autoencoder(rng)\n",
    "    init = (x...) -> Flux.glorot_uniform(rng, x...)\n",
    "    Chain(\n",
    "        Dense(num_items() * 3, 1024, relu, init = init),\n",
    "        Dense(1024, 512, relu, init = init),\n",
    "        Dense(512, 256, relu, init = init),\n",
    "        Dense(256, num_items(), init = init),\n",
    "    )\n",
    "end;"
   ]
  },
  {
   "cell_type": "code",
   "execution_count": null,
   "id": "bc7bef28-8c34-4988-a0e7-45155a000715",
   "metadata": {},
   "outputs": [],
   "source": [
    "# embarrassingly shallow autoencoder\n",
    "struct EaseLayer\n",
    "    W::Any\n",
    "    mask::Any\n",
    "end\n",
    "EaseLayer(W) = EaseLayer(W, item_cf_mask())\n",
    "EaseLayer(n::Integer; init = Flux.glorot_uniform) = EaseLayer(init(n, n))\n",
    "function (m::EaseLayer)(x)\n",
    "    W = m.W .* m.mask\n",
    "    W * x\n",
    "end\n",
    "Flux.@functor EaseLayer (W,)\n",
    "\n",
    "function ease(rng)\n",
    "    init = (x...) -> Flux.glorot_uniform(rng, x...)\n",
    "    Chain(EaseLayer(num_items(); init = init))\n",
    "end\n",
    "\n",
    "function device(x::EaseLayer)\n",
    "    EaseLayer(x.W |> device, x.mask |> device)\n",
    "end\n",
    "\n",
    "function Flux.cpu(x::EaseLayer)\n",
    "    EaseLayer(x.W |> cpu, x.mask |> cpu)\n",
    "end;"
   ]
  },
  {
   "cell_type": "code",
   "execution_count": null,
   "id": "9cd9b93e-7f98-40e1-bb57-8a7965a6e731",
   "metadata": {},
   "outputs": [],
   "source": [
    "# double embedding\n",
    "function double_embedding(rng; K = 256)\n",
    "    init = (x...) -> Flux.glorot_uniform(rng, x...) \n",
    "    output_size(x) = Int(16 * ceil(log(x)))    \n",
    "    E = 256*3\n",
    "    sizes = (29, 76, 1010, 892, E, E)\n",
    "    layers = [Dense(M, output_size(M), relu, init=init) for M in sizes]\n",
    "    S = Dense(num_items(), output_size(num_items()), relu, init = init)\n",
    "    Chain(\n",
    "        Join(\n",
    "            vcat,\n",
    "            Join(\n",
    "                vcat,\n",
    "                S,\n",
    "                S,\n",
    "                S,\n",
    "            ),\n",
    "            Join(vcat,\n",
    "                S,\n",
    "                layers...,\n",
    "            ),\n",
    "        ),\n",
    "        Dense(output_size(num_items())*4 + sum(output_size.(sizes)), K, relu, init = init),\n",
    "        Dense(K, 1, init = init),\n",
    "    )    \n",
    "end;"
   ]
  },
  {
   "cell_type": "code",
   "execution_count": 10,
   "id": "1549d1e0-0967-43a9-9bdd-bca019683e26",
   "metadata": {},
   "outputs": [],
   "source": [
    "# metadata embedding\n",
    "struct MetadataEmbedding\n",
    "    E1::Any\n",
    "    E2::Any\n",
    "end\n",
    "\n",
    "MetadataEmbedding(\n",
    "    N::Integer,\n",
    "    c1::Integer,\n",
    "    c2::Integer,\n",
    "    c3::Integer;\n",
    "    init = Flux.glorot_uniform,\n",
    ") = MetadataEmbedding(init(N, c1, c2, 1), init(N, c2, c3, 1))\n",
    "\n",
    "tensor_product(E, X) =\n",
    "    reshape(sum(X .* E, dims = 2), (size(X)[1], size(E)[3], 1, size(X)[end]))\n",
    "\n",
    "function (m::MetadataEmbedding)(X)\n",
    "    N, M = size(m.E1)[[1, 2]]\n",
    "    B = size(X)[end]\n",
    "    X1 = reshape(X, (N, M, 1, B))\n",
    "    X2 = relu.(tensor_product(m.E1, X1))\n",
    "    X3 = tensor_product(m.E2, X2)\n",
    "    X4 = reshape(sum(X3, dims = 1), size(X3)[[2, end]])\n",
    "    NumSeen = reshape(max.(1, sum(X1[:, 2, :, :] .!= 0, dims = 1)), (1, B))\n",
    "    X4 ./ NumSeen\n",
    "end\n",
    "\n",
    "Flux.@functor MetadataEmbedding\n",
    "\n",
    "\n",
    "function metadata_embedding(rng)\n",
    "    init = (x...) -> Flux.glorot_uniform(rng, x...)\n",
    "    N = num_items()\n",
    "    Chain(MetadataEmbedding(N, 4, 32, 64; init = init), Dense(64, 256, relu), Dense(256, N))\n",
    "end;"
   ]
  },
  {
   "cell_type": "markdown",
   "id": "25286be5-836b-4a93-b1c7-4a47d88a1562",
   "metadata": {},
   "source": [
    "### Dispatch"
   ]
  },
  {
   "cell_type": "code",
   "execution_count": null,
   "id": "1c8db136-b854-4cf5-8e8e-8dd6fbc28081",
   "metadata": {},
   "outputs": [],
   "source": [
    "function build_model(; rng = Random.GLOBAL_RNG)\n",
    "    if G.model == \"item_biases\"\n",
    "        m = item_biases(rng)\n",
    "    elseif G.model == \"item_based_collaborative_filtering\"\n",
    "        m = item_based_collaborative_filtering(rng)\n",
    "    elseif startswith(G.model, \"autoencoder\")\n",
    "        m = autoencoder(rng)     \n",
    "    elseif G.model == \"ease\"\n",
    "        m = ease(rng)\n",
    "    elseif startswith(G.model, \"double_embedding\")\n",
    "        m = double_embedding(rng)\n",
    "    elseif startswith(G.model, \"metadata_embedding\")\n",
    "        m = metadata_embedding(rng)        \n",
    "    else\n",
    "        @assert false\n",
    "    end\n",
    "    Chain(m..., StorageLayer(1))\n",
    "end;"
   ]
  }
 ],
 "metadata": {
  "kernelspec": {
   "display_name": "Julia 1.8.0-rc1",
   "language": "julia",
   "name": "julia-1.8"
  },
  "language_info": {
   "file_extension": ".jl",
   "mimetype": "application/julia",
   "name": "julia",
   "version": "1.8.0"
  }
 },
 "nbformat": 4,
 "nbformat_minor": 5
}
