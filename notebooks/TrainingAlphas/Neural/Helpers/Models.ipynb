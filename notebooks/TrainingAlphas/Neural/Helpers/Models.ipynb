{
 "cells": [
  {
   "cell_type": "markdown",
   "id": "33d3fa63-a407-4e8d-86d2-b54b50e6d6ac",
   "metadata": {},
   "source": [
    "## Models\n",
    "* To define a new model:\n",
    "  * add the architecture to `build_model` \n",
    "  * fill in any asserts"
   ]
  },
  {
   "cell_type": "markdown",
   "id": "5106d224-b9a8-4ce7-8382-5c6950f395d3",
   "metadata": {},
   "source": [
    "### Basic Layers"
   ]
  },
  {
   "cell_type": "code",
   "execution_count": null,
   "id": "7e0e569f-45d1-4a4c-9b53-4acb56dbdaee",
   "metadata": {},
   "outputs": [],
   "source": [
    "# A layer that stores a parameter and leaves the input unchaged\n",
    "# this is used for residualization\n",
    "struct StorageLayer\n",
    "    β::Any\n",
    "end\n",
    "StorageLayer(n::Integer; init = ones) = StorageLayer(init(Float32, n))\n",
    "function (m::StorageLayer)(x)\n",
    "    x\n",
    "end\n",
    "@functor StorageLayer"
   ]
  },
  {
   "cell_type": "code",
   "execution_count": null,
   "id": "f28bd4ac-d950-4e5e-bbdd-4649fd74d3d3",
   "metadata": {},
   "outputs": [],
   "source": [
    "# A layer that multiplies the input by a scalar\n",
    "struct ScalarLayer\n",
    "    γ::Any\n",
    "end\n",
    "ScalarLayer(n::Integer; init = ones) = ScalarLayer(init(Float32, n))\n",
    "function (m::ScalarLayer)(x)\n",
    "    x .* m.γ\n",
    "end\n",
    "@functor ScalarLayer"
   ]
  },
  {
   "cell_type": "code",
   "execution_count": null,
   "id": "321ca69a-0b42-4859-8594-af05d93e52f8",
   "metadata": {},
   "outputs": [],
   "source": [
    "# A layer that adds a 1-D vector to the input\n",
    "struct BiasLayer\n",
    "    b::Any\n",
    "end\n",
    "BiasLayer(n::Integer; init = zeros) = BiasLayer(init(Float32, n))\n",
    "(m::BiasLayer)(x) = x .+ m.b\n",
    "@functor BiasLayer"
   ]
  },
  {
   "cell_type": "markdown",
   "id": "68e1f5ca-9be6-462f-b16b-46086e0efc9b",
   "metadata": {},
   "source": [
    "### Custom Models"
   ]
  },
  {
   "cell_type": "code",
   "execution_count": null,
   "id": "0bf80688-1e79-420a-9710-ae82a5b8184e",
   "metadata": {},
   "outputs": [],
   "source": [
    "# Implements a baseline predictor given by R[user, item] = a[item]\n",
    "function item_biases(rng, num_items)\n",
    "    A = BiasLayer(num_items)\n",
    "    Chain(zero_reshape, A)\n",
    "end\n",
    "\n",
    "function zero_reshape(x)\n",
    "    reshape(x, (1, length(x))) * zero(Float32)\n",
    "end;"
   ]
  },
  {
   "cell_type": "code",
   "execution_count": null,
   "id": "a9c45681-5e2b-4667-8eb5-4b7c2fa09e5a",
   "metadata": {},
   "outputs": [],
   "source": [
    "# R[user, item] = weighted average of other items the user has seen,\n",
    "# where the weights are given by the neighborhood similarity matrix W\n",
    "\n",
    "struct ItemCFLayer\n",
    "    W::Any\n",
    "end\n",
    "\n",
    "function ItemCFLayer(n::Integer; init = Flux.glorot_uniform)\n",
    "    W = init(n, n)\n",
    "    for i = 1:n\n",
    "        W[i, i] = 0\n",
    "    end\n",
    "    ItemCFLayer(W)\n",
    "end\n",
    "\n",
    "function (m::ItemCFLayer)(x)\n",
    "    (m.W * x) ./ (abs.(m.W) * nonzero.(x) .+ eps(Float32))\n",
    "end\n",
    "\n",
    "@functor ItemCFLayer\n",
    "\n",
    "function item_based_collaborative_filtering(rng, num_items)\n",
    "    init = (x...) -> Flux.glorot_uniform(rng, x...)\n",
    "    Chain(ItemCFLayer(num_items; init = init), BiasLayer(num_items))\n",
    "end\n",
    "\n",
    "function nonzero(x)\n",
    "    t = eltype(x)\n",
    "    x != zero(t) ? one(t) : zero(t)\n",
    "end;"
   ]
  },
  {
   "cell_type": "code",
   "execution_count": null,
   "id": "bc7bef28-8c34-4988-a0e7-45155a000715",
   "metadata": {},
   "outputs": [],
   "source": [
    "# embarrassingly shallow autoencoder\n",
    "struct EaseLayer\n",
    "    W::Any\n",
    "end\n",
    "\n",
    "function EaseLayer(n::Integer; init = Flux.glorot_uniform)\n",
    "    W = init(n, n)\n",
    "    for i = 1:n\n",
    "        W[i, i] = 0\n",
    "    end\n",
    "    EaseLayer(W)\n",
    "end\n",
    "\n",
    "function (m::EaseLayer)(x)\n",
    "    m.W * x\n",
    "end\n",
    "@functor EaseLayer\n",
    "\n",
    "function ease(rng, num_items)\n",
    "    init = (x...) -> Flux.glorot_uniform(rng, x...)\n",
    "    Chain(EaseLayer(num_items; init = init), BiasLayer(num_items))\n",
    "end;"
   ]
  },
  {
   "cell_type": "code",
   "execution_count": null,
   "id": "d98c6ad4-0766-480e-86bf-50eb3ba9037d",
   "metadata": {},
   "outputs": [],
   "source": [
    "# inputs are the concatenation of implicit and explicit ratings\n",
    "function autoencoder(rng, num_inputs, num_outputs)\n",
    "    init = (x...) -> Flux.glorot_uniform(rng, x...)\n",
    "    Chain(\n",
    "        Dense(num_inputs, 1024, relu, init = init),\n",
    "        Dense(1024, 512, relu, init = init),\n",
    "        Dense(512, 256, relu, init = init),\n",
    "        Dense(256, num_outputs, init = init),\n",
    "    )\n",
    "end;"
   ]
  },
  {
   "cell_type": "markdown",
   "id": "25286be5-836b-4a93-b1c7-4a47d88a1562",
   "metadata": {},
   "source": [
    "### Dispatch"
   ]
  },
  {
   "cell_type": "code",
   "execution_count": null,
   "id": "1c8db136-b854-4cf5-8e8e-8dd6fbc28081",
   "metadata": {},
   "outputs": [],
   "source": [
    "function build_model(; rng = Random.GLOBAL_RNG)\n",
    "    if G.model == \"item_biases\"\n",
    "        m = item_biases(rng, num_items(G.medium))\n",
    "    elseif G.model == \"item_based_collaborative_filtering\"\n",
    "        m = item_based_collaborative_filtering(rng, num_items(G.medium))\n",
    "    elseif startswith(G.model, \"autoencoder\")\n",
    "        m = autoencoder(rng, num_items(G.medium) * 3, num_items(G.medium))\n",
    "    elseif G.model == \"ease\"\n",
    "        m = ease(rng, num_items(G.medium))\n",
    "    elseif startswith(G.model, \"cross_media\")\n",
    "        params = split(G.model, \".\")\n",
    "        if \"anime\" in params\n",
    "            medium = \"anime\"\n",
    "        elseif \"manga\" in params\n",
    "            medium = \"manga\"\n",
    "        else\n",
    "            @assert false\n",
    "        end\n",
    "        @assert medium != G.medium        \n",
    "        m = autoencoder(rng, num_items(medium) * 3, num_items(G.medium))\n",
    "    else\n",
    "        @assert false\n",
    "    end\n",
    "    Chain(m..., StorageLayer(1))\n",
    "end;"
   ]
  }
 ],
 "metadata": {
  "kernelspec": {
   "display_name": "Julia 1.9.0-rc2",
   "language": "julia",
   "name": "julia-1.9"
  },
  "language_info": {
   "file_extension": ".jl",
   "mimetype": "application/julia",
   "name": "julia",
   "version": "1.9.0"
  }
 },
 "nbformat": 4,
 "nbformat_minor": 5
}
