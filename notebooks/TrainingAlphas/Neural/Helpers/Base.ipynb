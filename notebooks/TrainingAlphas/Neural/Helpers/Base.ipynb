{
 "cells": [
  {
   "cell_type": "markdown",
   "id": "c3758ece-9b72-47b4-ae6a-aa364e0443e3",
   "metadata": {
    "tags": []
   },
   "source": [
    "# Base\n",
    "* This file packages the infrastructure for training neural networks"
   ]
  },
  {
   "cell_type": "code",
   "execution_count": null,
   "id": "d17593ac-3260-4c01-a5df-91edfcd17e13",
   "metadata": {},
   "outputs": [],
   "source": [
    "using Flux\n",
    "using Random\n",
    "import CUDA\n",
    "import NBInclude: @nbinclude\n",
    "@nbinclude(\"../../Alpha.ipynb\");"
   ]
  },
  {
   "cell_type": "code",
   "execution_count": null,
   "id": "08801fd4-7057-49f0-9fa7-9854d17494cc",
   "metadata": {},
   "outputs": [],
   "source": [
    "@nbinclude(\"GPU.ipynb\");"
   ]
  },
  {
   "cell_type": "code",
   "execution_count": null,
   "id": "27f9a132-f504-4a1a-b398-fdcdbd716d85",
   "metadata": {},
   "outputs": [],
   "source": [
    "@nbinclude(\"Hyperparameters.ipynb\");"
   ]
  },
  {
   "cell_type": "code",
   "execution_count": null,
   "id": "d73a692e-199b-4eb2-ad7b-d63c09b48058",
   "metadata": {},
   "outputs": [],
   "source": [
    "@nbinclude(\"Models.ipynb\");"
   ]
  },
  {
   "cell_type": "code",
   "execution_count": null,
   "id": "c1c39d34-3212-4131-8e1d-68021044fc7b",
   "metadata": {},
   "outputs": [],
   "source": [
    "@nbinclude(\"Data.ipynb\");"
   ]
  },
  {
   "cell_type": "code",
   "execution_count": null,
   "id": "6d38413f-c460-48f4-962e-894f02fa1ee9",
   "metadata": {},
   "outputs": [],
   "source": [
    "@nbinclude(\"Batching.ipynb\");"
   ]
  },
  {
   "cell_type": "code",
   "execution_count": null,
   "id": "a8b1e1eb-e531-4f85-a8db-e23ba51c7912",
   "metadata": {},
   "outputs": [],
   "source": [
    "@nbinclude(\"Loss.ipynb\");"
   ]
  },
  {
   "cell_type": "code",
   "execution_count": null,
   "id": "75e5e379-ed97-4e63-b94e-824c365cfd5d",
   "metadata": {},
   "outputs": [],
   "source": [
    "@nbinclude(\"Training.ipynb\");"
   ]
  },
  {
   "cell_type": "code",
   "execution_count": null,
   "id": "1183379a-3384-4d3e-8457-c55440e1fee7",
   "metadata": {},
   "outputs": [],
   "source": [
    "@nbinclude(\"Saving.ipynb\");"
   ]
  },
  {
   "cell_type": "code",
   "execution_count": null,
   "id": "cd693480-3562-4f60-91a2-395544381999",
   "metadata": {},
   "outputs": [],
   "source": [
    "@nbinclude(\"Integration.ipynb\");"
   ]
  }
 ],
 "metadata": {
  "kernelspec": {
   "display_name": "Julia 1.8.0-rc1",
   "language": "julia",
   "name": "julia-1.8"
  },
  "language_info": {
   "file_extension": ".jl",
   "mimetype": "application/julia",
   "name": "julia",
   "version": "1.8.0"
  }
 },
 "nbformat": 4,
 "nbformat_minor": 5
}
