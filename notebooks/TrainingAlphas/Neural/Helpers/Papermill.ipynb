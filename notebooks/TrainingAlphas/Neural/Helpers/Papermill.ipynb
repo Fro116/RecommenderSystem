{
 "cells": [
  {
   "cell_type": "markdown",
   "id": "c3758ece-9b72-47b4-ae6a-aa364e0443e3",
   "metadata": {
    "tags": []
   },
   "source": [
    "# Papermill\n",
    "* A hook to allow training models via papermill"
   ]
  },
  {
   "cell_type": "code",
   "execution_count": null,
   "id": "d17593ac-3260-4c01-a5df-91edfcd17e13",
   "metadata": {},
   "outputs": [],
   "source": [
    "import NBInclude: @nbinclude\n",
    "@nbinclude(\"Base.ipynb\");"
   ]
  },
  {
   "cell_type": "code",
   "execution_count": null,
   "id": "0d72157b-66de-4466-8f58-6fefd0190f8c",
   "metadata": {
    "tags": [
     "parameters"
    ]
   },
   "outputs": [],
   "source": [
    "model::String = \"\"\n",
    "content::String = \"\"\n",
    "task::String = \"\"\n",
    "input_alphas::Vector{String} = String[]\n",
    "residual_alphas::Vector{String} = String[]\n",
    "outdir::String = \"\"\n",
    "tune_hyperparams::Bool = true;"
   ]
  },
  {
   "cell_type": "code",
   "execution_count": null,
   "id": "9d09c09c-3ccf-483c-a068-7f67aac217b0",
   "metadata": {},
   "outputs": [],
   "source": [
    "hyp = create_hyperparams(\n",
    "    model,\n",
    "    content,\n",
    "    task,\n",
    "    residual_alphas,\n",
    "    input_alphas,\n",
    ");"
   ]
  },
  {
   "cell_type": "code",
   "execution_count": null,
   "id": "7ec7989c-6b50-4bdd-b883-924bd96bf0b7",
   "metadata": {},
   "outputs": [],
   "source": [
    "if !tune_hyperparams\n",
    "    if task == \"random\"\n",
    "        λ = Float32[\n",
    "        1.3805612209088611, \n",
    "        1.1851872082776373, \n",
    "        1.0413816180825015, \n",
    "        0.3796169899571982, \n",
    "        0.426571507417037, \n",
    "        0.09556944231513809, \n",
    "        -0.22736182347553685\n",
    "    ]\n",
    "    elseif task == \"causal\"\n",
    "        λ = Float32[\n",
    "            1.0587716042999138,\n",
    "            -0.012921962332759752, \n",
    "            0.6145336756949802, \n",
    "            0.13432881634331129, \n",
    "            0.6994356650614458, \n",
    "            -0.07101069795766315, \n",
    "            0.3286033462166552\n",
    "        ]\n",
    "    elseif task == \"temporal\"\n",
    "        λ = Float32[\n",
    "            1.3977884837355254, \n",
    "            1.0273065472209866, \n",
    "            1.0583685426691947, \n",
    "            0.20085960237581535, \n",
    "            0.7386682832224805, \n",
    "            0.22603869649515668, \n",
    "            0.2072861262267625\n",
    "        ]\n",
    "    else\n",
    "        @assert false\n",
    "    end\n",
    "    hyp = create_hyperparams(hyp, λ)\n",
    "end"
   ]
  },
  {
   "cell_type": "code",
   "execution_count": null,
   "id": "7158042c-fa85-4bc5-aaa6-a0168d5b8de4",
   "metadata": {},
   "outputs": [],
   "source": [
    "train_alpha(\n",
    "    hyp,\n",
    "    \"$task/$outdir\";\n",
    "    tune_hyperparams=tune_hyperparams\n",
    ")"
   ]
  }
 ],
 "metadata": {
  "kernelspec": {
   "display_name": "Julia 1.8.3",
   "language": "julia",
   "name": "julia-1.8"
  },
  "language_info": {
   "file_extension": ".jl",
   "mimetype": "application/julia",
   "name": "julia",
   "version": "1.8.3"
  }
 },
 "nbformat": 4,
 "nbformat_minor": 5
}
