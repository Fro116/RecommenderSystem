{
 "cells": [
  {
   "cell_type": "markdown",
   "id": "c3758ece-9b72-47b4-ae6a-aa364e0443e3",
   "metadata": {
    "tags": []
   },
   "source": [
    "# Papermill\n",
    "* A hook to allow training models via papermill"
   ]
  },
  {
   "cell_type": "code",
   "execution_count": null,
   "id": "d17593ac-3260-4c01-a5df-91edfcd17e13",
   "metadata": {},
   "outputs": [],
   "source": [
    "import NBInclude: @nbinclude\n",
    "@nbinclude(\"Base.ipynb\");"
   ]
  },
  {
   "cell_type": "code",
   "execution_count": null,
   "id": "0d72157b-66de-4466-8f58-6fefd0190f8c",
   "metadata": {
    "tags": [
     "parameters"
    ]
   },
   "outputs": [],
   "source": [
    "model::String = \"\"\n",
    "content::String = \"\"\n",
    "input_alphas::Vector{String} = String[]\n",
    "residual_alphas::Vector{String} = String[]\n",
    "outdir::String = \"\"\n",
    "tune_hyperparams::Bool = true;"
   ]
  },
  {
   "cell_type": "code",
   "execution_count": null,
   "id": "9d09c09c-3ccf-483c-a068-7f67aac217b0",
   "metadata": {},
   "outputs": [],
   "source": [
    "hyp = create_hyperparams(\n",
    "            model,\n",
    "            content,\n",
    "            residual_alphas,\n",
    "            input_alphas,\n",
    "        )"
   ]
  },
  {
   "cell_type": "code",
   "execution_count": null,
   "id": "7ec7989c-6b50-4bdd-b883-924bd96bf0b7",
   "metadata": {},
   "outputs": [],
   "source": [
    "if !tune_hyperparams\n",
    "    hyp = create_hyperparams(hyp, Float32[1.0, 1.0, 1.0, 1.0, 0.0, 0.0, 0.0])\n",
    "end"
   ]
  },
  {
   "cell_type": "code",
   "execution_count": null,
   "id": "7158042c-fa85-4bc5-aaa6-a0168d5b8de4",
   "metadata": {},
   "outputs": [],
   "source": [
    "train_alpha(\n",
    "    hyp,\n",
    "    outdir;\n",
    "    tune_hyperparams=tune_hyperparams\n",
    ")"
   ]
  }
 ],
 "metadata": {
  "kernelspec": {
   "display_name": "Julia 1.8.2",
   "language": "julia",
   "name": "julia-1.8"
  },
  "language_info": {
   "file_extension": ".jl",
   "mimetype": "application/julia",
   "name": "julia",
   "version": "1.8.2"
  }
 },
 "nbformat": 4,
 "nbformat_minor": 5
}
