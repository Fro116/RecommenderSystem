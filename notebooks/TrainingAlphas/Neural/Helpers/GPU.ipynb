{
 "cells": [
  {
   "cell_type": "markdown",
   "id": "a4988ea0-8a00-41f1-857f-6064ef3806a7",
   "metadata": {},
   "source": [
    "## GPU"
   ]
  },
  {
   "cell_type": "code",
   "execution_count": null,
   "id": "2b6c9e9f-e1c6-4183-9236-42fdbf61dec8",
   "metadata": {},
   "outputs": [],
   "source": [
    "# TODO move to utils"
   ]
  },
  {
   "cell_type": "code",
   "execution_count": null,
   "id": "85e1ed04-7b2c-4f5a-bc4c-1ac914e11b15",
   "metadata": {},
   "outputs": [],
   "source": [
    "import CUDA\n",
    "import Flux\n",
    "import NNlibCUDA\n",
    "import SparseArrays"
   ]
  },
  {
   "cell_type": "code",
   "execution_count": null,
   "id": "7452a739-bcfc-4e03-86b2-1110b23f2a11",
   "metadata": {},
   "outputs": [],
   "source": [
    "CUDA.math_mode!(CUDA.FAST_MATH; precision = :BFloat16)\n",
    "NNlibCUDA.softmaxalgo() = NNlibCUDA.CUDNN_SOFTMAX_ACCURATE"
   ]
  },
  {
   "cell_type": "code",
   "execution_count": null,
   "id": "175504ab-e80d-417d-b2c6-eda29f61232f",
   "metadata": {},
   "outputs": [],
   "source": [
    "device(x) = Flux.gpu(x)\n",
    "# efficiently convert a sparse cpu matrix into a dense CUDA array\n",
    "device(x::SparseArrays.AbstractSparseArray) = CUDA.functional() ? CUDA.CuArray(gpu(x)) : collect(x)\n",
    "device(x::Tuple) = device.(x)"
   ]
  },
  {
   "cell_type": "code",
   "execution_count": null,
   "id": "b70e5f65-549c-4af4-aa0f-a9e725646a30",
   "metadata": {},
   "outputs": [],
   "source": [
    "function device_free!(x)\n",
    "    if !CUDA.functional()\n",
    "        return\n",
    "    end\n",
    "    CUDA.unsafe_free!(x)\n",
    "end\n",
    "device_free!(x::Tuple) = device_free!.(x);"
   ]
  }
 ],
 "metadata": {
  "kernelspec": {
   "display_name": "Julia 1.9.0-rc2",
   "language": "julia",
   "name": "julia-1.9"
  },
  "language_info": {
   "file_extension": ".jl",
   "mimetype": "application/julia",
   "name": "julia",
   "version": "1.9.0"
  }
 },
 "nbformat": 4,
 "nbformat_minor": 5
}
