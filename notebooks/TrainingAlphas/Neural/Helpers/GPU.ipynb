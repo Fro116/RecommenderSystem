{
 "cells": [
  {
   "cell_type": "markdown",
   "id": "a4988ea0-8a00-41f1-857f-6064ef3806a7",
   "metadata": {},
   "source": [
    "## GPU\n",
    "* Support both gpu and cpu training"
   ]
  },
  {
   "cell_type": "code",
   "execution_count": null,
   "id": "3248f62b-1c18-48de-a1db-f64e3549fe2f",
   "metadata": {},
   "outputs": [],
   "source": [
    "if !CUDA.functional()\n",
    "    LinearAlgebra.BLAS.set_num_threads(Threads.nthreads())\n",
    "end;"
   ]
  },
  {
   "cell_type": "code",
   "execution_count": null,
   "id": "175504ab-e80d-417d-b2c6-eda29f61232f",
   "metadata": {},
   "outputs": [],
   "source": [
    "device(x) = gpu(x)\n",
    "\n",
    "# efficiently convert a sparse cpu matrix into a dense CUDA array\n",
    "device(x::SparseArrays.AbstractSparseArray) = CUDA.functional() ? CUDA.CuArray(gpu(x)) : collect(x)\n",
    "device(x::Tuple) = device.(x)\n",
    "\n",
    "# some models have custom semantics where non-trainable parameters are on the gpu\n",
    "# we handle this by overriding the move to gpu semantics\n",
    "device(m::Chain) = Chain([device(m[i]) for i = 1:length(m)])\n",
    "Flux.cpu(m::Chain) = Chain([cpu(m[i]) for i = 1:length(m)])"
   ]
  },
  {
   "cell_type": "code",
   "execution_count": null,
   "id": "b70e5f65-549c-4af4-aa0f-a9e725646a30",
   "metadata": {},
   "outputs": [],
   "source": [
    "function device_free!(x)\n",
    "    if !CUDA.functional()\n",
    "        return\n",
    "    end\n",
    "    CUDA.unsafe_free!(x)\n",
    "end\n",
    "device_free!(x::Tuple) = device_free!.(x);"
   ]
  },
  {
   "cell_type": "code",
   "execution_count": null,
   "id": "13578c58-e212-48f8-88b3-50c872ab6770",
   "metadata": {},
   "outputs": [],
   "source": [
    "# custom flux layers\n",
    "Join(combine, paths) = Parallel(combine, paths)\n",
    "Join(combine, paths...) = Join(combine, paths);"
   ]
  }
 ],
 "metadata": {
  "kernelspec": {
   "display_name": "Julia 1.8.3",
   "language": "julia",
   "name": "julia-1.8"
  },
  "language_info": {
   "file_extension": ".jl",
   "mimetype": "application/julia",
   "name": "julia",
   "version": "1.8.3"
  }
 },
 "nbformat": 4,
 "nbformat_minor": 5
}
