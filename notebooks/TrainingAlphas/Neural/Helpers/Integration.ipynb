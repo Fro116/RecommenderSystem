{
 "cells": [
  {
   "cell_type": "markdown",
   "id": "c3758ece-9b72-47b4-ae6a-aa364e0443e3",
   "metadata": {
    "tags": []
   },
   "source": [
    "# Integration\n",
    "* Exposes a function that trains, optimizes, and saves a neural network model"
   ]
  },
  {
   "cell_type": "code",
   "execution_count": 11,
   "id": "cd693480-3562-4f60-91a2-395544381999",
   "metadata": {},
   "outputs": [],
   "source": [
    "function train_alpha(hyp::Hyperparams, outdir::String; tune_hyperparams = true)\n",
    "    set_logging_outdir(outdir)\n",
    "\n",
    "    if tune_hyperparams\n",
    "        @info \"Optimizing hyperparameters...\"\n",
    "        subsampling_factor = get_subsampling_factor(hyp.model)\n",
    "        hyp_subset = @set hyp.num_users = Int(round(num_users() * subsampling_factor))\n",
    "        λ = optimize_hyperparams(hyp_subset; max_evals = 100)\n",
    "        hyp = create_hyperparams(hyp, λ)\n",
    "    end\n",
    "\n",
    "    @info \"Training model...\"\n",
    "    m, epochs, validation_loss, hyp = optimize_learning_rate(hyp, 10)\n",
    "    @info \"Trained model loss: $validation_loss\"\n",
    "\n",
    "    if hyp.implicit\n",
    "        @info \"Training calibration layer...\"\n",
    "        m = train_calibration_layers(m, \"validation\", hyp; rng = Random.Xoshiro(hyp.seed))\n",
    "    end\n",
    "\n",
    "    @info \"Writing alpha...\"\n",
    "    write_params(\n",
    "        Dict(\n",
    "            \"m\" => m,\n",
    "            \"epochs\" => epochs,\n",
    "            \"hyp\" => hyp,\n",
    "            \"validation_loss\" => validation_loss,\n",
    "        ),\n",
    "        outdir,\n",
    "    )\n",
    "    write_alpha(hyp, m, outdir)\n",
    "end;"
   ]
  }
 ],
 "metadata": {
  "kernelspec": {
   "display_name": "Julia 1.8.0-rc1",
   "language": "julia",
   "name": "julia-1.8"
  },
  "language_info": {
   "file_extension": ".jl",
   "mimetype": "application/julia",
   "name": "julia",
   "version": "1.8.0"
  }
 },
 "nbformat": 4,
 "nbformat_minor": 5
}
