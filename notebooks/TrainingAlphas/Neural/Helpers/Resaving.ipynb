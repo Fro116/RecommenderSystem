{
 "cells": [
  {
   "cell_type": "code",
   "execution_count": null,
   "id": "d3ef15a8-4209-4fdc-afb6-ebcbd5e79a5a",
   "metadata": {},
   "outputs": [],
   "source": [
    "import NBInclude: @nbinclude\n",
    "@nbinclude(\"Base.ipynb\");"
   ]
  },
  {
   "cell_type": "code",
   "execution_count": null,
   "id": "e733b164-722a-4d7b-a72d-ce8be0f39ca0",
   "metadata": {},
   "outputs": [],
   "source": [
    "for media in ALL_MEDIA\n",
    "    for task in ALL_TASKS\n",
    "        for basename in [\n",
    "            \"NeuralExplicitUniversalUntuned\",\n",
    "            \"NeuralImplicitUniversalUntuned\",\n",
    "        ]\n",
    "            outdir = \"$media/$task/$basename\"\n",
    "            params = read_params(outdir)\n",
    "            hyp = params[\"hyp\"]\n",
    "            m = params[\"m\"] |> device\n",
    "            write_alpha(hyp, m, outdir)\n",
    "        end\n",
    "    end\n",
    "end"
   ]
  }
 ],
 "metadata": {
  "kernelspec": {
   "display_name": "Julia 1.9.0-rc2",
   "language": "julia",
   "name": "julia-1.9"
  },
  "language_info": {
   "file_extension": ".jl",
   "mimetype": "application/julia",
   "name": "julia",
   "version": "1.9.0"
  }
 },
 "nbformat": 4,
 "nbformat_minor": 5
}
