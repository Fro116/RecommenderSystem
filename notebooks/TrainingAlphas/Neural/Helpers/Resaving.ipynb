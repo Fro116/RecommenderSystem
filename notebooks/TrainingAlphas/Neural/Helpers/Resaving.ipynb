{
 "cells": [
  {
   "cell_type": "code",
   "execution_count": null,
   "id": "d3ef15a8-4209-4fdc-afb6-ebcbd5e79a5a",
   "metadata": {},
   "outputs": [],
   "source": [
    "import NBInclude: @nbinclude\n",
    "@nbinclude(\"Base.ipynb\");"
   ]
  },
  {
   "cell_type": "code",
   "execution_count": null,
   "id": "e28ca038-0062-4592-a7e8-07922ccb42b7",
   "metadata": {},
   "outputs": [],
   "source": [
    "outdir = \"NeuralExplicitAutoencoderUntuned\""
   ]
  },
  {
   "cell_type": "code",
   "execution_count": null,
   "id": "47611010-12c9-4d08-9536-5b18576be031",
   "metadata": {},
   "outputs": [],
   "source": [
    "params = read_params(outdir)"
   ]
  },
  {
   "cell_type": "code",
   "execution_count": null,
   "id": "136e0e2f-1993-4947-8cba-099ed285e953",
   "metadata": {
    "tags": []
   },
   "outputs": [],
   "source": [
    "hyp = params[\"hyp\"]"
   ]
  },
  {
   "cell_type": "code",
   "execution_count": null,
   "id": "55766b95-ddfc-4bf6-b24b-a7d637f355e9",
   "metadata": {},
   "outputs": [],
   "source": [
    "m = params[\"m\"] |> device"
   ]
  },
  {
   "cell_type": "code",
   "execution_count": null,
   "id": "6611dcfd-e693-4fe0-9231-39774b329239",
   "metadata": {},
   "outputs": [],
   "source": [
    "write_alpha(hyp, m, outdir)"
   ]
  }
 ],
 "metadata": {
  "kernelspec": {
   "display_name": "Julia 1.8.0-rc1",
   "language": "julia",
   "name": "julia-1.8"
  },
  "language_info": {
   "file_extension": ".jl",
   "mimetype": "application/julia",
   "name": "julia",
   "version": "1.8.0"
  }
 },
 "nbformat": 4,
 "nbformat_minor": 5
}
