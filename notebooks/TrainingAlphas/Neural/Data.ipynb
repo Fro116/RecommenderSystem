{
 "cells": [
  {
   "cell_type": "markdown",
   "id": "826b1aac-67d5-4dec-be8b-1e6c65b4d252",
   "metadata": {},
   "source": [
    "## Data Preprocessing\n",
    "* An epoch is an efficient representation of all the models inputs, outputs, residualization, and weights\n",
    "* We generate one epoch per split and memoize them"
   ]
  },
  {
   "cell_type": "code",
   "execution_count": null,
   "id": "c1c39d34-3212-4131-8e1d-68021044fc7b",
   "metadata": {},
   "outputs": [],
   "source": [
    "function one_hot_inputs(implicit, num_users)\n",
    "    convert.(Int32, collect(1:num_users))\n",
    "end;"
   ]
  },
  {
   "cell_type": "code",
   "execution_count": null,
   "id": "685714a9-2d8c-424f-a909-cbcf50218a6c",
   "metadata": {},
   "outputs": [],
   "source": [
    "function explicit_inputs(num_users, residual_alphas)\n",
    "    df = get_split(\"training\", false)\n",
    "    df = RatingsDataset(\n",
    "        df.user,\n",
    "        df.item,\n",
    "        df.rating .- read_alpha(residual_alphas, \"training\", false).rating,\n",
    "    )\n",
    "    sparse(filter_users(df, num_users))\n",
    "end;"
   ]
  },
  {
   "cell_type": "code",
   "execution_count": null,
   "id": "e83525d6-06d4-4b02-a9c3-147592a58e48",
   "metadata": {},
   "outputs": [],
   "source": [
    "function explicit_validity_inputs(num_users, residual_alphas)\n",
    "    df = get_split(\"training\", false)\n",
    "    df = RatingsDataset(df.user, df.item, fill(1, length(df.rating)))\n",
    "    sparse(filter_users(df, num_users))\n",
    "end;"
   ]
  },
  {
   "cell_type": "code",
   "execution_count": null,
   "id": "d6065f98-4065-4d0d-9800-6fd711b3f855",
   "metadata": {},
   "outputs": [],
   "source": [
    "function implicit_inputs(num_users)\n",
    "    df = get_split(\"training\", true)\n",
    "    sparse(filter_users(df, num_users))\n",
    "end;"
   ]
  },
  {
   "cell_type": "code",
   "execution_count": null,
   "id": "89954c90-398f-4fb6-9574-f3450d61a3b9",
   "metadata": {},
   "outputs": [],
   "source": [
    "function explicit_implicit_inputs(num_users, residual_alphas)\n",
    "    vcat(\n",
    "        explicit_inputs(num_users, residual_alphas),\n",
    "        explicit_validity_inputs(num_users, residual_alphas),\n",
    "        implicit_inputs(num_users),\n",
    "    )\n",
    "end;"
   ]
  },
  {
   "cell_type": "code",
   "execution_count": null,
   "id": "e3bc74cc-6f28-446d-b41b-16e23eaa00f7",
   "metadata": {},
   "outputs": [],
   "source": [
    "function get_epoch_allitem_inputs(\n",
    "    input_data,\n",
    "    implicit,\n",
    "    num_users,\n",
    "    input_alphas,\n",
    ")\n",
    "    if input_data == \"one_hot\"\n",
    "        return one_hot_inputs(implicit, num_users)\n",
    "    elseif input_data == \"implicit\"\n",
    "        return implicit_inputs(num_users)\n",
    "    elseif input_data == \"explicit\"\n",
    "        return explicit_inputs(num_users, input_alphas)\n",
    "    elseif input_data == \"explicit_implicit\"\n",
    "        return explicit_implicit_inputs(num_users, input_alphas)\n",
    "    else\n",
    "        @assert false\n",
    "    end\n",
    "end;"
   ]
  },
  {
   "cell_type": "code",
   "execution_count": null,
   "id": "63807d27-83cc-4d4d-9437-a3e3668ed340",
   "metadata": {},
   "outputs": [],
   "source": [
    "function get_epoch_item_inputs(\n",
    "    input_data,\n",
    "    implicit,\n",
    "    num_users,\n",
    "    input_alphas,\n",
    ")\n",
    "    df = filter_users(get_split(split, implicit), num_users)\n",
    "    X = (df.user, df.item)\n",
    "    U = get_epoch_allitem_inputs(input_data, implicit, num_users, input_alphas)\n",
    "    A = convert.(Float32, sparse(LinearAlgebra.I(num_items())))\n",
    "    (X, (U, A))\n",
    "end"
   ]
  },
  {
   "cell_type": "code",
   "execution_count": null,
   "id": "4c0cd51a-8bfe-498b-9185-c0ecaeb1a9f8",
   "metadata": {},
   "outputs": [],
   "source": [
    "@memoize LRU{Any,Any}(maxsize = 2) function get_epoch_inputs(\n",
    "    input_data,\n",
    "    output_data,\n",
    "    implicit,\n",
    "    num_users,\n",
    "    input_alphas,\n",
    ")\n",
    "    if output_data == \"allitems\"\n",
    "        return get_epoch_allitem_inputs(input_data, implicit, num_users, input_alphas)\n",
    "    elseif output_data == \"item\"\n",
    "        return get_epoch_item_inputs(input_data, implicit, num_users, input_alphas)\n",
    "    else\n",
    "        @assert false\n",
    "    end\n",
    "end\n",
    "\n",
    "@memoize LRU{Any,Any}(maxsize = 2) function get_epoch_outputs(split, output_data, implicit, num_users)\n",
    "    df = filter_users(get_split(split, implicit), num_users)\n",
    "    if output_data == \"allitems\"\n",
    "        return sparse(df)\n",
    "    elseif output_data == \"item\"\n",
    "        return df.rating\n",
    "    else\n",
    "        @assert false\n",
    "    end\n",
    "end\n",
    "\n",
    "@memoize LRU{Any,Any}(maxsize = 2) function get_epoch_residuals(\n",
    "    split,\n",
    "    output_data,\n",
    "    residual_alphas,\n",
    "    implicit,\n",
    "    num_users,\n",
    ")\n",
    "    df = filter_users(read_alpha(residual_alphas, split, implicit), num_users)\n",
    "    if output_data == \"allitems\"\n",
    "        return sparse(df)\n",
    "    elseif output_data == \"item\"\n",
    "        return df.rating\n",
    "    else\n",
    "        @assert false\n",
    "    end\n",
    "end\n",
    "\n",
    "@memoize LRU{Any,Any}(maxsize = 2) function get_epoch_weights(\n",
    "    split,\n",
    "    output_data,\n",
    "    user_weight_decay,\n",
    "    item_weight_decay,\n",
    "    implicit,\n",
    "    num_users,\n",
    ")\n",
    "    if output_data == \"allitems\"\n",
    "        activation = sparse\n",
    "        per_rating = false\n",
    "    elseif output_data == \"item\"\n",
    "        activation = x -> x.rating\n",
    "        per_rating = true\n",
    "    else\n",
    "        @assert false\n",
    "    end\n",
    "    \n",
    "    if split == \"training\"\n",
    "        weights =\n",
    "            powerdecay(get_counts(split, implicit; per_rating = per_rating), user_weight_decay) .*\n",
    "            powerdecay(get_counts(split, implicit; per_rating = per_rating, by_item = true), item_weight_decay)\n",
    "    else\n",
    "        weights = powerdecay(get_counts(split, implicit; per_rating = per_rating), weighting_scheme(\"inverse\"))\n",
    "    end\n",
    "\n",
    "    df = get_split(split, implicit)\n",
    "    df = filter_users(RatingsDataset(df.user, df.item, weights), num_users)\n",
    "    activation(df)\n",
    "end;"
   ]
  },
  {
   "cell_type": "code",
   "execution_count": null,
   "id": "272ebd7c-a236-4a22-b0af-17759579f995",
   "metadata": {},
   "outputs": [],
   "source": [
    "# returns (X, Y, Z, W) = (inputs, outputs, residualization alpha, weights)\n",
    "function get_epoch(split)\n",
    "    X = get_epoch_inputs(G.input_data, G.output_data, G.implicit, G.num_users, G.input_alphas)\n",
    "    Y = get_epoch_outputs(split, G.output_data, G.implicit, G.num_users)\n",
    "    Z = get_epoch_residuals(split, G.output_data, G.residual_alphas, G.implicit, G.num_users)\n",
    "    W = get_epoch_weights(\n",
    "        split,\n",
    "        G.output_data,\n",
    "        G.user_weight_decay,\n",
    "        G.item_weight_decay,\n",
    "        G.implicit,\n",
    "        G.num_users,\n",
    "    )\n",
    "    X, Y, Z, W\n",
    "end;"
   ]
  }
 ],
 "metadata": {
  "kernelspec": {
   "display_name": "Julia 1.8.0-rc1",
   "language": "julia",
   "name": "julia-1.8"
  },
  "language_info": {
   "file_extension": ".jl",
   "mimetype": "application/julia",
   "name": "julia",
   "version": "1.8.0"
  }
 },
 "nbformat": 4,
 "nbformat_minor": 5
}
