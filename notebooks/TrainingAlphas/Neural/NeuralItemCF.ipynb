{
 "cells": [
  {
   "cell_type": "code",
   "execution_count": 1,
   "id": "d3ef15a8-4209-4fdc-afb6-ebcbd5e79a5a",
   "metadata": {},
   "outputs": [],
   "source": [
    "import NBInclude: @nbinclude\n",
    "@nbinclude(\"NeuralNetworkBase.ipynb\");"
   ]
  },
  {
   "cell_type": "code",
   "execution_count": 2,
   "id": "136e0e2f-1993-4947-8cba-099ed285e953",
   "metadata": {
    "tags": []
   },
   "outputs": [],
   "source": [
    "# train_alpha(\n",
    "#   create_hyperparams(\"item_based_collaborative_filtering\", false, [\"NeuralExplicitUserItemBiases\"]),\n",
    "#     \"NeuralExplicitItemCF\",\n",
    "# )"
   ]
  },
  {
   "cell_type": "code",
   "execution_count": null,
   "id": "1c2a2c4c-f12e-498f-8fcf-d543dcd33793",
   "metadata": {},
   "outputs": [
    {
     "name": "stderr",
     "output_type": "stream",
     "text": [
      "\u001b[32mProgress: 100%|███████████████████████████| Time: 0:00:00 (55.67 ns/it)\u001b[39m\n",
      "\u001b[32mProgress: 100%|███████████████████████████| Time: 0:00:00 (10.97 ns/it)\u001b[39m\n",
      "\u001b[32mProgress: 100%|█████████████████████████████████████████| Time: 0:25:45\u001b[39mm\n",
      "\u001b[38;5;6m\u001b[1m[ \u001b[22m\u001b[39m\u001b[38;5;6m\u001b[1mInfo: \u001b[22m\u001b[39m20220621 23:31:41 losses: 1.2418529 1.4798043\n",
      "\u001b[32mProgress: 100%|█████████████████████████████████████████| Time: 0:16:26\u001b[39m\n",
      "\u001b[38;5;6m\u001b[1m[ \u001b[22m\u001b[39m\u001b[38;5;6m\u001b[1mInfo: \u001b[22m\u001b[39m20220621 23:54:55 losses: 1.2107397 1.4724134\n",
      "\u001b[32mProgress: 100%|█████████████████████████████████████████| Time: 0:16:29\u001b[39m\n",
      "\u001b[38;5;6m\u001b[1m[ \u001b[22m\u001b[39m\u001b[38;5;6m\u001b[1mInfo: \u001b[22m\u001b[39m20220622 00:18:16 losses: 1.194127 1.4683574\n",
      "\u001b[32mProgress:  15%|██████▎                                  |  ETA: 0:14:04\u001b[39m"
     ]
    }
   ],
   "source": [
    "hyp = create_hyperparams(\n",
    "    \"item_based_collaborative_filtering\",\n",
    "    false,\n",
    "    [\"ExplicitUserItemBiases\"],\n",
    ")\n",
    "m, _, _ = train_model(hyp; epochs_per_checkpoint = 1, patience = 0, verbose = true)"
   ]
  },
  {
   "cell_type": "code",
   "execution_count": null,
   "id": "c06ae4b1-1658-4ee9-be5c-b521d10deeae",
   "metadata": {},
   "outputs": [],
   "source": [
    "hyp = create_hyperparams(\n",
    "    \"item_based_collaborative_filtering\",\n",
    "    true,\n",
    "    [\"ExplicitUserItemBiases\"],\n",
    ")\n",
    "m, _, _ = train_model(hyp; epochs_per_checkpoint = 1, patience = 0, verbose = true)"
   ]
  }
 ],
 "metadata": {
  "kernelspec": {
   "display_name": "Julia 1.8.0-rc1",
   "language": "julia",
   "name": "julia-1.8"
  },
  "language_info": {
   "file_extension": ".jl",
   "mimetype": "application/julia",
   "name": "julia",
   "version": "1.8.0"
  }
 },
 "nbformat": 4,
 "nbformat_minor": 5
}
