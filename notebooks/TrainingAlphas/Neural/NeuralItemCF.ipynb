{
 "cells": [
  {
   "cell_type": "code",
   "execution_count": null,
   "id": "d3ef15a8-4209-4fdc-afb6-ebcbd5e79a5a",
   "metadata": {},
   "outputs": [],
   "source": [
    "import NBInclude: @nbinclude\n",
    "@nbinclude(\"NeuralNetworkBase.ipynb\");"
   ]
  },
  {
   "cell_type": "code",
   "execution_count": null,
   "id": "136e0e2f-1993-4947-8cba-099ed285e953",
   "metadata": {
    "tags": []
   },
   "outputs": [],
   "source": [
    "train_alpha(\n",
    "  create_hyperparams(\"item_based_collaborative_filtering\", true, [\"NeuralImplicitUserItemBiases\"]),\n",
    "    \"NeuralImplicitItemCFUntuned\";\n",
    "    tune_hyperparams = false\n",
    ")"
   ]
  },
  {
   "cell_type": "code",
   "execution_count": null,
   "id": "94cb3798-38c2-4caf-ae86-110b391b9e6d",
   "metadata": {},
   "outputs": [],
   "source": [
    "train_alpha(\n",
    "  create_hyperparams(\"item_based_collaborative_filtering\", false, [\"ExplicitUserItemBiases\"]),\n",
    "    \"NeuralExplicitItemCFUntuned\";\n",
    "    tune_hyperparams = false\n",
    ")"
   ]
  }
 ],
 "metadata": {
  "kernelspec": {
   "display_name": "Julia 1.8.0-rc1",
   "language": "julia",
   "name": "julia-1.8"
  },
  "language_info": {
   "file_extension": ".jl",
   "mimetype": "application/julia",
   "name": "julia",
   "version": "1.8.0"
  }
 },
 "nbformat": 4,
 "nbformat_minor": 5
}
