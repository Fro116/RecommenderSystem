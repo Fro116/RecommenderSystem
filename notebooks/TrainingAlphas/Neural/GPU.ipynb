{
 "cells": [
  {
   "cell_type": "markdown",
   "id": "a4988ea0-8a00-41f1-857f-6064ef3806a7",
   "metadata": {},
   "source": [
    "## GPU\n",
    "* Support both gpu and cpu training"
   ]
  },
  {
   "cell_type": "code",
   "execution_count": null,
   "id": "a492e87a-6b5f-48c0-a210-5593cfa9c77d",
   "metadata": {},
   "outputs": [],
   "source": [
    "using SparseArrays"
   ]
  },
  {
   "cell_type": "code",
   "execution_count": null,
   "id": "175504ab-e80d-417d-b2c6-eda29f61232f",
   "metadata": {},
   "outputs": [],
   "source": [
    "function device(x)\n",
    "    gpu(x)\n",
    "end\n",
    "\n",
    "# efficiently convert a sparse cpu matrix into a dense CUDA array\n",
    "function device(x::AbstractSparseArray)\n",
    "    CUDA.functional() ? CUDA.CuArray(gpu(x)) : collect(x)\n",
    "end\n",
    "\n",
    "if !CUDA.functional()\n",
    "    LinearAlgebra.BLAS.set_num_threads(Threads.nthreads())\n",
    "end;\n",
    "\n",
    "# some models have custom semantics where non-trainable parameters are on the gpu\n",
    "# we handle this by overriding the move to gpu semantics\n",
    "function device(m::Chain)\n",
    "    Chain([device(m[i]) for i in 1:length(m)])\n",
    "end\n",
    "\n",
    "function Flux.cpu(m::Chain)\n",
    "    Chain([cpu(m[i]) for i in 1:length(m)])\n",
    "end;"
   ]
  }
 ],
 "metadata": {
  "kernelspec": {
   "display_name": "Julia 1.8.0-rc1",
   "language": "julia",
   "name": "julia-1.8"
  },
  "language_info": {
   "file_extension": ".jl",
   "mimetype": "application/julia",
   "name": "julia",
   "version": "1.8.0"
  }
 },
 "nbformat": 4,
 "nbformat_minor": 5
}
