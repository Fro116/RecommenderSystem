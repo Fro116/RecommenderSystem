{
 "cells": [
  {
   "cell_type": "code",
   "execution_count": 1,
   "id": "d3ef15a8-4209-4fdc-afb6-ebcbd5e79a5a",
   "metadata": {},
   "outputs": [],
   "source": [
    "import NBInclude: @nbinclude\n",
    "@nbinclude(\"NeuralNetworkBase.ipynb\");"
   ]
  },
  {
   "cell_type": "code",
   "execution_count": 2,
   "id": "c86f0171-093c-443d-8f23-239750a2c757",
   "metadata": {},
   "outputs": [],
   "source": [
    "# train_alpha(\n",
    "#     create_hyperparams(\n",
    "#         \"double_embedding\",\n",
    "#         false,\n",
    "#         [\"ExplicitUserItemBiases\"],\n",
    "#         [\"ExplicitUserItemBiases\"],\n",
    "#     ),\n",
    "#     \"NeuralExplicitDoubleEmbedding\";\n",
    "#     tune_hyperparams=false\n",
    "# )"
   ]
  },
  {
   "cell_type": "code",
   "execution_count": 3,
   "id": "a27df9df-ca21-451d-880f-857d115d412f",
   "metadata": {
    "tags": []
   },
   "outputs": [
    {
     "data": {
      "text/plain": [
       "Hyperparameters:\n",
       "implicit              => false\n",
       "input_data            => explicit_implicit_tuple\n",
       "input_alphas          => [\"ExplicitUserItemBiases\"]\n",
       "model                 => double_embedding\n",
       "output_data           => item\n",
       "batch_size            => 1024\n",
       "user_sampling_scheme  => 0.0\n",
       "learning_rate         => 0.001\n",
       "optimizer             => ADAMW\n",
       "seed                  => 20220524\n",
       "num_users             => 10000\n",
       "item_weight_decay     => 0.0\n",
       "regularization_params => Float32[1.0f-5, 0.5]\n",
       "residual_alphas       => [\"ExplicitUserItemBiases\"]\n",
       "user_weight_decay     => 0.0\n"
      ]
     },
     "execution_count": 3,
     "metadata": {},
     "output_type": "execute_result"
    }
   ],
   "source": [
    "hyp = create_hyperparams(\n",
    "    \"double_embedding\",\n",
    "    false,\n",
    "    [\"ExplicitUserItemBiases\"], #, \"NeuralExplicitAutoencoder\"],\n",
    "    [\"ExplicitUserItemBiases\"], #, \"NeuralExplicitAutoencoder\"],\n",
    ")\n",
    "hyp = @set hyp.num_users = 10000"
   ]
  },
  {
   "cell_type": "code",
   "execution_count": null,
   "id": "b4b00892-2df9-4d4b-a101-e6235d7d5b62",
   "metadata": {
    "tags": []
   },
   "outputs": [
    {
     "name": "stderr",
     "output_type": "stream",
     "text": [
      "\u001b[38;5;6m\u001b[1m[ \u001b[22m\u001b[39m\u001b[38;5;6m\u001b[1mInfo: \u001b[22m\u001b[39m20220726 22:46:35 Training model...\n",
      "\u001b[32mProgress: 100%|███████████████████████████| Time: 0:00:00 ( 0.39 ms/it)\u001b[39m\n",
      "\u001b[32mProgress: 100%|███████████████████████████| Time: 0:00:00 (10.95 ns/it)\u001b[39m\n",
      "\u001b[32mProgress: 100%|█████████████████████████████████████████| Time: 0:00:58\u001b[39m\n",
      "\u001b[32mProgress: 100%|█████████████████████████████████████████| Time: 0:00:03\u001b[39m\n",
      "\u001b[32mProgress: 100%|█████████████████████████████████████████| Time: 0:00:03\u001b[39m\n",
      "\u001b[38;5;6m\u001b[1m[ \u001b[22m\u001b[39m\u001b[38;5;6m\u001b[1mInfo: \u001b[22m\u001b[39m20220726 22:48:34 losses: 1.6730975\n",
      "\u001b[32mProgress: 100%|█████████████████████████████████████████| Time: 0:00:12\u001b[39m\n",
      "\u001b[32mProgress: 100%|█████████████████████████████████████████| Time: 0:00:01\u001b[39m\n",
      "\u001b[32mProgress: 100%|█████████████████████████████████████████| Time: 0:00:01\u001b[39m\n",
      "\u001b[38;5;6m\u001b[1m[ \u001b[22m\u001b[39m\u001b[38;5;6m\u001b[1mInfo: \u001b[22m\u001b[39m20220726 22:48:50 losses: 1.647628\n",
      "\u001b[32mProgress: 100%|█████████████████████████████████████████| Time: 0:00:12\u001b[39m\n",
      "\u001b[32mProgress: 100%|█████████████████████████████████████████| Time: 0:00:01\u001b[39m\n",
      "\u001b[32mProgress: 100%|█████████████████████████████████████████| Time: 0:00:01\u001b[39m\n",
      "\u001b[38;5;6m\u001b[1m[ \u001b[22m\u001b[39m\u001b[38;5;6m\u001b[1mInfo: \u001b[22m\u001b[39m20220726 22:49:05 losses: 1.6390516\n",
      "\u001b[32mProgress: 100%|█████████████████████████████████████████| Time: 0:00:12\u001b[39m\n",
      "\u001b[32mProgress: 100%|█████████████████████████████████████████| Time: 0:00:01\u001b[39m\n",
      "\u001b[32mProgress: 100%|█████████████████████████████████████████| Time: 0:00:01\u001b[39m\n",
      "\u001b[38;5;6m\u001b[1m[ \u001b[22m\u001b[39m\u001b[38;5;6m\u001b[1mInfo: \u001b[22m\u001b[39m20220726 22:49:20 losses: 1.6180187\n",
      "\u001b[32mProgress: 100%|█████████████████████████████████████████| Time: 0:00:12\u001b[39m\n",
      "\u001b[32mProgress: 100%|█████████████████████████████████████████| Time: 0:00:01\u001b[39m\n",
      "\u001b[32mProgress: 100%|█████████████████████████████████████████| Time: 0:00:01\u001b[39m\n",
      "\u001b[38;5;6m\u001b[1m[ \u001b[22m\u001b[39m\u001b[38;5;6m\u001b[1mInfo: \u001b[22m\u001b[39m20220726 22:49:36 losses: 1.6178795\n",
      "\u001b[32mProgress: 100%|█████████████████████████████████████████| Time: 0:00:12\u001b[39m\n",
      "\u001b[32mProgress: 100%|█████████████████████████████████████████| Time: 0:00:01\u001b[39m\n",
      "\u001b[32mProgress: 100%|█████████████████████████████████████████| Time: 0:00:01\u001b[39m\n",
      "\u001b[38;5;6m\u001b[1m[ \u001b[22m\u001b[39m\u001b[38;5;6m\u001b[1mInfo: \u001b[22m\u001b[39m20220726 22:49:51 losses: 1.6138089\n",
      "\u001b[32mProgress: 100%|█████████████████████████████████████████| Time: 0:00:12\u001b[39m\n",
      "\u001b[32mProgress: 100%|█████████████████████████████████████████| Time: 0:00:01\u001b[39m\n",
      "\u001b[32mProgress: 100%|█████████████████████████████████████████| Time: 0:00:01\u001b[39m\n",
      "\u001b[38;5;6m\u001b[1m[ \u001b[22m\u001b[39m\u001b[38;5;6m\u001b[1mInfo: \u001b[22m\u001b[39m20220726 22:50:07 losses: 1.6053035\n",
      "\u001b[32mProgress: 100%|█████████████████████████████████████████| Time: 0:00:12\u001b[39m\n",
      "\u001b[32mProgress: 100%|█████████████████████████████████████████| Time: 0:00:01\u001b[39m\n",
      "\u001b[32mProgress: 100%|█████████████████████████████████████████| Time: 0:00:01\u001b[39m\n",
      "\u001b[38;5;6m\u001b[1m[ \u001b[22m\u001b[39m\u001b[38;5;6m\u001b[1mInfo: \u001b[22m\u001b[39m20220726 22:50:22 losses: 1.6112872\n",
      "\u001b[32mProgress: 100%|█████████████████████████████████████████| Time: 0:00:13\u001b[39m\n",
      "\u001b[32mProgress: 100%|█████████████████████████████████████████| Time: 0:00:01\u001b[39m\n",
      "\u001b[32mProgress: 100%|█████████████████████████████████████████| Time: 0:00:01\u001b[39m\n",
      "\u001b[38;5;6m\u001b[1m[ \u001b[22m\u001b[39m\u001b[38;5;6m\u001b[1mInfo: \u001b[22m\u001b[39m20220726 22:50:37 losses: 1.6082293\n",
      "\u001b[32mProgress: 100%|█████████████████████████████████████████| Time: 0:00:13\u001b[39m\n",
      "\u001b[32mProgress: 100%|█████████████████████████████████████████| Time: 0:00:01\u001b[39m\n",
      "\u001b[32mProgress: 100%|█████████████████████████████████████████| Time: 0:00:01\u001b[39m\n",
      "\u001b[38;5;6m\u001b[1m[ \u001b[22m\u001b[39m\u001b[38;5;6m\u001b[1mInfo: \u001b[22m\u001b[39m20220726 22:50:53 losses: 1.6090592\n",
      "\u001b[32mProgress: 100%|█████████████████████████████████████████| Time: 0:00:13\u001b[39m\n",
      "\u001b[32mProgress: 100%|█████████████████████████████████████████| Time: 0:00:01\u001b[39m\n",
      "\u001b[32mProgress: 100%|█████████████████████████████████████████| Time: 0:00:01\u001b[39m\n",
      "\u001b[38;5;6m\u001b[1m[ \u001b[22m\u001b[39m\u001b[38;5;6m\u001b[1mInfo: \u001b[22m\u001b[39m20220726 22:51:08 losses: 1.6159219\n",
      "\u001b[32mProgress: 100%|█████████████████████████████████████████| Time: 0:00:13\u001b[39m\n",
      "\u001b[32mProgress: 100%|█████████████████████████████████████████| Time: 0:00:01\u001b[39m\n",
      "\u001b[32mProgress: 100%|█████████████████████████████████████████| Time: 0:00:01\u001b[39m\n",
      "\u001b[38;5;6m\u001b[1m[ \u001b[22m\u001b[39m\u001b[38;5;6m\u001b[1mInfo: \u001b[22m\u001b[39m20220726 22:51:24 losses: 1.6062461\n",
      "\u001b[32mProgress: 100%|█████████████████████████████████████████| Time: 0:00:13\u001b[39m\n",
      "\u001b[32mProgress: 100%|█████████████████████████████████████████| Time: 0:00:01\u001b[39m\n",
      "\u001b[32mProgress: 100%|█████████████████████████████████████████| Time: 0:00:01\u001b[39m\n",
      "\u001b[38;5;6m\u001b[1m[ \u001b[22m\u001b[39m\u001b[38;5;6m\u001b[1mInfo: \u001b[22m\u001b[39m20220726 22:51:40 losses: 1.5994513\n",
      "\u001b[32mProgress: 100%|█████████████████████████████████████████| Time: 0:00:13\u001b[39m\n",
      "\u001b[32mProgress: 100%|█████████████████████████████████████████| Time: 0:00:01\u001b[39m\n",
      "\u001b[32mProgress: 100%|█████████████████████████████████████████| Time: 0:00:01\u001b[39m\n",
      "\u001b[38;5;6m\u001b[1m[ \u001b[22m\u001b[39m\u001b[38;5;6m\u001b[1mInfo: \u001b[22m\u001b[39m20220726 22:51:55 losses: 1.6081791\n",
      "\u001b[32mProgress: 100%|█████████████████████████████████████████| Time: 0:00:13\u001b[39m\n",
      "\u001b[32mProgress: 100%|█████████████████████████████████████████| Time: 0:00:01\u001b[39m\n",
      "\u001b[32mProgress: 100%|█████████████████████████████████████████| Time: 0:00:01\u001b[39m\n",
      "\u001b[38;5;6m\u001b[1m[ \u001b[22m\u001b[39m\u001b[38;5;6m\u001b[1mInfo: \u001b[22m\u001b[39m20220726 22:52:11 losses: 1.617238\n",
      "\u001b[32mProgress: 100%|█████████████████████████████████████████| Time: 0:00:13\u001b[39m\n",
      "\u001b[32mProgress: 100%|█████████████████████████████████████████| Time: 0:00:01\u001b[39m\n",
      "\u001b[32mProgress: 100%|█████████████████████████████████████████| Time: 0:00:01\u001b[39m\n",
      "\u001b[38;5;6m\u001b[1m[ \u001b[22m\u001b[39m\u001b[38;5;6m\u001b[1mInfo: \u001b[22m\u001b[39m20220726 22:52:26 losses: 1.5983688\n",
      "\u001b[32mProgress: 100%|█████████████████████████████████████████| Time: 0:00:13\u001b[39m\n",
      "\u001b[32mProgress: 100%|█████████████████████████████████████████| Time: 0:00:01\u001b[39m\n",
      "\u001b[32mProgress: 100%|█████████████████████████████████████████| Time: 0:00:01\u001b[39m\n",
      "\u001b[38;5;6m\u001b[1m[ \u001b[22m\u001b[39m\u001b[38;5;6m\u001b[1mInfo: \u001b[22m\u001b[39m20220726 22:52:42 losses: 1.6013864\n",
      "\u001b[32mProgress: 100%|█████████████████████████████████████████| Time: 0:00:13\u001b[39m\n",
      "\u001b[32mProgress: 100%|█████████████████████████████████████████| Time: 0:00:01\u001b[39m\n",
      "\u001b[32mProgress: 100%|█████████████████████████████████████████| Time: 0:00:01\u001b[39m\n",
      "\u001b[38;5;6m\u001b[1m[ \u001b[22m\u001b[39m\u001b[38;5;6m\u001b[1mInfo: \u001b[22m\u001b[39m20220726 22:52:58 losses: 1.607928\n",
      "\u001b[32mProgress: 100%|█████████████████████████████████████████| Time: 0:00:13\u001b[39m\n",
      "\u001b[32mProgress: 100%|█████████████████████████████████████████| Time: 0:00:01\u001b[39m\n",
      "\u001b[32mProgress: 100%|█████████████████████████████████████████| Time: 0:00:01\u001b[39m\n",
      "\u001b[38;5;6m\u001b[1m[ \u001b[22m\u001b[39m\u001b[38;5;6m\u001b[1mInfo: \u001b[22m\u001b[39m20220726 22:53:13 losses: 1.6087646\n",
      "\u001b[32mProgress: 100%|█████████████████████████████████████████| Time: 0:00:13\u001b[39m\n",
      "\u001b[32mProgress: 100%|█████████████████████████████████████████| Time: 0:00:01\u001b[39m\n",
      "\u001b[32mProgress: 100%|█████████████████████████████████████████| Time: 0:00:01\u001b[39m\n",
      "\u001b[38;5;6m\u001b[1m[ \u001b[22m\u001b[39m\u001b[38;5;6m\u001b[1mInfo: \u001b[22m\u001b[39m20220726 22:53:29 losses: 1.6204548\n",
      "\u001b[32mProgress: 100%|█████████████████████████████████████████| Time: 0:00:13\u001b[39m\n",
      "\u001b[32mProgress: 100%|█████████████████████████████████████████| Time: 0:00:01\u001b[39m\n",
      "\u001b[32mProgress: 100%|█████████████████████████████████████████| Time: 0:00:01\u001b[39m\n",
      "\u001b[38;5;6m\u001b[1m[ \u001b[22m\u001b[39m\u001b[38;5;6m\u001b[1mInfo: \u001b[22m\u001b[39m20220726 22:53:45 losses: 1.6100819\n",
      "\u001b[32mProgress: 100%|█████████████████████████████████████████| Time: 0:00:13\u001b[39m\n",
      "\u001b[32mProgress: 100%|█████████████████████████████████████████| Time: 0:00:01\u001b[39m\n",
      "\u001b[32mProgress: 100%|█████████████████████████████████████████| Time: 0:00:01\u001b[39m\n",
      "\u001b[38;5;6m\u001b[1m[ \u001b[22m\u001b[39m\u001b[38;5;6m\u001b[1mInfo: \u001b[22m\u001b[39m20220726 22:54:00 losses: 1.6099267\n",
      "\u001b[32mProgress: 100%|█████████████████████████████████████████| Time: 0:00:13\u001b[39m\n",
      "\u001b[32mProgress: 100%|█████████████████████████████████████████| Time: 0:00:01\u001b[39m\n",
      "\u001b[32mProgress: 100%|█████████████████████████████████████████| Time: 0:00:01\u001b[39m\n",
      "\u001b[38;5;6m\u001b[1m[ \u001b[22m\u001b[39m\u001b[38;5;6m\u001b[1mInfo: \u001b[22m\u001b[39m20220726 22:54:16 losses: 1.6156619\n",
      "\u001b[32mProgress: 100%|█████████████████████████████████████████| Time: 0:00:13\u001b[39m\n",
      "\u001b[32mProgress: 100%|█████████████████████████████████████████| Time: 0:00:01\u001b[39m\n",
      "\u001b[32mProgress: 100%|█████████████████████████████████████████| Time: 0:00:01\u001b[39m\n",
      "\u001b[38;5;6m\u001b[1m[ \u001b[22m\u001b[39m\u001b[38;5;6m\u001b[1mInfo: \u001b[22m\u001b[39m20220726 22:54:32 losses: 1.6124128\n",
      "\u001b[32mProgress: 100%|█████████████████████████████████████████| Time: 0:00:13\u001b[39m\n",
      "\u001b[32mProgress: 100%|█████████████████████████████████████████| Time: 0:00:01\u001b[39m\n",
      "\u001b[32mProgress: 100%|█████████████████████████████████████████| Time: 0:00:01\u001b[39m\n",
      "\u001b[38;5;6m\u001b[1m[ \u001b[22m\u001b[39m\u001b[38;5;6m\u001b[1mInfo: \u001b[22m\u001b[39m20220726 22:54:47 losses: 1.6088886\n",
      "\u001b[32mProgress: 100%|█████████████████████████████████████████| Time: 0:00:13\u001b[39m\n",
      "\u001b[32mProgress: 100%|█████████████████████████████████████████| Time: 0:00:01\u001b[39m\n",
      "\u001b[32mProgress: 100%|█████████████████████████████████████████| Time: 0:00:01\u001b[39m\n",
      "\u001b[38;5;6m\u001b[1m[ \u001b[22m\u001b[39m\u001b[38;5;6m\u001b[1mInfo: \u001b[22m\u001b[39m20220726 22:55:03 losses: 1.6143808\n",
      "\u001b[32mProgress: 100%|█████████████████████████████████████████| Time: 0:00:13\u001b[39m\n",
      "\u001b[32mProgress: 100%|█████████████████████████████████████████| Time: 0:00:01\u001b[39m\n",
      "\u001b[32mProgress: 100%|█████████████████████████████████████████| Time: 0:00:01\u001b[39m\n",
      "\u001b[38;5;6m\u001b[1m[ \u001b[22m\u001b[39m\u001b[38;5;6m\u001b[1mInfo: \u001b[22m\u001b[39m20220726 22:55:19 losses: 1.6091973\n",
      "\u001b[38;5;6m\u001b[1m[ \u001b[22m\u001b[39m\u001b[38;5;6m\u001b[1mInfo: \u001b[22m\u001b[39m20220726 22:55:19 loss: 1.5983688 learning_rate: 0.001\n",
      "\u001b[38;5;6m\u001b[1m[ \u001b[22m\u001b[39m\u001b[38;5;6m\u001b[1mInfo: \u001b[22m\u001b[39m20220726 22:55:19 Trained model loss: 1.5983688\n",
      "\u001b[38;5;6m\u001b[1m[ \u001b[22m\u001b[39m\u001b[38;5;6m\u001b[1mInfo: \u001b[22m\u001b[39m20220726 22:55:19 Writing alpha...\n",
      "\u001b[32mProgress:   5%|██▏                                      |  ETA: 1:35:15\u001b[39mm"
     ]
    }
   ],
   "source": [
    "train_alpha(\n",
    "    hyp,\n",
    "    \"NeuralExplicitDoubleEmbedding\";\n",
    "    tune_hyperparams=false\n",
    ")"
   ]
  },
  {
   "cell_type": "code",
   "execution_count": null,
   "id": "fefd5bae-529b-4a7f-b925-e6460ab23ca0",
   "metadata": {},
   "outputs": [],
   "source": [
    "# G = hyp"
   ]
  },
  {
   "cell_type": "code",
   "execution_count": null,
   "id": "03389bee-1ebd-4eda-968b-e22b95c05cbc",
   "metadata": {
    "tags": []
   },
   "outputs": [],
   "source": [
    "# epoch = get_epoch(\"training\")"
   ]
  },
  {
   "cell_type": "code",
   "execution_count": null,
   "id": "ccd84237-dbad-4ccc-a870-d17e3813c4e3",
   "metadata": {},
   "outputs": [],
   "source": [
    "# @time get_batch(epoch, 1, G.batch_size, true)"
   ]
  },
  {
   "cell_type": "code",
   "execution_count": null,
   "id": "5f85d79c-4c4f-4fb6-bd3a-c6ed8f769dd8",
   "metadata": {},
   "outputs": [],
   "source": [
    "# sum((epoch[2] - epoch[3]) .^ 2 .* epoch[4]) / sum(epoch[4])"
   ]
  },
  {
   "cell_type": "code",
   "execution_count": null,
   "id": "2142d17b-9c9b-4834-8868-a9b9d07b32c6",
   "metadata": {},
   "outputs": [],
   "source": [
    "# 1.3829979f0"
   ]
  },
  {
   "cell_type": "markdown",
   "id": "cc009eb0-3be3-471c-8bb9-d4bea118d6e7",
   "metadata": {},
   "source": [
    "# genre and tag embedding"
   ]
  },
  {
   "cell_type": "code",
   "execution_count": null,
   "id": "d0a02783-a6fd-4172-aa1b-161fc443fe7c",
   "metadata": {},
   "outputs": [],
   "source": [
    "# 1.70 is max for 10000\n",
    "# 1.6655456f0 is max for 20000\n",
    "# 1.5844376 is max for 40000\n",
    "# 1.567697 is max for 80000"
   ]
  },
  {
   "cell_type": "code",
   "execution_count": null,
   "id": "5aa7a673-4480-4e4b-8444-a3aeabbd7b50",
   "metadata": {},
   "outputs": [],
   "source": [
    "# with metadata\n",
    "# 10000 | 1.643"
   ]
  },
  {
   "cell_type": "code",
   "execution_count": null,
   "id": "5e0af82f-4e63-4a1c-b9a3-d72cee3db68d",
   "metadata": {},
   "outputs": [],
   "source": [
    "# with metadata + genre\n",
    "# 10000 | 1.6180371"
   ]
  },
  {
   "cell_type": "code",
   "execution_count": null,
   "id": "1ae5712b-b4af-4e7a-acd5-8b71c00d9cd8",
   "metadata": {},
   "outputs": [],
   "source": [
    "# with metadata + genre + tag\n",
    "# 10000 | 1.6133705"
   ]
  },
  {
   "cell_type": "code",
   "execution_count": null,
   "id": "fc85a1ee-dc74-4356-8bf6-4932a1e51bb1",
   "metadata": {},
   "outputs": [],
   "source": [
    "# with metadata + genre + tag + text\n",
    "# 10000 | 1.6071879"
   ]
  },
  {
   "cell_type": "code",
   "execution_count": null,
   "id": "047980a3-1719-49f5-a615-d6371a5ccab6",
   "metadata": {},
   "outputs": [],
   "source": [
    "# with metadata + genre + tag + text + shared embeddings\n",
    "# 10000 | 1.5983688"
   ]
  },
  {
   "cell_type": "code",
   "execution_count": null,
   "id": "1eeb99a7-74f0-497f-a17b-444b6732a9de",
   "metadata": {},
   "outputs": [],
   "source": [
    "# with full dataset is <1.48 (wasn't able to train to completion)"
   ]
  }
 ],
 "metadata": {
  "kernelspec": {
   "display_name": "Julia 1.8.0-rc1",
   "language": "julia",
   "name": "julia-1.8"
  },
  "language_info": {
   "file_extension": ".jl",
   "mimetype": "application/julia",
   "name": "julia",
   "version": "1.8.0"
  }
 },
 "nbformat": 4,
 "nbformat_minor": 5
}
