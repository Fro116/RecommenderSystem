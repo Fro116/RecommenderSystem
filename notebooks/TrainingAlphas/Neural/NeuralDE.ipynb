{
 "cells": [
  {
   "cell_type": "code",
   "execution_count": 1,
   "id": "d3ef15a8-4209-4fdc-afb6-ebcbd5e79a5a",
   "metadata": {},
   "outputs": [],
   "source": [
    "import NBInclude: @nbinclude\n",
    "@nbinclude(\"NeuralNetworkBase.ipynb\");"
   ]
  },
  {
   "cell_type": "code",
   "execution_count": 2,
   "id": "c86f0171-093c-443d-8f23-239750a2c757",
   "metadata": {},
   "outputs": [],
   "source": [
    "# train_alpha(\n",
    "#     create_hyperparams(\n",
    "#         \"double_embedding\",\n",
    "#         false,\n",
    "#         [\"ExplicitUserItemBiases\"],\n",
    "#         [\"ExplicitUserItemBiases\"],\n",
    "#     ),\n",
    "#     \"NeuralExplicitDoubleEmbedding\";\n",
    "#     tune_hyperparams=false\n",
    "# )"
   ]
  },
  {
   "cell_type": "code",
   "execution_count": 3,
   "id": "a27df9df-ca21-451d-880f-857d115d412f",
   "metadata": {
    "tags": []
   },
   "outputs": [
    {
     "data": {
      "text/plain": [
       "Hyperparameters:\n",
       "implicit              => false\n",
       "input_data            => explicit_implicit_tuple\n",
       "input_alphas          => [\"ExplicitUserItemBiases\"]\n",
       "model                 => double_embedding\n",
       "output_data           => item\n",
       "batch_size            => 1024\n",
       "user_sampling_scheme  => 0.0\n",
       "learning_rate         => 0.001\n",
       "optimizer             => ADAMW\n",
       "seed                  => 20220524\n",
       "num_users             => 10000\n",
       "item_weight_decay     => 0.0\n",
       "regularization_params => Float32[1.0f-5, 0.5]\n",
       "residual_alphas       => [\"ExplicitUserItemBiases\"]\n",
       "user_weight_decay     => 0.0\n"
      ]
     },
     "execution_count": 3,
     "metadata": {},
     "output_type": "execute_result"
    }
   ],
   "source": [
    "hyp = create_hyperparams(\n",
    "    \"double_embedding\",\n",
    "    false,\n",
    "    [\"ExplicitUserItemBiases\"], #, \"NeuralExplicitAutoencoder\"],\n",
    "    [\"ExplicitUserItemBiases\"], #, \"NeuralExplicitAutoencoder\"],\n",
    ")\n",
    "hyp = @set hyp.num_users = 10000"
   ]
  },
  {
   "cell_type": "code",
   "execution_count": 4,
   "id": "61b58d79-2e50-47b2-bde6-2c1b0c1a451a",
   "metadata": {},
   "outputs": [
    {
     "data": {
      "text/plain": [
       "Chain(\n",
       "  Parallel(\n",
       "    vcat,\n",
       "    Parallel(\n",
       "      vcat,\n",
       "      Dense(20340 => 160, relu),        \u001b[90m# 3_254_560 parameters\u001b[39m\n",
       "      Dense(20340 => 160, relu),        \u001b[90m# 3_254_560 parameters\u001b[39m\n",
       "      Dense(20340 => 160, relu),        \u001b[90m# 3_254_560 parameters\u001b[39m\n",
       "    ),\n",
       "    Parallel(\n",
       "      vcat,\n",
       "      Dense(20340 => 160, relu),        \u001b[90m# 3_254_560 parameters\u001b[39m\n",
       "      Dense(29 => 64, relu),            \u001b[90m# 1_920 parameters\u001b[39m\n",
       "      Dense(76 => 80, relu),            \u001b[90m# 6_160 parameters\u001b[39m\n",
       "      Dense(1010 => 112, relu),         \u001b[90m# 113_232 parameters\u001b[39m\n",
       "      Dense(892 => 112, relu),          \u001b[90m# 100_016 parameters\u001b[39m\n",
       "      Dense(768 => 112, relu),          \u001b[90m# 86_128 parameters\u001b[39m\n",
       "      Dense(768 => 112, relu),          \u001b[90m# 86_128 parameters\u001b[39m\n",
       "    ),\n",
       "  ),\n",
       "  Dense(1232 => 256, relu),             \u001b[90m# 315_648 parameters\u001b[39m\n",
       "  Dense(256 => 1),                      \u001b[90m# 257 parameters\u001b[39m\n",
       "  StorageLayer(Float32[1.0]),           \u001b[90m# 1 parameters\u001b[39m\n",
       ") \u001b[90m        # Total: 19 trainable arrays, \u001b[39m3_964_050 parameters,\n",
       "\u001b[90m          # plus 6 non-trainable, 9_763_680 parameters, summarysize \u001b[39m15.124 MiB."
      ]
     },
     "execution_count": 4,
     "metadata": {},
     "output_type": "execute_result"
    }
   ],
   "source": [
    "G = hyp;\n",
    "build_model()"
   ]
  },
  {
   "cell_type": "code",
   "execution_count": null,
   "id": "b4b00892-2df9-4d4b-a101-e6235d7d5b62",
   "metadata": {
    "tags": []
   },
   "outputs": [
    {
     "name": "stderr",
     "output_type": "stream",
     "text": [
      "\u001b[38;5;6m\u001b[1m[ \u001b[22m\u001b[39m\u001b[38;5;6m\u001b[1mInfo: \u001b[22m\u001b[39m20220727 21:58:59 Training model...\n",
      "\u001b[32mProgress: 100%|███████████████████████████| Time: 0:00:00 ( 0.39 ms/it)\u001b[39m\n",
      "\u001b[32mProgress: 100%|███████████████████████████| Time: 0:00:00 (11.05 ns/it)\u001b[39m\n",
      "\u001b[32mProgress: 100%|█████████████████████████████████████████| Time: 0:01:02\u001b[39m\n",
      "\u001b[32mProgress: 100%|█████████████████████████████████████████| Time: 0:00:04\u001b[39m\n",
      "\u001b[32mProgress: 100%|█████████████████████████████████████████| Time: 0:00:03\u001b[39m\n",
      "\u001b[38;5;6m\u001b[1m[ \u001b[22m\u001b[39m\u001b[38;5;6m\u001b[1mInfo: \u001b[22m\u001b[39m20220727 22:01:15 losses: 1.668684\n",
      "\u001b[32mProgress: 100%|█████████████████████████████████████████| Time: 0:00:16\u001b[39m\n",
      "\u001b[32mProgress: 100%|█████████████████████████████████████████| Time: 0:00:01\u001b[39m\n",
      "\u001b[32mProgress: 100%|█████████████████████████████████████████| Time: 0:00:01\u001b[39m\n",
      "\u001b[38;5;6m\u001b[1m[ \u001b[22m\u001b[39m\u001b[38;5;6m\u001b[1mInfo: \u001b[22m\u001b[39m20220727 22:01:34 losses: 1.6479399\n",
      "\u001b[32mProgress: 100%|█████████████████████████████████████████| Time: 0:00:16\u001b[39m\n",
      "\u001b[32mProgress: 100%|█████████████████████████████████████████| Time: 0:00:01\u001b[39m\n",
      "\u001b[32mProgress: 100%|█████████████████████████████████████████| Time: 0:00:01\u001b[39m\n",
      "\u001b[38;5;6m\u001b[1m[ \u001b[22m\u001b[39m\u001b[38;5;6m\u001b[1mInfo: \u001b[22m\u001b[39m20220727 22:01:53 losses: 1.6414524\n",
      "\u001b[32mProgress: 100%|█████████████████████████████████████████| Time: 0:00:16\u001b[39m\n",
      "\u001b[32mProgress: 100%|█████████████████████████████████████████| Time: 0:00:01\u001b[39m\n",
      "\u001b[32mProgress: 100%|█████████████████████████████████████████| Time: 0:00:01\u001b[39m\n",
      "\u001b[38;5;6m\u001b[1m[ \u001b[22m\u001b[39m\u001b[38;5;6m\u001b[1mInfo: \u001b[22m\u001b[39m20220727 22:02:13 losses: 1.6249903\n",
      "\u001b[32mProgress: 100%|█████████████████████████████████████████| Time: 0:00:16\u001b[39m\n",
      "\u001b[32mProgress: 100%|█████████████████████████████████████████| Time: 0:00:01\u001b[39m\n",
      "\u001b[32mProgress: 100%|█████████████████████████████████████████| Time: 0:00:01\u001b[39m\n",
      "\u001b[38;5;6m\u001b[1m[ \u001b[22m\u001b[39m\u001b[38;5;6m\u001b[1mInfo: \u001b[22m\u001b[39m20220727 22:02:32 losses: 1.621533\n",
      "\u001b[32mProgress:  20%|████████▏                                |  ETA: 0:00:14\u001b[39m"
     ]
    }
   ],
   "source": [
    "train_alpha(\n",
    "    hyp,\n",
    "    \"NeuralExplicitDoubleEmbedding\";\n",
    "    tune_hyperparams=false\n",
    ")"
   ]
  },
  {
   "cell_type": "code",
   "execution_count": null,
   "id": "104c41a1-39e5-44da-8119-30d7da59dd67",
   "metadata": {},
   "outputs": [],
   "source": [
    "1.668684"
   ]
  },
  {
   "cell_type": "code",
   "execution_count": null,
   "id": "fefd5bae-529b-4a7f-b925-e6460ab23ca0",
   "metadata": {},
   "outputs": [],
   "source": [
    "# G = hyp"
   ]
  },
  {
   "cell_type": "code",
   "execution_count": null,
   "id": "03389bee-1ebd-4eda-968b-e22b95c05cbc",
   "metadata": {
    "tags": []
   },
   "outputs": [],
   "source": [
    "# epoch = get_epoch(\"training\")"
   ]
  },
  {
   "cell_type": "code",
   "execution_count": null,
   "id": "ccd84237-dbad-4ccc-a870-d17e3813c4e3",
   "metadata": {},
   "outputs": [],
   "source": [
    "# @time get_batch(epoch, 1, G.batch_size, true)"
   ]
  },
  {
   "cell_type": "code",
   "execution_count": null,
   "id": "5f85d79c-4c4f-4fb6-bd3a-c6ed8f769dd8",
   "metadata": {},
   "outputs": [],
   "source": [
    "# sum((epoch[2] - epoch[3]) .^ 2 .* epoch[4]) / sum(epoch[4])"
   ]
  },
  {
   "cell_type": "code",
   "execution_count": null,
   "id": "2142d17b-9c9b-4834-8868-a9b9d07b32c6",
   "metadata": {},
   "outputs": [],
   "source": [
    "# 1.3829979f0"
   ]
  },
  {
   "cell_type": "markdown",
   "id": "cc009eb0-3be3-471c-8bb9-d4bea118d6e7",
   "metadata": {},
   "source": [
    "# genre and tag embedding"
   ]
  },
  {
   "cell_type": "code",
   "execution_count": null,
   "id": "d0a02783-a6fd-4172-aa1b-161fc443fe7c",
   "metadata": {},
   "outputs": [],
   "source": [
    "# 1.70 is max for 10000\n",
    "# 1.6655456f0 is max for 20000\n",
    "# 1.5844376 is max for 40000\n",
    "# 1.567697 is max for 80000"
   ]
  },
  {
   "cell_type": "code",
   "execution_count": null,
   "id": "5aa7a673-4480-4e4b-8444-a3aeabbd7b50",
   "metadata": {},
   "outputs": [],
   "source": [
    "# with metadata\n",
    "# 10000 | 1.643"
   ]
  },
  {
   "cell_type": "code",
   "execution_count": null,
   "id": "5e0af82f-4e63-4a1c-b9a3-d72cee3db68d",
   "metadata": {},
   "outputs": [],
   "source": [
    "# with metadata + genre\n",
    "# 10000 | 1.6180371"
   ]
  },
  {
   "cell_type": "code",
   "execution_count": null,
   "id": "1ae5712b-b4af-4e7a-acd5-8b71c00d9cd8",
   "metadata": {},
   "outputs": [],
   "source": [
    "# with metadata + genre + tag\n",
    "# 10000 | 1.6133705"
   ]
  },
  {
   "cell_type": "code",
   "execution_count": null,
   "id": "fc85a1ee-dc74-4356-8bf6-4932a1e51bb1",
   "metadata": {},
   "outputs": [],
   "source": [
    "# with metadata + genre + tag + text\n",
    "# 10000 | 1.6071879"
   ]
  },
  {
   "cell_type": "code",
   "execution_count": null,
   "id": "047980a3-1719-49f5-a615-d6371a5ccab6",
   "metadata": {},
   "outputs": [],
   "source": [
    "# with metadata + genre + tag + text + shared embeddings\n",
    "# 10000 | 1.5983688"
   ]
  },
  {
   "cell_type": "code",
   "execution_count": null,
   "id": "94aae1ae-ba6a-46c3-adfb-fbd7db4cc930",
   "metadata": {},
   "outputs": [],
   "source": [
    "# with metadata + genre + tag + better architecture\n",
    "# 10000 | 1.5878689"
   ]
  },
  {
   "cell_type": "code",
   "execution_count": null,
   "id": "0af38edb-024c-47ed-9803-f9fd0032331c",
   "metadata": {},
   "outputs": [],
   "source": [
    "# with all metadata and proportional embeddings and uniform holdout\n",
    "# 10000 | 1.5801504"
   ]
  },
  {
   "cell_type": "code",
   "execution_count": null,
   "id": "1eeb99a7-74f0-497f-a17b-444b6732a9de",
   "metadata": {},
   "outputs": [],
   "source": [
    "# with full dataset is <1.48 (wasn't able to train to completion)"
   ]
  }
 ],
 "metadata": {
  "kernelspec": {
   "display_name": "Julia 1.8.0-rc1",
   "language": "julia",
   "name": "julia-1.8"
  },
  "language_info": {
   "file_extension": ".jl",
   "mimetype": "application/julia",
   "name": "julia",
   "version": "1.8.0"
  }
 },
 "nbformat": 4,
 "nbformat_minor": 5
}
