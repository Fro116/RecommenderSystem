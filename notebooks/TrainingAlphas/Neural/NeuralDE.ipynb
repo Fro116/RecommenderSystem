{
 "cells": [
  {
   "cell_type": "code",
   "execution_count": 1,
   "id": "d3ef15a8-4209-4fdc-afb6-ebcbd5e79a5a",
   "metadata": {},
   "outputs": [],
   "source": [
    "import NBInclude: @nbinclude\n",
    "@nbinclude(\"NeuralNetworkBase.ipynb\");"
   ]
  },
  {
   "cell_type": "code",
   "execution_count": 2,
   "id": "adabad81-8463-4907-90c7-46d5c04bb6d7",
   "metadata": {},
   "outputs": [
    {
     "data": {
      "text/plain": [
       "Hyperparameters:\n",
       "implicit              => false\n",
       "input_data            => explicit_implicit\n",
       "input_alphas          => [\"ExplicitUserItemBiases\"]\n",
       "model                 => double_embedding\n",
       "output_data           => item\n",
       "batch_size            => 1024\n",
       "user_sampling_scheme  => 0.0\n",
       "learning_rate         => 0.001\n",
       "optimizer             => ADAMW\n",
       "seed                  => 20220524\n",
       "num_users             => 2714683\n",
       "item_weight_decay     => 0.0\n",
       "regularization_params => Float32[1.0f-5]\n",
       "residual_alphas       => [\"ExplicitUserItemBiases\"]\n",
       "user_weight_decay     => 0.0\n"
      ]
     },
     "execution_count": 2,
     "metadata": {},
     "output_type": "execute_result"
    }
   ],
   "source": [
    "G = create_hyperparams(\n",
    "    \"double_embedding\",\n",
    "    false,\n",
    "    [\"ExplicitUserItemBiases\"],\n",
    "    [\"ExplicitUserItemBiases\"],\n",
    ")"
   ]
  },
  {
   "cell_type": "code",
   "execution_count": 3,
   "id": "dc7c52ab-5419-4597-af2d-3540b46e0295",
   "metadata": {},
   "outputs": [
    {
     "data": {
      "text/plain": [
       "Chain(\n",
       "  Parallel(\n",
       "    vcat,\n",
       "    Dense(61020 => 256, relu),          \u001b[90m# 15_621_376 parameters\u001b[39m\n",
       "    Dense(20340 => 256, relu),          \u001b[90m# 5_207_296 parameters\u001b[39m\n",
       "  ),\n",
       "  Dense(512 => 256, relu),              \u001b[90m# 131_328 parameters\u001b[39m\n",
       "  Dense(256 => 1),                      \u001b[90m# 257 parameters\u001b[39m\n",
       "  StorageLayer(Float32[1.0]),           \u001b[90m# 1 parameters\u001b[39m\n",
       ") \u001b[90m                  # Total: 9 arrays, \u001b[39m20_960_258 parameters, 79.958 MiB."
      ]
     },
     "execution_count": 3,
     "metadata": {},
     "output_type": "execute_result"
    }
   ],
   "source": [
    "m = build_model()"
   ]
  },
  {
   "cell_type": "code",
   "execution_count": 4,
   "id": "d3568032-2927-413f-9a35-6430eab061b1",
   "metadata": {},
   "outputs": [
    {
     "name": "stderr",
     "output_type": "stream",
     "text": [
      "\u001b[32mProgress: 100%|███████████████████████████| Time: 0:00:00 (81.12 ns/it)\u001b[39m\n"
     ]
    },
    {
     "data": {
      "text/plain": [
       "((Int32[1139733, 1139733, 1139733, 1139733, 1139733, 1139733, 1139733, 1139733, 1139733, 1139733  …  149272, 149272, 149272, 149272, 149272, 149272, 149272, 149272, 149272, 149272], Int32[18692, 12822, 14577, 14269, 6834, 12622, 12776, 11770, 9027, 9564  …  378, 12008, 8924, 20136, 19379, 7835, 16002, 2085, 12932, 2415]), (sparse(Int32[1602, 1956, 1960, 2211, 2416, 2918, 3632, 4370, 4681, 5038  …  59711, 59727, 59837, 59915, 59982, 60059, 60116, 60130, 60228, 60816], [1, 1, 1, 1, 1, 1, 1, 1, 1, 1  …  2714683, 2714683, 2714683, 2714683, 2714683, 2714683, 2714683, 2714683, 2714683, 2714683], Float32[0.17845106, 3.0460153, 0.57373047, 2.544465, -0.015749931, 0.101037025, 0.8770251, 0.85742426, 0.25189018, 0.57463646  …  1.0, 1.0, 1.0, 1.0, 1.0, 1.0, 1.0, 1.0, 1.0, 1.0], 61020, 2714683), sparse([1, 2, 3, 4, 5, 6, 7, 8, 9, 10  …  20331, 20332, 20333, 20334, 20335, 20336, 20337, 20338, 20339, 20340], [1, 2, 3, 4, 5, 6, 7, 8, 9, 10  …  20331, 20332, 20333, 20334, 20335, 20336, 20337, 20338, 20339, 20340], Float32[1.0, 1.0, 1.0, 1.0, 1.0, 1.0, 1.0, 1.0, 1.0, 1.0  …  1.0, 1.0, 1.0, 1.0, 1.0, 1.0, 1.0, 1.0, 1.0, 1.0], 20340, 20340)))"
      ]
     },
     "execution_count": 4,
     "metadata": {},
     "output_type": "execute_result"
    }
   ],
   "source": [
    "get_epoch_inputs(G.input_data, G.output_data, G.implicit, G.num_users, G.input_alphas)"
   ]
  },
  {
   "cell_type": "code",
   "execution_count": 5,
   "id": "97bf2fcb-102c-4bef-ae6f-144ec2014222",
   "metadata": {},
   "outputs": [
    {
     "name": "stderr",
     "output_type": "stream",
     "text": [
      "\u001b[32mProgress: 100%|███████████████████████████| Time: 0:00:00 (10.47 ns/it)\u001b[39m\n",
      "\u001b[32mProgress: 100%|███████████████████████████| Time: 0:00:00 ( 4.15 ns/it)\u001b[39m\n"
     ]
    },
    {
     "data": {
      "text/plain": [
       "(((Int32[1139733, 1139733, 1139733, 1139733, 1139733, 1139733, 1139733, 1139733, 1139733, 1139733  …  149272, 149272, 149272, 149272, 149272, 149272, 149272, 149272, 149272, 149272], Int32[18692, 12822, 14577, 14269, 6834, 12622, 12776, 11770, 9027, 9564  …  378, 12008, 8924, 20136, 19379, 7835, 16002, 2085, 12932, 2415]), (sparse(Int32[1602, 1956, 1960, 2211, 2416, 2918, 3632, 4370, 4681, 5038  …  59711, 59727, 59837, 59915, 59982, 60059, 60116, 60130, 60228, 60816], [1, 1, 1, 1, 1, 1, 1, 1, 1, 1  …  2714683, 2714683, 2714683, 2714683, 2714683, 2714683, 2714683, 2714683, 2714683, 2714683], Float32[0.17845106, 3.0460153, 0.57373047, 2.544465, -0.015749931, 0.101037025, 0.8770251, 0.85742426, 0.25189018, 0.57463646  …  1.0, 1.0, 1.0, 1.0, 1.0, 1.0, 1.0, 1.0, 1.0, 1.0], 61020, 2714683), sparse([1, 2, 3, 4, 5, 6, 7, 8, 9, 10  …  20331, 20332, 20333, 20334, 20335, 20336, 20337, 20338, 20339, 20340], [1, 2, 3, 4, 5, 6, 7, 8, 9, 10  …  20331, 20332, 20333, 20334, 20335, 20336, 20337, 20338, 20339, 20340], Float32[1.0, 1.0, 1.0, 1.0, 1.0, 1.0, 1.0, 1.0, 1.0, 1.0  …  1.0, 1.0, 1.0, 1.0, 1.0, 1.0, 1.0, 1.0, 1.0, 1.0], 20340, 20340))), Float32[7.0 7.0 … 9.0 9.0], Float32[7.392148 6.759802 … 8.3873005 8.643325], Float32[1.0 1.0 … 1.0 1.0])"
      ]
     },
     "execution_count": 5,
     "metadata": {},
     "output_type": "execute_result"
    }
   ],
   "source": [
    "epoch = get_epoch(\"training\")"
   ]
  },
  {
   "cell_type": "code",
   "execution_count": 6,
   "id": "ae0527fe-101d-4c0f-b4e9-1e506725d4f9",
   "metadata": {},
   "outputs": [
    {
     "name": "stderr",
     "output_type": "stream",
     "text": [
      "\u001b[38;5;6m\u001b[1m┌ \u001b[22m\u001b[39m\u001b[38;5;6m\u001b[1mInfo: \u001b[22m\u001b[39m20220723 15:34:36 The GPU function is being called but the GPU is not accessible. \n",
      "\u001b[38;5;6m\u001b[1m└ \u001b[22m\u001b[39mDefaulting back to the CPU. (No action is required if you want to run on the CPU).\n"
     ]
    },
    {
     "data": {
      "text/plain": [
       "(Tuple{Tuple{Matrix{Float32}, Matrix{Float32}}, Matrix{Float32}, Matrix{Float32}, Matrix{Float32}}[(([0.0 0.0 … 0.0 0.0; 0.0 0.0 … 0.0 0.0; … ; 0.0 0.0 … 0.0 0.0; 0.0 0.0 … 0.0 0.0], [0.0 0.0 … 0.0 0.0; 0.0 0.0 … 0.0 0.0; … ; 0.0 0.0 … 0.0 0.0; 0.0 0.0 … 0.0 0.0]), [7.0 7.0 … 7.0 9.0], [7.392148 6.759802 … 7.5801353 8.313371], [1.0 1.0 … 1.0 1.0])], 1:1024)"
      ]
     },
     "execution_count": 6,
     "metadata": {},
     "output_type": "execute_result"
    }
   ],
   "source": [
    "batch, order = get_batch(epoch, 1, G.batch_size, true)"
   ]
  },
  {
   "cell_type": "code",
   "execution_count": 7,
   "id": "393b0fc5-1660-47ab-aa15-473fcc77532f",
   "metadata": {},
   "outputs": [
    {
     "data": {
      "text/plain": [
       "(((Int32[1139733, 1139733, 1139733, 1139733, 1139733, 1139733, 1139733, 1139733, 1139733, 1139733  …  149272, 149272, 149272, 149272, 149272, 149272, 149272, 149272, 149272, 149272], Int32[18692, 12822, 14577, 14269, 6834, 12622, 12776, 11770, 9027, 9564  …  378, 12008, 8924, 20136, 19379, 7835, 16002, 2085, 12932, 2415]), (sparse(Int32[1602, 1956, 1960, 2211, 2416, 2918, 3632, 4370, 4681, 5038  …  59711, 59727, 59837, 59915, 59982, 60059, 60116, 60130, 60228, 60816], [1, 1, 1, 1, 1, 1, 1, 1, 1, 1  …  2714683, 2714683, 2714683, 2714683, 2714683, 2714683, 2714683, 2714683, 2714683, 2714683], Float32[0.17845106, 3.0460153, 0.57373047, 2.544465, -0.015749931, 0.101037025, 0.8770251, 0.85742426, 0.25189018, 0.57463646  …  1.0, 1.0, 1.0, 1.0, 1.0, 1.0, 1.0, 1.0, 1.0, 1.0], 61020, 2714683), sparse([1, 2, 3, 4, 5, 6, 7, 8, 9, 10  …  20331, 20332, 20333, 20334, 20335, 20336, 20337, 20338, 20339, 20340], [1, 2, 3, 4, 5, 6, 7, 8, 9, 10  …  20331, 20332, 20333, 20334, 20335, 20336, 20337, 20338, 20339, 20340], Float32[1.0, 1.0, 1.0, 1.0, 1.0, 1.0, 1.0, 1.0, 1.0, 1.0  …  1.0, 1.0, 1.0, 1.0, 1.0, 1.0, 1.0, 1.0, 1.0, 1.0], 20340, 20340))), Float32[7.0 5.0 … 8.0 6.0], Float32[7.1437306 6.9645624 … 7.6049414 8.940039], Float32[0.083333336 0.083333336 … 0.09090909 0.09090909])"
      ]
     },
     "execution_count": 7,
     "metadata": {},
     "output_type": "execute_result"
    }
   ],
   "source": [
    "get_epoch(\"validation\")"
   ]
  },
  {
   "cell_type": "code",
   "execution_count": null,
   "id": "737d84fd-8daf-44d2-8ca4-f0fa8cb6ac85",
   "metadata": {},
   "outputs": [
    {
     "name": "stderr",
     "output_type": "stream",
     "text": [
      "\u001b[32mProgress:  24%|█████████▊                               |  ETA: 1:41:46\u001b[39m"
     ]
    }
   ],
   "source": [
    "uncalibrated_split_loss(m, \"validation\")"
   ]
  },
  {
   "cell_type": "code",
   "execution_count": null,
   "id": "bbd1ab5e-d0e4-4dbc-89d6-50e68a5fc342",
   "metadata": {},
   "outputs": [],
   "source": [
    "split_loss(m, \"validation\")"
   ]
  },
  {
   "cell_type": "code",
   "execution_count": null,
   "id": "6c4f0d99-275b-483b-9dff-adc8d110f15e",
   "metadata": {},
   "outputs": [],
   "source": []
  }
 ],
 "metadata": {
  "kernelspec": {
   "display_name": "Julia 1.8.0-rc1",
   "language": "julia",
   "name": "julia-1.8"
  },
  "language_info": {
   "file_extension": ".jl",
   "mimetype": "application/julia",
   "name": "julia",
   "version": "1.8.0"
  }
 },
 "nbformat": 4,
 "nbformat_minor": 5
}
