{
 "cells": [
  {
   "cell_type": "markdown",
   "id": "c3758ece-9b72-47b4-ae6a-aa364e0443e3",
   "metadata": {
    "tags": []
   },
   "source": [
    "# Neural Network Base Class\n",
    "* This class contains infrastructure to train neural networks\n",
    "* The following algorithms are implemented:\n",
    "    * Baseline predictors\n",
    "    * Item-based collaborative filtering\n",
    "    * Matrix Factorization\n",
    "* The following algoirthms will be implemented\n",
    "    * Autoencoder"
   ]
  },
  {
   "cell_type": "code",
   "execution_count": 1,
   "id": "d17593ac-3260-4c01-a5df-91edfcd17e13",
   "metadata": {},
   "outputs": [],
   "source": [
    "using Flux\n",
    "using Random\n",
    "using SparseArrays\n",
    "import CUDA\n",
    "import NBInclude: @nbinclude\n",
    "@nbinclude(\"../Alpha.ipynb\");"
   ]
  },
  {
   "cell_type": "code",
   "execution_count": 2,
   "id": "08801fd4-7057-49f0-9fa7-9854d17494cc",
   "metadata": {},
   "outputs": [],
   "source": [
    "# support both gpu and cpu training\n",
    "\n",
    "function device(x)\n",
    "    gpu(x)\n",
    "end\n",
    "\n",
    "# efficiently convert a sparse cpu matrix into a dense CUDA array\n",
    "function device(x::AbstractSparseArray)\n",
    "    CUDA.functional() ? CUDA.CuArray(gpu(x)) : x\n",
    "end\n",
    "\n",
    "if !CUDA.functional()\n",
    "    LinearAlgebra.BLAS.set_num_threads(Threads.nthreads())\n",
    "end;"
   ]
  },
  {
   "cell_type": "markdown",
   "id": "33d3fa63-a407-4e8d-86d2-b54b50e6d6ac",
   "metadata": {},
   "source": [
    "## Models"
   ]
  },
  {
   "cell_type": "code",
   "execution_count": 3,
   "id": "d73a692e-199b-4eb2-ad7b-d63c09b48058",
   "metadata": {},
   "outputs": [],
   "source": [
    "@nbinclude(\"Models.ipynb\");"
   ]
  },
  {
   "cell_type": "markdown",
   "id": "826b1aac-67d5-4dec-be8b-1e6c65b4d252",
   "metadata": {},
   "source": [
    "## Data "
   ]
  },
  {
   "cell_type": "code",
   "execution_count": 4,
   "id": "c1c39d34-3212-4131-8e1d-68021044fc7b",
   "metadata": {},
   "outputs": [],
   "source": [
    "@nbinclude(\"Data.ipynb\");"
   ]
  },
  {
   "cell_type": "markdown",
   "id": "01a52cbc-01d6-487c-8293-702ef156698a",
   "metadata": {},
   "source": [
    "## Batching"
   ]
  },
  {
   "cell_type": "code",
   "execution_count": 5,
   "id": "6d38413f-c460-48f4-962e-894f02fa1ee9",
   "metadata": {},
   "outputs": [],
   "source": [
    "@nbinclude(\"Batching.ipynb\");"
   ]
  },
  {
   "cell_type": "markdown",
   "id": "a4988ea0-8a00-41f1-857f-6064ef3806a7",
   "metadata": {},
   "source": [
    "## Loss Functions"
   ]
  },
  {
   "cell_type": "code",
   "execution_count": 6,
   "id": "a8b1e1eb-e531-4f85-a8db-e23ba51c7912",
   "metadata": {},
   "outputs": [],
   "source": [
    "@nbinclude(\"Loss.ipynb\");"
   ]
  },
  {
   "cell_type": "markdown",
   "id": "2503872c-79e8-405c-acbb-518416c5c360",
   "metadata": {},
   "source": [
    "## Training"
   ]
  },
  {
   "cell_type": "code",
   "execution_count": 7,
   "id": "75e5e379-ed97-4e63-b94e-824c365cfd5d",
   "metadata": {},
   "outputs": [],
   "source": [
    "@nbinclude(\"Training.ipynb\");"
   ]
  },
  {
   "cell_type": "markdown",
   "id": "51bee255-17b6-4bc1-85aa-f3b89e46346c",
   "metadata": {},
   "source": [
    "## Hyperparameter Tuning"
   ]
  },
  {
   "cell_type": "code",
   "execution_count": 8,
   "id": "27f9a132-f504-4a1a-b398-fdcdbd716d85",
   "metadata": {},
   "outputs": [],
   "source": [
    "@nbinclude(\"Hyperparameters.ipynb\");"
   ]
  },
  {
   "cell_type": "markdown",
   "id": "ec6cbfe4-1de9-4b3e-8828-0d4812e8df3c",
   "metadata": {},
   "source": [
    "## Retrain User Embeddings"
   ]
  },
  {
   "cell_type": "code",
   "execution_count": 9,
   "id": "8068f779-0f4c-476b-9435-fe61c3a6d27e",
   "metadata": {},
   "outputs": [],
   "source": [
    "@nbinclude(\"Retraining.ipynb\");"
   ]
  },
  {
   "cell_type": "markdown",
   "id": "bbdd719b-7f8b-491e-bafa-8aa56a9545e3",
   "metadata": {
    "tags": []
   },
   "source": [
    "## Write predictions"
   ]
  },
  {
   "cell_type": "code",
   "execution_count": 10,
   "id": "1183379a-3384-4d3e-8457-c55440e1fee7",
   "metadata": {},
   "outputs": [],
   "source": [
    "@nbinclude(\"Saving.ipynb\");"
   ]
  },
  {
   "cell_type": "markdown",
   "id": "1599d0a4-5a64-46e7-a1bf-965941810b9d",
   "metadata": {},
   "source": [
    "## Putting it all together"
   ]
  },
  {
   "cell_type": "code",
   "execution_count": 12,
   "id": "cd693480-3562-4f60-91a2-395544381999",
   "metadata": {},
   "outputs": [],
   "source": [
    "function train_alpha(hyp, outdir; tune_hyperparams = true)\n",
    "    set_logging_outdir(outdir)\n",
    "\n",
    "    if tune_hyperparams\n",
    "        @info \"Optimizing hyperparameters...\"\n",
    "        subsampling_factor = get_subsampling_factor(hyp.model)\n",
    "        hyp_subset = @set hyp.num_users = Int(round(num_users() * subsampling_factor))\n",
    "        λ = optimize_hyperparams(hyp_subset; max_evals = 100)\n",
    "        hyp = create_hyperparams(hyp, λ)\n",
    "        tuning_evals = 10\n",
    "    else\n",
    "        tuning_evals = 1\n",
    "    end\n",
    "\n",
    "    @info \"Training model...\"\n",
    "    m, epochs, validation_loss, hyp = optimize_learning_rate(hyp, tuning_evals)\n",
    "    @info \"Trained model loss: $validation_loss\"\n",
    "\n",
    "    if should_retrain_user_embeddings(hyp.model)\n",
    "        @info \"Retraining user embeddings...\"\n",
    "        m, epochs, retrain_loss, retrain_hyp = retrain_user_embeddings(hyp, m, 10)\n",
    "        @info \"Retrained user embeddings with loss: $retrain_loss\"\n",
    "    else\n",
    "        retrain_hyp = nothing\n",
    "        retrain_loss = nothing\n",
    "    end\n",
    "\n",
    "    @info \"Writing alpha...\"\n",
    "    write_params(\n",
    "        Dict(\n",
    "            \"m\" => m,\n",
    "            \"epochs\" => epochs,\n",
    "            \"hyp\" => hyp,\n",
    "            \"retrain_hyp\" => retrain_hyp,\n",
    "            \"validation_loss\" => validation_loss,\n",
    "            \"retrain_loss\" => retrain_loss,\n",
    "        ),\n",
    "        outdir,\n",
    "    )\n",
    "    write_alpha(hyp, m, outdir)\n",
    "end;"
   ]
  }
 ],
 "metadata": {
  "kernelspec": {
   "display_name": "Julia 1.8.0-rc1",
   "language": "julia",
   "name": "julia-1.8"
  },
  "language_info": {
   "file_extension": ".jl",
   "mimetype": "application/julia",
   "name": "julia",
   "version": "1.8.0"
  }
 },
 "nbformat": 4,
 "nbformat_minor": 5
}
