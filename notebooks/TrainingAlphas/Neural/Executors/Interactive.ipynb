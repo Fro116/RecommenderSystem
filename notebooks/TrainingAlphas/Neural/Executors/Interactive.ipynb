{
 "cells": [
  {
   "cell_type": "markdown",
   "id": "c3b725a4-c4a9-45ba-8611-1ab406b8e4aa",
   "metadata": {},
   "source": [
    "# Denoising Autoencoder"
   ]
  },
  {
   "cell_type": "code",
   "execution_count": null,
   "id": "d17593ac-3260-4c01-a5df-91edfcd17e13",
   "metadata": {
    "papermill": {
     "duration": 14.312504,
     "end_time": "2023-01-27T06:12:57.529507",
     "exception": false,
     "start_time": "2023-01-27T06:12:43.217003",
     "status": "completed"
    },
    "tags": []
   },
   "outputs": [],
   "source": [
    "import NBInclude: @nbinclude\n",
    "@nbinclude(\"../Helpers/Base.ipynb\");"
   ]
  },
  {
   "cell_type": "code",
   "execution_count": null,
   "id": "0d72157b-66de-4466-8f58-6fefd0190f8c",
   "metadata": {
    "papermill": {
     "duration": 5.988168,
     "end_time": "2023-01-27T06:13:03.518949",
     "exception": false,
     "start_time": "2023-01-27T06:12:57.530781",
     "status": "completed"
    },
    "tags": [
     "parameters"
    ]
   },
   "outputs": [],
   "source": [
    "model::String = \"\"\n",
    "content::String = \"\"\n",
    "task::String = \"\"\n",
    "input_alphas::Vector{String} = String[]\n",
    "residual_alphas::Vector{String} = String[]\n",
    "outdir::String = \"\"\n",
    "tune_hyperparams::Bool = true;"
   ]
  },
  {
   "cell_type": "code",
   "execution_count": null,
   "id": "505bd45f",
   "metadata": {
    "papermill": {
     "duration": 0.35467,
     "end_time": "2023-01-27T06:13:03.874814",
     "exception": false,
     "start_time": "2023-01-27T06:13:03.520144",
     "status": "completed"
    },
    "tags": [
     "injected-parameters"
    ]
   },
   "outputs": [],
   "source": [
    "# Parameters\n",
    "model = \"item_based_collaborative_filtering\"\n",
    "content = \"explicit\"\n",
    "task = \"random\"\n",
    "input_alphas = [\"random/ExplicitUserItemBiases\"]\n",
    "residual_alphas = [\"random/ExplicitUserItemBiases\"]\n",
    "outdir = \"$task/NeuralExplicitItemCFUntuned\"\n",
    "tune_hyperparams = false"
   ]
  },
  {
   "cell_type": "code",
   "execution_count": null,
   "id": "9d09c09c-3ccf-483c-a068-7f67aac217b0",
   "metadata": {
    "papermill": {
     "duration": 0.508122,
     "end_time": "2023-01-27T06:13:04.384164",
     "exception": false,
     "start_time": "2023-01-27T06:13:03.876042",
     "status": "completed"
    },
    "tags": []
   },
   "outputs": [],
   "source": [
    "hyp = create_hyperparams(model, content, task, residual_alphas, input_alphas);"
   ]
  },
  {
   "cell_type": "code",
   "execution_count": null,
   "id": "7ec7989c-6b50-4bdd-b883-924bd96bf0b7",
   "metadata": {
    "papermill": {
     "duration": 0.551189,
     "end_time": "2023-01-27T06:13:04.936611",
     "exception": false,
     "start_time": "2023-01-27T06:13:04.385422",
     "status": "completed"
    },
    "tags": []
   },
   "outputs": [],
   "source": [
    "if !tune_hyperparams\n",
    "    # λ = Float32[1.0, 1.0, 1.0, 1.0, 0.0, 0.0, 0.0]\n",
    "    @assert task == \"random\"\n",
    "    λ = Float32[\n",
    "        1.3805612209088611,\n",
    "        1.1851872082776373,\n",
    "        1.0413816180825015,\n",
    "        0.3796169899571982,\n",
    "        0.426571507417037,\n",
    "        0.09556944231513809,\n",
    "        -0.22736182347553685,\n",
    "    ]\n",
    "    hyp = create_hyperparams(hyp, λ)\n",
    "end"
   ]
  },
  {
   "cell_type": "code",
   "execution_count": null,
   "id": "d6dc82cd-ee6b-455e-8c5d-c4e68b40ac6d",
   "metadata": {},
   "outputs": [],
   "source": [
    "hyp = @set hyp.num_users = Int(round(hyp.num_users * 0.1))"
   ]
  },
  {
   "cell_type": "code",
   "execution_count": null,
   "id": "2f5cf927-aebc-4274-94f9-fc663008a17f",
   "metadata": {
    "tags": []
   },
   "outputs": [],
   "source": [
    "train_model(\n",
    "    hyp;\n",
    "    max_checkpoints = 100,\n",
    "    epochs_per_checkpoint = get_epochs_per_checkpoint(hyp.model),\n",
    "    patience = 0,\n",
    "    init_model = nothing,\n",
    "    verbose = \"info\",\n",
    ")"
   ]
  },
  {
   "cell_type": "code",
   "execution_count": null,
   "id": "3aa74ded-dc0a-4614-8f6f-79b55f5e52bd",
   "metadata": {
    "tags": []
   },
   "outputs": [],
   "source": [
    "# train_alpha(\n",
    "#     hyp,\n",
    "#     outdir;\n",
    "#     tune_hyperparams=tune_hyperparams\n",
    "# )"
   ]
  }
 ],
 "metadata": {
  "kernelspec": {
   "display_name": "Julia 1.8.3",
   "language": "julia",
   "name": "julia-1.8"
  },
  "language_info": {
   "file_extension": ".jl",
   "mimetype": "application/julia",
   "name": "julia",
   "version": "1.8.3"
  }
 },
 "nbformat": 4,
 "nbformat_minor": 5
}
