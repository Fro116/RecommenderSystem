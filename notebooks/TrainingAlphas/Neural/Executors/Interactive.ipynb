{
 "cells": [
  {
   "cell_type": "markdown",
   "id": "c3b725a4-c4a9-45ba-8611-1ab406b8e4aa",
   "metadata": {},
   "source": [
    "# Denoising Autoencoder"
   ]
  },
  {
   "cell_type": "code",
   "execution_count": null,
   "id": "d3ef15a8-4209-4fdc-afb6-ebcbd5e79a5a",
   "metadata": {
    "tags": []
   },
   "outputs": [],
   "source": [
    "import NBInclude: @nbinclude\n",
    "@nbinclude(\"../Helpers/Base.ipynb\");"
   ]
  },
  {
   "cell_type": "code",
   "execution_count": null,
   "id": "ac3bf10e-9d53-41a9-9ce2-8693b7b477bc",
   "metadata": {},
   "outputs": [],
   "source": [
    "# Parameters\n",
    "model = \"item_based_collaborative_filtering\"\n",
    "content = \"explicit\"\n",
    "task = \"random\"\n",
    "input_alphas = [\"random/ExplicitUserItemBiases\"]\n",
    "residual_alphas = [\"random/ExplicitUserItemBiases\"]\n",
    "outdir = \"NeuralExplicitItemCFUntuned\"\n",
    "tune_hyperparams = false"
   ]
  },
  {
   "cell_type": "code",
   "execution_count": null,
   "id": "831ac1f7-00c0-461a-ac0d-49255b16e710",
   "metadata": {},
   "outputs": [],
   "source": [
    "hyp = create_hyperparams(model, content, task, residual_alphas, input_alphas)"
   ]
  },
  {
   "cell_type": "code",
   "execution_count": null,
   "id": "890cc9ab-e076-43e6-88df-25ea70de2ca5",
   "metadata": {},
   "outputs": [],
   "source": [
    "G = hyp\n",
    "rng = Random.Xoshiro(G.seed)\n",
    "m = build_model(rng = rng) |> device\n",
    "opt_spec = get_optimizer(G.optimizer, G.learning_rate, G.optimizer_weight_decay)\n",
    "opt = Optimisers.setup(opt_spec, m);"
   ]
  },
  {
   "cell_type": "code",
   "execution_count": null,
   "id": "580c48b4-b2fb-40f1-918d-f4fdd83e0aa2",
   "metadata": {},
   "outputs": [],
   "source": [
    "train_epoch!(m, opt; split = \"training\", rng = rng)\n",
    "split_loss(m, \"validation\")"
   ]
  },
  {
   "cell_type": "code",
   "execution_count": null,
   "id": "3aa74ded-dc0a-4614-8f6f-79b55f5e52bd",
   "metadata": {
    "tags": []
   },
   "outputs": [],
   "source": [
    "# train_alpha(\n",
    "#     hyp,\n",
    "#     outdir;\n",
    "#     tune_hyperparams=tune_hyperparams\n",
    "# )"
   ]
  }
 ],
 "metadata": {
  "kernelspec": {
   "display_name": "Julia 1.8.3",
   "language": "julia",
   "name": "julia-1.8"
  },
  "language_info": {
   "file_extension": ".jl",
   "mimetype": "application/julia",
   "name": "julia",
   "version": "1.8.3"
  }
 },
 "nbformat": 4,
 "nbformat_minor": 5
}
