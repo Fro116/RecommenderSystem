{
 "cells": [
  {
   "cell_type": "markdown",
   "id": "c3b725a4-c4a9-45ba-8611-1ab406b8e4aa",
   "metadata": {},
   "source": [
    "# Interactive"
   ]
  },
  {
   "cell_type": "code",
   "execution_count": null,
   "id": "d17593ac-3260-4c01-a5df-91edfcd17e13",
   "metadata": {
    "papermill": {
     "duration": 14.312504,
     "end_time": "2023-01-27T06:12:57.529507",
     "exception": false,
     "start_time": "2023-01-27T06:12:43.217003",
     "status": "completed"
    },
    "tags": []
   },
   "outputs": [],
   "source": [
    "import NBInclude: @nbinclude\n",
    "@nbinclude(\"../Helpers/Base.ipynb\");"
   ]
  },
  {
   "cell_type": "code",
   "execution_count": null,
   "id": "4549eda2-280e-448e-8339-5bf27c74c3e3",
   "metadata": {},
   "outputs": [],
   "source": [
    "cross_media = \"anime\"\n",
    "model = \"cross_media.$cross_media\"\n",
    "content = \"explicit\"\n",
    "task = \"temporal\"\n",
    "medium = \"manga\"\n",
    "input_alphas = [\"$cross_media/$task/ExplicitUserItemBiases\"]\n",
    "residual_alphas = [\"$medium/$task/ExplicitUserItemBiases\"]\n",
    "outdir = \"$medium/$task/NeuralExplicitAutoencoderUntuned\"\n",
    "tune_hyperparams = false;"
   ]
  },
  {
   "cell_type": "code",
   "execution_count": null,
   "id": "9d09c09c-3ccf-483c-a068-7f67aac217b0",
   "metadata": {
    "papermill": {
     "duration": 0.508122,
     "end_time": "2023-01-27T06:13:04.384164",
     "exception": false,
     "start_time": "2023-01-27T06:13:03.876042",
     "status": "completed"
    },
    "tags": []
   },
   "outputs": [],
   "source": [
    "hyp = create_hyperparams(model, content, task, medium, residual_alphas, input_alphas);"
   ]
  },
  {
   "cell_type": "code",
   "execution_count": null,
   "id": "7ec7989c-6b50-4bdd-b883-924bd96bf0b7",
   "metadata": {
    "papermill": {
     "duration": 0.551189,
     "end_time": "2023-01-27T06:13:04.936611",
     "exception": false,
     "start_time": "2023-01-27T06:13:04.385422",
     "status": "completed"
    },
    "tags": []
   },
   "outputs": [],
   "source": [
    "if !tune_hyperparams\n",
    "    if task == \"random\"\n",
    "        λ = Float32[\n",
    "            1.3805612209088611,\n",
    "            1.1851872082776373,\n",
    "            1.0413816180825015,\n",
    "            0.3796169899571982,\n",
    "            0.426571507417037,\n",
    "            0.09556944231513809,\n",
    "            -0.22736182347553685,\n",
    "        ]\n",
    "    elseif task == \"temporal\"\n",
    "        λ = Float32[\n",
    "            1.3977884837355254,\n",
    "            1.0273065472209866,\n",
    "            1.0583685426691947,\n",
    "            0.20085960237581535,\n",
    "            0.7386682832224805,\n",
    "            0.22603869649515668,\n",
    "            0.2072861262267625,\n",
    "        ]\n",
    "    elseif task == \"temporal_causal\"\n",
    "        λ = Float32[\n",
    "            1.3977884837355254,\n",
    "            1.0273065472209866,\n",
    "            1.0583685426691947,\n",
    "            0.20085960237581535,\n",
    "            0.7386682832224805,\n",
    "            0.22603869649515668,\n",
    "            0.2072861262267625,\n",
    "        ]\n",
    "    else\n",
    "        @assert false\n",
    "    end\n",
    "    hyp = create_hyperparams(hyp, λ)\n",
    "end"
   ]
  },
  {
   "cell_type": "code",
   "execution_count": null,
   "id": "5e2ff8b9-1208-4db9-a147-0e0971b93ee9",
   "metadata": {},
   "outputs": [],
   "source": [
    "G = hyp"
   ]
  },
  {
   "cell_type": "code",
   "execution_count": null,
   "id": "d6dc82cd-ee6b-455e-8c5d-c4e68b40ac6d",
   "metadata": {},
   "outputs": [],
   "source": [
    "hyp = @set hyp.num_users = Int(round(hyp.num_users * 0.1))"
   ]
  },
  {
   "cell_type": "code",
   "execution_count": null,
   "id": "02bfceea-6432-4e83-a0c0-ed577d3f7684",
   "metadata": {},
   "outputs": [],
   "source": [
    "G = hyp;"
   ]
  },
  {
   "cell_type": "code",
   "execution_count": null,
   "id": "3aa74ded-dc0a-4614-8f6f-79b55f5e52bd",
   "metadata": {
    "tags": []
   },
   "outputs": [],
   "source": [
    "train_alpha(\n",
    "    hyp,\n",
    "    outdir;\n",
    "    tune_hyperparams=tune_hyperparams\n",
    ")"
   ]
  }
 ],
 "metadata": {
  "kernelspec": {
   "display_name": "Julia 1.9.0-rc2",
   "language": "julia",
   "name": "julia-1.9"
  },
  "language_info": {
   "file_extension": ".jl",
   "mimetype": "application/julia",
   "name": "julia",
   "version": "1.9.0"
  }
 },
 "nbformat": 4,
 "nbformat_minor": 5
}
