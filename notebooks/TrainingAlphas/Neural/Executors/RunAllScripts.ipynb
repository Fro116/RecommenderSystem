{
 "cells": [
  {
   "cell_type": "markdown",
   "id": "f1cbb539-7a72-47c3-a705-6a15fce44741",
   "metadata": {},
   "source": [
    "# Neural\n",
    "* Trains a bag-of-words model to predict a user's future interactions"
   ]
  },
  {
   "cell_type": "code",
   "execution_count": null,
   "id": "7df9b9d0-f4e3-4db9-b67d-799c100e8ab9",
   "metadata": {},
   "outputs": [],
   "source": [
    "import os\n",
    "\n",
    "import papermill as pm"
   ]
  },
  {
   "cell_type": "code",
   "execution_count": null,
   "id": "0162aac0-a1a6-4a99-8378-49bdbeb4f158",
   "metadata": {},
   "outputs": [],
   "source": [
    "def get_data_path(media, task):\n",
    "    data_path = f\"../../../../data/papermill/training_alphas/neural/{media}/{task}\"\n",
    "    if not os.path.exists(data_path):\n",
    "        os.makedirs(data_path, exist_ok=True)\n",
    "    return data_path"
   ]
  },
  {
   "cell_type": "code",
   "execution_count": null,
   "id": "58e8d146-da94-4334-8b78-80453cee9e31",
   "metadata": {},
   "outputs": [],
   "source": [
    "def train_alpha(\n",
    "    name, model, content, task, media, input_alphas, residual_alphas, tune_hyperparams\n",
    "):\n",
    "    pm.execute_notebook(\n",
    "        \"Papermill.ipynb\",\n",
    "        os.path.join(get_data_path(media, task), f\"{name}.ipynb\"),\n",
    "        parameters=dict(\n",
    "            model=model,\n",
    "            content=content,\n",
    "            task=task,\n",
    "            medium=media,\n",
    "            input_alphas=input_alphas,\n",
    "            residual_alphas=residual_alphas,\n",
    "            outdir=name,\n",
    "            tune_hyperparams=tune_hyperparams,\n",
    "        ),\n",
    "    )"
   ]
  },
  {
   "cell_type": "code",
   "execution_count": null,
   "id": "1636a682-d90f-47af-be2a-b10de9b8d245",
   "metadata": {},
   "outputs": [],
   "source": [
    "def get_baseline_predictor(content, task, media):\n",
    "    blp = {\n",
    "        \"explicit\": [f\"{media}/{task}/ExplicitUserItemBiases\"],\n",
    "        \"implicit\": [],\n",
    "    }\n",
    "    return blp[content]"
   ]
  },
  {
   "cell_type": "code",
   "execution_count": null,
   "id": "49c6c13e-67f9-4d29-813b-c760358ac1eb",
   "metadata": {},
   "outputs": [],
   "source": [
    "os.chdir(\"../Helpers\")"
   ]
  },
  {
   "cell_type": "code",
   "execution_count": null,
   "id": "332a5dd8-d13a-430c-9bc1-66e45fb49866",
   "metadata": {},
   "outputs": [],
   "source": [
    "ALL_TASKS = [\"temporal_causal\"]\n",
    "ALL_MEDIA = [\"manga\", \"anime\"]\n",
    "ALL_CONTENTS = [\"implicit\", \"explicit\"]"
   ]
  },
  {
   "cell_type": "code",
   "execution_count": null,
   "id": "a4d77099-3036-463c-a20a-740edae9ddf6",
   "metadata": {
    "tags": []
   },
   "outputs": [],
   "source": [
    "for media in ALL_MEDIA:\n",
    "    for task in ALL_TASKS:\n",
    "        for content in ALL_CONTENTS:\n",
    "            train_alpha(\n",
    "                f\"Neural{content.capitalize()}UniversalUntuned\",\n",
    "                \"universal\",\n",
    "                content,\n",
    "                task,\n",
    "                media,\n",
    "                [get_baseline_predictor(\"explicit\", task, x)[0] for x in ALL_MEDIA],\n",
    "                get_baseline_predictor(content, task, media),\n",
    "                False,\n",
    "            )"
   ]
  }
 ],
 "metadata": {
  "kernelspec": {
   "display_name": "Python 3 (ipykernel)",
   "language": "python",
   "name": "python3"
  },
  "language_info": {
   "codemirror_mode": {
    "name": "ipython",
    "version": 3
   },
   "file_extension": ".py",
   "mimetype": "text/x-python",
   "name": "python",
   "nbconvert_exporter": "python",
   "pygments_lexer": "ipython3",
   "version": "3.10.6"
  }
 },
 "nbformat": 4,
 "nbformat_minor": 5
}
