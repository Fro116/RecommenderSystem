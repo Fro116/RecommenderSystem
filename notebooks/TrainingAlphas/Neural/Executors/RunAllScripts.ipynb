{
 "cells": [
  {
   "cell_type": "code",
   "execution_count": null,
   "id": "7df9b9d0-f4e3-4db9-b67d-799c100e8ab9",
   "metadata": {},
   "outputs": [],
   "source": [
    "import os\n",
    "\n",
    "import papermill as pm"
   ]
  },
  {
   "cell_type": "code",
   "execution_count": null,
   "id": "0162aac0-a1a6-4a99-8378-49bdbeb4f158",
   "metadata": {},
   "outputs": [],
   "source": [
    "def get_data_path(task):\n",
    "    data_path = f\"../../../../data/papermill/training_alphas/neural/{task}\"\n",
    "    if not os.path.exists(data_path):\n",
    "        os.makedirs(data_path, exist_ok=True)\n",
    "    return data_path"
   ]
  },
  {
   "cell_type": "code",
   "execution_count": null,
   "id": "58e8d146-da94-4334-8b78-80453cee9e31",
   "metadata": {},
   "outputs": [],
   "source": [
    "def train_alpha(\n",
    "    name, model, content, task, residual_alphas, input_alphas, tune_hyperparams\n",
    "):\n",
    "    pm.execute_notebook(\n",
    "        \"Papermill.ipynb\",\n",
    "        os.path.join(get_data_path(task), f\"{name}.ipynb\"),\n",
    "        parameters=dict(\n",
    "            model=model,\n",
    "            content=content,\n",
    "            task=task,\n",
    "            input_alphas=input_alphas,\n",
    "            residual_alphas=residual_alphas,\n",
    "            outdir=name,\n",
    "            tune_hyperparams=tune_hyperparams,\n",
    "        ),\n",
    "    )"
   ]
  },
  {
   "cell_type": "code",
   "execution_count": null,
   "id": "1636a682-d90f-47af-be2a-b10de9b8d245",
   "metadata": {},
   "outputs": [],
   "source": [
    "def get_baseline_predictor(content, task):\n",
    "    blp = {\n",
    "        \"explicit\": [f\"{task}/ExplicitUserItemBiases\"],\n",
    "        \"implicit\": [],\n",
    "    }\n",
    "    return blp[content]"
   ]
  },
  {
   "cell_type": "code",
   "execution_count": null,
   "id": "49c6c13e-67f9-4d29-813b-c760358ac1eb",
   "metadata": {},
   "outputs": [],
   "source": [
    "os.chdir(\"../Helpers\")"
   ]
  },
  {
   "cell_type": "code",
   "execution_count": null,
   "id": "332a5dd8-d13a-430c-9bc1-66e45fb49866",
   "metadata": {},
   "outputs": [],
   "source": [
    "all_tasks = [\"random\", \"temporal\"]"
   ]
  },
  {
   "cell_type": "code",
   "execution_count": null,
   "id": "a4d77099-3036-463c-a20a-740edae9ddf6",
   "metadata": {},
   "outputs": [],
   "source": [
    "for task in all_tasks:\n",
    "    for content in [\"explicit\", \"implicit\"]:\n",
    "        train_alpha(\n",
    "            f\"Neural{content.capitalize()}AutoencoderUntuned\",\n",
    "            \"autoencoder\",\n",
    "            content,\n",
    "            task,\n",
    "            get_baseline_predictor(content, task),\n",
    "            get_baseline_predictor(\"explicit\", task),\n",
    "            False,\n",
    "        )"
   ]
  },
  {
   "cell_type": "code",
   "execution_count": null,
   "id": "23e103d9-f3da-4881-a13b-3518113526dc",
   "metadata": {
    "tags": []
   },
   "outputs": [],
   "source": [
    "for task in all_tasks:\n",
    "    for content in [\"explicit\"]:\n",
    "        train_alpha(\n",
    "            f\"Neural{content.capitalize()}ItemCFUntuned\",\n",
    "            \"item_based_collaborative_filtering\",\n",
    "            content,\n",
    "            task,\n",
    "            get_baseline_predictor(content, task),\n",
    "            get_baseline_predictor(\"explicit\", task),\n",
    "            False,\n",
    "         )"
   ]
  },
  {
   "cell_type": "code",
   "execution_count": null,
   "id": "321316aa-cfc2-4683-bb68-e799fc966707",
   "metadata": {},
   "outputs": [],
   "source": [
    "for task in all_tasks:\n",
    "    for content in [\"implicit\"]:\n",
    "        train_alpha(\n",
    "        f\"Neural{content.capitalize()}EaseUntuned\",\n",
    "        \"ease\",\n",
    "        content,\n",
    "        task,\n",
    "        get_baseline_predictor(content, task),\n",
    "        get_baseline_predictor(\"explicit\", task),\n",
    "        False,\n",
    "    )"
   ]
  }
 ],
 "metadata": {
  "kernelspec": {
   "display_name": "Python 3 (ipykernel)",
   "language": "python",
   "name": "python3"
  },
  "language_info": {
   "codemirror_mode": {
    "name": "ipython",
    "version": 3
   },
   "file_extension": ".py",
   "mimetype": "text/x-python",
   "name": "python",
   "nbconvert_exporter": "python",
   "pygments_lexer": "ipython3",
   "version": "3.10.6"
  }
 },
 "nbformat": 4,
 "nbformat_minor": 5
}
