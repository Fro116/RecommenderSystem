{
 "cells": [
  {
   "cell_type": "code",
   "execution_count": null,
   "id": "d3ef15a8-4209-4fdc-afb6-ebcbd5e79a5a",
   "metadata": {},
   "outputs": [],
   "source": [
    "import NBInclude: @nbinclude\n",
    "@nbinclude(\"NeuralNetworkBase.ipynb\");"
   ]
  },
  {
   "cell_type": "code",
   "execution_count": null,
   "id": "136e0e2f-1993-4947-8cba-099ed285e953",
   "metadata": {
    "tags": []
   },
   "outputs": [],
   "source": [
    "train_alpha(\n",
    "    create_hyperparams(\n",
    "        \"ease\",\n",
    "        \"implicit\",\n",
    "        [\"NeuralImplicitUserItemBiases\"],\n",
    "        [],\n",
    "    ),\n",
    "    \"NeuralImplicitEaseUntuned\";\n",
    "    tune_hyperparams = false,\n",
    ")"
   ]
  },
  {
   "cell_type": "code",
   "execution_count": null,
   "id": "a2e6f534-2096-494e-afaa-c12830bbe497",
   "metadata": {},
   "outputs": [],
   "source": [
    "train_alpha(\n",
    "    create_hyperparams(\n",
    "        \"ease\",\n",
    "        \"explicit\",\n",
    "        [\"ExplicitUserItemBiases\"],\n",
    "        [\"ExplicitUserItemBiases\"],\n",
    "    ),\n",
    "    \"NeuralExplicitEaseUntuned\";\n",
    "    tune_hyperparams = false,\n",
    ")"
   ]
  }
 ],
 "metadata": {
  "kernelspec": {
   "display_name": "Julia 1.8.0-rc1",
   "language": "julia",
   "name": "julia-1.8"
  },
  "language_info": {
   "file_extension": ".jl",
   "mimetype": "application/julia",
   "name": "julia",
   "version": "1.8.0"
  }
 },
 "nbformat": 4,
 "nbformat_minor": 5
}
