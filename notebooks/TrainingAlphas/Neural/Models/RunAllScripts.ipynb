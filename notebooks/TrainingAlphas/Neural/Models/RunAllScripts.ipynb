{
 "cells": [
  {
   "cell_type": "code",
   "execution_count": 1,
   "id": "7df9b9d0-f4e3-4db9-b67d-799c100e8ab9",
   "metadata": {},
   "outputs": [],
   "source": [
    "import os\n",
    "\n",
    "import papermill as pm"
   ]
  },
  {
   "cell_type": "code",
   "execution_count": 2,
   "id": "0162aac0-a1a6-4a99-8378-49bdbeb4f158",
   "metadata": {},
   "outputs": [],
   "source": [
    "data_path = \"../../../../data/papermill/training_alphas/neural\"\n",
    "if not os.path.exists(data_path):\n",
    "    os.makedirs(data_path, exist_ok=True)"
   ]
  },
  {
   "cell_type": "code",
   "execution_count": 3,
   "id": "58e8d146-da94-4334-8b78-80453cee9e31",
   "metadata": {},
   "outputs": [],
   "source": [
    "def train_alpha(name, model, content, input_alphas, residual_alphas, tune_hyperparams):\n",
    "    pm.execute_notebook(\n",
    "        \"Papermill.ipynb\",\n",
    "        os.path.join(data_path, f\"{name}.ipynb\"),\n",
    "        parameters=dict(\n",
    "            model=model,\n",
    "            content=content,\n",
    "            input_alphas=input_alphas,\n",
    "            residual_alphas=residual_alphas,\n",
    "            outdir=name,\n",
    "            tune_hyperparams=tune_hyperparams,\n",
    "        ),\n",
    "    )"
   ]
  },
  {
   "cell_type": "code",
   "execution_count": 4,
   "id": "1636a682-d90f-47af-be2a-b10de9b8d245",
   "metadata": {},
   "outputs": [],
   "source": [
    "def get_baseline_predictor(content):\n",
    "    blp = {\n",
    "        \"explicit\": [\"ExplicitUserItemBiases\"],\n",
    "        \"implicit\": [\"NeuralImplicitItemBiases\"],\n",
    "        \"ptw\": [\"NeuralPtwItemBiases\"],\n",
    "    }\n",
    "    return blp[content]"
   ]
  },
  {
   "cell_type": "code",
   "execution_count": 5,
   "id": "49c6c13e-67f9-4d29-813b-c760358ac1eb",
   "metadata": {},
   "outputs": [],
   "source": [
    "os.chdir(\"../Helpers\")"
   ]
  },
  {
   "cell_type": "code",
   "execution_count": null,
   "id": "38ea3d19-d5e4-4ed3-92bf-a6dcddbdaa7e",
   "metadata": {},
   "outputs": [
    {
     "data": {
      "application/vnd.jupyter.widget-view+json": {
       "model_id": "ce9545d6cbb34cb7bda226e1ee35fada",
       "version_major": 2,
       "version_minor": 0
      },
      "text/plain": [
       "Executing:   0%|          | 0/5 [00:00<?, ?cell/s]"
      ]
     },
     "metadata": {},
     "output_type": "display_data"
    },
    {
     "name": "stdout",
     "output_type": "stream",
     "text": [
      "Starting kernel event loops.\n"
     ]
    }
   ],
   "source": [
    "for content in [\"implicit\", \"ptw\"]:\n",
    "    train_alpha(\n",
    "        f\"Neural{content.capitalize()}ItemBiases\", \"item_biases\", content, [], [], True\n",
    "    )"
   ]
  },
  {
   "cell_type": "code",
   "execution_count": null,
   "id": "2d1af0cd-f684-43f3-be3a-7f38d35e7323",
   "metadata": {
    "tags": []
   },
   "outputs": [],
   "source": [
    "for content in [\"explicit\", \"implicit\", \"ptw\"]:\n",
    "    train_alpha(\n",
    "        f\"Neural{content.capitalize()}AutoencoderUntuned\",\n",
    "        \"autoencoder\",\n",
    "        content,\n",
    "        get_baseline_predictor(content),\n",
    "        [\"ExplicitUserItemBiases\"],\n",
    "        False,\n",
    "    )"
   ]
  },
  {
   "cell_type": "code",
   "execution_count": null,
   "id": "f7cd304b-1d38-442c-86c8-fd54301afe05",
   "metadata": {},
   "outputs": [],
   "source": [
    "print(\"Success!\")"
   ]
  }
 ],
 "metadata": {
  "kernelspec": {
   "display_name": "Python 3 (ipykernel)",
   "language": "python",
   "name": "python3"
  },
  "language_info": {
   "codemirror_mode": {
    "name": "ipython",
    "version": 3
   },
   "file_extension": ".py",
   "mimetype": "text/x-python",
   "name": "python",
   "nbconvert_exporter": "python",
   "pygments_lexer": "ipython3",
   "version": "3.10.4"
  }
 },
 "nbformat": 4,
 "nbformat_minor": 5
}
