{
 "cells": [
  {
   "cell_type": "markdown",
   "id": "c3b725a4-c4a9-45ba-8611-1ab406b8e4aa",
   "metadata": {},
   "source": [
    "# Denoising Autoencoder"
   ]
  },
  {
   "cell_type": "code",
   "execution_count": null,
   "id": "d3ef15a8-4209-4fdc-afb6-ebcbd5e79a5a",
   "metadata": {},
   "outputs": [],
   "source": [
    "import NBInclude: @nbinclude\n",
    "@nbinclude(\"../Helpers/NeuralNetworkBase.ipynb\");"
   ]
  },
  {
   "cell_type": "code",
   "execution_count": null,
   "id": "e9e074ed-7cd2-4979-8d30-ebd55bac1dc4",
   "metadata": {},
   "outputs": [],
   "source": [
    "train_alpha(\n",
    "    create_hyperparams(\n",
    "        \"autoencoder\",\n",
    "        \"explicit\",\n",
    "        [\"ExplicitUserItemBiases\"],\n",
    "        [\"ExplicitUserItemBiases\"],\n",
    "    ),\n",
    "    \"NeuralExplicitAutoencoderUntuned\";\n",
    "    tune_hyperparams=false\n",
    ")"
   ]
  },
  {
   "cell_type": "code",
   "execution_count": null,
   "id": "aaacad48-ce9a-4a57-b39c-22400c16d079",
   "metadata": {},
   "outputs": [],
   "source": [
    "train_alpha(\n",
    "    create_hyperparams(\n",
    "        \"autoencoder\",\n",
    "        \"implicit\",\n",
    "        [\"NeuralImplicitUserItemBiases\"],\n",
    "        [\"ExplicitUserItemBiases\"],\n",
    "    ),\n",
    "    \"NeuralImplicitAutoencoder\";\n",
    "    tune_hyperparams=false    \n",
    ")"
   ]
  },
  {
   "cell_type": "code",
   "execution_count": null,
   "id": "10cb9875-7c3f-4b3f-8d92-aa3de6b89517",
   "metadata": {},
   "outputs": [],
   "source": [
    "train_alpha(\n",
    "    create_hyperparams(\n",
    "        \"autoencoder\",\n",
    "        \"ptw\",\n",
    "        [\"NeuralPtwUserItemBiases\"],\n",
    "        [\"ExplicitUserItemBiases\"],\n",
    "    ),\n",
    "    \"NeuralPtwAutoencoder\";\n",
    "    tune_hyperparams=false\n",
    ")"
   ]
  }
 ],
 "metadata": {
  "kernelspec": {
   "display_name": "Julia 1.8.0-rc1",
   "language": "julia",
   "name": "julia-1.8"
  },
  "language_info": {
   "file_extension": ".jl",
   "mimetype": "application/julia",
   "name": "julia",
   "version": "1.8.0"
  }
 },
 "nbformat": 4,
 "nbformat_minor": 5
}
