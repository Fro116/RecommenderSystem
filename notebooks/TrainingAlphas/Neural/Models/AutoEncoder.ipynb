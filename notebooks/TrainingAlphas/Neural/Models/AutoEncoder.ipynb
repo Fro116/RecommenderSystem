{
 "cells": [
  {
   "cell_type": "markdown",
   "id": "c3b725a4-c4a9-45ba-8611-1ab406b8e4aa",
   "metadata": {},
   "source": [
    "# Denoising Autoencoder"
   ]
  },
  {
   "cell_type": "code",
   "execution_count": 1,
   "id": "d3ef15a8-4209-4fdc-afb6-ebcbd5e79a5a",
   "metadata": {},
   "outputs": [],
   "source": [
    "import NBInclude: @nbinclude\n",
    "@nbinclude(\"../Helpers/Base.ipynb\");"
   ]
  },
  {
   "cell_type": "code",
   "execution_count": 2,
   "id": "e9e074ed-7cd2-4979-8d30-ebd55bac1dc4",
   "metadata": {},
   "outputs": [],
   "source": [
    "# train_alpha(\n",
    "#     create_hyperparams(\n",
    "#         \"autoencoder\",\n",
    "#         \"explicit\",\n",
    "#         [\"ExplicitUserItemBiases\"],\n",
    "#         [\"ExplicitUserItemBiases\"],\n",
    "#     ),\n",
    "#     \"NeuralExplicitAutoencoderUntuned\";\n",
    "#     tune_hyperparams=false\n",
    "# )"
   ]
  },
  {
   "cell_type": "code",
   "execution_count": 3,
   "id": "aaacad48-ce9a-4a57-b39c-22400c16d079",
   "metadata": {},
   "outputs": [],
   "source": [
    "# train_alpha(\n",
    "#     create_hyperparams(\n",
    "#         \"autoencoder\",\n",
    "#         \"implicit\",\n",
    "#         [\"NeuralImplicitUserItemBiases\"],\n",
    "#         [\"ExplicitUserItemBiases\"],\n",
    "#     ),\n",
    "#     \"NeuralImplicitAutoencoder\";\n",
    "#     tune_hyperparams=false    \n",
    "# )"
   ]
  },
  {
   "cell_type": "code",
   "execution_count": 4,
   "id": "10cb9875-7c3f-4b3f-8d92-aa3de6b89517",
   "metadata": {},
   "outputs": [],
   "source": [
    "# train_alpha(\n",
    "#     create_hyperparams(\n",
    "#         \"autoencoder\",\n",
    "#         \"ptw\",\n",
    "#         [\"NeuralPtwUserItemBiases\"],\n",
    "#         [\"ExplicitUserItemBiases\"],\n",
    "#     ),\n",
    "#     \"NeuralPtwAutoencoder\";\n",
    "#     tune_hyperparams=false\n",
    "# )"
   ]
  },
  {
   "cell_type": "code",
   "execution_count": 5,
   "id": "c1669077-ce93-4d61-9f14-eea5b784928c",
   "metadata": {},
   "outputs": [
    {
     "data": {
      "text/plain": [
       "RatingsDataset\n",
       "  user: Array{Int32}((33587462,)) Int32[17, 17, 17, 17, 17, 17, 17, 17, 17, 17  …  4209008, 4209024, 4209040, 4209072, 4209120, 4209152, 4209216, 4209232, 4209248, 4209264]\n",
       "  item: Array{Int32}((33587462,)) Int32[16600, 11645, 11146, 12651, 8815, 2583, 15511, 16407, 14091, 4807  …  16335, 18470, 3710, 1307, 10390, 20865, 2603, 7293, 14558, 4625]\n",
       "  rating: Array{Float32}((33587462,)) Float32[0.97151923, 2.9742644, 0.03295037, 0.14887871, 1.2430565, 0.0148444045, 4.006312, 0.31815046, 2.806966, 0.0016622362  …  1.3223631, 11.896229, 2.4351578, 2.9577777, 0.39902687, 0.50482416, 1.5585995, 0.0009878003, 0.022250528, 0.11354707]\n",
       "  timestamp: Array{Float32}((0,)) Float32[]\n",
       "  user_timestamp: Array{Float32}((0,)) Float32[]\n",
       "  item_timestamp: Array{Float32}((0,)) Float32[]\n",
       "  status: Array{Int32}((0,)) Int32[]\n",
       "  completion: Array{Float32}((0,)) Float32[]\n",
       "  rewatch: Array{Int32}((0,)) Int32[]\n",
       "  source: Array{Int32}((0,)) Int32[]\n",
       "  order: Array{Int32}((0,)) Int32[]\n"
      ]
     },
     "execution_count": 5,
     "metadata": {},
     "output_type": "execute_result"
    }
   ],
   "source": [
    "spl = \"validation\"\n",
    "truth = get_split(spl, \"explicit\")\n",
    "df = read_alpha(\n",
    "    [\"ExplicitUserItemBiases\", \"ExplicitItemCF\"], # ExplicitItemCF NeuralExplicitAutoencoder\n",
    "    spl,\n",
    "    \"explicit\",\n",
    "    false,\n",
    ") #\n",
    "df = @set df.rating = (truth.rating .- df.rating) .^ 2"
   ]
  },
  {
   "cell_type": "code",
   "execution_count": 6,
   "id": "0c3963b4-09f2-4e24-b594-5345af4dc0d3",
   "metadata": {},
   "outputs": [],
   "source": [
    "using Statistics"
   ]
  },
  {
   "cell_type": "code",
   "execution_count": 7,
   "id": "62a91839-4005-454b-b4c6-1f85c440afad",
   "metadata": {},
   "outputs": [],
   "source": [
    "user_frac = df.user ./ maximum(df.user);"
   ]
  },
  {
   "cell_type": "code",
   "execution_count": 8,
   "id": "5acc3a69-b0f8-48d0-b27e-4a0e5debe407",
   "metadata": {},
   "outputs": [
    {
     "data": {
      "text/plain": [
       "per_user_mse (generic function with 1 method)"
      ]
     },
     "execution_count": 8,
     "metadata": {},
     "output_type": "execute_result"
    }
   ],
   "source": [
    "function per_user_mse(df)\n",
    "    errors = zeros(Float32, num_users())\n",
    "    counts = zeros(Float32, num_users())\n",
    "\n",
    "    for i = 1:length(df.rating)\n",
    "        errors[df.user[i]] += df.rating[i]\n",
    "        counts[df.user[i]] += 1\n",
    "    end\n",
    "\n",
    "    Threads.@threads for i = 1:length(errors)\n",
    "        if counts[i] > 0\n",
    "            errors[i] /= counts[i]\n",
    "        end\n",
    "    end\n",
    "    errors, counts\n",
    "end"
   ]
  },
  {
   "cell_type": "code",
   "execution_count": 9,
   "id": "10b4e08d-6486-40e7-8e4e-9c8d1b4c2620",
   "metadata": {},
   "outputs": [],
   "source": [
    "tcounts = get_counts(\"training\", \"explicit\"; per_rating = false);"
   ]
  },
  {
   "cell_type": "code",
   "execution_count": 10,
   "id": "05bc87f4-ce4c-4029-ad12-5a0e1020ac58",
   "metadata": {},
   "outputs": [
    {
     "data": {
      "text/plain": [
       "(1.6689993f0, 1.4876989f0, 1.4150063f0)"
      ]
     },
     "execution_count": 10,
     "metadata": {},
     "output_type": "execute_result"
    }
   ],
   "source": [
    "split_df = df\n",
    "mses, counts = per_user_mse(split_df)\n",
    "mean(mses[(counts.>0)]),\n",
    "mean(mses[@. (counts > 0) & (tcounts > 10)]),\n",
    "mean(mses[@. (counts > 0) & (tcounts > 50)])"
   ]
  },
  {
   "cell_type": "code",
   "execution_count": 11,
   "id": "30828d2f-a5af-434b-9afc-1b6045955613",
   "metadata": {},
   "outputs": [
    {
     "data": {
      "text/plain": [
       "(1.6481068f0, 1.4799522f0, 1.4070175f0)"
      ]
     },
     "execution_count": 11,
     "metadata": {},
     "output_type": "execute_result"
    }
   ],
   "source": [
    "split_df = filter(df, @. (user_frac <= 0.95))\n",
    "mses, counts = per_user_mse(split_df)\n",
    "mean(mses[(counts.>0)]),\n",
    "mean(mses[@. (counts > 0) & (tcounts > 10)]),\n",
    "mean(mses[@. (counts > 0) & (tcounts > 50)])"
   ]
  },
  {
   "cell_type": "code",
   "execution_count": 12,
   "id": "1d70bade-6e5d-4ceb-a040-5e3bb64f0120",
   "metadata": {},
   "outputs": [
    {
     "data": {
      "text/plain": [
       "(2.0778043f0, 1.6553136f0, 1.5737627f0)"
      ]
     },
     "execution_count": 12,
     "metadata": {},
     "output_type": "execute_result"
    }
   ],
   "source": [
    "split_df = filter(df, @. (user_frac >= 0.95))\n",
    "mses, counts = per_user_mse(split_df)\n",
    "mean(mses[(counts.>0)]),\n",
    "mean(mses[@. (counts > 0) & (tcounts > 10)]),\n",
    "mean(mses[@. (counts > 0) & (tcounts > 50)])"
   ]
  },
  {
   "cell_type": "code",
   "execution_count": 13,
   "id": "36a457c9-c8a5-48cd-ae0c-c6217fcddc85",
   "metadata": {
    "tags": []
   },
   "outputs": [
    {
     "name": "stderr",
     "output_type": "stream",
     "text": [
      "\u001b[38;5;6m\u001b[1m[ \u001b[22m\u001b[39m\u001b[38;5;6m\u001b[1mInfo: \u001b[22m\u001b[39m20220923 19:04:29 (0.9, 1.6156317f0, 1.4649644f0, 1.3977793f0)\n",
      "\u001b[38;5;6m\u001b[1m[ \u001b[22m\u001b[39m\u001b[38;5;6m\u001b[1mInfo: \u001b[22m\u001b[39m20220923 19:04:30 (0.91, 1.6157233f0, 1.4754889f0, 1.4168503f0)\n",
      "\u001b[38;5;6m\u001b[1m[ \u001b[22m\u001b[39m\u001b[38;5;6m\u001b[1mInfo: \u001b[22m\u001b[39m20220923 19:04:30 (0.92, 1.6374185f0, 1.4716161f0, 1.4074227f0)\n",
      "\u001b[38;5;6m\u001b[1m[ \u001b[22m\u001b[39m\u001b[38;5;6m\u001b[1mInfo: \u001b[22m\u001b[39m20220923 19:04:30 (0.93, 1.6365209f0, 1.4522483f0, 1.3853385f0)\n",
      "\u001b[38;5;6m\u001b[1m[ \u001b[22m\u001b[39m\u001b[38;5;6m\u001b[1mInfo: \u001b[22m\u001b[39m20220923 19:04:30 (0.94, 1.6434923f0, 1.4762218f0, 1.419723f0)\n",
      "\u001b[38;5;6m\u001b[1m[ \u001b[22m\u001b[39m\u001b[38;5;6m\u001b[1mInfo: \u001b[22m\u001b[39m20220923 19:04:30 (0.95, 2.00032f0, 1.4622947f0, 1.3875049f0)\n",
      "\u001b[38;5;6m\u001b[1m[ \u001b[22m\u001b[39m\u001b[38;5;6m\u001b[1mInfo: \u001b[22m\u001b[39m20220923 19:04:30 (0.96, 1.9072773f0, 1.4860296f0, 1.4519022f0)\n",
      "\u001b[38;5;6m\u001b[1m[ \u001b[22m\u001b[39m\u001b[38;5;6m\u001b[1mInfo: \u001b[22m\u001b[39m20220923 19:04:30 (0.97, 2.0101247f0, 1.7765248f0, 1.6535605f0)\n",
      "\u001b[38;5;6m\u001b[1m[ \u001b[22m\u001b[39m\u001b[38;5;6m\u001b[1mInfo: \u001b[22m\u001b[39m20220923 19:04:30 (0.98, 2.2671297f0, 1.7706509f0, 1.6809839f0)\n",
      "\u001b[38;5;6m\u001b[1m[ \u001b[22m\u001b[39m\u001b[38;5;6m\u001b[1mInfo: \u001b[22m\u001b[39m20220923 19:04:30 (0.99, 2.2207909f0, 1.8087268f0, 1.7398107f0)\n"
     ]
    }
   ],
   "source": [
    "for s = 0.90:0.01:0.99\n",
    "    split_df = filter(df, @. (s <= user_frac) & (user_frac < s + 0.01))\n",
    "    mses, counts = per_user_mse(split_df)\n",
    "    @info s,\n",
    "    mean(mses[(counts.>0)]),\n",
    "    mean(mses[@. (counts > 0) & (tcounts > 10)]),\n",
    "    mean(mses[@. (counts > 0) & (tcounts > 50)])\n",
    "end\n"
   ]
  },
  {
   "cell_type": "code",
   "execution_count": 14,
   "id": "c4537e28-c638-4ce5-9541-31d716067ac1",
   "metadata": {},
   "outputs": [
    {
     "data": {
      "text/plain": [
       "RatingsDataset\n",
       "  user: Array{Int32}((604349,)) Int32[3998817, 3998833, 3998833, 3998833, 3998833, 3998849, 3998849, 3998849, 3998849, 3998849  …  4209008, 4209024, 4209040, 4209072, 4209120, 4209152, 4209216, 4209232, 4209248, 4209264]\n",
       "  item: Array{Int32}((604349,)) Int32[2422, 19877, 5050, 18470, 9651, 1193, 6260, 7025, 10653, 18543  …  16335, 18470, 3710, 1307, 10390, 20865, 2603, 7293, 14558, 4625]\n",
       "  rating: Array{Float32}((604349,)) Float32[0.2999705, 0.82871425, 0.82713497, 5.554381, 0.033942394, 2.2327185, 0.47066125, 17.382626, 0.35383016, 5.582892  …  1.3223631, 11.896229, 2.4351578, 2.9577777, 0.39902687, 0.50482416, 1.5585995, 0.0009878003, 0.022250528, 0.11354707]\n",
       "  timestamp: Array{Float32}((0,)) Float32[]\n",
       "  user_timestamp: Array{Float32}((0,)) Float32[]\n",
       "  item_timestamp: Array{Float32}((0,)) Float32[]\n",
       "  status: Array{Int32}((0,)) Int32[]\n",
       "  completion: Array{Float32}((0,)) Float32[]\n",
       "  rewatch: Array{Int32}((0,)) Int32[]\n",
       "  source: Array{Int32}((0,)) Int32[]\n",
       "  order: Array{Int32}((0,)) Int32[]\n"
      ]
     },
     "execution_count": 14,
     "metadata": {},
     "output_type": "execute_result"
    }
   ],
   "source": [
    "filter(df, @. (user_frac >= 0.95))"
   ]
  },
  {
   "cell_type": "code",
   "execution_count": null,
   "id": "944bd09d-e475-4f79-8c97-7a146e4e50b3",
   "metadata": {},
   "outputs": [],
   "source": []
  }
 ],
 "metadata": {
  "kernelspec": {
   "display_name": "Julia 1.8.0-rc1",
   "language": "julia",
   "name": "julia-1.8"
  },
  "language_info": {
   "file_extension": ".jl",
   "mimetype": "application/julia",
   "name": "julia",
   "version": "1.8.0"
  }
 },
 "nbformat": 4,
 "nbformat_minor": 5
}
