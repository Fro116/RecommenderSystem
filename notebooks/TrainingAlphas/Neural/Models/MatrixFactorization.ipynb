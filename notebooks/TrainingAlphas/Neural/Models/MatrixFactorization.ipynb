{
 "cells": [
  {
   "cell_type": "markdown",
   "id": "c3b725a4-c4a9-45ba-8611-1ab406b8e4aa",
   "metadata": {},
   "source": [
    "# Neural Network Matrix Factorization"
   ]
  },
  {
   "cell_type": "code",
   "execution_count": null,
   "id": "d3ef15a8-4209-4fdc-afb6-ebcbd5e79a5a",
   "metadata": {},
   "outputs": [],
   "source": [
    "import NBInclude: @nbinclude\n",
    "@nbinclude(\"../Helpers/NeuralNetworkBase.ipynb\");"
   ]
  },
  {
   "cell_type": "code",
   "execution_count": null,
   "id": "2fdd430c-8f7c-4e3c-9098-9becd2061002",
   "metadata": {
    "tags": []
   },
   "outputs": [],
   "source": [
    "train_alpha(\n",
    "    create_hyperparams(\"matrix_factorization_64\", \"implicit\", [\"NeuralImplicitItemBiases\"]),\n",
    "    \"NeuralImplicitMatrixFactorization\",\n",
    ")"
   ]
  },
  {
   "cell_type": "code",
   "execution_count": null,
   "id": "a3ddca30-f6db-471f-96e5-18ca245740bc",
   "metadata": {
    "tags": []
   },
   "outputs": [],
   "source": [
    "train_alpha(\n",
    "    create_hyperparams(\"matrix_factorization_64\", \"explicit\", [\"ExplicitUserItemBiases\"]),\n",
    "    \"NeuralExplicitMatrixFactorization\",\n",
    ")"
   ]
  }
 ],
 "metadata": {
  "kernelspec": {
   "display_name": "Julia 1.8.0-rc1",
   "language": "julia",
   "name": "julia-1.8"
  },
  "language_info": {
   "file_extension": ".jl",
   "mimetype": "application/julia",
   "name": "julia",
   "version": "1.8.0"
  }
 },
 "nbformat": 4,
 "nbformat_minor": 5
}
