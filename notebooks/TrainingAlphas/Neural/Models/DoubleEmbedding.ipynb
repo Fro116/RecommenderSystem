{
 "cells": [
  {
   "cell_type": "code",
   "execution_count": null,
   "id": "d3ef15a8-4209-4fdc-afb6-ebcbd5e79a5a",
   "metadata": {},
   "outputs": [],
   "source": [
    "import NBInclude: @nbinclude\n",
    "@nbinclude(\"NeuralNetworkBase.ipynb\");"
   ]
  },
  {
   "cell_type": "code",
   "execution_count": null,
   "id": "2e5ebc7c-ff84-4da3-a297-1517c2997a1b",
   "metadata": {},
   "outputs": [],
   "source": [
    "train_alpha(\n",
    "    create_hyperparams(\n",
    "        \"double_embedding\",\n",
    "        \"explicit\",\n",
    "        [\"ExplicitUserItemBiases\"],\n",
    "        [\"ExplicitUserItemBiases\"],\n",
    "    ),\n",
    "    \"NeuralExplicitDoubleEmbeddingUntuned\";\n",
    "    tune_hyperparams=false\n",
    ")"
   ]
  },
  {
   "cell_type": "code",
   "execution_count": null,
   "id": "c86f0171-093c-443d-8f23-239750a2c757",
   "metadata": {},
   "outputs": [],
   "source": [
    "# train_alpha(\n",
    "#     create_hyperparams(\n",
    "#         \"double_embedding\",\n",
    "#         \"implicit\",\n",
    "#         [\"ExplicitUserItemBiases\"],\n",
    "#         [\"ExplicitUserItemBiases\"],\n",
    "#     ),\n",
    "#     \"NeuralImplicitDoubleEmbeddingUntuned\";\n",
    "#     tune_hyperparams=false\n",
    "# )"
   ]
  }
 ],
 "metadata": {
  "kernelspec": {
   "display_name": "Julia 1.8.0-rc1",
   "language": "julia",
   "name": "julia-1.8"
  },
  "language_info": {
   "file_extension": ".jl",
   "mimetype": "application/julia",
   "name": "julia",
   "version": "1.8.0"
  }
 },
 "nbformat": 4,
 "nbformat_minor": 5
}
