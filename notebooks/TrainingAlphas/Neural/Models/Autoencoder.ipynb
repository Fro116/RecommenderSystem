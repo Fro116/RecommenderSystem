{
 "cells": [
  {
   "cell_type": "markdown",
   "id": "c3b725a4-c4a9-45ba-8611-1ab406b8e4aa",
   "metadata": {},
   "source": [
    "# Denoising Autoencoder"
   ]
  },
  {
   "cell_type": "code",
   "execution_count": 1,
   "id": "d3ef15a8-4209-4fdc-afb6-ebcbd5e79a5a",
   "metadata": {},
   "outputs": [],
   "source": [
    "import NBInclude: @nbinclude\n",
    "@nbinclude(\"../Helpers/Base.ipynb\");"
   ]
  },
  {
   "cell_type": "code",
   "execution_count": 2,
   "id": "ac3bf10e-9d53-41a9-9ce2-8693b7b477bc",
   "metadata": {},
   "outputs": [
    {
     "data": {
      "text/plain": [
       "false"
      ]
     },
     "execution_count": 2,
     "metadata": {},
     "output_type": "execute_result"
    }
   ],
   "source": [
    "# Parameters\n",
    "model = \"item_based_collaborative_filtering\" #\n",
    "content = \"explicit\" #\n",
    "input_alphas = [\"ExplicitUserItemBiases\"]\n",
    "residual_alphas = [\"ExplicitUserItemBiases\"] #\n",
    "outdir = \"NeuralImplicitItemCFUntuned\"\n",
    "tune_hyperparams = false"
   ]
  },
  {
   "cell_type": "code",
   "execution_count": 3,
   "id": "831ac1f7-00c0-461a-ac0d-49255b16e710",
   "metadata": {},
   "outputs": [
    {
     "data": {
      "text/plain": [
       "Hyperparameters:\n",
       "model                  => item_based_collaborative_filtering\n",
       "content                => explicit\n",
       "implicit               => false\n",
       "input_data             => explicit\n",
       "input_alphas           => [\"ExplicitUserItemBiases\"]\n",
       "output_data            => allitems\n",
       "batch_size             => 1024\n",
       "user_sampling_scheme   => 0.0\n",
       "learning_rate          => 0.001\n",
       "optimizer_weight_decay => 1.0e-5\n",
       "optimizer              => SGD\n",
       "seed                   => 20220524\n",
       "num_users              => 4563688\n",
       "holdout                => NaN\n",
       "temporal_holdout       => NaN\n",
       "item_weight_decay      => 0.0\n",
       "residual_alphas        => [\"ExplicitUserItemBiases\"]\n",
       "temporal_weight_decay  => 0.38285452\n",
       "user_weight_decay      => -1.0\n"
      ]
     },
     "execution_count": 3,
     "metadata": {},
     "output_type": "execute_result"
    }
   ],
   "source": [
    "hyp = create_hyperparams(model, content, residual_alphas, input_alphas)\n",
    "hyp = @set hyp.batch_size = 1024\n",
    "G = hyp"
   ]
  },
  {
   "cell_type": "code",
   "execution_count": 4,
   "id": "4237fbe6-53cc-4b40-a187-bf6cf37f71d5",
   "metadata": {},
   "outputs": [
    {
     "data": {
      "text/plain": [
       "nlopt_loss (generic function with 1 method)"
      ]
     },
     "execution_count": 4,
     "metadata": {},
     "output_type": "execute_result"
    }
   ],
   "source": [
    "function nlopt_loss(λ, grad)\n",
    "    _, _, loss = train_model(\n",
    "        create_hyperparams(hyp, convert.(Float32, λ));\n",
    "        epochs_per_checkpoint = get_epochs_per_checkpoint(hyp.model),\n",
    "        patience = 0,\n",
    "    )\n",
    "    @info \"$λ $loss\"\n",
    "    loss\n",
    "end\n"
   ]
  },
  {
   "cell_type": "code",
   "execution_count": 5,
   "id": "809685c2-a346-4fc8-a2dc-b4a80dd82605",
   "metadata": {},
   "outputs": [
    {
     "data": {
      "text/plain": [
       "TaskLocalRNG()"
      ]
     },
     "execution_count": 5,
     "metadata": {},
     "output_type": "execute_result"
    }
   ],
   "source": [
    "global G = hyp\n",
    "opt = get_optimizer(G.optimizer, G.learning_rate, G.optimizer_weight_decay)\n",
    "rng = Random.Xoshiro(G.seed)\n",
    "Random.seed!(rand(rng, UInt64))"
   ]
  },
  {
   "cell_type": "code",
   "execution_count": 6,
   "id": "71bacc2f-3014-4cb8-9fe8-108513bbb1b9",
   "metadata": {},
   "outputs": [
    {
     "data": {
      "text/plain": [
       "true"
      ]
     },
     "execution_count": 6,
     "metadata": {},
     "output_type": "execute_result"
    }
   ],
   "source": [
    "CUDA.functional()"
   ]
  },
  {
   "cell_type": "code",
   "execution_count": 7,
   "id": "cf7663f3-30a5-4849-a36e-76e4f904c982",
   "metadata": {},
   "outputs": [
    {
     "data": {
      "text/plain": [
       "CUDA.RNG(0x34c1c755, 0x00000000)"
      ]
     },
     "execution_count": 7,
     "metadata": {},
     "output_type": "execute_result"
    }
   ],
   "source": [
    "CUDA.default_rng()"
   ]
  },
  {
   "cell_type": "code",
   "execution_count": 8,
   "id": "ee6c1ad4-e687-4cf9-a303-9be916c0f4f7",
   "metadata": {},
   "outputs": [],
   "source": [
    "\n",
    "if CUDA.functional()\n",
    "    Random.seed!(CUDA.default_rng(), rand(rng, UInt64))\n",
    "    Random.seed!(CUDA.CURAND.default_rng(), rand(rng, UInt64))\n",
    "end"
   ]
  },
  {
   "cell_type": "code",
   "execution_count": 7,
   "id": "9f94ff5d-b84b-4047-8c0e-3992edfaaab7",
   "metadata": {},
   "outputs": [],
   "source": [
    "# λ = convert.(Float32, zeros(Float32, num_tuneable_params(hyp.model)))\n",
    "# train_model(\n",
    "#         create_hyperparams(hyp, convert.(Float32, λ));\n",
    "#         epochs_per_checkpoint = get_epochs_per_checkpoint(hyp.model),\n",
    "#         patience = 0,\n",
    "#     )"
   ]
  },
  {
   "cell_type": "code",
   "execution_count": 8,
   "id": "4de9a772-ac41-453b-857b-b622a7b5bdf1",
   "metadata": {},
   "outputs": [],
   "source": [
    "# nlopt_loss(zeros(Float32, num_tuneable_params(hyp.model)), 0)"
   ]
  },
  {
   "cell_type": "code",
   "execution_count": 9,
   "id": "7c76a5ec-7aaa-4146-aee1-9f79cdf752b7",
   "metadata": {},
   "outputs": [],
   "source": [
    "# function nlopt_optimize(\n",
    "#     lossfn,\n",
    "#     n::Int;\n",
    "#     max_evals::Int = 100,\n",
    "#     max_time::Int = 86400,\n",
    "#     ftol_rel::Real = 1e-4,\n",
    "#     xtol_rel::Real = 1e-4,\n",
    "# )\n",
    "#     opt = NLopt.Opt(:LN_NELDERMEAD, n)\n",
    "#     opt.initial_step = 1\n",
    "#     opt.maxeval = max_evals\n",
    "#     opt.maxtime = max_time\n",
    "#     opt.ftol_rel = ftol_rel\n",
    "#     opt.xtol_rel = xtol_rel\n",
    "#     opt.min_objective = lossfn\n",
    "#     minf, λ, ret = NLopt.optimize(opt, zeros(Float32, n))\n",
    "#     numevals = opt.numevals\n",
    "#     @info (\n",
    "#         \"found minimum $minf at point $λ after $numevals function calls \" *\n",
    "#         \"(ended because $ret)\"\n",
    "#     )\n",
    "#     convert.(Float32, λ)\n",
    "# end;\n",
    "\n",
    "#     nlopt_optimize(nlopt_loss, num_tuneable_params(hyp.model); max_evals = max_evals);"
   ]
  },
  {
   "cell_type": "code",
   "execution_count": 10,
   "id": "3aa74ded-dc0a-4614-8f6f-79b55f5e52bd",
   "metadata": {},
   "outputs": [],
   "source": [
    "# train_alpha(\n",
    "#     hyp,\n",
    "#     outdir;\n",
    "#     tune_hyperparams=tune_hyperparams\n",
    "# )"
   ]
  }
 ],
 "metadata": {
  "kernelspec": {
   "display_name": "Julia 1.8.0-rc1",
   "language": "julia",
   "name": "julia-1.8"
  },
  "language_info": {
   "file_extension": ".jl",
   "mimetype": "application/julia",
   "name": "julia",
   "version": "1.8.0"
  }
 },
 "nbformat": 4,
 "nbformat_minor": 5
}
