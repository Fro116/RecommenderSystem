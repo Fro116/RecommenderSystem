{
 "cells": [
  {
   "cell_type": "markdown",
   "id": "c3758ece-9b72-47b4-ae6a-aa364e0443e3",
   "metadata": {},
   "source": [
    "# Anime Neural Network\n",
    "* Based off of the candidate generator YouTube recommender system\n",
    "* See Section 3 of [Deep Neural Networks for YouTube Recommendations](https://static.googleusercontent.com/media/research.google.com/en//pubs/archive/45530.pdf) by Covington et al."
   ]
  },
  {
   "cell_type": "code",
   "execution_count": 1,
   "id": "7cc9334a-2287-41d6-885b-a5cca94fe263",
   "metadata": {},
   "outputs": [],
   "source": [
    "name = \"ANN\";\n",
    "residual_alphas = [\"UserItemBiases\"];"
   ]
  },
  {
   "cell_type": "code",
   "execution_count": 2,
   "id": "54170f91-c85c-4207-9939-572cad4db024",
   "metadata": {},
   "outputs": [],
   "source": [
    "using Flux # TODO add to readme\n",
    "import BSON"
   ]
  },
  {
   "cell_type": "code",
   "execution_count": 3,
   "id": "d17593ac-3260-4c01-a5df-91edfcd17e13",
   "metadata": {},
   "outputs": [],
   "source": [
    "using NBInclude\n",
    "@nbinclude(\"Alpha.ipynb\");"
   ]
  },
  {
   "cell_type": "code",
   "execution_count": 4,
   "id": "69280b1f-08cb-4b16-a19a-c85ead6e1f25",
   "metadata": {},
   "outputs": [],
   "source": [
    "BLAS.set_num_threads(Threads.nthreads())"
   ]
  },
  {
   "cell_type": "code",
   "execution_count": 5,
   "id": "08801fd4-7057-49f0-9fa7-9854d17494cc",
   "metadata": {},
   "outputs": [
    {
     "data": {
      "text/plain": [
       "gpu (generic function with 1 method)"
      ]
     },
     "execution_count": 5,
     "metadata": {},
     "output_type": "execute_result"
    }
   ],
   "source": [
    "device = gpu"
   ]
  },
  {
   "cell_type": "markdown",
   "id": "58cc7492-35fa-4516-a4af-7ebc12dbec75",
   "metadata": {},
   "source": [
    "## train on data"
   ]
  },
  {
   "cell_type": "code",
   "execution_count": 6,
   "id": "eb458301-7baa-4bd1-88c1-bd8c9193bebe",
   "metadata": {},
   "outputs": [],
   "source": [
    "training = get_residuals(\"training\", residual_alphas);\n",
    "const validation = get_residuals(\"validation\", residual_alphas)\n",
    "R = sparse(\n",
    "    training.user,\n",
    "    training.item,\n",
    "    training.rating,\n",
    "    maximum(training.user),\n",
    "    maximum(training.item),\n",
    ");"
   ]
  },
  {
   "cell_type": "code",
   "execution_count": 7,
   "id": "fd21001b-3626-4bf2-82aa-ba04ba89df00",
   "metadata": {},
   "outputs": [],
   "source": [
    "function get_data(R, split, j)\n",
    "    # inputs are the user's ratings for all shows (unseen shows get mapped to zero)\n",
    "    # labels are the user's predictions for a show they haven't seen before (all other shows get mapped to zero)\n",
    "    X = collect(R[split.user[j], :])\n",
    "    X[split.item[j]] = 0\n",
    "    Y = zeros(length(X))\n",
    "    Y[split.item[j]] = split.rating[j]\n",
    "\n",
    "    # use implicit feedback\n",
    "    X[X.!=0] .= 1\n",
    "    Y[split.item[j]] = 1\n",
    "\n",
    "    # normalize for embeddings\n",
    "    weight = sum(X .!= 0)\n",
    "    if weight == 0\n",
    "        weight = 1\n",
    "    end\n",
    "    X = X ./ weight\n",
    "\n",
    "    norm_weight = weight / size(R)[2]\n",
    "    push!(X, norm_weight)\n",
    "    push!(X, sqrt(norm_weight))\n",
    "    push!(X, norm_weight^2)\n",
    "    return (X, Y)\n",
    "end\n",
    "\n",
    "function get_batch(R, split, block_size)\n",
    "    items = rand(1:length(split.rating), block_size)\n",
    "    data = [[] for j = 1:Threads.nthreads()]\n",
    "    Threads.@threads for i = 1:length(items)\n",
    "        push!(data[Threads.threadid()], get_data(R, split, items[i]))\n",
    "    end\n",
    "    X = Flux.batch([data[t][i][1] for t = 1:Threads.nthreads() for i = 1:length(data[t])])\n",
    "    Y = Flux.batch([data[t][i][2] for t = 1:Threads.nthreads() for i = 1:length(data[t])])\n",
    "    [(X, Y)] |> device\n",
    "end;"
   ]
  },
  {
   "cell_type": "code",
   "execution_count": 8,
   "id": "110b7a2f-5927-4837-99f0-980bc72b5034",
   "metadata": {},
   "outputs": [],
   "source": [
    "# inputs are the user's ratings for all shows (unseen shows get mapped to zero)\n",
    "# labels are the user's predictions for all shows\n",
    "n_items = size(R)[2]\n",
    "m =\n",
    "    Chain(\n",
    "        Dense(n_items + 3, 256, bias = false),\n",
    "        Dense(256,  512, relu),\n",
    "        Dense(512, 256, relu),\n",
    "        Dense(256, n_items),\n",
    "    ) |> device\n",
    "ps = Flux.params(m);"
   ]
  },
  {
   "cell_type": "code",
   "execution_count": 9,
   "id": "2068c6b4-911b-400d-89ca-f7971d8de0dd",
   "metadata": {},
   "outputs": [],
   "source": [
    "loss(x, y) = Flux.logitcrossentropy(m(x), y)\n",
    "opt = ADAM();"
   ]
  },
  {
   "cell_type": "code",
   "execution_count": 10,
   "id": "580056a4-2187-4bda-be76-9c4a87bee43d",
   "metadata": {},
   "outputs": [],
   "source": [
    "function evalcb(R, split)\n",
    "    losses = []\n",
    "    @showprogress for epoch = 1:100\n",
    "        push!(losses, loss(get_batch(R, split, 128)[1]...))\n",
    "    end\n",
    "    mean(losses)\n",
    "end\n",
    "\n",
    "best_loss = Inf\n",
    "patience = 5\n",
    "iters_without_improvement = 0\n",
    "continue_training = true\n",
    "\n",
    "function evalcb()\n",
    "    # print losses and perform early stopping\n",
    "    @debug \"training rmse: $(evalcb(R, training))\"\n",
    "    loss = evalcb(R, validation)\n",
    "    @debug \"validation rmse: $(loss)\"\n",
    "    if loss < best_loss\n",
    "        global best_loss = loss\n",
    "        global iters_without_improvement = 0\n",
    "        BSON.@save \"../../data/alphas/$name/model2.bson\" m\n",
    "    else\n",
    "        global iters_without_improvement += 1\n",
    "        if iters_without_improvement >= patience\n",
    "            global continue_training = false\n",
    "        end\n",
    "    end\n",
    "end\n",
    "\n",
    "throttled_cb = Flux.throttle(evalcb, 600);"
   ]
  },
  {
   "cell_type": "code",
   "execution_count": null,
   "id": "17bda612-f8a6-4d0e-ad9a-358f8a19f06a",
   "metadata": {},
   "outputs": [
    {
     "name": "stderr",
     "output_type": "stream",
     "text": [
      "\u001b[32mProgress: 100%|█████████████████████████████████████████| Time: 0:00:45\u001b[39m\n",
      "\u001b[38;5;4m\u001b[1m[ \u001b[22m\u001b[39m\u001b[38;5;4m\u001b[1mDebug: \u001b[22m\u001b[39m20220123 23:58:06 training rmse: 9.739583796213987\n",
      "\u001b[32mProgress: 100%|█████████████████████████████████████████| Time: 0:00:44\u001b[39m\n",
      "\u001b[38;5;4m\u001b[1m[ \u001b[22m\u001b[39m\u001b[38;5;4m\u001b[1mDebug: \u001b[22m\u001b[39m20220123 23:58:51 validation rmse: 9.739576502287571\n",
      "\u001b[32mProgress: 100%|█████████████████████████████████████████| Time: 0:00:42\u001b[39m\n",
      "\u001b[38;5;4m\u001b[1m[ \u001b[22m\u001b[39m\u001b[38;5;4m\u001b[1mDebug: \u001b[22m\u001b[39m20220124 00:09:43 training rmse: 7.998284901785853\n",
      "\u001b[32mProgress: 100%|█████████████████████████████████████████| Time: 0:00:42\u001b[39m\n",
      "\u001b[38;5;4m\u001b[1m[ \u001b[22m\u001b[39m\u001b[38;5;4m\u001b[1mDebug: \u001b[22m\u001b[39m20220124 00:10:26 validation rmse: 8.004316457330004\n",
      "\u001b[32mProgress: 100%|█████████████████████████████████████████| Time: 0:00:42\u001b[39m\n",
      "\u001b[38;5;4m\u001b[1m[ \u001b[22m\u001b[39m\u001b[38;5;4m\u001b[1mDebug: \u001b[22m\u001b[39m20220124 00:21:14 training rmse: 7.9076553461137955\n",
      "\u001b[32mProgress: 100%|█████████████████████████████████████████| Time: 0:00:42\u001b[39m\n",
      "\u001b[38;5;4m\u001b[1m[ \u001b[22m\u001b[39m\u001b[38;5;4m\u001b[1mDebug: \u001b[22m\u001b[39m20220124 00:21:57 validation rmse: 7.939164922303903\n",
      "\u001b[32mProgress: 100%|█████████████████████████████████████████| Time: 0:00:44\u001b[39m\n",
      "\u001b[38;5;4m\u001b[1m[ \u001b[22m\u001b[39m\u001b[38;5;4m\u001b[1mDebug: \u001b[22m\u001b[39m20220124 00:32:48 training rmse: 7.867292100137978\n",
      "\u001b[32mProgress: 100%|█████████████████████████████████████████| Time: 0:00:44\u001b[39m\n",
      "\u001b[38;5;4m\u001b[1m[ \u001b[22m\u001b[39m\u001b[38;5;4m\u001b[1mDebug: \u001b[22m\u001b[39m20220124 00:33:33 validation rmse: 7.901652115025962\n",
      "\u001b[32mProgress: 100%|█████████████████████████████████████████| Time: 0:00:43\u001b[39m\n",
      "\u001b[38;5;4m\u001b[1m[ \u001b[22m\u001b[39m\u001b[38;5;4m\u001b[1mDebug: \u001b[22m\u001b[39m20220124 00:44:23 training rmse: 7.807187463433784\n",
      "\u001b[32mProgress: 100%|█████████████████████████████████████████| Time: 0:00:43\u001b[39m\n",
      "\u001b[38;5;4m\u001b[1m[ \u001b[22m\u001b[39m\u001b[38;5;4m\u001b[1mDebug: \u001b[22m\u001b[39m20220124 00:45:07 validation rmse: 7.816532412747401\n",
      "\u001b[32mProgress: 100%|█████████████████████████████████████████| Time: 0:00:40\u001b[39m\n",
      "\u001b[38;5;4m\u001b[1m[ \u001b[22m\u001b[39m\u001b[38;5;4m\u001b[1mDebug: \u001b[22m\u001b[39m20220124 00:55:54 training rmse: 7.764104545717674\n",
      "\u001b[32mProgress: 100%|█████████████████████████████████████████| Time: 0:00:40\u001b[39m\n",
      "\u001b[38;5;4m\u001b[1m[ \u001b[22m\u001b[39m\u001b[38;5;4m\u001b[1mDebug: \u001b[22m\u001b[39m20220124 00:56:35 validation rmse: 7.745230664987148\n",
      "\u001b[32mProgress: 100%|█████████████████████████████████████████| Time: 0:00:47\u001b[39m\n",
      "\u001b[38;5;4m\u001b[1m[ \u001b[22m\u001b[39m\u001b[38;5;4m\u001b[1mDebug: \u001b[22m\u001b[39m20220124 01:07:28 training rmse: 7.718591628741275\n",
      "\u001b[32mProgress: 100%|█████████████████████████████████████████| Time: 0:00:43\u001b[39m\n",
      "\u001b[38;5;4m\u001b[1m[ \u001b[22m\u001b[39m\u001b[38;5;4m\u001b[1mDebug: \u001b[22m\u001b[39m20220124 01:08:12 validation rmse: 7.753770568416752\n"
     ]
    },
    {
     "ename": "LoadError",
     "evalue": "InterruptException:",
     "output_type": "error",
     "traceback": [
      "InterruptException:",
      "",
      "Stacktrace:",
      "  [1] Array",
      "    @ ./boot.jl:450 [inlined]",
      "  [2] Array",
      "    @ ./boot.jl:458 [inlined]",
      "  [3] Array",
      "    @ ./boot.jl:465 [inlined]",
      "  [4] similar",
      "    @ ./abstractarray.jl:785 [inlined]",
      "  [5] similar",
      "    @ ./abstractarray.jl:784 [inlined]",
      "  [6] similar",
      "    @ ./broadcast.jl:197 [inlined]",
      "  [7] similar",
      "    @ ./broadcast.jl:196 [inlined]",
      "  [8] copy",
      "    @ ./broadcast.jl:908 [inlined]",
      "  [9] materialize",
      "    @ ./broadcast.jl:883 [inlined]",
      " [10] adjoint",
      "    @ ~/.julia/packages/Zygote/umM0L/src/lib/broadcast.jl:80 [inlined]",
      " [11] _pullback",
      "    @ ~/.julia/packages/ZygoteRules/AIbCs/src/adjoint.jl:65 [inlined]",
      " [12] _pullback",
      "    @ ~/.julia/packages/Flux/BPPNj/src/losses/functions.jl:255 [inlined]",
      " [13] _pullback(::Zygote.Context, ::Flux.Losses.var\"##logitcrossentropy#13\", ::Int64, ::typeof(mean), ::typeof(Flux.Losses.logitcrossentropy), ::Matrix{Float64}, ::Matrix{Float64})",
      "    @ Zygote ~/.julia/packages/Zygote/umM0L/src/compiler/interface2.jl:0",
      " [14] _pullback",
      "    @ ~/.julia/packages/Flux/BPPNj/src/losses/functions.jl:254 [inlined]",
      " [15] _pullback(::Zygote.Context, ::typeof(Flux.Losses.logitcrossentropy), ::Matrix{Float64}, ::Matrix{Float64})",
      "    @ Zygote ~/.julia/packages/Zygote/umM0L/src/compiler/interface2.jl:0",
      " [16] _pullback",
      "    @ ./In[9]:1 [inlined]",
      " [17] _pullback(::Zygote.Context, ::typeof(loss), ::Matrix{Float64}, ::Matrix{Float64})",
      "    @ Zygote ~/.julia/packages/Zygote/umM0L/src/compiler/interface2.jl:0",
      " [18] _apply",
      "    @ ./boot.jl:804 [inlined]",
      " [19] adjoint",
      "    @ ~/.julia/packages/Zygote/umM0L/src/lib/lib.jl:200 [inlined]",
      " [20] _pullback",
      "    @ ~/.julia/packages/ZygoteRules/AIbCs/src/adjoint.jl:65 [inlined]",
      " [21] _pullback",
      "    @ ~/.julia/packages/Flux/BPPNj/src/optimise/train.jl:105 [inlined]",
      " [22] _pullback(::Zygote.Context, ::Flux.Optimise.var\"#39#45\"{typeof(loss), Tuple{Matrix{Float64}, Matrix{Float64}}})",
      "    @ Zygote ~/.julia/packages/Zygote/umM0L/src/compiler/interface2.jl:0",
      " [23] pullback(f::Function, ps::Zygote.Params)",
      "    @ Zygote ~/.julia/packages/Zygote/umM0L/src/compiler/interface.jl:352",
      " [24] gradient(f::Function, args::Zygote.Params)",
      "    @ Zygote ~/.julia/packages/Zygote/umM0L/src/compiler/interface.jl:75",
      " [25] macro expansion",
      "    @ ~/.julia/packages/Flux/BPPNj/src/optimise/train.jl:104 [inlined]",
      " [26] macro expansion",
      "    @ ~/.julia/packages/Juno/n6wyj/src/progress.jl:134 [inlined]",
      " [27] train!(loss::Function, ps::Zygote.Params, data::Vector{Tuple{Matrix{Float64}, Matrix{Float64}}}, opt::ADAM; cb::Flux.var\"#throttled#68\"{Flux.var\"#throttled#64#69\"{Bool, Bool, typeof(evalcb), Int64}})",
      "    @ Flux.Optimise ~/.julia/packages/Flux/BPPNj/src/optimise/train.jl:102",
      " [28] top-level scope",
      "    @ ./In[11]:3",
      " [29] eval",
      "    @ ./boot.jl:360 [inlined]",
      " [30] include_string(mapexpr::typeof(REPL.softscope), mod::Module, code::String, filename::String)",
      "    @ Base ./loading.jl:1116"
     ]
    }
   ],
   "source": [
    "while continue_training\n",
    "    batch = get_batch(R, training, 128)\n",
    "    Flux.train!(loss, ps, batch, opt, cb = throttled_cb)\n",
    "end"
   ]
  },
  {
   "cell_type": "code",
   "execution_count": null,
   "id": "8a214c26-9661-4756-85e3-086dad9e3c32",
   "metadata": {},
   "outputs": [],
   "source": [
    "# [ Debug: 20220123 14:44:04 validation rmse: 7.43"
   ]
  }
 ],
 "metadata": {
  "kernelspec": {
   "display_name": "Julia 1.6.3",
   "language": "julia",
   "name": "julia-1.6"
  },
  "language_info": {
   "file_extension": ".jl",
   "mimetype": "application/julia",
   "name": "julia",
   "version": "1.6.3"
  }
 },
 "nbformat": 4,
 "nbformat_minor": 5
}
