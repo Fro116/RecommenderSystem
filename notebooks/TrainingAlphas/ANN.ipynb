{
 "cells": [
  {
   "cell_type": "markdown",
   "id": "c3758ece-9b72-47b4-ae6a-aa364e0443e3",
   "metadata": {},
   "source": [
    "# Anime Neural Network\n",
    "* Based off of the candidate generator YouTube recommender system\n",
    "* See Section 3 of [Deep Neural Networks for YouTube Recommendations](https://static.googleusercontent.com/media/research.google.com/en//pubs/archive/45530.pdf) by Covington et al."
   ]
  },
  {
   "cell_type": "code",
   "execution_count": 1,
   "id": "7cc9334a-2287-41d6-885b-a5cca94fe263",
   "metadata": {},
   "outputs": [],
   "source": [
    "name = \"ANN\";\n",
    "residual_alphas = [\"UserItemBiases\"];"
   ]
  },
  {
   "cell_type": "code",
   "execution_count": 2,
   "id": "54170f91-c85c-4207-9939-572cad4db024",
   "metadata": {},
   "outputs": [],
   "source": [
    "using Flux # TODO add to readme\n",
    "import BSON"
   ]
  },
  {
   "cell_type": "code",
   "execution_count": 3,
   "id": "d17593ac-3260-4c01-a5df-91edfcd17e13",
   "metadata": {},
   "outputs": [],
   "source": [
    "using NBInclude\n",
    "@nbinclude(\"Alpha.ipynb\");"
   ]
  },
  {
   "cell_type": "code",
   "execution_count": 4,
   "id": "69280b1f-08cb-4b16-a19a-c85ead6e1f25",
   "metadata": {},
   "outputs": [],
   "source": [
    "BLAS.set_num_threads(Threads.nthreads())"
   ]
  },
  {
   "cell_type": "code",
   "execution_count": 5,
   "id": "08801fd4-7057-49f0-9fa7-9854d17494cc",
   "metadata": {},
   "outputs": [
    {
     "data": {
      "text/plain": [
       "gpu (generic function with 1 method)"
      ]
     },
     "execution_count": 5,
     "metadata": {},
     "output_type": "execute_result"
    }
   ],
   "source": [
    "device = gpu"
   ]
  },
  {
   "cell_type": "markdown",
   "id": "58cc7492-35fa-4516-a4af-7ebc12dbec75",
   "metadata": {},
   "source": [
    "## train on data"
   ]
  },
  {
   "cell_type": "code",
   "execution_count": 6,
   "id": "eb458301-7baa-4bd1-88c1-bd8c9193bebe",
   "metadata": {},
   "outputs": [],
   "source": [
    "training = get_residuals(\"training\", residual_alphas);\n",
    "const validation = get_residuals(\"validation\", residual_alphas)\n",
    "R = sparse(\n",
    "    training.user,\n",
    "    training.item,\n",
    "    training.rating,\n",
    "    maximum(training.user),\n",
    "    maximum(training.item),\n",
    ");"
   ]
  },
  {
   "cell_type": "code",
   "execution_count": 7,
   "id": "fd21001b-3626-4bf2-82aa-ba04ba89df00",
   "metadata": {},
   "outputs": [],
   "source": [
    "function get_data(R, split, j)\n",
    "    # inputs are the user's ratings for all shows (unseen shows get mapped to zero)\n",
    "    # labels are the user's predictions for a show they haven't seen before (all other shows get mapped to zero)\n",
    "    X = collect(R[split.user[j], :])\n",
    "    X[split.item[j]] = 0\n",
    "    Y = zeros(length(X))\n",
    "    Y[split.item[j]] = split.rating[j]\n",
    "\n",
    "    # use implicit feedback\n",
    "    X[X.!=0] .= 1\n",
    "    Y[split.item[j]] = 1\n",
    "\n",
    "    # normalize for embeddings\n",
    "    weight = sum(X .!= 0)\n",
    "    if weight == 0\n",
    "        weight = 1\n",
    "    end\n",
    "    X = X ./ weight\n",
    "\n",
    "    norm_weight = weight / size(R)[2]\n",
    "    push!(X, norm_weight)\n",
    "    push!(X, sqrt(norm_weight))\n",
    "    push!(X, norm_weight^2)\n",
    "    return (X, Y)\n",
    "end\n",
    "\n",
    "function get_batch(R, split, block_size)\n",
    "    items = rand(1:length(split.rating), block_size)\n",
    "    data = [[] for j = 1:Threads.nthreads()]\n",
    "    Threads.@threads for i = 1:length(items)\n",
    "        push!(data[Threads.threadid()], get_data(R, split, items[i]))\n",
    "    end\n",
    "    X = Flux.batch([data[t][i][1] for t = 1:Threads.nthreads() for i = 1:length(data[t])])\n",
    "    Y = Flux.batch([data[t][i][2] for t = 1:Threads.nthreads() for i = 1:length(data[t])])\n",
    "    [(X, Y)] |> device\n",
    "end;"
   ]
  },
  {
   "cell_type": "code",
   "execution_count": 8,
   "id": "110b7a2f-5927-4837-99f0-980bc72b5034",
   "metadata": {},
   "outputs": [],
   "source": [
    "# inputs are the user's ratings for all shows (unseen shows get mapped to zero)\n",
    "# labels are the user's predictions for all shows\n",
    "n_items = size(R)[2]\n",
    "m =\n",
    "    Chain(Dense(n_items + 3, 512, bias = false), Dense(512, 256), Dense(256, n_items)) |>\n",
    "    device\n",
    "ps = Flux.params(m);"
   ]
  },
  {
   "cell_type": "code",
   "execution_count": 9,
   "id": "2068c6b4-911b-400d-89ca-f7971d8de0dd",
   "metadata": {},
   "outputs": [],
   "source": [
    "loss(x, y) = Flux.logitcrossentropy(m(x), y)\n",
    "opt = ADAM();"
   ]
  },
  {
   "cell_type": "code",
   "execution_count": 10,
   "id": "580056a4-2187-4bda-be76-9c4a87bee43d",
   "metadata": {},
   "outputs": [],
   "source": [
    "function evalcb(R, split)\n",
    "    losses = []\n",
    "    @showprogress for epoch = 1:100\n",
    "        push!(losses, loss(get_batch(R, split, 128)[1]...))\n",
    "    end\n",
    "    mean(losses)\n",
    "end\n",
    "\n",
    "best_loss = Inf\n",
    "patience = 5\n",
    "iters_without_improvement = 0\n",
    "continue_training = true\n",
    "\n",
    "function evalcb()\n",
    "    # print losses and perform early stopping\n",
    "    @debug \"training rmse: $(evalcb(R, training))\"\n",
    "    loss = evalcb(R, validation)\n",
    "    @debug \"validation rmse: $(loss)\"\n",
    "    if loss < best_loss\n",
    "        global best_loss = loss\n",
    "        global iters_without_improvement = 0\n",
    "        BSON.@save \"../../data/alphas/$name/model2.bson\" m\n",
    "    else\n",
    "        global iters_without_improvement += 1\n",
    "        if iters_without_improvement >= patience\n",
    "            global continue_training = false\n",
    "        end\n",
    "    end\n",
    "end\n",
    "\n",
    "throttled_cb = Flux.throttle(evalcb, 600);"
   ]
  },
  {
   "cell_type": "code",
   "execution_count": null,
   "id": "17bda612-f8a6-4d0e-ad9a-358f8a19f06a",
   "metadata": {},
   "outputs": [
    {
     "name": "stderr",
     "output_type": "stream",
     "text": [
      "\u001b[32mProgress: 100%|█████████████████████████████████████████| Time: 0:00:43\u001b[39m\n",
      "\u001b[38;5;4m\u001b[1m[ \u001b[22m\u001b[39m\u001b[38;5;4m\u001b[1mDebug: \u001b[22m\u001b[39m20220123 22:07:43 training rmse: 9.739557147516525\n",
      "\u001b[32mProgress: 100%|█████████████████████████████████████████| Time: 0:00:43\u001b[39m\n",
      "\u001b[38;5;4m\u001b[1m[ \u001b[22m\u001b[39m\u001b[38;5;4m\u001b[1mDebug: \u001b[22m\u001b[39m20220123 22:08:26 validation rmse: 9.739575138773132\n"
     ]
    },
    {
     "name": "stdout",
     "output_type": "stream",
     "text": [
      "........................................................................................................................................................................................................................................................."
     ]
    },
    {
     "name": "stderr",
     "output_type": "stream",
     "text": [
      "\u001b[32mProgress: 100%|█████████████████████████████████████████| Time: 0:00:41\u001b[39m\n",
      "\u001b[38;5;4m\u001b[1m[ \u001b[22m\u001b[39m\u001b[38;5;4m\u001b[1mDebug: \u001b[22m\u001b[39m20220123 22:19:16 training rmse: 8.004313910859008\n",
      "\u001b[32mProgress: 100%|█████████████████████████████████████████| Time: 0:00:46\u001b[39m\n",
      "\u001b[38;5;4m\u001b[1m[ \u001b[22m\u001b[39m\u001b[38;5;4m\u001b[1mDebug: \u001b[22m\u001b[39m20220123 22:20:02 validation rmse: 8.012164434297599\n"
     ]
    },
    {
     "name": "stdout",
     "output_type": "stream",
     "text": [
      "........................................................................................................................................................................................................................."
     ]
    },
    {
     "name": "stderr",
     "output_type": "stream",
     "text": [
      "\u001b[32mProgress: 100%|█████████████████████████████████████████| Time: 0:00:42\u001b[39m\n",
      "\u001b[38;5;4m\u001b[1m[ \u001b[22m\u001b[39m\u001b[38;5;4m\u001b[1mDebug: \u001b[22m\u001b[39m20220123 22:31:33 validation rmse: 7.947437476041111\n"
     ]
    },
    {
     "name": "stdout",
     "output_type": "stream",
     "text": [
      "........................................................................................................................................................................................................................................................"
     ]
    },
    {
     "name": "stderr",
     "output_type": "stream",
     "text": [
      "\u001b[32mProgress: 100%|█████████████████████████████████████████| Time: 0:00:44\u001b[39m\n",
      "\u001b[38;5;4m\u001b[1m[ \u001b[22m\u001b[39m\u001b[38;5;4m\u001b[1mDebug: \u001b[22m\u001b[39m20220123 22:42:25 training rmse: 7.898439823690382\n",
      "\u001b[32mProgress: 100%|█████████████████████████████████████████| Time: 0:00:44\u001b[39m\n",
      "\u001b[38;5;4m\u001b[1m[ \u001b[22m\u001b[39m\u001b[38;5;4m\u001b[1mDebug: \u001b[22m\u001b[39m20220123 22:43:09 validation rmse: 7.882824163476446\n"
     ]
    },
    {
     "name": "stdout",
     "output_type": "stream",
     "text": [
      ".........................................................................................................................................................................................................................................................."
     ]
    },
    {
     "name": "stderr",
     "output_type": "stream",
     "text": [
      "\u001b[32mProgress: 100%|█████████████████████████████████████████| Time: 0:00:42\u001b[39m\n",
      "\u001b[38;5;4m\u001b[1m[ \u001b[22m\u001b[39m\u001b[38;5;4m\u001b[1mDebug: \u001b[22m\u001b[39m20220123 22:53:57 training rmse: 7.782846145133741\n",
      "\u001b[32mProgress: 100%|█████████████████████████████████████████| Time: 0:00:42\u001b[39m\n",
      "\u001b[38;5;4m\u001b[1m[ \u001b[22m\u001b[39m\u001b[38;5;4m\u001b[1mDebug: \u001b[22m\u001b[39m20220123 22:54:40 validation rmse: 7.790719926924785\n"
     ]
    },
    {
     "name": "stdout",
     "output_type": "stream",
     "text": [
      "......................................................................................................................................................................................................................................................."
     ]
    },
    {
     "name": "stderr",
     "output_type": "stream",
     "text": [
      "\u001b[32mProgress: 100%|█████████████████████████████████████████| Time: 0:00:44\u001b[39m\n",
      "\u001b[38;5;4m\u001b[1m[ \u001b[22m\u001b[39m\u001b[38;5;4m\u001b[1mDebug: \u001b[22m\u001b[39m20220123 23:05:31 training rmse: 7.759213185763251\n",
      "\u001b[32mProgress: 100%|█████████████████████████████████████████| Time: 0:00:44\u001b[39m\n",
      "\u001b[38;5;4m\u001b[1m[ \u001b[22m\u001b[39m\u001b[38;5;4m\u001b[1mDebug: \u001b[22m\u001b[39m20220123 23:06:16 validation rmse: 7.746149045326764\n"
     ]
    },
    {
     "name": "stdout",
     "output_type": "stream",
     "text": [
      "......................................................................................................................................................................................................................................................."
     ]
    },
    {
     "name": "stderr",
     "output_type": "stream",
     "text": [
      "\u001b[32mProgress: 100%|█████████████████████████████████████████| Time: 0:00:44\u001b[39m\n",
      "\u001b[38;5;4m\u001b[1m[ \u001b[22m\u001b[39m\u001b[38;5;4m\u001b[1mDebug: \u001b[22m\u001b[39m20220123 23:17:07 training rmse: 7.705097115181331\n",
      "\u001b[32mProgress: 100%|█████████████████████████████████████████| Time: 0:00:47\u001b[39m\n",
      "\u001b[38;5;4m\u001b[1m[ \u001b[22m\u001b[39m\u001b[38;5;4m\u001b[1mDebug: \u001b[22m\u001b[39m20220123 23:17:55 validation rmse: 7.668525186899019\n"
     ]
    },
    {
     "name": "stdout",
     "output_type": "stream",
     "text": [
      "........................................................................................................................................................................................................................................................"
     ]
    },
    {
     "name": "stderr",
     "output_type": "stream",
     "text": [
      "\u001b[32mProgress: 100%|█████████████████████████████████████████| Time: 0:00:41\u001b[39m\n",
      "\u001b[38;5;4m\u001b[1m[ \u001b[22m\u001b[39m\u001b[38;5;4m\u001b[1mDebug: \u001b[22m\u001b[39m20220123 23:28:44 training rmse: 7.673279044655659\n",
      "\u001b[32mProgress: 100%|█████████████████████████████████████████| Time: 0:00:42\u001b[39m\n",
      "\u001b[38;5;4m\u001b[1m[ \u001b[22m\u001b[39m\u001b[38;5;4m\u001b[1mDebug: \u001b[22m\u001b[39m20220123 23:29:27 validation rmse: 7.661411420840675\n"
     ]
    },
    {
     "name": "stdout",
     "output_type": "stream",
     "text": [
      "..............................................................................................................................................................................................."
     ]
    }
   ],
   "source": [
    "while continue_training\n",
    "    batch = get_batch(R, training, 128)\n",
    "    Flux.train!(loss, ps, batch, opt, cb = throttled_cb)\n",
    "end"
   ]
  },
  {
   "cell_type": "code",
   "execution_count": null,
   "id": "8a214c26-9661-4756-85e3-086dad9e3c32",
   "metadata": {},
   "outputs": [],
   "source": [
    "# [ Debug: 20220123 14:44:04 validation rmse: 7.43"
   ]
  }
 ],
 "metadata": {
  "kernelspec": {
   "display_name": "Julia 1.6.3",
   "language": "julia",
   "name": "julia-1.6"
  },
  "language_info": {
   "file_extension": ".jl",
   "mimetype": "application/julia",
   "name": "julia",
   "version": "1.6.3"
  }
 },
 "nbformat": 4,
 "nbformat_minor": 5
}
