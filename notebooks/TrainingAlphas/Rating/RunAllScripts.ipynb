{
 "cells": [
  {
   "cell_type": "markdown",
   "id": "a6dbd02a-2f10-4a5c-9b98-17606d0f4d8a",
   "metadata": {},
   "source": [
    "# Explicit\n",
    "* Creates a baseline for predicting what rating a user $u$ will give to an item $i$"
   ]
  },
  {
   "cell_type": "code",
   "execution_count": null,
   "id": "7df9b9d0-f4e3-4db9-b67d-799c100e8ab9",
   "metadata": {},
   "outputs": [],
   "source": [
    "import os\n",
    "\n",
    "import papermill as pm"
   ]
  },
  {
   "cell_type": "code",
   "execution_count": null,
   "id": "29cf8b63-b60b-49f8-89c1-23003c8b6aaf",
   "metadata": {},
   "outputs": [],
   "source": [
    "data_path = \"../../../data/papermill/training_alphas/explicit\"\n",
    "ALL_MEDIUMS = [\"manga\", \"anime\"]\n",
    "for medium in ALL_MEDIUMS:\n",
    "    fn = os.path.join(data_path, medium)\n",
    "    if not os.path.exists(fn):\n",
    "        os.makedirs(fn, exist_ok=True)"
   ]
  },
  {
   "cell_type": "code",
   "execution_count": null,
   "id": "e749c36b-c798-4b8e-9064-46133038ddd9",
   "metadata": {},
   "outputs": [],
   "source": [
    "def run_notebook(script):\n",
    "    for medium in ALL_MEDIUMS:\n",
    "        pm.execute_notebook(\n",
    "            script,\n",
    "            os.path.join(data_path, medium, script),\n",
    "            parameters=dict(medium=medium),\n",
    "        )"
   ]
  },
  {
   "cell_type": "code",
   "execution_count": null,
   "id": "77a603be-c28e-4d8f-a749-104c99bc1ad4",
   "metadata": {},
   "outputs": [],
   "source": [
    "run_notebook(\"Baseline.ipynb\")"
   ]
  },
  {
   "cell_type": "code",
   "execution_count": null,
   "id": "f7cd304b-1d38-442c-86c8-fd54301afe05",
   "metadata": {},
   "outputs": [],
   "source": [
    "print(\"Success!\")"
   ]
  }
 ],
 "metadata": {
  "kernelspec": {
   "display_name": "Python 3 (ipykernel)",
   "language": "python",
   "name": "python3"
  },
  "language_info": {
   "codemirror_mode": {
    "name": "ipython",
    "version": 3
   },
   "file_extension": ".py",
   "mimetype": "text/x-python",
   "name": "python",
   "nbconvert_exporter": "python",
   "pygments_lexer": "ipython3",
   "version": "3.10.12"
  }
 },
 "nbformat": 4,
 "nbformat_minor": 5
}
