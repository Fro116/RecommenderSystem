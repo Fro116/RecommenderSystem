{
 "cells": [
  {
   "cell_type": "markdown",
   "id": "c3758ece-9b72-47b4-ae6a-aa364e0443e3",
   "metadata": {},
   "source": [
    "# Baseline\n",
    "* Learns a user vector $u$ and an item vector $a$ and outputs $r_{ij} = u_i + a_j$\n",
    "* This can be computed efficiently via Alternating Least Squares"
   ]
  },
  {
   "cell_type": "code",
   "execution_count": null,
   "id": "cf5a648c-3734-4f43-b0a9-7814b36b7185",
   "metadata": {
    "tags": [
     "parameters"
    ]
   },
   "outputs": [],
   "source": [
    "medium = \"\""
   ]
  },
  {
   "cell_type": "code",
   "execution_count": null,
   "id": "df87db6f-667c-4bc2-9d48-7f4debe6750f",
   "metadata": {
    "tags": []
   },
   "outputs": [],
   "source": [
    "import NBInclude: @nbinclude\n",
    "@nbinclude(\"../Alpha.ipynb\");\n",
    "@nbinclude(\"BaselineHelper.ipynb\");"
   ]
  },
  {
   "cell_type": "code",
   "execution_count": null,
   "id": "1c8dd102-2824-4a3e-bea9-cad868b3ecdd",
   "metadata": {},
   "outputs": [],
   "source": [
    "const metric = \"rating\"\n",
    "const name = \"$medium/$metric/Baseline\"\n",
    "set_logging_outdir(name);"
   ]
  },
  {
   "cell_type": "markdown",
   "id": "02902a9b-bbde-4e2e-a2ee-19d27475fa56",
   "metadata": {},
   "source": [
    "# Training"
   ]
  },
  {
   "cell_type": "code",
   "execution_count": null,
   "id": "3273665f-1d61-46a4-8182-9d1c57d7f622",
   "metadata": {},
   "outputs": [],
   "source": [
    "training, validation = training_test_split(\n",
    "    get_split(\n",
    "        \"training\",\n",
    "        metric,\n",
    "        medium,\n",
    "        [:userid, :itemid, :rating, :update_order, :updated_at],\n",
    "    ),\n",
    "    1,\n",
    ");"
   ]
  },
  {
   "cell_type": "code",
   "execution_count": null,
   "id": "c1ad5e6a-7ccb-4886-b500-e57b86cb9e22",
   "metadata": {},
   "outputs": [],
   "source": [
    "# stop training once parameters have converged\n",
    "@kwdef mutable struct convergence_stopper\n",
    "    tolerance::AbstractFloat\n",
    "    max_iters::Int\n",
    "    params::AbstractVector\n",
    "    prev_params::AbstractVector\n",
    "    iters = 0\n",
    "end\n",
    "\n",
    "function convergence_stopper(tolerance; max_iters = Inf)\n",
    "    convergence_stopper(\n",
    "        tolerance = tolerance,\n",
    "        max_iters = max_iters,\n",
    "        params = [],\n",
    "        prev_params = [],\n",
    "    )\n",
    "end\n",
    "\n",
    "function stop!(x::convergence_stopper, params)\n",
    "    x.iters += 1\n",
    "    if x.iters > x.max_iters\n",
    "        return true\n",
    "    end\n",
    "\n",
    "    if x.iters == 1\n",
    "        x.params = deepcopy(params)\n",
    "        return false\n",
    "    end\n",
    "\n",
    "    function maxabs(a)\n",
    "        maximum(abs.(a))\n",
    "    end\n",
    "\n",
    "    x.prev_params = deepcopy(x.params)\n",
    "    x.params = deepcopy(params)\n",
    "    maximum(maxabs.(x.params - x.prev_params)) < x.tolerance\n",
    "end;"
   ]
  },
  {
   "cell_type": "code",
   "execution_count": null,
   "id": "335c5382-9c60-4fc6-a8cd-7a81ec12bc30",
   "metadata": {},
   "outputs": [],
   "source": [
    "@memoize get_training_counts(col) = get_counts(getfield(training, col))"
   ]
  },
  {
   "cell_type": "code",
   "execution_count": null,
   "id": "b03cf878-9bba-40b5-be35-1920f4afae70",
   "metadata": {},
   "outputs": [],
   "source": [
    "function train_model(training, stop_criteria, λ)\n",
    "    GC.gc()\n",
    "    λ_u, λ_a, λ_wu, λ_wa, λ_wt = λ\n",
    "    users, items, ratings = training.userid, training.itemid, training.rating\n",
    "    u = zeros(eltype(λ_u), num_users())\n",
    "    a = zeros(eltype(λ_a), num_items(medium))\n",
    "    weights = get_weights(λ_wu, λ_wa, λ_wt)\n",
    "\n",
    "    ρ_u = zeros(eltype(u), length(u), num_threads())\n",
    "    Ω_u = zeros(eltype(u), length(u), num_threads())\n",
    "    ρ_a = zeros(eltype(a), length(a), num_threads())\n",
    "    Ω_a = zeros(eltype(a), length(a), num_threads())\n",
    "\n",
    "    p = ProgressMeter.Progress(stop_criteria.max_iters)\n",
    "    while !stop!(stop_criteria, [u, a])\n",
    "        update_users!(users, items, ratings, weights, u, a, λ_u, ρ_u, Ω_u)\n",
    "        update_users!(items, users, ratings, weights, a, u, λ_a, ρ_a, Ω_a)\n",
    "        ProgressMeter.next!(p)\n",
    "    end\n",
    "    ProgressMeter.finish!(p)\n",
    "    u, a\n",
    "end;"
   ]
  },
  {
   "cell_type": "markdown",
   "id": "77a96f7c-dba1-4978-9fb8-b7ca32f297f7",
   "metadata": {},
   "source": [
    "# Optimize training hyperparameters"
   ]
  },
  {
   "cell_type": "code",
   "execution_count": null,
   "id": "c174fef4-e9d4-4fbd-a649-1159f8c07a3f",
   "metadata": {},
   "outputs": [],
   "source": [
    "@memoize function get_validation_weights()\n",
    "    powerdecay(get_counts(validation.userid), -1.0f0)\n",
    "end\n",
    "\n",
    "function validation_mse_and_beta(λ)\n",
    "    λ = exp.(λ)\n",
    "    stop_criteria = convergence_stopper(1e-6, max_iters = 16)\n",
    "    u, a = train_model(training, stop_criteria, λ)\n",
    "    x = make_prediction(validation.userid, validation.itemid, u, a)\n",
    "    y = validation.rating\n",
    "    w = get_validation_weights()\n",
    "    xw = (x .* sqrt.(w))\n",
    "    yw = (y .* sqrt.(w))\n",
    "    β = (xw'xw + 1f-9) \\ xw'yw\n",
    "    loss(x * β, y, w, metric), β\n",
    "end;\n",
    "\n",
    "validation_mse(λ) = validation_mse_and_beta(λ)[1];"
   ]
  },
  {
   "cell_type": "code",
   "execution_count": null,
   "id": "7d55df8c-06e5-4e8e-814c-41410685842d",
   "metadata": {
    "tags": []
   },
   "outputs": [],
   "source": [
    "res = Optim.optimize(\n",
    "    validation_mse,\n",
    "    fill(0.0f0, 5),\n",
    "    Optim.LBFGS(),\n",
    "    autodiff = :forward,\n",
    "    Optim.Options(\n",
    "        show_trace = true,\n",
    "        extended_trace = true,\n",
    "        iterations = 50,\n",
    "        time_limit = 3600 * 3,\n",
    "    ),\n",
    ");\n",
    "λ = exp.(Optim.minimizer(res));"
   ]
  },
  {
   "cell_type": "code",
   "execution_count": null,
   "id": "41c570e4-dba4-4e26-9e1c-abdf2436cf99",
   "metadata": {},
   "outputs": [],
   "source": [
    "mse, β = validation_mse_and_beta(Optim.minimizer(res))"
   ]
  },
  {
   "cell_type": "code",
   "execution_count": null,
   "id": "5e71e197-1810-46ac-9be5-4847747fce90",
   "metadata": {},
   "outputs": [],
   "source": [
    "@info \"The optimal λ, β is $λ, $β found in \" * repr(Optim.f_calls(res)) * \" function calls\""
   ]
  },
  {
   "cell_type": "code",
   "execution_count": null,
   "id": "d498a902-9201-43ba-bcee-da45ddc9479a",
   "metadata": {},
   "outputs": [],
   "source": [
    "# TODO used stored params from the prod environment"
   ]
  },
  {
   "cell_type": "markdown",
   "id": "7c291e04-b1ba-48a0-ac09-25eda75a6162",
   "metadata": {},
   "source": [
    "## Inference"
   ]
  },
  {
   "cell_type": "code",
   "execution_count": null,
   "id": "e73a509a-5b22-495e-b799-2b8a3d47ccf9",
   "metadata": {},
   "outputs": [],
   "source": [
    "training = get_split(\n",
    "    \"training\",\n",
    "    metric,\n",
    "    medium,\n",
    "    [:userid, :itemid, :rating, :update_order, :updated_at],\n",
    ");\n",
    "validation = nothing\n",
    "get_training_counts(col) = get_counts(getfield(training, col));"
   ]
  },
  {
   "cell_type": "code",
   "execution_count": null,
   "id": "781a2388-df56-42ce-8e58-b4a11a4e4d0b",
   "metadata": {},
   "outputs": [],
   "source": [
    "stop_criteria = convergence_stopper(1e-6, max_iters = 16)\n",
    "u, a = train_model(training, stop_criteria, λ);"
   ]
  },
  {
   "cell_type": "code",
   "execution_count": null,
   "id": "c4c83363-c309-46e5-ba51-252ad0d3871a",
   "metadata": {},
   "outputs": [],
   "source": [
    "write_params(Dict(\"u\" => u, \"a\" => a, \"λ\" => λ, \"β\" => β), name);"
   ]
  },
  {
   "cell_type": "code",
   "execution_count": null,
   "id": "5e875ccd-6437-4d8d-92c4-8c75a19bb97b",
   "metadata": {},
   "outputs": [],
   "source": [
    "model(users, items) = make_prediction(users, items, u, a)\n",
    "write_alpha(model, medium, name, [\"training\", \"validation\", \"test\", \"negative\"]);"
   ]
  },
  {
   "cell_type": "code",
   "execution_count": null,
   "id": "82dbf5d8-dc34-4671-a69f-dae745182c8c",
   "metadata": {},
   "outputs": [],
   "source": [
    "print_losses([name], metric, medium, [\"training\", \"validation\", \"test\"]);"
   ]
  }
 ],
 "metadata": {
  "kernelspec": {
   "display_name": "Julia 1.9.4",
   "language": "julia",
   "name": "julia-1.9"
  },
  "language_info": {
   "file_extension": ".jl",
   "mimetype": "application/julia",
   "name": "julia",
   "version": "1.9.4"
  }
 },
 "nbformat": 4,
 "nbformat_minor": 5
}
