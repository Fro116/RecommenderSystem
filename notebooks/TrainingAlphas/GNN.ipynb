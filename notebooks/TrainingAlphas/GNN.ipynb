{
 "cells": [
  {
   "cell_type": "markdown",
   "id": "c3758ece-9b72-47b4-ae6a-aa364e0443e3",
   "metadata": {},
   "source": [
    "# Generalized Neural Network\n",
    "* A denoising autoencoder that learns the user's ratings and implicit ratings"
   ]
  },
  {
   "cell_type": "code",
   "execution_count": 1,
   "id": "7cc9334a-2287-41d6-885b-a5cca94fe263",
   "metadata": {},
   "outputs": [],
   "source": [
    "name = \"GNN\";\n",
    "residual_alphas = [\"UserItemBiases\"];"
   ]
  },
  {
   "cell_type": "code",
   "execution_count": 2,
   "id": "54170f91-c85c-4207-9939-572cad4db024",
   "metadata": {},
   "outputs": [],
   "source": [
    "using Flux\n",
    "import BSON"
   ]
  },
  {
   "cell_type": "code",
   "execution_count": 3,
   "id": "d17593ac-3260-4c01-a5df-91edfcd17e13",
   "metadata": {},
   "outputs": [],
   "source": [
    "using NBInclude\n",
    "@nbinclude(\"Alpha.ipynb\");"
   ]
  },
  {
   "cell_type": "code",
   "execution_count": 4,
   "id": "69280b1f-08cb-4b16-a19a-c85ead6e1f25",
   "metadata": {},
   "outputs": [],
   "source": [
    "BLAS.set_num_threads(Threads.nthreads());"
   ]
  },
  {
   "cell_type": "code",
   "execution_count": 5,
   "id": "08801fd4-7057-49f0-9fa7-9854d17494cc",
   "metadata": {},
   "outputs": [],
   "source": [
    "device = gpu;"
   ]
  },
  {
   "cell_type": "markdown",
   "id": "638f2e93-80aa-4d4f-90ee-d70e3610cd13",
   "metadata": {},
   "source": [
    "## Data preparation"
   ]
  },
  {
   "cell_type": "code",
   "execution_count": 6,
   "id": "eb458301-7baa-4bd1-88c1-bd8c9193bebe",
   "metadata": {},
   "outputs": [],
   "source": [
    "const training = get_residuals(\"training\", residual_alphas)\n",
    "const validation = get_residuals(\"validation\", residual_alphas)\n",
    "# column accesses are faster than row accesses, so we make this an (item, user) matrix \n",
    "const R = sparse(\n",
    "    training.item,\n",
    "    training.user,\n",
    "    convert.(Float32, training.rating),\n",
    "    maximum(training.item) + 1,  # leave room for unseen users and items\n",
    "    maximum(training.user) + 1,\n",
    ");\n",
    "const n_items, n_users = size(R);"
   ]
  },
  {
   "cell_type": "code",
   "execution_count": 7,
   "id": "c1eed4a0-4b70-468c-acae-645742a69153",
   "metadata": {},
   "outputs": [
    {
     "name": "stderr",
     "output_type": "stream",
     "text": [
      "\u001b[32mProgress: 100%|███████████████████████████| Time: 0:00:01 ( 0.36 μs/it)\u001b[39m\n"
     ]
    }
   ],
   "source": [
    "counts = zeros(Float32, n_users, Threads.nthreads())\n",
    "@tprogress Threads.@threads for u in training.user\n",
    "    counts[u, Threads.threadid()] += 1\n",
    "end\n",
    "counts = sum(counts, dims = 2);"
   ]
  },
  {
   "cell_type": "code",
   "execution_count": 8,
   "id": "fd21001b-3626-4bf2-82aa-ba04ba89df00",
   "metadata": {},
   "outputs": [],
   "source": [
    "function get_data(R, split, j, train)\n",
    "    # inputs are the user's ratings (unseen shows get mapped to zero) + implicit ratings + heterogenous features\n",
    "    # during training, outputs are the user's ratings + implicit ratings \n",
    "    # during inference, outputs are the user's rating + implicit rating for a held out item on their list\n",
    "\n",
    "    # handle users and items that aren't in the training set\n",
    "    u = min(split.user[j], n_users)\n",
    "    i = min(split.item[j], n_items)\n",
    "\n",
    "    # ratings\n",
    "    X1 = collect(R[:, u])\n",
    "    X1[i] = 0\n",
    "    # implicit ratings\n",
    "    X2 = copy(X1)\n",
    "    X2[X2.!=0] .= 1\n",
    "    # heterogeneous features\n",
    "    count = convert(Float32, max(counts[u] - 1, 0) / n_items)\n",
    "    X3 = [count, sqrt(count), count^2]\n",
    "    X = vcat(X1, X2, X3)\n",
    "\n",
    "    # outputs\n",
    "    Y1 = zeros(eltype(X1), length(X1))\n",
    "    Y2 = zeros(eltype(X2), length(X2))\n",
    "    if train\n",
    "        mask = X2 .!= 0\n",
    "        Y1[mask] .= X1[mask]\n",
    "        Y2[mask] .= X2[mask]\n",
    "    else\n",
    "        Y1[i] = split.rating[j]\n",
    "        Y2[i] = 1\n",
    "    end\n",
    "\n",
    "    (X, Y1, Y2)\n",
    "end\n",
    "\n",
    "function get_batch(R, split, block_size, train)\n",
    "    items = rand(1:length(split.rating), block_size)\n",
    "    data = [[] for j = 1:Threads.nthreads()]\n",
    "    Threads.@threads for i = 1:length(items)\n",
    "        push!(data[Threads.threadid()], get_data(R, split, items[i], train))\n",
    "    end\n",
    "    X = Flux.batch([data[t][i][1] for t = 1:Threads.nthreads() for i = 1:length(data[t])])\n",
    "    Y1 = Flux.batch([data[t][i][2] for t = 1:Threads.nthreads() for i = 1:length(data[t])])\n",
    "    Y2 = Flux.batch([data[t][i][3] for t = 1:Threads.nthreads() for i = 1:length(data[t])])\n",
    "    [(X, (Y1, Y2))] |> device\n",
    "end;"
   ]
  },
  {
   "cell_type": "code",
   "execution_count": 9,
   "id": "ab185e90-4462-454e-9f1e-f776513e7a7b",
   "metadata": {},
   "outputs": [],
   "source": [
    "# custom split layer\n",
    "struct Split{T}\n",
    "    paths::T\n",
    "end\n",
    "Split(paths...) = Split(paths)\n",
    "Flux.@functor Split\n",
    "(m::Split)(x::AbstractArray) = map(f -> f(x), m.paths)"
   ]
  },
  {
   "cell_type": "code",
   "execution_count": 10,
   "id": "110b7a2f-5927-4837-99f0-980bc72b5034",
   "metadata": {},
   "outputs": [
    {
     "data": {
      "text/plain": [
       "Chain(\n",
       "  Dropout(0.5),\n",
       "  Chain(\n",
       "    Dense(33965, 512, relu),            \u001b[90m# 17_390_592 parameters\u001b[39m\n",
       "    Dense(512, 256, relu),              \u001b[90m# 131_328 parameters\u001b[39m\n",
       "    Dense(256, 128, relu),              \u001b[90m# 32_896 parameters\u001b[39m\n",
       "  ),\n",
       "  Split(\n",
       "    Tuple(\n",
       "      Chain(\n",
       "        Dense(128, 256, relu),          \u001b[90m# 33_024 parameters\u001b[39m\n",
       "        Dense(256, 512, relu),          \u001b[90m# 131_584 parameters\u001b[39m\n",
       "        Dense(512, 16981),              \u001b[90m# 8_711_253 parameters\u001b[39m\n",
       "      ),\n",
       "      Chain(\n",
       "        Dense(128, 256, relu),          \u001b[90m# 33_024 parameters\u001b[39m\n",
       "        Dense(256, 512, relu),          \u001b[90m# 131_584 parameters\u001b[39m\n",
       "        Dense(512, 16981),              \u001b[90m# 8_711_253 parameters\u001b[39m\n",
       "      ),\n",
       "    ),\n",
       "  ),\n",
       ")\u001b[90m                   # Total: 18 arrays, \u001b[39m35_306_538 parameters, 134.685 MiB."
      ]
     },
     "execution_count": 10,
     "metadata": {},
     "output_type": "execute_result"
    }
   ],
   "source": [
    "# inputs are the user's ratings for all shows (unseen shows get mapped to zero) + implicit ratings + heterogenous features\n",
    "# outputs are the user's ratings for all shows (unseen shows get mapped to zero), implicit ratings\n",
    "# we will train ratings using mse on observed shows, and implicit ratings via crossentropy loss\n",
    "n_items = size(R)[1]\n",
    "encoder = Chain(\n",
    "    Dense(n_items + n_items + 3, 512, relu),\n",
    "    Dense(512, 256, relu),\n",
    "    Dense(256, 128, relu),\n",
    ")\n",
    "rating_decoder = Chain(Dense(128, 256, relu), Dense(256, 512, relu), Dense(512, n_items))\n",
    "implicit_decoder = Chain(Dense(128, 256, relu), Dense(256, 512, relu), Dense(512, n_items))\n",
    "m = Chain(Dropout(0.5), encoder, Split(rating_decoder, implicit_decoder)) |> device\n",
    "ps = Flux.params(m);\n",
    "m"
   ]
  },
  {
   "cell_type": "markdown",
   "id": "a4988ea0-8a00-41f1-857f-6064ef3806a7",
   "metadata": {},
   "source": [
    "## Training"
   ]
  },
  {
   "cell_type": "code",
   "execution_count": 11,
   "id": "2068c6b4-911b-400d-89ca-f7971d8de0dd",
   "metadata": {},
   "outputs": [],
   "source": [
    "function rating_loss(ŷ, y)\n",
    "    # only compute loss on items the user has seen\n",
    "    mask = y .!= 0\n",
    "    Flux.mse(ŷ[mask], y[mask])\n",
    "end\n",
    "\n",
    "implicit_loss(ŷ, y) = Flux.logitcrossentropy(ŷ, y)\n",
    "\n",
    "function implicit_loss(ŷ, y, mask)\n",
    "    # we're predicting a held out series\n",
    "    # so we zero out items in the user's training set\n",
    "    ŷ[mask] .= -1e3\n",
    "    implicit_loss(ŷ, y)\n",
    "end\n",
    "\n",
    "function loss_components(x, y, train)\n",
    "    ŷ = m(x)\n",
    "    if train\n",
    "        return (rating_loss(ŷ[1], y[1]), implicit_loss(ŷ[2], y[2]))\n",
    "    else\n",
    "        mask = (x.!=0)[1:n_items, :]\n",
    "        return (rating_loss(ŷ[1], y[1]), implicit_loss(ŷ[2], y[2], mask))\n",
    "    end\n",
    "end;"
   ]
  },
  {
   "cell_type": "code",
   "execution_count": 12,
   "id": "d20f19ce-36f6-45a4-82f5-b560f62b0bb2",
   "metadata": {},
   "outputs": [],
   "source": [
    "opt = ADAM();"
   ]
  },
  {
   "cell_type": "code",
   "execution_count": 13,
   "id": "2be3fd86-8685-42b7-9061-d82f1a4a6064",
   "metadata": {},
   "outputs": [],
   "source": [
    "# best_loss = Inf\n",
    "# patience = 10\n",
    "# iters_without_improvement = 0\n",
    "# continue_training = true\n",
    "# iters = 0\n",
    "\n",
    "# function evalcb(R, split, train)\n",
    "#     losses = []\n",
    "#     @showprogress for epoch = 1:100\n",
    "#         push!(losses, loss_components(get_batch(R, split, 128, train)[1]..., train))\n",
    "#     end\n",
    "#     reduce(.+, losses) ./ length(losses)\n",
    "# end\n",
    "\n",
    "# const training_baseline_loss = evalcb(R, training, true)\n",
    "# const inference_baseline_loss = evalcb(R, training, false);\n",
    "# function loss(x, y)\n",
    "#     sum(loss_components(x, y, true) ./ training_baseline_loss)\n",
    "# end\n",
    "\n",
    "# function evalcb()\n",
    "#     # print losses and perform early stopping\n",
    "#     testmode!(m)\n",
    "#     @debug \"iteration: $iters\"\n",
    "#     training_losses = evalcb(R, training, true)\n",
    "#     training_loss = sum(training_losses ./ training_baseline_loss)\n",
    "#     @debug \"training losses: $(training_losses) -> $(training_loss)\"\n",
    "#     inference_losses = evalcb(R, validation, false)\n",
    "#     loss = sum(inference_losses ./ inference_baseline_loss)\n",
    "#     @debug \"validation losses: $(inference_losses) -> $(loss)\"\n",
    "#     if loss < best_loss\n",
    "#         global best_loss = loss\n",
    "#         global iters_without_improvement = 0\n",
    "#         BSON.@save \"../../data/alphas/$name/model.bson\" m\n",
    "#     else\n",
    "#         global iters_without_improvement += 1\n",
    "#         if iters_without_improvement >= patience\n",
    "#             global continue_training = false\n",
    "#         end\n",
    "#     end\n",
    "#     trainmode!(m)\n",
    "# end\n",
    "\n",
    "# throttled_cb = Flux.throttle(evalcb, 600);"
   ]
  },
  {
   "cell_type": "code",
   "execution_count": 14,
   "id": "17bda612-f8a6-4d0e-ad9a-358f8a19f06a",
   "metadata": {
    "tags": []
   },
   "outputs": [],
   "source": [
    "# while continue_training\n",
    "#     batch = get_batch(R, training, 128, true)\n",
    "#     Flux.train!(loss, ps, batch, opt, cb = throttled_cb)\n",
    "#     iters += 1\n",
    "# end"
   ]
  },
  {
   "cell_type": "markdown",
   "id": "bbdd719b-7f8b-491e-bafa-8aa56a9545e3",
   "metadata": {
    "tags": []
   },
   "source": [
    "## Write predictions"
   ]
  },
  {
   "cell_type": "code",
   "execution_count": 15,
   "id": "ceec8522-af45-44ab-a398-afba5f255efa",
   "metadata": {},
   "outputs": [],
   "source": [
    "function get_data(R, u)\n",
    "    # ratings\n",
    "    X1 = collect(R[:, u])\n",
    "    # implicit ratings\n",
    "    X2 = copy(X1)\n",
    "    X2[X2.!=0] .= 1\n",
    "    # heterogeneous features\n",
    "    count = convert(Float32, max(counts[u] - 1, 0) / n_items)\n",
    "    X3 = [count, sqrt(count), count^2]\n",
    "    vcat(X1, X2, X3)\n",
    "end\n",
    "\n",
    "function get_batch(R, users)\n",
    "    data = [[] for j = 1:Threads.nthreads()]\n",
    "    Threads.@threads for i = 1:length(users)\n",
    "        push!(data[Threads.threadid()], get_data(R, users[i]))\n",
    "    end\n",
    "    X = Flux.batch([data[t][i] for t = 1:Threads.nthreads() for i = 1:length(data[t])])\n",
    "    X |> device\n",
    "end;"
   ]
  },
  {
   "cell_type": "code",
   "execution_count": 34,
   "id": "3af0b836-f8dd-4a6d-b9d1-c20f1d518bd7",
   "metadata": {},
   "outputs": [],
   "source": [
    "function gmodel(users, items)\n",
    "    ratings = zeros(length(users))\n",
    "    implicit = zeros(length(users))\n",
    "    deduped_users = collect(Set(users))\n",
    "    batch(arr, n) = [arr[i:min(i + n - 1, end)] for i = 1:n:length(arr)]\n",
    "    batches = batch(deduped_users, 128)\n",
    "    @tprogress Threads.@threads for i = 1:length(batches)\n",
    "        b = batches[i]\n",
    "        alpha = m(get_batch(R, b)) |> cpu\n",
    "        user_to_idx = Dict(zip(b, 1:length(b)))\n",
    "        for j = 1:length(users)\n",
    "            if users[j] in keys(user_to_idx)\n",
    "                idx = user_to_idx[users[j]]\n",
    "                ratings[j] = alpha[1][items[j], idx]\n",
    "                implicit[j] = alpha[2][items[j], idx]\n",
    "            end\n",
    "        end\n",
    "    end\n",
    "    ratings, implicit\n",
    "end;"
   ]
  },
  {
   "cell_type": "code",
   "execution_count": 17,
   "id": "522022d5-6a7d-481b-8452-3ca7d2d6bb24",
   "metadata": {},
   "outputs": [],
   "source": [
    "BSON.@load \"../../data/alphas/$name/model.bson\" m\n",
    "testmode!(m);\n",
    "BLAS.set_num_threads(1) # gmodel internally multithreads"
   ]
  },
  {
   "cell_type": "code",
   "execution_count": 37,
   "id": "f81365ee-5160-4487-892f-ff1fb67a3fcf",
   "metadata": {
    "collapsed": true,
    "jupyter": {
     "outputs_hidden": true
    },
    "tags": []
   },
   "outputs": [
    {
     "name": "stderr",
     "output_type": "stream",
     "text": [
      "\u001b[32mProgress:   9%|██▍                        |  ETA: 0:08:29 ( 2.52  s/it)\u001b[39m"
     ]
    },
    {
     "ename": "LoadError",
     "evalue": "TaskFailedException\n\n\u001b[91m    nested task error: \u001b[39mInterruptException:\n    Stacktrace:\n     [1] \u001b[0m\u001b[1mmacro expansion\u001b[22m\n    \u001b[90m   @ \u001b[39m\u001b[90m./\u001b[39m\u001b[90;4mIn[36]:15\u001b[0m\u001b[90m [inlined]\u001b[39m\n     [2] \u001b[0m\u001b[1m(::var\"#979#threadsfor_fun#61\"{Vector{Int64}, Vector{Int64}, Vector{Vector{Int64}}, Vector{Float64}, Vector{Float64}, UnitRange{Int64}})\u001b[22m\u001b[0m\u001b[1m(\u001b[22m\u001b[90monethread\u001b[39m::\u001b[0mBool\u001b[0m\u001b[1m)\u001b[22m\n    \u001b[90m   @ \u001b[39m\u001b[35mMain\u001b[39m \u001b[90m./\u001b[39m\u001b[90;4mthreadingconstructs.jl:81\u001b[0m\n     [3] \u001b[0m\u001b[1m(::var\"#979#threadsfor_fun#61\"{Vector{Int64}, Vector{Int64}, Vector{Vector{Int64}}, Vector{Float64}, Vector{Float64}, UnitRange{Int64}})\u001b[22m\u001b[0m\u001b[1m(\u001b[22m\u001b[0m\u001b[1m)\u001b[22m\n    \u001b[90m   @ \u001b[39m\u001b[35mMain\u001b[39m \u001b[90m./\u001b[39m\u001b[90;4mthreadingconstructs.jl:48\u001b[0m",
     "output_type": "error",
     "traceback": [
      "TaskFailedException\n\n\u001b[91m    nested task error: \u001b[39mInterruptException:\n    Stacktrace:\n     [1] \u001b[0m\u001b[1mmacro expansion\u001b[22m\n    \u001b[90m   @ \u001b[39m\u001b[90m./\u001b[39m\u001b[90;4mIn[36]:15\u001b[0m\u001b[90m [inlined]\u001b[39m\n     [2] \u001b[0m\u001b[1m(::var\"#979#threadsfor_fun#61\"{Vector{Int64}, Vector{Int64}, Vector{Vector{Int64}}, Vector{Float64}, Vector{Float64}, UnitRange{Int64}})\u001b[22m\u001b[0m\u001b[1m(\u001b[22m\u001b[90monethread\u001b[39m::\u001b[0mBool\u001b[0m\u001b[1m)\u001b[22m\n    \u001b[90m   @ \u001b[39m\u001b[35mMain\u001b[39m \u001b[90m./\u001b[39m\u001b[90;4mthreadingconstructs.jl:81\u001b[0m\n     [3] \u001b[0m\u001b[1m(::var\"#979#threadsfor_fun#61\"{Vector{Int64}, Vector{Int64}, Vector{Vector{Int64}}, Vector{Float64}, Vector{Float64}, UnitRange{Int64}})\u001b[22m\u001b[0m\u001b[1m(\u001b[22m\u001b[0m\u001b[1m)\u001b[22m\n    \u001b[90m   @ \u001b[39m\u001b[35mMain\u001b[39m \u001b[90m./\u001b[39m\u001b[90;4mthreadingconstructs.jl:48\u001b[0m",
      "",
      "Stacktrace:",
      " [1] wait",
      "   @ ./task.jl:322 [inlined]",
      " [2] threading_run(func::Function)",
      "   @ Base.Threads ./threadingconstructs.jl:34",
      " [3] macro expansion",
      "   @ ./threadingconstructs.jl:93 [inlined]",
      " [4] macro expansion",
      "   @ ~/RecommenderSystem/notebooks/TrainingAlphas/Alpha.ipynb:In[+4]:13 [inlined]",
      " [5] gmodel(users::Vector{Int64}, items::Vector{Int64})",
      "   @ Main ./In[36]:7",
      " [6] top-level scope",
      "   @ In[37]:2",
      " [7] eval",
      "   @ ./boot.jl:360 [inlined]",
      " [8] include_string(mapexpr::typeof(REPL.softscope), mod::Module, code::String, filename::String)",
      "   @ Base ./loading.jl:1116"
     ]
    }
   ],
   "source": [
    "full_df = reduce(cat, [training, validation, get_residuals(\"test\", residual_alphas)]);\n",
    "ratings, implicit = gmodel(full_df.user, full_df.item)\n",
    "sparse_preds = sparse(full_df.user, full_df.item, ratings);"
   ]
  },
  {
   "cell_type": "code",
   "execution_count": 30,
   "id": "9327642b-9991-44d5-ab0c-7ce6033d461d",
   "metadata": {},
   "outputs": [],
   "source": [
    "function model(users, items)\n",
    "    preds = zeros(length(users))\n",
    "    @tprogress Threads.@threads for j = 1:length(preds)\n",
    "        preds[j] = sparse_preds[users[j], items[j]]\n",
    "    end\n",
    "    preds\n",
    "end;"
   ]
  },
  {
   "cell_type": "code",
   "execution_count": 31,
   "id": "f99721ec-38ea-40cf-bbb7-d2ff9128f361",
   "metadata": {},
   "outputs": [
    {
     "name": "stderr",
     "output_type": "stream",
     "text": [
      "\u001b[32mProgress: 100%|███████████████████████████| Time: 0:00:06 ( 1.57 μs/it)\u001b[39m\n",
      "\u001b[38;5;6m\u001b[1m[ \u001b[22m\u001b[39m\u001b[38;5;6m\u001b[1mInfo: \u001b[22m\u001b[39m20220128 19:17:17 training set: RMSE 1.0727818466225378 MAE 0.794094792337937 R2 0.3124673599625506\n",
      "\u001b[32mProgress: 100%|███████████████████████████| Time: 0:00:00 ( 1.36 μs/it)\u001b[39m\n",
      "\u001b[38;5;6m\u001b[1m[ \u001b[22m\u001b[39m\u001b[38;5;6m\u001b[1mInfo: \u001b[22m\u001b[39m20220128 19:17:19 validation set: RMSE 1.1790108198041087 MAE 0.8694588002806078 R2 0.18144326004122924\n",
      "\u001b[32mProgress: 100%|███████████████████████████| Time: 0:00:00 ( 1.36 μs/it)\u001b[39m\n"
     ]
    }
   ],
   "source": [
    "write_predictions(model, save_training = true)"
   ]
  },
  {
   "cell_type": "code",
   "execution_count": null,
   "id": "ce5b5c7c-14d5-4dff-a7c8-d431a2d99444",
   "metadata": {},
   "outputs": [],
   "source": []
  }
 ],
 "metadata": {
  "kernelspec": {
   "display_name": "Julia 1.6.3",
   "language": "julia",
   "name": "julia-1.6"
  },
  "language_info": {
   "file_extension": ".jl",
   "mimetype": "application/julia",
   "name": "julia",
   "version": "1.6.3"
  }
 },
 "nbformat": 4,
 "nbformat_minor": 5
}
