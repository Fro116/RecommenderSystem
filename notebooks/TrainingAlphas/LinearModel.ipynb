{
 "cells": [
  {
   "cell_type": "markdown",
   "id": "2df5351f-2171-4365-b750-8984d42c5fe5",
   "metadata": {},
   "source": [
    "# LinearModel\n",
    "* TODO document"
   ]
  },
  {
   "cell_type": "code",
   "execution_count": 1,
   "id": "69b5a19a-24f5-4730-afe2-f451d27d18e3",
   "metadata": {},
   "outputs": [],
   "source": [
    "import SparseArrays: sparse\n",
    "import NBInclude:@nbinclude\n",
    "@nbinclude(\"Alpha.ipynb\");"
   ]
  },
  {
   "cell_type": "markdown",
   "id": "add8b6e4-e53d-4f2b-9183-df18f637b182",
   "metadata": {},
   "source": [
    "## Training"
   ]
  },
  {
   "cell_type": "code",
   "execution_count": 2,
   "id": "e14bda77-a7a8-4e50-b6c6-7a0f07ee4e46",
   "metadata": {},
   "outputs": [],
   "source": [
    "function save_linear_model(alphas, implicit, outdir)\n",
    "    set_logging_outdir(outdir)\n",
    "    _, β = regress(alphas, implicit)\n",
    "    @info \"alphas: $alphas\"\n",
    "    @info \"coefficients: $β\"\n",
    "    write_params(Dict(\"β\" => β, \"alphas\" => alphas), outdir)\n",
    "\n",
    "    splits = []\n",
    "    @showprogress for split in all_raw_splits\n",
    "        push!(splits, read_alpha(alphas, split, implicit))\n",
    "    end\n",
    "    splits = reduce(cat, splits)\n",
    "    preds = sparse(splits.user, splits.item, splits.rating)\n",
    "    write_alpha(preds, [], implicit, outdir)\n",
    "end;"
   ]
  },
  {
   "cell_type": "code",
   "execution_count": 3,
   "id": "fe4ad27b-d09d-4679-8632-fc880fa82503",
   "metadata": {},
   "outputs": [
    {
     "name": "stderr",
     "output_type": "stream",
     "text": [
      "\u001b[38;5;6m\u001b[1m[ \u001b[22m\u001b[39m\u001b[38;5;6m\u001b[1mInfo: \u001b[22m\u001b[39m20220618 14:11:02 alphas: [\"NeuralExplicitUserItemBiases\", \"NeuralExplicitMatrixFactorization\"]\n",
      "\u001b[38;5;6m\u001b[1m[ \u001b[22m\u001b[39m\u001b[38;5;6m\u001b[1mInfo: \u001b[22m\u001b[39m20220618 14:11:02 coefficients: Float32[0.9713958, 0.8623364]\n",
      "\u001b[32mProgress: 100%|█████████████████████████████████████████| Time: 0:00:05\u001b[39m\n",
      "\u001b[32mProgress: 100%|███████████████████████████| Time: 0:00:00 ( 1.32 μs/it)\u001b[39m\n",
      "\u001b[38;5;6m\u001b[1m[ \u001b[22m\u001b[39m\u001b[38;5;6m\u001b[1mInfo: \u001b[22m\u001b[39m20220618 14:11:19 validation loss: 1.5922430031272807, β: [0.9999975633810728]\n",
      "\u001b[32mProgress: 100%|███████████████████████████| Time: 0:00:07 ( 1.24 μs/it)\u001b[39m\n",
      "\u001b[38;5;6m\u001b[1m[ \u001b[22m\u001b[39m\u001b[38;5;6m\u001b[1mInfo: \u001b[22m\u001b[39m20220618 14:11:29 training loss: 0.8527002983969056, β: [0.9999975633810728]\n",
      "\u001b[32mProgress: 100%|███████████████████████████| Time: 0:00:07 ( 1.24 μs/it)\u001b[39m\n",
      "\u001b[32mProgress: 100%|███████████████████████████| Time: 0:00:00 ( 1.26 μs/it)\u001b[39m\n",
      "\u001b[32mProgress: 100%|███████████████████████████| Time: 0:00:00 ( 0.98 μs/it)\u001b[39m\n",
      "\u001b[32mProgress: 100%|███████████████████████████| Time: 0:00:02 ( 1.24 μs/it)\u001b[39m\n",
      "\u001b[32mProgress: 100%|███████████████████████████| Time: 0:00:00 ( 1.29 μs/it)\u001b[39m\n",
      "\u001b[32mProgress: 100%|███████████████████████████| Time: 0:00:00 ( 1.27 μs/it)\u001b[39m\n",
      "\u001b[32mProgress: 100%|███████████████████████████| Time: 0:00:00 ( 0.85 μs/it)\u001b[39m\n"
     ]
    }
   ],
   "source": [
    "save_linear_model(\n",
    "    [\n",
    "        \"NeuralExplicitUserItemBiases\"\n",
    "        \"NeuralExplicitMatrixFactorization\"\n",
    "    ],\n",
    "    false,\n",
    "    \"LinearExplicit\",\n",
    ");"
   ]
  },
  {
   "cell_type": "code",
   "execution_count": 4,
   "id": "e785584f-ed89-4462-aa3c-b62e923b9f56",
   "metadata": {},
   "outputs": [
    {
     "name": "stdout",
     "output_type": "stream",
     "text": [
      "Iter     Function value   Gradient norm \n",
      "     0     7.012039e+00     2.986811e-01\n",
      " * time: 0.008477926254272461\n",
      "     1     6.694549e+00     1.830240e-01\n",
      " * time: 1.6273880004882812\n",
      "     2     6.518383e+00     4.556889e-02\n",
      " * time: 2.8204710483551025\n",
      "     3     6.489176e+00     1.598779e-02\n",
      " * time: 3.969212055206299\n",
      "     4     6.479170e+00     5.289834e-03\n",
      " * time: 5.1479058265686035\n",
      "     5     6.475873e+00     1.709572e-03\n",
      " * time: 6.398715972900391\n",
      "     6     6.474850e+00     6.240392e-04\n",
      " * time: 7.6006858348846436\n",
      "     7     6.474850e+00     6.240392e-04\n",
      " * time: 7.807212829589844\n",
      "     8     6.474850e+00     6.240392e-04\n",
      " * time: 8.012640953063965\n",
      "     9     6.474850e+00     6.240392e-04\n",
      " * time: 8.228134870529175\n",
      "    10     6.474545e+00     2.954110e-04\n",
      " * time: 9.390722036361694\n",
      "    11     6.474363e+00     1.074457e-04\n",
      " * time: 10.565124988555908\n",
      "    12     6.474363e+00     1.074457e-04\n",
      " * time: 10.808977842330933\n",
      "    13     6.474311e+00     5.335621e-05\n",
      " * time: 11.948745012283325\n",
      "    14     6.474311e+00     5.335621e-05\n",
      " * time: 12.196248054504395\n",
      "    15     6.474297e+00     3.776636e-05\n",
      " * time: 13.356367826461792\n",
      "    16     6.474271e+00     2.193039e-05\n",
      " * time: 14.537466049194336\n",
      "    17     6.474262e+00     6.294274e-06\n",
      " * time: 15.717841863632202\n",
      "    18     6.474260e+00     1.925468e-06\n",
      " * time: 16.89839482307434\n",
      "    19     6.474260e+00     1.925468e-06\n",
      " * time: 17.149399995803833\n",
      "    20     6.474260e+00     1.925468e-06\n",
      " * time: 17.357167959213257\n",
      "    21     6.474259e+00     1.374964e-06\n",
      " * time: 18.514117002487183\n",
      "    22     6.474258e+00     7.484287e-07\n",
      " * time: 19.67723298072815\n"
     ]
    },
    {
     "name": "stderr",
     "output_type": "stream",
     "text": [
      "\u001b[38;5;6m\u001b[1m[ \u001b[22m\u001b[39m\u001b[38;5;6m\u001b[1mInfo: \u001b[22m\u001b[39m20220618 14:12:15 alphas: [\"NeuralImplicitUserItemBiases\", \"NeuralImplicitMatrixFactorization\"]\n",
      "\u001b[38;5;6m\u001b[1m[ \u001b[22m\u001b[39m\u001b[38;5;6m\u001b[1mInfo: \u001b[22m\u001b[39m20220618 14:12:15 coefficients: Float32[0.0016299975, 0.9983689, 1.0438177f-6]\n",
      "\u001b[32mProgress: 100%|█████████████████████████████████████████| Time: 0:00:06\u001b[39m\n",
      "\u001b[32mProgress: 100%|███████████████████████████| Time: 0:00:01 ( 1.29 μs/it)\u001b[39m\n"
     ]
    },
    {
     "name": "stdout",
     "output_type": "stream",
     "text": [
      "Iter     Function value   Gradient norm \n",
      "     0     7.054874e+00     4.177893e-01\n",
      " * time: 2.7179718017578125e-5\n",
      "     1     6.653718e+00     1.651465e-01\n",
      " * time: 1.2864570617675781\n",
      "     2     6.519841e+00     4.566379e-02\n",
      " * time: 2.5534591674804688\n",
      "     3     6.485129e+00     1.108082e-02\n",
      " * time: 3.867856025695801\n",
      "     4     6.476834e+00     2.615900e-03\n",
      " * time: 5.112223148345947\n",
      "     5     6.474874e+00     6.209741e-04\n",
      " * time: 6.42339301109314\n",
      "     6     6.474407e+00     1.490833e-04\n",
      " * time: 7.766583204269409\n",
      "     7     6.474294e+00     3.606670e-05\n",
      " * time: 9.025482177734375\n",
      "     8     6.474267e+00     8.755289e-06\n",
      " * time: 10.356498003005981\n",
      "     9     6.474260e+00     2.127723e-06\n",
      " * time: 11.59811019897461\n",
      "    10     6.474258e+00     5.172350e-07\n",
      " * time: 12.90750503540039\n"
     ]
    },
    {
     "name": "stderr",
     "output_type": "stream",
     "text": [
      "\u001b[38;5;6m\u001b[1m[ \u001b[22m\u001b[39m\u001b[38;5;6m\u001b[1mInfo: \u001b[22m\u001b[39m20220618 14:12:48 validation loss: 6.474258542625141, β: Float32[7.213537f-7, 0.9999993]\n",
      "\u001b[32mProgress: 100%|███████████████████████████| Time: 0:00:09 ( 1.25 μs/it)\u001b[39m\n",
      "\u001b[32mProgress: 100%|███████████████████████████| Time: 0:00:00 (12.95 ns/it)\u001b[39m\n",
      "\u001b[38;5;6m\u001b[1m[ \u001b[22m\u001b[39m\u001b[38;5;6m\u001b[1mInfo: \u001b[22m\u001b[39m20220618 14:13:02 training loss: 5.803006642547382, β: Float32[7.213537f-7, 0.9999993]\n",
      "\u001b[32mProgress: 100%|███████████████████████████| Time: 0:00:07 ( 1.25 μs/it)\u001b[39m\n",
      "\u001b[32mProgress: 100%|███████████████████████████| Time: 0:00:00 ( 1.34 μs/it)\u001b[39m\n",
      "\u001b[32mProgress: 100%|███████████████████████████| Time: 0:00:00 ( 1.28 μs/it)\u001b[39m\n",
      "\u001b[32mProgress: 100%|███████████████████████████| Time: 0:00:02 ( 1.24 μs/it)\u001b[39m\n",
      "\u001b[32mProgress: 100%|███████████████████████████| Time: 0:00:00 ( 1.29 μs/it)\u001b[39m\n",
      "\u001b[32mProgress: 100%|███████████████████████████| Time: 0:00:00 ( 1.28 μs/it)\u001b[39m\n",
      "\u001b[32mProgress: 100%|███████████████████████████| Time: 0:00:00 ( 0.85 μs/it)\u001b[39m\n"
     ]
    }
   ],
   "source": [
    "save_linear_model(\n",
    "    [\n",
    "        \"NeuralImplicitUserItemBiases\"\n",
    "        \"NeuralImplicitMatrixFactorization\"\n",
    "    ],\n",
    "    true,\n",
    "    \"LinearImplicit\",\n",
    ");"
   ]
  }
 ],
 "metadata": {
  "kernelspec": {
   "display_name": "Julia 1.8.0-rc1",
   "language": "julia",
   "name": "julia-1.8"
  },
  "language_info": {
   "file_extension": ".jl",
   "mimetype": "application/julia",
   "name": "julia",
   "version": "1.8.0"
  }
 },
 "nbformat": 4,
 "nbformat_minor": 5
}
