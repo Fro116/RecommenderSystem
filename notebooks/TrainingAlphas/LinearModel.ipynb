{
 "cells": [
  {
   "cell_type": "markdown",
   "id": "2df5351f-2171-4365-b750-8984d42c5fe5",
   "metadata": {},
   "source": [
    "# LinearModel\n",
    "* TODO document"
   ]
  },
  {
   "cell_type": "code",
   "execution_count": 1,
   "id": "69b5a19a-24f5-4730-afe2-f451d27d18e3",
   "metadata": {},
   "outputs": [],
   "source": [
    "import SparseArrays: sparse\n",
    "import NBInclude:@nbinclude\n",
    "@nbinclude(\"Alpha.ipynb\");"
   ]
  },
  {
   "cell_type": "markdown",
   "id": "add8b6e4-e53d-4f2b-9183-df18f637b182",
   "metadata": {},
   "source": [
    "## Training"
   ]
  },
  {
   "cell_type": "code",
   "execution_count": 2,
   "id": "e14bda77-a7a8-4e50-b6c6-7a0f07ee4e46",
   "metadata": {},
   "outputs": [],
   "source": [
    "function save_linear_model(alphas, implicit, outdir)\n",
    "    set_logging_outdir(outdir)\n",
    "    _, β = regress(alphas, implicit)\n",
    "    @info \"alphas: $alphas\"\n",
    "    @info \"coefficients: $β\"\n",
    "    write_params(Dict(\"β\" => β, \"alphas\" => alphas), outdir)\n",
    "\n",
    "    splits = []\n",
    "    @showprogress for split in all_splits\n",
    "        push!(splits, read_alpha(alphas, split, implicit))\n",
    "    end\n",
    "    splits = reduce(cat, splits)\n",
    "    preds = sparse(splits.user, splits.item, splits.rating)\n",
    "    write_alpha(preds, [], implicit, outdir)\n",
    "end;"
   ]
  },
  {
   "cell_type": "code",
   "execution_count": 3,
   "id": "fe4ad27b-d09d-4679-8632-fc880fa82503",
   "metadata": {},
   "outputs": [
    {
     "name": "stderr",
     "output_type": "stream",
     "text": [
      "\u001b[32mProgress: 100%|███████████████████████████| Time: 0:00:00 ( 0.12 μs/it)\u001b[39m\n",
      "\u001b[38;5;6m\u001b[1m[ \u001b[22m\u001b[39m\u001b[38;5;6m\u001b[1mInfo: \u001b[22m\u001b[39m20220607 10:15:56 alphas: [\"SimpleAverage\", \"SimpleExplicitBaseline\", \"UserItemBiases\"]\n",
      "\u001b[38;5;6m\u001b[1m[ \u001b[22m\u001b[39m\u001b[38;5;6m\u001b[1mInfo: \u001b[22m\u001b[39m20220607 10:15:57 coefficients: Float32[0.004033998, -0.03239255, 1.0309054]\n",
      "\u001b[32mProgress: 100%|█████████████████████████████████████████| Time: 0:00:14\u001b[39m\n",
      "\u001b[32mProgress: 100%|███████████████████████████| Time: 0:00:02 ( 0.64 μs/it)\u001b[39m\n",
      "\u001b[38;5;6m\u001b[1m[ \u001b[22m\u001b[39m\u001b[38;5;6m\u001b[1mInfo: \u001b[22m\u001b[39m20220607 10:16:41 validation loss: 1.807851621446816, β: [1.0000047885910042]\n",
      "\u001b[32mProgress: 100%|███████████████████████████| Time: 0:00:18 ( 0.53 μs/it)\u001b[39m\n",
      "\u001b[32mProgress: 100%|███████████████████████████| Time: 0:00:00 (24.16 ns/it)\u001b[39m\n",
      "\u001b[38;5;6m\u001b[1m[ \u001b[22m\u001b[39m\u001b[38;5;6m\u001b[1mInfo: \u001b[22m\u001b[39m20220607 10:17:05 training loss: 1.6750093279771683, β: [1.0000047885910042]\n",
      "\u001b[32mProgress: 100%|███████████████████████████| Time: 0:00:02 ( 0.62 μs/it)\u001b[39m\n",
      "\u001b[32mProgress: 100%|███████████████████████████| Time: 0:00:03 ( 0.65 μs/it)\u001b[39m\n"
     ]
    }
   ],
   "source": [
    "save_linear_model(\n",
    "    [\n",
    "        \"SimpleAverage\"\n",
    "        \"SimpleExplicitBaseline\"\n",
    "        \"UserItemBiases\"\n",
    "    ],\n",
    "    false,\n",
    "    \"LinearExplicit\",\n",
    ");"
   ]
  },
  {
   "cell_type": "code",
   "execution_count": null,
   "id": "e785584f-ed89-4462-aa3c-b62e923b9f56",
   "metadata": {},
   "outputs": [
    {
     "name": "stderr",
     "output_type": "stream",
     "text": [
      "\u001b[32mProgress: 100%|███████████████████████████| Time: 0:00:00 (31.47 ns/it)\u001b[39m\n",
      "\u001b[38;5;6m\u001b[1m[ \u001b[22m\u001b[39m\u001b[38;5;6m\u001b[1mInfo: \u001b[22m\u001b[39m20220607 10:18:31 alphas: [\"UniformBaseline\", \"PopularityBaseline\"]\n",
      "\u001b[38;5;6m\u001b[1m[ \u001b[22m\u001b[39m\u001b[38;5;6m\u001b[1mInfo: \u001b[22m\u001b[39m20220607 10:18:31 coefficients: Float32[6.975736f-7, 0.99999857, 6.9757294f-7]\n"
     ]
    }
   ],
   "source": [
    "save_linear_model(\n",
    "    [\n",
    "        \"UniformBaseline\"\n",
    "        \"PopularityBaseline\"\n",
    "    ],\n",
    "    true,\n",
    "    \"LinearImplicit\",\n",
    ");"
   ]
  },
  {
   "cell_type": "code",
   "execution_count": null,
   "id": "46376a42-8b84-4728-aef3-d73dfcc4e76c",
   "metadata": {},
   "outputs": [],
   "source": [
    "# SOTA: 6.4687146803286275"
   ]
  }
 ],
 "metadata": {
  "kernelspec": {
   "display_name": "Julia 1.7.3",
   "language": "julia",
   "name": "julia-1.7"
  },
  "language_info": {
   "file_extension": ".jl",
   "mimetype": "application/julia",
   "name": "julia",
   "version": "1.7.3"
  }
 },
 "nbformat": 4,
 "nbformat_minor": 5
}
