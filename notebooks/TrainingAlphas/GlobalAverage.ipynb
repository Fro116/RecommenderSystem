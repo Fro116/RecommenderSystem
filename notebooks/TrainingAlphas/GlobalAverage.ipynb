{
 "cells": [
  {
   "cell_type": "markdown",
   "id": "190db80b-6a3b-42f7-8450-7e2018ee8f67",
   "metadata": {},
   "source": [
    "# Global Average\n",
    "* Outputs the mean score across all (user, item) pairs\n",
    "  * Prediction for user $i$ and item $j$ is $\\tilde r_{ij} = a$\n",
    "  * Loss function is $L = \\sum_\\Omega(r_{ij} - \\tilde r)^2$\n",
    "  * $\\Omega$ is the set of oberved pairs $(i, j)$\n",
    "  * $r_{ij}$ is the rating for user $i$ and item $j$\n",
    "* This is a useful baseline to measure improvements from"
   ]
  },
  {
   "cell_type": "code",
   "execution_count": 1,
   "id": "7cc9334a-2287-41d6-885b-a5cca94fe263",
   "metadata": {},
   "outputs": [],
   "source": [
    "name = \"GlobalAverage\";\n",
    "residual_alphas = [];"
   ]
  },
  {
   "cell_type": "code",
   "execution_count": 2,
   "id": "7eac3262-6b03-452e-a42a-f6a31b290253",
   "metadata": {},
   "outputs": [],
   "source": [
    "using NBInclude\n",
    "@nbinclude(\"Alpha.ipynb\");"
   ]
  },
  {
   "cell_type": "code",
   "execution_count": null,
   "id": "5cfb42f5-8765-49bf-bade-96679caa62aa",
   "metadata": {},
   "outputs": [],
   "source": [
    "const training = get_residuals(\"training\", residual_alphas)\n",
    "const validation = get_residuals(\"validation\", residual_alphas);"
   ]
  },
  {
   "cell_type": "markdown",
   "id": "cce36d71-1acc-4f04-ae14-ba538b2f9e8c",
   "metadata": {
    "tags": []
   },
   "source": [
    "## Training"
   ]
  },
  {
   "cell_type": "code",
   "execution_count": 3,
   "id": "f41d29fd-1c46-4cc6-ab9d-27c9ac14d65b",
   "metadata": {},
   "outputs": [],
   "source": [
    "μ = mean(training.rating);"
   ]
  },
  {
   "cell_type": "markdown",
   "id": "a165dfd9-ae30-4da3-afa4-07a1b08eede7",
   "metadata": {},
   "source": [
    "## Inference"
   ]
  },
  {
   "cell_type": "code",
   "execution_count": 4,
   "id": "59fb718e-dc9e-4452-b72c-829ae2d843ff",
   "metadata": {},
   "outputs": [],
   "source": [
    "function make_prediction(users, items, μ)\n",
    "    fill(μ, length(users))\n",
    "end;\n",
    "\n",
    "model(users, items) = make_prediction(users, items, μ);"
   ]
  },
  {
   "cell_type": "code",
   "execution_count": 5,
   "id": "cded9472-117b-437a-a9eb-2ade6b303bb8",
   "metadata": {},
   "outputs": [
    {
     "name": "stderr",
     "output_type": "stream",
     "text": [
      "\u001b[38;5;6m\u001b[1m[ \u001b[22m\u001b[39m\u001b[38;5;6m\u001b[1mInfo: \u001b[22m\u001b[39m20211204 20:08:46 training set: RMSE 1.7805202512279754 MAE 1.3906332220653705 R2 0.0\n",
      "\u001b[38;5;6m\u001b[1m[ \u001b[22m\u001b[39m\u001b[38;5;6m\u001b[1mInfo: \u001b[22m\u001b[39m20211204 20:08:49 validation set: RMSE 1.7806075310542464 MAE 1.3908660830061252 R2 -2.1652728277032907e-7\n"
     ]
    }
   ],
   "source": [
    "write_predictions(model);"
   ]
  },
  {
   "cell_type": "code",
   "execution_count": 6,
   "id": "27d887a2-4b42-43be-9b74-cbc26ca89293",
   "metadata": {},
   "outputs": [],
   "source": [
    "write_params(Dict(\"μ\" => μ));"
   ]
  }
 ],
 "metadata": {
  "kernelspec": {
   "display_name": "Julia 1.6.3",
   "language": "julia",
   "name": "julia-1.6"
  },
  "language_info": {
   "file_extension": ".jl",
   "mimetype": "application/julia",
   "name": "julia",
   "version": "1.6.3"
  }
 },
 "nbformat": 4,
 "nbformat_minor": 5
}
