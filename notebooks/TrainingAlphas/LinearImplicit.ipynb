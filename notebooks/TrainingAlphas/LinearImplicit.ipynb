{
 "cells": [
  {
   "cell_type": "code",
   "execution_count": 1,
   "id": "79559bef-810a-402f-ad21-52092ec933f4",
   "metadata": {},
   "outputs": [],
   "source": [
    "const name = \"LinearImplicit\"\n",
    "const residual_alphas = []\n",
    "const implicit = true;"
   ]
  },
  {
   "cell_type": "code",
   "execution_count": 2,
   "id": "69b5a19a-24f5-4730-afe2-f451d27d18e3",
   "metadata": {},
   "outputs": [],
   "source": [
    "import SparseArrays: sparse\n",
    "import NBInclude:@nbinclude\n",
    "@nbinclude(\"Alpha.ipynb\");"
   ]
  },
  {
   "cell_type": "markdown",
   "id": "add8b6e4-e53d-4f2b-9183-df18f637b182",
   "metadata": {},
   "source": [
    "## Training"
   ]
  },
  {
   "cell_type": "code",
   "execution_count": 3,
   "id": "fe4ad27b-d09d-4679-8632-fc880fa82503",
   "metadata": {},
   "outputs": [],
   "source": [
    "const alphas = [\n",
    "    [\"UniformBaseline\"]\n",
    "    [\"PopularityBaseline\"]\n",
    "];"
   ]
  },
  {
   "cell_type": "code",
   "execution_count": 4,
   "id": "1768fe0c-4238-4b9d-86e9-666e0fc73742",
   "metadata": {},
   "outputs": [
    {
     "name": "stderr",
     "output_type": "stream",
     "text": [
      "\u001b[32mProgress: 100%|███████████████████████████| Time: 0:00:01 (94.16 ns/it)\u001b[39m\n",
      "\u001b[32mProgress: 100%|█████████████████████████████████████████| Time: 0:06:47\u001b[39m\n"
     ]
    }
   ],
   "source": [
    "splits = []\n",
    "@showprogress for split in all_splits\n",
    "    push!(splits, read_alpha(alphas, split, implicit))\n",
    "end\n",
    "splits = reduce(cat, splits);"
   ]
  },
  {
   "cell_type": "code",
   "execution_count": 5,
   "id": "0ef99243-3e78-48d9-99cf-a083895d9fd7",
   "metadata": {
    "tags": []
   },
   "outputs": [],
   "source": [
    "preds = sparse(splits.user, splits.item, splits.rating);"
   ]
  },
  {
   "cell_type": "code",
   "execution_count": 6,
   "id": "52d22fec-db80-4658-b1e7-b0c56f934873",
   "metadata": {},
   "outputs": [
    {
     "name": "stderr",
     "output_type": "stream",
     "text": [
      "\u001b[38;5;6m\u001b[1m[ \u001b[22m\u001b[39m\u001b[38;5;6m\u001b[1mInfo: \u001b[22m\u001b[39m20220604 22:12:09 validation loss: 7.4751573, β: Float32[7.82374f-7, 0.99999917]\n",
      "\u001b[32mProgress: 100%|███████████████████████████| Time: 0:00:05 (30.05 ns/it)\u001b[39m\n",
      "\u001b[38;5;6m\u001b[1m[ \u001b[22m\u001b[39m\u001b[38;5;6m\u001b[1mInfo: \u001b[22m\u001b[39m20220604 22:14:19 training loss: 7.438401, β: Float32[7.82374f-7, 0.99999917]\n"
     ]
    }
   ],
   "source": [
    "function model(users, items)\n",
    "    p = Array{eltype(preds)}(undef, length(users))\n",
    "    Threads.@threads for i = 1:length(p)\n",
    "        p[i] = preds[users[i], items[i]]\n",
    "    end\n",
    "    p\n",
    "end\n",
    "write_alpha(model, residual_alphas, implicit);"
   ]
  },
  {
   "cell_type": "code",
   "execution_count": 7,
   "id": "18c23ddc-8c68-4451-9b73-735ccf60217f",
   "metadata": {},
   "outputs": [],
   "source": [
    "_, β = regress(alphas, implicit)\n",
    "write_params(Dict(\"β\" => β, \"alphas\" => alphas));"
   ]
  },
  {
   "cell_type": "code",
   "execution_count": 8,
   "id": "46376a42-8b84-4728-aef3-d73dfcc4e76c",
   "metadata": {},
   "outputs": [],
   "source": [
    "# SOTA: 6.4687146803286275"
   ]
  }
 ],
 "metadata": {
  "kernelspec": {
   "display_name": "Julia 1.7.3",
   "language": "julia",
   "name": "julia-1.7"
  },
  "language_info": {
   "file_extension": ".jl",
   "mimetype": "application/julia",
   "name": "julia",
   "version": "1.7.3"
  }
 },
 "nbformat": 4,
 "nbformat_minor": 5
}
