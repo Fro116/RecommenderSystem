{
 "cells": [
  {
   "cell_type": "markdown",
   "id": "c3758ece-9b72-47b4-ae6a-aa364e0443e3",
   "metadata": {},
   "source": [
    "# Item Collaborative Filtering\n",
    "* See `ItemCollaborativeFilteringBase.ipynb` for algorithm details\n",
    "* The weights here are the reciprocal of the l2-norm between the item embeddings"
   ]
  },
  {
   "cell_type": "code",
   "execution_count": 1,
   "id": "7cc9334a-2287-41d6-885b-a5cca94fe263",
   "metadata": {},
   "outputs": [],
   "source": [
    "name = \"ItemCFEmbed\";"
   ]
  },
  {
   "cell_type": "code",
   "execution_count": 2,
   "id": "d17593ac-3260-4c01-a5df-91edfcd17e13",
   "metadata": {},
   "outputs": [],
   "source": [
    "using NBInclude\n",
    "@nbinclude(\"ItemCollaborativeFilteringBase.ipynb\");"
   ]
  },
  {
   "cell_type": "markdown",
   "id": "bff8e524-e8f8-48bd-9ca7-c28a05a122b8",
   "metadata": {},
   "source": [
    "## Compute cosine correlations"
   ]
  },
  {
   "cell_type": "code",
   "execution_count": 3,
   "id": "c9572dd9-db8e-4b1c-83ca-cacc666325f9",
   "metadata": {},
   "outputs": [],
   "source": [
    "function get_embed_matrix_outdir(power)\n",
    "    # if the matrix is already stored on disk, return its filepath\n",
    "    # otherwise, regenerate the matrix and store it to disk\n",
    "    outdir = \"$name/$(hash(power))\"\n",
    "    if ispath(\"../../data/alphas/$outdir\")\n",
    "        return outdir\n",
    "    end\n",
    "\n",
    "    @debug \"generating similarity matrix for $power-norm\"\n",
    "    item_embeddings = vcat(\n",
    "        [\n",
    "            collect(read_params(\"MatrixFactorization10\")[\"A\"]')\n",
    "            collect(read_params(\"MatrixFactorization20\")[\"A\"]')\n",
    "            collect(read_params(\"MatrixFactorization40\")[\"A\"]')\n",
    "        ],\n",
    "    )\n",
    "\n",
    "    training = get_residuals(\"training\", residual_alphas)\n",
    "    S = zeros(maximum(training.item), maximum(training.item))\n",
    "\n",
    "    kernel = item_embeddings\n",
    "    p = power\n",
    "    @showprogress for j = 1:size(S)[1]\n",
    "        dists = map(x -> norm(x, p), eachslice(kernel .- kernel[:, j], dims = 2))\n",
    "        S[:, j] = 1 ./ dists\n",
    "    end\n",
    "\n",
    "    # only the diagonal can be Inf\n",
    "    for i = 1:size(S)[1]\n",
    "        for j = 1:size(S)[2]\n",
    "            if S[i, j] == Inf && i != j\n",
    "                S[i, j] = 1e8\n",
    "            end\n",
    "        end\n",
    "    end\n",
    "\n",
    "    write_params(Dict(\"S\" => S), outdir = outdir)\n",
    "    outdir\n",
    "end;"
   ]
  },
  {
   "cell_type": "code",
   "execution_count": 4,
   "id": "e7140af6-f6ad-4052-b332-dec0a792b216",
   "metadata": {},
   "outputs": [
    {
     "name": "stderr",
     "output_type": "stream",
     "text": [
      "\u001b[38;5;4m\u001b[1m[ \u001b[22m\u001b[39m\u001b[38;5;4m\u001b[1mDebug: \u001b[22m\u001b[39m20211231 12:27:10 generating similarity matrix for 2-norm\n",
      "\u001b[32mProgress: 100%|█████████████████████████████████████████| Time: 0:01:47\u001b[39m\n"
     ]
    },
    {
     "data": {
      "text/plain": [
       "\"ItemCFEmbed/13228483051453548148\""
      ]
     },
     "execution_count": 4,
     "metadata": {},
     "output_type": "execute_result"
    }
   ],
   "source": [
    "get_embed_matrix_outdir(2)"
   ]
  },
  {
   "cell_type": "markdown",
   "id": "85910c72-6e77-4dbd-8991-6ad3b81035a7",
   "metadata": {},
   "source": [
    "## Setup hyperparameters"
   ]
  },
  {
   "cell_type": "code",
   "execution_count": 4,
   "id": "0c00b2aa-a40c-4374-9631-9918f0f55968",
   "metadata": {},
   "outputs": [],
   "source": [
    "downcast_to_int(x) = isinteger(x) ? Int(x) : x\n",
    "item_alphas = [\"ItemCF.$K\" for K in downcast_to_int.([2^4, 2^6, 2^8, 2^10])]\n",
    "item_cf_params = [\n",
    "    cf_params(\n",
    "        name = \"ItemCFEmbed.$K\",\n",
    "        training_residuals = [\"UserItemBiases\"],\n",
    "        validation_residuals = [\"UserItemBiases\"],\n",
    "        neighborhood_type = \"abs\",\n",
    "        S = get_embed_matrix_outdir(2),\n",
    "        K = K,\n",
    "        λ = [1.0, 1.0, 0.0],\n",
    "    ) for K in downcast_to_int.([2^6])\n",
    "];"
   ]
  },
  {
   "cell_type": "markdown",
   "id": "73d6710c-a42a-443d-8616-f1441be67eee",
   "metadata": {},
   "source": [
    "## Train models"
   ]
  },
  {
   "cell_type": "code",
   "execution_count": 5,
   "id": "1842d509-9377-4b28-9fe9-9212da6183d1",
   "metadata": {
    "tags": []
   },
   "outputs": [
    {
     "name": "stderr",
     "output_type": "stream",
     "text": [
      "\u001b[32mProgress: 100%|███████████████████████████| Time: 0:02:14 (33.77 ms/it)\u001b[39m\n",
      "\u001b[38;5;4m\u001b[1m[ \u001b[22m\u001b[39m\u001b[38;5;4m\u001b[1mDebug: \u001b[22m\u001b[39m20211230 23:00:55 loss: Dual{ForwardDiff.Tag{var\"#validation_mse#17\"{var\"#14#16\"{cf_params, Dict{String, typeof(get_abs_neighborhood)}, Int64, Matrix{Float64}}, RatingsDataset, RatingsDataset}, Float64}}(1.425724647295681,-0.03557662489746935,0.005098522786411392,-1.671873296042151) β: Dual{ForwardDiff.Tag{var\"#validation_mse#17\"{var\"#14#16\"{cf_params, Dict{String, typeof(get_abs_neighborhood)}, Int64, Matrix{Float64}}, RatingsDataset, RatingsDataset}, Float64}}(0.6844945986937507,0.018292308107859593,-0.472041910221106,8.23659952319139): λ ForwardDiff.Dual{ForwardDiff.Tag{var\"#validation_mse#17\"{var\"#14#16\"{cf_params, Dict{String, typeof(get_abs_neighborhood)}, Int64, Matrix{Float64}}, RatingsDataset, RatingsDataset}, Float64}, Float64, 3}[Dual{ForwardDiff.Tag{var\"#validation_mse#17\"{var\"#14#16\"{cf_params, Dict{String, typeof(get_abs_neighborhood)}, Int64, Matrix{Float64}}, RatingsDataset, RatingsDataset}, Float64}}(1.0,1.0,0.0,0.0), Dual{ForwardDiff.Tag{var\"#validation_mse#17\"{var\"#14#16\"{cf_params, Dict{String, typeof(get_abs_neighborhood)}, Int64, Matrix{Float64}}, RatingsDataset, RatingsDataset}, Float64}}(1.0,0.0,1.0,0.0), Dual{ForwardDiff.Tag{var\"#validation_mse#17\"{var\"#14#16\"{cf_params, Dict{String, typeof(get_abs_neighborhood)}, Int64, Matrix{Float64}}, RatingsDataset, RatingsDataset}, Float64}}(0.0,0.0,0.0,1.0)]\n"
     ]
    },
    {
     "name": "stdout",
     "output_type": "stream",
     "text": [
      "Iter     Function value   Gradient norm \n",
      "     0     1.425725e+00     1.671873e+00\n",
      " * Current step size: 1.0\n",
      " * time: 0.02054595947265625\n",
      " * g(x): [-0.03557662489746935, 0.005098522786411392, -1.671873296042151]\n",
      " * x: [1.0, 1.0, 0.0]\n"
     ]
    },
    {
     "name": "stderr",
     "output_type": "stream",
     "text": [
      "\u001b[32mProgress: 100%|███████████████████████████| Time: 0:02:11 (33.07 ms/it)\u001b[39m\n",
      "\u001b[38;5;4m\u001b[1m[ \u001b[22m\u001b[39m\u001b[38;5;4m\u001b[1mDebug: \u001b[22m\u001b[39m20211230 23:03:12 loss: Dual{ForwardDiff.Tag{var\"#validation_mse#17\"{var\"#14#16\"{cf_params, Dict{String, typeof(get_abs_neighborhood)}, Int64, Matrix{Float64}}, RatingsDataset, RatingsDataset}, Float64}}(1.44312024693918,0.11191032009698479,-0.008821794188353603,0.023408324961066353) β: Dual{ForwardDiff.Tag{var\"#validation_mse#17\"{var\"#14#16\"{cf_params, Dict{String, typeof(get_abs_neighborhood)}, Int64, Matrix{Float64}}, RatingsDataset, RatingsDataset}, Float64}}(3.7451274244503407,5.403158399217764,-2.183199686426002,1.2920846729813185): λ ForwardDiff.Dual{ForwardDiff.Tag{var\"#validation_mse#17\"{var\"#14#16\"{cf_params, Dict{String, typeof(get_abs_neighborhood)}, Int64, Matrix{Float64}}, RatingsDataset, RatingsDataset}, Float64}, Float64, 3}[Dual{ForwardDiff.Tag{var\"#validation_mse#17\"{var\"#14#16\"{cf_params, Dict{String, typeof(get_abs_neighborhood)}, Int64, Matrix{Float64}}, RatingsDataset, RatingsDataset}, Float64}}(1.0355766248974694,1.0,0.0,0.0), Dual{ForwardDiff.Tag{var\"#validation_mse#17\"{var\"#14#16\"{cf_params, Dict{String, typeof(get_abs_neighborhood)}, Int64, Matrix{Float64}}, RatingsDataset, RatingsDataset}, Float64}}(0.9949014772135886,0.0,1.0,0.0), Dual{ForwardDiff.Tag{var\"#validation_mse#17\"{var\"#14#16\"{cf_params, Dict{String, typeof(get_abs_neighborhood)}, Int64, Matrix{Float64}}, RatingsDataset, RatingsDataset}, Float64}}(1.671873296042151,0.0,0.0,1.0)]\n",
      "\u001b[32mProgress: 100%|███████████████████████████| Time: 0:02:36 (39.31 ms/it)\u001b[39m\n",
      "\u001b[38;5;4m\u001b[1m[ \u001b[22m\u001b[39m\u001b[38;5;4m\u001b[1mDebug: \u001b[22m\u001b[39m20211230 23:05:53 loss: Dual{ForwardDiff.Tag{var\"#validation_mse#17\"{var\"#14#16\"{cf_params, Dict{String, typeof(get_abs_neighborhood)}, Int64, Matrix{Float64}}, RatingsDataset, RatingsDataset}, Float64}}(1.4424603392847317,0.1113560191752852,-0.00883912338778046,0.02372376608432061) β: Dual{ForwardDiff.Tag{var\"#validation_mse#17\"{var\"#14#16\"{cf_params, Dict{String, typeof(get_abs_neighborhood)}, Int64, Matrix{Float64}}, RatingsDataset, RatingsDataset}, Float64}}(3.7091769966463097,5.340595572936947,-2.1627822689420673,1.2954081214913817): λ ForwardDiff.Dual{ForwardDiff.Tag{var\"#validation_mse#17\"{var\"#14#16\"{cf_params, Dict{String, typeof(get_abs_neighborhood)}, Int64, Matrix{Float64}}, RatingsDataset, RatingsDataset}, Float64}, Float64, 3}[Dual{ForwardDiff.Tag{var\"#validation_mse#17\"{var\"#14#16\"{cf_params, Dict{String, typeof(get_abs_neighborhood)}, Int64, Matrix{Float64}}, RatingsDataset, RatingsDataset}, Float64}}(1.0350358603469039,1.0,0.0,0.0), Dual{ForwardDiff.Tag{var\"#validation_mse#17\"{var\"#14#16\"{cf_params, Dict{String, typeof(get_abs_neighborhood)}, Int64, Matrix{Float64}}, RatingsDataset, RatingsDataset}, Float64}}(0.9949789747387497,0.0,1.0,0.0), Dual{ForwardDiff.Tag{var\"#validation_mse#17\"{var\"#14#16\"{cf_params, Dict{String, typeof(get_abs_neighborhood)}, Int64, Matrix{Float64}}, RatingsDataset, RatingsDataset}, Float64}}(1.646460828891541,0.0,0.0,1.0)]\n",
      "\u001b[32mProgress: 100%|███████████████████████████| Time: 0:03:41 (55.81 ms/it)\u001b[39m\n",
      "\u001b[38;5;4m\u001b[1m[ \u001b[22m\u001b[39m\u001b[38;5;4m\u001b[1mDebug: \u001b[22m\u001b[39m20211230 23:09:44 loss: Dual{ForwardDiff.Tag{var\"#validation_mse#17\"{var\"#14#16\"{cf_params, Dict{String, typeof(get_abs_neighborhood)}, Int64, Matrix{Float64}}, RatingsDataset, RatingsDataset}, Float64}}(1.415457979149368,0.0810808759178472,-0.009598281065360146,0.03990698886532226) β: Dual{ForwardDiff.Tag{var\"#validation_mse#17\"{var\"#14#16\"{cf_params, Dict{String, typeof(get_abs_neighborhood)}, Int64, Matrix{Float64}}, RatingsDataset, RatingsDataset}, Float64}}(2.4980424405554884,3.1997245707508597,-1.473449130327749,1.4911261793829795): λ ForwardDiff.Dual{ForwardDiff.Tag{var\"#validation_mse#17\"{var\"#14#16\"{cf_params, Dict{String, typeof(get_abs_neighborhood)}, Int64, Matrix{Float64}}, RatingsDataset, RatingsDataset}, Float64}, Float64, 3}[Dual{ForwardDiff.Tag{var\"#validation_mse#17\"{var\"#14#16\"{cf_params, Dict{String, typeof(get_abs_neighborhood)}, Int64, Matrix{Float64}}, RatingsDataset, RatingsDataset}, Float64}}(1.017517930173452,1.0,0.0,0.0), Dual{ForwardDiff.Tag{var\"#validation_mse#17\"{var\"#14#16\"{cf_params, Dict{String, typeof(get_abs_neighborhood)}, Int64, Matrix{Float64}}, RatingsDataset, RatingsDataset}, Float64}}(0.9974894873693749,0.0,1.0,0.0), Dual{ForwardDiff.Tag{var\"#validation_mse#17\"{var\"#14#16\"{cf_params, Dict{String, typeof(get_abs_neighborhood)}, Int64, Matrix{Float64}}, RatingsDataset, RatingsDataset}, Float64}}(0.8232304144457705,0.0,0.0,1.0)]\n",
      "\u001b[32mProgress: 100%|███████████████████████████| Time: 0:03:37 (54.75 ms/it)\u001b[39m\n",
      "\u001b[38;5;4m\u001b[1m[ \u001b[22m\u001b[39m\u001b[38;5;4m\u001b[1mDebug: \u001b[22m\u001b[39m20211230 23:13:35 loss: Dual{ForwardDiff.Tag{var\"#validation_mse#17\"{var\"#14#16\"{cf_params, Dict{String, typeof(get_abs_neighborhood)}, Int64, Matrix{Float64}}, RatingsDataset, RatingsDataset}, Float64}}(1.4146188637589787,0.07979421644573056,-0.009616113849434406,0.040497402952266365) β: Dual{ForwardDiff.Tag{var\"#validation_mse#17\"{var\"#14#16\"{cf_params, Dict{String, typeof(get_abs_neighborhood)}, Int64, Matrix{Float64}}, RatingsDataset, RatingsDataset}, Float64}}(2.466683450195282,3.144039782179555,-1.4556382983888658,1.4999044191797553): λ ForwardDiff.Dual{ForwardDiff.Tag{var\"#validation_mse#17\"{var\"#14#16\"{cf_params, Dict{String, typeof(get_abs_neighborhood)}, Int64, Matrix{Float64}}, RatingsDataset, RatingsDataset}, Float64}, Float64, 3}[Dual{ForwardDiff.Tag{var\"#validation_mse#17\"{var\"#14#16\"{cf_params, Dict{String, typeof(get_abs_neighborhood)}, Int64, Matrix{Float64}}, RatingsDataset, RatingsDataset}, Float64}}(1.0170922041336223,1.0,0.0,0.0), Dual{ForwardDiff.Tag{var\"#validation_mse#17\"{var\"#14#16\"{cf_params, Dict{String, typeof(get_abs_neighborhood)}, Int64, Matrix{Float64}}, RatingsDataset, RatingsDataset}, Float64}}(0.997550498606981,0.0,1.0,0.0), Dual{ForwardDiff.Tag{var\"#validation_mse#17\"{var\"#14#16\"{cf_params, Dict{String, typeof(get_abs_neighborhood)}, Int64, Matrix{Float64}}, RatingsDataset, RatingsDataset}, Float64}}(0.8032240198124309,0.0,0.0,1.0)]\n"
     ]
    },
    {
     "name": "stdout",
     "output_type": "stream",
     "text": [
      "     1     1.414619e+00     7.979422e-02\n",
      " * Current step size: 0.4804335482323417\n",
      " * time: 760.0301637649536\n",
      " * g(x): [0.07979421644573056, -0.009616113849434406, 0.040497402952266365]\n",
      " * x: [1.0170922041336223, 0.997550498606981, 0.8032240198124309]\n"
     ]
    },
    {
     "name": "stderr",
     "output_type": "stream",
     "text": [
      "\u001b[32mProgress: 100%|███████████████████████████| Time: 0:08:31 ( 0.13  s/it)\u001b[39m\n",
      "\u001b[38;5;4m\u001b[1m[ \u001b[22m\u001b[39m\u001b[38;5;4m\u001b[1mDebug: \u001b[22m\u001b[39m20211230 23:22:15 loss: Dual{ForwardDiff.Tag{var\"#validation_mse#17\"{var\"#14#16\"{cf_params, Dict{String, typeof(get_abs_neighborhood)}, Int64, Matrix{Float64}}, RatingsDataset, RatingsDataset}, Float64}}(1.4111588869889933,0.07044798737477104,-0.009010241090896749,0.03870981601620726) β: Dual{ForwardDiff.Tag{var\"#validation_mse#17\"{var\"#14#16\"{cf_params, Dict{String, typeof(get_abs_neighborhood)}, Int64, Matrix{Float64}}, RatingsDataset, RatingsDataset}, Float64}}(2.324813496720667,2.9322501474651577,-1.384044932489621,1.4095548515933125): λ ForwardDiff.Dual{ForwardDiff.Tag{var\"#validation_mse#17\"{var\"#14#16\"{cf_params, Dict{String, typeof(get_abs_neighborhood)}, Int64, Matrix{Float64}}, RatingsDataset, RatingsDataset}, Float64}, Float64, 3}[Dual{ForwardDiff.Tag{var\"#validation_mse#17\"{var\"#14#16\"{cf_params, Dict{String, typeof(get_abs_neighborhood)}, Int64, Matrix{Float64}}, RatingsDataset, RatingsDataset}, Float64}}(0.9807237327893011,1.0,0.0,0.0), Dual{ForwardDiff.Tag{var\"#validation_mse#17\"{var\"#14#16\"{cf_params, Dict{String, typeof(get_abs_neighborhood)}, Int64, Matrix{Float64}}, RatingsDataset, RatingsDataset}, Float64}}(1.0019327556724975,0.0,1.0,0.0), Dual{ForwardDiff.Tag{var\"#validation_mse#17\"{var\"#14#16\"{cf_params, Dict{String, typeof(get_abs_neighborhood)}, Int64, Matrix{Float64}}, RatingsDataset, RatingsDataset}, Float64}}(0.785905599174063,0.0,0.0,1.0)]\n",
      "\u001b[32mProgress: 100%|███████████████████████████| Time: 0:02:34 (38.88 ms/it)\u001b[39m\n",
      "\u001b[38;5;4m\u001b[1m[ \u001b[22m\u001b[39m\u001b[38;5;4m\u001b[1mDebug: \u001b[22m\u001b[39m20211230 23:25:06 loss: Dual{ForwardDiff.Tag{var\"#validation_mse#17\"{var\"#14#16\"{cf_params, Dict{String, typeof(get_abs_neighborhood)}, Int64, Matrix{Float64}}, RatingsDataset, RatingsDataset}, Float64}}(1.4012643073483368,0.03067682210039326,-0.0058485956666970785,0.028956914948322605) β: Dual{ForwardDiff.Tag{var\"#validation_mse#17\"{var\"#14#16\"{cf_params, Dict{String, typeof(get_abs_neighborhood)}, Int64, Matrix{Float64}}, RatingsDataset, RatingsDataset}, Float64}}(1.8459411038796338,2.1895877835828017,-1.1417289384548444,1.0966986938994825): λ ForwardDiff.Dual{ForwardDiff.Tag{var\"#validation_mse#17\"{var\"#14#16\"{cf_params, Dict{String, typeof(get_abs_neighborhood)}, Int64, Matrix{Float64}}, RatingsDataset, RatingsDataset}, Float64}, Float64, 3}[Dual{ForwardDiff.Tag{var\"#validation_mse#17\"{var\"#14#16\"{cf_params, Dict{String, typeof(get_abs_neighborhood)}, Int64, Matrix{Float64}}, RatingsDataset, RatingsDataset}, Float64}}(0.8352498474120164,1.0,0.0,0.0), Dual{ForwardDiff.Tag{var\"#validation_mse#17\"{var\"#14#16\"{cf_params, Dict{String, typeof(get_abs_neighborhood)}, Int64, Matrix{Float64}}, RatingsDataset, RatingsDataset}, Float64}}(1.0194617839345639,0.0,1.0,0.0), Dual{ForwardDiff.Tag{var\"#validation_mse#17\"{var\"#14#16\"{cf_params, Dict{String, typeof(get_abs_neighborhood)}, Int64, Matrix{Float64}}, RatingsDataset, RatingsDataset}, Float64}}(0.7166319166205914,0.0,0.0,1.0)]\n",
      "\u001b[32mProgress: 100%|███████████████████████████| Time: 0:02:21 (35.69 ms/it)\u001b[39m\n",
      "\u001b[38;5;4m\u001b[1m[ \u001b[22m\u001b[39m\u001b[38;5;4m\u001b[1mDebug: \u001b[22m\u001b[39m20211230 23:27:34 loss: Dual{ForwardDiff.Tag{var\"#validation_mse#17\"{var\"#14#16\"{cf_params, Dict{String, typeof(get_abs_neighborhood)}, Int64, Matrix{Float64}}, RatingsDataset, RatingsDataset}, Float64}}(1.4408803001083803,-0.08364214506464002,0.019490993060682908,-0.03481524999486286) β: Dual{ForwardDiff.Tag{var\"#validation_mse#17\"{var\"#14#16\"{cf_params, Dict{String, typeof(get_abs_neighborhood)}, Int64, Matrix{Float64}}, RatingsDataset, RatingsDataset}, Float64}}(0.7497960367990504,0.41653527091751974,-0.5803216066830348,0.32969124355654433): λ ForwardDiff.Dual{ForwardDiff.Tag{var\"#validation_mse#17\"{var\"#14#16\"{cf_params, Dict{String, typeof(get_abs_neighborhood)}, Int64, Matrix{Float64}}, RatingsDataset, RatingsDataset}, Float64}, Float64, 3}[Dual{ForwardDiff.Tag{var\"#validation_mse#17\"{var\"#14#16\"{cf_params, Dict{String, typeof(get_abs_neighborhood)}, Int64, Matrix{Float64}}, RatingsDataset, RatingsDataset}, Float64}}(0.10788042052559221,1.0,0.0,0.0), Dual{ForwardDiff.Tag{var\"#validation_mse#17\"{var\"#14#16\"{cf_params, Dict{String, typeof(get_abs_neighborhood)}, Int64, Matrix{Float64}}, RatingsDataset, RatingsDataset}, Float64}}(1.1071069252448953,0.0,1.0,0.0), Dual{ForwardDiff.Tag{var\"#validation_mse#17\"{var\"#14#16\"{cf_params, Dict{String, typeof(get_abs_neighborhood)}, Int64, Matrix{Float64}}, RatingsDataset, RatingsDataset}, Float64}}(0.3702635038532339,0.0,0.0,1.0)]\n",
      "\u001b[32mProgress: 100%|███████████████████████████| Time: 0:02:29 (37.64 ms/it)\u001b[39m\n",
      "\u001b[38;5;4m\u001b[1m[ \u001b[22m\u001b[39m\u001b[38;5;4m\u001b[1mDebug: \u001b[22m\u001b[39m20211230 23:30:07 loss: Dual{ForwardDiff.Tag{var\"#validation_mse#17\"{var\"#14#16\"{cf_params, Dict{String, typeof(get_abs_neighborhood)}, Int64, Matrix{Float64}}, RatingsDataset, RatingsDataset}, Float64}}(1.3993789638841234,-0.030885751334182025,0.0012018286565745177,0.006599302934734902) β: Dual{ForwardDiff.Tag{var\"#validation_mse#17\"{var\"#14#16\"{cf_params, Dict{String, typeof(get_abs_neighborhood)}, Int64, Matrix{Float64}}, RatingsDataset, RatingsDataset}, Float64}}(1.3330251164241897,1.3708281062457137,-0.8816464067866804,0.7544836718055904): λ ForwardDiff.Dual{ForwardDiff.Tag{var\"#validation_mse#17\"{var\"#14#16\"{cf_params, Dict{String, typeof(get_abs_neighborhood)}, Int64, Matrix{Float64}}, RatingsDataset, RatingsDataset}, Float64}, Float64, 3}[Dual{ForwardDiff.Tag{var\"#validation_mse#17\"{var\"#14#16\"{cf_params, Dict{String, typeof(get_abs_neighborhood)}, Int64, Matrix{Float64}}, RatingsDataset, RatingsDataset}, Float64}}(0.6128611366364237,1.0,0.0,0.0), Dual{ForwardDiff.Tag{var\"#validation_mse#17\"{var\"#14#16\"{cf_params, Dict{String, typeof(get_abs_neighborhood)}, Int64, Matrix{Float64}}, RatingsDataset, RatingsDataset}, Float64}}(1.046258744682809,0.0,1.0,0.0), Dual{ForwardDiff.Tag{var\"#validation_mse#17\"{var\"#14#16\"{cf_params, Dict{String, typeof(get_abs_neighborhood)}, Int64, Matrix{Float64}}, RatingsDataset, RatingsDataset}, Float64}}(0.6107319132365495,0.0,0.0,1.0)]\n"
     ]
    },
    {
     "name": "stdout",
     "output_type": "stream",
     "text": [
      "     2     1.399379e+00     3.088575e-02\n",
      " * Current step size: 11.114876500310144\n",
      " * time: 1752.1769449710846\n",
      " * g(x): [-0.030885751334182025, 0.0012018286565745177, 0.006599302934734902]\n",
      " * x: [0.6128611366364237, 1.046258744682809, 0.6107319132365495]\n"
     ]
    },
    {
     "name": "stderr",
     "output_type": "stream",
     "text": [
      "\u001b[32mProgress: 100%|███████████████████████████| Time: 0:02:20 (35.45 ms/it)\u001b[39m\n",
      "\u001b[38;5;4m\u001b[1m[ \u001b[22m\u001b[39m\u001b[38;5;4m\u001b[1mDebug: \u001b[22m\u001b[39m20211230 23:32:33 loss: Dual{ForwardDiff.Tag{var\"#validation_mse#17\"{var\"#14#16\"{cf_params, Dict{String, typeof(get_abs_neighborhood)}, Int64, Matrix{Float64}}, RatingsDataset, RatingsDataset}, Float64}}(1.3977961807440697,-0.007724673806521955,-0.0007269642528924632,0.016510955573620662) β: Dual{ForwardDiff.Tag{var\"#validation_mse#17\"{var\"#14#16\"{cf_params, Dict{String, typeof(get_abs_neighborhood)}, Int64, Matrix{Float64}}, RatingsDataset, RatingsDataset}, Float64}}(1.4967383142417046,1.632131269788386,-0.9723481756413018,0.8885113361924695): λ ForwardDiff.Dual{ForwardDiff.Tag{var\"#validation_mse#17\"{var\"#14#16\"{cf_params, Dict{String, typeof(get_abs_neighborhood)}, Int64, Matrix{Float64}}, RatingsDataset, RatingsDataset}, Float64}, Float64, 3}[Dual{ForwardDiff.Tag{var\"#validation_mse#17\"{var\"#14#16\"{cf_params, Dict{String, typeof(get_abs_neighborhood)}, Int64, Matrix{Float64}}, RatingsDataset, RatingsDataset}, Float64}}(0.7074244487362858,1.0,0.0,0.0), Dual{ForwardDiff.Tag{var\"#validation_mse#17\"{var\"#14#16\"{cf_params, Dict{String, typeof(get_abs_neighborhood)}, Int64, Matrix{Float64}}, RatingsDataset, RatingsDataset}, Float64}}(1.0423977962303084,0.0,1.0,0.0), Dual{ForwardDiff.Tag{var\"#validation_mse#17\"{var\"#14#16\"{cf_params, Dict{String, typeof(get_abs_neighborhood)}, Int64, Matrix{Float64}}, RatingsDataset, RatingsDataset}, Float64}}(0.63330467156894,0.0,0.0,1.0)]\n",
      "\u001b[32mProgress: 100%|███████████████████████████| Time: 0:02:20 (35.28 ms/it)\u001b[39m\n",
      "\u001b[38;5;4m\u001b[1m[ \u001b[22m\u001b[39m\u001b[38;5;4m\u001b[1mDebug: \u001b[22m\u001b[39m20211230 23:34:58 loss: Dual{ForwardDiff.Tag{var\"#validation_mse#17\"{var\"#14#16\"{cf_params, Dict{String, typeof(get_abs_neighborhood)}, Int64, Matrix{Float64}}, RatingsDataset, RatingsDataset}, Float64}}(1.4167242252184629,0.0901313884016102,-0.005258559376492962,0.04778963008522099) β: Dual{ForwardDiff.Tag{var\"#validation_mse#17\"{var\"#14#16\"{cf_params, Dict{String, typeof(get_abs_neighborhood)}, Int64, Matrix{Float64}}, RatingsDataset, RatingsDataset}, Float64}}(2.511395527825135,3.1636486124722847,-1.543429226841257,1.7122312346144264): λ ForwardDiff.Dual{ForwardDiff.Tag{var\"#validation_mse#17\"{var\"#14#16\"{cf_params, Dict{String, typeof(get_abs_neighborhood)}, Int64, Matrix{Float64}}, RatingsDataset, RatingsDataset}, Float64}, Float64, 3}[Dual{ForwardDiff.Tag{var\"#validation_mse#17\"{var\"#14#16\"{cf_params, Dict{String, typeof(get_abs_neighborhood)}, Int64, Matrix{Float64}}, RatingsDataset, RatingsDataset}, Float64}}(1.0856776971357345,1.0,0.0,0.0), Dual{ForwardDiff.Tag{var\"#validation_mse#17\"{var\"#14#16\"{cf_params, Dict{String, typeof(get_abs_neighborhood)}, Int64, Matrix{Float64}}, RatingsDataset, RatingsDataset}, Float64}}(1.026954002420305,0.0,1.0,0.0), Dual{ForwardDiff.Tag{var\"#validation_mse#17\"{var\"#14#16\"{cf_params, Dict{String, typeof(get_abs_neighborhood)}, Int64, Matrix{Float64}}, RatingsDataset, RatingsDataset}, Float64}}(0.7235957048985021,0.0,0.0,1.0)]\n",
      "\u001b[32mProgress: 100%|███████████████████████████| Time: 0:02:24 (36.36 ms/it)\u001b[39m\n",
      "\u001b[38;5;4m\u001b[1m[ \u001b[22m\u001b[39m\u001b[38;5;4m\u001b[1mDebug: \u001b[22m\u001b[39m20211230 23:37:27 loss: Dual{ForwardDiff.Tag{var\"#validation_mse#17\"{var\"#14#16\"{cf_params, Dict{String, typeof(get_abs_neighborhood)}, Int64, Matrix{Float64}}, RatingsDataset, RatingsDataset}, Float64}}(1.3977711781044189,-0.004270360842539024,-0.0009798145080021972,0.017900494523699788) β: Dual{ForwardDiff.Tag{var\"#validation_mse#17\"{var\"#14#16\"{cf_params, Dict{String, typeof(get_abs_neighborhood)}, Int64, Matrix{Float64}}, RatingsDataset, RatingsDataset}, Float64}}(1.5224025380639792,1.6729766951499072,-0.986603460134639,0.9095718854941012): λ ForwardDiff.Dual{ForwardDiff.Tag{var\"#validation_mse#17\"{var\"#14#16\"{cf_params, Dict{String, typeof(get_abs_neighborhood)}, Int64, Matrix{Float64}}, RatingsDataset, RatingsDataset}, Float64}, Float64, 3}[Dual{ForwardDiff.Tag{var\"#validation_mse#17\"{var\"#14#16\"{cf_params, Dict{String, typeof(get_abs_neighborhood)}, Int64, Matrix{Float64}}, RatingsDataset, RatingsDataset}, Float64}}(0.7208819287543748,1.0,0.0,0.0), Dual{ForwardDiff.Tag{var\"#validation_mse#17\"{var\"#14#16\"{cf_params, Dict{String, typeof(get_abs_neighborhood)}, Int64, Matrix{Float64}}, RatingsDataset, RatingsDataset}, Float64}}(1.0418483375079284,0.0,1.0,0.0), Dual{ForwardDiff.Tag{var\"#validation_mse#17\"{var\"#14#16\"{cf_params, Dict{String, typeof(get_abs_neighborhood)}, Int64, Matrix{Float64}}, RatingsDataset, RatingsDataset}, Float64}}(0.636517042598103,0.0,0.0,1.0)]\n"
     ]
    },
    {
     "name": "stdout",
     "output_type": "stream",
     "text": [
      "     3     1.397771e+00     1.790049e-02\n",
      " * Current step size: 1.1423118513856343\n",
      " * time: 2192.136258840561\n",
      " * g(x): [-0.004270360842539024, -0.0009798145080021972, 0.017900494523699788]\n",
      " * x: [0.7208819287543748, 1.0418483375079284, 0.636517042598103]\n"
     ]
    },
    {
     "name": "stderr",
     "output_type": "stream",
     "text": [
      "\u001b[32mProgress: 100%|███████████████████████████| Time: 0:02:50 (42.97 ms/it)\u001b[39m\n",
      "\u001b[38;5;4m\u001b[1m[ \u001b[22m\u001b[39m\u001b[38;5;4m\u001b[1mDebug: \u001b[22m\u001b[39m20211230 23:40:22 loss: Dual{ForwardDiff.Tag{var\"#validation_mse#17\"{var\"#14#16\"{cf_params, Dict{String, typeof(get_abs_neighborhood)}, Int64, Matrix{Float64}}, RatingsDataset, RatingsDataset}, Float64}}(1.3972616679570387,-0.0042754626477850945,1.6735613035934433e-5,0.018455167261416723) β: Dual{ForwardDiff.Tag{var\"#validation_mse#17\"{var\"#14#16\"{cf_params, Dict{String, typeof(get_abs_neighborhood)}, Int64, Matrix{Float64}}, RatingsDataset, RatingsDataset}, Float64}}(1.5115313739819087,1.6530507294782253,-0.9877879664915538,0.9375278206990434): λ ForwardDiff.Dual{ForwardDiff.Tag{var\"#validation_mse#17\"{var\"#14#16\"{cf_params, Dict{String, typeof(get_abs_neighborhood)}, Int64, Matrix{Float64}}, RatingsDataset, RatingsDataset}, Float64}, Float64, 3}[Dual{ForwardDiff.Tag{var\"#validation_mse#17\"{var\"#14#16\"{cf_params, Dict{String, typeof(get_abs_neighborhood)}, Int64, Matrix{Float64}}, RatingsDataset, RatingsDataset}, Float64}}(0.7319325320737872,1.0,0.0,0.0), Dual{ForwardDiff.Tag{var\"#validation_mse#17\"{var\"#14#16\"{cf_params, Dict{String, typeof(get_abs_neighborhood)}, Int64, Matrix{Float64}}, RatingsDataset, RatingsDataset}, Float64}}(1.0478327131112353,0.0,1.0,0.0), Dual{ForwardDiff.Tag{var\"#validation_mse#17\"{var\"#14#16\"{cf_params, Dict{String, typeof(get_abs_neighborhood)}, Int64, Matrix{Float64}}, RatingsDataset, RatingsDataset}, Float64}}(0.6112400144934645,0.0,0.0,1.0)]\n",
      "\u001b[32mProgress: 100%|███████████████████████████| Time: 0:02:23 (36.13 ms/it)\u001b[39m\n",
      "\u001b[38;5;4m\u001b[1m[ \u001b[22m\u001b[39m\u001b[38;5;4m\u001b[1mDebug: \u001b[22m\u001b[39m20211230 23:42:51 loss: Dual{ForwardDiff.Tag{var\"#validation_mse#17\"{var\"#14#16\"{cf_params, Dict{String, typeof(get_abs_neighborhood)}, Int64, Matrix{Float64}}, RatingsDataset, RatingsDataset}, Float64}}(1.3951308548984331,-0.005462036450096393,0.004101681457651146,0.02047783460190594) β: Dual{ForwardDiff.Tag{var\"#validation_mse#17\"{var\"#14#16\"{cf_params, Dict{String, typeof(get_abs_neighborhood)}, Int64, Matrix{Float64}}, RatingsDataset, RatingsDataset}, Float64}}(1.4579472855008917,1.556134353925249,-0.9851295161821441,1.0642771045315493): λ ForwardDiff.Dual{ForwardDiff.Tag{var\"#validation_mse#17\"{var\"#14#16\"{cf_params, Dict{String, typeof(get_abs_neighborhood)}, Int64, Matrix{Float64}}, RatingsDataset, RatingsDataset}, Float64}, Float64, 3}[Dual{ForwardDiff.Tag{var\"#validation_mse#17\"{var\"#14#16\"{cf_params, Dict{String, typeof(get_abs_neighborhood)}, Int64, Matrix{Float64}}, RatingsDataset, RatingsDataset}, Float64}}(0.7761349453514365,1.0,0.0,0.0), Dual{ForwardDiff.Tag{var\"#validation_mse#17\"{var\"#14#16\"{cf_params, Dict{String, typeof(get_abs_neighborhood)}, Int64, Matrix{Float64}}, RatingsDataset, RatingsDataset}, Float64}}(1.0717702155244624,0.0,1.0,0.0), Dual{ForwardDiff.Tag{var\"#validation_mse#17\"{var\"#14#16\"{cf_params, Dict{String, typeof(get_abs_neighborhood)}, Int64, Matrix{Float64}}, RatingsDataset, RatingsDataset}, Float64}}(0.5101319020749108,0.0,0.0,1.0)]\n",
      "\u001b[32mProgress: 100%|███████████████████████████| Time: 0:02:23 (36.19 ms/it)\u001b[39m\n",
      "\u001b[38;5;4m\u001b[1m[ \u001b[22m\u001b[39m\u001b[38;5;4m\u001b[1mDebug: \u001b[22m\u001b[39m20211230 23:45:19 loss: Dual{ForwardDiff.Tag{var\"#validation_mse#17\"{var\"#14#16\"{cf_params, Dict{String, typeof(get_abs_neighborhood)}, Int64, Matrix{Float64}}, RatingsDataset, RatingsDataset}, Float64}}(1.4231357080011589,-0.05527474252305873,0.03715218785856825,-1.3175900853980043) β: Dual{ForwardDiff.Tag{var\"#validation_mse#17\"{var\"#14#16\"{cf_params, Dict{String, typeof(get_abs_neighborhood)}, Int64, Matrix{Float64}}, RatingsDataset, RatingsDataset}, Float64}}(0.6199091347949388,0.1062809771617607,-0.5394354396540957,6.320487889551672): λ ForwardDiff.Dual{ForwardDiff.Tag{var\"#validation_mse#17\"{var\"#14#16\"{cf_params, Dict{String, typeof(get_abs_neighborhood)}, Int64, Matrix{Float64}}, RatingsDataset, RatingsDataset}, Float64}, Float64, 3}[Dual{ForwardDiff.Tag{var\"#validation_mse#17\"{var\"#14#16\"{cf_params, Dict{String, typeof(get_abs_neighborhood)}, Int64, Matrix{Float64}}, RatingsDataset, RatingsDataset}, Float64}}(0.9971470117396828,1.0,0.0,0.0), Dual{ForwardDiff.Tag{var\"#validation_mse#17\"{var\"#14#16\"{cf_params, Dict{String, typeof(get_abs_neighborhood)}, Int64, Matrix{Float64}}, RatingsDataset, RatingsDataset}, Float64}}(1.1914577275905989,0.0,1.0,0.0), Dual{ForwardDiff.Tag{var\"#validation_mse#17\"{var\"#14#16\"{cf_params, Dict{String, typeof(get_abs_neighborhood)}, Int64, Matrix{Float64}}, RatingsDataset, RatingsDataset}, Float64}}(0.004591339982141673,0.0,0.0,1.0)]\n",
      "\u001b[32mProgress: 100%|███████████████████████████| Time: 0:02:26 (36.90 ms/it)\u001b[39m\n",
      "\u001b[38;5;4m\u001b[1m[ \u001b[22m\u001b[39m\u001b[38;5;4m\u001b[1mDebug: \u001b[22m\u001b[39m20211230 23:47:51 loss: Dual{ForwardDiff.Tag{var\"#validation_mse#17\"{var\"#14#16\"{cf_params, Dict{String, typeof(get_abs_neighborhood)}, Int64, Matrix{Float64}}, RatingsDataset, RatingsDataset}, Float64}}(1.3949472305249018,-0.005659766847633889,0.00444801493750134,0.020617367319419662) β: Dual{ForwardDiff.Tag{var\"#validation_mse#17\"{var\"#14#16\"{cf_params, Dict{String, typeof(get_abs_neighborhood)}, Int64, Matrix{Float64}}, RatingsDataset, RatingsDataset}, Float64}}(1.4527227855678928,1.5467942351672168,-0.9843193054081529,1.076029760977349): λ ForwardDiff.Dual{ForwardDiff.Tag{var\"#validation_mse#17\"{var\"#14#16\"{cf_params, Dict{String, typeof(get_abs_neighborhood)}, Int64, Matrix{Float64}}, RatingsDataset, RatingsDataset}, Float64}, Float64, 3}[Dual{ForwardDiff.Tag{var\"#validation_mse#17\"{var\"#14#16\"{cf_params, Dict{String, typeof(get_abs_neighborhood)}, Int64, Matrix{Float64}}, RatingsDataset, RatingsDataset}, Float64}}(0.7797894458871488,1.0,0.0,0.0), Dual{ForwardDiff.Tag{var\"#validation_mse#17\"{var\"#14#16\"{cf_params, Dict{String, typeof(get_abs_neighborhood)}, Int64, Matrix{Float64}}, RatingsDataset, RatingsDataset}, Float64}}(1.073749284288045,0.0,1.0,0.0), Dual{ForwardDiff.Tag{var\"#validation_mse#17\"{var\"#14#16\"{cf_params, Dict{String, typeof(get_abs_neighborhood)}, Int64, Matrix{Float64}}, RatingsDataset, RatingsDataset}, Float64}}(0.5017726378719016,0.0,0.0,1.0)]\n",
      "\u001b[32mProgress: 100%|███████████████████████████| Time: 0:03:17 (49.64 ms/it)\u001b[39m\n",
      "\u001b[38;5;4m\u001b[1m[ \u001b[22m\u001b[39m\u001b[38;5;4m\u001b[1mDebug: \u001b[22m\u001b[39m20211230 23:51:14 loss: Dual{ForwardDiff.Tag{var\"#validation_mse#17\"{var\"#14#16\"{cf_params, Dict{String, typeof(get_abs_neighborhood)}, Int64, Matrix{Float64}}, RatingsDataset, RatingsDataset}, Float64}}(1.389217841853215,-0.023770211984023838,0.01588183744966696,0.013690906920421847) β: Dual{ForwardDiff.Tag{var\"#validation_mse#17\"{var\"#14#16\"{cf_params, Dict{String, typeof(get_abs_neighborhood)}, Int64, Matrix{Float64}}, RatingsDataset, RatingsDataset}, Float64}}(1.2220876843013075,1.1506995937785582,-0.9026121593533689,1.5969888432927808): λ ForwardDiff.Dual{ForwardDiff.Tag{var\"#validation_mse#17\"{var\"#14#16\"{cf_params, Dict{String, typeof(get_abs_neighborhood)}, Int64, Matrix{Float64}}, RatingsDataset, RatingsDataset}, Float64}, Float64, 3}[Dual{ForwardDiff.Tag{var\"#validation_mse#17\"{var\"#14#16\"{cf_params, Dict{String, typeof(get_abs_neighborhood)}, Int64, Matrix{Float64}}, RatingsDataset, RatingsDataset}, Float64}}(0.8884682288134158,1.0,0.0,0.0), Dual{ForwardDiff.Tag{var\"#validation_mse#17\"{var\"#14#16\"{cf_params, Dict{String, typeof(get_abs_neighborhood)}, Int64, Matrix{Float64}}, RatingsDataset, RatingsDataset}, Float64}}(1.1326035059393218,0.0,1.0,0.0), Dual{ForwardDiff.Tag{var\"#validation_mse#17\"{var\"#14#16\"{cf_params, Dict{String, typeof(get_abs_neighborhood)}, Int64, Matrix{Float64}}, RatingsDataset, RatingsDataset}, Float64}}(0.25318198892702165,0.0,0.0,1.0)]\n",
      "\u001b[32mProgress: 100%|███████████████████████████| Time: 0:02:58 (44.83 ms/it)\u001b[39m\n",
      "\u001b[38;5;4m\u001b[1m[ \u001b[22m\u001b[39m\u001b[38;5;4m\u001b[1mDebug: \u001b[22m\u001b[39m20211230 23:54:21 loss: Dual{ForwardDiff.Tag{var\"#validation_mse#17\"{var\"#14#16\"{cf_params, Dict{String, typeof(get_abs_neighborhood)}, Int64, Matrix{Float64}}, RatingsDataset, RatingsDataset}, Float64}}(1.3891409129170853,-0.024332773275376984,0.016085466466961972,0.013120681159730939) β: Dual{ForwardDiff.Tag{var\"#validation_mse#17\"{var\"#14#16\"{cf_params, Dict{String, typeof(get_abs_neighborhood)}, Int64, Matrix{Float64}}, RatingsDataset, RatingsDataset}, Float64}}(1.2170628815827347,1.1423808664588824,-0.9002115378452776,1.609552098830651): λ ForwardDiff.Dual{ForwardDiff.Tag{var\"#validation_mse#17\"{var\"#14#16\"{cf_params, Dict{String, typeof(get_abs_neighborhood)}, Int64, Matrix{Float64}}, RatingsDataset, RatingsDataset}, Float64}, Float64, 3}[Dual{ForwardDiff.Tag{var\"#validation_mse#17\"{var\"#14#16\"{cf_params, Dict{String, typeof(get_abs_neighborhood)}, Int64, Matrix{Float64}}, RatingsDataset, RatingsDataset}, Float64}}(0.8901382285406323,1.0,0.0,0.0), Dual{ForwardDiff.Tag{var\"#validation_mse#17\"{var\"#14#16\"{cf_params, Dict{String, typeof(get_abs_neighborhood)}, Int64, Matrix{Float64}}, RatingsDataset, RatingsDataset}, Float64}}(1.133507882409657,0.0,1.0,0.0), Dual{ForwardDiff.Tag{var\"#validation_mse#17\"{var\"#14#16\"{cf_params, Dict{String, typeof(get_abs_neighborhood)}, Int64, Matrix{Float64}}, RatingsDataset, RatingsDataset}, Float64}}(0.2493620499771333,0.0,0.0,1.0)]\n",
      "\u001b[32mProgress: 100%|███████████████████████████| Time: 0:02:53 (43.55 ms/it)\u001b[39m\n",
      "\u001b[38;5;4m\u001b[1m[ \u001b[22m\u001b[39m\u001b[38;5;4m\u001b[1mDebug: \u001b[22m\u001b[39m20211230 23:57:19 loss: Dual{ForwardDiff.Tag{var\"#validation_mse#17\"{var\"#14#16\"{cf_params, Dict{String, typeof(get_abs_neighborhood)}, Int64, Matrix{Float64}}, RatingsDataset, RatingsDataset}, Float64}}(1.3980003408337782,-0.07935564632959485,0.031088338626306673,-0.3178183041558448) β: Dual{ForwardDiff.Tag{var\"#validation_mse#17\"{var\"#14#16\"{cf_params, Dict{String, typeof(get_abs_neighborhood)}, Int64, Matrix{Float64}}, RatingsDataset, RatingsDataset}, Float64}}(0.8014458572234364,0.4727984829164308,-0.6601868451051949,3.496445322076505): λ ForwardDiff.Dual{ForwardDiff.Tag{var\"#validation_mse#17\"{var\"#14#16\"{cf_params, Dict{String, typeof(get_abs_neighborhood)}, Int64, Matrix{Float64}}, RatingsDataset, RatingsDataset}, Float64}, Float64, 3}[Dual{ForwardDiff.Tag{var\"#validation_mse#17\"{var\"#14#16\"{cf_params, Dict{String, typeof(get_abs_neighborhood)}, Int64, Matrix{Float64}}, RatingsDataset, RatingsDataset}, Float64}}(0.9795806827130937,1.0,0.0,0.0), Dual{ForwardDiff.Tag{var\"#validation_mse#17\"{var\"#14#16\"{cf_params, Dict{String, typeof(get_abs_neighborhood)}, Int64, Matrix{Float64}}, RatingsDataset, RatingsDataset}, Float64}}(1.1819448070895333,0.0,1.0,0.0), Dual{ForwardDiff.Tag{var\"#validation_mse#17\"{var\"#14#16\"{cf_params, Dict{String, typeof(get_abs_neighborhood)}, Int64, Matrix{Float64}}, RatingsDataset, RatingsDataset}, Float64}}(0.044772367177318695,0.0,0.0,1.0)]\n",
      "\u001b[32mProgress: 100%|███████████████████████████| Time: 0:02:52 (43.53 ms/it)\u001b[39m\n",
      "\u001b[38;5;4m\u001b[1m[ \u001b[22m\u001b[39m\u001b[38;5;4m\u001b[1mDebug: \u001b[22m\u001b[39m20211231 00:00:18 loss: Dual{ForwardDiff.Tag{var\"#validation_mse#17\"{var\"#14#16\"{cf_params, Dict{String, typeof(get_abs_neighborhood)}, Int64, Matrix{Float64}}, RatingsDataset, RatingsDataset}, Float64}}(1.388210455136124,-0.04536213017351834,0.022211064530416814,-0.02548568257598135) β: Dual{ForwardDiff.Tag{var\"#validation_mse#17\"{var\"#14#16\"{cf_params, Dict{String, typeof(get_abs_neighborhood)}, Int64, Matrix{Float64}}, RatingsDataset, RatingsDataset}, Float64}}(1.0556242651311767,0.8806113552771518,-0.8152095802891387,2.0840855872674875): λ ForwardDiff.Dual{ForwardDiff.Tag{var\"#validation_mse#17\"{var\"#14#16\"{cf_params, Dict{String, typeof(get_abs_neighborhood)}, Int64, Matrix{Float64}}, RatingsDataset, RatingsDataset}, Float64}, Float64, 3}[Dual{ForwardDiff.Tag{var\"#validation_mse#17\"{var\"#14#16\"{cf_params, Dict{String, typeof(get_abs_neighborhood)}, Int64, Matrix{Float64}}, RatingsDataset, RatingsDataset}, Float64}}(0.934859455626863,1.0,0.0,0.0), Dual{ForwardDiff.Tag{var\"#validation_mse#17\"{var\"#14#16\"{cf_params, Dict{String, typeof(get_abs_neighborhood)}, Int64, Matrix{Float64}}, RatingsDataset, RatingsDataset}, Float64}}(1.1577263447495951,0.0,1.0,0.0), Dual{ForwardDiff.Tag{var\"#validation_mse#17\"{var\"#14#16\"{cf_params, Dict{String, typeof(get_abs_neighborhood)}, Int64, Matrix{Float64}}, RatingsDataset, RatingsDataset}, Float64}}(0.147067208577226,0.0,0.0,1.0)]\n",
      "\u001b[32mProgress: 100%|███████████████████████████| Time: 0:03:28 (52.35 ms/it)\u001b[39m\n",
      "\u001b[38;5;4m\u001b[1m[ \u001b[22m\u001b[39m\u001b[38;5;4m\u001b[1mDebug: \u001b[22m\u001b[39m20211231 00:03:51 loss: Dual{ForwardDiff.Tag{var\"#validation_mse#17\"{var\"#14#16\"{cf_params, Dict{String, typeof(get_abs_neighborhood)}, Int64, Matrix{Float64}}, RatingsDataset, RatingsDataset}, Float64}}(1.3881713928156563,-0.036425960577084346,0.019866591428359403,-0.004448465766534065) β: Dual{ForwardDiff.Tag{var\"#validation_mse#17\"{var\"#14#16\"{cf_params, Dict{String, typeof(get_abs_neighborhood)}, Int64, Matrix{Float64}}, RatingsDataset, RatingsDataset}, Float64}}(1.119458536875428,0.9829617220345183,-0.850449075253287,1.8767277119641341): λ ForwardDiff.Dual{ForwardDiff.Tag{var\"#validation_mse#17\"{var\"#14#16\"{cf_params, Dict{String, typeof(get_abs_neighborhood)}, Int64, Matrix{Float64}}, RatingsDataset, RatingsDataset}, Float64}, Float64, 3}[Dual{ForwardDiff.Tag{var\"#validation_mse#17\"{var\"#14#16\"{cf_params, Dict{String, typeof(get_abs_neighborhood)}, Int64, Matrix{Float64}}, RatingsDataset, RatingsDataset}, Float64}}(0.9190465695933431,1.0,0.0,0.0), Dual{ForwardDiff.Tag{var\"#validation_mse#17\"{var\"#14#16\"{cf_params, Dict{String, typeof(get_abs_neighborhood)}, Int64, Matrix{Float64}}, RatingsDataset, RatingsDataset}, Float64}}(1.149162988825794,0.0,1.0,0.0), Dual{ForwardDiff.Tag{var\"#validation_mse#17\"{var\"#14#16\"{cf_params, Dict{String, typeof(get_abs_neighborhood)}, Int64, Matrix{Float64}}, RatingsDataset, RatingsDataset}, Float64}}(0.1832374296168845,0.0,0.0,1.0)]\n"
     ]
    },
    {
     "name": "stdout",
     "output_type": "stream",
     "text": [
      "     4     1.388171e+00     3.642596e-02\n",
      " * Current step size: 17.93247256381535\n",
      " * time: 3775.490613937378\n",
      " * g(x): [-0.036425960577084346, 0.019866591428359403, -0.004448465766534065]\n",
      " * x: [0.9190465695933431, 1.149162988825794, 0.1832374296168845]\n"
     ]
    },
    {
     "name": "stderr",
     "output_type": "stream",
     "text": [
      "\u001b[32mProgress: 100%|███████████████████████████| Time: 0:03:30 (52.90 ms/it)\u001b[39m\n",
      "\u001b[38;5;4m\u001b[1m[ \u001b[22m\u001b[39m\u001b[38;5;4m\u001b[1mDebug: \u001b[22m\u001b[39m20211231 00:07:30 loss: Dual{ForwardDiff.Tag{var\"#validation_mse#17\"{var\"#14#16\"{cf_params, Dict{String, typeof(get_abs_neighborhood)}, Int64, Matrix{Float64}}, RatingsDataset, RatingsDataset}, Float64}}(1.6981919958454224,0.4790036010908728,-3.07691073182141e-8,-0.26091607983583703) β: Dual{ForwardDiff.Tag{var\"#validation_mse#17\"{var\"#14#16\"{cf_params, Dict{String, typeof(get_abs_neighborhood)}, Int64, Matrix{Float64}}, RatingsDataset, RatingsDataset}, Float64}}(-2.093810194016188e-7,5.668350626047199,-2.2400773843507747e-7,-3.084177648552147): λ ForwardDiff.Dual{ForwardDiff.Tag{var\"#validation_mse#17\"{var\"#14#16\"{cf_params, Dict{String, typeof(get_abs_neighborhood)}, Int64, Matrix{Float64}}, RatingsDataset, RatingsDataset}, Float64}, Float64, 3}[Dual{ForwardDiff.Tag{var\"#validation_mse#17\"{var\"#14#16\"{cf_params, Dict{String, typeof(get_abs_neighborhood)}, Int64, Matrix{Float64}}, RatingsDataset, RatingsDataset}, Float64}}(1.5451910851809973,1.0,0.0,0.0), Dual{ForwardDiff.Tag{var\"#validation_mse#17\"{var\"#14#16\"{cf_params, Dict{String, typeof(get_abs_neighborhood)}, Int64, Matrix{Float64}}, RatingsDataset, RatingsDataset}, Float64}}(1.2870468278317093,0.0,1.0,0.0), Dual{ForwardDiff.Tag{var\"#validation_mse#17\"{var\"#14#16\"{cf_params, Dict{String, typeof(get_abs_neighborhood)}, Int64, Matrix{Float64}}, RatingsDataset, RatingsDataset}, Float64}}(-0.7264081152843054,0.0,0.0,1.0)]\n",
      "\u001b[32mProgress: 100%|███████████████████████████| Time: 0:03:26 (51.95 ms/it)\u001b[39m\n",
      "\u001b[38;5;4m\u001b[1m[ \u001b[22m\u001b[39m\u001b[38;5;4m\u001b[1mDebug: \u001b[22m\u001b[39m20211231 00:11:04 loss: Dual{ForwardDiff.Tag{var\"#validation_mse#17\"{var\"#14#16\"{cf_params, Dict{String, typeof(get_abs_neighborhood)}, Int64, Matrix{Float64}}, RatingsDataset, RatingsDataset}, Float64}}(1.3878079738799796,-0.041314960695655684,0.0210641322847818,-0.016068718709883297) β: Dual{ForwardDiff.Tag{var\"#validation_mse#17\"{var\"#14#16\"{cf_params, Dict{String, typeof(get_abs_neighborhood)}, Int64, Matrix{Float64}}, RatingsDataset, RatingsDataset}, Float64}}(1.0817635491795217,0.9191006630732272,-0.8286848588540238,2.0464754608984745): λ ForwardDiff.Dual{ForwardDiff.Tag{var\"#validation_mse#17\"{var\"#14#16\"{cf_params, Dict{String, typeof(get_abs_neighborhood)}, Int64, Matrix{Float64}}, RatingsDataset, RatingsDataset}, Float64}, Float64, 3}[Dual{ForwardDiff.Tag{var\"#validation_mse#17\"{var\"#14#16\"{cf_params, Dict{String, typeof(get_abs_neighborhood)}, Int64, Matrix{Float64}}, RatingsDataset, RatingsDataset}, Float64}}(0.9371784301636746,1.0,0.0,0.0), Dual{ForwardDiff.Tag{var\"#validation_mse#17\"{var\"#14#16\"{cf_params, Dict{String, typeof(get_abs_neighborhood)}, Int64, Matrix{Float64}}, RatingsDataset, RatingsDataset}, Float64}}(1.1531558219202607,0.0,1.0,0.0), Dual{ForwardDiff.Tag{var\"#validation_mse#17\"{var\"#14#16\"{cf_params, Dict{String, typeof(get_abs_neighborhood)}, Int64, Matrix{Float64}}, RatingsDataset, RatingsDataset}, Float64}}(0.15689596086970242,0.0,0.0,1.0)]\n"
     ]
    },
    {
     "name": "stdout",
     "output_type": "stream",
     "text": [
      "     5     1.387808e+00     4.131496e-02\n",
      " * Current step size: 0.028957948395210795\n",
      " * time: 4208.471191883087\n",
      " * g(x): [-0.041314960695655684, 0.0210641322847818, -0.016068718709883297]\n",
      " * x: [0.9371784301636746, 1.1531558219202607, 0.15689596086970242]\n"
     ]
    },
    {
     "name": "stderr",
     "output_type": "stream",
     "text": [
      "\u001b[32mProgress: 100%|███████████████████████████| Time: 0:03:44 (56.41 ms/it)\u001b[39m\n",
      "\u001b[38;5;4m\u001b[1m[ \u001b[22m\u001b[39m\u001b[38;5;4m\u001b[1mDebug: \u001b[22m\u001b[39m20211231 00:14:56 loss: Dual{ForwardDiff.Tag{var\"#validation_mse#17\"{var\"#14#16\"{cf_params, Dict{String, typeof(get_abs_neighborhood)}, Int64, Matrix{Float64}}, RatingsDataset, RatingsDataset}, Float64}}(1.3849959459124679,-0.0602304848920006,0.022567600393013233,-0.23751233207468994) β: Dual{ForwardDiff.Tag{var\"#validation_mse#17\"{var\"#14#16\"{cf_params, Dict{String, typeof(get_abs_neighborhood)}, Int64, Matrix{Float64}}, RatingsDataset, RatingsDataset}, Float64}}(0.9130795301496049,0.5952071988479827,-0.7071849531919896,4.8773938209403225): λ ForwardDiff.Dual{ForwardDiff.Tag{var\"#validation_mse#17\"{var\"#14#16\"{cf_params, Dict{String, typeof(get_abs_neighborhood)}, Int64, Matrix{Float64}}, RatingsDataset, RatingsDataset}, Float64}, Float64, 3}[Dual{ForwardDiff.Tag{var\"#validation_mse#17\"{var\"#14#16\"{cf_params, Dict{String, typeof(get_abs_neighborhood)}, Int64, Matrix{Float64}}, RatingsDataset, RatingsDataset}, Float64}}(1.1570551672746974,1.0,0.0,0.0), Dual{ForwardDiff.Tag{var\"#validation_mse#17\"{var\"#14#16\"{cf_params, Dict{String, typeof(get_abs_neighborhood)}, Int64, Matrix{Float64}}, RatingsDataset, RatingsDataset}, Float64}}(1.1442510324640869,0.0,1.0,0.0), Dual{ForwardDiff.Tag{var\"#validation_mse#17\"{var\"#14#16\"{cf_params, Dict{String, typeof(get_abs_neighborhood)}, Int64, Matrix{Float64}}, RatingsDataset, RatingsDataset}, Float64}}(0.04266616397324208,0.0,0.0,1.0)]\n",
      "\u001b[32mProgress: 100%|███████████████████████████| Time: 0:03:43 (56.18 ms/it)\u001b[39m\n",
      "\u001b[38;5;4m\u001b[1m[ \u001b[22m\u001b[39m\u001b[38;5;4m\u001b[1mDebug: \u001b[22m\u001b[39m20211231 00:18:47 loss: Dual{ForwardDiff.Tag{var\"#validation_mse#17\"{var\"#14#16\"{cf_params, Dict{String, typeof(get_abs_neighborhood)}, Int64, Matrix{Float64}}, RatingsDataset, RatingsDataset}, Float64}}(1.3854072308552032,-0.041031290183607606,0.020870685644101567,-0.027675178458314836) β: Dual{ForwardDiff.Tag{var\"#validation_mse#17\"{var\"#14#16\"{cf_params, Dict{String, typeof(get_abs_neighborhood)}, Int64, Matrix{Float64}}, RatingsDataset, RatingsDataset}, Float64}}(1.0606908195872569,0.8617008625226299,-0.8109782187097916,2.605729896639418): λ ForwardDiff.Dual{ForwardDiff.Tag{var\"#validation_mse#17\"{var\"#14#16\"{cf_params, Dict{String, typeof(get_abs_neighborhood)}, Int64, Matrix{Float64}}, RatingsDataset, RatingsDataset}, Float64}, Float64, 3}[Dual{ForwardDiff.Tag{var\"#validation_mse#17\"{var\"#14#16\"{cf_params, Dict{String, typeof(get_abs_neighborhood)}, Int64, Matrix{Float64}}, RatingsDataset, RatingsDataset}, Float64}}(1.014584956082377,1.0,0.0,0.0), Dual{ForwardDiff.Tag{var\"#validation_mse#17\"{var\"#14#16\"{cf_params, Dict{String, typeof(get_abs_neighborhood)}, Int64, Matrix{Float64}}, RatingsDataset, RatingsDataset}, Float64}}(1.1500209345060826,0.0,1.0,0.0), Dual{ForwardDiff.Tag{var\"#validation_mse#17\"{var\"#14#16\"{cf_params, Dict{String, typeof(get_abs_neighborhood)}, Int64, Matrix{Float64}}, RatingsDataset, RatingsDataset}, Float64}}(0.11668192162966551,0.0,0.0,1.0)]\n"
     ]
    },
    {
     "name": "stdout",
     "output_type": "stream",
     "text": [
      "     6     1.385407e+00     4.103129e-02\n",
      " * Current step size: 0.35204509097120734\n",
      " * time: 4671.622793912888\n",
      " * g(x): [-0.041031290183607606, 0.020870685644101567, -0.027675178458314836]\n",
      " * x: [1.014584956082377, 1.1500209345060826, 0.11668192162966551]\n"
     ]
    },
    {
     "name": "stderr",
     "output_type": "stream",
     "text": [
      "\u001b[32mProgress: 100%|███████████████████████████| Time: 0:03:32 (53.42 ms/it)\u001b[39m\n",
      "\u001b[38;5;4m\u001b[1m[ \u001b[22m\u001b[39m\u001b[38;5;4m\u001b[1mDebug: \u001b[22m\u001b[39m20211231 00:22:27 loss: Dual{ForwardDiff.Tag{var\"#validation_mse#17\"{var\"#14#16\"{cf_params, Dict{String, typeof(get_abs_neighborhood)}, Int64, Matrix{Float64}}, RatingsDataset, RatingsDataset}, Float64}}(1.698192008706425,0.3469836074498505,9.010927767082027e-9,-2.062270227240062) β: Dual{ForwardDiff.Tag{var\"#validation_mse#17\"{var\"#14#16\"{cf_params, Dict{String, typeof(get_abs_neighborhood)}, Int64, Matrix{Float64}}, RatingsDataset, RatingsDataset}, Float64}}(7.873654878036215e-9,-0.5855705681376557,-2.5888778258257093e-8,3.2743736639747554): λ ForwardDiff.Dual{ForwardDiff.Tag{var\"#validation_mse#17\"{var\"#14#16\"{cf_params, Dict{String, typeof(get_abs_neighborhood)}, Int64, Matrix{Float64}}, RatingsDataset, RatingsDataset}, Float64}, Float64, 3}[Dual{ForwardDiff.Tag{var\"#validation_mse#17\"{var\"#14#16\"{cf_params, Dict{String, typeof(get_abs_neighborhood)}, Int64, Matrix{Float64}}, RatingsDataset, RatingsDataset}, Float64}}(1.5470341875267817,1.0,0.0,0.0), Dual{ForwardDiff.Tag{var\"#validation_mse#17\"{var\"#14#16\"{cf_params, Dict{String, typeof(get_abs_neighborhood)}, Int64, Matrix{Float64}}, RatingsDataset, RatingsDataset}, Float64}}(1.0694787720229288,0.0,1.0,0.0), Dual{ForwardDiff.Tag{var\"#validation_mse#17\"{var\"#14#16\"{cf_params, Dict{String, typeof(get_abs_neighborhood)}, Int64, Matrix{Float64}}, RatingsDataset, RatingsDataset}, Float64}}(-0.052358892706909965,0.0,0.0,1.0)]\n",
      "\u001b[32mProgress: 100%|███████████████████████████| Time: 0:03:27 (52.14 ms/it)\u001b[39m\n",
      "\u001b[38;5;4m\u001b[1m[ \u001b[22m\u001b[39m\u001b[38;5;4m\u001b[1mDebug: \u001b[22m\u001b[39m20211231 00:26:00 loss: Dual{ForwardDiff.Tag{var\"#validation_mse#17\"{var\"#14#16\"{cf_params, Dict{String, typeof(get_abs_neighborhood)}, Int64, Matrix{Float64}}, RatingsDataset, RatingsDataset}, Float64}}(1.3847748198767351,-0.03987507169371076,0.020375423151477032,-0.027611322266794386) β: Dual{ForwardDiff.Tag{var\"#validation_mse#17\"{var\"#14#16\"{cf_params, Dict{String, typeof(get_abs_neighborhood)}, Int64, Matrix{Float64}}, RatingsDataset, RatingsDataset}, Float64}}(1.0631350298374458,0.8586510858268758,-0.809972339387098,2.7405100366324247): λ ForwardDiff.Dual{ForwardDiff.Tag{var\"#validation_mse#17\"{var\"#14#16\"{cf_params, Dict{String, typeof(get_abs_neighborhood)}, Int64, Matrix{Float64}}, RatingsDataset, RatingsDataset}, Float64}, Float64, 3}[Dual{ForwardDiff.Tag{var\"#validation_mse#17\"{var\"#14#16\"{cf_params, Dict{String, typeof(get_abs_neighborhood)}, Int64, Matrix{Float64}}, RatingsDataset, RatingsDataset}, Float64}}(1.0327602713666753,1.0,0.0,0.0), Dual{ForwardDiff.Tag{var\"#validation_mse#17\"{var\"#14#16\"{cf_params, Dict{String, typeof(get_abs_neighborhood)}, Int64, Matrix{Float64}}, RatingsDataset, RatingsDataset}, Float64}}(1.1472716034706347,0.0,1.0,0.0), Dual{ForwardDiff.Tag{var\"#validation_mse#17\"{var\"#14#16\"{cf_params, Dict{String, typeof(get_abs_neighborhood)}, Int64, Matrix{Float64}}, RatingsDataset, RatingsDataset}, Float64}}(0.11091166239171489,0.0,0.0,1.0)]\n",
      "\u001b[32mProgress: 100%|███████████████████████████| Time: 0:03:18 (49.99 ms/it)\u001b[39m\n",
      "\u001b[38;5;4m\u001b[1m[ \u001b[22m\u001b[39m\u001b[38;5;4m\u001b[1mDebug: \u001b[22m\u001b[39m20211231 00:29:26 loss: Dual{ForwardDiff.Tag{var\"#validation_mse#17\"{var\"#14#16\"{cf_params, Dict{String, typeof(get_abs_neighborhood)}, Int64, Matrix{Float64}}, RatingsDataset, RatingsDataset}, Float64}}(1.698190529115378,-2.8400819193529707,6.369262623013037e-7,20.739063862408987) β: Dual{ForwardDiff.Tag{var\"#validation_mse#17\"{var\"#14#16\"{cf_params, Dict{String, typeof(get_abs_neighborhood)}, Int64, Matrix{Float64}}, RatingsDataset, RatingsDataset}, Float64}}(1.379141536968336e-6,-0.761299385014262,-9.262092051665996e-7,3.210449309525206): λ ForwardDiff.Dual{ForwardDiff.Tag{var\"#validation_mse#17\"{var\"#14#16\"{cf_params, Dict{String, typeof(get_abs_neighborhood)}, Int64, Matrix{Float64}}, RatingsDataset, RatingsDataset}, Float64}, Float64, 3}[Dual{ForwardDiff.Tag{var\"#validation_mse#17\"{var\"#14#16\"{cf_params, Dict{String, typeof(get_abs_neighborhood)}, Int64, Matrix{Float64}}, RatingsDataset, RatingsDataset}, Float64}}(1.5459781216652795,1.0,0.0,0.0), Dual{ForwardDiff.Tag{var\"#validation_mse#17\"{var\"#14#16\"{cf_params, Dict{String, typeof(get_abs_neighborhood)}, Int64, Matrix{Float64}}, RatingsDataset, RatingsDataset}, Float64}}(1.069638520264051,0.0,1.0,0.0), Dual{ForwardDiff.Tag{var\"#validation_mse#17\"{var\"#14#16\"{cf_params, Dict{String, typeof(get_abs_neighborhood)}, Int64, Matrix{Float64}}, RatingsDataset, RatingsDataset}, Float64}}(-0.052023615233155074,0.0,0.0,1.0)]\n",
      "\u001b[32mProgress: 100%|███████████████████████████| Time: 0:03:08 (47.46 ms/it)\u001b[39m\n",
      "\u001b[38;5;4m\u001b[1m[ \u001b[22m\u001b[39m\u001b[38;5;4m\u001b[1mDebug: \u001b[22m\u001b[39m20211231 00:32:39 loss: Dual{ForwardDiff.Tag{var\"#validation_mse#17\"{var\"#14#16\"{cf_params, Dict{String, typeof(get_abs_neighborhood)}, Int64, Matrix{Float64}}, RatingsDataset, RatingsDataset}, Float64}}(1.3803897976641997,-0.052243382602011335,0.01582365175761186,-0.30131017493365464) β: Dual{ForwardDiff.Tag{var\"#validation_mse#17\"{var\"#14#16\"{cf_params, Dict{String, typeof(get_abs_neighborhood)}, Int64, Matrix{Float64}}, RatingsDataset, RatingsDataset}, Float64}}(0.9388868148875386,0.5835906053624538,-0.6944047833374584,7.083668382637974): λ ForwardDiff.Dual{ForwardDiff.Tag{var\"#validation_mse#17\"{var\"#14#16\"{cf_params, Dict{String, typeof(get_abs_neighborhood)}, Int64, Matrix{Float64}}, RatingsDataset, RatingsDataset}, Float64}, Float64, 3}[Dual{ForwardDiff.Tag{var\"#validation_mse#17\"{var\"#14#16\"{cf_params, Dict{String, typeof(get_abs_neighborhood)}, Int64, Matrix{Float64}}, RatingsDataset, RatingsDataset}, Float64}}(1.2893691965159775,1.0,0.0,0.0), Dual{ForwardDiff.Tag{var\"#validation_mse#17\"{var\"#14#16\"{cf_params, Dict{String, typeof(get_abs_neighborhood)}, Int64, Matrix{Float64}}, RatingsDataset, RatingsDataset}, Float64}}(1.1084550618673428,0.0,1.0,0.0), Dual{ForwardDiff.Tag{var\"#validation_mse#17\"{var\"#14#16\"{cf_params, Dict{String, typeof(get_abs_neighborhood)}, Int64, Matrix{Float64}}, RatingsDataset, RatingsDataset}, Float64}}(0.0294440235792799,0.0,0.0,1.0)]\n",
      "\u001b[32mProgress: 100%|███████████████████████████| Time: 0:03:03 (46.13 ms/it)\u001b[39m\n",
      "\u001b[38;5;4m\u001b[1m[ \u001b[22m\u001b[39m\u001b[38;5;4m\u001b[1mDebug: \u001b[22m\u001b[39m20211231 00:35:48 loss: Dual{ForwardDiff.Tag{var\"#validation_mse#17\"{var\"#14#16\"{cf_params, Dict{String, typeof(get_abs_neighborhood)}, Int64, Matrix{Float64}}, RatingsDataset, RatingsDataset}, Float64}}(1.3812607714964762,-0.03658787204926416,0.017519451590202288,-0.04375948813697963) β: Dual{ForwardDiff.Tag{var\"#validation_mse#17\"{var\"#14#16\"{cf_params, Dict{String, typeof(get_abs_neighborhood)}, Int64, Matrix{Float64}}, RatingsDataset, RatingsDataset}, Float64}}(1.0536790580944282,0.8002911381335905,-0.786828202519307,3.89952333435347): λ ForwardDiff.Dual{ForwardDiff.Tag{var\"#validation_mse#17\"{var\"#14#16\"{cf_params, Dict{String, typeof(get_abs_neighborhood)}, Int64, Matrix{Float64}}, RatingsDataset, RatingsDataset}, Float64}, Float64, 3}[Dual{ForwardDiff.Tag{var\"#validation_mse#17\"{var\"#14#16\"{cf_params, Dict{String, typeof(get_abs_neighborhood)}, Int64, Matrix{Float64}}, RatingsDataset, RatingsDataset}, Float64}}(1.149411796107671,1.0,0.0,0.0), Dual{ForwardDiff.Tag{var\"#validation_mse#17\"{var\"#14#16\"{cf_params, Dict{String, typeof(get_abs_neighborhood)}, Int64, Matrix{Float64}}, RatingsDataset, RatingsDataset}, Float64}}(1.1296260412184185,0.0,1.0,0.0), Dual{ForwardDiff.Tag{var\"#validation_mse#17\"{var\"#14#16\"{cf_params, Dict{String, typeof(get_abs_neighborhood)}, Int64, Matrix{Float64}}, RatingsDataset, RatingsDataset}, Float64}}(0.07387739213400668,0.0,0.0,1.0)]\n"
     ]
    },
    {
     "name": "stdout",
     "output_type": "stream",
     "text": [
      "     7     1.381261e+00     4.375949e-02\n",
      " * Current step size: 0.25322008571510524\n",
      " * time: 5692.971149921417\n",
      " * g(x): [-0.03658787204926416, 0.017519451590202288, -0.04375948813697963]\n",
      " * x: [1.149411796107671, 1.1296260412184185, 0.07387739213400668]\n"
     ]
    },
    {
     "name": "stderr",
     "output_type": "stream",
     "text": [
      "\u001b[32mProgress: 100%|███████████████████████████| Time: 0:03:15 (49.21 ms/it)\u001b[39m\n",
      "\u001b[38;5;4m\u001b[1m[ \u001b[22m\u001b[39m\u001b[38;5;4m\u001b[1mDebug: \u001b[22m\u001b[39m20211231 00:39:09 loss: Dual{ForwardDiff.Tag{var\"#validation_mse#17\"{var\"#14#16\"{cf_params, Dict{String, typeof(get_abs_neighborhood)}, Int64, Matrix{Float64}}, RatingsDataset, RatingsDataset}, Float64}}(1.3718851084780754,-0.02184963664375627,-0.0024775480697387664,-0.20010404533099707) β: Dual{ForwardDiff.Tag{var\"#validation_mse#17\"{var\"#14#16\"{cf_params, Dict{String, typeof(get_abs_neighborhood)}, Int64, Matrix{Float64}}, RatingsDataset, RatingsDataset}, Float64}}(1.030647448541733,0.5885641269944409,-0.6686940905228869,16.124083091620157): λ ForwardDiff.Dual{ForwardDiff.Tag{var\"#validation_mse#17\"{var\"#14#16\"{cf_params, Dict{String, typeof(get_abs_neighborhood)}, Int64, Matrix{Float64}}, RatingsDataset, RatingsDataset}, Float64}, Float64, 3}[Dual{ForwardDiff.Tag{var\"#validation_mse#17\"{var\"#14#16\"{cf_params, Dict{String, typeof(get_abs_neighborhood)}, Int64, Matrix{Float64}}, RatingsDataset, RatingsDataset}, Float64}}(1.6195388182719972,1.0,0.0,0.0), Dual{ForwardDiff.Tag{var\"#validation_mse#17\"{var\"#14#16\"{cf_params, Dict{String, typeof(get_abs_neighborhood)}, Int64, Matrix{Float64}}, RatingsDataset, RatingsDataset}, Float64}}(1.0208748112412585,0.0,1.0,0.0), Dual{ForwardDiff.Tag{var\"#validation_mse#17\"{var\"#14#16\"{cf_params, Dict{String, typeof(get_abs_neighborhood)}, Int64, Matrix{Float64}}, RatingsDataset, RatingsDataset}, Float64}}(0.013955115403406437,0.0,0.0,1.0)]\n",
      "\u001b[32mProgress: 100%|███████████████████████████| Time: 0:03:35 (54.18 ms/it)\u001b[39m\n",
      "\u001b[38;5;4m\u001b[1m[ \u001b[22m\u001b[39m\u001b[38;5;4m\u001b[1mDebug: \u001b[22m\u001b[39m20211231 00:42:51 loss: Dual{ForwardDiff.Tag{var\"#validation_mse#17\"{var\"#14#16\"{cf_params, Dict{String, typeof(get_abs_neighborhood)}, Int64, Matrix{Float64}}, RatingsDataset, RatingsDataset}, Float64}}(1.372214379675305,-0.01256232806612355,-0.0009234849640013973,0.004829521114967151) β: Dual{ForwardDiff.Tag{var\"#validation_mse#17\"{var\"#14#16\"{cf_params, Dict{String, typeof(get_abs_neighborhood)}, Int64, Matrix{Float64}}, RatingsDataset, RatingsDataset}, Float64}}(1.082536440764542,0.6721498619789401,-0.709223159538845,12.699400499932944): λ ForwardDiff.Dual{ForwardDiff.Tag{var\"#validation_mse#17\"{var\"#14#16\"{cf_params, Dict{String, typeof(get_abs_neighborhood)}, Int64, Matrix{Float64}}, RatingsDataset, RatingsDataset}, Float64}, Float64, 3}[Dual{ForwardDiff.Tag{var\"#validation_mse#17\"{var\"#14#16\"{cf_params, Dict{String, typeof(get_abs_neighborhood)}, Int64, Matrix{Float64}}, RatingsDataset, RatingsDataset}, Float64}}(1.5689422627378984,1.0,0.0,0.0), Dual{ForwardDiff.Tag{var\"#validation_mse#17\"{var\"#14#16\"{cf_params, Dict{String, typeof(get_abs_neighborhood)}, Int64, Matrix{Float64}}, RatingsDataset, RatingsDataset}, Float64}}(1.0325789622207306,0.0,1.0,0.0), Dual{ForwardDiff.Tag{var\"#validation_mse#17\"{var\"#14#16\"{cf_params, Dict{String, typeof(get_abs_neighborhood)}, Int64, Matrix{Float64}}, RatingsDataset, RatingsDataset}, Float64}}(0.0204041401549973,0.0,0.0,1.0)]\n"
     ]
    },
    {
     "name": "stdout",
     "output_type": "stream",
     "text": [
      "     8     1.372214e+00     1.256233e-02\n",
      " * Current step size: 0.8923768404097108\n",
      " * time: 6115.590894937515\n",
      " * g(x): [-0.01256232806612355, -0.0009234849640013973, 0.004829521114967151]\n",
      " * x: [1.5689422627378984, 1.0325789622207306, 0.0204041401549973]\n"
     ]
    },
    {
     "name": "stderr",
     "output_type": "stream",
     "text": [
      "\u001b[32mProgress: 100%|███████████████████████████| Time: 0:03:31 (53.11 ms/it)\u001b[39m\n",
      "\u001b[38;5;4m\u001b[1m[ \u001b[22m\u001b[39m\u001b[38;5;4m\u001b[1mDebug: \u001b[22m\u001b[39m20211231 00:46:29 loss: Dual{ForwardDiff.Tag{var\"#validation_mse#17\"{var\"#14#16\"{cf_params, Dict{String, typeof(get_abs_neighborhood)}, Int64, Matrix{Float64}}, RatingsDataset, RatingsDataset}, Float64}}(1.6981919276401038,-1.6245122800258878,2.6627304946836336e-8,9.712496397396952) β: Dual{ForwardDiff.Tag{var\"#validation_mse#17\"{var\"#14#16\"{cf_params, Dict{String, typeof(get_abs_neighborhood)}, Int64, Matrix{Float64}}, RatingsDataset, RatingsDataset}, Float64}}(-6.385506263798738e-8,-3.3584617674893322,3.998254966612095e-8,19.608721895104157): λ ForwardDiff.Dual{ForwardDiff.Tag{var\"#validation_mse#17\"{var\"#14#16\"{cf_params, Dict{String, typeof(get_abs_neighborhood)}, Int64, Matrix{Float64}}, RatingsDataset, RatingsDataset}, Float64}, Float64, 3}[Dual{ForwardDiff.Tag{var\"#validation_mse#17\"{var\"#14#16\"{cf_params, Dict{String, typeof(get_abs_neighborhood)}, Int64, Matrix{Float64}}, RatingsDataset, RatingsDataset}, Float64}}(1.9429127388826262,1.0,0.0,0.0), Dual{ForwardDiff.Tag{var\"#validation_mse#17\"{var\"#14#16\"{cf_params, Dict{String, typeof(get_abs_neighborhood)}, Int64, Matrix{Float64}}, RatingsDataset, RatingsDataset}, Float64}}(0.9988223808791948,0.0,1.0,0.0), Dual{ForwardDiff.Tag{var\"#validation_mse#17\"{var\"#14#16\"{cf_params, Dict{String, typeof(get_abs_neighborhood)}, Int64, Matrix{Float64}}, RatingsDataset, RatingsDataset}, Float64}}(-0.0653870014704343,0.0,0.0,1.0)]\n",
      "\u001b[32mProgress: 100%|███████████████████████████| Time: 0:03:20 (50.51 ms/it)\u001b[39m\n",
      "\u001b[38;5;4m\u001b[1m[ \u001b[22m\u001b[39m\u001b[38;5;4m\u001b[1mDebug: \u001b[22m\u001b[39m20211231 00:49:56 loss: Dual{ForwardDiff.Tag{var\"#validation_mse#17\"{var\"#14#16\"{cf_params, Dict{String, typeof(get_abs_neighborhood)}, Int64, Matrix{Float64}}, RatingsDataset, RatingsDataset}, Float64}}(1.6981919926471565,-0.4400422521871233,4.4072831215741174e-8,6.634509340387003) β: Dual{ForwardDiff.Tag{var\"#validation_mse#17\"{var\"#14#16\"{cf_params, Dict{String, typeof(get_abs_neighborhood)}, Int64, Matrix{Float64}}, RatingsDataset, RatingsDataset}, Float64}}(1.0275386777110117e-7,2.4491984696759115,-1.5382244036631906e-7,-36.92786513416191): λ ForwardDiff.Dual{ForwardDiff.Tag{var\"#validation_mse#17\"{var\"#14#16\"{cf_params, Dict{String, typeof(get_abs_neighborhood)}, Int64, Matrix{Float64}}, RatingsDataset, RatingsDataset}, Float64}, Float64, 3}[Dual{ForwardDiff.Tag{var\"#validation_mse#17\"{var\"#14#16\"{cf_params, Dict{String, typeof(get_abs_neighborhood)}, Int64, Matrix{Float64}}, RatingsDataset, RatingsDataset}, Float64}}(1.7559275008102622,1.0,0.0,0.0), Dual{ForwardDiff.Tag{var\"#validation_mse#17\"{var\"#14#16\"{cf_params, Dict{String, typeof(get_abs_neighborhood)}, Int64, Matrix{Float64}}, RatingsDataset, RatingsDataset}, Float64}}(1.0157006715499628,0.0,1.0,0.0), Dual{ForwardDiff.Tag{var\"#validation_mse#17\"{var\"#14#16\"{cf_params, Dict{String, typeof(get_abs_neighborhood)}, Int64, Matrix{Float64}}, RatingsDataset, RatingsDataset}, Float64}}(-0.022491430657718504,0.0,0.0,1.0)]\n",
      "\u001b[32mProgress: 100%|███████████████████████████| Time: 0:03:12 (48.45 ms/it)\u001b[39m\n",
      "\u001b[38;5;4m\u001b[1m[ \u001b[22m\u001b[39m\u001b[38;5;4m\u001b[1mDebug: \u001b[22m\u001b[39m20211231 00:53:13 loss: Dual{ForwardDiff.Tag{var\"#validation_mse#17\"{var\"#14#16\"{cf_params, Dict{String, typeof(get_abs_neighborhood)}, Int64, Matrix{Float64}}, RatingsDataset, RatingsDataset}, Float64}}(1.688089655720128,149.99959114015968,0.0011974836703777599,-35625.324477649345) β: Dual{ForwardDiff.Tag{var\"#validation_mse#17\"{var\"#14#16\"{cf_params, Dict{String, typeof(get_abs_neighborhood)}, Int64, Matrix{Float64}}, RatingsDataset, RatingsDataset}, Float64}}(0.021766121948536603,-325.6650852558285,-0.017604949782313556,77356.69323211696): λ ForwardDiff.Dual{ForwardDiff.Tag{var\"#validation_mse#17\"{var\"#14#16\"{cf_params, Dict{String, typeof(get_abs_neighborhood)}, Int64, Matrix{Float64}}, RatingsDataset, RatingsDataset}, Float64}, Float64, 3}[Dual{ForwardDiff.Tag{var\"#validation_mse#17\"{var\"#14#16\"{cf_params, Dict{String, typeof(get_abs_neighborhood)}, Int64, Matrix{Float64}}, RatingsDataset, RatingsDataset}, Float64}}(1.6624348817740804,1.0,0.0,0.0), Dual{ForwardDiff.Tag{var\"#validation_mse#17\"{var\"#14#16\"{cf_params, Dict{String, typeof(get_abs_neighborhood)}, Int64, Matrix{Float64}}, RatingsDataset, RatingsDataset}, Float64}}(1.0241398168853466,0.0,1.0,0.0), Dual{ForwardDiff.Tag{var\"#validation_mse#17\"{var\"#14#16\"{cf_params, Dict{String, typeof(get_abs_neighborhood)}, Int64, Matrix{Float64}}, RatingsDataset, RatingsDataset}, Float64}}(-0.0010436452513606018,0.0,0.0,1.0)]\n",
      "\u001b[32mProgress: 100%|███████████████████████████| Time: 0:03:08 (47.52 ms/it)\u001b[39m\n",
      "\u001b[38;5;4m\u001b[1m[ \u001b[22m\u001b[39m\u001b[38;5;4m\u001b[1mDebug: \u001b[22m\u001b[39m20211231 00:56:28 loss: Dual{ForwardDiff.Tag{var\"#validation_mse#17\"{var\"#14#16\"{cf_params, Dict{String, typeof(get_abs_neighborhood)}, Int64, Matrix{Float64}}, RatingsDataset, RatingsDataset}, Float64}}(1.3722143776015765,-0.012562391124920334,-0.0009234832911688317,0.00482861499675859) β: Dual{ForwardDiff.Tag{var\"#validation_mse#17\"{var\"#14#16\"{cf_params, Dict{String, typeof(get_abs_neighborhood)}, Int64, Matrix{Float64}}, RatingsDataset, RatingsDataset}, Float64}}(1.0825361084700376,0.6721493932749554,-0.7092229576717004,12.69941260665351): λ ForwardDiff.Dual{ForwardDiff.Tag{var\"#validation_mse#17\"{var\"#14#16\"{cf_params, Dict{String, typeof(get_abs_neighborhood)}, Int64, Matrix{Float64}}, RatingsDataset, RatingsDataset}, Float64}, Float64, 3}[Dual{ForwardDiff.Tag{var\"#validation_mse#17\"{var\"#14#16\"{cf_params, Dict{String, typeof(get_abs_neighborhood)}, Int64, Matrix{Float64}}, RatingsDataset, RatingsDataset}, Float64}}(1.5689424153658507,1.0,0.0,0.0), Dual{ForwardDiff.Tag{var\"#validation_mse#17\"{var\"#14#16\"{cf_params, Dict{String, typeof(get_abs_neighborhood)}, Int64, Matrix{Float64}}, RatingsDataset, RatingsDataset}, Float64}}(1.032578948443713,0.0,1.0,0.0), Dual{ForwardDiff.Tag{var\"#validation_mse#17\"{var\"#14#16\"{cf_params, Dict{String, typeof(get_abs_neighborhood)}, Int64, Matrix{Float64}}, RatingsDataset, RatingsDataset}, Float64}}(0.020404105141200477,0.0,0.0,1.0)]\n",
      "\u001b[32mProgress: 100%|███████████████████████████| Time: 0:03:09 (47.61 ms/it)\u001b[39m\n",
      "\u001b[38;5;4m\u001b[1m[ \u001b[22m\u001b[39m\u001b[38;5;4m\u001b[1mDebug: \u001b[22m\u001b[39m20211231 00:59:42 loss: Dual{ForwardDiff.Tag{var\"#validation_mse#17\"{var\"#14#16\"{cf_params, Dict{String, typeof(get_abs_neighborhood)}, Int64, Matrix{Float64}}, RatingsDataset, RatingsDataset}, Float64}}(1.3721404854165384,-0.019081115498904785,-0.0007100184662867286,-0.10550723601483128) β: Dual{ForwardDiff.Tag{var\"#validation_mse#17\"{var\"#14#16\"{cf_params, Dict{String, typeof(get_abs_neighborhood)}, Int64, Matrix{Float64}}, RatingsDataset, RatingsDataset}, Float64}}(1.0489598353935372,0.6253063110237861,-0.6890066010476511,13.983294924459445): λ ForwardDiff.Dual{ForwardDiff.Tag{var\"#validation_mse#17\"{var\"#14#16\"{cf_params, Dict{String, typeof(get_abs_neighborhood)}, Int64, Matrix{Float64}}, RatingsDataset, RatingsDataset}, Float64}, Float64, 3}[Dual{ForwardDiff.Tag{var\"#validation_mse#17\"{var\"#14#16\"{cf_params, Dict{String, typeof(get_abs_neighborhood)}, Int64, Matrix{Float64}}, RatingsDataset, RatingsDataset}, Float64}}(1.5832775940535435,1.0,0.0,0.0), Dual{ForwardDiff.Tag{var\"#validation_mse#17\"{var\"#14#16\"{cf_params, Dict{String, typeof(get_abs_neighborhood)}, Int64, Matrix{Float64}}, RatingsDataset, RatingsDataset}, Float64}}(1.0312849783142921,0.0,1.0,0.0), Dual{ForwardDiff.Tag{var\"#validation_mse#17\"{var\"#14#16\"{cf_params, Dict{String, typeof(get_abs_neighborhood)}, Int64, Matrix{Float64}}, RatingsDataset, RatingsDataset}, Float64}}(0.01711552643386481,0.0,0.0,1.0)]\n"
     ]
    },
    {
     "name": "stdout",
     "output_type": "stream",
     "text": [
      "     9     1.372140e+00     1.055072e-01\n",
      " * Current step size: 0.038332788896675844\n",
      " * time: 7126.805198907852\n",
      " * g(x): [-0.019081115498904785, -0.0007100184662867286, -0.10550723601483128]\n",
      " * x: [1.5832775940535435, 1.0312849783142921, 0.01711552643386481]\n"
     ]
    },
    {
     "name": "stderr",
     "output_type": "stream",
     "text": [
      "\u001b[32mProgress: 100%|███████████████████████████| Time: 0:03:11 (48.21 ms/it)\u001b[39m\n",
      "\u001b[38;5;4m\u001b[1m[ \u001b[22m\u001b[39m\u001b[38;5;4m\u001b[1mDebug: \u001b[22m\u001b[39m20211231 01:02:59 loss: Dual{ForwardDiff.Tag{var\"#validation_mse#17\"{var\"#14#16\"{cf_params, Dict{String, typeof(get_abs_neighborhood)}, Int64, Matrix{Float64}}, RatingsDataset, RatingsDataset}, Float64}}(1.6981892632582736,13.377268366124724,-3.768494991609873e-6,-1866.39592270536) β: Dual{ForwardDiff.Tag{var\"#validation_mse#17\"{var\"#14#16\"{cf_params, Dict{String, typeof(get_abs_neighborhood)}, Int64, Matrix{Float64}}, RatingsDataset, RatingsDataset}, Float64}}(4.169561296757156e-6,-22.498406532413057,3.3104536775918193e-6,3157.0067065810754): λ ForwardDiff.Dual{ForwardDiff.Tag{var\"#validation_mse#17\"{var\"#14#16\"{cf_params, Dict{String, typeof(get_abs_neighborhood)}, Int64, Matrix{Float64}}, RatingsDataset, RatingsDataset}, Float64}, Float64, 3}[Dual{ForwardDiff.Tag{var\"#validation_mse#17\"{var\"#14#16\"{cf_params, Dict{String, typeof(get_abs_neighborhood)}, Int64, Matrix{Float64}}, RatingsDataset, RatingsDataset}, Float64}}(1.9157155615741508,1.0,0.0,0.0), Dual{ForwardDiff.Tag{var\"#validation_mse#17\"{var\"#14#16\"{cf_params, Dict{String, typeof(get_abs_neighborhood)}, Int64, Matrix{Float64}}, RatingsDataset, RatingsDataset}, Float64}}(0.98425930703491,0.0,1.0,0.0), Dual{ForwardDiff.Tag{var\"#validation_mse#17\"{var\"#14#16\"{cf_params, Dict{String, typeof(get_abs_neighborhood)}, Int64, Matrix{Float64}}, RatingsDataset, RatingsDataset}, Float64}}(-0.0019422537741650148,0.0,0.0,1.0)]\n",
      "\u001b[32mProgress: 100%|███████████████████████████| Time: 0:03:10 (47.92 ms/it)\u001b[39m\n",
      "\u001b[38;5;4m\u001b[1m[ \u001b[22m\u001b[39m\u001b[38;5;4m\u001b[1mDebug: \u001b[22m\u001b[39m20211231 01:06:15 loss: Dual{ForwardDiff.Tag{var\"#validation_mse#17\"{var\"#14#16\"{cf_params, Dict{String, typeof(get_abs_neighborhood)}, Int64, Matrix{Float64}}, RatingsDataset, RatingsDataset}, Float64}}(1.3721400236175854,-0.019079649960870505,-0.0007110131115825332,-0.10551005102640144) β: Dual{ForwardDiff.Tag{var\"#validation_mse#17\"{var\"#14#16\"{cf_params, Dict{String, typeof(get_abs_neighborhood)}, Int64, Matrix{Float64}}, RatingsDataset, RatingsDataset}, Float64}}(1.048957017675305,0.6252918520759074,-0.6889998125631995,13.984709232439076): λ ForwardDiff.Dual{ForwardDiff.Tag{var\"#validation_mse#17\"{var\"#14#16\"{cf_params, Dict{String, typeof(get_abs_neighborhood)}, Int64, Matrix{Float64}}, RatingsDataset, RatingsDataset}, Float64}, Float64, 3}[Dual{ForwardDiff.Tag{var\"#validation_mse#17\"{var\"#14#16\"{cf_params, Dict{String, typeof(get_abs_neighborhood)}, Int64, Matrix{Float64}}, RatingsDataset, RatingsDataset}, Float64}}(1.5833133056435158,1.0,0.0,0.0), Dual{ForwardDiff.Tag{var\"#validation_mse#17\"{var\"#14#16\"{cf_params, Dict{String, typeof(get_abs_neighborhood)}, Int64, Matrix{Float64}}, RatingsDataset, RatingsDataset}, Float64}}(1.0312799266605854,0.0,1.0,0.0), Dual{ForwardDiff.Tag{var\"#validation_mse#17\"{var\"#14#16\"{cf_params, Dict{String, typeof(get_abs_neighborhood)}, Int64, Matrix{Float64}}, RatingsDataset, RatingsDataset}, Float64}}(0.017113479183854093,0.0,0.0,1.0)]\n",
      "\u001b[32mProgress: 100%|███████████████████████████| Time: 0:03:14 (48.98 ms/it)\u001b[39m\n",
      "\u001b[38;5;4m\u001b[1m[ \u001b[22m\u001b[39m\u001b[38;5;4m\u001b[1mDebug: \u001b[22m\u001b[39m20211231 01:09:36 loss: Dual{ForwardDiff.Tag{var\"#validation_mse#17\"{var\"#14#16\"{cf_params, Dict{String, typeof(get_abs_neighborhood)}, Int64, Matrix{Float64}}, RatingsDataset, RatingsDataset}, Float64}}(1.377566154542721,-0.04775750854449732,-0.0040010908617971125,-4.723071364296747) β: Dual{ForwardDiff.Tag{var\"#validation_mse#17\"{var\"#14#16\"{cf_params, Dict{String, typeof(get_abs_neighborhood)}, Int64, Matrix{Float64}}, RatingsDataset, RatingsDataset}, Float64}}(0.842848388950858,0.29655433781255364,-0.5441670701909422,50.75498146090169): λ ForwardDiff.Dual{ForwardDiff.Tag{var\"#validation_mse#17\"{var\"#14#16\"{cf_params, Dict{String, typeof(get_abs_neighborhood)}, Int64, Matrix{Float64}}, RatingsDataset, RatingsDataset}, Float64}, Float64, 3}[Dual{ForwardDiff.Tag{var\"#validation_mse#17\"{var\"#14#16\"{cf_params, Dict{String, typeof(get_abs_neighborhood)}, Int64, Matrix{Float64}}, RatingsDataset, RatingsDataset}, Float64}}(1.8445508963163317,1.0,0.0,0.0), Dual{ForwardDiff.Tag{var\"#validation_mse#17\"{var\"#14#16\"{cf_params, Dict{String, typeof(get_abs_neighborhood)}, Int64, Matrix{Float64}}, RatingsDataset, RatingsDataset}, Float64}}(0.9943260457413245,0.0,1.0,0.0), Dual{ForwardDiff.Tag{var\"#validation_mse#17\"{var\"#14#16\"{cf_params, Dict{String, typeof(get_abs_neighborhood)}, Int64, Matrix{Float64}}, RatingsDataset, RatingsDataset}, Float64}}(0.0021374262911917213,0.0,0.0,1.0)]\n",
      "\u001b[32mProgress: 100%|███████████████████████████| Time: 0:03:15 (49.20 ms/it)\u001b[39m\n",
      "\u001b[38;5;4m\u001b[1m[ \u001b[22m\u001b[39m\u001b[38;5;4m\u001b[1mDebug: \u001b[22m\u001b[39m20211231 01:12:56 loss: Dual{ForwardDiff.Tag{var\"#validation_mse#17\"{var\"#14#16\"{cf_params, Dict{String, typeof(get_abs_neighborhood)}, Int64, Matrix{Float64}}, RatingsDataset, RatingsDataset}, Float64}}(1.3709855800260404,-0.020828733325109833,-0.003914900335000249,-0.3178441273302155) β: Dual{ForwardDiff.Tag{var\"#validation_mse#17\"{var\"#14#16\"{cf_params, Dict{String, typeof(get_abs_neighborhood)}, Int64, Matrix{Float64}}, RatingsDataset, RatingsDataset}, Float64}}(1.008859838578705,0.538296318084083,-0.6481597772952785,21.53875596191826): λ ForwardDiff.Dual{ForwardDiff.Tag{var\"#validation_mse#17\"{var\"#14#16\"{cf_params, Dict{String, typeof(get_abs_neighborhood)}, Int64, Matrix{Float64}}, RatingsDataset, RatingsDataset}, Float64}, Float64, 3}[Dual{ForwardDiff.Tag{var\"#validation_mse#17\"{var\"#14#16\"{cf_params, Dict{String, typeof(get_abs_neighborhood)}, Int64, Matrix{Float64}}, RatingsDataset, RatingsDataset}, Float64}}(1.7139321009799238,1.0,0.0,0.0), Dual{ForwardDiff.Tag{var\"#validation_mse#17\"{var\"#14#16\"{cf_params, Dict{String, typeof(get_abs_neighborhood)}, Int64, Matrix{Float64}}, RatingsDataset, RatingsDataset}, Float64}}(1.0128029862009549,0.0,1.0,0.0), Dual{ForwardDiff.Tag{var\"#validation_mse#17\"{var\"#14#16\"{cf_params, Dict{String, typeof(get_abs_neighborhood)}, Int64, Matrix{Float64}}, RatingsDataset, RatingsDataset}, Float64}}(0.009625452737522907,0.0,0.0,1.0)]\n",
      "\u001b[32mProgress: 100%|███████████████████████████| Time: 0:03:16 (49.48 ms/it)\u001b[39m\n",
      "\u001b[38;5;4m\u001b[1m[ \u001b[22m\u001b[39m\u001b[38;5;4m\u001b[1mDebug: \u001b[22m\u001b[39m20211231 01:16:19 loss: Dual{ForwardDiff.Tag{var\"#validation_mse#17\"{var\"#14#16\"{cf_params, Dict{String, typeof(get_abs_neighborhood)}, Int64, Matrix{Float64}}, RatingsDataset, RatingsDataset}, Float64}}(1.3709832770953208,-0.020932963166046363,-0.003938089310686785,-0.3237006197273353) β: Dual{ForwardDiff.Tag{var\"#validation_mse#17\"{var\"#14#16\"{cf_params, Dict{String, typeof(get_abs_neighborhood)}, Int64, Matrix{Float64}}, RatingsDataset, RatingsDataset}, Float64}}(1.0081364849038283,0.5371028312471225,-0.6476011780639102,21.642397078222146): λ ForwardDiff.Dual{ForwardDiff.Tag{var\"#validation_mse#17\"{var\"#14#16\"{cf_params, Dict{String, typeof(get_abs_neighborhood)}, Int64, Matrix{Float64}}, RatingsDataset, RatingsDataset}, Float64}, Float64, 3}[Dual{ForwardDiff.Tag{var\"#validation_mse#17\"{var\"#14#16\"{cf_params, Dict{String, typeof(get_abs_neighborhood)}, Int64, Matrix{Float64}}, RatingsDataset, RatingsDataset}, Float64}}(1.7151210890786102,1.0,0.0,0.0), Dual{ForwardDiff.Tag{var\"#validation_mse#17\"{var\"#14#16\"{cf_params, Dict{String, typeof(get_abs_neighborhood)}, Int64, Matrix{Float64}}, RatingsDataset, RatingsDataset}, Float64}}(1.0126347955339834,0.0,1.0,0.0), Dual{ForwardDiff.Tag{var\"#validation_mse#17\"{var\"#14#16\"{cf_params, Dict{String, typeof(get_abs_neighborhood)}, Int64, Matrix{Float64}}, RatingsDataset, RatingsDataset}, Float64}}(0.009557291227501263,0.0,0.0,1.0)]\n"
     ]
    },
    {
     "name": "stdout",
     "output_type": "stream",
     "text": [
      "    10     1.370983e+00     3.237006e-01\n",
      " * Current step size: 0.396595779983807\n",
      " * time: 8123.376663923264\n",
      " * g(x): [-0.020932963166046363, -0.003938089310686785, -0.3237006197273353]\n",
      " * x: [1.7151210890786102, 1.0126347955339834, 0.009557291227501263]\n"
     ]
    },
    {
     "name": "stderr",
     "output_type": "stream",
     "text": [
      "\u001b[32mProgress: 100%|███████████████████████████| Time: 0:03:16 (49.53 ms/it)\u001b[39m\n",
      "\u001b[38;5;4m\u001b[1m[ \u001b[22m\u001b[39m\u001b[38;5;4m\u001b[1mDebug: \u001b[22m\u001b[39m20211231 01:19:40 loss: Dual{ForwardDiff.Tag{var\"#validation_mse#17\"{var\"#14#16\"{cf_params, Dict{String, typeof(get_abs_neighborhood)}, Int64, Matrix{Float64}}, RatingsDataset, RatingsDataset}, Float64}}(1.3696346534699444,0.0037585169255719654,-0.010009358336133731,0.3717719683871232) β: Dual{ForwardDiff.Tag{var\"#validation_mse#17\"{var\"#14#16\"{cf_params, Dict{String, typeof(get_abs_neighborhood)}, Int64, Matrix{Float64}}, RatingsDataset, RatingsDataset}, Float64}}(1.0644614002769923,0.5539206879644303,-0.6516940069370417,30.72467929542964): λ ForwardDiff.Dual{ForwardDiff.Tag{var\"#validation_mse#17\"{var\"#14#16\"{cf_params, Dict{String, typeof(get_abs_neighborhood)}, Int64, Matrix{Float64}}, RatingsDataset, RatingsDataset}, Float64}, Float64, 3}[Dual{ForwardDiff.Tag{var\"#validation_mse#17\"{var\"#14#16\"{cf_params, Dict{String, typeof(get_abs_neighborhood)}, Int64, Matrix{Float64}}, RatingsDataset, RatingsDataset}, Float64}}(1.8970143819271688,1.0,0.0,0.0), Dual{ForwardDiff.Tag{var\"#validation_mse#17\"{var\"#14#16\"{cf_params, Dict{String, typeof(get_abs_neighborhood)}, Int64, Matrix{Float64}}, RatingsDataset, RatingsDataset}, Float64}}(0.9883796576273742,0.0,1.0,0.0), Dual{ForwardDiff.Tag{var\"#validation_mse#17\"{var\"#14#16\"{cf_params, Dict{String, typeof(get_abs_neighborhood)}, Int64, Matrix{Float64}}, RatingsDataset, RatingsDataset}, Float64}}(0.007273239908915282,0.0,0.0,1.0)]\n",
      "\u001b[32mProgress: 100%|███████████████████████████| Time: 0:03:18 (49.83 ms/it)\u001b[39m\n",
      "\u001b[38;5;4m\u001b[1m[ \u001b[22m\u001b[39m\u001b[38;5;4m\u001b[1mDebug: \u001b[22m\u001b[39m20211231 01:23:05 loss: Dual{ForwardDiff.Tag{var\"#validation_mse#17\"{var\"#14#16\"{cf_params, Dict{String, typeof(get_abs_neighborhood)}, Int64, Matrix{Float64}}, RatingsDataset, RatingsDataset}, Float64}}(1.3696334536081798,0.003171250147414452,-0.009860830848112408,0.3497187991656474) β: Dual{ForwardDiff.Tag{var\"#validation_mse#17\"{var\"#14#16\"{cf_params, Dict{String, typeof(get_abs_neighborhood)}, Int64, Matrix{Float64}}, RatingsDataset, RatingsDataset}, Float64}}(1.063278090558552,0.5538651036769993,-0.6517549609288107,30.445123560706328): λ ForwardDiff.Dual{ForwardDiff.Tag{var\"#validation_mse#17\"{var\"#14#16\"{cf_params, Dict{String, typeof(get_abs_neighborhood)}, Int64, Matrix{Float64}}, RatingsDataset, RatingsDataset}, Float64}, Float64, 3}[Dual{ForwardDiff.Tag{var\"#validation_mse#17\"{var\"#14#16\"{cf_params, Dict{String, typeof(get_abs_neighborhood)}, Int64, Matrix{Float64}}, RatingsDataset, RatingsDataset}, Float64}}(1.8924055241105204,1.0,0.0,0.0), Dual{ForwardDiff.Tag{var\"#validation_mse#17\"{var\"#14#16\"{cf_params, Dict{String, typeof(get_abs_neighborhood)}, Int64, Matrix{Float64}}, RatingsDataset, RatingsDataset}, Float64}}(0.9889942403873214,0.0,1.0,0.0), Dual{ForwardDiff.Tag{var\"#validation_mse#17\"{var\"#14#16\"{cf_params, Dict{String, typeof(get_abs_neighborhood)}, Int64, Matrix{Float64}}, RatingsDataset, RatingsDataset}, Float64}}(0.007331113773357637,0.0,0.0,1.0)]\n"
     ]
    },
    {
     "name": "stdout",
     "output_type": "stream",
     "text": [
      "    11     1.369633e+00     3.497188e-01\n",
      " * Current step size: 0.9746617495099967\n",
      " * time: 8529.621359825134\n",
      " * g(x): [0.003171250147414452, -0.009860830848112408, 0.3497187991656474]\n",
      " * x: [1.8924055241105204, 0.9889942403873214, 0.007331113773357637]\n"
     ]
    },
    {
     "name": "stderr",
     "output_type": "stream",
     "text": [
      "\u001b[32mProgress: 100%|███████████████████████████| Time: 0:03:17 (49.79 ms/it)\u001b[39m\n",
      "\u001b[38;5;4m\u001b[1m[ \u001b[22m\u001b[39m\u001b[38;5;4m\u001b[1mDebug: \u001b[22m\u001b[39m20211231 01:26:28 loss: Dual{ForwardDiff.Tag{var\"#validation_mse#17\"{var\"#14#16\"{cf_params, Dict{String, typeof(get_abs_neighborhood)}, Int64, Matrix{Float64}}, RatingsDataset, RatingsDataset}, Float64}}(1.6981920098787093,0.04677955150385454,9.600220543539865e-9,-2.7494659939874495) β: Dual{ForwardDiff.Tag{var\"#validation_mse#17\"{var\"#14#16\"{cf_params, Dict{String, typeof(get_abs_neighborhood)}, Int64, Matrix{Float64}}, RatingsDataset, RatingsDataset}, Float64}}(-1.8582214236763737e-8,1.522764714383088,3.102931583783696e-7,-89.62982954676936): λ ForwardDiff.Dual{ForwardDiff.Tag{var\"#validation_mse#17\"{var\"#14#16\"{cf_params, Dict{String, typeof(get_abs_neighborhood)}, Int64, Matrix{Float64}}, RatingsDataset, RatingsDataset}, Float64}, Float64, 3}[Dual{ForwardDiff.Tag{var\"#validation_mse#17\"{var\"#14#16\"{cf_params, Dict{String, typeof(get_abs_neighborhood)}, Int64, Matrix{Float64}}, RatingsDataset, RatingsDataset}, Float64}}(2.240606315497343,1.0,0.0,0.0), Dual{ForwardDiff.Tag{var\"#validation_mse#17\"{var\"#14#16\"{cf_params, Dict{String, typeof(get_abs_neighborhood)}, Int64, Matrix{Float64}}, RatingsDataset, RatingsDataset}, Float64}}(0.9516030896432175,0.0,1.0,0.0), Dual{ForwardDiff.Tag{var\"#validation_mse#17\"{var\"#14#16\"{cf_params, Dict{String, typeof(get_abs_neighborhood)}, Int64, Matrix{Float64}}, RatingsDataset, RatingsDataset}, Float64}}(-0.0054860945387076,0.0,0.0,1.0)]\n",
      "\u001b[32mProgress: 100%|███████████████████████████| Time: 0:03:18 (49.84 ms/it)\u001b[39m\n",
      "\u001b[38;5;4m\u001b[1m[ \u001b[22m\u001b[39m\u001b[38;5;4m\u001b[1mDebug: \u001b[22m\u001b[39m20211231 01:29:52 loss: Dual{ForwardDiff.Tag{var\"#validation_mse#17\"{var\"#14#16\"{cf_params, Dict{String, typeof(get_abs_neighborhood)}, Int64, Matrix{Float64}}, RatingsDataset, RatingsDataset}, Float64}}(1.369465717304841,0.001737771746190018,-0.010178842770804193,0.31424840209673144) β: Dual{ForwardDiff.Tag{var\"#validation_mse#17\"{var\"#14#16\"{cf_params, Dict{String, typeof(get_abs_neighborhood)}, Int64, Matrix{Float64}}, RatingsDataset, RatingsDataset}, Float64}}(1.0528007216680806,0.5376252327693759,-0.6440496806172331,32.67742170903392): λ ForwardDiff.Dual{ForwardDiff.Tag{var\"#validation_mse#17\"{var\"#14#16\"{cf_params, Dict{String, typeof(get_abs_neighborhood)}, Int64, Matrix{Float64}}, RatingsDataset, RatingsDataset}, Float64}, Float64, 3}[Dual{ForwardDiff.Tag{var\"#validation_mse#17\"{var\"#14#16\"{cf_params, Dict{String, typeof(get_abs_neighborhood)}, Int64, Matrix{Float64}}, RatingsDataset, RatingsDataset}, Float64}}(1.9116194816250358,1.0,0.0,0.0), Dual{ForwardDiff.Tag{var\"#validation_mse#17\"{var\"#14#16\"{cf_params, Dict{String, typeof(get_abs_neighborhood)}, Int64, Matrix{Float64}}, RatingsDataset, RatingsDataset}, Float64}}(0.9869309711484588,0.0,1.0,0.0), Dual{ForwardDiff.Tag{var\"#validation_mse#17\"{var\"#14#16\"{cf_params, Dict{String, typeof(get_abs_neighborhood)}, Int64, Matrix{Float64}}, RatingsDataset, RatingsDataset}, Float64}}(0.006623851463637239,0.0,0.0,1.0)]\n",
      "\u001b[32mProgress: 100%|███████████████████████████| Time: 0:03:21 (50.75 ms/it)\u001b[39m\n",
      "\u001b[38;5;4m\u001b[1m[ \u001b[22m\u001b[39m\u001b[38;5;4m\u001b[1mDebug: \u001b[22m\u001b[39m20211231 01:33:18 loss: Dual{ForwardDiff.Tag{var\"#validation_mse#17\"{var\"#14#16\"{cf_params, Dict{String, typeof(get_abs_neighborhood)}, Int64, Matrix{Float64}}, RatingsDataset, RatingsDataset}, Float64}}(1.3798981829184587,-0.04272074683224674,-0.007919311580210808,-15.692859977993793) β: Dual{ForwardDiff.Tag{var\"#validation_mse#17\"{var\"#14#16\"{cf_params, Dict{String, typeof(get_abs_neighborhood)}, Int64, Matrix{Float64}}, RatingsDataset, RatingsDataset}, Float64}}(0.7945122306635884,0.1928247463552111,-0.49910289963630955,125.2093613071475): λ ForwardDiff.Dual{ForwardDiff.Tag{var\"#validation_mse#17\"{var\"#14#16\"{cf_params, Dict{String, typeof(get_abs_neighborhood)}, Int64, Matrix{Float64}}, RatingsDataset, RatingsDataset}, Float64}, Float64, 3}[Dual{ForwardDiff.Tag{var\"#validation_mse#17\"{var\"#14#16\"{cf_params, Dict{String, typeof(get_abs_neighborhood)}, Int64, Matrix{Float64}}, RatingsDataset, RatingsDataset}, Float64}}(2.076112898561189,1.0,0.0,0.0), Dual{ForwardDiff.Tag{var\"#validation_mse#17\"{var\"#14#16\"{cf_params, Dict{String, typeof(get_abs_neighborhood)}, Int64, Matrix{Float64}}, RatingsDataset, RatingsDataset}, Float64}}(0.9692670303958382,0.0,1.0,0.0), Dual{ForwardDiff.Tag{var\"#validation_mse#17\"{var\"#14#16\"{cf_params, Dict{String, typeof(get_abs_neighborhood)}, Int64, Matrix{Float64}}, RatingsDataset, RatingsDataset}, Float64}}(0.00056887846246482,0.0,0.0,1.0)]\n",
      "\u001b[32mProgress: 100%|███████████████████████████| Time: 0:03:20 (50.44 ms/it)\u001b[39m\n",
      "\u001b[38;5;4m\u001b[1m[ \u001b[22m\u001b[39m\u001b[38;5;4m\u001b[1mDebug: \u001b[22m\u001b[39m20211231 01:36:45 loss: Dual{ForwardDiff.Tag{var\"#validation_mse#17\"{var\"#14#16\"{cf_params, Dict{String, typeof(get_abs_neighborhood)}, Int64, Matrix{Float64}}, RatingsDataset, RatingsDataset}, Float64}}(1.3694426970494642,0.0014971288123248052,-0.010220202046139746,0.3069934971910561) β: Dual{ForwardDiff.Tag{var\"#validation_mse#17\"{var\"#14#16\"{cf_params, Dict{String, typeof(get_abs_neighborhood)}, Int64, Matrix{Float64}}, RatingsDataset, RatingsDataset}, Float64}}(1.0512081481269255,0.5352465819759744,-0.6429162050717379,33.01051860150707): λ ForwardDiff.Dual{ForwardDiff.Tag{var\"#validation_mse#17\"{var\"#14#16\"{cf_params, Dict{String, typeof(get_abs_neighborhood)}, Int64, Matrix{Float64}}, RatingsDataset, RatingsDataset}, Float64}, Float64, 3}[Dual{ForwardDiff.Tag{var\"#validation_mse#17\"{var\"#14#16\"{cf_params, Dict{String, typeof(get_abs_neighborhood)}, Int64, Matrix{Float64}}, RatingsDataset, RatingsDataset}, Float64}}(1.9142587260875656,1.0,0.0,0.0), Dual{ForwardDiff.Tag{var\"#validation_mse#17\"{var\"#14#16\"{cf_params, Dict{String, typeof(get_abs_neighborhood)}, Int64, Matrix{Float64}}, RatingsDataset, RatingsDataset}, Float64}}(0.9866475588473094,0.0,1.0,0.0), Dual{ForwardDiff.Tag{var\"#validation_mse#17\"{var\"#14#16\"{cf_params, Dict{String, typeof(get_abs_neighborhood)}, Int64, Matrix{Float64}}, RatingsDataset, RatingsDataset}, Float64}}(0.006526701351117446,0.0,0.0,1.0)]\n",
      "\u001b[32mProgress: 100%|███████████████████████████| Time: 0:03:22 (50.99 ms/it)\u001b[39m\n",
      "\u001b[38;5;4m\u001b[1m[ \u001b[22m\u001b[39m\u001b[38;5;4m\u001b[1mDebug: \u001b[22m\u001b[39m20211231 01:40:14 loss: Dual{ForwardDiff.Tag{var\"#validation_mse#17\"{var\"#14#16\"{cf_params, Dict{String, typeof(get_abs_neighborhood)}, Int64, Matrix{Float64}}, RatingsDataset, RatingsDataset}, Float64}}(1.3691681403939393,-0.012833550906625886,-0.01102115724284694,-0.6166867598107022) β: Dual{ForwardDiff.Tag{var\"#validation_mse#17\"{var\"#14#16\"{cf_params, Dict{String, typeof(get_abs_neighborhood)}, Int64, Matrix{Float64}}, RatingsDataset, RatingsDataset}, Float64}}(0.9779282274750657,0.4380685111010652,-0.596439269071949,48.79913992795429): λ ForwardDiff.Dual{ForwardDiff.Tag{var\"#validation_mse#17\"{var\"#14#16\"{cf_params, Dict{String, typeof(get_abs_neighborhood)}, Int64, Matrix{Float64}}, RatingsDataset, RatingsDataset}, Float64}, Float64, 3}[Dual{ForwardDiff.Tag{var\"#validation_mse#17\"{var\"#14#16\"{cf_params, Dict{String, typeof(get_abs_neighborhood)}, Int64, Matrix{Float64}}, RatingsDataset, RatingsDataset}, Float64}}(1.9951858123243775,1.0,0.0,0.0), Dual{ForwardDiff.Tag{var\"#validation_mse#17\"{var\"#14#16\"{cf_params, Dict{String, typeof(get_abs_neighborhood)}, Int64, Matrix{Float64}}, RatingsDataset, RatingsDataset}, Float64}}(0.9779572946215738,0.0,1.0,0.0), Dual{ForwardDiff.Tag{var\"#validation_mse#17\"{var\"#14#16\"{cf_params, Dict{String, typeof(get_abs_neighborhood)}, Int64, Matrix{Float64}}, RatingsDataset, RatingsDataset}, Float64}}(0.003547789906791133,0.0,0.0,1.0)]\n",
      "\u001b[32mProgress: 100%|███████████████████████████| Time: 0:03:19 (50.24 ms/it)\u001b[39m\n",
      "\u001b[38;5;4m\u001b[1m[ \u001b[22m\u001b[39m\u001b[38;5;4m\u001b[1mDebug: \u001b[22m\u001b[39m20211231 01:43:39 loss: Dual{ForwardDiff.Tag{var\"#validation_mse#17\"{var\"#14#16\"{cf_params, Dict{String, typeof(get_abs_neighborhood)}, Int64, Matrix{Float64}}, RatingsDataset, RatingsDataset}, Float64}}(1.3691618671580703,-0.0029704602261907136,-0.010707740811045053,0.12098269560845645) β: Dual{ForwardDiff.Tag{var\"#validation_mse#17\"{var\"#14#16\"{cf_params, Dict{String, typeof(get_abs_neighborhood)}, Int64, Matrix{Float64}}, RatingsDataset, RatingsDataset}, Float64}}(1.0254592070053596,0.4990011265060995,-0.6255528013469793,38.34118923944043): λ ForwardDiff.Dual{ForwardDiff.Tag{var\"#validation_mse#17\"{var\"#14#16\"{cf_params, Dict{String, typeof(get_abs_neighborhood)}, Int64, Matrix{Float64}}, RatingsDataset, RatingsDataset}, Float64}, Float64, 3}[Dual{ForwardDiff.Tag{var\"#validation_mse#17\"{var\"#14#16\"{cf_params, Dict{String, typeof(get_abs_neighborhood)}, Int64, Matrix{Float64}}, RatingsDataset, RatingsDataset}, Float64}}(1.9499206945260124,1.0,0.0,0.0), Dual{ForwardDiff.Tag{var\"#validation_mse#17\"{var\"#14#16\"{cf_params, Dict{String, typeof(get_abs_neighborhood)}, Int64, Matrix{Float64}}, RatingsDataset, RatingsDataset}, Float64}}(0.9828180384363919,0.0,1.0,0.0), Dual{ForwardDiff.Tag{var\"#validation_mse#17\"{var\"#14#16\"{cf_params, Dict{String, typeof(get_abs_neighborhood)}, Int64, Matrix{Float64}}, RatingsDataset, RatingsDataset}, Float64}}(0.005213990726671796,0.0,0.0,1.0)]\n"
     ]
    },
    {
     "name": "stdout",
     "output_type": "stream",
     "text": [
      "    12     1.369162e+00     1.209827e-01\n",
      " * Current step size: 0.16517817258949655\n",
      " * time: 9763.930684804916\n",
      " * g(x): [-0.0029704602261907136, -0.010707740811045053, 0.12098269560845645]\n",
      " * x: [1.9499206945260124, 0.9828180384363919, 0.005213990726671796]\n"
     ]
    },
    {
     "name": "stderr",
     "output_type": "stream",
     "text": [
      "\u001b[32mProgress: 100%|███████████████████████████| Time: 0:03:17 (49.60 ms/it)\u001b[39m\n",
      "\u001b[38;5;4m\u001b[1m[ \u001b[22m\u001b[39m\u001b[38;5;4m\u001b[1mDebug: \u001b[22m\u001b[39m20211231 01:47:02 loss: Dual{ForwardDiff.Tag{var\"#validation_mse#17\"{var\"#14#16\"{cf_params, Dict{String, typeof(get_abs_neighborhood)}, Int64, Matrix{Float64}}, RatingsDataset, RatingsDataset}, Float64}}(1.6981913880258221,1.1104537143404012,-3.596406321299038e-8,-49.2246843919025) β: Dual{ForwardDiff.Tag{var\"#validation_mse#17\"{var\"#14#16\"{cf_params, Dict{String, typeof(get_abs_neighborhood)}, Int64, Matrix{Float64}}, RatingsDataset, RatingsDataset}, Float64}}(-1.806870672307307e-7,-3.7595499952635754,9.161588622043894e-8,169.73390389972536): λ ForwardDiff.Dual{ForwardDiff.Tag{var\"#validation_mse#17\"{var\"#14#16\"{cf_params, Dict{String, typeof(get_abs_neighborhood)}, Int64, Matrix{Float64}}, RatingsDataset, RatingsDataset}, Float64}, Float64, 3}[Dual{ForwardDiff.Tag{var\"#validation_mse#17\"{var\"#14#16\"{cf_params, Dict{String, typeof(get_abs_neighborhood)}, Int64, Matrix{Float64}}, RatingsDataset, RatingsDataset}, Float64}}(2.404153657951673,1.0,0.0,0.0), Dual{ForwardDiff.Tag{var\"#validation_mse#17\"{var\"#14#16\"{cf_params, Dict{String, typeof(get_abs_neighborhood)}, Int64, Matrix{Float64}}, RatingsDataset, RatingsDataset}, Float64}}(0.9429835228010952,0.0,1.0,0.0), Dual{ForwardDiff.Tag{var\"#validation_mse#17\"{var\"#14#16\"{cf_params, Dict{String, typeof(get_abs_neighborhood)}, Int64, Matrix{Float64}}, RatingsDataset, RatingsDataset}, Float64}}(-0.008412540531096047,0.0,0.0,1.0)]\n",
      "\u001b[32mProgress: 100%|███████████████████████████| Time: 0:03:18 (50.00 ms/it)\u001b[39m\n",
      "\u001b[38;5;4m\u001b[1m[ \u001b[22m\u001b[39m\u001b[38;5;4m\u001b[1mDebug: \u001b[22m\u001b[39m20211231 01:50:26 loss: Dual{ForwardDiff.Tag{var\"#validation_mse#17\"{var\"#14#16\"{cf_params, Dict{String, typeof(get_abs_neighborhood)}, Int64, Matrix{Float64}}, RatingsDataset, RatingsDataset}, Float64}}(1.36915628114379,-0.003062729760736393,-0.010718875348058654,0.11605263416278082) β: Dual{ForwardDiff.Tag{var\"#validation_mse#17\"{var\"#14#16\"{cf_params, Dict{String, typeof(get_abs_neighborhood)}, Int64, Matrix{Float64}}, RatingsDataset, RatingsDataset}, Float64}}(1.0248651370318964,0.4981448324018918,-0.625153780952398,38.491528222068645): λ ForwardDiff.Dual{ForwardDiff.Tag{var\"#validation_mse#17\"{var\"#14#16\"{cf_params, Dict{String, typeof(get_abs_neighborhood)}, Int64, Matrix{Float64}}, RatingsDataset, RatingsDataset}, Float64}, Float64, 3}[Dual{ForwardDiff.Tag{var\"#validation_mse#17\"{var\"#14#16\"{cf_params, Dict{String, typeof(get_abs_neighborhood)}, Int64, Matrix{Float64}}, RatingsDataset, RatingsDataset}, Float64}}(1.9509124071013886,1.0,0.0,0.0), Dual{ForwardDiff.Tag{var\"#validation_mse#17\"{var\"#14#16\"{cf_params, Dict{String, typeof(get_abs_neighborhood)}, Int64, Matrix{Float64}}, RatingsDataset, RatingsDataset}, Float64}}(0.9827310689883985,0.0,1.0,0.0), Dual{ForwardDiff.Tag{var\"#validation_mse#17\"{var\"#14#16\"{cf_params, Dict{String, typeof(get_abs_neighborhood)}, Int64, Matrix{Float64}}, RatingsDataset, RatingsDataset}, Float64}}(0.005184240348572482,0.0,0.0,1.0)]\n",
      "\u001b[32mProgress: 100%|███████████████████████████| Time: 0:03:19 (50.19 ms/it)\u001b[39m\n",
      "\u001b[38;5;4m\u001b[1m[ \u001b[22m\u001b[39m\u001b[38;5;4m\u001b[1mDebug: \u001b[22m\u001b[39m20211231 01:53:51 loss: Dual{ForwardDiff.Tag{var\"#validation_mse#17\"{var\"#14#16\"{cf_params, Dict{String, typeof(get_abs_neighborhood)}, Int64, Matrix{Float64}}, RatingsDataset, RatingsDataset}, Float64}}(1.3698965022722205,-0.022338431895288297,-0.010967239531952975,-2.1551517292430393) β: Dual{ForwardDiff.Tag{var\"#validation_mse#17\"{var\"#14#16\"{cf_params, Dict{String, typeof(get_abs_neighborhood)}, Int64, Matrix{Float64}}, RatingsDataset, RatingsDataset}, Float64}}(0.9287621864729453,0.3748781674062328,-0.5679405851690658,65.19829226082746): λ ForwardDiff.Dual{ForwardDiff.Tag{var\"#validation_mse#17\"{var\"#14#16\"{cf_params, Dict{String, typeof(get_abs_neighborhood)}, Int64, Matrix{Float64}}, RatingsDataset, RatingsDataset}, Float64}, Float64, 3}[Dual{ForwardDiff.Tag{var\"#validation_mse#17\"{var\"#14#16\"{cf_params, Dict{String, typeof(get_abs_neighborhood)}, Int64, Matrix{Float64}}, RatingsDataset, RatingsDataset}, Float64}}(2.0490991513077343,1.0,0.0,0.0), Dual{ForwardDiff.Tag{var\"#validation_mse#17\"{var\"#14#16\"{cf_params, Dict{String, typeof(get_abs_neighborhood)}, Int64, Matrix{Float64}}, RatingsDataset, RatingsDataset}, Float64}}(0.9741204622905281,0.0,1.0,0.0), Dual{ForwardDiff.Tag{var\"#validation_mse#17\"{var\"#14#16\"{cf_params, Dict{String, typeof(get_abs_neighborhood)}, Int64, Matrix{Float64}}, RatingsDataset, RatingsDataset}, Float64}}(0.002238736946670671,0.0,0.0,1.0)]\n",
      "\u001b[32mProgress: 100%|███████████████████████████| Time: 0:03:19 (50.13 ms/it)\u001b[39m\n",
      "\u001b[38;5;4m\u001b[1m[ \u001b[22m\u001b[39m\u001b[38;5;4m\u001b[1mDebug: \u001b[22m\u001b[39m20211231 01:57:16 loss: Dual{ForwardDiff.Tag{var\"#validation_mse#17\"{var\"#14#16\"{cf_params, Dict{String, typeof(get_abs_neighborhood)}, Int64, Matrix{Float64}}, RatingsDataset, RatingsDataset}, Float64}}(1.3690975501185376,-0.004221691829208795,-0.010838216182474209,0.049834023221018466) β: Dual{ForwardDiff.Tag{var\"#validation_mse#17\"{var\"#14#16\"{cf_params, Dict{String, typeof(get_abs_neighborhood)}, Int64, Matrix{Float64}}, RatingsDataset, RatingsDataset}, Float64}}(1.0177339906179346,0.48804798245937714,-0.6204371572019146,40.28952552030657): λ ForwardDiff.Dual{ForwardDiff.Tag{var\"#validation_mse#17\"{var\"#14#16\"{cf_params, Dict{String, typeof(get_abs_neighborhood)}, Int64, Matrix{Float64}}, RatingsDataset, RatingsDataset}, Float64}, Float64, 3}[Dual{ForwardDiff.Tag{var\"#validation_mse#17\"{var\"#14#16\"{cf_params, Dict{String, typeof(get_abs_neighborhood)}, Int64, Matrix{Float64}}, RatingsDataset, RatingsDataset}, Float64}}(1.9621697262628128,1.0,0.0,0.0), Dual{ForwardDiff.Tag{var\"#validation_mse#17\"{var\"#14#16\"{cf_params, Dict{String, typeof(get_abs_neighborhood)}, Int64, Matrix{Float64}}, RatingsDataset, RatingsDataset}, Float64}}(0.9817438446073994,0.0,1.0,0.0), Dual{ForwardDiff.Tag{var\"#validation_mse#17\"{var\"#14#16\"{cf_params, Dict{String, typeof(get_abs_neighborhood)}, Int64, Matrix{Float64}}, RatingsDataset, RatingsDataset}, Float64}}(0.004846532115609946,0.0,0.0,1.0)]\n"
     ]
    },
    {
     "name": "stdout",
     "output_type": "stream",
     "text": [
      "    13     1.369098e+00     4.983402e-02\n",
      " * Current step size: 0.02696640870011425\n",
      " * time: 10581.01334285736\n",
      " * g(x): [-0.004221691829208795, -0.010838216182474209, 0.049834023221018466]\n",
      " * x: [1.9621697262628128, 0.9817438446073994, 0.004846532115609946]\n"
     ]
    },
    {
     "name": "stderr",
     "output_type": "stream",
     "text": [
      "\u001b[32mProgress: 100%|███████████████████████████| Time: 0:03:19 (50.31 ms/it)\u001b[39m\n",
      "\u001b[38;5;4m\u001b[1m[ \u001b[22m\u001b[39m\u001b[38;5;4m\u001b[1mDebug: \u001b[22m\u001b[39m20211231 02:00:41 loss: Dual{ForwardDiff.Tag{var\"#validation_mse#17\"{var\"#14#16\"{cf_params, Dict{String, typeof(get_abs_neighborhood)}, Int64, Matrix{Float64}}, RatingsDataset, RatingsDataset}, Float64}}(1.3697141479592165,-0.021388119783059482,-0.010661341162782586,-2.2600622458542783) β: Dual{ForwardDiff.Tag{var\"#validation_mse#17\"{var\"#14#16\"{cf_params, Dict{String, typeof(get_abs_neighborhood)}, Int64, Matrix{Float64}}, RatingsDataset, RatingsDataset}, Float64}}(0.9254006237285503,0.3689340920932412,-0.5673070300619848,69.81059188250971): λ ForwardDiff.Dual{ForwardDiff.Tag{var\"#validation_mse#17\"{var\"#14#16\"{cf_params, Dict{String, typeof(get_abs_neighborhood)}, Int64, Matrix{Float64}}, RatingsDataset, RatingsDataset}, Float64}, Float64, 3}[Dual{ForwardDiff.Tag{var\"#validation_mse#17\"{var\"#14#16\"{cf_params, Dict{String, typeof(get_abs_neighborhood)}, Int64, Matrix{Float64}}, RatingsDataset, RatingsDataset}, Float64}}(2.074452981311505,1.0,0.0,0.0), Dual{ForwardDiff.Tag{var\"#validation_mse#17\"{var\"#14#16\"{cf_params, Dict{String, typeof(get_abs_neighborhood)}, Int64, Matrix{Float64}}, RatingsDataset, RatingsDataset}, Float64}}(0.9757040652622007,0.0,1.0,0.0), Dual{ForwardDiff.Tag{var\"#validation_mse#17\"{var\"#14#16\"{cf_params, Dict{String, typeof(get_abs_neighborhood)}, Int64, Matrix{Float64}}, RatingsDataset, RatingsDataset}, Float64}}(0.002062424678025336,0.0,0.0,1.0)]\n",
      "\u001b[32mProgress: 100%|███████████████████████████| Time: 0:03:18 (49.98 ms/it)\u001b[39m\n",
      "\u001b[38;5;4m\u001b[1m[ \u001b[22m\u001b[39m\u001b[38;5;4m\u001b[1mDebug: \u001b[22m\u001b[39m20211231 02:04:07 loss: Dual{ForwardDiff.Tag{var\"#validation_mse#17\"{var\"#14#16\"{cf_params, Dict{String, typeof(get_abs_neighborhood)}, Int64, Matrix{Float64}}, RatingsDataset, RatingsDataset}, Float64}}(1.369035103139007,-0.00512583510837625,-0.01091516087192472,-0.012732388819209736) β: Dual{ForwardDiff.Tag{var\"#validation_mse#17\"{var\"#14#16\"{cf_params, Dict{String, typeof(get_abs_neighborhood)}, Int64, Matrix{Float64}}, RatingsDataset, RatingsDataset}, Float64}}(1.0107977310503486,0.47793164234669844,-0.6160378387240858,42.38329273954331): λ ForwardDiff.Dual{ForwardDiff.Tag{var\"#validation_mse#17\"{var\"#14#16\"{cf_params, Dict{String, typeof(get_abs_neighborhood)}, Int64, Matrix{Float64}}, RatingsDataset, RatingsDataset}, Float64}, Float64, 3}[Dual{ForwardDiff.Tag{var\"#validation_mse#17\"{var\"#14#16\"{cf_params, Dict{String, typeof(get_abs_neighborhood)}, Int64, Matrix{Float64}}, RatingsDataset, RatingsDataset}, Float64}}(1.9758187019205318,1.0,0.0,0.0), Dual{ForwardDiff.Tag{var\"#validation_mse#17\"{var\"#14#16\"{cf_params, Dict{String, typeof(get_abs_neighborhood)}, Int64, Matrix{Float64}}, RatingsDataset, RatingsDataset}, Float64}}(0.9810096585417669,0.0,1.0,0.0), Dual{ForwardDiff.Tag{var\"#validation_mse#17\"{var\"#14#16\"{cf_params, Dict{String, typeof(get_abs_neighborhood)}, Int64, Matrix{Float64}}, RatingsDataset, RatingsDataset}, Float64}}(0.004508100399967327,0.0,0.0,1.0)]\n"
     ]
    },
    {
     "name": "stdout",
     "output_type": "stream",
     "text": [
      "    14     1.369035e+00     1.273239e-02\n",
      " * Current step size: 0.12155842517924893\n",
      " * time: 10991.323234796524\n",
      " * g(x): [-0.00512583510837625, -0.01091516087192472, -0.012732388819209736]\n",
      " * x: [1.9758187019205318, 0.9810096585417669, 0.004508100399967327]\n"
     ]
    },
    {
     "name": "stderr",
     "output_type": "stream",
     "text": [
      "\u001b[32mProgress: 100%|███████████████████████████| Time: 0:03:18 (49.84 ms/it)\u001b[39m\n",
      "\u001b[38;5;4m\u001b[1m[ \u001b[22m\u001b[39m\u001b[38;5;4m\u001b[1mDebug: \u001b[22m\u001b[39m20211231 02:07:30 loss: Dual{ForwardDiff.Tag{var\"#validation_mse#17\"{var\"#14#16\"{cf_params, Dict{String, typeof(get_abs_neighborhood)}, Int64, Matrix{Float64}}, RatingsDataset, RatingsDataset}, Float64}}(1.369851028935489,-0.02277585838229877,-0.009971629008402327,-2.900604601685513) β: Dual{ForwardDiff.Tag{var\"#validation_mse#17\"{var\"#14#16\"{cf_params, Dict{String, typeof(get_abs_neighborhood)}, Int64, Matrix{Float64}}, RatingsDataset, RatingsDataset}, Float64}}(0.9116179424661196,0.3514966354847844,-0.5621386929987092,78.01731313055433): λ ForwardDiff.Dual{ForwardDiff.Tag{var\"#validation_mse#17\"{var\"#14#16\"{cf_params, Dict{String, typeof(get_abs_neighborhood)}, Int64, Matrix{Float64}}, RatingsDataset, RatingsDataset}, Float64}, Float64, 3}[Dual{ForwardDiff.Tag{var\"#validation_mse#17\"{var\"#14#16\"{cf_params, Dict{String, typeof(get_abs_neighborhood)}, Int64, Matrix{Float64}}, RatingsDataset, RatingsDataset}, Float64}}(2.1028609389528823,1.0,0.0,0.0), Dual{ForwardDiff.Tag{var\"#validation_mse#17\"{var\"#14#16\"{cf_params, Dict{String, typeof(get_abs_neighborhood)}, Int64, Matrix{Float64}}, RatingsDataset, RatingsDataset}, Float64}}(0.9780417457096178,0.0,1.0,0.0), Dual{ForwardDiff.Tag{var\"#validation_mse#17\"{var\"#14#16\"{cf_params, Dict{String, typeof(get_abs_neighborhood)}, Int64, Matrix{Float64}}, RatingsDataset, RatingsDataset}, Float64}}(0.0017546163908102202,0.0,0.0,1.0)]\n",
      "\u001b[32mProgress: 100%|███████████████████████████| Time: 0:03:19 (50.22 ms/it)\u001b[39m\n",
      "\u001b[38;5;4m\u001b[1m[ \u001b[22m\u001b[39m\u001b[38;5;4m\u001b[1mDebug: \u001b[22m\u001b[39m20211231 02:10:56 loss: Dual{ForwardDiff.Tag{var\"#validation_mse#17\"{var\"#14#16\"{cf_params, Dict{String, typeof(get_abs_neighborhood)}, Int64, Matrix{Float64}}, RatingsDataset, RatingsDataset}, Float64}}(1.368978533378923,-0.005750595268618519,-0.010919640496484096,-0.06544778330077917) β: Dual{ForwardDiff.Tag{var\"#validation_mse#17\"{var\"#14#16\"{cf_params, Dict{String, typeof(get_abs_neighborhood)}, Int64, Matrix{Float64}}, RatingsDataset, RatingsDataset}, Float64}}(1.0049259857896218,0.46933586574321917,-0.6125997342784263,44.37615390948458): λ ForwardDiff.Dual{ForwardDiff.Tag{var\"#validation_mse#17\"{var\"#14#16\"{cf_params, Dict{String, typeof(get_abs_neighborhood)}, Int64, Matrix{Float64}}, RatingsDataset, RatingsDataset}, Float64}, Float64, 3}[Dual{ForwardDiff.Tag{var\"#validation_mse#17\"{var\"#14#16\"{cf_params, Dict{String, typeof(get_abs_neighborhood)}, Int64, Matrix{Float64}}, RatingsDataset, RatingsDataset}, Float64}}(1.9888141779184385,1.0,0.0,0.0), Dual{ForwardDiff.Tag{var\"#validation_mse#17\"{var\"#14#16\"{cf_params, Dict{String, typeof(get_abs_neighborhood)}, Int64, Matrix{Float64}}, RatingsDataset, RatingsDataset}, Float64}}(0.9807060631322791,0.0,1.0,0.0), Dual{ForwardDiff.Tag{var\"#validation_mse#17\"{var\"#14#16\"{cf_params, Dict{String, typeof(get_abs_neighborhood)}, Int64, Matrix{Float64}}, RatingsDataset, RatingsDataset}, Float64}}(0.004226439464301424,0.0,0.0,1.0)]\n"
     ]
    },
    {
     "name": "stdout",
     "output_type": "stream",
     "text": [
      "    15     1.368979e+00     6.544778e-02\n",
      " * Current step size: 0.10229256270572079\n",
      " * time: 11400.445848941803\n",
      " * g(x): [-0.005750595268618519, -0.010919640496484096, -0.06544778330077917]\n",
      " * x: [1.9888141779184385, 0.9807060631322791, 0.004226439464301424]\n"
     ]
    },
    {
     "name": "stderr",
     "output_type": "stream",
     "text": [
      "\u001b[32mProgress: 100%|███████████████████████████| Time: 0:03:18 (50.00 ms/it)\u001b[39m\n",
      "\u001b[38;5;4m\u001b[1m[ \u001b[22m\u001b[39m\u001b[38;5;4m\u001b[1mDebug: \u001b[22m\u001b[39m20211231 02:14:20 loss: Dual{ForwardDiff.Tag{var\"#validation_mse#17\"{var\"#14#16\"{cf_params, Dict{String, typeof(get_abs_neighborhood)}, Int64, Matrix{Float64}}, RatingsDataset, RatingsDataset}, Float64}}(1.3697426119414597,-0.022360252542812015,-0.009324776613036264,-3.099327257571728) β: Dual{ForwardDiff.Tag{var\"#validation_mse#17\"{var\"#14#16\"{cf_params, Dict{String, typeof(get_abs_neighborhood)}, Int64, Matrix{Float64}}, RatingsDataset, RatingsDataset}, Float64}}(0.9067964759287198,0.34539197006058714,-0.5620270578577332,82.7793456269987): λ ForwardDiff.Dual{ForwardDiff.Tag{var\"#validation_mse#17\"{var\"#14#16\"{cf_params, Dict{String, typeof(get_abs_neighborhood)}, Int64, Matrix{Float64}}, RatingsDataset, RatingsDataset}, Float64}, Float64, 3}[Dual{ForwardDiff.Tag{var\"#validation_mse#17\"{var\"#14#16\"{cf_params, Dict{String, typeof(get_abs_neighborhood)}, Int64, Matrix{Float64}}, RatingsDataset, RatingsDataset}, Float64}}(2.1233592290096857,1.0,0.0,0.0), Dual{ForwardDiff.Tag{var\"#validation_mse#17\"{var\"#14#16\"{cf_params, Dict{String, typeof(get_abs_neighborhood)}, Int64, Matrix{Float64}}, RatingsDataset, RatingsDataset}, Float64}}(0.9810524424637442,0.0,1.0,0.0), Dual{ForwardDiff.Tag{var\"#validation_mse#17\"{var\"#14#16\"{cf_params, Dict{String, typeof(get_abs_neighborhood)}, Int64, Matrix{Float64}}, RatingsDataset, RatingsDataset}, Float64}}(0.0016267733353851764,0.0,0.0,1.0)]\n",
      "\u001b[32mProgress: 100%|███████████████████████████| Time: 0:03:19 (50.30 ms/it)\u001b[39m\n",
      "\u001b[38;5;4m\u001b[1m[ \u001b[22m\u001b[39m\u001b[38;5;4m\u001b[1mDebug: \u001b[22m\u001b[39m20211231 02:17:46 loss: Dual{ForwardDiff.Tag{var\"#validation_mse#17\"{var\"#14#16\"{cf_params, Dict{String, typeof(get_abs_neighborhood)}, Int64, Matrix{Float64}}, RatingsDataset, RatingsDataset}, Float64}}(1.3689168292212588,-0.0062669201968068786,-0.010856743659717264,-0.11925805999815559) β: Dual{ForwardDiff.Tag{var\"#validation_mse#17\"{var\"#14#16\"{cf_params, Dict{String, typeof(get_abs_neighborhood)}, Int64, Matrix{Float64}}, RatingsDataset, RatingsDataset}, Float64}}(0.9989224311013175,0.46058410718996035,-0.6093968652499894,46.619735211930184): λ ForwardDiff.Dual{ForwardDiff.Tag{var\"#validation_mse#17\"{var\"#14#16\"{cf_params, Dict{String, typeof(get_abs_neighborhood)}, Int64, Matrix{Float64}}, RatingsDataset, RatingsDataset}, Float64}, Float64, 3}[Dual{ForwardDiff.Tag{var\"#validation_mse#17\"{var\"#14#16\"{cf_params, Dict{String, typeof(get_abs_neighborhood)}, Int64, Matrix{Float64}}, RatingsDataset, RatingsDataset}, Float64}}(2.0032699069954747,1.0,0.0,0.0), Dual{ForwardDiff.Tag{var\"#validation_mse#17\"{var\"#14#16\"{cf_params, Dict{String, typeof(get_abs_neighborhood)}, Int64, Matrix{Float64}}, RatingsDataset, RatingsDataset}, Float64}}(0.9807432786651652,0.0,1.0,0.0), Dual{ForwardDiff.Tag{var\"#validation_mse#17\"{var\"#14#16\"{cf_params, Dict{String, typeof(get_abs_neighborhood)}, Int64, Matrix{Float64}}, RatingsDataset, RatingsDataset}, Float64}}(0.003947127301233646,0.0,0.0,1.0)]\n"
     ]
    },
    {
     "name": "stdout",
     "output_type": "stream",
     "text": [
      "    16     1.368917e+00     1.192581e-01\n",
      " * Current step size: 0.10744155180581522\n",
      " * time: 11810.941492795944\n",
      " * g(x): [-0.0062669201968068786, -0.010856743659717264, -0.11925805999815559]\n",
      " * x: [2.0032699069954747, 0.9807432786651652, 0.003947127301233646]\n"
     ]
    },
    {
     "name": "stderr",
     "output_type": "stream",
     "text": [
      "\u001b[32mProgress: 100%|███████████████████████████| Time: 0:03:20 (50.50 ms/it)\u001b[39m\n",
      "\u001b[38;5;4m\u001b[1m[ \u001b[22m\u001b[39m\u001b[38;5;4m\u001b[1mDebug: \u001b[22m\u001b[39m20211231 02:21:12 loss: Dual{ForwardDiff.Tag{var\"#validation_mse#17\"{var\"#14#16\"{cf_params, Dict{String, typeof(get_abs_neighborhood)}, Int64, Matrix{Float64}}, RatingsDataset, RatingsDataset}, Float64}}(1.3695366763440053,-0.021290465653309814,-0.00856837649638977,-3.0991962650217495) β: Dual{ForwardDiff.Tag{var\"#validation_mse#17\"{var\"#14#16\"{cf_params, Dict{String, typeof(get_abs_neighborhood)}, Int64, Matrix{Float64}}, RatingsDataset, RatingsDataset}, Float64}}(0.9048305784712174,0.3431979023387861,-0.5640493442312815,86.16676214406509): λ ForwardDiff.Dual{ForwardDiff.Tag{var\"#validation_mse#17\"{var\"#14#16\"{cf_params, Dict{String, typeof(get_abs_neighborhood)}, Int64, Matrix{Float64}}, RatingsDataset, RatingsDataset}, Float64}, Float64, 3}[Dual{ForwardDiff.Tag{var\"#validation_mse#17\"{var\"#14#16\"{cf_params, Dict{String, typeof(get_abs_neighborhood)}, Int64, Matrix{Float64}}, RatingsDataset, RatingsDataset}, Float64}}(2.1412031373217886,1.0,0.0,0.0), Dual{ForwardDiff.Tag{var\"#validation_mse#17\"{var\"#14#16\"{cf_params, Dict{String, typeof(get_abs_neighborhood)}, Int64, Matrix{Float64}}, RatingsDataset, RatingsDataset}, Float64}}(0.9849072470242951,0.0,1.0,0.0), Dual{ForwardDiff.Tag{var\"#validation_mse#17\"{var\"#14#16\"{cf_params, Dict{String, typeof(get_abs_neighborhood)}, Int64, Matrix{Float64}}, RatingsDataset, RatingsDataset}, Float64}}(0.0015564468213670993,0.0,0.0,1.0)]\n",
      "\u001b[32mProgress: 100%|███████████████████████████| Time: 0:03:24 (51.53 ms/it)\u001b[39m\n",
      "\u001b[38;5;4m\u001b[1m[ \u001b[22m\u001b[39m\u001b[38;5;4m\u001b[1mDebug: \u001b[22m\u001b[39m20211231 02:24:43 loss: Dual{ForwardDiff.Tag{var\"#validation_mse#17\"{var\"#14#16\"{cf_params, Dict{String, typeof(get_abs_neighborhood)}, Int64, Matrix{Float64}}, RatingsDataset, RatingsDataset}, Float64}}(1.3688445594637326,-0.006728182495663268,-0.010692863609881177,-0.18014719934223633) β: Dual{ForwardDiff.Tag{var\"#validation_mse#17\"{var\"#14#16\"{cf_params, Dict{String, typeof(get_abs_neighborhood)}, Int64, Matrix{Float64}}, RatingsDataset, RatingsDataset}, Float64}}(0.9922241113362987,0.45098200112832343,-0.6062499352828374,49.33068004435487): λ ForwardDiff.Dual{ForwardDiff.Tag{var\"#validation_mse#17\"{var\"#14#16\"{cf_params, Dict{String, typeof(get_abs_neighborhood)}, Int64, Matrix{Float64}}, RatingsDataset, RatingsDataset}, Float64}, Float64, 3}[Dual{ForwardDiff.Tag{var\"#validation_mse#17\"{var\"#14#16\"{cf_params, Dict{String, typeof(get_abs_neighborhood)}, Int64, Matrix{Float64}}, RatingsDataset, RatingsDataset}, Float64}}(2.0202893311199897,1.0,0.0,0.0), Dual{ForwardDiff.Tag{var\"#validation_mse#17\"{var\"#14#16\"{cf_params, Dict{String, typeof(get_abs_neighborhood)}, Int64, Matrix{Float64}}, RatingsDataset, RatingsDataset}, Float64}}(0.9812570659764421,0.0,1.0,0.0), Dual{ForwardDiff.Tag{var\"#validation_mse#17\"{var\"#14#16\"{cf_params, Dict{String, typeof(get_abs_neighborhood)}, Int64, Matrix{Float64}}, RatingsDataset, RatingsDataset}, Float64}}(0.0036521439608392338,0.0,0.0,1.0)]\n"
     ]
    },
    {
     "name": "stdout",
     "output_type": "stream",
     "text": [
      "    17     1.368845e+00     1.801472e-01\n",
      " * Current step size: 0.12338886056863543\n",
      " * time: 12227.288125991821\n",
      " * g(x): [-0.006728182495663268, -0.010692863609881177, -0.18014719934223633]\n",
      " * x: [2.0202893311199897, 0.9812570659764421, 0.0036521439608392338]\n"
     ]
    },
    {
     "name": "stderr",
     "output_type": "stream",
     "text": [
      "\u001b[32mProgress: 100%|███████████████████████████| Time: 0:02:43 (41.07 ms/it)\u001b[39m\n",
      "\u001b[38;5;4m\u001b[1m[ \u001b[22m\u001b[39m\u001b[38;5;4m\u001b[1mDebug: \u001b[22m\u001b[39m20211231 02:27:34 loss: Dual{ForwardDiff.Tag{var\"#validation_mse#17\"{var\"#14#16\"{cf_params, Dict{String, typeof(get_abs_neighborhood)}, Int64, Matrix{Float64}}, RatingsDataset, RatingsDataset}, Float64}}(1.3692261542801114,-0.019355678929161575,-0.00775624844073309,-2.842313610703867) β: Dual{ForwardDiff.Tag{var\"#validation_mse#17\"{var\"#14#16\"{cf_params, Dict{String, typeof(get_abs_neighborhood)}, Int64, Matrix{Float64}}, RatingsDataset, RatingsDataset}, Float64}}(0.906361758239226,0.3453707066035688,-0.5683867323652775,87.88702506196957): λ ForwardDiff.Dual{ForwardDiff.Tag{var\"#validation_mse#17\"{var\"#14#16\"{cf_params, Dict{String, typeof(get_abs_neighborhood)}, Int64, Matrix{Float64}}, RatingsDataset, RatingsDataset}, Float64}, Float64, 3}[Dual{ForwardDiff.Tag{var\"#validation_mse#17\"{var\"#14#16\"{cf_params, Dict{String, typeof(get_abs_neighborhood)}, Int64, Matrix{Float64}}, RatingsDataset, RatingsDataset}, Float64}}(2.15684333741446,1.0,0.0,0.0), Dual{ForwardDiff.Tag{var\"#validation_mse#17\"{var\"#14#16\"{cf_params, Dict{String, typeof(get_abs_neighborhood)}, Int64, Matrix{Float64}}, RatingsDataset, RatingsDataset}, Float64}}(0.9894241514490705,0.0,1.0,0.0), Dual{ForwardDiff.Tag{var\"#validation_mse#17\"{var\"#14#16\"{cf_params, Dict{String, typeof(get_abs_neighborhood)}, Int64, Matrix{Float64}}, RatingsDataset, RatingsDataset}, Float64}}(0.001541553790380663,0.0,0.0,1.0)]\n",
      "\u001b[32mProgress: 100%|███████████████████████████| Time: 0:02:37 (39.57 ms/it)\u001b[39m\n",
      "\u001b[38;5;4m\u001b[1m[ \u001b[22m\u001b[39m\u001b[38;5;4m\u001b[1mDebug: \u001b[22m\u001b[39m20211231 02:30:17 loss: Dual{ForwardDiff.Tag{var\"#validation_mse#17\"{var\"#14#16\"{cf_params, Dict{String, typeof(get_abs_neighborhood)}, Int64, Matrix{Float64}}, RatingsDataset, RatingsDataset}, Float64}}(1.3687525775464124,-0.007180940365862712,-0.010355113131027242,-0.2588000517708589) β: Dual{ForwardDiff.Tag{var\"#validation_mse#17\"{var\"#14#16\"{cf_params, Dict{String, typeof(get_abs_neighborhood)}, Int64, Matrix{Float64}}, RatingsDataset, RatingsDataset}, Float64}}(0.9839211194030338,0.4394087067061972,-0.6029476885252146,52.95511543712267): λ ForwardDiff.Dual{ForwardDiff.Tag{var\"#validation_mse#17\"{var\"#14#16\"{cf_params, Dict{String, typeof(get_abs_neighborhood)}, Int64, Matrix{Float64}}, RatingsDataset, RatingsDataset}, Float64}, Float64, 3}[Dual{ForwardDiff.Tag{var\"#validation_mse#17\"{var\"#14#16\"{cf_params, Dict{String, typeof(get_abs_neighborhood)}, Int64, Matrix{Float64}}, RatingsDataset, RatingsDataset}, Float64}}(2.0421006970392983,1.0,0.0,0.0), Dual{ForwardDiff.Tag{var\"#validation_mse#17\"{var\"#14#16\"{cf_params, Dict{String, typeof(get_abs_neighborhood)}, Int64, Matrix{Float64}}, RatingsDataset, RatingsDataset}, Float64}}(0.9825615702862873,0.0,1.0,0.0), Dual{ForwardDiff.Tag{var\"#validation_mse#17\"{var\"#14#16\"{cf_params, Dict{String, typeof(get_abs_neighborhood)}, Int64, Matrix{Float64}}, RatingsDataset, RatingsDataset}, Float64}}(0.0033150256604482756,0.0,0.0,1.0)]\n"
     ]
    },
    {
     "name": "stdout",
     "output_type": "stream",
     "text": [
      "    18     1.368753e+00     2.588001e-01\n",
      " * Current step size: 0.1597270304341994\n",
      " * time: 12561.677301883698\n",
      " * g(x): [-0.007180940365862712, -0.010355113131027242, -0.2588000517708589]\n",
      " * x: [2.0421006970392983, 0.9825615702862873, 0.0033150256604482756]\n"
     ]
    },
    {
     "name": "stderr",
     "output_type": "stream",
     "text": [
      "\u001b[32mProgress: 100%|███████████████████████████| Time: 0:02:33 (38.65 ms/it)\u001b[39m\n",
      "\u001b[38;5;4m\u001b[1m[ \u001b[22m\u001b[39m\u001b[38;5;4m\u001b[1mDebug: \u001b[22m\u001b[39m20211231 02:32:55 loss: Dual{ForwardDiff.Tag{var\"#validation_mse#17\"{var\"#14#16\"{cf_params, Dict{String, typeof(get_abs_neighborhood)}, Int64, Matrix{Float64}}, RatingsDataset, RatingsDataset}, Float64}}(1.3688821319329416,-0.016687019891500798,-0.007212757020984683,-2.40922236863431) β: Dual{ForwardDiff.Tag{var\"#validation_mse#17\"{var\"#14#16\"{cf_params, Dict{String, typeof(get_abs_neighborhood)}, Int64, Matrix{Float64}}, RatingsDataset, RatingsDataset}, Float64}}(0.9110144258270242,0.3503508694684099,-0.5734730065105078,88.79819333291572): λ ForwardDiff.Dual{ForwardDiff.Tag{var\"#validation_mse#17\"{var\"#14#16\"{cf_params, Dict{String, typeof(get_abs_neighborhood)}, Int64, Matrix{Float64}}, RatingsDataset, RatingsDataset}, Float64}, Float64, 3}[Dual{ForwardDiff.Tag{var\"#validation_mse#17\"{var\"#14#16\"{cf_params, Dict{String, typeof(get_abs_neighborhood)}, Int64, Matrix{Float64}}, RatingsDataset, RatingsDataset}, Float64}}(2.1723962501249505,1.0,0.0,0.0), Dual{ForwardDiff.Tag{var\"#validation_mse#17\"{var\"#14#16\"{cf_params, Dict{String, typeof(get_abs_neighborhood)}, Int64, Matrix{Float64}}, RatingsDataset, RatingsDataset}, Float64}}(0.9929456150599056,0.0,1.0,0.0), Dual{ForwardDiff.Tag{var\"#validation_mse#17\"{var\"#14#16\"{cf_params, Dict{String, typeof(get_abs_neighborhood)}, Int64, Matrix{Float64}}, RatingsDataset, RatingsDataset}, Float64}}(0.0015557341557796505,0.0,0.0,1.0)]\n",
      "\u001b[32mProgress: 100%|███████████████████████████| Time: 0:02:20 (35.40 ms/it)\u001b[39m\n",
      "\u001b[38;5;4m\u001b[1m[ \u001b[22m\u001b[39m\u001b[38;5;4m\u001b[1mDebug: \u001b[22m\u001b[39m20211231 02:35:21 loss: Dual{ForwardDiff.Tag{var\"#validation_mse#17\"{var\"#14#16\"{cf_params, Dict{String, typeof(get_abs_neighborhood)}, Int64, Matrix{Float64}}, RatingsDataset, RatingsDataset}, Float64}}(1.3686338214709683,-0.007644594185223697,-0.009778192146846887,-0.3722821031076034) β: Dual{ForwardDiff.Tag{var\"#validation_mse#17\"{var\"#14#16\"{cf_params, Dict{String, typeof(get_abs_neighborhood)}, Int64, Matrix{Float64}}, RatingsDataset, RatingsDataset}, Float64}}(0.9730657649318444,0.42464050642690565,-0.5991958987531587,58.23560158689033): λ ForwardDiff.Dual{ForwardDiff.Tag{var\"#validation_mse#17\"{var\"#14#16\"{cf_params, Dict{String, typeof(get_abs_neighborhood)}, Int64, Matrix{Float64}}, RatingsDataset, RatingsDataset}, Float64}, Float64, 3}[Dual{ForwardDiff.Tag{var\"#validation_mse#17\"{var\"#14#16\"{cf_params, Dict{String, typeof(get_abs_neighborhood)}, Int64, Matrix{Float64}}, RatingsDataset, RatingsDataset}, Float64}}(2.0718209637638005,1.0,0.0,0.0), Dual{ForwardDiff.Tag{var\"#validation_mse#17\"{var\"#14#16\"{cf_params, Dict{String, typeof(get_abs_neighborhood)}, Int64, Matrix{Float64}}, RatingsDataset, RatingsDataset}, Float64}}(0.9849301590296671,0.0,1.0,0.0), Dual{ForwardDiff.Tag{var\"#validation_mse#17\"{var\"#14#16\"{cf_params, Dict{String, typeof(get_abs_neighborhood)}, Int64, Matrix{Float64}}, RatingsDataset, RatingsDataset}, Float64}}(0.002913733279191558,0.0,0.0,1.0)]\n"
     ]
    },
    {
     "name": "stdout",
     "output_type": "stream",
     "text": [
      "    19     1.368634e+00     3.722821e-01\n",
      " * Current step size: 0.22809885694997667\n",
      " * time: 12865.412254810333\n",
      " * g(x): [-0.007644594185223697, -0.009778192146846887, -0.3722821031076034]\n",
      " * x: [2.0718209637638005, 0.9849301590296671, 0.002913733279191558]\n"
     ]
    },
    {
     "name": "stderr",
     "output_type": "stream",
     "text": [
      "\u001b[32mProgress: 100%|███████████████████████████| Time: 0:02:21 (35.57 ms/it)\u001b[39m\n",
      "\u001b[38;5;4m\u001b[1m[ \u001b[22m\u001b[39m\u001b[38;5;4m\u001b[1mDebug: \u001b[22m\u001b[39m20211231 02:37:46 loss: Dual{ForwardDiff.Tag{var\"#validation_mse#17\"{var\"#14#16\"{cf_params, Dict{String, typeof(get_abs_neighborhood)}, Int64, Matrix{Float64}}, RatingsDataset, RatingsDataset}, Float64}}(1.3685057062497834,-0.012890750327557716,-0.006596596473968772,-1.7474902825400158) β: Dual{ForwardDiff.Tag{var\"#validation_mse#17\"{var\"#14#16\"{cf_params, Dict{String, typeof(get_abs_neighborhood)}, Int64, Matrix{Float64}}, RatingsDataset, RatingsDataset}, Float64}}(0.919056996538936,0.3589766107891536,-0.5809208927695183,88.44586737537708): λ ForwardDiff.Dual{ForwardDiff.Tag{var\"#validation_mse#17\"{var\"#14#16\"{cf_params, Dict{String, typeof(get_abs_neighborhood)}, Int64, Matrix{Float64}}, RatingsDataset, RatingsDataset}, Float64}, Float64, 3}[Dual{ForwardDiff.Tag{var\"#validation_mse#17\"{var\"#14#16\"{cf_params, Dict{String, typeof(get_abs_neighborhood)}, Int64, Matrix{Float64}}, RatingsDataset, RatingsDataset}, Float64}}(2.1879829875953605,1.0,0.0,0.0), Dual{ForwardDiff.Tag{var\"#validation_mse#17\"{var\"#14#16\"{cf_params, Dict{String, typeof(get_abs_neighborhood)}, Int64, Matrix{Float64}}, RatingsDataset, RatingsDataset}, Float64}}(0.9971910475390254,0.0,1.0,0.0), Dual{ForwardDiff.Tag{var\"#validation_mse#17\"{var\"#14#16\"{cf_params, Dict{String, typeof(get_abs_neighborhood)}, Int64, Matrix{Float64}}, RatingsDataset, RatingsDataset}, Float64}}(0.0016117536023370282,0.0,0.0,1.0)]\n",
      "\u001b[32mProgress: 100%|███████████████████████████| Time: 0:02:22 (35.88 ms/it)\u001b[39m\n",
      "\u001b[38;5;4m\u001b[1m[ \u001b[22m\u001b[39m\u001b[38;5;4m\u001b[1mDebug: \u001b[22m\u001b[39m20211231 02:40:13 loss: Dual{ForwardDiff.Tag{var\"#validation_mse#17\"{var\"#14#16\"{cf_params, Dict{String, typeof(get_abs_neighborhood)}, Int64, Matrix{Float64}}, RatingsDataset, RatingsDataset}, Float64}}(1.368455091636464,-0.008231880080941426,-0.008546460420545724,-0.5956688531528798) β: Dual{ForwardDiff.Tag{var\"#validation_mse#17\"{var\"#14#16\"{cf_params, Dict{String, typeof(get_abs_neighborhood)}, Int64, Matrix{Float64}}, RatingsDataset, RatingsDataset}, Float64}}(0.955388714506313,0.40161572092425224,-0.5942393239780718,68.1619599405055): λ ForwardDiff.Dual{ForwardDiff.Tag{var\"#validation_mse#17\"{var\"#14#16\"{cf_params, Dict{String, typeof(get_abs_neighborhood)}, Int64, Matrix{Float64}}, RatingsDataset, RatingsDataset}, Float64}, Float64, 3}[Dual{ForwardDiff.Tag{var\"#validation_mse#17\"{var\"#14#16\"{cf_params, Dict{String, typeof(get_abs_neighborhood)}, Int64, Matrix{Float64}}, RatingsDataset, RatingsDataset}, Float64}}(2.121633050942246,1.0,0.0,0.0), Dual{ForwardDiff.Tag{var\"#validation_mse#17\"{var\"#14#16\"{cf_params, Dict{String, typeof(get_abs_neighborhood)}, Int64, Matrix{Float64}}, RatingsDataset, RatingsDataset}, Float64}}(0.9901878192112679,0.0,1.0,0.0), Dual{ForwardDiff.Tag{var\"#validation_mse#17\"{var\"#14#16\"{cf_params, Dict{String, typeof(get_abs_neighborhood)}, Int64, Matrix{Float64}}, RatingsDataset, RatingsDataset}, Float64}}(0.0023554240914824684,0.0,0.0,1.0)]\n"
     ]
    },
    {
     "name": "stdout",
     "output_type": "stream",
     "text": [
      "    20     1.368455e+00     5.956689e-01\n",
      " * Current step size: 0.42881559338769126\n",
      " * time: 13158.05636382103\n",
      " * g(x): [-0.008231880080941426, -0.008546460420545724, -0.5956688531528798]\n",
      " * x: [2.121633050942246, 0.9901878192112679, 0.0023554240914824684]\n"
     ]
    },
    {
     "name": "stderr",
     "output_type": "stream",
     "text": [
      "\u001b[32mProgress: 100%|███████████████████████████| Time: 0:02:15 (34.01 ms/it)\u001b[39m\n",
      "\u001b[38;5;4m\u001b[1m[ \u001b[22m\u001b[39m\u001b[38;5;4m\u001b[1mDebug: \u001b[22m\u001b[39m20211231 02:42:32 loss: Dual{ForwardDiff.Tag{var\"#validation_mse#17\"{var\"#14#16\"{cf_params, Dict{String, typeof(get_abs_neighborhood)}, Int64, Matrix{Float64}}, RatingsDataset, RatingsDataset}, Float64}}(1.3681591147313048,-0.007913459654602802,-0.005583816741295428,-0.9709335054380754) β: Dual{ForwardDiff.Tag{var\"#validation_mse#17\"{var\"#14#16\"{cf_params, Dict{String, typeof(get_abs_neighborhood)}, Int64, Matrix{Float64}}, RatingsDataset, RatingsDataset}, Float64}}(0.9271544856489322,0.3669340860537645,-0.5901077101433552,89.77893922053114): λ ForwardDiff.Dual{ForwardDiff.Tag{var\"#validation_mse#17\"{var\"#14#16\"{cf_params, Dict{String, typeof(get_abs_neighborhood)}, Int64, Matrix{Float64}}, RatingsDataset, RatingsDataset}, Float64}, Float64, 3}[Dual{ForwardDiff.Tag{var\"#validation_mse#17\"{var\"#14#16\"{cf_params, Dict{String, typeof(get_abs_neighborhood)}, Int64, Matrix{Float64}}, RatingsDataset, RatingsDataset}, Float64}}(2.214096681319192,1.0,0.0,0.0), Dual{ForwardDiff.Tag{var\"#validation_mse#17\"{var\"#14#16\"{cf_params, Dict{String, typeof(get_abs_neighborhood)}, Int64, Matrix{Float64}}, RatingsDataset, RatingsDataset}, Float64}}(1.0035416976462028,0.0,1.0,0.0), Dual{ForwardDiff.Tag{var\"#validation_mse#17\"{var\"#14#16\"{cf_params, Dict{String, typeof(get_abs_neighborhood)}, Int64, Matrix{Float64}}, RatingsDataset, RatingsDataset}, Float64}}(0.0016379763934834559,0.0,0.0,1.0)]\n",
      "\u001b[32mProgress: 100%|███████████████████████████| Time: 0:02:17 (34.57 ms/it)\u001b[39m\n",
      "\u001b[38;5;4m\u001b[1m[ \u001b[22m\u001b[39m\u001b[38;5;4m\u001b[1mDebug: \u001b[22m\u001b[39m20211231 02:44:55 loss: Dual{ForwardDiff.Tag{var\"#validation_mse#17\"{var\"#14#16\"{cf_params, Dict{String, typeof(get_abs_neighborhood)}, Int64, Matrix{Float64}}, RatingsDataset, RatingsDataset}, Float64}}(1.6981917701654832,-3.631071622884904,-1.5172679462771114e-7,966.9613705118297) β: Dual{ForwardDiff.Tag{var\"#validation_mse#17\"{var\"#14#16\"{cf_params, Dict{String, typeof(get_abs_neighborhood)}, Int64, Matrix{Float64}}, RatingsDataset, RatingsDataset}, Float64}}(5.51109613326275e-7,5.530914580041284,-1.4566138190761457e-7,-1467.9233440590642): λ ForwardDiff.Dual{ForwardDiff.Tag{var\"#validation_mse#17\"{var\"#14#16\"{cf_params, Dict{String, typeof(get_abs_neighborhood)}, Int64, Matrix{Float64}}, RatingsDataset, RatingsDataset}, Float64}, Float64, 3}[Dual{ForwardDiff.Tag{var\"#validation_mse#17\"{var\"#14#16\"{cf_params, Dict{String, typeof(get_abs_neighborhood)}, Int64, Matrix{Float64}}, RatingsDataset, RatingsDataset}, Float64}}(2.5839512028269747,1.0,0.0,0.0), Dual{ForwardDiff.Tag{var\"#validation_mse#17\"{var\"#14#16\"{cf_params, Dict{String, typeof(get_abs_neighborhood)}, Int64, Matrix{Float64}}, RatingsDataset, RatingsDataset}, Float64}}(1.0569572113859427,0.0,1.0,0.0), Dual{ForwardDiff.Tag{var\"#validation_mse#17\"{var\"#14#16\"{cf_params, Dict{String, typeof(get_abs_neighborhood)}, Int64, Matrix{Float64}}, RatingsDataset, RatingsDataset}, Float64}}(-0.001231814398512594,0.0,0.0,1.0)]\n",
      "\u001b[32mProgress: 100%|███████████████████████████| Time: 0:02:25 (36.71 ms/it)\u001b[39m\n",
      "\u001b[38;5;4m\u001b[1m[ \u001b[22m\u001b[39m\u001b[38;5;4m\u001b[1mDebug: \u001b[22m\u001b[39m20211231 02:47:25 loss: Dual{ForwardDiff.Tag{var\"#validation_mse#17\"{var\"#14#16\"{cf_params, Dict{String, typeof(get_abs_neighborhood)}, Int64, Matrix{Float64}}, RatingsDataset, RatingsDataset}, Float64}}(1.3700939830196948,-0.02394471832377144,0.0005201394434909631,-10.512855013877823) β: Dual{ForwardDiff.Tag{var\"#validation_mse#17\"{var\"#14#16\"{cf_params, Dict{String, typeof(get_abs_neighborhood)}, Int64, Matrix{Float64}}, RatingsDataset, RatingsDataset}, Float64}}(0.8277310187669388,0.25875129852847656,-0.5527739396021953,179.26818527320856): λ ForwardDiff.Dual{ForwardDiff.Tag{var\"#validation_mse#17\"{var\"#14#16\"{cf_params, Dict{String, typeof(get_abs_neighborhood)}, Int64, Matrix{Float64}}, RatingsDataset, RatingsDataset}, Float64}, Float64, 3}[Dual{ForwardDiff.Tag{var\"#validation_mse#17\"{var\"#14#16\"{cf_params, Dict{String, typeof(get_abs_neighborhood)}, Int64, Matrix{Float64}}, RatingsDataset, RatingsDataset}, Float64}}(2.3527921268846104,1.0,0.0,0.0), Dual{ForwardDiff.Tag{var\"#validation_mse#17\"{var\"#14#16\"{cf_params, Dict{String, typeof(get_abs_neighborhood)}, Int64, Matrix{Float64}}, RatingsDataset, RatingsDataset}, Float64}}(1.0235725152986053,0.0,1.0,0.0), Dual{ForwardDiff.Tag{var\"#validation_mse#17\"{var\"#14#16\"{cf_params, Dict{String, typeof(get_abs_neighborhood)}, Int64, Matrix{Float64}}, RatingsDataset, RatingsDataset}, Float64}}(0.0005618048464849372,0.0,0.0,1.0)]\n",
      "\u001b[32mProgress: 100%|███████████████████████████| Time: 0:02:16 (34.46 ms/it)\u001b[39m\n",
      "\u001b[38;5;4m\u001b[1m[ \u001b[22m\u001b[39m\u001b[38;5;4m\u001b[1mDebug: \u001b[22m\u001b[39m20211231 02:49:47 loss: Dual{ForwardDiff.Tag{var\"#validation_mse#17\"{var\"#14#16\"{cf_params, Dict{String, typeof(get_abs_neighborhood)}, Int64, Matrix{Float64}}, RatingsDataset, RatingsDataset}, Float64}}(1.3683737484828673,-0.007743286155087225,-0.008004020922134428,-0.5997795489919081) β: Dual{ForwardDiff.Tag{var\"#validation_mse#17\"{var\"#14#16\"{cf_params, Dict{String, typeof(get_abs_neighborhood)}, Int64, Matrix{Float64}}, RatingsDataset, RatingsDataset}, Float64}}(0.9512944759655566,0.39613061047807,-0.594184998460537,71.53501743869036): λ ForwardDiff.Dual{ForwardDiff.Tag{var\"#validation_mse#17\"{var\"#14#16\"{cf_params, Dict{String, typeof(get_abs_neighborhood)}, Int64, Matrix{Float64}}, RatingsDataset, RatingsDataset}, Float64}, Float64, 3}[Dual{ForwardDiff.Tag{var\"#validation_mse#17\"{var\"#14#16\"{cf_params, Dict{String, typeof(get_abs_neighborhood)}, Int64, Matrix{Float64}}, RatingsDataset, RatingsDataset}, Float64}}(2.1395364155528585,1.0,0.0,0.0), Dual{ForwardDiff.Tag{var\"#validation_mse#17\"{var\"#14#16\"{cf_params, Dict{String, typeof(get_abs_neighborhood)}, Int64, Matrix{Float64}}, RatingsDataset, RatingsDataset}, Float64}}(0.9927734775248316,0.0,1.0,0.0), Dual{ForwardDiff.Tag{var\"#validation_mse#17\"{var\"#14#16\"{cf_params, Dict{String, typeof(get_abs_neighborhood)}, Int64, Matrix{Float64}}, RatingsDataset, RatingsDataset}, Float64}}(0.002216507550200703,0.0,0.0,1.0)]\n"
     ]
    },
    {
     "name": "stdout",
     "output_type": "stream",
     "text": [
      "    21     1.368374e+00     5.997795e-01\n",
      " * Current step size: 0.19362601855049272\n",
      " * time: 13732.159540891647\n",
      " * g(x): [-0.007743286155087225, -0.008004020922134428, -0.5997795489919081]\n",
      " * x: [2.1395364155528585, 0.9927734775248316, 0.002216507550200703]\n"
     ]
    },
    {
     "name": "stderr",
     "output_type": "stream",
     "text": [
      "\u001b[32mProgress: 100%|███████████████████████████| Time: 0:02:13 (33.62 ms/it)\u001b[39m\n",
      "\u001b[38;5;4m\u001b[1m[ \u001b[22m\u001b[39m\u001b[38;5;4m\u001b[1mDebug: \u001b[22m\u001b[39m20211231 02:52:05 loss: Dual{ForwardDiff.Tag{var\"#validation_mse#17\"{var\"#14#16\"{cf_params, Dict{String, typeof(get_abs_neighborhood)}, Int64, Matrix{Float64}}, RatingsDataset, RatingsDataset}, Float64}}(1.3680092115394327,-0.0032051743411754415,0.004824513526422681,-0.2165258155413827) β: Dual{ForwardDiff.Tag{var\"#validation_mse#17\"{var\"#14#16\"{cf_params, Dict{String, typeof(get_abs_neighborhood)}, Int64, Matrix{Float64}}, RatingsDataset, RatingsDataset}, Float64}}(0.9116145875104404,0.37193376426867786,-0.6245187709785807,84.12342272559678): λ ForwardDiff.Dual{ForwardDiff.Tag{var\"#validation_mse#17\"{var\"#14#16\"{cf_params, Dict{String, typeof(get_abs_neighborhood)}, Int64, Matrix{Float64}}, RatingsDataset, RatingsDataset}, Float64}, Float64, 3}[Dual{ForwardDiff.Tag{var\"#validation_mse#17\"{var\"#14#16\"{cf_params, Dict{String, typeof(get_abs_neighborhood)}, Int64, Matrix{Float64}}, RatingsDataset, RatingsDataset}, Float64}}(2.2222506797562347,1.0,0.0,0.0), Dual{ForwardDiff.Tag{var\"#validation_mse#17\"{var\"#14#16\"{cf_params, Dict{String, typeof(get_abs_neighborhood)}, Int64, Matrix{Float64}}, RatingsDataset, RatingsDataset}, Float64}}(1.055121884851797,0.0,1.0,0.0), Dual{ForwardDiff.Tag{var\"#validation_mse#17\"{var\"#14#16\"{cf_params, Dict{String, typeof(get_abs_neighborhood)}, Int64, Matrix{Float64}}, RatingsDataset, RatingsDataset}, Float64}}(0.0017851177608351689,0.0,0.0,1.0)]\n",
      "\u001b[32mProgress: 100%|███████████████████████████| Time: 0:02:20 (35.47 ms/it)\u001b[39m\n",
      "\u001b[38;5;4m\u001b[1m[ \u001b[22m\u001b[39m\u001b[38;5;4m\u001b[1mDebug: \u001b[22m\u001b[39m20211231 02:54:32 loss: Dual{ForwardDiff.Tag{var\"#validation_mse#17\"{var\"#14#16\"{cf_params, Dict{String, typeof(get_abs_neighborhood)}, Int64, Matrix{Float64}}, RatingsDataset, RatingsDataset}, Float64}}(1.368000461500997,-0.0036530661326615076,0.0031874007399208043,-0.25706551884890866) β: Dual{ForwardDiff.Tag{var\"#validation_mse#17\"{var\"#14#16\"{cf_params, Dict{String, typeof(get_abs_neighborhood)}, Int64, Matrix{Float64}}, RatingsDataset, RatingsDataset}, Float64}}(0.9172163461234879,0.37543581160278294,-0.6212671903397349,82.2991322513195): λ ForwardDiff.Dual{ForwardDiff.Tag{var\"#validation_mse#17\"{var\"#14#16\"{cf_params, Dict{String, typeof(get_abs_neighborhood)}, Int64, Matrix{Float64}}, RatingsDataset, RatingsDataset}, Float64}, Float64, 3}[Dual{ForwardDiff.Tag{var\"#validation_mse#17\"{var\"#14#16\"{cf_params, Dict{String, typeof(get_abs_neighborhood)}, Int64, Matrix{Float64}}, RatingsDataset, RatingsDataset}, Float64}}(2.2116771523148686,1.0,0.0,0.0), Dual{ForwardDiff.Tag{var\"#validation_mse#17\"{var\"#14#16\"{cf_params, Dict{String, typeof(get_abs_neighborhood)}, Int64, Matrix{Float64}}, RatingsDataset, RatingsDataset}, Float64}}(1.047151765040585,0.0,1.0,0.0), Dual{ForwardDiff.Tag{var\"#validation_mse#17\"{var\"#14#16\"{cf_params, Dict{String, typeof(get_abs_neighborhood)}, Int64, Matrix{Float64}}, RatingsDataset, RatingsDataset}, Float64}}(0.00184026316797518,0.0,0.0,1.0)]\n"
     ]
    },
    {
     "name": "stdout",
     "output_type": "stream",
     "text": [
      "    22     1.368000e+00     2.570655e-01\n",
      " * Current step size: 0.872168028777139\n",
      " * time: 14016.808917999268\n",
      " * g(x): [-0.0036530661326615076, 0.0031874007399208043, -0.25706551884890866]\n",
      " * x: [2.2116771523148686, 1.047151765040585, 0.00184026316797518]\n"
     ]
    },
    {
     "name": "stderr",
     "output_type": "stream",
     "text": [
      "\u001b[32mProgress: 100%|███████████████████████████| Time: 0:02:41 (40.60 ms/it)\u001b[39m\n",
      "\u001b[38;5;4m\u001b[1m[ \u001b[22m\u001b[39m\u001b[38;5;4m\u001b[1mDebug: \u001b[22m\u001b[39m20211231 02:57:18 loss: Dual{ForwardDiff.Tag{var\"#validation_mse#17\"{var\"#14#16\"{cf_params, Dict{String, typeof(get_abs_neighborhood)}, Int64, Matrix{Float64}}, RatingsDataset, RatingsDataset}, Float64}}(1.3679310995801963,-0.0020357108869404608,0.0018366249199087896,-0.0633127493320548) β: Dual{ForwardDiff.Tag{var\"#validation_mse#17\"{var\"#14#16\"{cf_params, Dict{String, typeof(get_abs_neighborhood)}, Int64, Matrix{Float64}}, RatingsDataset, RatingsDataset}, Float64}}(0.9203829075874203,0.3727340739876582,-0.6175052870813074,87.83326320018722): λ ForwardDiff.Dual{ForwardDiff.Tag{var\"#validation_mse#17\"{var\"#14#16\"{cf_params, Dict{String, typeof(get_abs_neighborhood)}, Int64, Matrix{Float64}}, RatingsDataset, RatingsDataset}, Float64}, Float64, 3}[Dual{ForwardDiff.Tag{var\"#validation_mse#17\"{var\"#14#16\"{cf_params, Dict{String, typeof(get_abs_neighborhood)}, Int64, Matrix{Float64}}, RatingsDataset, RatingsDataset}, Float64}}(2.2375621207555363,1.0,0.0,0.0), Dual{ForwardDiff.Tag{var\"#validation_mse#17\"{var\"#14#16\"{cf_params, Dict{String, typeof(get_abs_neighborhood)}, Int64, Matrix{Float64}}, RatingsDataset, RatingsDataset}, Float64}}(1.040860977014117,0.0,1.0,0.0), Dual{ForwardDiff.Tag{var\"#validation_mse#17\"{var\"#14#16\"{cf_params, Dict{String, typeof(get_abs_neighborhood)}, Int64, Matrix{Float64}}, RatingsDataset, RatingsDataset}, Float64}}(0.0017177635909046733,0.0,0.0,1.0)]\n",
      "\u001b[32mProgress: 100%|███████████████████████████| Time: 0:02:19 (35.06 ms/it)\u001b[39m\n",
      "\u001b[38;5;4m\u001b[1m[ \u001b[22m\u001b[39m\u001b[38;5;4m\u001b[1mDebug: \u001b[22m\u001b[39m20211231 02:59:42 loss: Dual{ForwardDiff.Tag{var\"#validation_mse#17\"{var\"#14#16\"{cf_params, Dict{String, typeof(get_abs_neighborhood)}, Int64, Matrix{Float64}}, RatingsDataset, RatingsDataset}, Float64}}(1.3678435418227985,0.0014780158446503257,-0.0034308474110342295,0.47659332091886786) β: Dual{ForwardDiff.Tag{var\"#validation_mse#17\"{var\"#14#16\"{cf_params, Dict{String, typeof(get_abs_neighborhood)}, Int64, Matrix{Float64}}, RatingsDataset, RatingsDataset}, Float64}}(0.923689065305934,0.35369938880222346,-0.5969279109948499,117.60062882419099): λ ForwardDiff.Dual{ForwardDiff.Tag{var\"#validation_mse#17\"{var\"#14#16\"{cf_params, Dict{String, typeof(get_abs_neighborhood)}, Int64, Matrix{Float64}}, RatingsDataset, RatingsDataset}, Float64}, Float64, 3}[Dual{ForwardDiff.Tag{var\"#validation_mse#17\"{var\"#14#16\"{cf_params, Dict{String, typeof(get_abs_neighborhood)}, Int64, Matrix{Float64}}, RatingsDataset, RatingsDataset}, Float64}}(2.3411019945182066,1.0,0.0,0.0), Dual{ForwardDiff.Tag{var\"#validation_mse#17\"{var\"#14#16\"{cf_params, Dict{String, typeof(get_abs_neighborhood)}, Int64, Matrix{Float64}}, RatingsDataset, RatingsDataset}, Float64}}(1.0156978249082451,0.0,1.0,0.0), Dual{ForwardDiff.Tag{var\"#validation_mse#17\"{var\"#14#16\"{cf_params, Dict{String, typeof(get_abs_neighborhood)}, Int64, Matrix{Float64}}, RatingsDataset, RatingsDataset}, Float64}}(0.0012277652826226462,0.0,0.0,1.0)]\n",
      "\u001b[32mProgress: 100%|███████████████████████████| Time: 0:02:22 (35.73 ms/it)\u001b[39m\n",
      "\u001b[38;5;4m\u001b[1m[ \u001b[22m\u001b[39m\u001b[38;5;4m\u001b[1mDebug: \u001b[22m\u001b[39m20211231 03:02:09 loss: Dual{ForwardDiff.Tag{var\"#validation_mse#17\"{var\"#14#16\"{cf_params, Dict{String, typeof(get_abs_neighborhood)}, Int64, Matrix{Float64}}, RatingsDataset, RatingsDataset}, Float64}}(1.3678434350208546,0.001462996197648687,-0.003301696832489724,0.47329378180032877) β: Dual{ForwardDiff.Tag{var\"#validation_mse#17\"{var\"#14#16\"{cf_params, Dict{String, typeof(get_abs_neighborhood)}, Int64, Matrix{Float64}}, RatingsDataset, RatingsDataset}, Float64}}(0.92383261754124,0.354370007649827,-0.5975714849747527,116.64230047104326): λ ForwardDiff.Dual{ForwardDiff.Tag{var\"#validation_mse#17\"{var\"#14#16\"{cf_params, Dict{String, typeof(get_abs_neighborhood)}, Int64, Matrix{Float64}}, RatingsDataset, RatingsDataset}, Float64}, Float64, 3}[Dual{ForwardDiff.Tag{var\"#validation_mse#17\"{var\"#14#16\"{cf_params, Dict{String, typeof(get_abs_neighborhood)}, Int64, Matrix{Float64}}, RatingsDataset, RatingsDataset}, Float64}}(2.33849585911207,1.0,0.0,0.0), Dual{ForwardDiff.Tag{var\"#validation_mse#17\"{var\"#14#16\"{cf_params, Dict{String, typeof(get_abs_neighborhood)}, Int64, Matrix{Float64}}, RatingsDataset, RatingsDataset}, Float64}}(1.0163311903862005,0.0,1.0,0.0), Dual{ForwardDiff.Tag{var\"#validation_mse#17\"{var\"#14#16\"{cf_params, Dict{String, typeof(get_abs_neighborhood)}, Int64, Matrix{Float64}}, RatingsDataset, RatingsDataset}, Float64}}(0.0012400987141186902,0.0,0.0,1.0)]\n"
     ]
    },
    {
     "name": "stdout",
     "output_type": "stream",
     "text": [
      "    23     1.367843e+00     4.732938e-01\n",
      " * Current step size: 4.8993185789617435\n",
      " * time: 14473.480512857437\n",
      " * g(x): [0.001462996197648687, -0.003301696832489724, 0.47329378180032877]\n",
      " * x: [2.33849585911207, 1.0163311903862005, 0.0012400987141186902]\n"
     ]
    },
    {
     "name": "stderr",
     "output_type": "stream",
     "text": [
      "\u001b[32mProgress: 100%|███████████████████████████| Time: 0:02:24 (36.44 ms/it)\u001b[39m\n",
      "\u001b[38;5;4m\u001b[1m[ \u001b[22m\u001b[39m\u001b[38;5;4m\u001b[1mDebug: \u001b[22m\u001b[39m20211231 03:04:39 loss: Dual{ForwardDiff.Tag{var\"#validation_mse#17\"{var\"#14#16\"{cf_params, Dict{String, typeof(get_abs_neighborhood)}, Int64, Matrix{Float64}}, RatingsDataset, RatingsDataset}, Float64}}(1.3835285820760095,-0.026547786727879455,0.0034225922751000906,-127.06560204012553) β: Dual{ForwardDiff.Tag{var\"#validation_mse#17\"{var\"#14#16\"{cf_params, Dict{String, typeof(get_abs_neighborhood)}, Int64, Matrix{Float64}}, RatingsDataset, RatingsDataset}, Float64}}(0.7014425754355093,0.058271253059923124,-0.4804350915634735,677.3843610496135): λ ForwardDiff.Dual{ForwardDiff.Tag{var\"#validation_mse#17\"{var\"#14#16\"{cf_params, Dict{String, typeof(get_abs_neighborhood)}, Int64, Matrix{Float64}}, RatingsDataset, RatingsDataset}, Float64}, Float64, 3}[Dual{ForwardDiff.Tag{var\"#validation_mse#17\"{var\"#14#16\"{cf_params, Dict{String, typeof(get_abs_neighborhood)}, Int64, Matrix{Float64}}, RatingsDataset, RatingsDataset}, Float64}}(2.504917176927845,1.0,0.0,0.0), Dual{ForwardDiff.Tag{var\"#validation_mse#17\"{var\"#14#16\"{cf_params, Dict{String, typeof(get_abs_neighborhood)}, Int64, Matrix{Float64}}, RatingsDataset, RatingsDataset}, Float64}}(1.0125578190441347,0.0,1.0,0.0), Dual{ForwardDiff.Tag{var\"#validation_mse#17\"{var\"#14#16\"{cf_params, Dict{String, typeof(get_abs_neighborhood)}, Int64, Matrix{Float64}}, RatingsDataset, RatingsDataset}, Float64}}(3.6377498340336425e-5,0.0,0.0,1.0)]\n",
      "\u001b[32mProgress: 100%|███████████████████████████| Time: 0:02:18 (34.82 ms/it)\u001b[39m\n",
      "\u001b[38;5;4m\u001b[1m[ \u001b[22m\u001b[39m\u001b[38;5;4m\u001b[1mDebug: \u001b[22m\u001b[39m20211231 03:07:02 loss: Dual{ForwardDiff.Tag{var\"#validation_mse#17\"{var\"#14#16\"{cf_params, Dict{String, typeof(get_abs_neighborhood)}, Int64, Matrix{Float64}}, RatingsDataset, RatingsDataset}, Float64}}(1.3678427761399736,0.0014324336397016902,-0.0033007041698564638,0.4669687201776683) β: Dual{ForwardDiff.Tag{var\"#validation_mse#17\"{var\"#14#16\"{cf_params, Dict{String, typeof(get_abs_neighborhood)}, Int64, Matrix{Float64}}, RatingsDataset, RatingsDataset}, Float64}}(0.9236654467761707,0.35417248186620887,-0.5974723263787414,116.81082789055868): λ ForwardDiff.Dual{ForwardDiff.Tag{var\"#validation_mse#17\"{var\"#14#16\"{cf_params, Dict{String, typeof(get_abs_neighborhood)}, Int64, Matrix{Float64}}, RatingsDataset, RatingsDataset}, Float64}, Float64, 3}[Dual{ForwardDiff.Tag{var\"#validation_mse#17\"{var\"#14#16\"{cf_params, Dict{String, typeof(get_abs_neighborhood)}, Int64, Matrix{Float64}}, RatingsDataset, RatingsDataset}, Float64}}(2.338846718587192,1.0,0.0,0.0), Dual{ForwardDiff.Tag{var\"#validation_mse#17\"{var\"#14#16\"{cf_params, Dict{String, typeof(get_abs_neighborhood)}, Int64, Matrix{Float64}}, RatingsDataset, RatingsDataset}, Float64}}(1.0163232351368015,0.0,1.0,0.0), Dual{ForwardDiff.Tag{var\"#validation_mse#17\"{var\"#14#16\"{cf_params, Dict{String, typeof(get_abs_neighborhood)}, Int64, Matrix{Float64}}, RatingsDataset, RatingsDataset}, Float64}}(0.0012375609563391907,0.0,0.0,1.0)]\n",
      "\u001b[32mProgress: 100%|███████████████████████████| Time: 0:02:26 (36.78 ms/it)\u001b[39m\n",
      "\u001b[38;5;4m\u001b[1m[ \u001b[22m\u001b[39m\u001b[38;5;4m\u001b[1mDebug: \u001b[22m\u001b[39m20211231 03:09:33 loss: Dual{ForwardDiff.Tag{var\"#validation_mse#17\"{var\"#14#16\"{cf_params, Dict{String, typeof(get_abs_neighborhood)}, Int64, Matrix{Float64}}, RatingsDataset, RatingsDataset}, Float64}}(1.3678455341353322,-0.0037615509871253743,-0.0030642185588686337,-0.9757141435825085) β: Dual{ForwardDiff.Tag{var\"#validation_mse#17\"{var\"#14#16\"{cf_params, Dict{String, typeof(get_abs_neighborhood)}, Int64, Matrix{Float64}}, RatingsDataset, RatingsDataset}, Float64}}(0.8986778902880768,0.325921017299398,-0.5830143393674869,142.6587026537267): λ ForwardDiff.Dual{ForwardDiff.Tag{var\"#validation_mse#17\"{var\"#14#16\"{cf_params, Dict{String, typeof(get_abs_neighborhood)}, Int64, Matrix{Float64}}, RatingsDataset, RatingsDataset}, Float64}, Float64, 3}[Dual{ForwardDiff.Tag{var\"#validation_mse#17\"{var\"#14#16\"{cf_params, Dict{String, typeof(get_abs_neighborhood)}, Int64, Matrix{Float64}}, RatingsDataset, RatingsDataset}, Float64}}(2.382121248008281,1.0,0.0,0.0), Dual{ForwardDiff.Tag{var\"#validation_mse#17\"{var\"#14#16\"{cf_params, Dict{String, typeof(get_abs_neighborhood)}, Int64, Matrix{Float64}}, RatingsDataset, RatingsDataset}, Float64}}(1.0153420455193771,0.0,1.0,0.0), Dual{ForwardDiff.Tag{var\"#validation_mse#17\"{var\"#14#16\"{cf_params, Dict{String, typeof(get_abs_neighborhood)}, Int64, Matrix{Float64}}, RatingsDataset, RatingsDataset}, Float64}}(0.0009245573709172064,0.0,0.0,1.0)]\n",
      "\u001b[32mProgress: 100%|███████████████████████████| Time: 0:02:36 (39.27 ms/it)\u001b[39m\n",
      "\u001b[38;5;4m\u001b[1m[ \u001b[22m\u001b[39m\u001b[38;5;4m\u001b[1mDebug: \u001b[22m\u001b[39m20211231 03:12:14 loss: Dual{ForwardDiff.Tag{var\"#validation_mse#17\"{var\"#14#16\"{cf_params, Dict{String, typeof(get_abs_neighborhood)}, Int64, Matrix{Float64}}, RatingsDataset, RatingsDataset}, Float64}}(1.3678206249416487,-8.556662022523911e-5,-0.0032440217606806193,0.12041626482189871) β: Dual{ForwardDiff.Tag{var\"#validation_mse#17\"{var\"#14#16\"{cf_params, Dict{String, typeof(get_abs_neighborhood)}, Int64, Matrix{Float64}}, RatingsDataset, RatingsDataset}, Float64}}(0.915782743611075,0.3450195198549181,-0.5928389127102635,124.79409276396667): λ ForwardDiff.Dual{ForwardDiff.Tag{var\"#validation_mse#17\"{var\"#14#16\"{cf_params, Dict{String, typeof(get_abs_neighborhood)}, Int64, Matrix{Float64}}, RatingsDataset, RatingsDataset}, Float64}, Float64, 3}[Dual{ForwardDiff.Tag{var\"#validation_mse#17\"{var\"#14#16\"{cf_params, Dict{String, typeof(get_abs_neighborhood)}, Int64, Matrix{Float64}}, RatingsDataset, RatingsDataset}, Float64}}(2.3543057427010625,1.0,0.0,0.0), Dual{ForwardDiff.Tag{var\"#validation_mse#17\"{var\"#14#16\"{cf_params, Dict{String, typeof(get_abs_neighborhood)}, Int64, Matrix{Float64}}, RatingsDataset, RatingsDataset}, Float64}}(1.0159727233193663,0.0,1.0,0.0), Dual{ForwardDiff.Tag{var\"#validation_mse#17\"{var\"#14#16\"{cf_params, Dict{String, typeof(get_abs_neighborhood)}, Int64, Matrix{Float64}}, RatingsDataset, RatingsDataset}, Float64}}(0.0011257462228343527,0.0,0.0,1.0)]\n"
     ]
    },
    {
     "name": "stdout",
     "output_type": "stream",
     "text": [
      "    24     1.367821e+00     1.204163e-01\n",
      " * Current step size: 0.0949991491263984\n",
      " * time: 15078.48689699173\n",
      " * g(x): [-8.556662022523911e-5, -0.0032440217606806193, 0.12041626482189871]\n",
      " * x: [2.3543057427010625, 1.0159727233193663, 0.0011257462228343527]\n"
     ]
    },
    {
     "name": "stderr",
     "output_type": "stream",
     "text": [
      "\u001b[32mProgress: 100%|███████████████████████████| Time: 0:03:06 (46.85 ms/it)\u001b[39m\n",
      "\u001b[38;5;4m\u001b[1m[ \u001b[22m\u001b[39m\u001b[38;5;4m\u001b[1mDebug: \u001b[22m\u001b[39m20211231 03:15:27 loss: Dual{ForwardDiff.Tag{var\"#validation_mse#17\"{var\"#14#16\"{cf_params, Dict{String, typeof(get_abs_neighborhood)}, Int64, Matrix{Float64}}, RatingsDataset, RatingsDataset}, Float64}}(1.367796543162061,-0.0026094507299708352,-0.00012739848350222388,-0.7153849216687759) β: Dual{ForwardDiff.Tag{var\"#validation_mse#17\"{var\"#14#16\"{cf_params, Dict{String, typeof(get_abs_neighborhood)}, Int64, Matrix{Float64}}, RatingsDataset, RatingsDataset}, Float64}}(0.8911500682010319,0.32274898463115015,-0.5903730334936106,146.6879277729391): λ ForwardDiff.Dual{ForwardDiff.Tag{var\"#validation_mse#17\"{var\"#14#16\"{cf_params, Dict{String, typeof(get_abs_neighborhood)}, Int64, Matrix{Float64}}, RatingsDataset, RatingsDataset}, Float64}, Float64, 3}[Dual{ForwardDiff.Tag{var\"#validation_mse#17\"{var\"#14#16\"{cf_params, Dict{String, typeof(get_abs_neighborhood)}, Int64, Matrix{Float64}}, RatingsDataset, RatingsDataset}, Float64}}(2.399025679311651,1.0,0.0,0.0), Dual{ForwardDiff.Tag{var\"#validation_mse#17\"{var\"#14#16\"{cf_params, Dict{String, typeof(get_abs_neighborhood)}, Int64, Matrix{Float64}}, RatingsDataset, RatingsDataset}, Float64}}(1.0295279712308105,0.0,1.0,0.0), Dual{ForwardDiff.Tag{var\"#validation_mse#17\"{var\"#14#16\"{cf_params, Dict{String, typeof(get_abs_neighborhood)}, Int64, Matrix{Float64}}, RatingsDataset, RatingsDataset}, Float64}}(0.0008921534026539227,0.0,0.0,1.0)]\n",
      "\u001b[32mProgress: 100%|███████████████████████████| Time: 0:03:09 (47.66 ms/it)\u001b[39m\n",
      "\u001b[38;5;4m\u001b[1m[ \u001b[22m\u001b[39m\u001b[38;5;4m\u001b[1mDebug: \u001b[22m\u001b[39m20211231 03:18:44 loss: Dual{ForwardDiff.Tag{var\"#validation_mse#17\"{var\"#14#16\"{cf_params, Dict{String, typeof(get_abs_neighborhood)}, Int64, Matrix{Float64}}, RatingsDataset, RatingsDataset}, Float64}}(1.367790958798127,-0.0013718764642037728,-0.0013651282002478124,-0.27523350341719977) β: Dual{ForwardDiff.Tag{var\"#validation_mse#17\"{var\"#14#16\"{cf_params, Dict{String, typeof(get_abs_neighborhood)}, Int64, Matrix{Float64}}, RatingsDataset, RatingsDataset}, Float64}}(0.9015031693114036,0.3320618574525972,-0.5917959837337394,137.20526519153765): λ ForwardDiff.Dual{ForwardDiff.Tag{var\"#validation_mse#17\"{var\"#14#16\"{cf_params, Dict{String, typeof(get_abs_neighborhood)}, Int64, Matrix{Float64}}, RatingsDataset, RatingsDataset}, Float64}, Float64, 3}[Dual{ForwardDiff.Tag{var\"#validation_mse#17\"{var\"#14#16\"{cf_params, Dict{String, typeof(get_abs_neighborhood)}, Int64, Matrix{Float64}}, RatingsDataset, RatingsDataset}, Float64}}(2.381553603228379,1.0,0.0,0.0), Dual{ForwardDiff.Tag{var\"#validation_mse#17\"{var\"#14#16\"{cf_params, Dict{String, typeof(get_abs_neighborhood)}, Int64, Matrix{Float64}}, RatingsDataset, RatingsDataset}, Float64}}(1.024231936826766,0.0,1.0,0.0), Dual{ForwardDiff.Tag{var\"#validation_mse#17\"{var\"#14#16\"{cf_params, Dict{String, typeof(get_abs_neighborhood)}, Int64, Matrix{Float64}}, RatingsDataset, RatingsDataset}, Float64}}(0.0009834181010419836,0.0,0.0,1.0)]\n"
     ]
    },
    {
     "name": "stdout",
     "output_type": "stream",
     "text": [
      "    25     1.367791e+00     2.752335e-01\n",
      " * Current step size: 0.6093000704492253\n",
      " * time: 15468.517494916916\n",
      " * g(x): [-0.0013718764642037728, -0.0013651282002478124, -0.27523350341719977]\n",
      " * x: [2.381553603228379, 1.024231936826766, 0.0009834181010419836]\n"
     ]
    },
    {
     "name": "stderr",
     "output_type": "stream",
     "text": [
      "\u001b[32mProgress: 100%|███████████████████████████| Time: 0:03:11 (48.19 ms/it)\u001b[39m\n",
      "\u001b[38;5;4m\u001b[1m[ \u001b[22m\u001b[39m\u001b[38;5;4m\u001b[1mDebug: \u001b[22m\u001b[39m20211231 03:22:03 loss: Dual{ForwardDiff.Tag{var\"#validation_mse#17\"{var\"#14#16\"{cf_params, Dict{String, typeof(get_abs_neighborhood)}, Int64, Matrix{Float64}}, RatingsDataset, RatingsDataset}, Float64}}(1.3677826961960438,-0.00022345689026087391,0.0007625266147761406,0.02138943447388154) β: Dual{ForwardDiff.Tag{var\"#validation_mse#17\"{var\"#14#16\"{cf_params, Dict{String, typeof(get_abs_neighborhood)}, Int64, Matrix{Float64}}, RatingsDataset, RatingsDataset}, Float64}}(0.8982609417660357,0.3325996231039751,-0.5985530002389631,136.24728689286255): λ ForwardDiff.Dual{ForwardDiff.Tag{var\"#validation_mse#17\"{var\"#14#16\"{cf_params, Dict{String, typeof(get_abs_neighborhood)}, Int64, Matrix{Float64}}, RatingsDataset, RatingsDataset}, Float64}, Float64, 3}[Dual{ForwardDiff.Tag{var\"#validation_mse#17\"{var\"#14#16\"{cf_params, Dict{String, typeof(get_abs_neighborhood)}, Int64, Matrix{Float64}}, RatingsDataset, RatingsDataset}, Float64}}(2.386304280381228,1.0,0.0,0.0), Dual{ForwardDiff.Tag{var\"#validation_mse#17\"{var\"#14#16\"{cf_params, Dict{String, typeof(get_abs_neighborhood)}, Int64, Matrix{Float64}}, RatingsDataset, RatingsDataset}, Float64}}(1.0347191869484593,0.0,1.0,0.0), Dual{ForwardDiff.Tag{var\"#validation_mse#17\"{var\"#14#16\"{cf_params, Dict{String, typeof(get_abs_neighborhood)}, Int64, Matrix{Float64}}, RatingsDataset, RatingsDataset}, Float64}}(0.0009938097858870807,0.0,0.0,1.0)]\n",
      "\u001b[32mProgress: 100%|███████████████████████████| Time: 0:03:06 (46.89 ms/it)\u001b[39m\n",
      "\u001b[38;5;4m\u001b[1m[ \u001b[22m\u001b[39m\u001b[38;5;4m\u001b[1mDebug: \u001b[22m\u001b[39m20211231 03:25:20 loss: Dual{ForwardDiff.Tag{var\"#validation_mse#17\"{var\"#14#16\"{cf_params, Dict{String, typeof(get_abs_neighborhood)}, Int64, Matrix{Float64}}, RatingsDataset, RatingsDataset}, Float64}}(1.3677818651538372,-0.0004909567775808249,0.0002697818188763587,-0.04723450635271863) β: Dual{ForwardDiff.Tag{var\"#validation_mse#17\"{var\"#14#16\"{cf_params, Dict{String, typeof(get_abs_neighborhood)}, Int64, Matrix{Float64}}, RatingsDataset, RatingsDataset}, Float64}}(0.8990200991240256,0.3324816013895395,-0.5969988203563208,136.47011822486172): λ ForwardDiff.Dual{ForwardDiff.Tag{var\"#validation_mse#17\"{var\"#14#16\"{cf_params, Dict{String, typeof(get_abs_neighborhood)}, Int64, Matrix{Float64}}, RatingsDataset, RatingsDataset}, Float64}, Float64, 3}[Dual{ForwardDiff.Tag{var\"#validation_mse#17\"{var\"#14#16\"{cf_params, Dict{String, typeof(get_abs_neighborhood)}, Int64, Matrix{Float64}}, RatingsDataset, RatingsDataset}, Float64}}(2.385202126965896,1.0,0.0,0.0), Dual{ForwardDiff.Tag{var\"#validation_mse#17\"{var\"#14#16\"{cf_params, Dict{String, typeof(get_abs_neighborhood)}, Int64, Matrix{Float64}}, RatingsDataset, RatingsDataset}, Float64}}(1.0322861530530427,0.0,1.0,0.0), Dual{ForwardDiff.Tag{var\"#validation_mse#17\"{var\"#14#16\"{cf_params, Dict{String, typeof(get_abs_neighborhood)}, Int64, Matrix{Float64}}, RatingsDataset, RatingsDataset}, Float64}}(0.0009913989230617242,0.0,0.0,1.0)]\n"
     ]
    },
    {
     "name": "stdout",
     "output_type": "stream",
     "text": [
      "    26     1.367782e+00     4.723451e-02\n",
      " * Current step size: 0.7680007754956071\n",
      " * time: 15864.494319915771\n",
      " * g(x): [-0.0004909567775808249, 0.0002697818188763587, -0.04723450635271863]\n",
      " * x: [2.385202126965896, 1.0322861530530427, 0.0009913989230617242]\n"
     ]
    },
    {
     "name": "stderr",
     "output_type": "stream",
     "text": [
      "\u001b[32mProgress: 100%|███████████████████████████| Time: 0:03:17 (49.75 ms/it)\u001b[39m\n",
      "\u001b[38;5;4m\u001b[1m[ \u001b[22m\u001b[39m\u001b[38;5;4m\u001b[1mDebug: \u001b[22m\u001b[39m20211231 03:28:43 loss: Dual{ForwardDiff.Tag{var\"#validation_mse#17\"{var\"#14#16\"{cf_params, Dict{String, typeof(get_abs_neighborhood)}, Int64, Matrix{Float64}}, RatingsDataset, RatingsDataset}, Float64}}(1.367778758100665,-0.0007265926490375173,0.00042484014442293255,-0.1562428047862704) β: Dual{ForwardDiff.Tag{var\"#validation_mse#17\"{var\"#14#16\"{cf_params, Dict{String, typeof(get_abs_neighborhood)}, Int64, Matrix{Float64}}, RatingsDataset, RatingsDataset}, Float64}}(0.8947578765470104,0.3270820076778947,-0.5949085957329512,143.91890597720683): λ ForwardDiff.Dual{ForwardDiff.Tag{var\"#validation_mse#17\"{var\"#14#16\"{cf_params, Dict{String, typeof(get_abs_neighborhood)}, Int64, Matrix{Float64}}, RatingsDataset, RatingsDataset}, Float64}, Float64, 3}[Dual{ForwardDiff.Tag{var\"#validation_mse#17\"{var\"#14#16\"{cf_params, Dict{String, typeof(get_abs_neighborhood)}, Int64, Matrix{Float64}}, RatingsDataset, RatingsDataset}, Float64}}(2.4015612605857375,1.0,0.0,0.0), Dual{ForwardDiff.Tag{var\"#validation_mse#17\"{var\"#14#16\"{cf_params, Dict{String, typeof(get_abs_neighborhood)}, Int64, Matrix{Float64}}, RatingsDataset, RatingsDataset}, Float64}}(1.0327845560129558,0.0,1.0,0.0), Dual{ForwardDiff.Tag{var\"#validation_mse#17\"{var\"#14#16\"{cf_params, Dict{String, typeof(get_abs_neighborhood)}, Int64, Matrix{Float64}}, RatingsDataset, RatingsDataset}, Float64}}(0.0009245978822313218,0.0,0.0,1.0)]\n",
      "\u001b[32mProgress: 100%|███████████████████████████| Time: 0:03:28 (52.47 ms/it)\u001b[39m\n",
      "\u001b[38;5;4m\u001b[1m[ \u001b[22m\u001b[39m\u001b[38;5;4m\u001b[1mDebug: \u001b[22m\u001b[39m20211231 03:32:21 loss: Dual{ForwardDiff.Tag{var\"#validation_mse#17\"{var\"#14#16\"{cf_params, Dict{String, typeof(get_abs_neighborhood)}, Int64, Matrix{Float64}}, RatingsDataset, RatingsDataset}, Float64}}(1.3678473316648037,-0.004058145342660818,0.0012297315708128542,-1.7574367846119072) β: Dual{ForwardDiff.Tag{var\"#validation_mse#17\"{var\"#14#16\"{cf_params, Dict{String, typeof(get_abs_neighborhood)}, Int64, Matrix{Float64}}, RatingsDataset, RatingsDataset}, Float64}}(0.8707449022468896,0.29961356644327597,-0.5828097286109998,184.3969084380507): λ ForwardDiff.Dual{ForwardDiff.Tag{var\"#validation_mse#17\"{var\"#14#16\"{cf_params, Dict{String, typeof(get_abs_neighborhood)}, Int64, Matrix{Float64}}, RatingsDataset, RatingsDataset}, Float64}, Float64, 3}[Dual{ForwardDiff.Tag{var\"#validation_mse#17\"{var\"#14#16\"{cf_params, Dict{String, typeof(get_abs_neighborhood)}, Int64, Matrix{Float64}}, RatingsDataset, RatingsDataset}, Float64}}(2.4669977950651027,1.0,0.0,0.0), Dual{ForwardDiff.Tag{var\"#validation_mse#17\"{var\"#14#16\"{cf_params, Dict{String, typeof(get_abs_neighborhood)}, Int64, Matrix{Float64}}, RatingsDataset, RatingsDataset}, Float64}}(1.0347781678526085,0.0,1.0,0.0), Dual{ForwardDiff.Tag{var\"#validation_mse#17\"{var\"#14#16\"{cf_params, Dict{String, typeof(get_abs_neighborhood)}, Int64, Matrix{Float64}}, RatingsDataset, RatingsDataset}, Float64}}(0.0006573937189097125,0.0,0.0,1.0)]\n",
      "\u001b[32mProgress: 100%|███████████████████████████| Time: 0:03:38 (55.05 ms/it)\u001b[39m\n",
      "\u001b[38;5;4m\u001b[1m[ \u001b[22m\u001b[39m\u001b[38;5;4m\u001b[1mDebug: \u001b[22m\u001b[39m20211231 03:36:10 loss: Dual{ForwardDiff.Tag{var\"#validation_mse#17\"{var\"#14#16\"{cf_params, Dict{String, typeof(get_abs_neighborhood)}, Int64, Matrix{Float64}}, RatingsDataset, RatingsDataset}, Float64}}(1.3677786613300171,-0.0007592595232441303,0.00044012886610044524,-0.17028303317038557) β: Dual{ForwardDiff.Tag{var\"#validation_mse#17\"{var\"#14#16\"{cf_params, Dict{String, typeof(get_abs_neighborhood)}, Int64, Matrix{Float64}}, RatingsDataset, RatingsDataset}, Float64}}(0.8943281945661868,0.3265511747528074,-0.5946964252417397,144.65791605562325): λ ForwardDiff.Dual{ForwardDiff.Tag{var\"#validation_mse#17\"{var\"#14#16\"{cf_params, Dict{String, typeof(get_abs_neighborhood)}, Int64, Matrix{Float64}}, RatingsDataset, RatingsDataset}, Float64}, Float64, 3}[Dual{ForwardDiff.Tag{var\"#validation_mse#17\"{var\"#14#16\"{cf_params, Dict{String, typeof(get_abs_neighborhood)}, Int64, Matrix{Float64}}, RatingsDataset, RatingsDataset}, Float64}}(2.4030931550584906,1.0,0.0,0.0), Dual{ForwardDiff.Tag{var\"#validation_mse#17\"{var\"#14#16\"{cf_params, Dict{String, typeof(get_abs_neighborhood)}, Int64, Matrix{Float64}}, RatingsDataset, RatingsDataset}, Float64}}(1.032831227233892,0.0,1.0,0.0), Dual{ForwardDiff.Tag{var\"#validation_mse#17\"{var\"#14#16\"{cf_params, Dict{String, typeof(get_abs_neighborhood)}, Int64, Matrix{Float64}}, RatingsDataset, RatingsDataset}, Float64}}(0.0009183425298636302,0.0,0.0,1.0)]\n"
     ]
    },
    {
     "name": "stdout",
     "output_type": "stream",
     "text": [
      "    27     1.367779e+00     1.702830e-01\n",
      " * Current step size: 1.0936415404600204\n",
      " * time: 16514.929201841354\n",
      " * g(x): [-0.0007592595232441303, 0.00044012886610044524, -0.17028303317038557]\n",
      " * x: [2.4030931550584906, 1.032831227233892, 0.0009183425298636302]\n"
     ]
    },
    {
     "name": "stderr",
     "output_type": "stream",
     "text": [
      "\u001b[32mProgress: 100%|███████████████████████████| Time: 0:03:29 (52.72 ms/it)\u001b[39m\n",
      "\u001b[38;5;4m\u001b[1m[ \u001b[22m\u001b[39m\u001b[38;5;4m\u001b[1mDebug: \u001b[22m\u001b[39m20211231 03:39:49 loss: Dual{ForwardDiff.Tag{var\"#validation_mse#17\"{var\"#14#16\"{cf_params, Dict{String, typeof(get_abs_neighborhood)}, Int64, Matrix{Float64}}, RatingsDataset, RatingsDataset}, Float64}}(1.3677760776038,-0.00040727010155559894,0.00020675809942329116,-0.09789703424325971) β: Dual{ForwardDiff.Tag{var\"#validation_mse#17\"{var\"#14#16\"{cf_params, Dict{String, typeof(get_abs_neighborhood)}, Int64, Matrix{Float64}}, RatingsDataset, RatingsDataset}, Float64}}(0.8937389802923379,0.32440339172121513,-0.5933374088187857,149.4629589567197): λ ForwardDiff.Dual{ForwardDiff.Tag{var\"#validation_mse#17\"{var\"#14#16\"{cf_params, Dict{String, typeof(get_abs_neighborhood)}, Int64, Matrix{Float64}}, RatingsDataset, RatingsDataset}, Float64}, Float64, 3}[Dual{ForwardDiff.Tag{var\"#validation_mse#17\"{var\"#14#16\"{cf_params, Dict{String, typeof(get_abs_neighborhood)}, Int64, Matrix{Float64}}, RatingsDataset, RatingsDataset}, Float64}}(2.4149273993896276,1.0,0.0,0.0), Dual{ForwardDiff.Tag{var\"#validation_mse#17\"{var\"#14#16\"{cf_params, Dict{String, typeof(get_abs_neighborhood)}, Int64, Matrix{Float64}}, RatingsDataset, RatingsDataset}, Float64}}(1.031722361442307,0.0,1.0,0.0), Dual{ForwardDiff.Tag{var\"#validation_mse#17\"{var\"#14#16\"{cf_params, Dict{String, typeof(get_abs_neighborhood)}, Int64, Matrix{Float64}}, RatingsDataset, RatingsDataset}, Float64}}(0.0008836585013494493,0.0,0.0,1.0)]\n",
      "\u001b[32mProgress: 100%|███████████████████████████| Time: 0:03:25 (51.75 ms/it)\u001b[39m\n",
      "\u001b[38;5;4m\u001b[1m[ \u001b[22m\u001b[39m\u001b[38;5;4m\u001b[1mDebug: \u001b[22m\u001b[39m20211231 03:43:24 loss: Dual{ForwardDiff.Tag{var\"#validation_mse#17\"{var\"#14#16\"{cf_params, Dict{String, typeof(get_abs_neighborhood)}, Int64, Matrix{Float64}}, RatingsDataset, RatingsDataset}, Float64}}(1.3677811566934353,0.0002662794301639171,-0.0006798320287894689,0.0018331494276505864) β: Dual{ForwardDiff.Tag{var\"#validation_mse#17\"{var\"#14#16\"{cf_params, Dict{String, typeof(get_abs_neighborhood)}, Int64, Matrix{Float64}}, RatingsDataset, RatingsDataset}, Float64}}(0.8892514831007696,0.31406955851843343,-0.5867766196534736,171.94941698356337): λ ForwardDiff.Dual{ForwardDiff.Tag{var\"#validation_mse#17\"{var\"#14#16\"{cf_params, Dict{String, typeof(get_abs_neighborhood)}, Int64, Matrix{Float64}}, RatingsDataset, RatingsDataset}, Float64}, Float64, 3}[Dual{ForwardDiff.Tag{var\"#validation_mse#17\"{var\"#14#16\"{cf_params, Dict{String, typeof(get_abs_neighborhood)}, Int64, Matrix{Float64}}, RatingsDataset, RatingsDataset}, Float64}}(2.4622643767141756,1.0,0.0,0.0), Dual{ForwardDiff.Tag{var\"#validation_mse#17\"{var\"#14#16\"{cf_params, Dict{String, typeof(get_abs_neighborhood)}, Int64, Matrix{Float64}}, RatingsDataset, RatingsDataset}, Float64}}(1.0272868982759666,0.0,1.0,0.0), Dual{ForwardDiff.Tag{var\"#validation_mse#17\"{var\"#14#16\"{cf_params, Dict{String, typeof(get_abs_neighborhood)}, Int64, Matrix{Float64}}, RatingsDataset, RatingsDataset}, Float64}}(0.0007449223872927255,0.0,0.0,1.0)]\n",
      "\u001b[32mProgress: 100%|███████████████████████████| Time: 0:03:36 (54.41 ms/it)\u001b[39m\n",
      "\u001b[38;5;4m\u001b[1m[ \u001b[22m\u001b[39m\u001b[38;5;4m\u001b[1mDebug: \u001b[22m\u001b[39m20211231 03:47:11 loss: Dual{ForwardDiff.Tag{var\"#validation_mse#17\"{var\"#14#16\"{cf_params, Dict{String, typeof(get_abs_neighborhood)}, Int64, Matrix{Float64}}, RatingsDataset, RatingsDataset}, Float64}}(1.367775280579846,-7.482483025885775e-5,-6.834386363090515e-5,-0.031051754968936193) β: Dual{ForwardDiff.Tag{var\"#validation_mse#17\"{var\"#14#16\"{cf_params, Dict{String, typeof(get_abs_neighborhood)}, Int64, Matrix{Float64}}, RatingsDataset, RatingsDataset}, Float64}}(0.8927639261205758,0.32159946514716087,-0.5915603377621701,155.63739100210879): λ ForwardDiff.Dual{ForwardDiff.Tag{var\"#validation_mse#17\"{var\"#14#16\"{cf_params, Dict{String, typeof(get_abs_neighborhood)}, Int64, Matrix{Float64}}, RatingsDataset, RatingsDataset}, Float64}, Float64, 3}[Dual{ForwardDiff.Tag{var\"#validation_mse#17\"{var\"#14#16\"{cf_params, Dict{String, typeof(get_abs_neighborhood)}, Int64, Matrix{Float64}}, RatingsDataset, RatingsDataset}, Float64}}(2.4291718490912775,1.0,0.0,0.0), Dual{ForwardDiff.Tag{var\"#validation_mse#17\"{var\"#14#16\"{cf_params, Dict{String, typeof(get_abs_neighborhood)}, Int64, Matrix{Float64}}, RatingsDataset, RatingsDataset}, Float64}}(1.0303876599985862,0.0,1.0,0.0), Dual{ForwardDiff.Tag{var\"#validation_mse#17\"{var\"#14#16\"{cf_params, Dict{String, typeof(get_abs_neighborhood)}, Int64, Matrix{Float64}}, RatingsDataset, RatingsDataset}, Float64}}(0.0008419105970645152,0.0,0.0,1.0)]\n"
     ]
    },
    {
     "name": "stdout",
     "output_type": "stream",
     "text": [
      "    28     1.367775e+00     3.105175e-02\n",
      " * Current step size: 2.2036636478909886\n",
      " * time: 17176.060540914536\n",
      " * g(x): [-7.482483025885775e-5, -6.834386363090515e-5, -0.031051754968936193]\n",
      " * x: [2.4291718490912775, 1.0303876599985862, 0.0008419105970645152]\n"
     ]
    },
    {
     "name": "stderr",
     "output_type": "stream",
     "text": [
      "\u001b[32mProgress: 100%|███████████████████████████| Time: 0:03:17 (49.60 ms/it)\u001b[39m\n",
      "\u001b[38;5;4m\u001b[1m[ \u001b[22m\u001b[39m\u001b[38;5;4m\u001b[1mDebug: \u001b[22m\u001b[39m20211231 03:50:37 loss: Dual{ForwardDiff.Tag{var\"#validation_mse#17\"{var\"#14#16\"{cf_params, Dict{String, typeof(get_abs_neighborhood)}, Int64, Matrix{Float64}}, RatingsDataset, RatingsDataset}, Float64}}(1.3677752218241785,7.639056815319373e-5,-8.542647998009173e-6,0.02528779576110349) β: Dual{ForwardDiff.Tag{var\"#validation_mse#17\"{var\"#14#16\"{cf_params, Dict{String, typeof(get_abs_neighborhood)}, Int64, Matrix{Float64}}, RatingsDataset, RatingsDataset}, Float64}}(0.8937567921200935,0.3230152106322312,-0.5924392923235993,153.48696905938425): λ ForwardDiff.Dual{ForwardDiff.Tag{var\"#validation_mse#17\"{var\"#14#16\"{cf_params, Dict{String, typeof(get_abs_neighborhood)}, Int64, Matrix{Float64}}, RatingsDataset, RatingsDataset}, Float64}, Float64, 3}[Dual{ForwardDiff.Tag{var\"#validation_mse#17\"{var\"#14#16\"{cf_params, Dict{String, typeof(get_abs_neighborhood)}, Int64, Matrix{Float64}}, RatingsDataset, RatingsDataset}, Float64}}(2.4253841824045588,1.0,0.0,0.0), Dual{ForwardDiff.Tag{var\"#validation_mse#17\"{var\"#14#16\"{cf_params, Dict{String, typeof(get_abs_neighborhood)}, Int64, Matrix{Float64}}, RatingsDataset, RatingsDataset}, Float64}}(1.0307596115837991,0.0,1.0,0.0), Dual{ForwardDiff.Tag{var\"#validation_mse#17\"{var\"#14#16\"{cf_params, Dict{String, typeof(get_abs_neighborhood)}, Int64, Matrix{Float64}}, RatingsDataset, RatingsDataset}, Float64}}(0.0008576579430016586,0.0,0.0,1.0)]\n",
      "\u001b[32mProgress: 100%|███████████████████████████| Time: 0:03:25 (51.79 ms/it)\u001b[39m\n",
      "\u001b[38;5;4m\u001b[1m[ \u001b[22m\u001b[39m\u001b[38;5;4m\u001b[1mDebug: \u001b[22m\u001b[39m20211231 03:54:13 loss: Dual{ForwardDiff.Tag{var\"#validation_mse#17\"{var\"#14#16\"{cf_params, Dict{String, typeof(get_abs_neighborhood)}, Int64, Matrix{Float64}}, RatingsDataset, RatingsDataset}, Float64}}(1.3677752043346867,3.036552879970101e-5,-2.7417659264714545e-5,0.008268321654458566) β: Dual{ForwardDiff.Tag{var\"#validation_mse#17\"{var\"#14#16\"{cf_params, Dict{String, typeof(get_abs_neighborhood)}, Int64, Matrix{Float64}}, RatingsDataset, RatingsDataset}, Float64}}(0.8934493545545843,0.32257432489232385,-0.5921655498065844,154.15558500560647): λ ForwardDiff.Dual{ForwardDiff.Tag{var\"#validation_mse#17\"{var\"#14#16\"{cf_params, Dict{String, typeof(get_abs_neighborhood)}, Int64, Matrix{Float64}}, RatingsDataset, RatingsDataset}, Float64}, Float64, 3}[Dual{ForwardDiff.Tag{var\"#validation_mse#17\"{var\"#14#16\"{cf_params, Dict{String, typeof(get_abs_neighborhood)}, Int64, Matrix{Float64}}, RatingsDataset, RatingsDataset}, Float64}}(2.426573241620278,1.0,0.0,0.0), Dual{ForwardDiff.Tag{var\"#validation_mse#17\"{var\"#14#16\"{cf_params, Dict{String, typeof(get_abs_neighborhood)}, Int64, Matrix{Float64}}, RatingsDataset, RatingsDataset}, Float64}}(1.0306428451160026,0.0,1.0,0.0), Dual{ForwardDiff.Tag{var\"#validation_mse#17\"{var\"#14#16\"{cf_params, Dict{String, typeof(get_abs_neighborhood)}, Int64, Matrix{Float64}}, RatingsDataset, RatingsDataset}, Float64}}(0.0008527143911111684,0.0,0.0,1.0)]\n"
     ]
    },
    {
     "name": "stdout",
     "output_type": "stream",
     "text": [
      "    29     1.367775e+00     8.268322e-03\n",
      " * Current step size: 0.686070788676213\n",
      " * time: 17597.678528785706\n",
      " * g(x): [3.036552879970101e-5, -2.7417659264714545e-5, 0.008268321654458566]\n",
      " * x: [2.426573241620278, 1.0306428451160026, 0.0008527143911111684]\n"
     ]
    },
    {
     "name": "stderr",
     "output_type": "stream",
     "text": [
      "\u001b[32mProgress: 100%|███████████████████████████| Time: 0:03:31 (53.22 ms/it)\u001b[39m\n",
      "\u001b[38;5;4m\u001b[1m[ \u001b[22m\u001b[39m\u001b[38;5;4m\u001b[1mDebug: \u001b[22m\u001b[39m20211231 03:57:52 loss: Dual{ForwardDiff.Tag{var\"#validation_mse#17\"{var\"#14#16\"{cf_params, Dict{String, typeof(get_abs_neighborhood)}, Int64, Matrix{Float64}}, RatingsDataset, RatingsDataset}, Float64}}(1.3677751994857446,1.7436888944569636e-6,2.517108216978491e-6,0.00036836680086619207) β: Dual{ForwardDiff.Tag{var\"#validation_mse#17\"{var\"#14#16\"{cf_params, Dict{String, typeof(get_abs_neighborhood)}, Int64, Matrix{Float64}}, RatingsDataset, RatingsDataset}, Float64}}(0.8933751241662726,0.3226058373403065,-0.5922428703369234,153.97335954657785): λ ForwardDiff.Dual{ForwardDiff.Tag{var\"#validation_mse#17\"{var\"#14#16\"{cf_params, Dict{String, typeof(get_abs_neighborhood)}, Int64, Matrix{Float64}}, RatingsDataset, RatingsDataset}, Float64}, Float64, 3}[Dual{ForwardDiff.Tag{var\"#validation_mse#17\"{var\"#14#16\"{cf_params, Dict{String, typeof(get_abs_neighborhood)}, Int64, Matrix{Float64}}, RatingsDataset, RatingsDataset}, Float64}}(2.426097556436243,1.0,0.0,0.0), Dual{ForwardDiff.Tag{var\"#validation_mse#17\"{var\"#14#16\"{cf_params, Dict{String, typeof(get_abs_neighborhood)}, Int64, Matrix{Float64}}, RatingsDataset, RatingsDataset}, Float64}}(1.0307802669391601,0.0,1.0,0.0), Dual{ForwardDiff.Tag{var\"#validation_mse#17\"{var\"#14#16\"{cf_params, Dict{String, typeof(get_abs_neighborhood)}, Int64, Matrix{Float64}}, RatingsDataset, RatingsDataset}, Float64}}(0.000853756829721179,0.0,0.0,1.0)]\n",
      "\u001b[32mProgress: 100%|███████████████████████████| Time: 0:03:26 (52.00 ms/it)\u001b[39m\n",
      "\u001b[38;5;4m\u001b[1m[ \u001b[22m\u001b[39m\u001b[38;5;4m\u001b[1mDebug: \u001b[22m\u001b[39m20211231 04:01:25 loss: Dual{ForwardDiff.Tag{var\"#validation_mse#17\"{var\"#14#16\"{cf_params, Dict{String, typeof(get_abs_neighborhood)}, Int64, Matrix{Float64}}, RatingsDataset, RatingsDataset}, Float64}}(1.3677752755050985,-0.0001134281748760437,0.0001222828098283595,-0.03124006838990759) β: Dual{ForwardDiff.Tag{var\"#validation_mse#17\"{var\"#14#16\"{cf_params, Dict{String, typeof(get_abs_neighborhood)}, Int64, Matrix{Float64}}, RatingsDataset, RatingsDataset}, Float64}}(0.8930760537267647,0.3227300153646789,-0.5925507038655072,153.24779332953062): λ ForwardDiff.Dual{ForwardDiff.Tag{var\"#validation_mse#17\"{var\"#14#16\"{cf_params, Dict{String, typeof(get_abs_neighborhood)}, Int64, Matrix{Float64}}, RatingsDataset, RatingsDataset}, Float64}, Float64, 3}[Dual{ForwardDiff.Tag{var\"#validation_mse#17\"{var\"#14#16\"{cf_params, Dict{String, typeof(get_abs_neighborhood)}, Int64, Matrix{Float64}}, RatingsDataset, RatingsDataset}, Float64}}(2.4241948157001034,1.0,0.0,0.0), Dual{ForwardDiff.Tag{var\"#validation_mse#17\"{var\"#14#16\"{cf_params, Dict{String, typeof(get_abs_neighborhood)}, Int64, Matrix{Float64}}, RatingsDataset, RatingsDataset}, Float64}}(1.0313299542317902,0.0,1.0,0.0), Dual{ForwardDiff.Tag{var\"#validation_mse#17\"{var\"#14#16\"{cf_params, Dict{String, typeof(get_abs_neighborhood)}, Int64, Matrix{Float64}}, RatingsDataset, RatingsDataset}, Float64}}(0.0008579265841612216,0.0,0.0,1.0)]\n",
      "\u001b[32mProgress: 100%|███████████████████████████| Time: 0:03:35 (54.20 ms/it)\u001b[39m\n",
      "\u001b[38;5;4m\u001b[1m[ \u001b[22m\u001b[39m\u001b[38;5;4m\u001b[1mDebug: \u001b[22m\u001b[39m20211231 04:05:11 loss: Dual{ForwardDiff.Tag{var\"#validation_mse#17\"{var\"#14#16\"{cf_params, Dict{String, typeof(get_abs_neighborhood)}, Int64, Matrix{Float64}}, RatingsDataset, RatingsDataset}, Float64}}(1.3677751994852236,1.4457300330639251e-6,2.8283715843047956e-6,0.0002862213671193499) β: Dual{ForwardDiff.Tag{var\"#validation_mse#17\"{var\"#14#16\"{cf_params, Dict{String, typeof(get_abs_neighborhood)}, Int64, Matrix{Float64}}, RatingsDataset, RatingsDataset}, Float64}}(0.8933743512176351,0.3226061640087029,-0.5922436735218517,153.97146660103658): λ ForwardDiff.Dual{ForwardDiff.Tag{var\"#validation_mse#17\"{var\"#14#16\"{cf_params, Dict{String, typeof(get_abs_neighborhood)}, Int64, Matrix{Float64}}, RatingsDataset, RatingsDataset}, Float64}, Float64, 3}[Dual{ForwardDiff.Tag{var\"#validation_mse#17\"{var\"#14#16\"{cf_params, Dict{String, typeof(get_abs_neighborhood)}, Int64, Matrix{Float64}}, RatingsDataset, RatingsDataset}, Float64}}(2.4260926104584972,1.0,0.0,0.0), Dual{ForwardDiff.Tag{var\"#validation_mse#17\"{var\"#14#16\"{cf_params, Dict{String, typeof(get_abs_neighborhood)}, Int64, Matrix{Float64}}, RatingsDataset, RatingsDataset}, Float64}}(1.030781695794424,0.0,1.0,0.0), Dual{ForwardDiff.Tag{var\"#validation_mse#17\"{var\"#14#16\"{cf_params, Dict{String, typeof(get_abs_neighborhood)}, Int64, Matrix{Float64}}, RatingsDataset, RatingsDataset}, Float64}}(0.0008537676685665742,0.0,0.0,1.0)]\n"
     ]
    },
    {
     "name": "stdout",
     "output_type": "stream",
     "text": [
      "    30     1.367775e+00     2.862214e-04\n",
      " * Current step size: 1.0103975862857262\n",
      " * time: 18255.56193780899\n",
      " * g(x): [1.4457300330639251e-6, 2.8283715843047956e-6, 0.0002862213671193499]\n",
      " * x: [2.4260926104584972, 1.030781695794424, 0.0008537676685665742]\n"
     ]
    },
    {
     "name": "stderr",
     "output_type": "stream",
     "text": [
      "\u001b[32mProgress: 100%|███████████████████████████| Time: 0:03:25 (51.66 ms/it)\u001b[39m\n",
      "\u001b[38;5;4m\u001b[1m[ \u001b[22m\u001b[39m\u001b[38;5;4m\u001b[1mDebug: \u001b[22m\u001b[39m20211231 04:08:46 loss: Dual{ForwardDiff.Tag{var\"#validation_mse#17\"{var\"#14#16\"{cf_params, Dict{String, typeof(get_abs_neighborhood)}, Int64, Matrix{Float64}}, RatingsDataset, RatingsDataset}, Float64}}(1.367775199445964,1.1715943668795502e-7,3.155998484637035e-7,1.3893775329996156e-5) β: Dual{ForwardDiff.Tag{var\"#validation_mse#17\"{var\"#14#16\"{cf_params, Dict{String, typeof(get_abs_neighborhood)}, Int64, Matrix{Float64}}, RatingsDataset, RatingsDataset}, Float64}}(0.8933881563156333,0.3226199949865535,-0.5922421858538662,153.94767690270209): λ ForwardDiff.Dual{ForwardDiff.Tag{var\"#validation_mse#17\"{var\"#14#16\"{cf_params, Dict{String, typeof(get_abs_neighborhood)}, Int64, Matrix{Float64}}, RatingsDataset, RatingsDataset}, Float64}, Float64, 3}[Dual{ForwardDiff.Tag{var\"#validation_mse#17\"{var\"#14#16\"{cf_params, Dict{String, typeof(get_abs_neighborhood)}, Int64, Matrix{Float64}}, RatingsDataset, RatingsDataset}, Float64}}(2.426034305412468,1.0,0.0,0.0), Dual{ForwardDiff.Tag{var\"#validation_mse#17\"{var\"#14#16\"{cf_params, Dict{String, typeof(get_abs_neighborhood)}, Int64, Matrix{Float64}}, RatingsDataset, RatingsDataset}, Float64}}(1.0307698385779374,0.0,1.0,0.0), Dual{ForwardDiff.Tag{var\"#validation_mse#17\"{var\"#14#16\"{cf_params, Dict{String, typeof(get_abs_neighborhood)}, Int64, Matrix{Float64}}, RatingsDataset, RatingsDataset}, Float64}}(0.0008539338986734369,0.0,0.0,1.0)]\n",
      "\u001b[32mProgress: 100%|███████████████████████████| Time: 0:03:14 (48.83 ms/it)\u001b[39m\n",
      "\u001b[38;5;4m\u001b[1m[ \u001b[22m\u001b[39m\u001b[38;5;4m\u001b[1mDebug: \u001b[22m\u001b[39m20211231 04:12:07 loss: Dual{ForwardDiff.Tag{var\"#validation_mse#17\"{var\"#14#16\"{cf_params, Dict{String, typeof(get_abs_neighborhood)}, Int64, Matrix{Float64}}, RatingsDataset, RatingsDataset}, Float64}}(1.367775199909237,-5.2138528361837864e-6,-9.734340171054613e-6,-0.0010794595481471037) β: Dual{ForwardDiff.Tag{var\"#validation_mse#17\"{var\"#14#16\"{cf_params, Dict{String, typeof(get_abs_neighborhood)}, Int64, Matrix{Float64}}, RatingsDataset, RatingsDataset}, Float64}}(0.8934433289421865,0.3226752810972459,-0.5922362065077257,153.85258743873194): λ ForwardDiff.Dual{ForwardDiff.Tag{var\"#validation_mse#17\"{var\"#14#16\"{cf_params, Dict{String, typeof(get_abs_neighborhood)}, Int64, Matrix{Float64}}, RatingsDataset, RatingsDataset}, Float64}, Float64, 3}[Dual{ForwardDiff.Tag{var\"#validation_mse#17\"{var\"#14#16\"{cf_params, Dict{String, typeof(get_abs_neighborhood)}, Int64, Matrix{Float64}}, RatingsDataset, RatingsDataset}, Float64}}(2.4258010852283496,1.0,0.0,0.0), Dual{ForwardDiff.Tag{var\"#validation_mse#17\"{var\"#14#16\"{cf_params, Dict{String, typeof(get_abs_neighborhood)}, Int64, Matrix{Float64}}, RatingsDataset, RatingsDataset}, Float64}}(1.0307224097119907,0.0,1.0,0.0), Dual{ForwardDiff.Tag{var\"#validation_mse#17\"{var\"#14#16\"{cf_params, Dict{String, typeof(get_abs_neighborhood)}, Int64, Matrix{Float64}}, RatingsDataset, RatingsDataset}, Float64}}(0.0008545988191008871,0.0,0.0,1.0)]\n",
      "\u001b[32mProgress: 100%|███████████████████████████| Time: 0:03:15 (49.08 ms/it)\u001b[39m\n",
      "\u001b[38;5;4m\u001b[1m[ \u001b[22m\u001b[39m\u001b[38;5;4m\u001b[1mDebug: \u001b[22m\u001b[39m20211231 04:15:32 loss: Dual{ForwardDiff.Tag{var\"#validation_mse#17\"{var\"#14#16\"{cf_params, Dict{String, typeof(get_abs_neighborhood)}, Int64, Matrix{Float64}}, RatingsDataset, RatingsDataset}, Float64}}(1.367775199445413,-5.987106553504892e-8,-1.8976620716899986e-8,-2.239822179849553e-5) β: Dual{ForwardDiff.Tag{var\"#validation_mse#17\"{var\"#14#16\"{cf_params, Dict{String, typeof(get_abs_neighborhood)}, Int64, Matrix{Float64}}, RatingsDataset, RatingsDataset}, Float64}}(0.8933899941566963,0.3226218363487118,-0.5922419875489697,153.9445097371517): λ ForwardDiff.Dual{ForwardDiff.Tag{var\"#validation_mse#17\"{var\"#14#16\"{cf_params, Dict{String, typeof(get_abs_neighborhood)}, Int64, Matrix{Float64}}, RatingsDataset, RatingsDataset}, Float64}, Float64, 3}[Dual{ForwardDiff.Tag{var\"#validation_mse#17\"{var\"#14#16\"{cf_params, Dict{String, typeof(get_abs_neighborhood)}, Int64, Matrix{Float64}}, RatingsDataset, RatingsDataset}, Float64}}(2.426026541873548,1.0,0.0,0.0), Dual{ForwardDiff.Tag{var\"#validation_mse#17\"{var\"#14#16\"{cf_params, Dict{String, typeof(get_abs_neighborhood)}, Int64, Matrix{Float64}}, RatingsDataset, RatingsDataset}, Float64}}(1.0307682597444068,0.0,1.0,0.0), Dual{ForwardDiff.Tag{var\"#validation_mse#17\"{var\"#14#16\"{cf_params, Dict{String, typeof(get_abs_neighborhood)}, Int64, Matrix{Float64}}, RatingsDataset, RatingsDataset}, Float64}}(0.0008539560328452127,0.0,0.0,1.0)]\n"
     ]
    },
    {
     "name": "stdout",
     "output_type": "stream",
     "text": [
      "    31     1.367775e+00     2.239822e-05\n",
      " * Current step size: 1.133153808257697\n",
      " * time: 18876.35694885254\n",
      " * g(x): [-5.987106553504892e-8, -1.8976620716899986e-8, -2.239822179849553e-5]\n",
      " * x: [2.426026541873548, 1.0307682597444068, 0.0008539560328452127]\n"
     ]
    },
    {
     "name": "stderr",
     "output_type": "stream",
     "text": [
      "\u001b[32mProgress: 100%|███████████████████████████| Time: 0:03:03 (46.29 ms/it)\u001b[39m\n",
      "\u001b[38;5;4m\u001b[1m[ \u001b[22m\u001b[39m\u001b[38;5;4m\u001b[1mDebug: \u001b[22m\u001b[39m20211231 04:18:47 loss: Dual{ForwardDiff.Tag{var\"#validation_mse#17\"{var\"#14#16\"{cf_params, Dict{String, typeof(get_abs_neighborhood)}, Int64, Matrix{Float64}}, RatingsDataset, RatingsDataset}, Float64}}(1.3677751994453862,-2.7286943065786044e-9,-1.1417755119882868e-9,-1.0385959247650462e-6) β: Dual{ForwardDiff.Tag{var\"#validation_mse#17\"{var\"#14#16\"{cf_params, Dict{String, typeof(get_abs_neighborhood)}, Int64, Matrix{Float64}}, RatingsDataset, RatingsDataset}, Float64}}(0.8933903963826209,0.3226223953638269,-0.5922423174270373,153.94366728520785): λ ForwardDiff.Dual{ForwardDiff.Tag{var\"#validation_mse#17\"{var\"#14#16\"{cf_params, Dict{String, typeof(get_abs_neighborhood)}, Int64, Matrix{Float64}}, RatingsDataset, RatingsDataset}, Float64}, Float64, 3}[Dual{ForwardDiff.Tag{var\"#validation_mse#17\"{var\"#14#16\"{cf_params, Dict{String, typeof(get_abs_neighborhood)}, Int64, Matrix{Float64}}, RatingsDataset, RatingsDataset}, Float64}}(2.4260250358177133,1.0,0.0,0.0), Dual{ForwardDiff.Tag{var\"#validation_mse#17\"{var\"#14#16\"{cf_params, Dict{String, typeof(get_abs_neighborhood)}, Int64, Matrix{Float64}}, RatingsDataset, RatingsDataset}, Float64}}(1.0307683783710597,0.0,1.0,0.0), Dual{ForwardDiff.Tag{var\"#validation_mse#17\"{var\"#14#16\"{cf_params, Dict{String, typeof(get_abs_neighborhood)}, Int64, Matrix{Float64}}, RatingsDataset, RatingsDataset}, Float64}}(0.0008539622582777955,0.0,0.0,1.0)]\n",
      "\u001b[32mProgress: 100%|███████████████████████████| Time: 0:02:54 (43.92 ms/it)\u001b[39m\n",
      "\u001b[38;5;4m\u001b[1m[ \u001b[22m\u001b[39m\u001b[38;5;4m\u001b[1mDebug: \u001b[22m\u001b[39m20211231 04:21:53 loss: Dual{ForwardDiff.Tag{var\"#validation_mse#17\"{var\"#14#16\"{cf_params, Dict{String, typeof(get_abs_neighborhood)}, Int64, Matrix{Float64}}, RatingsDataset, RatingsDataset}, Float64}}(1.3677751994457683,2.258198777608146e-7,7.0199089800045e-8,8.439039285095582e-5) β: Dual{ForwardDiff.Tag{var\"#validation_mse#17\"{var\"#14#16\"{cf_params, Dict{String, typeof(get_abs_neighborhood)}, Int64, Matrix{Float64}}, RatingsDataset, RatingsDataset}, Float64}}(0.8933920052249369,0.3226246313735397,-0.5922436369074078,153.94029757030563): λ ForwardDiff.Dual{ForwardDiff.Tag{var\"#validation_mse#17\"{var\"#14#16\"{cf_params, Dict{String, typeof(get_abs_neighborhood)}, Int64, Matrix{Float64}}, RatingsDataset, RatingsDataset}, Float64}, Float64, 3}[Dual{ForwardDiff.Tag{var\"#validation_mse#17\"{var\"#14#16\"{cf_params, Dict{String, typeof(get_abs_neighborhood)}, Int64, Matrix{Float64}}, RatingsDataset, RatingsDataset}, Float64}}(2.426019011594374,1.0,0.0,0.0), Dual{ForwardDiff.Tag{var\"#validation_mse#17\"{var\"#14#16\"{cf_params, Dict{String, typeof(get_abs_neighborhood)}, Int64, Matrix{Float64}}, RatingsDataset, RatingsDataset}, Float64}}(1.0307688528776717,0.0,1.0,0.0), Dual{ForwardDiff.Tag{var\"#validation_mse#17\"{var\"#14#16\"{cf_params, Dict{String, typeof(get_abs_neighborhood)}, Int64, Matrix{Float64}}, RatingsDataset, RatingsDataset}, Float64}}(0.0008539871600081271,0.0,0.0,1.0)]\n",
      "\u001b[32mProgress: 100%|███████████████████████████| Time: 0:03:00 (45.38 ms/it)\u001b[39m\n",
      "\u001b[38;5;4m\u001b[1m[ \u001b[22m\u001b[39m\u001b[38;5;4m\u001b[1mDebug: \u001b[22m\u001b[39m20211231 04:24:59 loss: Dual{ForwardDiff.Tag{var\"#validation_mse#17\"{var\"#14#16\"{cf_params, Dict{String, typeof(get_abs_neighborhood)}, Int64, Matrix{Float64}}, RatingsDataset, RatingsDataset}, Float64}}(1.3677751994453862,1.755567343275643e-10,-2.3530122812859196e-10,4.699879595953172e-8) β: Dual{ForwardDiff.Tag{var\"#validation_mse#17\"{var\"#14#16\"{cf_params, Dict{String, typeof(get_abs_neighborhood)}, Int64, Matrix{Float64}}, RatingsDataset, RatingsDataset}, Float64}}(0.8933904168258802,0.3226224237761323,-0.5922423341932371,153.94362446716138): λ ForwardDiff.Dual{ForwardDiff.Tag{var\"#validation_mse#17\"{var\"#14#16\"{cf_params, Dict{String, typeof(get_abs_neighborhood)}, Int64, Matrix{Float64}}, RatingsDataset, RatingsDataset}, Float64}, Float64, 3}[Dual{ForwardDiff.Tag{var\"#validation_mse#17\"{var\"#14#16\"{cf_params, Dict{String, typeof(get_abs_neighborhood)}, Int64, Matrix{Float64}}, RatingsDataset, RatingsDataset}, Float64}}(2.4260249592712166,1.0,0.0,0.0), Dual{ForwardDiff.Tag{var\"#validation_mse#17\"{var\"#14#16\"{cf_params, Dict{String, typeof(get_abs_neighborhood)}, Int64, Matrix{Float64}}, RatingsDataset, RatingsDataset}, Float64}}(1.0307683844003546,0.0,1.0,0.0), Dual{ForwardDiff.Tag{var\"#validation_mse#17\"{var\"#14#16\"{cf_params, Dict{String, typeof(get_abs_neighborhood)}, Int64, Matrix{Float64}}, RatingsDataset, RatingsDataset}, Float64}}(0.0008539625746904038,0.0,0.0,1.0)]\n"
     ]
    },
    {
     "name": "stdout",
     "output_type": "stream",
     "text": [
      "    32     1.367775e+00     4.699880e-08\n",
      " * Current step size: 1.0508258027009567\n",
      " * time: 19443.664489984512\n",
      " * g(x): [1.755567343275643e-10, -2.3530122812859196e-10, 4.699879595953172e-8]\n",
      " * x: [2.4260249592712166, 1.0307683844003546, 0.0008539625746904038]\n"
     ]
    },
    {
     "name": "stderr",
     "output_type": "stream",
     "text": [
      "\u001b[32mProgress: 100%|███████████████████████████| Time: 0:02:58 (45.03 ms/it)\u001b[39m\n",
      "\u001b[38;5;4m\u001b[1m[ \u001b[22m\u001b[39m\u001b[38;5;4m\u001b[1mDebug: \u001b[22m\u001b[39m20211231 04:28:05 loss: Dual{ForwardDiff.Tag{var\"#validation_mse#17\"{var\"#14#16\"{cf_params, Dict{String, typeof(get_abs_neighborhood)}, Int64, Matrix{Float64}}, RatingsDataset, RatingsDataset}, Float64}}(1.3677751994453862,-4.243621058817539e-13,4.047111948114869e-13,-1.1041855466177472e-10) β: Dual{ForwardDiff.Tag{var\"#validation_mse#17\"{var\"#14#16\"{cf_params, Dict{String, typeof(get_abs_neighborhood)}, Int64, Matrix{Float64}}, RatingsDataset, RatingsDataset}, Float64}}(0.893390416350821,0.3226224241111469,-0.5922423348703075,153.9436230197503): λ ForwardDiff.Dual{ForwardDiff.Tag{var\"#validation_mse#17\"{var\"#14#16\"{cf_params, Dict{String, typeof(get_abs_neighborhood)}, Int64, Matrix{Float64}}, RatingsDataset, RatingsDataset}, Float64}, Float64, 3}[Dual{ForwardDiff.Tag{var\"#validation_mse#17\"{var\"#14#16\"{cf_params, Dict{String, typeof(get_abs_neighborhood)}, Int64, Matrix{Float64}}, RatingsDataset, RatingsDataset}, Float64}}(2.4260249557102322,1.0,0.0,0.0), Dual{ForwardDiff.Tag{var\"#validation_mse#17\"{var\"#14#16\"{cf_params, Dict{String, typeof(get_abs_neighborhood)}, Int64, Matrix{Float64}}, RatingsDataset, RatingsDataset}, Float64}}(1.0307683854973704,0.0,1.0,0.0), Dual{ForwardDiff.Tag{var\"#validation_mse#17\"{var\"#14#16\"{cf_params, Dict{String, typeof(get_abs_neighborhood)}, Int64, Matrix{Float64}}, RatingsDataset, RatingsDataset}, Float64}}(0.0008539625832879991,0.0,0.0,1.0)]\n",
      "\u001b[32mProgress: 100%|███████████████████████████| Time: 0:02:56 (44.40 ms/it)\u001b[39m\n",
      "\u001b[38;5;4m\u001b[1m[ \u001b[22m\u001b[39m\u001b[38;5;4m\u001b[1mDebug: \u001b[22m\u001b[39m20211231 04:31:12 loss: Dual{ForwardDiff.Tag{var\"#validation_mse#17\"{var\"#14#16\"{cf_params, Dict{String, typeof(get_abs_neighborhood)}, Int64, Matrix{Float64}}, RatingsDataset, RatingsDataset}, Float64}}(1.3677751994453862,-5.5824202139257366e-14,-8.897519363956742e-14,-1.1764419336836426e-11) β: Dual{ForwardDiff.Tag{var\"#validation_mse#17\"{var\"#14#16\"{cf_params, Dict{String, typeof(get_abs_neighborhood)}, Int64, Matrix{Float64}}, RatingsDataset, RatingsDataset}, Float64}}(0.893390416351844,0.3226224241104358,-0.5922423348688712,153.94362302279362): λ ForwardDiff.Dual{ForwardDiff.Tag{var\"#validation_mse#17\"{var\"#14#16\"{cf_params, Dict{String, typeof(get_abs_neighborhood)}, Int64, Matrix{Float64}}, RatingsDataset, RatingsDataset}, Float64}, Float64, 3}[Dual{ForwardDiff.Tag{var\"#validation_mse#17\"{var\"#14#16\"{cf_params, Dict{String, typeof(get_abs_neighborhood)}, Int64, Matrix{Float64}}, RatingsDataset, RatingsDataset}, Float64}}(2.4260249557176903,1.0,0.0,0.0), Dual{ForwardDiff.Tag{var\"#validation_mse#17\"{var\"#14#16\"{cf_params, Dict{String, typeof(get_abs_neighborhood)}, Int64, Matrix{Float64}}, RatingsDataset, RatingsDataset}, Float64}}(1.0307683854950727,0.0,1.0,0.0), Dual{ForwardDiff.Tag{var\"#validation_mse#17\"{var\"#14#16\"{cf_params, Dict{String, typeof(get_abs_neighborhood)}, Int64, Matrix{Float64}}, RatingsDataset, RatingsDataset}, Float64}}(0.0008539625832699918,0.0,0.0,1.0)]\n"
     ]
    },
    {
     "name": "stdout",
     "output_type": "stream",
     "text": [
      "    33     1.367775e+00     1.176442e-11\n",
      " * Current step size: 0.9979055395424257\n",
      " * time: 19817.030965805054\n",
      " * g(x): [-5.5824202139257366e-14, -8.897519363956742e-14, -1.1764419336836426e-11]\n",
      " * x: [2.4260249557176903, 1.0307683854950727, 0.0008539625832699918]\n"
     ]
    },
    {
     "name": "stderr",
     "output_type": "stream",
     "text": [
      "\u001b[32mProgress: 100%|███████████████████████████| Time: 0:29:06 ( 0.41  s/it)\u001b[39m\n",
      "\u001b[38;5;6m\u001b[1m[ \u001b[22m\u001b[39m\u001b[38;5;6m\u001b[1mInfo: \u001b[22m\u001b[39m20211231 05:02:56 training set: RMSE NaN MAE NaN R2 NaN\n",
      "\u001b[38;5;6m\u001b[1m[ \u001b[22m\u001b[39m\u001b[38;5;6m\u001b[1mInfo: \u001b[22m\u001b[39m20211231 05:03:02 validation set: RMSE 1.1695192172193607 MAE 0.8479561032276048 R2 0.19456975791403786\n"
     ]
    }
   ],
   "source": [
    "for param in item_cf_params\n",
    "    optimize_model(param)\n",
    "end"
   ]
  },
  {
   "cell_type": "code",
   "execution_count": null,
   "id": "11148461-1dbc-4b24-a9dc-0b4255ae0c2d",
   "metadata": {},
   "outputs": [],
   "source": []
  }
 ],
 "metadata": {
  "kernelspec": {
   "display_name": "Julia 1.6.3",
   "language": "julia",
   "name": "julia-1.6"
  },
  "language_info": {
   "file_extension": ".jl",
   "mimetype": "application/julia",
   "name": "julia",
   "version": "1.6.3"
  }
 },
 "nbformat": 4,
 "nbformat_minor": 5
}
