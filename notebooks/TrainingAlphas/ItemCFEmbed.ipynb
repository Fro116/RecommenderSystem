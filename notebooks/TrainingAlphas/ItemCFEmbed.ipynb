{
 "cells": [
  {
   "cell_type": "markdown",
   "id": "c3758ece-9b72-47b4-ae6a-aa364e0443e3",
   "metadata": {},
   "source": [
    "# Item Collaborative Filtering\n",
    "* See `ItemCollaborativeFilteringBase.ipynb` for algorithm details\n",
    "* The weights here are the reciprocal of the l2-norm between the item embeddings"
   ]
  },
  {
   "cell_type": "code",
   "execution_count": 1,
   "id": "7cc9334a-2287-41d6-885b-a5cca94fe263",
   "metadata": {},
   "outputs": [],
   "source": [
    "name = \"ItemCFEmbed\";"
   ]
  },
  {
   "cell_type": "code",
   "execution_count": 2,
   "id": "d17593ac-3260-4c01-a5df-91edfcd17e13",
   "metadata": {},
   "outputs": [],
   "source": [
    "using NBInclude\n",
    "@nbinclude(\"ItemCollaborativeFilteringBase.ipynb\");"
   ]
  },
  {
   "cell_type": "markdown",
   "id": "bff8e524-e8f8-48bd-9ca7-c28a05a122b8",
   "metadata": {},
   "source": [
    "## Compute cosine correlations"
   ]
  },
  {
   "cell_type": "code",
   "execution_count": 3,
   "id": "c9572dd9-db8e-4b1c-83ca-cacc666325f9",
   "metadata": {},
   "outputs": [],
   "source": [
    "function get_embed_matrix_outdir(power)\n",
    "    # if the matrix is already stored on disk, return its filepath\n",
    "    # otherwise, regenerate the matrix and store it to disk\n",
    "    outdir = \"$name/$(hash(power))\"\n",
    "    if ispath(\"../../data/alphas/$outdir\")\n",
    "        return outdir\n",
    "    end\n",
    "\n",
    "    @debug \"generating similarity matrix for $power-norm\"\n",
    "    item_embeddings = vcat(\n",
    "        [collect(read_params(\"MatrixFactorization.$K\")[\"A\"]') for K in [10, 20, 40]]...,\n",
    "    )\n",
    "    training = get_residuals(\"training\", residual_alphas)\n",
    "    S = zeros(maximum(training.item), maximum(training.item))\n",
    "\n",
    "    kernel = item_embeddings\n",
    "    p = power\n",
    "    @showprogress for j = 1:size(S)[1]\n",
    "        dists = map(x -> norm(x, p), eachslice(kernel .- kernel[:, j], dims = 2))\n",
    "        S[:, j] = 1 ./ dists\n",
    "    end\n",
    "\n",
    "    # only the diagonal can be Inf\n",
    "    for i = 1:size(S)[1]\n",
    "        for j = 1:size(S)[2]\n",
    "            if S[i, j] == Inf && i != j\n",
    "                S[i, j] = 1e8\n",
    "            end\n",
    "        end\n",
    "    end\n",
    "\n",
    "    write_params(Dict(\"S\" => S), outdir = outdir)\n",
    "    outdir\n",
    "end;"
   ]
  },
  {
   "cell_type": "markdown",
   "id": "85910c72-6e77-4dbd-8991-6ad3b81035a7",
   "metadata": {},
   "source": [
    "## Setup hyperparameters"
   ]
  },
  {
   "cell_type": "code",
   "execution_count": 4,
   "id": "0c00b2aa-a40c-4374-9631-9918f0f55968",
   "metadata": {},
   "outputs": [],
   "source": [
    "downcast_to_int(x) = isinteger(x) ? Int(x) : x\n",
    "item_alphas = [\"ItemCF.$K\" for K in downcast_to_int.([2^4, 2^6, 2^8, 2^10])]\n",
    "item_cf_params = [\n",
    "    cf_params(\n",
    "        name = \"ItemCFEmbed.$K\",\n",
    "        training_residuals = [\"UserItemBiases\"],\n",
    "        validation_residuals = [\"UserItemBiases\"],\n",
    "        neighborhood_type = \"abs\",\n",
    "        S = get_embed_matrix_outdir(2),\n",
    "        K = K,\n",
    "        λ = [2.4182964143573114, 1.0364205793963885, 0.000497907758177069],\n",
    "    ) for K in downcast_to_int.([2^10])\n",
    "];"
   ]
  },
  {
   "cell_type": "markdown",
   "id": "73d6710c-a42a-443d-8616-f1441be67eee",
   "metadata": {},
   "source": [
    "## Train models"
   ]
  },
  {
   "cell_type": "code",
   "execution_count": null,
   "id": "1842d509-9377-4b28-9fe9-9212da6183d1",
   "metadata": {
    "tags": []
   },
   "outputs": [
    {
     "name": "stderr",
     "output_type": "stream",
     "text": [
      "\u001b[32mProgress:  82%|██████████████████████▏    |  ETA: 0:01:08 ( 0.38  s/it)\u001b[39m"
     ]
    }
   ],
   "source": [
    "for param in item_cf_params\n",
    "    optimize_model(param)\n",
    "end"
   ]
  },
  {
   "cell_type": "code",
   "execution_count": null,
   "id": "11148461-1dbc-4b24-a9dc-0b4255ae0c2d",
   "metadata": {},
   "outputs": [],
   "source": []
  }
 ],
 "metadata": {
  "kernelspec": {
   "display_name": "Julia 1.6.3",
   "language": "julia",
   "name": "julia-1.6"
  },
  "language_info": {
   "file_extension": ".jl",
   "mimetype": "application/julia",
   "name": "julia",
   "version": "1.6.3"
  }
 },
 "nbformat": 4,
 "nbformat_minor": 5
}
