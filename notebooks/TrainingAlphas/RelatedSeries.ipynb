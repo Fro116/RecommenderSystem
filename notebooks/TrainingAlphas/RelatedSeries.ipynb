{
 "cells": [
  {
   "cell_type": "markdown",
   "id": "c3758ece-9b72-47b4-ae6a-aa364e0443e3",
   "metadata": {},
   "source": [
    "# Item Collaborative Filtering\n",
    "* See `ItemCollaborativeFilteringBase.ipynb` for algorithm details\n",
    "* The weights here are determined by the number of MAL recommendations between two series (see  https://myanimelist.net/recommendations.php?s=recentrecs&t=anime)"
   ]
  },
  {
   "cell_type": "code",
   "execution_count": 1,
   "id": "7cc9334a-2287-41d6-885b-a5cca94fe263",
   "metadata": {},
   "outputs": [],
   "source": [
    "name = \"RelatedSeries\";"
   ]
  },
  {
   "cell_type": "code",
   "execution_count": 2,
   "id": "d17593ac-3260-4c01-a5df-91edfcd17e13",
   "metadata": {},
   "outputs": [],
   "source": [
    "using NBInclude\n",
    "@nbinclude(\"ItemCollaborativeFilteringBase.ipynb\");"
   ]
  },
  {
   "cell_type": "code",
   "execution_count": 3,
   "id": "7e4b4828-4e13-4d43-aaf2-88d168be8b2e",
   "metadata": {},
   "outputs": [],
   "source": [
    "using DataFrames"
   ]
  },
  {
   "cell_type": "markdown",
   "id": "bff8e524-e8f8-48bd-9ca7-c28a05a122b8",
   "metadata": {},
   "source": [
    "## Compute similarity matrices"
   ]
  },
  {
   "cell_type": "code",
   "execution_count": 4,
   "id": "f3125135-9a7d-4f1a-b63b-cc33dca04cce",
   "metadata": {},
   "outputs": [],
   "source": [
    "function get_similarity_matrix(relationships)\n",
    "    file = \"../../data/processed_data/related_series.csv\"\n",
    "    df = DataFrame(CSV.File(file))\n",
    "    df = filter(x -> x.relationship ∈ relationships, df)\n",
    "    num_items = maximum(get_split(\"training\").item)\n",
    "    sparse(\n",
    "        df.source .+ 1,\n",
    "        df.target .+ 1,\n",
    "        fill(1.0, length(df.source)),\n",
    "        num_items,\n",
    "        num_items,\n",
    "    )\n",
    "end;"
   ]
  },
  {
   "cell_type": "code",
   "execution_count": 5,
   "id": "9accac32-ce5d-49b2-b161-2caf4368514b",
   "metadata": {},
   "outputs": [
    {
     "data": {
      "text/plain": [
       "all_pairs_shortest_paths (generic function with 1 method)"
      ]
     },
     "execution_count": 5,
     "metadata": {},
     "output_type": "execute_result"
    }
   ],
   "source": [
    "function all_pairs_shortest_paths(S)\n",
    "    # uses the optimization that all edges are weight 1\n",
    "    dists = fill(Inf, size(S)...)\n",
    "    for v = 1:size(S)[1]\n",
    "        dists[v, v] = 0\n",
    "    end\n",
    "    T = I(size(S)[1])\n",
    "\n",
    "    @showprogress for epoch = 1:size(S)[1]\n",
    "        T = T * S\n",
    "        change = false\n",
    "        for (i, j, v) in zip(findnz(T)...)\n",
    "            if dists[i, j] > epoch\n",
    "                dists[i, j] = epoch\n",
    "                change = true\n",
    "            end\n",
    "        end\n",
    "        if !change\n",
    "            break\n",
    "        end\n",
    "    end\n",
    "    dists\n",
    "end"
   ]
  },
  {
   "cell_type": "code",
   "execution_count": 6,
   "id": "c9572dd9-db8e-4b1c-83ca-cacc666325f9",
   "metadata": {},
   "outputs": [],
   "source": [
    "function get_similarity_matrix_outdir(relationships)\n",
    "    # if the matrix is already stored on disk, return its filepath\n",
    "    # otherwise, regenerate the matrix and store it to disk\n",
    "    outdir = \"$name/$(hash(relationships))\"\n",
    "    if ispath(\"../../data/alphas/$outdir\")\n",
    "        return outdir\n",
    "    end\n",
    "\n",
    "    @debug \"generating similarity matrix for relationships $relationships\"\n",
    "    S = get_similarity_matrix(relationships)\n",
    "    S = collect(1 ./ all_pairs_shortest_paths(S))\n",
    "    write_params(Dict(\"S\" => S), outdir = outdir)\n",
    "    outdir\n",
    "end;"
   ]
  },
  {
   "cell_type": "markdown",
   "id": "85910c72-6e77-4dbd-8991-6ad3b81035a7",
   "metadata": {},
   "source": [
    "## Setup hyperparameters"
   ]
  },
  {
   "cell_type": "code",
   "execution_count": 7,
   "id": "103cb5c6-a320-4019-9c63-2cbc52e6e7e7",
   "metadata": {},
   "outputs": [],
   "source": [
    "all_relations = [\n",
    "    \"side_story\",\n",
    "    \"summary\",\n",
    "    \"parent_story\",\n",
    "    \"sequel\",\n",
    "    \"prequel\",\n",
    "    \"character\",\n",
    "    \"alternative_version\",\n",
    "    \"other\",\n",
    "    \"spin_off\",\n",
    "    \"alternative_setting\",\n",
    "    \"full_story\",\n",
    "];\n",
    "\n",
    "strict_relations = [\"side_story\", \"parent_story\", \"sequel\", \"prequel\"];"
   ]
  },
  {
   "cell_type": "code",
   "execution_count": 8,
   "id": "73dee7f4-b5ac-4fe3-9623-a3d8bd91f610",
   "metadata": {
    "tags": []
   },
   "outputs": [],
   "source": [
    "@memoize function max_neighborhood_size(relation)\n",
    "    # returns the size of the largest nonzero neighborhood\n",
    "    S = read_params(get_similarity_matrix_outdir(relation))[\"S\"]\n",
    "    S = 1 ./ S\n",
    "    maxK = 0\n",
    "    for j = 1:size(S)[2]\n",
    "        K = sum((S[:, j] .!= 0) .* (S[:, j] .!= Inf))\n",
    "        if K > maxK\n",
    "            maxK = K\n",
    "        end\n",
    "    end\n",
    "    neighborhood_size = Int(round(maxK))\n",
    "    @debug \"using neighborhood size $neighborhood_size\"\n",
    "    neighborhood_size\n",
    "end;"
   ]
  },
  {
   "cell_type": "code",
   "execution_count": 9,
   "id": "0c00b2aa-a40c-4374-9631-9918f0f55968",
   "metadata": {},
   "outputs": [
    {
     "name": "stderr",
     "output_type": "stream",
     "text": [
      "\u001b[38;5;4m\u001b[1m[ \u001b[22m\u001b[39m\u001b[38;5;4m\u001b[1mDebug: \u001b[22m\u001b[39m20211231 19:55:44 using neighborhood size 96\n",
      "\u001b[38;5;4m\u001b[1m[ \u001b[22m\u001b[39m\u001b[38;5;4m\u001b[1mDebug: \u001b[22m\u001b[39m20211231 19:55:54 using neighborhood size 361\n"
     ]
    }
   ],
   "source": [
    "downcast_to_int(x) = isinteger(x) ? Int(x) : x\n",
    "item_alphas = [\n",
    "    [\"ItemCF.$K\" for K in downcast_to_int.([2^4, 2^6, 2^8, 2^10])]\n",
    "    [\"ItemCFEmbed.64\", \"ItemCFResid.256\"]\n",
    "]\n",
    "params = [\n",
    "    cf_params(\n",
    "        name = \"ItemCFRelated.$(hash(relation))\",\n",
    "        training_residuals = [[\"UserItemBiases\"]; item_alphas],\n",
    "        validation_residuals = [[\"UserItemBiases\"]; item_alphas],\n",
    "        neighborhood_type = \"abs\",\n",
    "        S = get_similarity_matrix_outdir(relation),\n",
    "        K = max_neighborhood_size(relation),\n",
    "        λ = [1.0, 1.0, 0.0],\n",
    "    ) for relation ∈ [strict_relations, all_relations]\n",
    "];"
   ]
  },
  {
   "cell_type": "markdown",
   "id": "73d6710c-a42a-443d-8616-f1441be67eee",
   "metadata": {},
   "source": [
    "## Train models"
   ]
  },
  {
   "cell_type": "code",
   "execution_count": null,
   "id": "1842d509-9377-4b28-9fe9-9212da6183d1",
   "metadata": {
    "tags": []
   },
   "outputs": [
    {
     "name": "stderr",
     "output_type": "stream",
     "text": [
      "\u001b[32mProgress: 100%|███████████████████████████| Time: 0:01:42 (25.86 ms/it)\u001b[39m\n",
      "\u001b[38;5;4m\u001b[1m[ \u001b[22m\u001b[39m\u001b[38;5;4m\u001b[1mDebug: \u001b[22m\u001b[39m20211231 19:58:26 loss: Dual{ForwardDiff.Tag{var\"#validation_mse#17\"{var\"#14#16\"{cf_params, Dict{String, typeof(get_abs_neighborhood)}, Int64, Matrix{Float64}}, RatingsDataset, RatingsDataset}, Float64}}(1.249530525258636,-9.729437615610603e-5,0.00038665610649252826,-0.0003133778329081025) β: Dual{ForwardDiff.Tag{var\"#validation_mse#17\"{var\"#14#16\"{cf_params, Dict{String, typeof(get_abs_neighborhood)}, Int64, Matrix{Float64}}, RatingsDataset, RatingsDataset}, Float64}}(0.04547449489864468,0.0022116378809532923,-0.041129454564840066,0.06180486236536572): λ ForwardDiff.Dual{ForwardDiff.Tag{var\"#validation_mse#17\"{var\"#14#16\"{cf_params, Dict{String, typeof(get_abs_neighborhood)}, Int64, Matrix{Float64}}, RatingsDataset, RatingsDataset}, Float64}, Float64, 3}[Dual{ForwardDiff.Tag{var\"#validation_mse#17\"{var\"#14#16\"{cf_params, Dict{String, typeof(get_abs_neighborhood)}, Int64, Matrix{Float64}}, RatingsDataset, RatingsDataset}, Float64}}(1.0,1.0,0.0,0.0), Dual{ForwardDiff.Tag{var\"#validation_mse#17\"{var\"#14#16\"{cf_params, Dict{String, typeof(get_abs_neighborhood)}, Int64, Matrix{Float64}}, RatingsDataset, RatingsDataset}, Float64}}(1.0,0.0,1.0,0.0), Dual{ForwardDiff.Tag{var\"#validation_mse#17\"{var\"#14#16\"{cf_params, Dict{String, typeof(get_abs_neighborhood)}, Int64, Matrix{Float64}}, RatingsDataset, RatingsDataset}, Float64}}(0.0,0.0,0.0,1.0)]\n"
     ]
    },
    {
     "name": "stdout",
     "output_type": "stream",
     "text": [
      "Iter     Function value   Gradient norm \n",
      "     0     1.249531e+00     3.866561e-04\n",
      " * Current step size: 1.0\n",
      " * time: 0.021929025650024414\n",
      " * g(x): [-9.729437615610603e-5, 0.00038665610649252826, -0.0003133778329081025]\n",
      " * x: [1.0, 1.0, 0.0]\n"
     ]
    },
    {
     "name": "stderr",
     "output_type": "stream",
     "text": [
      "\u001b[32mProgress: 100%|███████████████████████████| Time: 0:01:43 (26.13 ms/it)\u001b[39m\n",
      "\u001b[38;5;4m\u001b[1m[ \u001b[22m\u001b[39m\u001b[38;5;4m\u001b[1mDebug: \u001b[22m\u001b[39m20211231 20:00:17 loss: Dual{ForwardDiff.Tag{var\"#validation_mse#17\"{var\"#14#16\"{cf_params, Dict{String, typeof(get_abs_neighborhood)}, Int64, Matrix{Float64}}, RatingsDataset, RatingsDataset}, Float64}}(1.2495302680887408,-9.731105854435592e-5,0.0003866280270613511,-0.00031337586455379885) β: Dual{ForwardDiff.Tag{var\"#validation_mse#17\"{var\"#14#16\"{cf_params, Dict{String, typeof(get_abs_neighborhood)}, Int64, Matrix{Float64}}, RatingsDataset, RatingsDataset}, Float64}}(0.0455099852794912,0.002215664949449093,-0.04113837551215484,0.06181795216933023): λ ForwardDiff.Dual{ForwardDiff.Tag{var\"#validation_mse#17\"{var\"#14#16\"{cf_params, Dict{String, typeof(get_abs_neighborhood)}, Int64, Matrix{Float64}}, RatingsDataset, RatingsDataset}, Float64}, Float64, 3}[Dual{ForwardDiff.Tag{var\"#validation_mse#17\"{var\"#14#16\"{cf_params, Dict{String, typeof(get_abs_neighborhood)}, Int64, Matrix{Float64}}, RatingsDataset, RatingsDataset}, Float64}}(1.0000972943761561,1.0,0.0,0.0), Dual{ForwardDiff.Tag{var\"#validation_mse#17\"{var\"#14#16\"{cf_params, Dict{String, typeof(get_abs_neighborhood)}, Int64, Matrix{Float64}}, RatingsDataset, RatingsDataset}, Float64}}(0.9996133438935074,0.0,1.0,0.0), Dual{ForwardDiff.Tag{var\"#validation_mse#17\"{var\"#14#16\"{cf_params, Dict{String, typeof(get_abs_neighborhood)}, Int64, Matrix{Float64}}, RatingsDataset, RatingsDataset}, Float64}}(0.0003133778329081025,0.0,0.0,1.0)]\n",
      "\u001b[32mProgress: 100%|███████████████████████████| Time: 0:01:46 (26.80 ms/it)\u001b[39m\n",
      "\u001b[38;5;4m\u001b[1m[ \u001b[22m\u001b[39m\u001b[38;5;4m\u001b[1mDebug: \u001b[22m\u001b[39m20211231 20:02:09 loss: Dual{ForwardDiff.Tag{var\"#validation_mse#17\"{var\"#14#16\"{cf_params, Dict{String, typeof(get_abs_neighborhood)}, Int64, Matrix{Float64}}, RatingsDataset, RatingsDataset}, Float64}}(1.2495292395102207,-9.73775843005336e-5,0.00038651285601007385,-0.00031336614856649855) β: Dual{ForwardDiff.Tag{var\"#validation_mse#17\"{var\"#14#16\"{cf_params, Dict{String, typeof(get_abs_neighborhood)}, Int64, Matrix{Float64}}, RatingsDataset, RatingsDataset}, Float64}}(0.0456520261034602,0.002231676862411592,-0.04117371219698669,0.06187048901238665): λ ForwardDiff.Dual{ForwardDiff.Tag{var\"#validation_mse#17\"{var\"#14#16\"{cf_params, Dict{String, typeof(get_abs_neighborhood)}, Int64, Matrix{Float64}}, RatingsDataset, RatingsDataset}, Float64}, Float64, 3}[Dual{ForwardDiff.Tag{var\"#validation_mse#17\"{var\"#14#16\"{cf_params, Dict{String, typeof(get_abs_neighborhood)}, Int64, Matrix{Float64}}, RatingsDataset, RatingsDataset}, Float64}}(1.0004864718807804,1.0,0.0,0.0), Dual{ForwardDiff.Tag{var\"#validation_mse#17\"{var\"#14#16\"{cf_params, Dict{String, typeof(get_abs_neighborhood)}, Int64, Matrix{Float64}}, RatingsDataset, RatingsDataset}, Float64}}(0.9980667194675373,0.0,1.0,0.0), Dual{ForwardDiff.Tag{var\"#validation_mse#17\"{var\"#14#16\"{cf_params, Dict{String, typeof(get_abs_neighborhood)}, Int64, Matrix{Float64}}, RatingsDataset, RatingsDataset}, Float64}}(0.0015668891645405124,0.0,0.0,1.0)]\n",
      "\u001b[32mProgress: 100%|███████████████████████████| Time: 0:01:46 (26.83 ms/it)\u001b[39m\n",
      "\u001b[38;5;4m\u001b[1m[ \u001b[22m\u001b[39m\u001b[38;5;4m\u001b[1mDebug: \u001b[22m\u001b[39m20211231 20:04:00 loss: Dual{ForwardDiff.Tag{var\"#validation_mse#17\"{var\"#14#16\"{cf_params, Dict{String, typeof(get_abs_neighborhood)}, Int64, Matrix{Float64}}, RatingsDataset, RatingsDataset}, Float64}}(1.249524099378941,-9.770457498211979e-5,0.00038586850648606054,-0.0003132759459934757) β: Dual{ForwardDiff.Tag{var\"#validation_mse#17\"{var\"#14#16\"{cf_params, Dict{String, typeof(get_abs_neighborhood)}, Int64, Matrix{Float64}}, RatingsDataset, RatingsDataset}, Float64}}(0.046364115091398955,0.0023094925971503077,-0.04134200004260918,0.06213707813064724): λ ForwardDiff.Dual{ForwardDiff.Tag{var\"#validation_mse#17\"{var\"#14#16\"{cf_params, Dict{String, typeof(get_abs_neighborhood)}, Int64, Matrix{Float64}}, RatingsDataset, RatingsDataset}, Float64}, Float64, 3}[Dual{ForwardDiff.Tag{var\"#validation_mse#17\"{var\"#14#16\"{cf_params, Dict{String, typeof(get_abs_neighborhood)}, Int64, Matrix{Float64}}, RatingsDataset, RatingsDataset}, Float64}}(1.0024323594039026,1.0,0.0,0.0), Dual{ForwardDiff.Tag{var\"#validation_mse#17\"{var\"#14#16\"{cf_params, Dict{String, typeof(get_abs_neighborhood)}, Int64, Matrix{Float64}}, RatingsDataset, RatingsDataset}, Float64}}(0.9903335973376868,0.0,1.0,0.0), Dual{ForwardDiff.Tag{var\"#validation_mse#17\"{var\"#14#16\"{cf_params, Dict{String, typeof(get_abs_neighborhood)}, Int64, Matrix{Float64}}, RatingsDataset, RatingsDataset}, Float64}}(0.007834445822702563,0.0,0.0,1.0)]\n",
      "\u001b[32mProgress: 100%|███████████████████████████| Time: 0:01:54 (28.71 ms/it)\u001b[39m\n",
      "\u001b[38;5;4m\u001b[1m[ \u001b[22m\u001b[39m\u001b[38;5;4m\u001b[1mDebug: \u001b[22m\u001b[39m20211231 20:05:59 loss: Dual{ForwardDiff.Tag{var\"#validation_mse#17\"{var\"#14#16\"{cf_params, Dict{String, typeof(get_abs_neighborhood)}, Int64, Matrix{Float64}}, RatingsDataset, RatingsDataset}, Float64}}(1.249498506967574,-9.913277225989113e-5,0.00038092652256432186,-0.0003120464660296299) β: Dual{ForwardDiff.Tag{var\"#validation_mse#17\"{var\"#14#16\"{cf_params, Dict{String, typeof(get_abs_neighborhood)}, Int64, Matrix{Float64}}, RatingsDataset, RatingsDataset}, Float64}}(0.04996898930882404,0.0026488627972377702,-0.04196500810903393,0.06353573861925174): λ ForwardDiff.Dual{ForwardDiff.Tag{var\"#validation_mse#17\"{var\"#14#16\"{cf_params, Dict{String, typeof(get_abs_neighborhood)}, Int64, Matrix{Float64}}, RatingsDataset, RatingsDataset}, Float64}, Float64, 3}[Dual{ForwardDiff.Tag{var\"#validation_mse#17\"{var\"#14#16\"{cf_params, Dict{String, typeof(get_abs_neighborhood)}, Int64, Matrix{Float64}}, RatingsDataset, RatingsDataset}, Float64}}(1.0121617970195134,1.0,0.0,0.0), Dual{ForwardDiff.Tag{var\"#validation_mse#17\"{var\"#14#16\"{cf_params, Dict{String, typeof(get_abs_neighborhood)}, Int64, Matrix{Float64}}, RatingsDataset, RatingsDataset}, Float64}}(0.951667986688434,0.0,1.0,0.0), Dual{ForwardDiff.Tag{var\"#validation_mse#17\"{var\"#14#16\"{cf_params, Dict{String, typeof(get_abs_neighborhood)}, Int64, Matrix{Float64}}, RatingsDataset, RatingsDataset}, Float64}}(0.03917222911351281,0.0,0.0,1.0)]\n",
      "\u001b[32mProgress: 100%|███████████████████████████| Time: 0:01:53 (28.47 ms/it)\u001b[39m\n",
      "\u001b[38;5;4m\u001b[1m[ \u001b[22m\u001b[39m\u001b[38;5;4m\u001b[1mDebug: \u001b[22m\u001b[39m20211231 20:07:59 loss: Dual{ForwardDiff.Tag{var\"#validation_mse#17\"{var\"#14#16\"{cf_params, Dict{String, typeof(get_abs_neighborhood)}, Int64, Matrix{Float64}}, RatingsDataset, RatingsDataset}, Float64}}(1.249377660004578,-9.90697412344252e-5,0.00031079659344853013,-0.000296678004275501) β: Dual{ForwardDiff.Tag{var\"#validation_mse#17\"{var\"#14#16\"{cf_params, Dict{String, typeof(get_abs_neighborhood)}, Int64, Matrix{Float64}}, RatingsDataset, RatingsDataset}, Float64}}(0.0685990299344296,0.003452536920644193,-0.03843405290992855,0.07034326320339952): λ ForwardDiff.Dual{ForwardDiff.Tag{var\"#validation_mse#17\"{var\"#14#16\"{cf_params, Dict{String, typeof(get_abs_neighborhood)}, Int64, Matrix{Float64}}, RatingsDataset, RatingsDataset}, Float64}, Float64, 3}[Dual{ForwardDiff.Tag{var\"#validation_mse#17\"{var\"#14#16\"{cf_params, Dict{String, typeof(get_abs_neighborhood)}, Int64, Matrix{Float64}}, RatingsDataset, RatingsDataset}, Float64}}(1.0608089850975662,1.0,0.0,0.0), Dual{ForwardDiff.Tag{var\"#validation_mse#17\"{var\"#14#16\"{cf_params, Dict{String, typeof(get_abs_neighborhood)}, Int64, Matrix{Float64}}, RatingsDataset, RatingsDataset}, Float64}}(0.7583399334421699,0.0,1.0,0.0), Dual{ForwardDiff.Tag{var\"#validation_mse#17\"{var\"#14#16\"{cf_params, Dict{String, typeof(get_abs_neighborhood)}, Int64, Matrix{Float64}}, RatingsDataset, RatingsDataset}, Float64}}(0.19586114556756407,0.0,0.0,1.0)]\n",
      "\u001b[32mProgress: 100%|███████████████████████████| Time: 0:01:51 (28.15 ms/it)\u001b[39m\n",
      "\u001b[38;5;4m\u001b[1m[ \u001b[22m\u001b[39m\u001b[38;5;4m\u001b[1mDebug: \u001b[22m\u001b[39m20211231 20:10:02 loss: Dual{ForwardDiff.Tag{var\"#validation_mse#17\"{var\"#14#16\"{cf_params, Dict{String, typeof(get_abs_neighborhood)}, Int64, Matrix{Float64}}, RatingsDataset, RatingsDataset}, Float64}}(1.2495670157388454,-1.143054853304175e-5,-0.001467494559436411,-7.101590618916412e-5) β: Dual{ForwardDiff.Tag{var\"#validation_mse#17\"{var\"#14#16\"{cf_params, Dict{String, typeof(get_abs_neighborhood)}, Int64, Matrix{Float64}}, RatingsDataset, RatingsDataset}, Float64}}(0.06441946588769495,9.321697286976292e-5,0.20145519479386093,0.03207088417922077): λ ForwardDiff.Dual{ForwardDiff.Tag{var\"#validation_mse#17\"{var\"#14#16\"{cf_params, Dict{String, typeof(get_abs_neighborhood)}, Int64, Matrix{Float64}}, RatingsDataset, RatingsDataset}, Float64}, Float64, 3}[Dual{ForwardDiff.Tag{var\"#validation_mse#17\"{var\"#14#16\"{cf_params, Dict{String, typeof(get_abs_neighborhood)}, Int64, Matrix{Float64}}, RatingsDataset, RatingsDataset}, Float64}}(1.3040449254878315,1.0,0.0,0.0), Dual{ForwardDiff.Tag{var\"#validation_mse#17\"{var\"#14#16\"{cf_params, Dict{String, typeof(get_abs_neighborhood)}, Int64, Matrix{Float64}}, RatingsDataset, RatingsDataset}, Float64}}(-0.20830033278915083,0.0,1.0,0.0), Dual{ForwardDiff.Tag{var\"#validation_mse#17\"{var\"#14#16\"{cf_params, Dict{String, typeof(get_abs_neighborhood)}, Int64, Matrix{Float64}}, RatingsDataset, RatingsDataset}, Float64}}(0.9793057278378203,0.0,0.0,1.0)]\n",
      "\u001b[32mProgress: 100%|███████████████████████████| Time: 0:01:57 (29.56 ms/it)\u001b[39m\n",
      "\u001b[38;5;4m\u001b[1m[ \u001b[22m\u001b[39m\u001b[38;5;4m\u001b[1mDebug: \u001b[22m\u001b[39m20211231 20:12:05 loss: Dual{ForwardDiff.Tag{var\"#validation_mse#17\"{var\"#14#16\"{cf_params, Dict{String, typeof(get_abs_neighborhood)}, Int64, Matrix{Float64}}, RatingsDataset, RatingsDataset}, Float64}}(1.2492522846077445,-7.998929262896915e-5,5.367044042051096e-5,-0.0002533889184286202) β: Dual{ForwardDiff.Tag{var\"#validation_mse#17\"{var\"#14#16\"{cf_params, Dict{String, typeof(get_abs_neighborhood)}, Int64, Matrix{Float64}}, RatingsDataset, RatingsDataset}, Float64}}(0.09262158086309566,0.0028189228538608494,-0.006243053071449084,0.07432690674130658): λ ForwardDiff.Dual{ForwardDiff.Tag{var\"#validation_mse#17\"{var\"#14#16\"{cf_params, Dict{String, typeof(get_abs_neighborhood)}, Int64, Matrix{Float64}}, RatingsDataset, RatingsDataset}, Float64}, Float64, 3}[Dual{ForwardDiff.Tag{var\"#validation_mse#17\"{var\"#14#16\"{cf_params, Dict{String, typeof(get_abs_neighborhood)}, Int64, Matrix{Float64}}, RatingsDataset, RatingsDataset}, Float64}}(1.1314747695997867,1.0,0.0,0.0), Dual{ForwardDiff.Tag{var\"#validation_mse#17\"{var\"#14#16\"{cf_params, Dict{String, typeof(get_abs_neighborhood)}, Int64, Matrix{Float64}}, RatingsDataset, RatingsDataset}, Float64}}(0.47750810967849155,0.0,1.0,0.0), Dual{ForwardDiff.Tag{var\"#validation_mse#17\"{var\"#14#16\"{cf_params, Dict{String, typeof(get_abs_neighborhood)}, Int64, Matrix{Float64}}, RatingsDataset, RatingsDataset}, Float64}}(0.42347029712351475,0.0,0.0,1.0)]\n"
     ]
    },
    {
     "name": "stdout",
     "output_type": "stream",
     "text": [
      "     1     1.249252e+00     2.533889e-04\n",
      " * Current step size: 1351.3090354661322\n",
      " * time: 819.098662853241\n",
      " * g(x): [-7.998929262896915e-5, 5.367044042051096e-5, -0.0002533889184286202]\n",
      " * x: [1.1314747695997867, 0.47750810967849155, 0.42347029712351475]\n"
     ]
    },
    {
     "name": "stderr",
     "output_type": "stream",
     "text": [
      "\u001b[32mProgress: 100%|███████████████████████████| Time: 0:01:52 (28.34 ms/it)\u001b[39m\n",
      "\u001b[38;5;4m\u001b[1m[ \u001b[22m\u001b[39m\u001b[38;5;4m\u001b[1mDebug: \u001b[22m\u001b[39m20211231 20:14:03 loss: Dual{ForwardDiff.Tag{var\"#validation_mse#17\"{var\"#14#16\"{cf_params, Dict{String, typeof(get_abs_neighborhood)}, Int64, Matrix{Float64}}, RatingsDataset, RatingsDataset}, Float64}}(1.2491410484671115,-2.759187742646532e-6,-0.0004758451748002306,-0.00011615508818777253) β: Dual{ForwardDiff.Tag{var\"#validation_mse#17\"{var\"#14#16\"{cf_params, Dict{String, typeof(get_abs_neighborhood)}, Int64, Matrix{Float64}}, RatingsDataset, RatingsDataset}, Float64}}(0.1433827688764446,-0.0020995768552544733,0.0919275568544314,0.06453884390166954): λ ForwardDiff.Dual{ForwardDiff.Tag{var\"#validation_mse#17\"{var\"#14#16\"{cf_params, Dict{String, typeof(get_abs_neighborhood)}, Int64, Matrix{Float64}}, RatingsDataset, RatingsDataset}, Float64}, Float64, 3}[Dual{ForwardDiff.Tag{var\"#validation_mse#17\"{var\"#14#16\"{cf_params, Dict{String, typeof(get_abs_neighborhood)}, Int64, Matrix{Float64}}, RatingsDataset, RatingsDataset}, Float64}}(1.4007450278161424,1.0,0.0,0.0), Dual{ForwardDiff.Tag{var\"#validation_mse#17\"{var\"#14#16\"{cf_params, Dict{String, typeof(get_abs_neighborhood)}, Int64, Matrix{Float64}}, RatingsDataset, RatingsDataset}, Float64}}(0.20738960834102782,0.0,1.0,0.0), Dual{ForwardDiff.Tag{var\"#validation_mse#17\"{var\"#14#16\"{cf_params, Dict{String, typeof(get_abs_neighborhood)}, Int64, Matrix{Float64}}, RatingsDataset, RatingsDataset}, Float64}}(1.2778996748181368,0.0,0.0,1.0)]\n",
      "\u001b[32mProgress: 100%|███████████████████████████| Time: 0:01:54 (28.89 ms/it)\u001b[39m\n",
      "\u001b[38;5;4m\u001b[1m[ \u001b[22m\u001b[39m\u001b[38;5;4m\u001b[1mDebug: \u001b[22m\u001b[39m20211231 20:16:03 loss: Dual{ForwardDiff.Tag{var\"#validation_mse#17\"{var\"#14#16\"{cf_params, Dict{String, typeof(get_abs_neighborhood)}, Int64, Matrix{Float64}}, RatingsDataset, RatingsDataset}, Float64}}(1.2491395818768793,-9.147592821423616e-6,-0.0004092521229935094,-0.00012611648372516502) β: Dual{ForwardDiff.Tag{var\"#validation_mse#17\"{var\"#14#16\"{cf_params, Dict{String, typeof(get_abs_neighborhood)}, Int64, Matrix{Float64}}, RatingsDataset, RatingsDataset}, Float64}}(0.14009365515707664,-0.0016351640143928824,0.0777906930224821,0.06604258556522928): λ ForwardDiff.Dual{ForwardDiff.Tag{var\"#validation_mse#17\"{var\"#14#16\"{cf_params, Dict{String, typeof(get_abs_neighborhood)}, Int64, Matrix{Float64}}, RatingsDataset, RatingsDataset}, Float64}, Float64, 3}[Dual{ForwardDiff.Tag{var\"#validation_mse#17\"{var\"#14#16\"{cf_params, Dict{String, typeof(get_abs_neighborhood)}, Int64, Matrix{Float64}}, RatingsDataset, RatingsDataset}, Float64}}(1.3733995000632797,1.0,0.0,0.0), Dual{ForwardDiff.Tag{var\"#validation_mse#17\"{var\"#14#16\"{cf_params, Dict{String, typeof(get_abs_neighborhood)}, Int64, Matrix{Float64}}, RatingsDataset, RatingsDataset}, Float64}}(0.23482127875206252,0.0,1.0,0.0), Dual{ForwardDiff.Tag{var\"#validation_mse#17\"{var\"#14#16\"{cf_params, Dict{String, typeof(get_abs_neighborhood)}, Int64, Matrix{Float64}}, RatingsDataset, RatingsDataset}, Float64}}(1.1911287762592768,0.0,0.0,1.0)]\n"
     ]
    },
    {
     "name": "stdout",
     "output_type": "stream",
     "text": [
      "     2     1.249140e+00     4.092521e-04\n",
      " * Current step size: 0.8984457922163435\n",
      " * time: 1057.0656189918518\n",
      " * g(x): [-9.147592821423616e-6, -0.0004092521229935094, -0.00012611648372516502]\n",
      " * x: [1.3733995000632797, 0.23482127875206252, 1.1911287762592768]\n"
     ]
    },
    {
     "name": "stderr",
     "output_type": "stream",
     "text": [
      "\u001b[32mProgress: 100%|███████████████████████████| Time: 0:01:50 (27.84 ms/it)\u001b[39m\n",
      "\u001b[38;5;4m\u001b[1m[ \u001b[22m\u001b[39m\u001b[38;5;4m\u001b[1mDebug: \u001b[22m\u001b[39m20211231 20:17:59 loss: Dual{ForwardDiff.Tag{var\"#validation_mse#17\"{var\"#14#16\"{cf_params, Dict{String, typeof(get_abs_neighborhood)}, Int64, Matrix{Float64}}, RatingsDataset, RatingsDataset}, Float64}}(1.2490203747785955,2.7198606739700182e-5,-3.7755948651446006e-5,-9.187688156223604e-5) β: Dual{ForwardDiff.Tag{var\"#validation_mse#17\"{var\"#14#16\"{cf_params, Dict{String, typeof(get_abs_neighborhood)}, Int64, Matrix{Float64}}, RatingsDataset, RatingsDataset}, Float64}}(0.1960078307593676,-0.006116746886725782,0.010223791020224117,0.07004850537337648): λ ForwardDiff.Dual{ForwardDiff.Tag{var\"#validation_mse#17\"{var\"#14#16\"{cf_params, Dict{String, typeof(get_abs_neighborhood)}, Int64, Matrix{Float64}}, RatingsDataset, RatingsDataset}, Float64}, Float64, 3}[Dual{ForwardDiff.Tag{var\"#validation_mse#17\"{var\"#14#16\"{cf_params, Dict{String, typeof(get_abs_neighborhood)}, Int64, Matrix{Float64}}, RatingsDataset, RatingsDataset}, Float64}}(1.5576336578096495,1.0,0.0,0.0), Dual{ForwardDiff.Tag{var\"#validation_mse#17\"{var\"#14#16\"{cf_params, Dict{String, typeof(get_abs_neighborhood)}, Int64, Matrix{Float64}}, RatingsDataset, RatingsDataset}, Float64}}(0.45010170494317203,0.0,1.0,0.0), Dual{ForwardDiff.Tag{var\"#validation_mse#17\"{var\"#14#16\"{cf_params, Dict{String, typeof(get_abs_neighborhood)}, Int64, Matrix{Float64}}, RatingsDataset, RatingsDataset}, Float64}}(1.8693119373492149,0.0,0.0,1.0)]\n",
      "\u001b[32mProgress: 100%|███████████████████████████| Time: 0:01:52 (28.38 ms/it)\u001b[39m\n",
      "\u001b[38;5;4m\u001b[1m[ \u001b[22m\u001b[39m\u001b[38;5;4m\u001b[1mDebug: \u001b[22m\u001b[39m20211231 20:19:57 loss: Dual{ForwardDiff.Tag{var\"#validation_mse#17\"{var\"#14#16\"{cf_params, Dict{String, typeof(get_abs_neighborhood)}, Int64, Matrix{Float64}}, RatingsDataset, RatingsDataset}, Float64}}(1.2493243275019106,4.148940368753182e-5,0.0007443554741310475,-2.0066584564717176e-5) β: Dual{ForwardDiff.Tag{var\"#validation_mse#17\"{var\"#14#16\"{cf_params, Dict{String, typeof(get_abs_neighborhood)}, Int64, Matrix{Float64}}, RatingsDataset, RatingsDataset}, Float64}}(0.21564398470578228,-0.009093987506912768,-0.26667963327416583,0.03929347836717548): λ ForwardDiff.Dual{ForwardDiff.Tag{var\"#validation_mse#17\"{var\"#14#16\"{cf_params, Dict{String, typeof(get_abs_neighborhood)}, Int64, Matrix{Float64}}, RatingsDataset, RatingsDataset}, Float64}, Float64, 3}[Dual{ForwardDiff.Tag{var\"#validation_mse#17\"{var\"#14#16\"{cf_params, Dict{String, typeof(get_abs_neighborhood)}, Int64, Matrix{Float64}}, RatingsDataset, RatingsDataset}, Float64}}(2.294570288795128,1.0,0.0,0.0), Dual{ForwardDiff.Tag{var\"#validation_mse#17\"{var\"#14#16\"{cf_params, Dict{String, typeof(get_abs_neighborhood)}, Int64, Matrix{Float64}}, RatingsDataset, RatingsDataset}, Float64}}(1.31122340970761,0.0,1.0,0.0), Dual{ForwardDiff.Tag{var\"#validation_mse#17\"{var\"#14#16\"{cf_params, Dict{String, typeof(get_abs_neighborhood)}, Int64, Matrix{Float64}}, RatingsDataset, RatingsDataset}, Float64}}(4.582044581708967,0.0,0.0,1.0)]\n",
      "\u001b[32mProgress: 100%|███████████████████████████| Time: 0:01:58 (29.88 ms/it)\u001b[39m\n",
      "\u001b[38;5;4m\u001b[1m[ \u001b[22m\u001b[39m\u001b[38;5;4m\u001b[1mDebug: \u001b[22m\u001b[39m20211231 20:22:01 loss: Dual{ForwardDiff.Tag{var\"#validation_mse#17\"{var\"#14#16\"{cf_params, Dict{String, typeof(get_abs_neighborhood)}, Int64, Matrix{Float64}}, RatingsDataset, RatingsDataset}, Float64}}(1.249008585260626,5.1406506762055254e-5,0.0003354297659462334,-6.126857044184568e-5) β: Dual{ForwardDiff.Tag{var\"#validation_mse#17\"{var\"#14#16\"{cf_params, Dict{String, typeof(get_abs_neighborhood)}, Int64, Matrix{Float64}}, RatingsDataset, RatingsDataset}, Float64}}(0.23899856165275082,-0.010337779985220768,-0.09632015109168061,0.06645721738564483): λ ForwardDiff.Dual{ForwardDiff.Tag{var\"#validation_mse#17\"{var\"#14#16\"{cf_params, Dict{String, typeof(get_abs_neighborhood)}, Int64, Matrix{Float64}}, RatingsDataset, RatingsDataset}, Float64}, Float64, 3}[Dual{ForwardDiff.Tag{var\"#validation_mse#17\"{var\"#14#16\"{cf_params, Dict{String, typeof(get_abs_neighborhood)}, Int64, Matrix{Float64}}, RatingsDataset, RatingsDataset}, Float64}}(1.7770863852466507,1.0,0.0,0.0), Dual{ForwardDiff.Tag{var\"#validation_mse#17\"{var\"#14#16\"{cf_params, Dict{String, typeof(get_abs_neighborhood)}, Int64, Matrix{Float64}}, RatingsDataset, RatingsDataset}, Float64}}(0.706535567530578,0.0,1.0,0.0), Dual{ForwardDiff.Tag{var\"#validation_mse#17\"{var\"#14#16\"{cf_params, Dict{String, typeof(get_abs_neighborhood)}, Int64, Matrix{Float64}}, RatingsDataset, RatingsDataset}, Float64}}(2.6771379465082945,0.0,0.0,1.0)]\n"
     ]
    },
    {
     "name": "stdout",
     "output_type": "stream",
     "text": [
      "     3     1.249009e+00     3.354298e-04\n",
      " * Current step size: 2.191161997978226\n",
      " * time: 1414.4304959774017\n",
      " * g(x): [5.1406506762055254e-5, 0.0003354297659462334, -6.126857044184568e-5]\n",
      " * x: [1.7770863852466507, 0.706535567530578, 2.6771379465082945]\n"
     ]
    },
    {
     "name": "stderr",
     "output_type": "stream",
     "text": [
      "\u001b[32mProgress: 100%|███████████████████████████| Time: 0:01:51 (28.10 ms/it)\u001b[39m\n",
      "\u001b[38;5;4m\u001b[1m[ \u001b[22m\u001b[39m\u001b[38;5;4m\u001b[1mDebug: \u001b[22m\u001b[39m20211231 20:23:58 loss: Dual{ForwardDiff.Tag{var\"#validation_mse#17\"{var\"#14#16\"{cf_params, Dict{String, typeof(get_abs_neighborhood)}, Int64, Matrix{Float64}}, RatingsDataset, RatingsDataset}, Float64}}(1.2489624570160045,6.235295942450753e-5,0.00013733307599103492,-5.602143128393924e-5) β: Dual{ForwardDiff.Tag{var\"#validation_mse#17\"{var\"#14#16\"{cf_params, Dict{String, typeof(get_abs_neighborhood)}, Int64, Matrix{Float64}}, RatingsDataset, RatingsDataset}, Float64}}(0.2641905628700294,-0.012048900904823762,-0.041919584723267934,0.0685120954892802): λ ForwardDiff.Dual{ForwardDiff.Tag{var\"#validation_mse#17\"{var\"#14#16\"{cf_params, Dict{String, typeof(get_abs_neighborhood)}, Int64, Matrix{Float64}}, RatingsDataset, RatingsDataset}, Float64}, Float64, 3}[Dual{ForwardDiff.Tag{var\"#validation_mse#17\"{var\"#14#16\"{cf_params, Dict{String, typeof(get_abs_neighborhood)}, Int64, Matrix{Float64}}, RatingsDataset, RatingsDataset}, Float64}}(1.79001668645533,1.0,0.0,0.0), Dual{ForwardDiff.Tag{var\"#validation_mse#17\"{var\"#14#16\"{cf_params, Dict{String, typeof(get_abs_neighborhood)}, Int64, Matrix{Float64}}, RatingsDataset, RatingsDataset}, Float64}}(0.5674898499476564,0.0,1.0,0.0), Dual{ForwardDiff.Tag{var\"#validation_mse#17\"{var\"#14#16\"{cf_params, Dict{String, typeof(get_abs_neighborhood)}, Int64, Matrix{Float64}}, RatingsDataset, RatingsDataset}, Float64}}(2.905801531411014,0.0,0.0,1.0)]\n",
      "\u001b[32mProgress: 100%|███████████████████████████| Time: 0:02:16 (34.26 ms/it)\u001b[39m\n",
      "\u001b[38;5;4m\u001b[1m[ \u001b[22m\u001b[39m\u001b[38;5;4m\u001b[1mDebug: \u001b[22m\u001b[39m20211231 20:26:19 loss: Dual{ForwardDiff.Tag{var\"#validation_mse#17\"{var\"#14#16\"{cf_params, Dict{String, typeof(get_abs_neighborhood)}, Int64, Matrix{Float64}}, RatingsDataset, RatingsDataset}, Float64}}(1.2491693391783236,6.102780467039872e-5,-0.0011200546712610486,-2.554215094205604e-5) β: Dual{ForwardDiff.Tag{var\"#validation_mse#17\"{var\"#14#16\"{cf_params, Dict{String, typeof(get_abs_neighborhood)}, Int64, Matrix{Float64}}, RatingsDataset, RatingsDataset}, Float64}}(0.24326422882104562,-0.00869970783456324,0.3562742298023141,0.048920231226222514): λ ForwardDiff.Dual{ForwardDiff.Tag{var\"#validation_mse#17\"{var\"#14#16\"{cf_params, Dict{String, typeof(get_abs_neighborhood)}, Int64, Matrix{Float64}}, RatingsDataset, RatingsDataset}, Float64}, Float64, 3}[Dual{ForwardDiff.Tag{var\"#validation_mse#17\"{var\"#14#16\"{cf_params, Dict{String, typeof(get_abs_neighborhood)}, Int64, Matrix{Float64}}, RatingsDataset, RatingsDataset}, Float64}}(1.8417378912900468,1.0,0.0,0.0), Dual{ForwardDiff.Tag{var\"#validation_mse#17\"{var\"#14#16\"{cf_params, Dict{String, typeof(get_abs_neighborhood)}, Int64, Matrix{Float64}}, RatingsDataset, RatingsDataset}, Float64}}(0.011306979615970048,0.0,1.0,0.0), Dual{ForwardDiff.Tag{var\"#validation_mse#17\"{var\"#14#16\"{cf_params, Dict{String, typeof(get_abs_neighborhood)}, Int64, Matrix{Float64}}, RatingsDataset, RatingsDataset}, Float64}}(3.8204558710218928,0.0,0.0,1.0)]\n",
      "\u001b[32mProgress: 100%|███████████████████████████| Time: 0:02:20 (35.43 ms/it)\u001b[39m\n",
      "\u001b[38;5;4m\u001b[1m[ \u001b[22m\u001b[39m\u001b[38;5;4m\u001b[1mDebug: \u001b[22m\u001b[39m20211231 20:28:46 loss: Dual{ForwardDiff.Tag{var\"#validation_mse#17\"{var\"#14#16\"{cf_params, Dict{String, typeof(get_abs_neighborhood)}, Int64, Matrix{Float64}}, RatingsDataset, RatingsDataset}, Float64}}(1.2489491405576447,6.779665998722926e-5,-2.6428060621099034e-5,-5.170062652621815e-5) β: Dual{ForwardDiff.Tag{var\"#validation_mse#17\"{var\"#14#16\"{cf_params, Dict{String, typeof(get_abs_neighborhood)}, Int64, Matrix{Float64}}, RatingsDataset, RatingsDataset}, Float64}}(0.27651544319940846,-0.012753563431308705,0.007861314501770779,0.06847802223487584): λ ForwardDiff.Dual{ForwardDiff.Tag{var\"#validation_mse#17\"{var\"#14#16\"{cf_params, Dict{String, typeof(get_abs_neighborhood)}, Int64, Matrix{Float64}}, RatingsDataset, RatingsDataset}, Float64}, Float64, 3}[Dual{ForwardDiff.Tag{var\"#validation_mse#17\"{var\"#14#16\"{cf_params, Dict{String, typeof(get_abs_neighborhood)}, Int64, Matrix{Float64}}, RatingsDataset, RatingsDataset}, Float64}}(1.7988649561203336,1.0,0.0,0.0), Dual{ForwardDiff.Tag{var\"#validation_mse#17\"{var\"#14#16\"{cf_params, Dict{String, typeof(get_abs_neighborhood)}, Int64, Matrix{Float64}}, RatingsDataset, RatingsDataset}, Float64}}(0.47234017129115335,0.0,1.0,0.0), Dual{ForwardDiff.Tag{var\"#validation_mse#17\"{var\"#14#16\"{cf_params, Dict{String, typeof(get_abs_neighborhood)}, Int64, Matrix{Float64}}, RatingsDataset, RatingsDataset}, Float64}}(3.062277164045745,0.0,0.0,1.0)]\n"
     ]
    },
    {
     "name": "stdout",
     "output_type": "stream",
     "text": [
      "     4     1.248949e+00     6.779666e-05\n",
      " * Current step size: 1.684304991987685\n",
      " * time: 1819.6409499645233\n",
      " * g(x): [6.779665998722926e-5, -2.6428060621099034e-5, -5.170062652621815e-5]\n",
      " * x: [1.7988649561203336, 0.47234017129115335, 3.062277164045745]\n"
     ]
    },
    {
     "name": "stderr",
     "output_type": "stream",
     "text": [
      "\u001b[32mProgress: 100%|███████████████████████████| Time: 0:02:20 (35.30 ms/it)\u001b[39m\n",
      "\u001b[38;5;4m\u001b[1m[ \u001b[22m\u001b[39m\u001b[38;5;4m\u001b[1mDebug: \u001b[22m\u001b[39m20211231 20:31:12 loss: Dual{ForwardDiff.Tag{var\"#validation_mse#17\"{var\"#14#16\"{cf_params, Dict{String, typeof(get_abs_neighborhood)}, Int64, Matrix{Float64}}, RatingsDataset, RatingsDataset}, Float64}}(1.2489284821542725,7.854287728539326e-5,-6.583923094568568e-5,-4.148174354828197e-5) β: Dual{ForwardDiff.Tag{var\"#validation_mse#17\"{var\"#14#16\"{cf_params, Dict{String, typeof(get_abs_neighborhood)}, Int64, Matrix{Float64}}, RatingsDataset, RatingsDataset}, Float64}}(0.3133769771953914,-0.015150816223574516,0.021718810680445337,0.06788572234028824): λ ForwardDiff.Dual{ForwardDiff.Tag{var\"#validation_mse#17\"{var\"#14#16\"{cf_params, Dict{String, typeof(get_abs_neighborhood)}, Int64, Matrix{Float64}}, RatingsDataset, RatingsDataset}, Float64}, Float64, 3}[Dual{ForwardDiff.Tag{var\"#validation_mse#17\"{var\"#14#16\"{cf_params, Dict{String, typeof(get_abs_neighborhood)}, Int64, Matrix{Float64}}, RatingsDataset, RatingsDataset}, Float64}}(1.8582619014055073,1.0,0.0,0.0), Dual{ForwardDiff.Tag{var\"#validation_mse#17\"{var\"#14#16\"{cf_params, Dict{String, typeof(get_abs_neighborhood)}, Int64, Matrix{Float64}}, RatingsDataset, RatingsDataset}, Float64}}(0.4558981000852751,0.0,1.0,0.0), Dual{ForwardDiff.Tag{var\"#validation_mse#17\"{var\"#14#16\"{cf_params, Dict{String, typeof(get_abs_neighborhood)}, Int64, Matrix{Float64}}, RatingsDataset, RatingsDataset}, Float64}}(3.618601199257246,0.0,0.0,1.0)]\n",
      "\u001b[32mProgress: 100%|███████████████████████████| Time: 0:02:01 (30.51 ms/it)\u001b[39m\n",
      "\u001b[38;5;4m\u001b[1m[ \u001b[22m\u001b[39m\u001b[38;5;4m\u001b[1mDebug: \u001b[22m\u001b[39m20211231 20:33:21 loss: Dual{ForwardDiff.Tag{var\"#validation_mse#17\"{var\"#14#16\"{cf_params, Dict{String, typeof(get_abs_neighborhood)}, Int64, Matrix{Float64}}, RatingsDataset, RatingsDataset}, Float64}}(1.2488955982285403,9.988931021802898e-5,-0.00022377195629174105,-1.9751943019881317e-5) β: Dual{ForwardDiff.Tag{var\"#validation_mse#17\"{var\"#14#16\"{cf_params, Dict{String, typeof(get_abs_neighborhood)}, Int64, Matrix{Float64}}, RatingsDataset, RatingsDataset}, Float64}}(0.45336874236574715,-0.022962079903622323,0.10379753066826035,0.0655464358082321): λ ForwardDiff.Dual{ForwardDiff.Tag{var\"#validation_mse#17\"{var\"#14#16\"{cf_params, Dict{String, typeof(get_abs_neighborhood)}, Int64, Matrix{Float64}}, RatingsDataset, RatingsDataset}, Float64}, Float64, 3}[Dual{ForwardDiff.Tag{var\"#validation_mse#17\"{var\"#14#16\"{cf_params, Dict{String, typeof(get_abs_neighborhood)}, Int64, Matrix{Float64}}, RatingsDataset, RatingsDataset}, Float64}}(2.095849682546202,1.0,0.0,0.0), Dual{ForwardDiff.Tag{var\"#validation_mse#17\"{var\"#14#16\"{cf_params, Dict{String, typeof(get_abs_neighborhood)}, Int64, Matrix{Float64}}, RatingsDataset, RatingsDataset}, Float64}}(0.390129815261762,0.0,1.0,0.0), Dual{ForwardDiff.Tag{var\"#validation_mse#17\"{var\"#14#16\"{cf_params, Dict{String, typeof(get_abs_neighborhood)}, Int64, Matrix{Float64}}, RatingsDataset, RatingsDataset}, Float64}}(5.843897340103251,0.0,0.0,1.0)]\n",
      "\u001b[32mProgress: 100%|███████████████████████████| Time: 0:02:06 (31.76 ms/it)\u001b[39m\n",
      "\u001b[38;5;4m\u001b[1m[ \u001b[22m\u001b[39m\u001b[38;5;4m\u001b[1mDebug: \u001b[22m\u001b[39m20211231 20:35:32 loss: Dual{ForwardDiff.Tag{var\"#validation_mse#17\"{var\"#14#16\"{cf_params, Dict{String, typeof(get_abs_neighborhood)}, Int64, Matrix{Float64}}, RatingsDataset, RatingsDataset}, Float64}}(1.249124216306267,5.8537807408354204e-5,-0.0010109642715753415,-1.849029354713e-6) β: Dual{ForwardDiff.Tag{var\"#validation_mse#17\"{var\"#14#16\"{cf_params, Dict{String, typeof(get_abs_neighborhood)}, Int64, Matrix{Float64}}, RatingsDataset, RatingsDataset}, Float64}}(0.8915552812621864,-0.027038442085692033,1.1123989327225927,0.04886956352902084): λ ForwardDiff.Dual{ForwardDiff.Tag{var\"#validation_mse#17\"{var\"#14#16\"{cf_params, Dict{String, typeof(get_abs_neighborhood)}, Int64, Matrix{Float64}}, RatingsDataset, RatingsDataset}, Float64}, Float64, 3}[Dual{ForwardDiff.Tag{var\"#validation_mse#17\"{var\"#14#16\"{cf_params, Dict{String, typeof(get_abs_neighborhood)}, Int64, Matrix{Float64}}, RatingsDataset, RatingsDataset}, Float64}}(3.283788588249675,1.0,0.0,0.0), Dual{ForwardDiff.Tag{var\"#validation_mse#17\"{var\"#14#16\"{cf_params, Dict{String, typeof(get_abs_neighborhood)}, Int64, Matrix{Float64}}, RatingsDataset, RatingsDataset}, Float64}}(0.061288391144196486,0.0,1.0,0.0), Dual{ForwardDiff.Tag{var\"#validation_mse#17\"{var\"#14#16\"{cf_params, Dict{String, typeof(get_abs_neighborhood)}, Int64, Matrix{Float64}}, RatingsDataset, RatingsDataset}, Float64}}(16.970378044333273,0.0,0.0,1.0)]\n",
      "\u001b[32mProgress: 100%|███████████████████████████| Time: 0:02:04 (31.24 ms/it)\u001b[39m\n",
      "\u001b[38;5;4m\u001b[1m[ \u001b[22m\u001b[39m\u001b[38;5;4m\u001b[1mDebug: \u001b[22m\u001b[39m20211231 20:37:41 loss: Dual{ForwardDiff.Tag{var\"#validation_mse#17\"{var\"#14#16\"{cf_params, Dict{String, typeof(get_abs_neighborhood)}, Int64, Matrix{Float64}}, RatingsDataset, RatingsDataset}, Float64}}(1.248895915541152,0.0001019506487642531,-0.00027649728040926195,-1.5948121401778896e-5) β: Dual{ForwardDiff.Tag{var\"#validation_mse#17\"{var\"#14#16\"{cf_params, Dict{String, typeof(get_abs_neighborhood)}, Int64, Matrix{Float64}}, RatingsDataset, RatingsDataset}, Float64}}(0.4975316446340948,-0.024938991809108118,0.1408124210270889,0.06472820938239011): λ ForwardDiff.Dual{ForwardDiff.Tag{var\"#validation_mse#17\"{var\"#14#16\"{cf_params, Dict{String, typeof(get_abs_neighborhood)}, Int64, Matrix{Float64}}, RatingsDataset, RatingsDataset}, Float64}, Float64, 3}[Dual{ForwardDiff.Tag{var\"#validation_mse#17\"{var\"#14#16\"{cf_params, Dict{String, typeof(get_abs_neighborhood)}, Int64, Matrix{Float64}}, RatingsDataset, RatingsDataset}, Float64}}(2.17579917282849,1.0,0.0,0.0), Dual{ForwardDiff.Tag{var\"#validation_mse#17\"{var\"#14#16\"{cf_params, Dict{String, typeof(get_abs_neighborhood)}, Int64, Matrix{Float64}}, RatingsDataset, RatingsDataset}, Float64}}(0.3679984547046868,0.0,1.0,0.0), Dual{ForwardDiff.Tag{var\"#validation_mse#17\"{var\"#14#16\"{cf_params, Dict{String, typeof(get_abs_neighborhood)}, Int64, Matrix{Float64}}, RatingsDataset, RatingsDataset}, Float64}}(6.592720749007535,0.0,0.0,1.0)]\n"
     ]
    },
    {
     "name": "stdout",
     "output_type": "stream",
     "text": [
      "     5     1.248896e+00     2.764973e-04\n",
      " * Current step size: 6.346020235526223\n",
      " * time: 2355.0543048381805\n",
      " * g(x): [0.0001019506487642531, -0.00027649728040926195, -1.5948121401778896e-5]\n",
      " * x: [2.17579917282849, 0.3679984547046868, 6.592720749007535]\n"
     ]
    },
    {
     "name": "stderr",
     "output_type": "stream",
     "text": [
      "\u001b[32mProgress: 100%|███████████████████████████| Time: 0:02:04 (31.41 ms/it)\u001b[39m\n",
      "\u001b[38;5;4m\u001b[1m[ \u001b[22m\u001b[39m\u001b[38;5;4m\u001b[1mDebug: \u001b[22m\u001b[39m20211231 20:39:52 loss: Dual{ForwardDiff.Tag{var\"#validation_mse#17\"{var\"#14#16\"{cf_params, Dict{String, typeof(get_abs_neighborhood)}, Int64, Matrix{Float64}}, RatingsDataset, RatingsDataset}, Float64}}(1.2488517498527187,0.0001118177932498389,-3.291547333005469e-5,-1.5389853148243096e-5) β: Dual{ForwardDiff.Tag{var\"#validation_mse#17\"{var\"#14#16\"{cf_params, Dict{String, typeof(get_abs_neighborhood)}, Int64, Matrix{Float64}}, RatingsDataset, RatingsDataset}, Float64}}(0.5554615693200311,-0.02884462835933461,0.012816571166982935,0.0665853706672162): λ ForwardDiff.Dual{ForwardDiff.Tag{var\"#validation_mse#17\"{var\"#14#16\"{cf_params, Dict{String, typeof(get_abs_neighborhood)}, Int64, Matrix{Float64}}, RatingsDataset, RatingsDataset}, Float64}, Float64, 3}[Dual{ForwardDiff.Tag{var\"#validation_mse#17\"{var\"#14#16\"{cf_params, Dict{String, typeof(get_abs_neighborhood)}, Int64, Matrix{Float64}}, RatingsDataset, RatingsDataset}, Float64}}(2.0374473307064056,1.0,0.0,0.0), Dual{ForwardDiff.Tag{var\"#validation_mse#17\"{var\"#14#16\"{cf_params, Dict{String, typeof(get_abs_neighborhood)}, Int64, Matrix{Float64}}, RatingsDataset, RatingsDataset}, Float64}}(0.4900782643760222,0.0,1.0,0.0), Dual{ForwardDiff.Tag{var\"#validation_mse#17\"{var\"#14#16\"{cf_params, Dict{String, typeof(get_abs_neighborhood)}, Int64, Matrix{Float64}}, RatingsDataset, RatingsDataset}, Float64}}(7.27179831366715,0.0,0.0,1.0)]\n",
      "\u001b[32mProgress: 100%|███████████████████████████| Time: 0:02:16 (34.47 ms/it)\u001b[39m\n",
      "\u001b[38;5;4m\u001b[1m[ \u001b[22m\u001b[39m\u001b[38;5;4m\u001b[1mDebug: \u001b[22m\u001b[39m20211231 20:42:14 loss: Dual{ForwardDiff.Tag{var\"#validation_mse#17\"{var\"#14#16\"{cf_params, Dict{String, typeof(get_abs_neighborhood)}, Int64, Matrix{Float64}}, RatingsDataset, RatingsDataset}, Float64}}(1.248932745873845,0.00010506364029236128,0.0007123468325742318,-1.1919868662900527e-5) β: Dual{ForwardDiff.Tag{var\"#validation_mse#17\"{var\"#14#16\"{cf_params, Dict{String, typeof(get_abs_neighborhood)}, Int64, Matrix{Float64}}, RatingsDataset, RatingsDataset}, Float64}}(0.6226093008601912,-0.02486934840495696,-0.4908794831721011,0.05685446111989075): λ ForwardDiff.Dual{ForwardDiff.Tag{var\"#validation_mse#17\"{var\"#14#16\"{cf_params, Dict{String, typeof(get_abs_neighborhood)}, Int64, Matrix{Float64}}, RatingsDataset, RatingsDataset}, Float64}, Float64, 3}[Dual{ForwardDiff.Tag{var\"#validation_mse#17\"{var\"#14#16\"{cf_params, Dict{String, typeof(get_abs_neighborhood)}, Int64, Matrix{Float64}}, RatingsDataset, RatingsDataset}, Float64}}(1.484039962218069,1.0,0.0,0.0), Dual{ForwardDiff.Tag{var\"#validation_mse#17\"{var\"#14#16\"{cf_params, Dict{String, typeof(get_abs_neighborhood)}, Int64, Matrix{Float64}}, RatingsDataset, RatingsDataset}, Float64}}(0.9783975030613641,0.0,1.0,0.0), Dual{ForwardDiff.Tag{var\"#validation_mse#17\"{var\"#14#16\"{cf_params, Dict{String, typeof(get_abs_neighborhood)}, Int64, Matrix{Float64}}, RatingsDataset, RatingsDataset}, Float64}}(9.988108572305606,0.0,0.0,1.0)]\n",
      "\u001b[32mProgress: 100%|███████████████████████████| Time: 0:02:11 (33.01 ms/it)\u001b[39m\n",
      "\u001b[38;5;4m\u001b[1m[ \u001b[22m\u001b[39m\u001b[38;5;4m\u001b[1mDebug: \u001b[22m\u001b[39m20211231 20:44:31 loss: Dual{ForwardDiff.Tag{var\"#validation_mse#17\"{var\"#14#16\"{cf_params, Dict{String, typeof(get_abs_neighborhood)}, Int64, Matrix{Float64}}, RatingsDataset, RatingsDataset}, Float64}}(1.248835524271919,0.00011873659856562389,0.0002466068866622391,-1.4456494895748717e-5) β: Dual{ForwardDiff.Tag{var\"#validation_mse#17\"{var\"#14#16\"{cf_params, Dict{String, typeof(get_abs_neighborhood)}, Int64, Matrix{Float64}}, RatingsDataset, RatingsDataset}, Float64}}(0.6069731163499713,-0.03172527257912113,-0.15943846009552132,0.06617156738264032): λ ForwardDiff.Dual{ForwardDiff.Tag{var\"#validation_mse#17\"{var\"#14#16\"{cf_params, Dict{String, typeof(get_abs_neighborhood)}, Int64, Matrix{Float64}}, RatingsDataset, RatingsDataset}, Float64}, Float64, 3}[Dual{ForwardDiff.Tag{var\"#validation_mse#17\"{var\"#14#16\"{cf_params, Dict{String, typeof(get_abs_neighborhood)}, Int64, Matrix{Float64}}, RatingsDataset, RatingsDataset}, Float64}}(1.8616937914845646,1.0,0.0,0.0), Dual{ForwardDiff.Tag{var\"#validation_mse#17\"{var\"#14#16\"{cf_params, Dict{String, typeof(get_abs_neighborhood)}, Int64, Matrix{Float64}}, RatingsDataset, RatingsDataset}, Float64}}(0.645160829871123,0.0,1.0,0.0), Dual{ForwardDiff.Tag{var\"#validation_mse#17\"{var\"#14#16\"{cf_params, Dict{String, typeof(get_abs_neighborhood)}, Int64, Matrix{Float64}}, RatingsDataset, RatingsDataset}, Float64}}(8.134456038815175,0.0,0.0,1.0)]\n"
     ]
    },
    {
     "name": "stdout",
     "output_type": "stream",
     "text": [
      "     6     1.248836e+00     2.466069e-04\n",
      " * Current step size: 2.2703375432236967\n",
      " * time: 2764.6452720165253\n",
      " * g(x): [0.00011873659856562389, 0.0002466068866622391, -1.4456494895748717e-5]\n",
      " * x: [1.8616937914845646, 0.645160829871123, 8.134456038815175]\n"
     ]
    },
    {
     "name": "stderr",
     "output_type": "stream",
     "text": [
      "\u001b[32mProgress: 100%|███████████████████████████| Time: 0:02:07 (32.10 ms/it)\u001b[39m\n",
      "\u001b[38;5;4m\u001b[1m[ \u001b[22m\u001b[39m\u001b[38;5;4m\u001b[1mDebug: \u001b[22m\u001b[39m20211231 20:46:45 loss: Dual{ForwardDiff.Tag{var\"#validation_mse#17\"{var\"#14#16\"{cf_params, Dict{String, typeof(get_abs_neighborhood)}, Int64, Matrix{Float64}}, RatingsDataset, RatingsDataset}, Float64}}(1.2487913252777854,0.0001247984861722441,0.00023567483955693307,-1.4268245367372861e-5) β: Dual{ForwardDiff.Tag{var\"#validation_mse#17\"{var\"#14#16\"{cf_params, Dict{String, typeof(get_abs_neighborhood)}, Int64, Matrix{Float64}}, RatingsDataset, RatingsDataset}, Float64}}(0.6632926820682344,-0.029937573864417685,-0.15796784143447098,0.06707386736650749): λ ForwardDiff.Dual{ForwardDiff.Tag{var\"#validation_mse#17\"{var\"#14#16\"{cf_params, Dict{String, typeof(get_abs_neighborhood)}, Int64, Matrix{Float64}}, RatingsDataset, RatingsDataset}, Float64}, Float64, 3}[Dual{ForwardDiff.Tag{var\"#validation_mse#17\"{var\"#14#16\"{cf_params, Dict{String, typeof(get_abs_neighborhood)}, Int64, Matrix{Float64}}, RatingsDataset, RatingsDataset}, Float64}}(1.6030312520126755,1.0,0.0,0.0), Dual{ForwardDiff.Tag{var\"#validation_mse#17\"{var\"#14#16\"{cf_params, Dict{String, typeof(get_abs_neighborhood)}, Int64, Matrix{Float64}}, RatingsDataset, RatingsDataset}, Float64}}(0.6347101545480274,0.0,1.0,0.0), Dual{ForwardDiff.Tag{var\"#validation_mse#17\"{var\"#14#16\"{cf_params, Dict{String, typeof(get_abs_neighborhood)}, Int64, Matrix{Float64}}, RatingsDataset, RatingsDataset}, Float64}}(8.833311073240983,0.0,0.0,1.0)]\n",
      "\u001b[32mProgress: 100%|███████████████████████████| Time: 0:01:57 (29.48 ms/it)\u001b[39m\n",
      "\u001b[38;5;4m\u001b[1m[ \u001b[22m\u001b[39m\u001b[38;5;4m\u001b[1mDebug: \u001b[22m\u001b[39m20211231 20:48:48 loss: Dual{ForwardDiff.Tag{var\"#validation_mse#17\"{var\"#14#16\"{cf_params, Dict{String, typeof(get_abs_neighborhood)}, Int64, Matrix{Float64}}, RatingsDataset, RatingsDataset}, Float64}}(1.248662432667183,-4.763498356668091e-5,0.00013468735543283242,-1.389284305161484e-5) β: Dual{ForwardDiff.Tag{var\"#validation_mse#17\"{var\"#14#16\"{cf_params, Dict{String, typeof(get_abs_neighborhood)}, Int64, Matrix{Float64}}, RatingsDataset, RatingsDataset}, Float64}}(0.8424322723589479,0.10995910206071752,-0.08550264499721356,0.06484220063056713): λ ForwardDiff.Dual{ForwardDiff.Tag{var\"#validation_mse#17\"{var\"#14#16\"{cf_params, Dict{String, typeof(get_abs_neighborhood)}, Int64, Matrix{Float64}}, RatingsDataset, RatingsDataset}, Float64}, Float64, 3}[Dual{ForwardDiff.Tag{var\"#validation_mse#17\"{var\"#14#16\"{cf_params, Dict{String, typeof(get_abs_neighborhood)}, Int64, Matrix{Float64}}, RatingsDataset, RatingsDataset}, Float64}}(0.5683810941251188,1.0,0.0,0.0), Dual{ForwardDiff.Tag{var\"#validation_mse#17\"{var\"#14#16\"{cf_params, Dict{String, typeof(get_abs_neighborhood)}, Int64, Matrix{Float64}}, RatingsDataset, RatingsDataset}, Float64}}(0.592907453255645,0.0,1.0,0.0), Dual{ForwardDiff.Tag{var\"#validation_mse#17\"{var\"#14#16\"{cf_params, Dict{String, typeof(get_abs_neighborhood)}, Int64, Matrix{Float64}}, RatingsDataset, RatingsDataset}, Float64}}(11.628731210944213,0.0,0.0,1.0)]\n",
      "\u001b[32mProgress: 100%|███████████████████████████| Time: 0:02:23 (36.15 ms/it)\u001b[39m\n",
      "\u001b[38;5;4m\u001b[1m[ \u001b[22m\u001b[39m\u001b[38;5;4m\u001b[1mDebug: \u001b[22m\u001b[39m20211231 20:51:16 loss: Dual{ForwardDiff.Tag{var\"#validation_mse#17\"{var\"#14#16\"{cf_params, Dict{String, typeof(get_abs_neighborhood)}, Int64, Matrix{Float64}}, RatingsDataset, RatingsDataset}, Float64}}(1.248662475290679,-3.5613809379851626e-5,0.00013903380890399963,-1.395439125722696e-5) β: Dual{ForwardDiff.Tag{var\"#validation_mse#17\"{var\"#14#16\"{cf_params, Dict{String, typeof(get_abs_neighborhood)}, Int64, Matrix{Float64}}, RatingsDataset, RatingsDataset}, Float64}}(0.8404375265201122,0.10141719223455117,-0.08920522305730168,0.06515394880202482): λ ForwardDiff.Dual{ForwardDiff.Tag{var\"#validation_mse#17\"{var\"#14#16\"{cf_params, Dict{String, typeof(get_abs_neighborhood)}, Int64, Matrix{Float64}}, RatingsDataset, RatingsDataset}, Float64}, Float64, 3}[Dual{ForwardDiff.Tag{var\"#validation_mse#17\"{var\"#14#16\"{cf_params, Dict{String, typeof(get_abs_neighborhood)}, Int64, Matrix{Float64}}, RatingsDataset, RatingsDataset}, Float64}}(0.5955256423698663,1.0,0.0,0.0), Dual{ForwardDiff.Tag{var\"#validation_mse#17\"{var\"#14#16\"{cf_params, Dict{String, typeof(get_abs_neighborhood)}, Int64, Matrix{Float64}}, RatingsDataset, RatingsDataset}, Float64}}(0.5940041673800681,0.0,1.0,0.0), Dual{ForwardDiff.Tag{var\"#validation_mse#17\"{var\"#14#16\"{cf_params, Dict{String, typeof(get_abs_neighborhood)}, Int64, Matrix{Float64}}, RatingsDataset, RatingsDataset}, Float64}}(11.55539200907607,0.0,0.0,1.0)]\n"
     ]
    },
    {
     "name": "stdout",
     "output_type": "stream",
     "text": [
      "     7     1.248662e+00     1.390338e-04\n",
      " * Current step size: 4.895058061750386\n",
      " * time: 3169.7604818344116\n",
      " * g(x): [-3.5613809379851626e-5, 0.00013903380890399963, -1.395439125722696e-5]\n",
      " * x: [0.5955256423698663, 0.5940041673800681, 11.55539200907607]\n"
     ]
    },
    {
     "name": "stderr",
     "output_type": "stream",
     "text": [
      "\u001b[32mProgress: 100%|███████████████████████████| Time: 0:02:11 (33.04 ms/it)\u001b[39m\n",
      "\u001b[38;5;4m\u001b[1m[ \u001b[22m\u001b[39m\u001b[38;5;4m\u001b[1mDebug: \u001b[22m\u001b[39m20211231 20:53:34 loss: Dual{ForwardDiff.Tag{var\"#validation_mse#17\"{var\"#14#16\"{cf_params, Dict{String, typeof(get_abs_neighborhood)}, Int64, Matrix{Float64}}, RatingsDataset, RatingsDataset}, Float64}}(1.2486322778052177,-3.148513067641967e-5,-0.00010589545977769636,-9.469208100536068e-6) β: Dual{ForwardDiff.Tag{var\"#validation_mse#17\"{var\"#14#16\"{cf_params, Dict{String, typeof(get_abs_neighborhood)}, Int64, Matrix{Float64}}, RatingsDataset, RatingsDataset}, Float64}}(0.9990776177899411,0.13304954884453743,0.1046428381386058,0.06418477231730974): λ ForwardDiff.Dual{ForwardDiff.Tag{var\"#validation_mse#17\"{var\"#14#16\"{cf_params, Dict{String, typeof(get_abs_neighborhood)}, Int64, Matrix{Float64}}, RatingsDataset, RatingsDataset}, Float64}, Float64, 3}[Dual{ForwardDiff.Tag{var\"#validation_mse#17\"{var\"#14#16\"{cf_params, Dict{String, typeof(get_abs_neighborhood)}, Int64, Matrix{Float64}}, RatingsDataset, RatingsDataset}, Float64}}(0.6043822359973514,1.0,0.0,0.0), Dual{ForwardDiff.Tag{var\"#validation_mse#17\"{var\"#14#16\"{cf_params, Dict{String, typeof(get_abs_neighborhood)}, Int64, Matrix{Float64}}, RatingsDataset, RatingsDataset}, Float64}}(0.5019641633366041,0.0,1.0,0.0), Dual{ForwardDiff.Tag{var\"#validation_mse#17\"{var\"#14#16\"{cf_params, Dict{String, typeof(get_abs_neighborhood)}, Int64, Matrix{Float64}}, RatingsDataset, RatingsDataset}, Float64}}(13.990159973816871,0.0,0.0,1.0)]\n",
      "\u001b[32mProgress: 100%|███████████████████████████| Time: 0:02:27 (37.24 ms/it)\u001b[39m\n",
      "\u001b[38;5;4m\u001b[1m[ \u001b[22m\u001b[39m\u001b[38;5;4m\u001b[1mDebug: \u001b[22m\u001b[39m20211231 20:56:10 loss: Dual{ForwardDiff.Tag{var\"#validation_mse#17\"{var\"#14#16\"{cf_params, Dict{String, typeof(get_abs_neighborhood)}, Int64, Matrix{Float64}}, RatingsDataset, RatingsDataset}, Float64}}(1.2488279353936838,-6.564448240145789e-5,-0.0012184366149636304,-1.592597338548129e-6) β: Dual{ForwardDiff.Tag{var\"#validation_mse#17\"{var\"#14#16\"{cf_params, Dict{String, typeof(get_abs_neighborhood)}, Int64, Matrix{Float64}}, RatingsDataset, RatingsDataset}, Float64}}(1.2931945187850789,0.2696573643369941,1.5387141004436486,0.04891045132523443): λ ForwardDiff.Dual{ForwardDiff.Tag{var\"#validation_mse#17\"{var\"#14#16\"{cf_params, Dict{String, typeof(get_abs_neighborhood)}, Int64, Matrix{Float64}}, RatingsDataset, RatingsDataset}, Float64}, Float64, 3}[Dual{ForwardDiff.Tag{var\"#validation_mse#17\"{var\"#14#16\"{cf_params, Dict{String, typeof(get_abs_neighborhood)}, Int64, Matrix{Float64}}, RatingsDataset, RatingsDataset}, Float64}}(0.6398086105072922,1.0,0.0,0.0), Dual{ForwardDiff.Tag{var\"#validation_mse#17\"{var\"#14#16\"{cf_params, Dict{String, typeof(get_abs_neighborhood)}, Int64, Matrix{Float64}}, RatingsDataset, RatingsDataset}, Float64}}(0.13380414716274774,0.0,1.0,0.0), Dual{ForwardDiff.Tag{var\"#validation_mse#17\"{var\"#14#16\"{cf_params, Dict{String, typeof(get_abs_neighborhood)}, Int64, Matrix{Float64}}, RatingsDataset, RatingsDataset}, Float64}}(23.72923183278008,0.0,0.0,1.0)]\n",
      "\u001b[32mProgress: 100%|███████████████████████████| Time: 0:02:37 (39.71 ms/it)\u001b[39m\n",
      "\u001b[38;5;4m\u001b[1m[ \u001b[22m\u001b[39m\u001b[38;5;4m\u001b[1mDebug: \u001b[22m\u001b[39m20211231 20:58:56 loss: Dual{ForwardDiff.Tag{var\"#validation_mse#17\"{var\"#14#16\"{cf_params, Dict{String, typeof(get_abs_neighborhood)}, Int64, Matrix{Float64}}, RatingsDataset, RatingsDataset}, Float64}}(1.2486294606188817,-3.199419520103909e-5,-0.000224084510336601,-7.952374145435251e-6) β: Dual{ForwardDiff.Tag{var\"#validation_mse#17\"{var\"#14#16\"{cf_params, Dict{String, typeof(get_abs_neighborhood)}, Int64, Matrix{Float64}}, RatingsDataset, RatingsDataset}, Float64}}(1.0626574354468448,0.14850513271382673,0.2176224398001076,0.06336987532566232): λ ForwardDiff.Dual{ForwardDiff.Tag{var\"#validation_mse#17\"{var\"#14#16\"{cf_params, Dict{String, typeof(get_abs_neighborhood)}, Int64, Matrix{Float64}}, RatingsDataset, RatingsDataset}, Float64}, Float64, 3}[Dual{ForwardDiff.Tag{var\"#validation_mse#17\"{var\"#14#16\"{cf_params, Dict{String, typeof(get_abs_neighborhood)}, Int64, Matrix{Float64}}, RatingsDataset, RatingsDataset}, Float64}}(0.6083514294005516,1.0,0.0,0.0), Dual{ForwardDiff.Tag{var\"#validation_mse#17\"{var\"#14#16\"{cf_params, Dict{String, typeof(get_abs_neighborhood)}, Int64, Matrix{Float64}}, RatingsDataset, RatingsDataset}, Float64}}(0.4607152823056283,0.0,1.0,0.0), Dual{ForwardDiff.Tag{var\"#validation_mse#17\"{var\"#14#16\"{cf_params, Dict{String, typeof(get_abs_neighborhood)}, Int64, Matrix{Float64}}, RatingsDataset, RatingsDataset}, Float64}}(15.081331743737671,0.0,0.0,1.0)]\n"
     ]
    },
    {
     "name": "stdout",
     "output_type": "stream",
     "text": [
      "     8     1.248629e+00     2.240845e-04\n",
      " * Current step size: 1.4481625295398375\n",
      " * time: 3629.8233280181885\n",
      " * g(x): [-3.199419520103909e-5, -0.000224084510336601, -7.952374145435251e-6]\n",
      " * x: [0.6083514294005516, 0.4607152823056283, 15.081331743737671]\n"
     ]
    },
    {
     "name": "stderr",
     "output_type": "stream",
     "text": [
      "\u001b[32mProgress: 100%|███████████████████████████| Time: 0:02:41 (40.71 ms/it)\u001b[39m\n",
      "\u001b[38;5;4m\u001b[1m[ \u001b[22m\u001b[39m\u001b[38;5;4m\u001b[1mDebug: \u001b[22m\u001b[39m20211231 21:01:46 loss: Dual{ForwardDiff.Tag{var\"#validation_mse#17\"{var\"#14#16\"{cf_params, Dict{String, typeof(get_abs_neighborhood)}, Int64, Matrix{Float64}}, RatingsDataset, RatingsDataset}, Float64}}(1.2485993908330089,1.1376946225050339e-5,-8.952703562959929e-5,-5.881035268360985e-6) β: Dual{ForwardDiff.Tag{var\"#validation_mse#17\"{var\"#14#16\"{cf_params, Dict{String, typeof(get_abs_neighborhood)}, Int64, Matrix{Float64}}, RatingsDataset, RatingsDataset}, Float64}}(1.2767838976110473,0.14642645681928848,0.10603827520262155,0.0644623692118186): λ ForwardDiff.Dual{ForwardDiff.Tag{var\"#validation_mse#17\"{var\"#14#16\"{cf_params, Dict{String, typeof(get_abs_neighborhood)}, Int64, Matrix{Float64}}, RatingsDataset, RatingsDataset}, Float64}, Float64, 3}[Dual{ForwardDiff.Tag{var\"#validation_mse#17\"{var\"#14#16\"{cf_params, Dict{String, typeof(get_abs_neighborhood)}, Int64, Matrix{Float64}}, RatingsDataset, RatingsDataset}, Float64}}(0.685897531018356,1.0,0.0,0.0), Dual{ForwardDiff.Tag{var\"#validation_mse#17\"{var\"#14#16\"{cf_params, Dict{String, typeof(get_abs_neighborhood)}, Int64, Matrix{Float64}}, RatingsDataset, RatingsDataset}, Float64}}(0.5154201659456086,0.0,1.0,0.0), Dual{ForwardDiff.Tag{var\"#validation_mse#17\"{var\"#14#16\"{cf_params, Dict{String, typeof(get_abs_neighborhood)}, Int64, Matrix{Float64}}, RatingsDataset, RatingsDataset}, Float64}}(18.1079186839717,0.0,0.0,1.0)]\n",
      "\u001b[32mProgress: 100%|███████████████████████████| Time: 0:02:55 (44.26 ms/it)\u001b[39m\n",
      "\u001b[38;5;4m\u001b[1m[ \u001b[22m\u001b[39m\u001b[38;5;4m\u001b[1mDebug: \u001b[22m\u001b[39m20211231 21:04:50 loss: Dual{ForwardDiff.Tag{var\"#validation_mse#17\"{var\"#14#16\"{cf_params, Dict{String, typeof(get_abs_neighborhood)}, Int64, Matrix{Float64}}, RatingsDataset, RatingsDataset}, Float64}}(1.248616121816354,0.0001310789529230958,0.0004110736543794899,-2.3339700027696174e-6) β: Dual{ForwardDiff.Tag{var\"#validation_mse#17\"{var\"#14#16\"{cf_params, Dict{String, typeof(get_abs_neighborhood)}, Int64, Matrix{Float64}}, RatingsDataset, RatingsDataset}, Float64}}(2.03904158577751,0.06088745876818279,-0.728623963943265,0.0642401559637599): λ ForwardDiff.Dual{ForwardDiff.Tag{var\"#validation_mse#17\"{var\"#14#16\"{cf_params, Dict{String, typeof(get_abs_neighborhood)}, Int64, Matrix{Float64}}, RatingsDataset, RatingsDataset}, Float64}, Float64, 3}[Dual{ForwardDiff.Tag{var\"#validation_mse#17\"{var\"#14#16\"{cf_params, Dict{String, typeof(get_abs_neighborhood)}, Int64, Matrix{Float64}}, RatingsDataset, RatingsDataset}, Float64}}(0.9960819374895735,1.0,0.0,0.0), Dual{ForwardDiff.Tag{var\"#validation_mse#17\"{var\"#14#16\"{cf_params, Dict{String, typeof(get_abs_neighborhood)}, Int64, Matrix{Float64}}, RatingsDataset, RatingsDataset}, Float64}}(0.7342397005055299,0.0,1.0,0.0), Dual{ForwardDiff.Tag{var\"#validation_mse#17\"{var\"#14#16\"{cf_params, Dict{String, typeof(get_abs_neighborhood)}, Int64, Matrix{Float64}}, RatingsDataset, RatingsDataset}, Float64}}(30.21426644490782,0.0,0.0,1.0)]\n",
      "\u001b[32mProgress: 100%|███████████████████████████| Time: 0:03:01 (45.77 ms/it)\u001b[39m\n",
      "\u001b[38;5;4m\u001b[1m[ \u001b[22m\u001b[39m\u001b[38;5;4m\u001b[1mDebug: \u001b[22m\u001b[39m20211231 21:07:58 loss: Dual{ForwardDiff.Tag{var\"#validation_mse#17\"{var\"#14#16\"{cf_params, Dict{String, typeof(get_abs_neighborhood)}, Int64, Matrix{Float64}}, RatingsDataset, RatingsDataset}, Float64}}(1.2485834861073963,7.851281347886596e-5,0.00015583698135044363,-3.6957206637036584e-6) β: Dual{ForwardDiff.Tag{var\"#validation_mse#17\"{var\"#14#16\"{cf_params, Dict{String, typeof(get_abs_neighborhood)}, Int64, Matrix{Float64}}, RatingsDataset, RatingsDataset}, Float64}}(1.653919683410977,0.11826986230723077,-0.21430746726459646,0.06530654409719067): λ ForwardDiff.Dual{ForwardDiff.Tag{var\"#validation_mse#17\"{var\"#14#16\"{cf_params, Dict{String, typeof(get_abs_neighborhood)}, Int64, Matrix{Float64}}, RatingsDataset, RatingsDataset}, Float64}, Float64, 3}[Dual{ForwardDiff.Tag{var\"#validation_mse#17\"{var\"#14#16\"{cf_params, Dict{String, typeof(get_abs_neighborhood)}, Int64, Matrix{Float64}}, RatingsDataset, RatingsDataset}, Float64}}(0.8286432648480758,1.0,0.0,0.0), Dual{ForwardDiff.Tag{var\"#validation_mse#17\"{var\"#14#16\"{cf_params, Dict{String, typeof(get_abs_neighborhood)}, Int64, Matrix{Float64}}, RatingsDataset, RatingsDataset}, Float64}}(0.6161201185717962,0.0,1.0,0.0), Dual{ForwardDiff.Tag{var\"#validation_mse#17\"{var\"#14#16\"{cf_params, Dict{String, typeof(get_abs_neighborhood)}, Int64, Matrix{Float64}}, RatingsDataset, RatingsDataset}, Float64}}(23.6792158190937,0.0,0.0,1.0)]\n"
     ]
    },
    {
     "name": "stdout",
     "output_type": "stream",
     "text": [
      "     9     1.248583e+00     1.558370e-04\n",
      " * Current step size: 2.8407854276577296\n",
      " * time: 4172.222419977188\n",
      " * g(x): [7.851281347886596e-5, 0.00015583698135044363, -3.6957206637036584e-6]\n",
      " * x: [0.8286432648480758, 0.6161201185717962, 23.6792158190937]\n"
     ]
    },
    {
     "name": "stderr",
     "output_type": "stream",
     "text": [
      "\u001b[32mProgress: 100%|███████████████████████████| Time: 0:02:41 (40.57 ms/it)\u001b[39m\n",
      "\u001b[38;5;4m\u001b[1m[ \u001b[22m\u001b[39m\u001b[38;5;4m\u001b[1mDebug: \u001b[22m\u001b[39m20211231 21:10:46 loss: Dual{ForwardDiff.Tag{var\"#validation_mse#17\"{var\"#14#16\"{cf_params, Dict{String, typeof(get_abs_neighborhood)}, Int64, Matrix{Float64}}, RatingsDataset, RatingsDataset}, Float64}}(1.2485851874132194,-0.0001829029040905678,0.00018548559853292718,-2.230820020518931e-6) β: Dual{ForwardDiff.Tag{var\"#validation_mse#17\"{var\"#14#16\"{cf_params, Dict{String, typeof(get_abs_neighborhood)}, Int64, Matrix{Float64}}, RatingsDataset, RatingsDataset}, Float64}}(1.9429588659203474,0.5709422766504345,-0.28062869700885346,0.05756769316418938): λ ForwardDiff.Dual{ForwardDiff.Tag{var\"#validation_mse#17\"{var\"#14#16\"{cf_params, Dict{String, typeof(get_abs_neighborhood)}, Int64, Matrix{Float64}}, RatingsDataset, RatingsDataset}, Float64}, Float64, 3}[Dual{ForwardDiff.Tag{var\"#validation_mse#17\"{var\"#14#16\"{cf_params, Dict{String, typeof(get_abs_neighborhood)}, Int64, Matrix{Float64}}, RatingsDataset, RatingsDataset}, Float64}}(0.3204063834687596,1.0,0.0,0.0), Dual{ForwardDiff.Tag{var\"#validation_mse#17\"{var\"#14#16\"{cf_params, Dict{String, typeof(get_abs_neighborhood)}, Int64, Matrix{Float64}}, RatingsDataset, RatingsDataset}, Float64}}(0.6555919044419348,0.0,1.0,0.0), Dual{ForwardDiff.Tag{var\"#validation_mse#17\"{var\"#14#16\"{cf_params, Dict{String, typeof(get_abs_neighborhood)}, Int64, Matrix{Float64}}, RatingsDataset, RatingsDataset}, Float64}}(31.062805606850098,0.0,0.0,1.0)]\n",
      "\u001b[32mProgress: 100%|███████████████████████████| Time: 0:02:44 (41.40 ms/it)\u001b[39m\n",
      "\u001b[38;5;4m\u001b[1m[ \u001b[22m\u001b[39m\u001b[38;5;4m\u001b[1mDebug: \u001b[22m\u001b[39m20211231 21:13:37 loss: Dual{ForwardDiff.Tag{var\"#validation_mse#17\"{var\"#14#16\"{cf_params, Dict{String, typeof(get_abs_neighborhood)}, Int64, Matrix{Float64}}, RatingsDataset, RatingsDataset}, Float64}}(1.2485669532136847,-3.2699976958272855e-6,0.00017123039853818328,-3.0633759729496885e-6) β: Dual{ForwardDiff.Tag{var\"#validation_mse#17\"{var\"#14#16\"{cf_params, Dict{String, typeof(get_abs_neighborhood)}, Int64, Matrix{Float64}}, RatingsDataset, RatingsDataset}, Float64}}(1.8101908034259642,0.26304288517756025,-0.24848180903292041,0.06294508022383254): λ ForwardDiff.Dual{ForwardDiff.Tag{var\"#validation_mse#17\"{var\"#14#16\"{cf_params, Dict{String, typeof(get_abs_neighborhood)}, Int64, Matrix{Float64}}, RatingsDataset, RatingsDataset}, Float64}, Float64, 3}[Dual{ForwardDiff.Tag{var\"#validation_mse#17\"{var\"#14#16\"{cf_params, Dict{String, typeof(get_abs_neighborhood)}, Int64, Matrix{Float64}}, RatingsDataset, RatingsDataset}, Float64}}(0.6144692869134614,1.0,0.0,0.0), Dual{ForwardDiff.Tag{var\"#validation_mse#17\"{var\"#14#16\"{cf_params, Dict{String, typeof(get_abs_neighborhood)}, Int64, Matrix{Float64}}, RatingsDataset, RatingsDataset}, Float64}}(0.6327537587221289,0.0,1.0,0.0), Dual{ForwardDiff.Tag{var\"#validation_mse#17\"{var\"#14#16\"{cf_params, Dict{String, typeof(get_abs_neighborhood)}, Int64, Matrix{Float64}}, RatingsDataset, RatingsDataset}, Float64}}(26.79070350174565,0.0,0.0,1.0)]\n"
     ]
    },
    {
     "name": "stdout",
     "output_type": "stream",
     "text": [
      "    10     1.248567e+00     1.712304e-04\n",
      " * Current step size: 0.4214058164243464\n",
      " * time: 4510.867582798004\n",
      " * g(x): [-3.2699976958272855e-6, 0.00017123039853818328, -3.0633759729496885e-6]\n",
      " * x: [0.6144692869134614, 0.6327537587221289, 26.79070350174565]\n"
     ]
    },
    {
     "name": "stderr",
     "output_type": "stream",
     "text": [
      "\u001b[32mProgress: 100%|███████████████████████████| Time: 0:02:46 (41.84 ms/it)\u001b[39m\n",
      "\u001b[38;5;4m\u001b[1m[ \u001b[22m\u001b[39m\u001b[38;5;4m\u001b[1mDebug: \u001b[22m\u001b[39m20211231 21:16:29 loss: Dual{ForwardDiff.Tag{var\"#validation_mse#17\"{var\"#14#16\"{cf_params, Dict{String, typeof(get_abs_neighborhood)}, Int64, Matrix{Float64}}, RatingsDataset, RatingsDataset}, Float64}}(1.248549763684673,-3.0407841395350178e-5,2.8410631511683e-5,-2.019753913659064e-6) β: Dual{ForwardDiff.Tag{var\"#validation_mse#17\"{var\"#14#16\"{cf_params, Dict{String, typeof(get_abs_neighborhood)}, Int64, Matrix{Float64}}, RatingsDataset, RatingsDataset}, Float64}}(2.1278286584504698,0.3766195693048594,-0.044280348192189026,0.06208019737996626): λ ForwardDiff.Dual{ForwardDiff.Tag{var\"#validation_mse#17\"{var\"#14#16\"{cf_params, Dict{String, typeof(get_abs_neighborhood)}, Int64, Matrix{Float64}}, RatingsDataset, RatingsDataset}, Float64}, Float64, 3}[Dual{ForwardDiff.Tag{var\"#validation_mse#17\"{var\"#14#16\"{cf_params, Dict{String, typeof(get_abs_neighborhood)}, Int64, Matrix{Float64}}, RatingsDataset, RatingsDataset}, Float64}}(0.572097931674041,1.0,0.0,0.0), Dual{ForwardDiff.Tag{var\"#validation_mse#17\"{var\"#14#16\"{cf_params, Dict{String, typeof(get_abs_neighborhood)}, Int64, Matrix{Float64}}, RatingsDataset, RatingsDataset}, Float64}}(0.5837848157935326,0.0,1.0,0.0), Dual{ForwardDiff.Tag{var\"#validation_mse#17\"{var\"#14#16\"{cf_params, Dict{String, typeof(get_abs_neighborhood)}, Int64, Matrix{Float64}}, RatingsDataset, RatingsDataset}, Float64}}(31.964581343292032,0.0,0.0,1.0)]\n",
      "\u001b[32mProgress: 100%|███████████████████████████| Time: 0:02:40 (40.30 ms/it)\u001b[39m\n",
      "\u001b[38;5;4m\u001b[1m[ \u001b[22m\u001b[39m\u001b[38;5;4m\u001b[1mDebug: \u001b[22m\u001b[39m20211231 21:19:15 loss: Dual{ForwardDiff.Tag{var\"#validation_mse#17\"{var\"#14#16\"{cf_params, Dict{String, typeof(get_abs_neighborhood)}, Int64, Matrix{Float64}}, RatingsDataset, RatingsDataset}, Float64}}(1.2486033032725925,-0.00018431876065582185,-0.0006041106694880316,-2.4674155949227987e-7) β: Dual{ForwardDiff.Tag{var\"#validation_mse#17\"{var\"#14#16\"{cf_params, Dict{String, typeof(get_abs_neighborhood)}, Int64, Matrix{Float64}}, RatingsDataset, RatingsDataset}, Float64}}(3.1020103160913344,1.0220751605474985,1.5615198664218235,0.054646193139763904): λ ForwardDiff.Dual{ForwardDiff.Tag{var\"#validation_mse#17\"{var\"#14#16\"{cf_params, Dict{String, typeof(get_abs_neighborhood)}, Int64, Matrix{Float64}}, RatingsDataset, RatingsDataset}, Float64}, Float64, 3}[Dual{ForwardDiff.Tag{var\"#validation_mse#17\"{var\"#14#16\"{cf_params, Dict{String, typeof(get_abs_neighborhood)}, Int64, Matrix{Float64}}, RatingsDataset, RatingsDataset}, Float64}}(0.4026125107163595,1.0,0.0,0.0), Dual{ForwardDiff.Tag{var\"#validation_mse#17\"{var\"#14#16\"{cf_params, Dict{String, typeof(get_abs_neighborhood)}, Int64, Matrix{Float64}}, RatingsDataset, RatingsDataset}, Float64}}(0.387909044079147,0.0,1.0,0.0), Dual{ForwardDiff.Tag{var\"#validation_mse#17\"{var\"#14#16\"{cf_params, Dict{String, typeof(get_abs_neighborhood)}, Int64, Matrix{Float64}}, RatingsDataset, RatingsDataset}, Float64}}(52.66009270947755,0.0,0.0,1.0)]\n",
      "\u001b[32mProgress: 100%|███████████████████████████| Time: 0:02:24 (36.28 ms/it)\u001b[39m\n",
      "\u001b[38;5;4m\u001b[1m[ \u001b[22m\u001b[39m\u001b[38;5;4m\u001b[1mDebug: \u001b[22m\u001b[39m20211231 21:21:45 loss: Dual{ForwardDiff.Tag{var\"#validation_mse#17\"{var\"#14#16\"{cf_params, Dict{String, typeof(get_abs_neighborhood)}, Int64, Matrix{Float64}}, RatingsDataset, RatingsDataset}, Float64}}(1.248545352966491,-6.012499535812396e-5,-0.00010849945336722524,-1.3856396228764011e-6) β: Dual{ForwardDiff.Tag{var\"#validation_mse#17\"{var\"#14#16\"{cf_params, Dict{String, typeof(get_abs_neighborhood)}, Int64, Matrix{Float64}}, RatingsDataset, RatingsDataset}, Float64}}(2.395660432051646,0.49805131217546994,0.2132550008189704,0.060961587613716915): λ ForwardDiff.Dual{ForwardDiff.Tag{var\"#validation_mse#17\"{var\"#14#16\"{cf_params, Dict{String, typeof(get_abs_neighborhood)}, Int64, Matrix{Float64}}, RatingsDataset, RatingsDataset}, Float64}, Float64, 3}[Dual{ForwardDiff.Tag{var\"#validation_mse#17\"{var\"#14#16\"{cf_params, Dict{String, typeof(get_abs_neighborhood)}, Int64, Matrix{Float64}}, RatingsDataset, RatingsDataset}, Float64}}(0.5337736737566224,1.0,0.0,0.0), Dual{ForwardDiff.Tag{var\"#validation_mse#17\"{var\"#14#16\"{cf_params, Dict{String, typeof(get_abs_neighborhood)}, Int64, Matrix{Float64}}, RatingsDataset, RatingsDataset}, Float64}}(0.5394931383587527,0.0,1.0,0.0), Dual{ForwardDiff.Tag{var\"#validation_mse#17\"{var\"#14#16\"{cf_params, Dict{String, typeof(get_abs_neighborhood)}, Int64, Matrix{Float64}}, RatingsDataset, RatingsDataset}, Float64}}(36.64427656928199,0.0,0.0,1.0)]\n"
     ]
    },
    {
     "name": "stdout",
     "output_type": "stream",
     "text": [
      "    11     1.248545e+00     1.084995e-04\n",
      " * Current step size: 1.9044850631013899\n",
      " * time: 4998.513994932175\n",
      " * g(x): [-6.012499535812396e-5, -0.00010849945336722524, -1.3856396228764011e-6]\n",
      " * x: [0.5337736737566224, 0.5394931383587527, 36.64427656928199]\n"
     ]
    },
    {
     "name": "stderr",
     "output_type": "stream",
     "text": [
      "\u001b[32mProgress: 100%|███████████████████████████| Time: 0:02:12 (33.24 ms/it)\u001b[39m\n",
      "\u001b[38;5;4m\u001b[1m[ \u001b[22m\u001b[39m\u001b[38;5;4m\u001b[1mDebug: \u001b[22m\u001b[39m20211231 21:24:04 loss: Dual{ForwardDiff.Tag{var\"#validation_mse#17\"{var\"#14#16\"{cf_params, Dict{String, typeof(get_abs_neighborhood)}, Int64, Matrix{Float64}}, RatingsDataset, RatingsDataset}, Float64}}(1.2485345877015177,-1.3219641573023657e-5,-5.418111390266628e-5,-1.0846372177602385e-6) β: Dual{ForwardDiff.Tag{var\"#validation_mse#17\"{var\"#14#16\"{cf_params, Dict{String, typeof(get_abs_neighborhood)}, Int64, Matrix{Float64}}, RatingsDataset, RatingsDataset}, Float64}}(2.7537033363231473,0.4825891474341871,0.11530153377409397,0.06212329856068415): λ ForwardDiff.Dual{ForwardDiff.Tag{var\"#validation_mse#17\"{var\"#14#16\"{cf_params, Dict{String, typeof(get_abs_neighborhood)}, Int64, Matrix{Float64}}, RatingsDataset, RatingsDataset}, Float64}, Float64, 3}[Dual{ForwardDiff.Tag{var\"#validation_mse#17\"{var\"#14#16\"{cf_params, Dict{String, typeof(get_abs_neighborhood)}, Int64, Matrix{Float64}}, RatingsDataset, RatingsDataset}, Float64}}(0.6163953877016932,1.0,0.0,0.0), Dual{ForwardDiff.Tag{var\"#validation_mse#17\"{var\"#14#16\"{cf_params, Dict{String, typeof(get_abs_neighborhood)}, Int64, Matrix{Float64}}, RatingsDataset, RatingsDataset}, Float64}}(0.5580329683886922,0.0,1.0,0.0), Dual{ForwardDiff.Tag{var\"#validation_mse#17\"{var\"#14#16\"{cf_params, Dict{String, typeof(get_abs_neighborhood)}, Int64, Matrix{Float64}}, RatingsDataset, RatingsDataset}, Float64}}(41.75029506506635,0.0,0.0,1.0)]\n",
      "\u001b[32mProgress: 100%|███████████████████████████| Time: 0:02:30 (37.90 ms/it)\u001b[39m\n",
      "\u001b[38;5;4m\u001b[1m[ \u001b[22m\u001b[39m\u001b[38;5;4m\u001b[1mDebug: \u001b[22m\u001b[39m20211231 21:26:41 loss: Dual{ForwardDiff.Tag{var\"#validation_mse#17\"{var\"#14#16\"{cf_params, Dict{String, typeof(get_abs_neighborhood)}, Int64, Matrix{Float64}}, RatingsDataset, RatingsDataset}, Float64}}(1.2485439076892795,0.00012354817625311848,0.0001620232575540439,-5.244889285305247e-7) β: Dual{ForwardDiff.Tag{var\"#validation_mse#17\"{var\"#14#16\"{cf_params, Dict{String, typeof(get_abs_neighborhood)}, Int64, Matrix{Float64}}, RatingsDataset, RatingsDataset}, Float64}}(4.172367882681956,0.28028370800097135,-0.5901751507280223,0.06491239727804053): λ ForwardDiff.Dual{ForwardDiff.Tag{var\"#validation_mse#17\"{var\"#14#16\"{cf_params, Dict{String, typeof(get_abs_neighborhood)}, Int64, Matrix{Float64}}, RatingsDataset, RatingsDataset}, Float64}, Float64, 3}[Dual{ForwardDiff.Tag{var\"#validation_mse#17\"{var\"#14#16\"{cf_params, Dict{String, typeof(get_abs_neighborhood)}, Int64, Matrix{Float64}}, RatingsDataset, RatingsDataset}, Float64}}(0.9468822434819765,1.0,0.0,0.0), Dual{ForwardDiff.Tag{var\"#validation_mse#17\"{var\"#14#16\"{cf_params, Dict{String, typeof(get_abs_neighborhood)}, Int64, Matrix{Float64}}, RatingsDataset, RatingsDataset}, Float64}}(0.6321922885084501,0.0,1.0,0.0), Dual{ForwardDiff.Tag{var\"#validation_mse#17\"{var\"#14#16\"{cf_params, Dict{String, typeof(get_abs_neighborhood)}, Int64, Matrix{Float64}}, RatingsDataset, RatingsDataset}, Float64}}(62.17436904820375,0.0,0.0,1.0)]\n",
      "\u001b[32mProgress: 100%|███████████████████████████| Time: 0:02:17 (34.57 ms/it)\u001b[39m\n",
      "\u001b[38;5;4m\u001b[1m[ \u001b[22m\u001b[39m\u001b[38;5;4m\u001b[1mDebug: \u001b[22m\u001b[39m20211231 21:29:05 loss: Dual{ForwardDiff.Tag{var\"#validation_mse#17\"{var\"#14#16\"{cf_params, Dict{String, typeof(get_abs_neighborhood)}, Int64, Matrix{Float64}}, RatingsDataset, RatingsDataset}, Float64}}(1.2485295545223942,5.464635704626074e-5,3.905471141064376e-5,-7.719388145001477e-7) β: Dual{ForwardDiff.Tag{var\"#validation_mse#17\"{var\"#14#16\"{cf_params, Dict{String, typeof(get_abs_neighborhood)}, Int64, Matrix{Float64}}, RatingsDataset, RatingsDataset}, Float64}}(3.357142784129054,0.4193104722407211,-0.12413165334133212,0.06367552970154954): λ ForwardDiff.Dual{ForwardDiff.Tag{var\"#validation_mse#17\"{var\"#14#16\"{cf_params, Dict{String, typeof(get_abs_neighborhood)}, Int64, Matrix{Float64}}, RatingsDataset, RatingsDataset}, Float64}, Float64, 3}[Dual{ForwardDiff.Tag{var\"#validation_mse#17\"{var\"#14#16\"{cf_params, Dict{String, typeof(get_abs_neighborhood)}, Int64, Matrix{Float64}}, RatingsDataset, RatingsDataset}, Float64}}(0.7552751926060758,1.0,0.0,0.0), Dual{ForwardDiff.Tag{var\"#validation_mse#17\"{var\"#14#16\"{cf_params, Dict{String, typeof(get_abs_neighborhood)}, Int64, Matrix{Float64}}, RatingsDataset, RatingsDataset}, Float64}}(0.5891967854359905,0.0,1.0,0.0), Dual{ForwardDiff.Tag{var\"#validation_mse#17\"{var\"#14#16\"{cf_params, Dict{String, typeof(get_abs_neighborhood)}, Int64, Matrix{Float64}}, RatingsDataset, RatingsDataset}, Float64}}(50.33306124931839,0.0,0.0,1.0)]\n"
     ]
    },
    {
     "name": "stdout",
     "output_type": "stream",
     "text": [
      "    12     1.248530e+00     5.464636e-05\n",
      " * Current step size: 2.680911691044241\n",
      " * time: 5438.460886955261\n",
      " * g(x): [5.464635704626074e-5, 3.905471141064376e-5, -7.719388145001477e-7]\n",
      " * x: [0.7552751926060758, 0.5891967854359905, 50.33306124931839]\n"
     ]
    },
    {
     "name": "stderr",
     "output_type": "stream",
     "text": [
      "\u001b[32mProgress: 100%|███████████████████████████| Time: 0:02:20 (35.48 ms/it)\u001b[39m\n",
      "\u001b[38;5;4m\u001b[1m[ \u001b[22m\u001b[39m\u001b[38;5;4m\u001b[1mDebug: \u001b[22m\u001b[39m20211231 21:31:32 loss: Dual{ForwardDiff.Tag{var\"#validation_mse#17\"{var\"#14#16\"{cf_params, Dict{String, typeof(get_abs_neighborhood)}, Int64, Matrix{Float64}}, RatingsDataset, RatingsDataset}, Float64}}(1.2485225211482116,2.174099770893012e-5,3.588290875944633e-5,-5.776805288875721e-7) β: Dual{ForwardDiff.Tag{var\"#validation_mse#17\"{var\"#14#16\"{cf_params, Dict{String, typeof(get_abs_neighborhood)}, Int64, Matrix{Float64}}, RatingsDataset, RatingsDataset}, Float64}}(3.7381190635382007,0.5859671290198553,-0.1285406411214975,0.06271141731281424): λ ForwardDiff.Dual{ForwardDiff.Tag{var\"#validation_mse#17\"{var\"#14#16\"{cf_params, Dict{String, typeof(get_abs_neighborhood)}, Int64, Matrix{Float64}}, RatingsDataset, RatingsDataset}, Float64}, Float64, 3}[Dual{ForwardDiff.Tag{var\"#validation_mse#17\"{var\"#14#16\"{cf_params, Dict{String, typeof(get_abs_neighborhood)}, Int64, Matrix{Float64}}, RatingsDataset, RatingsDataset}, Float64}}(0.6827189767066579,1.0,0.0,0.0), Dual{ForwardDiff.Tag{var\"#validation_mse#17\"{var\"#14#16\"{cf_params, Dict{String, typeof(get_abs_neighborhood)}, Int64, Matrix{Float64}}, RatingsDataset, RatingsDataset}, Float64}}(0.5945570969367807,0.0,1.0,0.0), Dual{ForwardDiff.Tag{var\"#validation_mse#17\"{var\"#14#16\"{cf_params, Dict{String, typeof(get_abs_neighborhood)}, Int64, Matrix{Float64}}, RatingsDataset, RatingsDataset}, Float64}}(56.945290241275856,0.0,0.0,1.0)]\n",
      "\u001b[32mProgress: 100%|███████████████████████████| Time: 0:02:06 (31.94 ms/it)\u001b[39m\n",
      "\u001b[38;5;4m\u001b[1m[ \u001b[22m\u001b[39m\u001b[38;5;4m\u001b[1mDebug: \u001b[22m\u001b[39m20211231 21:33:45 loss: Dual{ForwardDiff.Tag{var\"#validation_mse#17\"{var\"#14#16\"{cf_params, Dict{String, typeof(get_abs_neighborhood)}, Int64, Matrix{Float64}}, RatingsDataset, RatingsDataset}, Float64}}(1.2485332100574573,-0.00016716010758622264,2.1143480378651805e-5,-1.5266396831890755e-7) β: Dual{ForwardDiff.Tag{var\"#validation_mse#17\"{var\"#14#16\"{cf_params, Dict{String, typeof(get_abs_neighborhood)}, Int64, Matrix{Float64}}, RatingsDataset, RatingsDataset}, Float64}}(5.0240010374826705,1.6155669070865726,-0.11080404677141621,0.05735751217740854): λ ForwardDiff.Dual{ForwardDiff.Tag{var\"#validation_mse#17\"{var\"#14#16\"{cf_params, Dict{String, typeof(get_abs_neighborhood)}, Int64, Matrix{Float64}}, RatingsDataset, RatingsDataset}, Float64}, Float64, 3}[Dual{ForwardDiff.Tag{var\"#validation_mse#17\"{var\"#14#16\"{cf_params, Dict{String, typeof(get_abs_neighborhood)}, Int64, Matrix{Float64}}, RatingsDataset, RatingsDataset}, Float64}}(0.39249411310898624,1.0,0.0,0.0), Dual{ForwardDiff.Tag{var\"#validation_mse#17\"{var\"#14#16\"{cf_params, Dict{String, typeof(get_abs_neighborhood)}, Int64, Matrix{Float64}}, RatingsDataset, RatingsDataset}, Float64}}(0.6159983429399417,0.0,1.0,0.0), Dual{ForwardDiff.Tag{var\"#validation_mse#17\"{var\"#14#16\"{cf_params, Dict{String, typeof(get_abs_neighborhood)}, Int64, Matrix{Float64}}, RatingsDataset, RatingsDataset}, Float64}}(83.3942062091057,0.0,0.0,1.0)]\n",
      "\u001b[32mProgress: 100%|███████████████████████████| Time: 0:01:54 (28.89 ms/it)\u001b[39m\n",
      "\u001b[38;5;4m\u001b[1m[ \u001b[22m\u001b[39m\u001b[38;5;4m\u001b[1mDebug: \u001b[22m\u001b[39m20211231 21:35:44 loss: Dual{ForwardDiff.Tag{var\"#validation_mse#17\"{var\"#14#16\"{cf_params, Dict{String, typeof(get_abs_neighborhood)}, Int64, Matrix{Float64}}, RatingsDataset, RatingsDataset}, Float64}}(1.2485189249811612,-2.8222967773946862e-5,3.156400527109933e-5,-3.998404316076309e-7) β: Dual{ForwardDiff.Tag{var\"#validation_mse#17\"{var\"#14#16\"{cf_params, Dict{String, typeof(get_abs_neighborhood)}, Int64, Matrix{Float64}}, RatingsDataset, RatingsDataset}, Float64}}(4.191254854326303,0.8472596876536332,-0.1292761348662541,0.061290705599066964): λ ForwardDiff.Dual{ForwardDiff.Tag{var\"#validation_mse#17\"{var\"#14#16\"{cf_params, Dict{String, typeof(get_abs_neighborhood)}, Int64, Matrix{Float64}}, RatingsDataset, RatingsDataset}, Float64}, Float64, 3}[Dual{ForwardDiff.Tag{var\"#validation_mse#17\"{var\"#14#16\"{cf_params, Dict{String, typeof(get_abs_neighborhood)}, Int64, Matrix{Float64}}, RatingsDataset, RatingsDataset}, Float64}}(0.5908192342780334,1.0,0.0,0.0), Dual{ForwardDiff.Tag{var\"#validation_mse#17\"{var\"#14#16\"{cf_params, Dict{String, typeof(get_abs_neighborhood)}, Int64, Matrix{Float64}}, RatingsDataset, RatingsDataset}, Float64}}(0.6013464703922915,0.0,1.0,0.0), Dual{ForwardDiff.Tag{var\"#validation_mse#17\"{var\"#14#16\"{cf_params, Dict{String, typeof(get_abs_neighborhood)}, Int64, Matrix{Float64}}, RatingsDataset, RatingsDataset}, Float64}}(65.32034307041394,0.0,0.0,1.0)]\n"
     ]
    },
    {
     "name": "stdout",
     "output_type": "stream",
     "text": [
      "    13     1.248519e+00     3.156401e-05\n",
      " * Current step size: 2.2666005426195572\n",
      " * time: 5837.951622962952\n",
      " * g(x): [-2.8222967773946862e-5, 3.156400527109933e-5, -3.998404316076309e-7]\n",
      " * x: [0.5908192342780334, 0.6013464703922915, 65.32034307041394]\n"
     ]
    },
    {
     "name": "stderr",
     "output_type": "stream",
     "text": [
      "\u001b[32mProgress: 100%|███████████████████████████| Time: 0:01:49 (27.66 ms/it)\u001b[39m\n",
      "\u001b[38;5;4m\u001b[1m[ \u001b[22m\u001b[39m\u001b[38;5;4m\u001b[1mDebug: \u001b[22m\u001b[39m20211231 21:37:39 loss: Dual{ForwardDiff.Tag{var\"#validation_mse#17\"{var\"#14#16\"{cf_params, Dict{String, typeof(get_abs_neighborhood)}, Int64, Matrix{Float64}}, RatingsDataset, RatingsDataset}, Float64}}(1.2485147618315164,-1.4161862511779443e-5,6.956693045482749e-6,-2.876061147645985e-7) β: Dual{ForwardDiff.Tag{var\"#validation_mse#17\"{var\"#14#16\"{cf_params, Dict{String, typeof(get_abs_neighborhood)}, Int64, Matrix{Float64}}, RatingsDataset, RatingsDataset}, Float64}}(4.819911788527839,0.9366475141070539,-0.06181210600238568,0.061652373228274805): λ ForwardDiff.Dual{ForwardDiff.Tag{var\"#validation_mse#17\"{var\"#14#16\"{cf_params, Dict{String, typeof(get_abs_neighborhood)}, Int64, Matrix{Float64}}, RatingsDataset, RatingsDataset}, Float64}, Float64, 3}[Dual{ForwardDiff.Tag{var\"#validation_mse#17\"{var\"#14#16\"{cf_params, Dict{String, typeof(get_abs_neighborhood)}, Int64, Matrix{Float64}}, RatingsDataset, RatingsDataset}, Float64}}(0.6236432255773463,1.0,0.0,0.0), Dual{ForwardDiff.Tag{var\"#validation_mse#17\"{var\"#14#16\"{cf_params, Dict{String, typeof(get_abs_neighborhood)}, Int64, Matrix{Float64}}, RatingsDataset, RatingsDataset}, Float64}}(0.5927011065703515,0.0,1.0,0.0), Dual{ForwardDiff.Tag{var\"#validation_mse#17\"{var\"#14#16\"{cf_params, Dict{String, typeof(get_abs_neighborhood)}, Int64, Matrix{Float64}}, RatingsDataset, RatingsDataset}, Float64}}(75.0568417584736,0.0,0.0,1.0)]\n",
      "\u001b[32mProgress: 100%|███████████████████████████| Time: 0:01:49 (27.51 ms/it)\u001b[39m\n",
      "\u001b[38;5;4m\u001b[1m[ \u001b[22m\u001b[39m\u001b[38;5;4m\u001b[1mDebug: \u001b[22m\u001b[39m20211231 21:39:33 loss: Dual{ForwardDiff.Tag{var\"#validation_mse#17\"{var\"#14#16\"{cf_params, Dict{String, typeof(get_abs_neighborhood)}, Int64, Matrix{Float64}}, RatingsDataset, RatingsDataset}, Float64}}(1.248510757661195,3.83287467380124e-5,-7.904218152351405e-5,-1.1169691373126962e-7) β: Dual{ForwardDiff.Tag{var\"#validation_mse#17\"{var\"#14#16\"{cf_params, Dict{String, typeof(get_abs_neighborhood)}, Int64, Matrix{Float64}}, RatingsDataset, RatingsDataset}, Float64}}(7.384524856348315,1.1640323452385872,0.38082409063484485,0.06305842122919267): λ ForwardDiff.Dual{ForwardDiff.Tag{var\"#validation_mse#17\"{var\"#14#16\"{cf_params, Dict{String, typeof(get_abs_neighborhood)}, Int64, Matrix{Float64}}, RatingsDataset, RatingsDataset}, Float64}, Float64, 3}[Dual{ForwardDiff.Tag{var\"#validation_mse#17\"{var\"#14#16\"{cf_params, Dict{String, typeof(get_abs_neighborhood)}, Int64, Matrix{Float64}}, RatingsDataset, RatingsDataset}, Float64}}(0.754939190774598,1.0,0.0,0.0), Dual{ForwardDiff.Tag{var\"#validation_mse#17\"{var\"#14#16\"{cf_params, Dict{String, typeof(get_abs_neighborhood)}, Int64, Matrix{Float64}}, RatingsDataset, RatingsDataset}, Float64}}(0.5581196512825911,0.0,1.0,0.0), Dual{ForwardDiff.Tag{var\"#validation_mse#17\"{var\"#14#16\"{cf_params, Dict{String, typeof(get_abs_neighborhood)}, Int64, Matrix{Float64}}, RatingsDataset, RatingsDataset}, Float64}}(114.0028365107122,0.0,0.0,1.0)]\n",
      "\u001b[32mProgress: 100%|███████████████████████████| Time: 0:01:51 (28.09 ms/it)\u001b[39m\n",
      "\u001b[38;5;4m\u001b[1m[ \u001b[22m\u001b[39m\u001b[38;5;4m\u001b[1mDebug: \u001b[22m\u001b[39m20211231 21:41:30 loss: Dual{ForwardDiff.Tag{var\"#validation_mse#17\"{var\"#14#16\"{cf_params, Dict{String, typeof(get_abs_neighborhood)}, Int64, Matrix{Float64}}, RatingsDataset, RatingsDataset}, Float64}}(1.2485103247334817,2.8234431543270876e-5,-6.25610604553911e-5,-1.3068880420084932e-7) β: Dual{ForwardDiff.Tag{var\"#validation_mse#17\"{var\"#14#16\"{cf_params, Dict{String, typeof(get_abs_neighborhood)}, Int64, Matrix{Float64}}, RatingsDataset, RatingsDataset}, Float64}}(6.855221009876228,1.1338263443027463,0.26755075913044324,0.06279199696262922): λ ForwardDiff.Dual{ForwardDiff.Tag{var\"#validation_mse#17\"{var\"#14#16\"{cf_params, Dict{String, typeof(get_abs_neighborhood)}, Int64, Matrix{Float64}}, RatingsDataset, RatingsDataset}, Float64}, Float64, 3}[Dual{ForwardDiff.Tag{var\"#validation_mse#17\"{var\"#14#16\"{cf_params, Dict{String, typeof(get_abs_neighborhood)}, Int64, Matrix{Float64}}, RatingsDataset, RatingsDataset}, Float64}}(0.7281120630654897,1.0,0.0,0.0), Dual{ForwardDiff.Tag{var\"#validation_mse#17\"{var\"#14#16\"{cf_params, Dict{String, typeof(get_abs_neighborhood)}, Int64, Matrix{Float64}}, RatingsDataset, RatingsDataset}, Float64}}(0.5651855281050647,0.0,1.0,0.0), Dual{ForwardDiff.Tag{var\"#validation_mse#17\"{var\"#14#16\"{cf_params, Dict{String, typeof(get_abs_neighborhood)}, Int64, Matrix{Float64}}, RatingsDataset, RatingsDataset}, Float64}}(106.0451725154256,0.0,0.0,1.0)]\n"
     ]
    },
    {
     "name": "stdout",
     "output_type": "stream",
     "text": [
      "    14     1.248510e+00     6.256106e-05\n",
      " * Current step size: 4.182697574329727\n",
      " * time: 6183.626439809799\n",
      " * g(x): [2.8234431543270876e-5, -6.25610604553911e-5, -1.3068880420084932e-7]\n",
      " * x: [0.7281120630654897, 0.5651855281050647, 106.0451725154256]\n"
     ]
    },
    {
     "name": "stderr",
     "output_type": "stream",
     "text": [
      "\u001b[32mProgress: 100%|███████████████████████████| Time: 0:01:46 (26.77 ms/it)\u001b[39m\n",
      "\u001b[38;5;4m\u001b[1m[ \u001b[22m\u001b[39m\u001b[38;5;4m\u001b[1mDebug: \u001b[22m\u001b[39m20211231 21:43:21 loss: Dual{ForwardDiff.Tag{var\"#validation_mse#17\"{var\"#14#16\"{cf_params, Dict{String, typeof(get_abs_neighborhood)}, Int64, Matrix{Float64}}, RatingsDataset, RatingsDataset}, Float64}}(1.2485072405643818,1.173161825214808e-5,-1.137913084393229e-5,-9.990015785279529e-8) β: Dual{ForwardDiff.Tag{var\"#validation_mse#17\"{var\"#14#16\"{cf_params, Dict{String, typeof(get_abs_neighborhood)}, Int64, Matrix{Float64}}, RatingsDataset, RatingsDataset}, Float64}}(7.618345504592472,1.3837080208890022,-0.014443127848539409,0.06231738630024254): λ ForwardDiff.Dual{ForwardDiff.Tag{var\"#validation_mse#17\"{var\"#14#16\"{cf_params, Dict{String, typeof(get_abs_neighborhood)}, Int64, Matrix{Float64}}, RatingsDataset, RatingsDataset}, Float64}, Float64, 3}[Dual{ForwardDiff.Tag{var\"#validation_mse#17\"{var\"#14#16\"{cf_params, Dict{String, typeof(get_abs_neighborhood)}, Int64, Matrix{Float64}}, RatingsDataset, RatingsDataset}, Float64}}(0.6902866849242775,1.0,0.0,0.0), Dual{ForwardDiff.Tag{var\"#validation_mse#17\"{var\"#14#16\"{cf_params, Dict{String, typeof(get_abs_neighborhood)}, Int64, Matrix{Float64}}, RatingsDataset, RatingsDataset}, Float64}}(0.5880856516118902,0.0,1.0,0.0), Dual{ForwardDiff.Tag{var\"#validation_mse#17\"{var\"#14#16\"{cf_params, Dict{String, typeof(get_abs_neighborhood)}, Int64, Matrix{Float64}}, RatingsDataset, RatingsDataset}, Float64}}(118.95471919311328,0.0,0.0,1.0)]\n",
      "\u001b[32mProgress: 100%|███████████████████████████| Time: 0:01:46 (26.77 ms/it)\u001b[39m\n",
      "\u001b[38;5;4m\u001b[1m[ \u001b[22m\u001b[39m\u001b[38;5;4m\u001b[1mDebug: \u001b[22m\u001b[39m20211231 21:45:12 loss: Dual{ForwardDiff.Tag{var\"#validation_mse#17\"{var\"#14#16\"{cf_params, Dict{String, typeof(get_abs_neighborhood)}, Int64, Matrix{Float64}}, RatingsDataset, RatingsDataset}, Float64}}(1.2485162789683768,-6.864219959642635e-5,0.00019238351806459008,-3.8604366627376655e-8) β: Dual{ForwardDiff.Tag{var\"#validation_mse#17\"{var\"#14#16\"{cf_params, Dict{String, typeof(get_abs_neighborhood)}, Int64, Matrix{Float64}}, RatingsDataset, RatingsDataset}, Float64}}(10.399394774266762,2.646579708041201,-1.6991223436180363,0.05955765075667302): λ ForwardDiff.Dual{ForwardDiff.Tag{var\"#validation_mse#17\"{var\"#14#16\"{cf_params, Dict{String, typeof(get_abs_neighborhood)}, Int64, Matrix{Float64}}, RatingsDataset, RatingsDataset}, Float64}, Float64, 3}[Dual{ForwardDiff.Tag{var\"#validation_mse#17\"{var\"#14#16\"{cf_params, Dict{String, typeof(get_abs_neighborhood)}, Int64, Matrix{Float64}}, RatingsDataset, RatingsDataset}, Float64}}(0.5389851723594284,1.0,0.0,0.0), Dual{ForwardDiff.Tag{var\"#validation_mse#17\"{var\"#14#16\"{cf_params, Dict{String, typeof(get_abs_neighborhood)}, Int64, Matrix{Float64}}, RatingsDataset, RatingsDataset}, Float64}}(0.6796861456391923,0.0,1.0,0.0), Dual{ForwardDiff.Tag{var\"#validation_mse#17\"{var\"#14#16\"{cf_params, Dict{String, typeof(get_abs_neighborhood)}, Int64, Matrix{Float64}}, RatingsDataset, RatingsDataset}, Float64}}(170.592905903864,0.0,0.0,1.0)]\n",
      "\u001b[32mProgress: 100%|███████████████████████████| Time: 0:01:34 (23.70 ms/it)\u001b[39m\n",
      "\u001b[38;5;4m\u001b[1m[ \u001b[22m\u001b[39m\u001b[38;5;4m\u001b[1mDebug: \u001b[22m\u001b[39m20211231 21:46:51 loss: Dual{ForwardDiff.Tag{var\"#validation_mse#17\"{var\"#14#16\"{cf_params, Dict{String, typeof(get_abs_neighborhood)}, Int64, Matrix{Float64}}, RatingsDataset, RatingsDataset}, Float64}}(1.2485063135482506,-5.038874822408205e-6,3.676262167949123e-5,-7.893464356950304e-8) β: Dual{ForwardDiff.Tag{var\"#validation_mse#17\"{var\"#14#16\"{cf_params, Dict{String, typeof(get_abs_neighborhood)}, Int64, Matrix{Float64}}, RatingsDataset, RatingsDataset}, Float64}}(8.313074264426517,1.6415926605758353,-0.33341113635480346,0.061794513476989464): λ ForwardDiff.Dual{ForwardDiff.Tag{var\"#validation_mse#17\"{var\"#14#16\"{cf_params, Dict{String, typeof(get_abs_neighborhood)}, Int64, Matrix{Float64}}, RatingsDataset, RatingsDataset}, Float64}, Float64, 3}[Dual{ForwardDiff.Tag{var\"#validation_mse#17\"{var\"#14#16\"{cf_params, Dict{String, typeof(get_abs_neighborhood)}, Int64, Matrix{Float64}}, RatingsDataset, RatingsDataset}, Float64}}(0.6547833211316234,1.0,0.0,0.0), Dual{ForwardDiff.Tag{var\"#validation_mse#17\"{var\"#14#16\"{cf_params, Dict{String, typeof(get_abs_neighborhood)}, Int64, Matrix{Float64}}, RatingsDataset, RatingsDataset}, Float64}}(0.6095799883697217,0.0,1.0,0.0), Dual{ForwardDiff.Tag{var\"#validation_mse#17\"{var\"#14#16\"{cf_params, Dict{String, typeof(get_abs_neighborhood)}, Int64, Matrix{Float64}}, RatingsDataset, RatingsDataset}, Float64}}(131.0717780202615,0.0,0.0,1.0)]\n"
     ]
    },
    {
     "name": "stdout",
     "output_type": "stream",
     "text": [
      "    15     1.248506e+00     3.676262e-05\n",
      " * Current step size: 1.9386122634415053\n",
      " * time: 6505.174082994461\n",
      " * g(x): [-5.038874822408205e-6, 3.676262167949123e-5, -7.893464356950304e-8]\n",
      " * x: [0.6547833211316234, 0.6095799883697217, 131.0717780202615]\n"
     ]
    },
    {
     "name": "stderr",
     "output_type": "stream",
     "text": [
      "\u001b[32mProgress: 100%|███████████████████████████| Time: 0:01:41 (25.65 ms/it)\u001b[39m\n",
      "\u001b[38;5;4m\u001b[1m[ \u001b[22m\u001b[39m\u001b[38;5;4m\u001b[1mDebug: \u001b[22m\u001b[39m20211231 21:48:39 loss: Dual{ForwardDiff.Tag{var\"#validation_mse#17\"{var\"#14#16\"{cf_params, Dict{String, typeof(get_abs_neighborhood)}, Int64, Matrix{Float64}}, RatingsDataset, RatingsDataset}, Float64}}(1.2485050916296792,-4.322286834642096e-6,1.945240129528814e-5,-6.017260162422531e-8) β: Dual{ForwardDiff.Tag{var\"#validation_mse#17\"{var\"#14#16\"{cf_params, Dict{String, typeof(get_abs_neighborhood)}, Int64, Matrix{Float64}}, RatingsDataset, RatingsDataset}, Float64}}(9.249167107817579,1.8343158484690862,-0.24991868034937434,0.06186282353718371): λ ForwardDiff.Dual{ForwardDiff.Tag{var\"#validation_mse#17\"{var\"#14#16\"{cf_params, Dict{String, typeof(get_abs_neighborhood)}, Int64, Matrix{Float64}}, RatingsDataset, RatingsDataset}, Float64}, Float64, 3}[Dual{ForwardDiff.Tag{var\"#validation_mse#17\"{var\"#14#16\"{cf_params, Dict{String, typeof(get_abs_neighborhood)}, Int64, Matrix{Float64}}, RatingsDataset, RatingsDataset}, Float64}}(0.6616964489509479,1.0,0.0,0.0), Dual{ForwardDiff.Tag{var\"#validation_mse#17\"{var\"#14#16\"{cf_params, Dict{String, typeof(get_abs_neighborhood)}, Int64, Matrix{Float64}}, RatingsDataset, RatingsDataset}, Float64}}(0.6038596218042139,0.0,1.0,0.0), Dual{ForwardDiff.Tag{var\"#validation_mse#17\"{var\"#14#16\"{cf_params, Dict{String, typeof(get_abs_neighborhood)}, Int64, Matrix{Float64}}, RatingsDataset, RatingsDataset}, Float64}}(145.99049310172876,0.0,0.0,1.0)]\n",
      "\u001b[32mProgress: 100%|███████████████████████████| Time: 0:01:43 (26.10 ms/it)\u001b[39m\n",
      "\u001b[38;5;4m\u001b[1m[ \u001b[22m\u001b[39m\u001b[38;5;4m\u001b[1mDebug: \u001b[22m\u001b[39m20211231 21:50:27 loss: Dual{ForwardDiff.Tag{var\"#validation_mse#17\"{var\"#14#16\"{cf_params, Dict{String, typeof(get_abs_neighborhood)}, Int64, Matrix{Float64}}, RatingsDataset, RatingsDataset}, Float64}}(1.2485029992800478,4.381883244366691e-7,-4.5895005595825513e-5,-2.5324500496465336e-8) β: Dual{ForwardDiff.Tag{var\"#validation_mse#17\"{var\"#14#16\"{cf_params, Dict{String, typeof(get_abs_neighborhood)}, Int64, Matrix{Float64}}, RatingsDataset, RatingsDataset}, Float64}}(13.01062013798513,2.5727606457666607,0.29790383420771505,0.06215131017070041): λ ForwardDiff.Dual{ForwardDiff.Tag{var\"#validation_mse#17\"{var\"#14#16\"{cf_params, Dict{String, typeof(get_abs_neighborhood)}, Int64, Matrix{Float64}}, RatingsDataset, RatingsDataset}, Float64}, Float64, 3}[Dual{ForwardDiff.Tag{var\"#validation_mse#17\"{var\"#14#16\"{cf_params, Dict{String, typeof(get_abs_neighborhood)}, Int64, Matrix{Float64}}, RatingsDataset, RatingsDataset}, Float64}}(0.6893489602282459,1.0,0.0,0.0), Dual{ForwardDiff.Tag{var\"#validation_mse#17\"{var\"#14#16\"{cf_params, Dict{String, typeof(get_abs_neighborhood)}, Int64, Matrix{Float64}}, RatingsDataset, RatingsDataset}, Float64}}(0.580978155542183,0.0,1.0,0.0), Dual{ForwardDiff.Tag{var\"#validation_mse#17\"{var\"#14#16\"{cf_params, Dict{String, typeof(get_abs_neighborhood)}, Int64, Matrix{Float64}}, RatingsDataset, RatingsDataset}, Float64}}(205.66535342759778,0.0,0.0,1.0)]\n",
      "\u001b[32mProgress: 100%|███████████████████████████| Time: 0:01:50 (27.88 ms/it)\u001b[39m\n",
      "\u001b[38;5;4m\u001b[1m[ \u001b[22m\u001b[39m\u001b[38;5;4m\u001b[1mDebug: \u001b[22m\u001b[39m20211231 21:52:23 loss: Dual{ForwardDiff.Tag{var\"#validation_mse#17\"{var\"#14#16\"{cf_params, Dict{String, typeof(get_abs_neighborhood)}, Int64, Matrix{Float64}}, RatingsDataset, RatingsDataset}, Float64}}(1.2485255009824276,3.2995107209293206e-5,-0.0003492909755222082,-2.740297612235726e-9) β: Dual{ForwardDiff.Tag{var\"#validation_mse#17\"{var\"#14#16\"{cf_params, Dict{String, typeof(get_abs_neighborhood)}, Int64, Matrix{Float64}}, RatingsDataset, RatingsDataset}, Float64}}(31.844093083149986,5.429553010455638,8.40091187873586,0.06272013981109387): λ ForwardDiff.Dual{ForwardDiff.Tag{var\"#validation_mse#17\"{var\"#14#16\"{cf_params, Dict{String, typeof(get_abs_neighborhood)}, Int64, Matrix{Float64}}, RatingsDataset, RatingsDataset}, Float64}, Float64, 3}[Dual{ForwardDiff.Tag{var\"#validation_mse#17\"{var\"#14#16\"{cf_params, Dict{String, typeof(get_abs_neighborhood)}, Int64, Matrix{Float64}}, RatingsDataset, RatingsDataset}, Float64}}(0.8276115166147358,1.0,0.0,0.0), Dual{ForwardDiff.Tag{var\"#validation_mse#17\"{var\"#14#16\"{cf_params, Dict{String, typeof(get_abs_neighborhood)}, Int64, Matrix{Float64}}, RatingsDataset, RatingsDataset}, Float64}}(0.4665708242320281,0.0,1.0,0.0), Dual{ForwardDiff.Tag{var\"#validation_mse#17\"{var\"#14#16\"{cf_params, Dict{String, typeof(get_abs_neighborhood)}, Int64, Matrix{Float64}}, RatingsDataset, RatingsDataset}, Float64}}(504.03965505694293,0.0,0.0,1.0)]\n",
      "\u001b[32mProgress: 100%|███████████████████████████| Time: 0:01:54 (28.91 ms/it)\u001b[39m\n",
      "\u001b[38;5;4m\u001b[1m[ \u001b[22m\u001b[39m\u001b[38;5;4m\u001b[1mDebug: \u001b[22m\u001b[39m20211231 21:54:22 loss: Dual{ForwardDiff.Tag{var\"#validation_mse#17\"{var\"#14#16\"{cf_params, Dict{String, typeof(get_abs_neighborhood)}, Int64, Matrix{Float64}}, RatingsDataset, RatingsDataset}, Float64}}(1.2485029679981274,1.8921095166211511e-6,-6.128398724291227e-5,-2.1309806675701758e-8) β: Dual{ForwardDiff.Tag{var\"#validation_mse#17\"{var\"#14#16\"{cf_params, Dict{String, typeof(get_abs_neighborhood)}, Int64, Matrix{Float64}}, RatingsDataset, RatingsDataset}, Float64}}(13.932860673933487,2.744743442234886,0.484252347422455,0.062218326335578805): λ ForwardDiff.Dual{ForwardDiff.Tag{var\"#validation_mse#17\"{var\"#14#16\"{cf_params, Dict{String, typeof(get_abs_neighborhood)}, Int64, Matrix{Float64}}, RatingsDataset, RatingsDataset}, Float64}, Float64, 3}[Dual{ForwardDiff.Tag{var\"#validation_mse#17\"{var\"#14#16\"{cf_params, Dict{String, typeof(get_abs_neighborhood)}, Int64, Matrix{Float64}}, RatingsDataset, RatingsDataset}, Float64}}(0.6961036267574683,1.0,0.0,0.0), Dual{ForwardDiff.Tag{var\"#validation_mse#17\"{var\"#14#16\"{cf_params, Dict{String, typeof(get_abs_neighborhood)}, Int64, Matrix{Float64}}, RatingsDataset, RatingsDataset}, Float64}}(0.5753889100393139,0.0,1.0,0.0), Dual{ForwardDiff.Tag{var\"#validation_mse#17\"{var\"#14#16\"{cf_params, Dict{String, typeof(get_abs_neighborhood)}, Int64, Matrix{Float64}}, RatingsDataset, RatingsDataset}, Float64}}(220.24210479882294,0.0,0.0,1.0)]\n"
     ]
    },
    {
     "name": "stdout",
     "output_type": "stream",
     "text": [
      "    16     1.248503e+00     6.128399e-05\n",
      " * Current step size: 5.977078206241307\n",
      " * time: 6956.1866998672485\n",
      " * g(x): [1.8921095166211511e-6, -6.128398724291227e-5, -2.1309806675701758e-8]\n",
      " * x: [0.6961036267574683, 0.5753889100393139, 220.24210479882294]\n"
     ]
    },
    {
     "name": "stderr",
     "output_type": "stream",
     "text": [
      "\u001b[32mProgress: 100%|███████████████████████████| Time: 0:01:55 (29.16 ms/it)\u001b[39m\n",
      "\u001b[38;5;4m\u001b[1m[ \u001b[22m\u001b[39m\u001b[38;5;4m\u001b[1mDebug: \u001b[22m\u001b[39m20211231 21:56:23 loss: Dual{ForwardDiff.Tag{var\"#validation_mse#17\"{var\"#14#16\"{cf_params, Dict{String, typeof(get_abs_neighborhood)}, Int64, Matrix{Float64}}, RatingsDataset, RatingsDataset}, Float64}}(1.2485017668759495,3.3617522237798003e-6,-1.3467114690617932e-5,-1.7348841904670715e-8) β: Dual{ForwardDiff.Tag{var\"#validation_mse#17\"{var\"#14#16\"{cf_params, Dict{String, typeof(get_abs_neighborhood)}, Int64, Matrix{Float64}}, RatingsDataset, RatingsDataset}, Float64}}(15.589616716184995,3.0692845083021068,-0.0501326333455603,0.062210565517951996): λ ForwardDiff.Dual{ForwardDiff.Tag{var\"#validation_mse#17\"{var\"#14#16\"{cf_params, Dict{String, typeof(get_abs_neighborhood)}, Int64, Matrix{Float64}}, RatingsDataset, RatingsDataset}, Float64}, Float64, 3}[Dual{ForwardDiff.Tag{var\"#validation_mse#17\"{var\"#14#16\"{cf_params, Dict{String, typeof(get_abs_neighborhood)}, Int64, Matrix{Float64}}, RatingsDataset, RatingsDataset}, Float64}}(0.6942531307786765,1.0,0.0,0.0), Dual{ForwardDiff.Tag{var\"#validation_mse#17\"{var\"#14#16\"{cf_params, Dict{String, typeof(get_abs_neighborhood)}, Int64, Matrix{Float64}}, RatingsDataset, RatingsDataset}, Float64}}(0.5937077622135508,0.0,1.0,0.0), Dual{ForwardDiff.Tag{var\"#validation_mse#17\"{var\"#14#16\"{cf_params, Dict{String, typeof(get_abs_neighborhood)}, Int64, Matrix{Float64}}, RatingsDataset, RatingsDataset}, Float64}}(246.8900130548925,0.0,0.0,1.0)]\n",
      "\u001b[32mProgress: 100%|███████████████████████████| Time: 0:01:54 (28.87 ms/it)\u001b[39m\n",
      "\u001b[38;5;4m\u001b[1m[ \u001b[22m\u001b[39m\u001b[38;5;4m\u001b[1mDebug: \u001b[22m\u001b[39m20211231 21:58:23 loss: Dual{ForwardDiff.Tag{var\"#validation_mse#17\"{var\"#14#16\"{cf_params, Dict{String, typeof(get_abs_neighborhood)}, Int64, Matrix{Float64}}, RatingsDataset, RatingsDataset}, Float64}}(1.248506288004874,1.0202736028996321e-5,0.00017437565267402702,-9.759990374025572e-9) β: Dual{ForwardDiff.Tag{var\"#validation_mse#17\"{var\"#14#16\"{cf_params, Dict{String, typeof(get_abs_neighborhood)}, Int64, Matrix{Float64}}, RatingsDataset, RatingsDataset}, Float64}}(22.06219316573031,4.2807408493411625,-3.3525926936404122,0.061771872137933996): λ ForwardDiff.Dual{ForwardDiff.Tag{var\"#validation_mse#17\"{var\"#14#16\"{cf_params, Dict{String, typeof(get_abs_neighborhood)}, Int64, Matrix{Float64}}, RatingsDataset, RatingsDataset}, Float64}, Float64, 3}[Dual{ForwardDiff.Tag{var\"#validation_mse#17\"{var\"#14#16\"{cf_params, Dict{String, typeof(get_abs_neighborhood)}, Int64, Matrix{Float64}}, RatingsDataset, RatingsDataset}, Float64}}(0.6868511468635093,1.0,0.0,0.0), Dual{ForwardDiff.Tag{var\"#validation_mse#17\"{var\"#14#16\"{cf_params, Dict{String, typeof(get_abs_neighborhood)}, Int64, Matrix{Float64}}, RatingsDataset, RatingsDataset}, Float64}}(0.6669831709104986,0.0,1.0,0.0), Dual{ForwardDiff.Tag{var\"#validation_mse#17\"{var\"#14#16\"{cf_params, Dict{String, typeof(get_abs_neighborhood)}, Int64, Matrix{Float64}}, RatingsDataset, RatingsDataset}, Float64}}(353.48164607917073,0.0,0.0,1.0)]\n",
      "\u001b[32mProgress: 100%|███████████████████████████| Time: 0:01:59 (30.14 ms/it)\u001b[39m\n",
      "\u001b[38;5;4m\u001b[1m[ \u001b[22m\u001b[39m\u001b[38;5;4m\u001b[1mDebug: \u001b[22m\u001b[39m20211231 22:00:28 loss: Dual{ForwardDiff.Tag{var\"#validation_mse#17\"{var\"#14#16\"{cf_params, Dict{String, typeof(get_abs_neighborhood)}, Int64, Matrix{Float64}}, RatingsDataset, RatingsDataset}, Float64}}(1.2485014983799083,4.641594921365529e-6,2.4083246669415887e-5,-1.5085520145339372e-8) β: Dual{ForwardDiff.Tag{var\"#validation_mse#17\"{var\"#14#16\"{cf_params, Dict{String, typeof(get_abs_neighborhood)}, Int64, Matrix{Float64}}, RatingsDataset, RatingsDataset}, Float64}}(16.88668091316918,3.3190660459030936,-0.5563641892404166,0.06217598803821395): λ ForwardDiff.Dual{ForwardDiff.Tag{var\"#validation_mse#17\"{var\"#14#16\"{cf_params, Dict{String, typeof(get_abs_neighborhood)}, Int64, Matrix{Float64}}, RatingsDataset, RatingsDataset}, Float64}, Float64, 3}[Dual{ForwardDiff.Tag{var\"#validation_mse#17\"{var\"#14#16\"{cf_params, Dict{String, typeof(get_abs_neighborhood)}, Int64, Matrix{Float64}}, RatingsDataset, RatingsDataset}, Float64}}(0.6927949421982379,1.0,0.0,0.0), Dual{ForwardDiff.Tag{var\"#validation_mse#17\"{var\"#14#16\"{cf_params, Dict{String, typeof(get_abs_neighborhood)}, Int64, Matrix{Float64}}, RatingsDataset, RatingsDataset}, Float64}}(0.6081429954447282,0.0,1.0,0.0), Dual{ForwardDiff.Tag{var\"#validation_mse#17\"{var\"#14#16\"{cf_params, Dict{String, typeof(get_abs_neighborhood)}, Int64, Matrix{Float64}}, RatingsDataset, RatingsDataset}, Float64}}(267.88853234751303,0.0,0.0,1.0)]\n"
     ]
    },
    {
     "name": "stdout",
     "output_type": "stream",
     "text": [
      "    17     1.248501e+00     2.408325e-05\n",
      " * Current step size: 1.7879987836507858\n",
      " * time: 7321.315259933472\n",
      " * g(x): [4.641594921365529e-6, 2.4083246669415887e-5, -1.5085520145339372e-8]\n",
      " * x: [0.6927949421982379, 0.6081429954447282, 267.88853234751303]\n"
     ]
    },
    {
     "name": "stderr",
     "output_type": "stream",
     "text": [
      "\u001b[32mProgress: 100%|███████████████████████████| Time: 0:01:54 (28.75 ms/it)\u001b[39m\n",
      "\u001b[38;5;4m\u001b[1m[ \u001b[22m\u001b[39m\u001b[38;5;4m\u001b[1mDebug: \u001b[22m\u001b[39m20211231 22:02:27 loss: Dual{ForwardDiff.Tag{var\"#validation_mse#17\"{var\"#14#16\"{cf_params, Dict{String, typeof(get_abs_neighborhood)}, Int64, Matrix{Float64}}, RatingsDataset, RatingsDataset}, Float64}}(1.2485010648114712,1.3459567369529287e-6,1.4798377053032171e-5,-1.1645027541980442e-8) β: Dual{ForwardDiff.Tag{var\"#validation_mse#17\"{var\"#14#16\"{cf_params, Dict{String, typeof(get_abs_neighborhood)}, Int64, Matrix{Float64}}, RatingsDataset, RatingsDataset}, Float64}}(18.634017984128395,3.7271817272420265,-0.48252598193271456,0.062133463423332494): λ ForwardDiff.Dual{ForwardDiff.Tag{var\"#validation_mse#17\"{var\"#14#16\"{cf_params, Dict{String, typeof(get_abs_neighborhood)}, Int64, Matrix{Float64}}, RatingsDataset, RatingsDataset}, Float64}, Float64, 3}[Dual{ForwardDiff.Tag{var\"#validation_mse#17\"{var\"#14#16\"{cf_params, Dict{String, typeof(get_abs_neighborhood)}, Int64, Matrix{Float64}}, RatingsDataset, RatingsDataset}, Float64}}(0.6900750796732071,1.0,0.0,0.0), Dual{ForwardDiff.Tag{var\"#validation_mse#17\"{var\"#14#16\"{cf_params, Dict{String, typeof(get_abs_neighborhood)}, Int64, Matrix{Float64}}, RatingsDataset, RatingsDataset}, Float64}}(0.6055304872289177,0.0,1.0,0.0), Dual{ForwardDiff.Tag{var\"#validation_mse#17\"{var\"#14#16\"{cf_params, Dict{String, typeof(get_abs_neighborhood)}, Int64, Matrix{Float64}}, RatingsDataset, RatingsDataset}, Float64}}(296.13350777576574,0.0,0.0,1.0)]\n",
      "\u001b[32mProgress: 100%|███████████████████████████| Time: 0:02:02 (30.87 ms/it)\u001b[39m\n",
      "\u001b[38;5;4m\u001b[1m[ \u001b[22m\u001b[39m\u001b[38;5;4m\u001b[1mDebug: \u001b[22m\u001b[39m20211231 22:04:34 loss: Dual{ForwardDiff.Tag{var\"#validation_mse#17\"{var\"#14#16\"{cf_params, Dict{String, typeof(get_abs_neighborhood)}, Int64, Matrix{Float64}}, RatingsDataset, RatingsDataset}, Float64}}(1.248500286962906,-1.075677348353e-5,-2.0632514415877318e-5,-4.866897235874404e-9) β: Dual{ForwardDiff.Tag{var\"#validation_mse#17\"{var\"#14#16\"{cf_params, Dict{String, typeof(get_abs_neighborhood)}, Int64, Matrix{Float64}}, RatingsDataset, RatingsDataset}, Float64}}(25.597364811966862,5.427145610855418,0.03193271457863583,0.06196570812500097): λ ForwardDiff.Dual{ForwardDiff.Tag{var\"#validation_mse#17\"{var\"#14#16\"{cf_params, Dict{String, typeof(get_abs_neighborhood)}, Int64, Matrix{Float64}}, RatingsDataset, RatingsDataset}, Float64}, Float64, 3}[Dual{ForwardDiff.Tag{var\"#validation_mse#17\"{var\"#14#16\"{cf_params, Dict{String, typeof(get_abs_neighborhood)}, Int64, Matrix{Float64}}, RatingsDataset, RatingsDataset}, Float64}}(0.6791956295730842,1.0,0.0,0.0), Dual{ForwardDiff.Tag{var\"#validation_mse#17\"{var\"#14#16\"{cf_params, Dict{String, typeof(get_abs_neighborhood)}, Int64, Matrix{Float64}}, RatingsDataset, RatingsDataset}, Float64}}(0.5950804543656759,0.0,1.0,0.0), Dual{ForwardDiff.Tag{var\"#validation_mse#17\"{var\"#14#16\"{cf_params, Dict{String, typeof(get_abs_neighborhood)}, Int64, Matrix{Float64}}, RatingsDataset, RatingsDataset}, Float64}}(409.1134094887765,0.0,0.0,1.0)]\n",
      "\u001b[32mProgress: 100%|███████████████████████████| Time: 0:01:59 (30.17 ms/it)\u001b[39m\n",
      "\u001b[38;5;4m\u001b[1m[ \u001b[22m\u001b[39m\u001b[38;5;4m\u001b[1mDebug: \u001b[22m\u001b[39m20211231 22:06:40 loss: Dual{ForwardDiff.Tag{var\"#validation_mse#17\"{var\"#14#16\"{cf_params, Dict{String, typeof(get_abs_neighborhood)}, Int64, Matrix{Float64}}, RatingsDataset, RatingsDataset}, Float64}}(1.2485071153954512,-6.51552078826359e-5,-0.0001891495817395643,-3.8933260719742365e-11) β: Dual{ForwardDiff.Tag{var\"#validation_mse#17\"{var\"#14#16\"{cf_params, Dict{String, typeof(get_abs_neighborhood)}, Int64, Matrix{Float64}}, RatingsDataset, RatingsDataset}, Float64}}(59.59441691257162,15.511818571890576,7.908735842377488,0.06089047168854929): λ ForwardDiff.Dual{ForwardDiff.Tag{var\"#validation_mse#17\"{var\"#14#16\"{cf_params, Dict{String, typeof(get_abs_neighborhood)}, Int64, Matrix{Float64}}, RatingsDataset, RatingsDataset}, Float64}, Float64, 3}[Dual{ForwardDiff.Tag{var\"#validation_mse#17\"{var\"#14#16\"{cf_params, Dict{String, typeof(get_abs_neighborhood)}, Int64, Matrix{Float64}}, RatingsDataset, RatingsDataset}, Float64}}(0.6247983790724695,1.0,0.0,0.0), Dual{ForwardDiff.Tag{var\"#validation_mse#17\"{var\"#14#16\"{cf_params, Dict{String, typeof(get_abs_neighborhood)}, Int64, Matrix{Float64}}, RatingsDataset, RatingsDataset}, Float64}}(0.5428302900494668,0.0,1.0,0.0), Dual{ForwardDiff.Tag{var\"#validation_mse#17\"{var\"#14#16\"{cf_params, Dict{String, typeof(get_abs_neighborhood)}, Int64, Matrix{Float64}}, RatingsDataset, RatingsDataset}, Float64}}(974.0129180538304,0.0,0.0,1.0)]\n",
      "\u001b[32mProgress: 100%|███████████████████████████| Time: 0:01:57 (29.69 ms/it)\u001b[39m\n",
      "\u001b[38;5;4m\u001b[1m[ \u001b[22m\u001b[39m\u001b[38;5;4m\u001b[1mDebug: \u001b[22m\u001b[39m20211231 22:08:43 loss: Dual{ForwardDiff.Tag{var\"#validation_mse#17\"{var\"#14#16\"{cf_params, Dict{String, typeof(get_abs_neighborhood)}, Int64, Matrix{Float64}}, RatingsDataset, RatingsDataset}, Float64}}(1.2485002664377671,-1.5025142460025514e-5,-3.351345313070675e-5,-3.6657689558373403e-9) β: Dual{ForwardDiff.Tag{var\"#validation_mse#17\"{var\"#14#16\"{cf_params, Dict{String, typeof(get_abs_neighborhood)}, Int64, Matrix{Float64}}, RatingsDataset, RatingsDataset}, Float64}}(28.195388593112096,6.091617023778753,0.3152255563189334,0.06190079099852611): λ ForwardDiff.Dual{ForwardDiff.Tag{var\"#validation_mse#17\"{var\"#14#16\"{cf_params, Dict{String, typeof(get_abs_neighborhood)}, Int64, Matrix{Float64}}, RatingsDataset, RatingsDataset}, Float64}, Float64, 3}[Dual{ForwardDiff.Tag{var\"#validation_mse#17\"{var\"#14#16\"{cf_params, Dict{String, typeof(get_abs_neighborhood)}, Int64, Matrix{Float64}}, RatingsDataset, RatingsDataset}, Float64}}(0.6751186309258134,1.0,0.0,0.0), Dual{ForwardDiff.Tag{var\"#validation_mse#17\"{var\"#14#16\"{cf_params, Dict{String, typeof(get_abs_neighborhood)}, Int64, Matrix{Float64}}, RatingsDataset, RatingsDataset}, Float64}}(0.5911643768566766,0.0,1.0,0.0), Dual{ForwardDiff.Tag{var\"#validation_mse#17\"{var\"#14#16\"{cf_params, Dict{String, typeof(get_abs_neighborhood)}, Int64, Matrix{Float64}}, RatingsDataset, RatingsDataset}, Float64}}(451.45184591834686,0.0,0.0,1.0)]\n"
     ]
    },
    {
     "name": "stdout",
     "output_type": "stream",
     "text": [
      "    18     1.248500e+00     3.351345e-05\n",
      " * Current step size: 6.498972322957674\n",
      " * time: 7817.139715909958\n",
      " * g(x): [-1.5025142460025514e-5, -3.351345313070675e-5, -3.6657689558373403e-9]\n",
      " * x: [0.6751186309258134, 0.5911643768566766, 451.45184591834686]\n"
     ]
    },
    {
     "name": "stderr",
     "output_type": "stream",
     "text": [
      "\u001b[32mProgress: 100%|███████████████████████████| Time: 0:01:56 (29.37 ms/it)\u001b[39m\n",
      "\u001b[38;5;4m\u001b[1m[ \u001b[22m\u001b[39m\u001b[38;5;4m\u001b[1mDebug: \u001b[22m\u001b[39m20211231 22:10:47 loss: Dual{ForwardDiff.Tag{var\"#validation_mse#17\"{var\"#14#16\"{cf_params, Dict{String, typeof(get_abs_neighborhood)}, Int64, Matrix{Float64}}, RatingsDataset, RatingsDataset}, Float64}}(1.248499712580952,-1.3801221695077122e-6,-8.921982569907958e-6,-3.179198310709895e-9) β: Dual{ForwardDiff.Tag{var\"#validation_mse#17\"{var\"#14#16\"{cf_params, Dict{String, typeof(get_abs_neighborhood)}, Int64, Matrix{Float64}}, RatingsDataset, RatingsDataset}, Float64}}(32.19364267935993,6.596340519939141,-0.2690171311941438,0.062205962295287964): λ ForwardDiff.Dual{ForwardDiff.Tag{var\"#validation_mse#17\"{var\"#14#16\"{cf_params, Dict{String, typeof(get_abs_neighborhood)}, Int64, Matrix{Float64}}, RatingsDataset, RatingsDataset}, Float64}, Float64, 3}[Dual{ForwardDiff.Tag{var\"#validation_mse#17\"{var\"#14#16\"{cf_params, Dict{String, typeof(get_abs_neighborhood)}, Int64, Matrix{Float64}}, RatingsDataset, RatingsDataset}, Float64}}(0.6973703673406638,1.0,0.0,0.0), Dual{ForwardDiff.Tag{var\"#validation_mse#17\"{var\"#14#16\"{cf_params, Dict{String, typeof(get_abs_neighborhood)}, Int64, Matrix{Float64}}, RatingsDataset, RatingsDataset}, Float64}}(0.598696126006025,0.0,1.0,0.0), Dual{ForwardDiff.Tag{var\"#validation_mse#17\"{var\"#14#16\"{cf_params, Dict{String, typeof(get_abs_neighborhood)}, Int64, Matrix{Float64}}, RatingsDataset, RatingsDataset}, Float64}}(513.6005216912419,0.0,0.0,1.0)]\n",
      "\u001b[32mProgress: 100%|███████████████████████████| Time: 0:02:01 (30.52 ms/it)\u001b[39m\n",
      "\u001b[38;5;4m\u001b[1m[ \u001b[22m\u001b[39m\u001b[38;5;4m\u001b[1mDebug: \u001b[22m\u001b[39m20211231 22:12:54 loss: Dual{ForwardDiff.Tag{var\"#validation_mse#17\"{var\"#14#16\"{cf_params, Dict{String, typeof(get_abs_neighborhood)}, Int64, Matrix{Float64}}, RatingsDataset, RatingsDataset}, Float64}}(1.248502476359591,4.962702636186379e-5,8.80754972939371e-5,-2.0857498605948036e-9) β: Dual{ForwardDiff.Tag{var\"#validation_mse#17\"{var\"#14#16\"{cf_params, Dict{String, typeof(get_abs_neighborhood)}, Int64, Matrix{Float64}}, RatingsDataset, RatingsDataset}, Float64}}(48.37732493451922,7.8135808530751,-4.1289755965114825,0.06318216760613654): λ ForwardDiff.Dual{ForwardDiff.Tag{var\"#validation_mse#17\"{var\"#14#16\"{cf_params, Dict{String, typeof(get_abs_neighborhood)}, Int64, Matrix{Float64}}, RatingsDataset, RatingsDataset}, Float64}, Float64, 3}[Dual{ForwardDiff.Tag{var\"#validation_mse#17\"{var\"#14#16\"{cf_params, Dict{String, typeof(get_abs_neighborhood)}, Int64, Matrix{Float64}}, RatingsDataset, RatingsDataset}, Float64}}(0.7863773130000654,1.0,0.0,0.0), Dual{ForwardDiff.Tag{var\"#validation_mse#17\"{var\"#14#16\"{cf_params, Dict{String, typeof(get_abs_neighborhood)}, Int64, Matrix{Float64}}, RatingsDataset, RatingsDataset}, Float64}}(0.6288231226034183,0.0,1.0,0.0), Dual{ForwardDiff.Tag{var\"#validation_mse#17\"{var\"#14#16\"{cf_params, Dict{String, typeof(get_abs_neighborhood)}, Int64, Matrix{Float64}}, RatingsDataset, RatingsDataset}, Float64}}(762.1952247828219,0.0,0.0,1.0)]\n",
      "\u001b[32mProgress: 100%|███████████████████████████| Time: 0:01:47 (27.11 ms/it)\u001b[39m\n",
      "\u001b[38;5;4m\u001b[1m[ \u001b[22m\u001b[39m\u001b[38;5;4m\u001b[1mDebug: \u001b[22m\u001b[39m20211231 22:14:48 loss: Dual{ForwardDiff.Tag{var\"#validation_mse#17\"{var\"#14#16\"{cf_params, Dict{String, typeof(get_abs_neighborhood)}, Int64, Matrix{Float64}}, RatingsDataset, RatingsDataset}, Float64}}(1.2484996271068447,6.836733464573662e-6,6.1052970214293025e-6,-2.9465752166235697e-9) β: Dual{ForwardDiff.Tag{var\"#validation_mse#17\"{var\"#14#16\"{cf_params, Dict{String, typeof(get_abs_neighborhood)}, Int64, Matrix{Float64}}, RatingsDataset, RatingsDataset}, Float64}}(34.64966450801431,6.863502129449731,-0.7024410666137779,0.06238054444829772): λ ForwardDiff.Dual{ForwardDiff.Tag{var\"#validation_mse#17\"{var\"#14#16\"{cf_params, Dict{String, typeof(get_abs_neighborhood)}, Int64, Matrix{Float64}}, RatingsDataset, RatingsDataset}, Float64}, Float64, 3}[Dual{ForwardDiff.Tag{var\"#validation_mse#17\"{var\"#14#16\"{cf_params, Dict{String, typeof(get_abs_neighborhood)}, Int64, Matrix{Float64}}, RatingsDataset, RatingsDataset}, Float64}}(0.7109729381821055,1.0,0.0,0.0), Dual{ForwardDiff.Tag{var\"#validation_mse#17\"{var\"#14#16\"{cf_params, Dict{String, typeof(get_abs_neighborhood)}, Int64, Matrix{Float64}}, RatingsDataset, RatingsDataset}, Float64}}(0.6033003128188619,0.0,1.0,0.0), Dual{ForwardDiff.Tag{var\"#validation_mse#17\"{var\"#14#16\"{cf_params, Dict{String, typeof(get_abs_neighborhood)}, Int64, Matrix{Float64}}, RatingsDataset, RatingsDataset}, Float64}}(551.5922428379297,0.0,0.0,1.0)]\n"
     ]
    },
    {
     "name": "stdout",
     "output_type": "stream",
     "text": [
      "    19     1.248500e+00     6.836733e-06\n",
      " * Current step size: 1.6113037916611115\n",
      " * time: 8181.36754488945\n",
      " * g(x): [6.836733464573662e-6, 6.1052970214293025e-6, -2.9465752166235697e-9]\n",
      " * x: [0.7109729381821055, 0.6033003128188619, 551.5922428379297]\n"
     ]
    },
    {
     "name": "stderr",
     "output_type": "stream",
     "text": [
      "\u001b[32mProgress: 100%|███████████████████████████| Time: 0:01:41 (25.52 ms/it)\u001b[39m\n",
      "\u001b[38;5;4m\u001b[1m[ \u001b[22m\u001b[39m\u001b[38;5;4m\u001b[1mDebug: \u001b[22m\u001b[39m20211231 22:16:35 loss: Dual{ForwardDiff.Tag{var\"#validation_mse#17\"{var\"#14#16\"{cf_params, Dict{String, typeof(get_abs_neighborhood)}, Int64, Matrix{Float64}}, RatingsDataset, RatingsDataset}, Float64}}(1.2484994549460418,3.840854466677866e-6,6.355642351371851e-6,-2.308928025171282e-9) β: Dual{ForwardDiff.Tag{var\"#validation_mse#17\"{var\"#14#16\"{cf_params, Dict{String, typeof(get_abs_neighborhood)}, Int64, Matrix{Float64}}, RatingsDataset, RatingsDataset}, Float64}}(38.279862743226,7.694899418776386,-0.7882773962353025,0.062319821286138166): λ ForwardDiff.Dual{ForwardDiff.Tag{var\"#validation_mse#17\"{var\"#14#16\"{cf_params, Dict{String, typeof(get_abs_neighborhood)}, Int64, Matrix{Float64}}, RatingsDataset, RatingsDataset}, Float64}, Float64, 3}[Dual{ForwardDiff.Tag{var\"#validation_mse#17\"{var\"#14#16\"{cf_params, Dict{String, typeof(get_abs_neighborhood)}, Int64, Matrix{Float64}}, RatingsDataset, RatingsDataset}, Float64}}(0.7065456734854998,1.0,0.0,0.0), Dual{ForwardDiff.Tag{var\"#validation_mse#17\"{var\"#14#16\"{cf_params, Dict{String, typeof(get_abs_neighborhood)}, Int64, Matrix{Float64}}, RatingsDataset, RatingsDataset}, Float64}}(0.6040673233053822,0.0,1.0,0.0), Dual{ForwardDiff.Tag{var\"#validation_mse#17\"{var\"#14#16\"{cf_params, Dict{String, typeof(get_abs_neighborhood)}, Int64, Matrix{Float64}}, RatingsDataset, RatingsDataset}, Float64}}(610.3409334131981,0.0,0.0,1.0)]\n",
      "\u001b[32mProgress: 100%|███████████████████████████| Time: 0:01:55 (29.07 ms/it)\u001b[39m\n",
      "\u001b[38;5;4m\u001b[1m[ \u001b[22m\u001b[39m\u001b[38;5;4m\u001b[1mDebug: \u001b[22m\u001b[39m20211231 22:18:36 loss: Dual{ForwardDiff.Tag{var\"#validation_mse#17\"{var\"#14#16\"{cf_params, Dict{String, typeof(get_abs_neighborhood)}, Int64, Matrix{Float64}}, RatingsDataset, RatingsDataset}, Float64}}(1.248499145354909,-7.57147928329183e-6,8.403762921444856e-6,-1.0328129797123983e-9) β: Dual{ForwardDiff.Tag{var\"#validation_mse#17\"{var\"#14#16\"{cf_params, Dict{String, typeof(get_abs_neighborhood)}, Int64, Matrix{Float64}}, RatingsDataset, RatingsDataset}, Float64}}(52.72638625786156,11.16699797272931,-1.1875555959720157,0.062075377344421645): λ ForwardDiff.Dual{ForwardDiff.Tag{var\"#validation_mse#17\"{var\"#14#16\"{cf_params, Dict{String, typeof(get_abs_neighborhood)}, Int64, Matrix{Float64}}, RatingsDataset, RatingsDataset}, Float64}, Float64, 3}[Dual{ForwardDiff.Tag{var\"#validation_mse#17\"{var\"#14#16\"{cf_params, Dict{String, typeof(get_abs_neighborhood)}, Int64, Matrix{Float64}}, RatingsDataset, RatingsDataset}, Float64}}(0.6888366146990772,1.0,0.0,0.0), Dual{ForwardDiff.Tag{var\"#validation_mse#17\"{var\"#14#16\"{cf_params, Dict{String, typeof(get_abs_neighborhood)}, Int64, Matrix{Float64}}, RatingsDataset, RatingsDataset}, Float64}}(0.6071353652514633,0.0,1.0,0.0), Dual{ForwardDiff.Tag{var\"#validation_mse#17\"{var\"#14#16\"{cf_params, Dict{String, typeof(get_abs_neighborhood)}, Int64, Matrix{Float64}}, RatingsDataset, RatingsDataset}, Float64}}(845.3356957142717,0.0,0.0,1.0)]\n",
      "\u001b[32mProgress: 100%|███████████████████████████| Time: 0:01:50 (27.74 ms/it)\u001b[39m\n",
      "\u001b[38;5;4m\u001b[1m[ \u001b[22m\u001b[39m\u001b[38;5;4m\u001b[1mDebug: \u001b[22m\u001b[39m20211231 22:20:31 loss: Dual{ForwardDiff.Tag{var\"#validation_mse#17\"{var\"#14#16\"{cf_params, Dict{String, typeof(get_abs_neighborhood)}, Int64, Matrix{Float64}}, RatingsDataset, RatingsDataset}, Float64}}(1.2485021607369216,-6.423336058004266e-5,2.535621629072645e-5,-6.118674927537131e-11) β: Dual{ForwardDiff.Tag{var\"#validation_mse#17\"{var\"#14#16\"{cf_params, Dict{String, typeof(get_abs_neighborhood)}, Int64, Matrix{Float64}}, RatingsDataset, RatingsDataset}, Float64}}(122.98260812625682,32.192091964018886,-4.461615550785348,0.06073261430952727): λ ForwardDiff.Dual{ForwardDiff.Tag{var\"#validation_mse#17\"{var\"#14#16\"{cf_params, Dict{String, typeof(get_abs_neighborhood)}, Int64, Matrix{Float64}}, RatingsDataset, RatingsDataset}, Float64}, Float64, 3}[Dual{ForwardDiff.Tag{var\"#validation_mse#17\"{var\"#14#16\"{cf_params, Dict{String, typeof(get_abs_neighborhood)}, Int64, Matrix{Float64}}, RatingsDataset, RatingsDataset}, Float64}}(0.6002913207669641,1.0,0.0,0.0), Dual{ForwardDiff.Tag{var\"#validation_mse#17\"{var\"#14#16\"{cf_params, Dict{String, typeof(get_abs_neighborhood)}, Int64, Matrix{Float64}}, RatingsDataset, RatingsDataset}, Float64}}(0.622475574981869,0.0,1.0,0.0), Dual{ForwardDiff.Tag{var\"#validation_mse#17\"{var\"#14#16\"{cf_params, Dict{String, typeof(get_abs_neighborhood)}, Int64, Matrix{Float64}}, RatingsDataset, RatingsDataset}, Float64}}(2020.3095072196397,0.0,0.0,1.0)]\n",
      "\u001b[32mProgress: 100%|███████████████████████████| Time: 0:01:50 (27.75 ms/it)\u001b[39m\n",
      "\u001b[38;5;4m\u001b[1m[ \u001b[22m\u001b[39m\u001b[38;5;4m\u001b[1mDebug: \u001b[22m\u001b[39m20211231 22:22:27 loss: Dual{ForwardDiff.Tag{var\"#validation_mse#17\"{var\"#14#16\"{cf_params, Dict{String, typeof(get_abs_neighborhood)}, Int64, Matrix{Float64}}, RatingsDataset, RatingsDataset}, Float64}}(1.248499137414152,-1.1159325389879296e-5,9.27905633978833e-6,-8.288951382839498e-10) β: Dual{ForwardDiff.Tag{var\"#validation_mse#17\"{var\"#14#16\"{cf_params, Dict{String, typeof(get_abs_neighborhood)}, Int64, Matrix{Float64}}, RatingsDataset, RatingsDataset}, Float64}}(57.36143860699037,12.33767118354812,-1.3352923453766026,0.061995285579972): λ ForwardDiff.Dual{ForwardDiff.Tag{var\"#validation_mse#17\"{var\"#14#16\"{cf_params, Dict{String, typeof(get_abs_neighborhood)}, Int64, Matrix{Float64}}, RatingsDataset, RatingsDataset}, Float64}, Float64, 3}[Dual{ForwardDiff.Tag{var\"#validation_mse#17\"{var\"#14#16\"{cf_params, Dict{String, typeof(get_abs_neighborhood)}, Int64, Matrix{Float64}}, RatingsDataset, RatingsDataset}, Float64}}(0.6831229717602618,1.0,0.0,0.0), Dual{ForwardDiff.Tag{var\"#validation_mse#17\"{var\"#14#16\"{cf_params, Dict{String, typeof(get_abs_neighborhood)}, Int64, Matrix{Float64}}, RatingsDataset, RatingsDataset}, Float64}}(0.6081252369556928,0.0,1.0,0.0), Dual{ForwardDiff.Tag{var\"#validation_mse#17\"{var\"#14#16\"{cf_params, Dict{String, typeof(get_abs_neighborhood)}, Int64, Matrix{Float64}}, RatingsDataset, RatingsDataset}, Float64}}(921.1543024778086,0.0,0.0,1.0)]\n"
     ]
    },
    {
     "name": "stdout",
     "output_type": "stream",
     "text": [
      "    20     1.248499e+00     1.115933e-05\n",
      " * Current step size: 6.290558240892173\n",
      " * time: 8640.539915800095\n",
      " * g(x): [-1.1159325389879296e-5, 9.27905633978833e-6, -8.288951382839498e-10]\n",
      " * x: [0.6831229717602618, 0.6081252369556928, 921.1543024778086]\n"
     ]
    },
    {
     "name": "stderr",
     "output_type": "stream",
     "text": [
      "\u001b[32mProgress: 100%|███████████████████████████| Time: 0:01:52 (28.20 ms/it)\u001b[39m\n",
      "\u001b[38;5;4m\u001b[1m[ \u001b[22m\u001b[39m\u001b[38;5;4m\u001b[1mDebug: \u001b[22m\u001b[39m20211231 22:24:24 loss: Dual{ForwardDiff.Tag{var\"#validation_mse#17\"{var\"#14#16\"{cf_params, Dict{String, typeof(get_abs_neighborhood)}, Int64, Matrix{Float64}}, RatingsDataset, RatingsDataset}, Float64}}(1.24849889116306,-2.0979470291948223e-6,5.591509254977771e-8,-6.571985799822544e-10) β: Dual{ForwardDiff.Tag{var\"#validation_mse#17\"{var\"#14#16\"{cf_params, Dict{String, typeof(get_abs_neighborhood)}, Int64, Matrix{Float64}}, RatingsDataset, RatingsDataset}, Float64}}(66.28631937796274,13.748944656242193,-1.0726007973230962,0.06224616181792824): λ ForwardDiff.Dual{ForwardDiff.Tag{var\"#validation_mse#17\"{var\"#14#16\"{cf_params, Dict{String, typeof(get_abs_neighborhood)}, Int64, Matrix{Float64}}, RatingsDataset, RatingsDataset}, Float64}, Float64, 3}[Dual{ForwardDiff.Tag{var\"#validation_mse#17\"{var\"#14#16\"{cf_params, Dict{String, typeof(get_abs_neighborhood)}, Int64, Matrix{Float64}}, RatingsDataset, RatingsDataset}, Float64}}(0.7014727574267623,1.0,0.0,0.0), Dual{ForwardDiff.Tag{var\"#validation_mse#17\"{var\"#14#16\"{cf_params, Dict{String, typeof(get_abs_neighborhood)}, Int64, Matrix{Float64}}, RatingsDataset, RatingsDataset}, Float64}}(0.6034340486787358,0.0,1.0,0.0), Dual{ForwardDiff.Tag{var\"#validation_mse#17\"{var\"#14#16\"{cf_params, Dict{String, typeof(get_abs_neighborhood)}, Int64, Matrix{Float64}}, RatingsDataset, RatingsDataset}, Float64}}(1060.874717561173,0.0,0.0,1.0)]\n",
      "\u001b[32mProgress: 100%|███████████████████████████| Time: 0:01:57 (29.50 ms/it)\u001b[39m\n",
      "\u001b[38;5;4m\u001b[1m[ \u001b[22m\u001b[39m\u001b[38;5;4m\u001b[1mDebug: \u001b[22m\u001b[39m20211231 22:26:26 loss: Dual{ForwardDiff.Tag{var\"#validation_mse#17\"{var\"#14#16\"{cf_params, Dict{String, typeof(get_abs_neighborhood)}, Int64, Matrix{Float64}}, RatingsDataset, RatingsDataset}, Float64}}(1.2485000904348327,3.214323967027877e-5,-3.5699395354995397e-5,-3.433956656468416e-10) β: Dual{ForwardDiff.Tag{var\"#validation_mse#17\"{var\"#14#16\"{cf_params, Dict{String, typeof(get_abs_neighborhood)}, Int64, Matrix{Float64}}, RatingsDataset, RatingsDataset}, Float64}}(102.51946507690343,18.18948234104029,1.1938478994579358,0.06314722570593474): λ ForwardDiff.Dual{ForwardDiff.Tag{var\"#validation_mse#17\"{var\"#14#16\"{cf_params, Dict{String, typeof(get_abs_neighborhood)}, Int64, Matrix{Float64}}, RatingsDataset, RatingsDataset}, Float64}, Float64, 3}[Dual{ForwardDiff.Tag{var\"#validation_mse#17\"{var\"#14#16\"{cf_params, Dict{String, typeof(get_abs_neighborhood)}, Int64, Matrix{Float64}}, RatingsDataset, RatingsDataset}, Float64}}(0.7748719000927644,1.0,0.0,0.0), Dual{ForwardDiff.Tag{var\"#validation_mse#17\"{var\"#14#16\"{cf_params, Dict{String, typeof(get_abs_neighborhood)}, Int64, Matrix{Float64}}, RatingsDataset, RatingsDataset}, Float64}}(0.5846692955709082,0.0,1.0,0.0), Dual{ForwardDiff.Tag{var\"#validation_mse#17\"{var\"#14#16\"{cf_params, Dict{String, typeof(get_abs_neighborhood)}, Int64, Matrix{Float64}}, RatingsDataset, RatingsDataset}, Float64}}(1619.7563778946305,0.0,0.0,1.0)]\n",
      "\u001b[32mProgress: 100%|███████████████████████████| Time: 0:01:53 (28.66 ms/it)\u001b[39m\n",
      "\u001b[38;5;4m\u001b[1m[ \u001b[22m\u001b[39m\u001b[38;5;4m\u001b[1mDebug: \u001b[22m\u001b[39m20211231 22:28:28 loss: Dual{ForwardDiff.Tag{var\"#validation_mse#17\"{var\"#14#16\"{cf_params, Dict{String, typeof(get_abs_neighborhood)}, Int64, Matrix{Float64}}, RatingsDataset, RatingsDataset}, Float64}}(1.2484988534860872,3.4628417194295524e-6,-5.593952031871415e-6,-5.799239112209125e-10) β: Dual{ForwardDiff.Tag{var\"#validation_mse#17\"{var\"#14#16\"{cf_params, Dict{String, typeof(get_abs_neighborhood)}, Int64, Matrix{Float64}}, RatingsDataset, RatingsDataset}, Float64}}(71.86601619116671,14.563673748567354,-0.8491037687286601,0.062397026318390315): λ ForwardDiff.Dual{ForwardDiff.Tag{var\"#validation_mse#17\"{var\"#14#16\"{cf_params, Dict{String, typeof(get_abs_neighborhood)}, Int64, Matrix{Float64}}, RatingsDataset, RatingsDataset}, Float64}, Float64, 3}[Dual{ForwardDiff.Tag{var\"#validation_mse#17\"{var\"#14#16\"{cf_params, Dict{String, typeof(get_abs_neighborhood)}, Int64, Matrix{Float64}}, RatingsDataset, RatingsDataset}, Float64}}(0.7128844981196745,1.0,0.0,0.0), Dual{ForwardDiff.Tag{var\"#validation_mse#17\"{var\"#14#16\"{cf_params, Dict{String, typeof(get_abs_neighborhood)}, Int64, Matrix{Float64}}, RatingsDataset, RatingsDataset}, Float64}}(0.6005165963917594,0.0,1.0,0.0), Dual{ForwardDiff.Tag{var\"#validation_mse#17\"{var\"#14#16\"{cf_params, Dict{String, typeof(get_abs_neighborhood)}, Int64, Matrix{Float64}}, RatingsDataset, RatingsDataset}, Float64}}(1147.7669121304123,0.0,0.0,1.0)]\n"
     ]
    },
    {
     "name": "stdout",
     "output_type": "stream",
     "text": [
      "    21     1.248499e+00     5.593952e-06\n",
      " * Current step size: 1.6219004897558797\n",
      " * time: 9001.776948928833\n",
      " * g(x): [3.4628417194295524e-6, -5.593952031871415e-6, -5.799239112209125e-10]\n",
      " * x: [0.7128844981196745, 0.6005165963917594, 1147.7669121304123]\n"
     ]
    },
    {
     "name": "stderr",
     "output_type": "stream",
     "text": [
      "\u001b[32mProgress: 100%|███████████████████████████| Time: 0:01:50 (27.78 ms/it)\u001b[39m\n",
      "\u001b[38;5;4m\u001b[1m[ \u001b[22m\u001b[39m\u001b[38;5;4m\u001b[1mDebug: \u001b[22m\u001b[39m20211231 22:30:30 loss: Dual{ForwardDiff.Tag{var\"#validation_mse#17\"{var\"#14#16\"{cf_params, Dict{String, typeof(get_abs_neighborhood)}, Int64, Matrix{Float64}}, RatingsDataset, RatingsDataset}, Float64}}(1.248498772979456,2.7021177085163045e-6,-1.3458834394377156e-6,-4.579321069944681e-10) β: Dual{ForwardDiff.Tag{var\"#validation_mse#17\"{var\"#14#16\"{cf_params, Dict{String, typeof(get_abs_neighborhood)}, Int64, Matrix{Float64}}, RatingsDataset, RatingsDataset}, Float64}}(80.2908318992033,16.340227114070565,-1.2218097091662399,0.06237694615470784): λ ForwardDiff.Dual{ForwardDiff.Tag{var\"#validation_mse#17\"{var\"#14#16\"{cf_params, Dict{String, typeof(get_abs_neighborhood)}, Int64, Matrix{Float64}}, RatingsDataset, RatingsDataset}, Float64}, Float64, 3}[Dual{ForwardDiff.Tag{var\"#validation_mse#17\"{var\"#14#16\"{cf_params, Dict{String, typeof(get_abs_neighborhood)}, Int64, Matrix{Float64}}, RatingsDataset, RatingsDataset}, Float64}}(0.7114815626604671,1.0,0.0,0.0), Dual{ForwardDiff.Tag{var\"#validation_mse#17\"{var\"#14#16\"{cf_params, Dict{String, typeof(get_abs_neighborhood)}, Int64, Matrix{Float64}}, RatingsDataset, RatingsDataset}, Float64}}(0.6023592131881224,0.0,1.0,0.0), Dual{ForwardDiff.Tag{var\"#validation_mse#17\"{var\"#14#16\"{cf_params, Dict{String, typeof(get_abs_neighborhood)}, Int64, Matrix{Float64}}, RatingsDataset, RatingsDataset}, Float64}}(1283.186003050827,0.0,0.0,1.0)]\n",
      "\u001b[32mProgress: 100%|███████████████████████████| Time: 0:01:49 (27.53 ms/it)\u001b[39m\n",
      "\u001b[38;5;4m\u001b[1m[ \u001b[22m\u001b[39m\u001b[38;5;4m\u001b[1mDebug: \u001b[22m\u001b[39m20211231 22:32:26 loss: Dual{ForwardDiff.Tag{var\"#validation_mse#17\"{var\"#14#16\"{cf_params, Dict{String, typeof(get_abs_neighborhood)}, Int64, Matrix{Float64}}, RatingsDataset, RatingsDataset}, Float64}}(1.2484986478834739,1.9042569106823735e-7,1.6264006894607324e-5,-2.1999807332157156e-10) β: Dual{ForwardDiff.Tag{var\"#validation_mse#17\"{var\"#14#16\"{cf_params, Dict{String, typeof(get_abs_neighborhood)}, Int64, Matrix{Float64}}, RatingsDataset, RatingsDataset}, Float64}}(113.92867849599892,23.498539861645863,-3.326688283880101,0.06229339473496443): λ ForwardDiff.Dual{ForwardDiff.Tag{var\"#validation_mse#17\"{var\"#14#16\"{cf_params, Dict{String, typeof(get_abs_neighborhood)}, Int64, Matrix{Float64}}, RatingsDataset, RatingsDataset}, Float64}, Float64, 3}[Dual{ForwardDiff.Tag{var\"#validation_mse#17\"{var\"#14#16\"{cf_params, Dict{String, typeof(get_abs_neighborhood)}, Int64, Matrix{Float64}}, RatingsDataset, RatingsDataset}, Float64}}(0.7058698208236378,1.0,0.0,0.0), Dual{ForwardDiff.Tag{var\"#validation_mse#17\"{var\"#14#16\"{cf_params, Dict{String, typeof(get_abs_neighborhood)}, Int64, Matrix{Float64}}, RatingsDataset, RatingsDataset}, Float64}}(0.6097296803735742,0.0,1.0,0.0), Dual{ForwardDiff.Tag{var\"#validation_mse#17\"{var\"#14#16\"{cf_params, Dict{String, typeof(get_abs_neighborhood)}, Int64, Matrix{Float64}}, RatingsDataset, RatingsDataset}, Float64}}(1824.8623667324855,0.0,0.0,1.0)]\n",
      "\u001b[32mProgress: 100%|███████████████████████████| Time: 0:01:54 (28.92 ms/it)\u001b[39m\n",
      "\u001b[38;5;4m\u001b[1m[ \u001b[22m\u001b[39m\u001b[38;5;4m\u001b[1mDebug: \u001b[22m\u001b[39m20211231 22:34:26 loss: Dual{ForwardDiff.Tag{var\"#validation_mse#17\"{var\"#14#16\"{cf_params, Dict{String, typeof(get_abs_neighborhood)}, Int64, Matrix{Float64}}, RatingsDataset, RatingsDataset}, Float64}}(1.248500815680075,-9.54170323273613e-6,0.00010715503464682302,-3.600224364975074e-11) β: Dual{ForwardDiff.Tag{var\"#validation_mse#17\"{var\"#14#16\"{cf_params, Dict{String, typeof(get_abs_neighborhood)}, Int64, Matrix{Float64}}, RatingsDataset, RatingsDataset}, Float64}}(280.29710930844277,60.525907950029506,-28.22547564726237,0.06177509679621479): λ ForwardDiff.Dual{ForwardDiff.Tag{var\"#validation_mse#17\"{var\"#14#16\"{cf_params, Dict{String, typeof(get_abs_neighborhood)}, Int64, Matrix{Float64}}, RatingsDataset, RatingsDataset}, Float64}, Float64, 3}[Dual{ForwardDiff.Tag{var\"#validation_mse#17\"{var\"#14#16\"{cf_params, Dict{String, typeof(get_abs_neighborhood)}, Int64, Matrix{Float64}}, RatingsDataset, RatingsDataset}, Float64}}(0.6778111116394909,1.0,0.0,0.0), Dual{ForwardDiff.Tag{var\"#validation_mse#17\"{var\"#14#16\"{cf_params, Dict{String, typeof(get_abs_neighborhood)}, Int64, Matrix{Float64}}, RatingsDataset, RatingsDataset}, Float64}}(0.6465820163008335,0.0,1.0,0.0), Dual{ForwardDiff.Tag{var\"#validation_mse#17\"{var\"#14#16\"{cf_params, Dict{String, typeof(get_abs_neighborhood)}, Int64, Matrix{Float64}}, RatingsDataset, RatingsDataset}, Float64}}(4533.2441851407775,0.0,0.0,1.0)]\n",
      "\u001b[32mProgress: 100%|███████████████████████████| Time: 0:02:13 (33.68 ms/it)\u001b[39m\n",
      "\u001b[38;5;4m\u001b[1m[ \u001b[22m\u001b[39m\u001b[38;5;4m\u001b[1mDebug: \u001b[22m\u001b[39m20211231 22:36:47 loss: Dual{ForwardDiff.Tag{var\"#validation_mse#17\"{var\"#14#16\"{cf_params, Dict{String, typeof(get_abs_neighborhood)}, Int64, Matrix{Float64}}, RatingsDataset, RatingsDataset}, Float64}}(1.248498647883201,1.8547508069027024e-7,1.630344859496249e-5,-2.19702799160705e-10) β: Dual{ForwardDiff.Tag{var\"#validation_mse#17\"{var\"#14#16\"{cf_params, Dict{String, typeof(get_abs_neighborhood)}, Int64, Matrix{Float64}}, RatingsDataset, RatingsDataset}, Float64}}(114.00265071110702,23.51439698858078,-3.3324035441253055,0.06229320402248128): λ ForwardDiff.Dual{ForwardDiff.Tag{var\"#validation_mse#17\"{var\"#14#16\"{cf_params, Dict{String, typeof(get_abs_neighborhood)}, Int64, Matrix{Float64}}, RatingsDataset, RatingsDataset}, Float64}, Float64, 3}[Dual{ForwardDiff.Tag{var\"#validation_mse#17\"{var\"#14#16\"{cf_params, Dict{String, typeof(get_abs_neighborhood)}, Int64, Matrix{Float64}}, RatingsDataset, RatingsDataset}, Float64}}(0.7058574612517227,1.0,0.0,0.0), Dual{ForwardDiff.Tag{var\"#validation_mse#17\"{var\"#14#16\"{cf_params, Dict{String, typeof(get_abs_neighborhood)}, Int64, Matrix{Float64}}, RatingsDataset, RatingsDataset}, Float64}}(0.6097459134473462,0.0,1.0,0.0), Dual{ForwardDiff.Tag{var\"#validation_mse#17\"{var\"#14#16\"{cf_params, Dict{String, typeof(get_abs_neighborhood)}, Int64, Matrix{Float64}}, RatingsDataset, RatingsDataset}, Float64}}(1826.055380981235,0.0,0.0,1.0)]\n"
     ]
    },
    {
     "name": "stdout",
     "output_type": "stream",
     "text": [
      "    22     1.248499e+00     1.630345e-05\n",
      " * Current step size: 5.008809793660856\n",
      " * time: 9500.718731880188\n",
      " * g(x): [1.8547508069027024e-7, 1.630344859496249e-5, -2.19702799160705e-10]\n",
      " * x: [0.7058574612517227, 0.6097459134473462, 1826.055380981235]\n"
     ]
    },
    {
     "name": "stderr",
     "output_type": "stream",
     "text": [
      "\u001b[32mProgress: 100%|███████████████████████████| Time: 0:02:34 (38.77 ms/it)\u001b[39m\n",
      "\u001b[38;5;4m\u001b[1m[ \u001b[22m\u001b[39m\u001b[38;5;4m\u001b[1mDebug: \u001b[22m\u001b[39m20211231 22:39:32 loss: Dual{ForwardDiff.Tag{var\"#validation_mse#17\"{var\"#14#16\"{cf_params, Dict{String, typeof(get_abs_neighborhood)}, Int64, Matrix{Float64}}, RatingsDataset, RatingsDataset}, Float64}}(1.248498554260949,-1.6194834023099672e-7,5.193698937143321e-6,-1.624830100736387e-10) β: Dual{ForwardDiff.Tag{var\"#validation_mse#17\"{var\"#14#16\"{cf_params, Dict{String, typeof(get_abs_neighborhood)}, Int64, Matrix{Float64}}, RatingsDataset, RatingsDataset}, Float64}}(130.42554547607094,26.946855032379684,-2.6838731951674095,0.06231948126835443): λ ForwardDiff.Dual{ForwardDiff.Tag{var\"#validation_mse#17\"{var\"#14#16\"{cf_params, Dict{String, typeof(get_abs_neighborhood)}, Int64, Matrix{Float64}}, RatingsDataset, RatingsDataset}, Float64}, Float64, 3}[Dual{ForwardDiff.Tag{var\"#validation_mse#17\"{var\"#14#16\"{cf_params, Dict{String, typeof(get_abs_neighborhood)}, Int64, Matrix{Float64}}, RatingsDataset, RatingsDataset}, Float64}}(0.7074407071637637,1.0,0.0,0.0), Dual{ForwardDiff.Tag{var\"#validation_mse#17\"{var\"#14#16\"{cf_params, Dict{String, typeof(get_abs_neighborhood)}, Int64, Matrix{Float64}}, RatingsDataset, RatingsDataset}, Float64}}(0.605654064330127,0.0,1.0,0.0), Dual{ForwardDiff.Tag{var\"#validation_mse#17\"{var\"#14#16\"{cf_params, Dict{String, typeof(get_abs_neighborhood)}, Int64, Matrix{Float64}}, RatingsDataset, RatingsDataset}, Float64}}(2088.797493759482,0.0,0.0,1.0)]\n",
      "\u001b[32mProgress: 100%|███████████████████████████| Time: 0:02:37 (39.56 ms/it)\u001b[39m\n",
      "\u001b[38;5;4m\u001b[1m[ \u001b[22m\u001b[39m\u001b[38;5;4m\u001b[1mDebug: \u001b[22m\u001b[39m20211231 22:42:17 loss: Dual{ForwardDiff.Tag{var\"#validation_mse#17\"{var\"#14#16\"{cf_params, Dict{String, typeof(get_abs_neighborhood)}, Int64, Matrix{Float64}}, RatingsDataset, RatingsDataset}, Float64}}(1.248498718677668,-1.1452309485403457e-6,-3.897616473070603e-5,-6.395991522546344e-11) β: Dual{ForwardDiff.Tag{var\"#validation_mse#17\"{var\"#14#16\"{cf_params, Dict{String, typeof(get_abs_neighborhood)}, Int64, Matrix{Float64}}, RatingsDataset, RatingsDataset}, Float64}}(196.18854035878132,40.689728274989754,2.7319366014016637,0.062403700128199444): λ ForwardDiff.Dual{ForwardDiff.Tag{var\"#validation_mse#17\"{var\"#14#16\"{cf_params, Dict{String, typeof(get_abs_neighborhood)}, Int64, Matrix{Float64}}, RatingsDataset, RatingsDataset}, Float64}, Float64, 3}[Dual{ForwardDiff.Tag{var\"#validation_mse#17\"{var\"#14#16\"{cf_params, Dict{String, typeof(get_abs_neighborhood)}, Int64, Matrix{Float64}}, RatingsDataset, RatingsDataset}, Float64}}(0.713773690811928,1.0,0.0,0.0), Dual{ForwardDiff.Tag{var\"#validation_mse#17\"{var\"#14#16\"{cf_params, Dict{String, typeof(get_abs_neighborhood)}, Int64, Matrix{Float64}}, RatingsDataset, RatingsDataset}, Float64}}(0.5892866678612506,0.0,1.0,0.0), Dual{ForwardDiff.Tag{var\"#validation_mse#17\"{var\"#14#16\"{cf_params, Dict{String, typeof(get_abs_neighborhood)}, Int64, Matrix{Float64}}, RatingsDataset, RatingsDataset}, Float64}}(3139.7659448724708,0.0,0.0,1.0)]\n",
      "\u001b[32mProgress: 100%|███████████████████████████| Time: 0:02:27 (37.14 ms/it)\u001b[39m\n",
      "\u001b[38;5;4m\u001b[1m[ \u001b[22m\u001b[39m\u001b[38;5;4m\u001b[1mDebug: \u001b[22m\u001b[39m20211231 22:44:52 loss: Dual{ForwardDiff.Tag{var\"#validation_mse#17\"{var\"#14#16\"{cf_params, Dict{String, typeof(get_abs_neighborhood)}, Int64, Matrix{Float64}}, RatingsDataset, RatingsDataset}, Float64}}(1.2484985171250216,-5.194130295782287e-7,-8.658011754578416e-6,-1.1670900567080878e-10) β: Dual{ForwardDiff.Tag{var\"#validation_mse#17\"{var\"#14#16\"{cf_params, Dict{String, typeof(get_abs_neighborhood)}, Int64, Matrix{Float64}}, RatingsDataset, RatingsDataset}, Float64}}(151.00369172013808,31.247208904400843,-1.4756647646971948,0.06234948892556364): λ ForwardDiff.Dual{ForwardDiff.Tag{var\"#validation_mse#17\"{var\"#14#16\"{cf_params, Dict{String, typeof(get_abs_neighborhood)}, Int64, Matrix{Float64}}, RatingsDataset, RatingsDataset}, Float64}, Float64, 3}[Dual{ForwardDiff.Tag{var\"#validation_mse#17\"{var\"#14#16\"{cf_params, Dict{String, typeof(get_abs_neighborhood)}, Int64, Matrix{Float64}}, RatingsDataset, RatingsDataset}, Float64}}(0.7094233562591392,1.0,0.0,0.0), Dual{ForwardDiff.Tag{var\"#validation_mse#17\"{var\"#14#16\"{cf_params, Dict{String, typeof(get_abs_neighborhood)}, Int64, Matrix{Float64}}, RatingsDataset, RatingsDataset}, Float64}}(0.6005299702844908,0.0,1.0,0.0), Dual{ForwardDiff.Tag{var\"#validation_mse#17\"{var\"#14#16\"{cf_params, Dict{String, typeof(get_abs_neighborhood)}, Int64, Matrix{Float64}}, RatingsDataset, RatingsDataset}, Float64}}(2417.8211837971694,0.0,0.0,1.0)]\n"
     ]
    },
    {
     "name": "stdout",
     "output_type": "stream",
     "text": [
      "    23     1.248499e+00     8.658012e-06\n",
      " * Current step size: 2.2522685707234964\n",
      " * time: 9986.203572034836\n",
      " * g(x): [-5.194130295782287e-7, -8.658011754578416e-6, -1.1670900567080878e-10]\n",
      " * x: [0.7094233562591392, 0.6005299702844908, 2417.8211837971694]\n"
     ]
    },
    {
     "name": "stderr",
     "output_type": "stream",
     "text": [
      "\u001b[32mProgress: 100%|███████████████████████████| Time: 0:02:37 (39.71 ms/it)\u001b[39m\n",
      "\u001b[38;5;4m\u001b[1m[ \u001b[22m\u001b[39m\u001b[38;5;4m\u001b[1mDebug: \u001b[22m\u001b[39m20211231 22:47:38 loss: Dual{ForwardDiff.Tag{var\"#validation_mse#17\"{var\"#14#16\"{cf_params, Dict{String, typeof(get_abs_neighborhood)}, Int64, Matrix{Float64}}, RatingsDataset, RatingsDataset}, Float64}}(1.248498472746696,1.9195687677387426e-7,-4.119306340950981e-6,-9.139187299977313e-11) β: Dual{ForwardDiff.Tag{var\"#validation_mse#17\"{var\"#14#16\"{cf_params, Dict{String, typeof(get_abs_neighborhood)}, Int64, Matrix{Float64}}, RatingsDataset, RatingsDataset}, Float64}}(171.29226881271788,35.36011390417582,-2.2900497127304176,0.062360299059550976): λ ForwardDiff.Dual{ForwardDiff.Tag{var\"#validation_mse#17\"{var\"#14#16\"{cf_params, Dict{String, typeof(get_abs_neighborhood)}, Int64, Matrix{Float64}}, RatingsDataset, RatingsDataset}, Float64}, Float64, 3}[Dual{ForwardDiff.Tag{var\"#validation_mse#17\"{var\"#14#16\"{cf_params, Dict{String, typeof(get_abs_neighborhood)}, Int64, Matrix{Float64}}, RatingsDataset, RatingsDataset}, Float64}}(0.7103489181224519,1.0,0.0,0.0), Dual{ForwardDiff.Tag{var\"#validation_mse#17\"{var\"#14#16\"{cf_params, Dict{String, typeof(get_abs_neighborhood)}, Int64, Matrix{Float64}}, RatingsDataset, RatingsDataset}, Float64}}(0.6022000786662184,0.0,1.0,0.0), Dual{ForwardDiff.Tag{var\"#validation_mse#17\"{var\"#14#16\"{cf_params, Dict{String, typeof(get_abs_neighborhood)}, Int64, Matrix{Float64}}, RatingsDataset, RatingsDataset}, Float64}}(2742.7493867577273,0.0,0.0,1.0)]\n",
      "\u001b[32mProgress: 100%|███████████████████████████| Time: 0:03:05 (46.73 ms/it)\u001b[39m\n",
      "\u001b[38;5;4m\u001b[1m[ \u001b[22m\u001b[39m\u001b[38;5;4m\u001b[1mDebug: \u001b[22m\u001b[39m20211231 22:51:00 loss: Dual{ForwardDiff.Tag{var\"#validation_mse#17\"{var\"#14#16\"{cf_params, Dict{String, typeof(get_abs_neighborhood)}, Int64, Matrix{Float64}}, RatingsDataset, RatingsDataset}, Float64}}(1.248498431126642,3.3717255717924683e-6,1.4363525691563705e-5,-4.4068018926505865e-11) β: Dual{ForwardDiff.Tag{var\"#validation_mse#17\"{var\"#14#16\"{cf_params, Dict{String, typeof(get_abs_neighborhood)}, Int64, Matrix{Float64}}, RatingsDataset, RatingsDataset}, Float64}}(252.5000526683021,51.51061005644769,-7.057597326438606,0.062399565587754044): λ ForwardDiff.Dual{ForwardDiff.Tag{var\"#validation_mse#17\"{var\"#14#16\"{cf_params, Dict{String, typeof(get_abs_neighborhood)}, Int64, Matrix{Float64}}, RatingsDataset, RatingsDataset}, Float64}, Float64, 3}[Dual{ForwardDiff.Tag{var\"#validation_mse#17\"{var\"#14#16\"{cf_params, Dict{String, typeof(get_abs_neighborhood)}, Int64, Matrix{Float64}}, RatingsDataset, RatingsDataset}, Float64}}(0.7140511655757028,1.0,0.0,0.0), Dual{ForwardDiff.Tag{var\"#validation_mse#17\"{var\"#14#16\"{cf_params, Dict{String, typeof(get_abs_neighborhood)}, Int64, Matrix{Float64}}, RatingsDataset, RatingsDataset}, Float64}}(0.6088805121931284,0.0,1.0,0.0), Dual{ForwardDiff.Tag{var\"#validation_mse#17\"{var\"#14#16\"{cf_params, Dict{String, typeof(get_abs_neighborhood)}, Int64, Matrix{Float64}}, RatingsDataset, RatingsDataset}, Float64}}(4042.4621985999597,0.0,0.0,1.0)]\n",
      "\u001b[32mProgress: 100%|███████████████████████████| Time: 0:02:54 (43.97 ms/it)\u001b[39m\n",
      "\u001b[38;5;4m\u001b[1m[ \u001b[22m\u001b[39m\u001b[38;5;4m\u001b[1mDebug: \u001b[22m\u001b[39m20211231 22:54:09 loss: Dual{ForwardDiff.Tag{var\"#validation_mse#17\"{var\"#14#16\"{cf_params, Dict{String, typeof(get_abs_neighborhood)}, Int64, Matrix{Float64}}, RatingsDataset, RatingsDataset}, Float64}}(1.2484984236846226,2.512731025669479e-6,9.52863472097374e-6,-5.177350496585115e-11) β: Dual{ForwardDiff.Tag{var\"#validation_mse#17\"{var\"#14#16\"{cf_params, Dict{String, typeof(get_abs_neighborhood)}, Int64, Matrix{Float64}}, RatingsDataset, RatingsDataset}, Float64}}(231.37616417998294,47.35732123486312,-5.586064105436322,0.062389990115420436): λ ForwardDiff.Dual{ForwardDiff.Tag{var\"#validation_mse#17\"{var\"#14#16\"{cf_params, Dict{String, typeof(get_abs_neighborhood)}, Int64, Matrix{Float64}}, RatingsDataset, RatingsDataset}, Float64}, Float64, 3}[Dual{ForwardDiff.Tag{var\"#validation_mse#17\"{var\"#14#16\"{cf_params, Dict{String, typeof(get_abs_neighborhood)}, Int64, Matrix{Float64}}, RatingsDataset, RatingsDataset}, Float64}}(0.713088468683528,1.0,0.0,0.0), Dual{ForwardDiff.Tag{var\"#validation_mse#17\"{var\"#14#16\"{cf_params, Dict{String, typeof(get_abs_neighborhood)}, Int64, Matrix{Float64}}, RatingsDataset, RatingsDataset}, Float64}}(0.6071433963801135,0.0,1.0,0.0), Dual{ForwardDiff.Tag{var\"#validation_mse#17\"{var\"#14#16\"{cf_params, Dict{String, typeof(get_abs_neighborhood)}, Int64, Matrix{Float64}}, RatingsDataset, RatingsDataset}, Float64}}(3704.497354142687,0.0,0.0,1.0)]\n"
     ]
    },
    {
     "name": "stdout",
     "output_type": "stream",
     "text": [
      "    24     1.248498e+00     9.528635e-06\n",
      " * Current step size: 3.959878393509913\n",
      " * time: 10542.65458393097\n",
      " * g(x): [2.512731025669479e-6, 9.52863472097374e-6, -5.177350496585115e-11]\n",
      " * x: [0.713088468683528, 0.6071433963801135, 3704.497354142687]\n"
     ]
    },
    {
     "name": "stderr",
     "output_type": "stream",
     "text": [
      "\u001b[32mProgress: 100%|███████████████████████████| Time: 0:03:01 (45.57 ms/it)\u001b[39m\n",
      "\u001b[38;5;4m\u001b[1m[ \u001b[22m\u001b[39m\u001b[38;5;4m\u001b[1mDebug: \u001b[22m\u001b[39m20211231 22:57:25 loss: Dual{ForwardDiff.Tag{var\"#validation_mse#17\"{var\"#14#16\"{cf_params, Dict{String, typeof(get_abs_neighborhood)}, Int64, Matrix{Float64}}, RatingsDataset, RatingsDataset}, Float64}}(1.2484983856494571,9.79285446141772e-7,3.961438007172601e-6,-3.884983994613983e-11) β: Dual{ForwardDiff.Tag{var\"#validation_mse#17\"{var\"#14#16\"{cf_params, Dict{String, typeof(get_abs_neighborhood)}, Int64, Matrix{Float64}}, RatingsDataset, RatingsDataset}, Float64}}(262.9023667921277,54.16678304236958,-5.2065808226277905,0.062370990549555846): λ ForwardDiff.Dual{ForwardDiff.Tag{var\"#validation_mse#17\"{var\"#14#16\"{cf_params, Dict{String, typeof(get_abs_neighborhood)}, Int64, Matrix{Float64}}, RatingsDataset, RatingsDataset}, Float64}, Float64, 3}[Dual{ForwardDiff.Tag{var\"#validation_mse#17\"{var\"#14#16\"{cf_params, Dict{String, typeof(get_abs_neighborhood)}, Int64, Matrix{Float64}}, RatingsDataset, RatingsDataset}, Float64}}(0.7114328256047728,1.0,0.0,0.0), Dual{ForwardDiff.Tag{var\"#validation_mse#17\"{var\"#14#16\"{cf_params, Dict{String, typeof(get_abs_neighborhood)}, Int64, Matrix{Float64}}, RatingsDataset, RatingsDataset}, Float64}}(0.6053022096109903,0.0,1.0,0.0), Dual{ForwardDiff.Tag{var\"#validation_mse#17\"{var\"#14#16\"{cf_params, Dict{String, typeof(get_abs_neighborhood)}, Int64, Matrix{Float64}}, RatingsDataset, RatingsDataset}, Float64}}(4211.069763709225,0.0,0.0,1.0)]\n",
      "\u001b[32mProgress: 100%|███████████████████████████| Time: 0:02:31 (38.15 ms/it)\u001b[39m\n",
      "\u001b[38;5;4m\u001b[1m[ \u001b[22m\u001b[39m\u001b[38;5;4m\u001b[1mDebug: \u001b[22m\u001b[39m20211231 23:00:11 loss: Dual{ForwardDiff.Tag{var\"#validation_mse#17\"{var\"#14#16\"{cf_params, Dict{String, typeof(get_abs_neighborhood)}, Int64, Matrix{Float64}}, RatingsDataset, RatingsDataset}, Float64}}(1.2484984009852271,-4.996423250021866e-6,-1.8163778091391447e-5,-1.5651908285132558e-11) β: Dual{ForwardDiff.Tag{var\"#validation_mse#17\"{var\"#14#16\"{cf_params, Dict{String, typeof(get_abs_neighborhood)}, Int64, Matrix{Float64}}, RatingsDataset, RatingsDataset}, Float64}}(388.7775099555309,82.11711310373528,-0.9824527931803161,0.062289101730558176): λ ForwardDiff.Dual{ForwardDiff.Tag{var\"#validation_mse#17\"{var\"#14#16\"{cf_params, Dict{String, typeof(get_abs_neighborhood)}, Int64, Matrix{Float64}}, RatingsDataset, RatingsDataset}, Float64}, Float64, 3}[Dual{ForwardDiff.Tag{var\"#validation_mse#17\"{var\"#14#16\"{cf_params, Dict{String, typeof(get_abs_neighborhood)}, Int64, Matrix{Float64}}, RatingsDataset, RatingsDataset}, Float64}}(0.704810253289752,1.0,0.0,0.0), Dual{ForwardDiff.Tag{var\"#validation_mse#17\"{var\"#14#16\"{cf_params, Dict{String, typeof(get_abs_neighborhood)}, Int64, Matrix{Float64}}, RatingsDataset, RatingsDataset}, Float64}}(0.5979374625344978,0.0,1.0,0.0), Dual{ForwardDiff.Tag{var\"#validation_mse#17\"{var\"#14#16\"{cf_params, Dict{String, typeof(get_abs_neighborhood)}, Int64, Matrix{Float64}}, RatingsDataset, RatingsDataset}, Float64}}(6237.359401975379,0.0,0.0,1.0)]\n",
      "\u001b[32mProgress: 100%|███████████████████████████| Time: 0:01:59 (30.08 ms/it)\u001b[39m\n",
      "\u001b[38;5;4m\u001b[1m[ \u001b[22m\u001b[39m\u001b[38;5;4m\u001b[1mDebug: \u001b[22m\u001b[39m20211231 23:02:17 loss: Dual{ForwardDiff.Tag{var\"#validation_mse#17\"{var\"#14#16\"{cf_params, Dict{String, typeof(get_abs_neighborhood)}, Int64, Matrix{Float64}}, RatingsDataset, RatingsDataset}, Float64}}(1.2484983618545273,-1.779294767558379e-6,-6.195247261480316e-6,-2.4657240677324826e-11) β: Dual{ForwardDiff.Tag{var\"#validation_mse#17\"{var\"#14#16\"{cf_params, Dict{String, typeof(get_abs_neighborhood)}, Int64, Matrix{Float64}}, RatingsDataset, RatingsDataset}, Float64}}(320.6499929597035,66.8372821347412,-3.808710099861128,0.062334635581897044): λ ForwardDiff.Dual{ForwardDiff.Tag{var\"#validation_mse#17\"{var\"#14#16\"{cf_params, Dict{String, typeof(get_abs_neighborhood)}, Int64, Matrix{Float64}}, RatingsDataset, RatingsDataset}, Float64}, Float64, 3}[Dual{ForwardDiff.Tag{var\"#validation_mse#17\"{var\"#14#16\"{cf_params, Dict{String, typeof(get_abs_neighborhood)}, Int64, Matrix{Float64}}, RatingsDataset, RatingsDataset}, Float64}}(0.7083970843895591,1.0,0.0,0.0), Dual{ForwardDiff.Tag{var\"#validation_mse#17\"{var\"#14#16\"{cf_params, Dict{String, typeof(get_abs_neighborhood)}, Int64, Matrix{Float64}}, RatingsDataset, RatingsDataset}, Float64}}(0.6019262606328231,0.0,1.0,0.0), Dual{ForwardDiff.Tag{var\"#validation_mse#17\"{var\"#14#16\"{cf_params, Dict{String, typeof(get_abs_neighborhood)}, Int64, Matrix{Float64}}, RatingsDataset, RatingsDataset}, Float64}}(5139.906879597439,0.0,0.0,1.0)]\n"
     ]
    },
    {
     "name": "stdout",
     "output_type": "stream",
     "text": [
      "    25     1.248498e+00     6.195247e-06\n",
      " * Current step size: 2.8335722561025314\n",
      " * time: 11030.968340873718\n",
      " * g(x): [-1.779294767558379e-6, -6.195247261480316e-6, -2.4657240677324826e-11]\n",
      " * x: [0.7083970843895591, 0.6019262606328231, 5139.906879597439]\n"
     ]
    },
    {
     "name": "stderr",
     "output_type": "stream",
     "text": [
      "\u001b[32mProgress: 100%|███████████████████████████| Time: 0:02:29 (37.52 ms/it)\u001b[39m\n",
      "\u001b[38;5;4m\u001b[1m[ \u001b[22m\u001b[39m\u001b[38;5;4m\u001b[1mDebug: \u001b[22m\u001b[39m20211231 23:04:52 loss: Dual{ForwardDiff.Tag{var\"#validation_mse#17\"{var\"#14#16\"{cf_params, Dict{String, typeof(get_abs_neighborhood)}, Int64, Matrix{Float64}}, RatingsDataset, RatingsDataset}, Float64}}(1.2484983387798936,-6.586444783287051e-7,-2.7889406368809055e-6,-1.9175986024808547e-11) β: Dual{ForwardDiff.Tag{var\"#validation_mse#17\"{var\"#14#16\"{cf_params, Dict{String, typeof(get_abs_neighborhood)}, Int64, Matrix{Float64}}, RatingsDataset, RatingsDataset}, Float64}}(366.3823217324565,76.03670351255775,-5.337093427961103,0.06235517539779425): λ ForwardDiff.Dual{ForwardDiff.Tag{var\"#validation_mse#17\"{var\"#14#16\"{cf_params, Dict{String, typeof(get_abs_neighborhood)}, Int64, Matrix{Float64}}, RatingsDataset, RatingsDataset}, Float64}, Float64, 3}[Dual{ForwardDiff.Tag{var\"#validation_mse#17\"{var\"#14#16\"{cf_params, Dict{String, typeof(get_abs_neighborhood)}, Int64, Matrix{Float64}}, RatingsDataset, RatingsDataset}, Float64}}(0.7100455561818481,1.0,0.0,0.0), Dual{ForwardDiff.Tag{var\"#validation_mse#17\"{var\"#14#16\"{cf_params, Dict{String, typeof(get_abs_neighborhood)}, Int64, Matrix{Float64}}, RatingsDataset, RatingsDataset}, Float64}}(0.603073694664973,0.0,1.0,0.0), Dual{ForwardDiff.Tag{var\"#validation_mse#17\"{var\"#14#16\"{cf_params, Dict{String, typeof(get_abs_neighborhood)}, Int64, Matrix{Float64}}, RatingsDataset, RatingsDataset}, Float64}}(5871.638847046638,0.0,0.0,1.0)]\n",
      "\u001b[32mProgress: 100%|███████████████████████████| Time: 0:02:14 (33.91 ms/it)\u001b[39m\n",
      "\u001b[38;5;4m\u001b[1m[ \u001b[22m\u001b[39m\u001b[38;5;4m\u001b[1mDebug: \u001b[22m\u001b[39m20211231 23:07:16 loss: Dual{ForwardDiff.Tag{var\"#validation_mse#17\"{var\"#14#16\"{cf_params, Dict{String, typeof(get_abs_neighborhood)}, Int64, Matrix{Float64}}, RatingsDataset, RatingsDataset}, Float64}}(1.2484983298734662,3.972210302679271e-6,1.0992543564792597e-5,-9.115216386950353e-12) β: Dual{ForwardDiff.Tag{var\"#validation_mse#17\"{var\"#14#16\"{cf_params, Dict{String, typeof(get_abs_neighborhood)}, Int64, Matrix{Float64}}, RatingsDataset, RatingsDataset}, Float64}}(549.5863379678569,111.94463610912149,-13.967455187501788,0.062434432640484476): λ ForwardDiff.Dual{ForwardDiff.Tag{var\"#validation_mse#17\"{var\"#14#16\"{cf_params, Dict{String, typeof(get_abs_neighborhood)}, Int64, Matrix{Float64}}, RatingsDataset, RatingsDataset}, Float64}, Float64, 3}[Dual{ForwardDiff.Tag{var\"#validation_mse#17\"{var\"#14#16\"{cf_params, Dict{String, typeof(get_abs_neighborhood)}, Int64, Matrix{Float64}}, RatingsDataset, RatingsDataset}, Float64}}(0.7166394433510043,1.0,0.0,0.0), Dual{ForwardDiff.Tag{var\"#validation_mse#17\"{var\"#14#16\"{cf_params, Dict{String, typeof(get_abs_neighborhood)}, Int64, Matrix{Float64}}, RatingsDataset, RatingsDataset}, Float64}}(0.6076634307935727,0.0,1.0,0.0), Dual{ForwardDiff.Tag{var\"#validation_mse#17\"{var\"#14#16\"{cf_params, Dict{String, typeof(get_abs_neighborhood)}, Int64, Matrix{Float64}}, RatingsDataset, RatingsDataset}, Float64}}(8798.566716843434,0.0,0.0,1.0)]\n",
      "\u001b[32mProgress:  36%|█████████▉                 |  ETA: 0:01:19 (31.33 ms/it)\u001b[39m"
     ]
    }
   ],
   "source": [
    "for param in params\n",
    "    optimize_model(param)\n",
    "end"
   ]
  }
 ],
 "metadata": {
  "kernelspec": {
   "display_name": "Julia 1.6.3",
   "language": "julia",
   "name": "julia-1.6"
  },
  "language_info": {
   "file_extension": ".jl",
   "mimetype": "application/julia",
   "name": "julia",
   "version": "1.6.3"
  }
 },
 "nbformat": 4,
 "nbformat_minor": 5
}
