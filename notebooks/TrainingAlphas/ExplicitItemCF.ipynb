{
 "cells": [
  {
   "cell_type": "markdown",
   "id": "c3758ece-9b72-47b4-ae6a-aa364e0443e3",
   "metadata": {},
   "source": [
    "# Item Collaborative Filtering\n",
    "* See `ItemCollaborativeFilteringBase.ipynb` for algorithm details\n",
    "* The weights here are the cosine correlation between the two items"
   ]
  },
  {
   "cell_type": "code",
   "execution_count": 1,
   "id": "7cc9334a-2287-41d6-885b-a5cca94fe263",
   "metadata": {},
   "outputs": [],
   "source": [
    "const name = \"ExplicitItemCF\";"
   ]
  },
  {
   "cell_type": "code",
   "execution_count": 2,
   "id": "d17593ac-3260-4c01-a5df-91edfcd17e13",
   "metadata": {},
   "outputs": [],
   "source": [
    "import NBInclude: @nbinclude\n",
    "@nbinclude(\"ExplicitItemCFBase.ipynb\");"
   ]
  },
  {
   "cell_type": "markdown",
   "id": "85910c72-6e77-4dbd-8991-6ad3b81035a7",
   "metadata": {},
   "source": [
    "## Setup hyperparameters"
   ]
  },
  {
   "cell_type": "code",
   "execution_count": 3,
   "id": "0c00b2aa-a40c-4374-9631-9918f0f55968",
   "metadata": {},
   "outputs": [],
   "source": [
    "item_cf_params = [\n",
    "    cf_params(\n",
    "        name = \"ExplicitItemCF\",\n",
    "        training_residuals = [\"ExplicitUserItemBiases\"],\n",
    "        validation_residuals = [\"ExplicitUserItemBiases\"],\n",
    "        neighborhood_type = \"abs\",\n",
    "        S = get_correlation_matrix_outdir([\"ExplicitUserItemBiases\"]),\n",
    "        K = 256,\n",
    "        λ = [0.0, 1.0, 0.0, 0.0, 0.0],\n",
    "    ),\n",
    "];"
   ]
  },
  {
   "cell_type": "code",
   "execution_count": 4,
   "id": "58987d74-8c46-42f7-9826-ed45c4e98723",
   "metadata": {},
   "outputs": [
    {
     "data": {
      "text/plain": [
       "\"ExplicitItemCF/6540169344955467896\""
      ]
     },
     "execution_count": 4,
     "metadata": {},
     "output_type": "execute_result"
    }
   ],
   "source": [
    "get_correlation_matrix_outdir([\"ExplicitUserItemBiases\"])"
   ]
  },
  {
   "cell_type": "markdown",
   "id": "73d6710c-a42a-443d-8616-f1441be67eee",
   "metadata": {},
   "source": [
    "## Train models"
   ]
  },
  {
   "cell_type": "code",
   "execution_count": null,
   "id": "1842d509-9377-4b28-9fe9-9212da6183d1",
   "metadata": {
    "tags": []
   },
   "outputs": [
    {
     "name": "stderr",
     "output_type": "stream",
     "text": [
      "\u001b[32mProgress: 100%|███████████████████████████| Time: 0:00:00 (79.83 ns/it)\u001b[39m\n",
      "\u001b[32mProgress: 100%|███████████████████████████| Time: 0:06:19 ( 0.16  s/it)\u001b[39m\n",
      "\u001b[38;5;6m\u001b[1m[ \u001b[22m\u001b[39m\u001b[38;5;6m\u001b[1mInfo: \u001b[22m\u001b[39m20220623 10:38:54 loss: Dual{ForwardDiff.Tag{var\"#validation_mse#85\"{var\"#82#84\"{Dict{String, typeof(get_abs_neighborhood)}, Int64, Matrix{Float32}}, RatingsDataset, RatingsDataset}, Float32}}(1.4749368,0.54853517,-0.016961224,-0.01253092,-0.0050494843,-0.0020552522,0.0007371174,-7.564512e-9,-0.00095776754,-0.017471848,-0.18683413)\n",
      "\u001b[32mProgress: 100%|███████████████████████████| Time: 0:16:50 ( 0.44  s/it)\u001b[39m\n",
      "\u001b[38;5;6m\u001b[1m[ \u001b[22m\u001b[39m\u001b[38;5;6m\u001b[1mInfo: \u001b[22m\u001b[39m20220623 10:57:05 loss: Dual{ForwardDiff.Tag{var\"#validation_mse#85\"{var\"#82#84\"{Dict{String, typeof(get_abs_neighborhood)}, Int64, Matrix{Float32}}, RatingsDataset, RatingsDataset}, Float32}}(Dual{ForwardDiff.Tag{var\"#validation_mse#85\"{var\"#82#84\"{Dict{String, typeof(get_abs_neighborhood)}, Int64, Matrix{Float32}}, RatingsDataset, RatingsDataset}, Float32}}(1.4749368,0.54853517,-0.016961224,-0.01253092,-0.0050494843,-0.0020552522,0.0007371174,-7.564512e-9,-0.00095776754,-0.017471848,-0.18683413),Dual{ForwardDiff.Tag{var\"#validation_mse#85\"{var\"#82#84\"{Dict{String, typeof(get_abs_neighborhood)}, Int64, Matrix{Float32}}, RatingsDataset, RatingsDataset}, Float32}}(0.54853517,36.387768,-0.28334424,-0.3301997,-0.13036832,-0.05449505,-0.12755707,-1.8682007e-7,0.41505203,2.3642209,12.604142),Dual{ForwardDiff.Tag{var\"#validation_mse#85\"{var\"#82#84\"{Dict{String, typeof(get_abs_neighborhood)}, Int64, Matrix{Float32}}, RatingsDataset, RatingsDataset}, Float32}}(-0.016961224,-0.28334424,0.029039498,0.014563054,0.005680963,0.0022797305,-0.00213544,-1.753573e-8,0.010345899,0.081427716,0.52334315),Dual{ForwardDiff.Tag{var\"#validation_mse#85\"{var\"#82#84\"{Dict{String, typeof(get_abs_neighborhood)}, Int64, Matrix{Float32}}, RatingsDataset, RatingsDataset}, Float32}}(-0.01253092,-0.3301997,0.014563054,0.010506543,0.004600473,0.0020254871,0.00060362346,-3.2281375e-9,-0.0004937518,0.0042023966,0.04784348),Dual{ForwardDiff.Tag{var\"#validation_mse#85\"{var\"#82#84\"{Dict{String, typeof(get_abs_neighborhood)}, Int64, Matrix{Float32}}, RatingsDataset, RatingsDataset}, Float32}}(-0.0050494843,-0.13036829,0.005680963,0.004600473,0.0021516008,0.0009987219,0.00020834836,-1.1449589e-9,0.00010501399,0.0033614156,0.026849251),Dual{ForwardDiff.Tag{var\"#validation_mse#85\"{var\"#82#84\"{Dict{String, typeof(get_abs_neighborhood)}, Int64, Matrix{Float32}}, RatingsDataset, RatingsDataset}, Float32}}(-0.0020552522,-0.05449505,0.0022797305,0.0020254871,0.0009987219,0.00048536414,2.9356155e-5,-3.0115455e-10,0.00036500223,0.0033634077,0.021495877),Dual{ForwardDiff.Tag{var\"#validation_mse#85\"{var\"#82#84\"{Dict{String, typeof(get_abs_neighborhood)}, Int64, Matrix{Float32}}, RatingsDataset, RatingsDataset}, Float32}}(0.0007371174,-0.1275572,-0.0021354342,0.00060362625,0.00020834836,2.935615e-5,0.10839033,-0.00073714525,-0.22081031,-1.2049598,-6.536626),Dual{ForwardDiff.Tag{var\"#validation_mse#85\"{var\"#82#84\"{Dict{String, typeof(get_abs_neighborhood)}, Int64, Matrix{Float32}}, RatingsDataset, RatingsDataset}, Float32}}(-7.564512e-9,3.9515236e-8,-1.1817904e-8,-2.2822173e-9,-2.014062e-10,1.1351268e-10,-0.0007371378,-1.500756e-8,0.00095779676,0.017471759,0.18683505),Dual{ForwardDiff.Tag{var\"#validation_mse#85\"{var\"#82#84\"{Dict{String, typeof(get_abs_neighborhood)}, Int64, Matrix{Float32}}, RatingsDataset, RatingsDataset}, Float32}}(-0.00095776754,0.4150518,0.010345907,-0.00049375364,0.0001050135,0.0003650014,-0.22081034,0.00095772074,1.0734148,7.59299,49.339844),Dual{ForwardDiff.Tag{var\"#validation_mse#85\"{var\"#82#84\"{Dict{String, typeof(get_abs_neighborhood)}, Int64, Matrix{Float32}}, RatingsDataset, RatingsDataset}, Float32}}(-0.017471848,2.3642218,0.081427805,0.004202389,0.0033614207,0.0033634072,-1.2049598,0.017471697,7.59299,58.333206,403.40182),Dual{ForwardDiff.Tag{var\"#validation_mse#85\"{var\"#82#84\"{Dict{String, typeof(get_abs_neighborhood)}, Int64, Matrix{Float32}}, RatingsDataset, RatingsDataset}, Float32}}(-0.18683413,12.604146,0.52334315,0.047843423,0.026849236,0.021495858,-6.536626,0.18683362,49.339844,403.40182,2939.9536))\n"
     ]
    },
    {
     "name": "stdout",
     "output_type": "stream",
     "text": [
      "Iter     Function value   Gradient norm \n",
      "     0     1.474937e+00     5.485352e-01\n",
      " * time: 0.007447957992553711\n",
      " * g(x): Float32[0.54853517, -0.016961224, -0.01253092, -0.0050494843, -0.0020552522, 0.0007371174, -7.564512f-9, -0.00095776754, -0.017471848, -0.18683413]\n",
      " * reached_subproblem_solution: true\n",
      " * h(x): Float32[36.387768 -0.28334424 -0.3301997 -0.13036832 -0.05449505 -0.12755707 -1.8682007f-7 0.41505203 2.3642209 12.604142; -0.28334424 0.029039498 0.014563054 0.005680963 0.0022797305 -0.00213544 -1.753573f-8 0.010345899 0.081427716 0.52334315; -0.3301997 0.014563054 0.010506543 0.004600473 0.0020254871 0.00060362346 -3.2281375f-9 -0.0004937518 0.0042023966 0.04784348; -0.13036829 0.005680963 0.004600473 0.0021516008 0.0009987219 0.00020834836 -1.1449589f-9 0.00010501399 0.0033614156 0.026849251; -0.05449505 0.0022797305 0.0020254871 0.0009987219 0.00048536414 2.9356155f-5 -3.0115455f-10 0.00036500223 0.0033634077 0.021495877; -0.1275572 -0.0021354342 0.00060362625 0.00020834836 2.935615f-5 0.10839033 -0.00073714525 -0.22081031 -1.2049598 -6.536626; 3.9515236f-8 -1.1817904f-8 -2.2822173f-9 -2.014062f-10 1.1351268f-10 -0.0007371378 -1.500756f-8 0.00095779676 0.017471759 0.18683505; 0.4150518 0.010345907 -0.00049375364 0.0001050135 0.0003650014 -0.22081034 0.00095772074 1.0734148 7.59299 49.339844; 2.3642218 0.081427805 0.004202389 0.0033614207 0.0033634072 -1.2049598 0.017471697 7.59299 58.333206 403.40182; 12.604146 0.52334315 0.047843423 0.026849236 0.021495858 -6.536626 0.18683362 49.339844 403.40182 2939.9536]\n",
      " * x: Float32[0.0, 1.0, 0.0, 0.0, 0.0, 0.0, 1.0, 0.0, 0.0, 0.0]\n",
      " * lambda: NaN\n",
      " * interior: true\n",
      " * hard case: false\n",
      " * delta: 1.0\n"
     ]
    },
    {
     "name": "stderr",
     "output_type": "stream",
     "text": [
      "\u001b[32mProgress: 100%|███████████████████████████| Time: 0:06:01 ( 0.16  s/it)\u001b[39m\n",
      "\u001b[38;5;6m\u001b[1m[ \u001b[22m\u001b[39m\u001b[38;5;6m\u001b[1mInfo: \u001b[22m\u001b[39m20220623 11:03:12 loss: Dual{ForwardDiff.Tag{var\"#validation_mse#85\"{var\"#82#84\"{Dict{String, typeof(get_abs_neighborhood)}, Int64, Matrix{Float32}}, RatingsDataset, RatingsDataset}, Float32}}(1.4652884,-0.021653319,-0.01155098,-0.004873848,-0.0018236522,-0.00069507264,-0.0014698015,-0.00027360878,0.0016698028,0.013591178,0.12240389)\n",
      "\u001b[32mProgress: 100%|███████████████████████████| Time: 0:17:02 ( 0.44  s/it)\u001b[39m\n",
      "\u001b[38;5;6m\u001b[1m[ \u001b[22m\u001b[39m\u001b[38;5;6m\u001b[1mInfo: \u001b[22m\u001b[39m20220623 11:21:26 loss: Dual{ForwardDiff.Tag{var\"#validation_mse#85\"{var\"#82#84\"{Dict{String, typeof(get_abs_neighborhood)}, Int64, Matrix{Float32}}, RatingsDataset, RatingsDataset}, Float32}}(Dual{ForwardDiff.Tag{var\"#validation_mse#85\"{var\"#82#84\"{Dict{String, typeof(get_abs_neighborhood)}, Int64, Matrix{Float32}}, RatingsDataset, RatingsDataset}, Float32}}(1.4652884,-0.021653319,-0.01155098,-0.004873848,-0.0018236522,-0.00069507264,-0.0014698015,-0.00027360878,0.0016698028,0.013591178,0.12240389),Dual{ForwardDiff.Tag{var\"#validation_mse#85\"{var\"#82#84\"{Dict{String, typeof(get_abs_neighborhood)}, Int64, Matrix{Float32}}, RatingsDataset, RatingsDataset}, Float32}}(-0.021653319,71.18497,0.89071226,-0.21670313,-0.09849092,-0.041160386,-0.11007735,0.0018763164,0.34141657,1.631001,6.7016435),Dual{ForwardDiff.Tag{var\"#validation_mse#85\"{var\"#82#84\"{Dict{String, typeof(get_abs_neighborhood)}, Int64, Matrix{Float32}}, RatingsDataset, RatingsDataset}, Float32}}(-0.01155098,0.89071226,0.025755852,0.0012426513,-8.832984e-5,-0.00017252071,-0.0035062649,0.0001895838,0.012450571,0.08459496,0.50749207),Dual{ForwardDiff.Tag{var\"#validation_mse#85\"{var\"#82#84\"{Dict{String, typeof(get_abs_neighborhood)}, Int64, Matrix{Float32}}, RatingsDataset, RatingsDataset}, Float32}}(-0.004873848,-0.21670313,0.0012426504,0.0035662728,0.0016104872,0.00069232634,0.00012799833,5.912398e-5,0.0005517216,0.009937416,0.08246585),Dual{ForwardDiff.Tag{var\"#validation_mse#85\"{var\"#82#84\"{Dict{String, typeof(get_abs_neighborhood)}, Int64, Matrix{Float32}}, RatingsDataset, RatingsDataset}, Float32}}(-0.0018236522,-0.098490916,-8.833044e-5,0.0016104874,0.0008041463,0.00037110044,7.148954e-5,2.2431843e-5,0.00043833972,0.0051333215,0.037911084),Dual{ForwardDiff.Tag{var\"#validation_mse#85\"{var\"#82#84\"{Dict{String, typeof(get_abs_neighborhood)}, Int64, Matrix{Float32}}, RatingsDataset, RatingsDataset}, Float32}}(-0.00069507264,-0.04116039,-0.0001725206,0.0006923262,0.00037110044,0.00018076994,-2.24107e-5,1.0436107e-5,0.00042631215,0.003688744,0.023520296),Dual{ForwardDiff.Tag{var\"#validation_mse#85\"{var\"#82#84\"{Dict{String, typeof(get_abs_neighborhood)}, Int64, Matrix{Float32}}, RatingsDataset, RatingsDataset}, Float32}}(-0.0014698015,-0.11007743,-0.0035062744,0.00012799952,7.148924e-5,-2.2410497e-5,0.17724346,0.005907502,-0.32277113,-1.8150258,-10.104355),Dual{ForwardDiff.Tag{var\"#validation_mse#85\"{var\"#82#84\"{Dict{String, typeof(get_abs_neighborhood)}, Int64, Matrix{Float32}}, RatingsDataset, RatingsDataset}, Float32}}(-0.00027360878,0.0018765148,0.00018958576,5.912681e-5,2.2432083e-5,1.0436105e-5,0.005907525,0.0017112414,-0.00578305,-0.052820407,-0.4843341),Dual{ForwardDiff.Tag{var\"#validation_mse#85\"{var\"#82#84\"{Dict{String, typeof(get_abs_neighborhood)}, Int64, Matrix{Float32}}, RatingsDataset, RatingsDataset}, Float32}}(0.0016698028,0.34141648,0.01245055,0.0005517234,0.00043833882,0.00042631204,-0.32277113,-0.00578311,1.572739,11.162757,72.13248),Dual{ForwardDiff.Tag{var\"#validation_mse#85\"{var\"#82#84\"{Dict{String, typeof(get_abs_neighborhood)}, Int64, Matrix{Float32}}, RatingsDataset, RatingsDataset}, Float32}}(0.013591178,1.6310027,0.08459499,0.00993742,0.0051333257,0.003688745,-1.8150258,-0.052820284,11.162757,86.551636,599.25104),Dual{ForwardDiff.Tag{var\"#validation_mse#85\"{var\"#82#84\"{Dict{String, typeof(get_abs_neighborhood)}, Int64, Matrix{Float32}}, RatingsDataset, RatingsDataset}, Float32}}(0.12240389,6.701636,0.5074919,0.08246581,0.03791107,0.0235203,-10.104355,-0.48433393,72.132484,599.25104,4384.2715))\n"
     ]
    },
    {
     "name": "stdout",
     "output_type": "stream",
     "text": [
      "     1     1.465288e+00     1.224039e-01\n",
      " * time: 1460.4965660572052\n",
      " * g(x): Float32[-0.021653319, -0.01155098, -0.004873848, -0.0018236522, -0.00069507264, -0.0014698015, -0.00027360878, 0.0016698028, 0.013591178, 0.12240389]\n",
      " * reached_subproblem_solution: false\n",
      " * h(x): Float32[71.18497 0.89071226 -0.21670313 -0.09849092 -0.041160386 -0.11007735 0.0018763164 0.34141657 1.631001 6.7016435; 0.89071226 0.025755852 0.0012426513 -8.832984f-5 -0.00017252071 -0.0035062649 0.0001895838 0.012450571 0.08459496 0.50749207; -0.21670313 0.0012426504 0.0035662728 0.0016104872 0.00069232634 0.00012799833 5.912398f-5 0.0005517216 0.009937416 0.08246585; -0.098490916 -8.833044f-5 0.0016104874 0.0008041463 0.00037110044 7.148954f-5 2.2431843f-5 0.00043833972 0.0051333215 0.037911084; -0.04116039 -0.0001725206 0.0006923262 0.00037110044 0.00018076994 -2.24107f-5 1.0436107f-5 0.00042631215 0.003688744 0.023520296; -0.11007743 -0.0035062744 0.00012799952 7.148924f-5 -2.2410497f-5 0.17724346 0.005907502 -0.32277113 -1.8150258 -10.104355; 0.0018765148 0.00018958576 5.912681f-5 2.2432083f-5 1.0436105f-5 0.005907525 0.0017112414 -0.00578305 -0.052820407 -0.4843341; 0.34141648 0.01245055 0.0005517234 0.00043833882 0.00042631204 -0.32277113 -0.00578311 1.572739 11.162757 72.13248; 1.6310027 0.08459499 0.00993742 0.0051333257 0.003688745 -1.8150258 -0.052820284 11.162757 86.551636 599.25104; 6.701636 0.5074919 0.08246581 0.03791107 0.0235203 -10.104355 -0.48433393 72.132484 599.25104 4384.2715]\n",
      " * x: Float32[-0.0069362125, 1.1072558, 0.91803163, -0.139689, -0.32647115, -0.024416678, 0.8617105, 0.015186762, -0.007943312, 0.0008524768]\n",
      " * lambda: 0.00038358185\n",
      " * interior: false\n",
      " * hard case: false\n",
      " * delta: 2.0\n"
     ]
    },
    {
     "name": "stderr",
     "output_type": "stream",
     "text": [
      "\u001b[32mProgress: 100%|███████████████████████████| Time: 0:05:11 ( 0.13  s/it)\u001b[39m\n",
      "\u001b[38;5;6m\u001b[1m[ \u001b[22m\u001b[39m\u001b[38;5;6m\u001b[1mInfo: \u001b[22m\u001b[39m20220623 11:27:44 loss: Dual{ForwardDiff.Tag{var\"#validation_mse#85\"{var\"#82#84\"{Dict{String, typeof(get_abs_neighborhood)}, Int64, Matrix{Float32}}, RatingsDataset, RatingsDataset}, Float32}}(1.458289,0.017067736,-0.0048803003,-0.0023614266,-0.00090984977,-0.0003565291,-0.00041340187,-0.00011759056,-0.0019097993,-0.007652617,-0.054088604)\n",
      "\u001b[32mProgress: 100%|███████████████████████████| Time: 0:16:27 ( 0.43  s/it)\u001b[39m\n",
      "\u001b[38;5;6m\u001b[1m[ \u001b[22m\u001b[39m\u001b[38;5;6m\u001b[1mInfo: \u001b[22m\u001b[39m20220623 11:45:23 loss: Dual{ForwardDiff.Tag{var\"#validation_mse#85\"{var\"#82#84\"{Dict{String, typeof(get_abs_neighborhood)}, Int64, Matrix{Float32}}, RatingsDataset, RatingsDataset}, Float32}}(Dual{ForwardDiff.Tag{var\"#validation_mse#85\"{var\"#82#84\"{Dict{String, typeof(get_abs_neighborhood)}, Int64, Matrix{Float32}}, RatingsDataset, RatingsDataset}, Float32}}(1.458289,0.017067736,-0.0048803003,-0.0023614266,-0.00090984977,-0.0003565291,-0.00041340187,-0.00011759056,-0.0019097993,-0.007652617,-0.054088604),Dual{ForwardDiff.Tag{var\"#validation_mse#85\"{var\"#82#84\"{Dict{String, typeof(get_abs_neighborhood)}, Int64, Matrix{Float32}}, RatingsDataset, RatingsDataset}, Float32}}(0.017067736,32.62882,0.4342832,-0.082988635,-0.037633535,-0.0153112775,-0.081319444,-0.00020970784,0.26664883,1.4174939,6.9780407),Dual{ForwardDiff.Tag{var\"#validation_mse#85\"{var\"#82#84\"{Dict{String, typeof(get_abs_neighborhood)}, Int64, Matrix{Float32}}, RatingsDataset, RatingsDataset}, Float32}}(-0.0048803003,0.4342833,0.011455502,-2.4547917e-5,-0.00026277013,-0.00015195085,-0.0018232468,0.00016582682,0.009975971,0.060448594,0.36870652),Dual{ForwardDiff.Tag{var\"#validation_mse#85\"{var\"#82#84\"{Dict{String, typeof(get_abs_neighborhood)}, Int64, Matrix{Float32}}, RatingsDataset, RatingsDataset}, Float32}}(-0.0023614266,-0.082988635,-2.4548086e-5,0.0010747758,0.00048450535,0.00020565922,0.00027668104,2.823938e-5,0.00019659278,0.0027103594,0.027021576),Dual{ForwardDiff.Tag{var\"#validation_mse#85\"{var\"#82#84\"{Dict{String, typeof(get_abs_neighborhood)}, Int64, Matrix{Float32}}, RatingsDataset, RatingsDataset}, Float32}}(-0.00090984977,-0.03763353,-0.00026277007,0.0004845054,0.0002450274,0.000112142334,0.00013240024,7.5262856e-6,7.343627e-5,0.000980734,0.008805637),Dual{ForwardDiff.Tag{var\"#validation_mse#85\"{var\"#82#84\"{Dict{String, typeof(get_abs_neighborhood)}, Int64, Matrix{Float32}}, RatingsDataset, RatingsDataset}, Float32}}(-0.0003565291,-0.0153112775,-0.0001519508,0.00020565922,0.00011214234,5.4195694e-5,3.7221726e-5,4.8277325e-6,0.00013348917,0.000993746,0.0064205686),Dual{ForwardDiff.Tag{var\"#validation_mse#85\"{var\"#82#84\"{Dict{String, typeof(get_abs_neighborhood)}, Int64, Matrix{Float32}}, RatingsDataset, RatingsDataset}, Float32}}(-0.00041340187,-0.081319496,-0.0018232514,0.00027668136,0.00013240041,3.7221726e-5,0.15565625,0.0019206422,-0.28806394,-1.5968316,-8.774899),Dual{ForwardDiff.Tag{var\"#validation_mse#85\"{var\"#82#84\"{Dict{String, typeof(get_abs_neighborhood)}, Int64, Matrix{Float32}}, RatingsDataset, RatingsDataset}, Float32}}(-0.00011759056,-0.00020967613,0.0001658227,2.8240038e-5,7.526455e-6,4.827522e-6,0.0019206315,0.00029581675,0.0037326023,0.02499879,0.124632664),Dual{ForwardDiff.Tag{var\"#validation_mse#85\"{var\"#82#84\"{Dict{String, typeof(get_abs_neighborhood)}, Int64, Matrix{Float32}}, RatingsDataset, RatingsDataset}, Float32}}(-0.0019097993,0.26664883,0.009975947,0.00019659205,7.343661e-5,0.00013348891,-0.288064,0.0037325374,1.4720529,10.343833,67.03096),Dual{ForwardDiff.Tag{var\"#validation_mse#85\"{var\"#82#84\"{Dict{String, typeof(get_abs_neighborhood)}, Int64, Matrix{Float32}}, RatingsDataset, RatingsDataset}, Float32}}(-0.007652617,1.4174939,0.060448572,0.0027103634,0.0009807388,0.000993746,-1.5968317,0.024998957,10.343834,79.464096,550.53687),Dual{ForwardDiff.Tag{var\"#validation_mse#85\"{var\"#82#84\"{Dict{String, typeof(get_abs_neighborhood)}, Int64, Matrix{Float32}}, RatingsDataset, RatingsDataset}, Float32}}(-0.054088604,6.9780345,0.36870652,0.027021607,0.008805656,0.0064205676,-8.774899,0.12463372,67.03096,550.53687,4026.518))\n"
     ]
    },
    {
     "name": "stdout",
     "output_type": "stream",
     "text": [
      "     2     1.458289e+00     5.408860e-02\n",
      " * time: 2898.0685861110687\n",
      " * g(x): Float32[0.017067736, -0.0048803003, -0.0023614266, -0.00090984977, -0.0003565291, -0.00041340187, -0.00011759056, -0.0019097993, -0.007652617, -0.054088604]\n",
      " * reached_subproblem_solution: false\n",
      " * h(x): Float32[32.62882 0.4342832 -0.082988635 -0.037633535 -0.0153112775 -0.081319444 -0.00020970784 0.26664883 1.4174939 6.9780407; 0.4342833 0.011455502 -2.4547917f-5 -0.00026277013 -0.00015195085 -0.0018232468 0.00016582682 0.009975971 0.060448594 0.36870652; -0.082988635 -2.4548086f-5 0.0010747758 0.00048450535 0.00020565922 0.00027668104 2.823938f-5 0.00019659278 0.0027103594 0.027021576; -0.03763353 -0.00026277007 0.0004845054 0.0002450274 0.000112142334 0.00013240024 7.5262856f-6 7.343627f-5 0.000980734 0.008805637; -0.0153112775 -0.0001519508 0.00020565922 0.00011214234 5.4195694f-5 3.7221726f-5 4.8277325f-6 0.00013348917 0.000993746 0.0064205686; -0.081319496 -0.0018232514 0.00027668136 0.00013240041 3.7221726f-5 0.15565625 0.0019206422 -0.28806394 -1.5968316 -8.774899; -0.00020967613 0.0001658227 2.8240038f-5 7.526455f-6 4.827522f-6 0.0019206315 0.00029581675 0.0037326023 0.02499879 0.124632664; 0.26664883 0.009975947 0.00019659205 7.343661f-5 0.00013348891 -0.288064 0.0037325374 1.4720529 10.343833 67.03096; 1.4174939 0.060448572 0.0027103634 0.0009807388 0.000993746 -1.5968317 0.024998957 10.343834 79.464096 550.53687; 6.9780345 0.36870652 0.027021607 0.008805656 0.0064205676 -8.774899 0.12463372 67.03096 550.53687 4026.518]\n",
      " * x: Float32[-0.008456799, 1.5276079, 2.5608747, -1.1759684, -0.5474862, 0.011308953, 0.83973753, 0.07958894, -0.022601288, 0.0017812809]\n",
      " * lambda: 9.3615035e-6\n",
      " * interior: false\n",
      " * hard case: false\n",
      " * delta: 4.0\n"
     ]
    },
    {
     "name": "stderr",
     "output_type": "stream",
     "text": [
      "\u001b[32mProgress: 100%|███████████████████████████| Time: 0:06:19 ( 0.16  s/it)\u001b[39m\n",
      "\u001b[38;5;6m\u001b[1m[ \u001b[22m\u001b[39m\u001b[38;5;6m\u001b[1mInfo: \u001b[22m\u001b[39m20220623 11:51:47 loss: Dual{ForwardDiff.Tag{var\"#validation_mse#85\"{var\"#82#84\"{Dict{String, typeof(get_abs_neighborhood)}, Int64, Matrix{Float32}}, RatingsDataset, RatingsDataset}, Float32}}(1.4535364,0.024786366,-0.0018722761,-0.0011367174,-0.0004567929,-0.00018379542,0.00011235887,-0.00062270666,-0.0023542563,-0.014401944,-0.097488426)\n",
      "\u001b[32mProgress: 100%|███████████████████████████| Time: 0:17:03 ( 0.44  s/it)\u001b[39m\n",
      "\u001b[38;5;6m\u001b[1m[ \u001b[22m\u001b[39m\u001b[38;5;6m\u001b[1mInfo: \u001b[22m\u001b[39m20220623 12:10:00 loss: Dual{ForwardDiff.Tag{var\"#validation_mse#85\"{var\"#82#84\"{Dict{String, typeof(get_abs_neighborhood)}, Int64, Matrix{Float32}}, RatingsDataset, RatingsDataset}, Float32}}(Dual{ForwardDiff.Tag{var\"#validation_mse#85\"{var\"#82#84\"{Dict{String, typeof(get_abs_neighborhood)}, Int64, Matrix{Float32}}, RatingsDataset, RatingsDataset}, Float32}}(1.4535364,0.024786366,-0.0018722761,-0.0011367174,-0.0004567929,-0.00018379542,0.00011235887,-0.00062270666,-0.0023542563,-0.014401944,-0.097488426),Dual{ForwardDiff.Tag{var\"#validation_mse#85\"{var\"#82#84\"{Dict{String, typeof(get_abs_neighborhood)}, Int64, Matrix{Float32}}, RatingsDataset, RatingsDataset}, Float32}}(0.024786366,16.905174,0.239217,-0.034927536,-0.015891908,-0.0063095544,-0.073594786,-0.0001883251,0.24361446,1.386948,7.276241),Dual{ForwardDiff.Tag{var\"#validation_mse#85\"{var\"#82#84\"{Dict{String, typeof(get_abs_neighborhood)}, Int64, Matrix{Float32}}, RatingsDataset, RatingsDataset}, Float32}}(-0.0018722761,0.23921701,0.0059262426,-0.00022469716,-0.00021273865,-0.00010282904,-0.0018861853,0.00019567301,0.008345486,0.053582825,0.32952783),Dual{ForwardDiff.Tag{var\"#validation_mse#85\"{var\"#82#84\"{Dict{String, typeof(get_abs_neighborhood)}, Int64, Matrix{Float32}}, RatingsDataset, RatingsDataset}, Float32}}(-0.0011367174,-0.034927543,-0.00022469743,0.00033195294,0.00015040774,6.304455e-5,0.00016433543,3.4260112e-5,-9.56185e-5,0.00061395916,0.01084604),Dual{ForwardDiff.Tag{var\"#validation_mse#85\"{var\"#82#84\"{Dict{String, typeof(get_abs_neighborhood)}, Int64, Matrix{Float32}}, RatingsDataset, RatingsDataset}, Float32}}(-0.0004567929,-0.015891908,-0.00021273863,0.00015040774,7.8445584e-5,3.573428e-5,0.00010721037,2.1234298e-5,-7.560941e-5,-0.00026790373,0.0001499497),Dual{ForwardDiff.Tag{var\"#validation_mse#85\"{var\"#82#84\"{Dict{String, typeof(get_abs_neighborhood)}, Int64, Matrix{Float32}}, RatingsDataset, RatingsDataset}, Float32}}(-0.00018379542,-0.0063095544,-0.000102829035,6.304456e-5,3.573428e-5,1.721803e-5,3.598314e-5,7.198829e-6,5.582284e-6,0.00010216397,0.0008598153),Dual{ForwardDiff.Tag{var\"#validation_mse#85\"{var\"#82#84\"{Dict{String, typeof(get_abs_neighborhood)}, Int64, Matrix{Float32}}, RatingsDataset, RatingsDataset}, Float32}}(0.00011235887,-0.07359476,-0.0018861853,0.00016433535,0.00010721038,3.5983056e-5,0.20504464,0.0013401657,-0.3839705,-2.1081016,-11.563769),Dual{ForwardDiff.Tag{var\"#validation_mse#85\"{var\"#82#84\"{Dict{String, typeof(get_abs_neighborhood)}, Int64, Matrix{Float32}}, RatingsDataset, RatingsDataset}, Float32}}(-0.00062270666,-0.00018829393,0.00019566847,3.4260796e-5,2.1233951e-5,7.19885e-6,0.001340171,0.0030631146,0.014627994,0.08939216,0.52956593),Dual{ForwardDiff.Tag{var\"#validation_mse#85\"{var\"#82#84\"{Dict{String, typeof(get_abs_neighborhood)}, Int64, Matrix{Float32}}, RatingsDataset, RatingsDataset}, Float32}}(-0.0023542563,0.24361454,0.008345491,-9.561644e-5,-7.560933e-5,5.581936e-6,-0.3839705,0.014627971,1.9775424,13.947554,90.54632),Dual{ForwardDiff.Tag{var\"#validation_mse#85\"{var\"#82#84\"{Dict{String, typeof(get_abs_neighborhood)}, Int64, Matrix{Float32}}, RatingsDataset, RatingsDataset}, Float32}}(-0.014401944,1.3869476,0.053582814,0.00061396905,-0.00026790486,0.00010216311,-2.1081016,0.089392066,13.947554,107.070404,742.4074),Dual{ForwardDiff.Tag{var\"#validation_mse#85\"{var\"#82#84\"{Dict{String, typeof(get_abs_neighborhood)}, Int64, Matrix{Float32}}, RatingsDataset, RatingsDataset}, Float32}}(-0.097488426,7.2762437,0.32952794,0.010846077,0.00014994151,0.0008598125,-11.56377,0.52956593,90.54632,742.4074,5434.1587))\n"
     ]
    },
    {
     "name": "stdout",
     "output_type": "stream",
     "text": [
      "     3     1.453536e+00     9.748843e-02\n",
      " * time: 4375.123723983765\n",
      " * g(x): Float32[0.024786366, -0.0018722761, -0.0011367174, -0.0004567929, -0.00018379542, 0.00011235887, -0.00062270666, -0.0023542563, -0.014401944, -0.097488426]\n",
      " * reached_subproblem_solution: true\n",
      " * h(x): Float32[16.905174 0.239217 -0.034927536 -0.015891908 -0.0063095544 -0.073594786 -0.0001883251 0.24361446 1.386948 7.276241; 0.23921701 0.0059262426 -0.00022469716 -0.00021273865 -0.00010282904 -0.0018861853 0.00019567301 0.008345486 0.053582825 0.32952783; -0.034927543 -0.00022469743 0.00033195294 0.00015040774 6.304455f-5 0.00016433543 3.4260112f-5 -9.56185f-5 0.00061395916 0.01084604; -0.015891908 -0.00021273863 0.00015040774 7.8445584f-5 3.573428f-5 0.00010721037 2.1234298f-5 -7.560941f-5 -0.00026790373 0.0001499497; -0.0063095544 -0.000102829035 6.304456f-5 3.573428f-5 1.721803f-5 3.598314f-5 7.198829f-6 5.582284f-6 0.00010216397 0.0008598153; -0.07359476 -0.0018861853 0.00016433535 0.00010721038 3.5983056f-5 0.20504464 0.0013401657 -0.3839705 -2.1081016 -11.563769; -0.00018829393 0.00019566847 3.4260796f-5 2.1233951f-5 7.19885f-6 0.001340171 0.0030631146 0.014627994 0.08939216 0.52956593; 0.24361454 0.008345491 -9.561644f-5 -7.560933f-5 5.581936f-6 -0.3839705 0.014627971 1.9775424 13.947554 90.54632; 1.3869476 0.053582814 0.00061396905 -0.00026790486 0.00010216311 -2.1081016 0.089392066 13.947554 107.070404 742.4074; 7.2762437 0.32952794 0.010846077 0.00014994151 0.0008598125 -11.56377 0.52956593 90.54632 742.4074 5434.1587]\n",
      " * x: Float32[-0.008822409, 1.9290705, 5.6766605, -3.551267, 0.13379401, 0.027118195, 0.68789905, 0.11355752, -0.030644163, 0.0023151338]\n",
      " * lambda: 1.1269858e-6\n",
      " * interior: false\n",
      " * hard case: false\n",
      " * delta: 8.0\n"
     ]
    },
    {
     "name": "stderr",
     "output_type": "stream",
     "text": [
      "\u001b[32mProgress: 100%|███████████████████████████| Time: 0:06:00 ( 0.16  s/it)\u001b[39m\n",
      "\u001b[38;5;6m\u001b[1m[ \u001b[22m\u001b[39m\u001b[38;5;6m\u001b[1mInfo: \u001b[22m\u001b[39m20220623 12:16:08 loss: Dual{ForwardDiff.Tag{var\"#validation_mse#85\"{var\"#82#84\"{Dict{String, typeof(get_abs_neighborhood)}, Int64, Matrix{Float32}}, RatingsDataset, RatingsDataset}, Float32}}(1.4503105,0.022757748,-0.00063132506,-0.000547969,-0.00023031558,-9.522479e-5,-0.0004132021,-5.7058947e-5,-0.00099001,-0.006758585,-0.04641113)\n",
      "\u001b[32mProgress: 100%|███████████████████████████| Time: 0:17:05 ( 0.44  s/it)\u001b[39m\n"
     ]
    }
   ],
   "source": [
    "for param in item_cf_params\n",
    "    optimize_model(param)\n",
    "end"
   ]
  }
 ],
 "metadata": {
  "kernelspec": {
   "display_name": "Julia 1.8.0-rc1",
   "language": "julia",
   "name": "julia-1.8"
  },
  "language_info": {
   "file_extension": ".jl",
   "mimetype": "application/julia",
   "name": "julia",
   "version": "1.8.0"
  }
 },
 "nbformat": 4,
 "nbformat_minor": 5
}
