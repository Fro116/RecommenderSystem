{
 "cells": [
  {
   "cell_type": "markdown",
   "id": "c3758ece-9b72-47b4-ae6a-aa364e0443e3",
   "metadata": {},
   "source": [
    "# Item Collaborative Filtering\n",
    "* See `ItemCollaborativeFilteringBase.ipynb` for algorithm details\n",
    "* The weights here are the cosine correlation between the two items"
   ]
  },
  {
   "cell_type": "code",
   "execution_count": 1,
   "id": "7cc9334a-2287-41d6-885b-a5cca94fe263",
   "metadata": {},
   "outputs": [],
   "source": [
    "const name = \"ExplicitItemCF\";"
   ]
  },
  {
   "cell_type": "code",
   "execution_count": 2,
   "id": "d17593ac-3260-4c01-a5df-91edfcd17e13",
   "metadata": {},
   "outputs": [],
   "source": [
    "import NBInclude: @nbinclude\n",
    "@nbinclude(\"ExplicitItemCFBase.ipynb\");"
   ]
  },
  {
   "cell_type": "markdown",
   "id": "85910c72-6e77-4dbd-8991-6ad3b81035a7",
   "metadata": {},
   "source": [
    "## Setup hyperparameters"
   ]
  },
  {
   "cell_type": "code",
   "execution_count": 3,
   "id": "0c00b2aa-a40c-4374-9631-9918f0f55968",
   "metadata": {},
   "outputs": [
    {
     "name": "stderr",
     "output_type": "stream",
     "text": [
      "\u001b[38;5;6m\u001b[1m[ \u001b[22m\u001b[39m\u001b[38;5;6m\u001b[1mInfo: \u001b[22m\u001b[39m20220621 21:17:03 generating similarity matrix for [\"ExplicitUserItemBiases\"]\n",
      "\u001b[32mProgress: 100%|███████████████████████████| Time: 0:16:42 ( 1.18  s/it)\u001b[39m\n"
     ]
    }
   ],
   "source": [
    "item_cf_params = [\n",
    "    cf_params(\n",
    "        name = \"ExplicitItemCF\",\n",
    "        training_residuals = [\"ExplicitUserItemBiases\"],\n",
    "        validation_residuals = [\"ExplicitUserItemBiases\"],\n",
    "        neighborhood_type = \"abs\",\n",
    "        S = get_correlation_matrix_outdir([\"ExplicitUserItemBiases\"]),\n",
    "        K = 256,\n",
    "        λ = [1.0, 1.0, 0.0],\n",
    "    ),\n",
    "];"
   ]
  },
  {
   "cell_type": "markdown",
   "id": "73d6710c-a42a-443d-8616-f1441be67eee",
   "metadata": {},
   "source": [
    "## Train models"
   ]
  },
  {
   "cell_type": "code",
   "execution_count": null,
   "id": "1842d509-9377-4b28-9fe9-9212da6183d1",
   "metadata": {
    "tags": []
   },
   "outputs": [
    {
     "name": "stderr",
     "output_type": "stream",
     "text": [
      "\u001b[32mProgress: 100%|███████████████████████████| Time: 0:11:27 ( 0.89  s/it)\u001b[39m\n"
     ]
    },
    {
     "name": "stdout",
     "output_type": "stream",
     "text": [
      "Iter     Function value   Gradient norm \n",
      "     0     1.511754e+00     2.256507e+00\n",
      " * Current step size: 1.0\n",
      " * time: 0.009139060974121094\n",
      " * g(x): Float32[-0.082053006, 0.019539235, -2.2565072]\n",
      " * ~inv(H): Float32[1.0 0.0 0.0; 0.0 1.0 0.0; 0.0 0.0 1.0]\n",
      " * x: Float32[1.0, 1.0, 0.0]\n"
     ]
    },
    {
     "name": "stderr",
     "output_type": "stream",
     "text": [
      "\u001b[32mProgress: 100%|███████████████████████████| Time: 0:12:17 ( 0.96  s/it)\u001b[39m\n",
      "\u001b[32mProgress: 100%|███████████████████████████| Time: 0:11:46 ( 0.92  s/it)\u001b[39m\n"
     ]
    },
    {
     "name": "stdout",
     "output_type": "stream",
     "text": [
      "     1     1.492006e+00     1.073967e-02\n",
      " * Current step size: 0.99510074\n",
      " * time: 1454.6238770484924\n",
      " * g(x): Float32[0.009793845, -0.009125141, 0.0107396655]\n",
      " * ~inv(H): Float32[0.9996864 0.00018344156 -0.004482003; 0.0001834415 0.9999304 0.00405868; -0.004481994 0.00405868 0.9906199]\n",
      " * x: Float32[1.081651, 0.9805565, 2.245452]\n"
     ]
    },
    {
     "name": "stderr",
     "output_type": "stream",
     "text": [
      "\u001b[32mProgress: 100%|███████████████████████████| Time: 0:11:22 ( 0.89  s/it)\u001b[39m\n",
      "\u001b[32mProgress: 100%|███████████████████████████| Time: 0:13:01 ( 1.01  s/it)\u001b[39m\n",
      "\u001b[32mProgress: 100%|███████████████████████████| Time: 0:12:56 ( 1.01  s/it)\u001b[39m\n",
      "\u001b[32mProgress:  44%|███████████▊               |  ETA: 0:06:27 ( 0.89  s/it)\u001b[39m"
     ]
    }
   ],
   "source": [
    "for param in item_cf_params\n",
    "    optimize_model(param)\n",
    "end"
   ]
  }
 ],
 "metadata": {
  "kernelspec": {
   "display_name": "Julia 1.8.0-rc1",
   "language": "julia",
   "name": "julia-1.8"
  },
  "language_info": {
   "file_extension": ".jl",
   "mimetype": "application/julia",
   "name": "julia",
   "version": "1.8.0"
  }
 },
 "nbformat": 4,
 "nbformat_minor": 5
}
