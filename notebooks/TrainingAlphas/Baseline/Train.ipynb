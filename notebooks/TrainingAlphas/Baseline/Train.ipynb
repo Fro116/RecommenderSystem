{
 "cells": [
  {
   "cell_type": "markdown",
   "id": "c3758ece-9b72-47b4-ae6a-aa364e0443e3",
   "metadata": {},
   "source": [
    "# Baseline\n",
    "* Learns a user vector $u$ and an item vector $a$ and predicts $u_i + a_j$\n",
    "* Minimizes $L = w_{ij} * (r_{ij} - u_i - a_j) ^ 2 + λ_u * (u_i - μ_u) ^ 2  + λ_a * (a_j - μ_a) ^ 2 $\n",
    "* This can be computed efficiently via Alternating Least Squares"
   ]
  },
  {
   "cell_type": "code",
   "execution_count": null,
   "id": "cf5a648c-3734-4f43-b0a9-7814b36b7185",
   "metadata": {
    "tags": [
     "parameters"
    ]
   },
   "outputs": [],
   "source": [
    "medium = \"\""
   ]
  },
  {
   "cell_type": "code",
   "execution_count": null,
   "id": "8291e8e2-4ce2-4391-a58a-f20bbf156ab7",
   "metadata": {},
   "outputs": [],
   "source": [
    "import NBInclude: @nbinclude\n",
    "@nbinclude(\"../TrainingAlpha.ipynb\");"
   ]
  },
  {
   "cell_type": "code",
   "execution_count": null,
   "id": "c994859d-62a4-4f5f-8e5c-3f98a418be20",
   "metadata": {},
   "outputs": [],
   "source": [
    "import NNlib: sigmoid\n",
    "import ProgressMeter: @showprogress\n",
    "import Statistics: mean"
   ]
  },
  {
   "cell_type": "markdown",
   "id": "02902a9b-bbde-4e2e-a2ee-19d27475fa56",
   "metadata": {},
   "source": [
    "# Alternating Least Squares"
   ]
  },
  {
   "cell_type": "code",
   "execution_count": null,
   "id": "fb96c1bd-40b5-457b-9872-ca6633256390",
   "metadata": {},
   "outputs": [],
   "source": [
    "@memoize function get_user_partition(users, threadid, num_threads)\n",
    "    [i for i in 1:length(users) if (users[i] % num_threads) + 1 == threadid]\n",
    "end\n",
    "\n",
    "function update_users!(users, items, ratings, weights, u, a, μ_uλ_u, Ω)\n",
    "    Threads.@threads for i = 1:length(u)\n",
    "        @inbounds u[i] = μ_uλ_u\n",
    "    end\n",
    "    T = Threads.nthreads()\n",
    "    @sync for t = 1:T\n",
    "        Threads.@spawn begin\n",
    "            @inbounds for row in get_user_partition(users, t, T)\n",
    "                i = users[row]\n",
    "                j = items[row]\n",
    "                r = ratings[row]\n",
    "                w = weights[row]\n",
    "                u[i] += (r - a[j]) * w\n",
    "            end\n",
    "        end\n",
    "    end\n",
    "    Threads.@threads for i = 1:length(u)\n",
    "        @inbounds u[i] /= Ω[i]\n",
    "    end\n",
    "end;"
   ]
  },
  {
   "cell_type": "code",
   "execution_count": null,
   "id": "b03cf878-9bba-40b5-be35-1920f4afae70",
   "metadata": {},
   "outputs": [],
   "source": [
    "@memoize function get_counts(df, col)\n",
    "    data = getfield(df, col)\n",
    "    counts = StatsBase.countmap(data)\n",
    "    Int32[counts[x] for x in data]\n",
    "end\n",
    "\n",
    "function get_weights(df, λ_wu, λ_wa, λ_wt)\n",
    "    users = get_counts(df, :userid)\n",
    "    items = get_counts(df, :itemid)\n",
    "    w = Vector{typeof(λ_wt)}(undef, length(users))\n",
    "    Threads.@threads for i = 1:length(w)\n",
    "        w[i] = (users[i]^λ_wu) * (items[i]^λ_wa) * (λ_wt^(1 - df.updated_at[i]))\n",
    "    end\n",
    "    w\n",
    "end;\n",
    "\n",
    "function get_denom(weights, λ, users, num_users)\n",
    "    Ω_u = Vector{eltype(weights)}(undef, num_users)\n",
    "    Threads.@threads for i = 1:length(Ω_u)\n",
    "        Ω_u[i] = λ\n",
    "    end\n",
    "    T = Threads.nthreads()\n",
    "    @sync for t = 1:T\n",
    "        Threads.@spawn begin\n",
    "            @inbounds for row in get_user_partition(users, t, T)\n",
    "                Ω_u[users[row]] += weights[row]\n",
    "            end\n",
    "        end\n",
    "    end\n",
    "    Ω_u\n",
    "end\n",
    "\n",
    "function train_model(λ, training, medium)\n",
    "    μ_a, λ_u, λ_a, λ_wu, λ_wa, λ_wt = λ\n",
    "    λ_u, λ_a = exp.((λ_u, λ_a))\n",
    "    λ_wt = sigmoid(λ_wt)\n",
    "    users, items, ratings = training.userid, training.itemid, training.rating\n",
    "    weights = get_weights(training, λ_wu, λ_wa, λ_wt)\n",
    "\n",
    "    u = zeros(typeof(λ_u), num_users())\n",
    "    a = zeros(typeof(λ_a), num_items(medium))\n",
    "    Ω_u = get_denom(weights, λ_u, users, length(u))\n",
    "    Ω_a = get_denom(weights, λ_a, items, length(a))\n",
    "\n",
    "    max_iters = 8\n",
    "    @showprogress for _ = 1:max_iters\n",
    "        update_users!(items, users, ratings, weights, a, u, μ_a * λ_a, Ω_a)\n",
    "        update_users!(users, items, ratings, weights, u, a, 0, Ω_u)\n",
    "    end\n",
    "    u, a\n",
    "end;"
   ]
  },
  {
   "cell_type": "code",
   "execution_count": null,
   "id": "59fb718e-dc9e-4452-b72c-829ae2d843ff",
   "metadata": {},
   "outputs": [],
   "source": [
    "function make_prediction(users, items, u, a)\n",
    "    r = Array{eltype(u)}(undef, length(users))\n",
    "    Threads.@threads for i = 1:length(r)\n",
    "        @inbounds r[i] = u[users[i]] + a[items[i]]\n",
    "    end\n",
    "    r\n",
    "end;"
   ]
  },
  {
   "cell_type": "markdown",
   "id": "77a96f7c-dba1-4978-9fb8-b7ca32f297f7",
   "metadata": {},
   "source": [
    "# Optimize Hyperparameters"
   ]
  },
  {
   "cell_type": "code",
   "execution_count": null,
   "id": "c174fef4-e9d4-4fbd-a649-1159f8c07a3f",
   "metadata": {},
   "outputs": [],
   "source": [
    "function validation_mse_and_beta(λ, training, validation, medium)\n",
    "    u, a = train_model(λ, training, medium)\n",
    "    x = make_prediction(validation.userid, validation.itemid, u, a)\n",
    "    y = validation.rating\n",
    "    w = [1 / x for x in get_counts(validation, :userid)]\n",
    "    xw = (x .* sqrt.(w))\n",
    "    yw = (y .* sqrt.(w))\n",
    "    β = (xw'xw + 1f-9) \\ xw'yw\n",
    "    L = loss(x * β, y, w, \"rating\")\n",
    "    L, β\n",
    "end;"
   ]
  },
  {
   "cell_type": "code",
   "execution_count": null,
   "id": "0ef77253-4e09-418d-95ce-bf698b9d3b1f",
   "metadata": {},
   "outputs": [],
   "source": [
    "function average_item_rating(df)\n",
    "    s = Dict()\n",
    "    w = Dict()\n",
    "    for (a, r) in zip(df.itemid, df.rating)\n",
    "        if a ∉ keys(w)\n",
    "            s[a] = 0\n",
    "            w[a] = 0\n",
    "        end\n",
    "        s[a] += r\n",
    "        w[a] += 1\n",
    "    end\n",
    "    mean([s[a] / w[a] for a in keys(w)])\n",
    "end;"
   ]
  },
  {
   "cell_type": "code",
   "execution_count": null,
   "id": "559b19d4-9a00-4afb-a240-42641fe29430",
   "metadata": {},
   "outputs": [],
   "source": [
    "function build_model(medium)\n",
    "    read_split(x) = as_metric(\n",
    "        get_split(\"training\", x, medium, [:userid, :itemid, :rating, :updated_at]),\n",
    "        \"rating\",\n",
    "    )\n",
    "    training = read_split(\"train\")\n",
    "    validation = read_split(\"test\")\n",
    "    μ = average_item_rating(training)\n",
    "    validation_mse(λ) = validation_mse_and_beta(λ, training, validation, medium)[1]\n",
    "    res = Optim.optimize(\n",
    "        validation_mse,\n",
    "        Float32[μ, 0, 0, -1, 0, 0],\n",
    "        Optim.NewtonTrustRegion(),\n",
    "        autodiff = :forward,\n",
    "        Optim.Options(\n",
    "            show_trace = true,\n",
    "            extended_trace = true,\n",
    "            g_tol = Float64(sqrt(eps(Float32))),\n",
    "            time_limit = 3600,\n",
    "        ),\n",
    "    )\n",
    "    λ = Optim.minimizer(res)\n",
    "    mse, β = validation_mse_and_beta(λ, training, validation, medium)\n",
    "    @info \"The optimal λ, mse is $λ, $mse found in \" *\n",
    "          repr(Optim.f_calls(res)) *\n",
    "          \" function calls\"\n",
    "    u, a = train_model(λ, training, medium)\n",
    "    a_counts = get_counts(training, :itemid)\n",
    "    write_params(\n",
    "        Dict(\"λ\" => λ, \"β\" => β, \"a\" => a, \"a_counts\" => a_counts),\n",
    "        \"$medium/Baseline/rating\",\n",
    "    )\n",
    "end;"
   ]
  },
  {
   "cell_type": "code",
   "execution_count": null,
   "id": "3273665f-1d61-46a4-8182-9d1c57d7f622",
   "metadata": {},
   "outputs": [],
   "source": [
    "@time build_model(medium);"
   ]
  }
 ],
 "metadata": {
  "kernelspec": {
   "display_name": "Julia 1.10.2",
   "language": "julia",
   "name": "julia-1.10"
  },
  "language_info": {
   "file_extension": ".jl",
   "mimetype": "application/julia",
   "name": "julia",
   "version": "1.10.2"
  }
 },
 "nbformat": 4,
 "nbformat_minor": 5
}
