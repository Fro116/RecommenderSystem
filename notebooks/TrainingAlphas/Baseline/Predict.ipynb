{
 "cells": [
  {
   "cell_type": "code",
   "execution_count": null,
   "id": "8291e8e2-4ce2-4391-a58a-f20bbf156ab7",
   "metadata": {
    "editable": true,
    "slideshow": {
     "slide_type": ""
    },
    "tags": []
   },
   "outputs": [],
   "source": [
    "import NBInclude: @nbinclude\n",
    "@nbinclude(\"../TrainingAlpha.ipynb\");"
   ]
  },
  {
   "cell_type": "code",
   "execution_count": null,
   "id": "cf5a648c-3734-4f43-b0a9-7814b36b7185",
   "metadata": {
    "editable": true,
    "slideshow": {
     "slide_type": ""
    },
    "tags": [
     "parameters"
    ]
   },
   "outputs": [],
   "source": [
    "version = \"\"\n",
    "dataset = \"\"\n",
    "medium = \"\""
   ]
  },
  {
   "cell_type": "code",
   "execution_count": null,
   "id": "8c7259b3-0b2c-43e1-8b56-97d2c50926fd",
   "metadata": {},
   "outputs": [],
   "source": [
    "include(\"get_user_biases.jl\");"
   ]
  },
  {
   "cell_type": "code",
   "execution_count": null,
   "id": "c994859d-62a4-4f5f-8e5c-3f98a418be20",
   "metadata": {
    "editable": true,
    "slideshow": {
     "slide_type": ""
    },
    "tags": []
   },
   "outputs": [],
   "source": [
    "import Statistics: mean"
   ]
  },
  {
   "cell_type": "code",
   "execution_count": null,
   "id": "eeb9b88a-8e93-4e4c-847b-2582a05276bc",
   "metadata": {
    "editable": true,
    "slideshow": {
     "slide_type": ""
    },
    "tags": [
     "parameters"
    ]
   },
   "outputs": [],
   "source": [
    "const name = \"baseline/$version/$dataset/$medium/rating\";"
   ]
  },
  {
   "cell_type": "code",
   "execution_count": null,
   "id": "1881f976-f2fd-4c16-b5c6-a53224a1a527",
   "metadata": {},
   "outputs": [],
   "source": [
    "function model(dfs, userids, medium)\n",
    "    df = as_metric(dfs[medium], \"rating\")\n",
    "    params = read_params(name)\n",
    "    user_bias = get_user_biases(df, params)\n",
    "    a = params[\"a\"]\n",
    "    preds = Dict{Int32,Vector{Float32}}()\n",
    "    @showprogress for u in userids\n",
    "        preds[u] = a .+ get(user_bias, u, 0)\n",
    "    end\n",
    "    preds\n",
    "end;"
   ]
  },
  {
   "cell_type": "code",
   "execution_count": null,
   "id": "810673b2-f816-40d6-9323-cd7d9bb28b5a",
   "metadata": {
    "editable": true,
    "slideshow": {
     "slide_type": ""
    },
    "tags": []
   },
   "outputs": [],
   "source": [
    "write_alpha((dfs, userids) -> model(dfs, userids, medium), medium, name)\n",
    "print_losses(medium, \"rating\", [name]);"
   ]
  }
 ],
 "metadata": {
  "kernelspec": {
   "display_name": "Julia 1.10.2",
   "language": "julia",
   "name": "julia-1.10"
  },
  "language_info": {
   "file_extension": ".jl",
   "mimetype": "application/julia",
   "name": "julia",
   "version": "1.10.2"
  }
 },
 "nbformat": 4,
 "nbformat_minor": 5
}
