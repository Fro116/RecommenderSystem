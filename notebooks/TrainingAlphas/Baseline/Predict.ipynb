{
 "cells": [
  {
   "cell_type": "markdown",
   "id": "c3758ece-9b72-47b4-ae6a-aa364e0443e3",
   "metadata": {},
   "source": [
    "# Baseline\n",
    "* Learns a user vector $u$ and an item vector $a$ and predicts $u_i + a_j$\n",
    "* Minimizes $L = w_{ij} * (r_{ij} - u_i - a_j) ^ 2 + λ_u * (u_i - μ_u) ^ 2  + λ_a * (a_j - μ_a) ^ 2 $\n",
    "* This can be computed efficiently via Alternating Least Squares"
   ]
  },
  {
   "cell_type": "code",
   "execution_count": null,
   "id": "cf5a648c-3734-4f43-b0a9-7814b36b7185",
   "metadata": {
    "tags": [
     "parameters"
    ]
   },
   "outputs": [],
   "source": [
    "medium = \"\""
   ]
  },
  {
   "cell_type": "code",
   "execution_count": null,
   "id": "8291e8e2-4ce2-4391-a58a-f20bbf156ab7",
   "metadata": {},
   "outputs": [],
   "source": [
    "import NBInclude: @nbinclude\n",
    "@nbinclude(\"../TrainingAlpha.ipynb\");"
   ]
  },
  {
   "cell_type": "code",
   "execution_count": null,
   "id": "c994859d-62a4-4f5f-8e5c-3f98a418be20",
   "metadata": {},
   "outputs": [],
   "source": [
    "import NNlib: sigmoid\n",
    "import ProgressMeter: @showprogress\n",
    "import Statistics: mean"
   ]
  },
  {
   "cell_type": "code",
   "execution_count": null,
   "id": "eeb9b88a-8e93-4e4c-847b-2582a05276bc",
   "metadata": {},
   "outputs": [],
   "source": [
    "const name = \"$medium/Baseline/rating\""
   ]
  },
  {
   "cell_type": "code",
   "execution_count": null,
   "id": "2b1e1f84-cb9a-4566-a7e5-cebd4d965059",
   "metadata": {},
   "outputs": [],
   "source": [
    "function model(rd::RatingsDataset, userids::Set{Int32})\n",
    "    df = as_metric(rd, \"rating\")\n",
    "    params = read_params(name)\n",
    "    μ_a, λ_u, λ_a, λ_wu, λ_wa, λ_wt = params[\"λ\"]\n",
    "    λ_u, λ_a = exp.((λ_u, λ_a))\n",
    "    λ_wt = sigmoid(λ_wt)\n",
    "    a = params[\"a\"]\n",
    "    item_counts = params[\"a_counts\"]\n",
    "\n",
    "    user_bias = Dict{Int32,Float32}(x => 0 for x in userids)\n",
    "    denom = Dict{Int32,Float32}(x => λ_u for x in userids)\n",
    "    @showprogress for i = 1:length(df.userid)\n",
    "        w = (item_counts[df.itemid[i]]^λ_wa) * (λ_wt^(1 - df.updated_at[i]))\n",
    "        user_bias[df.userid[i]] += (df.rating[i] - a[df.itemid[i]]) * w\n",
    "        denom[df.userid[i]] += w\n",
    "    end\n",
    "    for k in keys(user_bias)\n",
    "        user_bias[k] /= denom[k]\n",
    "    end\n",
    "    preds = Dict{Int32,Vector{Float32}}()\n",
    "    @showprogress for u in userids\n",
    "        preds[u] = a .+ user_bias[u]\n",
    "    end\n",
    "    preds\n",
    "end;"
   ]
  },
  {
   "cell_type": "code",
   "execution_count": null,
   "id": "810673b2-f816-40d6-9323-cd7d9bb28b5a",
   "metadata": {},
   "outputs": [],
   "source": [
    "write_alpha(model, medium, name)\n",
    "print_losses(medium, \"rating\", [name]);"
   ]
  }
 ],
 "metadata": {
  "kernelspec": {
   "display_name": "Julia 1.10.2",
   "language": "julia",
   "name": "julia-1.10"
  },
  "language_info": {
   "file_extension": ".jl",
   "mimetype": "application/julia",
   "name": "julia",
   "version": "1.10.2"
  }
 },
 "nbformat": 4,
 "nbformat_minor": 5
}
