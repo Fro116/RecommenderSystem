{
 "cells": [
  {
   "cell_type": "code",
   "execution_count": 1,
   "id": "8291e8e2-4ce2-4391-a58a-f20bbf156ab7",
   "metadata": {
    "editable": true,
    "execution": {
     "iopub.execute_input": "2024-11-14T19:23:35.017",
     "iopub.status.busy": "2024-11-14T19:23:34.794",
     "iopub.status.idle": "2024-11-14T19:23:36.846",
     "shell.execute_reply": "2024-11-14T19:23:36.822"
    },
    "slideshow": {
     "slide_type": ""
    },
    "tags": []
   },
   "outputs": [],
   "source": [
    "import NBInclude: @nbinclude\n",
    "@nbinclude(\"../TrainingAlpha.ipynb\");"
   ]
  },
  {
   "cell_type": "code",
   "execution_count": 2,
   "id": "cf5a648c-3734-4f43-b0a9-7814b36b7185",
   "metadata": {
    "editable": true,
    "execution": {
     "iopub.execute_input": "2024-11-14T19:23:36.958",
     "iopub.status.busy": "2024-11-14T19:23:36.847",
     "iopub.status.idle": "2024-11-14T19:23:38.600",
     "shell.execute_reply": "2024-11-14T19:23:38.600"
    },
    "slideshow": {
     "slide_type": ""
    },
    "tags": [
     "parameters"
    ]
   },
   "outputs": [
    {
     "data": {
      "text/plain": [
       "\"\""
      ]
     },
     "execution_count": 2,
     "metadata": {},
     "output_type": "execute_result"
    }
   ],
   "source": [
    "version = \"\"\n",
    "dataset = \"\"\n",
    "medium = \"\""
   ]
  },
  {
   "cell_type": "code",
   "execution_count": 3,
   "id": "3f2f4d92-b6c6-4903-b5dc-b9b1fbe1b15b",
   "metadata": {
    "editable": true,
    "execution": {
     "iopub.execute_input": "2024-11-14T19:23:38.600",
     "iopub.status.busy": "2024-11-14T19:23:38.600",
     "iopub.status.idle": "2024-11-14T19:23:38.603",
     "shell.execute_reply": "2024-11-14T19:23:38.602"
    },
    "slideshow": {
     "slide_type": ""
    },
    "tags": []
   },
   "outputs": [
    {
     "data": {
      "text/plain": [
       "\"anime\""
      ]
     },
     "execution_count": 3,
     "metadata": {},
     "output_type": "execute_result"
    }
   ],
   "source": [
    "version = \"v1\"\n",
    "dataset = \"streaming\"\n",
    "medium = \"anime\""
   ]
  },
  {
   "cell_type": "code",
   "execution_count": 4,
   "id": "8c7259b3-0b2c-43e1-8b56-97d2c50926fd",
   "metadata": {
    "editable": true,
    "execution": {
     "iopub.execute_input": "2024-11-14T19:23:38.603",
     "iopub.status.busy": "2024-11-14T19:23:38.603",
     "iopub.status.idle": "2024-11-14T19:23:38.633",
     "shell.execute_reply": "2024-11-14T19:23:38.633"
    },
    "slideshow": {
     "slide_type": ""
    },
    "tags": []
   },
   "outputs": [],
   "source": [
    "include(\"get_user_biases.jl\");"
   ]
  },
  {
   "cell_type": "code",
   "execution_count": 5,
   "id": "c994859d-62a4-4f5f-8e5c-3f98a418be20",
   "metadata": {
    "editable": true,
    "execution": {
     "iopub.execute_input": "2024-11-14T19:23:38.633",
     "iopub.status.busy": "2024-11-14T19:23:38.633",
     "iopub.status.idle": "2024-11-14T19:23:38.634",
     "shell.execute_reply": "2024-11-14T19:23:38.634"
    },
    "slideshow": {
     "slide_type": ""
    },
    "tags": []
   },
   "outputs": [],
   "source": [
    "import Statistics: mean"
   ]
  },
  {
   "cell_type": "code",
   "execution_count": 6,
   "id": "eeb9b88a-8e93-4e4c-847b-2582a05276bc",
   "metadata": {
    "editable": true,
    "execution": {
     "iopub.execute_input": "2024-11-14T19:23:38.634",
     "iopub.status.busy": "2024-11-14T19:23:38.634",
     "iopub.status.idle": "2024-11-14T19:23:38.634",
     "shell.execute_reply": "2024-11-14T19:23:38.634"
    },
    "slideshow": {
     "slide_type": ""
    },
    "tags": []
   },
   "outputs": [],
   "source": [
    "const name = \"baseline/$version/$dataset/$medium/rating\";"
   ]
  },
  {
   "cell_type": "code",
   "execution_count": 7,
   "id": "1881f976-f2fd-4c16-b5c6-a53224a1a527",
   "metadata": {
    "editable": true,
    "execution": {
     "iopub.execute_input": "2024-11-14T19:23:38.634",
     "iopub.status.busy": "2024-11-14T19:23:38.634",
     "iopub.status.idle": "2024-11-14T19:23:38.891",
     "shell.execute_reply": "2024-11-14T19:23:38.891"
    },
    "slideshow": {
     "slide_type": ""
    },
    "tags": []
   },
   "outputs": [],
   "source": [
    "function model(dfs, userids, medium)\n",
    "    df = as_metric(dfs[medium], \"rating\")\n",
    "    params = read_params(name)\n",
    "    user_bias = get_user_biases(df, params)\n",
    "    a = params[\"a\"]\n",
    "    preds = Dict{Int32,Vector{Float32}}()\n",
    "    @showprogress for u in userids\n",
    "        preds[u] = a .+ get(user_bias, u, 0)\n",
    "    end\n",
    "    preds\n",
    "end;"
   ]
  },
  {
   "cell_type": "code",
   "execution_count": 8,
   "id": "810673b2-f816-40d6-9323-cd7d9bb28b5a",
   "metadata": {
    "editable": true,
    "execution": {
     "iopub.execute_input": "2024-11-14T19:23:38.891",
     "iopub.status.busy": "2024-11-14T19:23:38.891",
     "iopub.status.idle": "2024-11-14T19:24:51.931",
     "shell.execute_reply": "2024-11-14T19:24:51.931"
    },
    "slideshow": {
     "slide_type": ""
    },
    "tags": []
   },
   "outputs": [
    {
     "name": "stderr",
     "output_type": "stream",
     "text": [
      "\u001b[32mProgress: 100%|█████████████████████████████████████████| Time: 0:00:00\u001b[39m\n",
      "\u001b[32mProgress: 100%|█████████████████████████████████████████| Time: 0:00:00\u001b[39m\n",
      "\u001b[32mProgress: 100%|█████████████████████████████████████████| Time: 0:00:04\u001b[39m\n",
      "\u001b[32mProgress: 100%|█████████████████████████████████████████| Time: 0:00:05\u001b[39m\n",
      "\u001b[36m\u001b[1m[ \u001b[22m\u001b[39m\u001b[36m\u001b[1mInfo: \u001b[22m\u001b[39mtraining anime rating loss = 1.8872411\n",
      "\u001b[36m\u001b[1m[ \u001b[22m\u001b[39m\u001b[36m\u001b[1mInfo: \u001b[22m\u001b[39mstreaming anime rating loss = 2.1105573\n",
      "\u001b[36m\u001b[1m[ \u001b[22m\u001b[39m\u001b[36m\u001b[1mInfo: \u001b[22m\u001b[39mtest anime rating loss = 2.2042427\n",
      "\u001b[36m\u001b[1m[ \u001b[22m\u001b[39m\u001b[36m\u001b[1mInfo: \u001b[22m\u001b[39mcausal anime rating loss = 2.3645492\n"
     ]
    }
   ],
   "source": [
    "write_alpha((dfs, userids) -> model(dfs, userids, medium), medium, name, [medium])\n",
    "print_losses(medium, \"rating\", [name]);"
   ]
  }
 ],
 "metadata": {
  "kernelspec": {
   "display_name": "Julia 1.10.2",
   "language": "julia",
   "name": "julia-1.10"
  },
  "language_info": {
   "file_extension": ".jl",
   "mimetype": "application/julia",
   "name": "julia",
   "version": "1.10.2"
  }
 },
 "nbformat": 4,
 "nbformat_minor": 5
}
