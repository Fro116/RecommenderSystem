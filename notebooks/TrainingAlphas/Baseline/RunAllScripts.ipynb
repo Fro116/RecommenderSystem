{
 "cells": [
  {
   "cell_type": "markdown",
   "id": "a6dbd02a-2f10-4a5c-9b98-17606d0f4d8a",
   "metadata": {},
   "source": [
    "# Rating\n",
    "* Creates a baseline for predicting what rating a user $u$ will give to an item $a$"
   ]
  },
  {
   "cell_type": "code",
   "execution_count": null,
   "id": "7df9b9d0-f4e3-4db9-b67d-799c100e8ab9",
   "metadata": {},
   "outputs": [],
   "source": [
    "import os\n",
    "\n",
    "import papermill as pm"
   ]
  },
  {
   "cell_type": "code",
   "execution_count": null,
   "id": "eebcbb0b-3e03-433b-b27e-d6078a3d1742",
   "metadata": {},
   "outputs": [],
   "source": [
    "ALL_MEDIUMS = [\"manga\", \"anime\"]"
   ]
  },
  {
   "cell_type": "code",
   "execution_count": null,
   "id": "e749c36b-c798-4b8e-9064-46133038ddd9",
   "metadata": {
    "editable": true,
    "slideshow": {
     "slide_type": ""
    },
    "tags": [
     "parameters"
    ]
   },
   "outputs": [],
   "source": [
    "def run(script, output, params):\n",
    "    os.makedirs(os.path.dirname(output), exist_ok=True)\n",
    "    pm.execute_notebook(script, output, params)\n",
    "\n",
    "\n",
    "def run_notebook(script):\n",
    "    data_path = \"../../../data/papermill/training_alphas/baseline\"\n",
    "    for medium in [\"manga\", \"anime\"]:\n",
    "        for dataset in [\"training\", \"streaming\"]:\n",
    "            run(\n",
    "                script,\n",
    "                os.path.join(data_path, medium, dataset, script),\n",
    "                dict(medium=medium, dataset=dataset),\n",
    "            )"
   ]
  },
  {
   "cell_type": "code",
   "execution_count": null,
   "id": "77a603be-c28e-4d8f-a749-104c99bc1ad4",
   "metadata": {},
   "outputs": [],
   "source": [
    "run_notebook(\"Train.ipynb\")"
   ]
  },
  {
   "cell_type": "code",
   "execution_count": null,
   "id": "cf086138-0a1b-41d1-885f-2e3183d98141",
   "metadata": {
    "editable": true,
    "slideshow": {
     "slide_type": ""
    },
    "tags": [
     "parameters"
    ]
   },
   "outputs": [],
   "source": [
    "run_notebook(\"Predict.ipynb\")"
   ]
  },
  {
   "cell_type": "code",
   "execution_count": null,
   "id": "f7cd304b-1d38-442c-86c8-fd54301afe05",
   "metadata": {},
   "outputs": [],
   "source": [
    "print(\"Success!\")"
   ]
  }
 ],
 "metadata": {
  "kernelspec": {
   "display_name": "Python 3 (ipykernel)",
   "language": "python",
   "name": "python3"
  },
  "language_info": {
   "codemirror_mode": {
    "name": "ipython",
    "version": 3
   },
   "file_extension": ".py",
   "mimetype": "text/x-python",
   "name": "python",
   "nbconvert_exporter": "python",
   "pygments_lexer": "ipython3",
   "version": "3.12.3"
  }
 },
 "nbformat": 4,
 "nbformat_minor": 5
}
