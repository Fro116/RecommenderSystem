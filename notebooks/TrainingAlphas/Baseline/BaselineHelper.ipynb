{
 "cells": [
  {
   "cell_type": "markdown",
   "id": "c3758ece-9b72-47b4-ae6a-aa364e0443e3",
   "metadata": {},
   "source": [
    "# Baseline Helper\n",
    "* Functions that are shared between training and inference"
   ]
  },
  {
   "cell_type": "code",
   "execution_count": null,
   "id": "68a38673-7795-4233-9269-91173f7209a5",
   "metadata": {},
   "outputs": [],
   "source": [
    "import Statistics: mean"
   ]
  },
  {
   "cell_type": "code",
   "execution_count": null,
   "id": "b2068306-f139-4d5b-8ecf-a9ab42b319ba",
   "metadata": {},
   "outputs": [],
   "source": [
    "function num_threads()\n",
    "    # using too many threads causes OOM errors\n",
    "    min(Threads.nthreads(), 8)\n",
    "end"
   ]
  },
  {
   "cell_type": "code",
   "execution_count": null,
   "id": "59fb718e-dc9e-4452-b72c-829ae2d843ff",
   "metadata": {},
   "outputs": [],
   "source": [
    "function make_prediction(users, items, u, a)\n",
    "    r = Array{eltype(u)}(undef, length(users))\n",
    "    Threads.@threads for i = 1:length(r)\n",
    "        @inbounds r[i] = u[users[i] + 1] + a[items[i] + 1]\n",
    "    end\n",
    "    r\n",
    "end;"
   ]
  },
  {
   "cell_type": "code",
   "execution_count": null,
   "id": "fb96c1bd-40b5-457b-9872-ca6633256390",
   "metadata": {},
   "outputs": [],
   "source": [
    "function get_residuals!(users, items, ratings, weights, a, ρ, Ω)\n",
    "    @inbounds for row = 1:length(users)\n",
    "        i = users[row] + 1\n",
    "        j = items[row] + 1\n",
    "        r = ratings[row]\n",
    "        w = weights[row]\n",
    "        ρ[i] += (r - a[j]) * w\n",
    "        Ω[i] += w\n",
    "    end\n",
    "    ρ, Ω\n",
    "end\n",
    "\n",
    "# partitions the range 1:n\n",
    "function thread_range(tid, n)\n",
    "    nt = num_threads()\n",
    "    d, r = divrem(n, nt)\n",
    "    from = (tid - 1) * d + min(r, tid - 1) + 1\n",
    "    to = from + d - 1 + (tid ≤ r ? 1 : 0)\n",
    "    from:to\n",
    "end;\n",
    "\n",
    "function update_users!(users, items, ratings, weights, u, a, λ_u, ρ, Ω; μ = nothing)\n",
    "    Threads.@threads :static for t = 1:num_threads()\n",
    "        range = thread_range(t, length(ratings))\n",
    "        ρ[:, t] .= 0\n",
    "        Ω[:, t] .= 0\n",
    "        @views get_residuals!(\n",
    "            users[range],\n",
    "            items[range],\n",
    "            ratings[range],\n",
    "            weights[range],\n",
    "            a,\n",
    "            ρ[:, t],\n",
    "            Ω[:, t],\n",
    "        )\n",
    "    end\n",
    "\n",
    "    ρ = sum(ρ, dims = 2)\n",
    "    Ω = sum(Ω, dims = 2)\n",
    "    if isnothing(μ)\n",
    "        μ = mean(u)\n",
    "    end\n",
    "    Threads.@threads for i = 1:length(u)\n",
    "        @inbounds u[i] = (ρ[i] + μ * λ_u) / (Ω[i] + λ_u)\n",
    "    end\n",
    "end;"
   ]
  }
 ],
 "metadata": {
  "kernelspec": {
   "display_name": "Julia 1.9.4",
   "language": "julia",
   "name": "julia-1.9"
  },
  "language_info": {
   "file_extension": ".jl",
   "mimetype": "application/julia",
   "name": "julia",
   "version": "1.9.4"
  }
 },
 "nbformat": 4,
 "nbformat_minor": 5
}
