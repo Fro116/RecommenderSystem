{
 "cells": [
  {
   "cell_type": "markdown",
   "id": "c3758ece-9b72-47b4-ae6a-aa364e0443e3",
   "metadata": {},
   "source": [
    "# Item Collaborative Filtering\n",
    "* See `ItemCollaborativeFiltering.Base.ipynb` for algorithm details\n",
    "* The weights here are the cosine correlation between the two items"
   ]
  },
  {
   "cell_type": "code",
   "execution_count": 1,
   "id": "7cc9334a-2287-41d6-885b-a5cca94fe263",
   "metadata": {},
   "outputs": [],
   "source": [
    "name = \"ItemCF\";"
   ]
  },
  {
   "cell_type": "code",
   "execution_count": 2,
   "id": "d17593ac-3260-4c01-a5df-91edfcd17e13",
   "metadata": {},
   "outputs": [],
   "source": [
    "using NBInclude\n",
    "@nbinclude(\"ItemCF.Base.ipynb\");"
   ]
  },
  {
   "cell_type": "markdown",
   "id": "85910c72-6e77-4dbd-8991-6ad3b81035a7",
   "metadata": {},
   "source": [
    "## Setup hyperparameters"
   ]
  },
  {
   "cell_type": "code",
   "execution_count": 3,
   "id": "0c00b2aa-a40c-4374-9631-9918f0f55968",
   "metadata": {},
   "outputs": [],
   "source": [
    "item_cf_params = [[\n",
    "        cf_params(\n",
    "            name = \"ItemCF.$K\",\n",
    "            training_residuals = [\"UserItemBiases\"],\n",
    "            validation_residuals = [\"UserItemBiases\"],\n",
    "            neighborhood_type = \"abs\",\n",
    "            S = get_correlation_matrix_outdir([\"UserItemBiases\"]),\n",
    "            K = K,\n",
    "            λ = [1.0, 1.0, 0.0],\n",
    "        ) for K in [2^4]#, 2^6, 2^8, 2^10, 2^12]\n",
    "    ];\n",
    "];"
   ]
  },
  {
   "cell_type": "markdown",
   "id": "73d6710c-a42a-443d-8616-f1441be67eee",
   "metadata": {},
   "source": [
    "## Train models"
   ]
  },
  {
   "cell_type": "code",
   "execution_count": 4,
   "id": "1842d509-9377-4b28-9fe9-9212da6183d1",
   "metadata": {
    "tags": []
   },
   "outputs": [
    {
     "name": "stderr",
     "output_type": "stream",
     "text": [
      "\u001b[32mProgress: 100%|███████████████████████████| Time: 0:00:16 (18.73 ms/it)\u001b[39m\n"
     ]
    },
    {
     "name": "stdout",
     "output_type": "stream",
     "text": [
      "Iter     Function value   Gradient norm \n",
      "     0     1.563780e+00     1.231912e+00\n",
      " * Current step size: 1.0\n",
      " * time: 0.04037809371948242\n",
      " * g(x): Float32[-0.028721001, 0.013282681, -1.2319124]\n",
      " * x: Float32[1.0, 1.0, 0.0]\n"
     ]
    },
    {
     "name": "stderr",
     "output_type": "stream",
     "text": [
      "\u001b[32mProgress: 100%|███████████████████████████| Time: 0:00:14 (16.77 ms/it)\u001b[39m\n",
      "\u001b[32mProgress: 100%|███████████████████████████| Time: 0:00:14 (17.45 ms/it)\u001b[39m\n"
     ]
    },
    {
     "name": "stdout",
     "output_type": "stream",
     "text": [
      "     1     1.521540e+00     1.945037e-02\n",
      " * Current step size: 0.9871963\n",
      " * time: 44.772193908691406\n",
      " * g(x): Float32[0.01945037, -0.009501944, 0.015511936]\n",
      " * x: Float32[1.0283532, 0.9868874, 1.2161393]\n"
     ]
    },
    {
     "name": "stderr",
     "output_type": "stream",
     "text": [
      "\u001b[32mProgress: 100%|███████████████████████████| Time: 0:00:14 (16.64 ms/it)\u001b[39m\n",
      "\u001b[32mProgress: 100%|███████████████████████████| Time: 0:00:14 (16.68 ms/it)\u001b[39m\n",
      "\u001b[32mProgress: 100%|███████████████████████████| Time: 0:00:15 (17.67 ms/it)\u001b[39m\n",
      "\u001b[32mProgress: 100%|███████████████████████████| Time: 0:00:14 (16.81 ms/it)\u001b[39m\n"
     ]
    },
    {
     "name": "stdout",
     "output_type": "stream",
     "text": [
      "     2     1.519285e+00     1.236546e-02\n",
      " * Current step size: 6.5074005\n",
      " * time: 131.24442100524902\n",
      " * g(x): Float32[-0.007695393, 0.004314054, 0.012365459]\n",
      " * x: Float32[0.90665394, 1.0463408, 1.1199872]\n"
     ]
    },
    {
     "name": "stderr",
     "output_type": "stream",
     "text": [
      "\u001b[32mProgress: 100%|███████████████████████████| Time: 0:00:14 (16.96 ms/it)\u001b[39m\n",
      "\u001b[32mProgress: 100%|███████████████████████████| Time: 0:00:14 (16.89 ms/it)\u001b[39m\n",
      "\u001b[32mProgress: 100%|███████████████████████████| Time: 0:00:14 (16.77 ms/it)\u001b[39m\n",
      "\u001b[32mProgress: 100%|███████████████████████████| Time: 0:00:14 (16.76 ms/it)\u001b[39m\n",
      "\u001b[32mProgress: 100%|███████████████████████████| Time: 0:00:14 (16.79 ms/it)\u001b[39m\n",
      "\u001b[32mProgress: 100%|███████████████████████████| Time: 0:00:14 (16.73 ms/it)\u001b[39m\n"
     ]
    },
    {
     "name": "stdout",
     "output_type": "stream",
     "text": [
      "     3     1.510849e+00     3.136463e-02\n",
      " * Current step size: 16.0144\n",
      " * time: 259.8652489185333\n",
      " * g(x): Float32[-0.031364635, -0.0055439565, 0.005362115]\n",
      " * x: Float32[0.9533912, 0.98203367, 0.4549846]\n"
     ]
    },
    {
     "name": "stderr",
     "output_type": "stream",
     "text": [
      "\u001b[32mProgress: 100%|███████████████████████████| Time: 0:00:14 (16.89 ms/it)\u001b[39m\n",
      "\u001b[32mProgress: 100%|███████████████████████████| Time: 0:00:14 (17.02 ms/it)\u001b[39m\n",
      "\u001b[32mProgress: 100%|███████████████████████████| Time: 0:00:14 (17.10 ms/it)\u001b[39m\n"
     ]
    },
    {
     "name": "stdout",
     "output_type": "stream",
     "text": [
      "     4     1.510086e+00     4.685050e-02\n",
      " * Current step size: 0.10254061\n",
      " * time: 324.67814898490906\n",
      " * g(x): Float32[-0.046850495, -0.00511812, -0.021817524]\n",
      " * x: Float32[0.9980232, 0.9741011, 0.24685487]\n"
     ]
    },
    {
     "name": "stderr",
     "output_type": "stream",
     "text": [
      "\u001b[32mProgress: 100%|███████████████████████████| Time: 0:00:14 (16.76 ms/it)\u001b[39m\n",
      "\u001b[32mProgress: 100%|███████████████████████████| Time: 0:00:14 (16.77 ms/it)\u001b[39m\n",
      "\u001b[32mProgress: 100%|███████████████████████████| Time: 0:00:14 (16.85 ms/it)\u001b[39m\n"
     ]
    },
    {
     "name": "stdout",
     "output_type": "stream",
     "text": [
      "     5     1.504900e+00     2.276596e-02\n",
      " * Current step size: 1.8350782\n",
      " * time: 389.076602935791\n",
      " * g(x): Float32[0.00245675, -0.008549151, 0.02276596]\n",
      " * x: Float32[1.2315255, 0.9785799, 0.28203133]\n"
     ]
    },
    {
     "name": "stderr",
     "output_type": "stream",
     "text": [
      "\u001b[32mProgress: 100%|███████████████████████████| Time: 0:00:14 (17.27 ms/it)\u001b[39m\n",
      "\u001b[32mProgress: 100%|███████████████████████████| Time: 0:00:14 (16.70 ms/it)\u001b[39m\n"
     ]
    },
    {
     "name": "stdout",
     "output_type": "stream",
     "text": [
      "     6     1.503055e+00     1.730786e-02\n",
      " * Current step size: 0.48203918\n",
      " * time: 431.7520890235901\n",
      " * g(x): Float32[-0.001742704, -0.006474136, 0.017307859]\n",
      " * x: Float32[1.2983449, 0.98530555, 0.19420287]\n"
     ]
    },
    {
     "name": "stderr",
     "output_type": "stream",
     "text": [
      "\u001b[32mProgress: 100%|███████████████████████████| Time: 0:00:14 (16.89 ms/it)\u001b[39m\n",
      "\u001b[32mProgress: 100%|███████████████████████████| Time: 0:00:14 (16.76 ms/it)\u001b[39m\n",
      "\u001b[32mProgress: 100%|███████████████████████████| Time: 0:00:14 (16.81 ms/it)\u001b[39m\n",
      "\u001b[32mProgress: 100%|███████████████████████████| Time: 0:00:14 (16.38 ms/it)\u001b[39m\n",
      "\u001b[32mProgress: 100%|███████████████████████████| Time: 0:00:14 (16.59 ms/it)\u001b[39m\n"
     ]
    },
    {
     "name": "stdout",
     "output_type": "stream",
     "text": [
      "     7     1.502451e+00     1.064911e-02\n",
      " * Current step size: 0.032902475\n",
      " * time: 539.2656879425049\n",
      " * g(x): Float32[-0.0045901854, -0.005794105, 0.010649108]\n",
      " * x: Float32[1.3306448, 0.9867233, 0.15976223]\n"
     ]
    },
    {
     "name": "stderr",
     "output_type": "stream",
     "text": [
      "\u001b[32mProgress: 100%|███████████████████████████| Time: 0:00:14 (17.03 ms/it)\u001b[39m\n",
      "\u001b[32mProgress: 100%|███████████████████████████| Time: 0:00:14 (16.75 ms/it)\u001b[39m\n",
      "\u001b[32mProgress: 100%|███████████████████████████| Time: 0:00:14 (16.80 ms/it)\u001b[39m\n",
      "\u001b[32mProgress: 100%|███████████████████████████| Time: 0:00:14 (16.64 ms/it)\u001b[39m\n",
      "\u001b[32mProgress: 100%|███████████████████████████| Time: 0:00:14 (17.13 ms/it)\u001b[39m\n"
     ]
    },
    {
     "name": "stdout",
     "output_type": "stream",
     "text": [
      "     8     1.501898e+00     8.623564e-03\n",
      " * Current step size: 0.24933763\n",
      " * time: 647.3044919967651\n",
      " * g(x): Float32[-0.008623564, -0.003608652, -0.005718668]\n",
      " * x: Float32[1.3856351, 0.994007, 0.11739782]\n"
     ]
    },
    {
     "name": "stderr",
     "output_type": "stream",
     "text": [
      "\u001b[32mProgress: 100%|███████████████████████████| Time: 0:00:14 (16.57 ms/it)\u001b[39m\n",
      "\u001b[32mProgress: 100%|███████████████████████████| Time: 0:00:14 (16.60 ms/it)\u001b[39m\n"
     ]
    },
    {
     "name": "stdout",
     "output_type": "stream",
     "text": [
      "     9     1.501609e+00     2.077412e-02\n",
      " * Current step size: 0.8603631\n",
      " * time: 689.6512761116028\n",
      " * g(x): Float32[-0.009208363, 0.000968294, -0.020774117]\n",
      " * x: Float32[1.4539516, 1.0132707, 0.089561656]\n"
     ]
    },
    {
     "name": "stderr",
     "output_type": "stream",
     "text": [
      "\u001b[32mProgress: 100%|███████████████████████████| Time: 0:00:14 (16.50 ms/it)\u001b[39m\n",
      "\u001b[32mProgress: 100%|███████████████████████████| Time: 0:00:14 (16.75 ms/it)\u001b[39m\n"
     ]
    },
    {
     "name": "stdout",
     "output_type": "stream",
     "text": [
      "    10     1.501408e+00     4.288319e-03\n",
      " * Current step size: 0.82929146\n",
      " * time: 732.4212090969086\n",
      " * g(x): Float32[-0.0019135835, 0.004288319, 0.0016170824]\n",
      " * x: Float32[1.4951817, 1.0310441, 0.09159203]\n"
     ]
    },
    {
     "name": "stderr",
     "output_type": "stream",
     "text": [
      "\u001b[32mProgress: 100%|███████████████████████████| Time: 0:00:14 (16.77 ms/it)\u001b[39m\n",
      "\u001b[32mProgress: 100%|███████████████████████████| Time: 0:00:14 (16.69 ms/it)\u001b[39m\n",
      "\u001b[32mProgress: 100%|███████████████████████████| Time: 0:00:14 (16.56 ms/it)\u001b[39m\n"
     ]
    },
    {
     "name": "stdout",
     "output_type": "stream",
     "text": [
      "    11     1.501313e+00     3.121422e-03\n",
      " * Current step size: 1.3724828\n",
      " * time: 796.4412999153137\n",
      " * g(x): Float32[-0.001573903, 0.0026305635, -0.003121422]\n",
      " * x: Float32[1.5387269, 1.023346, 0.07850998]\n"
     ]
    },
    {
     "name": "stderr",
     "output_type": "stream",
     "text": [
      "\u001b[32mProgress: 100%|███████████████████████████| Time: 0:00:14 (16.48 ms/it)\u001b[39m\n",
      "\u001b[32mProgress: 100%|███████████████████████████| Time: 0:00:14 (17.06 ms/it)\u001b[39m\n",
      "\u001b[32mProgress: 100%|███████████████████████████| Time: 0:00:14 (16.96 ms/it)\u001b[39m\n"
     ]
    },
    {
     "name": "stdout",
     "output_type": "stream",
     "text": [
      "    12     1.501285e+00     6.118590e-04\n",
      " * Current step size: 1.0986778\n",
      " * time: 861.2629809379578\n",
      " * g(x): Float32[-0.00016844335, -0.00014733522, -0.000611859]\n",
      " * x: Float32[1.5652611, 1.01142, 0.073466115]\n"
     ]
    },
    {
     "name": "stderr",
     "output_type": "stream",
     "text": [
      "\u001b[32mProgress: 100%|███████████████████████████| Time: 0:00:14 (16.77 ms/it)\u001b[39m\n",
      "\u001b[32mProgress: 100%|███████████████████████████| Time: 0:00:14 (16.62 ms/it)\u001b[39m\n"
     ]
    },
    {
     "name": "stdout",
     "output_type": "stream",
     "text": [
      "    13     1.501285e+00     1.166438e-04\n",
      " * Current step size: 0.9374127\n",
      " * time: 904.2633628845215\n",
      " * g(x): Float32[3.423029f-6, -3.4242337f-5, 0.00011664378]\n",
      " * x: Float32[1.5658778, 1.0119942, 0.07361682]\n"
     ]
    },
    {
     "name": "stderr",
     "output_type": "stream",
     "text": [
      "\u001b[32mProgress: 100%|███████████████████████████| Time: 0:00:14 (16.47 ms/it)\u001b[39m\n",
      "\u001b[32mProgress: 100%|███████████████████████████| Time: 0:00:14 (16.91 ms/it)\u001b[39m\n"
     ]
    },
    {
     "name": "stdout",
     "output_type": "stream",
     "text": [
      "    14     1.501285e+00     4.754649e-06\n",
      " * Current step size: 0.9604351\n",
      " * time: 946.9741098880768\n",
      " * g(x): Float32[-2.1405413f-6, 3.6255037f-6, -4.754649f-6]\n",
      " * x: Float32[1.5665641, 1.0121535, 0.07343015]\n"
     ]
    },
    {
     "name": "stderr",
     "output_type": "stream",
     "text": [
      "\u001b[32mProgress: 100%|███████████████████████████| Time: 0:00:12 (14.82 ms/it)\u001b[39m\n",
      "\u001b[32mProgress: 100%|███████████████████████████| Time: 0:00:14 (16.51 ms/it)\u001b[39m\n",
      "\u001b[32mProgress: 100%|███████████████████████████| Time: 0:00:14 (16.87 ms/it)\u001b[39m\n"
     ]
    },
    {
     "name": "stdout",
     "output_type": "stream",
     "text": [
      "    15     1.501285e+00     2.121614e-08\n",
      " * Current step size: 1.0423944\n",
      " * time: 1009.7408521175385\n",
      " * g(x): Float32[-2.1216142f-9, -1.9485352f-8, -2.1216142f-8]\n",
      " * x: Float32[1.5666019, 1.012138, 0.073423564]\n"
     ]
    },
    {
     "name": "stderr",
     "output_type": "stream",
     "text": [
      "\u001b[32mProgress: 100%|███████████████████████████| Time: 0:00:14 (16.78 ms/it)\u001b[39m\n"
     ]
    },
    {
     "name": "stdout",
     "output_type": "stream",
     "text": [
      "    16     1.501285e+00     3.349917e-08\n",
      " * Current step size: 0.80406755\n",
      " * time: 1031.1348938941956\n",
      " * g(x): Float32[-8.988945f-9, 7.886263f-9, -3.3499173f-8]\n",
      " * x: Float32[1.5666018, 1.0121381, 0.07342359]\n"
     ]
    },
    {
     "name": "stderr",
     "output_type": "stream",
     "text": [
      "\u001b[32mProgress: 100%|███████████████████████████| Time: 0:00:14 (16.94 ms/it)\u001b[39m\n",
      "\u001b[32mProgress: 100%|███████████████████████████| Time: 0:00:14 (16.90 ms/it)\u001b[39m\n",
      "\u001b[32mProgress: 100%|███████████████████████████| Time: 0:00:14 (17.38 ms/it)\u001b[39m\n",
      "\u001b[32mProgress: 100%|███████████████████████████| Time: 0:00:14 (16.86 ms/it)\u001b[39m\n"
     ]
    },
    {
     "name": "stdout",
     "output_type": "stream",
     "text": [
      "    17     1.501285e+00     1.875954e-08\n",
      " * Current step size: 1.0\n",
      " * time: 1117.2408769130707\n",
      " * g(x): Float32[-4.969044f-9, 7.4116917f-9, -1.8759536f-8]\n",
      " * x: Float32[1.5666018, 1.0121381, 0.073423594]\n"
     ]
    },
    {
     "name": "stderr",
     "output_type": "stream",
     "text": [
      "\u001b[32mProgress: 100%|███████████████████████████| Time: 0:00:14 (16.95 ms/it)\u001b[39m\n",
      "\u001b[32mProgress: 100%|███████████████████████████| Time: 0:00:14 (17.33 ms/it)\u001b[39m\n",
      "\u001b[32mProgress: 100%|███████████████████████████| Time: 0:00:14 (16.89 ms/it)\u001b[39m\n"
     ]
    },
    {
     "name": "stdout",
     "output_type": "stream",
     "text": [
      "    18     1.501285e+00     1.808955e-08\n",
      " * Current step size: 1.2907267\n",
      " * time: 1181.5945799350739\n",
      " * g(x): Float32[3.1265894f-9, 6.8114985f-9, 1.8089553f-8]\n",
      " * x: Float32[1.5666018, 1.0121381, 0.07342361]\n"
     ]
    },
    {
     "name": "stderr",
     "output_type": "stream",
     "text": [
      "\u001b[32mProgress: 100%|███████████████████████████| Time: 0:00:14 (17.01 ms/it)\u001b[39m\n",
      "\u001b[32mProgress: 100%|███████████████████████████| Time: 0:00:14 (16.62 ms/it)\u001b[39m\n",
      "\u001b[32mProgress: 100%|███████████████████████████| Time: 0:00:14 (17.03 ms/it)\u001b[39m\n"
     ]
    },
    {
     "name": "stdout",
     "output_type": "stream",
     "text": [
      "    19     1.501285e+00     1.945744e-08\n",
      " * Current step size: 1.9542209\n",
      " * time: 1245.8990869522095\n",
      " * g(x): Float32[-3.4894971f-9, -1.9457437f-8, -1.2841349f-8]\n",
      " * x: Float32[1.5666018, 1.012138, 0.073423594]\n"
     ]
    },
    {
     "name": "stderr",
     "output_type": "stream",
     "text": [
      "\u001b[32mProgress: 100%|███████████████████████████| Time: 0:00:14 (17.43 ms/it)\u001b[39m\n",
      "\u001b[32mProgress: 100%|███████████████████████████| Time: 0:00:14 (16.97 ms/it)\u001b[39m\n"
     ]
    },
    {
     "name": "stdout",
     "output_type": "stream",
     "text": [
      "    20     1.501285e+00     1.875954e-08\n",
      " * Current step size: 2.2679906\n",
      " * time: 1289.1962599754333\n",
      " * g(x): Float32[-4.969044f-9, 7.4116917f-9, -1.8759536f-8]\n",
      " * x: Float32[1.5666018, 1.0121381, 0.073423594]\n"
     ]
    },
    {
     "name": "stderr",
     "output_type": "stream",
     "text": [
      "\u001b[32mProgress: 100%|███████████████████████████| Time: 0:00:14 (16.83 ms/it)\u001b[39m\n",
      "\u001b[32mProgress: 100%|███████████████████████████| Time: 0:00:14 (16.91 ms/it)\u001b[39m\n"
     ]
    },
    {
     "name": "stdout",
     "output_type": "stream",
     "text": [
      "    21     1.501285e+00     6.733334e-08\n",
      " * Current step size: 1.5919446\n",
      " * time: 1332.2446229457855\n",
      " * g(x): Float32[1.719624f-8, 5.7088174f-9, 6.733334f-8]\n",
      " * x: Float32[1.5666019, 1.0121381, 0.0734236]\n"
     ]
    },
    {
     "name": "stderr",
     "output_type": "stream",
     "text": [
      "\u001b[32mProgress: 100%|███████████████████████████| Time: 0:00:14 (16.94 ms/it)\u001b[39m\n",
      "\u001b[32mProgress: 100%|███████████████████████████| Time: 0:00:14 (16.61 ms/it)\u001b[39m\n",
      "\u001b[32mProgress: 100%|███████████████████████████| Time: 0:00:14 (16.37 ms/it)\u001b[39m\n"
     ]
    },
    {
     "name": "stdout",
     "output_type": "stream",
     "text": [
      "    22     1.501285e+00     3.349917e-08\n",
      " * Current step size: 2.3903875\n",
      " * time: 1396.3856110572815\n",
      " * g(x): Float32[-8.988945f-9, 7.886263f-9, -3.3499173f-8]\n",
      " * x: Float32[1.5666018, 1.0121381, 0.07342359]\n"
     ]
    },
    {
     "name": "stderr",
     "output_type": "stream",
     "text": [
      "\u001b[32mProgress: 100%|███████████████████████████| Time: 0:00:14 (16.45 ms/it)\u001b[39m\n",
      "\u001b[32mProgress: 100%|███████████████████████████| Time: 0:00:14 (16.61 ms/it)\u001b[39m\n"
     ]
    },
    {
     "name": "stdout",
     "output_type": "stream",
     "text": [
      "    23     1.501285e+00     3.349917e-08\n",
      " * Current step size: 0.41133928\n",
      " * time: 1439.1627020835876\n",
      " * g(x): Float32[-8.988945f-9, 7.886263f-9, -3.3499173f-8]\n",
      " * x: Float32[1.5666018, 1.0121381, 0.07342359]\n"
     ]
    },
    {
     "name": "stderr",
     "output_type": "stream",
     "text": [
      "\u001b[32mProgress: 100%|███████████████████████████| Time: 0:10:57 ( 0.56  s/it)\u001b[39m\n",
      "\u001b[32mProgress: 100%|███████████████████████████| Time: 0:00:00 (37.14 ns/it)\u001b[39m\n",
      "\u001b[38;5;6m\u001b[1m[ \u001b[22m\u001b[39m\u001b[38;5;6m\u001b[1mInfo: \u001b[22m\u001b[39m20220515 03:39:30 training set weighted-loss: RMSE 1.1906495672492121 MAE 0.8599278337467547 R2 0.15173953464077017\n",
      "\u001b[38;5;6m\u001b[1m[ \u001b[22m\u001b[39m\u001b[38;5;6m\u001b[1mInfo: \u001b[22m\u001b[39m20220515 03:39:41 validation set weighted-loss: RMSE 1.2252693236749719 MAE 0.8799508127183174 R2 0.17262783750855581\n"
     ]
    }
   ],
   "source": [
    "for param in item_cf_params\n",
    "    optimize_model(param)\n",
    "end"
   ]
  }
 ],
 "metadata": {
  "kernelspec": {
   "display_name": "Julia 1.7.2",
   "language": "julia",
   "name": "julia-1.7"
  },
  "language_info": {
   "file_extension": ".jl",
   "mimetype": "application/julia",
   "name": "julia",
   "version": "1.7.2"
  }
 },
 "nbformat": 4,
 "nbformat_minor": 5
}
