{
 "cells": [
  {
   "cell_type": "markdown",
   "id": "c3758ece-9b72-47b4-ae6a-aa364e0443e3",
   "metadata": {},
   "source": [
    "# Matrix Factorization\n",
    "* Prediction is $\\tilde R = UA^T$ \n",
    "* Loss fuction is $L = \\lVert (R - \\tilde R)^\\Omega \\rVert _2^2 + \\lambda_u \\lVert U \\rVert _2^2 + \\lambda_a \\lVert A \\rVert _2^2$\n",
    "* $\\Omega$ is the set of oberved pairs $(i, j)$\n",
    "* $M^\\Omega$ is the projection of $M$ onto $\\Omega$ for any matrix $M$\n",
    "* $U$ is an $m x k$ matrix, $A$ is an $n x k$ matrix and $R$ is the $m x n$ ratings matrix"
   ]
  },
  {
   "cell_type": "code",
   "execution_count": 1,
   "id": "7cc9334a-2287-41d6-885b-a5cca94fe263",
   "metadata": {},
   "outputs": [],
   "source": [
    "name = \"MatrixFactorization\";\n",
    "residual_alphas = [\"UserItemBiases\"];"
   ]
  },
  {
   "cell_type": "code",
   "execution_count": 2,
   "id": "54170f91-c85c-4207-9939-572cad4db024",
   "metadata": {},
   "outputs": [],
   "source": [
    "using LinearAlgebra\n",
    "using Memoize\n",
    "using Random\n",
    "using SparseArrays"
   ]
  },
  {
   "cell_type": "code",
   "execution_count": 3,
   "id": "d17593ac-3260-4c01-a5df-91edfcd17e13",
   "metadata": {},
   "outputs": [],
   "source": [
    "using NBInclude\n",
    "@nbinclude(\"Alpha.ipynb\");"
   ]
  },
  {
   "cell_type": "markdown",
   "id": "99f52a69-0231-4bff-8a9f-26bb16ee9f33",
   "metadata": {},
   "source": [
    "# Alternating Least Squares Algorithm\n",
    "* $u_{ik} = \\dfrac{\\sum_{j \\in \\Omega_i}(r_{ij} - \\tilde r_{ij} + u_{ik}a_{kj})}{\\sum_{j \\in \\Omega_i} a_j^2 + \\lambda_u}$\n",
    "* $\\Omega$ is the set of (user, item) pairs that we have ratings for\n",
    "* $\\Omega_i$ is subset of $\\Omega$ for which the user is the $i$-th user"
   ]
  },
  {
   "cell_type": "code",
   "execution_count": 4,
   "id": "c9e3f1ca-34cc-48b6-8c28-7deb35939858",
   "metadata": {},
   "outputs": [],
   "source": [
    "function make_prediction(users, items, U, A)\n",
    "    r = zeros(eltype(U), length(users))\n",
    "    Threads.@threads for i = 1:length(r)\n",
    "        if (users[i] <= size(U)[1]) && (items[i] <= size(A)[1])\n",
    "            r[i] = dot(U[users[i], :], A[items[i], :])\n",
    "        end\n",
    "    end\n",
    "    r\n",
    "end;"
   ]
  },
  {
   "cell_type": "code",
   "execution_count": 5,
   "id": "c27971b0-684c-49b5-8c12-bb6666664f81",
   "metadata": {},
   "outputs": [],
   "source": [
    "function calc_loss(df, U, A)\n",
    "    loss = mse(df.rating, make_prediction(df.user, df.item, U, A))\n",
    "    @debug \"loss: $loss\"\n",
    "    loss\n",
    "end;"
   ]
  },
  {
   "cell_type": "code",
   "execution_count": 6,
   "id": "04463bd7-c9df-4866-b929-c6217b38e0b3",
   "metadata": {},
   "outputs": [],
   "source": [
    "function ridge_regression(X, y, λ)\n",
    "    (Matrix(X'X) + λ * I(size(X)[2])) \\ Vector(X'y)\n",
    "end;"
   ]
  },
  {
   "cell_type": "code",
   "execution_count": 7,
   "id": "ea373a98-e714-4083-8cfc-dddc4dd2c91e",
   "metadata": {},
   "outputs": [],
   "source": [
    "@memoize function sparse_csr(i, j, v, m, n)\n",
    "    sparse(j, i, v, n, m)'\n",
    "end;"
   ]
  },
  {
   "cell_type": "code",
   "execution_count": 8,
   "id": "a9094b8d-eea5-4ecd-b743-a7a245d3f281",
   "metadata": {},
   "outputs": [],
   "source": [
    "function sparse_subset(A, rows)\n",
    "    # returns a sparse matrix B such that\n",
    "    # 1) size(B) == size(A)\n",
    "    # 2) B[rows, :] = A[rows, :]\n",
    "    # 3) B[i, :] = 0 if i not in rows\n",
    "    K = size(A)[2]\n",
    "    nzval = vec(A[rows, :])\n",
    "    rowval = repeat(rows, K)\n",
    "    colptr = [1 + (x - 1) * length(rows) for x = 1:K+1]\n",
    "    SparseMatrixCSC(size(A)..., colptr, rowval, nzval)\n",
    "end;"
   ]
  },
  {
   "cell_type": "code",
   "execution_count": 9,
   "id": "4c2e8700-dfa0-421a-b833-1fb40f47566a",
   "metadata": {},
   "outputs": [],
   "source": [
    "function update_users!(users, items, ratings, U, A, λ_u)\n",
    "    R = sparse_csr(users, items, ratings, size(U)[1], size(A)[1])\n",
    "    Threads.@threads for i = 1:size(U)[1]\n",
    "        X = sparse_subset(A, rowvals(R[i, :]))\n",
    "        y = R[i, :]\n",
    "        U[i, :] = ridge_regression(X, y, λ_u)\n",
    "    end\n",
    "end;"
   ]
  },
  {
   "cell_type": "code",
   "execution_count": 10,
   "id": "e10adc23-2d21-4434-a327-d436e7343731",
   "metadata": {},
   "outputs": [],
   "source": [
    "@memoize function gaussian_init(source, K, el_type)\n",
    "    Random.seed!(20211204 * hash(source) * K)\n",
    "    zeros(el_type, maximum(source), K) + randn(maximum(source), K)\n",
    "end;"
   ]
  },
  {
   "cell_type": "code",
   "execution_count": 11,
   "id": "d0371f61-27bf-4f52-b822-d060f7be01b3",
   "metadata": {},
   "outputs": [],
   "source": [
    "function train_model(training, validation, λ_u, λ_a, K, stop_criteria)\n",
    "    @debug \"training model with parameters [$λ_u, $λ_a]\"\n",
    "    users, items, ratings = training.user, training.item, training.rating\n",
    "    U = copy(gaussian_init(users, K, eltype(λ_u)))\n",
    "    A = copy(gaussian_init(items, K, eltype(λ_a)))\n",
    "    loss = calc_loss(validation, U, A)\n",
    "\n",
    "    while !stop!(stop_criteria, loss)\n",
    "        update_users!(users, items, ratings, U, A, λ_u)\n",
    "        update_users!(items, users, ratings, A, U, λ_a)\n",
    "        loss = calc_loss(validation, U, A)\n",
    "    end\n",
    "    U, A, loss\n",
    "end;"
   ]
  },
  {
   "cell_type": "markdown",
   "id": "d44f0871-3bb4-4083-8bdb-3cb53233298c",
   "metadata": {
    "tags": []
   },
   "source": [
    "## Training"
   ]
  },
  {
   "cell_type": "code",
   "execution_count": 12,
   "id": "1a09d0ba-09cb-48c3-84b0-d0eb57d1e0f8",
   "metadata": {},
   "outputs": [],
   "source": [
    "function validation_mse(λ, K)\n",
    "    λ = exp.(λ) # ensure λ is nonnegative\n",
    "    # stop really early so we can spend more computation exploring the parameter space\n",
    "    stop_criteria = early_stopper(max_iters = 2, patience = 1, min_rel_improvement = 0.01)\n",
    "    U, A, loss = train_model(training, validation, λ[1], λ[2], K, stop_criteria)\n",
    "    loss\n",
    "end;"
   ]
  },
  {
   "cell_type": "code",
   "execution_count": 13,
   "id": "d3bfcb3b-f31d-4715-b5cf-0ad0b0d73ed3",
   "metadata": {},
   "outputs": [],
   "source": [
    "K = 10;"
   ]
  },
  {
   "cell_type": "code",
   "execution_count": null,
   "id": "6f83292e-b737-4e7f-9313-52cbace25873",
   "metadata": {
    "tags": []
   },
   "outputs": [
    {
     "name": "stderr",
     "output_type": "stream",
     "text": [
      "\u001b[38;5;4m\u001b[1m[ \u001b[22m\u001b[39m\u001b[38;5;4m\u001b[1mDebug: \u001b[22m\u001b[39m20211206 03:11:44 training model with parameters [Dual{ForwardDiff.Tag{var\"#16#17\", Float64}}(1.0,1.0,0.0), Dual{ForwardDiff.Tag{var\"#16#17\", Float64}}(1.0,0.0,1.0)]\n",
      "\u001b[38;5;4m\u001b[1m[ \u001b[22m\u001b[39m\u001b[38;5;4m\u001b[1mDebug: \u001b[22m\u001b[39m20211206 03:11:49 loss: Dual{ForwardDiff.Tag{var\"#16#17\", Float64}}(11.7421243760049,0.0,0.0)\n",
      "\u001b[38;5;4m\u001b[1m[ \u001b[22m\u001b[39m\u001b[38;5;4m\u001b[1mDebug: \u001b[22m\u001b[39m20211206 03:17:30 loss: Dual{ForwardDiff.Tag{var\"#16#17\", Float64}}(1.802953937602069,-0.009483831346817843,-0.00251577296788487)\n",
      "\u001b[38;5;4m\u001b[1m[ \u001b[22m\u001b[39m\u001b[38;5;4m\u001b[1mDebug: \u001b[22m\u001b[39m20211206 03:22:16 loss: Dual{ForwardDiff.Tag{var\"#16#17\", Float64}}(1.6632633092287705,-0.013173546425693511,-0.0028235639282069725)\n"
     ]
    },
    {
     "name": "stdout",
     "output_type": "stream",
     "text": [
      "Iter     Function value   Gradient norm \n",
      "     0     1.663263e+00     1.317355e-02\n",
      " * Current step size: 1.0\n",
      " * time: 0.050124168395996094\n",
      " * g(x): [-0.013173546425693511, -0.0028235639282069725]\n",
      " * x: [0.0, 0.0]\n"
     ]
    },
    {
     "name": "stderr",
     "output_type": "stream",
     "text": [
      "\u001b[38;5;4m\u001b[1m[ \u001b[22m\u001b[39m\u001b[38;5;4m\u001b[1mDebug: \u001b[22m\u001b[39m20211206 03:22:20 training model with parameters [Dual{ForwardDiff.Tag{var\"#16#17\", Float64}}(1.0132606998745746,1.0132606998745746,0.0), Dual{ForwardDiff.Tag{var\"#16#17\", Float64}}(1.002827553939302,0.0,1.002827553939302)]\n",
      "\u001b[38;5;4m\u001b[1m[ \u001b[22m\u001b[39m\u001b[38;5;4m\u001b[1mDebug: \u001b[22m\u001b[39m20211206 03:22:23 loss: Dual{ForwardDiff.Tag{var\"#16#17\", Float64}}(11.7421243760049,0.0,0.0)\n",
      "\u001b[38;5;4m\u001b[1m[ \u001b[22m\u001b[39m\u001b[38;5;4m\u001b[1mDebug: \u001b[22m\u001b[39m20211206 03:27:09 loss: Dual{ForwardDiff.Tag{var\"#16#17\", Float64}}(1.8028219452763985,-0.009476088796569533,-0.0025188194814296148)\n",
      "\u001b[38;5;4m\u001b[1m[ \u001b[22m\u001b[39m\u001b[38;5;4m\u001b[1mDebug: \u001b[22m\u001b[39m20211206 03:31:56 loss: Dual{ForwardDiff.Tag{var\"#16#17\", Float64}}(1.6630818013479762,-0.013172491207473947,-0.002823663425716759)\n",
      "\u001b[38;5;4m\u001b[1m[ \u001b[22m\u001b[39m\u001b[38;5;4m\u001b[1mDebug: \u001b[22m\u001b[39m20211206 03:31:56 training model with parameters [Dual{ForwardDiff.Tag{var\"#16#17\", Float64}}(1.0680854344355888,1.0680854344355888,0.0), Dual{ForwardDiff.Tag{var\"#16#17\", Float64}}(1.0142179466937624,0.0,1.0142179466937624)]\n",
      "\u001b[38;5;4m\u001b[1m[ \u001b[22m\u001b[39m\u001b[38;5;4m\u001b[1mDebug: \u001b[22m\u001b[39m20211206 03:31:59 loss: Dual{ForwardDiff.Tag{var\"#16#17\", Float64}}(11.7421243760049,0.0,0.0)\n",
      "\u001b[38;5;4m\u001b[1m[ \u001b[22m\u001b[39m\u001b[38;5;4m\u001b[1mDebug: \u001b[22m\u001b[39m20211206 03:36:45 loss: Dual{ForwardDiff.Tag{var\"#16#17\", Float64}}(1.8022948890887742,-0.009446146675877374,-0.0025311350339163713)\n",
      "\u001b[38;5;4m\u001b[1m[ \u001b[22m\u001b[39m\u001b[38;5;4m\u001b[1mDebug: \u001b[22m\u001b[39m20211206 03:41:30 loss: Dual{ForwardDiff.Tag{var\"#16#17\", Float64}}(1.6623558794282791,-0.013169600569749645,-0.002824132997813741)\n",
      "\u001b[38;5;4m\u001b[1m[ \u001b[22m\u001b[39m\u001b[38;5;4m\u001b[1mDebug: \u001b[22m\u001b[39m20211206 03:41:30 training model with parameters [Dual{ForwardDiff.Tag{var\"#16#17\", Float64}}(1.3900485306118169,1.3900485306118169,0.0), Dual{ForwardDiff.Tag{var\"#16#17\", Float64}}(1.0731401800352247,0.0,1.0731401800352247)]\n",
      "\u001b[38;5;4m\u001b[1m[ \u001b[22m\u001b[39m\u001b[38;5;4m\u001b[1mDebug: \u001b[22m\u001b[39m20211206 03:41:34 loss: Dual{ForwardDiff.Tag{var\"#16#17\", Float64}}(11.7421243760049,0.0,0.0)\n",
      "\u001b[38;5;4m\u001b[1m[ \u001b[22m\u001b[39m\u001b[38;5;4m\u001b[1mDebug: \u001b[22m\u001b[39m20211206 03:46:20 loss: Dual{ForwardDiff.Tag{var\"#16#17\", Float64}}(1.7996786750035216,-0.009321962438546435,-0.0025960188346644156)\n",
      "\u001b[38;5;4m\u001b[1m[ \u001b[22m\u001b[39m\u001b[38;5;4m\u001b[1mDebug: \u001b[22m\u001b[39m20211206 03:51:05 loss: Dual{ForwardDiff.Tag{var\"#16#17\", Float64}}(1.6587253734207872,-0.013186799450218611,-0.002828302472030566)\n",
      "\u001b[38;5;4m\u001b[1m[ \u001b[22m\u001b[39m\u001b[38;5;4m\u001b[1mDebug: \u001b[22m\u001b[39m20211206 03:51:05 training model with parameters [Dual{ForwardDiff.Tag{var\"#16#17\", Float64}}(5.18979035955003,5.18979035955003,0.0), Dual{ForwardDiff.Tag{var\"#16#17\", Float64}}(1.4232535612276107,0.0,1.4232535612276107)]\n",
      "\u001b[38;5;4m\u001b[1m[ \u001b[22m\u001b[39m\u001b[38;5;4m\u001b[1mDebug: \u001b[22m\u001b[39m20211206 03:51:09 loss: Dual{ForwardDiff.Tag{var\"#16#17\", Float64}}(11.7421243760049,0.0,0.0)\n",
      "\u001b[38;5;4m\u001b[1m[ \u001b[22m\u001b[39m\u001b[38;5;4m\u001b[1mDebug: \u001b[22m\u001b[39m20211206 03:55:55 loss: Dual{ForwardDiff.Tag{var\"#16#17\", Float64}}(1.7866506044471375,-0.009522420214483317,-0.003035621523305224)\n",
      "\u001b[38;5;4m\u001b[1m[ \u001b[22m\u001b[39m\u001b[38;5;4m\u001b[1mDebug: \u001b[22m\u001b[39m20211206 04:00:43 loss: Dual{ForwardDiff.Tag{var\"#16#17\", Float64}}(1.6401344355523015,-0.01399921382747326,-0.0029029215380567087)\n",
      "\u001b[38;5;4m\u001b[1m[ \u001b[22m\u001b[39m\u001b[38;5;4m\u001b[1mDebug: \u001b[22m\u001b[39m20211206 04:00:43 training model with parameters [Dual{ForwardDiff.Tag{var\"#16#17\", Float64}}(3764.8621125040777,3764.8621125040777,0.0), Dual{ForwardDiff.Tag{var\"#16#17\", Float64}}(5.839980484441665,0.0,5.839980484441665)]\n",
      "\u001b[38;5;4m\u001b[1m[ \u001b[22m\u001b[39m\u001b[38;5;4m\u001b[1mDebug: \u001b[22m\u001b[39m20211206 04:00:46 loss: Dual{ForwardDiff.Tag{var\"#16#17\", Float64}}(11.7421243760049,0.0,0.0)\n",
      "\u001b[38;5;4m\u001b[1m[ \u001b[22m\u001b[39m\u001b[38;5;4m\u001b[1mDebug: \u001b[22m\u001b[39m20211206 04:05:31 loss: Dual{ForwardDiff.Tag{var\"#16#17\", Float64}}(1.6910624766455244,0.004602899323295277,0.0026256990007342534)\n",
      "\u001b[38;5;4m\u001b[1m[ \u001b[22m\u001b[39m\u001b[38;5;4m\u001b[1mDebug: \u001b[22m\u001b[39m20211206 04:10:19 loss: Dual{ForwardDiff.Tag{var\"#16#17\", Float64}}(1.573309019046902,-0.00041294657540441446,0.00032631648200722406)\n",
      "\u001b[38;5;4m\u001b[1m[ \u001b[22m\u001b[39m\u001b[38;5;4m\u001b[1mDebug: \u001b[22m\u001b[39m20211206 04:10:19 training model with parameters [Dual{ForwardDiff.Tag{var\"#16#17\", Float64}}(7.563892959546892e17,7.563892959546892e17,0.0), Dual{ForwardDiff.Tag{var\"#16#17\", Float64}}(6792.927494999065,0.0,6792.927494999065)]\n",
      "\u001b[38;5;4m\u001b[1m[ \u001b[22m\u001b[39m\u001b[38;5;4m\u001b[1mDebug: \u001b[22m\u001b[39m20211206 04:10:22 loss: Dual{ForwardDiff.Tag{var\"#16#17\", Float64}}(11.7421243760049,0.0,0.0)\n",
      "\u001b[38;5;4m\u001b[1m[ \u001b[22m\u001b[39m\u001b[38;5;4m\u001b[1mDebug: \u001b[22m\u001b[39m20211206 04:15:08 loss: Dual{ForwardDiff.Tag{var\"#16#17\", Float64}}(1.6981920453148056,8.197894286593492e-34,4.0989471432967484e-34)\n",
      "\u001b[38;5;4m\u001b[1m[ \u001b[22m\u001b[39m\u001b[38;5;4m\u001b[1mDebug: \u001b[22m\u001b[39m20211206 04:19:53 loss: Dual{ForwardDiff.Tag{var\"#16#17\", Float64}}(1.6981920453148056,1.3692339285350924e-64,1.0269254464013197e-64)\n",
      "\u001b[38;5;4m\u001b[1m[ \u001b[22m\u001b[39m\u001b[38;5;4m\u001b[1mDebug: \u001b[22m\u001b[39m20211206 04:19:53 training model with parameters [Dual{ForwardDiff.Tag{var\"#16#17\", Float64}}(5.336385858091071e10,5.336385858091071e10,0.0), Dual{ForwardDiff.Tag{var\"#16#17\", Float64}}(199.17470723719362,0.0,199.17470723719362)]\n",
      "\u001b[38;5;4m\u001b[1m[ \u001b[22m\u001b[39m\u001b[38;5;4m\u001b[1mDebug: \u001b[22m\u001b[39m20211206 04:19:57 loss: Dual{ForwardDiff.Tag{var\"#16#17\", Float64}}(11.7421243760049,0.0,0.0)\n",
      "\u001b[38;5;4m\u001b[1m[ \u001b[22m\u001b[39m\u001b[38;5;4m\u001b[1mDebug: \u001b[22m\u001b[39m20211206 04:24:42 loss: Dual{ForwardDiff.Tag{var\"#16#17\", Float64}}(1.6981920453148056,5.617219478847828e-18,2.808609764459937e-18)\n",
      "\u001b[38;5;4m\u001b[1m[ \u001b[22m\u001b[39m\u001b[38;5;4m\u001b[1mDebug: \u001b[22m\u001b[39m20211206 04:29:27 loss: Dual{ForwardDiff.Tag{var\"#16#17\", Float64}}(1.6981920453148056,2.1924950270877064e-31,1.6443712770631307e-31)\n",
      "\u001b[38;5;4m\u001b[1m[ \u001b[22m\u001b[39m\u001b[38;5;4m\u001b[1mDebug: \u001b[22m\u001b[39m20211206 04:29:27 training model with parameters [Dual{ForwardDiff.Tag{var\"#16#17\", Float64}}(1.4174186726168666e7,1.4174186726168666e7,0.0), Dual{ForwardDiff.Tag{var\"#16#17\", Float64}}(34.10537205865951,0.0,34.10537205865951)]\n",
      "\u001b[38;5;4m\u001b[1m[ \u001b[22m\u001b[39m\u001b[38;5;4m\u001b[1mDebug: \u001b[22m\u001b[39m20211206 04:29:31 loss: Dual{ForwardDiff.Tag{var\"#16#17\", Float64}}(11.7421243760049,0.0,0.0)\n",
      "\u001b[38;5;4m\u001b[1m[ \u001b[22m\u001b[39m\u001b[38;5;4m\u001b[1mDebug: \u001b[22m\u001b[39m20211206 04:34:18 loss: Dual{ForwardDiff.Tag{var\"#16#17\", Float64}}(1.698192045082333,4.649296206837209e-10,2.324726112170504e-10)\n",
      "\u001b[38;5;4m\u001b[1m[ \u001b[22m\u001b[39m\u001b[38;5;4m\u001b[1mDebug: \u001b[22m\u001b[39m20211206 04:39:04 loss: Dual{ForwardDiff.Tag{var\"#16#17\", Float64}}(1.6981920453148036,8.77274607563703e-15,6.57966121112556e-15)\n",
      "\u001b[38;5;4m\u001b[1m[ \u001b[22m\u001b[39m\u001b[38;5;4m\u001b[1mDebug: \u001b[22m\u001b[39m20211206 04:39:04 training model with parameters [Dual{ForwardDiff.Tag{var\"#16#17\", Float64}}(1.4174186722704066e7,1.4174186722704066e7,0.0), Dual{ForwardDiff.Tag{var\"#16#17\", Float64}}(34.105372056872724,0.0,34.105372056872724)]\n",
      "\u001b[38;5;4m\u001b[1m[ \u001b[22m\u001b[39m\u001b[38;5;4m\u001b[1mDebug: \u001b[22m\u001b[39m20211206 04:39:08 loss: Dual{ForwardDiff.Tag{var\"#16#17\", Float64}}(11.7421243760049,0.0,0.0)\n",
      "\u001b[38;5;4m\u001b[1m[ \u001b[22m\u001b[39m\u001b[38;5;4m\u001b[1mDebug: \u001b[22m\u001b[39m20211206 04:43:53 loss: Dual{ForwardDiff.Tag{var\"#16#17\", Float64}}(1.698192045082333,4.6492962093535333e-10,2.3247261134287292e-10)\n",
      "\u001b[38;5;4m\u001b[1m[ \u001b[22m\u001b[39m\u001b[38;5;4m\u001b[1mDebug: \u001b[22m\u001b[39m20211206 04:48:39 loss: Dual{ForwardDiff.Tag{var\"#16#17\", Float64}}(1.6981920453148036,8.772746085592995e-15,6.579661218592678e-15)\n",
      "\u001b[38;5;4m\u001b[1m[ \u001b[22m\u001b[39m\u001b[38;5;4m\u001b[1mDebug: \u001b[22m\u001b[39m20211206 04:48:39 training model with parameters [Dual{ForwardDiff.Tag{var\"#16#17\", Float64}}(231006.18729347267,231006.18729347267,0.0), Dual{ForwardDiff.Tag{var\"#16#17\", Float64}}(14.112926954631304,0.0,14.112926954631304)]\n",
      "\u001b[38;5;4m\u001b[1m[ \u001b[22m\u001b[39m\u001b[38;5;4m\u001b[1mDebug: \u001b[22m\u001b[39m20211206 04:48:43 loss: Dual{ForwardDiff.Tag{var\"#16#17\", Float64}}(11.7421243760049,0.0,0.0)\n",
      "\u001b[38;5;4m\u001b[1m[ \u001b[22m\u001b[39m\u001b[38;5;4m\u001b[1mDebug: \u001b[22m\u001b[39m20211206 04:53:29 loss: Dual{ForwardDiff.Tag{var\"#16#17\", Float64}}(1.6981899390348658,4.203391221572936e-6,2.1060011194430187e-6)\n",
      "\u001b[38;5;4m\u001b[1m[ \u001b[22m\u001b[39m\u001b[38;5;4m\u001b[1mDebug: \u001b[22m\u001b[39m20211206 04:58:15 loss: Dual{ForwardDiff.Tag{var\"#16#17\", Float64}}(1.698191608280421,1.746344190980642e-6,1.3110257854776248e-6)\n",
      "\u001b[38;5;4m\u001b[1m[ \u001b[22m\u001b[39m\u001b[38;5;4m\u001b[1mDebug: \u001b[22m\u001b[39m20211206 04:58:15 training model with parameters [Dual{ForwardDiff.Tag{var\"#16#17\", Float64}}(225485.39151789615,225485.39151789615,0.0), Dual{ForwardDiff.Tag{var\"#16#17\", Float64}}(14.039946467027185,0.0,14.039946467027185)]\n",
      "\u001b[38;5;4m\u001b[1m[ \u001b[22m\u001b[39m\u001b[38;5;4m\u001b[1mDebug: \u001b[22m\u001b[39m20211206 04:58:18 loss: Dual{ForwardDiff.Tag{var\"#16#17\", Float64}}(11.7421243760049,0.0,0.0)\n",
      "\u001b[38;5;4m\u001b[1m[ \u001b[22m\u001b[39m\u001b[38;5;4m\u001b[1mDebug: \u001b[22m\u001b[39m20211206 05:03:05 loss: Dual{ForwardDiff.Tag{var\"#16#17\", Float64}}(1.6981898233790078,4.433946470422757e-6,2.2216255169161943e-6)\n",
      "\u001b[38;5;4m\u001b[1m[ \u001b[22m\u001b[39m\u001b[38;5;4m\u001b[1mDebug: \u001b[22m\u001b[39m20211206 05:07:50 loss: Dual{ForwardDiff.Tag{var\"#16#17\", Float64}}(1.6981915563841918,1.9536609632035653e-6,1.4666995397639591e-6)\n",
      "\u001b[38;5;4m\u001b[1m[ \u001b[22m\u001b[39m\u001b[38;5;4m\u001b[1mDebug: \u001b[22m\u001b[39m20211206 05:07:50 training model with parameters [Dual{ForwardDiff.Tag{var\"#16#17\", Float64}}(29136.255892768328,29136.255892768328,0.0), Dual{ForwardDiff.Tag{var\"#16#17\", Float64}}(9.054999357815795,0.0,9.054999357815795)]\n",
      "\u001b[38;5;4m\u001b[1m[ \u001b[22m\u001b[39m\u001b[38;5;4m\u001b[1mDebug: \u001b[22m\u001b[39m20211206 05:07:53 loss: Dual{ForwardDiff.Tag{var\"#16#17\", Float64}}(11.7421243760049,0.0,0.0)\n",
      "\u001b[38;5;4m\u001b[1m[ \u001b[22m\u001b[39m\u001b[38;5;4m\u001b[1mDebug: \u001b[22m\u001b[39m20211206 05:12:39 loss: Dual{ForwardDiff.Tag{var\"#16#17\", Float64}}(1.6979937977736557,0.0003854713558497425,0.00019576709808371163)\n",
      "\u001b[38;5;4m\u001b[1m[ \u001b[22m\u001b[39m\u001b[38;5;4m\u001b[1mDebug: \u001b[22m\u001b[39m20211206 05:17:25 loss: Dual{ForwardDiff.Tag{var\"#16#17\", Float64}}(1.6924382647661784,0.02087235710727016,0.01582390488968772)\n",
      "\u001b[38;5;4m\u001b[1m[ \u001b[22m\u001b[39m\u001b[38;5;4m\u001b[1mDebug: \u001b[22m\u001b[39m20211206 05:17:25 training model with parameters [Dual{ForwardDiff.Tag{var\"#16#17\", Float64}}(3873.7960533721684,3873.7960533721684,0.0), Dual{ForwardDiff.Tag{var\"#16#17\", Float64}}(5.875793437383553,0.0,5.875793437383553)]\n",
      "\u001b[38;5;4m\u001b[1m[ \u001b[22m\u001b[39m\u001b[38;5;4m\u001b[1mDebug: \u001b[22m\u001b[39m20211206 05:17:28 loss: Dual{ForwardDiff.Tag{var\"#16#17\", Float64}}(11.7421243760049,0.0,0.0)\n",
      "\u001b[38;5;4m\u001b[1m[ \u001b[22m\u001b[39m\u001b[38;5;4m\u001b[1mDebug: \u001b[22m\u001b[39m20211206 05:22:14 loss: Dual{ForwardDiff.Tag{var\"#16#17\", Float64}}(1.6912137217500374,0.004845525050519658,0.002745013202237909)\n",
      "\u001b[38;5;4m\u001b[1m[ \u001b[22m\u001b[39m\u001b[38;5;4m\u001b[1mDebug: \u001b[22m\u001b[39m20211206 05:27:00 loss: Dual{ForwardDiff.Tag{var\"#16#17\", Float64}}(1.5733102379270294,0.00023826559109797947,0.0009741567787455844)\n"
     ]
    },
    {
     "name": "stdout",
     "output_type": "stream",
     "text": [
      "     1     1.573310e+00     9.741568e-04\n",
      " * Current step size: 627.1652242021512\n",
      " * time: 7484.228739976883\n",
      " * g(x): [0.00023826559109797947, 0.0009741567787455844]\n",
      " * x: [8.261990197607519, 1.7708411040830327]\n"
     ]
    },
    {
     "name": "stderr",
     "output_type": "stream",
     "text": [
      "\u001b[38;5;4m\u001b[1m[ \u001b[22m\u001b[39m\u001b[38;5;4m\u001b[1mDebug: \u001b[22m\u001b[39m20211206 05:27:00 training model with parameters [Dual{ForwardDiff.Tag{var\"#16#17\", Float64}}(3452.0695089667806,3452.0695089667806,0.0), Dual{ForwardDiff.Tag{var\"#16#17\", Float64}}(3.337761410448804,0.0,3.337761410448804)]\n",
      "\u001b[38;5;4m\u001b[1m[ \u001b[22m\u001b[39m\u001b[38;5;4m\u001b[1mDebug: \u001b[22m\u001b[39m20211206 05:27:04 loss: Dual{ForwardDiff.Tag{var\"#16#17\", Float64}}(11.7421243760049,0.0,0.0)\n",
      "\u001b[38;5;4m\u001b[1m[ \u001b[22m\u001b[39m\u001b[38;5;4m\u001b[1mDebug: \u001b[22m\u001b[39m20211206 05:31:49 loss: Dual{ForwardDiff.Tag{var\"#16#17\", Float64}}(1.6900277915251942,-0.00043677885962418723,-4.055524238620178e-5)\n",
      "\u001b[38;5;4m\u001b[1m[ \u001b[22m\u001b[39m\u001b[38;5;4m\u001b[1mDebug: \u001b[22m\u001b[39m20211206 05:36:37 loss: Dual{ForwardDiff.Tag{var\"#16#17\", Float64}}(1.5753297445079928,-0.003649477147177814,-0.004783028556370388)\n",
      "\u001b[38;5;4m\u001b[1m[ \u001b[22m\u001b[39m\u001b[38;5;4m\u001b[1mDebug: \u001b[22m\u001b[39m20211206 05:36:37 training model with parameters [Dual{ForwardDiff.Tag{var\"#16#17\", Float64}}(3804.698628803021,3804.698628803021,0.0), Dual{ForwardDiff.Tag{var\"#16#17\", Float64}}(5.379154941553988,0.0,5.379154941553988)]\n",
      "\u001b[38;5;4m\u001b[1m[ \u001b[22m\u001b[39m\u001b[38;5;4m\u001b[1mDebug: \u001b[22m\u001b[39m20211206 05:36:41 loss: Dual{ForwardDiff.Tag{var\"#16#17\", Float64}}(11.7421243760049,0.0,0.0)\n",
      "\u001b[38;5;4m\u001b[1m[ \u001b[22m\u001b[39m\u001b[38;5;4m\u001b[1mDebug: \u001b[22m\u001b[39m20211206 05:41:27 loss: Dual{ForwardDiff.Tag{var\"#16#17\", Float64}}(1.6908993910187338,0.004342916357496955,0.0024857751599998614)\n"
     ]
    }
   ],
   "source": [
    "# Find the best regularization hyperparameters\n",
    "res = optimize(\n",
    "    λ -> validation_mse(λ, K),\n",
    "    fill(0.0, 2),  # intial guess\n",
    "    LBFGS(),\n",
    "    autodiff = :forward,\n",
    "    Optim.Options(show_trace = true, extended_trace = true),\n",
    ")\n",
    "λ = exp.(Optim.minimizer(res));"
   ]
  },
  {
   "cell_type": "code",
   "execution_count": null,
   "id": "fd78fbf3-ba8a-4207-8a49-aba1f1fa38b2",
   "metadata": {},
   "outputs": [],
   "source": [
    "res"
   ]
  },
  {
   "cell_type": "code",
   "execution_count": null,
   "id": "be9ef25a-7e6a-49db-a1b2-15950cae282f",
   "metadata": {},
   "outputs": [],
   "source": [
    "@info \"The optimal [λ_u, λ_a] is $λ, found in \" *\n",
    "      repr(Optim.f_calls(res)) *\n",
    "      \" function calls\""
   ]
  },
  {
   "cell_type": "code",
   "execution_count": null,
   "id": "781a2388-df56-42ce-8e58-b4a11a4e4d0b",
   "metadata": {},
   "outputs": [],
   "source": [
    "stop_criteria = early_stopper(max_iters = 100, patience = 2, min_rel_improvement = 0.0001)\n",
    "U, A, loss = train_model(training, validation, λ..., K, stop_criteria);"
   ]
  },
  {
   "cell_type": "markdown",
   "id": "7c291e04-b1ba-48a0-ac09-25eda75a6162",
   "metadata": {},
   "source": [
    "## Inference"
   ]
  },
  {
   "cell_type": "code",
   "execution_count": null,
   "id": "63d311e6-30af-4b1c-b3fb-293b7fd3e5f4",
   "metadata": {},
   "outputs": [],
   "source": [
    "model(users, items) = make_prediction(users, items, U, A);"
   ]
  },
  {
   "cell_type": "code",
   "execution_count": null,
   "id": "b93576c8-a876-41b8-859d-853ff9479b1e",
   "metadata": {},
   "outputs": [],
   "source": [
    "write_predictions(model);"
   ]
  },
  {
   "cell_type": "code",
   "execution_count": null,
   "id": "fabc7f15-9a67-4e00-b368-40e0af0bad32",
   "metadata": {},
   "outputs": [],
   "source": [
    "write_params(Dict(\"U\" => U, \"A\" => A, \"λ\" => λ));"
   ]
  },
  {
   "cell_type": "code",
   "execution_count": null,
   "id": "64b05583-ea46-4561-9e87-49483e563346",
   "metadata": {},
   "outputs": [],
   "source": []
  }
 ],
 "metadata": {
  "kernelspec": {
   "display_name": "Julia 1.6.3",
   "language": "julia",
   "name": "julia-1.6"
  },
  "language_info": {
   "file_extension": ".jl",
   "mimetype": "application/julia",
   "name": "julia",
   "version": "1.6.3"
  }
 },
 "nbformat": 4,
 "nbformat_minor": 5
}
