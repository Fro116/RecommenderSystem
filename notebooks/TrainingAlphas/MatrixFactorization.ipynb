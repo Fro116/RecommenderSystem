{
 "cells": [
  {
   "cell_type": "markdown",
   "id": "c3758ece-9b72-47b4-ae6a-aa364e0443e3",
   "metadata": {},
   "source": [
    "# Matrix Factorization\n",
    "* Prediction is $\\tilde R = UA^T$ \n",
    "* Loss fuction is $L = \\lVert (R - \\tilde R)^\\Omega \\rVert _2^2 + \\lambda_u \\lVert U \\rVert _2^2 + \\lambda_a \\lVert A \\rVert _2^2$\n",
    "* $\\Omega$ is the set of oberved pairs $(i, j)$\n",
    "* $M^\\Omega$ is the projection of $M$ onto $\\Omega$ for any matrix $M$\n",
    "* $U$ is an $m x k$ matrix, $A$ is an $n x k$ matrix and $R$ is the $m x n$ ratings matrix"
   ]
  },
  {
   "cell_type": "code",
   "execution_count": 1,
   "id": "7cc9334a-2287-41d6-885b-a5cca94fe263",
   "metadata": {},
   "outputs": [],
   "source": [
    "name = \"MatrixFactorization\";\n",
    "residual_alphas = [\"UserItemBiases\"];"
   ]
  },
  {
   "cell_type": "code",
   "execution_count": 2,
   "id": "d17593ac-3260-4c01-a5df-91edfcd17e13",
   "metadata": {},
   "outputs": [],
   "source": [
    "using NBInclude\n",
    "@nbinclude(\"Alpha.ipynb\");"
   ]
  },
  {
   "cell_type": "code",
   "execution_count": 3,
   "id": "54170f91-c85c-4207-9939-572cad4db024",
   "metadata": {},
   "outputs": [],
   "source": [
    "using LinearAlgebra\n",
    "using SparseArrays"
   ]
  },
  {
   "cell_type": "markdown",
   "id": "99f52a69-0231-4bff-8a9f-26bb16ee9f33",
   "metadata": {},
   "source": [
    "# Alternating Least Squares Algorithm\n",
    "* $u_{ik} = \\dfrac{\\sum_{j \\in \\Omega_i}(r_{ij} - \\tilde r_{ij} + u_{ik}a_{kj})}{\\sum_{j \\in \\Omega_i} a_j^2 + \\lambda_u}$\n",
    "* $\\Omega$ is the set of (user, item) pairs that we have ratings for\n",
    "* $\\Omega_i$ is subset of $\\Omega$ for which the user is the $i$-th user"
   ]
  },
  {
   "cell_type": "code",
   "execution_count": 4,
   "id": "c9e3f1ca-34cc-48b6-8c28-7deb35939858",
   "metadata": {},
   "outputs": [
    {
     "data": {
      "text/plain": [
       "make_prediction (generic function with 1 method)"
      ]
     },
     "execution_count": 4,
     "metadata": {},
     "output_type": "execute_result"
    }
   ],
   "source": [
    "function make_prediction(usernames, anime_ids, U, A)\n",
    "    r = zeros(eltype(U), length(usernames))\n",
    "    @showprogress for i = 1:length(r)\n",
    "        if (usernames[i] <= size(U)[1]) && (anime_ids[i] <= size(A)[1])\n",
    "            r[i] = dot(U[usernames[i], :], A[anime_ids[i], :])\n",
    "        end\n",
    "    end\n",
    "    return r\n",
    "end"
   ]
  },
  {
   "cell_type": "code",
   "execution_count": 5,
   "id": "04463bd7-c9df-4866-b929-c6217b38e0b3",
   "metadata": {},
   "outputs": [],
   "source": [
    "function ridge_regression(M, b, λ)\n",
    "    return (Matrix(M'M) + λ * I(size(M)[2])) \\ Vector(M'b)\n",
    "end;"
   ]
  },
  {
   "cell_type": "code",
   "execution_count": 6,
   "id": "ea373a98-e714-4083-8cfc-dddc4dd2c91e",
   "metadata": {},
   "outputs": [],
   "source": [
    "function sparse_csr(i, j, v, m, n)\n",
    "    return sparse(j, i, v, n, m)'\n",
    "end;"
   ]
  },
  {
   "cell_type": "code",
   "execution_count": 7,
   "id": "a9094b8d-eea5-4ecd-b743-a7a245d3f281",
   "metadata": {},
   "outputs": [],
   "source": [
    "function sparse_subset(A, rows)\n",
    "    # returns a sparse matrix B such that\n",
    "    # 1) size(B) == size(A)\n",
    "    # 2) B[rows, :] = A[rows, :]\n",
    "    # 3) B[i, :] = 0 if i not in rows\n",
    "    K = size(A)[2]\n",
    "    nzval = vec(A[rows, :])\n",
    "    rowval = repeat(rows, K)\n",
    "    colptr = [1 + (x - 1) * length(rows) for x = 1:K+1]\n",
    "    return SparseMatrixCSC(size(A)..., colptr, rowval, nzval)\n",
    "end;"
   ]
  },
  {
   "cell_type": "code",
   "execution_count": 8,
   "id": "4c2e8700-dfa0-421a-b833-1fb40f47566a",
   "metadata": {},
   "outputs": [],
   "source": [
    "function update_users!(users, items, ratings, U, A, λ_u)\n",
    "    R = sparse_csr(users, items, ratings, size(U)[1], size(A)[1])\n",
    "    @tprogress Threads.@threads for i = 1:size(U)[1]\n",
    "        M = sparse_subset(A, rowvals(R[i, :]))\n",
    "        b = R[i, :]\n",
    "        U[i, :] = ridge_regression(M, b, λ_u)\n",
    "    end\n",
    "end;"
   ]
  },
  {
   "cell_type": "code",
   "execution_count": 9,
   "id": "d0371f61-27bf-4f52-b822-d060f7be01b3",
   "metadata": {},
   "outputs": [],
   "source": [
    "function train_model(training, λ_u, λ_a, K, ϵ = 1e-6)\n",
    "    users = training.username\n",
    "    items = training.anime_id\n",
    "    ratings = training.my_score\n",
    "    U = zeros(eltype(λ_u), maximum(users), K)\n",
    "    A = zeros(eltype(λ_a), maximum(items), K)\n",
    "    U .+= rand(size(U)...) .- 0.5 # TODO gaussianize\n",
    "    A .+= rand(size(A)...) .- 0.5\n",
    "\n",
    "    function print_progress()\n",
    "        @fastmath println(rmse(ratings, make_prediction(users, items, U, A)))\n",
    "        @fastmath println(\n",
    "            rmse(\n",
    "                validation.my_score,\n",
    "                make_prediction(validation.username, validation.anime_id, U, A),\n",
    "            ),\n",
    "        )\n",
    "    end\n",
    "\n",
    "    print_progress()\n",
    "    converged = false\n",
    "    while !converged\n",
    "        old_U = copy(U)\n",
    "        old_A = copy(A)\n",
    "        update_users!(users, items, ratings, U, A, λ_u)\n",
    "\n",
    "        print_progress()\n",
    "\n",
    "        update_users!(items, users, ratings, A, U, λ_a)\n",
    "\n",
    "        print_progress()\n",
    "\n",
    "        converged = (maximum(abs.(U - old_U)) < ϵ) && (maximum(abs.(A - old_A)) < ϵ)\n",
    "    end\n",
    "    return U, A\n",
    "end;"
   ]
  },
  {
   "cell_type": "code",
   "execution_count": 10,
   "id": "671e2106-316b-46a1-8ec4-0e4f76be8032",
   "metadata": {
    "collapsed": true,
    "jupyter": {
     "outputs_hidden": true
    },
    "tags": []
   },
   "outputs": [
    {
     "name": "stderr",
     "output_type": "stream",
     "text": [
      "\u001b[32mProgress: 100%|█████████████████████████████████████████| Time: 0:00:18\u001b[39m\n"
     ]
    },
    {
     "name": "stdout",
     "output_type": "stream",
     "text": [
      "1.3070890397969488\n"
     ]
    },
    {
     "name": "stderr",
     "output_type": "stream",
     "text": [
      "\u001b[32mProgress: 100%|█████████████████████████████████████████| Time: 0:00:02\u001b[39m\n"
     ]
    },
    {
     "name": "stdout",
     "output_type": "stream",
     "text": [
      "1.316305870551112\n"
     ]
    },
    {
     "name": "stderr",
     "output_type": "stream",
     "text": [
      "\u001b[32mProgress: 100%|███████████████████████████| Time: 0:11:34 ( 1.53 ms/it)\u001b[39m/it)\u001b[39m\n",
      "\u001b[32mProgress: 100%|█████████████████████████████████████████| Time: 0:00:18\u001b[39m\n"
     ]
    },
    {
     "name": "stdout",
     "output_type": "stream",
     "text": [
      "1.2803925757238905\n"
     ]
    },
    {
     "name": "stderr",
     "output_type": "stream",
     "text": [
      "\u001b[32mProgress: 100%|█████████████████████████████████████████| Time: 0:00:02\u001b[39m\n"
     ]
    },
    {
     "name": "stdout",
     "output_type": "stream",
     "text": [
      "1.3083311024265847\n"
     ]
    },
    {
     "name": "stderr",
     "output_type": "stream",
     "text": [
      "\u001b[32mProgress: 100%|███████████████████████████| Time: 0:14:48 (52.34 ms/it)\u001b[39m\n",
      "\u001b[32mProgress: 100%|█████████████████████████████████████████| Time: 0:00:17\u001b[39m\n"
     ]
    },
    {
     "name": "stdout",
     "output_type": "stream",
     "text": [
      "1.2704607112259834\n"
     ]
    },
    {
     "name": "stderr",
     "output_type": "stream",
     "text": [
      "\u001b[32mProgress: 100%|█████████████████████████████████████████| Time: 0:00:02\u001b[39m\n"
     ]
    },
    {
     "name": "stdout",
     "output_type": "stream",
     "text": [
      "1.3153727875126517\n"
     ]
    },
    {
     "name": "stderr",
     "output_type": "stream",
     "text": [
      "\u001b[32mProgress:  27%|███████▍                   |  ETA: 0:08:23 ( 1.53 ms/it)\u001b[39m"
     ]
    },
    {
     "ename": "LoadError",
     "evalue": "TaskFailedException\n\n\u001b[91m    nested task error: \u001b[39mInterruptException:\n    Stacktrace:\n      [1] \u001b[0m\u001b[1m_growat!\u001b[22m\n    \u001b[90m    @ \u001b[39m\u001b[90m./\u001b[39m\u001b[90;4marray.jl:890\u001b[0m\u001b[90m [inlined]\u001b[39m\n      [2] \u001b[0m\u001b[1minsert!\u001b[22m\n    \u001b[90m    @ \u001b[39m\u001b[90m./\u001b[39m\u001b[90;4marray.jl:1320\u001b[0m\u001b[90m [inlined]\u001b[39m\n      [3] \u001b[0m\u001b[1msetindex!\u001b[22m\u001b[0m\u001b[1m(\u001b[22m\u001b[90mx\u001b[39m::\u001b[0mSparseVector\u001b[90m{Float64, Int64}\u001b[39m, \u001b[90mv\u001b[39m::\u001b[0mFloat64, \u001b[90mi\u001b[39m::\u001b[0mInt64\u001b[0m\u001b[1m)\u001b[22m\n    \u001b[90m    @ \u001b[39m\u001b[35mSparseArrays\u001b[39m \u001b[90m/buildworker/worker/package_linuxaarch64/build/usr/share/julia/stdlib/v1.6/SparseArrays/src/\u001b[39m\u001b[90;4msparsevector.jl:323\u001b[0m\n      [4] \u001b[0m\u001b[1mmacro expansion\u001b[22m\n    \u001b[90m    @ \u001b[39m\u001b[90m./\u001b[39m\u001b[90;4mmultidimensional.jl:860\u001b[0m\u001b[90m [inlined]\u001b[39m\n      [5] \u001b[0m\u001b[1mmacro expansion\u001b[22m\n    \u001b[90m    @ \u001b[39m\u001b[90m./\u001b[39m\u001b[90;4mcartesian.jl:64\u001b[0m\u001b[90m [inlined]\u001b[39m\n      [6] \u001b[0m\u001b[1m_unsafe_getindex!\u001b[22m\n    \u001b[90m    @ \u001b[39m\u001b[90m./\u001b[39m\u001b[90;4mmultidimensional.jl:855\u001b[0m\u001b[90m [inlined]\u001b[39m\n      [7] \u001b[0m\u001b[1m_unsafe_getindex\u001b[22m\u001b[0m\u001b[1m(\u001b[22m::\u001b[0mIndexCartesian, ::\u001b[0mAdjoint\u001b[90m{Float64, SparseMatrixCSC{Float64, Int64}}\u001b[39m, ::\u001b[0mInt64, ::\u001b[0mBase.Slice\u001b[90m{Base.OneTo{Int64}}\u001b[39m\u001b[0m\u001b[1m)\u001b[22m\n    \u001b[90m    @ \u001b[39m\u001b[90mBase\u001b[39m \u001b[90m./\u001b[39m\u001b[90;4mmultidimensional.jl:846\u001b[0m\n      [8] \u001b[0m\u001b[1m_getindex\u001b[22m\n    \u001b[90m    @ \u001b[39m\u001b[90m./\u001b[39m\u001b[90;4mmultidimensional.jl:832\u001b[0m\u001b[90m [inlined]\u001b[39m\n      [9] \u001b[0m\u001b[1mgetindex\u001b[22m\n    \u001b[90m    @ \u001b[39m\u001b[90m./\u001b[39m\u001b[90;4mabstractarray.jl:1170\u001b[0m\u001b[90m [inlined]\u001b[39m\n     [10] \u001b[0m\u001b[1mmacro expansion\u001b[22m\n    \u001b[90m    @ \u001b[39m\u001b[90m./\u001b[39m\u001b[90;4mIn[8]:5\u001b[0m\u001b[90m [inlined]\u001b[39m\n     [11] \u001b[0m\u001b[1m(::var\"#54#threadsfor_fun#4\"{Matrix{Float64}, Matrix{Float64}, Float64, Adjoint{Float64, SparseMatrixCSC{Float64, Int64}}, UnitRange{Int64}})\u001b[22m\u001b[0m\u001b[1m(\u001b[22m\u001b[90monethread\u001b[39m::\u001b[0mBool\u001b[0m\u001b[1m)\u001b[22m\n    \u001b[90m    @ \u001b[39m\u001b[36mMain\u001b[39m \u001b[90m./\u001b[39m\u001b[90;4mthreadingconstructs.jl:81\u001b[0m\n     [12] \u001b[0m\u001b[1m(::var\"#54#threadsfor_fun#4\"{Matrix{Float64}, Matrix{Float64}, Float64, Adjoint{Float64, SparseMatrixCSC{Float64, Int64}}, UnitRange{Int64}})\u001b[22m\u001b[0m\u001b[1m(\u001b[22m\u001b[0m\u001b[1m)\u001b[22m\n    \u001b[90m    @ \u001b[39m\u001b[36mMain\u001b[39m \u001b[90m./\u001b[39m\u001b[90;4mthreadingconstructs.jl:48\u001b[0m",
     "output_type": "error",
     "traceback": [
      "TaskFailedException\n\n\u001b[91m    nested task error: \u001b[39mInterruptException:\n    Stacktrace:\n      [1] \u001b[0m\u001b[1m_growat!\u001b[22m\n    \u001b[90m    @ \u001b[39m\u001b[90m./\u001b[39m\u001b[90;4marray.jl:890\u001b[0m\u001b[90m [inlined]\u001b[39m\n      [2] \u001b[0m\u001b[1minsert!\u001b[22m\n    \u001b[90m    @ \u001b[39m\u001b[90m./\u001b[39m\u001b[90;4marray.jl:1320\u001b[0m\u001b[90m [inlined]\u001b[39m\n      [3] \u001b[0m\u001b[1msetindex!\u001b[22m\u001b[0m\u001b[1m(\u001b[22m\u001b[90mx\u001b[39m::\u001b[0mSparseVector\u001b[90m{Float64, Int64}\u001b[39m, \u001b[90mv\u001b[39m::\u001b[0mFloat64, \u001b[90mi\u001b[39m::\u001b[0mInt64\u001b[0m\u001b[1m)\u001b[22m\n    \u001b[90m    @ \u001b[39m\u001b[35mSparseArrays\u001b[39m \u001b[90m/buildworker/worker/package_linuxaarch64/build/usr/share/julia/stdlib/v1.6/SparseArrays/src/\u001b[39m\u001b[90;4msparsevector.jl:323\u001b[0m\n      [4] \u001b[0m\u001b[1mmacro expansion\u001b[22m\n    \u001b[90m    @ \u001b[39m\u001b[90m./\u001b[39m\u001b[90;4mmultidimensional.jl:860\u001b[0m\u001b[90m [inlined]\u001b[39m\n      [5] \u001b[0m\u001b[1mmacro expansion\u001b[22m\n    \u001b[90m    @ \u001b[39m\u001b[90m./\u001b[39m\u001b[90;4mcartesian.jl:64\u001b[0m\u001b[90m [inlined]\u001b[39m\n      [6] \u001b[0m\u001b[1m_unsafe_getindex!\u001b[22m\n    \u001b[90m    @ \u001b[39m\u001b[90m./\u001b[39m\u001b[90;4mmultidimensional.jl:855\u001b[0m\u001b[90m [inlined]\u001b[39m\n      [7] \u001b[0m\u001b[1m_unsafe_getindex\u001b[22m\u001b[0m\u001b[1m(\u001b[22m::\u001b[0mIndexCartesian, ::\u001b[0mAdjoint\u001b[90m{Float64, SparseMatrixCSC{Float64, Int64}}\u001b[39m, ::\u001b[0mInt64, ::\u001b[0mBase.Slice\u001b[90m{Base.OneTo{Int64}}\u001b[39m\u001b[0m\u001b[1m)\u001b[22m\n    \u001b[90m    @ \u001b[39m\u001b[90mBase\u001b[39m \u001b[90m./\u001b[39m\u001b[90;4mmultidimensional.jl:846\u001b[0m\n      [8] \u001b[0m\u001b[1m_getindex\u001b[22m\n    \u001b[90m    @ \u001b[39m\u001b[90m./\u001b[39m\u001b[90;4mmultidimensional.jl:832\u001b[0m\u001b[90m [inlined]\u001b[39m\n      [9] \u001b[0m\u001b[1mgetindex\u001b[22m\n    \u001b[90m    @ \u001b[39m\u001b[90m./\u001b[39m\u001b[90;4mabstractarray.jl:1170\u001b[0m\u001b[90m [inlined]\u001b[39m\n     [10] \u001b[0m\u001b[1mmacro expansion\u001b[22m\n    \u001b[90m    @ \u001b[39m\u001b[90m./\u001b[39m\u001b[90;4mIn[8]:5\u001b[0m\u001b[90m [inlined]\u001b[39m\n     [11] \u001b[0m\u001b[1m(::var\"#54#threadsfor_fun#4\"{Matrix{Float64}, Matrix{Float64}, Float64, Adjoint{Float64, SparseMatrixCSC{Float64, Int64}}, UnitRange{Int64}})\u001b[22m\u001b[0m\u001b[1m(\u001b[22m\u001b[90monethread\u001b[39m::\u001b[0mBool\u001b[0m\u001b[1m)\u001b[22m\n    \u001b[90m    @ \u001b[39m\u001b[36mMain\u001b[39m \u001b[90m./\u001b[39m\u001b[90;4mthreadingconstructs.jl:81\u001b[0m\n     [12] \u001b[0m\u001b[1m(::var\"#54#threadsfor_fun#4\"{Matrix{Float64}, Matrix{Float64}, Float64, Adjoint{Float64, SparseMatrixCSC{Float64, Int64}}, UnitRange{Int64}})\u001b[22m\u001b[0m\u001b[1m(\u001b[22m\u001b[0m\u001b[1m)\u001b[22m\n    \u001b[90m    @ \u001b[39m\u001b[36mMain\u001b[39m \u001b[90m./\u001b[39m\u001b[90;4mthreadingconstructs.jl:48\u001b[0m",
      "",
      "Stacktrace:",
      "  [1] wait",
      "    @ ./task.jl:322 [inlined]",
      "  [2] threading_run(func::Function)",
      "    @ Base.Threads ./threadingconstructs.jl:34",
      "  [3] macro expansion",
      "    @ ./threadingconstructs.jl:93 [inlined]",
      "  [4] macro expansion",
      "    @ ~/RecommenderSystem/notebooks/TrainingAlphas/Alpha.ipynb:In[1]:13 [inlined]",
      "  [5] update_users!(users::Vector{Int64}, items::Vector{Int64}, ratings::Vector{Float64}, U::Matrix{Float64}, A::Matrix{Float64}, λ_u::Float64)",
      "    @ Main ./In[8]:3",
      "  [6] train_model(training::DataFrame, λ_u::Float64, λ_a::Float64, K::Int64, ϵ::Float64)",
      "    @ Main ./In[9]:25",
      "  [7] train_model(training::DataFrame, λ_u::Float64, λ_a::Float64, K::Int64)",
      "    @ Main ./In[9]:2",
      "  [8] top-level scope",
      "    @ ./timing.jl:210 [inlined]",
      "  [9] top-level scope",
      "    @ ./In[10]:0",
      " [10] eval",
      "    @ ./boot.jl:360 [inlined]",
      " [11] include_string(mapexpr::typeof(REPL.softscope), mod::Module, code::String, filename::String)",
      "    @ Base ./loading.jl:1116"
     ]
    }
   ],
   "source": [
    "@time U, A = train_model(training, 10., 10., 5)"
   ]
  },
  {
   "cell_type": "code",
   "execution_count": 11,
   "id": "690f7d40-edae-47c7-ba5a-657908e873ea",
   "metadata": {},
   "outputs": [],
   "source": [
    "model(users, items) = make_prediction(users, items, U, A);"
   ]
  },
  {
   "cell_type": "code",
   "execution_count": 12,
   "id": "fb021dd9-6dac-404a-92bd-0c3d2379bf42",
   "metadata": {},
   "outputs": [
    {
     "ename": "LoadError",
     "evalue": "UndefVarError: U not defined",
     "output_type": "error",
     "traceback": [
      "UndefVarError: U not defined",
      "",
      "Stacktrace:",
      " [1] model(users::Vector{Int64}, items::Vector{Int64})",
      "   @ Main ./In[11]:1",
      " [2] write_predictions(model::typeof(model); save_training::Bool)",
      "   @ Main ~/RecommenderSystem/notebooks/TrainingAlphas/Alpha.ipynb:In[+7]:14",
      " [3] write_predictions(model::Function)",
      "   @ Main ~/RecommenderSystem/notebooks/TrainingAlphas/Alpha.ipynb:In[+7]:2",
      " [4] top-level scope",
      "   @ In[12]:1",
      " [5] eval",
      "   @ ./boot.jl:360 [inlined]",
      " [6] include_string(mapexpr::typeof(REPL.softscope), mod::Module, code::String, filename::String)",
      "   @ Base ./loading.jl:1116"
     ]
    }
   ],
   "source": [
    "write_predictions(model);"
   ]
  },
  {
   "cell_type": "code",
   "execution_count": 13,
   "id": "3e98e48e-547f-40dd-b76c-a298cc776c61",
   "metadata": {},
   "outputs": [
    {
     "ename": "ErrorException",
     "evalue": "Parsing error for input occurred on line 1, offset: 46",
     "output_type": "error",
     "traceback": [
      "Parsing error for input occurred on line 1, offset: 46",
      "",
      "Stacktrace:",
      "  [1] error(s::String)",
      "    @ Base ./error.jl:33",
      "  [2] format_text(text::String, style::JuliaFormatter.DefaultStyle, opts::JuliaFormatter.Options)",
      "    @ JuliaFormatter ~/.julia/packages/JuliaFormatter/JHBE6/src/JuliaFormatter.jl:344",
      "  [3] #format_text#173",
      "    @ ~/.julia/packages/JuliaFormatter/JHBE6/src/JuliaFormatter.jl:338 [inlined]",
      "  [4] format_text",
      "    @ ~/.julia/packages/JuliaFormatter/JHBE6/src/JuliaFormatter.jl:336 [inlined]",
      "  [5] #format_text#172",
      "    @ ~/.julia/packages/JuliaFormatter/JHBE6/src/JuliaFormatter.jl:332 [inlined]",
      "  [6] format_text",
      "    @ ~/.julia/packages/JuliaFormatter/JHBE6/src/JuliaFormatter.jl:332 [inlined]",
      "  [7] format_current_cell()",
      "    @ JupyterFormatter ~/.julia/packages/JupyterFormatter/7HuvQ/src/JupyterFormatter.jl:8",
      "  [8] #invokelatest#2",
      "    @ ./essentials.jl:708 [inlined]",
      "  [9] invokelatest",
      "    @ ./essentials.jl:706 [inlined]",
      " [10] execute_request(socket::ZMQ.Socket, msg::IJulia.Msg)",
      "    @ IJulia ~/.julia/packages/IJulia/e8kqU/src/execute_request.jl:59",
      " [11] #invokelatest#2",
      "    @ ./essentials.jl:708 [inlined]",
      " [12] invokelatest",
      "    @ ./essentials.jl:706 [inlined]",
      " [13] eventloop(socket::ZMQ.Socket)",
      "    @ IJulia ~/.julia/packages/IJulia/e8kqU/src/eventloop.jl:8",
      " [14] (::IJulia.var\"#15#18\")()",
      "    @ IJulia ./task.jl:411"
     ]
    }
   ],
   "source": [
    "write_params(Dict(\"U\" => U, \"A\" => A, \"λ\" => λ);"
   ]
  },
  {
   "cell_type": "markdown",
   "id": "d44f0871-3bb4-4083-8bdb-3cb53233298c",
   "metadata": {
    "tags": []
   },
   "source": [
    "## Training"
   ]
  },
  {
   "cell_type": "code",
   "execution_count": 14,
   "id": "1a09d0ba-09cb-48c3-84b0-d0eb57d1e0f8",
   "metadata": {},
   "outputs": [],
   "source": [
    "K = 10;\n",
    "function validation_mse(λ)\n",
    "    λ = exp.(λ) # ensure λ is nonnegative\n",
    "    U, A = train_model(training, λ[1], λ[2], K)\n",
    "    pred_score = make_prediction(validation.username, validation.anime_id, U, A)\n",
    "    return Metrics.mse(validation.my_score, pred_score)\n",
    "end;"
   ]
  },
  {
   "cell_type": "code",
   "execution_count": null,
   "id": "6f83292e-b737-4e7f-9313-52cbace25873",
   "metadata": {},
   "outputs": [
    {
     "name": "stderr",
     "output_type": "stream",
     "text": [
      "\u001b[32mProgress:  88%|███████████████████████████████████▉     |  ETA: 0:00:04\u001b[39m"
     ]
    }
   ],
   "source": [
    "# Find the best regularization hyperparameters\n",
    "res = optimize(\n",
    "    validation_mse,\n",
    "    fill(0.0, 2),\n",
    "    LBFGS(), # intial guess\n",
    "    autodiff=:forward,\n",
    "    Optim.Options(show_trace=true),\n",
    ");\n",
    "λ = exp.(Optim.minimizer(res))"
   ]
  },
  {
   "cell_type": "code",
   "execution_count": null,
   "id": "be9ef25a-7e6a-49db-a1b2-15950cae282f",
   "metadata": {},
   "outputs": [],
   "source": [
    "print(\"The optimal [λ_u, λ_a] is \", λ);"
   ]
  },
  {
   "cell_type": "code",
   "execution_count": null,
   "id": "781a2388-df56-42ce-8e58-b4a11a4e4d0b",
   "metadata": {},
   "outputs": [],
   "source": [
    "U, A = train_model(training, λ..., K);"
   ]
  },
  {
   "cell_type": "markdown",
   "id": "7c291e04-b1ba-48a0-ac09-25eda75a6162",
   "metadata": {},
   "source": [
    "## Inference"
   ]
  },
  {
   "cell_type": "code",
   "execution_count": null,
   "id": "63d311e6-30af-4b1c-b3fb-293b7fd3e5f4",
   "metadata": {},
   "outputs": [],
   "source": [
    "model(users, items) = make_prediction(users, items, U, A);"
   ]
  },
  {
   "cell_type": "code",
   "execution_count": null,
   "id": "b93576c8-a876-41b8-859d-853ff9479b1e",
   "metadata": {},
   "outputs": [],
   "source": [
    "write_predictions(model);"
   ]
  },
  {
   "cell_type": "code",
   "execution_count": null,
   "id": "7acf9e7c-f9d7-4ed6-960d-9e35b0450bfd",
   "metadata": {},
   "outputs": [],
   "source": [
    "write_params(Dict(\"U\" => U, \"A\" => A, \"λ\" => λ);"
   ]
  }
 ],
 "metadata": {
  "kernelspec": {
   "display_name": "Julia 1.6.3",
   "language": "julia",
   "name": "julia-1.6"
  },
  "language_info": {
   "file_extension": ".jl",
   "mimetype": "application/julia",
   "name": "julia",
   "version": "1.6.3"
  }
 },
 "nbformat": 4,
 "nbformat_minor": 5
}
