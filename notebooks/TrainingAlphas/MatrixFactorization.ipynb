{
 "cells": [
  {
   "cell_type": "markdown",
   "id": "c3758ece-9b72-47b4-ae6a-aa364e0443e3",
   "metadata": {},
   "source": [
    "# Matrix Factorization\n",
    "* Prediction is $\\tilde R = UA^T$ \n",
    "* Loss fuction is $L = \\lVert (R - \\tilde R)^\\Omega \\rVert _2^2 + \\lambda_u \\lVert U \\rVert _2^2 + \\lambda_a \\lVert A \\rVert _2^2$\n",
    "* $\\Omega$ is the set of oberved pairs $(i, j)$\n",
    "* $M^\\Omega$ is the projection of $M$ onto $\\Omega$ for any matrix $M$\n",
    "* $U$ is an $m x k$ matrix, $A$ is an $n x k$ matrix and $R$ is the $m x n$ ratings matrix"
   ]
  },
  {
   "cell_type": "code",
   "execution_count": 1,
   "id": "7cc9334a-2287-41d6-885b-a5cca94fe263",
   "metadata": {},
   "outputs": [],
   "source": [
    "name = \"MatrixFactorization\";\n",
    "residual_alphas = [\"UserItemBiases\"];"
   ]
  },
  {
   "cell_type": "code",
   "execution_count": 2,
   "id": "54170f91-c85c-4207-9939-572cad4db024",
   "metadata": {},
   "outputs": [],
   "source": [
    "using LinearAlgebra\n",
    "using SparseArrays"
   ]
  },
  {
   "cell_type": "code",
   "execution_count": 3,
   "id": "d17593ac-3260-4c01-a5df-91edfcd17e13",
   "metadata": {},
   "outputs": [],
   "source": [
    "using NBInclude\n",
    "@nbinclude(\"Alpha.ipynb\");"
   ]
  },
  {
   "cell_type": "markdown",
   "id": "99f52a69-0231-4bff-8a9f-26bb16ee9f33",
   "metadata": {},
   "source": [
    "# Alternating Least Squares Algorithm\n",
    "* $u_{ik} = \\dfrac{\\sum_{j \\in \\Omega_i}(r_{ij} - \\tilde r_{ij} + u_{ik}a_{kj})}{\\sum_{j \\in \\Omega_i} a_j^2 + \\lambda_u}$\n",
    "* $\\Omega$ is the set of (user, item) pairs that we have ratings for\n",
    "* $\\Omega_i$ is subset of $\\Omega$ for which the user is the $i$-th user"
   ]
  },
  {
   "cell_type": "code",
   "execution_count": 4,
   "id": "c9e3f1ca-34cc-48b6-8c28-7deb35939858",
   "metadata": {},
   "outputs": [],
   "source": [
    "function make_prediction(usernames, anime_ids, U, A)\n",
    "    r = zeros(eltype(U), length(usernames))\n",
    "    for i = 1:length(r)\n",
    "        if (usernames[i] <= size(U)[1]) && (anime_ids[i] <= size(A)[1])\n",
    "            r[i] = dot(U[usernames[i], :], A[anime_ids[i], :])\n",
    "        end\n",
    "    end\n",
    "    return r\n",
    "end;"
   ]
  },
  {
   "cell_type": "code",
   "execution_count": 5,
   "id": "04463bd7-c9df-4866-b929-c6217b38e0b3",
   "metadata": {},
   "outputs": [],
   "source": [
    "function ridge_regression(X, y, λ)\n",
    "    return (Matrix(X'X) + λ * I(size(X)[2])) \\ Vector(X'y)\n",
    "end;"
   ]
  },
  {
   "cell_type": "code",
   "execution_count": 6,
   "id": "ea373a98-e714-4083-8cfc-dddc4dd2c91e",
   "metadata": {},
   "outputs": [],
   "source": [
    "function sparse_csr(i, j, v, m, n)\n",
    "    return sparse(j, i, v, n, m)'\n",
    "end;"
   ]
  },
  {
   "cell_type": "code",
   "execution_count": 7,
   "id": "a9094b8d-eea5-4ecd-b743-a7a245d3f281",
   "metadata": {},
   "outputs": [],
   "source": [
    "function sparse_subset(A, rows)\n",
    "    # returns a sparse matrix B such that\n",
    "    # 1) size(B) == size(A)\n",
    "    # 2) B[rows, :] = A[rows, :]\n",
    "    # 3) B[i, :] = 0 if i not in rows\n",
    "    K = size(A)[2]\n",
    "    nzval = vec(A[rows, :])\n",
    "    rowval = repeat(rows, K)\n",
    "    colptr = [1 + (x - 1) * length(rows) for x = 1:K+1]\n",
    "    return SparseMatrixCSC(size(A)..., colptr, rowval, nzval)\n",
    "end;"
   ]
  },
  {
   "cell_type": "code",
   "execution_count": 8,
   "id": "4c2e8700-dfa0-421a-b833-1fb40f47566a",
   "metadata": {},
   "outputs": [],
   "source": [
    "function update_users!(users, items, ratings, U, A, λ_u)\n",
    "    R = sparse_csr(users, items, ratings, size(U)[1], size(A)[1])\n",
    "    @tprogress Threads.@threads for i = 1:size(U)[1]\n",
    "        X = sparse_subset(A, rowvals(R[i, :]))\n",
    "        y = R[i, :]\n",
    "        U[i, :] = ridge_regression(X, y, λ_u)\n",
    "    end\n",
    "end;"
   ]
  },
  {
   "cell_type": "code",
   "execution_count": 9,
   "id": "4cb62a41-907b-4e73-92d9-638a59ff66fb",
   "metadata": {},
   "outputs": [
    {
     "data": {
      "text/plain": [
       "early_stopping (generic function with 1 method)"
      ]
     },
     "execution_count": 9,
     "metadata": {},
     "output_type": "execute_result"
    }
   ],
   "source": [
    "function early_stopping(model, patience, min_improvement_pct, params)\n",
    "    training_loss = rmse(training.my_score, model(training.username, training.anime_id))\n",
    "    validation_loss =\n",
    "        rmse(validation.my_score, model(validation.username, validation.anime_id))\n",
    "    @debug \"Training loss, Validation loss: \" * repr((training_loss, validation_loss))\n",
    "\n",
    "    if validation_loss < params[\"loss\"] * (1 - min_improvement_pct)\n",
    "        params[\"loss\"] = validation_loss\n",
    "        params[\"iters_without_improvement\"] = 0\n",
    "    else\n",
    "        params[\"iters_without_improvement\"] += 1\n",
    "    end\n",
    "    return params[\"iters_without_improvement\"] >= patience\n",
    "end"
   ]
  },
  {
   "cell_type": "code",
   "execution_count": 10,
   "id": "d0371f61-27bf-4f52-b822-d060f7be01b3",
   "metadata": {},
   "outputs": [],
   "source": [
    "function train_model(training, λ_u, λ_a, K; ϵ = 1e-6, max_iters = 10)\n",
    "    @debug \"train_model ($λ_u, $λ_a)\"\n",
    "    users, items, ratings = training.username, training.anime_id, training.my_score\n",
    "    U = zeros(eltype(λ_u), maximum(users), K) + randn(maximum(users), K)\n",
    "    A = zeros(eltype(λ_a), maximum(items), K) + randn(maximum(items), K)\n",
    "    model(users, items) = make_prediction(users, items, U, A)\n",
    "\n",
    "    early_stopping_params = Dict(\"loss\" => Inf, \"iters_without_improvement\" => 0)\n",
    "    for epoch = 1:max_iters\n",
    "        update_users!(users, items, ratings, U, A, λ_u)\n",
    "        update_users!(items, users, ratings, A, U, λ_a)\n",
    "        if early_stopping(model, 2, 0.0001, early_stopping_params)\n",
    "            break\n",
    "        end\n",
    "    end\n",
    "    return U, A\n",
    "end;"
   ]
  },
  {
   "cell_type": "markdown",
   "id": "d44f0871-3bb4-4083-8bdb-3cb53233298c",
   "metadata": {
    "tags": []
   },
   "source": [
    "## Training"
   ]
  },
  {
   "cell_type": "code",
   "execution_count": 11,
   "id": "1a09d0ba-09cb-48c3-84b0-d0eb57d1e0f8",
   "metadata": {},
   "outputs": [],
   "source": [
    "function validation_mse(λ, K, max_iters)\n",
    "    λ = exp.(λ) # ensure λ is nonnegative\n",
    "    U, A = train_model(training, λ[1], λ[2], K, max_iters = max_iters)\n",
    "    pred_score = make_prediction(validation.username, validation.anime_id, U, A)\n",
    "    return mse(validation.my_score, pred_score)\n",
    "end;"
   ]
  },
  {
   "cell_type": "code",
   "execution_count": 12,
   "id": "d3bfcb3b-f31d-4715-b5cf-0ad0b0d73ed3",
   "metadata": {},
   "outputs": [],
   "source": [
    "K = 40;\n",
    "max_iters = 100;"
   ]
  },
  {
   "cell_type": "code",
   "execution_count": null,
   "id": "6f83292e-b737-4e7f-9313-52cbace25873",
   "metadata": {
    "tags": []
   },
   "outputs": [
    {
     "name": "stderr",
     "output_type": "stream",
     "text": [
      "\u001b[38;5;4m\u001b[1m[ \u001b[22m\u001b[39m\u001b[38;5;4m\u001b[1mDebug: \u001b[22m\u001b[39mtrain_model (Dual{ForwardDiff.Tag{var\"#8#9\", Float64}}(2.718281828459045,2.718281828459045,0.0), Dual{ForwardDiff.Tag{var\"#8#9\", Float64}}(2.718281828459045,0.0,2.718281828459045))\n",
      "\u001b[32mProgress: 100%|███████████████████████████| Time: 0:03:14 ( 0.43 ms/it)\u001b[39m39m\n",
      "\u001b[32mProgress: 100%|███████████████████████████| Time: 0:06:13 (22.01 ms/it)\u001b[39m\n",
      "\u001b[38;5;4m\u001b[1m[ \u001b[22m\u001b[39m\u001b[38;5;4m\u001b[1mDebug: \u001b[22m\u001b[39mTraining loss, Validation loss: (Dual{ForwardDiff.Tag{var\"#8#9\", Float64}}(1.1099903931974153,-0.00030520966842951825,0.0021053025727155276), Dual{ForwardDiff.Tag{var\"#8#9\", Float64}}(1.4596772152391773,-0.02920858003875626,-0.0065064437229117415))\n",
      "\u001b[32mProgress: 100%|███████████████████████████| Time: 0:03:23 ( 0.45 ms/it)\u001b[39m\n",
      "\u001b[32mProgress: 100%|███████████████████████████| Time: 0:06:27 (22.84 ms/it)\u001b[39m\n",
      "\u001b[38;5;4m\u001b[1m[ \u001b[22m\u001b[39m\u001b[38;5;4m\u001b[1mDebug: \u001b[22m\u001b[39mTraining loss, Validation loss: (Dual{ForwardDiff.Tag{var\"#8#9\", Float64}}(1.0411315096018898,-0.0031293792356460754,0.0015990443508737825), Dual{ForwardDiff.Tag{var\"#8#9\", Float64}}(1.3916969298589315,-0.031044106891919377,-0.005368077206408719))\n",
      "\u001b[32mProgress: 100%|███████████████████████████| Time: 0:03:20 ( 0.44 ms/it)\u001b[39m\n",
      "\u001b[32mProgress: 100%|███████████████████████████| Time: 0:06:28 (22.89 ms/it)\u001b[39m\n",
      "\u001b[38;5;4m\u001b[1m[ \u001b[22m\u001b[39m\u001b[38;5;4m\u001b[1mDebug: \u001b[22m\u001b[39mTraining loss, Validation loss: (Dual{ForwardDiff.Tag{var\"#8#9\", Float64}}(1.001458384911892,-0.003054836493856878,0.001362641319902597), Dual{ForwardDiff.Tag{var\"#8#9\", Float64}}(1.357464599954575,-0.0322440797520302,-0.006209802117814244))\n",
      "\u001b[32mProgress: 100%|███████████████████████████| Time: 0:03:20 ( 0.44 ms/it)\u001b[39m\u0000\u0000\u0000\u0000\u0000\u0000\u0000\u0000\u0000\u0000\u0000\u0000\u0000\u0000\u0000\u0000\u0000\u0000\u0000\u0000\u0000\u0000\u0000\u0000\u0000\u0000\u0000\u0000\n",
      "\u001b[32mProgress: 100%|███████████████████████████| Time: 0:06:30 (23.03 ms/it)\u001b[39m\n",
      "\u001b[38;5;4m\u001b[1m[ \u001b[22m\u001b[39m\u001b[38;5;4m\u001b[1mDebug: \u001b[22m\u001b[39mTraining loss, Validation loss: (Dual{ForwardDiff.Tag{var\"#8#9\", Float64}}(0.9776039097742214,-0.0023774903153447324,0.0014484466585383575), Dual{ForwardDiff.Tag{var\"#8#9\", Float64}}(1.3375271518987777,-0.0334192907074456,-0.00692073601932342))\n",
      "\u001b[32mProgress: 100%|███████████████████████████| Time: 0:03:21 ( 0.44 ms/it)\u001b[39m\n",
      "\u001b[32mProgress: 100%|███████████████████████████| Time: 0:06:33 (23.17 ms/it)\u001b[39m\n",
      "\u001b[38;5;4m\u001b[1m[ \u001b[22m\u001b[39m\u001b[38;5;4m\u001b[1mDebug: \u001b[22m\u001b[39mTraining loss, Validation loss: (Dual{ForwardDiff.Tag{var\"#8#9\", Float64}}(0.962341500229397,-0.001601614702950946,0.0016363311281954748), Dual{ForwardDiff.Tag{var\"#8#9\", Float64}}(1.3245893306043934,-0.03414759856135423,-0.007574324057494376))\n",
      "\u001b[32mProgress: 100%|███████████████████████████| Time: 0:03:21 ( 0.45 ms/it)\u001b[39m\n",
      "\u001b[32mProgress: 100%|███████████████████████████| Time: 0:06:34 (23.22 ms/it)\u001b[39m\n",
      "\u001b[38;5;4m\u001b[1m[ \u001b[22m\u001b[39m\u001b[38;5;4m\u001b[1mDebug: \u001b[22m\u001b[39mTraining loss, Validation loss: (Dual{ForwardDiff.Tag{var\"#8#9\", Float64}}(0.9519524487900962,-0.00092792289884391,0.0018305887153393385), Dual{ForwardDiff.Tag{var\"#8#9\", Float64}}(1.3153716132198612,-0.03445616859052517,-0.008241578833486127))\n",
      "\u001b[32mProgress: 100%|███████████████████████████| Time: 0:03:21 ( 0.44 ms/it)\u001b[39m\n",
      "\u001b[32mProgress: 100%|███████████████████████████| Time: 0:06:32 (23.09 ms/it)\u001b[39m\n",
      "\u001b[38;5;4m\u001b[1m[ \u001b[22m\u001b[39m\u001b[38;5;4m\u001b[1mDebug: \u001b[22m\u001b[39mTraining loss, Validation loss: (Dual{ForwardDiff.Tag{var\"#8#9\", Float64}}(0.9445504070190411,-0.0003381716509369199,0.002019117261475683), Dual{ForwardDiff.Tag{var\"#8#9\", Float64}}(1.3084491193833434,-0.034391033294827365,-0.008915286126906582))\n",
      "\u001b[32mProgress: 100%|███████████████████████████| Time: 0:03:23 ( 0.45 ms/it)\u001b[39m\n",
      "\u001b[32mProgress: 100%|███████████████████████████| Time: 0:06:33 (23.18 ms/it)\u001b[39m\n",
      "\u001b[38;5;4m\u001b[1m[ \u001b[22m\u001b[39m\u001b[38;5;4m\u001b[1mDebug: \u001b[22m\u001b[39mTraining loss, Validation loss: (Dual{ForwardDiff.Tag{var\"#8#9\", Float64}}(0.9391365347171299,0.00018475047748905182,0.002197587828652559), Dual{ForwardDiff.Tag{var\"#8#9\", Float64}}(1.3031826988449038,-0.034004072452440075,-0.009548129592855083))\n",
      "\u001b[32mProgress: 100%|███████████████████████████| Time: 0:04:04 ( 0.54 ms/it)\u001b[39m\u0000\u0000\u0000\u0000\u0000\u0000\u0000\u0000\u0000\u0000\u0000\u0000\u0000\u0000\u0000\u0000\u0000\u0000\u0000\u0000\u0000\u0000\u0000\u0000\u0000\u0000\u0000\u0000\u0000\u0000\u0000\u0000\u0000\u0000\u0000\u0000\u0000\u0000\u0000\u0000\u0000\u0000\n",
      "\u001b[32mProgress: 100%|███████████████████████████| Time: 0:07:29 (26.45 ms/it)\u001b[39m\n",
      "\u001b[38;5;4m\u001b[1m[ \u001b[22m\u001b[39m\u001b[38;5;4m\u001b[1mDebug: \u001b[22m\u001b[39mTraining loss, Validation loss: (Dual{ForwardDiff.Tag{var\"#8#9\", Float64}}(0.9350977106988592,0.0006373944694907764,0.002359270422297513), Dual{ForwardDiff.Tag{var\"#8#9\", Float64}}(1.2992105051155431,-0.03340111180894326,-0.01011983937673968))\n",
      "\u001b[32mProgress: 100%|███████████████████████████| Time: 0:03:52 ( 0.51 ms/it)\u001b[39m\n",
      "\u001b[32mProgress: 100%|███████████████████████████| Time: 0:07:11 (25.41 ms/it)\u001b[39m\n",
      "\u001b[38;5;4m\u001b[1m[ \u001b[22m\u001b[39m\u001b[38;5;4m\u001b[1mDebug: \u001b[22m\u001b[39mTraining loss, Validation loss: (Dual{ForwardDiff.Tag{var\"#8#9\", Float64}}(0.9320227219678987,0.0010177660854598306,0.002500466236634667), Dual{ForwardDiff.Tag{var\"#8#9\", Float64}}(1.2962593964371454,-0.03270794030876138,-0.010646324545083794))\n",
      "\u001b[32mProgress: 100%|███████████████████████████| Time: 0:03:33 ( 0.47 ms/it)\u001b[39m\n",
      "\u001b[32mProgress:  30%|████████                   |  ETA: 0:04:40 (23.40 ms/it)\u001b[39m"
     ]
    }
   ],
   "source": [
    "# Find the best regularization hyperparameters\n",
    "res = optimize(\n",
    "    λ -> validation_mse(λ, K, max_iters),\n",
    "    fill(1., 2),  # intial guess\n",
    "    LBFGS(),\n",
    "    autodiff = :forward,\n",
    "    Optim.Options(show_trace = true, extended_trace = true),\n",
    ")\n",
    "λ = exp.(Optim.minimizer(res));"
   ]
  },
  {
   "cell_type": "code",
   "execution_count": null,
   "id": "be9ef25a-7e6a-49db-a1b2-15950cae282f",
   "metadata": {},
   "outputs": [],
   "source": [
    "@info \"The optimal [λ_u, λ_a] is $(λ)\";"
   ]
  },
  {
   "cell_type": "code",
   "execution_count": null,
   "id": "781a2388-df56-42ce-8e58-b4a11a4e4d0b",
   "metadata": {},
   "outputs": [],
   "source": [
    "U, A = train_model(training, λ..., K);"
   ]
  },
  {
   "cell_type": "markdown",
   "id": "7c291e04-b1ba-48a0-ac09-25eda75a6162",
   "metadata": {},
   "source": [
    "## Inference"
   ]
  },
  {
   "cell_type": "code",
   "execution_count": null,
   "id": "63d311e6-30af-4b1c-b3fb-293b7fd3e5f4",
   "metadata": {},
   "outputs": [],
   "source": [
    "model(users, items) = make_prediction(users, items, U, A);"
   ]
  },
  {
   "cell_type": "code",
   "execution_count": null,
   "id": "b93576c8-a876-41b8-859d-853ff9479b1e",
   "metadata": {},
   "outputs": [],
   "source": [
    "write_predictions(model);"
   ]
  },
  {
   "cell_type": "code",
   "execution_count": null,
   "id": "8009326e-9b73-48d5-8a93-50ecc5eee429",
   "metadata": {},
   "outputs": [],
   "source": [
    "write_params(Dict(\"U\" => U, \"A\" => A, \"λ\" => λ);"
   ]
  }
 ],
 "metadata": {
  "kernelspec": {
   "display_name": "Julia 1.6.3",
   "language": "julia",
   "name": "julia-1.6"
  },
  "language_info": {
   "file_extension": ".jl",
   "mimetype": "application/julia",
   "name": "julia",
   "version": "1.6.3"
  }
 },
 "nbformat": 4,
 "nbformat_minor": 5
}
