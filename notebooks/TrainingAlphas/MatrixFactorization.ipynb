{
 "cells": [
  {
   "cell_type": "markdown",
   "id": "c3758ece-9b72-47b4-ae6a-aa364e0443e3",
   "metadata": {},
   "source": [
    "# Matrix Factorization\n",
    "* Prediction is $\\tilde R = UA^T$ \n",
    "* Loss fuction is $L = \\lVert (R - \\tilde R)^\\Omega \\rVert _2^2 + \\lambda_u \\lVert U \\rVert _2^2 + \\lambda_a \\lVert A \\rVert _2^2$\n",
    "* $\\Omega$ is the set of oberved pairs $(i, j)$\n",
    "* $M^\\Omega$ is the projection of $M$ onto $\\Omega$ for any matrix $M$\n",
    "* $U$ is an $m x k$ matrix, $A$ is an $n x k$ matrix and $R$ is the $m x n$ ratings matrix"
   ]
  },
  {
   "cell_type": "markdown",
   "id": "87bdf231-d308-42e9-aa64-9d1ff3748ee5",
   "metadata": {
    "tags": []
   },
   "source": [
    "# TODO residualize vs biases"
   ]
  },
  {
   "cell_type": "code",
   "execution_count": 1,
   "id": "5f693eb8-9aab-4305-a6ee-17e885f3f24d",
   "metadata": {
    "tags": []
   },
   "outputs": [],
   "source": [
    "using CSV\n",
    "using DataFrames\n",
    "using FileIO\n",
    "using JLD2\n",
    "using JupyterFormatter\n",
    "using LinearAlgebra\n",
    "using Optim\n",
    "using ProgressMeter\n",
    "using SparseArrays\n",
    "using Statistics\n",
    "import Metrics"
   ]
  },
  {
   "cell_type": "code",
   "execution_count": 2,
   "id": "673b70f5-bfbf-4975-8125-2e96a962e0ee",
   "metadata": {},
   "outputs": [],
   "source": [
    "enable_autoformat();"
   ]
  },
  {
   "cell_type": "code",
   "execution_count": 3,
   "id": "f39d7a7e-403e-4104-b2a8-f5c48da9c7cc",
   "metadata": {},
   "outputs": [],
   "source": [
    "function get_split(split)\n",
    "    @assert split in [\"training\", \"validation\"]\n",
    "    file = \"../../data/splits/$(split).csv\"\n",
    "    df = DataFrame(CSV.File(file))\n",
    "    df.username .+= 1 # julia is 1 indexed\n",
    "    df.anime_id .+= 1\n",
    "    df.my_score = float(df.my_score)\n",
    "    return df\n",
    "end;"
   ]
  },
  {
   "cell_type": "code",
   "execution_count": 4,
   "id": "fefb5dc5-d13a-4087-8e86-c227d95705ec",
   "metadata": {},
   "outputs": [],
   "source": [
    "function write_prediction(df, split)\n",
    "    @assert split in [\"validation\"]\n",
    "    outdir = \"../../data/alphas/$name\"\n",
    "    if !isdir(outdir)\n",
    "        mkpath(outdir)\n",
    "    end\n",
    "    df = copy(df)\n",
    "    df.username .-= 1\n",
    "    df.anime_id .-= 1\n",
    "    CSV.write(\"$(outdir)/$(split).csv\", df)\n",
    "end;"
   ]
  },
  {
   "cell_type": "code",
   "execution_count": 5,
   "id": "386cb53a-0f89-445c-a66f-a4e6299d979e",
   "metadata": {},
   "outputs": [],
   "source": [
    "function write_model(params)\n",
    "    outdir = \"../../data/alphas/$name\"\n",
    "    if !isdir(outdir)\n",
    "        mkpath(outdir)\n",
    "    end\n",
    "    save(\"$(outdir)/model.jld2\", params)\n",
    "end;"
   ]
  },
  {
   "cell_type": "code",
   "execution_count": 6,
   "id": "48c27994-a711-4e6f-9c8d-2363f01344e9",
   "metadata": {},
   "outputs": [],
   "source": [
    "function evaluate(truth, pred)\n",
    "    print(\"RMSE \", sqrt(Metrics.mse(pred, truth)))\n",
    "    print(\" MAE \", Metrics.mae(pred, truth))\n",
    "    print(\" R2 \", Metrics.r2_score(pred, truth))\n",
    "end;"
   ]
  },
  {
   "cell_type": "code",
   "execution_count": 7,
   "id": "7cc9334a-2287-41d6-885b-a5cca94fe263",
   "metadata": {},
   "outputs": [],
   "source": [
    "name = \"MatrixFactorization\";"
   ]
  },
  {
   "cell_type": "code",
   "execution_count": 8,
   "id": "07489c5a-16a7-466c-b7ea-83b794958cf6",
   "metadata": {
    "tags": []
   },
   "outputs": [],
   "source": [
    "training = get_split(\"training\");"
   ]
  },
  {
   "cell_type": "code",
   "execution_count": 9,
   "id": "6fffa2bd-1b5b-4a85-a6d4-6d5487f5771c",
   "metadata": {},
   "outputs": [],
   "source": [
    "validation = get_split(\"validation\");"
   ]
  },
  {
   "cell_type": "markdown",
   "id": "99f52a69-0231-4bff-8a9f-26bb16ee9f33",
   "metadata": {},
   "source": [
    "# Alternating Least Squares Algorithm\n",
    "* $u_{ik} = \\dfrac{\\sum_{j \\in \\Omega_i}(r_{ij} - \\tilde r_{ij} + u_{ik}a_{kj})}{\\sum_{j \\in \\Omega_i} a_j^2 + \\lambda_u}$\n",
    "* $\\Omega$ is the set of (user, item) pairs that we have ratings for\n",
    "* $\\Omega_i$ is subset of $\\Omega$ for which the user is the $i$-th user"
   ]
  },
  {
   "cell_type": "code",
   "execution_count": 10,
   "id": "c9e3f1ca-34cc-48b6-8c28-7deb35939858",
   "metadata": {},
   "outputs": [
    {
     "data": {
      "text/plain": [
       "make_prediction (generic function with 1 method)"
      ]
     },
     "execution_count": 10,
     "metadata": {},
     "output_type": "execute_result"
    }
   ],
   "source": [
    "function make_prediction(usernames, anime_ids, U, A)\n",
    "    r = zeros(eltype(U), length(usernames))\n",
    "    @showprogress for i = 1:length(r)\n",
    "        if (usernames[i] <= size(U)[1]) && (anime_ids[i] <= size(A)[1])\n",
    "            r[i] = dot(U[usernames[i], :], A[anime_ids[i], :])\n",
    "        end\n",
    "    end\n",
    "    return r\n",
    "end"
   ]
  },
  {
   "cell_type": "code",
   "execution_count": 11,
   "id": "43b59fc5-621b-4dca-a926-4969501592af",
   "metadata": {},
   "outputs": [],
   "source": [
    "function update_users!(usernames, anime_ids, ratings, U, A, λ_u)\n",
    "    residual_ratings = ratings .- make_prediction(usernames, anime_ids, U, A)\n",
    "    function make_sparse(data)\n",
    "        return sparse(usernames, anime_ids, data, size(U)[1], size(A)[1])\n",
    "    end\n",
    "    residuals = make_sparse(residual_ratings)\n",
    "    mask = make_sparse(fill(1.0, length(ratings)))\n",
    "\n",
    "    @showprogress for i = 1:size(U)[1]\n",
    "        a = A[:, :] .* mask[i, :]\n",
    "        res_i = residuals[i, :] .+ (U[i, :]' .* a)\n",
    "        U[i, :] = sum(res_i .* a, dims = 1) ./ (sum(a .* a, dims = 1) .+ λ_u)\n",
    "    end\n",
    "end\n",
    "\n",
    "function update_items!(users, items, ratings, u, a, λ_a)\n",
    "    update_user_biases!(items, users, ratings, a, u, λ_a)\n",
    "end;"
   ]
  },
  {
   "cell_type": "code",
   "execution_count": 12,
   "id": "d0371f61-27bf-4f52-b822-d060f7be01b3",
   "metadata": {},
   "outputs": [],
   "source": [
    "function train_model(training, λ_u, λ_a, K, ϵ = 1e-6)\n",
    "    users = training.username\n",
    "    items = training.anime_id\n",
    "    ratings = training.my_score\n",
    "    U = zeros(eltype(λ_u), maximum(users), K)\n",
    "    A = zeros(eltype(λ_a), maximum(items), K)\n",
    "    U .+= rand(size(U)...)\n",
    "    A .+= rand(size(A)...)\n",
    "\n",
    "\n",
    "    converged = false\n",
    "    while !converged\n",
    "        old_U = copy(U)\n",
    "        old_A = copy(A)\n",
    "        update_users!(users, items, ratings, U, A, λ_u)\n",
    "        update_items!(users, items, ratings, U, A, λ_a)\n",
    "\n",
    "        converged = (maximum(abs.(U - old_U)) < ϵ) && (maximum(abs.(A - old_A)) < ϵ)\n",
    "        if converged\n",
    "            break\n",
    "        end\n",
    "    end\n",
    "    return U, A\n",
    "end;"
   ]
  },
  {
   "cell_type": "code",
   "execution_count": 13,
   "id": "1a09d0ba-09cb-48c3-84b0-d0eb57d1e0f8",
   "metadata": {},
   "outputs": [],
   "source": [
    "K = 1;\n",
    "function validation_mse(λ)\n",
    "    U, A = train_model(training, λ[1], λ[2], K)\n",
    "    pred_score = make_prediction(validation.username, validation.anime_id, U, A)\n",
    "    return Metrics.mse(validation.my_score, pred_score)\n",
    "end;"
   ]
  },
  {
   "cell_type": "markdown",
   "id": "d44f0871-3bb4-4083-8bdb-3cb53233298c",
   "metadata": {
    "tags": []
   },
   "source": [
    "## Training"
   ]
  },
  {
   "cell_type": "code",
   "execution_count": null,
   "id": "fbca1f1c-840c-4e58-abed-f878997a3c6b",
   "metadata": {
    "tags": []
   },
   "outputs": [
    {
     "name": "stderr",
     "output_type": "stream",
     "text": [
      "\u001b[32mProgress: 100%|█████████████████████████████████████████| Time: 0:00:16\u001b[39m\n",
      "\u001b[32mProgress:   0%|▏                                        |  ETA: 0:47:29\u001b[39m"
     ]
    }
   ],
   "source": [
    "# Find the best regularization hyperparameters\n",
    "res = optimize(\n",
    "    validation_mse,\n",
    "    fill(0.0, 2),\n",
    "    fill(Inf, 2),\n",
    "    fill(1.0, 2),\n",
    "    Fminbox(LBFGS()),\n",
    "    autodiff = :forward,\n",
    "    Optim.Options(show_trace = true),\n",
    ");"
   ]
  },
  {
   "cell_type": "code",
   "execution_count": null,
   "id": "be9ef25a-7e6a-49db-a1b2-15950cae282f",
   "metadata": {},
   "outputs": [],
   "source": [
    "print(\"The optimal [λ_u, λ_a] is \", Optim.minimizer(res));"
   ]
  },
  {
   "cell_type": "code",
   "execution_count": null,
   "id": "781a2388-df56-42ce-8e58-b4a11a4e4d0b",
   "metadata": {},
   "outputs": [],
   "source": [
    "U, A = train_model(training, Optim.minimizer(res)..., K);\n",
    "model(users, items) = make_prediction(users, items, U, A);"
   ]
  },
  {
   "cell_type": "markdown",
   "id": "7c291e04-b1ba-48a0-ac09-25eda75a6162",
   "metadata": {},
   "source": [
    "## Inference"
   ]
  },
  {
   "cell_type": "code",
   "execution_count": null,
   "id": "b93576c8-a876-41b8-859d-853ff9479b1e",
   "metadata": {},
   "outputs": [],
   "source": [
    "training_pred_score = model(training.username, training.anime_id);\n",
    "evaluate(training.my_score, training_pred_score);"
   ]
  },
  {
   "cell_type": "code",
   "execution_count": null,
   "id": "45d9640c-79ec-475a-be57-84e9c51915df",
   "metadata": {},
   "outputs": [],
   "source": [
    "val_pred_score = model(validation.username, validation.anime_id);\n",
    "evaluate(validation.my_score, val_pred_score);"
   ]
  },
  {
   "cell_type": "code",
   "execution_count": null,
   "id": "443913be-e31b-4a88-ada4-870a6c29e9e2",
   "metadata": {},
   "outputs": [],
   "source": [
    "# write predictions to disk\n",
    "val_pred = copy(validation);\n",
    "val_pred.my_score = val_pred_score;\n",
    "write_prediction(val_pred, \"validation\");"
   ]
  },
  {
   "cell_type": "code",
   "execution_count": null,
   "id": "7acf9e7c-f9d7-4ed6-960d-9e35b0450bfd",
   "metadata": {},
   "outputs": [],
   "source": [
    "# write model to disk\n",
    "write_model(Dict(\"U\" => U, \"A\" => A, \"λ\" => Optim.minimizer(res), \"model\" => model));"
   ]
  }
 ],
 "metadata": {
  "kernelspec": {
   "display_name": "Julia 1.6.3",
   "language": "julia",
   "name": "julia-1.6"
  },
  "language_info": {
   "file_extension": ".jl",
   "mimetype": "application/julia",
   "name": "julia",
   "version": "1.6.3"
  }
 },
 "nbformat": 4,
 "nbformat_minor": 5
}
