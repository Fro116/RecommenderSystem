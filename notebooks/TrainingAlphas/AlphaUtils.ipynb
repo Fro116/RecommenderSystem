{
 "cells": [
  {
   "cell_type": "markdown",
   "id": "ba949471-e864-4ebf-b949-7772e87b6057",
   "metadata": {},
   "source": [
    "# Helper functions that are useful for all Julia notebooks"
   ]
  },
  {
   "cell_type": "code",
   "execution_count": null,
   "id": "8692e060-6e21-4a74-bb6b-93c8f473b8a2",
   "metadata": {},
   "outputs": [],
   "source": [
    "import Dates\n",
    "import JupyterFormatter\n",
    "import LinearAlgebra\n",
    "import Logging\n",
    "import LoggingExtras\n",
    "import ProgressMeter"
   ]
  },
  {
   "cell_type": "markdown",
   "id": "11430e9b-1d39-4ce1-af69-1c57ad1ae255",
   "metadata": {},
   "source": [
    "## Multi-threading"
   ]
  },
  {
   "cell_type": "code",
   "execution_count": null,
   "id": "b2d03d88-f3cc-45ed-bdf9-ef33b7021a9b",
   "metadata": {
    "tags": []
   },
   "outputs": [],
   "source": [
    "# let the @progress macro work with Threads.@threads\n",
    "macro tprogress(expr)\n",
    "    loop = expr\n",
    "    if loop.head == :macrocall && loop.args[1] == :(Threads.var\"@threads\")\n",
    "        loop = loop.args[end]\n",
    "    end\n",
    "    \n",
    "    p = gensym()    \n",
    "    r = loop.args[1].args[end]\n",
    "    ex = quote\n",
    "        n = Int(round(length($(esc(r))) / Threads.nthreads()))\n",
    "        global $p = ProgressMeter.Progress(n; showspeed=true)\n",
    "        $(esc(expr))\n",
    "        ProgressMeter.finish!($p)\n",
    "    end\n",
    "    \n",
    "    update = quote\n",
    "        if Threads.threadid() == 1\n",
    "            ProgressMeter.next!($p)\n",
    "        end\n",
    "    end\n",
    "    push!(loop.args[end].args, update)    \n",
    "    \n",
    "    ex    \n",
    "end;"
   ]
  },
  {
   "cell_type": "code",
   "execution_count": null,
   "id": "f7e3b103-b99f-42c6-8d2d-2b9ee03502e6",
   "metadata": {},
   "outputs": [],
   "source": [
    "# like Threads.@threads except we can specify the number of threads\n",
    "function tforeach(f::Function, args, threads::Int)\n",
    "    @sync for (t, chunk) in Iterators.enumerate(\n",
    "        Iterators.partition(args, div(length(args), threads, RoundUp)),\n",
    "    )\n",
    "        Threads.@spawn begin\n",
    "            @showprogress enabled = (t == 1) for i in chunk\n",
    "                f(i)\n",
    "            end\n",
    "        end\n",
    "    end\n",
    "end;"
   ]
  },
  {
   "cell_type": "code",
   "execution_count": null,
   "id": "6fd43cb7-3f58-412d-b8fd-9fefe907e4b0",
   "metadata": {},
   "outputs": [],
   "source": [
    "# Prefer Julia multithreading to BLAS multithreading\n",
    "LinearAlgebra.BLAS.set_num_threads(1);"
   ]
  },
  {
   "cell_type": "markdown",
   "id": "a9df0370-4b8f-4e51-9792-f81357005ab1",
   "metadata": {},
   "source": [
    "## Formatting"
   ]
  },
  {
   "cell_type": "code",
   "execution_count": null,
   "id": "673b70f5-bfbf-4975-8125-2e96a962e0ee",
   "metadata": {},
   "outputs": [],
   "source": [
    "JupyterFormatter.enable_autoformat();"
   ]
  },
  {
   "cell_type": "markdown",
   "id": "4fef6bab-b860-434e-9c64-ea277559142a",
   "metadata": {
    "tags": []
   },
   "source": [
    "## Logging"
   ]
  },
  {
   "cell_type": "code",
   "execution_count": null,
   "id": "7f0e0357-e2d8-484b-94d7-9c17a39074e6",
   "metadata": {},
   "outputs": [],
   "source": [
    "Logging.disable_logging(Logging.Debug);"
   ]
  },
  {
   "cell_type": "code",
   "execution_count": null,
   "id": "2411a5e8-1398-4d8a-a64c-c50a5e39b9cc",
   "metadata": {},
   "outputs": [],
   "source": [
    "# Logger that flushes after every log statement\n",
    "struct FlushLogger <: LoggingExtras.AbstractLogger\n",
    "    logger::LoggingExtras.ConsoleLogger\n",
    "end\n",
    "\n",
    "function FlushLogger(logger::LoggingExtras.AbstractLogger)\n",
    "    FlushLogger(logger)\n",
    "end\n",
    "\n",
    "function Logging.handle_message(logger::FlushLogger, args...; kwargs...)\n",
    "    Logging.handle_message(logger.logger, args...; kwargs...)\n",
    "    flush(logger.logger.stream)\n",
    "end\n",
    "\n",
    "Logging.shouldlog(logger::FlushLogger, arg...) = Logging.shouldlog(logger.logger, arg...)\n",
    "Logging.min_enabled_level(logger::FlushLogger) = Logging.min_enabled_level(logger.logger)\n",
    "Logging.catch_exceptions(logger::FlushLogger) = Logging.catch_exceptions(logger.logger)\n",
    "\n",
    "function logging_meta_formatter(level, _module, group, id, file, line)\n",
    "    prefix_color = (\n",
    "        level < Logging.Info ? 4 : level < Logging.Warn ? 6 : level < Logging.Error ? 3 : 1\n",
    "    )\n",
    "    prefix = (level == Logging.Warn ? \"Warning\" : string(level)) * ':'\n",
    "    prefix_color, prefix, \"\"\n",
    "end;"
   ]
  },
  {
   "cell_type": "code",
   "execution_count": null,
   "id": "310957e5-891f-4797-879f-0084e8560b8d",
   "metadata": {},
   "outputs": [],
   "source": [
    "# Log to file and stdout at the same time\n",
    "function redirect_logging(outdir; overwrite=true)\n",
    "    date_format = \"yyyymmdd HH:MM:SS\"\n",
    "    timestamp_logger(logger) =\n",
    "        LoggingExtras.TransformerLogger(logger) do log\n",
    "            merge(\n",
    "                log,\n",
    "                (; message = \"$(Dates.format(Dates.now(), date_format)) $(log.message)\"),\n",
    "            )\n",
    "        end\n",
    "\n",
    "    outdir = mkpath(outdir)\n",
    "    suffix = \"\"\n",
    "    if !overwrite\n",
    "        tries = 0\n",
    "        while ispath(\"$(outdir)/log$(suffix)\")\n",
    "            tries += 1            \n",
    "            suffix = \".$tries\"\n",
    "        end\n",
    "    end\n",
    "    Logging.global_logger(\n",
    "        LoggingExtras.TeeLogger(\n",
    "            FlushLogger(\n",
    "                LoggingExtras.ConsoleLogger(\n",
    "                    stderr,\n",
    "                    Logging.Info;\n",
    "                    meta_formatter = logging_meta_formatter,\n",
    "                ),\n",
    "            ) |> timestamp_logger,\n",
    "            FlushLogger(\n",
    "                LoggingExtras.ConsoleLogger(\n",
    "                    open(\"$(outdir)/log$(suffix)\", write = true),\n",
    "                    Logging.Info;\n",
    "                    meta_formatter = logging_meta_formatter,\n",
    "                ),\n",
    "            ) |> timestamp_logger,\n",
    "        ),\n",
    "    )\n",
    "end;"
   ]
  }
 ],
 "metadata": {
  "kernelspec": {
   "display_name": "Julia 1.9.4",
   "language": "julia",
   "name": "julia-1.9"
  },
  "language_info": {
   "file_extension": ".jl",
   "mimetype": "application/julia",
   "name": "julia",
   "version": "1.9.4"
  }
 },
 "nbformat": 4,
 "nbformat_minor": 5
}
