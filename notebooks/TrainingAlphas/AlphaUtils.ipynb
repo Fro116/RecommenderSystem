{
 "cells": [
  {
   "cell_type": "markdown",
   "id": "ba949471-e864-4ebf-b949-7772e87b6057",
   "metadata": {},
   "source": [
    "# Helper functions that are useful for all Julia notebooks"
   ]
  },
  {
   "cell_type": "code",
   "execution_count": null,
   "id": "8692e060-6e21-4a74-bb6b-93c8f473b8a2",
   "metadata": {},
   "outputs": [],
   "source": [
    "import Dates\n",
    "import JupyterFormatter\n",
    "import LinearAlgebra\n",
    "import Logging\n",
    "import LoggingExtras\n",
    "import ProgressMeter"
   ]
  },
  {
   "cell_type": "markdown",
   "id": "11430e9b-1d39-4ce1-af69-1c57ad1ae255",
   "metadata": {},
   "source": [
    "## Multi-threading"
   ]
  },
  {
   "cell_type": "code",
   "execution_count": null,
   "id": "b2d03d88-f3cc-45ed-bdf9-ef33b7021a9b",
   "metadata": {
    "tags": []
   },
   "outputs": [],
   "source": [
    "# let the @progress macro work with Threads.@threads\n",
    "# TODO upstream this into ProgressMeter\n",
    "macro tprogress(expr)\n",
    "    loop = expr\n",
    "    if loop.head == :macrocall && loop.args[1] == :(Threads.var\"@threads\")\n",
    "        loop = loop.args[end]\n",
    "    end\n",
    "    \n",
    "    p = gensym()    \n",
    "    r = loop.args[1].args[end]\n",
    "    ex = quote\n",
    "        n = Int(round(length($(esc(r))) / Threads.nthreads()))\n",
    "        global $p = ProgressMeter.Progress(n; showspeed=true)\n",
    "        $(esc(expr))\n",
    "        ProgressMeter.finish!($p)\n",
    "    end\n",
    "    \n",
    "    update = quote\n",
    "        if Threads.threadid() == 1\n",
    "            ProgressMeter.next!($p)\n",
    "        end\n",
    "    end\n",
    "    push!(loop.args[end].args, update)    \n",
    "    \n",
    "    ex    \n",
    "end"
   ]
  },
  {
   "cell_type": "code",
   "execution_count": null,
   "id": "63e492d1-5008-4878-93cf-465ad359d152",
   "metadata": {},
   "outputs": [],
   "source": [
    "# # partitions the range 1:n by the number of threads\n",
    "# # and returns the range corresponding to your thread id\n",
    "# # must only be used with Threads.@threads :static\n",
    "# function thread_range(n)\n",
    "#     tid = Threads.threadid()\n",
    "#     nt = Threads.nthreads()\n",
    "#     d, r = divrem(n, nt)\n",
    "#     from = (tid - 1) * d + min(r, tid - 1) + 1\n",
    "#     to = from + d - 1 + (tid ≤ r ? 1 : 0)\n",
    "#     from:to\n",
    "# end"
   ]
  },
  {
   "cell_type": "code",
   "execution_count": null,
   "id": "6fd43cb7-3f58-412d-b8fd-9fefe907e4b0",
   "metadata": {},
   "outputs": [],
   "source": [
    "# Prefer Julia multithreading to BLAS multithreading\n",
    "LinearAlgebra.BLAS.set_num_threads(1);"
   ]
  },
  {
   "cell_type": "markdown",
   "id": "a9df0370-4b8f-4e51-9792-f81357005ab1",
   "metadata": {},
   "source": [
    "## Formatting"
   ]
  },
  {
   "cell_type": "code",
   "execution_count": null,
   "id": "673b70f5-bfbf-4975-8125-2e96a962e0ee",
   "metadata": {},
   "outputs": [],
   "source": [
    "JupyterFormatter.enable_autoformat();"
   ]
  },
  {
   "cell_type": "markdown",
   "id": "7a40f495-a395-4fc8-a438-52d9e1f82612",
   "metadata": {},
   "source": [
    "## Early stopping"
   ]
  },
  {
   "cell_type": "code",
   "execution_count": null,
   "id": "84f68e28-f0aa-4fa6-a423-10b12953a5b0",
   "metadata": {},
   "outputs": [],
   "source": [
    "# # stop training when the loss function stops decreasing\n",
    "# @kwdef mutable struct early_stopper\n",
    "#     max_iters = Inf\n",
    "#     patience = Inf\n",
    "#     min_rel_improvement = 0\n",
    "#     iters = 0\n",
    "#     iters_without_improvement = 0\n",
    "#     loss = NaN\n",
    "# end\n",
    "\n",
    "# function stop!(x::early_stopper, loss)\n",
    "#     x.iters += 1\n",
    "#     if x.iters > x.max_iters\n",
    "#         return true\n",
    "#     end\n",
    "\n",
    "#     if x.iters == 1\n",
    "#         x.loss = loss\n",
    "#         return false\n",
    "#     end\n",
    "\n",
    "#     if loss < x.loss * (1 - x.min_rel_improvement)\n",
    "#         x.iters_without_improvement = 0\n",
    "#         x.loss = loss        \n",
    "#     else\n",
    "#         x.iters_without_improvement += 1\n",
    "#     end\n",
    "#     x.iters_without_improvement > x.patience\n",
    "# end;"
   ]
  },
  {
   "cell_type": "code",
   "execution_count": null,
   "id": "c1ad5e6a-7ccb-4886-b500-e57b86cb9e22",
   "metadata": {},
   "outputs": [],
   "source": [
    "# # stop training when the parameters have converged\n",
    "# @kwdef mutable struct convergence_stopper\n",
    "#     tolerance::AbstractFloat\n",
    "#     max_iters = Inf\n",
    "#     params::AbstractVector\n",
    "#     prev_params::AbstractVector\n",
    "#     iters = 0\n",
    "# end\n",
    "\n",
    "# function convergence_stopper(tolerance; max_iters = Inf)\n",
    "#     convergence_stopper(\n",
    "#         tolerance = tolerance,\n",
    "#         max_iters = max_iters,\n",
    "#         params = [],\n",
    "#         prev_params = [],\n",
    "#     )\n",
    "# end\n",
    "\n",
    "# function stop!(x::convergence_stopper, params)\n",
    "#     x.iters += 1\n",
    "#     if x.iters > x.max_iters\n",
    "#         return true\n",
    "#     end\n",
    "\n",
    "#     if x.iters == 1\n",
    "#         x.params = deepcopy(params)\n",
    "#         return false\n",
    "#     end\n",
    "\n",
    "#     function maxabs(a)\n",
    "#         maximum(abs.(a))\n",
    "#     end\n",
    "\n",
    "#     x.prev_params = deepcopy(x.params)\n",
    "#     x.params = deepcopy(params)\n",
    "#     maximum(maxabs.(x.params - x.prev_params)) < x.tolerance\n",
    "# end;"
   ]
  },
  {
   "cell_type": "markdown",
   "id": "4fef6bab-b860-434e-9c64-ea277559142a",
   "metadata": {
    "tags": []
   },
   "source": [
    "## Logging"
   ]
  },
  {
   "cell_type": "code",
   "execution_count": null,
   "id": "7f0e0357-e2d8-484b-94d7-9c17a39074e6",
   "metadata": {},
   "outputs": [],
   "source": [
    "Logging.disable_logging(Logging.Debug);"
   ]
  },
  {
   "cell_type": "code",
   "execution_count": null,
   "id": "2411a5e8-1398-4d8a-a64c-c50a5e39b9cc",
   "metadata": {},
   "outputs": [],
   "source": [
    "# Logger that flushes after every log statement\n",
    "struct FlushLogger <: LoggingExtras.AbstractLogger\n",
    "    logger::LoggingExtras.ConsoleLogger\n",
    "end\n",
    "\n",
    "function FlushLogger(logger::LoggingExtras.AbstractLogger)\n",
    "    FlushLogger(logger)\n",
    "end\n",
    "\n",
    "function Logging.handle_message(logger::FlushLogger, args...; kwargs...)\n",
    "    Logging.handle_message(logger.logger, args...; kwargs...)\n",
    "    flush(logger.logger.stream)\n",
    "end\n",
    "\n",
    "Logging.shouldlog(logger::FlushLogger, arg...) = Logging.shouldlog(logger.logger, arg...)\n",
    "Logging.min_enabled_level(logger::FlushLogger) = Logging.min_enabled_level(logger.logger)\n",
    "Logging.catch_exceptions(logger::FlushLogger) = Logging.catch_exceptions(logger.logger)\n",
    "\n",
    "function logging_meta_formatter(level, _module, group, id, file, line)\n",
    "    prefix_color = (\n",
    "        level < Logging.Info ? 4 : level < Logging.Warn ? 6 : level < Logging.Error ? 3 : 1\n",
    "    )\n",
    "    prefix = (level == Logging.Warn ? \"Warning\" : string(level)) * ':'\n",
    "    prefix_color, prefix, \"\"\n",
    "end;"
   ]
  },
  {
   "cell_type": "code",
   "execution_count": null,
   "id": "310957e5-891f-4797-879f-0084e8560b8d",
   "metadata": {},
   "outputs": [],
   "source": [
    "# Log to file and stdout at the same time\n",
    "function redirect_logging(outdir; overwrite=true)\n",
    "    date_format = \"yyyymmdd HH:MM:SS\"\n",
    "    timestamp_logger(logger) =\n",
    "        LoggingExtras.TransformerLogger(logger) do log\n",
    "            merge(\n",
    "                log,\n",
    "                (; message = \"$(Dates.format(Dates.now(), date_format)) $(log.message)\"),\n",
    "            )\n",
    "        end\n",
    "\n",
    "    outdir = mkpath(outdir)\n",
    "    suffix = \"\"\n",
    "    if !overwrite\n",
    "        tries = 0\n",
    "        while ispath(\"$(outdir)/log$(suffix)\")\n",
    "            tries += 1            \n",
    "            suffix = \".$tries\"\n",
    "        end\n",
    "    end\n",
    "    Logging.global_logger(\n",
    "        LoggingExtras.TeeLogger(\n",
    "            FlushLogger(\n",
    "                LoggingExtras.ConsoleLogger(\n",
    "                    stderr,\n",
    "                    Logging.Info;\n",
    "                    meta_formatter = logging_meta_formatter,\n",
    "                ),\n",
    "            ) |> timestamp_logger,\n",
    "            FlushLogger(\n",
    "                LoggingExtras.ConsoleLogger(\n",
    "                    open(\"$(outdir)/log$(suffix)\", write = true),\n",
    "                    Logging.Info;\n",
    "                    meta_formatter = logging_meta_formatter,\n",
    "                ),\n",
    "            ) |> timestamp_logger,\n",
    "        ),\n",
    "    )\n",
    "end;"
   ]
  }
 ],
 "metadata": {
  "kernelspec": {
   "display_name": "Julia 1.9.2",
   "language": "julia",
   "name": "julia-1.9"
  },
  "language_info": {
   "file_extension": ".jl",
   "mimetype": "application/julia",
   "name": "julia",
   "version": "1.9.2"
  }
 },
 "nbformat": 4,
 "nbformat_minor": 5
}
