{
 "cells": [
  {
   "cell_type": "markdown",
   "id": "b869e286-b1be-45ab-97ef-12f4b142e169",
   "metadata": {
    "tags": []
   },
   "source": [
    "# Transformer\n",
    "* Trains a transformer model to predict a user's future interactions"
   ]
  },
  {
   "cell_type": "code",
   "execution_count": null,
   "id": "7df9b9d0-f4e3-4db9-b67d-799c100e8ab9",
   "metadata": {},
   "outputs": [],
   "source": [
    "import os\n",
    "\n",
    "import papermill as pm"
   ]
  },
  {
   "cell_type": "code",
   "execution_count": null,
   "id": "12695459-aadb-4f2b-ace7-1741d41b33df",
   "metadata": {},
   "outputs": [],
   "source": [
    "def get_data_path(*args):\n",
    "    data_path = os.path.join(\n",
    "        \"../../../data/papermill/training_alphas/bagofwords\", *args\n",
    "    )\n",
    "    if not os.path.exists(data_path):\n",
    "        os.makedirs(data_path, exist_ok=True)\n",
    "    return data_path"
   ]
  },
  {
   "cell_type": "code",
   "execution_count": null,
   "id": "58e8d146-da94-4334-8b78-80453cee9e31",
   "metadata": {},
   "outputs": [],
   "source": [
    "def run_notebook(script, path, params={}):\n",
    "    pm.execute_notebook(\n",
    "        script,\n",
    "        os.path.join(path, script),\n",
    "        parameters=params,\n",
    "    )"
   ]
  },
  {
   "cell_type": "code",
   "execution_count": null,
   "id": "332a5dd8-d13a-430c-9bc1-66e45fb49866",
   "metadata": {},
   "outputs": [],
   "source": [
    "ALL_TASKS = [\"temporal_causal\"]\n",
    "ALL_MEDIA = [\"manga\", \"anime\"]\n",
    "ALL_CONTENTS = [\"explicit\", \"implicit\"]"
   ]
  },
  {
   "cell_type": "code",
   "execution_count": null,
   "id": "77a603be-c28e-4d8f-a749-104c99bc1ad4",
   "metadata": {
    "tags": []
   },
   "outputs": [],
   "source": [
    "run_notebook(\"PretrainDataset.ipynb\", get_data_path())"
   ]
  },
  {
   "cell_type": "code",
   "execution_count": null,
   "id": "5d742cb6-a81f-4e3a-adfd-0769b8d6d6db",
   "metadata": {},
   "outputs": [],
   "source": [
    "for task in ALL_TASKS:\n",
    "    for media in ALL_MEDIA:\n",
    "        for content in ALL_CONTENTS:\n",
    "            run_notebook(\n",
    "                \"BagOfWords.ipynb\",\n",
    "                get_data_path(media, task),\n",
    "                {\"medium\": media, \"task\": task, \"content\": content},\n",
    "            )"
   ]
  },
  {
   "cell_type": "code",
   "execution_count": null,
   "id": "f7cd304b-1d38-442c-86c8-fd54301afe05",
   "metadata": {},
   "outputs": [],
   "source": [
    "print(\"Success!\")"
   ]
  }
 ],
 "metadata": {
  "kernelspec": {
   "display_name": "Python 3 (ipykernel)",
   "language": "python",
   "name": "python3"
  },
  "language_info": {
   "codemirror_mode": {
    "name": "ipython",
    "version": 3
   },
   "file_extension": ".py",
   "mimetype": "text/x-python",
   "name": "python",
   "nbconvert_exporter": "python",
   "pygments_lexer": "ipython3",
   "version": "3.10.12"
  }
 },
 "nbformat": 4,
 "nbformat_minor": 5
}
