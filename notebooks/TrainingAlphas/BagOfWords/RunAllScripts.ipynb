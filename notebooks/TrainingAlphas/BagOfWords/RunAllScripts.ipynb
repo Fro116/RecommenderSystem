{
 "cells": [
  {
   "cell_type": "markdown",
   "id": "b869e286-b1be-45ab-97ef-12f4b142e169",
   "metadata": {
    "tags": []
   },
   "source": [
    "# Bag Of Words\n",
    "* Trains a bag-of-words model to predict a user's future interactions"
   ]
  },
  {
   "cell_type": "code",
   "execution_count": null,
   "id": "7df9b9d0-f4e3-4db9-b67d-799c100e8ab9",
   "metadata": {},
   "outputs": [],
   "source": [
    "import os\n",
    "import time\n",
    "\n",
    "import papermill as pm"
   ]
  },
  {
   "cell_type": "code",
   "execution_count": null,
   "id": "12695459-aadb-4f2b-ace7-1741d41b33df",
   "metadata": {},
   "outputs": [],
   "source": [
    "def get_data_path(*args):\n",
    "    data_path = os.path.join(\n",
    "        \"../../../data/papermill/training_alphas/bagofwords\", *args\n",
    "    )\n",
    "    if not os.path.exists(data_path):\n",
    "        os.makedirs(data_path, exist_ok=True)\n",
    "    return data_path"
   ]
  },
  {
   "cell_type": "code",
   "execution_count": null,
   "id": "58e8d146-da94-4334-8b78-80453cee9e31",
   "metadata": {},
   "outputs": [],
   "source": [
    "def run_notebook(script, savepath, params={}):\n",
    "    pm.execute_notebook(\n",
    "        script,\n",
    "        savepath,\n",
    "        parameters=params,\n",
    "    )"
   ]
  },
  {
   "cell_type": "code",
   "execution_count": null,
   "id": "332a5dd8-d13a-430c-9bc1-66e45fb49866",
   "metadata": {},
   "outputs": [],
   "source": [
    "ALL_MEDIA = [\"manga\", \"anime\"]\n",
    "ALL_METRICS = [\"rating\", \"watch\", \"plantowatch\", \"drop\"]\n",
    "ALL_MODES = [\"training_dataset\", \"test_dataset\", \"train\"]"
   ]
  },
  {
   "cell_type": "code",
   "execution_count": null,
   "id": "5d742cb6-a81f-4e3a-adfd-0769b8d6d6db",
   "metadata": {},
   "outputs": [],
   "source": [
    "for media in ALL_MEDIA:\n",
    "    for metric in ALL_METRICS:\n",
    "        for mode in ALL_MODES:\n",
    "            try:\n",
    "                run_notebook(\n",
    "                    \"Training.ipynb\",\n",
    "                    os.path.join(get_data_path(media, metric), f\"{mode}.ipynb\"),\n",
    "                    {\"medium\": media, \"metric\": metric, \"mode\": mode},\n",
    "                )\n",
    "            except:\n",
    "                # we intentionally kill the kernel early when saving datasets\n",
    "                assert mode in [\"training_dataset\", \"test_dataset\"]\n",
    "            time.sleep(5)"
   ]
  },
  {
   "cell_type": "code",
   "execution_count": null,
   "id": "f7cd304b-1d38-442c-86c8-fd54301afe05",
   "metadata": {},
   "outputs": [],
   "source": [
    "print(\"Success!\")"
   ]
  }
 ],
 "metadata": {
  "kernelspec": {
   "display_name": "Python 3 (ipykernel)",
   "language": "python",
   "name": "python3"
  },
  "language_info": {
   "codemirror_mode": {
    "name": "ipython",
    "version": 3
   },
   "file_extension": ".py",
   "mimetype": "text/x-python",
   "name": "python",
   "nbconvert_exporter": "python",
   "pygments_lexer": "ipython3",
   "version": "3.10.12"
  }
 },
 "nbformat": 4,
 "nbformat_minor": 5
}
