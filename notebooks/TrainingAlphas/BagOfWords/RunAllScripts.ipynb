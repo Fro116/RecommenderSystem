{
 "cells": [
  {
   "cell_type": "markdown",
   "id": "b869e286-b1be-45ab-97ef-12f4b142e169",
   "metadata": {
    "editable": true,
    "slideshow": {
     "slide_type": ""
    },
    "tags": [
     "parameters"
    ]
   },
   "source": [
    "# Bag Of Words\n",
    "* Trains a bag-of-words model to predict a user's future interactions"
   ]
  },
  {
   "cell_type": "code",
   "execution_count": null,
   "id": "7df9b9d0-f4e3-4db9-b67d-799c100e8ab9",
   "metadata": {},
   "outputs": [],
   "source": [
    "import os\n",
    "\n",
    "import papermill as pm"
   ]
  },
  {
   "cell_type": "code",
   "execution_count": null,
   "id": "e854a38b-055b-4f3a-81a8-b1330ab4d389",
   "metadata": {},
   "outputs": [],
   "source": [
    "def run(script, output, params):\n",
    "    os.makedirs(os.path.dirname(output), exist_ok=True)\n",
    "    pm.execute_notebook(script, output, params)\n",
    "\n",
    "\n",
    "def run_notebook(script, datasets):\n",
    "    data_path = \"../../../data/papermill/training_alphas/bagofwords\"\n",
    "    version = \"v1\"\n",
    "    for dataset in datasets:\n",
    "        for medium in [\"manga\", \"anime\"]:\n",
    "            for metric in [\"rating\", \"watch\", \"plantowatch\", \"drop\"]:\n",
    "                run(\n",
    "                    script,\n",
    "                    os.path.join(data_path, version, dataset, medium, metric, script),\n",
    "                    dict(\n",
    "                        version=version, dataset=dataset, medium=medium, metric=metric\n",
    "                    ),\n",
    "                )"
   ]
  },
  {
   "cell_type": "code",
   "execution_count": null,
   "id": "0b637853-2ac7-4c7c-a8f0-6bd199e50123",
   "metadata": {
    "editable": true,
    "slideshow": {
     "slide_type": ""
    },
    "tags": []
   },
   "outputs": [],
   "source": [
    "run_notebook(\"Save.ipynb\", [\"training\", \"streaming\"])"
   ]
  },
  {
   "cell_type": "code",
   "execution_count": null,
   "id": "5d742cb6-a81f-4e3a-adfd-0769b8d6d6db",
   "metadata": {
    "editable": true,
    "slideshow": {
     "slide_type": ""
    },
    "tags": []
   },
   "outputs": [],
   "source": [
    "run_notebook(\"Train.ipynb\", [\"training\", \"streaming\"])"
   ]
  },
  {
   "cell_type": "code",
   "execution_count": null,
   "id": "8bdad66a-ae0e-4566-bdf3-7e7dc2f4a427",
   "metadata": {},
   "outputs": [],
   "source": [
    "run_notebook(\"Predict.ipynb\", [\"streaming\"])"
   ]
  },
  {
   "cell_type": "code",
   "execution_count": null,
   "id": "f7cd304b-1d38-442c-86c8-fd54301afe05",
   "metadata": {},
   "outputs": [],
   "source": [
    "print(\"Success!\")"
   ]
  }
 ],
 "metadata": {
  "kernelspec": {
   "display_name": "Python 3 (ipykernel)",
   "language": "python",
   "name": "python3"
  },
  "language_info": {
   "codemirror_mode": {
    "name": "ipython",
    "version": 3
   },
   "file_extension": ".py",
   "mimetype": "text/x-python",
   "name": "python",
   "nbconvert_exporter": "python",
   "pygments_lexer": "ipython3",
   "version": "3.12.3"
  }
 },
 "nbformat": 4,
 "nbformat_minor": 5
}
