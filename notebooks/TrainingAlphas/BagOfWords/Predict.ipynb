{
 "cells": [
  {
   "cell_type": "code",
   "execution_count": null,
   "id": "d90afc10-1ae5-4665-937e-d58a5859ac94",
   "metadata": {
    "editable": true,
    "slideshow": {
     "slide_type": ""
    },
    "tags": []
   },
   "outputs": [],
   "source": [
    "import NBInclude: @nbinclude\n",
    "@nbinclude(\"./Data.ipynb\");"
   ]
  },
  {
   "cell_type": "code",
   "execution_count": null,
   "id": "bfd56259-4513-4297-a978-99c765532231",
   "metadata": {
    "editable": true,
    "slideshow": {
     "slide_type": ""
    },
    "tags": [
     "parameters"
    ]
   },
   "outputs": [],
   "source": [
    "version = \"\"\n",
    "dataset = \"\"\n",
    "medium = \"\"\n",
    "metric = \"\";"
   ]
  },
  {
   "cell_type": "code",
   "execution_count": null,
   "id": "ba2d3c5a-2783-4739-b6a0-321d931596b2",
   "metadata": {
    "editable": true,
    "slideshow": {
     "slide_type": ""
    },
    "tags": []
   },
   "outputs": [],
   "source": [
    "function get_inputs(df, medium, metric)\n",
    "    df = as_metric(df, metric)\n",
    "    resid = df\n",
    "    if metric == \"rating\"\n",
    "        params = read_params(\"baseline/v1/$dataset/$medium/rating\")\n",
    "        user_biases = get_user_biases(resid, params)\n",
    "        item_biases = params[\"a\"]\n",
    "        β = params[\"β\"]\n",
    "        Threads.@threads for i = 1:length(df.metric)\n",
    "            df.metric[i] -=\n",
    "                (get(user_biases, df.userid[i], 0) + item_biases[df.itemid[i]]) * β\n",
    "        end\n",
    "    end\n",
    "    df\n",
    "end\n",
    "\n",
    "function model(dfs, userids, outdir)\n",
    "    max_userid = max(maximum(userids), [maximum(x.userid) for x in values(dfs)]...)\n",
    "    sparse(x, c, m) =\n",
    "        SparseArrays.sparse(x.itemid, x.userid, getfield(x, c), num_items(m), max_userid)\n",
    "    sparse_empty() = SparseArrays.sparse(Int32[], Int32[], Float32[], 1, max_userid)\n",
    "    X = vcat(\n",
    "        [\n",
    "            sparse(get_inputs(dfs[m], m, metric), :metric, m) for\n",
    "            metric in [\"rating\", \"watch\"] for m in ALL_MEDIUMS\n",
    "        ]...,\n",
    "    )\n",
    "    Y = sparse_empty()\n",
    "    W = sparse_empty()\n",
    "    users = collect(userids)\n",
    "    fn = \"$outdir/predict.h5\"\n",
    "    save_features(X[:, users], Y[:, users], W[:, users], users, fn)\n",
    "\n",
    "    args = [\n",
    "        \"python3\",\n",
    "        \"pytorch.py\",\n",
    "        \"--outdir\",\n",
    "        outdir,\n",
    "        \"--init\",\n",
    "        \"$outdir/model.pt\",\n",
    "        \"--predict\",\n",
    "        fn,\n",
    "    ]\n",
    "    run(`$args`)\n",
    "    users, preds = HDF5.h5open(\"$fn.out\", \"r\") do f\n",
    "        g(x) = read(f[x])\n",
    "        g(\"users\"), g(\"predictions\")\n",
    "    end\n",
    "    d = Dict(users[i] => preds[:, i] for i = 1:length(users))\n",
    "    rm.([fn, \"$fn.out\"])\n",
    "    d\n",
    "end;"
   ]
  },
  {
   "cell_type": "code",
   "execution_count": null,
   "id": "5dc8af4a-45e4-4364-b1fb-05145d2cdaa2",
   "metadata": {
    "editable": true,
    "scrolled": true,
    "slideshow": {
     "slide_type": ""
    },
    "tags": []
   },
   "outputs": [],
   "source": [
    "const name = \"bagofwords/$version/$dataset/$medium/$metric\"\n",
    "const outdir = get_data_path(\"alphas/$name\")\n",
    "write_alpha((df, userids) -> model(df, userids, outdir), medium, name)"
   ]
  },
  {
   "cell_type": "code",
   "execution_count": null,
   "id": "eee48ee5-d127-4157-8980-ca2ab02d04d3",
   "metadata": {
    "editable": true,
    "scrolled": true,
    "slideshow": {
     "slide_type": ""
    },
    "tags": []
   },
   "outputs": [],
   "source": [
    "alphas = [\"bagofwords/$version/$dataset/$medium/$metric\"]\n",
    "if metric == \"rating\"\n",
    "    push!(alphas, \"baseline/v1/$dataset/$medium/$metric\")\n",
    "end\n",
    "print_losses(medium, metric, alphas);"
   ]
  }
 ],
 "metadata": {
  "kernelspec": {
   "display_name": "Julia 1.10.2",
   "language": "julia",
   "name": "julia-1.10"
  },
  "language_info": {
   "file_extension": ".jl",
   "mimetype": "application/julia",
   "name": "julia",
   "version": "1.10.2"
  }
 },
 "nbformat": 4,
 "nbformat_minor": 5
}
