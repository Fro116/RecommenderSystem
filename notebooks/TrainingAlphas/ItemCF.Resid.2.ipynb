{
 "cells": [
  {
   "cell_type": "markdown",
   "id": "c3758ece-9b72-47b4-ae6a-aa364e0443e3",
   "metadata": {},
   "source": [
    "# Item Collaborative Filtering on Residuals\n",
    "* See `ItemCollaborativeFiltering.Base.ipynb` for algorithm details\n",
    "* This alpha is trained to predict the residuals of previous alphas"
   ]
  },
  {
   "cell_type": "code",
   "execution_count": 1,
   "id": "7cc9334a-2287-41d6-885b-a5cca94fe263",
   "metadata": {},
   "outputs": [],
   "source": [
    "name = \"ItemCF.Resid.2\";"
   ]
  },
  {
   "cell_type": "code",
   "execution_count": 2,
   "id": "d17593ac-3260-4c01-a5df-91edfcd17e13",
   "metadata": {},
   "outputs": [],
   "source": [
    "using NBInclude\n",
    "@nbinclude(\"ItemCF.Base.ipynb\");"
   ]
  },
  {
   "cell_type": "code",
   "execution_count": 16,
   "id": "183950a8-a6aa-486c-979d-fd5268793c97",
   "metadata": {},
   "outputs": [
    {
     "data": {
      "text/plain": [
       "13-element Vector{String}:\n",
       " \"UserItemBiases\"\n",
       " \"GNN.1\"\n",
       " \"MatrixFactorization.10\"\n",
       " \"MatrixFactorization.20\"\n",
       " \"MatrixFactorization.40\"\n",
       " \"ItemCF.16\"\n",
       " \"ItemCF.64\"\n",
       " \"ItemCF.256\"\n",
       " \"ItemCF.1024\"\n",
       " \"ItemCF.4096\"\n",
       " \"ItemCF.Resid.GNN.1.256\"\n",
       " \"ItemCF.Resid.MF.1.256\"\n",
       " \"ItemCF.Resid.ItemCF.1.256\""
      ]
     },
     "execution_count": 16,
     "metadata": {},
     "output_type": "execute_result"
    }
   ],
   "source": [
    "alphas = [\n",
    "    [\"UserItemBiases\"]\n",
    "    [\"GNN.$K\" for K = 1:1]\n",
    "    [\"MatrixFactorization.$K\" for K in [10, 20, 40]]\n",
    "    [\"ItemCF.$K\" for K in [2^4, 2^6, 2^8, 2^10, 2^12]]\n",
    "    [\"ItemCF.Resid.$K.1.256\" for K in [\"GNN\", \"MF\", \"ItemCF\"]]\n",
    "]"
   ]
  },
  {
   "cell_type": "code",
   "execution_count": 4,
   "id": "93def6fd-f3db-4d9b-83b8-f2c34857755e",
   "metadata": {
    "collapsed": true,
    "jupyter": {
     "outputs_hidden": true
    },
    "tags": []
   },
   "outputs": [
    {
     "name": "stderr",
     "output_type": "stream",
     "text": [
      "\u001b[32mProgress: 100%|█████████████████████████████████████████| Time: 0:00:04\u001b[39m\n",
      "\u001b[32mProgress: 100%|███████████████████████████| Time: 0:02:58 ( 0.21  s/it)\u001b[39m\n",
      "\u001b[38;5;4m\u001b[1m[ \u001b[22m\u001b[39m\u001b[38;5;4m\u001b[1mDebug: \u001b[22m\u001b[39m20220319 02:34:32 loss: Dual{ForwardDiff.Tag{var\"#validation_mse#28\"{var\"#25#27\"{cf_params, Dict{String, typeof(get_abs_neighborhood)}, Int64, Matrix{Float32}}, RatingsDataset, RatingsDataset}, Float32}}(1.2654585,-0.00028221568,-8.3590574e-5,-0.00023348942) β: Dual{ForwardDiff.Tag{var\"#validation_mse#28\"{var\"#25#27\"{cf_params, Dict{String, typeof(get_abs_neighborhood)}, Int64, Matrix{Float32}}, RatingsDataset, RatingsDataset}, Float32}}(0.045632478,0.023979966,-0.012180671,0.060368393): λ ForwardDiff.Dual{ForwardDiff.Tag{var\"#validation_mse#28\"{var\"#25#27\"{cf_params, Dict{String, typeof(get_abs_neighborhood)}, Int64, Matrix{Float32}}, RatingsDataset, RatingsDataset}, Float32}, Float32, 3}[Dual{ForwardDiff.Tag{var\"#validation_mse#28\"{var\"#25#27\"{cf_params, Dict{String, typeof(get_abs_neighborhood)}, Int64, Matrix{Float32}}, RatingsDataset, RatingsDataset}, Float32}}(0.32439068,1.0,0.0,0.0), Dual{ForwardDiff.Tag{var\"#validation_mse#28\"{var\"#25#27\"{cf_params, Dict{String, typeof(get_abs_neighborhood)}, Int64, Matrix{Float32}}, RatingsDataset, RatingsDataset}, Float32}}(0.5576935,0.0,1.0,0.0), Dual{ForwardDiff.Tag{var\"#validation_mse#28\"{var\"#25#27\"{cf_params, Dict{String, typeof(get_abs_neighborhood)}, Int64, Matrix{Float32}}, RatingsDataset, RatingsDataset}, Float32}}(0.10034625,0.0,0.0,1.0)]\n",
      "\u001b[32mProgress: 100%|███████████████████████████| Time: 0:02:53 ( 0.20  s/it)\u001b[39m\n",
      "\u001b[38;5;4m\u001b[1m[ \u001b[22m\u001b[39m\u001b[38;5;4m\u001b[1mDebug: \u001b[22m\u001b[39m20220319 02:38:04 loss: Dual{ForwardDiff.Tag{var\"#validation_mse#28\"{var\"#25#27\"{cf_params, Dict{String, typeof(get_abs_neighborhood)}, Int64, Matrix{Float32}}, RatingsDataset, RatingsDataset}, Float32}}(1.2654576,-0.0002817573,-8.360167e-5,-0.00023192936) β: Dual{ForwardDiff.Tag{var\"#validation_mse#28\"{var\"#25#27\"{cf_params, Dict{String, typeof(get_abs_neighborhood)}, Int64, Matrix{Float32}}, RatingsDataset, RatingsDataset}, Float32}}(0.04570792,0.0240898,-0.012215464,0.06034894): λ ForwardDiff.Dual{ForwardDiff.Tag{var\"#validation_mse#28\"{var\"#25#27\"{cf_params, Dict{String, typeof(get_abs_neighborhood)}, Int64, Matrix{Float32}}, RatingsDataset, RatingsDataset}, Float32}, Float32, 3}[Dual{ForwardDiff.Tag{var\"#validation_mse#28\"{var\"#25#27\"{cf_params, Dict{String, typeof(get_abs_neighborhood)}, Int64, Matrix{Float32}}, RatingsDataset, RatingsDataset}, Float32}}(0.32551998,1.0,0.0,0.0), Dual{ForwardDiff.Tag{var\"#validation_mse#28\"{var\"#25#27\"{cf_params, Dict{String, typeof(get_abs_neighborhood)}, Int64, Matrix{Float32}}, RatingsDataset, RatingsDataset}, Float32}}(0.55802786,0.0,1.0,0.0), Dual{ForwardDiff.Tag{var\"#validation_mse#28\"{var\"#25#27\"{cf_params, Dict{String, typeof(get_abs_neighborhood)}, Int64, Matrix{Float32}}, RatingsDataset, RatingsDataset}, Float32}}(0.10128176,0.0,0.0,1.0)]\n",
      "\u001b[32mProgress: 100%|███████████████████████████| Time: 0:03:04 ( 0.22  s/it)\u001b[39m\n",
      "\u001b[38;5;4m\u001b[1m[ \u001b[22m\u001b[39m\u001b[38;5;4m\u001b[1mDebug: \u001b[22m\u001b[39m20220319 02:41:36 loss: Dual{ForwardDiff.Tag{var\"#validation_mse#28\"{var\"#25#27\"{cf_params, Dict{String, typeof(get_abs_neighborhood)}, Int64, Matrix{Float32}}, RatingsDataset, RatingsDataset}, Float32}}(1.2654551,-0.0002790623,-8.3654006e-5,-0.00022392404) β: Dual{ForwardDiff.Tag{var\"#validation_mse#28\"{var\"#25#27\"{cf_params, Dict{String, typeof(get_abs_neighborhood)}, Int64, Matrix{Float32}}, RatingsDataset, RatingsDataset}, Float32}}(0.046111237,0.024622923,-0.012388806,0.06022573): λ ForwardDiff.Dual{ForwardDiff.Tag{var\"#validation_mse#28\"{var\"#25#27\"{cf_params, Dict{String, typeof(get_abs_neighborhood)}, Int64, Matrix{Float32}}, RatingsDataset, RatingsDataset}, Float32}, Float32, 3}[Dual{ForwardDiff.Tag{var\"#validation_mse#28\"{var\"#25#27\"{cf_params, Dict{String, typeof(get_abs_neighborhood)}, Int64, Matrix{Float32}}, RatingsDataset, RatingsDataset}, Float32}}(0.3311665,1.0,0.0,0.0), Dual{ForwardDiff.Tag{var\"#validation_mse#28\"{var\"#25#27\"{cf_params, Dict{String, typeof(get_abs_neighborhood)}, Int64, Matrix{Float32}}, RatingsDataset, RatingsDataset}, Float32}}(0.5596996,0.0,1.0,0.0), Dual{ForwardDiff.Tag{var\"#validation_mse#28\"{var\"#25#27\"{cf_params, Dict{String, typeof(get_abs_neighborhood)}, Int64, Matrix{Float32}}, RatingsDataset, RatingsDataset}, Float32}}(0.10595931,0.0,0.0,1.0)]\n",
      "\u001b[32mProgress: 100%|███████████████████████████| Time: 0:02:57 ( 0.21  s/it)\u001b[39m\n",
      "\u001b[38;5;4m\u001b[1m[ \u001b[22m\u001b[39m\u001b[38;5;4m\u001b[1mDebug: \u001b[22m\u001b[39m20220319 02:45:09 loss: Dual{ForwardDiff.Tag{var\"#validation_mse#28\"{var\"#25#27\"{cf_params, Dict{String, typeof(get_abs_neighborhood)}, Int64, Matrix{Float32}}, RatingsDataset, RatingsDataset}, Float32}}(1.265442,-0.00025533617,-8.380247e-5,-0.00017952302) β: Dual{ForwardDiff.Tag{var\"#validation_mse#28\"{var\"#25#27\"{cf_params, Dict{String, typeof(get_abs_neighborhood)}, Int64, Matrix{Float32}}, RatingsDataset, RatingsDataset}, Float32}}(0.048120663,0.026630323,-0.01326391,0.05925804): λ ForwardDiff.Dual{ForwardDiff.Tag{var\"#validation_mse#28\"{var\"#25#27\"{cf_params, Dict{String, typeof(get_abs_neighborhood)}, Int64, Matrix{Float32}}, RatingsDataset, RatingsDataset}, Float32}, Float32, 3}[Dual{ForwardDiff.Tag{var\"#validation_mse#28\"{var\"#25#27\"{cf_params, Dict{String, typeof(get_abs_neighborhood)}, Int64, Matrix{Float32}}, RatingsDataset, RatingsDataset}, Float32}}(0.3593991,1.0,0.0,0.0), Dual{ForwardDiff.Tag{var\"#validation_mse#28\"{var\"#25#27\"{cf_params, Dict{String, typeof(get_abs_neighborhood)}, Int64, Matrix{Float32}}, RatingsDataset, RatingsDataset}, Float32}}(0.5680584,0.0,1.0,0.0), Dual{ForwardDiff.Tag{var\"#validation_mse#28\"{var\"#25#27\"{cf_params, Dict{String, typeof(get_abs_neighborhood)}, Int64, Matrix{Float32}}, RatingsDataset, RatingsDataset}, Float32}}(0.12934704,0.0,0.0,1.0)]\n",
      "\u001b[32mProgress: 100%|███████████████████████████| Time: 0:03:03 ( 0.21  s/it)\u001b[39m\n",
      "\u001b[38;5;4m\u001b[1m[ \u001b[22m\u001b[39m\u001b[38;5;4m\u001b[1mDebug: \u001b[22m\u001b[39m20220319 02:48:42 loss: Dual{ForwardDiff.Tag{var\"#validation_mse#28\"{var\"#25#27\"{cf_params, Dict{String, typeof(get_abs_neighborhood)}, Int64, Matrix{Float32}}, RatingsDataset, RatingsDataset}, Float32}}(1.2654159,6.8654e-5,-7.850312e-5,6.2468e-5) β: Dual{ForwardDiff.Tag{var\"#validation_mse#28\"{var\"#25#27\"{cf_params, Dict{String, typeof(get_abs_neighborhood)}, Int64, Matrix{Float32}}, RatingsDataset, RatingsDataset}, Float32}}(0.05760034,0.02168813,-0.017605968,0.05091539): λ ForwardDiff.Dual{ForwardDiff.Tag{var\"#validation_mse#28\"{var\"#25#27\"{cf_params, Dict{String, typeof(get_abs_neighborhood)}, Int64, Matrix{Float32}}, RatingsDataset, RatingsDataset}, Float32}, Float32, 3}[Dual{ForwardDiff.Tag{var\"#validation_mse#28\"{var\"#25#27\"{cf_params, Dict{String, typeof(get_abs_neighborhood)}, Int64, Matrix{Float32}}, RatingsDataset, RatingsDataset}, Float32}}(0.50056213,1.0,0.0,0.0), Dual{ForwardDiff.Tag{var\"#validation_mse#28\"{var\"#25#27\"{cf_params, Dict{String, typeof(get_abs_neighborhood)}, Int64, Matrix{Float32}}, RatingsDataset, RatingsDataset}, Float32}}(0.60985225,0.0,1.0,0.0), Dual{ForwardDiff.Tag{var\"#validation_mse#28\"{var\"#25#27\"{cf_params, Dict{String, typeof(get_abs_neighborhood)}, Int64, Matrix{Float32}}, RatingsDataset, RatingsDataset}, Float32}}(0.24628569,0.0,0.0,1.0)]\n",
      "\u001b[32mProgress: 100%|███████████████████████████| Time: 0:02:59 ( 0.21  s/it)\u001b[39m\n",
      "\u001b[38;5;4m\u001b[1m[ \u001b[22m\u001b[39m\u001b[38;5;4m\u001b[1mDebug: \u001b[22m\u001b[39m20220319 02:52:15 loss: Dual{ForwardDiff.Tag{var\"#validation_mse#28\"{var\"#25#27\"{cf_params, Dict{String, typeof(get_abs_neighborhood)}, Int64, Matrix{Float32}}, RatingsDataset, RatingsDataset}, Float32}}(1.2654147,-7.278429e-6,-8.046476e-5,2.2844224e-5) β: Dual{ForwardDiff.Tag{var\"#validation_mse#28\"{var\"#25#27\"{cf_params, Dict{String, typeof(get_abs_neighborhood)}, Int64, Matrix{Float32}}, RatingsDataset, RatingsDataset}, Float32}}(0.05601936,0.02407343,-0.016826086,0.052435387): λ ForwardDiff.Dual{ForwardDiff.Tag{var\"#validation_mse#28\"{var\"#25#27\"{cf_params, Dict{String, typeof(get_abs_neighborhood)}, Int64, Matrix{Float32}}, RatingsDataset, RatingsDataset}, Float32}, Float32, 3}[Dual{ForwardDiff.Tag{var\"#validation_mse#28\"{var\"#25#27\"{cf_params, Dict{String, typeof(get_abs_neighborhood)}, Int64, Matrix{Float32}}, RatingsDataset, RatingsDataset}, Float32}}(0.47448844,1.0,0.0,0.0), Dual{ForwardDiff.Tag{var\"#validation_mse#28\"{var\"#25#27\"{cf_params, Dict{String, typeof(get_abs_neighborhood)}, Int64, Matrix{Float32}}, RatingsDataset, RatingsDataset}, Float32}}(0.6021327,0.0,1.0,0.0), Dual{ForwardDiff.Tag{var\"#validation_mse#28\"{var\"#25#27\"{cf_params, Dict{String, typeof(get_abs_neighborhood)}, Int64, Matrix{Float32}}, RatingsDataset, RatingsDataset}, Float32}}(0.22468637,0.0,0.0,1.0)]\n"
     ]
    },
    {
     "name": "stdout",
     "output_type": "stream",
     "text": [
      "     1     1.265415e+00     8.046476e-05\n",
      " * Current step size: 532.6468\n",
      " * time: 1271.7502131462097\n",
      " * g(x): Float32[-7.278429f-6, -8.046476f-5, 2.2844224f-5]\n",
      " * x: Float32[0.47448844, 0.6021327, 0.22468637]\n"
     ]
    },
    {
     "name": "stderr",
     "output_type": "stream",
     "text": [
      "\u001b[32mProgress: 100%|███████████████████████████| Time: 0:03:01 ( 0.21  s/it)\u001b[39m\n",
      "\u001b[38;5;4m\u001b[1m[ \u001b[22m\u001b[39m\u001b[38;5;4m\u001b[1mDebug: \u001b[22m\u001b[39m20220319 02:55:42 loss: Dual{ForwardDiff.Tag{var\"#validation_mse#28\"{var\"#25#27\"{cf_params, Dict{String, typeof(get_abs_neighborhood)}, Int64, Matrix{Float32}}, RatingsDataset, RatingsDataset}, Float32}}(1.2654114,1.4861628e-5,-6.5685585e-5,2.3021797e-5) β: Dual{ForwardDiff.Tag{var\"#validation_mse#28\"{var\"#25#27\"{cf_params, Dict{String, typeof(get_abs_neighborhood)}, Int64, Matrix{Float32}}, RatingsDataset, RatingsDataset}, Float32}}(0.05516235,0.02220569,-0.019511838,0.053252783): λ ForwardDiff.Dual{ForwardDiff.Tag{var\"#validation_mse#28\"{var\"#25#27\"{cf_params, Dict{String, typeof(get_abs_neighborhood)}, Int64, Matrix{Float32}}, RatingsDataset, RatingsDataset}, Float32}, Float32, 3}[Dual{ForwardDiff.Tag{var\"#validation_mse#28\"{var\"#25#27\"{cf_params, Dict{String, typeof(get_abs_neighborhood)}, Int64, Matrix{Float32}}, RatingsDataset, RatingsDataset}, Float32}}(0.48604,1.0,0.0,0.0), Dual{ForwardDiff.Tag{var\"#validation_mse#28\"{var\"#25#27\"{cf_params, Dict{String, typeof(get_abs_neighborhood)}, Int64, Matrix{Float32}}, RatingsDataset, RatingsDataset}, Float32}}(0.6472131,0.0,1.0,0.0), Dual{ForwardDiff.Tag{var\"#validation_mse#28\"{var\"#25#27\"{cf_params, Dict{String, typeof(get_abs_neighborhood)}, Int64, Matrix{Float32}}, RatingsDataset, RatingsDataset}, Float32}}(0.218895,0.0,0.0,1.0)]\n",
      "\u001b[32mProgress: 100%|███████████████████████████| Time: 0:02:57 ( 0.21  s/it)\u001b[39m\n",
      "\u001b[38;5;4m\u001b[1m[ \u001b[22m\u001b[39m\u001b[38;5;4m\u001b[1mDebug: \u001b[22m\u001b[39m20220319 02:59:09 loss: Dual{ForwardDiff.Tag{var\"#validation_mse#28\"{var\"#25#27\"{cf_params, Dict{String, typeof(get_abs_neighborhood)}, Int64, Matrix{Float32}}, RatingsDataset, RatingsDataset}, Float32}}(1.2654068,0.00010429638,-1.063431e-5,2.0465623e-5) β: Dual{ForwardDiff.Tag{var\"#validation_mse#28\"{var\"#25#27\"{cf_params, Dict{String, typeof(get_abs_neighborhood)}, Int64, Matrix{Float32}}, RatingsDataset, RatingsDataset}, Float32}}(0.05042544,0.01478294,-0.02782078,0.05539321): λ ForwardDiff.Dual{ForwardDiff.Tag{var\"#validation_mse#28\"{var\"#25#27\"{cf_params, Dict{String, typeof(get_abs_neighborhood)}, Int64, Matrix{Float32}}, RatingsDataset, RatingsDataset}, Float32}, Float32, 3}[Dual{ForwardDiff.Tag{var\"#validation_mse#28\"{var\"#25#27\"{cf_params, Dict{String, typeof(get_abs_neighborhood)}, Int64, Matrix{Float32}}, RatingsDataset, RatingsDataset}, Float32}}(0.53224623,1.0,0.0,0.0), Dual{ForwardDiff.Tag{var\"#validation_mse#28\"{var\"#25#27\"{cf_params, Dict{String, typeof(get_abs_neighborhood)}, Int64, Matrix{Float32}}, RatingsDataset, RatingsDataset}, Float32}}(0.8275349,0.0,1.0,0.0), Dual{ForwardDiff.Tag{var\"#validation_mse#28\"{var\"#25#27\"{cf_params, Dict{String, typeof(get_abs_neighborhood)}, Int64, Matrix{Float32}}, RatingsDataset, RatingsDataset}, Float32}}(0.19572954,0.0,0.0,1.0)]\n",
      "\u001b[32mProgress: 100%|███████████████████████████| Time: 0:02:59 ( 0.21  s/it)\u001b[39m\n",
      "\u001b[38;5;4m\u001b[1m[ \u001b[22m\u001b[39m\u001b[38;5;4m\u001b[1mDebug: \u001b[22m\u001b[39m20220319 03:02:42 loss: Dual{ForwardDiff.Tag{var\"#validation_mse#28\"{var\"#25#27\"{cf_params, Dict{String, typeof(get_abs_neighborhood)}, Int64, Matrix{Float32}}, RatingsDataset, RatingsDataset}, Float32}}(1.2654066,8.904991e-5,-1.9671696e-5,2.1303296e-5) β: Dual{ForwardDiff.Tag{var\"#validation_mse#28\"{var\"#25#27\"{cf_params, Dict{String, typeof(get_abs_neighborhood)}, Int64, Matrix{Float32}}, RatingsDataset, RatingsDataset}, Float32}}(0.051368747,0.016029831,-0.026663901,0.05515665): λ ForwardDiff.Dual{ForwardDiff.Tag{var\"#validation_mse#28\"{var\"#25#27\"{cf_params, Dict{String, typeof(get_abs_neighborhood)}, Int64, Matrix{Float32}}, RatingsDataset, RatingsDataset}, Float32}, Float32, 3}[Dual{ForwardDiff.Tag{var\"#validation_mse#28\"{var\"#25#27\"{cf_params, Dict{String, typeof(get_abs_neighborhood)}, Int64, Matrix{Float32}}, RatingsDataset, RatingsDataset}, Float32}}(0.5243019,1.0,0.0,0.0), Dual{ForwardDiff.Tag{var\"#validation_mse#28\"{var\"#25#27\"{cf_params, Dict{String, typeof(get_abs_neighborhood)}, Int64, Matrix{Float32}}, RatingsDataset, RatingsDataset}, Float32}}(0.7965317,0.0,1.0,0.0), Dual{ForwardDiff.Tag{var\"#validation_mse#28\"{var\"#25#27\"{cf_params, Dict{String, typeof(get_abs_neighborhood)}, Int64, Matrix{Float32}}, RatingsDataset, RatingsDataset}, Float32}}(0.19971244,0.0,0.0,1.0)]\n"
     ]
    },
    {
     "name": "stdout",
     "output_type": "stream",
     "text": [
      "     2     1.265407e+00     8.904991e-05\n",
      " * Current step size: 4.312269\n",
      " * time: 1899.162124156952\n",
      " * g(x): Float32[8.904991f-5, -1.9671696f-5, 2.1303296f-5]\n",
      " * x: Float32[0.5243019, 0.7965317, 0.19971244]\n"
     ]
    },
    {
     "name": "stderr",
     "output_type": "stream",
     "text": [
      "\u001b[32mProgress: 100%|███████████████████████████| Time: 0:02:58 ( 0.21  s/it)\u001b[39m\n",
      "\u001b[38;5;4m\u001b[1m[ \u001b[22m\u001b[39m\u001b[38;5;4m\u001b[1mDebug: \u001b[22m\u001b[39m20220319 03:06:14 loss: Dual{ForwardDiff.Tag{var\"#validation_mse#28\"{var\"#25#27\"{cf_params, Dict{String, typeof(get_abs_neighborhood)}, Int64, Matrix{Float32}}, RatingsDataset, RatingsDataset}, Float32}}(1.2654034,-9.85276e-6,-4.623994e-6,-3.551606e-5) β: Dual{ForwardDiff.Tag{var\"#validation_mse#28\"{var\"#25#27\"{cf_params, Dict{String, typeof(get_abs_neighborhood)}, Int64, Matrix{Float32}}, RatingsDataset, RatingsDataset}, Float32}}(0.048445463,0.021128526,-0.029220477,0.050569113): λ ForwardDiff.Dual{ForwardDiff.Tag{var\"#validation_mse#28\"{var\"#25#27\"{cf_params, Dict{String, typeof(get_abs_neighborhood)}, Int64, Matrix{Float32}}, RatingsDataset, RatingsDataset}, Float32}, Float32, 3}[Dual{ForwardDiff.Tag{var\"#validation_mse#28\"{var\"#25#27\"{cf_params, Dict{String, typeof(get_abs_neighborhood)}, Int64, Matrix{Float32}}, RatingsDataset, RatingsDataset}, Float32}}(0.47089273,1.0,0.0,0.0), Dual{ForwardDiff.Tag{var\"#validation_mse#28\"{var\"#25#27\"{cf_params, Dict{String, typeof(get_abs_neighborhood)}, Int64, Matrix{Float32}}, RatingsDataset, RatingsDataset}, Float32}}(0.8800474,0.0,1.0,0.0), Dual{ForwardDiff.Tag{var\"#validation_mse#28\"{var\"#25#27\"{cf_params, Dict{String, typeof(get_abs_neighborhood)}, Int64, Matrix{Float32}}, RatingsDataset, RatingsDataset}, Float32}}(0.20753685,0.0,0.0,1.0)]\n",
      "\u001b[32mProgress: 100%|███████████████████████████| Time: 0:02:55 ( 0.20  s/it)\u001b[39m\n",
      "\u001b[38;5;4m\u001b[1m[ \u001b[22m\u001b[39m\u001b[38;5;4m\u001b[1mDebug: \u001b[22m\u001b[39m20220319 03:09:50 loss: Dual{ForwardDiff.Tag{var\"#validation_mse#28\"{var\"#25#27\"{cf_params, Dict{String, typeof(get_abs_neighborhood)}, Int64, Matrix{Float32}}, RatingsDataset, RatingsDataset}, Float32}}(1.2654437,-0.00028932487,4.13654e-5,-0.00014540258) β: Dual{ForwardDiff.Tag{var\"#validation_mse#28\"{var\"#25#27\"{cf_params, Dict{String, typeof(get_abs_neighborhood)}, Int64, Matrix{Float32}}, RatingsDataset, RatingsDataset}, Float32}}(0.03374367,0.026840217,-0.030891974,0.02858081): λ ForwardDiff.Dual{ForwardDiff.Tag{var\"#validation_mse#28\"{var\"#25#27\"{cf_params, Dict{String, typeof(get_abs_neighborhood)}, Int64, Matrix{Float32}}, RatingsDataset, RatingsDataset}, Float32}, Float32, 3}[Dual{ForwardDiff.Tag{var\"#validation_mse#28\"{var\"#25#27\"{cf_params, Dict{String, typeof(get_abs_neighborhood)}, Int64, Matrix{Float32}}, RatingsDataset, RatingsDataset}, Float32}}(0.2572561,1.0,0.0,0.0), Dual{ForwardDiff.Tag{var\"#validation_mse#28\"{var\"#25#27\"{cf_params, Dict{String, typeof(get_abs_neighborhood)}, Int64, Matrix{Float32}}, RatingsDataset, RatingsDataset}, Float32}}(1.2141103,0.0,1.0,0.0), Dual{ForwardDiff.Tag{var\"#validation_mse#28\"{var\"#25#27\"{cf_params, Dict{String, typeof(get_abs_neighborhood)}, Int64, Matrix{Float32}}, RatingsDataset, RatingsDataset}, Float32}}(0.23883444,0.0,0.0,1.0)]\n",
      "\u001b[32mProgress: 100%|███████████████████████████| Time: 0:03:04 ( 0.21  s/it)\u001b[39m\n",
      "\u001b[38;5;4m\u001b[1m[ \u001b[22m\u001b[39m\u001b[38;5;4m\u001b[1mDebug: \u001b[22m\u001b[39m20220319 03:13:28 loss: Dual{ForwardDiff.Tag{var\"#validation_mse#28\"{var\"#25#27\"{cf_params, Dict{String, typeof(get_abs_neighborhood)}, Int64, Matrix{Float32}}, RatingsDataset, RatingsDataset}, Float32}}(1.2654034,-1.28439e-5,-4.1794196e-6,-3.7115933e-5) β: Dual{ForwardDiff.Tag{var\"#validation_mse#28\"{var\"#25#27\"{cf_params, Dict{String, typeof(get_abs_neighborhood)}, Int64, Matrix{Float32}}, RatingsDataset, RatingsDataset}, Float32}}(0.04834785,0.021267783,-0.029283352,0.05041964): λ ForwardDiff.Dual{ForwardDiff.Tag{var\"#validation_mse#28\"{var\"#25#27\"{cf_params, Dict{String, typeof(get_abs_neighborhood)}, Int64, Matrix{Float32}}, RatingsDataset, RatingsDataset}, Float32}, Float32, 3}[Dual{ForwardDiff.Tag{var\"#validation_mse#28\"{var\"#25#27\"{cf_params, Dict{String, typeof(get_abs_neighborhood)}, Int64, Matrix{Float32}}, RatingsDataset, RatingsDataset}, Float32}}(0.4692483,1.0,0.0,0.0), Dual{ForwardDiff.Tag{var\"#validation_mse#28\"{var\"#25#27\"{cf_params, Dict{String, typeof(get_abs_neighborhood)}, Int64, Matrix{Float32}}, RatingsDataset, RatingsDataset}, Float32}}(0.8826188,0.0,1.0,0.0), Dual{ForwardDiff.Tag{var\"#validation_mse#28\"{var\"#25#27\"{cf_params, Dict{String, typeof(get_abs_neighborhood)}, Int64, Matrix{Float32}}, RatingsDataset, RatingsDataset}, Float32}}(0.20777775,0.0,0.0,1.0)]\n"
     ]
    },
    {
     "name": "stdout",
     "output_type": "stream",
     "text": [
      "     3     1.265403e+00     3.711593e-05\n",
      " * Current step size: 1.0307895\n",
      " * time: 2545.148789167404\n",
      " * g(x): Float32[-1.28439f-5, -4.1794196f-6, -3.7115933f-5]\n",
      " * x: Float32[0.4692483, 0.8826188, 0.20777775]\n"
     ]
    },
    {
     "name": "stderr",
     "output_type": "stream",
     "text": [
      "\u001b[32mProgress: 100%|███████████████████████████| Time: 0:03:06 ( 0.22  s/it)\u001b[39m\n",
      "\u001b[38;5;4m\u001b[1m[ \u001b[22m\u001b[39m\u001b[38;5;4m\u001b[1mDebug: \u001b[22m\u001b[39m20220319 03:17:03 loss: Dual{ForwardDiff.Tag{var\"#validation_mse#28\"{var\"#25#27\"{cf_params, Dict{String, typeof(get_abs_neighborhood)}, Int64, Matrix{Float32}}, RatingsDataset, RatingsDataset}, Float32}}(1.2654028,-9.764144e-6,-2.7734243e-6,-2.573346e-5) β: Dual{ForwardDiff.Tag{var\"#validation_mse#28\"{var\"#25#27\"{cf_params, Dict{String, typeof(get_abs_neighborhood)}, Int64, Matrix{Float32}}, RatingsDataset, RatingsDataset}, Float32}}(0.04851719,0.02254993,-0.030195108,0.047490142): λ ForwardDiff.Dual{ForwardDiff.Tag{var\"#validation_mse#28\"{var\"#25#27\"{cf_params, Dict{String, typeof(get_abs_neighborhood)}, Int64, Matrix{Float32}}, RatingsDataset, RatingsDataset}, Float32}, Float32, 3}[Dual{ForwardDiff.Tag{var\"#validation_mse#28\"{var\"#25#27\"{cf_params, Dict{String, typeof(get_abs_neighborhood)}, Int64, Matrix{Float32}}, RatingsDataset, RatingsDataset}, Float32}}(0.4616889,1.0,0.0,0.0), Dual{ForwardDiff.Tag{var\"#validation_mse#28\"{var\"#25#27\"{cf_params, Dict{String, typeof(get_abs_neighborhood)}, Int64, Matrix{Float32}}, RatingsDataset, RatingsDataset}, Float32}}(0.9033513,0.0,1.0,0.0), Dual{ForwardDiff.Tag{var\"#validation_mse#28\"{var\"#25#27\"{cf_params, Dict{String, typeof(get_abs_neighborhood)}, Int64, Matrix{Float32}}, RatingsDataset, RatingsDataset}, Float32}}(0.22728172,0.0,0.0,1.0)]\n",
      "\u001b[32mProgress: 100%|███████████████████████████| Time: 0:03:00 ( 0.21  s/it)\u001b[39m\n",
      "\u001b[38;5;4m\u001b[1m[ \u001b[22m\u001b[39m\u001b[38;5;4m\u001b[1mDebug: \u001b[22m\u001b[39m20220319 03:20:34 loss: Dual{ForwardDiff.Tag{var\"#validation_mse#28\"{var\"#25#27\"{cf_params, Dict{String, typeof(get_abs_neighborhood)}, Int64, Matrix{Float32}}, RatingsDataset, RatingsDataset}, Float32}}(1.2654021,-7.57615e-6,3.3190706e-6,-2.5431386e-6) β: Dual{ForwardDiff.Tag{var\"#validation_mse#28\"{var\"#25#27\"{cf_params, Dict{String, typeof(get_abs_neighborhood)}, Int64, Matrix{Float32}}, RatingsDataset, RatingsDataset}, Float32}}(0.048453666,0.02728624,-0.03339711,0.03845027): λ ForwardDiff.Dual{ForwardDiff.Tag{var\"#validation_mse#28\"{var\"#25#27\"{cf_params, Dict{String, typeof(get_abs_neighborhood)}, Int64, Matrix{Float32}}, RatingsDataset, RatingsDataset}, Float32}, Float32, 3}[Dual{ForwardDiff.Tag{var\"#validation_mse#28\"{var\"#25#27\"{cf_params, Dict{String, typeof(get_abs_neighborhood)}, Int64, Matrix{Float32}}, RatingsDataset, RatingsDataset}, Float32}}(0.43145132,1.0,0.0,0.0), Dual{ForwardDiff.Tag{var\"#validation_mse#28\"{var\"#25#27\"{cf_params, Dict{String, typeof(get_abs_neighborhood)}, Int64, Matrix{Float32}}, RatingsDataset, RatingsDataset}, Float32}}(0.9862815,0.0,1.0,0.0), Dual{ForwardDiff.Tag{var\"#validation_mse#28\"{var\"#25#27\"{cf_params, Dict{String, typeof(get_abs_neighborhood)}, Int64, Matrix{Float32}}, RatingsDataset, RatingsDataset}, Float32}}(0.3052976,0.0,0.0,1.0)]\n",
      "\u001b[32mProgress: 100%|███████████████████████████| Time: 0:02:59 ( 0.21  s/it)\u001b[39m\n",
      "\u001b[38;5;4m\u001b[1m[ \u001b[22m\u001b[39m\u001b[38;5;4m\u001b[1mDebug: \u001b[22m\u001b[39m20220319 03:23:59 loss: Dual{ForwardDiff.Tag{var\"#validation_mse#28\"{var\"#25#27\"{cf_params, Dict{String, typeof(get_abs_neighborhood)}, Int64, Matrix{Float32}}, RatingsDataset, RatingsDataset}, Float32}}(1.2654021,-7.023529e-6,2.4532571e-6,-4.2722736e-6) β: Dual{ForwardDiff.Tag{var\"#validation_mse#28\"{var\"#25#27\"{cf_params, Dict{String, typeof(get_abs_neighborhood)}, Int64, Matrix{Float32}}, RatingsDataset, RatingsDataset}, Float32}}(0.04852307,0.026681928,-0.033003833,0.03949243): λ ForwardDiff.Dual{ForwardDiff.Tag{var\"#validation_mse#28\"{var\"#25#27\"{cf_params, Dict{String, typeof(get_abs_neighborhood)}, Int64, Matrix{Float32}}, RatingsDataset, RatingsDataset}, Float32}, Float32, 3}[Dual{ForwardDiff.Tag{var\"#validation_mse#28\"{var\"#25#27\"{cf_params, Dict{String, typeof(get_abs_neighborhood)}, Int64, Matrix{Float32}}, RatingsDataset, RatingsDataset}, Float32}}(0.4355658,1.0,0.0,0.0), Dual{ForwardDiff.Tag{var\"#validation_mse#28\"{var\"#25#27\"{cf_params, Dict{String, typeof(get_abs_neighborhood)}, Int64, Matrix{Float32}}, RatingsDataset, RatingsDataset}, Float32}}(0.97499704,0.0,1.0,0.0), Dual{ForwardDiff.Tag{var\"#validation_mse#28\"{var\"#25#27\"{cf_params, Dict{String, typeof(get_abs_neighborhood)}, Int64, Matrix{Float32}}, RatingsDataset, RatingsDataset}, Float32}}(0.29468185,0.0,0.0,1.0)]\n"
     ]
    },
    {
     "name": "stdout",
     "output_type": "stream",
     "text": [
      "     4     1.265402e+00     7.023529e-06\n",
      " * Current step size: 4.4557137\n",
      " * time: 3176.1287541389465\n",
      " * g(x): Float32[-7.023529f-6, 2.4532571f-6, -4.2722736f-6]\n",
      " * x: Float32[0.4355658, 0.97499704, 0.29468185]\n"
     ]
    },
    {
     "name": "stderr",
     "output_type": "stream",
     "text": [
      "\u001b[32mProgress: 100%|███████████████████████████| Time: 0:03:00 ( 0.21  s/it)\u001b[39m\n",
      "\u001b[38;5;4m\u001b[1m[ \u001b[22m\u001b[39m\u001b[38;5;4m\u001b[1mDebug: \u001b[22m\u001b[39m20220319 03:27:31 loss: Dual{ForwardDiff.Tag{var\"#validation_mse#28\"{var\"#25#27\"{cf_params, Dict{String, typeof(get_abs_neighborhood)}, Int64, Matrix{Float32}}, RatingsDataset, RatingsDataset}, Float32}}(1.2654021,7.2436256e-7,3.6085353e-7,-3.6504414e-7) β: Dual{ForwardDiff.Tag{var\"#validation_mse#28\"{var\"#25#27\"{cf_params, Dict{String, typeof(get_abs_neighborhood)}, Int64, Matrix{Float32}}, RatingsDataset, RatingsDataset}, Float32}}(0.04896857,0.026410988,-0.0327673,0.039949674): λ ForwardDiff.Dual{ForwardDiff.Tag{var\"#validation_mse#28\"{var\"#25#27\"{cf_params, Dict{String, typeof(get_abs_neighborhood)}, Int64, Matrix{Float32}}, RatingsDataset, RatingsDataset}, Float32}, Float32, 3}[Dual{ForwardDiff.Tag{var\"#validation_mse#28\"{var\"#25#27\"{cf_params, Dict{String, typeof(get_abs_neighborhood)}, Int64, Matrix{Float32}}, RatingsDataset, RatingsDataset}, Float32}}(0.43986535,1.0,0.0,0.0), Dual{ForwardDiff.Tag{var\"#validation_mse#28\"{var\"#25#27\"{cf_params, Dict{String, typeof(get_abs_neighborhood)}, Int64, Matrix{Float32}}, RatingsDataset, RatingsDataset}, Float32}}(0.9634221,0.0,1.0,0.0), Dual{ForwardDiff.Tag{var\"#validation_mse#28\"{var\"#25#27\"{cf_params, Dict{String, typeof(get_abs_neighborhood)}, Int64, Matrix{Float32}}, RatingsDataset, RatingsDataset}, Float32}}(0.29345873,0.0,0.0,1.0)]\n",
      "\u001b[32mProgress: 100%|███████████████████████████| Time: 0:03:04 ( 0.21  s/it)\u001b[39m\n",
      "\u001b[38;5;4m\u001b[1m[ \u001b[22m\u001b[39m\u001b[38;5;4m\u001b[1mDebug: \u001b[22m\u001b[39m20220319 03:31:03 loss: Dual{ForwardDiff.Tag{var\"#validation_mse#28\"{var\"#25#27\"{cf_params, Dict{String, typeof(get_abs_neighborhood)}, Int64, Matrix{Float32}}, RatingsDataset, RatingsDataset}, Float32}}(1.2654026,3.1949392e-5,-8.169511e-6,1.5747415e-5) β: Dual{ForwardDiff.Tag{var\"#validation_mse#28\"{var\"#25#27\"{cf_params, Dict{String, typeof(get_abs_neighborhood)}, Int64, Matrix{Float32}}, RatingsDataset, RatingsDataset}, Float32}}(0.050706938,0.02519643,-0.031677693,0.041765414): λ ForwardDiff.Dual{ForwardDiff.Tag{var\"#validation_mse#28\"{var\"#25#27\"{cf_params, Dict{String, typeof(get_abs_neighborhood)}, Int64, Matrix{Float32}}, RatingsDataset, RatingsDataset}, Float32}, Float32, 3}[Dual{ForwardDiff.Tag{var\"#validation_mse#28\"{var\"#25#27\"{cf_params, Dict{String, typeof(get_abs_neighborhood)}, Int64, Matrix{Float32}}, RatingsDataset, RatingsDataset}, Float32}}(0.45706356,1.0,0.0,0.0), Dual{ForwardDiff.Tag{var\"#validation_mse#28\"{var\"#25#27\"{cf_params, Dict{String, typeof(get_abs_neighborhood)}, Int64, Matrix{Float32}}, RatingsDataset, RatingsDataset}, Float32}}(0.9171223,0.0,1.0,0.0), Dual{ForwardDiff.Tag{var\"#validation_mse#28\"{var\"#25#27\"{cf_params, Dict{String, typeof(get_abs_neighborhood)}, Int64, Matrix{Float32}}, RatingsDataset, RatingsDataset}, Float32}}(0.28856626,0.0,0.0,1.0)]\n",
      "\u001b[32mProgress: 100%|███████████████████████████| Time: 0:03:08 ( 0.22  s/it)\u001b[39m\n",
      "\u001b[38;5;4m\u001b[1m[ \u001b[22m\u001b[39m\u001b[38;5;4m\u001b[1mDebug: \u001b[22m\u001b[39m20220319 03:34:40 loss: Dual{ForwardDiff.Tag{var\"#validation_mse#28\"{var\"#25#27\"{cf_params, Dict{String, typeof(get_abs_neighborhood)}, Int64, Matrix{Float32}}, RatingsDataset, RatingsDataset}, Float32}}(1.2654021,8.140326e-7,3.3657912e-7,-3.1962816e-7) β: Dual{ForwardDiff.Tag{var\"#validation_mse#28\"{var\"#25#27\"{cf_params, Dict{String, typeof(get_abs_neighborhood)}, Int64, Matrix{Float32}}, RatingsDataset, RatingsDataset}, Float32}}(0.048973855,0.026407046,-0.03276529,0.039954558): λ ForwardDiff.Dual{ForwardDiff.Tag{var\"#validation_mse#28\"{var\"#25#27\"{cf_params, Dict{String, typeof(get_abs_neighborhood)}, Int64, Matrix{Float32}}, RatingsDataset, RatingsDataset}, Float32}, Float32, 3}[Dual{ForwardDiff.Tag{var\"#validation_mse#28\"{var\"#25#27\"{cf_params, Dict{String, typeof(get_abs_neighborhood)}, Int64, Matrix{Float32}}, RatingsDataset, RatingsDataset}, Float32}}(0.439915,1.0,0.0,0.0), Dual{ForwardDiff.Tag{var\"#validation_mse#28\"{var\"#25#27\"{cf_params, Dict{String, typeof(get_abs_neighborhood)}, Int64, Matrix{Float32}}, RatingsDataset, RatingsDataset}, Float32}}(0.96328837,0.0,1.0,0.0), Dual{ForwardDiff.Tag{var\"#validation_mse#28\"{var\"#25#27\"{cf_params, Dict{String, typeof(get_abs_neighborhood)}, Int64, Matrix{Float32}}, RatingsDataset, RatingsDataset}, Float32}}(0.2934446,0.0,0.0,1.0)]\n"
     ]
    },
    {
     "name": "stdout",
     "output_type": "stream",
     "text": [
      "     5     1.265402e+00     8.140326e-07\n",
      " * Current step size: 1.0115515\n",
      " * time: 3817.4966611862183\n",
      " * g(x): Float32[8.140326f-7, 3.3657912f-7, -3.1962816f-7]\n",
      " * x: Float32[0.439915, 0.96328837, 0.2934446]\n"
     ]
    },
    {
     "name": "stderr",
     "output_type": "stream",
     "text": [
      "\u001b[32mProgress: 100%|███████████████████████████| Time: 0:02:54 ( 0.20  s/it)\u001b[39m\n",
      "\u001b[38;5;4m\u001b[1m[ \u001b[22m\u001b[39m\u001b[38;5;4m\u001b[1mDebug: \u001b[22m\u001b[39m20220319 03:38:10 loss: Dual{ForwardDiff.Tag{var\"#validation_mse#28\"{var\"#25#27\"{cf_params, Dict{String, typeof(get_abs_neighborhood)}, Int64, Matrix{Float32}}, RatingsDataset, RatingsDataset}, Float32}}(1.2654021,6.1837078e-9,1.8874628e-8,-1.6960648e-7) β: Dual{ForwardDiff.Tag{var\"#validation_mse#28\"{var\"#25#27\"{cf_params, Dict{String, typeof(get_abs_neighborhood)}, Int64, Matrix{Float32}}, RatingsDataset, RatingsDataset}, Float32}}(0.049017966,0.026520163,-0.032754578,0.03987867): λ ForwardDiff.Dual{ForwardDiff.Tag{var\"#validation_mse#28\"{var\"#25#27\"{cf_params, Dict{String, typeof(get_abs_neighborhood)}, Int64, Matrix{Float32}}, RatingsDataset, RatingsDataset}, Float32}, Float32, 3}[Dual{ForwardDiff.Tag{var\"#validation_mse#28\"{var\"#25#27\"{cf_params, Dict{String, typeof(get_abs_neighborhood)}, Int64, Matrix{Float32}}, RatingsDataset, RatingsDataset}, Float32}}(0.43925458,1.0,0.0,0.0), Dual{ForwardDiff.Tag{var\"#validation_mse#28\"{var\"#25#27\"{cf_params, Dict{String, typeof(get_abs_neighborhood)}, Int64, Matrix{Float32}}, RatingsDataset, RatingsDataset}, Float32}}(0.9625867,0.0,1.0,0.0), Dual{ForwardDiff.Tag{var\"#validation_mse#28\"{var\"#25#27\"{cf_params, Dict{String, typeof(get_abs_neighborhood)}, Int64, Matrix{Float32}}, RatingsDataset, RatingsDataset}, Float32}}(0.29437968,0.0,0.0,1.0)]\n",
      "\u001b[32mProgress:  51%|█████████████▉             |  ETA: 0:01:13 ( 0.18  s/it)\u001b[39m\u001b[38;5;4m\u001b[1m[ \u001b[22m\u001b[39m\u001b[38;5;4m\u001b[1mDebug: \u001b[22m\u001b[39m20220319 03:41:36 loss: Dual{ForwardDiff.Tag{var\"#validation_mse#28\"{var\"#25#27\"{cf_params, Dict{String, typeof(get_abs_neighborhood)}, Int64, Matrix{Float32}}, RatingsDataset, RatingsDataset}, Float32}}(1.2654021,-3.243202e-6,-1.2485641e-6,4.0638378e-7) β: Dual{ForwardDiff.Tag{var\"#validation_mse#28\"{var\"#25#27\"{cf_params, Dict{String, typeof(get_abs_neighborhood)}, Int64, Matrix{Float32}}, RatingsDataset, RatingsDataset}, Float32}}(0.049188334,0.026962535,-0.03270863,0.039584395): λ ForwardDiff.Dual{ForwardDiff.Tag{var\"#validation_mse#28\"{var\"#25#27\"{cf_params, Dict{String, typeof(get_abs_neighborhood)}, Int64, Matrix{Float32}}, RatingsDataset, RatingsDataset}, Float32}, Float32, 3}[Dual{ForwardDiff.Tag{var\"#validation_mse#28\"{var\"#25#27\"{cf_params, Dict{String, typeof(get_abs_neighborhood)}, Int64, Matrix{Float32}}, RatingsDataset, RatingsDataset}, Float32}}(0.43661284,1.0,0.0,0.0), Dual{ForwardDiff.Tag{var\"#validation_mse#28\"{var\"#25#27\"{cf_params, Dict{String, typeof(get_abs_neighborhood)}, Int64, Matrix{Float32}}, RatingsDataset, RatingsDataset}, Float32}}(0.9597801,0.0,1.0,0.0), Dual{ForwardDiff.Tag{var\"#validation_mse#28\"{var\"#25#27\"{cf_params, Dict{String, typeof(get_abs_neighborhood)}, Int64, Matrix{Float32}}, RatingsDataset, RatingsDataset}, Float32}}(0.29812002,0.0,0.0,1.0)]\n",
      "\u001b[32mProgress: 100%|███████████████████████████| Time: 0:03:12 ( 0.22  s/it)\u001b[39m\n",
      "\u001b[38;5;4m\u001b[1m[ \u001b[22m\u001b[39m\u001b[38;5;4m\u001b[1mDebug: \u001b[22m\u001b[39m20220319 03:45:12 loss: Dual{ForwardDiff.Tag{var\"#validation_mse#28\"{var\"#25#27\"{cf_params, Dict{String, typeof(get_abs_neighborhood)}, Int64, Matrix{Float32}}, RatingsDataset, RatingsDataset}, Float32}}(1.2654021,-1.5314343e-7,-4.3639833e-8,-1.4037151e-7) β: Dual{ForwardDiff.Tag{var\"#validation_mse#28\"{var\"#25#27\"{cf_params, Dict{String, typeof(get_abs_neighborhood)}, Int64, Matrix{Float32}}, RatingsDataset, RatingsDataset}, Float32}}(0.04902598,0.026541421,-0.032752354,0.039864883): λ ForwardDiff.Dual{ForwardDiff.Tag{var\"#validation_mse#28\"{var\"#25#27\"{cf_params, Dict{String, typeof(get_abs_neighborhood)}, Int64, Matrix{Float32}}, RatingsDataset, RatingsDataset}, Float32}, Float32, 3}[Dual{ForwardDiff.Tag{var\"#validation_mse#28\"{var\"#25#27\"{cf_params, Dict{String, typeof(get_abs_neighborhood)}, Int64, Matrix{Float32}}, RatingsDataset, RatingsDataset}, Float32}}(0.43912452,1.0,0.0,0.0), Dual{ForwardDiff.Tag{var\"#validation_mse#28\"{var\"#25#27\"{cf_params, Dict{String, typeof(get_abs_neighborhood)}, Int64, Matrix{Float32}}, RatingsDataset, RatingsDataset}, Float32}}(0.96244854,0.0,1.0,0.0), Dual{ForwardDiff.Tag{var\"#validation_mse#28\"{var\"#25#27\"{cf_params, Dict{String, typeof(get_abs_neighborhood)}, Int64, Matrix{Float32}}, RatingsDataset, RatingsDataset}, Float32}}(0.2945638,0.0,0.0,1.0)]\n"
     ]
    },
    {
     "name": "stdout",
     "output_type": "stream",
     "text": [
      "     6     1.265402e+00     1.531434e-07\n",
      " * Current step size: 1.1968979\n",
      " * time: 4448.720084190369\n",
      " * g(x): Float32[-1.5314343f-7, -4.3639833f-8, -1.4037151f-7]\n",
      " * x: Float32[0.43912452, 0.96244854, 0.2945638]\n"
     ]
    },
    {
     "name": "stderr",
     "output_type": "stream",
     "text": [
      "\u001b[32mProgress: 100%|███████████████████████████| Time: 2:16:49 ( 6.98  s/it)\u001b[39m\n",
      "\u001b[32mProgress: 100%|█████████████████████████████████████████| Time: 0:02:52\u001b[39m\n",
      "\u001b[38;5;6m\u001b[1m[ \u001b[22m\u001b[39m\u001b[38;5;6m\u001b[1mInfo: \u001b[22m\u001b[39m20220319 06:09:06 training set: RMSE 0.971121335535975 MAE 0.7065614173027487 R2 0.004443288207387597\n",
      "\u001b[32mProgress: 100%|█████████████████████████████████████████| Time: 0:00:04\u001b[39m\n",
      "\u001b[38;5;6m\u001b[1m[ \u001b[22m\u001b[39m\u001b[38;5;6m\u001b[1mInfo: \u001b[22m\u001b[39m20220319 06:09:21 validation set: RMSE 1.1249009279189957 MAE 0.8115005312184522 R2 0.0003810939965196436\n",
      "\u001b[32mProgress: 100%|█████████████████████████████████████████| Time: 0:00:04\u001b[39m\n"
     ]
    }
   ],
   "source": [
    "item_cf_params = [[\n",
    "        cf_params(\n",
    "            name = \"ItemCF.Resid.All.2.$K\",\n",
    "            training_residuals = [\"UserItemBiases\"],\n",
    "            validation_residuals = alphas,\n",
    "            neighborhood_type = \"abs\",\n",
    "            S = get_correlation_matrix_outdir(alphas),\n",
    "            K = K,\n",
    "            λ = rand(3),\n",
    "        ) for K in [2^8]\n",
    "    ];\n",
    "];\n",
    "for param in item_cf_params\n",
    "    optimize_model(param)\n",
    "end"
   ]
  },
  {
   "cell_type": "code",
   "execution_count": null,
   "id": "2e0bde63-beae-4b1a-a412-bc8770afc5ac",
   "metadata": {},
   "outputs": [
    {
     "name": "stderr",
     "output_type": "stream",
     "text": [
      "\u001b[38;5;4m\u001b[1m[ \u001b[22m\u001b[39m\u001b[38;5;4m\u001b[1mDebug: \u001b[22m\u001b[39m20220319 21:48:57 generating similarity matrix for [\"UserItemBiases\", \"GNN.1\", \"MatrixFactorization.10\", \"MatrixFactorization.20\", \"MatrixFactorization.40\", \"ItemCF.16\", \"ItemCF.64\", \"ItemCF.256\", \"ItemCF.1024\", \"ItemCF.4096\", \"ItemCF.Resid.GNN.1.256\", \"ItemCF.Resid.MF.1.256\", \"ItemCF.Resid.ItemCF.1.256\", \"ItemCF.Resid.All.2.256\"]\n"
     ]
    }
   ],
   "source": [
    "alphas = [alphas; [\"ItemCF.Resid.All.2.256\"]]\n",
    "item_cf_params = [[\n",
    "        cf_params(\n",
    "            name = \"ItemCF.Resid.All.3.$K\",\n",
    "            training_residuals = [\"UserItemBiases\"],\n",
    "            validation_residuals = alphas,\n",
    "            neighborhood_type = \"abs\",\n",
    "            S = get_correlation_matrix_outdir(alphas),\n",
    "            K = K,\n",
    "            λ = rand(3),\n",
    "        ) for K in [2^8]\n",
    "    ];\n",
    "];\n",
    "for param in item_cf_params\n",
    "    optimize_model(param)\n",
    "end"
   ]
  },
  {
   "cell_type": "code",
   "execution_count": null,
   "id": "028d186e-582e-4e48-8a2c-07d9eb6bef8f",
   "metadata": {},
   "outputs": [],
   "source": []
  }
 ],
 "metadata": {
  "kernelspec": {
   "display_name": "Julia 1.6.3",
   "language": "julia",
   "name": "julia-1.6"
  },
  "language_info": {
   "file_extension": ".jl",
   "mimetype": "application/julia",
   "name": "julia",
   "version": "1.6.3"
  }
 },
 "nbformat": 4,
 "nbformat_minor": 5
}
