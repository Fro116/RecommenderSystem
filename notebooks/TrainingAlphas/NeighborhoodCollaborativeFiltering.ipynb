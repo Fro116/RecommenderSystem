{
 "cells": [
  {
   "cell_type": "markdown",
   "id": "c3758ece-9b72-47b4-ae6a-aa364e0443e3",
   "metadata": {},
   "source": [
    "# Neighborhood Collaborative Filtering\n",
    "* This notebook implements both item-based and user-based collaborative filtering\n",
    "* Prediction is $\\tilde r_{ij} = \\sum_{k \\in N(j)} r_{ik}w_{kj}$ for item-based collaborative filtering\n",
    "* Prediction is $\\tilde r_{ij} = \\sum_{k \\in N(i)} w_{ik}r_{kj}$ for user-based collaborative filtering\n",
    "* $r_{ij}$ is the rating for user $i$ and item $j$\n",
    "* $w_{kj}$ is the cosine similarity between items $j$ and $k$\n",
    "* $N(j)$ is the largest $K$ items $k$ sorted by $|w_{kj}|$"
   ]
  },
  {
   "cell_type": "code",
   "execution_count": 1,
   "id": "7cc9334a-2287-41d6-885b-a5cca94fe263",
   "metadata": {},
   "outputs": [],
   "source": [
    "name = \"NeighborhoodCollaborativeFiltering\";\n",
    "residual_alphas = [];"
   ]
  },
  {
   "cell_type": "code",
   "execution_count": 2,
   "id": "b7fbc147-91d6-4427-bf7a-2d2b6aa06694",
   "metadata": {},
   "outputs": [],
   "source": [
    "using LinearAlgebra\n",
    "using Memoize\n",
    "using SparseArrays\n",
    "# TODO upstream imports"
   ]
  },
  {
   "cell_type": "code",
   "execution_count": 3,
   "id": "d17593ac-3260-4c01-a5df-91edfcd17e13",
   "metadata": {},
   "outputs": [],
   "source": [
    "using NBInclude\n",
    "@nbinclude(\"Alpha.ipynb\");"
   ]
  },
  {
   "cell_type": "markdown",
   "id": "bff8e524-e8f8-48bd-9ca7-c28a05a122b8",
   "metadata": {},
   "source": [
    "## Determine the neighborhoods for each user and item"
   ]
  },
  {
   "cell_type": "code",
   "execution_count": 4,
   "id": "677f2b8c-cf05-4674-b1e3-53cf072d056d",
   "metadata": {},
   "outputs": [],
   "source": [
    "@memoize function get_norms(R)\n",
    "    norms = map(norm, eachslice(R, dims = 2))\n",
    "    norms[norms.==0] .= 1 # prevent division by 0\n",
    "    norms\n",
    "end;"
   ]
  },
  {
   "cell_type": "code",
   "execution_count": 5,
   "id": "cd34115c-51b5-4af1-908d-4322a46d5918",
   "metadata": {},
   "outputs": [],
   "source": [
    "function get_neighborhood(order, weights, K)\n",
    "    order = order[2:end] # the most correlated item is always itself\n",
    "    order[1:K], weights[order[1:K]]\n",
    "end;"
   ]
  },
  {
   "cell_type": "code",
   "execution_count": 6,
   "id": "628a2ab6-ed38-4ba7-81f0-6f54b3a285b0",
   "metadata": {},
   "outputs": [],
   "source": [
    "function get_correlation_neighborhood(item, R, K)\n",
    "    norms = get_norms(R)\n",
    "    weights = vec(R[:, item]' * R) ./ norms ./ norms[item]\n",
    "    order = sortperm(abs.(weights), rev = true)\n",
    "    get_neighborhood(order, weights, K)\n",
    "end;\n",
    "\n",
    "function get_correlation_neighborhood(item, R, K, λ)\n",
    "    norms = get_norms(R)\n",
    "    weights = vec(R[:, item]' * R) ./ norms ./ norms[item]\n",
    "    weights = exp.(abs.(weights) .* λ) .* sign.(weights)\n",
    "    order = sortperm(abs.(weights), rev = true)\n",
    "    get_neighborhood(order, weights, K)\n",
    "end;"
   ]
  },
  {
   "cell_type": "code",
   "execution_count": 7,
   "id": "162a2872-5377-4c86-ada5-e04443a5a0b5",
   "metadata": {},
   "outputs": [],
   "source": [
    "function get_embedding_neighborhood(item, kernel, K, λ)\n",
    "    dists = map(norm, eachslice(kernel .- kernel[:, item], dims = 2))\n",
    "    weights = exp.(-dists .* λ)\n",
    "    order = sortperm(dists)\n",
    "    get_neighborhood(order, weights, K)\n",
    "end;"
   ]
  },
  {
   "cell_type": "code",
   "execution_count": 8,
   "id": "18c9dd5c-e22a-4eb4-94b5-df251b888c49",
   "metadata": {},
   "outputs": [],
   "source": [
    "# U = read_params(\"MatrixFactorization\")[\"U\"]\n",
    "# A = read_params(\"MatrixFactorization\")[\"A\"]\n",
    "# function impute_mf(user, item)\n",
    "#     if user <= size(U)[1] && item <= size(A)[1]\n",
    "#         return dot(U[user, :], A[item, :])\n",
    "#     end\n",
    "#     0.0\n",
    "# end;"
   ]
  },
  {
   "cell_type": "code",
   "execution_count": 9,
   "id": "00ebb580-b942-4113-8d60-78a83042d876",
   "metadata": {},
   "outputs": [],
   "source": [
    "function make_prediction(item, users, R, get_neighborhood, impute, λ)\n",
    "    items, weights = get_neighborhood(item)\n",
    "    predictions = zeros(eltype(weights), length(users))\n",
    "    weight_sum = zeros(eltype(weights), length(users))\n",
    "    for u = 1:length(users)\n",
    "        for (i, weight) in zip(items, weights)\n",
    "            if R[users[u], i] != 0\n",
    "                predictions[u] += weight * R[users[u], i]\n",
    "                weight_sum[u] += abs(weight)\n",
    "            elseif impute(users[u], i) != 0\n",
    "                predictions[u] += weight * impute(users[u], i)\n",
    "                weight_sum[u] += abs(weight)\n",
    "            end\n",
    "        end\n",
    "    end\n",
    "    for u = 1:length(users)\n",
    "        if weight_sum[u] + λ != 0\n",
    "            predictions[u] /= (weight_sum[u] + λ)\n",
    "        end\n",
    "    end\n",
    "    predictions\n",
    "end;"
   ]
  },
  {
   "cell_type": "code",
   "execution_count": 10,
   "id": "5214736f-516e-4d6f-8f0b-92171355ebe5",
   "metadata": {},
   "outputs": [],
   "source": [
    "function collaborative_filtering(training, inference, get_neighborhood, impute, λ)\n",
    "    R = sparse(\n",
    "        training.user,\n",
    "        training.item,\n",
    "        training.rating,\n",
    "        maximum(training.user),\n",
    "        maximum(training.item),\n",
    "    )\n",
    "\n",
    "    el_type = eltype(get_neighborhood(1)[2])\n",
    "    preds = zeros(el_type, length(inference.rating), Threads.nthreads())\n",
    "    @tprogress Threads.@threads for item in collect(Set(inference.item))\n",
    "        mask = inference.item .== item\n",
    "        preds[mask, Threads.threadid()] =\n",
    "            make_prediction(item, inference.user[mask], R, get_neighborhood, impute, λ)\n",
    "    end\n",
    "\n",
    "    vec(sum(preds, dims = 2))\n",
    "end;"
   ]
  },
  {
   "cell_type": "code",
   "execution_count": 11,
   "id": "cb279031-2753-4541-9cb3-3b419d049dc7",
   "metadata": {},
   "outputs": [],
   "source": [
    "function model(users, items, predictions)\n",
    "    result = zeros(length(users))\n",
    "    for i = 1:length(users)\n",
    "        if users[i] < size(predictions)[1] && items[i] < size(predictions)[2]\n",
    "            result[i] = predictions[users[i], items[i]]\n",
    "        end\n",
    "    end\n",
    "    result\n",
    "end;"
   ]
  },
  {
   "cell_type": "code",
   "execution_count": 12,
   "id": "c815cbbe-7300-4c9d-9163-4e554a9752e2",
   "metadata": {},
   "outputs": [
    {
     "data": {
      "text/plain": [
       "get_params (generic function with 1 method)"
      ]
     },
     "execution_count": 12,
     "metadata": {},
     "output_type": "execute_result"
    }
   ],
   "source": [
    "Base.@kwdef struct cf_params\n",
    "    name::Any\n",
    "    residual_alphas::Any\n",
    "    neighborhoods::Any\n",
    "    impute = (u, i) -> 0\n",
    "    λ = 0\n",
    "    hyperparams::Any\n",
    "end;\n",
    "\n",
    "function get_params(params::cf_params)\n",
    "    merge(\n",
    "        Dict(\"residual_alphas\" => params.residual_alphas, \"λ\" => params.λ),\n",
    "        params.hyperparams,\n",
    "    )\n",
    "end"
   ]
  },
  {
   "cell_type": "markdown",
   "id": "94cf908b-4b56-412a-9765-c13021874f41",
   "metadata": {},
   "source": [
    "## Item based CF"
   ]
  },
  {
   "cell_type": "markdown",
   "id": "f708083d-83c1-4ea9-9d9c-4d759a085a9e",
   "metadata": {},
   "source": [
    "### optimize hyperparams"
   ]
  },
  {
   "cell_type": "code",
   "execution_count": 13,
   "id": "904a3cc2-c5e7-4e1b-810a-b3616c4d1b2d",
   "metadata": {},
   "outputs": [],
   "source": [
    "function get_training(residual_alphas)\n",
    "    get_residuals(\"training\", residual_alphas)\n",
    "end\n",
    "\n",
    "function get_validation(residual_alphas)\n",
    "    get_residuals(\"validation\", residual_alphas)\n",
    "end\n",
    "\n",
    "function get_inference(residual_alphas)\n",
    "    validaiton = get_residuals(\"validation\", residual_alphas)\n",
    "    test = get_residuals(\"test\", residual_alphas)\n",
    "    RatingsDataset(\n",
    "        user = [validation.user; test.user],\n",
    "        item = [validation.item; test.item],\n",
    "        rating = [validation.rating; test.rating],\n",
    "    )\n",
    "end;"
   ]
  },
  {
   "cell_type": "code",
   "execution_count": 14,
   "id": "0c00b2aa-a40c-4374-9631-9918f0f55968",
   "metadata": {},
   "outputs": [],
   "source": [
    "# setup hyperparameters\n",
    "item_cf_params = [];"
   ]
  },
  {
   "cell_type": "code",
   "execution_count": null,
   "id": "52d72fed-f897-46ed-bac0-13a4c8b6c181",
   "metadata": {
    "tags": []
   },
   "outputs": [
    {
     "name": "stderr",
     "output_type": "stream",
     "text": [
      "\u001b[38;5;4m\u001b[1m[ \u001b[22m\u001b[39m\u001b[38;5;4m\u001b[1mDebug: \u001b[22m\u001b[39m20211217 08:37:35 training model with parameters ForwardDiff.Dual{ForwardDiff.Tag{typeof(item_validation_mse), Float64}, Float64, 2}[Dual{ForwardDiff.Tag{typeof(item_validation_mse), Float64}}(18.0,1.0,0.0), Dual{ForwardDiff.Tag{typeof(item_validation_mse), Float64}}(0.0,0.0,1.0)]\n",
      "\u001b[32mProgress: 100%|███████████████████████████| Time: 0:30:30 ( 0.46  s/it)\u001b[39m\n",
      "\u001b[38;5;4m\u001b[1m[ \u001b[22m\u001b[39m\u001b[38;5;4m\u001b[1mDebug: \u001b[22m\u001b[39m20211217 09:08:16 loss: Dual{ForwardDiff.Tag{typeof(item_validation_mse), Float64}}(1.3082186837520877,-0.00017044010080159578,-0.014543586284491811) β: Dual{ForwardDiff.Tag{typeof(item_validation_mse), Float64}}(0.7827542356041082,-0.010081085323845114,0.0441406186503027)\n"
     ]
    },
    {
     "name": "stdout",
     "output_type": "stream",
     "text": [
      "Iter     Function value   Gradient norm \n",
      "     0     1.308219e+00     1.454359e-02\n",
      " * Current step size: 1.0\n",
      " * time: 0.02223801612854004\n",
      " * g(x): [-0.00017044010080159578, -0.014543586284491811]\n",
      " * x: [18.0, 0.0]\n"
     ]
    },
    {
     "name": "stderr",
     "output_type": "stream",
     "text": [
      "\u001b[38;5;4m\u001b[1m[ \u001b[22m\u001b[39m\u001b[38;5;4m\u001b[1mDebug: \u001b[22m\u001b[39m20211217 09:08:17 training model with parameters ForwardDiff.Dual{ForwardDiff.Tag{typeof(item_validation_mse), Float64}, Float64, 2}[Dual{ForwardDiff.Tag{typeof(item_validation_mse), Float64}}(18.000170440100803,1.0,0.0), Dual{ForwardDiff.Tag{typeof(item_validation_mse), Float64}}(0.014543586284491811,0.0,1.0)]\n",
      "\u001b[32mProgress: 100%|███████████████████████████| Time: 0:29:18 ( 0.44  s/it)\u001b[39m\n",
      "\u001b[38;5;4m\u001b[1m[ \u001b[22m\u001b[39m\u001b[38;5;4m\u001b[1mDebug: \u001b[22m\u001b[39m20211217 09:37:44 loss: Dual{ForwardDiff.Tag{typeof(item_validation_mse), Float64}}(1.3080092344605145,-0.00015464718830178104,-0.014256957928010797) β: Dual{ForwardDiff.Tag{typeof(item_validation_mse), Float64}}(0.7833898108002499,-0.01013681146886736,0.043502036492947774)\n",
      "\u001b[38;5;4m\u001b[1m[ \u001b[22m\u001b[39m\u001b[38;5;4m\u001b[1mDebug: \u001b[22m\u001b[39m20211217 09:37:44 training model with parameters ForwardDiff.Dual{ForwardDiff.Tag{typeof(item_validation_mse), Float64}, Float64, 2}[Dual{ForwardDiff.Tag{typeof(item_validation_mse), Float64}}(18.000852200504006,1.0,0.0), Dual{ForwardDiff.Tag{typeof(item_validation_mse), Float64}}(0.07271793142245905,0.0,1.0)]\n",
      "\u001b[32mProgress:  24%|██████▍                    |  ETA: 0:22:39 ( 0.45  s/it)\u001b[39m"
     ]
    }
   ],
   "source": [
    "training = get_training([\"UserItemBiases\"])\n",
    "validation = get_validation([\"UserItemBiases\"])\n",
    "item_ratings = sparse(\n",
    "        training.user,\n",
    "        training.item,\n",
    "        training.rating,\n",
    "        maximum(training.user),\n",
    "        maximum(training.item),\n",
    ")\n",
    "\n",
    "function item_validation_mse(λ)\n",
    "    @debug \"training model with parameters $λ\"\n",
    "    neighborhoods = item -> get_correlation_neighborhood(item, item_ratings, 200, λ[1])\n",
    "    pred = collaborative_filtering(training, validation, neighborhoods, (u, i) -> 0, λ[2])\n",
    "    truth = validation.rating\n",
    "    og_loss = mse(truth, pred)\n",
    "    β = pred \\ truth\n",
    "    loss = mse(truth, pred .* β)\n",
    "    @debug \"loss: $loss β: $β\"\n",
    "    loss\n",
    "end;\n",
    "\n",
    "# Find the best regularization hyperparameters\n",
    "res = optimize(\n",
    "    item_validation_mse,\n",
    "    [18., 0.],  # intial guess\n",
    "    LBFGS(),\n",
    "    autodiff = :forward,\n",
    "    Optim.Options(show_trace = true, extended_trace = true),\n",
    ")\n",
    "\n",
    "push!(item_cf_params, cf_params(\n",
    "        name = \"ItemCFReg200\",\n",
    "        residual_alphas = [\"UserItemBiases\"],\n",
    "        neighborhood = item -> get_correlation_neighborhood(item, item_ratings, 200, Optim.minimizer(res)[1]), \n",
    "        λ = Optim.minimizer(res)[2],\n",
    "        hyperparams = Dict(\"K\" => 200, \"weight_decay\" => Optim.minimizer(res)[1]),\n",
    "    )\n",
    ")\n",
    "\n",
    "training = nothing\n",
    "validation = nothing\n",
    "item_ratings = nothing"
   ]
  },
  {
   "cell_type": "code",
   "execution_count": null,
   "id": "081c4ed4-5c0d-4567-8b7b-cad6fb13a547",
   "metadata": {},
   "outputs": [],
   "source": [
    "# compute predictions\n",
    "for param in item_cf_params\n",
    "    inference = get_inference(param.residual_alphas)\n",
    "    preds = collaborative_filtering(\n",
    "        get_training(param.residual_alphas),\n",
    "        inference,\n",
    "        param.neighborhoods,\n",
    "        param.impute,\n",
    "        param.λ,\n",
    "    )\n",
    "    sparse_preds = sparse(inference.user, inference.item, preds)\n",
    "    write_predictions(\n",
    "        (users, items) -> model(users, items, sparse_preds),\n",
    "        outdir = param.name,\n",
    "    )\n",
    "    write_params(get_params(param), outdir = param.name)\n",
    "end"
   ]
  },
  {
   "cell_type": "code",
   "execution_count": null,
   "id": "15f29e7a-660b-40b4-be54-722d144416b8",
   "metadata": {},
   "outputs": [],
   "source": [
    "#item_embeddings = collect(read_params(\"MatrixFactorization\")[\"A\"]')\n",
    "\n",
    "\n",
    "# function item_validation_mse(λ)\n",
    "#     @debug \"training model with parameters $λ\"\n",
    "#     item_embeddings = collect(read_params(\"MatrixFactorization\")[\"A\"]')\n",
    "#     neighborhoods = item -> get_embedding_neighborhood(item, item_embeddings, 200, λ[1])\n",
    "#     preds = collaborative_filtering(training, validation, neighborhoods, λ[2])\n",
    "#     loss = mse(validation.rating, preds)\n",
    "#     @debug \"loss: $loss\"\n",
    "#     loss\n",
    "# end;\n",
    "\n",
    "# # Find the best regularization hyperparameters\n",
    "# res_item_embedding = optimize(\n",
    "#     item_validation_mse,\n",
    "#     [1/3],  # intial guess\n",
    "#     LBFGS(),\n",
    "#     autodiff = :forward,\n",
    "#     Optim.Options(show_trace = true, extended_trace = true),\n",
    "# )"
   ]
  },
  {
   "cell_type": "markdown",
   "id": "d72fdfb8-b818-451d-803b-a610497ae09d",
   "metadata": {
    "tags": []
   },
   "source": [
    "## User based CF"
   ]
  },
  {
   "cell_type": "code",
   "execution_count": null,
   "id": "f4f7ffb2-61a8-4f16-bd46-95f6cb241998",
   "metadata": {},
   "outputs": [],
   "source": [
    "# training_t = RatingsDataset(training.item, training.user, training.rating)\n",
    "# validation_t = RatingsDataset(validation.item, validation.user, validation.rating);"
   ]
  },
  {
   "cell_type": "code",
   "execution_count": null,
   "id": "bb93d2d6-3224-4a71-ac40-5f164cd68f26",
   "metadata": {},
   "outputs": [],
   "source": [
    "# function user_validation_mse(λ)\n",
    "#     @debug \"training model with parameters $λ\"\n",
    "#     user_embeddings = collect(read_params(\"MatrixFactorization\")[\"U\"]')\n",
    "#     neighborhoods = user -> get_embedding_neighborhood(user, user_embeddings, 200, λ[1])\n",
    "#     preds = collaborative_filtering(training_t, validation_t, neighborhoods)\n",
    "#     loss = mse(validation_t.rating, preds)\n",
    "#     @debug \"loss: $loss\"\n",
    "#     loss\n",
    "# end;\n",
    "\n",
    "# # Find the best regularization hyperparameters\n",
    "# # TODO optimize p-norm\n",
    "# res_user_embedding = optimize(\n",
    "#     user_validation_mse,\n",
    "#     [1/3],  # intial guess\n",
    "#     LBFGS(),\n",
    "#     autodiff = :forward,\n",
    "#     Optim.Options(show_trace = true, extended_trace = true),\n",
    "# )"
   ]
  },
  {
   "cell_type": "code",
   "execution_count": null,
   "id": "2c68df95-fa1f-45c3-bea4-e5aedf7fb9d6",
   "metadata": {
    "tags": []
   },
   "outputs": [],
   "source": [
    "# user_ratings = sparse(\n",
    "#     training.item,\n",
    "#     training.user,\n",
    "#     training.rating,\n",
    "#     maximum(training.item),\n",
    "#     maximum(training.user),\n",
    "# )\n",
    "# user_embeddings = collect(read_params(\"MatrixFactorization\")[\"U\"]')\n",
    "# user_cf_params = [\n",
    "#     cf_params(\n",
    "#         \"UserEmbedCF\",\n",
    "#         user -> get_embedding_neighborhood(user, user_embeddings, 200, 1.0),\n",
    "#         Dict(\"K\" => 200, \"λ\" => 1.0),\n",
    "#     ),\n",
    "#     cf_params(\n",
    "#         \"UserEmbedCF1000\",\n",
    "#         user -> get_embedding_neighborhood(user, user_embeddings, 1000, 1.0),\n",
    "#         Dict(\"K\" => 1000, \"λ\" => 1.0),\n",
    "#     ),\n",
    "#     cf_params(\n",
    "#         \"UserEmbedCF10000\",\n",
    "#         user -> get_embedding_neighborhood(user, user_embeddings, 10000, 1.0),\n",
    "#         Dict(\"K\" => 10000, \"λ\" => 1.0),\n",
    "#     ),\n",
    "#     cf_params(\n",
    "#         \"UserCF\",\n",
    "#         user -> get_correlation_neighborhood(user, user_ratings, 200),\n",
    "#         Dict(\"K\" => 200),\n",
    "#     ),\n",
    "# ];"
   ]
  },
  {
   "cell_type": "code",
   "execution_count": null,
   "id": "677a9557-a3c3-482c-bd33-9b18bd70068b",
   "metadata": {},
   "outputs": [],
   "source": []
  }
 ],
 "metadata": {
  "kernelspec": {
   "display_name": "Julia 1.6.3",
   "language": "julia",
   "name": "julia-1.6"
  },
  "language_info": {
   "file_extension": ".jl",
   "mimetype": "application/julia",
   "name": "julia",
   "version": "1.6.3"
  }
 },
 "nbformat": 4,
 "nbformat_minor": 5
}
