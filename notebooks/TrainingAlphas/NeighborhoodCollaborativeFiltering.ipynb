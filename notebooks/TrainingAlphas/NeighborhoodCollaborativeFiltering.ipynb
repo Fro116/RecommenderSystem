{
 "cells": [
  {
   "cell_type": "markdown",
   "id": "c3758ece-9b72-47b4-ae6a-aa364e0443e3",
   "metadata": {},
   "source": [
    "# Neighborhood Collaborative Filtering\n",
    "* This notebook implements both item-based and user-based collaborative filtering\n",
    "* Prediction is $\\tilde r_{ij} = \\sum_{k \\in N(j)} r_{ik}w_{kj}$ for item-based collaborative filtering\n",
    "* Prediction is $\\tilde r_{ij} = \\sum_{k \\in N(i)} w_{ik}r_{kj}$ for user-based collaborative filtering\n",
    "* $r_{ij}$ is the rating for user $i$ and item $j$\n",
    "* $w_{kj}$ is the cosine similarity between items $j$ and $k$\n",
    "* $N(j)$ is the largest $K$ items $k$ sorted by $|w_{kj}|$"
   ]
  },
  {
   "cell_type": "code",
   "execution_count": 1,
   "id": "7cc9334a-2287-41d6-885b-a5cca94fe263",
   "metadata": {},
   "outputs": [],
   "source": [
    "name = \"NeighborhoodCollaborativeFiltering\";\n",
    "residual_alphas = [\"UserItemBiases\"];"
   ]
  },
  {
   "cell_type": "code",
   "execution_count": 2,
   "id": "b7fbc147-91d6-4427-bf7a-2d2b6aa06694",
   "metadata": {},
   "outputs": [],
   "source": [
    "using LinearAlgebra\n",
    "using Memoize\n",
    "using SparseArrays\n",
    "# TODO upstream imports"
   ]
  },
  {
   "cell_type": "code",
   "execution_count": 3,
   "id": "d17593ac-3260-4c01-a5df-91edfcd17e13",
   "metadata": {},
   "outputs": [],
   "source": [
    "using NBInclude\n",
    "@nbinclude(\"Alpha.ipynb\");"
   ]
  },
  {
   "cell_type": "code",
   "execution_count": 4,
   "id": "a94f1a1f-e501-4bac-9a2c-c26679284783",
   "metadata": {},
   "outputs": [],
   "source": [
    "#TODO documentation"
   ]
  },
  {
   "cell_type": "markdown",
   "id": "bff8e524-e8f8-48bd-9ca7-c28a05a122b8",
   "metadata": {},
   "source": [
    "## Determine the neighborhoods for each user and item"
   ]
  },
  {
   "cell_type": "code",
   "execution_count": 5,
   "id": "677f2b8c-cf05-4674-b1e3-53cf072d056d",
   "metadata": {},
   "outputs": [],
   "source": [
    "@memoize function get_norms(R)\n",
    "    norms = map(norm, eachslice(R, dims = 2))\n",
    "    norms[norms.==0] .= 1 # prevent division by 0\n",
    "    norms\n",
    "end;"
   ]
  },
  {
   "cell_type": "code",
   "execution_count": 6,
   "id": "3338ca6b-f28a-4d7e-a269-0b9c641a25a9",
   "metadata": {},
   "outputs": [],
   "source": [
    "function get_correlation_neighborhood(item, R, K)\n",
    "    norms = get_norms(R)\n",
    "    weights = vec(R[:, item]' * R) ./ norms ./ norms[item]\n",
    "    order = sortperm(abs.(weights), rev = true)[1:K]\n",
    "    order[1:K], weights[order[1:K]]\n",
    "end;"
   ]
  },
  {
   "cell_type": "code",
   "execution_count": 7,
   "id": "162a2872-5377-4c86-ada5-e04443a5a0b5",
   "metadata": {},
   "outputs": [],
   "source": [
    "function get_embedding_neighborhood(item, kernel, K, λ)\n",
    "    dists = map(norm, eachslice(kernel .- kernel[:, item], dims = 2))\n",
    "    weights = exp.(-dists .* λ)\n",
    "    order = sortperm(dists)[1:K]\n",
    "    order[1:K], weights[order[1:K]]\n",
    "end;"
   ]
  },
  {
   "cell_type": "code",
   "execution_count": 8,
   "id": "00ebb580-b942-4113-8d60-78a83042d876",
   "metadata": {},
   "outputs": [],
   "source": [
    "A = read_params(\"MatrixFactorization\")[\"A\"]\n",
    "U = read_params(\"MatrixFactorization\")[\"U\"]\n",
    "function impute_item(user, item, R)\n",
    "    dot(A[user, :]\n",
    "end\n",
    "\n",
    "function make_prediction(item, users, R, get_neighborhood)\n",
    "    items, weights = get_neighborhood(item)\n",
    "    predictions = zeros(eltype(weights), length(users))\n",
    "    weight_sum = zeros(eltype(weights), length(users))\n",
    "    for u = 1:length(users)\n",
    "        for (i, weight) in zip(items, weights)\n",
    "            if R[users[u], i] != 0\n",
    "                predictions[u] += weight * R[users[u], i]\n",
    "                weight_sum[u] += abs(weight)\n",
    "            end\n",
    "        end\n",
    "    end\n",
    "    for u = 1:length(users)\n",
    "        if weight_sum[u] != 0\n",
    "            predictions[u] /= weight_sum[u]\n",
    "        end\n",
    "    end\n",
    "    predictions\n",
    "end;"
   ]
  },
  {
   "cell_type": "code",
   "execution_count": 9,
   "id": "5214736f-516e-4d6f-8f0b-92171355ebe5",
   "metadata": {},
   "outputs": [],
   "source": [
    "function collaborative_filtering(training, inference, get_neighborhood)\n",
    "    R = sparse(\n",
    "        training.user,\n",
    "        training.item,\n",
    "        training.rating,\n",
    "        maximum(training.user),\n",
    "        maximum(training.item),\n",
    "    )\n",
    "\n",
    "    el_type = eltype(get_neighborhood(1)[2])\n",
    "    preds = zeros(el_type, length(inference.rating), Threads.nthreads())\n",
    "    @tprogress Threads.@threads for item in collect(Set(inference.item))\n",
    "        mask = inference.item .== item\n",
    "        preds[mask, Threads.threadid()] =\n",
    "            make_prediction(item, inference.user[mask], R, get_neighborhood)\n",
    "    end\n",
    "\n",
    "    vec(sum(preds, dims = 2))\n",
    "end;"
   ]
  },
  {
   "cell_type": "code",
   "execution_count": 10,
   "id": "cb279031-2753-4541-9cb3-3b419d049dc7",
   "metadata": {},
   "outputs": [],
   "source": [
    "function model(users, items, predictions)\n",
    "    result = zeros(length(users))\n",
    "    for i = 1:length(users)\n",
    "        if users[i] < size(predictions)[1] && items[i] < size(predictions)[2]\n",
    "            result[i] = predictions[users[i], items[i]]\n",
    "        end\n",
    "    end\n",
    "    result\n",
    "end;"
   ]
  },
  {
   "cell_type": "code",
   "execution_count": 11,
   "id": "c815cbbe-7300-4c9d-9163-4e554a9752e2",
   "metadata": {},
   "outputs": [],
   "source": [
    "struct cf_params\n",
    "    name::Any\n",
    "    neighborhoods::Any\n",
    "    hyperparams::Any\n",
    "end;"
   ]
  },
  {
   "cell_type": "markdown",
   "id": "d72fdfb8-b818-451d-803b-a610497ae09d",
   "metadata": {
    "tags": []
   },
   "source": [
    "## User based CF"
   ]
  },
  {
   "cell_type": "code",
   "execution_count": 12,
   "id": "f4f7ffb2-61a8-4f16-bd46-95f6cb241998",
   "metadata": {},
   "outputs": [],
   "source": [
    "training_t = RatingsDataset(training.item, training.user, training.rating)\n",
    "validation_t = RatingsDataset(validation.item, validation.user, validation.rating);"
   ]
  },
  {
   "cell_type": "code",
   "execution_count": 13,
   "id": "bb93d2d6-3224-4a71-ac40-5f164cd68f26",
   "metadata": {},
   "outputs": [],
   "source": [
    "# function user_validation_mse(λ)\n",
    "#     @debug \"training model with parameters $λ\"\n",
    "#     user_embeddings = collect(read_params(\"MatrixFactorization\")[\"U\"]')\n",
    "#     neighborhoods = user -> get_embedding_neighborhood(user, user_embeddings, 100, λ[1])\n",
    "#     preds = collaborative_filtering(training_t, validation_t, neighborhoods)\n",
    "#     loss = mse(validation_t.rating, preds)\n",
    "#     @debug \"loss: $loss\"\n",
    "#     loss\n",
    "# end;\n",
    "\n",
    "# # Find the best regularization hyperparameters\n",
    "# res_user_embedding = optimize(\n",
    "#     user_validation_mse,\n",
    "#     [3.],  # intial guess\n",
    "#     LBFGS(),\n",
    "#     autodiff = :forward,\n",
    "#     Optim.Options(show_trace = true, extended_trace = true),\n",
    "# )"
   ]
  },
  {
   "cell_type": "code",
   "execution_count": 14,
   "id": "2c68df95-fa1f-45c3-bea4-e5aedf7fb9d6",
   "metadata": {
    "tags": []
   },
   "outputs": [],
   "source": [
    "# user_ratings = sparse(\n",
    "#     training.item,\n",
    "#     training.user,\n",
    "#     training.rating,\n",
    "#     maximum(training.item),\n",
    "#     maximum(training.user),\n",
    "# )\n",
    "# user_embeddings = collect(read_params(\"MatrixFactorization\")[\"U\"]')\n",
    "# user_cf_params = [\n",
    "#     cf_params(\n",
    "#         \"UserEmbedCF\",\n",
    "#         user -> get_embedding_neighborhood(user, user_embeddings, 200, 0.3),\n",
    "#         Dict(\"K\" => 200, \"λ\" => 0.3),\n",
    "#     ),\n",
    "#     cf_params(\n",
    "#         \"UserEmbedCFReg100\",\n",
    "#         user -> get_embedding_neighborhood(user, user_embeddings, 200, 0.3),\n",
    "#         Dict(\"K\" => 200, \"λ\" => 100),\n",
    "#     ),\n",
    "#     cf_params(\n",
    "#         \"UserCF\",\n",
    "#         user -> get_correlation_neighborhood(user, user_ratings, 200),\n",
    "#         Dict(\"K\" => 200),\n",
    "#     ),\n",
    "#     cf_params(\n",
    "#         \"UserCF1000\",\n",
    "#         user -> get_correlation_neighborhood(user, user_ratings, 1000),\n",
    "#         Dict(\"K\" => 1000),\n",
    "#     ),\n",
    "# ];"
   ]
  },
  {
   "cell_type": "code",
   "execution_count": null,
   "id": "86b14a84-9453-44ba-8966-0eb213c47046",
   "metadata": {},
   "outputs": [
    {
     "name": "stderr",
     "output_type": "stream",
     "text": [
      "\u001b[32mProgress:   6%|█▋                         |  ETA: 9:50:21 (86.91 ms/it)\u001b[39mmt)\u001b[39mm\r"
     ]
    }
   ],
   "source": [
    "# test = get_residuals(\"test\", residual_alphas)\n",
    "# inference_t = RatingsDataset(\n",
    "#     user = [validation.item; test.item],\n",
    "#     item = [validation.user; test.user],\n",
    "#     rating = [validation.rating; test.rating],\n",
    "# )\n",
    "\n",
    "# for param in user_cf_params\n",
    "#     preds = collaborative_filtering(training_t, inference_t, param.neighborhoods)\n",
    "#     sparse_preds = sparse(inference_t.item, inference_t.user, preds)\n",
    "#     write_predictions(\n",
    "#         (users, items) -> model(users, items, sparse_preds),\n",
    "#         outdir = param.name,\n",
    "#     )\n",
    "#     write_params(param.hyperparams, outdir = param.name)\n",
    "# end"
   ]
  },
  {
   "cell_type": "markdown",
   "id": "6c7cfa69-86b7-4e3b-bd69-b4badca61a2c",
   "metadata": {
    "tags": []
   },
   "source": [
    "## Item based CF"
   ]
  },
  {
   "cell_type": "markdown",
   "id": "00642a5c-9d64-4402-b47e-5aece0e97dbf",
   "metadata": {},
   "source": [
    "### optimize hyperparams"
   ]
  },
  {
   "cell_type": "code",
   "execution_count": null,
   "id": "15f29e7a-660b-40b4-be54-722d144416b8",
   "metadata": {},
   "outputs": [],
   "source": [
    "function item_validation_mse(λ)\n",
    "    @debug \"training model with parameters $λ\"\n",
    "    item_embeddings = collect(read_params(\"MatrixFactorization\")[\"A\"]')\n",
    "    neighborhoods = item -> get_embedding_neighborhood(item, item_embeddings, 200, λ[1])\n",
    "    preds = collaborative_filtering(training, validation, neighborhoods)\n",
    "    loss = mse(validation.rating, preds)\n",
    "    @debug \"loss: $loss\"\n",
    "    loss\n",
    "end;"
   ]
  },
  {
   "cell_type": "code",
   "execution_count": null,
   "id": "4fc3b5f2-8526-405e-961f-affd3c379d71",
   "metadata": {
    "tags": []
   },
   "outputs": [],
   "source": [
    "# Find the best regularization hyperparameters\n",
    "res_item_embedding = optimize(\n",
    "    item_validation_mse,\n",
    "    [0.3],  # intial guess\n",
    "    LBFGS(),\n",
    "    autodiff = :forward,\n",
    "    Optim.Options(show_trace = true, extended_trace = true),\n",
    ")"
   ]
  },
  {
   "cell_type": "code",
   "execution_count": null,
   "id": "0c00b2aa-a40c-4374-9631-9918f0f55968",
   "metadata": {
    "tags": []
   },
   "outputs": [],
   "source": [
    "# todo store nhood size\n",
    "item_ratings = sparse(\n",
    "    training.user,\n",
    "    training.item,\n",
    "    training.rating,\n",
    "    maximum(training.user),\n",
    "    maximum(training.item),\n",
    ")\n",
    "item_embeddings = collect(read_params(\"MatrixFactorization\")[\"A\"]')\n",
    "item_cf_params = [\n",
    "    # cf_params(\n",
    "    #     \"ItemEmbedCF\",\n",
    "    #     item -> get_embedding_neighborhood(item, item_embeddings, 200, Optim.minimizer(res_item_embedding)[1]),\n",
    "    #     Dict(\"K\"=>200, \"λ\"=>Optim.minimizer(res_item_embedding)[1])        \n",
    "    # ),\n",
    "    cf_params(\n",
    "        \"ItemEmbedImputeCF\",\n",
    "        item -> get_embedding_neighborhood(item, item_embeddings, 200, Optim.minimizer(res_item_embedding)[1]),\n",
    "        Dict(\"K\"=>200, \"λ\"=>0.3)        \n",
    "    ),    \n",
    "    cf_params(\n",
    "        \"ItemImputeCF\",\n",
    "        item -> get_correlation_neighborhood(item, item_ratings, 200),\n",
    "        Dict(\"K\" => 200),\n",
    "    ),  \n",
    "];"
   ]
  },
  {
   "cell_type": "code",
   "execution_count": null,
   "id": "081c4ed4-5c0d-4567-8b7b-cad6fb13a547",
   "metadata": {},
   "outputs": [],
   "source": [
    "test = get_residuals(\"test\", residual_alphas)\n",
    "inference = RatingsDataset(\n",
    "    user = [validation.user; test.user],\n",
    "    item = [validation.item; test.item],\n",
    "    rating = [validation.rating; test.rating],\n",
    ")\n",
    "\n",
    "for param in item_cf_params\n",
    "    preds = collaborative_filtering(training, inference, param.neighborhoods)\n",
    "    sparse_preds = sparse(inference.user, inference.item, preds)\n",
    "    write_predictions(\n",
    "        (users, items) -> model(users, items, sparse_preds),\n",
    "        outdir = param.name,\n",
    "    )\n",
    "    write_params(param.hyperparams, outdir = param.name)\n",
    "end"
   ]
  }
 ],
 "metadata": {
  "kernelspec": {
   "display_name": "Julia 1.6.3",
   "language": "julia",
   "name": "julia-1.6"
  },
  "language_info": {
   "file_extension": ".jl",
   "mimetype": "application/julia",
   "name": "julia",
   "version": "1.6.3"
  }
 },
 "nbformat": 4,
 "nbformat_minor": 5
}
