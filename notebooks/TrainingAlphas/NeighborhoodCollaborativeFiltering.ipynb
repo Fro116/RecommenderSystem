{
 "cells": [
  {
   "cell_type": "markdown",
   "id": "c3758ece-9b72-47b4-ae6a-aa364e0443e3",
   "metadata": {},
   "source": [
    "# Neighborhood Collaborative Filtering\n",
    "* This notebook implements both item-based and user-based collaborative filtering\n",
    "* Prediction is $\\tilde r_{ij} = \\sum_{k \\in N(j)} r_{ik}w_{kj}$ for item-based collaborative filtering\n",
    "* Prediction is $\\tilde r_{ij} = \\sum_{k \\in N(i)} w_{ik}r_{kj}$ for user-based collaborative filtering\n",
    "* $r_{ij}$ is the rating for user $i$ and item $j$\n",
    "* $w_{kj}$ is the cosine similarity between items $j$ and $k$\n",
    "* $N(j)$ is the largest $K$ items $k$ sorted by $|w_{kj}|$"
   ]
  },
  {
   "cell_type": "code",
   "execution_count": 1,
   "id": "7cc9334a-2287-41d6-885b-a5cca94fe263",
   "metadata": {},
   "outputs": [],
   "source": [
    "name = \"NeighborhoodCollaborativeFiltering\";\n",
    "residual_alphas = [\"UserItemBiases\"];"
   ]
  },
  {
   "cell_type": "code",
   "execution_count": 2,
   "id": "b7fbc147-91d6-4427-bf7a-2d2b6aa06694",
   "metadata": {},
   "outputs": [],
   "source": [
    "using LinearAlgebra\n",
    "using Memoize\n",
    "using SparseArrays\n",
    "# TODO upstream imports"
   ]
  },
  {
   "cell_type": "code",
   "execution_count": 3,
   "id": "d17593ac-3260-4c01-a5df-91edfcd17e13",
   "metadata": {},
   "outputs": [],
   "source": [
    "using NBInclude\n",
    "@nbinclude(\"Alpha.ipynb\");"
   ]
  },
  {
   "cell_type": "markdown",
   "id": "bff8e524-e8f8-48bd-9ca7-c28a05a122b8",
   "metadata": {},
   "source": [
    "## Determine the neighborhoods for each user and item"
   ]
  },
  {
   "cell_type": "code",
   "execution_count": 4,
   "id": "677f2b8c-cf05-4674-b1e3-53cf072d056d",
   "metadata": {},
   "outputs": [],
   "source": [
    "@memoize function get_norms(R)\n",
    "    norms = map(norm, eachslice(R, dims = 2))\n",
    "    norms[norms.==0] .= 1 # prevent division by 0\n",
    "    norms\n",
    "end;"
   ]
  },
  {
   "cell_type": "code",
   "execution_count": 5,
   "id": "3338ca6b-f28a-4d7e-a269-0b9c641a25a9",
   "metadata": {},
   "outputs": [],
   "source": [
    "function get_neighborhood(item, K, R)\n",
    "    norms = get_norms(R)\n",
    "    weights = vec(R[:, item]' * R) ./ norms ./ norms[item]\n",
    "    order = sortperm(abs.(weights), rev = true)[1:K]\n",
    "    order[1:K], weights[order[1:K]]\n",
    "end;"
   ]
  },
  {
   "cell_type": "code",
   "execution_count": 6,
   "id": "00ebb580-b942-4113-8d60-78a83042d876",
   "metadata": {},
   "outputs": [],
   "source": [
    "function make_prediction(item, users, K, R)\n",
    "    items, weights = get_neighborhood(item, K, R)\n",
    "    predictions = zeros(length(users))\n",
    "    weight_sum = zeros(length(users))\n",
    "    for u = 1:length(users)\n",
    "        for (i, weight) in zip(items, weights)\n",
    "            if R[users[u], i] != 0\n",
    "                predictions[u] += weight * R[users[u], i]\n",
    "                weight_sum[u] += abs(weight)\n",
    "            else\n",
    "                # TODO impute?\n",
    "            end\n",
    "        end\n",
    "    end\n",
    "    for u = 1:length(users)\n",
    "        if weight_sum[u] != 0\n",
    "            predictions[u] /= weight_sum[u]\n",
    "        end\n",
    "    end\n",
    "    predictions\n",
    "end;"
   ]
  },
  {
   "cell_type": "code",
   "execution_count": 7,
   "id": "5214736f-516e-4d6f-8f0b-92171355ebe5",
   "metadata": {},
   "outputs": [],
   "source": [
    "function collaborative_filtering(training, validation, K)\n",
    "    R = sparse(\n",
    "        training.user,\n",
    "        training.item,\n",
    "        training.rating,\n",
    "        maximum(training.user),\n",
    "        maximum(training.item),\n",
    "    )\n",
    "\n",
    "    preds = zeros(length(validation.rating), Threads.nthreads())\n",
    "    @tprogress Threads.@threads for item in collect(Set(validation.item))\n",
    "        mask = validation.item .== item\n",
    "        preds[mask, Threads.threadid()] = make_prediction(item, validation.user[mask], K, R)\n",
    "    end\n",
    "\n",
    "    sum(preds, dims = 2)\n",
    "end;"
   ]
  },
  {
   "cell_type": "markdown",
   "id": "6c7cfa69-86b7-4e3b-bd69-b4badca61a2c",
   "metadata": {},
   "source": [
    "## Item based CF"
   ]
  },
  {
   "cell_type": "code",
   "execution_count": 8,
   "id": "e6254242-5b99-40d7-be09-4aa92b7c0723",
   "metadata": {},
   "outputs": [
    {
     "data": {
      "text/plain": [
       "1.6981920453148056"
      ]
     },
     "execution_count": 8,
     "metadata": {},
     "output_type": "execute_result"
    }
   ],
   "source": [
    "baseline_preds = zeros(length(validation.rating))\n",
    "mse(validation.rating, baseline_preds)"
   ]
  },
  {
   "cell_type": "code",
   "execution_count": 9,
   "id": "1f82b242-55b1-461d-888c-4104b8b7691c",
   "metadata": {},
   "outputs": [
    {
     "name": "stderr",
     "output_type": "stream",
     "text": [
      "\u001b[32mProgress: 100%|███████████████████████████| Time: 0:28:33 ( 0.11  s/it)\u001b[39m\n"
     ]
    },
    {
     "data": {
      "text/plain": [
       "1.3567526929280826"
      ]
     },
     "execution_count": 9,
     "metadata": {},
     "output_type": "execute_result"
    }
   ],
   "source": [
    "item_preds = collaborative_filtering(training, validation, 200)\n",
    "mse(validation.rating, item_preds)"
   ]
  },
  {
   "cell_type": "markdown",
   "id": "fd0c8298-386d-4200-b062-2d1dc64bacf9",
   "metadata": {},
   "source": [
    "## User based CF"
   ]
  },
  {
   "cell_type": "code",
   "execution_count": 10,
   "id": "351d03f9-120a-4176-8e49-4282824008cb",
   "metadata": {},
   "outputs": [],
   "source": [
    "training_t = RatingsDataset(training.item, training.user, training.rating)\n",
    "validation_t = RatingsDataset(validation.item, validation.user, validation.rating);"
   ]
  },
  {
   "cell_type": "code",
   "execution_count": null,
   "id": "fdc6af5c-3f60-4d90-bee4-bdcd13762774",
   "metadata": {},
   "outputs": [
    {
     "name": "stderr",
     "output_type": "stream",
     "text": [
      "\u001b[32mProgress:   0%|▏                          |  ETA: 9 days, 6:10:23 ( 1.91  s/it)\u001b[39mm"
     ]
    }
   ],
   "source": [
    "user_preds = collaborative_filtering(training_t, validation_t, 200)\n",
    "mse(validation.rating, user_preds)"
   ]
  },
  {
   "cell_type": "code",
   "execution_count": null,
   "id": "98ece5ba-e3e7-443e-b8e4-52c8d2f3777b",
   "metadata": {},
   "outputs": [],
   "source": [
    "# TODO param optimization\n",
    "# TODO run both user centric and item centric\n",
    "# TODO productionalize"
   ]
  },
  {
   "cell_type": "code",
   "execution_count": null,
   "id": "49744706-2ab0-4833-851d-7977669a0144",
   "metadata": {},
   "outputs": [],
   "source": []
  }
 ],
 "metadata": {
  "kernelspec": {
   "display_name": "Julia 1.6.3",
   "language": "julia",
   "name": "julia-1.6"
  },
  "language_info": {
   "file_extension": ".jl",
   "mimetype": "application/julia",
   "name": "julia",
   "version": "1.6.3"
  }
 },
 "nbformat": 4,
 "nbformat_minor": 5
}
