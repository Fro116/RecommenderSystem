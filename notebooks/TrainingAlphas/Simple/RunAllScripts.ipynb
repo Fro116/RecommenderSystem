{
 "cells": [
  {
   "cell_type": "markdown",
   "id": "db8524cd-af87-464e-a17b-04b0f709f5f4",
   "metadata": {},
   "source": [
    "# Simple\n",
    "* Simple baselines used for debugging purposes"
   ]
  },
  {
   "cell_type": "code",
   "execution_count": null,
   "id": "7df9b9d0-f4e3-4db9-b67d-799c100e8ab9",
   "metadata": {},
   "outputs": [],
   "source": [
    "import os\n",
    "\n",
    "import papermill as pm"
   ]
  },
  {
   "cell_type": "code",
   "execution_count": null,
   "id": "765e3541-52cc-4c47-9dc7-bc7f4ea309d4",
   "metadata": {},
   "outputs": [],
   "source": [
    "data_path = \"../../../data/papermill/training_alphas/simple\"\n",
    "ALL_MEDIUMS = [\"manga\", \"anime\"]\n",
    "for medium in ALL_MEDIUMS:\n",
    "    fn = os.path.join(data_path, medium)\n",
    "    if not os.path.exists(fn):\n",
    "        os.makedirs(fn, exist_ok=True)"
   ]
  },
  {
   "cell_type": "code",
   "execution_count": null,
   "id": "32576416-b64b-4b10-8ca0-6c9ded856272",
   "metadata": {},
   "outputs": [],
   "source": [
    "for medium in ALL_MEDIUMS:\n",
    "    script = \"SimpleRating.ipynb\"\n",
    "    pm.execute_notebook(\n",
    "            script,\n",
    "            os.path.join(data_path, medium, script),\n",
    "            parameters=dict(medium=medium),\n",
    "        )"
   ]
  },
  {
   "cell_type": "code",
   "execution_count": null,
   "id": "77a603be-c28e-4d8f-a749-104c99bc1ad4",
   "metadata": {},
   "outputs": [],
   "source": [
    "for medium in ALL_MEDIUMS:\n",
    "    script = \"SimpleWatch.ipynb\"\n",
    "    for metric in [\"watch\", \"plantowatch\"]:\n",
    "        pm.execute_notebook(\n",
    "            script,\n",
    "            os.path.join(data_path, medium, script),\n",
    "            parameters=dict(medium=medium, metric=metric),\n",
    "        )"
   ]
  },
  {
   "cell_type": "code",
   "execution_count": null,
   "id": "5ee9a30c-5dec-47bc-a840-f43515b44383",
   "metadata": {},
   "outputs": [],
   "source": [
    "for medium in ALL_MEDIUMS:\n",
    "    script = \"SimpleDrop.ipynb\"\n",
    "    pm.execute_notebook(\n",
    "            script,\n",
    "            os.path.join(data_path, medium, script),\n",
    "            parameters=dict(medium=medium),\n",
    "        )"
   ]
  },
  {
   "cell_type": "code",
   "execution_count": null,
   "id": "7a54f872-21b7-49c9-bbcb-6e456e14e68a",
   "metadata": {},
   "outputs": [],
   "source": [
    "for medium in ALL_MEDIUMS:\n",
    "    script = \"SimpleRatingBiases.ipynb\"\n",
    "    pm.execute_notebook(\n",
    "            script,\n",
    "            os.path.join(data_path, medium, script),\n",
    "            parameters=dict(medium=medium),\n",
    "        )"
   ]
  },
  {
   "cell_type": "code",
   "execution_count": null,
   "id": "f7cd304b-1d38-442c-86c8-fd54301afe05",
   "metadata": {
    "editable": true,
    "slideshow": {
     "slide_type": ""
    },
    "tags": [
     "parameters"
    ]
   },
   "outputs": [],
   "source": [
    "print(\"Success!\")"
   ]
  }
 ],
 "metadata": {
  "kernelspec": {
   "display_name": "Python 3 (ipykernel)",
   "language": "python",
   "name": "python3"
  },
  "language_info": {
   "codemirror_mode": {
    "name": "ipython",
    "version": 3
   },
   "file_extension": ".py",
   "mimetype": "text/x-python",
   "name": "python",
   "nbconvert_exporter": "python",
   "pygments_lexer": "ipython3",
   "version": "3.10.12"
  }
 },
 "nbformat": 4,
 "nbformat_minor": 5
}
