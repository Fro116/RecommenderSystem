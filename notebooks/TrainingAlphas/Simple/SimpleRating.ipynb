{
 "cells": [
  {
   "cell_type": "markdown",
   "id": "190db80b-6a3b-42f7-8450-7e2018ee8f67",
   "metadata": {},
   "source": [
    "# Simple Rating\n",
    "* Predicts the global mean across all users and items"
   ]
  },
  {
   "cell_type": "code",
   "execution_count": null,
   "id": "0957d29b-eed3-4b4e-8d93-e19b26535932",
   "metadata": {
    "editable": true,
    "slideshow": {
     "slide_type": ""
    },
    "tags": [
     "parameters"
    ]
   },
   "outputs": [],
   "source": [
    "medium = \"\";"
   ]
  },
  {
   "cell_type": "code",
   "execution_count": null,
   "id": "7eac3262-6b03-452e-a42a-f6a31b290253",
   "metadata": {},
   "outputs": [],
   "source": [
    "import NBInclude: @nbinclude\n",
    "import Statistics: mean\n",
    "@nbinclude(\"../Alpha.ipynb\");"
   ]
  },
  {
   "cell_type": "code",
   "execution_count": null,
   "id": "dbffa338-ebe7-49d0-ac23-dce75a2b1d3e",
   "metadata": {},
   "outputs": [],
   "source": [
    "const metric = \"rating\"\n",
    "const name = \"$medium/Simple/$metric\"\n",
    "set_logging_outdir(name);"
   ]
  },
  {
   "cell_type": "markdown",
   "id": "cce36d71-1acc-4f04-ae14-ba538b2f9e8c",
   "metadata": {
    "tags": []
   },
   "source": [
    "## Training"
   ]
  },
  {
   "cell_type": "code",
   "execution_count": null,
   "id": "0b2f6d56-5dd6-45c0-b90e-c22e0f89566d",
   "metadata": {},
   "outputs": [],
   "source": [
    "const training = get_split(\"training\", \"rating\", \"manga\", [:userid, :itemid, :rating]);"
   ]
  },
  {
   "cell_type": "code",
   "execution_count": null,
   "id": "f41d29fd-1c46-4cc6-ab9d-27c9ac14d65b",
   "metadata": {},
   "outputs": [],
   "source": [
    "const μ = mean(training.rating);"
   ]
  },
  {
   "cell_type": "markdown",
   "id": "a165dfd9-ae30-4da3-afa4-07a1b08eede7",
   "metadata": {},
   "source": [
    "## Inference"
   ]
  },
  {
   "cell_type": "code",
   "execution_count": null,
   "id": "59fb718e-dc9e-4452-b72c-829ae2d843ff",
   "metadata": {},
   "outputs": [],
   "source": [
    "model(users, items) = fill(μ, length(users));"
   ]
  },
  {
   "cell_type": "code",
   "execution_count": null,
   "id": "64a0095a-412b-438c-93db-4ccdab958f53",
   "metadata": {},
   "outputs": [],
   "source": [
    "write_params(Dict(\"μ\" => μ), name);"
   ]
  },
  {
   "cell_type": "code",
   "execution_count": null,
   "id": "e33860e7-037a-45f0-9583-57e9d2e6d45d",
   "metadata": {},
   "outputs": [],
   "source": [
    "write_alpha(model, medium, name, [\"training\", \"test\", \"negative\"]);"
   ]
  },
  {
   "cell_type": "code",
   "execution_count": null,
   "id": "b6955984-db37-4d42-94d2-c830980dc5ed",
   "metadata": {
    "scrolled": true
   },
   "outputs": [],
   "source": [
    "print_losses([name], metric, medium, [\"training\", \"test\"]);"
   ]
  }
 ],
 "metadata": {
  "kernelspec": {
   "display_name": "Julia 1.9.4",
   "language": "julia",
   "name": "julia-1.9"
  },
  "language_info": {
   "file_extension": ".jl",
   "mimetype": "application/julia",
   "name": "julia",
   "version": "1.9.4"
  }
 },
 "nbformat": 4,
 "nbformat_minor": 5
}
