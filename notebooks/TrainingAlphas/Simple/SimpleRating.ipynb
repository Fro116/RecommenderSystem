{
 "cells": [
  {
   "cell_type": "markdown",
   "id": "190db80b-6a3b-42f7-8450-7e2018ee8f67",
   "metadata": {},
   "source": [
    "# Simple Rating\n",
    "* Predicts the global mean across all users and items"
   ]
  },
  {
   "cell_type": "code",
   "execution_count": null,
   "id": "7eac3262-6b03-452e-a42a-f6a31b290253",
   "metadata": {
    "editable": true,
    "slideshow": {
     "slide_type": ""
    },
    "tags": []
   },
   "outputs": [],
   "source": [
    "import NBInclude: @nbinclude\n",
    "@nbinclude(\"../TrainingAlpha.ipynb\");"
   ]
  },
  {
   "cell_type": "code",
   "execution_count": null,
   "id": "0957d29b-eed3-4b4e-8d93-e19b26535932",
   "metadata": {
    "editable": true,
    "slideshow": {
     "slide_type": ""
    },
    "tags": []
   },
   "outputs": [],
   "source": [
    "version = \"\"\n",
    "dataset = \"\"\n",
    "medium = \"\";"
   ]
  },
  {
   "cell_type": "code",
   "execution_count": null,
   "id": "1530afc5-2d72-4874-ade7-119d31d19538",
   "metadata": {
    "editable": true,
    "slideshow": {
     "slide_type": ""
    },
    "tags": []
   },
   "outputs": [],
   "source": [
    "import Statistics: mean"
   ]
  },
  {
   "cell_type": "code",
   "execution_count": null,
   "id": "dac38f32-5c3c-40aa-b74a-0ec98e9cb6e4",
   "metadata": {
    "editable": true,
    "slideshow": {
     "slide_type": ""
    },
    "tags": []
   },
   "outputs": [],
   "source": [
    "const name = \"simple/$version/$dataset/$medium/rating\";"
   ]
  },
  {
   "cell_type": "code",
   "execution_count": null,
   "id": "3ad55a51-da17-447c-bed6-ad5054cc1789",
   "metadata": {
    "editable": true,
    "slideshow": {
     "slide_type": ""
    },
    "tags": []
   },
   "outputs": [],
   "source": [
    "function train_model(dataset)\n",
    "    df = as_metric(get_split(dataset, \"train\", medium, [:rating]), \"rating\")\n",
    "    μ = mean(convert.(Float64, df.rating))\n",
    "    @info μ\n",
    "    write_params(Dict(\"μ\" => convert(Float32, μ)), name)\n",
    "end;"
   ]
  },
  {
   "cell_type": "code",
   "execution_count": null,
   "id": "d6affbd3-2647-4c1c-8542-30842e5e9014",
   "metadata": {
    "editable": true,
    "slideshow": {
     "slide_type": ""
    },
    "tags": []
   },
   "outputs": [],
   "source": [
    "function model(dfs, userids)\n",
    "    params = read_params(name)\n",
    "    μ = params[\"μ\"]\n",
    "    preds = Dict{Int32,Vector{Float32}}()\n",
    "    for u in userids\n",
    "        preds[u] = fill(μ, num_items(medium))\n",
    "    end\n",
    "    preds\n",
    "end;"
   ]
  },
  {
   "cell_type": "code",
   "execution_count": null,
   "id": "2ba43633-de8b-4ee8-9a77-8630c0cc6235",
   "metadata": {},
   "outputs": [],
   "source": [
    "train_model(dataset);"
   ]
  },
  {
   "cell_type": "code",
   "execution_count": null,
   "id": "64a0095a-412b-438c-93db-4ccdab958f53",
   "metadata": {},
   "outputs": [],
   "source": [
    "write_alpha(model, medium, name)\n",
    "print_losses(medium, \"rating\", [name]);"
   ]
  }
 ],
 "metadata": {
  "kernelspec": {
   "display_name": "Julia 1.10.2",
   "language": "julia",
   "name": "julia-1.10"
  },
  "language_info": {
   "file_extension": ".jl",
   "mimetype": "application/julia",
   "name": "julia",
   "version": "1.10.2"
  }
 },
 "nbformat": 4,
 "nbformat_minor": 5
}
