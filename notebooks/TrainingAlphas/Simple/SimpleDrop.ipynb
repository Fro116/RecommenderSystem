{
 "cells": [
  {
   "cell_type": "markdown",
   "id": "190db80b-6a3b-42f7-8450-7e2018ee8f67",
   "metadata": {},
   "source": [
    "# Simple Rating\n",
    "* Predicts the global mean across all users and items"
   ]
  },
  {
   "cell_type": "code",
   "execution_count": null,
   "id": "0957d29b-eed3-4b4e-8d93-e19b26535932",
   "metadata": {
    "editable": true,
    "slideshow": {
     "slide_type": ""
    },
    "tags": [
     "parameters"
    ]
   },
   "outputs": [],
   "source": [
    "medium = \"\";"
   ]
  },
  {
   "cell_type": "code",
   "execution_count": null,
   "id": "7eac3262-6b03-452e-a42a-f6a31b290253",
   "metadata": {},
   "outputs": [],
   "source": [
    "import NBInclude: @nbinclude\n",
    "@nbinclude(\"../TrainingAlpha.ipynb\");"
   ]
  },
  {
   "cell_type": "code",
   "execution_count": null,
   "id": "6fdbd7a8-098c-4005-b3f7-0aaef361e95f",
   "metadata": {},
   "outputs": [],
   "source": [
    "import ProgressMeter: @showprogress\n",
    "import Statistics: mean\n",
    "import StatsBase"
   ]
  },
  {
   "cell_type": "code",
   "execution_count": null,
   "id": "dbffa338-ebe7-49d0-ac23-dce75a2b1d3e",
   "metadata": {},
   "outputs": [],
   "source": [
    "const name = \"$medium/Simple/drop\";"
   ]
  },
  {
   "cell_type": "code",
   "execution_count": null,
   "id": "2f3097c1-4976-4bf4-a93a-b0cfc6ec5e6e",
   "metadata": {},
   "outputs": [],
   "source": [
    "function train_model()\n",
    "    df = as_metric(get_split(\"training\", \"train\", medium, [:itemid, :status]), \"drop\")\n",
    "    counts = StatsBase.countmap(df.itemid)\n",
    "    drops = StatsBase.countmap(df.itemid[df.metric.==1])\n",
    "    drop_rate = Dict{Int32,Float32}()\n",
    "    for k in keys(counts)\n",
    "        drop_rate[k] = get(drops, k, 0) / counts[k]\n",
    "    end\n",
    "    a = Float64[get(drop_rate, i, 0) for i = 1:num_items(medium)]\n",
    "    write_params(Dict(\"a\" => convert.(Float32, a)), name)\n",
    "end;"
   ]
  },
  {
   "cell_type": "code",
   "execution_count": null,
   "id": "d652c798-c823-45a6-9cba-214f35dabb69",
   "metadata": {},
   "outputs": [],
   "source": [
    "function model(rd::RatingsDataset, userids::Set{Int32})\n",
    "    params = read_params(name)\n",
    "    a = params[\"a\"]\n",
    "    preds = Dict{Int32,Vector{Float32}}()\n",
    "    @showprogress for u in userids\n",
    "        preds[u] = copy(a)\n",
    "    end\n",
    "    preds\n",
    "end;"
   ]
  },
  {
   "cell_type": "code",
   "execution_count": null,
   "id": "8daffe27-e46a-435b-9188-78a38f18e70d",
   "metadata": {},
   "outputs": [],
   "source": [
    "train_model();"
   ]
  },
  {
   "cell_type": "code",
   "execution_count": null,
   "id": "c6ba6620-27c6-4210-921b-40fe98051e18",
   "metadata": {},
   "outputs": [],
   "source": [
    "write_alpha(model, medium, name)\n",
    "print_losses(medium, \"drop\", [name]);"
   ]
  }
 ],
 "metadata": {
  "kernelspec": {
   "display_name": "Julia 1.10.2",
   "language": "julia",
   "name": "julia-1.10"
  },
  "language_info": {
   "file_extension": ".jl",
   "mimetype": "application/julia",
   "name": "julia",
   "version": "1.10.2"
  }
 },
 "nbformat": 4,
 "nbformat_minor": 5
}
