{
 "cells": [
  {
   "cell_type": "markdown",
   "id": "190db80b-6a3b-42f7-8450-7e2018ee8f67",
   "metadata": {},
   "source": [
    "# Simple Rating\n",
    "* Predicts the global mean across all users and items"
   ]
  },
  {
   "cell_type": "code",
   "execution_count": null,
   "id": "0957d29b-eed3-4b4e-8d93-e19b26535932",
   "metadata": {
    "editable": true,
    "slideshow": {
     "slide_type": ""
    },
    "tags": [
     "parameters"
    ]
   },
   "outputs": [],
   "source": [
    "medium = \"\";"
   ]
  },
  {
   "cell_type": "code",
   "execution_count": null,
   "id": "7eac3262-6b03-452e-a42a-f6a31b290253",
   "metadata": {},
   "outputs": [],
   "source": [
    "import NBInclude: @nbinclude\n",
    "import Statistics: mean\n",
    "@nbinclude(\"../Alpha.ipynb\");"
   ]
  },
  {
   "cell_type": "code",
   "execution_count": null,
   "id": "dbffa338-ebe7-49d0-ac23-dce75a2b1d3e",
   "metadata": {},
   "outputs": [],
   "source": [
    "const metric = \"drop\"\n",
    "const name = \"$medium/$metric/Simple\"\n",
    "set_logging_outdir(name);"
   ]
  },
  {
   "cell_type": "markdown",
   "id": "cce36d71-1acc-4f04-ae14-ba538b2f9e8c",
   "metadata": {
    "tags": []
   },
   "source": [
    "## Training"
   ]
  },
  {
   "cell_type": "code",
   "execution_count": null,
   "id": "43f5c884-87a2-4d41-a17f-afb805cfb336",
   "metadata": {},
   "outputs": [],
   "source": [
    "function get_drop_rate(split, metric, medium)\n",
    "    df = get_split(split, metric, medium, [:itemid, :metric])\n",
    "    counts = Dict{Int32,Int32}()\n",
    "    drops = Dict{Int32,Int32}()\n",
    "    @showprogress for i = 1:length(df.itemid)\n",
    "        u = df.itemid[i]\n",
    "        if u ∉ keys(counts)\n",
    "            counts[u] = 0\n",
    "            drops[u] = 0\n",
    "        end\n",
    "        counts[u] += 1\n",
    "        drops[u] += df.metric[i]\n",
    "    end\n",
    "    drop_rate = Dict{Int32,Float32}()\n",
    "    for k in keys(counts)\n",
    "        drop_rate[k] = drops[k] / counts[k]\n",
    "    end\n",
    "    drop_rate\n",
    "end;"
   ]
  },
  {
   "cell_type": "code",
   "execution_count": null,
   "id": "bc0d1653-448f-4bd3-9840-cda289af9d7b",
   "metadata": {
    "tags": []
   },
   "outputs": [],
   "source": [
    "const drop_rate = get_drop_rate(\"training\", metric, medium);"
   ]
  },
  {
   "cell_type": "markdown",
   "id": "a165dfd9-ae30-4da3-afa4-07a1b08eede7",
   "metadata": {},
   "source": [
    "## Inference"
   ]
  },
  {
   "cell_type": "code",
   "execution_count": null,
   "id": "59fb718e-dc9e-4452-b72c-829ae2d843ff",
   "metadata": {},
   "outputs": [],
   "source": [
    "function make_prediction(users, items, p)\n",
    "    r = zeros(Float32, length(users))\n",
    "    @showprogress for i = 1:length(r)\n",
    "        if items[i] in keys(p)\n",
    "            r[i] = p[items[i]]\n",
    "        end\n",
    "    end\n",
    "    r\n",
    "end;"
   ]
  },
  {
   "cell_type": "code",
   "execution_count": null,
   "id": "64a0095a-412b-438c-93db-4ccdab958f53",
   "metadata": {},
   "outputs": [],
   "source": [
    "write_params(Dict(\"drop_rate\" => drop_rate), name);"
   ]
  },
  {
   "cell_type": "code",
   "execution_count": null,
   "id": "e4345bc2-e1b2-40b1-bdd6-127b34360510",
   "metadata": {},
   "outputs": [],
   "source": [
    "model(users, items) = make_prediction(users, items, drop_rate);"
   ]
  },
  {
   "cell_type": "code",
   "execution_count": null,
   "id": "e33860e7-037a-45f0-9583-57e9d2e6d45d",
   "metadata": {},
   "outputs": [],
   "source": [
    "write_alpha(model, medium, name, [\"training\", \"validation\", \"test\", \"negative\"]);"
   ]
  },
  {
   "cell_type": "code",
   "execution_count": null,
   "id": "b6955984-db37-4d42-94d2-c830980dc5ed",
   "metadata": {
    "scrolled": true
   },
   "outputs": [],
   "source": [
    "for split in [\"validation\", \"test\"]\n",
    "    val = compute_loss(metric, medium, [name], split)\n",
    "    @info \"$split loss = $val\"\n",
    "end;"
   ]
  }
 ],
 "metadata": {
  "kernelspec": {
   "display_name": "Julia 1.9.2",
   "language": "julia",
   "name": "julia-1.9"
  },
  "language_info": {
   "file_extension": ".jl",
   "mimetype": "application/julia",
   "name": "julia",
   "version": "1.9.2"
  }
 },
 "nbformat": 4,
 "nbformat_minor": 5
}
