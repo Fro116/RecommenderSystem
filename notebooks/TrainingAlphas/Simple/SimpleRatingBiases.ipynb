{
 "cells": [
  {
   "cell_type": "markdown",
   "id": "34f6e653-a085-4ced-98a4-385398a5627d",
   "metadata": {
    "editable": true,
    "slideshow": {
     "slide_type": ""
    },
    "tags": []
   },
   "source": [
    "# Simple Rating Biases\n",
    "* Computes a bias for each user and for each item\n",
    "* Prediction for user $i$ and item $j$ is $\\tilde r_{ij} = m + u_i + a_j$\n",
    "* $m = \\text{mean}_{ij}(r_{ij})$\n",
    "* $u_i = \\text{mean}_j(r_{ij}) - m$\n",
    "* $a_j = \\text{mean}_i(r_{ij}) - m$"
   ]
  },
  {
   "cell_type": "code",
   "execution_count": null,
   "id": "82f10808-a9b7-4db0-89be-00e6d3d3fd79",
   "metadata": {
    "editable": true,
    "slideshow": {
     "slide_type": ""
    },
    "tags": [
     "parameters"
    ]
   },
   "outputs": [],
   "source": [
    "medium = \"\";"
   ]
  },
  {
   "cell_type": "code",
   "execution_count": null,
   "id": "5f693eb8-9aab-4305-a6ee-17e885f3f24d",
   "metadata": {
    "editable": true,
    "slideshow": {
     "slide_type": ""
    },
    "tags": []
   },
   "outputs": [],
   "source": [
    "using DataFrames\n",
    "import NBInclude: @nbinclude\n",
    "import Statistics: mean\n",
    "@nbinclude(\"../Alpha.ipynb\");"
   ]
  },
  {
   "cell_type": "code",
   "execution_count": null,
   "id": "ece661bf-e431-47a9-bdae-29d7e91bfcd3",
   "metadata": {},
   "outputs": [],
   "source": [
    "const metric = \"rating\"\n",
    "const name = \"$medium/$metric/SimpleBiases\"\n",
    "set_logging_outdir(name);"
   ]
  },
  {
   "cell_type": "markdown",
   "id": "cce36d71-1acc-4f04-ae14-ba538b2f9e8c",
   "metadata": {
    "tags": []
   },
   "source": [
    "## Training"
   ]
  },
  {
   "cell_type": "code",
   "execution_count": null,
   "id": "f97c3e4e-dd00-427a-b14f-3ca4a0b864dc",
   "metadata": {},
   "outputs": [],
   "source": [
    "function get_df()\n",
    "    df = get_split(\n",
    "        \"training\",\n",
    "        metric,\n",
    "        medium,\n",
    "        [:userid, :itemid, :rating],\n",
    "        \"$medium/$metric/Simple\",\n",
    "    )\n",
    "    DataFrame(user = df.userid, item = df.itemid, rating = df.rating)\n",
    "end;"
   ]
  },
  {
   "cell_type": "code",
   "execution_count": null,
   "id": "3a5c7b3b-fb78-46e9-b1b3-2e274585b73f",
   "metadata": {
    "scrolled": true
   },
   "outputs": [],
   "source": [
    "const training = get_df();"
   ]
  },
  {
   "cell_type": "code",
   "execution_count": null,
   "id": "f41d29fd-1c46-4cc6-ab9d-27c9ac14d65b",
   "metadata": {},
   "outputs": [],
   "source": [
    "const μ = mean(training.rating);"
   ]
  },
  {
   "cell_type": "code",
   "execution_count": null,
   "id": "f570b0db-a68b-4d66-8e84-a4fa90bc2a59",
   "metadata": {
    "tags": []
   },
   "outputs": [],
   "source": [
    "u = combine(groupby(training, :user), :rating => mean => :rating)\n",
    "u = Dict(Pair.(u.user, u.rating .- μ));"
   ]
  },
  {
   "cell_type": "code",
   "execution_count": null,
   "id": "c33032cf-cf89-45b7-809a-7fd55c1af514",
   "metadata": {},
   "outputs": [],
   "source": [
    "a = combine(groupby(training, :item), :rating => mean => :rating)\n",
    "a = Dict(Pair.(a.item, a.rating .- μ));"
   ]
  },
  {
   "cell_type": "markdown",
   "id": "a165dfd9-ae30-4da3-afa4-07a1b08eede7",
   "metadata": {},
   "source": [
    "## Inference"
   ]
  },
  {
   "cell_type": "code",
   "execution_count": null,
   "id": "59fb718e-dc9e-4452-b72c-829ae2d843ff",
   "metadata": {},
   "outputs": [],
   "source": [
    "function make_prediction(users, items, u, a, μ)\n",
    "    r = zeros(Float32, length(users))\n",
    "    @showprogress for i = 1:length(r)\n",
    "        rating = μ\n",
    "        if users[i] in keys(u)\n",
    "            rating += u[users[i]]\n",
    "        end\n",
    "        if items[i] in keys(a)\n",
    "            rating += a[items[i]]\n",
    "        end\n",
    "        r[i] = rating\n",
    "    end\n",
    "    r\n",
    "end;\n",
    "\n",
    "model(users, items) = make_prediction(users, items, u, a, μ);"
   ]
  },
  {
   "cell_type": "code",
   "execution_count": null,
   "id": "bdd25a26-b2be-4928-b121-209e75e0658b",
   "metadata": {
    "tags": []
   },
   "outputs": [],
   "source": [
    "write_params(Dict(\"u\" => u, \"a\" => a, \"μ\" => μ), name);"
   ]
  },
  {
   "cell_type": "code",
   "execution_count": null,
   "id": "e33860e7-037a-45f0-9583-57e9d2e6d45d",
   "metadata": {},
   "outputs": [],
   "source": [
    "write_alpha(model, medium, name, [\"training\", \"test\", \"negative\"]);"
   ]
  },
  {
   "cell_type": "code",
   "execution_count": null,
   "id": "b6955984-db37-4d42-94d2-c830980dc5ed",
   "metadata": {
    "scrolled": true
   },
   "outputs": [],
   "source": [
    "print_losses([name, \"$medium/$metric/Simple\"], metric, medium, [\"training\", \"test\"]);"
   ]
  }
 ],
 "metadata": {
  "kernelspec": {
   "display_name": "Julia 1.9.4",
   "language": "julia",
   "name": "julia-1.9"
  },
  "language_info": {
   "file_extension": ".jl",
   "mimetype": "application/julia",
   "name": "julia",
   "version": "1.9.4"
  }
 },
 "nbformat": 4,
 "nbformat_minor": 5
}
