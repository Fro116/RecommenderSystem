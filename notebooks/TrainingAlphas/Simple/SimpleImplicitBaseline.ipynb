{
 "cells": [
  {
   "cell_type": "markdown",
   "id": "34f6e653-a085-4ced-98a4-385398a5627d",
   "metadata": {
    "tags": []
   },
   "source": [
    "# Simple Implicit Baseline\n",
    "* Constructs the popularity predictor\n",
    "* Prediction for user $i$ and item $j$ is $\\tilde p_{ij} \\propto |a_j|$ where $|a_j|$ is the number of users that have seen item $j$\n",
    "* Useful as a benchmark to compare more sophicated algorithms against"
   ]
  },
  {
   "cell_type": "code",
   "execution_count": null,
   "id": "7cc9334a-2287-41d6-885b-a5cca94fe263",
   "metadata": {},
   "outputs": [],
   "source": [
    "const name = \"SimpleImplicitBaseline\"\n",
    "const residual_alphas = String[]\n",
    "const content = \"implicit\"\n",
    "const implicit = true;"
   ]
  },
  {
   "cell_type": "code",
   "execution_count": null,
   "id": "5f693eb8-9aab-4305-a6ee-17e885f3f24d",
   "metadata": {
    "tags": []
   },
   "outputs": [],
   "source": [
    "using NBInclude\n",
    "@nbinclude(\"../Alpha.ipynb\");"
   ]
  },
  {
   "cell_type": "markdown",
   "id": "cce36d71-1acc-4f04-ae14-ba538b2f9e8c",
   "metadata": {
    "tags": []
   },
   "source": [
    "## Training"
   ]
  },
  {
   "cell_type": "code",
   "execution_count": null,
   "id": "4fe35a95-4fae-4804-879c-3b6b978f0cf2",
   "metadata": {
    "tags": []
   },
   "outputs": [],
   "source": [
    "const counts = get_counts(\"training\", content; per_rating = false, by_item = true)\n",
    "const popularity = counts / sum(counts)\n",
    "const uniform = fill(1.0f0 / length(popularity), length(popularity));"
   ]
  },
  {
   "cell_type": "markdown",
   "id": "a165dfd9-ae30-4da3-afa4-07a1b08eede7",
   "metadata": {},
   "source": [
    "## Inference"
   ]
  },
  {
   "cell_type": "code",
   "execution_count": null,
   "id": "59fb718e-dc9e-4452-b72c-829ae2d843ff",
   "metadata": {},
   "outputs": [],
   "source": [
    "function make_prediction(users, items, p)\n",
    "    r = Array{eltype(p)}(undef, length(users))\n",
    "    Threads.@threads for i = 1:length(r)\n",
    "        r[i] = p[items[i]]\n",
    "    end\n",
    "    r\n",
    "end;"
   ]
  },
  {
   "cell_type": "code",
   "execution_count": null,
   "id": "b93576c8-a876-41b8-859d-853ff9479b1e",
   "metadata": {},
   "outputs": [],
   "source": [
    "model(users, items) = make_prediction(users, items, popularity);\n",
    "write_alpha(model, residual_alphas, implicit, \"PopularityBaseline\"; log_splits = content)\n",
    "write_params(Dict(\"popularity\" => popularity), \"PopularityBaseline\");"
   ]
  },
  {
   "cell_type": "code",
   "execution_count": null,
   "id": "bdd25a26-b2be-4928-b121-209e75e0658b",
   "metadata": {
    "tags": []
   },
   "outputs": [],
   "source": [
    "model(users, items) = make_prediction(users, items, uniform);\n",
    "write_alpha(model, residual_alphas, implicit, \"UniformBaseline\"; log_splits = content)\n",
    "write_params(Dict(\"uniform\" => uniform), \"UniformBaseline\");"
   ]
  }
 ],
 "metadata": {
  "kernelspec": {
   "display_name": "Julia 1.8.0-rc1",
   "language": "julia",
   "name": "julia-1.8"
  },
  "language_info": {
   "file_extension": ".jl",
   "mimetype": "application/julia",
   "name": "julia",
   "version": "1.8.0"
  }
 },
 "nbformat": 4,
 "nbformat_minor": 5
}
