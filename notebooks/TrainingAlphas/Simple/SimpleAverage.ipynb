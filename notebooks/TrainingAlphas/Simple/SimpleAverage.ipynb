{
 "cells": [
  {
   "cell_type": "markdown",
   "id": "190db80b-6a3b-42f7-8450-7e2018ee8f67",
   "metadata": {},
   "source": [
    "# Simple Average\n",
    "* Outputs the mean score across all (user, item) pairs\n",
    "  * Prediction for user $i$ and item $j$ is $\\tilde r_{ij} = a$\n",
    "  * Loss function is $L = \\sum_\\Omega(r_{ij} - \\tilde r)^2$\n",
    "  * $\\Omega$ is the set of oberved pairs $(i, j)$\n",
    "  * $r_{ij}$ is the rating for user $i$ and item $j$\n",
    "* This is a useful baseline to measure improvements from"
   ]
  },
  {
   "cell_type": "code",
   "execution_count": null,
   "id": "7cc9334a-2287-41d6-885b-a5cca94fe263",
   "metadata": {},
   "outputs": [],
   "source": [
    "const name = \"SimpleAverage\";\n",
    "const residual_alphas = String[];\n",
    "const implicit = false;\n",
    "const content = \"explicit\";"
   ]
  },
  {
   "cell_type": "code",
   "execution_count": null,
   "id": "7eac3262-6b03-452e-a42a-f6a31b290253",
   "metadata": {},
   "outputs": [],
   "source": [
    "import DataFrames: DataFrame\n",
    "import NBInclude: @nbinclude\n",
    "import Statistics: mean\n",
    "@nbinclude(\"../Alpha.ipynb\");"
   ]
  },
  {
   "cell_type": "markdown",
   "id": "cce36d71-1acc-4f04-ae14-ba538b2f9e8c",
   "metadata": {
    "tags": []
   },
   "source": [
    "## Training"
   ]
  },
  {
   "cell_type": "code",
   "execution_count": null,
   "id": "0b2f6d56-5dd6-45c0-b90e-c22e0f89566d",
   "metadata": {},
   "outputs": [],
   "source": [
    "function get_residualized_dataframe(split, content, residual_alphas)\n",
    "    df = get_split(split, content)\n",
    "    residuals = read_alpha(residual_alphas, split, content, implicit)\n",
    "    DataFrame(user = df.user, item = df.item, rating = df.rating - residuals.rating)\n",
    "end\n",
    "\n",
    "const training = get_residualized_dataframe(\"training\", content, residual_alphas);"
   ]
  },
  {
   "cell_type": "code",
   "execution_count": null,
   "id": "f41d29fd-1c46-4cc6-ab9d-27c9ac14d65b",
   "metadata": {},
   "outputs": [],
   "source": [
    "const μ = mean(training.rating);"
   ]
  },
  {
   "cell_type": "markdown",
   "id": "a165dfd9-ae30-4da3-afa4-07a1b08eede7",
   "metadata": {},
   "source": [
    "## Inference"
   ]
  },
  {
   "cell_type": "code",
   "execution_count": null,
   "id": "59fb718e-dc9e-4452-b72c-829ae2d843ff",
   "metadata": {},
   "outputs": [],
   "source": [
    "model(users, items) = fill(μ, length(users));"
   ]
  },
  {
   "cell_type": "code",
   "execution_count": null,
   "id": "e61b0dcd-2e93-4cc0-88bc-202fe56bfa82",
   "metadata": {},
   "outputs": [],
   "source": [
    "write_alpha(\n",
    "    model,\n",
    "    name;\n",
    "    log = true,\n",
    "    log_content = content,\n",
    "    log_alphas = residual_alphas,\n",
    ")"
   ]
  },
  {
   "cell_type": "code",
   "execution_count": null,
   "id": "27d887a2-4b42-43be-9b74-cbc26ca89293",
   "metadata": {},
   "outputs": [],
   "source": [
    "write_params(Dict(\"μ\" => μ), name);"
   ]
  }
 ],
 "metadata": {
  "kernelspec": {
   "display_name": "Julia 1.8.2",
   "language": "julia",
   "name": "julia-1.8"
  },
  "language_info": {
   "file_extension": ".jl",
   "mimetype": "application/julia",
   "name": "julia",
   "version": "1.8.2"
  }
 },
 "nbformat": 4,
 "nbformat_minor": 5
}
