{
 "cells": [
  {
   "cell_type": "markdown",
   "id": "34f6e653-a085-4ced-98a4-385398a5627d",
   "metadata": {
    "editable": true,
    "slideshow": {
     "slide_type": ""
    },
    "tags": []
   },
   "source": [
    "# Simple Watch\n",
    "* Constructs the popularity predictor"
   ]
  },
  {
   "cell_type": "code",
   "execution_count": null,
   "id": "63f1e434-855b-4a00-9b34-d4c82c718f6f",
   "metadata": {
    "tags": [
     "parameters"
    ]
   },
   "outputs": [],
   "source": [
    "medium = \"\"\n",
    "metric = \"\";"
   ]
  },
  {
   "cell_type": "code",
   "execution_count": null,
   "id": "5f693eb8-9aab-4305-a6ee-17e885f3f24d",
   "metadata": {
    "tags": []
   },
   "outputs": [],
   "source": [
    "import NBInclude: @nbinclude\n",
    "@nbinclude(\"../TrainingAlpha.ipynb\");"
   ]
  },
  {
   "cell_type": "code",
   "execution_count": null,
   "id": "a1a389e2-2c44-4718-86fd-e9a7a4e3bd05",
   "metadata": {
    "editable": true,
    "slideshow": {
     "slide_type": ""
    },
    "tags": []
   },
   "outputs": [],
   "source": [
    "import ProgressMeter: @showprogress\n",
    "import Statistics: mean\n",
    "import StatsBase"
   ]
  },
  {
   "cell_type": "code",
   "execution_count": null,
   "id": "7cc9334a-2287-41d6-885b-a5cca94fe263",
   "metadata": {},
   "outputs": [],
   "source": [
    "const name = \"$medium/Simple/$metric\";"
   ]
  },
  {
   "cell_type": "code",
   "execution_count": null,
   "id": "4b255636-142a-4e8e-a4ca-8f6505c57ac4",
   "metadata": {
    "editable": true,
    "slideshow": {
     "slide_type": ""
    },
    "tags": []
   },
   "outputs": [],
   "source": [
    "function train_model()\n",
    "    df = as_metric(get_split(\"training\", \"train\", medium, [:itemid, :status]), metric)\n",
    "    counts = StatsBase.countmap(df.itemid)\n",
    "    a = Float64[get(counts, i, 0) for i = 1:num_items(medium)]\n",
    "    a ./= sum(a)\n",
    "    write_params(Dict(\"a\" => convert.(Float32, a)), name)\n",
    "end;"
   ]
  },
  {
   "cell_type": "code",
   "execution_count": null,
   "id": "5f75a26d-76e2-4b5c-a6e3-1fe4384b48ec",
   "metadata": {
    "editable": true,
    "slideshow": {
     "slide_type": ""
    },
    "tags": []
   },
   "outputs": [],
   "source": [
    "function model(rd::RatingsDataset, userids::Set{Int32})\n",
    "    params = read_params(name)\n",
    "    a = params[\"a\"]\n",
    "    preds = Dict{Int32,Vector{Float32}}()\n",
    "    @showprogress for u in userids\n",
    "        preds[u] = copy(a)\n",
    "    end\n",
    "    preds\n",
    "end;"
   ]
  },
  {
   "cell_type": "code",
   "execution_count": null,
   "id": "2da82a99-f2b1-4307-8251-6462d4db74d0",
   "metadata": {},
   "outputs": [],
   "source": [
    "train_model();"
   ]
  },
  {
   "cell_type": "code",
   "execution_count": null,
   "id": "58b8b4f4-aae8-4f9f-bd08-67c73f59e67f",
   "metadata": {},
   "outputs": [],
   "source": [
    "write_alpha(model, medium, name)\n",
    "print_losses(medium, metric, [name]);"
   ]
  }
 ],
 "metadata": {
  "kernelspec": {
   "display_name": "Julia 1.10.2",
   "language": "julia",
   "name": "julia-1.10"
  },
  "language_info": {
   "file_extension": ".jl",
   "mimetype": "application/julia",
   "name": "julia",
   "version": "1.10.2"
  }
 },
 "nbformat": 4,
 "nbformat_minor": 5
}
