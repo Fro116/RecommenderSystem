{
 "cells": [
  {
   "cell_type": "markdown",
   "id": "34f6e653-a085-4ced-98a4-385398a5627d",
   "metadata": {
    "tags": []
   },
   "source": [
    "# Simple Watch\n",
    "* Constructs the popularity predictor"
   ]
  },
  {
   "cell_type": "code",
   "execution_count": null,
   "id": "63f1e434-855b-4a00-9b34-d4c82c718f6f",
   "metadata": {
    "tags": [
     "parameters"
    ]
   },
   "outputs": [],
   "source": [
    "medium = \"\";\n",
    "metric = \"\";"
   ]
  },
  {
   "cell_type": "code",
   "execution_count": null,
   "id": "5f693eb8-9aab-4305-a6ee-17e885f3f24d",
   "metadata": {
    "tags": []
   },
   "outputs": [],
   "source": [
    "import NBInclude: @nbinclude\n",
    "@nbinclude(\"../Alpha.ipynb\");"
   ]
  },
  {
   "cell_type": "code",
   "execution_count": null,
   "id": "7cc9334a-2287-41d6-885b-a5cca94fe263",
   "metadata": {},
   "outputs": [],
   "source": [
    "const name = \"$medium/$metric/Simple\"\n",
    "set_logging_outdir(name);"
   ]
  },
  {
   "cell_type": "markdown",
   "id": "cce36d71-1acc-4f04-ae14-ba538b2f9e8c",
   "metadata": {
    "tags": []
   },
   "source": [
    "## Training"
   ]
  },
  {
   "cell_type": "code",
   "execution_count": null,
   "id": "c3fddeb4-66d7-4fc6-9934-16ee519f027c",
   "metadata": {},
   "outputs": [],
   "source": [
    "function get_counts(split, metric, medium, col)\n",
    "    data = getfield(get_split(split, metric, medium, [col]), col)\n",
    "    counts = Dict{Int32,Int32}()\n",
    "    @showprogress for i = 1:length(data)\n",
    "        u = data[i]\n",
    "        if u ∉ keys(counts)\n",
    "            counts[u] = 0\n",
    "        end\n",
    "        counts[u] += 1\n",
    "    end\n",
    "    counts\n",
    "end;"
   ]
  },
  {
   "cell_type": "code",
   "execution_count": null,
   "id": "4fe35a95-4fae-4804-879c-3b6b978f0cf2",
   "metadata": {
    "tags": []
   },
   "outputs": [],
   "source": [
    "const counts = get_counts(\"training\", metric, medium, :itemid)\n",
    "const total = sum(values(counts))\n",
    "const popularity = Dict{Int32,Float32}()\n",
    "for (k, v) in counts\n",
    "    popularity[k] = v / total\n",
    "end;"
   ]
  },
  {
   "cell_type": "markdown",
   "id": "a165dfd9-ae30-4da3-afa4-07a1b08eede7",
   "metadata": {},
   "source": [
    "## Inference"
   ]
  },
  {
   "cell_type": "code",
   "execution_count": null,
   "id": "59fb718e-dc9e-4452-b72c-829ae2d843ff",
   "metadata": {},
   "outputs": [],
   "source": [
    "function make_prediction(users, items, p)\n",
    "    r = zeros(Float32, length(users))\n",
    "    @showprogress for i = 1:length(r)\n",
    "        if items[i] in keys(p)\n",
    "            r[i] = p[items[i]]\n",
    "        end\n",
    "    end\n",
    "    r\n",
    "end;"
   ]
  },
  {
   "cell_type": "code",
   "execution_count": null,
   "id": "ba1888ee-5f84-49c9-8cbf-712209cdbe7b",
   "metadata": {},
   "outputs": [],
   "source": [
    "model(users, items) = make_prediction(users, items, popularity);"
   ]
  },
  {
   "cell_type": "code",
   "execution_count": null,
   "id": "f4ef0d39-c391-4d2a-8e72-1abef97f9105",
   "metadata": {},
   "outputs": [],
   "source": [
    "write_params(Dict(\"popularity\" => popularity), name);"
   ]
  },
  {
   "cell_type": "code",
   "execution_count": null,
   "id": "91451931-6aa1-46d1-a9f2-da3fb4a4f451",
   "metadata": {},
   "outputs": [],
   "source": [
    "write_alpha(model, medium, name, [\"test\", \"negative\"]);"
   ]
  },
  {
   "cell_type": "code",
   "execution_count": null,
   "id": "d520f83f-92fb-4752-b32a-3ebefcaed436",
   "metadata": {
    "scrolled": true
   },
   "outputs": [],
   "source": [
    "print_losses([name], metric, medium, [\"test\"]);"
   ]
  }
 ],
 "metadata": {
  "kernelspec": {
   "display_name": "Julia 1.9.4",
   "language": "julia",
   "name": "julia-1.9"
  },
  "language_info": {
   "file_extension": ".jl",
   "mimetype": "application/julia",
   "name": "julia",
   "version": "1.9.4"
  }
 },
 "nbformat": 4,
 "nbformat_minor": 5
}
