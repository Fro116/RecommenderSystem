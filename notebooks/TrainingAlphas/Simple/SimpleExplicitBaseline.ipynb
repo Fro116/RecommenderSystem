{
 "cells": [
  {
   "cell_type": "markdown",
   "id": "34f6e653-a085-4ced-98a4-385398a5627d",
   "metadata": {
    "tags": []
   },
   "source": [
    "# Simple Explicit Baseline\n",
    "* Computes a bias for each user and for each item\n",
    "* Prediction for user $i$ and item $j$ is $\\tilde r_{ij} = m + u_i + a_j$\n",
    "* $m = \\text{mean}_{ij}(r_{ij})$\n",
    "* $u_i = \\text{mean}_j(r_{ij}) - m$\n",
    "* $a_j = \\text{mean}_i(r_{ij}) - m$\n",
    "* $r_{ij}$ is the rating for user $i$ and item $j$\n",
    "* Useful as a benchmark to compare more sophicated algorithms against"
   ]
  },
  {
   "cell_type": "code",
   "execution_count": null,
   "id": "3b160a3d-8d79-4279-bfa1-683b96cd983d",
   "metadata": {
    "tags": [
     "parameters"
    ]
   },
   "outputs": [],
   "source": [
    "medium = \"\"\n",
    "task = \"\";"
   ]
  },
  {
   "cell_type": "code",
   "execution_count": null,
   "id": "7cc9334a-2287-41d6-885b-a5cca94fe263",
   "metadata": {
    "tags": [
     "parameters"
    ]
   },
   "outputs": [],
   "source": [
    "const name = \"$medium/$task/SimpleExplicitBaseline\"\n",
    "const residual_alphas = String[]\n",
    "const content = \"explicit\"\n",
    "const implicit = false;"
   ]
  },
  {
   "cell_type": "code",
   "execution_count": null,
   "id": "5f693eb8-9aab-4305-a6ee-17e885f3f24d",
   "metadata": {
    "tags": []
   },
   "outputs": [],
   "source": [
    "import NBInclude: @nbinclude\n",
    "@nbinclude(\"../Alpha.ipynb\");"
   ]
  },
  {
   "cell_type": "code",
   "execution_count": null,
   "id": "da02e2fb-e2d2-465c-be53-812e8a4a219a",
   "metadata": {},
   "outputs": [],
   "source": [
    "using DataFrames\n",
    "import Statistics: mean"
   ]
  },
  {
   "cell_type": "markdown",
   "id": "cce36d71-1acc-4f04-ae14-ba538b2f9e8c",
   "metadata": {
    "tags": []
   },
   "source": [
    "## Training"
   ]
  },
  {
   "cell_type": "code",
   "execution_count": null,
   "id": "4fe35a95-4fae-4804-879c-3b6b978f0cf2",
   "metadata": {},
   "outputs": [],
   "source": [
    "function get_residualized_dataframe(split, task, content, residual_alphas)\n",
    "    df = get_split(split, task, content, medium)\n",
    "    residuals = read_alpha(residual_alphas, split, task, content, medium, implicit)\n",
    "    DataFrame(user = df.user, item = df.item, rating = df.rating - residuals.rating)\n",
    "end\n",
    "\n",
    "const training = get_residualized_dataframe(\"training\", task, content, residual_alphas);"
   ]
  },
  {
   "cell_type": "code",
   "execution_count": null,
   "id": "f41d29fd-1c46-4cc6-ab9d-27c9ac14d65b",
   "metadata": {},
   "outputs": [],
   "source": [
    "const μ = mean(training.rating);"
   ]
  },
  {
   "cell_type": "code",
   "execution_count": null,
   "id": "f570b0db-a68b-4d66-8e84-a4fa90bc2a59",
   "metadata": {
    "tags": []
   },
   "outputs": [],
   "source": [
    "u = combine(groupby(training, :user), :rating => mean => :rating)\n",
    "u = Dict(Pair.(u.user, u.rating .- μ));"
   ]
  },
  {
   "cell_type": "code",
   "execution_count": null,
   "id": "c33032cf-cf89-45b7-809a-7fd55c1af514",
   "metadata": {},
   "outputs": [],
   "source": [
    "a = combine(groupby(training, :item), :rating => mean => :rating)\n",
    "a = Dict(Pair.(a.item, a.rating .- μ));"
   ]
  },
  {
   "cell_type": "markdown",
   "id": "a165dfd9-ae30-4da3-afa4-07a1b08eede7",
   "metadata": {},
   "source": [
    "## Inference"
   ]
  },
  {
   "cell_type": "code",
   "execution_count": null,
   "id": "59fb718e-dc9e-4452-b72c-829ae2d843ff",
   "metadata": {},
   "outputs": [],
   "source": [
    "function make_prediction(users, items, u, a, μ)\n",
    "    r = Array{eltype(μ)}(undef, length(users))\n",
    "    Threads.@threads for i = 1:length(r)\n",
    "        rating = μ\n",
    "        if users[i] in keys(u)\n",
    "            rating += u[users[i]] \n",
    "        end\n",
    "        if items[i] in keys(a)\n",
    "            rating += a[items[i]]\n",
    "        end        \n",
    "        r[i] = rating\n",
    "    end\n",
    "    r\n",
    "end;\n",
    "\n",
    "model(users, items) = make_prediction(users, items, u, a, μ);"
   ]
  },
  {
   "cell_type": "code",
   "execution_count": null,
   "id": "b93576c8-a876-41b8-859d-853ff9479b1e",
   "metadata": {},
   "outputs": [],
   "source": [
    "write_alpha(\n",
    "    model,\n",
    "    medium,\n",
    "    name;\n",
    "    log = true,\n",
    "    log_task = task,\n",
    "    log_content = content,\n",
    "    log_alphas = residual_alphas,\n",
    ")"
   ]
  },
  {
   "cell_type": "code",
   "execution_count": null,
   "id": "bdd25a26-b2be-4928-b121-209e75e0658b",
   "metadata": {
    "tags": []
   },
   "outputs": [],
   "source": [
    "write_params(Dict(\"u\" => u, \"a\" => a, \"μ\" => μ), name);"
   ]
  }
 ],
 "metadata": {
  "kernelspec": {
   "display_name": "Julia 1.9.0-rc2",
   "language": "julia",
   "name": "julia-1.9"
  },
  "language_info": {
   "file_extension": ".jl",
   "mimetype": "application/julia",
   "name": "julia",
   "version": "1.9.0"
  }
 },
 "nbformat": 4,
 "nbformat_minor": 5
}
