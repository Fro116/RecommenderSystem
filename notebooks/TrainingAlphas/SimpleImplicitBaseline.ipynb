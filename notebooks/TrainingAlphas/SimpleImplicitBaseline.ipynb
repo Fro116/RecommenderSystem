{
 "cells": [
  {
   "cell_type": "markdown",
   "id": "34f6e653-a085-4ced-98a4-385398a5627d",
   "metadata": {
    "tags": []
   },
   "source": [
    "# Simple Implicit Baseline\n",
    "* Constructs the popularity predictor\n",
    "* Prediction for user $i$ and item $j$ is $\\tilde p_{ij} \\propto |a_j|$ where $|a_j|$ is the number of users that have seen item $j$\n",
    "* Useful as a benchmark to compare more sophicated algorithms against"
   ]
  },
  {
   "cell_type": "code",
   "execution_count": 1,
   "id": "7cc9334a-2287-41d6-885b-a5cca94fe263",
   "metadata": {},
   "outputs": [],
   "source": [
    "const name = \"SimpleImplicitBaseline\";\n",
    "const residual_alphas = [];"
   ]
  },
  {
   "cell_type": "code",
   "execution_count": 2,
   "id": "5f693eb8-9aab-4305-a6ee-17e885f3f24d",
   "metadata": {
    "tags": []
   },
   "outputs": [],
   "source": [
    "using NBInclude\n",
    "@nbinclude(\"Alpha.ipynb\");"
   ]
  },
  {
   "cell_type": "code",
   "execution_count": 3,
   "id": "da02e2fb-e2d2-465c-be53-812e8a4a219a",
   "metadata": {},
   "outputs": [],
   "source": [
    "using DataFrames\n",
    "using DataStructures"
   ]
  },
  {
   "cell_type": "markdown",
   "id": "cce36d71-1acc-4f04-ae14-ba538b2f9e8c",
   "metadata": {
    "tags": []
   },
   "source": [
    "## Training"
   ]
  },
  {
   "cell_type": "code",
   "execution_count": 4,
   "id": "4fe35a95-4fae-4804-879c-3b6b978f0cf2",
   "metadata": {
    "tags": []
   },
   "outputs": [
    {
     "name": "stderr",
     "output_type": "stream",
     "text": [
      "\u001b[32mProgress: 100%|███████████████████████████| Time: 0:00:02 ( 0.22 μs/it)\u001b[39m39m\n"
     ]
    }
   ],
   "source": [
    "const counts = get_counts(\"training\"; per_rating = false, by_item = true)\n",
    "const popularity = counts / sum(counts)\n",
    "const uniform = fill(1.0f0 / length(popularity), length(popularity));"
   ]
  },
  {
   "cell_type": "markdown",
   "id": "a165dfd9-ae30-4da3-afa4-07a1b08eede7",
   "metadata": {},
   "source": [
    "## Inference"
   ]
  },
  {
   "cell_type": "code",
   "execution_count": 5,
   "id": "59fb718e-dc9e-4452-b72c-829ae2d843ff",
   "metadata": {},
   "outputs": [],
   "source": [
    "function make_prediction(users, items, p)\n",
    "    r = zeros(eltype(p), length(users))\n",
    "    Threads.@threads for i = 1:length(r)\n",
    "        r[i] = p[items[i]]\n",
    "    end\n",
    "    r\n",
    "end;"
   ]
  },
  {
   "cell_type": "code",
   "execution_count": 6,
   "id": "b93576c8-a876-41b8-859d-853ff9479b1e",
   "metadata": {},
   "outputs": [
    {
     "name": "stderr",
     "output_type": "stream",
     "text": [
      "\u001b[32mProgress: 100%|███████████████████████████| Time: 0:00:00 (34.98 ns/it)\u001b[39m\n",
      "\u001b[38;5;6m\u001b[1m[ \u001b[22m\u001b[39m\u001b[38;5;6m\u001b[1mInfo: \u001b[22m\u001b[39m20220514 19:14:31 training set weighted-loss: Cross-Entropy loss 7.3662877\n",
      "\u001b[38;5;6m\u001b[1m[ \u001b[22m\u001b[39m\u001b[38;5;6m\u001b[1mInfo: \u001b[22m\u001b[39m20220514 19:14:32 validation set weighted-loss: Cross-Entropy loss 7.40994\n"
     ]
    }
   ],
   "source": [
    "model(users, items) = make_prediction(users, items, popularity);\n",
    "write_predictions(\n",
    "    model;\n",
    "    outdir = \"PopularityBaseline\",\n",
    "    residual_alphas = residual_alphas,\n",
    "    implicit = true,\n",
    ")\n",
    "write_params(Dict(\"popularity\" => popularity), outdir = \"PopularityBaseline\");"
   ]
  },
  {
   "cell_type": "code",
   "execution_count": 7,
   "id": "bdd25a26-b2be-4928-b121-209e75e0658b",
   "metadata": {
    "tags": []
   },
   "outputs": [
    {
     "name": "stderr",
     "output_type": "stream",
     "text": [
      "\u001b[38;5;6m\u001b[1m[ \u001b[22m\u001b[39m\u001b[38;5;6m\u001b[1mInfo: \u001b[22m\u001b[39m20220514 19:14:57 training set weighted-loss: Cross-Entropy loss 9.849664\n",
      "\u001b[38;5;6m\u001b[1m[ \u001b[22m\u001b[39m\u001b[38;5;6m\u001b[1mInfo: \u001b[22m\u001b[39m20220514 19:14:57 validation set weighted-loss: Cross-Entropy loss 9.849667\n"
     ]
    }
   ],
   "source": [
    "model(users, items) = make_prediction(users, items, uniform);\n",
    "write_predictions(\n",
    "    model;\n",
    "    outdir = \"UniformBaseline\",\n",
    "    residual_alphas = residual_alphas,\n",
    "    implicit = true,\n",
    ")\n",
    "write_params(Dict(\"uniform\" => uniform), outdir = \"UniformBaseline\");"
   ]
  }
 ],
 "metadata": {
  "kernelspec": {
   "display_name": "Julia 1.7.2",
   "language": "julia",
   "name": "julia-1.7"
  },
  "language_info": {
   "file_extension": ".jl",
   "mimetype": "application/julia",
   "name": "julia",
   "version": "1.7.2"
  }
 },
 "nbformat": 4,
 "nbformat_minor": 5
}
