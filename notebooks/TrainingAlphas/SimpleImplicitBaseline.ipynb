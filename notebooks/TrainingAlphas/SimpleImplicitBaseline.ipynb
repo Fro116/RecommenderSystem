{
 "cells": [
  {
   "cell_type": "markdown",
   "id": "34f6e653-a085-4ced-98a4-385398a5627d",
   "metadata": {
    "tags": []
   },
   "source": [
    "# Simple Implicit Baseline\n",
    "* Constructs the popularity predictor\n",
    "* Prediction for user $i$ and item $j$ is $\\tilde p_{ij} \\propto |a_j|$ where $|a_j|$ is the number of users that have seen item $j$\n",
    "* Useful as a benchmark to compare more sophicated algorithms against"
   ]
  },
  {
   "cell_type": "code",
   "execution_count": 1,
   "id": "7cc9334a-2287-41d6-885b-a5cca94fe263",
   "metadata": {},
   "outputs": [],
   "source": [
    "const name = \"SimpleImplicitBaseline\"\n",
    "const residual_alphas = []\n",
    "const implicit = true;"
   ]
  },
  {
   "cell_type": "code",
   "execution_count": 2,
   "id": "5f693eb8-9aab-4305-a6ee-17e885f3f24d",
   "metadata": {
    "tags": []
   },
   "outputs": [],
   "source": [
    "using NBInclude\n",
    "@nbinclude(\"Alpha.ipynb\");"
   ]
  },
  {
   "cell_type": "markdown",
   "id": "cce36d71-1acc-4f04-ae14-ba538b2f9e8c",
   "metadata": {
    "tags": []
   },
   "source": [
    "## Training"
   ]
  },
  {
   "cell_type": "code",
   "execution_count": 3,
   "id": "4fe35a95-4fae-4804-879c-3b6b978f0cf2",
   "metadata": {
    "tags": []
   },
   "outputs": [
    {
     "name": "stderr",
     "output_type": "stream",
     "text": [
      "\u001b[32mProgress: 100%|███████████████████████████| Time: 0:00:04 (23.18 ns/it)\u001b[39m[39m\n"
     ]
    }
   ],
   "source": [
    "const counts = get_counts(\"training\", implicit; per_rating = false, by_item = true)\n",
    "const popularity = counts / sum(counts)\n",
    "const uniform = fill(1.0f0 / length(popularity), length(popularity));"
   ]
  },
  {
   "cell_type": "markdown",
   "id": "a165dfd9-ae30-4da3-afa4-07a1b08eede7",
   "metadata": {},
   "source": [
    "## Inference"
   ]
  },
  {
   "cell_type": "code",
   "execution_count": 4,
   "id": "59fb718e-dc9e-4452-b72c-829ae2d843ff",
   "metadata": {},
   "outputs": [],
   "source": [
    "function make_prediction(users, items, p)\n",
    "    r = Array{eltype(p)}(undef, length(users))\n",
    "    Threads.@threads for i = 1:length(r)\n",
    "        r[i] = p[items[i]]\n",
    "    end\n",
    "    r\n",
    "end;"
   ]
  },
  {
   "cell_type": "code",
   "execution_count": 5,
   "id": "b93576c8-a876-41b8-859d-853ff9479b1e",
   "metadata": {},
   "outputs": [
    {
     "name": "stderr",
     "output_type": "stream",
     "text": [
      "\u001b[32mProgress: 100%|███████████████████████████| Time: 0:00:00 (22.40 ns/it)\u001b[39m\n",
      "\u001b[38;5;6m\u001b[1m[ \u001b[22m\u001b[39m\u001b[38;5;6m\u001b[1mInfo: \u001b[22m\u001b[39m20220608 00:48:41 validation loss: 7.4751573, β: Float32[2.0299483f-6, 0.999998]\n",
      "\u001b[32mProgress: 100%|███████████████████████████| Time: 0:00:03 (20.26 ns/it)\u001b[39m\n",
      "\u001b[38;5;6m\u001b[1m[ \u001b[22m\u001b[39m\u001b[38;5;6m\u001b[1mInfo: \u001b[22m\u001b[39m20220608 00:48:48 training loss: 7.438401, β: Float32[2.0299483f-6, 0.999998]\n"
     ]
    }
   ],
   "source": [
    "model(users, items) = make_prediction(users, items, popularity);\n",
    "write_alpha(model, residual_alphas, implicit, \"PopularityBaseline\")\n",
    "write_params(Dict(\"popularity\" => popularity), \"PopularityBaseline\");"
   ]
  },
  {
   "cell_type": "code",
   "execution_count": 6,
   "id": "bdd25a26-b2be-4928-b121-209e75e0658b",
   "metadata": {
    "tags": []
   },
   "outputs": [
    {
     "name": "stderr",
     "output_type": "stream",
     "text": [
      "\u001b[38;5;6m\u001b[1m[ \u001b[22m\u001b[39m\u001b[38;5;6m\u001b[1mInfo: \u001b[22m\u001b[39m20220608 00:48:51 validation loss: 9.849666, β: Float32[0.5, 0.5]\n",
      "\u001b[38;5;6m\u001b[1m[ \u001b[22m\u001b[39m\u001b[38;5;6m\u001b[1mInfo: \u001b[22m\u001b[39m20220608 00:48:54 training loss: 9.849665, β: Float32[0.5, 0.5]\n"
     ]
    }
   ],
   "source": [
    "model(users, items) = make_prediction(users, items, uniform);\n",
    "write_alpha(model, residual_alphas, implicit, \"UniformBaseline\")\n",
    "write_params(Dict(\"uniform\" => uniform), \"UniformBaseline\");"
   ]
  }
 ],
 "metadata": {
  "kernelspec": {
   "display_name": "Julia 1.8.0-rc1",
   "language": "julia",
   "name": "julia-1.8"
  },
  "language_info": {
   "file_extension": ".jl",
   "mimetype": "application/julia",
   "name": "julia",
   "version": "1.8.0"
  }
 },
 "nbformat": 4,
 "nbformat_minor": 5
}
