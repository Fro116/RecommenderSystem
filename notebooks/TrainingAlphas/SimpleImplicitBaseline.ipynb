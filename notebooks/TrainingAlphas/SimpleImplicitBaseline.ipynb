{
 "cells": [
  {
   "cell_type": "markdown",
   "id": "34f6e653-a085-4ced-98a4-385398a5627d",
   "metadata": {
    "tags": []
   },
   "source": [
    "# Simple Implicit Baseline\n",
    "* Constructs the popularity predictor\n",
    "* Prediction for user $i$ and item $j$ is $\\tilde p_{ij} \\propto |a_j|$ where $|a_j|$ is the number of users that have seen item $j$\n",
    "* Useful as a benchmark to compare more sophicated algorithms against"
   ]
  },
  {
   "cell_type": "code",
   "execution_count": 1,
   "id": "7cc9334a-2287-41d6-885b-a5cca94fe263",
   "metadata": {},
   "outputs": [],
   "source": [
    "const name = \"SimpleImplicitBaseline\"\n",
    "const residual_alphas = []\n",
    "const implicit = true;"
   ]
  },
  {
   "cell_type": "code",
   "execution_count": 2,
   "id": "5f693eb8-9aab-4305-a6ee-17e885f3f24d",
   "metadata": {
    "tags": []
   },
   "outputs": [],
   "source": [
    "using NBInclude\n",
    "@nbinclude(\"Alpha.ipynb\");"
   ]
  },
  {
   "cell_type": "markdown",
   "id": "cce36d71-1acc-4f04-ae14-ba538b2f9e8c",
   "metadata": {
    "tags": []
   },
   "source": [
    "## Training"
   ]
  },
  {
   "cell_type": "code",
   "execution_count": 3,
   "id": "4fe35a95-4fae-4804-879c-3b6b978f0cf2",
   "metadata": {
    "tags": []
   },
   "outputs": [
    {
     "name": "stderr",
     "output_type": "stream",
     "text": [
      "\u001b[32mProgress: 100%|███████████████████████████| Time: 0:00:00 (37.87 ns/it)\u001b[39m39m\n"
     ]
    }
   ],
   "source": [
    "const counts = get_counts(\"training\", implicit; per_rating = false, by_item = true)\n",
    "const popularity = counts / sum(counts)\n",
    "const uniform = fill(1.0f0 / length(popularity), length(popularity));"
   ]
  },
  {
   "cell_type": "markdown",
   "id": "a165dfd9-ae30-4da3-afa4-07a1b08eede7",
   "metadata": {},
   "source": [
    "## Inference"
   ]
  },
  {
   "cell_type": "code",
   "execution_count": 4,
   "id": "59fb718e-dc9e-4452-b72c-829ae2d843ff",
   "metadata": {},
   "outputs": [],
   "source": [
    "function make_prediction(users, items, p)\n",
    "    r = Array{eltype(p)}(undef, length(users))\n",
    "    Threads.@threads for i = 1:length(r)\n",
    "        r[i] = p[items[i]]\n",
    "    end\n",
    "    r\n",
    "end;"
   ]
  },
  {
   "cell_type": "code",
   "execution_count": 5,
   "id": "b93576c8-a876-41b8-859d-853ff9479b1e",
   "metadata": {},
   "outputs": [
    {
     "name": "stdout",
     "output_type": "stream",
     "text": [
      "Iter     Function value   Gradient norm \n",
      "     0     7.902419e+00     3.769476e-01\n",
      " * time: 0.008692026138305664\n",
      "     1     7.538134e+00     1.502964e-01\n",
      " * time: 1.504159927368164\n",
      "     2     7.425588e+00     4.967177e-02\n",
      " * time: 2.6500580310821533\n",
      "     3     7.393539e+00     1.777035e-02\n",
      " * time: 3.77115797996521\n",
      "     4     7.382235e+00     6.187834e-03\n",
      " * time: 4.919655084609985\n",
      "     5     7.378307e+00     2.147889e-03\n",
      " * time: 6.029160022735596\n",
      "     6     7.376985e+00     7.924328e-04\n",
      " * time: 7.146959066390991\n",
      "     7     7.376495e+00     2.939333e-04\n",
      " * time: 8.25795292854309\n",
      "     8     7.376314e+00     1.094723e-04\n",
      " * time: 9.429845094680786\n",
      "     9     7.376245e+00     4.032288e-05\n",
      " * time: 10.5137300491333\n",
      "    10     7.376220e+00     1.482761e-05\n",
      " * time: 11.694255113601685\n",
      "    11     7.376211e+00     5.428101e-06\n",
      " * time: 12.852505922317505\n",
      "    12     7.376207e+00     1.965484e-06\n",
      " * time: 13.942637920379639\n",
      "    13     7.376205e+00     6.624917e-07\n",
      " * time: 15.06036901473999\n"
     ]
    },
    {
     "name": "stderr",
     "output_type": "stream",
     "text": [
      "\u001b[38;5;6m\u001b[1m[ \u001b[22m\u001b[39m\u001b[38;5;6m\u001b[1mInfo: \u001b[22m\u001b[39m20220621 20:54:44 validation loss: 7.3762054, β: Float32[1.2910174f-6, 0.9999987]\n",
      "\u001b[32mProgress: 100%|███████████████████████████| Time: 0:00:00 ( 8.54 ns/it)\u001b[39m\n",
      "\u001b[38;5;6m\u001b[1m[ \u001b[22m\u001b[39m\u001b[38;5;6m\u001b[1mInfo: \u001b[22m\u001b[39m20220621 20:54:47 training loss: 7.339858, β: Float32[1.2910174f-6, 0.9999987]\n"
     ]
    }
   ],
   "source": [
    "model(users, items) = make_prediction(users, items, popularity);\n",
    "write_alpha(model, residual_alphas, implicit, \"PopularityBaseline\")\n",
    "write_params(Dict(\"popularity\" => popularity), \"PopularityBaseline\");"
   ]
  },
  {
   "cell_type": "code",
   "execution_count": 6,
   "id": "bdd25a26-b2be-4928-b121-209e75e0658b",
   "metadata": {
    "tags": []
   },
   "outputs": [
    {
     "name": "stdout",
     "output_type": "stream",
     "text": [
      "Iter     Function value   Gradient norm \n",
      "     0     9.920342e+00     0.000000e+00\n",
      " * time: 2.3126602172851562e-5\n"
     ]
    },
    {
     "name": "stderr",
     "output_type": "stream",
     "text": [
      "\u001b[38;5;6m\u001b[1m[ \u001b[22m\u001b[39m\u001b[38;5;6m\u001b[1mInfo: \u001b[22m\u001b[39m20220621 20:54:56 validation loss: 9.920342, β: Float32[0.5, 0.5]\n",
      "\u001b[38;5;6m\u001b[1m[ \u001b[22m\u001b[39m\u001b[38;5;6m\u001b[1mInfo: \u001b[22m\u001b[39m20220621 20:54:59 training loss: 9.920344, β: Float32[0.5, 0.5]\n"
     ]
    }
   ],
   "source": [
    "model(users, items) = make_prediction(users, items, uniform);\n",
    "write_alpha(model, residual_alphas, implicit, \"UniformBaseline\")\n",
    "write_params(Dict(\"uniform\" => uniform), \"UniformBaseline\");"
   ]
  }
 ],
 "metadata": {
  "kernelspec": {
   "display_name": "Julia 1.8.0-rc1",
   "language": "julia",
   "name": "julia-1.8"
  },
  "language_info": {
   "file_extension": ".jl",
   "mimetype": "application/julia",
   "name": "julia",
   "version": "1.8.0"
  }
 },
 "nbformat": 4,
 "nbformat_minor": 5
}
