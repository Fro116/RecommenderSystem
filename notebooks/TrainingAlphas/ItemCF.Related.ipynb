{
 "cells": [
  {
   "cell_type": "markdown",
   "id": "c3758ece-9b72-47b4-ae6a-aa364e0443e3",
   "metadata": {},
   "source": [
    "# Item Collaborative Filtering\n",
    "* See `ItemCollaborativeFiltering,Base.ipynb` for algorithm details\n",
    "* We construct a graph $G$ where the vertices are items and edges are relations (sequel, prequel, etc.)\n",
    "* $w_{ij}$ is the length of the shortest path between items $i,j$ in $G$"
   ]
  },
  {
   "cell_type": "code",
   "execution_count": 1,
   "id": "7cc9334a-2287-41d6-885b-a5cca94fe263",
   "metadata": {},
   "outputs": [],
   "source": [
    "name = \"ItemCF.Related\";"
   ]
  },
  {
   "cell_type": "code",
   "execution_count": 2,
   "id": "d17593ac-3260-4c01-a5df-91edfcd17e13",
   "metadata": {},
   "outputs": [],
   "source": [
    "using NBInclude\n",
    "@nbinclude(\"ItemCF.Base.ipynb\");"
   ]
  },
  {
   "cell_type": "code",
   "execution_count": 3,
   "id": "7e4b4828-4e13-4d43-aaf2-88d168be8b2e",
   "metadata": {},
   "outputs": [],
   "source": [
    "using DataFrames"
   ]
  },
  {
   "cell_type": "markdown",
   "id": "bff8e524-e8f8-48bd-9ca7-c28a05a122b8",
   "metadata": {},
   "source": [
    "## Compute similarity matrices"
   ]
  },
  {
   "cell_type": "code",
   "execution_count": 4,
   "id": "f3125135-9a7d-4f1a-b63b-cc33dca04cce",
   "metadata": {},
   "outputs": [],
   "source": [
    "function get_similarity_matrix(relationships)\n",
    "    file = \"../../data/processed_data/related_series.csv\"\n",
    "    df = DataFrame(CSV.File(file))\n",
    "    df = filter(x -> x.relationship ∈ relationships, df)\n",
    "    num_items = maximum(get_split(\"training\").item)\n",
    "    sparse(\n",
    "        df.source .+ 1,\n",
    "        df.target .+ 1,\n",
    "        fill(1.0, length(df.source)),\n",
    "        num_items,\n",
    "        num_items,\n",
    "    )\n",
    "end;"
   ]
  },
  {
   "cell_type": "code",
   "execution_count": 5,
   "id": "9accac32-ce5d-49b2-b161-2caf4368514b",
   "metadata": {},
   "outputs": [],
   "source": [
    "function all_pairs_shortest_paths(S)\n",
    "    # uses the optimization that all edges are weight 1\n",
    "    dists = fill(Inf, size(S)...)\n",
    "    for v = 1:size(S)[1]\n",
    "        dists[v, v] = 0\n",
    "    end\n",
    "    T = I(size(S)[1])\n",
    "\n",
    "    @showprogress for epoch = 1:size(S)[1]\n",
    "        T = T * S\n",
    "        change = false\n",
    "        for (i, j, v) in zip(findnz(T)...)\n",
    "            if dists[i, j] > epoch\n",
    "                dists[i, j] = epoch\n",
    "                change = true\n",
    "            end\n",
    "        end\n",
    "        if !change\n",
    "            break\n",
    "        end\n",
    "    end\n",
    "    dists\n",
    "end;"
   ]
  },
  {
   "cell_type": "code",
   "execution_count": 6,
   "id": "c9572dd9-db8e-4b1c-83ca-cacc666325f9",
   "metadata": {},
   "outputs": [],
   "source": [
    "function get_similarity_matrix_outdir(relationships)\n",
    "    # if the matrix is already stored on disk, return its filepath\n",
    "    # otherwise, regenerate the matrix and store it to disk\n",
    "    outdir = \"$name/$(hash(relationships))\"\n",
    "    if ispath(\"../../data/alphas/$outdir\")\n",
    "        return outdir\n",
    "    end\n",
    "\n",
    "    @debug \"generating similarity matrix for relationships $relationships\"\n",
    "    S = get_similarity_matrix(relationships)\n",
    "    S = collect(1 ./ all_pairs_shortest_paths(S))\n",
    "    S = convert.(Float32, S)\n",
    "    write_params(Dict(\"S\" => S), outdir = outdir)\n",
    "    outdir\n",
    "end;"
   ]
  },
  {
   "cell_type": "markdown",
   "id": "85910c72-6e77-4dbd-8991-6ad3b81035a7",
   "metadata": {},
   "source": [
    "## Setup hyperparameters"
   ]
  },
  {
   "cell_type": "code",
   "execution_count": 7,
   "id": "103cb5c6-a320-4019-9c63-2cbc52e6e7e7",
   "metadata": {},
   "outputs": [],
   "source": [
    "all_relations = [\n",
    "    \"side_story\",\n",
    "    \"summary\",\n",
    "    \"parent_story\",\n",
    "    \"sequel\",\n",
    "    \"prequel\",\n",
    "    \"character\",\n",
    "    \"alternative_version\",\n",
    "    \"other\",\n",
    "    \"spin_off\",\n",
    "    \"alternative_setting\",\n",
    "    \"full_story\",\n",
    "];"
   ]
  },
  {
   "cell_type": "code",
   "execution_count": 8,
   "id": "413eb75d-941c-4d1b-b0f4-f70858c9a3d5",
   "metadata": {},
   "outputs": [
    {
     "name": "stderr",
     "output_type": "stream",
     "text": [
      "\u001b[38;5;4m\u001b[1m[ \u001b[22m\u001b[39m\u001b[38;5;4m\u001b[1mDebug: \u001b[22m\u001b[39m20220225 01:58:02 generating similarity matrix for relationships [\"side_story\", \"summary\", \"parent_story\", \"sequel\", \"prequel\", \"alternative_version\", \"spin_off\", \"alternative_setting\", \"full_story\"]\n",
      "\u001b[32mProgress: 100%|█████████████████████████████████████████| Time: 0:00:00\u001b[39m\n"
     ]
    }
   ],
   "source": [
    "strict_relations = [\n",
    "    \"side_story\",\n",
    "    \"summary\",\n",
    "    \"parent_story\",\n",
    "    \"sequel\",\n",
    "    \"prequel\",\n",
    "    \"alternative_version\",\n",
    "    \"spin_off\",\n",
    "    \"alternative_setting\",\n",
    "    \"full_story\",\n",
    "]\n",
    "\n",
    "get_similarity_matrix_outdir(strict_relations);"
   ]
  },
  {
   "cell_type": "code",
   "execution_count": 9,
   "id": "73dee7f4-b5ac-4fe3-9623-a3d8bd91f610",
   "metadata": {
    "tags": []
   },
   "outputs": [],
   "source": [
    "@memoize function max_neighborhood_size(relation)\n",
    "    # returns the size of the largest nonzero neighborhood\n",
    "    S = read_params(get_similarity_matrix_outdir(relation))[\"S\"]\n",
    "    S = 1 ./ S\n",
    "    maxK = 0\n",
    "    for j = 1:size(S)[2]\n",
    "        K = sum((S[:, j] .!= 0) .* (S[:, j] .!= Inf))\n",
    "        if K > maxK\n",
    "            maxK = K\n",
    "        end\n",
    "    end\n",
    "    neighborhood_size = Int(round(maxK))\n",
    "    @debug \"using neighborhood size $neighborhood_size\"\n",
    "    neighborhood_size\n",
    "end;"
   ]
  },
  {
   "cell_type": "code",
   "execution_count": 10,
   "id": "0c00b2aa-a40c-4374-9631-9918f0f55968",
   "metadata": {},
   "outputs": [
    {
     "name": "stderr",
     "output_type": "stream",
     "text": [
      "\u001b[38;5;4m\u001b[1m[ \u001b[22m\u001b[39m\u001b[38;5;4m\u001b[1mDebug: \u001b[22m\u001b[39m20220225 01:58:50 using neighborhood size 110\n"
     ]
    }
   ],
   "source": [
    "alphas = [\"UserItemBiases\"]\n",
    "params = [\n",
    "    cf_params(\n",
    "        name = \"ItemCF.Related.$name\",\n",
    "        training_residuals = alphas,\n",
    "        validation_residuals = alphas,\n",
    "        neighborhood_type = \"abs\",\n",
    "        S = get_similarity_matrix_outdir(relation),\n",
    "        K = max_neighborhood_size(relation),\n",
    "        λ = [1.0, 1.0, 0.0],\n",
    "    ) for (relation, name) in zip([strict_relations], [\"strict_relations\"])\n",
    "];"
   ]
  },
  {
   "cell_type": "markdown",
   "id": "73d6710c-a42a-443d-8616-f1441be67eee",
   "metadata": {},
   "source": [
    "## Train models"
   ]
  },
  {
   "cell_type": "code",
   "execution_count": 11,
   "id": "1842d509-9377-4b28-9fe9-9212da6183d1",
   "metadata": {
    "tags": []
   },
   "outputs": [
    {
     "name": "stderr",
     "output_type": "stream",
     "text": [
      "\u001b[32mProgress: 100%|███████████████████████████| Time: 0:00:50 (59.24 ms/it)\u001b[39m\n",
      "\u001b[38;5;4m\u001b[1m[ \u001b[22m\u001b[39m\u001b[38;5;4m\u001b[1mDebug: \u001b[22m\u001b[39m20220225 02:00:19 loss: Dual{ForwardDiff.Tag{var\"#validation_mse#23\"{var\"#20#22\"{cf_params, Dict{String, typeof(get_abs_neighborhood)}, Int64, Matrix{Float32}}, RatingsDataset, RatingsDataset}, Float32}}(1.5211096,-0.0020700553,-0.001999576,-0.027935123) β: Dual{ForwardDiff.Tag{var\"#validation_mse#23\"{var\"#20#22\"{cf_params, Dict{String, typeof(get_abs_neighborhood)}, Int64, Matrix{Float32}}, RatingsDataset, RatingsDataset}, Float32}}(0.63870615,-0.006071348,-0.43168324,0.6131715): λ ForwardDiff.Dual{ForwardDiff.Tag{var\"#validation_mse#23\"{var\"#20#22\"{cf_params, Dict{String, typeof(get_abs_neighborhood)}, Int64, Matrix{Float32}}, RatingsDataset, RatingsDataset}, Float32}, Float32, 3}[Dual{ForwardDiff.Tag{var\"#validation_mse#23\"{var\"#20#22\"{cf_params, Dict{String, typeof(get_abs_neighborhood)}, Int64, Matrix{Float32}}, RatingsDataset, RatingsDataset}, Float32}}(1.0,1.0,0.0,0.0), Dual{ForwardDiff.Tag{var\"#validation_mse#23\"{var\"#20#22\"{cf_params, Dict{String, typeof(get_abs_neighborhood)}, Int64, Matrix{Float32}}, RatingsDataset, RatingsDataset}, Float32}}(1.0,0.0,1.0,0.0), Dual{ForwardDiff.Tag{var\"#validation_mse#23\"{var\"#20#22\"{cf_params, Dict{String, typeof(get_abs_neighborhood)}, Int64, Matrix{Float32}}, RatingsDataset, RatingsDataset}, Float32}}(0.0,0.0,0.0,1.0)]\n"
     ]
    },
    {
     "name": "stdout",
     "output_type": "stream",
     "text": [
      "Iter     Function value   Gradient norm \n",
      "     0     1.521110e+00     2.793512e-02\n",
      " * Current step size: 1.0\n",
      " * time: 0.025377988815307617\n",
      " * g(x): Float32[-0.0020700553, -0.001999576, -0.027935123]\n",
      " * x: Float32[1.0, 1.0, 0.0]\n"
     ]
    },
    {
     "name": "stderr",
     "output_type": "stream",
     "text": [
      "\u001b[32mProgress: 100%|███████████████████████████| Time: 0:00:59 (69.21 ms/it)\u001b[39m\n",
      "\u001b[38;5;4m\u001b[1m[ \u001b[22m\u001b[39m\u001b[38;5;4m\u001b[1mDebug: \u001b[22m\u001b[39m20220225 02:01:33 loss: Dual{ForwardDiff.Tag{var\"#validation_mse#23\"{var\"#20#22\"{cf_params, Dict{String, typeof(get_abs_neighborhood)}, Int64, Matrix{Float32}}, RatingsDataset, RatingsDataset}, Float32}}(1.5203918,-0.0021926416,-0.001909873,-0.023097234) β: Dual{ForwardDiff.Tag{var\"#validation_mse#23\"{var\"#20#22\"{cf_params, Dict{String, typeof(get_abs_neighborhood)}, Int64, Matrix{Float32}}, RatingsDataset, RatingsDataset}, Float32}}(0.65465945,-0.0018985504,-0.44283253,0.5931593): λ ForwardDiff.Dual{ForwardDiff.Tag{var\"#validation_mse#23\"{var\"#20#22\"{cf_params, Dict{String, typeof(get_abs_neighborhood)}, Int64, Matrix{Float32}}, RatingsDataset, RatingsDataset}, Float32}, Float32, 3}[Dual{ForwardDiff.Tag{var\"#validation_mse#23\"{var\"#20#22\"{cf_params, Dict{String, typeof(get_abs_neighborhood)}, Int64, Matrix{Float32}}, RatingsDataset, RatingsDataset}, Float32}}(1.0020701,1.0,0.0,0.0), Dual{ForwardDiff.Tag{var\"#validation_mse#23\"{var\"#20#22\"{cf_params, Dict{String, typeof(get_abs_neighborhood)}, Int64, Matrix{Float32}}, RatingsDataset, RatingsDataset}, Float32}}(1.0019996,0.0,1.0,0.0), Dual{ForwardDiff.Tag{var\"#validation_mse#23\"{var\"#20#22\"{cf_params, Dict{String, typeof(get_abs_neighborhood)}, Int64, Matrix{Float32}}, RatingsDataset, RatingsDataset}, Float32}}(0.027935123,0.0,0.0,1.0)]\n",
      "\u001b[32mProgress: 100%|███████████████████████████| Time: 0:00:58 (68.39 ms/it)\u001b[39m\n",
      "\u001b[38;5;4m\u001b[1m[ \u001b[22m\u001b[39m\u001b[38;5;4m\u001b[1mDebug: \u001b[22m\u001b[39m20220225 02:02:44 loss: Dual{ForwardDiff.Tag{var\"#validation_mse#23\"{var\"#20#22\"{cf_params, Dict{String, typeof(get_abs_neighborhood)}, Int64, Matrix{Float32}}, RatingsDataset, RatingsDataset}, Float32}}(1.5184884,-0.0015210957,-0.0013034551,-0.011930251) β: Dual{ForwardDiff.Tag{var\"#validation_mse#23\"{var\"#20#22\"{cf_params, Dict{String, typeof(get_abs_neighborhood)}, Int64, Matrix{Float32}}, RatingsDataset, RatingsDataset}, Float32}}(0.7139879,0.008752222,-0.4857003,0.5400988): λ ForwardDiff.Dual{ForwardDiff.Tag{var\"#validation_mse#23\"{var\"#20#22\"{cf_params, Dict{String, typeof(get_abs_neighborhood)}, Int64, Matrix{Float32}}, RatingsDataset, RatingsDataset}, Float32}, Float32, 3}[Dual{ForwardDiff.Tag{var\"#validation_mse#23\"{var\"#20#22\"{cf_params, Dict{String, typeof(get_abs_neighborhood)}, Int64, Matrix{Float32}}, RatingsDataset, RatingsDataset}, Float32}}(1.0103502,1.0,0.0,0.0), Dual{ForwardDiff.Tag{var\"#validation_mse#23\"{var\"#20#22\"{cf_params, Dict{String, typeof(get_abs_neighborhood)}, Int64, Matrix{Float32}}, RatingsDataset, RatingsDataset}, Float32}}(1.0099978,0.0,1.0,0.0), Dual{ForwardDiff.Tag{var\"#validation_mse#23\"{var\"#20#22\"{cf_params, Dict{String, typeof(get_abs_neighborhood)}, Int64, Matrix{Float32}}, RatingsDataset, RatingsDataset}, Float32}}(0.13967562,0.0,0.0,1.0)]\n",
      "\u001b[32mProgress: 100%|███████████████████████████| Time: 0:01:01 (71.71 ms/it)\u001b[39m\n",
      "\u001b[38;5;4m\u001b[1m[ \u001b[22m\u001b[39m\u001b[38;5;4m\u001b[1mDebug: \u001b[22m\u001b[39m20220225 02:03:58 loss: Dual{ForwardDiff.Tag{var\"#validation_mse#23\"{var\"#20#22\"{cf_params, Dict{String, typeof(get_abs_neighborhood)}, Int64, Matrix{Float32}}, RatingsDataset, RatingsDataset}, Float32}}(1.5171134,0.0026464926,0.0033798728,0.0021164124) β: Dual{ForwardDiff.Tag{var\"#validation_mse#23\"{var\"#20#22\"{cf_params, Dict{String, typeof(get_abs_neighborhood)}, Int64, Matrix{Float32}}, RatingsDataset, RatingsDataset}, Float32}}(0.9572864,0.036885656,-0.68000805,0.4312412): λ ForwardDiff.Dual{ForwardDiff.Tag{var\"#validation_mse#23\"{var\"#20#22\"{cf_params, Dict{String, typeof(get_abs_neighborhood)}, Int64, Matrix{Float32}}, RatingsDataset, RatingsDataset}, Float32}, Float32, 3}[Dual{ForwardDiff.Tag{var\"#validation_mse#23\"{var\"#20#22\"{cf_params, Dict{String, typeof(get_abs_neighborhood)}, Int64, Matrix{Float32}}, RatingsDataset, RatingsDataset}, Float32}}(1.0517514,1.0,0.0,0.0), Dual{ForwardDiff.Tag{var\"#validation_mse#23\"{var\"#20#22\"{cf_params, Dict{String, typeof(get_abs_neighborhood)}, Int64, Matrix{Float32}}, RatingsDataset, RatingsDataset}, Float32}}(1.0499895,0.0,1.0,0.0), Dual{ForwardDiff.Tag{var\"#validation_mse#23\"{var\"#20#22\"{cf_params, Dict{String, typeof(get_abs_neighborhood)}, Int64, Matrix{Float32}}, RatingsDataset, RatingsDataset}, Float32}}(0.6983781,0.0,0.0,1.0)]\n",
      "\u001b[32mProgress: 100%|███████████████████████████| Time: 0:00:58 (68.03 ms/it)\u001b[39m\n",
      "\u001b[38;5;4m\u001b[1m[ \u001b[22m\u001b[39m\u001b[38;5;4m\u001b[1mDebug: \u001b[22m\u001b[39m20220225 02:05:08 loss: Dual{ForwardDiff.Tag{var\"#validation_mse#23\"{var\"#20#22\"{cf_params, Dict{String, typeof(get_abs_neighborhood)}, Int64, Matrix{Float32}}, RatingsDataset, RatingsDataset}, Float32}}(1.5169135,0.002169793,0.002501513,0.0011772336) β: Dual{ForwardDiff.Tag{var\"#validation_mse#23\"{var\"#20#22\"{cf_params, Dict{String, typeof(get_abs_neighborhood)}, Int64, Matrix{Float32}}, RatingsDataset, RatingsDataset}, Float32}}(0.91915655,0.03238172,-0.64762914,0.44324866): λ ForwardDiff.Dual{ForwardDiff.Tag{var\"#validation_mse#23\"{var\"#20#22\"{cf_params, Dict{String, typeof(get_abs_neighborhood)}, Int64, Matrix{Float32}}, RatingsDataset, RatingsDataset}, Float32}, Float32, 3}[Dual{ForwardDiff.Tag{var\"#validation_mse#23\"{var\"#20#22\"{cf_params, Dict{String, typeof(get_abs_neighborhood)}, Int64, Matrix{Float32}}, RatingsDataset, RatingsDataset}, Float32}}(1.0445524,1.0,0.0,0.0), Dual{ForwardDiff.Tag{var\"#validation_mse#23\"{var\"#20#22\"{cf_params, Dict{String, typeof(get_abs_neighborhood)}, Int64, Matrix{Float32}}, RatingsDataset, RatingsDataset}, Float32}}(1.0430356,0.0,1.0,0.0), Dual{ForwardDiff.Tag{var\"#validation_mse#23\"{var\"#20#22\"{cf_params, Dict{String, typeof(get_abs_neighborhood)}, Int64, Matrix{Float32}}, RatingsDataset, RatingsDataset}, Float32}}(0.6012297,0.0,0.0,1.0)]\n"
     ]
    },
    {
     "name": "stdout",
     "output_type": "stream",
     "text": [
      "     1     1.516914e+00     2.501513e-03\n",
      " * Current step size: 21.522358\n",
      " * time: 288.7065348625183\n",
      " * g(x): Float32[0.002169793, 0.002501513, 0.0011772336]\n",
      " * x: Float32[1.0445524, 1.0430356, 0.6012297]\n"
     ]
    },
    {
     "name": "stderr",
     "output_type": "stream",
     "text": [
      "\u001b[32mProgress: 100%|███████████████████████████| Time: 0:01:00 (70.07 ms/it)\u001b[39m\n",
      "\u001b[38;5;4m\u001b[1m[ \u001b[22m\u001b[39m\u001b[38;5;4m\u001b[1mDebug: \u001b[22m\u001b[39m20220225 02:06:21 loss: Dual{ForwardDiff.Tag{var\"#validation_mse#23\"{var\"#20#22\"{cf_params, Dict{String, typeof(get_abs_neighborhood)}, Int64, Matrix{Float32}}, RatingsDataset, RatingsDataset}, Float32}}(1.5168695,0.0016061242,-0.004722,0.00086706184) β: Dual{ForwardDiff.Tag{var\"#validation_mse#23\"{var\"#20#22\"{cf_params, Dict{String, typeof(get_abs_neighborhood)}, Int64, Matrix{Float32}}, RatingsDataset, RatingsDataset}, Float32}}(0.93977225,0.03423253,-0.6158352,0.45713684): λ ForwardDiff.Dual{ForwardDiff.Tag{var\"#validation_mse#23\"{var\"#20#22\"{cf_params, Dict{String, typeof(get_abs_neighborhood)}, Int64, Matrix{Float32}}, RatingsDataset, RatingsDataset}, Float32}, Float32, 3}[Dual{ForwardDiff.Tag{var\"#validation_mse#23\"{var\"#20#22\"{cf_params, Dict{String, typeof(get_abs_neighborhood)}, Int64, Matrix{Float32}}, RatingsDataset, RatingsDataset}, Float32}}(1.0033138,1.0,0.0,0.0), Dual{ForwardDiff.Tag{var\"#validation_mse#23\"{var\"#20#22\"{cf_params, Dict{String, typeof(get_abs_neighborhood)}, Int64, Matrix{Float32}}, RatingsDataset, RatingsDataset}, Float32}}(0.9954286,0.0,1.0,0.0), Dual{ForwardDiff.Tag{var\"#validation_mse#23\"{var\"#20#22\"{cf_params, Dict{String, typeof(get_abs_neighborhood)}, Int64, Matrix{Float32}}, RatingsDataset, RatingsDataset}, Float32}}(0.5832654,0.0,0.0,1.0)]\n",
      "\u001b[32mProgress: 100%|███████████████████████████| Time: 0:00:57 (66.54 ms/it)\u001b[39m\n",
      "\u001b[38;5;4m\u001b[1m[ \u001b[22m\u001b[39m\u001b[38;5;4m\u001b[1mDebug: \u001b[22m\u001b[39m20220225 02:07:35 loss: Dual{ForwardDiff.Tag{var\"#validation_mse#23\"{var\"#20#22\"{cf_params, Dict{String, typeof(get_abs_neighborhood)}, Int64, Matrix{Float32}}, RatingsDataset, RatingsDataset}, Float32}}(1.5168422,0.0018230841,-0.0019353367,0.0009894115) β: Dual{ForwardDiff.Tag{var\"#validation_mse#23\"{var\"#20#22\"{cf_params, Dict{String, typeof(get_abs_neighborhood)}, Int64, Matrix{Float32}}, RatingsDataset, RatingsDataset}, Float32}}(0.93206054,0.03353288,-0.62852377,0.45187166): λ ForwardDiff.Dual{ForwardDiff.Tag{var\"#validation_mse#23\"{var\"#20#22\"{cf_params, Dict{String, typeof(get_abs_neighborhood)}, Int64, Matrix{Float32}}, RatingsDataset, RatingsDataset}, Float32}, Float32, 3}[Dual{ForwardDiff.Tag{var\"#validation_mse#23\"{var\"#20#22\"{cf_params, Dict{String, typeof(get_abs_neighborhood)}, Int64, Matrix{Float32}}, RatingsDataset, RatingsDataset}, Float32}}(1.019135,1.0,0.0,0.0), Dual{ForwardDiff.Tag{var\"#validation_mse#23\"{var\"#20#22\"{cf_params, Dict{String, typeof(get_abs_neighborhood)}, Int64, Matrix{Float32}}, RatingsDataset, RatingsDataset}, Float32}}(1.0136931,0.0,1.0,0.0), Dual{ForwardDiff.Tag{var\"#validation_mse#23\"{var\"#20#22\"{cf_params, Dict{String, typeof(get_abs_neighborhood)}, Int64, Matrix{Float32}}, RatingsDataset, RatingsDataset}, Float32}}(0.59015745,0.0,0.0,1.0)]\n"
     ]
    },
    {
     "name": "stdout",
     "output_type": "stream",
     "text": [
      "     2     1.516842e+00     1.935337e-03\n",
      " * Current step size: 0.6163483\n",
      " * time: 435.81960892677307\n",
      " * g(x): Float32[0.0018230841, -0.0019353367, 0.0009894115]\n",
      " * x: Float32[1.019135, 1.0136931, 0.59015745]\n"
     ]
    },
    {
     "name": "stderr",
     "output_type": "stream",
     "text": [
      "\u001b[32mProgress: 100%|███████████████████████████| Time: 0:00:56 (66.27 ms/it)\u001b[39m\n",
      "\u001b[38;5;4m\u001b[1m[ \u001b[22m\u001b[39m\u001b[38;5;4m\u001b[1mDebug: \u001b[22m\u001b[39m20220225 02:08:45 loss: Dual{ForwardDiff.Tag{var\"#validation_mse#23\"{var\"#20#22\"{cf_params, Dict{String, typeof(get_abs_neighborhood)}, Int64, Matrix{Float32}}, RatingsDataset, RatingsDataset}, Float32}}(1.5167816,0.0014016968,-0.0014443476,0.00058469875) β: Dual{ForwardDiff.Tag{var\"#validation_mse#23\"{var\"#20#22\"{cf_params, Dict{String, typeof(get_abs_neighborhood)}, Int64, Matrix{Float32}}, RatingsDataset, RatingsDataset}, Float32}}(0.9185162,0.03334869,-0.6225212,0.45282286): λ ForwardDiff.Dual{ForwardDiff.Tag{var\"#validation_mse#23\"{var\"#20#22\"{cf_params, Dict{String, typeof(get_abs_neighborhood)}, Int64, Matrix{Float32}}, RatingsDataset, RatingsDataset}, Float32}, Float32, 3}[Dual{ForwardDiff.Tag{var\"#validation_mse#23\"{var\"#20#22\"{cf_params, Dict{String, typeof(get_abs_neighborhood)}, Int64, Matrix{Float32}}, RatingsDataset, RatingsDataset}, Float32}}(0.99634063,1.0,0.0,0.0), Dual{ForwardDiff.Tag{var\"#validation_mse#23\"{var\"#20#22\"{cf_params, Dict{String, typeof(get_abs_neighborhood)}, Int64, Matrix{Float32}}, RatingsDataset, RatingsDataset}, Float32}}(1.0163981,0.0,1.0,0.0), Dual{ForwardDiff.Tag{var\"#validation_mse#23\"{var\"#20#22\"{cf_params, Dict{String, typeof(get_abs_neighborhood)}, Int64, Matrix{Float32}}, RatingsDataset, RatingsDataset}, Float32}}(0.5656431,0.0,0.0,1.0)]\n",
      "\u001b[32mProgress: 100%|███████████████████████████| Time: 0:00:59 (69.45 ms/it)\u001b[39m\n",
      "\u001b[38;5;4m\u001b[1m[ \u001b[22m\u001b[39m\u001b[38;5;4m\u001b[1mDebug: \u001b[22m\u001b[39m20220225 02:09:59 loss: Dual{ForwardDiff.Tag{var\"#validation_mse#23\"{var\"#20#22\"{cf_params, Dict{String, typeof(get_abs_neighborhood)}, Int64, Matrix{Float32}}, RatingsDataset, RatingsDataset}, Float32}}(1.5167615,-0.00032329693,0.0005594236,-0.0013890362) β: Dual{ForwardDiff.Tag{var\"#validation_mse#23\"{var\"#20#22\"{cf_params, Dict{String, typeof(get_abs_neighborhood)}, Int64, Matrix{Float32}}, RatingsDataset, RatingsDataset}, Float32}}(0.8643163,0.03197013,-0.5978094,0.457554): λ ForwardDiff.Dual{ForwardDiff.Tag{var\"#validation_mse#23\"{var\"#20#22\"{cf_params, Dict{String, typeof(get_abs_neighborhood)}, Int64, Matrix{Float32}}, RatingsDataset, RatingsDataset}, Float32}, Float32, 3}[Dual{ForwardDiff.Tag{var\"#validation_mse#23\"{var\"#20#22\"{cf_params, Dict{String, typeof(get_abs_neighborhood)}, Int64, Matrix{Float32}}, RatingsDataset, RatingsDataset}, Float32}}(0.9051633,1.0,0.0,0.0), Dual{ForwardDiff.Tag{var\"#validation_mse#23\"{var\"#20#22\"{cf_params, Dict{String, typeof(get_abs_neighborhood)}, Int64, Matrix{Float32}}, RatingsDataset, RatingsDataset}, Float32}}(1.0272182,0.0,1.0,0.0), Dual{ForwardDiff.Tag{var\"#validation_mse#23\"{var\"#20#22\"{cf_params, Dict{String, typeof(get_abs_neighborhood)}, Int64, Matrix{Float32}}, RatingsDataset, RatingsDataset}, Float32}}(0.46758556,0.0,0.0,1.0)]\n",
      "\u001b[32mProgress: 100%|███████████████████████████| Time: 0:00:57 (67.22 ms/it)\u001b[39m\n",
      "\u001b[38;5;4m\u001b[1m[ \u001b[22m\u001b[39m\u001b[38;5;4m\u001b[1mDebug: \u001b[22m\u001b[39m20220225 02:11:10 loss: Dual{ForwardDiff.Tag{var\"#validation_mse#23\"{var\"#20#22\"{cf_params, Dict{String, typeof(get_abs_neighborhood)}, Int64, Matrix{Float32}}, RatingsDataset, RatingsDataset}, Float32}}(1.5167245,0.00047767832,-0.00037223616,-0.00040354568) β: Dual{ForwardDiff.Tag{var\"#validation_mse#23\"{var\"#20#22\"{cf_params, Dict{String, typeof(get_abs_neighborhood)}, Int64, Matrix{Float32}}, RatingsDataset, RatingsDataset}, Float32}}(0.8893726,0.03273757,-0.60938036,0.45517012): λ ForwardDiff.Dual{ForwardDiff.Tag{var\"#validation_mse#23\"{var\"#20#22\"{cf_params, Dict{String, typeof(get_abs_neighborhood)}, Int64, Matrix{Float32}}, RatingsDataset, RatingsDataset}, Float32}, Float32, 3}[Dual{ForwardDiff.Tag{var\"#validation_mse#23\"{var\"#20#22\"{cf_params, Dict{String, typeof(get_abs_neighborhood)}, Int64, Matrix{Float32}}, RatingsDataset, RatingsDataset}, Float32}}(0.9471992,1.0,0.0,0.0), Dual{ForwardDiff.Tag{var\"#validation_mse#23\"{var\"#20#22\"{cf_params, Dict{String, typeof(get_abs_neighborhood)}, Int64, Matrix{Float32}}, RatingsDataset, RatingsDataset}, Float32}}(1.0222298,0.0,1.0,0.0), Dual{ForwardDiff.Tag{var\"#validation_mse#23\"{var\"#20#22\"{cf_params, Dict{String, typeof(get_abs_neighborhood)}, Int64, Matrix{Float32}}, RatingsDataset, RatingsDataset}, Float32}}(0.5127935,0.0,0.0,1.0)]\n"
     ]
    },
    {
     "name": "stdout",
     "output_type": "stream",
     "text": [
      "     3     1.516724e+00     4.776783e-04\n",
      " * Current step size: 3.1558614\n",
      " * time: 651.0100538730621\n",
      " * g(x): Float32[0.00047767832, -0.00037223616, -0.00040354568]\n",
      " * x: Float32[0.9471992, 1.0222298, 0.5127935]\n"
     ]
    },
    {
     "name": "stderr",
     "output_type": "stream",
     "text": [
      "\u001b[32mProgress: 100%|███████████████████████████| Time: 0:00:57 (67.02 ms/it)\u001b[39m\n",
      "\u001b[38;5;4m\u001b[1m[ \u001b[22m\u001b[39m\u001b[38;5;4m\u001b[1mDebug: \u001b[22m\u001b[39m20220225 02:12:20 loss: Dual{ForwardDiff.Tag{var\"#validation_mse#23\"{var\"#20#22\"{cf_params, Dict{String, typeof(get_abs_neighborhood)}, Int64, Matrix{Float32}}, RatingsDataset, RatingsDataset}, Float32}}(1.5167129,0.00031499506,-0.00013886952,-0.0002860257) β: Dual{ForwardDiff.Tag{var\"#validation_mse#23\"{var\"#20#22\"{cf_params, Dict{String, typeof(get_abs_neighborhood)}, Int64, Matrix{Float32}}, RatingsDataset, RatingsDataset}, Float32}}(0.8938899,0.03427021,-0.6138445,0.4520225): λ ForwardDiff.Dual{ForwardDiff.Tag{var\"#validation_mse#23\"{var\"#20#22\"{cf_params, Dict{String, typeof(get_abs_neighborhood)}, Int64, Matrix{Float32}}, RatingsDataset, RatingsDataset}, Float32}, Float32, 3}[Dual{ForwardDiff.Tag{var\"#validation_mse#23\"{var\"#20#22\"{cf_params, Dict{String, typeof(get_abs_neighborhood)}, Int64, Matrix{Float32}}, RatingsDataset, RatingsDataset}, Float32}}(0.9306129,1.0,0.0,0.0), Dual{ForwardDiff.Tag{var\"#validation_mse#23\"{var\"#20#22\"{cf_params, Dict{String, typeof(get_abs_neighborhood)}, Int64, Matrix{Float32}}, RatingsDataset, RatingsDataset}, Float32}}(1.0237455,0.0,1.0,0.0), Dual{ForwardDiff.Tag{var\"#validation_mse#23\"{var\"#20#22\"{cf_params, Dict{String, typeof(get_abs_neighborhood)}, Int64, Matrix{Float32}}, RatingsDataset, RatingsDataset}, Float32}}(0.5259775,0.0,0.0,1.0)]\n",
      "\u001b[32mProgress: 100%|███████████████████████████| Time: 0:00:58 (68.45 ms/it)\u001b[39m\n",
      "\u001b[38;5;4m\u001b[1m[ \u001b[22m\u001b[39m\u001b[38;5;4m\u001b[1mDebug: \u001b[22m\u001b[39m20220225 02:13:34 loss: Dual{ForwardDiff.Tag{var\"#validation_mse#23\"{var\"#20#22\"{cf_params, Dict{String, typeof(get_abs_neighborhood)}, Int64, Matrix{Float32}}, RatingsDataset, RatingsDataset}, Float32}}(1.5167143,-0.00039544218,0.00079428725,0.00017184953) β: Dual{ForwardDiff.Tag{var\"#validation_mse#23\"{var\"#20#22\"{cf_params, Dict{String, typeof(get_abs_neighborhood)}, Int64, Matrix{Float32}}, RatingsDataset, RatingsDataset}, Float32}}(0.9111011,0.04071497,-0.63134116,0.43953428): λ ForwardDiff.Dual{ForwardDiff.Tag{var\"#validation_mse#23\"{var\"#20#22\"{cf_params, Dict{String, typeof(get_abs_neighborhood)}, Int64, Matrix{Float32}}, RatingsDataset, RatingsDataset}, Float32}, Float32, 3}[Dual{ForwardDiff.Tag{var\"#validation_mse#23\"{var\"#20#22\"{cf_params, Dict{String, typeof(get_abs_neighborhood)}, Int64, Matrix{Float32}}, RatingsDataset, RatingsDataset}, Float32}}(0.86426777,1.0,0.0,0.0), Dual{ForwardDiff.Tag{var\"#validation_mse#23\"{var\"#20#22\"{cf_params, Dict{String, typeof(get_abs_neighborhood)}, Int64, Matrix{Float32}}, RatingsDataset, RatingsDataset}, Float32}}(1.0298088,0.0,1.0,0.0), Dual{ForwardDiff.Tag{var\"#validation_mse#23\"{var\"#20#22\"{cf_params, Dict{String, typeof(get_abs_neighborhood)}, Int64, Matrix{Float32}}, RatingsDataset, RatingsDataset}, Float32}}(0.5787134,0.0,0.0,1.0)]\n",
      "\u001b[32mProgress: 100%|███████████████████████████| Time: 0:01:00 (70.65 ms/it)\u001b[39m\n",
      "\u001b[38;5;4m\u001b[1m[ \u001b[22m\u001b[39m\u001b[38;5;4m\u001b[1mDebug: \u001b[22m\u001b[39m20220225 02:14:48 loss: Dual{ForwardDiff.Tag{var\"#validation_mse#23\"{var\"#20#22\"{cf_params, Dict{String, typeof(get_abs_neighborhood)}, Int64, Matrix{Float32}}, RatingsDataset, RatingsDataset}, Float32}}(1.516704,-1.3308107e-5,0.00030786774,-6.466942e-5) β: Dual{ForwardDiff.Tag{var\"#validation_mse#23\"{var\"#20#22\"{cf_params, Dict{String, typeof(get_abs_neighborhood)}, Int64, Matrix{Float32}}, RatingsDataset, RatingsDataset}, Float32}}(0.90228236,0.037296824,-0.6222742,0.4460234): λ ForwardDiff.Dual{ForwardDiff.Tag{var\"#validation_mse#23\"{var\"#20#22\"{cf_params, Dict{String, typeof(get_abs_neighborhood)}, Int64, Matrix{Float32}}, RatingsDataset, RatingsDataset}, Float32}, Float32, 3}[Dual{ForwardDiff.Tag{var\"#validation_mse#23\"{var\"#20#22\"{cf_params, Dict{String, typeof(get_abs_neighborhood)}, Int64, Matrix{Float32}}, RatingsDataset, RatingsDataset}, Float32}}(0.89885885,1.0,0.0,0.0), Dual{ForwardDiff.Tag{var\"#validation_mse#23\"{var\"#20#22\"{cf_params, Dict{String, typeof(get_abs_neighborhood)}, Int64, Matrix{Float32}}, RatingsDataset, RatingsDataset}, Float32}}(1.0266476,0.0,1.0,0.0), Dual{ForwardDiff.Tag{var\"#validation_mse#23\"{var\"#20#22\"{cf_params, Dict{String, typeof(get_abs_neighborhood)}, Int64, Matrix{Float32}}, RatingsDataset, RatingsDataset}, Float32}}(0.5512179,0.0,0.0,1.0)]\n"
     ]
    },
    {
     "name": "stdout",
     "output_type": "stream",
     "text": [
      "     4     1.516704e+00     3.078677e-04\n",
      " * Current step size: 2.9144764\n",
      " * time: 869.15984582901\n",
      " * g(x): Float32[-1.3308107f-5, 0.00030786774, -6.466942f-5]\n",
      " * x: Float32[0.89885885, 1.0266476, 0.5512179]\n"
     ]
    },
    {
     "name": "stderr",
     "output_type": "stream",
     "text": [
      "\u001b[32mProgress: 100%|███████████████████████████| Time: 0:00:58 (68.29 ms/it)\u001b[39m\n",
      "\u001b[38;5;4m\u001b[1m[ \u001b[22m\u001b[39m\u001b[38;5;4m\u001b[1mDebug: \u001b[22m\u001b[39m20220225 02:16:01 loss: Dual{ForwardDiff.Tag{var\"#validation_mse#23\"{var\"#20#22\"{cf_params, Dict{String, typeof(get_abs_neighborhood)}, Int64, Matrix{Float32}}, RatingsDataset, RatingsDataset}, Float32}}(1.5167035,-5.374185e-7,6.480271e-6,-1.841609e-6) β: Dual{ForwardDiff.Tag{var\"#validation_mse#23\"{var\"#20#22\"{cf_params, Dict{String, typeof(get_abs_neighborhood)}, Int64, Matrix{Float32}}, RatingsDataset, RatingsDataset}, Float32}}(0.9053785,0.0376239,-0.6225517,0.44599685): λ ForwardDiff.Dual{ForwardDiff.Tag{var\"#validation_mse#23\"{var\"#20#22\"{cf_params, Dict{String, typeof(get_abs_neighborhood)}, Int64, Matrix{Float32}}, RatingsDataset, RatingsDataset}, Float32}, Float32, 3}[Dual{ForwardDiff.Tag{var\"#validation_mse#23\"{var\"#20#22\"{cf_params, Dict{String, typeof(get_abs_neighborhood)}, Int64, Matrix{Float32}}, RatingsDataset, RatingsDataset}, Float32}}(0.89823216,1.0,0.0,0.0), Dual{ForwardDiff.Tag{var\"#validation_mse#23\"{var\"#20#22\"{cf_params, Dict{String, typeof(get_abs_neighborhood)}, Int64, Matrix{Float32}}, RatingsDataset, RatingsDataset}, Float32}}(1.0247343,0.0,1.0,0.0), Dual{ForwardDiff.Tag{var\"#validation_mse#23\"{var\"#20#22\"{cf_params, Dict{String, typeof(get_abs_neighborhood)}, Int64, Matrix{Float32}}, RatingsDataset, RatingsDataset}, Float32}}(0.55557054,0.0,0.0,1.0)]\n",
      "\u001b[32mProgress: 100%|███████████████████████████| Time: 0:00:57 (67.43 ms/it)\u001b[39m\n",
      "\u001b[38;5;4m\u001b[1m[ \u001b[22m\u001b[39m\u001b[38;5;4m\u001b[1mDebug: \u001b[22m\u001b[39m20220225 02:17:11 loss: Dual{ForwardDiff.Tag{var\"#validation_mse#23\"{var\"#20#22\"{cf_params, Dict{String, typeof(get_abs_neighborhood)}, Int64, Matrix{Float32}}, RatingsDataset, RatingsDataset}, Float32}}(1.5167102,4.8201942e-5,-0.0011993718,0.000241708) β: Dual{ForwardDiff.Tag{var\"#validation_mse#23\"{var\"#20#22\"{cf_params, Dict{String, typeof(get_abs_neighborhood)}, Int64, Matrix{Float32}}, RatingsDataset, RatingsDataset}, Float32}}(0.91776943,0.038946465,-0.6234916,0.44588777): λ ForwardDiff.Dual{ForwardDiff.Tag{var\"#validation_mse#23\"{var\"#20#22\"{cf_params, Dict{String, typeof(get_abs_neighborhood)}, Int64, Matrix{Float32}}, RatingsDataset, RatingsDataset}, Float32}, Float32, 3}[Dual{ForwardDiff.Tag{var\"#validation_mse#23\"{var\"#20#22\"{cf_params, Dict{String, typeof(get_abs_neighborhood)}, Int64, Matrix{Float32}}, RatingsDataset, RatingsDataset}, Float32}}(0.8957253,1.0,0.0,0.0), Dual{ForwardDiff.Tag{var\"#validation_mse#23\"{var\"#20#22\"{cf_params, Dict{String, typeof(get_abs_neighborhood)}, Int64, Matrix{Float32}}, RatingsDataset, RatingsDataset}, Float32}}(1.017081,0.0,1.0,0.0), Dual{ForwardDiff.Tag{var\"#validation_mse#23\"{var\"#20#22\"{cf_params, Dict{String, typeof(get_abs_neighborhood)}, Int64, Matrix{Float32}}, RatingsDataset, RatingsDataset}, Float32}}(0.5729812,0.0,0.0,1.0)]\n",
      "\u001b[32mProgress: 100%|███████████████████████████| Time: 0:00:59 (68.83 ms/it)\u001b[39m\n",
      "\u001b[38;5;4m\u001b[1m[ \u001b[22m\u001b[39m\u001b[38;5;4m\u001b[1mDebug: \u001b[22m\u001b[39m20220225 02:18:24 loss: Dual{ForwardDiff.Tag{var\"#validation_mse#23\"{var\"#20#22\"{cf_params, Dict{String, typeof(get_abs_neighborhood)}, Int64, Matrix{Float32}}, RatingsDataset, RatingsDataset}, Float32}}(1.5167035,-2.335538e-7,-7.6829167e-7,-3.4081071e-7) β: Dual{ForwardDiff.Tag{var\"#validation_mse#23\"{var\"#20#22\"{cf_params, Dict{String, typeof(get_abs_neighborhood)}, Int64, Matrix{Float32}}, RatingsDataset, RatingsDataset}, Float32}}(0.9054527,0.03763206,-0.6225586,0.445997): λ ForwardDiff.Dual{ForwardDiff.Tag{var\"#validation_mse#23\"{var\"#20#22\"{cf_params, Dict{String, typeof(get_abs_neighborhood)}, Int64, Matrix{Float32}}, RatingsDataset, RatingsDataset}, Float32}, Float32, 3}[Dual{ForwardDiff.Tag{var\"#validation_mse#23\"{var\"#20#22\"{cf_params, Dict{String, typeof(get_abs_neighborhood)}, Int64, Matrix{Float32}}, RatingsDataset, RatingsDataset}, Float32}}(0.898217,1.0,0.0,0.0), Dual{ForwardDiff.Tag{var\"#validation_mse#23\"{var\"#20#22\"{cf_params, Dict{String, typeof(get_abs_neighborhood)}, Int64, Matrix{Float32}}, RatingsDataset, RatingsDataset}, Float32}}(1.0246882,0.0,1.0,0.0), Dual{ForwardDiff.Tag{var\"#validation_mse#23\"{var\"#20#22\"{cf_params, Dict{String, typeof(get_abs_neighborhood)}, Int64, Matrix{Float32}}, RatingsDataset, RatingsDataset}, Float32}}(0.5556753,0.0,0.0,1.0)]\n"
     ]
    },
    {
     "name": "stdout",
     "output_type": "stream",
     "text": [
      "     5     1.516703e+00     7.682917e-07\n",
      " * Current step size: 1.0240691\n",
      " * time: 1084.5161278247833\n",
      " * g(x): Float32[-2.335538f-7, -7.6829167f-7, -3.4081071f-7]\n",
      " * x: Float32[0.898217, 1.0246882, 0.5556753]\n"
     ]
    },
    {
     "name": "stderr",
     "output_type": "stream",
     "text": [
      "\u001b[32mProgress: 100%|███████████████████████████| Time: 0:00:59 (68.89 ms/it)\u001b[39m\n",
      "\u001b[38;5;4m\u001b[1m[ \u001b[22m\u001b[39m\u001b[38;5;4m\u001b[1mDebug: \u001b[22m\u001b[39m20220225 02:19:36 loss: Dual{ForwardDiff.Tag{var\"#validation_mse#23\"{var\"#20#22\"{cf_params, Dict{String, typeof(get_abs_neighborhood)}, Int64, Matrix{Float32}}, RatingsDataset, RatingsDataset}, Float32}}(1.5167035,4.6920197e-9,-2.7230298e-9,-4.3699617e-9) β: Dual{ForwardDiff.Tag{var\"#validation_mse#23\"{var\"#20#22\"{cf_params, Dict{String, typeof(get_abs_neighborhood)}, Int64, Matrix{Float32}}, RatingsDataset, RatingsDataset}, Float32}}(0.90545976,0.037632715,-0.6225681,0.44599313): λ ForwardDiff.Dual{ForwardDiff.Tag{var\"#validation_mse#23\"{var\"#20#22\"{cf_params, Dict{String, typeof(get_abs_neighborhood)}, Int64, Matrix{Float32}}, RatingsDataset, RatingsDataset}, Float32}, Float32, 3}[Dual{ForwardDiff.Tag{var\"#validation_mse#23\"{var\"#20#22\"{cf_params, Dict{String, typeof(get_abs_neighborhood)}, Int64, Matrix{Float32}}, RatingsDataset, RatingsDataset}, Float32}}(0.89822835,1.0,0.0,0.0), Dual{ForwardDiff.Tag{var\"#validation_mse#23\"{var\"#20#22\"{cf_params, Dict{String, typeof(get_abs_neighborhood)}, Int64, Matrix{Float32}}, RatingsDataset, RatingsDataset}, Float32}}(1.0246936,0.0,1.0,0.0), Dual{ForwardDiff.Tag{var\"#validation_mse#23\"{var\"#20#22\"{cf_params, Dict{String, typeof(get_abs_neighborhood)}, Int64, Matrix{Float32}}, RatingsDataset, RatingsDataset}, Float32}}(0.5556964,0.0,0.0,1.0)]\n",
      "\u001b[32mProgress: 100%|███████████████████████████| Time: 0:00:59 (69.21 ms/it)\u001b[39m\n",
      "\u001b[38;5;4m\u001b[1m[ \u001b[22m\u001b[39m\u001b[38;5;4m\u001b[1mDebug: \u001b[22m\u001b[39m20220225 02:20:49 loss: Dual{ForwardDiff.Tag{var\"#validation_mse#23\"{var\"#20#22\"{cf_params, Dict{String, typeof(get_abs_neighborhood)}, Int64, Matrix{Float32}}, RatingsDataset, RatingsDataset}, Float32}}(1.5167035,9.604485e-7,3.0232343e-6,1.3364715e-6) β: Dual{ForwardDiff.Tag{var\"#validation_mse#23\"{var\"#20#22\"{cf_params, Dict{String, typeof(get_abs_neighborhood)}, Int64, Matrix{Float32}}, RatingsDataset, RatingsDataset}, Float32}}(0.9054872,0.03763507,-0.62260795,0.4459791): λ ForwardDiff.Dual{ForwardDiff.Tag{var\"#validation_mse#23\"{var\"#20#22\"{cf_params, Dict{String, typeof(get_abs_neighborhood)}, Int64, Matrix{Float32}}, RatingsDataset, RatingsDataset}, Float32}, Float32, 3}[Dual{ForwardDiff.Tag{var\"#validation_mse#23\"{var\"#20#22\"{cf_params, Dict{String, typeof(get_abs_neighborhood)}, Int64, Matrix{Float32}}, RatingsDataset, RatingsDataset}, Float32}}(0.89827365,1.0,0.0,0.0), Dual{ForwardDiff.Tag{var\"#validation_mse#23\"{var\"#20#22\"{cf_params, Dict{String, typeof(get_abs_neighborhood)}, Int64, Matrix{Float32}}, RatingsDataset, RatingsDataset}, Float32}}(1.0247148,0.0,1.0,0.0), Dual{ForwardDiff.Tag{var\"#validation_mse#23\"{var\"#20#22\"{cf_params, Dict{String, typeof(get_abs_neighborhood)}, Int64, Matrix{Float32}}, RatingsDataset, RatingsDataset}, Float32}}(0.5557809,0.0,0.0,1.0)]\n",
      "\u001b[32mProgress: 100%|███████████████████████████| Time: 0:00:52 (61.23 ms/it)\u001b[39m\n",
      "\u001b[38;5;4m\u001b[1m[ \u001b[22m\u001b[39m\u001b[38;5;4m\u001b[1mDebug: \u001b[22m\u001b[39m20220225 02:21:54 loss: Dual{ForwardDiff.Tag{var\"#validation_mse#23\"{var\"#20#22\"{cf_params, Dict{String, typeof(get_abs_neighborhood)}, Int64, Matrix{Float32}}, RatingsDataset, RatingsDataset}, Float32}}(1.5167035,6.0265357e-9,-3.0624443e-9,-3.4481427e-9) β: Dual{ForwardDiff.Tag{var\"#validation_mse#23\"{var\"#20#22\"{cf_params, Dict{String, typeof(get_abs_neighborhood)}, Int64, Matrix{Float32}}, RatingsDataset, RatingsDataset}, Float32}}(0.90545976,0.037632696,-0.6225681,0.44599313): λ ForwardDiff.Dual{ForwardDiff.Tag{var\"#validation_mse#23\"{var\"#20#22\"{cf_params, Dict{String, typeof(get_abs_neighborhood)}, Int64, Matrix{Float32}}, RatingsDataset, RatingsDataset}, Float32}, Float32, 3}[Dual{ForwardDiff.Tag{var\"#validation_mse#23\"{var\"#20#22\"{cf_params, Dict{String, typeof(get_abs_neighborhood)}, Int64, Matrix{Float32}}, RatingsDataset, RatingsDataset}, Float32}}(0.8982284,1.0,0.0,0.0), Dual{ForwardDiff.Tag{var\"#validation_mse#23\"{var\"#20#22\"{cf_params, Dict{String, typeof(get_abs_neighborhood)}, Int64, Matrix{Float32}}, RatingsDataset, RatingsDataset}, Float32}}(1.0246936,0.0,1.0,0.0), Dual{ForwardDiff.Tag{var\"#validation_mse#23\"{var\"#20#22\"{cf_params, Dict{String, typeof(get_abs_neighborhood)}, Int64, Matrix{Float32}}, RatingsDataset, RatingsDataset}, Float32}}(0.55569655,0.0,0.0,1.0)]\n"
     ]
    },
    {
     "name": "stdout",
     "output_type": "stream",
     "text": [
      "     6     1.516703e+00     6.026536e-09\n",
      " * Current step size: 1.0038815\n",
      " * time: 1294.6676819324493\n",
      " * g(x): Float32[6.0265357f-9, -3.0624443f-9, -3.4481427f-9]\n",
      " * x: Float32[0.8982284, 1.0246936, 0.55569655]\n"
     ]
    },
    {
     "name": "stderr",
     "output_type": "stream",
     "text": [
      "\u001b[32mProgress: 100%|███████████████████████████| Time: 1:05:39 ( 3.35  s/it)\u001b[39m\n",
      "\u001b[38;5;6m\u001b[1m[ \u001b[22m\u001b[39m\u001b[38;5;6m\u001b[1mInfo: \u001b[22m\u001b[39m20220225 03:33:12 training set: RMSE 1.1863704023226231 MAE 0.8649476243687343 R2 0.1456223726621052\n",
      "\u001b[38;5;6m\u001b[1m[ \u001b[22m\u001b[39m\u001b[38;5;6m\u001b[1mInfo: \u001b[22m\u001b[39m20220225 03:33:22 validation set: RMSE 1.2315451510337065 MAE 0.8972142383674298 R2 0.12971873901347897\n"
     ]
    }
   ],
   "source": [
    "for param in params\n",
    "    optimize_model(param)\n",
    "end"
   ]
  }
 ],
 "metadata": {
  "kernelspec": {
   "display_name": "Julia 1.6.3",
   "language": "julia",
   "name": "julia-1.6"
  },
  "language_info": {
   "file_extension": ".jl",
   "mimetype": "application/julia",
   "name": "julia",
   "version": "1.6.3"
  }
 },
 "nbformat": 4,
 "nbformat_minor": 5
}
