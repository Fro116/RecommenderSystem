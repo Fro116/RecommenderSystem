{
 "cells": [
  {
   "cell_type": "code",
   "execution_count": 1,
   "id": "79559bef-810a-402f-ad21-52092ec933f4",
   "metadata": {},
   "outputs": [],
   "source": [
    "name = \"CombineImplicitSignals\"\n",
    "residual_alphas = [];"
   ]
  },
  {
   "cell_type": "code",
   "execution_count": 2,
   "id": "69b5a19a-24f5-4730-afe2-f451d27d18e3",
   "metadata": {},
   "outputs": [],
   "source": [
    "using NBInclude\n",
    "@nbinclude(\"Alpha.ipynb\");"
   ]
  },
  {
   "cell_type": "markdown",
   "id": "2cd85260-62c2-4d8c-8318-1cb36b8a5ac8",
   "metadata": {},
   "source": [
    "## Compute priors"
   ]
  },
  {
   "cell_type": "code",
   "execution_count": 3,
   "id": "e538c643-cfa3-4093-8e74-f862b868a641",
   "metadata": {},
   "outputs": [],
   "source": [
    "training = get_split(\"training\");"
   ]
  },
  {
   "cell_type": "code",
   "execution_count": 4,
   "id": "e78da648-e6ba-46fd-8e67-54c9387c5580",
   "metadata": {},
   "outputs": [],
   "source": [
    "function get_base_uniform_prior()\n",
    "    return fill(1 / num_items(), num_items())\n",
    "end\n",
    "\n",
    "function get_uniform_prior(split)\n",
    "    fill(1.0f0 / num_items(), length(split.item))\n",
    "end;"
   ]
  },
  {
   "cell_type": "code",
   "execution_count": 5,
   "id": "1f8236f5-5d31-4d0b-ba11-dd45685c0ba2",
   "metadata": {},
   "outputs": [],
   "source": [
    "function get_base_popularity_prior()\n",
    "    popularity_prior = zeros(Float32, maximum(training.item), Threads.nthreads())\n",
    "    @tprogress Threads.@threads for i in training.item\n",
    "        popularity_prior[i, Threads.threadid()] += 1\n",
    "    end\n",
    "    popularity_prior = sum(popularity_prior, dims = 2)\n",
    "    popularity_prior = popularity_prior ./ sum(popularity_prior)\n",
    "    popularity_prior\n",
    "end\n",
    "\n",
    "function get_popularity_prior(split)\n",
    "    popularity_prior = get_base_popularity_prior()\n",
    "\n",
    "    split_prior = zeros(Float32, length(split.rating))\n",
    "    @tprogress Threads.@threads for j = 1:length(split_prior)\n",
    "        split_prior[j] = popularity_prior[split.item[j]]\n",
    "    end\n",
    "    split_prior\n",
    "end;"
   ]
  },
  {
   "cell_type": "markdown",
   "id": "add8b6e4-e53d-4f2b-9183-df18f637b182",
   "metadata": {},
   "source": [
    "## Load alphas"
   ]
  },
  {
   "cell_type": "code",
   "execution_count": 6,
   "id": "fe4ad27b-d09d-4679-8632-fc880fa82503",
   "metadata": {},
   "outputs": [
    {
     "data": {
      "text/plain": [
       "4-element Vector{String}:\n",
       " \"GNN.1.Implicit\"\n",
       " \"GNN2.1.Implicit\"\n",
       " \"GNN3.1.Implicit\"\n",
       " \"GNN.Implicit.1\""
      ]
     },
     "execution_count": 6,
     "metadata": {},
     "output_type": "execute_result"
    }
   ],
   "source": [
    "alphas = [\n",
    "    [\"GNN.$K.Implicit\" for K = 1:1]\n",
    "    [\"GNN2.$K.Implicit\" for K = 1:1]\n",
    "    [\"GNN3.$K.Implicit\" for K = 1:1]\n",
    "    [\"GNN.Implicit.$K\" for K = 1:1]\n",
    "]"
   ]
  },
  {
   "cell_type": "code",
   "execution_count": 7,
   "id": "507f218d-865a-48ba-8996-56475112e28b",
   "metadata": {},
   "outputs": [],
   "source": [
    "function get_indep(split, alphas)\n",
    "    users = get_split(split).user\n",
    "    X = zeros(Float32, length(users), length(alphas))\n",
    "    @showprogress for j = 1:length(alphas)\n",
    "        X[:, j] = get_alpha(alphas[j], split).rating\n",
    "    end\n",
    "    split_df = get_split(split)\n",
    "    X = hcat(X, get_uniform_prior(split_df), get_popularity_prior(split_df))\n",
    "    X\n",
    "end;"
   ]
  },
  {
   "cell_type": "code",
   "execution_count": 8,
   "id": "bfdafacf-3939-4348-adbb-956df1c509a7",
   "metadata": {
    "tags": []
   },
   "outputs": [
    {
     "name": "stderr",
     "output_type": "stream",
     "text": [
      "\u001b[32mProgress: 100%|█████████████████████████████████████████| Time: 0:00:01\u001b[39m\n",
      "\u001b[32mProgress: 100%|███████████████████████████| Time: 0:00:02 ( 0.21 μs/it)\u001b[39m/it)\u001b[39m\n"
     ]
    }
   ],
   "source": [
    "X = get_indep(\"validation\", alphas);"
   ]
  },
  {
   "cell_type": "code",
   "execution_count": 9,
   "id": "f343fed1-bc9e-4e48-b5d5-4d1998779241",
   "metadata": {},
   "outputs": [
    {
     "name": "stderr",
     "output_type": "stream",
     "text": [
      "\u001b[38;5;4m\u001b[1m[ \u001b[22m\u001b[39m\u001b[38;5;4m\u001b[1mDebug: \u001b[22m\u001b[39m20220404 05:33:01 6.6619294933991435\n",
      "\u001b[38;5;4m\u001b[1m[ \u001b[22m\u001b[39m\u001b[38;5;4m\u001b[1mDebug: \u001b[22m\u001b[39m20220404 05:33:01 6.706953164943381\n",
      "\u001b[38;5;4m\u001b[1m[ \u001b[22m\u001b[39m\u001b[38;5;4m\u001b[1mDebug: \u001b[22m\u001b[39m20220404 05:33:01 6.696576401161358\n",
      "\u001b[38;5;4m\u001b[1m[ \u001b[22m\u001b[39m\u001b[38;5;4m\u001b[1mDebug: \u001b[22m\u001b[39m20220404 05:33:01 6.470029678062337\n",
      "\u001b[38;5;4m\u001b[1m[ \u001b[22m\u001b[39m\u001b[38;5;4m\u001b[1mDebug: \u001b[22m\u001b[39m20220404 05:33:01 9.849664724534657\n",
      "\u001b[38;5;4m\u001b[1m[ \u001b[22m\u001b[39m\u001b[38;5;4m\u001b[1mDebug: \u001b[22m\u001b[39m20220404 05:33:02 7.532273907683687\n"
     ]
    }
   ],
   "source": [
    "for j = 1:size(X)[2]\n",
    "    @debug sparse_crossentropy(X[:, j])\n",
    "end"
   ]
  },
  {
   "cell_type": "markdown",
   "id": "05ac4c4d-784c-44a6-b9b3-2915b7506e78",
   "metadata": {},
   "source": [
    "## Train a linear model"
   ]
  },
  {
   "cell_type": "code",
   "execution_count": 10,
   "id": "f0829f76-9f6e-4492-b11f-d725bfa165a8",
   "metadata": {},
   "outputs": [],
   "source": [
    "function loss(coefs)\n",
    "    coefs = coefs .^ 2\n",
    "    if sum(coefs) == 0\n",
    "        coefs .+= 1 # prevent division by zero\n",
    "    end\n",
    "    coefs = coefs ./ sum(coefs)\n",
    "\n",
    "    y = sum(X .* coefs', dims = 2)\n",
    "    sparse_crossentropy(y)\n",
    "end;"
   ]
  },
  {
   "cell_type": "code",
   "execution_count": 11,
   "id": "8bcbef77-46a8-4e68-bc7f-7af3e2f0ce60",
   "metadata": {
    "tags": []
   },
   "outputs": [
    {
     "name": "stdout",
     "output_type": "stream",
     "text": [
      "Iter     Function value   Gradient norm \n",
      "     0     6.796663e+00     2.920057e-01\n",
      " * Current step size: 1.0\n",
      " * time: 2.318207025527954\n",
      " * g(x): [-0.07783809191044475, -0.06191537066790139, -0.07316193316528184, -0.18250992506222413, 0.2920057342568874, 0.1034195865489645]\n",
      " * x: [0.4082482904638631, 0.4082482904638631, 0.4082482904638631, 0.4082482904638631, 0.4082482904638631, 0.4082482904638631]\n",
      "     1     6.583098e+00     4.679164e-01\n",
      " * Current step size: 2.748015933651294\n",
      " * time: 10.122090101242065\n",
      " * g(x): [-0.005175209615991256, 0.02459293552403628, 0.005883047367364072, -0.22622338544305437, -0.4679164229048152, 0.05464890882418531]\n",
      " * x: [0.43021137297871875, 0.3999544825573392, 0.4213255788616091, 0.6291123106787653, -0.27257830416953904, 0.08577943627390971]\n",
      "     2     6.501047e+00     9.689169e-02\n",
      " * Current step size: 0.9808484526340042\n",
      " * time: 13.5592520236969\n",
      " * g(x): [0.04978385680471064, 0.06652586517869213, 0.05721128603454044, -0.09689168963738311, 0.05315274156422701, 0.031110812624464527]\n",
      " * x: [0.41120703679577464, 0.3646591636380537, 0.39611793246711774, 0.7327386985505911, 0.037179911779171786, 0.05229440360964403]\n",
      "     3     6.479598e+00     1.160992e-01\n",
      " * Current step size: 2.756983949504272\n",
      " * time: 18.713270902633667\n",
      " * g(x): [0.013898554431715044, 0.017377059727633613, 0.01580586857630888, -0.03127985460219555, -0.11609918450427072, -0.0743473462507742]\n",
      " * x: [0.269668441110843, 0.1853449737258204, 0.23895377752709857, 0.9033949107509445, -0.07475489017265409, -0.11881332590883964]\n",
      "     4     6.469076e+00     1.299316e-02\n",
      " * Current step size: 1.2551510845533147\n",
      " * time: 23.868611097335815\n",
      " * g(x): [0.0024749819379558035, 0.004899898648230748, 0.004487047339154174, -0.002109068778413687, 0.01299315812092236, -0.0013626287367208268]\n",
      " * x: [0.20720233169801414, 0.11351005870513642, 0.1711129376626717, 0.956402278146793, 0.013446831077927771, -0.004109497012960021]\n",
      "     5     6.468819e+00     1.935261e-03\n",
      " * Current step size: 2.4798979657251294\n",
      " * time: 29.01632595062256\n",
      " * g(x): [-0.0019352607546685456, 0.0011783755407874955, 0.00031237489139156085, 0.00021977006745107, 0.00039609351045324557, -0.0008090879619754512]\n",
      " * x: [0.18124927583648082, 0.07831347782986638, 0.1386430863840361, 0.9704522737673034, -0.002152021658430309, -0.0033980787959997233]\n",
      "     6     6.468766e+00     3.675855e-03\n",
      " * Current step size: 5.514067040966186\n",
      " * time: 35.84994196891785\n",
      " * g(x): [-0.00037710922142423066, 0.001034974084045701, 0.0007819375325700253, -0.00012037121921000407, -0.003675854880398274, 0.0016435482875047178]\n",
      " * x: [0.21036748313847653, 0.057686353451368036, 0.1318832757461955, 0.966927952380236, -0.0062881687261496354, 0.005949964853257202]\n",
      "     7     6.468730e+00     1.118913e-03\n",
      " * Current step size: 1.9349053863198233\n",
      " * time: 40.97740292549133\n",
      " * g(x): [0.0009133395592881157, 0.000491501676438957, 0.0006757419087301558, -0.00032137146583742976, 0.0002976954098789121, 0.0011189134889864468]\n",
      " * x: [0.23366926730241447, 0.02833117953454708, 0.11610466516235816, 0.9649308587910336, -0.0021567970195149238, 0.0044170682002384045]\n",
      "     8     6.468718e+00     7.681263e-04\n",
      " * Current step size: 1.501108830509622\n",
      " * time: 46.09933400154114\n",
      " * g(x): [-0.0002543196230538782, 0.00017474266492094795, 1.4071439544971728e-6, 5.775148343878669e-5, 0.0007681263455264246, -0.00028129615227606225]\n",
      " * x: [0.2279250953193809, 0.015729630273592816, 0.10498712341665521, 0.9678721654596014, -0.0015328337721594748, -0.0012471250828232738]\n",
      "     9     6.468716e+00     2.292434e-04\n",
      " * Current step size: 1.2099810152056523\n",
      " * time: 51.220569133758545\n",
      " * g(x): [0.00015947276417429575, 7.44603639903151e-5, 2.857204671813219e-5, -4.147049939992128e-5, 0.0002292433591443451, -0.0001394378411061764]\n",
      " * x: [0.23361012887189603, 0.006280077559720593, 0.09993278055154677, 0.9671577564768571, -0.002412042268432541, -0.0006031784848255833]\n",
      "    10     6.468716e+00     1.930755e-04\n",
      " * Current step size: 1.5383311776868167\n",
      " * time: 56.3429970741272\n",
      " * g(x): [3.580986198865481e-5, 3.756776068251748e-5, -3.313134197331507e-5, -5.981246944548331e-6, -0.00019307546628267135, -5.179504813330962e-5]\n",
      " * x: [0.2329652895906629, 0.003337354584782342, 0.09855663509667466, 0.9674677151684531, -0.002965856453430014, -0.00022224078220909634]\n",
      "    11     6.468716e+00     5.322440e-05\n",
      " * Current step size: 2.2635771392841955\n",
      " * time: 61.4645299911499\n",
      " * g(x): [-2.6974206726458027e-5, 2.825927953001803e-5, -5.3224397439935547e-5, 1.1886731046194703e-5, 2.288341431254784e-5, -7.538448456518177e-6]\n",
      " * x: [0.2324436612995704, 0.0025689169956966194, 0.09850102447061346, 0.9676019804743454, -0.00270175516868582, -3.2657194247555835e-5]\n",
      "    12     6.468716e+00     4.942575e-05\n",
      " * Current step size: 2.136354587301655\n",
      " * time: 66.59638690948486\n",
      " * g(x): [1.28139001147032e-5, 1.7106221002811485e-5, -4.178328562260065e-5, 1.194227542963757e-6, 2.238313390937117e-5, 4.942575415091938e-5]\n",
      " * x: [0.23280959224450637, 0.0015358883347053735, 0.09848539406092081, 0.9675177653941665, -0.0026999786494484156, 0.00021383312710113596]\n",
      "    13     6.468716e+00     5.936821e-06\n",
      " * Current step size: 5.056753963182902\n",
      " * time: 73.42304992675781\n",
      " * g(x): [1.324390084615712e-6, 9.955011465507884e-8, 8.739772203479347e-7, -4.005693403911107e-7, 2.982104316168779e-6, 5.936821493751346e-6]\n",
      " * x: [0.2319093705519014, 8.8190779966223e-6, 0.10110411703465903, 0.9674650335678402, -0.0027220319050882836, 2.5631466347449117e-5]\n",
      "    14     6.468716e+00     9.359771e-08\n",
      " * Current step size: 1.0228916958701522\n",
      " * time: 78.54388999938965\n",
      " * g(x): [-3.986053663277031e-8, 5.4453718404661185e-8, -2.359553290324027e-9, 9.537193436891721e-9, -9.359770705308677e-8, 1.701095130141452e-8]\n",
      " * x: [0.23190489195450265, 4.82694520410959e-6, 0.10107874413724127, 0.9674687473593115, -0.0027260650961622532, 7.343949782377419e-8]\n",
      "    15     6.468716e+00     1.077989e-08\n",
      " * Current step size: 1.055082441349377\n",
      " * time: 83.66067790985107\n",
      " * g(x): [9.005512110167018e-10, -2.989360905519744e-10, 1.7780883485312162e-9, -4.320081627583257e-10, -1.0779891965801945e-8, -2.1732371020569223e-10]\n",
      " * x: [0.23190540058567982, -2.649834976852261e-8, 0.10107829258844023, 0.9674686729294655, -0.002725957941584358, -9.38229403387331e-10]\n",
      "    16     6.468716e+00     2.672943e-10\n",
      " * Current step size: 0.9853448632133425\n",
      " * time: 87.076012134552\n",
      " * g(x): [8.156668261665666e-11, 4.243532462400338e-12, -2.2035683159863395e-11, -1.8002709784308138e-11, -2.672942657224661e-10, 4.969907115654057e-11]\n",
      " * x: [0.23190541993429334, 3.7615634189322695e-10, 0.10107820830759986, 0.9674686771341727, -0.0027259447313464358, 2.145608086510493e-10]\n"
     ]
    },
    {
     "data": {
      "text/plain": [
       " * Status: success\n",
       "\n",
       " * Candidate solution\n",
       "    Final objective value:     6.468716e+00\n",
       "\n",
       " * Found with\n",
       "    Algorithm:     L-BFGS\n",
       "\n",
       " * Convergence measures\n",
       "    |x - x'|               = 8.43e-08 ≰ 0.0e+00\n",
       "    |x - x'|/|x'|          = 8.71e-08 ≰ 0.0e+00\n",
       "    |f(x) - f(x')|         = 8.88e-16 ≰ 0.0e+00\n",
       "    |f(x) - f(x')|/|f(x')| = 1.37e-16 ≰ 0.0e+00\n",
       "    |g(x)|                 = 2.67e-10 ≤ 1.0e-08\n",
       "\n",
       " * Work counters\n",
       "    Seconds run:   87  (vs limit Inf)\n",
       "    Iterations:    16\n",
       "    f(x) calls:    49\n",
       "    ∇f(x) calls:   50\n"
      ]
     },
     "execution_count": 11,
     "metadata": {},
     "output_type": "execute_result"
    }
   ],
   "source": [
    "res = optimize(\n",
    "    loss,\n",
    "    fill(1.0, size(X)[2]),\n",
    "    LBFGS(manifold = Optim.Sphere()),\n",
    "    autodiff = :forward,\n",
    "    Optim.Options(show_trace = true, extended_trace = true),\n",
    ")"
   ]
  },
  {
   "cell_type": "code",
   "execution_count": 12,
   "id": "4cfeee6f-72ca-43c2-a57d-41c3e4218569",
   "metadata": {},
   "outputs": [
    {
     "data": {
      "text/plain": [
       " * Status: success\n",
       "\n",
       " * Candidate solution\n",
       "    Final objective value:     6.468716e+00\n",
       "\n",
       " * Found with\n",
       "    Algorithm:     L-BFGS\n",
       "\n",
       " * Convergence measures\n",
       "    |x - x'|               = 8.43e-08 ≰ 0.0e+00\n",
       "    |x - x'|/|x'|          = 8.71e-08 ≰ 0.0e+00\n",
       "    |f(x) - f(x')|         = 8.88e-16 ≰ 0.0e+00\n",
       "    |f(x) - f(x')|/|f(x')| = 1.37e-16 ≰ 0.0e+00\n",
       "    |g(x)|                 = 2.67e-10 ≤ 1.0e-08\n",
       "\n",
       " * Work counters\n",
       "    Seconds run:   87  (vs limit Inf)\n",
       "    Iterations:    16\n",
       "    f(x) calls:    49\n",
       "    ∇f(x) calls:   50\n"
      ]
     },
     "execution_count": 12,
     "metadata": {},
     "output_type": "execute_result"
    }
   ],
   "source": [
    "res"
   ]
  },
  {
   "cell_type": "markdown",
   "id": "af0c2b5d-ebe5-4f60-bfa2-7813bd8a3acf",
   "metadata": {},
   "source": [
    "# Evaluate on the test set"
   ]
  },
  {
   "cell_type": "code",
   "execution_count": 13,
   "id": "18c23ddc-8c68-4451-9b73-735ccf60217f",
   "metadata": {},
   "outputs": [
    {
     "data": {
      "text/plain": [
       "6-element Vector{Float64}:\n",
       " 0.053780123794900936\n",
       " 1.4149359354649425e-19\n",
       " 0.01021680419467455\n",
       " 0.9359956412357462\n",
       " 7.430774678355392e-6\n",
       " 4.60363406089922e-20"
      ]
     },
     "execution_count": 13,
     "metadata": {},
     "output_type": "execute_result"
    }
   ],
   "source": [
    "β = Optim.minimizer(res) .^ 2\n",
    "β = β / sum(β)"
   ]
  },
  {
   "cell_type": "code",
   "execution_count": 14,
   "id": "30a062c9-3277-4def-854b-206def8db07d",
   "metadata": {},
   "outputs": [
    {
     "name": "stderr",
     "output_type": "stream",
     "text": [
      "\u001b[32mProgress: 100%|█████████████████████████████████████████| Time: 0:00:01\u001b[39m\n",
      "\u001b[32mProgress: 100%|███████████████████████████| Time: 0:00:02 ( 0.30 μs/it)\u001b[39m\n"
     ]
    }
   ],
   "source": [
    "X_test = get_indep(\"test\", alphas);"
   ]
  },
  {
   "cell_type": "code",
   "execution_count": 15,
   "id": "4da20956-3d94-4dc9-b82e-068efd1cb0aa",
   "metadata": {},
   "outputs": [
    {
     "data": {
      "text/plain": [
       "6.4687146803286275"
      ]
     },
     "execution_count": 15,
     "metadata": {},
     "output_type": "execute_result"
    }
   ],
   "source": [
    "sparse_crossentropy(X_test * β)"
   ]
  },
  {
   "cell_type": "code",
   "execution_count": 16,
   "id": "46376a42-8b84-4728-aef3-d73dfcc4e76c",
   "metadata": {},
   "outputs": [],
   "source": [
    "# SOTA: 6.4687146803286275"
   ]
  },
  {
   "cell_type": "code",
   "execution_count": 17,
   "id": "7a5305e6-a6e3-44f2-b161-a4f02d154c1c",
   "metadata": {},
   "outputs": [
    {
     "name": "stderr",
     "output_type": "stream",
     "text": [
      "\u001b[32mProgress: 100%|███████████████████████████| Time: 0:00:04 ( 0.42 μs/it)\u001b[39m\n"
     ]
    }
   ],
   "source": [
    "write_params(\n",
    "    Dict(\n",
    "        \"β\" => β,\n",
    "        \"alphas\" => alphas,\n",
    "        \"priors\" => [get_base_uniform_prior(), get_base_popularity_prior()],\n",
    "    ),\n",
    ");"
   ]
  },
  {
   "cell_type": "code",
   "execution_count": null,
   "id": "904062fc-995c-492a-ae82-fb63dbc543ed",
   "metadata": {},
   "outputs": [],
   "source": []
  }
 ],
 "metadata": {
  "kernelspec": {
   "display_name": "Julia 1.6.3",
   "language": "julia",
   "name": "julia-1.6"
  },
  "language_info": {
   "file_extension": ".jl",
   "mimetype": "application/julia",
   "name": "julia",
   "version": "1.6.3"
  }
 },
 "nbformat": 4,
 "nbformat_minor": 5
}
