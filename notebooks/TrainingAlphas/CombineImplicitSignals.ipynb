{
 "cells": [
  {
   "cell_type": "code",
   "execution_count": 1,
   "id": "79559bef-810a-402f-ad21-52092ec933f4",
   "metadata": {},
   "outputs": [],
   "source": [
    "name = \"CombineImplicitSignals\"\n",
    "residual_alphas = [];"
   ]
  },
  {
   "cell_type": "code",
   "execution_count": 2,
   "id": "69b5a19a-24f5-4730-afe2-f451d27d18e3",
   "metadata": {},
   "outputs": [],
   "source": [
    "using NBInclude\n",
    "@nbinclude(\"Alpha.ipynb\");"
   ]
  },
  {
   "cell_type": "markdown",
   "id": "2cd85260-62c2-4d8c-8318-1cb36b8a5ac8",
   "metadata": {},
   "source": [
    "## Compute priors"
   ]
  },
  {
   "cell_type": "code",
   "execution_count": 3,
   "id": "e538c643-cfa3-4093-8e74-f862b868a641",
   "metadata": {},
   "outputs": [],
   "source": [
    "training = get_split(\"training\");"
   ]
  },
  {
   "cell_type": "code",
   "execution_count": 4,
   "id": "e78da648-e6ba-46fd-8e67-54c9387c5580",
   "metadata": {},
   "outputs": [],
   "source": [
    "function get_base_uniform_prior()\n",
    "    return fill(1 / num_items(), num_items())\n",
    "end\n",
    "\n",
    "function get_uniform_prior(split)\n",
    "    fill(1.0f0 / num_items(), length(split.item))\n",
    "end;"
   ]
  },
  {
   "cell_type": "code",
   "execution_count": 5,
   "id": "1f8236f5-5d31-4d0b-ba11-dd45685c0ba2",
   "metadata": {},
   "outputs": [],
   "source": [
    "function get_base_popularity_prior()\n",
    "    popularity_prior = zeros(Float32, maximum(training.item), Threads.nthreads())\n",
    "    @tprogress Threads.@threads for i in training.item\n",
    "        popularity_prior[i, Threads.threadid()] += 1\n",
    "    end\n",
    "    popularity_prior = sum(popularity_prior, dims = 2)\n",
    "    popularity_prior = popularity_prior ./ sum(popularity_prior)\n",
    "    popularity_prior\n",
    "end\n",
    "\n",
    "function get_popularity_prior(split)\n",
    "    popularity_prior = get_base_popularity_prior()\n",
    "\n",
    "    split_prior = zeros(Float32, length(split.rating))\n",
    "    @tprogress Threads.@threads for j = 1:length(split_prior)\n",
    "        split_prior[j] = popularity_prior[split.item[j]]\n",
    "    end\n",
    "    split_prior\n",
    "end;"
   ]
  },
  {
   "cell_type": "markdown",
   "id": "add8b6e4-e53d-4f2b-9183-df18f637b182",
   "metadata": {},
   "source": [
    "## Load alphas"
   ]
  },
  {
   "cell_type": "code",
   "execution_count": 6,
   "id": "fe4ad27b-d09d-4679-8632-fc880fa82503",
   "metadata": {},
   "outputs": [
    {
     "data": {
      "text/plain": [
       "1-element Vector{String}:\n",
       " \"GNN.1.Implicit\""
      ]
     },
     "execution_count": 6,
     "metadata": {},
     "output_type": "execute_result"
    }
   ],
   "source": [
    "alphas = [[\"GNN.$K.Implicit\" for K = 1:1]\n",
    "#   [\"GNN.Resid.$K.Implicit\" for K = 1:1]\n",
    "# [\"Implicit\"]\n",
    "]"
   ]
  },
  {
   "cell_type": "code",
   "execution_count": 7,
   "id": "507f218d-865a-48ba-8996-56475112e28b",
   "metadata": {},
   "outputs": [],
   "source": [
    "function get_indep(split, alphas)\n",
    "    users = get_split(split).user\n",
    "    X = zeros(Float32, length(users), length(alphas))\n",
    "    @showprogress for j = 1:length(alphas)\n",
    "        X[:, j] = get_alpha(alphas[j], split).rating\n",
    "    end\n",
    "    split_df = get_split(split)\n",
    "    X = hcat(X, get_uniform_prior(split_df), get_popularity_prior(split_df))\n",
    "    X\n",
    "end;"
   ]
  },
  {
   "cell_type": "code",
   "execution_count": 8,
   "id": "bfdafacf-3939-4348-adbb-956df1c509a7",
   "metadata": {
    "tags": []
   },
   "outputs": [
    {
     "name": "stderr",
     "output_type": "stream",
     "text": [
      "\u001b[32mProgress: 100%|███████████████████████████| Time: 0:00:03 ( 0.38 μs/it)\u001b[39m/it)\u001b[39m\n"
     ]
    }
   ],
   "source": [
    "X = get_indep(\"validation\", alphas);"
   ]
  },
  {
   "cell_type": "code",
   "execution_count": 9,
   "id": "f343fed1-bc9e-4e48-b5d5-4d1998779241",
   "metadata": {},
   "outputs": [
    {
     "name": "stderr",
     "output_type": "stream",
     "text": [
      "\u001b[38;5;4m\u001b[1m[ \u001b[22m\u001b[39m\u001b[38;5;4m\u001b[1mDebug: \u001b[22m\u001b[39m20220319 23:47:08 6.6619294933991435\n",
      "\u001b[38;5;4m\u001b[1m[ \u001b[22m\u001b[39m\u001b[38;5;4m\u001b[1mDebug: \u001b[22m\u001b[39m20220319 23:47:08 9.849664724534657\n",
      "\u001b[38;5;4m\u001b[1m[ \u001b[22m\u001b[39m\u001b[38;5;4m\u001b[1mDebug: \u001b[22m\u001b[39m20220319 23:47:09 7.532273907683687\n"
     ]
    }
   ],
   "source": [
    "for j = 1:size(X)[2]\n",
    "    @debug sparse_crossentropy(X[:, j])\n",
    "end"
   ]
  },
  {
   "cell_type": "markdown",
   "id": "05ac4c4d-784c-44a6-b9b3-2915b7506e78",
   "metadata": {},
   "source": [
    "## Train a linear model"
   ]
  },
  {
   "cell_type": "code",
   "execution_count": 10,
   "id": "f0829f76-9f6e-4492-b11f-d725bfa165a8",
   "metadata": {},
   "outputs": [],
   "source": [
    "function loss(coefs)\n",
    "    coefs = coefs .^ 2\n",
    "    if sum(coefs) == 0\n",
    "        coefs .+= 1 # prevent division by zero\n",
    "    end\n",
    "    coefs = coefs ./ sum(coefs)\n",
    "\n",
    "    y = sum(X .* coefs', dims = 2)\n",
    "    sparse_crossentropy(y)\n",
    "end;"
   ]
  },
  {
   "cell_type": "code",
   "execution_count": 11,
   "id": "8bcbef77-46a8-4e68-bc7f-7af3e2f0ce60",
   "metadata": {
    "tags": []
   },
   "outputs": [
    {
     "name": "stdout",
     "output_type": "stream",
     "text": [
      "Iter     Function value   Gradient norm \n",
      "     0     7.238512e+00     6.178381e-01\n",
      " * Current step size: 1.0\n",
      " * time: 1.3144700527191162\n",
      " * g(x): [-0.617838087568771, 0.5630877287636165, 0.05475035880515442]\n",
      " * x: [0.5773502691896258, 0.5773502691896258, 0.5773502691896258]\n",
      "     1     6.782562e+00     6.019688e-01\n",
      " * Current step size: 2.5036021214034596\n",
      " * time: 5.301657199859619\n",
      " * g(x): [-0.2537442105176637, -0.6019687626751249, 0.08612503810816974]\n",
      " * x: [0.9141965501241675, -0.35824554235961, 0.18948561718647491]\n",
      "     2     6.665540e+00     9.775219e-02\n",
      " * Current step size: 0.70899524006742\n",
      " * time: 6.673318147659302\n",
      " * g(x): [-0.008524687031078825, 0.09775219155606696, 0.0229239717756108]\n",
      " * x: [0.9952775625252133, 0.07136434707260042, 0.06580048252688774]\n",
      "     3     6.662084e+00     1.035943e-02\n",
      " * Current step size: 0.9080220763330605\n",
      " * time: 8.045809030532837\n",
      " * g(x): [-0.0004995483394382731, -0.004536463538997861, 0.010359430681352803]\n",
      " * x: [0.9989637764211222, -0.007489693978506117, 0.044891846504221525]\n",
      "     4     6.661919e+00     4.991519e-04\n",
      " * Current step size: 5.016260299274006\n",
      " * time: 10.792164087295532\n",
      " * g(x): [-2.713971121533869e-6, 0.00049915193973277, 0.0002466300598559429]\n",
      " * x: [0.9999812447086461, 0.0060127228201159195, -0.001165073059988836]\n",
      "     5     6.661918e+00     8.790554e-04\n",
      " * Current step size: 6.42608974836837\n",
      " * time: 13.54573917388916\n",
      " * g(x): [5.5446176153854435e-6, -0.0008790553555293782, 0.0004324251106352259]\n",
      " * x: [0.9999790113926258, 0.003686408596472822, -0.005327960762500222]\n",
      "     6     6.661918e+00     8.103095e-04\n",
      " * Current step size: 0.5940813108783041\n",
      " * time: 14.92281699180603\n",
      " * g(x): [3.7995158311195783e-6, -0.000810309460261838, 0.00012638670912571784]\n",
      " * x: [0.9999587153256305, 0.003372741999139864, -0.008437550338932572]\n",
      "     7     6.661917e+00     1.856433e-05\n",
      " * Current step size: 1.0827375624614546\n",
      " * time: 16.983009099960327\n",
      " * g(x): [1.6506663721269345e-7, -1.8564333899679706e-5, 9.081610684774522e-6]\n",
      " * x: [0.999951802750257, 0.004665093304762412, -0.008638812474478327]\n",
      "     8     6.661917e+00     9.757967e-07\n",
      " * Current step size: 0.873764428057573\n",
      " * time: 18.3545241355896\n",
      " * g(x): [1.9782355707528314e-9, -9.757967294651932e-7, -2.9799263817987446e-7]\n",
      " * x: [0.9999511730426784, 0.004684364563138257, -0.008701049316657336]\n",
      "     9     6.661917e+00     1.821716e-09\n",
      " * Current step size: 0.7743636540944231\n",
      " * time: 19.724745988845825\n",
      " * g(x): [1.6970606948185893e-11, -1.8217164740609357e-9, 9.695574462604024e-10]\n",
      " * x: [0.9999511930295365, 0.004686099673838919, -0.008697817464943646]\n"
     ]
    },
    {
     "data": {
      "text/plain": [
       " * Status: success\n",
       "\n",
       " * Candidate solution\n",
       "    Final objective value:     6.661917e+00\n",
       "\n",
       " * Found with\n",
       "    Algorithm:     L-BFGS\n",
       "\n",
       " * Convergence measures\n",
       "    |x - x'|               = 3.23e-06 ≰ 0.0e+00\n",
       "    |x - x'|/|x'|          = 3.23e-06 ≰ 0.0e+00\n",
       "    |f(x) - f(x')|         = 1.33e-12 ≰ 0.0e+00\n",
       "    |f(x) - f(x')|/|f(x')| = 1.99e-13 ≰ 0.0e+00\n",
       "    |g(x)|                 = 1.82e-09 ≤ 1.0e-08\n",
       "\n",
       " * Work counters\n",
       "    Seconds run:   20  (vs limit Inf)\n",
       "    Iterations:    9\n",
       "    f(x) calls:    25\n",
       "    ∇f(x) calls:   26\n"
      ]
     },
     "execution_count": 11,
     "metadata": {},
     "output_type": "execute_result"
    }
   ],
   "source": [
    "res = optimize(\n",
    "    loss,\n",
    "    fill(1.0, size(X)[2]),\n",
    "    LBFGS(manifold = Optim.Sphere()),\n",
    "    autodiff = :forward,\n",
    "    Optim.Options(show_trace = true, extended_trace = true),\n",
    ")"
   ]
  },
  {
   "cell_type": "code",
   "execution_count": 12,
   "id": "4cfeee6f-72ca-43c2-a57d-41c3e4218569",
   "metadata": {},
   "outputs": [
    {
     "data": {
      "text/plain": [
       " * Status: success\n",
       "\n",
       " * Candidate solution\n",
       "    Final objective value:     6.661917e+00\n",
       "\n",
       " * Found with\n",
       "    Algorithm:     L-BFGS\n",
       "\n",
       " * Convergence measures\n",
       "    |x - x'|               = 3.23e-06 ≰ 0.0e+00\n",
       "    |x - x'|/|x'|          = 3.23e-06 ≰ 0.0e+00\n",
       "    |f(x) - f(x')|         = 1.33e-12 ≰ 0.0e+00\n",
       "    |f(x) - f(x')|/|f(x')| = 1.99e-13 ≰ 0.0e+00\n",
       "    |g(x)|                 = 1.82e-09 ≤ 1.0e-08\n",
       "\n",
       " * Work counters\n",
       "    Seconds run:   20  (vs limit Inf)\n",
       "    Iterations:    9\n",
       "    f(x) calls:    25\n",
       "    ∇f(x) calls:   26\n"
      ]
     },
     "execution_count": 12,
     "metadata": {},
     "output_type": "execute_result"
    }
   ],
   "source": [
    "res"
   ]
  },
  {
   "cell_type": "markdown",
   "id": "af0c2b5d-ebe5-4f60-bfa2-7813bd8a3acf",
   "metadata": {},
   "source": [
    "# Evaluate on the test set"
   ]
  },
  {
   "cell_type": "code",
   "execution_count": 13,
   "id": "18c23ddc-8c68-4451-9b73-735ccf60217f",
   "metadata": {},
   "outputs": [
    {
     "data": {
      "text/plain": [
       "3-element Vector{Float64}:\n",
       " 0.9999023884411934\n",
       " 2.195953015315322e-5\n",
       " 7.565202865347872e-5"
      ]
     },
     "execution_count": 13,
     "metadata": {},
     "output_type": "execute_result"
    }
   ],
   "source": [
    "β = Optim.minimizer(res) .^ 2\n",
    "β = β / sum(β)"
   ]
  },
  {
   "cell_type": "code",
   "execution_count": 14,
   "id": "30a062c9-3277-4def-854b-206def8db07d",
   "metadata": {},
   "outputs": [
    {
     "name": "stderr",
     "output_type": "stream",
     "text": [
      "\u001b[32mProgress: 100%|███████████████████████████| Time: 0:00:02 ( 0.22 μs/it)\u001b[39m\n"
     ]
    }
   ],
   "source": [
    "X_test = get_indep(\"test\", alphas);"
   ]
  },
  {
   "cell_type": "code",
   "execution_count": 15,
   "id": "4da20956-3d94-4dc9-b82e-068efd1cb0aa",
   "metadata": {},
   "outputs": [
    {
     "data": {
      "text/plain": [
       "6.661984783967663"
      ]
     },
     "execution_count": 15,
     "metadata": {},
     "output_type": "execute_result"
    }
   ],
   "source": [
    "sparse_crossentropy(X_test * β)"
   ]
  },
  {
   "cell_type": "code",
   "execution_count": 16,
   "id": "46376a42-8b84-4728-aef3-d73dfcc4e76c",
   "metadata": {},
   "outputs": [],
   "source": [
    "# SOTA: 6.6619409316212055"
   ]
  },
  {
   "cell_type": "code",
   "execution_count": 17,
   "id": "7a5305e6-a6e3-44f2-b161-a4f02d154c1c",
   "metadata": {},
   "outputs": [
    {
     "name": "stderr",
     "output_type": "stream",
     "text": [
      "\u001b[32mProgress: 100%|███████████████████████████| Time: 0:00:01 ( 0.19 μs/it)\u001b[39m\n"
     ]
    }
   ],
   "source": [
    "write_params(\n",
    "    Dict(\n",
    "        \"β\" => β,\n",
    "        \"alphas\" => alphas,\n",
    "        \"priors\" => [get_base_uniform_prior(), get_base_popularity_prior()],\n",
    "    ),\n",
    ");"
   ]
  },
  {
   "cell_type": "code",
   "execution_count": null,
   "id": "904062fc-995c-492a-ae82-fb63dbc543ed",
   "metadata": {},
   "outputs": [],
   "source": []
  }
 ],
 "metadata": {
  "kernelspec": {
   "display_name": "Julia 1.6.3",
   "language": "julia",
   "name": "julia-1.6"
  },
  "language_info": {
   "file_extension": ".jl",
   "mimetype": "application/julia",
   "name": "julia",
   "version": "1.6.3"
  }
 },
 "nbformat": 4,
 "nbformat_minor": 5
}
