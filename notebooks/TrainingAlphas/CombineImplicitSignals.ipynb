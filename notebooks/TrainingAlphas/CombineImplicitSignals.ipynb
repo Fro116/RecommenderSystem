{
 "cells": [
  {
   "cell_type": "code",
   "execution_count": 1,
   "id": "79559bef-810a-402f-ad21-52092ec933f4",
   "metadata": {},
   "outputs": [],
   "source": [
    "const name = \"CombineImplicitSignals\"\n",
    "const residual_alphas = [];"
   ]
  },
  {
   "cell_type": "code",
   "execution_count": 2,
   "id": "69b5a19a-24f5-4730-afe2-f451d27d18e3",
   "metadata": {},
   "outputs": [],
   "source": [
    "using NBInclude\n",
    "@nbinclude(\"Alpha.ipynb\");"
   ]
  },
  {
   "cell_type": "markdown",
   "id": "2cd85260-62c2-4d8c-8318-1cb36b8a5ac8",
   "metadata": {},
   "source": [
    "## Compute priors"
   ]
  },
  {
   "cell_type": "markdown",
   "id": "add8b6e4-e53d-4f2b-9183-df18f637b182",
   "metadata": {},
   "source": [
    "## Load alphas"
   ]
  },
  {
   "cell_type": "code",
   "execution_count": 3,
   "id": "fe4ad27b-d09d-4679-8632-fc880fa82503",
   "metadata": {},
   "outputs": [
    {
     "data": {
      "text/plain": [
       "2-element Vector{String}:\n",
       " \"UniformBaseline\"\n",
       " \"PopularityBaseline\""
      ]
     },
     "execution_count": 3,
     "metadata": {},
     "output_type": "execute_result"
    }
   ],
   "source": [
    "const alphas = [\n",
    "    [\"UniformBaseline\"]\n",
    "    [\"PopularityBaseline\"]\n",
    "]"
   ]
  },
  {
   "cell_type": "code",
   "execution_count": 4,
   "id": "507f218d-865a-48ba-8996-56475112e28b",
   "metadata": {},
   "outputs": [],
   "source": [
    "function get_indep(split, alphas)\n",
    "    users = get_split(split).user\n",
    "    X = zeros(Float32, length(users), length(alphas))\n",
    "    @showprogress for j = 1:length(alphas)\n",
    "        X[:, j] = get_alpha(alphas[j], split).rating\n",
    "    end\n",
    "    X\n",
    "end;"
   ]
  },
  {
   "cell_type": "code",
   "execution_count": 5,
   "id": "bfdafacf-3939-4348-adbb-956df1c509a7",
   "metadata": {
    "tags": []
   },
   "outputs": [],
   "source": [
    "const X = get_indep(\"validation\", alphas);"
   ]
  },
  {
   "cell_type": "code",
   "execution_count": 6,
   "id": "fb6df94e-b52f-4ba2-acfe-e48e3d807fb6",
   "metadata": {},
   "outputs": [],
   "source": [
    "const validation_weights = get_weights(\"validation\", \"inverse\");"
   ]
  },
  {
   "cell_type": "code",
   "execution_count": 7,
   "id": "f343fed1-bc9e-4e48-b5d5-4d1998779241",
   "metadata": {},
   "outputs": [
    {
     "name": "stderr",
     "output_type": "stream",
     "text": [
      "\u001b[38;5;6m\u001b[1m[ \u001b[22m\u001b[39m\u001b[38;5;6m\u001b[1mInfo: \u001b[22m\u001b[39m20220514 19:38:03 9.849667\n",
      "\u001b[38;5;6m\u001b[1m[ \u001b[22m\u001b[39m\u001b[38;5;6m\u001b[1mInfo: \u001b[22m\u001b[39m20220514 19:38:04 7.40994\n"
     ]
    }
   ],
   "source": [
    "for j = 1:size(X)[2]\n",
    "    @info sparse_crossentropy(X[:, j], validation_weights)\n",
    "end"
   ]
  },
  {
   "cell_type": "markdown",
   "id": "05ac4c4d-784c-44a6-b9b3-2915b7506e78",
   "metadata": {},
   "source": [
    "## Train a linear model"
   ]
  },
  {
   "cell_type": "code",
   "execution_count": 8,
   "id": "f0829f76-9f6e-4492-b11f-d725bfa165a8",
   "metadata": {},
   "outputs": [],
   "source": [
    "function loss(coefs)\n",
    "    coefs = coefs .^ 2\n",
    "    if sum(coefs) == 0\n",
    "        coefs .+= 1 # prevent division by zero\n",
    "    end\n",
    "    coefs = coefs ./ sum(coefs)\n",
    "\n",
    "    y = sum(X .* coefs', dims = 2)\n",
    "    sparse_crossentropy(y, validation_weights)\n",
    "end;"
   ]
  },
  {
   "cell_type": "code",
   "execution_count": 9,
   "id": "8bcbef77-46a8-4e68-bc7f-7af3e2f0ce60",
   "metadata": {
    "tags": []
   },
   "outputs": [
    {
     "name": "stdout",
     "output_type": "stream",
     "text": [
      "Iter     Function value   Gradient norm \n",
      "     0     7.928072e+00     7.398828e-01\n",
      " * Current step size: 1.0\n",
      " * time: 0.9028129577636719\n",
      " * g(x): [0.7398827641024217, -0.7398827641024217]\n",
      " * x: [0.7071067811865475, 0.7071067811865475]\n",
      "     1     7.410049e+00     1.670481e-02\n",
      " * Current step size: 0.9812959189663649\n",
      " * time: 4.358966827392578\n",
      " * g(x): [-0.016704814912505517, -0.00022073162132887065]\n",
      " * x: [-0.013212499214714665, 0.9999127111225765]\n",
      "     2     7.409939e+00     1.858568e-05\n",
      " * Current step size: 0.82524021846523\n",
      " * time: 5.405544996261597\n",
      " * g(x): [1.858567834517883e-5, -2.749764016013462e-10]\n",
      " * x: [1.479506943272697e-5, 0.9999999998905529]\n",
      "     3     7.409939e+00     2.008429e-14\n",
      " * Current step size: 1.0064275459508656\n",
      " * time: 6.967599868774414\n",
      " * g(x): [2.0084290346308516e-14, -3.2110833437343314e-28]\n",
      " * x: [1.5988034868877144e-14, 1.0]\n"
     ]
    },
    {
     "data": {
      "text/plain": [
       " * Status: success\n",
       "\n",
       " * Candidate solution\n",
       "    Final objective value:     7.409939e+00\n",
       "\n",
       " * Found with\n",
       "    Algorithm:     L-BFGS\n",
       "\n",
       " * Convergence measures\n",
       "    |x - x'|               = 1.48e-05 ≰ 0.0e+00\n",
       "    |x - x'|/|x'|          = 1.48e-05 ≰ 0.0e+00\n",
       "    |f(x) - f(x')|         = 1.37e-10 ≰ 0.0e+00\n",
       "    |f(x) - f(x')|/|f(x')| = 1.86e-11 ≰ 0.0e+00\n",
       "    |g(x)|                 = 2.01e-14 ≤ 1.0e-08\n",
       "\n",
       " * Work counters\n",
       "    Seconds run:   7  (vs limit Inf)\n",
       "    Iterations:    3\n",
       "    f(x) calls:    8\n",
       "    ∇f(x) calls:   9\n"
      ]
     },
     "execution_count": 9,
     "metadata": {},
     "output_type": "execute_result"
    }
   ],
   "source": [
    "const res = optimize(\n",
    "    loss,\n",
    "    fill(1.0, size(X)[2]),\n",
    "    LBFGS(manifold = Optim.Sphere()),\n",
    "    autodiff = :forward,\n",
    "    Optim.Options(show_trace = true, extended_trace = true),\n",
    ")"
   ]
  },
  {
   "cell_type": "code",
   "execution_count": 10,
   "id": "4cfeee6f-72ca-43c2-a57d-41c3e4218569",
   "metadata": {},
   "outputs": [
    {
     "data": {
      "text/plain": [
       " * Status: success\n",
       "\n",
       " * Candidate solution\n",
       "    Final objective value:     7.409939e+00\n",
       "\n",
       " * Found with\n",
       "    Algorithm:     L-BFGS\n",
       "\n",
       " * Convergence measures\n",
       "    |x - x'|               = 1.48e-05 ≰ 0.0e+00\n",
       "    |x - x'|/|x'|          = 1.48e-05 ≰ 0.0e+00\n",
       "    |f(x) - f(x')|         = 1.37e-10 ≰ 0.0e+00\n",
       "    |f(x) - f(x')|/|f(x')| = 1.86e-11 ≰ 0.0e+00\n",
       "    |g(x)|                 = 2.01e-14 ≤ 1.0e-08\n",
       "\n",
       " * Work counters\n",
       "    Seconds run:   7  (vs limit Inf)\n",
       "    Iterations:    3\n",
       "    f(x) calls:    8\n",
       "    ∇f(x) calls:   9\n"
      ]
     },
     "execution_count": 10,
     "metadata": {},
     "output_type": "execute_result"
    }
   ],
   "source": [
    "res"
   ]
  },
  {
   "cell_type": "markdown",
   "id": "af0c2b5d-ebe5-4f60-bfa2-7813bd8a3acf",
   "metadata": {},
   "source": [
    "# Evaluate on the test set"
   ]
  },
  {
   "cell_type": "code",
   "execution_count": 11,
   "id": "18c23ddc-8c68-4451-9b73-735ccf60217f",
   "metadata": {},
   "outputs": [
    {
     "data": {
      "text/plain": [
       "2-element Vector{Float64}:\n",
       " 2.556172589684314e-28\n",
       " 1.0"
      ]
     },
     "execution_count": 11,
     "metadata": {},
     "output_type": "execute_result"
    }
   ],
   "source": [
    "β = Optim.minimizer(res) .^ 2\n",
    "β = β / sum(β)"
   ]
  },
  {
   "cell_type": "code",
   "execution_count": 12,
   "id": "4da20956-3d94-4dc9-b82e-068efd1cb0aa",
   "metadata": {},
   "outputs": [
    {
     "data": {
      "text/plain": [
       "7.409034945070174"
      ]
     },
     "execution_count": 12,
     "metadata": {},
     "output_type": "execute_result"
    }
   ],
   "source": [
    "sparse_crossentropy(get_indep(\"test\", alphas) * β, get_weights(\"test\", \"inverse\"))"
   ]
  },
  {
   "cell_type": "code",
   "execution_count": 13,
   "id": "46376a42-8b84-4728-aef3-d73dfcc4e76c",
   "metadata": {},
   "outputs": [],
   "source": [
    "# SOTA: 6.4687146803286275"
   ]
  },
  {
   "cell_type": "code",
   "execution_count": 14,
   "id": "7a5305e6-a6e3-44f2-b161-a4f02d154c1c",
   "metadata": {},
   "outputs": [],
   "source": [
    "write_params(Dict(\"β\" => β, \"alphas\" => alphas));"
   ]
  },
  {
   "cell_type": "code",
   "execution_count": null,
   "id": "904062fc-995c-492a-ae82-fb63dbc543ed",
   "metadata": {},
   "outputs": [],
   "source": []
  }
 ],
 "metadata": {
  "kernelspec": {
   "display_name": "Julia 1.7.2",
   "language": "julia",
   "name": "julia-1.7"
  },
  "language_info": {
   "file_extension": ".jl",
   "mimetype": "application/julia",
   "name": "julia",
   "version": "1.7.2"
  }
 },
 "nbformat": 4,
 "nbformat_minor": 5
}
