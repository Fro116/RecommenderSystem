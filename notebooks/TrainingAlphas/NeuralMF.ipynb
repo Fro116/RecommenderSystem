{
 "cells": [
  {
   "cell_type": "markdown",
   "id": "c3b725a4-c4a9-45ba-8611-1ab406b8e4aa",
   "metadata": {},
   "source": [
    "# Neural Network Matrix Factorization"
   ]
  },
  {
   "cell_type": "code",
   "execution_count": 1,
   "id": "d3ef15a8-4209-4fdc-afb6-ebcbd5e79a5a",
   "metadata": {},
   "outputs": [],
   "source": [
    "import NBInclude: @nbinclude\n",
    "@nbinclude(\"NeuralNetworkBase.ipynb\");"
   ]
  },
  {
   "cell_type": "code",
   "execution_count": 7,
   "id": "136e0e2f-1993-4947-8cba-099ed285e953",
   "metadata": {},
   "outputs": [],
   "source": [
    "# train_alpha(\n",
    "#     create_hyperparams(\"user_item_biases\", false, []),\n",
    "#     \"NeuralExplicitUserItemBiases\",\n",
    "#     tune_hyperparams = false\n",
    "# )"
   ]
  },
  {
   "cell_type": "code",
   "execution_count": 8,
   "id": "10724e19-bc6e-41d2-ba41-2d226c0af8bf",
   "metadata": {},
   "outputs": [],
   "source": [
    "# train_alpha(\n",
    "#     create_hyperparams(\"user_item_biases\", true, []),\n",
    "#     \"NeuralImplicitUserItemBiases\",\n",
    "# )"
   ]
  },
  {
   "cell_type": "code",
   "execution_count": 9,
   "id": "a3ddca30-f6db-471f-96e5-18ca245740bc",
   "metadata": {},
   "outputs": [],
   "source": [
    "# train_alpha(\n",
    "#     create_hyperparams(\"matrix_factorization_64\", false, [\"NeuralExplicitUserItemBiases\"]),\n",
    "#     \"NeuralExplicitMatrixFactorization\",\n",
    "# )"
   ]
  },
  {
   "cell_type": "code",
   "execution_count": 10,
   "id": "2fdd430c-8f7c-4e3c-9098-9becd2061002",
   "metadata": {},
   "outputs": [],
   "source": [
    "# train_alpha(\n",
    "#     create_hyperparams(\"matrix_factorization_64\", true, [\"NeuralImplicitUserItemBiases\"]),\n",
    "#     \"NeuralImplicitMatrixFactorization\",\n",
    "# )"
   ]
  }
 ],
 "metadata": {
  "kernelspec": {
   "display_name": "Julia 1.8.0-rc1",
   "language": "julia",
   "name": "julia-1.8"
  },
  "language_info": {
   "file_extension": ".jl",
   "mimetype": "application/julia",
   "name": "julia",
   "version": "1.8.0"
  }
 },
 "nbformat": 4,
 "nbformat_minor": 5
}
