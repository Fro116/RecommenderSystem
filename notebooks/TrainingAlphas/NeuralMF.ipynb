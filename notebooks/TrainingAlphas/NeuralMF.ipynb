{
 "cells": [
  {
   "cell_type": "markdown",
   "id": "c3b725a4-c4a9-45ba-8611-1ab406b8e4aa",
   "metadata": {},
   "source": [
    "# Neural Network Matrix Factorization"
   ]
  },
  {
   "cell_type": "code",
   "execution_count": 1,
   "id": "d3ef15a8-4209-4fdc-afb6-ebcbd5e79a5a",
   "metadata": {},
   "outputs": [],
   "source": [
    "import NBInclude: @nbinclude\n",
    "@nbinclude(\"NeuralNetworkBase.ipynb\");"
   ]
  },
  {
   "cell_type": "code",
   "execution_count": 2,
   "id": "136e0e2f-1993-4947-8cba-099ed285e953",
   "metadata": {
    "tags": []
   },
   "outputs": [
    {
     "name": "stderr",
     "output_type": "stream",
     "text": [
      "\u001b[38;5;6m\u001b[1m[ \u001b[22m\u001b[39m\u001b[38;5;6m\u001b[1mInfo: \u001b[22m\u001b[39m20220623 10:31:51 Training model...\n",
      "\u001b[32mProgress: 100%|███████████████████████████| Time: 0:00:00 (53.30 ns/it)\u001b[39m\n",
      "\u001b[38;5;6m\u001b[1m[ \u001b[22m\u001b[39m\u001b[38;5;6m\u001b[1mInfo: \u001b[22m\u001b[39m20220623 11:25:34 loss: 1.795621 learning_rate: 0.001\n",
      "\u001b[38;5;6m\u001b[1m[ \u001b[22m\u001b[39m\u001b[38;5;6m\u001b[1mInfo: \u001b[22m\u001b[39m20220623 11:25:34 Trained model loss: 1.795621\n",
      "\u001b[38;5;6m\u001b[1m[ \u001b[22m\u001b[39m\u001b[38;5;6m\u001b[1mInfo: \u001b[22m\u001b[39m20220623 11:25:34 Retraining user embeddings...\n",
      "\u001b[38;5;6m\u001b[1m[ \u001b[22m\u001b[39m\u001b[38;5;6m\u001b[1mInfo: \u001b[22m\u001b[39m20220623 11:26:29 [0.0, 0.0] 1.7802982\n",
      "\u001b[38;5;6m\u001b[1m[ \u001b[22m\u001b[39m\u001b[38;5;6m\u001b[1mInfo: \u001b[22m\u001b[39m20220623 11:26:29 found minimum 1.7802982330322266 at point [0.0, 0.0] after 1 function calls (ended because MAXEVAL_REACHED)\n",
      "\u001b[38;5;6m\u001b[1m[ \u001b[22m\u001b[39m\u001b[38;5;6m\u001b[1mInfo: \u001b[22m\u001b[39m20220623 11:33:18 Retrained user embeddings with loss: 1.795545\n",
      "\u001b[38;5;6m\u001b[1m[ \u001b[22m\u001b[39m\u001b[38;5;6m\u001b[1mInfo: \u001b[22m\u001b[39m20220623 11:33:18 Writing alpha...\n",
      "\u001b[32mProgress: 100%|█████████████████████████████████████████| Time: 0:05:58\u001b[39m\n",
      "\u001b[32mProgress: 100%|█████████████████████████████████████████| Time: 0:03:34\u001b[39m\n",
      "\u001b[32mProgress: 100%|███████████████████████████| Time: 0:00:01 ( 1.43 μs/it)\u001b[39m\n",
      "\u001b[38;5;6m\u001b[1m[ \u001b[22m\u001b[39m\u001b[38;5;6m\u001b[1mInfo: \u001b[22m\u001b[39m20220623 11:43:14 validation loss: 1.7955185843202264, β: [0.999357983861831]\n",
      "\u001b[32mProgress: 100%|███████████████████████████| Time: 0:00:13 ( 1.40 μs/it)\u001b[39m\n",
      "\u001b[38;5;6m\u001b[1m[ \u001b[22m\u001b[39m\u001b[38;5;6m\u001b[1mInfo: \u001b[22m\u001b[39m20220623 11:43:31 training loss: 1.5742448807760558, β: [0.999357983861831]\n",
      "\u001b[32mProgress: 100%|███████████████████████████| Time: 0:00:13 ( 1.39 μs/it)\u001b[39m\n",
      "\u001b[32mProgress: 100%|███████████████████████████| Time: 0:00:01 ( 1.42 μs/it)\u001b[39m\n",
      "\u001b[32mProgress: 100%|███████████████████████████| Time: 0:00:01 ( 1.52 μs/it)\u001b[39m\n",
      "\u001b[32mProgress: 100%|███████████████████████████| Time: 0:00:05 ( 1.38 μs/it)\u001b[39m\n",
      "\u001b[32mProgress: 100%|███████████████████████████| Time: 0:00:00 ( 1.45 μs/it)\u001b[39m\n",
      "\u001b[32mProgress: 100%|███████████████████████████| Time: 0:00:00 ( 1.41 μs/it)\u001b[39m\n",
      "\u001b[32mProgress: 100%|███████████████████████████| Time: 0:00:01 ( 0.96 μs/it)\u001b[39m\n"
     ]
    }
   ],
   "source": [
    "train_alpha(\n",
    "    create_hyperparams(\"user_item_biases\", false, []),\n",
    "    \"NeuralExplicitUserItemBiases\",\n",
    "    tune_hyperparams = false,\n",
    ")"
   ]
  },
  {
   "cell_type": "code",
   "execution_count": 2,
   "id": "10724e19-bc6e-41d2-ba41-2d226c0af8bf",
   "metadata": {},
   "outputs": [
    {
     "name": "stderr",
     "output_type": "stream",
     "text": [
      "\u001b[38;5;6m\u001b[1m[ \u001b[22m\u001b[39m\u001b[38;5;6m\u001b[1mInfo: \u001b[22m\u001b[39m20220623 19:23:37 Training model...\n"
     ]
    },
    {
     "name": "stdout",
     "output_type": "stream",
     "text": [
      "Iter     Function value   Gradient norm \n",
      "     0     9.920349e+00     0.000000e+00\n",
      " * time: 0.008678197860717773\n"
     ]
    },
    {
     "name": "stderr",
     "output_type": "stream",
     "text": [
      "\u001b[32mProgress: 100%|███████████████████████████| Time: 0:00:00 (45.66 ns/it)\u001b[39m\n",
      "\u001b[32mProgress: 100%|███████████████████████████| Time: 0:00:00 ( 7.76 ns/it)\u001b[39m\n",
      "\u001b[38;5;6m\u001b[1m[ \u001b[22m\u001b[39m\u001b[38;5;6m\u001b[1mInfo: \u001b[22m\u001b[39m20220623 19:48:14 loss: 7.3749886 learning_rate: 0.001\n",
      "\u001b[38;5;6m\u001b[1m[ \u001b[22m\u001b[39m\u001b[38;5;6m\u001b[1mInfo: \u001b[22m\u001b[39m20220623 19:48:14 Trained model loss: 7.3749886\n",
      "\u001b[38;5;6m\u001b[1m[ \u001b[22m\u001b[39m\u001b[38;5;6m\u001b[1mInfo: \u001b[22m\u001b[39m20220623 19:48:14 Retraining user embeddings...\n",
      "\u001b[38;5;6m\u001b[1m[ \u001b[22m\u001b[39m\u001b[38;5;6m\u001b[1mInfo: \u001b[22m\u001b[39m20220623 19:48:29 [0.0, 0.0] 7.3735795\n",
      "\u001b[38;5;6m\u001b[1m[ \u001b[22m\u001b[39m\u001b[38;5;6m\u001b[1mInfo: \u001b[22m\u001b[39m20220623 19:48:29 found minimum 7.373579502105713 at point [0.0, 0.0] after 1 function calls (ended because MAXEVAL_REACHED)\n",
      "\u001b[38;5;6m\u001b[1m[ \u001b[22m\u001b[39m\u001b[38;5;6m\u001b[1mInfo: \u001b[22m\u001b[39m20220623 19:58:45 Retrained user embeddings with loss: 7.3749886\n",
      "\u001b[38;5;6m\u001b[1m[ \u001b[22m\u001b[39m\u001b[38;5;6m\u001b[1mInfo: \u001b[22m\u001b[39m20220623 19:58:45 Writing alpha...\n",
      "\u001b[32mProgress: 100%|█████████████████████████████████████████| Time: 0:06:00\u001b[39m\n",
      "\u001b[32mProgress: 100%|█████████████████████████████████████████| Time: 0:03:40\u001b[39m\n",
      "\u001b[32mProgress: 100%|███████████████████████████| Time: 0:00:02 ( 1.37 μs/it)\u001b[39m\n"
     ]
    },
    {
     "name": "stdout",
     "output_type": "stream",
     "text": [
      "Iter     Function value   Gradient norm \n",
      "     0     7.900373e+00     3.769090e-01\n",
      " * time: 2.7894973754882812e-5\n",
      "     1     7.536171e+00     1.502304e-01\n",
      " * time: 2.2697370052337646\n",
      "     2     7.423724e+00     4.964111e-02\n",
      " * time: 4.7229390144348145\n",
      "     3     7.388641e+00     1.460040e-02\n",
      " * time: 6.942543983459473\n",
      "     4     7.378499e+00     4.154871e-03\n",
      " * time: 9.509138107299805\n",
      "     5     7.375959e+00     1.528971e-03\n",
      " * time: 11.849220037460327\n",
      "     6     7.375024e+00     5.625095e-04\n",
      " * time: 14.012281894683838\n",
      "     7     7.374680e+00     2.063431e-04\n",
      " * time: 16.26289200782776\n",
      "     8     7.374555e+00     7.552543e-05\n",
      " * time: 18.490538120269775\n",
      "     9     7.374509e+00     2.743903e-05\n",
      " * time: 20.753108024597168\n",
      "    10     7.374493e+00     1.001551e-05\n",
      " * time: 23.027025938034058\n",
      "    11     7.374486e+00     3.714702e-06\n",
      " * time: 25.2841739654541\n",
      "    12     7.374484e+00     1.399054e-06\n",
      " * time: 27.557578086853027\n",
      "    13     7.374483e+00     5.165408e-07\n",
      " * time: 30.168258905410767\n"
     ]
    },
    {
     "name": "stderr",
     "output_type": "stream",
     "text": [
      "\u001b[38;5;6m\u001b[1m[ \u001b[22m\u001b[39m\u001b[38;5;6m\u001b[1mInfo: \u001b[22m\u001b[39m20220623 20:09:27 validation loss: 7.374483339647941, β: Float32[1.0501357f-6, 0.9999989]\n",
      "\u001b[32mProgress: 100%|███████████████████████████| Time: 0:00:17 ( 1.31 μs/it)\u001b[39m\n",
      "\u001b[38;5;6m\u001b[1m[ \u001b[22m\u001b[39m\u001b[38;5;6m\u001b[1mInfo: \u001b[22m\u001b[39m20220623 20:09:51 training loss: 7.338106105611546, β: Float32[1.0501357f-6, 0.9999989]\n",
      "\u001b[32mProgress: 100%|███████████████████████████| Time: 0:00:12 ( 1.31 μs/it)\u001b[39m\n",
      "\u001b[32mProgress: 100%|███████████████████████████| Time: 0:00:01 ( 1.34 μs/it)\u001b[39m\n",
      "\u001b[32mProgress: 100%|███████████████████████████| Time: 0:00:01 ( 1.33 μs/it)\u001b[39m\n",
      "\u001b[32mProgress: 100%|███████████████████████████| Time: 0:00:05 ( 1.31 μs/it)\u001b[39m\n",
      "\u001b[32mProgress: 100%|███████████████████████████| Time: 0:00:00 ( 1.34 μs/it)\u001b[39m\n",
      "\u001b[32mProgress: 100%|███████████████████████████| Time: 0:00:00 ( 1.34 μs/it)\u001b[39m\n",
      "\u001b[32mProgress: 100%|███████████████████████████| Time: 0:00:01 ( 0.92 μs/it)\u001b[39m\n"
     ]
    }
   ],
   "source": [
    "train_alpha(\n",
    "    create_hyperparams(\"user_item_biases\", true, []),\n",
    "    \"NeuralImplicitUserItemBiases\",\n",
    "    tune_hyperparams = false,\n",
    ")"
   ]
  },
  {
   "cell_type": "code",
   "execution_count": 4,
   "id": "a3ddca30-f6db-471f-96e5-18ca245740bc",
   "metadata": {},
   "outputs": [
    {
     "name": "stderr",
     "output_type": "stream",
     "text": [
      "\u001b[38;5;6m\u001b[1m[ \u001b[22m\u001b[39m\u001b[38;5;6m\u001b[1mInfo: \u001b[22m\u001b[39m20220623 11:44:57 Training model...\n",
      "\u001b[38;5;6m\u001b[1m[ \u001b[22m\u001b[39m\u001b[38;5;6m\u001b[1mInfo: \u001b[22m\u001b[39m20220623 12:17:28 loss: 1.7079203 learning_rate: 0.001\n",
      "\u001b[38;5;6m\u001b[1m[ \u001b[22m\u001b[39m\u001b[38;5;6m\u001b[1mInfo: \u001b[22m\u001b[39m20220623 12:17:28 Trained model loss: 1.7079203\n",
      "\u001b[38;5;6m\u001b[1m[ \u001b[22m\u001b[39m\u001b[38;5;6m\u001b[1mInfo: \u001b[22m\u001b[39m20220623 12:17:28 Retraining user embeddings...\n",
      "\u001b[38;5;6m\u001b[1m[ \u001b[22m\u001b[39m\u001b[38;5;6m\u001b[1mInfo: \u001b[22m\u001b[39m20220623 12:17:52 [0.0, 0.0] 2.0058494\n",
      "\u001b[38;5;6m\u001b[1m[ \u001b[22m\u001b[39m\u001b[38;5;6m\u001b[1mInfo: \u001b[22m\u001b[39m20220623 12:17:52 found minimum 2.0058493614196777 at point [0.0, 0.0] after 1 function calls (ended because MAXEVAL_REACHED)\n",
      "\u001b[38;5;6m\u001b[1m[ \u001b[22m\u001b[39m\u001b[38;5;6m\u001b[1mInfo: \u001b[22m\u001b[39m20220623 12:45:39 Retrained user embeddings with loss: 1.7614106\n",
      "\u001b[38;5;6m\u001b[1m[ \u001b[22m\u001b[39m\u001b[38;5;6m\u001b[1mInfo: \u001b[22m\u001b[39m20220623 12:45:39 Writing alpha...\n",
      "\u001b[32mProgress: 100%|█████████████████████████████████████████| Time: 0:05:58\u001b[39m\n",
      "\u001b[32mProgress: 100%|█████████████████████████████████████████| Time: 0:06:46\u001b[39m\n",
      "\u001b[32mProgress: 100%|███████████████████████████| Time: 0:00:01 ( 1.31 μs/it)\u001b[39m\n",
      "\u001b[38;5;6m\u001b[1m[ \u001b[22m\u001b[39m\u001b[38;5;6m\u001b[1mInfo: \u001b[22m\u001b[39m20220623 12:58:46 validation loss: 1.6258118725123232, β: [0.9951557863077493, 0.5099277208516303]\n",
      "\u001b[32mProgress: 100%|███████████████████████████| Time: 0:00:12 ( 1.29 μs/it)\u001b[39m\n",
      "\u001b[38;5;6m\u001b[1m[ \u001b[22m\u001b[39m\u001b[38;5;6m\u001b[1mInfo: \u001b[22m\u001b[39m20220623 12:59:03 training loss: 0.8700448781969946, β: [0.9951557863077493, 0.5099277208516303]\n",
      "\u001b[32mProgress: 100%|███████████████████████████| Time: 0:00:12 ( 1.30 μs/it)\u001b[39m\n",
      "\u001b[32mProgress: 100%|███████████████████████████| Time: 0:00:01 ( 1.31 μs/it)\u001b[39m\n",
      "\u001b[32mProgress: 100%|███████████████████████████| Time: 0:00:01 ( 1.33 μs/it)\u001b[39m\n",
      "\u001b[32mProgress: 100%|███████████████████████████| Time: 0:00:04 ( 1.30 μs/it)\u001b[39m\n",
      "\u001b[32mProgress: 100%|███████████████████████████| Time: 0:00:00 ( 1.32 μs/it)\u001b[39m\n",
      "\u001b[32mProgress: 100%|███████████████████████████| Time: 0:00:00 ( 1.33 μs/it)\u001b[39m\n",
      "\u001b[32mProgress: 100%|███████████████████████████| Time: 0:00:01 ( 0.90 μs/it)\u001b[39m\n"
     ]
    }
   ],
   "source": [
    "train_alpha(\n",
    "    create_hyperparams(\"matrix_factorization_64\", false, [\"ExplicitUserItemBiases\"]),\n",
    "    \"NeuralExplicitMatrixFactorization\",\n",
    "    tune_hyperparams = false,\n",
    ")"
   ]
  },
  {
   "cell_type": "code",
   "execution_count": 3,
   "id": "2fdd430c-8f7c-4e3c-9098-9becd2061002",
   "metadata": {},
   "outputs": [
    {
     "name": "stderr",
     "output_type": "stream",
     "text": [
      "\u001b[38;5;6m\u001b[1m[ \u001b[22m\u001b[39m\u001b[38;5;6m\u001b[1mInfo: \u001b[22m\u001b[39m20220623 20:10:24 Training model...\n"
     ]
    },
    {
     "name": "stdout",
     "output_type": "stream",
     "text": [
      "Iter     Function value   Gradient norm \n",
      "     0     7.900373e+00     3.769090e-01\n",
      " * time: 3.0040740966796875e-5\n",
      "     1     7.536170e+00     1.502304e-01\n",
      " * time: 1.3957500457763672\n",
      "     2     7.414903e+00     4.100133e-02\n",
      " * time: 2.6416239738464355\n",
      "     3     7.383945e+00     9.777025e-03\n",
      " * time: 3.9426798820495605\n",
      "     4     7.376675e+00     2.267745e-03\n",
      " * time: 5.301123857498169\n",
      "     5     7.374989e+00     5.260328e-04\n",
      " * time: 6.62723183631897\n",
      "     6     7.374598e+00     1.209523e-04\n",
      " * time: 7.949372053146362\n",
      "     7     7.374509e+00     2.730793e-05\n",
      " * time: 9.196964025497437\n",
      "     8     7.374489e+00     6.228044e-06\n",
      " * time: 10.483147859573364\n",
      "     9     7.374485e+00     1.470446e-06\n",
      " * time: 11.857086896896362\n",
      "    10     7.374483e+00     5.429775e-07\n",
      " * time: 13.203341960906982\n"
     ]
    },
    {
     "name": "stderr",
     "output_type": "stream",
     "text": [
      "\u001b[38;5;6m\u001b[1m[ \u001b[22m\u001b[39m\u001b[38;5;6m\u001b[1mInfo: \u001b[22m\u001b[39m20220623 20:59:03 loss: 6.4988465 learning_rate: 0.001\n",
      "\u001b[38;5;6m\u001b[1m[ \u001b[22m\u001b[39m\u001b[38;5;6m\u001b[1mInfo: \u001b[22m\u001b[39m20220623 20:59:03 Trained model loss: 6.4988465\n",
      "\u001b[38;5;6m\u001b[1m[ \u001b[22m\u001b[39m\u001b[38;5;6m\u001b[1mInfo: \u001b[22m\u001b[39m20220623 20:59:03 Retraining user embeddings...\n",
      "\u001b[38;5;6m\u001b[1m[ \u001b[22m\u001b[39m\u001b[38;5;6m\u001b[1mInfo: \u001b[22m\u001b[39m20220623 20:59:34 [0.0, 0.0] 6.528234\n",
      "\u001b[38;5;6m\u001b[1m[ \u001b[22m\u001b[39m\u001b[38;5;6m\u001b[1mInfo: \u001b[22m\u001b[39m20220623 20:59:34 found minimum 6.528234004974365 at point [0.0, 0.0] after 1 function calls (ended because MAXEVAL_REACHED)\n",
      "\u001b[38;5;6m\u001b[1m[ \u001b[22m\u001b[39m\u001b[38;5;6m\u001b[1mInfo: \u001b[22m\u001b[39m20220623 21:32:30 Retrained user embeddings with loss: 6.4811926\n",
      "\u001b[38;5;6m\u001b[1m[ \u001b[22m\u001b[39m\u001b[38;5;6m\u001b[1mInfo: \u001b[22m\u001b[39m20220623 21:32:30 Writing alpha...\n",
      "\u001b[32mProgress: 100%|█████████████████████████████████████████| Time: 0:06:00\u001b[39m\n",
      "\u001b[32mProgress: 100%|█████████████████████████████████████████| Time: 0:03:56\u001b[39m\n",
      "\u001b[32mProgress: 100%|███████████████████████████| Time: 0:00:01 ( 1.31 μs/it)\u001b[39m\n"
     ]
    },
    {
     "name": "stdout",
     "output_type": "stream",
     "text": [
      "Iter     Function value   Gradient norm \n",
      "     0     6.980013e+00     2.994916e-01\n",
      " * time: 2.6941299438476562e-5\n",
      "     1     6.666689e+00     1.716236e-01\n",
      " * time: 4.10028600692749\n",
      "     2     6.519349e+00     4.129016e-02\n",
      " * time: 8.220967054367065\n",
      "     3     6.493284e+00     1.466031e-02\n",
      " * time: 12.375454902648926\n",
      "     4     6.484416e+00     5.324056e-03\n",
      " * time: 16.62040901184082\n",
      "     5     6.481274e+00     1.942783e-03\n",
      " * time: 20.678194046020508\n",
      "     6     6.480144e+00     7.208180e-04\n",
      " * time: 25.045499086380005\n",
      "     7     6.479732e+00     2.762299e-04\n",
      " * time: 28.963277101516724\n",
      "     8     6.479581e+00     1.077549e-04\n",
      " * time: 33.03278398513794\n",
      "     9     6.479525e+00     4.244798e-05\n",
      " * time: 37.063740968704224\n",
      "    10     6.479505e+00     1.661768e-05\n",
      " * time: 41.32730293273926\n",
      "    11     6.479505e+00     1.661768e-05\n",
      " * time: 42.47439098358154\n",
      "    12     6.479505e+00     1.661768e-05\n",
      " * time: 43.576420068740845\n",
      "    13     6.479505e+00     1.661768e-05\n",
      " * time: 44.575742959976196\n",
      "    14     6.479505e+00     1.661768e-05\n",
      " * time: 45.688148021698\n",
      "    15     6.479500e+00     7.646398e-06\n",
      " * time: 49.78681993484497\n",
      "    16     6.479496e+00     7.933244e-06\n",
      " * time: 53.71830606460571\n",
      "    17     6.479494e+00     2.330958e-06\n",
      " * time: 57.998631954193115\n",
      "    18     6.479493e+00     9.530879e-07\n",
      " * time: 62.1424880027771\n"
     ]
    },
    {
     "name": "stderr",
     "output_type": "stream",
     "text": [
      "\u001b[38;5;6m\u001b[1m[ \u001b[22m\u001b[39m\u001b[38;5;6m\u001b[1mInfo: \u001b[22m\u001b[39m20220623 21:44:00 validation loss: 6.479493283419835, β: Float32[0.07175809, 1.9441245f-6, 0.92824]\n",
      "\u001b[32mProgress: 100%|███████████████████████████| Time: 0:00:17 ( 1.29 μs/it)\u001b[39m\n",
      "\u001b[38;5;6m\u001b[1m[ \u001b[22m\u001b[39m\u001b[38;5;6m\u001b[1mInfo: \u001b[22m\u001b[39m20220623 21:44:28 training loss: 5.501874130117034, β: Float32[0.07175809, 1.9441245f-6, 0.92824]\n",
      "\u001b[32mProgress: 100%|███████████████████████████| Time: 0:00:12 ( 1.31 μs/it)\u001b[39m\n",
      "\u001b[32mProgress: 100%|███████████████████████████| Time: 0:00:01 ( 1.34 μs/it)\u001b[39m\n",
      "\u001b[32mProgress: 100%|███████████████████████████| Time: 0:00:01 ( 1.32 μs/it)\u001b[39m\n",
      "\u001b[32mProgress: 100%|███████████████████████████| Time: 0:00:04 ( 1.29 μs/it)\u001b[39m\n",
      "\u001b[32mProgress: 100%|███████████████████████████| Time: 0:00:00 ( 1.33 μs/it)\u001b[39m\n",
      "\u001b[32mProgress: 100%|███████████████████████████| Time: 0:00:00 ( 1.33 μs/it)\u001b[39m\n",
      "\u001b[32mProgress: 100%|███████████████████████████| Time: 0:00:01 ( 0.89 μs/it)\u001b[39m\n"
     ]
    }
   ],
   "source": [
    "train_alpha(\n",
    "    create_hyperparams(\"matrix_factorization_64\", true, [\"NeuralImplicitUserItemBiases\"]),\n",
    "    \"NeuralImplicitMatrixFactorization\",\n",
    "    tune_hyperparams = false,\n",
    ")"
   ]
  }
 ],
 "metadata": {
  "kernelspec": {
   "display_name": "Julia 1.8.0-rc1",
   "language": "julia",
   "name": "julia-1.8"
  },
  "language_info": {
   "file_extension": ".jl",
   "mimetype": "application/julia",
   "name": "julia",
   "version": "1.8.0"
  }
 },
 "nbformat": 4,
 "nbformat_minor": 5
}
