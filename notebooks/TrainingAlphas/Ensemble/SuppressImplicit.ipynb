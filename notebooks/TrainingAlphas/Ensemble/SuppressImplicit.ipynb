{
 "cells": [
  {
   "cell_type": "markdown",
   "id": "2df5351f-2171-4365-b750-8984d42c5fe5",
   "metadata": {
    "tags": []
   },
   "source": [
    "# SuppressImplicit\n",
    "* Zero out any items the user has already seen and rescale the probablity distribution"
   ]
  },
  {
   "cell_type": "code",
   "execution_count": null,
   "id": "94433d52-4ae9-4991-b43e-523540e1d02e",
   "metadata": {},
   "outputs": [],
   "source": [
    "function get_seen_probabilities(alpha::String, content::String)\n",
    "    df = read_alpha_impl(alpha, \"training\", content)\n",
    "    p_seen = zeros(Float32, num_users(), Threads.nthreads())\n",
    "    Threads.@threads for i = 1:length(df.user)\n",
    "        p_seen[df.user[i], Threads.threadid()] += df.rating[i]\n",
    "    end\n",
    "    vec(sum(p_seen, dims = 2))\n",
    "end\n",
    "\n",
    "function read_alpha(alpha::String, split::String, content::String)\n",
    "    @assert !occursin(\"training\", split)\n",
    "    ϵ = sqrt(eps(Float32))\n",
    "    df = read_alpha_impl(alpha, split, content)\n",
    "    if alpha in implicit_raw_alphas || alpha in ptw_raw_alphas\n",
    "        # zero out any items the user has already seen\n",
    "        p_seen = get_seen_probabilities(alpha, content)\n",
    "        Threads.@threads for i = 1:length(df.rating)\n",
    "            if  1 - p_seen[df.user[i]] > ϵ\n",
    "                df.rating[i] /= 1 - p_seen[df.user[i]]\n",
    "            end\n",
    "        end\n",
    "    end\n",
    "    df\n",
    "end;"
   ]
  }
 ],
 "metadata": {
  "kernelspec": {
   "display_name": "Julia 1.8.0-rc1",
   "language": "julia",
   "name": "julia-1.8"
  },
  "language_info": {
   "file_extension": ".jl",
   "mimetype": "application/julia",
   "name": "julia",
   "version": "1.8.0"
  }
 },
 "nbformat": 4,
 "nbformat_minor": 5
}
