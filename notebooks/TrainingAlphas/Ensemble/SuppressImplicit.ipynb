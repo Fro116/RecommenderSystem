{
 "cells": [
  {
   "cell_type": "markdown",
   "id": "2df5351f-2171-4365-b750-8984d42c5fe5",
   "metadata": {
    "tags": []
   },
   "source": [
    "# SuppressImplicit\n",
    "* Zero out any items the user has already seen"
   ]
  },
  {
   "cell_type": "code",
   "execution_count": null,
   "id": "94433d52-4ae9-4991-b43e-523540e1d02e",
   "metadata": {},
   "outputs": [],
   "source": [
    "function read_alpha_impl(alpha, split, implicit)\n",
    "    @assert split in all_splits || split in all_raw_splits\n",
    "    file = get_data_path(\"alphas/$(alpha)/predictions.jld2\")\n",
    "    if split in all_raw_splits\n",
    "        df = JLD2.load(file, split)\n",
    "    elseif implicit\n",
    "        df = cat(JLD2.load(file, \"explicit_\" * split), JLD2.load(file, \"implicit_\" * split))\n",
    "    else\n",
    "        df = JLD2.load(file, \"explicit_\" * split)\n",
    "    end\n",
    "    df\n",
    "end\n",
    "\n",
    "function get_implicit_seen_probabilities(alpha)\n",
    "    df = read_alpha_impl(alpha, \"training\", true)\n",
    "    p_seen = zeros(Float32, num_users(), Threads.nthreads())\n",
    "    Threads.@threads for i = 1:length(df.user)\n",
    "        p_seen[df.user[i], Threads.threadid()] += df.rating[i]\n",
    "    end\n",
    "    vec(sum(p_seen, dims = 2))\n",
    "end\n",
    "\n",
    "@memoize function read_alpha(alpha, split, implicit)\n",
    "    @assert !occursin(\"training\", split)\n",
    "    df = read_alpha_impl(alpha, split, implicit)\n",
    "    if implicit\n",
    "        # zero out any items the user has already seen\n",
    "        p_seen = get_implicit_seen_probabilities(alpha)\n",
    "        Threads.@threads for i = 1:length(df.rating)\n",
    "            df.rating[i] /= 1 - p_seen[df.user[i]]\n",
    "        end\n",
    "    end\n",
    "    df\n",
    "end;"
   ]
  }
 ],
 "metadata": {
  "kernelspec": {
   "display_name": "Julia 1.8.0-rc1",
   "language": "julia",
   "name": "julia-1.8"
  },
  "language_info": {
   "file_extension": ".jl",
   "mimetype": "application/julia",
   "name": "julia",
   "version": "1.8.0"
  }
 },
 "nbformat": 4,
 "nbformat_minor": 5
}
