{
 "cells": [
  {
   "cell_type": "code",
   "execution_count": null,
   "id": "9bdd53e9-98ec-4fe1-9604-86d5443753fb",
   "metadata": {},
   "outputs": [],
   "source": [
    "import Flux"
   ]
  },
  {
   "cell_type": "code",
   "execution_count": null,
   "id": "4afcd900-beb4-44b8-bd3d-8996264c4c3f",
   "metadata": {},
   "outputs": [],
   "source": [
    "# utility functions\n",
    "struct Utility\n",
    "    W::Any\n",
    "    b::Any\n",
    "    mode::Any\n",
    "end\n",
    "\n",
    "function Utility(N::Integer, mode::String; init = Flux.glorot_uniform)\n",
    "    if mode in [\"log cobb-douglas\", \"substitutes\"]\n",
    "        Utility(init(1, N), nothing, mode)\n",
    "    elseif mode in [\"log ces +\"]\n",
    "        Utility(init(1, N), init(1), mode)\n",
    "    elseif mode in [\"log ces -\"]\n",
    "        Utility(init(1, N), -exp.(init(1)), mode)\n",
    "        @assert false\n",
    "    end\n",
    "end\n",
    "\n",
    "function (m::Utility)(x::AbstractVecOrMat)\n",
    "    x = max.(x, 1f-10) # for now, assume that goods take on positive values\n",
    "    W = exp.(m.W)\n",
    "    if m.mode == \"log cobb-douglas\"\n",
    "        return W * log.(x)\n",
    "    elseif m.mode in [\"log ces +\", \"log ces -\"]\n",
    "        b = m.b\n",
    "        if m.mode == \"log ces +\"\n",
    "            b = @. Flux.sigmoid(m.b)\n",
    "        end\n",
    "        log.(sum((W' .* x) .^ b, dims = 1)') ./ b\n",
    "    elseif m.mode == \"substitutes\"\n",
    "        return W * x\n",
    "    else\n",
    "        @assert false\n",
    "    end\n",
    "end\n",
    "\n",
    "(m::Utility)(x::AbstractArray) = reshape(m(reshape(x, size(x, 1), :)), :, size(x)[2:end]...)\n",
    "Flux.@functor Utility"
   ]
  },
  {
   "cell_type": "code",
   "execution_count": null,
   "id": "f0c2fa14-0aac-40e6-ac80-15b7d540ddec",
   "metadata": {},
   "outputs": [],
   "source": [
    "Join(combine, paths) = Flux.Parallel(combine, paths)\n",
    "Join(combine, paths...) = Join(combine, paths)\n",
    "struct Split{T}\n",
    "    paths::T\n",
    "end\n",
    "Split(paths...) = Split(paths)\n",
    "Flux.@functor Split\n",
    "(m::Split)(x::AbstractArray) = map(f -> f(x), m.paths)"
   ]
  }
 ],
 "metadata": {
  "kernelspec": {
   "display_name": "Julia 1.9.0-rc2",
   "language": "julia",
   "name": "julia-1.9"
  },
  "language_info": {
   "file_extension": ".jl",
   "mimetype": "application/julia",
   "name": "julia",
   "version": "1.9.0"
  }
 },
 "nbformat": 4,
 "nbformat_minor": 5
}
