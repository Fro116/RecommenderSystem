{
 "cells": [
  {
   "cell_type": "code",
   "execution_count": null,
   "id": "69b5a19a-24f5-4730-afe2-f451d27d18e3",
   "metadata": {
    "tags": []
   },
   "outputs": [],
   "source": [
    "import NBInclude: @nbinclude\n",
    "@nbinclude(\"BPR.Neural.ipynb\")"
   ]
  },
  {
   "cell_type": "code",
   "execution_count": null,
   "id": "2b097d37-efdb-4f18-8ebe-bf2fa8d98bd2",
   "metadata": {
    "tags": []
   },
   "outputs": [],
   "source": [
    "const alphas = [\n",
    "    \"Explicit\"\n",
    "    \"LinearImplicit\"\n",
    "    \"NonlinearImplicit\"\n",
    "    explicit_raw_alphas[1]\n",
    "    implicit_raw_alphas[1]\n",
    "];"
   ]
  },
  {
   "cell_type": "code",
   "execution_count": null,
   "id": "1a64876d-14e9-4cb5-9422-d221a97aa120",
   "metadata": {},
   "outputs": [],
   "source": [
    "const ptw_alphas = [\n",
    "    alphas\n",
    "    [\n",
    "        \"LinearPtw\"\n",
    "        \"NonlinearPtw\"\n",
    "        ptw_raw_alphas[1]\n",
    "    ]\n",
    "];"
   ]
  },
  {
   "cell_type": "code",
   "execution_count": null,
   "id": "fcc5b860-1a37-4eff-9801-b4760f74b85c",
   "metadata": {
    "tags": []
   },
   "outputs": [],
   "source": [
    "train_alpha(\n",
    "    Hyperparams(\n",
    "        allow_ptw = false,\n",
    "        batch_size = 1024,\n",
    "        features = ptw_alphas,\n",
    "        l2penalty = NaN,\n",
    "        learning_rate = NaN,\n",
    "        seed = 20220609,\n",
    "    ),\n",
    "    \"BPR.neural.ptw\";\n",
    "    tune_hyperparams = false,\n",
    ")"
   ]
  }
 ],
 "metadata": {
  "kernelspec": {
   "display_name": "Julia 1.8.0-rc1",
   "language": "julia",
   "name": "julia-1.8"
  },
  "language_info": {
   "file_extension": ".jl",
   "mimetype": "application/julia",
   "name": "julia",
   "version": "1.8.0"
  }
 },
 "nbformat": 4,
 "nbformat_minor": 5
}
