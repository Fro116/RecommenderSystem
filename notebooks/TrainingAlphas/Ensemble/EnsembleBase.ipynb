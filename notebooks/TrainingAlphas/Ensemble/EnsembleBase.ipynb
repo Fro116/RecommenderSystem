{
 "cells": [
  {
   "cell_type": "markdown",
   "id": "e384b3a4-ac27-42d5-abd3-c7e45d349fdf",
   "metadata": {},
   "source": [
    "# Ensemble Base\n",
    "* Determines which alphas we use for ensembling"
   ]
  },
  {
   "cell_type": "code",
   "execution_count": 1,
   "id": "7113d6cb-3eb8-46c9-ab34-a9326871fbc4",
   "metadata": {},
   "outputs": [],
   "source": [
    "explicit_raw_alphas = [\n",
    "        \"ExplicitUserItemBiases\"\n",
    "        \"NeuralExplicitMatrixFactorization\"\n",
    "    ];"
   ]
  },
  {
   "cell_type": "code",
   "execution_count": 2,
   "id": "e6d04ff0-f5eb-4e73-9329-e9ca69fee38f",
   "metadata": {},
   "outputs": [],
   "source": [
    "implicit_raw_alphas = [\n",
    "        \"NeuralImplicitUserItemBiases\"\n",
    "        \"NeuralImplicitMatrixFactorization\"\n",
    "    ];"
   ]
  }
 ],
 "metadata": {
  "kernelspec": {
   "display_name": "Julia 1.8.0-rc1",
   "language": "julia",
   "name": "julia-1.8"
  },
  "language_info": {
   "file_extension": ".jl",
   "mimetype": "application/julia",
   "name": "julia",
   "version": "1.8.0"
  }
 },
 "nbformat": 4,
 "nbformat_minor": 5
}
