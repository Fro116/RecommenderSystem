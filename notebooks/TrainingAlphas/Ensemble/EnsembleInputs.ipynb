{
 "cells": [
  {
   "cell_type": "markdown",
   "id": "e384b3a4-ac27-42d5-abd3-c7e45d349fdf",
   "metadata": {
    "tags": []
   },
   "source": [
    "# Ensemble Inputs\n",
    "* Determines which alphas we use for ensembling"
   ]
  },
  {
   "cell_type": "code",
   "execution_count": null,
   "id": "2d3e3427-bb54-43cf-aecc-ac5ca8ba511e",
   "metadata": {},
   "outputs": [],
   "source": [
    "explicit_raw_alphas(task, medium) = [\n",
    "    \"$medium/$task/$x\" for x in [\n",
    "        \"ExplicitUserItemBiases\",\n",
    "        \"NeuralExplicitUniversalUntuned\",\n",
    "        \"Transformer/v1/explicit\",   \n",
    "        \"SequelExplicit\",\n",
    "    ]\n",
    "];"
   ]
  },
  {
   "cell_type": "code",
   "execution_count": null,
   "id": "b21b8fdb-cd5e-48c4-850f-8123a8fde227",
   "metadata": {},
   "outputs": [],
   "source": [
    "implicit_raw_alphas(task, medium) = [\n",
    "    \"$medium/$task/$x\" for\n",
    "    x in [\n",
    "        \"NeuralImplicitUniversalUntuned\", \n",
    "        \"Transformer/v1/implicit\",\n",
    "        \"SequelImplicit\",\n",
    "    ]\n",
    "];"
   ]
  },
  {
   "cell_type": "code",
   "execution_count": null,
   "id": "62617d0a-27c7-4d6b-85be-7d593da6d74c",
   "metadata": {},
   "outputs": [],
   "source": [
    "nondirectional_raw_alphas(medium) = [\n",
    "    \"$medium/all/$x\" for x in [\n",
    "        \"ExplicitItemCount\",\n",
    "        \"ImplicitItemCount\",\n",
    "        \"PtwItemCount\",\n",
    "        \"UserAverage\",\n",
    "        \"UserVariance\",\n",
    "    ]\n",
    "];"
   ]
  }
 ],
 "metadata": {
  "kernelspec": {
   "display_name": "Julia 1.9.0-rc2",
   "language": "julia",
   "name": "julia-1.9"
  },
  "language_info": {
   "file_extension": ".jl",
   "mimetype": "application/julia",
   "name": "julia",
   "version": "1.9.0"
  }
 },
 "nbformat": 4,
 "nbformat_minor": 5
}
