{
 "cells": [
  {
   "cell_type": "markdown",
   "id": "e384b3a4-ac27-42d5-abd3-c7e45d349fdf",
   "metadata": {},
   "source": [
    "# Ensemble Base\n",
    "* Determines which alphas we use for ensembling\n",
    "* The first alpha in each entry is used as the baseline predictor"
   ]
  },
  {
   "cell_type": "code",
   "execution_count": 1,
   "id": "7113d6cb-3eb8-46c9-ab34-a9326871fbc4",
   "metadata": {},
   "outputs": [],
   "source": [
    "explicit_raw_alphas = [\n",
    "        \"ExplicitUserItemBiases\"\n",
    "        \"ExplicitItemCF\"\n",
    "    ];"
   ]
  },
  {
   "cell_type": "code",
   "execution_count": 2,
   "id": "e6d04ff0-f5eb-4e73-9329-e9ca69fee38f",
   "metadata": {},
   "outputs": [],
   "source": [
    "implicit_raw_alphas = [\n",
    "        \"UniformBaseline\"\n",
    "        \"PopularityBaseline\"\n",
    "    ];"
   ]
  },
  {
   "cell_type": "code",
   "execution_count": 3,
   "id": "1b6ac816-23c3-4384-8f69-646b94726302",
   "metadata": {},
   "outputs": [],
   "source": [
    "nondirectional_raw_alphas = [\n",
    "        \"SeenItemsCount\"\n",
    "    ];"
   ]
  }
 ],
 "metadata": {
  "kernelspec": {
   "display_name": "Julia 1.8.0-rc1",
   "language": "julia",
   "name": "julia-1.8"
  },
  "language_info": {
   "file_extension": ".jl",
   "mimetype": "application/julia",
   "name": "julia",
   "version": "1.8.0"
  }
 },
 "nbformat": 4,
 "nbformat_minor": 5
}
