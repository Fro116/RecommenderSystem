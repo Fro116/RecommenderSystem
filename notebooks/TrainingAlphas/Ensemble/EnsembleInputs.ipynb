{
 "cells": [
  {
   "cell_type": "markdown",
   "id": "e384b3a4-ac27-42d5-abd3-c7e45d349fdf",
   "metadata": {
    "tags": []
   },
   "source": [
    "# Ensemble Inputs\n",
    "* Determines which alphas we use for ensembling"
   ]
  },
  {
   "cell_type": "code",
   "execution_count": null,
   "id": "e4138917-61f3-4794-9da6-c208dcefd78d",
   "metadata": {},
   "outputs": [],
   "source": [
    "function get_ensemple_alphas(metric, medium)\n",
    "    alphas = [\n",
    "        \"$medium/Transformer/v1/$metric\",\n",
    "        \"$medium/BagOfWords/v1/$metric\",\n",
    "    ]\n",
    "    if metric == \"rating\"\n",
    "        push!(alphas, \"Baseline/$medium/rating\")\n",
    "    end\n",
    "    alphas\n",
    "end;"
   ]
  }
 ],
 "metadata": {
  "kernelspec": {
   "display_name": "Julia 1.9.4",
   "language": "julia",
   "name": "julia-1.9"
  },
  "language_info": {
   "file_extension": ".jl",
   "mimetype": "application/julia",
   "name": "julia",
   "version": "1.9.4"
  }
 },
 "nbformat": 4,
 "nbformat_minor": 5
}
