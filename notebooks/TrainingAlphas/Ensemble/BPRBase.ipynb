{
 "cells": [
  {
   "cell_type": "markdown",
   "id": "2df5351f-2171-4365-b750-8984d42c5fe5",
   "metadata": {},
   "source": [
    "# Bayesian Personalized Ranking\n",
    "* Creates a model for pairwise classification"
   ]
  },
  {
   "cell_type": "code",
   "execution_count": null,
   "id": "69b5a19a-24f5-4730-afe2-f451d27d18e3",
   "metadata": {},
   "outputs": [],
   "source": [
    "using Flux\n",
    "\n",
    "import CUDA\n",
    "import SparseArrays: sparse\n",
    "import NBInclude: @nbinclude\n",
    "@nbinclude(\"../Alpha.ipynb\")\n",
    "@nbinclude(\"EnsembleInputs.ipynb\")\n",
    "@nbinclude(\"SuppressImplicit.ipynb\");"
   ]
  },
  {
   "cell_type": "code",
   "execution_count": null,
   "id": "d4b7f140-5c65-48cd-bbbb-2bc37cfd0906",
   "metadata": {},
   "outputs": [],
   "source": [
    "# support both gpu and cpu training\n",
    "\n",
    "function device(x)\n",
    "    gpu(x)\n",
    "end\n",
    "\n",
    "if !CUDA.functional()\n",
    "    LinearAlgebra.BLAS.set_num_threads(Threads.nthreads())\n",
    "end;"
   ]
  },
  {
   "cell_type": "markdown",
   "id": "a7086c3c-af84-49c2-a579-45d092183d2a",
   "metadata": {},
   "source": [
    "## Data Preprocessing"
   ]
  },
  {
   "cell_type": "code",
   "execution_count": null,
   "id": "0b8ccb15-51c2-4a75-afcc-ef3930dacd7c",
   "metadata": {},
   "outputs": [],
   "source": [
    "function add_priorities!(user_priorities, split, priority)\n",
    "    a = get_raw_split(split)\n",
    "    @showprogress for i = 1:length(a.rating)\n",
    "        user_priorities[a.user[i]][a.item[i]] = priority(a.rating[i])\n",
    "    end\n",
    "end\n",
    "\n",
    "function get_user_priorities()\n",
    "    user_priorities = Dict{Int32,Dict{Int32,Tuple{Int32,Float32}}}()\n",
    "    @showprogress for i = 1:num_users()\n",
    "        user_priorities[i] = Dict{Int32,Tuple{Int32,Float32}}()\n",
    "    end\n",
    "    add_priorities!(user_priorities, \"explicit_test\", r -> (1, r))\n",
    "    add_priorities!(user_priorities, \"implicit_test\", r -> (1, NaN32))\n",
    "    add_priorities!(user_priorities, \"negative_test\", r -> (0, NaN32))\n",
    "    user_priorities\n",
    "end\n",
    "\n",
    "function training_test_split(user_priorities; p = 0.9)\n",
    "    training = Dict{Int32,Dict{Int32,Tuple{Int32,Float32}}}()\n",
    "    test = Dict{Int32,Dict{Int32,Tuple{Int32,Float32}}}()\n",
    "    cutoff = num_users() * p\n",
    "    @showprogress for k in keys(user_priorities)\n",
    "        if k < cutoff\n",
    "            training[k] = user_priorities[k]\n",
    "        else\n",
    "            test[k] = user_priorities[k]\n",
    "        end\n",
    "    end\n",
    "    training, test\n",
    "end;"
   ]
  },
  {
   "cell_type": "code",
   "execution_count": null,
   "id": "d8edac26-7aa7-47d4-8794-b6ace6fad0ab",
   "metadata": {},
   "outputs": [],
   "source": [
    "function add_features!(user_features, alphas, split)\n",
    "    @info \"getting $split alphas\"\n",
    "    as = []\n",
    "    @showprogress for a in alphas\n",
    "        implicit = occursin(\"Implicit\", a) && !occursin(\"Error\", a)\n",
    "        push!(as, read_alpha(a, split, implicit).rating)\n",
    "    end\n",
    "    df = get_raw_split(split)\n",
    "    @showprogress for i = 1:length(df.rating)\n",
    "        user_features[df.user[i]][df.item[i]] = [a[i] for a in as]\n",
    "    end\n",
    "end\n",
    "\n",
    "function get_user_features(features)\n",
    "    @info \"getting user features\"    \n",
    "    user_features = Dict{Int32,Dict{Int32,Vector{Float32}}}()\n",
    "    @showprogress for i = 1:num_users()\n",
    "        user_features[i] = Dict{Int32,Vector{Float32}}()\n",
    "    end\n",
    "    add_features!(user_features, features, \"explicit_test\")\n",
    "    add_features!(user_features, features, \"implicit_test\")\n",
    "    add_features!(user_features, features, \"negative_test\")\n",
    "    user_features\n",
    "end;"
   ]
  },
  {
   "cell_type": "code",
   "execution_count": null,
   "id": "3cded958-06da-4212-89a4-cccb199e86b1",
   "metadata": {},
   "outputs": [],
   "source": [
    "@memoize function get_data(features)\n",
    "    training, test = training_test_split(get_user_priorities())\n",
    "    user_features = get_user_features(features)\n",
    "    training, test, user_features\n",
    "end;"
   ]
  },
  {
   "cell_type": "markdown",
   "id": "3d06f21d-870c-4834-9863-82f38243662b",
   "metadata": {},
   "source": [
    "## Batching"
   ]
  },
  {
   "cell_type": "code",
   "execution_count": null,
   "id": "b5ae753b-940d-4d5b-8542-1d963e0bceaa",
   "metadata": {},
   "outputs": [],
   "source": [
    "function compare(x, y)\n",
    "    if isnan(x) || isnan(y)\n",
    "        return NaN\n",
    "    elseif x == y\n",
    "        return 0\n",
    "    elseif x > y\n",
    "        return 1\n",
    "    else\n",
    "        return -1\n",
    "    end\n",
    "end\n",
    "\n",
    "function compare(x::Tuple, y::Tuple)\n",
    "    results = compare.(x, y)\n",
    "    for r in results\n",
    "        if r == 0\n",
    "            continue\n",
    "        else\n",
    "            return r\n",
    "        end\n",
    "    end\n",
    "    0\n",
    "end\n",
    "\n",
    "function sample(user_priorities, user_features; training=false)\n",
    "    while true\n",
    "        u, items = rand(user_priorities, 1)[1]\n",
    "        if length(items) > 1\n",
    "            i, j = rand(items, 2)\n",
    "            sign = compare(i[2], j[2])\n",
    "            if !isnan(sign) && (sign != 0)\n",
    "                features = user_features[u]\n",
    "                x = vcat(features[i[1]], features[j[1]])\n",
    "                return x, [Float32((sign + 1) / 2)]\n",
    "            end\n",
    "        end\n",
    "    end\n",
    "end\n",
    "\n",
    "function get_batch(user_priorities, user_features, batch_size; training=false)\n",
    "    Xs = []\n",
    "    ys = []\n",
    "    for i = 1:batch_size\n",
    "        x, y = sample(user_priorities, user_features; training=training)\n",
    "        push!(Xs, x)\n",
    "        push!(ys, y)\n",
    "    end\n",
    "    [(Flux.batch(Xs) |> device, Flux.batch(ys) |> device)]\n",
    "end;"
   ]
  }
 ],
 "metadata": {
  "kernelspec": {
   "display_name": "Julia 1.8.0-rc1",
   "language": "julia",
   "name": "julia-1.8"
  },
  "language_info": {
   "file_extension": ".jl",
   "mimetype": "application/julia",
   "name": "julia",
   "version": "1.8.0"
  }
 },
 "nbformat": 4,
 "nbformat_minor": 5
}
