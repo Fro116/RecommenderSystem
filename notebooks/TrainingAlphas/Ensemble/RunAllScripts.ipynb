{
 "cells": [
  {
   "cell_type": "code",
   "execution_count": null,
   "id": "7df9b9d0-f4e3-4db9-b67d-799c100e8ab9",
   "metadata": {},
   "outputs": [],
   "source": [
    "import os\n",
    "\n",
    "import papermill as pm"
   ]
  },
  {
   "cell_type": "code",
   "execution_count": null,
   "id": "0162aac0-a1a6-4a99-8378-49bdbeb4f158",
   "metadata": {},
   "outputs": [],
   "source": [
    "def get_data_path(task):\n",
    "    data_path = f\"../../../data/papermill/training_alphas/ensemble/{task}\"\n",
    "    if not os.path.exists(data_path):\n",
    "        os.makedirs(data_path, exist_ok=True)\n",
    "    return data_path"
   ]
  },
  {
   "cell_type": "code",
   "execution_count": null,
   "id": "493d1667-ee9e-4b21-b0d0-c8e09fb3a4c8",
   "metadata": {},
   "outputs": [],
   "source": [
    "all_tasks = [\"random\", \"causal\", \"temporal\"]\n",
    "all_tasks = [\"random\"] # TODO delete"
   ]
  },
  {
   "cell_type": "code",
   "execution_count": null,
   "id": "58e8d146-da94-4334-8b78-80453cee9e31",
   "metadata": {},
   "outputs": [],
   "source": [
    "def run_notebook(script):\n",
    "    for task in all_tasks:\n",
    "        pm.execute_notebook(\n",
    "            script,\n",
    "            os.path.join(get_data_path(task), script),\n",
    "            parameters=dict(task=task),\n",
    "        )"
   ]
  },
  {
   "cell_type": "code",
   "execution_count": null,
   "id": "7a54f872-21b7-49c9-bbcb-6e456e14e68a",
   "metadata": {},
   "outputs": [],
   "source": [
    "run_notebook(\"LinearModel.ipynb\")"
   ]
  },
  {
   "cell_type": "code",
   "execution_count": null,
   "id": "99772e96-781b-42ac-ac3d-a0c5c2236085",
   "metadata": {},
   "outputs": [],
   "source": [
    "run_notebook(\"NonlinearModel.ipynb\")"
   ]
  },
  {
   "cell_type": "code",
   "execution_count": null,
   "id": "14a1200f-ae59-4f67-b094-83e6c19d5f3b",
   "metadata": {},
   "outputs": [],
   "source": [
    "run_notebook(\"MLE.Ensemble.ipynb\")"
   ]
  },
  {
   "cell_type": "code",
   "execution_count": null,
   "id": "f7cd304b-1d38-442c-86c8-fd54301afe05",
   "metadata": {},
   "outputs": [],
   "source": [
    "print(\"Success!\")"
   ]
  }
 ],
 "metadata": {
  "kernelspec": {
   "display_name": "Python 3 (ipykernel)",
   "language": "python",
   "name": "python3"
  },
  "language_info": {
   "codemirror_mode": {
    "name": "ipython",
    "version": 3
   },
   "file_extension": ".py",
   "mimetype": "text/x-python",
   "name": "python",
   "nbconvert_exporter": "python",
   "pygments_lexer": "ipython3",
   "version": "3.10.6"
  }
 },
 "nbformat": 4,
 "nbformat_minor": 5
}
