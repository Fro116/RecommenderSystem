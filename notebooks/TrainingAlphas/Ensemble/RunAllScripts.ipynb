{
 "cells": [
  {
   "cell_type": "code",
   "execution_count": null,
   "id": "7df9b9d0-f4e3-4db9-b67d-799c100e8ab9",
   "metadata": {},
   "outputs": [],
   "source": [
    "import os\n",
    "\n",
    "import papermill as pm"
   ]
  },
  {
   "cell_type": "code",
   "execution_count": null,
   "id": "0162aac0-a1a6-4a99-8378-49bdbeb4f158",
   "metadata": {},
   "outputs": [],
   "source": [
    "def run(script, output, params):\n",
    "    os.makedirs(os.path.dirname(output), exist_ok=True)\n",
    "    pm.execute_notebook(script, output, params)\n",
    "\n",
    "\n",
    "def run_notebook(script, datasets):\n",
    "    data_path = \"../../../data/papermill/training_alphas/linear\"\n",
    "    version = \"v1\"\n",
    "    for dataset in datasets:\n",
    "        for medium in [\"manga\", \"anime\"]:\n",
    "            for metric in [\"rating\", \"watch\", \"plantowatch\", \"drop\"]:\n",
    "                run(\n",
    "                    script,\n",
    "                    os.path.join(data_path, version, dataset, medium, metric, script),\n",
    "                    dict(\n",
    "                        version=version, dataset=dataset, medium=medium, metric=metric\n",
    "                    ),\n",
    "                )"
   ]
  },
  {
   "cell_type": "code",
   "execution_count": null,
   "id": "493d1667-ee9e-4b21-b0d0-c8e09fb3a4c8",
   "metadata": {
    "editable": true,
    "slideshow": {
     "slide_type": ""
    },
    "tags": []
   },
   "outputs": [],
   "source": [
    "run_notebook(\"Linear.ipynb\", [\"streaming\"])"
   ]
  },
  {
   "cell_type": "code",
   "execution_count": null,
   "id": "58a8c9b1-1f73-4f1c-abb8-3a24d63780b9",
   "metadata": {
    "editable": true,
    "slideshow": {
     "slide_type": ""
    },
    "tags": [
     "parameters"
    ]
   },
   "outputs": [],
   "source": [
    "print(\"Success!\")"
   ]
  }
 ],
 "metadata": {
  "kernelspec": {
   "display_name": "Python 3 (ipykernel)",
   "language": "python",
   "name": "python3"
  },
  "language_info": {
   "codemirror_mode": {
    "name": "ipython",
    "version": 3
   },
   "file_extension": ".py",
   "mimetype": "text/x-python",
   "name": "python",
   "nbconvert_exporter": "python",
   "pygments_lexer": "ipython3",
   "version": "3.12.3"
  }
 },
 "nbformat": 4,
 "nbformat_minor": 5
}
