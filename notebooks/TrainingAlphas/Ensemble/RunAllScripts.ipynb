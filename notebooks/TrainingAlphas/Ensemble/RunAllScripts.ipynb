{
 "cells": [
  {
   "cell_type": "code",
   "execution_count": null,
   "id": "7df9b9d0-f4e3-4db9-b67d-799c100e8ab9",
   "metadata": {},
   "outputs": [],
   "source": [
    "import os\n",
    "\n",
    "import papermill as pm"
   ]
  },
  {
   "cell_type": "code",
   "execution_count": null,
   "id": "0162aac0-a1a6-4a99-8378-49bdbeb4f158",
   "metadata": {},
   "outputs": [],
   "source": [
    "data_path = \"../../../data/papermill/training_alphas/ensemble\"\n",
    "if not os.path.exists(data_path):\n",
    "    os.makedirs(data_path, exist_ok=True)"
   ]
  },
  {
   "cell_type": "code",
   "execution_count": null,
   "id": "58e8d146-da94-4334-8b78-80453cee9e31",
   "metadata": {},
   "outputs": [],
   "source": [
    "def run_notebook(script):\n",
    "    pm.execute_notebook(\n",
    "        script,\n",
    "        os.path.join(data_path, script),\n",
    "        parameters=dict(),\n",
    "    )"
   ]
  },
  {
   "cell_type": "code",
   "execution_count": null,
   "id": "7a54f872-21b7-49c9-bbcb-6e456e14e68a",
   "metadata": {},
   "outputs": [],
   "source": [
    "run_notebook(\"LinearModel.ipynb\")"
   ]
  },
  {
   "cell_type": "code",
   "execution_count": null,
   "id": "99772e96-781b-42ac-ac3d-a0c5c2236085",
   "metadata": {},
   "outputs": [],
   "source": [
    "run_notebook(\"NonlinearModel.ipynb\")"
   ]
  },
  {
   "cell_type": "code",
   "execution_count": null,
   "id": "a30ea010-e242-45ac-b9d1-2f75b49fe6ab",
   "metadata": {
    "tags": []
   },
   "outputs": [],
   "source": [
    "run_notebook(\"BPR.Neural.Restricted.ipynb\")"
   ]
  },
  {
   "cell_type": "code",
   "execution_count": null,
   "id": "d0b3c535-8175-47a3-af31-abd9b2251f2f",
   "metadata": {},
   "outputs": [],
   "source": [
    "run_notebook(\"BPR.Neural.Ptw.ipynb\")"
   ]
  },
  {
   "cell_type": "code",
   "execution_count": null,
   "id": "15b54947-4c3c-4f59-93bd-438224176a7d",
   "metadata": {},
   "outputs": [],
   "source": [
    "run_notebook(\"BPR.Tree.Restricted.ipynb\")"
   ]
  },
  {
   "cell_type": "code",
   "execution_count": null,
   "id": "14a1200f-ae59-4f67-b094-83e6c19d5f3b",
   "metadata": {},
   "outputs": [],
   "source": [
    "run_notebook(\"BPR.Tree.Ptw.ipynb\")"
   ]
  },
  {
   "cell_type": "code",
   "execution_count": null,
   "id": "f7cd304b-1d38-442c-86c8-fd54301afe05",
   "metadata": {},
   "outputs": [],
   "source": [
    "print(\"Success!\")"
   ]
  }
 ],
 "metadata": {
  "kernelspec": {
   "display_name": "Python 3 (ipykernel)",
   "language": "python",
   "name": "python3"
  },
  "language_info": {
   "codemirror_mode": {
    "name": "ipython",
    "version": 3
   },
   "file_extension": ".py",
   "mimetype": "text/x-python",
   "name": "python",
   "nbconvert_exporter": "python",
   "pygments_lexer": "ipython3",
   "version": "3.10.4"
  }
 },
 "nbformat": 4,
 "nbformat_minor": 5
}
