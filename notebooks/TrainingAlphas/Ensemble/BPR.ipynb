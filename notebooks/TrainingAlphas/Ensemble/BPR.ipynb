{
 "cells": [
  {
   "cell_type": "markdown",
   "id": "2df5351f-2171-4365-b750-8984d42c5fe5",
   "metadata": {},
   "source": [
    "# Bayesian Personalized Ranking\n",
    "* Creates a model for pairwise classification"
   ]
  },
  {
   "cell_type": "code",
   "execution_count": 1,
   "id": "69b5a19a-24f5-4730-afe2-f451d27d18e3",
   "metadata": {},
   "outputs": [],
   "source": [
    "using Flux\n",
    "\n",
    "import CUDA\n",
    "import NLopt\n",
    "import Random\n",
    "import NBInclude: @nbinclude\n",
    "import Setfield: @set\n",
    "@nbinclude(\"BPRBase.ipynb\")\n",
    "@nbinclude(\"../Neural/GPU.ipynb\")"
   ]
  },
  {
   "cell_type": "markdown",
   "id": "3c844803-8039-40f4-9e6d-d6c32de910ec",
   "metadata": {},
   "source": [
    "## Hyperparameters"
   ]
  },
  {
   "cell_type": "code",
   "execution_count": 3,
   "id": "0ced8d21-51e8-4193-b66c-2aad73ee9164",
   "metadata": {},
   "outputs": [],
   "source": [
    "@with_kw struct Hyperparams\n",
    "    batch_size::Int\n",
    "    features::Vector{String}\n",
    "    l2penalty::Float32\n",
    "    learning_rate::Float32\n",
    "    seed::UInt64\n",
    "end\n",
    "\n",
    "function to_dict(x::Hyperparams)\n",
    "    Dict(string(key) => getfield(x, key) for key ∈ fieldnames(Hyperparams))\n",
    "end\n",
    "\n",
    "function Base.string(x::Hyperparams)\n",
    "    fields = [x for x in fieldnames(Hyperparams)]\n",
    "    max_field_size = maximum(length(string(k)) for k in fields)\n",
    "    ret = \"Hyperparameters:\\n\"\n",
    "    for f in fields\n",
    "        ret *= \"$(rpad(string(f), max_field_size)) => $(getfield(x, f))\\n\"\n",
    "    end\n",
    "    ret\n",
    "end;"
   ]
  },
  {
   "cell_type": "markdown",
   "id": "41bfb8c5-fc16-4d8e-b236-94228435451e",
   "metadata": {},
   "source": [
    "## Models"
   ]
  },
  {
   "cell_type": "code",
   "execution_count": 4,
   "id": "0a2f9f4d-180a-4f2e-b21e-b2e2e15d00e3",
   "metadata": {},
   "outputs": [],
   "source": [
    "function build_model(features)\n",
    "    num_inputs = length(features) * 2\n",
    "    Chain(Dense(num_inputs => 256, relu), Dense(256 => 1))\n",
    "end;"
   ]
  },
  {
   "cell_type": "markdown",
   "id": "f2afe598-21a3-47b7-8613-b574e25d711b",
   "metadata": {},
   "source": [
    "## Loss Functions"
   ]
  },
  {
   "cell_type": "code",
   "execution_count": 8,
   "id": "5ef580ec-b209-42a2-b28c-4d4066a01c81",
   "metadata": {},
   "outputs": [],
   "source": [
    "function model_loss(m, x, y)\n",
    "    Flux.logitbinarycrossentropy(m(x), y)\n",
    "end\n",
    "\n",
    "function split_loss(m, iters, batches::Channel)\n",
    "    losses = 0.0\n",
    "    for _ = 1:iters\n",
    "        losses += model_loss(m, take!(batches)[1]...)\n",
    "    end\n",
    "    losses / iters\n",
    "end;"
   ]
  },
  {
   "cell_type": "markdown",
   "id": "0fb55068-feaf-4f29-b6e6-e2ea18451efa",
   "metadata": {},
   "source": [
    "## Training"
   ]
  },
  {
   "cell_type": "code",
   "execution_count": 10,
   "id": "5ad3244b-38e1-4bae-927d-428018c9d609",
   "metadata": {},
   "outputs": [],
   "source": [
    "function generate_batches(user_priorities, user_features, batch_size, c::Channel)\n",
    "    while true\n",
    "        try\n",
    "            put!(c, get_batch(user_priorities, user_features, batch_size))\n",
    "        catch e\n",
    "            if isa(e, InvalidStateException)\n",
    "                break\n",
    "            end\n",
    "        end\n",
    "    end\n",
    "end;"
   ]
  },
  {
   "cell_type": "code",
   "execution_count": 11,
   "id": "000bad20-6037-4d47-8d18-18d72cd35d05",
   "metadata": {},
   "outputs": [],
   "source": [
    "# trains a model with the given hyperparams and returns its validation loss\n",
    "function train_model(\n",
    "    hyp;\n",
    "    max_checkpoints = 100,\n",
    "    epochs_per_checkpoint = 10,\n",
    "    patience = 0,\n",
    "    verbose = false,\n",
    ")\n",
    "    if verbose\n",
    "        @info \"Getting data\"\n",
    "    end\n",
    "    opt = ADAMW(hyp.learning_rate, (0.9, 0.999), hyp.l2penalty)\n",
    "    Random.seed!(hyp.seed)\n",
    "    m = build_model(hyp.features) |> device\n",
    "    best_model = m |> cpu\n",
    "    ps = Flux.params(m)\n",
    "    stopper = early_stopper(max_iters = max_checkpoints, patience = patience)\n",
    "    training, test, user_features = get_data(hyp.features)\n",
    "    batchloss(x, y) = model_loss(m, x, y)\n",
    "    epoch_size = Int(round(num_users() / hyp.batch_size))\n",
    "\n",
    "    if verbose\n",
    "        @info \"Setting up batches\"\n",
    "    end\n",
    "    training_batches = Channel(64)\n",
    "    test_batches = Channel(64)\n",
    "    for _ = 1:max(Threads.nthreads() / 2 - 1, 1)\n",
    "        Threads.@spawn generate_batches(\n",
    "            training,\n",
    "            user_features,\n",
    "            hyp.batch_size,\n",
    "            training_batches,\n",
    "        )\n",
    "        Threads.@spawn generate_batches(test, user_features, hyp.batch_size, test_batches)\n",
    "    end\n",
    "\n",
    "    if verbose\n",
    "        @info \"Training...\"\n",
    "    end\n",
    "    losses = []\n",
    "    loss = Inf\n",
    "    while (!stop!(stopper, loss))\n",
    "        for i = 1:epochs_per_checkpoint\n",
    "            for _ = 1:epoch_size\n",
    "                Flux.train!(batchloss, ps, take!(training_batches), opt)\n",
    "            end\n",
    "        end\n",
    "\n",
    "        loss = split_loss(m, epoch_size, test_batches)\n",
    "        push!(losses, loss)\n",
    "        if loss == minimum(losses)\n",
    "            best_model = m |> cpu\n",
    "        end\n",
    "        if verbose\n",
    "            @info \"loss $loss\"\n",
    "        end\n",
    "    end\n",
    "\n",
    "    close(training_batches)\n",
    "    close(test_batches)\n",
    "    best_model, minimum(losses)\n",
    "end;"
   ]
  },
  {
   "cell_type": "markdown",
   "id": "bd4db189-a655-43dd-b93a-2d449e6a6354",
   "metadata": {},
   "source": [
    "## Hyperparameter Tuning"
   ]
  },
  {
   "cell_type": "code",
   "execution_count": 12,
   "id": "dadbdc6d-d986-4870-a4e6-6467ac3aea23",
   "metadata": {},
   "outputs": [],
   "source": [
    "function create_hyperparams(hyp, λ)\n",
    "    hyp = @set hyp.learning_rate = 10^(λ[1] - 3)\n",
    "    hyp = @set hyp.l2penalty = 10^(λ[2] - 5)\n",
    "    hyp\n",
    "end;"
   ]
  },
  {
   "cell_type": "code",
   "execution_count": 13,
   "id": "8aebe789-d898-4872-b5e2-376ea1074cc4",
   "metadata": {},
   "outputs": [],
   "source": [
    "function optimize_hyperparams(hyp; max_evals)\n",
    "    function nlopt_loss(λ, grad)\n",
    "        # nlopt internally converts to float64 because it calls a c library\n",
    "        λ = convert.(Float32, λ)\n",
    "        _, loss = train_model(create_hyperparams(hyp, λ))\n",
    "        @info \"$λ $loss\"\n",
    "        loss\n",
    "    end\n",
    "    opt = NLopt.Opt(:LN_NELDERMEAD, 2)\n",
    "    opt.initial_step = 1\n",
    "    opt.maxeval = max_evals\n",
    "    opt.min_objective = nlopt_loss\n",
    "    minf, λ, ret = NLopt.optimize(opt, zeros(Float32, 2))\n",
    "    numevals = opt.numevals\n",
    "\n",
    "    @info (\n",
    "        \"found minimum $minf at point $λ after $numevals function calls \" *\n",
    "        \"(ended because $ret) and saved model at\"\n",
    "    )\n",
    "    λ\n",
    "end;"
   ]
  },
  {
   "cell_type": "markdown",
   "id": "bd36b5c4-e382-4442-acb7-41e623521076",
   "metadata": {},
   "source": [
    "## Save Model"
   ]
  },
  {
   "cell_type": "code",
   "execution_count": 14,
   "id": "fd45d6f1-f2a5-4ea9-830e-c93b4c6c3395",
   "metadata": {},
   "outputs": [],
   "source": [
    "function train_alpha(hyp, outdir; tune_hyperparams = true)\n",
    "    set_logging_outdir(outdir)\n",
    "\n",
    "    if tune_hyperparams\n",
    "        @info \"Optimizing hyperparameters...\"\n",
    "        λ = optimize_hyperparams(hyp; max_evals = 10)\n",
    "    else\n",
    "        λ = zeros(2)\n",
    "    end\n",
    "    hyp = create_hyperparams(hyp, λ)\n",
    "\n",
    "    @info \"Training model...\"\n",
    "    m, validation_loss =\n",
    "        train_model(hyp; max_checkpoints = 1000, epochs_per_checkpoint = 1, patience = 10)\n",
    "    @info \"Trained model loss: $validation_loss\"\n",
    "\n",
    "    @info \"Writing alpha...\"\n",
    "    write_params(Dict(\"m\" => m, \"λ\" => λ, \"hyp\" => hyp), outdir)\n",
    "    @info \"Wrote alpha!\"\n",
    "end;"
   ]
  },
  {
   "cell_type": "code",
   "execution_count": 15,
   "id": "2b097d37-efdb-4f18-8ebe-bf2fa8d98bd2",
   "metadata": {
    "tags": []
   },
   "outputs": [],
   "source": [
    "restricted_alphas = [\n",
    "    \"Explicit\"\n",
    "    \"LinearImplicit\"\n",
    "    \"ErrorExplicit\"\n",
    "    \"ErrorImplicit\"\n",
    "    \"ExplicitUserItemBiases\"\n",
    "    \"NeuralImplicitUserItemBiases\"\n",
    "];"
   ]
  },
  {
   "cell_type": "code",
   "execution_count": 16,
   "id": "fcc5b860-1a37-4eff-9801-b4760f74b85c",
   "metadata": {
    "tags": []
   },
   "outputs": [
    {
     "name": "stderr",
     "output_type": "stream",
     "text": [
      "\u001b[38;5;6m\u001b[1m[ \u001b[22m\u001b[39m\u001b[38;5;6m\u001b[1mInfo: \u001b[22m\u001b[39m20220708 22:25:32 Optimizing hyperparameters...\n",
      "\u001b[32mProgress: 100%|█████████████████████████████████████████| Time: 0:00:02\u001b[39m\n",
      "\u001b[32mProgress: 100%|█████████████████████████████████████████| Time: 0:00:23\u001b[39m\n",
      "\u001b[32mProgress: 100%|█████████████████████████████████████████| Time: 0:00:11\u001b[39m\n",
      "\u001b[32mProgress: 100%|█████████████████████████████████████████| Time: 0:01:01\u001b[39m\n",
      "\u001b[32mProgress: 100%|█████████████████████████████████████████| Time: 0:00:01\u001b[39m\n",
      "\u001b[32mProgress: 100%|█████████████████████████████████████████| Time: 0:00:04\u001b[39m\n",
      "\u001b[32mProgress: 100%|█████████████████████████████████████████| Time: 0:00:43\u001b[39m\n",
      "\u001b[32mProgress: 100%|█████████████████████████████████████████| Time: 0:00:24\u001b[39m\n",
      "\u001b[32mProgress: 100%|█████████████████████████████████████████| Time: 0:02:30\u001b[39m\n",
      "\u001b[38;5;6m\u001b[1m[ \u001b[22m\u001b[39m\u001b[38;5;6m\u001b[1mInfo: \u001b[22m\u001b[39m20220708 22:36:11 Float32[0.0, 0.0] 0.11864882431325711\n",
      "\u001b[38;5;6m\u001b[1m[ \u001b[22m\u001b[39m\u001b[38;5;6m\u001b[1mInfo: \u001b[22m\u001b[39m20220708 22:37:18 Float32[1.0, 0.0] 0.1199650954060265\n",
      "\u001b[38;5;6m\u001b[1m[ \u001b[22m\u001b[39m\u001b[38;5;6m\u001b[1mInfo: \u001b[22m\u001b[39m20220708 22:38:18 Float32[0.0, 1.0] 0.1254117955681694\n",
      "\u001b[38;5;6m\u001b[1m[ \u001b[22m\u001b[39m\u001b[38;5;6m\u001b[1mInfo: \u001b[22m\u001b[39m20220708 22:39:26 Float32[1.0, -1.0] 0.1198759979260323\n",
      "\u001b[38;5;6m\u001b[1m[ \u001b[22m\u001b[39m\u001b[38;5;6m\u001b[1mInfo: \u001b[22m\u001b[39m20220708 22:41:00 Float32[0.0, -1.0] 0.11907878966376\n",
      "\u001b[38;5;6m\u001b[1m[ \u001b[22m\u001b[39m\u001b[38;5;6m\u001b[1mInfo: \u001b[22m\u001b[39m20220708 22:44:21 Float32[-1.0, 0.0] 0.12254076151466063\n",
      "\u001b[38;5;6m\u001b[1m[ \u001b[22m\u001b[39m\u001b[38;5;6m\u001b[1mInfo: \u001b[22m\u001b[39m20220708 22:46:31 Float32[0.5, -0.75] 0.11740248407768061\n",
      "\u001b[38;5;6m\u001b[1m[ \u001b[22m\u001b[39m\u001b[38;5;6m\u001b[1mInfo: \u001b[22m\u001b[39m20220708 22:48:07 Float32[0.5, 0.25] 0.11918809128590055\n",
      "\u001b[38;5;6m\u001b[1m[ \u001b[22m\u001b[39m\u001b[38;5;6m\u001b[1mInfo: \u001b[22m\u001b[39m20220708 22:50:18 Float32[0.125, -0.6875] 0.1185116210649572\n",
      "\u001b[38;5;6m\u001b[1m[ \u001b[22m\u001b[39m\u001b[38;5;6m\u001b[1mInfo: \u001b[22m\u001b[39m20220708 22:51:55 Float32[0.625, -1.4375] 0.11810216075213438\n",
      "\u001b[38;5;6m\u001b[1m[ \u001b[22m\u001b[39m\u001b[38;5;6m\u001b[1mInfo: \u001b[22m\u001b[39m20220708 22:51:55 found minimum 0.11740248407768061 at point [0.5, -0.75] after 10 function calls (ended because MAXEVAL_REACHED) and saved model at\n",
      "\u001b[38;5;6m\u001b[1m[ \u001b[22m\u001b[39m\u001b[38;5;6m\u001b[1mInfo: \u001b[22m\u001b[39m20220708 22:51:55 Training model...\n",
      "\u001b[38;5;6m\u001b[1m[ \u001b[22m\u001b[39m\u001b[38;5;6m\u001b[1mInfo: \u001b[22m\u001b[39m20220708 22:55:44 Trained model loss: 0.11714410041580106\n",
      "\u001b[38;5;6m\u001b[1m[ \u001b[22m\u001b[39m\u001b[38;5;6m\u001b[1mInfo: \u001b[22m\u001b[39m20220708 22:55:44 Writing alpha...\n",
      "\u001b[38;5;6m\u001b[1m[ \u001b[22m\u001b[39m\u001b[38;5;6m\u001b[1mInfo: \u001b[22m\u001b[39m20220708 22:55:46 Wrote alpha!\n"
     ]
    }
   ],
   "source": [
    "train_alpha(\n",
    "    Hyperparams(\n",
    "        batch_size = 1024,\n",
    "        features = restricted_alphas,\n",
    "        l2penalty = NaN,\n",
    "        learning_rate = NaN,\n",
    "        seed = 20220609,\n",
    "    ),\n",
    "    \"BPR\";\n",
    "    tune_hyperparams = true,\n",
    ")"
   ]
  }
 ],
 "metadata": {
  "kernelspec": {
   "display_name": "Julia 1.8.0-rc1",
   "language": "julia",
   "name": "julia-1.8"
  },
  "language_info": {
   "file_extension": ".jl",
   "mimetype": "application/julia",
   "name": "julia",
   "version": "1.8.0"
  }
 },
 "nbformat": 4,
 "nbformat_minor": 5
}
