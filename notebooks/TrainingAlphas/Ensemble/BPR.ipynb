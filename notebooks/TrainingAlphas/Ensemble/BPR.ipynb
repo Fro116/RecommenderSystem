{
 "cells": [
  {
   "cell_type": "markdown",
   "id": "2df5351f-2171-4365-b750-8984d42c5fe5",
   "metadata": {},
   "source": [
    "# Bayesian Personalized Ranking\n",
    "* Creates a model for pairwise classification"
   ]
  },
  {
   "cell_type": "code",
   "execution_count": null,
   "id": "69b5a19a-24f5-4730-afe2-f451d27d18e3",
   "metadata": {},
   "outputs": [],
   "source": [
    "using Flux\n",
    "\n",
    "import CUDA\n",
    "import SparseArrays: sparse\n",
    "import NBInclude: @nbinclude\n",
    "import NLopt\n",
    "import Random\n",
    "import Setfield: @set\n",
    "@nbinclude(\"../Alpha.ipynb\")\n",
    "@nbinclude(\"EnsembleInputs.ipynb\")\n",
    "@nbinclude(\"SuppressImplicit.ipynb\");"
   ]
  },
  {
   "cell_type": "code",
   "execution_count": null,
   "id": "d4b7f140-5c65-48cd-bbbb-2bc37cfd0906",
   "metadata": {},
   "outputs": [],
   "source": [
    "# support both gpu and cpu training\n",
    "\n",
    "function device(x)\n",
    "    gpu(x)\n",
    "end\n",
    "\n",
    "if !CUDA.functional()\n",
    "    LinearAlgebra.BLAS.set_num_threads(Threads.nthreads())\n",
    "end;"
   ]
  },
  {
   "cell_type": "markdown",
   "id": "3c844803-8039-40f4-9e6d-d6c32de910ec",
   "metadata": {},
   "source": [
    "## Hyperparameters"
   ]
  },
  {
   "cell_type": "code",
   "execution_count": null,
   "id": "0ced8d21-51e8-4193-b66c-2aad73ee9164",
   "metadata": {},
   "outputs": [],
   "source": [
    "@with_kw struct Hyperparams\n",
    "    batch_size::Int\n",
    "    features::Vector{String}\n",
    "    l2penalty::Float32\n",
    "    learning_rate::Float32\n",
    "    seed::UInt64\n",
    "end\n",
    "\n",
    "function to_dict(x::Hyperparams)\n",
    "    Dict(string(key) => getfield(x, key) for key ∈ fieldnames(Hyperparams))\n",
    "end\n",
    "\n",
    "function Base.string(x::Hyperparams)\n",
    "    fields = [x for x in fieldnames(Hyperparams)]\n",
    "    max_field_size = maximum(length(string(k)) for k in fields)\n",
    "    ret = \"Hyperparameters:\\n\"\n",
    "    for f in fields\n",
    "        ret *= \"$(rpad(string(f), max_field_size)) => $(getfield(x, f))\\n\"\n",
    "    end\n",
    "    ret\n",
    "end;"
   ]
  },
  {
   "cell_type": "markdown",
   "id": "41bfb8c5-fc16-4d8e-b236-94228435451e",
   "metadata": {},
   "source": [
    "## Models"
   ]
  },
  {
   "cell_type": "code",
   "execution_count": null,
   "id": "0a2f9f4d-180a-4f2e-b21e-b2e2e15d00e3",
   "metadata": {},
   "outputs": [],
   "source": [
    "function build_model(features)\n",
    "    num_inputs = length(features) * 2\n",
    "    Chain(Dense(num_inputs => 256, relu), Dense(256 => 1))\n",
    "end;"
   ]
  },
  {
   "cell_type": "markdown",
   "id": "a7086c3c-af84-49c2-a579-45d092183d2a",
   "metadata": {},
   "source": [
    "## Data Preprocessing"
   ]
  },
  {
   "cell_type": "code",
   "execution_count": null,
   "id": "0b8ccb15-51c2-4a75-afcc-ef3930dacd7c",
   "metadata": {},
   "outputs": [],
   "source": [
    "function add_priorities!(user_priorities, split, priority)\n",
    "    a = get_raw_split(split)\n",
    "    @showprogress for i = 1:length(a.rating)\n",
    "        user_priorities[a.user[i]][a.item[i]] = priority(a.rating[i])\n",
    "    end\n",
    "end\n",
    "\n",
    "function get_user_priorities()\n",
    "    user_priorities = Dict{Int32,Dict{Int32,Tuple{Int32,Float32}}}()\n",
    "    @showprogress for i = 1:num_users()\n",
    "        user_priorities[i] = Dict{Int32,Tuple{Int32,Float32}}()\n",
    "    end\n",
    "    add_priorities!(user_priorities, \"explicit_test\", r -> (1, r))\n",
    "    add_priorities!(user_priorities, \"implicit_test\", r -> (1, NaN32))\n",
    "    add_priorities!(user_priorities, \"negative_test\", r -> (0, NaN32))\n",
    "    user_priorities\n",
    "end\n",
    "\n",
    "function training_test_split(user_priorities; p = 0.9)\n",
    "    training = Dict{Int32,Dict{Int32,Tuple{Int32,Float32}}}()\n",
    "    test = Dict{Int32,Dict{Int32,Tuple{Int32,Float32}}}()\n",
    "    cutoff = num_users() * p\n",
    "    @showprogress for k in keys(user_priorities)\n",
    "        if k < cutoff\n",
    "            training[k] = user_priorities[k]\n",
    "        else\n",
    "            test[k] = user_priorities[k]\n",
    "        end\n",
    "    end\n",
    "    training, test\n",
    "end;"
   ]
  },
  {
   "cell_type": "code",
   "execution_count": null,
   "id": "d8edac26-7aa7-47d4-8794-b6ace6fad0ab",
   "metadata": {},
   "outputs": [],
   "source": [
    "function add_features!(user_features, alphas, split)\n",
    "    implicit = occursin(\"Implicit\", a) && !occursin(\"Error\", a)\n",
    "    as = [read_alpha(a, split, implicit).rating for a in alphas]\n",
    "    df = get_raw_split(split)\n",
    "    @showprogress for i = 1:length(df.rating)\n",
    "        user_features[df.user[i]][df.item[i]] = [a[i] for a in as]\n",
    "    end\n",
    "end\n",
    "\n",
    "function get_user_features(features)\n",
    "    user_features = Dict{Int32,Dict{Int32,Vector{Float32}}}()\n",
    "    @showprogress for i = 1:num_users()\n",
    "        user_features[i] = Dict{Int32,Vector{Float32}}()\n",
    "    end\n",
    "    add_features!(user_features, features, \"explicit_test\")\n",
    "    add_features!(user_features, features, \"implicit_test\")\n",
    "    add_features!(user_features, features, \"negative_test\")\n",
    "    user_features\n",
    "end;"
   ]
  },
  {
   "cell_type": "markdown",
   "id": "3d06f21d-870c-4834-9863-82f38243662b",
   "metadata": {},
   "source": [
    "## Batching"
   ]
  },
  {
   "cell_type": "code",
   "execution_count": null,
   "id": "b5ae753b-940d-4d5b-8542-1d963e0bceaa",
   "metadata": {},
   "outputs": [],
   "source": [
    "function compare(x, y)\n",
    "    if isnan(x) || isnan(y)\n",
    "        return NaN\n",
    "    elseif x == y\n",
    "        return 0\n",
    "    elseif x > y\n",
    "        return 1\n",
    "    else\n",
    "        return -1\n",
    "    end\n",
    "end\n",
    "\n",
    "function compare(x::Tuple, y::Tuple)\n",
    "    results = compare.(x, y)\n",
    "    for r in results\n",
    "        if r == 0\n",
    "            continue\n",
    "        else\n",
    "            return r\n",
    "        end\n",
    "    end\n",
    "    0\n",
    "end\n",
    "\n",
    "function sample(user_priorities, user_features)\n",
    "    while true\n",
    "        u, items = rand(user_priorities, 1)[1]\n",
    "        if length(items) > 1\n",
    "            i, j = rand(items, 2)\n",
    "            sign = compare(i[2], j[2])\n",
    "            if !isnan(sign) && (sign != 0)\n",
    "                features = user_features[u]\n",
    "                x = vcat(features[i[1]], features[j[1]])\n",
    "                return x, [Float32((sign + 1) / 2)]\n",
    "            end\n",
    "        end\n",
    "    end\n",
    "end\n",
    "\n",
    "function get_batch(user_priorities, user_features, batch_size)\n",
    "    Xs = []\n",
    "    ys = []\n",
    "    for i = 1:batch_size\n",
    "        x, y = sample(user_priorities, user_features)\n",
    "        push!(Xs, x)\n",
    "        push!(ys, y)\n",
    "    end\n",
    "    [(Flux.batch(Xs) |> device, Flux.batch(ys) |> device)]\n",
    "end;"
   ]
  },
  {
   "cell_type": "markdown",
   "id": "f2afe598-21a3-47b7-8613-b574e25d711b",
   "metadata": {},
   "source": [
    "## Loss Functions"
   ]
  },
  {
   "cell_type": "code",
   "execution_count": null,
   "id": "5ef580ec-b209-42a2-b28c-4d4066a01c81",
   "metadata": {},
   "outputs": [],
   "source": [
    "function model_loss(m, x, y)\n",
    "    Flux.logitbinarycrossentropy(m(x), y)\n",
    "end\n",
    "\n",
    "function split_loss(m, iters, batches::Channel)\n",
    "    losses = 0.0\n",
    "    for _ = 1:iters\n",
    "        losses += model_loss(m, take!(batches)[1]...)\n",
    "    end\n",
    "    losses / iters\n",
    "end;"
   ]
  },
  {
   "cell_type": "markdown",
   "id": "0fb55068-feaf-4f29-b6e6-e2ea18451efa",
   "metadata": {},
   "source": [
    "## Training"
   ]
  },
  {
   "cell_type": "code",
   "execution_count": null,
   "id": "3cded958-06da-4212-89a4-cccb199e86b1",
   "metadata": {},
   "outputs": [],
   "source": [
    "@memoize function get_data(features)\n",
    "    training, test = training_test_split(get_user_priorities())\n",
    "    user_features = get_user_features(features)\n",
    "    training, test, user_features\n",
    "end;"
   ]
  },
  {
   "cell_type": "code",
   "execution_count": null,
   "id": "5ad3244b-38e1-4bae-927d-428018c9d609",
   "metadata": {},
   "outputs": [],
   "source": [
    "function generate_batches(user_priorities, user_features, batch_size, c::Channel)\n",
    "    while true\n",
    "        try\n",
    "            put!(c, get_batch(user_priorities, user_features, batch_size))\n",
    "        catch e\n",
    "            if isa(e, InvalidStateException)\n",
    "                break\n",
    "            end\n",
    "        end\n",
    "    end\n",
    "end;"
   ]
  },
  {
   "cell_type": "code",
   "execution_count": null,
   "id": "000bad20-6037-4d47-8d18-18d72cd35d05",
   "metadata": {},
   "outputs": [],
   "source": [
    "# trains a model with the given hyperparams and returns its validation loss\n",
    "function train_model(\n",
    "    hyp;\n",
    "    max_checkpoints = 100,\n",
    "    epochs_per_checkpoint = 10,\n",
    "    patience = 0,\n",
    "    verbose = false,\n",
    ")\n",
    "    opt = ADAMW(hyp.learning_rate, (0.9, 0.999), hyp.l2penalty)\n",
    "    Random.seed!(hyp.seed)\n",
    "    m = build_model(hyp.features) |> device\n",
    "    best_model = m |> cpu\n",
    "    ps = Flux.params(m)\n",
    "    stopper = early_stopper(max_iters = max_checkpoints, patience = patience)\n",
    "    training, test, user_features = get_data(hyp.features)\n",
    "    batchloss(x, y) = model_loss(m, x, y)\n",
    "    epoch_size = Int(round(num_users() / hyp.batch_size))\n",
    "\n",
    "    training_batches = Channel(64)\n",
    "    test_batches = Channel(64)\n",
    "    for _ = 1:max(Threads.nthreads() / 2 - 1, 1)\n",
    "        Threads.@spawn generate_batches(\n",
    "            training,\n",
    "            user_features,\n",
    "            hyp.batch_size,\n",
    "            training_batches,\n",
    "        )\n",
    "        Threads.@spawn generate_batches(test, user_features, hyp.batch_size, test_batches)\n",
    "    end\n",
    "\n",
    "    losses = []\n",
    "    loss = Inf\n",
    "    while (!stop!(stopper, loss))\n",
    "        for i = 1:epochs_per_checkpoint\n",
    "            for _ = 1:epoch_size\n",
    "                Flux.train!(batchloss, ps, take!(training_batches), opt)\n",
    "            end\n",
    "        end\n",
    "\n",
    "        loss = split_loss(m, epoch_size, test_batches)\n",
    "        push!(losses, loss)\n",
    "        if loss == minimum(losses)\n",
    "            best_model = m |> cpu\n",
    "        end\n",
    "        if verbose\n",
    "            @info \"loss $loss\"\n",
    "        end\n",
    "    end\n",
    "\n",
    "    close(training_batches)\n",
    "    close(test_batches)\n",
    "    best_model, minimum(losses)\n",
    "end;"
   ]
  },
  {
   "cell_type": "markdown",
   "id": "bd4db189-a655-43dd-b93a-2d449e6a6354",
   "metadata": {},
   "source": [
    "## Hyperparameter Tuning"
   ]
  },
  {
   "cell_type": "code",
   "execution_count": null,
   "id": "dadbdc6d-d986-4870-a4e6-6467ac3aea23",
   "metadata": {},
   "outputs": [],
   "source": [
    "function create_hyperparams(hyp, λ)\n",
    "    hyp = @set hyp.learning_rate = 10^(λ[1] - 3)\n",
    "    hyp = @set hyp.l2penalty = 10^(λ[2] - 5)\n",
    "    hyp\n",
    "end;"
   ]
  },
  {
   "cell_type": "code",
   "execution_count": null,
   "id": "8aebe789-d898-4872-b5e2-376ea1074cc4",
   "metadata": {},
   "outputs": [],
   "source": [
    "function optimize_hyperparams(hyp; max_evals)\n",
    "    function nlopt_loss(λ, grad)\n",
    "        # nlopt internally converts to float64 because it calls a c library\n",
    "        λ = convert.(Float32, λ)\n",
    "        _, loss = train_model(create_hyperparams(hyp, λ))\n",
    "        @info \"$λ $loss\"\n",
    "        loss\n",
    "    end\n",
    "    opt = NLopt.Opt(:LN_NELDERMEAD, 2)\n",
    "    opt.initial_step = 1\n",
    "    opt.maxeval = max_evals\n",
    "    opt.min_objective = nlopt_loss\n",
    "    minf, λ, ret = NLopt.optimize(opt, zeros(Float32, 2))\n",
    "    numevals = opt.numevals\n",
    "\n",
    "    @info (\n",
    "        \"found minimum $minf at point $λ after $numevals function calls \" *\n",
    "        \"(ended because $ret) and saved model at\"\n",
    "    )\n",
    "    λ\n",
    "end;"
   ]
  },
  {
   "cell_type": "markdown",
   "id": "bd36b5c4-e382-4442-acb7-41e623521076",
   "metadata": {},
   "source": [
    "## Save Model"
   ]
  },
  {
   "cell_type": "code",
   "execution_count": null,
   "id": "fd45d6f1-f2a5-4ea9-830e-c93b4c6c3395",
   "metadata": {},
   "outputs": [],
   "source": [
    "function train_alpha(hyp, outdir; tune_hyperparams = true)\n",
    "    set_logging_outdir(outdir)\n",
    "\n",
    "    if tune_hyperparams\n",
    "        @info \"Optimizing hyperparameters...\"\n",
    "        λ = optimize_hyperparams(hyp; max_evals = 10)\n",
    "    else\n",
    "        λ = zeros(2)\n",
    "    end\n",
    "    hyp = create_hyperparams(hyp, λ)\n",
    "\n",
    "    @info \"Training model...\"\n",
    "    m, validation_loss =\n",
    "        train_model(hyp; max_checkpoints = 1000, epochs_per_checkpoint = 1, patience = 10)\n",
    "    @info \"Trained model loss: $validation_loss\"\n",
    "\n",
    "    @info \"Writing alpha...\"\n",
    "    write_params(Dict(\"m\" => m, \"λ\" => λ, \"hyp\" => hyp), outdir)\n",
    "    @info \"Wrote alpha!\"\n",
    "end;"
   ]
  },
  {
   "cell_type": "code",
   "execution_count": null,
   "id": "2b097d37-efdb-4f18-8ebe-bf2fa8d98bd2",
   "metadata": {
    "tags": []
   },
   "outputs": [],
   "source": [
    "restriced_alphas = [\n",
    "    \"Explicit\"\n",
    "    \"LinearImplicit\"\n",
    "    \"ErrorExplicit\"\n",
    "    \"ErrorImplicit\"\n",
    "    \"ExplicitUserItemBiases\"\n",
    "    \"NeuralImplicitUserItemBiases\"\n",
    "]\n",
    "ensemble_alphas = [\n",
    "    \"Explicit\"\n",
    "    \"LinearExplicit\"\n",
    "    \"LinearImplicit\"\n",
    "    \"ErrorExplicit\"\n",
    "    \"ErrorImplicit\"\n",
    "]\n",
    "all_alphas = [\n",
    "    ensemble_alphas\n",
    "    explicit_raw_alphas\n",
    "    implicit_raw_alphas\n",
    "];"
   ]
  },
  {
   "cell_type": "code",
   "execution_count": null,
   "id": "fcc5b860-1a37-4eff-9801-b4760f74b85c",
   "metadata": {
    "tags": []
   },
   "outputs": [],
   "source": [
    "train_alpha(\n",
    "    Hyperparams(\n",
    "        batch_size = 1024,\n",
    "        features = restriced_alphas,\n",
    "        l2penalty = NaN,\n",
    "        learning_rate = NaN,\n",
    "        seed = 20220609,\n",
    "    ),\n",
    "    \"BPR\";\n",
    "    tune_hyperparams = true,\n",
    ")"
   ]
  },
  {
   "cell_type": "code",
   "execution_count": null,
   "id": "01df4af6-94fc-49b8-aefb-38286e338821",
   "metadata": {},
   "outputs": [],
   "source": [
    "# 0.11787982555109795"
   ]
  }
 ],
 "metadata": {
  "kernelspec": {
   "display_name": "Julia 1.8.0-rc1",
   "language": "julia",
   "name": "julia-1.8"
  },
  "language_info": {
   "file_extension": ".jl",
   "mimetype": "application/julia",
   "name": "julia",
   "version": "1.8.0"
  }
 },
 "nbformat": 4,
 "nbformat_minor": 5
}
