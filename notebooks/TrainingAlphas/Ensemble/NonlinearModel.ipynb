{
 "cells": [
  {
   "cell_type": "markdown",
   "id": "2df5351f-2171-4365-b750-8984d42c5fe5",
   "metadata": {},
   "source": [
    "# NonlinearModel\n",
    "* Uses LightGBM to estimate a given (user, item) prediction"
   ]
  },
  {
   "cell_type": "code",
   "execution_count": null,
   "id": "69b5a19a-24f5-4730-afe2-f451d27d18e3",
   "metadata": {},
   "outputs": [],
   "source": [
    "import NBInclude: @nbinclude\n",
    "@nbinclude(\"TreeModelBase.ipynb\")"
   ]
  },
  {
   "cell_type": "code",
   "execution_count": null,
   "id": "bdba16d7-658e-488e-b076-ef3700d5e9b7",
   "metadata": {
    "tags": []
   },
   "outputs": [],
   "source": [
    "train_model(\n",
    "    [\n",
    "        explicit_raw_alphas\n",
    "        implicit_raw_alphas\n",
    "        nondirectional_raw_alphas\n",
    "        [\"LinearExplicit\", \"LinearImplicit\"]\n",
    "    ],\n",
    "    String[],\n",
    "    [\"implicit\", \"negative\"],\n",
    "    true,\n",
    "    \"validation\",\n",
    "    false,\n",
    "    \"NonlinearImplicit\";\n",
    "    λ = nothing,\n",
    ");"
   ]
  },
  {
   "cell_type": "code",
   "execution_count": null,
   "id": "36e4e38f-c51c-49b1-9c18-029b74d2752b",
   "metadata": {},
   "outputs": [],
   "source": [
    "train_model(\n",
    "    [\n",
    "        explicit_raw_alphas\n",
    "        implicit_raw_alphas\n",
    "        ptw_raw_alphas\n",
    "        nondirectional_raw_alphas\n",
    "        [\"LinearExplicit\", \"LinearImplicit\", \"LinearPtw\"]\n",
    "    ],\n",
    "    String[],\n",
    "    [\"ptw\", \"negative\"],\n",
    "    true,\n",
    "    \"validation\",\n",
    "    false,\n",
    "    \"NonlinearPtw\";\n",
    "    λ = nothing,\n",
    ");"
   ]
  },
  {
   "cell_type": "code",
   "execution_count": null,
   "id": "517ce91a-bf09-446a-8be9-a7c5bbe0c0f3",
   "metadata": {
    "tags": []
   },
   "outputs": [],
   "source": [
    "train_model(\n",
    "    [\n",
    "        explicit_raw_alphas\n",
    "        implicit_raw_alphas\n",
    "        nondirectional_raw_alphas\n",
    "        [\"LinearExplicit\", \"LinearImplicit\"]\n",
    "    ],\n",
    "    [\"LinearExplicit\"],\n",
    "    [\"explicit\"],\n",
    "    false,\n",
    "    \"validation\",\n",
    "    false,\n",
    "    \"NonlinearExplicit\";\n",
    "    λ = nothing,\n",
    ");"
   ]
  },
  {
   "cell_type": "code",
   "execution_count": null,
   "id": "4928ac14-f5c8-4119-9215-7e9f61e97cc9",
   "metadata": {},
   "outputs": [],
   "source": [
    "function save_final_explicit_model()\n",
    "    function model(split::String, content::String; raw_splits = true)\n",
    "        @info \"saving $split $content\"\n",
    "        split_fn = raw_splits ? get_raw_split : get_split\n",
    "        alpha_fn = raw_splits ? read_raw_alpha : read_alpha\n",
    "        if split == \"training\"\n",
    "            return zeros(Float32, length(split_fn(split, content).user))\n",
    "        end\n",
    "        linear_split = alpha_fn(\"LinearExplicit\", split, content).rating\n",
    "        nonlinear_split = alpha_fn(\"NonlinearExplicit\", split, content).rating\n",
    "        linear_split + nonlinear_split\n",
    "    end\n",
    "    write_params(Dict(\"alphas\" => [\"LinearExplicit\", \"NonlinearExplicit\"]), \"Explicit\")\n",
    "    write_alpha(\n",
    "        model,\n",
    "        \"Explicit\";\n",
    "        by_split = true,\n",
    "        log = true,\n",
    "        log_content = \"explicit\",\n",
    "        log_splits = [\"validation\", \"test\"],\n",
    "    )\n",
    "end;"
   ]
  },
  {
   "cell_type": "code",
   "execution_count": null,
   "id": "2ed398d5-ecd5-4707-829b-0a6e09c40ee6",
   "metadata": {
    "tags": []
   },
   "outputs": [],
   "source": [
    "save_final_explicit_model()"
   ]
  }
 ],
 "metadata": {
  "kernelspec": {
   "display_name": "Julia 1.8.0-rc1",
   "language": "julia",
   "name": "julia-1.8"
  },
  "language_info": {
   "file_extension": ".jl",
   "mimetype": "application/julia",
   "name": "julia",
   "version": "1.8.0"
  }
 },
 "nbformat": 4,
 "nbformat_minor": 5
}
