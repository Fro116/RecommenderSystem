{
 "cells": [
  {
   "cell_type": "markdown",
   "id": "2df5351f-2171-4365-b750-8984d42c5fe5",
   "metadata": {},
   "source": [
    "# NonlinearModel\n",
    "* Uses LightGBM to estimate a given (user, item) prediction"
   ]
  },
  {
   "cell_type": "code",
   "execution_count": null,
   "id": "69b5a19a-24f5-4730-afe2-f451d27d18e3",
   "metadata": {},
   "outputs": [],
   "source": [
    "import NBInclude: @nbinclude\n",
    "@nbinclude(\"TreeModelBase.ipynb\");"
   ]
  },
  {
   "cell_type": "code",
   "execution_count": null,
   "id": "617b0a49-44bb-4ee9-87ee-990ad7ec3561",
   "metadata": {},
   "outputs": [],
   "source": [
    "implicit = false;\n",
    "linear_alphas = [\"LinearExplicit\", \"LinearImplicit\"]\n",
    "all_features = [\n",
    "    explicit_raw_alphas \n",
    "    implicit_raw_alphas \n",
    "    nondirectional_raw_alphas    \n",
    "    linear_alphas\n",
    "];"
   ]
  },
  {
   "cell_type": "code",
   "execution_count": null,
   "id": "517ce91a-bf09-446a-8be9-a7c5bbe0c0f3",
   "metadata": {
    "tags": []
   },
   "outputs": [],
   "source": [
    "train_model(\n",
    "    all_features,\n",
    "    [\"LinearExplicit\"],\n",
    "    implicit,\n",
    "    [\"validation\"],\n",
    "    \"NonlinearExplicit\",\n",
    "    false,\n",
    ");"
   ]
  },
  {
   "cell_type": "code",
   "execution_count": null,
   "id": "4928ac14-f5c8-4119-9215-7e9f61e97cc9",
   "metadata": {},
   "outputs": [],
   "source": [
    "function save_final_explicit_model()\n",
    "    linear_splits = reduce(\n",
    "        cat,\n",
    "        [read_alpha(\"LinearExplicit\", split, implicit) for split in all_raw_splits],\n",
    "    )\n",
    "    nonlinear_splits = reduce(\n",
    "        cat,\n",
    "        [read_alpha(\"NonlinearExplicit\", split, implicit) for split in all_raw_splits],\n",
    "    )\n",
    "    sparse_preds = sparse(\n",
    "        linear_splits.user,\n",
    "        linear_splits.item,\n",
    "        linear_splits.rating + nonlinear_splits.rating,\n",
    "    )\n",
    "    write_alpha(sparse_preds, [], implicit, \"Explicit\"; log_test_split = true)\n",
    "    write_params(Dict(\"alphas\" => [\"LinearExplicit\", \"NonlinearExplicit\"]), \"Explicit\")\n",
    "end;"
   ]
  },
  {
   "cell_type": "code",
   "execution_count": null,
   "id": "2ed398d5-ecd5-4707-829b-0a6e09c40ee6",
   "metadata": {
    "tags": []
   },
   "outputs": [],
   "source": [
    "save_final_explicit_model()"
   ]
  }
 ],
 "metadata": {
  "kernelspec": {
   "display_name": "Julia 1.8.0-rc1",
   "language": "julia",
   "name": "julia-1.8"
  },
  "language_info": {
   "file_extension": ".jl",
   "mimetype": "application/julia",
   "name": "julia",
   "version": "1.8.0"
  }
 },
 "nbformat": 4,
 "nbformat_minor": 5
}
