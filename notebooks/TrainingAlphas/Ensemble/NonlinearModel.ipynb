{
 "cells": [
  {
   "cell_type": "markdown",
   "id": "2df5351f-2171-4365-b750-8984d42c5fe5",
   "metadata": {},
   "source": [
    "# NonlinearModel\n",
    "* Uses LightGBM to estimate a given (user, item) prediction"
   ]
  },
  {
   "cell_type": "code",
   "execution_count": null,
   "id": "994e0f03-72ae-4143-b5a6-a6df99dbbfa4",
   "metadata": {
    "tags": [
     "parameters"
    ]
   },
   "outputs": [],
   "source": [
    "task = \"\""
   ]
  },
  {
   "cell_type": "code",
   "execution_count": null,
   "id": "69b5a19a-24f5-4730-afe2-f451d27d18e3",
   "metadata": {},
   "outputs": [],
   "source": [
    "import NBInclude: @nbinclude\n",
    "@nbinclude(\"TreeModelBase.ipynb\")"
   ]
  },
  {
   "cell_type": "code",
   "execution_count": null,
   "id": "517ce91a-bf09-446a-8be9-a7c5bbe0c0f3",
   "metadata": {
    "tags": []
   },
   "outputs": [],
   "source": [
    "train_model(\n",
    "    [\n",
    "        explicit_raw_alphas(task)\n",
    "        implicit_raw_alphas(task)\n",
    "        nondirectional_raw_alphas\n",
    "        [\"$task/LinearExplicit\", \"$task/LinearImplicit\"]\n",
    "    ],\n",
    "    [\"$task/LinearExplicit\"],\n",
    "    task,\n",
    "    [\"explicit\"],\n",
    "    false,\n",
    "    \"validation\",\n",
    "    false,\n",
    "    \"$task/NonlinearExplicit\";\n",
    "    λ = nothing,\n",
    ");"
   ]
  },
  {
   "cell_type": "code",
   "execution_count": null,
   "id": "bdba16d7-658e-488e-b076-ef3700d5e9b7",
   "metadata": {
    "tags": []
   },
   "outputs": [],
   "source": [
    "train_model(\n",
    "    [\n",
    "        explicit_raw_alphas(task)\n",
    "        implicit_raw_alphas(task)\n",
    "        nondirectional_raw_alphas\n",
    "        [\"$task/LinearExplicit\", \"$task/LinearImplicit\"]\n",
    "    ],\n",
    "    String[],\n",
    "    task,\n",
    "    [\"implicit\", \"negative\"],\n",
    "    true,\n",
    "    \"validation\",\n",
    "    false,\n",
    "    \"$task/NonlinearImplicit\";\n",
    "    λ = nothing,\n",
    ");"
   ]
  },
  {
   "cell_type": "code",
   "execution_count": null,
   "id": "36e4e38f-c51c-49b1-9c18-029b74d2752b",
   "metadata": {},
   "outputs": [],
   "source": [
    "# train_model(\n",
    "#     [\n",
    "#         explicit_raw_alphas\n",
    "#         implicit_raw_alphas\n",
    "#         ptw_raw_alphas\n",
    "#         nondirectional_raw_alphas\n",
    "#         [\"$task/LinearExplicit\", \"$task/LinearImplicit\", \"$task/LinearPtw\"]\n",
    "#     ],\n",
    "#     String[],\n",
    "#     [\"ptw\", \"negative\"],\n",
    "#     true,\n",
    "#     \"validation\",\n",
    "#     false,\n",
    "#     \"NonlinearPtw\";\n",
    "#     λ = nothing,\n",
    "# );"
   ]
  },
  {
   "cell_type": "code",
   "execution_count": null,
   "id": "4928ac14-f5c8-4119-9215-7e9f61e97cc9",
   "metadata": {},
   "outputs": [],
   "source": [
    "function save_final_explicit_model()\n",
    "    function model(split::String, task::String, content::String; raw_splits = true)\n",
    "        split_fn = raw_splits ? get_raw_split : get_split\n",
    "        alpha_fn = raw_splits ? read_raw_alpha : read_alpha\n",
    "        if split == \"training\"\n",
    "            return zeros(Float32, length(split_fn(split, task, content).user))\n",
    "        end\n",
    "        linear_split = alpha_fn(\"$task/LinearExplicit\", split, task, content).rating\n",
    "        nonlinear_split = alpha_fn(\"$task/NonlinearExplicit\", split, task, content).rating\n",
    "        linear_split + nonlinear_split\n",
    "    end\n",
    "    write_params(\n",
    "        Dict(\"alphas\" => [\"$task/LinearExplicit\", \"$task/NonlinearExplicit\"]),\n",
    "        \"$task/Explicit\",\n",
    "    )\n",
    "    write_alpha(\n",
    "        model,\n",
    "        \"$task/Explicit\";\n",
    "        task = task,\n",
    "        by_split = true,\n",
    "        log = true,\n",
    "        log_alphas = String[],\n",
    "        log_task = task,\n",
    "        log_content = \"explicit\",\n",
    "        log_splits = [\"validation\", \"test\"],\n",
    "    )\n",
    "end;"
   ]
  },
  {
   "cell_type": "code",
   "execution_count": null,
   "id": "2ed398d5-ecd5-4707-829b-0a6e09c40ee6",
   "metadata": {
    "tags": []
   },
   "outputs": [],
   "source": [
    "save_final_explicit_model()"
   ]
  }
 ],
 "metadata": {
  "kernelspec": {
   "display_name": "Julia 1.8.3",
   "language": "julia",
   "name": "julia-1.8"
  },
  "language_info": {
   "file_extension": ".jl",
   "mimetype": "application/julia",
   "name": "julia",
   "version": "1.8.3"
  }
 },
 "nbformat": 4,
 "nbformat_minor": 5
}
