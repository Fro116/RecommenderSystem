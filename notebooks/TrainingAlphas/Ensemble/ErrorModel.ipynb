{
 "cells": [
  {
   "cell_type": "markdown",
   "id": "2df5351f-2171-4365-b750-8984d42c5fe5",
   "metadata": {},
   "source": [
    "# ErrorModel\n",
    "* Uses LightGBM to estimate the error for a given (user, item) prediction"
   ]
  },
  {
   "cell_type": "code",
   "execution_count": null,
   "id": "69b5a19a-24f5-4730-afe2-f451d27d18e3",
   "metadata": {},
   "outputs": [
    {
     "name": "stderr",
     "output_type": "stream",
     "text": [
      "┌ Info: lib_lightgbm not found in system dirs, trying fallback\n",
      "└ @ LightGBM /home/kundan/.julia/packages/LightGBM/A7zVd/src/LightGBM.jl:25\n"
     ]
    }
   ],
   "source": [
    "import NBInclude: @nbinclude\n",
    "@nbinclude(\"TreeModelBase.ipynb\");"
   ]
  },
  {
   "cell_type": "code",
   "execution_count": null,
   "id": "edf2b7dc-6ec0-44f9-9f88-1df84ba11362",
   "metadata": {},
   "outputs": [],
   "source": [
    "linear_alphas = [\"LinearExplicit\", \"LinearImplicit\"]\n",
    "nonlinear_alphas = [\"NonlinearExplicit\"]\n",
    "ensemble_alphas = [\"Explicit\"]\n",
    "all_features = [\n",
    "    explicit_raw_alphas\n",
    "    implicit_raw_alphas\n",
    "    linear_alphas\n",
    "    nonlinear_alphas\n",
    "    ensemble_alphas\n",
    "];\n",
    "error_model = true;"
   ]
  },
  {
   "cell_type": "code",
   "execution_count": 3,
   "id": "517ce91a-bf09-446a-8be9-a7c5bbe0c0f3",
   "metadata": {
    "tags": []
   },
   "outputs": [
    {
     "name": "stdout",
     "output_type": "stream",
     "text": [
      "[LightGBM] [Warning] Auto-choosing row-wise multi-threading, the overhead of testing was 0.027244 seconds.\n",
      "You can set `force_row_wise=true` to remove the overhead.\n",
      "And if memory is not enough, you can set `force_col_wise=true`.\n",
      "[LightGBM] [Info] Total Bins 2295\n",
      "[LightGBM] [Info] Number of data points in the train set: 15178788, number of used features: 9\n",
      "[LightGBM] [Info] Start training from score 0.921146\n",
      "Iteration: 1, test_1's l2: 0.712872013673704\n",
      "Iteration: 2, test_1's l2: 0.7069773645402121\n",
      "Iteration: 3, test_1's l2: 0.7018575891667208\n",
      "Iteration: 4, test_1's l2: 0.6976038614709692\n",
      "Iteration: 5, test_1's l2: 0.6941524217472762\n",
      "Iteration: 6, test_1's l2: 0.6912790450654025\n",
      "Iteration: 7, test_1's l2: 0.6891866756640612\n",
      "Iteration: 8, test_1's l2: 0.6873348868745127\n",
      "Iteration: 9, test_1's l2: 0.6857364614930127\n",
      "Iteration: 10, test_1's l2: 0.6844508276859521\n",
      "Iteration: 11, test_1's l2: 0.6834094043870202\n",
      "Iteration: 12, test_1's l2: 0.6825003638713599\n",
      "Iteration: 13, test_1's l2: 0.6818579521735031\n",
      "Iteration: 14, test_1's l2: 0.6812776993170278\n",
      "Iteration: 15, test_1's l2: 0.6807087183821802\n",
      "Iteration: 16, test_1's l2: 0.6803526155417753\n",
      "Iteration: 17, test_1's l2: 0.6800268424759742\n",
      "Iteration: 18, test_1's l2: 0.6797828159028251\n",
      "Iteration: 19, test_1's l2: 0.6795376006059695\n",
      "Iteration: 20, test_1's l2: 0.6793285936589876\n",
      "Iteration: 21, test_1's l2: 0.6791890414681813\n",
      "Iteration: 22, test_1's l2: 0.6790762240833639\n",
      "Iteration: 23, test_1's l2: 0.6789259029797293\n",
      "Iteration: 24, test_1's l2: 0.6788092756102786\n",
      "Iteration: 25, test_1's l2: 0.6787313146614787\n",
      "Iteration: 26, test_1's l2: 0.678653104073459\n",
      "Iteration: 27, test_1's l2: 0.6786285498879993\n",
      "Iteration: 28, test_1's l2: 0.6785616960111562\n",
      "Iteration: 29, test_1's l2: 0.6785403393468785\n",
      "Iteration: 30, test_1's l2: 0.6785440366356916\n",
      "Iteration: 31, test_1's l2: 0.6785431966805548\n",
      "Iteration: 32, test_1's l2: 0.6784651018098482\n",
      "Iteration: 33, test_1's l2: 0.6784360361855034\n",
      "Iteration: 34, test_1's l2: 0.6784003471605669\n",
      "Iteration: 35, test_1's l2: 0.6783248817160225\n",
      "Iteration: 36, test_1's l2: 0.6783220532375596\n",
      "Iteration: 37, test_1's l2: 0.6782854708672523\n",
      "Iteration: 38, test_1's l2: 0.6782566084141854\n",
      "Iteration: 39, test_1's l2: 0.6782459065126677\n",
      "Iteration: 40, test_1's l2: 0.6782610757025915\n",
      "Iteration: 41, test_1's l2: 0.6782881595481451\n",
      "Iteration: 42, test_1's l2: 0.6783012558505666\n",
      "Iteration: 43, test_1's l2: 0.6782696504155891\n",
      "Iteration: 44, test_1's l2: 0.6781925773712186\n",
      "Iteration: 45, test_1's l2: 0.6781853226878747\n",
      "Iteration: 46, test_1's l2: 0.6781889026428101\n",
      "Iteration: 47, test_1's l2: 0.6781534600408067\n",
      "Iteration: 48, test_1's l2: 0.678110704488017\n",
      "Iteration: 49, test_1's l2: 0.6780755426695627\n",
      "Iteration: 50, test_1's l2: 0.6781025237940568\n",
      "Iteration: 51, test_1's l2: 0.678097507510995\n",
      "Iteration: 52, test_1's l2: 0.6781314426937324\n",
      "Iteration: 53, test_1's l2: 0.6781247880578604\n",
      "Iteration: 54, test_1's l2: 0.6781362311020103\n",
      "Iteration: 55, test_1's l2: 0.6781545987658665\n",
      "Iteration: 56, test_1's l2: 0.6781703730610771\n",
      "Iteration: 57, test_1's l2: 0.6781958497779429\n",
      "Iteration: 58, test_1's l2: 0.6781967585601358\n",
      "Early stopping at iteration 59, the best iteration round is 49\n"
     ]
    },
    {
     "name": "stderr",
     "output_type": "stream",
     "text": [
      "\u001b[38;5;6m\u001b[1m[ \u001b[22m\u001b[39m\u001b[38;5;6m\u001b[1mInfo: \u001b[22m\u001b[39m20220618 14:47:00 Saving model... (this may take a while)\n",
      "\u001b[32mProgress: 100%|███████████████████████████| Time: 0:00:06 ( 1.18 μs/it)\u001b[39m\n",
      "\u001b[32mProgress: 100%|███████████████████████████| Time: 0:00:00 ( 1.26 μs/it)\u001b[39m\n",
      "\u001b[32mProgress: 100%|███████████████████████████| Time: 0:00:00 ( 1.20 μs/it)\u001b[39m\n",
      "\u001b[32mProgress: 100%|███████████████████████████| Time: 0:00:02 ( 1.15 μs/it)\u001b[39m\n",
      "\u001b[32mProgress: 100%|███████████████████████████| Time: 0:00:00 ( 1.21 μs/it)\u001b[39m\n",
      "\u001b[32mProgress: 100%|███████████████████████████| Time: 0:00:00 ( 1.20 μs/it)\u001b[39m\n",
      "\u001b[32mProgress: 100%|███████████████████████████| Time: 0:00:00 ( 0.79 μs/it)\u001b[39m\n"
     ]
    }
   ],
   "source": [
    "train_model(all_features, [\"Explicit\"], false, \"test\", \"ErrorExplicit\", true);"
   ]
  },
  {
   "cell_type": "code",
   "execution_count": 4,
   "id": "765ef7e7-abf6-432e-b55d-2eea75753f32",
   "metadata": {
    "tags": []
   },
   "outputs": [
    {
     "name": "stdout",
     "output_type": "stream",
     "text": [
      "Iter     Function value   Gradient norm \n",
      "     0     7.054874e+00     4.177893e-01\n",
      " * time: 0.00849008560180664\n",
      "     1     6.653718e+00     1.651465e-01\n",
      " * time: 1.0392770767211914\n",
      "     2     6.519841e+00     4.566379e-02\n",
      " * time: 1.5859339237213135\n",
      "     3     6.485130e+00     1.108082e-02\n",
      " * time: 2.1338820457458496\n",
      "     4     6.476834e+00     2.615900e-03\n",
      " * time: 2.6837639808654785\n",
      "     5     6.474874e+00     6.209740e-04\n",
      " * time: 3.2383759021759033\n",
      "     6     6.474406e+00     1.490833e-04\n",
      " * time: 3.7857449054718018\n",
      "     7     6.474294e+00     3.606670e-05\n",
      " * time: 4.3467559814453125\n",
      "     8     6.474271e+00     1.327657e-05\n",
      " * time: 4.916611909866333\n",
      "     9     6.474263e+00     4.890929e-06\n",
      " * time: 5.487565040588379\n",
      "    10     6.474260e+00     1.802306e-06\n",
      " * time: 6.0480921268463135\n",
      "    11     6.474258e+00     6.642248e-07\n",
      " * time: 6.607540130615234\n",
      "[LightGBM] [Warning] Auto-choosing row-wise multi-threading, the overhead of testing was 0.037828 seconds.\n",
      "You can set `force_row_wise=true` to remove the overhead.\n",
      "And if memory is not enough, you can set `force_col_wise=true`.\n",
      "[LightGBM] [Info] Total Bins 2295\n",
      "[LightGBM] [Info] Number of data points in the train set: 20713947, number of used features: 9\n",
      "[LightGBM] [Info] Start training from score 0.051714\n",
      "Iteration: 1, test_1's l2: 0.0064873548329835015\n",
      "Iteration: 2, test_1's l2: 0.0062886760991833195\n",
      "Iteration: 3, test_1's l2: 0.006122379107806185\n",
      "Iteration: 4, test_1's l2: 0.005987070633451783\n",
      "Iteration: 5, test_1's l2: 0.005876742731395239\n",
      "Iteration: 6, test_1's l2: 0.005786952563877622\n",
      "Iteration: 7, test_1's l2: 0.00571677149538024\n",
      "Iteration: 8, test_1's l2: 0.00565796677119688\n",
      "Iteration: 9, test_1's l2: 0.0056088932419249005\n",
      "Iteration: 10, test_1's l2: 0.005569321330374597\n",
      "Iteration: 11, test_1's l2: 0.005537258899290785\n",
      "Iteration: 12, test_1's l2: 0.005510698995717898\n",
      "Iteration: 13, test_1's l2: 0.00549078484853972\n",
      "Iteration: 14, test_1's l2: 0.005473220226864985\n",
      "Iteration: 15, test_1's l2: 0.005458453859720096\n",
      "Iteration: 16, test_1's l2: 0.005446663484616335\n",
      "Iteration: 17, test_1's l2: 0.005437261539725351\n",
      "Iteration: 18, test_1's l2: 0.005429429092041814\n",
      "Iteration: 19, test_1's l2: 0.005422617592029714\n",
      "Iteration: 20, test_1's l2: 0.005417175770289855\n",
      "Iteration: 21, test_1's l2: 0.005412742264570734\n",
      "Iteration: 22, test_1's l2: 0.0054090015295486195\n",
      "Iteration: 23, test_1's l2: 0.005405807273206994\n",
      "Iteration: 24, test_1's l2: 0.005402965693036398\n",
      "Iteration: 25, test_1's l2: 0.005401277681823539\n",
      "Iteration: 26, test_1's l2: 0.005398949452669002\n",
      "Iteration: 27, test_1's l2: 0.0053974286623100325\n",
      "Iteration: 28, test_1's l2: 0.005396119934556986\n",
      "Iteration: 29, test_1's l2: 0.005395497104563339\n",
      "Iteration: 30, test_1's l2: 0.005394524045345702\n",
      "Iteration: 31, test_1's l2: 0.005394197347524918\n",
      "Iteration: 32, test_1's l2: 0.00539333542135687\n",
      "Iteration: 33, test_1's l2: 0.005392438876875264\n",
      "Iteration: 34, test_1's l2: 0.0053918615102423436\n",
      "Iteration: 35, test_1's l2: 0.005391305820617838\n",
      "Iteration: 36, test_1's l2: 0.0053909432984142885\n",
      "Iteration: 37, test_1's l2: 0.005390152781046166\n",
      "Iteration: 38, test_1's l2: 0.005389912970733429\n",
      "Iteration: 39, test_1's l2: 0.0053893611348336205\n",
      "Iteration: 40, test_1's l2: 0.005389427976654472\n",
      "Iteration: 41, test_1's l2: 0.005389573699947945\n",
      "Iteration: 42, test_1's l2: 0.0053887012881032505\n",
      "Iteration: 43, test_1's l2: 0.00538819430215437\n",
      "Iteration: 44, test_1's l2: 0.005387494920415675\n",
      "Iteration: 45, test_1's l2: 0.005387683325343642\n",
      "Iteration: 46, test_1's l2: 0.005387294685492011\n",
      "Iteration: 47, test_1's l2: 0.0053871246565597285\n",
      "Iteration: 48, test_1's l2: 0.005387081854078822\n",
      "Iteration: 49, test_1's l2: 0.00538649049718526\n",
      "Iteration: 50, test_1's l2: 0.005386701070254803\n",
      "Iteration: 51, test_1's l2: 0.00538636441213657\n",
      "Iteration: 52, test_1's l2: 0.005386516528551447\n",
      "Iteration: 53, test_1's l2: 0.005386210757490434\n",
      "Iteration: 54, test_1's l2: 0.005386406576879274\n",
      "Iteration: 55, test_1's l2: 0.005386419218406382\n",
      "Iteration: 56, test_1's l2: 0.005386658535873286\n",
      "Iteration: 57, test_1's l2: 0.005386723121256318\n",
      "Iteration: 58, test_1's l2: 0.0053864950022674595\n",
      "Iteration: 59, test_1's l2: 0.0053866331283042666\n",
      "Iteration: 60, test_1's l2: 0.005386381076809177\n",
      "Iteration: 61, test_1's l2: 0.00538577531931681\n",
      "Iteration: 62, test_1's l2: 0.0053856495974276735\n",
      "Iteration: 63, test_1's l2: 0.005385843154945963\n",
      "Iteration: 64, test_1's l2: 0.005386038257506482\n",
      "Iteration: 65, test_1's l2: 0.005385919185432944\n",
      "Iteration: 66, test_1's l2: 0.0053856524675759436\n",
      "Iteration: 67, test_1's l2: 0.00538551092293467\n",
      "Iteration: 68, test_1's l2: 0.005385555614907003\n",
      "Iteration: 69, test_1's l2: 0.005385659919751533\n",
      "Iteration: 70, test_1's l2: 0.005385678720169083\n",
      "Iteration: 71, test_1's l2: 0.005385692629997482\n",
      "Iteration: 72, test_1's l2: 0.0053857047542540835\n",
      "Iteration: 73, test_1's l2: 0.005385771510392376\n",
      "Iteration: 74, test_1's l2: 0.005385677882031724\n",
      "Iteration: 75, test_1's l2: 0.005385676653346928\n",
      "Iteration: 76, test_1's l2: 0.005385755915570585\n",
      "Early stopping at iteration 77, the best iteration round is 67\n"
     ]
    },
    {
     "name": "stderr",
     "output_type": "stream",
     "text": [
      "\u001b[38;5;6m\u001b[1m[ \u001b[22m\u001b[39m\u001b[38;5;6m\u001b[1mInfo: \u001b[22m\u001b[39m20220618 14:50:04 Saving model... (this may take a while)\n",
      "\u001b[32mProgress: 100%|███████████████████████████| Time: 0:00:06 ( 1.16 μs/it)\u001b[39m\n",
      "\u001b[32mProgress: 100%|███████████████████████████| Time: 0:00:00 ( 1.19 μs/it)\u001b[39m\n",
      "\u001b[32mProgress: 100%|███████████████████████████| Time: 0:00:00 ( 1.17 μs/it)\u001b[39m\n",
      "\u001b[32mProgress: 100%|███████████████████████████| Time: 0:00:02 ( 1.17 μs/it)\u001b[39m\n",
      "\u001b[32mProgress: 100%|███████████████████████████| Time: 0:00:00 ( 1.24 μs/it)\u001b[39m\n",
      "\u001b[32mProgress: 100%|███████████████████████████| Time: 0:00:00 ( 1.21 μs/it)\u001b[39m\n",
      "\u001b[32mProgress: 100%|███████████████████████████| Time: 0:00:00 ( 0.79 μs/it)\u001b[39m\n"
     ]
    }
   ],
   "source": [
    "train_model(all_features, [\"LinearImplicit\"], true, \"test\", \"ErrorImplicit\", true);"
   ]
  }
 ],
 "metadata": {
  "kernelspec": {
   "display_name": "Julia 1.8.0-rc1",
   "language": "julia",
   "name": "julia-1.8"
  },
  "language_info": {
   "file_extension": ".jl",
   "mimetype": "application/julia",
   "name": "julia",
   "version": "1.8.0"
  }
 },
 "nbformat": 4,
 "nbformat_minor": 5
}
