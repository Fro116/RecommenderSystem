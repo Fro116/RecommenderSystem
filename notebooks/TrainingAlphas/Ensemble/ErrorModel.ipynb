{
 "cells": [
  {
   "cell_type": "markdown",
   "id": "2df5351f-2171-4365-b750-8984d42c5fe5",
   "metadata": {},
   "source": [
    "# ErrorModel\n",
    "* Uses LightGBM to estimate the error for a given (user, item) prediction"
   ]
  },
  {
   "cell_type": "code",
   "execution_count": null,
   "id": "69b5a19a-24f5-4730-afe2-f451d27d18e3",
   "metadata": {},
   "outputs": [],
   "source": [
    "import NBInclude: @nbinclude\n",
    "@nbinclude(\"TreeModelBase.ipynb\");"
   ]
  },
  {
   "cell_type": "code",
   "execution_count": null,
   "id": "edf2b7dc-6ec0-44f9-9f88-1df84ba11362",
   "metadata": {},
   "outputs": [],
   "source": [
    "linear_alphas = [\"LinearExplicit\", \"LinearImplicit\"]\n",
    "nonlinear_alphas = [\"NonlinearExplicit\"]\n",
    "ensemble_alphas = [\"Explicit\"]\n",
    "all_features = [\n",
    "    explicit_raw_alphas\n",
    "    implicit_raw_alphas\n",
    "    nondirectional_raw_alphas    \n",
    "    linear_alphas\n",
    "    nonlinear_alphas\n",
    "    ensemble_alphas\n",
    "];\n",
    "error_model = true;"
   ]
  },
  {
   "cell_type": "code",
   "execution_count": null,
   "id": "517ce91a-bf09-446a-8be9-a7c5bbe0c0f3",
   "metadata": {
    "tags": []
   },
   "outputs": [],
   "source": [
    "train_model(all_features, [\"Explicit\"], false, [\"validation\"], \"ErrorExplicit\", true);"
   ]
  },
  {
   "cell_type": "code",
   "execution_count": null,
   "id": "765ef7e7-abf6-432e-b55d-2eea75753f32",
   "metadata": {
    "tags": []
   },
   "outputs": [],
   "source": [
    "train_model(\n",
    "    all_features,\n",
    "    [\"LinearImplicit\"],\n",
    "    true,\n",
    "    [\"validation\", \"negative_validation\"],\n",
    "    \"ErrorImplicit\",\n",
    "    true,\n",
    ");"
   ]
  }
 ],
 "metadata": {
  "kernelspec": {
   "display_name": "Julia 1.8.0-rc1",
   "language": "julia",
   "name": "julia-1.8"
  },
  "language_info": {
   "file_extension": ".jl",
   "mimetype": "application/julia",
   "name": "julia",
   "version": "1.8.0"
  }
 },
 "nbformat": 4,
 "nbformat_minor": 5
}
