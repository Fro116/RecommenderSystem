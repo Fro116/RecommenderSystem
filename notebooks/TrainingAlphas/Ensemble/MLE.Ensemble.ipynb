{
 "cells": [
  {
   "cell_type": "markdown",
   "id": "2df5351f-2171-4365-b750-8984d42c5fe5",
   "metadata": {},
   "source": [
    "# Ranking\n",
    "* Learns the preference relation implied by future watches\n",
    "* Uses a modified form of the position-aware list-mle loss"
   ]
  },
  {
   "cell_type": "code",
   "execution_count": null,
   "id": "5781704c-40c0-48ca-8563-6e6e2d7ae045",
   "metadata": {
    "tags": [
     "parameters"
    ]
   },
   "outputs": [],
   "source": [
    "medium = \"\""
   ]
  },
  {
   "cell_type": "code",
   "execution_count": null,
   "id": "675ef55d-77be-4ebd-b636-6e6a6b155f7c",
   "metadata": {},
   "outputs": [],
   "source": [
    "import NBInclude: @nbinclude\n",
    "@nbinclude(\"../Alpha.ipynb\")\n",
    "@nbinclude(\"Utility.ipynb\");"
   ]
  },
  {
   "cell_type": "code",
   "execution_count": null,
   "id": "3c255f75-fcf4-4d68-acfc-1790fefdb4c3",
   "metadata": {},
   "outputs": [],
   "source": [
    "import CUDA\n",
    "import Flux\n",
    "import MLUtils\n",
    "import Optimisers\n",
    "import Random\n",
    "import StatsBase"
   ]
  },
  {
   "cell_type": "markdown",
   "id": "983021fc-ca79-476d-ac40-08e7fa6daa31",
   "metadata": {},
   "source": [
    "# Data"
   ]
  },
  {
   "cell_type": "code",
   "execution_count": null,
   "id": "6fca9aca-ccb6-4a25-8dfc-c523dbf4ddfc",
   "metadata": {},
   "outputs": [],
   "source": [
    "function get_features(alphas::Vector{String}, split::String, medium::String)\n",
    "    @info \"getting $split $medium $alphas\"\n",
    "    N = length(get_raw_split(split, medium, [:userid], nothing).userid)\n",
    "    T = Float16\n",
    "    A = Matrix{T}(undef, N, length(alphas))\n",
    "    @assert length(alphas) == get_feature_size()\n",
    "    @showprogress for i = 1:length(alphas)\n",
    "        x = get_raw_split(split, medium, Symbol[], alphas[i]).alpha\n",
    "        # normalize and make monotonic\n",
    "        if alphas[i] == \"$medium/Linear/rating\"\n",
    "            x = clamp.(x / 10, 0, 1)\n",
    "        elseif alphas[i] in [\"$medium/Linear/watch\", \"$medium/Linear/plantowatch\"]\n",
    "            nothing\n",
    "        elseif alphas[i] == \"$medium/Linear/drop\"\n",
    "            x = 1 .- x\n",
    "        else\n",
    "            @assert false\n",
    "        end\n",
    "        @assert minimum(x) >= 0 && maximum(x) <= 1\n",
    "        A[:, i] = convert.(T, x)\n",
    "    end\n",
    "    collect(A')\n",
    "end\n",
    "\n",
    "function get_features(alphas::Vector{String}, medium::String)\n",
    "    reduce(hcat, [get_features(alphas, x, medium) for x in [\"test\", \"negative\"]])\n",
    "end\n",
    "\n",
    "function get_feature_size()\n",
    "    4\n",
    "end;"
   ]
  },
  {
   "cell_type": "code",
   "execution_count": null,
   "id": "41a5e627-f871-454b-9e7c-fcc77ae4c91e",
   "metadata": {},
   "outputs": [],
   "source": [
    "function get_priority_size()\n",
    "    3\n",
    "end\n",
    "\n",
    "function get_priorities(split::String, medium::String)\n",
    "    @info \"getting $split $medium priorities\"\n",
    "    if split == \"test\"\n",
    "        fields = [:userid, :itemid, :rating, :status]\n",
    "    elseif split == \"negative\"\n",
    "        fields = [:userid, :itemid]\n",
    "    else\n",
    "        @assert false\n",
    "    end\n",
    "    df = get_raw_split(split, medium, fields, nothing)\n",
    "    A = Matrix{Float16}(undef, get_priority_size(), length(df.userid))\n",
    "    @showprogress for i = 1:length(df.userid)\n",
    "        if split == \"test\"\n",
    "            p = Float16[1, NaN, df.status[i]]\n",
    "            if df.rating[i] != 0\n",
    "                p[2] = df.rating[i]\n",
    "            end\n",
    "        elseif split == \"negative\"\n",
    "            p = Float16[0, NaN, NaN]\n",
    "        else\n",
    "            @assert false\n",
    "        end\n",
    "        A[:, i] = p\n",
    "    end\n",
    "    A\n",
    "end\n",
    "\n",
    "function get_priorities(medium::String)\n",
    "    reduce(hcat, [get_priorities(x, medium) for x in [\"test\", \"negative\"]])\n",
    "end;"
   ]
  },
  {
   "cell_type": "code",
   "execution_count": null,
   "id": "d822e18a-19a0-4af9-b015-ccccd22a74dc",
   "metadata": {},
   "outputs": [],
   "source": [
    "function get_user_to_indexes(medium::String, splits::Vector{String})\n",
    "    u_to_xs = Dict{Int32,Vector{Int32}}()\n",
    "    index::Int32 = 1\n",
    "    for split in splits\n",
    "        df = get_raw_split(split, medium, [:userid], nothing)\n",
    "        @showprogress for u in df.userid\n",
    "            if u ∉ keys(u_to_xs)\n",
    "                u_to_xs[u] = Int32[]\n",
    "            end\n",
    "            push!(u_to_xs[u], index)\n",
    "            index += 1\n",
    "        end\n",
    "    end\n",
    "    u_to_xs\n",
    "end;"
   ]
  },
  {
   "cell_type": "code",
   "execution_count": null,
   "id": "d4f7e3e1-4486-47ff-8a45-bdc4108724bd",
   "metadata": {},
   "outputs": [],
   "source": [
    "@kwdef struct Features\n",
    "    features::Matrix{Float32}\n",
    "    priorities::Matrix{Float16}\n",
    "    user_to_indexes::Dict{Int32,Vector{Int32}}\n",
    "    user_to_watched_indexes::Dict{Int32,Vector{Int32}}\n",
    "    training_users::Vector{Int32}\n",
    "    test_users::Vector{Int32}\n",
    "end\n",
    "\n",
    "function load_features()\n",
    "    alphas = [\"$medium/Linear/$metric\" for metric in ALL_METRICS]\n",
    "    F = get_features(alphas, medium)\n",
    "    P = get_priorities(medium)\n",
    "    u_to_i = get_user_to_indexes(medium, [\"test\", \"negative\"])\n",
    "    u_to_w = get_user_to_indexes(medium, [\"test\"])\n",
    "\n",
    "    users = collect(keys(u_to_i))\n",
    "    test_users =\n",
    "        Set(StatsBase.sample(users, Int(round(length(users) * 0.1)); replace = false))\n",
    "    training_users = Set(x for x in users if x ∉ test_users)\n",
    "    Features(F, P, u_to_i, u_to_w, collect(training_users), collect(test_users))\n",
    "end;"
   ]
  },
  {
   "cell_type": "markdown",
   "id": "5385a013-5d92-4c50-85b0-6ebb0ee1356d",
   "metadata": {},
   "source": [
    "# Batching"
   ]
  },
  {
   "cell_type": "code",
   "execution_count": null,
   "id": "fd147033-e4e6-40e6-b684-c322905da5c1",
   "metadata": {},
   "outputs": [],
   "source": [
    "function subsample(f::Features, u::Int32, list_size::Int32)\n",
    "    l = f.user_to_indexes[u]\n",
    "    w = f.user_to_watched_indexes[u]\n",
    "    list = StatsBase.sample(l, min(length(l), list_size); replace = false)\n",
    "    # ensure at least one item is watched\n",
    "    if all(f.priorities[1, i] == 0 for i in list)\n",
    "        list[1] = rand(w)\n",
    "    end\n",
    "    # pad to list_size\n",
    "    while length(list) < list_size\n",
    "        push!(list, -1)\n",
    "    end\n",
    "    list\n",
    "end\n",
    "\n",
    "function get_feature(f::Features, i::Int32)\n",
    "    if i == -1\n",
    "        return zeros(Float32, size(f.features)[1])\n",
    "    else\n",
    "        return f.features[:, i]\n",
    "    end\n",
    "end\n",
    "\n",
    "function get_priority(f::Features, i::Int32)\n",
    "    if i == -1\n",
    "        return Float16[0, NaN, NaN]\n",
    "    else\n",
    "        return f.priorities[:, i]\n",
    "    end\n",
    "end\n",
    "\n",
    "function get_sample(f::Features, user::Int32, list_size::Int32)\n",
    "    list = subsample(f, user, list_size)\n",
    "    features = hcat((get_feature(f, q) for q in list)...)\n",
    "    prios = MLUtils.batch(get_priority(f, i) for i in list)\n",
    "    features, prios\n",
    "end\n",
    "\n",
    "function get_epoch(f::Features, training::Bool, list_size::Int32)\n",
    "    if training\n",
    "        users = f.training_users\n",
    "    else\n",
    "        users = f.test_users\n",
    "    end\n",
    "    users = Random.shuffle(users)\n",
    "    feats = Vector{Matrix{Float32}}(undef, length(users))\n",
    "    prios = Vector{Matrix{Float16}}(undef, length(users))\n",
    "    @showprogress for i = 1:length(users)\n",
    "        feat, prio = get_sample(f, users[i], list_size)\n",
    "        feats[i] = feat\n",
    "        prios[i] = prio\n",
    "    end\n",
    "    Q = MLUtils.batch(feats)\n",
    "    P = MLUtils.batch(prios)\n",
    "    Q, P\n",
    "end;"
   ]
  },
  {
   "cell_type": "markdown",
   "id": "61cf78bd-3779-43d5-9e0d-5854bb34a39e",
   "metadata": {},
   "source": [
    "# Model"
   ]
  },
  {
   "cell_type": "code",
   "execution_count": null,
   "id": "05ab3664-5a82-41ab-8d61-79f1693cf90f",
   "metadata": {},
   "outputs": [],
   "source": [
    "function build_model()\n",
    "    # we constrain the model to be monotonic\n",
    "    # TODO replace with monotonic networks paper\n",
    "    N = get_feature_size()\n",
    "    Join(sum, Split(Utility(N, \"log\"), Utility(N, \"linear\")))\n",
    "end;"
   ]
  },
  {
   "cell_type": "code",
   "execution_count": null,
   "id": "d147883f-dc37-44f4-92a3-5205c02b64d3",
   "metadata": {},
   "outputs": [],
   "source": [
    "device = Flux.gpu;\n",
    "cpu = Flux.cpu;"
   ]
  },
  {
   "cell_type": "markdown",
   "id": "a295f666-24ea-4906-b4f0-0b534e10c89d",
   "metadata": {},
   "source": [
    "# Training"
   ]
  },
  {
   "cell_type": "code",
   "execution_count": null,
   "id": "a1cf8531-9330-40df-b722-9750f322412e",
   "metadata": {},
   "outputs": [],
   "source": [
    "function get_partial_ordering(P, i, interaction_weights)\n",
    "    # returns the weighted adjacency matrix of the partial ordering graph\n",
    "    # note that diagonal entries are zero\n",
    "    a = (P[1, :, i] .> P[1, :, i]') .* interaction_weights[1]\n",
    "    for j = 2:size(P)[1]\n",
    "        b = (a .== 0) .&& (a' .== 0) .&& (P[j, :, i] .> P[j, :, i]')\n",
    "        a = a + b .* interaction_weights[j]\n",
    "    end\n",
    "    a\n",
    "end\n",
    "\n",
    "function get_position_weights(P, z)\n",
    "    P = convert.(Float32, (P .> 0))\n",
    "    w = P * z\n",
    "    total = z' * w\n",
    "    total == 0 ? w : w ./ total\n",
    "end\n",
    "\n",
    "function position_aware_list_mle_loss(m, x, priorities, interaction_weights)\n",
    "    # position aware list mle loss with a modifications to handle non-comparable items and \n",
    "    # varying comparison strengths. See [Position-Aware ListMLE: A Sequential Learning Process \n",
    "    # for Ranking](https://auai.org/uai2014/proceedings/individuals/164.pdf)\n",
    "    p = Flux.flatten(m(x))\n",
    "    p = p .- maximum(p; dims = 1)\n",
    "    q = exp.(p)\n",
    "    ϵ = Float32(eps(Float64))\n",
    "    N, batch_size = size(p)\n",
    "    z = ones(Float32, N) |> device\n",
    "\n",
    "    total = 0.0f0\n",
    "    for i = 1:batch_size\n",
    "        P = get_partial_ordering(priorities, i, interaction_weights)\n",
    "        w = get_position_weights(P, z)\n",
    "        unweighted_loss = -p[:, i] + log.(P * q[:, i] + q[:, i] .+ ϵ)\n",
    "        total += sum(w .* unweighted_loss)\n",
    "    end\n",
    "    total / batch_size\n",
    "end;"
   ]
  },
  {
   "cell_type": "code",
   "execution_count": null,
   "id": "586a9cf9-445d-4bb2-9a9c-a015cb30f481",
   "metadata": {},
   "outputs": [],
   "source": [
    "function evalute_metrics(m, epoch, batch_size::Int32, interaction_weights::Vector{Float32})\n",
    "    N = size(epoch[1])[2]\n",
    "    loss = 0.0\n",
    "    iters = 0\n",
    "    @showprogress for idx in Iterators.partition(1:N, batch_size)\n",
    "        df = epoch[1][:, :, idx] |> device\n",
    "        dp = epoch[2][:, :, idx] |> device\n",
    "        loss += position_aware_list_mle_loss(m, df, dp, interaction_weights)\n",
    "        iters += 1\n",
    "    end\n",
    "    loss / iters\n",
    "end;"
   ]
  },
  {
   "cell_type": "code",
   "execution_count": null,
   "id": "2b7e5fe7-a7de-4310-b814-0b6f2363f9f1",
   "metadata": {},
   "outputs": [],
   "source": [
    "function train_epoch!(\n",
    "    m,\n",
    "    opt,\n",
    "    epoch,\n",
    "    batch_size::Int32,\n",
    "    interaction_weights::Vector{Float32},\n",
    ")\n",
    "    N = size(epoch[1])[2]\n",
    "    loss = 0.0\n",
    "    iters = 0\n",
    "    indexes = Random.shuffle(collect(1:N))\n",
    "    @showprogress for idx in Iterators.partition(indexes, batch_size)\n",
    "        df = epoch[1][:, :, idx] |> device\n",
    "        dp = epoch[2][:, :, idx] |> device\n",
    "        tloss, grads = Flux.withgradient(m) do model\n",
    "            position_aware_list_mle_loss(model, df, dp, interaction_weights)\n",
    "        end\n",
    "        Flux.update!(opt, m, grads[1])\n",
    "        loss += tloss\n",
    "        iters += 1\n",
    "    end\n",
    "    loss / iters\n",
    "end;"
   ]
  },
  {
   "cell_type": "code",
   "execution_count": null,
   "id": "2909fe4d-c0a1-4326-8f20-8d69c97349ff",
   "metadata": {},
   "outputs": [],
   "source": [
    "function train_model(\n",
    "    f::Features,\n",
    "    learning_rate::Float32,\n",
    "    weight_decay::Float32,\n",
    "    batch_size::Int32,\n",
    "    interaction_weights::Vector{Float32},\n",
    "    list_size::Int32,\n",
    ")\n",
    "    m = build_model() |> device\n",
    "    opt = Optimisers.setup(\n",
    "        Optimisers.OptimiserChain(\n",
    "            Optimisers.Adam(learning_rate, (0.9f0, 0.999f0)),\n",
    "            Optimisers.WeightDecay(learning_rate * weight_decay),\n",
    "        ),\n",
    "        m,\n",
    "    )\n",
    "    training = get_epoch(f, true, list_size)\n",
    "    test = get_epoch(f, false, list_size)\n",
    "    best_loss = Inf\n",
    "    best_model = m |> cpu\n",
    "    patience = 0\n",
    "    for _ = 1:16\n",
    "        training_loss = train_epoch!(m, opt, training, batch_size, interaction_weights)\n",
    "        test_loss = evalute_metrics(m, test, batch_size, interaction_weights)\n",
    "        @info \"Losses: $training_loss $test_loss\"\n",
    "        if test_loss < best_loss\n",
    "            best_loss = test_loss\n",
    "            best_model = m |> cpu\n",
    "            patience = 0\n",
    "        else\n",
    "            patience += 1\n",
    "            if patience >= 2\n",
    "                break\n",
    "            end\n",
    "        end\n",
    "    end\n",
    "    best_model\n",
    "end;"
   ]
  },
  {
   "cell_type": "markdown",
   "id": "27aaa951-3156-44b0-8b6c-20a680300c8b",
   "metadata": {},
   "source": [
    "# Run"
   ]
  },
  {
   "cell_type": "code",
   "execution_count": null,
   "id": "c6270172-f2c7-449e-9e4e-8b8ab15d2d0f",
   "metadata": {},
   "outputs": [],
   "source": [
    "Random.seed!(20240213)\n",
    "Random.seed!(CUDA.default_rng(), rand(UInt64))\n",
    "Random.seed!(CUDA.CURAND.default_rng(), rand(UInt64))"
   ]
  },
  {
   "cell_type": "code",
   "execution_count": null,
   "id": "bd9cbc70-75a2-465a-8d7e-d8df504d7ccd",
   "metadata": {},
   "outputs": [],
   "source": [
    "f = load_features();"
   ]
  },
  {
   "cell_type": "code",
   "execution_count": null,
   "id": "f7d3a02a-da6f-4cd9-8a09-55de54f42074",
   "metadata": {},
   "outputs": [],
   "source": [
    "learning_rate = 1f-3\n",
    "weight_decay = 1f-2\n",
    "batch_size = Int32(8)\n",
    "interaction_weights = Float32[1, 1f-3, 0] # TODO ablate\n",
    "list_size = Int32(10240);"
   ]
  },
  {
   "cell_type": "code",
   "execution_count": null,
   "id": "965e1d0b-f8a2-4519-9a70-f5ad7f079ae0",
   "metadata": {},
   "outputs": [],
   "source": [
    "m = train_model(f, learning_rate, weight_decay, batch_size, interaction_weights, list_size);"
   ]
  },
  {
   "cell_type": "code",
   "execution_count": null,
   "id": "aaa1ff2c-f384-46bd-8307-86d849f64b0f",
   "metadata": {},
   "outputs": [],
   "source": [
    "write_params(Dict(\"m\" => m), \"$medium/Ranking\", true)"
   ]
  }
 ],
 "metadata": {
  "kernelspec": {
   "display_name": "Julia 1.9.4",
   "language": "julia",
   "name": "julia-1.9"
  },
  "language_info": {
   "file_extension": ".jl",
   "mimetype": "application/julia",
   "name": "julia",
   "version": "1.9.4"
  }
 },
 "nbformat": 4,
 "nbformat_minor": 5
}
