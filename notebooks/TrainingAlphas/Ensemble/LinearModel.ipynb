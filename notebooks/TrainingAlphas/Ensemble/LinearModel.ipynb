{
 "cells": [
  {
   "cell_type": "markdown",
   "id": "2df5351f-2171-4365-b750-8984d42c5fe5",
   "metadata": {},
   "source": [
    "# LinearModel"
   ]
  },
  {
   "cell_type": "code",
   "execution_count": null,
   "id": "aaaadea0-1064-4190-9af5-444197762a12",
   "metadata": {
    "tags": [
     "parameters"
    ]
   },
   "outputs": [],
   "source": [
    "medium = \"\"\n",
    "task = \"\""
   ]
  },
  {
   "cell_type": "code",
   "execution_count": null,
   "id": "69b5a19a-24f5-4730-afe2-f451d27d18e3",
   "metadata": {},
   "outputs": [],
   "source": [
    "import SparseArrays: sparse\n",
    "import NBInclude: @nbinclude\n",
    "@nbinclude(\"../Alpha.ipynb\")\n",
    "@nbinclude(\"EnsembleInputs.ipynb\");"
   ]
  },
  {
   "cell_type": "markdown",
   "id": "cab05e4f-60fd-48d4-a3d1-ef6423760396",
   "metadata": {},
   "source": [
    "## Suppress seen shows\n",
    "* Zero out any items the user has already seen and rescale the probablity distribution"
   ]
  },
  {
   "cell_type": "code",
   "execution_count": null,
   "id": "b831b130-c220-4ec7-abe0-5dcda229ffa2",
   "metadata": {},
   "outputs": [],
   "source": [
    "function get_seen_probabilities(alpha::String)\n",
    "    if alpha in implicit_raw_alphas(task, medium)\n",
    "        content = \"implicit\"\n",
    "    else\n",
    "        @assert false\n",
    "    end\n",
    "    df = read_alpha(alpha, \"training\", task, content, medium)\n",
    "    p_seen = zeros(Float32, num_users(medium), Threads.nthreads())\n",
    "    Threads.@threads for i = 1:length(df.user)\n",
    "        p_seen[df.user[i], Threads.threadid()] += df.rating[i]\n",
    "    end\n",
    "    vec(sum(p_seen, dims = 2))\n",
    "end\n",
    "\n",
    "function read_raw_alpha(\n",
    "    alpha::String,\n",
    "    split::String,\n",
    "    task::String,\n",
    "    content::String,\n",
    "    medium::String,\n",
    ")\n",
    "    suppress = (split != \"training\") && (alpha in implicit_raw_alphas(task, medium))\n",
    "    if !suppress\n",
    "        return read_raw_alpha_impl(alpha, split, task, content, medium)\n",
    "    end\n",
    "    ϵ = sqrt(eps(Float32))\n",
    "    df = get_raw_split(split, task, content, medium; fields = [:user])\n",
    "    ratings = read_raw_alpha_impl(alpha, split, task, content, medium).rating\n",
    "    # zero out any items the user has already seen\n",
    "    p_seen = get_seen_probabilities(alpha)\n",
    "    Threads.@threads for i = 1:length(ratings)\n",
    "        if 1 - p_seen[df.user[i]] > ϵ\n",
    "            ratings[i] /= 1 - p_seen[df.user[i]]\n",
    "        end\n",
    "    end\n",
    "    RatingsDataset(rating = ratings, medium = medium)\n",
    "end;"
   ]
  },
  {
   "cell_type": "markdown",
   "id": "add8b6e4-e53d-4f2b-9183-df18f637b182",
   "metadata": {},
   "source": [
    "## Save predictions"
   ]
  },
  {
   "cell_type": "code",
   "execution_count": null,
   "id": "e14bda77-a7a8-4e50-b6c6-7a0f07ee4e46",
   "metadata": {},
   "outputs": [],
   "source": [
    "function save_linear_model(\n",
    "    alphas::Vector{String},\n",
    "    task::String,\n",
    "    content::String,\n",
    "    medium::String,\n",
    "    outdir::String,\n",
    ")\n",
    "    if content == \"explicit\"\n",
    "        implicit = false\n",
    "    elseif content == \"implicit\"\n",
    "        implicit = true\n",
    "    else\n",
    "        @assert false\n",
    "    end\n",
    "    set_logging_outdir(outdir)\n",
    "    _, β = regress(alphas, \"test\", task, content, medium, implicit)\n",
    "    @info \"alphas: $alphas\"\n",
    "    @info \"coefficients: $β\"\n",
    "    write_params(Dict(\"β\" => β, \"alphas\" => alphas), outdir)\n",
    "\n",
    "    function model(\n",
    "        split::String,\n",
    "        task::String,\n",
    "        content::String,\n",
    "        medium::String;\n",
    "        raw_splits::Bool,\n",
    "    )\n",
    "        GC.gc()\n",
    "        read_fn = raw_splits ? read_raw_alpha : read_alpha\n",
    "        Xs = [read_fn(alpha, split, task, content, medium).rating for alpha in alphas]\n",
    "        if implicit\n",
    "            push!(Xs, fill(1.0f0 / num_items(medium), length(Xs[1])))\n",
    "        end\n",
    "        X = hcat(Xs...)\n",
    "        y = X * β\n",
    "        vec(y)\n",
    "    end\n",
    "    write_alpha(\n",
    "        model,\n",
    "        medium,\n",
    "        outdir;\n",
    "        task = task,\n",
    "        by_split = true,\n",
    "        log = true,\n",
    "        log_alphas = String[],\n",
    "        log_task = task,\n",
    "        log_content = content,\n",
    "        log_splits = [\"test\"],\n",
    "    )\n",
    "end;"
   ]
  },
  {
   "cell_type": "code",
   "execution_count": null,
   "id": "b2a0767d-49d5-480a-a934-96ceac0e1b84",
   "metadata": {},
   "outputs": [],
   "source": [
    "save_linear_model(\n",
    "    explicit_raw_alphas(task, medium),\n",
    "    task,\n",
    "    \"explicit\",\n",
    "    medium,\n",
    "    \"$medium/$task/LinearExplicit\",\n",
    ");"
   ]
  },
  {
   "cell_type": "code",
   "execution_count": null,
   "id": "e785584f-ed89-4462-aa3c-b62e923b9f56",
   "metadata": {},
   "outputs": [],
   "source": [
    "save_linear_model(\n",
    "    implicit_raw_alphas(task, medium),\n",
    "    task,\n",
    "    \"implicit\",\n",
    "    medium,\n",
    "    \"$medium/$task/LinearImplicit\",\n",
    ");"
   ]
  }
 ],
 "metadata": {
  "kernelspec": {
   "display_name": "Julia 1.9.0-rc2",
   "language": "julia",
   "name": "julia-1.9"
  },
  "language_info": {
   "file_extension": ".jl",
   "mimetype": "application/julia",
   "name": "julia",
   "version": "1.9.0"
  }
 },
 "nbformat": 4,
 "nbformat_minor": 5
}
