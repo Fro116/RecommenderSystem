{
 "cells": [
  {
   "cell_type": "markdown",
   "id": "2df5351f-2171-4365-b750-8984d42c5fe5",
   "metadata": {},
   "source": [
    "# LinearModel\n",
    "* TODO document"
   ]
  },
  {
   "cell_type": "code",
   "execution_count": 1,
   "id": "69b5a19a-24f5-4730-afe2-f451d27d18e3",
   "metadata": {},
   "outputs": [],
   "source": [
    "import SparseArrays: sparse\n",
    "import NBInclude:@nbinclude\n",
    "@nbinclude(\"../Alpha.ipynb\")\n",
    "@nbinclude(\"EnsembleBase.ipynb\");"
   ]
  },
  {
   "cell_type": "markdown",
   "id": "add8b6e4-e53d-4f2b-9183-df18f637b182",
   "metadata": {},
   "source": [
    "## Training"
   ]
  },
  {
   "cell_type": "code",
   "execution_count": 2,
   "id": "e14bda77-a7a8-4e50-b6c6-7a0f07ee4e46",
   "metadata": {},
   "outputs": [],
   "source": [
    "function save_linear_model(alphas, implicit, outdir)\n",
    "    set_logging_outdir(outdir)\n",
    "    _, β = regress(alphas, implicit)\n",
    "    @info \"alphas: $alphas\"\n",
    "    @info \"coefficients: $β\"\n",
    "    write_params(Dict(\"β\" => β, \"alphas\" => alphas), outdir)\n",
    "\n",
    "    splits = []\n",
    "    @showprogress for split in all_raw_splits\n",
    "        push!(splits, read_alpha(alphas, split, implicit))\n",
    "    end\n",
    "    splits = reduce(cat, splits)\n",
    "    preds = sparse(splits.user, splits.item, splits.rating)\n",
    "    write_alpha(preds, [], implicit, outdir; log_test_split=true)\n",
    "end;"
   ]
  },
  {
   "cell_type": "code",
   "execution_count": 3,
   "id": "fe4ad27b-d09d-4679-8632-fc880fa82503",
   "metadata": {},
   "outputs": [
    {
     "name": "stderr",
     "output_type": "stream",
     "text": [
      "\u001b[38;5;6m\u001b[1m[ \u001b[22m\u001b[39m\u001b[38;5;6m\u001b[1mInfo: \u001b[22m\u001b[39m20220619 12:28:44 alphas: [\"NeuralExplicitUserItemBiases\", \"NeuralExplicitMatrixFactorization\"]\n",
      "\u001b[38;5;6m\u001b[1m[ \u001b[22m\u001b[39m\u001b[38;5;6m\u001b[1mInfo: \u001b[22m\u001b[39m20220619 12:28:45 coefficients: Float32[0.9795073, 0.6041943]\n",
      "\u001b[32mProgress: 100%|█████████████████████████████████████████| Time: 0:00:05\u001b[39m\n",
      "\u001b[32mProgress: 100%|███████████████████████████| Time: 0:00:00 ( 1.35 μs/it)\u001b[39m\n",
      "\u001b[38;5;6m\u001b[1m[ \u001b[22m\u001b[39m\u001b[38;5;6m\u001b[1mInfo: \u001b[22m\u001b[39m20220619 12:29:03 validation loss: 1.6047331363409494, β: [0.9999988381528165]\n",
      "\u001b[32mProgress: 100%|███████████████████████████| Time: 0:00:07 ( 1.32 μs/it)\u001b[39m\n",
      "\u001b[38;5;6m\u001b[1m[ \u001b[22m\u001b[39m\u001b[38;5;6m\u001b[1mInfo: \u001b[22m\u001b[39m20220619 12:29:12 training loss: 0.8005253227244578, β: [0.9999988381528165]\n",
      "\u001b[32mProgress: 100%|███████████████████████████| Time: 0:00:07 ( 1.26 μs/it)\u001b[39m\n",
      "\u001b[32mProgress: 100%|███████████████████████████| Time: 0:00:00 ( 1.28 μs/it)\u001b[39m\n",
      "\u001b[32mProgress: 100%|███████████████████████████| Time: 0:00:00 ( 1.29 μs/it)\u001b[39m\n",
      "\u001b[32mProgress: 100%|███████████████████████████| Time: 0:00:02 ( 1.27 μs/it)\u001b[39m\n",
      "\u001b[32mProgress: 100%|███████████████████████████| Time: 0:00:00 ( 1.37 μs/it)\u001b[39m\n",
      "\u001b[32mProgress: 100%|███████████████████████████| Time: 0:00:00 ( 1.31 μs/it)\u001b[39m\n",
      "\u001b[32mProgress: 100%|███████████████████████████| Time: 0:00:00 ( 0.87 μs/it)\u001b[39m\n"
     ]
    }
   ],
   "source": [
    "save_linear_model(explicit_raw_alphas, false, \"LinearExplicit\");"
   ]
  },
  {
   "cell_type": "code",
   "execution_count": 4,
   "id": "e785584f-ed89-4462-aa3c-b62e923b9f56",
   "metadata": {},
   "outputs": [
    {
     "name": "stdout",
     "output_type": "stream",
     "text": [
      "Iter     Function value   Gradient norm \n",
      "     0     7.050344e+00     3.176551e-01\n",
      " * time: 0.008433103561401367\n",
      "     1     6.715088e+00     1.972400e-01\n",
      " * time: 1.6617460250854492\n",
      "     2     6.522408e+00     4.894680e-02\n",
      " * time: 2.9172821044921875\n",
      "     3     6.482618e+00     8.643468e-03\n",
      " * time: 4.083482027053833\n",
      "     4     6.477358e+00     3.173384e-03\n",
      " * time: 5.2778639793396\n",
      "     5     6.475427e+00     1.171381e-03\n",
      " * time: 6.480120897293091\n",
      "     6     6.474709e+00     4.330074e-04\n",
      " * time: 7.683715105056763\n",
      "     7     6.474442e+00     1.600214e-04\n",
      " * time: 8.872659921646118\n",
      "     8     6.474442e+00     1.600214e-04\n",
      " * time: 9.127593994140625\n",
      "     9     6.474442e+00     1.600214e-04\n",
      " * time: 9.338445901870728\n",
      "    10     6.474442e+00     1.600214e-04\n",
      " * time: 9.561110019683838\n",
      "    11     6.474442e+00     1.600214e-04\n",
      " * time: 9.778037071228027\n",
      "    12     6.474397e+00     1.143251e-04\n",
      " * time: 10.954740047454834\n",
      "    13     6.474341e+00     5.879170e-05\n",
      " * time: 12.151052951812744\n",
      "    14     6.474305e+00     2.169438e-05\n",
      " * time: 13.42589807510376\n",
      "    15     6.474305e+00     2.169438e-05\n",
      " * time: 13.634021997451782\n",
      "    16     6.474294e+00     1.128879e-05\n",
      " * time: 14.799278974533081\n",
      "    17     6.474294e+00     1.128879e-05\n",
      " * time: 15.049140930175781\n",
      "    18     6.474291e+00     8.162384e-06\n",
      " * time: 16.27921199798584\n",
      "    19     6.474288e+00     4.295833e-06\n",
      " * time: 17.448477029800415\n",
      "    20     6.474288e+00     4.295833e-06\n",
      " * time: 17.702089071273804\n",
      "    21     6.474287e+00     3.122267e-06\n",
      " * time: 18.95173692703247\n",
      "    22     6.474285e+00     1.658370e-06\n",
      " * time: 20.180095911026\n",
      "    23     6.474284e+00     6.103190e-07\n",
      " * time: 21.38650608062744\n"
     ]
    },
    {
     "name": "stderr",
     "output_type": "stream",
     "text": [
      "\u001b[38;5;6m\u001b[1m[ \u001b[22m\u001b[39m\u001b[38;5;6m\u001b[1mInfo: \u001b[22m\u001b[39m20220619 12:30:01 alphas: [\"NeuralImplicitUserItemBiases\", \"NeuralImplicitMatrixFactorization\"]\n",
      "\u001b[38;5;6m\u001b[1m[ \u001b[22m\u001b[39m\u001b[38;5;6m\u001b[1mInfo: \u001b[22m\u001b[39m20220619 12:30:01 coefficients: Float32[2.2685917f-6, 0.99999714, 6.106857f-7]\n",
      "\u001b[32mProgress: 100%|█████████████████████████████████████████| Time: 0:00:06\u001b[39m\n",
      "\u001b[32mProgress: 100%|███████████████████████████| Time: 0:00:01 ( 1.21 μs/it)\u001b[39m\n"
     ]
    },
    {
     "name": "stdout",
     "output_type": "stream",
     "text": [
      "Iter     Function value   Gradient norm \n",
      "     0     7.054639e+00     4.177020e-01\n",
      " * time: 2.4080276489257812e-5\n",
      "     1     6.653599e+00     1.650760e-01\n",
      " * time: 1.2500460147857666\n",
      "     2     6.529263e+00     5.478696e-02\n",
      " * time: 2.525359869003296\n",
      "     3     6.490228e+00     1.623914e-02\n",
      " * time: 3.8736560344696045\n",
      "     4     6.478855e+00     4.656942e-03\n",
      " * time: 5.114798069000244\n",
      "     5     6.475601e+00     1.333321e-03\n",
      " * time: 6.387959003448486\n",
      "     6     6.474666e+00     3.848633e-04\n",
      " * time: 7.8551270961761475\n",
      "     7     6.474425e+00     1.419365e-04\n",
      " * time: 9.251069068908691\n",
      "     8     6.474336e+00     5.254553e-05\n",
      " * time: 10.641488075256348\n",
      "     9     6.474303e+00     1.949558e-05\n",
      " * time: 12.032478094100952\n",
      "    10     6.474291e+00     7.241041e-06\n",
      " * time: 13.309247016906738\n",
      "    11     6.474287e+00     2.690690e-06\n",
      " * time: 14.582673072814941\n",
      "    12     6.474285e+00     9.899107e-07\n",
      " * time: 15.861319065093994\n"
     ]
    },
    {
     "name": "stderr",
     "output_type": "stream",
     "text": [
      "\u001b[38;5;6m\u001b[1m[ \u001b[22m\u001b[39m\u001b[38;5;6m\u001b[1mInfo: \u001b[22m\u001b[39m20220619 12:30:38 validation loss: 6.474284781406966, β: Float32[1.3867591f-6, 0.99999857]\n",
      "\u001b[32mProgress: 100%|███████████████████████████| Time: 0:00:09 ( 1.20 μs/it)\u001b[39m\n",
      "\u001b[38;5;6m\u001b[1m[ \u001b[22m\u001b[39m\u001b[38;5;6m\u001b[1mInfo: \u001b[22m\u001b[39m20220619 12:30:51 training loss: 5.802194571688318, β: Float32[1.3867591f-6, 0.99999857]\n",
      "\u001b[32mProgress: 100%|███████████████████████████| Time: 0:00:06 ( 1.21 μs/it)\u001b[39m\n",
      "\u001b[32mProgress: 100%|███████████████████████████| Time: 0:00:00 ( 1.22 μs/it)\u001b[39m\n",
      "\u001b[32mProgress: 100%|███████████████████████████| Time: 0:00:00 ( 0.96 μs/it)\u001b[39m\n",
      "\u001b[32mProgress: 100%|███████████████████████████| Time: 0:00:02 ( 1.20 μs/it)\u001b[39m\n",
      "\u001b[32mProgress: 100%|███████████████████████████| Time: 0:00:00 ( 1.28 μs/it)\u001b[39m\n",
      "\u001b[32mProgress: 100%|███████████████████████████| Time: 0:00:00 ( 1.24 μs/it)\u001b[39m\n",
      "\u001b[32mProgress: 100%|███████████████████████████| Time: 0:00:00 ( 0.79 μs/it)\u001b[39m\n"
     ]
    }
   ],
   "source": [
    "save_linear_model(implicit_raw_alphas, true, \"LinearImplicit\");"
   ]
  }
 ],
 "metadata": {
  "kernelspec": {
   "display_name": "Julia 1.8.0-rc1",
   "language": "julia",
   "name": "julia-1.8"
  },
  "language_info": {
   "file_extension": ".jl",
   "mimetype": "application/julia",
   "name": "julia",
   "version": "1.8.0"
  }
 },
 "nbformat": 4,
 "nbformat_minor": 5
}
