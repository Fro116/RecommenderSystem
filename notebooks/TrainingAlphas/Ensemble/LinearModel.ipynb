{
 "cells": [
  {
   "cell_type": "markdown",
   "id": "2df5351f-2171-4365-b750-8984d42c5fe5",
   "metadata": {},
   "source": [
    "# LinearModel"
   ]
  },
  {
   "cell_type": "code",
   "execution_count": null,
   "id": "aaaadea0-1064-4190-9af5-444197762a12",
   "metadata": {
    "tags": [
     "parameters"
    ]
   },
   "outputs": [],
   "source": [
    "task = \"random\""
   ]
  },
  {
   "cell_type": "code",
   "execution_count": null,
   "id": "69b5a19a-24f5-4730-afe2-f451d27d18e3",
   "metadata": {},
   "outputs": [],
   "source": [
    "import SparseArrays: sparse\n",
    "import NBInclude: @nbinclude\n",
    "@nbinclude(\"../Alpha.ipynb\")\n",
    "@nbinclude(\"EnsembleInputs.ipynb\");"
   ]
  },
  {
   "cell_type": "markdown",
   "id": "cab05e4f-60fd-48d4-a3d1-ef6423760396",
   "metadata": {},
   "source": [
    "## Suppress seen shows\n",
    "* Zero out any items the user has already seen and rescale the probablity distribution"
   ]
  },
  {
   "cell_type": "code",
   "execution_count": null,
   "id": "b831b130-c220-4ec7-abe0-5dcda229ffa2",
   "metadata": {},
   "outputs": [],
   "source": [
    "function get_seen_probabilities(alpha::String)\n",
    "    if alpha in implicit_raw_alphas(task)\n",
    "        content = \"implicit\"\n",
    "    elseif alpha in ptw_raw_alphas(task)\n",
    "        content = \"ptw\"\n",
    "    else\n",
    "        @assert false\n",
    "    end\n",
    "    df = read_alpha(alpha, \"training\", task, content)\n",
    "    p_seen = zeros(Float32, num_users(), Threads.nthreads())\n",
    "    Threads.@threads for i = 1:length(df.user)\n",
    "        p_seen[df.user[i], Threads.threadid()] += df.rating[i]\n",
    "    end\n",
    "    vec(sum(p_seen, dims = 2))\n",
    "end\n",
    "\n",
    "function read_raw_alpha(alpha::String, split::String, task::String, content::String)\n",
    "    suppress =\n",
    "        (split != \"training\") &&\n",
    "        (alpha in [implicit_raw_alphas(task); ptw_raw_alphas(task)])\n",
    "    if !suppress\n",
    "        return read_raw_alpha_impl(alpha, split, task, content)\n",
    "    end\n",
    "    ϵ = sqrt(eps(Float32))\n",
    "    df = get_raw_split(split, task, content; fields = [:user])\n",
    "    ratings = read_raw_alpha_impl(alpha, split, task, content).rating\n",
    "    # zero out any items the user has already seen\n",
    "    p_seen = get_seen_probabilities(alpha)\n",
    "    Threads.@threads for i = 1:length(ratings)\n",
    "        if 1 - p_seen[df.user[i]] > ϵ\n",
    "            ratings[i] /= 1 - p_seen[df.user[i]]\n",
    "        end\n",
    "    end\n",
    "    RatingsDataset(rating = ratings)\n",
    "end;"
   ]
  },
  {
   "cell_type": "markdown",
   "id": "add8b6e4-e53d-4f2b-9183-df18f637b182",
   "metadata": {},
   "source": [
    "## Save predictions"
   ]
  },
  {
   "cell_type": "code",
   "execution_count": null,
   "id": "e14bda77-a7a8-4e50-b6c6-7a0f07ee4e46",
   "metadata": {},
   "outputs": [],
   "source": [
    "function save_linear_model(\n",
    "    alphas::Vector{String},\n",
    "    task::String,\n",
    "    content::String,\n",
    "    outdir::String,\n",
    ")\n",
    "    if content == \"explicit\"\n",
    "        implicit = false\n",
    "    elseif content in [\"implicit\", \"ptw\"]\n",
    "        implicit = true\n",
    "    else\n",
    "        @assert false\n",
    "    end\n",
    "    set_logging_outdir(outdir)\n",
    "    _, β = regress(alphas, task, content, implicit)\n",
    "    @info \"alphas: $alphas\"\n",
    "    @info \"coefficients: $β\"\n",
    "    write_params(Dict(\"β\" => β, \"alphas\" => alphas), outdir)\n",
    "\n",
    "    function model(split::String, task::String, content::String; raw_splits::Bool)\n",
    "        read_fn = raw_splits ? read_raw_alpha : read_alpha\n",
    "        Xs = [read_fn(alpha, split, task, content).rating for alpha in alphas]\n",
    "        if implicit\n",
    "            push!(Xs, fill(1.0f0 / num_items(), length(Xs[1])))\n",
    "        end\n",
    "        X = hcat(Xs...)\n",
    "        y = X * β\n",
    "        vec(y)\n",
    "    end\n",
    "    write_alpha(\n",
    "        model,\n",
    "        outdir;\n",
    "        task = task,\n",
    "        by_split = true,\n",
    "        log = true,\n",
    "        log_alphas = String[],\n",
    "        log_task = task,\n",
    "        log_content = content,\n",
    "        log_splits = [\"validation\", \"test\"],\n",
    "    )\n",
    "end;"
   ]
  },
  {
   "cell_type": "code",
   "execution_count": null,
   "id": "fe4ad27b-d09d-4679-8632-fc880fa82503",
   "metadata": {},
   "outputs": [],
   "source": [
    "save_linear_model(explicit_raw_alphas(task), task, \"explicit\", \"$task/LinearExplicit\");"
   ]
  },
  {
   "cell_type": "code",
   "execution_count": null,
   "id": "e785584f-ed89-4462-aa3c-b62e923b9f56",
   "metadata": {},
   "outputs": [],
   "source": [
    "save_linear_model(implicit_raw_alphas(task), task, \"implicit\", \"$task/LinearImplicit\");"
   ]
  },
  {
   "cell_type": "code",
   "execution_count": null,
   "id": "87d52e6c-48de-4343-84f2-e433ae1086f3",
   "metadata": {},
   "outputs": [],
   "source": [
    "save_linear_model(ptw_raw_alphas(task), task, \"ptw\", \"$task/LinearPtw\");"
   ]
  }
 ],
 "metadata": {
  "kernelspec": {
   "display_name": "Julia 1.8.3",
   "language": "julia",
   "name": "julia-1.8"
  },
  "language_info": {
   "file_extension": ".jl",
   "mimetype": "application/julia",
   "name": "julia",
   "version": "1.8.3"
  }
 },
 "nbformat": 4,
 "nbformat_minor": 5
}
