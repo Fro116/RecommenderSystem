{
 "cells": [
  {
   "cell_type": "markdown",
   "id": "2df5351f-2171-4365-b750-8984d42c5fe5",
   "metadata": {},
   "source": [
    "# LinearModel"
   ]
  },
  {
   "cell_type": "code",
   "execution_count": null,
   "id": "69b5a19a-24f5-4730-afe2-f451d27d18e3",
   "metadata": {},
   "outputs": [],
   "source": [
    "import SparseArrays: sparse\n",
    "import NBInclude: @nbinclude\n",
    "@nbinclude(\"../Alpha.ipynb\")\n",
    "@nbinclude(\"EnsembleInputs.ipynb\")\n",
    "@nbinclude(\"SuppressImplicit.ipynb\");"
   ]
  },
  {
   "cell_type": "markdown",
   "id": "add8b6e4-e53d-4f2b-9183-df18f637b182",
   "metadata": {},
   "source": [
    "## Training"
   ]
  },
  {
   "cell_type": "code",
   "execution_count": null,
   "id": "e14bda77-a7a8-4e50-b6c6-7a0f07ee4e46",
   "metadata": {},
   "outputs": [],
   "source": [
    "function save_linear_model(alphas::Vector{String}, content::String, outdir::String)\n",
    "    if content == \"explicit\"\n",
    "        implicit = false\n",
    "    elseif content in [\"implicit\", \"ptw\"]\n",
    "        implicit = true\n",
    "    else\n",
    "        @assert false\n",
    "    end\n",
    "    set_logging_outdir(outdir)\n",
    "    _, β = regress(alphas, content, implicit)\n",
    "    @info \"alphas: $alphas\"\n",
    "    @info \"coefficients: $β\"\n",
    "    write_params(Dict(\"β\" => β, \"alphas\" => alphas), outdir)\n",
    "\n",
    "    function model(split::String, content::String; raw_splits::Bool)\n",
    "        read_fn = raw_splits ? read_raw_alpha : read_alpha\n",
    "        Xs = [read_fn(alpha, split, content).rating for alpha in alphas]\n",
    "        if implicit\n",
    "            push!(Xs, fill(one(Float32), length(Xs[1])))\n",
    "        end\n",
    "        X = hcat(Xs...)\n",
    "        y = X * β\n",
    "        vec(y)\n",
    "    end\n",
    "    write_alpha(\n",
    "        model,\n",
    "        outdir;\n",
    "        by_split = true,\n",
    "        log = true,\n",
    "        log_implicit = implicit,\n",
    "        log_alphas = String[],\n",
    "        log_content = content,\n",
    "        log_splits = [\"validation\", \"test\"],\n",
    "    )\n",
    "end;"
   ]
  },
  {
   "cell_type": "code",
   "execution_count": null,
   "id": "fe4ad27b-d09d-4679-8632-fc880fa82503",
   "metadata": {},
   "outputs": [],
   "source": [
    "save_linear_model(explicit_raw_alphas, \"explicit\", \"LinearExplicit\");"
   ]
  },
  {
   "cell_type": "code",
   "execution_count": null,
   "id": "e785584f-ed89-4462-aa3c-b62e923b9f56",
   "metadata": {},
   "outputs": [],
   "source": [
    "save_linear_model(implicit_raw_alphas, \"implicit\", \"LinearImplicit\");"
   ]
  },
  {
   "cell_type": "code",
   "execution_count": null,
   "id": "87d52e6c-48de-4343-84f2-e433ae1086f3",
   "metadata": {},
   "outputs": [],
   "source": [
    "save_linear_model(ptw_raw_alphas, \"ptw\", \"LinearPtw\");"
   ]
  }
 ],
 "metadata": {
  "kernelspec": {
   "display_name": "Julia 1.8.0-rc1",
   "language": "julia",
   "name": "julia-1.8"
  },
  "language_info": {
   "file_extension": ".jl",
   "mimetype": "application/julia",
   "name": "julia",
   "version": "1.8.0"
  }
 },
 "nbformat": 4,
 "nbformat_minor": 5
}
