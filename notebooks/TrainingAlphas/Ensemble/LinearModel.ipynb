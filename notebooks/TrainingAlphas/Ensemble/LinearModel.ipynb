{
 "cells": [
  {
   "cell_type": "markdown",
   "id": "2df5351f-2171-4365-b750-8984d42c5fe5",
   "metadata": {},
   "source": [
    "# LinearModel"
   ]
  },
  {
   "cell_type": "code",
   "execution_count": null,
   "id": "935c8bdb-fa8d-4d84-9d4f-1f41bc402c6e",
   "metadata": {
    "editable": true,
    "slideshow": {
     "slide_type": ""
    },
    "tags": [
     "parameters"
    ]
   },
   "outputs": [],
   "source": [
    "medium = \"\""
   ]
  },
  {
   "cell_type": "code",
   "execution_count": null,
   "id": "69b5a19a-24f5-4730-afe2-f451d27d18e3",
   "metadata": {},
   "outputs": [],
   "source": [
    "import SparseArrays: sparse\n",
    "import NBInclude: @nbinclude\n",
    "@nbinclude(\"../Alpha.ipynb\")\n",
    "@nbinclude(\"EnsembleInputs.ipynb\");"
   ]
  },
  {
   "cell_type": "code",
   "execution_count": null,
   "id": "ca7521c0-266b-41f7-8cc7-5deae03f9e26",
   "metadata": {},
   "outputs": [],
   "source": [
    "function save_linear_model(metric, medium)\n",
    "    alphas = get_ensemple_alphas(metric, medium)\n",
    "    β = regress(get_features(\"test\", metric, medium, alphas)..., metric)\n",
    "    name = \"$medium/Linear/$metric\"\n",
    "    @info \"$medium $metric linear model $β $alphas\"\n",
    "    write_params(Dict(\"β\" => β), name, true)\n",
    "\n",
    "    # inference\n",
    "    M = SparseArrays.sparse(Int32[], Int32[], Float32[], num_users(), num_items(medium))\n",
    "    for split in [\"test\", \"negative\"]\n",
    "        X = [get_raw_split(split, medium, [:userid], a).alpha for a in alphas]\n",
    "        if metric in [\"watch\", \"plantowatch\"]\n",
    "            push!(X, fill(1.0f0 / num_items(medium), length(X[1])))\n",
    "        elseif metric == \"drop\"\n",
    "            push!(X, fill(1.0f0, length(X[1])), fill(0.0f0, length(X[1])))\n",
    "        end\n",
    "        X = hcat(X...)\n",
    "        y = X * β\n",
    "        u = get_raw_split(split, medium, [:userid], nothing).userid\n",
    "        a = get_raw_split(split, medium, [:itemid], nothing).itemid\n",
    "        M .+= SparseArrays.sparse(u .+ 1, a .+ 1, y, num_users(), num_items(medium))\n",
    "    end\n",
    "    function model(userids, itemids)\n",
    "        r = zeros(Float32, length(userids))\n",
    "        @tprogress Threads.@threads for i = 1:length(userids)\n",
    "            r[i] = M[userids[i]+1, itemids[i]+1]\n",
    "        end\n",
    "        r\n",
    "    end\n",
    "\n",
    "    write_alpha(model, medium, name, [\"test\", \"negative\"])\n",
    "    print_losses(alphas, metric, medium, [\"test\"])\n",
    "end;"
   ]
  },
  {
   "cell_type": "code",
   "execution_count": null,
   "id": "b100518e-0f8f-4402-8a2d-56bce0b910fc",
   "metadata": {},
   "outputs": [],
   "source": [
    "for metric in ALL_METRICS\n",
    "    save_linear_model(metric, medium)\n",
    "end;"
   ]
  }
 ],
 "metadata": {
  "kernelspec": {
   "display_name": "Julia 1.9.4",
   "language": "julia",
   "name": "julia-1.9"
  },
  "language_info": {
   "file_extension": ".jl",
   "mimetype": "application/julia",
   "name": "julia",
   "version": "1.9.4"
  }
 },
 "nbformat": 4,
 "nbformat_minor": 5
}
