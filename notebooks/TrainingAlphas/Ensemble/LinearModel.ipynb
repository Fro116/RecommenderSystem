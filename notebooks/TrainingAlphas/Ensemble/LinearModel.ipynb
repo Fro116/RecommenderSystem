{
 "cells": [
  {
   "cell_type": "markdown",
   "id": "2df5351f-2171-4365-b750-8984d42c5fe5",
   "metadata": {},
   "source": [
    "# LinearModel\n",
    "* TODO document"
   ]
  },
  {
   "cell_type": "code",
   "execution_count": 1,
   "id": "69b5a19a-24f5-4730-afe2-f451d27d18e3",
   "metadata": {},
   "outputs": [],
   "source": [
    "import SparseArrays: sparse\n",
    "import NBInclude:@nbinclude\n",
    "@nbinclude(\"../Alpha.ipynb\")\n",
    "@nbinclude(\"EnsembleInputs.ipynb\");"
   ]
  },
  {
   "cell_type": "markdown",
   "id": "add8b6e4-e53d-4f2b-9183-df18f637b182",
   "metadata": {},
   "source": [
    "## Training"
   ]
  },
  {
   "cell_type": "code",
   "execution_count": 2,
   "id": "e14bda77-a7a8-4e50-b6c6-7a0f07ee4e46",
   "metadata": {},
   "outputs": [],
   "source": [
    "function save_linear_model(alphas, implicit, outdir)\n",
    "    set_logging_outdir(outdir)\n",
    "    _, β = regress(alphas, implicit)\n",
    "    @info \"alphas: $alphas\"\n",
    "    @info \"coefficients: $β\"\n",
    "    write_params(Dict(\"β\" => β, \"alphas\" => alphas), outdir)\n",
    "\n",
    "    splits = []\n",
    "    @showprogress for split in all_raw_splits\n",
    "        push!(splits, read_alpha(alphas, split, implicit))\n",
    "    end\n",
    "    splits = reduce(cat, splits)\n",
    "    preds = sparse(splits.user, splits.item, splits.rating)\n",
    "    write_alpha(preds, [], implicit, outdir; log_test_split = true)\n",
    "end;"
   ]
  },
  {
   "cell_type": "code",
   "execution_count": 3,
   "id": "fe4ad27b-d09d-4679-8632-fc880fa82503",
   "metadata": {},
   "outputs": [
    {
     "name": "stderr",
     "output_type": "stream",
     "text": [
      "\u001b[32mProgress: 100%|███████████████████████████| Time: 0:00:00 (79.46 ns/it)\u001b[39m\n",
      "\u001b[38;5;6m\u001b[1m[ \u001b[22m\u001b[39m\u001b[38;5;6m\u001b[1mInfo: \u001b[22m\u001b[39m20220626 11:47:50 alphas: [\"ExplicitUserItemBiases\", \"ExplicitItemCF\"]\n",
      "\u001b[38;5;6m\u001b[1m[ \u001b[22m\u001b[39m\u001b[38;5;6m\u001b[1mInfo: \u001b[22m\u001b[39m20220626 11:47:50 coefficients: Float32[0.995312, 0.97463065]\n",
      "\u001b[32mProgress: 100%|█████████████████████████████████████████| Time: 0:00:03\u001b[39m\n",
      "\u001b[32mProgress: 100%|███████████████████████████| Time: 0:00:02 ( 0.81 μs/it)\u001b[39m\n",
      "\u001b[38;5;6m\u001b[1m[ \u001b[22m\u001b[39m\u001b[38;5;6m\u001b[1mInfo: \u001b[22m\u001b[39m20220626 11:48:14 validation loss: 1.4436618962728862, β: [1.000080799590266]\n",
      "\u001b[32mProgress: 100%|███████████████████████████| Time: 0:00:21 ( 0.75 μs/it)\u001b[39m\n",
      "\u001b[32mProgress: 100%|███████████████████████████| Time: 0:00:00 (10.31 ns/it)\u001b[39m\n",
      "\u001b[38;5;6m\u001b[1m[ \u001b[22m\u001b[39m\u001b[38;5;6m\u001b[1mInfo: \u001b[22m\u001b[39m20220626 11:48:37 training loss: 1.3773478787995956, β: [1.000080799590266]\n",
      "\u001b[32mProgress: 100%|███████████████████████████| Time: 0:00:02 ( 0.82 μs/it)\u001b[39m\n",
      "\u001b[32mProgress: 100%|███████████████████████████| Time: 0:00:00 (31.09 ns/it)\u001b[39m\n",
      "\u001b[38;5;6m\u001b[1m[ \u001b[22m\u001b[39m\u001b[38;5;6m\u001b[1mInfo: \u001b[22m\u001b[39m20220626 11:48:41 test loss: 1.4533899806871615, β: [1.000080799590266]\n",
      "\u001b[32mProgress: 100%|███████████████████████████| Time: 0:00:20 ( 0.75 μs/it)\u001b[39m\n",
      "\u001b[32mProgress: 100%|███████████████████████████| Time: 0:00:02 ( 0.75 μs/it)\u001b[39m\n",
      "\u001b[32mProgress: 100%|███████████████████████████| Time: 0:00:02 ( 0.76 μs/it)\u001b[39m\n",
      "\u001b[32mProgress: 100%|███████████████████████████| Time: 0:00:08 ( 0.74 μs/it)\u001b[39m\n",
      "\u001b[32mProgress: 100%|███████████████████████████| Time: 0:00:00 ( 0.77 μs/it)\u001b[39m\n",
      "\u001b[32mProgress: 100%|███████████████████████████| Time: 0:00:01 ( 0.76 μs/it)\u001b[39m\n",
      "\u001b[32mProgress: 100%|███████████████████████████| Time: 0:00:02 ( 0.52 μs/it)\u001b[39m\n",
      "\u001b[32mProgress: 100%|███████████████████████████| Time: 0:00:02 ( 0.52 μs/it)\u001b[39m\n"
     ]
    }
   ],
   "source": [
    "save_linear_model(explicit_raw_alphas, false, \"LinearExplicit\");"
   ]
  },
  {
   "cell_type": "code",
   "execution_count": 4,
   "id": "e785584f-ed89-4462-aa3c-b62e923b9f56",
   "metadata": {},
   "outputs": [
    {
     "name": "stderr",
     "output_type": "stream",
     "text": [
      "\u001b[32mProgress: 100%|███████████████████████████| Time: 0:00:00 (25.39 ns/it)\u001b[39m\n",
      "\u001b[38;5;6m\u001b[1m[ \u001b[22m\u001b[39m\u001b[38;5;6m\u001b[1mInfo: \u001b[22m\u001b[39m20220626 11:49:51 alphas: [\"UniformBaseline\", \"PopularityBaseline\"]\n",
      "\u001b[38;5;6m\u001b[1m[ \u001b[22m\u001b[39m\u001b[38;5;6m\u001b[1mInfo: \u001b[22m\u001b[39m20220626 11:49:51 coefficients: Float32[1.0087093f-6, 0.9999981, 1.0087035f-6]\n",
      "\u001b[32mProgress: 100%|█████████████████████████████████████████| Time: 0:00:06\u001b[39m\n",
      "\u001b[32mProgress: 100%|███████████████████████████| Time: 0:00:03 ( 0.78 μs/it)\u001b[39m\u0000\u0000\u0000\u0000\u0000\u0000\u0000\u0000\u0000\u0000\u0000\u0000\u0000\u0000\u0000\u0000\u0000\u0000\u0000\u0000\u0000\u0000\u0000\u0000\u0000\u0000\u0000\u0000\u0000\u0000\u0000\u0000\u0000\u0000\u0000\u0000\u0000\u0000\u0000\u0000\u0000\u0000\u0000\u0000\u0000\u0000\u0000\n",
      "\u001b[38;5;6m\u001b[1m[ \u001b[22m\u001b[39m\u001b[38;5;6m\u001b[1mInfo: \u001b[22m\u001b[39m20220626 11:50:42 validation loss: 7.37620788263903, β: Float32[1.4704842f-6, 0.99999857]\n",
      "\u001b[32mProgress: 100%|███████████████████████████| Time: 0:00:29 ( 0.75 μs/it)\u001b[39m\n",
      "\u001b[32mProgress: 100%|███████████████████████████| Time: 0:00:00 ( 8.41 ns/it)\u001b[39m\n",
      "\u001b[38;5;6m\u001b[1m[ \u001b[22m\u001b[39m\u001b[38;5;6m\u001b[1mInfo: \u001b[22m\u001b[39m20220626 11:51:18 training loss: 7.339861048493503, β: Float32[1.4704842f-6, 0.99999857]\n",
      "\u001b[32mProgress: 100%|███████████████████████████| Time: 0:00:03 ( 0.74 μs/it)\u001b[39m\n",
      "\u001b[32mProgress: 100%|███████████████████████████| Time: 0:00:00 (23.35 ns/it)\u001b[39m\n",
      "\u001b[38;5;6m\u001b[1m[ \u001b[22m\u001b[39m\u001b[38;5;6m\u001b[1mInfo: \u001b[22m\u001b[39m20220626 11:51:22 test loss: 7.371901606347447, β: Float32[1.4704842f-6, 0.99999857]\n",
      "\u001b[32mProgress: 100%|███████████████████████████| Time: 0:00:20 ( 0.74 μs/it)\u001b[39m\n",
      "\u001b[32mProgress: 100%|███████████████████████████| Time: 0:00:02 ( 0.74 μs/it)\u001b[39m\n",
      "\u001b[32mProgress: 100%|███████████████████████████| Time: 0:00:02 ( 0.74 μs/it)\u001b[39m\n",
      "\u001b[32mProgress: 100%|███████████████████████████| Time: 0:00:08 ( 0.74 μs/it)\u001b[39m\n",
      "\u001b[32mProgress: 100%|███████████████████████████| Time: 0:00:00 ( 0.76 μs/it)\u001b[39m\n",
      "\u001b[32mProgress: 100%|███████████████████████████| Time: 0:00:01 ( 0.75 μs/it)\u001b[39m\n",
      "\u001b[32mProgress: 100%|███████████████████████████| Time: 0:00:02 ( 0.52 μs/it)\u001b[39m\n",
      "\u001b[32mProgress: 100%|███████████████████████████| Time: 0:00:02 ( 0.51 μs/it)\u001b[39m\n"
     ]
    }
   ],
   "source": [
    "save_linear_model(implicit_raw_alphas, true, \"LinearImplicit\");"
   ]
  }
 ],
 "metadata": {
  "kernelspec": {
   "display_name": "Julia 1.8.0-rc1",
   "language": "julia",
   "name": "julia-1.8"
  },
  "language_info": {
   "file_extension": ".jl",
   "mimetype": "application/julia",
   "name": "julia",
   "version": "1.8.0"
  }
 },
 "nbformat": 4,
 "nbformat_minor": 5
}
