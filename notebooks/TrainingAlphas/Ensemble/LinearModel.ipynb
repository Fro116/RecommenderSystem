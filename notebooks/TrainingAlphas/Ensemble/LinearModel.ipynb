{
 "cells": [
  {
   "cell_type": "markdown",
   "id": "2df5351f-2171-4365-b750-8984d42c5fe5",
   "metadata": {},
   "source": [
    "# LinearModel"
   ]
  },
  {
   "cell_type": "code",
   "execution_count": 1,
   "id": "69b5a19a-24f5-4730-afe2-f451d27d18e3",
   "metadata": {},
   "outputs": [],
   "source": [
    "import SparseArrays: sparse\n",
    "import NBInclude: @nbinclude\n",
    "@nbinclude(\"../Alpha.ipynb\")\n",
    "@nbinclude(\"EnsembleInputs.ipynb\");"
   ]
  },
  {
   "cell_type": "markdown",
   "id": "cab05e4f-60fd-48d4-a3d1-ef6423760396",
   "metadata": {},
   "source": [
    "## Suppress seen shows\n",
    "* Zero out any items the user has already seen and rescale the probablity distribution"
   ]
  },
  {
   "cell_type": "code",
   "execution_count": 2,
   "id": "b831b130-c220-4ec7-abe0-5dcda229ffa2",
   "metadata": {},
   "outputs": [],
   "source": [
    "function get_seen_probabilities(alpha::String)\n",
    "    if alpha in implicit_raw_alphas\n",
    "        content = \"implicit\"\n",
    "    elseif alpha in ptw_raw_alphas\n",
    "        content = \"ptw\"\n",
    "    else\n",
    "        @assert false\n",
    "    end\n",
    "    df = read_alpha(alpha, \"training\", content)\n",
    "    p_seen = zeros(Float32, num_users(), Threads.nthreads())\n",
    "    Threads.@threads for i = 1:length(df.user)\n",
    "        p_seen[df.user[i], Threads.threadid()] += df.rating[i]\n",
    "    end\n",
    "    vec(sum(p_seen, dims = 2))\n",
    "end\n",
    "\n",
    "function read_raw_alpha(alpha::String, split::String, content::String)\n",
    "    suppress = (split != \"training\") && (alpha in [implicit_raw_alphas; ptw_raw_alphas])\n",
    "    if !suppress\n",
    "        return read_raw_alpha_impl(alpha, split, content)\n",
    "    end\n",
    "    ϵ = sqrt(eps(Float32))\n",
    "    df = get_raw_split(split, content; fields = [:user])\n",
    "    ratings = read_raw_alpha_impl(alpha, split, content).rating\n",
    "    # zero out any items the user has already seen\n",
    "    p_seen = get_seen_probabilities(alpha)\n",
    "    Threads.@threads for i = 1:length(ratings)\n",
    "        if 1 - p_seen[df.user[i]] > ϵ\n",
    "            ratings[i] /= 1 - p_seen[df.user[i]]\n",
    "        end\n",
    "    end\n",
    "    RatingsDataset(rating = ratings)\n",
    "end;"
   ]
  },
  {
   "cell_type": "markdown",
   "id": "add8b6e4-e53d-4f2b-9183-df18f637b182",
   "metadata": {},
   "source": [
    "## Save predictions"
   ]
  },
  {
   "cell_type": "code",
   "execution_count": 3,
   "id": "e14bda77-a7a8-4e50-b6c6-7a0f07ee4e46",
   "metadata": {},
   "outputs": [],
   "source": [
    "function save_linear_model(alphas::Vector{String}, content::String, outdir::String)\n",
    "    if content == \"explicit\"\n",
    "        implicit = false\n",
    "    elseif content in [\"implicit\", \"ptw\"]\n",
    "        implicit = true\n",
    "    else\n",
    "        @assert false\n",
    "    end\n",
    "    set_logging_outdir(outdir)\n",
    "    _, β = regress(alphas, content, implicit)\n",
    "    @info \"alphas: $alphas\"\n",
    "    @info \"coefficients: $β\"\n",
    "    write_params(Dict(\"β\" => β, \"alphas\" => alphas), outdir)\n",
    "\n",
    "    function model(split::String, content::String; raw_splits::Bool)\n",
    "        read_fn = raw_splits ? read_raw_alpha : read_alpha\n",
    "        Xs = [read_fn(alpha, split, content).rating for alpha in alphas]\n",
    "        if implicit\n",
    "            push!(Xs, fill(1.0f0 / num_items(), length(Xs[1])))\n",
    "        end\n",
    "        X = hcat(Xs...)\n",
    "        y = X * β\n",
    "        vec(y)\n",
    "    end\n",
    "    write_alpha(\n",
    "        model,\n",
    "        outdir;\n",
    "        by_split = true,\n",
    "        log = true,\n",
    "        log_alphas = String[],\n",
    "        log_content = content,\n",
    "        log_splits = [\"validation\", \"test\"],\n",
    "    )\n",
    "end;"
   ]
  },
  {
   "cell_type": "code",
   "execution_count": 4,
   "id": "fe4ad27b-d09d-4679-8632-fc880fa82503",
   "metadata": {},
   "outputs": [
    {
     "name": "stderr",
     "output_type": "stream",
     "text": [
      "\u001b[38;5;6m\u001b[1m[ \u001b[22m\u001b[39m\u001b[38;5;6m\u001b[1mInfo: \u001b[22m\u001b[39m20220828 19:49:48 alphas: [\"ExplicitUserItemBiases\", \"NeuralExplicitAutoencoderUntuned\"]\n",
      "\u001b[38;5;6m\u001b[1m[ \u001b[22m\u001b[39m\u001b[38;5;6m\u001b[1mInfo: \u001b[22m\u001b[39m20220828 19:49:48 coefficients: Float32[1.0496258, 0.7263953]\n",
      "\u001b[38;5;6m\u001b[1m[ \u001b[22m\u001b[39m\u001b[38;5;6m\u001b[1mInfo: \u001b[22m\u001b[39m20220828 19:49:52 validation loss: 1.7381309, β: Float32[1.000004]\n",
      "\u001b[38;5;6m\u001b[1m[ \u001b[22m\u001b[39m\u001b[38;5;6m\u001b[1mInfo: \u001b[22m\u001b[39m20220828 19:49:53 test loss: 1.741148, β: Float32[1.000004]\n"
     ]
    }
   ],
   "source": [
    "save_linear_model(explicit_raw_alphas, \"explicit\", \"LinearExplicit\");"
   ]
  },
  {
   "cell_type": "code",
   "execution_count": 5,
   "id": "e785584f-ed89-4462-aa3c-b62e923b9f56",
   "metadata": {},
   "outputs": [
    {
     "name": "stderr",
     "output_type": "stream",
     "text": [
      "\u001b[38;5;6m\u001b[1m[ \u001b[22m\u001b[39m\u001b[38;5;6m\u001b[1mInfo: \u001b[22m\u001b[39m20220828 19:51:31 alphas: [\"NeuralImplicitItemBiases\", \"NeuralImplicitAutoencoderUntuned\"]\n",
      "\u001b[38;5;6m\u001b[1m[ \u001b[22m\u001b[39m\u001b[38;5;6m\u001b[1mInfo: \u001b[22m\u001b[39m20220828 19:51:31 coefficients: Float32[0.14596194, 0.8540367, 1.4226254f-6]\n",
      "\u001b[38;5;6m\u001b[1m[ \u001b[22m\u001b[39m\u001b[38;5;6m\u001b[1mInfo: \u001b[22m\u001b[39m20220828 19:52:24 validation loss: 6.586966, β: Float32[8.50817f-7, 0.99999917]\n",
      "\u001b[38;5;6m\u001b[1m[ \u001b[22m\u001b[39m\u001b[38;5;6m\u001b[1mInfo: \u001b[22m\u001b[39m20220828 19:53:03 test loss: 6.585931, β: Float32[8.50817f-7, 0.99999917]\n"
     ]
    }
   ],
   "source": [
    "save_linear_model(implicit_raw_alphas, \"implicit\", \"LinearImplicit\");"
   ]
  },
  {
   "cell_type": "code",
   "execution_count": 6,
   "id": "87d52e6c-48de-4343-84f2-e433ae1086f3",
   "metadata": {},
   "outputs": [
    {
     "name": "stderr",
     "output_type": "stream",
     "text": [
      "\u001b[38;5;6m\u001b[1m[ \u001b[22m\u001b[39m\u001b[38;5;6m\u001b[1mInfo: \u001b[22m\u001b[39m20220828 19:56:19 alphas: [\"NeuralPtwItemBiases\", \"NeuralPtwAutoencoderUntuned\"]\n",
      "\u001b[38;5;6m\u001b[1m[ \u001b[22m\u001b[39m\u001b[38;5;6m\u001b[1mInfo: \u001b[22m\u001b[39m20220828 19:56:19 coefficients: Float32[0.3110793, 0.68877864, 0.00014203173]\n",
      "\u001b[38;5;6m\u001b[1m[ \u001b[22m\u001b[39m\u001b[38;5;6m\u001b[1mInfo: \u001b[22m\u001b[39m20220828 19:56:27 validation loss: 7.356245, β: Float32[1.9048655f-5, 0.9999809]\n",
      "\u001b[38;5;6m\u001b[1m[ \u001b[22m\u001b[39m\u001b[38;5;6m\u001b[1mInfo: \u001b[22m\u001b[39m20220828 19:56:32 test loss: 7.357166, β: Float32[1.9048655f-5, 0.9999809]\n"
     ]
    }
   ],
   "source": [
    "save_linear_model(ptw_raw_alphas, \"ptw\", \"LinearPtw\");"
   ]
  }
 ],
 "metadata": {
  "kernelspec": {
   "display_name": "Julia 1.8.0-rc1",
   "language": "julia",
   "name": "julia-1.8"
  },
  "language_info": {
   "file_extension": ".jl",
   "mimetype": "application/julia",
   "name": "julia",
   "version": "1.8.0"
  }
 },
 "nbformat": 4,
 "nbformat_minor": 5
}
