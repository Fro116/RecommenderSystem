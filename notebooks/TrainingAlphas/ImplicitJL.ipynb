{
 "cells": [
  {
   "cell_type": "markdown",
   "id": "b804fb2c-fa3e-450b-ae9b-c1d63eed22a5",
   "metadata": {},
   "source": [
    "# Implicit Julia\n",
    "* Converts the model created by the implicit package into Julia"
   ]
  },
  {
   "cell_type": "code",
   "execution_count": 1,
   "id": "0e067a03-8a6e-48bf-b81c-a5c2dba91830",
   "metadata": {},
   "outputs": [],
   "source": [
    "name = \"Implicit\";\n",
    "residual_alphas = [];"
   ]
  },
  {
   "cell_type": "code",
   "execution_count": 2,
   "id": "bf5b4775-a85e-4513-aad4-972d15d5db87",
   "metadata": {},
   "outputs": [],
   "source": [
    "using DelimitedFiles\n",
    "using GZip"
   ]
  },
  {
   "cell_type": "code",
   "execution_count": 3,
   "id": "50c66d09-a194-43ab-87c2-3cc165fa6601",
   "metadata": {},
   "outputs": [],
   "source": [
    "using NBInclude\n",
    "@nbinclude(\"Alpha.ipynb\");"
   ]
  },
  {
   "cell_type": "code",
   "execution_count": 4,
   "id": "5d9423d2-ef1d-4496-ae97-cdac4da5d09c",
   "metadata": {},
   "outputs": [],
   "source": [
    "BLAS.set_num_threads(Threads.nthreads())"
   ]
  },
  {
   "cell_type": "code",
   "execution_count": 5,
   "id": "5262a3c7-8749-49f9-89ee-4c03eb5f2d54",
   "metadata": {
    "tags": []
   },
   "outputs": [],
   "source": [
    "item_factors = readdlm(GZip.open(\"../../data/alphas/Implicit/als_item_factors.csv.gz\"), ',')\n",
    "user_factors =\n",
    "    collect(readdlm(GZip.open(\"../../data/alphas/Implicit/als_user_factors.csv.gz\"), ',')');"
   ]
  },
  {
   "cell_type": "code",
   "execution_count": 6,
   "id": "41c676c9-5b30-4bb5-a8a1-2cc0acc9b187",
   "metadata": {},
   "outputs": [],
   "source": [
    "user_factors =\n",
    "    collect(readdlm(GZip.open(\"../../data/alphas/Implicit/als_user_factors.csv.gz\"), ',')');"
   ]
  },
  {
   "cell_type": "code",
   "execution_count": 7,
   "id": "8825b5b5-5a22-4334-b3c6-8e600899637b",
   "metadata": {},
   "outputs": [
    {
     "data": {
      "text/plain": [
       "pred (generic function with 1 method)"
      ]
     },
     "execution_count": 7,
     "metadata": {},
     "output_type": "execute_result"
    }
   ],
   "source": [
    "function pred(u, i)\n",
    "    raw = item_factors * user_factors[:, u]\n",
    "    clamp!(raw, 1e-20, Inf)\n",
    "    raw = raw ./ sum(raw)\n",
    "    raw[i]\n",
    "end"
   ]
  },
  {
   "cell_type": "code",
   "execution_count": 8,
   "id": "5ebe4133-3109-4f9a-849a-273c54660ff2",
   "metadata": {},
   "outputs": [
    {
     "data": {
      "text/plain": [
       "make_prediction (generic function with 1 method)"
      ]
     },
     "execution_count": 8,
     "metadata": {},
     "output_type": "execute_result"
    }
   ],
   "source": [
    "function make_prediction(users, items)\n",
    "    p = zeros(length(users))\n",
    "    @tprogress Threads.@threads for u in collect(Set(users))\n",
    "        mask = users .== u\n",
    "        p[mask] .= pred(u, items[mask])\n",
    "    end\n",
    "    p\n",
    "end"
   ]
  },
  {
   "cell_type": "code",
   "execution_count": 11,
   "id": "4fe59709-e5be-460b-807a-e1fc91b04613",
   "metadata": {},
   "outputs": [
    {
     "name": "stderr",
     "output_type": "stream",
     "text": [
      "\u001b[32mProgress: 100%|███████████████████████████| Time: 0:21:19 (18.73 ms/it)\u001b[39mm\n",
      "\u001b[38;5;6m\u001b[1m[ \u001b[22m\u001b[39m\u001b[38;5;6m\u001b[1mInfo: \u001b[22m\u001b[39m20220312 14:07:57 validation set: Cross-Entropy loss 7.287955894055533\n",
      "\u001b[32mProgress: 100%|███████████████████████████| Time: 0:21:14 (18.66 ms/it)\u001b[39m\n"
     ]
    }
   ],
   "source": [
    "write_predictions(make_prediction, residual_alphas = [], outdir = name, implicit = true)"
   ]
  },
  {
   "cell_type": "code",
   "execution_count": null,
   "id": "ea944f06-5bdc-4695-bdc5-45caf7cc200f",
   "metadata": {},
   "outputs": [],
   "source": []
  }
 ],
 "metadata": {
  "kernelspec": {
   "display_name": "Julia 1.6.3",
   "language": "julia",
   "name": "julia-1.6"
  },
  "language_info": {
   "file_extension": ".jl",
   "mimetype": "application/julia",
   "name": "julia",
   "version": "1.6.3"
  }
 },
 "nbformat": 4,
 "nbformat_minor": 5
}
