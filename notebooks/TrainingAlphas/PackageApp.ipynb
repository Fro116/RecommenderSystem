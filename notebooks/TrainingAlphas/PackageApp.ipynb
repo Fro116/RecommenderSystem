{
 "cells": [
  {
   "cell_type": "code",
   "execution_count": null,
   "id": "a3da5a25-ce34-45cf-85d3-31affed64b9a",
   "metadata": {},
   "outputs": [],
   "source": [
    "function copy(src)\n",
    "    dst = \"$outdir/$src\"\n",
    "    if !ispath(dirname(dst))\n",
    "        mkpath(dirname(dst))\n",
    "    end\n",
    "    cp(src, dst, force = true)\n",
    "end;"
   ]
  },
  {
   "cell_type": "code",
   "execution_count": null,
   "id": "b347c2ea-49e6-4f62-91a6-436d2422866a",
   "metadata": {},
   "outputs": [],
   "source": [
    "cd(\"../../\")\n",
    "outdir = \"app\"\n",
    "if ispath(outdir)\n",
    "    rm(outdir, recursive = true)\n",
    "end\n",
    "mkdir(outdir);"
   ]
  },
  {
   "cell_type": "code",
   "execution_count": null,
   "id": "29e38853-354b-4262-bc75-7618b27a9e48",
   "metadata": {},
   "outputs": [],
   "source": [
    "copy(\"notebooks\")\n",
    "copy(\"environment\")\n",
    "copy(\"data/processed_data\")\n",
    "copy(\"data/alphas/all/Transformer/v1/0\");"
   ]
  },
  {
   "cell_type": "code",
   "execution_count": null,
   "id": "010002fb-7572-479e-a63d-d8910ee70558",
   "metadata": {},
   "outputs": [],
   "source": [
    "for medium in [\"manga\", \"anime\"]\n",
    "    copy(\"data/alphas/$medium/Transformer/v1/model.pt\")\n",
    "    for metric in [\"watch\", \"rating\", \"plantowatch\", \"drop\"]\n",
    "        copy(\"data/alphas/$medium/BagOfWords/v1/$metric/model.pt\")\n",
    "        copy(\"data/alphas/$medium/BagOfWords/v1/$metric/config.json\")\n",
    "    end\n",
    "    copy(\"data/alphas/$medium/Baseline/rating/params.jld2\")\n",
    "end;"
   ]
  }
 ],
 "metadata": {
  "kernelspec": {
   "display_name": "Julia 1.9.4",
   "language": "julia",
   "name": "julia-1.9"
  },
  "language_info": {
   "file_extension": ".jl",
   "mimetype": "application/julia",
   "name": "julia",
   "version": "1.9.4"
  }
 },
 "nbformat": 4,
 "nbformat_minor": 5
}
