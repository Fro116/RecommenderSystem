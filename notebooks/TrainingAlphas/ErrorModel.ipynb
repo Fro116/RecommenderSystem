{
 "cells": [
  {
   "cell_type": "markdown",
   "id": "2df5351f-2171-4365-b750-8984d42c5fe5",
   "metadata": {},
   "source": [
    "# ErrorModel\n",
    "* Uses LightGBM to estimate the error for a given (user, item) prediction"
   ]
  },
  {
   "cell_type": "code",
   "execution_count": 1,
   "id": "69b5a19a-24f5-4730-afe2-f451d27d18e3",
   "metadata": {},
   "outputs": [
    {
     "name": "stderr",
     "output_type": "stream",
     "text": [
      "┌ Info: lib_lightgbm not found in system dirs, trying fallback\n",
      "└ @ LightGBM /Users/kundan/.julia/packages/LightGBM/A7zVd/src/LightGBM.jl:25\n"
     ]
    }
   ],
   "source": [
    "import NBInclude: @nbinclude\n",
    "@nbinclude(\"TreeModelBase.ipynb\");"
   ]
  },
  {
   "cell_type": "code",
   "execution_count": 4,
   "id": "517ce91a-bf09-446a-8be9-a7c5bbe0c0f3",
   "metadata": {
    "collapsed": true,
    "jupyter": {
     "outputs_hidden": true
    },
    "tags": []
   },
   "outputs": [
    {
     "name": "stderr",
     "output_type": "stream",
     "text": [
      "\u001b[32mProgress: 100%|███████████████████████████| Time: 0:00:01 ( 0.30 μs/it)\u001b[39m39m\n"
     ]
    },
    {
     "name": "stdout",
     "output_type": "stream",
     "text": [
      "[LightGBM] [Warning] Auto-choosing row-wise multi-threading, the overhead of testing was 0.025352 seconds.\n",
      "You can set `force_row_wise=true` to remove the overhead.\n",
      "And if memory is not enough, you can set `force_col_wise=true`.\n",
      "[LightGBM] [Info] Total Bins 510\n",
      "[LightGBM] [Info] Number of data points in the train set: 15175754, number of used features: 2\n",
      "[LightGBM] [Info] Start training from score 1.813015\n",
      "Iteration: 1, test_1's l2: 15.689227234952426\n",
      "Iteration: 2, test_1's l2: 15.6228470945707\n",
      "Iteration: 3, test_1's l2: 15.569977456787438\n",
      "Iteration: 4, test_1's l2: 15.527086674744874\n",
      "Iteration: 5, test_1's l2: 15.493177462568308\n",
      "Iteration: 6, test_1's l2: 15.465710293641855\n",
      "Iteration: 7, test_1's l2: 15.443726725014985\n",
      "Iteration: 8, test_1's l2: 15.426814327636501\n",
      "Iteration: 9, test_1's l2: 15.413177431255773\n",
      "Iteration: 10, test_1's l2: 15.40260431422285\n",
      "Iteration: 11, test_1's l2: 15.39402708725326\n",
      "Iteration: 12, test_1's l2: 15.386961167898551\n",
      "Iteration: 13, test_1's l2: 15.38243327509974\n",
      "Iteration: 14, test_1's l2: 15.379070919993664\n",
      "Iteration: 15, test_1's l2: 15.37642116628891\n",
      "Iteration: 16, test_1's l2: 15.374347587154\n",
      "Iteration: 17, test_1's l2: 15.373551112756001\n",
      "Iteration: 18, test_1's l2: 15.372450916220496\n",
      "Iteration: 19, test_1's l2: 15.371956537330734\n",
      "Iteration: 20, test_1's l2: 15.3721899699437\n",
      "Iteration: 21, test_1's l2: 15.371879384452582\n",
      "Iteration: 22, test_1's l2: 15.372328640710313\n",
      "Iteration: 23, test_1's l2: 15.37248351946969\n",
      "Iteration: 24, test_1's l2: 15.373184152605429\n",
      "Iteration: 25, test_1's l2: 15.373296631398802\n",
      "Iteration: 26, test_1's l2: 15.373927499819274\n",
      "Iteration: 27, test_1's l2: 15.374498826806828\n",
      "Iteration: 28, test_1's l2: 15.375230059279025\n",
      "Iteration: 29, test_1's l2: 15.375915464934362\n",
      "Iteration: 30, test_1's l2: 15.37623375835865\n",
      "Early stopping at iteration 31, the best iteration round is 21\n"
     ]
    },
    {
     "name": "stderr",
     "output_type": "stream",
     "text": [
      "\u001b[32mProgress: 100%|███████████████████████████| Time: 0:00:02 ( 0.76 μs/it)\u001b[39m\n",
      "\u001b[32mProgress: 100%|███████████████████████████| Time: 0:00:21 ( 0.62 μs/it)\u001b[39m\n",
      "\u001b[32mProgress: 100%|███████████████████████████| Time: 0:00:03 ( 0.72 μs/it)\u001b[39m\n",
      "\u001b[32mProgress: 100%|███████████████████████████| Time: 0:00:03 ( 0.69 μs/it)\u001b[39m\n"
     ]
    }
   ],
   "source": [
    "train_model(\n",
    "    [\"SimpleAverage\", \"SimpleExplicitBaseline\", \"UserItemBiases\"],\n",
    "    \"NonlinearExplicit\",\n",
    "    false,\n",
    "    \"ErrorExplicit\",\n",
    "    true,\n",
    ");"
   ]
  },
  {
   "cell_type": "code",
   "execution_count": 14,
   "id": "765ef7e7-abf6-432e-b55d-2eea75753f32",
   "metadata": {
    "collapsed": true,
    "jupyter": {
     "outputs_hidden": true
    },
    "tags": []
   },
   "outputs": [
    {
     "name": "stdout",
     "output_type": "stream",
     "text": [
      "[LightGBM] [Warning] Auto-choosing row-wise multi-threading, the overhead of testing was 0.075603 seconds.\n",
      "You can set `force_row_wise=true` to remove the overhead.\n",
      "And if memory is not enough, you can set `force_col_wise=true`.\n",
      "[LightGBM] [Info] Total Bins 253\n",
      "[LightGBM] [Info] Number of data points in the train set: 20711239, number of used features: 2\n",
      "[LightGBM] [Info] Start training from score 0.009735\n",
      "[LightGBM] [Warning] No further splits with positive gain, best gain: -inf\n",
      "Iteration: 1, test_1's l2: 0.0039001537809945333\n",
      "[LightGBM] [Warning] No further splits with positive gain, best gain: -inf\n",
      "Iteration: 2, test_1's l2: 0.0038927527969565027\n",
      "[LightGBM] [Warning] No further splits with positive gain, best gain: -inf\n",
      "Iteration: 3, test_1's l2: 0.0038867588493170196\n",
      "[LightGBM] [Warning] No further splits with positive gain, best gain: -inf\n",
      "Iteration: 4, test_1's l2: 0.0038818991321791793\n",
      "[LightGBM] [Warning] No further splits with positive gain, best gain: -inf\n",
      "Iteration: 5, test_1's l2: 0.0038779680921139587\n",
      "[LightGBM] [Warning] No further splits with positive gain, best gain: -inf\n",
      "Iteration: 6, test_1's l2: 0.003874788941216922\n",
      "[LightGBM] [Warning] No further splits with positive gain, best gain: -inf\n",
      "Iteration: 7, test_1's l2: 0.003872208117443187\n",
      "[LightGBM] [Warning] No further splits with positive gain, best gain: -inf\n",
      "Iteration: 8, test_1's l2: 0.0038701235709195235\n",
      "[LightGBM] [Warning] No further splits with positive gain, best gain: -inf\n",
      "Iteration: 9, test_1's l2: 0.0038684379966502534\n",
      "[LightGBM] [Warning] No further splits with positive gain, best gain: -inf\n",
      "Iteration: 10, test_1's l2: 0.0038670711453495\n",
      "[LightGBM] [Warning] No further splits with positive gain, best gain: -inf\n",
      "Iteration: 11, test_1's l2: 0.003865963121102468\n",
      "[LightGBM] [Warning] No further splits with positive gain, best gain: -inf\n",
      "Iteration: 12, test_1's l2: 0.0038650642113114385\n",
      "[LightGBM] [Warning] No further splits with positive gain, best gain: -inf\n",
      "Iteration: 13, test_1's l2: 0.0038643396453093737\n",
      "[LightGBM] [Warning] No further splits with positive gain, best gain: -inf\n",
      "Iteration: 14, test_1's l2: 0.003863751636745242\n",
      "[LightGBM] [Warning] No further splits with positive gain, best gain: -inf\n",
      "Iteration: 15, test_1's l2: 0.003863273590325195\n",
      "[LightGBM] [Warning] No further splits with positive gain, best gain: -inf\n",
      "Iteration: 16, test_1's l2: 0.0038628894119579773\n",
      "[LightGBM] [Warning] No further splits with positive gain, best gain: -inf\n",
      "Iteration: 17, test_1's l2: 0.003862575379945128\n",
      "[LightGBM] [Warning] No further splits with positive gain, best gain: -inf\n",
      "Iteration: 18, test_1's l2: 0.0038623239578347104\n",
      "[LightGBM] [Warning] No further splits with positive gain, best gain: -inf\n",
      "Iteration: 19, test_1's l2: 0.003862119362214648\n",
      "[LightGBM] [Warning] No further splits with positive gain, best gain: -inf\n",
      "Iteration: 20, test_1's l2: 0.0038619522705287705\n",
      "[LightGBM] [Warning] No further splits with positive gain, best gain: -inf\n",
      "Iteration: 21, test_1's l2: 0.003861817248112444\n",
      "[LightGBM] [Warning] No further splits with positive gain, best gain: -inf\n",
      "Iteration: 22, test_1's l2: 0.0038617060040671562\n",
      "[LightGBM] [Warning] No further splits with positive gain, best gain: -inf\n",
      "Iteration: 23, test_1's l2: 0.003861617733037019\n",
      "[LightGBM] [Warning] No further splits with positive gain, best gain: -inf\n",
      "Iteration: 24, test_1's l2: 0.0038615472378288832\n",
      "[LightGBM] [Warning] No further splits with positive gain, best gain: -inf\n",
      "Iteration: 25, test_1's l2: 0.003861489591758774\n",
      "[LightGBM] [Warning] No further splits with positive gain, best gain: -inf\n",
      "Iteration: 26, test_1's l2: 0.0038614426112672886\n",
      "[LightGBM] [Warning] No further splits with positive gain, best gain: -inf\n",
      "Iteration: 27, test_1's l2: 0.003861404490710791\n",
      "[LightGBM] [Warning] No further splits with positive gain, best gain: -inf\n",
      "Iteration: 28, test_1's l2: 0.003861373729032139\n",
      "[LightGBM] [Warning] No further splits with positive gain, best gain: -inf\n",
      "Iteration: 29, test_1's l2: 0.0038613468228735617\n",
      "[LightGBM] [Warning] No further splits with positive gain, best gain: -inf\n",
      "Iteration: 30, test_1's l2: 0.0038613267710996125\n",
      "[LightGBM] [Warning] No further splits with positive gain, best gain: -inf\n",
      "Iteration: 31, test_1's l2: 0.00386131088626903\n",
      "[LightGBM] [Warning] No further splits with positive gain, best gain: -inf\n",
      "Iteration: 32, test_1's l2: 0.003861300124390986\n",
      "[LightGBM] [Warning] No further splits with positive gain, best gain: -inf\n",
      "Iteration: 33, test_1's l2: 0.0038612899433280367\n",
      "[LightGBM] [Warning] No further splits with positive gain, best gain: -inf\n",
      "Iteration: 34, test_1's l2: 0.0038612801874009467\n",
      "[LightGBM] [Warning] No further splits with positive gain, best gain: -inf\n",
      "Iteration: 35, test_1's l2: 0.0038612735255755823\n",
      "[LightGBM] [Warning] No further splits with positive gain, best gain: -inf\n",
      "Iteration: 36, test_1's l2: 0.0038612675143737158\n",
      "[LightGBM] [Warning] No further splits with positive gain, best gain: -inf\n",
      "Iteration: 37, test_1's l2: 0.003861261359875432\n",
      "[LightGBM] [Warning] No further splits with positive gain, best gain: -inf\n",
      "Iteration: 38, test_1's l2: 0.0038612578598456004\n",
      "[LightGBM] [Warning] No further splits with positive gain, best gain: -inf\n",
      "Iteration: 39, test_1's l2: 0.0038612548020479794\n",
      "[LightGBM] [Warning] No further splits with positive gain, best gain: -inf\n",
      "Iteration: 40, test_1's l2: 0.003861252365503694\n",
      "[LightGBM] [Warning] No further splits with positive gain, best gain: -inf\n",
      "Iteration: 41, test_1's l2: 0.0038612499798548828\n",
      "[LightGBM] [Warning] No further splits with positive gain, best gain: -inf\n",
      "Iteration: 42, test_1's l2: 0.0038612480038908385\n",
      "[LightGBM] [Warning] No further splits with positive gain, best gain: -inf\n",
      "Iteration: 43, test_1's l2: 0.0038612461028580945\n",
      "[LightGBM] [Warning] No further splits with positive gain, best gain: -inf\n",
      "Iteration: 44, test_1's l2: 0.0038612452241826188\n",
      "[LightGBM] [Warning] No further splits with positive gain, best gain: -inf\n",
      "Iteration: 45, test_1's l2: 0.0038612449567918933\n",
      "[LightGBM] [Warning] No further splits with positive gain, best gain: -inf\n",
      "Iteration: 46, test_1's l2: 0.0038612450314403158\n",
      "[LightGBM] [Warning] No further splits with positive gain, best gain: -inf\n",
      "Iteration: 47, test_1's l2: 0.0038612449462927076\n",
      "[LightGBM] [Warning] No further splits with positive gain, best gain: -inf\n",
      "Iteration: 48, test_1's l2: 0.0038612434804200313\n",
      "[LightGBM] [Warning] No further splits with positive gain, best gain: -inf\n",
      "Iteration: 49, test_1's l2: 0.0038612434897870003\n",
      "[LightGBM] [Warning] No further splits with positive gain, best gain: -inf\n",
      "Iteration: 50, test_1's l2: 0.0038612424295108123\n",
      "[LightGBM] [Warning] No further splits with positive gain, best gain: -inf\n",
      "Iteration: 51, test_1's l2: 0.003861243637128556\n",
      "[LightGBM] [Warning] No further splits with positive gain, best gain: -inf\n",
      "Iteration: 52, test_1's l2: 0.0038612433471784217\n",
      "[LightGBM] [Warning] No further splits with positive gain, best gain: -inf\n",
      "Iteration: 53, test_1's l2: 0.0038612437545780974\n",
      "[LightGBM] [Warning] No further splits with positive gain, best gain: -inf\n",
      "Iteration: 54, test_1's l2: 0.0038612433863989093\n",
      "[LightGBM] [Warning] No further splits with positive gain, best gain: -inf\n",
      "Iteration: 55, test_1's l2: 0.003861242201703647\n",
      "[LightGBM] [Warning] No further splits with positive gain, best gain: -inf\n",
      "Iteration: 56, test_1's l2: 0.0038612418483751658\n",
      "[LightGBM] [Warning] No further splits with positive gain, best gain: -inf\n",
      "Iteration: 57, test_1's l2: 0.0038612423043769277\n",
      "[LightGBM] [Warning] No further splits with positive gain, best gain: -inf\n",
      "Iteration: 58, test_1's l2: 0.0038612409853587123\n",
      "[LightGBM] [Warning] No further splits with positive gain, best gain: -inf\n",
      "Iteration: 59, test_1's l2: 0.003861242484701595\n",
      "[LightGBM] [Warning] No further splits with positive gain, best gain: -inf\n",
      "Iteration: 60, test_1's l2: 0.0038612441676007473\n",
      "[LightGBM] [Warning] No further splits with positive gain, best gain: -inf\n",
      "Iteration: 61, test_1's l2: 0.0038612457802873396\n",
      "[LightGBM] [Warning] No further splits with positive gain, best gain: -inf\n",
      "Iteration: 62, test_1's l2: 0.0038612451298006274\n",
      "[LightGBM] [Warning] No further splits with positive gain, best gain: -inf\n",
      "Iteration: 63, test_1's l2: 0.003861245505029962\n",
      "[LightGBM] [Warning] No further splits with positive gain, best gain: -inf\n",
      "Iteration: 64, test_1's l2: 0.003861246079755308\n",
      "[LightGBM] [Warning] No further splits with positive gain, best gain: -inf\n",
      "Iteration: 65, test_1's l2: 0.00386124615207396\n",
      "[LightGBM] [Warning] No further splits with positive gain, best gain: -inf\n",
      "Iteration: 66, test_1's l2: 0.003861246970025699\n",
      "[LightGBM] [Warning] No further splits with positive gain, best gain: -inf\n",
      "Iteration: 67, test_1's l2: 0.0038612460644655224\n",
      "[LightGBM] [Warning] No further splits with positive gain, best gain: -inf\n",
      "Early stopping at iteration 68, the best iteration round is 58\n"
     ]
    },
    {
     "name": "stderr",
     "output_type": "stream",
     "text": [
      "\u001b[32mProgress: 100%|███████████████████████████| Time: 0:00:03 ( 0.76 μs/it)\u001b[39m\n",
      "\u001b[32mProgress: 100%|███████████████████████████| Time: 0:00:31 ( 0.67 μs/it)\u001b[39m\n",
      "\u001b[32mProgress: 100%|███████████████████████████| Time: 0:00:04 ( 0.74 μs/it)\u001b[39m\n",
      "\u001b[32mProgress: 100%|███████████████████████████| Time: 0:00:03 ( 0.68 μs/it)\u001b[39m\n"
     ]
    }
   ],
   "source": [
    "train_model(\n",
    "    [\"UniformBaseline\", \"PopularityBaseline\"],\n",
    "    \"LinearImplicit\",\n",
    "    true,\n",
    "    \"ErrorImplicit\",\n",
    "    true,\n",
    ");"
   ]
  }
 ],
 "metadata": {
  "kernelspec": {
   "display_name": "Julia 1.7.3",
   "language": "julia",
   "name": "julia-1.7"
  },
  "language_info": {
   "file_extension": ".jl",
   "mimetype": "application/julia",
   "name": "julia",
   "version": "1.7.3"
  }
 },
 "nbformat": 4,
 "nbformat_minor": 5
}
