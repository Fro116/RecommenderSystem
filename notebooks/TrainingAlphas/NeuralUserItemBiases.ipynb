{
 "cells": [
  {
   "cell_type": "code",
   "execution_count": null,
   "id": "d3ef15a8-4209-4fdc-afb6-ebcbd5e79a5a",
   "metadata": {},
   "outputs": [],
   "source": [
    "import NBInclude: @nbinclude\n",
    "@nbinclude(\"NeuralNetworkBase.ipynb\");"
   ]
  },
  {
   "cell_type": "code",
   "execution_count": null,
   "id": "bd3715b5-8feb-4ea0-901f-f36212e1dc47",
   "metadata": {},
   "outputs": [],
   "source": [
    "base_params = Hyperparams(\n",
    "    implicit = false,\n",
    "    model = \"user_item_biases\",\n",
    "    batch_size = 1024,\n",
    "    input_data = \"one_hot\",\n",
    "    user_sampling_scheme = \"constant\",\n",
    "    learning_rate = 0.01,\n",
    "    optimizer = \"ADAM\",\n",
    "    seed = 20220524,\n",
    "    num_users = num_users(),\n",
    "    item_weight_decay = 0,\n",
    "    regularization_params = Float32[1, 1],\n",
    "    residual_alphas = [],\n",
    "    residual_beta = 0,\n",
    "    user_weight_decay = 0,\n",
    ");"
   ]
  },
  {
   "cell_type": "code",
   "execution_count": null,
   "id": "136e0e2f-1993-4947-8cba-099ed285e953",
   "metadata": {},
   "outputs": [],
   "source": [
    "explicit_params = @set base_params.implicit = false\n",
    "train_alpha(explicit_params, \"NeuralExplicitUserItemBiases\")"
   ]
  },
  {
   "cell_type": "code",
   "execution_count": null,
   "id": "10724e19-bc6e-41d2-ba41-2d226c0af8bf",
   "metadata": {},
   "outputs": [],
   "source": [
    "implicit_params = @set base_params.implicit = true\n",
    "train_alpha(implicit_params, \"NeuralImplicitUserItemBiases\")"
   ]
  }
 ],
 "metadata": {
  "kernelspec": {
   "display_name": "Julia 1.7.3",
   "language": "julia",
   "name": "julia-1.7"
  },
  "language_info": {
   "file_extension": ".jl",
   "mimetype": "application/julia",
   "name": "julia",
   "version": "1.7.3"
  }
 },
 "nbformat": 4,
 "nbformat_minor": 5
}
