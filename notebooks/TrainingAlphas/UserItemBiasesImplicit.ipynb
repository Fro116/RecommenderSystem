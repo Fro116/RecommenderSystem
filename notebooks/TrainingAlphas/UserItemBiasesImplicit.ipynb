{
 "cells": [
  {
   "cell_type": "markdown",
   "id": "c3758ece-9b72-47b4-ae6a-aa364e0443e3",
   "metadata": {},
   "source": [
    "# User Item Biases With Regularization\n",
    "* This alpha is equivalent to the explicit version, except \n",
    "  we use cross-entropy loss insead of mean squared error\n",
    "* See UserItemBiases.ipynb for more details"
   ]
  },
  {
   "cell_type": "code",
   "execution_count": null,
   "id": "7cc9334a-2287-41d6-885b-a5cca94fe263",
   "metadata": {},
   "outputs": [],
   "source": [
    "const name = \"UserItemBiases\"\n",
    "const residual_alphas = [];"
   ]
  },
  {
   "cell_type": "code",
   "execution_count": null,
   "id": "df87db6f-667c-4bc2-9d48-7f4debe6750f",
   "metadata": {
    "tags": []
   },
   "outputs": [],
   "source": [
    "using NBInclude\n",
    "@nbinclude(\"Alpha.ipynb\");"
   ]
  },
  {
   "cell_type": "code",
   "execution_count": null,
   "id": "2964541d-4796-47fd-ac77-91a2eaefc679",
   "metadata": {},
   "outputs": [],
   "source": [
    "const training = get_residuals(\"training\", residual_alphas)\n",
    "const validation = get_residuals(\"validation\", residual_alphas);"
   ]
  },
  {
   "cell_type": "markdown",
   "id": "99f52a69-0231-4bff-8a9f-26bb16ee9f33",
   "metadata": {},
   "source": [
    "## Training\n",
    "* There is no closed form solution, so we optimize the loss function numerically"
   ]
  },
  {
   "cell_type": "code",
   "execution_count": null,
   "id": "6fc8ab2b-f60d-4d48-bf68-cb2ad67d417c",
   "metadata": {},
   "outputs": [],
   "source": [
    "# TODO thread this\n",
    "# TODO wrap inside a memoized function\n",
    "# TODO. try in ItemCF\n",
    "user_to_idxs = [[] for x = 1:maximum(training.user)];\n",
    "@showprogress for i = 1:length(training.user)\n",
    "    push!(user_to_idxs[training.user[i]], i)\n",
    "end"
   ]
  },
  {
   "cell_type": "code",
   "execution_count": null,
   "id": "af9504b9-c383-4af8-84fb-ca97cf6ea71d",
   "metadata": {},
   "outputs": [],
   "source": [
    "function make_prediction(u, a)\n",
    "    p = exp.(mean(u) .+ a)\n",
    "    p = p / sum(p)\n",
    "    p\n",
    "end;"
   ]
  },
  {
   "cell_type": "code",
   "execution_count": null,
   "id": "59fb718e-dc9e-4452-b72c-829ae2d843ff",
   "metadata": {},
   "outputs": [],
   "source": [
    "function make_prediction(users, items, u, a)\n",
    "    p = zeros(eltype(u), length(users))\n",
    "    @tprogress Threads.@threads for user in collect(Set(users))\n",
    "        mask = user_to_idxs[user]\n",
    "        p[mask] .= make_prediction(u[user], a)[items[mask]]\n",
    "    end\n",
    "    @info \"A\"\n",
    "    p\n",
    "end;"
   ]
  },
  {
   "cell_type": "code",
   "execution_count": null,
   "id": "b19bdf7e-0a21-47d6-8793-62b96958d84e",
   "metadata": {},
   "outputs": [],
   "source": [
    "const u = convert.(Float32, randn(maximum(training.user)))\n",
    "const a = convert.(Float32, randn(maximum(training.item)));"
   ]
  },
  {
   "cell_type": "code",
   "execution_count": null,
   "id": "00a9102b-964a-4bee-a5d8-7af2b8f3d7c8",
   "metadata": {
    "tags": []
   },
   "outputs": [],
   "source": [
    "p = make_prediction(training.user, training.item, u, a)"
   ]
  },
  {
   "cell_type": "code",
   "execution_count": null,
   "id": "448d8648-f2bd-4e2c-9b7b-4199d633f732",
   "metadata": {},
   "outputs": [],
   "source": [
    "p[1:10]"
   ]
  },
  {
   "cell_type": "code",
   "execution_count": null,
   "id": "1055e398-1110-48e6-8f4a-b137b0166188",
   "metadata": {},
   "outputs": [],
   "source": [
    "function solve(training, weights, λ_u, λ_a)\n",
    "    users, items, ratings = training.user, training.item, training.rating    \n",
    "    u = zeros(eltype(λ_u), maximum(users))\n",
    "    a = zeros(eltype(λ_a), maximum(items))\n",
    "    u, a\n",
    "end"
   ]
  },
  {
   "cell_type": "code",
   "execution_count": null,
   "id": "d0371f61-27bf-4f52-b822-d060f7be01b3",
   "metadata": {},
   "outputs": [],
   "source": [
    "function train_model(training, stop_criteria, λ_u, λ_a, λ_wu, λ_wa)\n",
    "    @info \"training model with parameters [$λ_u, $λ_a, $λ_wu, $λ_wa]\"\n",
    "    weights =\n",
    "        safe_exp.(get_counts(\"training\"), log(λ_wu)) .*\n",
    "        safe_exp.(get_counts(\"training\"; by_item = true), log(λ_wa))\n",
    "    solve(training, weights, λ_u, λ_a)\n",
    "end;"
   ]
  },
  {
   "cell_type": "markdown",
   "id": "d44f0871-3bb4-4083-8bdb-3cb53233298c",
   "metadata": {
    "tags": []
   },
   "source": [
    "## Training"
   ]
  },
  {
   "cell_type": "code",
   "execution_count": null,
   "id": "c174fef4-e9d4-4fbd-a649-1159f8c07a3f",
   "metadata": {},
   "outputs": [],
   "source": [
    "function validation_mse(λ)\n",
    "    λ = exp.(λ) # ensure λ is nonnegative\n",
    "    stop_criteria = convergence_stopper(1e-6, max_iters = 16)\n",
    "    u, a = train_model(training, stop_criteria, λ...)\n",
    "    pred_score = make_prediction(validation.user, validation.item, u, a)\n",
    "    weights = get_weights(\"validation\", \"inverse\")\n",
    "    mse(validation.rating, pred_score, weights)\n",
    "end;"
   ]
  },
  {
   "cell_type": "code",
   "execution_count": null,
   "id": "7d55df8c-06e5-4e8e-814c-41410685842d",
   "metadata": {
    "tags": []
   },
   "outputs": [],
   "source": [
    "# Find the best regularization hyperparameters\n",
    "res = optimize(\n",
    "    validation_mse,\n",
    "    fill(0.0f0, 4),\n",
    "    LBFGS(),\n",
    "    autodiff = :forward,\n",
    "    Optim.Options(show_trace = true, extended_trace = true),\n",
    ");\n",
    "λ = exp.(Optim.minimizer(res));"
   ]
  },
  {
   "cell_type": "code",
   "execution_count": null,
   "id": "5e71e197-1810-46ac-9be5-4847747fce90",
   "metadata": {},
   "outputs": [],
   "source": [
    "@info \"The optimal λ is $λ, found in \" * repr(Optim.f_calls(res)) * \" function calls\""
   ]
  },
  {
   "cell_type": "code",
   "execution_count": null,
   "id": "781a2388-df56-42ce-8e58-b4a11a4e4d0b",
   "metadata": {},
   "outputs": [],
   "source": [
    "stop_criteria = convergence_stopper(1e-6, max_iters = 16)\n",
    "u, a = train_model(training, stop_criteria, λ...);"
   ]
  },
  {
   "cell_type": "markdown",
   "id": "7c291e04-b1ba-48a0-ac09-25eda75a6162",
   "metadata": {},
   "source": [
    "## Inference"
   ]
  },
  {
   "cell_type": "code",
   "execution_count": null,
   "id": "bd86b2cc-bc7e-4fdb-93fd-37e1f15422c7",
   "metadata": {},
   "outputs": [],
   "source": [
    "model(users, items) = make_prediction(users, items, u, a);"
   ]
  },
  {
   "cell_type": "code",
   "execution_count": null,
   "id": "09dc7ac8-4839-476e-acdc-4687262d8623",
   "metadata": {},
   "outputs": [],
   "source": [
    "write_predictions(model; residual_alphas = residual_alphas);"
   ]
  },
  {
   "cell_type": "code",
   "execution_count": null,
   "id": "c4c83363-c309-46e5-ba51-252ad0d3871a",
   "metadata": {},
   "outputs": [],
   "source": [
    "write_params(Dict(\"u\" => u, \"a\" => a, \"λ\" => λ));"
   ]
  }
 ],
 "metadata": {
  "kernelspec": {
   "display_name": "Julia 1.7.2",
   "language": "julia",
   "name": "julia-1.7"
  },
  "language_info": {
   "file_extension": ".jl",
   "mimetype": "application/julia",
   "name": "julia",
   "version": "1.7.2"
  }
 },
 "nbformat": 4,
 "nbformat_minor": 5
}
