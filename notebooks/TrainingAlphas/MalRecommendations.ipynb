{
 "cells": [
  {
   "cell_type": "markdown",
   "id": "c3758ece-9b72-47b4-ae6a-aa364e0443e3",
   "metadata": {},
   "source": [
    "# Item Collaborative Filtering\n",
    "* See `ItemCollaborativeFilteringBase.ipynb` for algorithm details\n",
    "* The weights here are determined by the number of MAL recommendations between two series (see  https://myanimelist.net/recommendations.php?s=recentrecs&t=anime)"
   ]
  },
  {
   "cell_type": "code",
   "execution_count": 1,
   "id": "7cc9334a-2287-41d6-885b-a5cca94fe263",
   "metadata": {},
   "outputs": [],
   "source": [
    "name = \"MalRecommendations\";"
   ]
  },
  {
   "cell_type": "code",
   "execution_count": 2,
   "id": "d17593ac-3260-4c01-a5df-91edfcd17e13",
   "metadata": {},
   "outputs": [],
   "source": [
    "using NBInclude\n",
    "@nbinclude(\"ItemCollaborativeFilteringBase.ipynb\");"
   ]
  },
  {
   "cell_type": "code",
   "execution_count": 3,
   "id": "7e4b4828-4e13-4d43-aaf2-88d168be8b2e",
   "metadata": {},
   "outputs": [],
   "source": [
    "using DataFrames"
   ]
  },
  {
   "cell_type": "markdown",
   "id": "bff8e524-e8f8-48bd-9ca7-c28a05a122b8",
   "metadata": {},
   "source": [
    "## Compute similarity matrices"
   ]
  },
  {
   "cell_type": "code",
   "execution_count": 4,
   "id": "f3125135-9a7d-4f1a-b63b-cc33dca04cce",
   "metadata": {},
   "outputs": [],
   "source": [
    "function get_rec_matrix()\n",
    "    file = \"../../data/processed_data/mal_recs.csv\"\n",
    "    df = DataFrame(CSV.File(file))\n",
    "    num_items = maximum(get_split(\"training\").item)\n",
    "    sparse(\n",
    "        df.source .+ 1,\n",
    "        df.target .+ 1,\n",
    "        convert.(Float64, df.num_recommendations),\n",
    "        num_items,\n",
    "        num_items,\n",
    "    )\n",
    "end\n",
    "\n",
    "function to_stochastic_matrix!(S)\n",
    "    # Make S a left stochastic matrix\n",
    "    for i = 1:size(S)[1]\n",
    "        S[i, i] = 0\n",
    "    end\n",
    "    vec_weights = sum(S, dims = 1)\n",
    "    for i = 1:size(S)[1]\n",
    "        for j = 1:size(S)[2]\n",
    "            weight = vec_weights[j]\n",
    "            if weight > 0\n",
    "                S[i, j] /= weight\n",
    "            end\n",
    "        end\n",
    "    end\n",
    "    S\n",
    "end;"
   ]
  },
  {
   "cell_type": "code",
   "execution_count": 5,
   "id": "c9572dd9-db8e-4b1c-83ca-cacc666325f9",
   "metadata": {},
   "outputs": [],
   "source": [
    "function get_rec_matrix_outdir(power)\n",
    "    # if the matrix is already stored on disk, return its filepath\n",
    "    # otherwise, regenerate the matrix and store it to disk\n",
    "    outdir = \"$name/$(hash(power))\"\n",
    "    if ispath(\"../../data/alphas/$outdir\")\n",
    "        return outdir\n",
    "    end\n",
    "\n",
    "    @debug \"generating similarity matrix for exponent $power\"\n",
    "    T = to_stochastic_matrix!(get_rec_matrix())\n",
    "    S = collect(sum(T^n for n = 1:power))\n",
    "    write_params(Dict(\"S\" => S), outdir = outdir)\n",
    "    outdir\n",
    "end;"
   ]
  },
  {
   "cell_type": "markdown",
   "id": "85910c72-6e77-4dbd-8991-6ad3b81035a7",
   "metadata": {},
   "source": [
    "## Setup hyperparameters"
   ]
  },
  {
   "cell_type": "code",
   "execution_count": 6,
   "id": "0c00b2aa-a40c-4374-9631-9918f0f55968",
   "metadata": {},
   "outputs": [
    {
     "name": "stderr",
     "output_type": "stream",
     "text": [
      "\u001b[38;5;4m\u001b[1m[ \u001b[22m\u001b[39m\u001b[38;5;4m\u001b[1mDebug: \u001b[22m\u001b[39m20211230 14:00:14 generating similarity matrix for exponent 2\n"
     ]
    }
   ],
   "source": [
    "downcast_to_int(x) = isinteger(x) ? Int(x) : x\n",
    "item_alphas = [\"ItemCF.$K\" for K in downcast_to_int.([2^4, 2^6, 2^8, 2^10])]\n",
    "params = [[\n",
    "        cf_params(\n",
    "            name = \"MalRec.$power.$K\",\n",
    "            training_residuals = [\"UserItemBiases\"],\n",
    "            validation_residuals = [\"UserItemBiases\"; item_alphas],\n",
    "            neighborhood_type = \"abs\",\n",
    "            S = get_rec_matrix_outdir(power),\n",
    "            K = K,\n",
    "            λ = [1.0, 1.0, 0.0],\n",
    "        ) for K in downcast_to_int.([256]) for power in [2]\n",
    "    ];\n",
    "];"
   ]
  },
  {
   "cell_type": "markdown",
   "id": "73d6710c-a42a-443d-8616-f1441be67eee",
   "metadata": {},
   "source": [
    "## Train models"
   ]
  },
  {
   "cell_type": "code",
   "execution_count": null,
   "id": "1842d509-9377-4b28-9fe9-9212da6183d1",
   "metadata": {
    "tags": []
   },
   "outputs": [
    {
     "name": "stderr",
     "output_type": "stream",
     "text": [
      "\u001b[32mProgress: 100%|███████████████████████████| Time: 0:08:33 ( 0.13  s/it)\u001b[39m\n",
      "\u001b[38;5;4m\u001b[1m[ \u001b[22m\u001b[39m\u001b[38;5;4m\u001b[1mDebug: \u001b[22m\u001b[39m20211230 14:09:38 loss: Dual{ForwardDiff.Tag{var\"#validation_mse#17\"{var\"#14#16\"{cf_params, Dict{String, typeof(get_abs_neighborhood)}, Int64, Matrix{Float64}}, RatingsDataset, RatingsDataset}, Float64}}(1.270084729151381,0.0008338065090826656,0.00016287391382079126,-0.026405306047335944) β: Dual{ForwardDiff.Tag{var\"#validation_mse#17\"{var\"#14#16\"{cf_params, Dict{String, typeof(get_abs_neighborhood)}, Int64, Matrix{Float64}}, RatingsDataset, RatingsDataset}, Float64}}(0.0785799295501598,-0.05083759709044963,-0.060524213773980734,1.2159393675817618): λ ForwardDiff.Dual{ForwardDiff.Tag{var\"#validation_mse#17\"{var\"#14#16\"{cf_params, Dict{String, typeof(get_abs_neighborhood)}, Int64, Matrix{Float64}}, RatingsDataset, RatingsDataset}, Float64}, Float64, 3}[Dual{ForwardDiff.Tag{var\"#validation_mse#17\"{var\"#14#16\"{cf_params, Dict{String, typeof(get_abs_neighborhood)}, Int64, Matrix{Float64}}, RatingsDataset, RatingsDataset}, Float64}}(1.0,1.0,0.0,0.0), Dual{ForwardDiff.Tag{var\"#validation_mse#17\"{var\"#14#16\"{cf_params, Dict{String, typeof(get_abs_neighborhood)}, Int64, Matrix{Float64}}, RatingsDataset, RatingsDataset}, Float64}}(1.0,0.0,1.0,0.0), Dual{ForwardDiff.Tag{var\"#validation_mse#17\"{var\"#14#16\"{cf_params, Dict{String, typeof(get_abs_neighborhood)}, Int64, Matrix{Float64}}, RatingsDataset, RatingsDataset}, Float64}}(0.0,0.0,0.0,1.0)]\n"
     ]
    },
    {
     "name": "stdout",
     "output_type": "stream",
     "text": [
      "Iter     Function value   Gradient norm \n",
      "     0     1.270085e+00     2.640531e-02\n",
      " * Current step size: 1.0\n",
      " * time: 0.02389383316040039\n",
      " * g(x): [0.0008338065090826656, 0.00016287391382079126, -0.026405306047335944]\n",
      " * x: [1.0, 1.0, 0.0]\n"
     ]
    },
    {
     "name": "stderr",
     "output_type": "stream",
     "text": [
      "\u001b[32mProgress: 100%|███████████████████████████| Time: 0:08:10 ( 0.12  s/it)\u001b[39m\n",
      "\u001b[38;5;4m\u001b[1m[ \u001b[22m\u001b[39m\u001b[38;5;4m\u001b[1mDebug: \u001b[22m\u001b[39m20211230 14:17:54 loss: Dual{ForwardDiff.Tag{var\"#validation_mse#17\"{var\"#14#16\"{cf_params, Dict{String, typeof(get_abs_neighborhood)}, Int64, Matrix{Float64}}, RatingsDataset, RatingsDataset}, Float64}}(1.2699688140331429,0.0009752382252436996,0.00022558040712057883,-0.0023408369119160707) β: Dual{ForwardDiff.Tag{var\"#validation_mse#17\"{var\"#14#16\"{cf_params, Dict{String, typeof(get_abs_neighborhood)}, Int64, Matrix{Float64}}, RatingsDataset, RatingsDataset}, Float64}}(0.08875141669807847,-0.04116366094060482,-0.06836570516305569,0.28697220409467583): λ ForwardDiff.Dual{ForwardDiff.Tag{var\"#validation_mse#17\"{var\"#14#16\"{cf_params, Dict{String, typeof(get_abs_neighborhood)}, Int64, Matrix{Float64}}, RatingsDataset, RatingsDataset}, Float64}, Float64, 3}[Dual{ForwardDiff.Tag{var\"#validation_mse#17\"{var\"#14#16\"{cf_params, Dict{String, typeof(get_abs_neighborhood)}, Int64, Matrix{Float64}}, RatingsDataset, RatingsDataset}, Float64}}(0.9991661934909173,1.0,0.0,0.0), Dual{ForwardDiff.Tag{var\"#validation_mse#17\"{var\"#14#16\"{cf_params, Dict{String, typeof(get_abs_neighborhood)}, Int64, Matrix{Float64}}, RatingsDataset, RatingsDataset}, Float64}}(0.9998371260861793,0.0,1.0,0.0), Dual{ForwardDiff.Tag{var\"#validation_mse#17\"{var\"#14#16\"{cf_params, Dict{String, typeof(get_abs_neighborhood)}, Int64, Matrix{Float64}}, RatingsDataset, RatingsDataset}, Float64}}(0.026405306047335944,0.0,0.0,1.0)]\n",
      "\u001b[32mProgress:   5%|█▎                         |  ETA: 0:07:44 ( 0.12  s/it)\u001b[39m"
     ]
    }
   ],
   "source": [
    "for param in params\n",
    "    optimize_model(param)\n",
    "end"
   ]
  },
  {
   "cell_type": "code",
   "execution_count": null,
   "id": "de306324-1e91-452c-a5df-39075f923899",
   "metadata": {},
   "outputs": [],
   "source": []
  }
 ],
 "metadata": {
  "kernelspec": {
   "display_name": "Julia 1.6.3",
   "language": "julia",
   "name": "julia-1.6"
  },
  "language_info": {
   "file_extension": ".jl",
   "mimetype": "application/julia",
   "name": "julia",
   "version": "1.6.3"
  }
 },
 "nbformat": 4,
 "nbformat_minor": 5
}
