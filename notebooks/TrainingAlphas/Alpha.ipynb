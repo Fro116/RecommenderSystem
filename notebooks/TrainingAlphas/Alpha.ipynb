{
 "cells": [
  {
   "cell_type": "markdown",
   "id": "ba949471-e864-4ebf-b949-7772e87b6057",
   "metadata": {},
   "source": [
    "# Common utitities for all alphas"
   ]
  },
  {
   "cell_type": "code",
   "execution_count": null,
   "id": "5f693eb8-9aab-4305-a6ee-17e885f3f24d",
   "metadata": {
    "tags": []
   },
   "outputs": [],
   "source": [
    "using CSV\n",
    "using Dates\n",
    "using FileIO\n",
    "using JLD2\n",
    "using JupyterFormatter\n",
    "using LinearAlgebra\n",
    "using LoggingExtras\n",
    "using Memoize\n",
    "using Optim\n",
    "using ProgressMeter\n",
    "using SparseArrays\n",
    "using Statistics"
   ]
  },
  {
   "cell_type": "markdown",
   "id": "c52c3be3-c7d8-4a18-8d83-f82a0858380a",
   "metadata": {},
   "source": [
    "# General utils"
   ]
  },
  {
   "cell_type": "code",
   "execution_count": null,
   "id": "00d6e862-d1ca-48d6-9ae0-3b31ab45cea7",
   "metadata": {},
   "outputs": [],
   "source": [
    "# name = \"Alpha\"\n",
    "# residual_alphas = []"
   ]
  },
  {
   "cell_type": "code",
   "execution_count": null,
   "id": "6fd43cb7-3f58-412d-b8fd-9fefe907e4b0",
   "metadata": {},
   "outputs": [],
   "source": [
    "BLAS.set_num_threads(1)"
   ]
  },
  {
   "cell_type": "code",
   "execution_count": null,
   "id": "b2d03d88-f3cc-45ed-bdf9-ef33b7021a9b",
   "metadata": {
    "tags": []
   },
   "outputs": [],
   "source": [
    "macro tprogress(expr)\n",
    "    # let the @progress macro work with Threads.@threads\n",
    "    loop = expr\n",
    "    if loop.head == :macrocall && loop.args[1] == :(Threads.var\"@threads\")\n",
    "        loop = loop.args[end]\n",
    "    end\n",
    "    \n",
    "    p = gensym()    \n",
    "    r = loop.args[1].args[end]\n",
    "    ex = quote\n",
    "        n = Int(round(length($(esc(r))) / Threads.nthreads()))\n",
    "        global $p = Progress(n; showspeed=true)\n",
    "        $(esc(expr))\n",
    "    end\n",
    "    \n",
    "    update = quote\n",
    "        if Threads.threadid() == 1\n",
    "            next!($p)\n",
    "        end\n",
    "    end\n",
    "    push!(loop.args[end].args, update)    \n",
    "    \n",
    "    ex    \n",
    "end;"
   ]
  },
  {
   "cell_type": "code",
   "execution_count": null,
   "id": "673b70f5-bfbf-4975-8125-2e96a962e0ee",
   "metadata": {},
   "outputs": [],
   "source": [
    "enable_autoformat();"
   ]
  },
  {
   "cell_type": "code",
   "execution_count": null,
   "id": "48c27994-a711-4e6f-9c8d-2363f01344e9",
   "metadata": {},
   "outputs": [],
   "source": [
    "function mse(truth, pred)\n",
    "    mean((truth .- pred) .^ 2)\n",
    "end\n",
    "\n",
    "function rmse(truth, pred)\n",
    "    sqrt(mse(truth, pred))\n",
    "end\n",
    "\n",
    "function mae(truth, pred)\n",
    "    mean(abs.(truth .- pred))\n",
    "end\n",
    "\n",
    "function r2(truth, pred)\n",
    "    1 - mse(truth, pred) / mse(truth, mean(truth))\n",
    "end;"
   ]
  },
  {
   "cell_type": "code",
   "execution_count": null,
   "id": "2411a5e8-1398-4d8a-a64c-c50a5e39b9cc",
   "metadata": {},
   "outputs": [],
   "source": [
    "struct FlushLogger <: AbstractLogger\n",
    "    logger::ConsoleLogger\n",
    "end\n",
    "\n",
    "function FlushLogger(logger::AbstractLogger)\n",
    "    FlushLogger(logger)\n",
    "end\n",
    "\n",
    "function Logging.handle_message(logger::FlushLogger, args...; kwargs...)\n",
    "    Logging.handle_message(logger.logger, args...; kwargs...)\n",
    "    flush(logger.logger.stream)\n",
    "end\n",
    "\n",
    "Logging.shouldlog(logger::FlushLogger, arg...) = Logging.shouldlog(logger.logger, arg...)\n",
    "Logging.min_enabled_level(logger::FlushLogger) = Logging.min_enabled_level(logger.logger)\n",
    "Logging.catch_exceptions(logger::FlushLogger) = Logging.catch_exceptions(logger.logger)\n",
    "\n",
    "function logging_meta_formatter(level, _module, group, id, file, line)\n",
    "    prefix_color = (\n",
    "        level < Logging.Info ? 4 : level < Logging.Warn ? 6 : level < Logging.Error ? 3 : 1\n",
    "    )\n",
    "    prefix = (level == Logging.Warn ? \"Warning\" : string(level)) * ':'\n",
    "    prefix_color, prefix, \"\"\n",
    "end"
   ]
  },
  {
   "cell_type": "code",
   "execution_count": null,
   "id": "310957e5-891f-4797-879f-0084e8560b8d",
   "metadata": {},
   "outputs": [],
   "source": [
    "# Improved logging\n",
    "const date_format = \"yyyymmdd HH:MM:SS\"\n",
    "timestamp_logger(logger) =\n",
    "    TransformerLogger(logger) do log\n",
    "        merge(log, (; message = \"$(Dates.format(now(), date_format)) $(log.message)\"))\n",
    "    end\n",
    "\n",
    "outdir = mkpath(\"../../data/alphas/$name\");\n",
    "global_logger(\n",
    "    TeeLogger(\n",
    "        FlushLogger(\n",
    "            ConsoleLogger(stderr, Logging.Debug; meta_formatter = logging_meta_formatter),\n",
    "        ) |> timestamp_logger,\n",
    "        FlushLogger(\n",
    "            ConsoleLogger(\n",
    "                open(\"$(outdir)/log\", write = true),\n",
    "                Logging.Debug;\n",
    "                meta_formatter = logging_meta_formatter,\n",
    "            ),\n",
    "        ) |> timestamp_logger,\n",
    "    ),\n",
    ");"
   ]
  },
  {
   "cell_type": "markdown",
   "id": "064f7f66-bef4-477f-b8c0-96f8a65cc9d3",
   "metadata": {},
   "source": [
    "# Alpha specific utils"
   ]
  },
  {
   "cell_type": "code",
   "execution_count": null,
   "id": "f39d7a7e-403e-4104-b2a8-f5c48da9c7cc",
   "metadata": {},
   "outputs": [],
   "source": [
    "Base.@kwdef struct RatingsDataset\n",
    "    user::Vector{Int64}\n",
    "    item::Vector{Int64}\n",
    "    rating::Vector{Float64}\n",
    "end;\n",
    "\n",
    "function Base.adjoint(x::RatingsDataset)\n",
    "    RatingsDataset(x.item, x.user, x.rating)\n",
    "end;\n",
    "\n",
    "function get_split(split)\n",
    "    @assert split in [\"training\", \"validation\", \"test\"]\n",
    "    file = \"../../data/splits/splits.jld2\"\n",
    "    load(file, split)\n",
    "end;"
   ]
  },
  {
   "cell_type": "code",
   "execution_count": null,
   "id": "410b8c50-92ac-4369-9b08-1c8b85f8058f",
   "metadata": {},
   "outputs": [],
   "source": [
    "function Base.cat(x::RatingsDataset, y::RatingsDataset)\n",
    "    RatingsDataset([x.user; y.user], [x.item; y.item], [x.rating; y.rating])\n",
    "end;"
   ]
  },
  {
   "cell_type": "code",
   "execution_count": null,
   "id": "ca2ddd8e-1c8c-49b0-97ef-848107f4af49",
   "metadata": {},
   "outputs": [],
   "source": [
    "@memoize function num_items()\n",
    "    df = DataFrame(CSV.File(\"../../data/processed_data/anime_to_uid.csv\"))\n",
    "    length(df.uid)\n",
    "end;"
   ]
  },
  {
   "cell_type": "code",
   "execution_count": null,
   "id": "40dc66eb-9870-4d4c-bff8-5f5a1b46a18d",
   "metadata": {},
   "outputs": [],
   "source": [
    "function get_alpha(alpha, split)\n",
    "    @assert split in [\"training\", \"validation\", \"test\"]\n",
    "    file = \"../../data/alphas/$(alpha)/predictions.jld2\"\n",
    "    load(file, split)\n",
    "end;"
   ]
  },
  {
   "cell_type": "code",
   "execution_count": null,
   "id": "ea33e3e7-ba24-4f51-937a-2469c71b9c22",
   "metadata": {},
   "outputs": [],
   "source": [
    "@memoize function get_residual_β(alphas)\n",
    "    # train a linear model on the validation set\n",
    "    y = get_split(\"validation\").rating\n",
    "    X = zeros(length(y), length(alphas))\n",
    "    @tprogress Threads.@threads for j = 1:length(alphas)\n",
    "        X[:, j] = get_alpha(alphas[j], \"validation\").rating\n",
    "    end\n",
    "    X \\ y    \n",
    "end\n",
    "\n",
    "function get_residuals(split, alphas)\n",
    "    # residualize out the linear model\n",
    "    β = get_residual_β(alphas)        \n",
    "    df = get_split(split)\n",
    "    ratings = df.rating\n",
    "    @showprogress for j = 1:length(alphas)\n",
    "        ratings -= β[j] * get_alpha(alphas[j], split).rating\n",
    "    end\n",
    "    RatingsDataset(df.user, df.item, ratings)\n",
    "end"
   ]
  },
  {
   "cell_type": "code",
   "execution_count": null,
   "id": "a717beaf-8ded-4f72-b6d9-c15f4b929ce6",
   "metadata": {},
   "outputs": [],
   "source": [
    "function write_predictions(\n",
    "    model;\n",
    "    save_training = false, # TODO default to true\n",
    "    outdir = name,\n",
    "    residual_alphas = residual_alphas,\n",
    ")\n",
    "    splits = [\"training\", \"validation\", \"test\"]\n",
    "    # don't save training set by default because it's huge\n",
    "    splits_to_save = [\"validation\", \"test\"]\n",
    "    # don't cheat by peeking at the test set\n",
    "    splits_to_log = [\"validation\"]\n",
    "    if save_training\n",
    "        push!(splits_to_save, \"training\")\n",
    "        push!(splits_to_log, \"training\")        \n",
    "    end\n",
    "\n",
    "    predictions = Dict()\n",
    "    for split in splits\n",
    "        df = get_residuals(split, residual_alphas)\n",
    "        truth = df.rating\n",
    "        pred = model(df.user, df.item)\n",
    "        β = pred \\ truth\n",
    "        if split in splits_to_log\n",
    "            @info \"$(split) set: RMSE $(rmse(truth, β*pred)) MAE $(mae(truth, β*pred)) R2 $(r2(truth, β*pred))\"\n",
    "        end\n",
    "        if split in splits_to_save\n",
    "            predictions[split] = RatingsDataset(df.user, df.item, pred)\n",
    "        end\n",
    "    end\n",
    "\n",
    "    outdir = mkpath(\"../../data/alphas/$outdir\")\n",
    "    save(\"$outdir/predictions.jld2\", predictions)\n",
    "end;"
   ]
  },
  {
   "cell_type": "code",
   "execution_count": null,
   "id": "e5237f49-f24d-43e1-9698-7358d22e7c1b",
   "metadata": {},
   "outputs": [],
   "source": [
    "function write_params(params; outdir = name)\n",
    "    outdir = mkpath(\"../../data/alphas/$outdir\")\n",
    "    save(\"$outdir/params.jld2\", params)\n",
    "end;"
   ]
  },
  {
   "cell_type": "code",
   "execution_count": null,
   "id": "8175e09e-f7e8-47c1-a183-64931366b9f1",
   "metadata": {},
   "outputs": [],
   "source": [
    "function read_params(alpha)\n",
    "    load(\"../../data/alphas/$alpha/params.jld2\")\n",
    "end;"
   ]
  },
  {
   "cell_type": "code",
   "execution_count": null,
   "id": "c1ad5e6a-7ccb-4886-b500-e57b86cb9e22",
   "metadata": {},
   "outputs": [],
   "source": [
    "Base.@kwdef mutable struct convergence_stopper\n",
    "    tolerance::AbstractFloat\n",
    "    max_iters = Inf\n",
    "    params::AbstractVector\n",
    "    prev_params::AbstractVector\n",
    "    iters = 0\n",
    "end\n",
    "\n",
    "function convergence_stopper(tolerance)\n",
    "    convergence_stopper(tolerance = tolerance, params = [], prev_params = [])\n",
    "end\n",
    "\n",
    "function stop!(x::convergence_stopper, params)\n",
    "    x.iters += 1\n",
    "    if x.iters > x.max_iters\n",
    "        return true\n",
    "    end\n",
    "\n",
    "    if x.iters == 1\n",
    "        x.params = deepcopy(params)\n",
    "        return false\n",
    "    end\n",
    "\n",
    "    function maxabs(a)\n",
    "        maximum(abs.(a))\n",
    "    end\n",
    "\n",
    "    x.prev_params = deepcopy(x.params)\n",
    "    x.params = deepcopy(params)\n",
    "    maximum(maxabs.(x.params - x.prev_params)) < x.tolerance\n",
    "end;"
   ]
  },
  {
   "cell_type": "code",
   "execution_count": null,
   "id": "84f68e28-f0aa-4fa6-a423-10b12953a5b0",
   "metadata": {},
   "outputs": [],
   "source": [
    "Base.@kwdef mutable struct early_stopper\n",
    "    max_iters::Int\n",
    "    patience = Inf\n",
    "    min_rel_improvement = -Inf\n",
    "    iters = 0\n",
    "    iters_without_improvement = 0\n",
    "    loss = Inf\n",
    "end\n",
    "\n",
    "function stop!(x::early_stopper, loss)\n",
    "    x.iters += 1\n",
    "    if x.iters > x.max_iters\n",
    "        return true\n",
    "    end\n",
    "\n",
    "    if loss < x.loss * (1 - x.min_rel_improvement)\n",
    "        x.loss = loss\n",
    "        x.iters_without_improvement = 0\n",
    "    else\n",
    "        x.iters_without_improvement += 1\n",
    "    end\n",
    "    x.iters_without_improvement >= x.patience\n",
    "end;"
   ]
  }
 ],
 "metadata": {
  "kernelspec": {
   "display_name": "Julia 1.6.3",
   "language": "julia",
   "name": "julia-1.6"
  },
  "language_info": {
   "file_extension": ".jl",
   "mimetype": "application/julia",
   "name": "julia",
   "version": "1.6.3"
  }
 },
 "nbformat": 4,
 "nbformat_minor": 5
}
