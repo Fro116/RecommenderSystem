{
 "cells": [
  {
   "cell_type": "markdown",
   "id": "ba949471-e864-4ebf-b949-7772e87b6057",
   "metadata": {},
   "source": [
    "# Common utitities for all alphas"
   ]
  },
  {
   "cell_type": "code",
   "execution_count": null,
   "id": "5f693eb8-9aab-4305-a6ee-17e885f3f24d",
   "metadata": {
    "tags": []
   },
   "outputs": [],
   "source": [
    "using CSV\n",
    "using DataFrames\n",
    "using FileIO\n",
    "using JLD2\n",
    "using JupyterFormatter\n",
    "using Optim\n",
    "using ProgressMeter\n",
    "using Statistics"
   ]
  },
  {
   "cell_type": "code",
   "execution_count": null,
   "id": "673b70f5-bfbf-4975-8125-2e96a962e0ee",
   "metadata": {},
   "outputs": [],
   "source": [
    "enable_autoformat();"
   ]
  },
  {
   "cell_type": "code",
   "execution_count": null,
   "id": "f39d7a7e-403e-4104-b2a8-f5c48da9c7cc",
   "metadata": {},
   "outputs": [],
   "source": [
    "function get_split(split)\n",
    "    @assert split in [\"training\", \"validation\", \"test\"]\n",
    "    file = \"../../data/splits/splits.jld2\"\n",
    "    return load(file, split)\n",
    "end;"
   ]
  },
  {
   "cell_type": "code",
   "execution_count": null,
   "id": "40dc66eb-9870-4d4c-bff8-5f5a1b46a18d",
   "metadata": {},
   "outputs": [],
   "source": [
    "function get_alpha(alpha, split)\n",
    "    @assert split in [\"training\", \"validation\", \"test\"]\n",
    "    file = \"../../data/alphas/$(alpha)/predictions.jld2\"\n",
    "    return load(file, split)\n",
    "end;"
   ]
  },
  {
   "cell_type": "code",
   "execution_count": null,
   "id": "ea33e3e7-ba24-4f51-937a-2469c71b9c22",
   "metadata": {},
   "outputs": [],
   "source": [
    "function get_residuals(split, alphas)\n",
    "    df = get_split(split)\n",
    "    for alpha in alphas\n",
    "        df.my_score -= get_alpha(alpha, split).my_score\n",
    "    end\n",
    "    return df\n",
    "end"
   ]
  },
  {
   "cell_type": "code",
   "execution_count": null,
   "id": "48c27994-a711-4e6f-9c8d-2363f01344e9",
   "metadata": {},
   "outputs": [],
   "source": [
    "function mse(truth, pred)\n",
    "    return mean((truth .- pred) .^ 2)\n",
    "end\n",
    "\n",
    "function rmse(truth, pred)\n",
    "    return sqrt(mse(truth, pred))\n",
    "end\n",
    "\n",
    "function mae(truth, pred)\n",
    "    return mean(abs.(truth .- pred))\n",
    "end\n",
    "\n",
    "function r2(truth, pred)\n",
    "    return 1 - mse(truth, pred) / mse(truth, mean(truth))\n",
    "end\n",
    "\n",
    "function evaluate(truth, pred)\n",
    "    return \"RMSE $(rmse(truth, pred)) MAE $(mae(truth, pred)) R2 $(r2(truth, pred))\"\n",
    "end;"
   ]
  },
  {
   "cell_type": "code",
   "execution_count": null,
   "id": "a717beaf-8ded-4f72-b6d9-c15f4b929ce6",
   "metadata": {},
   "outputs": [],
   "source": [
    "function write_predictions(model; save_training=false)\n",
    "    splits = [\"training\", \"validation\", \"test\"]\n",
    "    # don't save training set by default because it's huge\n",
    "    splits_to_save = [\"validation\", \"test\"]\n",
    "    if save_training\n",
    "        push!(splits_to_save, \"training\")\n",
    "    end\n",
    "    # don't cheat by peeking at the test set\n",
    "    splits_to_evaluate = [\"training\", \"validation\"]\n",
    "\n",
    "    predictions = Dict()\n",
    "    for split in splits\n",
    "        df = get_residuals(split, residual_alphas)\n",
    "        pred_score = model(df.username, df.anime_id)\n",
    "        if split in splits_to_evaluate\n",
    "            println(\"$(split) set: \" * evaluate(df.my_score, pred_score))\n",
    "        end\n",
    "        if split in splits_to_save\n",
    "            df.my_score = pred_score\n",
    "            predictions[split] = df\n",
    "        end\n",
    "    end\n",
    "\n",
    "    outdir = \"../../data/alphas/$name\"\n",
    "    if !isdir(outdir)\n",
    "        mkpath(outdir)\n",
    "    end\n",
    "    save(\"$outdir/predictions.jld2\", predictions)\n",
    "end;"
   ]
  },
  {
   "cell_type": "code",
   "execution_count": null,
   "id": "e5237f49-f24d-43e1-9698-7358d22e7c1b",
   "metadata": {},
   "outputs": [],
   "source": [
    "function write_params(params)\n",
    "    outdir = \"../../data/alphas/$name\"\n",
    "    if !isdir(outdir)\n",
    "        mkpath(outdir)\n",
    "    end\n",
    "    save(\"$outdir/params.jld2\", params)\n",
    "end;"
   ]
  },
  {
   "cell_type": "code",
   "execution_count": 1,
   "id": "b2d03d88-f3cc-45ed-bdf9-ef33b7021a9b",
   "metadata": {},
   "outputs": [],
   "source": [
    "macro tprogress(expr)\n",
    "    # let the @progress macro work with Threads.@threads\n",
    "    loop = expr\n",
    "    if loop.head == :macrocall && loop.args[1] == :(Threads.var\"@threads\")\n",
    "        loop = loop.args[end]\n",
    "    end\n",
    "    \n",
    "    p=gensym()    \n",
    "    r = loop.args[1].args[end]\n",
    "    ex = quote\n",
    "        n = length($(esc(r)))\n",
    "        global $p = Progress(n; showspeed=true)\n",
    "        $(esc(expr))\n",
    "    end\n",
    "    push!(loop.args[end].args, :(next!($p)))\n",
    "    return ex    \n",
    "end;"
   ]
  },
  {
   "cell_type": "code",
   "execution_count": null,
   "id": "07489c5a-16a7-466c-b7ea-83b794958cf6",
   "metadata": {
    "tags": []
   },
   "outputs": [],
   "source": [
    "training = get_residuals(\"training\", residual_alphas);"
   ]
  },
  {
   "cell_type": "code",
   "execution_count": null,
   "id": "6fffa2bd-1b5b-4a85-a6d4-6d5487f5771c",
   "metadata": {},
   "outputs": [],
   "source": [
    "validation = get_residuals(\"validation\", residual_alphas);"
   ]
  }
 ],
 "metadata": {
  "kernelspec": {
   "display_name": "Julia 1.6.3",
   "language": "julia",
   "name": "julia-1.6"
  },
  "language_info": {
   "file_extension": ".jl",
   "mimetype": "application/julia",
   "name": "julia",
   "version": "1.6.3"
  }
 },
 "nbformat": 4,
 "nbformat_minor": 5
}
