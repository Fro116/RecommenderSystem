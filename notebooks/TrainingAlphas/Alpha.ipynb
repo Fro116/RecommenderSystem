{
 "cells": [
  {
   "cell_type": "markdown",
   "id": "ba949471-e864-4ebf-b949-7772e87b6057",
   "metadata": {},
   "source": [
    "# Common utitities for all alphas"
   ]
  },
  {
   "cell_type": "code",
   "execution_count": 19,
   "id": "5f693eb8-9aab-4305-a6ee-17e885f3f24d",
   "metadata": {
    "tags": []
   },
   "outputs": [],
   "source": [
    "# using CSV\n",
    "using DataFrames\n",
    "using FileIO\n",
    "using JLD2\n",
    "using Memoize\n",
    "using Optim\n",
    "using SparseArrays\n",
    "using Statistics\n",
    "\n",
    "import LineSearches"
   ]
  },
  {
   "cell_type": "code",
   "execution_count": 9,
   "id": "bd9bcd93-0801-4944-9e44-b2b25cc16934",
   "metadata": {},
   "outputs": [],
   "source": [
    "@nbinclude(\"AlphaUtils.ipynb\");"
   ]
  },
  {
   "cell_type": "markdown",
   "id": "064f7f66-bef4-477f-b8c0-96f8a65cc9d3",
   "metadata": {},
   "source": [
    "# Alpha specific utils"
   ]
  },
  {
   "cell_type": "code",
   "execution_count": 10,
   "id": "94fef655-3bf2-494b-870c-96e1b027335e",
   "metadata": {},
   "outputs": [],
   "source": [
    "redirect_logging(\"../../data/alphas/$name\");"
   ]
  },
  {
   "cell_type": "code",
   "execution_count": 11,
   "id": "f39d7a7e-403e-4104-b2a8-f5c48da9c7cc",
   "metadata": {},
   "outputs": [],
   "source": [
    "@with_kw struct RatingsDataset\n",
    "    user::Vector{Int32}\n",
    "    item::Vector{Int32}\n",
    "    rating::Vector{Float32}\n",
    "end\n",
    "\n",
    "function Base.adjoint(x::RatingsDataset)\n",
    "    RatingsDataset(x.item, x.user, x.rating)\n",
    "end\n",
    "\n",
    "function get_split(split; implicit = false, transpose = false)\n",
    "    @assert split in [\"training\", \"validation\", \"test\", \"implicit\", \"implicit_training\"]\n",
    "    file = \"../../data/splits/splits.jld2\"\n",
    "    df = load(file, split)\n",
    "    if implicit\n",
    "        df.rating .= 1\n",
    "    end\n",
    "    transpose ? df' : df\n",
    "end\n",
    "\n",
    "function get_alpha(alpha, split)\n",
    "    @assert split in [\"training\", \"validation\", \"test\"]\n",
    "    file = \"../../data/alphas/$(alpha)/predictions.jld2\"\n",
    "    load(file, split)\n",
    "end;"
   ]
  },
  {
   "cell_type": "code",
   "execution_count": 12,
   "id": "816ee316-9b8c-4cfe-b671-d79ddfcc90f3",
   "metadata": {},
   "outputs": [],
   "source": [
    "# Some sparse matrix operations require indices to be Int64\n",
    "@with_kw struct RatingsDataset64\n",
    "    user::Vector{Int64}\n",
    "    item::Vector{Int64}\n",
    "    rating::Vector{Float32}\n",
    "end;\n",
    "\n",
    "function RatingsDataset64(x::RatingsDataset)\n",
    "    RatingsDataset64(\n",
    "        convert.(Int64, x.user),\n",
    "        convert.(Int64, x.item),\n",
    "        convert.(Float32, x.rating),\n",
    "    )\n",
    "end;"
   ]
  },
  {
   "cell_type": "code",
   "execution_count": 13,
   "id": "410b8c50-92ac-4369-9b08-1c8b85f8058f",
   "metadata": {},
   "outputs": [],
   "source": [
    "function Base.cat(x::RatingsDataset, y::RatingsDataset)\n",
    "    RatingsDataset([x.user; y.user], [x.item; y.item], [x.rating; y.rating])\n",
    "end;"
   ]
  },
  {
   "cell_type": "code",
   "execution_count": 14,
   "id": "ca2ddd8e-1c8c-49b0-97ef-848107f4af49",
   "metadata": {},
   "outputs": [],
   "source": [
    "@memoize function num_items()\n",
    "    maximum(get_split(\"training\").item)\n",
    "end\n",
    "\n",
    "@memoize function num_users()\n",
    "    maximum(get_split(\"training\").user)\n",
    "end;"
   ]
  },
  {
   "cell_type": "markdown",
   "id": "e7d03bdb-6e21-4f41-b7d1-f52f143320da",
   "metadata": {},
   "source": [
    "## Weight decays"
   ]
  },
  {
   "cell_type": "code",
   "execution_count": 15,
   "id": "a3435b41-3aaa-4fd6-a4eb-b04338c3f16c",
   "metadata": {},
   "outputs": [],
   "source": [
    "function safe_exp(x, a)\n",
    "    return x == 0 ? zero(eltype(a)) : x^a\n",
    "end;\n",
    "\n",
    "function weighting_scheme(scheme::String)\n",
    "    if scheme == \"linear\"\n",
    "        return 1\n",
    "    elseif scheme == \"constant\"\n",
    "        return 0\n",
    "    elseif scheme == \"inverse\"\n",
    "        return -1\n",
    "    else\n",
    "        @assert false\n",
    "        return 0\n",
    "    end\n",
    "end;\n",
    "\n",
    "function get_user_counts(split::RatingsDataset)\n",
    "    counts = zeros(eltype(split.rating), maximum(split.user), Threads.nthreads())\n",
    "    @tprogress Threads.@threads for i = 1:length(split.rating)\n",
    "        counts[split.user[i], Threads.threadid()] += 1\n",
    "    end\n",
    "    vec(sum(counts, dims = 2))\n",
    "end\n",
    "\n",
    "@memoize function get_counts(split; per_rating = true, by_item = false)\n",
    "    split = get_split(split; transpose = by_item)\n",
    "    user_counts = get_user_counts(split)\n",
    "\n",
    "    if !per_rating\n",
    "        return user_counts\n",
    "    end\n",
    "\n",
    "    counts = zeros(eltype(user_counts), length(split.user))\n",
    "    Threads.@threads for i = 1:length(counts)\n",
    "        counts[i] = user_counts[split.user[i]]\n",
    "    end\n",
    "    counts\n",
    "end\n",
    "\n",
    "function get_weights(split, scheme::String)\n",
    "    safe_exp.(get_counts(split), weighting_scheme(scheme))\n",
    "end;"
   ]
  },
  {
   "cell_type": "markdown",
   "id": "6c675de5-4b31-471e-9565-8c2f0a38720e",
   "metadata": {},
   "source": [
    "## Loss functions and regressions"
   ]
  },
  {
   "cell_type": "code",
   "execution_count": 23,
   "id": "ea33e3e7-ba24-4f51-937a-2469c71b9c22",
   "metadata": {},
   "outputs": [],
   "source": [
    "function weighted_crossentropy_loss(x, y, w)\n",
    "    a = zeros(eltype(x), Threads.nthreads())\n",
    "    b = zeros(eltype(w), Threads.nthreads())\n",
    "    Threads.@threads for i = 1:length(x)\n",
    "        a[Threads.threadid()] += -y[i] * log(x[i]) * w[i]\n",
    "        b[Threads.threadid()] += w[i]\n",
    "    end\n",
    "    sum(a) / sum(b)\n",
    "end\n",
    "\n",
    "function weighted_mean_squared_error(x, y, w)\n",
    "    a = zeros(eltype(x), Threads.nthreads())\n",
    "    b = zeros(eltype(w), Threads.nthreads())\n",
    "    Threads.@threads for i = 1:length(x)\n",
    "        a[Threads.threadid()] +=  (x[i] - y[i]) ^ 2 * w[i]\n",
    "        b[Threads.threadid()] += w[i]\n",
    "    end\n",
    "    sum(a) / sum(b)\n",
    "end\n",
    "\n",
    "loss(x, y, w, implicit) =\n",
    "    implicit ? weighted_crossentropy_loss(x, y, w) : weighted_mean_squared_error(x, y, w)\n",
    "\n",
    "# returns the linear combination that minimizes the loss\n",
    "# For explicit data, there is a closed form solution\n",
    "function regress(X, y, w, implicit)\n",
    "    if implicit\n",
    "        β = softmax(\n",
    "            Optim.minimizer(\n",
    "                optimize(\n",
    "                    β -> loss(X * softmax(β), y, w, implicit),\n",
    "                    fill(0.0f0, size(X)[2]),\n",
    "                    BFGS(),\n",
    "                    autodiff = :forward,\n",
    "                ),\n",
    "            ),\n",
    "        )\n",
    "        return β, X * β\n",
    "    else\n",
    "        β = (X .* sqrt.(w)) \\ (y .* sqrt.(w))\n",
    "        return X * β, β\n",
    "    end\n",
    "end\n",
    "\n",
    "# returns the linear combination that minimizes the validation loss\n",
    "function regress(x, alphas, implicit)\n",
    "    split = \"validation\"\n",
    "    X = zeros(eltype(x), length(x), length(alphas) + 1)\n",
    "    @tprogress Threads.@threads for j = 1:length(alphas)\n",
    "        X[:, j] = get_alpha(alphas[j], split).rating\n",
    "    end\n",
    "    X[:, end] .= x\n",
    "    y = get_split(split; implicit = implicit).rating\n",
    "    w = get_weights(split, \"inverse\")\n",
    "    regress(X, y, w, implicit)\n",
    "end\n",
    "\n",
    "# returns the minimum loss obtainable by linearly combining the alphas\n",
    "function residualized_loss(x, alphas, implicit, split)\n",
    "    x, _ = regress(x, alphas, implicit)\n",
    "    y = get_split(split; implicit = implicit).rating\n",
    "    loss(x, y, get_weights(split, \"inverse\"), implicit)\n",
    "end\n",
    "\n",
    "# linearly combinine the given alphas\n",
    "function get_alpha(alphas::Vector{String}, split::String, implicit)\n",
    "    df = get_split(split; implicit = implicit)\n",
    "    baseline = implicit ? 1.0f0 / num_items() : 0.0f0\n",
    "    x, _ = regress(fill(baseline, length(get_split(\"validation\").rating)), alphas, implicit)\n",
    "    df.rating .= x\n",
    "    df\n",
    "end;"
   ]
  },
  {
   "cell_type": "markdown",
   "id": "2d269cc1-aa79-47b3-bddb-e23c6fc8a80b",
   "metadata": {},
   "source": [
    "## Saving data"
   ]
  },
  {
   "cell_type": "code",
   "execution_count": 17,
   "id": "a717beaf-8ded-4f72-b6d9-c15f4b929ce6",
   "metadata": {},
   "outputs": [],
   "source": [
    "function write_predictions(model, alphas, implicit; outdir = name)\n",
    "    splits_to_save = [\"training\", \"validation\", \"test\"]\n",
    "    splits_to_log = [\"training\", \"validation\"]\n",
    "\n",
    "    predictions = Dict()\n",
    "    for split in splits_to_save\n",
    "        df = residualize(split, alphas, implicit)\n",
    "        x = model(df.user, df.item)\n",
    "        predictions[split] = RatingsDataset(df.user, df.item, x)\n",
    "        if split in splits_to_log\n",
    "            @info \"$(split) loss: $(residualized_loss(x, alphas, implicit, split))\"\n",
    "        end\n",
    "    end\n",
    "\n",
    "    outdir = mkpath(\"../../data/alphas/$outdir\")\n",
    "    save(\"$outdir/predictions.jld2\", predictions)\n",
    "end;"
   ]
  },
  {
   "cell_type": "code",
   "execution_count": 18,
   "id": "e5237f49-f24d-43e1-9698-7358d22e7c1b",
   "metadata": {},
   "outputs": [],
   "source": [
    "function write_params(params; outdir = name)\n",
    "    outdir = mkpath(\"../../data/alphas/$outdir\")\n",
    "    save(\"$outdir/params.jld2\", params)\n",
    "end\n",
    "\n",
    "function read_params(alpha)\n",
    "    load(\"../../data/alphas/$alpha/params.jld2\")\n",
    "end;"
   ]
  }
 ],
 "metadata": {
  "kernelspec": {
   "display_name": "Julia 1.7.2",
   "language": "julia",
   "name": "julia-1.7"
  },
  "language_info": {
   "file_extension": ".jl",
   "mimetype": "application/julia",
   "name": "julia",
   "version": "1.7.2"
  }
 },
 "nbformat": 4,
 "nbformat_minor": 5
}
