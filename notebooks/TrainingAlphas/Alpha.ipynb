{
 "cells": [
  {
   "cell_type": "markdown",
   "id": "ba949471-e864-4ebf-b949-7772e87b6057",
   "metadata": {
    "tags": []
   },
   "source": [
    "# Helper functions for training alphas"
   ]
  },
  {
   "cell_type": "code",
   "execution_count": null,
   "id": "5f693eb8-9aab-4305-a6ee-17e885f3f24d",
   "metadata": {
    "tags": []
   },
   "outputs": [],
   "source": [
    "import CSV\n",
    "import DataFrames: DataFrame\n",
    "import JLD2\n",
    "import Memoize: @memoize\n",
    "import NBInclude: @nbinclude\n",
    "import NNlib: softmax\n",
    "import Optim\n",
    "import ProgressMeter: @showprogress\n",
    "import Setfield\n",
    "import Setfield: @set\n",
    "import SparseArrays"
   ]
  },
  {
   "cell_type": "markdown",
   "id": "cd094a91-95a1-4007-a3c6-748cda48f03d",
   "metadata": {},
   "source": [
    "## General utilities"
   ]
  },
  {
   "cell_type": "code",
   "execution_count": null,
   "id": "bd9bcd93-0801-4944-9e44-b2b25cc16934",
   "metadata": {},
   "outputs": [],
   "source": [
    "@nbinclude(\"AlphaUtils.ipynb\");"
   ]
  },
  {
   "cell_type": "code",
   "execution_count": null,
   "id": "9d0e0457-b3a2-4283-a855-efd59838d397",
   "metadata": {},
   "outputs": [],
   "source": [
    "function get_data_path(file)\n",
    "    path = pwd()\n",
    "    while basename(path) != \"notebooks\"\n",
    "        path = dirname(path)\n",
    "    end\n",
    "    path = dirname(path)\n",
    "    \"$path/data/$file\"\n",
    "end;"
   ]
  },
  {
   "cell_type": "code",
   "execution_count": null,
   "id": "94fef655-3bf2-494b-870c-96e1b027335e",
   "metadata": {},
   "outputs": [],
   "source": [
    "function set_logging_outdir(name)\n",
    "    redirect_logging(get_data_path(\"alphas/$name\"); overwrite = false)\n",
    "end;"
   ]
  },
  {
   "cell_type": "markdown",
   "id": "3a27bef3-23dd-49fb-b313-1317cc9f1151",
   "metadata": {},
   "source": [
    "## Static data"
   ]
  },
  {
   "cell_type": "code",
   "execution_count": null,
   "id": "ca2ddd8e-1c8c-49b0-97ef-848107f4af49",
   "metadata": {},
   "outputs": [],
   "source": [
    "@memoize function num_users()\n",
    "    df = DataFrame(CSV.File(get_data_path(\"processed_data/username_to_uid.csv\")))\n",
    "    length(df.uid)\n",
    "end\n",
    "\n",
    "@memoize function num_items(medium)\n",
    "    df = DataFrame(CSV.File(get_data_path(\"processed_data/$(medium)_to_uid.csv\")))\n",
    "    length(df.uid)\n",
    "end;"
   ]
  },
  {
   "cell_type": "code",
   "execution_count": null,
   "id": "d8c06fef-9c4a-47bb-91c6-58533ae37d92",
   "metadata": {},
   "outputs": [],
   "source": [
    "@memoize function get_timestamp_encodings()\n",
    "    function parse_line(file::IO, field::String, format::Type = Int)\n",
    "        line = readline(file)\n",
    "        fields = split(strip(line), \",\")\n",
    "        @assert length(fields) == 2\n",
    "        @assert fields[1] == field\n",
    "        parse(format, fields[2])\n",
    "    end\n",
    "\n",
    "    open(get_data_path(\"processed_data/timestamps.csv\")) do f\n",
    "        return parse_line(f, \"min_timestamp\"), parse_line(f, \"max_timestamp\")\n",
    "    end\n",
    "end\n",
    "\n",
    "\n",
    "@memoize function day_in_timestamp_units()\n",
    "    min_timestamp, max_timestamp = get_timestamp_encodings()\n",
    "    seconds_in_day = 24 * 60 * 60\n",
    "    return seconds_in_day / Float64(max_timestamp - min_timestamp)\n",
    "end\n",
    "\n",
    "days_in_timestamp_units(d) = d * day_in_timestamp_units()\n",
    "\n",
    "function timestamp_to_unix(ts)\n",
    "    @assert ts > 0\n",
    "    min_timestamp, max_timestamp = get_timestamp_encodings()\n",
    "    unix_time = Int64(round(ts * (max_timestamp - min_timestamp) + min_timestamp))\n",
    "end\n",
    "\n",
    "function unix_to_timestamp(unix_time)\n",
    "    min_timestamp, max_timestamp = get_timestamp_encodings()\n",
    "    ts = (unix_time - min_timestamp) / (max_timestamp - min_timestamp)\n",
    "    convert(Float32, ts)\n",
    "end\n",
    "\n",
    "function timestamp_to_date(ts)\n",
    "    Dates.unix2datetime(timestamp_to_unix(ts))\n",
    "end;"
   ]
  },
  {
   "cell_type": "code",
   "execution_count": null,
   "id": "35db7d1e-31e1-44a8-b68b-3a1348309088",
   "metadata": {},
   "outputs": [],
   "source": [
    "function get_status(status::Symbol)\n",
    "    status_encoding = Dict(\n",
    "        :rewatching => 7,\n",
    "        :completed => 6,\n",
    "        :watching => 5,\n",
    "        :plan_to_watch => 4,\n",
    "        :on_hold => 3,\n",
    "        :dropped => 2,\n",
    "        :wont_watch => 1,\n",
    "        :none => 0,\n",
    "    )\n",
    "    status_encoding[status]\n",
    "end;"
   ]
  },
  {
   "cell_type": "markdown",
   "id": "3a83f090-19d7-4ed6-8828-09a195527cf3",
   "metadata": {},
   "source": [
    "## Reading and writing data"
   ]
  },
  {
   "cell_type": "code",
   "execution_count": null,
   "id": "f39d7a7e-403e-4104-b2a8-f5c48da9c7cc",
   "metadata": {},
   "outputs": [],
   "source": [
    "@kwdef struct RatingsDataset\n",
    "    source::Vector{Int32} = []\n",
    "    medium::Vector{Int32} = []\n",
    "    userid::Vector{Int32} = []\n",
    "    itemid::Vector{Int32} = []\n",
    "    status::Vector{Int32} = []\n",
    "    rating::Vector{Float32} = []\n",
    "    update_order::Vector{Int32} = []\n",
    "    updated_at::Vector{Float32} = []\n",
    "    created_at::Vector{Float32} = []\n",
    "    started_at::Vector{Float32} = []\n",
    "    finished_at::Vector{Float32} = []\n",
    "    progress::Vector{Float32} = []\n",
    "    repeat_count::Vector{Int32} = []\n",
    "    priority::Vector{Float32} = []\n",
    "    sentiment::Vector{Int32} = []\n",
    "    sentiment_score::Vector{Float32} = []\n",
    "    owned::Vector{Float32} = []\n",
    "    metric::Vector{Float32} = []\n",
    "    alpha::Vector{Float32} = []\n",
    "end;\n",
    "\n",
    "# append two datasets\n",
    "function Base.cat(x::RatingsDataset, y::RatingsDataset)\n",
    "    # argument validation\n",
    "    x_is_nonempty = false\n",
    "    y_is_nonempty = false\n",
    "    for field in fieldnames(RatingsDataset)\n",
    "        if field in [:medium]\n",
    "            @assert getfield(x, field) == getfield(y, field)\n",
    "            continue\n",
    "        end\n",
    "        if length(getfield(x, field)) != 0\n",
    "            x_is_nonempty = true\n",
    "        end\n",
    "        if length(getfield(y, field)) != 0\n",
    "            y_is_nonempty = true\n",
    "        end\n",
    "    end\n",
    "    if x_is_nonempty && y_is_nonempty\n",
    "        for field in fieldnames(RatingsDataset)\n",
    "            a = length(getfield(x, field)) != 0\n",
    "            b = length(getfield(y, field)) != 0\n",
    "            @assert a == b \"cat: missing field $field\"\n",
    "        end\n",
    "    end\n",
    "\n",
    "    RatingsDataset(\n",
    "        [vcat(getfield(x, c), getfield(y, c)) for c in fieldnames(RatingsDataset)]...,\n",
    "    )\n",
    "end\n",
    "\n",
    "function Base.filter(x::RatingsDataset, mask::BitVector)\n",
    "    filter_array(a) = length(a) > 0 ? a[mask] : []\n",
    "    RatingsDataset([filter_array(getfield(x, c)) for c in fieldnames(RatingsDataset)]...)\n",
    "end;"
   ]
  },
  {
   "cell_type": "code",
   "execution_count": null,
   "id": "a31d149f-b583-49db-8fd5-403affba7f12",
   "metadata": {},
   "outputs": [],
   "source": [
    "function SparseArrays.sparse(x::RatingsDataset, medium)\n",
    "    SparseArrays.sparse(\n",
    "        x.itemid .+ 1,\n",
    "        x.userid .+ 1,\n",
    "        x.metric,\n",
    "        num_items(medium),\n",
    "        num_users(),\n",
    "    )\n",
    "end;"
   ]
  },
  {
   "cell_type": "code",
   "execution_count": null,
   "id": "7a973d23-548c-4cf3-8012-a013b1a30813",
   "metadata": {},
   "outputs": [],
   "source": [
    "const ALL_SPLITS = [\"training\", \"validation\", \"test\", \"negative\"]\n",
    "const ALL_METRICS = [\"rating\", \"watch\", \"plantowatch\", \"drop\"]\n",
    "const ALL_MEDIUMS = [\"manga\", \"anime\"];"
   ]
  },
  {
   "cell_type": "code",
   "execution_count": null,
   "id": "8a6010d1-193e-45a8-91a2-175e58c0cae3",
   "metadata": {},
   "outputs": [],
   "source": [
    "function get_raw_split(split::String, medium::String, fields::Vector{Symbol}, alpha)\n",
    "    stem = get_data_path(\"splits/$(split).$(medium)\")\n",
    "    df = RatingsDataset()\n",
    "    data = Any[nothing for _ = 1:length(fields)]\n",
    "    Threads.@threads for i = 1:length(fields)\n",
    "        data[i] = JLD2.load(\"$stem.$(fields[i]).jld2\", String(fields[i]))\n",
    "    end\n",
    "    for i = 1:length(fields)\n",
    "        df = Setfield.set(df, Setfield.PropertyLens{fields[i]}(), data[i])\n",
    "    end\n",
    "    if !isnothing(alpha)\n",
    "        alpha_df = JLD2.load(get_data_path(\"alphas/$(alpha)/alpha.jld2\"), \"$split.$medium\")\n",
    "        if length(fields) > 0\n",
    "            @assert length(getfield(df, fields[1])) == length(alpha_df.alpha)\n",
    "        end\n",
    "        df = @set df.alpha = alpha_df.alpha\n",
    "    end\n",
    "    df\n",
    "end;"
   ]
  },
  {
   "cell_type": "code",
   "execution_count": null,
   "id": "7e39f118-b54a-46db-a0ad-cd460a6bbb0c",
   "metadata": {},
   "outputs": [],
   "source": [
    "function get_split(\n",
    "    split::String,\n",
    "    metric::String,\n",
    "    medium::String,\n",
    "    fields::Vector{Symbol},\n",
    "    alpha = nothing,\n",
    ")\n",
    "    validargs = split in ALL_SPLITS && metric in ALL_METRICS && medium in ALL_MEDIUMS\n",
    "    @assert validargs \"($split, $metric, $medium) ∉ (split, metric, medium)\"\n",
    "\n",
    "    extrafields = Dict(\n",
    "        \"rating\" => [:rating],\n",
    "        \"watch\" => [:status],\n",
    "        \"plantowatch\" => [:status],\n",
    "        \"drop\" => [:status],\n",
    "    )\n",
    "    fetch = union(Set(fields), Set(extrafields[metric]))\n",
    "    delete!(fetch, :metric)\n",
    "    df = get_raw_split(split, medium, collect(fetch), alpha)\n",
    "\n",
    "    if metric == \"rating\"\n",
    "        df = filter(df, df.rating .!= 0)\n",
    "        df = @set df.metric = copy(df.rating)\n",
    "    elseif metric == \"watch\"\n",
    "        df = filter(df, df.status .> get_status(:plan_to_watch))\n",
    "        df = @set df.metric = ones(Float32, length(df.status))\n",
    "    elseif metric == \"plantowatch\"\n",
    "        df = filter(df, df.status .== get_status(:plan_to_watch))\n",
    "        df = @set df.metric = ones(Float32, length(df.status))\n",
    "    elseif metric == \"drop\"\n",
    "        df = @set df.metric = zeros(Float32, length(df.status))\n",
    "        df = filter(df, df.status .> get_status(:none))\n",
    "        for i = 1:length(df.status)\n",
    "            if df.status[i] <= get_status(:dropped)\n",
    "                df.metric[i] = 1\n",
    "            end\n",
    "        end\n",
    "    else\n",
    "        @assert false\n",
    "    end\n",
    "\n",
    "    # clear any columns you are not interested in\n",
    "    if !isnothing(alpha)\n",
    "        push!(fields, :alpha)\n",
    "    end\n",
    "    for f in fieldnames(RatingsDataset)\n",
    "        if f ∉ fields\n",
    "            df = Setfield.set(df, Setfield.PropertyLens{f}(), [])\n",
    "        end\n",
    "    end\n",
    "    df\n",
    "end;"
   ]
  },
  {
   "cell_type": "code",
   "execution_count": null,
   "id": "34e757e4-d21f-450d-a18f-568483f95224",
   "metadata": {},
   "outputs": [],
   "source": [
    "function write_alpha(\n",
    "    model::Function,\n",
    "    medium::String,\n",
    "    outdir::String,\n",
    "    splits::Vector{String},\n",
    ")\n",
    "    @assert \"negative\" in splits\n",
    "    alpha = Dict()\n",
    "    for split in splits\n",
    "        df = get_raw_split(split, medium, [:userid, :itemid], nothing)\n",
    "        x = model(df.userid, df.itemid)\n",
    "        @assert length(x) == length(df.userid)\n",
    "        alpha[\"$split.$medium\"] = RatingsDataset(alpha = x)\n",
    "    end\n",
    "    outdir = mkpath(get_data_path(\"alphas/$outdir\"))\n",
    "    JLD2.save(\"$outdir/alpha.jld2\", alpha; compress = true)\n",
    "end;"
   ]
  },
  {
   "cell_type": "code",
   "execution_count": null,
   "id": "0180a286-438d-4342-932f-95c2d00f2726",
   "metadata": {},
   "outputs": [],
   "source": [
    "function read_alpha(alpha::String, split::String, metric::String, medium::String)\n",
    "    get_split(split, metric, medium, [:userid, :itemid], alpha)\n",
    "end;"
   ]
  },
  {
   "cell_type": "code",
   "execution_count": null,
   "id": "e5237f49-f24d-43e1-9698-7358d22e7c1b",
   "metadata": {},
   "outputs": [],
   "source": [
    "function write_params(params, outdir)\n",
    "    outdir = mkpath(get_data_path(\"alphas/$outdir\"))\n",
    "    JLD2.save(\"$outdir/params.jld2\", params; compress = true)\n",
    "end\n",
    "\n",
    "function read_params(alpha)\n",
    "    JLD2.load(get_data_path(\"alphas/$alpha/params.jld2\"))\n",
    "end;"
   ]
  },
  {
   "cell_type": "markdown",
   "id": "ae092e05-ff2f-4f0a-b6fd-fd39b78930b4",
   "metadata": {},
   "source": [
    "## Loss functions"
   ]
  },
  {
   "cell_type": "code",
   "execution_count": null,
   "id": "ea33e3e7-ba24-4f51-937a-2469c71b9c22",
   "metadata": {},
   "outputs": [],
   "source": [
    "function loss(x, y, w, metric)\n",
    "    safelog(x) = log(x .+ Float32(eps(Float64))) # so that log(0) doesn't NaN\n",
    "    if metric == \"rating\"\n",
    "        lossfn = (x, y) -> (x - y) .^ 2\n",
    "    elseif metric in [\"watch\", \"plantowatch\"]\n",
    "        lossfn = (x, y) -> -y .* safelog.(x)\n",
    "    elseif metric == \"drop\"\n",
    "        lossfn = (x, y) -> -(y .* safelog.(x) + (1 .- y) .* safelog.(1 .- x))\n",
    "    else\n",
    "        @assert false\n",
    "    end\n",
    "    sum(lossfn(x, y) .* w) / sum(w)\n",
    "end;"
   ]
  },
  {
   "cell_type": "code",
   "execution_count": null,
   "id": "ef4e10c3-a442-471d-85f8-2632077b73f7",
   "metadata": {},
   "outputs": [],
   "source": [
    "# find β s.t. loss(X * β, y, w) is minimized\n",
    "function regress(X, y, w, metric)\n",
    "    if metric == \"rating\"\n",
    "        Xw = (X .* sqrt.(w))\n",
    "        yw = (y .* sqrt.(w))\n",
    "        # prevent singular matrix\n",
    "        λ = 1f-9 * LinearAlgebra.I(size(Xw)[2])\n",
    "        return (Xw'Xw + λ) \\ Xw'yw\n",
    "    elseif metric in [\"watch\", \"plantowatch\", \"drop\"]\n",
    "        return softmax(\n",
    "            Optim.minimizer(\n",
    "                Optim.optimize(\n",
    "                    β -> loss(X * softmax(β), y, w, metric),\n",
    "                    fill(0.0f0, size(X)[2]),\n",
    "                    Optim.LBFGS(),\n",
    "                    autodiff = :forward,\n",
    "                    Optim.Options(g_tol = 1e-6, iterations = 100),\n",
    "                ),\n",
    "            ),\n",
    "        )\n",
    "    else\n",
    "        @assert false\n",
    "    end\n",
    "end;"
   ]
  },
  {
   "cell_type": "code",
   "execution_count": null,
   "id": "65b40c71-ab4f-4ee6-9a2e-838463f366d0",
   "metadata": {},
   "outputs": [],
   "source": [
    "function powerdecay(x, a)\n",
    "    x == 0 ? zero(eltype(a)) : sign(x) * abs(x)^a\n",
    "end\n",
    "\n",
    "function powerdecay(x::Vector, a)\n",
    "    y = Array{eltype(a)}(undef, length(x))\n",
    "    Threads.@threads for i = 1:length(x)\n",
    "        @inbounds y[i] = powerdecay(x[i], a)\n",
    "    end\n",
    "    y\n",
    "end\n",
    "\n",
    "function get_counts(data::Vector{Int32})\n",
    "    counts = Dict{Int32,Int32}()\n",
    "    @showprogress for i = 1:length(data)\n",
    "        u = data[i]\n",
    "        if u ∉ keys(counts)\n",
    "            counts[u] = 0\n",
    "        end\n",
    "        counts[u] += 1\n",
    "    end\n",
    "    counts\n",
    "\n",
    "    ret = zeros(Int32, length(data))\n",
    "    for i = 1:length(data)\n",
    "        ret[i] = counts[data[i]]\n",
    "    end\n",
    "    ret\n",
    "end;"
   ]
  },
  {
   "cell_type": "code",
   "execution_count": null,
   "id": "cc26826d-5db1-4813-be30-c745e07cb676",
   "metadata": {},
   "outputs": [],
   "source": [
    "function get_features(split::String, metric::String, medium::String, alphas::Vector{String})\n",
    "    # labels\n",
    "    df = get_split(split, metric, medium, [:userid, :metric])\n",
    "    y = df.metric\n",
    "\n",
    "    # weights\n",
    "    w = powerdecay(get_counts(df.userid), -1.0f0)\n",
    "\n",
    "    # inputs\n",
    "    X = [read_alpha(a, split, metric, medium).alpha for a in alphas]\n",
    "    if metric in [\"watch\", \"plantowatch\"]\n",
    "        push!(X, fill(1.0f0 / num_items(medium), length(y)))\n",
    "    elseif metric == \"drop\"\n",
    "        push!(X, fill(1.0f0, length(y)))\n",
    "    end\n",
    "    X = hcat(X...)\n",
    "\n",
    "    X, y, w\n",
    "end;"
   ]
  },
  {
   "cell_type": "code",
   "execution_count": null,
   "id": "1169cf5d-1319-4cee-a5bc-53e4085201a7",
   "metadata": {
    "editable": true,
    "slideshow": {
     "slide_type": ""
    },
    "tags": [
     "parameters"
    ]
   },
   "outputs": [],
   "source": [
    "function compute_loss(\n",
    "    metric::String,\n",
    "    medium::String,\n",
    "    alphas::Vector{String},\n",
    "    eval_split::String,\n",
    "    regression_split::Union{String,Nothing} = nothing,\n",
    ")\n",
    "    if isnothing(regression_split)\n",
    "        regression_split = eval_split\n",
    "    end\n",
    "    β = regress(get_features(regression_split, metric, medium, alphas)..., metric)\n",
    "    X, y, w = get_features(eval_split, metric, medium, alphas)\n",
    "    x = X * β\n",
    "    loss(x, y, w, metric), β\n",
    "end;"
   ]
  }
 ],
 "metadata": {
  "kernelspec": {
   "display_name": "Julia 1.9.2",
   "language": "julia",
   "name": "julia-1.9"
  },
  "language_info": {
   "file_extension": ".jl",
   "mimetype": "application/julia",
   "name": "julia",
   "version": "1.9.2"
  }
 },
 "nbformat": 4,
 "nbformat_minor": 5
}
