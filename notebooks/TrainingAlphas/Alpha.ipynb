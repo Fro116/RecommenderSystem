{
 "cells": [
  {
   "cell_type": "code",
   "execution_count": null,
   "id": "1c89e5ea-fcbc-47ec-a80d-64e4b9573837",
   "metadata": {},
   "outputs": [],
   "source": [
    "import JupyterFormatter\n",
    "JupyterFormatter.enable_autoformat();"
   ]
  },
  {
   "cell_type": "code",
   "execution_count": null,
   "id": "5f693eb8-9aab-4305-a6ee-17e885f3f24d",
   "metadata": {
    "tags": []
   },
   "outputs": [],
   "source": [
    "import CSV\n",
    "import DataFrames\n",
    "import Glob\n",
    "import JLD2\n",
    "import Memoize: @memoize\n",
    "import Setfield\n",
    "import Setfield: @set"
   ]
  },
  {
   "cell_type": "markdown",
   "id": "3a27bef3-23dd-49fb-b313-1317cc9f1151",
   "metadata": {},
   "source": [
    "## Static data"
   ]
  },
  {
   "cell_type": "code",
   "execution_count": null,
   "id": "9d0e0457-b3a2-4283-a855-efd59838d397",
   "metadata": {},
   "outputs": [],
   "source": [
    "function get_data_path(file)\n",
    "    joinpath(@__DIR__, \"../../data/$file\")\n",
    "end;"
   ]
  },
  {
   "cell_type": "code",
   "execution_count": null,
   "id": "35f279c0-c50d-4450-8717-35f82f1a3c89",
   "metadata": {},
   "outputs": [],
   "source": [
    "function read_csv(x; kw...)\n",
    "    CSV.read(x, DataFrames.DataFrame; types = String, missingstring = nothing, kw...)\n",
    "end;"
   ]
  },
  {
   "cell_type": "code",
   "execution_count": null,
   "id": "ca2ddd8e-1c8c-49b0-97ef-848107f4af49",
   "metadata": {},
   "outputs": [],
   "source": [
    "@memoize function num_users()\n",
    "    df = read_csv(get_data_path(\"processed_data/relabel_userid_map.csv\"))\n",
    "    maximum(parse.(Int32, df.userid))\n",
    "end\n",
    "\n",
    "@memoize function num_items(medium)\n",
    "    df = read_csv(get_data_path(\"processed_data/$medium.csv\"), ntasks = 1)\n",
    "    maximum(parse.(Int32, df.uid))\n",
    "end;"
   ]
  },
  {
   "cell_type": "code",
   "execution_count": null,
   "id": "35db7d1e-31e1-44a8-b68b-3a1348309088",
   "metadata": {},
   "outputs": [],
   "source": [
    "@memoize function get_status(status::Symbol)::Int32\n",
    "    df = read_csv(get_data_path(\"processed_data/status.csv\"))\n",
    "    status_encoding =\n",
    "        Dict(Symbol(k) => parse(Int32, v) for (k, v) in zip(df.name, df.encoding))\n",
    "    status_encoding[status]\n",
    "end;"
   ]
  },
  {
   "cell_type": "markdown",
   "id": "3a83f090-19d7-4ed6-8828-09a195527cf3",
   "metadata": {},
   "source": [
    "## Reading and writing data"
   ]
  },
  {
   "cell_type": "code",
   "execution_count": null,
   "id": "f39d7a7e-403e-4104-b2a8-f5c48da9c7cc",
   "metadata": {},
   "outputs": [],
   "source": [
    "@kwdef struct RatingsDataset\n",
    "    source::Vector{Int32} = []\n",
    "    medium::Vector{Int32} = []\n",
    "    userid::Vector{Int32} = []\n",
    "    itemid::Vector{Int32} = []\n",
    "    status::Vector{Int32} = []\n",
    "    rating::Vector{Float32} = []\n",
    "    updated_at::Vector{Float64} = []\n",
    "    created_at::Vector{Float64} = []\n",
    "    started_at::Vector{Float64} = []\n",
    "    finished_at::Vector{Float64} = []\n",
    "    update_order::Vector{Int32} = []\n",
    "    progress::Vector{Float32} = []\n",
    "    progress_volumes::Vector{Float32} = []\n",
    "    repeat_count::Vector{Int32} = []\n",
    "    priority::Vector{Int32} = []\n",
    "    sentiment::Vector{Int32} = []\n",
    "    alpha::Vector{Float32} = []\n",
    "    metric::Vector{Float32} = []\n",
    "end\n",
    "\n",
    "function subset(x::RatingsDataset, ord)\n",
    "    mask(arr) = !isempty(arr) ? arr[ord] : arr\n",
    "    RatingsDataset([mask(getfield(x, c)) for c in fieldnames(RatingsDataset)]...)\n",
    "end\n",
    "\n",
    "function cat(x::RatingsDataset, y::RatingsDataset)\n",
    "    nonempty(df, f) = length(getfield(x, f)) != 0\n",
    "    for f in fieldnames(RatingsDataset)\n",
    "        @assert nonempty(x, f) == nonempty(y, f) \"cat: missing field $field\"\n",
    "    end\n",
    "    RatingsDataset(\n",
    "        [vcat(getfield(x, c), getfield(y, c)) for c in fieldnames(RatingsDataset)]...,\n",
    "    )\n",
    "end;"
   ]
  },
  {
   "cell_type": "code",
   "execution_count": null,
   "id": "b69936d9-cda5-40e7-b5d2-0d1ea56bf206",
   "metadata": {},
   "outputs": [],
   "source": [
    "function get_datasets()\n",
    "    available = Set([\n",
    "        basename(f) |> x -> split(x, \".\")[1] for\n",
    "        f in Glob.glob(\"splits/*.jld2\", get_data_path(\"\"))\n",
    "    ])\n",
    "    possible = [\"training\", \"streaming\", \"test\", \"causal\"]\n",
    "    [x for x in possible if x in available]\n",
    "end\n",
    "\n",
    "const ALL_DATASETS = get_datasets()\n",
    "const ALL_SPLITS = [\"train\", \"test\"]\n",
    "const ALL_MEDIUMS = [\"manga\", \"anime\"]\n",
    "const ALL_METRICS = [\"rating\", \"watch\", \"plantowatch\", \"drop\"];"
   ]
  },
  {
   "cell_type": "code",
   "execution_count": null,
   "id": "5225442b-a9c5-4d13-9ab5-aa5ad838ba43",
   "metadata": {},
   "outputs": [],
   "source": [
    "function get_split(dataset::String, split::String, medium::String, fields::Vector{Symbol})\n",
    "    @assert dataset in ALL_DATASETS\n",
    "    @assert split in ALL_SPLITS\n",
    "    @assert medium in ALL_MEDIUMS\n",
    "    @assert Set(fields) ⊆ Set(fieldnames(RatingsDataset))\n",
    "    df = RatingsDataset()\n",
    "    fn = get_data_path(\"splits/$dataset.$split\")\n",
    "    for i = 1:length(fields)\n",
    "        df = Setfield.set(\n",
    "            df,\n",
    "            Setfield.PropertyLens{fields[i]}(),\n",
    "            JLD2.load(\"$fn.$(fields[i]).jld2\", medium),\n",
    "        )\n",
    "    end\n",
    "    @assert [length(getfield(df, f)) for f in fields] |> Set |> length <= 1\n",
    "    df\n",
    "end\n",
    "\n",
    "function get_split(\n",
    "    dataset::String,\n",
    "    split::String,\n",
    "    medium::String,\n",
    "    fields::Vector{Symbol},\n",
    "    alpha::String,\n",
    ")\n",
    "    @assert dataset != \"training\"\n",
    "    df = get_split(dataset, split, medium, fields)\n",
    "    alpha_df = JLD2.load(get_data_path(\"alphas/$alpha/alpha.jld2\"), \"$dataset.$split\")\n",
    "    df = @set df.alpha = alpha_df.alpha\n",
    "    @assert all(length(getfield(df, f)) == length(df.alpha) for f in fields)\n",
    "    df\n",
    "end\n",
    "\n",
    "function as_metric(df::RatingsDataset, metric::String)\n",
    "    @assert metric in ALL_METRICS\n",
    "    if metric == \"rating\"\n",
    "        df = subset(df, df.rating .!= 0)\n",
    "        df = @set df.metric = copy(df.rating)\n",
    "    elseif metric == \"watch\"\n",
    "        df = subset(df, df.status .> get_status(:planned))\n",
    "        df = @set df.metric = ones(Float32, length(df.status))\n",
    "    elseif metric == \"plantowatch\"\n",
    "        df = subset(df, df.status .== get_status(:planned))\n",
    "        df = @set df.metric = ones(Float32, length(df.status))\n",
    "    elseif metric == \"drop\"\n",
    "        df = subset(df, df.status .> get_status(:none))\n",
    "        df = @set df.metric = df.status .<= get_status(:dropped)\n",
    "    else\n",
    "        @assert false\n",
    "    end\n",
    "    df\n",
    "end;"
   ]
  },
  {
   "cell_type": "code",
   "execution_count": null,
   "id": "34e757e4-d21f-450d-a18f-568483f95224",
   "metadata": {},
   "outputs": [],
   "source": [
    "function write_alpha(model::Function, medium::String, name::String)\n",
    "    alphas = Dict()\n",
    "    for dataset in ALL_DATASETS\n",
    "        if dataset == \"training\"\n",
    "            continue\n",
    "        end\n",
    "        cols = collect(setdiff(Set(fieldnames(RatingsDataset)), Set([:alpha, :metric])))\n",
    "        userids = union(\n",
    "            [Set(get_split(dataset, x, medium, [:userid]).userid) for x in ALL_SPLITS]...,\n",
    "        )\n",
    "        preds = model(get_split(dataset, \"train\", medium, cols), userids)\n",
    "        for split in ALL_SPLITS\n",
    "            df = get_split(dataset, split, medium, [:userid, :itemid])\n",
    "            alpha = [preds[u][a] for (u, a) in zip(df.userid, df.itemid)]\n",
    "            alphas[\"$dataset.$split\"] = RatingsDataset(alpha = alpha)\n",
    "        end\n",
    "    end\n",
    "    outdir = mkpath(get_data_path(\"alphas/$name\"))\n",
    "    JLD2.save(\"$outdir/alpha.jld2\", alphas; compress = true)\n",
    "end;"
   ]
  },
  {
   "cell_type": "code",
   "execution_count": null,
   "id": "e5237f49-f24d-43e1-9698-7358d22e7c1b",
   "metadata": {},
   "outputs": [],
   "source": [
    "function write_params(params, outdir)\n",
    "    outdir = mkpath(get_data_path(\"alphas/$outdir\"))\n",
    "    JLD2.save(\"$outdir/params.jld2\", params; compress = true)\n",
    "end\n",
    "\n",
    "function read_params(outdir)\n",
    "    JLD2.load(get_data_path(\"alphas/$outdir/params.jld2\"))\n",
    "end;"
   ]
  }
 ],
 "metadata": {
  "kernelspec": {
   "display_name": "Julia 1.10.2",
   "language": "julia",
   "name": "julia-1.10"
  },
  "language_info": {
   "file_extension": ".jl",
   "mimetype": "application/julia",
   "name": "julia",
   "version": "1.10.2"
  }
 },
 "nbformat": 4,
 "nbformat_minor": 5
}
