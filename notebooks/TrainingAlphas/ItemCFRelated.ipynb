{
 "cells": [
  {
   "cell_type": "markdown",
   "id": "c3758ece-9b72-47b4-ae6a-aa364e0443e3",
   "metadata": {},
   "source": [
    "# Item Collaborative Filtering\n",
    "* See `ItemCollaborativeFilteringBase.ipynb` for algorithm details\n",
    "* We construct a graph $G$ where the vertices are items and edges are relations (sequel, prequel, etc.)\n",
    "* $w_{ij}$ is the length of the shortest path between items $i,j$ in $G$"
   ]
  },
  {
   "cell_type": "code",
   "execution_count": 1,
   "id": "7cc9334a-2287-41d6-885b-a5cca94fe263",
   "metadata": {},
   "outputs": [],
   "source": [
    "name = \"ItemCFRelated\";"
   ]
  },
  {
   "cell_type": "code",
   "execution_count": 2,
   "id": "d17593ac-3260-4c01-a5df-91edfcd17e13",
   "metadata": {},
   "outputs": [],
   "source": [
    "using NBInclude\n",
    "@nbinclude(\"ItemCFBase.ipynb\");"
   ]
  },
  {
   "cell_type": "code",
   "execution_count": 3,
   "id": "7e4b4828-4e13-4d43-aaf2-88d168be8b2e",
   "metadata": {},
   "outputs": [],
   "source": [
    "using DataFrames"
   ]
  },
  {
   "cell_type": "markdown",
   "id": "bff8e524-e8f8-48bd-9ca7-c28a05a122b8",
   "metadata": {},
   "source": [
    "## Compute similarity matrices"
   ]
  },
  {
   "cell_type": "code",
   "execution_count": 4,
   "id": "f3125135-9a7d-4f1a-b63b-cc33dca04cce",
   "metadata": {},
   "outputs": [],
   "source": [
    "function get_similarity_matrix(relationships)\n",
    "    file = \"../../data/processed_data/related_series.csv\"\n",
    "    df = DataFrame(CSV.File(file))\n",
    "    df = filter(x -> x.relationship ∈ relationships, df)\n",
    "    num_items = maximum(get_split(\"training\").item)\n",
    "    sparse(\n",
    "        df.source .+ 1,\n",
    "        df.target .+ 1,\n",
    "        fill(1.0, length(df.source)),\n",
    "        num_items,\n",
    "        num_items,\n",
    "    )\n",
    "end;"
   ]
  },
  {
   "cell_type": "code",
   "execution_count": 5,
   "id": "9accac32-ce5d-49b2-b161-2caf4368514b",
   "metadata": {},
   "outputs": [],
   "source": [
    "function all_pairs_shortest_paths(S)\n",
    "    # uses the optimization that all edges are weight 1\n",
    "    dists = fill(Inf, size(S)...)\n",
    "    for v = 1:size(S)[1]\n",
    "        dists[v, v] = 0\n",
    "    end\n",
    "    T = I(size(S)[1])\n",
    "\n",
    "    @showprogress for epoch = 1:size(S)[1]\n",
    "        T = T * S\n",
    "        change = false\n",
    "        for (i, j, v) in zip(findnz(T)...)\n",
    "            if dists[i, j] > epoch\n",
    "                dists[i, j] = epoch\n",
    "                change = true\n",
    "            end\n",
    "        end\n",
    "        if !change\n",
    "            break\n",
    "        end\n",
    "    end\n",
    "    dists\n",
    "end;"
   ]
  },
  {
   "cell_type": "code",
   "execution_count": 6,
   "id": "c9572dd9-db8e-4b1c-83ca-cacc666325f9",
   "metadata": {},
   "outputs": [],
   "source": [
    "function get_similarity_matrix_outdir(relationships)\n",
    "    # if the matrix is already stored on disk, return its filepath\n",
    "    # otherwise, regenerate the matrix and store it to disk\n",
    "    outdir = \"$name/$(hash(relationships))\"\n",
    "    if ispath(\"../../data/alphas/$outdir\")\n",
    "        return outdir\n",
    "    end\n",
    "\n",
    "    @debug \"generating similarity matrix for relationships $relationships\"\n",
    "    S = get_similarity_matrix(relationships)\n",
    "    S = collect(1 ./ all_pairs_shortest_paths(S))\n",
    "    S = convert.(Float32, S)\n",
    "    write_params(Dict(\"S\" => S), outdir = outdir)\n",
    "    outdir\n",
    "end;"
   ]
  },
  {
   "cell_type": "markdown",
   "id": "85910c72-6e77-4dbd-8991-6ad3b81035a7",
   "metadata": {},
   "source": [
    "## Setup hyperparameters"
   ]
  },
  {
   "cell_type": "code",
   "execution_count": 7,
   "id": "103cb5c6-a320-4019-9c63-2cbc52e6e7e7",
   "metadata": {},
   "outputs": [],
   "source": [
    "all_relations = [\n",
    "    \"side_story\",\n",
    "    \"summary\",\n",
    "    \"parent_story\",\n",
    "    \"sequel\",\n",
    "    \"prequel\",\n",
    "    \"character\",\n",
    "    \"alternative_version\",\n",
    "    \"other\",\n",
    "    \"spin_off\",\n",
    "    \"alternative_setting\",\n",
    "    \"full_story\",\n",
    "];"
   ]
  },
  {
   "cell_type": "code",
   "execution_count": 8,
   "id": "413eb75d-941c-4d1b-b0f4-f70858c9a3d5",
   "metadata": {},
   "outputs": [],
   "source": [
    "# Used to filter recommendations\n",
    "# TODO always use strict related\n",
    "strict_relations = [\n",
    "    \"side_story\",\n",
    "    \"summary\",\n",
    "    \"parent_story\",\n",
    "    \"sequel\",\n",
    "    \"prequel\",\n",
    "    \"alternative_version\",\n",
    "    \"spin_off\",\n",
    "    \"alternative_setting\",\n",
    "    \"full_story\",\n",
    "]\n",
    "\n",
    "get_similarity_matrix_outdir(strict_relations);"
   ]
  },
  {
   "cell_type": "code",
   "execution_count": 9,
   "id": "73dee7f4-b5ac-4fe3-9623-a3d8bd91f610",
   "metadata": {
    "tags": []
   },
   "outputs": [],
   "source": [
    "@memoize function max_neighborhood_size(relation)\n",
    "    # returns the size of the largest nonzero neighborhood\n",
    "    S = read_params(get_similarity_matrix_outdir(relation))[\"S\"]\n",
    "    S = 1 ./ S\n",
    "    maxK = 0\n",
    "    for j = 1:size(S)[2]\n",
    "        K = sum((S[:, j] .!= 0) .* (S[:, j] .!= Inf))\n",
    "        if K > maxK\n",
    "            maxK = K\n",
    "        end\n",
    "    end\n",
    "    neighborhood_size = Int(round(maxK))\n",
    "    @debug \"using neighborhood size $neighborhood_size\"\n",
    "    neighborhood_size\n",
    "end;"
   ]
  },
  {
   "cell_type": "code",
   "execution_count": 10,
   "id": "0c00b2aa-a40c-4374-9631-9918f0f55968",
   "metadata": {},
   "outputs": [
    {
     "name": "stderr",
     "output_type": "stream",
     "text": [
      "\u001b[38;5;4m\u001b[1m[ \u001b[22m\u001b[39m\u001b[38;5;4m\u001b[1mDebug: \u001b[22m\u001b[39m20220113 02:03:26 using neighborhood size 106\n"
     ]
    }
   ],
   "source": [
    "downcast_to_int(x) = isinteger(x) ? Int(x) : x\n",
    "alphas = [\n",
    "    [\"UserItemBiases\"]\n",
    "    [\"ItemCF.$K\" for K in downcast_to_int.([2^4, 2^6, 2^8, 2^10])]\n",
    "    [\"ItemCFResid.$K\" for K in downcast_to_int.([2^4, 2^6, 2^8, 2^10])]\n",
    "    [\"MatrixFactorization.$K\" for K in downcast_to_int.([10, 20, 40])]\n",
    "]\n",
    "params = [\n",
    "    cf_params(\n",
    "        name = \"ItemCFRelated.$name\",\n",
    "        training_residuals = alphas,\n",
    "        validation_residuals = alphas,\n",
    "        neighborhood_type = \"abs\",\n",
    "        S = get_similarity_matrix_outdir(relation),\n",
    "        K = max_neighborhood_size(relation),\n",
    "        λ = [1.0483368356243072, 0.7720700833331772, 19.305513975900805],\n",
    "    ) for (relation, name) in zip([strict_relations], [\"strict_relations\"])\n",
    "];"
   ]
  },
  {
   "cell_type": "markdown",
   "id": "73d6710c-a42a-443d-8616-f1441be67eee",
   "metadata": {},
   "source": [
    "## Train models"
   ]
  },
  {
   "cell_type": "code",
   "execution_count": 11,
   "id": "1842d509-9377-4b28-9fe9-9212da6183d1",
   "metadata": {
    "tags": []
   },
   "outputs": [
    {
     "name": "stderr",
     "output_type": "stream",
     "text": [
      "\u001b[32mProgress: 100%|█████████████████████████████████████████| Time: 0:02:30\u001b[39m\n",
      "\u001b[32mProgress: 100%|█████████████████████████████████████████| Time: 0:00:04\u001b[39m\n",
      "\u001b[32mProgress: 100%|███████████████████████████| Time: 0:00:44 (44.59 ms/it)\u001b[39m\n",
      "\u001b[38;5;4m\u001b[1m[ \u001b[22m\u001b[39m\u001b[38;5;4m\u001b[1mDebug: \u001b[22m\u001b[39m20220113 02:07:38 loss: Dual{ForwardDiff.Tag{var\"#validation_mse#22\"{var\"#19#21\"{cf_params, Dict{String, typeof(get_abs_neighborhood)}, Int64, Matrix{Float32}}, RatingsDataset, RatingsDataset}, Float64}}(1.2006332759222358,-2.005628174542259e-9,-3.803004630376038e-9,-1.7813250575267674e-10) β: Dual{ForwardDiff.Tag{var\"#validation_mse#22\"{var\"#19#21\"{cf_params, Dict{String, typeof(get_abs_neighborhood)}, Int64, Matrix{Float32}}, RatingsDataset, RatingsDataset}, Float64}}(2.6645278324984916,0.21301474412429802,-0.42163083785225375,0.12241858063563921): λ ForwardDiff.Dual{ForwardDiff.Tag{var\"#validation_mse#22\"{var\"#19#21\"{cf_params, Dict{String, typeof(get_abs_neighborhood)}, Int64, Matrix{Float32}}, RatingsDataset, RatingsDataset}, Float64}, Float64, 3}[Dual{ForwardDiff.Tag{var\"#validation_mse#22\"{var\"#19#21\"{cf_params, Dict{String, typeof(get_abs_neighborhood)}, Int64, Matrix{Float32}}, RatingsDataset, RatingsDataset}, Float64}}(1.0483368356243072,1.0,0.0,0.0), Dual{ForwardDiff.Tag{var\"#validation_mse#22\"{var\"#19#21\"{cf_params, Dict{String, typeof(get_abs_neighborhood)}, Int64, Matrix{Float32}}, RatingsDataset, RatingsDataset}, Float64}}(0.7720700833331772,0.0,1.0,0.0), Dual{ForwardDiff.Tag{var\"#validation_mse#22\"{var\"#19#21\"{cf_params, Dict{String, typeof(get_abs_neighborhood)}, Int64, Matrix{Float32}}, RatingsDataset, RatingsDataset}, Float64}}(19.305513975900805,0.0,0.0,1.0)]\n"
     ]
    },
    {
     "name": "stdout",
     "output_type": "stream",
     "text": [
      "Iter     Function value   Gradient norm \n",
      "     0     1.200633e+00     3.803005e-09\n",
      " * Current step size: 1.0\n",
      " * time: 0.026339054107666016\n",
      " * g(x): [-2.005628174542259e-9, -3.803004630376038e-9, -1.7813250575267674e-10]\n",
      " * x: [1.0483368356243072, 0.7720700833331772, 19.305513975900805]\n"
     ]
    },
    {
     "name": "stderr",
     "output_type": "stream",
     "text": [
      "\u001b[32mProgress: 100%|███████████████████████████| Time: 0:19:02 ( 1.08  s/it)\u001b[39m\n",
      "\u001b[32mProgress: 100%|█████████████████████████████████████████| Time: 0:02:25\u001b[39m\n",
      "\u001b[38;5;6m\u001b[1m[ \u001b[22m\u001b[39m\u001b[38;5;6m\u001b[1mInfo: \u001b[22m\u001b[39m20220113 02:31:22 training set: RMSE 0.9963327635221425 MAE 0.7292021808155242 R2 0.013598617791763412\n",
      "\u001b[32mProgress: 100%|█████████████████████████████████████████| Time: 0:00:18\u001b[39m\n",
      "\u001b[38;5;6m\u001b[1m[ \u001b[22m\u001b[39m\u001b[38;5;6m\u001b[1mInfo: \u001b[22m\u001b[39m20220113 02:31:52 validation set: RMSE 1.095734126475139 MAE 0.7912385115863292 R2 0.005462716622757435\n",
      "\u001b[32mProgress: 100%|█████████████████████████████████████████| Time: 0:00:18\u001b[39m\n"
     ]
    }
   ],
   "source": [
    "for param in params\n",
    "    optimize_model(param)\n",
    "end"
   ]
  }
 ],
 "metadata": {
  "kernelspec": {
   "display_name": "Julia 1.6.3",
   "language": "julia",
   "name": "julia-1.6"
  },
  "language_info": {
   "file_extension": ".jl",
   "mimetype": "application/julia",
   "name": "julia",
   "version": "1.6.3"
  }
 },
 "nbformat": 4,
 "nbformat_minor": 5
}
