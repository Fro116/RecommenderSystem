{
 "cells": [
  {
   "cell_type": "markdown",
   "id": "c3758ece-9b72-47b4-ae6a-aa364e0443e3",
   "metadata": {},
   "source": [
    "# Item Collaborative Filtering\n",
    "* See `ItemCollaborativeFilteringBase.ipynb` for algorithm details\n",
    "* We construct a graph $G$ where the vertices are items and edges are relations (sequel, prequel, etc.)\n",
    "* $w_{ij}$ is the length of the shortest path between items $i,j$ in $G$"
   ]
  },
  {
   "cell_type": "code",
   "execution_count": 1,
   "id": "7cc9334a-2287-41d6-885b-a5cca94fe263",
   "metadata": {},
   "outputs": [],
   "source": [
    "name = \"ItemCFRelated\";"
   ]
  },
  {
   "cell_type": "code",
   "execution_count": 2,
   "id": "d17593ac-3260-4c01-a5df-91edfcd17e13",
   "metadata": {},
   "outputs": [],
   "source": [
    "using NBInclude\n",
    "@nbinclude(\"ItemCollaborativeFilteringBase.ipynb\");"
   ]
  },
  {
   "cell_type": "code",
   "execution_count": 3,
   "id": "7e4b4828-4e13-4d43-aaf2-88d168be8b2e",
   "metadata": {},
   "outputs": [],
   "source": [
    "using DataFrames"
   ]
  },
  {
   "cell_type": "markdown",
   "id": "bff8e524-e8f8-48bd-9ca7-c28a05a122b8",
   "metadata": {},
   "source": [
    "## Compute similarity matrices"
   ]
  },
  {
   "cell_type": "code",
   "execution_count": 4,
   "id": "f3125135-9a7d-4f1a-b63b-cc33dca04cce",
   "metadata": {},
   "outputs": [],
   "source": [
    "function get_similarity_matrix(relationships)\n",
    "    file = \"../../data/processed_data/related_series.csv\"\n",
    "    df = DataFrame(CSV.File(file))\n",
    "    df = filter(x -> x.relationship ∈ relationships, df)\n",
    "    num_items = maximum(get_split(\"training\").item)\n",
    "    sparse(\n",
    "        df.source .+ 1,\n",
    "        df.target .+ 1,\n",
    "        fill(1.0, length(df.source)),\n",
    "        num_items,\n",
    "        num_items,\n",
    "    )\n",
    "end;"
   ]
  },
  {
   "cell_type": "code",
   "execution_count": 5,
   "id": "9accac32-ce5d-49b2-b161-2caf4368514b",
   "metadata": {},
   "outputs": [],
   "source": [
    "function all_pairs_shortest_paths(S)\n",
    "    # uses the optimization that all edges are weight 1\n",
    "    dists = fill(Inf, size(S)...)\n",
    "    for v = 1:size(S)[1]\n",
    "        dists[v, v] = 0\n",
    "    end\n",
    "    T = I(size(S)[1])\n",
    "\n",
    "    @showprogress for epoch = 1:size(S)[1]\n",
    "        T = T * S\n",
    "        change = false\n",
    "        for (i, j, v) in zip(findnz(T)...)\n",
    "            if dists[i, j] > epoch\n",
    "                dists[i, j] = epoch\n",
    "                change = true\n",
    "            end\n",
    "        end\n",
    "        if !change\n",
    "            break\n",
    "        end\n",
    "    end\n",
    "    dists\n",
    "end;"
   ]
  },
  {
   "cell_type": "code",
   "execution_count": 6,
   "id": "c9572dd9-db8e-4b1c-83ca-cacc666325f9",
   "metadata": {},
   "outputs": [],
   "source": [
    "function get_similarity_matrix_outdir(relationships)\n",
    "    # if the matrix is already stored on disk, return its filepath\n",
    "    # otherwise, regenerate the matrix and store it to disk\n",
    "    outdir = \"$name/$(hash(relationships))\"\n",
    "    if ispath(\"../../data/alphas/$outdir\")\n",
    "        return outdir\n",
    "    end\n",
    "\n",
    "    @debug \"generating similarity matrix for relationships $relationships\"\n",
    "    S = get_similarity_matrix(relationships)\n",
    "    S = collect(1 ./ all_pairs_shortest_paths(S))\n",
    "    S = convert.(Float32, S)        \n",
    "    write_params(Dict(\"S\" => S), outdir = outdir)\n",
    "    outdir\n",
    "end;"
   ]
  },
  {
   "cell_type": "markdown",
   "id": "85910c72-6e77-4dbd-8991-6ad3b81035a7",
   "metadata": {},
   "source": [
    "## Setup hyperparameters"
   ]
  },
  {
   "cell_type": "code",
   "execution_count": 7,
   "id": "103cb5c6-a320-4019-9c63-2cbc52e6e7e7",
   "metadata": {},
   "outputs": [],
   "source": [
    "all_relations = [\n",
    "    \"side_story\",\n",
    "    \"summary\",\n",
    "    \"parent_story\",\n",
    "    \"sequel\",\n",
    "    \"prequel\",\n",
    "    \"character\",\n",
    "    \"alternative_version\",\n",
    "    \"other\",\n",
    "    \"spin_off\",\n",
    "    \"alternative_setting\",\n",
    "    \"full_story\",\n",
    "];"
   ]
  },
  {
   "cell_type": "code",
   "execution_count": 8,
   "id": "73dee7f4-b5ac-4fe3-9623-a3d8bd91f610",
   "metadata": {
    "tags": []
   },
   "outputs": [],
   "source": [
    "@memoize function max_neighborhood_size(relation)\n",
    "    # returns the size of the largest nonzero neighborhood\n",
    "    S = read_params(get_similarity_matrix_outdir(relation))[\"S\"]\n",
    "    S = 1 ./ S\n",
    "    maxK = 0\n",
    "    for j = 1:size(S)[2]\n",
    "        K = sum((S[:, j] .!= 0) .* (S[:, j] .!= Inf))\n",
    "        if K > maxK\n",
    "            maxK = K\n",
    "        end\n",
    "    end\n",
    "    neighborhood_size = Int(round(maxK))\n",
    "    @debug \"using neighborhood size $neighborhood_size\"\n",
    "    neighborhood_size\n",
    "end;"
   ]
  },
  {
   "cell_type": "code",
   "execution_count": 9,
   "id": "0c00b2aa-a40c-4374-9631-9918f0f55968",
   "metadata": {},
   "outputs": [
    {
     "name": "stderr",
     "output_type": "stream",
     "text": [
      "\u001b[38;5;4m\u001b[1m[ \u001b[22m\u001b[39m\u001b[38;5;4m\u001b[1mDebug: \u001b[22m\u001b[39m20220102 15:32:07 using neighborhood size 361\n",
      "\u001b[38;5;4m\u001b[1m[ \u001b[22m\u001b[39m\u001b[38;5;4m\u001b[1mDebug: \u001b[22m\u001b[39m20220102 15:32:12 using neighborhood size 96\n"
     ]
    }
   ],
   "source": [
    "downcast_to_int(x) = isinteger(x) ? Int(x) : x\n",
    "alphas = [\n",
    "    [\"UserItemBiases\"]\n",
    "    [\"ItemCF.$K\" for K in downcast_to_int.([2^4, 2^6, 2^8, 2^10])]\n",
    "    [\"ItemCFResid.$K\" for K in downcast_to_int.([2^4, 2^6, 2^8, 2^10])]\n",
    "    [\"MatrixFactorization.$K\" for K in downcast_to_int.([10, 20, 40])]\n",
    "]\n",
    "params = [\n",
    "    cf_params(\n",
    "        name = \"ItemCFRelated.$name\",\n",
    "        training_residuals = alphas,\n",
    "        validation_residuals = alphas,\n",
    "        neighborhood_type = \"abs\",\n",
    "        S = get_similarity_matrix_outdir(relation),\n",
    "        K = max_neighborhood_size(relation),\n",
    "        λ = [1.0, 1.0, 0.0],\n",
    "    ) for (relation, name) in zip([all_relations], [\"all\"])\n",
    "];"
   ]
  },
  {
   "cell_type": "markdown",
   "id": "73d6710c-a42a-443d-8616-f1441be67eee",
   "metadata": {},
   "source": [
    "## Train models"
   ]
  },
  {
   "cell_type": "code",
   "execution_count": null,
   "id": "1842d509-9377-4b28-9fe9-9212da6183d1",
   "metadata": {
    "tags": []
   },
   "outputs": [
    {
     "name": "stderr",
     "output_type": "stream",
     "text": [
      "\u001b[32mProgress: 100%|███████████████████████████| Time: 0:04:02 ( 0.24  s/it)\u001b[39m\n",
      "\u001b[38;5;4m\u001b[1m[ \u001b[22m\u001b[39m\u001b[38;5;4m\u001b[1mDebug: \u001b[22m\u001b[39m20220102 15:39:49 loss: Dual{ForwardDiff.Tag{var\"#validation_mse#17\"{var\"#14#16\"{cf_params, Dict{String, typeof(get_abs_neighborhood)}, Int64, Matrix{Float64}}, RatingsDataset, RatingsDataset}, Float64}}(1.2026091925091817,-0.0005046458762923906,0.0011950563147905774,-0.0030051603196605465) β: Dual{ForwardDiff.Tag{var\"#validation_mse#17\"{var\"#14#16\"{cf_params, Dict{String, typeof(get_abs_neighborhood)}, Int64, Matrix{Float64}}, RatingsDataset, RatingsDataset}, Float64}}(0.13348222833401327,0.0010533778584762557,-0.08238862115986983,0.2048051457670822): λ ForwardDiff.Dual{ForwardDiff.Tag{var\"#validation_mse#17\"{var\"#14#16\"{cf_params, Dict{String, typeof(get_abs_neighborhood)}, Int64, Matrix{Float64}}, RatingsDataset, RatingsDataset}, Float64}, Float64, 3}[Dual{ForwardDiff.Tag{var\"#validation_mse#17\"{var\"#14#16\"{cf_params, Dict{String, typeof(get_abs_neighborhood)}, Int64, Matrix{Float64}}, RatingsDataset, RatingsDataset}, Float64}}(1.0,1.0,0.0,0.0), Dual{ForwardDiff.Tag{var\"#validation_mse#17\"{var\"#14#16\"{cf_params, Dict{String, typeof(get_abs_neighborhood)}, Int64, Matrix{Float64}}, RatingsDataset, RatingsDataset}, Float64}}(1.0,0.0,1.0,0.0), Dual{ForwardDiff.Tag{var\"#validation_mse#17\"{var\"#14#16\"{cf_params, Dict{String, typeof(get_abs_neighborhood)}, Int64, Matrix{Float64}}, RatingsDataset, RatingsDataset}, Float64}}(0.0,0.0,0.0,1.0)]\n"
     ]
    },
    {
     "name": "stdout",
     "output_type": "stream",
     "text": [
      "Iter     Function value   Gradient norm \n",
      "     0     1.202609e+00     3.005160e-03\n",
      " * Current step size: 1.0\n",
      " * time: 0.0275270938873291\n",
      " * g(x): [-0.0005046458762923906, 0.0011950563147905774, -0.0030051603196605465]\n",
      " * x: [1.0, 1.0, 0.0]\n"
     ]
    },
    {
     "name": "stderr",
     "output_type": "stream",
     "text": [
      "\u001b[32mProgress: 100%|███████████████████████████| Time: 0:03:45 ( 0.23  s/it)\u001b[39m\n",
      "\u001b[38;5;4m\u001b[1m[ \u001b[22m\u001b[39m\u001b[38;5;4m\u001b[1mDebug: \u001b[22m\u001b[39m20220102 15:44:08 loss: Dual{ForwardDiff.Tag{var\"#validation_mse#17\"{var\"#14#16\"{cf_params, Dict{String, typeof(get_abs_neighborhood)}, Int64, Matrix{Float64}}, RatingsDataset, RatingsDataset}, Float64}}(1.2025986936596715,-0.0005161890649113988,0.0011923077511231954,-0.0028654359438486546) β: Dual{ForwardDiff.Tag{var\"#validation_mse#17\"{var\"#14#16\"{cf_params, Dict{String, typeof(get_abs_neighborhood)}, Int64, Matrix{Float64}}, RatingsDataset, RatingsDataset}, Float64}}(0.1341906784777494,0.001460972965672447,-0.08255800603897992,0.20079243214846113): λ ForwardDiff.Dual{ForwardDiff.Tag{var\"#validation_mse#17\"{var\"#14#16\"{cf_params, Dict{String, typeof(get_abs_neighborhood)}, Int64, Matrix{Float64}}, RatingsDataset, RatingsDataset}, Float64}, Float64, 3}[Dual{ForwardDiff.Tag{var\"#validation_mse#17\"{var\"#14#16\"{cf_params, Dict{String, typeof(get_abs_neighborhood)}, Int64, Matrix{Float64}}, RatingsDataset, RatingsDataset}, Float64}}(1.0005046458762923,1.0,0.0,0.0), Dual{ForwardDiff.Tag{var\"#validation_mse#17\"{var\"#14#16\"{cf_params, Dict{String, typeof(get_abs_neighborhood)}, Int64, Matrix{Float64}}, RatingsDataset, RatingsDataset}, Float64}}(0.9988049436852094,0.0,1.0,0.0), Dual{ForwardDiff.Tag{var\"#validation_mse#17\"{var\"#14#16\"{cf_params, Dict{String, typeof(get_abs_neighborhood)}, Int64, Matrix{Float64}}, RatingsDataset, RatingsDataset}, Float64}}(0.0030051603196605465,0.0,0.0,1.0)]\n",
      "\u001b[32mProgress: 100%|███████████████████████████| Time: 0:03:48 ( 0.23  s/it)\u001b[39m\n",
      "\u001b[38;5;4m\u001b[1m[ \u001b[22m\u001b[39m\u001b[38;5;4m\u001b[1mDebug: \u001b[22m\u001b[39m20220102 15:48:23 loss: Dual{ForwardDiff.Tag{var\"#validation_mse#17\"{var\"#14#16\"{cf_params, Dict{String, typeof(get_abs_neighborhood)}, Int64, Matrix{Float64}}, RatingsDataset, RatingsDataset}, Float64}}(1.20256001349972,-0.0005473030109071952,0.0011813632381060942,-0.0024833202679297684) β: Dual{ForwardDiff.Tag{var\"#validation_mse#17\"{var\"#14#16\"{cf_params, Dict{String, typeof(get_abs_neighborhood)}, Int64, Matrix{Float64}}, RatingsDataset, RatingsDataset}, Float64}}(0.1369335471676531,0.0026302832314879523,-0.08319975437676069,0.19002563744107157): λ ForwardDiff.Dual{ForwardDiff.Tag{var\"#validation_mse#17\"{var\"#14#16\"{cf_params, Dict{String, typeof(get_abs_neighborhood)}, Int64, Matrix{Float64}}, RatingsDataset, RatingsDataset}, Float64}, Float64, 3}[Dual{ForwardDiff.Tag{var\"#validation_mse#17\"{var\"#14#16\"{cf_params, Dict{String, typeof(get_abs_neighborhood)}, Int64, Matrix{Float64}}, RatingsDataset, RatingsDataset}, Float64}}(1.0025232293814619,1.0,0.0,0.0), Dual{ForwardDiff.Tag{var\"#validation_mse#17\"{var\"#14#16\"{cf_params, Dict{String, typeof(get_abs_neighborhood)}, Int64, Matrix{Float64}}, RatingsDataset, RatingsDataset}, Float64}}(0.9940247184260471,0.0,1.0,0.0), Dual{ForwardDiff.Tag{var\"#validation_mse#17\"{var\"#14#16\"{cf_params, Dict{String, typeof(get_abs_neighborhood)}, Int64, Matrix{Float64}}, RatingsDataset, RatingsDataset}, Float64}}(0.015025801598302732,0.0,0.0,1.0)]\n",
      "\u001b[32mProgress: 100%|███████████████████████████| Time: 0:03:47 ( 0.23  s/it)\u001b[39m\n",
      "\u001b[38;5;4m\u001b[1m[ \u001b[22m\u001b[39m\u001b[38;5;4m\u001b[1mDebug: \u001b[22m\u001b[39m20220102 15:52:38 loss: Dual{ForwardDiff.Tag{var\"#validation_mse#17\"{var\"#14#16\"{cf_params, Dict{String, typeof(get_abs_neighborhood)}, Int64, Matrix{Float64}}, RatingsDataset, RatingsDataset}, Float64}}(1.202403504306827,-0.0006000424011222282,0.0011214132454013045,-0.0017652404599323302) β: Dual{ForwardDiff.Tag{var\"#validation_mse#17\"{var\"#14#16\"{cf_params, Dict{String, typeof(get_abs_neighborhood)}, Int64, Matrix{Float64}}, RatingsDataset, RatingsDataset}, Float64}}(0.14973143225664046,0.005265662862661511,-0.0857055121119989,0.17167729869744264): λ ForwardDiff.Dual{ForwardDiff.Tag{var\"#validation_mse#17\"{var\"#14#16\"{cf_params, Dict{String, typeof(get_abs_neighborhood)}, Int64, Matrix{Float64}}, RatingsDataset, RatingsDataset}, Float64}, Float64, 3}[Dual{ForwardDiff.Tag{var\"#validation_mse#17\"{var\"#14#16\"{cf_params, Dict{String, typeof(get_abs_neighborhood)}, Int64, Matrix{Float64}}, RatingsDataset, RatingsDataset}, Float64}}(1.0126161469073098,1.0,0.0,0.0), Dual{ForwardDiff.Tag{var\"#validation_mse#17\"{var\"#14#16\"{cf_params, Dict{String, typeof(get_abs_neighborhood)}, Int64, Matrix{Float64}}, RatingsDataset, RatingsDataset}, Float64}}(0.9701235921302356,0.0,1.0,0.0), Dual{ForwardDiff.Tag{var\"#validation_mse#17\"{var\"#14#16\"{cf_params, Dict{String, typeof(get_abs_neighborhood)}, Int64, Matrix{Float64}}, RatingsDataset, RatingsDataset}, Float64}}(0.07512900799151366,0.0,0.0,1.0)]\n",
      "\u001b[32mProgress: 100%|███████████████████████████| Time: 0:03:45 ( 0.23  s/it)\u001b[39m\n",
      "\u001b[38;5;4m\u001b[1m[ \u001b[22m\u001b[39m\u001b[38;5;4m\u001b[1mDebug: \u001b[22m\u001b[39m20220102 15:56:51 loss: Dual{ForwardDiff.Tag{var\"#validation_mse#17\"{var\"#14#16\"{cf_params, Dict{String, typeof(get_abs_neighborhood)}, Int64, Matrix{Float64}}, RatingsDataset, RatingsDataset}, Float64}}(1.2018857709996005,-0.0005616065175477443,0.0006684854998784492,-0.0009622925628768935) β: Dual{ForwardDiff.Tag{var\"#validation_mse#17\"{var\"#14#16\"{cf_params, Dict{String, typeof(get_abs_neighborhood)}, Int64, Matrix{Float64}}, RatingsDataset, RatingsDataset}, Float64}}(0.20930210205845426,0.007827925858778022,-0.08381692018003693,0.15863065215012295): λ ForwardDiff.Dual{ForwardDiff.Tag{var\"#validation_mse#17\"{var\"#14#16\"{cf_params, Dict{String, typeof(get_abs_neighborhood)}, Int64, Matrix{Float64}}, RatingsDataset, RatingsDataset}, Float64}, Float64, 3}[Dual{ForwardDiff.Tag{var\"#validation_mse#17\"{var\"#14#16\"{cf_params, Dict{String, typeof(get_abs_neighborhood)}, Int64, Matrix{Float64}}, RatingsDataset, RatingsDataset}, Float64}}(1.0630807345365487,1.0,0.0,0.0), Dual{ForwardDiff.Tag{var\"#validation_mse#17\"{var\"#14#16\"{cf_params, Dict{String, typeof(get_abs_neighborhood)}, Int64, Matrix{Float64}}, RatingsDataset, RatingsDataset}, Float64}}(0.8506179606511778,0.0,1.0,0.0), Dual{ForwardDiff.Tag{var\"#validation_mse#17\"{var\"#14#16\"{cf_params, Dict{String, typeof(get_abs_neighborhood)}, Int64, Matrix{Float64}}, RatingsDataset, RatingsDataset}, Float64}}(0.3756450399575683,0.0,0.0,1.0)]\n",
      "\u001b[32mProgress: 100%|███████████████████████████| Time: 0:03:44 ( 0.23  s/it)\u001b[39m\n",
      "\u001b[38;5;4m\u001b[1m[ \u001b[22m\u001b[39m\u001b[38;5;4m\u001b[1mDebug: \u001b[22m\u001b[39m20220102 16:01:05 loss: Dual{ForwardDiff.Tag{var\"#validation_mse#17\"{var\"#14#16\"{cf_params, Dict{String, typeof(get_abs_neighborhood)}, Int64, Matrix{Float64}}, RatingsDataset, RatingsDataset}, Float64}}(1.2019447689120146,-0.00011906547526526251,-0.003933533057533842,-0.00018606415653025794) β: Dual{ForwardDiff.Tag{var\"#validation_mse#17\"{var\"#14#16\"{cf_params, Dict{String, typeof(get_abs_neighborhood)}, Int64, Matrix{Float64}}, RatingsDataset, RatingsDataset}, Float64}}(0.394156251423181,0.0025647221129903516,0.30555123380815075,0.12234486100470626): λ ForwardDiff.Dual{ForwardDiff.Tag{var\"#validation_mse#17\"{var\"#14#16\"{cf_params, Dict{String, typeof(get_abs_neighborhood)}, Int64, Matrix{Float64}}, RatingsDataset, RatingsDataset}, Float64}, Float64, 3}[Dual{ForwardDiff.Tag{var\"#validation_mse#17\"{var\"#14#16\"{cf_params, Dict{String, typeof(get_abs_neighborhood)}, Int64, Matrix{Float64}}, RatingsDataset, RatingsDataset}, Float64}}(1.315403672682744,1.0,0.0,0.0), Dual{ForwardDiff.Tag{var\"#validation_mse#17\"{var\"#14#16\"{cf_params, Dict{String, typeof(get_abs_neighborhood)}, Int64, Matrix{Float64}}, RatingsDataset, RatingsDataset}, Float64}}(0.25308980325588915,0.0,1.0,0.0), Dual{ForwardDiff.Tag{var\"#validation_mse#17\"{var\"#14#16\"{cf_params, Dict{String, typeof(get_abs_neighborhood)}, Int64, Matrix{Float64}}, RatingsDataset, RatingsDataset}, Float64}}(1.8782251997878416,0.0,0.0,1.0)]\n",
      "\u001b[32mProgress: 100%|███████████████████████████| Time: 0:03:33 ( 0.22  s/it)\u001b[39m\n",
      "\u001b[38;5;4m\u001b[1m[ \u001b[22m\u001b[39m\u001b[38;5;4m\u001b[1mDebug: \u001b[22m\u001b[39m20220102 16:05:22 loss: Dual{ForwardDiff.Tag{var\"#validation_mse#17\"{var\"#14#16\"{cf_params, Dict{String, typeof(get_abs_neighborhood)}, Int64, Matrix{Float64}}, RatingsDataset, RatingsDataset}, Float64}}(1.2014160421718083,-0.0003063119460735653,-0.0012671675585218,-0.00042817648387216293) β: Dual{ForwardDiff.Tag{var\"#validation_mse#17\"{var\"#14#16\"{cf_params, Dict{String, typeof(get_abs_neighborhood)}, Int64, Matrix{Float64}}, RatingsDataset, RatingsDataset}, Float64}}(0.3366806044841139,0.004509043639155131,0.0305782768599066,0.14923042578728765): λ ForwardDiff.Dual{ForwardDiff.Tag{var\"#validation_mse#17\"{var\"#14#16\"{cf_params, Dict{String, typeof(get_abs_neighborhood)}, Int64, Matrix{Float64}}, RatingsDataset, RatingsDataset}, Float64}, Float64, 3}[Dual{ForwardDiff.Tag{var\"#validation_mse#17\"{var\"#14#16\"{cf_params, Dict{String, typeof(get_abs_neighborhood)}, Int64, Matrix{Float64}}, RatingsDataset, RatingsDataset}, Float64}}(1.1875598602562092,1.0,0.0,0.0), Dual{ForwardDiff.Tag{var\"#validation_mse#17\"{var\"#14#16\"{cf_params, Dict{String, typeof(get_abs_neighborhood)}, Int64, Matrix{Float64}}, RatingsDataset, RatingsDataset}, Float64}}(0.5558378539676161,0.0,1.0,0.0), Dual{ForwardDiff.Tag{var\"#validation_mse#17\"{var\"#14#16\"{cf_params, Dict{String, typeof(get_abs_neighborhood)}, Int64, Matrix{Float64}}, RatingsDataset, RatingsDataset}, Float64}}(1.1169167847840717,0.0,0.0,1.0)]\n"
     ]
    },
    {
     "name": "stdout",
     "output_type": "stream",
     "text": [
      "     1     1.201416e+00     1.267168e-03\n",
      " * Current step size: 371.66628930806434\n",
      " * time: 1533.3210401535034\n",
      " * g(x): [-0.0003063119460735653, -0.0012671675585218, -0.00042817648387216293]\n",
      " * x: [1.1875598602562092, 0.5558378539676161, 1.1169167847840717]\n"
     ]
    },
    {
     "name": "stderr",
     "output_type": "stream",
     "text": [
      "\u001b[32mProgress: 100%|███████████████████████████| Time: 0:03:52 ( 0.23  s/it)\u001b[39m\n",
      "\u001b[38;5;4m\u001b[1m[ \u001b[22m\u001b[39m\u001b[38;5;4m\u001b[1mDebug: \u001b[22m\u001b[39m20220102 16:09:46 loss: Dual{ForwardDiff.Tag{var\"#validation_mse#17\"{var\"#14#16\"{cf_params, Dict{String, typeof(get_abs_neighborhood)}, Int64, Matrix{Float64}}, RatingsDataset, RatingsDataset}, Float64}}(1.2012332855240604,-0.00019754096996008383,0.0009588272997030573,-0.00033892108834485785) β: Dual{ForwardDiff.Tag{var\"#validation_mse#17\"{var\"#14#16\"{cf_params, Dict{String, typeof(get_abs_neighborhood)}, Int64, Matrix{Float64}}, RatingsDataset, RatingsDataset}, Float64}}(0.3594277654707997,-7.609193956659956e-5,-0.15244860555326203,0.140493698596192): λ ForwardDiff.Dual{ForwardDiff.Tag{var\"#validation_mse#17\"{var\"#14#16\"{cf_params, Dict{String, typeof(get_abs_neighborhood)}, Int64, Matrix{Float64}}, RatingsDataset, RatingsDataset}, Float64}, Float64, 3}[Dual{ForwardDiff.Tag{var\"#validation_mse#17\"{var\"#14#16\"{cf_params, Dict{String, typeof(get_abs_neighborhood)}, Int64, Matrix{Float64}}, RatingsDataset, RatingsDataset}, Float64}}(1.310603252369266,1.0,0.0,0.0), Dual{ForwardDiff.Tag{var\"#validation_mse#17\"{var\"#14#16\"{cf_params, Dict{String, typeof(get_abs_neighborhood)}, Int64, Matrix{Float64}}, RatingsDataset, RatingsDataset}, Float64}}(0.8871071680475151,0.0,1.0,0.0), Dual{ForwardDiff.Tag{var\"#validation_mse#17\"{var\"#14#16\"{cf_params, Dict{String, typeof(get_abs_neighborhood)}, Int64, Matrix{Float64}}, RatingsDataset, RatingsDataset}, Float64}}(1.4134328081978111,0.0,0.0,1.0)]\n",
      "\u001b[32mProgress: 100%|███████████████████████████| Time: 0:03:47 ( 0.23  s/it)\u001b[39m\n",
      "\u001b[38;5;4m\u001b[1m[ \u001b[22m\u001b[39m\u001b[38;5;4m\u001b[1mDebug: \u001b[22m\u001b[39m20220102 16:14:14 loss: Dual{ForwardDiff.Tag{var\"#validation_mse#17\"{var\"#14#16\"{cf_params, Dict{String, typeof(get_abs_neighborhood)}, Int64, Matrix{Float64}}, RatingsDataset, RatingsDataset}, Float64}}(1.2012071607451453,-0.00022277343989054438,0.00045636822726973094,-0.0003645531820191478) β: Dual{ForwardDiff.Tag{var\"#validation_mse#17\"{var\"#14#16\"{cf_params, Dict{String, typeof(get_abs_neighborhood)}, Int64, Matrix{Float64}}, RatingsDataset, RatingsDataset}, Float64}}(0.3597445099447222,0.0008955670728947255,-0.11063789046408694,0.144931942536397): λ ForwardDiff.Dual{ForwardDiff.Tag{var\"#validation_mse#17\"{var\"#14#16\"{cf_params, Dict{String, typeof(get_abs_neighborhood)}, Int64, Matrix{Float64}}, RatingsDataset, RatingsDataset}, Float64}, Float64, 3}[Dual{ForwardDiff.Tag{var\"#validation_mse#17\"{var\"#14#16\"{cf_params, Dict{String, typeof(get_abs_neighborhood)}, Int64, Matrix{Float64}}, RatingsDataset, RatingsDataset}, Float64}}(1.2800774612193209,1.0,0.0,0.0), Dual{ForwardDiff.Tag{var\"#validation_mse#17\"{var\"#14#16\"{cf_params, Dict{String, typeof(get_abs_neighborhood)}, Int64, Matrix{Float64}}, RatingsDataset, RatingsDataset}, Float64}}(0.8049226823768256,0.0,1.0,0.0), Dual{ForwardDiff.Tag{var\"#validation_mse#17\"{var\"#14#16\"{cf_params, Dict{String, typeof(get_abs_neighborhood)}, Int64, Matrix{Float64}}, RatingsDataset, RatingsDataset}, Float64}}(1.3398702539809761,0.0,0.0,1.0)]\n"
     ]
    },
    {
     "name": "stdout",
     "output_type": "stream",
     "text": [
      "     2     1.201207e+00     4.563682e-04\n",
      " * Current step size: 0.7519103575924108\n",
      " * time: 2064.9424719810486\n",
      " * g(x): [-0.00022277343989054438, 0.00045636822726973094, -0.0003645531820191478]\n",
      " * x: [1.2800774612193209, 0.8049226823768256, 1.3398702539809761]\n"
     ]
    },
    {
     "name": "stderr",
     "output_type": "stream",
     "text": [
      "\u001b[32mProgress: 100%|███████████████████████████| Time: 0:03:40 ( 0.22  s/it)\u001b[39m\n",
      "\u001b[38;5;4m\u001b[1m[ \u001b[22m\u001b[39m\u001b[38;5;4m\u001b[1mDebug: \u001b[22m\u001b[39m20220102 16:18:36 loss: Dual{ForwardDiff.Tag{var\"#validation_mse#17\"{var\"#14#16\"{cf_params, Dict{String, typeof(get_abs_neighborhood)}, Int64, Matrix{Float64}}, RatingsDataset, RatingsDataset}, Float64}}(1.2011125152941218,-0.0001289042343737868,0.00032780103232582617,-0.0003039353747204619) β: Dual{ForwardDiff.Tag{var\"#validation_mse#17\"{var\"#14#16\"{cf_params, Dict{String, typeof(get_abs_neighborhood)}, Int64, Matrix{Float64}}, RatingsDataset, RatingsDataset}, Float64}}(0.3935027922042406,-0.002763398033976431,-0.10816653797237885,0.14370610498226424): λ ForwardDiff.Dual{ForwardDiff.Tag{var\"#validation_mse#17\"{var\"#14#16\"{cf_params, Dict{String, typeof(get_abs_neighborhood)}, Int64, Matrix{Float64}}, RatingsDataset, RatingsDataset}, Float64}, Float64, 3}[Dual{ForwardDiff.Tag{var\"#validation_mse#17\"{var\"#14#16\"{cf_params, Dict{String, typeof(get_abs_neighborhood)}, Int64, Matrix{Float64}}, RatingsDataset, RatingsDataset}, Float64}}(1.3595500550801487,1.0,0.0,0.0), Dual{ForwardDiff.Tag{var\"#validation_mse#17\"{var\"#14#16\"{cf_params, Dict{String, typeof(get_abs_neighborhood)}, Int64, Matrix{Float64}}, RatingsDataset, RatingsDataset}, Float64}}(0.7861058468184012,0.0,1.0,0.0), Dual{ForwardDiff.Tag{var\"#validation_mse#17\"{var\"#14#16\"{cf_params, Dict{String, typeof(get_abs_neighborhood)}, Int64, Matrix{Float64}}, RatingsDataset, RatingsDataset}, Float64}}(1.560024294289219,0.0,0.0,1.0)]\n",
      "\u001b[32mProgress: 100%|███████████████████████████| Time: 0:03:21 ( 0.20  s/it)\u001b[39m\n",
      "\u001b[38;5;4m\u001b[1m[ \u001b[22m\u001b[39m\u001b[38;5;4m\u001b[1mDebug: \u001b[22m\u001b[39m20220102 16:22:32 loss: Dual{ForwardDiff.Tag{var\"#validation_mse#17\"{var\"#14#16\"{cf_params, Dict{String, typeof(get_abs_neighborhood)}, Int64, Matrix{Float64}}, RatingsDataset, RatingsDataset}, Float64}}(1.2009230812200877,0.00015712095959131682,-0.00023615695696312477,-0.0001560904109543391) β: Dual{ForwardDiff.Tag{var\"#validation_mse#17\"{var\"#14#16\"{cf_params, Dict{String, typeof(get_abs_neighborhood)}, Int64, Matrix{Float64}}, RatingsDataset, RatingsDataset}, Float64}}(0.5221939166474769,-0.01699567805322555,-0.07639803080512429,0.1397205566005497): λ ForwardDiff.Dual{ForwardDiff.Tag{var\"#validation_mse#17\"{var\"#14#16\"{cf_params, Dict{String, typeof(get_abs_neighborhood)}, Int64, Matrix{Float64}}, RatingsDataset, RatingsDataset}, Float64}, Float64, 3}[Dual{ForwardDiff.Tag{var\"#validation_mse#17\"{var\"#14#16\"{cf_params, Dict{String, typeof(get_abs_neighborhood)}, Int64, Matrix{Float64}}, RatingsDataset, RatingsDataset}, Float64}}(1.6774404305234603,1.0,0.0,0.0), Dual{ForwardDiff.Tag{var\"#validation_mse#17\"{var\"#14#16\"{cf_params, Dict{String, typeof(get_abs_neighborhood)}, Int64, Matrix{Float64}}, RatingsDataset, RatingsDataset}, Float64}}(0.7108385045847035,0.0,1.0,0.0), Dual{ForwardDiff.Tag{var\"#validation_mse#17\"{var\"#14#16\"{cf_params, Dict{String, typeof(get_abs_neighborhood)}, Int64, Matrix{Float64}}, RatingsDataset, RatingsDataset}, Float64}}(2.440640455522191,0.0,0.0,1.0)]\n",
      "\u001b[32mProgress: 100%|███████████████████████████| Time: 0:03:22 ( 0.20  s/it)\u001b[39m\n",
      "\u001b[38;5;4m\u001b[1m[ \u001b[22m\u001b[39m\u001b[38;5;4m\u001b[1mDebug: \u001b[22m\u001b[39m20220102 16:26:33 loss: Dual{ForwardDiff.Tag{var\"#validation_mse#17\"{var\"#14#16\"{cf_params, Dict{String, typeof(get_abs_neighborhood)}, Int64, Matrix{Float64}}, RatingsDataset, RatingsDataset}, Float64}}(1.2018236108287166,0.0002595322495864316,-0.0031440568746331013,-1.2382589363944076e-5) β: Dual{ForwardDiff.Tag{var\"#validation_mse#17\"{var\"#14#16\"{cf_params, Dict{String, typeof(get_abs_neighborhood)}, Int64, Matrix{Float64}}, RatingsDataset, RatingsDataset}, Float64}}(0.9765820092128842,-0.030701439289806332,0.5543158440443483,0.11660457103857476): λ ForwardDiff.Dual{ForwardDiff.Tag{var\"#validation_mse#17\"{var\"#14#16\"{cf_params, Dict{String, typeof(get_abs_neighborhood)}, Int64, Matrix{Float64}}, RatingsDataset, RatingsDataset}, Float64}, Float64, 3}[Dual{ForwardDiff.Tag{var\"#validation_mse#17\"{var\"#14#16\"{cf_params, Dict{String, typeof(get_abs_neighborhood)}, Int64, Matrix{Float64}}, RatingsDataset, RatingsDataset}, Float64}}(3.2668923077400174,1.0,0.0,0.0), Dual{ForwardDiff.Tag{var\"#validation_mse#17\"{var\"#14#16\"{cf_params, Dict{String, typeof(get_abs_neighborhood)}, Int64, Matrix{Float64}}, RatingsDataset, RatingsDataset}, Float64}}(0.3345017934162151,0.0,1.0,0.0), Dual{ForwardDiff.Tag{var\"#validation_mse#17\"{var\"#14#16\"{cf_params, Dict{String, typeof(get_abs_neighborhood)}, Int64, Matrix{Float64}}, RatingsDataset, RatingsDataset}, Float64}}(6.843721261687052,0.0,0.0,1.0)]\n",
      "\u001b[32mProgress: 100%|███████████████████████████| Time: 0:03:43 ( 0.22  s/it)\u001b[39m\n",
      "\u001b[38;5;4m\u001b[1m[ \u001b[22m\u001b[39m\u001b[38;5;4m\u001b[1mDebug: \u001b[22m\u001b[39m20220102 16:30:52 loss: Dual{ForwardDiff.Tag{var\"#validation_mse#17\"{var\"#14#16\"{cf_params, Dict{String, typeof(get_abs_neighborhood)}, Int64, Matrix{Float64}}, RatingsDataset, RatingsDataset}, Float64}}(1.2009307298227927,0.0002977300016676456,-0.0007811085232184403,-8.95301773742605e-5) β: Dual{ForwardDiff.Tag{var\"#validation_mse#17\"{var\"#14#16\"{cf_params, Dict{String, typeof(get_abs_neighborhood)}, Int64, Matrix{Float64}}, RatingsDataset, RatingsDataset}, Float64}}(0.6312321204361374,-0.026899344782210333,-0.017794650747741114,0.13637754368659066): λ ForwardDiff.Dual{ForwardDiff.Tag{var\"#validation_mse#17\"{var\"#14#16\"{cf_params, Dict{String, typeof(get_abs_neighborhood)}, Int64, Matrix{Float64}}, RatingsDataset, RatingsDataset}, Float64}, Float64, 3}[Dual{ForwardDiff.Tag{var\"#validation_mse#17\"{var\"#14#16\"{cf_params, Dict{String, typeof(get_abs_neighborhood)}, Int64, Matrix{Float64}}, RatingsDataset, RatingsDataset}, Float64}}(1.970681075011225,1.0,0.0,0.0), Dual{ForwardDiff.Tag{var\"#validation_mse#17\"{var\"#14#16\"{cf_params, Dict{String, typeof(get_abs_neighborhood)}, Int64, Matrix{Float64}}, RatingsDataset, RatingsDataset}, Float64}}(0.6414075131156756,0.0,1.0,0.0), Dual{ForwardDiff.Tag{var\"#validation_mse#17\"{var\"#14#16\"{cf_params, Dict{String, typeof(get_abs_neighborhood)}, Int64, Matrix{Float64}}, RatingsDataset, RatingsDataset}, Float64}}(3.2529722233719793,0.0,0.0,1.0)]\n"
     ]
    },
    {
     "name": "stdout",
     "output_type": "stream",
     "text": [
      "     3     1.200931e+00     7.811085e-04\n",
      " * Current step size: 8.689833567044342\n",
      " * time: 3063.848321199417\n",
      " * g(x): [0.0002977300016676456, -0.0007811085232184403, -8.95301773742605e-5]\n",
      " * x: [1.970681075011225, 0.6414075131156756, 3.2529722233719793]\n"
     ]
    },
    {
     "name": "stderr",
     "output_type": "stream",
     "text": [
      "\u001b[32mProgress: 100%|███████████████████████████| Time: 0:03:42 ( 0.22  s/it)\u001b[39m\n",
      "\u001b[38;5;4m\u001b[1m[ \u001b[22m\u001b[39m\u001b[38;5;4m\u001b[1mDebug: \u001b[22m\u001b[39m20220102 16:35:13 loss: Dual{ForwardDiff.Tag{var\"#validation_mse#17\"{var\"#14#16\"{cf_params, Dict{String, typeof(get_abs_neighborhood)}, Int64, Matrix{Float64}}, RatingsDataset, RatingsDataset}, Float64}}(1.2008457285665126,0.00026787744685479126,-7.257733313551656e-5,-9.348409741691813e-5) β: Dual{ForwardDiff.Tag{var\"#validation_mse#17\"{var\"#14#16\"{cf_params, Dict{String, typeof(get_abs_neighborhood)}, Int64, Matrix{Float64}}, RatingsDataset, RatingsDataset}, Float64}}(0.6397669892818575,-0.024778935313505043,-0.114928168222356,0.1357771691030854): λ ForwardDiff.Dual{ForwardDiff.Tag{var\"#validation_mse#17\"{var\"#14#16\"{cf_params, Dict{String, typeof(get_abs_neighborhood)}, Int64, Matrix{Float64}}, RatingsDataset, RatingsDataset}, Float64}, Float64, 3}[Dual{ForwardDiff.Tag{var\"#validation_mse#17\"{var\"#14#16\"{cf_params, Dict{String, typeof(get_abs_neighborhood)}, Int64, Matrix{Float64}}, RatingsDataset, RatingsDataset}, Float64}}(1.841828816083385,1.0,0.0,0.0), Dual{ForwardDiff.Tag{var\"#validation_mse#17\"{var\"#14#16\"{cf_params, Dict{String, typeof(get_abs_neighborhood)}, Int64, Matrix{Float64}}, RatingsDataset, RatingsDataset}, Float64}}(0.7370422678171338,0.0,1.0,0.0), Dual{ForwardDiff.Tag{var\"#validation_mse#17\"{var\"#14#16\"{cf_params, Dict{String, typeof(get_abs_neighborhood)}, Int64, Matrix{Float64}}, RatingsDataset, RatingsDataset}, Float64}}(3.3379021401243216,0.0,0.0,1.0)]\n",
      "\u001b[32mProgress: 100%|███████████████████████████| Time: 0:03:36 ( 0.22  s/it)\u001b[39m\n",
      "\u001b[38;5;4m\u001b[1m[ \u001b[22m\u001b[39m\u001b[38;5;4m\u001b[1mDebug: \u001b[22m\u001b[39m20220102 16:39:25 loss: Dual{ForwardDiff.Tag{var\"#validation_mse#17\"{var\"#14#16\"{cf_params, Dict{String, typeof(get_abs_neighborhood)}, Int64, Matrix{Float64}}, RatingsDataset, RatingsDataset}, Float64}}(1.2012049928083273,-6.712752570342182e-5,0.0023398649504349812,-9.539745624776111e-5) β: Dual{ForwardDiff.Tag{var\"#validation_mse#17\"{var\"#14#16\"{cf_params, Dict{String, typeof(get_abs_neighborhood)}, Int64, Matrix{Float64}}, RatingsDataset, RatingsDataset}, Float64}}(0.5824463523318,0.0034449326323631483,-0.4191857475840208,0.11504799885709094): λ ForwardDiff.Dual{ForwardDiff.Tag{var\"#validation_mse#17\"{var\"#14#16\"{cf_params, Dict{String, typeof(get_abs_neighborhood)}, Int64, Matrix{Float64}}, RatingsDataset, RatingsDataset}, Float64}, Float64, 3}[Dual{ForwardDiff.Tag{var\"#validation_mse#17\"{var\"#14#16\"{cf_params, Dict{String, typeof(get_abs_neighborhood)}, Int64, Matrix{Float64}}, RatingsDataset, RatingsDataset}, Float64}}(1.3264197803720248,1.0,0.0,0.0), Dual{ForwardDiff.Tag{var\"#validation_mse#17\"{var\"#14#16\"{cf_params, Dict{String, typeof(get_abs_neighborhood)}, Int64, Matrix{Float64}}, RatingsDataset, RatingsDataset}, Float64}}(1.1195812866229666,0.0,1.0,0.0), Dual{ForwardDiff.Tag{var\"#validation_mse#17\"{var\"#14#16\"{cf_params, Dict{String, typeof(get_abs_neighborhood)}, Int64, Matrix{Float64}}, RatingsDataset, RatingsDataset}, Float64}}(3.67762180713369,0.0,0.0,1.0)]\n",
      "\u001b[32mProgress: 100%|███████████████████████████| Time: 0:03:39 ( 0.22  s/it)\u001b[39m\n",
      "\u001b[38;5;4m\u001b[1m[ \u001b[22m\u001b[39m\u001b[38;5;4m\u001b[1mDebug: \u001b[22m\u001b[39m20220102 16:43:40 loss: Dual{ForwardDiff.Tag{var\"#validation_mse#17\"{var\"#14#16\"{cf_params, Dict{String, typeof(get_abs_neighborhood)}, Int64, Matrix{Float64}}, RatingsDataset, RatingsDataset}, Float64}}(1.2008285433417394,0.00023432129183922846,0.0004186713933375077,-9.566071143056027e-5) β: Dual{ForwardDiff.Tag{var\"#validation_mse#17\"{var\"#14#16\"{cf_params, Dict{String, typeof(get_abs_neighborhood)}, Int64, Matrix{Float64}}, RatingsDataset, RatingsDataset}, Float64}}(0.639983883057862,-0.022119796759473117,-0.1814071714509224,0.13409697933335674): λ ForwardDiff.Dual{ForwardDiff.Tag{var\"#validation_mse#17\"{var\"#14#16\"{cf_params, Dict{String, typeof(get_abs_neighborhood)}, Int64, Matrix{Float64}}, RatingsDataset, RatingsDataset}, Float64}, Float64, 3}[Dual{ForwardDiff.Tag{var\"#validation_mse#17\"{var\"#14#16\"{cf_params, Dict{String, typeof(get_abs_neighborhood)}, Int64, Matrix{Float64}}, RatingsDataset, RatingsDataset}, Float64}}(1.748814031537747,1.0,0.0,0.0), Dual{ForwardDiff.Tag{var\"#validation_mse#17\"{var\"#14#16\"{cf_params, Dict{String, typeof(get_abs_neighborhood)}, Int64, Matrix{Float64}}, RatingsDataset, RatingsDataset}, Float64}}(0.8060782798952202,0.0,1.0,0.0), Dual{ForwardDiff.Tag{var\"#validation_mse#17\"{var\"#14#16\"{cf_params, Dict{String, typeof(get_abs_neighborhood)}, Int64, Matrix{Float64}}, RatingsDataset, RatingsDataset}, Float64}}(3.399210633851405,0.0,0.0,1.0)]\n"
     ]
    },
    {
     "name": "stdout",
     "output_type": "stream",
     "text": [
      "     4     1.200829e+00     4.186714e-04\n",
      " * Current step size: 1.72187158626166\n",
      " * time: 3831.29679107666\n",
      " * g(x): [0.00023432129183922846, 0.0004186713933375077, -9.566071143056027e-5]\n",
      " * x: [1.748814031537747, 0.8060782798952202, 3.399210633851405]\n"
     ]
    },
    {
     "name": "stderr",
     "output_type": "stream",
     "text": [
      "\u001b[32mProgress: 100%|███████████████████████████| Time: 0:03:33 ( 0.22  s/it)\u001b[39m\n",
      "\u001b[38;5;4m\u001b[1m[ \u001b[22m\u001b[39m\u001b[38;5;4m\u001b[1mDebug: \u001b[22m\u001b[39m20220102 16:47:52 loss: Dual{ForwardDiff.Tag{var\"#validation_mse#17\"{var\"#14#16\"{cf_params, Dict{String, typeof(get_abs_neighborhood)}, Int64, Matrix{Float64}}, RatingsDataset, RatingsDataset}, Float64}}(1.2007957962727207,0.0002070207643745875,0.00038302063013579096,-9.356846284058434e-5) β: Dual{ForwardDiff.Tag{var\"#validation_mse#17\"{var\"#14#16\"{cf_params, Dict{String, typeof(get_abs_neighborhood)}, Int64, Matrix{Float64}}, RatingsDataset, RatingsDataset}, Float64}}(0.6606474110909117,-0.019502643445177555,-0.1804641278999867,0.1341553939340699): λ ForwardDiff.Dual{ForwardDiff.Tag{var\"#validation_mse#17\"{var\"#14#16\"{cf_params, Dict{String, typeof(get_abs_neighborhood)}, Int64, Matrix{Float64}}, RatingsDataset, RatingsDataset}, Float64}, Float64, 3}[Dual{ForwardDiff.Tag{var\"#validation_mse#17\"{var\"#14#16\"{cf_params, Dict{String, typeof(get_abs_neighborhood)}, Int64, Matrix{Float64}}, RatingsDataset, RatingsDataset}, Float64}}(1.6687708737660036,1.0,0.0,0.0), Dual{ForwardDiff.Tag{var\"#validation_mse#17\"{var\"#14#16\"{cf_params, Dict{String, typeof(get_abs_neighborhood)}, Int64, Matrix{Float64}}, RatingsDataset, RatingsDataset}, Float64}}(0.8000582654668328,0.0,1.0,0.0), Dual{ForwardDiff.Tag{var\"#validation_mse#17\"{var\"#14#16\"{cf_params, Dict{String, typeof(get_abs_neighborhood)}, Int64, Matrix{Float64}}, RatingsDataset, RatingsDataset}, Float64}}(3.532679870003439,0.0,0.0,1.0)]\n",
      "\u001b[32mProgress: 100%|███████████████████████████| Time: 0:03:48 ( 0.23  s/it)\u001b[39m\n",
      "\u001b[38;5;4m\u001b[1m[ \u001b[22m\u001b[39m\u001b[38;5;4m\u001b[1mDebug: \u001b[22m\u001b[39m20220102 16:52:15 loss: Dual{ForwardDiff.Tag{var\"#validation_mse#17\"{var\"#14#16\"{cf_params, Dict{String, typeof(get_abs_neighborhood)}, Int64, Matrix{Float64}}, RatingsDataset, RatingsDataset}, Float64}}(1.2007006796256332,1.8572870446520175e-5,0.00022323865036415053,-8.553243667205787e-5) β: Dual{ForwardDiff.Tag{var\"#validation_mse#17\"{var\"#14#16\"{cf_params, Dict{String, typeof(get_abs_neighborhood)}, Int64, Matrix{Float64}}, RatingsDataset, RatingsDataset}, Float64}}(0.73975537141721,0.001736916078183999,-0.1698287215949357,0.13331979284474346): λ ForwardDiff.Dual{ForwardDiff.Tag{var\"#validation_mse#17\"{var\"#14#16\"{cf_params, Dict{String, typeof(get_abs_neighborhood)}, Int64, Matrix{Float64}}, RatingsDataset, RatingsDataset}, Float64}, Float64, 3}[Dual{ForwardDiff.Tag{var\"#validation_mse#17\"{var\"#14#16\"{cf_params, Dict{String, typeof(get_abs_neighborhood)}, Int64, Matrix{Float64}}, RatingsDataset, RatingsDataset}, Float64}}(1.3485982426790304,1.0,0.0,0.0), Dual{ForwardDiff.Tag{var\"#validation_mse#17\"{var\"#14#16\"{cf_params, Dict{String, typeof(get_abs_neighborhood)}, Int64, Matrix{Float64}}, RatingsDataset, RatingsDataset}, Float64}}(0.7759782077532833,0.0,1.0,0.0), Dual{ForwardDiff.Tag{var\"#validation_mse#17\"{var\"#14#16\"{cf_params, Dict{String, typeof(get_abs_neighborhood)}, Int64, Matrix{Float64}}, RatingsDataset, RatingsDataset}, Float64}}(4.066556814611573,0.0,0.0,1.0)]\n",
      "\u001b[32mProgress: 100%|███████████████████████████| Time: 0:03:33 ( 0.21  s/it)\u001b[39m\n",
      "\u001b[38;5;4m\u001b[1m[ \u001b[22m\u001b[39m\u001b[38;5;4m\u001b[1mDebug: \u001b[22m\u001b[39m20220102 16:56:27 loss: Dual{ForwardDiff.Tag{var\"#validation_mse#17\"{var\"#14#16\"{cf_params, Dict{String, typeof(get_abs_neighborhood)}, Int64, Matrix{Float64}}, RatingsDataset, RatingsDataset}, Float64}}(1.2029733436761267,-0.003142838289804426,-0.0003136654958468549,4.739675529441099e-5) β: Dual{ForwardDiff.Tag{var\"#validation_mse#17\"{var\"#14#16\"{cf_params, Dict{String, typeof(get_abs_neighborhood)}, Int64, Matrix{Float64}}, RatingsDataset, RatingsDataset}, Float64}}(0.6756462357624629,0.5206443135544417,-0.007644607952480551,0.05932454358478058): λ ForwardDiff.Dual{ForwardDiff.Tag{var\"#validation_mse#17\"{var\"#14#16\"{cf_params, Dict{String, typeof(get_abs_neighborhood)}, Int64, Matrix{Float64}}, RatingsDataset, RatingsDataset}, Float64}, Float64, 3}[Dual{ForwardDiff.Tag{var\"#validation_mse#17\"{var\"#14#16\"{cf_params, Dict{String, typeof(get_abs_neighborhood)}, Int64, Matrix{Float64}}, RatingsDataset, RatingsDataset}, Float64}}(-0.2522649127558356,1.0,0.0,0.0), Dual{ForwardDiff.Tag{var\"#validation_mse#17\"{var\"#14#16\"{cf_params, Dict{String, typeof(get_abs_neighborhood)}, Int64, Matrix{Float64}}, RatingsDataset, RatingsDataset}, Float64}}(0.6555779191855358,0.0,1.0,0.0), Dual{ForwardDiff.Tag{var\"#validation_mse#17\"{var\"#14#16\"{cf_params, Dict{String, typeof(get_abs_neighborhood)}, Int64, Matrix{Float64}}, RatingsDataset, RatingsDataset}, Float64}}(6.735941537652247,0.0,0.0,1.0)]\n",
      "\u001b[32mProgress: 100%|███████████████████████████| Time: 0:03:38 ( 0.22  s/it)\u001b[39m\n",
      "\u001b[38;5;4m\u001b[1m[ \u001b[22m\u001b[39m\u001b[38;5;4m\u001b[1mDebug: \u001b[22m\u001b[39m20220102 17:00:45 loss: Dual{ForwardDiff.Tag{var\"#validation_mse#17\"{var\"#14#16\"{cf_params, Dict{String, typeof(get_abs_neighborhood)}, Int64, Matrix{Float64}}, RatingsDataset, RatingsDataset}, Float64}}(1.2006892159830553,-5.678095801513475e-5,0.0001770568761475197,-8.321210078717237e-5) β: Dual{ForwardDiff.Tag{var\"#validation_mse#17\"{var\"#14#16\"{cf_params, Dict{String, typeof(get_abs_neighborhood)}, Int64, Matrix{Float64}}, RatingsDataset, RatingsDataset}, Float64}}(0.7587473153934594,0.011053798519494111,-0.1650580141321336,0.13271200055362659): λ ForwardDiff.Dual{ForwardDiff.Tag{var\"#validation_mse#17\"{var\"#14#16\"{cf_params, Dict{String, typeof(get_abs_neighborhood)}, Int64, Matrix{Float64}}, RatingsDataset, RatingsDataset}, Float64}, Float64, 3}[Dual{ForwardDiff.Tag{var\"#validation_mse#17\"{var\"#14#16\"{cf_params, Dict{String, typeof(get_abs_neighborhood)}, Int64, Matrix{Float64}}, RatingsDataset, RatingsDataset}, Float64}}(1.2653693651100872,1.0,0.0,0.0), Dual{ForwardDiff.Tag{var\"#validation_mse#17\"{var\"#14#16\"{cf_params, Dict{String, typeof(get_abs_neighborhood)}, Int64, Matrix{Float64}}, RatingsDataset, RatingsDataset}, Float64}}(0.7697185965913609,0.0,1.0,0.0), Dual{ForwardDiff.Tag{var\"#validation_mse#17\"{var\"#14#16\"{cf_params, Dict{String, typeof(get_abs_neighborhood)}, Int64, Matrix{Float64}}, RatingsDataset, RatingsDataset}, Float64}}(4.205338129893958,0.0,0.0,1.0)]\n"
     ]
    },
    {
     "name": "stdout",
     "output_type": "stream",
     "text": [
      "     5     1.200689e+00     1.770569e-04\n",
      " * Current step size: 6.0398000264592815\n",
      " * time: 4856.5884029865265\n",
      " * g(x): [-5.678095801513475e-5, 0.0001770568761475197, -8.321210078717237e-5]\n",
      " * x: [1.2653693651100872, 0.7697185965913609, 4.205338129893958]\n"
     ]
    },
    {
     "name": "stderr",
     "output_type": "stream",
     "text": [
      "\u001b[32mProgress: 100%|███████████████████████████| Time: 0:03:41 ( 0.22  s/it)\u001b[39m\n",
      "\u001b[38;5;4m\u001b[1m[ \u001b[22m\u001b[39m\u001b[38;5;4m\u001b[1mDebug: \u001b[22m\u001b[39m20220102 17:04:58 loss: Dual{ForwardDiff.Tag{var\"#validation_mse#17\"{var\"#14#16\"{cf_params, Dict{String, typeof(get_abs_neighborhood)}, Int64, Matrix{Float64}}, RatingsDataset, RatingsDataset}, Float64}}(1.200626349682302,-0.0001284725675503717,-0.00015886069628783778,-5.7437537974093685e-5) β: Dual{ForwardDiff.Tag{var\"#validation_mse#17\"{var\"#14#16\"{cf_params, Dict{String, typeof(get_abs_neighborhood)}, Int64, Matrix{Float64}}, RatingsDataset, RatingsDataset}, Float64}}(0.8953343828671898,0.031037204727149527,-0.12844696943497,0.13045774222065215): λ ForwardDiff.Dual{ForwardDiff.Tag{var\"#validation_mse#17\"{var\"#14#16\"{cf_params, Dict{String, typeof(get_abs_neighborhood)}, Int64, Matrix{Float64}}, RatingsDataset, RatingsDataset}, Float64}, Float64, 3}[Dual{ForwardDiff.Tag{var\"#validation_mse#17\"{var\"#14#16\"{cf_params, Dict{String, typeof(get_abs_neighborhood)}, Int64, Matrix{Float64}}, RatingsDataset, RatingsDataset}, Float64}}(1.1832711936276321,1.0,0.0,0.0), Dual{ForwardDiff.Tag{var\"#validation_mse#17\"{var\"#14#16\"{cf_params, Dict{String, typeof(get_abs_neighborhood)}, Int64, Matrix{Float64}}, RatingsDataset, RatingsDataset}, Float64}}(0.7297688768716907,0.0,1.0,0.0), Dual{ForwardDiff.Tag{var\"#validation_mse#17\"{var\"#14#16\"{cf_params, Dict{String, typeof(get_abs_neighborhood)}, Int64, Matrix{Float64}}, RatingsDataset, RatingsDataset}, Float64}}(5.210707224770472,0.0,0.0,1.0)]\n",
      "\u001b[32mProgress: 100%|███████████████████████████| Time: 0:03:34 ( 0.22  s/it)\u001b[39m\n",
      "\u001b[38;5;4m\u001b[1m[ \u001b[22m\u001b[39m\u001b[38;5;4m\u001b[1mDebug: \u001b[22m\u001b[39m20220102 17:09:17 loss: Dual{ForwardDiff.Tag{var\"#validation_mse#17\"{var\"#14#16\"{cf_params, Dict{String, typeof(get_abs_neighborhood)}, Int64, Matrix{Float64}}, RatingsDataset, RatingsDataset}, Float64}}(1.2007807302648588,-0.0007125456791792634,-0.0016943882354646049,-9.100786045975303e-6) β: Dual{ForwardDiff.Tag{var\"#validation_mse#17\"{var\"#14#16\"{cf_params, Dict{String, typeof(get_abs_neighborhood)}, Int64, Matrix{Float64}}, RatingsDataset, RatingsDataset}, Float64}}(1.354366243122903,0.21465208047705545,0.250803313264585,0.11617399892076358): λ ForwardDiff.Dual{ForwardDiff.Tag{var\"#validation_mse#17\"{var\"#14#16\"{cf_params, Dict{String, typeof(get_abs_neighborhood)}, Int64, Matrix{Float64}}, RatingsDataset, RatingsDataset}, Float64}, Float64, 3}[Dual{ForwardDiff.Tag{var\"#validation_mse#17\"{var\"#14#16\"{cf_params, Dict{String, typeof(get_abs_neighborhood)}, Int64, Matrix{Float64}}, RatingsDataset, RatingsDataset}, Float64}}(0.8548785076978114,1.0,0.0,0.0), Dual{ForwardDiff.Tag{var\"#validation_mse#17\"{var\"#14#16\"{cf_params, Dict{String, typeof(get_abs_neighborhood)}, Int64, Matrix{Float64}}, RatingsDataset, RatingsDataset}, Float64}}(0.56996999799301,0.0,1.0,0.0), Dual{ForwardDiff.Tag{var\"#validation_mse#17\"{var\"#14#16\"{cf_params, Dict{String, typeof(get_abs_neighborhood)}, Int64, Matrix{Float64}}, RatingsDataset, RatingsDataset}, Float64}}(9.232183604276525,0.0,0.0,1.0)]\n",
      "\u001b[32mProgress: 100%|███████████████████████████| Time: 0:03:33 ( 0.21  s/it)\u001b[39m\n",
      "\u001b[38;5;4m\u001b[1m[ \u001b[22m\u001b[39m\u001b[38;5;4m\u001b[1mDebug: \u001b[22m\u001b[39m20220102 17:13:29 loss: Dual{ForwardDiff.Tag{var\"#validation_mse#17\"{var\"#14#16\"{cf_params, Dict{String, typeof(get_abs_neighborhood)}, Int64, Matrix{Float64}}, RatingsDataset, RatingsDataset}, Float64}}(1.2006060053702956,-0.0002355342037442275,-0.0005332980573145736,-3.936051856306198e-5) β: Dual{ForwardDiff.Tag{var\"#validation_mse#17\"{var\"#14#16\"{cf_params, Dict{String, typeof(get_abs_neighborhood)}, Int64, Matrix{Float64}}, RatingsDataset, RatingsDataset}, Float64}}(1.0299351068386675,0.061489652788577716,-0.06562106400649531,0.127708435374989): λ ForwardDiff.Dual{ForwardDiff.Tag{var\"#validation_mse#17\"{var\"#14#16\"{cf_params, Dict{String, typeof(get_abs_neighborhood)}, Int64, Matrix{Float64}}, RatingsDataset, RatingsDataset}, Float64}, Float64, 3}[Dual{ForwardDiff.Tag{var\"#validation_mse#17\"{var\"#14#16\"{cf_params, Dict{String, typeof(get_abs_neighborhood)}, Int64, Matrix{Float64}}, RatingsDataset, RatingsDataset}, Float64}}(1.0983043796859393,1.0,0.0,0.0), Dual{ForwardDiff.Tag{var\"#validation_mse#17\"{var\"#14#16\"{cf_params, Dict{String, typeof(get_abs_neighborhood)}, Int64, Matrix{Float64}}, RatingsDataset, RatingsDataset}, Float64}}(0.6884232495434451,0.0,1.0,0.0), Dual{ForwardDiff.Tag{var\"#validation_mse#17\"{var\"#14#16\"{cf_params, Dict{String, typeof(get_abs_neighborhood)}, Int64, Matrix{Float64}}, RatingsDataset, RatingsDataset}, Float64}}(6.251205536542933,0.0,0.0,1.0)]\n"
     ]
    },
    {
     "name": "stdout",
     "output_type": "stream",
     "text": [
      "     6     1.200606e+00     5.332981e-04\n",
      " * Current step size: 2.0349416120656305\n",
      " * time: 5620.192274093628\n",
      " * g(x): [-0.0002355342037442275, -0.0005332980573145736, -3.936051856306198e-5]\n",
      " * x: [1.0983043796859393, 0.6884232495434451, 6.251205536542933]\n"
     ]
    },
    {
     "name": "stderr",
     "output_type": "stream",
     "text": [
      "\u001b[32mProgress: 100%|███████████████████████████| Time: 0:03:40 ( 0.22  s/it)\u001b[39m\n",
      "\u001b[38;5;4m\u001b[1m[ \u001b[22m\u001b[39m\u001b[38;5;4m\u001b[1mDebug: \u001b[22m\u001b[39m20220102 17:17:49 loss: Dual{ForwardDiff.Tag{var\"#validation_mse#17\"{var\"#14#16\"{cf_params, Dict{String, typeof(get_abs_neighborhood)}, Int64, Matrix{Float64}}, RatingsDataset, RatingsDataset}, Float64}}(1.2005389855682935,1.1026347408035539e-5,-0.0003490524991353957,-2.718026789032875e-5) β: Dual{ForwardDiff.Tag{var\"#validation_mse#17\"{var\"#14#16\"{cf_params, Dict{String, typeof(get_abs_neighborhood)}, Int64, Matrix{Float64}}, RatingsDataset, RatingsDataset}, Float64}}(1.178386923274042,0.034036322941887465,-0.12240539164975743,0.12825822328732397): λ ForwardDiff.Dual{ForwardDiff.Tag{var\"#validation_mse#17\"{var\"#14#16\"{cf_params, Dict{String, typeof(get_abs_neighborhood)}, Int64, Matrix{Float64}}, RatingsDataset, RatingsDataset}, Float64}, Float64, 3}[Dual{ForwardDiff.Tag{var\"#validation_mse#17\"{var\"#14#16\"{cf_params, Dict{String, typeof(get_abs_neighborhood)}, Int64, Matrix{Float64}}, RatingsDataset, RatingsDataset}, Float64}}(1.2872079611674627,1.0,0.0,0.0), Dual{ForwardDiff.Tag{var\"#validation_mse#17\"{var\"#14#16\"{cf_params, Dict{String, typeof(get_abs_neighborhood)}, Int64, Matrix{Float64}}, RatingsDataset, RatingsDataset}, Float64}}(0.7122462774542885,0.0,1.0,0.0), Dual{ForwardDiff.Tag{var\"#validation_mse#17\"{var\"#14#16\"{cf_params, Dict{String, typeof(get_abs_neighborhood)}, Int64, Matrix{Float64}}, RatingsDataset, RatingsDataset}, Float64}}(7.357486412576127,0.0,0.0,1.0)]\n",
      "\u001b[32mProgress: 100%|███████████████████████████| Time: 0:03:37 ( 0.22  s/it)\u001b[39m\n",
      "\u001b[38;5;4m\u001b[1m[ \u001b[22m\u001b[39m\u001b[38;5;4m\u001b[1mDebug: \u001b[22m\u001b[39m20220102 17:22:07 loss: Dual{ForwardDiff.Tag{var\"#validation_mse#17\"{var\"#14#16\"{cf_params, Dict{String, typeof(get_abs_neighborhood)}, Int64, Matrix{Float64}}, RatingsDataset, RatingsDataset}, Float64}}(1.2006855691736642,0.00041467550416121206,0.0003689146635693393,-7.084757584974311e-6) β: Dual{ForwardDiff.Tag{var\"#validation_mse#17\"{var\"#14#16\"{cf_params, Dict{String, typeof(get_abs_neighborhood)}, Int64, Matrix{Float64}}, RatingsDataset, RatingsDataset}, Float64}}(1.7070216430707343,-0.048970458480822,-0.446694542203563,0.12576039564189107): λ ForwardDiff.Dual{ForwardDiff.Tag{var\"#validation_mse#17\"{var\"#14#16\"{cf_params, Dict{String, typeof(get_abs_neighborhood)}, Int64, Matrix{Float64}}, RatingsDataset, RatingsDataset}, Float64}, Float64, 3}[Dual{ForwardDiff.Tag{var\"#validation_mse#17\"{var\"#14#16\"{cf_params, Dict{String, typeof(get_abs_neighborhood)}, Int64, Matrix{Float64}}, RatingsDataset, RatingsDataset}, Float64}}(2.042822287093556,1.0,0.0,0.0), Dual{ForwardDiff.Tag{var\"#validation_mse#17\"{var\"#14#16\"{cf_params, Dict{String, typeof(get_abs_neighborhood)}, Int64, Matrix{Float64}}, RatingsDataset, RatingsDataset}, Float64}}(0.8075383890976618,0.0,1.0,0.0), Dual{ForwardDiff.Tag{var\"#validation_mse#17\"{var\"#14#16\"{cf_params, Dict{String, typeof(get_abs_neighborhood)}, Int64, Matrix{Float64}}, RatingsDataset, RatingsDataset}, Float64}}(11.782609916708902,0.0,0.0,1.0)]\n",
      "\u001b[32mProgress: 100%|███████████████████████████| Time: 0:03:36 ( 0.22  s/it)\u001b[39m\n",
      "\u001b[38;5;4m\u001b[1m[ \u001b[22m\u001b[39m\u001b[38;5;4m\u001b[1mDebug: \u001b[22m\u001b[39m20220102 17:26:25 loss: Dual{ForwardDiff.Tag{var\"#validation_mse#17\"{var\"#14#16\"{cf_params, Dict{String, typeof(get_abs_neighborhood)}, Int64, Matrix{Float64}}, RatingsDataset, RatingsDataset}, Float64}}(1.2005318347292648,0.00022636012638894935,-0.00011229972948057777,-1.7386933107017905e-5) β: Dual{ForwardDiff.Tag{var\"#validation_mse#17\"{var\"#14#16\"{cf_params, Dict{String, typeof(get_abs_neighborhood)}, Int64, Matrix{Float64}}, RatingsDataset, RatingsDataset}, Float64}}(1.355869297182421,0.0013907785151586881,-0.20979518083820062,0.12818498101482687): λ ForwardDiff.Dual{ForwardDiff.Tag{var\"#validation_mse#17\"{var\"#14#16\"{cf_params, Dict{String, typeof(get_abs_neighborhood)}, Int64, Matrix{Float64}}, RatingsDataset, RatingsDataset}, Float64}, Float64, 3}[Dual{ForwardDiff.Tag{var\"#validation_mse#17\"{var\"#14#16\"{cf_params, Dict{String, typeof(get_abs_neighborhood)}, Int64, Matrix{Float64}}, RatingsDataset, RatingsDataset}, Float64}}(1.5245199809390908,1.0,0.0,0.0), Dual{ForwardDiff.Tag{var\"#validation_mse#17\"{var\"#14#16\"{cf_params, Dict{String, typeof(get_abs_neighborhood)}, Int64, Matrix{Float64}}, RatingsDataset, RatingsDataset}, Float64}}(0.742174195317249,0.0,1.0,0.0), Dual{ForwardDiff.Tag{var\"#validation_mse#17\"{var\"#14#16\"{cf_params, Dict{String, typeof(get_abs_neighborhood)}, Int64, Matrix{Float64}}, RatingsDataset, RatingsDataset}, Float64}}(8.74726286396565,0.0,0.0,1.0)]\n"
     ]
    },
    {
     "name": "stdout",
     "output_type": "stream",
     "text": [
      "     7     1.200532e+00     2.263601e-04\n",
      " * Current step size: 2.2562600344072323\n",
      " * time: 6396.467978000641\n",
      " * g(x): [0.00022636012638894935, -0.00011229972948057777, -1.7386933107017905e-5]\n",
      " * x: [1.5245199809390908, 0.742174195317249, 8.74726286396565]\n"
     ]
    },
    {
     "name": "stderr",
     "output_type": "stream",
     "text": [
      "\u001b[32mProgress: 100%|███████████████████████████| Time: 0:03:37 ( 0.22  s/it)\u001b[39m\n",
      "\u001b[38;5;4m\u001b[1m[ \u001b[22m\u001b[39m\u001b[38;5;4m\u001b[1mDebug: \u001b[22m\u001b[39m20220102 17:30:41 loss: Dual{ForwardDiff.Tag{var\"#validation_mse#17\"{var\"#14#16\"{cf_params, Dict{String, typeof(get_abs_neighborhood)}, Int64, Matrix{Float64}}, RatingsDataset, RatingsDataset}, Float64}}(1.200487048278416,7.899899194202589e-5,0.00016000844729816544,-1.4137123791144272e-5) β: Dual{ForwardDiff.Tag{var\"#validation_mse#17\"{var\"#14#16\"{cf_params, Dict{String, typeof(get_abs_neighborhood)}, Int64, Matrix{Float64}}, RatingsDataset, RatingsDataset}, Float64}}(1.4747829168832327,0.04174801217231325,-0.3016843240593732,0.1255098738727197): λ ForwardDiff.Dual{ForwardDiff.Tag{var\"#validation_mse#17\"{var\"#14#16\"{cf_params, Dict{String, typeof(get_abs_neighborhood)}, Int64, Matrix{Float64}}, RatingsDataset, RatingsDataset}, Float64}, Float64, 3}[Dual{ForwardDiff.Tag{var\"#validation_mse#17\"{var\"#14#16\"{cf_params, Dict{String, typeof(get_abs_neighborhood)}, Int64, Matrix{Float64}}, RatingsDataset, RatingsDataset}, Float64}}(1.3396775616644594,1.0,0.0,0.0), Dual{ForwardDiff.Tag{var\"#validation_mse#17\"{var\"#14#16\"{cf_params, Dict{String, typeof(get_abs_neighborhood)}, Int64, Matrix{Float64}}, RatingsDataset, RatingsDataset}, Float64}}(0.7789644252466666,0.0,1.0,0.0), Dual{ForwardDiff.Tag{var\"#validation_mse#17\"{var\"#14#16\"{cf_params, Dict{String, typeof(get_abs_neighborhood)}, Int64, Matrix{Float64}}, RatingsDataset, RatingsDataset}, Float64}}(9.78695760473238,0.0,0.0,1.0)]\n",
      "\u001b[32mProgress: 100%|███████████████████████████| Time: 0:03:35 ( 0.22  s/it)\u001b[39m\n",
      "\u001b[38;5;4m\u001b[1m[ \u001b[22m\u001b[39m\u001b[38;5;4m\u001b[1mDebug: \u001b[22m\u001b[39m20220102 17:34:55 loss: Dual{ForwardDiff.Tag{var\"#validation_mse#17\"{var\"#14#16\"{cf_params, Dict{String, typeof(get_abs_neighborhood)}, Int64, Matrix{Float64}}, RatingsDataset, RatingsDataset}, Float64}}(1.2009708171933808,-0.0014890347163627924,0.0012429283177793524,1.2811013482702373e-6) β: Dual{ForwardDiff.Tag{var\"#validation_mse#17\"{var\"#14#16\"{cf_params, Dict{String, typeof(get_abs_neighborhood)}, Int64, Matrix{Float64}}, RatingsDataset, RatingsDataset}, Float64}}(1.7120170109252086,0.5126217574199328,-0.7009892288323584,0.10040108715045916): λ ForwardDiff.Dual{ForwardDiff.Tag{var\"#validation_mse#17\"{var\"#14#16\"{cf_params, Dict{String, typeof(get_abs_neighborhood)}, Int64, Matrix{Float64}}, RatingsDataset, RatingsDataset}, Float64}, Float64, 3}[Dual{ForwardDiff.Tag{var\"#validation_mse#17\"{var\"#14#16\"{cf_params, Dict{String, typeof(get_abs_neighborhood)}, Int64, Matrix{Float64}}, RatingsDataset, RatingsDataset}, Float64}}(0.6003078845659332,1.0,0.0,0.0), Dual{ForwardDiff.Tag{var\"#validation_mse#17\"{var\"#14#16\"{cf_params, Dict{String, typeof(get_abs_neighborhood)}, Int64, Matrix{Float64}}, RatingsDataset, RatingsDataset}, Float64}}(0.9261253449643372,0.0,1.0,0.0), Dual{ForwardDiff.Tag{var\"#validation_mse#17\"{var\"#14#16\"{cf_params, Dict{String, typeof(get_abs_neighborhood)}, Int64, Matrix{Float64}}, RatingsDataset, RatingsDataset}, Float64}}(13.945736567799303,0.0,0.0,1.0)]\n",
      "\u001b[32mProgress: 100%|███████████████████████████| Time: 0:03:37 ( 0.22  s/it)\u001b[39m\n",
      "\u001b[38;5;4m\u001b[1m[ \u001b[22m\u001b[39m\u001b[38;5;4m\u001b[1mDebug: \u001b[22m\u001b[39m20220102 17:39:07 loss: Dual{ForwardDiff.Tag{var\"#validation_mse#17\"{var\"#14#16\"{cf_params, Dict{String, typeof(get_abs_neighborhood)}, Int64, Matrix{Float64}}, RatingsDataset, RatingsDataset}, Float64}}(1.200482491149954,2.6212815279531188e-5,0.00023420075321601595,-1.3285661878771887e-5) β: Dual{ForwardDiff.Tag{var\"#validation_mse#17\"{var\"#14#16\"{cf_params, Dict{String, typeof(get_abs_neighborhood)}, Int64, Matrix{Float64}}, RatingsDataset, RatingsDataset}, Float64}}(1.5044187857604705,0.05650844141233548,-0.3279070490528069,0.12460168099094873): λ ForwardDiff.Dual{ForwardDiff.Tag{var\"#validation_mse#17\"{var\"#14#16\"{cf_params, Dict{String, typeof(get_abs_neighborhood)}, Int64, Matrix{Float64}}, RatingsDataset, RatingsDataset}, Float64}, Float64, 3}[Dual{ForwardDiff.Tag{var\"#validation_mse#17\"{var\"#14#16\"{cf_params, Dict{String, typeof(get_abs_neighborhood)}, Int64, Matrix{Float64}}, RatingsDataset, RatingsDataset}, Float64}}(1.289602289694973,1.0,0.0,0.0), Dual{ForwardDiff.Tag{var\"#validation_mse#17\"{var\"#14#16\"{cf_params, Dict{String, typeof(get_abs_neighborhood)}, Int64, Matrix{Float64}}, RatingsDataset, RatingsDataset}, Float64}}(0.7889311892436166,0.0,1.0,0.0), Dual{ForwardDiff.Tag{var\"#validation_mse#17\"{var\"#14#16\"{cf_params, Dict{String, typeof(get_abs_neighborhood)}, Int64, Matrix{Float64}}, RatingsDataset, RatingsDataset}, Float64}}(10.06861912546689,0.0,0.0,1.0)]\n"
     ]
    },
    {
     "name": "stdout",
     "output_type": "stream",
     "text": [
      "     8     1.200482e+00     2.342008e-04\n",
      " * Current step size: 1.2709079018008653\n",
      " * time: 7158.556483030319\n",
      " * g(x): [2.6212815279531188e-5, 0.00023420075321601595, -1.3285661878771887e-5]\n",
      " * x: [1.289602289694973, 0.7889311892436166, 10.06861912546689]\n"
     ]
    },
    {
     "name": "stderr",
     "output_type": "stream",
     "text": [
      "\u001b[32mProgress: 100%|███████████████████████████| Time: 0:03:44 ( 0.23  s/it)\u001b[39m\n",
      "\u001b[38;5;4m\u001b[1m[ \u001b[22m\u001b[39m\u001b[38;5;4m\u001b[1mDebug: \u001b[22m\u001b[39m20220102 17:43:28 loss: Dual{ForwardDiff.Tag{var\"#validation_mse#17\"{var\"#14#16\"{cf_params, Dict{String, typeof(get_abs_neighborhood)}, Int64, Matrix{Float64}}, RatingsDataset, RatingsDataset}, Float64}}(1.2004658448070635,-5.377213075598181e-5,8.286760674440163e-5,-8.962703491272494e-6) β: Dual{ForwardDiff.Tag{var\"#validation_mse#17\"{var\"#14#16\"{cf_params, Dict{String, typeof(get_abs_neighborhood)}, Int64, Matrix{Float64}}, RatingsDataset, RatingsDataset}, Float64}}(1.6721537394753754,0.09322488082702578,-0.3098621815782177,0.12323543626762999): λ ForwardDiff.Dual{ForwardDiff.Tag{var\"#validation_mse#17\"{var\"#14#16\"{cf_params, Dict{String, typeof(get_abs_neighborhood)}, Int64, Matrix{Float64}}, RatingsDataset, RatingsDataset}, Float64}, Float64, 3}[Dual{ForwardDiff.Tag{var\"#validation_mse#17\"{var\"#14#16\"{cf_params, Dict{String, typeof(get_abs_neighborhood)}, Int64, Matrix{Float64}}, RatingsDataset, RatingsDataset}, Float64}}(1.2256471657399028,1.0,0.0,0.0), Dual{ForwardDiff.Tag{var\"#validation_mse#17\"{var\"#14#16\"{cf_params, Dict{String, typeof(get_abs_neighborhood)}, Int64, Matrix{Float64}}, RatingsDataset, RatingsDataset}, Float64}}(0.7728406460316026,0.0,1.0,0.0), Dual{ForwardDiff.Tag{var\"#validation_mse#17\"{var\"#14#16\"{cf_params, Dict{String, typeof(get_abs_neighborhood)}, Int64, Matrix{Float64}}, RatingsDataset, RatingsDataset}, Float64}}(11.418775687390287,0.0,0.0,1.0)]\n",
      "\u001b[32mProgress: 100%|███████████████████████████| Time: 0:03:51 ( 0.23  s/it)\u001b[39m\n",
      "\u001b[38;5;4m\u001b[1m[ \u001b[22m\u001b[39m\u001b[38;5;4m\u001b[1mDebug: \u001b[22m\u001b[39m20220102 17:47:54 loss: Dual{ForwardDiff.Tag{var\"#validation_mse#17\"{var\"#14#16\"{cf_params, Dict{String, typeof(get_abs_neighborhood)}, Int64, Matrix{Float64}}, RatingsDataset, RatingsDataset}, Float64}}(1.2005339901424281,-0.0005422909647208429,-0.0005763252485519101,1.1326830688336955e-6) β: Dual{ForwardDiff.Tag{var\"#validation_mse#17\"{var\"#14#16\"{cf_params, Dict{String, typeof(get_abs_neighborhood)}, Int64, Matrix{Float64}}, RatingsDataset, RatingsDataset}, Float64}}(2.2812043882840936,0.3485675678698803,-0.10647851307659502,0.11571418830832654): λ ForwardDiff.Dual{ForwardDiff.Tag{var\"#validation_mse#17\"{var\"#14#16\"{cf_params, Dict{String, typeof(get_abs_neighborhood)}, Int64, Matrix{Float64}}, RatingsDataset, RatingsDataset}, Float64}, Float64, 3}[Dual{ForwardDiff.Tag{var\"#validation_mse#17\"{var\"#14#16\"{cf_params, Dict{String, typeof(get_abs_neighborhood)}, Int64, Matrix{Float64}}, RatingsDataset, RatingsDataset}, Float64}}(0.969826669919622,1.0,0.0,0.0), Dual{ForwardDiff.Tag{var\"#validation_mse#17\"{var\"#14#16\"{cf_params, Dict{String, typeof(get_abs_neighborhood)}, Int64, Matrix{Float64}}, RatingsDataset, RatingsDataset}, Float64}}(0.7084784731835467,0.0,1.0,0.0), Dual{ForwardDiff.Tag{var\"#validation_mse#17\"{var\"#14#16\"{cf_params, Dict{String, typeof(get_abs_neighborhood)}, Int64, Matrix{Float64}}, RatingsDataset, RatingsDataset}, Float64}}(16.819401935083874,0.0,0.0,1.0)]\n",
      "\u001b[32mProgress: 100%|███████████████████████████| Time: 0:03:40 ( 0.22  s/it)\u001b[39m\n",
      "\u001b[38;5;4m\u001b[1m[ \u001b[22m\u001b[39m\u001b[38;5;4m\u001b[1mDebug: \u001b[22m\u001b[39m20220102 17:52:10 loss: Dual{ForwardDiff.Tag{var\"#validation_mse#17\"{var\"#14#16\"{cf_params, Dict{String, typeof(get_abs_neighborhood)}, Int64, Matrix{Float64}}, RatingsDataset, RatingsDataset}, Float64}}(1.200462062398504,-0.00012163393261314991,-3.01001559863855e-5,-6.490813581233652e-6) β: Dual{ForwardDiff.Tag{var\"#validation_mse#17\"{var\"#14#16\"{cf_params, Dict{String, typeof(get_abs_neighborhood)}, Int64, Matrix{Float64}}, RatingsDataset, RatingsDataset}, Float64}}(1.7899926193564324,0.12568314043603407,-0.2887759478973705,0.12214977638965875): λ ForwardDiff.Dual{ForwardDiff.Tag{var\"#validation_mse#17\"{var\"#14#16\"{cf_params, Dict{String, typeof(get_abs_neighborhood)}, Int64, Matrix{Float64}}, RatingsDataset, RatingsDataset}, Float64}, Float64, 3}[Dual{ForwardDiff.Tag{var\"#validation_mse#17\"{var\"#14#16\"{cf_params, Dict{String, typeof(get_abs_neighborhood)}, Int64, Matrix{Float64}}, RatingsDataset, RatingsDataset}, Float64}}(1.1795581556504418,1.0,0.0,0.0), Dual{ForwardDiff.Tag{var\"#validation_mse#17\"{var\"#14#16\"{cf_params, Dict{String, typeof(get_abs_neighborhood)}, Int64, Matrix{Float64}}, RatingsDataset, RatingsDataset}, Float64}}(0.7612450589608246,0.0,1.0,0.0), Dual{ForwardDiff.Tag{var\"#validation_mse#17\"{var\"#14#16\"{cf_params, Dict{String, typeof(get_abs_neighborhood)}, Int64, Matrix{Float64}}, RatingsDataset, RatingsDataset}, Float64}}(12.391760736227898,0.0,0.0,1.0)]\n"
     ]
    },
    {
     "name": "stdout",
     "output_type": "stream",
     "text": [
      "     9     1.200462e+00     1.216339e-04\n",
      " * Current step size: 1.7206460911848043\n",
      " * time: 7941.175398111343\n",
      " * g(x): [-0.00012163393261314991, -3.01001559863855e-5, -6.490813581233652e-6]\n",
      " * x: [1.1795581556504418, 0.7612450589608246, 12.391760736227898]\n"
     ]
    },
    {
     "name": "stderr",
     "output_type": "stream",
     "text": [
      "\u001b[32mProgress: 100%|███████████████████████████| Time: 0:03:31 ( 0.21  s/it)\u001b[39m\n",
      "\u001b[38;5;4m\u001b[1m[ \u001b[22m\u001b[39m\u001b[38;5;4m\u001b[1mDebug: \u001b[22m\u001b[39m20220102 17:56:23 loss: Dual{ForwardDiff.Tag{var\"#validation_mse#17\"{var\"#14#16\"{cf_params, Dict{String, typeof(get_abs_neighborhood)}, Int64, Matrix{Float64}}, RatingsDataset, RatingsDataset}, Float64}}(1.200448931575327,-3.240719337015184e-5,-6.732294221147353e-5,-4.264315995757504e-6) β: Dual{ForwardDiff.Tag{var\"#validation_mse#17\"{var\"#14#16\"{cf_params, Dict{String, typeof(get_abs_neighborhood)}, Int64, Matrix{Float64}}, RatingsDataset, RatingsDataset}, Float64}}(1.9841216053957398,0.11994983810113208,-0.3073952526497042,0.12243347838709093): λ ForwardDiff.Dual{ForwardDiff.Tag{var\"#validation_mse#17\"{var\"#14#16\"{cf_params, Dict{String, typeof(get_abs_neighborhood)}, Int64, Matrix{Float64}}, RatingsDataset, RatingsDataset}, Float64}, Float64, 3}[Dual{ForwardDiff.Tag{var\"#validation_mse#17\"{var\"#14#16\"{cf_params, Dict{String, typeof(get_abs_neighborhood)}, Int64, Matrix{Float64}}, RatingsDataset, RatingsDataset}, Float64}}(1.249112850862171,1.0,0.0,0.0), Dual{ForwardDiff.Tag{var\"#validation_mse#17\"{var\"#14#16\"{cf_params, Dict{String, typeof(get_abs_neighborhood)}, Int64, Matrix{Float64}}, RatingsDataset, RatingsDataset}, Float64}}(0.757883313137218,0.0,1.0,0.0), Dual{ForwardDiff.Tag{var\"#validation_mse#17\"{var\"#14#16\"{cf_params, Dict{String, typeof(get_abs_neighborhood)}, Int64, Matrix{Float64}}, RatingsDataset, RatingsDataset}, Float64}}(13.901072505114623,0.0,0.0,1.0)]\n",
      "\u001b[32mProgress: 100%|███████████████████████████| Time: 0:03:44 ( 0.23  s/it)\u001b[39m\n",
      "\u001b[38;5;4m\u001b[1m[ \u001b[22m\u001b[39m\u001b[38;5;4m\u001b[1mDebug: \u001b[22m\u001b[39m20220102 18:00:42 loss: Dual{ForwardDiff.Tag{var\"#validation_mse#17\"{var\"#14#16\"{cf_params, Dict{String, typeof(get_abs_neighborhood)}, Int64, Matrix{Float64}}, RatingsDataset, RatingsDataset}, Float64}}(1.2004689758567333,0.00022872107450130455,-0.00018474664457684886,-7.476571315051053e-7) β: Dual{ForwardDiff.Tag{var\"#validation_mse#17\"{var\"#14#16\"{cf_params, Dict{String, typeof(get_abs_neighborhood)}, Int64, Matrix{Float64}}, RatingsDataset, RatingsDataset}, Float64}}(2.75972580840946,0.0744599289751087,-0.3745489572263208,0.1237949348007937): λ ForwardDiff.Dual{ForwardDiff.Tag{var\"#validation_mse#17\"{var\"#14#16\"{cf_params, Dict{String, typeof(get_abs_neighborhood)}, Int64, Matrix{Float64}}, RatingsDataset, RatingsDataset}, Float64}, Float64, 3}[Dual{ForwardDiff.Tag{var\"#validation_mse#17\"{var\"#14#16\"{cf_params, Dict{String, typeof(get_abs_neighborhood)}, Int64, Matrix{Float64}}, RatingsDataset, RatingsDataset}, Float64}}(1.5273316317090873,1.0,0.0,0.0), Dual{ForwardDiff.Tag{var\"#validation_mse#17\"{var\"#14#16\"{cf_params, Dict{String, typeof(get_abs_neighborhood)}, Int64, Matrix{Float64}}, RatingsDataset, RatingsDataset}, Float64}}(0.7444363298427916,0.0,1.0,0.0), Dual{ForwardDiff.Tag{var\"#validation_mse#17\"{var\"#14#16\"{cf_params, Dict{String, typeof(get_abs_neighborhood)}, Int64, Matrix{Float64}}, RatingsDataset, RatingsDataset}, Float64}}(19.93831958066152,0.0,0.0,1.0)]\n",
      "\u001b[32mProgress: 100%|███████████████████████████| Time: 0:03:36 ( 0.22  s/it)\u001b[39m\n",
      "\u001b[38;5;4m\u001b[1m[ \u001b[22m\u001b[39m\u001b[38;5;4m\u001b[1mDebug: \u001b[22m\u001b[39m20220102 18:04:54 loss: Dual{ForwardDiff.Tag{var\"#validation_mse#17\"{var\"#14#16\"{cf_params, Dict{String, typeof(get_abs_neighborhood)}, Int64, Matrix{Float64}}, RatingsDataset, RatingsDataset}, Float64}}(1.2004448524457958,7.71136843039014e-5,-0.00011380913185988317,-2.349088768038631e-6) β: Dual{ForwardDiff.Tag{var\"#validation_mse#17\"{var\"#14#16\"{cf_params, Dict{String, typeof(get_abs_neighborhood)}, Int64, Matrix{Float64}}, RatingsDataset, RatingsDataset}, Float64}}(2.25955216590256,0.10723728768544714,-0.33258996304229793,0.12291660901404326): λ ForwardDiff.Dual{ForwardDiff.Tag{var\"#validation_mse#17\"{var\"#14#16\"{cf_params, Dict{String, typeof(get_abs_neighborhood)}, Int64, Matrix{Float64}}, RatingsDataset, RatingsDataset}, Float64}, Float64, 3}[Dual{ForwardDiff.Tag{var\"#validation_mse#17\"{var\"#14#16\"{cf_params, Dict{String, typeof(get_abs_neighborhood)}, Int64, Matrix{Float64}}, RatingsDataset, RatingsDataset}, Float64}}(1.347784842972164,1.0,0.0,0.0), Dual{ForwardDiff.Tag{var\"#validation_mse#17\"{var\"#14#16\"{cf_params, Dict{String, typeof(get_abs_neighborhood)}, Int64, Matrix{Float64}}, RatingsDataset, RatingsDataset}, Float64}}(0.7531142582750989,0.0,1.0,0.0), Dual{ForwardDiff.Tag{var\"#validation_mse#17\"{var\"#14#16\"{cf_params, Dict{String, typeof(get_abs_neighborhood)}, Int64, Matrix{Float64}}, RatingsDataset, RatingsDataset}, Float64}}(16.042219102016062,0.0,0.0,1.0)]\n"
     ]
    },
    {
     "name": "stdout",
     "output_type": "stream",
     "text": [
      "    10     1.200445e+00     1.138091e-04\n",
      " * Current step size: 2.418624462512977\n",
      " * time: 8705.038876056671\n",
      " * g(x): [7.71136843039014e-5, -0.00011380913185988317, -2.349088768038631e-6]\n",
      " * x: [1.347784842972164, 0.7531142582750989, 16.042219102016062]\n"
     ]
    },
    {
     "name": "stderr",
     "output_type": "stream",
     "text": [
      "\u001b[32mProgress: 100%|███████████████████████████| Time: 0:03:33 ( 0.21  s/it)\u001b[39m\n",
      "\u001b[38;5;4m\u001b[1m[ \u001b[22m\u001b[39m\u001b[38;5;4m\u001b[1mDebug: \u001b[22m\u001b[39m20220102 18:09:07 loss: Dual{ForwardDiff.Tag{var\"#validation_mse#17\"{var\"#14#16\"{cf_params, Dict{String, typeof(get_abs_neighborhood)}, Int64, Matrix{Float64}}, RatingsDataset, RatingsDataset}, Float64}}(1.2004396252174172,2.62515223610061e-5,-6.230809932791998e-6,-1.5557219203381068e-6) β: Dual{ForwardDiff.Tag{var\"#validation_mse#17\"{var\"#14#16\"{cf_params, Dict{String, typeof(get_abs_neighborhood)}, Int64, Matrix{Float64}}, RatingsDataset, RatingsDataset}, Float64}}(2.38105333712193,0.13792210068289024,-0.39819274903380386,0.12180635589564616): λ ForwardDiff.Dual{ForwardDiff.Tag{var\"#validation_mse#17\"{var\"#14#16\"{cf_params, Dict{String, typeof(get_abs_neighborhood)}, Int64, Matrix{Float64}}, RatingsDataset, RatingsDataset}, Float64}, Float64, 3}[Dual{ForwardDiff.Tag{var\"#validation_mse#17\"{var\"#14#16\"{cf_params, Dict{String, typeof(get_abs_neighborhood)}, Int64, Matrix{Float64}}, RatingsDataset, RatingsDataset}, Float64}}(1.3046923633104184,1.0,0.0,0.0), Dual{ForwardDiff.Tag{var\"#validation_mse#17\"{var\"#14#16\"{cf_params, Dict{String, typeof(get_abs_neighborhood)}, Int64, Matrix{Float64}}, RatingsDataset, RatingsDataset}, Float64}}(0.7678135226276529,0.0,1.0,0.0), Dual{ForwardDiff.Tag{var\"#validation_mse#17\"{var\"#14#16\"{cf_params, Dict{String, typeof(get_abs_neighborhood)}, Int64, Matrix{Float64}}, RatingsDataset, RatingsDataset}, Float64}}(17.12203486159897,0.0,0.0,1.0)]\n",
      "\u001b[32mProgress: 100%|███████████████████████████| Time: 0:03:44 ( 0.23  s/it)\u001b[39m\n",
      "\u001b[38;5;4m\u001b[1m[ \u001b[22m\u001b[39m\u001b[38;5;4m\u001b[1mDebug: \u001b[22m\u001b[39m20220102 18:13:24 loss: Dual{ForwardDiff.Tag{var\"#validation_mse#17\"{var\"#14#16\"{cf_params, Dict{String, typeof(get_abs_neighborhood)}, Int64, Matrix{Float64}}, RatingsDataset, RatingsDataset}, Float64}}(1.2004673917663509,-0.00023870948579353716,0.00042510762738404915,7.366781177827192e-7) β: Dual{ForwardDiff.Tag{var\"#validation_mse#17\"{var\"#14#16\"{cf_params, Dict{String, typeof(get_abs_neighborhood)}, Int64, Matrix{Float64}}, RatingsDataset, RatingsDataset}, Float64}}(2.8271474972420148,0.30668247306010626,-0.6995546988773724,0.11655358172568644): λ ForwardDiff.Dual{ForwardDiff.Tag{var\"#validation_mse#17\"{var\"#14#16\"{cf_params, Dict{String, typeof(get_abs_neighborhood)}, Int64, Matrix{Float64}}, RatingsDataset, RatingsDataset}, Float64}, Float64, 3}[Dual{ForwardDiff.Tag{var\"#validation_mse#17\"{var\"#14#16\"{cf_params, Dict{String, typeof(get_abs_neighborhood)}, Int64, Matrix{Float64}}, RatingsDataset, RatingsDataset}, Float64}}(1.1323224446634363,1.0,0.0,0.0), Dual{ForwardDiff.Tag{var\"#validation_mse#17\"{var\"#14#16\"{cf_params, Dict{String, typeof(get_abs_neighborhood)}, Int64, Matrix{Float64}}, RatingsDataset, RatingsDataset}, Float64}}(0.8266105800378688,0.0,1.0,0.0), Dual{ForwardDiff.Tag{var\"#validation_mse#17\"{var\"#14#16\"{cf_params, Dict{String, typeof(get_abs_neighborhood)}, Int64, Matrix{Float64}}, RatingsDataset, RatingsDataset}, Float64}}(21.441297899930593,0.0,0.0,1.0)]\n",
      "\u001b[32mProgress: 100%|███████████████████████████| Time: 0:03:46 ( 0.23  s/it)\u001b[39m\n",
      "\u001b[38;5;4m\u001b[1m[ \u001b[22m\u001b[39m\u001b[38;5;4m\u001b[1mDebug: \u001b[22m\u001b[39m20220102 18:17:44 loss: Dual{ForwardDiff.Tag{var\"#validation_mse#17\"{var\"#14#16\"{cf_params, Dict{String, typeof(get_abs_neighborhood)}, Int64, Matrix{Float64}}, RatingsDataset, RatingsDataset}, Float64}}(1.200438736417924,-5.565884089650717e-6,5.560583689290002e-5,-1.1520679551031932e-6) β: Dual{ForwardDiff.Tag{var\"#validation_mse#17\"{var\"#14#16\"{cf_params, Dict{String, typeof(get_abs_neighborhood)}, Int64, Matrix{Float64}}, RatingsDataset, RatingsDataset}, Float64}}(2.4491499928070826,0.15744393584452998,-0.43773882448019347,0.12113564723833915): λ ForwardDiff.Dual{ForwardDiff.Tag{var\"#validation_mse#17\"{var\"#14#16\"{cf_params, Dict{String, typeof(get_abs_neighborhood)}, Int64, Matrix{Float64}}, RatingsDataset, RatingsDataset}, Float64}, Float64, 3}[Dual{ForwardDiff.Tag{var\"#validation_mse#17\"{var\"#14#16\"{cf_params, Dict{String, typeof(get_abs_neighborhood)}, Int64, Matrix{Float64}}, RatingsDataset, RatingsDataset}, Float64}}(1.2799640140371316,1.0,0.0,0.0), Dual{ForwardDiff.Tag{var\"#validation_mse#17\"{var\"#14#16\"{cf_params, Dict{String, typeof(get_abs_neighborhood)}, Int64, Matrix{Float64}}, RatingsDataset, RatingsDataset}, Float64}}(0.7762486033151309,0.0,1.0,0.0), Dual{ForwardDiff.Tag{var\"#validation_mse#17\"{var\"#14#16\"{cf_params, Dict{String, typeof(get_abs_neighborhood)}, Int64, Matrix{Float64}}, RatingsDataset, RatingsDataset}, Float64}}(17.741680365022386,0.0,0.0,1.0)]\n"
     ]
    },
    {
     "name": "stdout",
     "output_type": "stream",
     "text": [
      "    11     1.200439e+00     5.560584e-05\n",
      " * Current step size: 1.5738437302144623\n",
      " * time: 9475.131294965744\n",
      " * g(x): [-5.565884089650717e-6, 5.560583689290002e-5, -1.1520679551031932e-6]\n",
      " * x: [1.2799640140371316, 0.7762486033151309, 17.741680365022386]\n"
     ]
    },
    {
     "name": "stderr",
     "output_type": "stream",
     "text": [
      "\u001b[32mProgress: 100%|███████████████████████████| Time: 0:03:46 ( 0.23  s/it)\u001b[39m\n",
      "\u001b[38;5;4m\u001b[1m[ \u001b[22m\u001b[39m\u001b[38;5;4m\u001b[1mDebug: \u001b[22m\u001b[39m20220102 18:22:12 loss: Dual{ForwardDiff.Tag{var\"#validation_mse#17\"{var\"#14#16\"{cf_params, Dict{String, typeof(get_abs_neighborhood)}, Int64, Matrix{Float64}}, RatingsDataset, RatingsDataset}, Float64}}(1.200437742213408,-6.624001397027811e-6,1.8771333869029097e-5,-6.531883340484978e-7) β: Dual{ForwardDiff.Tag{var\"#validation_mse#17\"{var\"#14#16\"{cf_params, Dict{String, typeof(get_abs_neighborhood)}, Int64, Matrix{Float64}}, RatingsDataset, RatingsDataset}, Float64}}(2.5653342111217383,0.17005249407492848,-0.43954050786705,0.12096333482491833): λ ForwardDiff.Dual{ForwardDiff.Tag{var\"#validation_mse#17\"{var\"#14#16\"{cf_params, Dict{String, typeof(get_abs_neighborhood)}, Int64, Matrix{Float64}}, RatingsDataset, RatingsDataset}, Float64}, Float64, 3}[Dual{ForwardDiff.Tag{var\"#validation_mse#17\"{var\"#14#16\"{cf_params, Dict{String, typeof(get_abs_neighborhood)}, Int64, Matrix{Float64}}, RatingsDataset, RatingsDataset}, Float64}}(1.2826565141440212,1.0,0.0,0.0), Dual{ForwardDiff.Tag{var\"#validation_mse#17\"{var\"#14#16\"{cf_params, Dict{String, typeof(get_abs_neighborhood)}, Int64, Matrix{Float64}}, RatingsDataset, RatingsDataset}, Float64}}(0.7726346113913847,0.0,1.0,0.0), Dual{ForwardDiff.Tag{var\"#validation_mse#17\"{var\"#14#16\"{cf_params, Dict{String, typeof(get_abs_neighborhood)}, Int64, Matrix{Float64}}, RatingsDataset, RatingsDataset}, Float64}}(18.684760414913445,0.0,0.0,1.0)]\n",
      "\u001b[32mProgress: 100%|███████████████████████████| Time: 0:03:44 ( 0.23  s/it)\u001b[39m\n",
      "\u001b[38;5;4m\u001b[1m[ \u001b[22m\u001b[39m\u001b[38;5;4m\u001b[1mDebug: \u001b[22m\u001b[39m20220102 18:26:39 loss: Dual{ForwardDiff.Tag{var\"#validation_mse#17\"{var\"#14#16\"{cf_params, Dict{String, typeof(get_abs_neighborhood)}, Int64, Matrix{Float64}}, RatingsDataset, RatingsDataset}, Float64}}(1.2004386319535385,-1.173870833567595e-5,-0.00012618787620033607,6.030849497702237e-7) β: Dual{ForwardDiff.Tag{var\"#validation_mse#17\"{var\"#14#16\"{cf_params, Dict{String, typeof(get_abs_neighborhood)}, Int64, Matrix{Float64}}, RatingsDataset, RatingsDataset}, Float64}}(3.0290379718548968,0.2220502163244506,-0.43162185147899135,0.12045090887204642): λ ForwardDiff.Dual{ForwardDiff.Tag{var\"#validation_mse#17\"{var\"#14#16\"{cf_params, Dict{String, typeof(get_abs_neighborhood)}, Int64, Matrix{Float64}}, RatingsDataset, RatingsDataset}, Float64}, Float64, 3}[Dual{ForwardDiff.Tag{var\"#validation_mse#17\"{var\"#14#16\"{cf_params, Dict{String, typeof(get_abs_neighborhood)}, Int64, Matrix{Float64}}, RatingsDataset, RatingsDataset}, Float64}}(1.2934265145715798,1.0,0.0,0.0), Dual{ForwardDiff.Tag{var\"#validation_mse#17\"{var\"#14#16\"{cf_params, Dict{String, typeof(get_abs_neighborhood)}, Int64, Matrix{Float64}}, RatingsDataset, RatingsDataset}, Float64}}(0.7581786436963995,0.0,1.0,0.0), Dual{ForwardDiff.Tag{var\"#validation_mse#17\"{var\"#14#16\"{cf_params, Dict{String, typeof(get_abs_neighborhood)}, Int64, Matrix{Float64}}, RatingsDataset, RatingsDataset}, Float64}}(22.457080614477682,0.0,0.0,1.0)]\n",
      "\u001b[32mProgress: 100%|███████████████████████████| Time: 0:03:12 ( 0.19  s/it)\u001b[39m\n",
      "\u001b[38;5;4m\u001b[1m[ \u001b[22m\u001b[39m\u001b[38;5;4m\u001b[1mDebug: \u001b[22m\u001b[39m20220102 18:30:30 loss: Dual{ForwardDiff.Tag{var\"#validation_mse#17\"{var\"#14#16\"{cf_params, Dict{String, typeof(get_abs_neighborhood)}, Int64, Matrix{Float64}}, RatingsDataset, RatingsDataset}, Float64}}(1.2004372825869107,-8.61988797482613e-6,-4.1679953316916116e-5,-1.4405736720596775e-8) β: Dual{ForwardDiff.Tag{var\"#validation_mse#17\"{var\"#14#16\"{cf_params, Dict{String, typeof(get_abs_neighborhood)}, Int64, Matrix{Float64}}, RatingsDataset, RatingsDataset}, Float64}}(2.75749013782926,0.19130307881597258,-0.43918446635123287,0.12072091582367558): λ ForwardDiff.Dual{ForwardDiff.Tag{var\"#validation_mse#17\"{var\"#14#16\"{cf_params, Dict{String, typeof(get_abs_neighborhood)}, Int64, Matrix{Float64}}, RatingsDataset, RatingsDataset}, Float64}, Float64, 3}[Dual{ForwardDiff.Tag{var\"#validation_mse#17\"{var\"#14#16\"{cf_params, Dict{String, typeof(get_abs_neighborhood)}, Int64, Matrix{Float64}}, RatingsDataset, RatingsDataset}, Float64}}(1.2871153239121205,1.0,0.0,0.0), Dual{ForwardDiff.Tag{var\"#validation_mse#17\"{var\"#14#16\"{cf_params, Dict{String, typeof(get_abs_neighborhood)}, Int64, Matrix{Float64}}, RatingsDataset, RatingsDataset}, Float64}}(0.7666498010471997,0.0,1.0,0.0), Dual{ForwardDiff.Tag{var\"#validation_mse#17\"{var\"#14#16\"{cf_params, Dict{String, typeof(get_abs_neighborhood)}, Int64, Matrix{Float64}}, RatingsDataset, RatingsDataset}, Float64}}(20.24651134216279,0.0,0.0,1.0)]\n"
     ]
    },
    {
     "name": "stdout",
     "output_type": "stream",
     "text": [
      "    12     1.200437e+00     4.167995e-05\n",
      " * Current step size: 2.656010990190867\n",
      " * time: 10241.377115011215\n",
      " * g(x): [-8.61988797482613e-6, -4.1679953316916116e-5, -1.4405736720596775e-8]\n",
      " * x: [1.2871153239121205, 0.7666498010471997, 20.24651134216279]\n"
     ]
    },
    {
     "name": "stderr",
     "output_type": "stream",
     "text": [
      "\u001b[32mProgress: 100%|███████████████████████████| Time: 0:03:43 ( 0.23  s/it)\u001b[39m\n",
      "\u001b[38;5;4m\u001b[1m[ \u001b[22m\u001b[39m\u001b[38;5;4m\u001b[1mDebug: \u001b[22m\u001b[39m20220102 18:34:46 loss: Dual{ForwardDiff.Tag{var\"#validation_mse#17\"{var\"#14#16\"{cf_params, Dict{String, typeof(get_abs_neighborhood)}, Int64, Matrix{Float64}}, RatingsDataset, RatingsDataset}, Float64}}(1.2004371502093563,-5.182696485806634e-7,-4.761648398991549e-6,-2.9176497601492723e-8) β: Dual{ForwardDiff.Tag{var\"#validation_mse#17\"{var\"#14#16\"{cf_params, Dict{String, typeof(get_abs_neighborhood)}, Int64, Matrix{Float64}}, RatingsDataset, RatingsDataset}, Float64}}(2.7717634930068358,0.18865646002853015,-0.4619072945182304,0.12071319767398558): λ ForwardDiff.Dual{ForwardDiff.Tag{var\"#validation_mse#17\"{var\"#14#16\"{cf_params, Dict{String, typeof(get_abs_neighborhood)}, Int64, Matrix{Float64}}, RatingsDataset, RatingsDataset}, Float64}, Float64, 3}[Dual{ForwardDiff.Tag{var\"#validation_mse#17\"{var\"#14#16\"{cf_params, Dict{String, typeof(get_abs_neighborhood)}, Int64, Matrix{Float64}}, RatingsDataset, RatingsDataset}, Float64}}(1.293283155279017,1.0,0.0,0.0), Dual{ForwardDiff.Tag{var\"#validation_mse#17\"{var\"#14#16\"{cf_params, Dict{String, typeof(get_abs_neighborhood)}, Int64, Matrix{Float64}}, RatingsDataset, RatingsDataset}, Float64}}(0.771024111041407,0.0,1.0,0.0), Dual{ForwardDiff.Tag{var\"#validation_mse#17\"{var\"#14#16\"{cf_params, Dict{String, typeof(get_abs_neighborhood)}, Int64, Matrix{Float64}}, RatingsDataset, RatingsDataset}, Float64}}(20.3713678929279,0.0,0.0,1.0)]\n",
      "\u001b[32mProgress: 100%|███████████████████████████| Time: 0:03:44 ( 0.23  s/it)\u001b[39m\n",
      "\u001b[38;5;4m\u001b[1m[ \u001b[22m\u001b[39m\u001b[38;5;4m\u001b[1mDebug: \u001b[22m\u001b[39m20220102 18:39:14 loss: Dual{ForwardDiff.Tag{var\"#validation_mse#17\"{var\"#14#16\"{cf_params, Dict{String, typeof(get_abs_neighborhood)}, Int64, Matrix{Float64}}, RatingsDataset, RatingsDataset}, Float64}}(1.2004386987294466,3.084295817594442e-5,0.00014149788140953626,-8.439275982848881e-8) β: Dual{ForwardDiff.Tag{var\"#validation_mse#17\"{var\"#14#16\"{cf_params, Dict{String, typeof(get_abs_neighborhood)}, Int64, Matrix{Float64}}, RatingsDataset, RatingsDataset}, Float64}}(2.827671735398467,0.1779674131975449,-0.5540121127102351,0.12063273047343377): λ ForwardDiff.Dual{ForwardDiff.Tag{var\"#validation_mse#17\"{var\"#14#16\"{cf_params, Dict{String, typeof(get_abs_neighborhood)}, Int64, Matrix{Float64}}, RatingsDataset, RatingsDataset}, Float64}, Float64, 3}[Dual{ForwardDiff.Tag{var\"#validation_mse#17\"{var\"#14#16\"{cf_params, Dict{String, typeof(get_abs_neighborhood)}, Int64, Matrix{Float64}}, RatingsDataset, RatingsDataset}, Float64}}(1.3179544807466026,1.0,0.0,0.0), Dual{ForwardDiff.Tag{var\"#validation_mse#17\"{var\"#14#16\"{cf_params, Dict{String, typeof(get_abs_neighborhood)}, Int64, Matrix{Float64}}, RatingsDataset, RatingsDataset}, Float64}}(0.7885213510182362,0.0,1.0,0.0), Dual{ForwardDiff.Tag{var\"#validation_mse#17\"{var\"#14#16\"{cf_params, Dict{String, typeof(get_abs_neighborhood)}, Int64, Matrix{Float64}}, RatingsDataset, RatingsDataset}, Float64}}(20.87079409598834,0.0,0.0,1.0)]\n",
      "\u001b[32mProgress: 100%|███████████████████████████| Time: 0:03:42 ( 0.22  s/it)\u001b[39m\n",
      "\u001b[38;5;4m\u001b[1m[ \u001b[22m\u001b[39m\u001b[38;5;4m\u001b[1mDebug: \u001b[22m\u001b[39m20220102 18:43:35 loss: Dual{ForwardDiff.Tag{var\"#validation_mse#17\"{var\"#14#16\"{cf_params, Dict{String, typeof(get_abs_neighborhood)}, Int64, Matrix{Float64}}, RatingsDataset, RatingsDataset}, Float64}}(1.200437148377861,5.589209557180251e-7,1.725431277347342e-7,-3.112549415864491e-8) β: Dual{ForwardDiff.Tag{var\"#validation_mse#17\"{var\"#14#16\"{cf_params, Dict{String, typeof(get_abs_neighborhood)}, Int64, Matrix{Float64}}, RatingsDataset, RatingsDataset}, Float64}}(2.7736663190884663,0.18830111486360926,-0.4649602442161267,0.12071178562431494): λ ForwardDiff.Dual{ForwardDiff.Tag{var\"#validation_mse#17\"{var\"#14#16\"{cf_params, Dict{String, typeof(get_abs_neighborhood)}, Int64, Matrix{Float64}}, RatingsDataset, RatingsDataset}, Float64}, Float64, 3}[Dual{ForwardDiff.Tag{var\"#validation_mse#17\"{var\"#14#16\"{cf_params, Dict{String, typeof(get_abs_neighborhood)}, Int64, Matrix{Float64}}, RatingsDataset, RatingsDataset}, Float64}}(1.2941092458979127,1.0,0.0,0.0), Dual{ForwardDiff.Tag{var\"#validation_mse#17\"{var\"#14#16\"{cf_params, Dict{String, typeof(get_abs_neighborhood)}, Int64, Matrix{Float64}}, RatingsDataset, RatingsDataset}, Float64}}(0.7716099857573974,0.0,1.0,0.0), Dual{ForwardDiff.Tag{var\"#validation_mse#17\"{var\"#14#16\"{cf_params, Dict{String, typeof(get_abs_neighborhood)}, Int64, Matrix{Float64}}, RatingsDataset, RatingsDataset}, Float64}}(20.38809059806675,0.0,0.0,1.0)]\n"
     ]
    },
    {
     "name": "stdout",
     "output_type": "stream",
     "text": [
      "    13     1.200437e+00     5.589210e-07\n",
      " * Current step size: 1.1339353444923237\n",
      " * time: 11026.138916015625\n",
      " * g(x): [5.589209557180251e-7, 1.725431277347342e-7, -3.112549415864491e-8]\n",
      " * x: [1.2941092458979127, 0.7716099857573974, 20.38809059806675]\n"
     ]
    },
    {
     "name": "stderr",
     "output_type": "stream",
     "text": [
      "\u001b[32mProgress: 100%|███████████████████████████| Time: 0:03:43 ( 0.23  s/it)\u001b[39m\n",
      "\u001b[38;5;4m\u001b[1m[ \u001b[22m\u001b[39m\u001b[38;5;4m\u001b[1mDebug: \u001b[22m\u001b[39m20220102 18:47:51 loss: Dual{ForwardDiff.Tag{var\"#validation_mse#17\"{var\"#14#16\"{cf_params, Dict{String, typeof(get_abs_neighborhood)}, Int64, Matrix{Float64}}, RatingsDataset, RatingsDataset}, Float64}}(1.200437146971658,2.4719825509992757e-8,2.0843087734176183e-7,-8.487981283743218e-9) β: Dual{ForwardDiff.Tag{var\"#validation_mse#17\"{var\"#14#16\"{cf_params, Dict{String, typeof(get_abs_neighborhood)}, Int64, Matrix{Float64}}, RatingsDataset, RatingsDataset}, Float64}}(2.7818971712161034,0.18940369987942243,-0.4663183747713371,0.12069178885908725): λ ForwardDiff.Dual{ForwardDiff.Tag{var\"#validation_mse#17\"{var\"#14#16\"{cf_params, Dict{String, typeof(get_abs_neighborhood)}, Int64, Matrix{Float64}}, RatingsDataset, RatingsDataset}, Float64}, Float64, 3}[Dual{ForwardDiff.Tag{var\"#validation_mse#17\"{var\"#14#16\"{cf_params, Dict{String, typeof(get_abs_neighborhood)}, Int64, Matrix{Float64}}, RatingsDataset, RatingsDataset}, Float64}}(1.2939096666114351,1.0,0.0,0.0), Dual{ForwardDiff.Tag{var\"#validation_mse#17\"{var\"#14#16\"{cf_params, Dict{String, typeof(get_abs_neighborhood)}, Int64, Matrix{Float64}}, RatingsDataset, RatingsDataset}, Float64}}(0.7716726615980742,0.0,1.0,0.0), Dual{ForwardDiff.Tag{var\"#validation_mse#17\"{var\"#14#16\"{cf_params, Dict{String, typeof(get_abs_neighborhood)}, Int64, Matrix{Float64}}, RatingsDataset, RatingsDataset}, Float64}}(20.456836290593365,0.0,0.0,1.0)]\n",
      "\u001b[32mProgress: 100%|███████████████████████████| Time: 0:03:44 ( 0.23  s/it)\u001b[39m\n",
      "\u001b[38;5;4m\u001b[1m[ \u001b[22m\u001b[39m\u001b[38;5;4m\u001b[1mDebug: \u001b[22m\u001b[39m20220102 18:52:16 loss: Dual{ForwardDiff.Tag{var\"#validation_mse#17\"{var\"#14#16\"{cf_params, Dict{String, typeof(get_abs_neighborhood)}, Int64, Matrix{Float64}}, RatingsDataset, RatingsDataset}, Float64}}(1.2004371576918575,-2.1177561481317962e-6,3.671791928035233e-7,7.908117313918382e-8) β: Dual{ForwardDiff.Tag{var\"#validation_mse#17\"{var\"#14#16\"{cf_params, Dict{String, typeof(get_abs_neighborhood)}, Int64, Matrix{Float64}}, RatingsDataset, RatingsDataset}, Float64}}(2.8148038632922563,0.19383413292684437,-0.4717579075448594,0.12061266109107438): λ ForwardDiff.Dual{ForwardDiff.Tag{var\"#validation_mse#17\"{var\"#14#16\"{cf_params, Dict{String, typeof(get_abs_neighborhood)}, Int64, Matrix{Float64}}, RatingsDataset, RatingsDataset}, Float64}, Float64, 3}[Dual{ForwardDiff.Tag{var\"#validation_mse#17\"{var\"#14#16\"{cf_params, Dict{String, typeof(get_abs_neighborhood)}, Int64, Matrix{Float64}}, RatingsDataset, RatingsDataset}, Float64}}(1.2931113494655249,1.0,0.0,0.0), Dual{ForwardDiff.Tag{var\"#validation_mse#17\"{var\"#14#16\"{cf_params, Dict{String, typeof(get_abs_neighborhood)}, Int64, Matrix{Float64}}, RatingsDataset, RatingsDataset}, Float64}}(0.7719233649607818,0.0,1.0,0.0), Dual{ForwardDiff.Tag{var\"#validation_mse#17\"{var\"#14#16\"{cf_params, Dict{String, typeof(get_abs_neighborhood)}, Int64, Matrix{Float64}}, RatingsDataset, RatingsDataset}, Float64}}(20.731819060699824,0.0,0.0,1.0)]\n",
      "\u001b[32mProgress: 100%|███████████████████████████| Time: 0:03:36 ( 0.22  s/it)\u001b[39m\n",
      "\u001b[38;5;4m\u001b[1m[ \u001b[22m\u001b[39m\u001b[38;5;4m\u001b[1mDebug: \u001b[22m\u001b[39m20220102 18:56:33 loss: Dual{ForwardDiff.Tag{var\"#validation_mse#17\"{var\"#14#16\"{cf_params, Dict{String, typeof(get_abs_neighborhood)}, Int64, Matrix{Float64}}, RatingsDataset, RatingsDataset}, Float64}}(1.2004371468715314,-1.6581432234109618e-7,2.215917109851512e-7,-4.930749360343894e-10) β: Dual{ForwardDiff.Tag{var\"#validation_mse#17\"{var\"#14#16\"{cf_params, Dict{String, typeof(get_abs_neighborhood)}, Int64, Matrix{Float64}}, RatingsDataset, RatingsDataset}, Float64}}(2.7848303167831436,0.18979715826499455,-0.4668025936201249,0.12068468282023082): λ ForwardDiff.Dual{ForwardDiff.Tag{var\"#validation_mse#17\"{var\"#14#16\"{cf_params, Dict{String, typeof(get_abs_neighborhood)}, Int64, Matrix{Float64}}, RatingsDataset, RatingsDataset}, Float64}, Float64, 3}[Dual{ForwardDiff.Tag{var\"#validation_mse#17\"{var\"#14#16\"{cf_params, Dict{String, typeof(get_abs_neighborhood)}, Int64, Matrix{Float64}}, RatingsDataset, RatingsDataset}, Float64}}(1.2938385347220331,1.0,0.0,0.0), Dual{ForwardDiff.Tag{var\"#validation_mse#17\"{var\"#14#16\"{cf_params, Dict{String, typeof(get_abs_neighborhood)}, Int64, Matrix{Float64}}, RatingsDataset, RatingsDataset}, Float64}}(0.7716949998429187,0.0,1.0,0.0), Dual{ForwardDiff.Tag{var\"#validation_mse#17\"{var\"#14#16\"{cf_params, Dict{String, typeof(get_abs_neighborhood)}, Int64, Matrix{Float64}}, RatingsDataset, RatingsDataset}, Float64}}(20.48133788634496,0.0,0.0,1.0)]\n"
     ]
    },
    {
     "name": "stdout",
     "output_type": "stream",
     "text": [
      "    14     1.200437e+00     2.215917e-07\n",
      " * Current step size: 1.3564091778129723\n",
      " * time: 11804.85369515419\n",
      " * g(x): [-1.6581432234109618e-7, 2.215917109851512e-7, -4.930749360343894e-10]\n",
      " * x: [1.2938385347220331, 0.7716949998429187, 20.48133788634496]\n"
     ]
    },
    {
     "name": "stderr",
     "output_type": "stream",
     "text": [
      "\u001b[32mProgress: 100%|███████████████████████████| Time: 0:03:37 ( 0.22  s/it)\u001b[39m\n",
      "\u001b[38;5;4m\u001b[1m[ \u001b[22m\u001b[39m\u001b[38;5;4m\u001b[1mDebug: \u001b[22m\u001b[39m20220102 19:00:52 loss: Dual{ForwardDiff.Tag{var\"#validation_mse#17\"{var\"#14#16\"{cf_params, Dict{String, typeof(get_abs_neighborhood)}, Int64, Matrix{Float64}}, RatingsDataset, RatingsDataset}, Float64}}(1.2004371468562642,2.428621541294642e-8,-3.9108767086230235e-8,9.443039189903867e-11) β: Dual{ForwardDiff.Tag{var\"#validation_mse#17\"{var\"#14#16\"{cf_params, Dict{String, typeof(get_abs_neighborhood)}, Int64, Matrix{Float64}}, RatingsDataset, RatingsDataset}, Float64}}(2.7852844573800475,0.18975359768533542,-0.4667443692333104,0.12068680634054746): λ ForwardDiff.Dual{ForwardDiff.Tag{var\"#validation_mse#17\"{var\"#14#16\"{cf_params, Dict{String, typeof(get_abs_neighborhood)}, Int64, Matrix{Float64}}, RatingsDataset, RatingsDataset}, Float64}, Float64, 3}[Dual{ForwardDiff.Tag{var\"#validation_mse#17\"{var\"#14#16\"{cf_params, Dict{String, typeof(get_abs_neighborhood)}, Int64, Matrix{Float64}}, RatingsDataset, RatingsDataset}, Float64}}(1.2940037376503222,1.0,0.0,0.0), Dual{ForwardDiff.Tag{var\"#validation_mse#17\"{var\"#14#16\"{cf_params, Dict{String, typeof(get_abs_neighborhood)}, Int64, Matrix{Float64}}, RatingsDataset, RatingsDataset}, Float64}}(0.7716631709610539,0.0,1.0,0.0), Dual{ForwardDiff.Tag{var\"#validation_mse#17\"{var\"#14#16\"{cf_params, Dict{String, typeof(get_abs_neighborhood)}, Int64, Matrix{Float64}}, RatingsDataset, RatingsDataset}, Float64}}(20.484718006107464,0.0,0.0,1.0)]\n",
      "\u001b[32mProgress: 100%|███████████████████████████| Time: 0:03:45 ( 0.23  s/it)\u001b[39m\n",
      "\u001b[38;5;4m\u001b[1m[ \u001b[22m\u001b[39m\u001b[38;5;4m\u001b[1mDebug: \u001b[22m\u001b[39m20220102 19:05:21 loss: Dual{ForwardDiff.Tag{var\"#validation_mse#17\"{var\"#14#16\"{cf_params, Dict{String, typeof(get_abs_neighborhood)}, Int64, Matrix{Float64}}, RatingsDataset, RatingsDataset}, Float64}}(1.200437146855891,-1.1373674645480047e-9,-4.239214788102471e-9,1.5883545709143802e-11) β: Dual{ForwardDiff.Tag{var\"#validation_mse#17\"{var\"#14#16\"{cf_params, Dict{String, typeof(get_abs_neighborhood)}, Int64, Matrix{Float64}}, RatingsDataset, RatingsDataset}, Float64}}(2.785223713458788,0.18975942461239736,-0.46675215934700753,0.12068652233700379): λ ForwardDiff.Dual{ForwardDiff.Tag{var\"#validation_mse#17\"{var\"#14#16\"{cf_params, Dict{String, typeof(get_abs_neighborhood)}, Int64, Matrix{Float64}}, RatingsDataset, RatingsDataset}, Float64}, Float64, 3}[Dual{ForwardDiff.Tag{var\"#validation_mse#17\"{var\"#14#16\"{cf_params, Dict{String, typeof(get_abs_neighborhood)}, Int64, Matrix{Float64}}, RatingsDataset, RatingsDataset}, Float64}}(1.2939816407675164,1.0,0.0,0.0), Dual{ForwardDiff.Tag{var\"#validation_mse#17\"{var\"#14#16\"{cf_params, Dict{String, typeof(get_abs_neighborhood)}, Int64, Matrix{Float64}}, RatingsDataset, RatingsDataset}, Float64}}(0.771667428264963,0.0,1.0,0.0), Dual{ForwardDiff.Tag{var\"#validation_mse#17\"{var\"#14#16\"{cf_params, Dict{String, typeof(get_abs_neighborhood)}, Int64, Matrix{Float64}}, RatingsDataset, RatingsDataset}, Float64}}(20.484265894809955,0.0,0.0,1.0)]\n"
     ]
    },
    {
     "name": "stdout",
     "output_type": "stream",
     "text": [
      "    15     1.200437e+00     4.239215e-09\n",
      " * Current step size: 0.8662440004264162\n",
      " * time: 12332.649432182312\n",
      " * g(x): [-1.1373674645480047e-9, -4.239214788102471e-9, 1.5883545709143802e-11]\n",
      " * x: [1.2939816407675164, 0.771667428264963, 20.484265894809955]\n"
     ]
    },
    {
     "name": "stderr",
     "output_type": "stream",
     "text": [
      "\u001b[32mProgress:  14%|███▊                       |  ETA: 1:24:23 ( 5.54  s/it)\u001b[39m"
     ]
    }
   ],
   "source": [
    "for param in params\n",
    "    optimize_model(param)\n",
    "end"
   ]
  }
 ],
 "metadata": {
  "kernelspec": {
   "display_name": "Julia 1.6.3",
   "language": "julia",
   "name": "julia-1.6"
  },
  "language_info": {
   "file_extension": ".jl",
   "mimetype": "application/julia",
   "name": "julia",
   "version": "1.6.3"
  }
 },
 "nbformat": 4,
 "nbformat_minor": 5
}
