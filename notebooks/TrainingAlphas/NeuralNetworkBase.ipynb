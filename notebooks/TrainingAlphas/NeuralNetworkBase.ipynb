{
 "cells": [
  {
   "cell_type": "markdown",
   "id": "c3758ece-9b72-47b4-ae6a-aa364e0443e3",
   "metadata": {},
   "source": [
    "# Neural Network Base Class"
   ]
  },
  {
   "cell_type": "code",
   "execution_count": 1,
   "id": "d17593ac-3260-4c01-a5df-91edfcd17e13",
   "metadata": {},
   "outputs": [],
   "source": [
    "using Flux\n",
    "using Random\n",
    "using SparseArrays\n",
    "\n",
    "\n",
    "import BSON\n",
    "import NBInclude: @nbinclude\n",
    "@nbinclude(\"Alpha.ipynb\");"
   ]
  },
  {
   "cell_type": "code",
   "execution_count": 2,
   "id": "08801fd4-7057-49f0-9fa7-9854d17494cc",
   "metadata": {},
   "outputs": [],
   "source": [
    "const device = Flux.gpu;"
   ]
  },
  {
   "cell_type": "markdown",
   "id": "c030f566-08b7-46ad-9b69-182e559a9f89",
   "metadata": {},
   "source": [
    "## Parameters"
   ]
  },
  {
   "cell_type": "code",
   "execution_count": 3,
   "id": "abba16e9-f406-49c4-8af1-6e0afde838c9",
   "metadata": {},
   "outputs": [],
   "source": [
    "@with_kw struct Hyperparams\n",
    "    # model\n",
    "    implicit::Bool\n",
    "    activation::String\n",
    "    model::String\n",
    "    # batching\n",
    "    autoencode::Bool\n",
    "    batch_size::Int\n",
    "    input_data::String\n",
    "    user_sampling_scheme::String\n",
    "    # optimizer\n",
    "    l2penalty::Float32\n",
    "    learning_rate::Float32\n",
    "    optimizer::String\n",
    "    # training\n",
    "    # dropout_perc::Float32\n",
    "    # dropout_rescale::Bool\n",
    "    patience::Int\n",
    "    seed::UInt64\n",
    "    # loss\n",
    "    item_weight_decay::Float32\n",
    "    loss_function::String\n",
    "    residual_alphas::Vector{String}\n",
    "    residual_beta::Float32\n",
    "    user_weight_decay::Float32\n",
    "end\n",
    "\n",
    "function to_dict(x::Hyperparams)\n",
    "    Dict(string(key) => getfield(x, key) for key ∈ fieldnames(Hyperparams))\n",
    "end\n",
    "\n",
    "function Base.string(x::Hyperparams)\n",
    "    fields = [x for x in fieldnames(Hyperparams)]\n",
    "    max_field_size = maximum(length(string(k)) for k in fields)\n",
    "    ret = \"Hyperparameters:\\n\"\n",
    "    for f in fields\n",
    "        ret *= \"$(rpad(string(f), max_field_size)) => $(getfield(x, f))\\n\"\n",
    "    end\n",
    "    ret\n",
    "end;"
   ]
  },
  {
   "cell_type": "markdown",
   "id": "01a52cbc-01d6-487c-8293-702ef156698a",
   "metadata": {},
   "source": [
    "# Batching"
   ]
  },
  {
   "cell_type": "code",
   "execution_count": 4,
   "id": "aa2f87d3-1942-4abc-88ca-6b83433443c9",
   "metadata": {},
   "outputs": [],
   "source": [
    "function SparseArrays.sparse(split::RatingsDataset)\n",
    "    sparse(split.item, split.user, split.rating, num_items(), num_users())\n",
    "end\n",
    "\n",
    "function SparseArrays.sparse(split::RatingsDataset, ratings)\n",
    "    sparse(split.item, split.user, ratings, num_items(), num_users())\n",
    "end;"
   ]
  },
  {
   "cell_type": "code",
   "execution_count": 5,
   "id": "c1c39d34-3212-4131-8e1d-68021044fc7b",
   "metadata": {},
   "outputs": [],
   "source": [
    "function one_hot_inputs(split)\n",
    "    @assert !G.autoencode\n",
    "\n",
    "    # construct inputs\n",
    "    X = collect(1:num_users())\n",
    "\n",
    "    # construct outputs\n",
    "    Y = sparse(get_split(split; implicit = G.implicit))\n",
    "\n",
    "    # construct residuals\n",
    "    residuals = read_alpha(G.residual_alphas, split, G.implicit)\n",
    "    residuals.rating .*= G.residual_beta\n",
    "    Z = sparse(residuals)\n",
    "\n",
    "    # construct loss-function weights\n",
    "    if split == \"training\"\n",
    "        weights =\n",
    "            expdecay(get_counts(split), G.user_weight_decay) .*\n",
    "            expdecay(get_counts(split; by_item = true), G.item_weight_decay)\n",
    "    else\n",
    "        weights = expdecay(get_counts(split), weighting_scheme(\"inverse\"))\n",
    "    end\n",
    "    W = sparse(get_split(split), weights)\n",
    "\n",
    "    X, Y, Z, W\n",
    "end;"
   ]
  },
  {
   "cell_type": "code",
   "execution_count": 6,
   "id": "272ebd7c-a236-4a22-b0af-17759579f995",
   "metadata": {},
   "outputs": [],
   "source": [
    "function get_epoch(split)\n",
    "    if G.input_data == \"one_hot\"\n",
    "        return one_hot_inputs(split)\n",
    "    end\n",
    "    @assert false\n",
    "end;"
   ]
  },
  {
   "cell_type": "code",
   "execution_count": 7,
   "id": "203dd198-8047-4470-8e80-4640739dd8f8",
   "metadata": {},
   "outputs": [],
   "source": [
    "function get_sampling_order(split)\n",
    "    weighting_scheme = split == \"training\" ? G.user_sampling_scheme : \"constant\"\n",
    "    if weighting_scheme == \"constant\"\n",
    "        return shuffle(1:num_users())\n",
    "    else\n",
    "        weights = expdecay(\n",
    "            get_counts(split; per_rating = false),\n",
    "            weighting_scheme(G.user_sampling_scheme),\n",
    "        )\n",
    "        return sample(1:num_users(), Weights(weights), num_users())\n",
    "    end\n",
    "end;"
   ]
  },
  {
   "cell_type": "code",
   "execution_count": 8,
   "id": "72f35efa-decd-42ed-bcae-f7ea7cab6a57",
   "metadata": {},
   "outputs": [],
   "source": [
    "function get_batch(epoch, iter, batch_size, sampling_order)\n",
    "    range = sampling_order[(iter-1)*batch_size+1:min(iter * batch_size, num_users())]\n",
    "    function process(x)\n",
    "        if length(size(x)) == 1\n",
    "            return collect(x[range]) |> device\n",
    "        else\n",
    "            return collect(x[:, range]) |> device\n",
    "        end\n",
    "    end\n",
    "    [process.(epoch)]\n",
    "end;\n",
    "\n",
    "function get_batch(epoch, iter, batch_size)\n",
    "    sampling_order = 1:num_users()\n",
    "    get_batch(epoch, iter, batch_size, sampling_order)\n",
    "end;"
   ]
  },
  {
   "cell_type": "markdown",
   "id": "844da183-e84b-407e-b398-d16d1c283d8e",
   "metadata": {},
   "source": [
    "## Model"
   ]
  },
  {
   "cell_type": "code",
   "execution_count": 9,
   "id": "bd9bcd93-0801-4944-9e44-b2b25cc16934",
   "metadata": {},
   "outputs": [],
   "source": [
    "# A layer that takes one input and splits it into many\n",
    "struct Split{T}\n",
    "    paths::T\n",
    "end\n",
    "Split(paths...) = Split(paths)\n",
    "Flux.@functor Split\n",
    "(m::Split)(x::AbstractArray) = map(f -> f(x), m.paths)\n",
    "\n",
    "# A layer that takes many inputs and joins them into one\n",
    "Join(combine, paths) = Parallel(combine, paths)\n",
    "Join(combine, paths...) = Join(combine, paths);"
   ]
  },
  {
   "cell_type": "code",
   "execution_count": 10,
   "id": "321ca69a-0b42-4859-8594-af05d93e52f8",
   "metadata": {},
   "outputs": [],
   "source": [
    "# A layer that adds a 1-D vector to the input\n",
    "struct BiasLayer\n",
    "    b::Any\n",
    "end\n",
    "BiasLayer(n::Integer) = BiasLayer(randn(n))\n",
    "(m::BiasLayer)(x) = x .+ m.b\n",
    "Flux.@functor BiasLayer"
   ]
  },
  {
   "cell_type": "code",
   "execution_count": 11,
   "id": "0bf80688-1e79-420a-9710-ae82a5b8184e",
   "metadata": {},
   "outputs": [],
   "source": [
    "function user_item_biases()\n",
    "    U = Flux.Embedding(num_users() => 1)\n",
    "    A = BiasLayer(num_items())\n",
    "    m = Chain(U, A) |> device\n",
    "end;"
   ]
  },
  {
   "cell_type": "code",
   "execution_count": 12,
   "id": "1c8db136-b854-4cf5-8e8e-8dd6fbc28081",
   "metadata": {},
   "outputs": [],
   "source": [
    "function build_model()\n",
    "    if G.model == \"user_item_biases\"\n",
    "        return user_item_biases()\n",
    "    end\n",
    "    @assert false\n",
    "end;"
   ]
  },
  {
   "cell_type": "markdown",
   "id": "a4988ea0-8a00-41f1-857f-6064ef3806a7",
   "metadata": {},
   "source": [
    "## Loss Functions"
   ]
  },
  {
   "cell_type": "code",
   "execution_count": 13,
   "id": "735c1cdd-01f6-49da-b0d4-241c68909355",
   "metadata": {},
   "outputs": [],
   "source": [
    "function evaluate(m, split)\n",
    "    LinearAlgebra.BLAS.set_num_threads(1)\n",
    "\n",
    "    df = get_split(split)\n",
    "    users = df.user\n",
    "    items = df.item\n",
    "\n",
    "    # index users\n",
    "    user_to_output_idxs = [Dict() for t = 1:Threads.nthreads()]\n",
    "    @tprogress Threads.@threads for j = 1:length(users)\n",
    "        u = users[j]\n",
    "        t = Threads.threadid()\n",
    "        if u ∉ keys(user_to_output_idxs[t])\n",
    "            user_to_output_idxs[t][u] = []\n",
    "        end\n",
    "        push!(user_to_output_idxs[t][u], j)\n",
    "    end\n",
    "    user_to_output_idxs = merge(vcat, user_to_output_idxs...)\n",
    "\n",
    "    # compute predictions\n",
    "    ratings = zeros(Float32, length(users))\n",
    "    epoch = get_epoch(split)\n",
    "    batch_size = 16\n",
    "    # TODO singlethread on GPU\n",
    "    @tprogress Threads.@threads for iter = 1:Int(ceil(num_users() / batch_size))\n",
    "        batch = get_batch(epoch, iter, batch_size)[1]\n",
    "        alpha = m(batch[1]) |> cpu\n",
    "        if G.implicit\n",
    "            alpha = softmax(alpha)\n",
    "        end\n",
    "\n",
    "        for j = 1:size(alpha)[2]\n",
    "            u = batch[end][1, j]\n",
    "            if u ∉ keys(user_to_output_idxs)\n",
    "                continue\n",
    "            end\n",
    "            for output_idx in user_to_output_idxs[u]\n",
    "                ratings[output_idx] = alpha[items[output_idx], j]\n",
    "            end\n",
    "        end\n",
    "    end\n",
    "\n",
    "    LinearAlgebra.BLAS.set_num_threads(Threads.nthreads())\n",
    "\n",
    "    RatingsDataset(user = users, item = items, rating = ratings)\n",
    "end;"
   ]
  },
  {
   "cell_type": "code",
   "execution_count": 14,
   "id": "9ec5fc00-e357-4789-8d7a-4b011db000ba",
   "metadata": {},
   "outputs": [
    {
     "name": "stderr",
     "output_type": "stream",
     "text": [
      "\u001b[38;5;6m\u001b[1m┌ \u001b[22m\u001b[39m\u001b[38;5;6m\u001b[1mInfo: \u001b[22m\u001b[39m20220525 05:13:29 The GPU function is being called but the GPU is not accessible. \n",
      "\u001b[38;5;6m\u001b[1m└ \u001b[22m\u001b[39mDefaulting back to the CPU. (No action is required if you want to run on the CPU).\n"
     ]
    },
    {
     "data": {
      "text/plain": [
       "Chain(\n",
       "  Embedding(1320149 => 1),              \u001b[90m# 1_320_149 parameters\u001b[39m\n",
       "  BiasLayer([-0.26932675661872696, -2.440773478136208, 0.08021055035203482, 1.4455818403355054, -0.44806555533155173, 0.25289354203518805, 0.46897454426679674, -0.6797234030284606, 1.4793253642505402, -0.6165317561730165  …  -0.9824382362236107, 1.2368613417734458, -2.53506290867229, 0.01469397586525117, -0.24792565093217855, 0.32514373029162075, 0.7109159008368262, -1.670829085918523, 0.1940653778539473, 0.982331464381786]),  \u001b[90m# 18_952 parameters\u001b[39m\n",
       ") "
      ]
     },
     "execution_count": 14,
     "metadata": {},
     "output_type": "execute_result"
    }
   ],
   "source": [
    "G = Hyperparams(\n",
    "    # model\n",
    "    activation = \"relu\",\n",
    "    implicit = false,\n",
    "    model = \"user_item_biases\",\n",
    "    # batching\n",
    "    autoencode = false,\n",
    "    batch_size = 128,\n",
    "    input_data = \"one_hot\",\n",
    "    user_sampling_scheme = \"constant\",\n",
    "    # optimizer\n",
    "    l2penalty = 0,\n",
    "    learning_rate = 0.001,\n",
    "    optimizer = \"ADAM\",\n",
    "    # training\n",
    "    patience = 5,\n",
    "    seed = 20220524,\n",
    "    # loss\n",
    "    item_weight_decay = 0,\n",
    "    loss_function = \"NONE\",\n",
    "    residual_alphas = [],\n",
    "    residual_beta = 0,\n",
    "    user_weight_decay = 0,\n",
    ");\n",
    "\n",
    "m = build_model()"
   ]
  },
  {
   "cell_type": "code",
   "execution_count": 15,
   "id": "98d9aca3-9639-472a-ac81-482dc32dc846",
   "metadata": {},
   "outputs": [
    {
     "name": "stderr",
     "output_type": "stream",
     "text": [
      "\u001b[32mProgress: 100%|███████████████████████████| Time: 0:00:12 ( 2.53 μs/it)\u001b[39m39m\n",
      "\u001b[38;5;6m\u001b[1m[ \u001b[22m\u001b[39m\u001b[38;5;6m\u001b[1mInfo: \u001b[22m\u001b[39m20220525 05:15:16 regression coefficients: Float32[0.0]\n",
      "\u001b[32mProgress: 100%|███████████████████████████| Time: 0:00:00 (36.64 ns/it)\u001b[39m\n",
      "\u001b[32mProgress: 100%|███████████████████████████| Time: 0:00:00 (36.12 ns/it)\u001b[39m\n",
      "\u001b[32mProgress: 100%|███████████████████████████| Time: 0:00:35 (13.69 ms/it)\u001b[39m\n"
     ]
    },
    {
     "data": {
      "text/plain": [
       "RatingsDataset\n",
       "  user: Array{Int32}((152803783,)) Int32[851625, 851625, 851625, 851625, 851625, 851625, 851625, 851625, 851625, 851625  …  369188, 369188, 369188, 369188, 369188, 369188, 369188, 369188, 369188, 369188]\n",
       "  item: Array{Int32}((152803783,)) Int32[11528, 498, 805, 41, 12807, 7670, 101, 6464, 11, 3148  …  4961, 14194, 3, 6082, 774, 14254, 15584, 9017, 14423, 369]\n",
       "  rating: Array{Float32}((152803783,)) Float32[0.0, 0.0, 0.0, 0.0, 0.0, 0.0, 0.0, 0.0, 0.0, 0.0  …  0.0, 0.0, 0.0, 0.0, 0.0, 0.0, 0.0, 0.0, 0.0, 0.0]\n"
      ]
     },
     "execution_count": 15,
     "metadata": {},
     "output_type": "execute_result"
    }
   ],
   "source": [
    "evaluate(m, \"training\")"
   ]
  },
  {
   "cell_type": "code",
   "execution_count": 16,
   "id": "2068c6b4-911b-400d-89ca-f7971d8de0dd",
   "metadata": {},
   "outputs": [],
   "source": [
    "function rating_loss(ŷ, y, weights)\n",
    "    # only compute loss on items the user has seen\n",
    "    mask = y .!= 0\n",
    "    per_user_mse =\n",
    "        sum(((ŷ .- y) .* mask) .^ 2, dims = 1) ./\n",
    "        max.(one(eltype(weights)), sum(mask, dims = 1))\n",
    "    dot(per_user_mse, weights) / sum(weights)\n",
    "end\n",
    "\n",
    "function implicit_loss(ŷ, y, weights)\n",
    "    agg(x) = dot(x, weights)\n",
    "    Flux.logitcrossentropy(ŷ, y, agg = agg) / sum(weights)\n",
    "end\n",
    "\n",
    "loss(m, x, y, weights) =\n",
    "    G.train_implicit_model ? implicit_loss(m(x), y, weights) : rating_loss(m(x), y, weights);"
   ]
  },
  {
   "cell_type": "code",
   "execution_count": 17,
   "id": "a7e91d19-5df7-40f9-a817-c206dd695a60",
   "metadata": {},
   "outputs": [],
   "source": [
    "function get_loss(m, split)\n",
    "    LinearAlgebra.BLAS.set_num_threads(1)\n",
    "\n",
    "    epoch = get_epoch(split)\n",
    "    batch_size = 16\n",
    "    losses = zeros(Threads.nthreads())\n",
    "    @tprogress Threads.@threads for iter = 1:Int(ceil(n_users / batch_size))\n",
    "        batch = get_batch(epoch, iter, batch_size)\n",
    "        losses[Threads.threadid()] += loss(m, batch[1]...) * sum(batch[1][3])\n",
    "    end\n",
    "\n",
    "    LinearAlgebra.BLAS.set_num_threads(Threads.nthreads())\n",
    "\n",
    "    sum(losses) / sum(epoch[3])\n",
    "end;"
   ]
  },
  {
   "cell_type": "code",
   "execution_count": 18,
   "id": "fa52df75-53f1-424c-91b3-2b98aaf7c1e3",
   "metadata": {},
   "outputs": [],
   "source": [
    "function get_residualized_loss(m, split)\n",
    "    rating = evaluate(m, split).rating\n",
    "    df = get_residuals(split, G.validation_residuals)\n",
    "\n",
    "    # turn per-user weights into per-item weights\n",
    "    W = get_derived_feature(\n",
    "        df,\n",
    "        (_, count) ->\n",
    "            weighting_scheme(count, G.validation_weight_scheme) *\n",
    "            weighting_scheme(count, \"inverse\"),\n",
    "    )\n",
    "    weights = zeros(eltype(rating), length(df.user))\n",
    "    Threads.@threads for i = 1:length(weights)\n",
    "        weights[i] = W[df.user[i]]\n",
    "    end\n",
    "\n",
    "    if G.train_implicit_model\n",
    "        @assert false\n",
    "    else\n",
    "        Y = df.rating .* sqrt.(weights)\n",
    "        X = rating .* sqrt.(weights)\n",
    "        β = X \\ Y\n",
    "        @info \"beta: $β\"\n",
    "        return mse(Y, X .* β, weights)\n",
    "    end\n",
    "end;"
   ]
  },
  {
   "cell_type": "markdown",
   "id": "2503872c-79e8-405c-acbb-518416c5c360",
   "metadata": {},
   "source": [
    "## Training"
   ]
  },
  {
   "cell_type": "code",
   "execution_count": 19,
   "id": "c791e6dc-8d74-4004-8dd7-6a87d6599434",
   "metadata": {},
   "outputs": [],
   "source": [
    "function checkpoint(m)\n",
    "    loss_fn = G.use_residualized_validation_loss ? get_residualized_loss : get_loss\n",
    "    training_loss = loss_fn(m, \"training\")\n",
    "    validation_loss = loss_fn(m, \"validation\")\n",
    "    @info \"training loss $training_loss, validation loss $validation_loss\"\n",
    "    validation_loss\n",
    "end;"
   ]
  },
  {
   "cell_type": "code",
   "execution_count": 20,
   "id": "dd02cc13-2680-4297-a746-784faaba3a83",
   "metadata": {},
   "outputs": [],
   "source": [
    "function continue_training(m, stop_criteria, model_path)\n",
    "    validation_loss = checkpoint(m)\n",
    "    if validation_loss < stop_criteria.loss\n",
    "        BSON.@save model_path m\n",
    "    end\n",
    "    !stop!(stop_criteria, validation_loss)\n",
    "end;"
   ]
  },
  {
   "cell_type": "code",
   "execution_count": 21,
   "id": "d61e7743-4bc9-4f75-a38d-b5e02ed1e516",
   "metadata": {},
   "outputs": [],
   "source": [
    "function train_epoch!(m, opt; checkpoint_rate = 0.1)\n",
    "    LinearAlgebra.BLAS.set_num_threads(Threads.nthreads())\n",
    "    ps = Flux.params(m)\n",
    "    train_loss(x, y, w) = loss(m, x, y, w)\n",
    "    epoch = get_epoch(\"training\")\n",
    "    sampling_order = get_sampling_order(\"training\")\n",
    "\n",
    "    nbatches = Int(ceil(size(epoch[1])[2] / G.batch_size))\n",
    "    ProgressMeter.@showprogress for iter = 1:nbatches\n",
    "        batch = get_batch(epoch, iter, G.batch_size, sampling_order)\n",
    "        Flux.train!(train_loss, ps, batch, opt)\n",
    "\n",
    "        if iter % Int(round(nbatches * checkpoint_rate)) == 0\n",
    "            checkpoint(m)\n",
    "        end\n",
    "    end\n",
    "end;"
   ]
  },
  {
   "cell_type": "code",
   "execution_count": 22,
   "id": "b4ade3b7-52e5-4b22-9337-694708eb76d3",
   "metadata": {},
   "outputs": [],
   "source": [
    "function train_model(hyperparams::Hyperparams)\n",
    "    # unpack parameters\n",
    "    global G = hyperparams\n",
    "    Random.seed!(G.seed)\n",
    "    m = build_model()\n",
    "    if G.optimizer == \"ADAM\"\n",
    "        opt = ADAMW(G.learning_rate, (0.9, 0.999), G.l2penalty)\n",
    "    else\n",
    "        @assert false\n",
    "    end\n",
    "    stop_criteria = early_stopper(patience = G.patience)\n",
    "    model_path = \"../../data/alphas/$name/model.$(hash(G)).bson\"\n",
    "\n",
    "    # Train model\n",
    "    while continue_training(m, stop_criteria, model_path)\n",
    "        train_epoch!(m, opt)\n",
    "    end\n",
    "\n",
    "    model_path\n",
    "end;"
   ]
  },
  {
   "cell_type": "markdown",
   "id": "bbdd719b-7f8b-491e-bafa-8aa56a9545e3",
   "metadata": {
    "tags": []
   },
   "source": [
    "## Write predictions"
   ]
  },
  {
   "cell_type": "code",
   "execution_count": 23,
   "id": "9327642b-9991-44d5-ab0c-7ce6033d461d",
   "metadata": {},
   "outputs": [],
   "source": [
    "function make_prediction(sparse_preds, users, items)\n",
    "    preds = zeros(length(users))\n",
    "    @tprogress Threads.@threads for j = 1:length(preds)\n",
    "        preds[j] = sparse_preds[users[j], items[j]]\n",
    "    end\n",
    "    preds\n",
    "end;"
   ]
  },
  {
   "cell_type": "code",
   "execution_count": 24,
   "id": "46d999f4-f2b4-4d71-944b-754aead7de77",
   "metadata": {},
   "outputs": [],
   "source": [
    "function save_model(model_path, hyperparams::Hyperparams, outdir)\n",
    "    global G = hyperparams\n",
    "    BSON.@load model_path m\n",
    "    training = evaluate(m, \"training\")\n",
    "    validation = evaluate(m, \"validation\")\n",
    "    test = evaluate(m, \"test\")\n",
    "    df = reduce(cat, [training, validation, test])\n",
    "    sparse_preds = sparse(df.user, df.item, df.rating)\n",
    "\n",
    "    write_predictions(\n",
    "        (users, items) -> make_prediction(sparse_preds, users, items),\n",
    "        residual_alphas = G.validation_residuals,\n",
    "        outdir = outdir,\n",
    "        implicit = G.train_implicit_model,\n",
    "    )\n",
    "    params = to_dict(G)\n",
    "    params[\"model\"] = model_path\n",
    "    write_params(params, outdir = outdir)\n",
    "end;"
   ]
  },
  {
   "cell_type": "code",
   "execution_count": 25,
   "id": "c26b887e-756b-440e-bbd6-b2842fd184b5",
   "metadata": {},
   "outputs": [],
   "source": [
    "function fit(hyperparams::Hyperparams, outdir)\n",
    "    redirect_logging(\"../../data/alphas/$outdir\")\n",
    "    @info string(hyperparams)\n",
    "    model_path = train_model(hyperparams)\n",
    "    save_model(model_path, hyperparams, outdir)\n",
    "end;"
   ]
  },
  {
   "cell_type": "code",
   "execution_count": 26,
   "id": "252b8c25-eaca-43e2-8992-3d8a1ae37409",
   "metadata": {
    "tags": []
   },
   "outputs": [],
   "source": [
    "# hyperparams = Hyperparams(\n",
    "#     use_derived_features = true,\n",
    "#     train_implicit_model = true,\n",
    "#     activation = \"relu\",\n",
    "#     autoencode = true,\n",
    "#     batch_size = 128,\n",
    "#     dropout_perc = 0.5,\n",
    "#     dropout_rescale = false,\n",
    "#     layers = [512, 256, 128, 256, 512],\n",
    "#     l2penalty = 1e-5,\n",
    "#     learning_rate = 0.001,\n",
    "#     optimizer = \"ADAM\",\n",
    "#     patience = 10,\n",
    "#     sampling_weight_scheme = \"linear\",\n",
    "#     training_residuals = [\"UserItemBiases\"],\n",
    "#     training_weight_scheme = \"linear\",\n",
    "#     use_residualized_validation_loss = false,\n",
    "#     validation_residuals = [\"UserItemBiases\"],\n",
    "#     validation_weight_scheme = \"constant\",\n",
    "#     seed = 20220501 * hash(name),\n",
    "# )\n",
    "\n",
    "# #fit(hyperparams, \"GNN.Rating.Test.2\")"
   ]
  }
 ],
 "metadata": {
  "kernelspec": {
   "display_name": "Julia 1.7.2",
   "language": "julia",
   "name": "julia-1.7"
  },
  "language_info": {
   "file_extension": ".jl",
   "mimetype": "application/julia",
   "name": "julia",
   "version": "1.7.2"
  }
 },
 "nbformat": 4,
 "nbformat_minor": 5
}
