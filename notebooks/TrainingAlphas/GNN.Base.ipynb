{
 "cells": [
  {
   "cell_type": "markdown",
   "id": "c3758ece-9b72-47b4-ae6a-aa364e0443e3",
   "metadata": {},
   "source": [
    "# Generalized Neural Network\n",
    "* A denoising autoencoder "
   ]
  },
  {
   "cell_type": "code",
   "execution_count": 1,
   "id": "e9787e03-9bd7-4e71-9d1e-0499334a045d",
   "metadata": {},
   "outputs": [
    {
     "data": {
      "text/plain": [
       "\"GNN.Rating.Test\""
      ]
     },
     "execution_count": 1,
     "metadata": {},
     "output_type": "execute_result"
    }
   ],
   "source": [
    "const name = \"GNN.Rating.Test\""
   ]
  },
  {
   "cell_type": "code",
   "execution_count": 2,
   "id": "54170f91-c85c-4207-9939-572cad4db024",
   "metadata": {},
   "outputs": [],
   "source": [
    "using Random\n",
    "using StatsBase\n",
    "import BSON"
   ]
  },
  {
   "cell_type": "code",
   "execution_count": 3,
   "id": "d17593ac-3260-4c01-a5df-91edfcd17e13",
   "metadata": {},
   "outputs": [],
   "source": [
    "using NBInclude\n",
    "@nbinclude(\"Alpha.ipynb\");"
   ]
  },
  {
   "cell_type": "code",
   "execution_count": 4,
   "id": "08801fd4-7057-49f0-9fa7-9854d17494cc",
   "metadata": {},
   "outputs": [],
   "source": [
    "const device = gpu;"
   ]
  },
  {
   "cell_type": "code",
   "execution_count": 5,
   "id": "ede3b9a1-1dc8-4b10-aab0-03ceb5d27be1",
   "metadata": {},
   "outputs": [],
   "source": [
    "Random.seed!(20220410 * hash(name));"
   ]
  },
  {
   "cell_type": "markdown",
   "id": "c030f566-08b7-46ad-9b69-182e559a9f89",
   "metadata": {},
   "source": [
    "## Parameters"
   ]
  },
  {
   "cell_type": "code",
   "execution_count": 6,
   "id": "c4810cc4-ddd2-4551-90a9-f02db8de3f31",
   "metadata": {},
   "outputs": [],
   "source": [
    "const training_residuals = [\"UserItemBiases\"]\n",
    "const validation_residuals = [\"UserItemBiases\"]\n",
    "const derived_features = true\n",
    "const train_implicit_model = false\n",
    "const autoencode = true\n",
    "const batch_size = 128\n",
    "const dropout_perc = 0.5\n",
    "const l2penalty = 1e-5\n",
    "const learning_rate = 0.001\n",
    "const num_seeds = 1;\n",
    "const optimizer = \"ADAM\";\n",
    "const patience = 100;\n",
    "const use_residualized_validation_loss = false;\n",
    "const training_weight_scheme = \"linear\"\n",
    "const validation_weight_scheme = \"constant\"\n",
    "const sampling_weight_scheme = \"linear\"\n",
    "# TODO dropout anti-scaling\n",
    "# todo size/num layers\n",
    "# TODO train models with different parameter settings"
   ]
  },
  {
   "cell_type": "markdown",
   "id": "638f2e93-80aa-4d4f-90ee-d70e3610cd13",
   "metadata": {},
   "source": [
    "## Data Prepocessing"
   ]
  },
  {
   "cell_type": "code",
   "execution_count": 7,
   "id": "8f724408-2a16-4d0d-adb3-9a1ddbe283bc",
   "metadata": {},
   "outputs": [],
   "source": [
    "const n_items = num_items() + 1 # leave room to map unseen items\n",
    "const n_users = maximum(get_split(\"training\").user) + 1; # leave room to map unseen users"
   ]
  },
  {
   "cell_type": "code",
   "execution_count": 8,
   "id": "aa2f87d3-1942-4abc-88ca-6b83433443c9",
   "metadata": {},
   "outputs": [
    {
     "data": {
      "text/plain": [
       "to_sparse_mat (generic function with 1 method)"
      ]
     },
     "execution_count": 8,
     "metadata": {},
     "output_type": "execute_result"
    }
   ],
   "source": [
    "# column accesses are faster than row accesses, so we make this an (item, user) matrix \n",
    "function to_sparse_mat(split)\n",
    "    sparse(split.item, split.user, split.rating, n_items, n_users)\n",
    "end"
   ]
  },
  {
   "cell_type": "code",
   "execution_count": 9,
   "id": "5cad5b01-a2a1-48a8-8eef-954062f7d630",
   "metadata": {
    "tags": []
   },
   "outputs": [],
   "source": [
    "function get_derived_feature(split, agg)\n",
    "    sums = zeros(Float32, n_users, Threads.nthreads())\n",
    "    counts = zeros(Float32, n_users, Threads.nthreads())\n",
    "    @tprogress Threads.@threads for i = 1:length(split.rating)\n",
    "        sums[split.user[i], Threads.threadid()] += split.rating[i]\n",
    "        counts[split.user[i], Threads.threadid()] += 1\n",
    "    end\n",
    "    sums = sum(sums, dims = 2)\n",
    "    counts = sum(counts, dims = 2)\n",
    "    sparse(agg.(sums, counts)')\n",
    "end;"
   ]
  },
  {
   "cell_type": "code",
   "execution_count": 36,
   "id": "3f674e37-1a06-448f-b2ed-d65310e90c0d",
   "metadata": {},
   "outputs": [],
   "source": [
    "function weighting_scheme(x, scheme)\n",
    "    if scheme == \"linear\"\n",
    "        return x\n",
    "    elseif scheme == \"constant\"\n",
    "        return x > 0 ? 1 : 0\n",
    "    elseif scheme == \"inverse\"\n",
    "        return x > 0 ? 1 / x : 0\n",
    "    else\n",
    "        @assert false \"Unknown weighting scheme $scheme\"\n",
    "        return -1\n",
    "    end\n",
    "end;"
   ]
  },
  {
   "cell_type": "code",
   "execution_count": 10,
   "id": "47f70afa-60b0-4dac-bfa2-f4648e4145f2",
   "metadata": {},
   "outputs": [],
   "source": [
    "function get_epoch(split)\n",
    "    # todo support autoencode = false\n",
    "    @assert autoencode\n",
    "\n",
    "    # construct inputs\n",
    "    X = vcat(\n",
    "        to_sparse_mat(get_residuals(\"training\", training_residuals)),\n",
    "        to_sparse_mat(get_split(\"implicit_training\")),\n",
    "    )\n",
    "    if derived_features\n",
    "        Xd = vcat(\n",
    "            # fraction of implicit items\n",
    "            get_derived_feature(\n",
    "                get_split(\"implicit_training\"),\n",
    "                (sum, count) -> count / n_items,\n",
    "            ),\n",
    "            # fraction of seen items\n",
    "            get_derived_feature(get_split(\"training\"), (sum, count) -> count / n_items),\n",
    "            # average item rating\n",
    "            get_derived_feature(\n",
    "                get_split(\"training\"),\n",
    "                (sum, count) -> sum / max(1, count) / 10,\n",
    "            ),\n",
    "        )\n",
    "        X = vcat(X, Xd, Xd .^ 2, sqrt.(Xd))\n",
    "    end\n",
    "\n",
    "    # construct outputs\n",
    "    Y = to_sparse_mat(get_residuals(split, validation_residuals))\n",
    "    if train_implicit_model\n",
    "        Y.nzval .= 1\n",
    "    end\n",
    "\n",
    "    # How much to weight each user in the loss function    \n",
    "    function count_to_weight(x)\n",
    "        scheme = split == \"training\" ? training_weight_scheme : validation_weight_scheme\n",
    "        weighting_scheme(x, scheme)\n",
    "    end\n",
    "    W = get_derived_feature(get_split(split), (_, count) -> count_to_weight(count))\n",
    "\n",
    "    X, Y, W\n",
    "end;"
   ]
  },
  {
   "cell_type": "code",
   "execution_count": 11,
   "id": "203dd198-8047-4470-8e80-4640739dd8f8",
   "metadata": {},
   "outputs": [],
   "source": [
    "function get_sampling_order(split)\n",
    "    weights = vec(collect(get_derived_feature(get_split(split), (_, count) -> weighting_scheme(count, sampling_weight_scheme)))\n",
    "    sample(1:n_users, Weights(weights), n_users)\n",
    "end;"
   ]
  },
  {
   "cell_type": "code",
   "execution_count": 12,
   "id": "72f35efa-decd-42ed-bcae-f7ea7cab6a57",
   "metadata": {},
   "outputs": [],
   "source": [
    "function get_batch(epoch, iter, batch_size, sampling_order)\n",
    "    range = sampling_order[(iter-1)*batch_size+1:min(iter * batch_size, size(epoch[1])[2])]\n",
    "    process(x) = collect(x[:, range]) |> device\n",
    "    [process.(epoch)]\n",
    "end;\n",
    "\n",
    "function get_batch(epoch, iter, batch_size)\n",
    "    sampling_order = 1:size(epoch[1])[2]\n",
    "    get_batch(epoch, iter, batch_size, sampling_order)\n",
    "end;"
   ]
  },
  {
   "cell_type": "markdown",
   "id": "844da183-e84b-407e-b398-d16d1c283d8e",
   "metadata": {},
   "source": [
    "## Model"
   ]
  },
  {
   "cell_type": "code",
   "execution_count": 13,
   "id": "5406c13a-b4e4-4cad-9fa3-ba51e3e65b3b",
   "metadata": {},
   "outputs": [],
   "source": [
    "function generate_model()\n",
    "    # inputs are the user's ratings for all shows (unseen shows get mapped to zero) + implicit ratings + heterogenous features\n",
    "    # outputs are the user's ratings for all shows (unseen shows get mapped to zero), implicit ratings\n",
    "    # we will train ratings using mse on observed shows, and implicit ratings via crossentropy loss\n",
    "    n_inputs = n_items + n_items + (derived_features ? 9 : 0)\n",
    "    encoder =\n",
    "        Chain(Dense(n_inputs, 512, relu), Dense(512, 256, relu), Dense(256, 128, relu))\n",
    "    decoder = Chain(Dense(128, 256, relu), Dense(256, 512, relu), Dense(512, n_items))\n",
    "    m = Chain(Dropout(dropout_perc), encoder, decoder) |> device\n",
    "    m |> device\n",
    "end;"
   ]
  },
  {
   "cell_type": "markdown",
   "id": "a4988ea0-8a00-41f1-857f-6064ef3806a7",
   "metadata": {},
   "source": [
    "## Loss Functions"
   ]
  },
  {
   "cell_type": "code",
   "execution_count": 16,
   "id": "735c1cdd-01f6-49da-b0d4-241c68909355",
   "metadata": {},
   "outputs": [],
   "source": [
    "function evaluate(m, split)\n",
    "    testmode!(m)\n",
    "    BLAS.set_num_threads(1)\n",
    "\n",
    "    df = get_split(split)\n",
    "    users = df.user\n",
    "    items = df.item\n",
    "\n",
    "    # index users\n",
    "    user_to_output_idxs = [Dict() for t = 1:Threads.nthreads()]\n",
    "    @tprogress Threads.@threads for j = 1:length(users)\n",
    "        u = users[j]\n",
    "        t = Threads.threadid()\n",
    "        if u ∉ keys(user_to_output_idxs[t])\n",
    "            user_to_output_idxs[t][u] = []\n",
    "        end\n",
    "        push!(user_to_output_idxs[t][u], j)\n",
    "    end\n",
    "    user_to_output_idxs = merge(vcat, user_to_output_idxs...)\n",
    "\n",
    "    # compute predictions\n",
    "    ratings = zeros(Float32, length(users))\n",
    "    epoch = get_epoch(split)\n",
    "    epoch = (epoch[1], epoch[2], collect(1:n_users)')\n",
    "    @tprogress Threads.@threads for iter = 1:Int(ceil(n_users / batch_size))\n",
    "        batch = get_batch(epoch, iter, batch_size)[1]\n",
    "        alpha = m(batch[1]) |> cpu\n",
    "        if train_implicit_model\n",
    "            alpha .= exp.(alpha)\n",
    "            alpha .= alpha ./ sum(alpha, dims = 1)\n",
    "        end\n",
    "\n",
    "        for j = 1:size(alpha)[2]\n",
    "            u = batch[3][1, j]\n",
    "            if u ∉ keys(user_to_output_idxs)\n",
    "                continue\n",
    "            end\n",
    "            for output_idx in user_to_output_idxs[u]\n",
    "                ratings[output_idx] = alpha[items[output_idx], j]\n",
    "            end\n",
    "        end\n",
    "    end\n",
    "\n",
    "    ratings\n",
    "end;"
   ]
  },
  {
   "cell_type": "code",
   "execution_count": 14,
   "id": "2068c6b4-911b-400d-89ca-f7971d8de0dd",
   "metadata": {},
   "outputs": [],
   "source": [
    "function rating_loss(ŷ, y, weights)\n",
    "    # only compute loss on items the user has seen\n",
    "    mask = y .!= 0\n",
    "    per_user_mse =\n",
    "        sum(((ŷ .- y) .* mask) .^ 2, dims = 1) ./\n",
    "        max.(one(eltype(weights)), sum(mask, dims = 1))\n",
    "    dot(per_user_mse, weights) / sum(weights)\n",
    "end\n",
    "\n",
    "function implicit_loss(ŷ, y, weights)\n",
    "    # TODO handle empty users (proper weighting!)\n",
    "    agg(x) = dot(x, weights)\n",
    "    Flux.logitcrossentropy(ŷ, y, agg = agg) / sum(weights)\n",
    "end\n",
    "\n",
    "loss(m, x, y, weights) =\n",
    "    train_implicit_model ? implicit_loss(m(x), y, weights) : rating_loss(m(x), y, weights);"
   ]
  },
  {
   "cell_type": "code",
   "execution_count": 15,
   "id": "a7e91d19-5df7-40f9-a817-c206dd695a60",
   "metadata": {},
   "outputs": [],
   "source": [
    "function get_loss(m, split)\n",
    "    testmode!(m)\n",
    "    BLAS.set_num_threads(1)\n",
    "\n",
    "    epoch = get_epoch(split)\n",
    "    batch_size = 16\n",
    "    losses = zeros(Threads.nthreads())\n",
    "    @tprogress Threads.@threads for iter = 1:Int(ceil(n_users / batch_size))\n",
    "        batch = get_batch(epoch, iter, batch_size)\n",
    "        losses[Threads.threadid()] += loss(m, batch[1]...) * sum(batch[1][3])\n",
    "    end\n",
    "    sum(losses) / sum(epoch[3])\n",
    "end;"
   ]
  },
  {
   "cell_type": "code",
   "execution_count": 46,
   "id": "fa52df75-53f1-424c-91b3-2b98aaf7c1e3",
   "metadata": {},
   "outputs": [],
   "source": [
    "function get_residualized_loss(m, split)\n",
    "    @assert !train_implicit_model\n",
    "\n",
    "    rating = evaluate(m, split)\n",
    "    df = get_residuals(split, validation_residuals)\n",
    "    # turn per-user weights into per-item weights\n",
    "    W = get_derived_feature(\n",
    "        df,\n",
    "        (_, count) ->\n",
    "            weighting_scheme(count, validation_weight_scheme) *\n",
    "            weighting_scheme(count, \"inverse\"),\n",
    "    )\n",
    "    weights = zeros(eltype(rating), length(df.user))\n",
    "    Threads.@threads for i = 1:length(weights)\n",
    "        weights[i] = W[df.user[i]]\n",
    "    end\n",
    "\n",
    "    Y = df.rating .* sqrt.(weights)\n",
    "    X = rating .* sqrt.(weights)\n",
    "    β = X \\ Y\n",
    "    @info \"beta: $β\"\n",
    "    sum((Y .- X .* β) .^ 2) / sum(weights)\n",
    "end;"
   ]
  },
  {
   "cell_type": "code",
   "execution_count": 28,
   "id": "7349cd30-60c3-4b8b-97bd-b4eea5bc98c3",
   "metadata": {},
   "outputs": [],
   "source": [
    "BSON.@load \"../../data/alphas/$name/model.1.bson\" m"
   ]
  },
  {
   "cell_type": "code",
   "execution_count": 29,
   "id": "739aa88b-87f0-4d07-9a8f-1392a65c39da",
   "metadata": {},
   "outputs": [
    {
     "name": "stderr",
     "output_type": "stream",
     "text": [
      "\u001b[32mProgress: 100%|███████████████████████████| Time: 0:00:11 ( 0.88 μs/it)\u001b[39m\n",
      "\u001b[32mProgress: 100%|███████████████████████████| Time: 0:00:08 ( 0.87 μs/it)\u001b[39m\n",
      "\u001b[32mProgress: 100%|███████████████████████████| Time: 0:00:08 ( 0.85 μs/it)\u001b[39m\n",
      "\u001b[32mProgress: 100%|███████████████████████████| Time: 0:00:00 ( 0.78 μs/it)\u001b[39m\n",
      "\u001b[38;5;6m\u001b[1m┌ \u001b[22m\u001b[39m\u001b[38;5;6m\u001b[1mInfo: \u001b[22m\u001b[39m20220430 13:11:44 The GPU function is being called but the GPU is not accessible. \n",
      "\u001b[38;5;6m\u001b[1m└ \u001b[22m\u001b[39mDefaulting back to the CPU. (No action is required if you want to run on the CPU).\n",
      "\u001b[38;5;6m\u001b[1m┌ \u001b[22m\u001b[39m\u001b[38;5;6m\u001b[1mInfo: \u001b[22m\u001b[39m20220430 13:11:44 The GPU function is being called but the GPU is not accessible. \n",
      "\u001b[38;5;6m\u001b[1m└ \u001b[22m\u001b[39mDefaulting back to the CPU. (No action is required if you want to run on the CPU).\n",
      "\u001b[38;5;6m\u001b[1m┌ \u001b[22m\u001b[39m\u001b[38;5;6m\u001b[1mInfo: \u001b[22m\u001b[39m20220430 13:11:44 The GPU function is being called but the GPU is not accessible. \n",
      "\u001b[38;5;6m\u001b[1m└ \u001b[22m\u001b[39mDefaulting back to the CPU. (No action is required if you want to run on the CPU).\n",
      "\u001b[38;5;6m\u001b[1m┌ \u001b[22m\u001b[39m\u001b[38;5;6m\u001b[1mInfo: \u001b[22m\u001b[39m20220430 13:11:44 The GPU function is being called but the GPU is not accessible. \n",
      "\u001b[38;5;6m\u001b[1m└ \u001b[22m\u001b[39mDefaulting back to the CPU. (No action is required if you want to run on the CPU).\n",
      "\u001b[32mProgress: 100%|███████████████████████████| Time: 0:03:37 (42.21 ms/it)\u001b[39m\n"
     ]
    },
    {
     "data": {
      "text/plain": [
       "1.5256684128737303"
      ]
     },
     "execution_count": 29,
     "metadata": {},
     "output_type": "execute_result"
    }
   ],
   "source": [
    "get_loss(m, \"validation\")"
   ]
  },
  {
   "cell_type": "code",
   "execution_count": 47,
   "id": "2f9b3b23-0dc1-4c63-b526-b466ac24de79",
   "metadata": {},
   "outputs": [
    {
     "name": "stderr",
     "output_type": "stream",
     "text": [
      "\u001b[32mProgress: 100%|███████████████████████████| Time: 0:00:00 ( 0.58 μs/it)\u001b[39m\n",
      "\u001b[32mProgress: 100%|███████████████████████████| Time: 0:00:13 ( 0.98 μs/it)\u001b[39m\n",
      "\u001b[32mProgress: 100%|███████████████████████████| Time: 0:00:10 ( 1.07 μs/it)\u001b[39m\n",
      "\u001b[32mProgress: 100%|███████████████████████████| Time: 0:00:10 ( 1.07 μs/it)\u001b[39m\n",
      "\u001b[32mProgress: 100%|███████████████████████████| Time: 0:00:00 ( 0.37 μs/it)\u001b[39m\n",
      "\u001b[32mProgress: 100%|███████████████████████████| Time: 0:19:45 ( 1.84  s/it)\u001b[39m\n",
      "\u001b[32mProgress: 100%|███████████████████████████| Time: 0:00:00 ( 0.64 μs/it)\u001b[39m\n",
      "\u001b[38;5;6m\u001b[1m[ \u001b[22m\u001b[39m\u001b[38;5;6m\u001b[1mInfo: \u001b[22m\u001b[39m20220430 20:35:20 beta: 1.094241\n"
     ]
    },
    {
     "data": {
      "text/plain": [
       "1.5234805f0"
      ]
     },
     "execution_count": 47,
     "metadata": {},
     "output_type": "execute_result"
    }
   ],
   "source": [
    "get_residualized_loss(m, \"validation\")"
   ]
  },
  {
   "cell_type": "markdown",
   "id": "2503872c-79e8-405c-acbb-518416c5c360",
   "metadata": {},
   "source": [
    "## Training"
   ]
  },
  {
   "cell_type": "code",
   "execution_count": 21,
   "id": "dd02cc13-2680-4297-a746-784faaba3a83",
   "metadata": {},
   "outputs": [],
   "source": [
    "function continue_training(m, model_name)\n",
    "    loss_fn = use_residualized_validation_loss ? get_residualized_loss : get_los\n",
    "    training_loss = loss_fn(m, \"training\")\n",
    "    validation_loss = loss_fn(m, \"validation\")\n",
    "    @info \"training loss $training_loss, validation loss $validation_loss, best_loss $best_loss\"\n",
    "    if validation_loss < best_loss\n",
    "        global best_loss = validation_loss\n",
    "        global checks_without_improvement = 0\n",
    "        BSON.@save \"../../data/alphas/$name/model.$(model_name).bson\" m\n",
    "    else\n",
    "        global checks_without_improvement += 1\n",
    "    end\n",
    "    checks_without_improvement < patience\n",
    "end;"
   ]
  },
  {
   "cell_type": "code",
   "execution_count": 22,
   "id": "d61e7743-4bc9-4f75-a38d-b5e02ed1e516",
   "metadata": {},
   "outputs": [],
   "source": [
    "function train_epoch!(m, opt, model_name)\n",
    "    trainmode!(m)\n",
    "    BLAS.set_num_threads(Threads.nthreads())\n",
    "    ps = Flux.params(m)\n",
    "    train_loss(x, y, w) = loss(m, x, y, w)\n",
    "    epoch = get_epoch(\"training\")\n",
    "    sampling_order = get_sampling_order(\"training\")\n",
    "\n",
    "    nbatches = Int(ceil(size(epoch[1])[2] / batch_size))\n",
    "    @showprogress for iter = 1:nbatches\n",
    "        batch = get_batch(epoch, iter, batch_size, sampling_order)\n",
    "        Flux.train!(train_loss, ps, batch, opt)\n",
    "\n",
    "        if iter % (nbatches ÷ 10) == 0\n",
    "            continue_training(m, model_name)\n",
    "            trainmode!(m)\n",
    "            BLAS.set_num_threads(Threads.nthreads())\n",
    "        end\n",
    "    end\n",
    "end;"
   ]
  },
  {
   "cell_type": "code",
   "execution_count": 23,
   "id": "b4ade3b7-52e5-4b22-9337-694708eb76d3",
   "metadata": {},
   "outputs": [],
   "source": [
    "function train_model(model_name, seed)\n",
    "    # create model\n",
    "    Random.seed!(seed)\n",
    "    m = generate_model()\n",
    "\n",
    "    # setup optimizer\n",
    "    if optimizer == \"ADAM\"\n",
    "        opt = ADAMW(learning_rate, (0.9, 0.999), l2penalty)\n",
    "    end\n",
    "    global best_loss = Inf\n",
    "    global checks_without_improvement = 0\n",
    "\n",
    "    # Train model\n",
    "    while continue_training(m, model_name)\n",
    "        train_epoch!(m, opt, model_name)\n",
    "    end\n",
    "\n",
    "    Dict(\"model\" => m, \"name\" => model_name, \"seed\" => seed)\n",
    "end;"
   ]
  },
  {
   "cell_type": "code",
   "execution_count": 24,
   "id": "6bf6aeb7-a78f-4c75-a308-2d6a16e1f0c4",
   "metadata": {
    "tags": []
   },
   "outputs": [],
   "source": [
    "# train_model(\"1\", 20220422)"
   ]
  },
  {
   "cell_type": "markdown",
   "id": "bbdd719b-7f8b-491e-bafa-8aa56a9545e3",
   "metadata": {
    "tags": []
   },
   "source": [
    "## Write predictions"
   ]
  },
  {
   "cell_type": "code",
   "execution_count": 25,
   "id": "9327642b-9991-44d5-ab0c-7ce6033d461d",
   "metadata": {},
   "outputs": [],
   "source": [
    "function make_prediction(sparse_preds, users, items)\n",
    "    preds = zeros(length(users))\n",
    "    @tprogress Threads.@threads for j = 1:length(preds)\n",
    "        preds[j] = sparse_preds[users[j], items[j]]\n",
    "    end\n",
    "    preds\n",
    "end;"
   ]
  },
  {
   "cell_type": "code",
   "execution_count": 26,
   "id": "46d999f4-f2b4-4d71-944b-754aead7de77",
   "metadata": {},
   "outputs": [],
   "source": [
    "function save_model(params)\n",
    "    BSON.@load params[\"model\"] m\n",
    "    training = evaluate(m, \"training\")\n",
    "    validation = evaluate(m, \"validation\")\n",
    "    test = evaluate(m, \"test\")\n",
    "    df = reduce(cat, [training, validation, test])\n",
    "    sparse_preds = sparse(df.user, df.item, df.rating)\n",
    "\n",
    "    write_params(params, outdir = params[\"name\"])\n",
    "    write_predictions(\n",
    "        (users, items) -> make_prediction(sparse_preds, users, items),\n",
    "        residual_alphas = validation_residuals,\n",
    "        outdir = params[\"name\"],\n",
    "        implicit = train_implicit_model,\n",
    "    )\n",
    "end;"
   ]
  },
  {
   "cell_type": "code",
   "execution_count": 27,
   "id": "c26b887e-756b-440e-bbd6-b2842fd184b5",
   "metadata": {},
   "outputs": [],
   "source": [
    "# function fit(num_seeds, start = 1)\n",
    "#     seeds = hash.(rand(Int, num_seeds))\n",
    "#     for i = start:length(seeds)\n",
    "#         save_model(train_model(i, seeds[i]))\n",
    "#     end\n",
    "# end"
   ]
  }
 ],
 "metadata": {
  "kernelspec": {
   "display_name": "Julia 1.8.0-beta3",
   "language": "julia",
   "name": "julia-1.8"
  },
  "language_info": {
   "file_extension": ".jl",
   "mimetype": "application/julia",
   "name": "julia",
   "version": "1.8.0"
  }
 },
 "nbformat": 4,
 "nbformat_minor": 5
}
