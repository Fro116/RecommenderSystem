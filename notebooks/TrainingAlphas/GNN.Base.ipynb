{
 "cells": [
  {
   "cell_type": "markdown",
   "id": "c3758ece-9b72-47b4-ae6a-aa364e0443e3",
   "metadata": {},
   "source": [
    "# Generalized Neural Network\n",
    "* A denoising autoencoder "
   ]
  },
  {
   "cell_type": "code",
   "execution_count": 1,
   "id": "e9787e03-9bd7-4e71-9d1e-0499334a045d",
   "metadata": {},
   "outputs": [],
   "source": [
    "const name = \"GNN.Rating.Test\"\n",
    "const training_residuals = [\"UserItemBiases\"]\n",
    "const validation_residuals = [\"UserItemBiases\"]\n",
    "const derived_features = true\n",
    "const train_implicit_model = false\n",
    "const autoencode = true\n",
    "const batch_size = 128\n",
    "const dropout_perc = 0.5\n",
    "const l2penalty = 1e-5\n",
    "const learning_rate = 0.001\n",
    "const num_seeds = 1;\n",
    "const optimizer = \"ADAM\";\n",
    "# TODO dropout anti-scaling\n",
    "# TODO train models with different parameter settings"
   ]
  },
  {
   "cell_type": "code",
   "execution_count": 2,
   "id": "54170f91-c85c-4207-9939-572cad4db024",
   "metadata": {},
   "outputs": [],
   "source": [
    "using Random\n",
    "import BSON"
   ]
  },
  {
   "cell_type": "code",
   "execution_count": 3,
   "id": "d17593ac-3260-4c01-a5df-91edfcd17e13",
   "metadata": {},
   "outputs": [],
   "source": [
    "using NBInclude\n",
    "@nbinclude(\"Alpha.ipynb\");"
   ]
  },
  {
   "cell_type": "code",
   "execution_count": 4,
   "id": "08801fd4-7057-49f0-9fa7-9854d17494cc",
   "metadata": {},
   "outputs": [],
   "source": [
    "const device = gpu;"
   ]
  },
  {
   "cell_type": "code",
   "execution_count": 5,
   "id": "ede3b9a1-1dc8-4b10-aab0-03ceb5d27be1",
   "metadata": {},
   "outputs": [],
   "source": [
    "Random.seed!(20220410 * hash(name));"
   ]
  },
  {
   "cell_type": "markdown",
   "id": "638f2e93-80aa-4d4f-90ee-d70e3610cd13",
   "metadata": {},
   "source": [
    "## Data preparation"
   ]
  },
  {
   "cell_type": "code",
   "execution_count": 6,
   "id": "8f724408-2a16-4d0d-adb3-9a1ddbe283bc",
   "metadata": {},
   "outputs": [],
   "source": [
    "const n_items = num_items() + 1 # leave room to map unseen items\n",
    "const n_users = maximum(get_split(\"training\").user) + 1; # leave room to map unseen users"
   ]
  },
  {
   "cell_type": "code",
   "execution_count": 7,
   "id": "aa2f87d3-1942-4abc-88ca-6b83433443c9",
   "metadata": {},
   "outputs": [
    {
     "data": {
      "text/plain": [
       "to_sparse_mat (generic function with 1 method)"
      ]
     },
     "execution_count": 7,
     "metadata": {},
     "output_type": "execute_result"
    }
   ],
   "source": [
    "# column accesses are faster than row accesses, so we make this an (item, user) matrix \n",
    "function to_sparse_mat(split)\n",
    "    sparse(split.item, split.user, split.rating, n_items, n_users)\n",
    "end"
   ]
  },
  {
   "cell_type": "code",
   "execution_count": 8,
   "id": "5cad5b01-a2a1-48a8-8eef-954062f7d630",
   "metadata": {
    "tags": []
   },
   "outputs": [],
   "source": [
    "function get_derived_feature(split, agg)\n",
    "    sums = zeros(Float32, n_users, Threads.nthreads())\n",
    "    counts = zeros(Float32, n_users, Threads.nthreads())\n",
    "    @tprogress Threads.@threads for i = 1:length(split.rating)\n",
    "        sums[split.user[i], Threads.threadid()] += split.rating[i]\n",
    "        counts[split.user[i], Threads.threadid()] += 1\n",
    "    end\n",
    "    sums = sum(sums, dims = 2)\n",
    "    counts = sum(counts, dims = 2)\n",
    "    sparse(agg.(sums, counts)')\n",
    "end;"
   ]
  },
  {
   "cell_type": "code",
   "execution_count": 9,
   "id": "47f70afa-60b0-4dac-bfa2-f4648e4145f2",
   "metadata": {},
   "outputs": [],
   "source": [
    "function get_epoch(split)\n",
    "    # todo support autoencode = false\n",
    "    @assert autoencode\n",
    "\n",
    "    # construct inputs\n",
    "    X = vcat(\n",
    "        to_sparse_mat(get_residuals(\"training\", training_residuals)),\n",
    "        to_sparse_mat(get_split(\"implicit_training\")),\n",
    "    )\n",
    "    if derived_features\n",
    "        Xd = vcat(\n",
    "            # fraction of seen items\n",
    "            get_derived_feature(get_split(\"training\"), (sum, count) -> count / n_items),\n",
    "            # fraction of implicit items\n",
    "            get_derived_feature(\n",
    "                get_split(\"implicit_training\"),\n",
    "                (sum, count) -> count / n_items,\n",
    "            ),\n",
    "            # average item rating\n",
    "            get_derived_feature(\n",
    "                get_split(\"training\"),\n",
    "                (sum, count) -> sum / max(1, count) / 10,\n",
    "            ),\n",
    "        )\n",
    "        X = vcat(X, Xd, Xd .^ 2, sqrt.(Xd))\n",
    "    end\n",
    "\n",
    "    # construct outputs\n",
    "    Y = to_sparse_mat(get_residuals(split, validation_residuals))\n",
    "    if train_implicit_model\n",
    "        Y.nzval .= 1\n",
    "    end\n",
    "\n",
    "    # randomly shuffle the users\n",
    "    order = randperm(size(X)[2])\n",
    "    X = X[:, order]\n",
    "    Y = Y[:, order]\n",
    "\n",
    "    X, Y\n",
    "end;"
   ]
  },
  {
   "cell_type": "code",
   "execution_count": 10,
   "id": "72f35efa-decd-42ed-bcae-f7ea7cab6a57",
   "metadata": {},
   "outputs": [],
   "source": [
    "function get_batch(X, Y, iter, batch_size)\n",
    "    range = (iter-1)*batch_size+1:min(iter * batch_size, size(X)[2])\n",
    "    [(collect(X[:, range]) |> device, collect(Y[:, range]) |> device)]\n",
    "end;"
   ]
  },
  {
   "cell_type": "code",
   "execution_count": 11,
   "id": "5406c13a-b4e4-4cad-9fa3-ba51e3e65b3b",
   "metadata": {},
   "outputs": [],
   "source": [
    "function generate_model()\n",
    "    # inputs are the user's ratings for all shows (unseen shows get mapped to zero) + implicit ratings + heterogenous features\n",
    "    # outputs are the user's ratings for all shows (unseen shows get mapped to zero), implicit ratings\n",
    "    # we will train ratings using mse on observed shows, and implicit ratings via crossentropy loss\n",
    "    n_inputs = n_items + n_items + (derived_features ? 9 : 0)\n",
    "    encoder =\n",
    "        Chain(Dense(n_inputs, 512, relu), Dense(512, 256, relu), Dense(256, 128, relu))\n",
    "    decoder = Chain(Dense(128, 256, relu), Dense(256, 512, relu), Dense(512, n_items))\n",
    "    m = Chain(Dropout(dropout_perc), encoder, decoder) |> device\n",
    "    m |> device\n",
    "end;"
   ]
  },
  {
   "cell_type": "markdown",
   "id": "a4988ea0-8a00-41f1-857f-6064ef3806a7",
   "metadata": {},
   "source": [
    "## Training"
   ]
  },
  {
   "cell_type": "code",
   "execution_count": 12,
   "id": "2068c6b4-911b-400d-89ca-f7971d8de0dd",
   "metadata": {},
   "outputs": [
    {
     "data": {
      "text/plain": [
       "loss (generic function with 1 method)"
      ]
     },
     "execution_count": 12,
     "metadata": {},
     "output_type": "execute_result"
    }
   ],
   "source": [
    "function rating_loss(ŷ, y)\n",
    "    # only compute loss on items the user has seen\n",
    "    # TODO try mult on gpu\n",
    "    mask = y .!= 0\n",
    "    mean((ŷ[mask] .- y[mask]) .^ 2)\n",
    "end\n",
    "\n",
    "implicit_loss(ŷ, y) = Flux.logitcrossentropy(ŷ, y)\n",
    "\n",
    "loss(m, x, y) = train_implicit_model ? implicit_loss(m(x), y) : rating_loss(m(x), y)"
   ]
  },
  {
   "cell_type": "code",
   "execution_count": 13,
   "id": "68c3fe61-bc3c-4180-a5df-2507a6e8a664",
   "metadata": {},
   "outputs": [],
   "source": [
    "function reset_training()\n",
    "    global best_loss = Inf\n",
    "    global iteration = 0\n",
    "    global epoch = 0\n",
    "end;"
   ]
  },
  {
   "cell_type": "code",
   "execution_count": 14,
   "id": "a7e91d19-5df7-40f9-a817-c206dd695a60",
   "metadata": {},
   "outputs": [
    {
     "data": {
      "text/plain": [
       "get_validation_loss (generic function with 1 method)"
      ]
     },
     "execution_count": 14,
     "metadata": {},
     "output_type": "execute_result"
    }
   ],
   "source": [
    "function get_validation_loss(m)\n",
    "    BLAS.set_num_threads(1)\n",
    "    X, Y = get_epoch(\"validation\")\n",
    "    batch_size = 16\n",
    "    losses = [0.0 for _ = 1:Threads.nthreads()]\n",
    "    @tprogress Threads.@threads for iter = 1:Int(ceil(size(X)[2] / batch_size))\n",
    "        batch = get_batch(X, Y, iter, batch_size)\n",
    "        losses[Threads.threadid()] += loss(m, batch[1]...) * size(batch[1][1])[2]\n",
    "    end\n",
    "    BLAS.set_num_threads(Threads.nthreads())\n",
    "    sum(losses) / size(X)[2]\n",
    "end"
   ]
  },
  {
   "cell_type": "code",
   "execution_count": 15,
   "id": "dd02cc13-2680-4297-a746-784faaba3a83",
   "metadata": {},
   "outputs": [],
   "source": [
    "function continue_training(m, name)\n",
    "    validation_loss = get_validation_loss(m)\n",
    "    @info \"Epoch $epoch, loss $validation_loss, best_loss $best_loss\"\n",
    "    if validation_loss < best_loss\n",
    "        global best_loss = validation_loss\n",
    "        BSON.@save \"../../data/alphas/$name/model.$(name).bson\" m\n",
    "        return true\n",
    "    else\n",
    "        return false\n",
    "    end\n",
    "end;"
   ]
  },
  {
   "cell_type": "code",
   "execution_count": 16,
   "id": "b8851646-2055-4000-965c-816fe3040720",
   "metadata": {},
   "outputs": [],
   "source": [
    "# function split_batch(batch, chunks)\n",
    "#     X, Y = batch[1]\n",
    "#     chunks = Iterators.partition(1:size(X)[2], Int(ceil(size(X)[2] / chunks)))\n",
    "#     data = []\n",
    "#     for chunk in chunks\n",
    "#         push!(data, (X[:, chunk], Y[:, chunk]))\n",
    "#     end\n",
    "#     data\n",
    "# end\n",
    "\n",
    "# function cpu_train(loss, ps, data, opt)\n",
    "#     grads = []\n",
    "#     for _ = 1:Threads.nthreads()\n",
    "#         push!(grads, nothing)\n",
    "#     end\n",
    "#     @time data = split_batch(data, Threads.nthreads())\n",
    "#     @time Threads.@threads for d in data\n",
    "#         gs = gradient(ps) do\n",
    "#             loss(d...)\n",
    "#         end\n",
    "#         grads[Threads.threadid()] = gs\n",
    "#     end\n",
    "#     @time gs = reduce(.+, grads[grads.!=nothing])\n",
    "#     @time Flux.update!(opt, ps, gs)\n",
    "# end"
   ]
  },
  {
   "cell_type": "code",
   "execution_count": 17,
   "id": "b4ade3b7-52e5-4b22-9337-694708eb76d3",
   "metadata": {},
   "outputs": [],
   "source": [
    "function train_model(model_name, seed)\n",
    "    # create model\n",
    "    Random.seed!(seed)\n",
    "    m = generate_model()\n",
    "    ps = Flux.params(m)\n",
    "    BLAS.set_num_threads(Threads.nthreads())\n",
    "\n",
    "    # setup optimizer\n",
    "    reset_training()\n",
    "    function evalcb()\n",
    "        @info \"Epoch $epoch, Iteration $iteration\"\n",
    "    end\n",
    "    throttled_cb = Flux.throttle(evalcb, 60)\n",
    "    if optimizer == \"ADAM\"\n",
    "        opt = ADAMW(learning_rate, (0.9, 0.999), l2penalty)\n",
    "    end\n",
    "    training_loss(x, y) = loss(m, x, y)\n",
    "\n",
    "    # Train model\n",
    "    while continue_training(m, model_name)\n",
    "        X, Y = get_epoch(\"training\")\n",
    "        @showprogress for iter = 1:Int(ceil(size(X)[2] / batch_size))\n",
    "            batch = get_batch(X, Y, iter, batch_size)\n",
    "            Flux.train!(training_loss, ps, batch, opt)\n",
    "            global iteration += 1\n",
    "            throttled_cb()\n",
    "        end\n",
    "        global epoch += 1\n",
    "    end\n",
    "end;"
   ]
  },
  {
   "cell_type": "code",
   "execution_count": null,
   "id": "6bf6aeb7-a78f-4c75-a308-2d6a16e1f0c4",
   "metadata": {},
   "outputs": [
    {
     "name": "stderr",
     "output_type": "stream",
     "text": [
      "\u001b[38;5;6m\u001b[1m┌ \u001b[22m\u001b[39m\u001b[38;5;6m\u001b[1mInfo: \u001b[22m\u001b[39m20220416 19:31:42 The GPU function is being called but the GPU is not accessible. \n",
      "\u001b[38;5;6m\u001b[1m└ \u001b[22m\u001b[39mDefaulting back to the CPU. (No action is required if you want to run on the CPU).\n",
      "\u001b[32mProgress: 100%|███████████████████████████| Time: 0:00:08 ( 0.93 μs/it)\u001b[39m\n",
      "\u001b[32mProgress: 100%|███████████████████████████|  ETA: 0:00:00 (41.52 ms/it)\u001b[39m\u001b[38;5;6m\u001b[1m[ \u001b[22m\u001b[39m\u001b[38;5;6m\u001b[1mInfo: \u001b[22m\u001b[39m20220416 19:36:34 Epoch 0, loss 1.7453222129310897, best_loss Inf\n",
      "\u001b[32mProgress:  87%|███████████████████████▌   |  ETA: 0:00:01 ( 0.94 μs/it)\u001b[39m\u001b[38;5;6m\u001b[1m[ \u001b[22m\u001b[39m\u001b[38;5;6m\u001b[1mInfo: \u001b[22m\u001b[39m20220416 19:38:51 Epoch 0, Iteration 1\n",
      "\u001b[32mProgress:   1%|▎                                        |  ETA: 4:23:03\u001b[39mm29\u001b[39mm\u001b[38;5;6m\u001b[1m[ \u001b[22m\u001b[39m\u001b[38;5;6m\u001b[1mInfo: \u001b[22m\u001b[39m20220416 19:39:54 Epoch 0, Iteration 71\n",
      "\u001b[32mProgress:   1%|▌                                        |  ETA: 3:27:45\u001b[39m\u001b[38;5;6m\u001b[1m[ \u001b[22m\u001b[39m\u001b[38;5;6m\u001b[1mInfo: \u001b[22m\u001b[39m20220416 19:40:55 Epoch 0, Iteration 139\n",
      "\u001b[32mProgress:   2%|▉                                        |  ETA: 3:08:41\u001b[39m\u001b[38;5;6m\u001b[1m[ \u001b[22m\u001b[39m\u001b[38;5;6m\u001b[1mInfo: \u001b[22m\u001b[39m20220416 19:41:57 Epoch 0, Iteration 207\n",
      "\u001b[32mProgress:   3%|█▏                                       |  ETA: 2:58:56\u001b[39m\u001b[38;5;6m\u001b[1m[ \u001b[22m\u001b[39m\u001b[38;5;6m\u001b[1mInfo: \u001b[22m\u001b[39m20220416 19:42:58 Epoch 0, Iteration 274\n",
      "\u001b[32mProgress:   3%|█▍                                       |  ETA: 2:52:45\u001b[39m\u001b[38;5;6m\u001b[1m[ \u001b[22m\u001b[39m\u001b[38;5;6m\u001b[1mInfo: \u001b[22m\u001b[39m20220416 19:44:00 Epoch 0, Iteration 341\n",
      "\u001b[32mProgress:   4%|█▌                                       |  ETA: 2:50:01\u001b[39m"
     ]
    }
   ],
   "source": [
    "train_model(name, 1)"
   ]
  },
  {
   "cell_type": "markdown",
   "id": "bbdd719b-7f8b-491e-bafa-8aa56a9545e3",
   "metadata": {
    "tags": []
   },
   "source": [
    "## Write predictions"
   ]
  },
  {
   "cell_type": "code",
   "execution_count": null,
   "id": "3af0b836-f8dd-4a6d-b9d1-c20f1d518bd7",
   "metadata": {},
   "outputs": [],
   "source": [
    "function gmodel(m, users, items)\n",
    "    # index users\n",
    "    user_to_output_idxs = [Dict() for t = 1:Threads.nthreads()]\n",
    "    @tprogress Threads.@threads for j = 1:length(users)\n",
    "        u = users[j]\n",
    "        t = Threads.threadid()\n",
    "        if u ∉ keys(user_to_output_idxs[t])\n",
    "            user_to_output_idxs[t][u] = []\n",
    "        end\n",
    "        push!(user_to_output_idxs[t][u], j)\n",
    "    end\n",
    "    user_to_output_idxs = merge(vcat, user_to_output_idxs...)\n",
    "\n",
    "    # allocate outputs\n",
    "    ratings = zeros(Float32, length(users))\n",
    "\n",
    "    # split users into mini-batches\n",
    "    deduped_users = collect(Set(users))\n",
    "    batch(arr, n) = [arr[i:min(i + n - 1, end)] for i = 1:n:length(arr)]\n",
    "    batches = batch(deduped_users, 128)\n",
    "\n",
    "    # compute predictions\n",
    "    @tprogress Threads.@threads for i = 1:length(batches)\n",
    "        b = batches[i]\n",
    "        user_to_input_idx = Dict(zip(b, 1:length(b)))\n",
    "        alpha = m(get_batch(b)) |> cpu\n",
    "        if train_implicit_model\n",
    "            alpha .= exp.(alpha)\n",
    "            alpha .= alpha ./ sum(alpha, dims = 1)\n",
    "        end\n",
    "\n",
    "        for u in b\n",
    "            input_idx = user_to_input_idx[u]\n",
    "            for output_idx in user_to_output_idxs[u]\n",
    "                ratings[output_idx] = alpha[items[output_idx], input_idx]\n",
    "            end\n",
    "        end\n",
    "    end\n",
    "    ratings\n",
    "end;"
   ]
  },
  {
   "cell_type": "code",
   "execution_count": null,
   "id": "9327642b-9991-44d5-ab0c-7ce6033d461d",
   "metadata": {},
   "outputs": [],
   "source": [
    "function make_prediction(sparse_preds, users, items)\n",
    "    preds = zeros(length(users))\n",
    "    @tprogress Threads.@threads for j = 1:length(preds)\n",
    "        preds[j] = sparse_preds[users[j], items[j]]\n",
    "    end\n",
    "    preds\n",
    "end;"
   ]
  },
  {
   "cell_type": "code",
   "execution_count": null,
   "id": "46d999f4-f2b4-4d71-944b-754aead7de77",
   "metadata": {},
   "outputs": [],
   "source": [
    "function save_model(params)\n",
    "    BSON.@load params[\"model\"] m\n",
    "    testmode!(m)\n",
    "    BLAS.set_num_threads(1) # gmodel already multithreads\n",
    "\n",
    "    full_df = reduce(cat, [training, validation, get_split(\"test\")])\n",
    "    ratings = gmodel(m, full_df.user, full_df.item)\n",
    "    sparse_preds = sparse(full_df.user, full_df.item, ratings)\n",
    "\n",
    "    write_params(params, outdir = params[\"name\"])\n",
    "    write_predictions(\n",
    "        (users, items) -> make_prediction(sparse_preds, users, items),\n",
    "        residual_alphas = validation_residuals,\n",
    "        outdir = params[\"name\"],\n",
    "        implicit = train_implicit_model,\n",
    "    )\n",
    "end;"
   ]
  },
  {
   "cell_type": "code",
   "execution_count": null,
   "id": "c26b887e-756b-440e-bbd6-b2842fd184b5",
   "metadata": {},
   "outputs": [],
   "source": [
    "# function fit(num_seeds, start = 1)\n",
    "#     seeds = hash.(rand(Int, num_seeds))\n",
    "#     for i = start:length(seeds)\n",
    "#         save_model(train_model(i, seeds[i]))\n",
    "#     end\n",
    "# end"
   ]
  }
 ],
 "metadata": {
  "kernelspec": {
   "display_name": "Julia 1.8.0-beta3",
   "language": "julia",
   "name": "julia-1.8"
  },
  "language_info": {
   "file_extension": ".jl",
   "mimetype": "application/julia",
   "name": "julia",
   "version": "1.8.0"
  }
 },
 "nbformat": 4,
 "nbformat_minor": 5
}
