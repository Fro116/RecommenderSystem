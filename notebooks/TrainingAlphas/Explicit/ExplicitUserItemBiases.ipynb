{
 "cells": [
  {
   "cell_type": "markdown",
   "id": "c3758ece-9b72-47b4-ae6a-aa364e0443e3",
   "metadata": {},
   "source": [
    "# User Item Biases With Regularization\n",
    "* Prediction for user $i$ and item $j$ is $\\tilde r_{ij} = u_i + a_j$\n",
    "* Loss function is $L = \\sum_{\\Omega}w_{ij}\\text{loss}(r_{ij}, \\tilde r_{ij}) + \\lambda_u \\sum_i (u_i - \\bar u) ^2 + \\lambda_a \\sum_j (a_j - \\bar a)^2 $\n",
    "* $\\bar u$ is the mean of $u_i$ and $\\bar a$ is the mean of $a_j$ \n",
    "* $\\Omega$ is the set of oberved pairs $(i, j)$\n",
    "* $r_{ij}$ is the rating for user $i$ and item $j$\n",
    "* $w_{ij}$ is the weight for the prediction $r_{ij}$ and is modeled as a power-law in the number of items seen by $i$ and users than have seen $j$: $w_{ij} = |j' : (i, j') \\in \\Omega| ^ {\\lambda_{wu}} |i' : (i', j) \\in \\Omega| ^ {\\lambda_{wa}}$\n",
    "* $\\text{loss}$ is mean squared error"
   ]
  },
  {
   "cell_type": "code",
   "execution_count": null,
   "id": "cf5a648c-3734-4f43-b0a9-7814b36b7185",
   "metadata": {
    "tags": [
     "parameters"
    ]
   },
   "outputs": [],
   "source": [
    "task = \"\""
   ]
  },
  {
   "cell_type": "code",
   "execution_count": null,
   "id": "7cc9334a-2287-41d6-885b-a5cca94fe263",
   "metadata": {},
   "outputs": [],
   "source": [
    "const name = \"$task/ExplicitUserItemBiases\"\n",
    "const content = \"explicit\"\n",
    "const residual_alphas = String[] \n",
    "const implicit = false;"
   ]
  },
  {
   "cell_type": "code",
   "execution_count": null,
   "id": "df87db6f-667c-4bc2-9d48-7f4debe6750f",
   "metadata": {
    "tags": []
   },
   "outputs": [],
   "source": [
    "import NBInclude: @nbinclude\n",
    "@nbinclude(\"../Alpha.ipynb\");\n",
    "@nbinclude(\"ExplicitUserItemBiasesBase.ipynb\");"
   ]
  },
  {
   "cell_type": "code",
   "execution_count": null,
   "id": "2964541d-4796-47fd-ac77-91a2eaefc679",
   "metadata": {},
   "outputs": [],
   "source": [
    "const training = get_split(\"training\", \"all\", content)\n",
    "const validation = get_split(\"validation\", task, content);"
   ]
  },
  {
   "cell_type": "markdown",
   "id": "99f52a69-0231-4bff-8a9f-26bb16ee9f33",
   "metadata": {
    "tags": []
   },
   "source": [
    "## Alternating Least Squares\n",
    "* Given some hyperparameters $\\lambda$, we can solve for $U$ and $A$ via Alternating Least Squares\n",
    "* This is an iterative algorithm where we fix $A$, then solve for the $U$ that minimizes the loss function\n",
    "* Then we fix $U$ and solve for the best $A$\n",
    "* These two steps are repeated until the matrices $U$ and $A$ converge\n",
    "### More details\n",
    "* If we fix $a$, then for each user $i$, $u_i$ is optimized when\n",
    "* $u_i = \\dfrac{\\sum_{j \\in \\Omega_i}(r_{ij} - a_j) w_{ij} + \\bar u \\lambda_u}{ \\sum_{j \\in \\Omega_i} w_{ij} + \\lambda_u}$\n",
    "* $\\Omega$ is the set of (user, item) pairs that we have ratings for\n",
    "* $\\Omega_i$ is subset of $\\Omega$ for which the user is the $i$-th user"
   ]
  },
  {
   "cell_type": "code",
   "execution_count": null,
   "id": "b03cf878-9bba-40b5-be35-1920f4afae70",
   "metadata": {},
   "outputs": [],
   "source": [
    "function train_model(training, stop_criteria, λ)\n",
    "    @info \"training model with parameters $λ\"\n",
    "    λ_u, λ_a, λ_wu, λ_wa, λ_wt = λ\n",
    "    users, items, ratings = training.user, training.item, training.rating\n",
    "    weights =\n",
    "        powerdecay(get_counts(\"training\", \"all\", content), log(λ_wu)) .*\n",
    "        powerdecay(get_counts(\"training\", \"all\", content; by_item = true), log(λ_wa)) .*\n",
    "        powerlawdecay(1 .- max.(training.timestamp, 0), λ_wt)\n",
    "    u = zeros(eltype(λ_u), num_users())\n",
    "    a = zeros(eltype(λ_a), num_items())\n",
    "\n",
    "    ρ_u = zeros(eltype(u), length(u), Threads.nthreads())\n",
    "    Ω_u = zeros(eltype(u), length(u), Threads.nthreads())\n",
    "    ρ_a = zeros(eltype(a), length(a), Threads.nthreads())\n",
    "    Ω_a = zeros(eltype(a), length(a), Threads.nthreads())\n",
    "\n",
    "    while !stop!(stop_criteria, [u, a])\n",
    "        update_users!(users, items, ratings, weights, u, a, λ_u, ρ_u, Ω_u)\n",
    "        update_users!(items, users, ratings, weights, a, u, λ_a, ρ_a, Ω_a)\n",
    "    end\n",
    "    u, a\n",
    "end;"
   ]
  },
  {
   "cell_type": "code",
   "execution_count": null,
   "id": "c174fef4-e9d4-4fbd-a649-1159f8c07a3f",
   "metadata": {},
   "outputs": [],
   "source": [
    "function validation_mse(λ)\n",
    "    λ = exp.(λ) # ensure λ is nonnegative\n",
    "    stop_criteria = convergence_stopper(1e-6, max_iters = 16)\n",
    "    u, a = train_model(training, stop_criteria, λ)\n",
    "    r = make_prediction(validation.user, validation.item, u, a)\n",
    "    residualized_loss(residual_alphas, task, content, implicit, r)\n",
    "end;"
   ]
  },
  {
   "cell_type": "code",
   "execution_count": null,
   "id": "7d55df8c-06e5-4e8e-814c-41410685842d",
   "metadata": {
    "tags": []
   },
   "outputs": [],
   "source": [
    "# Find the best regularization hyperparameters\n",
    "res = Optim.optimize(\n",
    "    validation_mse,\n",
    "    fill(0.0f0, 5),\n",
    "    Optim.LBFGS(),\n",
    "    autodiff = :forward,\n",
    "    Optim.Options(show_trace = true, extended_trace = true, iterations = 50, time_limit=3600 * 3),\n",
    ");\n",
    "λ = exp.(Optim.minimizer(res));"
   ]
  },
  {
   "cell_type": "code",
   "execution_count": null,
   "id": "5e71e197-1810-46ac-9be5-4847747fce90",
   "metadata": {},
   "outputs": [],
   "source": [
    "@info \"The optimal λ is $λ, found in \" * repr(Optim.f_calls(res)) * \" function calls\""
   ]
  },
  {
   "cell_type": "code",
   "execution_count": null,
   "id": "781a2388-df56-42ce-8e58-b4a11a4e4d0b",
   "metadata": {},
   "outputs": [],
   "source": [
    "stop_criteria = convergence_stopper(1e-6, max_iters = 16)\n",
    "u, a = train_model(training, stop_criteria, λ);"
   ]
  },
  {
   "cell_type": "code",
   "execution_count": null,
   "id": "49a78dff-fbb8-4b4e-8c59-f53774d5c47c",
   "metadata": {},
   "outputs": [],
   "source": [
    "validation_mse(Optim.minimizer(res))"
   ]
  },
  {
   "cell_type": "markdown",
   "id": "7c291e04-b1ba-48a0-ac09-25eda75a6162",
   "metadata": {},
   "source": [
    "## Inference"
   ]
  },
  {
   "cell_type": "code",
   "execution_count": null,
   "id": "09dc7ac8-4839-476e-acdc-4687262d8623",
   "metadata": {},
   "outputs": [],
   "source": [
    "model(users, items) = make_prediction(users, items, u, a)\n",
    "write_alpha(\n",
    "    model,\n",
    "    name;\n",
    "    log = true,\n",
    "    log_task = task,\n",
    "    log_content = content,\n",
    "    log_alphas = residual_alphas,\n",
    ")"
   ]
  },
  {
   "cell_type": "code",
   "execution_count": null,
   "id": "c4c83363-c309-46e5-ba51-252ad0d3871a",
   "metadata": {},
   "outputs": [],
   "source": [
    "write_params(Dict(\"u\" => u, \"a\" => a, \"λ\" => λ), name);"
   ]
  }
 ],
 "metadata": {
  "kernelspec": {
   "display_name": "Julia 1.8.3",
   "language": "julia",
   "name": "julia-1.8"
  },
  "language_info": {
   "file_extension": ".jl",
   "mimetype": "application/julia",
   "name": "julia",
   "version": "1.8.3"
  }
 },
 "nbformat": 4,
 "nbformat_minor": 5
}
