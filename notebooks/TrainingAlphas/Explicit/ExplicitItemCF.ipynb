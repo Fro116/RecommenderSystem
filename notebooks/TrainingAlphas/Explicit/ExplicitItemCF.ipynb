{
 "cells": [
  {
   "cell_type": "markdown",
   "id": "c3758ece-9b72-47b4-ae6a-aa364e0443e3",
   "metadata": {},
   "source": [
    "# Item-based Collaborative Filtering\n",
    "* See `ItemCollaborativeFilteringBase.ipynb` for algorithm details\n",
    "* The weights here are the cosine correlation between the two items"
   ]
  },
  {
   "cell_type": "code",
   "execution_count": null,
   "id": "7cc9334a-2287-41d6-885b-a5cca94fe263",
   "metadata": {},
   "outputs": [],
   "source": [
    "const name = \"ExplicitItemCF\";"
   ]
  },
  {
   "cell_type": "code",
   "execution_count": null,
   "id": "d17593ac-3260-4c01-a5df-91edfcd17e13",
   "metadata": {},
   "outputs": [],
   "source": [
    "import NBInclude: @nbinclude\n",
    "@nbinclude(\"../Alpha.ipynb\")\n",
    "@nbinclude(\"ExplicitItemCFBase.ipynb\");"
   ]
  },
  {
   "cell_type": "markdown",
   "id": "85910c72-6e77-4dbd-8991-6ad3b81035a7",
   "metadata": {},
   "source": [
    "## Setup hyperparameters"
   ]
  },
  {
   "cell_type": "code",
   "execution_count": null,
   "id": "0c00b2aa-a40c-4374-9631-9918f0f55968",
   "metadata": {
    "tags": []
   },
   "outputs": [],
   "source": [
    "item_cf_params = [\n",
    "    cf_params(\n",
    "        name = \"ExplicitItemCF\",\n",
    "        training_residuals = [\"ExplicitUserItemBiases\"],\n",
    "        validation_residuals = [\"ExplicitUserItemBiases\"],\n",
    "        neighborhood_type = \"abs\",\n",
    "        S = get_correlation_matrix_outdir([\"ExplicitUserItemBiases\"]),\n",
    "        K = 256,\n",
    "        λ = [1.0, 0.0, 0.0],\n",
    "    ),\n",
    "    # cf_params(\n",
    "    #     name = \"ExplicitItemCF.2\",\n",
    "    #     training_residuals = [\"ExplicitUserItemBiases\", \"ExplicitItemCF\"],\n",
    "    #     validation_residuals = [\"ExplicitUserItemBiases\", \"ExplicitItemCF\"],\n",
    "    #     neighborhood_type = \"abs\",\n",
    "    #     S = get_correlation_matrix_outdir([\"ExplicitUserItemBiases\"]),\n",
    "    #     K = 256,\n",
    "    #     λ = [1.0, 0.0, 0.0],\n",
    "    # ),\n",
    "];"
   ]
  },
  {
   "cell_type": "markdown",
   "id": "73d6710c-a42a-443d-8616-f1441be67eee",
   "metadata": {},
   "source": [
    "## Train models"
   ]
  },
  {
   "cell_type": "code",
   "execution_count": null,
   "id": "bd251b9e-76e5-4492-9a24-58c48399c8b8",
   "metadata": {},
   "outputs": [],
   "source": [
    "for param in item_cf_params\n",
    "    optimize_model(param)\n",
    "end"
   ]
  }
 ],
 "metadata": {
  "kernelspec": {
   "display_name": "Julia 1.8.0-rc1",
   "language": "julia",
   "name": "julia-1.8"
  },
  "language_info": {
   "file_extension": ".jl",
   "mimetype": "application/julia",
   "name": "julia",
   "version": "1.8.0"
  }
 },
 "nbformat": 4,
 "nbformat_minor": 5
}
