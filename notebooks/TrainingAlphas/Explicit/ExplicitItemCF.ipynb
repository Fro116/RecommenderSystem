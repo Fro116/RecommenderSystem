{
 "cells": [
  {
   "cell_type": "markdown",
   "id": "c3758ece-9b72-47b4-ae6a-aa364e0443e3",
   "metadata": {},
   "source": [
    "# Item-based Collaborative Filtering\n",
    "* See `ItemCollaborativeFilteringBase.ipynb` for algorithm details\n",
    "* The weights here are the cosine correlation between the two items"
   ]
  },
  {
   "cell_type": "code",
   "execution_count": 1,
   "id": "7cc9334a-2287-41d6-885b-a5cca94fe263",
   "metadata": {},
   "outputs": [],
   "source": [
    "const name = \"ExplicitItemCF\";"
   ]
  },
  {
   "cell_type": "code",
   "execution_count": 2,
   "id": "d17593ac-3260-4c01-a5df-91edfcd17e13",
   "metadata": {},
   "outputs": [],
   "source": [
    "import NBInclude: @nbinclude\n",
    "@nbinclude(\"ExplicitItemCFBase.ipynb\");"
   ]
  },
  {
   "cell_type": "markdown",
   "id": "85910c72-6e77-4dbd-8991-6ad3b81035a7",
   "metadata": {},
   "source": [
    "## Setup hyperparameters"
   ]
  },
  {
   "cell_type": "code",
   "execution_count": 3,
   "id": "0c00b2aa-a40c-4374-9631-9918f0f55968",
   "metadata": {},
   "outputs": [],
   "source": [
    "item_cf_params = [\n",
    "    cf_params(\n",
    "        name = \"ExplicitItemCF\",\n",
    "        training_residuals = [\"ExplicitUserItemBiases\"],\n",
    "        validation_residuals = [\"ExplicitUserItemBiases\"],\n",
    "        neighborhood_type = \"abs\",\n",
    "        S = get_correlation_matrix_outdir([\"ExplicitUserItemBiases\"]),\n",
    "        K = 1024,\n",
    "        λ = [0.0, 1.0, 0.0, 0.0, 0.0],\n",
    "    ),\n",
    "];"
   ]
  },
  {
   "cell_type": "markdown",
   "id": "73d6710c-a42a-443d-8616-f1441be67eee",
   "metadata": {},
   "source": [
    "## Train models"
   ]
  },
  {
   "cell_type": "code",
   "execution_count": 4,
   "id": "bd251b9e-76e5-4492-9a24-58c48399c8b8",
   "metadata": {},
   "outputs": [
    {
     "data": {
      "text/plain": [
       "cf_params\n",
       "  name: String \"ExplicitItemCF\"\n",
       "  training_residuals: Array{String}((1,))\n",
       "  validation_residuals: Array{String}((1,))\n",
       "  neighborhood_type: String \"abs\"\n",
       "  S: String \"ExplicitItemCF/6540169344955467896\"\n",
       "  K: Int64 1024\n",
       "  λ: Array{Float32}((5,)) Float32[0.0076675215, 3.8429337, 55.20206, 28.384584, 59.644646]\n"
      ]
     },
     "execution_count": 4,
     "metadata": {},
     "output_type": "execute_result"
    }
   ],
   "source": [
    "param = cf_params(\n",
    "    name = \"ExplicitItemCF\",\n",
    "    training_residuals = [\"ExplicitUserItemBiases\"],\n",
    "    validation_residuals = [\"ExplicitUserItemBiases\"],\n",
    "    neighborhood_type = \"abs\",\n",
    "    S = get_correlation_matrix_outdir([\"ExplicitUserItemBiases\"]),\n",
    "    K = 1024,\n",
    "    λ = read_params(\"ExplicitItemCF\")[\"λ\"],\n",
    ")"
   ]
  },
  {
   "cell_type": "code",
   "execution_count": 5,
   "id": "1c6a8b94-b089-4cf4-98fb-59c578d1e6f1",
   "metadata": {},
   "outputs": [
    {
     "data": {
      "text/plain": [
       "#84 (generic function with 1 method)"
      ]
     },
     "execution_count": 5,
     "metadata": {},
     "output_type": "execute_result"
    }
   ],
   "source": [
    "S = read_similarity_matrix(param.S)\n",
    "K = param.K\n",
    "neighborhood_types = Dict(\"abs\" => get_abs_neighborhood)\n",
    "neighborhoods = i -> neighborhood_types[param.neighborhood_type](i, S, K)"
   ]
  },
  {
   "cell_type": "code",
   "execution_count": 6,
   "id": "37b76d2d-c20e-44e6-b5ea-4ee3cb588db1",
   "metadata": {},
   "outputs": [
    {
     "name": "stderr",
     "output_type": "stream",
     "text": [
      "\u001b[32mProgress: 100%|███████████████████████████| Time: 0:00:00 (80.96 ns/it)\u001b[39m\n"
     ]
    },
    {
     "data": {
      "text/plain": [
       "RatingsDataset\n",
       "  user: Array{Int32}((224989805,)) Int32[1139733, 1139733, 1139733, 1139733, 1139733, 1139733, 1139733, 1139733, 1139733, 1139733  …  149272, 149272, 149272, 149272, 149272, 149272, 149272, 149272, 149272, 149272]\n",
       "  item: Array{Int32}((224989805,)) Int32[18692, 12822, 14577, 14269, 6834, 12622, 12776, 11770, 9027, 9564  …  378, 12008, 8924, 20136, 19379, 7835, 16002, 2085, 12932, 2415]\n",
       "  rating: Array{Float32}((224989805,)) Float32[-0.39215803, 0.24017143, 1.1383104, 0.16493988, 1.2026196, 2.5712285, -2.8432922, -1.8642883, 1.979228, 0.17419434  …  -0.9521179, 0.9328785, 1.3864756, -1.1284418, -0.3624091, -1.7360964, 0.5852394, -0.21881008, 0.6126938, 0.35669422]\n"
      ]
     },
     "execution_count": 6,
     "metadata": {},
     "output_type": "execute_result"
    }
   ],
   "source": [
    "training = get_training(param.training_residuals)"
   ]
  },
  {
   "cell_type": "code",
   "execution_count": 7,
   "id": "f2cc0d45-5ab1-4557-9abb-56d09efce22f",
   "metadata": {},
   "outputs": [],
   "source": [
    "function model(users, items)\n",
    "    inference = RatingsDataset(users, items, fill(NaN32, length(users)))\n",
    "    collaborative_filtering(training, inference, neighborhoods, param.λ)\n",
    "end;"
   ]
  },
  {
   "cell_type": "code",
   "execution_count": null,
   "id": "79cae0dd-8738-4348-9dac-6934b5bd1d2e",
   "metadata": {},
   "outputs": [
    {
     "name": "stderr",
     "output_type": "stream",
     "text": [
      "\u001b[32mProgress:  10%|██▊                        |  ETA: 6:14:33 (10.10  s/it)\u001b[39mmt)\u001b[39mm"
     ]
    }
   ],
   "source": [
    "write_alpha(model, param.validation_residuals, false, param.name; log_splits=false)"
   ]
  }
 ],
 "metadata": {
  "kernelspec": {
   "display_name": "Julia 1.8.0-rc1",
   "language": "julia",
   "name": "julia-1.8"
  },
  "language_info": {
   "file_extension": ".jl",
   "mimetype": "application/julia",
   "name": "julia",
   "version": "1.8.0"
  }
 },
 "nbformat": 4,
 "nbformat_minor": 5
}
