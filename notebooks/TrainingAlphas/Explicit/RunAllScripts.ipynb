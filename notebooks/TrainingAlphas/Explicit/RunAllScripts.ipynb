{
 "cells": [
  {
   "cell_type": "code",
   "execution_count": null,
   "id": "7df9b9d0-f4e3-4db9-b67d-799c100e8ab9",
   "metadata": {},
   "outputs": [],
   "source": [
    "import os\n",
    "\n",
    "import papermill as pm"
   ]
  },
  {
   "cell_type": "code",
   "execution_count": null,
   "id": "29cf8b63-b60b-49f8-89c1-23003c8b6aaf",
   "metadata": {},
   "outputs": [],
   "source": [
    "data_path = \"../../../data/papermill/training_alphas/explicit\"\n",
    "ALL_MEDIA = [\"manga\", \"anime\"]\n",
    "ALL_TASKS = [\"temporal\", \"temporal_causal\"]\n",
    "for media in ALL_MEDIA:\n",
    "    for task in ALL_TASKS:\n",
    "        fn = os.path.join(data_path, media, task)\n",
    "        if not os.path.exists(fn):\n",
    "            os.makedirs(fn, exist_ok=True)"
   ]
  },
  {
   "cell_type": "code",
   "execution_count": null,
   "id": "e749c36b-c798-4b8e-9064-46133038ddd9",
   "metadata": {},
   "outputs": [],
   "source": [
    "def run_notebook(script):\n",
    "    for media in ALL_MEDIA:\n",
    "        for task in ALL_TASKS:\n",
    "            pm.execute_notebook(\n",
    "                script,\n",
    "                os.path.join(data_path, media, task, script),\n",
    "                parameters=dict(medium=media, task=task),\n",
    "            )"
   ]
  },
  {
   "cell_type": "code",
   "execution_count": null,
   "id": "77a603be-c28e-4d8f-a749-104c99bc1ad4",
   "metadata": {},
   "outputs": [],
   "source": [
    "run_notebook(\"ExplicitUserItemBiases.ipynb\")"
   ]
  },
  {
   "cell_type": "code",
   "execution_count": null,
   "id": "f7cd304b-1d38-442c-86c8-fd54301afe05",
   "metadata": {},
   "outputs": [],
   "source": [
    "print(\"Success!\")"
   ]
  }
 ],
 "metadata": {
  "kernelspec": {
   "display_name": "Python 3 (ipykernel)",
   "language": "python",
   "name": "python3"
  },
  "language_info": {
   "codemirror_mode": {
    "name": "ipython",
    "version": 3
   },
   "file_extension": ".py",
   "mimetype": "text/x-python",
   "name": "python",
   "nbconvert_exporter": "python",
   "pygments_lexer": "ipython3",
   "version": "3.10.6"
  }
 },
 "nbformat": 4,
 "nbformat_minor": 5
}
