{
 "cells": [
  {
   "cell_type": "markdown",
   "id": "c3758ece-9b72-47b4-ae6a-aa364e0443e3",
   "metadata": {},
   "source": [
    "# Item-based Collaborative Filtering on Related Series\n",
    "* Constructs a graph of structurally related series (sequels, prequels, etc.)\n",
    "* Performs item-based collaborative filtering with that graph as the neighborhood kernel"
   ]
  },
  {
   "cell_type": "code",
   "execution_count": null,
   "id": "7cc9334a-2287-41d6-885b-a5cca94fe263",
   "metadata": {},
   "outputs": [],
   "source": [
    "const name = \"ItemCFRelated\";"
   ]
  },
  {
   "cell_type": "code",
   "execution_count": null,
   "id": "d17593ac-3260-4c01-a5df-91edfcd17e13",
   "metadata": {},
   "outputs": [],
   "source": [
    "using LinearAlgebra\n",
    "using SparseArrays\n",
    "import CSV\n",
    "import DataFrames: DataFrame\n",
    "import NBInclude: @nbinclude\n",
    "@nbinclude(\"../Alpha.ipynb\")\n",
    "@nbinclude(\"../Explicit/ExplicitItemCFBase.ipynb\");"
   ]
  },
  {
   "cell_type": "markdown",
   "id": "8e05f8b2-13f5-40e2-b0ca-58a09e71e0b5",
   "metadata": {},
   "source": [
    "## Compute similarity matrices"
   ]
  },
  {
   "cell_type": "code",
   "execution_count": null,
   "id": "035f1456-fc78-4162-9086-2680b64d80bc",
   "metadata": {},
   "outputs": [],
   "source": [
    "function get_similarity_matrix(relationships)\n",
    "    file = get_data_path(\"processed_data/related_series.csv\")\n",
    "    df = DataFrame(CSV.File(file))\n",
    "    df = filter(x -> x.relationship ∈ relationships, df)\n",
    "    sparse(\n",
    "        df.source .+ 1,\n",
    "        df.target .+ 1,\n",
    "        fill(1.0, length(df.source)),\n",
    "        num_items(),\n",
    "        num_items(),\n",
    "    )\n",
    "end;"
   ]
  },
  {
   "cell_type": "code",
   "execution_count": null,
   "id": "853a1cf7-e4b8-4242-8476-dfa410a06fe6",
   "metadata": {},
   "outputs": [],
   "source": [
    "function all_pairs_shortest_paths(S)\n",
    "    # uses the optimization that all edges are weight 1\n",
    "    dists = fill(Inf, size(S)...)\n",
    "    for v = 1:size(S)[1]\n",
    "        dists[v, v] = 0\n",
    "    end\n",
    "    T = I(size(S)[1])\n",
    "\n",
    "    @showprogress for epoch = 1:size(S)[1]\n",
    "        T = T * S\n",
    "        change = false\n",
    "        for (i, j, v) in zip(findnz(T)...)\n",
    "            if dists[i, j] > epoch\n",
    "                dists[i, j] = epoch\n",
    "                change = true\n",
    "            end\n",
    "        end\n",
    "        if !change\n",
    "            break\n",
    "        end\n",
    "    end\n",
    "    dists\n",
    "end;"
   ]
  },
  {
   "cell_type": "code",
   "execution_count": null,
   "id": "367eea12-0544-488e-a8d7-06dbcc18e67f",
   "metadata": {},
   "outputs": [],
   "source": [
    "function get_similarity_matrix_outdir(relationships)\n",
    "    # if the matrix is already stored on disk, return its filepath\n",
    "    # otherwise, regenerate the matrix and store it to disk\n",
    "    outdir = \"$name/$(hash(relationships))\"\n",
    "    if ispath(\"../../data/alphas/$outdir\")\n",
    "        return outdir\n",
    "    end\n",
    "\n",
    "    @debug \"generating similarity matrix for relationships $relationships\"\n",
    "    S = get_similarity_matrix(relationships)\n",
    "    S = collect(1 ./ all_pairs_shortest_paths(S))\n",
    "    S = convert.(Float32, S)\n",
    "    write_params(Dict(\"S\" => S), outdir)\n",
    "    outdir\n",
    "end;"
   ]
  },
  {
   "cell_type": "code",
   "execution_count": null,
   "id": "c1ba0a46-8ebf-4c6f-91d7-ed6a4c330e09",
   "metadata": {},
   "outputs": [],
   "source": [
    "const strict_relations = [\n",
    "    \"side_story\",\n",
    "    \"summary\",\n",
    "    \"parent_story\",\n",
    "    \"sequel\",\n",
    "    \"prequel\",\n",
    "    \"alternative_version\",\n",
    "    \"spin_off\",\n",
    "    \"alternative_setting\",\n",
    "    \"full_story\",\n",
    "];"
   ]
  },
  {
   "cell_type": "code",
   "execution_count": null,
   "id": "d498af19-ae45-4589-9866-bd180c71084c",
   "metadata": {},
   "outputs": [],
   "source": [
    "function max_neighborhood_size(relations)\n",
    "    # returns the size of the largest nonzero neighborhood\n",
    "    S = read_params(get_similarity_matrix_outdir(relations))[\"S\"]\n",
    "    S = 1 ./ S\n",
    "    maxK = 0\n",
    "    for j = 1:size(S)[2]\n",
    "        K = sum((S[:, j] .!= 0) .* (S[:, j] .!= Inf))\n",
    "        if K > maxK\n",
    "            maxK = K\n",
    "        end\n",
    "    end\n",
    "    neighborhood_size = Int(round(maxK))\n",
    "    @debug \"using neighborhood size $neighborhood_size\"\n",
    "    neighborhood_size\n",
    "end;"
   ]
  },
  {
   "cell_type": "code",
   "execution_count": null,
   "id": "54f33074-f2fb-4944-be44-236326860aef",
   "metadata": {},
   "outputs": [],
   "source": [
    "const param = cf_params(\n",
    "    name = \"ItemCFRelated\",\n",
    "    training_residuals = String[],\n",
    "    validation_residuals = String[],\n",
    "    neighborhood_type = \"abs\",\n",
    "    S = get_similarity_matrix_outdir(strict_relations),\n",
    "    K = max_neighborhood_size(strict_relations),\n",
    "    λ = [1.0, 0.0, 0.0],\n",
    ")"
   ]
  },
  {
   "cell_type": "code",
   "execution_count": null,
   "id": "f1313b42-7c94-4070-8e73-3ba876495d2f",
   "metadata": {},
   "outputs": [],
   "source": [
    "write_params(to_dict(param), param.name)"
   ]
  }
 ],
 "metadata": {
  "kernelspec": {
   "display_name": "Julia 1.8.0-rc1",
   "language": "julia",
   "name": "julia-1.8"
  },
  "language_info": {
   "file_extension": ".jl",
   "mimetype": "application/julia",
   "name": "julia",
   "version": "1.8.0"
  }
 },
 "nbformat": 4,
 "nbformat_minor": 5
}
