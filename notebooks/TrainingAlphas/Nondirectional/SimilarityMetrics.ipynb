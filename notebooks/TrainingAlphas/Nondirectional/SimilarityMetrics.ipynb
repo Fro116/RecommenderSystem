{
 "cells": [
  {
   "cell_type": "markdown",
   "id": "c3758ece-9b72-47b4-ae6a-aa364e0443e3",
   "metadata": {},
   "source": [
    "# Similarity metrics\n",
    "* Computes similarity matrics M, where M[i, j] is the similarity between items i, j"
   ]
  },
  {
   "cell_type": "code",
   "execution_count": null,
   "id": "7cc9334a-2287-41d6-885b-a5cca94fe263",
   "metadata": {},
   "outputs": [],
   "source": [
    "const name = \"all/SimilarityMetrics\";"
   ]
  },
  {
   "cell_type": "code",
   "execution_count": null,
   "id": "d17593ac-3260-4c01-a5df-91edfcd17e13",
   "metadata": {},
   "outputs": [],
   "source": [
    "import NBInclude: @nbinclude\n",
    "@nbinclude(\"../Alpha.ipynb\");"
   ]
  },
  {
   "cell_type": "code",
   "execution_count": null,
   "id": "c89b0f7b-795d-4263-bc3a-d610f93dec08",
   "metadata": {},
   "outputs": [],
   "source": [
    "using CSV \n",
    "using DataFrames\n",
    "using SparseArrays"
   ]
  },
  {
   "cell_type": "markdown",
   "id": "8e05f8b2-13f5-40e2-b0ca-58a09e71e0b5",
   "metadata": {},
   "source": [
    "## Compute similarity matrices"
   ]
  },
  {
   "cell_type": "code",
   "execution_count": null,
   "id": "334daf7d-4d90-4f22-993e-0664dbb3e67d",
   "metadata": {},
   "outputs": [],
   "source": [
    "function sparset(df)\n",
    "    sparse(df.user, df.item, df.rating, num_users(), num_items())\n",
    "end;\n",
    "\n",
    "function get_data(recent_years)\n",
    "    df = reduce(\n",
    "        cat,\n",
    "        [\n",
    "            get_split(x, y, z; fields = [:user, :item, :timestamp, :rating]) for\n",
    "            x in [\"training\", \"validation\", \"test\"] for y in [\"random\", \"temporal\"] for\n",
    "            z in [\"implicit\"]\n",
    "        ],\n",
    "    )\n",
    "    df = filter(df, df.timestamp .>= 1 - year_in_timestamp_units() * recent_years)\n",
    "    sparse(df), sparset(df)\n",
    "end;"
   ]
  },
  {
   "cell_type": "code",
   "execution_count": null,
   "id": "287941be-2ad0-4270-8177-92cf6d246100",
   "metadata": {},
   "outputs": [],
   "source": [
    "function get_watch_similarity(; recent_years)\n",
    "    # intersection / union on sets of watches \n",
    "    M, Mt = get_data(recent_years)\n",
    "    W = zeros(Float32, num_items(), num_items())\n",
    "    counts = sum(M, dims = 2)\n",
    "    @tprogress Threads.@threads for i = 1:num_items()\n",
    "        if counts[i] > 0\n",
    "            intersection = M * Mt[:, i]\n",
    "            union = (counts - intersection) .+ counts[i]\n",
    "            W[:, i] = intersection ./ union\n",
    "        end\n",
    "    end\n",
    "    W\n",
    "end;"
   ]
  },
  {
   "cell_type": "code",
   "execution_count": null,
   "id": "367eea12-0544-488e-a8d7-06dbcc18e67f",
   "metadata": {},
   "outputs": [],
   "source": [
    "function save_similarity_matrix(name, S)\n",
    "    outdir = name\n",
    "    S = convert.(Float32, collect(S))\n",
    "    write_params(Dict(\"S\" => S), outdir)\n",
    "end;"
   ]
  },
  {
   "cell_type": "code",
   "execution_count": null,
   "id": "d684aabd-b5a1-4f75-b538-360c790f22ff",
   "metadata": {},
   "outputs": [],
   "source": [
    "function nonparametric(W)\n",
    "    W = copy(W)\n",
    "    @tprogress Threads.@threads for i = 1:size(W)[2]\n",
    "        W[:, i] = invperm(sortperm(W[:, i], rev = true))\n",
    "    end\n",
    "    W = 1 ./ W\n",
    "    0.5 * (W + W')\n",
    "end;"
   ]
  },
  {
   "cell_type": "code",
   "execution_count": null,
   "id": "c0c08130-a539-47a5-b69a-7f082896d5d8",
   "metadata": {},
   "outputs": [],
   "source": [
    "watch_sim = get_watch_similarity(recent_years = 5)\n",
    "save_similarity_matrix(\"all/WatchSimilarity\", watch_sim)\n",
    "save_similarity_matrix(\"all/WatchSimilarityNonparametric\", nonparametric(watch_sim))"
   ]
  },
  {
   "cell_type": "code",
   "execution_count": null,
   "id": "97107d65-6bd2-408d-b614-8b65d3a289ce",
   "metadata": {},
   "outputs": [],
   "source": [
    "function get_anime()\n",
    "    df = DataFrame(\n",
    "        CSV.File(\n",
    "            get_data_path(\"processed_data/anime.csv\"),\n",
    "            ntasks = 1;\n",
    "            stringtype = String,\n",
    "        ),\n",
    "    )\n",
    "    df[:, [:anime_id, :genres, :tags]]\n",
    "end;"
   ]
  },
  {
   "cell_type": "code",
   "execution_count": null,
   "id": "61224d68-872b-431f-a81a-6a8222bba214",
   "metadata": {},
   "outputs": [],
   "source": [
    "function get_content_similarity(col)\n",
    "    anime = get_anime()\n",
    "    uids = DataFrame(CSV.File(get_data_path(\"processed_data/anime_to_uid.csv\")))\n",
    "    anime = innerjoin(uids, anime, on = \"animeid\" => \"anime_id\")\n",
    "    get_feature_list(df) = Set(split(df[2:end-1], \",\"))\n",
    "    features = [Set() for _ = 1:num_items()]\n",
    "    @tprogress Threads.@threads for i = 1:length(anime.uid)\n",
    "        features[anime.uid[i]+1] = get_feature_list(anime[:, col][i])\n",
    "    end\n",
    "    W = zeros(Float32, num_items(), num_items())\n",
    "    @tprogress Threads.@threads for i = 1:num_items()\n",
    "        for j = 1:num_items()\n",
    "            W[i, j] =\n",
    "                length(intersect(features[i], features[j])) /\n",
    "                length(union(features[i], features[j]))\n",
    "        end\n",
    "    end\n",
    "    W\n",
    "end;"
   ]
  },
  {
   "cell_type": "code",
   "execution_count": null,
   "id": "2ca5f7e0-4254-4d44-b9a7-073c3a5e5f76",
   "metadata": {},
   "outputs": [],
   "source": [
    "save_similarity_matrix(\"all/GenreSimilarity\", get_content_similarity(:genres))"
   ]
  },
  {
   "cell_type": "code",
   "execution_count": null,
   "id": "659f5680-8192-4b4f-9def-f8f2cfbdef45",
   "metadata": {},
   "outputs": [],
   "source": [
    "save_similarity_matrix(\"all/TagSimilarity\", get_content_similarity(:tags))"
   ]
  }
 ],
 "metadata": {
  "kernelspec": {
   "display_name": "Julia 1.8.3",
   "language": "julia",
   "name": "julia-1.8"
  },
  "language_info": {
   "file_extension": ".jl",
   "mimetype": "application/julia",
   "name": "julia",
   "version": "1.8.3"
  }
 },
 "nbformat": 4,
 "nbformat_minor": 5
}
