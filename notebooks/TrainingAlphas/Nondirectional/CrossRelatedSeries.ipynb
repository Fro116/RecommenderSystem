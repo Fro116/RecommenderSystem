{
 "cells": [
  {
   "cell_type": "markdown",
   "id": "c3758ece-9b72-47b4-ae6a-aa364e0443e3",
   "metadata": {},
   "source": [
    "# Related Series\n",
    "* Constructs a graph of structurally related series (sequels, prequels, etc.)"
   ]
  },
  {
   "cell_type": "code",
   "execution_count": null,
   "id": "a5906237-4921-4926-b9bf-4ba9a34174a2",
   "metadata": {
    "tags": [
     "parameters"
    ]
   },
   "outputs": [],
   "source": [
    "medium = \"\""
   ]
  },
  {
   "cell_type": "code",
   "execution_count": null,
   "id": "7cc9334a-2287-41d6-885b-a5cca94fe263",
   "metadata": {},
   "outputs": [],
   "source": [
    "const name = \"$medium/all/CrossRelatedSeries\";"
   ]
  },
  {
   "cell_type": "code",
   "execution_count": null,
   "id": "d17593ac-3260-4c01-a5df-91edfcd17e13",
   "metadata": {},
   "outputs": [],
   "source": [
    "using DataFrames\n",
    "using LinearAlgebra\n",
    "using SparseArrays\n",
    "import CSV\n",
    "import DataFrames: DataFrame\n",
    "import NBInclude: @nbinclude\n",
    "@nbinclude(\"../Alpha.ipynb\");"
   ]
  },
  {
   "cell_type": "markdown",
   "id": "8e05f8b2-13f5-40e2-b0ca-58a09e71e0b5",
   "metadata": {},
   "source": [
    "## Compute similarity matrices"
   ]
  },
  {
   "cell_type": "code",
   "execution_count": null,
   "id": "de509e42-93b4-4bb8-b75d-b5d810f0d3a1",
   "metadata": {},
   "outputs": [],
   "source": [
    "function get_source_media(medium)\n",
    "    if medium == \"anime\"\n",
    "        source_media = \"manga\"\n",
    "    elseif medium == \"manga\"\n",
    "        source_media = \"anime\"\n",
    "    else\n",
    "        @assert false\n",
    "    end\n",
    "end;"
   ]
  },
  {
   "cell_type": "code",
   "execution_count": null,
   "id": "e6132e7d-49e6-4811-8b92-b5b215868f16",
   "metadata": {},
   "outputs": [],
   "source": [
    "function get_relations(medium)\n",
    "    source_media = get_source_media(medium)\n",
    "    file = get_data_path(\"processed_data/$(source_media)_$(medium)_related_series.csv\")\n",
    "    df = DataFrame(CSV.File(file, stringtype = String))\n",
    "    replace!(\n",
    "        df.relationship,\n",
    "        \"parent\" => \"parent_story\",\n",
    "        \"alternative\" => \"alternative_version\",\n",
    "        \"source\" => \"adaptation\",\n",
    "    )\n",
    "    df\n",
    "end;"
   ]
  },
  {
   "cell_type": "code",
   "execution_count": null,
   "id": "365f24a8-6fbd-49e9-8a15-a85c5d017439",
   "metadata": {},
   "outputs": [],
   "source": [
    "function get_similarity_matrix(medium, relationships)\n",
    "    df = get_relations(medium)\n",
    "    df = filter(x -> x.relationship ∈ relationships, df)\n",
    "    sparse(\n",
    "        df.source .+ 1,\n",
    "        df.target .+ 1,\n",
    "        ones(Float32, length(df.source)),\n",
    "        num_items(get_source_media(medium)),\n",
    "        num_items(medium),\n",
    "    )\n",
    "end;"
   ]
  },
  {
   "cell_type": "code",
   "execution_count": null,
   "id": "7498a745-740a-4869-bf5e-7a5e3d076c12",
   "metadata": {},
   "outputs": [],
   "source": [
    "# definitions for the relationships can be found at https://myanimelist.net/info.php?go=relationinfo\n",
    "const strict_relations = Set((\"sequel\", \"prequel\", \"parent_story\", \"side_story\"))\n",
    "const recap_relations = Set((\"alternative_version\", \"summary\", \"full_story\", \"adaptation\"))\n",
    "const loose_relations = Set((\"alternative_setting\", \"spin_off\"))\n",
    "const no_relations = Set((\"character\", \"other\"))\n",
    "const all_relations =\n",
    "    union(strict_relations, recap_relations, loose_relations, no_relations)\n",
    "@assert all(map(x -> x ∈ all_relations, get_relations(medium).relationship))"
   ]
  },
  {
   "cell_type": "code",
   "execution_count": null,
   "id": "c92a1fc0-7826-447c-af28-cf734b44b129",
   "metadata": {},
   "outputs": [],
   "source": [
    "S = get_similarity_matrix(medium, all_relations)\n",
    "write_params(Dict(\"S\" => S), \"$medium/all/CrossRelatedSeries\")"
   ]
  },
  {
   "cell_type": "code",
   "execution_count": null,
   "id": "7462a71d-a3d3-4bcc-be12-efd822f71a04",
   "metadata": {},
   "outputs": [],
   "source": [
    "S = get_similarity_matrix(medium, recap_relations)\n",
    "write_params(Dict(\"S\" => S), \"$medium/all/CrossRecapSeries\")"
   ]
  }
 ],
 "metadata": {
  "kernelspec": {
   "display_name": "Julia 1.9.0-rc2",
   "language": "julia",
   "name": "julia-1.9"
  },
  "language_info": {
   "file_extension": ".jl",
   "mimetype": "application/julia",
   "name": "julia",
   "version": "1.9.0"
  }
 },
 "nbformat": 4,
 "nbformat_minor": 5
}
