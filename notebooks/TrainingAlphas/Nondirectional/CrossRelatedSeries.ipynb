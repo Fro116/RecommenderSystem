{
 "cells": [
  {
   "cell_type": "markdown",
   "id": "c3758ece-9b72-47b4-ae6a-aa364e0443e3",
   "metadata": {},
   "source": [
    "# Cross Related Series\n",
    "* Constructs a graph of anime that are related to manga, or vice-versa"
   ]
  },
  {
   "cell_type": "code",
   "execution_count": null,
   "id": "a5906237-4921-4926-b9bf-4ba9a34174a2",
   "metadata": {
    "tags": [
     "parameters"
    ]
   },
   "outputs": [],
   "source": [
    "medium = \"\""
   ]
  },
  {
   "cell_type": "code",
   "execution_count": null,
   "id": "d17593ac-3260-4c01-a5df-91edfcd17e13",
   "metadata": {},
   "outputs": [],
   "source": [
    "using DataFrames\n",
    "using LinearAlgebra\n",
    "using SparseArrays\n",
    "import CSV\n",
    "import DataFrames: DataFrame\n",
    "import NBInclude: @nbinclude\n",
    "@nbinclude(\"../Alpha.ipynb\");"
   ]
  },
  {
   "cell_type": "markdown",
   "id": "8e05f8b2-13f5-40e2-b0ca-58a09e71e0b5",
   "metadata": {},
   "source": [
    "## Compute similarity matrices"
   ]
  },
  {
   "cell_type": "code",
   "execution_count": null,
   "id": "e6132e7d-49e6-4811-8b92-b5b215868f16",
   "metadata": {},
   "outputs": [],
   "source": [
    "function get_cross_media(medium)\n",
    "    if medium == \"anime\"\n",
    "        source_media = \"manga\"\n",
    "    elseif medium == \"manga\"\n",
    "        source_media = \"anime\"\n",
    "    else\n",
    "        @assert false\n",
    "    end\n",
    "end\n",
    "\n",
    "function get_relations(medium, cross_medium)\n",
    "    file = get_data_path(\"processed_data/$(medium)_$(cross_medium)_related_series.csv\")\n",
    "    DataFrame(CSV.File(file, stringtype = String))\n",
    "end\n",
    "\n",
    "function get_similarity_matrix(medium, cross_medium, relationships)\n",
    "    df = get_relations(medium, cross_medium)\n",
    "    df = filter(x -> x.relationship ∈ relationships, df)\n",
    "    sparse(\n",
    "        df.target .+ 1,\n",
    "        df.source .+ 1,\n",
    "        ones(Float32, length(df.source)),\n",
    "        num_items(cross_medium),\n",
    "        num_items(medium),\n",
    "    )\n",
    "end\n",
    "\n",
    "function save_relations(medium, relations, alpha)\n",
    "    same_media_relations = read_params(\"$medium/Nondirectional/$alpha\", true)[\"S\"]\n",
    "    cross_media_relations =\n",
    "        get_similarity_matrix(medium, get_cross_media(medium), relations)\n",
    "    S = cross_media_relations + cross_media_relations * same_media_relations\n",
    "    S[S.!=0] .= 1\n",
    "    write_params(Dict(\"S\" => S), \"$medium/Nondirectional/Cross$alpha\", true)\n",
    "end;"
   ]
  },
  {
   "cell_type": "code",
   "execution_count": null,
   "id": "7498a745-740a-4869-bf5e-7a5e3d076c12",
   "metadata": {},
   "outputs": [],
   "source": [
    "# definitions for the relationships can be found at https://myanimelist.net/info.php?go=relationinfo\n",
    "const strict_relations = Set((\"sequel\", \"prequel\", \"parent_story\", \"side_story\"))\n",
    "const recap_relations = Set((\"alternative_version\", \"summary\", \"full_story\", \"adaptation\"))\n",
    "const loose_relations = Set((\"alternative_setting\", \"spin_off\"))\n",
    "const no_relations = Set((\"character\", \"other\"))\n",
    "const all_relations =\n",
    "    union(strict_relations, recap_relations, loose_relations, no_relations)\n",
    "@assert all(map(x -> x ∈ all_relations, get_relations(medium, medium).relationship))"
   ]
  },
  {
   "cell_type": "code",
   "execution_count": null,
   "id": "7d514e14-4694-4e9f-a56c-518c037632d7",
   "metadata": {},
   "outputs": [],
   "source": [
    "save_relations(\n",
    "    medium,\n",
    "    union(strict_relations, recap_relations, loose_relations),\n",
    "    \"RelatedSeries\",\n",
    ");"
   ]
  },
  {
   "cell_type": "code",
   "execution_count": null,
   "id": "c7cf78ff-0f53-4112-8624-01294c3d1e58",
   "metadata": {},
   "outputs": [],
   "source": [
    "save_relations(medium, recap_relations, \"RecapSeries\");"
   ]
  }
 ],
 "metadata": {
  "kernelspec": {
   "display_name": "Julia 1.9.4",
   "language": "julia",
   "name": "julia-1.9"
  },
  "language_info": {
   "file_extension": ".jl",
   "mimetype": "application/julia",
   "name": "julia",
   "version": "1.9.4"
  }
 },
 "nbformat": 4,
 "nbformat_minor": 5
}
