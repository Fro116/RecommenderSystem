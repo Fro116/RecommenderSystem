{
 "cells": [
  {
   "cell_type": "code",
   "execution_count": 1,
   "id": "cad19447-0cf3-4384-bcbc-5b73a0f0507a",
   "metadata": {},
   "outputs": [],
   "source": [
    "import time\n",
    "\n",
    "import numpy as np\n",
    "import pandas as pd\n",
    "import requests\n",
    "from PIL import Image\n",
    "from sentence_transformers import SentenceTransformer, util\n",
    "from tqdm import tqdm"
   ]
  },
  {
   "cell_type": "code",
   "execution_count": 2,
   "id": "d3c7877c-1dd5-4448-bd8c-f0ab985c7551",
   "metadata": {},
   "outputs": [],
   "source": [
    "anime_to_uid = pd.read_csv(\"../../../data/processed_data/anime_to_uid.csv\")\n",
    "anime = pd.read_csv(\"../../../data/processed_data/anime.csv\", keep_default_na=False)\n",
    "anime = anime.merge(anime_to_uid, on=\"anime_id\")"
   ]
  },
  {
   "cell_type": "code",
   "execution_count": 3,
   "id": "b737dfc2-de6b-4c3f-a9de-bd9b0dfce85e",
   "metadata": {},
   "outputs": [],
   "source": [
    "model = SentenceTransformer(\"clip-ViT-L-14\")"
   ]
  },
  {
   "cell_type": "code",
   "execution_count": 4,
   "id": "bb908b67-f01b-49dc-be11-f93de30b0ff1",
   "metadata": {},
   "outputs": [],
   "source": [
    "url = \"http://images.cocodataset.org/val2017/000000039769.jpg\"\n",
    "image = Image.open(requests.get(url, stream=True).raw)"
   ]
  },
  {
   "cell_type": "code",
   "execution_count": 5,
   "id": "81686d56-a489-41d3-b972-9dc4e9446dde",
   "metadata": {
    "tags": []
   },
   "outputs": [],
   "source": [
    "model = SentenceTransformer(\"clip-ViT-L-14\")\n",
    "K = 768"
   ]
  },
  {
   "cell_type": "code",
   "execution_count": 18,
   "id": "b690fd67-fbb3-4708-a7ca-6f27b071fee5",
   "metadata": {},
   "outputs": [],
   "source": [
    "def embed(main_picture, retry=1):\n",
    "    if not main_picture:\n",
    "        return np.zeros(K)\n",
    "    try:\n",
    "        url = eval(main_picture)[\"large\"]\n",
    "        image = Image.open(requests.get(url, stream=True).raw)\n",
    "        return model.encode(image)\n",
    "    except Exception as e:\n",
    "        print(e)\n",
    "        if retry < 60:\n",
    "            print(f\"sleeping for {retry} seconds\")\n",
    "            time.sleep(retry)            \n",
    "            return embed(main_picture, retry * 2)\n",
    "        return np.zeros(K)"
   ]
  },
  {
   "cell_type": "code",
   "execution_count": 7,
   "id": "5b16a9db-0560-4ad6-9b10-cbc0ba30dbb6",
   "metadata": {},
   "outputs": [],
   "source": [
    "E = np.zeros((K, len(anime_to_uid)))"
   ]
  },
  {
   "cell_type": "code",
   "execution_count": 19,
   "id": "677a9831-87ed-47ed-939a-76067f39eadc",
   "metadata": {
    "tags": []
   },
   "outputs": [
    {
     "name": "stderr",
     "output_type": "stream",
     "text": [
      " 10%|████████████████▎                                                                                                                                                          | 994/10419 [08:13<1:13:05,  2.15it/s]"
     ]
    },
    {
     "name": "stdout",
     "output_type": "stream",
     "text": [
      "cannot identify image file <_io.BytesIO object at 0x2a0e9f860>\n",
      "sleeping for 1 seconds\n",
      "cannot identify image file <_io.BytesIO object at 0x2a0e9fd10>\n",
      "sleeping for 2 seconds\n",
      "cannot identify image file <_io.BytesIO object at 0x2a0e9f900>\n",
      "sleeping for 4 seconds\n",
      "cannot identify image file <_io.BytesIO object at 0x2a0e9f720>\n",
      "sleeping for 8 seconds\n",
      "cannot identify image file <_io.BytesIO object at 0x2a10918b0>\n",
      "sleeping for 16 seconds\n",
      "cannot identify image file <_io.BytesIO object at 0x2a1091720>\n",
      "sleeping for 32 seconds\n"
     ]
    },
    {
     "name": "stderr",
     "output_type": "stream",
     "text": [
      " 10%|████████████████▏                                                                                                                                                         | 995/10419 [09:58<83:21:28, 31.84s/it]"
     ]
    },
    {
     "name": "stdout",
     "output_type": "stream",
     "text": [
      "cannot identify image file <_io.BytesIO object at 0x2a1091f40>\n"
     ]
    },
    {
     "name": "stderr",
     "output_type": "stream",
     "text": [
      " 17%|████████████████████████████▎                                                                                                                                             | 1738/10419 [16:01<1:01:53,  2.34it/s]"
     ]
    },
    {
     "name": "stdout",
     "output_type": "stream",
     "text": [
      "cannot identify image file <_io.BytesIO object at 0x2a0e9f860>\n",
      "sleeping for 1 seconds\n",
      "cannot identify image file <_io.BytesIO object at 0x2a0e9f6d0>\n",
      "sleeping for 2 seconds\n",
      "cannot identify image file <_io.BytesIO object at 0x2a0e9f900>\n",
      "sleeping for 4 seconds\n",
      "cannot identify image file <_io.BytesIO object at 0x2a1091180>\n",
      "sleeping for 8 seconds\n",
      "cannot identify image file <_io.BytesIO object at 0x2a10919f0>\n",
      "sleeping for 16 seconds\n",
      "cannot identify image file <_io.BytesIO object at 0x2a1091360>\n",
      "sleeping for 32 seconds\n"
     ]
    },
    {
     "name": "stderr",
     "output_type": "stream",
     "text": [
      " 17%|████████████████████████████▏                                                                                                                                            | 1739/10419 [17:05<46:53:52, 19.45s/it]"
     ]
    },
    {
     "name": "stdout",
     "output_type": "stream",
     "text": [
      "cannot identify image file <_io.BytesIO object at 0x2a10916d0>\n"
     ]
    },
    {
     "name": "stderr",
     "output_type": "stream",
     "text": [
      " 19%|████████████████████████████████                                                                                                                                          | 1965/10419 [18:59<1:20:36,  1.75it/s]"
     ]
    },
    {
     "name": "stdout",
     "output_type": "stream",
     "text": [
      "cannot identify image file <_io.BytesIO object at 0x2a0e9f540>\n",
      "sleeping for 1 seconds\n",
      "cannot identify image file <_io.BytesIO object at 0x2a0e9f6d0>\n",
      "sleeping for 2 seconds\n",
      "cannot identify image file <_io.BytesIO object at 0x2a0e9fe50>\n",
      "sleeping for 4 seconds\n",
      "cannot identify image file <_io.BytesIO object at 0x2a0e9f360>\n",
      "sleeping for 8 seconds\n",
      "cannot identify image file <_io.BytesIO object at 0x2a0e9f900>\n",
      "sleeping for 16 seconds\n",
      "cannot identify image file <_io.BytesIO object at 0x2a1091680>\n",
      "sleeping for 32 seconds\n"
     ]
    },
    {
     "name": "stderr",
     "output_type": "stream",
     "text": [
      " 19%|███████████████████████████████▉                                                                                                                                         | 1966/10419 [20:03<46:01:16, 19.60s/it]"
     ]
    },
    {
     "name": "stdout",
     "output_type": "stream",
     "text": [
      "cannot identify image file <_io.BytesIO object at 0x2a1091e00>\n"
     ]
    },
    {
     "name": "stderr",
     "output_type": "stream",
     "text": [
      " 37%|██████████████████████████████████████████████████████████████                                                                                                            | 3806/10419 [35:56<1:01:30,  1.79it/s]"
     ]
    },
    {
     "name": "stdout",
     "output_type": "stream",
     "text": [
      "cannot identify image file <_io.BytesIO object at 0x2a0e9f860>\n",
      "sleeping for 1 seconds\n",
      "cannot identify image file <_io.BytesIO object at 0x2a0e9fe50>\n",
      "sleeping for 2 seconds\n",
      "cannot identify image file <_io.BytesIO object at 0x2a0e9f720>\n",
      "sleeping for 4 seconds\n",
      "cannot identify image file <_io.BytesIO object at 0x2a0e9fd10>\n",
      "sleeping for 8 seconds\n",
      "cannot identify image file <_io.BytesIO object at 0x2a10913b0>\n",
      "sleeping for 16 seconds\n",
      "cannot identify image file <_io.BytesIO object at 0x2a1091630>\n",
      "sleeping for 32 seconds\n"
     ]
    },
    {
     "name": "stderr",
     "output_type": "stream",
     "text": [
      " 37%|█████████████████████████████████████████████████████████████▊                                                                                                           | 3807/10419 [37:00<35:58:36, 19.59s/it]"
     ]
    },
    {
     "name": "stdout",
     "output_type": "stream",
     "text": [
      "cannot identify image file <_io.BytesIO object at 0x2a1091f90>\n"
     ]
    },
    {
     "name": "stderr",
     "output_type": "stream",
     "text": [
      " 38%|█████████████████████████████████████████████████████████████████▋                                                                                                          | 3980/10419 [38:29<54:06,  1.98it/s]"
     ]
    },
    {
     "name": "stdout",
     "output_type": "stream",
     "text": [
      "cannot identify image file <_io.BytesIO object at 0x2a0e9fd10>\n",
      "sleeping for 1 seconds\n",
      "cannot identify image file <_io.BytesIO object at 0x2a0e9f540>\n",
      "sleeping for 2 seconds\n",
      "cannot identify image file <_io.BytesIO object at 0x2a1091a40>\n",
      "sleeping for 4 seconds\n",
      "cannot identify image file <_io.BytesIO object at 0x2a1091360>\n",
      "sleeping for 8 seconds\n",
      "cannot identify image file <_io.BytesIO object at 0x2a1091090>\n",
      "sleeping for 16 seconds\n",
      "cannot identify image file <_io.BytesIO object at 0x2a1091180>\n",
      "sleeping for 32 seconds\n"
     ]
    },
    {
     "name": "stderr",
     "output_type": "stream",
     "text": [
      " 38%|████████████████████████████████████████████████████████████████▌                                                                                                        | 3981/10419 [39:33<34:56:29, 19.54s/it]"
     ]
    },
    {
     "name": "stdout",
     "output_type": "stream",
     "text": [
      "cannot identify image file <_io.BytesIO object at 0x2a1091720>\n"
     ]
    },
    {
     "name": "stderr",
     "output_type": "stream",
     "text": [
      " 43%|█████████████████████████████████████████████████████████████████████████▊                                                                                                  | 4475/10419 [43:55<51:01,  1.94it/s]"
     ]
    },
    {
     "name": "stdout",
     "output_type": "stream",
     "text": [
      "cannot identify image file <_io.BytesIO object at 0x2a0e9f720>\n",
      "sleeping for 1 seconds\n",
      "cannot identify image file <_io.BytesIO object at 0x2a0e9f540>\n",
      "sleeping for 2 seconds\n",
      "cannot identify image file <_io.BytesIO object at 0x2a0e9fe50>\n",
      "sleeping for 4 seconds\n",
      "cannot identify image file <_io.BytesIO object at 0x2a10916d0>\n",
      "sleeping for 8 seconds\n",
      "cannot identify image file <_io.BytesIO object at 0x2a10919a0>\n",
      "sleeping for 16 seconds\n",
      "cannot identify image file <_io.BytesIO object at 0x2a1091a90>\n",
      "sleeping for 32 seconds\n"
     ]
    },
    {
     "name": "stderr",
     "output_type": "stream",
     "text": [
      " 43%|████████████████████████████████████████████████████████████████████████▌                                                                                                | 4476/10419 [44:59<32:18:12, 19.57s/it]"
     ]
    },
    {
     "name": "stdout",
     "output_type": "stream",
     "text": [
      "cannot identify image file <_io.BytesIO object at 0x2a1091c20>\n"
     ]
    },
    {
     "name": "stderr",
     "output_type": "stream",
     "text": [
      " 49%|████████████████████████████████████████████████████████████████████████████████████▍                                                                                       | 5113/10419 [50:33<44:58,  1.97it/s]"
     ]
    },
    {
     "name": "stdout",
     "output_type": "stream",
     "text": [
      "cannot identify image file <_io.BytesIO object at 0x2a0e9f860>\n",
      "sleeping for 1 seconds\n",
      "cannot identify image file <_io.BytesIO object at 0x2a0e9ff40>\n",
      "sleeping for 2 seconds\n",
      "cannot identify image file <_io.BytesIO object at 0x2a0e9fe50>\n",
      "sleeping for 4 seconds\n",
      "cannot identify image file <_io.BytesIO object at 0x2a0e9f6d0>\n",
      "sleeping for 8 seconds\n",
      "cannot identify image file <_io.BytesIO object at 0x2a1091090>\n",
      "sleeping for 16 seconds\n",
      "cannot identify image file <_io.BytesIO object at 0x2a1091040>\n",
      "sleeping for 32 seconds\n"
     ]
    },
    {
     "name": "stderr",
     "output_type": "stream",
     "text": [
      " 49%|██████████████████████████████████████████████████████████████████████████████████▉                                                                                      | 5114/10419 [51:37<28:48:10, 19.55s/it]"
     ]
    },
    {
     "name": "stdout",
     "output_type": "stream",
     "text": [
      "cannot identify image file <_io.BytesIO object at 0x2a1091ae0>\n"
     ]
    },
    {
     "name": "stderr",
     "output_type": "stream",
     "text": [
      " 51%|███████████████████████████████████████████████████████████████████████████████████████▏                                                                                    | 5278/10419 [52:58<47:05,  1.82it/s]"
     ]
    },
    {
     "name": "stdout",
     "output_type": "stream",
     "text": [
      "cannot identify image file <_io.BytesIO object at 0x2a10913b0>\n",
      "sleeping for 1 seconds\n",
      "cannot identify image file <_io.BytesIO object at 0x2a1091c70>\n",
      "sleeping for 2 seconds\n",
      "cannot identify image file <_io.BytesIO object at 0x2a1091db0>\n",
      "sleeping for 4 seconds\n",
      "cannot identify image file <_io.BytesIO object at 0x2a1091ae0>\n",
      "sleeping for 8 seconds\n",
      "cannot identify image file <_io.BytesIO object at 0x2a1091d60>\n",
      "sleeping for 16 seconds\n",
      "cannot identify image file <_io.BytesIO object at 0x2a1091f40>\n",
      "sleeping for 32 seconds\n"
     ]
    },
    {
     "name": "stderr",
     "output_type": "stream",
     "text": [
      " 51%|█████████████████████████████████████████████████████████████████████████████████████▋                                                                                   | 5279/10419 [54:02<27:57:12, 19.58s/it]"
     ]
    },
    {
     "name": "stdout",
     "output_type": "stream",
     "text": [
      "cannot identify image file <_io.BytesIO object at 0x2a0e9fe50>\n"
     ]
    },
    {
     "name": "stderr",
     "output_type": "stream",
     "text": [
      " 76%|█████████████████████████████████████████████████████████████████████████████████████████████████████████████████████████████████▊                                        | 7957/10419 [1:18:19<20:23,  2.01it/s]"
     ]
    },
    {
     "name": "stdout",
     "output_type": "stream",
     "text": [
      "cannot identify image file <_io.BytesIO object at 0x2a0e9f6d0>\n",
      "sleeping for 1 seconds\n",
      "cannot identify image file <_io.BytesIO object at 0x2a0e9ff40>\n",
      "sleeping for 2 seconds\n",
      "cannot identify image file <_io.BytesIO object at 0x2a1091900>\n",
      "sleeping for 4 seconds\n",
      "cannot identify image file <_io.BytesIO object at 0x2a10914a0>\n",
      "sleeping for 8 seconds\n",
      "cannot identify image file <_io.BytesIO object at 0x2a1091590>\n",
      "sleeping for 16 seconds\n",
      "cannot identify image file <_io.BytesIO object at 0x2a1091450>\n",
      "sleeping for 32 seconds\n"
     ]
    },
    {
     "name": "stderr",
     "output_type": "stream",
     "text": [
      " 76%|███████████████████████████████████████████████████████████████████████████████████████████████████████████████████████████████▌                                       | 7958/10419 [1:19:23<13:21:14, 19.53s/it]"
     ]
    },
    {
     "name": "stdout",
     "output_type": "stream",
     "text": [
      "cannot identify image file <_io.BytesIO object at 0x2a1091e50>\n"
     ]
    },
    {
     "name": "stderr",
     "output_type": "stream",
     "text": [
      " 86%|██████████████████████████████████████████████████████████████████████████████████████████████████████████████████████████████████████████████████▋                       | 8991/10419 [1:28:45<13:20,  1.78it/s]"
     ]
    },
    {
     "name": "stdout",
     "output_type": "stream",
     "text": [
      "cannot identify image file <_io.BytesIO object at 0x2a0e9f6d0>\n",
      "sleeping for 1 seconds\n",
      "cannot identify image file <_io.BytesIO object at 0x2a0e9f900>\n",
      "sleeping for 2 seconds\n",
      "cannot identify image file <_io.BytesIO object at 0x2a1091130>\n",
      "sleeping for 4 seconds\n",
      "cannot identify image file <_io.BytesIO object at 0x2a1091180>\n",
      "sleeping for 8 seconds\n",
      "cannot identify image file <_io.BytesIO object at 0x2a1091c70>\n",
      "sleeping for 16 seconds\n",
      "cannot identify image file <_io.BytesIO object at 0x2a10916d0>\n",
      "sleeping for 32 seconds\n"
     ]
    },
    {
     "name": "stderr",
     "output_type": "stream",
     "text": [
      " 86%|████████████████████████████████████████████████████████████████████████████████████████████████████████████████████████████████████████████████▉                       | 8992/10419 [1:29:49<7:44:37, 19.54s/it]"
     ]
    },
    {
     "name": "stdout",
     "output_type": "stream",
     "text": [
      "cannot identify image file <_io.BytesIO object at 0x2a1091e50>\n"
     ]
    },
    {
     "name": "stderr",
     "output_type": "stream",
     "text": [
      " 92%|███████████████████████████████████████████████████████████████████████████████████████████████████████████████████████████████████████████████████████████▊              | 9548/10419 [1:34:33<07:11,  2.02it/s]"
     ]
    },
    {
     "name": "stdout",
     "output_type": "stream",
     "text": [
      "cannot identify image file <_io.BytesIO object at 0x2a0e9fd10>\n",
      "sleeping for 1 seconds\n",
      "cannot identify image file <_io.BytesIO object at 0x2a0e9f6d0>\n",
      "sleeping for 2 seconds\n",
      "cannot identify image file <_io.BytesIO object at 0x2a0e9ff40>\n",
      "sleeping for 4 seconds\n",
      "cannot identify image file <_io.BytesIO object at 0x2a1091a90>\n",
      "sleeping for 8 seconds\n",
      "cannot identify image file <_io.BytesIO object at 0x2a1091b80>\n",
      "sleeping for 16 seconds\n",
      "cannot identify image file <_io.BytesIO object at 0x2a1091590>\n",
      "sleeping for 32 seconds\n"
     ]
    },
    {
     "name": "stderr",
     "output_type": "stream",
     "text": [
      " 92%|█████████████████████████████████████████████████████████████████████████████████████████████████████████████████████████████████████████████████████████▉              | 9549/10419 [1:35:37<4:42:42, 19.50s/it]"
     ]
    },
    {
     "name": "stdout",
     "output_type": "stream",
     "text": [
      "cannot identify image file <_io.BytesIO object at 0x2a1091a40>\n"
     ]
    },
    {
     "name": "stderr",
     "output_type": "stream",
     "text": [
      " 94%|███████████████████████████████████████████████████████████████████████████████████████████████████████████████████████████████████████████████████████████████▊          | 9797/10419 [1:37:51<05:56,  1.75it/s]"
     ]
    },
    {
     "name": "stdout",
     "output_type": "stream",
     "text": [
      "cannot identify image file <_io.BytesIO object at 0x2a0e9ff40>\n",
      "sleeping for 1 seconds\n",
      "cannot identify image file <_io.BytesIO object at 0x2a0e9fd10>\n",
      "sleeping for 2 seconds\n",
      "cannot identify image file <_io.BytesIO object at 0x2a1091360>\n",
      "sleeping for 4 seconds\n",
      "cannot identify image file <_io.BytesIO object at 0x2a1091ef0>\n",
      "sleeping for 8 seconds\n",
      "cannot identify image file <_io.BytesIO object at 0x2a1091220>\n",
      "sleeping for 16 seconds\n",
      "cannot identify image file <_io.BytesIO object at 0x2a1091d60>\n",
      "sleeping for 32 seconds\n"
     ]
    },
    {
     "name": "stderr",
     "output_type": "stream",
     "text": [
      " 94%|█████████████████████████████████████████████████████████████████████████████████████████████████████████████████████████████████████████████████████████████▉          | 9798/10419 [1:38:55<3:22:51, 19.60s/it]"
     ]
    },
    {
     "name": "stdout",
     "output_type": "stream",
     "text": [
      "cannot identify image file <_io.BytesIO object at 0x2a10919a0>\n"
     ]
    },
    {
     "name": "stderr",
     "output_type": "stream",
     "text": [
      " 94%|████████████████████████████████████████████████████████████████████████████████████████████████████████████████████████████████████████████████████████████████▎         | 9825/10419 [1:39:09<05:12,  1.90it/s]"
     ]
    },
    {
     "name": "stdout",
     "output_type": "stream",
     "text": [
      "cannot identify image file <_io.BytesIO object at 0x2a0e9f6d0>\n",
      "sleeping for 1 seconds\n",
      "cannot identify image file <_io.BytesIO object at 0x2a0e9f720>\n",
      "sleeping for 2 seconds\n",
      "cannot identify image file <_io.BytesIO object at 0x2a0e9fe50>\n",
      "sleeping for 4 seconds\n",
      "cannot identify image file <_io.BytesIO object at 0x2a0e9ff40>\n",
      "sleeping for 8 seconds\n",
      "cannot identify image file <_io.BytesIO object at 0x2a10914f0>\n",
      "sleeping for 16 seconds\n",
      "cannot identify image file <_io.BytesIO object at 0x2a10916d0>\n",
      "sleeping for 32 seconds\n"
     ]
    },
    {
     "name": "stderr",
     "output_type": "stream",
     "text": [
      " 94%|██████████████████████████████████████████████████████████████████████████████████████████████████████████████████████████████████████████████████████████████▍         | 9826/10419 [1:40:13<3:13:38, 19.59s/it]"
     ]
    },
    {
     "name": "stdout",
     "output_type": "stream",
     "text": [
      "cannot identify image file <_io.BytesIO object at 0x2a1091b80>\n"
     ]
    },
    {
     "name": "stderr",
     "output_type": "stream",
     "text": [
      " 98%|█████████████████████████████████████████████████████████████████████████████████████████████████████████████████████████████████████████████████████████████████████▌   | 10204/10419 [1:43:37<02:00,  1.78it/s]"
     ]
    },
    {
     "name": "stdout",
     "output_type": "stream",
     "text": [
      "cannot identify image file <_io.BytesIO object at 0x2a10912c0>\n",
      "sleeping for 1 seconds\n",
      "cannot identify image file <_io.BytesIO object at 0x2a1091a40>\n",
      "sleeping for 2 seconds\n",
      "cannot identify image file <_io.BytesIO object at 0x2a1091130>\n",
      "sleeping for 4 seconds\n",
      "cannot identify image file <_io.BytesIO object at 0x2a10914a0>\n",
      "sleeping for 8 seconds\n",
      "cannot identify image file <_io.BytesIO object at 0x2a1091450>\n",
      "sleeping for 16 seconds\n",
      "cannot identify image file <_io.BytesIO object at 0x2a1091540>\n",
      "sleeping for 32 seconds\n"
     ]
    },
    {
     "name": "stderr",
     "output_type": "stream",
     "text": [
      " 98%|███████████████████████████████████████████████████████████████████████████████████████████████████████████████████████████████████████████████████████████████████▌   | 10205/10419 [1:44:41<1:09:42, 19.55s/it]"
     ]
    },
    {
     "name": "stdout",
     "output_type": "stream",
     "text": [
      "cannot identify image file <_io.BytesIO object at 0x2a1091b80>\n"
     ]
    },
    {
     "name": "stderr",
     "output_type": "stream",
     "text": [
      " 99%|██████████████████████████████████████████████████████████████████████████████████████████████████████████████████████████████████████████████████████████████████████▉  | 10295/10419 [1:45:31<01:09,  1.77it/s]"
     ]
    },
    {
     "name": "stdout",
     "output_type": "stream",
     "text": [
      "cannot identify image file <_io.BytesIO object at 0x2a0e9f540>\n",
      "sleeping for 1 seconds\n",
      "cannot identify image file <_io.BytesIO object at 0x2a0e9f860>\n",
      "sleeping for 2 seconds\n",
      "cannot identify image file <_io.BytesIO object at 0x2a0e9f900>\n",
      "sleeping for 4 seconds\n",
      "cannot identify image file <_io.BytesIO object at 0x2a0e9f6d0>\n",
      "sleeping for 8 seconds\n",
      "cannot identify image file <_io.BytesIO object at 0x2a10916d0>\n",
      "sleeping for 16 seconds\n",
      "cannot identify image file <_io.BytesIO object at 0x2a1091f90>\n",
      "sleeping for 32 seconds\n"
     ]
    },
    {
     "name": "stderr",
     "output_type": "stream",
     "text": [
      " 99%|███████████████████████████████████████████████████████████████████████████████████████████████████████████████████████████████████████████████████████████████████████  | 10296/10419 [1:46:35<40:02, 19.53s/it]"
     ]
    },
    {
     "name": "stdout",
     "output_type": "stream",
     "text": [
      "cannot identify image file <_io.BytesIO object at 0x2a1091db0>\n"
     ]
    },
    {
     "name": "stderr",
     "output_type": "stream",
     "text": [
      " 99%|███████████████████████████████████████████████████████████████████████████████████████████████████████████████████████████████████████████████████████████████████████▍ | 10323/10419 [1:46:48<00:35,  2.69it/s]"
     ]
    },
    {
     "name": "stdout",
     "output_type": "stream",
     "text": [
      "cannot identify image file <_io.BytesIO object at 0x2a0e9f360>\n",
      "sleeping for 1 seconds\n",
      "cannot identify image file <_io.BytesIO object at 0x2a0e9f900>\n",
      "sleeping for 2 seconds\n",
      "cannot identify image file <_io.BytesIO object at 0x2a0e9f720>\n",
      "sleeping for 4 seconds\n",
      "cannot identify image file <_io.BytesIO object at 0x2a0e9f6d0>\n",
      "sleeping for 8 seconds\n",
      "cannot identify image file <_io.BytesIO object at 0x2a0e9fd10>\n",
      "sleeping for 16 seconds\n",
      "cannot identify image file <_io.BytesIO object at 0x2a0e9fe50>\n",
      "sleeping for 32 seconds\n"
     ]
    },
    {
     "name": "stderr",
     "output_type": "stream",
     "text": [
      " 99%|███████████████████████████████████████████████████████████████████████████████████████████████████████████████████████████████████████████████████████████████████████▍ | 10324/10419 [1:47:52<25:28, 16.09s/it]"
     ]
    },
    {
     "name": "stdout",
     "output_type": "stream",
     "text": [
      "cannot identify image file <_io.BytesIO object at 0x2a1091180>\n"
     ]
    },
    {
     "name": "stderr",
     "output_type": "stream",
     "text": [
      "100%|█████████████████████████████████████████████████████████████████████████████████████████████████████████████████████████████████████████████████████████████████████████| 10419/10419 [1:48:43<00:00,  1.60it/s]\n"
     ]
    }
   ],
   "source": [
    "for i in tqdm(range(len(anime))):\n",
    "    E[:, anime.uid[i]] = embed(anime.main_picture[i])"
   ]
  },
  {
   "cell_type": "code",
   "execution_count": 27,
   "id": "865a0e3b-6dbd-491e-9918-52ff521ac106",
   "metadata": {},
   "outputs": [],
   "source": [
    "np.savetxt(\"../../../data/processed_data/image_embedding.csv\", E, delimiter=\",\")"
   ]
  }
 ],
 "metadata": {
  "kernelspec": {
   "display_name": "Python 3 (ipykernel)",
   "language": "python",
   "name": "python3"
  },
  "language_info": {
   "codemirror_mode": {
    "name": "ipython",
    "version": 3
   },
   "file_extension": ".py",
   "mimetype": "text/x-python",
   "name": "python",
   "nbconvert_exporter": "python",
   "pygments_lexer": "ipython3",
   "version": "3.8.9"
  }
 },
 "nbformat": 4,
 "nbformat_minor": 5
}
