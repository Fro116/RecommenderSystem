{
 "cells": [
  {
   "cell_type": "markdown",
   "id": "34f6e653-a085-4ced-98a4-385398a5627d",
   "metadata": {
    "tags": []
   },
   "source": [
    "# ItemMetadata"
   ]
  },
  {
   "cell_type": "code",
   "execution_count": 1,
   "id": "5f693eb8-9aab-4305-a6ee-17e885f3f24d",
   "metadata": {
    "tags": []
   },
   "outputs": [],
   "source": [
    "using CSV\n",
    "using DataFrames\n",
    "using Dates\n",
    "\n",
    "import DataStructures: DefaultDict\n",
    "import NBInclude: @nbinclude\n",
    "@nbinclude(\"../Alpha.ipynb\");"
   ]
  },
  {
   "cell_type": "code",
   "execution_count": 2,
   "id": "f9434f25-d0f4-4d30-ad69-eea37a9e82d1",
   "metadata": {},
   "outputs": [],
   "source": [
    "anime = DataFrame(CSV.File(get_data_path(\"processed_data/anime.csv\"), ntasks = 1))\n",
    "anime_to_uid = DataFrame(CSV.File(get_data_path(\"processed_data/anime_to_uid.csv\")))\n",
    "anime_to_uid = innerjoin(anime_to_uid, anime, on = \"anime_id\");"
   ]
  },
  {
   "cell_type": "code",
   "execution_count": 3,
   "id": "251d3382-2da9-4465-a0a6-6fdd5d60464e",
   "metadata": {},
   "outputs": [],
   "source": [
    "function date_transform(x)\n",
    "    if ismissing(x)\n",
    "        return 0\n",
    "    else\n",
    "        return Dates.value(x)\n",
    "    end\n",
    "end;"
   ]
  },
  {
   "cell_type": "code",
   "execution_count": 4,
   "id": "87c27621-9dfd-4dec-a5e7-ccd38c58d629",
   "metadata": {},
   "outputs": [],
   "source": [
    "function capitalize(s::String)\n",
    "    join(uppercasefirst.(split(s, \"_\")), \"\")\n",
    "end;"
   ]
  },
  {
   "cell_type": "code",
   "execution_count": 5,
   "id": "60df7594-2bcc-4311-b731-f200accd91c2",
   "metadata": {},
   "outputs": [],
   "source": [
    "function write_feature(feature; categorical = false, transform = identity)\n",
    "    @assert !categorical\n",
    "    outdir = \"Item\" * capitalize(feature)\n",
    "    u = Dict(Pair.(anime_to_uid.uid, transform.(anime_to_uid[:, feature])))\n",
    "    write_params(Dict(\"u\" => u), outdir)\n",
    "\n",
    "    function make_prediction(users, items, u)\n",
    "        u = DefaultDict(zero(Float32), u)\n",
    "        r = Array{Float32}(undef, length(users))\n",
    "        Threads.@threads for i = 1:length(r)\n",
    "            r[i] = u[users[i]]\n",
    "        end\n",
    "        r\n",
    "    end\n",
    "    model(users, items) = make_prediction(users, items, u)\n",
    "    write_alpha(model, [], true, outdir; log_splits = false)\n",
    "end;"
   ]
  },
  {
   "cell_type": "code",
   "execution_count": 6,
   "id": "4d8ee147-9e07-475c-9eb9-33a6e94cd067",
   "metadata": {},
   "outputs": [
    {
     "data": {
      "text/plain": [
       "22-element Vector{String}:\n",
       " \"anime_id\"\n",
       " \"uid\"\n",
       " \"title\"\n",
       " \"main_picture\"\n",
       " \"alternative_titles\"\n",
       " \"start_date\"\n",
       " \"end_date\"\n",
       " \"synopsis\"\n",
       " \"num_list_users\"\n",
       " \"num_scoring_users\"\n",
       " \"nsfw\"\n",
       " \"medium\"\n",
       " \"status\"\n",
       " \"num_episodes\"\n",
       " \"start_season\"\n",
       " \"source\"\n",
       " \"average_episode_duration\"\n",
       " \"studios\"\n",
       " \"related_anime\"\n",
       " \"recommendations\"\n",
       " \"genres\"\n",
       " \"tags\""
      ]
     },
     "execution_count": 6,
     "metadata": {},
     "output_type": "execute_result"
    }
   ],
   "source": [
    "names(anime_to_uid)"
   ]
  },
  {
   "cell_type": "code",
   "execution_count": 7,
   "id": "d7b0d8ab-3671-43a7-b289-d776303a5e17",
   "metadata": {},
   "outputs": [],
   "source": [
    "write_feature(\"average_episode_duration\")"
   ]
  },
  {
   "cell_type": "code",
   "execution_count": 8,
   "id": "9d27d9d2-5d03-423e-9993-df3fb1110bfa",
   "metadata": {},
   "outputs": [],
   "source": [
    "write_feature(\"start_date\"; transform = date_transform)"
   ]
  },
  {
   "cell_type": "code",
   "execution_count": 9,
   "id": "8367b917-66fa-4296-b4f0-6f6f3f017e7d",
   "metadata": {},
   "outputs": [],
   "source": [
    "write_feature(\"end_date\"; transform = date_transform)"
   ]
  }
 ],
 "metadata": {
  "kernelspec": {
   "display_name": "Julia 1.8.0-rc1",
   "language": "julia",
   "name": "julia-1.8"
  },
  "language_info": {
   "file_extension": ".jl",
   "mimetype": "application/julia",
   "name": "julia",
   "version": "1.8.0"
  }
 },
 "nbformat": 4,
 "nbformat_minor": 5
}
