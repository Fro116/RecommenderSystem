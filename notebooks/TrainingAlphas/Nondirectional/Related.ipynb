{
 "cells": [
  {
   "cell_type": "markdown",
   "id": "c3758ece-9b72-47b4-ae6a-aa364e0443e3",
   "metadata": {
    "editable": true,
    "slideshow": {
     "slide_type": ""
    },
    "tags": []
   },
   "source": [
    "# Related Series\n",
    "* Constructs graphs of structurally related series (sequels, prequels, etc.)"
   ]
  },
  {
   "cell_type": "code",
   "execution_count": null,
   "id": "b3392eab-3b49-4e88-b4ea-2f5bfad3ee8b",
   "metadata": {
    "editable": true,
    "slideshow": {
     "slide_type": ""
    },
    "tags": []
   },
   "outputs": [],
   "source": [
    "import NBInclude: @nbinclude\n",
    "@nbinclude(\"../TrainingAlpha.ipynb\");"
   ]
  },
  {
   "cell_type": "code",
   "execution_count": null,
   "id": "a5906237-4921-4926-b9bf-4ba9a34174a2",
   "metadata": {
    "editable": true,
    "slideshow": {
     "slide_type": ""
    },
    "tags": [
     "parameters"
    ]
   },
   "outputs": [],
   "source": [
    "version = \"\"\n",
    "dataset = \"\"\n",
    "medium = \"\"\n",
    "metric = \"\""
   ]
  },
  {
   "cell_type": "code",
   "execution_count": null,
   "id": "d17593ac-3260-4c01-a5df-91edfcd17e13",
   "metadata": {
    "editable": true,
    "slideshow": {
     "slide_type": ""
    },
    "tags": []
   },
   "outputs": [],
   "source": [
    "import SparseArrays;"
   ]
  },
  {
   "cell_type": "code",
   "execution_count": null,
   "id": "035f1456-fc78-4162-9086-2680b64d80bc",
   "metadata": {
    "editable": true,
    "slideshow": {
     "slide_type": ""
    },
    "tags": []
   },
   "outputs": [],
   "source": [
    "function get_relations(source_medium, target_medium, relations)\n",
    "    df = read_csv(get_data_path(\"processed_data/$source_medium.relations.csv\"))\n",
    "    df = filter(\n",
    "        x ->\n",
    "            x.source_media == source_medium &&\n",
    "                x.target_media == target_medium &&\n",
    "                x.relation ∈ relations,\n",
    "        df,\n",
    "    )\n",
    "    SparseArrays.sparse(\n",
    "        parse.(Int32, df.source_id),\n",
    "        parse.(Int32, df.target_id),\n",
    "        fill(1.0f0, length(df.source_id)),\n",
    "        num_items(source_medium),\n",
    "        num_items(target_medium),\n",
    "    )\n",
    "end;"
   ]
  },
  {
   "cell_type": "code",
   "execution_count": null,
   "id": "a8b39b46-9ac7-4b18-b8dd-ef3f741732a0",
   "metadata": {},
   "outputs": [],
   "source": [
    "function transitive_closure(S)\n",
    "    closure = convert.(Bool, S)\n",
    "    @showprogress for _ = 1:first(size(closure))\n",
    "        new_closure = closure .| ((closure * closure) .> 0)\n",
    "        if new_closure == closure\n",
    "            break\n",
    "        end\n",
    "        closure = new_closure\n",
    "    end\n",
    "    convert.(eltype(S), closure)\n",
    "end;"
   ]
  },
  {
   "cell_type": "code",
   "execution_count": null,
   "id": "367eea12-0544-488e-a8d7-06dbcc18e67f",
   "metadata": {},
   "outputs": [],
   "source": [
    "function get_matrix(medium, relations; symmetric = false, transitive = false)\n",
    "    S = get_relations(medium, medium, relations)\n",
    "    if symmetric\n",
    "        S = max.(S, S')\n",
    "    end\n",
    "    if transitive\n",
    "        S = transitive_closure(S)\n",
    "    end\n",
    "    for i = 1:first(size(S))\n",
    "        S[i, i] = 0\n",
    "    end\n",
    "    SparseArrays.dropzeros!(S)\n",
    "    S\n",
    "end;"
   ]
  },
  {
   "cell_type": "code",
   "execution_count": null,
   "id": "313814b0-3bcf-4232-8a7d-392aeea24bc6",
   "metadata": {},
   "outputs": [],
   "source": [
    "@memoize function get_user_histories(dataset, medium, metric)\n",
    "    df = as_metric(\n",
    "        get_split(\n",
    "            dataset,\n",
    "            \"train\",\n",
    "            medium,\n",
    "            [:userid, :itemid, :status, :updated_at, :update_order],\n",
    "        ),\n",
    "        metric,\n",
    "    )\n",
    "\n",
    "    T = Threads.nthreads()\n",
    "    N = length(df.userid)\n",
    "    users_t = Vector{Vector{Vector{Int32}}}(undef, T)\n",
    "    batches = collect(Iterators.partition(1:N, Int(ceil(N / T))))\n",
    "    Threads.@threads for b = 1:length(batches)\n",
    "        users = [Int32[] for _ = 1:Threads.nthreads()]\n",
    "        for i in batches[b]\n",
    "            k = (df.userid[i] % Threads.nthreads()) + 1\n",
    "            push!(users[k], i)\n",
    "        end\n",
    "        users_t[b] = users\n",
    "    end\n",
    "    partitions = [vcat([u[k] for u in users_t]...) for k = 1:length(batches)]\n",
    "\n",
    "    histories = [Vector{Int32}[] for _ = 1:length(partitions)]\n",
    "    Threads.@threads for t = 1:length(partitions)\n",
    "        userid = nothing\n",
    "        seen = Int32[]\n",
    "        p = partitions[t]\n",
    "        order = sortperm(collect(zip(df.userid[p], df.updated_at[p], df.update_order[p])))\n",
    "        for o in order\n",
    "            i = p[o]\n",
    "            if userid != df.userid[i]\n",
    "                push!(histories[t], seen)\n",
    "                userid = df.userid[i]\n",
    "                seen = Int32[]\n",
    "            end\n",
    "            push!(seen, df.itemid[i])\n",
    "        end\n",
    "        push!(histories[t], seen)\n",
    "    end\n",
    "    vcat(histories...)\n",
    "end;\n",
    "\n",
    "@memoize function index_histories(histories, medium)\n",
    "    item_to_histories = Dict(a => Int64[] for a = 1:num_items(medium))\n",
    "    @showprogress for i = 1:length(histories)\n",
    "        for a in histories[i]\n",
    "            push!(item_to_histories[a], i)\n",
    "        end\n",
    "    end\n",
    "    Dict(k => Set(v) for (k, v) in item_to_histories)\n",
    "end;\n",
    "\n",
    "function is_watched_after(dataset, medium, metric, cutoff, a1, a2)\n",
    "    histories = get_user_histories(dataset, medium, metric)\n",
    "    item_to_histories = index_histories(histories, medium)\n",
    "    idxs = collect(intersect(item_to_histories[a1], item_to_histories[a2]))\n",
    "    if isempty(idxs)\n",
    "        return false\n",
    "    end\n",
    "    counts = fill(false, length(idxs))\n",
    "    Threads.@threads for i = 1:length(idxs)\n",
    "        for a in histories[idxs[i]]\n",
    "            if a == a2\n",
    "                counts[i] = true\n",
    "                break\n",
    "            elseif a == a1\n",
    "                break\n",
    "            end\n",
    "        end\n",
    "    end\n",
    "    sum(counts) / length(idxs) > cutoff\n",
    "end;"
   ]
  },
  {
   "cell_type": "code",
   "execution_count": null,
   "id": "d27add9a-18a6-481f-98d3-edb59a828468",
   "metadata": {},
   "outputs": [],
   "source": [
    "@memoize function get_popularity(dataset, medium, metric)\n",
    "    StatsBase.countmap(\n",
    "        as_metric(get_split(dataset, \"train\", medium, [:itemid, :status]), metric).itemid,\n",
    "    )\n",
    "end\n",
    "\n",
    "function is_more_popular(dataset, medium, metric, a1, a2)\n",
    "    p = get_popularity(dataset, medium, metric)\n",
    "    get(p, a1, 0) > get(p, a2, 0)\n",
    "end;"
   ]
  },
  {
   "cell_type": "code",
   "execution_count": null,
   "id": "e6b21af1-3fa2-427b-a38e-757b9e7db1df",
   "metadata": {},
   "outputs": [],
   "source": [
    "@memoize function get_dates(medium)\n",
    "    df = read_csv(get_data_path(\"processed_data/$medium.csv\"))\n",
    "    dates = Dict()\n",
    "    for (u, d) in zip(df.uid, df.startdate)\n",
    "        if isempty(d)\n",
    "            continue\n",
    "        end\n",
    "        dates[parse(Int32, u)] = Dates.DateTime(d, \"yyyy-mm-dd\")\n",
    "    end\n",
    "    dates\n",
    "end\n",
    "\n",
    "function is_released_after(medium, a1, a2)\n",
    "    dates = get_dates(medium)\n",
    "    if a1 ∉ keys(dates) || a2 ∉ keys(dates)\n",
    "        return false\n",
    "    end\n",
    "    dates[a1] > dates[a2]\n",
    "end;"
   ]
  },
  {
   "cell_type": "code",
   "execution_count": null,
   "id": "cf3db405-a4cb-426b-9a2c-422ae921b4d8",
   "metadata": {},
   "outputs": [],
   "source": [
    "function save_dependencies(version, dataset, medium, metric)\n",
    "    # M[i, j] = 1 if i should be watched before j\n",
    "    relations = Set([\"sequel\", \"prequel\", \"parent_story\", \"side_story\"])\n",
    "    M = get_matrix(medium, relations; symmetric = true)\n",
    "    @showprogress for (a1, a2, _) in collect(zip(SparseArrays.findnz(M)...))\n",
    "        dependency = (\n",
    "            is_more_popular(dataset, medium, metric, a1, a2) &&\n",
    "            !is_released_after(medium, a1, a2) &&\n",
    "            !is_watched_after(dataset, medium, metric, 0.6, a1, a2)\n",
    "        )\n",
    "        if !dependency\n",
    "            M[a1, a2] = 0\n",
    "        end\n",
    "    end\n",
    "    SparseArrays.dropzeros!(M)\n",
    "    write_params(\n",
    "        Dict(\"S\" => M),\n",
    "        \"nondirectional/$version/$dataset/$medium/$metric/dependencies\",\n",
    "    )\n",
    "end;"
   ]
  },
  {
   "cell_type": "code",
   "execution_count": null,
   "id": "e34f5d2e-69b8-4618-a970-c8e48e4443c5",
   "metadata": {},
   "outputs": [],
   "source": [
    "function save_related(version, dataset, medium, metric)\n",
    "    # M[i, j] = 1 if i and j are in the same franchise\n",
    "    relations = Set([\n",
    "        \"sequel\",\n",
    "        \"prequel\",\n",
    "        \"parent_story\",\n",
    "        \"side_story\",\n",
    "        \"alternative_version\",\n",
    "        \"summary\",\n",
    "        \"full_story\",\n",
    "        \"adaptation\",\n",
    "        \"alternative_setting\",\n",
    "    ])\n",
    "    M = get_matrix(medium, relations; symmetric = true, transitive = true)\n",
    "    write_params(Dict(\"S\" => M), \"nondirectional/$version/$dataset/$medium/$metric/related\")\n",
    "end;"
   ]
  },
  {
   "cell_type": "code",
   "execution_count": null,
   "id": "71e84d12-27bd-4b2c-ba00-66559c15f307",
   "metadata": {},
   "outputs": [],
   "source": [
    "function save_recaps(version, dataset, medium, metric)\n",
    "    # M[i, j] = 1 if i and j are in the same franchise\n",
    "    relations = Set([\"alternative_version\", \"summary\", \"full_story\", \"adaptation\"])\n",
    "    M = get_matrix(medium, relations; symmetric = true)\n",
    "    write_params(Dict(\"S\" => M), \"nondirectional/$version/$dataset/$medium/$metric/recaps\")\n",
    "end;"
   ]
  },
  {
   "cell_type": "code",
   "execution_count": null,
   "id": "808a749c-c160-49f5-adff-1f569cdaa125",
   "metadata": {},
   "outputs": [],
   "source": [
    "function save_adaptations(version, dataset, medium, metric)\n",
    "    # M[i, j] = 1 if i is an adaptation of j\n",
    "    cross_medium = Dict(\"anime\" => \"manga\", \"manga\" => \"anime\")\n",
    "    M = get_relations(cross_medium[medium], medium, Set([\"adaptation\"]))\n",
    "    write_params(\n",
    "        Dict(\"S\" => M),\n",
    "        \"nondirectional/$version/$dataset/$medium/$metric/adaptations\",\n",
    "    )\n",
    "end;"
   ]
  },
  {
   "cell_type": "code",
   "execution_count": null,
   "id": "669b7708-9c27-402d-8a57-e087eaf438ca",
   "metadata": {},
   "outputs": [],
   "source": [
    "save_dependencies(version, dataset, medium, metric);"
   ]
  },
  {
   "cell_type": "code",
   "execution_count": null,
   "id": "18285117-8754-4371-8d22-e89983ce19bb",
   "metadata": {},
   "outputs": [],
   "source": [
    "save_related(version, dataset, medium, metric);"
   ]
  },
  {
   "cell_type": "code",
   "execution_count": null,
   "id": "7e315ef7-86cc-4c86-9aae-a268cb81fe18",
   "metadata": {},
   "outputs": [],
   "source": [
    "save_recaps(version, dataset, medium, metric);"
   ]
  },
  {
   "cell_type": "code",
   "execution_count": null,
   "id": "3c29a264-ff42-463e-8e1a-9dc221c6607d",
   "metadata": {},
   "outputs": [],
   "source": [
    "save_adaptations(version, dataset, medium, metric);"
   ]
  }
 ],
 "metadata": {
  "kernelspec": {
   "display_name": "Julia 1.10.2",
   "language": "julia",
   "name": "julia-1.10"
  },
  "language_info": {
   "file_extension": ".jl",
   "mimetype": "application/julia",
   "name": "julia",
   "version": "1.10.2"
  }
 },
 "nbformat": 4,
 "nbformat_minor": 5
}
