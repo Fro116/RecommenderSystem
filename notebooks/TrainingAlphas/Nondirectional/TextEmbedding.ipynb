{
 "cells": [
  {
   "cell_type": "code",
   "execution_count": null,
   "id": "cad19447-0cf3-4384-bcbc-5b73a0f0507a",
   "metadata": {},
   "outputs": [],
   "source": [
    "import nltk.data\n",
    "import numpy as np\n",
    "import pandas as pd\n",
    "from sentence_transformers import SentenceTransformer\n",
    "from tqdm import tqdm"
   ]
  },
  {
   "cell_type": "code",
   "execution_count": null,
   "id": "d3c7877c-1dd5-4448-bd8c-f0ab985c7551",
   "metadata": {},
   "outputs": [],
   "source": [
    "anime_to_uid = pd.read_csv(\"../../../data/processed_data/anime_to_uid.csv\")\n",
    "anime = pd.read_csv(\"../../../data/processed_data/anime.csv\", keep_default_na=False)\n",
    "anime = anime.merge(anime_to_uid, on=\"anime_id\")"
   ]
  },
  {
   "cell_type": "code",
   "execution_count": null,
   "id": "bb908b67-f01b-49dc-be11-f93de30b0ff1",
   "metadata": {},
   "outputs": [],
   "source": [
    "nltk.download(\"punkt\")"
   ]
  },
  {
   "cell_type": "code",
   "execution_count": null,
   "id": "b737dfc2-de6b-4c3f-a9de-bd9b0dfce85e",
   "metadata": {},
   "outputs": [],
   "source": [
    "tokenizer = nltk.data.load(\"tokenizers/punkt/english.pickle\")"
   ]
  },
  {
   "cell_type": "code",
   "execution_count": null,
   "id": "81686d56-a489-41d3-b972-9dc4e9446dde",
   "metadata": {
    "tags": []
   },
   "outputs": [],
   "source": [
    "model = SentenceTransformer(\"all-mpnet-base-v2\")\n",
    "K = 768"
   ]
  },
  {
   "cell_type": "code",
   "execution_count": null,
   "id": "b690fd67-fbb3-4708-a7ca-6f27b071fee5",
   "metadata": {},
   "outputs": [],
   "source": [
    "def embed(text):\n",
    "    tokens = tokenizer.tokenize(text)\n",
    "    if len(tokens) == 0:\n",
    "        return np.zeros(K)\n",
    "    return model.encode(tokens).mean(axis=0)"
   ]
  },
  {
   "cell_type": "code",
   "execution_count": null,
   "id": "5b16a9db-0560-4ad6-9b10-cbc0ba30dbb6",
   "metadata": {},
   "outputs": [],
   "source": [
    "E = np.zeros((K, len(anime_to_uid)))"
   ]
  },
  {
   "cell_type": "code",
   "execution_count": null,
   "id": "677a9831-87ed-47ed-939a-76067f39eadc",
   "metadata": {
    "tags": []
   },
   "outputs": [],
   "source": [
    "for i in tqdm(range(len(anime))):\n",
    "    E[:, anime.uid[i]] = embed(anime.synopsis[i])"
   ]
  },
  {
   "cell_type": "code",
   "execution_count": null,
   "id": "865a0e3b-6dbd-491e-9918-52ff521ac106",
   "metadata": {},
   "outputs": [],
   "source": [
    "np.savetxt(\"../../../data/processed_data/text_embedding.csv\", E, delimiter=\",\")"
   ]
  }
 ],
 "metadata": {
  "kernelspec": {
   "display_name": "Python 3 (ipykernel)",
   "language": "python",
   "name": "python3"
  },
  "language_info": {
   "codemirror_mode": {
    "name": "ipython",
    "version": 3
   },
   "file_extension": ".py",
   "mimetype": "text/x-python",
   "name": "python",
   "nbconvert_exporter": "python",
   "pygments_lexer": "ipython3",
   "version": "3.8.9"
  }
 },
 "nbformat": 4,
 "nbformat_minor": 5
}
