{
 "cells": [
  {
   "cell_type": "code",
   "execution_count": 1,
   "id": "cad19447-0cf3-4384-bcbc-5b73a0f0507a",
   "metadata": {},
   "outputs": [],
   "source": [
    "import nltk.data\n",
    "import numpy as np\n",
    "import pandas as pd\n",
    "from sentence_transformers import SentenceTransformer\n",
    "from tqdm import tqdm"
   ]
  },
  {
   "cell_type": "code",
   "execution_count": 2,
   "id": "bb908b67-f01b-49dc-be11-f93de30b0ff1",
   "metadata": {},
   "outputs": [
    {
     "name": "stderr",
     "output_type": "stream",
     "text": [
      "[nltk_data] Downloading package punkt to /Users/kundan/nltk_data...\n",
      "[nltk_data]   Package punkt is already up-to-date!\n"
     ]
    },
    {
     "data": {
      "text/plain": [
       "True"
      ]
     },
     "execution_count": 2,
     "metadata": {},
     "output_type": "execute_result"
    }
   ],
   "source": [
    "nltk.download(\"punkt\")"
   ]
  },
  {
   "cell_type": "code",
   "execution_count": 3,
   "id": "b737dfc2-de6b-4c3f-a9de-bd9b0dfce85e",
   "metadata": {},
   "outputs": [],
   "source": [
    "tokenizer = nltk.data.load(\"tokenizers/punkt/english.pickle\")"
   ]
  },
  {
   "cell_type": "code",
   "execution_count": 4,
   "id": "d3c7877c-1dd5-4448-bd8c-f0ab985c7551",
   "metadata": {},
   "outputs": [],
   "source": [
    "anime_to_uid = pd.read_csv(\"../../../data/processed_data/anime_to_uid.csv\")"
   ]
  },
  {
   "cell_type": "code",
   "execution_count": 5,
   "id": "2dfbeaf2-44ae-4cc9-a191-649956da6da2",
   "metadata": {},
   "outputs": [],
   "source": [
    "anime = pd.read_csv(\"../../../data/processed_data/anime.csv\", keep_default_na=False)"
   ]
  },
  {
   "cell_type": "code",
   "execution_count": 6,
   "id": "81686d56-a489-41d3-b972-9dc4e9446dde",
   "metadata": {
    "tags": []
   },
   "outputs": [],
   "source": [
    "model = SentenceTransformer(\"all-mpnet-base-v2\")\n",
    "K = 768"
   ]
  },
  {
   "cell_type": "code",
   "execution_count": 7,
   "id": "b690fd67-fbb3-4708-a7ca-6f27b071fee5",
   "metadata": {},
   "outputs": [],
   "source": [
    "def embed(text):\n",
    "    tokens = tokenizer.tokenize(text)\n",
    "    if len(tokens) == 0:\n",
    "        return np.zeros(K)\n",
    "    return model.encode(tokens).mean(axis=0)"
   ]
  },
  {
   "cell_type": "code",
   "execution_count": 8,
   "id": "5b16a9db-0560-4ad6-9b10-cbc0ba30dbb6",
   "metadata": {},
   "outputs": [],
   "source": [
    "E = np.zeros((K, len(anime_to_uid)))"
   ]
  },
  {
   "cell_type": "code",
   "execution_count": 9,
   "id": "e49de0c4-5d34-488c-aafa-46ae7249782c",
   "metadata": {},
   "outputs": [],
   "source": [
    "anime = anime.merge(anime_to_uid, on=\"anime_id\")"
   ]
  },
  {
   "cell_type": "code",
   "execution_count": 10,
   "id": "677a9831-87ed-47ed-939a-76067f39eadc",
   "metadata": {
    "tags": []
   },
   "outputs": [
    {
     "name": "stderr",
     "output_type": "stream",
     "text": [
      "100%|███████████████████████████████████████████████████████████████████████████████████████████████████████████████████████████████████████████████████████████████████████████| 20319/20319 [22:33<00:00, 15.01it/s]\n"
     ]
    }
   ],
   "source": [
    "for i in tqdm(range(len(anime))):\n",
    "    E[:, anime.uid[i]] = embed(anime.synopsis[i])"
   ]
  },
  {
   "cell_type": "code",
   "execution_count": null,
   "id": "865a0e3b-6dbd-491e-9918-52ff521ac106",
   "metadata": {},
   "outputs": [],
   "source": [
    "np.savetext(\"../../processed_data/text_embeddings.csv\", E, \",\")"
   ]
  }
 ],
 "metadata": {
  "kernelspec": {
   "display_name": "Python 3 (ipykernel)",
   "language": "python",
   "name": "python3"
  },
  "language_info": {
   "codemirror_mode": {
    "name": "ipython",
    "version": 3
   },
   "file_extension": ".py",
   "mimetype": "text/x-python",
   "name": "python",
   "nbconvert_exporter": "python",
   "pygments_lexer": "ipython3",
   "version": "3.8.9"
  }
 },
 "nbformat": 4,
 "nbformat_minor": 5
}
