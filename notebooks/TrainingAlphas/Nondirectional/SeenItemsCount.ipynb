{
 "cells": [
  {
   "cell_type": "markdown",
   "id": "34f6e653-a085-4ced-98a4-385398a5627d",
   "metadata": {
    "tags": []
   },
   "source": [
    "# SeenItemsCount\n",
    "* returns the number of items a given user has seen"
   ]
  },
  {
   "cell_type": "code",
   "execution_count": null,
   "id": "ec1c7779-ca49-4052-9ec0-f9bf666bc7ed",
   "metadata": {
    "tags": [
     "parameters"
    ]
   },
   "outputs": [],
   "source": [
    "medium = \"\""
   ]
  },
  {
   "cell_type": "code",
   "execution_count": null,
   "id": "5f693eb8-9aab-4305-a6ee-17e885f3f24d",
   "metadata": {
    "tags": []
   },
   "outputs": [],
   "source": [
    "import NBInclude: @nbinclude\n",
    "@nbinclude(\"../Alpha.ipynb\");"
   ]
  },
  {
   "cell_type": "code",
   "execution_count": null,
   "id": "da02e2fb-e2d2-465c-be53-812e8a4a219a",
   "metadata": {},
   "outputs": [],
   "source": [
    "using DataFrames"
   ]
  },
  {
   "cell_type": "code",
   "execution_count": null,
   "id": "4fe35a95-4fae-4804-879c-3b6b978f0cf2",
   "metadata": {},
   "outputs": [],
   "source": [
    "function get_dataframe(split, content)\n",
    "    df = get_split(split, \"all\", content, medium)\n",
    "    DataFrame(user = df.user, item = df.item, rating = df.rating)\n",
    "end;"
   ]
  },
  {
   "cell_type": "code",
   "execution_count": null,
   "id": "59fb718e-dc9e-4452-b72c-829ae2d843ff",
   "metadata": {},
   "outputs": [],
   "source": [
    "function make_prediction(users, items, u)\n",
    "    r = zeros(Float32, length(users))\n",
    "    Threads.@threads for i = 1:length(r)\n",
    "        if users[i] in keys(u)\n",
    "            r[i] = u[users[i]]\n",
    "        end\n",
    "    end\n",
    "    r\n",
    "end;"
   ]
  },
  {
   "cell_type": "code",
   "execution_count": null,
   "id": "9d6fc8a9-1920-4e75-bf97-6cd2ed644ad8",
   "metadata": {},
   "outputs": [],
   "source": [
    "for content in [\"explicit\", \"implicit\", \"ptw\"]\n",
    "    @info \"processing $content watches\"\n",
    "    training = get_dataframe(\"training\", content)\n",
    "    u = combine(groupby(training, :user), :rating => length => :rating)\n",
    "    u = Dict(Pair.(u.user, u.rating))\n",
    "    model(users, items) = make_prediction(users, items, u)\n",
    "    name = \"$medium/all/$(uppercasefirst(content))ItemCount\"\n",
    "    write_params(Dict(\"u\" => u), name)\n",
    "    write_alpha(model, medium, name; log = false)\n",
    "end"
   ]
  }
 ],
 "metadata": {
  "kernelspec": {
   "display_name": "Julia 1.9.0-rc2",
   "language": "julia",
   "name": "julia-1.9"
  },
  "language_info": {
   "file_extension": ".jl",
   "mimetype": "application/julia",
   "name": "julia",
   "version": "1.9.0"
  }
 },
 "nbformat": 4,
 "nbformat_minor": 5
}
