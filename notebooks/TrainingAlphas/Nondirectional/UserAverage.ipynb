{
 "cells": [
  {
   "cell_type": "markdown",
   "id": "34f6e653-a085-4ced-98a4-385398a5627d",
   "metadata": {
    "tags": []
   },
   "source": [
    "# UserAverae\n",
    "* returns the average rating given by a user"
   ]
  },
  {
   "cell_type": "code",
   "execution_count": null,
   "id": "7cc9334a-2287-41d6-885b-a5cca94fe263",
   "metadata": {
    "tags": [
     "parameters"
    ]
   },
   "outputs": [],
   "source": [
    "const name = \"UserAverage\"\n",
    "const residual_alphas = []\n",
    "const implicit = false;"
   ]
  },
  {
   "cell_type": "code",
   "execution_count": null,
   "id": "5f693eb8-9aab-4305-a6ee-17e885f3f24d",
   "metadata": {
    "tags": []
   },
   "outputs": [],
   "source": [
    "using DataFrames\n",
    "\n",
    "import DataStructures: DefaultDict\n",
    "import NBInclude: @nbinclude\n",
    "import Statistics: mean\n",
    "@nbinclude(\"../Alpha.ipynb\");"
   ]
  },
  {
   "cell_type": "code",
   "execution_count": null,
   "id": "4fe35a95-4fae-4804-879c-3b6b978f0cf2",
   "metadata": {},
   "outputs": [],
   "source": [
    "function get_dataframe(split, implicit)\n",
    "    df = get_split(split, implicit)\n",
    "    DataFrame(user = df.user, item = df.item, rating = df.rating)\n",
    "end\n",
    "\n",
    "const training = get_dataframe(\"training\", implicit);"
   ]
  },
  {
   "cell_type": "code",
   "execution_count": null,
   "id": "f570b0db-a68b-4d66-8e84-a4fa90bc2a59",
   "metadata": {
    "tags": []
   },
   "outputs": [],
   "source": [
    "u = combine(groupby(training, :user), :rating => mean => :rating)\n",
    "u = Dict(Pair.(u.user, u.rating));"
   ]
  },
  {
   "cell_type": "code",
   "execution_count": null,
   "id": "59fb718e-dc9e-4452-b72c-829ae2d843ff",
   "metadata": {},
   "outputs": [],
   "source": [
    "function make_prediction(users, items, u)\n",
    "    u = DefaultDict(zero(Float32), u)\n",
    "    r = Array{Float32}(undef, length(users))\n",
    "    Threads.@threads for i = 1:length(r)\n",
    "        r[i] = u[users[i]]\n",
    "    end\n",
    "    r\n",
    "end;\n",
    "\n",
    "model(users, items) = make_prediction(users, items, u);"
   ]
  },
  {
   "cell_type": "code",
   "execution_count": null,
   "id": "b93576c8-a876-41b8-859d-853ff9479b1e",
   "metadata": {},
   "outputs": [],
   "source": [
    "write_alpha(model, residual_alphas, implicit, name; log_splits = false);"
   ]
  },
  {
   "cell_type": "code",
   "execution_count": null,
   "id": "bdd25a26-b2be-4928-b121-209e75e0658b",
   "metadata": {
    "tags": []
   },
   "outputs": [],
   "source": [
    "write_params(Dict(\"u\" => u), name);"
   ]
  }
 ],
 "metadata": {
  "kernelspec": {
   "display_name": "Julia 1.8.0-rc1",
   "language": "julia",
   "name": "julia-1.8"
  },
  "language_info": {
   "file_extension": ".jl",
   "mimetype": "application/julia",
   "name": "julia",
   "version": "1.8.0"
  }
 },
 "nbformat": 4,
 "nbformat_minor": 5
}
