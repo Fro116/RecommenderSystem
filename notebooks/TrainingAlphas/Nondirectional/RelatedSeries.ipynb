{
 "cells": [
  {
   "cell_type": "markdown",
   "id": "c3758ece-9b72-47b4-ae6a-aa364e0443e3",
   "metadata": {},
   "source": [
    "# Related Series\n",
    "* Constructs a graph of structurally related series (sequels, prequels, etc.)"
   ]
  },
  {
   "cell_type": "code",
   "execution_count": null,
   "id": "7cc9334a-2287-41d6-885b-a5cca94fe263",
   "metadata": {},
   "outputs": [],
   "source": [
    "const name = \"all/RelatedSeries\";"
   ]
  },
  {
   "cell_type": "code",
   "execution_count": null,
   "id": "d17593ac-3260-4c01-a5df-91edfcd17e13",
   "metadata": {},
   "outputs": [],
   "source": [
    "using DataFrames\n",
    "using LinearAlgebra\n",
    "using SparseArrays\n",
    "import CSV\n",
    "import DataFrames: DataFrame\n",
    "import NBInclude: @nbinclude\n",
    "@nbinclude(\"../Alpha.ipynb\");"
   ]
  },
  {
   "cell_type": "markdown",
   "id": "8e05f8b2-13f5-40e2-b0ca-58a09e71e0b5",
   "metadata": {},
   "source": [
    "## Compute similarity matrices"
   ]
  },
  {
   "cell_type": "code",
   "execution_count": null,
   "id": "035f1456-fc78-4162-9086-2680b64d80bc",
   "metadata": {},
   "outputs": [],
   "source": [
    "function get_similarity_matrix(relationships)\n",
    "    file = get_data_path(\"processed_data/related_series.csv\")\n",
    "    df = DataFrame(CSV.File(file))\n",
    "    df = filter(x -> x.relationship ∈ relationships, df)\n",
    "    sparse(\n",
    "        df.source .+ 1,\n",
    "        df.target .+ 1,\n",
    "        fill(1.0, length(df.source)),\n",
    "        num_items(),\n",
    "        num_items(),\n",
    "    )\n",
    "end;"
   ]
  },
  {
   "cell_type": "code",
   "execution_count": null,
   "id": "853a1cf7-e4b8-4242-8476-dfa410a06fe6",
   "metadata": {},
   "outputs": [],
   "source": [
    "function all_pairs_shortest_paths(S)\n",
    "    # uses the optimization that all edges are weight 1\n",
    "    dists = fill(Inf32, size(S)...)\n",
    "    for v = 1:size(S)[1]\n",
    "        dists[v, v] = 0\n",
    "    end\n",
    "    T = I(size(S)[1])\n",
    "\n",
    "    @showprogress for epoch = 1:size(S)[1]\n",
    "        T = T * S\n",
    "        change = false\n",
    "        for (i, j, v) in zip(findnz(T)...)\n",
    "            if dists[i, j] > epoch\n",
    "                dists[i, j] = epoch\n",
    "                change = true\n",
    "            end\n",
    "        end\n",
    "        if !change\n",
    "            break\n",
    "        end\n",
    "    end\n",
    "    dists\n",
    "end;"
   ]
  },
  {
   "cell_type": "code",
   "execution_count": null,
   "id": "a97731ef-3f0f-4aca-935d-e5c3219781db",
   "metadata": {
    "tags": []
   },
   "outputs": [],
   "source": [
    "function get_popularity()\n",
    "    get_counts(\"training\", \"all\", \"implicit\"; by_item = true, per_rating = false)\n",
    "end;"
   ]
  },
  {
   "cell_type": "code",
   "execution_count": null,
   "id": "367eea12-0544-488e-a8d7-06dbcc18e67f",
   "metadata": {},
   "outputs": [],
   "source": [
    "function get_similarity_matrix_outdir(name, relationships, expand, sequel_filtering)\n",
    "    # if the matrix is already stored on disk, return its filepath\n",
    "    # otherwise, regenerate the matrix and store it to disk\n",
    "    outdir = \"$name/similarity_matrix\"\n",
    "    if ispath(\"../../data/alphas/$outdir\")\n",
    "        return outdir\n",
    "    end\n",
    "\n",
    "    @debug \"generating similarity matrix for relationships $relationships\"\n",
    "    S = get_similarity_matrix(relationships)\n",
    "    if expand\n",
    "        S = all_pairs_shortest_paths(S)\n",
    "        S[isfinite.(S)] .= 1\n",
    "        S[.!isfinite.(S)] .= 0\n",
    "    end\n",
    "    if sequel_filtering\n",
    "        # only count prequels that more popular than the series\n",
    "        ts = get_timestamps()\n",
    "        popularity = get_popularity()\n",
    "        for i = 1:num_items()\n",
    "            for j = 1:num_items()\n",
    "                if popularity[i] > popularity[j]\n",
    "                    S[i, j] = 0\n",
    "                end\n",
    "            end\n",
    "        end\n",
    "\n",
    "    end\n",
    "    S = convert.(Float32, collect(S))\n",
    "    write_params(Dict(\"S\" => S), outdir)\n",
    "    outdir\n",
    "end;"
   ]
  },
  {
   "cell_type": "code",
   "execution_count": null,
   "id": "7498a745-740a-4869-bf5e-7a5e3d076c12",
   "metadata": {},
   "outputs": [],
   "source": [
    "# definitions for the relationships can be found at https://myanimelist.net/info.php?go=relationinfo\n",
    "const strict_relations = Set((\"sequel\", \"prequel\", \"parent_story\", \"side_story\"))\n",
    "const recap_relations = Set((\"alternative_version\", \"summary\", \"full_story\"))\n",
    "const loose_relations = Set((\"alternative_setting\", \"spin_off\"))\n",
    "const no_relations = Set((\"adaptation\", \"character\", \"other\"))\n",
    "const all_relations =\n",
    "    union(strict_relations, recap_relations, loose_relations, no_relations)\n",
    "df = DataFrame(CSV.File(get_data_path(\"processed_data/related_series.csv\")));\n",
    "@assert all(map(x -> x ∈ all_relations, df.relationship))"
   ]
  },
  {
   "cell_type": "code",
   "execution_count": null,
   "id": "c0c08130-a539-47a5-b69a-7f082896d5d8",
   "metadata": {},
   "outputs": [],
   "source": [
    "get_similarity_matrix_outdir(\n",
    "    \"all/RelatedSeries\",\n",
    "    union(strict_relations, recap_relations, loose_relations),\n",
    "    true,\n",
    "    false,\n",
    ")\n",
    "get_similarity_matrix_outdir(\"all/RecapSeries\", recap_relations, false, false)\n",
    "get_similarity_matrix_outdir(\"all/SequelSeries\", [\"prequel\"], false, true);"
   ]
  },
  {
   "cell_type": "markdown",
   "id": "7f69ddad-3a11-4aee-b0ad-a596e8dc4094",
   "metadata": {},
   "source": [
    "## Check whether the user is ready to watch a sequel"
   ]
  },
  {
   "cell_type": "code",
   "execution_count": null,
   "id": "0e5d4a79-3250-4bf1-82c2-c2b10672c2d6",
   "metadata": {
    "tags": []
   },
   "outputs": [],
   "source": [
    "S = sparse(read_params(\"all/SequelSeries/similarity_matrix\")[\"S\"])\n",
    "watched_items = get_split(\"training\", \"all\", \"implicit\"; fields = [:user, :item])\n",
    "sp = sparse(\n",
    "    watched_items.item,\n",
    "    watched_items.user,\n",
    "    ones(Float32, length(watched_items.user)),\n",
    "    num_items(),\n",
    "    num_users(),\n",
    ")\n",
    "num_watched_prequels = sparse(S) * sp;\n",
    "num_required_prequels = S * ones(eltype(S), size(S)[2]);"
   ]
  },
  {
   "cell_type": "code",
   "execution_count": null,
   "id": "b0090d1c-c30b-4260-b2e9-f4854cf8968b",
   "metadata": {},
   "outputs": [],
   "source": [
    "function model(users, items)\n",
    "    r = zeros(Float32, length(users))\n",
    "    @tprogress Threads.@threads for i = 1:length(users)\n",
    "        r[i] = num_required_prequels[items[i]] - num_watched_prequels[items[i], users[i]]\n",
    "    end\n",
    "    r\n",
    "end\n",
    "write_alpha(model, \"all/SequelSeries\"; log = false)"
   ]
  }
 ],
 "metadata": {
  "kernelspec": {
   "display_name": "Julia 1.8.3",
   "language": "julia",
   "name": "julia-1.8"
  },
  "language_info": {
   "file_extension": ".jl",
   "mimetype": "application/julia",
   "name": "julia",
   "version": "1.8.3"
  }
 },
 "nbformat": 4,
 "nbformat_minor": 5
}
