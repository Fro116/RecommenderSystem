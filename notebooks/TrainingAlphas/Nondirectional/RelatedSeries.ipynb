{
 "cells": [
  {
   "cell_type": "markdown",
   "id": "c3758ece-9b72-47b4-ae6a-aa364e0443e3",
   "metadata": {},
   "source": [
    "# Related Series\n",
    "* Constructs a graph of structurally related series (sequels, prequels, etc.)"
   ]
  },
  {
   "cell_type": "code",
   "execution_count": null,
   "id": "a5906237-4921-4926-b9bf-4ba9a34174a2",
   "metadata": {
    "tags": [
     "parameters"
    ]
   },
   "outputs": [],
   "source": [
    "medium = \"\""
   ]
  },
  {
   "cell_type": "code",
   "execution_count": null,
   "id": "7cc9334a-2287-41d6-885b-a5cca94fe263",
   "metadata": {},
   "outputs": [],
   "source": [
    "const name = \"$medium/all/RelatedSeries\";"
   ]
  },
  {
   "cell_type": "code",
   "execution_count": null,
   "id": "d17593ac-3260-4c01-a5df-91edfcd17e13",
   "metadata": {},
   "outputs": [],
   "source": [
    "using DataFrames\n",
    "using LinearAlgebra\n",
    "using SparseArrays\n",
    "import CSV\n",
    "import DataFrames: DataFrame\n",
    "import NBInclude: @nbinclude\n",
    "@nbinclude(\"../Alpha.ipynb\");"
   ]
  },
  {
   "cell_type": "markdown",
   "id": "8e05f8b2-13f5-40e2-b0ca-58a09e71e0b5",
   "metadata": {},
   "source": [
    "## Compute similarity matrices"
   ]
  },
  {
   "cell_type": "code",
   "execution_count": null,
   "id": "035f1456-fc78-4162-9086-2680b64d80bc",
   "metadata": {},
   "outputs": [],
   "source": [
    "function get_similarity_matrix(relationships)\n",
    "    file = get_data_path(\"processed_data/$(medium)_$(medium)_related_series.csv\")\n",
    "    df = DataFrame(CSV.File(file))\n",
    "    df = filter(x -> x.relationship ∈ relationships, df)\n",
    "    sparse(\n",
    "        df.source .+ 1,\n",
    "        df.target .+ 1,\n",
    "        fill(1.0f0, length(df.source)),\n",
    "        num_items(medium),\n",
    "        num_items(medium),\n",
    "    )\n",
    "end;"
   ]
  },
  {
   "cell_type": "code",
   "execution_count": null,
   "id": "853a1cf7-e4b8-4242-8476-dfa410a06fe6",
   "metadata": {},
   "outputs": [],
   "source": [
    "function all_pairs_shortest_paths(S)\n",
    "    # uses the optimization that all edges are weight 1\n",
    "    dists = fill(Inf32, size(S)...)\n",
    "    for v = 1:size(S)[1]\n",
    "        dists[v, v] = 0\n",
    "    end\n",
    "    T = I(size(S)[1])\n",
    "\n",
    "    for epoch = 1:size(S)[1]\n",
    "        T = T * S\n",
    "        change = false\n",
    "        for (i, j, _) in zip(findnz(T)...)\n",
    "            if dists[i, j] > epoch\n",
    "                dists[i, j] = epoch\n",
    "                change = true\n",
    "            end\n",
    "        end\n",
    "        if !change\n",
    "            break\n",
    "        end\n",
    "    end\n",
    "    dists\n",
    "end;"
   ]
  },
  {
   "cell_type": "code",
   "execution_count": null,
   "id": "a97731ef-3f0f-4aca-935d-e5c3219781db",
   "metadata": {
    "tags": []
   },
   "outputs": [],
   "source": [
    "function get_popularity()\n",
    "    get_counts(\"training\", \"all\", \"implicit\", medium; by_item = true, per_rating = false)\n",
    "end;"
   ]
  },
  {
   "cell_type": "code",
   "execution_count": null,
   "id": "367eea12-0544-488e-a8d7-06dbcc18e67f",
   "metadata": {},
   "outputs": [],
   "source": [
    "function get_similarity_matrix_outdir(\n",
    "    name,\n",
    "    relationships;\n",
    "    symmetric = false,\n",
    "    expand = false,\n",
    "    sequel_filtering = false,\n",
    ")\n",
    "    # if the matrix is already stored on disk, return its filepath\n",
    "    # otherwise, regenerate the matrix and store it to disk\n",
    "    outdir = \"$name/similarity_matrix\"\n",
    "    if ispath(\"../../data/alphas/$outdir\")\n",
    "        return outdir\n",
    "    end\n",
    "\n",
    "    @info \"generating similarity matrix for relationships $relationships\"\n",
    "    S = get_similarity_matrix(relationships)\n",
    "    if symmetric\n",
    "        S = max.(S, S')\n",
    "    end\n",
    "    if expand\n",
    "        S = all_pairs_shortest_paths(S)\n",
    "        S[isfinite.(S)] .= 1\n",
    "        S[.!isfinite.(S)] .= 0\n",
    "    end\n",
    "    if sequel_filtering\n",
    "        popularity = get_popularity()\n",
    "        @tprogress Threads.@threads for i = 1:num_items(medium)\n",
    "            for j = 1:num_items(medium)\n",
    "                if i == j\n",
    "                    S[i, j] = 0\n",
    "                end\n",
    "                # only count prequels that more popular than the series                \n",
    "                if popularity[i] > popularity[j]\n",
    "                    S[i, j] = 0\n",
    "                end\n",
    "            end\n",
    "        end\n",
    "    end\n",
    "    write_params(Dict(\"S\" => sparse(S)), outdir)\n",
    "    outdir\n",
    "end;"
   ]
  },
  {
   "cell_type": "code",
   "execution_count": null,
   "id": "7498a745-740a-4869-bf5e-7a5e3d076c12",
   "metadata": {},
   "outputs": [],
   "source": [
    "# definitions for the relationships can be found at https://myanimelist.net/info.php?go=relationinfo\n",
    "const strict_relations = Set((\"sequel\", \"prequel\", \"parent_story\", \"side_story\"))\n",
    "const recap_relations = Set((\"alternative_version\", \"summary\", \"full_story\", \"adaptation\"))\n",
    "const loose_relations = Set((\"alternative_setting\", \"spin_off\"))\n",
    "const no_relations = Set((\"character\", \"other\"))\n",
    "const all_relations =\n",
    "    union(strict_relations, recap_relations, loose_relations, no_relations)\n",
    "df = DataFrame(\n",
    "    CSV.File(get_data_path(\"processed_data/$(medium)_$(medium)_related_series.csv\")),\n",
    ");\n",
    "@assert all(map(x -> x ∈ all_relations, df.relationship))"
   ]
  },
  {
   "cell_type": "code",
   "execution_count": null,
   "id": "c0c08130-a539-47a5-b69a-7f082896d5d8",
   "metadata": {
    "tags": []
   },
   "outputs": [],
   "source": [
    "get_similarity_matrix_outdir(\n",
    "    \"$medium/all/RelatedSeries\",\n",
    "    union(strict_relations, recap_relations, loose_relations);\n",
    "    symmetric = true,\n",
    "    expand = true,\n",
    ");"
   ]
  },
  {
   "cell_type": "code",
   "execution_count": null,
   "id": "e6ded022-5c3c-45e7-8195-cbcbdffbcd68",
   "metadata": {},
   "outputs": [],
   "source": [
    "get_similarity_matrix_outdir(\"$medium/all/RecapSeries\", recap_relations);"
   ]
  },
  {
   "cell_type": "code",
   "execution_count": null,
   "id": "62f4cc86-406f-42ba-8da4-90438b796727",
   "metadata": {},
   "outputs": [],
   "source": [
    "get_similarity_matrix_outdir(\n",
    "    \"$medium/all/SequelSeries\",\n",
    "    [\"prequel\", \"parent_story\"];\n",
    "    sequel_filtering = true,\n",
    ");"
   ]
  },
  {
   "cell_type": "markdown",
   "id": "adaded1f-dedd-48b6-9105-d2088aa0fa39",
   "metadata": {},
   "source": [
    "## Predict that sequels will get the same ratings as the originals"
   ]
  },
  {
   "cell_type": "code",
   "execution_count": null,
   "id": "0e5d4a79-3250-4bf1-82c2-c2b10672c2d6",
   "metadata": {
    "tags": []
   },
   "outputs": [],
   "source": [
    "S = read_params(\"$medium/all/SequelSeries/similarity_matrix\")[\"S\"]\n",
    "watched_items =\n",
    "    get_split(\"training\", \"all\", \"explicit\", medium; fields = [:user, :item, :rating])\n",
    "spr =\n",
    "    S * sparse(\n",
    "        watched_items.item,\n",
    "        watched_items.user,\n",
    "        watched_items.rating,\n",
    "        num_items(medium),\n",
    "        num_users(medium),\n",
    "    )\n",
    "spw =\n",
    "    S * sparse(\n",
    "        watched_items.item,\n",
    "        watched_items.user,\n",
    "        ones(Float32, length(watched_items.user)),\n",
    "        num_items(medium),\n",
    "        num_users(medium),\n",
    "    )\n",
    "\n",
    "\n",
    "for task in ALL_TASKS\n",
    "    df = reduce(\n",
    "        cat,\n",
    "        [\n",
    "            read_alpha(\n",
    "                \"$medium/$task/ExplicitUserItemBiases\",\n",
    "                split,\n",
    "                task,\n",
    "                \"explicit\",\n",
    "                medium,\n",
    "            ) for split in ALL_SPLITS\n",
    "        ],\n",
    "    )\n",
    "    spt = sparse(df.item, df.user, df.rating, num_items(medium), num_users(medium))\n",
    "    function model(users, items)\n",
    "        r = zeros(Float32, length(users))\n",
    "        @tprogress Threads.@threads for i = 1:length(users)\n",
    "            if spw[items[i], users[i]] != 0\n",
    "                r[i] =\n",
    "                    spr[items[i], users[i]] / spw[items[i], users[i]] -\n",
    "                    spt[items[i], users[i]]\n",
    "            else\n",
    "                r[i] = 0\n",
    "            end\n",
    "        end\n",
    "        r\n",
    "    end\n",
    "\n",
    "    write_alpha(\n",
    "        model,\n",
    "        medium,\n",
    "        \"$medium/$task/SequelExplicit\";\n",
    "        log = true,\n",
    "        log_task = task,\n",
    "        log_content = \"explicit\",\n",
    "        log_alphas = [\"$medium/$task/ExplicitUserItemBiases\"],\n",
    "    )\n",
    "end"
   ]
  },
  {
   "cell_type": "markdown",
   "id": "1cc51512-742f-4c5c-8714-3f7de066713f",
   "metadata": {},
   "source": [
    "## Predict that sequels will get watched"
   ]
  },
  {
   "cell_type": "code",
   "execution_count": null,
   "id": "52b3df79-a83d-4e75-afbb-10bd1c1a2703",
   "metadata": {},
   "outputs": [],
   "source": [
    "S = read_params(\"$medium/all/SequelSeries/similarity_matrix\")[\"S\"]\n",
    "watched_items = get_split(\n",
    "    \"training\",\n",
    "    \"all\",\n",
    "    \"explicit\",\n",
    "    medium;\n",
    "    fields = [:user, :item, :rating, :status],\n",
    ")\n",
    "watched = sparse(\n",
    "    watched_items.item,\n",
    "    watched_items.user,\n",
    "    watched_items.rating,\n",
    "    num_items(medium),\n",
    "    num_users(medium),\n",
    ")\n",
    "watched_items = filter(watched_items, watched_items.status .== 5)\n",
    "num_watched_prequels =\n",
    "    S * sparse(\n",
    "        watched_items.item,\n",
    "        watched_items.user,\n",
    "        watched_items.rating,\n",
    "        num_items(medium),\n",
    "        num_users(medium),\n",
    "    )\n",
    "num_required_prequels = S * ones(Float32, num_items(medium));\n",
    "\n",
    "@showprogress for (i, u, v) in zip(findnz(num_watched_prequels)...)\n",
    "    num_watched_prequels[i, u] =\n",
    "        (v == num_required_prequels[i] && watched[i, u] == 0) ? 1 : 0\n",
    "end\n",
    "preds = num_watched_prequels\n",
    "pred_weights = sum(preds, dims = 1);\n",
    "\n",
    "for task in ALL_TASKS\n",
    "    function model(users, items)\n",
    "        r = zeros(Float32, length(users))\n",
    "        @tprogress Threads.@threads for i = 1:length(users)\n",
    "            if pred_weights[users[i]] == 0\n",
    "                r[i] = 1 / num_items(medium)\n",
    "            else\n",
    "                r[i] = preds[items[i], users[i]] / pred_weights[users[i]]\n",
    "            end\n",
    "        end\n",
    "        r\n",
    "    end\n",
    "    write_alpha(\n",
    "        model,\n",
    "        medium,\n",
    "        \"$medium/$task/SequelImplicit\";\n",
    "        log = true,\n",
    "        log_task = task,\n",
    "        log_content = \"implicit\",\n",
    "    )\n",
    "end"
   ]
  }
 ],
 "metadata": {
  "kernelspec": {
   "display_name": "Julia 1.9.0-rc2",
   "language": "julia",
   "name": "julia-1.9"
  },
  "language_info": {
   "file_extension": ".jl",
   "mimetype": "application/julia",
   "name": "julia",
   "version": "1.9.0"
  }
 },
 "nbformat": 4,
 "nbformat_minor": 5
}
