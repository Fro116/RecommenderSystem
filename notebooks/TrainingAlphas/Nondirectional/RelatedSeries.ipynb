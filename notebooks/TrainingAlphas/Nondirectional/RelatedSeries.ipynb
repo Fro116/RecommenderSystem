{
 "cells": [
  {
   "cell_type": "markdown",
   "id": "c3758ece-9b72-47b4-ae6a-aa364e0443e3",
   "metadata": {},
   "source": [
    "# Related Series\n",
    "* Constructs a graph of structurally related series (sequels, prequels, etc.)"
   ]
  },
  {
   "cell_type": "code",
   "execution_count": null,
   "id": "7cc9334a-2287-41d6-885b-a5cca94fe263",
   "metadata": {},
   "outputs": [],
   "source": [
    "const name = \"all/RelatedSeries\";"
   ]
  },
  {
   "cell_type": "code",
   "execution_count": null,
   "id": "d17593ac-3260-4c01-a5df-91edfcd17e13",
   "metadata": {},
   "outputs": [],
   "source": [
    "using LinearAlgebra\n",
    "using SparseArrays\n",
    "import CSV\n",
    "import DataFrames: DataFrame\n",
    "import NBInclude: @nbinclude\n",
    "@nbinclude(\"../Alpha.ipynb\")"
   ]
  },
  {
   "cell_type": "markdown",
   "id": "8e05f8b2-13f5-40e2-b0ca-58a09e71e0b5",
   "metadata": {},
   "source": [
    "## Compute similarity matrices"
   ]
  },
  {
   "cell_type": "code",
   "execution_count": null,
   "id": "035f1456-fc78-4162-9086-2680b64d80bc",
   "metadata": {},
   "outputs": [],
   "source": [
    "function get_similarity_matrix(relationships)\n",
    "    file = get_data_path(\"processed_data/related_series.csv\")\n",
    "    df = DataFrame(CSV.File(file))\n",
    "    df = filter(x -> x.relationship ∈ relationships, df)\n",
    "    sparse(\n",
    "        df.source .+ 1,\n",
    "        df.target .+ 1,\n",
    "        fill(1.0, length(df.source)),\n",
    "        num_items(),\n",
    "        num_items(),\n",
    "    )\n",
    "end;"
   ]
  },
  {
   "cell_type": "code",
   "execution_count": null,
   "id": "853a1cf7-e4b8-4242-8476-dfa410a06fe6",
   "metadata": {},
   "outputs": [],
   "source": [
    "function all_pairs_shortest_paths(S)\n",
    "    # uses the optimization that all edges are weight 1\n",
    "    dists = fill(Inf32, size(S)...)\n",
    "    for v = 1:size(S)[1]\n",
    "        dists[v, v] = 0\n",
    "    end\n",
    "    T = I(size(S)[1])\n",
    "\n",
    "    @showprogress for epoch = 1:size(S)[1]\n",
    "        T = T * S\n",
    "        change = false\n",
    "        for (i, j, v) in zip(findnz(T)...)\n",
    "            if dists[i, j] > epoch\n",
    "                dists[i, j] = epoch\n",
    "                change = true\n",
    "            end\n",
    "        end\n",
    "        if !change\n",
    "            break\n",
    "        end\n",
    "    end\n",
    "    dists\n",
    "end;"
   ]
  },
  {
   "cell_type": "code",
   "execution_count": null,
   "id": "367eea12-0544-488e-a8d7-06dbcc18e67f",
   "metadata": {},
   "outputs": [],
   "source": [
    "function get_similarity_matrix_outdir(name, relationships, expand)\n",
    "    # if the matrix is already stored on disk, return its filepath\n",
    "    # otherwise, regenerate the matrix and store it to disk\n",
    "    outdir = \"$name/similarity_matrix\"\n",
    "    if ispath(\"../../data/alphas/$outdir\")\n",
    "        return outdir\n",
    "    end\n",
    "\n",
    "    @debug \"generating similarity matrix for relationships $relationships\"\n",
    "    S = get_similarity_matrix(relationships)\n",
    "    if expand\n",
    "        S = all_pairs_shortest_paths(S)\n",
    "        S[isfinite.(S)] .= 1\n",
    "        S[.!isfinite.(S)] .= 0\n",
    "    end\n",
    "    S = convert.(Float32, collect(S))\n",
    "    write_params(Dict(\"S\" => S), outdir)\n",
    "    outdir\n",
    "end;"
   ]
  },
  {
   "cell_type": "code",
   "execution_count": null,
   "id": "7498a745-740a-4869-bf5e-7a5e3d076c12",
   "metadata": {},
   "outputs": [],
   "source": [
    "# definitions for the relationships can be found at https://myanimelist.net/info.php?go=relationinfo\n",
    "const strict_relations = Set((\"sequel\", \"prequel\", \"parent_story\", \"side_story\"))\n",
    "const recap_relations = Set((\"alternative_version\", \"summary\", \"full_story\"))\n",
    "const loose_relations = Set((\"alternative_setting\", \"spin_off\"))\n",
    "const no_relations = Set((\"adaptation\", \"character\", \"other\"))\n",
    "const all_relations =\n",
    "    union(strict_relations, recap_relations, loose_relations, no_relations)\n",
    "df = DataFrame(CSV.File(get_data_path(\"processed_data/related_series.csv\")));\n",
    "@assert all(map(x -> x ∈ all_relations, df.relationship))"
   ]
  },
  {
   "cell_type": "code",
   "execution_count": null,
   "id": "c0c08130-a539-47a5-b69a-7f082896d5d8",
   "metadata": {},
   "outputs": [],
   "source": [
    "get_similarity_matrix_outdir(\n",
    "    \"all/RelatedSeries\",\n",
    "    union(strict_relations, recap_relations, loose_relations),\n",
    "    true,\n",
    ")\n",
    "get_similarity_matrix_outdir(\"all/RecapSeries\", recap_relations, false);"
   ]
  }
 ],
 "metadata": {
  "kernelspec": {
   "display_name": "Julia 1.8.3",
   "language": "julia",
   "name": "julia-1.8"
  },
  "language_info": {
   "file_extension": ".jl",
   "mimetype": "application/julia",
   "name": "julia",
   "version": "1.8.3"
  }
 },
 "nbformat": 4,
 "nbformat_minor": 5
}
