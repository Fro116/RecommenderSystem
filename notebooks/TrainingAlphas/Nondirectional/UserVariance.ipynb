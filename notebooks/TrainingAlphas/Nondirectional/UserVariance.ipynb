{
 "cells": [
  {
   "cell_type": "markdown",
   "id": "34f6e653-a085-4ced-98a4-385398a5627d",
   "metadata": {
    "tags": []
   },
   "source": [
    "# UserVariance"
   ]
  },
  {
   "cell_type": "code",
   "execution_count": null,
   "id": "ed50e828-7ce8-46b0-9555-6b15a628da88",
   "metadata": {
    "tags": [
     "parameters"
    ]
   },
   "outputs": [],
   "source": [
    "medium = \"\""
   ]
  },
  {
   "cell_type": "code",
   "execution_count": null,
   "id": "7cc9334a-2287-41d6-885b-a5cca94fe263",
   "metadata": {
    "tags": [
     "parameters"
    ]
   },
   "outputs": [],
   "source": [
    "const name = \"$medium/all/UserVariance\"\n",
    "const content = \"explicit\";"
   ]
  },
  {
   "cell_type": "code",
   "execution_count": null,
   "id": "5f693eb8-9aab-4305-a6ee-17e885f3f24d",
   "metadata": {
    "tags": []
   },
   "outputs": [],
   "source": [
    "using DataFrames\n",
    "\n",
    "import NBInclude: @nbinclude\n",
    "import Statistics: var\n",
    "@nbinclude(\"../Alpha.ipynb\");"
   ]
  },
  {
   "cell_type": "code",
   "execution_count": null,
   "id": "4fe35a95-4fae-4804-879c-3b6b978f0cf2",
   "metadata": {},
   "outputs": [],
   "source": [
    "function get_dataframe(split, content)\n",
    "    df = get_split(split, \"all\", content, medium)\n",
    "    DataFrame(user = df.user, item = df.item, rating = df.rating)\n",
    "end;"
   ]
  },
  {
   "cell_type": "code",
   "execution_count": null,
   "id": "59fb718e-dc9e-4452-b72c-829ae2d843ff",
   "metadata": {},
   "outputs": [],
   "source": [
    "function make_prediction(users, items, u)\n",
    "    r = zeros(Float32, length(users))\n",
    "    Threads.@threads for i = 1:length(r)\n",
    "        if users[i] in keys(u)\n",
    "            r[i] = u[users[i]]\n",
    "        end\n",
    "    end\n",
    "    r\n",
    "end;"
   ]
  },
  {
   "cell_type": "code",
   "execution_count": null,
   "id": "9b66af2e-9ee9-4852-b1a1-5566f27ba7ea",
   "metadata": {},
   "outputs": [],
   "source": [
    "const training = get_dataframe(\"training\", content)\n",
    "u = combine(groupby(training, :user), :rating => var => :rating)\n",
    "u.rating[isnan.(u.rating)] .= 0\n",
    "u = Dict(Pair.(u.user, u.rating))\n",
    "model(users, items) = make_prediction(users, items, u)\n",
    "write_params(Dict(\"u\" => u), name)\n",
    "write_alpha(model, medium, name; log = false);"
   ]
  }
 ],
 "metadata": {
  "kernelspec": {
   "display_name": "Julia 1.9.0-rc2",
   "language": "julia",
   "name": "julia-1.9"
  },
  "language_info": {
   "file_extension": ".jl",
   "mimetype": "application/julia",
   "name": "julia",
   "version": "1.9.0"
  }
 },
 "nbformat": 4,
 "nbformat_minor": 5
}
