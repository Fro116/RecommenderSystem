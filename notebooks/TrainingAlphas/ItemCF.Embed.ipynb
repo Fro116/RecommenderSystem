{
 "cells": [
  {
   "cell_type": "markdown",
   "id": "c3758ece-9b72-47b4-ae6a-aa364e0443e3",
   "metadata": {},
   "source": [
    "# Item Collaborative Filtering\n",
    "* See `ItemCollaborativeFilteringBase.ipynb` for algorithm details\n",
    "* The weights here are the reciprocal of the l2-norm between the item embeddings"
   ]
  },
  {
   "cell_type": "code",
   "execution_count": 1,
   "id": "7cc9334a-2287-41d6-885b-a5cca94fe263",
   "metadata": {},
   "outputs": [],
   "source": [
    "name = \"ItemCF.Embed\";"
   ]
  },
  {
   "cell_type": "code",
   "execution_count": 2,
   "id": "d17593ac-3260-4c01-a5df-91edfcd17e13",
   "metadata": {},
   "outputs": [],
   "source": [
    "using NBInclude\n",
    "@nbinclude(\"ItemCFBase.ipynb\");"
   ]
  },
  {
   "cell_type": "markdown",
   "id": "bff8e524-e8f8-48bd-9ca7-c28a05a122b8",
   "metadata": {},
   "source": [
    "## Compute cosine correlations"
   ]
  },
  {
   "cell_type": "code",
   "execution_count": 3,
   "id": "c9572dd9-db8e-4b1c-83ca-cacc666325f9",
   "metadata": {},
   "outputs": [],
   "source": [
    "function normalize_rows(X)\n",
    "    σ = std(X, dims = 2)\n",
    "    μ = mean(X, dims = 2)\n",
    "    (X .- μ) ./ σ\n",
    "end\n",
    "\n",
    "function get_embed_matrix_outdir(power)\n",
    "    # if the matrix is already stored on disk, return its filepath\n",
    "    # otherwise, regenerate the matrix and store it to disk\n",
    "    outdir = \"$name/$(hash(power))\"\n",
    "    if ispath(\"../../data/alphas/$outdir\")\n",
    "        return outdir\n",
    "    end\n",
    "\n",
    "    @debug \"generating similarity matrix for $power-norm\"\n",
    "    item_embeddings = normalize_rows(\n",
    "        vcat(\n",
    "            [collect(read_params(\"MatrixFactorization.$K\")[\"A\"]') for K in [10, 20, 40]]...,\n",
    "        ),\n",
    "    )\n",
    "    training = get_residuals(\"training\", residual_alphas)\n",
    "    S = zeros(maximum(training.item), maximum(training.item))\n",
    "\n",
    "    kernel = item_embeddings\n",
    "    p = power\n",
    "    @tprogress Threads.@threads for j = 1:size(S)[1]\n",
    "        dists = map(x -> norm(x, p), eachslice(kernel .- kernel[:, j], dims = 2))\n",
    "        S[:, j] = 1 ./ dists\n",
    "    end\n",
    "\n",
    "    # remove Inf\n",
    "    clamp!(S, -1e9, 1e9)\n",
    "    S = convert.(Float32, S)\n",
    "    write_params(Dict(\"S\" => S), outdir = outdir)\n",
    "    outdir\n",
    "end;"
   ]
  },
  {
   "cell_type": "markdown",
   "id": "85910c72-6e77-4dbd-8991-6ad3b81035a7",
   "metadata": {},
   "source": [
    "## Setup hyperparameters"
   ]
  },
  {
   "cell_type": "code",
   "execution_count": 4,
   "id": "0c00b2aa-a40c-4374-9631-9918f0f55968",
   "metadata": {},
   "outputs": [
    {
     "name": "stderr",
     "output_type": "stream",
     "text": [
      "\u001b[38;5;4m\u001b[1m[ \u001b[22m\u001b[39m\u001b[38;5;4m\u001b[1mDebug: \u001b[22m\u001b[39m20220225 13:59:52 generating similarity matrix for 2-norm\n",
      "\u001b[32mProgress: 100%|███████████████████████████| Time: 0:00:09 ( 7.99 ms/it)\u001b[39m\n"
     ]
    }
   ],
   "source": [
    "item_cf_params = [\n",
    "    cf_params(\n",
    "        name = \"ItemCF.Embed.$K\",\n",
    "        training_residuals = [\"UserItemBiases\"],\n",
    "        validation_residuals = [\"UserItemBiases\"],\n",
    "        neighborhood_type = \"abs\",\n",
    "        S = get_embed_matrix_outdir(2),\n",
    "        K = K,\n",
    "        λ = [1.0, 1.0, 0.0],\n",
    "    ) for K in [2^8]\n",
    "];"
   ]
  },
  {
   "cell_type": "markdown",
   "id": "73d6710c-a42a-443d-8616-f1441be67eee",
   "metadata": {},
   "source": [
    "## Train models"
   ]
  },
  {
   "cell_type": "code",
   "execution_count": 5,
   "id": "1842d509-9377-4b28-9fe9-9212da6183d1",
   "metadata": {
    "tags": []
   },
   "outputs": [
    {
     "name": "stderr",
     "output_type": "stream",
     "text": [
      "\u001b[32mProgress: 100%|███████████████████████████| Time: 0:01:13 (86.05 ms/it)\u001b[39m\n",
      "\u001b[38;5;4m\u001b[1m[ \u001b[22m\u001b[39m\u001b[38;5;4m\u001b[1mDebug: \u001b[22m\u001b[39m20220225 14:02:53 loss: Dual{ForwardDiff.Tag{var\"#validation_mse#23\"{var\"#20#22\"{cf_params, Dict{String, typeof(get_abs_neighborhood)}, Int64, Matrix{Float32}}, RatingsDataset, RatingsDataset}, Float32}}(1.5124373,-0.040910013,0.0021147113,-1.3616091) β: Dual{ForwardDiff.Tag{var\"#validation_mse#23\"{var\"#20#22\"{cf_params, Dict{String, typeof(get_abs_neighborhood)}, Int64, Matrix{Float32}}, RatingsDataset, RatingsDataset}, Float32}}(0.6240272,0.02345366,-0.43045282,6.719317): λ ForwardDiff.Dual{ForwardDiff.Tag{var\"#validation_mse#23\"{var\"#20#22\"{cf_params, Dict{String, typeof(get_abs_neighborhood)}, Int64, Matrix{Float32}}, RatingsDataset, RatingsDataset}, Float32}, Float32, 3}[Dual{ForwardDiff.Tag{var\"#validation_mse#23\"{var\"#20#22\"{cf_params, Dict{String, typeof(get_abs_neighborhood)}, Int64, Matrix{Float32}}, RatingsDataset, RatingsDataset}, Float32}}(1.0,1.0,0.0,0.0), Dual{ForwardDiff.Tag{var\"#validation_mse#23\"{var\"#20#22\"{cf_params, Dict{String, typeof(get_abs_neighborhood)}, Int64, Matrix{Float32}}, RatingsDataset, RatingsDataset}, Float32}}(1.0,0.0,1.0,0.0), Dual{ForwardDiff.Tag{var\"#validation_mse#23\"{var\"#20#22\"{cf_params, Dict{String, typeof(get_abs_neighborhood)}, Int64, Matrix{Float32}}, RatingsDataset, RatingsDataset}, Float32}}(0.0,0.0,0.0,1.0)]\n"
     ]
    },
    {
     "name": "stdout",
     "output_type": "stream",
     "text": [
      "Iter     Function value   Gradient norm \n",
      "     0     1.512437e+00     1.361609e+00\n",
      " * Current step size: 1.0\n",
      " * time: 0.02502608299255371\n",
      " * g(x): Float32[-0.040910013, 0.0021147113, -1.3616091]\n",
      " * x: Float32[1.0, 1.0, 0.0]\n"
     ]
    },
    {
     "name": "stderr",
     "output_type": "stream",
     "text": [
      "\u001b[32mProgress: 100%|███████████████████████████| Time: 0:01:50 ( 0.13  s/it)\u001b[39m\n",
      "\u001b[38;5;4m\u001b[1m[ \u001b[22m\u001b[39m\u001b[38;5;4m\u001b[1mDebug: \u001b[22m\u001b[39m20220225 14:05:07 loss: Dual{ForwardDiff.Tag{var\"#validation_mse#23\"{var\"#20#22\"{cf_params, Dict{String, typeof(get_abs_neighborhood)}, Int64, Matrix{Float32}}, RatingsDataset, RatingsDataset}, Float32}}(1.5006993,0.06975965,-0.008996509,0.025124907) β: Dual{ForwardDiff.Tag{var\"#validation_mse#23\"{var\"#20#22\"{cf_params, Dict{String, typeof(get_abs_neighborhood)}, Int64, Matrix{Float32}}, RatingsDataset, RatingsDataset}, Float32}}(2.817305,2.9766443,-1.6654081,1.0544095): λ ForwardDiff.Dual{ForwardDiff.Tag{var\"#validation_mse#23\"{var\"#20#22\"{cf_params, Dict{String, typeof(get_abs_neighborhood)}, Int64, Matrix{Float32}}, RatingsDataset, RatingsDataset}, Float32}, Float32, 3}[Dual{ForwardDiff.Tag{var\"#validation_mse#23\"{var\"#20#22\"{cf_params, Dict{String, typeof(get_abs_neighborhood)}, Int64, Matrix{Float32}}, RatingsDataset, RatingsDataset}, Float32}}(1.04091,1.0,0.0,0.0), Dual{ForwardDiff.Tag{var\"#validation_mse#23\"{var\"#20#22\"{cf_params, Dict{String, typeof(get_abs_neighborhood)}, Int64, Matrix{Float32}}, RatingsDataset, RatingsDataset}, Float32}}(0.9978853,0.0,1.0,0.0), Dual{ForwardDiff.Tag{var\"#validation_mse#23\"{var\"#20#22\"{cf_params, Dict{String, typeof(get_abs_neighborhood)}, Int64, Matrix{Float32}}, RatingsDataset, RatingsDataset}, Float32}}(1.3616091,0.0,0.0,1.0)]\n",
      "\u001b[32mProgress: 100%|███████████████████████████| Time: 0:01:55 ( 0.13  s/it)\u001b[39m\n",
      "\u001b[38;5;4m\u001b[1m[ \u001b[22m\u001b[39m\u001b[38;5;4m\u001b[1mDebug: \u001b[22m\u001b[39m20220225 14:07:20 loss: Dual{ForwardDiff.Tag{var\"#validation_mse#23\"{var\"#20#22\"{cf_params, Dict{String, typeof(get_abs_neighborhood)}, Int64, Matrix{Float32}}, RatingsDataset, RatingsDataset}, Float32}}(1.499969,0.06881835,-0.009043385,0.025436264) β: Dual{ForwardDiff.Tag{var\"#validation_mse#23\"{var\"#20#22\"{cf_params, Dict{String, typeof(get_abs_neighborhood)}, Int64, Matrix{Float32}}, RatingsDataset, RatingsDataset}, Float32}}(2.7865376,2.9380841,-1.647609,1.0597683): λ ForwardDiff.Dual{ForwardDiff.Tag{var\"#validation_mse#23\"{var\"#20#22\"{cf_params, Dict{String, typeof(get_abs_neighborhood)}, Int64, Matrix{Float32}}, RatingsDataset, RatingsDataset}, Float32}, Float32, 3}[Dual{ForwardDiff.Tag{var\"#validation_mse#23\"{var\"#20#22\"{cf_params, Dict{String, typeof(get_abs_neighborhood)}, Int64, Matrix{Float32}}, RatingsDataset, RatingsDataset}, Float32}}(1.0401084,1.0,0.0,0.0), Dual{ForwardDiff.Tag{var\"#validation_mse#23\"{var\"#20#22\"{cf_params, Dict{String, typeof(get_abs_neighborhood)}, Int64, Matrix{Float32}}, RatingsDataset, RatingsDataset}, Float32}}(0.9979267,0.0,1.0,0.0), Dual{ForwardDiff.Tag{var\"#validation_mse#23\"{var\"#20#22\"{cf_params, Dict{String, typeof(get_abs_neighborhood)}, Int64, Matrix{Float32}}, RatingsDataset, RatingsDataset}, Float32}}(1.3349321,0.0,0.0,1.0)]\n"
     ]
    },
    {
     "name": "stdout",
     "output_type": "stream",
     "text": [
      "     1     1.499969e+00     6.881835e-02\n",
      " * Current step size: 0.9804077\n",
      " * time: 267.7211310863495\n",
      " * g(x): Float32[0.06881835, -0.009043385, 0.025436264]\n",
      " * x: Float32[1.0401084, 0.9979267, 1.3349321]\n"
     ]
    },
    {
     "name": "stderr",
     "output_type": "stream",
     "text": [
      "\u001b[32mProgress: 100%|███████████████████████████| Time: 0:01:54 ( 0.13  s/it)\u001b[39m\n",
      "\u001b[38;5;4m\u001b[1m[ \u001b[22m\u001b[39m\u001b[38;5;4m\u001b[1mDebug: \u001b[22m\u001b[39m20220225 14:09:29 loss: Dual{ForwardDiff.Tag{var\"#validation_mse#23\"{var\"#20#22\"{cf_params, Dict{String, typeof(get_abs_neighborhood)}, Int64, Matrix{Float32}}, RatingsDataset, RatingsDataset}, Float32}}(1.4953718,0.054921303,-0.008257365,0.023662424) β: Dual{ForwardDiff.Tag{var\"#validation_mse#23\"{var\"#20#22\"{cf_params, Dict{String, typeof(get_abs_neighborhood)}, Int64, Matrix{Float32}}, RatingsDataset, RatingsDataset}, Float32}}(2.5673468,2.7637973,-1.539749,0.9719316): λ ForwardDiff.Dual{ForwardDiff.Tag{var\"#validation_mse#23\"{var\"#20#22\"{cf_params, Dict{String, typeof(get_abs_neighborhood)}, Int64, Matrix{Float32}}, RatingsDataset, RatingsDataset}, Float32}, Float32, 3}[Dual{ForwardDiff.Tag{var\"#validation_mse#23\"{var\"#20#22\"{cf_params, Dict{String, typeof(get_abs_neighborhood)}, Int64, Matrix{Float32}}, RatingsDataset, RatingsDataset}, Float32}}(0.97551835,1.0,0.0,0.0), Dual{ForwardDiff.Tag{var\"#validation_mse#23\"{var\"#20#22\"{cf_params, Dict{String, typeof(get_abs_neighborhood)}, Int64, Matrix{Float32}}, RatingsDataset, RatingsDataset}, Float32}}(1.0064207,0.0,1.0,0.0), Dual{ForwardDiff.Tag{var\"#validation_mse#23\"{var\"#20#22\"{cf_params, Dict{String, typeof(get_abs_neighborhood)}, Int64, Matrix{Float32}}, RatingsDataset, RatingsDataset}, Float32}}(1.313626,0.0,0.0,1.0)]\n",
      "\u001b[32mProgress: 100%|███████████████████████████| Time: 0:01:56 ( 0.14  s/it)\u001b[39m\n",
      "\u001b[38;5;4m\u001b[1m[ \u001b[22m\u001b[39m\u001b[38;5;4m\u001b[1mDebug: \u001b[22m\u001b[39m20220225 14:11:43 loss: Dual{ForwardDiff.Tag{var\"#validation_mse#23\"{var\"#20#22\"{cf_params, Dict{String, typeof(get_abs_neighborhood)}, Int64, Matrix{Float32}}, RatingsDataset, RatingsDataset}, Float32}}(1.4869803,-0.0046020895,-0.0030992527,0.014005763) β: Dual{ForwardDiff.Tag{var\"#validation_mse#23\"{var\"#20#22\"{cf_params, Dict{String, typeof(get_abs_neighborhood)}, Int64, Matrix{Float32}}, RatingsDataset, RatingsDataset}, Float32}}(1.8331724,2.0357096,-1.1753339,0.66450983): λ ForwardDiff.Dual{ForwardDiff.Tag{var\"#validation_mse#23\"{var\"#20#22\"{cf_params, Dict{String, typeof(get_abs_neighborhood)}, Int64, Matrix{Float32}}, RatingsDataset, RatingsDataset}, Float32}, Float32, 3}[Dual{ForwardDiff.Tag{var\"#validation_mse#23\"{var\"#20#22\"{cf_params, Dict{String, typeof(get_abs_neighborhood)}, Int64, Matrix{Float32}}, RatingsDataset, RatingsDataset}, Float32}}(0.717158,1.0,0.0,0.0), Dual{ForwardDiff.Tag{var\"#validation_mse#23\"{var\"#20#22\"{cf_params, Dict{String, typeof(get_abs_neighborhood)}, Int64, Matrix{Float32}}, RatingsDataset, RatingsDataset}, Float32}}(1.0403966,0.0,1.0,0.0), Dual{ForwardDiff.Tag{var\"#validation_mse#23\"{var\"#20#22\"{cf_params, Dict{String, typeof(get_abs_neighborhood)}, Int64, Matrix{Float32}}, RatingsDataset, RatingsDataset}, Float32}}(1.2284018,0.0,0.0,1.0)]\n",
      "\u001b[32mProgress: 100%|███████████████████████████| Time: 0:01:52 ( 0.13  s/it)\u001b[39m\n",
      "\u001b[38;5;4m\u001b[1m[ \u001b[22m\u001b[39m\u001b[38;5;4m\u001b[1mDebug: \u001b[22m\u001b[39m20220225 14:13:56 loss: Dual{ForwardDiff.Tag{var\"#validation_mse#23\"{var\"#20#22\"{cf_params, Dict{String, typeof(get_abs_neighborhood)}, Int64, Matrix{Float32}}, RatingsDataset, RatingsDataset}, Float32}}(1.5797064,-0.050614476,0.026329758,-0.0046279477) β: Dual{ForwardDiff.Tag{var\"#validation_mse#23\"{var\"#20#22\"{cf_params, Dict{String, typeof(get_abs_neighborhood)}, Int64, Matrix{Float32}}, RatingsDataset, RatingsDataset}, Float32}}(0.5020385,0.17639157,-0.45670018,0.05341509): λ ForwardDiff.Dual{ForwardDiff.Tag{var\"#validation_mse#23\"{var\"#20#22\"{cf_params, Dict{String, typeof(get_abs_neighborhood)}, Int64, Matrix{Float32}}, RatingsDataset, RatingsDataset}, Float32}, Float32, 3}[Dual{ForwardDiff.Tag{var\"#validation_mse#23\"{var\"#20#22\"{cf_params, Dict{String, typeof(get_abs_neighborhood)}, Int64, Matrix{Float32}}, RatingsDataset, RatingsDataset}, Float32}}(-0.5746438,1.0,0.0,0.0), Dual{ForwardDiff.Tag{var\"#validation_mse#23\"{var\"#20#22\"{cf_params, Dict{String, typeof(get_abs_neighborhood)}, Int64, Matrix{Float32}}, RatingsDataset, RatingsDataset}, Float32}}(1.210276,0.0,1.0,0.0), Dual{ForwardDiff.Tag{var\"#validation_mse#23\"{var\"#20#22\"{cf_params, Dict{String, typeof(get_abs_neighborhood)}, Int64, Matrix{Float32}}, RatingsDataset, RatingsDataset}, Float32}}(0.8022803,0.0,0.0,1.0)]\n",
      "\u001b[32mProgress: 100%|███████████████████████████| Time: 0:01:53 ( 0.13  s/it)\u001b[39m\n",
      "\u001b[38;5;4m\u001b[1m[ \u001b[22m\u001b[39m\u001b[38;5;4m\u001b[1mDebug: \u001b[22m\u001b[39m20220225 14:16:10 loss: Dual{ForwardDiff.Tag{var\"#validation_mse#23\"{var\"#20#22\"{cf_params, Dict{String, typeof(get_abs_neighborhood)}, Int64, Matrix{Float32}}, RatingsDataset, RatingsDataset}, Float32}}(1.486988,-0.006857006,-0.0028459644,0.013572367) β: Dual{ForwardDiff.Tag{var\"#validation_mse#23\"{var\"#20#22\"{cf_params, Dict{String, typeof(get_abs_neighborhood)}, Int64, Matrix{Float32}}, RatingsDataset, RatingsDataset}, Float32}}(1.8096868,2.009042,-1.1635273,0.6544606): λ ForwardDiff.Dual{ForwardDiff.Tag{var\"#validation_mse#23\"{var\"#20#22\"{cf_params, Dict{String, typeof(get_abs_neighborhood)}, Int64, Matrix{Float32}}, RatingsDataset, RatingsDataset}, Float32}, Float32, 3}[Dual{ForwardDiff.Tag{var\"#validation_mse#23\"{var\"#20#22\"{cf_params, Dict{String, typeof(get_abs_neighborhood)}, Int64, Matrix{Float32}}, RatingsDataset, RatingsDataset}, Float32}}(0.7073476,1.0,0.0,0.0), Dual{ForwardDiff.Tag{var\"#validation_mse#23\"{var\"#20#22\"{cf_params, Dict{String, typeof(get_abs_neighborhood)}, Int64, Matrix{Float32}}, RatingsDataset, RatingsDataset}, Float32}}(1.0416867,0.0,1.0,0.0), Dual{ForwardDiff.Tag{var\"#validation_mse#23\"{var\"#20#22\"{cf_params, Dict{String, typeof(get_abs_neighborhood)}, Int64, Matrix{Float32}}, RatingsDataset, RatingsDataset}, Float32}}(1.2251656,0.0,0.0,1.0)]\n"
     ]
    },
    {
     "name": "stdout",
     "output_type": "stream",
     "text": [
      "     2     1.486988e+00     1.357237e-02\n",
      " * Current step size: 5.1518874\n",
      " * time: 797.2946710586548\n",
      " * g(x): Float32[-0.006857006, -0.0028459644, 0.013572367]\n",
      " * x: Float32[0.7073476, 1.0416867, 1.2251656]\n"
     ]
    },
    {
     "name": "stderr",
     "output_type": "stream",
     "text": [
      "\u001b[32mProgress: 100%|███████████████████████████| Time: 0:01:53 ( 0.13  s/it)\u001b[39m\n",
      "\u001b[38;5;4m\u001b[1m[ \u001b[22m\u001b[39m\u001b[38;5;4m\u001b[1mDebug: \u001b[22m\u001b[39m20220225 14:18:23 loss: Dual{ForwardDiff.Tag{var\"#validation_mse#23\"{var\"#20#22\"{cf_params, Dict{String, typeof(get_abs_neighborhood)}, Int64, Matrix{Float32}}, RatingsDataset, RatingsDataset}, Float32}}(1.4866102,-0.0049872175,-0.0006204477,0.014111155) β: Dual{ForwardDiff.Tag{var\"#validation_mse#23\"{var\"#20#22\"{cf_params, Dict{String, typeof(get_abs_neighborhood)}, Int64, Matrix{Float32}}, RatingsDataset, RatingsDataset}, Float32}}(1.8054607,1.9995608,-1.1855175,0.66567576): λ ForwardDiff.Dual{ForwardDiff.Tag{var\"#validation_mse#23\"{var\"#20#22\"{cf_params, Dict{String, typeof(get_abs_neighborhood)}, Int64, Matrix{Float32}}, RatingsDataset, RatingsDataset}, Float32}, Float32, 3}[Dual{ForwardDiff.Tag{var\"#validation_mse#23\"{var\"#20#22\"{cf_params, Dict{String, typeof(get_abs_neighborhood)}, Int64, Matrix{Float32}}, RatingsDataset, RatingsDataset}, Float32}}(0.7204946,1.0,0.0,0.0), Dual{ForwardDiff.Tag{var\"#validation_mse#23\"{var\"#20#22\"{cf_params, Dict{String, typeof(get_abs_neighborhood)}, Int64, Matrix{Float32}}, RatingsDataset, RatingsDataset}, Float32}}(1.0566231,0.0,1.0,0.0), Dual{ForwardDiff.Tag{var\"#validation_mse#23\"{var\"#20#22\"{cf_params, Dict{String, typeof(get_abs_neighborhood)}, Int64, Matrix{Float32}}, RatingsDataset, RatingsDataset}, Float32}}(1.2053636,0.0,0.0,1.0)]\n",
      "\u001b[32mProgress: 100%|███████████████████████████| Time: 0:01:49 ( 0.13  s/it)\u001b[39m\n",
      "\u001b[38;5;4m\u001b[1m[ \u001b[22m\u001b[39m\u001b[38;5;4m\u001b[1mDebug: \u001b[22m\u001b[39m20220225 14:20:35 loss: Dual{ForwardDiff.Tag{var\"#validation_mse#23\"{var\"#20#22\"{cf_params, Dict{String, typeof(get_abs_neighborhood)}, Int64, Matrix{Float32}}, RatingsDataset, RatingsDataset}, Float32}}(1.4855677,0.002538382,0.008279441,0.01639252) β: Dual{ForwardDiff.Tag{var\"#validation_mse#23\"{var\"#20#22\"{cf_params, Dict{String, typeof(get_abs_neighborhood)}, Int64, Matrix{Float32}}, RatingsDataset, RatingsDataset}, Float32}}(1.7814169,1.950726,-1.2669741,0.7107467): λ ForwardDiff.Dual{ForwardDiff.Tag{var\"#validation_mse#23\"{var\"#20#22\"{cf_params, Dict{String, typeof(get_abs_neighborhood)}, Int64, Matrix{Float32}}, RatingsDataset, RatingsDataset}, Float32}, Float32, 3}[Dual{ForwardDiff.Tag{var\"#validation_mse#23\"{var\"#20#22\"{cf_params, Dict{String, typeof(get_abs_neighborhood)}, Int64, Matrix{Float32}}, RatingsDataset, RatingsDataset}, Float32}}(0.7730829,1.0,0.0,0.0), Dual{ForwardDiff.Tag{var\"#validation_mse#23\"{var\"#20#22\"{cf_params, Dict{String, typeof(get_abs_neighborhood)}, Int64, Matrix{Float32}}, RatingsDataset, RatingsDataset}, Float32}}(1.1163691,0.0,1.0,0.0), Dual{ForwardDiff.Tag{var\"#validation_mse#23\"{var\"#20#22\"{cf_params, Dict{String, typeof(get_abs_neighborhood)}, Int64, Matrix{Float32}}, RatingsDataset, RatingsDataset}, Float32}}(1.1261559,0.0,0.0,1.0)]\n",
      "\u001b[32mProgress: 100%|███████████████████████████| Time: 0:01:48 ( 0.13  s/it)\u001b[39m\n",
      "\u001b[38;5;4m\u001b[1m[ \u001b[22m\u001b[39m\u001b[38;5;4m\u001b[1mDebug: \u001b[22m\u001b[39m20220225 14:22:46 loss: Dual{ForwardDiff.Tag{var\"#validation_mse#23\"{var\"#20#22\"{cf_params, Dict{String, typeof(get_abs_neighborhood)}, Int64, Matrix{Float32}}, RatingsDataset, RatingsDataset}, Float32}}(1.4906865,0.036981545,0.051349558,0.031842027) β: Dual{ForwardDiff.Tag{var\"#validation_mse#23\"{var\"#20#22\"{cf_params, Dict{String, typeof(get_abs_neighborhood)}, Int64, Matrix{Float32}}, RatingsDataset, RatingsDataset}, Float32}}(1.4942796,1.4776647,-1.4662857,0.93929017): λ ForwardDiff.Dual{ForwardDiff.Tag{var\"#validation_mse#23\"{var\"#20#22\"{cf_params, Dict{String, typeof(get_abs_neighborhood)}, Int64, Matrix{Float32}}, RatingsDataset, RatingsDataset}, Float32}, Float32, 3}[Dual{ForwardDiff.Tag{var\"#validation_mse#23\"{var\"#20#22\"{cf_params, Dict{String, typeof(get_abs_neighborhood)}, Int64, Matrix{Float32}}, RatingsDataset, RatingsDataset}, Float32}}(1.0360243,1.0,0.0,0.0), Dual{ForwardDiff.Tag{var\"#validation_mse#23\"{var\"#20#22\"{cf_params, Dict{String, typeof(get_abs_neighborhood)}, Int64, Matrix{Float32}}, RatingsDataset, RatingsDataset}, Float32}}(1.4150991,0.0,1.0,0.0), Dual{ForwardDiff.Tag{var\"#validation_mse#23\"{var\"#20#22\"{cf_params, Dict{String, typeof(get_abs_neighborhood)}, Int64, Matrix{Float32}}, RatingsDataset, RatingsDataset}, Float32}}(0.7301166,0.0,0.0,1.0)]\n",
      "\u001b[32mProgress: 100%|███████████████████████████| Time: 0:01:52 ( 0.13  s/it)\u001b[39m\n",
      "\u001b[38;5;4m\u001b[1m[ \u001b[22m\u001b[39m\u001b[38;5;4m\u001b[1mDebug: \u001b[22m\u001b[39m20220225 14:24:58 loss: Dual{ForwardDiff.Tag{var\"#validation_mse#23\"{var\"#20#22\"{cf_params, Dict{String, typeof(get_abs_neighborhood)}, Int64, Matrix{Float32}}, RatingsDataset, RatingsDataset}, Float32}}(1.4852675,0.01049406,0.017675672,0.01905191) β: Dual{ForwardDiff.Tag{var\"#validation_mse#23\"{var\"#20#22\"{cf_params, Dict{String, typeof(get_abs_neighborhood)}, Int64, Matrix{Float32}}, RatingsDataset, RatingsDataset}, Float32}}(1.743878,1.8807513,-1.3404291,0.75890076): λ ForwardDiff.Dual{ForwardDiff.Tag{var\"#validation_mse#23\"{var\"#20#22\"{cf_params, Dict{String, typeof(get_abs_neighborhood)}, Int64, Matrix{Float32}}, RatingsDataset, RatingsDataset}, Float32}, Float32, 3}[Dual{ForwardDiff.Tag{var\"#validation_mse#23\"{var\"#20#22\"{cf_params, Dict{String, typeof(get_abs_neighborhood)}, Int64, Matrix{Float32}}, RatingsDataset, RatingsDataset}, Float32}}(0.82884,1.0,0.0,0.0), Dual{ForwardDiff.Tag{var\"#validation_mse#23\"{var\"#20#22\"{cf_params, Dict{String, typeof(get_abs_neighborhood)}, Int64, Matrix{Float32}}, RatingsDataset, RatingsDataset}, Float32}}(1.1797153,0.0,1.0,0.0), Dual{ForwardDiff.Tag{var\"#validation_mse#23\"{var\"#20#22\"{cf_params, Dict{String, typeof(get_abs_neighborhood)}, Int64, Matrix{Float32}}, RatingsDataset, RatingsDataset}, Float32}}(1.042175,0.0,0.0,1.0)]\n"
     ]
    },
    {
     "name": "stdout",
     "output_type": "stream",
     "text": [
      "     3     1.485268e+00     1.905191e-02\n",
      " * Current step size: 9.24103\n",
      " * time: 1325.0367360115051\n",
      " * g(x): Float32[0.01049406, 0.017675672, 0.01905191]\n",
      " * x: Float32[0.82884, 1.1797153, 1.042175]\n"
     ]
    },
    {
     "name": "stderr",
     "output_type": "stream",
     "text": [
      "\u001b[32mProgress: 100%|███████████████████████████| Time: 0:01:49 ( 0.13  s/it)\u001b[39m\n",
      "\u001b[38;5;4m\u001b[1m[ \u001b[22m\u001b[39m\u001b[38;5;4m\u001b[1mDebug: \u001b[22m\u001b[39m20220225 14:27:06 loss: Dual{ForwardDiff.Tag{var\"#validation_mse#23\"{var\"#20#22\"{cf_params, Dict{String, typeof(get_abs_neighborhood)}, Int64, Matrix{Float32}}, RatingsDataset, RatingsDataset}, Float32}}(1.4823345,0.0061678262,0.02034133,0.020510172) β: Dual{ForwardDiff.Tag{var\"#validation_mse#23\"{var\"#20#22\"{cf_params, Dict{String, typeof(get_abs_neighborhood)}, Int64, Matrix{Float32}}, RatingsDataset, RatingsDataset}, Float32}}(1.634219,1.7064071,-1.2817332,0.8283115): λ ForwardDiff.Dual{ForwardDiff.Tag{var\"#validation_mse#23\"{var\"#20#22\"{cf_params, Dict{String, typeof(get_abs_neighborhood)}, Int64, Matrix{Float32}}, RatingsDataset, RatingsDataset}, Float32}, Float32, 3}[Dual{ForwardDiff.Tag{var\"#validation_mse#23\"{var\"#20#22\"{cf_params, Dict{String, typeof(get_abs_neighborhood)}, Int64, Matrix{Float32}}, RatingsDataset, RatingsDataset}, Float32}}(0.8538262,1.0,0.0,0.0), Dual{ForwardDiff.Tag{var\"#validation_mse#23\"{var\"#20#22\"{cf_params, Dict{String, typeof(get_abs_neighborhood)}, Int64, Matrix{Float32}}, RatingsDataset, RatingsDataset}, Float32}}(1.1933805,0.0,1.0,0.0), Dual{ForwardDiff.Tag{var\"#validation_mse#23\"{var\"#20#22\"{cf_params, Dict{String, typeof(get_abs_neighborhood)}, Int64, Matrix{Float32}}, RatingsDataset, RatingsDataset}, Float32}}(0.870199,0.0,0.0,1.0)]\n",
      "\u001b[32mProgress: 100%|███████████████████████████| Time: 0:01:53 ( 0.13  s/it)\u001b[39m\n",
      "\u001b[38;5;4m\u001b[1m[ \u001b[22m\u001b[39m\u001b[38;5;4m\u001b[1mDebug: \u001b[22m\u001b[39m20220225 14:29:17 loss: Dual{ForwardDiff.Tag{var\"#validation_mse#23\"{var\"#20#22\"{cf_params, Dict{String, typeof(get_abs_neighborhood)}, Int64, Matrix{Float32}}, RatingsDataset, RatingsDataset}, Float32}}(1.4725671,-0.058464557,0.03557133,-0.033120554) β: Dual{ForwardDiff.Tag{var\"#validation_mse#23\"{var\"#20#22\"{cf_params, Dict{String, typeof(get_abs_neighborhood)}, Int64, Matrix{Float32}}, RatingsDataset, RatingsDataset}, Float32}}(0.9499366,0.7424378,-0.83017474,1.6286442): λ ForwardDiff.Dual{ForwardDiff.Tag{var\"#validation_mse#23\"{var\"#20#22\"{cf_params, Dict{String, typeof(get_abs_neighborhood)}, Int64, Matrix{Float32}}, RatingsDataset, RatingsDataset}, Float32}, Float32, 3}[Dual{ForwardDiff.Tag{var\"#validation_mse#23\"{var\"#20#22\"{cf_params, Dict{String, typeof(get_abs_neighborhood)}, Int64, Matrix{Float32}}, RatingsDataset, RatingsDataset}, Float32}}(0.9537712,1.0,0.0,0.0), Dual{ForwardDiff.Tag{var\"#validation_mse#23\"{var\"#20#22\"{cf_params, Dict{String, typeof(get_abs_neighborhood)}, Int64, Matrix{Float32}}, RatingsDataset, RatingsDataset}, Float32}}(1.2480413,0.0,1.0,0.0), Dual{ForwardDiff.Tag{var\"#validation_mse#23\"{var\"#20#22\"{cf_params, Dict{String, typeof(get_abs_neighborhood)}, Int64, Matrix{Float32}}, RatingsDataset, RatingsDataset}, Float32}}(0.1822949,0.0,0.0,1.0)]\n",
      "\u001b[32mProgress: 100%|███████████████████████████| Time: 0:01:52 ( 0.13  s/it)\u001b[39m\n",
      "\u001b[38;5;4m\u001b[1m[ \u001b[22m\u001b[39m\u001b[38;5;4m\u001b[1mDebug: \u001b[22m\u001b[39m20220225 14:31:29 loss: Dual{ForwardDiff.Tag{var\"#validation_mse#23\"{var\"#20#22\"{cf_params, Dict{String, typeof(get_abs_neighborhood)}, Int64, Matrix{Float32}}, RatingsDataset, RatingsDataset}, Float32}}(1.4770755,-0.0062800036,0.025168244,0.021312699) β: Dual{ForwardDiff.Tag{var\"#validation_mse#23\"{var\"#20#22\"{cf_params, Dict{String, typeof(get_abs_neighborhood)}, Int64, Matrix{Float32}}, RatingsDataset, RatingsDataset}, Float32}}(1.423981,1.3899817,-1.1561965,0.9830664): λ ForwardDiff.Dual{ForwardDiff.Tag{var\"#validation_mse#23\"{var\"#20#22\"{cf_params, Dict{String, typeof(get_abs_neighborhood)}, Int64, Matrix{Float32}}, RatingsDataset, RatingsDataset}, Float32}, Float32, 3}[Dual{ForwardDiff.Tag{var\"#validation_mse#23\"{var\"#20#22\"{cf_params, Dict{String, typeof(get_abs_neighborhood)}, Int64, Matrix{Float32}}, RatingsDataset, RatingsDataset}, Float32}}(0.89340293,1.0,0.0,0.0), Dual{ForwardDiff.Tag{var\"#validation_mse#23\"{var\"#20#22\"{cf_params, Dict{String, typeof(get_abs_neighborhood)}, Int64, Matrix{Float32}}, RatingsDataset, RatingsDataset}, Float32}}(1.2150253,0.0,1.0,0.0), Dual{ForwardDiff.Tag{var\"#validation_mse#23\"{var\"#20#22\"{cf_params, Dict{String, typeof(get_abs_neighborhood)}, Int64, Matrix{Float32}}, RatingsDataset, RatingsDataset}, Float32}}(0.5977992,0.0,0.0,1.0)]\n"
     ]
    },
    {
     "name": "stdout",
     "output_type": "stream",
     "text": [
      "     4     1.477075e+00     2.516824e-02\n",
      " * Current step size: 2.5839407\n",
      " * time: 1716.1937220096588\n",
      " * g(x): Float32[-0.0062800036, 0.025168244, 0.021312699]\n",
      " * x: Float32[0.89340293, 1.2150253, 0.5977992]\n"
     ]
    },
    {
     "name": "stderr",
     "output_type": "stream",
     "text": [
      "\u001b[32mProgress: 100%|███████████████████████████| Time: 0:01:52 ( 0.13  s/it)\u001b[39m\n",
      "\u001b[38;5;4m\u001b[1m[ \u001b[22m\u001b[39m\u001b[38;5;4m\u001b[1mDebug: \u001b[22m\u001b[39m20220225 14:33:38 loss: Dual{ForwardDiff.Tag{var\"#validation_mse#23\"{var\"#20#22\"{cf_params, Dict{String, typeof(get_abs_neighborhood)}, Int64, Matrix{Float32}}, RatingsDataset, RatingsDataset}, Float32}}(1.4759905,-0.006711155,0.021350687,0.02170219) β: Dual{ForwardDiff.Tag{var\"#validation_mse#23\"{var\"#20#22\"{cf_params, Dict{String, typeof(get_abs_neighborhood)}, Int64, Matrix{Float32}}, RatingsDataset, RatingsDataset}, Float32}}(1.4402369,1.393502,-1.1361619,1.0232182): λ ForwardDiff.Dual{ForwardDiff.Tag{var\"#validation_mse#23\"{var\"#20#22\"{cf_params, Dict{String, typeof(get_abs_neighborhood)}, Int64, Matrix{Float32}}, RatingsDataset, RatingsDataset}, Float32}, Float32, 3}[Dual{ForwardDiff.Tag{var\"#validation_mse#23\"{var\"#20#22\"{cf_params, Dict{String, typeof(get_abs_neighborhood)}, Int64, Matrix{Float32}}, RatingsDataset, RatingsDataset}, Float32}}(0.89968294,1.0,0.0,0.0), Dual{ForwardDiff.Tag{var\"#validation_mse#23\"{var\"#20#22\"{cf_params, Dict{String, typeof(get_abs_neighborhood)}, Int64, Matrix{Float32}}, RatingsDataset, RatingsDataset}, Float32}}(1.189857,0.0,1.0,0.0), Dual{ForwardDiff.Tag{var\"#validation_mse#23\"{var\"#20#22\"{cf_params, Dict{String, typeof(get_abs_neighborhood)}, Int64, Matrix{Float32}}, RatingsDataset, RatingsDataset}, Float32}}(0.57648647,0.0,0.0,1.0)]\n",
      "\u001b[32mProgress: 100%|███████████████████████████| Time: 0:01:53 ( 0.13  s/it)\u001b[39m\n",
      "\u001b[38;5;4m\u001b[1m[ \u001b[22m\u001b[39m\u001b[38;5;4m\u001b[1mDebug: \u001b[22m\u001b[39m20220225 14:35:50 loss: Dual{ForwardDiff.Tag{var\"#validation_mse#23\"{var\"#20#22\"{cf_params, Dict{String, typeof(get_abs_neighborhood)}, Int64, Matrix{Float32}}, RatingsDataset, RatingsDataset}, Float32}}(1.4725267,-0.0094118435,0.005581546,0.022787997) β: Dual{ForwardDiff.Tag{var\"#validation_mse#23\"{var\"#20#22\"{cf_params, Dict{String, typeof(get_abs_neighborhood)}, Int64, Matrix{Float32}}, RatingsDataset, RatingsDataset}, Float32}}(1.4903241,1.3884389,-1.0366652,1.2011387): λ ForwardDiff.Dual{ForwardDiff.Tag{var\"#validation_mse#23\"{var\"#20#22\"{cf_params, Dict{String, typeof(get_abs_neighborhood)}, Int64, Matrix{Float32}}, RatingsDataset, RatingsDataset}, Float32}, Float32, 3}[Dual{ForwardDiff.Tag{var\"#validation_mse#23\"{var\"#20#22\"{cf_params, Dict{String, typeof(get_abs_neighborhood)}, Int64, Matrix{Float32}}, RatingsDataset, RatingsDataset}, Float32}}(0.92480296,1.0,0.0,0.0), Dual{ForwardDiff.Tag{var\"#validation_mse#23\"{var\"#20#22\"{cf_params, Dict{String, typeof(get_abs_neighborhood)}, Int64, Matrix{Float32}}, RatingsDataset, RatingsDataset}, Float32}}(1.089184,0.0,1.0,0.0), Dual{ForwardDiff.Tag{var\"#validation_mse#23\"{var\"#20#22\"{cf_params, Dict{String, typeof(get_abs_neighborhood)}, Int64, Matrix{Float32}}, RatingsDataset, RatingsDataset}, Float32}}(0.49123567,0.0,0.0,1.0)]\n",
      "\u001b[32mProgress: 100%|███████████████████████████| Time: 0:01:56 ( 0.14  s/it)\u001b[39m\n",
      "\u001b[38;5;4m\u001b[1m[ \u001b[22m\u001b[39m\u001b[38;5;4m\u001b[1mDebug: \u001b[22m\u001b[39m20220225 14:38:04 loss: Dual{ForwardDiff.Tag{var\"#validation_mse#23\"{var\"#20#22\"{cf_params, Dict{String, typeof(get_abs_neighborhood)}, Int64, Matrix{Float32}}, RatingsDataset, RatingsDataset}, Float32}}(1.4903308,-0.07032169,-0.082432576,-0.18314336) β: Dual{ForwardDiff.Tag{var\"#validation_mse#23\"{var\"#20#22\"{cf_params, Dict{String, typeof(get_abs_neighborhood)}, Int64, Matrix{Float32}}, RatingsDataset, RatingsDataset}, Float32}}(1.1038088,0.6439773,-0.19745351,3.8287687): λ ForwardDiff.Dual{ForwardDiff.Tag{var\"#validation_mse#23\"{var\"#20#22\"{cf_params, Dict{String, typeof(get_abs_neighborhood)}, Int64, Matrix{Float32}}, RatingsDataset, RatingsDataset}, Float32}, Float32, 3}[Dual{ForwardDiff.Tag{var\"#validation_mse#23\"{var\"#20#22\"{cf_params, Dict{String, typeof(get_abs_neighborhood)}, Int64, Matrix{Float32}}, RatingsDataset, RatingsDataset}, Float32}}(1.050403,1.0,0.0,0.0), Dual{ForwardDiff.Tag{var\"#validation_mse#23\"{var\"#20#22\"{cf_params, Dict{String, typeof(get_abs_neighborhood)}, Int64, Matrix{Float32}}, RatingsDataset, RatingsDataset}, Float32}}(0.5858192,0.0,1.0,0.0), Dual{ForwardDiff.Tag{var\"#validation_mse#23\"{var\"#20#22\"{cf_params, Dict{String, typeof(get_abs_neighborhood)}, Int64, Matrix{Float32}}, RatingsDataset, RatingsDataset}, Float32}}(0.064981714,0.0,0.0,1.0)]\n",
      "\u001b[32mProgress: 100%|███████████████████████████| Time: 0:01:43 ( 0.12  s/it)\u001b[39m\n",
      "\u001b[38;5;4m\u001b[1m[ \u001b[22m\u001b[39m\u001b[38;5;4m\u001b[1mDebug: \u001b[22m\u001b[39m20220225 14:40:08 loss: Dual{ForwardDiff.Tag{var\"#validation_mse#23\"{var\"#20#22\"{cf_params, Dict{String, typeof(get_abs_neighborhood)}, Int64, Matrix{Float32}}, RatingsDataset, RatingsDataset}, Float32}}(1.4712468,-0.01167915,-0.0034198696,0.022868376) β: Dual{ForwardDiff.Tag{var\"#validation_mse#23\"{var\"#20#22\"{cf_params, Dict{String, typeof(get_abs_neighborhood)}, Int64, Matrix{Float32}}, RatingsDataset, RatingsDataset}, Float32}}(1.5061046,1.3710476,-0.96931535,1.3130563): λ ForwardDiff.Dual{ForwardDiff.Tag{var\"#validation_mse#23\"{var\"#20#22\"{cf_params, Dict{String, typeof(get_abs_neighborhood)}, Int64, Matrix{Float32}}, RatingsDataset, RatingsDataset}, Float32}, Float32, 3}[Dual{ForwardDiff.Tag{var\"#validation_mse#23\"{var\"#20#22\"{cf_params, Dict{String, typeof(get_abs_neighborhood)}, Int64, Matrix{Float32}}, RatingsDataset, RatingsDataset}, Float32}}(0.9386368,1.0,0.0,0.0), Dual{ForwardDiff.Tag{var\"#validation_mse#23\"{var\"#20#22\"{cf_params, Dict{String, typeof(get_abs_neighborhood)}, Int64, Matrix{Float32}}, RatingsDataset, RatingsDataset}, Float32}}(1.0337427,0.0,1.0,0.0), Dual{ForwardDiff.Tag{var\"#validation_mse#23\"{var\"#20#22\"{cf_params, Dict{String, typeof(get_abs_neighborhood)}, Int64, Matrix{Float32}}, RatingsDataset, RatingsDataset}, Float32}}(0.44428736,0.0,0.0,1.0)]\n"
     ]
    },
    {
     "name": "stdout",
     "output_type": "stream",
     "text": [
      "     5     1.471247e+00     2.286838e-02\n",
      " * Current step size: 7.2028346\n",
      " * time: 2235.532895088196\n",
      " * g(x): Float32[-0.01167915, -0.0034198696, 0.022868376]\n",
      " * x: Float32[0.9386368, 1.0337427, 0.44428736]\n"
     ]
    },
    {
     "name": "stderr",
     "output_type": "stream",
     "text": [
      "\u001b[32mProgress: 100%|███████████████████████████| Time: 0:01:54 ( 0.13  s/it)\u001b[39m\n",
      "\u001b[38;5;4m\u001b[1m[ \u001b[22m\u001b[39m\u001b[38;5;4m\u001b[1mDebug: \u001b[22m\u001b[39m20220225 14:42:22 loss: Dual{ForwardDiff.Tag{var\"#validation_mse#23\"{var\"#20#22\"{cf_params, Dict{String, typeof(get_abs_neighborhood)}, Int64, Matrix{Float32}}, RatingsDataset, RatingsDataset}, Float32}}(1.4737096,-0.07520697,-0.030299805,-0.24884886) β: Dual{ForwardDiff.Tag{var\"#validation_mse#23\"{var\"#20#22\"{cf_params, Dict{String, typeof(get_abs_neighborhood)}, Int64, Matrix{Float32}}, RatingsDataset, RatingsDataset}, Float32}}(0.98599786,0.5621056,-0.49347782,4.1163936): λ ForwardDiff.Dual{ForwardDiff.Tag{var\"#validation_mse#23\"{var\"#20#22\"{cf_params, Dict{String, typeof(get_abs_neighborhood)}, Int64, Matrix{Float32}}, RatingsDataset, RatingsDataset}, Float32}, Float32, 3}[Dual{ForwardDiff.Tag{var\"#validation_mse#23\"{var\"#20#22\"{cf_params, Dict{String, typeof(get_abs_neighborhood)}, Int64, Matrix{Float32}}, RatingsDataset, RatingsDataset}, Float32}}(1.1013234,1.0,0.0,0.0), Dual{ForwardDiff.Tag{var\"#validation_mse#23\"{var\"#20#22\"{cf_params, Dict{String, typeof(get_abs_neighborhood)}, Int64, Matrix{Float32}}, RatingsDataset, RatingsDataset}, Float32}}(0.86210835,0.0,1.0,0.0), Dual{ForwardDiff.Tag{var\"#validation_mse#23\"{var\"#20#22\"{cf_params, Dict{String, typeof(get_abs_neighborhood)}, Int64, Matrix{Float32}}, RatingsDataset, RatingsDataset}, Float32}}(0.05253634,0.0,0.0,1.0)]\n",
      "\u001b[32mProgress: 100%|███████████████████████████| Time: 0:01:54 ( 0.13  s/it)\u001b[39m\n",
      "\u001b[38;5;4m\u001b[1m[ \u001b[22m\u001b[39m\u001b[38;5;4m\u001b[1mDebug: \u001b[22m\u001b[39m20220225 14:44:36 loss: Dual{ForwardDiff.Tag{var\"#validation_mse#23\"{var\"#20#22\"{cf_params, Dict{String, typeof(get_abs_neighborhood)}, Int64, Matrix{Float32}}, RatingsDataset, RatingsDataset}, Float32}}(1.4702082,-0.013178805,-0.006261483,0.023020498) β: Dual{ForwardDiff.Tag{var\"#validation_mse#23\"{var\"#20#22\"{cf_params, Dict{String, typeof(get_abs_neighborhood)}, Int64, Matrix{Float32}}, RatingsDataset, RatingsDataset}, Float32}}(1.4909652,1.3302524,-0.9356969,1.4036945): λ ForwardDiff.Dual{ForwardDiff.Tag{var\"#validation_mse#23\"{var\"#20#22\"{cf_params, Dict{String, typeof(get_abs_neighborhood)}, Int64, Matrix{Float32}}, RatingsDataset, RatingsDataset}, Float32}, Float32, 3}[Dual{ForwardDiff.Tag{var\"#validation_mse#23\"{var\"#20#22\"{cf_params, Dict{String, typeof(get_abs_neighborhood)}, Int64, Matrix{Float32}}, RatingsDataset, RatingsDataset}, Float32}}(0.9552275,1.0,0.0,0.0), Dual{ForwardDiff.Tag{var\"#validation_mse#23\"{var\"#20#22\"{cf_params, Dict{String, typeof(get_abs_neighborhood)}, Int64, Matrix{Float32}}, RatingsDataset, RatingsDataset}, Float32}}(1.0162394,0.0,1.0,0.0), Dual{ForwardDiff.Tag{var\"#validation_mse#23\"{var\"#20#22\"{cf_params, Dict{String, typeof(get_abs_neighborhood)}, Int64, Matrix{Float32}}, RatingsDataset, RatingsDataset}, Float32}}(0.40433675,0.0,0.0,1.0)]\n",
      "\u001b[32mProgress: 100%|███████████████████████████| Time: 0:01:56 ( 0.14  s/it)\u001b[39m\n",
      "\u001b[38;5;4m\u001b[1m[ \u001b[22m\u001b[39m\u001b[38;5;4m\u001b[1mDebug: \u001b[22m\u001b[39m20220225 14:46:53 loss: Dual{ForwardDiff.Tag{var\"#validation_mse#23\"{var\"#20#22\"{cf_params, Dict{String, typeof(get_abs_neighborhood)}, Int64, Matrix{Float32}}, RatingsDataset, RatingsDataset}, Float32}}(1.4662449,-0.028638372,-0.019103466,0.011807343) β: Dual{ForwardDiff.Tag{var\"#validation_mse#23\"{var\"#20#22\"{cf_params, Dict{String, typeof(get_abs_neighborhood)}, Int64, Matrix{Float32}}, RatingsDataset, RatingsDataset}, Float32}}(1.3521638,1.0710284,-0.75498426,1.9939587): λ ForwardDiff.Dual{ForwardDiff.Tag{var\"#validation_mse#23\"{var\"#20#22\"{cf_params, Dict{String, typeof(get_abs_neighborhood)}, Int64, Matrix{Float32}}, RatingsDataset, RatingsDataset}, Float32}, Float32, 3}[Dual{ForwardDiff.Tag{var\"#validation_mse#23\"{var\"#20#22\"{cf_params, Dict{String, typeof(get_abs_neighborhood)}, Int64, Matrix{Float32}}, RatingsDataset, RatingsDataset}, Float32}}(1.0282755,1.0,0.0,0.0), Dual{ForwardDiff.Tag{var\"#validation_mse#23\"{var\"#20#22\"{cf_params, Dict{String, typeof(get_abs_neighborhood)}, Int64, Matrix{Float32}}, RatingsDataset, RatingsDataset}, Float32}}(0.9391739,0.0,1.0,0.0), Dual{ForwardDiff.Tag{var\"#validation_mse#23\"{var\"#20#22\"{cf_params, Dict{String, typeof(get_abs_neighborhood)}, Int64, Matrix{Float32}}, RatingsDataset, RatingsDataset}, Float32}}(0.22843654,0.0,0.0,1.0)]\n",
      "\u001b[32mProgress: 100%|███████████████████████████| Time: 0:01:52 ( 0.13  s/it)\u001b[39m\n",
      "\u001b[38;5;4m\u001b[1m[ \u001b[22m\u001b[39m\u001b[38;5;4m\u001b[1mDebug: \u001b[22m\u001b[39m20220225 14:49:02 loss: Dual{ForwardDiff.Tag{var\"#validation_mse#23\"{var\"#20#22\"{cf_params, Dict{String, typeof(get_abs_neighborhood)}, Int64, Matrix{Float32}}, RatingsDataset, RatingsDataset}, Float32}}(1.4660877,-0.030318491,-0.019911911,0.009472361) β: Dual{ForwardDiff.Tag{var\"#validation_mse#23\"{var\"#20#22\"{cf_params, Dict{String, typeof(get_abs_neighborhood)}, Int64, Matrix{Float32}}, RatingsDataset, RatingsDataset}, Float32}}(1.3384948,1.0495557,-0.74169147,2.0488746): λ ForwardDiff.Dual{ForwardDiff.Tag{var\"#validation_mse#23\"{var\"#20#22\"{cf_params, Dict{String, typeof(get_abs_neighborhood)}, Int64, Matrix{Float32}}, RatingsDataset, RatingsDataset}, Float32}, Float32, 3}[Dual{ForwardDiff.Tag{var\"#validation_mse#23\"{var\"#20#22\"{cf_params, Dict{String, typeof(get_abs_neighborhood)}, Int64, Matrix{Float32}}, RatingsDataset, RatingsDataset}, Float32}}(1.0328237,1.0,0.0,0.0), Dual{ForwardDiff.Tag{var\"#validation_mse#23\"{var\"#20#22\"{cf_params, Dict{String, typeof(get_abs_neighborhood)}, Int64, Matrix{Float32}}, RatingsDataset, RatingsDataset}, Float32}}(0.9343755,0.0,1.0,0.0), Dual{ForwardDiff.Tag{var\"#validation_mse#23\"{var\"#20#22\"{cf_params, Dict{String, typeof(get_abs_neighborhood)}, Int64, Matrix{Float32}}, RatingsDataset, RatingsDataset}, Float32}}(0.21748437,0.0,0.0,1.0)]\n"
     ]
    },
    {
     "name": "stdout",
     "output_type": "stream",
     "text": [
      "     6     1.466088e+00     3.031849e-02\n",
      " * Current step size: 0.57894677\n",
      " * time: 2769.270124912262\n",
      " * g(x): Float32[-0.030318491, -0.019911911, 0.009472361]\n",
      " * x: Float32[1.0328237, 0.9343755, 0.21748437]\n"
     ]
    },
    {
     "name": "stderr",
     "output_type": "stream",
     "text": [
      "\u001b[32mProgress: 100%|███████████████████████████| Time: 0:01:54 ( 0.13  s/it)\u001b[39m\n",
      "\u001b[38;5;4m\u001b[1m[ \u001b[22m\u001b[39m\u001b[38;5;4m\u001b[1mDebug: \u001b[22m\u001b[39m20220225 14:51:16 loss: Dual{ForwardDiff.Tag{var\"#validation_mse#23\"{var\"#20#22\"{cf_params, Dict{String, typeof(get_abs_neighborhood)}, Int64, Matrix{Float32}}, RatingsDataset, RatingsDataset}, Float32}}(1.742776,-0.40851673,-4.34946e-9,0.4708151) β: Dual{ForwardDiff.Tag{var\"#validation_mse#23\"{var\"#20#22\"{cf_params, Dict{String, typeof(get_abs_neighborhood)}, Int64, Matrix{Float32}}, RatingsDataset, RatingsDataset}, Float32}}(5.8819427e-7,1.2942699,-1.8001953e-7,-1.3682948): λ ForwardDiff.Dual{ForwardDiff.Tag{var\"#validation_mse#23\"{var\"#20#22\"{cf_params, Dict{String, typeof(get_abs_neighborhood)}, Int64, Matrix{Float32}}, RatingsDataset, RatingsDataset}, Float32}, Float32, 3}[Dual{ForwardDiff.Tag{var\"#validation_mse#23\"{var\"#20#22\"{cf_params, Dict{String, typeof(get_abs_neighborhood)}, Int64, Matrix{Float32}}, RatingsDataset, RatingsDataset}, Float32}}(1.4783448,1.0,0.0,0.0), Dual{ForwardDiff.Tag{var\"#validation_mse#23\"{var\"#20#22\"{cf_params, Dict{String, typeof(get_abs_neighborhood)}, Int64, Matrix{Float32}}, RatingsDataset, RatingsDataset}, Float32}}(0.7594042,0.0,1.0,0.0), Dual{ForwardDiff.Tag{var\"#validation_mse#23\"{var\"#20#22\"{cf_params, Dict{String, typeof(get_abs_neighborhood)}, Int64, Matrix{Float32}}, RatingsDataset, RatingsDataset}, Float32}}(-0.41284937,0.0,0.0,1.0)]\n",
      "\u001b[32mProgress: 100%|███████████████████████████| Time: 0:01:53 ( 0.13  s/it)\u001b[39m\n",
      "\u001b[38;5;4m\u001b[1m[ \u001b[22m\u001b[39m\u001b[38;5;4m\u001b[1mDebug: \u001b[22m\u001b[39m20220225 14:53:27 loss: Dual{ForwardDiff.Tag{var\"#validation_mse#23\"{var\"#20#22\"{cf_params, Dict{String, typeof(get_abs_neighborhood)}, Int64, Matrix{Float32}}, RatingsDataset, RatingsDataset}, Float32}}(1.7427752,-3.3451653,-1.1052931e-6,11.513128) β: Dual{ForwardDiff.Tag{var\"#validation_mse#23\"{var\"#20#22\"{cf_params, Dict{String, typeof(get_abs_neighborhood)}, Int64, Matrix{Float32}}, RatingsDataset, RatingsDataset}, Float32}}(2.2478882e-6,6.931524,7.689569e-7,-24.321865): λ ForwardDiff.Dual{ForwardDiff.Tag{var\"#validation_mse#23\"{var\"#20#22\"{cf_params, Dict{String, typeof(get_abs_neighborhood)}, Int64, Matrix{Float32}}, RatingsDataset, RatingsDataset}, Float32}, Float32, 3}[Dual{ForwardDiff.Tag{var\"#validation_mse#23\"{var\"#20#22\"{cf_params, Dict{String, typeof(get_abs_neighborhood)}, Int64, Matrix{Float32}}, RatingsDataset, RatingsDataset}, Float32}}(1.2555842,1.0,0.0,0.0), Dual{ForwardDiff.Tag{var\"#validation_mse#23\"{var\"#20#22\"{cf_params, Dict{String, typeof(get_abs_neighborhood)}, Int64, Matrix{Float32}}, RatingsDataset, RatingsDataset}, Float32}}(0.84688985,0.0,1.0,0.0), Dual{ForwardDiff.Tag{var\"#validation_mse#23\"{var\"#20#22\"{cf_params, Dict{String, typeof(get_abs_neighborhood)}, Int64, Matrix{Float32}}, RatingsDataset, RatingsDataset}, Float32}}(-0.09768249,0.0,0.0,1.0)]\n",
      "\u001b[32mProgress: 100%|███████████████████████████| Time: 0:01:53 ( 0.13  s/it)\u001b[39m\n",
      "\u001b[38;5;4m\u001b[1m[ \u001b[22m\u001b[39m\u001b[38;5;4m\u001b[1mDebug: \u001b[22m\u001b[39m20220225 14:55:39 loss: Dual{ForwardDiff.Tag{var\"#validation_mse#23\"{var\"#20#22\"{cf_params, Dict{String, typeof(get_abs_neighborhood)}, Int64, Matrix{Float32}}, RatingsDataset, RatingsDataset}, Float32}}(1.4682581,-0.06683429,-0.02602902,-0.18459876) β: Dual{ForwardDiff.Tag{var\"#validation_mse#23\"{var\"#20#22\"{cf_params, Dict{String, typeof(get_abs_neighborhood)}, Int64, Matrix{Float32}}, RatingsDataset, RatingsDataset}, Float32}}(1.0265207,0.611323,-0.5403153,4.059149): λ ForwardDiff.Dual{ForwardDiff.Tag{var\"#validation_mse#23\"{var\"#20#22\"{cf_params, Dict{String, typeof(get_abs_neighborhood)}, Int64, Matrix{Float32}}, RatingsDataset, RatingsDataset}, Float32}, Float32, 3}[Dual{ForwardDiff.Tag{var\"#validation_mse#23\"{var\"#20#22\"{cf_params, Dict{String, typeof(get_abs_neighborhood)}, Int64, Matrix{Float32}}, RatingsDataset, RatingsDataset}, Float32}}(1.1442039,1.0,0.0,0.0), Dual{ForwardDiff.Tag{var\"#validation_mse#23\"{var\"#20#22\"{cf_params, Dict{String, typeof(get_abs_neighborhood)}, Int64, Matrix{Float32}}, RatingsDataset, RatingsDataset}, Float32}}(0.8906327,0.0,1.0,0.0), Dual{ForwardDiff.Tag{var\"#validation_mse#23\"{var\"#20#22\"{cf_params, Dict{String, typeof(get_abs_neighborhood)}, Int64, Matrix{Float32}}, RatingsDataset, RatingsDataset}, Float32}}(0.05990094,0.0,0.0,1.0)]\n",
      "\u001b[32mProgress: 100%|███████████████████████████| Time: 0:01:53 ( 0.13  s/it)\u001b[39m\n",
      "\u001b[38;5;4m\u001b[1m[ \u001b[22m\u001b[39m\u001b[38;5;4m\u001b[1mDebug: \u001b[22m\u001b[39m20220225 14:57:52 loss: Dual{ForwardDiff.Tag{var\"#validation_mse#23\"{var\"#20#22\"{cf_params, Dict{String, typeof(get_abs_neighborhood)}, Int64, Matrix{Float32}}, RatingsDataset, RatingsDataset}, Float32}}(1.465525,-0.032872964,-0.021022754,0.0047886115) β: Dual{ForwardDiff.Tag{var\"#validation_mse#23\"{var\"#20#22\"{cf_params, Dict{String, typeof(get_abs_neighborhood)}, Int64, Matrix{Float32}}, RatingsDataset, RatingsDataset}, Float32}}(1.3104551,1.0034153,-0.7191077,2.1941378): λ ForwardDiff.Dual{ForwardDiff.Tag{var\"#validation_mse#23\"{var\"#20#22\"{cf_params, Dict{String, typeof(get_abs_neighborhood)}, Int64, Matrix{Float32}}, RatingsDataset, RatingsDataset}, Float32}, Float32, 3}[Dual{ForwardDiff.Tag{var\"#validation_mse#23\"{var\"#20#22\"{cf_params, Dict{String, typeof(get_abs_neighborhood)}, Int64, Matrix{Float32}}, RatingsDataset, RatingsDataset}, Float32}}(1.0494523,1.0,0.0,0.0), Dual{ForwardDiff.Tag{var\"#validation_mse#23\"{var\"#20#22\"{cf_params, Dict{String, typeof(get_abs_neighborhood)}, Int64, Matrix{Float32}}, RatingsDataset, RatingsDataset}, Float32}}(0.9278449,0.0,1.0,0.0), Dual{ForwardDiff.Tag{var\"#validation_mse#23\"{var\"#20#22\"{cf_params, Dict{String, typeof(get_abs_neighborhood)}, Int64, Matrix{Float32}}, RatingsDataset, RatingsDataset}, Float32}}(0.19395782,0.0,0.0,1.0)]\n"
     ]
    },
    {
     "name": "stdout",
     "output_type": "stream",
     "text": [
      "     7     1.465525e+00     3.287296e-02\n",
      " * Current step size: 0.037323963\n",
      " * time: 3298.9618349075317\n",
      " * g(x): Float32[-0.032872964, -0.021022754, 0.0047886115]\n",
      " * x: Float32[1.0494523, 0.9278449, 0.19395782]\n"
     ]
    },
    {
     "name": "stderr",
     "output_type": "stream",
     "text": [
      "\u001b[32mProgress: 100%|███████████████████████████| Time: 0:01:55 ( 0.14  s/it)\u001b[39m\n",
      "\u001b[38;5;4m\u001b[1m[ \u001b[22m\u001b[39m\u001b[38;5;4m\u001b[1mDebug: \u001b[22m\u001b[39m20220225 15:00:06 loss: Dual{ForwardDiff.Tag{var\"#validation_mse#23\"{var\"#20#22\"{cf_params, Dict{String, typeof(get_abs_neighborhood)}, Int64, Matrix{Float32}}, RatingsDataset, RatingsDataset}, Float32}}(1.7427746,-5.7237244,-3.075079e-6,21.16025) β: Dual{ForwardDiff.Tag{var\"#validation_mse#23\"{var\"#20#22\"{cf_params, Dict{String, typeof(get_abs_neighborhood)}, Int64, Matrix{Float32}}, RatingsDataset, RatingsDataset}, Float32}}(2.9361786e-6,5.9791064,1.0349255e-6,-22.298376): λ ForwardDiff.Dual{ForwardDiff.Tag{var\"#validation_mse#23\"{var\"#20#22\"{cf_params, Dict{String, typeof(get_abs_neighborhood)}, Int64, Matrix{Float32}}, RatingsDataset, RatingsDataset}, Float32}, Float32, 3}[Dual{ForwardDiff.Tag{var\"#validation_mse#23\"{var\"#20#22\"{cf_params, Dict{String, typeof(get_abs_neighborhood)}, Int64, Matrix{Float32}}, RatingsDataset, RatingsDataset}, Float32}}(1.388444,1.0,0.0,0.0), Dual{ForwardDiff.Tag{var\"#validation_mse#23\"{var\"#20#22\"{cf_params, Dict{String, typeof(get_abs_neighborhood)}, Int64, Matrix{Float32}}, RatingsDataset, RatingsDataset}, Float32}}(0.8913704,0.0,1.0,0.0), Dual{ForwardDiff.Tag{var\"#validation_mse#23\"{var\"#20#22\"{cf_params, Dict{String, typeof(get_abs_neighborhood)}, Int64, Matrix{Float32}}, RatingsDataset, RatingsDataset}, Float32}}(-0.09372355,0.0,0.0,1.0)]\n",
      "\u001b[32mProgress: 100%|███████████████████████████| Time: 0:01:52 ( 0.13  s/it)\u001b[39m\n",
      "\u001b[38;5;4m\u001b[1m[ \u001b[22m\u001b[39m\u001b[38;5;4m\u001b[1mDebug: \u001b[22m\u001b[39m20220225 15:02:19 loss: Dual{ForwardDiff.Tag{var\"#validation_mse#23\"{var\"#20#22\"{cf_params, Dict{String, typeof(get_abs_neighborhood)}, Int64, Matrix{Float32}}, RatingsDataset, RatingsDataset}, Float32}}(1.4648955,-0.0618324,-0.022915618,-0.20698084) β: Dual{ForwardDiff.Tag{var\"#validation_mse#23\"{var\"#20#22\"{cf_params, Dict{String, typeof(get_abs_neighborhood)}, Int64, Matrix{Float32}}, RatingsDataset, RatingsDataset}, Float32}}(1.0180186,0.5861259,-0.55513483,4.738232): λ ForwardDiff.Dual{ForwardDiff.Tag{var\"#validation_mse#23\"{var\"#20#22\"{cf_params, Dict{String, typeof(get_abs_neighborhood)}, Int64, Matrix{Float32}}, RatingsDataset, RatingsDataset}, Float32}, Float32, 3}[Dual{ForwardDiff.Tag{var\"#validation_mse#23\"{var\"#20#22\"{cf_params, Dict{String, typeof(get_abs_neighborhood)}, Int64, Matrix{Float32}}, RatingsDataset, RatingsDataset}, Float32}}(1.2189481,1.0,0.0,0.0), Dual{ForwardDiff.Tag{var\"#validation_mse#23\"{var\"#20#22\"{cf_params, Dict{String, typeof(get_abs_neighborhood)}, Int64, Matrix{Float32}}, RatingsDataset, RatingsDataset}, Float32}}(0.90960765,0.0,1.0,0.0), Dual{ForwardDiff.Tag{var\"#validation_mse#23\"{var\"#20#22\"{cf_params, Dict{String, typeof(get_abs_neighborhood)}, Int64, Matrix{Float32}}, RatingsDataset, RatingsDataset}, Float32}}(0.050117135,0.0,0.0,1.0)]\n",
      "\u001b[32mProgress: 100%|███████████████████████████| Time: 0:01:53 ( 0.13  s/it)\u001b[39m\n",
      "\u001b[38;5;4m\u001b[1m[ \u001b[22m\u001b[39m\u001b[38;5;4m\u001b[1mDebug: \u001b[22m\u001b[39m20220225 15:04:30 loss: Dual{ForwardDiff.Tag{var\"#validation_mse#23\"{var\"#20#22\"{cf_params, Dict{String, typeof(get_abs_neighborhood)}, Int64, Matrix{Float32}}, RatingsDataset, RatingsDataset}, Float32}}(1.4642397,-0.034404527,-0.021782655,-0.0013735272) β: Dual{ForwardDiff.Tag{var\"#validation_mse#23\"{var\"#20#22\"{cf_params, Dict{String, typeof(get_abs_neighborhood)}, Int64, Matrix{Float32}}, RatingsDataset, RatingsDataset}, Float32}}(1.2741946,0.93757176,-0.6953897,2.4813545): λ ForwardDiff.Dual{ForwardDiff.Tag{var\"#validation_mse#23\"{var\"#20#22\"{cf_params, Dict{String, typeof(get_abs_neighborhood)}, Int64, Matrix{Float32}}, RatingsDataset, RatingsDataset}, Float32}, Float32, 3}[Dual{ForwardDiff.Tag{var\"#validation_mse#23\"{var\"#20#22\"{cf_params, Dict{String, typeof(get_abs_neighborhood)}, Int64, Matrix{Float32}}, RatingsDataset, RatingsDataset}, Float32}}(1.0883847,1.0,0.0,0.0), Dual{ForwardDiff.Tag{var\"#validation_mse#23\"{var\"#20#22\"{cf_params, Dict{String, typeof(get_abs_neighborhood)}, Int64, Matrix{Float32}}, RatingsDataset, RatingsDataset}, Float32}}(0.92365587,0.0,1.0,0.0), Dual{ForwardDiff.Tag{var\"#validation_mse#23\"{var\"#20#22\"{cf_params, Dict{String, typeof(get_abs_neighborhood)}, Int64, Matrix{Float32}}, RatingsDataset, RatingsDataset}, Float32}}(0.1609183,0.0,0.0,1.0)]\n"
     ]
    },
    {
     "name": "stdout",
     "output_type": "stream",
     "text": [
      "     8     1.464240e+00     3.440453e-02\n",
      " * Current step size: 0.114847645\n",
      " * time: 3697.297621011734\n",
      " * g(x): Float32[-0.034404527, -0.021782655, -0.0013735272]\n",
      " * x: Float32[1.0883847, 0.92365587, 0.1609183]\n"
     ]
    },
    {
     "name": "stderr",
     "output_type": "stream",
     "text": [
      "\u001b[32mProgress: 100%|███████████████████████████| Time: 0:01:53 ( 0.13  s/it)\u001b[39m\n",
      "\u001b[38;5;4m\u001b[1m[ \u001b[22m\u001b[39m\u001b[38;5;4m\u001b[1mDebug: \u001b[22m\u001b[39m20220225 15:06:42 loss: Dual{ForwardDiff.Tag{var\"#validation_mse#23\"{var\"#20#22\"{cf_params, Dict{String, typeof(get_abs_neighborhood)}, Int64, Matrix{Float32}}, RatingsDataset, RatingsDataset}, Float32}}(1.742776,0.11878324,7.476395e-8,-0.37688252) β: Dual{ForwardDiff.Tag{var\"#validation_mse#23\"{var\"#20#22\"{cf_params, Dict{String, typeof(get_abs_neighborhood)}, Int64, Matrix{Float32}}, RatingsDataset, RatingsDataset}, Float32}}(-8.552327e-7,-1.5534796,2.6199962e-7,3.860971): λ ForwardDiff.Dual{ForwardDiff.Tag{var\"#validation_mse#23\"{var\"#20#22\"{cf_params, Dict{String, typeof(get_abs_neighborhood)}, Int64, Matrix{Float32}}, RatingsDataset, RatingsDataset}, Float32}, Float32, 3}[Dual{ForwardDiff.Tag{var\"#validation_mse#23\"{var\"#20#22\"{cf_params, Dict{String, typeof(get_abs_neighborhood)}, Int64, Matrix{Float32}}, RatingsDataset, RatingsDataset}, Float32}}(1.6022145,1.0,0.0,0.0), Dual{ForwardDiff.Tag{var\"#validation_mse#23\"{var\"#20#22\"{cf_params, Dict{String, typeof(get_abs_neighborhood)}, Int64, Matrix{Float32}}, RatingsDataset, RatingsDataset}, Float32}}(0.93151075,0.0,1.0,0.0), Dual{ForwardDiff.Tag{var\"#validation_mse#23\"{var\"#20#22\"{cf_params, Dict{String, typeof(get_abs_neighborhood)}, Int64, Matrix{Float32}}, RatingsDataset, RatingsDataset}, Float32}}(-0.16295534,0.0,0.0,1.0)]\n",
      "\u001b[32mProgress: 100%|███████████████████████████| Time: 0:01:50 ( 0.13  s/it)\u001b[39m\n",
      "\u001b[38;5;4m\u001b[1m[ \u001b[22m\u001b[39m\u001b[38;5;4m\u001b[1mDebug: \u001b[22m\u001b[39m20220225 15:08:53 loss: Dual{ForwardDiff.Tag{var\"#validation_mse#23\"{var\"#20#22\"{cf_params, Dict{String, typeof(get_abs_neighborhood)}, Int64, Matrix{Float32}}, RatingsDataset, RatingsDataset}, Float32}}(1.4628057,-0.03496445,-0.021692293,-0.008286003) β: Dual{ForwardDiff.Tag{var\"#validation_mse#23\"{var\"#20#22\"{cf_params, Dict{String, typeof(get_abs_neighborhood)}, Int64, Matrix{Float32}}, RatingsDataset, RatingsDataset}, Float32}}(1.2397442,0.875454,-0.6788188,2.8240356): λ ForwardDiff.Dual{ForwardDiff.Tag{var\"#validation_mse#23\"{var\"#20#22\"{cf_params, Dict{String, typeof(get_abs_neighborhood)}, Int64, Matrix{Float32}}, RatingsDataset, RatingsDataset}, Float32}, Float32, 3}[Dual{ForwardDiff.Tag{var\"#validation_mse#23\"{var\"#20#22\"{cf_params, Dict{String, typeof(get_abs_neighborhood)}, Int64, Matrix{Float32}}, RatingsDataset, RatingsDataset}, Float32}}(1.1329873,1.0,0.0,0.0), Dual{ForwardDiff.Tag{var\"#validation_mse#23\"{var\"#20#22\"{cf_params, Dict{String, typeof(get_abs_neighborhood)}, Int64, Matrix{Float32}}, RatingsDataset, RatingsDataset}, Float32}}(0.9243377,0.0,1.0,0.0), Dual{ForwardDiff.Tag{var\"#validation_mse#23\"{var\"#20#22\"{cf_params, Dict{String, typeof(get_abs_neighborhood)}, Int64, Matrix{Float32}}, RatingsDataset, RatingsDataset}, Float32}}(0.13280472,0.0,0.0,1.0)]\n"
     ]
    },
    {
     "name": "stdout",
     "output_type": "stream",
     "text": [
      "     9     1.462806e+00     3.496445e-02\n",
      " * Current step size: 0.08680416\n",
      " * time: 3960.66251206398\n",
      " * g(x): Float32[-0.03496445, -0.021692293, -0.008286003]\n",
      " * x: Float32[1.1329873, 0.9243377, 0.13280472]\n"
     ]
    },
    {
     "name": "stderr",
     "output_type": "stream",
     "text": [
      "\u001b[32mProgress: 100%|███████████████████████████| Time: 0:01:52 ( 0.13  s/it)\u001b[39m\n",
      "\u001b[38;5;4m\u001b[1m[ \u001b[22m\u001b[39m\u001b[38;5;4m\u001b[1mDebug: \u001b[22m\u001b[39m20220225 15:11:03 loss: Dual{ForwardDiff.Tag{var\"#validation_mse#23\"{var\"#20#22\"{cf_params, Dict{String, typeof(get_abs_neighborhood)}, Int64, Matrix{Float32}}, RatingsDataset, RatingsDataset}, Float32}}(1.7427744,-6.327623,-1.3283582e-6,28.850683) β: Dual{ForwardDiff.Tag{var\"#validation_mse#23\"{var\"#20#22\"{cf_params, Dict{String, typeof(get_abs_neighborhood)}, Int64, Matrix{Float32}}, RatingsDataset, RatingsDataset}, Float32}}(2.9082948e-6,7.2540317,3.0799984e-7,-34.1662): λ ForwardDiff.Dual{ForwardDiff.Tag{var\"#validation_mse#23\"{var\"#20#22\"{cf_params, Dict{String, typeof(get_abs_neighborhood)}, Int64, Matrix{Float32}}, RatingsDataset, RatingsDataset}, Float32}, Float32, 3}[Dual{ForwardDiff.Tag{var\"#validation_mse#23\"{var\"#20#22\"{cf_params, Dict{String, typeof(get_abs_neighborhood)}, Int64, Matrix{Float32}}, RatingsDataset, RatingsDataset}, Float32}}(1.6423895,1.0,0.0,0.0), Dual{ForwardDiff.Tag{var\"#validation_mse#23\"{var\"#20#22\"{cf_params, Dict{String, typeof(get_abs_neighborhood)}, Int64, Matrix{Float32}}, RatingsDataset, RatingsDataset}, Float32}}(0.97397655,0.0,1.0,0.0), Dual{ForwardDiff.Tag{var\"#validation_mse#23\"{var\"#20#22\"{cf_params, Dict{String, typeof(get_abs_neighborhood)}, Int64, Matrix{Float32}}, RatingsDataset, RatingsDataset}, Float32}}(-0.101855814,0.0,0.0,1.0)]\n",
      "\u001b[32mProgress: 100%|███████████████████████████| Time: 0:01:51 ( 0.13  s/it)\u001b[39m\n",
      "\u001b[38;5;4m\u001b[1m[ \u001b[22m\u001b[39m\u001b[38;5;4m\u001b[1mDebug: \u001b[22m\u001b[39m20220225 15:13:18 loss: Dual{ForwardDiff.Tag{var\"#validation_mse#23\"{var\"#20#22\"{cf_params, Dict{String, typeof(get_abs_neighborhood)}, Int64, Matrix{Float32}}, RatingsDataset, RatingsDataset}, Float32}}(1.4674969,-0.069342904,-0.013832629,-0.8798242) β: Dual{ForwardDiff.Tag{var\"#validation_mse#23\"{var\"#20#22\"{cf_params, Dict{String, typeof(get_abs_neighborhood)}, Int64, Matrix{Float32}}, RatingsDataset, RatingsDataset}, Float32}}(0.85575527,0.3751971,-0.5122414,9.438284): λ ForwardDiff.Dual{ForwardDiff.Tag{var\"#validation_mse#23\"{var\"#20#22\"{cf_params, Dict{String, typeof(get_abs_neighborhood)}, Int64, Matrix{Float32}}, RatingsDataset, RatingsDataset}, Float32}, Float32, 3}[Dual{ForwardDiff.Tag{var\"#validation_mse#23\"{var\"#20#22\"{cf_params, Dict{String, typeof(get_abs_neighborhood)}, Int64, Matrix{Float32}}, RatingsDataset, RatingsDataset}, Float32}}(1.3876884,1.0,0.0,0.0), Dual{ForwardDiff.Tag{var\"#validation_mse#23\"{var\"#20#22\"{cf_params, Dict{String, typeof(get_abs_neighborhood)}, Int64, Matrix{Float32}}, RatingsDataset, RatingsDataset}, Float32}}(0.9491571,0.0,1.0,0.0), Dual{ForwardDiff.Tag{var\"#validation_mse#23\"{var\"#20#22\"{cf_params, Dict{String, typeof(get_abs_neighborhood)}, Int64, Matrix{Float32}}, RatingsDataset, RatingsDataset}, Float32}}(0.015474454,0.0,0.0,1.0)]\n",
      "\u001b[32mProgress: 100%|███████████████████████████| Time: 0:01:58 ( 0.14  s/it)\u001b[39m\n",
      "\u001b[38;5;4m\u001b[1m[ \u001b[22m\u001b[39m\u001b[38;5;4m\u001b[1mDebug: \u001b[22m\u001b[39m20220225 15:15:34 loss: Dual{ForwardDiff.Tag{var\"#validation_mse#23\"{var\"#20#22\"{cf_params, Dict{String, typeof(get_abs_neighborhood)}, Int64, Matrix{Float32}}, RatingsDataset, RatingsDataset}, Float32}}(1.4620574,-0.034411114,-0.021322954,-0.010397704) β: Dual{ForwardDiff.Tag{var\"#validation_mse#23\"{var\"#20#22\"{cf_params, Dict{String, typeof(get_abs_neighborhood)}, Int64, Matrix{Float32}}, RatingsDataset, RatingsDataset}, Float32}}(1.2273089,0.8509693,-0.6750999,2.9965672): λ ForwardDiff.Dual{ForwardDiff.Tag{var\"#validation_mse#23\"{var\"#20#22\"{cf_params, Dict{String, typeof(get_abs_neighborhood)}, Int64, Matrix{Float32}}, RatingsDataset, RatingsDataset}, Float32}, Float32, 3}[Dual{ForwardDiff.Tag{var\"#validation_mse#23\"{var\"#20#22\"{cf_params, Dict{String, typeof(get_abs_neighborhood)}, Int64, Matrix{Float32}}, RatingsDataset, RatingsDataset}, Float32}}(1.1560163,1.0,0.0,0.0), Dual{ForwardDiff.Tag{var\"#validation_mse#23\"{var\"#20#22\"{cf_params, Dict{String, typeof(get_abs_neighborhood)}, Int64, Matrix{Float32}}, RatingsDataset, RatingsDataset}, Float32}}(0.92658174,0.0,1.0,0.0), Dual{ForwardDiff.Tag{var\"#validation_mse#23\"{var\"#20#22\"{cf_params, Dict{String, typeof(get_abs_neighborhood)}, Int64, Matrix{Float32}}, RatingsDataset, RatingsDataset}, Float32}}(0.12219619,0.0,0.0,1.0)]\n",
      "\u001b[32mProgress: 100%|███████████████████████████| Time: 0:01:54 ( 0.13  s/it)\u001b[39m\n",
      "\u001b[38;5;4m\u001b[1m[ \u001b[22m\u001b[39m\u001b[38;5;4m\u001b[1mDebug: \u001b[22m\u001b[39m20220225 15:17:50 loss: Dual{ForwardDiff.Tag{var\"#validation_mse#23\"{var\"#20#22\"{cf_params, Dict{String, typeof(get_abs_neighborhood)}, Int64, Matrix{Float32}}, RatingsDataset, RatingsDataset}, Float32}}(1.4591876,-0.039474357,-0.019036483,-0.06326843) β: Dual{ForwardDiff.Tag{var\"#validation_mse#23\"{var\"#20#22\"{cf_params, Dict{String, typeof(get_abs_neighborhood)}, Int64, Matrix{Float32}}, RatingsDataset, RatingsDataset}, Float32}}(1.1192894,0.6878985,-0.6333238,4.309932): λ ForwardDiff.Dual{ForwardDiff.Tag{var\"#validation_mse#23\"{var\"#20#22\"{cf_params, Dict{String, typeof(get_abs_neighborhood)}, Int64, Matrix{Float32}}, RatingsDataset, RatingsDataset}, Float32}, Float32, 3}[Dual{ForwardDiff.Tag{var\"#validation_mse#23\"{var\"#20#22\"{cf_params, Dict{String, typeof(get_abs_neighborhood)}, Int64, Matrix{Float32}}, RatingsDataset, RatingsDataset}, Float32}}(1.2718524,1.0,0.0,0.0), Dual{ForwardDiff.Tag{var\"#validation_mse#23\"{var\"#20#22\"{cf_params, Dict{String, typeof(get_abs_neighborhood)}, Int64, Matrix{Float32}}, RatingsDataset, RatingsDataset}, Float32}}(0.9378694,0.0,1.0,0.0), Dual{ForwardDiff.Tag{var\"#validation_mse#23\"{var\"#20#22\"{cf_params, Dict{String, typeof(get_abs_neighborhood)}, Int64, Matrix{Float32}}, RatingsDataset, RatingsDataset}, Float32}}(0.068835326,0.0,0.0,1.0)]\n",
      "\u001b[32mProgress: 100%|███████████████████████████| Time: 0:01:53 ( 0.13  s/it)\u001b[39m\n",
      "\u001b[38;5;4m\u001b[1m[ \u001b[22m\u001b[39m\u001b[38;5;4m\u001b[1mDebug: \u001b[22m\u001b[39m20220225 15:20:00 loss: Dual{ForwardDiff.Tag{var\"#validation_mse#23\"{var\"#20#22\"{cf_params, Dict{String, typeof(get_abs_neighborhood)}, Int64, Matrix{Float32}}, RatingsDataset, RatingsDataset}, Float32}}(1.4591415,-0.039999522,-0.018934773,-0.06809948) β: Dual{ForwardDiff.Tag{var\"#validation_mse#23\"{var\"#20#22\"{cf_params, Dict{String, typeof(get_abs_neighborhood)}, Int64, Matrix{Float32}}, RatingsDataset, RatingsDataset}, Float32}}(1.1136881,0.6806326,-0.63092506,4.379681): λ ForwardDiff.Dual{ForwardDiff.Tag{var\"#validation_mse#23\"{var\"#20#22\"{cf_params, Dict{String, typeof(get_abs_neighborhood)}, Int64, Matrix{Float32}}, RatingsDataset, RatingsDataset}, Float32}, Float32, 3}[Dual{ForwardDiff.Tag{var\"#validation_mse#23\"{var\"#20#22\"{cf_params, Dict{String, typeof(get_abs_neighborhood)}, Int64, Matrix{Float32}}, RatingsDataset, RatingsDataset}, Float32}}(1.2759222,1.0,0.0,0.0), Dual{ForwardDiff.Tag{var\"#validation_mse#23\"{var\"#20#22\"{cf_params, Dict{String, typeof(get_abs_neighborhood)}, Int64, Matrix{Float32}}, RatingsDataset, RatingsDataset}, Float32}}(0.93826604,0.0,1.0,0.0), Dual{ForwardDiff.Tag{var\"#validation_mse#23\"{var\"#20#22\"{cf_params, Dict{String, typeof(get_abs_neighborhood)}, Int64, Matrix{Float32}}, RatingsDataset, RatingsDataset}, Float32}}(0.066960536,0.0,0.0,1.0)]\n"
     ]
    },
    {
     "name": "stdout",
     "output_type": "stream",
     "text": [
      "    10     1.459141e+00     6.809948e-02\n",
      " * Current step size: 0.28059334\n",
      " * time: 4627.502587080002\n",
      " * g(x): Float32[-0.039999522, -0.018934773, -0.06809948]\n",
      " * x: Float32[1.2759222, 0.93826604, 0.066960536]\n"
     ]
    },
    {
     "name": "stderr",
     "output_type": "stream",
     "text": [
      "\u001b[32mProgress: 100%|███████████████████████████| Time: 0:01:54 ( 0.13  s/it)\u001b[39m\n",
      "\u001b[38;5;4m\u001b[1m[ \u001b[22m\u001b[39m\u001b[38;5;4m\u001b[1mDebug: \u001b[22m\u001b[39m20220225 15:24:32 loss: Dual{ForwardDiff.Tag{var\"#validation_mse#23\"{var\"#20#22\"{cf_params, Dict{String, typeof(get_abs_neighborhood)}, Int64, Matrix{Float32}}, RatingsDataset, RatingsDataset}, Float32}}(1.4536778,-0.031151516,-0.007838155,-0.12861799) β: Dual{ForwardDiff.Tag{var\"#validation_mse#23\"{var\"#20#22\"{cf_params, Dict{String, typeof(get_abs_neighborhood)}, Int64, Matrix{Float32}}, RatingsDataset, RatingsDataset}, Float32}}(1.0188957,0.53318346,-0.6405582,7.290888): λ ForwardDiff.Dual{ForwardDiff.Tag{var\"#validation_mse#23\"{var\"#20#22\"{cf_params, Dict{String, typeof(get_abs_neighborhood)}, Int64, Matrix{Float32}}, RatingsDataset, RatingsDataset}, Float32}, Float32, 3}[Dual{ForwardDiff.Tag{var\"#validation_mse#23\"{var\"#20#22\"{cf_params, Dict{String, typeof(get_abs_neighborhood)}, Int64, Matrix{Float32}}, RatingsDataset, RatingsDataset}, Float32}}(1.4966403,1.0,0.0,0.0), Dual{ForwardDiff.Tag{var\"#validation_mse#23\"{var\"#20#22\"{cf_params, Dict{String, typeof(get_abs_neighborhood)}, Int64, Matrix{Float32}}, RatingsDataset, RatingsDataset}, Float32}}(0.99742544,0.0,1.0,0.0), Dual{ForwardDiff.Tag{var\"#validation_mse#23\"{var\"#20#22\"{cf_params, Dict{String, typeof(get_abs_neighborhood)}, Int64, Matrix{Float32}}, RatingsDataset, RatingsDataset}, Float32}}(0.03261508,0.0,0.0,1.0)]\n"
     ]
    },
    {
     "name": "stdout",
     "output_type": "stream",
     "text": [
      "    11     1.453678e+00     1.286180e-01\n",
      " * Current step size: 0.7388421\n",
      " * time: 4899.614710092545\n",
      " * g(x): Float32[-0.031151516, -0.007838155, -0.12861799]\n",
      " * x: Float32[1.4966403, 0.99742544, 0.03261508]\n"
     ]
    },
    {
     "name": "stderr",
     "output_type": "stream",
     "text": [
      "\u001b[32mProgress: 100%|███████████████████████████| Time: 0:01:55 ( 0.13  s/it)\u001b[39m\n",
      "\u001b[38;5;4m\u001b[1m[ \u001b[22m\u001b[39m\u001b[38;5;4m\u001b[1mDebug: \u001b[22m\u001b[39m20220225 15:26:49 loss: Dual{ForwardDiff.Tag{var\"#validation_mse#23\"{var\"#20#22\"{cf_params, Dict{String, typeof(get_abs_neighborhood)}, Int64, Matrix{Float32}}, RatingsDataset, RatingsDataset}, Float32}}(1.4799669,0.09493217,0.018611265,0.42408293) β: Dual{ForwardDiff.Tag{var\"#validation_mse#23\"{var\"#20#22\"{cf_params, Dict{String, typeof(get_abs_neighborhood)}, Int64, Matrix{Float32}}, RatingsDataset, RatingsDataset}, Float32}}(1.3986957,0.6790162,-1.0707909,6.0742054): λ ForwardDiff.Dual{ForwardDiff.Tag{var\"#validation_mse#23\"{var\"#20#22\"{cf_params, Dict{String, typeof(get_abs_neighborhood)}, Int64, Matrix{Float32}}, RatingsDataset, RatingsDataset}, Float32}, Float32, 3}[Dual{ForwardDiff.Tag{var\"#validation_mse#23\"{var\"#20#22\"{cf_params, Dict{String, typeof(get_abs_neighborhood)}, Int64, Matrix{Float32}}, RatingsDataset, RatingsDataset}, Float32}}(1.9001031,1.0,0.0,0.0), Dual{ForwardDiff.Tag{var\"#validation_mse#23\"{var\"#20#22\"{cf_params, Dict{String, typeof(get_abs_neighborhood)}, Int64, Matrix{Float32}}, RatingsDataset, RatingsDataset}, Float32}}(1.1659212,0.0,1.0,0.0), Dual{ForwardDiff.Tag{var\"#validation_mse#23\"{var\"#20#22\"{cf_params, Dict{String, typeof(get_abs_neighborhood)}, Int64, Matrix{Float32}}, RatingsDataset, RatingsDataset}, Float32}}(0.074215755,0.0,0.0,1.0)]\n",
      "\u001b[32mProgress: 100%|███████████████████████████| Time: 0:01:53 ( 0.13  s/it)\u001b[39m\n",
      "\u001b[38;5;4m\u001b[1m[ \u001b[22m\u001b[39m\u001b[38;5;4m\u001b[1mDebug: \u001b[22m\u001b[39m20220225 15:29:01 loss: Dual{ForwardDiff.Tag{var\"#validation_mse#23\"{var\"#20#22\"{cf_params, Dict{String, typeof(get_abs_neighborhood)}, Int64, Matrix{Float32}}, RatingsDataset, RatingsDataset}, Float32}}(1.4522653,0.004798869,-0.0011860405,0.12780184) β: Dual{ForwardDiff.Tag{var\"#validation_mse#23\"{var\"#20#22\"{cf_params, Dict{String, typeof(get_abs_neighborhood)}, Int64, Matrix{Float32}}, RatingsDataset, RatingsDataset}, Float32}}(1.1178707,0.59194374,-0.73818016,6.790181): λ ForwardDiff.Dual{ForwardDiff.Tag{var\"#validation_mse#23\"{var\"#20#22\"{cf_params, Dict{String, typeof(get_abs_neighborhood)}, Int64, Matrix{Float32}}, RatingsDataset, RatingsDataset}, Float32}, Float32, 3}[Dual{ForwardDiff.Tag{var\"#validation_mse#23\"{var\"#20#22\"{cf_params, Dict{String, typeof(get_abs_neighborhood)}, Int64, Matrix{Float32}}, RatingsDataset, RatingsDataset}, Float32}}(1.595754,1.0,0.0,0.0), Dual{ForwardDiff.Tag{var\"#validation_mse#23\"{var\"#20#22\"{cf_params, Dict{String, typeof(get_abs_neighborhood)}, Int64, Matrix{Float32}}, RatingsDataset, RatingsDataset}, Float32}}(1.0388178,0.0,1.0,0.0), Dual{ForwardDiff.Tag{var\"#validation_mse#23\"{var\"#20#22\"{cf_params, Dict{String, typeof(get_abs_neighborhood)}, Int64, Matrix{Float32}}, RatingsDataset, RatingsDataset}, Float32}}(0.042834606,0.0,0.0,1.0)]\n"
     ]
    },
    {
     "name": "stdout",
     "output_type": "stream",
     "text": [
      "    12     1.452265e+00     1.278018e-01\n",
      " * Current step size: 0.24565767\n",
      " * time: 5168.51934504509\n",
      " * g(x): Float32[0.004798869, -0.0011860405, 0.12780184]\n",
      " * x: Float32[1.595754, 1.0388178, 0.042834606]\n"
     ]
    },
    {
     "name": "stderr",
     "output_type": "stream",
     "text": [
      "\u001b[32mProgress: 100%|███████████████████████████| Time: 0:01:59 ( 0.14  s/it)\u001b[39m\n",
      "\u001b[38;5;4m\u001b[1m[ \u001b[22m\u001b[39m\u001b[38;5;4m\u001b[1mDebug: \u001b[22m\u001b[39m20220225 15:31:18 loss: Dual{ForwardDiff.Tag{var\"#validation_mse#23\"{var\"#20#22\"{cf_params, Dict{String, typeof(get_abs_neighborhood)}, Int64, Matrix{Float32}}, RatingsDataset, RatingsDataset}, Float32}}(1.4502387,-0.024598217,0.0059265513,-0.3083712) β: Dual{ForwardDiff.Tag{var\"#validation_mse#23\"{var\"#20#22\"{cf_params, Dict{String, typeof(get_abs_neighborhood)}, Int64, Matrix{Float32}}, RatingsDataset, RatingsDataset}, Float32}}(0.90806425,0.39733303,-0.638283,13.408334): λ ForwardDiff.Dual{ForwardDiff.Tag{var\"#validation_mse#23\"{var\"#20#22\"{cf_params, Dict{String, typeof(get_abs_neighborhood)}, Int64, Matrix{Float32}}, RatingsDataset, RatingsDataset}, Float32}, Float32, 3}[Dual{ForwardDiff.Tag{var\"#validation_mse#23\"{var\"#20#22\"{cf_params, Dict{String, typeof(get_abs_neighborhood)}, Int64, Matrix{Float32}}, RatingsDataset, RatingsDataset}, Float32}}(1.751623,1.0,0.0,0.0), Dual{ForwardDiff.Tag{var\"#validation_mse#23\"{var\"#20#22\"{cf_params, Dict{String, typeof(get_abs_neighborhood)}, Int64, Matrix{Float32}}, RatingsDataset, RatingsDataset}, Float32}}(1.0673059,0.0,1.0,0.0), Dual{ForwardDiff.Tag{var\"#validation_mse#23\"{var\"#20#22\"{cf_params, Dict{String, typeof(get_abs_neighborhood)}, Int64, Matrix{Float32}}, RatingsDataset, RatingsDataset}, Float32}}(0.013485579,0.0,0.0,1.0)]\n",
      "\u001b[32mProgress: 100%|███████████████████████████| Time: 0:02:00 ( 0.14  s/it)\u001b[39m\n",
      "\u001b[38;5;4m\u001b[1m[ \u001b[22m\u001b[39m\u001b[38;5;4m\u001b[1mDebug: \u001b[22m\u001b[39m20220225 15:33:36 loss: Dual{ForwardDiff.Tag{var\"#validation_mse#23\"{var\"#20#22\"{cf_params, Dict{String, typeof(get_abs_neighborhood)}, Int64, Matrix{Float32}}, RatingsDataset, RatingsDataset}, Float32}}(1.4511023,0.00076984114,0.0010435911,0.11883956) β: Dual{ForwardDiff.Tag{var\"#validation_mse#23\"{var\"#20#22\"{cf_params, Dict{String, typeof(get_abs_neighborhood)}, Int64, Matrix{Float32}}, RatingsDataset, RatingsDataset}, Float32}}(1.06392,0.5331262,-0.71622056,8.067426): λ ForwardDiff.Dual{ForwardDiff.Tag{var\"#validation_mse#23\"{var\"#20#22\"{cf_params, Dict{String, typeof(get_abs_neighborhood)}, Int64, Matrix{Float32}}, RatingsDataset, RatingsDataset}, Float32}, Float32, 3}[Dual{ForwardDiff.Tag{var\"#validation_mse#23\"{var\"#20#22\"{cf_params, Dict{String, typeof(get_abs_neighborhood)}, Int64, Matrix{Float32}}, RatingsDataset, RatingsDataset}, Float32}}(1.651956,1.0,0.0,0.0), Dual{ForwardDiff.Tag{var\"#validation_mse#23\"{var\"#20#22\"{cf_params, Dict{String, typeof(get_abs_neighborhood)}, Int64, Matrix{Float32}}, RatingsDataset, RatingsDataset}, Float32}}(1.0490898,0.0,1.0,0.0), Dual{ForwardDiff.Tag{var\"#validation_mse#23\"{var\"#20#22\"{cf_params, Dict{String, typeof(get_abs_neighborhood)}, Int64, Matrix{Float32}}, RatingsDataset, RatingsDataset}, Float32}}(0.032252192,0.0,0.0,1.0)]\n"
     ]
    },
    {
     "name": "stdout",
     "output_type": "stream",
     "text": [
      "    13     1.451102e+00     1.188396e-01\n",
      " * Current step size: 0.3605712\n",
      " * time: 5443.831216096878\n",
      " * g(x): Float32[0.00076984114, 0.0010435911, 0.11883956]\n",
      " * x: Float32[1.651956, 1.0490898, 0.032252192]\n"
     ]
    },
    {
     "name": "stderr",
     "output_type": "stream",
     "text": [
      "\u001b[32mProgress: 100%|███████████████████████████| Time: 0:01:49 ( 0.13  s/it)\u001b[39m\n",
      "\u001b[38;5;4m\u001b[1m[ \u001b[22m\u001b[39m\u001b[38;5;4m\u001b[1mDebug: \u001b[22m\u001b[39m20220225 15:35:47 loss: Dual{ForwardDiff.Tag{var\"#validation_mse#23\"{var\"#20#22\"{cf_params, Dict{String, typeof(get_abs_neighborhood)}, Int64, Matrix{Float32}}, RatingsDataset, RatingsDataset}, Float32}}(1.7427762,-0.0017044364,-1.0837218e-10,0.0077954647) β: Dual{ForwardDiff.Tag{var\"#validation_mse#23\"{var\"#20#22\"{cf_params, Dict{String, typeof(get_abs_neighborhood)}, Int64, Matrix{Float32}}, RatingsDataset, RatingsDataset}, Float32}}(1.9540596e-9,2.6574636,1.6745807e-7,-12.153561): λ ForwardDiff.Dual{ForwardDiff.Tag{var\"#validation_mse#23\"{var\"#20#22\"{cf_params, Dict{String, typeof(get_abs_neighborhood)}, Int64, Matrix{Float32}}, RatingsDataset, RatingsDataset}, Float32}, Float32, 3}[Dual{ForwardDiff.Tag{var\"#validation_mse#23\"{var\"#20#22\"{cf_params, Dict{String, typeof(get_abs_neighborhood)}, Int64, Matrix{Float32}}, RatingsDataset, RatingsDataset}, Float32}}(1.6511861,1.0,0.0,0.0), Dual{ForwardDiff.Tag{var\"#validation_mse#23\"{var\"#20#22\"{cf_params, Dict{String, typeof(get_abs_neighborhood)}, Int64, Matrix{Float32}}, RatingsDataset, RatingsDataset}, Float32}}(1.0480462,0.0,1.0,0.0), Dual{ForwardDiff.Tag{var\"#validation_mse#23\"{var\"#20#22\"{cf_params, Dict{String, typeof(get_abs_neighborhood)}, Int64, Matrix{Float32}}, RatingsDataset, RatingsDataset}, Float32}}(-0.08658737,0.0,0.0,1.0)]\n",
      "\u001b[32mProgress: 100%|███████████████████████████| Time: 0:01:54 ( 0.13  s/it)\u001b[39m\n",
      "\u001b[38;5;4m\u001b[1m[ \u001b[22m\u001b[39m\u001b[38;5;4m\u001b[1mDebug: \u001b[22m\u001b[39m20220225 15:38:00 loss: Dual{ForwardDiff.Tag{var\"#validation_mse#23\"{var\"#20#22\"{cf_params, Dict{String, typeof(get_abs_neighborhood)}, Int64, Matrix{Float32}}, RatingsDataset, RatingsDataset}, Float32}}(1.7427735,1.6486963,1.4827086e-7,-24.431852) β: Dual{ForwardDiff.Tag{var\"#validation_mse#23\"{var\"#20#22\"{cf_params, Dict{String, typeof(get_abs_neighborhood)}, Int64, Matrix{Float32}}, RatingsDataset, RatingsDataset}, Float32}}(5.727803e-6,-2.6703508,-4.5912175e-6,39.72768): λ ForwardDiff.Dual{ForwardDiff.Tag{var\"#validation_mse#23\"{var\"#20#22\"{cf_params, Dict{String, typeof(get_abs_neighborhood)}, Int64, Matrix{Float32}}, RatingsDataset, RatingsDataset}, Float32}, Float32, 3}[Dual{ForwardDiff.Tag{var\"#validation_mse#23\"{var\"#20#22\"{cf_params, Dict{String, typeof(get_abs_neighborhood)}, Int64, Matrix{Float32}}, RatingsDataset, RatingsDataset}, Float32}}(1.651571,1.0,0.0,0.0), Dual{ForwardDiff.Tag{var\"#validation_mse#23\"{var\"#20#22\"{cf_params, Dict{String, typeof(get_abs_neighborhood)}, Int64, Matrix{Float32}}, RatingsDataset, RatingsDataset}, Float32}}(1.048568,0.0,1.0,0.0), Dual{ForwardDiff.Tag{var\"#validation_mse#23\"{var\"#20#22\"{cf_params, Dict{String, typeof(get_abs_neighborhood)}, Int64, Matrix{Float32}}, RatingsDataset, RatingsDataset}, Float32}}(-0.027167588,0.0,0.0,1.0)]\n",
      "\u001b[32mProgress: 100%|███████████████████████████| Time: 0:01:51 ( 0.13  s/it)\u001b[39m\n",
      "\u001b[38;5;4m\u001b[1m[ \u001b[22m\u001b[39m\u001b[38;5;4m\u001b[1mDebug: \u001b[22m\u001b[39m20220225 15:40:09 loss: Dual{ForwardDiff.Tag{var\"#validation_mse#23\"{var\"#20#22\"{cf_params, Dict{String, typeof(get_abs_neighborhood)}, Int64, Matrix{Float32}}, RatingsDataset, RatingsDataset}, Float32}}(1.4510686,0.00025564586,0.0010623963,0.11516695) β: Dual{ForwardDiff.Tag{var\"#validation_mse#23\"{var\"#20#22\"{cf_params, Dict{String, typeof(get_abs_neighborhood)}, Int64, Matrix{Float32}}, RatingsDataset, RatingsDataset}, Float32}}(1.0615925,0.5313921,-0.71483314,8.102578): λ ForwardDiff.Dual{ForwardDiff.Tag{var\"#validation_mse#23\"{var\"#20#22\"{cf_params, Dict{String, typeof(get_abs_neighborhood)}, Int64, Matrix{Float32}}, RatingsDataset, RatingsDataset}, Float32}, Float32, 3}[Dual{ForwardDiff.Tag{var\"#validation_mse#23\"{var\"#20#22\"{cf_params, Dict{String, typeof(get_abs_neighborhood)}, Int64, Matrix{Float32}}, RatingsDataset, RatingsDataset}, Float32}}(1.651954,1.0,0.0,0.0), Dual{ForwardDiff.Tag{var\"#validation_mse#23\"{var\"#20#22\"{cf_params, Dict{String, typeof(get_abs_neighborhood)}, Int64, Matrix{Float32}}, RatingsDataset, RatingsDataset}, Float32}}(1.0490873,0.0,1.0,0.0), Dual{ForwardDiff.Tag{var\"#validation_mse#23\"{var\"#20#22\"{cf_params, Dict{String, typeof(get_abs_neighborhood)}, Int64, Matrix{Float32}}, RatingsDataset, RatingsDataset}, Float32}}(0.031964406,0.0,0.0,1.0)]\n",
      "\u001b[32mProgress: 100%|███████████████████████████| Time: 0:01:49 ( 0.13  s/it)\u001b[39m\n",
      "\u001b[38;5;4m\u001b[1m[ \u001b[22m\u001b[39m\u001b[38;5;4m\u001b[1mDebug: \u001b[22m\u001b[39m20220225 15:42:17 loss: Dual{ForwardDiff.Tag{var\"#validation_mse#23\"{var\"#20#22\"{cf_params, Dict{String, typeof(get_abs_neighborhood)}, Int64, Matrix{Float32}}, RatingsDataset, RatingsDataset}, Float32}}(1.4507431,-0.017868994,0.0018041421,-0.069765955) β: Dual{ForwardDiff.Tag{var\"#validation_mse#23\"{var\"#20#22\"{cf_params, Dict{String, typeof(get_abs_neighborhood)}, Int64, Matrix{Float32}}, RatingsDataset, RatingsDataset}, Float32}}(0.98274004,0.472495,-0.6678094,9.553883): λ ForwardDiff.Dual{ForwardDiff.Tag{var\"#validation_mse#23\"{var\"#20#22\"{cf_params, Dict{String, typeof(get_abs_neighborhood)}, Int64, Matrix{Float32}}, RatingsDataset, RatingsDataset}, Float32}, Float32, 3}[Dual{ForwardDiff.Tag{var\"#validation_mse#23\"{var\"#20#22\"{cf_params, Dict{String, typeof(get_abs_neighborhood)}, Int64, Matrix{Float32}}, RatingsDataset, RatingsDataset}, Float32}}(1.6518956,1.0,0.0,0.0), Dual{ForwardDiff.Tag{var\"#validation_mse#23\"{var\"#20#22\"{cf_params, Dict{String, typeof(get_abs_neighborhood)}, Int64, Matrix{Float32}}, RatingsDataset, RatingsDataset}, Float32}}(1.0490081,0.0,1.0,0.0), Dual{ForwardDiff.Tag{var\"#validation_mse#23\"{var\"#20#22\"{cf_params, Dict{String, typeof(get_abs_neighborhood)}, Int64, Matrix{Float32}}, RatingsDataset, RatingsDataset}, Float32}}(0.022946846,0.0,0.0,1.0)]\n"
     ]
    },
    {
     "name": "stdout",
     "output_type": "stream",
     "text": [
      "    14     1.450743e+00     6.976596e-02\n",
      " * Current step size: 0.07830176\n",
      " * time: 5964.795677900314\n",
      " * g(x): Float32[-0.017868994, 0.0018041421, -0.069765955]\n",
      " * x: Float32[1.6518956, 1.0490081, 0.022946846]\n"
     ]
    },
    {
     "name": "stderr",
     "output_type": "stream",
     "text": [
      "\u001b[32mProgress: 100%|███████████████████████████| Time: 0:01:53 ( 0.13  s/it)\u001b[39m\n",
      "\u001b[38;5;4m\u001b[1m[ \u001b[22m\u001b[39m\u001b[38;5;4m\u001b[1mDebug: \u001b[22m\u001b[39m20220225 15:44:30 loss: Dual{ForwardDiff.Tag{var\"#validation_mse#23\"{var\"#20#22\"{cf_params, Dict{String, typeof(get_abs_neighborhood)}, Int64, Matrix{Float32}}, RatingsDataset, RatingsDataset}, Float32}}(1.4506603,-0.010452422,0.0014672038,0.020551823) β: Dual{ForwardDiff.Tag{var\"#validation_mse#23\"{var\"#20#22\"{cf_params, Dict{String, typeof(get_abs_neighborhood)}, Int64, Matrix{Float32}}, RatingsDataset, RatingsDataset}, Float32}}(1.0143161,0.49607944,-0.6864976,8.918896): λ ForwardDiff.Dual{ForwardDiff.Tag{var\"#validation_mse#23\"{var\"#20#22\"{cf_params, Dict{String, typeof(get_abs_neighborhood)}, Int64, Matrix{Float32}}, RatingsDataset, RatingsDataset}, Float32}, Float32, 3}[Dual{ForwardDiff.Tag{var\"#validation_mse#23\"{var\"#20#22\"{cf_params, Dict{String, typeof(get_abs_neighborhood)}, Int64, Matrix{Float32}}, RatingsDataset, RatingsDataset}, Float32}}(1.6524539,1.0,0.0,0.0), Dual{ForwardDiff.Tag{var\"#validation_mse#23\"{var\"#20#22\"{cf_params, Dict{String, typeof(get_abs_neighborhood)}, Int64, Matrix{Float32}}, RatingsDataset, RatingsDataset}, Float32}}(1.0489635,0.0,1.0,0.0), Dual{ForwardDiff.Tag{var\"#validation_mse#23\"{var\"#20#22\"{cf_params, Dict{String, typeof(get_abs_neighborhood)}, Int64, Matrix{Float32}}, RatingsDataset, RatingsDataset}, Float32}}(0.026338514,0.0,0.0,1.0)]\n",
      "\u001b[32mProgress: 100%|███████████████████████████| Time: 0:01:48 ( 0.13  s/it)\u001b[39m\n",
      "\u001b[38;5;4m\u001b[1m[ \u001b[22m\u001b[39m\u001b[38;5;4m\u001b[1mDebug: \u001b[22m\u001b[39m20220225 15:46:37 loss: Dual{ForwardDiff.Tag{var\"#validation_mse#23\"{var\"#20#22\"{cf_params, Dict{String, typeof(get_abs_neighborhood)}, Int64, Matrix{Float32}}, RatingsDataset, RatingsDataset}, Float32}}(1.450653,-0.011926462,0.0015318143,0.0044356845) β: Dual{ForwardDiff.Tag{var\"#validation_mse#23\"{var\"#20#22\"{cf_params, Dict{String, typeof(get_abs_neighborhood)}, Int64, Matrix{Float32}}, RatingsDataset, RatingsDataset}, Float32}}(1.0079927,0.4913755,-0.68276674,9.038003): λ ForwardDiff.Dual{ForwardDiff.Tag{var\"#validation_mse#23\"{var\"#20#22\"{cf_params, Dict{String, typeof(get_abs_neighborhood)}, Int64, Matrix{Float32}}, RatingsDataset, RatingsDataset}, Float32}, Float32, 3}[Dual{ForwardDiff.Tag{var\"#validation_mse#23\"{var\"#20#22\"{cf_params, Dict{String, typeof(get_abs_neighborhood)}, Int64, Matrix{Float32}}, RatingsDataset, RatingsDataset}, Float32}}(1.6523392,1.0,0.0,0.0), Dual{ForwardDiff.Tag{var\"#validation_mse#23\"{var\"#20#22\"{cf_params, Dict{String, typeof(get_abs_neighborhood)}, Int64, Matrix{Float32}}, RatingsDataset, RatingsDataset}, Float32}}(1.0489727,0.0,1.0,0.0), Dual{ForwardDiff.Tag{var\"#validation_mse#23\"{var\"#20#22\"{cf_params, Dict{String, typeof(get_abs_neighborhood)}, Int64, Matrix{Float32}}, RatingsDataset, RatingsDataset}, Float32}}(0.025641523,0.0,0.0,1.0)]\n"
     ]
    },
    {
     "name": "stdout",
     "output_type": "stream",
     "text": [
      "    15     1.450653e+00     1.192646e-02\n",
      " * Current step size: 0.79449934\n",
      " * time: 6224.349183082581\n",
      " * g(x): Float32[-0.011926462, 0.0015318143, 0.0044356845]\n",
      " * x: Float32[1.6523392, 1.0489727, 0.025641523]\n"
     ]
    },
    {
     "name": "stderr",
     "output_type": "stream",
     "text": [
      "\u001b[32mProgress: 100%|███████████████████████████| Time: 0:01:58 ( 0.14  s/it)\u001b[39m\n",
      "\u001b[38;5;4m\u001b[1m[ \u001b[22m\u001b[39m\u001b[38;5;4m\u001b[1mDebug: \u001b[22m\u001b[39m20220225 15:48:50 loss: Dual{ForwardDiff.Tag{var\"#validation_mse#23\"{var\"#20#22\"{cf_params, Dict{String, typeof(get_abs_neighborhood)}, Int64, Matrix{Float32}}, RatingsDataset, RatingsDataset}, Float32}}(1.450647,-0.012094985,0.0015289339,0.0024143152) β: Dual{ForwardDiff.Tag{var\"#validation_mse#23\"{var\"#20#22\"{cf_params, Dict{String, typeof(get_abs_neighborhood)}, Int64, Matrix{Float32}}, RatingsDataset, RatingsDataset}, Float32}}(1.0071106,0.49057028,-0.6821995,9.063602): λ ForwardDiff.Dual{ForwardDiff.Tag{var\"#validation_mse#23\"{var\"#20#22\"{cf_params, Dict{String, typeof(get_abs_neighborhood)}, Int64, Matrix{Float32}}, RatingsDataset, RatingsDataset}, Float32}, Float32, 3}[Dual{ForwardDiff.Tag{var\"#validation_mse#23\"{var\"#20#22\"{cf_params, Dict{String, typeof(get_abs_neighborhood)}, Int64, Matrix{Float32}}, RatingsDataset, RatingsDataset}, Float32}}(1.652791,1.0,0.0,0.0), Dual{ForwardDiff.Tag{var\"#validation_mse#23\"{var\"#20#22\"{cf_params, Dict{String, typeof(get_abs_neighborhood)}, Int64, Matrix{Float32}}, RatingsDataset, RatingsDataset}, Float32}}(1.0489147,0.0,1.0,0.0), Dual{ForwardDiff.Tag{var\"#validation_mse#23\"{var\"#20#22\"{cf_params, Dict{String, typeof(get_abs_neighborhood)}, Int64, Matrix{Float32}}, RatingsDataset, RatingsDataset}, Float32}}(0.025516061,0.0,0.0,1.0)]\n",
      "\u001b[32mProgress: 100%|███████████████████████████| Time: 0:01:50 ( 0.13  s/it)\u001b[39m\n",
      "\u001b[38;5;4m\u001b[1m[ \u001b[22m\u001b[39m\u001b[38;5;4m\u001b[1mDebug: \u001b[22m\u001b[39m20220225 15:51:00 loss: Dual{ForwardDiff.Tag{var\"#validation_mse#23\"{var\"#20#22\"{cf_params, Dict{String, typeof(get_abs_neighborhood)}, Int64, Matrix{Float32}}, RatingsDataset, RatingsDataset}, Float32}}(1.450625,-0.012779701,0.0015179907,-0.0059899245) β: Dual{ForwardDiff.Tag{var\"#validation_mse#23\"{var\"#20#22\"{cf_params, Dict{String, typeof(get_abs_neighborhood)}, Int64, Matrix{Float32}}, RatingsDataset, RatingsDataset}, Float32}}(1.003583,0.4873484,-0.67984295,9.167858): λ ForwardDiff.Dual{ForwardDiff.Tag{var\"#validation_mse#23\"{var\"#20#22\"{cf_params, Dict{String, typeof(get_abs_neighborhood)}, Int64, Matrix{Float32}}, RatingsDataset, RatingsDataset}, Float32}, Float32, 3}[Dual{ForwardDiff.Tag{var\"#validation_mse#23\"{var\"#20#22\"{cf_params, Dict{String, typeof(get_abs_neighborhood)}, Int64, Matrix{Float32}}, RatingsDataset, RatingsDataset}, Float32}}(1.6545982,1.0,0.0,0.0), Dual{ForwardDiff.Tag{var\"#validation_mse#23\"{var\"#20#22\"{cf_params, Dict{String, typeof(get_abs_neighborhood)}, Int64, Matrix{Float32}}, RatingsDataset, RatingsDataset}, Float32}}(1.0486826,0.0,1.0,0.0), Dual{ForwardDiff.Tag{var\"#validation_mse#23\"{var\"#20#22\"{cf_params, Dict{String, typeof(get_abs_neighborhood)}, Int64, Matrix{Float32}}, RatingsDataset, RatingsDataset}, Float32}}(0.025014214,0.0,0.0,1.0)]\n",
      "\u001b[32mProgress: 100%|███████████████████████████| Time: 0:01:56 ( 0.14  s/it)\u001b[39m\n",
      "\u001b[38;5;4m\u001b[1m[ \u001b[22m\u001b[39m\u001b[38;5;4m\u001b[1mDebug: \u001b[22m\u001b[39m20220225 15:53:10 loss: Dual{ForwardDiff.Tag{var\"#validation_mse#23\"{var\"#20#22\"{cf_params, Dict{String, typeof(get_abs_neighborhood)}, Int64, Matrix{Float32}}, RatingsDataset, RatingsDataset}, Float32}}(1.450567,-0.016472166,0.0014787522,-0.056877658) β: Dual{ForwardDiff.Tag{var\"#validation_mse#23\"{var\"#20#22\"{cf_params, Dict{String, typeof(get_abs_neighborhood)}, Int64, Matrix{Float32}}, RatingsDataset, RatingsDataset}, Float32}}(0.9850008,0.4706063,-0.6675685,9.7421665): λ ForwardDiff.Dual{ForwardDiff.Tag{var\"#validation_mse#23\"{var\"#20#22\"{cf_params, Dict{String, typeof(get_abs_neighborhood)}, Int64, Matrix{Float32}}, RatingsDataset, RatingsDataset}, Float32}, Float32, 3}[Dual{ForwardDiff.Tag{var\"#validation_mse#23\"{var\"#20#22\"{cf_params, Dict{String, typeof(get_abs_neighborhood)}, Int64, Matrix{Float32}}, RatingsDataset, RatingsDataset}, Float32}}(1.6636344,1.0,0.0,0.0), Dual{ForwardDiff.Tag{var\"#validation_mse#23\"{var\"#20#22\"{cf_params, Dict{String, typeof(get_abs_neighborhood)}, Int64, Matrix{Float32}}, RatingsDataset, RatingsDataset}, Float32}}(1.0475218,0.0,1.0,0.0), Dual{ForwardDiff.Tag{var\"#validation_mse#23\"{var\"#20#22\"{cf_params, Dict{String, typeof(get_abs_neighborhood)}, Int64, Matrix{Float32}}, RatingsDataset, RatingsDataset}, Float32}}(0.022504978,0.0,0.0,1.0)]\n",
      "\u001b[32mProgress: 100%|███████████████████████████| Time: 0:01:53 ( 0.13  s/it)\u001b[39m\n",
      "\u001b[38;5;4m\u001b[1m[ \u001b[22m\u001b[39m\u001b[38;5;4m\u001b[1mDebug: \u001b[22m\u001b[39m20220225 15:55:22 loss: Dual{ForwardDiff.Tag{var\"#validation_mse#23\"{var\"#20#22\"{cf_params, Dict{String, typeof(get_abs_neighborhood)}, Int64, Matrix{Float32}}, RatingsDataset, RatingsDataset}, Float32}}(1.4536629,-0.04341341,0.0020348623,-0.9088638) β: Dual{ForwardDiff.Tag{var\"#validation_mse#23\"{var\"#20#22\"{cf_params, Dict{String, typeof(get_abs_neighborhood)}, Int64, Matrix{Float32}}, RatingsDataset, RatingsDataset}, Float32}}(0.85684866,0.3585719,-0.58688354,15.44177): λ ForwardDiff.Dual{ForwardDiff.Tag{var\"#validation_mse#23\"{var\"#20#22\"{cf_params, Dict{String, typeof(get_abs_neighborhood)}, Int64, Matrix{Float32}}, RatingsDataset, RatingsDataset}, Float32}, Float32, 3}[Dual{ForwardDiff.Tag{var\"#validation_mse#23\"{var\"#20#22\"{cf_params, Dict{String, typeof(get_abs_neighborhood)}, Int64, Matrix{Float32}}, RatingsDataset, RatingsDataset}, Float32}}(1.7088155,1.0,0.0,0.0), Dual{ForwardDiff.Tag{var\"#validation_mse#23\"{var\"#20#22\"{cf_params, Dict{String, typeof(get_abs_neighborhood)}, Int64, Matrix{Float32}}, RatingsDataset, RatingsDataset}, Float32}}(1.0417184,0.0,1.0,0.0), Dual{ForwardDiff.Tag{var\"#validation_mse#23\"{var\"#20#22\"{cf_params, Dict{String, typeof(get_abs_neighborhood)}, Int64, Matrix{Float32}}, RatingsDataset, RatingsDataset}, Float32}}(0.009958795,0.0,0.0,1.0)]\n",
      "\u001b[32mProgress: 100%|███████████████████████████| Time: 0:01:41 ( 0.12  s/it)\u001b[39m\n",
      "\u001b[38;5;4m\u001b[1m[ \u001b[22m\u001b[39m\u001b[38;5;4m\u001b[1mDebug: \u001b[22m\u001b[39m20220225 15:57:20 loss: Dual{ForwardDiff.Tag{var\"#validation_mse#23\"{var\"#20#22\"{cf_params, Dict{String, typeof(get_abs_neighborhood)}, Int64, Matrix{Float32}}, RatingsDataset, RatingsDataset}, Float32}}(1.4505669,-0.016553596,0.0014782522,-0.058111258) β: Dual{ForwardDiff.Tag{var\"#validation_mse#23\"{var\"#20#22\"{cf_params, Dict{String, typeof(get_abs_neighborhood)}, Int64, Matrix{Float32}}, RatingsDataset, RatingsDataset}, Float32}}(0.98460895,0.4702417,-0.6673012,9.755087): λ ForwardDiff.Dual{ForwardDiff.Tag{var\"#validation_mse#23\"{var\"#20#22\"{cf_params, Dict{String, typeof(get_abs_neighborhood)}, Int64, Matrix{Float32}}, RatingsDataset, RatingsDataset}, Float32}, Float32, 3}[Dual{ForwardDiff.Tag{var\"#validation_mse#23\"{var\"#20#22\"{cf_params, Dict{String, typeof(get_abs_neighborhood)}, Int64, Matrix{Float32}}, RatingsDataset, RatingsDataset}, Float32}}(1.6638216,1.0,0.0,0.0), Dual{ForwardDiff.Tag{var\"#validation_mse#23\"{var\"#20#22\"{cf_params, Dict{String, typeof(get_abs_neighborhood)}, Int64, Matrix{Float32}}, RatingsDataset, RatingsDataset}, Float32}}(1.0474979,0.0,1.0,0.0), Dual{ForwardDiff.Tag{var\"#validation_mse#23\"{var\"#20#22\"{cf_params, Dict{String, typeof(get_abs_neighborhood)}, Int64, Matrix{Float32}}, RatingsDataset, RatingsDataset}, Float32}}(0.022453021,0.0,0.0,1.0)]\n"
     ]
    },
    {
     "name": "stdout",
     "output_type": "stream",
     "text": [
      "    16     1.450567e+00     5.811126e-02\n",
      " * Current step size: 25.41413\n",
      " * time: 6866.900724887848\n",
      " * g(x): Float32[-0.016553596, 0.0014782522, -0.058111258]\n",
      " * x: Float32[1.6638216, 1.0474979, 0.022453021]\n"
     ]
    },
    {
     "name": "stderr",
     "output_type": "stream",
     "text": [
      "\u001b[32mProgress: 100%|███████████████████████████| Time: 0:01:55 ( 0.13  s/it)\u001b[39m\n",
      "\u001b[38;5;4m\u001b[1m[ \u001b[22m\u001b[39m\u001b[38;5;4m\u001b[1mDebug: \u001b[22m\u001b[39m20220225 15:59:30 loss: Dual{ForwardDiff.Tag{var\"#validation_mse#23\"{var\"#20#22\"{cf_params, Dict{String, typeof(get_abs_neighborhood)}, Int64, Matrix{Float32}}, RatingsDataset, RatingsDataset}, Float32}}(1.4504186,-0.01643402,0.0011891513,-0.06340524) β: Dual{ForwardDiff.Tag{var\"#validation_mse#23\"{var\"#20#22\"{cf_params, Dict{String, typeof(get_abs_neighborhood)}, Int64, Matrix{Float32}}, RatingsDataset, RatingsDataset}, Float32}}(0.98117447,0.4638337,-0.66356355,10.101555): λ ForwardDiff.Dual{ForwardDiff.Tag{var\"#validation_mse#23\"{var\"#20#22\"{cf_params, Dict{String, typeof(get_abs_neighborhood)}, Int64, Matrix{Float32}}, RatingsDataset, RatingsDataset}, Float32}, Float32, 3}[Dual{ForwardDiff.Tag{var\"#validation_mse#23\"{var\"#20#22\"{cf_params, Dict{String, typeof(get_abs_neighborhood)}, Int64, Matrix{Float32}}, RatingsDataset, RatingsDataset}, Float32}}(1.6765566,1.0,0.0,0.0), Dual{ForwardDiff.Tag{var\"#validation_mse#23\"{var\"#20#22\"{cf_params, Dict{String, typeof(get_abs_neighborhood)}, Int64, Matrix{Float32}}, RatingsDataset, RatingsDataset}, Float32}}(1.0458902,0.0,1.0,0.0), Dual{ForwardDiff.Tag{var\"#validation_mse#23\"{var\"#20#22\"{cf_params, Dict{String, typeof(get_abs_neighborhood)}, Int64, Matrix{Float32}}, RatingsDataset, RatingsDataset}, Float32}}(0.021400897,0.0,0.0,1.0)]\n",
      "\u001b[32mProgress: 100%|███████████████████████████| Time: 0:01:47 ( 0.13  s/it)\u001b[39m\n",
      "\u001b[38;5;4m\u001b[1m[ \u001b[22m\u001b[39m\u001b[38;5;4m\u001b[1mDebug: \u001b[22m\u001b[39m20220225 16:01:39 loss: Dual{ForwardDiff.Tag{var\"#validation_mse#23\"{var\"#20#22\"{cf_params, Dict{String, typeof(get_abs_neighborhood)}, Int64, Matrix{Float32}}, RatingsDataset, RatingsDataset}, Float32}}(1.4499162,-0.017342828,8.1569044e-5,-0.113182224) β: Dual{ForwardDiff.Tag{var\"#validation_mse#23\"{var\"#20#22\"{cf_params, Dict{String, typeof(get_abs_neighborhood)}, Int64, Matrix{Float32}}, RatingsDataset, RatingsDataset}, Float32}}(0.9624423,0.43553135,-0.6458122,11.783262): λ ForwardDiff.Dual{ForwardDiff.Tag{var\"#validation_mse#23\"{var\"#20#22\"{cf_params, Dict{String, typeof(get_abs_neighborhood)}, Int64, Matrix{Float32}}, RatingsDataset, RatingsDataset}, Float32}, Float32, 3}[Dual{ForwardDiff.Tag{var\"#validation_mse#23\"{var\"#20#22\"{cf_params, Dict{String, typeof(get_abs_neighborhood)}, Int64, Matrix{Float32}}, RatingsDataset, RatingsDataset}, Float32}}(1.7274969,1.0,0.0,0.0), Dual{ForwardDiff.Tag{var\"#validation_mse#23\"{var\"#20#22\"{cf_params, Dict{String, typeof(get_abs_neighborhood)}, Int64, Matrix{Float32}}, RatingsDataset, RatingsDataset}, Float32}}(1.0394595,0.0,1.0,0.0), Dual{ForwardDiff.Tag{var\"#validation_mse#23\"{var\"#20#22\"{cf_params, Dict{String, typeof(get_abs_neighborhood)}, Int64, Matrix{Float32}}, RatingsDataset, RatingsDataset}, Float32}}(0.017192397,0.0,0.0,1.0)]\n",
      "\u001b[32mProgress: 100%|███████████████████████████| Time: 0:01:56 ( 0.14  s/it)\u001b[39m\n",
      "\u001b[38;5;4m\u001b[1m[ \u001b[22m\u001b[39m\u001b[38;5;4m\u001b[1mDebug: \u001b[22m\u001b[39m20220225 16:03:48 loss: Dual{ForwardDiff.Tag{var\"#validation_mse#23\"{var\"#20#22\"{cf_params, Dict{String, typeof(get_abs_neighborhood)}, Int64, Matrix{Float32}}, RatingsDataset, RatingsDataset}, Float32}}(1.7427762,-0.0042523346,-4.5192266e-8,0.38313648) β: Dual{ForwardDiff.Tag{var\"#validation_mse#23\"{var\"#20#22\"{cf_params, Dict{String, typeof(get_abs_neighborhood)}, Int64, Matrix{Float32}}, RatingsDataset, RatingsDataset}, Float32}}(9.443739e-8,0.45744878,4.784259e-6,-41.222576): λ ForwardDiff.Dual{ForwardDiff.Tag{var\"#validation_mse#23\"{var\"#20#22\"{cf_params, Dict{String, typeof(get_abs_neighborhood)}, Int64, Matrix{Float32}}, RatingsDataset, RatingsDataset}, Float32}, Float32, 3}[Dual{ForwardDiff.Tag{var\"#validation_mse#23\"{var\"#20#22\"{cf_params, Dict{String, typeof(get_abs_neighborhood)}, Int64, Matrix{Float32}}, RatingsDataset, RatingsDataset}, Float32}}(1.9821979,1.0,0.0,0.0), Dual{ForwardDiff.Tag{var\"#validation_mse#23\"{var\"#20#22\"{cf_params, Dict{String, typeof(get_abs_neighborhood)}, Int64, Matrix{Float32}}, RatingsDataset, RatingsDataset}, Float32}}(1.0073056,0.0,1.0,0.0), Dual{ForwardDiff.Tag{var\"#validation_mse#23\"{var\"#20#22\"{cf_params, Dict{String, typeof(get_abs_neighborhood)}, Int64, Matrix{Float32}}, RatingsDataset, RatingsDataset}, Float32}}(-0.003850101,0.0,0.0,1.0)]\n",
      "\u001b[32mProgress: 100%|███████████████████████████| Time: 0:01:52 ( 0.13  s/it)\u001b[39m\n",
      "\u001b[38;5;4m\u001b[1m[ \u001b[22m\u001b[39m\u001b[38;5;4m\u001b[1mDebug: \u001b[22m\u001b[39m20220225 16:06:00 loss: Dual{ForwardDiff.Tag{var\"#validation_mse#23\"{var\"#20#22\"{cf_params, Dict{String, typeof(get_abs_neighborhood)}, Int64, Matrix{Float32}}, RatingsDataset, RatingsDataset}, Float32}}(1.4500669,-0.027930027,-0.00157598,-0.587448) β: Dual{ForwardDiff.Tag{var\"#validation_mse#23\"{var\"#20#22\"{cf_params, Dict{String, typeof(get_abs_neighborhood)}, Int64, Matrix{Float32}}, RatingsDataset, RatingsDataset}, Float32}}(0.8957886,0.36497,-0.5953144,17.653542): λ ForwardDiff.Dual{ForwardDiff.Tag{var\"#validation_mse#23\"{var\"#20#22\"{cf_params, Dict{String, typeof(get_abs_neighborhood)}, Int64, Matrix{Float32}}, RatingsDataset, RatingsDataset}, Float32}, Float32, 3}[Dual{ForwardDiff.Tag{var\"#validation_mse#23\"{var\"#20#22\"{cf_params, Dict{String, typeof(get_abs_neighborhood)}, Int64, Matrix{Float32}}, RatingsDataset, RatingsDataset}, Float32}}(1.8230097,1.0,0.0,0.0), Dual{ForwardDiff.Tag{var\"#validation_mse#23\"{var\"#20#22\"{cf_params, Dict{String, typeof(get_abs_neighborhood)}, Int64, Matrix{Float32}}, RatingsDataset, RatingsDataset}, Float32}}(1.0274017,0.0,1.0,0.0), Dual{ForwardDiff.Tag{var\"#validation_mse#23\"{var\"#20#22\"{cf_params, Dict{String, typeof(get_abs_neighborhood)}, Int64, Matrix{Float32}}, RatingsDataset, RatingsDataset}, Float32}}(0.00930146,0.0,0.0,1.0)]\n",
      "\u001b[32mProgress: 100%|███████████████████████████| Time: 0:01:56 ( 0.14  s/it)\u001b[39m\n",
      "\u001b[38;5;4m\u001b[1m[ \u001b[22m\u001b[39m\u001b[38;5;4m\u001b[1mDebug: \u001b[22m\u001b[39m20220225 16:08:12 loss: Dual{ForwardDiff.Tag{var\"#validation_mse#23\"{var\"#20#22\"{cf_params, Dict{String, typeof(get_abs_neighborhood)}, Int64, Matrix{Float32}}, RatingsDataset, RatingsDataset}, Float32}}(1.4499627,-0.01711865,0.00019925302,-0.10459311) β: Dual{ForwardDiff.Tag{var\"#validation_mse#23\"{var\"#20#22\"{cf_params, Dict{String, typeof(get_abs_neighborhood)}, Int64, Matrix{Float32}}, RatingsDataset, RatingsDataset}, Float32}}(0.96495366,0.43887487,-0.64801013,11.568735): λ ForwardDiff.Dual{ForwardDiff.Tag{var\"#validation_mse#23\"{var\"#20#22\"{cf_params, Dict{String, typeof(get_abs_neighborhood)}, Int64, Matrix{Float32}}, RatingsDataset, RatingsDataset}, Float32}, Float32, 3}[Dual{ForwardDiff.Tag{var\"#validation_mse#23\"{var\"#20#22\"{cf_params, Dict{String, typeof(get_abs_neighborhood)}, Int64, Matrix{Float32}}, RatingsDataset, RatingsDataset}, Float32}}(1.7218707,1.0,0.0,0.0), Dual{ForwardDiff.Tag{var\"#validation_mse#23\"{var\"#20#22\"{cf_params, Dict{String, typeof(get_abs_neighborhood)}, Int64, Matrix{Float32}}, RatingsDataset, RatingsDataset}, Float32}}(1.0401697,0.0,1.0,0.0), Dual{ForwardDiff.Tag{var\"#validation_mse#23\"{var\"#20#22\"{cf_params, Dict{String, typeof(get_abs_neighborhood)}, Int64, Matrix{Float32}}, RatingsDataset, RatingsDataset}, Float32}}(0.01765721,0.0,0.0,1.0)]\n"
     ]
    },
    {
     "name": "stdout",
     "output_type": "stream",
     "text": [
      "    17     1.449963e+00     1.045931e-01\n",
      " * Current step size: 4.5582147\n",
      " * time: 7519.596983909607\n",
      " * g(x): Float32[-0.01711865, 0.00019925302, -0.10459311]\n",
      " * x: Float32[1.7218707, 1.0401697, 0.01765721]\n"
     ]
    },
    {
     "name": "stderr",
     "output_type": "stream",
     "text": [
      "\u001b[32mProgress: 100%|███████████████████████████| Time: 0:01:51 ( 0.13  s/it)\u001b[39m\n",
      "\u001b[38;5;4m\u001b[1m[ \u001b[22m\u001b[39m\u001b[38;5;4m\u001b[1mDebug: \u001b[22m\u001b[39m20220225 16:10:27 loss: Dual{ForwardDiff.Tag{var\"#validation_mse#23\"{var\"#20#22\"{cf_params, Dict{String, typeof(get_abs_neighborhood)}, Int64, Matrix{Float32}}, RatingsDataset, RatingsDataset}, Float32}}(1.4498376,-0.029661689,-0.004809017,-1.3453784) β: Dual{ForwardDiff.Tag{var\"#validation_mse#23\"{var\"#20#22\"{cf_params, Dict{String, typeof(get_abs_neighborhood)}, Int64, Matrix{Float32}}, RatingsDataset, RatingsDataset}, Float32}}(0.8580367,0.3107863,-0.556958,28.244898): λ ForwardDiff.Dual{ForwardDiff.Tag{var\"#validation_mse#23\"{var\"#20#22\"{cf_params, Dict{String, typeof(get_abs_neighborhood)}, Int64, Matrix{Float32}}, RatingsDataset, RatingsDataset}, Float32}, Float32, 3}[Dual{ForwardDiff.Tag{var\"#validation_mse#23\"{var\"#20#22\"{cf_params, Dict{String, typeof(get_abs_neighborhood)}, Int64, Matrix{Float32}}, RatingsDataset, RatingsDataset}, Float32}}(1.9676834,1.0,0.0,0.0), Dual{ForwardDiff.Tag{var\"#validation_mse#23\"{var\"#20#22\"{cf_params, Dict{String, typeof(get_abs_neighborhood)}, Int64, Matrix{Float32}}, RatingsDataset, RatingsDataset}, Float32}}(1.0095078,0.0,1.0,0.0), Dual{ForwardDiff.Tag{var\"#validation_mse#23\"{var\"#20#22\"{cf_params, Dict{String, typeof(get_abs_neighborhood)}, Int64, Matrix{Float32}}, RatingsDataset, RatingsDataset}, Float32}}(0.0048940713,0.0,0.0,1.0)]\n",
      "\u001b[32mProgress: 100%|███████████████████████████| Time: 0:01:48 ( 0.13  s/it)\u001b[39m\n",
      "\u001b[38;5;4m\u001b[1m[ \u001b[22m\u001b[39m\u001b[38;5;4m\u001b[1mDebug: \u001b[22m\u001b[39m20220225 16:12:33 loss: Dual{ForwardDiff.Tag{var\"#validation_mse#23\"{var\"#20#22\"{cf_params, Dict{String, typeof(get_abs_neighborhood)}, Int64, Matrix{Float32}}, RatingsDataset, RatingsDataset}, Float32}}(1.4493856,-0.0151407,-0.0011346614,-0.10858041) β: Dual{ForwardDiff.Tag{var\"#validation_mse#23\"{var\"#20#22\"{cf_params, Dict{String, typeof(get_abs_neighborhood)}, Int64, Matrix{Float32}}, RatingsDataset, RatingsDataset}, Float32}}(0.9576227,0.41886443,-0.63653904,13.242494): λ ForwardDiff.Dual{ForwardDiff.Tag{var\"#validation_mse#23\"{var\"#20#22\"{cf_params, Dict{String, typeof(get_abs_neighborhood)}, Int64, Matrix{Float32}}, RatingsDataset, RatingsDataset}, Float32}, Float32, 3}[Dual{ForwardDiff.Tag{var\"#validation_mse#23\"{var\"#20#22\"{cf_params, Dict{String, typeof(get_abs_neighborhood)}, Int64, Matrix{Float32}}, RatingsDataset, RatingsDataset}, Float32}}(1.7767055,1.0,0.0,0.0), Dual{ForwardDiff.Tag{var\"#validation_mse#23\"{var\"#20#22\"{cf_params, Dict{String, typeof(get_abs_neighborhood)}, Int64, Matrix{Float32}}, RatingsDataset, RatingsDataset}, Float32}}(1.0333298,0.0,1.0,0.0), Dual{ForwardDiff.Tag{var\"#validation_mse#23\"{var\"#20#22\"{cf_params, Dict{String, typeof(get_abs_neighborhood)}, Int64, Matrix{Float32}}, RatingsDataset, RatingsDataset}, Float32}}(0.014810066,0.0,0.0,1.0)]\n"
     ]
    },
    {
     "name": "stdout",
     "output_type": "stream",
     "text": [
      "    18     1.449386e+00     1.085804e-01\n",
      " * Current step size: 0.22307551\n",
      " * time: 7780.705785036087\n",
      " * g(x): Float32[-0.0151407, -0.0011346614, -0.10858041]\n",
      " * x: Float32[1.7767055, 1.0333298, 0.014810066]\n"
     ]
    },
    {
     "name": "stderr",
     "output_type": "stream",
     "text": [
      "\u001b[32mProgress: 100%|███████████████████████████| Time: 0:01:50 ( 0.13  s/it)\u001b[39m\n",
      "\u001b[38;5;4m\u001b[1m[ \u001b[22m\u001b[39m\u001b[38;5;4m\u001b[1mDebug: \u001b[22m\u001b[39m20220225 16:14:47 loss: Dual{ForwardDiff.Tag{var\"#validation_mse#23\"{var\"#20#22\"{cf_params, Dict{String, typeof(get_abs_neighborhood)}, Int64, Matrix{Float32}}, RatingsDataset, RatingsDataset}, Float32}}(1.4480424,-0.018255876,-0.0005230073,-0.6729164) β: Dual{ForwardDiff.Tag{var\"#validation_mse#23\"{var\"#20#22\"{cf_params, Dict{String, typeof(get_abs_neighborhood)}, Int64, Matrix{Float32}}, RatingsDataset, RatingsDataset}, Float32}}(0.8743006,0.31889305,-0.58593,27.1368): λ ForwardDiff.Dual{ForwardDiff.Tag{var\"#validation_mse#23\"{var\"#20#22\"{cf_params, Dict{String, typeof(get_abs_neighborhood)}, Int64, Matrix{Float32}}, RatingsDataset, RatingsDataset}, Float32}, Float32, 3}[Dual{ForwardDiff.Tag{var\"#validation_mse#23\"{var\"#20#22\"{cf_params, Dict{String, typeof(get_abs_neighborhood)}, Int64, Matrix{Float32}}, RatingsDataset, RatingsDataset}, Float32}}(2.0177145,1.0,0.0,0.0), Dual{ForwardDiff.Tag{var\"#validation_mse#23\"{var\"#20#22\"{cf_params, Dict{String, typeof(get_abs_neighborhood)}, Int64, Matrix{Float32}}, RatingsDataset, RatingsDataset}, Float32}}(1.0339472,0.0,1.0,0.0), Dual{ForwardDiff.Tag{var\"#validation_mse#23\"{var\"#20#22\"{cf_params, Dict{String, typeof(get_abs_neighborhood)}, Int64, Matrix{Float32}}, RatingsDataset, RatingsDataset}, Float32}}(0.0054172482,0.0,0.0,1.0)]\n",
      "\u001b[32mProgress: 100%|███████████████████████████| Time: 0:01:51 ( 0.13  s/it)\u001b[39m\n",
      "\u001b[38;5;4m\u001b[1m[ \u001b[22m\u001b[39m\u001b[38;5;4m\u001b[1mDebug: \u001b[22m\u001b[39m20220225 16:16:56 loss: Dual{ForwardDiff.Tag{var\"#validation_mse#23\"{var\"#20#22\"{cf_params, Dict{String, typeof(get_abs_neighborhood)}, Int64, Matrix{Float32}}, RatingsDataset, RatingsDataset}, Float32}}(1.4481987,-0.01118642,-0.0010430149,-0.12769479) β: Dual{ForwardDiff.Tag{var\"#validation_mse#23\"{var\"#20#22\"{cf_params, Dict{String, typeof(get_abs_neighborhood)}, Int64, Matrix{Float32}}, RatingsDataset, RatingsDataset}, Float32}}(0.92761385,0.36885935,-0.617498,18.604025): λ ForwardDiff.Dual{ForwardDiff.Tag{var\"#validation_mse#23\"{var\"#20#22\"{cf_params, Dict{String, typeof(get_abs_neighborhood)}, Int64, Matrix{Float32}}, RatingsDataset, RatingsDataset}, Float32}, Float32, 3}[Dual{ForwardDiff.Tag{var\"#validation_mse#23\"{var\"#20#22\"{cf_params, Dict{String, typeof(get_abs_neighborhood)}, Int64, Matrix{Float32}}, RatingsDataset, RatingsDataset}, Float32}}(1.9159981,1.0,0.0,0.0), Dual{ForwardDiff.Tag{var\"#validation_mse#23\"{var\"#20#22\"{cf_params, Dict{String, typeof(get_abs_neighborhood)}, Int64, Matrix{Float32}}, RatingsDataset, RatingsDataset}, Float32}}(1.0336866,0.0,1.0,0.0), Dual{ForwardDiff.Tag{var\"#validation_mse#23\"{var\"#20#22\"{cf_params, Dict{String, typeof(get_abs_neighborhood)}, Int64, Matrix{Float32}}, RatingsDataset, RatingsDataset}, Float32}}(0.009381433,0.0,0.0,1.0)]\n"
     ]
    },
    {
     "name": "stdout",
     "output_type": "stream",
     "text": [
      "    19     1.448199e+00     1.276948e-01\n",
      " * Current step size: 0.5779557\n",
      " * time: 8043.760230064392\n",
      " * g(x): Float32[-0.01118642, -0.0010430149, -0.12769479]\n",
      " * x: Float32[1.9159981, 1.0336866, 0.009381433]\n"
     ]
    },
    {
     "name": "stderr",
     "output_type": "stream",
     "text": [
      "\u001b[32mProgress: 100%|███████████████████████████| Time: 0:01:54 ( 0.13  s/it)\u001b[39m\n",
      "\u001b[38;5;4m\u001b[1m[ \u001b[22m\u001b[39m\u001b[38;5;4m\u001b[1mDebug: \u001b[22m\u001b[39m20220225 16:19:07 loss: Dual{ForwardDiff.Tag{var\"#validation_mse#23\"{var\"#20#22\"{cf_params, Dict{String, typeof(get_abs_neighborhood)}, Int64, Matrix{Float32}}, RatingsDataset, RatingsDataset}, Float32}}(1.4473007,0.005500708,-0.00095743925,0.45962283) β: Dual{ForwardDiff.Tag{var\"#validation_mse#23\"{var\"#20#22\"{cf_params, Dict{String, typeof(get_abs_neighborhood)}, Int64, Matrix{Float32}}, RatingsDataset, RatingsDataset}, Float32}}(0.92667246,0.3287584,-0.61629605,26.356073): λ ForwardDiff.Dual{ForwardDiff.Tag{var\"#validation_mse#23\"{var\"#20#22\"{cf_params, Dict{String, typeof(get_abs_neighborhood)}, Int64, Matrix{Float32}}, RatingsDataset, RatingsDataset}, Float32}, Float32, 3}[Dual{ForwardDiff.Tag{var\"#validation_mse#23\"{var\"#20#22\"{cf_params, Dict{String, typeof(get_abs_neighborhood)}, Int64, Matrix{Float32}}, RatingsDataset, RatingsDataset}, Float32}}(2.1193802,1.0,0.0,0.0), Dual{ForwardDiff.Tag{var\"#validation_mse#23\"{var\"#20#22\"{cf_params, Dict{String, typeof(get_abs_neighborhood)}, Int64, Matrix{Float32}}, RatingsDataset, RatingsDataset}, Float32}}(1.0364754,0.0,1.0,0.0), Dual{ForwardDiff.Tag{var\"#validation_mse#23\"{var\"#20#22\"{cf_params, Dict{String, typeof(get_abs_neighborhood)}, Int64, Matrix{Float32}}, RatingsDataset, RatingsDataset}, Float32}}(0.0061972355,0.0,0.0,1.0)]\n",
      "\u001b[32mProgress: 100%|███████████████████████████| Time: 0:01:54 ( 0.13  s/it)\u001b[39m\n",
      "\u001b[38;5;4m\u001b[1m[ \u001b[22m\u001b[39m\u001b[38;5;4m\u001b[1mDebug: \u001b[22m\u001b[39m20220225 16:21:18 loss: Dual{ForwardDiff.Tag{var\"#validation_mse#23\"{var\"#20#22\"{cf_params, Dict{String, typeof(get_abs_neighborhood)}, Int64, Matrix{Float32}}, RatingsDataset, RatingsDataset}, Float32}}(1.7427703,-1.0532501,-4.342183e-7,78.29895) β: Dual{ForwardDiff.Tag{var\"#validation_mse#23\"{var\"#20#22\"{cf_params, Dict{String, typeof(get_abs_neighborhood)}, Int64, Matrix{Float32}}, RatingsDataset, RatingsDataset}, Float32}}(2.0872718e-5,1.9913363,-1.2460751e-5,-149.50542): λ ForwardDiff.Dual{ForwardDiff.Tag{var\"#validation_mse#23\"{var\"#20#22\"{cf_params, Dict{String, typeof(get_abs_neighborhood)}, Int64, Matrix{Float32}}, RatingsDataset, RatingsDataset}, Float32}, Float32, 3}[Dual{ForwardDiff.Tag{var\"#validation_mse#23\"{var\"#20#22\"{cf_params, Dict{String, typeof(get_abs_neighborhood)}, Int64, Matrix{Float32}}, RatingsDataset, RatingsDataset}, Float32}}(2.9329085,1.0,0.0,0.0), Dual{ForwardDiff.Tag{var\"#validation_mse#23\"{var\"#20#22\"{cf_params, Dict{String, typeof(get_abs_neighborhood)}, Int64, Matrix{Float32}}, RatingsDataset, RatingsDataset}, Float32}}(1.0476305,0.0,1.0,0.0), Dual{ForwardDiff.Tag{var\"#validation_mse#23\"{var\"#20#22\"{cf_params, Dict{String, typeof(get_abs_neighborhood)}, Int64, Matrix{Float32}}, RatingsDataset, RatingsDataset}, Float32}}(-0.0065395543,0.0,0.0,1.0)]\n",
      "\u001b[32mProgress: 100%|███████████████████████████| Time: 0:01:53 ( 0.13  s/it)\u001b[39m\n",
      "\u001b[38;5;4m\u001b[1m[ \u001b[22m\u001b[39m\u001b[38;5;4m\u001b[1mDebug: \u001b[22m\u001b[39m20220225 16:23:32 loss: Dual{ForwardDiff.Tag{var\"#validation_mse#23\"{var\"#20#22\"{cf_params, Dict{String, typeof(get_abs_neighborhood)}, Int64, Matrix{Float32}}, RatingsDataset, RatingsDataset}, Float32}}(1.4465259,-0.010077433,0.00079450983,-1.8061843) β: Dual{ForwardDiff.Tag{var\"#validation_mse#23\"{var\"#20#22\"{cf_params, Dict{String, typeof(get_abs_neighborhood)}, Int64, Matrix{Float32}}, RatingsDataset, RatingsDataset}, Float32}}(0.8121527,0.23634608,-0.5508578,77.04403): λ ForwardDiff.Dual{ForwardDiff.Tag{var\"#validation_mse#23\"{var\"#20#22\"{cf_params, Dict{String, typeof(get_abs_neighborhood)}, Int64, Matrix{Float32}}, RatingsDataset, RatingsDataset}, Float32}, Float32, 3}[Dual{ForwardDiff.Tag{var\"#validation_mse#23\"{var\"#20#22\"{cf_params, Dict{String, typeof(get_abs_neighborhood)}, Int64, Matrix{Float32}}, RatingsDataset, RatingsDataset}, Float32}}(2.4244533,1.0,0.0,0.0), Dual{ForwardDiff.Tag{var\"#validation_mse#23\"{var\"#20#22\"{cf_params, Dict{String, typeof(get_abs_neighborhood)}, Int64, Matrix{Float32}}, RatingsDataset, RatingsDataset}, Float32}}(1.0406586,0.0,1.0,0.0), Dual{ForwardDiff.Tag{var\"#validation_mse#23\"{var\"#20#22\"{cf_params, Dict{String, typeof(get_abs_neighborhood)}, Int64, Matrix{Float32}}, RatingsDataset, RatingsDataset}, Float32}}(0.0014209393,0.0,0.0,1.0)]\n",
      "\u001b[32mProgress: 100%|███████████████████████████| Time: 0:01:56 ( 0.14  s/it)\u001b[39m\n",
      "\u001b[38;5;4m\u001b[1m[ \u001b[22m\u001b[39m\u001b[38;5;4m\u001b[1mDebug: \u001b[22m\u001b[39m20220225 16:25:42 loss: Dual{ForwardDiff.Tag{var\"#validation_mse#23\"{var\"#20#22\"{cf_params, Dict{String, typeof(get_abs_neighborhood)}, Int64, Matrix{Float32}}, RatingsDataset, RatingsDataset}, Float32}}(1.4473608,0.0035618471,-0.0010011452,0.35615408) β: Dual{ForwardDiff.Tag{var\"#validation_mse#23\"{var\"#20#22\"{cf_params, Dict{String, typeof(get_abs_neighborhood)}, Int64, Matrix{Float32}}, RatingsDataset, RatingsDataset}, Float32}}(0.92917246,0.33611736,-0.6178226,24.75047): λ ForwardDiff.Dual{ForwardDiff.Tag{var\"#validation_mse#23\"{var\"#20#22\"{cf_params, Dict{String, typeof(get_abs_neighborhood)}, Int64, Matrix{Float32}}, RatingsDataset, RatingsDataset}, Float32}, Float32, 3}[Dual{ForwardDiff.Tag{var\"#validation_mse#23\"{var\"#20#22\"{cf_params, Dict{String, typeof(get_abs_neighborhood)}, Int64, Matrix{Float32}}, RatingsDataset, RatingsDataset}, Float32}}(2.086667,1.0,0.0,0.0), Dual{ForwardDiff.Tag{var\"#validation_mse#23\"{var\"#20#22\"{cf_params, Dict{String, typeof(get_abs_neighborhood)}, Int64, Matrix{Float32}}, RatingsDataset, RatingsDataset}, Float32}}(1.0360268,0.0,1.0,0.0), Dual{ForwardDiff.Tag{var\"#validation_mse#23\"{var\"#20#22\"{cf_params, Dict{String, typeof(get_abs_neighborhood)}, Int64, Matrix{Float32}}, RatingsDataset, RatingsDataset}, Float32}}(0.0067093987,0.0,0.0,1.0)]\n"
     ]
    },
    {
     "name": "stdout",
     "output_type": "stream",
     "text": [
      "    20     1.447361e+00     3.561541e-01\n",
      " * Current step size: 0.8391547\n",
      " * time: 8569.871547937393\n",
      " * g(x): Float32[0.0035618471, -0.0010011452, 0.35615408]\n",
      " * x: Float32[2.086667, 1.0360268, 0.0067093987]\n"
     ]
    },
    {
     "name": "stderr",
     "output_type": "stream",
     "text": [
      "\u001b[32mProgress: 100%|███████████████████████████| Time: 0:01:55 ( 0.13  s/it)\u001b[39m\n",
      "\u001b[38;5;4m\u001b[1m[ \u001b[22m\u001b[39m\u001b[38;5;4m\u001b[1mDebug: \u001b[22m\u001b[39m20220225 16:27:53 loss: Dual{ForwardDiff.Tag{var\"#validation_mse#23\"{var\"#20#22\"{cf_params, Dict{String, typeof(get_abs_neighborhood)}, Int64, Matrix{Float32}}, RatingsDataset, RatingsDataset}, Float32}}(1.7427762,-0.023969194,1.2127275e-8,0.48515943) β: Dual{ForwardDiff.Tag{var\"#validation_mse#23\"{var\"#20#22\"{cf_params, Dict{String, typeof(get_abs_neighborhood)}, Int64, Matrix{Float32}}, RatingsDataset, RatingsDataset}, Float32}}(3.9041393e-7,1.5410148,-1.0812325e-6,-31.25923): λ ForwardDiff.Dual{ForwardDiff.Tag{var\"#validation_mse#23\"{var\"#20#22\"{cf_params, Dict{String, typeof(get_abs_neighborhood)}, Int64, Matrix{Float32}}, RatingsDataset, RatingsDataset}, Float32}, Float32, 3}[Dual{ForwardDiff.Tag{var\"#validation_mse#23\"{var\"#20#22\"{cf_params, Dict{String, typeof(get_abs_neighborhood)}, Int64, Matrix{Float32}}, RatingsDataset, RatingsDataset}, Float32}}(3.4962547,1.0,0.0,0.0), Dual{ForwardDiff.Tag{var\"#validation_mse#23\"{var\"#20#22\"{cf_params, Dict{String, typeof(get_abs_neighborhood)}, Int64, Matrix{Float32}}, RatingsDataset, RatingsDataset}, Float32}}(1.0377145,0.0,1.0,0.0), Dual{ForwardDiff.Tag{var\"#validation_mse#23\"{var\"#20#22\"{cf_params, Dict{String, typeof(get_abs_neighborhood)}, Int64, Matrix{Float32}}, RatingsDataset, RatingsDataset}, Float32}}(-0.03554128,0.0,0.0,1.0)]\n",
      "\u001b[32mProgress: 100%|███████████████████████████| Time: 0:01:53 ( 0.13  s/it)\u001b[39m\n",
      "\u001b[38;5;4m\u001b[1m[ \u001b[22m\u001b[39m\u001b[38;5;4m\u001b[1mDebug: \u001b[22m\u001b[39m20220225 16:30:03 loss: Dual{ForwardDiff.Tag{var\"#validation_mse#23\"{var\"#20#22\"{cf_params, Dict{String, typeof(get_abs_neighborhood)}, Int64, Matrix{Float32}}, RatingsDataset, RatingsDataset}, Float32}}(1.7427733,-0.33966696,-5.2148096e-7,10.7069645) β: Dual{ForwardDiff.Tag{var\"#validation_mse#23\"{var\"#20#22\"{cf_params, Dict{String, typeof(get_abs_neighborhood)}, Int64, Matrix{Float32}}, RatingsDataset, RatingsDataset}, Float32}}(1.07320375e-5,-0.04726474,-4.0115874e-6,2.4729161): λ ForwardDiff.Dual{ForwardDiff.Tag{var\"#validation_mse#23\"{var\"#20#22\"{cf_params, Dict{String, typeof(get_abs_neighborhood)}, Int64, Matrix{Float32}}, RatingsDataset, RatingsDataset}, Float32}, Float32, 3}[Dual{ForwardDiff.Tag{var\"#validation_mse#23\"{var\"#20#22\"{cf_params, Dict{String, typeof(get_abs_neighborhood)}, Int64, Matrix{Float32}}, RatingsDataset, RatingsDataset}, Float32}}(2.791461,1.0,0.0,0.0), Dual{ForwardDiff.Tag{var\"#validation_mse#23\"{var\"#20#22\"{cf_params, Dict{String, typeof(get_abs_neighborhood)}, Int64, Matrix{Float32}}, RatingsDataset, RatingsDataset}, Float32}}(1.0368707,0.0,1.0,0.0), Dual{ForwardDiff.Tag{var\"#validation_mse#23\"{var\"#20#22\"{cf_params, Dict{String, typeof(get_abs_neighborhood)}, Int64, Matrix{Float32}}, RatingsDataset, RatingsDataset}, Float32}}(-0.01441594,0.0,0.0,1.0)]\n",
      "\u001b[32mProgress: 100%|███████████████████████████| Time: 0:01:54 ( 0.13  s/it)\u001b[39m\n",
      "\u001b[38;5;4m\u001b[1m[ \u001b[22m\u001b[39m\u001b[38;5;4m\u001b[1mDebug: \u001b[22m\u001b[39m20220225 16:32:16 loss: Dual{ForwardDiff.Tag{var\"#validation_mse#23\"{var\"#20#22\"{cf_params, Dict{String, typeof(get_abs_neighborhood)}, Int64, Matrix{Float32}}, RatingsDataset, RatingsDataset}, Float32}}(1.7427762,0.08839549,-6.4129847e-7,-9.616319) β: Dual{ForwardDiff.Tag{var\"#validation_mse#23\"{var\"#20#22\"{cf_params, Dict{String, typeof(get_abs_neighborhood)}, Int64, Matrix{Float32}}, RatingsDataset, RatingsDataset}, Float32}}(-1.4805441e-6,0.9558849,-6.196982e-6,-103.5215): λ ForwardDiff.Dual{ForwardDiff.Tag{var\"#validation_mse#23\"{var\"#20#22\"{cf_params, Dict{String, typeof(get_abs_neighborhood)}, Int64, Matrix{Float32}}, RatingsDataset, RatingsDataset}, Float32}, Float32, 3}[Dual{ForwardDiff.Tag{var\"#validation_mse#23\"{var\"#20#22\"{cf_params, Dict{String, typeof(get_abs_neighborhood)}, Int64, Matrix{Float32}}, RatingsDataset, RatingsDataset}, Float32}}(2.439064,1.0,0.0,0.0), Dual{ForwardDiff.Tag{var\"#validation_mse#23\"{var\"#20#22\"{cf_params, Dict{String, typeof(get_abs_neighborhood)}, Int64, Matrix{Float32}}, RatingsDataset, RatingsDataset}, Float32}}(1.0364487,0.0,1.0,0.0), Dual{ForwardDiff.Tag{var\"#validation_mse#23\"{var\"#20#22\"{cf_params, Dict{String, typeof(get_abs_neighborhood)}, Int64, Matrix{Float32}}, RatingsDataset, RatingsDataset}, Float32}}(-0.0038532708,0.0,0.0,1.0)]\n",
      "\u001b[32mProgress: 100%|███████████████████████████| Time: 0:01:46 ( 0.12  s/it)\u001b[39m\n",
      "\u001b[38;5;4m\u001b[1m[ \u001b[22m\u001b[39m\u001b[38;5;4m\u001b[1mDebug: \u001b[22m\u001b[39m20220225 16:34:24 loss: Dual{ForwardDiff.Tag{var\"#validation_mse#23\"{var\"#20#22\"{cf_params, Dict{String, typeof(get_abs_neighborhood)}, Int64, Matrix{Float32}}, RatingsDataset, RatingsDataset}, Float32}}(1.4473139,0.0032682756,-0.0009837152,0.3499579) β: Dual{ForwardDiff.Tag{var\"#validation_mse#23\"{var\"#20#22\"{cf_params, Dict{String, typeof(get_abs_neighborhood)}, Int64, Matrix{Float32}}, RatingsDataset, RatingsDataset}, Float32}}(0.92643684,0.3335753,-0.61617905,25.273506): λ ForwardDiff.Dual{ForwardDiff.Tag{var\"#validation_mse#23\"{var\"#20#22\"{cf_params, Dict{String, typeof(get_abs_neighborhood)}, Int64, Matrix{Float32}}, RatingsDataset, RatingsDataset}, Float32}, Float32, 3}[Dual{ForwardDiff.Tag{var\"#validation_mse#23\"{var\"#20#22\"{cf_params, Dict{String, typeof(get_abs_neighborhood)}, Int64, Matrix{Float32}}, RatingsDataset, RatingsDataset}, Float32}}(2.0932004,1.0,0.0,0.0), Dual{ForwardDiff.Tag{var\"#validation_mse#23\"{var\"#20#22\"{cf_params, Dict{String, typeof(get_abs_neighborhood)}, Int64, Matrix{Float32}}, RatingsDataset, RatingsDataset}, Float32}}(1.0360347,0.0,1.0,0.0), Dual{ForwardDiff.Tag{var\"#validation_mse#23\"{var\"#20#22\"{cf_params, Dict{String, typeof(get_abs_neighborhood)}, Int64, Matrix{Float32}}, RatingsDataset, RatingsDataset}, Float32}}(0.006513568,0.0,0.0,1.0)]\n",
      "\u001b[32mProgress: 100%|███████████████████████████| Time: 0:01:55 ( 0.14  s/it)\u001b[39m\n",
      "\u001b[38;5;4m\u001b[1m[ \u001b[22m\u001b[39m\u001b[38;5;4m\u001b[1mDebug: \u001b[22m\u001b[39m20220225 16:36:37 loss: Dual{ForwardDiff.Tag{var\"#validation_mse#23\"{var\"#20#22\"{cf_params, Dict{String, typeof(get_abs_neighborhood)}, Int64, Matrix{Float32}}, RatingsDataset, RatingsDataset}, Float32}}(1.4501978,-0.03083885,0.0012107512,-5.860156) β: Dual{ForwardDiff.Tag{var\"#validation_mse#23\"{var\"#20#22\"{cf_params, Dict{String, typeof(get_abs_neighborhood)}, Int64, Matrix{Float32}}, RatingsDataset, RatingsDataset}, Float32}}(0.770994,0.22453393,-0.52660716,73.21789): λ ForwardDiff.Dual{ForwardDiff.Tag{var\"#validation_mse#23\"{var\"#20#22\"{cf_params, Dict{String, typeof(get_abs_neighborhood)}, Int64, Matrix{Float32}}, RatingsDataset, RatingsDataset}, Float32}, Float32, 3}[Dual{ForwardDiff.Tag{var\"#validation_mse#23\"{var\"#20#22\"{cf_params, Dict{String, typeof(get_abs_neighborhood)}, Int64, Matrix{Float32}}, RatingsDataset, RatingsDataset}, Float32}}(2.266132,1.0,0.0,0.0), Dual{ForwardDiff.Tag{var\"#validation_mse#23\"{var\"#20#22\"{cf_params, Dict{String, typeof(get_abs_neighborhood)}, Int64, Matrix{Float32}}, RatingsDataset, RatingsDataset}, Float32}}(1.0362417,0.0,1.0,0.0), Dual{ForwardDiff.Tag{var\"#validation_mse#23\"{var\"#20#22\"{cf_params, Dict{String, typeof(get_abs_neighborhood)}, Int64, Matrix{Float32}}, RatingsDataset, RatingsDataset}, Float32}}(0.0013301484,0.0,0.0,1.0)]\n",
      "\u001b[32mProgress: 100%|███████████████████████████| Time: 0:01:53 ( 0.13  s/it)\u001b[39m\n",
      "\u001b[38;5;4m\u001b[1m[ \u001b[22m\u001b[39m\u001b[38;5;4m\u001b[1mDebug: \u001b[22m\u001b[39m20220225 16:38:48 loss: Dual{ForwardDiff.Tag{var\"#validation_mse#23\"{var\"#20#22\"{cf_params, Dict{String, typeof(get_abs_neighborhood)}, Int64, Matrix{Float32}}, RatingsDataset, RatingsDataset}, Float32}}(1.4472541,0.0028374286,-0.00095949636,0.33876625) β: Dual{ForwardDiff.Tag{var\"#validation_mse#23\"{var\"#20#22\"{cf_params, Dict{String, typeof(get_abs_neighborhood)}, Int64, Matrix{Float32}}, RatingsDataset, RatingsDataset}, Float32}}(0.92285156,0.3303309,-0.61400706,25.967548): λ ForwardDiff.Dual{ForwardDiff.Tag{var\"#validation_mse#23\"{var\"#20#22\"{cf_params, Dict{String, typeof(get_abs_neighborhood)}, Int64, Matrix{Float32}}, RatingsDataset, RatingsDataset}, Float32}, Float32, 3}[Dual{ForwardDiff.Tag{var\"#validation_mse#23\"{var\"#20#22\"{cf_params, Dict{String, typeof(get_abs_neighborhood)}, Int64, Matrix{Float32}}, RatingsDataset, RatingsDataset}, Float32}}(2.1014156,1.0,0.0,0.0), Dual{ForwardDiff.Tag{var\"#validation_mse#23\"{var\"#20#22\"{cf_params, Dict{String, typeof(get_abs_neighborhood)}, Int64, Matrix{Float32}}, RatingsDataset, RatingsDataset}, Float32}}(1.0360445,0.0,1.0,0.0), Dual{ForwardDiff.Tag{var\"#validation_mse#23\"{var\"#20#22\"{cf_params, Dict{String, typeof(get_abs_neighborhood)}, Int64, Matrix{Float32}}, RatingsDataset, RatingsDataset}, Float32}}(0.00626733,0.0,0.0,1.0)]\n",
      "\u001b[32mProgress: 100%|███████████████████████████| Time: 0:01:33 ( 0.11  s/it)\u001b[39m\n",
      "\u001b[38;5;4m\u001b[1m[ \u001b[22m\u001b[39m\u001b[38;5;4m\u001b[1mDebug: \u001b[22m\u001b[39m20220225 16:40:40 loss: Dual{ForwardDiff.Tag{var\"#validation_mse#23\"{var\"#20#22\"{cf_params, Dict{String, typeof(get_abs_neighborhood)}, Int64, Matrix{Float32}}, RatingsDataset, RatingsDataset}, Float32}}(1.4468023,-0.00644894,-0.0004940021,-0.22898014) β: Dual{ForwardDiff.Tag{var\"#validation_mse#23\"{var\"#20#22\"{cf_params, Dict{String, typeof(get_abs_neighborhood)}, Int64, Matrix{Float32}}, RatingsDataset, RatingsDataset}, Float32}}(0.87291545,0.2930954,-0.58461636,36.719128): λ ForwardDiff.Dual{ForwardDiff.Tag{var\"#validation_mse#23\"{var\"#20#22\"{cf_params, Dict{String, typeof(get_abs_neighborhood)}, Int64, Matrix{Float32}}, RatingsDataset, RatingsDataset}, Float32}, Float32, 3}[Dual{ForwardDiff.Tag{var\"#validation_mse#23\"{var\"#20#22\"{cf_params, Dict{String, typeof(get_abs_neighborhood)}, Int64, Matrix{Float32}}, RatingsDataset, RatingsDataset}, Float32}}(2.183774,1.0,0.0,0.0), Dual{ForwardDiff.Tag{var\"#validation_mse#23\"{var\"#20#22\"{cf_params, Dict{String, typeof(get_abs_neighborhood)}, Int64, Matrix{Float32}}, RatingsDataset, RatingsDataset}, Float32}}(1.0361431,0.0,1.0,0.0), Dual{ForwardDiff.Tag{var\"#validation_mse#23\"{var\"#20#22\"{cf_params, Dict{String, typeof(get_abs_neighborhood)}, Int64, Matrix{Float32}}, RatingsDataset, RatingsDataset}, Float32}}(0.0037987393,0.0,0.0,1.0)]\n",
      "\u001b[32mProgress: 100%|███████████████████████████| Time: 0:01:55 ( 0.13  s/it)\u001b[39m\n",
      "\u001b[38;5;4m\u001b[1m[ \u001b[22m\u001b[39m\u001b[38;5;4m\u001b[1mDebug: \u001b[22m\u001b[39m20220225 16:42:51 loss: Dual{ForwardDiff.Tag{var\"#validation_mse#23\"{var\"#20#22\"{cf_params, Dict{String, typeof(get_abs_neighborhood)}, Int64, Matrix{Float32}}, RatingsDataset, RatingsDataset}, Float32}}(1.4468032,-0.005660559,-0.0005341878,-0.15956967) β: Dual{ForwardDiff.Tag{var\"#validation_mse#23\"{var\"#20#22\"{cf_params, Dict{String, typeof(get_abs_neighborhood)}, Int64, Matrix{Float32}}, RatingsDataset, RatingsDataset}, Float32}}(0.8764141,0.29541254,-0.5866397,35.87018): λ ForwardDiff.Dual{ForwardDiff.Tag{var\"#validation_mse#23\"{var\"#20#22\"{cf_params, Dict{String, typeof(get_abs_neighborhood)}, Int64, Matrix{Float32}}, RatingsDataset, RatingsDataset}, Float32}, Float32, 3}[Dual{ForwardDiff.Tag{var\"#validation_mse#23\"{var\"#20#22\"{cf_params, Dict{String, typeof(get_abs_neighborhood)}, Int64, Matrix{Float32}}, RatingsDataset, RatingsDataset}, Float32}}(2.1793654,1.0,0.0,0.0), Dual{ForwardDiff.Tag{var\"#validation_mse#23\"{var\"#20#22\"{cf_params, Dict{String, typeof(get_abs_neighborhood)}, Int64, Matrix{Float32}}, RatingsDataset, RatingsDataset}, Float32}}(1.0361378,0.0,1.0,0.0), Dual{ForwardDiff.Tag{var\"#validation_mse#23\"{var\"#20#22\"{cf_params, Dict{String, typeof(get_abs_neighborhood)}, Int64, Matrix{Float32}}, RatingsDataset, RatingsDataset}, Float32}}(0.0039308807,0.0,0.0,1.0)]\n"
     ]
    },
    {
     "name": "stdout",
     "output_type": "stream",
     "text": [
      "    21     1.446803e+00     1.595697e-01\n",
      " * Current step size: 0.06576269\n",
      " * time: 9598.028109073639\n",
      " * g(x): Float32[-0.005660559, -0.0005341878, -0.15956967]\n",
      " * x: Float32[2.1793654, 1.0361378, 0.0039308807]\n"
     ]
    },
    {
     "name": "stderr",
     "output_type": "stream",
     "text": [
      "\u001b[32mProgress:   6%|█▋                         |  ETA: 0:00:53 (65.55 ms/it)\u001b[39mIOPub message rate exceeded.\n",
      "The Jupyter server will temporarily stop sending output\n",
      "to the client in order to avoid crashing it.\n",
      "To change this limit, set the config variable\n",
      "`--ServerApp.iopub_msg_rate_limit`.\n",
      "\n",
      "Current values:\n",
      "ServerApp.iopub_msg_rate_limit=1000.0 (msgs/sec)\n",
      "ServerApp.rate_limit_window=3.0 (secs)\n",
      "\n"
     ]
    }
   ],
   "source": [
    "for param in item_cf_params\n",
    "    optimize_model(param)\n",
    "end"
   ]
  }
 ],
 "metadata": {
  "kernelspec": {
   "display_name": "Julia 1.6.3",
   "language": "julia",
   "name": "julia-1.6"
  },
  "language_info": {
   "file_extension": ".jl",
   "mimetype": "application/julia",
   "name": "julia",
   "version": "1.6.3"
  }
 },
 "nbformat": 4,
 "nbformat_minor": 5
}
