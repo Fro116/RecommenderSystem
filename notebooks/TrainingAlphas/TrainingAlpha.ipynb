{
 "cells": [
  {
   "cell_type": "code",
   "execution_count": null,
   "id": "4a834bff-f318-480d-82ef-43a79d6c0064",
   "metadata": {
    "editable": true,
    "slideshow": {
     "slide_type": ""
    },
    "tags": []
   },
   "outputs": [],
   "source": [
    "import NBInclude: @nbinclude\n",
    "@nbinclude(\"Alpha.ipynb\");"
   ]
  },
  {
   "cell_type": "code",
   "execution_count": null,
   "id": "bd1dc406-d8af-4e80-809a-d297a9c548e4",
   "metadata": {},
   "outputs": [],
   "source": [
    "import LinearAlgebra\n",
    "import NNlib: softmax\n",
    "import Optim\n",
    "import ProgressMeter: @showprogress, next!\n",
    "import Random\n",
    "import SHA\n",
    "import StatsBase"
   ]
  },
  {
   "cell_type": "code",
   "execution_count": null,
   "id": "c3d28a51-d479-4318-9ca8-19c03ba4602f",
   "metadata": {},
   "outputs": [],
   "source": [
    "# # Prefer Julia multithreading to BLAS multithreading\n",
    "# LinearAlgebra.BLAS.set_num_threads(1);"
   ]
  },
  {
   "cell_type": "markdown",
   "id": "2c781c56-357f-4fb6-865a-f6e3a2d4fcf9",
   "metadata": {},
   "source": [
    "## Splits"
   ]
  },
  {
   "cell_type": "code",
   "execution_count": null,
   "id": "5637eb0a-a9b1-4b4a-ba89-28bb817b8d90",
   "metadata": {},
   "outputs": [],
   "source": [
    "function seed_rng!(salt::String)\n",
    "    init = first(read_csv(get_data_path(\"rng.csv\")).seed)\n",
    "    seed = first(reinterpret(UInt64, SHA.sha256(init * salt)))\n",
    "    Random.seed!(seed)\n",
    "end;"
   ]
  },
  {
   "cell_type": "code",
   "execution_count": null,
   "id": "707a1881-0d09-4288-9e42-656789955df1",
   "metadata": {},
   "outputs": [],
   "source": [
    "function input_output_split(\n",
    "    df::RatingsDataset,\n",
    "    ts_cutoff::Float64,\n",
    "    max_output_items::Int,\n",
    "    output_newest::Bool,\n",
    ")\n",
    "    N = maximum([length(getfield(df, x)) for x in fieldnames(typeof(df))])\n",
    "    for x in [:userid, :medium, :updated_at, :update_order]\n",
    "        @assert length(getfield(df, x)) == N\n",
    "    end\n",
    "\n",
    "    userid = nothing\n",
    "    num_output = [0 for _ in ALL_MEDIUMS]\n",
    "    input_mask = BitArray([false for _ = 1:length(df.userid)])\n",
    "    output_mask = BitArray([false for _ = 1:length(df.userid)])\n",
    "    order = sortperm(collect(zip(df.userid, df.updated_at, df.update_order)))\n",
    "    if output_newest\n",
    "        order = reverse(order)\n",
    "    end\n",
    "    @showprogress for i in order\n",
    "        if userid != df.userid[i]\n",
    "            userid = df.userid[i]\n",
    "            num_output .= 0\n",
    "        end\n",
    "        if (df.updated_at[i] > ts_cutoff) && (num_output[df.medium[i]+1] < max_output_items)\n",
    "            num_output[df.medium[i]+1] += 1\n",
    "            output_mask[i] = true\n",
    "        end\n",
    "        if output_newest\n",
    "            input_mask[i] = !output_mask[i]\n",
    "        else\n",
    "            input_mask[i] = df.updated_at[i] <= ts_cutoff\n",
    "        end\n",
    "    end\n",
    "    subset(df, input_mask), subset(df, output_mask)\n",
    "end;"
   ]
  },
  {
   "cell_type": "markdown",
   "id": "e2af1adc-5383-4c33-9043-17325c543ac9",
   "metadata": {},
   "source": [
    "## Loss functions"
   ]
  },
  {
   "cell_type": "code",
   "execution_count": null,
   "id": "ea33e3e7-ba24-4f51-937a-2469c71b9c22",
   "metadata": {},
   "outputs": [],
   "source": [
    "function loss(x, y, w, metric)\n",
    "    safelog(x) = log(x .+ Float32(eps(Float64))) # so that log(0) doesn't NaN\n",
    "    if metric == \"rating\"\n",
    "        lossfn = (x, y) -> (x - y) .^ 2\n",
    "    elseif metric in [\"watch\", \"plantowatch\"]\n",
    "        lossfn = (x, y) -> -y .* safelog.(x)\n",
    "    elseif metric == \"drop\"\n",
    "        lossfn = (x, y) -> -(y .* safelog.(x) + (1 .- y) .* safelog.(1 .- x))\n",
    "    else\n",
    "        @assert false\n",
    "    end\n",
    "    sum(lossfn(x, y) .* w) / sum(w)\n",
    "end;"
   ]
  },
  {
   "cell_type": "code",
   "execution_count": null,
   "id": "ef4e10c3-a442-471d-85f8-2632077b73f7",
   "metadata": {},
   "outputs": [],
   "source": [
    "# find β s.t. loss(X * β, y, w) is minimized\n",
    "function regress(X, y, w, metric)\n",
    "    if metric == \"rating\"\n",
    "        Xw = (X .* sqrt.(w))\n",
    "        yw = (y .* sqrt.(w))\n",
    "        # prevent singular matrix\n",
    "        λ = eps(Float32) * LinearAlgebra.I(size(Xw)[2])\n",
    "        return (Xw'Xw + λ) \\ Xw'yw\n",
    "    elseif metric in [\"watch\", \"plantowatch\", \"drop\"]\n",
    "        return softmax(\n",
    "            Optim.minimizer(\n",
    "                Optim.optimize(\n",
    "                    β -> loss(X * softmax(β), y, w, metric),\n",
    "                    fill(0.0f0, size(X)[2]),\n",
    "                    Optim.LBFGS(),\n",
    "                    autodiff = :forward,\n",
    "                    Optim.Options(g_tol = 1e-6, iterations = 100),\n",
    "                ),\n",
    "            ),\n",
    "        )\n",
    "    else\n",
    "        @assert false\n",
    "    end\n",
    "end;"
   ]
  },
  {
   "cell_type": "code",
   "execution_count": null,
   "id": "fc373b82-92dd-40ce-8dbb-4d2f68e2563f",
   "metadata": {
    "editable": true,
    "slideshow": {
     "slide_type": ""
    },
    "tags": []
   },
   "outputs": [],
   "source": [
    "function get_features(\n",
    "    dataset::String,\n",
    "    medium::String,\n",
    "    metric::String,\n",
    "    alphas::Vector{String},\n",
    ")\n",
    "    split = \"test_output\"\n",
    "    df = as_metric(\n",
    "        get_split(dataset, split, medium, [:userid, :itemid, :rating, :status]),\n",
    "        metric,\n",
    "    )\n",
    "    y = df.metric\n",
    "    counts = StatsBase.countmap(df.userid)\n",
    "    w = Float32[1 / counts[x] for x in df.userid]\n",
    "\n",
    "    inputs = [read_alpha(dataset, df.userid, df.itemid, x) for x in alphas]\n",
    "    if metric in [\"watch\", \"plantowatch\"]\n",
    "        push!(inputs, fill(1.0f0 / num_items(medium), length(y)))\n",
    "    elseif metric == \"drop\"\n",
    "        push!(inputs, fill(1.0f0, length(y)))\n",
    "        push!(inputs, fill(0.0f0, length(y)))\n",
    "    end\n",
    "    X = hcat(inputs...)\n",
    "    X, y, w\n",
    "end;"
   ]
  },
  {
   "cell_type": "code",
   "execution_count": null,
   "id": "f28a2223-0648-47ad-a8fd-a4b4d2a3697f",
   "metadata": {
    "editable": true,
    "slideshow": {
     "slide_type": ""
    },
    "tags": []
   },
   "outputs": [],
   "source": [
    "function print_losses(medium::String, metric::String, alphas::Vector{String})\n",
    "    β = regress(get_features(\"streaming\", medium, metric, alphas)..., metric)\n",
    "    for dataset in ALL_DATASETS\n",
    "        X, y, w = get_features(dataset, medium, metric, alphas)\n",
    "        val = loss(X * β, y, w, metric)\n",
    "        @info \"$dataset $medium $metric loss = $val\"\n",
    "    end\n",
    "end;"
   ]
  }
 ],
 "metadata": {
  "kernelspec": {
   "display_name": "Julia 1.10.2",
   "language": "julia",
   "name": "julia-1.10"
  },
  "language_info": {
   "file_extension": ".jl",
   "mimetype": "application/julia",
   "name": "julia",
   "version": "1.10.2"
  }
 },
 "nbformat": 4,
 "nbformat_minor": 5
}
