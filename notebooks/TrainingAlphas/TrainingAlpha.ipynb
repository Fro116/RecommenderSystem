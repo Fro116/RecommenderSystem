{
 "cells": [
  {
   "cell_type": "code",
   "execution_count": null,
   "id": "4a834bff-f318-480d-82ef-43a79d6c0064",
   "metadata": {
    "editable": true,
    "slideshow": {
     "slide_type": ""
    },
    "tags": []
   },
   "outputs": [],
   "source": [
    "import NBInclude: @nbinclude\n",
    "@nbinclude(\"Alpha.ipynb\");"
   ]
  },
  {
   "cell_type": "code",
   "execution_count": null,
   "id": "bd1dc406-d8af-4e80-809a-d297a9c548e4",
   "metadata": {},
   "outputs": [],
   "source": [
    "# import Dates\n",
    "# import JupyterFormatter\n",
    "import LinearAlgebra\n",
    "# import Logging\n",
    "# import LoggingExtras\n",
    "import NNlib: softmax\n",
    "import Optim\n",
    "# import ProgressMeter\n",
    "# import ProgressMeter: @showprogress\n",
    "import StatsBase"
   ]
  },
  {
   "cell_type": "markdown",
   "id": "2e5dcd0d-8480-43ae-a7bd-6ede3a84fea1",
   "metadata": {},
   "source": [
    "## Multi-threading"
   ]
  },
  {
   "cell_type": "code",
   "execution_count": null,
   "id": "c3d28a51-d479-4318-9ca8-19c03ba4602f",
   "metadata": {},
   "outputs": [],
   "source": [
    "# # Prefer Julia multithreading to BLAS multithreading\n",
    "# LinearAlgebra.BLAS.set_num_threads(1);"
   ]
  },
  {
   "cell_type": "code",
   "execution_count": null,
   "id": "451732b0-579b-406b-b691-64ea31af5b6a",
   "metadata": {
    "tags": []
   },
   "outputs": [],
   "source": [
    "# # let the @progress macro work with Threads.@threads\n",
    "# macro tprogress(expr)\n",
    "#     loop = expr\n",
    "#     if loop.head == :macrocall && loop.args[1] == :(Threads.var\"@threads\")\n",
    "#         loop = loop.args[end]\n",
    "#     end\n",
    "    \n",
    "#     p = gensym()    \n",
    "#     r = loop.args[1].args[end]\n",
    "#     ex = quote\n",
    "#         n = Int(round(length($(esc(r))) / Threads.nthreads()))\n",
    "#         global $p = ProgressMeter.Progress(n; showspeed=true)\n",
    "#         $(esc(expr))\n",
    "#         ProgressMeter.finish!($p)\n",
    "#     end\n",
    "    \n",
    "#     update = quote\n",
    "#         if Threads.threadid() == 1\n",
    "#             ProgressMeter.next!($p)\n",
    "#         end\n",
    "#     end\n",
    "#     push!(loop.args[end].args, update)    \n",
    "    \n",
    "#     ex    \n",
    "# end;"
   ]
  },
  {
   "cell_type": "code",
   "execution_count": null,
   "id": "99680d99-26f3-4ffd-98e0-33ed05467317",
   "metadata": {},
   "outputs": [],
   "source": [
    "# # like Threads.@threads except we can specify the number of threads\n",
    "# function tforeach(f::Function, args, threads::Int)\n",
    "#     @sync for (t, chunk) in Iterators.enumerate(\n",
    "#         Iterators.partition(args, div(length(args), threads, RoundUp)),\n",
    "#     )\n",
    "#         Threads.@spawn begin\n",
    "#             @showprogress enabled = (t == 1) for i in chunk\n",
    "#                 f(i)\n",
    "#             end\n",
    "#         end\n",
    "#     end\n",
    "# end;"
   ]
  },
  {
   "cell_type": "markdown",
   "id": "42f0916c-315e-4d02-8bc2-904d240d0017",
   "metadata": {},
   "source": [
    "## Formatting"
   ]
  },
  {
   "cell_type": "code",
   "execution_count": null,
   "id": "6b2fa1e1-4486-4a97-bea5-4a650c139bb2",
   "metadata": {},
   "outputs": [],
   "source": [
    "# JupyterFormatter.enable_autoformat();"
   ]
  },
  {
   "cell_type": "markdown",
   "id": "c0bee6a0-7f3d-49ac-98e8-0d9f43d16b61",
   "metadata": {
    "tags": []
   },
   "source": [
    "## Logging"
   ]
  },
  {
   "cell_type": "code",
   "execution_count": null,
   "id": "e47aa559-0120-4c52-9264-3594b2301a9c",
   "metadata": {},
   "outputs": [],
   "source": [
    "# Logging.disable_logging(Logging.Debug);"
   ]
  },
  {
   "cell_type": "code",
   "execution_count": null,
   "id": "a1f21633-9626-487c-983f-fa5528fd23fe",
   "metadata": {},
   "outputs": [],
   "source": [
    "# # Logger that flushes after every log statement\n",
    "# struct FlushLogger <: LoggingExtras.AbstractLogger\n",
    "#     logger::LoggingExtras.ConsoleLogger\n",
    "# end\n",
    "\n",
    "# function FlushLogger(logger::LoggingExtras.AbstractLogger)\n",
    "#     FlushLogger(logger)\n",
    "# end\n",
    "\n",
    "# function Logging.handle_message(logger::FlushLogger, args...; kwargs...)\n",
    "#     Logging.handle_message(logger.logger, args...; kwargs...)\n",
    "#     flush(logger.logger.stream)\n",
    "# end\n",
    "\n",
    "# Logging.shouldlog(logger::FlushLogger, arg...) = Logging.shouldlog(logger.logger, arg...)\n",
    "# Logging.min_enabled_level(logger::FlushLogger) = Logging.min_enabled_level(logger.logger)\n",
    "# Logging.catch_exceptions(logger::FlushLogger) = Logging.catch_exceptions(logger.logger)\n",
    "\n",
    "# function logging_meta_formatter(level, _module, group, id, file, line)\n",
    "#     prefix_color = (\n",
    "#         level < Logging.Info ? 4 : level < Logging.Warn ? 6 : level < Logging.Error ? 3 : 1\n",
    "#     )\n",
    "#     prefix = (level == Logging.Warn ? \"Warning\" : string(level)) * ':'\n",
    "#     prefix_color, prefix, \"\"\n",
    "# end;"
   ]
  },
  {
   "cell_type": "code",
   "execution_count": null,
   "id": "e90b1518-600d-45a1-9a2d-09b0f768e2b7",
   "metadata": {},
   "outputs": [],
   "source": [
    "# # Log to file and stdout at the same time\n",
    "# function redirect_logging(outdir; overwrite = true)\n",
    "#     date_format = \"yyyymmdd HH:MM:SS\"\n",
    "#     timestamp_logger(logger) =\n",
    "#         LoggingExtras.TransformerLogger(logger) do log\n",
    "#             merge(\n",
    "#                 log,\n",
    "#                 (; message = \"$(Dates.format(Dates.now(), date_format)) $(log.message)\"),\n",
    "#             )\n",
    "#         end\n",
    "\n",
    "#     outdir = mkpath(outdir)\n",
    "#     suffix = \"\"\n",
    "#     if !overwrite\n",
    "#         tries = 0\n",
    "#         while ispath(\"$(outdir)/log$(suffix)\")\n",
    "#             tries += 1\n",
    "#             suffix = \".$tries\"\n",
    "#         end\n",
    "#     end\n",
    "#     Logging.global_logger(\n",
    "#         LoggingExtras.TeeLogger(\n",
    "#             FlushLogger(\n",
    "#                 LoggingExtras.ConsoleLogger(\n",
    "#                     stderr,\n",
    "#                     Logging.Info;\n",
    "#                     meta_formatter = logging_meta_formatter,\n",
    "#                 ),\n",
    "#             ) |> timestamp_logger,\n",
    "#             FlushLogger(\n",
    "#                 LoggingExtras.ConsoleLogger(\n",
    "#                     open(\"$(outdir)/log$(suffix)\", write = true),\n",
    "#                     Logging.Info;\n",
    "#                     meta_formatter = logging_meta_formatter,\n",
    "#                 ),\n",
    "#             ) |> timestamp_logger,\n",
    "#         ),\n",
    "#     )\n",
    "# end;"
   ]
  },
  {
   "cell_type": "code",
   "execution_count": null,
   "id": "94fef655-3bf2-494b-870c-96e1b027335e",
   "metadata": {},
   "outputs": [],
   "source": [
    "# function set_logging_outdir(name)\n",
    "#     redirect_logging(get_data_path(\"alphas/$name\"); overwrite = false)\n",
    "# end;"
   ]
  },
  {
   "cell_type": "markdown",
   "id": "a460e15f-09bc-4d69-8161-624dd8873f20",
   "metadata": {},
   "source": [
    "## Settings"
   ]
  },
  {
   "cell_type": "code",
   "execution_count": null,
   "id": "366db858-465a-448c-bf49-d9e6b0700139",
   "metadata": {},
   "outputs": [],
   "source": [
    "# @memoize function get_settings()\n",
    "#     settings = Dict()\n",
    "#     for f in [\"default_settings\", \"private_settings\"]\n",
    "#         d = YAML.load_file(get_data_path(\"../environment/$f.yml\"))\n",
    "#         for (k, v) in d\n",
    "#             settings[k] = v\n",
    "#         end\n",
    "#     end\n",
    "#     settings\n",
    "# end;"
   ]
  },
  {
   "cell_type": "code",
   "execution_count": null,
   "id": "f1c4ed77-8dc5-458a-93fa-462d73056bb0",
   "metadata": {},
   "outputs": [],
   "source": [
    "# function training_test_split(df::RatingsDataset)\n",
    "#     c = get_settings()\n",
    "#     if c[\"mode\"] == \"research\"\n",
    "#         ts_cutoff = days_in_timestamp_units(c[\"cutoff_days\"] * 2)\n",
    "#     else\n",
    "#         ts_cutoff = days_in_timestamp_units(c[\"cutoff_days\"])\n",
    "#     end\n",
    "#     test_mask =\n",
    "#         (df.update_order .<= c[\"cutoff_interactions\"]) .&& (df.updated_at .>= 1 - ts_cutoff)\n",
    "#     filter(df, .!(test_mask)), filter(df, test_mask)\n",
    "# end;"
   ]
  },
  {
   "cell_type": "markdown",
   "id": "e2af1adc-5383-4c33-9043-17325c543ac9",
   "metadata": {},
   "source": [
    "## Loss functions"
   ]
  },
  {
   "cell_type": "code",
   "execution_count": null,
   "id": "ea33e3e7-ba24-4f51-937a-2469c71b9c22",
   "metadata": {},
   "outputs": [],
   "source": [
    "function loss(x, y, w, metric)\n",
    "    safelog(x) = log(x .+ Float32(eps(Float64))) # so that log(0) doesn't NaN\n",
    "    if metric == \"rating\"\n",
    "        lossfn = (x, y) -> (x - y) .^ 2\n",
    "    elseif metric in [\"watch\", \"plantowatch\"]\n",
    "        lossfn = (x, y) -> -y .* safelog.(x)\n",
    "    elseif metric == \"drop\"\n",
    "        lossfn = (x, y) -> -(y .* safelog.(x) + (1 .- y) .* safelog.(1 .- x))\n",
    "    else\n",
    "        @assert false\n",
    "    end\n",
    "    sum(lossfn(x, y) .* w) / sum(w)\n",
    "end;"
   ]
  },
  {
   "cell_type": "code",
   "execution_count": null,
   "id": "ef4e10c3-a442-471d-85f8-2632077b73f7",
   "metadata": {},
   "outputs": [],
   "source": [
    "# find β s.t. loss(X * β, y, w) is minimized\n",
    "function regress(X, y, w, metric)\n",
    "    if metric == \"rating\"\n",
    "        Xw = (X .* sqrt.(w))\n",
    "        yw = (y .* sqrt.(w))\n",
    "        # prevent singular matrix\n",
    "        λ = eps(Float32) * LinearAlgebra.I(size(Xw)[2])\n",
    "        return (Xw'Xw + λ) \\ Xw'yw\n",
    "    elseif metric in [\"watch\", \"plantowatch\", \"drop\"]\n",
    "        return softmax(\n",
    "            Optim.minimizer(\n",
    "                Optim.optimize(\n",
    "                    β -> loss(X * softmax(β), y, w, metric),\n",
    "                    fill(0.0f0, size(X)[2]),\n",
    "                    Optim.LBFGS(),\n",
    "                    autodiff = :forward,\n",
    "                    Optim.Options(g_tol = 1e-6, iterations = 100),\n",
    "                ),\n",
    "            ),\n",
    "        )\n",
    "    else\n",
    "        @assert false\n",
    "    end\n",
    "end;"
   ]
  },
  {
   "cell_type": "code",
   "execution_count": null,
   "id": "fc373b82-92dd-40ce-8dbb-4d2f68e2563f",
   "metadata": {
    "editable": true,
    "slideshow": {
     "slide_type": ""
    },
    "tags": []
   },
   "outputs": [],
   "source": [
    "function get_features(\n",
    "    dataset::String,\n",
    "    medium::String,\n",
    "    metric::String,\n",
    "    alphas::Vector{String},\n",
    ")\n",
    "    split = \"test_output\"\n",
    "    df = as_metric(\n",
    "        get_split(dataset, split, medium, [:userid, :itemid, :rating, :status]),\n",
    "        metric,\n",
    "    )\n",
    "    y = df.metric\n",
    "    counts = StatsBase.countmap(df.userid)\n",
    "    w = Float32[1 / counts[x] for x in df.userid]\n",
    "\n",
    "    inputs = [read_alpha(dataset, df.userid, df.itemid, x) for x in alphas]\n",
    "    if metric in [\"watch\", \"plantowatch\"]\n",
    "        push!(inputs, fill(1.0f0 / num_items(medium), length(y)))\n",
    "    elseif metric == \"drop\"\n",
    "        push!(inputs, fill(1.0f0, length(y)))\n",
    "        push!(inputs, fill(0.0f0, length(y)))\n",
    "    end\n",
    "    X = hcat(inputs...)\n",
    "    X, y, w\n",
    "end;"
   ]
  },
  {
   "cell_type": "code",
   "execution_count": null,
   "id": "f28a2223-0648-47ad-a8fd-a4b4d2a3697f",
   "metadata": {
    "editable": true,
    "slideshow": {
     "slide_type": ""
    },
    "tags": []
   },
   "outputs": [],
   "source": [
    "function print_losses(medium::String, metric::String, alphas::Vector{String})\n",
    "    β = regress(get_features(\"streaming\", medium, metric, alphas)..., metric)\n",
    "    for dataset in ALL_DATASETS\n",
    "        X, y, w = get_features(dataset, medium, metric, alphas)\n",
    "        val = loss(X * β, y, w, metric)\n",
    "        @info \"$dataset $medium $metric loss = $val\"\n",
    "    end\n",
    "end;"
   ]
  }
 ],
 "metadata": {
  "kernelspec": {
   "display_name": "Julia 1.10.2",
   "language": "julia",
   "name": "julia-1.10"
  },
  "language_info": {
   "file_extension": ".jl",
   "mimetype": "application/julia",
   "name": "julia",
   "version": "1.10.2"
  }
 },
 "nbformat": 4,
 "nbformat_minor": 5
}
