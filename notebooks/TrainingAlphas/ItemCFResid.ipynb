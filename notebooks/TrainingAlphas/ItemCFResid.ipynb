{
 "cells": [
  {
   "cell_type": "markdown",
   "id": "c3758ece-9b72-47b4-ae6a-aa364e0443e3",
   "metadata": {},
   "source": [
    "# Item Collaborative Filtering on Residuals\n",
    "* See `ItemCollaborativeFilteringBase.ipynb` for algorithm details\n",
    "* The weights here are the cosine correlation between the two items\n",
    "* This alpha is trained on the residuals of all previous alphas"
   ]
  },
  {
   "cell_type": "code",
   "execution_count": 1,
   "id": "7cc9334a-2287-41d6-885b-a5cca94fe263",
   "metadata": {},
   "outputs": [],
   "source": [
    "name = \"ItemCFResid\";"
   ]
  },
  {
   "cell_type": "code",
   "execution_count": 2,
   "id": "d17593ac-3260-4c01-a5df-91edfcd17e13",
   "metadata": {},
   "outputs": [],
   "source": [
    "using NBInclude\n",
    "@nbinclude(\"ItemCFBase.ipynb\");"
   ]
  },
  {
   "cell_type": "markdown",
   "id": "bff8e524-e8f8-48bd-9ca7-c28a05a122b8",
   "metadata": {},
   "source": [
    "## Compute cosine correlations"
   ]
  },
  {
   "cell_type": "code",
   "execution_count": 3,
   "id": "c9572dd9-db8e-4b1c-83ca-cacc666325f9",
   "metadata": {},
   "outputs": [],
   "source": [
    "function get_correlation_matrix_outdir(residual_alphas)\n",
    "    # if the matrix is already stored on disk, return its filepath\n",
    "    # otherwise, regenerate the matrix and store it to disk\n",
    "    outdir = \"$name/$(hash(residual_alphas))\"\n",
    "    if ispath(\"../../data/alphas/$outdir\")\n",
    "        return outdir\n",
    "    end\n",
    "\n",
    "    @debug \"generating similarity matrix for $residual_alphas\"\n",
    "    training = get_residuals(\"training\", residual_alphas)\n",
    "    R = sparse(\n",
    "        training.user,\n",
    "        training.item,\n",
    "        training.rating,\n",
    "        maximum(training.user),\n",
    "        maximum(training.item),\n",
    "    )\n",
    "    S = zeros(maximum(training.item), maximum(training.item))\n",
    "\n",
    "    norms = map(norm, eachslice(R, dims = 2))\n",
    "    norms[norms.==0] .= 1 # prevent division by 0\n",
    "    @tprogress Threads.@threads for i = 1:size(S)[1]\n",
    "        S[:, i] = vec(R[:, i]' * R) ./ norms ./ norms[i]\n",
    "    end\n",
    "\n",
    "    S = convert.(Float32, S)        \n",
    "    write_params(Dict(\"S\" => S), outdir = outdir)\n",
    "    outdir\n",
    "end;"
   ]
  },
  {
   "cell_type": "markdown",
   "id": "85910c72-6e77-4dbd-8991-6ad3b81035a7",
   "metadata": {},
   "source": [
    "## Setup hyperparameters"
   ]
  },
  {
   "cell_type": "code",
   "execution_count": 4,
   "id": "0c00b2aa-a40c-4374-9631-9918f0f55968",
   "metadata": {},
   "outputs": [],
   "source": [
    "downcast_to_int(x) = isinteger(x) ? Int(x) : x\n",
    "item_alphas = [\"ItemCF.$K\" for K in downcast_to_int.([2^4, 2^6, 2^8, 2^10])]\n",
    "alphas = [\"UserItemBiases\"; item_alphas]\n",
    "item_cf_params = [[\n",
    "        cf_params(\n",
    "            name = \"ItemCFResid.$K\",\n",
    "            training_residuals = alphas,\n",
    "            validation_residuals = alphas,\n",
    "            neighborhood_type = \"abs\",\n",
    "            S = get_correlation_matrix_outdir(alphas),\n",
    "            K = K,\n",
    "            λ = rand(3),\n",
    "        ) for K in downcast_to_int.([2^10, 2^4, 2^6, 2^8])\n",
    "    ];\n",
    "];"
   ]
  },
  {
   "cell_type": "markdown",
   "id": "73d6710c-a42a-443d-8616-f1441be67eee",
   "metadata": {},
   "source": [
    "## Train models"
   ]
  },
  {
   "cell_type": "code",
   "execution_count": null,
   "id": "1842d509-9377-4b28-9fe9-9212da6183d1",
   "metadata": {
    "tags": []
   },
   "outputs": [
    {
     "name": "stderr",
     "output_type": "stream",
     "text": [
      "\u001b[32mProgress: 100%|███████████████████████████| Time: 0:11:27 ( 0.69  s/it)\u001b[39m\n",
      "\u001b[38;5;4m\u001b[1m[ \u001b[22m\u001b[39m\u001b[38;5;4m\u001b[1mDebug: \u001b[22m\u001b[39m20220101 23:44:30 loss: Dual{ForwardDiff.Tag{var\"#validation_mse#17\"{var\"#14#16\"{cf_params, Dict{String, typeof(get_abs_neighborhood)}, Int64, Matrix{Float64}}, RatingsDataset, RatingsDataset}, Float64}}(1.254687068296818,-0.004682033291061444,-0.014777159555176477,-0.004079955939055466) β: Dual{ForwardDiff.Tag{var\"#validation_mse#17\"{var\"#14#16\"{cf_params, Dict{String, typeof(get_abs_neighborhood)}, Int64, Matrix{Float64}}, RatingsDataset, RatingsDataset}, Float64}}(0.7188712354880293,0.5745975276031845,0.4628593106188109,0.3681593499690388): λ ForwardDiff.Dual{ForwardDiff.Tag{var\"#validation_mse#17\"{var\"#14#16\"{cf_params, Dict{String, typeof(get_abs_neighborhood)}, Int64, Matrix{Float64}}, RatingsDataset, RatingsDataset}, Float64}, Float64, 3}[Dual{ForwardDiff.Tag{var\"#validation_mse#17\"{var\"#14#16\"{cf_params, Dict{String, typeof(get_abs_neighborhood)}, Int64, Matrix{Float64}}, RatingsDataset, RatingsDataset}, Float64}}(0.3972347982344473,1.0,0.0,0.0), Dual{ForwardDiff.Tag{var\"#validation_mse#17\"{var\"#14#16\"{cf_params, Dict{String, typeof(get_abs_neighborhood)}, Int64, Matrix{Float64}}, RatingsDataset, RatingsDataset}, Float64}}(0.24134141645399687,0.0,1.0,0.0), Dual{ForwardDiff.Tag{var\"#validation_mse#17\"{var\"#14#16\"{cf_params, Dict{String, typeof(get_abs_neighborhood)}, Int64, Matrix{Float64}}, RatingsDataset, RatingsDataset}, Float64}}(0.5477712521986617,0.0,0.0,1.0)]\n"
     ]
    },
    {
     "name": "stdout",
     "output_type": "stream",
     "text": [
      "Iter     Function value   Gradient norm \n",
      "     0     1.254687e+00     1.477716e-02\n",
      " * Current step size: 1.0\n",
      " * time: 0.026314973831176758\n",
      " * g(x): [-0.004682033291061444, -0.014777159555176477, -0.004079955939055466]\n",
      " * x: [0.3972347982344473, 0.24134141645399687, 0.5477712521986617]\n"
     ]
    },
    {
     "name": "stderr",
     "output_type": "stream",
     "text": [
      "\u001b[32mProgress: 100%|███████████████████████████| Time: 0:11:16 ( 0.68  s/it)\u001b[39m\n",
      "\u001b[38;5;4m\u001b[1m[ \u001b[22m\u001b[39m\u001b[38;5;4m\u001b[1mDebug: \u001b[22m\u001b[39m20220101 23:57:04 loss: Dual{ForwardDiff.Tag{var\"#validation_mse#17\"{var\"#14#16\"{cf_params, Dict{String, typeof(get_abs_neighborhood)}, Int64, Matrix{Float64}}, RatingsDataset, RatingsDataset}, Float64}}(1.2544326670964745,-0.004615390637098091,-0.014450579126225141,-0.004096096881560934) β: Dual{ForwardDiff.Tag{var\"#validation_mse#17\"{var\"#14#16\"{cf_params, Dict{String, typeof(get_abs_neighborhood)}, Int64, Matrix{Float64}}, RatingsDataset, RatingsDataset}, Float64}}(0.7297937239122202,0.5855099423094746,0.4428305311055635,0.3742713371526252): λ ForwardDiff.Dual{ForwardDiff.Tag{var\"#validation_mse#17\"{var\"#14#16\"{cf_params, Dict{String, typeof(get_abs_neighborhood)}, Int64, Matrix{Float64}}, RatingsDataset, RatingsDataset}, Float64}, Float64, 3}[Dual{ForwardDiff.Tag{var\"#validation_mse#17\"{var\"#14#16\"{cf_params, Dict{String, typeof(get_abs_neighborhood)}, Int64, Matrix{Float64}}, RatingsDataset, RatingsDataset}, Float64}}(0.4019168315255087,1.0,0.0,0.0), Dual{ForwardDiff.Tag{var\"#validation_mse#17\"{var\"#14#16\"{cf_params, Dict{String, typeof(get_abs_neighborhood)}, Int64, Matrix{Float64}}, RatingsDataset, RatingsDataset}, Float64}}(0.25611857600917337,0.0,1.0,0.0), Dual{ForwardDiff.Tag{var\"#validation_mse#17\"{var\"#14#16\"{cf_params, Dict{String, typeof(get_abs_neighborhood)}, Int64, Matrix{Float64}}, RatingsDataset, RatingsDataset}, Float64}}(0.5518512081377172,0.0,0.0,1.0)]\n",
      "\u001b[32mProgress: 100%|███████████████████████████| Time: 0:11:22 ( 0.69  s/it)\u001b[39m\n",
      "\u001b[38;5;4m\u001b[1m[ \u001b[22m\u001b[39m\u001b[38;5;4m\u001b[1mDebug: \u001b[22m\u001b[39m20220102 00:09:19 loss: Dual{ForwardDiff.Tag{var\"#validation_mse#17\"{var\"#14#16\"{cf_params, Dict{String, typeof(get_abs_neighborhood)}, Int64, Matrix{Float64}}, RatingsDataset, RatingsDataset}, Float64}}(1.2534667536051889,-0.004250178460481509,-0.013137274780764777,-0.00414004540609751) β: Dual{ForwardDiff.Tag{var\"#validation_mse#17\"{var\"#14#16\"{cf_params, Dict{String, typeof(get_abs_neighborhood)}, Int64, Matrix{Float64}}, RatingsDataset, RatingsDataset}, Float64}}(0.7712220645717576,0.6269282584247293,0.36086724049750135,0.39789121487565304): λ ForwardDiff.Dual{ForwardDiff.Tag{var\"#validation_mse#17\"{var\"#14#16\"{cf_params, Dict{String, typeof(get_abs_neighborhood)}, Int64, Matrix{Float64}}, RatingsDataset, RatingsDataset}, Float64}, Float64, 3}[Dual{ForwardDiff.Tag{var\"#validation_mse#17\"{var\"#14#16\"{cf_params, Dict{String, typeof(get_abs_neighborhood)}, Int64, Matrix{Float64}}, RatingsDataset, RatingsDataset}, Float64}}(0.42064496468975454,1.0,0.0,0.0), Dual{ForwardDiff.Tag{var\"#validation_mse#17\"{var\"#14#16\"{cf_params, Dict{String, typeof(get_abs_neighborhood)}, Int64, Matrix{Float64}}, RatingsDataset, RatingsDataset}, Float64}}(0.31522721422987926,0.0,1.0,0.0), Dual{ForwardDiff.Tag{var\"#validation_mse#17\"{var\"#14#16\"{cf_params, Dict{String, typeof(get_abs_neighborhood)}, Int64, Matrix{Float64}}, RatingsDataset, RatingsDataset}, Float64}}(0.568171031893939,0.0,0.0,1.0)]\n",
      "\u001b[32mProgress:  79%|█████████████████████▍     |  ETA: 0:02:05 ( 0.60  s/it)\u001b[39m"
     ]
    }
   ],
   "source": [
    "for param in item_cf_params\n",
    "    optimize_model(param)\n",
    "end"
   ]
  },
  {
   "cell_type": "code",
   "execution_count": null,
   "id": "f4dbe73e-7eb3-489c-a288-bd8e7ace5c41",
   "metadata": {},
   "outputs": [],
   "source": []
  }
 ],
 "metadata": {
  "kernelspec": {
   "display_name": "Julia 1.6.3",
   "language": "julia",
   "name": "julia-1.6"
  },
  "language_info": {
   "file_extension": ".jl",
   "mimetype": "application/julia",
   "name": "julia",
   "version": "1.6.3"
  }
 },
 "nbformat": 4,
 "nbformat_minor": 5
}
