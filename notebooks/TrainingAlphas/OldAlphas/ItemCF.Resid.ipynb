{
 "cells": [
  {
   "cell_type": "markdown",
   "id": "c3758ece-9b72-47b4-ae6a-aa364e0443e3",
   "metadata": {},
   "source": [
    "# Item Collaborative Filtering on Residuals\n",
    "* See `ItemCollaborativeFiltering.Base.ipynb` for algorithm details\n",
    "* This alpha is trained on the residuals of previous alphas"
   ]
  },
  {
   "cell_type": "code",
   "execution_count": 1,
   "id": "7cc9334a-2287-41d6-885b-a5cca94fe263",
   "metadata": {},
   "outputs": [],
   "source": [
    "name = \"ItemCF.Resid\";"
   ]
  },
  {
   "cell_type": "code",
   "execution_count": 2,
   "id": "d17593ac-3260-4c01-a5df-91edfcd17e13",
   "metadata": {},
   "outputs": [],
   "source": [
    "using NBInclude\n",
    "@nbinclude(\"ItemCF.Base.ipynb\");"
   ]
  },
  {
   "cell_type": "markdown",
   "id": "0ed6e567-f4e0-43e6-ac65-a35e8bc060a2",
   "metadata": {
    "tags": []
   },
   "source": [
    "## GNN residuals"
   ]
  },
  {
   "cell_type": "code",
   "execution_count": 4,
   "id": "93def6fd-f3db-4d9b-83b8-f2c34857755e",
   "metadata": {
    "tags": []
   },
   "outputs": [
    {
     "name": "stderr",
     "output_type": "stream",
     "text": [
      "\u001b[38;5;4m\u001b[1m[ \u001b[22m\u001b[39m\u001b[38;5;4m\u001b[1mDebug: \u001b[22m\u001b[39m20220316 00:32:37 generating similarity matrix for [\"UserItemBiases\", \"GNN.1\"]\n",
      "\u001b[32mProgress: 100%|███████████████████████████| Time: 0:34:59 ( 1.77  s/it)\u001b[39m\n",
      "\u001b[32mProgress: 100%|███████████████████████████| Time: 0:04:45 ( 0.33  s/it)\u001b[39m\n",
      "\u001b[38;5;4m\u001b[1m[ \u001b[22m\u001b[39m\u001b[38;5;4m\u001b[1mDebug: \u001b[22m\u001b[39m20220316 01:14:23 loss: Dual{ForwardDiff.Tag{var\"#validation_mse#23\"{var\"#20#22\"{cf_params, Dict{String, typeof(get_abs_neighborhood)}, Int64, Matrix{Float32}}, RatingsDataset, RatingsDataset}, Float32}}(1.3079685,-0.106948115,-0.0021321198,-0.0059172614) β: Dual{ForwardDiff.Tag{var\"#validation_mse#23\"{var\"#20#22\"{cf_params, Dict{String, typeof(get_abs_neighborhood)}, Int64, Matrix{Float32}}, RatingsDataset, RatingsDataset}, Float32}}(1.5380815,1.726984,-0.6508319,0.91788065): λ ForwardDiff.Dual{ForwardDiff.Tag{var\"#validation_mse#23\"{var\"#20#22\"{cf_params, Dict{String, typeof(get_abs_neighborhood)}, Int64, Matrix{Float32}}, RatingsDataset, RatingsDataset}, Float32}, Float32, 3}[Dual{ForwardDiff.Tag{var\"#validation_mse#23\"{var\"#20#22\"{cf_params, Dict{String, typeof(get_abs_neighborhood)}, Int64, Matrix{Float32}}, RatingsDataset, RatingsDataset}, Float32}}(0.642193,1.0,0.0,0.0), Dual{ForwardDiff.Tag{var\"#validation_mse#23\"{var\"#20#22\"{cf_params, Dict{String, typeof(get_abs_neighborhood)}, Int64, Matrix{Float32}}, RatingsDataset, RatingsDataset}, Float32}}(0.9533261,0.0,1.0,0.0), Dual{ForwardDiff.Tag{var\"#validation_mse#23\"{var\"#20#22\"{cf_params, Dict{String, typeof(get_abs_neighborhood)}, Int64, Matrix{Float32}}, RatingsDataset, RatingsDataset}, Float32}}(0.6819327,0.0,0.0,1.0)]\n"
     ]
    },
    {
     "name": "stdout",
     "output_type": "stream",
     "text": [
      "Iter     Function value   Gradient norm \n",
      "     0     1.307968e+00     1.069481e-01\n",
      " * Current step size: 1.0\n",
      " * time: 0.02730107307434082\n",
      " * g(x): Float32[-0.106948115, -0.0021321198, -0.0059172614]\n",
      " * x: Float32[0.642193, 0.9533261, 0.6819327]\n"
     ]
    },
    {
     "name": "stderr",
     "output_type": "stream",
     "text": [
      "\u001b[32mProgress: 100%|███████████████████████████| Time: 0:04:49 ( 0.34  s/it)\u001b[39m\n",
      "\u001b[38;5;4m\u001b[1m[ \u001b[22m\u001b[39m\u001b[38;5;4m\u001b[1mDebug: \u001b[22m\u001b[39m20220316 01:19:53 loss: Dual{ForwardDiff.Tag{var\"#validation_mse#23\"{var\"#20#22\"{cf_params, Dict{String, typeof(get_abs_neighborhood)}, Int64, Matrix{Float32}}, RatingsDataset, RatingsDataset}, Float32}}(1.2981081,-0.07548621,-0.0039729113,-0.002755415) β: Dual{ForwardDiff.Tag{var\"#validation_mse#23\"{var\"#20#22\"{cf_params, Dict{String, typeof(get_abs_neighborhood)}, Int64, Matrix{Float32}}, RatingsDataset, RatingsDataset}, Float32}}(1.7209635,1.59734,-0.7000195,1.1003251): λ ForwardDiff.Dual{ForwardDiff.Tag{var\"#validation_mse#23\"{var\"#20#22\"{cf_params, Dict{String, typeof(get_abs_neighborhood)}, Int64, Matrix{Float32}}, RatingsDataset, RatingsDataset}, Float32}, Float32, 3}[Dual{ForwardDiff.Tag{var\"#validation_mse#23\"{var\"#20#22\"{cf_params, Dict{String, typeof(get_abs_neighborhood)}, Int64, Matrix{Float32}}, RatingsDataset, RatingsDataset}, Float32}}(0.74914116,1.0,0.0,0.0), Dual{ForwardDiff.Tag{var\"#validation_mse#23\"{var\"#20#22\"{cf_params, Dict{String, typeof(get_abs_neighborhood)}, Int64, Matrix{Float32}}, RatingsDataset, RatingsDataset}, Float32}}(0.9554582,0.0,1.0,0.0), Dual{ForwardDiff.Tag{var\"#validation_mse#23\"{var\"#20#22\"{cf_params, Dict{String, typeof(get_abs_neighborhood)}, Int64, Matrix{Float32}}, RatingsDataset, RatingsDataset}, Float32}}(0.68784994,0.0,0.0,1.0)]\n",
      "\u001b[32mProgress: 100%|███████████████████████████| Time: 0:04:37 ( 0.32  s/it)\u001b[39m\n",
      "\u001b[38;5;4m\u001b[1m[ \u001b[22m\u001b[39m\u001b[38;5;4m\u001b[1mDebug: \u001b[22m\u001b[39m20220316 01:25:12 loss: Dual{ForwardDiff.Tag{var\"#validation_mse#23\"{var\"#20#22\"{cf_params, Dict{String, typeof(get_abs_neighborhood)}, Int64, Matrix{Float32}}, RatingsDataset, RatingsDataset}, Float32}}(1.2918556,0.026660867,-0.0077496837,0.010155734) β: Dual{ForwardDiff.Tag{var\"#validation_mse#23\"{var\"#20#22\"{cf_params, Dict{String, typeof(get_abs_neighborhood)}, Int64, Matrix{Float32}}, RatingsDataset, RatingsDataset}, Float32}}(2.3305924,1.2943132,-0.8675339,1.8347044): λ ForwardDiff.Dual{ForwardDiff.Tag{var\"#validation_mse#23\"{var\"#20#22\"{cf_params, Dict{String, typeof(get_abs_neighborhood)}, Int64, Matrix{Float32}}, RatingsDataset, RatingsDataset}, Float32}, Float32, 3}[Dual{ForwardDiff.Tag{var\"#validation_mse#23\"{var\"#20#22\"{cf_params, Dict{String, typeof(get_abs_neighborhood)}, Int64, Matrix{Float32}}, RatingsDataset, RatingsDataset}, Float32}}(1.1769336,1.0,0.0,0.0), Dual{ForwardDiff.Tag{var\"#validation_mse#23\"{var\"#20#22\"{cf_params, Dict{String, typeof(get_abs_neighborhood)}, Int64, Matrix{Float32}}, RatingsDataset, RatingsDataset}, Float32}}(0.9639867,0.0,1.0,0.0), Dual{ForwardDiff.Tag{var\"#validation_mse#23\"{var\"#20#22\"{cf_params, Dict{String, typeof(get_abs_neighborhood)}, Int64, Matrix{Float32}}, RatingsDataset, RatingsDataset}, Float32}}(0.711519,0.0,0.0,1.0)]\n",
      "\u001b[32mProgress: 100%|███████████████████████████| Time: 0:04:45 ( 0.33  s/it)\u001b[39m\n",
      "\u001b[38;5;4m\u001b[1m[ \u001b[22m\u001b[39m\u001b[38;5;4m\u001b[1mDebug: \u001b[22m\u001b[39m20220316 01:30:36 loss: Dual{ForwardDiff.Tag{var\"#validation_mse#23\"{var\"#20#22\"{cf_params, Dict{String, typeof(get_abs_neighborhood)}, Int64, Matrix{Float32}}, RatingsDataset, RatingsDataset}, Float32}}(1.28955,0.012081912,-0.0074322866,0.0079218885) β: Dual{ForwardDiff.Tag{var\"#validation_mse#23\"{var\"#20#22\"{cf_params, Dict{String, typeof(get_abs_neighborhood)}, Int64, Matrix{Float32}}, RatingsDataset, RatingsDataset}, Float32}}(2.178613,1.2667485,-0.8211211,1.6355598): λ ForwardDiff.Dual{ForwardDiff.Tag{var\"#validation_mse#23\"{var\"#20#22\"{cf_params, Dict{String, typeof(get_abs_neighborhood)}, Int64, Matrix{Float32}}, RatingsDataset, RatingsDataset}, Float32}, Float32, 3}[Dual{ForwardDiff.Tag{var\"#validation_mse#23\"{var\"#20#22\"{cf_params, Dict{String, typeof(get_abs_neighborhood)}, Int64, Matrix{Float32}}, RatingsDataset, RatingsDataset}, Float32}}(1.0642763,1.0,0.0,0.0), Dual{ForwardDiff.Tag{var\"#validation_mse#23\"{var\"#20#22\"{cf_params, Dict{String, typeof(get_abs_neighborhood)}, Int64, Matrix{Float32}}, RatingsDataset, RatingsDataset}, Float32}}(0.9617408,0.0,1.0,0.0), Dual{ForwardDiff.Tag{var\"#validation_mse#23\"{var\"#20#22\"{cf_params, Dict{String, typeof(get_abs_neighborhood)}, Int64, Matrix{Float32}}, RatingsDataset, RatingsDataset}, Float32}}(0.70528585,0.0,0.0,1.0)]\n"
     ]
    },
    {
     "name": "stdout",
     "output_type": "stream",
     "text": [
      "     1     1.289550e+00     1.208191e-02\n",
      " * Current step size: 3.9466178\n",
      " * time: 973.0732729434967\n",
      " * g(x): Float32[0.012081912, -0.0074322866, 0.0079218885]\n",
      " * x: Float32[1.0642763, 0.9617408, 0.70528585]\n"
     ]
    },
    {
     "name": "stderr",
     "output_type": "stream",
     "text": [
      "\u001b[32mProgress: 100%|███████████████████████████| Time: 0:04:37 ( 0.32  s/it)\u001b[39m\n",
      "\u001b[38;5;4m\u001b[1m[ \u001b[22m\u001b[39m\u001b[38;5;4m\u001b[1mDebug: \u001b[22m\u001b[39m20220316 01:35:53 loss: Dual{ForwardDiff.Tag{var\"#validation_mse#23\"{var\"#20#22\"{cf_params, Dict{String, typeof(get_abs_neighborhood)}, Int64, Matrix{Float32}}, RatingsDataset, RatingsDataset}, Float32}}(1.2888987,0.0037675896,-0.0049070083,0.0068346346) β: Dual{ForwardDiff.Tag{var\"#validation_mse#23\"{var\"#20#22\"{cf_params, Dict{String, typeof(get_abs_neighborhood)}, Int64, Matrix{Float32}}, RatingsDataset, RatingsDataset}, Float32}}(2.0694978,1.2300826,-0.8412473,1.5612357): λ ForwardDiff.Dual{ForwardDiff.Tag{var\"#validation_mse#23\"{var\"#20#22\"{cf_params, Dict{String, typeof(get_abs_neighborhood)}, Int64, Matrix{Float32}}, RatingsDataset, RatingsDataset}, Float32}, Float32, 3}[Dual{ForwardDiff.Tag{var\"#validation_mse#23\"{var\"#20#22\"{cf_params, Dict{String, typeof(get_abs_neighborhood)}, Int64, Matrix{Float32}}, RatingsDataset, RatingsDataset}, Float32}}(1.0243568,1.0,0.0,0.0), Dual{ForwardDiff.Tag{var\"#validation_mse#23\"{var\"#20#22\"{cf_params, Dict{String, typeof(get_abs_neighborhood)}, Int64, Matrix{Float32}}, RatingsDataset, RatingsDataset}, Float32}}(0.9851024,0.0,1.0,0.0), Dual{ForwardDiff.Tag{var\"#validation_mse#23\"{var\"#20#22\"{cf_params, Dict{String, typeof(get_abs_neighborhood)}, Int64, Matrix{Float32}}, RatingsDataset, RatingsDataset}, Float32}}(0.68024117,0.0,0.0,1.0)]\n",
      "\u001b[32mProgress: 100%|███████████████████████████| Time: 0:04:16 ( 0.30  s/it)\u001b[39m\n",
      "\u001b[38;5;4m\u001b[1m[ \u001b[22m\u001b[39m\u001b[38;5;4m\u001b[1mDebug: \u001b[22m\u001b[39m20220316 01:41:03 loss: Dual{ForwardDiff.Tag{var\"#validation_mse#23\"{var\"#20#22\"{cf_params, Dict{String, typeof(get_abs_neighborhood)}, Int64, Matrix{Float32}}, RatingsDataset, RatingsDataset}, Float32}}(1.2915055,-0.043918774,0.005709146,-0.0004398067) β: Dual{ForwardDiff.Tag{var\"#validation_mse#23\"{var\"#20#22\"{cf_params, Dict{String, typeof(get_abs_neighborhood)}, Int64, Matrix{Float32}}, RatingsDataset, RatingsDataset}, Float32}}(1.6555281,1.1905148,-0.87551415,1.2783483): λ ForwardDiff.Dual{ForwardDiff.Tag{var\"#validation_mse#23\"{var\"#20#22\"{cf_params, Dict{String, typeof(get_abs_neighborhood)}, Int64, Matrix{Float32}}, RatingsDataset, RatingsDataset}, Float32}, Float32, 3}[Dual{ForwardDiff.Tag{var\"#validation_mse#23\"{var\"#20#22\"{cf_params, Dict{String, typeof(get_abs_neighborhood)}, Int64, Matrix{Float32}}, RatingsDataset, RatingsDataset}, Float32}}(0.8646789,1.0,0.0,0.0), Dual{ForwardDiff.Tag{var\"#validation_mse#23\"{var\"#20#22\"{cf_params, Dict{String, typeof(get_abs_neighborhood)}, Int64, Matrix{Float32}}, RatingsDataset, RatingsDataset}, Float32}}(1.0785489,0.0,1.0,0.0), Dual{ForwardDiff.Tag{var\"#validation_mse#23\"{var\"#20#22\"{cf_params, Dict{String, typeof(get_abs_neighborhood)}, Int64, Matrix{Float32}}, RatingsDataset, RatingsDataset}, Float32}}(0.5800624,0.0,0.0,1.0)]\n",
      "\u001b[32mProgress: 100%|███████████████████████████| Time: 0:04:31 ( 0.32  s/it)\u001b[39m\n",
      "\u001b[38;5;4m\u001b[1m[ \u001b[22m\u001b[39m\u001b[38;5;4m\u001b[1mDebug: \u001b[22m\u001b[39m20220316 01:46:13 loss: Dual{ForwardDiff.Tag{var\"#validation_mse#23\"{var\"#20#22\"{cf_params, Dict{String, typeof(get_abs_neighborhood)}, Int64, Matrix{Float32}}, RatingsDataset, RatingsDataset}, Float32}}(1.2887043,-0.0034695636,-0.002972223,0.0058319597) β: Dual{ForwardDiff.Tag{var\"#validation_mse#23\"{var\"#20#22\"{cf_params, Dict{String, typeof(get_abs_neighborhood)}, Int64, Matrix{Float32}}, RatingsDataset, RatingsDataset}, Float32}}(1.9897287,1.210518,-0.853211,1.506671): λ ForwardDiff.Dual{ForwardDiff.Tag{var\"#validation_mse#23\"{var\"#20#22\"{cf_params, Dict{String, typeof(get_abs_neighborhood)}, Int64, Matrix{Float32}}, RatingsDataset, RatingsDataset}, Float32}, Float32, 3}[Dual{ForwardDiff.Tag{var\"#validation_mse#23\"{var\"#20#22\"{cf_params, Dict{String, typeof(get_abs_neighborhood)}, Int64, Matrix{Float32}}, RatingsDataset, RatingsDataset}, Float32}}(0.99451184,1.0,0.0,0.0), Dual{ForwardDiff.Tag{var\"#validation_mse#23\"{var\"#20#22\"{cf_params, Dict{String, typeof(get_abs_neighborhood)}, Int64, Matrix{Float32}}, RatingsDataset, RatingsDataset}, Float32}}(1.0025682,0.0,1.0,0.0), Dual{ForwardDiff.Tag{var\"#validation_mse#23\"{var\"#20#22\"{cf_params, Dict{String, typeof(get_abs_neighborhood)}, Int64, Matrix{Float32}}, RatingsDataset, RatingsDataset}, Float32}}(0.66151696,0.0,0.0,1.0)]\n"
     ]
    },
    {
     "name": "stdout",
     "output_type": "stream",
     "text": [
      "     2     1.288704e+00     5.831960e-03\n",
      " * Current step size: 1.7476305\n",
      " * time: 1910.230525970459\n",
      " * g(x): Float32[-0.0034695636, -0.002972223, 0.0058319597]\n",
      " * x: Float32[0.99451184, 1.0025682, 0.66151696]\n"
     ]
    },
    {
     "name": "stderr",
     "output_type": "stream",
     "text": [
      "\u001b[32mProgress: 100%|███████████████████████████| Time: 0:04:04 ( 0.29  s/it)\u001b[39m\n",
      "\u001b[38;5;4m\u001b[1m[ \u001b[22m\u001b[39m\u001b[38;5;4m\u001b[1mDebug: \u001b[22m\u001b[39m20220316 01:51:16 loss: Dual{ForwardDiff.Tag{var\"#validation_mse#23\"{var\"#20#22\"{cf_params, Dict{String, typeof(get_abs_neighborhood)}, Int64, Matrix{Float32}}, RatingsDataset, RatingsDataset}, Float32}}(1.2884058,-0.004247098,-0.00060736184,0.0058134827) β: Dual{ForwardDiff.Tag{var\"#validation_mse#23\"{var\"#20#22\"{cf_params, Dict{String, typeof(get_abs_neighborhood)}, Int64, Matrix{Float32}}, RatingsDataset, RatingsDataset}, Float32}}(1.910899,1.1298065,-0.8723994,1.5138118): λ ForwardDiff.Dual{ForwardDiff.Tag{var\"#validation_mse#23\"{var\"#20#22\"{cf_params, Dict{String, typeof(get_abs_neighborhood)}, Int64, Matrix{Float32}}, RatingsDataset, RatingsDataset}, Float32}, Float32, 3}[Dual{ForwardDiff.Tag{var\"#validation_mse#23\"{var\"#20#22\"{cf_params, Dict{String, typeof(get_abs_neighborhood)}, Int64, Matrix{Float32}}, RatingsDataset, RatingsDataset}, Float32}}(0.9983955,1.0,0.0,0.0), Dual{ForwardDiff.Tag{var\"#validation_mse#23\"{var\"#20#22\"{cf_params, Dict{String, typeof(get_abs_neighborhood)}, Int64, Matrix{Float32}}, RatingsDataset, RatingsDataset}, Float32}}(1.0269783,0.0,1.0,0.0), Dual{ForwardDiff.Tag{var\"#validation_mse#23\"{var\"#20#22\"{cf_params, Dict{String, typeof(get_abs_neighborhood)}, Int64, Matrix{Float32}}, RatingsDataset, RatingsDataset}, Float32}}(0.6203289,0.0,0.0,1.0)]\n",
      "\u001b[32mProgress: 100%|███████████████████████████| Time: 0:04:34 ( 0.32  s/it)\u001b[39m\n",
      "\u001b[38;5;4m\u001b[1m[ \u001b[22m\u001b[39m\u001b[38;5;4m\u001b[1mDebug: \u001b[22m\u001b[39m20220316 02:01:46 loss: Dual{ForwardDiff.Tag{var\"#validation_mse#23\"{var\"#20#22\"{cf_params, Dict{String, typeof(get_abs_neighborhood)}, Int64, Matrix{Float32}}, RatingsDataset, RatingsDataset}, Float32}}(1.4190785,-1.4281406,-6.9294407e-7,1.6557195) β: Dual{ForwardDiff.Tag{var\"#validation_mse#23\"{var\"#20#22\"{cf_params, Dict{String, typeof(get_abs_neighborhood)}, Int64, Matrix{Float32}}, RatingsDataset, RatingsDataset}, Float32}}(1.9187182e-6,-1.0156817,-8.7168866e-7,1.6988368): λ ForwardDiff.Dual{ForwardDiff.Tag{var\"#validation_mse#23\"{var\"#20#22\"{cf_params, Dict{String, typeof(get_abs_neighborhood)}, Int64, Matrix{Float32}}, RatingsDataset, RatingsDataset}, Float32}, Float32, 3}[Dual{ForwardDiff.Tag{var\"#validation_mse#23\"{var\"#20#22\"{cf_params, Dict{String, typeof(get_abs_neighborhood)}, Int64, Matrix{Float32}}, RatingsDataset, RatingsDataset}, Float32}}(1.0916028,1.0,0.0,0.0), Dual{ForwardDiff.Tag{var\"#validation_mse#23\"{var\"#20#22\"{cf_params, Dict{String, typeof(get_abs_neighborhood)}, Int64, Matrix{Float32}}, RatingsDataset, RatingsDataset}, Float32}}(1.6128196,0.0,1.0,0.0), Dual{ForwardDiff.Tag{var\"#validation_mse#23\"{var\"#20#22\"{cf_params, Dict{String, typeof(get_abs_neighborhood)}, Int64, Matrix{Float32}}, RatingsDataset, RatingsDataset}, Float32}}(-0.36818513,0.0,0.0,1.0)]\n",
      "\u001b[32mProgress: 100%|███████████████████████████| Time: 0:04:35 ( 0.32  s/it)\u001b[39m\n",
      "\u001b[38;5;4m\u001b[1m[ \u001b[22m\u001b[39m\u001b[38;5;4m\u001b[1mDebug: \u001b[22m\u001b[39m20220316 02:06:59 loss: Dual{ForwardDiff.Tag{var\"#validation_mse#23\"{var\"#20#22\"{cf_params, Dict{String, typeof(get_abs_neighborhood)}, Int64, Matrix{Float32}}, RatingsDataset, RatingsDataset}, Float32}}(1.2909691,-0.03323121,0.027037924,-0.020340001) β: Dual{ForwardDiff.Tag{var\"#validation_mse#23\"{var\"#20#22\"{cf_params, Dict{String, typeof(get_abs_neighborhood)}, Int64, Matrix{Float32}}, RatingsDataset, RatingsDataset}, Float32}}(0.9397005,0.30090585,-0.7371081,1.8555543): λ ForwardDiff.Dual{ForwardDiff.Tag{var\"#validation_mse#23\"{var\"#20#22\"{cf_params, Dict{String, typeof(get_abs_neighborhood)}, Int64, Matrix{Float32}}, RatingsDataset, RatingsDataset}, Float32}, Float32, 3}[Dual{ForwardDiff.Tag{var\"#validation_mse#23\"{var\"#20#22\"{cf_params, Dict{String, typeof(get_abs_neighborhood)}, Int64, Matrix{Float32}}, RatingsDataset, RatingsDataset}, Float32}}(1.0430573,1.0,0.0,0.0), Dual{ForwardDiff.Tag{var\"#validation_mse#23\"{var\"#20#22\"{cf_params, Dict{String, typeof(get_abs_neighborhood)}, Int64, Matrix{Float32}}, RatingsDataset, RatingsDataset}, Float32}}(1.307694,0.0,1.0,0.0), Dual{ForwardDiff.Tag{var\"#validation_mse#23\"{var\"#20#22\"{cf_params, Dict{String, typeof(get_abs_neighborhood)}, Int64, Matrix{Float32}}, RatingsDataset, RatingsDataset}, Float32}}(0.14666593,0.0,0.0,1.0)]\n",
      "\u001b[32mProgress: 100%|███████████████████████████| Time: 0:04:38 ( 0.32  s/it)\u001b[39m\n",
      "\u001b[38;5;4m\u001b[1m[ \u001b[22m\u001b[39m\u001b[38;5;4m\u001b[1mDebug: \u001b[22m\u001b[39m20220316 02:12:24 loss: Dual{ForwardDiff.Tag{var\"#validation_mse#23\"{var\"#20#22\"{cf_params, Dict{String, typeof(get_abs_neighborhood)}, Int64, Matrix{Float32}}, RatingsDataset, RatingsDataset}, Float32}}(1.2880815,-0.005568706,0.0027256291,0.005697397) β: Dual{ForwardDiff.Tag{var\"#validation_mse#23\"{var\"#20#22\"{cf_params, Dict{String, typeof(get_abs_neighborhood)}, Int64, Matrix{Float32}}, RatingsDataset, RatingsDataset}, Float32}}(1.798511,1.0176227,-0.8911298,1.5247562): λ ForwardDiff.Dual{ForwardDiff.Tag{var\"#validation_mse#23\"{var\"#20#22\"{cf_params, Dict{String, typeof(get_abs_neighborhood)}, Int64, Matrix{Float32}}, RatingsDataset, RatingsDataset}, Float32}, Float32, 3}[Dual{ForwardDiff.Tag{var\"#validation_mse#23\"{var\"#20#22\"{cf_params, Dict{String, typeof(get_abs_neighborhood)}, Int64, Matrix{Float32}}, RatingsDataset, RatingsDataset}, Float32}}(1.0038557,1.0,0.0,0.0), Dual{ForwardDiff.Tag{var\"#validation_mse#23\"{var\"#20#22\"{cf_params, Dict{String, typeof(get_abs_neighborhood)}, Int64, Matrix{Float32}}, RatingsDataset, RatingsDataset}, Float32}}(1.0612974,0.0,1.0,0.0), Dual{ForwardDiff.Tag{var\"#validation_mse#23\"{var\"#20#22\"{cf_params, Dict{String, typeof(get_abs_neighborhood)}, Int64, Matrix{Float32}}, RatingsDataset, RatingsDataset}, Float32}}(0.56242085,0.0,0.0,1.0)]\n"
     ]
    },
    {
     "name": "stdout",
     "output_type": "stream",
     "text": [
      "     3     1.288082e+00     5.697397e-03\n",
      " * Current step size: 2.4059415\n",
      " * time: 3480.881798028946\n",
      " * g(x): Float32[-0.005568706, 0.0027256291, 0.005697397]\n",
      " * x: Float32[1.0038557, 1.0612974, 0.56242085]\n"
     ]
    },
    {
     "name": "stderr",
     "output_type": "stream",
     "text": [
      "\u001b[32mProgress: 100%|███████████████████████████| Time: 0:04:37 ( 0.32  s/it)\u001b[39m\n",
      "\u001b[38;5;4m\u001b[1m[ \u001b[22m\u001b[39m\u001b[38;5;4m\u001b[1mDebug: \u001b[22m\u001b[39m20220316 02:17:40 loss: Dual{ForwardDiff.Tag{var\"#validation_mse#23\"{var\"#20#22\"{cf_params, Dict{String, typeof(get_abs_neighborhood)}, Int64, Matrix{Float32}}, RatingsDataset, RatingsDataset}, Float32}}(1.2867423,-0.017601278,0.013196322,-0.0015296147) β: Dual{ForwardDiff.Tag{var\"#validation_mse#23\"{var\"#20#22\"{cf_params, Dict{String, typeof(get_abs_neighborhood)}, Int64, Matrix{Float32}}, RatingsDataset, RatingsDataset}, Float32}}(1.1815387,0.40122676,-0.7268149,1.873277): λ ForwardDiff.Dual{ForwardDiff.Tag{var\"#validation_mse#23\"{var\"#20#22\"{cf_params, Dict{String, typeof(get_abs_neighborhood)}, Int64, Matrix{Float32}}, RatingsDataset, RatingsDataset}, Float32}, Float32, 3}[Dual{ForwardDiff.Tag{var\"#validation_mse#23\"{var\"#20#22\"{cf_params, Dict{String, typeof(get_abs_neighborhood)}, Int64, Matrix{Float32}}, RatingsDataset, RatingsDataset}, Float32}}(1.0631853,1.0,0.0,0.0), Dual{ForwardDiff.Tag{var\"#validation_mse#23\"{var\"#20#22\"{cf_params, Dict{String, typeof(get_abs_neighborhood)}, Int64, Matrix{Float32}}, RatingsDataset, RatingsDataset}, Float32}}(1.1550153,0.0,1.0,0.0), Dual{ForwardDiff.Tag{var\"#validation_mse#23\"{var\"#20#22\"{cf_params, Dict{String, typeof(get_abs_neighborhood)}, Int64, Matrix{Float32}}, RatingsDataset, RatingsDataset}, Float32}}(0.21240157,0.0,0.0,1.0)]\n",
      "\u001b[32mProgress: 100%|███████████████████████████| Time: 0:04:33 ( 0.32  s/it)\u001b[39m\n",
      "\u001b[38;5;4m\u001b[1m[ \u001b[22m\u001b[39m\u001b[38;5;4m\u001b[1mDebug: \u001b[22m\u001b[39m20220316 02:22:51 loss: Dual{ForwardDiff.Tag{var\"#validation_mse#23\"{var\"#20#22\"{cf_params, Dict{String, typeof(get_abs_neighborhood)}, Int64, Matrix{Float32}}, RatingsDataset, RatingsDataset}, Float32}}(1.2868215,-0.011504942,0.010235234,0.0036828243) β: Dual{ForwardDiff.Tag{var\"#validation_mse#23\"{var\"#20#22\"{cf_params, Dict{String, typeof(get_abs_neighborhood)}, Int64, Matrix{Float32}}, RatingsDataset, RatingsDataset}, Float32}}(1.3560823,0.5535924,-0.78876483,1.7279714): λ ForwardDiff.Dual{ForwardDiff.Tag{var\"#validation_mse#23\"{var\"#20#22\"{cf_params, Dict{String, typeof(get_abs_neighborhood)}, Int64, Matrix{Float32}}, RatingsDataset, RatingsDataset}, Float32}, Float32, 3}[Dual{ForwardDiff.Tag{var\"#validation_mse#23\"{var\"#20#22\"{cf_params, Dict{String, typeof(get_abs_neighborhood)}, Int64, Matrix{Float32}}, RatingsDataset, RatingsDataset}, Float32}}(1.0477463,1.0,0.0,0.0), Dual{ForwardDiff.Tag{var\"#validation_mse#23\"{var\"#20#22\"{cf_params, Dict{String, typeof(get_abs_neighborhood)}, Int64, Matrix{Float32}}, RatingsDataset, RatingsDataset}, Float32}}(1.1306276,0.0,1.0,0.0), Dual{ForwardDiff.Tag{var\"#validation_mse#23\"{var\"#20#22\"{cf_params, Dict{String, typeof(get_abs_neighborhood)}, Int64, Matrix{Float32}}, RatingsDataset, RatingsDataset}, Float32}}(0.30348536,0.0,0.0,1.0)]\n"
     ]
    },
    {
     "name": "stdout",
     "output_type": "stream",
     "text": [
      "     4     1.286821e+00     1.150494e-02\n",
      " * Current step size: 0.7397749\n",
      " * time: 4107.82737994194\n",
      " * g(x): Float32[-0.011504942, 0.010235234, 0.0036828243]\n",
      " * x: Float32[1.0477463, 1.1306276, 0.30348536]\n"
     ]
    },
    {
     "name": "stderr",
     "output_type": "stream",
     "text": [
      "\u001b[32mProgress: 100%|███████████████████████████| Time: 0:04:35 ( 0.32  s/it)\u001b[39m\n",
      "\u001b[38;5;4m\u001b[1m[ \u001b[22m\u001b[39m\u001b[38;5;4m\u001b[1mDebug: \u001b[22m\u001b[39m20220316 02:28:06 loss: Dual{ForwardDiff.Tag{var\"#validation_mse#23\"{var\"#20#22\"{cf_params, Dict{String, typeof(get_abs_neighborhood)}, Int64, Matrix{Float32}}, RatingsDataset, RatingsDataset}, Float32}}(1.4190778,-0.010155021,5.123256e-7,-0.40737027) β: Dual{ForwardDiff.Tag{var\"#validation_mse#23\"{var\"#20#22\"{cf_params, Dict{String, typeof(get_abs_neighborhood)}, Int64, Matrix{Float32}}, RatingsDataset, RatingsDataset}, Float32}}(1.940755e-6,-1.812308,-1.7579061e-6,2.949569): λ ForwardDiff.Dual{ForwardDiff.Tag{var\"#validation_mse#23\"{var\"#20#22\"{cf_params, Dict{String, typeof(get_abs_neighborhood)}, Int64, Matrix{Float32}}, RatingsDataset, RatingsDataset}, Float32}, Float32, 3}[Dual{ForwardDiff.Tag{var\"#validation_mse#23\"{var\"#20#22\"{cf_params, Dict{String, typeof(get_abs_neighborhood)}, Int64, Matrix{Float32}}, RatingsDataset, RatingsDataset}, Float32}}(1.2026801,1.0,0.0,0.0), Dual{ForwardDiff.Tag{var\"#validation_mse#23\"{var\"#20#22\"{cf_params, Dict{String, typeof(get_abs_neighborhood)}, Int64, Matrix{Float32}}, RatingsDataset, RatingsDataset}, Float32}}(1.2033848,0.0,1.0,0.0), Dual{ForwardDiff.Tag{var\"#validation_mse#23\"{var\"#20#22\"{cf_params, Dict{String, typeof(get_abs_neighborhood)}, Int64, Matrix{Float32}}, RatingsDataset, RatingsDataset}, Float32}}(-0.2536098,0.0,0.0,1.0)]\n",
      "\u001b[32mProgress: 100%|███████████████████████████| Time: 0:04:17 ( 0.30  s/it)\u001b[39m\n",
      "\u001b[38;5;4m\u001b[1m[ \u001b[22m\u001b[39m\u001b[38;5;4m\u001b[1mDebug: \u001b[22m\u001b[39m20220316 02:33:10 loss: Dual{ForwardDiff.Tag{var\"#validation_mse#23\"{var\"#20#22\"{cf_params, Dict{String, typeof(get_abs_neighborhood)}, Int64, Matrix{Float32}}, RatingsDataset, RatingsDataset}, Float32}}(1.2867802,-0.011691888,0.010371257,0.0035265288) β: Dual{ForwardDiff.Tag{var\"#validation_mse#23\"{var\"#20#22\"{cf_params, Dict{String, typeof(get_abs_neighborhood)}, Int64, Matrix{Float32}}, RatingsDataset, RatingsDataset}, Float32}}(1.34343,0.5404535,-0.78341585,1.7394769): λ ForwardDiff.Dual{ForwardDiff.Tag{var\"#validation_mse#23\"{var\"#20#22\"{cf_params, Dict{String, typeof(get_abs_neighborhood)}, Int64, Matrix{Float32}}, RatingsDataset, RatingsDataset}, Float32}, Float32, 3}[Dual{ForwardDiff.Tag{var\"#validation_mse#23\"{var\"#20#22\"{cf_params, Dict{String, typeof(get_abs_neighborhood)}, Int64, Matrix{Float32}}, RatingsDataset, RatingsDataset}, Float32}}(1.0498415,1.0,0.0,0.0), Dual{ForwardDiff.Tag{var\"#validation_mse#23\"{var\"#20#22\"{cf_params, Dict{String, typeof(get_abs_neighborhood)}, Int64, Matrix{Float32}}, RatingsDataset, RatingsDataset}, Float32}}(1.1316116,0.0,1.0,0.0), Dual{ForwardDiff.Tag{var\"#validation_mse#23\"{var\"#20#22\"{cf_params, Dict{String, typeof(get_abs_neighborhood)}, Int64, Matrix{Float32}}, RatingsDataset, RatingsDataset}, Float32}}(0.2959517,0.0,0.0,1.0)]\n",
      "\u001b[32mProgress: 100%|███████████████████████████| Time: 0:04:23 ( 0.31  s/it)\u001b[39m\n",
      "\u001b[38;5;4m\u001b[1m[ \u001b[22m\u001b[39m\u001b[38;5;4m\u001b[1mDebug: \u001b[22m\u001b[39m20220316 02:38:19 loss: Dual{ForwardDiff.Tag{var\"#validation_mse#23\"{var\"#20#22\"{cf_params, Dict{String, typeof(get_abs_neighborhood)}, Int64, Matrix{Float32}}, RatingsDataset, RatingsDataset}, Float32}}(1.4190781,-0.8263642,2.6369298e-6,5.225661) β: Dual{ForwardDiff.Tag{var\"#validation_mse#23\"{var\"#20#22\"{cf_params, Dict{String, typeof(get_abs_neighborhood)}, Int64, Matrix{Float32}}, RatingsDataset, RatingsDataset}, Float32}}(7.260013e-6,0.7781533,-8.857636e-6,-3.1394358): λ ForwardDiff.Dual{ForwardDiff.Tag{var\"#validation_mse#23\"{var\"#20#22\"{cf_params, Dict{String, typeof(get_abs_neighborhood)}, Int64, Matrix{Float32}}, RatingsDataset, RatingsDataset}, Float32}, Float32, 3}[Dual{ForwardDiff.Tag{var\"#validation_mse#23\"{var\"#20#22\"{cf_params, Dict{String, typeof(get_abs_neighborhood)}, Int64, Matrix{Float32}}, RatingsDataset, RatingsDataset}, Float32}}(1.1429337,1.0,0.0,0.0), Dual{ForwardDiff.Tag{var\"#validation_mse#23\"{var\"#20#22\"{cf_params, Dict{String, typeof(get_abs_neighborhood)}, Int64, Matrix{Float32}}, RatingsDataset, RatingsDataset}, Float32}}(1.1753278,0.0,1.0,0.0), Dual{ForwardDiff.Tag{var\"#validation_mse#23\"{var\"#20#22\"{cf_params, Dict{String, typeof(get_abs_neighborhood)}, Int64, Matrix{Float32}}, RatingsDataset, RatingsDataset}, Float32}}(-0.038779944,0.0,0.0,1.0)]\n",
      "\u001b[32mProgress: 100%|███████████████████████████| Time: 0:04:14 ( 0.30  s/it)\u001b[39m\n",
      "\u001b[38;5;4m\u001b[1m[ \u001b[22m\u001b[39m\u001b[38;5;4m\u001b[1mDebug: \u001b[22m\u001b[39m20220316 02:43:24 loss: Dual{ForwardDiff.Tag{var\"#validation_mse#23\"{var\"#20#22\"{cf_params, Dict{String, typeof(get_abs_neighborhood)}, Int64, Matrix{Float32}}, RatingsDataset, RatingsDataset}, Float32}}(1.2865973,-0.02331886,0.013976665,-0.014503507) β: Dual{ForwardDiff.Tag{var\"#validation_mse#23\"{var\"#20#22\"{cf_params, Dict{String, typeof(get_abs_neighborhood)}, Int64, Matrix{Float32}}, RatingsDataset, RatingsDataset}, Float32}}(1.0248245,0.26123735,-0.6383348,2.1975563): λ ForwardDiff.Dual{ForwardDiff.Tag{var\"#validation_mse#23\"{var\"#20#22\"{cf_params, Dict{String, typeof(get_abs_neighborhood)}, Int64, Matrix{Float32}}, RatingsDataset, RatingsDataset}, Float32}, Float32, 3}[Dual{ForwardDiff.Tag{var\"#validation_mse#23\"{var\"#20#22\"{cf_params, Dict{String, typeof(get_abs_neighborhood)}, Int64, Matrix{Float32}}, RatingsDataset, RatingsDataset}, Float32}}(1.0963876,1.0,0.0,0.0), Dual{ForwardDiff.Tag{var\"#validation_mse#23\"{var\"#20#22\"{cf_params, Dict{String, typeof(get_abs_neighborhood)}, Int64, Matrix{Float32}}, RatingsDataset, RatingsDataset}, Float32}}(1.1534697,0.0,1.0,0.0), Dual{ForwardDiff.Tag{var\"#validation_mse#23\"{var\"#20#22\"{cf_params, Dict{String, typeof(get_abs_neighborhood)}, Int64, Matrix{Float32}}, RatingsDataset, RatingsDataset}, Float32}}(0.12858586,0.0,0.0,1.0)]\n",
      "\u001b[32mProgress: 100%|███████████████████████████| Time: 0:04:27 ( 0.31  s/it)\u001b[39m\n",
      "\u001b[38;5;4m\u001b[1m[ \u001b[22m\u001b[39m\u001b[38;5;4m\u001b[1mDebug: \u001b[22m\u001b[39m20220316 02:48:38 loss: Dual{ForwardDiff.Tag{var\"#validation_mse#23\"{var\"#20#22\"{cf_params, Dict{String, typeof(get_abs_neighborhood)}, Int64, Matrix{Float32}}, RatingsDataset, RatingsDataset}, Float32}}(1.2864994,-0.013906533,0.011503731,0.0014122059) β: Dual{ForwardDiff.Tag{var\"#validation_mse#23\"{var\"#20#22\"{cf_params, Dict{String, typeof(get_abs_neighborhood)}, Int64, Matrix{Float32}}, RatingsDataset, RatingsDataset}, Float32}}(1.2391616,0.43827066,-0.7381349,1.8463408): λ ForwardDiff.Dual{ForwardDiff.Tag{var\"#validation_mse#23\"{var\"#20#22\"{cf_params, Dict{String, typeof(get_abs_neighborhood)}, Int64, Matrix{Float32}}, RatingsDataset, RatingsDataset}, Float32}, Float32, 3}[Dual{ForwardDiff.Tag{var\"#validation_mse#23\"{var\"#20#22\"{cf_params, Dict{String, typeof(get_abs_neighborhood)}, Int64, Matrix{Float32}}, RatingsDataset, RatingsDataset}, Float32}}(1.0663768,1.0,0.0,0.0), Dual{ForwardDiff.Tag{var\"#validation_mse#23\"{var\"#20#22\"{cf_params, Dict{String, typeof(get_abs_neighborhood)}, Int64, Matrix{Float32}}, RatingsDataset, RatingsDataset}, Float32}}(1.1393765,0.0,1.0,0.0), Dual{ForwardDiff.Tag{var\"#validation_mse#23\"{var\"#20#22\"{cf_params, Dict{String, typeof(get_abs_neighborhood)}, Int64, Matrix{Float32}}, RatingsDataset, RatingsDataset}, Float32}}(0.23649552,0.0,0.0,1.0)]\n"
     ]
    },
    {
     "name": "stdout",
     "output_type": "stream",
     "text": [
      "     5     1.286499e+00     1.390653e-02\n",
      " * Current step size: 0.12024845\n",
      " * time: 5655.288016080856\n",
      " * g(x): Float32[-0.013906533, 0.011503731, 0.0014122059]\n",
      " * x: Float32[1.0663768, 1.1393765, 0.23649552]\n"
     ]
    },
    {
     "name": "stderr",
     "output_type": "stream",
     "text": [
      "\u001b[32mProgress: 100%|███████████████████████████| Time: 0:04:27 ( 0.31  s/it)\u001b[39m\n",
      "\u001b[38;5;4m\u001b[1m[ \u001b[22m\u001b[39m\u001b[38;5;4m\u001b[1mDebug: \u001b[22m\u001b[39m20220316 02:53:48 loss: Dual{ForwardDiff.Tag{var\"#validation_mse#23\"{var\"#20#22\"{cf_params, Dict{String, typeof(get_abs_neighborhood)}, Int64, Matrix{Float32}}, RatingsDataset, RatingsDataset}, Float32}}(1.4190794,-0.41600904,-2.406634e-7,2.3461351) β: Dual{ForwardDiff.Tag{var\"#validation_mse#23\"{var\"#20#22\"{cf_params, Dict{String, typeof(get_abs_neighborhood)}, Int64, Matrix{Float32}}, RatingsDataset, RatingsDataset}, Float32}}(5.2695577e-6,2.3314052,-1.6481792e-6,-13.513282): λ ForwardDiff.Dual{ForwardDiff.Tag{var\"#validation_mse#23\"{var\"#20#22\"{cf_params, Dict{String, typeof(get_abs_neighborhood)}, Int64, Matrix{Float32}}, RatingsDataset, RatingsDataset}, Float32}, Float32, 3}[Dual{ForwardDiff.Tag{var\"#validation_mse#23\"{var\"#20#22\"{cf_params, Dict{String, typeof(get_abs_neighborhood)}, Int64, Matrix{Float32}}, RatingsDataset, RatingsDataset}, Float32}}(1.2156942,1.0,0.0,0.0), Dual{ForwardDiff.Tag{var\"#validation_mse#23\"{var\"#20#22\"{cf_params, Dict{String, typeof(get_abs_neighborhood)}, Int64, Matrix{Float32}}, RatingsDataset, RatingsDataset}, Float32}}(1.1352277,0.0,1.0,0.0), Dual{ForwardDiff.Tag{var\"#validation_mse#23\"{var\"#20#22\"{cf_params, Dict{String, typeof(get_abs_neighborhood)}, Int64, Matrix{Float32}}, RatingsDataset, RatingsDataset}, Float32}}(-0.03519553,0.0,0.0,1.0)]\n",
      "\u001b[32mProgress: 100%|███████████████████████████| Time: 0:04:19 ( 0.30  s/it)\u001b[39m\n",
      "\u001b[38;5;4m\u001b[1m[ \u001b[22m\u001b[39m\u001b[38;5;4m\u001b[1mDebug: \u001b[22m\u001b[39m20220316 02:58:49 loss: Dual{ForwardDiff.Tag{var\"#validation_mse#23\"{var\"#20#22\"{cf_params, Dict{String, typeof(get_abs_neighborhood)}, Int64, Matrix{Float32}}, RatingsDataset, RatingsDataset}, Float32}}(1.2858679,-0.01995991,0.012706462,-0.01804697) β: Dual{ForwardDiff.Tag{var\"#validation_mse#23\"{var\"#20#22\"{cf_params, Dict{String, typeof(get_abs_neighborhood)}, Int64, Matrix{Float32}}, RatingsDataset, RatingsDataset}, Float32}}(0.98031664,0.20322737,-0.59546876,2.4548533): λ ForwardDiff.Dual{ForwardDiff.Tag{var\"#validation_mse#23\"{var\"#20#22\"{cf_params, Dict{String, typeof(get_abs_neighborhood)}, Int64, Matrix{Float32}}, RatingsDataset, RatingsDataset}, Float32}, Float32, 3}[Dual{ForwardDiff.Tag{var\"#validation_mse#23\"{var\"#20#22\"{cf_params, Dict{String, typeof(get_abs_neighborhood)}, Int64, Matrix{Float32}}, RatingsDataset, RatingsDataset}, Float32}}(1.1410354,1.0,0.0,0.0), Dual{ForwardDiff.Tag{var\"#validation_mse#23\"{var\"#20#22\"{cf_params, Dict{String, typeof(get_abs_neighborhood)}, Int64, Matrix{Float32}}, RatingsDataset, RatingsDataset}, Float32}}(1.137302,0.0,1.0,0.0), Dual{ForwardDiff.Tag{var\"#validation_mse#23\"{var\"#20#22\"{cf_params, Dict{String, typeof(get_abs_neighborhood)}, Int64, Matrix{Float32}}, RatingsDataset, RatingsDataset}, Float32}}(0.10065,0.0,0.0,1.0)]\n",
      "\u001b[32mProgress: 100%|███████████████████████████| Time: 0:04:44 ( 0.33  s/it)\u001b[39m\n",
      "\u001b[38;5;4m\u001b[1m[ \u001b[22m\u001b[39m\u001b[38;5;4m\u001b[1mDebug: \u001b[22m\u001b[39m20220316 03:04:03 loss: Dual{ForwardDiff.Tag{var\"#validation_mse#23\"{var\"#20#22\"{cf_params, Dict{String, typeof(get_abs_neighborhood)}, Int64, Matrix{Float32}}, RatingsDataset, RatingsDataset}, Float32}}(1.285904,-0.015028061,0.01201636,-0.0031938434) β: Dual{ForwardDiff.Tag{var\"#validation_mse#23\"{var\"#20#22\"{cf_params, Dict{String, typeof(get_abs_neighborhood)}, Int64, Matrix{Float32}}, RatingsDataset, RatingsDataset}, Float32}}(1.102843,0.30045924,-0.66225916,2.1067293): λ ForwardDiff.Dual{ForwardDiff.Tag{var\"#validation_mse#23\"{var\"#20#22\"{cf_params, Dict{String, typeof(get_abs_neighborhood)}, Int64, Matrix{Float32}}, RatingsDataset, RatingsDataset}, Float32}, Float32, 3}[Dual{ForwardDiff.Tag{var\"#validation_mse#23\"{var\"#20#22\"{cf_params, Dict{String, typeof(get_abs_neighborhood)}, Int64, Matrix{Float32}}, RatingsDataset, RatingsDataset}, Float32}}(1.1091442,1.0,0.0,0.0), Dual{ForwardDiff.Tag{var\"#validation_mse#23\"{var\"#20#22\"{cf_params, Dict{String, typeof(get_abs_neighborhood)}, Int64, Matrix{Float32}}, RatingsDataset, RatingsDataset}, Float32}}(1.1381882,0.0,1.0,0.0), Dual{ForwardDiff.Tag{var\"#validation_mse#23\"{var\"#20#22\"{cf_params, Dict{String, typeof(get_abs_neighborhood)}, Int64, Matrix{Float32}}, RatingsDataset, RatingsDataset}, Float32}}(0.15867798,0.0,0.0,1.0)]\n"
     ]
    },
    {
     "name": "stdout",
     "output_type": "stream",
     "text": [
      "     6     1.285904e+00     1.502806e-02\n",
      " * Current step size: 0.28641924\n",
      " * time: 6579.874804973602\n",
      " * g(x): Float32[-0.015028061, 0.01201636, -0.0031938434]\n",
      " * x: Float32[1.1091442, 1.1381882, 0.15867798]\n"
     ]
    },
    {
     "name": "stderr",
     "output_type": "stream",
     "text": [
      "\u001b[32mProgress: 100%|███████████████████████████| Time: 0:04:30 ( 0.31  s/it)\u001b[39m\n",
      "\u001b[38;5;4m\u001b[1m[ \u001b[22m\u001b[39m\u001b[38;5;4m\u001b[1mDebug: \u001b[22m\u001b[39m20220316 03:09:07 loss: Dual{ForwardDiff.Tag{var\"#validation_mse#23\"{var\"#20#22\"{cf_params, Dict{String, typeof(get_abs_neighborhood)}, Int64, Matrix{Float32}}, RatingsDataset, RatingsDataset}, Float32}}(1.2864769,-0.02679735,0.009126775,-0.15111016) β: Dual{ForwardDiff.Tag{var\"#validation_mse#23\"{var\"#20#22\"{cf_params, Dict{String, typeof(get_abs_neighborhood)}, Int64, Matrix{Float32}}, RatingsDataset, RatingsDataset}, Float32}}(0.7973838,0.07563299,-0.4498529,4.441831): λ ForwardDiff.Dual{ForwardDiff.Tag{var\"#validation_mse#23\"{var\"#20#22\"{cf_params, Dict{String, typeof(get_abs_neighborhood)}, Int64, Matrix{Float32}}, RatingsDataset, RatingsDataset}, Float32}, Float32, 3}[Dual{ForwardDiff.Tag{var\"#validation_mse#23\"{var\"#20#22\"{cf_params, Dict{String, typeof(get_abs_neighborhood)}, Int64, Matrix{Float32}}, RatingsDataset, RatingsDataset}, Float32}}(1.2573832,1.0,0.0,0.0), Dual{ForwardDiff.Tag{var\"#validation_mse#23\"{var\"#20#22\"{cf_params, Dict{String, typeof(get_abs_neighborhood)}, Int64, Matrix{Float32}}, RatingsDataset, RatingsDataset}, Float32}}(1.0807925,0.0,1.0,0.0), Dual{ForwardDiff.Tag{var\"#validation_mse#23\"{var\"#20#22\"{cf_params, Dict{String, typeof(get_abs_neighborhood)}, Int64, Matrix{Float32}}, RatingsDataset, RatingsDataset}, Float32}}(0.02751793,0.0,0.0,1.0)]\n",
      "\u001b[32mProgress: 100%|███████████████████████████| Time: 0:04:26 ( 0.31  s/it)\u001b[39m\n",
      "\u001b[38;5;4m\u001b[1m[ \u001b[22m\u001b[39m\u001b[38;5;4m\u001b[1mDebug: \u001b[22m\u001b[39m20220316 03:14:08 loss: Dual{ForwardDiff.Tag{var\"#validation_mse#23\"{var\"#20#22\"{cf_params, Dict{String, typeof(get_abs_neighborhood)}, Int64, Matrix{Float32}}, RatingsDataset, RatingsDataset}, Float32}}(1.285575,-0.01383272,0.0114044,-0.0038924653) β: Dual{ForwardDiff.Tag{var\"#validation_mse#23\"{var\"#20#22\"{cf_params, Dict{String, typeof(get_abs_neighborhood)}, Int64, Matrix{Float32}}, RatingsDataset, RatingsDataset}, Float32}}(1.0742347,0.2654445,-0.6371409,2.2186298): λ ForwardDiff.Dual{ForwardDiff.Tag{var\"#validation_mse#23\"{var\"#20#22\"{cf_params, Dict{String, typeof(get_abs_neighborhood)}, Int64, Matrix{Float32}}, RatingsDataset, RatingsDataset}, Float32}, Float32, 3}[Dual{ForwardDiff.Tag{var\"#validation_mse#23\"{var\"#20#22\"{cf_params, Dict{String, typeof(get_abs_neighborhood)}, Int64, Matrix{Float32}}, RatingsDataset, RatingsDataset}, Float32}}(1.1299264,1.0,0.0,0.0), Dual{ForwardDiff.Tag{var\"#validation_mse#23\"{var\"#20#22\"{cf_params, Dict{String, typeof(get_abs_neighborhood)}, Int64, Matrix{Float32}}, RatingsDataset, RatingsDataset}, Float32}}(1.1301417,0.0,1.0,0.0), Dual{ForwardDiff.Tag{var\"#validation_mse#23\"{var\"#20#22\"{cf_params, Dict{String, typeof(get_abs_neighborhood)}, Int64, Matrix{Float32}}, RatingsDataset, RatingsDataset}, Float32}}(0.1402901,0.0,0.0,1.0)]\n"
     ]
    },
    {
     "name": "stdout",
     "output_type": "stream",
     "text": [
      "     7     1.285575e+00     1.383272e-02\n",
      " * Current step size: 0.14019424\n",
      " * time: 7185.368485927582\n",
      " * g(x): Float32[-0.01383272, 0.0114044, -0.0038924653]\n",
      " * x: Float32[1.1299264, 1.1301417, 0.1402901]\n"
     ]
    },
    {
     "name": "stderr",
     "output_type": "stream",
     "text": [
      "\u001b[32mProgress: 100%|███████████████████████████| Time: 0:04:20 ( 0.30  s/it)\u001b[39m\n",
      "\u001b[38;5;4m\u001b[1m[ \u001b[22m\u001b[39m\u001b[38;5;4m\u001b[1mDebug: \u001b[22m\u001b[39m20220316 03:19:09 loss: Dual{ForwardDiff.Tag{var\"#validation_mse#23\"{var\"#20#22\"{cf_params, Dict{String, typeof(get_abs_neighborhood)}, Int64, Matrix{Float32}}, RatingsDataset, RatingsDataset}, Float32}}(1.2837851,-0.0038950369,0.0005458897,-0.0013831442) β: Dual{ForwardDiff.Tag{var\"#validation_mse#23\"{var\"#20#22\"{cf_params, Dict{String, typeof(get_abs_neighborhood)}, Int64, Matrix{Float32}}, RatingsDataset, RatingsDataset}, Float32}}(0.9738928,0.122523606,-0.4571091,3.2067091): λ ForwardDiff.Dual{ForwardDiff.Tag{var\"#validation_mse#23\"{var\"#20#22\"{cf_params, Dict{String, typeof(get_abs_neighborhood)}, Int64, Matrix{Float32}}, RatingsDataset, RatingsDataset}, Float32}, Float32, 3}[Dual{ForwardDiff.Tag{var\"#validation_mse#23\"{var\"#20#22\"{cf_params, Dict{String, typeof(get_abs_neighborhood)}, Int64, Matrix{Float32}}, RatingsDataset, RatingsDataset}, Float32}}(1.2837185,1.0,0.0,0.0), Dual{ForwardDiff.Tag{var\"#validation_mse#23\"{var\"#20#22\"{cf_params, Dict{String, typeof(get_abs_neighborhood)}, Int64, Matrix{Float32}}, RatingsDataset, RatingsDataset}, Float32}}(1.0119292,0.0,1.0,0.0), Dual{ForwardDiff.Tag{var\"#validation_mse#23\"{var\"#20#22\"{cf_params, Dict{String, typeof(get_abs_neighborhood)}, Int64, Matrix{Float32}}, RatingsDataset, RatingsDataset}, Float32}}(0.066585556,0.0,0.0,1.0)]\n",
      "\u001b[32mProgress: 100%|███████████████████████████| Time: 0:04:01 ( 0.28  s/it)\u001b[39m\n",
      "\u001b[38;5;4m\u001b[1m[ \u001b[22m\u001b[39m\u001b[38;5;4m\u001b[1mDebug: \u001b[22m\u001b[39m20220316 03:24:00 loss: Dual{ForwardDiff.Tag{var\"#validation_mse#23\"{var\"#20#22\"{cf_params, Dict{String, typeof(get_abs_neighborhood)}, Int64, Matrix{Float32}}, RatingsDataset, RatingsDataset}, Float32}}(1.4190799,-0.11400085,-1.1316704e-8,0.36288917) β: Dual{ForwardDiff.Tag{var\"#validation_mse#23\"{var\"#20#22\"{cf_params, Dict{String, typeof(get_abs_neighborhood)}, Int64, Matrix{Float32}}, RatingsDataset, RatingsDataset}, Float32}}(8.437786e-8,1.6958208,1.745862e-7,-5.510046): λ ForwardDiff.Dual{ForwardDiff.Tag{var\"#validation_mse#23\"{var\"#20#22\"{cf_params, Dict{String, typeof(get_abs_neighborhood)}, Int64, Matrix{Float32}}, RatingsDataset, RatingsDataset}, Float32}, Float32, 3}[Dual{ForwardDiff.Tag{var\"#validation_mse#23\"{var\"#20#22\"{cf_params, Dict{String, typeof(get_abs_neighborhood)}, Int64, Matrix{Float32}}, RatingsDataset, RatingsDataset}, Float32}}(1.8988863,1.0,0.0,0.0), Dual{ForwardDiff.Tag{var\"#validation_mse#23\"{var\"#20#22\"{cf_params, Dict{String, typeof(get_abs_neighborhood)}, Int64, Matrix{Float32}}, RatingsDataset, RatingsDataset}, Float32}}(0.53907907,0.0,1.0,0.0), Dual{ForwardDiff.Tag{var\"#validation_mse#23\"{var\"#20#22\"{cf_params, Dict{String, typeof(get_abs_neighborhood)}, Int64, Matrix{Float32}}, RatingsDataset, RatingsDataset}, Float32}}(-0.2282326,0.0,0.0,1.0)]\n",
      "\u001b[32mProgress: 100%|███████████████████████████| Time: 0:04:18 ( 0.30  s/it)\u001b[39m\n",
      "\u001b[38;5;4m\u001b[1m[ \u001b[22m\u001b[39m\u001b[38;5;4m\u001b[1mDebug: \u001b[22m\u001b[39m20220316 03:28:57 loss: Dual{ForwardDiff.Tag{var\"#validation_mse#23\"{var\"#20#22\"{cf_params, Dict{String, typeof(get_abs_neighborhood)}, Int64, Matrix{Float32}}, RatingsDataset, RatingsDataset}, Float32}}(1.4190786,-1.3028355,-5.043427e-9,7.9179974) β: Dual{ForwardDiff.Tag{var\"#validation_mse#23\"{var\"#20#22\"{cf_params, Dict{String, typeof(get_abs_neighborhood)}, Int64, Matrix{Float32}}, RatingsDataset, RatingsDataset}, Float32}}(9.851095e-6,6.1389146,-2.022544e-6,-35.344753): λ ForwardDiff.Dual{ForwardDiff.Tag{var\"#validation_mse#23\"{var\"#20#22\"{cf_params, Dict{String, typeof(get_abs_neighborhood)}, Int64, Matrix{Float32}}, RatingsDataset, RatingsDataset}, Float32}, Float32, 3}[Dual{ForwardDiff.Tag{var\"#validation_mse#23\"{var\"#20#22\"{cf_params, Dict{String, typeof(get_abs_neighborhood)}, Int64, Matrix{Float32}}, RatingsDataset, RatingsDataset}, Float32}}(1.5144064,1.0,0.0,0.0), Dual{ForwardDiff.Tag{var\"#validation_mse#23\"{var\"#20#22\"{cf_params, Dict{String, typeof(get_abs_neighborhood)}, Int64, Matrix{Float32}}, RatingsDataset, RatingsDataset}, Float32}}(0.8346104,0.0,1.0,0.0), Dual{ForwardDiff.Tag{var\"#validation_mse#23\"{var\"#20#22\"{cf_params, Dict{String, typeof(get_abs_neighborhood)}, Int64, Matrix{Float32}}, RatingsDataset, RatingsDataset}, Float32}}(-0.043971255,0.0,0.0,1.0)]\n",
      "\u001b[32mProgress: 100%|███████████████████████████| Time: 0:04:08 ( 0.29  s/it)\u001b[39m\n",
      "\u001b[38;5;4m\u001b[1m[ \u001b[22m\u001b[39m\u001b[38;5;4m\u001b[1mDebug: \u001b[22m\u001b[39m20220316 03:33:56 loss: Dual{ForwardDiff.Tag{var\"#validation_mse#23\"{var\"#20#22\"{cf_params, Dict{String, typeof(get_abs_neighborhood)}, Int64, Matrix{Float32}}, RatingsDataset, RatingsDataset}, Float32}}(1.2837497,-0.0049677202,-0.0020758098,-0.012442824) β: Dual{ForwardDiff.Tag{var\"#validation_mse#23\"{var\"#20#22\"{cf_params, Dict{String, typeof(get_abs_neighborhood)}, Int64, Matrix{Float32}}, RatingsDataset, RatingsDataset}, Float32}}(0.9274911,0.089452565,-0.40792364,3.6996663): λ ForwardDiff.Dual{ForwardDiff.Tag{var\"#validation_mse#23\"{var\"#20#22\"{cf_params, Dict{String, typeof(get_abs_neighborhood)}, Int64, Matrix{Float32}}, RatingsDataset, RatingsDataset}, Float32}, Float32, 3}[Dual{ForwardDiff.Tag{var\"#validation_mse#23\"{var\"#20#22\"{cf_params, Dict{String, typeof(get_abs_neighborhood)}, Int64, Matrix{Float32}}, RatingsDataset, RatingsDataset}, Float32}}(1.3221664,1.0,0.0,0.0), Dual{ForwardDiff.Tag{var\"#validation_mse#23\"{var\"#20#22\"{cf_params, Dict{String, typeof(get_abs_neighborhood)}, Int64, Matrix{Float32}}, RatingsDataset, RatingsDataset}, Float32}}(0.9823761,0.0,1.0,0.0), Dual{ForwardDiff.Tag{var\"#validation_mse#23\"{var\"#20#22\"{cf_params, Dict{String, typeof(get_abs_neighborhood)}, Int64, Matrix{Float32}}, RatingsDataset, RatingsDataset}, Float32}}(0.04815942,0.0,0.0,1.0)]\n",
      "\u001b[32mProgress: 100%|███████████████████████████| Time: 0:03:59 ( 0.28  s/it)\u001b[39m\n",
      "\u001b[38;5;4m\u001b[1m[ \u001b[22m\u001b[39m\u001b[38;5;4m\u001b[1mDebug: \u001b[22m\u001b[39m20220316 03:38:49 loss: Dual{ForwardDiff.Tag{var\"#validation_mse#23\"{var\"#20#22\"{cf_params, Dict{String, typeof(get_abs_neighborhood)}, Int64, Matrix{Float32}}, RatingsDataset, RatingsDataset}, Float32}}(1.2837408,-0.004113851,-0.00063396536,-0.004582454) β: Dual{ForwardDiff.Tag{var\"#validation_mse#23\"{var\"#20#22\"{cf_params, Dict{String, typeof(get_abs_neighborhood)}, Int64, Matrix{Float32}}, RatingsDataset, RatingsDataset}, Float32}}(0.9547272,0.107738465,-0.4354391,3.39848): λ ForwardDiff.Dual{ForwardDiff.Tag{var\"#validation_mse#23\"{var\"#20#22\"{cf_params, Dict{String, typeof(get_abs_neighborhood)}, Int64, Matrix{Float32}}, RatingsDataset, RatingsDataset}, Float32}, Float32, 3}[Dual{ForwardDiff.Tag{var\"#validation_mse#23\"{var\"#20#22\"{cf_params, Dict{String, typeof(get_abs_neighborhood)}, Int64, Matrix{Float32}}, RatingsDataset, RatingsDataset}, Float32}}(1.3008108,1.0,0.0,0.0), Dual{ForwardDiff.Tag{var\"#validation_mse#23\"{var\"#20#22\"{cf_params, Dict{String, typeof(get_abs_neighborhood)}, Int64, Matrix{Float32}}, RatingsDataset, RatingsDataset}, Float32}}(0.9987911,0.0,1.0,0.0), Dual{ForwardDiff.Tag{var\"#validation_mse#23\"{var\"#20#22\"{cf_params, Dict{String, typeof(get_abs_neighborhood)}, Int64, Matrix{Float32}}, RatingsDataset, RatingsDataset}, Float32}}(0.058394037,0.0,0.0,1.0)]\n"
     ]
    },
    {
     "name": "stdout",
     "output_type": "stream",
     "text": [
      "     8     1.283741e+00     4.582454e-03\n",
      " * Current step size: 1.1111399\n",
      " * time: 8666.382248878479\n",
      " * g(x): Float32[-0.004113851, -0.00063396536, -0.004582454]\n",
      " * x: Float32[1.3008108, 0.9987911, 0.058394037]\n"
     ]
    },
    {
     "name": "stderr",
     "output_type": "stream",
     "text": [
      "\u001b[32mProgress: 100%|███████████████████████████| Time: 0:04:24 ( 0.31  s/it)\u001b[39m\n",
      "\u001b[38;5;4m\u001b[1m[ \u001b[22m\u001b[39m\u001b[38;5;4m\u001b[1mDebug: \u001b[22m\u001b[39m20220316 03:43:51 loss: Dual{ForwardDiff.Tag{var\"#validation_mse#23\"{var\"#20#22\"{cf_params, Dict{String, typeof(get_abs_neighborhood)}, Int64, Matrix{Float32}}, RatingsDataset, RatingsDataset}, Float32}}(1.284008,0.006046908,-0.0014052041,0.02082595) β: Dual{ForwardDiff.Tag{var\"#validation_mse#23\"{var\"#20#22\"{cf_params, Dict{String, typeof(get_abs_neighborhood)}, Int64, Matrix{Float32}}, RatingsDataset, RatingsDataset}, Float32}}(1.0328768,0.14914237,-0.46307963,3.1024315): λ ForwardDiff.Dual{ForwardDiff.Tag{var\"#validation_mse#23\"{var\"#20#22\"{cf_params, Dict{String, typeof(get_abs_neighborhood)}, Int64, Matrix{Float32}}, RatingsDataset, RatingsDataset}, Float32}, Float32, 3}[Dual{ForwardDiff.Tag{var\"#validation_mse#23\"{var\"#20#22\"{cf_params, Dict{String, typeof(get_abs_neighborhood)}, Int64, Matrix{Float32}}, RatingsDataset, RatingsDataset}, Float32}}(1.3278382,1.0,0.0,0.0), Dual{ForwardDiff.Tag{var\"#validation_mse#23\"{var\"#20#22\"{cf_params, Dict{String, typeof(get_abs_neighborhood)}, Int64, Matrix{Float32}}, RatingsDataset, RatingsDataset}, Float32}}(0.99897873,0.0,1.0,0.0), Dual{ForwardDiff.Tag{var\"#validation_mse#23\"{var\"#20#22\"{cf_params, Dict{String, typeof(get_abs_neighborhood)}, Int64, Matrix{Float32}}, RatingsDataset, RatingsDataset}, Float32}}(0.08155399,0.0,0.0,1.0)]\n",
      "\u001b[32mProgress: 100%|███████████████████████████| Time: 0:04:09 ( 0.29  s/it)\u001b[39m\n",
      "\u001b[38;5;4m\u001b[1m[ \u001b[22m\u001b[39m\u001b[38;5;4m\u001b[1mDebug: \u001b[22m\u001b[39m20220316 03:48:45 loss: Dual{ForwardDiff.Tag{var\"#validation_mse#23\"{var\"#20#22\"{cf_params, Dict{String, typeof(get_abs_neighborhood)}, Int64, Matrix{Float32}}, RatingsDataset, RatingsDataset}, Float32}}(1.2837229,-0.0012329834,-0.00085573713,0.004266373) β: Dual{ForwardDiff.Tag{var\"#validation_mse#23\"{var\"#20#22\"{cf_params, Dict{String, typeof(get_abs_neighborhood)}, Int64, Matrix{Float32}}, RatingsDataset, RatingsDataset}, Float32}}(0.9749617,0.117304385,-0.4425378,3.3020144): λ ForwardDiff.Dual{ForwardDiff.Tag{var\"#validation_mse#23\"{var\"#20#22\"{cf_params, Dict{String, typeof(get_abs_neighborhood)}, Int64, Matrix{Float32}}, RatingsDataset, RatingsDataset}, Float32}, Float32, 3}[Dual{ForwardDiff.Tag{var\"#validation_mse#23\"{var\"#20#22\"{cf_params, Dict{String, typeof(get_abs_neighborhood)}, Int64, Matrix{Float32}}, RatingsDataset, RatingsDataset}, Float32}}(1.307621,1.0,0.0,0.0), Dual{ForwardDiff.Tag{var\"#validation_mse#23\"{var\"#20#22\"{cf_params, Dict{String, typeof(get_abs_neighborhood)}, Int64, Matrix{Float32}}, RatingsDataset, RatingsDataset}, Float32}}(0.99883837,0.0,1.0,0.0), Dual{ForwardDiff.Tag{var\"#validation_mse#23\"{var\"#20#22\"{cf_params, Dict{String, typeof(get_abs_neighborhood)}, Int64, Matrix{Float32}}, RatingsDataset, RatingsDataset}, Float32}}(0.064229704,0.0,0.0,1.0)]\n"
     ]
    },
    {
     "name": "stdout",
     "output_type": "stream",
     "text": [
      "     9     1.283723e+00     4.266373e-03\n",
      " * Current step size: 0.25197238\n",
      " * time: 9262.033529043198\n",
      " * g(x): Float32[-0.0012329834, -0.00085573713, 0.004266373]\n",
      " * x: Float32[1.307621, 0.99883837, 0.064229704]\n"
     ]
    },
    {
     "name": "stderr",
     "output_type": "stream",
     "text": [
      "\u001b[32mProgress: 100%|███████████████████████████| Time: 0:04:07 ( 0.29  s/it)\u001b[39m\n",
      "\u001b[38;5;4m\u001b[1m[ \u001b[22m\u001b[39m\u001b[38;5;4m\u001b[1mDebug: \u001b[22m\u001b[39m20220316 03:53:42 loss: Dual{ForwardDiff.Tag{var\"#validation_mse#23\"{var\"#20#22\"{cf_params, Dict{String, typeof(get_abs_neighborhood)}, Int64, Matrix{Float32}}, RatingsDataset, RatingsDataset}, Float32}}(1.2836341,-0.00144414,-0.0010329215,-0.003196733) β: Dual{ForwardDiff.Tag{var\"#validation_mse#23\"{var\"#20#22\"{cf_params, Dict{String, typeof(get_abs_neighborhood)}, Int64, Matrix{Float32}}, RatingsDataset, RatingsDataset}, Float32}}(0.9139775,0.08363471,-0.41297245,3.841667): λ ForwardDiff.Dual{ForwardDiff.Tag{var\"#validation_mse#23\"{var\"#20#22\"{cf_params, Dict{String, typeof(get_abs_neighborhood)}, Int64, Matrix{Float32}}, RatingsDataset, RatingsDataset}, Float32}, Float32, 3}[Dual{ForwardDiff.Tag{var\"#validation_mse#23\"{var\"#20#22\"{cf_params, Dict{String, typeof(get_abs_neighborhood)}, Int64, Matrix{Float32}}, RatingsDataset, RatingsDataset}, Float32}}(1.3605425,1.0,0.0,0.0), Dual{ForwardDiff.Tag{var\"#validation_mse#23\"{var\"#20#22\"{cf_params, Dict{String, typeof(get_abs_neighborhood)}, Int64, Matrix{Float32}}, RatingsDataset, RatingsDataset}, Float32}}(0.994477,0.0,1.0,0.0), Dual{ForwardDiff.Tag{var\"#validation_mse#23\"{var\"#20#22\"{cf_params, Dict{String, typeof(get_abs_neighborhood)}, Int64, Matrix{Float32}}, RatingsDataset, RatingsDataset}, Float32}}(0.0450309,0.0,0.0,1.0)]\n",
      "\u001b[32mProgress: 100%|███████████████████████████| Time: 0:04:16 ( 0.30  s/it)\u001b[39m\n",
      "\u001b[38;5;4m\u001b[1m[ \u001b[22m\u001b[39m\u001b[38;5;4m\u001b[1mDebug: \u001b[22m\u001b[39m20220316 03:58:40 loss: Dual{ForwardDiff.Tag{var\"#validation_mse#23\"{var\"#20#22\"{cf_params, Dict{String, typeof(get_abs_neighborhood)}, Int64, Matrix{Float32}}, RatingsDataset, RatingsDataset}, Float32}}(1.4190781,0.07482281,-1.2728688e-7,-1.1210105) β: Dual{ForwardDiff.Tag{var\"#validation_mse#23\"{var\"#20#22\"{cf_params, Dict{String, typeof(get_abs_neighborhood)}, Int64, Matrix{Float32}}, RatingsDataset, RatingsDataset}, Float32}}(9.873242e-6,0.025476923,-4.1304197e-6,3.5211432): λ ForwardDiff.Dual{ForwardDiff.Tag{var\"#validation_mse#23\"{var\"#20#22\"{cf_params, Dict{String, typeof(get_abs_neighborhood)}, Int64, Matrix{Float32}}, RatingsDataset, RatingsDataset}, Float32}, Float32, 3}[Dual{ForwardDiff.Tag{var\"#validation_mse#23\"{var\"#20#22\"{cf_params, Dict{String, typeof(get_abs_neighborhood)}, Int64, Matrix{Float32}}, RatingsDataset, RatingsDataset}, Float32}}(1.5722284,1.0,0.0,0.0), Dual{ForwardDiff.Tag{var\"#validation_mse#23\"{var\"#20#22\"{cf_params, Dict{String, typeof(get_abs_neighborhood)}, Int64, Matrix{Float32}}, RatingsDataset, RatingsDataset}, Float32}}(0.9770313,0.0,1.0,0.0), Dual{ForwardDiff.Tag{var\"#validation_mse#23\"{var\"#20#22\"{cf_params, Dict{String, typeof(get_abs_neighborhood)}, Int64, Matrix{Float32}}, RatingsDataset, RatingsDataset}, Float32}}(-0.03176432,0.0,0.0,1.0)]\n",
      "\u001b[32mProgress: 100%|███████████████████████████| Time: 0:04:02 ( 0.28  s/it)\u001b[39m\n",
      "\u001b[38;5;4m\u001b[1m[ \u001b[22m\u001b[39m\u001b[38;5;4m\u001b[1mDebug: \u001b[22m\u001b[39m20220316 04:03:38 loss: Dual{ForwardDiff.Tag{var\"#validation_mse#23\"{var\"#20#22\"{cf_params, Dict{String, typeof(get_abs_neighborhood)}, Int64, Matrix{Float32}}, RatingsDataset, RatingsDataset}, Float32}}(1.283634,-0.0014468622,-0.001033025,-0.0032247314) β: Dual{ForwardDiff.Tag{var\"#validation_mse#23\"{var\"#20#22\"{cf_params, Dict{String, typeof(get_abs_neighborhood)}, Int64, Matrix{Float32}}, RatingsDataset, RatingsDataset}, Float32}}(0.91386425,0.083579525,-0.41292128,3.8428683): λ ForwardDiff.Dual{ForwardDiff.Tag{var\"#validation_mse#23\"{var\"#20#22\"{cf_params, Dict{String, typeof(get_abs_neighborhood)}, Int64, Matrix{Float32}}, RatingsDataset, RatingsDataset}, Float32}, Float32, 3}[Dual{ForwardDiff.Tag{var\"#validation_mse#23\"{var\"#20#22\"{cf_params, Dict{String, typeof(get_abs_neighborhood)}, Int64, Matrix{Float32}}, RatingsDataset, RatingsDataset}, Float32}}(1.36063,1.0,0.0,0.0), Dual{ForwardDiff.Tag{var\"#validation_mse#23\"{var\"#20#22\"{cf_params, Dict{String, typeof(get_abs_neighborhood)}, Int64, Matrix{Float32}}, RatingsDataset, RatingsDataset}, Float32}}(0.9944697,0.0,1.0,0.0), Dual{ForwardDiff.Tag{var\"#validation_mse#23\"{var\"#20#22\"{cf_params, Dict{String, typeof(get_abs_neighborhood)}, Int64, Matrix{Float32}}, RatingsDataset, RatingsDataset}, Float32}}(0.044999126,0.0,0.0,1.0)]\n"
     ]
    },
    {
     "name": "stdout",
     "output_type": "stream",
     "text": [
      "    10     1.283634e+00     3.224731e-03\n",
      " * Current step size: 1.001655\n",
      " * time: 10155.387382030487\n",
      " * g(x): Float32[-0.0014468622, -0.001033025, -0.0032247314]\n",
      " * x: Float32[1.36063, 0.9944697, 0.044999126]\n"
     ]
    },
    {
     "name": "stderr",
     "output_type": "stream",
     "text": [
      "\u001b[32mProgress: 100%|███████████████████████████| Time: 0:04:12 ( 0.29  s/it)\u001b[39m\n",
      "\u001b[38;5;4m\u001b[1m[ \u001b[22m\u001b[39m\u001b[38;5;4m\u001b[1mDebug: \u001b[22m\u001b[39m20220316 04:08:36 loss: Dual{ForwardDiff.Tag{var\"#validation_mse#23\"{var\"#20#22\"{cf_params, Dict{String, typeof(get_abs_neighborhood)}, Int64, Matrix{Float32}}, RatingsDataset, RatingsDataset}, Float32}}(1.2836181,-0.00038398794,-0.0003930402,-0.00065852026) β: Dual{ForwardDiff.Tag{var\"#validation_mse#23\"{var\"#20#22\"{cf_params, Dict{String, typeof(get_abs_neighborhood)}, Int64, Matrix{Float32}}, RatingsDataset, RatingsDataset}, Float32}}(0.9046704,0.08046402,-0.41534323,3.927145): λ ForwardDiff.Dual{ForwardDiff.Tag{var\"#validation_mse#23\"{var\"#20#22\"{cf_params, Dict{String, typeof(get_abs_neighborhood)}, Int64, Matrix{Float32}}, RatingsDataset, RatingsDataset}, Float32}, Float32, 3}[Dual{ForwardDiff.Tag{var\"#validation_mse#23\"{var\"#20#22\"{cf_params, Dict{String, typeof(get_abs_neighborhood)}, Int64, Matrix{Float32}}, RatingsDataset, RatingsDataset}, Float32}}(1.3770893,1.0,0.0,0.0), Dual{ForwardDiff.Tag{var\"#validation_mse#23\"{var\"#20#22\"{cf_params, Dict{String, typeof(get_abs_neighborhood)}, Int64, Matrix{Float32}}, RatingsDataset, RatingsDataset}, Float32}}(1.0012698,0.0,1.0,0.0), Dual{ForwardDiff.Tag{var\"#validation_mse#23\"{var\"#20#22\"{cf_params, Dict{String, typeof(get_abs_neighborhood)}, Int64, Matrix{Float32}}, RatingsDataset, RatingsDataset}, Float32}}(0.043010592,0.0,0.0,1.0)]\n",
      "\u001b[32mProgress: 100%|███████████████████████████| Time: 0:04:15 ( 0.30  s/it)\u001b[39m\n",
      "\u001b[38;5;4m\u001b[1m[ \u001b[22m\u001b[39m\u001b[38;5;4m\u001b[1mDebug: \u001b[22m\u001b[39m20220316 04:13:37 loss: Dual{ForwardDiff.Tag{var\"#validation_mse#23\"{var\"#20#22\"{cf_params, Dict{String, typeof(get_abs_neighborhood)}, Int64, Matrix{Float32}}, RatingsDataset, RatingsDataset}, Float32}}(1.2837007,0.0028731492,0.002210329,0.00844974) β: Dual{ForwardDiff.Tag{var\"#validation_mse#23\"{var\"#20#22\"{cf_params, Dict{String, typeof(get_abs_neighborhood)}, Int64, Matrix{Float32}}, RatingsDataset, RatingsDataset}, Float32}}(0.8653768,0.06946319,-0.42282343,4.324002): λ ForwardDiff.Dual{ForwardDiff.Tag{var\"#validation_mse#23\"{var\"#20#22\"{cf_params, Dict{String, typeof(get_abs_neighborhood)}, Int64, Matrix{Float32}}, RatingsDataset, RatingsDataset}, Float32}, Float32, 3}[Dual{ForwardDiff.Tag{var\"#validation_mse#23\"{var\"#20#22\"{cf_params, Dict{String, typeof(get_abs_neighborhood)}, Int64, Matrix{Float32}}, RatingsDataset, RatingsDataset}, Float32}}(1.442926,1.0,0.0,0.0), Dual{ForwardDiff.Tag{var\"#validation_mse#23\"{var\"#20#22\"{cf_params, Dict{String, typeof(get_abs_neighborhood)}, Int64, Matrix{Float32}}, RatingsDataset, RatingsDataset}, Float32}}(1.0284703,0.0,1.0,0.0), Dual{ForwardDiff.Tag{var\"#validation_mse#23\"{var\"#20#22\"{cf_params, Dict{String, typeof(get_abs_neighborhood)}, Int64, Matrix{Float32}}, RatingsDataset, RatingsDataset}, Float32}}(0.03505645,0.0,0.0,1.0)]\n",
      "\u001b[32mProgress: 100%|███████████████████████████| Time: 0:04:03 ( 0.28  s/it)\u001b[39m\n",
      "\u001b[38;5;4m\u001b[1m[ \u001b[22m\u001b[39m\u001b[38;5;4m\u001b[1mDebug: \u001b[22m\u001b[39m20220316 04:18:34 loss: Dual{ForwardDiff.Tag{var\"#validation_mse#23\"{var\"#20#22\"{cf_params, Dict{String, typeof(get_abs_neighborhood)}, Int64, Matrix{Float32}}, RatingsDataset, RatingsDataset}, Float32}}(1.2836163,0.00018411367,-2.1358783e-5,0.00078686024) β: Dual{ForwardDiff.Tag{var\"#validation_mse#23\"{var\"#20#22\"{cf_params, Dict{String, typeof(get_abs_neighborhood)}, Int64, Matrix{Float32}}, RatingsDataset, RatingsDataset}, Float32}}(0.8992306,0.07874191,-0.4166469,3.9783366): λ ForwardDiff.Dual{ForwardDiff.Tag{var\"#validation_mse#23\"{var\"#20#22\"{cf_params, Dict{String, typeof(get_abs_neighborhood)}, Int64, Matrix{Float32}}, RatingsDataset, RatingsDataset}, Float32}, Float32, 3}[Dual{ForwardDiff.Tag{var\"#validation_mse#23\"{var\"#20#22\"{cf_params, Dict{String, typeof(get_abs_neighborhood)}, Int64, Matrix{Float32}}, RatingsDataset, RatingsDataset}, Float32}}(1.3865975,1.0,0.0,0.0), Dual{ForwardDiff.Tag{var\"#validation_mse#23\"{var\"#20#22\"{cf_params, Dict{String, typeof(get_abs_neighborhood)}, Int64, Matrix{Float32}}, RatingsDataset, RatingsDataset}, Float32}}(1.0051981,0.0,1.0,0.0), Dual{ForwardDiff.Tag{var\"#validation_mse#23\"{var\"#20#22\"{cf_params, Dict{String, typeof(get_abs_neighborhood)}, Int64, Matrix{Float32}}, RatingsDataset, RatingsDataset}, Float32}}(0.041861843,0.0,0.0,1.0)]\n"
     ]
    },
    {
     "name": "stdout",
     "output_type": "stream",
     "text": [
      "    11     1.283616e+00     7.868602e-04\n",
      " * Current step size: 1.5776857\n",
      " * time: 11051.133995056152\n",
      " * g(x): Float32[0.00018411367, -2.1358783f-5, 0.00078686024]\n",
      " * x: Float32[1.3865975, 1.0051981, 0.041861843]\n"
     ]
    },
    {
     "name": "stderr",
     "output_type": "stream",
     "text": [
      "\u001b[32mProgress: 100%|███████████████████████████| Time: 0:04:01 ( 0.28  s/it)\u001b[39m\n",
      "\u001b[38;5;4m\u001b[1m[ \u001b[22m\u001b[39m\u001b[38;5;4m\u001b[1mDebug: \u001b[22m\u001b[39m20220316 04:23:32 loss: Dual{ForwardDiff.Tag{var\"#validation_mse#23\"{var\"#20#22\"{cf_params, Dict{String, typeof(get_abs_neighborhood)}, Int64, Matrix{Float32}}, RatingsDataset, RatingsDataset}, Float32}}(1.2836163,-6.300029e-5,-2.386161e-6,-0.00055035343) β: Dual{ForwardDiff.Tag{var\"#validation_mse#23\"{var\"#20#22\"{cf_params, Dict{String, typeof(get_abs_neighborhood)}, Int64, Matrix{Float32}}, RatingsDataset, RatingsDataset}, Float32}}(0.8966755,0.07757968,-0.41562396,4.002709): λ ForwardDiff.Dual{ForwardDiff.Tag{var\"#validation_mse#23\"{var\"#20#22\"{cf_params, Dict{String, typeof(get_abs_neighborhood)}, Int64, Matrix{Float32}}, RatingsDataset, RatingsDataset}, Float32}, Float32, 3}[Dual{ForwardDiff.Tag{var\"#validation_mse#23\"{var\"#20#22\"{cf_params, Dict{String, typeof(get_abs_neighborhood)}, Int64, Matrix{Float32}}, RatingsDataset, RatingsDataset}, Float32}}(1.3869728,1.0,0.0,0.0), Dual{ForwardDiff.Tag{var\"#validation_mse#23\"{var\"#20#22\"{cf_params, Dict{String, typeof(get_abs_neighborhood)}, Int64, Matrix{Float32}}, RatingsDataset, RatingsDataset}, Float32}}(1.0051388,0.0,1.0,0.0), Dual{ForwardDiff.Tag{var\"#validation_mse#23\"{var\"#20#22\"{cf_params, Dict{String, typeof(get_abs_neighborhood)}, Int64, Matrix{Float32}}, RatingsDataset, RatingsDataset}, Float32}}(0.041204922,0.0,0.0,1.0)]\n",
      "\u001b[32mProgress: 100%|███████████████████████████| Time: 0:04:01 ( 0.28  s/it)\u001b[39m\n",
      "\u001b[38;5;4m\u001b[1m[ \u001b[22m\u001b[39m\u001b[38;5;4m\u001b[1mDebug: \u001b[22m\u001b[39m20220316 04:28:25 loss: Dual{ForwardDiff.Tag{var\"#validation_mse#23\"{var\"#20#22\"{cf_params, Dict{String, typeof(get_abs_neighborhood)}, Int64, Matrix{Float32}}, RatingsDataset, RatingsDataset}, Float32}}(1.2836163,4.4019336e-5,-1.061255e-5,3.350584e-5) β: Dual{ForwardDiff.Tag{var\"#validation_mse#23\"{var\"#20#22\"{cf_params, Dict{String, typeof(get_abs_neighborhood)}, Int64, Matrix{Float32}}, RatingsDataset, RatingsDataset}, Float32}}(0.8977894,0.07808028,-0.41606787,3.9920661): λ ForwardDiff.Dual{ForwardDiff.Tag{var\"#validation_mse#23\"{var\"#20#22\"{cf_params, Dict{String, typeof(get_abs_neighborhood)}, Int64, Matrix{Float32}}, RatingsDataset, RatingsDataset}, Float32}, Float32, 3}[Dual{ForwardDiff.Tag{var\"#validation_mse#23\"{var\"#20#22\"{cf_params, Dict{String, typeof(get_abs_neighborhood)}, Int64, Matrix{Float32}}, RatingsDataset, RatingsDataset}, Float32}}(1.3868111,1.0,0.0,0.0), Dual{ForwardDiff.Tag{var\"#validation_mse#23\"{var\"#20#22\"{cf_params, Dict{String, typeof(get_abs_neighborhood)}, Int64, Matrix{Float32}}, RatingsDataset, RatingsDataset}, Float32}}(1.0051644,0.0,1.0,0.0), Dual{ForwardDiff.Tag{var\"#validation_mse#23\"{var\"#20#22\"{cf_params, Dict{String, typeof(get_abs_neighborhood)}, Int64, Matrix{Float32}}, RatingsDataset, RatingsDataset}, Float32}}(0.04148796,0.0,0.0,1.0)]\n"
     ]
    },
    {
     "name": "stdout",
     "output_type": "stream",
     "text": [
      "    12     1.283616e+00     4.401934e-05\n",
      " * Current step size: 0.5691462\n",
      " * time: 11641.872767925262\n",
      " * g(x): Float32[4.4019336f-5, -1.061255f-5, 3.350584f-5]\n",
      " * x: Float32[1.3868111, 1.0051644, 0.04148796]\n"
     ]
    },
    {
     "name": "stderr",
     "output_type": "stream",
     "text": [
      "\u001b[32mProgress: 100%|███████████████████████████| Time: 0:04:14 ( 0.30  s/it)\u001b[39m\n",
      "\u001b[38;5;4m\u001b[1m[ \u001b[22m\u001b[39m\u001b[38;5;4m\u001b[1mDebug: \u001b[22m\u001b[39m20220316 04:33:25 loss: Dual{ForwardDiff.Tag{var\"#validation_mse#23\"{var\"#20#22\"{cf_params, Dict{String, typeof(get_abs_neighborhood)}, Int64, Matrix{Float32}}, RatingsDataset, RatingsDataset}, Float32}}(1.2836162,1.2198094e-6,-1.2265946e-5,4.335804e-6) β: Dual{ForwardDiff.Tag{var\"#validation_mse#23\"{var\"#20#22\"{cf_params, Dict{String, typeof(get_abs_neighborhood)}, Int64, Matrix{Float32}}, RatingsDataset, RatingsDataset}, Float32}}(0.89861864,0.0784647,-0.41643742,3.9814057): λ ForwardDiff.Dual{ForwardDiff.Tag{var\"#validation_mse#23\"{var\"#20#22\"{cf_params, Dict{String, typeof(get_abs_neighborhood)}, Int64, Matrix{Float32}}, RatingsDataset, RatingsDataset}, Float32}, Float32, 3}[Dual{ForwardDiff.Tag{var\"#validation_mse#23\"{var\"#20#22\"{cf_params, Dict{String, typeof(get_abs_neighborhood)}, Int64, Matrix{Float32}}, RatingsDataset, RatingsDataset}, Float32}}(1.3855251,1.0,0.0,0.0), Dual{ForwardDiff.Tag{var\"#validation_mse#23\"{var\"#20#22\"{cf_params, Dict{String, typeof(get_abs_neighborhood)}, Int64, Matrix{Float32}}, RatingsDataset, RatingsDataset}, Float32}}(1.0051576,0.0,1.0,0.0), Dual{ForwardDiff.Tag{var\"#validation_mse#23\"{var\"#20#22\"{cf_params, Dict{String, typeof(get_abs_neighborhood)}, Int64, Matrix{Float32}}, RatingsDataset, RatingsDataset}, Float32}}(0.041723352,0.0,0.0,1.0)]\n",
      "\u001b[32mProgress: 100%|███████████████████████████| Time: 0:03:57 ( 0.28  s/it)\u001b[39m\n",
      "\u001b[38;5;4m\u001b[1m[ \u001b[22m\u001b[39m\u001b[38;5;4m\u001b[1mDebug: \u001b[22m\u001b[39m20220316 04:38:17 loss: Dual{ForwardDiff.Tag{var\"#validation_mse#23\"{var\"#20#22\"{cf_params, Dict{String, typeof(get_abs_neighborhood)}, Int64, Matrix{Float32}}, RatingsDataset, RatingsDataset}, Float32}}(1.2836165,-0.00017827279,-1.8326717e-5,-0.00014302436) β: Dual{ForwardDiff.Tag{var\"#validation_mse#23\"{var\"#20#22\"{cf_params, Dict{String, typeof(get_abs_neighborhood)}, Int64, Matrix{Float32}}, RatingsDataset, RatingsDataset}, Float32}}(0.90196174,0.08000707,-0.41791224,3.9390976): λ ForwardDiff.Dual{ForwardDiff.Tag{var\"#validation_mse#23\"{var\"#20#22\"{cf_params, Dict{String, typeof(get_abs_neighborhood)}, Int64, Matrix{Float32}}, RatingsDataset, RatingsDataset}, Float32}, Float32, 3}[Dual{ForwardDiff.Tag{var\"#validation_mse#23\"{var\"#20#22\"{cf_params, Dict{String, typeof(get_abs_neighborhood)}, Int64, Matrix{Float32}}, RatingsDataset, RatingsDataset}, Float32}}(1.3803807,1.0,0.0,0.0), Dual{ForwardDiff.Tag{var\"#validation_mse#23\"{var\"#20#22\"{cf_params, Dict{String, typeof(get_abs_neighborhood)}, Int64, Matrix{Float32}}, RatingsDataset, RatingsDataset}, Float32}}(1.0051303,0.0,1.0,0.0), Dual{ForwardDiff.Tag{var\"#validation_mse#23\"{var\"#20#22\"{cf_params, Dict{String, typeof(get_abs_neighborhood)}, Int64, Matrix{Float32}}, RatingsDataset, RatingsDataset}, Float32}}(0.04266492,0.0,0.0,1.0)]\n",
      "\u001b[32mProgress: 100%|███████████████████████████| Time: 0:04:13 ( 0.30  s/it)\u001b[39m\n",
      "\u001b[38;5;4m\u001b[1m[ \u001b[22m\u001b[39m\u001b[38;5;4m\u001b[1mDebug: \u001b[22m\u001b[39m20220316 04:43:21 loss: Dual{ForwardDiff.Tag{var\"#validation_mse#23\"{var\"#20#22\"{cf_params, Dict{String, typeof(get_abs_neighborhood)}, Int64, Matrix{Float32}}, RatingsDataset, RatingsDataset}, Float32}}(1.2836162,7.9866544e-7,-1.2286327e-5,3.997871e-6) β: Dual{ForwardDiff.Tag{var\"#validation_mse#23\"{var\"#20#22\"{cf_params, Dict{String, typeof(get_abs_neighborhood)}, Int64, Matrix{Float32}}, RatingsDataset, RatingsDataset}, Float32}}(0.898627,0.07846816,-0.41644076,3.9812984): λ ForwardDiff.Dual{ForwardDiff.Tag{var\"#validation_mse#23\"{var\"#20#22\"{cf_params, Dict{String, typeof(get_abs_neighborhood)}, Int64, Matrix{Float32}}, RatingsDataset, RatingsDataset}, Float32}, Float32, 3}[Dual{ForwardDiff.Tag{var\"#validation_mse#23\"{var\"#20#22\"{cf_params, Dict{String, typeof(get_abs_neighborhood)}, Int64, Matrix{Float32}}, RatingsDataset, RatingsDataset}, Float32}}(1.3855128,1.0,0.0,0.0), Dual{ForwardDiff.Tag{var\"#validation_mse#23\"{var\"#20#22\"{cf_params, Dict{String, typeof(get_abs_neighborhood)}, Int64, Matrix{Float32}}, RatingsDataset, RatingsDataset}, Float32}}(1.0051575,0.0,1.0,0.0), Dual{ForwardDiff.Tag{var\"#validation_mse#23\"{var\"#20#22\"{cf_params, Dict{String, typeof(get_abs_neighborhood)}, Int64, Matrix{Float32}}, RatingsDataset, RatingsDataset}, Float32}}(0.04172558,0.0,0.0,1.0)]\n"
     ]
    },
    {
     "name": "stdout",
     "output_type": "stream",
     "text": [
      "    13     1.283616e+00     1.228633e-05\n",
      " * Current step size: 1.0094686\n",
      " * time: 12538.066936016083\n",
      " * g(x): Float32[7.9866544f-7, -1.2286327f-5, 3.997871f-6]\n",
      " * x: Float32[1.3855128, 1.0051575, 0.04172558]\n"
     ]
    },
    {
     "name": "stderr",
     "output_type": "stream",
     "text": [
      "\u001b[32mProgress: 100%|███████████████████████████| Time: 0:04:19 ( 0.30  s/it)\u001b[39m\n",
      "\u001b[38;5;4m\u001b[1m[ \u001b[22m\u001b[39m\u001b[38;5;4m\u001b[1mDebug: \u001b[22m\u001b[39m20220316 04:48:25 loss: Dual{ForwardDiff.Tag{var\"#validation_mse#23\"{var\"#20#22\"{cf_params, Dict{String, typeof(get_abs_neighborhood)}, Int64, Matrix{Float32}}, RatingsDataset, RatingsDataset}, Float32}}(1.2836162,-1.8351525e-8,1.0746943e-6,-6.5136724e-8) β: Dual{ForwardDiff.Tag{var\"#validation_mse#23\"{var\"#20#22\"{cf_params, Dict{String, typeof(get_abs_neighborhood)}, Int64, Matrix{Float32}}, RatingsDataset, RatingsDataset}, Float32}}(0.89857686,0.0784736,-0.4165522,3.9810197): λ ForwardDiff.Dual{ForwardDiff.Tag{var\"#validation_mse#23\"{var\"#20#22\"{cf_params, Dict{String, typeof(get_abs_neighborhood)}, Int64, Matrix{Float32}}, RatingsDataset, RatingsDataset}, Float32}, Float32, 3}[Dual{ForwardDiff.Tag{var\"#validation_mse#23\"{var\"#20#22\"{cf_params, Dict{String, typeof(get_abs_neighborhood)}, Int64, Matrix{Float32}}, RatingsDataset, RatingsDataset}, Float32}}(1.3855063,1.0,0.0,0.0), Dual{ForwardDiff.Tag{var\"#validation_mse#23\"{var\"#20#22\"{cf_params, Dict{String, typeof(get_abs_neighborhood)}, Int64, Matrix{Float32}}, RatingsDataset, RatingsDataset}, Float32}}(1.0052924,0.0,1.0,0.0), Dual{ForwardDiff.Tag{var\"#validation_mse#23\"{var\"#20#22\"{cf_params, Dict{String, typeof(get_abs_neighborhood)}, Int64, Matrix{Float32}}, RatingsDataset, RatingsDataset}, Float32}}(0.041727535,0.0,0.0,1.0)]\n",
      "\u001b[32mProgress: 100%|███████████████████████████| Time: 0:04:00 ( 0.28  s/it)\u001b[39m\n",
      "\u001b[38;5;4m\u001b[1m[ \u001b[22m\u001b[39m\u001b[38;5;4m\u001b[1mDebug: \u001b[22m\u001b[39m20220316 04:53:26 loss: Dual{ForwardDiff.Tag{var\"#validation_mse#23\"{var\"#20#22\"{cf_params, Dict{String, typeof(get_abs_neighborhood)}, Int64, Matrix{Float32}}, RatingsDataset, RatingsDataset}, Float32}}(1.2836162,4.162456e-8,9.411039e-10,2.4499556e-7) β: Dual{ForwardDiff.Tag{var\"#validation_mse#23\"{var\"#20#22\"{cf_params, Dict{String, typeof(get_abs_neighborhood)}, Int64, Matrix{Float32}}, RatingsDataset, RatingsDataset}, Float32}}(0.89858145,0.07847307,-0.4165425,3.9810421): λ ForwardDiff.Dual{ForwardDiff.Tag{var\"#validation_mse#23\"{var\"#20#22\"{cf_params, Dict{String, typeof(get_abs_neighborhood)}, Int64, Matrix{Float32}}, RatingsDataset, RatingsDataset}, Float32}, Float32, 3}[Dual{ForwardDiff.Tag{var\"#validation_mse#23\"{var\"#20#22\"{cf_params, Dict{String, typeof(get_abs_neighborhood)}, Int64, Matrix{Float32}}, RatingsDataset, RatingsDataset}, Float32}}(1.3855067,1.0,0.0,0.0), Dual{ForwardDiff.Tag{var\"#validation_mse#23\"{var\"#20#22\"{cf_params, Dict{String, typeof(get_abs_neighborhood)}, Int64, Matrix{Float32}}, RatingsDataset, RatingsDataset}, Float32}}(1.0052816,0.0,1.0,0.0), Dual{ForwardDiff.Tag{var\"#validation_mse#23\"{var\"#20#22\"{cf_params, Dict{String, typeof(get_abs_neighborhood)}, Int64, Matrix{Float32}}, RatingsDataset, RatingsDataset}, Float32}}(0.041727375,0.0,0.0,1.0)]\n"
     ]
    },
    {
     "name": "stdout",
     "output_type": "stream",
     "text": [
      "    14     1.283616e+00     2.449956e-07\n",
      " * Current step size: 0.91945475\n",
      " * time: 13143.09256696701\n",
      " * g(x): Float32[4.162456f-8, 9.411039f-10, 2.4499556f-7]\n",
      " * x: Float32[1.3855067, 1.0052816, 0.041727375]\n"
     ]
    },
    {
     "name": "stderr",
     "output_type": "stream",
     "text": [
      "\u001b[32mProgress: 100%|███████████████████████████| Time: 0:04:07 ( 0.29  s/it)\u001b[39m\n",
      "\u001b[38;5;4m\u001b[1m[ \u001b[22m\u001b[39m\u001b[38;5;4m\u001b[1mDebug: \u001b[22m\u001b[39m20220316 04:58:24 loss: Dual{ForwardDiff.Tag{var\"#validation_mse#23\"{var\"#20#22\"{cf_params, Dict{String, typeof(get_abs_neighborhood)}, Int64, Matrix{Float32}}, RatingsDataset, RatingsDataset}, Float32}}(1.2836163,2.9390208e-9,5.4614877e-9,7.127704e-9) β: Dual{ForwardDiff.Tag{var\"#validation_mse#23\"{var\"#20#22\"{cf_params, Dict{String, typeof(get_abs_neighborhood)}, Int64, Matrix{Float32}}, RatingsDataset, RatingsDataset}, Float32}}(0.89858097,0.07847285,-0.41654235,3.9810498): λ ForwardDiff.Dual{ForwardDiff.Tag{var\"#validation_mse#23\"{var\"#20#22\"{cf_params, Dict{String, typeof(get_abs_neighborhood)}, Int64, Matrix{Float32}}, RatingsDataset, RatingsDataset}, Float32}, Float32, 3}[Dual{ForwardDiff.Tag{var\"#validation_mse#23\"{var\"#20#22\"{cf_params, Dict{String, typeof(get_abs_neighborhood)}, Int64, Matrix{Float32}}, RatingsDataset, RatingsDataset}, Float32}}(1.385507,1.0,0.0,0.0), Dual{ForwardDiff.Tag{var\"#validation_mse#23\"{var\"#20#22\"{cf_params, Dict{String, typeof(get_abs_neighborhood)}, Int64, Matrix{Float32}}, RatingsDataset, RatingsDataset}, Float32}}(1.0052816,0.0,1.0,0.0), Dual{ForwardDiff.Tag{var\"#validation_mse#23\"{var\"#20#22\"{cf_params, Dict{String, typeof(get_abs_neighborhood)}, Int64, Matrix{Float32}}, RatingsDataset, RatingsDataset}, Float32}}(0.041727226,0.0,0.0,1.0)]\n",
      "\u001b[32mProgress: 100%|███████████████████████████| Time: 0:04:17 ( 0.30  s/it)\u001b[39m\n",
      "\u001b[38;5;4m\u001b[1m[ \u001b[22m\u001b[39m\u001b[38;5;4m\u001b[1mDebug: \u001b[22m\u001b[39m20220316 05:03:39 loss: Dual{ForwardDiff.Tag{var\"#validation_mse#23\"{var\"#20#22\"{cf_params, Dict{String, typeof(get_abs_neighborhood)}, Int64, Matrix{Float32}}, RatingsDataset, RatingsDataset}, Float32}}(1.2836162,-1.7408878e-7,1.5890769e-9,-1.0186137e-6) β: Dual{ForwardDiff.Tag{var\"#validation_mse#23\"{var\"#20#22\"{cf_params, Dict{String, typeof(get_abs_neighborhood)}, Int64, Matrix{Float32}}, RatingsDataset, RatingsDataset}, Float32}}(0.8985789,0.078471765,-0.41654113,3.9810727): λ ForwardDiff.Dual{ForwardDiff.Tag{var\"#validation_mse#23\"{var\"#20#22\"{cf_params, Dict{String, typeof(get_abs_neighborhood)}, Int64, Matrix{Float32}}, RatingsDataset, RatingsDataset}, Float32}, Float32, 3}[Dual{ForwardDiff.Tag{var\"#validation_mse#23\"{var\"#20#22\"{cf_params, Dict{String, typeof(get_abs_neighborhood)}, Int64, Matrix{Float32}}, RatingsDataset, RatingsDataset}, Float32}}(1.3855077,1.0,0.0,0.0), Dual{ForwardDiff.Tag{var\"#validation_mse#23\"{var\"#20#22\"{cf_params, Dict{String, typeof(get_abs_neighborhood)}, Int64, Matrix{Float32}}, RatingsDataset, RatingsDataset}, Float32}}(1.0052813,0.0,1.0,0.0), Dual{ForwardDiff.Tag{var\"#validation_mse#23\"{var\"#20#22\"{cf_params, Dict{String, typeof(get_abs_neighborhood)}, Int64, Matrix{Float32}}, RatingsDataset, RatingsDataset}, Float32}}(0.041726638,0.0,0.0,1.0)]\n",
      "\u001b[32mProgress: 100%|███████████████████████████| Time: 0:04:12 ( 0.29  s/it)\u001b[39m\n",
      "\u001b[38;5;4m\u001b[1m[ \u001b[22m\u001b[39m\u001b[38;5;4m\u001b[1mDebug: \u001b[22m\u001b[39m20220316 05:08:39 loss: Dual{ForwardDiff.Tag{var\"#validation_mse#23\"{var\"#20#22\"{cf_params, Dict{String, typeof(get_abs_neighborhood)}, Int64, Matrix{Float32}}, RatingsDataset, RatingsDataset}, Float32}}(1.2836162,1.1493809e-9,5.7237624e-9,-4.443244e-9) β: Dual{ForwardDiff.Tag{var\"#validation_mse#23\"{var\"#20#22\"{cf_params, Dict{String, typeof(get_abs_neighborhood)}, Int64, Matrix{Float32}}, RatingsDataset, RatingsDataset}, Float32}}(0.8985808,0.0784728,-0.41654223,3.981049): λ ForwardDiff.Dual{ForwardDiff.Tag{var\"#validation_mse#23\"{var\"#20#22\"{cf_params, Dict{String, typeof(get_abs_neighborhood)}, Int64, Matrix{Float32}}, RatingsDataset, RatingsDataset}, Float32}, Float32, 3}[Dual{ForwardDiff.Tag{var\"#validation_mse#23\"{var\"#20#22\"{cf_params, Dict{String, typeof(get_abs_neighborhood)}, Int64, Matrix{Float32}}, RatingsDataset, RatingsDataset}, Float32}}(1.385507,1.0,0.0,0.0), Dual{ForwardDiff.Tag{var\"#validation_mse#23\"{var\"#20#22\"{cf_params, Dict{String, typeof(get_abs_neighborhood)}, Int64, Matrix{Float32}}, RatingsDataset, RatingsDataset}, Float32}}(1.0052816,0.0,1.0,0.0), Dual{ForwardDiff.Tag{var\"#validation_mse#23\"{var\"#20#22\"{cf_params, Dict{String, typeof(get_abs_neighborhood)}, Int64, Matrix{Float32}}, RatingsDataset, RatingsDataset}, Float32}}(0.041727223,0.0,0.0,1.0)]\n"
     ]
    },
    {
     "name": "stdout",
     "output_type": "stream",
     "text": [
      "    15     1.283616e+00     5.723762e-09\n",
      " * Current step size: 1.0268261\n",
      " * time: 14056.396312952042\n",
      " * g(x): Float32[1.1493809f-9, 5.7237624f-9, -4.443244f-9]\n",
      " * x: Float32[1.385507, 1.0052816, 0.041727223]\n"
     ]
    },
    {
     "name": "stderr",
     "output_type": "stream",
     "text": [
      "\u001b[32mProgress: 100%|███████████████████████████| Time: 3:31:51 (10.80  s/it)\u001b[39m\n",
      "\u001b[38;5;6m\u001b[1m[ \u001b[22m\u001b[39m\u001b[38;5;6m\u001b[1mInfo: \u001b[22m\u001b[39m20220316 08:45:07 training set: RMSE 0.9893931700719076 MAE 0.7172843539475331 R2 0.11089499394568958\n",
      "\u001b[38;5;6m\u001b[1m[ \u001b[22m\u001b[39m\u001b[38;5;6m\u001b[1mInfo: \u001b[22m\u001b[39m20220316 08:45:18 validation set: RMSE 1.1329678398866665 MAE 0.8163751325476766 R2 0.09545583753811937\n"
     ]
    }
   ],
   "source": [
    "alphas = [\"UserItemBiases\"; [\"GNN.$K\" for K = 1:1]]\n",
    "item_cf_params = [[\n",
    "        cf_params(\n",
    "            name = \"ItemCF.Resid.GNN.1.$K\",\n",
    "            training_residuals = alphas,\n",
    "            validation_residuals = alphas,\n",
    "            neighborhood_type = \"abs\",\n",
    "            S = get_correlation_matrix_outdir(alphas),\n",
    "            K = K,\n",
    "            λ = rand(3),\n",
    "        ) for K in [2^8]\n",
    "    ];\n",
    "];\n",
    "for param in item_cf_params\n",
    "    optimize_model(param)\n",
    "end"
   ]
  },
  {
   "cell_type": "markdown",
   "id": "85910c72-6e77-4dbd-8991-6ad3b81035a7",
   "metadata": {
    "tags": []
   },
   "source": [
    "## ItemCF residuals"
   ]
  },
  {
   "cell_type": "code",
   "execution_count": 4,
   "id": "0c00b2aa-a40c-4374-9631-9918f0f55968",
   "metadata": {
    "collapsed": true,
    "jupyter": {
     "outputs_hidden": true
    },
    "tags": []
   },
   "outputs": [
    {
     "name": "stderr",
     "output_type": "stream",
     "text": [
      "\u001b[32mProgress: 100%|█████████████████████████████████████████| Time: 0:00:13\u001b[39m\n",
      "\u001b[32mProgress: 100%|█████████████████████████████████████████| Time: 0:00:01\u001b[39m\n",
      "\u001b[32mProgress: 100%|███████████████████████████| Time: 0:06:05 ( 0.43  s/it)\u001b[39m\n",
      "\u001b[38;5;4m\u001b[1m[ \u001b[22m\u001b[39m\u001b[38;5;4m\u001b[1mDebug: \u001b[22m\u001b[39m20220224 02:52:07 loss: Dual{ForwardDiff.Tag{var\"#validation_mse#23\"{var\"#20#22\"{cf_params, Dict{String, typeof(get_abs_neighborhood)}, Int64, Matrix{Float32}}, RatingsDataset, RatingsDataset}, Float64}}(1.3394871342527668,0.008285988089659446,0.0008073878252998745,-0.0019224987030968866) β: Dual{ForwardDiff.Tag{var\"#validation_mse#23\"{var\"#20#22\"{cf_params, Dict{String, typeof(get_abs_neighborhood)}, Int64, Matrix{Float32}}, RatingsDataset, RatingsDataset}, Float64}}(0.6145425640558386,0.5192343366287853,-0.39556796186132487,0.4598000522906634): λ ForwardDiff.Dual{ForwardDiff.Tag{var\"#validation_mse#23\"{var\"#20#22\"{cf_params, Dict{String, typeof(get_abs_neighborhood)}, Int64, Matrix{Float32}}, RatingsDataset, RatingsDataset}, Float64}, Float64, 3}[Dual{ForwardDiff.Tag{var\"#validation_mse#23\"{var\"#20#22\"{cf_params, Dict{String, typeof(get_abs_neighborhood)}, Int64, Matrix{Float32}}, RatingsDataset, RatingsDataset}, Float64}}(0.5925598025631478,1.0,0.0,0.0), Dual{ForwardDiff.Tag{var\"#validation_mse#23\"{var\"#20#22\"{cf_params, Dict{String, typeof(get_abs_neighborhood)}, Int64, Matrix{Float32}}, RatingsDataset, RatingsDataset}, Float64}}(0.9936160909300036,0.0,1.0,0.0), Dual{ForwardDiff.Tag{var\"#validation_mse#23\"{var\"#20#22\"{cf_params, Dict{String, typeof(get_abs_neighborhood)}, Int64, Matrix{Float32}}, RatingsDataset, RatingsDataset}, Float64}}(0.610059322281179,0.0,0.0,1.0)]\n"
     ]
    },
    {
     "name": "stdout",
     "output_type": "stream",
     "text": [
      "Iter     Function value   Gradient norm \n",
      "     0     1.339487e+00     8.285988e-03\n",
      " * Current step size: 1.0\n",
      " * time: 0.029947996139526367\n",
      " * g(x): [0.008285988089659446, 0.0008073878252998745, -0.0019224987030968866]\n",
      " * x: [0.5925598025631478, 0.9936160909300036, 0.610059322281179]\n"
     ]
    },
    {
     "name": "stderr",
     "output_type": "stream",
     "text": [
      "\u001b[32mProgress: 100%|███████████████████████████| Time: 0:08:02 ( 0.56  s/it)\u001b[39m\n",
      "\u001b[38;5;4m\u001b[1m[ \u001b[22m\u001b[39m\u001b[38;5;4m\u001b[1mDebug: \u001b[22m\u001b[39m20220224 03:00:52 loss: Dual{ForwardDiff.Tag{var\"#validation_mse#23\"{var\"#20#22\"{cf_params, Dict{String, typeof(get_abs_neighborhood)}, Int64, Matrix{Float32}}, RatingsDataset, RatingsDataset}, Float64}}(1.339416539274545,0.007683094923045469,0.0008419692538979136,-0.0019987145413034794) β: Dual{ForwardDiff.Tag{var\"#validation_mse#23\"{var\"#20#22\"{cf_params, Dict{String, typeof(get_abs_neighborhood)}, Int64, Matrix{Float32}}, RatingsDataset, RatingsDataset}, Float64}}(0.6113943531754378,0.5295137003544521,-0.39419893459975813,0.4538652527321935): λ ForwardDiff.Dual{ForwardDiff.Tag{var\"#validation_mse#23\"{var\"#20#22\"{cf_params, Dict{String, typeof(get_abs_neighborhood)}, Int64, Matrix{Float32}}, RatingsDataset, RatingsDataset}, Float64}, Float64, 3}[Dual{ForwardDiff.Tag{var\"#validation_mse#23\"{var\"#20#22\"{cf_params, Dict{String, typeof(get_abs_neighborhood)}, Int64, Matrix{Float32}}, RatingsDataset, RatingsDataset}, Float64}}(0.5842738144734884,1.0,0.0,0.0), Dual{ForwardDiff.Tag{var\"#validation_mse#23\"{var\"#20#22\"{cf_params, Dict{String, typeof(get_abs_neighborhood)}, Int64, Matrix{Float32}}, RatingsDataset, RatingsDataset}, Float64}}(0.9928087031047037,0.0,1.0,0.0), Dual{ForwardDiff.Tag{var\"#validation_mse#23\"{var\"#20#22\"{cf_params, Dict{String, typeof(get_abs_neighborhood)}, Int64, Matrix{Float32}}, RatingsDataset, RatingsDataset}, Float64}}(0.6119818209842759,0.0,0.0,1.0)]\n",
      "\u001b[32mProgress: 100%|███████████████████████████| Time: 0:06:43 ( 0.47  s/it)\u001b[39m\n",
      "\u001b[38;5;4m\u001b[1m[ \u001b[22m\u001b[39m\u001b[38;5;4m\u001b[1mDebug: \u001b[22m\u001b[39m20220224 03:08:25 loss: Dual{ForwardDiff.Tag{var\"#validation_mse#23\"{var\"#20#22\"{cf_params, Dict{String, typeof(get_abs_neighborhood)}, Int64, Matrix{Float32}}, RatingsDataset, RatingsDataset}, Float64}}(1.3391822592755311,0.00528853312340337,0.0009780277689575903,-0.002284327361331533) β: Dual{ForwardDiff.Tag{var\"#validation_mse#23\"{var\"#20#22\"{cf_params, Dict{String, typeof(get_abs_neighborhood)}, Int64, Matrix{Float32}}, RatingsDataset, RatingsDataset}, Float64}}(0.5978860595451068,0.5655318918296058,-0.3880373819430157,0.4297936263377311): λ ForwardDiff.Dual{ForwardDiff.Tag{var\"#validation_mse#23\"{var\"#20#22\"{cf_params, Dict{String, typeof(get_abs_neighborhood)}, Int64, Matrix{Float32}}, RatingsDataset, RatingsDataset}, Float64}, Float64, 3}[Dual{ForwardDiff.Tag{var\"#validation_mse#23\"{var\"#20#22\"{cf_params, Dict{String, typeof(get_abs_neighborhood)}, Int64, Matrix{Float32}}, RatingsDataset, RatingsDataset}, Float64}}(0.5511298621148506,1.0,0.0,0.0), Dual{ForwardDiff.Tag{var\"#validation_mse#23\"{var\"#20#22\"{cf_params, Dict{String, typeof(get_abs_neighborhood)}, Int64, Matrix{Float32}}, RatingsDataset, RatingsDataset}, Float64}}(0.9895791518035042,0.0,1.0,0.0), Dual{ForwardDiff.Tag{var\"#validation_mse#23\"{var\"#20#22\"{cf_params, Dict{String, typeof(get_abs_neighborhood)}, Int64, Matrix{Float32}}, RatingsDataset, RatingsDataset}, Float64}}(0.6196718157966634,0.0,0.0,1.0)]\n",
      "\u001b[32mProgress: 100%|███████████████████████████| Time: 0:06:08 ( 0.43  s/it)\u001b[39m\n",
      "\u001b[38;5;4m\u001b[1m[ \u001b[22m\u001b[39m\u001b[38;5;4m\u001b[1mDebug: \u001b[22m\u001b[39m20220224 03:15:14 loss: Dual{ForwardDiff.Tag{var\"#validation_mse#23\"{var\"#20#22\"{cf_params, Dict{String, typeof(get_abs_neighborhood)}, Int64, Matrix{Float32}}, RatingsDataset, RatingsDataset}, Float64}}(1.3390751749721013,-0.004873546636175235,0.0015503641787203031,-0.003182709901463767) β: Dual{ForwardDiff.Tag{var\"#validation_mse#23\"{var\"#20#22\"{cf_params, Dict{String, typeof(get_abs_neighborhood)}, Int64, Matrix{Float32}}, RatingsDataset, RatingsDataset}, Float64}}(0.5164424313995203,0.6309491941628851,-0.3452893678437777,0.3111859632713576): λ ForwardDiff.Dual{ForwardDiff.Tag{var\"#validation_mse#23\"{var\"#20#22\"{cf_params, Dict{String, typeof(get_abs_neighborhood)}, Int64, Matrix{Float32}}, RatingsDataset, RatingsDataset}, Float64}, Float64, 3}[Dual{ForwardDiff.Tag{var\"#validation_mse#23\"{var\"#20#22\"{cf_params, Dict{String, typeof(get_abs_neighborhood)}, Int64, Matrix{Float32}}, RatingsDataset, RatingsDataset}, Float64}}(0.3854101003216616,1.0,0.0,0.0), Dual{ForwardDiff.Tag{var\"#validation_mse#23\"{var\"#20#22\"{cf_params, Dict{String, typeof(get_abs_neighborhood)}, Int64, Matrix{Float32}}, RatingsDataset, RatingsDataset}, Float64}}(0.9734313952975067,0.0,1.0,0.0), Dual{ForwardDiff.Tag{var\"#validation_mse#23\"{var\"#20#22\"{cf_params, Dict{String, typeof(get_abs_neighborhood)}, Int64, Matrix{Float32}}, RatingsDataset, RatingsDataset}, Float64}}(0.6581217898586011,0.0,0.0,1.0)]\n",
      "\u001b[32mProgress: 100%|███████████████████████████| Time: 0:06:06 ( 0.43  s/it)\u001b[39m\n",
      "\u001b[38;5;4m\u001b[1m[ \u001b[22m\u001b[39m\u001b[38;5;4m\u001b[1mDebug: \u001b[22m\u001b[39m20220224 03:21:58 loss: Dual{ForwardDiff.Tag{var\"#validation_mse#23\"{var\"#20#22\"{cf_params, Dict{String, typeof(get_abs_neighborhood)}, Int64, Matrix{Float32}}, RatingsDataset, RatingsDataset}, Float64}}(1.338922146848989,-0.0012873527799187887,0.0013472004322177043,-0.0029313278363520393) β: Dual{ForwardDiff.Tag{var\"#validation_mse#23\"{var\"#20#22\"{cf_params, Dict{String, typeof(get_abs_neighborhood)}, Int64, Matrix{Float32}}, RatingsDataset, RatingsDataset}, Float64}}(0.5510175503830791,0.6257530493625826,-0.3643064391488958,0.3575307522734475): λ ForwardDiff.Dual{ForwardDiff.Tag{var\"#validation_mse#23\"{var\"#20#22\"{cf_params, Dict{String, typeof(get_abs_neighborhood)}, Int64, Matrix{Float32}}, RatingsDataset, RatingsDataset}, Float64}, Float64, 3}[Dual{ForwardDiff.Tag{var\"#validation_mse#23\"{var\"#20#22\"{cf_params, Dict{String, typeof(get_abs_neighborhood)}, Int64, Matrix{Float32}}, RatingsDataset, RatingsDataset}, Float64}}(0.4521146492280773,1.0,0.0,0.0), Dual{ForwardDiff.Tag{var\"#validation_mse#23\"{var\"#20#22\"{cf_params, Dict{String, typeof(get_abs_neighborhood)}, Int64, Matrix{Float32}}, RatingsDataset, RatingsDataset}, Float64}}(0.979931095767312,0.0,1.0,0.0), Dual{ForwardDiff.Tag{var\"#validation_mse#23\"{var\"#20#22\"{cf_params, Dict{String, typeof(get_abs_neighborhood)}, Int64, Matrix{Float32}}, RatingsDataset, RatingsDataset}, Float64}}(0.6426451312663345,0.0,0.0,1.0)]\n"
     ]
    },
    {
     "name": "stdout",
     "output_type": "stream",
     "text": [
      "     1     1.338922e+00     2.931328e-03\n",
      " * Current step size: 16.9497170180995\n",
      " * time: 1790.7841532230377\n",
      " * g(x): [-0.0012873527799187887, 0.0013472004322177043, -0.0029313278363520393]\n",
      " * x: [0.4521146492280773, 0.979931095767312, 0.6426451312663345]\n"
     ]
    },
    {
     "name": "stderr",
     "output_type": "stream",
     "text": [
      "\u001b[32mProgress: 100%|███████████████████████████| Time: 0:06:30 ( 0.46  s/it)\u001b[39m\n",
      "\u001b[38;5;4m\u001b[1m[ \u001b[22m\u001b[39m\u001b[38;5;4m\u001b[1mDebug: \u001b[22m\u001b[39m20220224 03:29:10 loss: Dual{ForwardDiff.Tag{var\"#validation_mse#23\"{var\"#20#22\"{cf_params, Dict{String, typeof(get_abs_neighborhood)}, Int64, Matrix{Float32}}, RatingsDataset, RatingsDataset}, Float64}}(1.3387775396886037,-0.0008435514418483126,0.0010191406403909768,-0.0027004429520637863) β: Dual{ForwardDiff.Tag{var\"#validation_mse#23\"{var\"#20#22\"{cf_params, Dict{String, typeof(get_abs_neighborhood)}, Int64, Matrix{Float32}}, RatingsDataset, RatingsDataset}, Float64}}(0.5741922127281386,0.6605053257159763,-0.362481294273565,0.3551286353276957): λ ForwardDiff.Dual{ForwardDiff.Tag{var\"#validation_mse#23\"{var\"#20#22\"{cf_params, Dict{String, typeof(get_abs_neighborhood)}, Int64, Matrix{Float32}}, RatingsDataset, RatingsDataset}, Float64}, Float64, 3}[Dual{ForwardDiff.Tag{var\"#validation_mse#23\"{var\"#20#22\"{cf_params, Dict{String, typeof(get_abs_neighborhood)}, Int64, Matrix{Float32}}, RatingsDataset, RatingsDataset}, Float64}}(0.453502428620229,1.0,0.0,0.0), Dual{ForwardDiff.Tag{var\"#validation_mse#23\"{var\"#20#22\"{cf_params, Dict{String, typeof(get_abs_neighborhood)}, Int64, Matrix{Float32}}, RatingsDataset, RatingsDataset}, Float64}}(0.9604630822886014,0.0,1.0,0.0), Dual{ForwardDiff.Tag{var\"#validation_mse#23\"{var\"#20#22\"{cf_params, Dict{String, typeof(get_abs_neighborhood)}, Int64, Matrix{Float32}}, RatingsDataset, RatingsDataset}, Float64}}(0.6853199237819911,0.0,0.0,1.0)]\n",
      "\u001b[32mProgress: 100%|███████████████████████████| Time: 0:06:17 ( 0.44  s/it)\u001b[39m\n",
      "\u001b[38;5;4m\u001b[1m[ \u001b[22m\u001b[39m\u001b[38;5;4m\u001b[1mDebug: \u001b[22m\u001b[39m20220224 03:36:08 loss: Dual{ForwardDiff.Tag{var\"#validation_mse#23\"{var\"#20#22\"{cf_params, Dict{String, typeof(get_abs_neighborhood)}, Int64, Matrix{Float32}}, RatingsDataset, RatingsDataset}, Float64}}(1.3383567452136709,0.00090080030117512,-0.00039528767497977376,-0.001983309776793007) β: Dual{ForwardDiff.Tag{var\"#validation_mse#23\"{var\"#20#22\"{cf_params, Dict{String, typeof(get_abs_neighborhood)}, Int64, Matrix{Float32}}, RatingsDataset, RatingsDataset}, Float64}}(0.6657065872639248,0.7996642821305929,-0.33897151178229035,0.34817923770327347): λ ForwardDiff.Dual{ForwardDiff.Tag{var\"#validation_mse#23\"{var\"#20#22\"{cf_params, Dict{String, typeof(get_abs_neighborhood)}, Int64, Matrix{Float32}}, RatingsDataset, RatingsDataset}, Float64}, Float64, 3}[Dual{ForwardDiff.Tag{var\"#validation_mse#23\"{var\"#20#22\"{cf_params, Dict{String, typeof(get_abs_neighborhood)}, Int64, Matrix{Float32}}, RatingsDataset, RatingsDataset}, Float64}}(0.4590535461888356,1.0,0.0,0.0), Dual{ForwardDiff.Tag{var\"#validation_mse#23\"{var\"#20#22\"{cf_params, Dict{String, typeof(get_abs_neighborhood)}, Int64, Matrix{Float32}}, RatingsDataset, RatingsDataset}, Float64}}(0.8825910283737595,0.0,1.0,0.0), Dual{ForwardDiff.Tag{var\"#validation_mse#23\"{var\"#20#22\"{cf_params, Dict{String, typeof(get_abs_neighborhood)}, Int64, Matrix{Float32}}, RatingsDataset, RatingsDataset}, Float64}}(0.8560190938446175,0.0,0.0,1.0)]\n",
      "\u001b[32mProgress: 100%|███████████████████████████| Time: 0:06:18 ( 0.44  s/it)\u001b[39m\n",
      "\u001b[38;5;4m\u001b[1m[ \u001b[22m\u001b[39m\u001b[38;5;4m\u001b[1mDebug: \u001b[22m\u001b[39m20220224 03:43:10 loss: Dual{ForwardDiff.Tag{var\"#validation_mse#23\"{var\"#20#22\"{cf_params, Dict{String, typeof(get_abs_neighborhood)}, Int64, Matrix{Float32}}, RatingsDataset, RatingsDataset}, Float64}}(1.3392821104361443,0.007825763573830248,-0.008431700449077812,-0.0004978875435828527) β: Dual{ForwardDiff.Tag{var\"#validation_mse#23\"{var\"#20#22\"{cf_params, Dict{String, typeof(get_abs_neighborhood)}, Int64, Matrix{Float32}}, RatingsDataset, RatingsDataset}, Float64}}(1.0344871588342186,1.3949417321271538,0.1881847221323155,0.3186154703252271): λ ForwardDiff.Dual{ForwardDiff.Tag{var\"#validation_mse#23\"{var\"#20#22\"{cf_params, Dict{String, typeof(get_abs_neighborhood)}, Int64, Matrix{Float32}}, RatingsDataset, RatingsDataset}, Float64}, Float64, 3}[Dual{ForwardDiff.Tag{var\"#validation_mse#23\"{var\"#20#22\"{cf_params, Dict{String, typeof(get_abs_neighborhood)}, Int64, Matrix{Float32}}, RatingsDataset, RatingsDataset}, Float64}}(0.48680913403186876,1.0,0.0,0.0), Dual{ForwardDiff.Tag{var\"#validation_mse#23\"{var\"#20#22\"{cf_params, Dict{String, typeof(get_abs_neighborhood)}, Int64, Matrix{Float32}}, RatingsDataset, RatingsDataset}, Float64}}(0.4932307587995494,0.0,1.0,0.0), Dual{ForwardDiff.Tag{var\"#validation_mse#23\"{var\"#20#22\"{cf_params, Dict{String, typeof(get_abs_neighborhood)}, Int64, Matrix{Float32}}, RatingsDataset, RatingsDataset}, Float64}}(1.7095149441577497,0.0,0.0,1.0)]\n",
      "\u001b[32mProgress: 100%|███████████████████████████| Time: 0:06:04 ( 0.42  s/it)\u001b[39m\n",
      "\u001b[38;5;4m\u001b[1m[ \u001b[22m\u001b[39m\u001b[38;5;4m\u001b[1mDebug: \u001b[22m\u001b[39m20220224 03:49:50 loss: Dual{ForwardDiff.Tag{var\"#validation_mse#23\"{var\"#20#22\"{cf_params, Dict{String, typeof(get_abs_neighborhood)}, Int64, Matrix{Float32}}, RatingsDataset, RatingsDataset}, Float64}}(1.3381469573036855,0.0035801256235055076,-0.002972468945412245,-0.0012402348712894007) β: Dual{ForwardDiff.Tag{var\"#validation_mse#23\"{var\"#20#22\"{cf_params, Dict{String, typeof(get_abs_neighborhood)}, Int64, Matrix{Float32}}, RatingsDataset, RatingsDataset}, Float64}}(0.8090237891672231,1.024005608834333,-0.24102152195847223,0.3404604963627997): λ ForwardDiff.Dual{ForwardDiff.Tag{var\"#validation_mse#23\"{var\"#20#22\"{cf_params, Dict{String, typeof(get_abs_neighborhood)}, Int64, Matrix{Float32}}, RatingsDataset, RatingsDataset}, Float64}, Float64, 3}[Dual{ForwardDiff.Tag{var\"#validation_mse#23\"{var\"#20#22\"{cf_params, Dict{String, typeof(get_abs_neighborhood)}, Int64, Matrix{Float32}}, RatingsDataset, RatingsDataset}, Float64}}(0.46820951935077426,1.0,0.0,0.0), Dual{ForwardDiff.Tag{var\"#validation_mse#23\"{var\"#20#22\"{cf_params, Dict{String, typeof(get_abs_neighborhood)}, Int64, Matrix{Float32}}, RatingsDataset, RatingsDataset}, Float64}}(0.75414942595814,0.0,1.0,0.0), Dual{ForwardDiff.Tag{var\"#validation_mse#23\"{var\"#20#22\"{cf_params, Dict{String, typeof(get_abs_neighborhood)}, Int64, Matrix{Float32}}, RatingsDataset, RatingsDataset}, Float64}}(1.137569070140816,0.0,0.0,1.0)]\n"
     ]
    },
    {
     "name": "stdout",
     "output_type": "stream",
     "text": [
      "     2     1.338147e+00     3.580126e-03\n",
      " * Current step size: 11.597571064766232\n",
      " * time: 3461.9487550258636\n",
      " * g(x): [0.0035801256235055076, -0.002972468945412245, -0.0012402348712894007]\n",
      " * x: [0.46820951935077426, 0.75414942595814, 1.137569070140816]\n"
     ]
    },
    {
     "name": "stderr",
     "output_type": "stream",
     "text": [
      "\u001b[32mProgress: 100%|███████████████████████████| Time: 0:06:40 ( 0.47  s/it)\u001b[39m\n",
      "\u001b[38;5;4m\u001b[1m[ \u001b[22m\u001b[39m\u001b[38;5;4m\u001b[1mDebug: \u001b[22m\u001b[39m20220224 03:57:01 loss: Dual{ForwardDiff.Tag{var\"#validation_mse#23\"{var\"#20#22\"{cf_params, Dict{String, typeof(get_abs_neighborhood)}, Int64, Matrix{Float32}}, RatingsDataset, RatingsDataset}, Float64}}(1.3376943606372074,0.0006098768514018301,-0.0018224321501380326,-0.0011451287201065699) β: Dual{ForwardDiff.Tag{var\"#validation_mse#23\"{var\"#20#22\"{cf_params, Dict{String, typeof(get_abs_neighborhood)}, Int64, Matrix{Float32}}, RatingsDataset, RatingsDataset}, Float64}}(0.8043777127106704,1.1377635568512359,-0.30886501831240687,0.2872581488357015): λ ForwardDiff.Dual{ForwardDiff.Tag{var\"#validation_mse#23\"{var\"#20#22\"{cf_params, Dict{String, typeof(get_abs_neighborhood)}, Int64, Matrix{Float32}}, RatingsDataset, RatingsDataset}, Float64}, Float64, 3}[Dual{ForwardDiff.Tag{var\"#validation_mse#23\"{var\"#20#22\"{cf_params, Dict{String, typeof(get_abs_neighborhood)}, Int64, Matrix{Float32}}, RatingsDataset, RatingsDataset}, Float64}}(0.41962173874924796,1.0,0.0,0.0), Dual{ForwardDiff.Tag{var\"#validation_mse#23\"{var\"#20#22\"{cf_params, Dict{String, typeof(get_abs_neighborhood)}, Int64, Matrix{Float32}}, RatingsDataset, RatingsDataset}, Float64}}(0.8028455219191076,0.0,1.0,0.0), Dual{ForwardDiff.Tag{var\"#validation_mse#23\"{var\"#20#22\"{cf_params, Dict{String, typeof(get_abs_neighborhood)}, Int64, Matrix{Float32}}, RatingsDataset, RatingsDataset}, Float64}}(1.333845846688322,0.0,0.0,1.0)]\n",
      "\u001b[32mProgress: 100%|███████████████████████████| Time: 0:06:27 ( 0.45  s/it)\u001b[39m\n",
      "\u001b[38;5;4m\u001b[1m[ \u001b[22m\u001b[39m\u001b[38;5;4m\u001b[1mDebug: \u001b[22m\u001b[39m20220224 04:04:07 loss: Dual{ForwardDiff.Tag{var\"#validation_mse#23\"{var\"#20#22\"{cf_params, Dict{String, typeof(get_abs_neighborhood)}, Int64, Matrix{Float32}}, RatingsDataset, RatingsDataset}, Float64}}(1.3379111776201478,-0.008913647336608382,0.002739764074963914,-0.0008589492369119567) β: Dual{ForwardDiff.Tag{var\"#validation_mse#23\"{var\"#20#22\"{cf_params, Dict{String, typeof(get_abs_neighborhood)}, Int64, Matrix{Float32}}, RatingsDataset, RatingsDataset}, Float64}}(0.6539331954705876,1.1409089710936677,-0.46732078562424717,0.13541630589746914): λ ForwardDiff.Dual{ForwardDiff.Tag{var\"#validation_mse#23\"{var\"#20#22\"{cf_params, Dict{String, typeof(get_abs_neighborhood)}, Int64, Matrix{Float32}}, RatingsDataset, RatingsDataset}, Float64}, Float64, 3}[Dual{ForwardDiff.Tag{var\"#validation_mse#23\"{var\"#20#22\"{cf_params, Dict{String, typeof(get_abs_neighborhood)}, Int64, Matrix{Float32}}, RatingsDataset, RatingsDataset}, Float64}}(0.22527061634314272,1.0,0.0,0.0), Dual{ForwardDiff.Tag{var\"#validation_mse#23\"{var\"#20#22\"{cf_params, Dict{String, typeof(get_abs_neighborhood)}, Int64, Matrix{Float32}}, RatingsDataset, RatingsDataset}, Float64}}(0.997629905762978,0.0,1.0,0.0), Dual{ForwardDiff.Tag{var\"#validation_mse#23\"{var\"#20#22\"{cf_params, Dict{String, typeof(get_abs_neighborhood)}, Int64, Matrix{Float32}}, RatingsDataset, RatingsDataset}, Float64}}(2.118952952878346,0.0,0.0,1.0)]\n",
      "\u001b[32mProgress: 100%|███████████████████████████| Time: 0:06:22 ( 0.45  s/it)\u001b[39m\n",
      "\u001b[38;5;4m\u001b[1m[ \u001b[22m\u001b[39m\u001b[38;5;4m\u001b[1mDebug: \u001b[22m\u001b[39m20220224 04:11:14 loss: Dual{ForwardDiff.Tag{var\"#validation_mse#23\"{var\"#20#22\"{cf_params, Dict{String, typeof(get_abs_neighborhood)}, Int64, Matrix{Float32}}, RatingsDataset, RatingsDataset}, Float64}}(1.3374211537180298,-0.004479461109904238,0.0003740536367915829,-0.0009984511595406724) β: Dual{ForwardDiff.Tag{var\"#validation_mse#23\"{var\"#20#22\"{cf_params, Dict{String, typeof(get_abs_neighborhood)}, Int64, Matrix{Float32}}, RatingsDataset, RatingsDataset}, Float64}}(0.7534947255061903,1.217375039937263,-0.40688398079674193,0.20531454495103807): λ ForwardDiff.Dual{ForwardDiff.Tag{var\"#validation_mse#23\"{var\"#20#22\"{cf_params, Dict{String, typeof(get_abs_neighborhood)}, Int64, Matrix{Float32}}, RatingsDataset, RatingsDataset}, Float64}, Float64, 3}[Dual{ForwardDiff.Tag{var\"#validation_mse#23\"{var\"#20#22\"{cf_params, Dict{String, typeof(get_abs_neighborhood)}, Int64, Matrix{Float32}}, RatingsDataset, RatingsDataset}, Float64}}(0.3296292981297152,1.0,0.0,0.0), Dual{ForwardDiff.Tag{var\"#validation_mse#23\"{var\"#20#22\"{cf_params, Dict{String, typeof(get_abs_neighborhood)}, Int64, Matrix{Float32}}, RatingsDataset, RatingsDataset}, Float64}}(0.893038580130801,0.0,1.0,0.0), Dual{ForwardDiff.Tag{var\"#validation_mse#23\"{var\"#20#22\"{cf_params, Dict{String, typeof(get_abs_neighborhood)}, Int64, Matrix{Float32}}, RatingsDataset, RatingsDataset}, Float64}}(1.6973822325814014,0.0,0.0,1.0)]\n"
     ]
    },
    {
     "name": "stdout",
     "output_type": "stream",
     "text": [
      "     3     1.337421e+00     4.479461e-03\n",
      " * Current step size: 2.8521619943411407\n",
      " * time: 4746.671905040741\n",
      " * g(x): [-0.004479461109904238, 0.0003740536367915829, -0.0009984511595406724]\n",
      " * x: [0.3296292981297152, 0.893038580130801, 1.6973822325814014]\n"
     ]
    },
    {
     "name": "stderr",
     "output_type": "stream",
     "text": [
      "\u001b[32mProgress: 100%|███████████████████████████| Time: 0:04:39 ( 0.33  s/it)\u001b[39m\n",
      "\u001b[38;5;4m\u001b[1m[ \u001b[22m\u001b[39m\u001b[38;5;4m\u001b[1mDebug: \u001b[22m\u001b[39m20220224 04:16:18 loss: Dual{ForwardDiff.Tag{var\"#validation_mse#23\"{var\"#20#22\"{cf_params, Dict{String, typeof(get_abs_neighborhood)}, Int64, Matrix{Float32}}, RatingsDataset, RatingsDataset}, Float64}}(1.3371367611197442,-0.002914604039354125,9.22857646123465e-5,-0.0007725464094491047) β: Dual{ForwardDiff.Tag{var\"#validation_mse#23\"{var\"#20#22\"{cf_params, Dict{String, typeof(get_abs_neighborhood)}, Int64, Matrix{Float32}}, RatingsDataset, RatingsDataset}, Float64}}(0.830992569230456,1.386322550359054,-0.4303443594062541,0.20673511609872713): λ ForwardDiff.Dual{ForwardDiff.Tag{var\"#validation_mse#23\"{var\"#20#22\"{cf_params, Dict{String, typeof(get_abs_neighborhood)}, Int64, Matrix{Float32}}, RatingsDataset, RatingsDataset}, Float64}, Float64, 3}[Dual{ForwardDiff.Tag{var\"#validation_mse#23\"{var\"#20#22\"{cf_params, Dict{String, typeof(get_abs_neighborhood)}, Int64, Matrix{Float32}}, RatingsDataset, RatingsDataset}, Float64}}(0.347386990500559,1.0,0.0,0.0), Dual{ForwardDiff.Tag{var\"#validation_mse#23\"{var\"#20#22\"{cf_params, Dict{String, typeof(get_abs_neighborhood)}, Int64, Matrix{Float32}}, RatingsDataset, RatingsDataset}, Float64}}(0.8840402074647934,0.0,1.0,0.0), Dual{ForwardDiff.Tag{var\"#validation_mse#23\"{var\"#20#22\"{cf_params, Dict{String, typeof(get_abs_neighborhood)}, Int64, Matrix{Float32}}, RatingsDataset, RatingsDataset}, Float64}}(1.9433140826713775,0.0,0.0,1.0)]\n",
      "\u001b[32mProgress: 100%|███████████████████████████| Time: 0:04:17 ( 0.30  s/it)\u001b[39m\n",
      "\u001b[38;5;4m\u001b[1m[ \u001b[22m\u001b[39m\u001b[38;5;4m\u001b[1mDebug: \u001b[22m\u001b[39m20220224 04:21:04 loss: Dual{ForwardDiff.Tag{var\"#validation_mse#23\"{var\"#20#22\"{cf_params, Dict{String, typeof(get_abs_neighborhood)}, Int64, Matrix{Float32}}, RatingsDataset, RatingsDataset}, Float64}}(1.3367092740734494,0.0037368974981007966,-0.0010919116201882424,-0.000265797450146563) β: Dual{ForwardDiff.Tag{var\"#validation_mse#23\"{var\"#20#22\"{cf_params, Dict{String, typeof(get_abs_neighborhood)}, Int64, Matrix{Float32}}, RatingsDataset, RatingsDataset}, Float64}}(1.1853067562486146,2.165376540220139,-0.511670778256575,0.22821772167774285): λ ForwardDiff.Dual{ForwardDiff.Tag{var\"#validation_mse#23\"{var\"#20#22\"{cf_params, Dict{String, typeof(get_abs_neighborhood)}, Int64, Matrix{Float32}}, RatingsDataset, RatingsDataset}, Float64}, Float64, 3}[Dual{ForwardDiff.Tag{var\"#validation_mse#23\"{var\"#20#22\"{cf_params, Dict{String, typeof(get_abs_neighborhood)}, Int64, Matrix{Float32}}, RatingsDataset, RatingsDataset}, Float64}}(0.41841775998393416,1.0,0.0,0.0), Dual{ForwardDiff.Tag{var\"#validation_mse#23\"{var\"#20#22\"{cf_params, Dict{String, typeof(get_abs_neighborhood)}, Int64, Matrix{Float32}}, RatingsDataset, RatingsDataset}, Float64}}(0.8480467168007634,0.0,1.0,0.0), Dual{ForwardDiff.Tag{var\"#validation_mse#23\"{var\"#20#22\"{cf_params, Dict{String, typeof(get_abs_neighborhood)}, Int64, Matrix{Float32}}, RatingsDataset, RatingsDataset}, Float64}}(2.927041483031282,0.0,0.0,1.0)]\n",
      "\u001b[32mProgress: 100%|███████████████████████████| Time: 0:04:14 ( 0.30  s/it)\u001b[39m\n",
      "\u001b[38;5;4m\u001b[1m[ \u001b[22m\u001b[39m\u001b[38;5;4m\u001b[1mDebug: \u001b[22m\u001b[39m20220224 04:25:41 loss: Dual{ForwardDiff.Tag{var\"#validation_mse#23\"{var\"#20#22\"{cf_params, Dict{String, typeof(get_abs_neighborhood)}, Int64, Matrix{Float32}}, RatingsDataset, RatingsDataset}, Float64}}(1.3367081850558544,0.0034485728923631834,-0.0010409634691069655,-0.00027928962769080146) β: Dual{ForwardDiff.Tag{var\"#validation_mse#23\"{var\"#20#22\"{cf_params, Dict{String, typeof(get_abs_neighborhood)}, Int64, Matrix{Float32}}, RatingsDataset, RatingsDataset}, Float64}}(1.1684587646666547,2.1285949194926217,-0.5086264253865652,0.22689358961975428): λ ForwardDiff.Dual{ForwardDiff.Tag{var\"#validation_mse#23\"{var\"#20#22\"{cf_params, Dict{String, typeof(get_abs_neighborhood)}, Int64, Matrix{Float32}}, RatingsDataset, RatingsDataset}, Float64}, Float64, 3}[Dual{ForwardDiff.Tag{var\"#validation_mse#23\"{var\"#20#22\"{cf_params, Dict{String, typeof(get_abs_neighborhood)}, Int64, Matrix{Float32}}, RatingsDataset, RatingsDataset}, Float64}}(0.4153858677834247,1.0,0.0,0.0), Dual{ForwardDiff.Tag{var\"#validation_mse#23\"{var\"#20#22\"{cf_params, Dict{String, typeof(get_abs_neighborhood)}, Int64, Matrix{Float32}}, RatingsDataset, RatingsDataset}, Float64}}(0.8495830704740672,0.0,1.0,0.0), Dual{ForwardDiff.Tag{var\"#validation_mse#23\"{var\"#20#22\"{cf_params, Dict{String, typeof(get_abs_neighborhood)}, Int64, Matrix{Float32}}, RatingsDataset, RatingsDataset}, Float64}}(2.88505185720755,0.0,0.0,1.0)]\n"
     ]
    },
    {
     "name": "stdout",
     "output_type": "stream",
     "text": [
      "     4     1.336708e+00     3.448573e-03\n",
      " * Current step size: 4.829263164537779\n",
      " * time: 5613.340049028397\n",
      " * g(x): [0.0034485728923631834, -0.0010409634691069655, -0.00027928962769080146]\n",
      " * x: [0.4153858677834247, 0.8495830704740672, 2.88505185720755]\n"
     ]
    },
    {
     "name": "stderr",
     "output_type": "stream",
     "text": [
      "\u001b[32mProgress: 100%|███████████████████████████| Time: 0:04:17 ( 0.30  s/it)\u001b[39m\n",
      "\u001b[38;5;4m\u001b[1m[ \u001b[22m\u001b[39m\u001b[38;5;4m\u001b[1mDebug: \u001b[22m\u001b[39m20220224 04:30:16 loss: Dual{ForwardDiff.Tag{var\"#validation_mse#23\"{var\"#20#22\"{cf_params, Dict{String, typeof(get_abs_neighborhood)}, Int64, Matrix{Float32}}, RatingsDataset, RatingsDataset}, Float64}}(1.336436595939476,0.0006294042366549007,-0.00015758778371641319,-0.00023528383029336645) β: Dual{ForwardDiff.Tag{var\"#validation_mse#23\"{var\"#20#22\"{cf_params, Dict{String, typeof(get_abs_neighborhood)}, Int64, Matrix{Float32}}, RatingsDataset, RatingsDataset}, Float64}}(1.1639708149442112,2.287459457316297,-0.5711125493464133,0.18534454508664885): λ ForwardDiff.Dual{ForwardDiff.Tag{var\"#validation_mse#23\"{var\"#20#22\"{cf_params, Dict{String, typeof(get_abs_neighborhood)}, Int64, Matrix{Float32}}, RatingsDataset, RatingsDataset}, Float64}, Float64, 3}[Dual{ForwardDiff.Tag{var\"#validation_mse#23\"{var\"#20#22\"{cf_params, Dict{String, typeof(get_abs_neighborhood)}, Int64, Matrix{Float32}}, RatingsDataset, RatingsDataset}, Float64}}(0.3655264126770594,1.0,0.0,0.0), Dual{ForwardDiff.Tag{var\"#validation_mse#23\"{var\"#20#22\"{cf_params, Dict{String, typeof(get_abs_neighborhood)}, Int64, Matrix{Float32}}, RatingsDataset, RatingsDataset}, Float64}}(0.8801595611474449,0.0,1.0,0.0), Dual{ForwardDiff.Tag{var\"#validation_mse#23\"{var\"#20#22\"{cf_params, Dict{String, typeof(get_abs_neighborhood)}, Int64, Matrix{Float32}}, RatingsDataset, RatingsDataset}, Float64}}(3.48197497043682,0.0,0.0,1.0)]\n",
      "\u001b[32mProgress: 100%|███████████████████████████| Time: 0:04:12 ( 0.29  s/it)\u001b[39m\n",
      "\u001b[38;5;4m\u001b[1m[ \u001b[22m\u001b[39m\u001b[38;5;4m\u001b[1mDebug: \u001b[22m\u001b[39m20220224 04:34:45 loss: Dual{ForwardDiff.Tag{var\"#validation_mse#23\"{var\"#20#22\"{cf_params, Dict{String, typeof(get_abs_neighborhood)}, Int64, Matrix{Float32}}, RatingsDataset, RatingsDataset}, Float64}}(1.3369404644895662,-0.007688850842911832,0.003171761702606451,-0.0001832528687702371) β: Dual{ForwardDiff.Tag{var\"#validation_mse#23\"{var\"#20#22\"{cf_params, Dict{String, typeof(get_abs_neighborhood)}, Int64, Matrix{Float32}}, RatingsDataset, RatingsDataset}, Float64}}(0.937325780253615,2.05416909209704,-0.6656860404463383,0.08075983444398176): λ ForwardDiff.Dual{ForwardDiff.Tag{var\"#validation_mse#23\"{var\"#20#22\"{cf_params, Dict{String, typeof(get_abs_neighborhood)}, Int64, Matrix{Float32}}, RatingsDataset, RatingsDataset}, Float64}, Float64, 3}[Dual{ForwardDiff.Tag{var\"#validation_mse#23\"{var\"#20#22\"{cf_params, Dict{String, typeof(get_abs_neighborhood)}, Int64, Matrix{Float32}}, RatingsDataset, RatingsDataset}, Float64}}(0.16608859225159822,1.0,0.0,0.0), Dual{ForwardDiff.Tag{var\"#validation_mse#23\"{var\"#20#22\"{cf_params, Dict{String, typeof(get_abs_neighborhood)}, Int64, Matrix{Float32}}, RatingsDataset, RatingsDataset}, Float64}}(1.0024655238409554,0.0,1.0,0.0), Dual{ForwardDiff.Tag{var\"#validation_mse#23\"{var\"#20#22\"{cf_params, Dict{String, typeof(get_abs_neighborhood)}, Int64, Matrix{Float32}}, RatingsDataset, RatingsDataset}, Float64}}(5.869667423353898,0.0,0.0,1.0)]\n",
      "\u001b[32mProgress: 100%|███████████████████████████| Time: 0:04:13 ( 0.30  s/it)\u001b[39m\n",
      "\u001b[38;5;4m\u001b[1m[ \u001b[22m\u001b[39m\u001b[38;5;4m\u001b[1mDebug: \u001b[22m\u001b[39m20220224 04:39:20 loss: Dual{ForwardDiff.Tag{var\"#validation_mse#23\"{var\"#20#22\"{cf_params, Dict{String, typeof(get_abs_neighborhood)}, Int64, Matrix{Float32}}, RatingsDataset, RatingsDataset}, Float64}}(1.3363516634365937,-0.002623890677575453,0.0009812115630643465,-0.00020496288237541684) β: Dual{ForwardDiff.Tag{var\"#validation_mse#23\"{var\"#20#22\"{cf_params, Dict{String, typeof(get_abs_neighborhood)}, Int64, Matrix{Float32}}, RatingsDataset, RatingsDataset}, Float64}}(1.1162000756154138,2.3331334426175228,-0.6274316408315002,0.1421979774150656): λ ForwardDiff.Dual{ForwardDiff.Tag{var\"#validation_mse#23\"{var\"#20#22\"{cf_params, Dict{String, typeof(get_abs_neighborhood)}, Int64, Matrix{Float32}}, RatingsDataset, RatingsDataset}, Float64}, Float64, 3}[Dual{ForwardDiff.Tag{var\"#validation_mse#23\"{var\"#20#22\"{cf_params, Dict{String, typeof(get_abs_neighborhood)}, Int64, Matrix{Float32}}, RatingsDataset, RatingsDataset}, Float64}}(0.3011913432687786,1.0,0.0,0.0), Dual{ForwardDiff.Tag{var\"#validation_mse#23\"{var\"#20#22\"{cf_params, Dict{String, typeof(get_abs_neighborhood)}, Int64, Matrix{Float32}}, RatingsDataset, RatingsDataset}, Float64}}(0.9196132745010484,0.0,1.0,0.0), Dual{ForwardDiff.Tag{var\"#validation_mse#23\"{var\"#20#22\"{cf_params, Dict{String, typeof(get_abs_neighborhood)}, Int64, Matrix{Float32}}, RatingsDataset, RatingsDataset}, Float64}}(4.2522017978076105,0.0,0.0,1.0)]\n"
     ]
    },
    {
     "name": "stdout",
     "output_type": "stream",
     "text": [
      "     5     1.336352e+00     2.623891e-03\n",
      " * Current step size: 2.2903283694343353\n",
      " * time: 6432.854234218597\n",
      " * g(x): [-0.002623890677575453, 0.0009812115630643465, -0.00020496288237541684]\n",
      " * x: [0.3011913432687786, 0.9196132745010484, 4.2522017978076105]\n"
     ]
    },
    {
     "name": "stderr",
     "output_type": "stream",
     "text": [
      "\u001b[32mProgress: 100%|███████████████████████████| Time: 0:04:17 ( 0.30  s/it)\u001b[39m\n",
      "\u001b[38;5;4m\u001b[1m[ \u001b[22m\u001b[39m\u001b[38;5;4m\u001b[1mDebug: \u001b[22m\u001b[39m20220224 04:44:04 loss: Dual{ForwardDiff.Tag{var\"#validation_mse#23\"{var\"#20#22\"{cf_params, Dict{String, typeof(get_abs_neighborhood)}, Int64, Matrix{Float32}}, RatingsDataset, RatingsDataset}, Float64}}(1.3362287792685774,-0.0014328857785233513,0.00037526390494524567,-0.00015153470462048432) β: Dual{ForwardDiff.Tag{var\"#validation_mse#23\"{var\"#20#22\"{cf_params, Dict{String, typeof(get_abs_neighborhood)}, Int64, Matrix{Float32}}, RatingsDataset, RatingsDataset}, Float64}}(1.2277032226758722,2.63309418608287,-0.6345247454898895,0.14561744844769955): λ ForwardDiff.Dual{ForwardDiff.Tag{var\"#validation_mse#23\"{var\"#20#22\"{cf_params, Dict{String, typeof(get_abs_neighborhood)}, Int64, Matrix{Float32}}, RatingsDataset, RatingsDataset}, Float64}, Float64, 3}[Dual{ForwardDiff.Tag{var\"#validation_mse#23\"{var\"#20#22\"{cf_params, Dict{String, typeof(get_abs_neighborhood)}, Int64, Matrix{Float32}}, RatingsDataset, RatingsDataset}, Float64}}(0.3127030822971969,1.0,0.0,0.0), Dual{ForwardDiff.Tag{var\"#validation_mse#23\"{var\"#20#22\"{cf_params, Dict{String, typeof(get_abs_neighborhood)}, Int64, Matrix{Float32}}, RatingsDataset, RatingsDataset}, Float64}}(0.8936052744318386,0.0,1.0,0.0), Dual{ForwardDiff.Tag{var\"#validation_mse#23\"{var\"#20#22\"{cf_params, Dict{String, typeof(get_abs_neighborhood)}, Int64, Matrix{Float32}}, RatingsDataset, RatingsDataset}, Float64}}(4.71453796378879,0.0,0.0,1.0)]\n",
      "\u001b[32mProgress: 100%|███████████████████████████| Time: 0:04:17 ( 0.30  s/it)\u001b[39m\n",
      "\u001b[38;5;4m\u001b[1m[ \u001b[22m\u001b[39m\u001b[38;5;4m\u001b[1mDebug: \u001b[22m\u001b[39m20220224 04:48:40 loss: Dual{ForwardDiff.Tag{var\"#validation_mse#23\"{var\"#20#22\"{cf_params, Dict{String, typeof(get_abs_neighborhood)}, Int64, Matrix{Float32}}, RatingsDataset, RatingsDataset}, Float64}}(1.3362069517693222,0.0030652737204009215,-0.0021313290807631812,-3.1931937691866845e-5) β: Dual{ForwardDiff.Tag{var\"#validation_mse#23\"{var\"#20#22\"{cf_params, Dict{String, typeof(get_abs_neighborhood)}, Int64, Matrix{Float32}}, RatingsDataset, RatingsDataset}, Float64}}(1.729626989397935,4.014276945180741,-0.5784896515505425,0.16446178041684745): λ ForwardDiff.Dual{ForwardDiff.Tag{var\"#validation_mse#23\"{var\"#20#22\"{cf_params, Dict{String, typeof(get_abs_neighborhood)}, Int64, Matrix{Float32}}, RatingsDataset, RatingsDataset}, Float64}, Float64, 3}[Dual{ForwardDiff.Tag{var\"#validation_mse#23\"{var\"#20#22\"{cf_params, Dict{String, typeof(get_abs_neighborhood)}, Int64, Matrix{Float32}}, RatingsDataset, RatingsDataset}, Float64}}(0.35875003841087016,1.0,0.0,0.0), Dual{ForwardDiff.Tag{var\"#validation_mse#23\"{var\"#20#22\"{cf_params, Dict{String, typeof(get_abs_neighborhood)}, Int64, Matrix{Float32}}, RatingsDataset, RatingsDataset}, Float64}}(0.7895732741549993,0.0,1.0,0.0), Dual{ForwardDiff.Tag{var\"#validation_mse#23\"{var\"#20#22\"{cf_params, Dict{String, typeof(get_abs_neighborhood)}, Int64, Matrix{Float32}}, RatingsDataset, RatingsDataset}, Float64}}(6.5638826277135065,0.0,0.0,1.0)]\n",
      "\u001b[32mProgress: 100%|███████████████████████████| Time: 0:04:14 ( 0.30  s/it)\u001b[39m\n",
      "\u001b[38;5;4m\u001b[1m[ \u001b[22m\u001b[39m\u001b[38;5;4m\u001b[1mDebug: \u001b[22m\u001b[39m20220224 04:53:12 loss: Dual{ForwardDiff.Tag{var\"#validation_mse#23\"{var\"#20#22\"{cf_params, Dict{String, typeof(get_abs_neighborhood)}, Int64, Matrix{Float32}}, RatingsDataset, RatingsDataset}, Float64}}(1.3361326293984308,0.0011418294820119696,-0.0010196618114995748,-7.097130145943017e-5) β: Dual{ForwardDiff.Tag{var\"#validation_mse#23\"{var\"#20#22\"{cf_params, Dict{String, typeof(get_abs_neighborhood)}, Int64, Matrix{Float32}}, RatingsDataset, RatingsDataset}, Float64}}(1.496850500950204,3.369310106148295,-0.621406046199224,0.15529044818426987): λ ForwardDiff.Dual{ForwardDiff.Tag{var\"#validation_mse#23\"{var\"#20#22\"{cf_params, Dict{String, typeof(get_abs_neighborhood)}, Int64, Matrix{Float32}}, RatingsDataset, RatingsDataset}, Float64}, Float64, 3}[Dual{ForwardDiff.Tag{var\"#validation_mse#23\"{var\"#20#22\"{cf_params, Dict{String, typeof(get_abs_neighborhood)}, Int64, Matrix{Float32}}, RatingsDataset, RatingsDataset}, Float64}}(0.3384476156686068,1.0,0.0,0.0), Dual{ForwardDiff.Tag{var\"#validation_mse#23\"{var\"#20#22\"{cf_params, Dict{String, typeof(get_abs_neighborhood)}, Int64, Matrix{Float32}}, RatingsDataset, RatingsDataset}, Float64}}(0.8354417055694371,0.0,1.0,0.0), Dual{ForwardDiff.Tag{var\"#validation_mse#23\"{var\"#20#22\"{cf_params, Dict{String, typeof(get_abs_neighborhood)}, Int64, Matrix{Float32}}, RatingsDataset, RatingsDataset}, Float64}}(5.748493721865732,0.0,0.0,1.0)]\n"
     ]
    },
    {
     "name": "stdout",
     "output_type": "stream",
     "text": [
      "     6     1.336133e+00     1.141829e-03\n",
      " * Current step size: 3.236372220379214\n",
      " * time: 7264.02233505249\n",
      " * g(x): [0.0011418294820119696, -0.0010196618114995748, -7.097130145943017e-5]\n",
      " * x: [0.3384476156686068, 0.8354417055694371, 5.748493721865732]\n"
     ]
    },
    {
     "name": "stderr",
     "output_type": "stream",
     "text": [
      "\u001b[32mProgress: 100%|███████████████████████████| Time: 0:04:13 ( 0.29  s/it)\u001b[39m\n",
      "\u001b[38;5;4m\u001b[1m[ \u001b[22m\u001b[39m\u001b[38;5;4m\u001b[1mDebug: \u001b[22m\u001b[39m20220224 04:57:42 loss: Dual{ForwardDiff.Tag{var\"#validation_mse#23\"{var\"#20#22\"{cf_params, Dict{String, typeof(get_abs_neighborhood)}, Int64, Matrix{Float32}}, RatingsDataset, RatingsDataset}, Float64}}(1.3360502039923343,0.0003316029659855603,-0.0003584882322142043,-5.5327248109910534e-5) β: Dual{ForwardDiff.Tag{var\"#validation_mse#23\"{var\"#20#22\"{cf_params, Dict{String, typeof(get_abs_neighborhood)}, Int64, Matrix{Float32}}, RatingsDataset, RatingsDataset}, Float64}}(1.5272579730344347,3.561763906846167,-0.6999105806189174,0.14036952878823997): λ ForwardDiff.Dual{ForwardDiff.Tag{var\"#validation_mse#23\"{var\"#20#22\"{cf_params, Dict{String, typeof(get_abs_neighborhood)}, Int64, Matrix{Float32}}, RatingsDataset, RatingsDataset}, Float64}, Float64, 3}[Dual{ForwardDiff.Tag{var\"#validation_mse#23\"{var\"#20#22\"{cf_params, Dict{String, typeof(get_abs_neighborhood)}, Int64, Matrix{Float32}}, RatingsDataset, RatingsDataset}, Float64}}(0.318710119936902,1.0,0.0,0.0), Dual{ForwardDiff.Tag{var\"#validation_mse#23\"{var\"#20#22\"{cf_params, Dict{String, typeof(get_abs_neighborhood)}, Int64, Matrix{Float32}}, RatingsDataset, RatingsDataset}, Float64}}(0.8622607446831545,0.0,1.0,0.0), Dual{ForwardDiff.Tag{var\"#validation_mse#23\"{var\"#20#22\"{cf_params, Dict{String, typeof(get_abs_neighborhood)}, Int64, Matrix{Float32}}, RatingsDataset, RatingsDataset}, Float64}}(6.538202498278348,0.0,0.0,1.0)]\n",
      "\u001b[32mProgress: 100%|███████████████████████████| Time: 0:04:22 ( 0.31  s/it)\u001b[39m\n",
      "\u001b[38;5;4m\u001b[1m[ \u001b[22m\u001b[39m\u001b[38;5;4m\u001b[1mDebug: \u001b[22m\u001b[39m20220224 05:02:37 loss: Dual{ForwardDiff.Tag{var\"#validation_mse#23\"{var\"#20#22\"{cf_params, Dict{String, typeof(get_abs_neighborhood)}, Int64, Matrix{Float32}}, RatingsDataset, RatingsDataset}, Float64}}(1.3361201031550427,-0.0026678246394876053,0.002222542789460474,-3.184528602826141e-5) β: Dual{ForwardDiff.Tag{var\"#validation_mse#23\"{var\"#20#22\"{cf_params, Dict{String, typeof(get_abs_neighborhood)}, Int64, Matrix{Float32}}, RatingsDataset, RatingsDataset}, Float64}}(1.5064758048571374,3.8356553006824075,-0.9481486539971944,0.09401760919033836): λ ForwardDiff.Dual{ForwardDiff.Tag{var\"#validation_mse#23\"{var\"#20#22\"{cf_params, Dict{String, typeof(get_abs_neighborhood)}, Int64, Matrix{Float32}}, RatingsDataset, RatingsDataset}, Float64}, Float64, 3}[Dual{ForwardDiff.Tag{var\"#validation_mse#23\"{var\"#20#22\"{cf_params, Dict{String, typeof(get_abs_neighborhood)}, Int64, Matrix{Float32}}, RatingsDataset, RatingsDataset}, Float64}}(0.23976013701008295,1.0,0.0,0.0), Dual{ForwardDiff.Tag{var\"#validation_mse#23\"{var\"#20#22\"{cf_params, Dict{String, typeof(get_abs_neighborhood)}, Int64, Matrix{Float32}}, RatingsDataset, RatingsDataset}, Float64}}(0.969536901138024,0.0,1.0,0.0), Dual{ForwardDiff.Tag{var\"#validation_mse#23\"{var\"#20#22\"{cf_params, Dict{String, typeof(get_abs_neighborhood)}, Int64, Matrix{Float32}}, RatingsDataset, RatingsDataset}, Float64}}(9.69703760392881,0.0,0.0,1.0)]\n",
      "\u001b[32mProgress: 100%|███████████████████████████| Time: 0:04:13 ( 0.30  s/it)\u001b[39m\n",
      "\u001b[38;5;4m\u001b[1m[ \u001b[22m\u001b[39m\u001b[38;5;4m\u001b[1mDebug: \u001b[22m\u001b[39m20220224 05:07:07 loss: Dual{ForwardDiff.Tag{var\"#validation_mse#23\"{var\"#20#22\"{cf_params, Dict{String, typeof(get_abs_neighborhood)}, Int64, Matrix{Float32}}, RatingsDataset, RatingsDataset}, Float64}}(1.336007395691116,-0.0009533862715567852,0.000710679163644944,-4.078235086749086e-5) β: Dual{ForwardDiff.Tag{var\"#validation_mse#23\"{var\"#20#22\"{cf_params, Dict{String, typeof(get_abs_neighborhood)}, Int64, Matrix{Float32}}, RatingsDataset, RatingsDataset}, Float64}}(1.542635440914452,3.7606592363556426,-0.8149574422980096,0.11924652611988583): λ ForwardDiff.Dual{ForwardDiff.Tag{var\"#validation_mse#23\"{var\"#20#22\"{cf_params, Dict{String, typeof(get_abs_neighborhood)}, Int64, Matrix{Float32}}, RatingsDataset, RatingsDataset}, Float64}, Float64, 3}[Dual{ForwardDiff.Tag{var\"#validation_mse#23\"{var\"#20#22\"{cf_params, Dict{String, typeof(get_abs_neighborhood)}, Int64, Matrix{Float32}}, RatingsDataset, RatingsDataset}, Float64}}(0.2865578018856528,1.0,0.0,0.0), Dual{ForwardDiff.Tag{var\"#validation_mse#23\"{var\"#20#22\"{cf_params, Dict{String, typeof(get_abs_neighborhood)}, Int64, Matrix{Float32}}, RatingsDataset, RatingsDataset}, Float64}}(0.9059488744811012,0.0,1.0,0.0), Dual{ForwardDiff.Tag{var\"#validation_mse#23\"{var\"#20#22\"{cf_params, Dict{String, typeof(get_abs_neighborhood)}, Int64, Matrix{Float32}}, RatingsDataset, RatingsDataset}, Float64}}(7.824635594564988,0.0,0.0,1.0)]\n"
     ]
    },
    {
     "name": "stdout",
     "output_type": "stream",
     "text": [
      "     7     1.336007e+00     9.533863e-04\n",
      " * Current step size: 2.6289968336561715\n",
      " * time: 8099.7951509952545\n",
      " * g(x): [-0.0009533862715567852, 0.000710679163644944, -4.078235086749086e-5]\n",
      " * x: [0.2865578018856528, 0.9059488744811012, 7.824635594564988]\n"
     ]
    },
    {
     "name": "stderr",
     "output_type": "stream",
     "text": [
      "\u001b[32mProgress: 100%|███████████████████████████| Time: 0:04:19 ( 0.30  s/it)\u001b[39m\n",
      "\u001b[38;5;4m\u001b[1m[ \u001b[22m\u001b[39m\u001b[38;5;4m\u001b[1mDebug: \u001b[22m\u001b[39m20220224 05:11:53 loss: Dual{ForwardDiff.Tag{var\"#validation_mse#23\"{var\"#20#22\"{cf_params, Dict{String, typeof(get_abs_neighborhood)}, Int64, Matrix{Float32}}, RatingsDataset, RatingsDataset}, Float64}}(1.335972297730656,-0.0005054499417803348,0.0002570779258138764,-2.7551735113084697e-5) β: Dual{ForwardDiff.Tag{var\"#validation_mse#23\"{var\"#20#22\"{cf_params, Dict{String, typeof(get_abs_neighborhood)}, Int64, Matrix{Float32}}, RatingsDataset, RatingsDataset}, Float64}}(1.6478574833720905,4.09849368110613,-0.8140325452799724,0.11860415526324394): λ ForwardDiff.Dual{ForwardDiff.Tag{var\"#validation_mse#23\"{var\"#20#22\"{cf_params, Dict{String, typeof(get_abs_neighborhood)}, Int64, Matrix{Float32}}, RatingsDataset, RatingsDataset}, Float64}, Float64, 3}[Dual{ForwardDiff.Tag{var\"#validation_mse#23\"{var\"#20#22\"{cf_params, Dict{String, typeof(get_abs_neighborhood)}, Int64, Matrix{Float32}}, RatingsDataset, RatingsDataset}, Float64}}(0.28691664381967363,1.0,0.0,0.0), Dual{ForwardDiff.Tag{var\"#validation_mse#23\"{var\"#20#22\"{cf_params, Dict{String, typeof(get_abs_neighborhood)}, Int64, Matrix{Float32}}, RatingsDataset, RatingsDataset}, Float64}}(0.8850363706052313,0.0,1.0,0.0), Dual{ForwardDiff.Tag{var\"#validation_mse#23\"{var\"#20#22\"{cf_params, Dict{String, typeof(get_abs_neighborhood)}, Int64, Matrix{Float32}}, RatingsDataset, RatingsDataset}, Float64}}(8.55432468829783,0.0,0.0,1.0)]\n",
      "\u001b[32mProgress: 100%|███████████████████████████| Time: 0:04:28 ( 0.31  s/it)\u001b[39m\n",
      "\u001b[38;5;4m\u001b[1m[ \u001b[22m\u001b[39m\u001b[38;5;4m\u001b[1mDebug: \u001b[22m\u001b[39m20220224 05:16:48 loss: Dual{ForwardDiff.Tag{var\"#validation_mse#23\"{var\"#20#22\"{cf_params, Dict{String, typeof(get_abs_neighborhood)}, Int64, Matrix{Float32}}, RatingsDataset, RatingsDataset}, Float64}}(1.3359963550777478,0.0009592786492395837,-0.0015756404366065835,1.2927234912720957e-6) β: Dual{ForwardDiff.Tag{var\"#validation_mse#23\"{var\"#20#22\"{cf_params, Dict{String, typeof(get_abs_neighborhood)}, Int64, Matrix{Float32}}, RatingsDataset, RatingsDataset}, Float64}}(2.0644125204986374,5.468805094051681,-0.737271718268765,0.117355221867419): λ ForwardDiff.Dual{ForwardDiff.Tag{var\"#validation_mse#23\"{var\"#20#22\"{cf_params, Dict{String, typeof(get_abs_neighborhood)}, Int64, Matrix{Float32}}, RatingsDataset, RatingsDataset}, Float64}, Float64, 3}[Dual{ForwardDiff.Tag{var\"#validation_mse#23\"{var\"#20#22\"{cf_params, Dict{String, typeof(get_abs_neighborhood)}, Int64, Matrix{Float32}}, RatingsDataset, RatingsDataset}, Float64}}(0.288352011555757,1.0,0.0,0.0), Dual{ForwardDiff.Tag{var\"#validation_mse#23\"{var\"#20#22\"{cf_params, Dict{String, typeof(get_abs_neighborhood)}, Int64, Matrix{Float32}}, RatingsDataset, RatingsDataset}, Float64}}(0.8013863551017518,0.0,1.0,0.0), Dual{ForwardDiff.Tag{var\"#validation_mse#23\"{var\"#20#22\"{cf_params, Dict{String, typeof(get_abs_neighborhood)}, Int64, Matrix{Float32}}, RatingsDataset, RatingsDataset}, Float64}}(11.473081063229198,0.0,0.0,1.0)]\n",
      "\u001b[32mProgress: 100%|███████████████████████████| Time: 0:04:25 ( 0.31  s/it)\u001b[39m\n",
      "\u001b[38;5;4m\u001b[1m[ \u001b[22m\u001b[39m\u001b[38;5;4m\u001b[1mDebug: \u001b[22m\u001b[39m20220224 05:21:38 loss: Dual{ForwardDiff.Tag{var\"#validation_mse#23\"{var\"#20#22\"{cf_params, Dict{String, typeof(get_abs_neighborhood)}, Int64, Matrix{Float32}}, RatingsDataset, RatingsDataset}, Float64}}(1.3359532446245006,0.00017903171256869197,-0.0005265394056616906,-1.1636078597329102e-5) β: Dual{ForwardDiff.Tag{var\"#validation_mse#23\"{var\"#20#22\"{cf_params, Dict{String, typeof(get_abs_neighborhood)}, Int64, Matrix{Float32}}, RatingsDataset, RatingsDataset}, Float64}}(1.827274411574973,4.682670218302359,-0.7954826116073872,0.11788178192129065): λ ForwardDiff.Dual{ForwardDiff.Tag{var\"#validation_mse#23\"{var\"#20#22\"{cf_params, Dict{String, typeof(get_abs_neighborhood)}, Int64, Matrix{Float32}}, RatingsDataset, RatingsDataset}, Float64}, Float64, 3}[Dual{ForwardDiff.Tag{var\"#validation_mse#23\"{var\"#20#22\"{cf_params, Dict{String, typeof(get_abs_neighborhood)}, Int64, Matrix{Float32}}, RatingsDataset, RatingsDataset}, Float64}}(0.28753157060561607,1.0,0.0,0.0), Dual{ForwardDiff.Tag{var\"#validation_mse#23\"{var\"#20#22\"{cf_params, Dict{String, typeof(get_abs_neighborhood)}, Int64, Matrix{Float32}}, RatingsDataset, RatingsDataset}, Float64}}(0.84919981535567,0.0,1.0,0.0), Dual{ForwardDiff.Tag{var\"#validation_mse#23\"{var\"#20#22\"{cf_params, Dict{String, typeof(get_abs_neighborhood)}, Int64, Matrix{Float32}}, RatingsDataset, RatingsDataset}, Float64}}(9.804750925049529,0.0,0.0,1.0)]\n"
     ]
    },
    {
     "name": "stdout",
     "output_type": "stream",
     "text": [
      "     8     1.335953e+00     5.265394e-04\n",
      " * Current step size: 2.7136424917014215\n",
      " * time: 8970.030508041382\n",
      " * g(x): [0.00017903171256869197, -0.0005265394056616906, -1.1636078597329102e-5]\n",
      " * x: [0.28753157060561607, 0.84919981535567, 9.804750925049529]\n"
     ]
    },
    {
     "name": "stderr",
     "output_type": "stream",
     "text": [
      "\u001b[32mProgress: 100%|███████████████████████████| Time: 0:04:19 ( 0.30  s/it)\u001b[39m\n",
      "\u001b[38;5;4m\u001b[1m[ \u001b[22m\u001b[39m\u001b[38;5;4m\u001b[1mDebug: \u001b[22m\u001b[39m20220224 05:26:25 loss: Dual{ForwardDiff.Tag{var\"#validation_mse#23\"{var\"#20#22\"{cf_params, Dict{String, typeof(get_abs_neighborhood)}, Int64, Matrix{Float32}}, RatingsDataset, RatingsDataset}, Float64}}(1.3359403130638232,2.0607833873234444e-5,-0.00015465744038675104,-7.82702942252713e-6) β: Dual{ForwardDiff.Tag{var\"#validation_mse#23\"{var\"#20#22\"{cf_params, Dict{String, typeof(get_abs_neighborhood)}, Int64, Matrix{Float32}}, RatingsDataset, RatingsDataset}, Float64}}(1.8648524243132933,4.8581599105854245,-0.8583131879629485,0.11330845756875843): λ ForwardDiff.Dual{ForwardDiff.Tag{var\"#validation_mse#23\"{var\"#20#22\"{cf_params, Dict{String, typeof(get_abs_neighborhood)}, Int64, Matrix{Float32}}, RatingsDataset, RatingsDataset}, Float64}, Float64, 3}[Dual{ForwardDiff.Tag{var\"#validation_mse#23\"{var\"#20#22\"{cf_params, Dict{String, typeof(get_abs_neighborhood)}, Int64, Matrix{Float32}}, RatingsDataset, RatingsDataset}, Float64}}(0.2814029647021804,1.0,0.0,0.0), Dual{ForwardDiff.Tag{var\"#validation_mse#23\"{var\"#20#22\"{cf_params, Dict{String, typeof(get_abs_neighborhood)}, Int64, Matrix{Float32}}, RatingsDataset, RatingsDataset}, Float64}}(0.8656535482210321,0.0,1.0,0.0), Dual{ForwardDiff.Tag{var\"#validation_mse#23\"{var\"#20#22\"{cf_params, Dict{String, typeof(get_abs_neighborhood)}, Int64, Matrix{Float32}}, RatingsDataset, RatingsDataset}, Float64}}(10.500648961753805,0.0,0.0,1.0)]\n",
      "\u001b[32mProgress: 100%|███████████████████████████| Time: 0:04:24 ( 0.31  s/it)\u001b[39m\n",
      "\u001b[38;5;4m\u001b[1m[ \u001b[22m\u001b[39m\u001b[38;5;4m\u001b[1mDebug: \u001b[22m\u001b[39m20220224 05:31:20 loss: Dual{ForwardDiff.Tag{var\"#validation_mse#23\"{var\"#20#22\"{cf_params, Dict{String, typeof(get_abs_neighborhood)}, Int64, Matrix{Float32}}, RatingsDataset, RatingsDataset}, Float64}}(1.335978053682619,-0.0006800245238191859,0.0013110445881387189,3.0251967695374854e-7) β: Dual{ForwardDiff.Tag{var\"#validation_mse#23\"{var\"#20#22\"{cf_params, Dict{String, typeof(get_abs_neighborhood)}, Int64, Matrix{Float32}}, RatingsDataset, RatingsDataset}, Float64}}(1.9660838693141849,5.400525333920669,-1.099902519215205,0.0969803686865909): λ ForwardDiff.Dual{ForwardDiff.Tag{var\"#validation_mse#23\"{var\"#20#22\"{cf_params, Dict{String, typeof(get_abs_neighborhood)}, Int64, Matrix{Float32}}, RatingsDataset, RatingsDataset}, Float64}, Float64, 3}[Dual{ForwardDiff.Tag{var\"#validation_mse#23\"{var\"#20#22\"{cf_params, Dict{String, typeof(get_abs_neighborhood)}, Int64, Matrix{Float32}}, RatingsDataset, RatingsDataset}, Float64}}(0.2568885410884376,1.0,0.0,0.0), Dual{ForwardDiff.Tag{var\"#validation_mse#23\"{var\"#20#22\"{cf_params, Dict{String, typeof(get_abs_neighborhood)}, Int64, Matrix{Float32}}, RatingsDataset, RatingsDataset}, Float64}}(0.9314684796824805,0.0,1.0,0.0), Dual{ForwardDiff.Tag{var\"#validation_mse#23\"{var\"#20#22\"{cf_params, Dict{String, typeof(get_abs_neighborhood)}, Int64, Matrix{Float32}}, RatingsDataset, RatingsDataset}, Float64}}(13.284241108570914,0.0,0.0,1.0)]\n",
      "\u001b[32mProgress: 100%|███████████████████████████| Time: 0:03:57 ( 0.28  s/it)\u001b[39m\n",
      "\u001b[38;5;4m\u001b[1m[ \u001b[22m\u001b[39m\u001b[38;5;4m\u001b[1mDebug: \u001b[22m\u001b[39m20220224 05:35:33 loss: Dual{ForwardDiff.Tag{var\"#validation_mse#23\"{var\"#20#22\"{cf_params, Dict{String, typeof(get_abs_neighborhood)}, Int64, Matrix{Float32}}, RatingsDataset, RatingsDataset}, Float64}}(1.3359367715482071,-0.00013869346623568765,0.00019809791596950508,-5.034209407749406e-6) β: Dual{ForwardDiff.Tag{var\"#validation_mse#23\"{var\"#20#22\"{cf_params, Dict{String, typeof(get_abs_neighborhood)}, Int64, Matrix{Float32}}, RatingsDataset, RatingsDataset}, Float64}}(1.8958648209287188,5.010179373635831,-0.9175351132353035,0.109154153625752): λ ForwardDiff.Dual{ForwardDiff.Tag{var\"#validation_mse#23\"{var\"#20#22\"{cf_params, Dict{String, typeof(get_abs_neighborhood)}, Int64, Matrix{Float32}}, RatingsDataset, RatingsDataset}, Float64}, Float64, 3}[Dual{ForwardDiff.Tag{var\"#validation_mse#23\"{var\"#20#22\"{cf_params, Dict{String, typeof(get_abs_neighborhood)}, Int64, Matrix{Float32}}, RatingsDataset, RatingsDataset}, Float64}}(0.2755615250335045,1.0,0.0,0.0), Dual{ForwardDiff.Tag{var\"#validation_mse#23\"{var\"#20#22\"{cf_params, Dict{String, typeof(get_abs_neighborhood)}, Int64, Matrix{Float32}}, RatingsDataset, RatingsDataset}, Float64}}(0.8813363134978205,0.0,1.0,0.0), Dual{ForwardDiff.Tag{var\"#validation_mse#23\"{var\"#20#22\"{cf_params, Dict{String, typeof(get_abs_neighborhood)}, Int64, Matrix{Float32}}, RatingsDataset, RatingsDataset}, Float64}}(11.163939514451794,0.0,0.0,1.0)]\n"
     ]
    },
    {
     "name": "stdout",
     "output_type": "stream",
     "text": [
      "     9     1.335937e+00     1.980979e-04\n",
      " * Current step size: 1.953143302198818\n",
      " * time: 9805.476469993591\n",
      " * g(x): [-0.00013869346623568765, 0.00019809791596950508, -5.034209407749406e-6]\n",
      " * x: [0.2755615250335045, 0.8813363134978205, 11.163939514451794]\n"
     ]
    },
    {
     "name": "stderr",
     "output_type": "stream",
     "text": [
      "\u001b[32mProgress: 100%|███████████████████████████| Time: 0:04:25 ( 0.31  s/it)\u001b[39m\n",
      "\u001b[38;5;4m\u001b[1m[ \u001b[22m\u001b[39m\u001b[38;5;4m\u001b[1mDebug: \u001b[22m\u001b[39m20220224 05:40:22 loss: Dual{ForwardDiff.Tag{var\"#validation_mse#23\"{var\"#20#22\"{cf_params, Dict{String, typeof(get_abs_neighborhood)}, Int64, Matrix{Float32}}, RatingsDataset, RatingsDataset}, Float64}}(1.33593434135125,-6.448789436460299e-5,6.056809379356275e-5,-2.6485757434683446e-6) β: Dual{ForwardDiff.Tag{var\"#validation_mse#23\"{var\"#20#22\"{cf_params, Dict{String, typeof(get_abs_neighborhood)}, Int64, Matrix{Float32}}, RatingsDataset, RatingsDataset}, Float64}}(1.9423381758698193,5.175681770051599,-0.9190910263433895,0.1080396015214661): λ ForwardDiff.Dual{ForwardDiff.Tag{var\"#validation_mse#23\"{var\"#20#22\"{cf_params, Dict{String, typeof(get_abs_neighborhood)}, Int64, Matrix{Float32}}, RatingsDataset, RatingsDataset}, Float64}, Float64, 3}[Dual{ForwardDiff.Tag{var\"#validation_mse#23\"{var\"#20#22\"{cf_params, Dict{String, typeof(get_abs_neighborhood)}, Int64, Matrix{Float32}}, RatingsDataset, RatingsDataset}, Float64}}(0.27363521555352394,1.0,0.0,0.0), Dual{ForwardDiff.Tag{var\"#validation_mse#23\"{var\"#20#22\"{cf_params, Dict{String, typeof(get_abs_neighborhood)}, Int64, Matrix{Float32}}, RatingsDataset, RatingsDataset}, Float64}}(0.8746509954278519,0.0,1.0,0.0), Dual{ForwardDiff.Tag{var\"#validation_mse#23\"{var\"#20#22\"{cf_params, Dict{String, typeof(get_abs_neighborhood)}, Int64, Matrix{Float32}}, RatingsDataset, RatingsDataset}, Float64}}(11.625701696151538,0.0,0.0,1.0)]\n",
      "\u001b[32mProgress: 100%|███████████████████████████| Time: 0:04:25 ( 0.31  s/it)\u001b[39m\n",
      "\u001b[38;5;4m\u001b[1m[ \u001b[22m\u001b[39m\u001b[38;5;4m\u001b[1mDebug: \u001b[22m\u001b[39m20220224 05:45:09 loss: Dual{ForwardDiff.Tag{var\"#validation_mse#23\"{var\"#20#22\"{cf_params, Dict{String, typeof(get_abs_neighborhood)}, Int64, Matrix{Float32}}, RatingsDataset, RatingsDataset}, Float64}}(1.3359415004875006,0.00017648215953694908,-0.0004891532232804096,4.076823275668384e-6) β: Dual{ForwardDiff.Tag{var\"#validation_mse#23\"{var\"#20#22\"{cf_params, Dict{String, typeof(get_abs_neighborhood)}, Int64, Matrix{Float32}}, RatingsDataset, RatingsDataset}, Float64}}(2.12019150977663,5.816295448961205,-0.9124934210060607,0.10393922167832931): λ ForwardDiff.Dual{ForwardDiff.Tag{var\"#validation_mse#23\"{var\"#20#22\"{cf_params, Dict{String, typeof(get_abs_neighborhood)}, Int64, Matrix{Float32}}, RatingsDataset, RatingsDataset}, Float64}, Float64, 3}[Dual{ForwardDiff.Tag{var\"#validation_mse#23\"{var\"#20#22\"{cf_params, Dict{String, typeof(get_abs_neighborhood)}, Int64, Matrix{Float32}}, RatingsDataset, RatingsDataset}, Float64}}(0.26592997763360166,1.0,0.0,0.0), Dual{ForwardDiff.Tag{var\"#validation_mse#23\"{var\"#20#22\"{cf_params, Dict{String, typeof(get_abs_neighborhood)}, Int64, Matrix{Float32}}, RatingsDataset, RatingsDataset}, Float64}}(0.8479097231479774,0.0,1.0,0.0), Dual{ForwardDiff.Tag{var\"#validation_mse#23\"{var\"#20#22\"{cf_params, Dict{String, typeof(get_abs_neighborhood)}, Int64, Matrix{Float32}}, RatingsDataset, RatingsDataset}, Float64}}(13.47275042295051,0.0,0.0,1.0)]\n",
      "\u001b[32mProgress: 100%|███████████████████████████| Time: 0:04:21 ( 0.30  s/it)\u001b[39m\n",
      "\u001b[38;5;4m\u001b[1m[ \u001b[22m\u001b[39m\u001b[38;5;4m\u001b[1mDebug: \u001b[22m\u001b[39m20220224 05:49:59 loss: Dual{ForwardDiff.Tag{var\"#validation_mse#23\"{var\"#20#22\"{cf_params, Dict{String, typeof(get_abs_neighborhood)}, Int64, Matrix{Float32}}, RatingsDataset, RatingsDataset}, Float64}}(1.3359337085899419,4.788370011657774e-7,-7.038564974226016e-5,-6.805571349008787e-7) β: Dual{ForwardDiff.Tag{var\"#validation_mse#23\"{var\"#20#22\"{cf_params, Dict{String, typeof(get_abs_neighborhood)}, Int64, Matrix{Float32}}, RatingsDataset, RatingsDataset}, Float64}}(1.9858338475961748,5.3313069619242315,-0.9193529732855706,0.10701544674288162): λ ForwardDiff.Dual{ForwardDiff.Tag{var\"#validation_mse#23\"{var\"#20#22\"{cf_params, Dict{String, typeof(get_abs_neighborhood)}, Int64, Matrix{Float32}}, RatingsDataset, RatingsDataset}, Float64}, Float64, 3}[Dual{ForwardDiff.Tag{var\"#validation_mse#23\"{var\"#20#22\"{cf_params, Dict{String, typeof(get_abs_neighborhood)}, Int64, Matrix{Float32}}, RatingsDataset, RatingsDataset}, Float64}}(0.2718008822713561,1.0,0.0,0.0), Dual{ForwardDiff.Tag{var\"#validation_mse#23\"{var\"#20#22\"{cf_params, Dict{String, typeof(get_abs_neighborhood)}, Int64, Matrix{Float32}}, RatingsDataset, RatingsDataset}, Float64}}(0.868284883665922,0.0,1.0,0.0), Dual{ForwardDiff.Tag{var\"#validation_mse#23\"{var\"#20#22\"{cf_params, Dict{String, typeof(get_abs_neighborhood)}, Int64, Matrix{Float32}}, RatingsDataset, RatingsDataset}, Float64}}(12.06541595138471,0.0,0.0,1.0)]\n"
     ]
    },
    {
     "name": "stdout",
     "output_type": "stream",
     "text": [
      "    10     1.335934e+00     7.038565e-05\n",
      " * Current step size: 1.9522526370925124\n",
      " * time: 10671.08778309822\n",
      " * g(x): [4.788370011657774e-7, -7.038564974226016e-5, -6.805571349008787e-7]\n",
      " * x: [0.2718008822713561, 0.868284883665922, 12.06541595138471]\n"
     ]
    },
    {
     "name": "stderr",
     "output_type": "stream",
     "text": [
      "\u001b[32mProgress: 100%|███████████████████████████| Time: 0:04:21 ( 0.30  s/it)\u001b[39m\n",
      "\u001b[38;5;4m\u001b[1m[ \u001b[22m\u001b[39m\u001b[38;5;4m\u001b[1mDebug: \u001b[22m\u001b[39m20220224 05:54:41 loss: Dual{ForwardDiff.Tag{var\"#validation_mse#23\"{var\"#20#22\"{cf_params, Dict{String, typeof(get_abs_neighborhood)}, Int64, Matrix{Float32}}, RatingsDataset, RatingsDataset}, Float64}}(1.3359335405377772,-3.390791997634151e-6,-9.23483770167e-6,-2.2964799077304916e-7) β: Dual{ForwardDiff.Tag{var\"#validation_mse#23\"{var\"#20#22\"{cf_params, Dict{String, typeof(get_abs_neighborhood)}, Int64, Matrix{Float32}}, RatingsDataset, RatingsDataset}, Float64}}(1.9937698613338726,5.365679592146364,-0.9314014491215648,0.10656169659058867): λ ForwardDiff.Dual{ForwardDiff.Tag{var\"#validation_mse#23\"{var\"#20#22\"{cf_params, Dict{String, typeof(get_abs_neighborhood)}, Int64, Matrix{Float32}}, RatingsDataset, RatingsDataset}, Float64}, Float64, 3}[Dual{ForwardDiff.Tag{var\"#validation_mse#23\"{var\"#20#22\"{cf_params, Dict{String, typeof(get_abs_neighborhood)}, Int64, Matrix{Float32}}, RatingsDataset, RatingsDataset}, Float64}}(0.2713722884866978,1.0,0.0,0.0), Dual{ForwardDiff.Tag{var\"#validation_mse#23\"{var\"#20#22\"{cf_params, Dict{String, typeof(get_abs_neighborhood)}, Int64, Matrix{Float32}}, RatingsDataset, RatingsDataset}, Float64}}(0.8711479732955348,0.0,1.0,0.0), Dual{ForwardDiff.Tag{var\"#validation_mse#23\"{var\"#20#22\"{cf_params, Dict{String, typeof(get_abs_neighborhood)}, Int64, Matrix{Float32}}, RatingsDataset, RatingsDataset}, Float64}}(12.186007687056312,0.0,0.0,1.0)]\n",
      "\u001b[32mProgress: 100%|███████████████████████████| Time: 0:04:21 ( 0.30  s/it)\u001b[39m\n",
      "\u001b[38;5;4m\u001b[1m[ \u001b[22m\u001b[39m\u001b[38;5;4m\u001b[1mDebug: \u001b[22m\u001b[39m20220224 05:59:32 loss: Dual{ForwardDiff.Tag{var\"#validation_mse#23\"{var\"#20#22\"{cf_params, Dict{String, typeof(get_abs_neighborhood)}, Int64, Matrix{Float32}}, RatingsDataset, RatingsDataset}, Float64}}(1.335935147386032,-2.2381324284954095e-5,0.00023478472053034015,1.400437200489681e-6) β: Dual{ForwardDiff.Tag{var\"#validation_mse#23\"{var\"#20#22\"{cf_params, Dict{String, typeof(get_abs_neighborhood)}, Int64, Matrix{Float32}}, RatingsDataset, RatingsDataset}, Float64}}(2.0244809396666312,5.500137245972793,-0.9797270228126631,0.1047747148737342): λ ForwardDiff.Dual{ForwardDiff.Tag{var\"#validation_mse#23\"{var\"#20#22\"{cf_params, Dict{String, typeof(get_abs_neighborhood)}, Int64, Matrix{Float32}}, RatingsDataset, RatingsDataset}, Float64}, Float64, 3}[Dual{ForwardDiff.Tag{var\"#validation_mse#23\"{var\"#20#22\"{cf_params, Dict{String, typeof(get_abs_neighborhood)}, Int64, Matrix{Float32}}, RatingsDataset, RatingsDataset}, Float64}}(0.2696579133480645,1.0,0.0,0.0), Dual{ForwardDiff.Tag{var\"#validation_mse#23\"{var\"#20#22\"{cf_params, Dict{String, typeof(get_abs_neighborhood)}, Int64, Matrix{Float32}}, RatingsDataset, RatingsDataset}, Float64}}(0.8826003318139859,0.0,1.0,0.0), Dual{ForwardDiff.Tag{var\"#validation_mse#23\"{var\"#20#22\"{cf_params, Dict{String, typeof(get_abs_neighborhood)}, Int64, Matrix{Float32}}, RatingsDataset, RatingsDataset}, Float64}}(12.668374629742724,0.0,0.0,1.0)]\n",
      "\u001b[32mProgress: 100%|███████████████████████████| Time: 0:04:20 ( 0.30  s/it)\u001b[39m\n",
      "\u001b[38;5;4m\u001b[1m[ \u001b[22m\u001b[39m\u001b[38;5;4m\u001b[1mDebug: \u001b[22m\u001b[39m20220224 06:04:20 loss: Dual{ForwardDiff.Tag{var\"#validation_mse#23\"{var\"#20#22\"{cf_params, Dict{String, typeof(get_abs_neighborhood)}, Int64, Matrix{Float32}}, RatingsDataset, RatingsDataset}, Float64}}(1.335933534502286,-4.345672330214199e-6,5.021286553288896e-6,-1.2709289510574402e-7) β: Dual{ForwardDiff.Tag{var\"#validation_mse#23\"{var\"#20#22\"{cf_params, Dict{String, typeof(get_abs_neighborhood)}, Int64, Matrix{Float32}}, RatingsDataset, RatingsDataset}, Float64}}(1.995606110818268,5.373653881884866,-0.9342140239996877,0.10645626991017818): λ ForwardDiff.Dual{ForwardDiff.Tag{var\"#validation_mse#23\"{var\"#20#22\"{cf_params, Dict{String, typeof(get_abs_neighborhood)}, Int64, Matrix{Float32}}, RatingsDataset, RatingsDataset}, Float64}, Float64, 3}[Dual{ForwardDiff.Tag{var\"#validation_mse#23\"{var\"#20#22\"{cf_params, Dict{String, typeof(get_abs_neighborhood)}, Int64, Matrix{Float32}}, RatingsDataset, RatingsDataset}, Float64}}(0.2712723130303617,1.0,0.0,0.0), Dual{ForwardDiff.Tag{var\"#validation_mse#23\"{var\"#20#22\"{cf_params, Dict{String, typeof(get_abs_neighborhood)}, Int64, Matrix{Float32}}, RatingsDataset, RatingsDataset}, Float64}}(0.8718158287393089,0.0,1.0,0.0), Dual{ForwardDiff.Tag{var\"#validation_mse#23\"{var\"#20#22\"{cf_params, Dict{String, typeof(get_abs_neighborhood)}, Int64, Matrix{Float32}}, RatingsDataset, RatingsDataset}, Float64}}(12.214137385236013,0.0,0.0,1.0)]\n"
     ]
    },
    {
     "name": "stdout",
     "output_type": "stream",
     "text": [
      "    11     1.335934e+00     5.021287e-06\n",
      " * Current step size: 1.2332638967590872\n",
      " * time: 11532.583155155182\n",
      " * g(x): [-4.345672330214199e-6, 5.021286553288896e-6, -1.2709289510574402e-7]\n",
      " * x: [0.2712723130303617, 0.8718158287393089, 12.214137385236013]\n"
     ]
    },
    {
     "name": "stderr",
     "output_type": "stream",
     "text": [
      "\u001b[32mProgress: 100%|███████████████████████████| Time: 0:04:23 ( 0.31  s/it)\u001b[39m\n",
      "\u001b[38;5;4m\u001b[1m[ \u001b[22m\u001b[39m\u001b[38;5;4m\u001b[1mDebug: \u001b[22m\u001b[39m20220224 06:09:04 loss: Dual{ForwardDiff.Tag{var\"#validation_mse#23\"{var\"#20#22\"{cf_params, Dict{String, typeof(get_abs_neighborhood)}, Int64, Matrix{Float32}}, RatingsDataset, RatingsDataset}, Float64}}(1.335933532204225,5.65328431532224e-7,5.882832930249342e-7,-1.4595489431785851e-8) β: Dual{ForwardDiff.Tag{var\"#validation_mse#23\"{var\"#20#22\"{cf_params, Dict{String, typeof(get_abs_neighborhood)}, Int64, Matrix{Float32}}, RatingsDataset, RatingsDataset}, Float64}}(1.9982342678457026,5.383154235582241,-0.9347280528322105,0.1064103262426446): λ ForwardDiff.Dual{ForwardDiff.Tag{var\"#validation_mse#23\"{var\"#20#22\"{cf_params, Dict{String, typeof(get_abs_neighborhood)}, Int64, Matrix{Float32}}, RatingsDataset, RatingsDataset}, Float64}, Float64, 3}[Dual{ForwardDiff.Tag{var\"#validation_mse#23\"{var\"#20#22\"{cf_params, Dict{String, typeof(get_abs_neighborhood)}, Int64, Matrix{Float32}}, RatingsDataset, RatingsDataset}, Float64}}(0.27121487507887093,1.0,0.0,0.0), Dual{ForwardDiff.Tag{var\"#validation_mse#23\"{var\"#20#22\"{cf_params, Dict{String, typeof(get_abs_neighborhood)}, Int64, Matrix{Float32}}, RatingsDataset, RatingsDataset}, Float64}}(0.8716080742665205,0.0,1.0,0.0), Dual{ForwardDiff.Tag{var\"#validation_mse#23\"{var\"#20#22\"{cf_params, Dict{String, typeof(get_abs_neighborhood)}, Int64, Matrix{Float32}}, RatingsDataset, RatingsDataset}, Float64}}(12.239908842876803,0.0,0.0,1.0)]\n",
      "\u001b[32mProgress: 100%|███████████████████████████| Time: 0:04:19 ( 0.30  s/it)\u001b[39m\n",
      "\u001b[38;5;4m\u001b[1m[ \u001b[22m\u001b[39m\u001b[38;5;4m\u001b[1mDebug: \u001b[22m\u001b[39m20220224 06:13:40 loss: Dual{ForwardDiff.Tag{var\"#validation_mse#23\"{var\"#20#22\"{cf_params, Dict{String, typeof(get_abs_neighborhood)}, Int64, Matrix{Float32}}, RatingsDataset, RatingsDataset}, Float64}}(1.3359335580662237,2.001389120797529e-5,-1.7138633185793657e-5,4.2657032277679787e-7) β: Dual{ForwardDiff.Tag{var\"#validation_mse#23\"{var\"#20#22\"{cf_params, Dict{String, typeof(get_abs_neighborhood)}, Int64, Matrix{Float32}}, RatingsDataset, RatingsDataset}, Float64}}(2.008730708185829,5.421120954123124,-0.9367602628695259,0.1062277371520463): λ ForwardDiff.Dual{ForwardDiff.Tag{var\"#validation_mse#23\"{var\"#20#22\"{cf_params, Dict{String, typeof(get_abs_neighborhood)}, Int64, Matrix{Float32}}, RatingsDataset, RatingsDataset}, Float64}, Float64, 3}[Dual{ForwardDiff.Tag{var\"#validation_mse#23\"{var\"#20#22\"{cf_params, Dict{String, typeof(get_abs_neighborhood)}, Int64, Matrix{Float32}}, RatingsDataset, RatingsDataset}, Float64}}(0.27098512327290775,1.0,0.0,0.0), Dual{ForwardDiff.Tag{var\"#validation_mse#23\"{var\"#20#22\"{cf_params, Dict{String, typeof(get_abs_neighborhood)}, Int64, Matrix{Float32}}, RatingsDataset, RatingsDataset}, Float64}}(0.8707770563753671,0.0,1.0,0.0), Dual{ForwardDiff.Tag{var\"#validation_mse#23\"{var\"#20#22\"{cf_params, Dict{String, typeof(get_abs_neighborhood)}, Int64, Matrix{Float32}}, RatingsDataset, RatingsDataset}, Float64}}(12.342994673439966,0.0,0.0,1.0)]\n",
      "\u001b[32mProgress: 100%|███████████████████████████| Time: 0:04:11 ( 0.29  s/it)\u001b[39m\n",
      "\u001b[38;5;4m\u001b[1m[ \u001b[22m\u001b[39m\u001b[38;5;4m\u001b[1mDebug: \u001b[22m\u001b[39m20220224 06:18:18 loss: Dual{ForwardDiff.Tag{var\"#validation_mse#23\"{var\"#20#22\"{cf_params, Dict{String, typeof(get_abs_neighborhood)}, Int64, Matrix{Float32}}, RatingsDataset, RatingsDataset}, Float64}}(1.3359335321642727,1.3119030395282142e-6,-8.713952249267727e-8,2.4676858939954766e-9) β: Dual{ForwardDiff.Tag{var\"#validation_mse#23\"{var\"#20#22\"{cf_params, Dict{String, typeof(get_abs_neighborhood)}, Int64, Matrix{Float32}}, RatingsDataset, RatingsDataset}, Float64}}(1.9986345840734312,5.384601522798975,-0.9348061664434226,0.10640333618412941): λ ForwardDiff.Dual{ForwardDiff.Tag{var\"#validation_mse#23\"{var\"#20#22\"{cf_params, Dict{String, typeof(get_abs_neighborhood)}, Int64, Matrix{Float32}}, RatingsDataset, RatingsDataset}, Float64}, Float64, 3}[Dual{ForwardDiff.Tag{var\"#validation_mse#23\"{var\"#20#22\"{cf_params, Dict{String, typeof(get_abs_neighborhood)}, Int64, Matrix{Float32}}, RatingsDataset, RatingsDataset}, Float64}}(0.27120612311891856,1.0,0.0,0.0), Dual{ForwardDiff.Tag{var\"#validation_mse#23\"{var\"#20#22\"{cf_params, Dict{String, typeof(get_abs_neighborhood)}, Int64, Matrix{Float32}}, RatingsDataset, RatingsDataset}, Float64}}(0.8715764182137092,0.0,1.0,0.0), Dual{ForwardDiff.Tag{var\"#validation_mse#23\"{var\"#20#22\"{cf_params, Dict{String, typeof(get_abs_neighborhood)}, Int64, Matrix{Float32}}, RatingsDataset, RatingsDataset}, Float64}}(12.243835702371813,0.0,0.0,1.0)]\n"
     ]
    },
    {
     "name": "stdout",
     "output_type": "stream",
     "text": [
      "    12     1.335934e+00     1.311903e-06\n",
      " * Current step size: 1.1523724249416822\n",
      " * time: 12370.38623714447\n",
      " * g(x): [1.3119030395282142e-6, -8.713952249267727e-8, 2.4676858939954766e-9]\n",
      " * x: [0.27120612311891856, 0.8715764182137092, 12.243835702371813]\n"
     ]
    },
    {
     "name": "stderr",
     "output_type": "stream",
     "text": [
      "\u001b[32mProgress: 100%|███████████████████████████| Time: 0:04:15 ( 0.30  s/it)\u001b[39m\n",
      "\u001b[38;5;4m\u001b[1m[ \u001b[22m\u001b[39m\u001b[38;5;4m\u001b[1mDebug: \u001b[22m\u001b[39m20220224 06:22:59 loss: Dual{ForwardDiff.Tag{var\"#validation_mse#23\"{var\"#20#22\"{cf_params, Dict{String, typeof(get_abs_neighborhood)}, Int64, Matrix{Float32}}, RatingsDataset, RatingsDataset}, Float64}}(1.3359335321443142,-4.7454866115906986e-7,-2.5688516571866443e-8,-1.2799544076113145e-9) β: Dual{ForwardDiff.Tag{var\"#validation_mse#23\"{var\"#20#22\"{cf_params, Dict{String, typeof(get_abs_neighborhood)}, Int64, Matrix{Float32}}, RatingsDataset, RatingsDataset}, Float64}}(1.9985623367321588,5.3845038789737805,-0.9347636824439814,0.10638137451647056): λ ForwardDiff.Dual{ForwardDiff.Tag{var\"#validation_mse#23\"{var\"#20#22\"{cf_params, Dict{String, typeof(get_abs_neighborhood)}, Int64, Matrix{Float32}}, RatingsDataset, RatingsDataset}, Float64}, Float64, 3}[Dual{ForwardDiff.Tag{var\"#validation_mse#23\"{var\"#20#22\"{cf_params, Dict{String, typeof(get_abs_neighborhood)}, Int64, Matrix{Float32}}, RatingsDataset, RatingsDataset}, Float64}}(0.27115465392703963,1.0,0.0,0.0), Dual{ForwardDiff.Tag{var\"#validation_mse#23\"{var\"#20#22\"{cf_params, Dict{String, typeof(get_abs_neighborhood)}, Int64, Matrix{Float32}}, RatingsDataset, RatingsDataset}, Float64}}(0.8715677613227659,0.0,1.0,0.0), Dual{ForwardDiff.Tag{var\"#validation_mse#23\"{var\"#20#22\"{cf_params, Dict{String, typeof(get_abs_neighborhood)}, Int64, Matrix{Float32}}, RatingsDataset, RatingsDataset}, Float64}}(12.245685449045164,0.0,0.0,1.0)]\n",
      "\u001b[32mProgress: 100%|███████████████████████████| Time: 0:04:27 ( 0.31  s/it)\u001b[39m\n",
      "\u001b[38;5;4m\u001b[1m[ \u001b[22m\u001b[39m\u001b[38;5;4m\u001b[1mDebug: \u001b[22m\u001b[39m20220224 06:27:49 loss: Dual{ForwardDiff.Tag{var\"#validation_mse#23\"{var\"#20#22\"{cf_params, Dict{String, typeof(get_abs_neighborhood)}, Int64, Matrix{Float32}}, RatingsDataset, RatingsDataset}, Float64}}(1.3359335321413754,-3.4633772930109583e-9,-4.189314342278179e-8,-2.915340234635521e-10) β: Dual{ForwardDiff.Tag{var\"#validation_mse#23\"{var\"#20#22\"{cf_params, Dict{String, typeof(get_abs_neighborhood)}, Int64, Matrix{Float32}}, RatingsDataset, RatingsDataset}, Float64}}(1.9985813929107796,5.384529646224364,-0.9347748876011283,0.10638716570041365): λ ForwardDiff.Dual{ForwardDiff.Tag{var\"#validation_mse#23\"{var\"#20#22\"{cf_params, Dict{String, typeof(get_abs_neighborhood)}, Int64, Matrix{Float32}}, RatingsDataset, RatingsDataset}, Float64}, Float64, 3}[Dual{ForwardDiff.Tag{var\"#validation_mse#23\"{var\"#20#22\"{cf_params, Dict{String, typeof(get_abs_neighborhood)}, Int64, Matrix{Float32}}, RatingsDataset, RatingsDataset}, Float64}}(0.2711682271102025,1.0,0.0,0.0), Dual{ForwardDiff.Tag{var\"#validation_mse#23\"{var\"#20#22\"{cf_params, Dict{String, typeof(get_abs_neighborhood)}, Int64, Matrix{Float32}}, RatingsDataset, RatingsDataset}, Float64}}(0.8715700442722762,0.0,1.0,0.0), Dual{ForwardDiff.Tag{var\"#validation_mse#23\"{var\"#20#22\"{cf_params, Dict{String, typeof(get_abs_neighborhood)}, Int64, Matrix{Float32}}, RatingsDataset, RatingsDataset}, Float64}}(12.245197643632142,0.0,0.0,1.0)]\n"
     ]
    },
    {
     "name": "stdout",
     "output_type": "stream",
     "text": [
      "    13     1.335934e+00     4.189314e-08\n",
      " * Current step size: 0.736285287035187\n",
      " * time: 12941.118202209473\n",
      " * g(x): [-3.4633772930109583e-9, -4.189314342278179e-8, -2.915340234635521e-10]\n",
      " * x: [0.2711682271102025, 0.8715700442722762, 12.245197643632142]\n"
     ]
    },
    {
     "name": "stderr",
     "output_type": "stream",
     "text": [
      "\u001b[32mProgress: 100%|███████████████████████████| Time: 0:04:12 ( 0.29  s/it)\u001b[39m\n",
      "\u001b[38;5;4m\u001b[1m[ \u001b[22m\u001b[39m\u001b[38;5;4m\u001b[1mDebug: \u001b[22m\u001b[39m20220224 06:32:19 loss: Dual{ForwardDiff.Tag{var\"#validation_mse#23\"{var\"#20#22\"{cf_params, Dict{String, typeof(get_abs_neighborhood)}, Int64, Matrix{Float32}}, RatingsDataset, RatingsDataset}, Float64}}(1.3359335321413235,-1.0865410697052847e-10,-5.374011271747621e-10,-5.563619925375903e-12) β: Dual{ForwardDiff.Tag{var\"#validation_mse#23\"{var\"#20#22\"{cf_params, Dict{String, typeof(get_abs_neighborhood)}, Int64, Matrix{Float32}}, RatingsDataset, RatingsDataset}, Float64}}(1.9985864945672036,5.384551294257945,-0.9347830383412999,0.10638695761973191): λ ForwardDiff.Dual{ForwardDiff.Tag{var\"#validation_mse#23\"{var\"#20#22\"{cf_params, Dict{String, typeof(get_abs_neighborhood)}, Int64, Matrix{Float32}}, RatingsDataset, RatingsDataset}, Float64}, Float64, 3}[Dual{ForwardDiff.Tag{var\"#validation_mse#23\"{var\"#20#22\"{cf_params, Dict{String, typeof(get_abs_neighborhood)}, Int64, Matrix{Float32}}, RatingsDataset, RatingsDataset}, Float64}}(0.2711681510231817,1.0,0.0,0.0), Dual{ForwardDiff.Tag{var\"#validation_mse#23\"{var\"#20#22\"{cf_params, Dict{String, typeof(get_abs_neighborhood)}, Int64, Matrix{Float32}}, RatingsDataset, RatingsDataset}, Float64}}(0.8715720268139863,0.0,1.0,0.0), Dual{ForwardDiff.Tag{var\"#validation_mse#23\"{var\"#20#22\"{cf_params, Dict{String, typeof(get_abs_neighborhood)}, Int64, Matrix{Float32}}, RatingsDataset, RatingsDataset}, Float64}}(12.245266868106716,0.0,0.0,1.0)]\n",
      "\u001b[32mProgress: 100%|███████████████████████████| Time: 0:04:11 ( 0.29  s/it)\u001b[39m\n",
      "\u001b[38;5;4m\u001b[1m[ \u001b[22m\u001b[39m\u001b[38;5;4m\u001b[1mDebug: \u001b[22m\u001b[39m20220224 06:36:49 loss: Dual{ForwardDiff.Tag{var\"#validation_mse#23\"{var\"#20#22\"{cf_params, Dict{String, typeof(get_abs_neighborhood)}, Int64, Matrix{Float32}}, RatingsDataset, RatingsDataset}, Float64}}(1.3359335321421297,1.330878065177122e-8,1.6488530024869969e-7,1.1382523777761869e-9) β: Dual{ForwardDiff.Tag{var\"#validation_mse#23\"{var\"#20#22\"{cf_params, Dict{String, typeof(get_abs_neighborhood)}, Int64, Matrix{Float32}}, RatingsDataset, RatingsDataset}, Float64}}(1.9986069008713279,5.384637885523513,-0.934815641423165,0.10638612530319276): λ ForwardDiff.Dual{ForwardDiff.Tag{var\"#validation_mse#23\"{var\"#20#22\"{cf_params, Dict{String, typeof(get_abs_neighborhood)}, Int64, Matrix{Float32}}, RatingsDataset, RatingsDataset}, Float64}, Float64, 3}[Dual{ForwardDiff.Tag{var\"#validation_mse#23\"{var\"#20#22\"{cf_params, Dict{String, typeof(get_abs_neighborhood)}, Int64, Matrix{Float32}}, RatingsDataset, RatingsDataset}, Float64}}(0.27116784667509847,1.0,0.0,0.0), Dual{ForwardDiff.Tag{var\"#validation_mse#23\"{var\"#20#22\"{cf_params, Dict{String, typeof(get_abs_neighborhood)}, Int64, Matrix{Float32}}, RatingsDataset, RatingsDataset}, Float64}}(0.8715799569808262,0.0,1.0,0.0), Dual{ForwardDiff.Tag{var\"#validation_mse#23\"{var\"#20#22\"{cf_params, Dict{String, typeof(get_abs_neighborhood)}, Int64, Matrix{Float32}}, RatingsDataset, RatingsDataset}, Float64}}(12.24554376600501,0.0,0.0,1.0)]\n",
      "\u001b[32mProgress: 100%|███████████████████████████| Time: 0:04:10 ( 0.29  s/it)\u001b[39m\n",
      "\u001b[38;5;4m\u001b[1m[ \u001b[22m\u001b[39m\u001b[38;5;4m\u001b[1mDebug: \u001b[22m\u001b[39m20220224 06:41:18 loss: Dual{ForwardDiff.Tag{var\"#validation_mse#23\"{var\"#20#22\"{cf_params, Dict{String, typeof(get_abs_neighborhood)}, Int64, Matrix{Float32}}, RatingsDataset, RatingsDataset}, Float64}}(1.3359335321413235,-6.099899698551905e-11,5.0085579212496423e-11,-1.5012599874999186e-12) β: Dual{ForwardDiff.Tag{var\"#validation_mse#23\"{var\"#20#22\"{cf_params, Dict{String, typeof(get_abs_neighborhood)}, Int64, Matrix{Float32}}, RatingsDataset, RatingsDataset}, Float64}}(1.9985865670397924,5.384551601781646,-0.9347831541281683,0.10638695466378784): λ ForwardDiff.Dual{ForwardDiff.Tag{var\"#validation_mse#23\"{var\"#20#22\"{cf_params, Dict{String, typeof(get_abs_neighborhood)}, Int64, Matrix{Float32}}, RatingsDataset, RatingsDataset}, Float64}, Float64, 3}[Dual{ForwardDiff.Tag{var\"#validation_mse#23\"{var\"#20#22\"{cf_params, Dict{String, typeof(get_abs_neighborhood)}, Int64, Matrix{Float32}}, RatingsDataset, RatingsDataset}, Float64}}(0.271168149942313,1.0,0.0,0.0), Dual{ForwardDiff.Tag{var\"#validation_mse#23\"{var\"#20#22\"{cf_params, Dict{String, typeof(get_abs_neighborhood)}, Int64, Matrix{Float32}}, RatingsDataset, RatingsDataset}, Float64}}(0.8715720549773613,0.0,1.0,0.0), Dual{ForwardDiff.Tag{var\"#validation_mse#23\"{var\"#20#22\"{cf_params, Dict{String, typeof(get_abs_neighborhood)}, Int64, Matrix{Float32}}, RatingsDataset, RatingsDataset}, Float64}}(12.245267851488217,0.0,0.0,1.0)]\n"
     ]
    },
    {
     "name": "stdout",
     "output_type": "stream",
     "text": [
      "    14     1.335934e+00     6.099900e-11\n",
      " * Current step size: 1.0142056910796005\n",
      " * time: 13750.66489815712\n",
      " * g(x): [-6.099899698551905e-11, 5.0085579212496423e-11, -1.5012599874999186e-12]\n",
      " * x: [0.271168149942313, 0.8715720549773613, 12.245267851488217]\n"
     ]
    },
    {
     "name": "stderr",
     "output_type": "stream",
     "text": [
      "\u001b[32mProgress: 100%|███████████████████████████| Time: 3:04:57 ( 9.43  s/it)\u001b[39m\n",
      "\u001b[32mProgress: 100%|█████████████████████████████████████████| Time: 0:00:29\u001b[39m\n",
      "\u001b[38;5;6m\u001b[1m[ \u001b[22m\u001b[39m\u001b[38;5;6m\u001b[1mInfo: \u001b[22m\u001b[39m20220224 09:52:43 training set: RMSE 1.0723335994438785 MAE 0.7735985035065189 R2 0.056260313937872564\n",
      "\u001b[32mProgress: 100%|█████████████████████████████████████████| Time: 0:00:01\u001b[39m\n",
      "\u001b[38;5;6m\u001b[1m[ \u001b[22m\u001b[39m\u001b[38;5;6m\u001b[1mInfo: \u001b[22m\u001b[39m20220224 09:53:00 validation set: RMSE 1.155825909097613 MAE 0.8352890733152193 R2 0.014468054244603623\n",
      "\u001b[32mProgress: 100%|█████████████████████████████████████████| Time: 0:00:01\u001b[39m\n"
     ]
    }
   ],
   "source": [
    "item_alphas = [\"ItemCF.$K\" for K in [2^4, 2^6, 2^8, 2^10, 2^12]]\n",
    "alphas = [\"UserItemBiases\"; item_alphas]\n",
    "item_cf_params = [[\n",
    "        cf_params(\n",
    "            name = \"ItemCF.Resid.ItemCF.1.$K\",\n",
    "            training_residuals = alphas,\n",
    "            validation_residuals = alphas,\n",
    "            neighborhood_type = \"abs\",\n",
    "            S = get_correlation_matrix_outdir(alphas),\n",
    "            K = K,\n",
    "            λ = rand(3),\n",
    "        ) for K in [2^8]\n",
    "    ];\n",
    "];\n",
    "for param in item_cf_params\n",
    "    optimize_model(param)\n",
    "end"
   ]
  },
  {
   "cell_type": "markdown",
   "id": "5920c35a-3aec-439e-b42c-70b398871a04",
   "metadata": {
    "tags": []
   },
   "source": [
    "## MF residuals"
   ]
  },
  {
   "cell_type": "code",
   "execution_count": 5,
   "id": "7cb80373-816c-4766-8264-bdcbc36200b9",
   "metadata": {
    "tags": []
   },
   "outputs": [
    {
     "name": "stderr",
     "output_type": "stream",
     "text": [
      "\u001b[38;5;4m\u001b[1m[ \u001b[22m\u001b[39m\u001b[38;5;4m\u001b[1mDebug: \u001b[22m\u001b[39m20220225 04:57:41 generating similarity matrix for [\"UserItemBiases\", \"MatrixFactorization.10\", \"MatrixFactorization.20\", \"MatrixFactorization.40\"]\n",
      "\u001b[32mProgress: 100%|█████████████████████████████████████████| Time: 0:00:08\u001b[39m\n",
      "\u001b[32mProgress: 100%|███████████████████████████| Time: 0:34:30 ( 1.75  s/it)\u001b[39m\n",
      "\u001b[32mProgress: 100%|█████████████████████████████████████████| Time: 0:00:08\u001b[39m\n",
      "\u001b[32mProgress: 100%|█████████████████████████████████████████| Time: 0:00:00\u001b[39m\n",
      "\u001b[32mProgress: 100%|███████████████████████████| Time: 0:03:56 ( 0.28  s/it)\u001b[39m\n",
      "\u001b[38;5;4m\u001b[1m[ \u001b[22m\u001b[39m\u001b[38;5;4m\u001b[1mDebug: \u001b[22m\u001b[39m20220225 05:37:17 loss: Dual{ForwardDiff.Tag{var\"#validation_mse#23\"{var\"#20#22\"{cf_params, Dict{String, typeof(get_abs_neighborhood)}, Int64, Matrix{Float32}}, RatingsDataset, RatingsDataset}, Float32}}(1.3507808,-0.07799728,-0.022881081,-0.0047614267) β: Dual{ForwardDiff.Tag{var\"#validation_mse#23\"{var\"#20#22\"{cf_params, Dict{String, typeof(get_abs_neighborhood)}, Int64, Matrix{Float32}}, RatingsDataset, RatingsDataset}, Float32}}(1.2016828,1.6086196,0.07692187,0.5520321): λ ForwardDiff.Dual{ForwardDiff.Tag{var\"#validation_mse#23\"{var\"#20#22\"{cf_params, Dict{String, typeof(get_abs_neighborhood)}, Int64, Matrix{Float32}}, RatingsDataset, RatingsDataset}, Float32}, Float32, 3}[Dual{ForwardDiff.Tag{var\"#validation_mse#23\"{var\"#20#22\"{cf_params, Dict{String, typeof(get_abs_neighborhood)}, Int64, Matrix{Float32}}, RatingsDataset, RatingsDataset}, Float32}}(0.39371875,1.0,0.0,0.0), Dual{ForwardDiff.Tag{var\"#validation_mse#23\"{var\"#20#22\"{cf_params, Dict{String, typeof(get_abs_neighborhood)}, Int64, Matrix{Float32}}, RatingsDataset, RatingsDataset}, Float32}}(0.6054712,0.0,1.0,0.0), Dual{ForwardDiff.Tag{var\"#validation_mse#23\"{var\"#20#22\"{cf_params, Dict{String, typeof(get_abs_neighborhood)}, Int64, Matrix{Float32}}, RatingsDataset, RatingsDataset}, Float32}}(0.8064917,0.0,0.0,1.0)]\n"
     ]
    },
    {
     "name": "stdout",
     "output_type": "stream",
     "text": [
      "Iter     Function value   Gradient norm \n",
      "     0     1.350781e+00     7.799728e-02\n",
      " * Current step size: 1.0\n",
      " * time: 0.02466106414794922\n",
      " * g(x): Float32[-0.07799728, -0.022881081, -0.0047614267]\n",
      " * x: Float32[0.39371875, 0.6054712, 0.8064917]\n"
     ]
    },
    {
     "name": "stderr",
     "output_type": "stream",
     "text": [
      "\u001b[32mProgress: 100%|███████████████████████████| Time: 0:03:46 ( 0.26  s/it)\u001b[39m\n",
      "\u001b[38;5;4m\u001b[1m[ \u001b[22m\u001b[39m\u001b[38;5;4m\u001b[1mDebug: \u001b[22m\u001b[39m20220225 05:41:38 loss: Dual{ForwardDiff.Tag{var\"#validation_mse#23\"{var\"#20#22\"{cf_params, Dict{String, typeof(get_abs_neighborhood)}, Int64, Matrix{Float32}}, RatingsDataset, RatingsDataset}, Float32}}(1.344247,-0.07471313,-0.023365023,-0.004312556) β: Dual{ForwardDiff.Tag{var\"#validation_mse#23\"{var\"#20#22\"{cf_params, Dict{String, typeof(get_abs_neighborhood)}, Int64, Matrix{Float32}}, RatingsDataset, RatingsDataset}, Float32}}(1.3348936,1.6925411,0.046648085,0.6482752): λ ForwardDiff.Dual{ForwardDiff.Tag{var\"#validation_mse#23\"{var\"#20#22\"{cf_params, Dict{String, typeof(get_abs_neighborhood)}, Int64, Matrix{Float32}}, RatingsDataset, RatingsDataset}, Float32}, Float32, 3}[Dual{ForwardDiff.Tag{var\"#validation_mse#23\"{var\"#20#22\"{cf_params, Dict{String, typeof(get_abs_neighborhood)}, Int64, Matrix{Float32}}, RatingsDataset, RatingsDataset}, Float32}}(0.47171605,1.0,0.0,0.0), Dual{ForwardDiff.Tag{var\"#validation_mse#23\"{var\"#20#22\"{cf_params, Dict{String, typeof(get_abs_neighborhood)}, Int64, Matrix{Float32}}, RatingsDataset, RatingsDataset}, Float32}}(0.6283523,0.0,1.0,0.0), Dual{ForwardDiff.Tag{var\"#validation_mse#23\"{var\"#20#22\"{cf_params, Dict{String, typeof(get_abs_neighborhood)}, Int64, Matrix{Float32}}, RatingsDataset, RatingsDataset}, Float32}}(0.8112531,0.0,0.0,1.0)]\n",
      "\u001b[32mProgress: 100%|███████████████████████████| Time: 0:03:47 ( 0.27  s/it)\u001b[39m\n",
      "\u001b[38;5;4m\u001b[1m[ \u001b[22m\u001b[39m\u001b[38;5;4m\u001b[1mDebug: \u001b[22m\u001b[39m20220225 05:45:55 loss: Dual{ForwardDiff.Tag{var\"#validation_mse#23\"{var\"#20#22\"{cf_params, Dict{String, typeof(get_abs_neighborhood)}, Int64, Matrix{Float32}}, RatingsDataset, RatingsDataset}, Float32}}(1.3252279,-0.026377922,-0.021974258,0.0013122725) β: Dual{ForwardDiff.Tag{var\"#validation_mse#23\"{var\"#20#22\"{cf_params, Dict{String, typeof(get_abs_neighborhood)}, Int64, Matrix{Float32}}, RatingsDataset, RatingsDataset}, Float32}}(1.8794945,1.6188936,-0.13290918,1.0777216): λ ForwardDiff.Dual{ForwardDiff.Tag{var\"#validation_mse#23\"{var\"#20#22\"{cf_params, Dict{String, typeof(get_abs_neighborhood)}, Int64, Matrix{Float32}}, RatingsDataset, RatingsDataset}, Float32}, Float32, 3}[Dual{ForwardDiff.Tag{var\"#validation_mse#23\"{var\"#20#22\"{cf_params, Dict{String, typeof(get_abs_neighborhood)}, Int64, Matrix{Float32}}, RatingsDataset, RatingsDataset}, Float32}}(0.7837052,1.0,0.0,0.0), Dual{ForwardDiff.Tag{var\"#validation_mse#23\"{var\"#20#22\"{cf_params, Dict{String, typeof(get_abs_neighborhood)}, Int64, Matrix{Float32}}, RatingsDataset, RatingsDataset}, Float32}}(0.7198766,0.0,1.0,0.0), Dual{ForwardDiff.Tag{var\"#validation_mse#23\"{var\"#20#22\"{cf_params, Dict{String, typeof(get_abs_neighborhood)}, Int64, Matrix{Float32}}, RatingsDataset, RatingsDataset}, Float32}}(0.8302988,0.0,0.0,1.0)]\n",
      "\u001b[32mProgress: 100%|███████████████████████████| Time: 0:03:45 ( 0.26  s/it)\u001b[39m\n",
      "\u001b[38;5;4m\u001b[1m[ \u001b[22m\u001b[39m\u001b[38;5;4m\u001b[1mDebug: \u001b[22m\u001b[39m20220225 05:50:02 loss: Dual{ForwardDiff.Tag{var\"#validation_mse#23\"{var\"#20#22\"{cf_params, Dict{String, typeof(get_abs_neighborhood)}, Int64, Matrix{Float32}}, RatingsDataset, RatingsDataset}, Float32}}(1.356729,0.024379823,0.0071351854,0.0097666) β: Dual{ForwardDiff.Tag{var\"#validation_mse#23\"{var\"#20#22\"{cf_params, Dict{String, typeof(get_abs_neighborhood)}, Int64, Matrix{Float32}}, RatingsDataset, RatingsDataset}, Float32}}(4.408608,2.3046882,-2.554336,3.3099306): λ ForwardDiff.Dual{ForwardDiff.Tag{var\"#validation_mse#23\"{var\"#20#22\"{cf_params, Dict{String, typeof(get_abs_neighborhood)}, Int64, Matrix{Float32}}, RatingsDataset, RatingsDataset}, Float32}, Float32, 3}[Dual{ForwardDiff.Tag{var\"#validation_mse#23\"{var\"#20#22\"{cf_params, Dict{String, typeof(get_abs_neighborhood)}, Int64, Matrix{Float32}}, RatingsDataset, RatingsDataset}, Float32}}(2.3436508,1.0,0.0,0.0), Dual{ForwardDiff.Tag{var\"#validation_mse#23\"{var\"#20#22\"{cf_params, Dict{String, typeof(get_abs_neighborhood)}, Int64, Matrix{Float32}}, RatingsDataset, RatingsDataset}, Float32}}(1.1774982,0.0,1.0,0.0), Dual{ForwardDiff.Tag{var\"#validation_mse#23\"{var\"#20#22\"{cf_params, Dict{String, typeof(get_abs_neighborhood)}, Int64, Matrix{Float32}}, RatingsDataset, RatingsDataset}, Float32}}(0.92552733,0.0,0.0,1.0)]\n",
      "\u001b[32mProgress: 100%|███████████████████████████| Time: 0:03:57 ( 0.28  s/it)\u001b[39m\n",
      "\u001b[38;5;4m\u001b[1m[ \u001b[22m\u001b[39m\u001b[38;5;4m\u001b[1mDebug: \u001b[22m\u001b[39m20220225 05:54:24 loss: Dual{ForwardDiff.Tag{var\"#validation_mse#23\"{var\"#20#22\"{cf_params, Dict{String, typeof(get_abs_neighborhood)}, Int64, Matrix{Float32}}, RatingsDataset, RatingsDataset}, Float32}}(1.337107,0.028741948,-0.003660889,0.010047991) β: Dual{ForwardDiff.Tag{var\"#validation_mse#23\"{var\"#20#22\"{cf_params, Dict{String, typeof(get_abs_neighborhood)}, Int64, Matrix{Float32}}, RatingsDataset, RatingsDataset}, Float32}}(3.169066,1.849037,-1.0978626,2.3063622): λ ForwardDiff.Dual{ForwardDiff.Tag{var\"#validation_mse#23\"{var\"#20#22\"{cf_params, Dict{String, typeof(get_abs_neighborhood)}, Int64, Matrix{Float32}}, RatingsDataset, RatingsDataset}, Float32}, Float32, 3}[Dual{ForwardDiff.Tag{var\"#validation_mse#23\"{var\"#20#22\"{cf_params, Dict{String, typeof(get_abs_neighborhood)}, Int64, Matrix{Float32}}, RatingsDataset, RatingsDataset}, Float32}}(1.6376796,1.0,0.0,0.0), Dual{ForwardDiff.Tag{var\"#validation_mse#23\"{var\"#20#22\"{cf_params, Dict{String, typeof(get_abs_neighborhood)}, Int64, Matrix{Float32}}, RatingsDataset, RatingsDataset}, Float32}}(0.97039634,0.0,1.0,0.0), Dual{ForwardDiff.Tag{var\"#validation_mse#23\"{var\"#20#22\"{cf_params, Dict{String, typeof(get_abs_neighborhood)}, Int64, Matrix{Float32}}, RatingsDataset, RatingsDataset}, Float32}}(0.88243055,0.0,0.0,1.0)]\n"
     ]
    },
    {
     "name": "stdout",
     "output_type": "stream",
     "text": [
      "     1     1.337107e+00     2.874195e-02\n",
      " * Current step size: 15.948772\n",
      " * time: 1027.1654770374298\n",
      " * g(x): Float32[0.028741948, -0.003660889, 0.010047991]\n",
      " * x: Float32[1.6376796, 0.97039634, 0.88243055]\n"
     ]
    },
    {
     "name": "stderr",
     "output_type": "stream",
     "text": [
      "\u001b[32mProgress: 100%|███████████████████████████| Time: 0:03:50 ( 0.27  s/it)\u001b[39m\n",
      "\u001b[38;5;4m\u001b[1m[ \u001b[22m\u001b[39m\u001b[38;5;4m\u001b[1mDebug: \u001b[22m\u001b[39m20220225 05:58:37 loss: Dual{ForwardDiff.Tag{var\"#validation_mse#23\"{var\"#20#22\"{cf_params, Dict{String, typeof(get_abs_neighborhood)}, Int64, Matrix{Float32}}, RatingsDataset, RatingsDataset}, Float32}}(1.326811,0.028325465,-0.0034695636,0.0101227285) β: Dual{ForwardDiff.Tag{var\"#validation_mse#23\"{var\"#20#22\"{cf_params, Dict{String, typeof(get_abs_neighborhood)}, Int64, Matrix{Float32}}, RatingsDataset, RatingsDataset}, Float32}}(2.4534044,1.3950583,-0.88105667,1.7996563): λ ForwardDiff.Dual{ForwardDiff.Tag{var\"#validation_mse#23\"{var\"#20#22\"{cf_params, Dict{String, typeof(get_abs_neighborhood)}, Int64, Matrix{Float32}}, RatingsDataset, RatingsDataset}, Float32}, Float32, 3}[Dual{ForwardDiff.Tag{var\"#validation_mse#23\"{var\"#20#22\"{cf_params, Dict{String, typeof(get_abs_neighborhood)}, Int64, Matrix{Float32}}, RatingsDataset, RatingsDataset}, Float32}}(1.31858,1.0,0.0,0.0), Dual{ForwardDiff.Tag{var\"#validation_mse#23\"{var\"#20#22\"{cf_params, Dict{String, typeof(get_abs_neighborhood)}, Int64, Matrix{Float32}}, RatingsDataset, RatingsDataset}, Float32}}(0.98349875,0.0,1.0,0.0), Dual{ForwardDiff.Tag{var\"#validation_mse#23\"{var\"#20#22\"{cf_params, Dict{String, typeof(get_abs_neighborhood)}, Int64, Matrix{Float32}}, RatingsDataset, RatingsDataset}, Float32}}(0.7897643,0.0,0.0,1.0)]\n",
      "\u001b[32mProgress: 100%|███████████████████████████| Time: 0:03:52 ( 0.27  s/it)\u001b[39m\n",
      "\u001b[38;5;4m\u001b[1m[ \u001b[22m\u001b[39m\u001b[38;5;4m\u001b[1mDebug: \u001b[22m\u001b[39m20220225 06:02:59 loss: Dual{ForwardDiff.Tag{var\"#validation_mse#23\"{var\"#20#22\"{cf_params, Dict{String, typeof(get_abs_neighborhood)}, Int64, Matrix{Float32}}, RatingsDataset, RatingsDataset}, Float32}}(1.3756185,-0.054900482,0.0034145217,-0.0064358003) β: Dual{ForwardDiff.Tag{var\"#validation_mse#23\"{var\"#20#22\"{cf_params, Dict{String, typeof(get_abs_neighborhood)}, Int64, Matrix{Float32}}, RatingsDataset, RatingsDataset}, Float32}}(0.5747646,0.6182783,-0.30101848,0.260661): λ ForwardDiff.Dual{ForwardDiff.Tag{var\"#validation_mse#23\"{var\"#20#22\"{cf_params, Dict{String, typeof(get_abs_neighborhood)}, Int64, Matrix{Float32}}, RatingsDataset, RatingsDataset}, Float32}, Float32, 3}[Dual{ForwardDiff.Tag{var\"#validation_mse#23\"{var\"#20#22\"{cf_params, Dict{String, typeof(get_abs_neighborhood)}, Int64, Matrix{Float32}}, RatingsDataset, RatingsDataset}, Float32}}(0.04218185,1.0,0.0,0.0), Dual{ForwardDiff.Tag{var\"#validation_mse#23\"{var\"#20#22\"{cf_params, Dict{String, typeof(get_abs_neighborhood)}, Int64, Matrix{Float32}}, RatingsDataset, RatingsDataset}, Float32}}(1.0359083,0.0,1.0,0.0), Dual{ForwardDiff.Tag{var\"#validation_mse#23\"{var\"#20#22\"{cf_params, Dict{String, typeof(get_abs_neighborhood)}, Int64, Matrix{Float32}}, RatingsDataset, RatingsDataset}, Float32}}(0.41909927,0.0,0.0,1.0)]\n",
      "\u001b[32mProgress: 100%|███████████████████████████| Time: 0:03:51 ( 0.27  s/it)\u001b[39m\n",
      "\u001b[38;5;4m\u001b[1m[ \u001b[22m\u001b[39m\u001b[38;5;4m\u001b[1mDebug: \u001b[22m\u001b[39m20220225 06:07:14 loss: Dual{ForwardDiff.Tag{var\"#validation_mse#23\"{var\"#20#22\"{cf_params, Dict{String, typeof(get_abs_neighborhood)}, Int64, Matrix{Float32}}, RatingsDataset, RatingsDataset}, Float32}}(1.3199492,-0.01748353,-0.0009945099,0.002082018) β: Dual{ForwardDiff.Tag{var\"#validation_mse#23\"{var\"#20#22\"{cf_params, Dict{String, typeof(get_abs_neighborhood)}, Int64, Matrix{Float32}}, RatingsDataset, RatingsDataset}, Float32}}(1.6797365,1.2365569,-0.6704363,1.1806327): λ ForwardDiff.Dual{ForwardDiff.Tag{var\"#validation_mse#23\"{var\"#20#22\"{cf_params, Dict{String, typeof(get_abs_neighborhood)}, Int64, Matrix{Float32}}, RatingsDataset, RatingsDataset}, Float32}, Float32, 3}[Dual{ForwardDiff.Tag{var\"#validation_mse#23\"{var\"#20#22\"{cf_params, Dict{String, typeof(get_abs_neighborhood)}, Int64, Matrix{Float32}}, RatingsDataset, RatingsDataset}, Float32}}(0.8646644,1.0,0.0,0.0), Dual{ForwardDiff.Tag{var\"#validation_mse#23\"{var\"#20#22\"{cf_params, Dict{String, typeof(get_abs_neighborhood)}, Int64, Matrix{Float32}}, RatingsDataset, RatingsDataset}, Float32}}(1.0021368,0.0,1.0,0.0), Dual{ForwardDiff.Tag{var\"#validation_mse#23\"{var\"#20#22\"{cf_params, Dict{String, typeof(get_abs_neighborhood)}, Int64, Matrix{Float32}}, RatingsDataset, RatingsDataset}, Float32}}(0.65794754,0.0,0.0,1.0)]\n"
     ]
    },
    {
     "name": "stdout",
     "output_type": "stream",
     "text": [
      "     2     1.319949e+00     1.748353e-02\n",
      " * Current step size: 2.4224892\n",
      " * time: 1796.7551310062408\n",
      " * g(x): Float32[-0.01748353, -0.0009945099, 0.002082018]\n",
      " * x: Float32[0.8646644, 1.0021368, 0.65794754]\n"
     ]
    },
    {
     "name": "stderr",
     "output_type": "stream",
     "text": [
      "\u001b[32mProgress: 100%|███████████████████████████| Time: 0:03:34 ( 0.25  s/it)\u001b[39m\n",
      "\u001b[38;5;4m\u001b[1m[ \u001b[22m\u001b[39m\u001b[38;5;4m\u001b[1mDebug: \u001b[22m\u001b[39m20220225 06:11:11 loss: Dual{ForwardDiff.Tag{var\"#validation_mse#23\"{var\"#20#22\"{cf_params, Dict{String, typeof(get_abs_neighborhood)}, Int64, Matrix{Float32}}, RatingsDataset, RatingsDataset}, Float32}}(1.3210691,0.019973837,-0.00035683654,0.009492699) β: Dual{ForwardDiff.Tag{var\"#validation_mse#23\"{var\"#20#22\"{cf_params, Dict{String, typeof(get_abs_neighborhood)}, Int64, Matrix{Float32}}, RatingsDataset, RatingsDataset}, Float32}}(1.9711636,1.0867552,-0.8093564,1.5691528): λ ForwardDiff.Dual{ForwardDiff.Tag{var\"#validation_mse#23\"{var\"#20#22\"{cf_params, Dict{String, typeof(get_abs_neighborhood)}, Int64, Matrix{Float32}}, RatingsDataset, RatingsDataset}, Float32}, Float32, 3}[Dual{ForwardDiff.Tag{var\"#validation_mse#23\"{var\"#20#22\"{cf_params, Dict{String, typeof(get_abs_neighborhood)}, Int64, Matrix{Float32}}, RatingsDataset, RatingsDataset}, Float32}}(1.1493225,1.0,0.0,0.0), Dual{ForwardDiff.Tag{var\"#validation_mse#23\"{var\"#20#22\"{cf_params, Dict{String, typeof(get_abs_neighborhood)}, Int64, Matrix{Float32}}, RatingsDataset, RatingsDataset}, Float32}}(1.0274665,0.0,1.0,0.0), Dual{ForwardDiff.Tag{var\"#validation_mse#23\"{var\"#20#22\"{cf_params, Dict{String, typeof(get_abs_neighborhood)}, Int64, Matrix{Float32}}, RatingsDataset, RatingsDataset}, Float32}}(0.6485539,0.0,0.0,1.0)]\n",
      "\u001b[32mProgress: 100%|███████████████████████████| Time: 0:03:53 ( 0.27  s/it)\u001b[39m\n",
      "\u001b[38;5;4m\u001b[1m[ \u001b[22m\u001b[39m\u001b[38;5;4m\u001b[1mDebug: \u001b[22m\u001b[39m20220225 06:15:23 loss: Dual{ForwardDiff.Tag{var\"#validation_mse#23\"{var\"#20#22\"{cf_params, Dict{String, typeof(get_abs_neighborhood)}, Int64, Matrix{Float32}}, RatingsDataset, RatingsDataset}, Float32}}(1.319141,0.004714921,-0.00083266705,0.006128909) β: Dual{ForwardDiff.Tag{var\"#validation_mse#23\"{var\"#20#22\"{cf_params, Dict{String, typeof(get_abs_neighborhood)}, Int64, Matrix{Float32}}, RatingsDataset, RatingsDataset}, Float32}}(1.8241776,1.1270043,-0.73509586,1.3615389): λ ForwardDiff.Dual{ForwardDiff.Tag{var\"#validation_mse#23\"{var\"#20#22\"{cf_params, Dict{String, typeof(get_abs_neighborhood)}, Int64, Matrix{Float32}}, RatingsDataset, RatingsDataset}, Float32}, Float32, 3}[Dual{ForwardDiff.Tag{var\"#validation_mse#23\"{var\"#20#22\"{cf_params, Dict{String, typeof(get_abs_neighborhood)}, Int64, Matrix{Float32}}, RatingsDataset, RatingsDataset}, Float32}}(0.9994011,1.0,0.0,0.0), Dual{ForwardDiff.Tag{var\"#validation_mse#23\"{var\"#20#22\"{cf_params, Dict{String, typeof(get_abs_neighborhood)}, Int64, Matrix{Float32}}, RatingsDataset, RatingsDataset}, Float32}}(1.0141261,0.0,1.0,0.0), Dual{ForwardDiff.Tag{var\"#validation_mse#23\"{var\"#20#22\"{cf_params, Dict{String, typeof(get_abs_neighborhood)}, Int64, Matrix{Float32}}, RatingsDataset, RatingsDataset}, Float32}}(0.6535013,0.0,0.0,1.0)]\n"
     ]
    },
    {
     "name": "stdout",
     "output_type": "stream",
     "text": [
      "     3     1.319141e+00     6.128909e-03\n",
      " * Current step size: 0.4733281\n",
      " * time: 2286.025372982025\n",
      " * g(x): Float32[0.004714921, -0.00083266705, 0.006128909]\n",
      " * x: Float32[0.9994011, 1.0141261, 0.6535013]\n"
     ]
    },
    {
     "name": "stderr",
     "output_type": "stream",
     "text": [
      "\u001b[32mProgress: 100%|███████████████████████████| Time: 0:03:52 ( 0.27  s/it)\u001b[39m\n",
      "\u001b[38;5;4m\u001b[1m[ \u001b[22m\u001b[39m\u001b[38;5;4m\u001b[1mDebug: \u001b[22m\u001b[39m20220225 06:19:34 loss: Dual{ForwardDiff.Tag{var\"#validation_mse#23\"{var\"#20#22\"{cf_params, Dict{String, typeof(get_abs_neighborhood)}, Int64, Matrix{Float32}}, RatingsDataset, RatingsDataset}, Float32}}(1.3188428,0.00068087236,5.185817e-5,0.00544438) β: Dual{ForwardDiff.Tag{var\"#validation_mse#23\"{var\"#20#22\"{cf_params, Dict{String, typeof(get_abs_neighborhood)}, Int64, Matrix{Float32}}, RatingsDataset, RatingsDataset}, Float32}}(1.7388241,1.0764809,-0.723451,1.3470842): λ ForwardDiff.Dual{ForwardDiff.Tag{var\"#validation_mse#23\"{var\"#20#22\"{cf_params, Dict{String, typeof(get_abs_neighborhood)}, Int64, Matrix{Float32}}, RatingsDataset, RatingsDataset}, Float32}, Float32, 3}[Dual{ForwardDiff.Tag{var\"#validation_mse#23\"{var\"#20#22\"{cf_params, Dict{String, typeof(get_abs_neighborhood)}, Int64, Matrix{Float32}}, RatingsDataset, RatingsDataset}, Float32}}(0.9799591,1.0,0.0,0.0), Dual{ForwardDiff.Tag{var\"#validation_mse#23\"{var\"#20#22\"{cf_params, Dict{String, typeof(get_abs_neighborhood)}, Int64, Matrix{Float32}}, RatingsDataset, RatingsDataset}, Float32}}(1.0245057,0.0,1.0,0.0), Dual{ForwardDiff.Tag{var\"#validation_mse#23\"{var\"#20#22\"{cf_params, Dict{String, typeof(get_abs_neighborhood)}, Int64, Matrix{Float32}}, RatingsDataset, RatingsDataset}, Float32}}(0.6119544,0.0,0.0,1.0)]\n",
      "\u001b[32mProgress: 100%|███████████████████████████| Time: 0:03:54 ( 0.27  s/it)\u001b[39m\n",
      "\u001b[38;5;4m\u001b[1m[ \u001b[22m\u001b[39m\u001b[38;5;4m\u001b[1mDebug: \u001b[22m\u001b[39m20220225 06:23:54 loss: Dual{ForwardDiff.Tag{var\"#validation_mse#23\"{var\"#20#22\"{cf_params, Dict{String, typeof(get_abs_neighborhood)}, Int64, Matrix{Float32}}, RatingsDataset, RatingsDataset}, Float32}}(1.3190768,-0.019341927,0.0037973411,8.255411e-5) β: Dual{ForwardDiff.Tag{var\"#validation_mse#23\"{var\"#20#22\"{cf_params, Dict{String, typeof(get_abs_neighborhood)}, Int64, Matrix{Float32}}, RatingsDataset, RatingsDataset}, Float32}}(1.4129677,0.89435834,-0.66513044,1.3133795): λ ForwardDiff.Dual{ForwardDiff.Tag{var\"#validation_mse#23\"{var\"#20#22\"{cf_params, Dict{String, typeof(get_abs_neighborhood)}, Int64, Matrix{Float32}}, RatingsDataset, RatingsDataset}, Float32}, Float32, 3}[Dual{ForwardDiff.Tag{var\"#validation_mse#23\"{var\"#20#22\"{cf_params, Dict{String, typeof(get_abs_neighborhood)}, Int64, Matrix{Float32}}, RatingsDataset, RatingsDataset}, Float32}}(0.90219086,1.0,0.0,0.0), Dual{ForwardDiff.Tag{var\"#validation_mse#23\"{var\"#20#22\"{cf_params, Dict{String, typeof(get_abs_neighborhood)}, Int64, Matrix{Float32}}, RatingsDataset, RatingsDataset}, Float32}}(1.0660243,0.0,1.0,0.0), Dual{ForwardDiff.Tag{var\"#validation_mse#23\"{var\"#20#22\"{cf_params, Dict{String, typeof(get_abs_neighborhood)}, Int64, Matrix{Float32}}, RatingsDataset, RatingsDataset}, Float32}}(0.44576693,0.0,0.0,1.0)]\n",
      "\u001b[32mProgress: 100%|███████████████████████████| Time: 0:03:37 ( 0.25  s/it)\u001b[39m\n",
      "\u001b[38;5;4m\u001b[1m[ \u001b[22m\u001b[39m\u001b[38;5;4m\u001b[1mDebug: \u001b[22m\u001b[39m20220225 06:27:55 loss: Dual{ForwardDiff.Tag{var\"#validation_mse#23\"{var\"#20#22\"{cf_params, Dict{String, typeof(get_abs_neighborhood)}, Int64, Matrix{Float32}}, RatingsDataset, RatingsDataset}, Float32}}(1.3186346,-0.0059555634,0.0013906204,0.0040523256) β: Dual{ForwardDiff.Tag{var\"#validation_mse#23\"{var\"#20#22\"{cf_params, Dict{String, typeof(get_abs_neighborhood)}, Int64, Matrix{Float32}}, RatingsDataset, RatingsDataset}, Float32}}(1.6167531,1.0063901,-0.70422554,1.3295976): λ ForwardDiff.Dual{ForwardDiff.Tag{var\"#validation_mse#23\"{var\"#20#22\"{cf_params, Dict{String, typeof(get_abs_neighborhood)}, Int64, Matrix{Float32}}, RatingsDataset, RatingsDataset}, Float32}, Float32, 3}[Dual{ForwardDiff.Tag{var\"#validation_mse#23\"{var\"#20#22\"{cf_params, Dict{String, typeof(get_abs_neighborhood)}, Int64, Matrix{Float32}}, RatingsDataset, RatingsDataset}, Float32}}(0.95141745,1.0,0.0,0.0), Dual{ForwardDiff.Tag{var\"#validation_mse#23\"{var\"#20#22\"{cf_params, Dict{String, typeof(get_abs_neighborhood)}, Int64, Matrix{Float32}}, RatingsDataset, RatingsDataset}, Float32}}(1.0397434,0.0,1.0,0.0), Dual{ForwardDiff.Tag{var\"#validation_mse#23\"{var\"#20#22\"{cf_params, Dict{String, typeof(get_abs_neighborhood)}, Int64, Matrix{Float32}}, RatingsDataset, RatingsDataset}, Float32}}(0.5509622,0.0,0.0,1.0)]\n"
     ]
    },
    {
     "name": "stdout",
     "output_type": "stream",
     "text": [
      "     4     1.318635e+00     5.955563e-03\n",
      " * Current step size: 2.4680343\n",
      " * time: 3037.33349108696\n",
      " * g(x): Float32[-0.0059555634, 0.0013906204, 0.0040523256]\n",
      " * x: Float32[0.95141745, 1.0397434, 0.5509622]\n"
     ]
    },
    {
     "name": "stderr",
     "output_type": "stream",
     "text": [
      "\u001b[32mProgress: 100%|███████████████████████████| Time: 0:03:42 ( 0.26  s/it)\u001b[39m\n",
      "\u001b[38;5;4m\u001b[1m[ \u001b[22m\u001b[39m\u001b[38;5;4m\u001b[1mDebug: \u001b[22m\u001b[39m20220225 06:32:00 loss: Dual{ForwardDiff.Tag{var\"#validation_mse#23\"{var\"#20#22\"{cf_params, Dict{String, typeof(get_abs_neighborhood)}, Int64, Matrix{Float32}}, RatingsDataset, RatingsDataset}, Float32}}(1.3181229,-0.008166567,0.0026740155,0.0031412821) β: Dual{ForwardDiff.Tag{var\"#validation_mse#23\"{var\"#20#22\"{cf_params, Dict{String, typeof(get_abs_neighborhood)}, Int64, Matrix{Float32}}, RatingsDataset, RatingsDataset}, Float32}}(1.4626762,0.83174205,-0.664622,1.4168079): λ ForwardDiff.Dual{ForwardDiff.Tag{var\"#validation_mse#23\"{var\"#20#22\"{cf_params, Dict{String, typeof(get_abs_neighborhood)}, Int64, Matrix{Float32}}, RatingsDataset, RatingsDataset}, Float32}, Float32, 3}[Dual{ForwardDiff.Tag{var\"#validation_mse#23\"{var\"#20#22\"{cf_params, Dict{String, typeof(get_abs_neighborhood)}, Int64, Matrix{Float32}}, RatingsDataset, RatingsDataset}, Float32}}(0.9684203,1.0,0.0,0.0), Dual{ForwardDiff.Tag{var\"#validation_mse#23\"{var\"#20#22\"{cf_params, Dict{String, typeof(get_abs_neighborhood)}, Int64, Matrix{Float32}}, RatingsDataset, RatingsDataset}, Float32}}(1.0555912,0.0,1.0,0.0), Dual{ForwardDiff.Tag{var\"#validation_mse#23\"{var\"#20#22\"{cf_params, Dict{String, typeof(get_abs_neighborhood)}, Int64, Matrix{Float32}}, RatingsDataset, RatingsDataset}, Float32}}(0.43523225,0.0,0.0,1.0)]\n",
      "\u001b[32mProgress: 100%|███████████████████████████| Time: 0:03:55 ( 0.27  s/it)\u001b[39m\n",
      "\u001b[38;5;4m\u001b[1m[ \u001b[22m\u001b[39m\u001b[38;5;4m\u001b[1mDebug: \u001b[22m\u001b[39m20220225 06:36:24 loss: Dual{ForwardDiff.Tag{var\"#validation_mse#23\"{var\"#20#22\"{cf_params, Dict{String, typeof(get_abs_neighborhood)}, Int64, Matrix{Float32}}, RatingsDataset, RatingsDataset}, Float32}}(1.4208089,-1.5101153,-2.5170632e-6,12.75942) β: Dual{ForwardDiff.Tag{var\"#validation_mse#23\"{var\"#20#22\"{cf_params, Dict{String, typeof(get_abs_neighborhood)}, Int64, Matrix{Float32}}, RatingsDataset, RatingsDataset}, Float32}}(4.029385e-5,6.970504,-6.6701728e-6,-58.263714): λ ForwardDiff.Dual{ForwardDiff.Tag{var\"#validation_mse#23\"{var\"#20#22\"{cf_params, Dict{String, typeof(get_abs_neighborhood)}, Int64, Matrix{Float32}}, RatingsDataset, RatingsDataset}, Float32}, Float32, 3}[Dual{ForwardDiff.Tag{var\"#validation_mse#23\"{var\"#20#22\"{cf_params, Dict{String, typeof(get_abs_neighborhood)}, Int64, Matrix{Float32}}, RatingsDataset, RatingsDataset}, Float32}}(1.0364319,1.0,0.0,0.0), Dual{ForwardDiff.Tag{var\"#validation_mse#23\"{var\"#20#22\"{cf_params, Dict{String, typeof(get_abs_neighborhood)}, Int64, Matrix{Float32}}, RatingsDataset, RatingsDataset}, Float32}}(1.1189827,0.0,1.0,0.0), Dual{ForwardDiff.Tag{var\"#validation_mse#23\"{var\"#20#22\"{cf_params, Dict{String, typeof(get_abs_neighborhood)}, Int64, Matrix{Float32}}, RatingsDataset, RatingsDataset}, Float32}}(-0.027687617,0.0,0.0,1.0)]\n",
      "\u001b[32mProgress: 100%|███████████████████████████| Time: 0:03:52 ( 0.27  s/it)\u001b[39m\n",
      "\u001b[38;5;4m\u001b[1m[ \u001b[22m\u001b[39m\u001b[38;5;4m\u001b[1mDebug: \u001b[22m\u001b[39m20220225 06:40:44 loss: Dual{ForwardDiff.Tag{var\"#validation_mse#23\"{var\"#20#22\"{cf_params, Dict{String, typeof(get_abs_neighborhood)}, Int64, Matrix{Float32}}, RatingsDataset, RatingsDataset}, Float32}}(1.3177397,-0.015103794,0.0048182723,-0.0024852138) β: Dual{ForwardDiff.Tag{var\"#validation_mse#23\"{var\"#20#22\"{cf_params, Dict{String, typeof(get_abs_neighborhood)}, Int64, Matrix{Float32}}, RatingsDataset, RatingsDataset}, Float32}}(1.2032928,0.57345325,-0.58379257,1.6308059): λ ForwardDiff.Dual{ForwardDiff.Tag{var\"#validation_mse#23\"{var\"#20#22\"{cf_params, Dict{String, typeof(get_abs_neighborhood)}, Int64, Matrix{Float32}}, RatingsDataset, RatingsDataset}, Float32}, Float32, 3}[Dual{ForwardDiff.Tag{var\"#validation_mse#23\"{var\"#20#22\"{cf_params, Dict{String, typeof(get_abs_neighborhood)}, Int64, Matrix{Float32}}, RatingsDataset, RatingsDataset}, Float32}}(0.9939247,1.0,0.0,0.0), Dual{ForwardDiff.Tag{var\"#validation_mse#23\"{var\"#20#22\"{cf_params, Dict{String, typeof(get_abs_neighborhood)}, Int64, Matrix{Float32}}, RatingsDataset, RatingsDataset}, Float32}}(1.079363,0.0,1.0,0.0), Dual{ForwardDiff.Tag{var\"#validation_mse#23\"{var\"#20#22\"{cf_params, Dict{String, typeof(get_abs_neighborhood)}, Int64, Matrix{Float32}}, RatingsDataset, RatingsDataset}, Float32}}(0.2616373,0.0,0.0,1.0)]\n",
      "\u001b[32mProgress: 100%|███████████████████████████| Time: 0:03:40 ( 0.26  s/it)\u001b[39m\n",
      "\u001b[38;5;4m\u001b[1m[ \u001b[22m\u001b[39m\u001b[38;5;4m\u001b[1mDebug: \u001b[22m\u001b[39m20220225 06:44:46 loss: Dual{ForwardDiff.Tag{var\"#validation_mse#23\"{var\"#20#22\"{cf_params, Dict{String, typeof(get_abs_neighborhood)}, Int64, Matrix{Float32}}, RatingsDataset, RatingsDataset}, Float32}}(1.317754,-0.012584361,0.0041957414,6.1574625e-5) β: Dual{ForwardDiff.Tag{var\"#validation_mse#23\"{var\"#20#22\"{cf_params, Dict{String, typeof(get_abs_neighborhood)}, Int64, Matrix{Float32}}, RatingsDataset, RatingsDataset}, Float32}}(1.2782415,0.643232,-0.60882384,1.5558354): λ ForwardDiff.Dual{ForwardDiff.Tag{var\"#validation_mse#23\"{var\"#20#22\"{cf_params, Dict{String, typeof(get_abs_neighborhood)}, Int64, Matrix{Float32}}, RatingsDataset, RatingsDataset}, Float32}, Float32, 3}[Dual{ForwardDiff.Tag{var\"#validation_mse#23\"{var\"#20#22\"{cf_params, Dict{String, typeof(get_abs_neighborhood)}, Int64, Matrix{Float32}}, RatingsDataset, RatingsDataset}, Float32}}(0.9869739,1.0,0.0,0.0), Dual{ForwardDiff.Tag{var\"#validation_mse#23\"{var\"#20#22\"{cf_params, Dict{String, typeof(get_abs_neighborhood)}, Int64, Matrix{Float32}}, RatingsDataset, RatingsDataset}, Float32}}(1.0728844,0.0,1.0,0.0), Dual{ForwardDiff.Tag{var\"#validation_mse#23\"{var\"#20#22\"{cf_params, Dict{String, typeof(get_abs_neighborhood)}, Int64, Matrix{Float32}}, RatingsDataset, RatingsDataset}, Float32}}(0.30894762,0.0,0.0,1.0)]\n"
     ]
    },
    {
     "name": "stdout",
     "output_type": "stream",
     "text": [
      "     5     1.317754e+00     1.258436e-02\n",
      " * Current step size: 2.0912006\n",
      " * time: 4048.8815019130707\n",
      " * g(x): Float32[-0.012584361, 0.0041957414, 6.1574625f-5]\n",
      " * x: Float32[0.9869739, 1.0728844, 0.30894762]\n"
     ]
    },
    {
     "name": "stderr",
     "output_type": "stream",
     "text": [
      "\u001b[32mProgress: 100%|███████████████████████████| Time: 0:03:41 ( 0.26  s/it)\u001b[39m\n",
      "\u001b[38;5;4m\u001b[1m[ \u001b[22m\u001b[39m\u001b[38;5;4m\u001b[1mDebug: \u001b[22m\u001b[39m20220225 06:48:51 loss: Dual{ForwardDiff.Tag{var\"#validation_mse#23\"{var\"#20#22\"{cf_params, Dict{String, typeof(get_abs_neighborhood)}, Int64, Matrix{Float32}}, RatingsDataset, RatingsDataset}, Float32}}(1.3243016,-0.041164227,0.006204773,-0.2766081) β: Dual{ForwardDiff.Tag{var\"#validation_mse#23\"{var\"#20#22\"{cf_params, Dict{String, typeof(get_abs_neighborhood)}, Int64, Matrix{Float32}}, RatingsDataset, RatingsDataset}, Float32}}(0.7102626,0.20564505,-0.35682017,4.7393193): λ ForwardDiff.Dual{ForwardDiff.Tag{var\"#validation_mse#23\"{var\"#20#22\"{cf_params, Dict{String, typeof(get_abs_neighborhood)}, Int64, Matrix{Float32}}, RatingsDataset, RatingsDataset}, Float32}, Float32, 3}[Dual{ForwardDiff.Tag{var\"#validation_mse#23\"{var\"#20#22\"{cf_params, Dict{String, typeof(get_abs_neighborhood)}, Int64, Matrix{Float32}}, RatingsDataset, RatingsDataset}, Float32}}(1.1075889,1.0,0.0,0.0), Dual{ForwardDiff.Tag{var\"#validation_mse#23\"{var\"#20#22\"{cf_params, Dict{String, typeof(get_abs_neighborhood)}, Int64, Matrix{Float32}}, RatingsDataset, RatingsDataset}, Float32}}(1.0671425,0.0,1.0,0.0), Dual{ForwardDiff.Tag{var\"#validation_mse#23\"{var\"#20#22\"{cf_params, Dict{String, typeof(get_abs_neighborhood)}, Int64, Matrix{Float32}}, RatingsDataset, RatingsDataset}, Float32}}(0.023551464,0.0,0.0,1.0)]\n",
      "\u001b[32mProgress: 100%|███████████████████████████| Time: 0:03:49 ( 0.27  s/it)\u001b[39m\n",
      "\u001b[38;5;4m\u001b[1m[ \u001b[22m\u001b[39m\u001b[38;5;4m\u001b[1mDebug: \u001b[22m\u001b[39m20220225 06:53:04 loss: Dual{ForwardDiff.Tag{var\"#validation_mse#23\"{var\"#20#22\"{cf_params, Dict{String, typeof(get_abs_neighborhood)}, Int64, Matrix{Float32}}, RatingsDataset, RatingsDataset}, Float32}}(1.3177223,-0.012591526,0.004194566,-7.2163966e-5) β: Dual{ForwardDiff.Tag{var\"#validation_mse#23\"{var\"#20#22\"{cf_params, Dict{String, typeof(get_abs_neighborhood)}, Int64, Matrix{Float32}}, RatingsDataset, RatingsDataset}, Float32}}(1.2707369,0.63360333,-0.60517323,1.5671211): λ ForwardDiff.Dual{ForwardDiff.Tag{var\"#validation_mse#23\"{var\"#20#22\"{cf_params, Dict{String, typeof(get_abs_neighborhood)}, Int64, Matrix{Float32}}, RatingsDataset, RatingsDataset}, Float32}, Float32, 3}[Dual{ForwardDiff.Tag{var\"#validation_mse#23\"{var\"#20#22\"{cf_params, Dict{String, typeof(get_abs_neighborhood)}, Int64, Matrix{Float32}}, RatingsDataset, RatingsDataset}, Float32}}(0.98946524,1.0,0.0,0.0), Dual{ForwardDiff.Tag{var\"#validation_mse#23\"{var\"#20#22\"{cf_params, Dict{String, typeof(get_abs_neighborhood)}, Int64, Matrix{Float32}}, RatingsDataset, RatingsDataset}, Float32}}(1.0727658,0.0,1.0,0.0), Dual{ForwardDiff.Tag{var\"#validation_mse#23\"{var\"#20#22\"{cf_params, Dict{String, typeof(get_abs_neighborhood)}, Int64, Matrix{Float32}}, RatingsDataset, RatingsDataset}, Float32}}(0.30305263,0.0,0.0,1.0)]\n",
      "\u001b[32mProgress: 100%|███████████████████████████| Time: 0:03:38 ( 0.26  s/it)\u001b[39m\n",
      "\u001b[38;5;4m\u001b[1m[ \u001b[22m\u001b[39m\u001b[38;5;4m\u001b[1mDebug: \u001b[22m\u001b[39m20220225 06:57:04 loss: Dual{ForwardDiff.Tag{var\"#validation_mse#23\"{var\"#20#22\"{cf_params, Dict{String, typeof(get_abs_neighborhood)}, Int64, Matrix{Float32}}, RatingsDataset, RatingsDataset}, Float32}}(1.3193928,-0.02914625,0.0051672035,-0.07135471) β: Dual{ForwardDiff.Tag{var\"#validation_mse#23\"{var\"#20#22\"{cf_params, Dict{String, typeof(get_abs_neighborhood)}, Int64, Matrix{Float32}}, RatingsDataset, RatingsDataset}, Float32}}(0.8443428,0.25845894,-0.41174388,2.8677702): λ ForwardDiff.Dual{ForwardDiff.Tag{var\"#validation_mse#23\"{var\"#20#22\"{cf_params, Dict{String, typeof(get_abs_neighborhood)}, Int64, Matrix{Float32}}, RatingsDataset, RatingsDataset}, Float32}, Float32, 3}[Dual{ForwardDiff.Tag{var\"#validation_mse#23\"{var\"#20#22\"{cf_params, Dict{String, typeof(get_abs_neighborhood)}, Int64, Matrix{Float32}}, RatingsDataset, RatingsDataset}, Float32}}(1.0911081,1.0,0.0,0.0), Dual{ForwardDiff.Tag{var\"#validation_mse#23\"{var\"#20#22\"{cf_params, Dict{String, typeof(get_abs_neighborhood)}, Int64, Matrix{Float32}}, RatingsDataset, RatingsDataset}, Float32}}(1.0679271,0.0,1.0,0.0), Dual{ForwardDiff.Tag{var\"#validation_mse#23\"{var\"#20#22\"{cf_params, Dict{String, typeof(get_abs_neighborhood)}, Int64, Matrix{Float32}}, RatingsDataset, RatingsDataset}, Float32}}(0.06254798,0.0,0.0,1.0)]\n",
      "\u001b[32mProgress: 100%|███████████████████████████| Time: 0:03:43 ( 0.26  s/it)\u001b[39m\n",
      "\u001b[38;5;4m\u001b[1m[ \u001b[22m\u001b[39m\u001b[38;5;4m\u001b[1mDebug: \u001b[22m\u001b[39m20220225 07:01:14 loss: Dual{ForwardDiff.Tag{var\"#validation_mse#23\"{var\"#20#22\"{cf_params, Dict{String, typeof(get_abs_neighborhood)}, Int64, Matrix{Float32}}, RatingsDataset, RatingsDataset}, Float32}}(1.3173476,-0.015328044,0.0043107225,-0.0071433387) β: Dual{ForwardDiff.Tag{var\"#validation_mse#23\"{var\"#20#22\"{cf_params, Dict{String, typeof(get_abs_neighborhood)}, Int64, Matrix{Float32}}, RatingsDataset, RatingsDataset}, Float32}}(1.0941182,0.4395582,-0.52200466,1.8792263): λ ForwardDiff.Dual{ForwardDiff.Tag{var\"#validation_mse#23\"{var\"#20#22\"{cf_params, Dict{String, typeof(get_abs_neighborhood)}, Int64, Matrix{Float32}}, RatingsDataset, RatingsDataset}, Float32}, Float32, 3}[Dual{ForwardDiff.Tag{var\"#validation_mse#23\"{var\"#20#22\"{cf_params, Dict{String, typeof(get_abs_neighborhood)}, Int64, Matrix{Float32}}, RatingsDataset, RatingsDataset}, Float32}}(1.0402867,1.0,0.0,0.0), Dual{ForwardDiff.Tag{var\"#validation_mse#23\"{var\"#20#22\"{cf_params, Dict{String, typeof(get_abs_neighborhood)}, Int64, Matrix{Float32}}, RatingsDataset, RatingsDataset}, Float32}}(1.0703465,0.0,1.0,0.0), Dual{ForwardDiff.Tag{var\"#validation_mse#23\"{var\"#20#22\"{cf_params, Dict{String, typeof(get_abs_neighborhood)}, Int64, Matrix{Float32}}, RatingsDataset, RatingsDataset}, Float32}}(0.1828003,0.0,0.0,1.0)]\n",
      "\u001b[32mProgress: 100%|███████████████████████████| Time: 0:03:49 ( 0.27  s/it)\u001b[39m\n",
      "\u001b[38;5;4m\u001b[1m[ \u001b[22m\u001b[39m\u001b[38;5;4m\u001b[1mDebug: \u001b[22m\u001b[39m20220225 07:05:23 loss: Dual{ForwardDiff.Tag{var\"#validation_mse#23\"{var\"#20#22\"{cf_params, Dict{String, typeof(get_abs_neighborhood)}, Int64, Matrix{Float32}}, RatingsDataset, RatingsDataset}, Float32}}(1.3173475,-0.014775894,0.0042829714,-0.0058106375) β: Dual{ForwardDiff.Tag{var\"#validation_mse#23\"{var\"#20#22\"{cf_params, Dict{String, typeof(get_abs_neighborhood)}, Int64, Matrix{Float32}}, RatingsDataset, RatingsDataset}, Float32}}(1.1136695,0.4582791,-0.53097343,1.8380607): λ ForwardDiff.Dual{ForwardDiff.Tag{var\"#validation_mse#23\"{var\"#20#22\"{cf_params, Dict{String, typeof(get_abs_neighborhood)}, Int64, Matrix{Float32}}, RatingsDataset, RatingsDataset}, Float32}, Float32, 3}[Dual{ForwardDiff.Tag{var\"#validation_mse#23\"{var\"#20#22\"{cf_params, Dict{String, typeof(get_abs_neighborhood)}, Int64, Matrix{Float32}}, RatingsDataset, RatingsDataset}, Float32}}(1.0353129,1.0,0.0,0.0), Dual{ForwardDiff.Tag{var\"#validation_mse#23\"{var\"#20#22\"{cf_params, Dict{String, typeof(get_abs_neighborhood)}, Int64, Matrix{Float32}}, RatingsDataset, RatingsDataset}, Float32}}(1.0705832,0.0,1.0,0.0), Dual{ForwardDiff.Tag{var\"#validation_mse#23\"{var\"#20#22\"{cf_params, Dict{String, typeof(get_abs_neighborhood)}, Int64, Matrix{Float32}}, RatingsDataset, RatingsDataset}, Float32}}(0.19456914,0.0,0.0,1.0)]\n"
     ]
    },
    {
     "name": "stdout",
     "output_type": "stream",
     "text": [
      "     6     1.317348e+00     1.477589e-02\n",
      " * Current step size: 0.4007709\n",
      " * time: 5285.219033002853\n",
      " * g(x): Float32[-0.014775894, 0.0042829714, -0.0058106375]\n",
      " * x: Float32[1.0353129, 1.0705832, 0.19456914]\n"
     ]
    },
    {
     "name": "stderr",
     "output_type": "stream",
     "text": [
      "\u001b[32mProgress: 100%|███████████████████████████| Time: 0:03:44 ( 0.26  s/it)\u001b[39m\n",
      "\u001b[38;5;4m\u001b[1m[ \u001b[22m\u001b[39m\u001b[38;5;4m\u001b[1mDebug: \u001b[22m\u001b[39m20220225 07:09:35 loss: Dual{ForwardDiff.Tag{var\"#validation_mse#23\"{var\"#20#22\"{cf_params, Dict{String, typeof(get_abs_neighborhood)}, Int64, Matrix{Float32}}, RatingsDataset, RatingsDataset}, Float32}}(1.316266,-0.0031903875,0.00089519465,0.00023561434) β: Dual{ForwardDiff.Tag{var\"#validation_mse#23\"{var\"#20#22\"{cf_params, Dict{String, typeof(get_abs_neighborhood)}, Int64, Matrix{Float32}}, RatingsDataset, RatingsDataset}, Float32}}(1.0594624,0.3143775,-0.45333722,2.293323): λ ForwardDiff.Dual{ForwardDiff.Tag{var\"#validation_mse#23\"{var\"#20#22\"{cf_params, Dict{String, typeof(get_abs_neighborhood)}, Int64, Matrix{Float32}}, RatingsDataset, RatingsDataset}, Float32}, Float32, 3}[Dual{ForwardDiff.Tag{var\"#validation_mse#23\"{var\"#20#22\"{cf_params, Dict{String, typeof(get_abs_neighborhood)}, Int64, Matrix{Float32}}, RatingsDataset, RatingsDataset}, Float32}}(1.1717556,1.0,0.0,0.0), Dual{ForwardDiff.Tag{var\"#validation_mse#23\"{var\"#20#22\"{cf_params, Dict{String, typeof(get_abs_neighborhood)}, Int64, Matrix{Float32}}, RatingsDataset, RatingsDataset}, Float32}}(1.0301073,0.0,1.0,0.0), Dual{ForwardDiff.Tag{var\"#validation_mse#23\"{var\"#20#22\"{cf_params, Dict{String, typeof(get_abs_neighborhood)}, Int64, Matrix{Float32}}, RatingsDataset, RatingsDataset}, Float32}}(0.13291523,0.0,0.0,1.0)]\n",
      "\u001b[32mProgress: 100%|███████████████████████████| Time: 0:03:43 ( 0.26  s/it)\u001b[39m\n",
      "\u001b[38;5;4m\u001b[1m[ \u001b[22m\u001b[39m\u001b[38;5;4m\u001b[1mDebug: \u001b[22m\u001b[39m20220225 07:13:40 loss: Dual{ForwardDiff.Tag{var\"#validation_mse#23\"{var\"#20#22\"{cf_params, Dict{String, typeof(get_abs_neighborhood)}, Int64, Matrix{Float32}}, RatingsDataset, RatingsDataset}, Float32}}(1.4208169,-0.12224814,-1.9118202e-7,0.33947095) β: Dual{ForwardDiff.Tag{var\"#validation_mse#23\"{var\"#20#22\"{cf_params, Dict{String, typeof(get_abs_neighborhood)}, Int64, Matrix{Float32}}, RatingsDataset, RatingsDataset}, Float32}}(2.0398827e-6,-0.27529714,1.2339713e-7,2.6184535): λ ForwardDiff.Dual{ForwardDiff.Tag{var\"#validation_mse#23\"{var\"#20#22\"{cf_params, Dict{String, typeof(get_abs_neighborhood)}, Int64, Matrix{Float32}}, RatingsDataset, RatingsDataset}, Float32}, Float32, 3}[Dual{ForwardDiff.Tag{var\"#validation_mse#23\"{var\"#20#22\"{cf_params, Dict{String, typeof(get_abs_neighborhood)}, Int64, Matrix{Float32}}, RatingsDataset, RatingsDataset}, Float32}}(1.7175261,1.0,0.0,0.0), Dual{ForwardDiff.Tag{var\"#validation_mse#23\"{var\"#20#22\"{cf_params, Dict{String, typeof(get_abs_neighborhood)}, Int64, Matrix{Float32}}, RatingsDataset, RatingsDataset}, Float32}}(0.8682033,0.0,1.0,0.0), Dual{ForwardDiff.Tag{var\"#validation_mse#23\"{var\"#20#22\"{cf_params, Dict{String, typeof(get_abs_neighborhood)}, Int64, Matrix{Float32}}, RatingsDataset, RatingsDataset}, Float32}}(-0.11370042,0.0,0.0,1.0)]\n",
      "\u001b[32mProgress: 100%|███████████████████████████| Time: 0:03:48 ( 0.27  s/it)\u001b[39m\n",
      "\u001b[38;5;4m\u001b[1m[ \u001b[22m\u001b[39m\u001b[38;5;4m\u001b[1mDebug: \u001b[22m\u001b[39m20220225 07:17:53 loss: Dual{ForwardDiff.Tag{var\"#validation_mse#23\"{var\"#20#22\"{cf_params, Dict{String, typeof(get_abs_neighborhood)}, Int64, Matrix{Float32}}, RatingsDataset, RatingsDataset}, Float32}}(1.3163507,-0.0020336322,-0.0036399758,-0.02051496) β: Dual{ForwardDiff.Tag{var\"#validation_mse#23\"{var\"#20#22\"{cf_params, Dict{String, typeof(get_abs_neighborhood)}, Int64, Matrix{Float32}}, RatingsDataset, RatingsDataset}, Float32}}(0.85971665,0.13768953,-0.31115907,3.961571): λ ForwardDiff.Dual{ForwardDiff.Tag{var\"#validation_mse#23\"{var\"#20#22\"{cf_params, Dict{String, typeof(get_abs_neighborhood)}, Int64, Matrix{Float32}}, RatingsDataset, RatingsDataset}, Float32}, Float32, 3}[Dual{ForwardDiff.Tag{var\"#validation_mse#23\"{var\"#20#22\"{cf_params, Dict{String, typeof(get_abs_neighborhood)}, Int64, Matrix{Float32}}, RatingsDataset, RatingsDataset}, Float32}}(1.3764195,1.0,0.0,0.0), Dual{ForwardDiff.Tag{var\"#validation_mse#23\"{var\"#20#22\"{cf_params, Dict{String, typeof(get_abs_neighborhood)}, Int64, Matrix{Float32}}, RatingsDataset, RatingsDataset}, Float32}}(0.96939325,0.0,1.0,0.0), Dual{ForwardDiff.Tag{var\"#validation_mse#23\"{var\"#20#22\"{cf_params, Dict{String, typeof(get_abs_neighborhood)}, Int64, Matrix{Float32}}, RatingsDataset, RatingsDataset}, Float32}}(0.04043436,0.0,0.0,1.0)]\n",
      "\u001b[32mProgress: 100%|███████████████████████████| Time: 0:03:45 ( 0.26  s/it)\u001b[39m\n",
      "\u001b[38;5;4m\u001b[1m[ \u001b[22m\u001b[39m\u001b[38;5;4m\u001b[1mDebug: \u001b[22m\u001b[39m20220225 07:22:11 loss: Dual{ForwardDiff.Tag{var\"#validation_mse#23\"{var\"#20#22\"{cf_params, Dict{String, typeof(get_abs_neighborhood)}, Int64, Matrix{Float32}}, RatingsDataset, RatingsDataset}, Float32}}(1.3161128,1.4461125e-5,-0.0008804503,0.0024269242) β: Dual{ForwardDiff.Tag{var\"#validation_mse#23\"{var\"#20#22\"{cf_params, Dict{String, typeof(get_abs_neighborhood)}, Int64, Matrix{Float32}}, RatingsDataset, RatingsDataset}, Float32}}(1.0073698,0.24682312,-0.40539914,2.6436322): λ ForwardDiff.Dual{ForwardDiff.Tag{var\"#validation_mse#23\"{var\"#20#22\"{cf_params, Dict{String, typeof(get_abs_neighborhood)}, Int64, Matrix{Float32}}, RatingsDataset, RatingsDataset}, Float32}, Float32, 3}[Dual{ForwardDiff.Tag{var\"#validation_mse#23\"{var\"#20#22\"{cf_params, Dict{String, typeof(get_abs_neighborhood)}, Int64, Matrix{Float32}}, RatingsDataset, RatingsDataset}, Float32}}(1.245918,1.0,0.0,0.0), Dual{ForwardDiff.Tag{var\"#validation_mse#23\"{var\"#20#22\"{cf_params, Dict{String, typeof(get_abs_neighborhood)}, Int64, Matrix{Float32}}, RatingsDataset, RatingsDataset}, Float32}}(1.0081068,0.0,1.0,0.0), Dual{ForwardDiff.Tag{var\"#validation_mse#23\"{var\"#20#22\"{cf_params, Dict{String, typeof(get_abs_neighborhood)}, Int64, Matrix{Float32}}, RatingsDataset, RatingsDataset}, Float32}}(0.09940365,0.0,0.0,1.0)]\n"
     ]
    },
    {
     "name": "stdout",
     "output_type": "stream",
     "text": [
      "     7     1.316113e+00     2.426924e-03\n",
      " * Current step size: 1.5435435\n",
      " * time: 6293.801150083542\n",
      " * g(x): Float32[1.4461125f-5, -0.0008804503, 0.0024269242]\n",
      " * x: Float32[1.245918, 1.0081068, 0.09940365]\n"
     ]
    },
    {
     "name": "stderr",
     "output_type": "stream",
     "text": [
      "\u001b[32mProgress: 100%|███████████████████████████| Time: 0:03:44 ( 0.26  s/it)\u001b[39m\n",
      "\u001b[38;5;4m\u001b[1m[ \u001b[22m\u001b[39m\u001b[38;5;4m\u001b[1mDebug: \u001b[22m\u001b[39m20220225 07:26:16 loss: Dual{ForwardDiff.Tag{var\"#validation_mse#23\"{var\"#20#22\"{cf_params, Dict{String, typeof(get_abs_neighborhood)}, Int64, Matrix{Float32}}, RatingsDataset, RatingsDataset}, Float32}}(1.3176496,-0.015655145,0.0004962349,-0.1123935) β: Dual{ForwardDiff.Tag{var\"#validation_mse#23\"{var\"#20#22\"{cf_params, Dict{String, typeof(get_abs_neighborhood)}, Int64, Matrix{Float32}}, RatingsDataset, RatingsDataset}, Float32}}(0.7875266,0.14281264,-0.32971618,4.4844193): λ ForwardDiff.Dual{ForwardDiff.Tag{var\"#validation_mse#23\"{var\"#20#22\"{cf_params, Dict{String, typeof(get_abs_neighborhood)}, Int64, Matrix{Float32}}, RatingsDataset, RatingsDataset}, Float32}, Float32, 3}[Dual{ForwardDiff.Tag{var\"#validation_mse#23\"{var\"#20#22\"{cf_params, Dict{String, typeof(get_abs_neighborhood)}, Int64, Matrix{Float32}}, RatingsDataset, RatingsDataset}, Float32}}(1.2977421,1.0,0.0,0.0), Dual{ForwardDiff.Tag{var\"#validation_mse#23\"{var\"#20#22\"{cf_params, Dict{String, typeof(get_abs_neighborhood)}, Int64, Matrix{Float32}}, RatingsDataset, RatingsDataset}, Float32}}(1.0107018,0.0,1.0,0.0), Dual{ForwardDiff.Tag{var\"#validation_mse#23\"{var\"#20#22\"{cf_params, Dict{String, typeof(get_abs_neighborhood)}, Int64, Matrix{Float32}}, RatingsDataset, RatingsDataset}, Float32}}(0.028971143,0.0,0.0,1.0)]\n",
      "\u001b[32mProgress: 100%|███████████████████████████| Time: 0:03:48 ( 0.27  s/it)\u001b[39m\n",
      "\u001b[38;5;4m\u001b[1m[ \u001b[22m\u001b[39m\u001b[38;5;4m\u001b[1mDebug: \u001b[22m\u001b[39m20220225 07:30:28 loss: Dual{ForwardDiff.Tag{var\"#validation_mse#23\"{var\"#20#22\"{cf_params, Dict{String, typeof(get_abs_neighborhood)}, Int64, Matrix{Float32}}, RatingsDataset, RatingsDataset}, Float32}}(1.3161088,-0.00015364427,-0.0008648751,0.0020138691) β: Dual{ForwardDiff.Tag{var\"#validation_mse#23\"{var\"#20#22\"{cf_params, Dict{String, typeof(get_abs_neighborhood)}, Int64, Matrix{Float32}}, RatingsDataset, RatingsDataset}, Float32}}(1.0032265,0.244058,-0.40392622,2.6598372): λ ForwardDiff.Dual{ForwardDiff.Tag{var\"#validation_mse#23\"{var\"#20#22\"{cf_params, Dict{String, typeof(get_abs_neighborhood)}, Int64, Matrix{Float32}}, RatingsDataset, RatingsDataset}, Float32}, Float32, 3}[Dual{ForwardDiff.Tag{var\"#validation_mse#23\"{var\"#20#22\"{cf_params, Dict{String, typeof(get_abs_neighborhood)}, Int64, Matrix{Float32}}, RatingsDataset, RatingsDataset}, Float32}}(1.247146,1.0,0.0,0.0), Dual{ForwardDiff.Tag{var\"#validation_mse#23\"{var\"#20#22\"{cf_params, Dict{String, typeof(get_abs_neighborhood)}, Int64, Matrix{Float32}}, RatingsDataset, RatingsDataset}, Float32}}(1.0081683,0.0,1.0,0.0), Dual{ForwardDiff.Tag{var\"#validation_mse#23\"{var\"#20#22\"{cf_params, Dict{String, typeof(get_abs_neighborhood)}, Int64, Matrix{Float32}}, RatingsDataset, RatingsDataset}, Float32}}(0.09773472,0.0,0.0,1.0)]\n"
     ]
    },
    {
     "name": "stdout",
     "output_type": "stream",
     "text": [
      "     8     1.316109e+00     2.013869e-03\n",
      " * Current step size: 0.023695447\n",
      " * time: 6790.615997076035\n",
      " * g(x): Float32[-0.00015364427, -0.0008648751, 0.0020138691]\n",
      " * x: Float32[1.247146, 1.0081683, 0.09773472]\n"
     ]
    },
    {
     "name": "stderr",
     "output_type": "stream",
     "text": [
      "\u001b[32mProgress: 100%|███████████████████████████| Time: 0:03:41 ( 0.26  s/it)\u001b[39m\n",
      "\u001b[38;5;4m\u001b[1m[ \u001b[22m\u001b[39m\u001b[38;5;4m\u001b[1mDebug: \u001b[22m\u001b[39m20220225 07:34:28 loss: Dual{ForwardDiff.Tag{var\"#validation_mse#23\"{var\"#20#22\"{cf_params, Dict{String, typeof(get_abs_neighborhood)}, Int64, Matrix{Float32}}, RatingsDataset, RatingsDataset}, Float32}}(1.3160887,-0.00128546,-0.00059609045,-0.0024051366) β: Dual{ForwardDiff.Tag{var\"#validation_mse#23\"{var\"#20#22\"{cf_params, Dict{String, typeof(get_abs_neighborhood)}, Int64, Matrix{Float32}}, RatingsDataset, RatingsDataset}, Float32}}(0.95590675,0.21094719,-0.38837433,2.8918076): λ ForwardDiff.Dual{ForwardDiff.Tag{var\"#validation_mse#23\"{var\"#20#22\"{cf_params, Dict{String, typeof(get_abs_neighborhood)}, Int64, Matrix{Float32}}, RatingsDataset, RatingsDataset}, Float32}, Float32, 3}[Dual{ForwardDiff.Tag{var\"#validation_mse#23\"{var\"#20#22\"{cf_params, Dict{String, typeof(get_abs_neighborhood)}, Int64, Matrix{Float32}}, RatingsDataset, RatingsDataset}, Float32}}(1.272119,1.0,0.0,0.0), Dual{ForwardDiff.Tag{var\"#validation_mse#23\"{var\"#20#22\"{cf_params, Dict{String, typeof(get_abs_neighborhood)}, Int64, Matrix{Float32}}, RatingsDataset, RatingsDataset}, Float32}}(1.0105149,0.0,1.0,0.0), Dual{ForwardDiff.Tag{var\"#validation_mse#23\"{var\"#20#22\"{cf_params, Dict{String, typeof(get_abs_neighborhood)}, Int64, Matrix{Float32}}, RatingsDataset, RatingsDataset}, Float32}}(0.07893719,0.0,0.0,1.0)]\n",
      "\u001b[32mProgress: 100%|███████████████████████████| Time: 0:03:53 ( 0.27  s/it)\u001b[39m\n",
      "\u001b[38;5;4m\u001b[1m[ \u001b[22m\u001b[39m\u001b[38;5;4m\u001b[1mDebug: \u001b[22m\u001b[39m20220225 07:38:41 loss: Dual{ForwardDiff.Tag{var\"#validation_mse#23\"{var\"#20#22\"{cf_params, Dict{String, typeof(get_abs_neighborhood)}, Int64, Matrix{Float32}}, RatingsDataset, RatingsDataset}, Float32}}(1.316088,-0.0009784809,-0.0006576063,-0.00114) β: Dual{ForwardDiff.Tag{var\"#validation_mse#23\"{var\"#20#22\"{cf_params, Dict{String, typeof(get_abs_neighborhood)}, Int64, Matrix{Float32}}, RatingsDataset, RatingsDataset}, Float32}}(0.9663477,0.21788009,-0.39181334,2.836417): λ ForwardDiff.Dual{ForwardDiff.Tag{var\"#validation_mse#23\"{var\"#20#22\"{cf_params, Dict{String, typeof(get_abs_neighborhood)}, Int64, Matrix{Float32}}, RatingsDataset, RatingsDataset}, Float32}, Float32, 3}[Dual{ForwardDiff.Tag{var\"#validation_mse#23\"{var\"#20#22\"{cf_params, Dict{String, typeof(get_abs_neighborhood)}, Int64, Matrix{Float32}}, RatingsDataset, RatingsDataset}, Float32}}(1.2668436,1.0,0.0,0.0), Dual{ForwardDiff.Tag{var\"#validation_mse#23\"{var\"#20#22\"{cf_params, Dict{String, typeof(get_abs_neighborhood)}, Int64, Matrix{Float32}}, RatingsDataset, RatingsDataset}, Float32}}(1.0100192,0.0,1.0,0.0), Dual{ForwardDiff.Tag{var\"#validation_mse#23\"{var\"#20#22\"{cf_params, Dict{String, typeof(get_abs_neighborhood)}, Int64, Matrix{Float32}}, RatingsDataset, RatingsDataset}, Float32}}(0.08290816,0.0,0.0,1.0)]\n"
     ]
    },
    {
     "name": "stdout",
     "output_type": "stream",
     "text": [
      "     9     1.316088e+00     1.140000e-03\n",
      " * Current step size: 0.7887503\n",
      " * time: 7283.695823907852\n",
      " * g(x): Float32[-0.0009784809, -0.0006576063, -0.00114]\n",
      " * x: Float32[1.2668436, 1.0100192, 0.08290816]\n"
     ]
    },
    {
     "name": "stderr",
     "output_type": "stream",
     "text": [
      "\u001b[32mProgress: 100%|███████████████████████████| Time: 0:03:40 ( 0.26  s/it)\u001b[39m\n",
      "\u001b[38;5;4m\u001b[1m[ \u001b[22m\u001b[39m\u001b[38;5;4m\u001b[1mDebug: \u001b[22m\u001b[39m20220225 07:42:49 loss: Dual{ForwardDiff.Tag{var\"#validation_mse#23\"{var\"#20#22\"{cf_params, Dict{String, typeof(get_abs_neighborhood)}, Int64, Matrix{Float32}}, RatingsDataset, RatingsDataset}, Float32}}(1.3160815,-0.00069983624,-0.00040529243,-0.0011140831) β: Dual{ForwardDiff.Tag{var\"#validation_mse#23\"{var\"#20#22\"{cf_params, Dict{String, typeof(get_abs_neighborhood)}, Int64, Matrix{Float32}}, RatingsDataset, RatingsDataset}, Float32}}(0.95671344,0.21031013,-0.3914067,2.892731): λ ForwardDiff.Dual{ForwardDiff.Tag{var\"#validation_mse#23\"{var\"#20#22\"{cf_params, Dict{String, typeof(get_abs_neighborhood)}, Int64, Matrix{Float32}}, RatingsDataset, RatingsDataset}, Float32}, Float32, 3}[Dual{ForwardDiff.Tag{var\"#validation_mse#23\"{var\"#20#22\"{cf_params, Dict{String, typeof(get_abs_neighborhood)}, Int64, Matrix{Float32}}, RatingsDataset, RatingsDataset}, Float32}}(1.2773644,1.0,0.0,0.0), Dual{ForwardDiff.Tag{var\"#validation_mse#23\"{var\"#20#22\"{cf_params, Dict{String, typeof(get_abs_neighborhood)}, Int64, Matrix{Float32}}, RatingsDataset, RatingsDataset}, Float32}}(1.0134366,0.0,1.0,0.0), Dual{ForwardDiff.Tag{var\"#validation_mse#23\"{var\"#20#22\"{cf_params, Dict{String, typeof(get_abs_neighborhood)}, Int64, Matrix{Float32}}, RatingsDataset, RatingsDataset}, Float32}}(0.07924342,0.0,0.0,1.0)]\n",
      "\u001b[32mProgress: 100%|███████████████████████████| Time: 0:03:47 ( 0.26  s/it)\u001b[39m\n",
      "\u001b[38;5;4m\u001b[1m[ \u001b[22m\u001b[39m\u001b[38;5;4m\u001b[1mDebug: \u001b[22m\u001b[39m20220225 07:46:59 loss: Dual{ForwardDiff.Tag{var\"#validation_mse#23\"{var\"#20#22\"{cf_params, Dict{String, typeof(get_abs_neighborhood)}, Int64, Matrix{Float32}}, RatingsDataset, RatingsDataset}, Float32}}(1.3160918,-8.959884e-5,0.0006309566,-0.0024166445) β: Dual{ForwardDiff.Tag{var\"#validation_mse#23\"{var\"#20#22\"{cf_params, Dict{String, typeof(get_abs_neighborhood)}, Int64, Matrix{Float32}}, RatingsDataset, RatingsDataset}, Float32}}(0.9153268,0.18096165,-0.38812432,3.1582968): λ ForwardDiff.Dual{ForwardDiff.Tag{var\"#validation_mse#23\"{var\"#20#22\"{cf_params, Dict{String, typeof(get_abs_neighborhood)}, Int64, Matrix{Float32}}, RatingsDataset, RatingsDataset}, Float32}, Float32, 3}[Dual{ForwardDiff.Tag{var\"#validation_mse#23\"{var\"#20#22\"{cf_params, Dict{String, typeof(get_abs_neighborhood)}, Int64, Matrix{Float32}}, RatingsDataset, RatingsDataset}, Float32}}(1.3194476,1.0,0.0,0.0), Dual{ForwardDiff.Tag{var\"#validation_mse#23\"{var\"#20#22\"{cf_params, Dict{String, typeof(get_abs_neighborhood)}, Int64, Matrix{Float32}}, RatingsDataset, RatingsDataset}, Float32}}(1.0271059,0.0,1.0,0.0), Dual{ForwardDiff.Tag{var\"#validation_mse#23\"{var\"#20#22\"{cf_params, Dict{String, typeof(get_abs_neighborhood)}, Int64, Matrix{Float32}}, RatingsDataset, RatingsDataset}, Float32}}(0.06458448,0.0,0.0,1.0)]\n",
      "\u001b[32mProgress: 100%|███████████████████████████| Time: 0:03:53 ( 0.27  s/it)\u001b[39m\n",
      "\u001b[38;5;4m\u001b[1m[ \u001b[22m\u001b[39m\u001b[38;5;4m\u001b[1mDebug: \u001b[22m\u001b[39m20220225 07:51:11 loss: Dual{ForwardDiff.Tag{var\"#validation_mse#23\"{var\"#20#22\"{cf_params, Dict{String, typeof(get_abs_neighborhood)}, Int64, Matrix{Float32}}, RatingsDataset, RatingsDataset}, Float32}}(1.3160785,-0.00041634144,-8.221429e-5,-0.0012443834) β: Dual{ForwardDiff.Tag{var\"#validation_mse#23\"{var\"#20#22\"{cf_params, Dict{String, typeof(get_abs_neighborhood)}, Int64, Matrix{Float32}}, RatingsDataset, RatingsDataset}, Float32}}(0.9441804,0.20084284,-0.3906713,2.9690125): λ ForwardDiff.Dual{ForwardDiff.Tag{var\"#validation_mse#23\"{var\"#20#22\"{cf_params, Dict{String, typeof(get_abs_neighborhood)}, Int64, Matrix{Float32}}, RatingsDataset, RatingsDataset}, Float32}, Float32, 3}[Dual{ForwardDiff.Tag{var\"#validation_mse#23\"{var\"#20#22\"{cf_params, Dict{String, typeof(get_abs_neighborhood)}, Int64, Matrix{Float32}}, RatingsDataset, RatingsDataset}, Float32}}(1.2906878,1.0,0.0,0.0), Dual{ForwardDiff.Tag{var\"#validation_mse#23\"{var\"#20#22\"{cf_params, Dict{String, typeof(get_abs_neighborhood)}, Int64, Matrix{Float32}}, RatingsDataset, RatingsDataset}, Float32}}(1.0177642,0.0,1.0,0.0), Dual{ForwardDiff.Tag{var\"#validation_mse#23\"{var\"#20#22\"{cf_params, Dict{String, typeof(get_abs_neighborhood)}, Int64, Matrix{Float32}}, RatingsDataset, RatingsDataset}, Float32}}(0.07460244,0.0,0.0,1.0)]\n"
     ]
    },
    {
     "name": "stdout",
     "output_type": "stream",
     "text": [
      "    10     1.316079e+00     1.244383e-03\n",
      " * Current step size: 2.2663884\n",
      " * time: 8033.741991043091\n",
      " * g(x): Float32[-0.00041634144, -8.221429f-5, -0.0012443834]\n",
      " * x: Float32[1.2906878, 1.0177642, 0.07460244]\n"
     ]
    },
    {
     "name": "stderr",
     "output_type": "stream",
     "text": [
      "\u001b[32mProgress: 100%|███████████████████████████| Time: 0:03:25 ( 0.24  s/it)\u001b[39m\n",
      "\u001b[38;5;4m\u001b[1m[ \u001b[22m\u001b[39m\u001b[38;5;4m\u001b[1mDebug: \u001b[22m\u001b[39m20220225 07:55:03 loss: Dual{ForwardDiff.Tag{var\"#validation_mse#23\"{var\"#20#22\"{cf_params, Dict{String, typeof(get_abs_neighborhood)}, Int64, Matrix{Float32}}, RatingsDataset, RatingsDataset}, Float32}}(1.316078,0.00017003155,0.00018962233,0.0006713024) β: Dual{ForwardDiff.Tag{var\"#validation_mse#23\"{var\"#20#22\"{cf_params, Dict{String, typeof(get_abs_neighborhood)}, Int64, Matrix{Float32}}, RatingsDataset, RatingsDataset}, Float32}}(0.9540221,0.20742579,-0.39859,2.9058352): λ ForwardDiff.Dual{ForwardDiff.Tag{var\"#validation_mse#23\"{var\"#20#22\"{cf_params, Dict{String, typeof(get_abs_neighborhood)}, Int64, Matrix{Float32}}, RatingsDataset, RatingsDataset}, Float32}, Float32, 3}[Dual{ForwardDiff.Tag{var\"#validation_mse#23\"{var\"#20#22\"{cf_params, Dict{String, typeof(get_abs_neighborhood)}, Int64, Matrix{Float32}}, RatingsDataset, RatingsDataset}, Float32}}(1.2876675,1.0,0.0,0.0), Dual{ForwardDiff.Tag{var\"#validation_mse#23\"{var\"#20#22\"{cf_params, Dict{String, typeof(get_abs_neighborhood)}, Int64, Matrix{Float32}}, RatingsDataset, RatingsDataset}, Float32}}(1.0218593,0.0,1.0,0.0), Dual{ForwardDiff.Tag{var\"#validation_mse#23\"{var\"#20#22\"{cf_params, Dict{String, typeof(get_abs_neighborhood)}, Int64, Matrix{Float32}}, RatingsDataset, RatingsDataset}, Float32}}(0.07872011,0.0,0.0,1.0)]\n",
      "\u001b[32mProgress: 100%|███████████████████████████| Time: 0:03:47 ( 0.26  s/it)\u001b[39m\n",
      "\u001b[38;5;4m\u001b[1m[ \u001b[22m\u001b[39m\u001b[38;5;4m\u001b[1mDebug: \u001b[22m\u001b[39m20220225 07:59:12 loss: Dual{ForwardDiff.Tag{var\"#validation_mse#23\"{var\"#20#22\"{cf_params, Dict{String, typeof(get_abs_neighborhood)}, Int64, Matrix{Float32}}, RatingsDataset, RatingsDataset}, Float32}}(1.3160772,-6.970749e-5,7.549297e-5,-9.081168e-5) β: Dual{ForwardDiff.Tag{var\"#validation_mse#23\"{var\"#20#22\"{cf_params, Dict{String, typeof(get_abs_neighborhood)}, Int64, Matrix{Float32}}, RatingsDataset, RatingsDataset}, Float32}}(0.9499319,0.20465821,-0.39528334,2.9316123): λ ForwardDiff.Dual{ForwardDiff.Tag{var\"#validation_mse#23\"{var\"#20#22\"{cf_params, Dict{String, typeof(get_abs_neighborhood)}, Int64, Matrix{Float32}}, RatingsDataset, RatingsDataset}, Float32}, Float32, 3}[Dual{ForwardDiff.Tag{var\"#validation_mse#23\"{var\"#20#22\"{cf_params, Dict{String, typeof(get_abs_neighborhood)}, Int64, Matrix{Float32}}, RatingsDataset, RatingsDataset}, Float32}}(1.288932,1.0,0.0,0.0), Dual{ForwardDiff.Tag{var\"#validation_mse#23\"{var\"#20#22\"{cf_params, Dict{String, typeof(get_abs_neighborhood)}, Int64, Matrix{Float32}}, RatingsDataset, RatingsDataset}, Float32}}(1.0201448,0.0,1.0,0.0), Dual{ForwardDiff.Tag{var\"#validation_mse#23\"{var\"#20#22\"{cf_params, Dict{String, typeof(get_abs_neighborhood)}, Int64, Matrix{Float32}}, RatingsDataset, RatingsDataset}, Float32}}(0.07699613,0.0,0.0,1.0)]\n"
     ]
    },
    {
     "name": "stdout",
     "output_type": "stream",
     "text": [
      "    11     1.316077e+00     9.081168e-05\n",
      " * Current step size: 0.58132267\n",
      " * time: 8514.562216997147\n",
      " * g(x): Float32[-6.970749f-5, 7.549297f-5, -9.081168f-5]\n",
      " * x: Float32[1.288932, 1.0201448, 0.07699613]\n"
     ]
    },
    {
     "name": "stderr",
     "output_type": "stream",
     "text": [
      "\u001b[32mProgress: 100%|███████████████████████████| Time: 0:03:37 ( 0.25  s/it)\u001b[39m\n",
      "\u001b[38;5;4m\u001b[1m[ \u001b[22m\u001b[39m\u001b[38;5;4m\u001b[1mDebug: \u001b[22m\u001b[39m20220225 08:03:13 loss: Dual{ForwardDiff.Tag{var\"#validation_mse#23\"{var\"#20#22\"{cf_params, Dict{String, typeof(get_abs_neighborhood)}, Int64, Matrix{Float32}}, RatingsDataset, RatingsDataset}, Float32}}(1.3160772,-3.7210284e-5,3.8093567e-5,-6.1569546e-5) β: Dual{ForwardDiff.Tag{var\"#validation_mse#23\"{var\"#20#22\"{cf_params, Dict{String, typeof(get_abs_neighborhood)}, Int64, Matrix{Float32}}, RatingsDataset, RatingsDataset}, Float32}}(0.9494337,0.20405066,-0.39455682,2.9375546): λ ForwardDiff.Dual{ForwardDiff.Tag{var\"#validation_mse#23\"{var\"#20#22\"{cf_params, Dict{String, typeof(get_abs_neighborhood)}, Int64, Matrix{Float32}}, RatingsDataset, RatingsDataset}, Float32}, Float32, 3}[Dual{ForwardDiff.Tag{var\"#validation_mse#23\"{var\"#20#22\"{cf_params, Dict{String, typeof(get_abs_neighborhood)}, Int64, Matrix{Float32}}, RatingsDataset, RatingsDataset}, Float32}}(1.2899092,1.0,0.0,0.0), Dual{ForwardDiff.Tag{var\"#validation_mse#23\"{var\"#20#22\"{cf_params, Dict{String, typeof(get_abs_neighborhood)}, Int64, Matrix{Float32}}, RatingsDataset, RatingsDataset}, Float32}}(1.0196693,0.0,1.0,0.0), Dual{ForwardDiff.Tag{var\"#validation_mse#23\"{var\"#20#22\"{cf_params, Dict{String, typeof(get_abs_neighborhood)}, Int64, Matrix{Float32}}, RatingsDataset, RatingsDataset}, Float32}}(0.07669401,0.0,0.0,1.0)]\n",
      "\u001b[32mProgress: 100%|███████████████████████████| Time: 0:03:38 ( 0.26  s/it)\u001b[39m\n",
      "\u001b[38;5;4m\u001b[1m[ \u001b[22m\u001b[39m\u001b[38;5;4m\u001b[1mDebug: \u001b[22m\u001b[39m20220225 08:07:12 loss: Dual{ForwardDiff.Tag{var\"#validation_mse#23\"{var\"#20#22\"{cf_params, Dict{String, typeof(get_abs_neighborhood)}, Int64, Matrix{Float32}}, RatingsDataset, RatingsDataset}, Float32}}(1.3160774,8.902224e-5,-0.00011142041,4.905897e-5) β: Dual{ForwardDiff.Tag{var\"#validation_mse#23\"{var\"#20#22\"{cf_params, Dict{String, typeof(get_abs_neighborhood)}, Int64, Matrix{Float32}}, RatingsDataset, RatingsDataset}, Float32}}(0.9474128,0.20160805,-0.39169618,2.9615054): λ ForwardDiff.Dual{ForwardDiff.Tag{var\"#validation_mse#23\"{var\"#20#22\"{cf_params, Dict{String, typeof(get_abs_neighborhood)}, Int64, Matrix{Float32}}, RatingsDataset, RatingsDataset}, Float32}, Float32, 3}[Dual{ForwardDiff.Tag{var\"#validation_mse#23\"{var\"#20#22\"{cf_params, Dict{String, typeof(get_abs_neighborhood)}, Int64, Matrix{Float32}}, RatingsDataset, RatingsDataset}, Float32}}(1.2938186,1.0,0.0,0.0), Dual{ForwardDiff.Tag{var\"#validation_mse#23\"{var\"#20#22\"{cf_params, Dict{String, typeof(get_abs_neighborhood)}, Int64, Matrix{Float32}}, RatingsDataset, RatingsDataset}, Float32}}(1.0177673,0.0,1.0,0.0), Dual{ForwardDiff.Tag{var\"#validation_mse#23\"{var\"#20#22\"{cf_params, Dict{String, typeof(get_abs_neighborhood)}, Int64, Matrix{Float32}}, RatingsDataset, RatingsDataset}, Float32}}(0.07548553,0.0,0.0,1.0)]\n",
      "\u001b[32mProgress: 100%|███████████████████████████| Time: 0:03:34 ( 0.25  s/it)\u001b[39m\n",
      "\u001b[38;5;4m\u001b[1m[ \u001b[22m\u001b[39m\u001b[38;5;4m\u001b[1mDebug: \u001b[22m\u001b[39m20220225 08:11:11 loss: Dual{ForwardDiff.Tag{var\"#validation_mse#23\"{var\"#20#22\"{cf_params, Dict{String, typeof(get_abs_neighborhood)}, Int64, Matrix{Float32}}, RatingsDataset, RatingsDataset}, Float32}}(1.3160772,-8.553565e-6,4.7689896e-6,-3.6004894e-5) β: Dual{ForwardDiff.Tag{var\"#validation_mse#23\"{var\"#20#22\"{cf_params, Dict{String, typeof(get_abs_neighborhood)}, Int64, Matrix{Float32}}, RatingsDataset, RatingsDataset}, Float32}}(0.9489971,0.20350896,-0.39392182,2.9428573): λ ForwardDiff.Dual{ForwardDiff.Tag{var\"#validation_mse#23\"{var\"#20#22\"{cf_params, Dict{String, typeof(get_abs_neighborhood)}, Int64, Matrix{Float32}}, RatingsDataset, RatingsDataset}, Float32}, Float32, 3}[Dual{ForwardDiff.Tag{var\"#validation_mse#23\"{var\"#20#22\"{cf_params, Dict{String, typeof(get_abs_neighborhood)}, Int64, Matrix{Float32}}, RatingsDataset, RatingsDataset}, Float32}}(1.2907803,1.0,0.0,0.0), Dual{ForwardDiff.Tag{var\"#validation_mse#23\"{var\"#20#22\"{cf_params, Dict{String, typeof(get_abs_neighborhood)}, Int64, Matrix{Float32}}, RatingsDataset, RatingsDataset}, Float32}}(1.0192455,0.0,1.0,0.0), Dual{ForwardDiff.Tag{var\"#validation_mse#23\"{var\"#20#22\"{cf_params, Dict{String, typeof(get_abs_neighborhood)}, Int64, Matrix{Float32}}, RatingsDataset, RatingsDataset}, Float32}}(0.07642477,0.0,0.0,1.0)]\n"
     ]
    },
    {
     "name": "stdout",
     "output_type": "stream",
     "text": [
      "    12     1.316077e+00     3.600489e-05\n",
      " * Current step size: 1.8911698\n",
      " * time: 9233.891863107681\n",
      " * g(x): Float32[-8.553565f-6, 4.7689896f-6, -3.6004894f-5]\n",
      " * x: Float32[1.2907803, 1.0192455, 0.07642477]\n"
     ]
    },
    {
     "name": "stderr",
     "output_type": "stream",
     "text": [
      "\u001b[32mProgress: 100%|███████████████████████████| Time: 0:03:31 ( 0.25  s/it)\u001b[39m\n",
      "\u001b[38;5;4m\u001b[1m[ \u001b[22m\u001b[39m\u001b[38;5;4m\u001b[1mDebug: \u001b[22m\u001b[39m20220225 08:15:06 loss: Dual{ForwardDiff.Tag{var\"#validation_mse#23\"{var\"#20#22\"{cf_params, Dict{String, typeof(get_abs_neighborhood)}, Int64, Matrix{Float32}}, RatingsDataset, RatingsDataset}, Float32}}(1.3160771,-6.007482e-7,6.239364e-7,-2.94638e-6) β: Dual{ForwardDiff.Tag{var\"#validation_mse#23\"{var\"#20#22\"{cf_params, Dict{String, typeof(get_abs_neighborhood)}, Int64, Matrix{Float32}}, RatingsDataset, RatingsDataset}, Float32}}(0.9492844,0.20369123,-0.39398682,2.9412904): λ ForwardDiff.Dual{ForwardDiff.Tag{var\"#validation_mse#23\"{var\"#20#22\"{cf_params, Dict{String, typeof(get_abs_neighborhood)}, Int64, Matrix{Float32}}, RatingsDataset, RatingsDataset}, Float32}, Float32, 3}[Dual{ForwardDiff.Tag{var\"#validation_mse#23\"{var\"#20#22\"{cf_params, Dict{String, typeof(get_abs_neighborhood)}, Int64, Matrix{Float32}}, RatingsDataset, RatingsDataset}, Float32}}(1.2906262,1.0,0.0,0.0), Dual{ForwardDiff.Tag{var\"#validation_mse#23\"{var\"#20#22\"{cf_params, Dict{String, typeof(get_abs_neighborhood)}, Int64, Matrix{Float32}}, RatingsDataset, RatingsDataset}, Float32}}(1.0191993,0.0,1.0,0.0), Dual{ForwardDiff.Tag{var\"#validation_mse#23\"{var\"#20#22\"{cf_params, Dict{String, typeof(get_abs_neighborhood)}, Int64, Matrix{Float32}}, RatingsDataset, RatingsDataset}, Float32}}(0.07652854,0.0,0.0,1.0)]\n",
      "\u001b[32mProgress: 100%|███████████████████████████| Time: 0:03:29 ( 0.24  s/it)\u001b[39m\n",
      "\u001b[38;5;4m\u001b[1m[ \u001b[22m\u001b[39m\u001b[38;5;4m\u001b[1mDebug: \u001b[22m\u001b[39m20220225 08:18:57 loss: Dual{ForwardDiff.Tag{var\"#validation_mse#23\"{var\"#20#22\"{cf_params, Dict{String, typeof(get_abs_neighborhood)}, Int64, Matrix{Float32}}, RatingsDataset, RatingsDataset}, Float32}}(1.3160772,3.0881503e-5,-1.591442e-5,0.00012753224) β: Dual{ForwardDiff.Tag{var\"#validation_mse#23\"{var\"#20#22\"{cf_params, Dict{String, typeof(get_abs_neighborhood)}, Int64, Matrix{Float32}}, RatingsDataset, RatingsDataset}, Float32}}(0.9504511,0.20442116,-0.39425865,2.9350946): λ ForwardDiff.Dual{ForwardDiff.Tag{var\"#validation_mse#23\"{var\"#20#22\"{cf_params, Dict{String, typeof(get_abs_neighborhood)}, Int64, Matrix{Float32}}, RatingsDataset, RatingsDataset}, Float32}, Float32, 3}[Dual{ForwardDiff.Tag{var\"#validation_mse#23\"{var\"#20#22\"{cf_params, Dict{String, typeof(get_abs_neighborhood)}, Int64, Matrix{Float32}}, RatingsDataset, RatingsDataset}, Float32}}(1.2900094,1.0,0.0,0.0), Dual{ForwardDiff.Tag{var\"#validation_mse#23\"{var\"#20#22\"{cf_params, Dict{String, typeof(get_abs_neighborhood)}, Int64, Matrix{Float32}}, RatingsDataset, RatingsDataset}, Float32}}(1.0190145,0.0,1.0,0.0), Dual{ForwardDiff.Tag{var\"#validation_mse#23\"{var\"#20#22\"{cf_params, Dict{String, typeof(get_abs_neighborhood)}, Int64, Matrix{Float32}}, RatingsDataset, RatingsDataset}, Float32}}(0.07694363,0.0,0.0,1.0)]\n",
      "\u001b[32mProgress: 100%|███████████████████████████| Time: 0:03:36 ( 0.25  s/it)\u001b[39m\n",
      "\u001b[38;5;4m\u001b[1m[ \u001b[22m\u001b[39m\u001b[38;5;4m\u001b[1mDebug: \u001b[22m\u001b[39m20220225 08:23:02 loss: Dual{ForwardDiff.Tag{var\"#validation_mse#23\"{var\"#20#22\"{cf_params, Dict{String, typeof(get_abs_neighborhood)}, Int64, Matrix{Float32}}, RatingsDataset, RatingsDataset}, Float32}}(1.3160772,2.0471322e-7,2.0678057e-7,4.1242717e-7) β: Dual{ForwardDiff.Tag{var\"#validation_mse#23\"{var\"#20#22\"{cf_params, Dict{String, typeof(get_abs_neighborhood)}, Int64, Matrix{Float32}}, RatingsDataset, RatingsDataset}, Float32}}(0.9493123,0.20370977,-0.39399362,2.9411242): λ ForwardDiff.Dual{ForwardDiff.Tag{var\"#validation_mse#23\"{var\"#20#22\"{cf_params, Dict{String, typeof(get_abs_neighborhood)}, Int64, Matrix{Float32}}, RatingsDataset, RatingsDataset}, Float32}, Float32, 3}[Dual{ForwardDiff.Tag{var\"#validation_mse#23\"{var\"#20#22\"{cf_params, Dict{String, typeof(get_abs_neighborhood)}, Int64, Matrix{Float32}}, RatingsDataset, RatingsDataset}, Float32}}(1.2906103,1.0,0.0,0.0), Dual{ForwardDiff.Tag{var\"#validation_mse#23\"{var\"#20#22\"{cf_params, Dict{String, typeof(get_abs_neighborhood)}, Int64, Matrix{Float32}}, RatingsDataset, RatingsDataset}, Float32}}(1.0191946,0.0,1.0,0.0), Dual{ForwardDiff.Tag{var\"#validation_mse#23\"{var\"#20#22\"{cf_params, Dict{String, typeof(get_abs_neighborhood)}, Int64, Matrix{Float32}}, RatingsDataset, RatingsDataset}, Float32}}(0.076539166,0.0,0.0,1.0)]\n"
     ]
    },
    {
     "name": "stdout",
     "output_type": "stream",
     "text": [
      "    13     1.316077e+00     4.124272e-07\n",
      " * Current step size: 1.1024141\n",
      " * time: 9944.882198095322\n",
      " * g(x): Float32[2.0471322f-7, 2.0678057f-7, 4.1242717f-7]\n",
      " * x: Float32[1.2906103, 1.0191946, 0.076539166]\n"
     ]
    },
    {
     "name": "stderr",
     "output_type": "stream",
     "text": [
      "\u001b[32mProgress: 100%|███████████████████████████| Time: 2:25:53 ( 7.44  s/it)\u001b[39m\n",
      "\u001b[32mProgress: 100%|█████████████████████████████████████████| Time: 0:00:07\u001b[39m\n",
      "\u001b[38;5;6m\u001b[1m[ \u001b[22m\u001b[39m\u001b[38;5;6m\u001b[1mInfo: \u001b[22m\u001b[39m20220225 10:52:33 training set: RMSE 0.9606385253560201 MAE 0.6986439551368863 R2 0.11798298505288429\n",
      "\u001b[32mProgress: 100%|█████████████████████████████████████████| Time: 0:00:00\u001b[39m\n",
      "\u001b[38;5;6m\u001b[1m[ \u001b[22m\u001b[39m\u001b[38;5;6m\u001b[1mInfo: \u001b[22m\u001b[39m20220225 10:52:44 validation set: RMSE 1.147204099141028 MAE 0.8242867631237408 R2 0.0737156569242976\n",
      "\u001b[32mProgress: 100%|█████████████████████████████████████████| Time: 0:00:00\u001b[39m\n"
     ]
    }
   ],
   "source": [
    "alphas = [\"UserItemBiases\"; [\"MatrixFactorization.$K\" for K in [10, 20, 40]]]\n",
    "item_cf_params = [[\n",
    "        cf_params(\n",
    "            name = \"ItemCF.Resid.MF.1.$K\",\n",
    "            training_residuals = alphas,\n",
    "            validation_residuals = alphas,\n",
    "            neighborhood_type = \"abs\",\n",
    "            S = get_correlation_matrix_outdir(alphas),\n",
    "            K = K,\n",
    "            λ = rand(3),\n",
    "        ) for K in [2^8]\n",
    "    ];\n",
    "];\n",
    "for param in item_cf_params\n",
    "    optimize_model(param)\n",
    "end"
   ]
  },
  {
   "cell_type": "code",
   "execution_count": null,
   "id": "1a691793-12fd-4ed0-bdc5-345777b1c8e4",
   "metadata": {},
   "outputs": [],
   "source": []
  }
 ],
 "metadata": {
  "kernelspec": {
   "display_name": "Julia 1.6.3",
   "language": "julia",
   "name": "julia-1.6"
  },
  "language_info": {
   "file_extension": ".jl",
   "mimetype": "application/julia",
   "name": "julia",
   "version": "1.6.3"
  }
 },
 "nbformat": 4,
 "nbformat_minor": 5
}
