{
 "cells": [
  {
   "cell_type": "markdown",
   "id": "c3758ece-9b72-47b4-ae6a-aa364e0443e3",
   "metadata": {},
   "source": [
    "# User Item Biases With Regularization\n",
    "* Prediction for user $i$ and item $j$ is $\\tilde r_{ij} = u_i + a_j$\n",
    "* Loss function is $L = \\sum_{\\Omega}w_{ij}\\text{loss}(r_{ij}, \\tilde r_{ij}) + \\lambda_u \\sum_i (u_i - \\bar u) ^2 + \\lambda_a \\sum_j (a_j - \\bar a)^2 $\n",
    "* $\\bar u$ is the mean of $u_i$ and $\\bar a$ is the mean of $a_j$ \n",
    "* $\\Omega$ is the set of oberved pairs $(i, j)$\n",
    "* $r_{ij}$ is the rating for user $i$ and item $j$\n",
    "* $w_{ij}$ is the weight for the prediction $r_{ij}$ and is modeled as a power-law in the number of items seen by $i$ and users than have seen $j$: $w_{ij} = |j' : (i, j') \\in \\Omega| ^ {\\lambda_{wu}} |i' : (i', j) \\in \\Omega| ^ {\\lambda_{wa}}$\n",
    "* $\\text{loss}$ is mean squared error"
   ]
  },
  {
   "cell_type": "code",
   "execution_count": 1,
   "id": "7cc9334a-2287-41d6-885b-a5cca94fe263",
   "metadata": {},
   "outputs": [],
   "source": [
    "const name = \"UserItemBiases\"\n",
    "const residual_alphas = []\n",
    "const implicit = false;"
   ]
  },
  {
   "cell_type": "code",
   "execution_count": 2,
   "id": "df87db6f-667c-4bc2-9d48-7f4debe6750f",
   "metadata": {
    "tags": []
   },
   "outputs": [],
   "source": [
    "import NBInclude: @nbinclude\n",
    "import SparseArrays: sparse\n",
    "import Statistics: mean\n",
    "@nbinclude(\"Alpha.ipynb\");"
   ]
  },
  {
   "cell_type": "code",
   "execution_count": 3,
   "id": "2964541d-4796-47fd-ac77-91a2eaefc679",
   "metadata": {},
   "outputs": [],
   "source": [
    "const training = get_split(\"training\", implicit)\n",
    "const validation = get_split(\"validation\", implicit);"
   ]
  },
  {
   "cell_type": "markdown",
   "id": "99f52a69-0231-4bff-8a9f-26bb16ee9f33",
   "metadata": {
    "tags": []
   },
   "source": [
    "## Alternating Least Squares\n",
    "* Given some hyperparameters $\\lambda$, we can solve for $U$ and $A$ via Alternating Least Squares\n",
    "* This is an iterative algorithm where we fix $A$, then solve for the $U$ that minimizes the loss function\n",
    "* Then we fix $U$ and solve for the best $A$\n",
    "* These two steps are repeated until the matrices $U$ and $A$ converge"
   ]
  },
  {
   "cell_type": "markdown",
   "id": "1d7f343e-0410-407f-9ae3-17e49ec57439",
   "metadata": {},
   "source": [
    "## ALS for Explicit data\n",
    "* If we fix $a$, then for each user $i$, $u_i$ is optimized when\n",
    "* $u_i = \\dfrac{\\sum_{j \\in \\Omega_i}(r_{ij} - a_j) w_{ij} + \\bar u \\lambda_u}{ \\sum_{j \\in \\Omega_i} w_{ij} + \\lambda_u}$\n",
    "* $\\Omega$ is the set of (user, item) pairs that we have ratings for\n",
    "* $\\Omega_i$ is subset of $\\Omega$ for which the user is the $i$-th user"
   ]
  },
  {
   "cell_type": "code",
   "execution_count": 4,
   "id": "59fb718e-dc9e-4452-b72c-829ae2d843ff",
   "metadata": {},
   "outputs": [],
   "source": [
    "function make_prediction(users, items, u, a)\n",
    "    r = Array{eltype(u)}(undef, length(users))\n",
    "    Threads.@threads for i = 1:length(r)\n",
    "        @inbounds r[i] = u[users[i]] + a[items[i]]\n",
    "    end\n",
    "    r\n",
    "end;"
   ]
  },
  {
   "cell_type": "code",
   "execution_count": 5,
   "id": "fb96c1bd-40b5-457b-9872-ca6633256390",
   "metadata": {},
   "outputs": [],
   "source": [
    "function get_residuals!(users, items, ratings, weights, a, ρ, Ω)\n",
    "    @inbounds for row = 1:length(users)\n",
    "        i = users[row]\n",
    "        j = items[row]\n",
    "        r = ratings[row]\n",
    "        w = weights[row]\n",
    "        ρ[i] += (r - a[j]) * w\n",
    "        Ω[i] += w\n",
    "    end\n",
    "    ρ, Ω\n",
    "end\n",
    "\n",
    "function update_users!(users, items, ratings, weights, u, a, λ_u, ρ, Ω)\n",
    "    Threads.@threads for t = 1:Threads.nthreads()\n",
    "        range = thread_range(length(ratings))\n",
    "        ρ[:, Threads.threadid()] .= 0\n",
    "        Ω[:, Threads.threadid()] .= 0\n",
    "        @views get_residuals!(\n",
    "            users[range],\n",
    "            items[range],\n",
    "            ratings[range],\n",
    "            weights[range],\n",
    "            a,\n",
    "            ρ[:, Threads.threadid()],\n",
    "            Ω[:, Threads.threadid()],\n",
    "        )\n",
    "    end\n",
    "\n",
    "    ρ = sum(ρ, dims = 2)\n",
    "    Ω = sum(Ω, dims = 2)\n",
    "    μ = mean(u)\n",
    "    Threads.@threads for i = 1:length(u)\n",
    "        @inbounds u[i] = (ρ[i] + μ * λ_u) / (Ω[i] + λ_u)\n",
    "    end\n",
    "end;"
   ]
  },
  {
   "cell_type": "code",
   "execution_count": 6,
   "id": "d0371f61-27bf-4f52-b822-d060f7be01b3",
   "metadata": {},
   "outputs": [],
   "source": [
    "function train_model(training, stop_criteria, λ)\n",
    "    @info \"training model with parameters $λ\"\n",
    "    λ_u, λ_a, λ_wu, λ_wa = λ\n",
    "    users, items, ratings = training.user, training.item, training.rating\n",
    "    weights =\n",
    "        expdecay(get_counts(\"training\", implicit), log(λ_wu)) .*\n",
    "        expdecay(get_counts(\"training\", implicit; by_item = true), log(λ_wa))\n",
    "    u = zeros(eltype(λ_u), num_users())\n",
    "    a = zeros(eltype(λ_a), num_items())\n",
    "\n",
    "    ρ_u = zeros(eltype(u), length(u), Threads.nthreads())\n",
    "    Ω_u = zeros(eltype(u), length(u), Threads.nthreads())\n",
    "    ρ_a = zeros(eltype(a), length(a), Threads.nthreads())\n",
    "    Ω_a = zeros(eltype(a), length(a), Threads.nthreads())\n",
    "\n",
    "    while !stop!(stop_criteria, [u, a])\n",
    "        update_users!(users, items, ratings, weights, u, a, λ_u, ρ_u, Ω_u)\n",
    "        update_users!(items, users, ratings, weights, a, u, λ_a, ρ_a, Ω_a)\n",
    "    end\n",
    "    u, a\n",
    "end;"
   ]
  },
  {
   "cell_type": "markdown",
   "id": "d44f0871-3bb4-4083-8bdb-3cb53233298c",
   "metadata": {
    "tags": []
   },
   "source": [
    "## Training"
   ]
  },
  {
   "cell_type": "code",
   "execution_count": 7,
   "id": "c174fef4-e9d4-4fbd-a649-1159f8c07a3f",
   "metadata": {},
   "outputs": [],
   "source": [
    "function validation_mse(λ)\n",
    "    λ = exp.(λ) # ensure λ is nonnegative\n",
    "    stop_criteria = convergence_stopper(1e-6, max_iters = 16)\n",
    "    u, a = train_model(training, stop_criteria, λ)\n",
    "    r = make_prediction(validation.user, validation.item, u, a)\n",
    "    residualized_loss(residual_alphas, implicit, r)\n",
    "end;"
   ]
  },
  {
   "cell_type": "code",
   "execution_count": 8,
   "id": "8dd5c620-855b-4ad5-868f-2c18184d913c",
   "metadata": {},
   "outputs": [
    {
     "name": "stderr",
     "output_type": "stream",
     "text": [
      "\u001b[38;5;6m\u001b[1m[ \u001b[22m\u001b[39m\u001b[38;5;6m\u001b[1mInfo: \u001b[22m\u001b[39m20220604 15:06:34 training model with parameters Float32[1.0, 1.0, 1.0, 1.0]\n",
      "\u001b[32mProgress: 100%|███████████████████████████| Time: 0:00:02 ( 0.15 μs/it)\u001b[39m39m\n",
      "\u001b[32mProgress: 100%|███████████████████████████| Time: 0:00:00 (32.59 ns/it)\u001b[39m\n"
     ]
    },
    {
     "data": {
      "text/plain": [
       "1.813418f0"
      ]
     },
     "execution_count": 8,
     "metadata": {},
     "output_type": "execute_result"
    }
   ],
   "source": [
    "validation_mse(fill(0.0f0, 4))"
   ]
  },
  {
   "cell_type": "code",
   "execution_count": 9,
   "id": "7d55df8c-06e5-4e8e-814c-41410685842d",
   "metadata": {
    "tags": []
   },
   "outputs": [
    {
     "name": "stderr",
     "output_type": "stream",
     "text": [
      "\u001b[38;5;6m\u001b[1m[ \u001b[22m\u001b[39m\u001b[38;5;6m\u001b[1mInfo: \u001b[22m\u001b[39m20220604 15:07:04 training model with parameters ForwardDiff.Dual{ForwardDiff.Tag{typeof(validation_mse), Float32}, Float32, 4}[Dual{ForwardDiff.Tag{typeof(validation_mse), Float32}}(1.0,1.0,0.0,0.0,0.0), Dual{ForwardDiff.Tag{typeof(validation_mse), Float32}}(1.0,0.0,1.0,0.0,0.0), Dual{ForwardDiff.Tag{typeof(validation_mse), Float32}}(1.0,0.0,0.0,1.0,0.0), Dual{ForwardDiff.Tag{typeof(validation_mse), Float32}}(1.0,0.0,0.0,0.0,1.0)]\n"
     ]
    },
    {
     "name": "stdout",
     "output_type": "stream",
     "text": [
      "Iter     Function value   Gradient norm \n",
      "     0     1.813422e+00     5.017445e-02\n",
      " * Current step size: 1.0\n",
      " * time: 0.03074789047241211\n",
      " * g(x): Float32[-0.0045934455, -3.0179476f-6, 0.018213015, 0.050174452]\n",
      " * x: Float32[0.0, 0.0, 0.0, 0.0]\n"
     ]
    },
    {
     "name": "stderr",
     "output_type": "stream",
     "text": [
      "\u001b[38;5;6m\u001b[1m[ \u001b[22m\u001b[39m\u001b[38;5;6m\u001b[1mInfo: \u001b[22m\u001b[39m20220604 15:07:54 training model with parameters ForwardDiff.Dual{ForwardDiff.Tag{typeof(validation_mse), Float32}, Float32, 4}[Dual{ForwardDiff.Tag{typeof(validation_mse), Float32}}(1.004604,1.004604,0.0,0.0,0.0), Dual{ForwardDiff.Tag{typeof(validation_mse), Float32}}(1.000003,0.0,1.000003,0.0,0.0), Dual{ForwardDiff.Tag{typeof(validation_mse), Float32}}(0.98195183,0.0,0.0,0.98195183,0.0), Dual{ForwardDiff.Tag{typeof(validation_mse), Float32}}(0.9510635,0.0,0.0,0.0,0.9510635)]\n",
      "\u001b[38;5;6m\u001b[1m[ \u001b[22m\u001b[39m\u001b[38;5;6m\u001b[1mInfo: \u001b[22m\u001b[39m20220604 15:08:33 training model with parameters ForwardDiff.Dual{ForwardDiff.Tag{typeof(validation_mse), Float32}, Float32, 4}[Dual{ForwardDiff.Tag{typeof(validation_mse), Float32}}(1.023233,1.023233,0.0,0.0,0.0), Dual{ForwardDiff.Tag{typeof(validation_mse), Float32}}(1.0000151,0.0,1.0000151,0.0,0.0), Dual{ForwardDiff.Tag{typeof(validation_mse), Float32}}(0.91295826,0.0,0.0,0.91295826,0.0), Dual{ForwardDiff.Tag{typeof(validation_mse), Float32}}(0.77812177,0.0,0.0,0.0,0.77812177)]\n",
      "\u001b[38;5;6m\u001b[1m[ \u001b[22m\u001b[39m\u001b[38;5;6m\u001b[1mInfo: \u001b[22m\u001b[39m20220604 15:09:12 training model with parameters ForwardDiff.Dual{ForwardDiff.Tag{typeof(validation_mse), Float32}, Float32, 4}[Dual{ForwardDiff.Tag{typeof(validation_mse), Float32}}(1.0047292,1.0047292,0.0,0.0,0.0), Dual{ForwardDiff.Tag{typeof(validation_mse), Float32}}(1.0000031,0.0,1.0000031,0.0,0.0), Dual{ForwardDiff.Tag{typeof(validation_mse), Float32}}(0.981467,0.0,0.0,0.981467,0.0), Dual{ForwardDiff.Tag{typeof(validation_mse), Float32}}(0.94977033,0.0,0.0,0.0,0.94977033)]\n"
     ]
    },
    {
     "name": "stdout",
     "output_type": "stream",
     "text": [
      "     1     1.811669e+00     1.526675e-02\n",
      " * Current step size: 1.0271175\n",
      " * time: 118.09454584121704\n",
      " * g(x): Float32[-0.0010347532, -3.7929474f-6, 0.015266755, -0.0015451695]\n",
      " * x: Float32[0.004718008, 3.0997867f-6, -0.018706907, -0.05153506]\n"
     ]
    },
    {
     "name": "stderr",
     "output_type": "stream",
     "text": [
      "\u001b[38;5;6m\u001b[1m[ \u001b[22m\u001b[39m\u001b[38;5;6m\u001b[1mInfo: \u001b[22m\u001b[39m20220604 15:09:50 training model with parameters ForwardDiff.Dual{ForwardDiff.Tag{typeof(validation_mse), Float32}, Float32, 4}[Dual{ForwardDiff.Tag{typeof(validation_mse), Float32}}(1.0062914,1.0062914,0.0,0.0,0.0), Dual{ForwardDiff.Tag{typeof(validation_mse), Float32}}(1.0000075,0.0,1.0000075,0.0,0.0), Dual{ForwardDiff.Tag{typeof(validation_mse), Float32}}(0.9636046,0.0,0.0,0.9636046,0.0), Dual{ForwardDiff.Tag{typeof(validation_mse), Float32}}(0.94699776,0.0,0.0,0.0,0.94699776)]\n",
      "\u001b[38;5;6m\u001b[1m[ \u001b[22m\u001b[39m\u001b[38;5;6m\u001b[1mInfo: \u001b[22m\u001b[39m20220604 15:10:27 training model with parameters ForwardDiff.Dual{ForwardDiff.Tag{typeof(validation_mse), Float32}, Float32, 4}[Dual{ForwardDiff.Tag{typeof(validation_mse), Float32}}(1.0125649,1.0125649,0.0,0.0,0.0), Dual{ForwardDiff.Tag{typeof(validation_mse), Float32}}(1.0000253,0.0,1.0000253,0.0,0.0), Dual{ForwardDiff.Tag{typeof(validation_mse), Float32}}(0.89534736,0.0,0.0,0.89534736,0.0), Dual{ForwardDiff.Tag{typeof(validation_mse), Float32}}(0.9359882,0.0,0.0,0.0,0.9359882)]\n",
      "\u001b[38;5;6m\u001b[1m[ \u001b[22m\u001b[39m\u001b[38;5;6m\u001b[1mInfo: \u001b[22m\u001b[39m20220604 15:11:05 training model with parameters ForwardDiff.Dual{ForwardDiff.Tag{typeof(validation_mse), Float32}, Float32, 4}[Dual{ForwardDiff.Tag{typeof(validation_mse), Float32}}(1.0123637,1.0123637,0.0,0.0,0.0), Dual{ForwardDiff.Tag{typeof(validation_mse), Float32}}(1.0000247,0.0,1.0000247,0.0,0.0), Dual{ForwardDiff.Tag{typeof(validation_mse), Float32}}(0.89745414,0.0,0.0,0.89745414,0.0), Dual{ForwardDiff.Tag{typeof(validation_mse), Float32}}(0.93633837,0.0,0.0,0.0,0.93633837)]\n"
     ]
    },
    {
     "name": "stdout",
     "output_type": "stream",
     "text": [
      "     2     1.810900e+00     4.440900e-02\n",
      " * Current step size: 4.872041\n",
      " * time: 231.85019493103027\n",
      " * g(x): Float32[0.0026561713, -4.241068f-6, 0.0074390667, -0.044409003]\n",
      " * x: Float32[0.012287829, 2.4657189f-5, -0.10819325, -0.06577837]\n"
     ]
    },
    {
     "name": "stderr",
     "output_type": "stream",
     "text": [
      "\u001b[38;5;6m\u001b[1m[ \u001b[22m\u001b[39m\u001b[38;5;6m\u001b[1mInfo: \u001b[22m\u001b[39m20220604 15:11:44 training model with parameters ForwardDiff.Dual{ForwardDiff.Tag{typeof(validation_mse), Float32}, Float32, 4}[Dual{ForwardDiff.Tag{typeof(validation_mse), Float32}}(1.0195522,1.0195522,0.0,0.0,0.0), Dual{ForwardDiff.Tag{typeof(validation_mse), Float32}}(1.000055,0.0,1.000055,0.0,0.0), Dual{ForwardDiff.Tag{typeof(validation_mse), Float32}}(0.7980849,0.0,0.0,0.7980849,0.0), Dual{ForwardDiff.Tag{typeof(validation_mse), Float32}}(0.9569118,0.0,0.0,0.0,0.9569118)]\n",
      "\u001b[38;5;6m\u001b[1m[ \u001b[22m\u001b[39m\u001b[38;5;6m\u001b[1mInfo: \u001b[22m\u001b[39m20220604 15:12:22 training model with parameters ForwardDiff.Dual{ForwardDiff.Tag{typeof(validation_mse), Float32}, Float32, 4}[Dual{ForwardDiff.Tag{typeof(validation_mse), Float32}}(1.0488207,1.0488207,0.0,0.0,0.0), Dual{ForwardDiff.Tag{typeof(validation_mse), Float32}}(1.0001758,0.0,1.0001758,0.0,0.0), Dual{ForwardDiff.Tag{typeof(validation_mse), Float32}}(0.49911016,0.0,0.0,0.49911016,0.0), Dual{ForwardDiff.Tag{typeof(validation_mse), Float32}}(1.0438262,0.0,0.0,0.0,1.0438262)]\n",
      "\u001b[38;5;6m\u001b[1m[ \u001b[22m\u001b[39m\u001b[38;5;6m\u001b[1mInfo: \u001b[22m\u001b[39m20220604 15:13:00 training model with parameters ForwardDiff.Dual{ForwardDiff.Tag{typeof(validation_mse), Float32}, Float32, 4}[Dual{ForwardDiff.Tag{typeof(validation_mse), Float32}}(1.0247544,1.0247544,0.0,0.0,0.0), Dual{ForwardDiff.Tag{typeof(validation_mse), Float32}}(1.0000767,0.0,1.0000767,0.0,0.0), Dual{ForwardDiff.Tag{typeof(validation_mse), Float32}}(0.7334858,0.0,0.0,0.7334858,0.0), Dual{ForwardDiff.Tag{typeof(validation_mse), Float32}}(0.971989,0.0,0.0,0.0,0.971989)]\n"
     ]
    },
    {
     "name": "stdout",
     "output_type": "stream",
     "text": [
      "     3     1.808716e+00     4.012633e-02\n",
      " * Current step size: 1.7192914\n",
      " * time: 345.2062740325928\n",
      " * g(x): Float32[0.003347404, 4.124724f-6, -0.0019332627, -0.040126335]\n",
      " * x: Float32[0.024453033, 7.6644224f-5, -0.309947, -0.028410792]\n"
     ]
    },
    {
     "name": "stderr",
     "output_type": "stream",
     "text": [
      "\u001b[38;5;6m\u001b[1m[ \u001b[22m\u001b[39m\u001b[38;5;6m\u001b[1mInfo: \u001b[22m\u001b[39m20220604 15:13:37 training model with parameters ForwardDiff.Dual{ForwardDiff.Tag{typeof(validation_mse), Float32}, Float32, 4}[Dual{ForwardDiff.Tag{typeof(validation_mse), Float32}}(1.019721,1.019721,0.0,0.0,0.0), Dual{ForwardDiff.Tag{typeof(validation_mse), Float32}}(0.9999307,0.0,0.9999307,0.0,0.0), Dual{ForwardDiff.Tag{typeof(validation_mse), Float32}}(0.6674332,0.0,0.0,0.6674332,0.0), Dual{ForwardDiff.Tag{typeof(validation_mse), Float32}}(1.0155143,0.0,0.0,0.0,1.0155143)]\n",
      "\u001b[38;5;6m\u001b[1m[ \u001b[22m\u001b[39m\u001b[38;5;6m\u001b[1mInfo: \u001b[22m\u001b[39m20220604 15:14:14 training model with parameters ForwardDiff.Dual{ForwardDiff.Tag{typeof(validation_mse), Float32}, Float32, 4}[Dual{ForwardDiff.Tag{typeof(validation_mse), Float32}}(1.0209557,1.0209557,0.0,0.0,0.0), Dual{ForwardDiff.Tag{typeof(validation_mse), Float32}}(0.99996656,0.0,0.99996656,0.0,0.0), Dual{ForwardDiff.Tag{typeof(validation_mse), Float32}}(0.6830927,0.0,0.0,0.6830927,0.0), Dual{ForwardDiff.Tag{typeof(validation_mse), Float32}}(1.0046405,0.0,0.0,0.0,1.0046405)]\n"
     ]
    },
    {
     "name": "stdout",
     "output_type": "stream",
     "text": [
      "     4     1.808150e+00     6.450061e-03\n",
      " * Current step size: 0.75424814\n",
      " * time: 419.3581919670105\n",
      " * g(x): Float32[-0.00013146133, 1.1248627f-5, 0.0024728733, 0.006450061]\n",
      " * x: Float32[0.020739174, -3.3458622f-5, -0.38112465, 0.004629772]\n"
     ]
    },
    {
     "name": "stderr",
     "output_type": "stream",
     "text": [
      "\u001b[38;5;6m\u001b[1m[ \u001b[22m\u001b[39m\u001b[38;5;6m\u001b[1mInfo: \u001b[22m\u001b[39m20220604 15:14:51 training model with parameters ForwardDiff.Dual{ForwardDiff.Tag{typeof(validation_mse), Float32}, Float32, 4}[Dual{ForwardDiff.Tag{typeof(validation_mse), Float32}}(1.0226495,1.0226495,0.0,0.0,0.0), Dual{ForwardDiff.Tag{typeof(validation_mse), Float32}}(0.99996436,0.0,0.99996436,0.0,0.0), Dual{ForwardDiff.Tag{typeof(validation_mse), Float32}}(0.66204804,0.0,0.0,0.66204804,0.0), Dual{ForwardDiff.Tag{typeof(validation_mse), Float32}}(1.0069308,0.0,0.0,0.0,1.0069308)]\n",
      "\u001b[38;5;6m\u001b[1m[ \u001b[22m\u001b[39m\u001b[38;5;6m\u001b[1mInfo: \u001b[22m\u001b[39m20220604 15:15:28 training model with parameters ForwardDiff.Dual{ForwardDiff.Tag{typeof(validation_mse), Float32}, Float32, 4}[Dual{ForwardDiff.Tag{typeof(validation_mse), Float32}}(1.0219977,1.0219977,0.0,0.0,0.0), Dual{ForwardDiff.Tag{typeof(validation_mse), Float32}}(0.9999652,0.0,0.9999652,0.0,0.0), Dual{ForwardDiff.Tag{typeof(validation_mse), Float32}}(0.6700656,0.0,0.0,0.6700656,0.0), Dual{ForwardDiff.Tag{typeof(validation_mse), Float32}}(1.0060492,0.0,0.0,0.0,1.0060492)]\n"
     ]
    },
    {
     "name": "stdout",
     "output_type": "stream",
     "text": [
      "     5     1.808130e+00     1.123598e-03\n",
      " * Current step size: 0.6153235\n",
      " * time: 493.369441986084\n",
      " * g(x): Float32[0.00039905624, 1.5101061f-5, 0.0001787557, 0.0011235977]\n",
      " * x: Float32[0.02175918, -3.479128f-5, -0.4003797, 0.0060309195]\n"
     ]
    },
    {
     "name": "stderr",
     "output_type": "stream",
     "text": [
      "\u001b[38;5;6m\u001b[1m[ \u001b[22m\u001b[39m\u001b[38;5;6m\u001b[1mInfo: \u001b[22m\u001b[39m20220604 15:16:05 training model with parameters ForwardDiff.Dual{ForwardDiff.Tag{typeof(validation_mse), Float32}, Float32, 4}[Dual{ForwardDiff.Tag{typeof(validation_mse), Float32}}(1.0215311,1.0215311,0.0,0.0,0.0), Dual{ForwardDiff.Tag{typeof(validation_mse), Float32}}(0.99995005,0.0,0.99995005,0.0,0.0), Dual{ForwardDiff.Tag{typeof(validation_mse), Float32}}(0.67050534,0.0,0.0,0.67050534,0.0), Dual{ForwardDiff.Tag{typeof(validation_mse), Float32}}(1.0054435,0.0,0.0,0.0,1.0054435)]\n",
      "\u001b[38;5;6m\u001b[1m[ \u001b[22m\u001b[39m\u001b[38;5;6m\u001b[1mInfo: \u001b[22m\u001b[39m20220604 15:16:42 training model with parameters ForwardDiff.Dual{ForwardDiff.Tag{typeof(validation_mse), Float32}, Float32, 4}[Dual{ForwardDiff.Tag{typeof(validation_mse), Float32}}(1.0196668,1.0196668,0.0,0.0,0.0), Dual{ForwardDiff.Tag{typeof(validation_mse), Float32}}(0.9998895,0.0,0.9998895,0.0,0.0), Dual{ForwardDiff.Tag{typeof(validation_mse), Float32}}(0.6722671,0.0,0.0,0.6722671,0.0), Dual{ForwardDiff.Tag{typeof(validation_mse), Float32}}(1.0030242,0.0,0.0,0.0,1.0030242)]\n",
      "\u001b[38;5;6m\u001b[1m[ \u001b[22m\u001b[39m\u001b[38;5;6m\u001b[1mInfo: \u001b[22m\u001b[39m20220604 15:17:19 training model with parameters ForwardDiff.Dual{ForwardDiff.Tag{typeof(validation_mse), Float32}, Float32, 4}[Dual{ForwardDiff.Tag{typeof(validation_mse), Float32}}(1.0212374,1.0212374,0.0,0.0,0.0), Dual{ForwardDiff.Tag{typeof(validation_mse), Float32}}(0.9999405,0.0,0.9999405,0.0,0.0), Dual{ForwardDiff.Tag{typeof(validation_mse), Float32}}(0.6707823,0.0,0.0,0.6707823,0.0), Dual{ForwardDiff.Tag{typeof(validation_mse), Float32}}(1.0050622,0.0,0.0,0.0,1.0050622)]\n"
     ]
    },
    {
     "name": "stdout",
     "output_type": "stream",
     "text": [
      "     6     1.808129e+00     5.227212e-04\n",
      " * Current step size: 1.6296648\n",
      " * time: 604.297534942627\n",
      " * g(x): Float32[0.0005227212, 1.5037459f-5, -6.365744f-5, -0.0004622097]\n",
      " * x: Float32[0.021014994, -5.947607f-5, -0.3993106, 0.005049437]\n"
     ]
    },
    {
     "name": "stderr",
     "output_type": "stream",
     "text": [
      "\u001b[38;5;6m\u001b[1m[ \u001b[22m\u001b[39m\u001b[38;5;6m\u001b[1mInfo: \u001b[22m\u001b[39m20220604 15:17:56 training model with parameters ForwardDiff.Dual{ForwardDiff.Tag{typeof(validation_mse), Float32}, Float32, 4}[Dual{ForwardDiff.Tag{typeof(validation_mse), Float32}}(1.0206496,1.0206496,0.0,0.0,0.0), Dual{ForwardDiff.Tag{typeof(validation_mse), Float32}}(0.9999232,0.0,0.9999232,0.0,0.0), Dual{ForwardDiff.Tag{typeof(validation_mse), Float32}}(0.67088073,0.0,0.0,0.67088073,0.0), Dual{ForwardDiff.Tag{typeof(validation_mse), Float32}}(1.0049921,0.0,0.0,0.0,1.0049921)]\n",
      "\u001b[38;5;6m\u001b[1m[ \u001b[22m\u001b[39m\u001b[38;5;6m\u001b[1mInfo: \u001b[22m\u001b[39m20220604 15:18:33 training model with parameters ForwardDiff.Dual{ForwardDiff.Tag{typeof(validation_mse), Float32}, Float32, 4}[Dual{ForwardDiff.Tag{typeof(validation_mse), Float32}}(1.0183018,1.0183018,0.0,0.0,0.0), Dual{ForwardDiff.Tag{typeof(validation_mse), Float32}}(0.99985415,0.0,0.99985415,0.0,0.0), Dual{ForwardDiff.Tag{typeof(validation_mse), Float32}}(0.6712746,0.0,0.0,0.6712746,0.0), Dual{ForwardDiff.Tag{typeof(validation_mse), Float32}}(1.004712,0.0,0.0,0.0,1.004712)]\n",
      "\u001b[38;5;6m\u001b[1m[ \u001b[22m\u001b[39m\u001b[38;5;6m\u001b[1mInfo: \u001b[22m\u001b[39m20220604 15:19:10 training model with parameters ForwardDiff.Dual{ForwardDiff.Tag{typeof(validation_mse), Float32}, Float32, 4}[Dual{ForwardDiff.Tag{typeof(validation_mse), Float32}}(1.006644,1.006644,0.0,0.0,0.0), Dual{ForwardDiff.Tag{typeof(validation_mse), Float32}}(0.9995086,0.0,0.9995086,0.0,0.0), Dual{ForwardDiff.Tag{typeof(validation_mse), Float32}}(0.6732472,0.0,0.0,0.6732472,0.0), Dual{ForwardDiff.Tag{typeof(validation_mse), Float32}}(1.0033122,0.0,0.0,0.0,1.0033122)]\n",
      "\u001b[38;5;6m\u001b[1m[ \u001b[22m\u001b[39m\u001b[38;5;6m\u001b[1mInfo: \u001b[22m\u001b[39m20220604 15:19:48 training model with parameters ForwardDiff.Dual{ForwardDiff.Tag{typeof(validation_mse), Float32}, Float32, 4}[Dual{ForwardDiff.Tag{typeof(validation_mse), Float32}}(0.9503262,0.9503262,0.0,0.0,0.0), Dual{ForwardDiff.Tag{typeof(validation_mse), Float32}}(0.9977828,0.0,0.9977828,0.0,0.0), Dual{ForwardDiff.Tag{typeof(validation_mse), Float32}}(0.6831977,0.0,0.0,0.6831977,0.0), Dual{ForwardDiff.Tag{typeof(validation_mse), Float32}}(0.9963429,0.0,0.0,0.0,0.9963429)]\n",
      "\u001b[38;5;6m\u001b[1m[ \u001b[22m\u001b[39m\u001b[38;5;6m\u001b[1mInfo: \u001b[22m\u001b[39m20220604 15:20:25 training model with parameters ForwardDiff.Dual{ForwardDiff.Tag{typeof(validation_mse), Float32}, Float32, 4}[Dual{ForwardDiff.Tag{typeof(validation_mse), Float32}}(0.96659034,0.96659034,0.0,0.0,0.0), Dual{ForwardDiff.Tag{typeof(validation_mse), Float32}}(0.9982912,0.0,0.9982912,0.0,0.0), Dual{ForwardDiff.Tag{typeof(validation_mse), Float32}}(0.6802495,0.0,0.0,0.6802495,0.0), Dual{ForwardDiff.Tag{typeof(validation_mse), Float32}}(0.9983921,0.0,0.0,0.0,0.9983921)]\n"
     ]
    },
    {
     "name": "stdout",
     "output_type": "stream",
     "text": [
      "     7     1.808116e+00     1.406724e-03\n",
      " * Current step size: 95.5247\n",
      " * time: 789.7172048091888\n",
      " * g(x): Float32[0.0002447643, 1.2993038f-5, 0.0014067244, 0.0009205817]\n",
      " * x: Float32[-0.03398048, -0.0017102798, -0.38529557, -0.0016091829]\n"
     ]
    },
    {
     "name": "stderr",
     "output_type": "stream",
     "text": [
      "\u001b[38;5;6m\u001b[1m[ \u001b[22m\u001b[39m\u001b[38;5;6m\u001b[1mInfo: \u001b[22m\u001b[39m20220604 15:21:02 training model with parameters ForwardDiff.Dual{ForwardDiff.Tag{typeof(validation_mse), Float32}, Float32, 4}[Dual{ForwardDiff.Tag{typeof(validation_mse), Float32}}(0.9210202,0.9210202,0.0,0.0,0.0), Dual{ForwardDiff.Tag{typeof(validation_mse), Float32}}(0.996798,0.0,0.996798,0.0,0.0), Dual{ForwardDiff.Tag{typeof(validation_mse), Float32}}(0.6757155,0.0,0.0,0.6757155,0.0), Dual{ForwardDiff.Tag{typeof(validation_mse), Float32}}(0.99572694,0.0,0.0,0.0,0.99572694)]\n",
      "\u001b[38;5;6m\u001b[1m[ \u001b[22m\u001b[39m\u001b[38;5;6m\u001b[1mInfo: \u001b[22m\u001b[39m20220604 15:21:40 training model with parameters ForwardDiff.Dual{ForwardDiff.Tag{typeof(validation_mse), Float32}, Float32, 4}[Dual{ForwardDiff.Tag{typeof(validation_mse), Float32}}(0.75923437,0.75923437,0.0,0.0,0.0), Dual{ForwardDiff.Tag{typeof(validation_mse), Float32}}(0.99084735,0.0,0.99084735,0.0,0.0), Dual{ForwardDiff.Tag{typeof(validation_mse), Float32}}(0.65787953,0.0,0.0,0.65787953,0.0), Dual{ForwardDiff.Tag{typeof(validation_mse), Float32}}(0.98513734,0.0,0.0,0.0,0.98513734)]\n",
      "\u001b[38;5;6m\u001b[1m[ \u001b[22m\u001b[39m\u001b[38;5;6m\u001b[1mInfo: \u001b[22m\u001b[39m20220604 15:22:17 training model with parameters ForwardDiff.Dual{ForwardDiff.Tag{typeof(validation_mse), Float32}, Float32, 4}[Dual{ForwardDiff.Tag{typeof(validation_mse), Float32}}(0.28900772,0.28900772,0.0,0.0,0.0), Dual{ForwardDiff.Tag{typeof(validation_mse), Float32}}(0.96162283,0.0,0.96162283,0.0,0.0), Dual{ForwardDiff.Tag{typeof(validation_mse), Float32}}(0.57551795,0.0,0.0,0.57551795,0.0), Dual{ForwardDiff.Tag{typeof(validation_mse), Float32}}(0.9338548,0.0,0.0,0.0,0.9338548)]\n",
      "\u001b[38;5;6m\u001b[1m[ \u001b[22m\u001b[39m\u001b[38;5;6m\u001b[1mInfo: \u001b[22m\u001b[39m20220604 15:22:54 training model with parameters ForwardDiff.Dual{ForwardDiff.Tag{typeof(validation_mse), Float32}, Float32, 4}[Dual{ForwardDiff.Tag{typeof(validation_mse), Float32}}(0.7228108,0.7228108,0.0,0.0,0.0), Dual{ForwardDiff.Tag{typeof(validation_mse), Float32}}(0.9893385,0.0,0.9893385,0.0,0.0), Dual{ForwardDiff.Tag{typeof(validation_mse), Float32}}(0.65341586,0.0,0.0,0.65341586,0.0), Dual{ForwardDiff.Tag{typeof(validation_mse), Float32}}(0.98246026,0.0,0.0,0.0,0.98246026)]\n"
     ]
    },
    {
     "name": "stdout",
     "output_type": "stream",
     "text": [
      "     8     1.808043e+00     1.585269e-04\n",
      " * Current step size: 6.0180182\n",
      " * time: 940.1777160167694\n",
      " * g(x): Float32[-6.8241907f-6, 2.6681591f-5, 3.4664965f-5, 0.00015852695]\n",
      " * x: Float32[-0.3246078, -0.010718701, -0.4255415, -0.017695367]\n"
     ]
    },
    {
     "name": "stderr",
     "output_type": "stream",
     "text": [
      "\u001b[38;5;6m\u001b[1m[ \u001b[22m\u001b[39m\u001b[38;5;6m\u001b[1mInfo: \u001b[22m\u001b[39m20220604 15:23:32 training model with parameters ForwardDiff.Dual{ForwardDiff.Tag{typeof(validation_mse), Float32}, Float32, 4}[Dual{ForwardDiff.Tag{typeof(validation_mse), Float32}}(0.7190641,0.7190641,0.0,0.0,0.0), Dual{ForwardDiff.Tag{typeof(validation_mse), Float32}}(0.9877013,0.0,0.9877013,0.0,0.0), Dual{ForwardDiff.Tag{typeof(validation_mse), Float32}}(0.65312696,0.0,0.0,0.65312696,0.0), Dual{ForwardDiff.Tag{typeof(validation_mse), Float32}}(0.9820598,0.0,0.0,0.0,0.9820598)]\n",
      "\u001b[38;5;6m\u001b[1m[ \u001b[22m\u001b[39m\u001b[38;5;6m\u001b[1mInfo: \u001b[22m\u001b[39m20220604 15:24:09 training model with parameters ForwardDiff.Dual{ForwardDiff.Tag{typeof(validation_mse), Float32}, Float32, 4}[Dual{ForwardDiff.Tag{typeof(validation_mse), Float32}}(0.70427054,0.70427054,0.0,0.0,0.0), Dual{ForwardDiff.Tag{typeof(validation_mse), Float32}}(0.9811795,0.0,0.9811795,0.0,0.0), Dual{ForwardDiff.Tag{typeof(validation_mse), Float32}}(0.6519727,0.0,0.0,0.6519727,0.0), Dual{ForwardDiff.Tag{typeof(validation_mse), Float32}}(0.9804595,0.0,0.0,0.0,0.9804595)]\n",
      "\u001b[38;5;6m\u001b[1m[ \u001b[22m\u001b[39m\u001b[38;5;6m\u001b[1mInfo: \u001b[22m\u001b[39m20220604 15:24:47 training model with parameters ForwardDiff.Dual{ForwardDiff.Tag{typeof(validation_mse), Float32}, Float32, 4}[Dual{ForwardDiff.Tag{typeof(validation_mse), Float32}}(0.71609414,0.71609414,0.0,0.0,0.0), Dual{ForwardDiff.Tag{typeof(validation_mse), Float32}}(0.98639935,0.0,0.98639935,0.0,0.0), Dual{ForwardDiff.Tag{typeof(validation_mse), Float32}}(0.652897,0.0,0.0,0.652897,0.0), Dual{ForwardDiff.Tag{typeof(validation_mse), Float32}}(0.98174095,0.0,0.0,0.0,0.98174095)]\n"
     ]
    },
    {
     "name": "stdout",
     "output_type": "stream",
     "text": [
      "     9     1.808043e+00     1.284481e-04\n",
      " * Current step size: 1.7964028\n",
      " * time: 1052.0201058387756\n",
      " * g(x): Float32[4.029423f-6, 2.6985828f-5, -2.943826f-5, -0.00012844808]\n",
      " * x: Float32[-0.33394367, -0.013693964, -0.4263359, -0.018427776]\n"
     ]
    },
    {
     "name": "stderr",
     "output_type": "stream",
     "text": [
      "\u001b[38;5;6m\u001b[1m[ \u001b[22m\u001b[39m\u001b[38;5;6m\u001b[1mInfo: \u001b[22m\u001b[39m20220604 15:25:24 training model with parameters ForwardDiff.Dual{ForwardDiff.Tag{typeof(validation_mse), Float32}, Float32, 4}[Dual{ForwardDiff.Tag{typeof(validation_mse), Float32}}(0.7160642,0.7160642,0.0,0.0,0.0), Dual{ForwardDiff.Tag{typeof(validation_mse), Float32}}(0.98512363,0.0,0.98512363,0.0,0.0), Dual{ForwardDiff.Tag{typeof(validation_mse), Float32}}(0.65290403,0.0,0.0,0.65290403,0.0), Dual{ForwardDiff.Tag{typeof(validation_mse), Float32}}(0.9817342,0.0,0.0,0.0,0.9817342)]\n",
      "\u001b[38;5;6m\u001b[1m[ \u001b[22m\u001b[39m\u001b[38;5;6m\u001b[1mInfo: \u001b[22m\u001b[39m20220604 15:26:01 training model with parameters ForwardDiff.Dual{ForwardDiff.Tag{typeof(validation_mse), Float32}, Float32, 4}[Dual{ForwardDiff.Tag{typeof(validation_mse), Float32}}(0.7159446,0.7159446,0.0,0.0,0.0), Dual{ForwardDiff.Tag{typeof(validation_mse), Float32}}(0.9800371,0.0,0.9800371,0.0,0.0), Dual{ForwardDiff.Tag{typeof(validation_mse), Float32}}(0.65293205,0.0,0.0,0.65293205,0.0), Dual{ForwardDiff.Tag{typeof(validation_mse), Float32}}(0.9817071,0.0,0.0,0.0,0.9817071)]\n",
      "\u001b[38;5;6m\u001b[1m[ \u001b[22m\u001b[39m\u001b[38;5;6m\u001b[1mInfo: \u001b[22m\u001b[39m20220604 15:26:38 training model with parameters ForwardDiff.Dual{ForwardDiff.Tag{typeof(validation_mse), Float32}, Float32, 4}[Dual{ForwardDiff.Tag{typeof(validation_mse), Float32}}(0.7153467,0.7153467,0.0,0.0,0.0), Dual{ForwardDiff.Tag{typeof(validation_mse), Float32}}(0.95499575,0.0,0.95499575,0.0,0.0), Dual{ForwardDiff.Tag{typeof(validation_mse), Float32}}(0.6530725,0.0,0.0,0.6530725,0.0), Dual{ForwardDiff.Tag{typeof(validation_mse), Float32}}(0.9815715,0.0,0.0,0.0,0.9815715)]\n",
      "\u001b[38;5;6m\u001b[1m[ \u001b[22m\u001b[39m\u001b[38;5;6m\u001b[1mInfo: \u001b[22m\u001b[39m20220604 15:27:16 training model with parameters ForwardDiff.Dual{ForwardDiff.Tag{typeof(validation_mse), Float32}, Float32, 4}[Dual{ForwardDiff.Tag{typeof(validation_mse), Float32}}(0.7123647,0.7123647,0.0,0.0,0.0), Dual{ForwardDiff.Tag{typeof(validation_mse), Float32}}(0.83906585,0.0,0.83906585,0.0,0.0), Dual{ForwardDiff.Tag{typeof(validation_mse), Float32}}(0.65377474,0.0,0.0,0.65377474,0.0), Dual{ForwardDiff.Tag{typeof(validation_mse), Float32}}(0.98089397,0.0,0.0,0.0,0.98089397)]\n",
      "\u001b[38;5;6m\u001b[1m[ \u001b[22m\u001b[39m\u001b[38;5;6m\u001b[1mInfo: \u001b[22m\u001b[39m20220604 15:27:53 training model with parameters ForwardDiff.Dual{ForwardDiff.Tag{typeof(validation_mse), Float32}, Float32, 4}[Dual{ForwardDiff.Tag{typeof(validation_mse), Float32}}(0.69763994,0.69763994,0.0,0.0,0.0), Dual{ForwardDiff.Tag{typeof(validation_mse), Float32}}(0.439308,0.0,0.439308,0.0,0.0), Dual{ForwardDiff.Tag{typeof(validation_mse), Float32}}(0.6572976,0.0,0.0,0.6572976,0.0), Dual{ForwardDiff.Tag{typeof(validation_mse), Float32}}(0.97751313,0.0,0.0,0.0,0.97751313)]\n",
      "\u001b[38;5;6m\u001b[1m[ \u001b[22m\u001b[39m\u001b[38;5;6m\u001b[1mInfo: \u001b[22m\u001b[39m20220604 15:28:30 training model with parameters ForwardDiff.Dual{ForwardDiff.Tag{typeof(validation_mse), Float32}, Float32, 4}[Dual{ForwardDiff.Tag{typeof(validation_mse), Float32}}(0.70303166,0.70303166,0.0,0.0,0.0), Dual{ForwardDiff.Tag{typeof(validation_mse), Float32}}(0.5576411,0.0,0.5576411,0.0,0.0), Dual{ForwardDiff.Tag{typeof(validation_mse), Float32}}(0.65599686,0.0,0.0,0.65599686,0.0), Dual{ForwardDiff.Tag{typeof(validation_mse), Float32}}(0.9787579,0.0,0.0,0.0,0.9787579)]\n"
     ]
    },
    {
     "name": "stdout",
     "output_type": "stream",
     "text": [
      "    10     1.808037e+00     1.265754e-03\n",
      " * Current step size: 440.70148\n",
      " * time: 1275.5234088897705\n",
      " * g(x): Float32[4.6147055f-5, 5.4074744f-6, 0.0002736034, -0.0012657536]\n",
      " * x: Float32[-0.35235333, -0.5840397, -0.42159924, -0.021470923]\n"
     ]
    },
    {
     "name": "stderr",
     "output_type": "stream",
     "text": [
      "\u001b[38;5;6m\u001b[1m[ \u001b[22m\u001b[39m\u001b[38;5;6m\u001b[1mInfo: \u001b[22m\u001b[39m20220604 15:29:08 training model with parameters ForwardDiff.Dual{ForwardDiff.Tag{typeof(validation_mse), Float32}, Float32, 4}[Dual{ForwardDiff.Tag{typeof(validation_mse), Float32}}(0.708259,0.708259,0.0,0.0,0.0), Dual{ForwardDiff.Tag{typeof(validation_mse), Float32}}(0.49575487,0.0,0.49575487,0.0,0.0), Dual{ForwardDiff.Tag{typeof(validation_mse), Float32}}(0.6523689,0.0,0.0,0.6523689,0.0), Dual{ForwardDiff.Tag{typeof(validation_mse), Float32}}(0.98081166,0.0,0.0,0.0,0.98081166)]\n",
      "\u001b[38;5;6m\u001b[1m[ \u001b[22m\u001b[39m\u001b[38;5;6m\u001b[1mInfo: \u001b[22m\u001b[39m20220604 15:29:45 training model with parameters ForwardDiff.Dual{ForwardDiff.Tag{typeof(validation_mse), Float32}, Float32, 4}[Dual{ForwardDiff.Tag{typeof(validation_mse), Float32}}(0.72955984,0.72955984,0.0,0.0,0.0), Dual{ForwardDiff.Tag{typeof(validation_mse), Float32}}(0.3096819,0.0,0.3096819,0.0,0.0), Dual{ForwardDiff.Tag{typeof(validation_mse), Float32}}(0.63805664,0.0,0.0,0.63805664,0.0), Dual{ForwardDiff.Tag{typeof(validation_mse), Float32}}(0.9890697,0.0,0.0,0.0,0.9890697)]\n",
      "\u001b[38;5;6m\u001b[1m[ \u001b[22m\u001b[39m\u001b[38;5;6m\u001b[1mInfo: \u001b[22m\u001b[39m20220604 15:30:22 training model with parameters ForwardDiff.Dual{ForwardDiff.Tag{typeof(validation_mse), Float32}, Float32, 4}[Dual{ForwardDiff.Tag{typeof(validation_mse), Float32}}(0.7104841,0.7104841,0.0,0.0,0.0), Dual{ForwardDiff.Tag{typeof(validation_mse), Float32}}(0.47166678,0.0,0.47166678,0.0,0.0), Dual{ForwardDiff.Tag{typeof(validation_mse), Float32}}(0.65083885,0.0,0.0,0.65083885,0.0), Dual{ForwardDiff.Tag{typeof(validation_mse), Float32}}(0.98168254,0.0,0.0,0.0,0.98168254)]\n"
     ]
    },
    {
     "name": "stdout",
     "output_type": "stream",
     "text": [
      "    11     1.808034e+00     1.384111e-04\n",
      " * Current step size: 1.4234217\n",
      " * time: 1387.1739649772644\n",
      " * g(x): Float32[1.7745315f-5, 2.531124f-6, -8.536298f-5, -0.00013841108]\n",
      " * x: Float32[-0.34180877, -0.7514825, -0.42949325, -0.018487295]\n"
     ]
    },
    {
     "name": "stderr",
     "output_type": "stream",
     "text": [
      "\u001b[38;5;6m\u001b[1m[ \u001b[22m\u001b[39m\u001b[38;5;6m\u001b[1mInfo: \u001b[22m\u001b[39m20220604 15:30:59 training model with parameters ForwardDiff.Dual{ForwardDiff.Tag{typeof(validation_mse), Float32}, Float32, 4}[Dual{ForwardDiff.Tag{typeof(validation_mse), Float32}}(0.70875156,0.70875156,0.0,0.0,0.0), Dual{ForwardDiff.Tag{typeof(validation_mse), Float32}}(0.4397899,0.0,0.4397899,0.0,0.0), Dual{ForwardDiff.Tag{typeof(validation_mse), Float32}}(0.65099937,0.0,0.0,0.65099937,0.0), Dual{ForwardDiff.Tag{typeof(validation_mse), Float32}}(0.98150295,0.0,0.0,0.0,0.98150295)]\n",
      "\u001b[38;5;6m\u001b[1m[ \u001b[22m\u001b[39m\u001b[38;5;6m\u001b[1mInfo: \u001b[22m\u001b[39m20220604 15:31:36 training model with parameters ForwardDiff.Dual{ForwardDiff.Tag{typeof(validation_mse), Float32}, Float32, 4}[Dual{ForwardDiff.Tag{typeof(validation_mse), Float32}}(0.70186365,0.70186365,0.0,0.0,0.0), Dual{ForwardDiff.Tag{typeof(validation_mse), Float32}}(0.3324183,0.0,0.3324183,0.0,0.0), Dual{ForwardDiff.Tag{typeof(validation_mse), Float32}}(0.65164196,0.0,0.0,0.65164196,0.0), Dual{ForwardDiff.Tag{typeof(validation_mse), Float32}}(0.9807849,0.0,0.0,0.0,0.9807849)]\n",
      "\u001b[38;5;6m\u001b[1m[ \u001b[22m\u001b[39m\u001b[38;5;6m\u001b[1mInfo: \u001b[22m\u001b[39m20220604 15:32:14 training model with parameters ForwardDiff.Dual{ForwardDiff.Tag{typeof(validation_mse), Float32}, Float32, 4}[Dual{ForwardDiff.Tag{typeof(validation_mse), Float32}}(0.7069997,0.7069997,0.0,0.0,0.0), Dual{ForwardDiff.Tag{typeof(validation_mse), Float32}}(0.40967593,0.0,0.40967593,0.0,0.0), Dual{ForwardDiff.Tag{typeof(validation_mse), Float32}}(0.65116215,0.0,0.0,0.65116215,0.0), Dual{ForwardDiff.Tag{typeof(validation_mse), Float32}}(0.9813209,0.0,0.0,0.0,0.9813209)]\n"
     ]
    },
    {
     "name": "stdout",
     "output_type": "stream",
     "text": [
      "    12     1.808033e+00     1.764127e-04\n",
      " * Current step size: 2.013646\n",
      " * time: 1498.864665031433\n",
      " * g(x): Float32[-1.9009552f-5, 1.9087082f-7, 5.1412477f-5, 0.00017641265]\n",
      " * x: Float32[-0.34672502, -0.8923888, -0.42899656, -0.01885572]\n"
     ]
    },
    {
     "name": "stderr",
     "output_type": "stream",
     "text": [
      "\u001b[38;5;6m\u001b[1m[ \u001b[22m\u001b[39m\u001b[38;5;6m\u001b[1mInfo: \u001b[22m\u001b[39m20220604 15:32:51 training model with parameters ForwardDiff.Dual{ForwardDiff.Tag{typeof(validation_mse), Float32}, Float32, 4}[Dual{ForwardDiff.Tag{typeof(validation_mse), Float32}}(0.7084238,0.7084238,0.0,0.0,0.0), Dual{ForwardDiff.Tag{typeof(validation_mse), Float32}}(0.40588373,0.0,0.40588373,0.0,0.0), Dual{ForwardDiff.Tag{typeof(validation_mse), Float32}}(0.6511278,0.0,0.0,0.6511278,0.0), Dual{ForwardDiff.Tag{typeof(validation_mse), Float32}}(0.98142165,0.0,0.0,0.0,0.98142165)]\n",
      "\u001b[38;5;6m\u001b[1m[ \u001b[22m\u001b[39m\u001b[38;5;6m\u001b[1mInfo: \u001b[22m\u001b[39m20220604 15:33:28 training model with parameters ForwardDiff.Dual{ForwardDiff.Tag{typeof(validation_mse), Float32}, Float32, 4}[Dual{ForwardDiff.Tag{typeof(validation_mse), Float32}}(0.71414876,0.71414876,0.0,0.0,0.0), Dual{ForwardDiff.Tag{typeof(validation_mse), Float32}}(0.39106274,0.0,0.39106274,0.0,0.0), Dual{ForwardDiff.Tag{typeof(validation_mse), Float32}}(0.6509905,0.0,0.0,0.6509905,0.0), Dual{ForwardDiff.Tag{typeof(validation_mse), Float32}}(0.9818246,0.0,0.0,0.0,0.9818246)]\n",
      "\u001b[38;5;6m\u001b[1m[ \u001b[22m\u001b[39m\u001b[38;5;6m\u001b[1mInfo: \u001b[22m\u001b[39m20220604 15:34:06 training model with parameters ForwardDiff.Dual{ForwardDiff.Tag{typeof(validation_mse), Float32}, Float32, 4}[Dual{ForwardDiff.Tag{typeof(validation_mse), Float32}}(0.70859843,0.70859843,0.0,0.0,0.0), Dual{ForwardDiff.Tag{typeof(validation_mse), Float32}}(0.40542167,0.0,0.40542167,0.0,0.0), Dual{ForwardDiff.Tag{typeof(validation_mse), Float32}}(0.65112364,0.0,0.0,0.65112364,0.0), Dual{ForwardDiff.Tag{typeof(validation_mse), Float32}}(0.981434,0.0,0.0,0.0,0.981434)]\n"
     ]
    },
    {
     "name": "stdout",
     "output_type": "stream",
     "text": [
      "    13     1.808033e+00     5.474516e-06\n",
      " * Current step size: 1.1224906\n",
      " * time: 1611.0625398159027\n",
      " * g(x): Float32[3.724754f-7, 3.8308595f-8, -1.622722f-6, -5.4745155f-6]\n",
      " * x: Float32[-0.34446633, -0.9028276, -0.42905575, -0.018740539]\n"
     ]
    },
    {
     "name": "stderr",
     "output_type": "stream",
     "text": [
      "\u001b[38;5;6m\u001b[1m[ \u001b[22m\u001b[39m\u001b[38;5;6m\u001b[1mInfo: \u001b[22m\u001b[39m20220604 15:34:43 training model with parameters ForwardDiff.Dual{ForwardDiff.Tag{typeof(validation_mse), Float32}, Float32, 4}[Dual{ForwardDiff.Tag{typeof(validation_mse), Float32}}(0.70864666,0.70864666,0.0,0.0,0.0), Dual{ForwardDiff.Tag{typeof(validation_mse), Float32}}(0.40451136,0.0,0.40451136,0.0,0.0), Dual{ForwardDiff.Tag{typeof(validation_mse), Float32}}(0.6511299,0.0,0.0,0.6511299,0.0), Dual{ForwardDiff.Tag{typeof(validation_mse), Float32}}(0.9814397,0.0,0.0,0.0,0.9814397)]\n",
      "\u001b[38;5;6m\u001b[1m[ \u001b[22m\u001b[39m\u001b[38;5;6m\u001b[1mInfo: \u001b[22m\u001b[39m20220604 15:35:21 training model with parameters ForwardDiff.Dual{ForwardDiff.Tag{typeof(validation_mse), Float32}, Float32, 4}[Dual{ForwardDiff.Tag{typeof(validation_mse), Float32}}(0.7088397,0.7088397,0.0,0.0,0.0), Dual{ForwardDiff.Tag{typeof(validation_mse), Float32}}(0.40089065,0.0,0.40089065,0.0,0.0), Dual{ForwardDiff.Tag{typeof(validation_mse), Float32}}(0.65115505,0.0,0.0,0.65115505,0.0), Dual{ForwardDiff.Tag{typeof(validation_mse), Float32}}(0.98146254,0.0,0.0,0.0,0.98146254)]\n",
      "\u001b[38;5;6m\u001b[1m[ \u001b[22m\u001b[39m\u001b[38;5;6m\u001b[1mInfo: \u001b[22m\u001b[39m20220604 15:35:58 training model with parameters ForwardDiff.Dual{ForwardDiff.Tag{typeof(validation_mse), Float32}, Float32, 4}[Dual{ForwardDiff.Tag{typeof(validation_mse), Float32}}(0.7086526,0.7086526,0.0,0.0,0.0), Dual{ForwardDiff.Tag{typeof(validation_mse), Float32}}(0.4043992,0.0,0.4043992,0.0,0.0), Dual{ForwardDiff.Tag{typeof(validation_mse), Float32}}(0.6511307,0.0,0.0,0.6511307,0.0), Dual{ForwardDiff.Tag{typeof(validation_mse), Float32}}(0.98144037,0.0,0.0,0.0,0.98144037)]\n"
     ]
    },
    {
     "name": "stdout",
     "output_type": "stream",
     "text": [
      "    14     1.808033e+00     6.412606e-07\n",
      " * Current step size: 1.1233808\n",
      " * time: 1723.2058458328247\n",
      " * g(x): Float32[3.0843395f-9, 1.3546859f-9, -1.0447979f-8, -6.412606f-7]\n",
      " * x: Float32[-0.34438983, -0.9053528, -0.4290449, -0.018734004]\n"
     ]
    }
   ],
   "source": [
    "# Find the best regularization hyperparameters\n",
    "res = Optim.optimize(\n",
    "    validation_mse,\n",
    "    fill(0.0f0, 4),\n",
    "    Optim.LBFGS(),\n",
    "    autodiff = :forward,\n",
    "    Optim.Options(show_trace = true, extended_trace = true),\n",
    ");\n",
    "λ = exp.(Optim.minimizer(res));"
   ]
  },
  {
   "cell_type": "code",
   "execution_count": 10,
   "id": "5e71e197-1810-46ac-9be5-4847747fce90",
   "metadata": {},
   "outputs": [
    {
     "name": "stderr",
     "output_type": "stream",
     "text": [
      "\u001b[38;5;6m\u001b[1m[ \u001b[22m\u001b[39m\u001b[38;5;6m\u001b[1mInfo: \u001b[22m\u001b[39m20220604 15:36:35 The optimal λ is Float32[0.7086526, 0.4043992, 0.6511307, 0.98144037], found in 47 function calls\n"
     ]
    }
   ],
   "source": [
    "@info \"The optimal λ is $λ, found in \" * repr(Optim.f_calls(res)) * \" function calls\""
   ]
  },
  {
   "cell_type": "code",
   "execution_count": 11,
   "id": "781a2388-df56-42ce-8e58-b4a11a4e4d0b",
   "metadata": {},
   "outputs": [
    {
     "name": "stderr",
     "output_type": "stream",
     "text": [
      "\u001b[38;5;6m\u001b[1m[ \u001b[22m\u001b[39m\u001b[38;5;6m\u001b[1mInfo: \u001b[22m\u001b[39m20220604 15:36:35 training model with parameters Float32[0.7086526, 0.4043992, 0.6511307, 0.98144037]\n"
     ]
    }
   ],
   "source": [
    "stop_criteria = convergence_stopper(1e-6, max_iters = 16)\n",
    "u, a = train_model(training, stop_criteria, λ);"
   ]
  },
  {
   "cell_type": "code",
   "execution_count": 12,
   "id": "49a78dff-fbb8-4b4e-8c59-f53774d5c47c",
   "metadata": {},
   "outputs": [
    {
     "name": "stderr",
     "output_type": "stream",
     "text": [
      "\u001b[38;5;6m\u001b[1m[ \u001b[22m\u001b[39m\u001b[38;5;6m\u001b[1mInfo: \u001b[22m\u001b[39m20220604 15:36:48 training model with parameters Float32[0.7086526, 0.4043992, 0.6511307, 0.98144037]\n"
     ]
    },
    {
     "data": {
      "text/plain": [
       "1.8080267f0"
      ]
     },
     "execution_count": 12,
     "metadata": {},
     "output_type": "execute_result"
    }
   ],
   "source": [
    "validation_mse(Optim.minimizer(res))"
   ]
  },
  {
   "cell_type": "markdown",
   "id": "7c291e04-b1ba-48a0-ac09-25eda75a6162",
   "metadata": {},
   "source": [
    "## Inference"
   ]
  },
  {
   "cell_type": "code",
   "execution_count": 13,
   "id": "09dc7ac8-4839-476e-acdc-4687262d8623",
   "metadata": {},
   "outputs": [
    {
     "name": "stderr",
     "output_type": "stream",
     "text": [
      "\u001b[38;5;6m\u001b[1m[ \u001b[22m\u001b[39m\u001b[38;5;6m\u001b[1mInfo: \u001b[22m\u001b[39m20220604 15:37:03 validation loss: 1.8080267, β: Float32[1.0015497]\n",
      "\u001b[38;5;6m\u001b[1m[ \u001b[22m\u001b[39m\u001b[38;5;6m\u001b[1mInfo: \u001b[22m\u001b[39m20220604 15:37:06 training loss: 1.6717246, β: Float32[1.0015497]\n"
     ]
    }
   ],
   "source": [
    "model(users, items) = make_prediction(users, items, u, a)\n",
    "write_alpha(model, residual_alphas, implicit);"
   ]
  },
  {
   "cell_type": "code",
   "execution_count": 14,
   "id": "c4c83363-c309-46e5-ba51-252ad0d3871a",
   "metadata": {},
   "outputs": [],
   "source": [
    "write_params(Dict(\"u\" => u, \"a\" => a, \"λ\" => λ));"
   ]
  }
 ],
 "metadata": {
  "kernelspec": {
   "display_name": "Julia 1.7.2",
   "language": "julia",
   "name": "julia-1.7"
  },
  "language_info": {
   "file_extension": ".jl",
   "mimetype": "application/julia",
   "name": "julia",
   "version": "1.7.2"
  }
 },
 "nbformat": 4,
 "nbformat_minor": 5
}
