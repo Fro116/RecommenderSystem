{
 "cells": [
  {
   "cell_type": "code",
   "execution_count": 1,
   "id": "e9053c21-d334-45a8-8142-13c918093bfe",
   "metadata": {},
   "outputs": [],
   "source": [
    "import os\n",
    "import random\n",
    "import logging\n",
    "\n",
    "import numpy as np\n",
    "import pandas as pd\n",
    "from implicit.als import AlternatingLeastSquares\n",
    "from implicit.nearest_neighbours import bm25_weight\n",
    "from numpy.random import MT19937, RandomState, SeedSequence\n",
    "from scipy.optimize import minimize\n",
    "from scipy.sparse import csr_matrix\n",
    "from tqdm import tqdm"
   ]
  },
  {
   "cell_type": "code",
   "execution_count": 2,
   "id": "95d19e49-2a63-4a96-b65b-76e7bb5c23c3",
   "metadata": {},
   "outputs": [],
   "source": [
    "# logging\n",
    "logger = logging.getLogger(\"Implicit\")\n",
    "logger.setLevel(logging.DEBUG)\n",
    "formatter = logging.Formatter(\n",
    "    \"%(name)s:%(levelname)s:%(asctime)s: %(message)s\", datefmt=\"%Y-%m-%d %H:%M:%S\"\n",
    ")\n",
    "for stream in [logging.FileHandler(\"../../data/alphas/Implicit/log\"), logging.StreamHandler()]:\n",
    "    stream.setFormatter(formatter)\n",
    "    logger.addHandler(stream)"
   ]
  },
  {
   "cell_type": "markdown",
   "id": "a659a7f2-2637-46f1-9c4f-1f20c2811c81",
   "metadata": {},
   "source": [
    "## Prepare Data"
   ]
  },
  {
   "cell_type": "code",
   "execution_count": 3,
   "id": "36eb2f0b-add5-4dff-9465-56b72e97c7b0",
   "metadata": {},
   "outputs": [],
   "source": [
    "training = pd.read_csv(\"../../data/splits/training.csv\")\n",
    "validation = pd.read_csv(\"../../data/splits/validation.csv\")"
   ]
  },
  {
   "cell_type": "markdown",
   "id": "02f3af86-c43a-42c4-bd3d-e8be4e62e858",
   "metadata": {
    "tags": []
   },
   "source": [
    "## Evaluate model"
   ]
  },
  {
   "cell_type": "code",
   "execution_count": 4,
   "id": "097f3eaf-e9eb-458f-845c-56c547a844b4",
   "metadata": {},
   "outputs": [],
   "source": [
    "valid_users = list(set(validation.username))"
   ]
  },
  {
   "cell_type": "code",
   "execution_count": 5,
   "id": "2f63e397-a2cb-46df-810b-b63a963a3429",
   "metadata": {},
   "outputs": [],
   "source": [
    "def get_recommendations(model, mat, user):\n",
    "    n_items = mat.shape[1]\n",
    "    recs = model.recommend(\n",
    "        user, mat[user], filter_already_liked_items=False, N=n_items\n",
    "    )\n",
    "    return recs[1][np.argsort(recs[0])]"
   ]
  },
  {
   "cell_type": "code",
   "execution_count": 6,
   "id": "81003aed-1394-42d3-99c5-6068b4806aa2",
   "metadata": {},
   "outputs": [],
   "source": [
    "def get_items(user):\n",
    "    return list(validation[validation.username == user][\"anime_id\"])"
   ]
  },
  {
   "cell_type": "code",
   "execution_count": 7,
   "id": "2125b841-b2a2-421d-8dbb-375bf4b6bb68",
   "metadata": {},
   "outputs": [],
   "source": [
    "def distribution(preds):\n",
    "    preds = preds.clip(min=1e-20, max=1e6)\n",
    "    return preds / sum(preds)"
   ]
  },
  {
   "cell_type": "code",
   "execution_count": 8,
   "id": "6bd3d9c4-ac22-4e0d-9d63-98831fcae1d4",
   "metadata": {},
   "outputs": [],
   "source": [
    "def get_random_crossentropy_loss(model, mat, rng):\n",
    "    user = rng.choice(valid_users)\n",
    "    preds = distribution(get_recommendations(model, mat, user))\n",
    "    items = get_items(user) \n",
    "    return -np.log(preds[items]).mean()"
   ]
  },
  {
   "cell_type": "code",
   "execution_count": 9,
   "id": "a7264bf1-aa37-479f-874d-77f716dfacb6",
   "metadata": {},
   "outputs": [],
   "source": [
    "def loss(model, mat, seed=20220302, iters=1000):\n",
    "    rng = RandomState(MT19937(SeedSequence(seed)))\n",
    "    losses = []\n",
    "    for j in tqdm(range(iters)):\n",
    "        losses.append(get_random_crossentropy_loss(model, mat, rng))\n",
    "    return np.array(losses).mean()"
   ]
  },
  {
   "cell_type": "code",
   "execution_count": 10,
   "id": "94f7ed40-8c3a-4e0e-9255-a479fb930376",
   "metadata": {},
   "outputs": [],
   "source": [
    "def train_model(a, K):\n",
    "    mat = csr_matrix(\n",
    "        (1 + a[0] * training.my_score, (training.username, training.anime_id))\n",
    "    )\n",
    "    model = AlternatingLeastSquares(factors=a[2], regularization=a[1], iterations=10)  # faster settings so we can iterate more\n",
    "    model.fit(mat)\n",
    "    model, mat\n",
    "    \n",
    "def model_loss(a):\n",
    "    logger.debug(f\"params: {a}\")\n",
    "    model, mat = train_model(a)\n",
    "    l = loss(model, mat)\n",
    "    logger.debug(f\"loss: {l}\")\n",
    "    return l"
   ]
  },
  {
   "cell_type": "code",
   "execution_count": 11,
   "id": "c17dfcf6-4db8-4e8b-947c-6404068d991d",
   "metadata": {},
   "outputs": [],
   "source": [
    "K = 100\n",
    "losses = []\n",
    "for K in [100, 10]:\n",
    "    for alpha in [0, 1, 10]:\n",
    "        for reg in [0, 0.1, 1]:\n",
    "            losses.append((K, alpha, reg, model_loss((alpha, reg, K))))\n",
    "            print(losses[-1])"
   ]
  },
  {
   "cell_type": "code",
   "execution_count": 13,
   "id": "4866db9d-5e35-4aab-b341-3533d85ca028",
   "metadata": {},
   "outputs": [],
   "source": [
    "# [(0, 0, 7.231668),\n",
    "#  (0, 0.1, 7.1817513),\n",
    "#  (0, 1, 7.3454037),\n",
    "#  (1, 0, 7.2985926),\n",
    "#  (1, 0.1, 7.332408),\n",
    "#  (1, 1, 7.147287),\n",
    "#  (10, 0, 7.503974),\n",
    "#  (10, 0.1, 7.5582485),\n",
    "#  (10, 1, 7.4923224)]\n",
    "#losses"
   ]
  },
  {
   "cell_type": "code",
   "execution_count": 17,
   "id": "01dfe6d5-c30b-4a2a-bbe3-9e5e761f108a",
   "metadata": {},
   "outputs": [
    {
     "data": {
      "application/vnd.jupyter.widget-view+json": {
       "model_id": "378be587b80a46ba9436761df6f3b88e",
       "version_major": 2,
       "version_minor": 0
      },
      "text/plain": [
       "  0%|          | 0/15 [00:00<?, ?it/s]"
      ]
     },
     "metadata": {},
     "output_type": "display_data"
    }
   ],
   "source": [
    "a = (1, 1)\n",
    "mat = csr_matrix(\n",
    "    (1 + a[0] * training.my_score, (training.username, training.anime_id))\n",
    ")\n",
    "als_model = AlternatingLeastSquares(factors=K, regularization=a[1])\n",
    "als_model.fit(mat)"
   ]
  },
  {
   "cell_type": "markdown",
   "id": "036bdb52-f3e4-4c5b-af88-d088f8c8e3ea",
   "metadata": {},
   "source": [
    "## Save model"
   ]
  },
  {
   "cell_type": "code",
   "execution_count": 19,
   "id": "e30665f5-ea4a-477c-9635-63b84b67e235",
   "metadata": {},
   "outputs": [],
   "source": [
    "path = \"../../data/alphas/Implicit\"\n",
    "if not os.path.exists(path):\n",
    "    os.mkdir(path)"
   ]
  },
  {
   "cell_type": "code",
   "execution_count": 20,
   "id": "04db2792-2770-4307-a30d-bcb9b0aa12c4",
   "metadata": {},
   "outputs": [],
   "source": [
    "np.savetxt(\n",
    "    os.path.join(path, \"als_item_factors.csv.gz\"), als_model.item_factors, delimiter=\",\"\n",
    ")\n",
    "np.savetxt(\n",
    "    os.path.join(path, \"als_user_factors.csv.gz\"), als_model.user_factors, delimiter=\",\"\n",
    ")"
   ]
  }
 ],
 "metadata": {
  "kernelspec": {
   "display_name": "Python 3 (ipykernel)",
   "language": "python",
   "name": "python3"
  },
  "language_info": {
   "codemirror_mode": {
    "name": "ipython",
    "version": 3
   },
   "file_extension": ".py",
   "mimetype": "text/x-python",
   "name": "python",
   "nbconvert_exporter": "python",
   "pygments_lexer": "ipython3",
   "version": "3.8.10"
  }
 },
 "nbformat": 4,
 "nbformat_minor": 5
}
