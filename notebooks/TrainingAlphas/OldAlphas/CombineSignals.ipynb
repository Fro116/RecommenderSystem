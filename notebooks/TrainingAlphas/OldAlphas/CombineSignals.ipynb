{
 "cells": [
  {
   "cell_type": "code",
   "execution_count": 1,
   "id": "79559bef-810a-402f-ad21-52092ec933f4",
   "metadata": {},
   "outputs": [],
   "source": [
    "name = \"CombineSignals\"\n",
    "residual_alphas = [];"
   ]
  },
  {
   "cell_type": "code",
   "execution_count": 2,
   "id": "3779f4da-b021-4fff-bbd6-5f797d26a06a",
   "metadata": {},
   "outputs": [],
   "source": [
    "using Random\n",
    "import XGBoost"
   ]
  },
  {
   "cell_type": "code",
   "execution_count": 3,
   "id": "69b5a19a-24f5-4730-afe2-f451d27d18e3",
   "metadata": {},
   "outputs": [],
   "source": [
    "using NBInclude\n",
    "@nbinclude(\"Alpha.ipynb\");"
   ]
  },
  {
   "cell_type": "code",
   "execution_count": 4,
   "id": "5b499c9d-91fd-45bd-a632-592bb8a685e5",
   "metadata": {},
   "outputs": [],
   "source": [
    "@nbinclude(\"XGBoostFeatures.ipynb\");"
   ]
  },
  {
   "cell_type": "markdown",
   "id": "aa36180e-ce49-4387-8e37-de289d51a3da",
   "metadata": {},
   "source": [
    "## Train a linear model"
   ]
  },
  {
   "cell_type": "code",
   "execution_count": 57,
   "id": "734760ec-e7d2-41b0-b50e-4bc2fafa7492",
   "metadata": {},
   "outputs": [
    {
     "data": {
      "text/plain": [
       "21-element Vector{String}:\n",
       " \"UserItemBiases\"\n",
       " \"GNN.1\"\n",
       " \"ItemCF.Resid.GNN.1.256\"\n",
       " \"MatrixFactorization.10\"\n",
       " \"MatrixFactorization.20\"\n",
       " \"MatrixFactorization.40\"\n",
       " \"ItemCF.16\"\n",
       " \"ItemCF.64\"\n",
       " \"ItemCF.256\"\n",
       " \"ItemCF.1024\"\n",
       " \"ItemCF.4096\"\n",
       " \"ItemCF.Resid.ItemCF.1.256\"\n",
       " \"ItemCF.Resid.MF.1.256\"\n",
       " \"GNN.1.Implicit\"\n",
       " \"ItemCF.Resid.All.2.256\"\n",
       " \"UserCF.256\"\n",
       " \"ItemCF.Related.strict_relations\"\n",
       " \"GNN2.1\"\n",
       " \"GNN3.1\"\n",
       " \"GNN.Rating.1\"\n",
       " \"GNN.Rating.2\""
      ]
     },
     "execution_count": 57,
     "metadata": {},
     "output_type": "execute_result"
    }
   ],
   "source": [
    "alphas = [\n",
    "    # Main signals\n",
    "    [\"UserItemBiases\"]                                 # 1.3181877506606918\n",
    "    [\"GNN.$K\" for K = 1:1]                             # 1.1906560031606823\n",
    "    [\"ItemCF.Resid.$alpha.1.256\" for alpha in [\"GNN\"]] # 1.132600635774328\n",
    "    [\"MatrixFactorization.$K\" for K in [10, 20, 40]]   # 1.1272808153857012\n",
    "    # # Tier 2 signals ( under 10 bps)\n",
    "    [\"ItemCF.$K\" for K in [2^4, 2^6, 2^8, 2^10, 2^12]] # 1.1265994352956394  \n",
    "    [\"ItemCF.Resid.$K.1.256\" for K in [\"ItemCF\"]]      # 1.1257626649698071   \n",
    "    [\"ItemCF.Resid.$K.1.256\" for K in [\"MF\"]]          # 1.1253543890469837\n",
    "    [\"GNN.$K.Implicit\" for K = 1:1]                    # 1.1248293474603284\n",
    "    [\"ItemCF.Resid.All.2.256\"]                         # 1.124193298929656\n",
    "    [\"UserCF.$K\" for K in [256]] # 1 bps               # 1.1241038049699092\n",
    "    # # Tier 3 signals\n",
    "    [\"ItemCF.Related.strict_relations\"] # 0 bps\n",
    "    # # Experimental Signals\n",
    "    [\"GNN2.$K\" for K = 1:1]                            # 1.122060394525166\n",
    "    [\"GNN3.$K\" for K = 1:1]                            # 1.1217360476653944\n",
    "    [\"GNN.Rating.$K\" for K = 1:2]                      # 1.1208090298543265\n",
    "]"
   ]
  },
  {
   "cell_type": "code",
   "execution_count": 58,
   "id": "bfdafacf-3939-4348-adbb-956df1c509a7",
   "metadata": {},
   "outputs": [
    {
     "name": "stderr",
     "output_type": "stream",
     "text": [
      "\u001b[32mProgress: 100%|█████████████████████████████████████████| Time: 0:00:10\u001b[39m\n"
     ]
    },
    {
     "data": {
      "text/plain": [
       "21-element Vector{Float64}:\n",
       "  0.994355089739851\n",
       "  0.33883046399153754\n",
       "  0.565401029934941\n",
       "  0.0960868288926458\n",
       "  0.02943074028042504\n",
       "  0.04781073429226963\n",
       " -0.015649582313815913\n",
       "  0.07606887896327719\n",
       " -0.007668759740711459\n",
       " -0.13376886809440539\n",
       "  0.2192141727643943\n",
       "  0.6744092468971044\n",
       "  0.3149980474144776\n",
       "  7.619386708064723\n",
       "  0.14356710544974838\n",
       "  0.0652708925548949\n",
       " -0.014829387573519467\n",
       "  0.12179693149107637\n",
       "  0.04123801886845221\n",
       "  0.13587008224171196\n",
       "  0.1239648759875794"
      ]
     },
     "execution_count": 58,
     "metadata": {},
     "output_type": "execute_result"
    }
   ],
   "source": [
    "β = get_indep(\"validation\", alphas) \\ get_dep(\"validation\")"
   ]
  },
  {
   "cell_type": "code",
   "execution_count": 59,
   "id": "aeb58470-65ed-4227-806d-e4e85a0b0a47",
   "metadata": {
    "tags": []
   },
   "outputs": [],
   "source": [
    "function evaluate(X, y, β)\n",
    "    y_pred = X * β\n",
    "    y_pred = clamp.(y_pred, 1, 10)\n",
    "    rmse(y, y_pred), mae(y, y_pred), r2(y, y_pred), mse(y, y_pred)\n",
    "end;"
   ]
  },
  {
   "cell_type": "code",
   "execution_count": 60,
   "id": "b032e0b3-ab36-4222-a41c-f0e0c6099abf",
   "metadata": {},
   "outputs": [
    {
     "name": "stderr",
     "output_type": "stream",
     "text": [
      "\u001b[32mProgress: 100%|█████████████████████████████████████████| Time: 0:00:00\u001b[39m\n"
     ]
    },
    {
     "data": {
      "text/plain": [
       "(1.119792853800615, 0.8052825054532469, 0.5747782057793128, 1.2539360354229256)"
      ]
     },
     "execution_count": 60,
     "metadata": {},
     "output_type": "execute_result"
    }
   ],
   "source": [
    "evaluate(get_indep(\"validation\", alphas), get_dep(\"validation\"), β)"
   ]
  },
  {
   "cell_type": "code",
   "execution_count": 61,
   "id": "ab934309-5b2a-47ab-9506-43c59ee7ea23",
   "metadata": {},
   "outputs": [
    {
     "name": "stderr",
     "output_type": "stream",
     "text": [
      "\u001b[32mProgress: 100%|█████████████████████████████████████████| Time: 0:00:10\u001b[39m\n"
     ]
    },
    {
     "data": {
      "text/plain": [
       "(1.1206490135973346, 0.8056428025840172, 0.5743141002704348, 1.255854211676679)"
      ]
     },
     "execution_count": 61,
     "metadata": {},
     "output_type": "execute_result"
    }
   ],
   "source": [
    "evaluate(get_indep(\"test\", alphas), get_dep(\"test\"), β)"
   ]
  },
  {
   "cell_type": "code",
   "execution_count": 56,
   "id": "b1460e68-9a4c-4d40-a642-53f0210835d8",
   "metadata": {},
   "outputs": [
    {
     "data": {
      "text/plain": [
       "0.9990663305496404"
      ]
     },
     "execution_count": 56,
     "metadata": {},
     "output_type": "execute_result"
    }
   ],
   "source": [
    "1.1791349318111632 / 1.1802368829329453"
   ]
  },
  {
   "cell_type": "code",
   "execution_count": 50,
   "id": "6ebd1ff2-e8d4-421b-a62c-66dfecc6a870",
   "metadata": {},
   "outputs": [
    {
     "data": {
      "text/plain": [
       "0.9998508832212014"
      ]
     },
     "execution_count": 50,
     "metadata": {},
     "output_type": "execute_result"
    }
   ],
   "source": [
    "1.1208090298543265 / 1.1209761862123244"
   ]
  },
  {
   "cell_type": "code",
   "execution_count": 12,
   "id": "c8847256-57a7-494e-b3ac-9d86bc23d9cc",
   "metadata": {},
   "outputs": [],
   "source": [
    "# SOTA: 1.1209761862123244"
   ]
  },
  {
   "cell_type": "code",
   "execution_count": 13,
   "id": "79238904-071d-409c-8136-f8f42b381826",
   "metadata": {},
   "outputs": [],
   "source": [
    "# OLD RESULTS: 1.0865915182160761 "
   ]
  },
  {
   "cell_type": "markdown",
   "id": "0859f0de-2e2c-4ef1-a6e5-26f1425e0aea",
   "metadata": {},
   "source": [
    "## Train an XGBoost model"
   ]
  },
  {
   "cell_type": "code",
   "execution_count": 14,
   "id": "6cd96824-82ef-4225-8e75-f0650d439528",
   "metadata": {},
   "outputs": [],
   "source": [
    "function get_xgboost_split(split, training_perc, Y, extra_features)\n",
    "    Random.seed!(20220104)\n",
    "    val_rows = length(get_dep(split))\n",
    "    val_shuffle = shuffle(1:val_rows)\n",
    "    val_train_size = Int(round(val_rows * training_perc))\n",
    "    features = get_augmented_indep(split, alphas, β)\n",
    "    if !isnothing(extra_features)\n",
    "        features = hcat(features, extra_features)\n",
    "    end\n",
    "    X = convert.(Float32, features)\n",
    "    X_val_train = X[val_shuffle[1:val_train_size], :]\n",
    "    Y_val_train = Y[val_shuffle[1:val_train_size]]\n",
    "    X_val_test = X[val_shuffle[val_train_size+1:end], :]\n",
    "    Y_val_test = Y[val_shuffle[val_train_size+1:end]]\n",
    "    (\n",
    "        XGBoost.DMatrix(X_val_train, label = Y_val_train),\n",
    "        XGBoost.DMatrix(X_val_test, label = Y_val_test),\n",
    "    )\n",
    "end;"
   ]
  },
  {
   "cell_type": "code",
   "execution_count": 15,
   "id": "ea202762-ec96-49bc-bf1a-493ee9018746",
   "metadata": {},
   "outputs": [],
   "source": [
    "function get_xgboost_dep(split)\n",
    "    convert.(Float32, get_dep(split) - get_indep(split, alphas) * β)\n",
    "end\n",
    "\n",
    "function train_model(split, Y, extra_features = nothing)\n",
    "    # TODO early stopping\n",
    "    training_split_perc = 0.9\n",
    "    dtrain, dtest = get_xgboost_split(split, training_split_perc, Y, extra_features)\n",
    "    watchlist =\n",
    "        training_split_perc == 1 ? [(dtrain, \"train\")] :\n",
    "        [(dtrain, \"train\"), (dtest, \"test\")]\n",
    "    XGBoost.xgboost(\n",
    "        dtrain,\n",
    "        100,\n",
    "        watchlist = watchlist,\n",
    "        objective = \"reg:squarederror\",\n",
    "        nthread = Threads.nthreads(),\n",
    "    )\n",
    "end;"
   ]
  },
  {
   "cell_type": "code",
   "execution_count": 16,
   "id": "5c31abce-ab2b-4070-b033-54c0dd98f86f",
   "metadata": {},
   "outputs": [],
   "source": [
    "function evaluate(bst)\n",
    "    X_test = convert.(Float32, get_augmented_indep(\"test\", alphas, β))\n",
    "    Y_test = convert.(Float32, get_dep(\"test\"))\n",
    "    xgboost_preds = XGBoost.predict(bst, X_test)\n",
    "    preds = get_indep(\"test\", alphas) * β + xgboost_preds\n",
    "    rmse(Y_test, clamp.(preds, 1, 10)),\n",
    "    mae(Y_test, clamp.(preds, 1, 10)),\n",
    "    mean(abs.(xgboost_preds))\n",
    "end;"
   ]
  },
  {
   "cell_type": "code",
   "execution_count": 17,
   "id": "e45466cb-45f2-442c-ac96-2d6a026787da",
   "metadata": {
    "tags": []
   },
   "outputs": [
    {
     "name": "stderr",
     "output_type": "stream",
     "text": [
      "\u001b[32mProgress: 100%|█████████████████████████████████████████| Time: 0:00:01\u001b[39m\n",
      "\u001b[32mProgress: 100%|█████████████████████████████████████████| Time: 0:00:01\u001b[39m\n",
      "\u001b[32mProgress: 100%|█████████████████████████████████████████| Time: 0:00:00\u001b[39m\n",
      "\u001b[32mProgress: 100%|███████████████████████████| Time: 0:00:04 ( 0.46 μs/it)\u001b[39m/it)\u001b[39m\n",
      "\u001b[32mProgress: 100%|███████████████████████████| Time: 0:00:03 ( 0.40 μs/it)\u001b[39m\n",
      "\u001b[32mProgress: 100%|███████████████████████████| Time: 0:00:08 ( 0.87 μs/it)\u001b[39m\n",
      "\u001b[32mProgress: 100%|███████████████████████████| Time: 0:00:00 (96.18 μs/it)\u001b[39m\n",
      "\u001b[32mProgress: 100%|███████████████████████████| Time: 0:00:08 ( 0.84 μs/it)\u001b[39m\n",
      "\u001b[32mProgress: 100%|███████████████████████████| Time: 0:00:00 ( 1.28 μs/it)\u001b[39m\n",
      "\u001b[32mProgress: 100%|███████████████████████████| Time: 0:00:08 ( 0.86 μs/it)\u001b[39m\n",
      "\u001b[32mProgress: 100%|███████████████████████████| Time: 0:00:00 (85.53 μs/it)\u001b[39m\n",
      "\u001b[32mProgress: 100%|███████████████████████████| Time: 0:00:08 ( 0.86 μs/it)\u001b[39m\n",
      "\u001b[32mProgress: 100%|███████████████████████████| Time: 0:00:00 ( 1.49 μs/it)\u001b[39m\n",
      "\u001b[32mProgress: 100%|███████████████████████████| Time: 0:00:00 ( 1.27 μs/it)\u001b[39m\n",
      "\u001b[32mProgress: 100%|███████████████████████████| Time: 0:00:00 ( 1.06 μs/it)\u001b[39m\n",
      "\u001b[38;5;4m\u001b[1m[ \u001b[22m\u001b[39m\u001b[38;5;4m\u001b[1mDebug: \u001b[22m\u001b[39m20220402 02:24:55 nsfw categories: String7[\"gray\", \"white\"]\n",
      "\u001b[32mProgress: 100%|███████████████████████████| Time: 0:00:01 ( 2.02 μs/it)\u001b[39mm\n",
      "\u001b[38;5;4m\u001b[1m[ \u001b[22m\u001b[39m\u001b[38;5;4m\u001b[1mDebug: \u001b[22m\u001b[39m20220402 02:24:57 medium categories: String7[\"movie\", \"music\", \"ona\", \"ova\", \"special\", \"tv\", \"unknown\"]\n",
      "\u001b[32mProgress: 100%|███████████████████████████| Time: 0:00:00 ( 1.23 μs/it)\u001b[39m\n",
      "\u001b[32mProgress: 100%|███████████████████████████| Time: 0:00:00 ( 1.06 μs/it)\u001b[39m\n",
      "\u001b[38;5;4m\u001b[1m[ \u001b[22m\u001b[39m\u001b[38;5;4m\u001b[1mDebug: \u001b[22m\u001b[39m20220402 02:25:00 source categories: String15[\"4_koma_manga\", \"book\", \"card_game\", \"digital_manga\", \"game\", \"light_novel\", \"manga\", \"mixed_media\", \"music\", \"novel\", \"original\", \"other\", \"picture_book\", \"radio\", \"visual_novel\", \"web_manga\", \"web_novel\"]\n",
      "\u001b[32mProgress: 100%|███████████████████████████| Time: 0:00:00 ( 1.80 μs/it)\u001b[39mm\n",
      "\u001b[32mProgress: 100%|███████████████████████████| Time: 0:00:00 ( 0.97 μs/it)\u001b[39m\n",
      "\u001b[38;5;4m\u001b[1m[ \u001b[22m\u001b[39m\u001b[38;5;4m\u001b[1mDebug: \u001b[22m\u001b[39m20220402 02:25:04 start_year categories: [1915.0, 1920.0, 1925.0, 1930.0, 1935.0, 1940.0, 1945.0, 1950.0, 1955.0, 1960.0, 1965.0, 1970.0, 1975.0, 1980.0, 1985.0, 1990.0, 1995.0, 2000.0, 2005.0, 2010.0, 2015.0, 2020.0, 2025.0]\n",
      "\u001b[32mProgress: 100%|███████████████████████████| Time: 0:00:09 ( 0.98 μs/it)\u001b[39m\n",
      "\u001b[32mProgress: 100%|███████████████████████████| Time: 0:00:01 ( 2.04 μs/it)\u001b[39m\n",
      "\u001b[38;5;4m\u001b[1m[ \u001b[22m\u001b[39m\u001b[38;5;4m\u001b[1mDebug: \u001b[22m\u001b[39m20220402 02:25:19 end_year categories: [1915.0, 1920.0, 1925.0, 1930.0, 1935.0, 1940.0, 1945.0, 1950.0, 1955.0, 1960.0, 1965.0, 1970.0, 1975.0, 1980.0, 1985.0, 1990.0, 1995.0, 2000.0, 2005.0, 2010.0, 2015.0, 2020.0, 2025.0]\n",
      "\u001b[32mProgress: 100%|███████████████████████████| Time: 0:00:09 ( 0.96 μs/it)\u001b[39m\n",
      "\u001b[32mProgress: 100%|███████████████████████████| Time: 0:00:00 ( 1.97 μs/it)\u001b[39m\n",
      "\u001b[38;5;4m\u001b[1m[ \u001b[22m\u001b[39m\u001b[38;5;4m\u001b[1mDebug: \u001b[22m\u001b[39m20220402 02:25:33 nsfw categories: String7[\"gray\", \"white\"]\n",
      "\u001b[32mProgress: 100%|███████████████████████████| Time: 0:00:09 ( 0.96 μs/it)\u001b[39m\n",
      "\u001b[32mProgress: 100%|███████████████████████████| Time: 0:00:00 ( 1.56 μs/it)\u001b[39m\n",
      "\u001b[38;5;4m\u001b[1m[ \u001b[22m\u001b[39m\u001b[38;5;4m\u001b[1mDebug: \u001b[22m\u001b[39m20220402 02:25:46 medium categories: String7[\"movie\", \"music\", \"ona\", \"ova\", \"special\", \"tv\", \"unknown\"]\n",
      "\u001b[32mProgress: 100%|███████████████████████████| Time: 0:00:08 ( 0.94 μs/it)\u001b[39m\n",
      "\u001b[32mProgress: 100%|███████████████████████████| Time: 0:00:00 ( 1.61 μs/it)\u001b[39m\n",
      "\u001b[38;5;4m\u001b[1m[ \u001b[22m\u001b[39m\u001b[38;5;4m\u001b[1mDebug: \u001b[22m\u001b[39m20220402 02:26:00 num_episodes categories: [0.0, 1.0, 2.0, 3.0, 4.0, 5.0, 6.0, 13.0, 26.0, 52.0, 100.0]\n",
      "\u001b[32mProgress: 100%|███████████████████████████| Time: 0:00:09 ( 0.95 μs/it)\u001b[39m\n",
      "\u001b[32mProgress: 100%|███████████████████████████| Time: 0:00:00 ( 1.70 μs/it)\u001b[39m\n",
      "\u001b[38;5;4m\u001b[1m[ \u001b[22m\u001b[39m\u001b[38;5;4m\u001b[1mDebug: \u001b[22m\u001b[39m20220402 02:26:13 source categories: String15[\"4_koma_manga\", \"book\", \"card_game\", \"digital_manga\", \"game\", \"light_novel\", \"manga\", \"mixed_media\", \"music\", \"novel\", \"original\", \"other\", \"picture_book\", \"radio\", \"visual_novel\", \"web_manga\", \"web_novel\"]\n",
      "\u001b[32mProgress: 100%|███████████████████████████| Time: 0:00:09 ( 0.98 μs/it)\u001b[39m\n",
      "\u001b[32mProgress: 100%|███████████████████████████| Time: 0:00:00 ( 1.91 μs/it)\u001b[39m\n",
      "\u001b[38;5;4m\u001b[1m[ \u001b[22m\u001b[39m\u001b[38;5;4m\u001b[1mDebug: \u001b[22m\u001b[39m20220402 02:26:28 average_episode_duration categories: [0.0, 600.0, 1200.0, 1800.0, 3600.0, 5400.0, 7200.0, 9000.0, 10800.0]\n",
      "\u001b[32mProgress: 100%|███████████████████████████| Time: 0:00:08 ( 0.93 μs/it)\u001b[39m\n",
      "\u001b[32mProgress: 100%|███████████████████████████| Time: 0:00:00 ( 1.65 μs/it)\u001b[39m\n",
      "[1]\ttrain-rmse:1.171905\ttest-rmse:1.173336\n",
      "[2]\ttrain-rmse:1.144062\ttest-rmse:1.145567\n",
      "[3]\ttrain-rmse:1.129987\ttest-rmse:1.131556\n",
      "[4]\ttrain-rmse:1.122954\ttest-rmse:1.124545\n",
      "[5]\ttrain-rmse:1.119282\ttest-rmse:1.120907\n",
      "[6]\ttrain-rmse:1.117361\ttest-rmse:1.118999\n",
      "[7]\ttrain-rmse:1.116255\ttest-rmse:1.117951\n",
      "[8]\ttrain-rmse:1.115538\ttest-rmse:1.117282\n",
      "[9]\ttrain-rmse:1.115046\ttest-rmse:1.116807\n",
      "[10]\ttrain-rmse:1.114822\ttest-rmse:1.116592\n",
      "[11]\ttrain-rmse:1.114580\ttest-rmse:1.116395\n",
      "[12]\ttrain-rmse:1.114342\ttest-rmse:1.116188\n",
      "[13]\ttrain-rmse:1.114136\ttest-rmse:1.116008\n",
      "[14]\ttrain-rmse:1.113914\ttest-rmse:1.115819\n",
      "[15]\ttrain-rmse:1.113604\ttest-rmse:1.115531\n",
      "[16]\ttrain-rmse:1.113385\ttest-rmse:1.115351\n",
      "[17]\ttrain-rmse:1.113195\ttest-rmse:1.115180\n",
      "[18]\ttrain-rmse:1.113076\ttest-rmse:1.115071\n",
      "[19]\ttrain-rmse:1.112941\ttest-rmse:1.114972\n",
      "[20]\ttrain-rmse:1.112780\ttest-rmse:1.114836\n",
      "[21]\ttrain-rmse:1.112618\ttest-rmse:1.114728\n",
      "[22]\ttrain-rmse:1.112454\ttest-rmse:1.114582\n",
      "[23]\ttrain-rmse:1.112355\ttest-rmse:1.114506\n",
      "[24]\ttrain-rmse:1.112259\ttest-rmse:1.114454\n",
      "[25]\ttrain-rmse:1.112095\ttest-rmse:1.114318\n",
      "[26]\ttrain-rmse:1.112007\ttest-rmse:1.114282\n",
      "[27]\ttrain-rmse:1.111855\ttest-rmse:1.114153\n",
      "[28]\ttrain-rmse:1.111747\ttest-rmse:1.114071\n",
      "[29]\ttrain-rmse:1.111575\ttest-rmse:1.113938\n",
      "[30]\ttrain-rmse:1.111454\ttest-rmse:1.113853\n",
      "[31]\ttrain-rmse:1.111368\ttest-rmse:1.113832\n",
      "[32]\ttrain-rmse:1.111278\ttest-rmse:1.113787\n",
      "[33]\ttrain-rmse:1.111191\ttest-rmse:1.113744\n",
      "[34]\ttrain-rmse:1.111065\ttest-rmse:1.113672\n",
      "[35]\ttrain-rmse:1.110946\ttest-rmse:1.113600\n",
      "[36]\ttrain-rmse:1.110869\ttest-rmse:1.113549\n",
      "[37]\ttrain-rmse:1.110747\ttest-rmse:1.113434\n",
      "[38]\ttrain-rmse:1.110589\ttest-rmse:1.113296\n",
      "[39]\ttrain-rmse:1.110476\ttest-rmse:1.113218\n",
      "[40]\ttrain-rmse:1.110371\ttest-rmse:1.113132\n",
      "[41]\ttrain-rmse:1.110301\ttest-rmse:1.113110\n",
      "[42]\ttrain-rmse:1.110226\ttest-rmse:1.113080\n",
      "[43]\ttrain-rmse:1.110160\ttest-rmse:1.113039\n",
      "[44]\ttrain-rmse:1.110062\ttest-rmse:1.112974\n",
      "[45]\ttrain-rmse:1.109985\ttest-rmse:1.112943\n",
      "[46]\ttrain-rmse:1.109918\ttest-rmse:1.112947\n",
      "[47]\ttrain-rmse:1.109840\ttest-rmse:1.112906\n",
      "[48]\ttrain-rmse:1.109758\ttest-rmse:1.112870\n",
      "[49]\ttrain-rmse:1.109699\ttest-rmse:1.112855\n",
      "[50]\ttrain-rmse:1.109614\ttest-rmse:1.112809\n",
      "[51]\ttrain-rmse:1.109517\ttest-rmse:1.112781\n",
      "[52]\ttrain-rmse:1.109438\ttest-rmse:1.112741\n",
      "[53]\ttrain-rmse:1.109350\ttest-rmse:1.112701\n",
      "[54]\ttrain-rmse:1.109263\ttest-rmse:1.112671\n",
      "[55]\ttrain-rmse:1.109233\ttest-rmse:1.112662\n",
      "[56]\ttrain-rmse:1.109198\ttest-rmse:1.112660\n",
      "[57]\ttrain-rmse:1.109130\ttest-rmse:1.112624\n",
      "[58]\ttrain-rmse:1.109060\ttest-rmse:1.112616\n",
      "[59]\ttrain-rmse:1.108977\ttest-rmse:1.112574\n",
      "[60]\ttrain-rmse:1.108890\ttest-rmse:1.112548\n",
      "[61]\ttrain-rmse:1.108830\ttest-rmse:1.112527\n",
      "[62]\ttrain-rmse:1.108754\ttest-rmse:1.112505\n",
      "[63]\ttrain-rmse:1.108684\ttest-rmse:1.112472\n",
      "[64]\ttrain-rmse:1.108647\ttest-rmse:1.112473\n",
      "[65]\ttrain-rmse:1.108598\ttest-rmse:1.112438\n",
      "[66]\ttrain-rmse:1.108552\ttest-rmse:1.112415\n",
      "[67]\ttrain-rmse:1.108464\ttest-rmse:1.112361\n",
      "[68]\ttrain-rmse:1.108382\ttest-rmse:1.112308\n",
      "[69]\ttrain-rmse:1.108303\ttest-rmse:1.112271\n",
      "[70]\ttrain-rmse:1.108210\ttest-rmse:1.112189\n",
      "[71]\ttrain-rmse:1.108159\ttest-rmse:1.112189\n",
      "[72]\ttrain-rmse:1.108110\ttest-rmse:1.112175\n",
      "[73]\ttrain-rmse:1.108057\ttest-rmse:1.112158\n",
      "[74]\ttrain-rmse:1.108003\ttest-rmse:1.112128\n",
      "[75]\ttrain-rmse:1.107958\ttest-rmse:1.112112\n",
      "[76]\ttrain-rmse:1.107882\ttest-rmse:1.112086\n",
      "[77]\ttrain-rmse:1.107810\ttest-rmse:1.112053\n",
      "[78]\ttrain-rmse:1.107747\ttest-rmse:1.112061\n",
      "[79]\ttrain-rmse:1.107678\ttest-rmse:1.112049\n",
      "[80]\ttrain-rmse:1.107639\ttest-rmse:1.112020\n",
      "[81]\ttrain-rmse:1.107565\ttest-rmse:1.111993\n",
      "[82]\ttrain-rmse:1.107514\ttest-rmse:1.111987\n",
      "[83]\ttrain-rmse:1.107448\ttest-rmse:1.111955\n",
      "[84]\ttrain-rmse:1.107404\ttest-rmse:1.111927\n",
      "[85]\ttrain-rmse:1.107348\ttest-rmse:1.111922\n",
      "[86]\ttrain-rmse:1.107282\ttest-rmse:1.111899\n",
      "[87]\ttrain-rmse:1.107218\ttest-rmse:1.111850\n",
      "[88]\ttrain-rmse:1.107163\ttest-rmse:1.111822\n",
      "[89]\ttrain-rmse:1.107091\ttest-rmse:1.111819\n",
      "[90]\ttrain-rmse:1.107028\ttest-rmse:1.111790\n",
      "[91]\ttrain-rmse:1.106991\ttest-rmse:1.111787\n",
      "[92]\ttrain-rmse:1.106955\ttest-rmse:1.111776\n",
      "[93]\ttrain-rmse:1.106905\ttest-rmse:1.111741\n",
      "[94]\ttrain-rmse:1.106857\ttest-rmse:1.111732\n",
      "[95]\ttrain-rmse:1.106812\ttest-rmse:1.111740\n",
      "[96]\ttrain-rmse:1.106768\ttest-rmse:1.111712\n",
      "[97]\ttrain-rmse:1.106727\ttest-rmse:1.111696\n",
      "[98]\ttrain-rmse:1.106669\ttest-rmse:1.111679\n",
      "[99]\ttrain-rmse:1.106609\ttest-rmse:1.111645\n",
      "[100]\ttrain-rmse:1.106539\ttest-rmse:1.111610\n"
     ]
    }
   ],
   "source": [
    "bst = train_model(\"validation\", get_xgboost_dep(\"validation\"));"
   ]
  },
  {
   "cell_type": "code",
   "execution_count": 18,
   "id": "e0d1e29b-9f9a-4ad2-b72a-077d1fbc219e",
   "metadata": {},
   "outputs": [],
   "source": [
    "# SOTA: [100]\ttrain-rmse:1.110816\ttest-rmse:1.116032"
   ]
  },
  {
   "cell_type": "code",
   "execution_count": 19,
   "id": "ebda1ed5-56fb-410c-a9e2-9d4d446780a7",
   "metadata": {
    "tags": []
   },
   "outputs": [
    {
     "name": "stderr",
     "output_type": "stream",
     "text": [
      "\u001b[32mProgress: 100%|█████████████████████████████████████████| Time: 0:00:01\u001b[39m\n",
      "\u001b[32mProgress: 100%|█████████████████████████████████████████| Time: 0:00:00\u001b[39m\n",
      "\u001b[32mProgress: 100%|███████████████████████████| Time: 0:00:04 ( 0.43 μs/it)\u001b[39m\n",
      "\u001b[32mProgress: 100%|███████████████████████████| Time: 0:00:03 ( 0.38 μs/it)\u001b[39m\n",
      "\u001b[32mProgress: 100%|███████████████████████████| Time: 0:00:08 ( 0.85 μs/it)\u001b[39m\n",
      "\u001b[32mProgress: 100%|███████████████████████████| Time: 0:00:08 ( 0.84 μs/it)\u001b[39m\n",
      "\u001b[32mProgress: 100%|███████████████████████████| Time: 0:00:07 ( 0.83 μs/it)\u001b[39m\n",
      "\u001b[32mProgress: 100%|███████████████████████████| Time: 0:00:08 ( 0.87 μs/it)\u001b[39m\n",
      "\u001b[32mProgress: 100%|███████████████████████████| Time: 0:00:00 ( 1.74 μs/it)\u001b[39m\n",
      "\u001b[32mProgress: 100%|███████████████████████████| Time: 0:00:00 ( 1.61 μs/it)\u001b[39m\n",
      "\u001b[38;5;4m\u001b[1m[ \u001b[22m\u001b[39m\u001b[38;5;4m\u001b[1mDebug: \u001b[22m\u001b[39m20220402 02:38:32 nsfw categories: String7[\"gray\", \"white\"]\n",
      "\u001b[32mProgress: 100%|███████████████████████████| Time: 0:00:00 ( 1.16 μs/it)\u001b[39m\n",
      "\u001b[38;5;4m\u001b[1m[ \u001b[22m\u001b[39m\u001b[38;5;4m\u001b[1mDebug: \u001b[22m\u001b[39m20220402 02:38:34 medium categories: String7[\"movie\", \"music\", \"ona\", \"ova\", \"special\", \"tv\", \"unknown\"]\n",
      "\u001b[32mProgress: 100%|███████████████████████████| Time: 0:00:00 ( 1.20 μs/it)\u001b[39m\n",
      "\u001b[32mProgress: 100%|███████████████████████████| Time: 0:00:00 ( 0.97 μs/it)\u001b[39m\n",
      "\u001b[38;5;4m\u001b[1m[ \u001b[22m\u001b[39m\u001b[38;5;4m\u001b[1mDebug: \u001b[22m\u001b[39m20220402 02:38:36 source categories: String15[\"4_koma_manga\", \"book\", \"card_game\", \"digital_manga\", \"game\", \"light_novel\", \"manga\", \"mixed_media\", \"music\", \"novel\", \"original\", \"other\", \"picture_book\", \"radio\", \"visual_novel\", \"web_manga\", \"web_novel\"]\n",
      "\u001b[32mProgress: 100%|███████████████████████████| Time: 0:00:00 ( 1.22 μs/it)\u001b[39m\n",
      "\u001b[32mProgress: 100%|███████████████████████████| Time: 0:00:00 ( 0.97 μs/it)\u001b[39m\n",
      "\u001b[38;5;4m\u001b[1m[ \u001b[22m\u001b[39m\u001b[38;5;4m\u001b[1mDebug: \u001b[22m\u001b[39m20220402 02:38:38 start_year categories: [1915.0, 1920.0, 1925.0, 1930.0, 1935.0, 1940.0, 1945.0, 1950.0, 1955.0, 1960.0, 1965.0, 1970.0, 1975.0, 1980.0, 1985.0, 1990.0, 1995.0, 2000.0, 2005.0, 2010.0, 2015.0, 2020.0, 2025.0]\n",
      "\u001b[32mProgress: 100%|███████████████████████████| Time: 0:00:09 ( 0.95 μs/it)\u001b[39m\n",
      "\u001b[32mProgress: 100%|███████████████████████████| Time: 0:00:00 ( 1.96 μs/it)\u001b[39m\n",
      "\u001b[38;5;4m\u001b[1m[ \u001b[22m\u001b[39m\u001b[38;5;4m\u001b[1mDebug: \u001b[22m\u001b[39m20220402 02:38:53 end_year categories: [1915.0, 1920.0, 1925.0, 1930.0, 1935.0, 1940.0, 1945.0, 1950.0, 1955.0, 1960.0, 1965.0, 1970.0, 1975.0, 1980.0, 1985.0, 1990.0, 1995.0, 2000.0, 2005.0, 2010.0, 2015.0, 2020.0, 2025.0]\n",
      "\u001b[32mProgress: 100%|███████████████████████████| Time: 0:00:09 ( 0.95 μs/it)\u001b[39m\n",
      "\u001b[32mProgress: 100%|███████████████████████████| Time: 0:00:00 ( 1.95 μs/it)\u001b[39m\n",
      "\u001b[38;5;4m\u001b[1m[ \u001b[22m\u001b[39m\u001b[38;5;4m\u001b[1mDebug: \u001b[22m\u001b[39m20220402 02:39:07 nsfw categories: String7[\"gray\", \"white\"]\n",
      "\u001b[32mProgress: 100%|███████████████████████████| Time: 0:00:09 ( 0.94 μs/it)\u001b[39m\n",
      "\u001b[32mProgress: 100%|███████████████████████████| Time: 0:00:00 ( 1.43 μs/it)\u001b[39m\n",
      "\u001b[38;5;4m\u001b[1m[ \u001b[22m\u001b[39m\u001b[38;5;4m\u001b[1mDebug: \u001b[22m\u001b[39m20220402 02:39:20 medium categories: String7[\"movie\", \"music\", \"ona\", \"ova\", \"special\", \"tv\", \"unknown\"]\n",
      "\u001b[32mProgress: 100%|███████████████████████████| Time: 0:00:08 ( 0.94 μs/it)\u001b[39m\n",
      "\u001b[32mProgress: 100%|███████████████████████████| Time: 0:00:00 ( 1.62 μs/it)\u001b[39m\n",
      "\u001b[38;5;4m\u001b[1m[ \u001b[22m\u001b[39m\u001b[38;5;4m\u001b[1mDebug: \u001b[22m\u001b[39m20220402 02:39:33 num_episodes categories: [0.0, 1.0, 2.0, 3.0, 4.0, 5.0, 6.0, 13.0, 26.0, 52.0, 100.0]\n",
      "\u001b[32mProgress: 100%|███████████████████████████| Time: 0:00:08 ( 0.93 μs/it)\u001b[39m\n",
      "\u001b[32mProgress: 100%|███████████████████████████| Time: 0:00:00 ( 1.71 μs/it)\u001b[39m\n",
      "\u001b[38;5;4m\u001b[1m[ \u001b[22m\u001b[39m\u001b[38;5;4m\u001b[1mDebug: \u001b[22m\u001b[39m20220402 02:39:46 source categories: String15[\"4_koma_manga\", \"book\", \"card_game\", \"digital_manga\", \"game\", \"light_novel\", \"manga\", \"mixed_media\", \"music\", \"novel\", \"original\", \"other\", \"picture_book\", \"radio\", \"visual_novel\", \"web_manga\", \"web_novel\"]\n",
      "\u001b[32mProgress: 100%|███████████████████████████| Time: 0:00:09 ( 0.95 μs/it)\u001b[39m\n",
      "\u001b[32mProgress: 100%|███████████████████████████| Time: 0:00:00 ( 1.83 μs/it)\u001b[39m\n",
      "\u001b[38;5;4m\u001b[1m[ \u001b[22m\u001b[39m\u001b[38;5;4m\u001b[1mDebug: \u001b[22m\u001b[39m20220402 02:40:00 average_episode_duration categories: [0.0, 600.0, 1200.0, 1800.0, 3600.0, 5400.0, 7200.0, 9000.0, 10800.0]\n",
      "\u001b[32mProgress: 100%|███████████████████████████| Time: 0:00:08 ( 0.93 μs/it)\u001b[39m\n",
      "\u001b[32mProgress: 100%|███████████████████████████| Time: 0:00:00 ( 1.66 μs/it)\u001b[39m\n",
      "\u001b[32mProgress: 100%|█████████████████████████████████████████| Time: 0:00:01\u001b[39m\n",
      "\u001b[38;5;4m\u001b[1m[ \u001b[22m\u001b[39m\u001b[38;5;4m\u001b[1mDebug: \u001b[22m\u001b[39m20220402 02:40:33 XGBoost model test (rmse, mae, mean(abs(bst))) = (1.1112835080064754, 0.7997173869660834, 0.094115466f0)\n"
     ]
    }
   ],
   "source": [
    "@debug \"XGBoost model test (rmse, mae, mean(abs(bst))) = $(evaluate(bst))\""
   ]
  },
  {
   "cell_type": "code",
   "execution_count": 20,
   "id": "29b42ca4-078a-4bbd-8aab-d8e50a861509",
   "metadata": {},
   "outputs": [],
   "source": [
    "# SOTA: (rmse, mae, mean(abs(bst))) = (1.1112835080064754, 0.7997173869660834, 0.094115466f0)"
   ]
  },
  {
   "cell_type": "code",
   "execution_count": 21,
   "id": "26c8c072-7de2-4064-9e81-e60d92489474",
   "metadata": {},
   "outputs": [],
   "source": [
    "xgboost_model_fn = \"../../data/alphas/$name/xgb.model\"\n",
    "XGBoost.save(bst, xgboost_model_fn)"
   ]
  },
  {
   "cell_type": "markdown",
   "id": "b1ecfe37-557d-4c20-8b24-a477ef1d8048",
   "metadata": {},
   "source": [
    "## Train a model to predict confidence intervals"
   ]
  },
  {
   "cell_type": "code",
   "execution_count": 22,
   "id": "0db0abb5-64cd-4272-972e-b382f6a4e4c5",
   "metadata": {},
   "outputs": [],
   "source": [
    "xgboost_model_fn = \"../../data/alphas/$name/xgb.model\"\n",
    "bst = XGBoost.Booster(model_file = xgboost_model_fn);"
   ]
  },
  {
   "cell_type": "code",
   "execution_count": 23,
   "id": "2eb4f12d-c352-4f7c-9c5b-1aceeecc7645",
   "metadata": {},
   "outputs": [],
   "source": [
    "function get_error(bst, split)\n",
    "    X_test = convert.(Float32, get_augmented_indep(split, alphas, β))\n",
    "    Y_test = convert.(Float32, get_dep(split))\n",
    "    bst_preds = XGBoost.predict(bst, X_test)\n",
    "    preds = bst_preds + get_indep(split, alphas) * β\n",
    "    errors = abs.(Y_test - preds)\n",
    "    df = get_split(split)\n",
    "    RatingsDataset(df.user, df.item, errors), bst_preds\n",
    "end;"
   ]
  },
  {
   "cell_type": "code",
   "execution_count": 24,
   "id": "63b96bcf-cc60-4622-8e6a-c16a3ae064c7",
   "metadata": {},
   "outputs": [
    {
     "name": "stderr",
     "output_type": "stream",
     "text": [
      "\u001b[32mProgress: 100%|█████████████████████████████████████████| Time: 0:00:01\u001b[39m\n"
     ]
    }
   ],
   "source": [
    "errors, test_preds = get_error(bst, \"test\");"
   ]
  },
  {
   "cell_type": "code",
   "execution_count": 25,
   "id": "dda6cedb-c90d-4154-b642-47714ebf209e",
   "metadata": {
    "tags": []
   },
   "outputs": [
    {
     "name": "stderr",
     "output_type": "stream",
     "text": [
      "[1]\ttrain-rmse:0.783657\ttest-rmse:0.787480\n",
      "[2]\ttrain-rmse:0.760619\ttest-rmse:0.764573\n",
      "[3]\ttrain-rmse:0.748251\ttest-rmse:0.752300\n",
      "[4]\ttrain-rmse:0.741345\ttest-rmse:0.745437\n",
      "[5]\ttrain-rmse:0.737062\ttest-rmse:0.741226\n",
      "[6]\ttrain-rmse:0.734534\ttest-rmse:0.738752\n",
      "[7]\ttrain-rmse:0.732906\ttest-rmse:0.737223\n",
      "[8]\ttrain-rmse:0.731306\ttest-rmse:0.735717\n",
      "[9]\ttrain-rmse:0.730313\ttest-rmse:0.734734\n",
      "[10]\ttrain-rmse:0.729530\ttest-rmse:0.734010\n",
      "[11]\ttrain-rmse:0.728952\ttest-rmse:0.733497\n",
      "[12]\ttrain-rmse:0.728419\ttest-rmse:0.732978\n",
      "[13]\ttrain-rmse:0.727503\ttest-rmse:0.732112\n",
      "[14]\ttrain-rmse:0.727039\ttest-rmse:0.731718\n",
      "[15]\ttrain-rmse:0.726686\ttest-rmse:0.731409\n",
      "[16]\ttrain-rmse:0.726311\ttest-rmse:0.731062\n",
      "[17]\ttrain-rmse:0.725962\ttest-rmse:0.730785\n",
      "[18]\ttrain-rmse:0.725677\ttest-rmse:0.730522\n",
      "[19]\ttrain-rmse:0.725284\ttest-rmse:0.730189\n",
      "[20]\ttrain-rmse:0.724862\ttest-rmse:0.729826\n",
      "[21]\ttrain-rmse:0.724647\ttest-rmse:0.729628\n",
      "[22]\ttrain-rmse:0.724390\ttest-rmse:0.729406\n",
      "[23]\ttrain-rmse:0.724000\ttest-rmse:0.729075\n",
      "[24]\ttrain-rmse:0.723708\ttest-rmse:0.728835\n",
      "[25]\ttrain-rmse:0.723498\ttest-rmse:0.728660\n",
      "[26]\ttrain-rmse:0.723228\ttest-rmse:0.728430\n",
      "[27]\ttrain-rmse:0.723088\ttest-rmse:0.728320\n",
      "[28]\ttrain-rmse:0.722900\ttest-rmse:0.728179\n",
      "[29]\ttrain-rmse:0.722703\ttest-rmse:0.727998\n",
      "[30]\ttrain-rmse:0.722497\ttest-rmse:0.727818\n",
      "[31]\ttrain-rmse:0.722379\ttest-rmse:0.727723\n",
      "[32]\ttrain-rmse:0.722257\ttest-rmse:0.727617\n",
      "[33]\ttrain-rmse:0.722062\ttest-rmse:0.727445\n",
      "[34]\ttrain-rmse:0.721924\ttest-rmse:0.727340\n",
      "[35]\ttrain-rmse:0.721801\ttest-rmse:0.727233\n",
      "[36]\ttrain-rmse:0.721547\ttest-rmse:0.727014\n",
      "[37]\ttrain-rmse:0.721423\ttest-rmse:0.726926\n",
      "[38]\ttrain-rmse:0.721248\ttest-rmse:0.726800\n",
      "[39]\ttrain-rmse:0.720975\ttest-rmse:0.726581\n",
      "[40]\ttrain-rmse:0.720850\ttest-rmse:0.726472\n",
      "[41]\ttrain-rmse:0.720758\ttest-rmse:0.726412\n",
      "[42]\ttrain-rmse:0.720556\ttest-rmse:0.726260\n",
      "[43]\ttrain-rmse:0.720407\ttest-rmse:0.726141\n",
      "[44]\ttrain-rmse:0.720256\ttest-rmse:0.726028\n",
      "[45]\ttrain-rmse:0.720112\ttest-rmse:0.725909\n",
      "[46]\ttrain-rmse:0.719978\ttest-rmse:0.725785\n",
      "[47]\ttrain-rmse:0.719872\ttest-rmse:0.725714\n",
      "[48]\ttrain-rmse:0.719759\ttest-rmse:0.725637\n",
      "[49]\ttrain-rmse:0.719632\ttest-rmse:0.725530\n",
      "[50]\ttrain-rmse:0.719511\ttest-rmse:0.725427\n",
      "[51]\ttrain-rmse:0.719373\ttest-rmse:0.725305\n",
      "[52]\ttrain-rmse:0.719261\ttest-rmse:0.725223\n",
      "[53]\ttrain-rmse:0.719139\ttest-rmse:0.725142\n",
      "[54]\ttrain-rmse:0.718969\ttest-rmse:0.725010\n",
      "[55]\ttrain-rmse:0.718879\ttest-rmse:0.724949\n",
      "[56]\ttrain-rmse:0.718822\ttest-rmse:0.724929\n",
      "[57]\ttrain-rmse:0.718749\ttest-rmse:0.724877\n",
      "[58]\ttrain-rmse:0.718649\ttest-rmse:0.724802\n",
      "[59]\ttrain-rmse:0.718575\ttest-rmse:0.724761\n",
      "[60]\ttrain-rmse:0.718470\ttest-rmse:0.724693\n",
      "[61]\ttrain-rmse:0.718371\ttest-rmse:0.724616\n",
      "[62]\ttrain-rmse:0.718312\ttest-rmse:0.724574\n",
      "[63]\ttrain-rmse:0.718226\ttest-rmse:0.724523\n",
      "[64]\ttrain-rmse:0.718142\ttest-rmse:0.724467\n",
      "[65]\ttrain-rmse:0.718073\ttest-rmse:0.724421\n",
      "[66]\ttrain-rmse:0.717994\ttest-rmse:0.724367\n",
      "[67]\ttrain-rmse:0.717917\ttest-rmse:0.724330\n",
      "[68]\ttrain-rmse:0.717868\ttest-rmse:0.724300\n",
      "[69]\ttrain-rmse:0.717806\ttest-rmse:0.724265\n",
      "[70]\ttrain-rmse:0.717722\ttest-rmse:0.724208\n",
      "[71]\ttrain-rmse:0.717648\ttest-rmse:0.724167\n",
      "[72]\ttrain-rmse:0.717591\ttest-rmse:0.724137\n",
      "[73]\ttrain-rmse:0.717494\ttest-rmse:0.724077\n",
      "[74]\ttrain-rmse:0.717420\ttest-rmse:0.724030\n",
      "[75]\ttrain-rmse:0.717366\ttest-rmse:0.724018\n",
      "[76]\ttrain-rmse:0.717314\ttest-rmse:0.723989\n",
      "[77]\ttrain-rmse:0.717265\ttest-rmse:0.723955\n",
      "[78]\ttrain-rmse:0.717184\ttest-rmse:0.723899\n",
      "[79]\ttrain-rmse:0.717105\ttest-rmse:0.723831\n",
      "[80]\ttrain-rmse:0.717043\ttest-rmse:0.723801\n",
      "[81]\ttrain-rmse:0.716975\ttest-rmse:0.723751\n",
      "[82]\ttrain-rmse:0.716905\ttest-rmse:0.723699\n",
      "[83]\ttrain-rmse:0.716853\ttest-rmse:0.723674\n",
      "[84]\ttrain-rmse:0.716815\ttest-rmse:0.723660\n",
      "[85]\ttrain-rmse:0.716758\ttest-rmse:0.723642\n",
      "[86]\ttrain-rmse:0.716699\ttest-rmse:0.723613\n",
      "[87]\ttrain-rmse:0.716633\ttest-rmse:0.723570\n",
      "[88]\ttrain-rmse:0.716540\ttest-rmse:0.723511\n",
      "[89]\ttrain-rmse:0.716468\ttest-rmse:0.723481\n",
      "[90]\ttrain-rmse:0.716415\ttest-rmse:0.723462\n",
      "[91]\ttrain-rmse:0.716356\ttest-rmse:0.723440\n",
      "[92]\ttrain-rmse:0.716319\ttest-rmse:0.723415\n",
      "[93]\ttrain-rmse:0.716255\ttest-rmse:0.723361\n",
      "[94]\ttrain-rmse:0.716191\ttest-rmse:0.723329\n",
      "[95]\ttrain-rmse:0.716144\ttest-rmse:0.723315\n",
      "[96]\ttrain-rmse:0.716072\ttest-rmse:0.723262\n",
      "[97]\ttrain-rmse:0.716011\ttest-rmse:0.723217\n",
      "[98]\ttrain-rmse:0.715942\ttest-rmse:0.723168\n",
      "[99]\ttrain-rmse:0.715891\ttest-rmse:0.723148\n",
      "[100]\ttrain-rmse:0.715822\ttest-rmse:0.723105\n"
     ]
    }
   ],
   "source": [
    "error_bst = train_model(\"test\", errors.rating, test_preds);"
   ]
  },
  {
   "cell_type": "code",
   "execution_count": 26,
   "id": "3461f372-33a4-4608-8f80-39a617331cd7",
   "metadata": {},
   "outputs": [],
   "source": [
    "xgboost_error_model_fn = \"../../data/alphas/$name/xgb_error.model\"\n",
    "XGBoost.save(error_bst, xgboost_error_model_fn)"
   ]
  },
  {
   "cell_type": "code",
   "execution_count": 27,
   "id": "4eb98927-1550-4146-a10e-da598f7365f3",
   "metadata": {},
   "outputs": [],
   "source": [
    "# SOTA: [100]\ttrain-rmse:0.715822\ttest-rmse:0.723105"
   ]
  },
  {
   "cell_type": "code",
   "execution_count": 28,
   "id": "55d55774-e03a-436e-8fb9-0da6c9004464",
   "metadata": {},
   "outputs": [],
   "source": [
    "# OLD RESULTS: [300]\ttrain-rmse:0.687583\ttest-rmse:0.692817"
   ]
  },
  {
   "cell_type": "markdown",
   "id": "7392d1cf-d1f9-47a3-8411-5ca2f73e7ded",
   "metadata": {},
   "source": [
    "## Save params"
   ]
  },
  {
   "cell_type": "code",
   "execution_count": 29,
   "id": "f478e90e-ce89-45ea-9fa2-5b3176f4c6bc",
   "metadata": {},
   "outputs": [],
   "source": [
    "write_params(\n",
    "    Dict(\n",
    "        \"β\" => β,\n",
    "        \"alphas\" => alphas,\n",
    "        \"bst\" => xgboost_model_fn,\n",
    "        \"error_bst\" => xgboost_error_model_fn,\n",
    "    ),\n",
    ");"
   ]
  }
 ],
 "metadata": {
  "kernelspec": {
   "display_name": "Julia 1.6.3",
   "language": "julia",
   "name": "julia-1.6"
  },
  "language_info": {
   "file_extension": ".jl",
   "mimetype": "application/julia",
   "name": "julia",
   "version": "1.6.3"
  }
 },
 "nbformat": 4,
 "nbformat_minor": 5
}
