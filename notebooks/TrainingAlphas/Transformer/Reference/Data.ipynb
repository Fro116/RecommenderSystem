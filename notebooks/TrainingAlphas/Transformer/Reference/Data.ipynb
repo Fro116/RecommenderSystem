{
 "cells": [
  {
   "cell_type": "code",
   "execution_count": null,
   "id": "f817d1a6-bf38-4c89-9409-ad8ff2cbd9d7",
   "metadata": {},
   "outputs": [],
   "source": [
    "# TODO named tuples\n",
    "# item, rating, timestamp, status, completion, user, position\n",
    "const word_type = Tuple{Int32,Float32,Float32,Int32,Float32,Int32,Int32}\n",
    "replace_user(word::word_type, user::Int32) = (word[1:5]..., user, word[7])\n",
    "replace_position(word::word_type, position::Int32) = (word[1:6]..., position)\n",
    "replace_timestamp(word, timestamp) = (word[1:2]..., timestamp, word[4:end]...)\n",
    "is_ptw(word::word_type) = word[4] == 1;"
   ]
  },
  {
   "cell_type": "code",
   "execution_count": null,
   "id": "239a239a-13cb-470b-93b3-ff91979b4ee2",
   "metadata": {},
   "outputs": [],
   "source": [
    "function encode_word(item, rating, timestamp, status, completion, user, position)\n",
    "    word = (item, rating, timestamp, status, completion, user, position)\n",
    "    convert(word_type, word)\n",
    "end\n",
    "\n",
    "function get_training_data(task, include_ptw, cls_tokens; show_progress_bar = false)\n",
    "    function get_df(task, content)\n",
    "        df = get_raw_split(\"training\", task, content)\n",
    "        if content != \"explicit\"\n",
    "            df.rating .= 11\n",
    "        end\n",
    "        df\n",
    "    end\n",
    "\n",
    "    contents = [\"explicit\", \"implicit\"]\n",
    "    if include_ptw\n",
    "        push!(contents, \"ptw\")\n",
    "    end\n",
    "    sentences = Dict{Int32,Vector{word_type}}()\n",
    "    df = reduce(cat, [get_df(task, content) for content in contents])\n",
    "    order = sortperm(df.timestamp)\n",
    "    p = ProgressMeter.Progress(length(order); enabled = show_progress_bar, showspeed = true)\n",
    "    for idx = 1:length(order)\n",
    "        i = order[idx]\n",
    "        if df.user[i] ∉ keys(sentences)\n",
    "            sentences[df.user[i]] = [replace_user(cls_tokens, df.user[i])]\n",
    "        end\n",
    "        word = encode_word(\n",
    "            df.item[i],\n",
    "            df.rating[i],\n",
    "            df.timestamp[i],\n",
    "            df.status[i],\n",
    "            df.completion[i],\n",
    "            df.user[i],\n",
    "            length(sentences[df.user[i]]),\n",
    "        )\n",
    "        push!(sentences[df.user[i]], word)\n",
    "        ProgressMeter.next!(p)\n",
    "    end\n",
    "    ProgressMeter.finish!(p)\n",
    "    sentences\n",
    "end;"
   ]
  },
  {
   "cell_type": "code",
   "execution_count": null,
   "id": "764fd3fd-6b56-4a4b-af5f-d2ec2f089177",
   "metadata": {},
   "outputs": [],
   "source": [
    "function subset_sentence(sentence, max_seq_length; recent, rng)\n",
    "    if length(sentence) > max_seq_length\n",
    "        if recent\n",
    "            # keep the rightmost entries\n",
    "            idx = length(sentence) - max_seq_length + 1\n",
    "        else\n",
    "            # take a random contiguous subset            \n",
    "            idx = rand(rng, 1:length(sentence)-max_seq_length+1)\n",
    "        end\n",
    "        sentence = sentence[idx:idx+max_seq_length-1]\n",
    "    end\n",
    "    sentence\n",
    "end;"
   ]
  },
  {
   "cell_type": "code",
   "execution_count": null,
   "id": "e1dda2a7-8e5b-4519-b0e9-246cb358f8a3",
   "metadata": {},
   "outputs": [],
   "source": [
    "function pad_sentence(sentence, max_seq_length, max_position, pad_tokens, cls_tokens; rng)\n",
    "    outputs = fill.(pad_tokens, max_seq_length)\n",
    "    sentence = subset_sentence(sentence, max_seq_length; recent = false, rng = rng)\n",
    "    for i = 1:length(sentence)\n",
    "        for j = 1:length(outputs)\n",
    "            if j == 7 && sentence[i][1] != cls_tokens[1]\n",
    "                p = (sentence[i][j] % max_position)\n",
    "                if p == 0\n",
    "                    p = 1\n",
    "                end\n",
    "                outputs[j][i] = p\n",
    "            else\n",
    "                outputs[j][i] = sentence[i][j]\n",
    "            end\n",
    "        end\n",
    "    end\n",
    "    outputs\n",
    "end;"
   ]
  },
  {
   "cell_type": "code",
   "execution_count": null,
   "id": "dd56c38b-d848-416f-a028-364b4dc1a99f",
   "metadata": {},
   "outputs": [],
   "source": [
    "function get_token_ids(sentences, max_seq_length, max_position, pad_tokens, cls_tokens; rng)\n",
    "    padded_sentences = [\n",
    "        pad_sentence(x, max_seq_length, max_position, pad_tokens, cls_tokens; rng = rng) for x in sentences\n",
    "    ]\n",
    "    Tuple(hcat([x[i] for x in padded_sentences]...) for i = 1:length(pad_tokens))\n",
    "end;"
   ]
  }
 ],
 "metadata": {
  "kernelspec": {
   "display_name": "Julia 1.8.3",
   "language": "julia",
   "name": "julia-1.8"
  },
  "language_info": {
   "file_extension": ".jl",
   "mimetype": "application/julia",
   "name": "julia",
   "version": "1.8.3"
  }
 },
 "nbformat": 4,
 "nbformat_minor": 5
}
