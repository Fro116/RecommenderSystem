{
 "cells": [
  {
   "cell_type": "code",
   "execution_count": null,
   "id": "dec9e3dd-c524-405d-a797-18f33b7c08af",
   "metadata": {},
   "outputs": [],
   "source": [
    "import NBInclude: @nbinclude"
   ]
  },
  {
   "cell_type": "code",
   "execution_count": null,
   "id": "26435bbf-5d1c-49cc-a734-9a5b462a88bb",
   "metadata": {},
   "outputs": [],
   "source": [
    "@nbinclude(\"EmbeddingContainer.ipynb\");"
   ]
  },
  {
   "cell_type": "code",
   "execution_count": null,
   "id": "30d8d15a-3fa0-49c2-a7ce-9bd52790ad69",
   "metadata": {},
   "outputs": [],
   "source": [
    "@nbinclude(\"ModelContainer.ipynb\");"
   ]
  },
  {
   "cell_type": "code",
   "execution_count": null,
   "id": "9be7427d-9772-44a2-b081-bc82e8465080",
   "metadata": {},
   "outputs": [],
   "source": [
    "@nbinclude(\"Models.ipynb\");"
   ]
  },
  {
   "cell_type": "code",
   "execution_count": null,
   "id": "489d4a17-a461-42f7-a122-9db7a08fe7c4",
   "metadata": {},
   "outputs": [],
   "source": [
    "@nbinclude(\"Data.ipynb\");"
   ]
  },
  {
   "cell_type": "code",
   "execution_count": null,
   "id": "619e89fd-64fa-4167-958a-f6cd6fc9a3f6",
   "metadata": {},
   "outputs": [],
   "source": [
    "@nbinclude(\"Optimiser.ipynb\");"
   ]
  }
 ],
 "metadata": {
  "kernelspec": {
   "display_name": "Julia 1.8.3",
   "language": "julia",
   "name": "julia-1.8"
  },
  "language_info": {
   "file_extension": ".jl",
   "mimetype": "application/julia",
   "name": "julia",
   "version": "1.8.3"
  }
 },
 "nbformat": 4,
 "nbformat_minor": 5
}
