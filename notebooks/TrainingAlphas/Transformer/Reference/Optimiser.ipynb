{
 "cells": [
  {
   "cell_type": "code",
   "execution_count": null,
   "id": "4314d5be-9cf0-4f39-904c-b297f2d7b6fd",
   "metadata": {},
   "outputs": [],
   "source": [
    "import Optimisers\n",
    "import Optimisers: Adam, OptimiserChain, WeightDecay\n",
    "import ParameterSchedulers\n",
    "import ParameterSchedulers: Sequence, Triangle, Shifted, Stateful"
   ]
  },
  {
   "cell_type": "markdown",
   "id": "328eddd2-0fb7-4956-9ca4-df8a4a90d1c8",
   "metadata": {},
   "source": [
    "# Learning rate schedules"
   ]
  },
  {
   "cell_type": "code",
   "execution_count": null,
   "id": "7ecc7b25-2c8d-491a-ad13-ebf7c8e02fa0",
   "metadata": {},
   "outputs": [],
   "source": [
    "function schedule_learning_rate!(opt, lr_schedule, weight_decay)\n",
    "    lr = Float32(ParameterSchedulers.next!(lr_schedule))\n",
    "    Optimisers.adjust!(opt, eta = lr, gamma = lr * weight_decay)\n",
    "end;"
   ]
  },
  {
   "cell_type": "code",
   "execution_count": null,
   "id": "f12eb28a-053a-4448-b34a-dbb62551f43c",
   "metadata": {
    "tags": []
   },
   "outputs": [],
   "source": [
    "function LinearWarmupSchedule(lr, iters, warmup_perc)\n",
    "    warmup_steps = Int(round(iters * warmup_perc))\n",
    "    remaining_steps = iters - warmup_steps\n",
    "    Stateful(\n",
    "        Sequence(\n",
    "            Triangle(λ0 = 0.0f0, λ1 = lr, period = 2 * warmup_steps) => warmup_steps,\n",
    "            Shifted(\n",
    "                Triangle(λ0 = 0.0f0, λ1 = lr, period = 2 * remaining_steps),\n",
    "                remaining_steps,\n",
    "            ) => remaining_steps,\n",
    "        ),\n",
    "    )\n",
    "end\n",
    "\n",
    "function get_lr_schedule(config; num_epochs = nothing, peak_learning_rate = nothing)\n",
    "    if isnothing(peak_learning_rate)\n",
    "        lr = Float32(config[\"peak_learning_rate\"])\n",
    "    else\n",
    "        lr = peak_learning_rate\n",
    "    end\n",
    "    if isnothing(num_epochs)\n",
    "        num_epochs = config[\"num_epochs\"]\n",
    "    end\n",
    "    max_batches = Int(round(num_epochs * config[\"iters_per_epoch\"] / config[\"batch_size\"]))\n",
    "    LinearWarmupSchedule(lr, max_batches, 0.06)\n",
    "end;"
   ]
  },
  {
   "cell_type": "code",
   "execution_count": null,
   "id": "b54d0c8d-dd7c-491e-bd1f-2d0c9def45de",
   "metadata": {},
   "outputs": [],
   "source": [
    "function current(iter::ParameterSchedulers.Stateful)\n",
    "    return iter.schedule(iter.state)\n",
    "end;"
   ]
  }
 ],
 "metadata": {
  "kernelspec": {
   "display_name": "Julia 1.9.0-rc2",
   "language": "julia",
   "name": "julia-1.9"
  },
  "language_info": {
   "file_extension": ".jl",
   "mimetype": "application/julia",
   "name": "julia",
   "version": "1.9.0"
  }
 },
 "nbformat": 4,
 "nbformat_minor": 5
}
