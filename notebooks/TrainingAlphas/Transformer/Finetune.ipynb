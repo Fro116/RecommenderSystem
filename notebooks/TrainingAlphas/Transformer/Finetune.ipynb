{
 "cells": [
  {
   "cell_type": "code",
   "execution_count": null,
   "id": "0dda7f55-4c2c-40ff-be28-c6a19829f6a0",
   "metadata": {
    "tags": [
     "parameters"
    ]
   },
   "outputs": [],
   "source": [
    "task = \"random\";"
   ]
  },
  {
   "cell_type": "code",
   "execution_count": null,
   "id": "07463b45-3148-4a5a-b119-ed43d468d8d3",
   "metadata": {},
   "outputs": [],
   "source": [
    "name = \"$task/Transformer/test\";"
   ]
  },
  {
   "cell_type": "code",
   "execution_count": null,
   "id": "b0ab492d-c494-4117-bed2-bb7fa7e7d8d3",
   "metadata": {},
   "outputs": [],
   "source": [
    "import NBInclude: @nbinclude\n",
    "import SparseArrays: AbstractSparseArray, sparse\n",
    "@nbinclude(\"../Alpha.ipynb\")\n",
    "@nbinclude(\"Transformer.ipynb\");"
   ]
  },
  {
   "cell_type": "markdown",
   "id": "94ba6cc6-c7a5-49a6-83c8-208f318eba5e",
   "metadata": {},
   "source": [
    "# Data"
   ]
  },
  {
   "cell_type": "code",
   "execution_count": null,
   "id": "5b2ecba6-e4c4-4d4f-a8c6-4a9847e7bb78",
   "metadata": {},
   "outputs": [],
   "source": [
    "@with_kw struct Trainer\n",
    "    model::Any\n",
    "    sentences::Any\n",
    "    labels::Any\n",
    "    weights::Any\n",
    "    priors::Any\n",
    "    batch_size::Any\n",
    "    max_seq_len::Any\n",
    "    cls_tokens::Any\n",
    "    pad_tokens::Any\n",
    "    opt::Any\n",
    "    rng::Any\n",
    "end;"
   ]
  },
  {
   "cell_type": "code",
   "execution_count": null,
   "id": "2b753540-f3ec-4fda-af5d-9aaeb7d8a3c3",
   "metadata": {},
   "outputs": [],
   "source": [
    "function get_labels(content)\n",
    "    df = get_split(\"validation\", task, content)\n",
    "    sparse(df.item, df.user, df.rating)\n",
    "end;"
   ]
  },
  {
   "cell_type": "code",
   "execution_count": null,
   "id": "6fafc960-525a-421e-93d8-d92885061ec2",
   "metadata": {},
   "outputs": [],
   "source": [
    "function get_weights(content)\n",
    "    df = get_split(\"validation\", task, content)\n",
    "    w = powerdecay(get_counts(\"validation\", task, content), weighting_scheme(\"inverse\"))\n",
    "    sparse(df.item, df.user, w)\n",
    "end;"
   ]
  },
  {
   "cell_type": "code",
   "execution_count": null,
   "id": "89a0bbc2-5747-480f-88e9-857073e1a827",
   "metadata": {},
   "outputs": [],
   "source": [
    "function get_priors(content)\n",
    "    df = read_alpha(\"$task/ExplicitUserItemBiases\", \"validation\", task, content)\n",
    "    sparse(df.item, df.user, df.rating)\n",
    "end;"
   ]
  },
  {
   "cell_type": "markdown",
   "id": "67fa01f7-57c6-47c4-bea1-b8702ea700ad",
   "metadata": {},
   "source": [
    "# Batching"
   ]
  },
  {
   "cell_type": "code",
   "execution_count": null,
   "id": "12aa0de7-d44b-4374-ace9-028e59b26f4b",
   "metadata": {},
   "outputs": [],
   "source": [
    "function get_batch(\n",
    "    users,\n",
    "    sentences,\n",
    "    labels,\n",
    "    weights,\n",
    "    priors,\n",
    "    max_seq_len,\n",
    "    cls_tokens,\n",
    "    pad_tokens,\n",
    "    rng,\n",
    ")\n",
    "    inputs =\n",
    "        get_inputs([sentences[x] for x in users], max_seq_len, cls_tokens, pad_tokens, rng)\n",
    "    output_labels = map(x -> x[:, users], labels)\n",
    "    output_weights = map(x -> x[:, users], weights)\n",
    "    output_priors = map(x -> x[:, users], priors)\n",
    "    (inputs..., output_labels, output_weights, output_priors)\n",
    "end\n",
    "\n",
    "get_batch(users, t::Trainer) = get_batch(\n",
    "    users,\n",
    "    t.sentences,\n",
    "    t.labels,\n",
    "    t.weights,\n",
    "    t.priors,\n",
    "    t.max_seq_len,\n",
    "    t.cls_tokens,\n",
    "    t.pad_tokens,\n",
    "    t.rng,\n",
    ");"
   ]
  },
  {
   "cell_type": "code",
   "execution_count": null,
   "id": "b0f3c260-0e44-418e-9577-95c55d5ce566",
   "metadata": {},
   "outputs": [],
   "source": [
    "function get_inputs(sentences, max_seq_len, cls_tokens, pad_tokens, rng)\n",
    "    # dynamically pad to the largest sequence length\n",
    "    seq_len = min(maximum(length.(sentences)) + 1, max_seq_len)\n",
    "\n",
    "    # get tokenized sentences\n",
    "    tokens = get_token_ids(sentences, seq_len, cls_tokens, pad_tokens; rng = rng)\n",
    "\n",
    "    # don't attend to padding tokens\n",
    "    attention_mask = reshape(\n",
    "        convert.(Float32, tokens[1] .!= pad_tokens[1]),\n",
    "        (1, seq_len, length(sentences)),\n",
    "    )\n",
    "\n",
    "    tokens, attention_mask\n",
    "end;"
   ]
  },
  {
   "cell_type": "code",
   "execution_count": null,
   "id": "b370ea21-04af-456f-b3e0-351be33c861e",
   "metadata": {},
   "outputs": [],
   "source": [
    "function device(x::AbstractSparseArray)\n",
    "    CUDA.functional() ? CUDA.CuArray(gpu(x)) : collect(x)\n",
    "end\n",
    "\n",
    "function device(batch)\n",
    "    gpu.(batch[1]), gpu(batch[2]), device.(batch[3]), device.(batch[4]), device.(batch[5])\n",
    "end\n",
    "\n",
    "function device_free!(batch)\n",
    "    if !CUDA.functional()\n",
    "        return\n",
    "    end\n",
    "    CUDA.unsafe_free!.(batch[1])\n",
    "    CUDA.unsafe_free!(batch[2])\n",
    "    CUDA.unsafe_free!.(batch[3])\n",
    "    CUDA.unsafe_free!.(batch[4])\n",
    "    CUDA.unsafe_free!.(batch[5])\n",
    "end;"
   ]
  },
  {
   "cell_type": "markdown",
   "id": "d299af47-ee5e-4209-8e7c-07f28f1fdcae",
   "metadata": {},
   "source": [
    "# Model"
   ]
  },
  {
   "cell_type": "code",
   "execution_count": null,
   "id": "6937686d-3b94-4020-9a77-2595a0b06ec2",
   "metadata": {},
   "outputs": [],
   "source": [
    "function create_model(checkpoint)\n",
    "    params = read_params(checkpoint)\n",
    "    config = params[\"training_config\"]\n",
    "    hidden_size = params[\"model_config\"][\"hidden_size\"]\n",
    "    model = params[\"m\"]\n",
    "    classifier =\n",
    "        (item = Dense(hidden_size, num_items()), rating = Dense(hidden_size, num_items()))\n",
    "    TransformerModel(model.embed, model.transformers, classifier)\n",
    "end;"
   ]
  },
  {
   "cell_type": "markdown",
   "id": "ad7e3cac-dc1c-465a-bdf0-f5d10307e61d",
   "metadata": {},
   "source": [
    "# Loss"
   ]
  },
  {
   "cell_type": "code",
   "execution_count": null,
   "id": "3cc2a10f-bcc9-41c1-9a7d-5a20d6056383",
   "metadata": {},
   "outputs": [],
   "source": [
    "function lm_losses(model, batch)\n",
    "    tokens, attention_mask, labels, weights = batch\n",
    "    X = model.embed(\n",
    "        item = tokens[1],\n",
    "        rating = tokens[2],\n",
    "        timestamp = tokens[3],\n",
    "        status = tokens[4],\n",
    "        completion = tokens[5],\n",
    "        position = tokens[1],\n",
    "    )\n",
    "    X = model.transformers(X, attention_mask)\n",
    "    X = X[:, 1, :]\n",
    "\n",
    "    pred_item = logsoftmax(model.classifier.item(X))\n",
    "    item_loss = sum(weights[1] .* -labels[1] .* pred_item)\n",
    "    pred_rating = model.classifier.rating(X)\n",
    "    rating_loss = sum(weights[2] .* (pred_rating - labels[2]) .^ 2)\n",
    "    item_loss, rating_loss\n",
    "end;"
   ]
  },
  {
   "cell_type": "code",
   "execution_count": null,
   "id": "5cea0e5c-2d02-4b74-8636-653b806fe9ff",
   "metadata": {},
   "outputs": [],
   "source": [
    "function split_losses(users, t::Trainer)\n",
    "    losses = zeros(2)\n",
    "    loss_weights = zeros(2)\n",
    "    user_batches = collect(Iterators.partition(users, t.batch_size))\n",
    "    @showprogress for user_batch in user_batches\n",
    "        batch = get_batch(user_batch, t) |> device\n",
    "        loss_weights .+= sum.(batch[4])\n",
    "        losses .+= lm_losses(t.model, batch)\n",
    "        batch |> device_free!\n",
    "    end\n",
    "    losses ./ loss_weights\n",
    "end;"
   ]
  },
  {
   "cell_type": "code",
   "execution_count": null,
   "id": "cc47f8f3-2380-4d7c-a83e-38ea1867cee1",
   "metadata": {},
   "outputs": [],
   "source": [
    "function train_epoch!(users, t::Trainer)\n",
    "    users = Random.shuffle(t.rng, users)\n",
    "    user_batches = collect(Iterators.partition(users, t.batch_size))\n",
    "    @showprogress for user_batch in user_batches\n",
    "        batch = get_batch(user_batch, t) |> device\n",
    "        grads = Flux.gradient(t.model) do m\n",
    "            sum(lm_losses(m, batch))\n",
    "        end\n",
    "        batch |> device_free!\n",
    "        Flux.update!(t.opt, t.model, grads[1])\n",
    "    end\n",
    "end;"
   ]
  },
  {
   "cell_type": "code",
   "execution_count": null,
   "id": "b22acc9f-a168-4afe-ad5a-a6be2f9dbe45",
   "metadata": {},
   "outputs": [],
   "source": [
    "function checkpoint(users, t::Trainer, epoch, name)\n",
    "    @info \"evaluating metrics\"\n",
    "    metrics = split_losses(users, t)\n",
    "    write_params(\n",
    "        Dict(\"m\" => t.model |> cpu, \"epoch\" => epoch, \"metrics\" => metrics),\n",
    "        \"$name/checkpoints/$epoch\",\n",
    "    )\n",
    "    @info \"saving model after $epoch epochs with metrics $metrics\"\n",
    "end;"
   ]
  },
  {
   "cell_type": "markdown",
   "id": "e32d86b2-9354-4297-bcfa-b7e75f08c137",
   "metadata": {},
   "source": [
    "# Configuration"
   ]
  },
  {
   "cell_type": "code",
   "execution_count": null,
   "id": "20a0ac00-9e5d-491c-b5a0-f15a340ff23f",
   "metadata": {},
   "outputs": [],
   "source": [
    "function load_pretrained_model(checkpoint)\n",
    "    params = read_params(checkpoint)\n",
    "    config = params[\"training_config\"]\n",
    "    use_ptw = config[\"include_ptw_impressions\"]\n",
    "    sentences = get_training_data(task, use_ptw; show_progress_bar = true)\n",
    "    labels = (get_labels(\"implicit\"), get_labels(\"explicit\"))\n",
    "    weights = (get_weights(\"implicit\"), get_weights(\"explicit\"))\n",
    "    priors = (get_priors(\"implicit\"), get_priors(\"explicit\"))\n",
    "\n",
    "    model = create_model(checkpoint) |> gpu\n",
    "    opt = Optimisers.setup(\n",
    "        OptimiserChain(Adam(1f-4, (0.9f0, 0.999f0)), WeightDecay(1f-6)),\n",
    "        model,\n",
    "    )\n",
    "    trainer = Trainer(\n",
    "        model = model,\n",
    "        sentences = sentences,\n",
    "        labels = labels,\n",
    "        weights = weights,\n",
    "        priors = priors,\n",
    "        batch_size = config[\"batch_size\"],\n",
    "        max_seq_len = config[\"max_sequence_length\"],\n",
    "        cls_tokens = config[\"cls_tokens\"],\n",
    "        pad_tokens = config[\"pad_tokens\"],\n",
    "        opt = opt,\n",
    "        rng = Random.Xoshiro(20230102),\n",
    "    )\n",
    "    trainer\n",
    "end;"
   ]
  },
  {
   "cell_type": "code",
   "execution_count": null,
   "id": "0d2eeb2a-806a-4cbf-9c2e-8bbe5c17124b",
   "metadata": {},
   "outputs": [],
   "source": [
    "function get_users(rng)\n",
    "    users = collect(Set(get_split(\"validation\", task, \"implicit\").user))\n",
    "    Random.shuffle!(rng, users)\n",
    "    cutoff = Int(round(0.95 * length(users)))\n",
    "    users[1:cutoff], users[cutoff+1:end]\n",
    "end;"
   ]
  },
  {
   "cell_type": "markdown",
   "id": "2724548d-cf46-4897-b865-0bdcf56b304b",
   "metadata": {},
   "source": [
    "# Actually Train Model!"
   ]
  },
  {
   "cell_type": "code",
   "execution_count": null,
   "id": "07fcee03-af6f-4f2f-ac3c-8035b98fad32",
   "metadata": {},
   "outputs": [],
   "source": [
    "pretrain_checkpoint = \"all/Transformer/small/checkpoints/8\";"
   ]
  },
  {
   "cell_type": "code",
   "execution_count": null,
   "id": "dc5b0c71-0dff-42d3-b0dc-3d9da3af65c3",
   "metadata": {
    "tags": []
   },
   "outputs": [],
   "source": [
    "trainer = load_pretrained_model(pretrain_checkpoint);"
   ]
  },
  {
   "cell_type": "code",
   "execution_count": null,
   "id": "3296c806-793b-4945-b187-bdf0a874967d",
   "metadata": {},
   "outputs": [],
   "source": [
    "training, validation = get_users(trainer.rng);"
   ]
  },
  {
   "cell_type": "code",
   "execution_count": null,
   "id": "f1946aaa-116d-48a4-a599-37dede55685e",
   "metadata": {},
   "outputs": [],
   "source": [
    "# split_losses(validation, trainer)"
   ]
  },
  {
   "cell_type": "code",
   "execution_count": null,
   "id": "5caad534-15d7-4909-bce7-825c283099e9",
   "metadata": {
    "tags": []
   },
   "outputs": [],
   "source": [
    "# for epoch = 1:100\n",
    "#     train_epoch!(training, trainer)        \n",
    "#     checkpoint(validation, trainer, epoch, name)            \n",
    "# end;"
   ]
  }
 ],
 "metadata": {
  "kernelspec": {
   "display_name": "Julia 1.8.3",
   "language": "julia",
   "name": "julia-1.8"
  },
  "language_info": {
   "file_extension": ".jl",
   "mimetype": "application/julia",
   "name": "julia",
   "version": "1.8.3"
  }
 },
 "nbformat": 4,
 "nbformat_minor": 5
}
