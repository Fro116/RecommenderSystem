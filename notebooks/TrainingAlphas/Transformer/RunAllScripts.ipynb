{
 "cells": [
  {
   "cell_type": "markdown",
   "id": "b869e286-b1be-45ab-97ef-12f4b142e169",
   "metadata": {
    "editable": true,
    "slideshow": {
     "slide_type": ""
    },
    "tags": []
   },
   "source": [
    "# Transformer\n",
    "* Trains a transformer model to predict a user's future interactions"
   ]
  },
  {
   "cell_type": "code",
   "execution_count": null,
   "id": "7df9b9d0-f4e3-4db9-b67d-799c100e8ab9",
   "metadata": {},
   "outputs": [],
   "source": [
    "import os\n",
    "import time\n",
    "\n",
    "import papermill as pm"
   ]
  },
  {
   "cell_type": "code",
   "execution_count": null,
   "id": "12695459-aadb-4f2b-ace7-1741d41b33df",
   "metadata": {},
   "outputs": [],
   "source": [
    "def get_data_path(*args):\n",
    "    data_path = os.path.join(\n",
    "        \"../../../data/papermill/training_alphas/transformer\", *args\n",
    "    )\n",
    "    if not os.path.exists(data_path):\n",
    "        os.makedirs(data_path, exist_ok=True)\n",
    "    return data_path"
   ]
  },
  {
   "cell_type": "code",
   "execution_count": null,
   "id": "58e8d146-da94-4334-8b78-80453cee9e31",
   "metadata": {},
   "outputs": [],
   "source": [
    "def run_notebook(script, path, params):\n",
    "    pm.execute_notebook(\n",
    "        script,\n",
    "        os.path.join(path, script),\n",
    "        parameters=params,\n",
    "    )"
   ]
  },
  {
   "cell_type": "code",
   "execution_count": null,
   "id": "b8fdb508-1d80-4aa6-af10-2abea3b0693a",
   "metadata": {
    "editable": true,
    "slideshow": {
     "slide_type": ""
    },
    "tags": []
   },
   "outputs": [],
   "source": [
    "run_notebook(\"SaveTrainingData.ipynb\", get_data_path(\"all\"), {})"
   ]
  },
  {
   "cell_type": "code",
   "execution_count": null,
   "id": "f32a9f8d-d89f-45ae-9206-c28e131986a4",
   "metadata": {},
   "outputs": [],
   "source": [
    "os.system(\"python3 Pytorch.py --outdir all/Transformer/v1\")"
   ]
  },
  {
   "cell_type": "code",
   "execution_count": null,
   "id": "5d742cb6-a81f-4e3a-adfd-0769b8d6d6db",
   "metadata": {
    "editable": true,
    "slideshow": {
     "slide_type": ""
    },
    "tags": []
   },
   "outputs": [],
   "source": [
    "for media in [\"manga\", \"anime\"]:\n",
    "    for mode in [\"dataset\", \"train\"]:\n",
    "        run_notebook(\n",
    "            \"FinetuneDataset.ipynb\",\n",
    "            get_data_path(media, mode),\n",
    "            {\"medium\": media, \"mode\": mode},\n",
    "        )"
   ]
  },
  {
   "cell_type": "code",
   "execution_count": null,
   "id": "f7cd304b-1d38-442c-86c8-fd54301afe05",
   "metadata": {
    "editable": true,
    "slideshow": {
     "slide_type": ""
    },
    "tags": []
   },
   "outputs": [],
   "source": [
    "print(\"Success!\")"
   ]
  }
 ],
 "metadata": {
  "kernelspec": {
   "display_name": "Python 3 (ipykernel)",
   "language": "python",
   "name": "python3"
  },
  "language_info": {
   "codemirror_mode": {
    "name": "ipython",
    "version": 3
   },
   "file_extension": ".py",
   "mimetype": "text/x-python",
   "name": "python",
   "nbconvert_exporter": "python",
   "pygments_lexer": "ipython3",
   "version": "3.10.12"
  }
 },
 "nbformat": 4,
 "nbformat_minor": 5
}
