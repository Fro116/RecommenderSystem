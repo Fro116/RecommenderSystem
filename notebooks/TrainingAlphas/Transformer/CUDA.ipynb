{
 "cells": [
  {
   "cell_type": "markdown",
   "id": "c9543df8-c758-4c8d-ab20-bcc08332f3d3",
   "metadata": {
    "tags": []
   },
   "source": [
    "# CUDA Performance"
   ]
  },
  {
   "cell_type": "code",
   "execution_count": null,
   "id": "a7a119ed-c8fc-4606-952a-564eb00c2056",
   "metadata": {},
   "outputs": [],
   "source": [
    "import CUDA\n",
    "import NNlibCUDA\n",
    "CUDA.math_mode!(CUDA.FAST_MATH; precision = :BFloat16)\n",
    "NNlibCUDA.softmaxalgo() = NNlibCUDA.CUDNN_SOFTMAX_ACCURATE"
   ]
  }
 ],
 "metadata": {
  "kernelspec": {
   "display_name": "Julia 1.8.3",
   "language": "julia",
   "name": "julia-1.8"
  },
  "language_info": {
   "file_extension": ".jl",
   "mimetype": "application/julia",
   "name": "julia",
   "version": "1.8.3"
  }
 },
 "nbformat": 4,
 "nbformat_minor": 5
}
