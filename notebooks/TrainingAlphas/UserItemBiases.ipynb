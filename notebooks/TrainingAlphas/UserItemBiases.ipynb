{
 "cells": [
  {
   "cell_type": "markdown",
   "id": "c3758ece-9b72-47b4-ae6a-aa364e0443e3",
   "metadata": {},
   "source": [
    "# User Item Biases With Regularization\n",
    "* Prediction for user $i$ and item $j$ is $\\tilde r_{ij} = u_i + a_j$\n",
    "* Loss function is $L = \\sum_{\\Omega}w_{ij}\\text{loss}(r_{ij}, \\tilde r_{ij}) + \\lambda_u \\sum_i (u_i - \\bar u) ^2 + \\lambda_a \\sum_j (a_j - \\bar a)^2 $\n",
    "* $\\bar u$ is the mean of $u_i$ and $\\bar a$ is the mean of $a_j$ \n",
    "* $\\Omega$ is the set of oberved pairs $(i, j)$\n",
    "* $r_{ij}$ is the rating for user $i$ and item $j$\n",
    "* $w_{ij}$ is the weight for the prediction $r_{ij}$ and is modeled as a power-law in the number of items seen by $i$ and users than have seen $j$: $w_{ij} = |j' : (i, j') \\in \\Omega| ^ {\\lambda_{wu}} |i' : (i', j) \\in \\Omega| ^ {\\lambda_{wa}}$\n",
    "* $\\text{loss}$ is mean squared error when working with explicit data and is cross-entropy loss when working with implicit data"
   ]
  },
  {
   "cell_type": "code",
   "execution_count": 1,
   "id": "7cc9334a-2287-41d6-885b-a5cca94fe263",
   "metadata": {},
   "outputs": [],
   "source": [
    "const name = \"UserItemBiases\"\n",
    "const residual_alphas = []\n",
    "const implicit = false;"
   ]
  },
  {
   "cell_type": "code",
   "execution_count": 2,
   "id": "df87db6f-667c-4bc2-9d48-7f4debe6750f",
   "metadata": {
    "tags": []
   },
   "outputs": [
    {
     "data": {
      "text/plain": [
       "read_alpha (generic function with 2 methods)"
      ]
     },
     "execution_count": 2,
     "metadata": {},
     "output_type": "execute_result"
    }
   ],
   "source": [
    "import Statistics: mean\n",
    "import NBInclude: @nbinclude\n",
    "@nbinclude(\"Alpha.ipynb\")"
   ]
  },
  {
   "cell_type": "code",
   "execution_count": 3,
   "id": "2964541d-4796-47fd-ac77-91a2eaefc679",
   "metadata": {},
   "outputs": [],
   "source": [
    "# TODO support residualization\n",
    "const training = get_split(\"training\", implicit = implicit)\n",
    "const validation = get_split(\"validation\", implicit = implicit);"
   ]
  },
  {
   "cell_type": "markdown",
   "id": "99f52a69-0231-4bff-8a9f-26bb16ee9f33",
   "metadata": {
    "tags": []
   },
   "source": [
    "## Alternating Least Squares\n",
    "* Given some hyperparameters $\\lambda$, we can solve for $U$ and $A$ via Alternating Least Squares\n",
    "* This is an iterative algorithm where we fix $A$, then solve for the $U$ that minimizes the loss function\n",
    "* Then we fix $U$ and solve for the best $A$\n",
    "* These two steps are repeated until the matrices $U$ and $A$ converge"
   ]
  },
  {
   "cell_type": "code",
   "execution_count": 4,
   "id": "0acfe580-d19e-4d43-9624-56d9cac51b94",
   "metadata": {},
   "outputs": [],
   "source": [
    "function make_prediction(user, items, u, a, implicit)\n",
    "    implicit ? implicit_make_prediction(user, items, u, a) :\n",
    "    explicit_make_prediction(user, items, u, a)\n",
    "end\n",
    "\n",
    "function train_model(training, stop_criteria, implicit, λ)\n",
    "    implicit ? implicit_train_model(training, stop_criteria, λ) :\n",
    "    explicit_train_model(training, stop_criteria, λ)\n",
    "end;"
   ]
  },
  {
   "cell_type": "markdown",
   "id": "1d7f343e-0410-407f-9ae3-17e49ec57439",
   "metadata": {},
   "source": [
    "## ALS for Explicit data\n",
    "* If we fix $a$, then for each user $i$, $u_i$ is optimized when\n",
    "* $u_i = \\dfrac{\\sum_{j \\in \\Omega_i}(r_{ij} - a_j) w_{ij} + \\bar u \\lambda_u}{ \\sum_{j \\in \\Omega_i} w_{ij} + \\lambda_u}$\n",
    "* $\\Omega$ is the set of (user, item) pairs that we have ratings for\n",
    "* $\\Omega_i$ is subset of $\\Omega$ for which the user is the $i$-th user"
   ]
  },
  {
   "cell_type": "code",
   "execution_count": 5,
   "id": "59fb718e-dc9e-4452-b72c-829ae2d843ff",
   "metadata": {},
   "outputs": [],
   "source": [
    "function explicit_make_prediction(users, items, u, a)\n",
    "    r = Array{eltype(u)}(undef, length(users))\n",
    "    Threads.@threads for i = 1:length(r)\n",
    "        @inbounds r[i] = u[users[i]] + a[items[i]]\n",
    "    end\n",
    "    r\n",
    "end;"
   ]
  },
  {
   "cell_type": "code",
   "execution_count": 6,
   "id": "fb96c1bd-40b5-457b-9872-ca6633256390",
   "metadata": {},
   "outputs": [],
   "source": [
    "function get_residuals!(users, items, ratings, weights, a, ρ, Ω)\n",
    "    @inbounds for row = 1:length(users)\n",
    "        i = users[row]\n",
    "        j = items[row]\n",
    "        r = ratings[row]\n",
    "        w = weights[row]\n",
    "        ρ[i] += (r - a[j]) * w\n",
    "        Ω[i] += w\n",
    "    end\n",
    "    ρ, Ω\n",
    "end\n",
    "\n",
    "function explicit_update_users!(users, items, ratings, weights, u, a, λ_u, ρ, Ω)\n",
    "    Threads.@threads for t = 1:Threads.nthreads()\n",
    "        range = thread_range(length(ratings))\n",
    "        ρ[:, Threads.threadid()] .= 0\n",
    "        Ω[:, Threads.threadid()] .= 0\n",
    "        @views get_residuals!(\n",
    "            users[range],\n",
    "            items[range],\n",
    "            ratings[range],\n",
    "            weights[range],\n",
    "            a,\n",
    "            ρ[:, Threads.threadid()],\n",
    "            Ω[:, Threads.threadid()],\n",
    "        )\n",
    "    end\n",
    "\n",
    "    ρ = sum(ρ, dims = 2)\n",
    "    Ω = sum(Ω, dims = 2)\n",
    "    μ = mean(u)\n",
    "    Threads.@threads for i = 1:length(u)\n",
    "        @inbounds u[i] = (ρ[i] + μ * λ_u) / (Ω[i] + λ_u)\n",
    "    end\n",
    "end;"
   ]
  },
  {
   "cell_type": "code",
   "execution_count": 7,
   "id": "d0371f61-27bf-4f52-b822-d060f7be01b3",
   "metadata": {},
   "outputs": [],
   "source": [
    "function explicit_train_model(training, stop_criteria, λ)\n",
    "    @info \"training model with parameters $λ\"\n",
    "    λ_u, λ_a, λ_wu, λ_wa = λ\n",
    "    users, items, ratings = training.user, training.item, training.rating\n",
    "    weights =\n",
    "        expdecay(get_counts(\"training\"), log(λ_wu)) .*\n",
    "        expdecay(get_counts(\"training\"; by_item = true), log(λ_wa))\n",
    "    u = zeros(eltype(λ_u), num_users())\n",
    "    a = zeros(eltype(λ_a), num_items())\n",
    "\n",
    "    ρ_u = zeros(eltype(u), length(u), Threads.nthreads())\n",
    "    Ω_u = zeros(eltype(u), length(u), Threads.nthreads())\n",
    "    ρ_a = zeros(eltype(a), length(a), Threads.nthreads())\n",
    "    Ω_a = zeros(eltype(a), length(a), Threads.nthreads())\n",
    "\n",
    "    while !stop!(stop_criteria, [u, a])\n",
    "        explicit_update_users!(users, items, ratings, weights, u, a, λ_u, ρ_u, Ω_u)\n",
    "        explicit_update_users!(items, users, ratings, weights, a, u, λ_a, ρ_a, Ω_a)\n",
    "    end\n",
    "    u, a\n",
    "end;"
   ]
  },
  {
   "cell_type": "markdown",
   "id": "4fecc4fa-404d-4723-9bbb-8f5a00ee790c",
   "metadata": {},
   "source": [
    "## ALS for implicit data\n",
    "* TODO"
   ]
  },
  {
   "cell_type": "code",
   "execution_count": 8,
   "id": "26a40eba-1cb7-4ab7-bc1e-0924f6e469a1",
   "metadata": {},
   "outputs": [],
   "source": [
    "function implicit_make_prediction(users, items, u, a)\n",
    "    r = Array{eltype(u)}(undef, length(users))\n",
    "    Threads.@threads for i = 1:length(r)\n",
    "        r[i] = softmax(u[users[i]] .+ a)[items[i]]\n",
    "    end\n",
    "    r\n",
    "end;"
   ]
  },
  {
   "cell_type": "code",
   "execution_count": 98,
   "id": "3696be37-091b-44ff-83dc-f0b79ae09ca5",
   "metadata": {},
   "outputs": [],
   "source": [
    "function implicit_update_user(u, a, w, λ_u, y)\n",
    "    lossfn(x) = loss(softmax(x .+ a), y, w, true) + λ_u * (x - u)^2 # TODO implicit\n",
    "    Optim.minimizer(Optim.optimize(\n",
    "        x -> lossfn(x...),\n",
    "        fill(0.0f0, 1),\n",
    "        Optim.BFGS(),\n",
    "        #autodiff = :forward,\n",
    "    ))[1]\n",
    "end;"
   ]
  },
  {
   "cell_type": "code",
   "execution_count": 95,
   "id": "a2d73951-5d98-4430-94f6-97773f16895c",
   "metadata": {},
   "outputs": [
    {
     "data": {
      "text/plain": [
       "implicit_update_users! (generic function with 1 method)"
      ]
     },
     "execution_count": 95,
     "metadata": {},
     "output_type": "execute_result"
    }
   ],
   "source": [
    "function implicit_update_users!(users, items, ratings, weights, u, a, λ_u)\n",
    "    R = sparse(items, users, ratings, length(a), length(u))\n",
    "    W = sparse(items, users, weights, length(a), length(u))\n",
    "    u_mean = mean(u)\n",
    "    @tprogress Threads.@threads for i = 1:length(u)\n",
    "        y = collect(R[:, i])\n",
    "        w = collect(W[:, i])\n",
    "        u[i] = implicit_update_user(u_mean, a, w, λ_u, y)\n",
    "    end\n",
    "    u\n",
    "end"
   ]
  },
  {
   "cell_type": "code",
   "execution_count": 96,
   "id": "e99b2911-4380-4a58-b8f8-c2f487ea4771",
   "metadata": {},
   "outputs": [],
   "source": [
    "u = rand(Float32, num_users())\n",
    "a = rand(Float32, num_items());"
   ]
  },
  {
   "cell_type": "code",
   "execution_count": null,
   "id": "a3e99b96-9d8e-480a-ae78-882dd73ac384",
   "metadata": {},
   "outputs": [
    {
     "name": "stderr",
     "output_type": "stream",
     "text": [
      "\u001b[32mProgress:   0%|▏                                        |  ETA: 2:25:11\u001b[39mm"
     ]
    }
   ],
   "source": [
    "implicit_update_users!(\n",
    "    training.user,    \n",
    "    training.item,\n",
    "    fill(1.0f0, length(training.rating)),\n",
    "    get_weights(\"training\", \"inverse\"),\n",
    "    u,\n",
    "    a,\n",
    "    1f0,\n",
    ")"
   ]
  },
  {
   "cell_type": "code",
   "execution_count": 10,
   "id": "040a43f9-160a-48d9-838b-e217142056f2",
   "metadata": {},
   "outputs": [],
   "source": [
    "function implicit_train_model(training, stop_criteria, λ)\n",
    "    return\n",
    "    @info \"training model with parameters $λ\"\n",
    "    λ_u, λ_a, λ_wu, λ_wa = λ\n",
    "    users, items, ratings = training.user, training.item, training.rating\n",
    "    weights =\n",
    "        expdecay(get_counts(\"training\"), log(λ_wu)) .*\n",
    "        expdecay(get_counts(\"training\"; by_item = true), log(λ_wa))\n",
    "    u = zeros(eltype(λ_u), maximum(users))\n",
    "    a = zeros(eltype(λ_a), maximum(items))\n",
    "\n",
    "    while !stop!(stop_criteria, [u, a])\n",
    "        implicit_update_users!(users, items, ratings, weights, u, a, λ_u)\n",
    "        implicit_update_users!(items, users, ratings, weights, a, u, λ_a)\n",
    "    end\n",
    "    u, a\n",
    "end;"
   ]
  },
  {
   "cell_type": "markdown",
   "id": "d44f0871-3bb4-4083-8bdb-3cb53233298c",
   "metadata": {
    "tags": []
   },
   "source": [
    "## Training"
   ]
  },
  {
   "cell_type": "code",
   "execution_count": 11,
   "id": "c174fef4-e9d4-4fbd-a649-1159f8c07a3f",
   "metadata": {},
   "outputs": [],
   "source": [
    "function validation_mse(λ)\n",
    "    λ = exp.(λ) # ensure λ is nonnegative\n",
    "    stop_criteria = convergence_stopper(1e-6, max_iters = 16)\n",
    "    u, a = train_model(training, stop_criteria, implicit, λ)\n",
    "\n",
    "    r = make_prediction(validation.user, validation.item, u, a, implicit)\n",
    "    residualized_loss(r, residual_alphas, implicit)\n",
    "end;"
   ]
  },
  {
   "cell_type": "code",
   "execution_count": 12,
   "id": "7d55df8c-06e5-4e8e-814c-41410685842d",
   "metadata": {
    "tags": []
   },
   "outputs": [
    {
     "name": "stderr",
     "output_type": "stream",
     "text": [
      "\u001b[38;5;6m\u001b[1m[ \u001b[22m\u001b[39m\u001b[38;5;6m\u001b[1mInfo: \u001b[22m\u001b[39m20220523 02:38:13 training model with parameters ForwardDiff.Dual{ForwardDiff.Tag{typeof(validation_mse), Float32}, Float32, 4}[Dual{ForwardDiff.Tag{typeof(validation_mse), Float32}}(1.0,1.0,0.0,0.0,0.0), Dual{ForwardDiff.Tag{typeof(validation_mse), Float32}}(1.0,0.0,1.0,0.0,0.0), Dual{ForwardDiff.Tag{typeof(validation_mse), Float32}}(1.0,0.0,0.0,1.0,0.0), Dual{ForwardDiff.Tag{typeof(validation_mse), Float32}}(1.0,0.0,0.0,0.0,1.0)]\n",
      "\u001b[32mProgress: 100%|███████████████████████████| Time: 0:00:01 ( 0.35 μs/it)\u001b[39m39m\n",
      "\u001b[32mProgress: 100%|███████████████████████████| Time: 0:00:00 (35.19 ns/it)\u001b[39m\n",
      "\u001b[38;5;6m\u001b[1m[ \u001b[22m\u001b[39m\u001b[38;5;6m\u001b[1mInfo: \u001b[22m\u001b[39m20220523 02:38:39 regression coefficients: ForwardDiff.Dual{ForwardDiff.Tag{typeof(validation_mse), Float32}, Float32, 4}[Dual{ForwardDiff.Tag{typeof(validation_mse), Float32}}(1.0001966,0.001265263,4.9162406e-7,-0.0022688252,-0.00932882)]\n"
     ]
    },
    {
     "name": "stdout",
     "output_type": "stream",
     "text": [
      "Iter     Function value   Gradient norm \n",
      "     0     1.820268e+00     5.538846e-02\n",
      " * Current step size: 1.0\n",
      " * time: 0.02761697769165039\n",
      " * g(x): Float32[-0.005109214, -1.1346601f-6, 0.019632269, 0.05538846]\n",
      " * ~inv(H): Float32[1.0 0.0 0.0 0.0; 0.0 1.0 0.0 0.0; 0.0 0.0 1.0 0.0; 0.0 0.0 0.0 1.0]\n",
      " * x: Float32[0.0, 0.0, 0.0, 0.0]\n"
     ]
    },
    {
     "name": "stderr",
     "output_type": "stream",
     "text": [
      "\u001b[38;5;6m\u001b[1m[ \u001b[22m\u001b[39m\u001b[38;5;6m\u001b[1mInfo: \u001b[22m\u001b[39m20220523 02:38:42 training model with parameters ForwardDiff.Dual{ForwardDiff.Tag{typeof(validation_mse), Float32}, Float32, 4}[Dual{ForwardDiff.Tag{typeof(validation_mse), Float32}}(1.0051223,1.0051223,0.0,0.0,0.0), Dual{ForwardDiff.Tag{typeof(validation_mse), Float32}}(1.0000012,0.0,1.0000012,0.0,0.0), Dual{ForwardDiff.Tag{typeof(validation_mse), Float32}}(0.9805592,0.0,0.0,0.9805592,0.0), Dual{ForwardDiff.Tag{typeof(validation_mse), Float32}}(0.9461175,0.0,0.0,0.0,0.9461175)]\n",
      "\u001b[38;5;6m\u001b[1m[ \u001b[22m\u001b[39m\u001b[38;5;6m\u001b[1mInfo: \u001b[22m\u001b[39m20220523 02:38:58 regression coefficients: ForwardDiff.Dual{ForwardDiff.Tag{typeof(validation_mse), Float32}, Float32, 4}[Dual{ForwardDiff.Tag{typeof(validation_mse), Float32}}(1.0009537,0.0018737506,1.1896808e-6,-0.0039003587,-0.016039185)]\n",
      "\u001b[38;5;6m\u001b[1m[ \u001b[22m\u001b[39m\u001b[38;5;6m\u001b[1mInfo: \u001b[22m\u001b[39m20220523 02:38:58 training model with parameters ForwardDiff.Dual{ForwardDiff.Tag{typeof(validation_mse), Float32}, Float32, 4}[Dual{ForwardDiff.Tag{typeof(validation_mse), Float32}}(1.0049009,1.0049009,0.0,0.0,0.0), Dual{ForwardDiff.Tag{typeof(validation_mse), Float32}}(1.0000011,0.0,1.0000011,0.0,0.0), Dual{ForwardDiff.Tag{typeof(validation_mse), Float32}}(0.9813896,0.0,0.0,0.9813896,0.0), Dual{ForwardDiff.Tag{typeof(validation_mse), Float32}}(0.9483798,0.0,0.0,0.0,0.9483798)]\n",
      "\u001b[38;5;6m\u001b[1m[ \u001b[22m\u001b[39m\u001b[38;5;6m\u001b[1mInfo: \u001b[22m\u001b[39m20220523 02:39:14 regression coefficients: ForwardDiff.Dual{ForwardDiff.Tag{typeof(validation_mse), Float32}, Float32, 4}[Dual{ForwardDiff.Tag{typeof(validation_mse), Float32}}(1.0009097,0.0018445199,1.145501e-6,-0.003818746,-0.015717568)]\n"
     ]
    },
    {
     "name": "stdout",
     "output_type": "stream",
     "text": [
      "     1     1.818367e+00     1.615661e-02\n",
      " * Current step size: 0.956882\n",
      " * time: 34.644192934036255\n",
      " * g(x): Float32[-0.00087074545, -1.928879f-6, 0.01615661, -0.004676832]\n",
      " * ~inv(H): Float32[1.002769 3.2100588f-6 -0.02979592 -0.008909475; 3.2100586f-6 1.0 -1.6588934f-5 -3.0112096f-5; -0.029795919 -1.6588934f-5 1.1880993 0.24190427; -0.008909461 -3.0112094f-5 0.24190421 0.8677505]\n",
      " * x: Float32[0.004888915, 1.0857359f-6, -0.018785765, -0.053000223]\n"
     ]
    },
    {
     "name": "stderr",
     "output_type": "stream",
     "text": [
      "\u001b[38;5;6m\u001b[1m[ \u001b[22m\u001b[39m\u001b[38;5;6m\u001b[1mInfo: \u001b[22m\u001b[39m20220523 02:39:14 training model with parameters ForwardDiff.Dual{ForwardDiff.Tag{typeof(validation_mse), Float32}, Float32, 4}[Dual{ForwardDiff.Tag{typeof(validation_mse), Float32}}(1.006221,1.006221,0.0,0.0,0.0), Dual{ForwardDiff.Tag{typeof(validation_mse), Float32}}(1.0000031,0.0,1.0000031,0.0,0.0), Dual{ForwardDiff.Tag{typeof(validation_mse), Float32}}(0.9637956,0.0,0.0,0.9637956,0.0), Dual{ForwardDiff.Tag{typeof(validation_mse), Float32}}(0.9485147,0.0,0.0,0.0,0.9485147)]\n",
      "\u001b[38;5;6m\u001b[1m[ \u001b[22m\u001b[39m\u001b[38;5;6m\u001b[1mInfo: \u001b[22m\u001b[39m20220523 02:39:30 regression coefficients: ForwardDiff.Dual{ForwardDiff.Tag{typeof(validation_mse), Float32}, Float32, 4}[Dual{ForwardDiff.Tag{typeof(validation_mse), Float32}}(1.0009806,0.0018881458,1.281918e-6,-0.0039233626,-0.016296247)]\n",
      "\u001b[38;5;6m\u001b[1m[ \u001b[22m\u001b[39m\u001b[38;5;6m\u001b[1mInfo: \u001b[22m\u001b[39m20220523 02:39:30 training model with parameters ForwardDiff.Dual{ForwardDiff.Tag{typeof(validation_mse), Float32}, Float32, 4}[Dual{ForwardDiff.Tag{typeof(validation_mse), Float32}}(1.0115192,1.0115192,0.0,0.0,0.0), Dual{ForwardDiff.Tag{typeof(validation_mse), Float32}}(1.0000113,0.0,1.0000113,0.0,0.0), Dual{ForwardDiff.Tag{typeof(validation_mse), Float32}}(0.8965179,0.0,0.0,0.8965179,0.0), Dual{ForwardDiff.Tag{typeof(validation_mse), Float32}}(0.9490544,0.0,0.0,0.0,0.9490544)]\n",
      "\u001b[38;5;6m\u001b[1m[ \u001b[22m\u001b[39m\u001b[38;5;6m\u001b[1mInfo: \u001b[22m\u001b[39m20220523 02:39:46 regression coefficients: ForwardDiff.Dual{ForwardDiff.Tag{typeof(validation_mse), Float32}, Float32, 4}[Dual{ForwardDiff.Tag{typeof(validation_mse), Float32}}(1.0012797,0.002071109,2.007029e-6,-0.0043484434,-0.018713236)]\n",
      "\u001b[38;5;6m\u001b[1m[ \u001b[22m\u001b[39m\u001b[38;5;6m\u001b[1mInfo: \u001b[22m\u001b[39m20220523 02:39:47 training model with parameters ForwardDiff.Dual{ForwardDiff.Tag{typeof(validation_mse), Float32}, Float32, 4}[Dual{ForwardDiff.Tag{typeof(validation_mse), Float32}}(1.0384313,1.0384313,0.0,0.0,0.0), Dual{ForwardDiff.Tag{typeof(validation_mse), Float32}}(1.0000526,0.0,1.0000526,0.0,0.0), Dual{ForwardDiff.Tag{typeof(validation_mse), Float32}}(0.62435126,0.0,0.0,0.62435126,0.0), Dual{ForwardDiff.Tag{typeof(validation_mse), Float32}}(0.9517576,0.0,0.0,0.0,0.9517576)]\n",
      "\u001b[38;5;6m\u001b[1m[ \u001b[22m\u001b[39m\u001b[38;5;6m\u001b[1mInfo: \u001b[22m\u001b[39m20220523 02:40:02 regression coefficients: ForwardDiff.Dual{ForwardDiff.Tag{typeof(validation_mse), Float32}, Float32, 4}[Dual{ForwardDiff.Tag{typeof(validation_mse), Float32}}(1.0030121,0.0028870946,1.5511658e-5,-0.0047041466,-0.029918464)]\n",
      "\u001b[38;5;6m\u001b[1m[ \u001b[22m\u001b[39m\u001b[38;5;6m\u001b[1mInfo: \u001b[22m\u001b[39m20220523 02:40:03 training model with parameters ForwardDiff.Dual{ForwardDiff.Tag{typeof(validation_mse), Float32}, Float32, 4}[Dual{ForwardDiff.Tag{typeof(validation_mse), Float32}}(1.0149428,1.0149428,0.0,0.0,0.0), Dual{ForwardDiff.Tag{typeof(validation_mse), Float32}}(1.0000167,0.0,1.0000167,0.0,0.0), Dual{ForwardDiff.Tag{typeof(validation_mse), Float32}}(0.85573536,0.0,0.0,0.85573536,0.0), Dual{ForwardDiff.Tag{typeof(validation_mse), Float32}}(0.9494018,0.0,0.0,0.0,0.9494018)]\n",
      "\u001b[38;5;6m\u001b[1m[ \u001b[22m\u001b[39m\u001b[38;5;6m\u001b[1mInfo: \u001b[22m\u001b[39m20220523 02:40:19 regression coefficients: ForwardDiff.Dual{ForwardDiff.Tag{typeof(validation_mse), Float32}, Float32, 4}[Dual{ForwardDiff.Tag{typeof(validation_mse), Float32}}(1.0014888,0.0021947385,2.669678e-6,-0.004618532,-0.02034215)]\n"
     ]
    },
    {
     "name": "stdout",
     "output_type": "stream",
     "text": [
      "     2     1.816575e+00     3.412446e-02\n",
      " * Current step size: 7.5736\n",
      " * time: 99.65621089935303\n",
      " * g(x): Float32[0.0019755391, -8.903308f-7, 0.008571058, -0.034124464]\n",
      " * ~inv(H): Float32[1.1206403 0.00021859455 -1.9403373 0.27047646; 0.00021859453 1.0000004 -0.0034334897 0.0004113274; -1.9403372 -0.00343349 31.45963 -3.6387665; 0.27047646 0.0004113274 -3.6387665 0.9268942]\n",
      " * x: Float32[0.014832215, 1.6678765f-5, -0.15579411, -0.051923156]\n"
     ]
    },
    {
     "name": "stderr",
     "output_type": "stream",
     "text": [
      "\u001b[38;5;6m\u001b[1m[ \u001b[22m\u001b[39m\u001b[38;5;6m\u001b[1mInfo: \u001b[22m\u001b[39m20220523 02:40:19 training model with parameters ForwardDiff.Dual{ForwardDiff.Tag{typeof(validation_mse), Float32}, Float32, 4}[Dual{ForwardDiff.Tag{typeof(validation_mse), Float32}}(1.0392289,1.0392289,0.0,0.0,0.0), Dual{ForwardDiff.Tag{typeof(validation_mse), Float32}}(1.0000606,0.0,1.0000606,0.0,0.0), Dual{ForwardDiff.Tag{typeof(validation_mse), Float32}}(0.5793931,0.0,0.0,0.5793931,0.0), Dual{ForwardDiff.Tag{typeof(validation_mse), Float32}}(1.0104142,0.0,0.0,0.0,1.0104142)]\n",
      "\u001b[38;5;6m\u001b[1m[ \u001b[22m\u001b[39m\u001b[38;5;6m\u001b[1mInfo: \u001b[22m\u001b[39m20220523 02:40:35 regression coefficients: ForwardDiff.Dual{ForwardDiff.Tag{typeof(validation_mse), Float32}, Float32, 4}[Dual{ForwardDiff.Tag{typeof(validation_mse), Float32}}(1.0017363,0.0022088364,9.673304e-6,-0.0031241174,-0.022772381)]\n",
      "\u001b[38;5;6m\u001b[1m[ \u001b[22m\u001b[39m\u001b[38;5;6m\u001b[1mInfo: \u001b[22m\u001b[39m20220523 02:40:35 training model with parameters ForwardDiff.Dual{ForwardDiff.Tag{typeof(validation_mse), Float32}, Float32, 4}[Dual{ForwardDiff.Tag{typeof(validation_mse), Float32}}(1.0247425,1.0247425,0.0,0.0,0.0), Dual{ForwardDiff.Tag{typeof(validation_mse), Float32}}(1.0000346,0.0,1.0000346,0.0,0.0), Dual{ForwardDiff.Tag{typeof(validation_mse), Float32}}(0.7303237,0.0,0.0,0.7303237,0.0), Dual{ForwardDiff.Tag{typeof(validation_mse), Float32}}(0.97373754,0.0,0.0,0.0,0.97373754)]\n",
      "\u001b[38;5;6m\u001b[1m[ \u001b[22m\u001b[39m\u001b[38;5;6m\u001b[1mInfo: \u001b[22m\u001b[39m20220523 02:40:51 regression coefficients: ForwardDiff.Dual{ForwardDiff.Tag{typeof(validation_mse), Float32}, Float32, 4}[Dual{ForwardDiff.Tag{typeof(validation_mse), Float32}}(1.001665,0.002282148,4.878261e-6,-0.0044952,-0.022245076)]\n"
     ]
    },
    {
     "name": "stdout",
     "output_type": "stream",
     "text": [
      "     3     1.814979e+00     3.795251e-02\n",
      " * Current step size: 0.40636268\n",
      " * time: 132.09352684020996\n",
      " * g(x): Float32[0.003053072, 8.7509525f-6, -0.0003490691, -0.03795251]\n",
      " * ~inv(H): Float32[1.0579088 5.5293833f-5 -1.046945 0.22718185; 5.529383f-5 0.99999994 -0.0010025722 0.00020769962; -1.046945 -0.0010025722 19.054071 -3.2965899; 0.2271819 0.0002076997 -3.2965899 1.1340265]\n",
      " * x: Float32[0.024441367, 3.4527617f-5, -0.31426746, -0.026613463]\n"
     ]
    },
    {
     "name": "stderr",
     "output_type": "stream",
     "text": [
      "\u001b[38;5;6m\u001b[1m[ \u001b[22m\u001b[39m\u001b[38;5;6m\u001b[1mInfo: \u001b[22m\u001b[39m20220523 02:40:52 training model with parameters ForwardDiff.Dual{ForwardDiff.Tag{typeof(validation_mse), Float32}, Float32, 4}[Dual{ForwardDiff.Tag{typeof(validation_mse), Float32}}(1.0299066,1.0299066,0.0,0.0,0.0), Dual{ForwardDiff.Tag{typeof(validation_mse), Float32}}(1.0000331,0.0,1.0000331,0.0,0.0), Dual{ForwardDiff.Tag{typeof(validation_mse), Float32}}(0.6508125,0.0,0.0,0.6508125,0.0), Dual{ForwardDiff.Tag{typeof(validation_mse), Float32}}(1.0146881,0.0,0.0,0.0,1.0146881)]\n",
      "\u001b[38;5;6m\u001b[1m[ \u001b[22m\u001b[39m\u001b[38;5;6m\u001b[1mInfo: \u001b[22m\u001b[39m20220523 02:41:07 regression coefficients: ForwardDiff.Dual{ForwardDiff.Tag{typeof(validation_mse), Float32}, Float32, 4}[Dual{ForwardDiff.Tag{typeof(validation_mse), Float32}}(1.0012679,0.001979024,5.13117e-6,-0.0034571907,-0.019530693)]\n",
      "\u001b[38;5;6m\u001b[1m[ \u001b[22m\u001b[39m\u001b[38;5;6m\u001b[1mInfo: \u001b[22m\u001b[39m20220523 02:41:08 training model with parameters ForwardDiff.Dual{ForwardDiff.Tag{typeof(validation_mse), Float32}, Float32, 4}[Dual{ForwardDiff.Tag{typeof(validation_mse), Float32}}(1.0289737,1.0289737,0.0,0.0,0.0), Dual{ForwardDiff.Tag{typeof(validation_mse), Float32}}(1.0000334,0.0,1.0000334,0.0,0.0), Dual{ForwardDiff.Tag{typeof(validation_mse), Float32}}(0.6644789,0.0,0.0,0.6644789,0.0), Dual{ForwardDiff.Tag{typeof(validation_mse), Float32}}(1.00718,0.0,0.0,0.0,1.00718)]\n",
      "\u001b[38;5;6m\u001b[1m[ \u001b[22m\u001b[39m\u001b[38;5;6m\u001b[1mInfo: \u001b[22m\u001b[39m20220523 02:41:24 regression coefficients: ForwardDiff.Dual{ForwardDiff.Tag{typeof(validation_mse), Float32}, Float32, 4}[Dual{ForwardDiff.Tag{typeof(validation_mse), Float32}}(1.001348,0.0020371964,5.1227357e-6,-0.0036486564,-0.020062458)]\n"
     ]
    },
    {
     "name": "stdout",
     "output_type": "stream",
     "text": [
      "     4     1.814380e+00     2.914158e-03\n",
      " * Current step size: 0.8197086\n",
      " * time: 164.4693968296051\n",
      " * g(x): Float32[0.00016038252, 2.1598822f-5, 0.0008729245, 0.0029141582]\n",
      " * ~inv(H): Float32[1.0557665 -1.423266f-5 -1.0141811 0.20588501; -1.4232661f-5 0.99999994 0.00059621065 -0.00036104128; -1.0141811 0.00059621077 18.677935 -2.9423196; 0.20588505 -0.00036104122 -2.94232 0.9288452]\n",
      " * x: Float32[0.028561871, 3.339067f-5, -0.4087522, 0.0071542785]\n"
     ]
    },
    {
     "name": "stderr",
     "output_type": "stream",
     "text": [
      "\u001b[38;5;6m\u001b[1m[ \u001b[22m\u001b[39m\u001b[38;5;6m\u001b[1mInfo: \u001b[22m\u001b[39m20220523 02:41:24 training model with parameters ForwardDiff.Dual{ForwardDiff.Tag{typeof(validation_mse), Float32}, Float32, 4}[Dual{ForwardDiff.Tag{typeof(validation_mse), Float32}}(1.029093,1.029093,0.0,0.0,0.0), Dual{ForwardDiff.Tag{typeof(validation_mse), Float32}}(1.0000123,0.0,1.0000123,0.0,0.0), Dual{ForwardDiff.Tag{typeof(validation_mse), Float32}}(0.6594695,0.0,0.0,0.6594695,0.0), Dual{ForwardDiff.Tag{typeof(validation_mse), Float32}}(1.0070074,0.0,0.0,0.0,1.0070074)]\n",
      "\u001b[38;5;6m\u001b[1m[ \u001b[22m\u001b[39m\u001b[38;5;6m\u001b[1mInfo: \u001b[22m\u001b[39m20220523 02:43:33 regression coefficients: ForwardDiff.Dual{ForwardDiff.Tag{typeof(validation_mse), Float32}, Float32, 4}[Dual{ForwardDiff.Tag{typeof(validation_mse), Float32}}(1.0013605,0.002051419,5.469119e-6,-0.0036756962,-0.02023075)]\n",
      "\u001b[38;5;6m\u001b[1m[ \u001b[22m\u001b[39m\u001b[38;5;6m\u001b[1mInfo: \u001b[22m\u001b[39m20220523 02:43:34 training model with parameters ForwardDiff.Dual{ForwardDiff.Tag{typeof(validation_mse), Float32}, Float32, 4}[Dual{ForwardDiff.Tag{typeof(validation_mse), Float32}}(0.87879634,0.87879634,0.0,0.0,0.0), Dual{ForwardDiff.Tag{typeof(validation_mse), Float32}}(0.9914526,0.0,0.9914526,0.0,0.0), Dual{ForwardDiff.Tag{typeof(validation_mse), Float32}}(0.65591544,0.0,0.0,0.65591544,0.0), Dual{ForwardDiff.Tag{typeof(validation_mse), Float32}}(0.9955512,0.0,0.0,0.0,0.9955512)]\n",
      "\u001b[38;5;6m\u001b[1m[ \u001b[22m\u001b[39m\u001b[38;5;6m\u001b[1mInfo: \u001b[22m\u001b[39m20220523 02:43:50 regression coefficients: ForwardDiff.Dual{ForwardDiff.Tag{typeof(validation_mse), Float32}, Float32, 4}[Dual{ForwardDiff.Tag{typeof(validation_mse), Float32}}(1.0013016,0.0020361287,6.339872e-6,-0.0036665765,-0.020044051)]\n",
      "\u001b[38;5;6m\u001b[1m[ \u001b[22m\u001b[39m\u001b[38;5;6m\u001b[1mInfo: \u001b[22m\u001b[39m20220523 02:43:50 training model with parameters ForwardDiff.Dual{ForwardDiff.Tag{typeof(validation_mse), Float32}, Float32, 4}[Dual{ForwardDiff.Tag{typeof(validation_mse), Float32}}(0.4700676,0.4700676,0.0,0.0,0.0), Dual{ForwardDiff.Tag{typeof(validation_mse), Float32}}(0.9581852,0.0,0.9581852,0.0,0.0), Dual{ForwardDiff.Tag{typeof(validation_mse), Float32}}(0.6289554,0.0,0.0,0.6289554,0.0), Dual{ForwardDiff.Tag{typeof(validation_mse), Float32}}(0.9544896,0.0,0.0,0.0,0.9544896)]\n",
      "\u001b[38;5;6m\u001b[1m[ \u001b[22m\u001b[39m\u001b[38;5;6m\u001b[1mInfo: \u001b[22m\u001b[39m20220523 02:44:06 regression coefficients: ForwardDiff.Dual{ForwardDiff.Tag{typeof(validation_mse), Float32}, Float32, 4}[Dual{ForwardDiff.Tag{typeof(validation_mse), Float32}}(1.0010338,0.0019539509,1.2988102e-5,-0.0036270225,-0.01907549)]\n",
      "\u001b[38;5;6m\u001b[1m[ \u001b[22m\u001b[39m\u001b[38;5;6m\u001b[1mInfo: \u001b[22m\u001b[39m20220523 02:44:06 training model with parameters ForwardDiff.Dual{ForwardDiff.Tag{typeof(validation_mse), Float32}, Float32, 4}[Dual{ForwardDiff.Tag{typeof(validation_mse), Float32}}(0.7631772,0.7631772,0.0,0.0,0.0), Dual{ForwardDiff.Tag{typeof(validation_mse), Float32}}(0.9838528,0.0,0.9838528,0.0,0.0), Dual{ForwardDiff.Tag{typeof(validation_mse), Float32}}(0.649738,0.0,0.0,0.649738,0.0), Dual{ForwardDiff.Tag{typeof(validation_mse), Float32}}(0.98614204,0.0,0.0,0.0,0.98614204)]\n",
      "\u001b[38;5;6m\u001b[1m[ \u001b[22m\u001b[39m\u001b[38;5;6m\u001b[1mInfo: \u001b[22m\u001b[39m20220523 02:44:22 regression coefficients: ForwardDiff.Dual{ForwardDiff.Tag{typeof(validation_mse), Float32}, Float32, 4}[Dual{ForwardDiff.Tag{typeof(validation_mse), Float32}}(1.0012362,0.0020184068,7.4753552e-6,-0.003656534,-0.019829374)]\n"
     ]
    },
    {
     "name": "stdout",
     "output_type": "stream",
     "text": [
      "     7     1.814313e+00     2.896635e-04\n",
      " * Current step size: 237.72826\n",
      " * time: 343.20571780204773\n",
      " * g(x): Float32[-2.82641f-5, 3.1898708f-5, 0.00020390419, 0.0002896635]\n",
      " * ~inv(H): Float32[722.5036 39.4396 48.93262 49.49653; 39.4396 3.1559913 2.7142951 2.694774; 48.932617 2.714295 17.317152 0.61425453; 49.496525 2.6947737 0.61425364 4.332232]\n",
      " * x: Float32[-0.270265, -0.016278984, -0.4311861, -0.013954893]\n"
     ]
    },
    {
     "name": "stderr",
     "output_type": "stream",
     "text": [
      "\u001b[38;5;6m\u001b[1m[ \u001b[22m\u001b[39m\u001b[38;5;6m\u001b[1mInfo: \u001b[22m\u001b[39m20220523 02:44:23 training model with parameters ForwardDiff.Dual{ForwardDiff.Tag{typeof(validation_mse), Float32}, Float32, 4}[Dual{ForwardDiff.Tag{typeof(validation_mse), Float32}}(0.7592554,0.7592554,0.0,0.0,0.0), Dual{ForwardDiff.Tag{typeof(validation_mse), Float32}}(0.98353803,0.0,0.98353803,0.0,0.0), Dual{ForwardDiff.Tag{typeof(validation_mse), Float32}}(0.6481724,0.0,0.0,0.6481724,0.0), Dual{ForwardDiff.Tag{typeof(validation_mse), Float32}}(0.9860758,0.0,0.0,0.0,0.9860758)]\n",
      "\u001b[38;5;6m\u001b[1m[ \u001b[22m\u001b[39m\u001b[38;5;6m\u001b[1mInfo: \u001b[22m\u001b[39m20220523 02:44:39 regression coefficients: ForwardDiff.Dual{ForwardDiff.Tag{typeof(validation_mse), Float32}, Float32, 4}[Dual{ForwardDiff.Tag{typeof(validation_mse), Float32}}(1.0012355,0.0020178615,7.5714242e-6,-0.0036487915,-0.01983415)]\n",
      "\u001b[38;5;6m\u001b[1m[ \u001b[22m\u001b[39m\u001b[38;5;6m\u001b[1mInfo: \u001b[22m\u001b[39m20220523 02:44:39 training model with parameters ForwardDiff.Dual{ForwardDiff.Tag{typeof(validation_mse), Float32}, Float32, 4}[Dual{ForwardDiff.Tag{typeof(validation_mse), Float32}}(0.759415,0.759415,0.0,0.0,0.0), Dual{ForwardDiff.Tag{typeof(validation_mse), Float32}}(0.9835509,0.0,0.9835509,0.0,0.0), Dual{ForwardDiff.Tag{typeof(validation_mse), Float32}}(0.64823616,0.0,0.0,0.64823616,0.0), Dual{ForwardDiff.Tag{typeof(validation_mse), Float32}}(0.98607856,0.0,0.0,0.0,0.98607856)]\n",
      "\u001b[38;5;6m\u001b[1m[ \u001b[22m\u001b[39m\u001b[38;5;6m\u001b[1mInfo: \u001b[22m\u001b[39m20220523 02:44:55 regression coefficients: ForwardDiff.Dual{ForwardDiff.Tag{typeof(validation_mse), Float32}, Float32, 4}[Dual{ForwardDiff.Tag{typeof(validation_mse), Float32}}(1.0012352,0.002017905,7.5673875e-6,-0.0036495354,-0.019835752)]\n"
     ]
    },
    {
     "name": "stdout",
     "output_type": "stream",
     "text": [
      "     8     1.814313e+00     3.265770e-05\n",
      " * Current step size: 0.959205\n",
      " * time: 376.09922885894775\n",
      " * g(x): Float32[-5.2927993f-7, 3.26577f-5, -2.6372782f-6, -1.0431475f-5]\n",
      " * ~inv(H): Float32[726.86676 40.132885 49.449295 49.712696; 40.13289 3.2252777 2.9441333 2.7137015; 49.44929 2.944133 16.844332 0.6955914; 49.712692 2.7137012 0.6955905 4.3371243]\n",
      " * x: Float32[-0.2752069, -0.01658591, -0.4335002, -0.014019278]\n"
     ]
    },
    {
     "name": "stderr",
     "output_type": "stream",
     "text": [
      "\u001b[38;5;6m\u001b[1m[ \u001b[22m\u001b[39m\u001b[38;5;6m\u001b[1mInfo: \u001b[22m\u001b[39m20220523 02:44:56 training model with parameters ForwardDiff.Dual{ForwardDiff.Tag{typeof(validation_mse), Float32}, Float32, 4}[Dual{ForwardDiff.Tag{typeof(validation_mse), Float32}}(0.7592047,0.7592047,0.0,0.0,0.0), Dual{ForwardDiff.Tag{typeof(validation_mse), Float32}}(0.98350364,0.0,0.98350364,0.0,0.0), Dual{ForwardDiff.Tag{typeof(validation_mse), Float32}}(0.6482243,0.0,0.0,0.6482243,0.0), Dual{ForwardDiff.Tag{typeof(validation_mse), Float32}}(0.98606354,0.0,0.0,0.0,0.98606354)]\n",
      "\u001b[38;5;6m\u001b[1m[ \u001b[22m\u001b[39m\u001b[38;5;6m\u001b[1mInfo: \u001b[22m\u001b[39m20220523 02:45:12 regression coefficients: ForwardDiff.Dual{ForwardDiff.Tag{typeof(validation_mse), Float32}, Float32, 4}[Dual{ForwardDiff.Tag{typeof(validation_mse), Float32}}(1.001235,0.0020178044,7.569275e-6,-0.0036491402,-0.019833054)]\n",
      "\u001b[38;5;6m\u001b[1m[ \u001b[22m\u001b[39m\u001b[38;5;6m\u001b[1mInfo: \u001b[22m\u001b[39m20220523 02:45:12 training model with parameters ForwardDiff.Dual{ForwardDiff.Tag{typeof(validation_mse), Float32}, Float32, 4}[Dual{ForwardDiff.Tag{typeof(validation_mse), Float32}}(0.75836414,0.75836414,0.0,0.0,0.0), Dual{ForwardDiff.Tag{typeof(validation_mse), Float32}}(0.98331475,0.0,0.98331475,0.0,0.0), Dual{ForwardDiff.Tag{typeof(validation_mse), Float32}}(0.64817685,0.0,0.0,0.64817685,0.0), Dual{ForwardDiff.Tag{typeof(validation_mse), Float32}}(0.9860034,0.0,0.0,0.0,0.9860034)]\n",
      "\u001b[38;5;6m\u001b[1m[ \u001b[22m\u001b[39m\u001b[38;5;6m\u001b[1mInfo: \u001b[22m\u001b[39m20220523 02:45:28 regression coefficients: ForwardDiff.Dual{ForwardDiff.Tag{typeof(validation_mse), Float32}, Float32, 4}[Dual{ForwardDiff.Tag{typeof(validation_mse), Float32}}(1.0012344,0.0020174677,7.576691e-6,-0.0036484927,-0.019829653)]\n",
      "\u001b[38;5;6m\u001b[1m[ \u001b[22m\u001b[39m\u001b[38;5;6m\u001b[1mInfo: \u001b[22m\u001b[39m20220523 02:45:28 training model with parameters ForwardDiff.Dual{ForwardDiff.Tag{typeof(validation_mse), Float32}, Float32, 4}[Dual{ForwardDiff.Tag{typeof(validation_mse), Float32}}(0.7541753,0.7541753,0.0,0.0,0.0), Dual{ForwardDiff.Tag{typeof(validation_mse), Float32}}(0.9823709,0.0,0.9823709,0.0,0.0), Dual{ForwardDiff.Tag{typeof(validation_mse), Float32}}(0.6479397,0.0,0.0,0.6479397,0.0), Dual{ForwardDiff.Tag{typeof(validation_mse), Float32}}(0.98570305,0.0,0.0,0.0,0.98570305)]\n",
      "\u001b[38;5;6m\u001b[1m[ \u001b[22m\u001b[39m\u001b[38;5;6m\u001b[1mInfo: \u001b[22m\u001b[39m20220523 02:45:44 regression coefficients: ForwardDiff.Dual{ForwardDiff.Tag{typeof(validation_mse), Float32}, Float32, 4}[Dual{ForwardDiff.Tag{typeof(validation_mse), Float32}}(1.0012308,0.0020158824,7.6137776e-6,-0.0036465114,-0.019811904)]\n",
      "\u001b[38;5;6m\u001b[1m[ \u001b[22m\u001b[39m\u001b[38;5;6m\u001b[1mInfo: \u001b[22m\u001b[39m20220523 02:45:45 training model with parameters ForwardDiff.Dual{ForwardDiff.Tag{typeof(validation_mse), Float32}, Float32, 4}[Dual{ForwardDiff.Tag{typeof(validation_mse), Float32}}(0.75764817,0.75764817,0.0,0.0,0.0), Dual{ForwardDiff.Tag{typeof(validation_mse), Float32}}(0.98315376,0.0,0.98315376,0.0,0.0), Dual{ForwardDiff.Tag{typeof(validation_mse), Float32}}(0.64813644,0.0,0.0,0.64813644,0.0), Dual{ForwardDiff.Tag{typeof(validation_mse), Float32}}(0.9859522,0.0,0.0,0.0,0.9859522)]\n",
      "\u001b[38;5;6m\u001b[1m[ \u001b[22m\u001b[39m\u001b[38;5;6m\u001b[1mInfo: \u001b[22m\u001b[39m20220523 02:46:01 regression coefficients: ForwardDiff.Dual{ForwardDiff.Tag{typeof(validation_mse), Float32}, Float32, 4}[Dual{ForwardDiff.Tag{typeof(validation_mse), Float32}}(1.0012337,0.0020172265,7.5829903e-6,-0.0036483803,-0.019828275)]\n"
     ]
    },
    {
     "name": "stdout",
     "output_type": "stream",
     "text": [
      "     9     1.814313e+00     6.797120e-05\n",
      " * Current step size: 8.410485\n",
      " * time: 441.56371879577637\n",
      " * g(x): Float32[-1.0208426f-5, 3.272439f-5, 1.344871f-5, 6.79712f-5]\n",
      " * ~inv(H): Float32[722.35156 104.015 49.533615 49.217503; 104.015 25.512653 7.2309823 6.1849666; 49.533615 7.2309823 16.875181 0.68392307; 49.2175 6.1849666 0.68392223 4.296307]\n",
      " * x: Float32[-0.27753612, -0.01698975, -0.4336541, -0.0141474055]\n"
     ]
    }
   ],
   "source": [
    "# Find the best regularization hyperparameters\n",
    "res = Optim.optimize(\n",
    "    validation_mse,\n",
    "    fill(0.0f0, 4),\n",
    "    Optim.BFGS(),\n",
    "    autodiff = :forward,\n",
    "    Optim.Options(show_trace = true, extended_trace = true),\n",
    ");\n",
    "λ = exp.(Optim.minimizer(res));"
   ]
  },
  {
   "cell_type": "code",
   "execution_count": 13,
   "id": "5e71e197-1810-46ac-9be5-4847747fce90",
   "metadata": {},
   "outputs": [
    {
     "name": "stderr",
     "output_type": "stream",
     "text": [
      "\u001b[38;5;6m\u001b[1m[ \u001b[22m\u001b[39m\u001b[38;5;6m\u001b[1mInfo: \u001b[22m\u001b[39m20220523 02:46:01 The optimal λ is Float32[0.75764817, 0.98315376, 0.64813644, 0.9859522], found in 28 function calls\n"
     ]
    }
   ],
   "source": [
    "@info \"The optimal λ is $λ, found in \" * repr(Optim.f_calls(res)) * \" function calls\""
   ]
  },
  {
   "cell_type": "code",
   "execution_count": 18,
   "id": "781a2388-df56-42ce-8e58-b4a11a4e4d0b",
   "metadata": {},
   "outputs": [
    {
     "name": "stderr",
     "output_type": "stream",
     "text": [
      "\u001b[38;5;6m\u001b[1m[ \u001b[22m\u001b[39m\u001b[38;5;6m\u001b[1mInfo: \u001b[22m\u001b[39m20220523 04:38:29 training model with parameters Float32[0.75764817, 0.98315376, 0.64813644, 0.9859522]\n"
     ]
    }
   ],
   "source": [
    "stop_criteria = convergence_stopper(1e-6, max_iters = 16)\n",
    "u, a = train_model(training, stop_criteria, implicit, λ);"
   ]
  },
  {
   "cell_type": "code",
   "execution_count": 19,
   "id": "4789cb8f-8d75-476e-ae4d-0e1e2789f4cc",
   "metadata": {},
   "outputs": [],
   "source": [
    "#[ Info: 20220522 21:58:57 The optimal λ is Float32[0.74455047, 0.00085658807, 0.6458768, 0.9851336], found in 22 function calls"
   ]
  },
  {
   "cell_type": "code",
   "execution_count": 41,
   "id": "49a78dff-fbb8-4b4e-8c59-f53774d5c47c",
   "metadata": {},
   "outputs": [
    {
     "name": "stderr",
     "output_type": "stream",
     "text": [
      "\u001b[38;5;6m\u001b[1m[ \u001b[22m\u001b[39m\u001b[38;5;6m\u001b[1mInfo: \u001b[22m\u001b[39m20220523 04:47:08 training model with parameters Float32[0.75764817, 0.98315376, 0.64813644, 0.9859522]\n",
      "\u001b[38;5;6m\u001b[1m[ \u001b[22m\u001b[39m\u001b[38;5;6m\u001b[1mInfo: \u001b[22m\u001b[39m20220523 04:47:13 regression coefficients: Float32[0.99971974]\n"
     ]
    },
    {
     "data": {
      "text/plain": [
       "1.8145473f0"
      ]
     },
     "execution_count": 41,
     "metadata": {},
     "output_type": "execute_result"
    }
   ],
   "source": [
    "validation_mse(Optim.minimizer(res))"
   ]
  },
  {
   "cell_type": "markdown",
   "id": "7c291e04-b1ba-48a0-ac09-25eda75a6162",
   "metadata": {},
   "source": [
    "## Inference"
   ]
  },
  {
   "cell_type": "code",
   "execution_count": 21,
   "id": "09dc7ac8-4839-476e-acdc-4687262d8623",
   "metadata": {},
   "outputs": [
    {
     "name": "stderr",
     "output_type": "stream",
     "text": [
      "\u001b[38;5;6m\u001b[1m[ \u001b[22m\u001b[39m\u001b[38;5;6m\u001b[1mInfo: \u001b[22m\u001b[39m20220523 04:39:10 regression coefficients: Float32[0.99971974]\n",
      "\u001b[38;5;6m\u001b[1m[ \u001b[22m\u001b[39m\u001b[38;5;6m\u001b[1mInfo: \u001b[22m\u001b[39m20220523 04:39:11 validation loss: 1.8145473\n",
      "\u001b[38;5;6m\u001b[1m[ \u001b[22m\u001b[39m\u001b[38;5;6m\u001b[1mInfo: \u001b[22m\u001b[39m20220523 04:39:14 training loss: 1.6736505\n"
     ]
    }
   ],
   "source": [
    "model(users, items) = make_prediction(users, items, u, a, implicit)\n",
    "write_alpha(model, residual_alphas, implicit);"
   ]
  },
  {
   "cell_type": "code",
   "execution_count": 28,
   "id": "206b9211-e292-455c-8cd3-6e06bac52730",
   "metadata": {},
   "outputs": [],
   "source": [
    "a = read_alpha(\"UserItemBiases\", \"validation\").rating;"
   ]
  },
  {
   "cell_type": "code",
   "execution_count": 37,
   "id": "386a31e2-8b80-4b79-82d5-66066109306b",
   "metadata": {},
   "outputs": [
    {
     "name": "stderr",
     "output_type": "stream",
     "text": [
      "\u001b[38;5;6m\u001b[1m[ \u001b[22m\u001b[39m\u001b[38;5;6m\u001b[1mInfo: \u001b[22m\u001b[39m20220523 04:43:45 regression coefficients: Float32[0.99971974]\n"
     ]
    },
    {
     "data": {
      "text/plain": [
       "1.8145473f0"
      ]
     },
     "execution_count": 37,
     "metadata": {},
     "output_type": "execute_result"
    }
   ],
   "source": [
    "residualized_loss(a, residual_alphas, implicit)"
   ]
  },
  {
   "cell_type": "code",
   "execution_count": 34,
   "id": "24d90d98-dbea-44f1-8e9b-e0bf61130cb0",
   "metadata": {},
   "outputs": [
    {
     "data": {
      "text/plain": [
       "1.8144825f0"
      ]
     },
     "execution_count": 34,
     "metadata": {},
     "output_type": "execute_result"
    }
   ],
   "source": [
    "loss(a, validation.rating, get_weights(\"validation\", \"inverse\"), implicit)"
   ]
  },
  {
   "cell_type": "code",
   "execution_count": 17,
   "id": "c4c83363-c309-46e5-ba51-252ad0d3871a",
   "metadata": {},
   "outputs": [
    {
     "ename": "LoadError",
     "evalue": "UndefVarError: u not defined",
     "output_type": "error",
     "traceback": [
      "UndefVarError: u not defined",
      "",
      "Stacktrace:",
      " [1] top-level scope",
      "   @ In[17]:1",
      " [2] eval",
      "   @ ./boot.jl:373 [inlined]",
      " [3] include_string(mapexpr::typeof(REPL.softscope), mod::Module, code::String, filename::String)",
      "   @ Base ./loading.jl:1196"
     ]
    }
   ],
   "source": [
    "write_params(Dict(\"u\" => u, \"a\" => a, \"λ\" => λ));"
   ]
  },
  {
   "cell_type": "code",
   "execution_count": null,
   "id": "a7a78fe3-ea8d-4573-a375-6fbef0272463",
   "metadata": {},
   "outputs": [],
   "source": []
  }
 ],
 "metadata": {
  "kernelspec": {
   "display_name": "Julia 1.7.2",
   "language": "julia",
   "name": "julia-1.7"
  },
  "language_info": {
   "file_extension": ".jl",
   "mimetype": "application/julia",
   "name": "julia",
   "version": "1.7.2"
  }
 },
 "nbformat": 4,
 "nbformat_minor": 5
}
