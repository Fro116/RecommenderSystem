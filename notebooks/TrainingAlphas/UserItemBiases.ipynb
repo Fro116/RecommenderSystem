{
 "cells": [
  {
   "cell_type": "markdown",
   "id": "c3758ece-9b72-47b4-ae6a-aa364e0443e3",
   "metadata": {},
   "source": [
    "# User Item Biases With Regularization\n",
    "* Prediction for user $i$ and item $j$ is $\\tilde r_{ij} = u_i + a_j$\n",
    "* Loss function is $L = \\sum_{ij}(r_{ij} - u_i - a_j)^2 + \\lambda_u \\sum_i (u_i - \\bar u) ^2 + \\lambda_a \\sum_j (a_j - \\bar a)^2 $\n",
    "* $\\bar u$ is the mean of $u_i$ and $\\bar a$ is the mean of $a_j$ "
   ]
  },
  {
   "cell_type": "code",
   "execution_count": 1,
   "id": "5f693eb8-9aab-4305-a6ee-17e885f3f24d",
   "metadata": {
    "tags": []
   },
   "outputs": [],
   "source": [
    "using CSV\n",
    "using DataFrames\n",
    "using FileIO\n",
    "using JLD2\n",
    "using JupyterFormatter\n",
    "using Optim\n",
    "using Statistics\n",
    "import Metrics"
   ]
  },
  {
   "cell_type": "code",
   "execution_count": 2,
   "id": "673b70f5-bfbf-4975-8125-2e96a962e0ee",
   "metadata": {},
   "outputs": [],
   "source": [
    "enable_autoformat();"
   ]
  },
  {
   "cell_type": "code",
   "execution_count": 3,
   "id": "f39d7a7e-403e-4104-b2a8-f5c48da9c7cc",
   "metadata": {},
   "outputs": [],
   "source": [
    "function get_split(split)\n",
    "    @assert split in [\"training\", \"validation\"]\n",
    "    file = \"../../data/splits/$(split).csv\"\n",
    "    df = DataFrame(CSV.File(file))\n",
    "    df.username .+= 1 # julia is 1 indexed\n",
    "    df.anime_id .+= 1\n",
    "    df.my_score = float(df.my_score)\n",
    "    return df\n",
    "end;"
   ]
  },
  {
   "cell_type": "code",
   "execution_count": 4,
   "id": "fefb5dc5-d13a-4087-8e86-c227d95705ec",
   "metadata": {},
   "outputs": [],
   "source": [
    "function write_prediction(df, split)\n",
    "    @assert split in [\"validation\"]\n",
    "    outdir = \"../../data/alphas/$name\"\n",
    "    if !isdir(outdir)\n",
    "        mkpath(outdir)\n",
    "    end\n",
    "    df = copy(df)\n",
    "    df.username .-= 1\n",
    "    df.anime_id .-= 1\n",
    "    CSV.write(\"$(outdir)/$(split).csv\", df)\n",
    "end;"
   ]
  },
  {
   "cell_type": "code",
   "execution_count": 5,
   "id": "386cb53a-0f89-445c-a66f-a4e6299d979e",
   "metadata": {},
   "outputs": [],
   "source": [
    "function write_model(params)\n",
    "    outdir = \"../../data/alphas/$name\"\n",
    "    if !isdir(outdir)\n",
    "        mkpath(outdir)\n",
    "    end\n",
    "    save(\"$(outdir)/model.jld2\", params)\n",
    "end;"
   ]
  },
  {
   "cell_type": "code",
   "execution_count": 6,
   "id": "48c27994-a711-4e6f-9c8d-2363f01344e9",
   "metadata": {},
   "outputs": [],
   "source": [
    "function evaluate(truth, pred)\n",
    "    print(\"RMSE \", sqrt(Metrics.mse(pred, truth)))\n",
    "    print(\" MAE \", Metrics.mae(pred, truth))\n",
    "    print(\" R2 \", Metrics.r2_score(pred, truth))\n",
    "end;"
   ]
  },
  {
   "cell_type": "code",
   "execution_count": 7,
   "id": "7cc9334a-2287-41d6-885b-a5cca94fe263",
   "metadata": {},
   "outputs": [],
   "source": [
    "name = \"UserItemBiases\";"
   ]
  },
  {
   "cell_type": "code",
   "execution_count": 8,
   "id": "07489c5a-16a7-466c-b7ea-83b794958cf6",
   "metadata": {
    "tags": []
   },
   "outputs": [],
   "source": [
    "training = get_split(\"training\");"
   ]
  },
  {
   "cell_type": "code",
   "execution_count": 9,
   "id": "6fffa2bd-1b5b-4a85-a6d4-6d5487f5771c",
   "metadata": {},
   "outputs": [],
   "source": [
    "validation = get_split(\"validation\");"
   ]
  },
  {
   "cell_type": "markdown",
   "id": "99f52a69-0231-4bff-8a9f-26bb16ee9f33",
   "metadata": {},
   "source": [
    "# Alternating Least Squares Algorithm\n",
    "* $u_i = \\dfrac{\\sum_{\\Omega_i}(r_{ij} - a_j) + \\bar u \\lambda_u}{|\\Omega_i| + \\lambda_u}$\n",
    "* $\\Omega$ is the set of (user, item) pairs that we have ratings for\n",
    "* $\\Omega_i$ is subset of $\\Omega$ for which the user is the $i$-th user"
   ]
  },
  {
   "cell_type": "code",
   "execution_count": 10,
   "id": "fb96c1bd-40b5-457b-9872-ca6633256390",
   "metadata": {},
   "outputs": [],
   "source": [
    "function als_update_user_biases!(users, items, ratings, λ_u, u, a)\n",
    "    n_users = length(u)\n",
    "    n_rows = length(users)\n",
    "    residuals = zeros(eltype(u), n_users)\n",
    "    Ω = zeros(eltype(u), n_users)\n",
    "\n",
    "    for row = 1:n_rows\n",
    "        i = users[row]\n",
    "        j = items[row]\n",
    "        r = ratings[row]\n",
    "        residuals[i] += r - a[j]\n",
    "        Ω[i] += 1\n",
    "    end\n",
    "\n",
    "    u_mean = mean(u)\n",
    "    for i = 1:n_users\n",
    "        if Ω[i] + λ_u == 0\n",
    "            u[i] = u_mean\n",
    "        else\n",
    "            u[i] = (residuals[i] + u_mean * λ_u) / (Ω[i] + λ_u)\n",
    "        end\n",
    "    end\n",
    "end\n",
    "\n",
    "function als_update_item_biases!(users, items, ratings, λ_a, u, a)\n",
    "    als_update_user_biases!(items, users, ratings, λ_a, a, u)\n",
    "end;"
   ]
  },
  {
   "cell_type": "code",
   "execution_count": 11,
   "id": "d0371f61-27bf-4f52-b822-d060f7be01b3",
   "metadata": {},
   "outputs": [],
   "source": [
    "function compute_biases(training, λ_u, λ_a, ϵ = 1e-6)\n",
    "    users = training.username\n",
    "    items = training.anime_id\n",
    "    ratings = training.my_score\n",
    "    u = zeros(eltype(λ_u), maximum(users))\n",
    "    a = zeros(eltype(λ_a), maximum(items))\n",
    "\n",
    "    converged = false\n",
    "    while !converged\n",
    "        old_u = copy(u)\n",
    "        old_a = copy(a)\n",
    "        als_update_user_biases!(users, items, ratings, λ_u, u, a)\n",
    "        als_update_item_biases!(users, items, ratings, λ_a, u, a)\n",
    "\n",
    "        converged = (maximum(abs.(u - old_u)) < ϵ) & (maximum(abs.(a - old_a)) < ϵ)\n",
    "        if converged\n",
    "            break\n",
    "        end\n",
    "    end\n",
    "    return u, a\n",
    "end;"
   ]
  },
  {
   "cell_type": "code",
   "execution_count": 12,
   "id": "59fb718e-dc9e-4452-b72c-829ae2d843ff",
   "metadata": {},
   "outputs": [],
   "source": [
    "function make_prediction(users, items, u, a)\n",
    "    r = zeros(eltype(u), length(users))\n",
    "    u_mean = mean(u)\n",
    "    a_mean = mean(a)\n",
    "    for i = 1:length(r)\n",
    "        if users[i] > length(u)\n",
    "            r[i] += mean(u)\n",
    "        else\n",
    "            r[i] += u[users[i]]\n",
    "        end\n",
    "        if items[i] > length(a)\n",
    "            r[i] += mean(a)\n",
    "        else\n",
    "            r[i] += a[items[i]]\n",
    "        end\n",
    "    end\n",
    "    return r\n",
    "end;"
   ]
  },
  {
   "cell_type": "code",
   "execution_count": 13,
   "id": "1a09d0ba-09cb-48c3-84b0-d0eb57d1e0f8",
   "metadata": {},
   "outputs": [],
   "source": [
    "function validation_mse(λ)\n",
    "    u, a = compute_biases(training, λ[1], λ[2])\n",
    "    pred_score = make_prediction(validation.username, validation.anime_id, u, a)\n",
    "    return Metrics.mse(validation.my_score, pred_score)\n",
    "end;"
   ]
  },
  {
   "cell_type": "markdown",
   "id": "d44f0871-3bb4-4083-8bdb-3cb53233298c",
   "metadata": {
    "tags": []
   },
   "source": [
    "## Training"
   ]
  },
  {
   "cell_type": "code",
   "execution_count": null,
   "id": "fbca1f1c-840c-4e58-abed-f878997a3c6b",
   "metadata": {},
   "outputs": [
    {
     "name": "stdout",
     "output_type": "stream",
     "text": [
      "Fminbox\n",
      "-------\n",
      "Initial mu = 1.7677e-7\n",
      "\n",
      "Fminbox iteration 1\n",
      "-------------------\n",
      "Calling inner optimizer with mu = 1.7677e-7\n",
      "\n",
      "(numbers below include barrier contribution)\n",
      "Iter     Function value   Gradient norm \n",
      "     0     1.698360e+00     3.375168e-04\n",
      " * time: 0.02632308006286621\n",
      "     1     1.698206e+00     1.557593e-05\n",
      " * time: 150.08646202087402\n",
      "     2     1.698206e+00     1.558135e-05\n",
      " * time: 203.99584197998047\n",
      "     3     1.698206e+00     1.518728e-05\n",
      " * time: 329.4317409992218\n"
     ]
    }
   ],
   "source": [
    "# Find the best regularization hyperparameters\n",
    "res = optimize(\n",
    "    validation_mse,\n",
    "    fill(0.0, 2),\n",
    "    fill(Inf, 2),\n",
    "    fill(1.0, 2),\n",
    "    Fminbox(LBFGS()),\n",
    "    autodiff = :forward,\n",
    "    Optim.Options(show_trace = true),\n",
    ");"
   ]
  },
  {
   "cell_type": "code",
   "execution_count": null,
   "id": "be9ef25a-7e6a-49db-a1b2-15950cae282f",
   "metadata": {},
   "outputs": [],
   "source": [
    "print(\"The optimal [λ_u, λ_a] is \", Optim.minimizer(res));"
   ]
  },
  {
   "cell_type": "code",
   "execution_count": null,
   "id": "781a2388-df56-42ce-8e58-b4a11a4e4d0b",
   "metadata": {},
   "outputs": [],
   "source": [
    "u, a = compute_biases(training, Optim.minimizer(res)...);\n",
    "model(users, items) = make_prediction(users, items, u, a);"
   ]
  },
  {
   "cell_type": "markdown",
   "id": "7c291e04-b1ba-48a0-ac09-25eda75a6162",
   "metadata": {},
   "source": [
    "## Inference"
   ]
  },
  {
   "cell_type": "code",
   "execution_count": 24,
   "id": "b93576c8-a876-41b8-859d-853ff9479b1e",
   "metadata": {},
   "outputs": [
    {
     "name": "stdout",
     "output_type": "stream",
     "text": [
      "RMSE 1.2937930876978652 MAE 0.9695274380357186 R2 0.4719976957552441"
     ]
    }
   ],
   "source": [
    "training_pred_score = model(training.username, training.anime_id);\n",
    "evaluate(training.my_score, training_pred_score);"
   ]
  },
  {
   "cell_type": "code",
   "execution_count": 25,
   "id": "45d9640c-79ec-475a-be57-84e9c51915df",
   "metadata": {},
   "outputs": [
    {
     "name": "stdout",
     "output_type": "stream",
     "text": [
      "RMSE 1.303146977633299 MAE 0.9763230625012824 R2 0.4643877706266908"
     ]
    }
   ],
   "source": [
    "val_pred_score = model(validation.username, validation.anime_id);\n",
    "evaluate(validation.my_score, val_pred_score);"
   ]
  },
  {
   "cell_type": "code",
   "execution_count": null,
   "id": "443913be-e31b-4a88-ada4-870a6c29e9e2",
   "metadata": {},
   "outputs": [],
   "source": [
    "# write predictions to disk\n",
    "val_pred = copy(validation);\n",
    "val_pred.my_score = val_pred_score;\n",
    "write_prediction(val_pred, \"validation\");"
   ]
  },
  {
   "cell_type": "code",
   "execution_count": 23,
   "id": "7acf9e7c-f9d7-4ed6-960d-9e35b0450bfd",
   "metadata": {},
   "outputs": [],
   "source": [
    "# write model to disk\n",
    "write_model(Dict(\"u\" => u, \"a\" => a, \"λ\" => Optim.minimizer(res), \"model\" => model));"
   ]
  }
 ],
 "metadata": {
  "kernelspec": {
   "display_name": "Julia 1.6.3",
   "language": "julia",
   "name": "julia-1.6"
  },
  "language_info": {
   "file_extension": ".jl",
   "mimetype": "application/julia",
   "name": "julia",
   "version": "1.6.3"
  }
 },
 "nbformat": 4,
 "nbformat_minor": 5
}
