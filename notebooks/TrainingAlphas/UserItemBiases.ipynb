{
 "cells": [
  {
   "cell_type": "markdown",
   "id": "c3758ece-9b72-47b4-ae6a-aa364e0443e3",
   "metadata": {},
   "source": [
    "# User Item Biases With Regularization\n",
    "* Prediction for user $i$ and item $j$ is $\\tilde r_{ij} = u_i + a_j$\n",
    "* Loss function is $L = \\sum_{\\Omega}w_{ij}(r_{ij} - u_i - a_j)^2 + \\lambda_u \\sum_i (u_i - \\bar u) ^2 + \\lambda_a \\sum_j (a_j - \\bar a)^2 $\n",
    "* $\\bar u$ is the mean of $u_i$ and $\\bar a$ is the mean of $a_j$ \n",
    "* $\\Omega$ is the set of oberved pairs $(i, j)$\n",
    "* $r_{ij}$ is the rating for user $i$ and item $j$\n",
    "* $w_{ij}$ is the weight for the prediction $r_{ij}$"
   ]
  },
  {
   "cell_type": "code",
   "execution_count": 1,
   "id": "7cc9334a-2287-41d6-885b-a5cca94fe263",
   "metadata": {},
   "outputs": [
    {
     "data": {
      "text/plain": [
       "\"inverse\""
      ]
     },
     "execution_count": 1,
     "metadata": {},
     "output_type": "execute_result"
    }
   ],
   "source": [
    "const name = \"UserItemBiases\"\n",
    "const residual_alphas = []\n",
    "const validation_weight_scheme = \"inverse\""
   ]
  },
  {
   "cell_type": "code",
   "execution_count": 2,
   "id": "df87db6f-667c-4bc2-9d48-7f4debe6750f",
   "metadata": {
    "tags": []
   },
   "outputs": [],
   "source": [
    "using NBInclude\n",
    "@nbinclude(\"Alpha.ipynb\");"
   ]
  },
  {
   "cell_type": "code",
   "execution_count": 3,
   "id": "2964541d-4796-47fd-ac77-91a2eaefc679",
   "metadata": {},
   "outputs": [
    {
     "name": "stderr",
     "output_type": "stream",
     "text": [
      "\u001b[32mProgress: 100%|███████████████████████████| Time: 0:00:00 ( 1.43 μs/it)\u001b[39m\n"
     ]
    }
   ],
   "source": [
    "const training = get_residuals(\"training\", residual_alphas)\n",
    "const validation = get_residuals(\"validation\", residual_alphas);"
   ]
  },
  {
   "cell_type": "markdown",
   "id": "99f52a69-0231-4bff-8a9f-26bb16ee9f33",
   "metadata": {},
   "source": [
    "## Alternating Least Squares Algorithm\n",
    "* $u_i = \\dfrac{\\sum_{j \\in \\Omega_i}(r_{ij} - a_j) w_{ij} + \\bar u \\lambda_u}{ \\sum_{j \\in \\Omega_i} w_{ij} + \\lambda_u}$\n",
    "* $\\Omega$ is the set of (user, item) pairs that we have ratings for\n",
    "* $\\Omega_i$ is subset of $\\Omega$ for which the user is the $i$-th user"
   ]
  },
  {
   "cell_type": "code",
   "execution_count": 4,
   "id": "fb96c1bd-40b5-457b-9872-ca6633256390",
   "metadata": {},
   "outputs": [],
   "source": [
    "function get_residuals!(users, items, ratings, weights, a, ρ, Ω)\n",
    "    for row = 1:length(users)\n",
    "        i = users[row]\n",
    "        j = items[row]\n",
    "        r = ratings[row]\n",
    "        w = weights[row]\n",
    "        ρ[i] += (r - a[j]) * w\n",
    "        Ω[i] += w\n",
    "    end\n",
    "    ρ, Ω\n",
    "end\n",
    "\n",
    "function thread_range(n)\n",
    "    tid = Threads.threadid()\n",
    "    nt = Threads.nthreads()\n",
    "    d, r = divrem(n, nt)\n",
    "    from = (tid - 1) * d + min(r, tid - 1) + 1\n",
    "    to = from + d - 1 + (tid ≤ r ? 1 : 0)\n",
    "    from:to\n",
    "end\n",
    "\n",
    "function update_users!(users, items, ratings, weights, u, a, λ_u, ρ, Ω)\n",
    "    Threads.@threads for t = 1:Threads.nthreads()\n",
    "        range = thread_range(length(ratings))\n",
    "        ρ[:, Threads.threadid()] .= 0\n",
    "        Ω[:, Threads.threadid()] .= 0\n",
    "        @views get_residuals!(\n",
    "            users[range],\n",
    "            items[range],\n",
    "            ratings[range],\n",
    "            weights[range],\n",
    "            a,\n",
    "            ρ[:, Threads.threadid()],\n",
    "            Ω[:, Threads.threadid()],\n",
    "        )\n",
    "    end\n",
    "\n",
    "    ρ = sum(ρ, dims = 2)\n",
    "    Ω = sum(Ω, dims = 2)\n",
    "\n",
    "    μ = mean(u)\n",
    "    Threads.@threads for i = 1:length(u)\n",
    "        u[i] = (ρ[i] + μ * λ_u) / (Ω[i] + λ_u)\n",
    "    end\n",
    "end;"
   ]
  },
  {
   "cell_type": "code",
   "execution_count": 5,
   "id": "d0371f61-27bf-4f52-b822-d060f7be01b3",
   "metadata": {},
   "outputs": [],
   "source": [
    "function train_model(training, λ_u, λ_a, λ_w, stop_criteria)\n",
    "    @info \"training model with parameters [$λ_u, $λ_a, $λ_w]\"\n",
    "    users, items, ratings = training.user, training.item, training.rating\n",
    "    weights = get_weights(\"training\", log(λ_w))\n",
    "    u = zeros(eltype(λ_u), maximum(users))\n",
    "    a = zeros(eltype(λ_a), maximum(items))\n",
    "\n",
    "    ρ_u = zeros(eltype(u), length(u), Threads.nthreads())\n",
    "    Ω_u = zeros(eltype(u), length(u), Threads.nthreads())\n",
    "    ρ_a = zeros(eltype(a), length(a), Threads.nthreads())\n",
    "    Ω_a = zeros(eltype(a), length(a), Threads.nthreads())\n",
    "\n",
    "    while !stop!(stop_criteria, [u, a])\n",
    "        update_users!(users, items, ratings, weights, u, a, λ_u, ρ_u, Ω_u)\n",
    "        update_users!(items, users, ratings, weights, a, u, λ_a, ρ_a, Ω_a)\n",
    "    end\n",
    "    u, a\n",
    "end;"
   ]
  },
  {
   "cell_type": "code",
   "execution_count": 6,
   "id": "59fb718e-dc9e-4452-b72c-829ae2d843ff",
   "metadata": {},
   "outputs": [],
   "source": [
    "function make_prediction(users, items, u, a)\n",
    "    r = zeros(eltype(u), length(users))\n",
    "    u_mean = mean(u)\n",
    "    a_mean = mean(a)\n",
    "    for i = 1:length(r)\n",
    "        if users[i] > length(u)\n",
    "            r[i] += mean(u)\n",
    "        else\n",
    "            r[i] += u[users[i]]\n",
    "        end\n",
    "        if items[i] > length(a)\n",
    "            r[i] += mean(a)\n",
    "        else\n",
    "            r[i] += a[items[i]]\n",
    "        end\n",
    "    end\n",
    "    r\n",
    "end;"
   ]
  },
  {
   "cell_type": "markdown",
   "id": "d44f0871-3bb4-4083-8bdb-3cb53233298c",
   "metadata": {
    "tags": []
   },
   "source": [
    "## Training"
   ]
  },
  {
   "cell_type": "code",
   "execution_count": 7,
   "id": "c174fef4-e9d4-4fbd-a649-1159f8c07a3f",
   "metadata": {},
   "outputs": [],
   "source": [
    "function validation_mse(λ)\n",
    "    λ = exp.(λ) # ensure λ is nonnegative\n",
    "    stop_criteria = convergence_stopper(1e-6, max_iters = 16)\n",
    "    u, a = train_model(training, λ..., stop_criteria)\n",
    "    pred_score = make_prediction(validation.user, validation.item, u, a)\n",
    "    weights = get_weights(\"validation\", validation_weight_scheme)\n",
    "    mse(validation.rating, pred_score, weights)\n",
    "end;"
   ]
  },
  {
   "cell_type": "code",
   "execution_count": 8,
   "id": "7d55df8c-06e5-4e8e-814c-41410685842d",
   "metadata": {
    "tags": []
   },
   "outputs": [
    {
     "name": "stderr",
     "output_type": "stream",
     "text": [
      "\u001b[38;5;6m\u001b[1m[ \u001b[22m\u001b[39m\u001b[38;5;6m\u001b[1mInfo: \u001b[22m\u001b[39m20220508 17:06:55 training model with parameters [Dual{ForwardDiff.Tag{typeof(validation_mse), Float32}}(1.0,1.0,0.0,0.0), Dual{ForwardDiff.Tag{typeof(validation_mse), Float32}}(1.0,0.0,1.0,0.0), Dual{ForwardDiff.Tag{typeof(validation_mse), Float32}}(1.0,0.0,0.0,1.0)]\n",
      "\u001b[32mProgress: 100%|███████████████████████████| Time: 0:00:04 ( 0.47 μs/it)\u001b[39m\n"
     ]
    },
    {
     "name": "stdout",
     "output_type": "stream",
     "text": [
      "Iter     Function value   Gradient norm \n",
      "     0     1.820281e+00     1.945127e-02\n",
      " * Current step size: 1.0\n",
      " * time: 0.021981000900268555\n",
      " * g(x): Float32[-0.0050086486, -1.0955863f-6, 0.019451266]\n",
      " * x: Float32[0.0, 0.0, 0.0]\n"
     ]
    },
    {
     "name": "stderr",
     "output_type": "stream",
     "text": [
      "\u001b[38;5;6m\u001b[1m[ \u001b[22m\u001b[39m\u001b[38;5;6m\u001b[1mInfo: \u001b[22m\u001b[39m20220508 17:07:22 training model with parameters [Dual{ForwardDiff.Tag{typeof(validation_mse), Float32}}(1.0050212,1.0050212,0.0,0.0), Dual{ForwardDiff.Tag{typeof(validation_mse), Float32}}(1.0000011,0.0,1.0000011,0.0), Dual{ForwardDiff.Tag{typeof(validation_mse), Float32}}(0.9807367,0.0,0.0,0.9807367)]\n",
      "\u001b[32mProgress: 100%|███████████████████████████| Time: 0:00:04 ( 0.44 μs/it)\u001b[39m\n",
      "\u001b[38;5;6m\u001b[1m[ \u001b[22m\u001b[39m\u001b[38;5;6m\u001b[1mInfo: \u001b[22m\u001b[39m20220508 17:07:43 training model with parameters [Dual{ForwardDiff.Tag{typeof(validation_mse), Float32}}(1.0253595,1.0253595,0.0,0.0), Dual{ForwardDiff.Tag{typeof(validation_mse), Float32}}(1.0000055,0.0,1.0000055,0.0), Dual{ForwardDiff.Tag{typeof(validation_mse), Float32}}(0.9073234,0.0,0.0,0.9073234)]\n",
      "\u001b[32mProgress: 100%|███████████████████████████| Time: 0:00:04 ( 0.44 μs/it)\u001b[39m\n",
      "\u001b[32mProgress: 100%|███████████████████████████| Time: 0:00:04 ( 0.44 μs/it)\u001b[39m\n",
      "\u001b[38;5;6m\u001b[1m[ \u001b[22m\u001b[39m\u001b[38;5;6m\u001b[1mInfo: \u001b[22m\u001b[39m20220508 17:09:51 training model with parameters [Dual{ForwardDiff.Tag{typeof(validation_mse), Float32}}(1.0707699,1.0707699,0.0,0.0), Dual{ForwardDiff.Tag{typeof(validation_mse), Float32}}(0.99995995,0.0,0.99995995,0.0), Dual{ForwardDiff.Tag{typeof(validation_mse), Float32}}(0.71510637,0.0,0.0,0.71510637)]\n",
      "\u001b[32mProgress: 100%|███████████████████████████| Time: 0:00:04 ( 0.44 μs/it)\u001b[39m\n"
     ]
    },
    {
     "name": "stdout",
     "output_type": "stream",
     "text": [
      "     2     1.814787e+00     5.672059e-03\n",
      " * Current step size: 0.15930836\n",
      " * time: 172.1668939590454\n",
      " * g(x): Float32[-0.00019501134, 1.0135125f-5, 0.005672059]\n",
      " * x: Float32[0.06837795, -4.0081133f-5, -0.33532402]\n"
     ]
    },
    {
     "name": "stderr",
     "output_type": "stream",
     "text": [
      "\u001b[38;5;6m\u001b[1m[ \u001b[22m\u001b[39m\u001b[38;5;6m\u001b[1mInfo: \u001b[22m\u001b[39m20220508 17:10:12 training model with parameters [Dual{ForwardDiff.Tag{typeof(validation_mse), Float32}}(1.057375,1.057375,0.0,0.0), Dual{ForwardDiff.Tag{typeof(validation_mse), Float32}}(0.99974656,0.0,0.99974656,0.0), Dual{ForwardDiff.Tag{typeof(validation_mse), Float32}}(0.66611916,0.0,0.0,0.66611916)]\n",
      "\u001b[32mProgress: 100%|███████████████████████████| Time: 0:00:04 ( 0.44 μs/it)\u001b[39m\n",
      "\u001b[38;5;6m\u001b[1m[ \u001b[22m\u001b[39m\u001b[38;5;6m\u001b[1mInfo: \u001b[22m\u001b[39m20220508 17:10:34 training model with parameters [Dual{ForwardDiff.Tag{typeof(validation_mse), Float32}}(1.0630815,1.0630815,0.0,0.0), Dual{ForwardDiff.Tag{typeof(validation_mse), Float32}}(0.99983776,0.0,0.99983776,0.0), Dual{ForwardDiff.Tag{typeof(validation_mse), Float32}}(0.6866397,0.0,0.0,0.6866397)]\n",
      "\u001b[32mProgress: 100%|███████████████████████████| Time: 0:00:04 ( 0.45 μs/it)\u001b[39m\n"
     ]
    },
    {
     "name": "stdout",
     "output_type": "stream",
     "text": [
      "     3     1.814655e+00     1.279483e-03\n",
      " * Current step size: 0.57243454\n",
      " * time: 215.09497499465942\n",
      " * g(x): Float32[0.0012794825, 1.685819f-5, 0.0003836784]\n",
      " * x: Float32[0.061171822, -0.0001622274, -0.37594554]\n"
     ]
    },
    {
     "name": "stderr",
     "output_type": "stream",
     "text": [
      "\u001b[38;5;6m\u001b[1m[ \u001b[22m\u001b[39m\u001b[38;5;6m\u001b[1mInfo: \u001b[22m\u001b[39m20220508 17:10:55 training model with parameters [Dual{ForwardDiff.Tag{typeof(validation_mse), Float32}}(1.050458,1.050458,0.0,0.0), Dual{ForwardDiff.Tag{typeof(validation_mse), Float32}}(0.9996906,0.0,0.9996906,0.0), Dual{ForwardDiff.Tag{typeof(validation_mse), Float32}}(0.68115366,0.0,0.0,0.68115366)]\n",
      "\u001b[32mProgress: 100%|███████████████████████████| Time: 0:00:04 ( 0.44 μs/it)\u001b[39m\n",
      "\u001b[38;5;6m\u001b[1m[ \u001b[22m\u001b[39m\u001b[38;5;6m\u001b[1mInfo: \u001b[22m\u001b[39m20220508 17:11:17 training model with parameters [Dual{ForwardDiff.Tag{typeof(validation_mse), Float32}}(1.0014448,1.0014448,0.0,0.0), Dual{ForwardDiff.Tag{typeof(validation_mse), Float32}}(0.99910194,0.0,0.99910194,0.0), Dual{ForwardDiff.Tag{typeof(validation_mse), Float32}}(0.6596442,0.0,0.0,0.6596442)]\n",
      "\u001b[32mProgress: 100%|███████████████████████████| Time: 0:00:04 ( 0.44 μs/it)\u001b[39m\n",
      "\u001b[38;5;6m\u001b[1m[ \u001b[22m\u001b[39m\u001b[38;5;6m\u001b[1mInfo: \u001b[22m\u001b[39m20220508 17:11:38 training model with parameters [Dual{ForwardDiff.Tag{typeof(validation_mse), Float32}}(1.0154796,1.0154796,0.0,0.0), Dual{ForwardDiff.Tag{typeof(validation_mse), Float32}}(0.9992733,0.0,0.9992733,0.0), Dual{ForwardDiff.Tag{typeof(validation_mse), Float32}}(0.665838,0.0,0.0,0.665838)]\n",
      "\u001b[32mProgress: 100%|███████████████████████████| Time: 0:00:04 ( 0.44 μs/it)\u001b[39m\n"
     ]
    },
    {
     "name": "stdout",
     "output_type": "stream",
     "text": [
      "     4     1.814618e+00     2.670913e-03\n",
      " * Current step size: 3.8349497\n",
      " * time: 279.3286979198456\n",
      " * g(x): Float32[0.0018198843, 2.3722505f-5, -0.0026709128]\n",
      " * x: Float32[0.015360989, -0.00072693464, -0.40670887]\n"
     ]
    },
    {
     "name": "stderr",
     "output_type": "stream",
     "text": [
      "\u001b[38;5;6m\u001b[1m[ \u001b[22m\u001b[39m\u001b[38;5;6m\u001b[1mInfo: \u001b[22m\u001b[39m20220508 17:12:00 training model with parameters [Dual{ForwardDiff.Tag{typeof(validation_mse), Float32}}(0.9732835,0.9732835,0.0,0.0), Dual{ForwardDiff.Tag{typeof(validation_mse), Float32}}(0.9987188,0.0,0.9987188,0.0), Dual{ForwardDiff.Tag{typeof(validation_mse), Float32}}(0.66059315,0.0,0.0,0.66059315)]\n",
      "\u001b[32mProgress: 100%|███████████████████████████| Time: 0:00:04 ( 0.44 μs/it)\u001b[39m\n",
      "\u001b[38;5;6m\u001b[1m[ \u001b[22m\u001b[39m\u001b[38;5;6m\u001b[1mInfo: \u001b[22m\u001b[39m20220508 17:12:21 training model with parameters [Dual{ForwardDiff.Tag{typeof(validation_mse), Float32}}(0.8213195,0.8213195,0.0,0.0), Dual{ForwardDiff.Tag{typeof(validation_mse), Float32}}(0.99650365,0.0,0.99650365,0.0), Dual{ForwardDiff.Tag{typeof(validation_mse), Float32}}(0.6400235,0.0,0.0,0.6400235)]\n",
      "\u001b[32mProgress: 100%|███████████████████████████| Time: 0:00:04 ( 0.44 μs/it)\u001b[39m\n",
      "\u001b[38;5;6m\u001b[1m[ \u001b[22m\u001b[39m\u001b[38;5;6m\u001b[1mInfo: \u001b[22m\u001b[39m20220508 17:12:43 training model with parameters [Dual{ForwardDiff.Tag{typeof(validation_mse), Float32}}(0.8556007,0.8556007,0.0,0.0), Dual{ForwardDiff.Tag{typeof(validation_mse), Float32}}(0.99703676,0.0,0.99703676,0.0), Dual{ForwardDiff.Tag{typeof(validation_mse), Float32}}(0.6449189,0.0,0.0,0.6449189)]\n",
      "\u001b[32mProgress: 100%|███████████████████████████| Time: 0:00:04 ( 0.44 μs/it)\u001b[39m\n"
     ]
    },
    {
     "name": "stdout",
     "output_type": "stream",
     "text": [
      "     5     1.814508e+00     1.583220e-04\n",
      " * Current step size: 4.0365014\n",
      " * time: 343.7667679786682\n",
      " * g(x): Float32[1.4126287f-5, 3.2654247f-5, -0.00015832199]\n",
      " * x: Float32[-0.15595144, -0.0029676505, -0.43863067]\n"
     ]
    },
    {
     "name": "stderr",
     "output_type": "stream",
     "text": [
      "\u001b[38;5;6m\u001b[1m[ \u001b[22m\u001b[39m\u001b[38;5;6m\u001b[1mInfo: \u001b[22m\u001b[39m20220508 17:13:04 training model with parameters [Dual{ForwardDiff.Tag{typeof(validation_mse), Float32}}(0.85938036,0.85938036,0.0,0.0), Dual{ForwardDiff.Tag{typeof(validation_mse), Float32}}(0.9963259,0.0,0.9963259,0.0), Dual{ForwardDiff.Tag{typeof(validation_mse), Float32}}(0.64630777,0.0,0.0,0.64630777)]\n",
      "\u001b[32mProgress: 100%|███████████████████████████| Time: 0:00:04 ( 0.44 μs/it)\u001b[39m\n",
      "\u001b[38;5;6m\u001b[1m[ \u001b[22m\u001b[39m\u001b[38;5;6m\u001b[1mInfo: \u001b[22m\u001b[39m20220508 17:13:26 training model with parameters [Dual{ForwardDiff.Tag{typeof(validation_mse), Float32}}(0.87466663,0.87466663,0.0,0.0), Dual{ForwardDiff.Tag{typeof(validation_mse), Float32}}(0.99348754,0.0,0.99348754,0.0), Dual{ForwardDiff.Tag{typeof(validation_mse), Float32}}(0.6518931,0.0,0.0,0.6518931)]\n",
      "\u001b[32mProgress: 100%|███████████████████████████| Time: 0:00:04 ( 0.44 μs/it)\u001b[39m\n",
      "\u001b[38;5;6m\u001b[1m[ \u001b[22m\u001b[39m\u001b[38;5;6m\u001b[1mInfo: \u001b[22m\u001b[39m20220508 17:13:47 training model with parameters [Dual{ForwardDiff.Tag{typeof(validation_mse), Float32}}(0.85957354,0.85957354,0.0,0.0), Dual{ForwardDiff.Tag{typeof(validation_mse), Float32}}(0.9962897,0.0,0.9962897,0.0), Dual{ForwardDiff.Tag{typeof(validation_mse), Float32}}(0.64637864,0.0,0.0,0.64637864)]\n",
      "\u001b[32mProgress: 100%|███████████████████████████| Time: 0:00:04 ( 0.44 μs/it)\u001b[39m\n"
     ]
    },
    {
     "name": "stdout",
     "output_type": "stream",
     "text": [
      "     6     1.814508e+00     3.189936e-05\n",
      " * Current step size: 1.0509797\n",
      " * time: 408.28110790252686\n",
      " * g(x): Float32[-3.0036474f-6, 3.189936f-5, 1.5668218f-5]\n",
      " * x: Float32[-0.15131892, -0.0037172306, -0.4363698]\n"
     ]
    },
    {
     "name": "stderr",
     "output_type": "stream",
     "text": [
      "\u001b[38;5;6m\u001b[1m[ \u001b[22m\u001b[39m\u001b[38;5;6m\u001b[1mInfo: \u001b[22m\u001b[39m20220508 17:14:09 training model with parameters [Dual{ForwardDiff.Tag{typeof(validation_mse), Float32}}(0.8596825,0.8596825,0.0,0.0), Dual{ForwardDiff.Tag{typeof(validation_mse), Float32}}(0.9958897,0.0,0.9958897,0.0), Dual{ForwardDiff.Tag{typeof(validation_mse), Float32}}(0.6463945,0.0,0.0,0.6463945)]\n",
      "\u001b[32mProgress: 100%|███████████████████████████| Time: 0:00:04 ( 0.44 μs/it)\u001b[39m\n",
      "\u001b[38;5;6m\u001b[1m[ \u001b[22m\u001b[39m\u001b[38;5;6m\u001b[1mInfo: \u001b[22m\u001b[39m20220508 17:14:30 training model with parameters [Dual{ForwardDiff.Tag{typeof(validation_mse), Float32}}(0.8601186,0.8601186,0.0,0.0), Dual{ForwardDiff.Tag{typeof(validation_mse), Float32}}(0.9942915,0.0,0.9942915,0.0), Dual{ForwardDiff.Tag{typeof(validation_mse), Float32}}(0.64645797,0.0,0.0,0.64645797)]\n",
      "\u001b[32mProgress: 100%|███████████████████████████| Time: 0:00:04 ( 0.44 μs/it)\u001b[39m\n",
      "\u001b[38;5;6m\u001b[1m[ \u001b[22m\u001b[39m\u001b[38;5;6m\u001b[1mInfo: \u001b[22m\u001b[39m20220508 17:14:52 training model with parameters [Dual{ForwardDiff.Tag{typeof(validation_mse), Float32}}(0.8623025,0.8623025,0.0,0.0), Dual{ForwardDiff.Tag{typeof(validation_mse), Float32}}(0.9863387,0.0,0.9863387,0.0), Dual{ForwardDiff.Tag{typeof(validation_mse), Float32}}(0.6467754,0.0,0.0,0.6467754)]\n",
      "\u001b[32mProgress: 100%|███████████████████████████| Time: 0:00:04 ( 0.44 μs/it)\u001b[39m\n",
      "\u001b[38;5;6m\u001b[1m[ \u001b[22m\u001b[39m\u001b[38;5;6m\u001b[1mInfo: \u001b[22m\u001b[39m20220508 17:15:13 training model with parameters [Dual{ForwardDiff.Tag{typeof(validation_mse), Float32}}(0.8733054,0.8733054,0.0,0.0), Dual{ForwardDiff.Tag{typeof(validation_mse), Float32}}(0.9475186,0.0,0.9475186,0.0), Dual{ForwardDiff.Tag{typeof(validation_mse), Float32}}(0.64836496,0.0,0.0,0.64836496)]\n",
      "\u001b[32mProgress: 100%|███████████████████████████| Time: 0:00:04 ( 0.44 μs/it)\u001b[39m\n",
      "\u001b[38;5;6m\u001b[1m[ \u001b[22m\u001b[39m\u001b[38;5;6m\u001b[1mInfo: \u001b[22m\u001b[39m20220508 17:15:34 training model with parameters [Dual{ForwardDiff.Tag{typeof(validation_mse), Float32}}(0.8704794,0.8704794,0.0,0.0), Dual{ForwardDiff.Tag{typeof(validation_mse), Float32}}(0.9572945,0.0,0.9572945,0.0), Dual{ForwardDiff.Tag{typeof(validation_mse), Float32}}(0.6479583,0.0,0.0,0.6479583)]\n",
      "\u001b[32mProgress: 100%|███████████████████████████| Time: 0:00:04 ( 0.44 μs/it)\u001b[39m\n"
     ]
    },
    {
     "name": "stdout",
     "output_type": "stream",
     "text": [
      "     7     1.814507e+00     1.247400e-04\n",
      " * Current step size: 99.43661\n",
      " * time: 515.7348818778992\n",
      " * g(x): Float32[0.00011731776, 2.9382707f-5, -0.00012473996]\n",
      " * x: Float32[-0.13871118, -0.043644197, -0.433929]\n"
     ]
    },
    {
     "name": "stderr",
     "output_type": "stream",
     "text": [
      "\u001b[38;5;6m\u001b[1m[ \u001b[22m\u001b[39m\u001b[38;5;6m\u001b[1mInfo: \u001b[22m\u001b[39m20220508 17:15:56 training model with parameters [Dual{ForwardDiff.Tag{typeof(validation_mse), Float32}}(0.8693689,0.8693689,0.0,0.0), Dual{ForwardDiff.Tag{typeof(validation_mse), Float32}}(0.9230548,0.0,0.9230548,0.0), Dual{ForwardDiff.Tag{typeof(validation_mse), Float32}}(0.6476793,0.0,0.0,0.6476793)]\n",
      "\u001b[32mProgress: 100%|███████████████████████████| Time: 0:00:04 ( 0.44 μs/it)\u001b[39m\n",
      "\u001b[38;5;6m\u001b[1m[ \u001b[22m\u001b[39m\u001b[38;5;6m\u001b[1mInfo: \u001b[22m\u001b[39m20220508 17:16:17 training model with parameters [Dual{ForwardDiff.Tag{typeof(validation_mse), Float32}}(0.864941,0.864941,0.0,0.0), Dual{ForwardDiff.Tag{typeof(validation_mse), Float32}}(0.7979124,0.0,0.7979124,0.0), Dual{ForwardDiff.Tag{typeof(validation_mse), Float32}}(0.64656484,0.0,0.0,0.64656484)]\n",
      "\u001b[32mProgress: 100%|███████████████████████████| Time: 0:00:04 ( 0.44 μs/it)\u001b[39m\n",
      "\u001b[38;5;6m\u001b[1m[ \u001b[22m\u001b[39m\u001b[38;5;6m\u001b[1mInfo: \u001b[22m\u001b[39m20220508 17:16:39 training model with parameters [Dual{ForwardDiff.Tag{typeof(validation_mse), Float32}}(0.8431374,0.8431374,0.0,0.0), Dual{ForwardDiff.Tag{typeof(validation_mse), Float32}}(0.3851181,0.0,0.3851181,0.0), Dual{ForwardDiff.Tag{typeof(validation_mse), Float32}}(0.64102095,0.0,0.0,0.64102095)]\n",
      "\u001b[32mProgress: 100%|███████████████████████████| Time: 0:00:04 ( 0.44 μs/it)\u001b[39m\n",
      "\u001b[38;5;6m\u001b[1m[ \u001b[22m\u001b[39m\u001b[38;5;6m\u001b[1mInfo: \u001b[22m\u001b[39m20220508 17:17:00 training model with parameters [Dual{ForwardDiff.Tag{typeof(validation_mse), Float32}}(0.74209213,0.74209213,0.0,0.0), Dual{ForwardDiff.Tag{typeof(validation_mse), Float32}}(0.01008759,0.0,0.01008759,0.0), Dual{ForwardDiff.Tag{typeof(validation_mse), Float32}}(0.6140067,0.0,0.0,0.6140067)]\n",
      "\u001b[32mProgress: 100%|███████████████████████████| Time: 0:00:04 ( 0.44 μs/it)\u001b[39m\n",
      "\u001b[38;5;6m\u001b[1m[ \u001b[22m\u001b[39m\u001b[38;5;6m\u001b[1mInfo: \u001b[22m\u001b[39m20220508 17:17:22 training model with parameters [Dual{ForwardDiff.Tag{typeof(validation_mse), Float32}}(0.83272976,0.83272976,0.0,0.0), Dual{ForwardDiff.Tag{typeof(validation_mse), Float32}}(0.27020055,0.0,0.27020055,0.0), Dual{ForwardDiff.Tag{typeof(validation_mse), Float32}}(0.6383412,0.0,0.0,0.6383412)]\n",
      "\u001b[32mProgress: 100%|███████████████████████████| Time: 0:00:04 ( 0.44 μs/it)\u001b[39m\n"
     ]
    },
    {
     "name": "stdout",
     "output_type": "stream",
     "text": [
      "     8     1.814493e+00     4.815689e-04\n",
      " * Current step size: 34.729866\n",
      " * time: 623.0582418441772\n",
      " * g(x): Float32[-1.49605485f-5, 3.4864681f-6, -0.00048156892]\n",
      " * x: Float32[-0.18304613, -1.3085908, -0.4488824]\n"
     ]
    },
    {
     "name": "stderr",
     "output_type": "stream",
     "text": [
      "\u001b[38;5;6m\u001b[1m[ \u001b[22m\u001b[39m\u001b[38;5;6m\u001b[1mInfo: \u001b[22m\u001b[39m20220508 17:17:43 training model with parameters [Dual{ForwardDiff.Tag{typeof(validation_mse), Float32}}(0.8485954,0.8485954,0.0,0.0), Dual{ForwardDiff.Tag{typeof(validation_mse), Float32}}(0.2528292,0.0,0.2528292,0.0), Dual{ForwardDiff.Tag{typeof(validation_mse), Float32}}(0.64315075,0.0,0.0,0.64315075)]\n",
      "\u001b[32mProgress: 100%|███████████████████████████| Time: 0:00:04 ( 0.44 μs/it)\u001b[39m\n",
      "\u001b[38;5;6m\u001b[1m[ \u001b[22m\u001b[39m\u001b[38;5;6m\u001b[1mInfo: \u001b[22m\u001b[39m20220508 17:18:05 training model with parameters [Dual{ForwardDiff.Tag{typeof(validation_mse), Float32}}(0.915139,0.915139,0.0,0.0), Dual{ForwardDiff.Tag{typeof(validation_mse), Float32}}(0.19381663,0.0,0.19381663,0.0), Dual{ForwardDiff.Tag{typeof(validation_mse), Float32}}(0.6627543,0.0,0.0,0.6627543)]\n",
      "\u001b[32mProgress: 100%|███████████████████████████| Time: 0:00:04 ( 0.45 μs/it)\u001b[39m\n",
      "\u001b[38;5;6m\u001b[1m[ \u001b[22m\u001b[39m\u001b[38;5;6m\u001b[1mInfo: \u001b[22m\u001b[39m20220508 17:18:26 training model with parameters [Dual{ForwardDiff.Tag{typeof(validation_mse), Float32}}(0.85263234,0.85263234,0.0,0.0), Dual{ForwardDiff.Tag{typeof(validation_mse), Float32}}(0.2486396,0.0,0.2486396,0.0), Dual{ForwardDiff.Tag{typeof(validation_mse), Float32}}(0.64436585,0.0,0.0,0.64436585)]\n",
      "\u001b[32mProgress: 100%|███████████████████████████| Time: 0:00:04 ( 0.44 μs/it)\u001b[39m\n"
     ]
    },
    {
     "name": "stdout",
     "output_type": "stream",
     "text": [
      "     9     1.814490e+00     5.291142e-05\n",
      " * Current step size: 1.2514611\n",
      " * time: 687.5168528556824\n",
      " * g(x): Float32[-1.0872686f-5, 2.5033128f-6, 5.291142f-5]\n",
      " * x: Float32[-0.15942684, -1.3917508, -0.4394886]\n"
     ]
    },
    {
     "name": "stderr",
     "output_type": "stream",
     "text": [
      "\u001b[38;5;6m\u001b[1m[ \u001b[22m\u001b[39m\u001b[38;5;6m\u001b[1mInfo: \u001b[22m\u001b[39m20220508 17:18:48 training model with parameters [Dual{ForwardDiff.Tag{typeof(validation_mse), Float32}}(0.8525233,0.8525233,0.0,0.0), Dual{ForwardDiff.Tag{typeof(validation_mse), Float32}}(0.22073098,0.0,0.22073098,0.0), Dual{ForwardDiff.Tag{typeof(validation_mse), Float32}}(0.64418674,0.0,0.0,0.64418674)]\n",
      "\u001b[32mProgress: 100%|███████████████████████████| Time: 0:00:04 ( 0.44 μs/it)\u001b[39m\n",
      "\u001b[38;5;6m\u001b[1m[ \u001b[22m\u001b[39m\u001b[38;5;6m\u001b[1mInfo: \u001b[22m\u001b[39m20220508 17:19:09 training model with parameters [Dual{ForwardDiff.Tag{typeof(validation_mse), Float32}}(0.8520873,0.8520873,0.0,0.0), Dual{ForwardDiff.Tag{typeof(validation_mse), Float32}}(0.13709927,0.0,0.13709927,0.0), Dual{ForwardDiff.Tag{typeof(validation_mse), Float32}}(0.6434708,0.0,0.0,0.6434708)]\n",
      "\u001b[32mProgress: 100%|███████████████████████████| Time: 0:00:04 ( 0.45 μs/it)\u001b[39m\n",
      "\u001b[38;5;6m\u001b[1m[ \u001b[22m\u001b[39m\u001b[38;5;6m\u001b[1mInfo: \u001b[22m\u001b[39m20220508 17:19:31 training model with parameters [Dual{ForwardDiff.Tag{typeof(validation_mse), Float32}}(0.8499106,0.8499106,0.0,0.0), Dual{ForwardDiff.Tag{typeof(validation_mse), Float32}}(0.012673438,0.0,0.012673438,0.0), Dual{ForwardDiff.Tag{typeof(validation_mse), Float32}}(0.6399029,0.0,0.0,0.6399029)]\n",
      "\u001b[32mProgress: 100%|███████████████████████████| Time: 0:00:04 ( 0.44 μs/it)\u001b[39m\n",
      "\u001b[38;5;6m\u001b[1m[ \u001b[22m\u001b[39m\u001b[38;5;6m\u001b[1mInfo: \u001b[22m\u001b[39m20220508 17:19:52 training model with parameters [Dual{ForwardDiff.Tag{typeof(validation_mse), Float32}}(0.8519731,0.8519731,0.0,0.0), Dual{ForwardDiff.Tag{typeof(validation_mse), Float32}}(0.12101824,0.0,0.12101824,0.0), Dual{ForwardDiff.Tag{typeof(validation_mse), Float32}}(0.64328337,0.0,0.0,0.64328337)]\n",
      "\u001b[32mProgress: 100%|███████████████████████████| Time: 0:00:04 ( 0.46 μs/it)\u001b[39m\n"
     ]
    },
    {
     "name": "stdout",
     "output_type": "stream",
     "text": [
      "    10     1.814489e+00     1.893130e-04\n",
      " * Current step size: 6.0479097\n",
      " * time: 773.3292078971863\n",
      " * g(x): Float32[5.1028757f-5, 2.466934f-7, -0.00018931298]\n",
      " * x: Float32[-0.16020031, -2.111814, -0.44116998]\n"
     ]
    },
    {
     "name": "stderr",
     "output_type": "stream",
     "text": [
      "\u001b[38;5;6m\u001b[1m[ \u001b[22m\u001b[39m\u001b[38;5;6m\u001b[1mInfo: \u001b[22m\u001b[39m20220508 17:20:14 training model with parameters [Dual{ForwardDiff.Tag{typeof(validation_mse), Float32}}(0.8518708,0.8518708,0.0,0.0), Dual{ForwardDiff.Tag{typeof(validation_mse), Float32}}(0.11420415,0.0,0.11420415,0.0), Dual{ForwardDiff.Tag{typeof(validation_mse), Float32}}(0.64387995,0.0,0.0,0.64387995)]\n",
      "\u001b[32mProgress: 100%|███████████████████████████| Time: 0:00:04 ( 0.44 μs/it)\u001b[39m\n",
      "\u001b[38;5;6m\u001b[1m[ \u001b[22m\u001b[39m\u001b[38;5;6m\u001b[1mInfo: \u001b[22m\u001b[39m20220508 17:20:35 training model with parameters [Dual{ForwardDiff.Tag{typeof(validation_mse), Float32}}(0.8514616,0.8514616,0.0,0.0), Dual{ForwardDiff.Tag{typeof(validation_mse), Float32}}(0.09057453,0.0,0.09057453,0.0), Dual{ForwardDiff.Tag{typeof(validation_mse), Float32}}(0.64627194,0.0,0.0,0.64627194)]\n",
      "\u001b[32mProgress: 100%|███████████████████████████| Time: 0:00:04 ( 0.45 μs/it)\u001b[39m\n",
      "\u001b[38;5;6m\u001b[1m[ \u001b[22m\u001b[39m\u001b[38;5;6m\u001b[1mInfo: \u001b[22m\u001b[39m20220508 17:20:57 training model with parameters [Dual{ForwardDiff.Tag{typeof(validation_mse), Float32}}(0.8518457,0.8518457,0.0,0.0), Dual{ForwardDiff.Tag{typeof(validation_mse), Float32}}(0.11259121,0.0,0.11259121,0.0), Dual{ForwardDiff.Tag{typeof(validation_mse), Float32}}(0.6440265,0.0,0.0,0.6440265)]\n",
      "\u001b[32mProgress: 100%|███████████████████████████| Time: 0:00:04 ( 0.44 μs/it)\u001b[39m\n"
     ]
    },
    {
     "name": "stdout",
     "output_type": "stream",
     "text": [
      "    11     1.814489e+00     1.294824e-05\n",
      " * Current step size: 1.2454377\n",
      " * time: 837.9163730144501\n",
      " * g(x): Float32[-3.9645433f-6, 1.9660862f-7, 1.2948236f-5]\n",
      " * x: Float32[-0.16034992, -2.1839917, -0.44001544]\n"
     ]
    },
    {
     "name": "stderr",
     "output_type": "stream",
     "text": [
      "\u001b[38;5;6m\u001b[1m[ \u001b[22m\u001b[39m\u001b[38;5;6m\u001b[1mInfo: \u001b[22m\u001b[39m20220508 17:21:18 training model with parameters [Dual{ForwardDiff.Tag{typeof(validation_mse), Float32}}(0.85188377,0.85188377,0.0,0.0), Dual{ForwardDiff.Tag{typeof(validation_mse), Float32}}(0.10547293,0.0,0.10547293,0.0), Dual{ForwardDiff.Tag{typeof(validation_mse), Float32}}(0.6440196,0.0,0.0,0.6440196)]\n",
      "\u001b[32mProgress: 100%|███████████████████████████| Time: 0:00:04 ( 0.45 μs/it)\u001b[39m\n",
      "\u001b[38;5;6m\u001b[1m[ \u001b[22m\u001b[39m\u001b[38;5;6m\u001b[1mInfo: \u001b[22m\u001b[39m20220508 17:21:40 training model with parameters [Dual{ForwardDiff.Tag{typeof(validation_mse), Float32}}(0.8520362,0.8520362,0.0,0.0), Dual{ForwardDiff.Tag{typeof(validation_mse), Float32}}(0.08122456,0.0,0.08122456,0.0), Dual{ForwardDiff.Tag{typeof(validation_mse), Float32}}(0.64399207,0.0,0.0,0.64399207)]\n",
      "\u001b[32mProgress: 100%|███████████████████████████| Time: 0:00:04 ( 0.44 μs/it)\u001b[39m\n",
      "\u001b[38;5;6m\u001b[1m[ \u001b[22m\u001b[39m\u001b[38;5;6m\u001b[1mInfo: \u001b[22m\u001b[39m20220508 17:22:01 training model with parameters [Dual{ForwardDiff.Tag{typeof(validation_mse), Float32}}(0.8527986,0.8527986,0.0,0.0), Dual{ForwardDiff.Tag{typeof(validation_mse), Float32}}(0.021999806,0.0,0.021999806,0.0), Dual{ForwardDiff.Tag{typeof(validation_mse), Float32}}(0.6438543,0.0,0.0,0.6438543)]\n",
      "\u001b[32mProgress: 100%|███████████████████████████| Time: 0:00:04 ( 0.44 μs/it)\u001b[39m\n",
      "\u001b[38;5;6m\u001b[1m[ \u001b[22m\u001b[39m\u001b[38;5;6m\u001b[1mInfo: \u001b[22m\u001b[39m20220508 17:22:22 training model with parameters [Dual{ForwardDiff.Tag{typeof(validation_mse), Float32}}(0.85662097,0.85662097,0.0,0.0), Dual{ForwardDiff.Tag{typeof(validation_mse), Float32}}(3.206835e-5,0.0,3.206835e-5,0.0), Dual{ForwardDiff.Tag{typeof(validation_mse), Float32}}(0.643166,0.0,0.0,0.643166)]\n",
      "\u001b[32mProgress: 100%|███████████████████████████| Time: 0:00:04 ( 0.44 μs/it)\u001b[39m\n",
      "\u001b[38;5;6m\u001b[1m[ \u001b[22m\u001b[39m\u001b[38;5;6m\u001b[1mInfo: \u001b[22m\u001b[39m20220508 17:22:44 training model with parameters [Dual{ForwardDiff.Tag{typeof(validation_mse), Float32}}(0.855133,0.855133,0.0,0.0), Dual{ForwardDiff.Tag{typeof(validation_mse), Float32}}(0.00040618784,0.0,0.00040618784,0.0), Dual{ForwardDiff.Tag{typeof(validation_mse), Float32}}(0.6434335,0.0,0.0,0.6434335)]\n",
      "\u001b[32mProgress: 100%|███████████████████████████| Time: 0:00:04 ( 0.44 μs/it)\u001b[39m\n"
     ]
    },
    {
     "name": "stdout",
     "output_type": "stream",
     "text": [
      "    12     1.814489e+00     3.270234e-04\n",
      " * Current step size: 86.12421\n",
      " * time: 945.1410758495331\n",
      " * g(x): Float32[0.00010829754, 1.4069728f-9, -0.00032702336]\n",
      " * x: Float32[-0.1564983, -7.808695, -0.4409366]\n"
     ]
    },
    {
     "name": "stderr",
     "output_type": "stream",
     "text": [
      "\u001b[38;5;6m\u001b[1m[ \u001b[22m\u001b[39m\u001b[38;5;6m\u001b[1mInfo: \u001b[22m\u001b[39m20220508 17:23:05 training model with parameters [Dual{ForwardDiff.Tag{typeof(validation_mse), Float32}}(0.8528792,0.8528792,0.0,0.0), Dual{ForwardDiff.Tag{typeof(validation_mse), Float32}}(0.0008979847,0.0,0.0008979847,0.0), Dual{ForwardDiff.Tag{typeof(validation_mse), Float32}}(0.6439245,0.0,0.0,0.6439245)]\n",
      "\u001b[32mProgress: 100%|███████████████████████████| Time: 0:00:04 ( 0.44 μs/it)\u001b[39m\n",
      "\u001b[38;5;6m\u001b[1m[ \u001b[22m\u001b[39m\u001b[38;5;6m\u001b[1mInfo: \u001b[22m\u001b[39m20220508 17:23:27 training model with parameters [Dual{ForwardDiff.Tag{typeof(validation_mse), Float32}}(0.8439234,0.8439234,0.0,0.0), Dual{ForwardDiff.Tag{typeof(validation_mse), Float32}}(0.021450493,0.0,0.021450493,0.0), Dual{ForwardDiff.Tag{typeof(validation_mse), Float32}}(0.64589214,0.0,0.0,0.64589214)]\n",
      "\u001b[32mProgress: 100%|███████████████████████████| Time: 0:00:04 ( 0.45 μs/it)\u001b[39m\n",
      "\u001b[38;5;6m\u001b[1m[ \u001b[22m\u001b[39m\u001b[38;5;6m\u001b[1mInfo: \u001b[22m\u001b[39m20220508 17:23:48 training model with parameters [Dual{ForwardDiff.Tag{typeof(validation_mse), Float32}}(0.852287,0.852287,0.0,0.0), Dual{ForwardDiff.Tag{typeof(validation_mse), Float32}}(0.0011064969,0.0,0.0011064969,0.0), Dual{ForwardDiff.Tag{typeof(validation_mse), Float32}}(0.64405376,0.0,0.0,0.64405376)]\n",
      "\u001b[32mProgress: 100%|███████████████████████████| Time: 0:00:04 ( 0.44 μs/it)\u001b[39m\n"
     ]
    },
    {
     "name": "stdout",
     "output_type": "stream",
     "text": [
      "    13     1.814489e+00     1.126408e-05\n",
      " * Current step size: 1.2631932\n",
      " * time: 1009.5826728343964\n",
      " * g(x): Float32[3.6128788f-6, 7.663208f-9, -1.1264083f-5]\n",
      " * x: Float32[-0.15983194, -6.806556, -0.4399731]\n"
     ]
    },
    {
     "name": "stderr",
     "output_type": "stream",
     "text": [
      "\u001b[38;5;6m\u001b[1m[ \u001b[22m\u001b[39m\u001b[38;5;6m\u001b[1mInfo: \u001b[22m\u001b[39m20220508 17:24:10 training model with parameters [Dual{ForwardDiff.Tag{typeof(validation_mse), Float32}}(0.8522434,0.8522434,0.0,0.0), Dual{ForwardDiff.Tag{typeof(validation_mse), Float32}}(0.00094663055,0.0,0.00094663055,0.0), Dual{ForwardDiff.Tag{typeof(validation_mse), Float32}}(0.6440759,0.0,0.0,0.6440759)]\n",
      "\u001b[32mProgress: 100%|███████████████████████████| Time: 0:00:04 ( 0.45 μs/it)\u001b[39m\n",
      "\u001b[38;5;6m\u001b[1m[ \u001b[22m\u001b[39m\u001b[38;5;6m\u001b[1mInfo: \u001b[22m\u001b[39m20220508 17:24:31 training model with parameters [Dual{ForwardDiff.Tag{typeof(validation_mse), Float32}}(0.85206914,0.85206914,0.0,0.0), Dual{ForwardDiff.Tag{typeof(validation_mse), Float32}}(0.00050710933,0.0,0.00050710933,0.0), Dual{ForwardDiff.Tag{typeof(validation_mse), Float32}}(0.6441643,0.0,0.0,0.6441643)]\n",
      "\u001b[32mProgress: 100%|███████████████████████████| Time: 0:00:04 ( 0.44 μs/it)\u001b[39m\n",
      "\u001b[38;5;6m\u001b[1m[ \u001b[22m\u001b[39m\u001b[38;5;6m\u001b[1mInfo: \u001b[22m\u001b[39m20220508 17:24:53 training model with parameters [Dual{ForwardDiff.Tag{typeof(validation_mse), Float32}}(0.85215753,0.85215753,0.0,0.0), Dual{ForwardDiff.Tag{typeof(validation_mse), Float32}}(0.00069595035,0.0,0.00069595035,0.0), Dual{ForwardDiff.Tag{typeof(validation_mse), Float32}}(0.64411944,0.0,0.0,0.64411944)]\n",
      "\u001b[32mProgress: 100%|███████████████████████████| Time: 0:00:04 ( 0.44 μs/it)\u001b[39m\n"
     ]
    },
    {
     "name": "stdout",
     "output_type": "stream",
     "text": [
      "    14     1.814489e+00     1.170827e-05\n",
      " * Current step size: 2.971413\n",
      " * time: 1073.9676308631897\n",
      " * g(x): Float32[-3.7363232f-6, 3.4650365f-9, 1.17082745f-5]\n",
      " * x: Float32[-0.15998389, -7.270232, -0.43987107]\n"
     ]
    },
    {
     "name": "stderr",
     "output_type": "stream",
     "text": [
      "\u001b[38;5;6m\u001b[1m[ \u001b[22m\u001b[39m\u001b[38;5;6m\u001b[1mInfo: \u001b[22m\u001b[39m20220508 17:25:14 training model with parameters [Dual{ForwardDiff.Tag{typeof(validation_mse), Float32}}(0.8522275,0.8522275,0.0,0.0), Dual{ForwardDiff.Tag{typeof(validation_mse), Float32}}(0.000560882,0.0,0.000560882,0.0), Dual{ForwardDiff.Tag{typeof(validation_mse), Float32}}(0.6441066,0.0,0.0,0.6441066)]\n",
      "\u001b[32mProgress: 100%|███████████████████████████| Time: 0:00:04 ( 0.44 μs/it)\u001b[39m\n",
      "\u001b[38;5;6m\u001b[1m[ \u001b[22m\u001b[39m\u001b[38;5;6m\u001b[1mInfo: \u001b[22m\u001b[39m20220508 17:25:36 training model with parameters [Dual{ForwardDiff.Tag{typeof(validation_mse), Float32}}(0.8525076,0.8525076,0.0,0.0), Dual{ForwardDiff.Tag{typeof(validation_mse), Float32}}(0.00023661634,0.0,0.00023661634,0.0), Dual{ForwardDiff.Tag{typeof(validation_mse), Float32}}(0.6440553,0.0,0.0,0.6440553)]\n",
      "\u001b[32mProgress: 100%|███████████████████████████| Time: 0:00:04 ( 0.45 μs/it)\u001b[39m\n",
      "\u001b[38;5;6m\u001b[1m[ \u001b[22m\u001b[39m\u001b[38;5;6m\u001b[1mInfo: \u001b[22m\u001b[39m20220508 17:25:57 training model with parameters [Dual{ForwardDiff.Tag{typeof(validation_mse), Float32}}(0.8523433,0.8523433,0.0,0.0), Dual{ForwardDiff.Tag{typeof(validation_mse), Float32}}(0.0003925677,0.0,0.0003925677,0.0), Dual{ForwardDiff.Tag{typeof(validation_mse), Float32}}(0.6440854,0.0,0.0,0.6440854)]\n",
      "\u001b[32mProgress: 100%|███████████████████████████| Time: 0:00:04 ( 0.44 μs/it)\u001b[39m\n"
     ]
    },
    {
     "name": "stdout",
     "output_type": "stream",
     "text": [
      "    15     1.814489e+00     6.699579e-06\n",
      " * Current step size: 2.6536384\n",
      " * time: 1138.324518918991\n",
      " * g(x): Float32[2.6128098f-6, 1.3550716f-9, -6.6995794f-6]\n",
      " * x: Float32[-0.15976588, -7.8428016, -0.43992394]\n"
     ]
    },
    {
     "name": "stderr",
     "output_type": "stream",
     "text": [
      "\u001b[38;5;6m\u001b[1m[ \u001b[22m\u001b[39m\u001b[38;5;6m\u001b[1mInfo: \u001b[22m\u001b[39m20220508 17:26:19 training model with parameters [Dual{ForwardDiff.Tag{typeof(validation_mse), Float32}}(0.8522702,0.8522702,0.0,0.0), Dual{ForwardDiff.Tag{typeof(validation_mse), Float32}}(0.0003174885,0.0,0.0003174885,0.0), Dual{ForwardDiff.Tag{typeof(validation_mse), Float32}}(0.6440872,0.0,0.0,0.6440872)]\n",
      "\u001b[32mProgress: 100%|███████████████████████████| Time: 0:00:04 ( 0.45 μs/it)\u001b[39m\n",
      "\u001b[38;5;6m\u001b[1m[ \u001b[22m\u001b[39m\u001b[38;5;6m\u001b[1mInfo: \u001b[22m\u001b[39m20220508 17:26:40 training model with parameters [Dual{ForwardDiff.Tag{typeof(validation_mse), Float32}}(0.85197777,0.85197777,0.0,0.0), Dual{ForwardDiff.Tag{typeof(validation_mse), Float32}}(0.0001358259,0.0,0.0001358259,0.0), Dual{ForwardDiff.Tag{typeof(validation_mse), Float32}}(0.64409435,0.0,0.0,0.64409435)]\n",
      "\u001b[32mProgress: 100%|███████████████████████████| Time: 0:00:04 ( 0.44 μs/it)\u001b[39m\n",
      "\u001b[38;5;6m\u001b[1m[ \u001b[22m\u001b[39m\u001b[38;5;6m\u001b[1mInfo: \u001b[22m\u001b[39m20220508 17:27:01 training model with parameters [Dual{ForwardDiff.Tag{typeof(validation_mse), Float32}}(0.85216033,0.85216033,0.0,0.0), Dual{ForwardDiff.Tag{typeof(validation_mse), Float32}}(0.00023080736,0.0,0.00023080736,0.0), Dual{ForwardDiff.Tag{typeof(validation_mse), Float32}}(0.6440899,0.0,0.0,0.6440899)]\n",
      "\u001b[32mProgress: 100%|███████████████████████████| Time: 0:00:04 ( 0.44 μs/it)\u001b[39m\n"
     ]
    },
    {
     "name": "stdout",
     "output_type": "stream",
     "text": [
      "    16     1.814489e+00     3.675404e-06\n",
      " * Current step size: 2.5021572\n",
      " * time: 1202.412027835846\n",
      " * g(x): Float32[-1.6368393f-6, 5.797353f-10, 3.6754036f-6]\n",
      " * x: Float32[-0.15998057, -8.373927, -0.439917]\n"
     ]
    },
    {
     "name": "stderr",
     "output_type": "stream",
     "text": [
      "\u001b[38;5;6m\u001b[1m[ \u001b[22m\u001b[39m\u001b[38;5;6m\u001b[1mInfo: \u001b[22m\u001b[39m20220508 17:27:23 training model with parameters [Dual{ForwardDiff.Tag{typeof(validation_mse), Float32}}(0.85222363,0.85222363,0.0,0.0), Dual{ForwardDiff.Tag{typeof(validation_mse), Float32}}(0.0001858231,0.0,0.0001858231,0.0), Dual{ForwardDiff.Tag{typeof(validation_mse), Float32}}(0.64409477,0.0,0.0,0.64409477)]\n",
      "\u001b[32mProgress: 100%|███████████████████████████| Time: 0:00:04 ( 0.45 μs/it)\u001b[39m\n",
      "\u001b[38;5;6m\u001b[1m[ \u001b[22m\u001b[39m\u001b[38;5;6m\u001b[1mInfo: \u001b[22m\u001b[39m20220508 17:27:44 training model with parameters [Dual{ForwardDiff.Tag{typeof(validation_mse), Float32}}(0.8524767,0.8524767,0.0,0.0), Dual{ForwardDiff.Tag{typeof(validation_mse), Float32}}(7.807297e-5,0.0,7.807297e-5,0.0), Dual{ForwardDiff.Tag{typeof(validation_mse), Float32}}(0.64411426,0.0,0.0,0.64411426)]\n",
      "\u001b[32mProgress: 100%|███████████████████████████| Time: 0:00:04 ( 0.44 μs/it)\u001b[39m\n",
      "\u001b[38;5;6m\u001b[1m[ \u001b[22m\u001b[39m\u001b[38;5;6m\u001b[1mInfo: \u001b[22m\u001b[39m20220508 17:28:05 training model with parameters [Dual{ForwardDiff.Tag{typeof(validation_mse), Float32}}(0.85232896,0.85232896,0.0,0.0), Dual{ForwardDiff.Tag{typeof(validation_mse), Float32}}(0.0001295374,0.0,0.0001295374,0.0), Dual{ForwardDiff.Tag{typeof(validation_mse), Float32}}(0.6441029,0.0,0.0,0.6441029)]\n",
      "\u001b[32mProgress: 100%|███████████████████████████| Time: 0:00:04 ( 0.44 μs/it)\u001b[39m\n"
     ]
    },
    {
     "name": "stdout",
     "output_type": "stream",
     "text": [
      "    17     1.814489e+00     1.754345e-06\n",
      " * Current step size: 2.6644194\n",
      " * time: 1266.6238560676575\n",
      " * g(x): Float32[1.0560404f-6, 2.5550173f-10, -1.7543447f-6]\n",
      " * x: Float32[-0.15978275, -8.951541, -0.43989685]\n"
     ]
    },
    {
     "name": "stderr",
     "output_type": "stream",
     "text": [
      "\u001b[38;5;6m\u001b[1m[ \u001b[22m\u001b[39m\u001b[38;5;6m\u001b[1mInfo: \u001b[22m\u001b[39m20220508 17:28:27 training model with parameters [Dual{ForwardDiff.Tag{typeof(validation_mse), Float32}}(0.8522722,0.8522722,0.0,0.0), Dual{ForwardDiff.Tag{typeof(validation_mse), Float32}}(0.0001016012,0.0,0.0001016012,0.0), Dual{ForwardDiff.Tag{typeof(validation_mse), Float32}}(0.64409405,0.0,0.0,0.64409405)]\n",
      "\u001b[32mProgress: 100%|███████████████████████████| Time: 0:00:04 ( 0.45 μs/it)\u001b[39m\n",
      "\u001b[38;5;6m\u001b[1m[ \u001b[22m\u001b[39m\u001b[38;5;6m\u001b[1mInfo: \u001b[22m\u001b[39m20220508 17:28:48 training model with parameters [Dual{ForwardDiff.Tag{typeof(validation_mse), Float32}}(0.8520454,0.8520454,0.0,0.0), Dual{ForwardDiff.Tag{typeof(validation_mse), Float32}}(3.8451497e-5,0.0,3.8451497e-5,0.0), Dual{ForwardDiff.Tag{typeof(validation_mse), Float32}}(0.6440587,0.0,0.0,0.6440587)]\n",
      "\u001b[32mProgress: 100%|███████████████████████████| Time: 0:00:04 ( 0.44 μs/it)\u001b[39m\n",
      "\u001b[38;5;6m\u001b[1m[ \u001b[22m\u001b[39m\u001b[38;5;6m\u001b[1mInfo: \u001b[22m\u001b[39m20220508 17:29:10 training model with parameters [Dual{ForwardDiff.Tag{typeof(validation_mse), Float32}}(0.8521696,0.8521696,0.0,0.0), Dual{ForwardDiff.Tag{typeof(validation_mse), Float32}}(6.5449756e-5,0.0,6.5449756e-5,0.0), Dual{ForwardDiff.Tag{typeof(validation_mse), Float32}}(0.644078,0.0,0.0,0.644078)]\n",
      "\u001b[32mProgress: 100%|███████████████████████████| Time: 0:00:04 ( 0.44 μs/it)\u001b[39m\n"
     ]
    },
    {
     "name": "stdout",
     "output_type": "stream",
     "text": [
      "    18     1.814489e+00     1.530033e-06\n",
      " * Current step size: 2.8103993\n",
      " * time: 1331.0338668823242\n",
      " * g(x): Float32[-5.980161f-7, 1.0321363f-10, 1.5300328f-6]\n",
      " * x: Float32[-0.15996976, -9.634228, -0.4399354]\n"
     ]
    },
    {
     "name": "stderr",
     "output_type": "stream",
     "text": [
      "\u001b[38;5;6m\u001b[1m[ \u001b[22m\u001b[39m\u001b[38;5;6m\u001b[1mInfo: \u001b[22m\u001b[39m20220508 17:29:31 training model with parameters [Dual{ForwardDiff.Tag{typeof(validation_mse), Float32}}(0.8521658,0.8521658,0.0,0.0), Dual{ForwardDiff.Tag{typeof(validation_mse), Float32}}(4.8567304e-5,0.0,4.8567304e-5,0.0), Dual{ForwardDiff.Tag{typeof(validation_mse), Float32}}(0.64407116,0.0,0.0,0.64407116)]\n",
      "\u001b[32mProgress: 100%|███████████████████████████| Time: 0:00:04 ( 0.44 μs/it)\u001b[39m\n",
      "\u001b[38;5;6m\u001b[1m[ \u001b[22m\u001b[39m\u001b[38;5;6m\u001b[1mInfo: \u001b[22m\u001b[39m20220508 17:29:53 training model with parameters [Dual{ForwardDiff.Tag{typeof(validation_mse), Float32}}(0.85215104,0.85215104,0.0,0.0), Dual{ForwardDiff.Tag{typeof(validation_mse), Float32}}(1.4726133e-5,0.0,1.4726133e-5,0.0), Dual{ForwardDiff.Tag{typeof(validation_mse), Float32}}(0.6440437,0.0,0.0,0.6440437)]\n",
      "\u001b[32mProgress: 100%|███████████████████████████| Time: 0:00:04 ( 0.45 μs/it)\u001b[39m\n",
      "\u001b[38;5;6m\u001b[1m[ \u001b[22m\u001b[39m\u001b[38;5;6m\u001b[1mInfo: \u001b[22m\u001b[39m20220508 17:30:14 training model with parameters [Dual{ForwardDiff.Tag{typeof(validation_mse), Float32}}(0.85216236,0.85216236,0.0,0.0), Dual{ForwardDiff.Tag{typeof(validation_mse), Float32}}(3.6709294e-5,0.0,3.6709294e-5,0.0), Dual{ForwardDiff.Tag{typeof(validation_mse), Float32}}(0.6440647,0.0,0.0,0.6440647)]\n",
      "\u001b[32mProgress: 100%|███████████████████████████| Time: 0:00:04 ( 0.44 μs/it)\u001b[39m\n"
     ]
    },
    {
     "name": "stdout",
     "output_type": "stream",
     "text": [
      "    19     1.814489e+00     2.001422e-06\n",
      " * Current step size: 1.9382879\n",
      " * time: 1395.4840078353882\n",
      " * g(x): Float32[1.7457256f-7, 4.9074248f-11, -2.001422f-6]\n",
      " * x: Float32[-0.1599782, -10.212481, -0.43995607]\n"
     ]
    },
    {
     "name": "stderr",
     "output_type": "stream",
     "text": [
      "\u001b[38;5;6m\u001b[1m[ \u001b[22m\u001b[39m\u001b[38;5;6m\u001b[1mInfo: \u001b[22m\u001b[39m20220508 17:30:36 training model with parameters [Dual{ForwardDiff.Tag{typeof(validation_mse), Float32}}(0.8521888,0.8521888,0.0,0.0), Dual{ForwardDiff.Tag{typeof(validation_mse), Float32}}(3.4956905e-5,0.0,3.4956905e-5,0.0), Dual{ForwardDiff.Tag{typeof(validation_mse), Float32}}(0.6440717,0.0,0.0,0.6440717)]\n",
      "\u001b[32mProgress: 100%|███████████████████████████| Time: 0:00:04 ( 0.44 μs/it)\u001b[39m\n",
      "\u001b[38;5;6m\u001b[1m[ \u001b[22m\u001b[39m\u001b[38;5;6m\u001b[1mInfo: \u001b[22m\u001b[39m20220508 17:30:57 training model with parameters [Dual{ForwardDiff.Tag{typeof(validation_mse), Float32}}(0.85229456,0.85229456,0.0,0.0), Dual{ForwardDiff.Tag{typeof(validation_mse), Float32}}(2.8744842e-5,0.0,2.8744842e-5,0.0), Dual{ForwardDiff.Tag{typeof(validation_mse), Float32}}(0.6440995,0.0,0.0,0.6440995)]\n",
      "\u001b[32mProgress: 100%|███████████████████████████| Time: 0:00:04 ( 0.44 μs/it)\u001b[39m\n",
      "\u001b[38;5;6m\u001b[1m[ \u001b[22m\u001b[39m\u001b[38;5;6m\u001b[1mInfo: \u001b[22m\u001b[39m20220508 17:31:19 training model with parameters [Dual{ForwardDiff.Tag{typeof(validation_mse), Float32}}(0.8522313,0.8522313,0.0,0.0), Dual{ForwardDiff.Tag{typeof(validation_mse), Float32}}(3.2313517e-5,0.0,3.2313517e-5,0.0), Dual{ForwardDiff.Tag{typeof(validation_mse), Float32}}(0.64408284,0.0,0.0,0.64408284)]\n",
      "\u001b[32mProgress: 100%|███████████████████████████| Time: 0:00:04 ( 0.45 μs/it)\u001b[39m\n"
     ]
    },
    {
     "name": "stdout",
     "output_type": "stream",
     "text": [
      "    20     1.814489e+00     1.364076e-06\n",
      " * Current step size: 2.6075046\n",
      " * time: 1459.9649980068207\n",
      " * g(x): Float32[3.9563918f-7, 4.4214424f-11, -1.3640758f-6]\n",
      " * x: Float32[-0.15989731, -10.340025, -0.4399279]\n"
     ]
    },
    {
     "name": "stderr",
     "output_type": "stream",
     "text": [
      "\u001b[38;5;6m\u001b[1m[ \u001b[22m\u001b[39m\u001b[38;5;6m\u001b[1mInfo: \u001b[22m\u001b[39m20220508 17:31:40 training model with parameters [Dual{ForwardDiff.Tag{typeof(validation_mse), Float32}}(0.8522434,0.8522434,0.0,0.0), Dual{ForwardDiff.Tag{typeof(validation_mse), Float32}}(2.437815e-5,0.0,2.437815e-5,0.0), Dual{ForwardDiff.Tag{typeof(validation_mse), Float32}}(0.6440905,0.0,0.0,0.6440905)]\n",
      "\u001b[32mProgress: 100%|███████████████████████████| Time: 0:00:04 ( 0.44 μs/it)\u001b[39m\n",
      "\u001b[38;5;6m\u001b[1m[ \u001b[22m\u001b[39m\u001b[38;5;6m\u001b[1mInfo: \u001b[22m\u001b[39m20220508 17:32:02 training model with parameters [Dual{ForwardDiff.Tag{typeof(validation_mse), Float32}}(0.8522918,0.8522918,0.0,0.0), Dual{ForwardDiff.Tag{typeof(validation_mse), Float32}}(7.897093e-6,0.0,7.897093e-6,0.0), Dual{ForwardDiff.Tag{typeof(validation_mse), Float32}}(0.64412093,0.0,0.0,0.64412093)]\n",
      "\u001b[32mProgress: 100%|███████████████████████████| Time: 0:00:04 ( 0.44 μs/it)\u001b[39m\n",
      "\u001b[38;5;6m\u001b[1m[ \u001b[22m\u001b[39m\u001b[38;5;6m\u001b[1mInfo: \u001b[22m\u001b[39m20220508 17:32:23 training model with parameters [Dual{ForwardDiff.Tag{typeof(validation_mse), Float32}}(0.8522564,0.8522564,0.0,0.0), Dual{ForwardDiff.Tag{typeof(validation_mse), Float32}}(1.7995784e-5,0.0,1.7995784e-5,0.0), Dual{ForwardDiff.Tag{typeof(validation_mse), Float32}}(0.6440987,0.0,0.0,0.6440987)]\n",
      "\u001b[32mProgress: 100%|███████████████████████████| Time: 0:00:04 ( 0.44 μs/it)\u001b[39m\n"
     ]
    },
    {
     "name": "stdout",
     "output_type": "stream",
     "text": [
      "    21     1.814489e+00     7.983481e-07\n",
      " * Current step size: 2.07719\n",
      " * time: 1524.253702878952\n",
      " * g(x): Float32[-1.5771829f-7, 2.2963187f-11, 7.983481f-7]\n",
      " * x: Float32[-0.15986782, -10.925373, -0.43990332]\n"
     ]
    },
    {
     "name": "stderr",
     "output_type": "stream",
     "text": [
      "\u001b[38;5;6m\u001b[1m[ \u001b[22m\u001b[39m\u001b[38;5;6m\u001b[1mInfo: \u001b[22m\u001b[39m20220508 17:32:45 training model with parameters [Dual{ForwardDiff.Tag{typeof(validation_mse), Float32}}(0.8522527,0.8522527,0.0,0.0), Dual{ForwardDiff.Tag{typeof(validation_mse), Float32}}(1.4079447e-5,0.0,1.4079447e-5,0.0), Dual{ForwardDiff.Tag{typeof(validation_mse), Float32}}(0.64409596,0.0,0.0,0.64409596)]\n",
      "\u001b[32mProgress: 100%|███████████████████████████| Time: 0:00:04 ( 0.45 μs/it)\u001b[39m\n",
      "\u001b[38;5;6m\u001b[1m[ \u001b[22m\u001b[39m\u001b[38;5;6m\u001b[1mInfo: \u001b[22m\u001b[39m20220508 17:33:06 training model with parameters [Dual{ForwardDiff.Tag{typeof(validation_mse), Float32}}(0.85223794,0.85223794,0.0,0.0), Dual{ForwardDiff.Tag{typeof(validation_mse), Float32}}(5.275278e-6,0.0,5.275278e-6,0.0), Dual{ForwardDiff.Tag{typeof(validation_mse), Float32}}(0.64408505,0.0,0.0,0.64408505)]\n",
      "\u001b[32mProgress: 100%|███████████████████████████| Time: 0:00:04 ( 0.44 μs/it)\u001b[39m\n",
      "\u001b[38;5;6m\u001b[1m[ \u001b[22m\u001b[39m\u001b[38;5;6m\u001b[1mInfo: \u001b[22m\u001b[39m20220508 17:33:27 training model with parameters [Dual{ForwardDiff.Tag{typeof(validation_mse), Float32}}(0.85224056,0.85224056,0.0,0.0), Dual{ForwardDiff.Tag{typeof(validation_mse), Float32}}(6.277633e-6,0.0,6.277633e-6,0.0), Dual{ForwardDiff.Tag{typeof(validation_mse), Float32}}(0.644087,0.0,0.0,0.644087)]\n",
      "\u001b[32mProgress: 100%|███████████████████████████| Time: 0:00:04 ( 0.44 μs/it)\u001b[39m\n"
     ]
    },
    {
     "name": "stdout",
     "output_type": "stream",
     "text": [
      "    22     1.814489e+00     8.385715e-07\n",
      " * Current step size: 4.291169\n",
      " * time: 1588.694303035736\n",
      " * g(x): Float32[2.8909088f-7, 7.647784f-12, -8.385715f-7]\n",
      " * x: Float32[-0.15988646, -11.978518, -0.43992147]\n"
     ]
    }
   ],
   "source": [
    "# Find the best regularization hyperparameters\n",
    "res = optimize(\n",
    "    validation_mse,\n",
    "    fill(0.0f0, 3),\n",
    "    LBFGS(),\n",
    "    autodiff = :forward,\n",
    "    Optim.Options(show_trace = true, extended_trace = true),\n",
    ");\n",
    "λ = exp.(Optim.minimizer(res));"
   ]
  },
  {
   "cell_type": "code",
   "execution_count": 9,
   "id": "5e71e197-1810-46ac-9be5-4847747fce90",
   "metadata": {},
   "outputs": [
    {
     "name": "stderr",
     "output_type": "stream",
     "text": [
      "\u001b[38;5;6m\u001b[1m[ \u001b[22m\u001b[39m\u001b[38;5;6m\u001b[1mInfo: \u001b[22m\u001b[39m20220508 17:33:49 The optimal [λ_u, λ_a, λ_w] is Float32[0.85224056, 6.277633f-6, 0.644087], found in 75 function calls\n"
     ]
    }
   ],
   "source": [
    "@info \"The optimal [λ_u, λ_a, λ_w] is $λ, found in \" *\n",
    "      repr(Optim.f_calls(res)) *\n",
    "      \" function calls\""
   ]
  },
  {
   "cell_type": "code",
   "execution_count": 10,
   "id": "781a2388-df56-42ce-8e58-b4a11a4e4d0b",
   "metadata": {},
   "outputs": [
    {
     "name": "stderr",
     "output_type": "stream",
     "text": [
      "\u001b[38;5;6m\u001b[1m[ \u001b[22m\u001b[39m\u001b[38;5;6m\u001b[1mInfo: \u001b[22m\u001b[39m20220508 17:33:49 training model with parameters [0.85224056, 6.277633e-6, 0.644087]\n",
      "\u001b[32mProgress: 100%|███████████████████████████| Time: 0:00:04 ( 0.46 μs/it)\u001b[39m\n"
     ]
    }
   ],
   "source": [
    "empty!(memoize_cache(get_weights))\n",
    "stop_criteria = convergence_stopper(1e-6, max_iters = 16)\n",
    "u, a = train_model(training, λ..., stop_criteria);"
   ]
  },
  {
   "cell_type": "markdown",
   "id": "7c291e04-b1ba-48a0-ac09-25eda75a6162",
   "metadata": {},
   "source": [
    "## Inference"
   ]
  },
  {
   "cell_type": "code",
   "execution_count": 11,
   "id": "bd86b2cc-bc7e-4fdb-93fd-37e1f15422c7",
   "metadata": {},
   "outputs": [],
   "source": [
    "model(users, items) = make_prediction(users, items, u, a);"
   ]
  },
  {
   "cell_type": "code",
   "execution_count": 12,
   "id": "09dc7ac8-4839-476e-acdc-4687262d8623",
   "metadata": {},
   "outputs": [
    {
     "name": "stderr",
     "output_type": "stream",
     "text": [
      "\u001b[38;5;6m\u001b[1m[ \u001b[22m\u001b[39m\u001b[38;5;6m\u001b[1mInfo: \u001b[22m\u001b[39m20220508 17:34:14 training set: RMSE 1.2844305 MAE 0.96078026 R2 0.46220618\n",
      "\u001b[32mProgress: 100%|███████████████████████████| Time: 0:00:04 ( 0.45 μs/it)\u001b[39m\n",
      "\u001b[38;5;6m\u001b[1m[ \u001b[22m\u001b[39m\u001b[38;5;6m\u001b[1mInfo: \u001b[22m\u001b[39m20220508 17:34:27 training set weighted-loss: RMSE 1.2921827 MAE 0.96010107 R2 0.48657387\n",
      "\u001b[38;5;6m\u001b[1m[ \u001b[22m\u001b[39m\u001b[38;5;6m\u001b[1mInfo: \u001b[22m\u001b[39m20220508 17:34:28 validation set: RMSE 1.3195703 MAE 0.9857642 R2 0.40952003\n",
      "\u001b[38;5;6m\u001b[1m[ \u001b[22m\u001b[39m\u001b[38;5;6m\u001b[1mInfo: \u001b[22m\u001b[39m20220508 17:34:29 validation set weighted-loss: RMSE 1.3469635 MAE 1.0024703 R2 0.39467692\n"
     ]
    }
   ],
   "source": [
    "write_predictions(model; residual_alphas = residual_alphas);"
   ]
  },
  {
   "cell_type": "code",
   "execution_count": 13,
   "id": "c4c83363-c309-46e5-ba51-252ad0d3871a",
   "metadata": {},
   "outputs": [],
   "source": [
    "write_params(Dict(\"u\" => u, \"a\" => a, \"λ\" => λ));"
   ]
  }
 ],
 "metadata": {
  "kernelspec": {
   "display_name": "Julia 1.8.0-beta3",
   "language": "julia",
   "name": "julia-1.8"
  },
  "language_info": {
   "file_extension": ".jl",
   "mimetype": "application/julia",
   "name": "julia",
   "version": "1.8.0"
  }
 },
 "nbformat": 4,
 "nbformat_minor": 5
}
