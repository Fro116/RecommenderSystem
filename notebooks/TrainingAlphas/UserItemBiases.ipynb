{
 "cells": [
  {
   "cell_type": "markdown",
   "id": "c3758ece-9b72-47b4-ae6a-aa364e0443e3",
   "metadata": {},
   "source": [
    "# User Item Biases With Regularization\n",
    "* Prediction for user $i$ and item $j$ is $\\tilde r_{ij} = u_i + a_j$\n",
    "* Loss function is $L = \\sum_{\\Omega}w_{ij}\\text{loss}(r_{ij}, \\tilde r_{ij}) + \\lambda_u \\sum_i (u_i - \\bar u) ^2 + \\lambda_a \\sum_j (a_j - \\bar a)^2 $\n",
    "* $\\bar u$ is the mean of $u_i$ and $\\bar a$ is the mean of $a_j$ \n",
    "* $\\Omega$ is the set of oberved pairs $(i, j)$\n",
    "* $r_{ij}$ is the rating for user $i$ and item $j$\n",
    "* $w_{ij}$ is the weight for the prediction $r_{ij}$ and is modeled as a power-law in the number of items seen by $i$ and users than have seen $j$: $w_{ij} = |j' : (i, j') \\in \\Omega| ^ {\\lambda_{wu}} |i' : (i', j) \\in \\Omega| ^ {\\lambda_{wa}}$\n",
    "* $\\text{loss}$ is mean squared error"
   ]
  },
  {
   "cell_type": "code",
   "execution_count": 1,
   "id": "7cc9334a-2287-41d6-885b-a5cca94fe263",
   "metadata": {},
   "outputs": [],
   "source": [
    "const name = \"UserItemBiases\"\n",
    "const residual_alphas = []\n",
    "const implicit = false;"
   ]
  },
  {
   "cell_type": "code",
   "execution_count": 2,
   "id": "df87db6f-667c-4bc2-9d48-7f4debe6750f",
   "metadata": {
    "tags": []
   },
   "outputs": [],
   "source": [
    "import LineSearches: BackTracking\n",
    "import NBInclude: @nbinclude\n",
    "import SparseArrays: sparse\n",
    "import Statistics: mean\n",
    "@nbinclude(\"Alpha.ipynb\");"
   ]
  },
  {
   "cell_type": "code",
   "execution_count": 3,
   "id": "2964541d-4796-47fd-ac77-91a2eaefc679",
   "metadata": {},
   "outputs": [],
   "source": [
    "# TODO support residualization\n",
    "const training = get_split(\"training\", implicit = implicit)\n",
    "const validation = get_split(\"validation\", implicit = implicit);"
   ]
  },
  {
   "cell_type": "markdown",
   "id": "99f52a69-0231-4bff-8a9f-26bb16ee9f33",
   "metadata": {
    "tags": []
   },
   "source": [
    "## Alternating Least Squares\n",
    "* Given some hyperparameters $\\lambda$, we can solve for $U$ and $A$ via Alternating Least Squares\n",
    "* This is an iterative algorithm where we fix $A$, then solve for the $U$ that minimizes the loss function\n",
    "* Then we fix $U$ and solve for the best $A$\n",
    "* These two steps are repeated until the matrices $U$ and $A$ converge"
   ]
  },
  {
   "cell_type": "markdown",
   "id": "1d7f343e-0410-407f-9ae3-17e49ec57439",
   "metadata": {},
   "source": [
    "## ALS for Explicit data\n",
    "* If we fix $a$, then for each user $i$, $u_i$ is optimized when\n",
    "* $u_i = \\dfrac{\\sum_{j \\in \\Omega_i}(r_{ij} - a_j) w_{ij} + \\bar u \\lambda_u}{ \\sum_{j \\in \\Omega_i} w_{ij} + \\lambda_u}$\n",
    "* $\\Omega$ is the set of (user, item) pairs that we have ratings for\n",
    "* $\\Omega_i$ is subset of $\\Omega$ for which the user is the $i$-th user"
   ]
  },
  {
   "cell_type": "code",
   "execution_count": 4,
   "id": "59fb718e-dc9e-4452-b72c-829ae2d843ff",
   "metadata": {},
   "outputs": [],
   "source": [
    "function make_prediction(users, items, u, a)\n",
    "    r = Array{eltype(u)}(undef, length(users))\n",
    "    Threads.@threads for i = 1:length(r)\n",
    "        @inbounds r[i] = u[users[i]] + a[items[i]]\n",
    "    end\n",
    "    r\n",
    "end;"
   ]
  },
  {
   "cell_type": "code",
   "execution_count": 5,
   "id": "fb96c1bd-40b5-457b-9872-ca6633256390",
   "metadata": {},
   "outputs": [],
   "source": [
    "function get_residuals!(users, items, ratings, weights, a, ρ, Ω)\n",
    "    @inbounds for row = 1:length(users)\n",
    "        i = users[row]\n",
    "        j = items[row]\n",
    "        r = ratings[row]\n",
    "        w = weights[row]\n",
    "        ρ[i] += (r - a[j]) * w\n",
    "        Ω[i] += w\n",
    "    end\n",
    "    ρ, Ω\n",
    "end\n",
    "\n",
    "function update_users!(users, items, ratings, weights, u, a, λ_u, ρ, Ω)\n",
    "    Threads.@threads for t = 1:Threads.nthreads()\n",
    "        range = thread_range(length(ratings))\n",
    "        ρ[:, Threads.threadid()] .= 0\n",
    "        Ω[:, Threads.threadid()] .= 0\n",
    "        @views get_residuals!(\n",
    "            users[range],\n",
    "            items[range],\n",
    "            ratings[range],\n",
    "            weights[range],\n",
    "            a,\n",
    "            ρ[:, Threads.threadid()],\n",
    "            Ω[:, Threads.threadid()],\n",
    "        )\n",
    "    end\n",
    "\n",
    "    ρ = sum(ρ, dims = 2)\n",
    "    Ω = sum(Ω, dims = 2)\n",
    "    μ = mean(u)\n",
    "    Threads.@threads for i = 1:length(u)\n",
    "        @inbounds u[i] = (ρ[i] + μ * λ_u) / (Ω[i] + λ_u)\n",
    "    end\n",
    "end;"
   ]
  },
  {
   "cell_type": "code",
   "execution_count": 6,
   "id": "d0371f61-27bf-4f52-b822-d060f7be01b3",
   "metadata": {},
   "outputs": [],
   "source": [
    "function train_model(training, stop_criteria, λ)\n",
    "    @info \"training model with parameters $λ\"\n",
    "    λ_u, λ_a, λ_wu, λ_wa = λ\n",
    "    users, items, ratings = training.user, training.item, training.rating\n",
    "    weights =\n",
    "        expdecay(get_counts(\"training\"), log(λ_wu)) .*\n",
    "        expdecay(get_counts(\"training\"; by_item = true), log(λ_wa))\n",
    "    u = zeros(eltype(λ_u), num_users())\n",
    "    a = zeros(eltype(λ_a), num_items())\n",
    "\n",
    "    ρ_u = zeros(eltype(u), length(u), Threads.nthreads())\n",
    "    Ω_u = zeros(eltype(u), length(u), Threads.nthreads())\n",
    "    ρ_a = zeros(eltype(a), length(a), Threads.nthreads())\n",
    "    Ω_a = zeros(eltype(a), length(a), Threads.nthreads())\n",
    "\n",
    "    while !stop!(stop_criteria, [u, a])\n",
    "        update_users!(users, items, ratings, weights, u, a, λ_u, ρ_u, Ω_u)\n",
    "        update_users!(items, users, ratings, weights, a, u, λ_a, ρ_a, Ω_a)\n",
    "    end\n",
    "    u, a\n",
    "end;"
   ]
  },
  {
   "cell_type": "markdown",
   "id": "d44f0871-3bb4-4083-8bdb-3cb53233298c",
   "metadata": {
    "tags": []
   },
   "source": [
    "## Training"
   ]
  },
  {
   "cell_type": "code",
   "execution_count": 7,
   "id": "c174fef4-e9d4-4fbd-a649-1159f8c07a3f",
   "metadata": {},
   "outputs": [],
   "source": [
    "function validation_mse(λ)\n",
    "    λ = exp.(λ) # ensure λ is nonnegative\n",
    "    stop_criteria = convergence_stopper(1e-6, max_iters = 16)\n",
    "    u, a = train_model(training, stop_criteria, λ)\n",
    "    r = make_prediction(validation.user, validation.item, u, a)\n",
    "    residualized_loss(r, residual_alphas, implicit)\n",
    "end;"
   ]
  },
  {
   "cell_type": "code",
   "execution_count": 8,
   "id": "7d55df8c-06e5-4e8e-814c-41410685842d",
   "metadata": {
    "tags": []
   },
   "outputs": [
    {
     "name": "stderr",
     "output_type": "stream",
     "text": [
      "\u001b[38;5;6m\u001b[1m[ \u001b[22m\u001b[39m\u001b[38;5;6m\u001b[1mInfo: \u001b[22m\u001b[39m20220524 23:06:29 training model with parameters ForwardDiff.Dual{ForwardDiff.Tag{typeof(validation_mse), Float32}, Float32, 4}[Dual{ForwardDiff.Tag{typeof(validation_mse), Float32}}(1.0,1.0,0.0,0.0,0.0), Dual{ForwardDiff.Tag{typeof(validation_mse), Float32}}(1.0,0.0,1.0,0.0,0.0), Dual{ForwardDiff.Tag{typeof(validation_mse), Float32}}(1.0,0.0,0.0,1.0,0.0), Dual{ForwardDiff.Tag{typeof(validation_mse), Float32}}(1.0,0.0,0.0,0.0,1.0)]\n",
      "\u001b[32mProgress: 100%|███████████████████████████| Time: 0:00:01 ( 0.34 μs/it)\u001b[39m39m\n",
      "\u001b[32mProgress: 100%|███████████████████████████| Time: 0:00:00 (37.44 ns/it)\u001b[39m\n",
      "\u001b[38;5;6m\u001b[1m[ \u001b[22m\u001b[39m\u001b[38;5;6m\u001b[1mInfo: \u001b[22m\u001b[39m20220524 23:06:56 regression coefficients: ForwardDiff.Dual{ForwardDiff.Tag{typeof(validation_mse), Float32}, Float32, 4}[Dual{ForwardDiff.Tag{typeof(validation_mse), Float32}}(1.0001966,0.001265263,4.9162406e-7,-0.0022688252,-0.00932882)]\n",
      "\u001b[38;5;6m\u001b[1m[ \u001b[22m\u001b[39m\u001b[38;5;6m\u001b[1mInfo: \u001b[22m\u001b[39m20220524 23:06:59 training model with parameters ForwardDiff.Dual{ForwardDiff.Tag{typeof(validation_mse), Float32}, ForwardDiff.Dual{ForwardDiff.Tag{typeof(validation_mse), Float32}, Float32, 4}, 4}[Dual{ForwardDiff.Tag{typeof(validation_mse), Float32}}(Dual{ForwardDiff.Tag{typeof(validation_mse), Float32}}(1.0,1.0,0.0,0.0,0.0),Dual{ForwardDiff.Tag{typeof(validation_mse), Float32}}(1.0,1.0,0.0,0.0,0.0),Dual{ForwardDiff.Tag{typeof(validation_mse), Float32}}(0.0,0.0,0.0,0.0,0.0),Dual{ForwardDiff.Tag{typeof(validation_mse), Float32}}(0.0,0.0,0.0,0.0,0.0),Dual{ForwardDiff.Tag{typeof(validation_mse), Float32}}(0.0,0.0,0.0,0.0,0.0)), Dual{ForwardDiff.Tag{typeof(validation_mse), Float32}}(Dual{ForwardDiff.Tag{typeof(validation_mse), Float32}}(1.0,0.0,1.0,0.0,0.0),Dual{ForwardDiff.Tag{typeof(validation_mse), Float32}}(0.0,0.0,0.0,0.0,0.0),Dual{ForwardDiff.Tag{typeof(validation_mse), Float32}}(1.0,0.0,1.0,0.0,0.0),Dual{ForwardDiff.Tag{typeof(validation_mse), Float32}}(0.0,0.0,0.0,0.0,0.0),Dual{ForwardDiff.Tag{typeof(validation_mse), Float32}}(0.0,0.0,0.0,0.0,0.0)), Dual{ForwardDiff.Tag{typeof(validation_mse), Float32}}(Dual{ForwardDiff.Tag{typeof(validation_mse), Float32}}(1.0,0.0,0.0,1.0,0.0),Dual{ForwardDiff.Tag{typeof(validation_mse), Float32}}(0.0,0.0,0.0,0.0,0.0),Dual{ForwardDiff.Tag{typeof(validation_mse), Float32}}(0.0,0.0,0.0,0.0,0.0),Dual{ForwardDiff.Tag{typeof(validation_mse), Float32}}(1.0,0.0,0.0,1.0,0.0),Dual{ForwardDiff.Tag{typeof(validation_mse), Float32}}(0.0,0.0,0.0,0.0,0.0)), Dual{ForwardDiff.Tag{typeof(validation_mse), Float32}}(Dual{ForwardDiff.Tag{typeof(validation_mse), Float32}}(1.0,0.0,0.0,0.0,1.0),Dual{ForwardDiff.Tag{typeof(validation_mse), Float32}}(0.0,0.0,0.0,0.0,0.0),Dual{ForwardDiff.Tag{typeof(validation_mse), Float32}}(0.0,0.0,0.0,0.0,0.0),Dual{ForwardDiff.Tag{typeof(validation_mse), Float32}}(0.0,0.0,0.0,0.0,0.0),Dual{ForwardDiff.Tag{typeof(validation_mse), Float32}}(1.0,0.0,0.0,0.0,1.0))]\n",
      "\u001b[38;5;6m\u001b[1m[ \u001b[22m\u001b[39m\u001b[38;5;6m\u001b[1mInfo: \u001b[22m\u001b[39m20220524 23:08:12 regression coefficients: ForwardDiff.Dual{ForwardDiff.Tag{typeof(validation_mse), Float32}, ForwardDiff.Dual{ForwardDiff.Tag{typeof(validation_mse), Float32}, Float32, 4}, 4}[Dual{ForwardDiff.Tag{typeof(validation_mse), Float32}}(Dual{ForwardDiff.Tag{typeof(validation_mse), Float32}}(1.0001966,0.001265263,4.9162406e-7,-0.0022688252,-0.00932882),Dual{ForwardDiff.Tag{typeof(validation_mse), Float32}}(0.001265263,0.0007681555,9.629982e-9,-0.0016490327,-0.008950934),Dual{ForwardDiff.Tag{typeof(validation_mse), Float32}}(4.9162406e-7,9.629962e-9,4.848501e-7,-3.087642e-6,-6.823607e-6),Dual{ForwardDiff.Tag{typeof(validation_mse), Float32}}(-0.0022688252,-0.0016490328,-3.0876427e-6,0.00392957,0.022952748),Dual{ForwardDiff.Tag{typeof(validation_mse), Float32}}(-0.00932882,-0.008950931,-6.823605e-6,0.022952873,0.096840836))]\n"
     ]
    },
    {
     "name": "stdout",
     "output_type": "stream",
     "text": [
      "Iter     Function value   Gradient norm \n",
      "     0     1.820268e+00     5.538846e-02\n",
      " * time: 0.025742053985595703\n",
      " * g(x): Float32[-0.005109214, -1.1346601f-6, 0.019632269, 0.05538846]\n",
      " * reached_subproblem_solution: true\n",
      " * h(x): Float32[0.0042683696 7.7101596f-8 -0.0009896054 -0.045240797; 7.7101575f-8 -8.909593f-7 2.1172305f-7 1.124478f-5; -0.0009896058 2.117212f-7 0.0024552576 0.0019379249; -0.045240793 1.1244779f-5 0.0019380794 0.74176663]\n",
      " * x: Float32[0.0, 0.0, 0.0, 0.0]\n",
      " * lambda: NaN\n",
      " * interior: true\n",
      " * hard case: false\n",
      " * delta: 1.0\n"
     ]
    },
    {
     "name": "stderr",
     "output_type": "stream",
     "text": [
      "\u001b[38;5;6m\u001b[1m[ \u001b[22m\u001b[39m\u001b[38;5;6m\u001b[1mInfo: \u001b[22m\u001b[39m20220524 23:08:16 training model with parameters ForwardDiff.Dual{ForwardDiff.Tag{typeof(validation_mse), Float32}, Float32, 4}[Dual{ForwardDiff.Tag{typeof(validation_mse), Float32}}(1.0515077,1.0515077,0.0,0.0,0.0), Dual{ForwardDiff.Tag{typeof(validation_mse), Float32}}(1.000123,0.0,1.000123,0.0,0.0), Dual{ForwardDiff.Tag{typeof(validation_mse), Float32}}(0.3691843,0.0,0.0,0.3691843,0.0), Dual{ForwardDiff.Tag{typeof(validation_mse), Float32}}(0.9347721,0.0,0.0,0.0,0.9347721)]\n",
      "\u001b[38;5;6m\u001b[1m[ \u001b[22m\u001b[39m\u001b[38;5;6m\u001b[1mInfo: \u001b[22m\u001b[39m20220524 23:08:31 regression coefficients: ForwardDiff.Dual{ForwardDiff.Tag{typeof(validation_mse), Float32}, Float32, 4}[Dual{ForwardDiff.Tag{typeof(validation_mse), Float32}}(0.9958476,-0.0024471707,0.00012416836,0.041969813,0.025591727)]\n"
     ]
    },
    {
     "name": "stdout",
     "output_type": "stream",
     "text": [
      "     1     1.820268e+00     5.538846e-02\n",
      " * time: 17.585376024246216\n",
      " * g(x): Float32[-0.005109214, -1.1346601f-6, 0.019632269, 0.05538846]\n",
      " * reached_subproblem_solution: false\n",
      " * h(x): Float32[0.0042683696 7.7101596f-8 -0.0009896054 -0.045240797; 7.7101575f-8 -8.909593f-7 2.1172305f-7 1.124478f-5; -0.0009896058 2.117212f-7 0.0024552576 0.0019379249; -0.045240793 1.1244779f-5 0.0019380794 0.74176663]\n",
      " * x: Float32[0.0, 0.0, 0.0, 0.0]\n",
      " * lambda: 0.017065741\n",
      " * interior: false\n",
      " * hard case: false\n",
      " * delta: 0.25000045\n"
     ]
    },
    {
     "name": "stderr",
     "output_type": "stream",
     "text": [
      "\u001b[38;5;6m\u001b[1m[ \u001b[22m\u001b[39m\u001b[38;5;6m\u001b[1mInfo: \u001b[22m\u001b[39m20220524 23:08:32 training model with parameters ForwardDiff.Dual{ForwardDiff.Tag{typeof(validation_mse), Float32}, Float32, 4}[Dual{ForwardDiff.Tag{typeof(validation_mse), Float32}}(1.0231731,1.0231731,0.0,0.0,0.0), Dual{ForwardDiff.Tag{typeof(validation_mse), Float32}}(1.0000244,0.0,1.0000244,0.0,0.0), Dual{ForwardDiff.Tag{typeof(validation_mse), Float32}}(0.78652567,0.0,0.0,0.78652567,0.0), Dual{ForwardDiff.Tag{typeof(validation_mse), Float32}}(0.9364305,0.0,0.0,0.0,0.9364305)]\n",
      "\u001b[38;5;6m\u001b[1m[ \u001b[22m\u001b[39m\u001b[38;5;6m\u001b[1mInfo: \u001b[22m\u001b[39m20220524 23:08:47 regression coefficients: ForwardDiff.Dual{ForwardDiff.Tag{typeof(validation_mse), Float32}, Float32, 4}[Dual{ForwardDiff.Tag{typeof(validation_mse), Float32}}(1.0022187,0.002624183,5.3669214e-6,-0.005589499,-0.025572104)]\n",
      "\u001b[38;5;6m\u001b[1m[ \u001b[22m\u001b[39m\u001b[38;5;6m\u001b[1mInfo: \u001b[22m\u001b[39m20220524 23:08:47 training model with parameters ForwardDiff.Dual{ForwardDiff.Tag{typeof(validation_mse), Float32}, ForwardDiff.Dual{ForwardDiff.Tag{typeof(validation_mse), Float32}, Float32, 4}, 4}[Dual{ForwardDiff.Tag{typeof(validation_mse), Float32}}(Dual{ForwardDiff.Tag{typeof(validation_mse), Float32}}(1.0231731,1.0231731,0.0,0.0,0.0),Dual{ForwardDiff.Tag{typeof(validation_mse), Float32}}(1.0231731,1.0231731,0.0,0.0,0.0),Dual{ForwardDiff.Tag{typeof(validation_mse), Float32}}(0.0,0.0,0.0,0.0,0.0),Dual{ForwardDiff.Tag{typeof(validation_mse), Float32}}(0.0,0.0,0.0,0.0,0.0),Dual{ForwardDiff.Tag{typeof(validation_mse), Float32}}(0.0,0.0,0.0,0.0,0.0)), Dual{ForwardDiff.Tag{typeof(validation_mse), Float32}}(Dual{ForwardDiff.Tag{typeof(validation_mse), Float32}}(1.0000244,0.0,1.0000244,0.0,0.0),Dual{ForwardDiff.Tag{typeof(validation_mse), Float32}}(0.0,0.0,0.0,0.0,0.0),Dual{ForwardDiff.Tag{typeof(validation_mse), Float32}}(1.0000244,0.0,1.0000244,0.0,0.0),Dual{ForwardDiff.Tag{typeof(validation_mse), Float32}}(0.0,0.0,0.0,0.0,0.0),Dual{ForwardDiff.Tag{typeof(validation_mse), Float32}}(0.0,0.0,0.0,0.0,0.0)), Dual{ForwardDiff.Tag{typeof(validation_mse), Float32}}(Dual{ForwardDiff.Tag{typeof(validation_mse), Float32}}(0.78652567,0.0,0.0,0.78652567,0.0),Dual{ForwardDiff.Tag{typeof(validation_mse), Float32}}(0.0,0.0,0.0,0.0,0.0),Dual{ForwardDiff.Tag{typeof(validation_mse), Float32}}(0.0,0.0,0.0,0.0,0.0),Dual{ForwardDiff.Tag{typeof(validation_mse), Float32}}(0.78652567,0.0,0.0,0.78652567,0.0),Dual{ForwardDiff.Tag{typeof(validation_mse), Float32}}(0.0,0.0,0.0,0.0,0.0)), Dual{ForwardDiff.Tag{typeof(validation_mse), Float32}}(Dual{ForwardDiff.Tag{typeof(validation_mse), Float32}}(0.9364305,0.0,0.0,0.0,0.9364305),Dual{ForwardDiff.Tag{typeof(validation_mse), Float32}}(0.0,0.0,0.0,0.0,0.0),Dual{ForwardDiff.Tag{typeof(validation_mse), Float32}}(0.0,0.0,0.0,0.0,0.0),Dual{ForwardDiff.Tag{typeof(validation_mse), Float32}}(0.0,0.0,0.0,0.0,0.0),Dual{ForwardDiff.Tag{typeof(validation_mse), Float32}}(0.9364305,0.0,0.0,0.0,0.9364305))]\n",
      "\u001b[38;5;6m\u001b[1m[ \u001b[22m\u001b[39m\u001b[38;5;6m\u001b[1mInfo: \u001b[22m\u001b[39m20220524 23:09:53 regression coefficients: ForwardDiff.Dual{ForwardDiff.Tag{typeof(validation_mse), Float32}, ForwardDiff.Dual{ForwardDiff.Tag{typeof(validation_mse), Float32}, Float32, 4}, 4}[Dual{ForwardDiff.Tag{typeof(validation_mse), Float32}}(Dual{ForwardDiff.Tag{typeof(validation_mse), Float32}}(1.0022187,0.002624183,5.3669214e-6,-0.005589499,-0.025572104),Dual{ForwardDiff.Tag{typeof(validation_mse), Float32}}(0.002624183,0.0011896137,4.0490374e-7,-0.0027930168,-0.013744793),Dual{ForwardDiff.Tag{typeof(validation_mse), Float32}}(5.3669214e-6,4.049037e-7,5.0895806e-6,-3.193125e-5,-7.20189e-5),Dual{ForwardDiff.Tag{typeof(validation_mse), Float32}}(-0.005589499,-0.0027930136,-3.1931253e-5,0.004325888,0.036884792),Dual{ForwardDiff.Tag{typeof(validation_mse), Float32}}(-0.025572104,-0.013744782,-7.2018884e-5,0.036884736,0.15093827))]\n"
     ]
    },
    {
     "name": "stdout",
     "output_type": "stream",
     "text": [
      "     2     1.817539e+00     1.138831e-01\n",
      " * time: 100.06993508338928\n",
      " * g(x): Float32[0.008961319, 3.0197784f-6, -0.00998044, -0.11388312]\n",
      " * reached_subproblem_solution: false\n",
      " * h(x): Float32[0.025343893 -6.363346f-7 -0.06186454 -0.2802833; -6.3633473f-7 8.081011f-6 -7.96245f-5 -2.4741928f-5; -0.061864533 -7.962449f-5 0.20222215 0.6736025; -0.28028324 -2.4741925f-5 0.6736026 3.3538468]\n",
      " * x: Float32[0.022908619, 2.4432935f-5, -0.24012995, -0.065679945]\n",
      " * lambda: 0.0786777\n",
      " * interior: false\n",
      " * hard case: false\n",
      " * delta: 0.25000045\n"
     ]
    },
    {
     "name": "stderr",
     "output_type": "stream",
     "text": [
      "\u001b[38;5;6m\u001b[1m[ \u001b[22m\u001b[39m\u001b[38;5;6m\u001b[1mInfo: \u001b[22m\u001b[39m20220524 23:09:54 training model with parameters ForwardDiff.Dual{ForwardDiff.Tag{typeof(validation_mse), Float32}, Float32, 4}[Dual{ForwardDiff.Tag{typeof(validation_mse), Float32}}(0.8855004,0.8855004,0.0,0.0,0.0), Dual{ForwardDiff.Tag{typeof(validation_mse), Float32}}(0.9912029,0.0,0.9912029,0.0,0.0), Dual{ForwardDiff.Tag{typeof(validation_mse), Float32}}(0.64492124,0.0,0.0,0.64492124,0.0), Dual{ForwardDiff.Tag{typeof(validation_mse), Float32}}(0.9960381,0.0,0.0,0.0,0.9960381)]\n",
      "\u001b[38;5;6m\u001b[1m[ \u001b[22m\u001b[39m\u001b[38;5;6m\u001b[1mInfo: \u001b[22m\u001b[39m20220524 23:10:10 regression coefficients: ForwardDiff.Dual{ForwardDiff.Tag{typeof(validation_mse), Float32}, Float32, 4}[Dual{ForwardDiff.Tag{typeof(validation_mse), Float32}}(1.0013659,0.0020703424,6.8743857e-6,-0.0036667152,-0.020527115)]\n",
      "\u001b[38;5;6m\u001b[1m[ \u001b[22m\u001b[39m\u001b[38;5;6m\u001b[1mInfo: \u001b[22m\u001b[39m20220524 23:10:10 training model with parameters ForwardDiff.Dual{ForwardDiff.Tag{typeof(validation_mse), Float32}, ForwardDiff.Dual{ForwardDiff.Tag{typeof(validation_mse), Float32}, Float32, 4}, 4}[Dual{ForwardDiff.Tag{typeof(validation_mse), Float32}}(Dual{ForwardDiff.Tag{typeof(validation_mse), Float32}}(0.8855004,0.8855004,0.0,0.0,0.0),Dual{ForwardDiff.Tag{typeof(validation_mse), Float32}}(0.8855004,0.8855004,0.0,0.0,0.0),Dual{ForwardDiff.Tag{typeof(validation_mse), Float32}}(0.0,0.0,0.0,0.0,0.0),Dual{ForwardDiff.Tag{typeof(validation_mse), Float32}}(0.0,0.0,0.0,0.0,0.0),Dual{ForwardDiff.Tag{typeof(validation_mse), Float32}}(0.0,0.0,0.0,0.0,0.0)), Dual{ForwardDiff.Tag{typeof(validation_mse), Float32}}(Dual{ForwardDiff.Tag{typeof(validation_mse), Float32}}(0.9912029,0.0,0.9912029,0.0,0.0),Dual{ForwardDiff.Tag{typeof(validation_mse), Float32}}(0.0,0.0,0.0,0.0,0.0),Dual{ForwardDiff.Tag{typeof(validation_mse), Float32}}(0.9912029,0.0,0.9912029,0.0,0.0),Dual{ForwardDiff.Tag{typeof(validation_mse), Float32}}(0.0,0.0,0.0,0.0,0.0),Dual{ForwardDiff.Tag{typeof(validation_mse), Float32}}(0.0,0.0,0.0,0.0,0.0)), Dual{ForwardDiff.Tag{typeof(validation_mse), Float32}}(Dual{ForwardDiff.Tag{typeof(validation_mse), Float32}}(0.64492124,0.0,0.0,0.64492124,0.0),Dual{ForwardDiff.Tag{typeof(validation_mse), Float32}}(0.0,0.0,0.0,0.0,0.0),Dual{ForwardDiff.Tag{typeof(validation_mse), Float32}}(0.0,0.0,0.0,0.0,0.0),Dual{ForwardDiff.Tag{typeof(validation_mse), Float32}}(0.64492124,0.0,0.0,0.64492124,0.0),Dual{ForwardDiff.Tag{typeof(validation_mse), Float32}}(0.0,0.0,0.0,0.0,0.0)), Dual{ForwardDiff.Tag{typeof(validation_mse), Float32}}(Dual{ForwardDiff.Tag{typeof(validation_mse), Float32}}(0.9960381,0.0,0.0,0.0,0.9960381),Dual{ForwardDiff.Tag{typeof(validation_mse), Float32}}(0.0,0.0,0.0,0.0,0.0),Dual{ForwardDiff.Tag{typeof(validation_mse), Float32}}(0.0,0.0,0.0,0.0,0.0),Dual{ForwardDiff.Tag{typeof(validation_mse), Float32}}(0.0,0.0,0.0,0.0,0.0),Dual{ForwardDiff.Tag{typeof(validation_mse), Float32}}(0.9960381,0.0,0.0,0.0,0.9960381))]\n",
      "\u001b[38;5;6m\u001b[1m[ \u001b[22m\u001b[39m\u001b[38;5;6m\u001b[1mInfo: \u001b[22m\u001b[39m20220524 23:11:15 regression coefficients: ForwardDiff.Dual{ForwardDiff.Tag{typeof(validation_mse), Float32}, ForwardDiff.Dual{ForwardDiff.Tag{typeof(validation_mse), Float32}, Float32, 4}, 4}[Dual{ForwardDiff.Tag{typeof(validation_mse), Float32}}(Dual{ForwardDiff.Tag{typeof(validation_mse), Float32}}(1.0013659,0.0020703424,6.8743857e-6,-0.0036667152,-0.020527115),Dual{ForwardDiff.Tag{typeof(validation_mse), Float32}}(0.0020703424,0.0011614552,4.929734e-7,-0.0018459274,-0.013477094),Dual{ForwardDiff.Tag{typeof(validation_mse), Float32}}(6.8743857e-6,4.9297375e-7,5.995317e-6,-3.534918e-5,-9.6517026e-5),Dual{ForwardDiff.Tag{typeof(validation_mse), Float32}}(-0.0036667152,-0.0018459272,-3.5349185e-5,-0.0004978088,0.026412686),Dual{ForwardDiff.Tag{typeof(validation_mse), Float32}}(-0.020527115,-0.013477089,-9.651703e-5,0.026412738,0.15063417))]\n"
     ]
    },
    {
     "name": "stdout",
     "output_type": "stream",
     "text": [
      "     3     1.814355e+00     9.281909e-03\n",
      " * time: 182.1829731464386\n",
      " * g(x): Float32[0.0010545779, 3.196487f-5, -0.0030731447, -0.009281909]\n",
      " * reached_subproblem_solution: false\n",
      " * h(x): Float32[0.01984555 -9.510403f-7 -0.05069196 -0.21984765; -9.510404f-7 4.6734098f-5 -0.0003187643 -0.00025180282; -0.05069197 -0.0003187643 0.19387342 0.55316645; -0.21984765 -0.0002518028 0.55316657 2.6651337]\n",
      " * x: Float32[-0.12160242, -0.008836024, -0.43862706, -0.003969785]\n",
      " * lambda: 0.0020634928\n",
      " * interior: false\n",
      " * hard case: false\n",
      " * delta: 0.5000009\n"
     ]
    },
    {
     "name": "stderr",
     "output_type": "stream",
     "text": [
      "\u001b[38;5;6m\u001b[1m[ \u001b[22m\u001b[39m\u001b[38;5;6m\u001b[1mInfo: \u001b[22m\u001b[39m20220524 23:11:16 training model with parameters ForwardDiff.Dual{ForwardDiff.Tag{typeof(validation_mse), Float32}, Float32, 4}[Dual{ForwardDiff.Tag{typeof(validation_mse), Float32}}(0.7503633,0.7503633,0.0,0.0,0.0), Dual{ForwardDiff.Tag{typeof(validation_mse), Float32}}(0.61847913,0.0,0.61847913,0.0,0.0), Dual{ForwardDiff.Tag{typeof(validation_mse), Float32}}(0.64641345,0.0,0.0,0.64641345,0.0), Dual{ForwardDiff.Tag{typeof(validation_mse), Float32}}(0.9854359,0.0,0.0,0.0,0.9854359)]\n",
      "\u001b[38;5;6m\u001b[1m[ \u001b[22m\u001b[39m\u001b[38;5;6m\u001b[1mInfo: \u001b[22m\u001b[39m20220524 23:11:32 regression coefficients: ForwardDiff.Dual{ForwardDiff.Tag{typeof(validation_mse), Float32}, Float32, 4}[Dual{ForwardDiff.Tag{typeof(validation_mse), Float32}}(1.0012323,0.002017829,5.1326447e-6,-0.0036288053,-0.019806774)]\n",
      "\u001b[38;5;6m\u001b[1m[ \u001b[22m\u001b[39m\u001b[38;5;6m\u001b[1mInfo: \u001b[22m\u001b[39m20220524 23:11:32 training model with parameters ForwardDiff.Dual{ForwardDiff.Tag{typeof(validation_mse), Float32}, ForwardDiff.Dual{ForwardDiff.Tag{typeof(validation_mse), Float32}, Float32, 4}, 4}[Dual{ForwardDiff.Tag{typeof(validation_mse), Float32}}(Dual{ForwardDiff.Tag{typeof(validation_mse), Float32}}(0.7503633,0.7503633,0.0,0.0,0.0),Dual{ForwardDiff.Tag{typeof(validation_mse), Float32}}(0.7503633,0.7503633,0.0,0.0,0.0),Dual{ForwardDiff.Tag{typeof(validation_mse), Float32}}(0.0,0.0,0.0,0.0,0.0),Dual{ForwardDiff.Tag{typeof(validation_mse), Float32}}(0.0,0.0,0.0,0.0,0.0),Dual{ForwardDiff.Tag{typeof(validation_mse), Float32}}(0.0,0.0,0.0,0.0,0.0)), Dual{ForwardDiff.Tag{typeof(validation_mse), Float32}}(Dual{ForwardDiff.Tag{typeof(validation_mse), Float32}}(0.61847913,0.0,0.61847913,0.0,0.0),Dual{ForwardDiff.Tag{typeof(validation_mse), Float32}}(0.0,0.0,0.0,0.0,0.0),Dual{ForwardDiff.Tag{typeof(validation_mse), Float32}}(0.61847913,0.0,0.61847913,0.0,0.0),Dual{ForwardDiff.Tag{typeof(validation_mse), Float32}}(0.0,0.0,0.0,0.0,0.0),Dual{ForwardDiff.Tag{typeof(validation_mse), Float32}}(0.0,0.0,0.0,0.0,0.0)), Dual{ForwardDiff.Tag{typeof(validation_mse), Float32}}(Dual{ForwardDiff.Tag{typeof(validation_mse), Float32}}(0.64641345,0.0,0.0,0.64641345,0.0),Dual{ForwardDiff.Tag{typeof(validation_mse), Float32}}(0.0,0.0,0.0,0.0,0.0),Dual{ForwardDiff.Tag{typeof(validation_mse), Float32}}(0.0,0.0,0.0,0.0,0.0),Dual{ForwardDiff.Tag{typeof(validation_mse), Float32}}(0.64641345,0.0,0.0,0.64641345,0.0),Dual{ForwardDiff.Tag{typeof(validation_mse), Float32}}(0.0,0.0,0.0,0.0,0.0)), Dual{ForwardDiff.Tag{typeof(validation_mse), Float32}}(Dual{ForwardDiff.Tag{typeof(validation_mse), Float32}}(0.9854359,0.0,0.0,0.0,0.9854359),Dual{ForwardDiff.Tag{typeof(validation_mse), Float32}}(0.0,0.0,0.0,0.0,0.0),Dual{ForwardDiff.Tag{typeof(validation_mse), Float32}}(0.0,0.0,0.0,0.0,0.0),Dual{ForwardDiff.Tag{typeof(validation_mse), Float32}}(0.0,0.0,0.0,0.0,0.0),Dual{ForwardDiff.Tag{typeof(validation_mse), Float32}}(0.9854359,0.0,0.0,0.0,0.9854359))]\n",
      "\u001b[38;5;6m\u001b[1m[ \u001b[22m\u001b[39m\u001b[38;5;6m\u001b[1mInfo: \u001b[22m\u001b[39m20220524 23:12:37 regression coefficients: ForwardDiff.Dual{ForwardDiff.Tag{typeof(validation_mse), Float32}, ForwardDiff.Dual{ForwardDiff.Tag{typeof(validation_mse), Float32}, Float32, 4}, 4}[Dual{ForwardDiff.Tag{typeof(validation_mse), Float32}}(Dual{ForwardDiff.Tag{typeof(validation_mse), Float32}}(1.0012323,0.002017829,5.1326447e-6,-0.0036288053,-0.019806774),Dual{ForwardDiff.Tag{typeof(validation_mse), Float32}}(0.002017829,0.0011546563,3.5571017e-7,-0.0018548858,-0.013384842),Dual{ForwardDiff.Tag{typeof(validation_mse), Float32}}(5.1326447e-6,3.5571014e-7,4.5985526e-6,-2.7443155e-5,-7.0612405e-5),Dual{ForwardDiff.Tag{typeof(validation_mse), Float32}}(-0.0036288053,-0.0018548873,-2.7443153e-5,-0.00016274105,0.02638546),Dual{ForwardDiff.Tag{typeof(validation_mse), Float32}}(-0.019806774,-0.013384841,-7.0612405e-5,0.02638548,0.14904042))]\n"
     ]
    },
    {
     "name": "stdout",
     "output_type": "stream",
     "text": [
      "     4     1.814302e+00     4.987349e-04\n",
      " * time: 264.4176380634308\n",
      " * g(x): Float32[4.078251f-5, 1.6511425f-5, -0.00015084585, -0.00049873494]\n",
      " * reached_subproblem_solution: true\n",
      " * h(x): Float32[0.018319873 -8.862713f-7 -0.045912076 -0.2019998; -8.862712f-7 2.7302502f-5 -0.00018548746 -0.00014776865; -0.045912072 -0.00018548744 0.1747061 0.49682415; -0.2019998 -0.00014776862 0.49682415 2.4646728]\n",
      " * x: Float32[-0.28719783, -0.48049188, -0.43631598, -0.014671221]\n",
      " * lambda: 2.552265e-5\n",
      " * interior: false\n",
      " * hard case: false\n",
      " * delta: 1.0000018\n"
     ]
    },
    {
     "name": "stderr",
     "output_type": "stream",
     "text": [
      "\u001b[38;5;6m\u001b[1m[ \u001b[22m\u001b[39m\u001b[38;5;6m\u001b[1mInfo: \u001b[22m\u001b[39m20220524 23:12:38 training model with parameters ForwardDiff.Dual{ForwardDiff.Tag{typeof(validation_mse), Float32}, Float32, 4}[Dual{ForwardDiff.Tag{typeof(validation_mse), Float32}}(0.74447626,0.74447626,0.0,0.0,0.0), Dual{ForwardDiff.Tag{typeof(validation_mse), Float32}}(0.33464122,0.0,0.33464122,0.0,0.0), Dual{ForwardDiff.Tag{typeof(validation_mse), Float32}}(0.64566636,0.0,0.0,0.64566636,0.0), Dual{ForwardDiff.Tag{typeof(validation_mse), Float32}}(0.9851926,0.0,0.0,0.0,0.9851926)]\n",
      "\u001b[38;5;6m\u001b[1m[ \u001b[22m\u001b[39m\u001b[38;5;6m\u001b[1mInfo: \u001b[22m\u001b[39m20220524 23:12:54 regression coefficients: ForwardDiff.Dual{ForwardDiff.Tag{typeof(validation_mse), Float32}, Float32, 4}[Dual{ForwardDiff.Tag{typeof(validation_mse), Float32}}(1.0012219,0.0020140137,2.9655369e-6,-0.003607213,-0.019734604)]\n",
      "\u001b[38;5;6m\u001b[1m[ \u001b[22m\u001b[39m\u001b[38;5;6m\u001b[1mInfo: \u001b[22m\u001b[39m20220524 23:12:54 training model with parameters ForwardDiff.Dual{ForwardDiff.Tag{typeof(validation_mse), Float32}, ForwardDiff.Dual{ForwardDiff.Tag{typeof(validation_mse), Float32}, Float32, 4}, 4}[Dual{ForwardDiff.Tag{typeof(validation_mse), Float32}}(Dual{ForwardDiff.Tag{typeof(validation_mse), Float32}}(0.74447626,0.74447626,0.0,0.0,0.0),Dual{ForwardDiff.Tag{typeof(validation_mse), Float32}}(0.74447626,0.74447626,0.0,0.0,0.0),Dual{ForwardDiff.Tag{typeof(validation_mse), Float32}}(0.0,0.0,0.0,0.0,0.0),Dual{ForwardDiff.Tag{typeof(validation_mse), Float32}}(0.0,0.0,0.0,0.0,0.0),Dual{ForwardDiff.Tag{typeof(validation_mse), Float32}}(0.0,0.0,0.0,0.0,0.0)), Dual{ForwardDiff.Tag{typeof(validation_mse), Float32}}(Dual{ForwardDiff.Tag{typeof(validation_mse), Float32}}(0.33464122,0.0,0.33464122,0.0,0.0),Dual{ForwardDiff.Tag{typeof(validation_mse), Float32}}(0.0,0.0,0.0,0.0,0.0),Dual{ForwardDiff.Tag{typeof(validation_mse), Float32}}(0.33464122,0.0,0.33464122,0.0,0.0),Dual{ForwardDiff.Tag{typeof(validation_mse), Float32}}(0.0,0.0,0.0,0.0,0.0),Dual{ForwardDiff.Tag{typeof(validation_mse), Float32}}(0.0,0.0,0.0,0.0,0.0)), Dual{ForwardDiff.Tag{typeof(validation_mse), Float32}}(Dual{ForwardDiff.Tag{typeof(validation_mse), Float32}}(0.64566636,0.0,0.0,0.64566636,0.0),Dual{ForwardDiff.Tag{typeof(validation_mse), Float32}}(0.0,0.0,0.0,0.0,0.0),Dual{ForwardDiff.Tag{typeof(validation_mse), Float32}}(0.0,0.0,0.0,0.0,0.0),Dual{ForwardDiff.Tag{typeof(validation_mse), Float32}}(0.64566636,0.0,0.0,0.64566636,0.0),Dual{ForwardDiff.Tag{typeof(validation_mse), Float32}}(0.0,0.0,0.0,0.0,0.0)), Dual{ForwardDiff.Tag{typeof(validation_mse), Float32}}(Dual{ForwardDiff.Tag{typeof(validation_mse), Float32}}(0.9851926,0.0,0.0,0.0,0.9851926),Dual{ForwardDiff.Tag{typeof(validation_mse), Float32}}(0.0,0.0,0.0,0.0,0.0),Dual{ForwardDiff.Tag{typeof(validation_mse), Float32}}(0.0,0.0,0.0,0.0,0.0),Dual{ForwardDiff.Tag{typeof(validation_mse), Float32}}(0.0,0.0,0.0,0.0,0.0),Dual{ForwardDiff.Tag{typeof(validation_mse), Float32}}(0.9851926,0.0,0.0,0.0,0.9851926))]\n",
      "\u001b[38;5;6m\u001b[1m[ \u001b[22m\u001b[39m\u001b[38;5;6m\u001b[1mInfo: \u001b[22m\u001b[39m20220524 23:14:00 regression coefficients: ForwardDiff.Dual{ForwardDiff.Tag{typeof(validation_mse), Float32}, ForwardDiff.Dual{ForwardDiff.Tag{typeof(validation_mse), Float32}, Float32, 4}, 4}[Dual{ForwardDiff.Tag{typeof(validation_mse), Float32}}(Dual{ForwardDiff.Tag{typeof(validation_mse), Float32}}(1.0012219,0.0020140137,2.9655369e-6,-0.003607213,-0.019734604),Dual{ForwardDiff.Tag{typeof(validation_mse), Float32}}(0.0020140137,0.0011537451,2.1665593e-7,-0.0018468471,-0.013372211),Dual{ForwardDiff.Tag{typeof(validation_mse), Float32}}(2.9655369e-6,2.1665613e-7,2.7282422e-6,-1.6638971e-5,-4.063209e-5),Dual{ForwardDiff.Tag{typeof(validation_mse), Float32}}(-0.003607213,-0.0018468469,-1.6638967e-5,-0.0002531011,0.026125),Dual{ForwardDiff.Tag{typeof(validation_mse), Float32}}(-0.019734604,-0.01337221,-4.0632094e-5,0.026125014,0.14849497))]\n"
     ]
    },
    {
     "name": "stdout",
     "output_type": "stream",
     "text": [
      "     5     1.814296e+00     3.891026e-05\n",
      " * time: 346.710440158844\n",
      " * g(x): Float32[5.060992f-8, 5.3457097f-6, -3.891026f-5, -3.057891f-5]\n",
      " * reached_subproblem_solution: true\n",
      " * h(x): Float32[0.018271238 -7.326681f-7 -0.04584378 -0.20142907; -7.326684f-7 1.1379835f-5 -7.045927f-5 -6.400983f-5; -0.04584379 -7.045927f-5 0.1739366 0.49529612; -0.20142907 -6.400983f-5 0.4952963 2.4576008]\n",
      " * x: Float32[-0.2950743, -1.0946963, -0.43747243, -0.014918117]\n",
      " * lambda: 0.0\n",
      " * interior: true\n",
      " * hard case: false\n",
      " * delta: 1.0000018\n"
     ]
    },
    {
     "name": "stderr",
     "output_type": "stream",
     "text": [
      "\u001b[38;5;6m\u001b[1m[ \u001b[22m\u001b[39m\u001b[38;5;6m\u001b[1mInfo: \u001b[22m\u001b[39m20220524 23:14:01 training model with parameters ForwardDiff.Dual{ForwardDiff.Tag{typeof(validation_mse), Float32}, Float32, 4}[Dual{ForwardDiff.Tag{typeof(validation_mse), Float32}}(0.7445059,0.7445059,0.0,0.0,0.0), Dual{ForwardDiff.Tag{typeof(validation_mse), Float32}}(0.20928267,0.0,0.20928267,0.0,0.0), Dual{ForwardDiff.Tag{typeof(validation_mse), Float32}}(0.6457181,0.0,0.0,0.6457181,0.0), Dual{ForwardDiff.Tag{typeof(validation_mse), Float32}}(0.98518014,0.0,0.0,0.0,0.98518014)]\n",
      "\u001b[38;5;6m\u001b[1m[ \u001b[22m\u001b[39m\u001b[38;5;6m\u001b[1mInfo: \u001b[22m\u001b[39m20220524 23:14:16 regression coefficients: ForwardDiff.Dual{ForwardDiff.Tag{typeof(validation_mse), Float32}, Float32, 4}[Dual{ForwardDiff.Tag{typeof(validation_mse), Float32}}(1.0012214,0.0020140007,1.9161937e-6,-0.0036009587,-0.019719845)]\n",
      "\u001b[38;5;6m\u001b[1m[ \u001b[22m\u001b[39m\u001b[38;5;6m\u001b[1mInfo: \u001b[22m\u001b[39m20220524 23:14:16 training model with parameters ForwardDiff.Dual{ForwardDiff.Tag{typeof(validation_mse), Float32}, ForwardDiff.Dual{ForwardDiff.Tag{typeof(validation_mse), Float32}, Float32, 4}, 4}[Dual{ForwardDiff.Tag{typeof(validation_mse), Float32}}(Dual{ForwardDiff.Tag{typeof(validation_mse), Float32}}(0.7445059,0.7445059,0.0,0.0,0.0),Dual{ForwardDiff.Tag{typeof(validation_mse), Float32}}(0.7445059,0.7445059,0.0,0.0,0.0),Dual{ForwardDiff.Tag{typeof(validation_mse), Float32}}(0.0,0.0,0.0,0.0,0.0),Dual{ForwardDiff.Tag{typeof(validation_mse), Float32}}(0.0,0.0,0.0,0.0,0.0),Dual{ForwardDiff.Tag{typeof(validation_mse), Float32}}(0.0,0.0,0.0,0.0,0.0)), Dual{ForwardDiff.Tag{typeof(validation_mse), Float32}}(Dual{ForwardDiff.Tag{typeof(validation_mse), Float32}}(0.20928267,0.0,0.20928267,0.0,0.0),Dual{ForwardDiff.Tag{typeof(validation_mse), Float32}}(0.0,0.0,0.0,0.0,0.0),Dual{ForwardDiff.Tag{typeof(validation_mse), Float32}}(0.20928267,0.0,0.20928267,0.0,0.0),Dual{ForwardDiff.Tag{typeof(validation_mse), Float32}}(0.0,0.0,0.0,0.0,0.0),Dual{ForwardDiff.Tag{typeof(validation_mse), Float32}}(0.0,0.0,0.0,0.0,0.0)), Dual{ForwardDiff.Tag{typeof(validation_mse), Float32}}(Dual{ForwardDiff.Tag{typeof(validation_mse), Float32}}(0.6457181,0.0,0.0,0.6457181,0.0),Dual{ForwardDiff.Tag{typeof(validation_mse), Float32}}(0.0,0.0,0.0,0.0,0.0),Dual{ForwardDiff.Tag{typeof(validation_mse), Float32}}(0.0,0.0,0.0,0.0,0.0),Dual{ForwardDiff.Tag{typeof(validation_mse), Float32}}(0.6457181,0.0,0.0,0.6457181,0.0),Dual{ForwardDiff.Tag{typeof(validation_mse), Float32}}(0.0,0.0,0.0,0.0,0.0)), Dual{ForwardDiff.Tag{typeof(validation_mse), Float32}}(Dual{ForwardDiff.Tag{typeof(validation_mse), Float32}}(0.98518014,0.0,0.0,0.0,0.98518014),Dual{ForwardDiff.Tag{typeof(validation_mse), Float32}}(0.0,0.0,0.0,0.0,0.0),Dual{ForwardDiff.Tag{typeof(validation_mse), Float32}}(0.0,0.0,0.0,0.0,0.0),Dual{ForwardDiff.Tag{typeof(validation_mse), Float32}}(0.0,0.0,0.0,0.0,0.0),Dual{ForwardDiff.Tag{typeof(validation_mse), Float32}}(0.98518014,0.0,0.0,0.0,0.98518014))]\n",
      "\u001b[38;5;6m\u001b[1m[ \u001b[22m\u001b[39m\u001b[38;5;6m\u001b[1mInfo: \u001b[22m\u001b[39m20220524 23:15:22 regression coefficients: ForwardDiff.Dual{ForwardDiff.Tag{typeof(validation_mse), Float32}, ForwardDiff.Dual{ForwardDiff.Tag{typeof(validation_mse), Float32}, Float32, 4}, 4}[Dual{ForwardDiff.Tag{typeof(validation_mse), Float32}}(Dual{ForwardDiff.Tag{typeof(validation_mse), Float32}}(1.0012214,0.0020140007,1.9161937e-6,-0.0036009587,-0.019719845),Dual{ForwardDiff.Tag{typeof(validation_mse), Float32}}(0.0020140007,0.0011536888,1.4510674e-7,-0.0018463646,-0.0133708175),Dual{ForwardDiff.Tag{typeof(validation_mse), Float32}}(1.9161937e-6,1.451068e-7,1.8017205e-6,-1.1194599e-5,-2.6202624e-5),Dual{ForwardDiff.Tag{typeof(validation_mse), Float32}}(-0.0036009587,-0.0018463673,-1.11946e-5,-0.00028505968,0.026039327),Dual{ForwardDiff.Tag{typeof(validation_mse), Float32}}(-0.019719845,-0.013370824,-2.6202628e-5,0.026039388,0.14830816))]\n"
     ]
    },
    {
     "name": "stdout",
     "output_type": "stream",
     "text": [
      "     6     1.814294e+00     1.211001e-05\n",
      " * time: 429.12921118736267\n",
      " * g(x): Float32[1.2928587f-8, 1.6971549f-6, -1.2110014f-5, -8.156211f-6]\n",
      " * reached_subproblem_solution: true\n",
      " * h(x): Float32[0.018270303 -5.65846f-7 -0.045838594 -0.20142171; -5.658461f-7 4.792957f-6 -2.2743667f-5 -3.0704203f-5; -0.04583859 -2.2743672f-5 0.17363124 0.49494302; -0.2014217 -3.070421f-5 0.49494302 2.4572816]\n",
      " * x: Float32[-0.29503456, -1.5640695, -0.4373923, -0.014930794]\n",
      " * lambda: 0.0\n",
      " * interior: true\n",
      " * hard case: false\n",
      " * delta: 1.0000018\n"
     ]
    },
    {
     "name": "stderr",
     "output_type": "stream",
     "text": [
      "\u001b[38;5;6m\u001b[1m[ \u001b[22m\u001b[39m\u001b[38;5;6m\u001b[1mInfo: \u001b[22m\u001b[39m20220524 23:15:23 training model with parameters ForwardDiff.Dual{ForwardDiff.Tag{typeof(validation_mse), Float32}, Float32, 4}[Dual{ForwardDiff.Tag{typeof(validation_mse), Float32}}(0.7444482,0.7444482,0.0,0.0,0.0), Dual{ForwardDiff.Tag{typeof(validation_mse), Float32}}(0.1469047,0.0,0.1469047,0.0,0.0), Dual{ForwardDiff.Tag{typeof(validation_mse), Float32}}(0.64575475,0.0,0.0,0.64575475,0.0), Dual{ForwardDiff.Tag{typeof(validation_mse), Float32}}(0.9851615,0.0,0.0,0.0,0.9851615)]\n",
      "\u001b[38;5;6m\u001b[1m[ \u001b[22m\u001b[39m\u001b[38;5;6m\u001b[1mInfo: \u001b[22m\u001b[39m20220524 23:15:39 regression coefficients: ForwardDiff.Dual{ForwardDiff.Tag{typeof(validation_mse), Float32}, Float32, 4}[Dual{ForwardDiff.Tag{typeof(validation_mse), Float32}}(1.0012212,0.0020140028,1.3694498e-6,-0.0035977925,-0.019712046)]\n",
      "\u001b[38;5;6m\u001b[1m[ \u001b[22m\u001b[39m\u001b[38;5;6m\u001b[1mInfo: \u001b[22m\u001b[39m20220524 23:15:39 training model with parameters ForwardDiff.Dual{ForwardDiff.Tag{typeof(validation_mse), Float32}, ForwardDiff.Dual{ForwardDiff.Tag{typeof(validation_mse), Float32}, Float32, 4}, 4}[Dual{ForwardDiff.Tag{typeof(validation_mse), Float32}}(Dual{ForwardDiff.Tag{typeof(validation_mse), Float32}}(0.7444482,0.7444482,0.0,0.0,0.0),Dual{ForwardDiff.Tag{typeof(validation_mse), Float32}}(0.7444482,0.7444482,0.0,0.0,0.0),Dual{ForwardDiff.Tag{typeof(validation_mse), Float32}}(0.0,0.0,0.0,0.0,0.0),Dual{ForwardDiff.Tag{typeof(validation_mse), Float32}}(0.0,0.0,0.0,0.0,0.0),Dual{ForwardDiff.Tag{typeof(validation_mse), Float32}}(0.0,0.0,0.0,0.0,0.0)), Dual{ForwardDiff.Tag{typeof(validation_mse), Float32}}(Dual{ForwardDiff.Tag{typeof(validation_mse), Float32}}(0.1469047,0.0,0.1469047,0.0,0.0),Dual{ForwardDiff.Tag{typeof(validation_mse), Float32}}(0.0,0.0,0.0,0.0,0.0),Dual{ForwardDiff.Tag{typeof(validation_mse), Float32}}(0.1469047,0.0,0.1469047,0.0,0.0),Dual{ForwardDiff.Tag{typeof(validation_mse), Float32}}(0.0,0.0,0.0,0.0,0.0),Dual{ForwardDiff.Tag{typeof(validation_mse), Float32}}(0.0,0.0,0.0,0.0,0.0)), Dual{ForwardDiff.Tag{typeof(validation_mse), Float32}}(Dual{ForwardDiff.Tag{typeof(validation_mse), Float32}}(0.64575475,0.0,0.0,0.64575475,0.0),Dual{ForwardDiff.Tag{typeof(validation_mse), Float32}}(0.0,0.0,0.0,0.0,0.0),Dual{ForwardDiff.Tag{typeof(validation_mse), Float32}}(0.0,0.0,0.0,0.0,0.0),Dual{ForwardDiff.Tag{typeof(validation_mse), Float32}}(0.64575475,0.0,0.0,0.64575475,0.0),Dual{ForwardDiff.Tag{typeof(validation_mse), Float32}}(0.0,0.0,0.0,0.0,0.0)), Dual{ForwardDiff.Tag{typeof(validation_mse), Float32}}(Dual{ForwardDiff.Tag{typeof(validation_mse), Float32}}(0.9851615,0.0,0.0,0.0,0.9851615),Dual{ForwardDiff.Tag{typeof(validation_mse), Float32}}(0.0,0.0,0.0,0.0,0.0),Dual{ForwardDiff.Tag{typeof(validation_mse), Float32}}(0.0,0.0,0.0,0.0,0.0),Dual{ForwardDiff.Tag{typeof(validation_mse), Float32}}(0.0,0.0,0.0,0.0,0.0),Dual{ForwardDiff.Tag{typeof(validation_mse), Float32}}(0.9851615,0.0,0.0,0.0,0.9851615))]\n",
      "\u001b[38;5;6m\u001b[1m[ \u001b[22m\u001b[39m\u001b[38;5;6m\u001b[1mInfo: \u001b[22m\u001b[39m20220524 23:16:45 regression coefficients: ForwardDiff.Dual{ForwardDiff.Tag{typeof(validation_mse), Float32}, ForwardDiff.Dual{ForwardDiff.Tag{typeof(validation_mse), Float32}, Float32, 4}, 4}[Dual{ForwardDiff.Tag{typeof(validation_mse), Float32}}(Dual{ForwardDiff.Tag{typeof(validation_mse), Float32}}(1.0012212,0.0020140028,1.3694498e-6,-0.0035977925,-0.019712046),Dual{ForwardDiff.Tag{typeof(validation_mse), Float32}}(0.0020140028,0.0011536621,1.0615834e-7,-0.0018462877,-0.013370079),Dual{ForwardDiff.Tag{typeof(validation_mse), Float32}}(1.3694498e-6,1.0615841e-7,1.3119745e-6,-8.257301e-6,-1.8742548e-5),Dual{ForwardDiff.Tag{typeof(validation_mse), Float32}}(-0.0035977925,-0.0018462876,-8.2573015e-6,-0.00030182896,0.025996033),Dual{ForwardDiff.Tag{typeof(validation_mse), Float32}}(-0.019712046,-0.013370087,-1.874255e-5,0.025995996,0.14820397))]\n"
     ]
    },
    {
     "name": "stdout",
     "output_type": "stream",
     "text": [
      "     7     1.814294e+00     4.059876e-06\n",
      " * time: 511.6463520526886\n",
      " * g(x): Float32[-4.1922817f-8, 5.442883f-7, -4.059876f-6, -2.7679807f-6]\n",
      " * reached_subproblem_solution: true\n",
      " * h(x): Float32[0.018269695 -4.4347826f-7 -0.045835014 -0.20141673; -4.4347786f-7 1.9730621f-6 -3.1418983f-6 -1.6274098f-5; -0.04583502 -3.1418926f-6 0.17351504 0.49477392; -0.20141673 -1.6274096f-5 0.49477392 2.4571342]\n",
      " * x: Float32[-0.29511204, -1.9179711, -0.4373355, -0.014949688]\n",
      " * lambda: 0.0\n",
      " * interior: true\n",
      " * hard case: false\n",
      " * delta: 1.0000018\n"
     ]
    },
    {
     "name": "stderr",
     "output_type": "stream",
     "text": [
      "\u001b[38;5;6m\u001b[1m[ \u001b[22m\u001b[39m\u001b[38;5;6m\u001b[1mInfo: \u001b[22m\u001b[39m20220524 23:16:46 training model with parameters ForwardDiff.Dual{ForwardDiff.Tag{typeof(validation_mse), Float32}, Float32, 4}[Dual{ForwardDiff.Tag{typeof(validation_mse), Float32}}(0.74446505,0.74446505,0.0,0.0,0.0), Dual{ForwardDiff.Tag{typeof(validation_mse), Float32}}(0.11148736,0.0,0.11148736,0.0,0.0), Dual{ForwardDiff.Tag{typeof(validation_mse), Float32}}(0.64578676,0.0,0.0,0.64578676,0.0), Dual{ForwardDiff.Tag{typeof(validation_mse), Float32}}(0.98515284,0.0,0.0,0.0,0.98515284)]\n",
      "\u001b[38;5;6m\u001b[1m[ \u001b[22m\u001b[39m\u001b[38;5;6m\u001b[1mInfo: \u001b[22m\u001b[39m20220524 23:17:01 regression coefficients: ForwardDiff.Dual{ForwardDiff.Tag{typeof(validation_mse), Float32}, Float32, 4}[Dual{ForwardDiff.Tag{typeof(validation_mse), Float32}}(1.0012212,0.0020140286,1.0490612e-6,-0.0035961764,-0.019707423)]\n",
      "\u001b[38;5;6m\u001b[1m[ \u001b[22m\u001b[39m\u001b[38;5;6m\u001b[1mInfo: \u001b[22m\u001b[39m20220524 23:17:01 training model with parameters ForwardDiff.Dual{ForwardDiff.Tag{typeof(validation_mse), Float32}, ForwardDiff.Dual{ForwardDiff.Tag{typeof(validation_mse), Float32}, Float32, 4}, 4}[Dual{ForwardDiff.Tag{typeof(validation_mse), Float32}}(Dual{ForwardDiff.Tag{typeof(validation_mse), Float32}}(0.74446505,0.74446505,0.0,0.0,0.0),Dual{ForwardDiff.Tag{typeof(validation_mse), Float32}}(0.74446505,0.74446505,0.0,0.0,0.0),Dual{ForwardDiff.Tag{typeof(validation_mse), Float32}}(0.0,0.0,0.0,0.0,0.0),Dual{ForwardDiff.Tag{typeof(validation_mse), Float32}}(0.0,0.0,0.0,0.0,0.0),Dual{ForwardDiff.Tag{typeof(validation_mse), Float32}}(0.0,0.0,0.0,0.0,0.0)), Dual{ForwardDiff.Tag{typeof(validation_mse), Float32}}(Dual{ForwardDiff.Tag{typeof(validation_mse), Float32}}(0.11148736,0.0,0.11148736,0.0,0.0),Dual{ForwardDiff.Tag{typeof(validation_mse), Float32}}(0.0,0.0,0.0,0.0,0.0),Dual{ForwardDiff.Tag{typeof(validation_mse), Float32}}(0.11148736,0.0,0.11148736,0.0,0.0),Dual{ForwardDiff.Tag{typeof(validation_mse), Float32}}(0.0,0.0,0.0,0.0,0.0),Dual{ForwardDiff.Tag{typeof(validation_mse), Float32}}(0.0,0.0,0.0,0.0,0.0)), Dual{ForwardDiff.Tag{typeof(validation_mse), Float32}}(Dual{ForwardDiff.Tag{typeof(validation_mse), Float32}}(0.64578676,0.0,0.0,0.64578676,0.0),Dual{ForwardDiff.Tag{typeof(validation_mse), Float32}}(0.0,0.0,0.0,0.0,0.0),Dual{ForwardDiff.Tag{typeof(validation_mse), Float32}}(0.0,0.0,0.0,0.0,0.0),Dual{ForwardDiff.Tag{typeof(validation_mse), Float32}}(0.64578676,0.0,0.0,0.64578676,0.0),Dual{ForwardDiff.Tag{typeof(validation_mse), Float32}}(0.0,0.0,0.0,0.0,0.0)), Dual{ForwardDiff.Tag{typeof(validation_mse), Float32}}(Dual{ForwardDiff.Tag{typeof(validation_mse), Float32}}(0.98515284,0.0,0.0,0.0,0.98515284),Dual{ForwardDiff.Tag{typeof(validation_mse), Float32}}(0.0,0.0,0.0,0.0,0.0),Dual{ForwardDiff.Tag{typeof(validation_mse), Float32}}(0.0,0.0,0.0,0.0,0.0),Dual{ForwardDiff.Tag{typeof(validation_mse), Float32}}(0.0,0.0,0.0,0.0,0.0),Dual{ForwardDiff.Tag{typeof(validation_mse), Float32}}(0.98515284,0.0,0.0,0.0,0.98515284))]\n",
      "\u001b[38;5;6m\u001b[1m[ \u001b[22m\u001b[39m\u001b[38;5;6m\u001b[1mInfo: \u001b[22m\u001b[39m20220524 23:18:07 regression coefficients: ForwardDiff.Dual{ForwardDiff.Tag{typeof(validation_mse), Float32}, ForwardDiff.Dual{ForwardDiff.Tag{typeof(validation_mse), Float32}, Float32, 4}, 4}[Dual{ForwardDiff.Tag{typeof(validation_mse), Float32}}(Dual{ForwardDiff.Tag{typeof(validation_mse), Float32}}(1.0012212,0.0020140286,1.0490612e-6,-0.0035961764,-0.019707423),Dual{ForwardDiff.Tag{typeof(validation_mse), Float32}}(0.0020140286,0.0011536547,8.2728015e-8,-0.0018464217,-0.013369667),Dual{ForwardDiff.Tag{typeof(validation_mse), Float32}}(1.0490612e-6,8.2728015e-8,1.0205567e-6,-6.475592e-6,-1.4399795e-5),Dual{ForwardDiff.Tag{typeof(validation_mse), Float32}}(-0.0035961764,-0.0018464219,-6.4755927e-6,-0.00030938617,0.025972567),Dual{ForwardDiff.Tag{typeof(validation_mse), Float32}}(-0.019707423,-0.013369662,-1.4399794e-5,0.025972463,0.14814587))]\n"
     ]
    },
    {
     "name": "stdout",
     "output_type": "stream",
     "text": [
      "     8     1.814294e+00     1.079623e-06\n",
      " * time: 594.1754310131073\n",
      " * g(x): Float32[-1.7768519f-8, 1.9239168f-7, -1.0331145f-6, -1.0796225f-6]\n",
      " * reached_subproblem_solution: true\n",
      " * h(x): Float32[0.018269181 -3.582952f-7 -0.04583139 -0.20141235; -3.58295f-7 6.938755f-7 4.932676f-6 -9.224475f-6; -0.04583139 4.932678f-6 0.17346752 0.4946663; -0.20141234 -9.224473f-6 0.4946662 2.4570348]\n",
      " * x: Float32[-0.29508936, -2.193844, -0.43728596, -0.014958504]\n",
      " * lambda: 0.0\n",
      " * interior: true\n",
      " * hard case: false\n",
      " * delta: 1.0000018\n"
     ]
    },
    {
     "name": "stderr",
     "output_type": "stream",
     "text": [
      "\u001b[38;5;6m\u001b[1m[ \u001b[22m\u001b[39m\u001b[38;5;6m\u001b[1mInfo: \u001b[22m\u001b[39m20220524 23:18:08 training model with parameters ForwardDiff.Dual{ForwardDiff.Tag{typeof(validation_mse), Float32}, Float32, 4}[Dual{ForwardDiff.Tag{typeof(validation_mse), Float32}}(0.74446,0.74446,0.0,0.0,0.0), Dual{ForwardDiff.Tag{typeof(validation_mse), Float32}}(0.08448604,0.0,0.08448604,0.0,0.0), Dual{ForwardDiff.Tag{typeof(validation_mse), Float32}}(0.64581,0.0,0.0,0.64581,0.0), Dual{ForwardDiff.Tag{typeof(validation_mse), Float32}}(0.98514456,0.0,0.0,0.0,0.98514456)]\n",
      "\u001b[38;5;6m\u001b[1m[ \u001b[22m\u001b[39m\u001b[38;5;6m\u001b[1mInfo: \u001b[22m\u001b[39m20220524 23:18:24 regression coefficients: ForwardDiff.Dual{ForwardDiff.Tag{typeof(validation_mse), Float32}, Float32, 4}[Dual{ForwardDiff.Tag{typeof(validation_mse), Float32}}(1.001221,0.002014041,7.9930635e-7,-0.0035946944,-0.019703656)]\n",
      "\u001b[38;5;6m\u001b[1m[ \u001b[22m\u001b[39m\u001b[38;5;6m\u001b[1mInfo: \u001b[22m\u001b[39m20220524 23:18:24 training model with parameters ForwardDiff.Dual{ForwardDiff.Tag{typeof(validation_mse), Float32}, ForwardDiff.Dual{ForwardDiff.Tag{typeof(validation_mse), Float32}, Float32, 4}, 4}[Dual{ForwardDiff.Tag{typeof(validation_mse), Float32}}(Dual{ForwardDiff.Tag{typeof(validation_mse), Float32}}(0.74446,0.74446,0.0,0.0,0.0),Dual{ForwardDiff.Tag{typeof(validation_mse), Float32}}(0.74446,0.74446,0.0,0.0,0.0),Dual{ForwardDiff.Tag{typeof(validation_mse), Float32}}(0.0,0.0,0.0,0.0,0.0),Dual{ForwardDiff.Tag{typeof(validation_mse), Float32}}(0.0,0.0,0.0,0.0,0.0),Dual{ForwardDiff.Tag{typeof(validation_mse), Float32}}(0.0,0.0,0.0,0.0,0.0)), Dual{ForwardDiff.Tag{typeof(validation_mse), Float32}}(Dual{ForwardDiff.Tag{typeof(validation_mse), Float32}}(0.08448604,0.0,0.08448604,0.0,0.0),Dual{ForwardDiff.Tag{typeof(validation_mse), Float32}}(0.0,0.0,0.0,0.0,0.0),Dual{ForwardDiff.Tag{typeof(validation_mse), Float32}}(0.08448604,0.0,0.08448604,0.0,0.0),Dual{ForwardDiff.Tag{typeof(validation_mse), Float32}}(0.0,0.0,0.0,0.0,0.0),Dual{ForwardDiff.Tag{typeof(validation_mse), Float32}}(0.0,0.0,0.0,0.0,0.0)), Dual{ForwardDiff.Tag{typeof(validation_mse), Float32}}(Dual{ForwardDiff.Tag{typeof(validation_mse), Float32}}(0.64581,0.0,0.0,0.64581,0.0),Dual{ForwardDiff.Tag{typeof(validation_mse), Float32}}(0.0,0.0,0.0,0.0,0.0),Dual{ForwardDiff.Tag{typeof(validation_mse), Float32}}(0.0,0.0,0.0,0.0,0.0),Dual{ForwardDiff.Tag{typeof(validation_mse), Float32}}(0.64581,0.0,0.0,0.64581,0.0),Dual{ForwardDiff.Tag{typeof(validation_mse), Float32}}(0.0,0.0,0.0,0.0,0.0)), Dual{ForwardDiff.Tag{typeof(validation_mse), Float32}}(Dual{ForwardDiff.Tag{typeof(validation_mse), Float32}}(0.98514456,0.0,0.0,0.0,0.98514456),Dual{ForwardDiff.Tag{typeof(validation_mse), Float32}}(0.0,0.0,0.0,0.0,0.0),Dual{ForwardDiff.Tag{typeof(validation_mse), Float32}}(0.0,0.0,0.0,0.0,0.0),Dual{ForwardDiff.Tag{typeof(validation_mse), Float32}}(0.0,0.0,0.0,0.0,0.0),Dual{ForwardDiff.Tag{typeof(validation_mse), Float32}}(0.98514456,0.0,0.0,0.0,0.98514456))]\n",
      "\u001b[38;5;6m\u001b[1m[ \u001b[22m\u001b[39m\u001b[38;5;6m\u001b[1mInfo: \u001b[22m\u001b[39m20220524 23:19:30 regression coefficients: ForwardDiff.Dual{ForwardDiff.Tag{typeof(validation_mse), Float32}, ForwardDiff.Dual{ForwardDiff.Tag{typeof(validation_mse), Float32}, Float32, 4}, 4}[Dual{ForwardDiff.Tag{typeof(validation_mse), Float32}}(Dual{ForwardDiff.Tag{typeof(validation_mse), Float32}}(1.001221,0.002014041,7.9930635e-7,-0.0035946944,-0.019703656),Dual{ForwardDiff.Tag{typeof(validation_mse), Float32}}(0.002014041,0.0011536455,6.4112534e-8,-0.0018463382,-0.0133690415),Dual{ForwardDiff.Tag{typeof(validation_mse), Float32}}(7.9930635e-7,6.4112534e-8,7.889491e-7,-5.034464e-6,-1.1027775e-5),Dual{ForwardDiff.Tag{typeof(validation_mse), Float32}}(-0.0035946944,-0.0018463371,-5.0344643e-6,-0.00031785574,0.025949571),Dual{ForwardDiff.Tag{typeof(validation_mse), Float32}}(-0.019703656,-0.013369039,-1.1027774e-5,0.025949625,0.1480876))]\n"
     ]
    },
    {
     "name": "stdout",
     "output_type": "stream",
     "text": [
      "     9     1.814294e+00     1.243322e-06\n",
      " * time: 676.541424036026\n",
      " * g(x): Float32[2.0588034f-9, 1.0722058f-7, -5.795566f-7, -1.2433218f-6]\n",
      " * reached_subproblem_solution: true\n",
      " * h(x): Float32[0.018268863 -2.8463444f-7 -0.04582893 -0.2014097; -2.8463447f-7 7.741149f-9 8.359847f-6 -4.745257f-6; -0.04582893 8.359849f-6 0.17345826 0.494596; -0.2014097 -4.7452545f-6 0.49459606 2.456984]\n",
      " * x: Float32[-0.29509616, -2.471169, -0.43724993, -0.014966918]\n",
      " * lambda: 0.0\n",
      " * interior: true\n",
      " * hard case: false\n",
      " * delta: 1.0000018\n"
     ]
    },
    {
     "name": "stderr",
     "output_type": "stream",
     "text": [
      "\u001b[38;5;6m\u001b[1m[ \u001b[22m\u001b[39m\u001b[38;5;6m\u001b[1mInfo: \u001b[22m\u001b[39m20220524 23:19:31 training model with parameters ForwardDiff.Dual{ForwardDiff.Tag{typeof(validation_mse), Float32}, Float32, 4}[Dual{ForwardDiff.Tag{typeof(validation_mse), Float32}}(0.7445226,0.7445226,0.0,0.0,0.0), Dual{ForwardDiff.Tag{typeof(validation_mse), Float32}}(0.031080617,0.0,0.031080617,0.0,0.0), Dual{ForwardDiff.Tag{typeof(validation_mse), Float32}}(0.64589816,0.0,0.0,0.64589816,0.0), Dual{ForwardDiff.Tag{typeof(validation_mse), Float32}}(0.98512286,0.0,0.0,0.0,0.98512286)]\n",
      "\u001b[38;5;6m\u001b[1m[ \u001b[22m\u001b[39m\u001b[38;5;6m\u001b[1mInfo: \u001b[22m\u001b[39m20220524 23:19:46 regression coefficients: ForwardDiff.Dual{ForwardDiff.Tag{typeof(validation_mse), Float32}, Float32, 4}[Dual{ForwardDiff.Tag{typeof(validation_mse), Float32}}(1.0012203,0.0020141497,2.93411e-7,-0.0035925074,-0.019698294)]\n",
      "\u001b[38;5;6m\u001b[1m[ \u001b[22m\u001b[39m\u001b[38;5;6m\u001b[1mInfo: \u001b[22m\u001b[39m20220524 23:19:46 training model with parameters ForwardDiff.Dual{ForwardDiff.Tag{typeof(validation_mse), Float32}, ForwardDiff.Dual{ForwardDiff.Tag{typeof(validation_mse), Float32}, Float32, 4}, 4}[Dual{ForwardDiff.Tag{typeof(validation_mse), Float32}}(Dual{ForwardDiff.Tag{typeof(validation_mse), Float32}}(0.7445226,0.7445226,0.0,0.0,0.0),Dual{ForwardDiff.Tag{typeof(validation_mse), Float32}}(0.7445226,0.7445226,0.0,0.0,0.0),Dual{ForwardDiff.Tag{typeof(validation_mse), Float32}}(0.0,0.0,0.0,0.0,0.0),Dual{ForwardDiff.Tag{typeof(validation_mse), Float32}}(0.0,0.0,0.0,0.0,0.0),Dual{ForwardDiff.Tag{typeof(validation_mse), Float32}}(0.0,0.0,0.0,0.0,0.0)), Dual{ForwardDiff.Tag{typeof(validation_mse), Float32}}(Dual{ForwardDiff.Tag{typeof(validation_mse), Float32}}(0.031080617,0.0,0.031080617,0.0,0.0),Dual{ForwardDiff.Tag{typeof(validation_mse), Float32}}(0.0,0.0,0.0,0.0,0.0),Dual{ForwardDiff.Tag{typeof(validation_mse), Float32}}(0.031080617,0.0,0.031080617,0.0,0.0),Dual{ForwardDiff.Tag{typeof(validation_mse), Float32}}(0.0,0.0,0.0,0.0,0.0),Dual{ForwardDiff.Tag{typeof(validation_mse), Float32}}(0.0,0.0,0.0,0.0,0.0)), Dual{ForwardDiff.Tag{typeof(validation_mse), Float32}}(Dual{ForwardDiff.Tag{typeof(validation_mse), Float32}}(0.64589816,0.0,0.0,0.64589816,0.0),Dual{ForwardDiff.Tag{typeof(validation_mse), Float32}}(0.0,0.0,0.0,0.0,0.0),Dual{ForwardDiff.Tag{typeof(validation_mse), Float32}}(0.0,0.0,0.0,0.0,0.0),Dual{ForwardDiff.Tag{typeof(validation_mse), Float32}}(0.64589816,0.0,0.0,0.64589816,0.0),Dual{ForwardDiff.Tag{typeof(validation_mse), Float32}}(0.0,0.0,0.0,0.0,0.0)), Dual{ForwardDiff.Tag{typeof(validation_mse), Float32}}(Dual{ForwardDiff.Tag{typeof(validation_mse), Float32}}(0.98512286,0.0,0.0,0.0,0.98512286),Dual{ForwardDiff.Tag{typeof(validation_mse), Float32}}(0.0,0.0,0.0,0.0,0.0),Dual{ForwardDiff.Tag{typeof(validation_mse), Float32}}(0.0,0.0,0.0,0.0,0.0),Dual{ForwardDiff.Tag{typeof(validation_mse), Float32}}(0.0,0.0,0.0,0.0,0.0),Dual{ForwardDiff.Tag{typeof(validation_mse), Float32}}(0.98512286,0.0,0.0,0.0,0.98512286))]\n",
      "\u001b[38;5;6m\u001b[1m[ \u001b[22m\u001b[39m\u001b[38;5;6m\u001b[1mInfo: \u001b[22m\u001b[39m20220524 23:20:52 regression coefficients: ForwardDiff.Dual{ForwardDiff.Tag{typeof(validation_mse), Float32}, ForwardDiff.Dual{ForwardDiff.Tag{typeof(validation_mse), Float32}, Float32, 4}, 4}[Dual{ForwardDiff.Tag{typeof(validation_mse), Float32}}(Dual{ForwardDiff.Tag{typeof(validation_mse), Float32}}(1.0012203,0.0020141497,2.93411e-7,-0.0035925074,-0.019698294),Dual{ForwardDiff.Tag{typeof(validation_mse), Float32}}(0.0020141497,0.0011536633,2.4897327e-8,-0.0018469573,-0.013369072),Dual{ForwardDiff.Tag{typeof(validation_mse), Float32}}(2.93411e-7,2.4897313e-8,2.9472076e-7,-1.873497e-6,-4.1529056e-6),Dual{ForwardDiff.Tag{typeof(validation_mse), Float32}}(-0.0035925074,-0.0018469582,-1.873497e-6,-0.0003311322,0.02592277),Dual{ForwardDiff.Tag{typeof(validation_mse), Float32}}(-0.019698294,-0.013369077,-4.152905e-6,0.025922734,0.14801133))]\n"
     ]
    },
    {
     "name": "stdout",
     "output_type": "stream",
     "text": [
      "    10     1.814294e+00     2.294079e-06\n",
      " * time: 759.1934850215912\n",
      " * g(x): Float32[-1.2572309f-7, 3.047291f-7, 1.6433996f-6, -2.2940792f-6]\n",
      " * reached_subproblem_solution: true\n",
      " * h(x): Float32[0.018267184 -1.15481456f-7 -0.045817047 -0.20139275; -1.1548153f-7 -6.6580064f-8 3.3471558f-6 2.0099885f-7; -0.045817044 3.3471513f-6 0.17350867 0.49440774; -0.20139275 2.0099667f-7 0.49440768 2.4567385]\n",
      " * x: Float32[-0.29501215, -3.471171, -0.4371134, -0.014988939]\n",
      " * lambda: 1.0070112e-7\n",
      " * interior: false\n",
      " * hard case: false\n",
      " * delta: 2.0000036\n"
     ]
    },
    {
     "name": "stderr",
     "output_type": "stream",
     "text": [
      "\u001b[38;5;6m\u001b[1m[ \u001b[22m\u001b[39m\u001b[38;5;6m\u001b[1mInfo: \u001b[22m\u001b[39m20220524 23:20:53 training model with parameters ForwardDiff.Dual{ForwardDiff.Tag{typeof(validation_mse), Float32}, Float32, 4}[Dual{ForwardDiff.Tag{typeof(validation_mse), Float32}}(0.7447588,0.7447588,0.0,0.0,0.0), Dual{ForwardDiff.Tag{typeof(validation_mse), Float32}}(0.004206288,0.0,0.004206288,0.0,0.0), Dual{ForwardDiff.Tag{typeof(validation_mse), Float32}}(0.64595217,0.0,0.0,0.64595217,0.0), Dual{ForwardDiff.Tag{typeof(validation_mse), Float32}}(0.985133,0.0,0.0,0.0,0.985133)]\n",
      "\u001b[38;5;6m\u001b[1m[ \u001b[22m\u001b[39m\u001b[38;5;6m\u001b[1mInfo: \u001b[22m\u001b[39m20220524 23:21:09 regression coefficients: ForwardDiff.Dual{ForwardDiff.Tag{typeof(validation_mse), Float32}, Float32, 4}[Dual{ForwardDiff.Tag{typeof(validation_mse), Float32}}(1.0012202,0.0020142188,4.1931862e-8,-0.0035910818,-0.019695794)]\n"
     ]
    },
    {
     "name": "stdout",
     "output_type": "stream",
     "text": [
      "    11     1.814294e+00     2.294079e-06\n",
      " * time: 775.0819511413574\n",
      " * g(x): Float32[-1.2572309f-7, 3.047291f-7, 1.6433996f-6, -2.2940792f-6]\n",
      " * reached_subproblem_solution: true\n",
      " * h(x): Float32[0.018267184 -1.15481456f-7 -0.045817047 -0.20139275; -1.1548153f-7 -6.6580064f-8 3.3471558f-6 2.0099885f-7; -0.045817044 3.3471513f-6 0.17350867 0.49440774; -0.20139275 2.0099667f-7 0.49440768 2.4567385]\n",
      " * x: Float32[-0.29501215, -3.471171, -0.4371134, -0.014988939]\n",
      " * lambda: 2.1906693e-7\n",
      " * interior: false\n",
      " * hard case: false\n",
      " * delta: 0.50000095\n"
     ]
    },
    {
     "name": "stderr",
     "output_type": "stream",
     "text": [
      "\u001b[38;5;6m\u001b[1m[ \u001b[22m\u001b[39m\u001b[38;5;6m\u001b[1mInfo: \u001b[22m\u001b[39m20220524 23:21:09 training model with parameters ForwardDiff.Dual{ForwardDiff.Tag{typeof(validation_mse), Float32}, Float32, 4}[Dual{ForwardDiff.Tag{typeof(validation_mse), Float32}}(0.7446476,0.7446476,0.0,0.0,0.0), Dual{ForwardDiff.Tag{typeof(validation_mse), Float32}}(0.018851329,0.0,0.018851329,0.0,0.0), Dual{ForwardDiff.Tag{typeof(validation_mse), Float32}}(0.645902,0.0,0.0,0.645902,0.0), Dual{ForwardDiff.Tag{typeof(validation_mse), Float32}}(0.9851362,0.0,0.0,0.0,0.9851362)]\n",
      "\u001b[38;5;6m\u001b[1m[ \u001b[22m\u001b[39m\u001b[38;5;6m\u001b[1mInfo: \u001b[22m\u001b[39m20220524 23:21:25 regression coefficients: ForwardDiff.Dual{ForwardDiff.Tag{typeof(validation_mse), Float32}, Float32, 4}[Dual{ForwardDiff.Tag{typeof(validation_mse), Float32}}(1.0012205,0.002014137,1.7817533e-7,-0.0035913845,-0.01969667)]\n"
     ]
    },
    {
     "name": "stdout",
     "output_type": "stream",
     "text": [
      "    12     1.814294e+00     2.294079e-06\n",
      " * time: 791.048397064209\n",
      " * g(x): Float32[-1.2572309f-7, 3.047291f-7, 1.6433996f-6, -2.2940792f-6]\n",
      " * reached_subproblem_solution: true\n",
      " * h(x): Float32[0.018267184 -1.15481456f-7 -0.045817047 -0.20139275; -1.1548153f-7 -6.6580064f-8 3.3471558f-6 2.0099885f-7; -0.045817044 3.3471513f-6 0.17350867 0.49440774; -0.20139275 2.0099667f-7 0.49440768 2.4567385]\n",
      " * x: Float32[-0.29501215, -3.471171, -0.4371134, -0.014988939]\n",
      " * lambda: 6.7604327e-7\n",
      " * interior: false\n",
      " * hard case: false\n",
      " * delta: 0.12500024\n"
     ]
    },
    {
     "name": "stderr",
     "output_type": "stream",
     "text": [
      "\u001b[38;5;6m\u001b[1m[ \u001b[22m\u001b[39m\u001b[38;5;6m\u001b[1mInfo: \u001b[22m\u001b[39m20220524 23:21:25 training model with parameters ForwardDiff.Dual{ForwardDiff.Tag{typeof(validation_mse), Float32}, Float32, 4}[Dual{ForwardDiff.Tag{typeof(validation_mse), Float32}}(0.7446198,0.7446198,0.0,0.0,0.0), Dual{ForwardDiff.Tag{typeof(validation_mse), Float32}}(0.027428541,0.0,0.027428541,0.0,0.0), Dual{ForwardDiff.Tag{typeof(validation_mse), Float32}}(0.64588946,0.0,0.0,0.64588946,0.0), Dual{ForwardDiff.Tag{typeof(validation_mse), Float32}}(0.985137,0.0,0.0,0.0,0.985137)]\n",
      "\u001b[38;5;6m\u001b[1m[ \u001b[22m\u001b[39m\u001b[38;5;6m\u001b[1mInfo: \u001b[22m\u001b[39m20220524 23:21:41 regression coefficients: ForwardDiff.Dual{ForwardDiff.Tag{typeof(validation_mse), Float32}, Float32, 4}[Dual{ForwardDiff.Tag{typeof(validation_mse), Float32}}(1.0012203,0.002014134,2.5880652e-7,-0.0035923824,-0.019698622)]\n",
      "\u001b[38;5;6m\u001b[1m[ \u001b[22m\u001b[39m\u001b[38;5;6m\u001b[1mInfo: \u001b[22m\u001b[39m20220524 23:21:41 training model with parameters ForwardDiff.Dual{ForwardDiff.Tag{typeof(validation_mse), Float32}, ForwardDiff.Dual{ForwardDiff.Tag{typeof(validation_mse), Float32}, Float32, 4}, 4}[Dual{ForwardDiff.Tag{typeof(validation_mse), Float32}}(Dual{ForwardDiff.Tag{typeof(validation_mse), Float32}}(0.7446198,0.7446198,0.0,0.0,0.0),Dual{ForwardDiff.Tag{typeof(validation_mse), Float32}}(0.7446198,0.7446198,0.0,0.0,0.0),Dual{ForwardDiff.Tag{typeof(validation_mse), Float32}}(0.0,0.0,0.0,0.0,0.0),Dual{ForwardDiff.Tag{typeof(validation_mse), Float32}}(0.0,0.0,0.0,0.0,0.0),Dual{ForwardDiff.Tag{typeof(validation_mse), Float32}}(0.0,0.0,0.0,0.0,0.0)), Dual{ForwardDiff.Tag{typeof(validation_mse), Float32}}(Dual{ForwardDiff.Tag{typeof(validation_mse), Float32}}(0.027428541,0.0,0.027428541,0.0,0.0),Dual{ForwardDiff.Tag{typeof(validation_mse), Float32}}(0.0,0.0,0.0,0.0,0.0),Dual{ForwardDiff.Tag{typeof(validation_mse), Float32}}(0.027428541,0.0,0.027428541,0.0,0.0),Dual{ForwardDiff.Tag{typeof(validation_mse), Float32}}(0.0,0.0,0.0,0.0,0.0),Dual{ForwardDiff.Tag{typeof(validation_mse), Float32}}(0.0,0.0,0.0,0.0,0.0)), Dual{ForwardDiff.Tag{typeof(validation_mse), Float32}}(Dual{ForwardDiff.Tag{typeof(validation_mse), Float32}}(0.64588946,0.0,0.0,0.64588946,0.0),Dual{ForwardDiff.Tag{typeof(validation_mse), Float32}}(0.0,0.0,0.0,0.0,0.0),Dual{ForwardDiff.Tag{typeof(validation_mse), Float32}}(0.0,0.0,0.0,0.0,0.0),Dual{ForwardDiff.Tag{typeof(validation_mse), Float32}}(0.64588946,0.0,0.0,0.64588946,0.0),Dual{ForwardDiff.Tag{typeof(validation_mse), Float32}}(0.0,0.0,0.0,0.0,0.0)), Dual{ForwardDiff.Tag{typeof(validation_mse), Float32}}(Dual{ForwardDiff.Tag{typeof(validation_mse), Float32}}(0.985137,0.0,0.0,0.0,0.985137),Dual{ForwardDiff.Tag{typeof(validation_mse), Float32}}(0.0,0.0,0.0,0.0,0.0),Dual{ForwardDiff.Tag{typeof(validation_mse), Float32}}(0.0,0.0,0.0,0.0,0.0),Dual{ForwardDiff.Tag{typeof(validation_mse), Float32}}(0.0,0.0,0.0,0.0,0.0),Dual{ForwardDiff.Tag{typeof(validation_mse), Float32}}(0.985137,0.0,0.0,0.0,0.985137))]\n",
      "\u001b[38;5;6m\u001b[1m[ \u001b[22m\u001b[39m\u001b[38;5;6m\u001b[1mInfo: \u001b[22m\u001b[39m20220524 23:22:46 regression coefficients: ForwardDiff.Dual{ForwardDiff.Tag{typeof(validation_mse), Float32}, ForwardDiff.Dual{ForwardDiff.Tag{typeof(validation_mse), Float32}, Float32, 4}, 4}[Dual{ForwardDiff.Tag{typeof(validation_mse), Float32}}(Dual{ForwardDiff.Tag{typeof(validation_mse), Float32}}(1.0012203,0.002014134,2.5880652e-7,-0.0035923824,-0.019698622),Dual{ForwardDiff.Tag{typeof(validation_mse), Float32}}(0.002014134,0.0011536577,2.2078407e-8,-0.0018469407,-0.013369322),Dual{ForwardDiff.Tag{typeof(validation_mse), Float32}}(2.5880652e-7,2.2078417e-8,2.5920238e-7,-1.6436094e-6,-3.6707356e-6),Dual{ForwardDiff.Tag{typeof(validation_mse), Float32}}(-0.0035923824,-0.0018469408,-1.6436095e-6,-0.00033109263,0.025925945),Dual{ForwardDiff.Tag{typeof(validation_mse), Float32}}(-0.019698622,-0.013369318,-3.6707356e-6,0.025926001,0.14803784))]\n"
     ]
    },
    {
     "name": "stdout",
     "output_type": "stream",
     "text": [
      "    13     1.814294e+00     9.415919e-07\n",
      " * time: 873.287180185318\n",
      " * g(x): Float32[-1.2201027f-8, 3.0917812f-7, 1.02116644f-7, 9.415919f-7]\n",
      " * reached_subproblem_solution: true\n",
      " * h(x): Float32[0.018267391 -1.02824146f-7 -0.045818787 -0.20139556; -1.02824245f-7 -6.0775998f-9 2.4274773f-6 2.7710428f-7; -0.04581879 2.4274748f-6 0.17352986 0.4944242; -0.20139556 2.771045f-7 0.4944242 2.456737]\n",
      " * x: Float32[-0.29488155, -3.5961711, -0.43712693, -0.014974568]\n",
      " * lambda: 2.5039496e-6\n",
      " * interior: false\n",
      " * hard case: false\n",
      " * delta: 0.25000048\n"
     ]
    },
    {
     "name": "stderr",
     "output_type": "stream",
     "text": [
      "\u001b[38;5;6m\u001b[1m[ \u001b[22m\u001b[39m\u001b[38;5;6m\u001b[1mInfo: \u001b[22m\u001b[39m20220524 23:22:47 training model with parameters ForwardDiff.Dual{ForwardDiff.Tag{typeof(validation_mse), Float32}, Float32, 4}[Dual{ForwardDiff.Tag{typeof(validation_mse), Float32}}(0.74460965,0.74460965,0.0,0.0,0.0), Dual{ForwardDiff.Tag{typeof(validation_mse), Float32}}(0.017539736,0.0,0.017539736,0.0,0.0), Dual{ForwardDiff.Tag{typeof(validation_mse), Float32}}(0.6458988,0.0,0.0,0.6458988,0.0), Dual{ForwardDiff.Tag{typeof(validation_mse), Float32}}(0.9851327,0.0,0.0,0.0,0.9851327)]\n",
      "\u001b[38;5;6m\u001b[1m[ \u001b[22m\u001b[39m\u001b[38;5;6m\u001b[1mInfo: \u001b[22m\u001b[39m20220524 23:23:03 regression coefficients: ForwardDiff.Dual{ForwardDiff.Tag{typeof(validation_mse), Float32}, Float32, 4}[Dual{ForwardDiff.Tag{typeof(validation_mse), Float32}}(1.0012205,0.0020141422,1.6595192e-7,-0.0035917275,-0.019697124)]\n"
     ]
    },
    {
     "name": "stdout",
     "output_type": "stream",
     "text": [
      "    14     1.814294e+00     9.415919e-07\n",
      " * time: 888.9959580898285\n",
      " * g(x): Float32[-1.2201027f-8, 3.0917812f-7, 1.02116644f-7, 9.415919f-7]\n",
      " * reached_subproblem_solution: false\n",
      " * h(x): Float32[0.018267391 -1.02824146f-7 -0.045818787 -0.20139556; -1.02824245f-7 -6.0775998f-9 2.4274773f-6 2.7710428f-7; -0.04581879 2.4274748f-6 0.17352986 0.4944242; -0.20139556 2.771045f-7 0.4944242 2.456737]\n",
      " * x: Float32[-0.29488155, -3.5961711, -0.43712693, -0.014974568]\n",
      " * lambda: 1.2428651e-6\n",
      " * interior: false\n",
      " * hard case: false\n",
      " * delta: 0.111778796\n"
     ]
    },
    {
     "name": "stderr",
     "output_type": "stream",
     "text": [
      "\u001b[38;5;6m\u001b[1m[ \u001b[22m\u001b[39m\u001b[38;5;6m\u001b[1mInfo: \u001b[22m\u001b[39m20220524 23:23:03 training model with parameters ForwardDiff.Dual{ForwardDiff.Tag{typeof(validation_mse), Float32}, Float32, 4}[Dual{ForwardDiff.Tag{typeof(validation_mse), Float32}}(0.7445935,0.7445935,0.0,0.0,0.0), Dual{ForwardDiff.Tag{typeof(validation_mse), Float32}}(0.024527756,0.0,0.024527756,0.0,0.0), Dual{ForwardDiff.Tag{typeof(validation_mse), Float32}}(0.6458909,0.0,0.0,0.6458909,0.0), Dual{ForwardDiff.Tag{typeof(validation_mse), Float32}}(0.98513335,0.0,0.0,0.0,0.98513335)]\n",
      "\u001b[38;5;6m\u001b[1m[ \u001b[22m\u001b[39m\u001b[38;5;6m\u001b[1mInfo: \u001b[22m\u001b[39m20220524 23:23:18 regression coefficients: ForwardDiff.Dual{ForwardDiff.Tag{typeof(validation_mse), Float32}, Float32, 4}[Dual{ForwardDiff.Tag{typeof(validation_mse), Float32}}(1.0012205,0.0020141418,2.314462e-7,-0.00359227,-0.019698188)]\n",
      "\u001b[38;5;6m\u001b[1m[ \u001b[22m\u001b[39m\u001b[38;5;6m\u001b[1mInfo: \u001b[22m\u001b[39m20220524 23:23:19 training model with parameters ForwardDiff.Dual{ForwardDiff.Tag{typeof(validation_mse), Float32}, ForwardDiff.Dual{ForwardDiff.Tag{typeof(validation_mse), Float32}, Float32, 4}, 4}[Dual{ForwardDiff.Tag{typeof(validation_mse), Float32}}(Dual{ForwardDiff.Tag{typeof(validation_mse), Float32}}(0.7445935,0.7445935,0.0,0.0,0.0),Dual{ForwardDiff.Tag{typeof(validation_mse), Float32}}(0.7445935,0.7445935,0.0,0.0,0.0),Dual{ForwardDiff.Tag{typeof(validation_mse), Float32}}(0.0,0.0,0.0,0.0,0.0),Dual{ForwardDiff.Tag{typeof(validation_mse), Float32}}(0.0,0.0,0.0,0.0,0.0),Dual{ForwardDiff.Tag{typeof(validation_mse), Float32}}(0.0,0.0,0.0,0.0,0.0)), Dual{ForwardDiff.Tag{typeof(validation_mse), Float32}}(Dual{ForwardDiff.Tag{typeof(validation_mse), Float32}}(0.024527756,0.0,0.024527756,0.0,0.0),Dual{ForwardDiff.Tag{typeof(validation_mse), Float32}}(0.0,0.0,0.0,0.0,0.0),Dual{ForwardDiff.Tag{typeof(validation_mse), Float32}}(0.024527756,0.0,0.024527756,0.0,0.0),Dual{ForwardDiff.Tag{typeof(validation_mse), Float32}}(0.0,0.0,0.0,0.0,0.0),Dual{ForwardDiff.Tag{typeof(validation_mse), Float32}}(0.0,0.0,0.0,0.0,0.0)), Dual{ForwardDiff.Tag{typeof(validation_mse), Float32}}(Dual{ForwardDiff.Tag{typeof(validation_mse), Float32}}(0.6458909,0.0,0.0,0.6458909,0.0),Dual{ForwardDiff.Tag{typeof(validation_mse), Float32}}(0.0,0.0,0.0,0.0,0.0),Dual{ForwardDiff.Tag{typeof(validation_mse), Float32}}(0.0,0.0,0.0,0.0,0.0),Dual{ForwardDiff.Tag{typeof(validation_mse), Float32}}(0.6458909,0.0,0.0,0.6458909,0.0),Dual{ForwardDiff.Tag{typeof(validation_mse), Float32}}(0.0,0.0,0.0,0.0,0.0)), Dual{ForwardDiff.Tag{typeof(validation_mse), Float32}}(Dual{ForwardDiff.Tag{typeof(validation_mse), Float32}}(0.98513335,0.0,0.0,0.0,0.98513335),Dual{ForwardDiff.Tag{typeof(validation_mse), Float32}}(0.0,0.0,0.0,0.0,0.0),Dual{ForwardDiff.Tag{typeof(validation_mse), Float32}}(0.0,0.0,0.0,0.0,0.0),Dual{ForwardDiff.Tag{typeof(validation_mse), Float32}}(0.0,0.0,0.0,0.0,0.0),Dual{ForwardDiff.Tag{typeof(validation_mse), Float32}}(0.98513335,0.0,0.0,0.0,0.98513335))]\n",
      "\u001b[38;5;6m\u001b[1m[ \u001b[22m\u001b[39m\u001b[38;5;6m\u001b[1mInfo: \u001b[22m\u001b[39m20220524 23:24:24 regression coefficients: ForwardDiff.Dual{ForwardDiff.Tag{typeof(validation_mse), Float32}, ForwardDiff.Dual{ForwardDiff.Tag{typeof(validation_mse), Float32}, Float32, 4}, 4}[Dual{ForwardDiff.Tag{typeof(validation_mse), Float32}}(Dual{ForwardDiff.Tag{typeof(validation_mse), Float32}}(1.0012205,0.0020141418,2.314462e-7,-0.00359227,-0.019698188),Dual{ForwardDiff.Tag{typeof(validation_mse), Float32}}(0.0020141418,0.001153663,1.9825352e-8,-0.0018469249,-0.013369177),Dual{ForwardDiff.Tag{typeof(validation_mse), Float32}}(2.314462e-7,1.9825341e-8,2.3101235e-7,-1.4614028e-6,-3.2869796e-6),Dual{ForwardDiff.Tag{typeof(validation_mse), Float32}}(-0.00359227,-0.0018469235,-1.4614027e-6,-0.00033218646,0.025919715),Dual{ForwardDiff.Tag{typeof(validation_mse), Float32}}(-0.019698188,-0.013369175,-3.2869798e-6,0.025919747,0.14802459))]\n"
     ]
    },
    {
     "name": "stdout",
     "output_type": "stream",
     "text": [
      "    15     1.814294e+00     3.073828e-07\n",
      " * time: 971.0391821861267\n",
      " * g(x): Float32[5.1365396f-9, 3.0707287f-7, 6.306917f-8, -3.073828f-7]\n",
      " * reached_subproblem_solution: true\n",
      " * h(x): Float32[0.018267423 -9.267179f-8 -0.04581879 -0.201396; -9.2671776f-8 4.279728f-8 1.6944659f-6 3.1180542f-7; -0.04581879 1.6944668f-6 0.17353916 0.4944239; -0.201396 3.118074f-7 0.4944239 2.456746]\n",
      " * x: Float32[-0.2949168, -3.7079499, -0.4371247, -0.014978281]\n",
      " * lambda: 2.7721317e-6\n",
      " * interior: false\n",
      " * hard case: false\n",
      " * delta: 0.22355759\n"
     ]
    },
    {
     "name": "stderr",
     "output_type": "stream",
     "text": [
      "\u001b[38;5;6m\u001b[1m[ \u001b[22m\u001b[39m\u001b[38;5;6m\u001b[1mInfo: \u001b[22m\u001b[39m20220524 23:24:25 training model with parameters ForwardDiff.Dual{ForwardDiff.Tag{typeof(validation_mse), Float32}, Float32, 4}[Dual{ForwardDiff.Tag{typeof(validation_mse), Float32}}(0.7446055,0.7446055,0.0,0.0,0.0), Dual{ForwardDiff.Tag{typeof(validation_mse), Float32}}(0.01961408,0.0,0.01961408,0.0,0.0), Dual{ForwardDiff.Tag{typeof(validation_mse), Float32}}(0.6458937,0.0,0.0,0.6458937,0.0), Dual{ForwardDiff.Tag{typeof(validation_mse), Float32}}(0.9851339,0.0,0.0,0.0,0.9851339)]\n",
      "\u001b[38;5;6m\u001b[1m[ \u001b[22m\u001b[39m\u001b[38;5;6m\u001b[1mInfo: \u001b[22m\u001b[39m20220524 23:24:40 regression coefficients: ForwardDiff.Dual{ForwardDiff.Tag{typeof(validation_mse), Float32}, Float32, 4}[Dual{ForwardDiff.Tag{typeof(validation_mse), Float32}}(1.0012205,0.0020141476,1.8532127e-7,-0.003592046,-0.019697556)]\n",
      "\u001b[38;5;6m\u001b[1m[ \u001b[22m\u001b[39m\u001b[38;5;6m\u001b[1mInfo: \u001b[22m\u001b[39m20220524 23:24:41 training model with parameters ForwardDiff.Dual{ForwardDiff.Tag{typeof(validation_mse), Float32}, ForwardDiff.Dual{ForwardDiff.Tag{typeof(validation_mse), Float32}, Float32, 4}, 4}[Dual{ForwardDiff.Tag{typeof(validation_mse), Float32}}(Dual{ForwardDiff.Tag{typeof(validation_mse), Float32}}(0.7446055,0.7446055,0.0,0.0,0.0),Dual{ForwardDiff.Tag{typeof(validation_mse), Float32}}(0.7446055,0.7446055,0.0,0.0,0.0),Dual{ForwardDiff.Tag{typeof(validation_mse), Float32}}(0.0,0.0,0.0,0.0,0.0),Dual{ForwardDiff.Tag{typeof(validation_mse), Float32}}(0.0,0.0,0.0,0.0,0.0),Dual{ForwardDiff.Tag{typeof(validation_mse), Float32}}(0.0,0.0,0.0,0.0,0.0)), Dual{ForwardDiff.Tag{typeof(validation_mse), Float32}}(Dual{ForwardDiff.Tag{typeof(validation_mse), Float32}}(0.01961408,0.0,0.01961408,0.0,0.0),Dual{ForwardDiff.Tag{typeof(validation_mse), Float32}}(0.0,0.0,0.0,0.0,0.0),Dual{ForwardDiff.Tag{typeof(validation_mse), Float32}}(0.01961408,0.0,0.01961408,0.0,0.0),Dual{ForwardDiff.Tag{typeof(validation_mse), Float32}}(0.0,0.0,0.0,0.0,0.0),Dual{ForwardDiff.Tag{typeof(validation_mse), Float32}}(0.0,0.0,0.0,0.0,0.0)), Dual{ForwardDiff.Tag{typeof(validation_mse), Float32}}(Dual{ForwardDiff.Tag{typeof(validation_mse), Float32}}(0.6458937,0.0,0.0,0.6458937,0.0),Dual{ForwardDiff.Tag{typeof(validation_mse), Float32}}(0.0,0.0,0.0,0.0,0.0),Dual{ForwardDiff.Tag{typeof(validation_mse), Float32}}(0.0,0.0,0.0,0.0,0.0),Dual{ForwardDiff.Tag{typeof(validation_mse), Float32}}(0.6458937,0.0,0.0,0.6458937,0.0),Dual{ForwardDiff.Tag{typeof(validation_mse), Float32}}(0.0,0.0,0.0,0.0,0.0)), Dual{ForwardDiff.Tag{typeof(validation_mse), Float32}}(Dual{ForwardDiff.Tag{typeof(validation_mse), Float32}}(0.9851339,0.0,0.0,0.0,0.9851339),Dual{ForwardDiff.Tag{typeof(validation_mse), Float32}}(0.0,0.0,0.0,0.0,0.0),Dual{ForwardDiff.Tag{typeof(validation_mse), Float32}}(0.0,0.0,0.0,0.0,0.0),Dual{ForwardDiff.Tag{typeof(validation_mse), Float32}}(0.0,0.0,0.0,0.0,0.0),Dual{ForwardDiff.Tag{typeof(validation_mse), Float32}}(0.9851339,0.0,0.0,0.0,0.9851339))]\n",
      "\u001b[38;5;6m\u001b[1m[ \u001b[22m\u001b[39m\u001b[38;5;6m\u001b[1mInfo: \u001b[22m\u001b[39m20220524 23:25:46 regression coefficients: ForwardDiff.Dual{ForwardDiff.Tag{typeof(validation_mse), Float32}, ForwardDiff.Dual{ForwardDiff.Tag{typeof(validation_mse), Float32}, Float32, 4}, 4}[Dual{ForwardDiff.Tag{typeof(validation_mse), Float32}}(Dual{ForwardDiff.Tag{typeof(validation_mse), Float32}}(1.0012205,0.0020141476,1.8532127e-7,-0.003592046,-0.019697556),Dual{ForwardDiff.Tag{typeof(validation_mse), Float32}}(0.0020141476,0.0011536643,1.5973438e-8,-0.001846995,-0.01336935),Dual{ForwardDiff.Tag{typeof(validation_mse), Float32}}(1.8532127e-7,1.5973441e-8,1.8340856e-7,-1.1548676e-6,-2.6342495e-6),Dual{ForwardDiff.Tag{typeof(validation_mse), Float32}}(-0.003592046,-0.0018469952,-1.1548675e-6,-0.00033329928,0.02591848),Dual{ForwardDiff.Tag{typeof(validation_mse), Float32}}(-0.019697556,-0.01336935,-2.6342493e-6,0.02591851,0.14801997))]\n"
     ]
    },
    {
     "name": "stdout",
     "output_type": "stream",
     "text": [
      "    16     1.814294e+00     3.410076e-07\n",
      " * time: 1053.217609167099\n",
      " * g(x): Float32[1.2996632f-8, 2.8837513f-7, 1.7684073f-7, 3.4100762f-7]\n",
      " * reached_subproblem_solution: true\n",
      " * h(x): Float32[0.01826736 -7.523616f-8 -0.045818504 -0.20139554; -7.523619f-8 1.1942971f-7 5.224767f-7 3.2324917f-7; -0.045818504 5.2247844f-7 0.17355369 0.49441957; -0.20139556 3.232486f-7 0.49441966 2.4567268]\n",
      " * x: Float32[-0.29490075, -3.9315076, -0.43712032, -0.014977694]\n",
      " * lambda: 1.3308039e-6\n",
      " * interior: false\n",
      " * hard case: false\n",
      " * delta: 0.44711518\n"
     ]
    },
    {
     "name": "stderr",
     "output_type": "stream",
     "text": [
      "\u001b[38;5;6m\u001b[1m[ \u001b[22m\u001b[39m\u001b[38;5;6m\u001b[1mInfo: \u001b[22m\u001b[39m20220524 23:25:47 training model with parameters ForwardDiff.Dual{ForwardDiff.Tag{typeof(validation_mse), Float32}, Float32, 4}[Dual{ForwardDiff.Tag{typeof(validation_mse), Float32}}(0.7445754,0.7445754,0.0,0.0,0.0), Dual{ForwardDiff.Tag{typeof(validation_mse), Float32}}(0.012542624,0.0,0.012542624,0.0,0.0), Dual{ForwardDiff.Tag{typeof(validation_mse), Float32}}(0.6458927,0.0,0.0,0.6458927,0.0), Dual{ForwardDiff.Tag{typeof(validation_mse), Float32}}(0.9851309,0.0,0.0,0.0,0.9851309)]\n",
      "\u001b[38;5;6m\u001b[1m[ \u001b[22m\u001b[39m\u001b[38;5;6m\u001b[1mInfo: \u001b[22m\u001b[39m20220524 23:26:03 regression coefficients: ForwardDiff.Dual{ForwardDiff.Tag{typeof(validation_mse), Float32}, Float32, 4}[Dual{ForwardDiff.Tag{typeof(validation_mse), Float32}}(1.0012205,0.0020141178,1.1956595e-7,-0.003591307,-0.01969589)]\n",
      "\u001b[38;5;6m\u001b[1m[ \u001b[22m\u001b[39m\u001b[38;5;6m\u001b[1mInfo: \u001b[22m\u001b[39m20220524 23:26:03 training model with parameters ForwardDiff.Dual{ForwardDiff.Tag{typeof(validation_mse), Float32}, ForwardDiff.Dual{ForwardDiff.Tag{typeof(validation_mse), Float32}, Float32, 4}, 4}[Dual{ForwardDiff.Tag{typeof(validation_mse), Float32}}(Dual{ForwardDiff.Tag{typeof(validation_mse), Float32}}(0.7445754,0.7445754,0.0,0.0,0.0),Dual{ForwardDiff.Tag{typeof(validation_mse), Float32}}(0.7445754,0.7445754,0.0,0.0,0.0),Dual{ForwardDiff.Tag{typeof(validation_mse), Float32}}(0.0,0.0,0.0,0.0,0.0),Dual{ForwardDiff.Tag{typeof(validation_mse), Float32}}(0.0,0.0,0.0,0.0,0.0),Dual{ForwardDiff.Tag{typeof(validation_mse), Float32}}(0.0,0.0,0.0,0.0,0.0)), Dual{ForwardDiff.Tag{typeof(validation_mse), Float32}}(Dual{ForwardDiff.Tag{typeof(validation_mse), Float32}}(0.012542624,0.0,0.012542624,0.0,0.0),Dual{ForwardDiff.Tag{typeof(validation_mse), Float32}}(0.0,0.0,0.0,0.0,0.0),Dual{ForwardDiff.Tag{typeof(validation_mse), Float32}}(0.012542624,0.0,0.012542624,0.0,0.0),Dual{ForwardDiff.Tag{typeof(validation_mse), Float32}}(0.0,0.0,0.0,0.0,0.0),Dual{ForwardDiff.Tag{typeof(validation_mse), Float32}}(0.0,0.0,0.0,0.0,0.0)), Dual{ForwardDiff.Tag{typeof(validation_mse), Float32}}(Dual{ForwardDiff.Tag{typeof(validation_mse), Float32}}(0.6458927,0.0,0.0,0.6458927,0.0),Dual{ForwardDiff.Tag{typeof(validation_mse), Float32}}(0.0,0.0,0.0,0.0,0.0),Dual{ForwardDiff.Tag{typeof(validation_mse), Float32}}(0.0,0.0,0.0,0.0,0.0),Dual{ForwardDiff.Tag{typeof(validation_mse), Float32}}(0.6458927,0.0,0.0,0.6458927,0.0),Dual{ForwardDiff.Tag{typeof(validation_mse), Float32}}(0.0,0.0,0.0,0.0,0.0)), Dual{ForwardDiff.Tag{typeof(validation_mse), Float32}}(Dual{ForwardDiff.Tag{typeof(validation_mse), Float32}}(0.9851309,0.0,0.0,0.0,0.9851309),Dual{ForwardDiff.Tag{typeof(validation_mse), Float32}}(0.0,0.0,0.0,0.0,0.0),Dual{ForwardDiff.Tag{typeof(validation_mse), Float32}}(0.0,0.0,0.0,0.0,0.0),Dual{ForwardDiff.Tag{typeof(validation_mse), Float32}}(0.0,0.0,0.0,0.0,0.0),Dual{ForwardDiff.Tag{typeof(validation_mse), Float32}}(0.9851309,0.0,0.0,0.0,0.9851309))]\n",
      "\u001b[38;5;6m\u001b[1m[ \u001b[22m\u001b[39m\u001b[38;5;6m\u001b[1mInfo: \u001b[22m\u001b[39m20220524 23:27:08 regression coefficients: ForwardDiff.Dual{ForwardDiff.Tag{typeof(validation_mse), Float32}, ForwardDiff.Dual{ForwardDiff.Tag{typeof(validation_mse), Float32}, Float32, 4}, 4}[Dual{ForwardDiff.Tag{typeof(validation_mse), Float32}}(Dual{ForwardDiff.Tag{typeof(validation_mse), Float32}}(1.0012205,0.0020141178,1.1956595e-7,-0.003591307,-0.01969589),Dual{ForwardDiff.Tag{typeof(validation_mse), Float32}}(0.0020141178,0.0011536386,1.0348715e-8,-0.0018467046,-0.0133686485),Dual{ForwardDiff.Tag{typeof(validation_mse), Float32}}(1.1956595e-7,1.0348719e-8,1.1609871e-7,-7.2627347e-7,-1.6899966e-6),Dual{ForwardDiff.Tag{typeof(validation_mse), Float32}}(-0.003591307,-0.0018467034,-7.262734e-7,-0.0003389849,0.02590473),Dual{ForwardDiff.Tag{typeof(validation_mse), Float32}}(-0.01969589,-0.01336865,-1.6899966e-6,0.025904667,0.1479884))]\n"
     ]
    },
    {
     "name": "stdout",
     "output_type": "stream",
     "text": [
      "    17     1.814294e+00     4.317066e-07\n",
      " * time: 1135.1349802017212\n",
      " * g(x): Float32[-1.471172f-8, 2.166688f-7, 2.7649378f-7, -4.317066f-7]\n",
      " * reached_subproblem_solution: true\n",
      " * h(x): Float32[0.018267374 -4.9533945f-8 -0.045818932 -0.20139612; -4.9533938f-8 1.8264393f-7 -6.956369f-7 2.5433914f-7; -0.045818932 -6.956352f-7 0.17357427 0.49442282; -0.20139614 2.5434062f-7 0.49442294 2.4567351]\n",
      " * x: Float32[-0.29494122, -4.3786225, -0.4371219, -0.014980772]\n",
      " * lambda: 5.255414e-7\n",
      " * interior: false\n",
      " * hard case: false\n",
      " * delta: 0.89423037\n"
     ]
    },
    {
     "name": "stderr",
     "output_type": "stream",
     "text": [
      "\u001b[38;5;6m\u001b[1m[ \u001b[22m\u001b[39m\u001b[38;5;6m\u001b[1mInfo: \u001b[22m\u001b[39m20220524 23:27:09 training model with parameters ForwardDiff.Dual{ForwardDiff.Tag{typeof(validation_mse), Float32}, Float32, 4}[Dual{ForwardDiff.Tag{typeof(validation_mse), Float32}}(0.74454886,0.74454886,0.0,0.0,0.0), Dual{ForwardDiff.Tag{typeof(validation_mse), Float32}}(0.0051289573,0.0,0.0051289573,0.0,0.0), Dual{ForwardDiff.Tag{typeof(validation_mse), Float32}}(0.64588207,0.0,0.0,0.64588207,0.0), Dual{ForwardDiff.Tag{typeof(validation_mse), Float32}}(0.98513156,0.0,0.0,0.0,0.98513156)]\n",
      "\u001b[38;5;6m\u001b[1m[ \u001b[22m\u001b[39m\u001b[38;5;6m\u001b[1mInfo: \u001b[22m\u001b[39m20220524 23:27:24 regression coefficients: ForwardDiff.Dual{ForwardDiff.Tag{typeof(validation_mse), Float32}, Float32, 4}[Dual{ForwardDiff.Tag{typeof(validation_mse), Float32}}(1.001221,0.0020141003,5.070526e-8,-0.0035909053,-0.01969515)]\n",
      "\u001b[38;5;6m\u001b[1m[ \u001b[22m\u001b[39m\u001b[38;5;6m\u001b[1mInfo: \u001b[22m\u001b[39m20220524 23:27:25 training model with parameters ForwardDiff.Dual{ForwardDiff.Tag{typeof(validation_mse), Float32}, ForwardDiff.Dual{ForwardDiff.Tag{typeof(validation_mse), Float32}, Float32, 4}, 4}[Dual{ForwardDiff.Tag{typeof(validation_mse), Float32}}(Dual{ForwardDiff.Tag{typeof(validation_mse), Float32}}(0.74454886,0.74454886,0.0,0.0,0.0),Dual{ForwardDiff.Tag{typeof(validation_mse), Float32}}(0.74454886,0.74454886,0.0,0.0,0.0),Dual{ForwardDiff.Tag{typeof(validation_mse), Float32}}(0.0,0.0,0.0,0.0,0.0),Dual{ForwardDiff.Tag{typeof(validation_mse), Float32}}(0.0,0.0,0.0,0.0,0.0),Dual{ForwardDiff.Tag{typeof(validation_mse), Float32}}(0.0,0.0,0.0,0.0,0.0)), Dual{ForwardDiff.Tag{typeof(validation_mse), Float32}}(Dual{ForwardDiff.Tag{typeof(validation_mse), Float32}}(0.0051289573,0.0,0.0051289573,0.0,0.0),Dual{ForwardDiff.Tag{typeof(validation_mse), Float32}}(0.0,0.0,0.0,0.0,0.0),Dual{ForwardDiff.Tag{typeof(validation_mse), Float32}}(0.0051289573,0.0,0.0051289573,0.0,0.0),Dual{ForwardDiff.Tag{typeof(validation_mse), Float32}}(0.0,0.0,0.0,0.0,0.0),Dual{ForwardDiff.Tag{typeof(validation_mse), Float32}}(0.0,0.0,0.0,0.0,0.0)), Dual{ForwardDiff.Tag{typeof(validation_mse), Float32}}(Dual{ForwardDiff.Tag{typeof(validation_mse), Float32}}(0.64588207,0.0,0.0,0.64588207,0.0),Dual{ForwardDiff.Tag{typeof(validation_mse), Float32}}(0.0,0.0,0.0,0.0,0.0),Dual{ForwardDiff.Tag{typeof(validation_mse), Float32}}(0.0,0.0,0.0,0.0,0.0),Dual{ForwardDiff.Tag{typeof(validation_mse), Float32}}(0.64588207,0.0,0.0,0.64588207,0.0),Dual{ForwardDiff.Tag{typeof(validation_mse), Float32}}(0.0,0.0,0.0,0.0,0.0)), Dual{ForwardDiff.Tag{typeof(validation_mse), Float32}}(Dual{ForwardDiff.Tag{typeof(validation_mse), Float32}}(0.98513156,0.0,0.0,0.0,0.98513156),Dual{ForwardDiff.Tag{typeof(validation_mse), Float32}}(0.0,0.0,0.0,0.0,0.0),Dual{ForwardDiff.Tag{typeof(validation_mse), Float32}}(0.0,0.0,0.0,0.0,0.0),Dual{ForwardDiff.Tag{typeof(validation_mse), Float32}}(0.0,0.0,0.0,0.0,0.0),Dual{ForwardDiff.Tag{typeof(validation_mse), Float32}}(0.98513156,0.0,0.0,0.0,0.98513156))]\n",
      "\u001b[38;5;6m\u001b[1m[ \u001b[22m\u001b[39m\u001b[38;5;6m\u001b[1mInfo: \u001b[22m\u001b[39m20220524 23:28:30 regression coefficients: ForwardDiff.Dual{ForwardDiff.Tag{typeof(validation_mse), Float32}, ForwardDiff.Dual{ForwardDiff.Tag{typeof(validation_mse), Float32}, Float32, 4}, 4}[Dual{ForwardDiff.Tag{typeof(validation_mse), Float32}}(Dual{ForwardDiff.Tag{typeof(validation_mse), Float32}}(1.001221,0.0020141003,5.070526e-8,-0.0035909053,-0.01969515),Dual{ForwardDiff.Tag{typeof(validation_mse), Float32}}(0.0020141003,0.0011536353,4.3119184e-9,-0.0018466612,-0.013368679),Dual{ForwardDiff.Tag{typeof(validation_mse), Float32}}(5.070526e-8,4.311919e-9,4.8380862e-8,-3.0512973e-7,-6.938122e-7),Dual{ForwardDiff.Tag{typeof(validation_mse), Float32}}(-0.0035909053,-0.0018466614,-3.0512973e-7,-0.00034110202,0.02590271),Dual{ForwardDiff.Tag{typeof(validation_mse), Float32}}(-0.01969515,-0.013368681,-6.938122e-7,0.02590264,0.14797239))]\n"
     ]
    },
    {
     "name": "stdout",
     "output_type": "stream",
     "text": [
      "    18     1.814293e+00     1.328661e-07\n",
      " * time: 1217.122218132019\n",
      " * g(x): Float32[-1.9621442f-8, 7.709684f-8, 1.3286609f-7, -3.7881982f-8]\n",
      " * reached_subproblem_solution: true\n",
      " * h(x): Float32[0.018267551 -2.1297124f-8 -0.04582085 -0.20139855; -2.1297136f-8 1.0946719f-7 -6.284979f-7 1.2168638f-7; -0.04582085 -6.284969f-7 0.17358987 0.49444163; -0.20139855 1.2168607f-7 0.4944417 2.4567702]\n",
      " * x: Float32[-0.29497683, -5.272853, -0.43713835, -0.014980109]\n",
      " * lambda: 5.9667435e-8\n",
      " * interior: false\n",
      " * hard case: false\n",
      " * delta: 1.7884607\n"
     ]
    },
    {
     "name": "stderr",
     "output_type": "stream",
     "text": [
      "\u001b[38;5;6m\u001b[1m[ \u001b[22m\u001b[39m\u001b[38;5;6m\u001b[1mInfo: \u001b[22m\u001b[39m20220524 23:28:31 training model with parameters ForwardDiff.Dual{ForwardDiff.Tag{typeof(validation_mse), Float32}, Float32, 4}[Dual{ForwardDiff.Tag{typeof(validation_mse), Float32}}(0.7445419,0.7445419,0.0,0.0,0.0), Dual{ForwardDiff.Tag{typeof(validation_mse), Float32}}(0.0025594467,0.0,0.0025594467,0.0,0.0), Dual{ForwardDiff.Tag{typeof(validation_mse), Float32}}(0.6458765,0.0,0.0,0.6458765,0.0), Dual{ForwardDiff.Tag{typeof(validation_mse), Float32}}(0.9851325,0.0,0.0,0.0,0.9851325)]\n",
      "\u001b[38;5;6m\u001b[1m[ \u001b[22m\u001b[39m\u001b[38;5;6m\u001b[1mInfo: \u001b[22m\u001b[39m20220524 23:28:47 regression coefficients: ForwardDiff.Dual{ForwardDiff.Tag{typeof(validation_mse), Float32}, Float32, 4}[Dual{ForwardDiff.Tag{typeof(validation_mse), Float32}}(1.0012202,0.002014087,2.606174e-8,-0.0035906197,-0.019694373)]\n",
      "\u001b[38;5;6m\u001b[1m[ \u001b[22m\u001b[39m\u001b[38;5;6m\u001b[1mInfo: \u001b[22m\u001b[39m20220524 23:28:47 training model with parameters ForwardDiff.Dual{ForwardDiff.Tag{typeof(validation_mse), Float32}, ForwardDiff.Dual{ForwardDiff.Tag{typeof(validation_mse), Float32}, Float32, 4}, 4}[Dual{ForwardDiff.Tag{typeof(validation_mse), Float32}}(Dual{ForwardDiff.Tag{typeof(validation_mse), Float32}}(0.7445419,0.7445419,0.0,0.0,0.0),Dual{ForwardDiff.Tag{typeof(validation_mse), Float32}}(0.7445419,0.7445419,0.0,0.0,0.0),Dual{ForwardDiff.Tag{typeof(validation_mse), Float32}}(0.0,0.0,0.0,0.0,0.0),Dual{ForwardDiff.Tag{typeof(validation_mse), Float32}}(0.0,0.0,0.0,0.0,0.0),Dual{ForwardDiff.Tag{typeof(validation_mse), Float32}}(0.0,0.0,0.0,0.0,0.0)), Dual{ForwardDiff.Tag{typeof(validation_mse), Float32}}(Dual{ForwardDiff.Tag{typeof(validation_mse), Float32}}(0.0025594467,0.0,0.0025594467,0.0,0.0),Dual{ForwardDiff.Tag{typeof(validation_mse), Float32}}(0.0,0.0,0.0,0.0,0.0),Dual{ForwardDiff.Tag{typeof(validation_mse), Float32}}(0.0025594467,0.0,0.0025594467,0.0,0.0),Dual{ForwardDiff.Tag{typeof(validation_mse), Float32}}(0.0,0.0,0.0,0.0,0.0),Dual{ForwardDiff.Tag{typeof(validation_mse), Float32}}(0.0,0.0,0.0,0.0,0.0)), Dual{ForwardDiff.Tag{typeof(validation_mse), Float32}}(Dual{ForwardDiff.Tag{typeof(validation_mse), Float32}}(0.6458765,0.0,0.0,0.6458765,0.0),Dual{ForwardDiff.Tag{typeof(validation_mse), Float32}}(0.0,0.0,0.0,0.0,0.0),Dual{ForwardDiff.Tag{typeof(validation_mse), Float32}}(0.0,0.0,0.0,0.0,0.0),Dual{ForwardDiff.Tag{typeof(validation_mse), Float32}}(0.6458765,0.0,0.0,0.6458765,0.0),Dual{ForwardDiff.Tag{typeof(validation_mse), Float32}}(0.0,0.0,0.0,0.0,0.0)), Dual{ForwardDiff.Tag{typeof(validation_mse), Float32}}(Dual{ForwardDiff.Tag{typeof(validation_mse), Float32}}(0.9851325,0.0,0.0,0.0,0.9851325),Dual{ForwardDiff.Tag{typeof(validation_mse), Float32}}(0.0,0.0,0.0,0.0,0.0),Dual{ForwardDiff.Tag{typeof(validation_mse), Float32}}(0.0,0.0,0.0,0.0,0.0),Dual{ForwardDiff.Tag{typeof(validation_mse), Float32}}(0.0,0.0,0.0,0.0,0.0),Dual{ForwardDiff.Tag{typeof(validation_mse), Float32}}(0.9851325,0.0,0.0,0.0,0.9851325))]\n",
      "\u001b[38;5;6m\u001b[1m[ \u001b[22m\u001b[39m\u001b[38;5;6m\u001b[1mInfo: \u001b[22m\u001b[39m20220524 23:29:53 regression coefficients: ForwardDiff.Dual{ForwardDiff.Tag{typeof(validation_mse), Float32}, ForwardDiff.Dual{ForwardDiff.Tag{typeof(validation_mse), Float32}, Float32, 4}, 4}[Dual{ForwardDiff.Tag{typeof(validation_mse), Float32}}(Dual{ForwardDiff.Tag{typeof(validation_mse), Float32}}(1.0012202,0.002014087,2.606174e-8,-0.0035906197,-0.019694373),Dual{ForwardDiff.Tag{typeof(validation_mse), Float32}}(0.002014087,0.0011536318,2.171146e-9,-0.0018465816,-0.013368629),Dual{ForwardDiff.Tag{typeof(validation_mse), Float32}}(2.606174e-8,2.1711473e-9,2.5092122e-8,-1.6112122e-7,-3.4688722e-7),Dual{ForwardDiff.Tag{typeof(validation_mse), Float32}}(-0.0035906197,-0.001846582,-1.6112122e-7,-0.0003430706,0.025898471),Dual{ForwardDiff.Tag{typeof(validation_mse), Float32}}(-0.019694373,-0.013368628,-3.4688722e-7,0.025898498,0.14796703))]\n"
     ]
    },
    {
     "name": "stdout",
     "output_type": "stream",
     "text": [
      "    19     1.814293e+00     5.850910e-07\n",
      " * time: 1299.9149861335754\n",
      " * g(x): Float32[1.973485f-8, 2.5867724f-8, -3.2472562f-7, -5.8509096f-7]\n",
      " * reached_subproblem_solution: true\n",
      " * h(x): Float32[0.01826771 -1.0921008f-8 -0.04582205 -0.20140047; -1.0921013f-8 4.406097f-8 -2.1893514f-7 6.77815f-8; -0.04582205 -2.189353f-7 0.1735949 0.4944557; -0.20140047 6.7781144f-8 0.49445552 2.4567964]\n",
      " * x: Float32[-0.29498613, -5.967964, -0.43714696, -0.014979091]\n",
      " * lambda: 0.0\n",
      " * interior: true\n",
      " * hard case: false\n",
      " * delta: 1.7884607\n"
     ]
    },
    {
     "name": "stderr",
     "output_type": "stream",
     "text": [
      "\u001b[38;5;6m\u001b[1m[ \u001b[22m\u001b[39m\u001b[38;5;6m\u001b[1mInfo: \u001b[22m\u001b[39m20220524 23:29:54 training model with parameters ForwardDiff.Dual{ForwardDiff.Tag{typeof(validation_mse), Float32}, Float32, 4}[Dual{ForwardDiff.Tag{typeof(validation_mse), Float32}}(0.744561,0.744561,0.0,0.0,0.0), Dual{ForwardDiff.Tag{typeof(validation_mse), Float32}}(0.0014392852,0.0,0.0014392852,0.0,0.0), Dual{ForwardDiff.Tag{typeof(validation_mse), Float32}}(0.6458784,0.0,0.0,0.6458784,0.0), Dual{ForwardDiff.Tag{typeof(validation_mse), Float32}}(0.9851343,0.0,0.0,0.0,0.9851343)]\n",
      "\u001b[38;5;6m\u001b[1m[ \u001b[22m\u001b[39m\u001b[38;5;6m\u001b[1mInfo: \u001b[22m\u001b[39m20220524 23:30:09 regression coefficients: ForwardDiff.Dual{ForwardDiff.Tag{typeof(validation_mse), Float32}, Float32, 4}[Dual{ForwardDiff.Tag{typeof(validation_mse), Float32}}(1.0012208,0.0020140908,1.4924186e-8,-0.0035908192,-0.019694353)]\n",
      "\u001b[38;5;6m\u001b[1m[ \u001b[22m\u001b[39m\u001b[38;5;6m\u001b[1mInfo: \u001b[22m\u001b[39m20220524 23:30:10 training model with parameters ForwardDiff.Dual{ForwardDiff.Tag{typeof(validation_mse), Float32}, ForwardDiff.Dual{ForwardDiff.Tag{typeof(validation_mse), Float32}, Float32, 4}, 4}[Dual{ForwardDiff.Tag{typeof(validation_mse), Float32}}(Dual{ForwardDiff.Tag{typeof(validation_mse), Float32}}(0.744561,0.744561,0.0,0.0,0.0),Dual{ForwardDiff.Tag{typeof(validation_mse), Float32}}(0.744561,0.744561,0.0,0.0,0.0),Dual{ForwardDiff.Tag{typeof(validation_mse), Float32}}(0.0,0.0,0.0,0.0,0.0),Dual{ForwardDiff.Tag{typeof(validation_mse), Float32}}(0.0,0.0,0.0,0.0,0.0),Dual{ForwardDiff.Tag{typeof(validation_mse), Float32}}(0.0,0.0,0.0,0.0,0.0)), Dual{ForwardDiff.Tag{typeof(validation_mse), Float32}}(Dual{ForwardDiff.Tag{typeof(validation_mse), Float32}}(0.0014392852,0.0,0.0014392852,0.0,0.0),Dual{ForwardDiff.Tag{typeof(validation_mse), Float32}}(0.0,0.0,0.0,0.0,0.0),Dual{ForwardDiff.Tag{typeof(validation_mse), Float32}}(0.0014392852,0.0,0.0014392852,0.0,0.0),Dual{ForwardDiff.Tag{typeof(validation_mse), Float32}}(0.0,0.0,0.0,0.0,0.0),Dual{ForwardDiff.Tag{typeof(validation_mse), Float32}}(0.0,0.0,0.0,0.0,0.0)), Dual{ForwardDiff.Tag{typeof(validation_mse), Float32}}(Dual{ForwardDiff.Tag{typeof(validation_mse), Float32}}(0.6458784,0.0,0.0,0.6458784,0.0),Dual{ForwardDiff.Tag{typeof(validation_mse), Float32}}(0.0,0.0,0.0,0.0,0.0),Dual{ForwardDiff.Tag{typeof(validation_mse), Float32}}(0.0,0.0,0.0,0.0,0.0),Dual{ForwardDiff.Tag{typeof(validation_mse), Float32}}(0.6458784,0.0,0.0,0.6458784,0.0),Dual{ForwardDiff.Tag{typeof(validation_mse), Float32}}(0.0,0.0,0.0,0.0,0.0)), Dual{ForwardDiff.Tag{typeof(validation_mse), Float32}}(Dual{ForwardDiff.Tag{typeof(validation_mse), Float32}}(0.9851343,0.0,0.0,0.0,0.9851343),Dual{ForwardDiff.Tag{typeof(validation_mse), Float32}}(0.0,0.0,0.0,0.0,0.0),Dual{ForwardDiff.Tag{typeof(validation_mse), Float32}}(0.0,0.0,0.0,0.0,0.0),Dual{ForwardDiff.Tag{typeof(validation_mse), Float32}}(0.0,0.0,0.0,0.0,0.0),Dual{ForwardDiff.Tag{typeof(validation_mse), Float32}}(0.9851343,0.0,0.0,0.0,0.9851343))]\n",
      "\u001b[38;5;6m\u001b[1m[ \u001b[22m\u001b[39m\u001b[38;5;6m\u001b[1mInfo: \u001b[22m\u001b[39m20220524 23:31:16 regression coefficients: ForwardDiff.Dual{ForwardDiff.Tag{typeof(validation_mse), Float32}, ForwardDiff.Dual{ForwardDiff.Tag{typeof(validation_mse), Float32}, Float32, 4}, 4}[Dual{ForwardDiff.Tag{typeof(validation_mse), Float32}}(Dual{ForwardDiff.Tag{typeof(validation_mse), Float32}}(1.0012208,0.0020140908,1.4924186e-8,-0.0035908192,-0.019694353),Dual{ForwardDiff.Tag{typeof(validation_mse), Float32}}(0.0020140908,0.0011536301,1.2264987e-9,-0.0018466399,-0.013368545),Dual{ForwardDiff.Tag{typeof(validation_mse), Float32}}(1.4924186e-8,1.2264987e-9,1.4535325e-8,-9.4579015e-8,-1.9526016e-7),Dual{ForwardDiff.Tag{typeof(validation_mse), Float32}}(-0.0035908192,-0.0018466411,-9.4579015e-8,-0.00034091237,0.025899488),Dual{ForwardDiff.Tag{typeof(validation_mse), Float32}}(-0.019694353,-0.01336855,-1.9526016e-7,0.025899487,0.14796042))]\n"
     ]
    },
    {
     "name": "stdout",
     "output_type": "stream",
     "text": [
      "    20     1.814293e+00     1.566365e-07\n",
      " * time: 1382.7439241409302\n",
      " * g(x): Float32[3.489497f-12, 9.23058f-9, 9.725228f-8, 1.5663655f-7]\n",
      " * reached_subproblem_solution: true\n",
      " * h(x): Float32[0.018267618 -6.2314927f-9 -0.04582158 -0.20139964; -6.231494f-9 1.7257607f-8 -5.3962985f-8 4.0998497f-8; -0.04582158 -5.3963f-8 0.17359123 0.49444947; -0.20139964 4.0998497f-8 0.49444947 2.456784]\n",
      " * x: Float32[-0.29496047, -6.5436087, -0.4371441, -0.014977308]\n",
      " * lambda: 0.0\n",
      " * interior: true\n",
      " * hard case: false\n",
      " * delta: 1.7884607\n"
     ]
    },
    {
     "name": "stderr",
     "output_type": "stream",
     "text": [
      "\u001b[38;5;6m\u001b[1m[ \u001b[22m\u001b[39m\u001b[38;5;6m\u001b[1mInfo: \u001b[22m\u001b[39m20220524 23:31:17 training model with parameters ForwardDiff.Dual{ForwardDiff.Tag{typeof(validation_mse), Float32}, Float32, 4}[Dual{ForwardDiff.Tag{typeof(validation_mse), Float32}}(0.74455047,0.74455047,0.0,0.0,0.0), Dual{ForwardDiff.Tag{typeof(validation_mse), Float32}}(0.00085658807,0.0,0.00085658807,0.0,0.0), Dual{ForwardDiff.Tag{typeof(validation_mse), Float32}}(0.6458768,0.0,0.0,0.6458768,0.0), Dual{ForwardDiff.Tag{typeof(validation_mse), Float32}}(0.9851336,0.0,0.0,0.0,0.9851336)]\n",
      "\u001b[38;5;6m\u001b[1m[ \u001b[22m\u001b[39m\u001b[38;5;6m\u001b[1mInfo: \u001b[22m\u001b[39m20220524 23:31:32 regression coefficients: ForwardDiff.Dual{ForwardDiff.Tag{typeof(validation_mse), Float32}, Float32, 4}[Dual{ForwardDiff.Tag{typeof(validation_mse), Float32}}(1.0012202,0.0020140829,8.9824255e-9,-0.0035905798,-0.019694276)]\n",
      "\u001b[38;5;6m\u001b[1m[ \u001b[22m\u001b[39m\u001b[38;5;6m\u001b[1mInfo: \u001b[22m\u001b[39m20220524 23:31:33 training model with parameters ForwardDiff.Dual{ForwardDiff.Tag{typeof(validation_mse), Float32}, ForwardDiff.Dual{ForwardDiff.Tag{typeof(validation_mse), Float32}, Float32, 4}, 4}[Dual{ForwardDiff.Tag{typeof(validation_mse), Float32}}(Dual{ForwardDiff.Tag{typeof(validation_mse), Float32}}(0.74455047,0.74455047,0.0,0.0,0.0),Dual{ForwardDiff.Tag{typeof(validation_mse), Float32}}(0.74455047,0.74455047,0.0,0.0,0.0),Dual{ForwardDiff.Tag{typeof(validation_mse), Float32}}(0.0,0.0,0.0,0.0,0.0),Dual{ForwardDiff.Tag{typeof(validation_mse), Float32}}(0.0,0.0,0.0,0.0,0.0),Dual{ForwardDiff.Tag{typeof(validation_mse), Float32}}(0.0,0.0,0.0,0.0,0.0)), Dual{ForwardDiff.Tag{typeof(validation_mse), Float32}}(Dual{ForwardDiff.Tag{typeof(validation_mse), Float32}}(0.00085658807,0.0,0.00085658807,0.0,0.0),Dual{ForwardDiff.Tag{typeof(validation_mse), Float32}}(0.0,0.0,0.0,0.0,0.0),Dual{ForwardDiff.Tag{typeof(validation_mse), Float32}}(0.00085658807,0.0,0.00085658807,0.0,0.0),Dual{ForwardDiff.Tag{typeof(validation_mse), Float32}}(0.0,0.0,0.0,0.0,0.0),Dual{ForwardDiff.Tag{typeof(validation_mse), Float32}}(0.0,0.0,0.0,0.0,0.0)), Dual{ForwardDiff.Tag{typeof(validation_mse), Float32}}(Dual{ForwardDiff.Tag{typeof(validation_mse), Float32}}(0.6458768,0.0,0.0,0.6458768,0.0),Dual{ForwardDiff.Tag{typeof(validation_mse), Float32}}(0.0,0.0,0.0,0.0,0.0),Dual{ForwardDiff.Tag{typeof(validation_mse), Float32}}(0.0,0.0,0.0,0.0,0.0),Dual{ForwardDiff.Tag{typeof(validation_mse), Float32}}(0.6458768,0.0,0.0,0.6458768,0.0),Dual{ForwardDiff.Tag{typeof(validation_mse), Float32}}(0.0,0.0,0.0,0.0,0.0)), Dual{ForwardDiff.Tag{typeof(validation_mse), Float32}}(Dual{ForwardDiff.Tag{typeof(validation_mse), Float32}}(0.9851336,0.0,0.0,0.0,0.9851336),Dual{ForwardDiff.Tag{typeof(validation_mse), Float32}}(0.0,0.0,0.0,0.0,0.0),Dual{ForwardDiff.Tag{typeof(validation_mse), Float32}}(0.0,0.0,0.0,0.0,0.0),Dual{ForwardDiff.Tag{typeof(validation_mse), Float32}}(0.0,0.0,0.0,0.0,0.0),Dual{ForwardDiff.Tag{typeof(validation_mse), Float32}}(0.9851336,0.0,0.0,0.0,0.9851336))]\n",
      "\u001b[38;5;6m\u001b[1m[ \u001b[22m\u001b[39m\u001b[38;5;6m\u001b[1mInfo: \u001b[22m\u001b[39m20220524 23:32:39 regression coefficients: ForwardDiff.Dual{ForwardDiff.Tag{typeof(validation_mse), Float32}, ForwardDiff.Dual{ForwardDiff.Tag{typeof(validation_mse), Float32}, Float32, 4}, 4}[Dual{ForwardDiff.Tag{typeof(validation_mse), Float32}}(Dual{ForwardDiff.Tag{typeof(validation_mse), Float32}}(1.0012202,0.0020140829,8.9824255e-9,-0.0035905798,-0.019694276),Dual{ForwardDiff.Tag{typeof(validation_mse), Float32}}(0.0020140829,0.0011536286,7.318618e-10,-0.0018465654,-0.013368509),Dual{ForwardDiff.Tag{typeof(validation_mse), Float32}}(8.9824255e-9,7.318618e-10,8.825773e-9,-5.792746e-8,-1.1628125e-7),Dual{ForwardDiff.Tag{typeof(validation_mse), Float32}}(-0.0035905798,-0.001846565,-5.792747e-8,-0.00034268433,0.025897633),Dual{ForwardDiff.Tag{typeof(validation_mse), Float32}}(-0.019694276,-0.0133685,-1.1628126e-7,0.02589757,0.14796144))]\n"
     ]
    },
    {
     "name": "stdout",
     "output_type": "stream",
     "text": [
      "    21     1.814293e+00     1.828915e-07\n",
      " * time: 1465.510311126709\n",
      " * g(x): Float32[8.4637755f-9, 3.3822876f-9, -1.4869445f-7, 1.8289153f-7]\n",
      " * reached_subproblem_solution: true\n",
      " * h(x): Float32[0.018267673 -3.7404218f-9 -0.045821976 -0.2014; -3.740422f-9 6.7599504f-9 3.444311f-10 2.5551211f-8; -0.04582198 3.446117f-10 0.17359361 0.49445462; -0.20140001 2.5551222f-8 0.4944547 2.4567866]\n",
      " * x: Float32[-0.29497463, -7.0625534, -0.43714643, -0.014978052]\n",
      " * lambda: 0.0\n",
      " * interior: true\n",
      " * hard case: false\n",
      " * delta: 1.7884607\n"
     ]
    }
   ],
   "source": [
    "# Find the best regularization hyperparameters\n",
    "res = Optim.optimize(\n",
    "    validation_mse,\n",
    "    fill(0.0f0, 4),\n",
    "    Optim.NewtonTrustRegion(),\n",
    "    autodiff = :forward,\n",
    "    Optim.Options(show_trace = true, extended_trace = true),\n",
    ");\n",
    "λ = exp.(Optim.minimizer(res));"
   ]
  },
  {
   "cell_type": "code",
   "execution_count": 9,
   "id": "5e71e197-1810-46ac-9be5-4847747fce90",
   "metadata": {},
   "outputs": [
    {
     "name": "stderr",
     "output_type": "stream",
     "text": [
      "\u001b[38;5;6m\u001b[1m[ \u001b[22m\u001b[39m\u001b[38;5;6m\u001b[1mInfo: \u001b[22m\u001b[39m20220524 23:32:40 The optimal λ is Float32[0.74455047, 0.00085658807, 0.6458768, 0.9851336], found in 22 function calls\n"
     ]
    }
   ],
   "source": [
    "@info \"The optimal λ is $λ, found in \" * repr(Optim.f_calls(res)) * \" function calls\""
   ]
  },
  {
   "cell_type": "code",
   "execution_count": 15,
   "id": "781a2388-df56-42ce-8e58-b4a11a4e4d0b",
   "metadata": {},
   "outputs": [
    {
     "name": "stderr",
     "output_type": "stream",
     "text": [
      "\u001b[38;5;6m\u001b[1m[ \u001b[22m\u001b[39m\u001b[38;5;6m\u001b[1mInfo: \u001b[22m\u001b[39m20220524 23:39:18 training model with parameters Float32[0.74455047, 0.00085658807, 0.6458768, 0.9851336]\n"
     ]
    }
   ],
   "source": [
    "stop_criteria = convergence_stopper(1e-6, max_iters = 16)\n",
    "u, a = train_model(training, stop_criteria, λ);"
   ]
  },
  {
   "cell_type": "code",
   "execution_count": 16,
   "id": "4789cb8f-8d75-476e-ae4d-0e1e2789f4cc",
   "metadata": {},
   "outputs": [],
   "source": [
    "#[ Info: 20220522 21:58:57 The optimal λ is Float32[0.74455047, 0.00085658807, 0.6458768, 0.9851336], found in 22 function calls"
   ]
  },
  {
   "cell_type": "code",
   "execution_count": 17,
   "id": "49a78dff-fbb8-4b4e-8c59-f53774d5c47c",
   "metadata": {},
   "outputs": [
    {
     "name": "stderr",
     "output_type": "stream",
     "text": [
      "\u001b[38;5;6m\u001b[1m[ \u001b[22m\u001b[39m\u001b[38;5;6m\u001b[1mInfo: \u001b[22m\u001b[39m20220524 23:39:22 training model with parameters Float32[0.74455047, 0.00085658807, 0.6458768, 0.9851336]\n",
      "\u001b[38;5;6m\u001b[1m[ \u001b[22m\u001b[39m\u001b[38;5;6m\u001b[1mInfo: \u001b[22m\u001b[39m20220524 23:39:26 regression coefficients: Float32[0.99968237]\n"
     ]
    },
    {
     "data": {
      "text/plain": [
       "1.8145334f0"
      ]
     },
     "execution_count": 17,
     "metadata": {},
     "output_type": "execute_result"
    }
   ],
   "source": [
    "validation_mse(Optim.minimizer(res))"
   ]
  },
  {
   "cell_type": "markdown",
   "id": "7c291e04-b1ba-48a0-ac09-25eda75a6162",
   "metadata": {},
   "source": [
    "## Inference"
   ]
  },
  {
   "cell_type": "code",
   "execution_count": null,
   "id": "09dc7ac8-4839-476e-acdc-4687262d8623",
   "metadata": {},
   "outputs": [
    {
     "name": "stderr",
     "output_type": "stream",
     "text": [
      "\u001b[38;5;6m\u001b[1m[ \u001b[22m\u001b[39m\u001b[38;5;6m\u001b[1mInfo: \u001b[22m\u001b[39m20220524 23:40:06 regression coefficients: Float32[0.99968237]\n",
      "\u001b[38;5;6m\u001b[1m[ \u001b[22m\u001b[39m\u001b[38;5;6m\u001b[1mInfo: \u001b[22m\u001b[39m20220524 23:40:06 validation loss: 1.8145334\n"
     ]
    }
   ],
   "source": [
    "model(users, items) = make_prediction(users, items, u, a)\n",
    "write_alpha(model, residual_alphas, implicit);"
   ]
  },
  {
   "cell_type": "code",
   "execution_count": null,
   "id": "c4c83363-c309-46e5-ba51-252ad0d3871a",
   "metadata": {},
   "outputs": [],
   "source": [
    "write_params(Dict(\"u\" => u, \"a\" => a, \"λ\" => λ));"
   ]
  }
 ],
 "metadata": {
  "kernelspec": {
   "display_name": "Julia 1.7.2",
   "language": "julia",
   "name": "julia-1.7"
  },
  "language_info": {
   "file_extension": ".jl",
   "mimetype": "application/julia",
   "name": "julia",
   "version": "1.7.2"
  }
 },
 "nbformat": 4,
 "nbformat_minor": 5
}
