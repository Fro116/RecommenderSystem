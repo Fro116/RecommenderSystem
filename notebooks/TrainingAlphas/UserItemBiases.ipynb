{
 "cells": [
  {
   "cell_type": "markdown",
   "id": "c3758ece-9b72-47b4-ae6a-aa364e0443e3",
   "metadata": {},
   "source": [
    "# User Item Biases With Regularization\n",
    "* Prediction for user $i$ and item $j$ is $\\tilde r_{ij} = u_i + a_j$\n",
    "* Loss function is $L = \\sum_{\\Omega}w_{ij}(r_{ij} - u_i - a_j)^2 + \\lambda_u \\sum_i (u_i - \\bar u) ^2 + \\lambda_a \\sum_j (a_j - \\bar a)^2 $\n",
    "* $\\bar u$ is the mean of $u_i$ and $\\bar a$ is the mean of $a_j$ \n",
    "* $\\Omega$ is the set of oberved pairs $(i, j)$\n",
    "* $r_{ij}$ is the rating for user $i$ and item $j$\n",
    "* $w_{ij}$ is the weight for the prediction $r_{ij}$ and is modeled as a power-law in the number of items seen by $i$ and users than have seen $j$: $w_{ij} = |j' : (i, j') \\in \\Omega| ^ {\\lambda_{wu}} |i' : (i', j) \\in \\Omega| ^ {\\lambda_{wa}}$"
   ]
  },
  {
   "cell_type": "code",
   "execution_count": 1,
   "id": "7cc9334a-2287-41d6-885b-a5cca94fe263",
   "metadata": {},
   "outputs": [],
   "source": [
    "const name = \"UserItemBiases\"\n",
    "const residual_alphas = [];"
   ]
  },
  {
   "cell_type": "code",
   "execution_count": 2,
   "id": "df87db6f-667c-4bc2-9d48-7f4debe6750f",
   "metadata": {
    "tags": []
   },
   "outputs": [],
   "source": [
    "using NBInclude\n",
    "@nbinclude(\"Alpha.ipynb\");"
   ]
  },
  {
   "cell_type": "code",
   "execution_count": 3,
   "id": "2964541d-4796-47fd-ac77-91a2eaefc679",
   "metadata": {},
   "outputs": [],
   "source": [
    "const training = get_residuals(\"training\", residual_alphas)\n",
    "const validation = get_residuals(\"validation\", residual_alphas);"
   ]
  },
  {
   "cell_type": "markdown",
   "id": "99f52a69-0231-4bff-8a9f-26bb16ee9f33",
   "metadata": {},
   "source": [
    "## Alternating Least Squares Algorithm\n",
    "* $u_i = \\dfrac{\\sum_{j \\in \\Omega_i}(r_{ij} - a_j) w_{ij} + \\bar u \\lambda_u}{ \\sum_{j \\in \\Omega_i} w_{ij} + \\lambda_u}$\n",
    "* $\\Omega$ is the set of (user, item) pairs that we have ratings for\n",
    "* $\\Omega_i$ is subset of $\\Omega$ for which the user is the $i$-th user"
   ]
  },
  {
   "cell_type": "code",
   "execution_count": 4,
   "id": "fb96c1bd-40b5-457b-9872-ca6633256390",
   "metadata": {},
   "outputs": [],
   "source": [
    "function get_residuals!(users, items, ratings, weights, a, ρ, Ω)\n",
    "    for row = 1:length(users)\n",
    "        i = users[row]\n",
    "        j = items[row]\n",
    "        r = ratings[row]\n",
    "        w = weights[row]\n",
    "        ρ[i] += (r - a[j]) * w\n",
    "        Ω[i] += w\n",
    "    end\n",
    "    ρ, Ω\n",
    "end\n",
    "\n",
    "function thread_range(n)\n",
    "    tid = Threads.threadid()\n",
    "    nt = Threads.nthreads()\n",
    "    d, r = divrem(n, nt)\n",
    "    from = (tid - 1) * d + min(r, tid - 1) + 1\n",
    "    to = from + d - 1 + (tid ≤ r ? 1 : 0)\n",
    "    from:to\n",
    "end\n",
    "\n",
    "function update_users!(users, items, ratings, weights, u, a, λ_u, ρ, Ω)\n",
    "    Threads.@threads for t = 1:Threads.nthreads()\n",
    "        range = thread_range(length(ratings))\n",
    "        ρ[:, Threads.threadid()] .= 0\n",
    "        Ω[:, Threads.threadid()] .= 0\n",
    "        @views get_residuals!(\n",
    "            users[range],\n",
    "            items[range],\n",
    "            ratings[range],\n",
    "            weights[range],\n",
    "            a,\n",
    "            ρ[:, Threads.threadid()],\n",
    "            Ω[:, Threads.threadid()],\n",
    "        )\n",
    "    end\n",
    "\n",
    "    ρ = sum(ρ, dims = 2)\n",
    "    Ω = sum(Ω, dims = 2)\n",
    "\n",
    "    μ = mean(u)\n",
    "    Threads.@threads for i = 1:length(u)\n",
    "        u[i] = (ρ[i] + μ * λ_u) / (Ω[i] + λ_u)\n",
    "    end\n",
    "end;"
   ]
  },
  {
   "cell_type": "code",
   "execution_count": 5,
   "id": "d0371f61-27bf-4f52-b822-d060f7be01b3",
   "metadata": {},
   "outputs": [],
   "source": [
    "function train_model(training, stop_criteria, λ_u, λ_a, λ_wu, λ_wa)\n",
    "    @info \"training model with parameters [$λ_u, $λ_a, $λ_wu, $λ_wa]\"\n",
    "    users, items, ratings = training.user, training.item, training.rating\n",
    "    weights =\n",
    "        safe_exp.(get_counts(\"training\"), log(λ_wu)) .*\n",
    "        safe_exp.(get_counts(\"training\"; by_item = true), log(λ_wa))\n",
    "    u = zeros(eltype(λ_u), maximum(users))\n",
    "    a = zeros(eltype(λ_a), maximum(items))\n",
    "\n",
    "    ρ_u = zeros(eltype(u), length(u), Threads.nthreads())\n",
    "    Ω_u = zeros(eltype(u), length(u), Threads.nthreads())\n",
    "    ρ_a = zeros(eltype(a), length(a), Threads.nthreads())\n",
    "    Ω_a = zeros(eltype(a), length(a), Threads.nthreads())\n",
    "\n",
    "    while !stop!(stop_criteria, [u, a])\n",
    "        update_users!(users, items, ratings, weights, u, a, λ_u, ρ_u, Ω_u)\n",
    "        update_users!(items, users, ratings, weights, a, u, λ_a, ρ_a, Ω_a)\n",
    "    end\n",
    "    u, a\n",
    "end;"
   ]
  },
  {
   "cell_type": "code",
   "execution_count": 6,
   "id": "59fb718e-dc9e-4452-b72c-829ae2d843ff",
   "metadata": {},
   "outputs": [],
   "source": [
    "function make_prediction(users, items, u, a)\n",
    "    r = zeros(eltype(u), length(users))\n",
    "    u_mean = mean(u)\n",
    "    a_mean = mean(a)\n",
    "    for i = 1:length(r)\n",
    "        if users[i] > length(u)\n",
    "            r[i] += mean(u)\n",
    "        else\n",
    "            r[i] += u[users[i]]\n",
    "        end\n",
    "        if items[i] > length(a)\n",
    "            r[i] += mean(a)\n",
    "        else\n",
    "            r[i] += a[items[i]]\n",
    "        end\n",
    "    end\n",
    "    r\n",
    "end;"
   ]
  },
  {
   "cell_type": "markdown",
   "id": "d44f0871-3bb4-4083-8bdb-3cb53233298c",
   "metadata": {
    "tags": []
   },
   "source": [
    "## Training"
   ]
  },
  {
   "cell_type": "code",
   "execution_count": 7,
   "id": "c174fef4-e9d4-4fbd-a649-1159f8c07a3f",
   "metadata": {},
   "outputs": [],
   "source": [
    "function validation_mse(λ)\n",
    "    λ = exp.(λ) # ensure λ is nonnegative\n",
    "    stop_criteria = convergence_stopper(1e-6, max_iters = 16)\n",
    "    u, a = train_model(training, stop_criteria, λ...)\n",
    "    pred_score = make_prediction(validation.user, validation.item, u, a)\n",
    "    weights = get_weights(\"validation\", \"inverse\")\n",
    "    mse(validation.rating, pred_score, weights)\n",
    "end;"
   ]
  },
  {
   "cell_type": "code",
   "execution_count": 8,
   "id": "7d55df8c-06e5-4e8e-814c-41410685842d",
   "metadata": {
    "tags": []
   },
   "outputs": [
    {
     "name": "stderr",
     "output_type": "stream",
     "text": [
      "\u001b[38;5;6m\u001b[1m[ \u001b[22m\u001b[39m\u001b[38;5;6m\u001b[1mInfo: \u001b[22m\u001b[39m20220514 22:43:25 training model with parameters [Dual{ForwardDiff.Tag{typeof(validation_mse), Float32}}(1.0,1.0,0.0,0.0,0.0), Dual{ForwardDiff.Tag{typeof(validation_mse), Float32}}(1.0,0.0,1.0,0.0,0.0), Dual{ForwardDiff.Tag{typeof(validation_mse), Float32}}(1.0,0.0,0.0,1.0,0.0), Dual{ForwardDiff.Tag{typeof(validation_mse), Float32}}(1.0,0.0,0.0,0.0,1.0)]\n",
      "\u001b[32mProgress: 100%|███████████████████████████| Time: 0:00:01 ( 0.11 μs/it)\u001b[39m\n",
      "\u001b[32mProgress: 100%|███████████████████████████| Time: 0:00:00 (34.81 ns/it)\u001b[39m\n"
     ]
    },
    {
     "name": "stdout",
     "output_type": "stream",
     "text": [
      "Iter     Function value   Gradient norm \n",
      "     0     1.820281e+00     5.464972e-02\n",
      " * Current step size: 1.0\n",
      " * time: 0.025578975677490234\n",
      " * g(x): Float32[-0.0050086514, -1.0955863f-6, 0.019451264, 0.05464972]\n",
      " * x: Float32[0.0, 0.0, 0.0, 0.0]\n"
     ]
    },
    {
     "name": "stderr",
     "output_type": "stream",
     "text": [
      "\u001b[38;5;6m\u001b[1m[ \u001b[22m\u001b[39m\u001b[38;5;6m\u001b[1mInfo: \u001b[22m\u001b[39m20220514 22:43:55 training model with parameters [Dual{ForwardDiff.Tag{typeof(validation_mse), Float32}}(1.0050212,1.0050212,0.0,0.0,0.0), Dual{ForwardDiff.Tag{typeof(validation_mse), Float32}}(1.0000011,0.0,1.0000011,0.0,0.0), Dual{ForwardDiff.Tag{typeof(validation_mse), Float32}}(0.9807367,0.0,0.0,0.9807367,0.0), Dual{ForwardDiff.Tag{typeof(validation_mse), Float32}}(0.94681674,0.0,0.0,0.0,0.94681674)]\n",
      "\u001b[38;5;6m\u001b[1m[ \u001b[22m\u001b[39m\u001b[38;5;6m\u001b[1mInfo: \u001b[22m\u001b[39m20220514 22:44:37 training model with parameters [Dual{ForwardDiff.Tag{typeof(validation_mse), Float32}}(1.004674,1.004674,0.0,0.0,0.0), Dual{ForwardDiff.Tag{typeof(validation_mse), Float32}}(1.0000011,0.0,1.0000011,0.0,0.0), Dual{ForwardDiff.Tag{typeof(validation_mse), Float32}}(0.98205394,0.0,0.0,0.98205394,0.0), Dual{ForwardDiff.Tag{typeof(validation_mse), Float32}}(0.9503939,0.0,0.0,0.0,0.9503939)]\n"
     ]
    },
    {
     "name": "stdout",
     "output_type": "stream",
     "text": [
      "     1     1.818468e+00     1.585315e-02\n",
      " * Current step size: 0.930997\n",
      " * time: 87.16159200668335\n",
      " * g(x): Float32[-0.0008187882, -1.7059443f-6, 0.015853152, -0.003936903]\n",
      " * x: Float32[0.0046630395, 1.0199876f-6, -0.018109068, -0.05087873]\n"
     ]
    },
    {
     "name": "stderr",
     "output_type": "stream",
     "text": [
      "\u001b[38;5;6m\u001b[1m[ \u001b[22m\u001b[39m\u001b[38;5;6m\u001b[1mInfo: \u001b[22m\u001b[39m20220514 22:45:19 training model with parameters [Dual{ForwardDiff.Tag{typeof(validation_mse), Float32}}(1.0057998,1.0057998,0.0,0.0,0.0), Dual{ForwardDiff.Tag{typeof(validation_mse), Float32}}(1.0000026,0.0,1.0000026,0.0,0.0), Dual{ForwardDiff.Tag{typeof(validation_mse), Float32}}(0.9665626,0.0,0.0,0.9665626,0.0), Dual{ForwardDiff.Tag{typeof(validation_mse), Float32}}(0.9499285,0.0,0.0,0.0,0.9499285)]\n",
      "\u001b[38;5;6m\u001b[1m[ \u001b[22m\u001b[39m\u001b[38;5;6m\u001b[1mInfo: \u001b[22m\u001b[39m20220514 22:46:02 training model with parameters [Dual{ForwardDiff.Tag{typeof(validation_mse), Float32}}(1.0103159,1.0103159,0.0,0.0,0.0), Dual{ForwardDiff.Tag{typeof(validation_mse), Float32}}(1.0000092,0.0,1.0000092,0.0,0.0), Dual{ForwardDiff.Tag{typeof(validation_mse), Float32}}(0.9070028,0.0,0.0,0.9070028,0.0), Dual{ForwardDiff.Tag{typeof(validation_mse), Float32}}(0.9480692,0.0,0.0,0.0,0.9480692)]\n",
      "\u001b[38;5;6m\u001b[1m[ \u001b[22m\u001b[39m\u001b[38;5;6m\u001b[1mInfo: \u001b[22m\u001b[39m20220514 22:46:46 training model with parameters [Dual{ForwardDiff.Tag{typeof(validation_mse), Float32}}(1.0332022,1.0332022,0.0,0.0,0.0), Dual{ForwardDiff.Tag{typeof(validation_mse), Float32}}(1.000042,0.0,1.000042,0.0,0.0), Dual{ForwardDiff.Tag{typeof(validation_mse), Float32}}(0.65993613,0.0,0.0,0.65993613,0.0), Dual{ForwardDiff.Tag{typeof(validation_mse), Float32}}(0.93882716,0.0,0.0,0.0,0.93882716)]\n",
      "\u001b[38;5;6m\u001b[1m[ \u001b[22m\u001b[39m\u001b[38;5;6m\u001b[1mInfo: \u001b[22m\u001b[39m20220514 22:47:29 training model with parameters [Dual{ForwardDiff.Tag{typeof(validation_mse), Float32}}(1.0128554,1.0128554,0.0,0.0,0.0), Dual{ForwardDiff.Tag{typeof(validation_mse), Float32}}(1.0000129,0.0,1.0000129,0.0,0.0), Dual{ForwardDiff.Tag{typeof(validation_mse), Float32}}(0.8752459,0.0,0.0,0.8752459,0.0), Dual{ForwardDiff.Tag{typeof(validation_mse), Float32}}(0.9470289,0.0,0.0,0.0,0.9470289)]\n"
     ]
    },
    {
     "name": "stdout",
     "output_type": "stream",
     "text": [
      "     2     1.817068e+00     3.685882e-02\n",
      " * Current step size: 7.2415323\n",
      " * time: 260.09696197509766\n",
      " * g(x): Float32[0.002224842, -7.730692f-7, 0.008650017, -0.03685882]\n",
      " * x: Float32[0.012773503, 1.2871211f-5, -0.13325036, -0.054425683]\n"
     ]
    },
    {
     "name": "stderr",
     "output_type": "stream",
     "text": [
      "\u001b[38;5;6m\u001b[1m[ \u001b[22m\u001b[39m\u001b[38;5;6m\u001b[1mInfo: \u001b[22m\u001b[39m20220514 22:48:12 training model with parameters [Dual{ForwardDiff.Tag{typeof(validation_mse), Float32}}(1.031327,1.031327,0.0,0.0,0.0), Dual{ForwardDiff.Tag{typeof(validation_mse), Float32}}(1.0000452,0.0,1.0000452,0.0,0.0), Dual{ForwardDiff.Tag{typeof(validation_mse), Float32}}(0.6376831,0.0,0.0,0.6376831,0.0), Dual{ForwardDiff.Tag{typeof(validation_mse), Float32}}(0.9908382,0.0,0.0,0.0,0.9908382)]\n",
      "\u001b[38;5;6m\u001b[1m[ \u001b[22m\u001b[39m\u001b[38;5;6m\u001b[1mInfo: \u001b[22m\u001b[39m20220514 22:48:55 training model with parameters [Dual{ForwardDiff.Tag{typeof(validation_mse), Float32}}(1.0238904,1.0238904,0.0,0.0,0.0), Dual{ForwardDiff.Tag{typeof(validation_mse), Float32}}(1.0000323,0.0,1.0000323,0.0,0.0), Dual{ForwardDiff.Tag{typeof(validation_mse), Float32}}(0.72389185,0.0,0.0,0.72389185,0.0), Dual{ForwardDiff.Tag{typeof(validation_mse), Float32}}(0.9730576,0.0,0.0,0.0,0.9730576)]\n"
     ]
    },
    {
     "name": "stdout",
     "output_type": "stream",
     "text": [
      "     3     1.815303e+00     5.056256e-02\n",
      " * Current step size: 0.59957314\n",
      " * time: 344.9703619480133\n",
      " * g(x): Float32[0.0042570867, 1.14318345f-5, -0.0033773936, -0.05056256]\n",
      " * x: Float32[0.023609465, 3.22618f-5, -0.32311326, -0.027311988]\n"
     ]
    },
    {
     "name": "stderr",
     "output_type": "stream",
     "text": [
      "\u001b[38;5;6m\u001b[1m[ \u001b[22m\u001b[39m\u001b[38;5;6m\u001b[1mInfo: \u001b[22m\u001b[39m20220514 22:49:37 training model with parameters [Dual{ForwardDiff.Tag{typeof(validation_mse), Float32}}(1.0260113,1.0260113,0.0,0.0,0.0), Dual{ForwardDiff.Tag{typeof(validation_mse), Float32}}(0.99995685,0.0,0.99995685,0.0,0.0), Dual{ForwardDiff.Tag{typeof(validation_mse), Float32}}(0.65157425,0.0,0.0,0.65157425,0.0), Dual{ForwardDiff.Tag{typeof(validation_mse), Float32}}(1.0156094,0.0,0.0,0.0,1.0156094)]\n",
      "\u001b[38;5;6m\u001b[1m[ \u001b[22m\u001b[39m\u001b[38;5;6m\u001b[1mInfo: \u001b[22m\u001b[39m20220514 22:50:20 training model with parameters [Dual{ForwardDiff.Tag{typeof(validation_mse), Float32}}(1.0256885,1.0256885,0.0,0.0,0.0), Dual{ForwardDiff.Tag{typeof(validation_mse), Float32}}(0.9999683,0.0,0.9999683,0.0,0.0), Dual{ForwardDiff.Tag{typeof(validation_mse), Float32}}(0.6620865,0.0,0.0,0.6620865,0.0), Dual{ForwardDiff.Tag{typeof(validation_mse), Float32}}(1.0090208,0.0,0.0,0.0,1.0090208)]\n"
     ]
    },
    {
     "name": "stdout",
     "output_type": "stream",
     "text": [
      "     4     1.814570e+00     1.824260e-03\n",
      " * Current step size: 0.847936\n",
      " * time: 429.66269993782043\n",
      " * g(x): Float32[0.00034904332, 2.3264034f-5, 0.00048238898, 0.00182426]\n",
      " * x: Float32[0.025364114, -3.1709635f-5, -0.4123591, 0.00898036]\n"
     ]
    },
    {
     "name": "stderr",
     "output_type": "stream",
     "text": [
      "\u001b[38;5;6m\u001b[1m[ \u001b[22m\u001b[39m\u001b[38;5;6m\u001b[1mInfo: \u001b[22m\u001b[39m20220514 22:51:02 training model with parameters [Dual{ForwardDiff.Tag{typeof(validation_mse), Float32}}(1.0256451,1.0256451,0.0,0.0,0.0), Dual{ForwardDiff.Tag{typeof(validation_mse), Float32}}(0.99995655,0.0,0.99995655,0.0,0.0), Dual{ForwardDiff.Tag{typeof(validation_mse), Float32}}(0.66004425,0.0,0.0,0.66004425,0.0), Dual{ForwardDiff.Tag{typeof(validation_mse), Float32}}(1.0087895,0.0,0.0,0.0,1.0087895)]\n",
      "\u001b[38;5;6m\u001b[1m[ \u001b[22m\u001b[39m\u001b[38;5;6m\u001b[1mInfo: \u001b[22m\u001b[39m20220514 22:51:44 training model with parameters [Dual{ForwardDiff.Tag{typeof(validation_mse), Float32}}(1.0256531,1.0256531,0.0,0.0,0.0), Dual{ForwardDiff.Tag{typeof(validation_mse), Float32}}(0.9999587,0.0,0.9999587,0.0,0.0), Dual{ForwardDiff.Tag{typeof(validation_mse), Float32}}(0.6604213,0.0,0.0,0.6604213,0.0), Dual{ForwardDiff.Tag{typeof(validation_mse), Float32}}(1.0088323,0.0,0.0,0.0,1.0088323)]\n"
     ]
    },
    {
     "name": "stdout",
     "output_type": "stream",
     "text": [
      "     5     1.814569e+00     4.978255e-04\n",
      " * Current step size: 0.8151318\n",
      " * time: 514.1042459011078\n",
      " * g(x): Float32[0.0004978255, 2.3935152f-5, -1.6750528f-5, 0.00015245673]\n",
      " * x: Float32[0.025329629, -4.1283958f-5, -0.4148773, 0.0087935245]\n"
     ]
    },
    {
     "name": "stderr",
     "output_type": "stream",
     "text": [
      "\u001b[38;5;6m\u001b[1m[ \u001b[22m\u001b[39m\u001b[38;5;6m\u001b[1mInfo: \u001b[22m\u001b[39m20220514 22:52:26 training model with parameters [Dual{ForwardDiff.Tag{typeof(validation_mse), Float32}}(1.0253233,1.0253233,0.0,0.0,0.0), Dual{ForwardDiff.Tag{typeof(validation_mse), Float32}}(0.99994534,0.0,0.99994534,0.0,0.0), Dual{ForwardDiff.Tag{typeof(validation_mse), Float32}}(0.6610061,0.0,0.0,0.6610061,0.0), Dual{ForwardDiff.Tag{typeof(validation_mse), Float32}}(1.0085347,0.0,0.0,0.0,1.0085347)]\n",
      "\u001b[38;5;6m\u001b[1m[ \u001b[22m\u001b[39m\u001b[38;5;6m\u001b[1mInfo: \u001b[22m\u001b[39m20220514 22:53:08 training model with parameters [Dual{ForwardDiff.Tag{typeof(validation_mse), Float32}}(1.0240049,1.0240049,0.0,0.0,0.0), Dual{ForwardDiff.Tag{typeof(validation_mse), Float32}}(0.99989176,0.0,0.99989176,0.0,0.0), Dual{ForwardDiff.Tag{typeof(validation_mse), Float32}}(0.6633503,0.0,0.0,0.6633503,0.0), Dual{ForwardDiff.Tag{typeof(validation_mse), Float32}}(1.007345,0.0,0.0,0.0,1.007345)]\n",
      "\u001b[38;5;6m\u001b[1m[ \u001b[22m\u001b[39m\u001b[38;5;6m\u001b[1mInfo: \u001b[22m\u001b[39m20220514 22:53:51 training model with parameters [Dual{ForwardDiff.Tag{typeof(validation_mse), Float32}}(1.0247486,1.0247486,0.0,0.0,0.0), Dual{ForwardDiff.Tag{typeof(validation_mse), Float32}}(0.999922,0.0,0.999922,0.0,0.0), Dual{ForwardDiff.Tag{typeof(validation_mse), Float32}}(0.6620265,0.0,0.0,0.6620265,0.0), Dual{ForwardDiff.Tag{typeof(validation_mse), Float32}}(1.0080161,0.0,0.0,0.0,1.0080161)]\n"
     ]
    },
    {
     "name": "stdout",
     "output_type": "stream",
     "text": [
      "     6     1.814569e+00     5.393652e-04\n",
      " * Current step size: 2.743032\n",
      " * time: 640.8383979797363\n",
      " * g(x): Float32[0.0005393652, 2.3494218f-5, 2.7530128f-5, -0.00050523505]\n",
      " * x: Float32[0.024447335, -7.8015204f-5, -0.41244963, 0.007984106]\n"
     ]
    },
    {
     "name": "stderr",
     "output_type": "stream",
     "text": [
      "\u001b[38;5;6m\u001b[1m[ \u001b[22m\u001b[39m\u001b[38;5;6m\u001b[1mInfo: \u001b[22m\u001b[39m20220514 22:54:33 training model with parameters [Dual{ForwardDiff.Tag{typeof(validation_mse), Float32}}(1.0234873,1.0234873,0.0,0.0,0.0), Dual{ForwardDiff.Tag{typeof(validation_mse), Float32}}(0.99986386,0.0,0.99986386,0.0,0.0), Dual{ForwardDiff.Tag{typeof(validation_mse), Float32}}(0.661971,0.0,0.0,0.661971,0.0), Dual{ForwardDiff.Tag{typeof(validation_mse), Float32}}(1.0079305,0.0,0.0,0.0,1.0079305)]\n",
      "\u001b[38;5;6m\u001b[1m[ \u001b[22m\u001b[39m\u001b[38;5;6m\u001b[1mInfo: \u001b[22m\u001b[39m20220514 22:55:16 training model with parameters [Dual{ForwardDiff.Tag{typeof(validation_mse), Float32}}(1.0184577,1.0184577,0.0,0.0,0.0), Dual{ForwardDiff.Tag{typeof(validation_mse), Float32}}(0.99963146,0.0,0.99963146,0.0,0.0), Dual{ForwardDiff.Tag{typeof(validation_mse), Float32}}(0.6617486,0.0,0.0,0.6617486,0.0), Dual{ForwardDiff.Tag{typeof(validation_mse), Float32}}(1.0075884,0.0,0.0,0.0,1.0075884)]\n",
      "\u001b[38;5;6m\u001b[1m[ \u001b[22m\u001b[39m\u001b[38;5;6m\u001b[1mInfo: \u001b[22m\u001b[39m20220514 22:55:58 training model with parameters [Dual{ForwardDiff.Tag{typeof(validation_mse), Float32}}(0.9936778,0.9936778,0.0,0.0,0.0), Dual{ForwardDiff.Tag{typeof(validation_mse), Float32}}(0.9984701,0.0,0.9984701,0.0,0.0), Dual{ForwardDiff.Tag{typeof(validation_mse), Float32}}(0.66063786,0.0,0.0,0.66063786,0.0), Dual{ForwardDiff.Tag{typeof(validation_mse), Float32}}(1.0058798,0.0,0.0,0.0,1.0058798)]\n",
      "\u001b[38;5;6m\u001b[1m[ \u001b[22m\u001b[39m\u001b[38;5;6m\u001b[1mInfo: \u001b[22m\u001b[39m20220514 22:56:40 training model with parameters [Dual{ForwardDiff.Tag{typeof(validation_mse), Float32}}(0.8785341,0.8785341,0.0,0.0,0.0), Dual{ForwardDiff.Tag{typeof(validation_mse), Float32}}(0.99268377,0.0,0.99268377,0.0,0.0), Dual{ForwardDiff.Tag{typeof(validation_mse), Float32}}(0.6551121,0.0,0.0,0.6551121,0.0), Dual{ForwardDiff.Tag{typeof(validation_mse), Float32}}(0.99737954,0.0,0.0,0.0,0.99737954)]\n",
      "\u001b[38;5;6m\u001b[1m[ \u001b[22m\u001b[39m\u001b[38;5;6m\u001b[1mInfo: \u001b[22m\u001b[39m20220514 22:57:22 training model with parameters [Dual{ForwardDiff.Tag{typeof(validation_mse), Float32}}(0.47459552,0.47459552,0.0,0.0,0.0), Dual{ForwardDiff.Tag{typeof(validation_mse), Float32}}(0.964251,0.0,0.964251,0.0,0.0), Dual{ForwardDiff.Tag{typeof(validation_mse), Float32}}(0.62816906,0.0,0.0,0.62816906,0.0), Dual{ForwardDiff.Tag{typeof(validation_mse), Float32}}(0.9559441,0.0,0.0,0.0,0.9559441)]\n",
      "\u001b[38;5;6m\u001b[1m[ \u001b[22m\u001b[39m\u001b[38;5;6m\u001b[1mInfo: \u001b[22m\u001b[39m20220514 22:58:05 training model with parameters [Dual{ForwardDiff.Tag{typeof(validation_mse), Float32}}(0.7193702,0.7193702,0.0,0.0,0.0), Dual{ForwardDiff.Tag{typeof(validation_mse), Float32}}(0.9833641,0.0,0.9833641,0.0,0.0), Dual{ForwardDiff.Tag{typeof(validation_mse), Float32}}(0.6462424,0.0,0.0,0.6462424,0.0), Dual{ForwardDiff.Tag{typeof(validation_mse), Float32}}(0.98373693,0.0,0.0,0.0,0.98373693)]\n"
     ]
    },
    {
     "name": "stdout",
     "output_type": "stream",
     "text": [
      "     7     1.814477e+00     5.985096e-04\n",
      " * Current step size: 287.29395\n",
      " * time: 895.4016499519348\n",
      " * g(x): Float32[4.905001f-5, 3.600637f-5, -7.690468f-6, -0.0005985096]\n",
      " * x: Float32[-0.32937917, -0.016775848, -0.43658063, -0.016396757]\n"
     ]
    },
    {
     "name": "stderr",
     "output_type": "stream",
     "text": [
      "\u001b[38;5;6m\u001b[1m[ \u001b[22m\u001b[39m\u001b[38;5;6m\u001b[1mInfo: \u001b[22m\u001b[39m20220514 22:58:48 training model with parameters [Dual{ForwardDiff.Tag{typeof(validation_mse), Float32}}(0.7143449,0.7143449,0.0,0.0,0.0), Dual{ForwardDiff.Tag{typeof(validation_mse), Float32}}(0.958061,0.0,0.958061,0.0,0.0), Dual{ForwardDiff.Tag{typeof(validation_mse), Float32}}(0.644876,0.0,0.0,0.644876,0.0), Dual{ForwardDiff.Tag{typeof(validation_mse), Float32}}(0.9838099,0.0,0.0,0.0,0.9838099)]\n",
      "\u001b[38;5;6m\u001b[1m[ \u001b[22m\u001b[39m\u001b[38;5;6m\u001b[1mInfo: \u001b[22m\u001b[39m20220514 22:59:30 training model with parameters [Dual{ForwardDiff.Tag{typeof(validation_mse), Float32}}(0.6945924,0.6945924,0.0,0.0,0.0), Dual{ForwardDiff.Tag{typeof(validation_mse), Float32}}(0.86319387,0.0,0.86319387,0.0,0.0), Dual{ForwardDiff.Tag{typeof(validation_mse), Float32}}(0.6394394,0.0,0.0,0.6394394,0.0), Dual{ForwardDiff.Tag{typeof(validation_mse), Float32}}(0.9841017,0.0,0.0,0.0,0.9841017)]\n",
      "\u001b[38;5;6m\u001b[1m[ \u001b[22m\u001b[39m\u001b[38;5;6m\u001b[1mInfo: \u001b[22m\u001b[39m20220514 23:00:12 training model with parameters [Dual{ForwardDiff.Tag{typeof(validation_mse), Float32}}(0.70252895,0.70252895,0.0,0.0,0.0), Dual{ForwardDiff.Tag{typeof(validation_mse), Float32}}(0.9004438,0.0,0.9004438,0.0,0.0), Dual{ForwardDiff.Tag{typeof(validation_mse), Float32}}(0.64163667,0.0,0.0,0.64163667,0.0), Dual{ForwardDiff.Tag{typeof(validation_mse), Float32}}(0.98398346,0.0,0.0,0.0,0.98398346)]\n"
     ]
    },
    {
     "name": "stdout",
     "output_type": "stream",
     "text": [
      "     8     1.814475e+00     1.301556e-03\n",
      " * Current step size: 3.379301\n",
      " * time: 1022.808079957962\n",
      " * g(x): Float32[-0.000111540496, 3.3978136f-5, -4.839737f-6, 0.0013015565]\n",
      " * x: Float32[-0.35306868, -0.10486754, -0.4437331, -0.016146176]\n"
     ]
    },
    {
     "name": "stderr",
     "output_type": "stream",
     "text": [
      "\u001b[38;5;6m\u001b[1m[ \u001b[22m\u001b[39m\u001b[38;5;6m\u001b[1mInfo: \u001b[22m\u001b[39m20220514 23:00:55 training model with parameters [Dual{ForwardDiff.Tag{typeof(validation_mse), Float32}}(0.7023489,0.7023489,0.0,0.0,0.0), Dual{ForwardDiff.Tag{typeof(validation_mse), Float32}}(0.85282475,0.0,0.85282475,0.0,0.0), Dual{ForwardDiff.Tag{typeof(validation_mse), Float32}}(0.64178145,0.0,0.0,0.64178145,0.0), Dual{ForwardDiff.Tag{typeof(validation_mse), Float32}}(0.98389965,0.0,0.0,0.0,0.98389965)]\n",
      "\u001b[38;5;6m\u001b[1m[ \u001b[22m\u001b[39m\u001b[38;5;6m\u001b[1mInfo: \u001b[22m\u001b[39m20220514 23:01:38 training model with parameters [Dual{ForwardDiff.Tag{typeof(validation_mse), Float32}}(0.70162904,0.70162904,0.0,0.0,0.0), Dual{ForwardDiff.Tag{typeof(validation_mse), Float32}}(0.6862344,0.0,0.6862344,0.0,0.0), Dual{ForwardDiff.Tag{typeof(validation_mse), Float32}}(0.6423608,0.0,0.0,0.6423608,0.0), Dual{ForwardDiff.Tag{typeof(validation_mse), Float32}}(0.9835643,0.0,0.0,0.0,0.9835643)]\n",
      "\u001b[38;5;6m\u001b[1m[ \u001b[22m\u001b[39m\u001b[38;5;6m\u001b[1mInfo: \u001b[22m\u001b[39m20220514 23:02:21 training model with parameters [Dual{ForwardDiff.Tag{typeof(validation_mse), Float32}}(0.6980411,0.6980411,0.0,0.0,0.0), Dual{ForwardDiff.Tag{typeof(validation_mse), Float32}}(0.23149203,0.0,0.23149203,0.0,0.0), Dual{ForwardDiff.Tag{typeof(validation_mse), Float32}}(0.6452656,0.0,0.0,0.6452656,0.0), Dual{ForwardDiff.Tag{typeof(validation_mse), Float32}}(0.98188937,0.0,0.0,0.0,0.98188937)]\n",
      "\u001b[38;5;6m\u001b[1m[ \u001b[22m\u001b[39m\u001b[38;5;6m\u001b[1mInfo: \u001b[22m\u001b[39m20220514 23:03:03 training model with parameters [Dual{ForwardDiff.Tag{typeof(validation_mse), Float32}}(0.6803744,0.6803744,0.0,0.0,0.0), Dual{ForwardDiff.Tag{typeof(validation_mse), Float32}}(0.0010112387,0.0,0.0010112387,0.0,0.0), Dual{ForwardDiff.Tag{typeof(validation_mse), Float32}}(0.6599878,0.0,0.0,0.6599878,0.0), Dual{ForwardDiff.Tag{typeof(validation_mse), Float32}}(0.9735573,0.0,0.0,0.0,0.9735573)]\n",
      "\u001b[38;5;6m\u001b[1m[ \u001b[22m\u001b[39m\u001b[38;5;6m\u001b[1mInfo: \u001b[22m\u001b[39m20220514 23:03:45 training model with parameters [Dual{ForwardDiff.Tag{typeof(validation_mse), Float32}}(0.6959957,0.6959957,0.0,0.0,0.0), Dual{ForwardDiff.Tag{typeof(validation_mse), Float32}}(0.12428593,0.0,0.12428593,0.0,0.0), Dual{ForwardDiff.Tag{typeof(validation_mse), Float32}}(0.6469341,0.0,0.0,0.6469341,0.0), Dual{ForwardDiff.Tag{typeof(validation_mse), Float32}}(0.980932,0.0,0.0,0.0,0.980932)]\n"
     ]
    },
    {
     "name": "stdout",
     "output_type": "stream",
     "text": [
      "     9     1.814456e+00     5.075865e-04\n",
      " * Current step size: 36.447052\n",
      " * time: 1235.1129910945892\n",
      " * g(x): Float32[-3.0566647f-5, 6.2033075f-7, 0.00050758646, -0.00019168075]\n",
      " * x: Float32[-0.3624118, -2.0851705, -0.43551087, -0.019252166]\n"
     ]
    },
    {
     "name": "stderr",
     "output_type": "stream",
     "text": [
      "\u001b[38;5;6m\u001b[1m[ \u001b[22m\u001b[39m\u001b[38;5;6m\u001b[1mInfo: \u001b[22m\u001b[39m20220514 23:04:27 training model with parameters [Dual{ForwardDiff.Tag{typeof(validation_mse), Float32}}(0.6995755,0.6995755,0.0,0.0,0.0), Dual{ForwardDiff.Tag{typeof(validation_mse), Float32}}(0.116371416,0.0,0.116371416,0.0,0.0), Dual{ForwardDiff.Tag{typeof(validation_mse), Float32}}(0.64235896,0.0,0.0,0.64235896,0.0), Dual{ForwardDiff.Tag{typeof(validation_mse), Float32}}(0.98277277,0.0,0.0,0.0,0.98277277)]\n",
      "\u001b[38;5;6m\u001b[1m[ \u001b[22m\u001b[39m\u001b[38;5;6m\u001b[1mInfo: \u001b[22m\u001b[39m20220514 23:05:10 training model with parameters [Dual{ForwardDiff.Tag{typeof(validation_mse), Float32}}(0.7140796,0.7140796,0.0,0.0,0.0), Dual{ForwardDiff.Tag{typeof(validation_mse), Float32}}(0.08944248,0.0,0.08944248,0.0,0.0), Dual{ForwardDiff.Tag{typeof(validation_mse), Float32}}(0.6243797,0.0,0.0,0.6243797,0.0), Dual{ForwardDiff.Tag{typeof(validation_mse), Float32}}(0.9901704,0.0,0.0,0.0,0.9901704)]\n",
      "\u001b[38;5;6m\u001b[1m[ \u001b[22m\u001b[39m\u001b[38;5;6m\u001b[1mInfo: \u001b[22m\u001b[39m20220514 23:05:52 training model with parameters [Dual{ForwardDiff.Tag{typeof(validation_mse), Float32}}(0.69967294,0.69967294,0.0,0.0,0.0), Dual{ForwardDiff.Tag{typeof(validation_mse), Float32}}(0.116163686,0.0,0.116163686,0.0,0.0), Dual{ForwardDiff.Tag{typeof(validation_mse), Float32}}(0.64223516,0.0,0.0,0.64223516,0.0), Dual{ForwardDiff.Tag{typeof(validation_mse), Float32}}(0.9828228,0.0,0.0,0.0,0.9828228)]\n"
     ]
    },
    {
     "name": "stdout",
     "output_type": "stream",
     "text": [
      "    10     1.814454e+00     8.956702e-05\n",
      " * Current step size: 1.0271554\n",
      " * time: 1362.1349050998688\n",
      " * g(x): Float32[8.470384f-6, 4.9114254f-7, -2.1622092f-5, -8.956702f-5]\n",
      " * x: Float32[-0.3571423, -2.152755, -0.44280073, -0.017326465]\n"
     ]
    },
    {
     "name": "stderr",
     "output_type": "stream",
     "text": [
      "\u001b[38;5;6m\u001b[1m[ \u001b[22m\u001b[39m\u001b[38;5;6m\u001b[1mInfo: \u001b[22m\u001b[39m20220514 23:06:34 training model with parameters [Dual{ForwardDiff.Tag{typeof(validation_mse), Float32}}(0.6990393,0.6990393,0.0,0.0,0.0), Dual{ForwardDiff.Tag{typeof(validation_mse), Float32}}(0.112710185,0.0,0.112710185,0.0,0.0), Dual{ForwardDiff.Tag{typeof(validation_mse), Float32}}(0.64218974,0.0,0.0,0.64218974,0.0), Dual{ForwardDiff.Tag{typeof(validation_mse), Float32}}(0.982798,0.0,0.0,0.0,0.982798)]\n",
      "\u001b[38;5;6m\u001b[1m[ \u001b[22m\u001b[39m\u001b[38;5;6m\u001b[1mInfo: \u001b[22m\u001b[39m20220514 23:07:17 training model with parameters [Dual{ForwardDiff.Tag{typeof(validation_mse), Float32}}(0.69651055,0.69651055,0.0,0.0,0.0), Dual{ForwardDiff.Tag{typeof(validation_mse), Float32}}(0.09989279,0.0,0.09989279,0.0,0.0), Dual{ForwardDiff.Tag{typeof(validation_mse), Float32}}(0.6420079,0.0,0.0,0.6420079,0.0), Dual{ForwardDiff.Tag{typeof(validation_mse), Float32}}(0.98269874,0.0,0.0,0.0,0.98269874)]\n",
      "\u001b[38;5;6m\u001b[1m[ \u001b[22m\u001b[39m\u001b[38;5;6m\u001b[1mInfo: \u001b[22m\u001b[39m20220514 23:07:59 training model with parameters [Dual{ForwardDiff.Tag{typeof(validation_mse), Float32}}(0.6973509,0.6973509,0.0,0.0,0.0), Dual{ForwardDiff.Tag{typeof(validation_mse), Float32}}(0.10398719,0.0,0.10398719,0.0,0.0), Dual{ForwardDiff.Tag{typeof(validation_mse), Float32}}(0.6420684,0.0,0.0,0.6420684,0.0), Dual{ForwardDiff.Tag{typeof(validation_mse), Float32}}(0.98273176,0.0,0.0,0.0,0.98273176)]\n"
     ]
    },
    {
     "name": "stdout",
     "output_type": "stream",
     "text": [
      "    11     1.814454e+00     2.276308e-04\n",
      " * Current step size: 3.6690035\n",
      " * time: 1489.2220799922943\n",
      " * g(x): Float32[-2.2096765f-5, 3.7551897f-7, 3.954319f-5, 0.00022763084]\n",
      " * x: Float32[-0.36046648, -2.2634876, -0.44306046, -0.01741908]\n"
     ]
    },
    {
     "name": "stderr",
     "output_type": "stream",
     "text": [
      "\u001b[38;5;6m\u001b[1m[ \u001b[22m\u001b[39m\u001b[38;5;6m\u001b[1mInfo: \u001b[22m\u001b[39m20220514 23:08:41 training model with parameters [Dual{ForwardDiff.Tag{typeof(validation_mse), Float32}}(0.6978182,0.6978182,0.0,0.0,0.0), Dual{ForwardDiff.Tag{typeof(validation_mse), Float32}}(0.09570978,0.0,0.09570978,0.0,0.0), Dual{ForwardDiff.Tag{typeof(validation_mse), Float32}}(0.6421168,0.0,0.0,0.6421168,0.0), Dual{ForwardDiff.Tag{typeof(validation_mse), Float32}}(0.9827496,0.0,0.0,0.0,0.9827496)]\n",
      "\u001b[38;5;6m\u001b[1m[ \u001b[22m\u001b[39m\u001b[38;5;6m\u001b[1mInfo: \u001b[22m\u001b[39m20220514 23:09:24 training model with parameters [Dual{ForwardDiff.Tag{typeof(validation_mse), Float32}}(0.6996905,0.6996905,0.0,0.0,0.0), Dual{ForwardDiff.Tag{typeof(validation_mse), Float32}}(0.06868501,0.0,0.06868501,0.0,0.0), Dual{ForwardDiff.Tag{typeof(validation_mse), Float32}}(0.64231044,0.0,0.0,0.64231044,0.0), Dual{ForwardDiff.Tag{typeof(validation_mse), Float32}}(0.9828209,0.0,0.0,0.0,0.9828209)]\n",
      "\u001b[38;5;6m\u001b[1m[ \u001b[22m\u001b[39m\u001b[38;5;6m\u001b[1mInfo: \u001b[22m\u001b[39m20220514 23:10:06 training model with parameters [Dual{ForwardDiff.Tag{typeof(validation_mse), Float32}}(0.70912755,0.70912755,0.0,0.0,0.0), Dual{ForwardDiff.Tag{typeof(validation_mse), Float32}}(0.013073454,0.0,0.013073454,0.0,0.0), Dual{ForwardDiff.Tag{typeof(validation_mse), Float32}}(0.64327973,0.0,0.0,0.64327973,0.0), Dual{ForwardDiff.Tag{typeof(validation_mse), Float32}}(0.9831776,0.0,0.0,0.0,0.9831776)]\n",
      "\u001b[38;5;6m\u001b[1m[ \u001b[22m\u001b[39m\u001b[38;5;6m\u001b[1mInfo: \u001b[22m\u001b[39m20220514 23:10:48 training model with parameters [Dual{ForwardDiff.Tag{typeof(validation_mse), Float32}}(0.70462763,0.70462763,0.0,0.0,0.0), Dual{ForwardDiff.Tag{typeof(validation_mse), Float32}}(0.028756306,0.0,0.028756306,0.0,0.0), Dual{ForwardDiff.Tag{typeof(validation_mse), Float32}}(0.642819,0.0,0.0,0.642819,0.0), Dual{ForwardDiff.Tag{typeof(validation_mse), Float32}}(0.9830081,0.0,0.0,0.0,0.9830081)]\n"
     ]
    },
    {
     "name": "stdout",
     "output_type": "stream",
     "text": [
      "    12     1.814454e+00     5.978787e-04\n",
      " * Current step size: 15.496704\n",
      " * time: 1658.4295699596405\n",
      " * g(x): Float32[5.8979465f-5, 3.5884133f-7, -0.000104989005, -0.0005978787]\n",
      " * x: Float32[-0.3500858, -3.5488982, -0.44189212, -0.017137911]\n"
     ]
    },
    {
     "name": "stderr",
     "output_type": "stream",
     "text": [
      "\u001b[38;5;6m\u001b[1m[ \u001b[22m\u001b[39m\u001b[38;5;6m\u001b[1mInfo: \u001b[22m\u001b[39m20220514 23:11:31 training model with parameters [Dual{ForwardDiff.Tag{typeof(validation_mse), Float32}}(0.7061485,0.7061485,0.0,0.0,0.0), Dual{ForwardDiff.Tag{typeof(validation_mse), Float32}}(0.004041991,0.0,0.004041991,0.0,0.0), Dual{ForwardDiff.Tag{typeof(validation_mse), Float32}}(0.64309466,0.0,0.0,0.64309466,0.0), Dual{ForwardDiff.Tag{typeof(validation_mse), Float32}}(0.983015,0.0,0.0,0.0,0.983015)]\n",
      "\u001b[38;5;6m\u001b[1m[ \u001b[22m\u001b[39m\u001b[38;5;6m\u001b[1mInfo: \u001b[22m\u001b[39m20220514 23:12:13 training model with parameters [Dual{ForwardDiff.Tag{typeof(validation_mse), Float32}}(0.712265,0.712265,0.0,0.0,0.0), Dual{ForwardDiff.Tag{typeof(validation_mse), Float32}}(1.5777747e-6,0.0,1.5777747e-6,0.0,0.0), Dual{ForwardDiff.Tag{typeof(validation_mse), Float32}}(0.6441985,0.0,0.0,0.6441985,0.0), Dual{ForwardDiff.Tag{typeof(validation_mse), Float32}}(0.98304254,0.0,0.0,0.0,0.98304254)]\n",
      "\u001b[38;5;6m\u001b[1m[ \u001b[22m\u001b[39m\u001b[38;5;6m\u001b[1mInfo: \u001b[22m\u001b[39m20220514 23:12:55 training model with parameters [Dual{ForwardDiff.Tag{typeof(validation_mse), Float32}}(0.70666534,0.70666534,0.0,0.0,0.0), Dual{ForwardDiff.Tag{typeof(validation_mse), Float32}}(0.0020771476,0.0,0.0020771476,0.0,0.0), Dual{ForwardDiff.Tag{typeof(validation_mse), Float32}}(0.6431882,0.0,0.0,0.6431882,0.0), Dual{ForwardDiff.Tag{typeof(validation_mse), Float32}}(0.9830173,0.0,0.0,0.0,0.9830173)]\n"
     ]
    },
    {
     "name": "stdout",
     "output_type": "stream",
     "text": [
      "    13     1.814454e+00     8.775190e-04\n",
      " * Current step size: 1.3392977\n",
      " * time: 1785.126697063446\n",
      " * g(x): Float32[8.422473f-5, 2.3585695f-8, -0.00013394393, -0.00087751896]\n",
      " * x: Float32[-0.3471981, -6.1767597, -0.44131792, -0.017128522]\n"
     ]
    },
    {
     "name": "stderr",
     "output_type": "stream",
     "text": [
      "\u001b[38;5;6m\u001b[1m[ \u001b[22m\u001b[39m\u001b[38;5;6m\u001b[1mInfo: \u001b[22m\u001b[39m20220514 23:13:37 training model with parameters [Dual{ForwardDiff.Tag{typeof(validation_mse), Float32}}(0.70136464,0.70136464,0.0,0.0,0.0), Dual{ForwardDiff.Tag{typeof(validation_mse), Float32}}(0.0019732495,0.0,0.0019732495,0.0,0.0), Dual{ForwardDiff.Tag{typeof(validation_mse), Float32}}(0.6425479,0.0,0.0,0.6425479,0.0), Dual{ForwardDiff.Tag{typeof(validation_mse), Float32}}(0.98284876,0.0,0.0,0.0,0.98284876)]\n",
      "\u001b[38;5;6m\u001b[1m[ \u001b[22m\u001b[39m\u001b[38;5;6m\u001b[1mInfo: \u001b[22m\u001b[39m20220514 23:14:20 training model with parameters [Dual{ForwardDiff.Tag{typeof(validation_mse), Float32}}(0.6805564,0.6805564,0.0,0.0,0.0), Dual{ForwardDiff.Tag{typeof(validation_mse), Float32}}(0.0016070902,0.0,0.0016070902,0.0,0.0), Dual{ForwardDiff.Tag{typeof(validation_mse), Float32}}(0.6399932,0.0,0.0,0.6399932,0.0), Dual{ForwardDiff.Tag{typeof(validation_mse), Float32}}(0.9821748,0.0,0.0,0.0,0.9821748)]\n",
      "\u001b[38;5;6m\u001b[1m[ \u001b[22m\u001b[39m\u001b[38;5;6m\u001b[1mInfo: \u001b[22m\u001b[39m20220514 23:15:02 training model with parameters [Dual{ForwardDiff.Tag{typeof(validation_mse), Float32}}(0.6991168,0.6991168,0.0,0.0,0.0), Dual{ForwardDiff.Tag{typeof(validation_mse), Float32}}(0.0019305489,0.0,0.0019305489,0.0,0.0), Dual{ForwardDiff.Tag{typeof(validation_mse), Float32}}(0.64227515,0.0,0.0,0.64227515,0.0), Dual{ForwardDiff.Tag{typeof(validation_mse), Float32}}(0.98277694,0.0,0.0,0.0,0.98277694)]\n"
     ]
    },
    {
     "name": "stdout",
     "output_type": "stream",
     "text": [
      "    14     1.814453e+00     4.975067e-06\n",
      " * Current step size: 1.426342\n",
      " * time: 1911.9261689186096\n",
      " * g(x): Float32[5.15322f-7, 2.123389f-8, -4.9750665f-6, -1.7822676f-6]\n",
      " * x: Float32[-0.35793743, -6.249951, -0.4427385, -0.017373122]\n"
     ]
    },
    {
     "name": "stderr",
     "output_type": "stream",
     "text": [
      "\u001b[38;5;6m\u001b[1m[ \u001b[22m\u001b[39m\u001b[38;5;6m\u001b[1mInfo: \u001b[22m\u001b[39m20220514 23:15:44 training model with parameters [Dual{ForwardDiff.Tag{typeof(validation_mse), Float32}}(0.6990819,0.6990819,0.0,0.0,0.0), Dual{ForwardDiff.Tag{typeof(validation_mse), Float32}}(0.0016379341,0.0,0.0016379341,0.0,0.0), Dual{ForwardDiff.Tag{typeof(validation_mse), Float32}}(0.6423121,0.0,0.0,0.6423121,0.0), Dual{ForwardDiff.Tag{typeof(validation_mse), Float32}}(0.982763,0.0,0.0,0.0,0.982763)]\n",
      "\u001b[38;5;6m\u001b[1m[ \u001b[22m\u001b[39m\u001b[38;5;6m\u001b[1mInfo: \u001b[22m\u001b[39m20220514 23:16:27 training model with parameters [Dual{ForwardDiff.Tag{typeof(validation_mse), Float32}}(0.69894236,0.69894236,0.0,0.0,0.0), Dual{ForwardDiff.Tag{typeof(validation_mse), Float32}}(0.00084870914,0.0,0.00084870914,0.0,0.0), Dual{ForwardDiff.Tag{typeof(validation_mse), Float32}}(0.64246,0.0,0.0,0.64246,0.0), Dual{ForwardDiff.Tag{typeof(validation_mse), Float32}}(0.9827073,0.0,0.0,0.0,0.9827073)]\n",
      "\u001b[38;5;6m\u001b[1m[ \u001b[22m\u001b[39m\u001b[38;5;6m\u001b[1mInfo: \u001b[22m\u001b[39m20220514 23:18:34 training model with parameters [Dual{ForwardDiff.Tag{typeof(validation_mse), Float32}}(0.69842976,0.69842976,0.0,0.0,0.0), Dual{ForwardDiff.Tag{typeof(validation_mse), Float32}}(0.0007746662,0.0,0.0007746662,0.0,0.0), Dual{ForwardDiff.Tag{typeof(validation_mse), Float32}}(0.6423441,0.0,0.0,0.6423441,0.0), Dual{ForwardDiff.Tag{typeof(validation_mse), Float32}}(0.9826656,0.0,0.0,0.0,0.9826656)]\n"
     ]
    },
    {
     "name": "stdout",
     "output_type": "stream",
     "text": [
      "    16     1.814453e+00     3.140748e-05\n",
      " * Current step size: 0.6050304\n",
      " * time: 2123.94056892395\n",
      " * g(x): Float32[4.570264f-7, 4.6751967f-9, 2.230804f-6, -3.1407482f-5]\n",
      " * x: Float32[-0.35892066, -7.1630783, -0.44263113, -0.01748638]\n"
     ]
    },
    {
     "name": "stderr",
     "output_type": "stream",
     "text": [
      "\u001b[38;5;6m\u001b[1m[ \u001b[22m\u001b[39m\u001b[38;5;6m\u001b[1mInfo: \u001b[22m\u001b[39m20220514 23:19:16 training model with parameters [Dual{ForwardDiff.Tag{typeof(validation_mse), Float32}}(0.6991232,0.6991232,0.0,0.0,0.0), Dual{ForwardDiff.Tag{typeof(validation_mse), Float32}}(0.00058569026,0.0,0.00058569026,0.0,0.0), Dual{ForwardDiff.Tag{typeof(validation_mse), Float32}}(0.64228964,0.0,0.0,0.64228964,0.0), Dual{ForwardDiff.Tag{typeof(validation_mse), Float32}}(0.98277193,0.0,0.0,0.0,0.98277193)]\n",
      "\u001b[38;5;6m\u001b[1m[ \u001b[22m\u001b[39m\u001b[38;5;6m\u001b[1mInfo: \u001b[22m\u001b[39m20220514 23:19:58 training model with parameters [Dual{ForwardDiff.Tag{typeof(validation_mse), Float32}}(0.7019038,0.7019038,0.0,0.0,0.0), Dual{ForwardDiff.Tag{typeof(validation_mse), Float32}}(0.00019137321,0.0,0.00019137321,0.0,0.0), Dual{ForwardDiff.Tag{typeof(validation_mse), Float32}}(0.64207184,0.0,0.0,0.64207184,0.0), Dual{ForwardDiff.Tag{typeof(validation_mse), Float32}}(0.9831973,0.0,0.0,0.0,0.9831973)]\n",
      "\u001b[38;5;6m\u001b[1m[ \u001b[22m\u001b[39m\u001b[38;5;6m\u001b[1mInfo: \u001b[22m\u001b[39m20220514 23:20:41 training model with parameters [Dual{ForwardDiff.Tag{typeof(validation_mse), Float32}}(0.69917697,0.69917697,0.0,0.0,0.0), Dual{ForwardDiff.Tag{typeof(validation_mse), Float32}}(0.0005731374,0.0,0.0005731374,0.0,0.0), Dual{ForwardDiff.Tag{typeof(validation_mse), Float32}}(0.64228547,0.0,0.0,0.64228547,0.0), Dual{ForwardDiff.Tag{typeof(validation_mse), Float32}}(0.98278016,0.0,0.0,0.0,0.98278016)]\n"
     ]
    },
    {
     "name": "stdout",
     "output_type": "stream",
     "text": [
      "    17     1.814453e+00     4.547795e-06\n",
      " * Current step size: 1.0774752\n",
      " * time: 2250.7799019813538\n",
      " * g(x): Float32[7.4153905f-7, 2.8467821f-9, -4.547795f-6, -3.2921869f-6]\n",
      " * x: Float32[-0.35785142, -7.464385, -0.44272247, -0.017369818]\n"
     ]
    },
    {
     "name": "stderr",
     "output_type": "stream",
     "text": [
      "\u001b[38;5;6m\u001b[1m[ \u001b[22m\u001b[39m\u001b[38;5;6m\u001b[1mInfo: \u001b[22m\u001b[39m20220514 23:21:23 training model with parameters [Dual{ForwardDiff.Tag{typeof(validation_mse), Float32}}(0.69914836,0.69914836,0.0,0.0,0.0), Dual{ForwardDiff.Tag{typeof(validation_mse), Float32}}(0.00046903393,0.0,0.00046903393,0.0,0.0), Dual{ForwardDiff.Tag{typeof(validation_mse), Float32}}(0.6422994,0.0,0.0,0.6422994,0.0), Dual{ForwardDiff.Tag{typeof(validation_mse), Float32}}(0.9827741,0.0,0.0,0.0,0.9827741)]\n",
      "\u001b[38;5;6m\u001b[1m[ \u001b[22m\u001b[39m\u001b[38;5;6m\u001b[1mInfo: \u001b[22m\u001b[39m20220514 23:22:05 training model with parameters [Dual{ForwardDiff.Tag{typeof(validation_mse), Float32}}(0.69903415,0.69903415,0.0,0.0,0.0), Dual{ForwardDiff.Tag{typeof(validation_mse), Float32}}(0.00021037126,0.0,0.00021037126,0.0,0.0), Dual{ForwardDiff.Tag{typeof(validation_mse), Float32}}(0.6423553,0.0,0.0,0.6423553,0.0), Dual{ForwardDiff.Tag{typeof(validation_mse), Float32}}(0.9827497,0.0,0.0,0.0,0.9827497)]\n",
      "\u001b[38;5;6m\u001b[1m[ \u001b[22m\u001b[39m\u001b[38;5;6m\u001b[1mInfo: \u001b[22m\u001b[39m20220514 23:22:47 training model with parameters [Dual{ForwardDiff.Tag{typeof(validation_mse), Float32}}(0.69904053,0.69904053,0.0,0.0,0.0), Dual{ForwardDiff.Tag{typeof(validation_mse), Float32}}(0.00021996001,0.0,0.00021996001,0.0,0.0), Dual{ForwardDiff.Tag{typeof(validation_mse), Float32}}(0.6423522,0.0,0.0,0.6423522,0.0), Dual{ForwardDiff.Tag{typeof(validation_mse), Float32}}(0.9827511,0.0,0.0,0.0,0.9827511)]\n"
     ]
    },
    {
     "name": "stdout",
     "output_type": "stream",
     "text": [
      "    18     1.814453e+00     1.540225e-05\n",
      " * Current step size: 4.7776413\n",
      " * time: 2377.5676050186157\n",
      " * g(x): Float32[-1.6312562f-6, 6.459795f-10, 7.660067f-6, 1.540225f-5]\n",
      " * x: Float32[-0.35804656, -8.422065, -0.44261852, -0.017399423]\n"
     ]
    },
    {
     "name": "stderr",
     "output_type": "stream",
     "text": [
      "\u001b[38;5;6m\u001b[1m[ \u001b[22m\u001b[39m\u001b[38;5;6m\u001b[1mInfo: \u001b[22m\u001b[39m20220514 23:23:30 training model with parameters [Dual{ForwardDiff.Tag{typeof(validation_mse), Float32}}(0.69904435,0.69904435,0.0,0.0,0.0), Dual{ForwardDiff.Tag{typeof(validation_mse), Float32}}(0.00017783235,0.0,0.00017783235,0.0,0.0), Dual{ForwardDiff.Tag{typeof(validation_mse), Float32}}(0.64232135,0.0,0.0,0.64232135,0.0), Dual{ForwardDiff.Tag{typeof(validation_mse), Float32}}(0.98275584,0.0,0.0,0.0,0.98275584)]\n",
      "\u001b[38;5;6m\u001b[1m[ \u001b[22m\u001b[39m\u001b[38;5;6m\u001b[1mInfo: \u001b[22m\u001b[39m20220514 23:24:12 training model with parameters [Dual{ForwardDiff.Tag{typeof(validation_mse), Float32}}(0.6990597,0.6990597,0.0,0.0,0.0), Dual{ForwardDiff.Tag{typeof(validation_mse), Float32}}(7.597643e-5,0.0,7.597643e-5,0.0,0.0), Dual{ForwardDiff.Tag{typeof(validation_mse), Float32}}(0.642198,0.0,0.0,0.642198,0.0), Dual{ForwardDiff.Tag{typeof(validation_mse), Float32}}(0.98277503,0.0,0.0,0.0,0.98277503)]\n",
      "\u001b[38;5;6m\u001b[1m[ \u001b[22m\u001b[39m\u001b[38;5;6m\u001b[1mInfo: \u001b[22m\u001b[39m20220514 23:24:55 training model with parameters [Dual{ForwardDiff.Tag{typeof(validation_mse), Float32}}(0.6990467,0.6990467,0.0,0.0,0.0), Dual{ForwardDiff.Tag{typeof(validation_mse), Float32}}(0.00015626624,0.0,0.00015626624,0.0,0.0), Dual{ForwardDiff.Tag{typeof(validation_mse), Float32}}(0.64230263,0.0,0.0,0.64230263,0.0), Dual{ForwardDiff.Tag{typeof(validation_mse), Float32}}(0.98275876,0.0,0.0,0.0,0.98275876)]\n"
     ]
    },
    {
     "name": "stdout",
     "output_type": "stream",
     "text": [
      "    19     1.814453e+00     4.696696e-06\n",
      " * Current step size: 1.6080762\n",
      " * time: 2504.667226076126\n",
      " * g(x): Float32[4.7711893f-7, 3.972438f-10, -2.147419f-6, -4.6966957f-6]\n",
      " * x: Float32[-0.35803774, -8.763949, -0.4426957, -0.017391577]\n"
     ]
    },
    {
     "name": "stderr",
     "output_type": "stream",
     "text": [
      "\u001b[38;5;6m\u001b[1m[ \u001b[22m\u001b[39m\u001b[38;5;6m\u001b[1mInfo: \u001b[22m\u001b[39m20220514 23:25:37 training model with parameters [Dual{ForwardDiff.Tag{typeof(validation_mse), Float32}}(0.69903857,0.69903857,0.0,0.0,0.0), Dual{ForwardDiff.Tag{typeof(validation_mse), Float32}}(0.00012561135,0.0,0.00012561135,0.0,0.0), Dual{ForwardDiff.Tag{typeof(validation_mse), Float32}}(0.64230627,0.0,0.0,0.64230627,0.0), Dual{ForwardDiff.Tag{typeof(validation_mse), Float32}}(0.9827574,0.0,0.0,0.0,0.9827574)]\n",
      "\u001b[38;5;6m\u001b[1m[ \u001b[22m\u001b[39m\u001b[38;5;6m\u001b[1mInfo: \u001b[22m\u001b[39m20220514 23:26:20 training model with parameters [Dual{ForwardDiff.Tag{typeof(validation_mse), Float32}}(0.69900584,0.69900584,0.0,0.0,0.0), Dual{ForwardDiff.Tag{typeof(validation_mse), Float32}}(5.2442563e-5,0.0,5.2442563e-5,0.0,0.0), Dual{ForwardDiff.Tag{typeof(validation_mse), Float32}}(0.64232075,0.0,0.0,0.64232075,0.0), Dual{ForwardDiff.Tag{typeof(validation_mse), Float32}}(0.98275185,0.0,0.0,0.0,0.98275185)]\n",
      "\u001b[38;5;6m\u001b[1m[ \u001b[22m\u001b[39m\u001b[38;5;6m\u001b[1mInfo: \u001b[22m\u001b[39m20220514 23:27:02 training model with parameters [Dual{ForwardDiff.Tag{typeof(validation_mse), Float32}}(0.69884247,0.69884247,0.0,0.0,0.0), Dual{ForwardDiff.Tag{typeof(validation_mse), Float32}}(6.6521153e-7,0.0,6.6521153e-7,0.0,0.0), Dual{ForwardDiff.Tag{typeof(validation_mse), Float32}}(0.6423932,0.0,0.0,0.6423932,0.0), Dual{ForwardDiff.Tag{typeof(validation_mse), Float32}}(0.9827242,0.0,0.0,0.0,0.9827242)]\n",
      "\u001b[38;5;6m\u001b[1m[ \u001b[22m\u001b[39m\u001b[38;5;6m\u001b[1mInfo: \u001b[22m\u001b[39m20220514 23:27:45 training model with parameters [Dual{ForwardDiff.Tag{typeof(validation_mse), Float32}}(0.6989904,0.6989904,0.0,0.0,0.0), Dual{ForwardDiff.Tag{typeof(validation_mse), Float32}}(3.4730216e-5,0.0,3.4730216e-5,0.0,0.0), Dual{ForwardDiff.Tag{typeof(validation_mse), Float32}}(0.64232755,0.0,0.0,0.64232755,0.0), Dual{ForwardDiff.Tag{typeof(validation_mse), Float32}}(0.9827492,0.0,0.0,0.0,0.9827492)]\n"
     ]
    },
    {
     "name": "stdout",
     "output_type": "stream",
     "text": [
      "    20     1.814453e+00     7.348267e-06\n",
      " * Current step size: 6.887216\n",
      " * time: 2675.259260892868\n",
      " * g(x): Float32[-8.7457266f-7, 6.163955f-11, 3.4997806f-6, 7.3482665f-6]\n",
      " * x: Float32[-0.35811824, -10.2679, -0.44265687, -0.017401274]\n"
     ]
    }
   ],
   "source": [
    "# Find the best regularization hyperparameters\n",
    "res = optimize(\n",
    "    validation_mse,\n",
    "    fill(0.0f0, 4),\n",
    "    LBFGS(),\n",
    "    autodiff = :forward,\n",
    "    Optim.Options(show_trace = true, extended_trace = true),\n",
    ");\n",
    "λ = exp.(Optim.minimizer(res));"
   ]
  },
  {
   "cell_type": "code",
   "execution_count": 9,
   "id": "5e71e197-1810-46ac-9be5-4847747fce90",
   "metadata": {},
   "outputs": [
    {
     "name": "stderr",
     "output_type": "stream",
     "text": [
      "\u001b[38;5;6m\u001b[1m[ \u001b[22m\u001b[39m\u001b[38;5;6m\u001b[1mInfo: \u001b[22m\u001b[39m20220514 23:28:28 The optimal λ is Float32[0.6989904, 3.4730216f-5, 0.64232755, 0.9827492], found in 64 function calls\n"
     ]
    }
   ],
   "source": [
    "@info \"The optimal λ is $λ, found in \" * repr(Optim.f_calls(res)) * \" function calls\""
   ]
  },
  {
   "cell_type": "code",
   "execution_count": 10,
   "id": "781a2388-df56-42ce-8e58-b4a11a4e4d0b",
   "metadata": {},
   "outputs": [
    {
     "name": "stderr",
     "output_type": "stream",
     "text": [
      "\u001b[38;5;6m\u001b[1m[ \u001b[22m\u001b[39m\u001b[38;5;6m\u001b[1mInfo: \u001b[22m\u001b[39m20220514 23:28:28 training model with parameters [0.6989904, 3.4730216e-5, 0.64232755, 0.9827492]\n"
     ]
    }
   ],
   "source": [
    "stop_criteria = convergence_stopper(1e-6, max_iters = 16)\n",
    "u, a = train_model(training, stop_criteria, λ...);"
   ]
  },
  {
   "cell_type": "markdown",
   "id": "7c291e04-b1ba-48a0-ac09-25eda75a6162",
   "metadata": {},
   "source": [
    "## Inference"
   ]
  },
  {
   "cell_type": "code",
   "execution_count": 11,
   "id": "bd86b2cc-bc7e-4fdb-93fd-37e1f15422c7",
   "metadata": {},
   "outputs": [],
   "source": [
    "model(users, items) = make_prediction(users, items, u, a);"
   ]
  },
  {
   "cell_type": "code",
   "execution_count": 12,
   "id": "09dc7ac8-4839-476e-acdc-4687262d8623",
   "metadata": {},
   "outputs": [
    {
     "name": "stderr",
     "output_type": "stream",
     "text": [
      "\u001b[38;5;6m\u001b[1m[ \u001b[22m\u001b[39m\u001b[38;5;6m\u001b[1mInfo: \u001b[22m\u001b[39m20220514 23:29:05 training set weighted-loss: RMSE 1.2922145 MAE 0.9602112 R2 0.48654854\n",
      "\u001b[38;5;6m\u001b[1m[ \u001b[22m\u001b[39m\u001b[38;5;6m\u001b[1mInfo: \u001b[22m\u001b[39m20220514 23:29:06 validation set weighted-loss: RMSE 1.3469539 MAE 1.0024743 R2 0.39468563\n"
     ]
    }
   ],
   "source": [
    "write_predictions(model; residual_alphas = residual_alphas);"
   ]
  },
  {
   "cell_type": "code",
   "execution_count": 13,
   "id": "c4c83363-c309-46e5-ba51-252ad0d3871a",
   "metadata": {},
   "outputs": [],
   "source": [
    "write_params(Dict(\"u\" => u, \"a\" => a, \"λ\" => λ));"
   ]
  }
 ],
 "metadata": {
  "kernelspec": {
   "display_name": "Julia 1.7.2",
   "language": "julia",
   "name": "julia-1.7"
  },
  "language_info": {
   "file_extension": ".jl",
   "mimetype": "application/julia",
   "name": "julia",
   "version": "1.7.2"
  }
 },
 "nbformat": 4,
 "nbformat_minor": 5
}
