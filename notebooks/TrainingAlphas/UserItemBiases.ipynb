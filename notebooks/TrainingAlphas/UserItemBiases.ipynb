{
 "cells": [
  {
   "cell_type": "markdown",
   "id": "c3758ece-9b72-47b4-ae6a-aa364e0443e3",
   "metadata": {},
   "source": [
    "# User Item Biases With Regularization\n",
    "* Prediction for user $i$ and item $j$ is $\\tilde r_{ij} = u_i + a_j$\n",
    "* Loss function is $L = \\sum_{\\Omega}(r_{ij} - u_i - a_j)^2 + \\lambda_u \\sum_i (u_i - \\bar u) ^2 + \\lambda_a \\sum_j (a_j - \\bar a)^2 $\n",
    "* $\\bar u$ is the mean of $u_i$ and $\\bar a$ is the mean of $a_j$ \n",
    "* $\\Omega$ is the set of oberved pairs $(i, j)$\n",
    "* $r_{ij}$ is the rating for user $i$ and item $j$"
   ]
  },
  {
   "cell_type": "code",
   "execution_count": 1,
   "id": "7cc9334a-2287-41d6-885b-a5cca94fe263",
   "metadata": {},
   "outputs": [],
   "source": [
    "name = \"UserItemBiases\";\n",
    "residual_alphas = [];"
   ]
  },
  {
   "cell_type": "code",
   "execution_count": 2,
   "id": "df87db6f-667c-4bc2-9d48-7f4debe6750f",
   "metadata": {
    "tags": []
   },
   "outputs": [],
   "source": [
    "using NBInclude\n",
    "@nbinclude(\"Alpha.ipynb\");"
   ]
  },
  {
   "cell_type": "markdown",
   "id": "99f52a69-0231-4bff-8a9f-26bb16ee9f33",
   "metadata": {},
   "source": [
    "# Alternating Least Squares Algorithm\n",
    "* $u_i = \\dfrac{\\sum_{j \\in \\Omega_i}(r_{ij} - a_j) + \\bar u \\lambda_u}{|\\Omega_i| + \\lambda_u} = \\dfrac{\\rho_i + \\bar u \\lambda_u}{|\\Omega_i| + \\lambda_u}$\n",
    "* $\\Omega$ is the set of (user, item) pairs that we have ratings for\n",
    "* $\\Omega_i$ is subset of $\\Omega$ for which the user is the $i$-th user"
   ]
  },
  {
   "cell_type": "code",
   "execution_count": 3,
   "id": "fb96c1bd-40b5-457b-9872-ca6633256390",
   "metadata": {},
   "outputs": [],
   "source": [
    "function get_residuals!(users, items, ratings, u, a, ρ, Ω)\n",
    "    for row = 1:length(users)\n",
    "        i = users[row]\n",
    "        j = items[row]\n",
    "        r = ratings[row]\n",
    "        ρ[i] += r - a[j]\n",
    "        Ω[i] += 1\n",
    "    end\n",
    "    ρ, Ω\n",
    "end\n",
    "\n",
    "# todo move to utils\n",
    "function thread_range(n)\n",
    "    tid = Threads.threadid()\n",
    "    nt = Threads.nthreads()\n",
    "    d, r = divrem(n, nt)\n",
    "    from = (tid - 1) * d + min(r, tid - 1) + 1\n",
    "    to = from + d - 1 + (tid ≤ r ? 1 : 0)\n",
    "    from:to\n",
    "end\n",
    "\n",
    "function update_users!(users, items, ratings, u, a, λ_u, ρ, Ω)\n",
    "    Threads.@threads for t = 1:Threads.nthreads()\n",
    "        range = thread_range(length(ratings))\n",
    "        ρ[:, Threads.threadid()] .= 0\n",
    "        Ω[:, Threads.threadid()] .= 0\n",
    "        @views get_residuals!(\n",
    "            users[range],\n",
    "            items[range],\n",
    "            ratings[range],\n",
    "            u,\n",
    "            a,\n",
    "            ρ[:, Threads.threadid()],\n",
    "            Ω[:, Threads.threadid()],\n",
    "        )\n",
    "    end\n",
    "    ρ = sum(ρ, dims = 2)\n",
    "    Ω = sum(Ω, dims = 2)\n",
    "\n",
    "    μ = mean(u)\n",
    "    Threads.@threads for i = 1:length(u)\n",
    "        u[i] = (ρ[i] + μ * λ_u) / (Ω[i] + λ_u)\n",
    "    end\n",
    "end;"
   ]
  },
  {
   "cell_type": "code",
   "execution_count": 4,
   "id": "d0371f61-27bf-4f52-b822-d060f7be01b3",
   "metadata": {},
   "outputs": [],
   "source": [
    "function train_model(training, λ_u, λ_a, stop_criteria)\n",
    "    @debug \"training model with parameters [$λ_u, $λ_a]\"\n",
    "    users, items, ratings = training.user, training.item, training.rating\n",
    "    u = zeros(eltype(λ_u), maximum(users))\n",
    "    a = zeros(eltype(λ_a), maximum(items))\n",
    "\n",
    "    ρ_u = zeros(eltype(u), length(u), Threads.nthreads())\n",
    "    Ω_u = zeros(eltype(u), length(u), Threads.nthreads())\n",
    "    ρ_a = zeros(eltype(a), length(a), Threads.nthreads())\n",
    "    Ω_a = zeros(eltype(a), length(a), Threads.nthreads())\n",
    "\n",
    "    # todo maybe refactor into a stopper\n",
    "    # converged = false\n",
    "    while !stop!(stop_criteria, [u, a])\n",
    "        # old_u = copy(u)\n",
    "        # old_a = copy(a)\n",
    "        update_users!(users, items, ratings, u, a, λ_u, ρ_u, Ω_u)\n",
    "        update_users!(items, users, ratings, a, u, λ_a, ρ_a, Ω_a)\n",
    "        # converged = (maximum(abs.(u - old_u)) < ϵ) && (maximum(abs.(a - old_a)) < ϵ)\n",
    "    end\n",
    "    u, a\n",
    "end;"
   ]
  },
  {
   "cell_type": "code",
   "execution_count": 5,
   "id": "59fb718e-dc9e-4452-b72c-829ae2d843ff",
   "metadata": {},
   "outputs": [],
   "source": [
    "function make_prediction(users, items, u, a)\n",
    "    r = zeros(eltype(u), length(users))\n",
    "    u_mean = mean(u)\n",
    "    a_mean = mean(a)\n",
    "    for i = 1:length(r)\n",
    "        if users[i] > length(u)\n",
    "            r[i] += mean(u)\n",
    "        else\n",
    "            r[i] += u[users[i]]\n",
    "        end\n",
    "        if items[i] > length(a)\n",
    "            r[i] += mean(a)\n",
    "        else\n",
    "            r[i] += a[items[i]]\n",
    "        end\n",
    "    end\n",
    "    r\n",
    "end;"
   ]
  },
  {
   "cell_type": "markdown",
   "id": "d44f0871-3bb4-4083-8bdb-3cb53233298c",
   "metadata": {
    "tags": []
   },
   "source": [
    "## Training"
   ]
  },
  {
   "cell_type": "code",
   "execution_count": 6,
   "id": "c174fef4-e9d4-4fbd-a649-1159f8c07a3f",
   "metadata": {},
   "outputs": [],
   "source": [
    "function validation_mse(λ)\n",
    "    λ = exp.(λ) # ensure λ is nonnegative\n",
    "    stop_criteria = convergence_stopper(1e-6)\n",
    "    u, a = train_model(training, λ[1], λ[2], stop_criteria)\n",
    "    pred_score = make_prediction(validation.user, validation.item, u, a)\n",
    "    mse(validation.rating, pred_score)\n",
    "end;"
   ]
  },
  {
   "cell_type": "code",
   "execution_count": 7,
   "id": "7d55df8c-06e5-4e8e-814c-41410685842d",
   "metadata": {},
   "outputs": [
    {
     "name": "stderr",
     "output_type": "stream",
     "text": [
      "\u001b[38;5;4m\u001b[1m[ \u001b[22m\u001b[39m\u001b[38;5;4m\u001b[1mDebug: \u001b[22m\u001b[39m20211204 20:14:06 training model with parameters [Dual{ForwardDiff.Tag{typeof(validation_mse), Float64}}(1.0,1.0,0.0), Dual{ForwardDiff.Tag{typeof(validation_mse), Float64}}(1.0,0.0,1.0)]\n"
     ]
    },
    {
     "name": "stdout",
     "output_type": "stream",
     "text": [
      "Iter     Function value   Gradient norm \n",
      "     0     1.698360e+00     3.375168e-04\n",
      " * Current step size: 1.0\n",
      " * time: 0.0509798526763916\n",
      " * g(x): [-0.0003375167889227533, -1.6022331222208823e-5]\n",
      " * x: [0.0, 0.0]\n"
     ]
    },
    {
     "name": "stderr",
     "output_type": "stream",
     "text": [
      "\u001b[38;5;4m\u001b[1m[ \u001b[22m\u001b[39m\u001b[38;5;4m\u001b[1mDebug: \u001b[22m\u001b[39m20211204 20:14:24 training model with parameters [Dual{ForwardDiff.Tag{typeof(validation_mse), Float64}}(1.000337573754123,1.000337573754123,0.0), Dual{ForwardDiff.Tag{typeof(validation_mse), Float64}}(1.0000160224595804,0.0,1.0000160224595804)]\n",
      "\u001b[38;5;4m\u001b[1m[ \u001b[22m\u001b[39m\u001b[38;5;4m\u001b[1mDebug: \u001b[22m\u001b[39m20211204 20:14:35 training model with parameters [Dual{ForwardDiff.Tag{typeof(validation_mse), Float64}}(1.0016890087157597,1.0016890087157597,0.0), Dual{ForwardDiff.Tag{typeof(validation_mse), Float64}}(1.0000801148651355,0.0,1.0000801148651355)]\n",
      "\u001b[38;5;4m\u001b[1m[ \u001b[22m\u001b[39m\u001b[38;5;4m\u001b[1mDebug: \u001b[22m\u001b[39m20211204 20:14:45 training model with parameters [Dual{ForwardDiff.Tag{typeof(validation_mse), Float64}}(1.008473619307126,1.008473619307126,0.0), Dual{ForwardDiff.Tag{typeof(validation_mse), Float64}}(1.0004006385147357,0.0,1.0004006385147357)]\n",
      "\u001b[38;5;4m\u001b[1m[ \u001b[22m\u001b[39m\u001b[38;5;4m\u001b[1mDebug: \u001b[22m\u001b[39m20211204 20:14:55 training model with parameters [Dual{ForwardDiff.Tag{typeof(validation_mse), Float64}}(1.0430922288458642,1.0430922288458642,0.0), Dual{ForwardDiff.Tag{typeof(validation_mse), Float64}}(1.0020047983290723,0.0,1.0020047983290723)]\n",
      "\u001b[38;5;4m\u001b[1m[ \u001b[22m\u001b[39m\u001b[38;5;4m\u001b[1mDebug: \u001b[22m\u001b[39m20211204 20:15:05 training model with parameters [Dual{ForwardDiff.Tag{typeof(validation_mse), Float64}}(1.2348481327393053,1.2348481327393053,0.0), Dual{ForwardDiff.Tag{typeof(validation_mse), Float64}}(1.0100642644667486,0.0,1.0100642644667486)]\n",
      "\u001b[38;5;4m\u001b[1m[ \u001b[22m\u001b[39m\u001b[38;5;4m\u001b[1mDebug: \u001b[22m\u001b[39m20211204 20:15:15 training model with parameters [Dual{ForwardDiff.Tag{typeof(validation_mse), Float64}}(2.8712284380340973,2.8712284380340973,0.0), Dual{ForwardDiff.Tag{typeof(validation_mse), Float64}}(1.0513444619623271,0.0,1.0513444619623271)]\n",
      "\u001b[38;5;4m\u001b[1m[ \u001b[22m\u001b[39m\u001b[38;5;4m\u001b[1mDebug: \u001b[22m\u001b[39m20211204 20:15:25 training model with parameters [Dual{ForwardDiff.Tag{typeof(validation_mse), Float64}}(1.7578140744633564,1.7578140744633564,0.0), Dual{ForwardDiff.Tag{typeof(validation_mse), Float64}}(1.0271388649165707,0.0,1.0271388649165707)]\n"
     ]
    },
    {
     "name": "stdout",
     "output_type": "stream",
     "text": [
      "     1     1.698217e+00     1.233252e-04\n",
      " * Current step size: 1671.2384464768325\n",
      " * time: 73.76679301261902\n",
      " * g(x): [-0.00012332524666451778, -1.6127362332710334e-5]\n",
      " * x: [0.5640710339791112, 0.026777135940741523]\n"
     ]
    },
    {
     "name": "stderr",
     "output_type": "stream",
     "text": [
      "\u001b[38;5;4m\u001b[1m[ \u001b[22m\u001b[39m\u001b[38;5;4m\u001b[1mDebug: \u001b[22m\u001b[39m20211204 20:15:34 training model with parameters [Dual{ForwardDiff.Tag{typeof(validation_mse), Float64}}(2.437301326204616,2.437301326204616,0.0), Dual{ForwardDiff.Tag{typeof(validation_mse), Float64}}(1.0887369246571685,0.0,1.0887369246571685)]\n",
      "\u001b[38;5;4m\u001b[1m[ \u001b[22m\u001b[39m\u001b[38;5;4m\u001b[1mDebug: \u001b[22m\u001b[39m20211204 20:15:44 training model with parameters [Dual{ForwardDiff.Tag{typeof(validation_mse), Float64}}(2.018596397995572,2.018596397995572,0.0), Dual{ForwardDiff.Tag{typeof(validation_mse), Float64}}(1.0527739240836238,0.0,1.0527739240836238)]\n"
     ]
    },
    {
     "name": "stdout",
     "output_type": "stream",
     "text": [
      "     2     1.698206e+00     1.844736e-05\n",
      " * Current step size: 0.4232642520413312\n",
      " * time: 92.30641293525696\n",
      " * g(x): [-1.8447364019485055e-5, -1.6194112676016894e-5]\n",
      " * x: [0.7024024174138034, 0.05142851312452759]\n"
     ]
    },
    {
     "name": "stderr",
     "output_type": "stream",
     "text": [
      "\u001b[38;5;4m\u001b[1m[ \u001b[22m\u001b[39m\u001b[38;5;4m\u001b[1mDebug: \u001b[22m\u001b[39m20211204 20:15:53 training model with parameters [Dual{ForwardDiff.Tag{typeof(validation_mse), Float64}}(2.0762382738010436,2.0762382738010436,0.0), Dual{ForwardDiff.Tag{typeof(validation_mse), Float64}}(1.0817672046836735,0.0,1.0817672046836735)]\n",
      "\u001b[38;5;4m\u001b[1m[ \u001b[22m\u001b[39m\u001b[38;5;4m\u001b[1mDebug: \u001b[22m\u001b[39m20211204 20:16:02 training model with parameters [Dual{ForwardDiff.Tag{typeof(validation_mse), Float64}}(2.323742427024127,2.323742427024127,0.0), Dual{ForwardDiff.Tag{typeof(validation_mse), Float64}}(1.2059479883149455,0.0,1.2059479883149455)]\n",
      "\u001b[38;5;4m\u001b[1m[ \u001b[22m\u001b[39m\u001b[38;5;4m\u001b[1mDebug: \u001b[22m\u001b[39m20211204 20:16:12 training model with parameters [Dual{ForwardDiff.Tag{typeof(validation_mse), Float64}}(2.095444969897854,2.095444969897854,0.0), Dual{ForwardDiff.Tag{typeof(validation_mse), Float64}}(1.091421668167482,0.0,1.091421668167482)]\n"
     ]
    },
    {
     "name": "stdout",
     "output_type": "stream",
     "text": [
      "     3     1.698205e+00     1.626061e-05\n",
      " * Current step size: 1.3270498743872332\n",
      " * time: 120.9754478931427\n",
      " * g(x): [1.484673359510144e-5, -1.6260611794579082e-5]\n",
      " * x: [0.7397659269538631, 0.08748112912567516]\n"
     ]
    },
    {
     "name": "stderr",
     "output_type": "stream",
     "text": [
      "\u001b[38;5;4m\u001b[1m[ \u001b[22m\u001b[39m\u001b[38;5;4m\u001b[1mDebug: \u001b[22m\u001b[39m20211204 20:16:21 training model with parameters [Dual{ForwardDiff.Tag{typeof(validation_mse), Float64}}(2.097568336830016,2.097568336830016,0.0), Dual{ForwardDiff.Tag{typeof(validation_mse), Float64}}(1.1282883366673282,0.0,1.1282883366673282)]\n",
      "\u001b[38;5;4m\u001b[1m[ \u001b[22m\u001b[39m\u001b[38;5;4m\u001b[1mDebug: \u001b[22m\u001b[39m20211204 20:16:31 training model with parameters [Dual{ForwardDiff.Tag{typeof(validation_mse), Float64}}(2.1060833429826,2.1060833429826,0.0), Dual{ForwardDiff.Tag{typeof(validation_mse), Float64}}(1.2886358440615198,0.0,1.2886358440615198)]\n",
      "\u001b[38;5;4m\u001b[1m[ \u001b[22m\u001b[39m\u001b[38;5;4m\u001b[1mDebug: \u001b[22m\u001b[39m20211204 20:16:41 training model with parameters [Dual{ForwardDiff.Tag{typeof(validation_mse), Float64}}(2.149179684320585,2.149179684320585,0.0), Dual{ForwardDiff.Tag{typeof(validation_mse), Float64}}(2.504267687773879,0.0,2.504267687773879)]\n",
      "\u001b[38;5;4m\u001b[1m[ \u001b[22m\u001b[39m\u001b[38;5;4m\u001b[1mDebug: \u001b[22m\u001b[39m20211204 20:16:51 training model with parameters [Dual{ForwardDiff.Tag{typeof(validation_mse), Float64}}(2.3782559572072506,2.3782559572072506,0.0), Dual{ForwardDiff.Tag{typeof(validation_mse), Float64}}(69.4118249573442,0.0,69.4118249573442)]\n",
      "\u001b[38;5;4m\u001b[1m[ \u001b[22m\u001b[39m\u001b[38;5;4m\u001b[1mDebug: \u001b[22m\u001b[39m20211204 20:17:05 training model with parameters [Dual{ForwardDiff.Tag{typeof(validation_mse), Float64}}(2.1501315341718104,2.1501315341718104,0.0), Dual{ForwardDiff.Tag{typeof(validation_mse), Float64}}(2.540904414712432,0.0,2.540904414712432)]\n"
     ]
    },
    {
     "name": "stdout",
     "output_type": "stream",
     "text": [
      "     4     1.698194e+00     3.899982e-05\n",
      " * Current step size: 25.437190507095913\n",
      " * time: 174.8577060699463\n",
      " * g(x): [3.899982211973321e-5, -8.725989988276363e-6]\n",
      " * x: [0.765529018952795, 0.9325200864374217]\n"
     ]
    },
    {
     "name": "stderr",
     "output_type": "stream",
     "text": [
      "\u001b[38;5;4m\u001b[1m[ \u001b[22m\u001b[39m\u001b[38;5;4m\u001b[1mDebug: \u001b[22m\u001b[39m20211204 20:17:15 training model with parameters [Dual{ForwardDiff.Tag{typeof(validation_mse), Float64}}(2.0742572023231967,2.0742572023231967,0.0), Dual{ForwardDiff.Tag{typeof(validation_mse), Float64}}(6.639180927989703,0.0,6.639180927989703)]\n",
      "\u001b[38;5;4m\u001b[1m[ \u001b[22m\u001b[39m\u001b[38;5;4m\u001b[1mDebug: \u001b[22m\u001b[39m20211204 20:17:26 training model with parameters [Dual{ForwardDiff.Tag{typeof(validation_mse), Float64}}(2.1396369491799203,2.1396369491799203,0.0), Dual{ForwardDiff.Tag{typeof(validation_mse), Float64}}(2.895996047800358,0.0,2.895996047800358)]\n"
     ]
    },
    {
     "name": "stdout",
     "output_type": "stream",
     "text": [
      "     5     1.698193e+00     3.425791e-05\n",
      " * Current step size: 0.1361929322012428\n",
      " * time: 195.25358700752258\n",
      " * g(x): [3.425790601525754e-5, -4.743149076498255e-6]\n",
      " * x: [0.7606361647256603, 1.0633291098127176]\n"
     ]
    },
    {
     "name": "stderr",
     "output_type": "stream",
     "text": [
      "\u001b[38;5;4m\u001b[1m[ \u001b[22m\u001b[39m\u001b[38;5;4m\u001b[1mDebug: \u001b[22m\u001b[39m20211204 20:17:36 training model with parameters [Dual{ForwardDiff.Tag{typeof(validation_mse), Float64}}(2.0608951090273666,2.0608951090273666,0.0), Dual{ForwardDiff.Tag{typeof(validation_mse), Float64}}(3.375530099354065,0.0,3.375530099354065)]\n",
      "\u001b[38;5;4m\u001b[1m[ \u001b[22m\u001b[39m\u001b[38;5;4m\u001b[1mDebug: \u001b[22m\u001b[39m20211204 20:17:46 training model with parameters [Dual{ForwardDiff.Tag{typeof(validation_mse), Float64}}(2.069943476867063,2.069943476867063,0.0), Dual{ForwardDiff.Tag{typeof(validation_mse), Float64}}(3.315638530972272,0.0,3.315638530972272)]\n"
     ]
    },
    {
     "name": "stdout",
     "output_type": "stream",
     "text": [
      "     6     1.698192e+00     3.448332e-06\n",
      " * Current step size: 0.8831629501202527\n",
      " * time: 215.83857989311218\n",
      " * g(x): [3.4483322576967427e-6, 7.66496326668043e-7]\n",
      " * x: [0.7275213010431436, 1.1986502237837282]\n"
     ]
    },
    {
     "name": "stderr",
     "output_type": "stream",
     "text": [
      "\u001b[38;5;4m\u001b[1m[ \u001b[22m\u001b[39m\u001b[38;5;4m\u001b[1mDebug: \u001b[22m\u001b[39m20211204 20:17:56 training model with parameters [Dual{ForwardDiff.Tag{typeof(validation_mse), Float64}}(2.060670575977708,2.060670575977708,0.0), Dual{ForwardDiff.Tag{typeof(validation_mse), Float64}}(3.2395784404630374,0.0,3.2395784404630374)]\n",
      "\u001b[38;5;4m\u001b[1m[ \u001b[22m\u001b[39m\u001b[38;5;4m\u001b[1mDebug: \u001b[22m\u001b[39m20211204 20:18:06 training model with parameters [Dual{ForwardDiff.Tag{typeof(validation_mse), Float64}}(2.062686238878083,2.062686238878083,0.0), Dual{ForwardDiff.Tag{typeof(validation_mse), Float64}}(3.2559907930758016,0.0,3.2559907930758016)]\n"
     ]
    },
    {
     "name": "stdout",
     "output_type": "stream",
     "text": [
      "     7     1.698192e+00     2.983336e-07\n",
      " * Current step size: 0.7822464271425288\n",
      " * time: 235.54500794410706\n",
      " * g(x): [2.983336205469732e-7, -6.245540860822255e-8]\n",
      " * x: [0.724009132787971, 1.1804966204568739]\n"
     ]
    },
    {
     "name": "stderr",
     "output_type": "stream",
     "text": [
      "\u001b[38;5;4m\u001b[1m[ \u001b[22m\u001b[39m\u001b[38;5;4m\u001b[1mDebug: \u001b[22m\u001b[39m20211204 20:18:16 training model with parameters [Dual{ForwardDiff.Tag{typeof(validation_mse), Float64}}(2.0619781693500334,2.0619781693500334,0.0), Dual{ForwardDiff.Tag{typeof(validation_mse), Float64}}(3.260579761404818,0.0,3.260579761404818)]\n",
      "\u001b[38;5;4m\u001b[1m[ \u001b[22m\u001b[39m\u001b[38;5;4m\u001b[1mDebug: \u001b[22m\u001b[39m20211204 20:18:26 training model with parameters [Dual{ForwardDiff.Tag{typeof(validation_mse), Float64}}(2.061994938223341,2.061994938223341,0.0), Dual{ForwardDiff.Tag{typeof(validation_mse), Float64}}(3.260470990089637,0.0,3.260470990089637)]\n"
     ]
    },
    {
     "name": "stdout",
     "output_type": "stream",
     "text": [
      "     8     1.698192e+00     2.206703e-09\n",
      " * Current step size: 0.9763135067373814\n",
      " * time: 255.539057970047\n",
      " * g(x): [-2.2067027747480572e-9, -5.394881622849006e-10]\n",
      " * x: [0.723673930801911, 1.181871660430657]\n"
     ]
    }
   ],
   "source": [
    "# Find the best regularization hyperparameters\n",
    "res = optimize(\n",
    "    validation_mse,\n",
    "    fill(0.0, 2), # intial guess\n",
    "    LBFGS(),\n",
    "    autodiff = :forward,\n",
    "    Optim.Options(show_trace = true, extended_trace = true),\n",
    ");\n",
    "λ = exp.(Optim.minimizer(res));"
   ]
  },
  {
   "cell_type": "code",
   "execution_count": 8,
   "id": "5e71e197-1810-46ac-9be5-4847747fce90",
   "metadata": {},
   "outputs": [
    {
     "name": "stdout",
     "output_type": "stream",
     "text": [
      "The optimal [λ_u, λ_a] is [2.061994938223341, 3.260470990089637], found in 26 function calls"
     ]
    }
   ],
   "source": [
    "@info \"The optimal [λ_u, λ_a] is $λ, found in \" * repr(Optim.f_calls(res)) * \" function calls\""
   ]
  },
  {
   "cell_type": "code",
   "execution_count": 9,
   "id": "781a2388-df56-42ce-8e58-b4a11a4e4d0b",
   "metadata": {},
   "outputs": [
    {
     "name": "stderr",
     "output_type": "stream",
     "text": [
      "\u001b[38;5;4m\u001b[1m[ \u001b[22m\u001b[39m\u001b[38;5;4m\u001b[1mDebug: \u001b[22m\u001b[39m20211204 20:18:37 training model with parameters [2.061994938223341, 3.260470990089637]\n"
     ]
    }
   ],
   "source": [
    "stop_criteria = convergence_stopper(1e-6)\n",
    "u, a = train_model(training, λ..., stop_criteria);"
   ]
  },
  {
   "cell_type": "markdown",
   "id": "7c291e04-b1ba-48a0-ac09-25eda75a6162",
   "metadata": {},
   "source": [
    "## Inference"
   ]
  },
  {
   "cell_type": "code",
   "execution_count": 10,
   "id": "bd86b2cc-bc7e-4fdb-93fd-37e1f15422c7",
   "metadata": {},
   "outputs": [],
   "source": [
    "model(users, items) = make_prediction(users, items, u, a);"
   ]
  },
  {
   "cell_type": "code",
   "execution_count": 11,
   "id": "09dc7ac8-4839-476e-acdc-4687262d8623",
   "metadata": {},
   "outputs": [
    {
     "name": "stderr",
     "output_type": "stream",
     "text": [
      "\u001b[38;5;6m\u001b[1m[ \u001b[22m\u001b[39m\u001b[38;5;6m\u001b[1mInfo: \u001b[22m\u001b[39m20211204 20:18:50 training set: RMSE 1.2937930865100624 MAE 0.9695274371978653 R2 0.47199769672473824\n",
      "\u001b[38;5;6m\u001b[1m[ \u001b[22m\u001b[39m\u001b[38;5;6m\u001b[1mInfo: \u001b[22m\u001b[39m20211204 20:18:51 validation set: RMSE 1.3031469776333005 MAE 0.9763230624838878 R2 0.46438777062668946\n"
     ]
    }
   ],
   "source": [
    "write_predictions(model, save_training = true);"
   ]
  },
  {
   "cell_type": "code",
   "execution_count": 12,
   "id": "20376423-1556-429c-90ee-4adf7d73f7d6",
   "metadata": {},
   "outputs": [],
   "source": [
    "write_params(Dict(\"u\" => u, \"a\" => a, \"λ\" => λ));"
   ]
  }
 ],
 "metadata": {
  "kernelspec": {
   "display_name": "Julia 1.6.3",
   "language": "julia",
   "name": "julia-1.6"
  },
  "language_info": {
   "file_extension": ".jl",
   "mimetype": "application/julia",
   "name": "julia",
   "version": "1.6.3"
  }
 },
 "nbformat": 4,
 "nbformat_minor": 5
}
