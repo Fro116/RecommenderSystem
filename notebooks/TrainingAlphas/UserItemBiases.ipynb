{
 "cells": [
  {
   "cell_type": "markdown",
   "id": "c3758ece-9b72-47b4-ae6a-aa364e0443e3",
   "metadata": {},
   "source": [
    "# User Item Biases With Regularization\n",
    "* Prediction for user $i$ and item $j$ is $\\tilde r_{ij} = u_i + a_j$\n",
    "* Loss function is $L = \\sum_{\\Omega}(r_{ij} - u_i - a_j)^2 + \\lambda_u \\sum_i (u_i - \\bar u) ^2 + \\lambda_a \\sum_j (a_j - \\bar a)^2 $\n",
    "* $\\bar u$ is the mean of $u_i$ and $\\bar a$ is the mean of $a_j$ \n",
    "* $\\Omega$ is the set of oberved pairs $(i, j)$\n",
    "* $r_{ij}$ is the rating for user $i$ and item $j$"
   ]
  },
  {
   "cell_type": "code",
   "execution_count": 1,
   "id": "7cc9334a-2287-41d6-885b-a5cca94fe263",
   "metadata": {},
   "outputs": [],
   "source": [
    "name = \"UserItemBiases\";\n",
    "residual_alphas = [];"
   ]
  },
  {
   "cell_type": "code",
   "execution_count": 2,
   "id": "df87db6f-667c-4bc2-9d48-7f4debe6750f",
   "metadata": {},
   "outputs": [],
   "source": [
    "using NBInclude\n",
    "@nbinclude(\"Alpha.ipynb\");"
   ]
  },
  {
   "cell_type": "markdown",
   "id": "99f52a69-0231-4bff-8a9f-26bb16ee9f33",
   "metadata": {},
   "source": [
    "# Alternating Least Squares Algorithm\n",
    "* $u_i = \\dfrac{\\sum_{j \\in \\Omega_i}(r_{ij} - a_j) + \\bar u \\lambda_u}{|\\Omega_i| + \\lambda_u}$\n",
    "* $\\Omega$ is the set of (user, item) pairs that we have ratings for\n",
    "* $\\Omega_i$ is subset of $\\Omega$ for which the user is the $i$-th user"
   ]
  },
  {
   "cell_type": "code",
   "execution_count": 3,
   "id": "fb96c1bd-40b5-457b-9872-ca6633256390",
   "metadata": {},
   "outputs": [],
   "source": [
    "function update_users!(users, items, ratings, u, a, λ_u)\n",
    "    n_users = length(u)\n",
    "    n_rows = length(users)\n",
    "    residuals = zeros(eltype(u), n_users)\n",
    "    Ω = zeros(eltype(u), n_users)\n",
    "\n",
    "    for row = 1:n_rows\n",
    "        i = users[row]\n",
    "        j = items[row]\n",
    "        r = ratings[row]\n",
    "        residuals[i] += r - a[j]\n",
    "        Ω[i] += 1\n",
    "    end\n",
    "\n",
    "    u_mean = mean(u)\n",
    "    for i = 1:n_users\n",
    "        u[i] = (residuals[i] + u_mean * λ_u) / (Ω[i] + λ_u)\n",
    "    end\n",
    "end"
   ]
  },
  {
   "cell_type": "code",
   "execution_count": 4,
   "id": "d0371f61-27bf-4f52-b822-d060f7be01b3",
   "metadata": {},
   "outputs": [],
   "source": [
    "function train_model(training, λ_u, λ_a, ϵ = 1e-6)\n",
    "    users = training.username\n",
    "    items = training.anime_id\n",
    "    ratings = training.my_score\n",
    "    u = zeros(eltype(λ_u), maximum(users))\n",
    "    a = zeros(eltype(λ_a), maximum(items))\n",
    "\n",
    "    converged = false\n",
    "    while !converged\n",
    "        old_u = copy(u)\n",
    "        old_a = copy(a)\n",
    "        update_users!(users, items, ratings, u, a, λ_u)\n",
    "        update_users!(items, users, ratings, a, u, λ_a)\n",
    "        converged = (maximum(abs.(u - old_u)) < ϵ) && (maximum(abs.(a - old_a)) < ϵ)\n",
    "    end\n",
    "    return u, a\n",
    "end;"
   ]
  },
  {
   "cell_type": "code",
   "execution_count": 5,
   "id": "59fb718e-dc9e-4452-b72c-829ae2d843ff",
   "metadata": {},
   "outputs": [],
   "source": [
    "function make_prediction(users, items, u, a)\n",
    "    r = zeros(eltype(u), length(users))\n",
    "    u_mean = mean(u)\n",
    "    a_mean = mean(a)\n",
    "    for i = 1:length(r)\n",
    "        if users[i] > length(u)\n",
    "            r[i] += mean(u)\n",
    "        else\n",
    "            r[i] += u[users[i]]\n",
    "        end\n",
    "        if items[i] > length(a)\n",
    "            r[i] += mean(a)\n",
    "        else\n",
    "            r[i] += a[items[i]]\n",
    "        end\n",
    "    end\n",
    "    return r\n",
    "end;"
   ]
  },
  {
   "cell_type": "markdown",
   "id": "d44f0871-3bb4-4083-8bdb-3cb53233298c",
   "metadata": {
    "tags": []
   },
   "source": [
    "## Training"
   ]
  },
  {
   "cell_type": "code",
   "execution_count": 6,
   "id": "c174fef4-e9d4-4fbd-a649-1159f8c07a3f",
   "metadata": {},
   "outputs": [],
   "source": [
    "function validation_mse(λ)\n",
    "    λ = exp.(λ) # ensure λ is nonnegative\n",
    "    u, a = train_model(training, λ[1], λ[2])\n",
    "    pred_score = make_prediction(validation.username, validation.anime_id, u, a)\n",
    "    return mse(validation.my_score, pred_score)\n",
    "end;"
   ]
  },
  {
   "cell_type": "code",
   "execution_count": 7,
   "id": "8908fcb3-a2a3-4c1b-9b5e-a774a05233ab",
   "metadata": {},
   "outputs": [
    {
     "name": "stdout",
     "output_type": "stream",
     "text": [
      "Iter     Function value   Gradient norm \n",
      "     0     1.698360e+00     3.375168e-04\n",
      " * time: 0.026805877685546875\n",
      "     1     1.698217e+00     1.233252e-04\n",
      " * time: 132.24958992004395\n",
      "     2     1.698206e+00     1.844736e-05\n",
      " * time: 168.06685495376587\n",
      "     3     1.698205e+00     1.626061e-05\n",
      " * time: 222.1215488910675\n",
      "     4     1.698194e+00     3.899982e-05\n",
      " * time: 319.2639989852905\n",
      "     5     1.698193e+00     3.425791e-05\n",
      " * time: 356.7244050502777\n",
      "     6     1.698192e+00     3.448332e-06\n",
      " * time: 394.64650988578796\n",
      "     7     1.698192e+00     2.983336e-07\n",
      " * time: 432.7493441104889\n",
      "     8     1.698192e+00     2.206703e-09\n",
      " * time: 470.34413290023804\n"
     ]
    },
    {
     "data": {
      "text/plain": [
       "2-element Vector{Float64}:\n",
       " 2.061994938223344\n",
       " 3.260470990089654"
      ]
     },
     "execution_count": 7,
     "metadata": {},
     "output_type": "execute_result"
    }
   ],
   "source": [
    "# Find the best regularization hyperparameters\n",
    "res = optimize(\n",
    "    validation_mse,\n",
    "    fill(0.0, 2), # intial guess\n",
    "    LBFGS(),\n",
    "    autodiff = :forward,\n",
    "    Optim.Options(show_trace = true),\n",
    ");\n",
    "λ = exp.(Optim.minimizer(res));"
   ]
  },
  {
   "cell_type": "code",
   "execution_count": 8,
   "id": "5e71e197-1810-46ac-9be5-4847747fce90",
   "metadata": {},
   "outputs": [
    {
     "name": "stdout",
     "output_type": "stream",
     "text": [
      "The optimal [λ_u, λ_a] is [2.061994938223344, 3.260470990089654]"
     ]
    }
   ],
   "source": [
    "print(\"The optimal [λ_u, λ_a] is \", λ);"
   ]
  },
  {
   "cell_type": "code",
   "execution_count": 9,
   "id": "781a2388-df56-42ce-8e58-b4a11a4e4d0b",
   "metadata": {},
   "outputs": [],
   "source": [
    "u, a = train_model(training, λ...);"
   ]
  },
  {
   "cell_type": "markdown",
   "id": "7c291e04-b1ba-48a0-ac09-25eda75a6162",
   "metadata": {},
   "source": [
    "## Inference"
   ]
  },
  {
   "cell_type": "code",
   "execution_count": 10,
   "id": "bd86b2cc-bc7e-4fdb-93fd-37e1f15422c7",
   "metadata": {},
   "outputs": [],
   "source": [
    "model(users, items) = make_prediction(users, items, u, a);"
   ]
  },
  {
   "cell_type": "code",
   "execution_count": 11,
   "id": "09dc7ac8-4839-476e-acdc-4687262d8623",
   "metadata": {},
   "outputs": [
    {
     "name": "stdout",
     "output_type": "stream",
     "text": [
      "training set: RMSE 1.2937930865100624 MAE 0.9695274371978653 R2 0.47199769672473824\n",
      "validation set: RMSE 1.3031469776333005 MAE 0.9763230624838878 R2 0.46438777062668946\n"
     ]
    }
   ],
   "source": [
    "write_predictions(model, save_training = true);"
   ]
  },
  {
   "cell_type": "code",
   "execution_count": 12,
   "id": "20376423-1556-429c-90ee-4adf7d73f7d6",
   "metadata": {},
   "outputs": [],
   "source": [
    "write_params(Dict(\"u\" => u, \"a\" => a, \"λ\" => λ));"
   ]
  }
 ],
 "metadata": {
  "kernelspec": {
   "display_name": "Julia 1.6.3",
   "language": "julia",
   "name": "julia-1.6"
  },
  "language_info": {
   "file_extension": ".jl",
   "mimetype": "application/julia",
   "name": "julia",
   "version": "1.6.3"
  }
 },
 "nbformat": 4,
 "nbformat_minor": 5
}
