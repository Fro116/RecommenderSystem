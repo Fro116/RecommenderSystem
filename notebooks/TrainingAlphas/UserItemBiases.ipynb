{
 "cells": [
  {
   "cell_type": "markdown",
   "id": "c3758ece-9b72-47b4-ae6a-aa364e0443e3",
   "metadata": {},
   "source": [
    "# User Item Biases With Regularization\n",
    "* Prediction for user $i$ and item $j$ is $\\tilde r_{ij} = u_i + a_j$\n",
    "* Loss function is $L = \\sum_{\\Omega}(r_{ij} - u_i - a_j)^2 + \\lambda_u \\sum_i (u_i - \\bar u) ^2 + \\lambda_a \\sum_j (a_j - \\bar a)^2 $\n",
    "* $\\bar u$ is the mean of $u_i$ and $\\bar a$ is the mean of $a_j$ \n",
    "* $\\Omega$ is the set of oberved pairs $(i, j)$\n",
    "* $r_{ij}$ is the rating for user $i$ and item $j$"
   ]
  },
  {
   "cell_type": "code",
   "execution_count": 1,
   "id": "7cc9334a-2287-41d6-885b-a5cca94fe263",
   "metadata": {},
   "outputs": [],
   "source": [
    "name = \"UserItemBiases\";\n",
    "residual_alphas = [];"
   ]
  },
  {
   "cell_type": "code",
   "execution_count": 2,
   "id": "df87db6f-667c-4bc2-9d48-7f4debe6750f",
   "metadata": {
    "tags": []
   },
   "outputs": [],
   "source": [
    "using NBInclude\n",
    "@nbinclude(\"Alpha.ipynb\");"
   ]
  },
  {
   "cell_type": "code",
   "execution_count": null,
   "id": "2964541d-4796-47fd-ac77-91a2eaefc679",
   "metadata": {},
   "outputs": [],
   "source": [
    "const training = get_residuals(\"training\", residual_alphas)\n",
    "const validation = get_residuals(\"validation\", residual_alphas);"
   ]
  },
  {
   "cell_type": "markdown",
   "id": "99f52a69-0231-4bff-8a9f-26bb16ee9f33",
   "metadata": {},
   "source": [
    "## Alternating Least Squares Algorithm\n",
    "* $u_i = \\dfrac{\\sum_{j \\in \\Omega_i}(r_{ij} - a_j) + \\bar u \\lambda_u}{|\\Omega_i| + \\lambda_u} = \\dfrac{\\rho_i + \\bar u \\lambda_u}{|\\Omega_i| + \\lambda_u}$\n",
    "* $\\Omega$ is the set of (user, item) pairs that we have ratings for\n",
    "* $\\Omega_i$ is subset of $\\Omega$ for which the user is the $i$-th user"
   ]
  },
  {
   "cell_type": "code",
   "execution_count": 3,
   "id": "fb96c1bd-40b5-457b-9872-ca6633256390",
   "metadata": {},
   "outputs": [],
   "source": [
    "function get_residuals!(users, items, ratings, u, a, ρ, Ω)\n",
    "    for row = 1:length(users)\n",
    "        i = users[row]\n",
    "        j = items[row]\n",
    "        r = ratings[row]\n",
    "        ρ[i] += r - a[j]\n",
    "        Ω[i] += 1\n",
    "    end\n",
    "    ρ, Ω\n",
    "end\n",
    "\n",
    "# todo move to utils\n",
    "function thread_range(n)\n",
    "    tid = Threads.threadid()\n",
    "    nt = Threads.nthreads()\n",
    "    d, r = divrem(n, nt)\n",
    "    from = (tid - 1) * d + min(r, tid - 1) + 1\n",
    "    to = from + d - 1 + (tid ≤ r ? 1 : 0)\n",
    "    from:to\n",
    "end\n",
    "\n",
    "function update_users!(users, items, ratings, u, a, λ_u, ρ, Ω)\n",
    "    Threads.@threads for t = 1:Threads.nthreads()\n",
    "        range = thread_range(length(ratings))\n",
    "        ρ[:, Threads.threadid()] .= 0\n",
    "        Ω[:, Threads.threadid()] .= 0\n",
    "        @views get_residuals!(\n",
    "            users[range],\n",
    "            items[range],\n",
    "            ratings[range],\n",
    "            u,\n",
    "            a,\n",
    "            ρ[:, Threads.threadid()],\n",
    "            Ω[:, Threads.threadid()],\n",
    "        )\n",
    "    end\n",
    "    ρ = sum(ρ, dims = 2)\n",
    "    Ω = sum(Ω, dims = 2)\n",
    "\n",
    "    μ = mean(u)\n",
    "    Threads.@threads for i = 1:length(u)\n",
    "        u[i] = (ρ[i] + μ * λ_u) / (Ω[i] + λ_u)\n",
    "    end\n",
    "end;"
   ]
  },
  {
   "cell_type": "code",
   "execution_count": 4,
   "id": "d0371f61-27bf-4f52-b822-d060f7be01b3",
   "metadata": {},
   "outputs": [],
   "source": [
    "function train_model(training, λ_u, λ_a, stop_criteria)\n",
    "    @debug \"training model with parameters [$λ_u, $λ_a]\"\n",
    "    users, items, ratings = training.user, training.item, training.rating\n",
    "    u = zeros(eltype(λ_u), maximum(users))\n",
    "    a = zeros(eltype(λ_a), maximum(items))\n",
    "\n",
    "    ρ_u = zeros(eltype(u), length(u), Threads.nthreads())\n",
    "    Ω_u = zeros(eltype(u), length(u), Threads.nthreads())\n",
    "    ρ_a = zeros(eltype(a), length(a), Threads.nthreads())\n",
    "    Ω_a = zeros(eltype(a), length(a), Threads.nthreads())\n",
    "\n",
    "    while !stop!(stop_criteria, [u, a])\n",
    "        update_users!(users, items, ratings, u, a, λ_u, ρ_u, Ω_u)\n",
    "        update_users!(items, users, ratings, a, u, λ_a, ρ_a, Ω_a)\n",
    "    end\n",
    "    u, a\n",
    "end;"
   ]
  },
  {
   "cell_type": "code",
   "execution_count": 5,
   "id": "59fb718e-dc9e-4452-b72c-829ae2d843ff",
   "metadata": {},
   "outputs": [],
   "source": [
    "function make_prediction(users, items, u, a)\n",
    "    r = zeros(eltype(u), length(users))\n",
    "    u_mean = mean(u)\n",
    "    a_mean = mean(a)\n",
    "    for i = 1:length(r)\n",
    "        if users[i] > length(u)\n",
    "            r[i] += mean(u)\n",
    "        else\n",
    "            r[i] += u[users[i]]\n",
    "        end\n",
    "        if items[i] > length(a)\n",
    "            r[i] += mean(a)\n",
    "        else\n",
    "            r[i] += a[items[i]]\n",
    "        end\n",
    "    end\n",
    "    r\n",
    "end;"
   ]
  },
  {
   "cell_type": "markdown",
   "id": "d44f0871-3bb4-4083-8bdb-3cb53233298c",
   "metadata": {
    "tags": []
   },
   "source": [
    "## Training"
   ]
  },
  {
   "cell_type": "code",
   "execution_count": 6,
   "id": "c174fef4-e9d4-4fbd-a649-1159f8c07a3f",
   "metadata": {},
   "outputs": [],
   "source": [
    "function validation_mse(λ)\n",
    "    λ = exp.(λ) # ensure λ is nonnegative\n",
    "    stop_criteria = convergence_stopper(1e-9)\n",
    "    u, a = train_model(training, λ[1], λ[2], stop_criteria)\n",
    "    pred_score = make_prediction(validation.user, validation.item, u, a)\n",
    "    mse(validation.rating, pred_score)\n",
    "end;"
   ]
  },
  {
   "cell_type": "code",
   "execution_count": 7,
   "id": "7d55df8c-06e5-4e8e-814c-41410685842d",
   "metadata": {},
   "outputs": [
    {
     "name": "stderr",
     "output_type": "stream",
     "text": [
      "\u001b[38;5;4m\u001b[1m[ \u001b[22m\u001b[39m\u001b[38;5;4m\u001b[1mDebug: \u001b[22m\u001b[39m20211210 14:18:52 training model with parameters [Dual{ForwardDiff.Tag{typeof(validation_mse), Float64}}(1.0,1.0,0.0), Dual{ForwardDiff.Tag{typeof(validation_mse), Float64}}(1.0,0.0,1.0)]\n"
     ]
    },
    {
     "name": "stdout",
     "output_type": "stream",
     "text": [
      "Iter     Function value   Gradient norm \n",
      "     0     1.698360e+00     3.375168e-04\n",
      " * Current step size: 1.0\n",
      " * time: 0.026012897491455078\n",
      " * g(x): [-0.0003375167956379876, -1.602234195232483e-5]\n",
      " * x: [0.0, 0.0]\n"
     ]
    },
    {
     "name": "stderr",
     "output_type": "stream",
     "text": [
      "\u001b[38;5;4m\u001b[1m[ \u001b[22m\u001b[39m\u001b[38;5;4m\u001b[1mDebug: \u001b[22m\u001b[39m20211210 14:19:01 training model with parameters [Dual{ForwardDiff.Tag{typeof(validation_mse), Float64}}(1.0003375737608404,1.0003375737608404,0.0), Dual{ForwardDiff.Tag{typeof(validation_mse), Float64}}(1.0000160224703107,0.0,1.0000160224703107)]\n",
      "\u001b[38;5;4m\u001b[1m[ \u001b[22m\u001b[39m\u001b[38;5;4m\u001b[1mDebug: \u001b[22m\u001b[39m20211210 14:19:05 training model with parameters [Dual{ForwardDiff.Tag{typeof(validation_mse), Float64}}(1.0016890087493926,1.0016890087493926,0.0), Dual{ForwardDiff.Tag{typeof(validation_mse), Float64}}(1.0000801149187903,0.0,1.0000801149187903)]\n",
      "\u001b[38;5;4m\u001b[1m[ \u001b[22m\u001b[39m\u001b[38;5;4m\u001b[1mDebug: \u001b[22m\u001b[39m20211210 14:19:08 training model with parameters [Dual{ForwardDiff.Tag{typeof(validation_mse), Float64}}(1.0084736194764294,1.0084736194764294,0.0), Dual{ForwardDiff.Tag{typeof(validation_mse), Float64}}(1.0004006387830962,0.0,1.0004006387830962)]\n",
      "\u001b[38;5;4m\u001b[1m[ \u001b[22m\u001b[39m\u001b[38;5;4m\u001b[1mDebug: \u001b[22m\u001b[39m20211210 14:19:12 training model with parameters [Dual{ForwardDiff.Tag{typeof(validation_mse), Float64}}(1.0430922297214402,1.0430922297214402,0.0), Dual{ForwardDiff.Tag{typeof(validation_mse), Float64}}(1.0020047996730257,0.0,1.0020047996730257)]\n",
      "\u001b[38;5;4m\u001b[1m[ \u001b[22m\u001b[39m\u001b[38;5;4m\u001b[1mDebug: \u001b[22m\u001b[39m20211210 14:19:16 training model with parameters [Dual{ForwardDiff.Tag{typeof(validation_mse), Float64}}(1.2348481379219896,1.2348481379219896,0.0), Dual{ForwardDiff.Tag{typeof(validation_mse), Float64}}(1.0100642712405652,0.0,1.0100642712405652)]\n",
      "\u001b[38;5;4m\u001b[1m[ \u001b[22m\u001b[39m\u001b[38;5;4m\u001b[1mDebug: \u001b[22m\u001b[39m20211210 14:19:20 training model with parameters [Dual{ForwardDiff.Tag{typeof(validation_mse), Float64}}(2.8712284982871346,2.8712284982871346,0.0), Dual{ForwardDiff.Tag{typeof(validation_mse), Float64}}(1.0513444972156027,0.0,1.0513444972156027)]\n",
      "\u001b[38;5;4m\u001b[1m[ \u001b[22m\u001b[39m\u001b[38;5;4m\u001b[1mDebug: \u001b[22m\u001b[39m20211210 14:19:23 training model with parameters [Dual{ForwardDiff.Tag{typeof(validation_mse), Float64}}(1.7578140663375268,1.7578140663375268,0.0), Dual{ForwardDiff.Tag{typeof(validation_mse), Float64}}(1.027138882563206,0.0,1.027138882563206)]\n"
     ]
    },
    {
     "name": "stdout",
     "output_type": "stream",
     "text": [
      "     1     1.698217e+00     1.233253e-04\n",
      " * Current step size: 1671.2383995296937\n",
      " * time: 28.419790029525757\n",
      " * g(x): [-0.0001233252628261006, -1.6127390726157897e-5]\n",
      " * x: [0.5640710293564212, 0.026777153121120816]\n"
     ]
    },
    {
     "name": "stderr",
     "output_type": "stream",
     "text": [
      "\u001b[38;5;4m\u001b[1m[ \u001b[22m\u001b[39m\u001b[38;5;4m\u001b[1mDebug: \u001b[22m\u001b[39m20211210 14:19:27 training model with parameters [Dual{ForwardDiff.Tag{typeof(validation_mse), Float64}}(2.437301470965261,2.437301470965261,0.0), Dual{ForwardDiff.Tag{typeof(validation_mse), Float64}}(1.0887370702970596,0.0,1.0887370702970596)]\n",
      "\u001b[38;5;4m\u001b[1m[ \u001b[22m\u001b[39m\u001b[38;5;4m\u001b[1mDebug: \u001b[22m\u001b[39m20211210 14:19:31 training model with parameters [Dual{ForwardDiff.Tag{typeof(validation_mse), Float64}}(2.018596420380201,2.018596420380201,0.0), Dual{ForwardDiff.Tag{typeof(validation_mse), Float64}}(1.0527739919872565,0.0,1.0527739919872565)]\n"
     ]
    },
    {
     "name": "stdout",
     "output_type": "stream",
     "text": [
      "     2     1.698206e+00     1.844736e-05\n",
      " * Current step size: 0.42326421720872914\n",
      " * time: 35.94985389709473\n",
      " * g(x): [-1.8447363460333914e-5, -1.6194140898360793e-5]\n",
      " * x: [0.7024024285030079, 0.051428577624254505]\n"
     ]
    },
    {
     "name": "stderr",
     "output_type": "stream",
     "text": [
      "\u001b[38;5;4m\u001b[1m[ \u001b[22m\u001b[39m\u001b[38;5;4m\u001b[1mDebug: \u001b[22m\u001b[39m20211210 14:19:35 training model with parameters [Dual{ForwardDiff.Tag{typeof(validation_mse), Float64}}(2.0762383206309023,2.0762383206309023,0.0), Dual{ForwardDiff.Tag{typeof(validation_mse), Float64}}(1.0817673301936994,0.0,1.0817673301936994)]\n",
      "\u001b[38;5;4m\u001b[1m[ \u001b[22m\u001b[39m\u001b[38;5;4m\u001b[1mDebug: \u001b[22m\u001b[39m20211210 14:19:38 training model with parameters [Dual{ForwardDiff.Tag{typeof(validation_mse), Float64}}(2.323742586012064,2.323742586012064,0.0), Dual{ForwardDiff.Tag{typeof(validation_mse), Float64}}(1.205948376771055,0.0,1.205948376771055)]\n",
      "\u001b[38;5;4m\u001b[1m[ \u001b[22m\u001b[39m\u001b[38;5;4m\u001b[1mDebug: \u001b[22m\u001b[39m20211210 14:19:42 training model with parameters [Dual{ForwardDiff.Tag{typeof(validation_mse), Float64}}(2.0954450956526296,2.0954450956526296,0.0), Dual{ForwardDiff.Tag{typeof(validation_mse), Float64}}(1.091421848688169,0.0,1.091421848688169)]\n"
     ]
    },
    {
     "name": "stdout",
     "output_type": "stream",
     "text": [
      "     3     1.698205e+00     1.626064e-05\n",
      " * Current step size: 1.3270510716141308\n",
      " * time: 47.24509906768799\n",
      " * g(x): [1.4846781556103093e-5, -1.62606410529331e-5]\n",
      " * x: [0.7397659869672605, 0.08748129452524286]\n"
     ]
    },
    {
     "name": "stderr",
     "output_type": "stream",
     "text": [
      "\u001b[38;5;4m\u001b[1m[ \u001b[22m\u001b[39m\u001b[38;5;4m\u001b[1mDebug: \u001b[22m\u001b[39m20211210 14:19:46 training model with parameters [Dual{ForwardDiff.Tag{typeof(validation_mse), Float64}}(2.097568473444909,2.097568473444909,0.0), Dual{ForwardDiff.Tag{typeof(validation_mse), Float64}}(1.128288638170845,0.0,1.128288638170845)]\n",
      "\u001b[38;5;4m\u001b[1m[ \u001b[22m\u001b[39m\u001b[38;5;4m\u001b[1mDebug: \u001b[22m\u001b[39m20211210 14:19:50 training model with parameters [Dual{ForwardDiff.Tag{typeof(validation_mse), Float64}}(2.106083523257102,2.106083523257102,0.0), Dual{ForwardDiff.Tag{typeof(validation_mse), Float64}}(1.2886367132618652,0.0,1.2886367132618652)]\n",
      "\u001b[38;5;4m\u001b[1m[ \u001b[22m\u001b[39m\u001b[38;5;4m\u001b[1mDebug: \u001b[22m\u001b[39m20211210 14:19:53 training model with parameters [Dual{ForwardDiff.Tag{typeof(validation_mse), Float64}}(2.14918008821939,2.14918008821939,0.0), Dual{ForwardDiff.Tag{typeof(validation_mse), Float64}}(2.5042744767541434,0.0,2.5042744767541434)]\n",
      "\u001b[38;5;4m\u001b[1m[ \u001b[22m\u001b[39m\u001b[38;5;4m\u001b[1mDebug: \u001b[22m\u001b[39m20211210 14:19:57 training model with parameters [Dual{ForwardDiff.Tag{typeof(validation_mse), Float64}}(2.378257621046137,2.378257621046137,0.0), Dual{ForwardDiff.Tag{typeof(validation_mse), Float64}}(69.41271990398727,0.0,69.41271990398727)]\n",
      "\u001b[38;5;4m\u001b[1m[ \u001b[22m\u001b[39m\u001b[38;5;4m\u001b[1mDebug: \u001b[22m\u001b[39m20211210 14:20:02 training model with parameters [Dual{ForwardDiff.Tag{typeof(validation_mse), Float64}}(2.1501319280722058,2.1501319280722058,0.0), Dual{ForwardDiff.Tag{typeof(validation_mse), Float64}}(2.5409108351993503,0.0,2.5409108351993503)]\n"
     ]
    },
    {
     "name": "stdout",
     "output_type": "stream",
     "text": [
      "     4     1.698194e+00     3.900000e-05\n",
      " * Current step size: 25.43718362498589\n",
      " * time: 66.9376790523529\n",
      " * g(x): [3.900000136452024e-5, -8.72595566463623e-6]\n",
      " * x: [0.7655292021510566, 0.9325226132852517]\n"
     ]
    },
    {
     "name": "stderr",
     "output_type": "stream",
     "text": [
      "\u001b[38;5;4m\u001b[1m[ \u001b[22m\u001b[39m\u001b[38;5;4m\u001b[1mDebug: \u001b[22m\u001b[39m20211210 14:20:06 training model with parameters [Dual{ForwardDiff.Tag{typeof(validation_mse), Float64}}(2.074257174686084,2.074257174686084,0.0), Dual{ForwardDiff.Tag{typeof(validation_mse), Float64}}(6.639136529328637,0.0,6.639136529328637)]\n",
      "\u001b[38;5;4m\u001b[1m[ \u001b[22m\u001b[39m\u001b[38;5;4m\u001b[1mDebug: \u001b[22m\u001b[39m20211210 14:20:09 training model with parameters [Dual{ForwardDiff.Tag{typeof(validation_mse), Float64}}(2.139637121123348,2.139637121123348,0.0), Dual{ForwardDiff.Tag{typeof(validation_mse), Float64}}(2.896005621034208,0.0,2.896005621034208)]\n"
     ]
    },
    {
     "name": "stdout",
     "output_type": "stream",
     "text": [
      "     5     1.698193e+00     3.425799e-05\n",
      " * Current step size: 0.1361950496676593\n",
      " * time: 74.64708209037781\n",
      " * g(x): [3.425798632893179e-5, -4.74307153868007e-6]\n",
      " * x: [0.7606362450866863, 1.0633324154864372]\n"
     ]
    },
    {
     "name": "stderr",
     "output_type": "stream",
     "text": [
      "\u001b[38;5;4m\u001b[1m[ \u001b[22m\u001b[39m\u001b[38;5;4m\u001b[1mDebug: \u001b[22m\u001b[39m20211210 14:20:13 training model with parameters [Dual{ForwardDiff.Tag{typeof(validation_mse), Float64}}(2.060894960500445,2.060894960500445,0.0), Dual{ForwardDiff.Tag{typeof(validation_mse), Float64}}(3.375529743158777,0.0,3.375529743158777)]\n",
      "\u001b[38;5;4m\u001b[1m[ \u001b[22m\u001b[39m\u001b[38;5;4m\u001b[1mDebug: \u001b[22m\u001b[39m20211210 14:20:17 training model with parameters [Dual{ForwardDiff.Tag{typeof(validation_mse), Float64}}(2.069943093928012,2.069943093928012,0.0), Dual{ForwardDiff.Tag{typeof(validation_mse), Float64}}(3.315641273921235,0.0,3.315641273921235)]\n"
     ]
    },
    {
     "name": "stdout",
     "output_type": "stream",
     "text": [
      "     6     1.698192e+00     3.448171e-06\n",
      " * Current step size: 0.8831664369041667\n",
      " * time: 82.39909505844116\n",
      " * g(x): [3.4481707265952683e-6, 7.664867759345259e-7]\n",
      " * x: [0.7275211160433642, 1.1986510510596218]\n"
     ]
    },
    {
     "name": "stderr",
     "output_type": "stream",
     "text": [
      "\u001b[38;5;4m\u001b[1m[ \u001b[22m\u001b[39m\u001b[38;5;4m\u001b[1mDebug: \u001b[22m\u001b[39m20211210 14:20:21 training model with parameters [Dual{ForwardDiff.Tag{typeof(validation_mse), Float64}}(2.0606705959009566,2.0606705959009566,0.0), Dual{ForwardDiff.Tag{typeof(validation_mse), Float64}}(3.2395820899609213,0.0,3.2395820899609213)]\n",
      "\u001b[38;5;4m\u001b[1m[ \u001b[22m\u001b[39m\u001b[38;5;4m\u001b[1mDebug: \u001b[22m\u001b[39m20211210 14:20:25 training model with parameters [Dual{ForwardDiff.Tag{typeof(validation_mse), Float64}}(2.0626862007407953,2.0626862007407953,0.0), Dual{ForwardDiff.Tag{typeof(validation_mse), Float64}}(3.2559944884155483,0.0,3.2559944884155483)]\n"
     ]
    },
    {
     "name": "stdout",
     "output_type": "stream",
     "text": [
      "     7     1.698192e+00     2.983219e-07\n",
      " * Current step size: 0.7822432571416449\n",
      " * time: 90.19951891899109\n",
      " * g(x): [2.9832185660829067e-7, -6.24512528299402e-8]\n",
      " * x: [0.7240091142988343, 1.1804977553917937]\n"
     ]
    },
    {
     "name": "stderr",
     "output_type": "stream",
     "text": [
      "\u001b[38;5;4m\u001b[1m[ \u001b[22m\u001b[39m\u001b[38;5;4m\u001b[1mDebug: \u001b[22m\u001b[39m20211210 14:20:29 training model with parameters [Dual{ForwardDiff.Tag{typeof(validation_mse), Float64}}(2.0619781614547055,2.0619781614547055,0.0), Dual{ForwardDiff.Tag{typeof(validation_mse), Float64}}(3.260583139573367,0.0,3.260583139573367)]\n",
      "\u001b[38;5;4m\u001b[1m[ \u001b[22m\u001b[39m\u001b[38;5;4m\u001b[1mDebug: \u001b[22m\u001b[39m20211210 14:20:33 training model with parameters [Dual{ForwardDiff.Tag{typeof(validation_mse), Float64}}(2.061994927499684,2.061994927499684,0.0), Dual{ForwardDiff.Tag{typeof(validation_mse), Float64}}(3.2604743894816983,0.0,3.2604743894816983)]\n"
     ]
    },
    {
     "name": "stdout",
     "output_type": "stream",
     "text": [
      "     8     1.698192e+00     2.206522e-09\n",
      " * Current step size: 0.9763164904547647\n",
      " * time: 98.07614994049072\n",
      " * g(x): [-2.206521817579928e-9, -5.394583902064996e-10]\n",
      " * x: [0.7236739256012884, 1.1818727030377831]\n"
     ]
    }
   ],
   "source": [
    "# Find the best regularization hyperparameters\n",
    "res = optimize(\n",
    "    validation_mse,\n",
    "    fill(0.0, 2), # intial guess\n",
    "    LBFGS(),\n",
    "    autodiff = :forward,\n",
    "    Optim.Options(show_trace = true, extended_trace = true),\n",
    ");\n",
    "λ = exp.(Optim.minimizer(res));"
   ]
  },
  {
   "cell_type": "code",
   "execution_count": 8,
   "id": "5e71e197-1810-46ac-9be5-4847747fce90",
   "metadata": {},
   "outputs": [
    {
     "name": "stderr",
     "output_type": "stream",
     "text": [
      "\u001b[38;5;6m\u001b[1m[ \u001b[22m\u001b[39m\u001b[38;5;6m\u001b[1mInfo: \u001b[22m\u001b[39m20211210 14:20:37 The optimal [λ_u, λ_a] is [2.061994927499684, 3.2604743894816983], found in 26 function calls\n"
     ]
    }
   ],
   "source": [
    "@info \"The optimal [λ_u, λ_a] is $λ, found in \" *\n",
    "      repr(Optim.f_calls(res)) *\n",
    "      \" function calls\""
   ]
  },
  {
   "cell_type": "code",
   "execution_count": 9,
   "id": "781a2388-df56-42ce-8e58-b4a11a4e4d0b",
   "metadata": {},
   "outputs": [
    {
     "name": "stderr",
     "output_type": "stream",
     "text": [
      "\u001b[38;5;4m\u001b[1m[ \u001b[22m\u001b[39m\u001b[38;5;4m\u001b[1mDebug: \u001b[22m\u001b[39m20211210 14:20:37 training model with parameters [2.061994927499684, 3.2604743894816983]\n"
     ]
    }
   ],
   "source": [
    "stop_criteria = convergence_stopper(1e-9)\n",
    "u, a = train_model(training, λ..., stop_criteria);"
   ]
  },
  {
   "cell_type": "markdown",
   "id": "7c291e04-b1ba-48a0-ac09-25eda75a6162",
   "metadata": {},
   "source": [
    "## Inference"
   ]
  },
  {
   "cell_type": "code",
   "execution_count": 10,
   "id": "bd86b2cc-bc7e-4fdb-93fd-37e1f15422c7",
   "metadata": {},
   "outputs": [],
   "source": [
    "model(users, items) = make_prediction(users, items, u, a);"
   ]
  },
  {
   "cell_type": "code",
   "execution_count": 11,
   "id": "09dc7ac8-4839-476e-acdc-4687262d8623",
   "metadata": {},
   "outputs": [],
   "source": [
    "write_predictions(model, save_training = true);"
   ]
  },
  {
   "cell_type": "code",
   "execution_count": 12,
   "id": "20376423-1556-429c-90ee-4adf7d73f7d6",
   "metadata": {},
   "outputs": [],
   "source": [
    "write_params(Dict(\"u\" => u, \"a\" => a, \"λ\" => λ));"
   ]
  }
 ],
 "metadata": {
  "kernelspec": {
   "display_name": "Julia 1.6.3",
   "language": "julia",
   "name": "julia-1.6"
  },
  "language_info": {
   "file_extension": ".jl",
   "mimetype": "application/julia",
   "name": "julia",
   "version": "1.6.3"
  }
 },
 "nbformat": 4,
 "nbformat_minor": 5
}
