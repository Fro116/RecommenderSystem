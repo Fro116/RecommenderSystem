{
 "cells": [
  {
   "cell_type": "markdown",
   "id": "c3758ece-9b72-47b4-ae6a-aa364e0443e3",
   "metadata": {},
   "source": [
    "# User Item Biases With Regularization\n",
    "* Prediction for user $i$ and item $j$ is $\\tilde r_{ij} = u_i + a_j$\n",
    "* Loss function is $L = \\sum_{\\Omega}(r_{ij} - u_i - a_j)^2 + \\lambda_u \\sum_i (u_i - \\bar u) ^2 + \\lambda_a \\sum_j (a_j - \\bar a)^2 $\n",
    "* $\\bar u$ is the mean of $u_i$ and $\\bar a$ is the mean of $a_j$ \n",
    "* $\\Omega$ is the set of oberved pairs $(i, j)$\n",
    "* $r_{ij}$ is the rating for user $i$ and item $j$"
   ]
  },
  {
   "cell_type": "code",
   "execution_count": 1,
   "id": "7cc9334a-2287-41d6-885b-a5cca94fe263",
   "metadata": {},
   "outputs": [],
   "source": [
    "name = \"UserItemBiases\";\n",
    "residual_alphas = [];"
   ]
  },
  {
   "cell_type": "code",
   "execution_count": 2,
   "id": "df87db6f-667c-4bc2-9d48-7f4debe6750f",
   "metadata": {
    "tags": []
   },
   "outputs": [],
   "source": [
    "using NBInclude\n",
    "@nbinclude(\"Alpha.ipynb\");"
   ]
  },
  {
   "cell_type": "code",
   "execution_count": 3,
   "id": "2964541d-4796-47fd-ac77-91a2eaefc679",
   "metadata": {},
   "outputs": [],
   "source": [
    "const training = get_residuals(\"training\", residual_alphas)\n",
    "const validation = get_residuals(\"validation\", residual_alphas);"
   ]
  },
  {
   "cell_type": "markdown",
   "id": "99f52a69-0231-4bff-8a9f-26bb16ee9f33",
   "metadata": {},
   "source": [
    "## Alternating Least Squares Algorithm\n",
    "* $u_i = \\dfrac{\\sum_{j \\in \\Omega_i}(r_{ij} - a_j) + \\bar u \\lambda_u}{|\\Omega_i| + \\lambda_u} = \\dfrac{\\rho_i + \\bar u \\lambda_u}{|\\Omega_i| + \\lambda_u}$\n",
    "* $\\Omega$ is the set of (user, item) pairs that we have ratings for\n",
    "* $\\Omega_i$ is subset of $\\Omega$ for which the user is the $i$-th user"
   ]
  },
  {
   "cell_type": "code",
   "execution_count": 4,
   "id": "fb96c1bd-40b5-457b-9872-ca6633256390",
   "metadata": {},
   "outputs": [],
   "source": [
    "function get_residuals!(users, items, ratings, u, a, ρ, Ω)\n",
    "    for row = 1:length(users)\n",
    "        i = users[row]\n",
    "        j = items[row]\n",
    "        r = ratings[row]\n",
    "        ρ[i] += r - a[j]\n",
    "        Ω[i] += 1\n",
    "    end\n",
    "    ρ, Ω\n",
    "end\n",
    "\n",
    "# todo move to utils\n",
    "function thread_range(n)\n",
    "    tid = Threads.threadid()\n",
    "    nt = Threads.nthreads()\n",
    "    d, r = divrem(n, nt)\n",
    "    from = (tid - 1) * d + min(r, tid - 1) + 1\n",
    "    to = from + d - 1 + (tid ≤ r ? 1 : 0)\n",
    "    from:to\n",
    "end\n",
    "\n",
    "function update_users!(users, items, ratings, u, a, λ_u, ρ, Ω)\n",
    "    Threads.@threads for t = 1:Threads.nthreads()\n",
    "        range = thread_range(length(ratings))\n",
    "        ρ[:, Threads.threadid()] .= 0\n",
    "        Ω[:, Threads.threadid()] .= 0\n",
    "        @views get_residuals!(\n",
    "            users[range],\n",
    "            items[range],\n",
    "            ratings[range],\n",
    "            u,\n",
    "            a,\n",
    "            ρ[:, Threads.threadid()],\n",
    "            Ω[:, Threads.threadid()],\n",
    "        )\n",
    "    end\n",
    "    ρ = sum(ρ, dims = 2)\n",
    "    Ω = sum(Ω, dims = 2)\n",
    "\n",
    "    μ = mean(u)\n",
    "    Threads.@threads for i = 1:length(u)\n",
    "        u[i] = (ρ[i] + μ * λ_u) / (Ω[i] + λ_u)\n",
    "    end\n",
    "end;"
   ]
  },
  {
   "cell_type": "code",
   "execution_count": 5,
   "id": "d0371f61-27bf-4f52-b822-d060f7be01b3",
   "metadata": {},
   "outputs": [],
   "source": [
    "function train_model(training, λ_u, λ_a, stop_criteria)\n",
    "    @debug \"training model with parameters [$λ_u, $λ_a]\"\n",
    "    users, items, ratings = training.user, training.item, training.rating\n",
    "    u = zeros(eltype(λ_u), maximum(users))\n",
    "    a = zeros(eltype(λ_a), maximum(items))\n",
    "\n",
    "    ρ_u = zeros(eltype(u), length(u), Threads.nthreads())\n",
    "    Ω_u = zeros(eltype(u), length(u), Threads.nthreads())\n",
    "    ρ_a = zeros(eltype(a), length(a), Threads.nthreads())\n",
    "    Ω_a = zeros(eltype(a), length(a), Threads.nthreads())\n",
    "\n",
    "    while !stop!(stop_criteria, [u, a])\n",
    "        update_users!(users, items, ratings, u, a, λ_u, ρ_u, Ω_u)\n",
    "        update_users!(items, users, ratings, a, u, λ_a, ρ_a, Ω_a)\n",
    "    end\n",
    "    u, a\n",
    "end;"
   ]
  },
  {
   "cell_type": "code",
   "execution_count": 6,
   "id": "59fb718e-dc9e-4452-b72c-829ae2d843ff",
   "metadata": {},
   "outputs": [],
   "source": [
    "function make_prediction(users, items, u, a)\n",
    "    r = zeros(eltype(u), length(users))\n",
    "    u_mean = mean(u)\n",
    "    a_mean = mean(a)\n",
    "    for i = 1:length(r)\n",
    "        if users[i] > length(u)\n",
    "            r[i] += mean(u)\n",
    "        else\n",
    "            r[i] += u[users[i]]\n",
    "        end\n",
    "        if items[i] > length(a)\n",
    "            r[i] += mean(a)\n",
    "        else\n",
    "            r[i] += a[items[i]]\n",
    "        end\n",
    "    end\n",
    "    r\n",
    "end;"
   ]
  },
  {
   "cell_type": "markdown",
   "id": "d44f0871-3bb4-4083-8bdb-3cb53233298c",
   "metadata": {
    "tags": []
   },
   "source": [
    "## Training"
   ]
  },
  {
   "cell_type": "code",
   "execution_count": 7,
   "id": "c174fef4-e9d4-4fbd-a649-1159f8c07a3f",
   "metadata": {},
   "outputs": [],
   "source": [
    "function validation_mse(λ)\n",
    "    λ = exp.(λ) # ensure λ is nonnegative\n",
    "    stop_criteria = convergence_stopper(1e-9)\n",
    "    u, a = train_model(training, λ[1], λ[2], stop_criteria)\n",
    "    pred_score = make_prediction(validation.user, validation.item, u, a)\n",
    "    mse(validation.rating, pred_score)\n",
    "end;"
   ]
  },
  {
   "cell_type": "code",
   "execution_count": 8,
   "id": "7d55df8c-06e5-4e8e-814c-41410685842d",
   "metadata": {},
   "outputs": [
    {
     "name": "stderr",
     "output_type": "stream",
     "text": [
      "\u001b[38;5;4m\u001b[1m[ \u001b[22m\u001b[39m\u001b[38;5;4m\u001b[1mDebug: \u001b[22m\u001b[39m20220129 04:46:59 training model with parameters [Dual{ForwardDiff.Tag{typeof(validation_mse), Float32}}(1.0,1.0,0.0), Dual{ForwardDiff.Tag{typeof(validation_mse), Float32}}(1.0,0.0,1.0)]\n"
     ]
    },
    {
     "name": "stdout",
     "output_type": "stream",
     "text": [
      "Iter     Function value   Gradient norm \n",
      "     0     1.743445e+00     1.340679e-03\n",
      " * Current step size: 1.0\n",
      " * time: 0.026192903518676758\n",
      " * g(x): Float32[-0.0013406794, 5.567348f-7]\n",
      " * x: Float32[0.0, 0.0]\n"
     ]
    },
    {
     "name": "stderr",
     "output_type": "stream",
     "text": [
      "\u001b[38;5;4m\u001b[1m[ \u001b[22m\u001b[39m\u001b[38;5;4m\u001b[1mDebug: \u001b[22m\u001b[39m20220129 04:47:35 training model with parameters [Dual{ForwardDiff.Tag{typeof(validation_mse), Float32}}(1.0013416,1.0013416,0.0), Dual{ForwardDiff.Tag{typeof(validation_mse), Float32}}(0.99999946,0.0,0.99999946)]\n",
      "\u001b[38;5;4m\u001b[1m[ \u001b[22m\u001b[39m\u001b[38;5;4m\u001b[1mDebug: \u001b[22m\u001b[39m20220129 04:48:37 training model with parameters [Dual{ForwardDiff.Tag{typeof(validation_mse), Float32}}(1.0067259,1.0067259,0.0), Dual{ForwardDiff.Tag{typeof(validation_mse), Float32}}(0.9999972,0.0,0.9999972)]\n",
      "\u001b[38;5;4m\u001b[1m[ \u001b[22m\u001b[39m\u001b[38;5;4m\u001b[1mDebug: \u001b[22m\u001b[39m20220129 04:49:10 training model with parameters [Dual{ForwardDiff.Tag{typeof(validation_mse), Float32}}(1.034085,1.034085,0.0), Dual{ForwardDiff.Tag{typeof(validation_mse), Float32}}(0.99998605,0.0,0.99998605)]\n",
      "\u001b[38;5;4m\u001b[1m[ \u001b[22m\u001b[39m\u001b[38;5;4m\u001b[1mDebug: \u001b[22m\u001b[39m20220129 04:49:30 training model with parameters [Dual{ForwardDiff.Tag{typeof(validation_mse), Float32}}(1.1824456,1.1824456,0.0), Dual{ForwardDiff.Tag{typeof(validation_mse), Float32}}(0.9999304,0.0,0.9999304)]\n",
      "\u001b[38;5;4m\u001b[1m[ \u001b[22m\u001b[39m\u001b[38;5;4m\u001b[1mDebug: \u001b[22m\u001b[39m20220129 04:50:13 training model with parameters [Dual{ForwardDiff.Tag{typeof(validation_mse), Float32}}(2.3115647,2.3115647,0.0), Dual{ForwardDiff.Tag{typeof(validation_mse), Float32}}(0.9996521,0.0,0.9996521)]\n",
      "\u001b[38;5;4m\u001b[1m[ \u001b[22m\u001b[39m\u001b[38;5;4m\u001b[1mDebug: \u001b[22m\u001b[39m20220129 04:50:30 training model with parameters [Dual{ForwardDiff.Tag{typeof(validation_mse), Float32}}(2.1550815,2.1550815,0.0), Dual{ForwardDiff.Tag{typeof(validation_mse), Float32}}(0.9996812,0.0,0.9996812)]\n"
     ]
    },
    {
     "name": "stdout",
     "output_type": "stream",
     "text": [
      "     1     1.742781e+00     8.376977e-05\n",
      " * Current step size: 572.716\n",
      " * time: 205.81967401504517\n",
      " * g(x): Float32[-8.3769766f-5, 5.7841845f-7]\n",
      " * x: Float32[0.7678285, -0.0003188509]\n"
     ]
    },
    {
     "name": "stderr",
     "output_type": "stream",
     "text": [
      "\u001b[38;5;4m\u001b[1m[ \u001b[22m\u001b[39m\u001b[38;5;4m\u001b[1mDebug: \u001b[22m\u001b[39m20220129 04:50:59 training model with parameters [Dual{ForwardDiff.Tag{typeof(validation_mse), Float32}}(2.268236,2.268236,0.0), Dual{ForwardDiff.Tag{typeof(validation_mse), Float32}}(0.9993059,0.0,0.9993059)]\n",
      "\u001b[38;5;4m\u001b[1m[ \u001b[22m\u001b[39m\u001b[38;5;4m\u001b[1mDebug: \u001b[22m\u001b[39m20220129 04:51:27 training model with parameters [Dual{ForwardDiff.Tag{typeof(validation_mse), Float32}}(2.2129505,2.2129505,0.0), Dual{ForwardDiff.Tag{typeof(validation_mse), Float32}}(0.99948686,0.0,0.99948686)]\n"
     ]
    },
    {
     "name": "stdout",
     "output_type": "stream",
     "text": [
      "     2     1.742780e+00     1.640858e-06\n",
      " * Current step size: 0.5178059\n",
      " * time: 262.6588830947876\n",
      " * g(x): Float32[-1.6408579f-6, 5.789553f-7]\n",
      " * x: Float32[0.79432666, -0.00051327737]\n"
     ]
    },
    {
     "name": "stderr",
     "output_type": "stream",
     "text": [
      "\u001b[38;5;4m\u001b[1m[ \u001b[22m\u001b[39m\u001b[38;5;4m\u001b[1mDebug: \u001b[22m\u001b[39m20220129 04:51:56 training model with parameters [Dual{ForwardDiff.Tag{typeof(validation_mse), Float32}}(2.2141254,2.2141254,0.0), Dual{ForwardDiff.Tag{typeof(validation_mse), Float32}}(0.99929625,0.0,0.99929625)]\n",
      "\u001b[38;5;4m\u001b[1m[ \u001b[22m\u001b[39m\u001b[38;5;4m\u001b[1mDebug: \u001b[22m\u001b[39m20220129 04:52:59 training model with parameters [Dual{ForwardDiff.Tag{typeof(validation_mse), Float32}}(2.218831,2.218831,0.0), Dual{ForwardDiff.Tag{typeof(validation_mse), Float32}}(0.99853426,0.0,0.99853426)]\n",
      "\u001b[38;5;4m\u001b[1m[ \u001b[22m\u001b[39m\u001b[38;5;4m\u001b[1mDebug: \u001b[22m\u001b[39m20220129 04:53:24 training model with parameters [Dual{ForwardDiff.Tag{typeof(validation_mse), Float32}}(2.214244,2.214244,0.0), Dual{ForwardDiff.Tag{typeof(validation_mse), Float32}}(0.99927706,0.0,0.99927706)]\n"
     ]
    },
    {
     "name": "stdout",
     "output_type": "stream",
     "text": [
      "     3     1.742780e+00     5.787520e-07\n",
      " * Current step size: 1.1008235\n",
      " * time: 433.18425393104553\n",
      " * g(x): Float32[2.0743624f-7, 5.7875195f-7]\n",
      " * x: Float32[0.79491097, -0.00072321505]\n"
     ]
    },
    {
     "name": "stderr",
     "output_type": "stream",
     "text": [
      "\u001b[38;5;4m\u001b[1m[ \u001b[22m\u001b[39m\u001b[38;5;4m\u001b[1mDebug: \u001b[22m\u001b[39m20220129 04:54:46 training model with parameters [Dual{ForwardDiff.Tag{typeof(validation_mse), Float32}}(2.2142441,2.2142441,0.0), Dual{ForwardDiff.Tag{typeof(validation_mse), Float32}}(0.99907106,0.0,0.99907106)]\n",
      "\u001b[38;5;4m\u001b[1m[ \u001b[22m\u001b[39m\u001b[38;5;4m\u001b[1mDebug: \u001b[22m\u001b[39m20220129 04:56:10 training model with parameters [Dual{ForwardDiff.Tag{typeof(validation_mse), Float32}}(2.2142453,2.2142453,0.0), Dual{ForwardDiff.Tag{typeof(validation_mse), Float32}}(0.9982475,0.0,0.9982475)]\n",
      "\u001b[38;5;4m\u001b[1m[ \u001b[22m\u001b[39m\u001b[38;5;4m\u001b[1mDebug: \u001b[22m\u001b[39m20220129 04:57:41 training model with parameters [Dual{ForwardDiff.Tag{typeof(validation_mse), Float32}}(2.2142515,2.2142515,0.0), Dual{ForwardDiff.Tag{typeof(validation_mse), Float32}}(0.9941399,0.0,0.9941399)]\n",
      "\u001b[38;5;4m\u001b[1m[ \u001b[22m\u001b[39m\u001b[38;5;4m\u001b[1mDebug: \u001b[22m\u001b[39m20220129 04:58:58 training model with parameters [Dual{ForwardDiff.Tag{typeof(validation_mse), Float32}}(2.214282,2.214282,0.0), Dual{ForwardDiff.Tag{typeof(validation_mse), Float32}}(0.9738542,0.0,0.9738542)]\n",
      "\u001b[38;5;4m\u001b[1m[ \u001b[22m\u001b[39m\u001b[38;5;4m\u001b[1mDebug: \u001b[22m\u001b[39m20220129 05:00:16 training model with parameters [Dual{ForwardDiff.Tag{typeof(validation_mse), Float32}}(2.2144356,2.2144356,0.0), Dual{ForwardDiff.Tag{typeof(validation_mse), Float32}}(0.8784682,0.0,0.8784682)]\n",
      "\u001b[38;5;4m\u001b[1m[ \u001b[22m\u001b[39m\u001b[38;5;4m\u001b[1mDebug: \u001b[22m\u001b[39m20220129 05:01:20 training model with parameters [Dual{ForwardDiff.Tag{typeof(validation_mse), Float32}}(2.2152023,2.2152023,0.0), Dual{ForwardDiff.Tag{typeof(validation_mse), Float32}}(0.52467054,0.0,0.52467054)]\n",
      "\u001b[38;5;4m\u001b[1m[ \u001b[22m\u001b[39m\u001b[38;5;4m\u001b[1mDebug: \u001b[22m\u001b[39m20220129 05:01:59 training model with parameters [Dual{ForwardDiff.Tag{typeof(validation_mse), Float32}}(2.21904,2.21904,0.0), Dual{ForwardDiff.Tag{typeof(validation_mse), Float32}}(0.039873995,0.0,0.039873995)]\n",
      "\u001b[38;5;4m\u001b[1m[ \u001b[22m\u001b[39m\u001b[38;5;4m\u001b[1mDebug: \u001b[22m\u001b[39m20220129 05:02:24 training model with parameters [Dual{ForwardDiff.Tag{typeof(validation_mse), Float32}}(2.2185366,2.2185366,0.0), Dual{ForwardDiff.Tag{typeof(validation_mse), Float32}}(0.055896446,0.0,0.055896446)]\n"
     ]
    },
    {
     "name": "stdout",
     "output_type": "stream",
     "text": [
      "     4     1.742779e+00     6.323789e-06\n",
      " * Current step size: 13986.611\n",
      " * time: 918.0270440578461\n",
      " * g(x): Float32[6.3237894f-6, -2.2051385f-8]\n",
      " * x: Float32[0.79684776, -2.8842545]\n"
     ]
    },
    {
     "name": "stderr",
     "output_type": "stream",
     "text": [
      "\u001b[38;5;4m\u001b[1m[ \u001b[22m\u001b[39m\u001b[38;5;4m\u001b[1mDebug: \u001b[22m\u001b[39m20220129 05:02:51 training model with parameters [Dual{ForwardDiff.Tag{typeof(validation_mse), Float32}}(2.2141361,2.2141361,0.0), Dual{ForwardDiff.Tag{typeof(validation_mse), Float32}}(0.062147424,0.0,0.062147424)]\n",
      "\u001b[38;5;4m\u001b[1m[ \u001b[22m\u001b[39m\u001b[38;5;4m\u001b[1mDebug: \u001b[22m\u001b[39m20220129 05:03:22 training model with parameters [Dual{ForwardDiff.Tag{typeof(validation_mse), Float32}}(2.1966217,2.1966217,0.0), Dual{ForwardDiff.Tag{typeof(validation_mse), Float32}}(0.09496831,0.0,0.09496831)]\n",
      "\u001b[38;5;4m\u001b[1m[ \u001b[22m\u001b[39m\u001b[38;5;4m\u001b[1mDebug: \u001b[22m\u001b[39m20220129 05:04:16 training model with parameters [Dual{ForwardDiff.Tag{typeof(validation_mse), Float32}}(2.2132246,2.2132246,0.0), Dual{ForwardDiff.Tag{typeof(validation_mse), Float32}}(0.06352882,0.0,0.06352882)]\n"
     ]
    },
    {
     "name": "stdout",
     "output_type": "stream",
     "text": [
      "     5     1.742779e+00     1.278600e-06\n",
      " * Current step size: 1.2073839\n",
      " * time: 1044.9718511104584\n",
      " * g(x): Float32[-1.2786004f-6, -2.3876375f-8]\n",
      " * x: Float32[0.7944506, -2.7562616]\n"
     ]
    },
    {
     "name": "stderr",
     "output_type": "stream",
     "text": [
      "\u001b[38;5;4m\u001b[1m[ \u001b[22m\u001b[39m\u001b[38;5;4m\u001b[1mDebug: \u001b[22m\u001b[39m20220129 05:04:58 training model with parameters [Dual{ForwardDiff.Tag{typeof(validation_mse), Float32}}(2.2131543,2.2131543,0.0), Dual{ForwardDiff.Tag{typeof(validation_mse), Float32}}(0.07289817,0.0,0.07289817)]\n",
      "\u001b[38;5;4m\u001b[1m[ \u001b[22m\u001b[39m\u001b[38;5;4m\u001b[1mDebug: \u001b[22m\u001b[39m20220129 05:05:58 training model with parameters [Dual{ForwardDiff.Tag{typeof(validation_mse), Float32}}(2.2128723,2.2128723,0.0), Dual{ForwardDiff.Tag{typeof(validation_mse), Float32}}(0.12638637,0.0,0.12638637)]\n",
      "\u001b[38;5;4m\u001b[1m[ \u001b[22m\u001b[39m\u001b[38;5;4m\u001b[1mDebug: \u001b[22m\u001b[39m20220129 05:06:20 training model with parameters [Dual{ForwardDiff.Tag{typeof(validation_mse), Float32}}(2.211464,2.211464,0.0), Dual{ForwardDiff.Tag{typeof(validation_mse), Float32}}(1.9797858,0.0,1.9797858)]\n",
      "\u001b[38;5;4m\u001b[1m[ \u001b[22m\u001b[39m\u001b[38;5;4m\u001b[1mDebug: \u001b[22m\u001b[39m20220129 05:06:36 training model with parameters [Dual{ForwardDiff.Tag{typeof(validation_mse), Float32}}(2.21285,2.21285,0.0), Dual{ForwardDiff.Tag{typeof(validation_mse), Float32}}(0.13202561,0.0,0.13202561)]\n",
      "\u001b[38;5;4m\u001b[1m[ \u001b[22m\u001b[39m\u001b[38;5;4m\u001b[1mDebug: \u001b[22m\u001b[39m20220129 05:06:47 training model with parameters [Dual{ForwardDiff.Tag{typeof(validation_mse), Float32}}(2.2121568,2.2121568,0.0), Dual{ForwardDiff.Tag{typeof(validation_mse), Float32}}(0.51125574,0.0,0.51125574)]\n",
      "\u001b[38;5;4m\u001b[1m[ \u001b[22m\u001b[39m\u001b[38;5;4m\u001b[1mDebug: \u001b[22m\u001b[39m20220129 05:07:44 training model with parameters [Dual{ForwardDiff.Tag{typeof(validation_mse), Float32}}(2.2127287,2.2127287,0.0), Dual{ForwardDiff.Tag{typeof(validation_mse), Float32}}(0.16726041,0.0,0.16726041)]\n",
      "\u001b[38;5;4m\u001b[1m[ \u001b[22m\u001b[39m\u001b[38;5;4m\u001b[1mDebug: \u001b[22m\u001b[39m20220129 05:08:14 training model with parameters [Dual{ForwardDiff.Tag{typeof(validation_mse), Float32}}(2.2124429,2.2124429,0.0), Dual{ForwardDiff.Tag{typeof(validation_mse), Float32}}(0.2924258,0.0,0.2924258)]\n",
      "\u001b[38;5;4m\u001b[1m[ \u001b[22m\u001b[39m\u001b[38;5;4m\u001b[1mDebug: \u001b[22m\u001b[39m20220129 05:08:29 training model with parameters [Dual{ForwardDiff.Tag{typeof(validation_mse), Float32}}(2.2125266,2.2125266,0.0), Dual{ForwardDiff.Tag{typeof(validation_mse), Float32}}(0.24822949,0.0,0.24822949)]\n"
     ]
    },
    {
     "name": "stdout",
     "output_type": "stream",
     "text": [
      "     6     1.742779e+00     2.271039e-06\n",
      " * Current step size: 9.906665\n",
      " * time: 1281.7700810432434\n",
      " * g(x): Float32[-2.2710387f-6, -6.624014f-9]\n",
      " * x: Float32[0.79413515, -1.3934016]\n"
     ]
    }
   ],
   "source": [
    "# Find the best regularization hyperparameters\n",
    "res = optimize(\n",
    "    validation_mse,\n",
    "    fill(0.0f0, 2), # intial guess\n",
    "    LBFGS(),\n",
    "    autodiff = :forward,\n",
    "    Optim.Options(show_trace = true, extended_trace = true),\n",
    ");\n",
    "λ = exp.(Optim.minimizer(res));"
   ]
  },
  {
   "cell_type": "code",
   "execution_count": 9,
   "id": "5e71e197-1810-46ac-9be5-4847747fce90",
   "metadata": {},
   "outputs": [
    {
     "name": "stderr",
     "output_type": "stream",
     "text": [
      "\u001b[38;5;6m\u001b[1m[ \u001b[22m\u001b[39m\u001b[38;5;6m\u001b[1mInfo: \u001b[22m\u001b[39m20220129 05:08:55 The optimal [λ_u, λ_a] is Float32[2.2125266, 0.24822949], found in 31 function calls\n"
     ]
    }
   ],
   "source": [
    "@info \"The optimal [λ_u, λ_a] is $λ, found in \" *\n",
    "      repr(Optim.f_calls(res)) *\n",
    "      \" function calls\""
   ]
  },
  {
   "cell_type": "code",
   "execution_count": 10,
   "id": "781a2388-df56-42ce-8e58-b4a11a4e4d0b",
   "metadata": {},
   "outputs": [
    {
     "name": "stderr",
     "output_type": "stream",
     "text": [
      "\u001b[38;5;4m\u001b[1m[ \u001b[22m\u001b[39m\u001b[38;5;4m\u001b[1mDebug: \u001b[22m\u001b[39m20220129 05:08:55 training model with parameters [2.2125266, 0.24822949]\n"
     ]
    }
   ],
   "source": [
    "stop_criteria = convergence_stopper(1e-9)\n",
    "u, a = train_model(training, λ..., stop_criteria);"
   ]
  },
  {
   "cell_type": "markdown",
   "id": "7c291e04-b1ba-48a0-ac09-25eda75a6162",
   "metadata": {},
   "source": [
    "## Inference"
   ]
  },
  {
   "cell_type": "code",
   "execution_count": 11,
   "id": "bd86b2cc-bc7e-4fdb-93fd-37e1f15422c7",
   "metadata": {},
   "outputs": [],
   "source": [
    "model(users, items) = make_prediction(users, items, u, a);"
   ]
  },
  {
   "cell_type": "code",
   "execution_count": 12,
   "id": "09dc7ac8-4839-476e-acdc-4687262d8623",
   "metadata": {},
   "outputs": [
    {
     "name": "stderr",
     "output_type": "stream",
     "text": [
      "\u001b[38;5;6m\u001b[1m[ \u001b[22m\u001b[39m\u001b[38;5;6m\u001b[1mInfo: \u001b[22m\u001b[39m20220129 05:09:17 training set: RMSE 1.2835 MAE 0.9599677 R2 0.46298516\n",
      "\u001b[38;5;6m\u001b[1m[ \u001b[22m\u001b[39m\u001b[38;5;6m\u001b[1mInfo: \u001b[22m\u001b[39m20220129 05:09:17 validation set: RMSE 1.3201425 MAE 0.9861401 R2 0.4090078\n"
     ]
    }
   ],
   "source": [
    "write_predictions(model);"
   ]
  },
  {
   "cell_type": "code",
   "execution_count": 13,
   "id": "20376423-1556-429c-90ee-4adf7d73f7d6",
   "metadata": {},
   "outputs": [],
   "source": [
    "write_params(Dict(\"u\" => u, \"a\" => a, \"λ\" => λ));"
   ]
  }
 ],
 "metadata": {
  "kernelspec": {
   "display_name": "Julia 1.6.3",
   "language": "julia",
   "name": "julia-1.6"
  },
  "language_info": {
   "file_extension": ".jl",
   "mimetype": "application/julia",
   "name": "julia",
   "version": "1.6.3"
  }
 },
 "nbformat": 4,
 "nbformat_minor": 5
}
