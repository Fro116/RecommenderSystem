{
 "cells": [
  {
   "cell_type": "markdown",
   "id": "34f6e653-a085-4ced-98a4-385398a5627d",
   "metadata": {
    "tags": []
   },
   "source": [
    "# Simple User Item Biases\n",
    "* Computes a bias for each user and for each item\n",
    "* Prediction for user $i$ and item $j$ is $\\tilde r_{ij} = m + u_i + a_j$\n",
    "* $m = \\text{mean}_{ij}(r_{ij})$\n",
    "* $u_i = \\text{mean}_j(r_{ij}) - m$\n",
    "* $a_j = \\text{mean}_i(r_{ij}) - m$\n",
    "* $r_{ij}$ is the rating for user $i$ and item $j$\n",
    "* Useful as a preprocessing step for other alphas"
   ]
  },
  {
   "cell_type": "code",
   "execution_count": 1,
   "id": "5f693eb8-9aab-4305-a6ee-17e885f3f24d",
   "metadata": {
    "tags": []
   },
   "outputs": [],
   "source": [
    "using CSV\n",
    "using DataFrames\n",
    "using DataStructures\n",
    "using FileIO\n",
    "using JLD2\n",
    "using JupyterFormatter\n",
    "using Statistics\n",
    "import Metrics"
   ]
  },
  {
   "cell_type": "code",
   "execution_count": 2,
   "id": "673b70f5-bfbf-4975-8125-2e96a962e0ee",
   "metadata": {},
   "outputs": [],
   "source": [
    "enable_autoformat();"
   ]
  },
  {
   "cell_type": "code",
   "execution_count": 3,
   "id": "f39d7a7e-403e-4104-b2a8-f5c48da9c7cc",
   "metadata": {},
   "outputs": [],
   "source": [
    "function get_split(split)\n",
    "    @assert split in [\"training\", \"validation\"]\n",
    "    file = \"../../data/splits/$(split).csv\"\n",
    "    df = DataFrame(CSV.File(file))\n",
    "    df.username .+= 1 # julia is 1 indexed\n",
    "    df.anime_id .+= 1\n",
    "    df.my_score = float(df.my_score)\n",
    "    return df\n",
    "end;"
   ]
  },
  {
   "cell_type": "code",
   "execution_count": 4,
   "id": "fefb5dc5-d13a-4087-8e86-c227d95705ec",
   "metadata": {},
   "outputs": [],
   "source": [
    "function write_prediction(df, split)\n",
    "    @assert split in [\"validation\"]\n",
    "    outdir = \"../../data/alphas/$name\"\n",
    "    if !isdir(outdir)\n",
    "        mkpath(outdir)\n",
    "    end\n",
    "    df = copy(df)\n",
    "    df.username .-= 1\n",
    "    df.anime_id .-= 1\n",
    "    CSV.write(\"$(outdir)/$(split).csv\", df)\n",
    "end;"
   ]
  },
  {
   "cell_type": "code",
   "execution_count": 5,
   "id": "386cb53a-0f89-445c-a66f-a4e6299d979e",
   "metadata": {},
   "outputs": [],
   "source": [
    "function write_model(params)\n",
    "    outdir = \"../../data/alphas/$name\"\n",
    "    if !isdir(outdir)\n",
    "        mkpath(outdir)\n",
    "    end\n",
    "    save(\"$(outdir)/model.jld2\", params)\n",
    "end;"
   ]
  },
  {
   "cell_type": "code",
   "execution_count": 6,
   "id": "48c27994-a711-4e6f-9c8d-2363f01344e9",
   "metadata": {},
   "outputs": [],
   "source": [
    "function evaluate(truth, pred)\n",
    "    print(\"RMSE \", sqrt(Metrics.mse(pred, truth)))\n",
    "    print(\" MAE \", Metrics.mae(pred, truth))\n",
    "    print(\" R2 \", Metrics.r2_score(pred, truth))\n",
    "end;"
   ]
  },
  {
   "cell_type": "code",
   "execution_count": 7,
   "id": "7cc9334a-2287-41d6-885b-a5cca94fe263",
   "metadata": {},
   "outputs": [],
   "source": [
    "name = \"SimpleUserItemBiases\";"
   ]
  },
  {
   "cell_type": "code",
   "execution_count": 8,
   "id": "07489c5a-16a7-466c-b7ea-83b794958cf6",
   "metadata": {
    "tags": []
   },
   "outputs": [],
   "source": [
    "training = get_split(\"training\");"
   ]
  },
  {
   "cell_type": "code",
   "execution_count": 9,
   "id": "6fffa2bd-1b5b-4a85-a6d4-6d5487f5771c",
   "metadata": {},
   "outputs": [],
   "source": [
    "validation = get_split(\"validation\");"
   ]
  },
  {
   "cell_type": "markdown",
   "id": "cce36d71-1acc-4f04-ae14-ba538b2f9e8c",
   "metadata": {
    "tags": []
   },
   "source": [
    "## Training"
   ]
  },
  {
   "cell_type": "code",
   "execution_count": 10,
   "id": "f41d29fd-1c46-4cc6-ab9d-27c9ac14d65b",
   "metadata": {},
   "outputs": [],
   "source": [
    "μ = mean(training.my_score);"
   ]
  },
  {
   "cell_type": "code",
   "execution_count": 11,
   "id": "f570b0db-a68b-4d66-8e84-a4fa90bc2a59",
   "metadata": {
    "tags": []
   },
   "outputs": [],
   "source": [
    "u = combine(groupby(training, :username), :my_score => mean => :my_score)\n",
    "u = DefaultDict(0.0, Dict(Pair.(u.username, u.my_score .- μ)));"
   ]
  },
  {
   "cell_type": "code",
   "execution_count": 12,
   "id": "c33032cf-cf89-45b7-809a-7fd55c1af514",
   "metadata": {},
   "outputs": [],
   "source": [
    "a = combine(groupby(training, :anime_id), :my_score => mean => :my_score)\n",
    "a = DefaultDict(0.0, Dict(Pair.(a.anime_id, a.my_score .- μ)));"
   ]
  },
  {
   "cell_type": "code",
   "execution_count": 14,
   "id": "59fb718e-dc9e-4452-b72c-829ae2d843ff",
   "metadata": {},
   "outputs": [],
   "source": [
    "function make_prediction(users, items, μ, u, a)\n",
    "    r = zeros(eltype(μ), length(users))\n",
    "    for i = 1:length(r)\n",
    "        r[i] = u[users[i]] + a[items[i]] + μ\n",
    "    end\n",
    "    return r\n",
    "end;\n",
    "\n",
    "model(users, items) = make_prediction(users, items, μ, u, a);"
   ]
  },
  {
   "cell_type": "markdown",
   "id": "a165dfd9-ae30-4da3-afa4-07a1b08eede7",
   "metadata": {},
   "source": [
    "## Inference"
   ]
  },
  {
   "cell_type": "code",
   "execution_count": 15,
   "id": "b93576c8-a876-41b8-859d-853ff9479b1e",
   "metadata": {},
   "outputs": [
    {
     "name": "stdout",
     "output_type": "stream",
     "text": [
      "RMSE 1.3329115279899955 MAE 0.9997747594835902 R2 0.4395862105349557"
     ]
    }
   ],
   "source": [
    "training_pred_score = model(training.username, training.anime_id);\n",
    "evaluate(training.my_score, training_pred_score);"
   ]
  },
  {
   "cell_type": "code",
   "execution_count": 16,
   "id": "45d9640c-79ec-475a-be57-84e9c51915df",
   "metadata": {},
   "outputs": [
    {
     "name": "stdout",
     "output_type": "stream",
     "text": [
      "RMSE 1.342890864774748 MAE 1.0067577667022556 R2 0.4312189466062175"
     ]
    }
   ],
   "source": [
    "val_pred_score = model(validation.username, validation.anime_id);\n",
    "evaluate(validation.my_score, val_pred_score);"
   ]
  },
  {
   "cell_type": "code",
   "execution_count": 17,
   "id": "443913be-e31b-4a88-ada4-870a6c29e9e2",
   "metadata": {},
   "outputs": [],
   "source": [
    "# write predictions to disk\n",
    "val_pred = copy(validation);\n",
    "val_pred.my_score = val_pred_score;\n",
    "write_prediction(val_pred, \"validation\");"
   ]
  },
  {
   "cell_type": "code",
   "execution_count": 18,
   "id": "7acf9e7c-f9d7-4ed6-960d-9e35b0450bfd",
   "metadata": {},
   "outputs": [],
   "source": [
    "# write model to disk\n",
    "write_model(Dict(\"μ\" => μ, \"u\" => u, \"a\" => a, \"model\" => model));"
   ]
  }
 ],
 "metadata": {
  "kernelspec": {
   "display_name": "Julia 1.6.3",
   "language": "julia",
   "name": "julia-1.6"
  },
  "language_info": {
   "file_extension": ".jl",
   "mimetype": "application/julia",
   "name": "julia",
   "version": "1.6.3"
  }
 },
 "nbformat": 4,
 "nbformat_minor": 5
}
