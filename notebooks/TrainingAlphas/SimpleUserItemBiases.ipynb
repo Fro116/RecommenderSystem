{
 "cells": [
  {
   "cell_type": "markdown",
   "id": "34f6e653-a085-4ced-98a4-385398a5627d",
   "metadata": {
    "tags": []
   },
   "source": [
    "# Simple User Item Biases\n",
    "* Computes a bias for each user and for each item\n",
    "* Prediction for user $i$ and item $j$ is $\\tilde r_{ij} = m + u_i + a_j$\n",
    "* $m = \\text{mean}_{ij}(r_{ij})$\n",
    "* $u_i = \\text{mean}_j(r_{ij}) - m$\n",
    "* $a_j = \\text{mean}_i(r_{ij}) - m$\n",
    "* $r_{ij}$ is the rating for user $i$ and item $j$\n",
    "* Useful as a preprocessing step for other alphas"
   ]
  },
  {
   "cell_type": "code",
   "execution_count": 1,
   "id": "7cc9334a-2287-41d6-885b-a5cca94fe263",
   "metadata": {},
   "outputs": [],
   "source": [
    "name = \"SimpleUserItemBiases\";\n",
    "residual_alphas = [];"
   ]
  },
  {
   "cell_type": "code",
   "execution_count": 2,
   "id": "5f693eb8-9aab-4305-a6ee-17e885f3f24d",
   "metadata": {
    "tags": []
   },
   "outputs": [],
   "source": [
    "using NBInclude\n",
    "@nbinclude(\"Alpha.ipynb\");"
   ]
  },
  {
   "cell_type": "code",
   "execution_count": 3,
   "id": "da02e2fb-e2d2-465c-be53-812e8a4a219a",
   "metadata": {},
   "outputs": [],
   "source": [
    "using DataStructures"
   ]
  },
  {
   "cell_type": "markdown",
   "id": "cce36d71-1acc-4f04-ae14-ba538b2f9e8c",
   "metadata": {
    "tags": []
   },
   "source": [
    "## Training"
   ]
  },
  {
   "cell_type": "code",
   "execution_count": 4,
   "id": "4fe35a95-4fae-4804-879c-3b6b978f0cf2",
   "metadata": {},
   "outputs": [],
   "source": [
    "training_df =\n",
    "    DataFrame(user = training.user, item = training.item, rating = training.rating);"
   ]
  },
  {
   "cell_type": "code",
   "execution_count": 5,
   "id": "f41d29fd-1c46-4cc6-ab9d-27c9ac14d65b",
   "metadata": {},
   "outputs": [],
   "source": [
    "μ = mean(training.rating);"
   ]
  },
  {
   "cell_type": "code",
   "execution_count": 6,
   "id": "f570b0db-a68b-4d66-8e84-a4fa90bc2a59",
   "metadata": {
    "tags": []
   },
   "outputs": [],
   "source": [
    "u = combine(groupby(training_df, :user), :rating => mean => :rating)\n",
    "u = DefaultDict(0.0, Dict(Pair.(u.user, u.rating .- μ)));"
   ]
  },
  {
   "cell_type": "code",
   "execution_count": 7,
   "id": "c33032cf-cf89-45b7-809a-7fd55c1af514",
   "metadata": {},
   "outputs": [],
   "source": [
    "a = combine(groupby(training_df, :item), :rating => mean => :rating)\n",
    "a = DefaultDict(0.0, Dict(Pair.(a.item, a.rating .- μ)));"
   ]
  },
  {
   "cell_type": "markdown",
   "id": "a165dfd9-ae30-4da3-afa4-07a1b08eede7",
   "metadata": {},
   "source": [
    "## Inference"
   ]
  },
  {
   "cell_type": "code",
   "execution_count": 8,
   "id": "59fb718e-dc9e-4452-b72c-829ae2d843ff",
   "metadata": {},
   "outputs": [],
   "source": [
    "function make_prediction(users, items, u, a, μ)\n",
    "    r = zeros(eltype(μ), length(users))\n",
    "    for i = 1:length(r)\n",
    "        r[i] = u[users[i]] + a[items[i]] + μ\n",
    "    end\n",
    "    r\n",
    "end;\n",
    "\n",
    "model(users, items) = make_prediction(users, items, u, a, μ);"
   ]
  },
  {
   "cell_type": "code",
   "execution_count": 9,
   "id": "b93576c8-a876-41b8-859d-853ff9479b1e",
   "metadata": {},
   "outputs": [
    {
     "name": "stderr",
     "output_type": "stream",
     "text": [
      "\u001b[38;5;6m\u001b[1m[ \u001b[22m\u001b[39m\u001b[38;5;6m\u001b[1mInfo: \u001b[22m\u001b[39m20211204 20:11:50 training set: RMSE 1.3329115279899955 MAE 0.9997747594835902 R2 0.4395862105349557\n",
      "\u001b[38;5;6m\u001b[1m[ \u001b[22m\u001b[39m\u001b[38;5;6m\u001b[1mInfo: \u001b[22m\u001b[39m20211204 20:11:52 validation set: RMSE 1.342890864774748 MAE 1.0067577667022556 R2 0.4312189466062175\n"
     ]
    }
   ],
   "source": [
    "write_predictions(model);"
   ]
  },
  {
   "cell_type": "code",
   "execution_count": 10,
   "id": "bdd25a26-b2be-4928-b121-209e75e0658b",
   "metadata": {},
   "outputs": [],
   "source": [
    "write_params(Dict(\"u\" => u, \"a\" => a));"
   ]
  }
 ],
 "metadata": {
  "kernelspec": {
   "display_name": "Julia 1.6.3",
   "language": "julia",
   "name": "julia-1.6"
  },
  "language_info": {
   "file_extension": ".jl",
   "mimetype": "application/julia",
   "name": "julia",
   "version": "1.6.3"
  }
 },
 "nbformat": 4,
 "nbformat_minor": 5
}
