{
 "cells": [
  {
   "cell_type": "code",
   "execution_count": 1,
   "id": "79559bef-810a-402f-ad21-52092ec933f4",
   "metadata": {},
   "outputs": [],
   "source": [
    "name = \"CombineSignals\"\n",
    "residual_alphas = [];"
   ]
  },
  {
   "cell_type": "code",
   "execution_count": 2,
   "id": "3779f4da-b021-4fff-bbd6-5f797d26a06a",
   "metadata": {},
   "outputs": [],
   "source": [
    "using Random\n",
    "import XGBoost"
   ]
  },
  {
   "cell_type": "code",
   "execution_count": 3,
   "id": "69b5a19a-24f5-4730-afe2-f451d27d18e3",
   "metadata": {},
   "outputs": [],
   "source": [
    "using NBInclude\n",
    "@nbinclude(\"Alpha.ipynb\");"
   ]
  },
  {
   "cell_type": "code",
   "execution_count": 4,
   "id": "5b499c9d-91fd-45bd-a632-592bb8a685e5",
   "metadata": {},
   "outputs": [],
   "source": [
    "@nbinclude(\"XGBoostFeatures.ipynb\");"
   ]
  },
  {
   "cell_type": "markdown",
   "id": "aa36180e-ce49-4387-8e37-de289d51a3da",
   "metadata": {},
   "source": [
    "## Train a linear model"
   ]
  },
  {
   "cell_type": "code",
   "execution_count": 66,
   "id": "fe4ad27b-d09d-4679-8632-fc880fa82503",
   "metadata": {},
   "outputs": [
    {
     "data": {
      "text/plain": [
       "2-element Vector{String}:\n",
       " \"UserItemBiases\"\n",
       " \"GNN.2\""
      ]
     },
     "execution_count": 66,
     "metadata": {},
     "output_type": "execute_result"
    }
   ],
   "source": [
    "alphas = [\n",
    "    [\"UserItemBiases\"]\n",
    "    #    [\"GNN\"]\n",
    "    [\"GNN.$K\" for K = 2:2]\n",
    "    # [\"ItemCF.$K\" for K in [2^4, 2^6, 2^8, 2^10, 2^12]]\n",
    "    # [\"MatrixFactorization.$K\" for K in [10, 20, 40]] # TODO make 8,16,32\n",
    "    # [\"ItemCF.Resid.$alpha.1.$K\" for alpha in [\"ItemCF\", \"GNN\", \"MF\"] for K in [2^8]]\n",
    "    # [\"GNN.Resid.$K\" for K = 1:1] # 0.1%\n",
    "    # [\"ItemCF.Embed.$K\" for K in [\"256\"]] # 0.0% TODO fix    \n",
    "    # [\"ItemCF.Related.$name\" for name in [\"strict_relations\"]] # 0.0% TODO fix\n",
    "    # [\"UserCF.$K\" for K in [2^8]] # 0.0% TODO fix    \n",
    "]"
   ]
  },
  {
   "cell_type": "code",
   "execution_count": 67,
   "id": "bfdafacf-3939-4348-adbb-956df1c509a7",
   "metadata": {},
   "outputs": [
    {
     "data": {
      "text/plain": [
       "2-element Vector{Float64}:\n",
       " 0.9996295146297729\n",
       " 1.079251085945343"
      ]
     },
     "execution_count": 67,
     "metadata": {},
     "output_type": "execute_result"
    }
   ],
   "source": [
    "β = get_indep(\"validation\", alphas) \\ get_dep(\"validation\")"
   ]
  },
  {
   "cell_type": "code",
   "execution_count": 68,
   "id": "aeb58470-65ed-4227-806d-e4e85a0b0a47",
   "metadata": {
    "tags": []
   },
   "outputs": [],
   "source": [
    "function evaluate(X, y, β)\n",
    "    y_pred = X * β\n",
    "    y_pred = clamp.(y_pred, 1, 10)\n",
    "    rmse(y, y_pred), mae(y, y_pred), r2(y, y_pred), mse(y, y_pred)\n",
    "end;"
   ]
  },
  {
   "cell_type": "code",
   "execution_count": 69,
   "id": "b032e0b3-ab36-4222-a41c-f0e0c6099abf",
   "metadata": {},
   "outputs": [
    {
     "data": {
      "text/plain": [
       "(1.20766801232553, 0.893792995885124, 0.5054214706116913, 1.4584620279942964)"
      ]
     },
     "execution_count": 69,
     "metadata": {},
     "output_type": "execute_result"
    }
   ],
   "source": [
    "evaluate(get_indep(\"validation\", alphas), get_dep(\"validation\"), β)"
   ]
  },
  {
   "cell_type": "code",
   "execution_count": 70,
   "id": "ab934309-5b2a-47ab-9506-43c59ee7ea23",
   "metadata": {},
   "outputs": [
    {
     "data": {
      "text/plain": [
       "(1.2078902060877865, 0.8937317412430557, 0.5054559758548471, 1.4589987499627954)"
      ]
     },
     "execution_count": 70,
     "metadata": {},
     "output_type": "execute_result"
    }
   ],
   "source": [
    "evaluate(get_indep(\"test\", alphas), get_dep(\"test\"), β)"
   ]
  },
  {
   "cell_type": "code",
   "execution_count": 52,
   "id": "78e669c1-f126-4261-8a14-09df376a04ef",
   "metadata": {},
   "outputs": [
    {
     "data": {
      "text/plain": [
       "0.9985262876238993"
      ]
     },
     "execution_count": 52,
     "metadata": {},
     "output_type": "execute_result"
    }
   ],
   "source": [
    "1.1247956469883074 / 1.1264557187221176"
   ]
  },
  {
   "cell_type": "code",
   "execution_count": 17,
   "id": "194346ce-710c-4e6d-bc00-267fba8f520e",
   "metadata": {},
   "outputs": [
    {
     "data": {
      "text/plain": [
       "0.9990109517872434"
      ]
     },
     "execution_count": 17,
     "metadata": {},
     "output_type": "execute_result"
    }
   ],
   "source": [
    "1.1264557187221176 / 1.1275709407458185"
   ]
  },
  {
   "cell_type": "code",
   "execution_count": 11,
   "id": "c8847256-57a7-494e-b3ac-9d86bc23d9cc",
   "metadata": {},
   "outputs": [],
   "source": [
    "# SOTA: 1.1264557187221176"
   ]
  },
  {
   "cell_type": "code",
   "execution_count": null,
   "id": "79238904-071d-409c-8136-f8f42b381826",
   "metadata": {},
   "outputs": [],
   "source": [
    "# OLD RESULTS: 1.0865915182160761 "
   ]
  },
  {
   "cell_type": "markdown",
   "id": "0859f0de-2e2c-4ef1-a6e5-26f1425e0aea",
   "metadata": {},
   "source": [
    "## Train an XGBoost model"
   ]
  },
  {
   "cell_type": "code",
   "execution_count": null,
   "id": "6cd96824-82ef-4225-8e75-f0650d439528",
   "metadata": {},
   "outputs": [],
   "source": [
    "function get_xgboost_split(split, training_perc, Y, extra_features)\n",
    "    Random.seed!(20220104)\n",
    "    val_rows = length(get_dep(split))\n",
    "    val_shuffle = shuffle(1:val_rows)\n",
    "    val_train_size = Int(round(val_rows * training_perc))\n",
    "    features = get_augmented_indep(split, alphas, β)\n",
    "    if !isnothing(extra_features)\n",
    "        features = hcat(features, extra_features)\n",
    "    end\n",
    "    X = convert.(Float32, features)\n",
    "    X_val_train = X[val_shuffle[1:val_train_size], :]\n",
    "    Y_val_train = Y[val_shuffle[1:val_train_size]]\n",
    "    X_val_test = X[val_shuffle[val_train_size+1:end], :]\n",
    "    Y_val_test = Y[val_shuffle[val_train_size+1:end]]\n",
    "    (\n",
    "        XGBoost.DMatrix(X_val_train, label = Y_val_train),\n",
    "        XGBoost.DMatrix(X_val_test, label = Y_val_test),\n",
    "    )\n",
    "end;"
   ]
  },
  {
   "cell_type": "code",
   "execution_count": null,
   "id": "ea202762-ec96-49bc-bf1a-493ee9018746",
   "metadata": {},
   "outputs": [],
   "source": [
    "function get_xgboost_dep(split)\n",
    "    convert.(Float32, get_dep(split) - get_indep(split, alphas) * β)\n",
    "end\n",
    "\n",
    "function train_model(split, Y, extra_features = nothing)\n",
    "    # TODO early stopping\n",
    "    training_split_perc = 0.9\n",
    "    dtrain, dtest = get_xgboost_split(split, training_split_perc, Y, extra_features)\n",
    "    watchlist =\n",
    "        training_split_perc == 1 ? [(dtrain, \"train\")] :\n",
    "        [(dtrain, \"train\"), (dtest, \"test\")]\n",
    "    XGBoost.xgboost(\n",
    "        dtrain,\n",
    "        100,\n",
    "        watchlist = watchlist,\n",
    "        objective = \"reg:squarederror\",\n",
    "        nthread = Threads.nthreads(),\n",
    "    )\n",
    "end;"
   ]
  },
  {
   "cell_type": "code",
   "execution_count": null,
   "id": "5c31abce-ab2b-4070-b033-54c0dd98f86f",
   "metadata": {},
   "outputs": [],
   "source": [
    "function evaluate(bst)\n",
    "    X_test = convert.(Float32, get_augmented_indep(\"test\", alphas, β))\n",
    "    Y_test = convert.(Float32, get_dep(\"test\"))\n",
    "    xgboost_preds = XGBoost.predict(bst, X_test)\n",
    "    preds = get_indep(\"test\", alphas) * β + xgboost_preds\n",
    "    rmse(Y_test, clamp.(preds, 1, 10)),\n",
    "    mae(Y_test, clamp.(preds, 1, 10)),\n",
    "    mean(abs.(xgboost_preds))\n",
    "end;"
   ]
  },
  {
   "cell_type": "code",
   "execution_count": null,
   "id": "e45466cb-45f2-442c-ac96-2d6a026787da",
   "metadata": {
    "tags": []
   },
   "outputs": [],
   "source": [
    "bst = train_model(\"validation\", get_xgboost_dep(\"validation\"));"
   ]
  },
  {
   "cell_type": "code",
   "execution_count": null,
   "id": "e0d1e29b-9f9a-4ad2-b72a-077d1fbc219e",
   "metadata": {},
   "outputs": [],
   "source": [
    "# SOTA: [100]\ttrain-rmse:1.111555\ttest-rmse:1.116668"
   ]
  },
  {
   "cell_type": "code",
   "execution_count": null,
   "id": "c56cc8ae-cfc1-489a-b38b-63c1264d6e08",
   "metadata": {},
   "outputs": [],
   "source": [
    "# OLD RESULTS: [300]\ttrain-rmse:1.064098\ttest-rmse:1.072669\n",
    "# (1.0730632033877396, 0.7742225118286815, 0.12442561f0)"
   ]
  },
  {
   "cell_type": "code",
   "execution_count": null,
   "id": "ebda1ed5-56fb-410c-a9e2-9d4d446780a7",
   "metadata": {
    "tags": []
   },
   "outputs": [],
   "source": [
    "@debug \"XGBoost model test (rmse, mae, mean(abs(bst))) = $(evaluate(bst))\""
   ]
  },
  {
   "cell_type": "code",
   "execution_count": null,
   "id": "26c8c072-7de2-4064-9e81-e60d92489474",
   "metadata": {},
   "outputs": [],
   "source": [
    "xgboost_model_fn = \"../../data/alphas/$name/xgb.model\"\n",
    "XGBoost.save(bst, xgboost_model_fn)"
   ]
  },
  {
   "cell_type": "markdown",
   "id": "b1ecfe37-557d-4c20-8b24-a477ef1d8048",
   "metadata": {},
   "source": [
    "## Train a model to predict confidence intervals"
   ]
  },
  {
   "cell_type": "code",
   "execution_count": null,
   "id": "0db0abb5-64cd-4272-972e-b382f6a4e4c5",
   "metadata": {},
   "outputs": [],
   "source": [
    "xgboost_model_fn = \"../../data/alphas/$name/xgb.model\"\n",
    "bst = XGBoost.Booster(model_file = xgboost_model_fn);"
   ]
  },
  {
   "cell_type": "code",
   "execution_count": null,
   "id": "2eb4f12d-c352-4f7c-9c5b-1aceeecc7645",
   "metadata": {},
   "outputs": [],
   "source": [
    "function get_error(bst, split)\n",
    "    X_test = convert.(Float32, get_augmented_indep(split, alphas, β))\n",
    "    Y_test = convert.(Float32, get_dep(split))\n",
    "    bst_preds = XGBoost.predict(bst, X_test)\n",
    "    preds = bst_preds + get_indep(split, alphas) * β\n",
    "    errors = abs.(Y_test - preds)\n",
    "    df = get_split(split)\n",
    "    RatingsDataset(df.user, df.item, errors), bst_preds\n",
    "end;"
   ]
  },
  {
   "cell_type": "code",
   "execution_count": null,
   "id": "63b96bcf-cc60-4622-8e6a-c16a3ae064c7",
   "metadata": {},
   "outputs": [],
   "source": [
    "errors, test_preds = get_error(bst, \"test\");"
   ]
  },
  {
   "cell_type": "code",
   "execution_count": null,
   "id": "dda6cedb-c90d-4154-b642-47714ebf209e",
   "metadata": {
    "tags": []
   },
   "outputs": [],
   "source": [
    "error_bst = train_model(\"test\", errors.rating, test_preds);"
   ]
  },
  {
   "cell_type": "code",
   "execution_count": null,
   "id": "3461f372-33a4-4608-8f80-39a617331cd7",
   "metadata": {},
   "outputs": [],
   "source": [
    "xgboost_error_model_fn = \"../../data/alphas/$name/xgb_error.model\"\n",
    "XGBoost.save(error_bst, xgboost_error_model_fn)"
   ]
  },
  {
   "cell_type": "code",
   "execution_count": null,
   "id": "4eb98927-1550-4146-a10e-da598f7365f3",
   "metadata": {},
   "outputs": [],
   "source": [
    "# SOTA: [100]\ttrain-rmse:0.720068\ttest-rmse:0.726745"
   ]
  },
  {
   "cell_type": "code",
   "execution_count": null,
   "id": "55d55774-e03a-436e-8fb9-0da6c9004464",
   "metadata": {},
   "outputs": [],
   "source": [
    "# OLD RESULTS: [300]\ttrain-rmse:0.687583\ttest-rmse:0.692817"
   ]
  },
  {
   "cell_type": "markdown",
   "id": "7392d1cf-d1f9-47a3-8411-5ca2f73e7ded",
   "metadata": {},
   "source": [
    "## Save params"
   ]
  },
  {
   "cell_type": "code",
   "execution_count": null,
   "id": "f478e90e-ce89-45ea-9fa2-5b3176f4c6bc",
   "metadata": {},
   "outputs": [],
   "source": [
    "write_params(\n",
    "    Dict(\n",
    "        \"β\" => β,\n",
    "        \"alphas\" => alphas,\n",
    "        \"bst\" => xgboost_model_fn,\n",
    "        \"error_bst\" => xgboost_error_model_fn,\n",
    "    ),\n",
    ");"
   ]
  }
 ],
 "metadata": {
  "kernelspec": {
   "display_name": "Julia 1.6.3",
   "language": "julia",
   "name": "julia-1.6"
  },
  "language_info": {
   "file_extension": ".jl",
   "mimetype": "application/julia",
   "name": "julia",
   "version": "1.6.3"
  }
 },
 "nbformat": 4,
 "nbformat_minor": 5
}
