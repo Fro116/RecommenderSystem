{
 "cells": [
  {
   "cell_type": "code",
   "execution_count": 1,
   "id": "79559bef-810a-402f-ad21-52092ec933f4",
   "metadata": {},
   "outputs": [],
   "source": [
    "name = \"CombineSignals\"\n",
    "residual_alphas = [];"
   ]
  },
  {
   "cell_type": "code",
   "execution_count": 2,
   "id": "3779f4da-b021-4fff-bbd6-5f797d26a06a",
   "metadata": {},
   "outputs": [],
   "source": [
    "using Random\n",
    "import XGBoost"
   ]
  },
  {
   "cell_type": "code",
   "execution_count": 3,
   "id": "69b5a19a-24f5-4730-afe2-f451d27d18e3",
   "metadata": {},
   "outputs": [],
   "source": [
    "using NBInclude\n",
    "@nbinclude(\"Alpha.ipynb\");"
   ]
  },
  {
   "cell_type": "code",
   "execution_count": 4,
   "id": "5b499c9d-91fd-45bd-a632-592bb8a685e5",
   "metadata": {},
   "outputs": [],
   "source": [
    "@nbinclude(\"XGBoostFeatures.ipynb\");"
   ]
  },
  {
   "cell_type": "markdown",
   "id": "aa36180e-ce49-4387-8e37-de289d51a3da",
   "metadata": {},
   "source": [
    "## Train a linear model"
   ]
  },
  {
   "cell_type": "code",
   "execution_count": 5,
   "id": "fe4ad27b-d09d-4679-8632-fc880fa82503",
   "metadata": {},
   "outputs": [
    {
     "data": {
      "text/plain": [
       "15-element Vector{String}:\n",
       " \"UserItemBiases\"\n",
       " \"ItemCF.16\"\n",
       " \"ItemCF.64\"\n",
       " \"ItemCF.256\"\n",
       " \"ItemCF.1024\"\n",
       " \"ItemCFResid.16\"\n",
       " \"ItemCFResid.64\"\n",
       " \"ItemCFResid.256\"\n",
       " \"ItemCFResid.1024\"\n",
       " \"MatrixFactorization.10\"\n",
       " \"MatrixFactorization.20\"\n",
       " \"MatrixFactorization.40\"\n",
       " \"ItemCFRelated.strict_relations\"\n",
       " \"ItemCFEmbed.1024\"\n",
       " \"UserCF.256\""
      ]
     },
     "execution_count": 5,
     "metadata": {},
     "output_type": "execute_result"
    }
   ],
   "source": [
    "downcast_to_int(x) = isinteger(x) ? Int(x) : x\n",
    "alphas = [\n",
    "    [\"UserItemBiases\"]\n",
    "    [\"ItemCF.$K\" for K in downcast_to_int.([2^4, 2^6, 2^8, 2^10])]\n",
    "    [\"ItemCFResid.$K\" for K in downcast_to_int.([2^4, 2^6, 2^8, 2^10])]\n",
    "    [\"MatrixFactorization.$K\" for K in downcast_to_int.([10, 20, 40])]\n",
    "    [\"ItemCFRelated.$name\" for name in [\"strict_relations\"]]\n",
    "    [\"ItemCFEmbed.1024\"] # 0.12%\n",
    "    [\"UserCF.256\"] # 0.18%\n",
    "]"
   ]
  },
  {
   "cell_type": "code",
   "execution_count": 6,
   "id": "bfdafacf-3939-4348-adbb-956df1c509a7",
   "metadata": {},
   "outputs": [
    {
     "name": "stderr",
     "output_type": "stream",
     "text": [
      "\u001b[32mProgress: 100%|█████████████████████████████████████████| Time: 0:00:21\u001b[39m\n"
     ]
    },
    {
     "data": {
      "text/plain": [
       "15-element Vector{Float64}:\n",
       " 0.9915105339507934\n",
       " 0.10254886875521553\n",
       " 0.09787259267447602\n",
       " 0.020612731821270627\n",
       " 0.31986255002604275\n",
       " 0.005454023205743808\n",
       " 0.03989031514846255\n",
       " 0.17609009549520513\n",
       " 1.5825382028485147\n",
       " 0.15385000641646215\n",
       " 0.14219680922421626\n",
       " 0.1422098479910885\n",
       " 3.8177026296046708\n",
       " 0.12025541716624263\n",
       " 0.9162826622702647"
      ]
     },
     "execution_count": 6,
     "metadata": {},
     "output_type": "execute_result"
    }
   ],
   "source": [
    "β = get_indep(\"validation\", alphas) \\ get_dep(\"validation\")"
   ]
  },
  {
   "cell_type": "code",
   "execution_count": 7,
   "id": "aeb58470-65ed-4227-806d-e4e85a0b0a47",
   "metadata": {
    "tags": []
   },
   "outputs": [],
   "source": [
    "function evaluate(X, y, β)\n",
    "    y_pred = X * β\n",
    "    y_pred = clamp.(y_pred, 1, 10)\n",
    "    rmse(y, y_pred), mae(y, y_pred), r2(y, y_pred), mse(y, y_pred)\n",
    "end;"
   ]
  },
  {
   "cell_type": "code",
   "execution_count": 8,
   "id": "ab934309-5b2a-47ab-9506-43c59ee7ea23",
   "metadata": {},
   "outputs": [
    {
     "name": "stderr",
     "output_type": "stream",
     "text": [
      "\u001b[32mProgress: 100%|█████████████████████████████████████████| Time: 0:00:23\u001b[39m\n"
     ]
    },
    {
     "data": {
      "text/plain": [
       "(1.0906643819307333, 0.7869540685696844, 0.624881957745506, 1.1895487940123486)"
      ]
     },
     "execution_count": 8,
     "metadata": {},
     "output_type": "execute_result"
    }
   ],
   "source": [
    "evaluate(get_indep(\"test\", alphas), get_dep(\"test\"), β)"
   ]
  },
  {
   "cell_type": "code",
   "execution_count": 9,
   "id": "79238904-071d-409c-8136-f8f42b381826",
   "metadata": {},
   "outputs": [],
   "source": [
    "# 1.0906643819307333"
   ]
  },
  {
   "cell_type": "markdown",
   "id": "0859f0de-2e2c-4ef1-a6e5-26f1425e0aea",
   "metadata": {},
   "source": [
    "## Train an XGBoost model"
   ]
  },
  {
   "cell_type": "code",
   "execution_count": 10,
   "id": "6cd96824-82ef-4225-8e75-f0650d439528",
   "metadata": {},
   "outputs": [],
   "source": [
    "function get_xgboost_split(split, training_perc, Y, extra_features)\n",
    "    Random.seed!(20220104)\n",
    "    val_rows = length(get_dep(split))\n",
    "    val_shuffle = shuffle(1:val_rows)\n",
    "    val_train_size = Int(round(val_rows * training_perc))\n",
    "    features = get_augmented_indep(split, alphas, β)\n",
    "    if !isnothing(extra_features)\n",
    "        features = hcat(features, extra_features)\n",
    "    end\n",
    "    X = convert.(Float32, features)\n",
    "    X_val_train = X[val_shuffle[1:val_train_size], :]\n",
    "    Y_val_train = Y[val_shuffle[1:val_train_size]]\n",
    "    X_val_test = X[val_shuffle[val_train_size+1:end], :]\n",
    "    Y_val_test = Y[val_shuffle[val_train_size+1:end]]\n",
    "    (\n",
    "        XGBoost.DMatrix(X_val_train, label = Y_val_train),\n",
    "        XGBoost.DMatrix(X_val_test, label = Y_val_test),\n",
    "    )\n",
    "end;"
   ]
  },
  {
   "cell_type": "code",
   "execution_count": 11,
   "id": "ea202762-ec96-49bc-bf1a-493ee9018746",
   "metadata": {},
   "outputs": [],
   "source": [
    "function get_xgboost_dep(split)\n",
    "    convert.(Float32, get_dep(split) - get_indep(split, alphas) * β)\n",
    "end\n",
    "\n",
    "function train_model(split, Y, extra_features = nothing)\n",
    "    # TODO early stopping\n",
    "    training_split_perc = 0.9\n",
    "    dtrain, dtest = get_xgboost_split(split, training_split_perc, Y, extra_features)\n",
    "    watchlist =\n",
    "        training_split_perc == 1 ? [(dtrain, \"train\")] :\n",
    "        [(dtrain, \"train\"), (dtest, \"test\")]\n",
    "    XGBoost.xgboost(\n",
    "        dtrain,\n",
    "        300,\n",
    "        watchlist = watchlist,\n",
    "        objective = \"reg:squarederror\",\n",
    "        nthread = Threads.nthreads(),\n",
    "    )\n",
    "end;"
   ]
  },
  {
   "cell_type": "code",
   "execution_count": 12,
   "id": "5c31abce-ab2b-4070-b033-54c0dd98f86f",
   "metadata": {},
   "outputs": [],
   "source": [
    "function evaluate(bst)\n",
    "    X_test = convert.(Float32, get_augmented_indep(\"test\", alphas, β))\n",
    "    Y_test = convert.(Float32, get_dep(\"test\"))\n",
    "    xgboost_preds = XGBoost.predict(bst, X_test)\n",
    "    preds = get_indep(\"test\", alphas) * β + xgboost_preds\n",
    "    rmse(Y_test, clamp.(preds, 1, 10)),\n",
    "    mae(Y_test, clamp.(preds, 1, 10)),\n",
    "    mean(abs.(xgboost_preds))\n",
    "end;"
   ]
  },
  {
   "cell_type": "code",
   "execution_count": null,
   "id": "e45466cb-45f2-442c-ac96-2d6a026787da",
   "metadata": {
    "tags": []
   },
   "outputs": [
    {
     "name": "stderr",
     "output_type": "stream",
     "text": [
      "\u001b[32mProgress: 100%|█████████████████████████████████████████| Time: 0:00:02\u001b[39m\n",
      "\u001b[32mProgress: 100%|█████████████████████████████████████████| Time: 0:00:02\u001b[39m\n",
      "\u001b[32mProgress: 100%|█████████████████████████████████████████| Time: 0:00:01\u001b[39m\n",
      "\u001b[32mProgress: 100%|███████████████████████████| Time: 0:00:02 ( 0.59 μs/it)\u001b[39mit)\u001b[39m\n",
      "\u001b[32mProgress: 100%|███████████████████████████| Time: 0:00:00 ( 0.21 μs/it)\u001b[39m\n",
      "\u001b[32mProgress: 100%|███████████████████████████| Time: 0:00:02 ( 0.48 μs/it)\u001b[39m\n",
      "\u001b[32mProgress: 100%|███████████████████████████| Time: 0:00:04 ( 1.13 μs/it)\u001b[39m/it)\u001b[39m\n",
      "\u001b[32mProgress: 100%|███████████████████████████| Time: 0:00:00 ( 0.10 ms/it)\u001b[39m\n",
      "\u001b[32mProgress: 100%|███████████████████████████| Time: 0:00:04 ( 1.03 μs/it)\u001b[39m\n",
      "\u001b[32mProgress: 100%|███████████████████████████| Time: 0:00:04 ( 1.15 μs/it)\u001b[39m\n",
      "\u001b[32mProgress: 100%|███████████████████████████| Time: 0:00:04 ( 1.04 μs/it)\u001b[39m\n",
      "\u001b[32mProgress: 100%|███████████████████████████| Time: 0:00:00 ( 1.37 μs/it)\u001b[39m\n"
     ]
    }
   ],
   "source": [
    "bst = train_model(\"validation\", get_xgboost_dep(\"validation\"));"
   ]
  },
  {
   "cell_type": "code",
   "execution_count": null,
   "id": "c56cc8ae-cfc1-489a-b38b-63c1264d6e08",
   "metadata": {},
   "outputs": [],
   "source": [
    "#[100]\ttrain-rmse:1.074687\n",
    "#(1.0776735836062472, 0.7779856850061714, 0.11236783f0)\n",
    "\n",
    "# [300]\ttrain-rmse:1.066483\n",
    "# 1.0753573535488306"
   ]
  },
  {
   "cell_type": "code",
   "execution_count": null,
   "id": "ebda1ed5-56fb-410c-a9e2-9d4d446780a7",
   "metadata": {
    "tags": []
   },
   "outputs": [],
   "source": [
    "@debug \"XGBoost model test (rmse, mae) = $(evaluate(bst))\""
   ]
  },
  {
   "cell_type": "code",
   "execution_count": null,
   "id": "26c8c072-7de2-4064-9e81-e60d92489474",
   "metadata": {},
   "outputs": [],
   "source": [
    "xgboost_model_fn = \"../../data/alphas/$name/xgb.model\"\n",
    "XGBoost.save(bst, xgboost_model_fn)"
   ]
  },
  {
   "cell_type": "markdown",
   "id": "b1ecfe37-557d-4c20-8b24-a477ef1d8048",
   "metadata": {},
   "source": [
    "## Train a model to predict confidence intervals"
   ]
  },
  {
   "cell_type": "code",
   "execution_count": null,
   "id": "0db0abb5-64cd-4272-972e-b382f6a4e4c5",
   "metadata": {},
   "outputs": [],
   "source": [
    "xgboost_model_fn = \"../../data/alphas/$name/xgb.model\"\n",
    "bst = XGBoost.Booster(model_file = xgboost_model_fn)"
   ]
  },
  {
   "cell_type": "code",
   "execution_count": null,
   "id": "2eb4f12d-c352-4f7c-9c5b-1aceeecc7645",
   "metadata": {},
   "outputs": [],
   "source": [
    "function get_error(bst, split)\n",
    "    X_test = convert.(Float32, get_augmented_indep(split, alphas, β))\n",
    "    Y_test = convert.(Float32, get_dep(split))\n",
    "    bst_preds = XGBoost.predict(bst, X_test)\n",
    "    preds = bst_preds + get_indep(split, alphas) * β\n",
    "    errors = abs.(Y_test - preds)\n",
    "    df = get_split(split)\n",
    "    RatingsDataset(df.user, df.item, errors), bst_preds\n",
    "end;"
   ]
  },
  {
   "cell_type": "code",
   "execution_count": null,
   "id": "63b96bcf-cc60-4622-8e6a-c16a3ae064c7",
   "metadata": {},
   "outputs": [],
   "source": [
    "errors, test_preds = get_error(bst, \"test\");"
   ]
  },
  {
   "cell_type": "code",
   "execution_count": null,
   "id": "65bace96-b375-4aff-8fbb-e1c23b9906f0",
   "metadata": {
    "tags": []
   },
   "outputs": [],
   "source": [
    "extra_error_features = hcat(test_preds, count_feature(\"test\", true; source = \"validation\"));"
   ]
  },
  {
   "cell_type": "code",
   "execution_count": null,
   "id": "dda6cedb-c90d-4154-b642-47714ebf209e",
   "metadata": {
    "tags": []
   },
   "outputs": [],
   "source": [
    "error_bst = train_model(\"test\", errors.rating, extra_error_features);"
   ]
  },
  {
   "cell_type": "code",
   "execution_count": null,
   "id": "3461f372-33a4-4608-8f80-39a617331cd7",
   "metadata": {},
   "outputs": [],
   "source": [
    "xgboost_error_model_fn = \"../../data/alphas/$name/xgb_error.model\"\n",
    "XGBoost.save(error_bst, xgboost_error_model_fn)"
   ]
  },
  {
   "cell_type": "code",
   "execution_count": null,
   "id": "55d55774-e03a-436e-8fb9-0da6c9004464",
   "metadata": {},
   "outputs": [],
   "source": [
    "# [300]\ttrain-rmse:0.687583\ttest-rmse:0.692817"
   ]
  },
  {
   "cell_type": "markdown",
   "id": "7392d1cf-d1f9-47a3-8411-5ca2f73e7ded",
   "metadata": {},
   "source": [
    "## Save params"
   ]
  },
  {
   "cell_type": "code",
   "execution_count": null,
   "id": "f478e90e-ce89-45ea-9fa2-5b3176f4c6bc",
   "metadata": {},
   "outputs": [],
   "source": [
    "write_params(\n",
    "    Dict(\n",
    "        \"β\" => β,\n",
    "        \"alphas\" => alphas,\n",
    "        \"bst\" => xgboost_model_fn,\n",
    "        \"error_bst\" => xgboost_error_model_fn,\n",
    "    ),\n",
    ");"
   ]
  }
 ],
 "metadata": {
  "kernelspec": {
   "display_name": "Julia 1.6.3",
   "language": "julia",
   "name": "julia-1.6"
  },
  "language_info": {
   "file_extension": ".jl",
   "mimetype": "application/julia",
   "name": "julia",
   "version": "1.6.3"
  }
 },
 "nbformat": 4,
 "nbformat_minor": 5
}
