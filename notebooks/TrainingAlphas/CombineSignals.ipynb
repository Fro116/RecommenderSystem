{
 "cells": [
  {
   "cell_type": "code",
   "execution_count": 1,
   "id": "79559bef-810a-402f-ad21-52092ec933f4",
   "metadata": {},
   "outputs": [],
   "source": [
    "name = \"CombineSignals\"\n",
    "residual_alphas = [];"
   ]
  },
  {
   "cell_type": "code",
   "execution_count": 2,
   "id": "69b5a19a-24f5-4730-afe2-f451d27d18e3",
   "metadata": {},
   "outputs": [],
   "source": [
    "using NBInclude\n",
    "@nbinclude(\"Alpha.ipynb\");"
   ]
  },
  {
   "cell_type": "code",
   "execution_count": 3,
   "id": "fe4ad27b-d09d-4679-8632-fc880fa82503",
   "metadata": {},
   "outputs": [],
   "source": [
    "alphas = [\"UserItemBiases\", \"MatrixFactorization\", \"ItemCF\", \"ItemEmbedCF\"];"
   ]
  },
  {
   "cell_type": "code",
   "execution_count": 4,
   "id": "aeb58470-65ed-4227-806d-e4e85a0b0a47",
   "metadata": {},
   "outputs": [],
   "source": [
    "function evaluate(X, y, β)\n",
    "    y_pred = X * β\n",
    "    rmse(y, y_pred), mae(y, y_pred), r2(y, y_pred)\n",
    "end;"
   ]
  },
  {
   "cell_type": "code",
   "execution_count": 5,
   "id": "e9c8053f-2038-4d35-94bf-bf0f737f457a",
   "metadata": {},
   "outputs": [],
   "source": [
    "function get_dep(split)\n",
    "    return get_split(split).rating\n",
    "end\n",
    "\n",
    "function get_indep(split, alphas)\n",
    "    users = get_split(split).user\n",
    "    X = zeros(length(users), length(alphas))\n",
    "    for j = 1:length(alphas)\n",
    "        X[:, j] = get_alpha(alphas[j], split).rating\n",
    "    end\n",
    "    X\n",
    "end;"
   ]
  },
  {
   "cell_type": "code",
   "execution_count": 6,
   "id": "bfdafacf-3939-4348-adbb-956df1c509a7",
   "metadata": {},
   "outputs": [
    {
     "data": {
      "text/plain": [
       "4-element Vector{Float64}:\n",
       " 0.9939583729002062\n",
       " 0.38023606878549543\n",
       " 0.49325456733704615\n",
       " 0.2642719012058097"
      ]
     },
     "execution_count": 6,
     "metadata": {},
     "output_type": "execute_result"
    }
   ],
   "source": [
    "β = get_indep(\"validation\", alphas) \\ get_dep(\"validation\")"
   ]
  },
  {
   "cell_type": "code",
   "execution_count": 7,
   "id": "9a37e610-0eaa-4ae8-9362-8e48c4402f63",
   "metadata": {},
   "outputs": [
    {
     "data": {
      "text/plain": [
       "(1.1271179449743902, 0.8239820342739057, 0.5993156215547039)"
      ]
     },
     "execution_count": 7,
     "metadata": {},
     "output_type": "execute_result"
    }
   ],
   "source": [
    "evaluate(get_indep(\"validation\", alphas), get_dep(\"validation\"), β)"
   ]
  },
  {
   "cell_type": "code",
   "execution_count": 8,
   "id": "82ffd4f5-beb1-4101-85c2-a5f6e88314d2",
   "metadata": {
    "tags": []
   },
   "outputs": [
    {
     "data": {
      "text/plain": [
       "(1.1274617709707389, 0.8243731412856492, 0.5991431195985182)"
      ]
     },
     "execution_count": 8,
     "metadata": {},
     "output_type": "execute_result"
    }
   ],
   "source": [
    "evaluate(get_indep(\"test\", alphas), get_dep(\"test\"), β)"
   ]
  },
  {
   "cell_type": "markdown",
   "id": "1be1873e-48e6-47cd-aed2-c8c47200f178",
   "metadata": {},
   "source": [
    "## TODO store Coefs"
   ]
  }
 ],
 "metadata": {
  "kernelspec": {
   "display_name": "Julia 1.6.3",
   "language": "julia",
   "name": "julia-1.6"
  },
  "language_info": {
   "file_extension": ".jl",
   "mimetype": "application/julia",
   "name": "julia",
   "version": "1.6.3"
  }
 },
 "nbformat": 4,
 "nbformat_minor": 5
}
