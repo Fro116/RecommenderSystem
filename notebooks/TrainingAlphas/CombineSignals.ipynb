{
 "cells": [
  {
   "cell_type": "code",
   "execution_count": 1,
   "id": "79559bef-810a-402f-ad21-52092ec933f4",
   "metadata": {},
   "outputs": [],
   "source": [
    "name = \"CombineSignals\"\n",
    "residual_alphas = [];"
   ]
  },
  {
   "cell_type": "code",
   "execution_count": 2,
   "id": "69b5a19a-24f5-4730-afe2-f451d27d18e3",
   "metadata": {},
   "outputs": [],
   "source": [
    "using NBInclude\n",
    "@nbinclude(\"Alpha.ipynb\");"
   ]
  },
  {
   "cell_type": "code",
   "execution_count": 9,
   "id": "fe4ad27b-d09d-4679-8632-fc880fa82503",
   "metadata": {},
   "outputs": [],
   "source": [
    "alphas = [\n",
    "    \"UserItemBiases\",\n",
    "    \"MatrixFactorization10\",\n",
    "    \"MatrixFactorization20\",\n",
    "    \"MatrixFactorization40\",\n",
    "    \"ItemCF.16\",\n",
    "    \"ItemCF.64\",\n",
    "    \"ItemCF.256\",\n",
    "    \"ItemCF.1024\",\n",
    "];"
   ]
  },
  {
   "cell_type": "code",
   "execution_count": 10,
   "id": "aeb58470-65ed-4227-806d-e4e85a0b0a47",
   "metadata": {},
   "outputs": [],
   "source": [
    "function evaluate(X, y, β)\n",
    "    y_pred = X * β\n",
    "    y_pred = clamp.(y_pred, 1, 10)\n",
    "    rmse(y, y_pred), mae(y, y_pred), r2(y, y_pred), mse(y, y_pred)\n",
    "end;"
   ]
  },
  {
   "cell_type": "code",
   "execution_count": 11,
   "id": "e9c8053f-2038-4d35-94bf-bf0f737f457a",
   "metadata": {},
   "outputs": [],
   "source": [
    "function get_dep(split)\n",
    "    return get_split(split).rating\n",
    "end\n",
    "\n",
    "function get_indep(split, alphas)\n",
    "    users = get_split(split).user\n",
    "    X = zeros(length(users), length(alphas))\n",
    "    for j = 1:length(alphas)\n",
    "        X[:, j] = get_alpha(alphas[j], split).rating\n",
    "    end\n",
    "    X\n",
    "end;"
   ]
  },
  {
   "cell_type": "code",
   "execution_count": 12,
   "id": "bfdafacf-3939-4348-adbb-956df1c509a7",
   "metadata": {},
   "outputs": [
    {
     "data": {
      "text/plain": [
       "7-element Vector{Float64}:\n",
       "  0.9944237538411016\n",
       "  0.1291942937061494\n",
       "  0.1421369036591969\n",
       "  0.19194364899923477\n",
       "  0.18553389207088772\n",
       " -0.046876241875641614\n",
       "  0.5504212539839372"
      ]
     },
     "execution_count": 12,
     "metadata": {},
     "output_type": "execute_result"
    }
   ],
   "source": [
    "β = get_indep(\"validation\", alphas) \\ get_dep(\"validation\")"
   ]
  },
  {
   "cell_type": "code",
   "execution_count": 7,
   "id": "96a8b0d8-b45a-48b7-bee7-de8119e1b912",
   "metadata": {},
   "outputs": [
    {
     "data": {
      "text/plain": [
       "(1.1025944225694135, 0.7998772497204256, 0.616561899248498, 1.2157144606811783)"
      ]
     },
     "execution_count": 7,
     "metadata": {},
     "output_type": "execute_result"
    }
   ],
   "source": [
    "evaluate(get_indep(\"validation\", alphas), get_dep(\"validation\"), β)"
   ]
  },
  {
   "cell_type": "code",
   "execution_count": 8,
   "id": "82ffd4f5-beb1-4101-85c2-a5f6e88314d2",
   "metadata": {
    "tags": []
   },
   "outputs": [
    {
     "data": {
      "text/plain": [
       "(1.1027292962553725, 0.7999783483150411, 0.616536954272277, 1.216011900819869)"
      ]
     },
     "execution_count": 8,
     "metadata": {},
     "output_type": "execute_result"
    }
   ],
   "source": [
    "evaluate(get_indep(\"test\", alphas), get_dep(\"test\"), β)"
   ]
  },
  {
   "cell_type": "markdown",
   "id": "1be1873e-48e6-47cd-aed2-c8c47200f178",
   "metadata": {},
   "source": [
    "## TODO store Coefs"
   ]
  }
 ],
 "metadata": {
  "kernelspec": {
   "display_name": "Julia 1.6.3",
   "language": "julia",
   "name": "julia-1.6"
  },
  "language_info": {
   "file_extension": ".jl",
   "mimetype": "application/julia",
   "name": "julia",
   "version": "1.6.3"
  }
 },
 "nbformat": 4,
 "nbformat_minor": 5
}
