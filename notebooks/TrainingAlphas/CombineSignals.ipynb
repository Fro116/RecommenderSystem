{
 "cells": [
  {
   "cell_type": "code",
   "execution_count": 1,
   "id": "79559bef-810a-402f-ad21-52092ec933f4",
   "metadata": {},
   "outputs": [],
   "source": [
    "name = \"CombineSignals\"\n",
    "residual_alphas = [];"
   ]
  },
  {
   "cell_type": "code",
   "execution_count": 2,
   "id": "3779f4da-b021-4fff-bbd6-5f797d26a06a",
   "metadata": {},
   "outputs": [],
   "source": [
    "using Random\n",
    "import XGBoost"
   ]
  },
  {
   "cell_type": "code",
   "execution_count": 3,
   "id": "69b5a19a-24f5-4730-afe2-f451d27d18e3",
   "metadata": {},
   "outputs": [],
   "source": [
    "using NBInclude\n",
    "@nbinclude(\"Alpha.ipynb\");"
   ]
  },
  {
   "cell_type": "code",
   "execution_count": 4,
   "id": "5b499c9d-91fd-45bd-a632-592bb8a685e5",
   "metadata": {},
   "outputs": [],
   "source": [
    "@nbinclude(\"XGBoostFeatures.ipynb\");"
   ]
  },
  {
   "cell_type": "markdown",
   "id": "aa36180e-ce49-4387-8e37-de289d51a3da",
   "metadata": {},
   "source": [
    "## Train a linear model"
   ]
  },
  {
   "cell_type": "code",
   "execution_count": 5,
   "id": "fe4ad27b-d09d-4679-8632-fc880fa82503",
   "metadata": {},
   "outputs": [
    {
     "data": {
      "text/plain": [
       "15-element Vector{String}:\n",
       " \"UserItemBiases\"\n",
       " \"ItemCF.16\"\n",
       " \"ItemCF.64\"\n",
       " \"ItemCF.256\"\n",
       " \"ItemCF.1024\"\n",
       " \"ItemCFResid.16\"\n",
       " \"ItemCFResid.64\"\n",
       " \"ItemCFResid.256\"\n",
       " \"ItemCFResid.1024\"\n",
       " \"MatrixFactorization.10\"\n",
       " \"MatrixFactorization.20\"\n",
       " \"MatrixFactorization.40\"\n",
       " \"ItemCFRelated.strict_relations\"\n",
       " \"UserCF.256\"\n",
       " \"ItemCFEmbed.1024\""
      ]
     },
     "execution_count": 5,
     "metadata": {},
     "output_type": "execute_result"
    }
   ],
   "source": [
    "downcast_to_int(x) = isinteger(x) ? Int(x) : x\n",
    "alphas = [\n",
    "    [\"UserItemBiases\"]\n",
    "    [\"ItemCF.$K\" for K in downcast_to_int.([2^4, 2^6, 2^8, 2^10])]\n",
    "    [\"ItemCFResid.$K\" for K in downcast_to_int.([2^4, 2^6, 2^8, 2^10])]\n",
    "    [\"MatrixFactorization.$K\" for K in downcast_to_int.([10, 20, 40])]\n",
    "    [\"ItemCFRelated.$name\" for name in [\"strict_relations\"]]\n",
    "    [\"UserCF.256\"] # 0.18%\n",
    "    [\"ItemCFEmbed.1024\"] # 0.12%\n",
    "]"
   ]
  },
  {
   "cell_type": "code",
   "execution_count": 6,
   "id": "bfdafacf-3939-4348-adbb-956df1c509a7",
   "metadata": {},
   "outputs": [
    {
     "name": "stderr",
     "output_type": "stream",
     "text": [
      "\u001b[32mProgress: 100%|█████████████████████████████████████████| Time: 0:00:03\u001b[39m\n"
     ]
    },
    {
     "data": {
      "text/plain": [
       "15-element Vector{Float64}:\n",
       " 0.9915105339507934\n",
       " 0.10254886875521553\n",
       " 0.09787259267447602\n",
       " 0.020612731821270627\n",
       " 0.31986255002604275\n",
       " 0.005454023205743808\n",
       " 0.03989031514846255\n",
       " 0.17609009549520513\n",
       " 1.5825382028485147\n",
       " 0.15385000641646215\n",
       " 0.14219680922421626\n",
       " 0.1422098479910885\n",
       " 3.8177026296046708\n",
       " 0.9162826622702647\n",
       " 0.12025541716624263"
      ]
     },
     "execution_count": 6,
     "metadata": {},
     "output_type": "execute_result"
    }
   ],
   "source": [
    "β = get_indep(\"validation\", alphas) \\ get_dep(\"validation\")"
   ]
  },
  {
   "cell_type": "code",
   "execution_count": 7,
   "id": "aeb58470-65ed-4227-806d-e4e85a0b0a47",
   "metadata": {
    "tags": []
   },
   "outputs": [],
   "source": [
    "function evaluate(X, y, β)\n",
    "    y_pred = X * β\n",
    "    y_pred = clamp.(y_pred, 1, 10)\n",
    "    rmse(y, y_pred), mae(y, y_pred), r2(y, y_pred), mse(y, y_pred)\n",
    "end;"
   ]
  },
  {
   "cell_type": "code",
   "execution_count": 8,
   "id": "ab934309-5b2a-47ab-9506-43c59ee7ea23",
   "metadata": {},
   "outputs": [
    {
     "name": "stderr",
     "output_type": "stream",
     "text": [
      "\u001b[32mProgress: 100%|█████████████████████████████████████████| Time: 0:00:22\u001b[39m\n"
     ]
    },
    {
     "data": {
      "text/plain": [
       "(1.0906643819307333, 0.7869540685696844, 0.624881957745506, 1.1895487940123486)"
      ]
     },
     "execution_count": 8,
     "metadata": {},
     "output_type": "execute_result"
    }
   ],
   "source": [
    "evaluate(get_indep(\"test\", alphas), get_dep(\"test\"), β)"
   ]
  },
  {
   "cell_type": "markdown",
   "id": "0859f0de-2e2c-4ef1-a6e5-26f1425e0aea",
   "metadata": {},
   "source": [
    "## Train an XGBoost model"
   ]
  },
  {
   "cell_type": "code",
   "execution_count": 22,
   "id": "6cd96824-82ef-4225-8e75-f0650d439528",
   "metadata": {},
   "outputs": [],
   "source": [
    "function get_xgboost_split(split, training_perc, Y, extra_features)\n",
    "    Random.seed!(20220104)\n",
    "    val_rows = length(get_dep(split))\n",
    "    val_shuffle = shuffle(1:val_rows)\n",
    "    val_train_size = Int(round(val_rows * training_perc))\n",
    "    features = get_augmented_indep(split, alphas, β)\n",
    "    if !isnothing(extra_features)\n",
    "        features = hcat(features, extra_features)\n",
    "    end\n",
    "    X = convert.(Float32, features)\n",
    "    X_val_train = X[val_shuffle[1:val_train_size], :]\n",
    "    Y_val_train = Y[val_shuffle[1:val_train_size]]\n",
    "    X_val_test = X[val_shuffle[val_train_size+1:end], :]\n",
    "    Y_val_test = Y[val_shuffle[val_train_size+1:end]]\n",
    "    (\n",
    "        XGBoost.DMatrix(X_val_train, label = Y_val_train),\n",
    "        XGBoost.DMatrix(X_val_test, label = Y_val_test),\n",
    "    )\n",
    "end;"
   ]
  },
  {
   "cell_type": "code",
   "execution_count": 23,
   "id": "ea202762-ec96-49bc-bf1a-493ee9018746",
   "metadata": {},
   "outputs": [],
   "source": [
    "function get_xgboost_dep(split)\n",
    "    convert.(Float32, get_dep(split) - get_indep(split, alphas) * β)\n",
    "end\n",
    "\n",
    "function train_model(split, Y, extra_features = nothing)\n",
    "    # TODO early stopping\n",
    "    training_split_perc = 1.0\n",
    "    dtrain, dtest = get_xgboost_split(split, training_split_perc, Y, extra_features)\n",
    "    watchlist =\n",
    "        training_split_perc == 1 ? [(dtrain, \"train\")] :\n",
    "        [(dtrain, \"train\"), (dtest, \"test\")]\n",
    "    XGBoost.xgboost(\n",
    "        dtrain,\n",
    "        100,\n",
    "        watchlist = watchlist,\n",
    "        objective = \"reg:squarederror\",\n",
    "        nthread = Threads.nthreads(),\n",
    "    )\n",
    "end;"
   ]
  },
  {
   "cell_type": "code",
   "execution_count": 11,
   "id": "5c31abce-ab2b-4070-b033-54c0dd98f86f",
   "metadata": {},
   "outputs": [],
   "source": [
    "function evaluate(bst)\n",
    "    X_test = convert.(Float32, get_augmented_indep(\"test\", alphas, β))\n",
    "    Y_test = convert.(Float32, get_dep(\"test\"))\n",
    "    xgboost_preds = XGBoost.predict(bst, X_test)\n",
    "    preds = get_indep(\"test\", alphas) * β + xgboost_preds\n",
    "    rmse(Y_test, clamp.(preds, 1, 10)),\n",
    "    mae(Y_test, clamp.(preds, 1, 10)),\n",
    "    mean(abs.(xgboost_preds))\n",
    "end;"
   ]
  },
  {
   "cell_type": "code",
   "execution_count": 12,
   "id": "e45466cb-45f2-442c-ac96-2d6a026787da",
   "metadata": {
    "tags": []
   },
   "outputs": [
    {
     "name": "stderr",
     "output_type": "stream",
     "text": [
      "\u001b[32mProgress: 100%|█████████████████████████████████████████| Time: 0:00:02\u001b[39m\n",
      "\u001b[32mProgress: 100%|█████████████████████████████████████████| Time: 0:00:01\u001b[39m\n",
      "\u001b[32mProgress: 100%|█████████████████████████████████████████| Time: 0:00:01\u001b[39m\n",
      "\u001b[32mProgress: 100%|███████████████████████████| Time: 0:00:00 ( 0.23 μs/it)\u001b[39mit)\u001b[39m\n",
      "\u001b[32mProgress: 100%|███████████████████████████| Time: 0:00:01 ( 0.40 μs/it)\u001b[39m\n",
      "\u001b[32mProgress: 100%|███████████████████████████| Time: 0:00:03 ( 0.84 μs/it)\u001b[39m\n",
      "\u001b[32mProgress: 100%|███████████████████████████| Time: 0:00:03 ( 0.84 μs/it)\u001b[39m\n",
      "\u001b[32mProgress: 100%|███████████████████████████| Time: 0:00:03 ( 0.80 μs/it)\u001b[39m\n",
      "\u001b[32mProgress: 100%|███████████████████████████| Time: 0:00:03 ( 0.80 μs/it)\u001b[39m\n",
      "\u001b[32mProgress: 100%|███████████████████████████| Time: 0:00:00 ( 1.31 μs/it)\u001b[39m\n",
      "\u001b[32mProgress: 100%|███████████████████████████| Time: 0:00:00 ( 1.14 μs/it)\u001b[39m\n",
      "\u001b[38;5;4m\u001b[1m[ \u001b[22m\u001b[39m\u001b[38;5;4m\u001b[1mDebug: \u001b[22m\u001b[39m20220116 20:08:14 nsfw categories: String7[\"white\"]\n",
      "\u001b[32mProgress: 100%|███████████████████████████| Time: 0:00:01 ( 2.21 μs/it)\u001b[39mm\n",
      "\u001b[38;5;4m\u001b[1m[ \u001b[22m\u001b[39m\u001b[38;5;4m\u001b[1mDebug: \u001b[22m\u001b[39m20220116 20:08:16 medium categories: String7[\"movie\", \"music\", \"ona\", \"ova\", \"special\", \"tv\", \"unknown\"]\n",
      "\u001b[32mProgress: 100%|███████████████████████████| Time: 0:00:00 ( 1.84 μs/it)\u001b[39m\n",
      "\u001b[32mProgress: 100%|███████████████████████████| Time: 0:00:00 ( 1.10 μs/it)\u001b[39m\n",
      "\u001b[38;5;4m\u001b[1m[ \u001b[22m\u001b[39m\u001b[38;5;4m\u001b[1mDebug: \u001b[22m\u001b[39m20220116 20:08:20 source categories: String15[\"4_koma_manga\", \"NaN\", \"book\", \"card_game\", \"digital_manga\", \"game\", \"light_novel\", \"manga\", \"mixed_media\", \"music\", \"novel\", \"original\", \"other\", \"picture_book\", \"radio\", \"visual_novel\", \"web_manga\"]\n",
      "\u001b[32mProgress: 100%|███████████████████████████| Time: 0:00:01 ( 2.09 μs/it)\u001b[39mm\n",
      "\u001b[32mProgress: 100%|███████████████████████████| Time: 0:00:00 ( 1.02 μs/it)\u001b[39m\n",
      "\u001b[38;5;4m\u001b[1m[ \u001b[22m\u001b[39m\u001b[38;5;4m\u001b[1mDebug: \u001b[22m\u001b[39m20220116 20:08:24 start_year categories: [1915.0, 1920.0, 1925.0, 1930.0, 1935.0, 1940.0, 1945.0, 1950.0, 1955.0, 1960.0, 1965.0, 1970.0, 1975.0, 1980.0, 1985.0, 1990.0, 1995.0, 2000.0, 2005.0, 2010.0, 2015.0, 2020.0, 2025.0, 2030.0, 2035.0]\n",
      "\u001b[32mProgress: 100%|███████████████████████████| Time: 0:00:04 ( 0.99 μs/it)\u001b[39m\n",
      "\u001b[32mProgress: 100%|███████████████████████████| Time: 0:00:00 ( 0.87 μs/it)\u001b[39m\n",
      "\u001b[38;5;4m\u001b[1m[ \u001b[22m\u001b[39m\u001b[38;5;4m\u001b[1mDebug: \u001b[22m\u001b[39m20220116 20:08:32 end_year categories: [1915.0, 1920.0, 1925.0, 1930.0, 1935.0, 1940.0, 1945.0, 1950.0, 1955.0, 1960.0, 1965.0, 1970.0, 1975.0, 1980.0, 1985.0, 1990.0, 1995.0, 2000.0, 2005.0, 2010.0, 2015.0, 2020.0, 2025.0, 2030.0, 2035.0]\n",
      "\u001b[32mProgress: 100%|███████████████████████████| Time: 0:00:04 ( 0.97 μs/it)\u001b[39m\n",
      "\u001b[32mProgress: 100%|███████████████████████████| Time: 0:00:00 ( 0.80 μs/it)\u001b[39m\n",
      "\u001b[38;5;4m\u001b[1m[ \u001b[22m\u001b[39m\u001b[38;5;4m\u001b[1mDebug: \u001b[22m\u001b[39m20220116 20:08:41 nsfw categories: String7[\"white\"]\n",
      "\u001b[32mProgress: 100%|███████████████████████████| Time: 0:00:04 ( 0.95 μs/it)\u001b[39m\n",
      "\u001b[32mProgress: 100%|███████████████████████████| Time: 0:00:00 ( 0.83 μs/it)\u001b[39m\n",
      "\u001b[38;5;4m\u001b[1m[ \u001b[22m\u001b[39m\u001b[38;5;4m\u001b[1mDebug: \u001b[22m\u001b[39m20220116 20:08:49 medium categories: String7[\"movie\", \"music\", \"ona\", \"ova\", \"special\", \"tv\", \"unknown\"]\n",
      "\u001b[32mProgress: 100%|███████████████████████████| Time: 0:00:04 ( 0.95 μs/it)\u001b[39m\n",
      "\u001b[32mProgress: 100%|███████████████████████████| Time: 0:00:00 ( 0.79 μs/it)\u001b[39m\n",
      "\u001b[38;5;4m\u001b[1m[ \u001b[22m\u001b[39m\u001b[38;5;4m\u001b[1mDebug: \u001b[22m\u001b[39m20220116 20:08:57 num_episodes categories: [0.0, 1.0, 2.0, 3.0, 4.0, 5.0, 6.0, 13.0, 26.0, 52.0, 100.0]\n",
      "\u001b[32mProgress: 100%|███████████████████████████| Time: 0:00:04 ( 0.96 μs/it)\u001b[39m\n",
      "\u001b[32mProgress: 100%|███████████████████████████| Time: 0:00:00 ( 0.78 μs/it)\u001b[39m\n",
      "\u001b[38;5;4m\u001b[1m[ \u001b[22m\u001b[39m\u001b[38;5;4m\u001b[1mDebug: \u001b[22m\u001b[39m20220116 20:09:06 source categories: String15[\"4_koma_manga\", \"book\", \"card_game\", \"digital_manga\", \"game\", \"light_novel\", \"manga\", \"mixed_media\", \"music\", \"novel\", \"original\", \"other\", \"picture_book\", \"radio\", \"visual_novel\", \"web_manga\"]\n",
      "\u001b[32mProgress: 100%|███████████████████████████| Time: 0:00:04 ( 0.97 μs/it)\u001b[39m\n",
      "\u001b[32mProgress: 100%|███████████████████████████| Time: 0:00:00 ( 0.85 μs/it)\u001b[39m\n",
      "\u001b[38;5;4m\u001b[1m[ \u001b[22m\u001b[39m\u001b[38;5;4m\u001b[1mDebug: \u001b[22m\u001b[39m20220116 20:09:14 average_episode_duration categories: [0.0, 600.0, 1200.0, 1800.0, 3600.0, 5400.0, 7200.0, 9000.0, 10800.0]\n",
      "\u001b[32mProgress: 100%|███████████████████████████| Time: 0:00:04 ( 0.95 μs/it)\u001b[39m\n",
      "\u001b[32mProgress: 100%|███████████████████████████| Time: 0:00:00 ( 0.78 μs/it)\u001b[39m\n",
      "[1]\ttrain-rmse:1.143133\n",
      "[2]\ttrain-rmse:1.113931\n",
      "[3]\ttrain-rmse:1.099194\n",
      "[4]\ttrain-rmse:1.091822\n",
      "[5]\ttrain-rmse:1.088044\n",
      "[6]\ttrain-rmse:1.085968\n",
      "[7]\ttrain-rmse:1.084722\n",
      "[8]\ttrain-rmse:1.083964\n",
      "[9]\ttrain-rmse:1.083302\n",
      "[10]\ttrain-rmse:1.082919\n",
      "[11]\ttrain-rmse:1.082613\n",
      "[12]\ttrain-rmse:1.082303\n",
      "[13]\ttrain-rmse:1.082154\n",
      "[14]\ttrain-rmse:1.081880\n",
      "[15]\ttrain-rmse:1.081659\n",
      "[16]\ttrain-rmse:1.081431\n",
      "[17]\ttrain-rmse:1.081309\n",
      "[18]\ttrain-rmse:1.081117\n",
      "[19]\ttrain-rmse:1.081001\n",
      "[20]\ttrain-rmse:1.080876\n",
      "[21]\ttrain-rmse:1.080745\n",
      "[22]\ttrain-rmse:1.080592\n",
      "[23]\ttrain-rmse:1.080448\n",
      "[24]\ttrain-rmse:1.080314\n",
      "[25]\ttrain-rmse:1.080145\n",
      "[26]\ttrain-rmse:1.080053\n",
      "[27]\ttrain-rmse:1.079949\n",
      "[28]\ttrain-rmse:1.079823\n",
      "[29]\ttrain-rmse:1.079646\n",
      "[30]\ttrain-rmse:1.079528\n",
      "[31]\ttrain-rmse:1.079419\n",
      "[32]\ttrain-rmse:1.079329\n",
      "[33]\ttrain-rmse:1.079263\n",
      "[34]\ttrain-rmse:1.079192\n",
      "[35]\ttrain-rmse:1.079076\n",
      "[36]\ttrain-rmse:1.078983\n",
      "[37]\ttrain-rmse:1.078863\n",
      "[38]\ttrain-rmse:1.078761\n",
      "[39]\ttrain-rmse:1.078596\n",
      "[40]\ttrain-rmse:1.078518\n",
      "[41]\ttrain-rmse:1.078399\n",
      "[42]\ttrain-rmse:1.078351\n",
      "[43]\ttrain-rmse:1.078286\n",
      "[44]\ttrain-rmse:1.078192\n",
      "[45]\ttrain-rmse:1.078116\n",
      "[46]\ttrain-rmse:1.078016\n",
      "[47]\ttrain-rmse:1.077962\n",
      "[48]\ttrain-rmse:1.077845\n",
      "[49]\ttrain-rmse:1.077772\n",
      "[50]\ttrain-rmse:1.077696\n",
      "[51]\ttrain-rmse:1.077636\n",
      "[52]\ttrain-rmse:1.077584\n",
      "[53]\ttrain-rmse:1.077491\n",
      "[54]\ttrain-rmse:1.077353\n",
      "[55]\ttrain-rmse:1.077267\n",
      "[56]\ttrain-rmse:1.077162\n",
      "[57]\ttrain-rmse:1.077103\n",
      "[58]\ttrain-rmse:1.076988\n",
      "[59]\ttrain-rmse:1.076846\n",
      "[60]\ttrain-rmse:1.076768\n",
      "[61]\ttrain-rmse:1.076702\n",
      "[62]\ttrain-rmse:1.076640\n",
      "[63]\ttrain-rmse:1.076592\n",
      "[64]\ttrain-rmse:1.076546\n",
      "[65]\ttrain-rmse:1.076497\n",
      "[66]\ttrain-rmse:1.076415\n",
      "[67]\ttrain-rmse:1.076360\n",
      "[68]\ttrain-rmse:1.076299\n",
      "[69]\ttrain-rmse:1.076249\n",
      "[70]\ttrain-rmse:1.076177\n",
      "[71]\ttrain-rmse:1.076116\n",
      "[72]\ttrain-rmse:1.076057\n",
      "[73]\ttrain-rmse:1.075984\n",
      "[74]\ttrain-rmse:1.075936\n",
      "[75]\ttrain-rmse:1.075881\n",
      "[76]\ttrain-rmse:1.075808\n",
      "[77]\ttrain-rmse:1.075752\n",
      "[78]\ttrain-rmse:1.075707\n",
      "[79]\ttrain-rmse:1.075677\n",
      "[80]\ttrain-rmse:1.075657\n",
      "[81]\ttrain-rmse:1.075610\n",
      "[82]\ttrain-rmse:1.075556\n",
      "[83]\ttrain-rmse:1.075506\n",
      "[84]\ttrain-rmse:1.075448\n",
      "[85]\ttrain-rmse:1.075373\n",
      "[86]\ttrain-rmse:1.075309\n",
      "[87]\ttrain-rmse:1.075268\n",
      "[88]\ttrain-rmse:1.075225\n",
      "[89]\ttrain-rmse:1.075164\n",
      "[90]\ttrain-rmse:1.075119\n",
      "[91]\ttrain-rmse:1.075060\n",
      "[92]\ttrain-rmse:1.075001\n",
      "[93]\ttrain-rmse:1.074978\n",
      "[94]\ttrain-rmse:1.074965\n",
      "[95]\ttrain-rmse:1.074936\n",
      "[96]\ttrain-rmse:1.074910\n",
      "[97]\ttrain-rmse:1.074858\n",
      "[98]\ttrain-rmse:1.074793\n",
      "[99]\ttrain-rmse:1.074739\n",
      "[100]\ttrain-rmse:1.074687\n"
     ]
    }
   ],
   "source": [
    "bst = train_model(\"validation\", get_xgboost_dep(\"validation\"));"
   ]
  },
  {
   "cell_type": "code",
   "execution_count": 13,
   "id": "c56cc8ae-cfc1-489a-b38b-63c1264d6e08",
   "metadata": {},
   "outputs": [],
   "source": [
    "#[100]\ttrain-rmse:1.074687\n",
    "#(1.0776735836062472, 0.7779856850061714, 0.11236783f0)\n",
    "\n",
    "# [300]\ttrain-rmse:1.066483\n",
    "# 1.0753573535488306"
   ]
  },
  {
   "cell_type": "code",
   "execution_count": 14,
   "id": "ebda1ed5-56fb-410c-a9e2-9d4d446780a7",
   "metadata": {
    "tags": []
   },
   "outputs": [
    {
     "name": "stderr",
     "output_type": "stream",
     "text": [
      "\u001b[32mProgress: 100%|█████████████████████████████████████████| Time: 0:00:01\u001b[39m\n",
      "\u001b[32mProgress: 100%|█████████████████████████████████████████| Time: 0:00:01\u001b[39m\n",
      "\u001b[32mProgress: 100%|███████████████████████████| Time: 0:00:01 ( 0.45 μs/it)\u001b[39m\n",
      "\u001b[32mProgress: 100%|███████████████████████████| Time: 0:00:01 ( 0.41 μs/it)\u001b[39m\n",
      "\u001b[32mProgress: 100%|███████████████████████████| Time: 0:00:03 ( 0.84 μs/it)\u001b[39m\n",
      "\u001b[32mProgress: 100%|███████████████████████████| Time: 0:00:03 ( 0.85 μs/it)\u001b[39m\n",
      "\u001b[32mProgress: 100%|███████████████████████████| Time: 0:00:03 ( 0.82 μs/it)\u001b[39m\n",
      "\u001b[32mProgress: 100%|███████████████████████████| Time: 0:00:03 ( 0.81 μs/it)\u001b[39m\n",
      "\u001b[32mProgress: 100%|███████████████████████████| Time: 0:00:00 ( 1.14 μs/it)\u001b[39m\n",
      "\u001b[32mProgress: 100%|███████████████████████████| Time: 0:00:00 ( 1.13 μs/it)\u001b[39m\n",
      "\u001b[38;5;4m\u001b[1m[ \u001b[22m\u001b[39m\u001b[38;5;4m\u001b[1mDebug: \u001b[22m\u001b[39m20220116 20:21:30 nsfw categories: String7[\"white\"]\n",
      "\u001b[32mProgress: 100%|███████████████████████████| Time: 0:00:01 ( 1.88 μs/it)\u001b[39m\n",
      "\u001b[38;5;4m\u001b[1m[ \u001b[22m\u001b[39m\u001b[38;5;4m\u001b[1mDebug: \u001b[22m\u001b[39m20220116 20:21:32 medium categories: String7[\"movie\", \"music\", \"ona\", \"ova\", \"special\", \"tv\", \"unknown\"]\n",
      "\u001b[32mProgress: 100%|███████████████████████████| Time: 0:00:01 ( 1.90 μs/it)\u001b[39m\n",
      "\u001b[32mProgress: 100%|███████████████████████████| Time: 0:00:00 ( 1.02 μs/it)\u001b[39m\n",
      "\u001b[38;5;4m\u001b[1m[ \u001b[22m\u001b[39m\u001b[38;5;4m\u001b[1mDebug: \u001b[22m\u001b[39m20220116 20:21:35 source categories: String15[\"4_koma_manga\", \"NaN\", \"book\", \"card_game\", \"digital_manga\", \"game\", \"light_novel\", \"manga\", \"mixed_media\", \"music\", \"novel\", \"original\", \"other\", \"picture_book\", \"radio\", \"visual_novel\", \"web_manga\"]\n",
      "\u001b[32mProgress: 100%|███████████████████████████| Time: 0:00:01 ( 1.96 μs/it)\u001b[39m\n",
      "\u001b[32mProgress: 100%|███████████████████████████| Time: 0:00:00 ( 1.02 μs/it)\u001b[39m\n",
      "\u001b[38;5;4m\u001b[1m[ \u001b[22m\u001b[39m\u001b[38;5;4m\u001b[1mDebug: \u001b[22m\u001b[39m20220116 20:21:38 start_year categories: [1915.0, 1920.0, 1925.0, 1930.0, 1935.0, 1940.0, 1945.0, 1950.0, 1955.0, 1960.0, 1965.0, 1970.0, 1975.0, 1980.0, 1985.0, 1990.0, 1995.0, 2000.0, 2005.0, 2010.0, 2015.0, 2020.0, 2025.0, 2030.0, 2035.0]\n",
      "\u001b[32mProgress: 100%|███████████████████████████| Time: 0:00:04 ( 0.97 μs/it)\u001b[39m\n",
      "\u001b[32mProgress: 100%|███████████████████████████| Time: 0:00:00 ( 0.81 μs/it)\u001b[39m\n",
      "\u001b[38;5;4m\u001b[1m[ \u001b[22m\u001b[39m\u001b[38;5;4m\u001b[1mDebug: \u001b[22m\u001b[39m20220116 20:21:46 end_year categories: [1915.0, 1920.0, 1925.0, 1930.0, 1935.0, 1940.0, 1945.0, 1950.0, 1955.0, 1960.0, 1965.0, 1970.0, 1975.0, 1980.0, 1985.0, 1990.0, 1995.0, 2000.0, 2005.0, 2010.0, 2015.0, 2020.0, 2025.0, 2030.0, 2035.0]\n",
      "\u001b[32mProgress: 100%|███████████████████████████| Time: 0:00:04 ( 0.97 μs/it)\u001b[39m\n",
      "\u001b[32mProgress: 100%|███████████████████████████| Time: 0:00:00 ( 0.81 μs/it)\u001b[39m\n",
      "\u001b[38;5;4m\u001b[1m[ \u001b[22m\u001b[39m\u001b[38;5;4m\u001b[1mDebug: \u001b[22m\u001b[39m20220116 20:21:55 nsfw categories: String7[\"white\"]\n",
      "\u001b[32mProgress: 100%|███████████████████████████| Time: 0:00:04 ( 0.94 μs/it)\u001b[39m\n",
      "\u001b[32mProgress: 100%|███████████████████████████| Time: 0:00:00 ( 0.78 μs/it)\u001b[39m\n",
      "\u001b[38;5;4m\u001b[1m[ \u001b[22m\u001b[39m\u001b[38;5;4m\u001b[1mDebug: \u001b[22m\u001b[39m20220116 20:22:02 medium categories: String7[\"movie\", \"music\", \"ona\", \"ova\", \"special\", \"tv\", \"unknown\"]\n",
      "\u001b[32mProgress: 100%|███████████████████████████| Time: 0:00:04 ( 0.94 μs/it)\u001b[39m\n",
      "\u001b[32mProgress: 100%|███████████████████████████| Time: 0:00:00 ( 0.80 μs/it)\u001b[39m\n",
      "\u001b[38;5;4m\u001b[1m[ \u001b[22m\u001b[39m\u001b[38;5;4m\u001b[1mDebug: \u001b[22m\u001b[39m20220116 20:22:10 num_episodes categories: [0.0, 1.0, 2.0, 3.0, 4.0, 5.0, 6.0, 13.0, 26.0, 52.0, 100.0]\n",
      "\u001b[32mProgress: 100%|███████████████████████████| Time: 0:00:04 ( 0.95 μs/it)\u001b[39m\n",
      "\u001b[32mProgress: 100%|███████████████████████████| Time: 0:00:00 ( 0.80 μs/it)\u001b[39m\n",
      "\u001b[38;5;4m\u001b[1m[ \u001b[22m\u001b[39m\u001b[38;5;4m\u001b[1mDebug: \u001b[22m\u001b[39m20220116 20:22:18 source categories: String15[\"4_koma_manga\", \"book\", \"card_game\", \"digital_manga\", \"game\", \"light_novel\", \"manga\", \"mixed_media\", \"music\", \"novel\", \"original\", \"other\", \"picture_book\", \"radio\", \"visual_novel\", \"web_manga\"]\n",
      "\u001b[32mProgress: 100%|███████████████████████████| Time: 0:00:04 ( 0.96 μs/it)\u001b[39m\n",
      "\u001b[32mProgress: 100%|███████████████████████████| Time: 0:00:00 ( 0.80 μs/it)\u001b[39m\n",
      "\u001b[38;5;4m\u001b[1m[ \u001b[22m\u001b[39m\u001b[38;5;4m\u001b[1mDebug: \u001b[22m\u001b[39m20220116 20:22:26 average_episode_duration categories: [0.0, 600.0, 1200.0, 1800.0, 3600.0, 5400.0, 7200.0, 9000.0, 10800.0]\n",
      "\u001b[32mProgress: 100%|███████████████████████████| Time: 0:00:04 ( 0.94 μs/it)\u001b[39m\n",
      "\u001b[32mProgress: 100%|███████████████████████████| Time: 0:00:00 ( 0.78 μs/it)\u001b[39m\n",
      "\u001b[32mProgress: 100%|█████████████████████████████████████████| Time: 0:00:01\u001b[39m\n",
      "\u001b[38;5;4m\u001b[1m[ \u001b[22m\u001b[39m\u001b[38;5;4m\u001b[1mDebug: \u001b[22m\u001b[39m20220116 20:22:53 XGBoost model test (rmse, mae) = (1.0776735836062472, 0.7779856850061714, 0.11236783f0)\n"
     ]
    }
   ],
   "source": [
    "@debug \"XGBoost model test (rmse, mae) = $(evaluate(bst))\""
   ]
  },
  {
   "cell_type": "code",
   "execution_count": 15,
   "id": "26c8c072-7de2-4064-9e81-e60d92489474",
   "metadata": {},
   "outputs": [],
   "source": [
    "xgboost_model_fn = \"../../data/alphas/$name/xgb.model\"\n",
    "XGBoost.save(bst, xgboost_model_fn)"
   ]
  },
  {
   "cell_type": "markdown",
   "id": "b1ecfe37-557d-4c20-8b24-a477ef1d8048",
   "metadata": {},
   "source": [
    "## Train a model to predict confidence intervals"
   ]
  },
  {
   "cell_type": "code",
   "execution_count": 26,
   "id": "2eb4f12d-c352-4f7c-9c5b-1aceeecc7645",
   "metadata": {},
   "outputs": [],
   "source": [
    "function get_error(bst, split)\n",
    "    X_test = convert.(Float32, get_augmented_indep(split, alphas, β))\n",
    "    Y_test = convert.(Float32, get_dep(split))\n",
    "    bst_preds = XGBoost.predict(bst, X_test)\n",
    "    preds = bst_preds + get_indep(split, alphas) * β\n",
    "    errors = (Y_test - preds) .^ 2\n",
    "    df = get_split(split)\n",
    "    RatingsDataset(df.user, df.item, errors), bst_preds\n",
    "end;"
   ]
  },
  {
   "cell_type": "code",
   "execution_count": 27,
   "id": "63b96bcf-cc60-4622-8e6a-c16a3ae064c7",
   "metadata": {},
   "outputs": [
    {
     "name": "stderr",
     "output_type": "stream",
     "text": [
      "\u001b[32mProgress: 100%|█████████████████████████████████████████| Time: 0:00:01\u001b[39m\n"
     ]
    }
   ],
   "source": [
    "errors, test_preds = get_error(bst, \"test\");"
   ]
  },
  {
   "cell_type": "code",
   "execution_count": 28,
   "id": "dda6cedb-c90d-4154-b642-47714ebf209e",
   "metadata": {
    "tags": []
   },
   "outputs": [
    {
     "name": "stderr",
     "output_type": "stream",
     "text": [
      "[1]\ttrain-rmse:2.760026\n",
      "[2]\ttrain-rmse:2.724047\n",
      "[3]\ttrain-rmse:2.704180\n",
      "[4]\ttrain-rmse:2.692170\n",
      "[5]\ttrain-rmse:2.684823\n",
      "[6]\ttrain-rmse:2.679880\n",
      "[7]\ttrain-rmse:2.675370\n",
      "[8]\ttrain-rmse:2.671283\n",
      "[9]\ttrain-rmse:2.668919\n",
      "[10]\ttrain-rmse:2.666616\n",
      "[11]\ttrain-rmse:2.664979\n",
      "[12]\ttrain-rmse:2.663281\n",
      "[13]\ttrain-rmse:2.661551\n",
      "[14]\ttrain-rmse:2.660488\n",
      "[15]\ttrain-rmse:2.659533\n",
      "[16]\ttrain-rmse:2.658401\n",
      "[17]\ttrain-rmse:2.657456\n",
      "[18]\ttrain-rmse:2.656397\n",
      "[19]\ttrain-rmse:2.655383\n",
      "[20]\ttrain-rmse:2.654523\n",
      "[21]\ttrain-rmse:2.653666\n",
      "[22]\ttrain-rmse:2.652954\n",
      "[23]\ttrain-rmse:2.652259\n",
      "[24]\ttrain-rmse:2.651504\n",
      "[25]\ttrain-rmse:2.650948\n",
      "[26]\ttrain-rmse:2.650256\n",
      "[27]\ttrain-rmse:2.649628\n",
      "[28]\ttrain-rmse:2.649040\n",
      "[29]\ttrain-rmse:2.647902\n",
      "[30]\ttrain-rmse:2.646841\n",
      "[31]\ttrain-rmse:2.645940\n",
      "[32]\ttrain-rmse:2.645429\n",
      "[33]\ttrain-rmse:2.644907\n",
      "[34]\ttrain-rmse:2.644366\n",
      "[35]\ttrain-rmse:2.643850\n",
      "[36]\ttrain-rmse:2.643141\n",
      "[37]\ttrain-rmse:2.642603\n",
      "[38]\ttrain-rmse:2.642021\n",
      "[39]\ttrain-rmse:2.641535\n",
      "[40]\ttrain-rmse:2.640980\n",
      "[41]\ttrain-rmse:2.640570\n",
      "[42]\ttrain-rmse:2.639806\n",
      "[43]\ttrain-rmse:2.639295\n",
      "[44]\ttrain-rmse:2.638879\n",
      "[45]\ttrain-rmse:2.638527\n",
      "[46]\ttrain-rmse:2.638040\n",
      "[47]\ttrain-rmse:2.637421\n",
      "[48]\ttrain-rmse:2.637002\n",
      "[49]\ttrain-rmse:2.636458\n",
      "[50]\ttrain-rmse:2.636072\n",
      "[51]\ttrain-rmse:2.635625\n",
      "[52]\ttrain-rmse:2.635364\n",
      "[53]\ttrain-rmse:2.634920\n",
      "[54]\ttrain-rmse:2.634575\n",
      "[55]\ttrain-rmse:2.634153\n",
      "[56]\ttrain-rmse:2.633846\n",
      "[57]\ttrain-rmse:2.633614\n",
      "[58]\ttrain-rmse:2.633191\n",
      "[59]\ttrain-rmse:2.632698\n",
      "[60]\ttrain-rmse:2.632522\n",
      "[61]\ttrain-rmse:2.632246\n",
      "[62]\ttrain-rmse:2.631895\n",
      "[63]\ttrain-rmse:2.631192\n",
      "[64]\ttrain-rmse:2.630796\n",
      "[65]\ttrain-rmse:2.630410\n",
      "[66]\ttrain-rmse:2.629977\n",
      "[67]\ttrain-rmse:2.629598\n",
      "[68]\ttrain-rmse:2.629198\n",
      "[69]\ttrain-rmse:2.628779\n",
      "[70]\ttrain-rmse:2.628360\n",
      "[71]\ttrain-rmse:2.627995\n",
      "[72]\ttrain-rmse:2.627629\n",
      "[73]\ttrain-rmse:2.627231\n",
      "[74]\ttrain-rmse:2.626915\n",
      "[75]\ttrain-rmse:2.626537\n",
      "[76]\ttrain-rmse:2.626239\n",
      "[77]\ttrain-rmse:2.625929\n",
      "[78]\ttrain-rmse:2.625866\n",
      "[79]\ttrain-rmse:2.625470\n",
      "[80]\ttrain-rmse:2.625165\n",
      "[81]\ttrain-rmse:2.624902\n",
      "[82]\ttrain-rmse:2.624577\n",
      "[83]\ttrain-rmse:2.624299\n",
      "[84]\ttrain-rmse:2.623966\n",
      "[85]\ttrain-rmse:2.623785\n",
      "[86]\ttrain-rmse:2.623740\n",
      "[87]\ttrain-rmse:2.623462\n",
      "[88]\ttrain-rmse:2.623152\n",
      "[89]\ttrain-rmse:2.622800\n",
      "[90]\ttrain-rmse:2.622610\n",
      "[91]\ttrain-rmse:2.622337\n",
      "[92]\ttrain-rmse:2.622040\n",
      "[93]\ttrain-rmse:2.621789\n",
      "[94]\ttrain-rmse:2.621474\n",
      "[95]\ttrain-rmse:2.621223\n",
      "[96]\ttrain-rmse:2.621144\n",
      "[97]\ttrain-rmse:2.620939\n",
      "[98]\ttrain-rmse:2.620705\n",
      "[99]\ttrain-rmse:2.620576\n",
      "[100]\ttrain-rmse:2.620247\n"
     ]
    }
   ],
   "source": [
    "error_bst = train_model(\"test\", errors.rating, test_preds);"
   ]
  },
  {
   "cell_type": "code",
   "execution_count": 29,
   "id": "3461f372-33a4-4608-8f80-39a617331cd7",
   "metadata": {},
   "outputs": [],
   "source": [
    "xgboost_error_model_fn = \"../../data/alphas/$name/xgb_error.model\"\n",
    "XGBoost.save(error_bst, xgboost_error_model_fn)"
   ]
  },
  {
   "cell_type": "code",
   "execution_count": 30,
   "id": "55d55774-e03a-436e-8fb9-0da6c9004464",
   "metadata": {},
   "outputs": [],
   "source": [
    "# 2.631241"
   ]
  },
  {
   "cell_type": "markdown",
   "id": "7392d1cf-d1f9-47a3-8411-5ca2f73e7ded",
   "metadata": {},
   "source": [
    "## Save params"
   ]
  },
  {
   "cell_type": "code",
   "execution_count": 31,
   "id": "f478e90e-ce89-45ea-9fa2-5b3176f4c6bc",
   "metadata": {},
   "outputs": [],
   "source": [
    "write_params(\n",
    "    Dict(\n",
    "        \"β\" => β,\n",
    "        \"alphas\" => alphas,\n",
    "        \"bst\" => xgboost_model_fn,\n",
    "        \"error_bst\" => xgboost_error_model_fn,\n",
    "    ),\n",
    ");"
   ]
  },
  {
   "cell_type": "code",
   "execution_count": null,
   "id": "53f980d0-ab18-48d2-bb87-7334712cc9d0",
   "metadata": {},
   "outputs": [],
   "source": []
  }
 ],
 "metadata": {
  "kernelspec": {
   "display_name": "Julia 1.6.3",
   "language": "julia",
   "name": "julia-1.6"
  },
  "language_info": {
   "file_extension": ".jl",
   "mimetype": "application/julia",
   "name": "julia",
   "version": "1.6.3"
  }
 },
 "nbformat": 4,
 "nbformat_minor": 5
}
