{
 "cells": [
  {
   "cell_type": "code",
   "execution_count": 1,
   "id": "79559bef-810a-402f-ad21-52092ec933f4",
   "metadata": {},
   "outputs": [],
   "source": [
    "name = \"CombineSignals\"\n",
    "residual_alphas = [];"
   ]
  },
  {
   "cell_type": "code",
   "execution_count": 2,
   "id": "3779f4da-b021-4fff-bbd6-5f797d26a06a",
   "metadata": {},
   "outputs": [],
   "source": [
    "using Random\n",
    "import XGBoost"
   ]
  },
  {
   "cell_type": "code",
   "execution_count": 3,
   "id": "69b5a19a-24f5-4730-afe2-f451d27d18e3",
   "metadata": {},
   "outputs": [],
   "source": [
    "using NBInclude\n",
    "@nbinclude(\"Alpha.ipynb\");"
   ]
  },
  {
   "cell_type": "code",
   "execution_count": 4,
   "id": "5b499c9d-91fd-45bd-a632-592bb8a685e5",
   "metadata": {},
   "outputs": [],
   "source": [
    "@nbinclude(\"XGBoostFeatures.ipynb\");"
   ]
  },
  {
   "cell_type": "markdown",
   "id": "aa36180e-ce49-4387-8e37-de289d51a3da",
   "metadata": {},
   "source": [
    "## Train a linear model"
   ]
  },
  {
   "cell_type": "code",
   "execution_count": 5,
   "id": "fe4ad27b-d09d-4679-8632-fc880fa82503",
   "metadata": {},
   "outputs": [
    {
     "data": {
      "text/plain": [
       "15-element Vector{String}:\n",
       " \"UserItemBiases\"\n",
       " \"ItemCF.16\"\n",
       " \"ItemCF.64\"\n",
       " \"ItemCF.256\"\n",
       " \"ItemCF.1024\"\n",
       " \"ItemCFResid.16\"\n",
       " \"ItemCFResid.64\"\n",
       " \"ItemCFResid.256\"\n",
       " \"ItemCFResid.1024\"\n",
       " \"MatrixFactorization.10\"\n",
       " \"MatrixFactorization.20\"\n",
       " \"MatrixFactorization.40\"\n",
       " \"ItemCFRelated.all\"\n",
       " \"UserCF.256\"\n",
       " \"ItemCFEmbed.1024\""
      ]
     },
     "execution_count": 5,
     "metadata": {},
     "output_type": "execute_result"
    }
   ],
   "source": [
    "downcast_to_int(x) = isinteger(x) ? Int(x) : x\n",
    "alphas = [\n",
    "    [\"UserItemBiases\"]\n",
    "    [\"ItemCF.$K\" for K in downcast_to_int.([2^4, 2^6, 2^8, 2^10])]\n",
    "    [\"ItemCFResid.$K\" for K in downcast_to_int.([2^4, 2^6, 2^8, 2^10])]\n",
    "    [\"MatrixFactorization.$K\" for K in downcast_to_int.([10, 20, 40])]\n",
    "    [\"ItemCFRelated.$name\" for name in [\"all\"]]\n",
    "    [\"UserCF.256\"] # 0.18%\n",
    "    [\"ItemCFEmbed.1024\"] # 0.12%\n",
    "]"
   ]
  },
  {
   "cell_type": "code",
   "execution_count": 6,
   "id": "bfdafacf-3939-4348-adbb-956df1c509a7",
   "metadata": {},
   "outputs": [
    {
     "data": {
      "text/plain": [
       "15-element Vector{Float64}:\n",
       " 0.9914486118185715\n",
       " 0.10588654775680703\n",
       " 0.09664928759104498\n",
       " 0.014671622978912145\n",
       " 0.32337929785979685\n",
       " 0.004183635362108991\n",
       " 0.03690511858119151\n",
       " 0.17652059650310126\n",
       " 1.5818494637588048\n",
       " 0.15294316034544914\n",
       " 0.14121783033991342\n",
       " 0.1425234791555824\n",
       " 3.931713863450469\n",
       " 0.9167415209044486\n",
       " 0.12299620313042041"
      ]
     },
     "execution_count": 6,
     "metadata": {},
     "output_type": "execute_result"
    }
   ],
   "source": [
    "β = get_indep(\"validation\", alphas) \\ get_dep(\"validation\")"
   ]
  },
  {
   "cell_type": "code",
   "execution_count": 7,
   "id": "aeb58470-65ed-4227-806d-e4e85a0b0a47",
   "metadata": {
    "tags": []
   },
   "outputs": [],
   "source": [
    "function evaluate(X, y, β)\n",
    "    y_pred = X * β\n",
    "    y_pred = clamp.(y_pred, 1, 10)\n",
    "    rmse(y, y_pred), mae(y, y_pred), r2(y, y_pred), mse(y, y_pred)\n",
    "end;"
   ]
  },
  {
   "cell_type": "code",
   "execution_count": 8,
   "id": "ab934309-5b2a-47ab-9506-43c59ee7ea23",
   "metadata": {},
   "outputs": [
    {
     "data": {
      "text/plain": [
       "(1.090570235049966, 0.786988102932762, 0.6249467158322726, 1.1893434375769378)"
      ]
     },
     "execution_count": 8,
     "metadata": {},
     "output_type": "execute_result"
    }
   ],
   "source": [
    "evaluate(get_indep(\"test\", alphas), get_dep(\"test\"), β)"
   ]
  },
  {
   "cell_type": "code",
   "execution_count": 9,
   "id": "8d2c5d91-fffd-4de3-9e09-d4d99e763f20",
   "metadata": {},
   "outputs": [
    {
     "data": {
      "text/plain": [
       "0.00184617700342804"
      ]
     },
     "execution_count": 9,
     "metadata": {},
     "output_type": "execute_result"
    }
   ],
   "source": [
    "1 - 1.090570235049966 / 1.0925873446799506"
   ]
  },
  {
   "cell_type": "markdown",
   "id": "0859f0de-2e2c-4ef1-a6e5-26f1425e0aea",
   "metadata": {},
   "source": [
    "## Train an XGBoost model"
   ]
  },
  {
   "cell_type": "code",
   "execution_count": 10,
   "id": "fa421e7d-6c62-4cdb-af3f-bc75c9b8e90a",
   "metadata": {},
   "outputs": [],
   "source": [
    "function get_augmented_indep(split, alphas)\n",
    "    hcat(get_indep(split, alphas), get_xgboost_features(split))\n",
    "end;"
   ]
  },
  {
   "cell_type": "code",
   "execution_count": 11,
   "id": "6cd96824-82ef-4225-8e75-f0650d439528",
   "metadata": {},
   "outputs": [],
   "source": [
    "function get_xgboost_split(training_perc)\n",
    "    Random.seed!(20220104)\n",
    "    val_rows = length(get_dep(\"validation\"))\n",
    "    val_shuffle = shuffle(1:val_rows)\n",
    "    val_train_size = Int(round(val_rows * training_perc))\n",
    "    X = convert.(Float32, get_augmented_indep(\"validation\", alphas))\n",
    "    Y = convert.(Float32, get_dep(\"validation\") - get_indep(\"validation\", alphas) * β)\n",
    "    X_val_train = X[val_shuffle[1:val_train_size], :]\n",
    "    Y_val_train = Y[val_shuffle[1:val_train_size]]\n",
    "    X_val_test = X[val_shuffle[val_train_size+1:end], :]\n",
    "    Y_val_test = Y[val_shuffle[val_train_size+1:end]]\n",
    "    (\n",
    "        XGBoost.DMatrix(X_val_train, label = Y_val_train),\n",
    "        XGBoost.DMatrix(X_val_test, label = Y_val_test),\n",
    "    )\n",
    "end;"
   ]
  },
  {
   "cell_type": "code",
   "execution_count": 12,
   "id": "ea202762-ec96-49bc-bf1a-493ee9018746",
   "metadata": {},
   "outputs": [],
   "source": [
    "function fast_test_mse()\n",
    "    # TODO early stopping\n",
    "    dtrain, dtest = get_xgboost_split(0.8)\n",
    "    bst = XGBoost.xgboost(\n",
    "        dtrain,\n",
    "        200,\n",
    "        watchlist = [(dtrain, \"train\"), (dtest, \"test\")],\n",
    "        objective = \"reg:squarederror\",\n",
    "        nthread = Threads.nthreads(),\n",
    "    )\n",
    "end;"
   ]
  },
  {
   "cell_type": "code",
   "execution_count": 13,
   "id": "5c31abce-ab2b-4070-b033-54c0dd98f86f",
   "metadata": {},
   "outputs": [],
   "source": [
    "function evaluate(bst)\n",
    "    X_test = convert.(Float32, get_augmented_indep(\"test\", alphas))\n",
    "    Y_test = convert.(Float32, get_dep(\"test\"))\n",
    "    preds = XGBoost.predict(bst, X_test)\n",
    "    preds += get_indep(\"test\", alphas) * β\n",
    "    rmse(Y_test, clamp.(preds, 1, 10))\n",
    "end;"
   ]
  },
  {
   "cell_type": "code",
   "execution_count": 14,
   "id": "e45466cb-45f2-442c-ac96-2d6a026787da",
   "metadata": {
    "tags": []
   },
   "outputs": [
    {
     "name": "stderr",
     "output_type": "stream",
     "text": [
      "\u001b[32mProgress: 100%|███████████████████████████| Time: 0:00:02 ( 0.52 μs/it)\u001b[39m39m\n",
      "\u001b[32mProgress: 100%|███████████████████████████| Time: 0:00:00 (35.30 ns/it)\u001b[39m\n",
      "\u001b[32mProgress: 100%|███████████████████████████| Time: 0:00:00 (65.89 ns/it)\u001b[39m\n",
      "\u001b[32mProgress: 100%|███████████████████████████| Time: 0:00:00 (37.99 ns/it)\u001b[39m\n",
      "\u001b[32mProgress: 100%|███████████████████████████| Time: 0:00:00 (64.59 ns/it)\u001b[39m\n",
      "\u001b[32mProgress: 100%|███████████████████████████| Time: 0:00:00 (39.59 ns/it)\u001b[39m\n",
      "\u001b[32mProgress: 100%|███████████████████████████| Time: 0:00:00 ( 1.47 μs/it)\u001b[39mit)\u001b[39m\n",
      "\u001b[32mProgress: 100%|███████████████████████████| Time: 0:00:00 ( 1.13 μs/it)\u001b[39mm\n",
      "\u001b[32mProgress: 100%|███████████████████████████| Time: 0:00:00 ( 0.83 μs/it)\u001b[39m\n",
      "[1]\ttrain-rmse:1.143663\ttest-rmse:1.142987\n",
      "[2]\ttrain-rmse:1.114728\ttest-rmse:1.114004\n",
      "[3]\ttrain-rmse:1.100077\ttest-rmse:1.099337\n",
      "[4]\ttrain-rmse:1.092622\ttest-rmse:1.091877\n",
      "[5]\ttrain-rmse:1.088743\ttest-rmse:1.088008\n",
      "[6]\ttrain-rmse:1.086761\ttest-rmse:1.086050\n",
      "[7]\ttrain-rmse:1.085572\ttest-rmse:1.084892\n",
      "[8]\ttrain-rmse:1.084898\ttest-rmse:1.084255\n",
      "[9]\ttrain-rmse:1.084247\ttest-rmse:1.083631\n",
      "[10]\ttrain-rmse:1.084001\ttest-rmse:1.083415\n",
      "[11]\ttrain-rmse:1.083786\ttest-rmse:1.083233\n",
      "[12]\ttrain-rmse:1.083469\ttest-rmse:1.082947\n",
      "[13]\ttrain-rmse:1.083183\ttest-rmse:1.082681\n",
      "[14]\ttrain-rmse:1.083013\ttest-rmse:1.082530\n",
      "[15]\ttrain-rmse:1.082835\ttest-rmse:1.082374\n",
      "[16]\ttrain-rmse:1.082603\ttest-rmse:1.082192\n",
      "[17]\ttrain-rmse:1.082409\ttest-rmse:1.082022\n",
      "[18]\ttrain-rmse:1.082310\ttest-rmse:1.081953\n",
      "[19]\ttrain-rmse:1.082157\ttest-rmse:1.081837\n",
      "[20]\ttrain-rmse:1.081961\ttest-rmse:1.081655\n",
      "[21]\ttrain-rmse:1.081862\ttest-rmse:1.081582\n",
      "[22]\ttrain-rmse:1.081709\ttest-rmse:1.081466\n",
      "[23]\ttrain-rmse:1.081547\ttest-rmse:1.081333\n",
      "[24]\ttrain-rmse:1.081396\ttest-rmse:1.081213\n",
      "[25]\ttrain-rmse:1.081302\ttest-rmse:1.081149\n",
      "[26]\ttrain-rmse:1.081224\ttest-rmse:1.081093\n",
      "[27]\ttrain-rmse:1.081124\ttest-rmse:1.081016\n",
      "[28]\ttrain-rmse:1.080996\ttest-rmse:1.080935\n",
      "[29]\ttrain-rmse:1.080886\ttest-rmse:1.080866\n",
      "[30]\ttrain-rmse:1.080823\ttest-rmse:1.080827\n",
      "[31]\ttrain-rmse:1.080767\ttest-rmse:1.080781\n",
      "[32]\ttrain-rmse:1.080658\ttest-rmse:1.080693\n",
      "[33]\ttrain-rmse:1.080579\ttest-rmse:1.080645\n",
      "[34]\ttrain-rmse:1.080455\ttest-rmse:1.080541\n",
      "[35]\ttrain-rmse:1.080307\ttest-rmse:1.080426\n",
      "[36]\ttrain-rmse:1.080210\ttest-rmse:1.080368\n",
      "[37]\ttrain-rmse:1.080103\ttest-rmse:1.080282\n",
      "[38]\ttrain-rmse:1.079981\ttest-rmse:1.080202\n",
      "[39]\ttrain-rmse:1.079891\ttest-rmse:1.080148\n",
      "[40]\ttrain-rmse:1.079829\ttest-rmse:1.080130\n",
      "[41]\ttrain-rmse:1.079731\ttest-rmse:1.080070\n",
      "[42]\ttrain-rmse:1.079650\ttest-rmse:1.080033\n",
      "[43]\ttrain-rmse:1.079513\ttest-rmse:1.079918\n",
      "[44]\ttrain-rmse:1.079405\ttest-rmse:1.079834\n",
      "[45]\ttrain-rmse:1.079316\ttest-rmse:1.079784\n",
      "[46]\ttrain-rmse:1.079247\ttest-rmse:1.079761\n",
      "[47]\ttrain-rmse:1.079177\ttest-rmse:1.079722\n",
      "[48]\ttrain-rmse:1.079046\ttest-rmse:1.079614\n",
      "[49]\ttrain-rmse:1.078966\ttest-rmse:1.079574\n",
      "[50]\ttrain-rmse:1.078915\ttest-rmse:1.079553\n",
      "[51]\ttrain-rmse:1.078864\ttest-rmse:1.079530\n",
      "[52]\ttrain-rmse:1.078755\ttest-rmse:1.079442\n",
      "[53]\ttrain-rmse:1.078656\ttest-rmse:1.079373\n",
      "[54]\ttrain-rmse:1.078571\ttest-rmse:1.079321\n",
      "[55]\ttrain-rmse:1.078526\ttest-rmse:1.079311\n",
      "[56]\ttrain-rmse:1.078450\ttest-rmse:1.079265\n",
      "[57]\ttrain-rmse:1.078346\ttest-rmse:1.079176\n",
      "[58]\ttrain-rmse:1.078290\ttest-rmse:1.079149\n",
      "[59]\ttrain-rmse:1.078220\ttest-rmse:1.079103\n",
      "[60]\ttrain-rmse:1.078155\ttest-rmse:1.079070\n",
      "[61]\ttrain-rmse:1.078064\ttest-rmse:1.079004\n",
      "[62]\ttrain-rmse:1.078001\ttest-rmse:1.078991\n",
      "[63]\ttrain-rmse:1.077946\ttest-rmse:1.078970\n",
      "[64]\ttrain-rmse:1.077904\ttest-rmse:1.078956\n",
      "[65]\ttrain-rmse:1.077839\ttest-rmse:1.078935\n",
      "[66]\ttrain-rmse:1.077785\ttest-rmse:1.078902\n",
      "[67]\ttrain-rmse:1.077693\ttest-rmse:1.078826\n",
      "[68]\ttrain-rmse:1.077628\ttest-rmse:1.078790\n",
      "[69]\ttrain-rmse:1.077572\ttest-rmse:1.078770\n",
      "[70]\ttrain-rmse:1.077518\ttest-rmse:1.078750\n",
      "[71]\ttrain-rmse:1.077446\ttest-rmse:1.078689\n",
      "[72]\ttrain-rmse:1.077351\ttest-rmse:1.078637\n",
      "[73]\ttrain-rmse:1.077294\ttest-rmse:1.078626\n",
      "[74]\ttrain-rmse:1.077242\ttest-rmse:1.078603\n",
      "[75]\ttrain-rmse:1.077171\ttest-rmse:1.078555\n",
      "[76]\ttrain-rmse:1.077105\ttest-rmse:1.078508\n",
      "[77]\ttrain-rmse:1.077055\ttest-rmse:1.078481\n",
      "[78]\ttrain-rmse:1.077008\ttest-rmse:1.078466\n",
      "[79]\ttrain-rmse:1.076942\ttest-rmse:1.078438\n",
      "[80]\ttrain-rmse:1.076892\ttest-rmse:1.078428\n",
      "[81]\ttrain-rmse:1.076826\ttest-rmse:1.078405\n",
      "[82]\ttrain-rmse:1.076760\ttest-rmse:1.078370\n",
      "[83]\ttrain-rmse:1.076715\ttest-rmse:1.078356\n",
      "[84]\ttrain-rmse:1.076661\ttest-rmse:1.078332\n",
      "[85]\ttrain-rmse:1.076614\ttest-rmse:1.078309\n",
      "[86]\ttrain-rmse:1.076552\ttest-rmse:1.078275\n",
      "[87]\ttrain-rmse:1.076500\ttest-rmse:1.078258\n",
      "[88]\ttrain-rmse:1.076463\ttest-rmse:1.078245\n",
      "[89]\ttrain-rmse:1.076403\ttest-rmse:1.078207\n",
      "[90]\ttrain-rmse:1.076329\ttest-rmse:1.078175\n",
      "[91]\ttrain-rmse:1.076280\ttest-rmse:1.078155\n",
      "[92]\ttrain-rmse:1.076219\ttest-rmse:1.078127\n",
      "[93]\ttrain-rmse:1.076170\ttest-rmse:1.078113\n",
      "[94]\ttrain-rmse:1.076103\ttest-rmse:1.078073\n",
      "[95]\ttrain-rmse:1.076053\ttest-rmse:1.078062\n",
      "[96]\ttrain-rmse:1.076015\ttest-rmse:1.078055\n",
      "[97]\ttrain-rmse:1.075967\ttest-rmse:1.078039\n",
      "[98]\ttrain-rmse:1.075929\ttest-rmse:1.078032\n",
      "[99]\ttrain-rmse:1.075887\ttest-rmse:1.078025\n",
      "[100]\ttrain-rmse:1.075857\ttest-rmse:1.078008\n",
      "[101]\ttrain-rmse:1.075796\ttest-rmse:1.077974\n",
      "[102]\ttrain-rmse:1.075732\ttest-rmse:1.077937\n",
      "[103]\ttrain-rmse:1.075686\ttest-rmse:1.077926\n",
      "[104]\ttrain-rmse:1.075638\ttest-rmse:1.077898\n",
      "[105]\ttrain-rmse:1.075536\ttest-rmse:1.077814\n",
      "[106]\ttrain-rmse:1.075492\ttest-rmse:1.077797\n",
      "[107]\ttrain-rmse:1.075429\ttest-rmse:1.077776\n",
      "[108]\ttrain-rmse:1.075373\ttest-rmse:1.077755\n",
      "[109]\ttrain-rmse:1.075330\ttest-rmse:1.077740\n",
      "[110]\ttrain-rmse:1.075284\ttest-rmse:1.077730\n",
      "[111]\ttrain-rmse:1.075242\ttest-rmse:1.077714\n",
      "[112]\ttrain-rmse:1.075192\ttest-rmse:1.077716\n",
      "[113]\ttrain-rmse:1.075151\ttest-rmse:1.077714\n",
      "[114]\ttrain-rmse:1.075103\ttest-rmse:1.077691\n",
      "[115]\ttrain-rmse:1.075092\ttest-rmse:1.077682\n",
      "[116]\ttrain-rmse:1.075050\ttest-rmse:1.077676\n",
      "[117]\ttrain-rmse:1.075002\ttest-rmse:1.077670\n",
      "[118]\ttrain-rmse:1.074952\ttest-rmse:1.077655\n",
      "[119]\ttrain-rmse:1.074908\ttest-rmse:1.077645\n",
      "[120]\ttrain-rmse:1.074851\ttest-rmse:1.077632\n",
      "[121]\ttrain-rmse:1.074818\ttest-rmse:1.077626\n",
      "[122]\ttrain-rmse:1.074776\ttest-rmse:1.077614\n",
      "[123]\ttrain-rmse:1.074726\ttest-rmse:1.077586\n",
      "[124]\ttrain-rmse:1.074670\ttest-rmse:1.077543\n",
      "[125]\ttrain-rmse:1.074617\ttest-rmse:1.077510\n",
      "[126]\ttrain-rmse:1.074576\ttest-rmse:1.077495\n",
      "[127]\ttrain-rmse:1.074540\ttest-rmse:1.077500\n",
      "[128]\ttrain-rmse:1.074502\ttest-rmse:1.077498\n",
      "[129]\ttrain-rmse:1.074457\ttest-rmse:1.077484\n",
      "[130]\ttrain-rmse:1.074399\ttest-rmse:1.077444\n",
      "[131]\ttrain-rmse:1.074361\ttest-rmse:1.077453\n",
      "[132]\ttrain-rmse:1.074306\ttest-rmse:1.077432\n",
      "[133]\ttrain-rmse:1.074252\ttest-rmse:1.077423\n",
      "[134]\ttrain-rmse:1.074229\ttest-rmse:1.077419\n",
      "[135]\ttrain-rmse:1.074203\ttest-rmse:1.077416\n",
      "[136]\ttrain-rmse:1.074163\ttest-rmse:1.077392\n",
      "[137]\ttrain-rmse:1.074122\ttest-rmse:1.077376\n",
      "[138]\ttrain-rmse:1.074080\ttest-rmse:1.077361\n",
      "[139]\ttrain-rmse:1.074067\ttest-rmse:1.077360\n",
      "[140]\ttrain-rmse:1.074023\ttest-rmse:1.077353\n",
      "[141]\ttrain-rmse:1.074018\ttest-rmse:1.077351\n",
      "[142]\ttrain-rmse:1.073961\ttest-rmse:1.077341\n",
      "[143]\ttrain-rmse:1.073920\ttest-rmse:1.077336\n",
      "[144]\ttrain-rmse:1.073872\ttest-rmse:1.077331\n",
      "[145]\ttrain-rmse:1.073828\ttest-rmse:1.077319\n",
      "[146]\ttrain-rmse:1.073783\ttest-rmse:1.077302\n",
      "[147]\ttrain-rmse:1.073730\ttest-rmse:1.077271\n",
      "[148]\ttrain-rmse:1.073688\ttest-rmse:1.077260\n",
      "[149]\ttrain-rmse:1.073640\ttest-rmse:1.077243\n",
      "[150]\ttrain-rmse:1.073595\ttest-rmse:1.077224\n",
      "[151]\ttrain-rmse:1.073556\ttest-rmse:1.077222\n",
      "[152]\ttrain-rmse:1.073516\ttest-rmse:1.077227\n",
      "[153]\ttrain-rmse:1.073475\ttest-rmse:1.077212\n",
      "[154]\ttrain-rmse:1.073433\ttest-rmse:1.077211\n",
      "[155]\ttrain-rmse:1.073389\ttest-rmse:1.077192\n",
      "[156]\ttrain-rmse:1.073343\ttest-rmse:1.077181\n",
      "[157]\ttrain-rmse:1.073319\ttest-rmse:1.077181\n",
      "[158]\ttrain-rmse:1.073284\ttest-rmse:1.077179\n",
      "[159]\ttrain-rmse:1.073248\ttest-rmse:1.077181\n",
      "[160]\ttrain-rmse:1.073200\ttest-rmse:1.077181\n",
      "[161]\ttrain-rmse:1.073161\ttest-rmse:1.077174\n",
      "[162]\ttrain-rmse:1.073125\ttest-rmse:1.077174\n",
      "[163]\ttrain-rmse:1.073079\ttest-rmse:1.077171\n",
      "[164]\ttrain-rmse:1.073028\ttest-rmse:1.077138\n",
      "[165]\ttrain-rmse:1.072997\ttest-rmse:1.077115\n",
      "[166]\ttrain-rmse:1.072947\ttest-rmse:1.077097\n",
      "[167]\ttrain-rmse:1.072882\ttest-rmse:1.077054\n",
      "[168]\ttrain-rmse:1.072844\ttest-rmse:1.077050\n",
      "[169]\ttrain-rmse:1.072800\ttest-rmse:1.077030\n",
      "[170]\ttrain-rmse:1.072764\ttest-rmse:1.077035\n",
      "[171]\ttrain-rmse:1.072719\ttest-rmse:1.077015\n",
      "[172]\ttrain-rmse:1.072688\ttest-rmse:1.077005\n",
      "[173]\ttrain-rmse:1.072645\ttest-rmse:1.076987\n",
      "[174]\ttrain-rmse:1.072602\ttest-rmse:1.076999\n",
      "[175]\ttrain-rmse:1.072552\ttest-rmse:1.076987\n",
      "[176]\ttrain-rmse:1.072504\ttest-rmse:1.076984\n",
      "[177]\ttrain-rmse:1.072471\ttest-rmse:1.076967\n",
      "[178]\ttrain-rmse:1.072438\ttest-rmse:1.076964\n",
      "[179]\ttrain-rmse:1.072401\ttest-rmse:1.076977\n",
      "[180]\ttrain-rmse:1.072362\ttest-rmse:1.076965\n",
      "[181]\ttrain-rmse:1.072327\ttest-rmse:1.076951\n",
      "[182]\ttrain-rmse:1.072287\ttest-rmse:1.076934\n",
      "[183]\ttrain-rmse:1.072241\ttest-rmse:1.076941\n",
      "[184]\ttrain-rmse:1.072204\ttest-rmse:1.076931\n",
      "[185]\ttrain-rmse:1.072158\ttest-rmse:1.076929\n",
      "[186]\ttrain-rmse:1.072138\ttest-rmse:1.076930\n",
      "[187]\ttrain-rmse:1.072098\ttest-rmse:1.076909\n",
      "[188]\ttrain-rmse:1.072081\ttest-rmse:1.076902\n",
      "[189]\ttrain-rmse:1.072043\ttest-rmse:1.076895\n",
      "[190]\ttrain-rmse:1.072004\ttest-rmse:1.076889\n",
      "[191]\ttrain-rmse:1.071963\ttest-rmse:1.076880\n",
      "[192]\ttrain-rmse:1.071922\ttest-rmse:1.076871\n",
      "[193]\ttrain-rmse:1.071887\ttest-rmse:1.076866\n",
      "[194]\ttrain-rmse:1.071854\ttest-rmse:1.076864\n",
      "[195]\ttrain-rmse:1.071823\ttest-rmse:1.076851\n",
      "[196]\ttrain-rmse:1.071784\ttest-rmse:1.076850\n",
      "[197]\ttrain-rmse:1.071740\ttest-rmse:1.076821\n",
      "[198]\ttrain-rmse:1.071699\ttest-rmse:1.076814\n",
      "[199]\ttrain-rmse:1.071659\ttest-rmse:1.076805\n",
      "[200]\ttrain-rmse:1.071622\ttest-rmse:1.076803\n"
     ]
    }
   ],
   "source": [
    "bst = fast_test_mse();"
   ]
  },
  {
   "cell_type": "code",
   "execution_count": 15,
   "id": "c56cc8ae-cfc1-489a-b38b-63c1264d6e08",
   "metadata": {},
   "outputs": [],
   "source": [
    "# [200]\ttrain-rmse:1.071622\ttest-rmse:1.076803\n",
    "# 1.0787960391164935"
   ]
  },
  {
   "cell_type": "code",
   "execution_count": 16,
   "id": "ebda1ed5-56fb-410c-a9e2-9d4d446780a7",
   "metadata": {},
   "outputs": [
    {
     "name": "stderr",
     "output_type": "stream",
     "text": [
      "\u001b[32mProgress: 100%|███████████████████████████| Time: 0:00:00 (46.64 ns/it)\u001b[39m\n",
      "\u001b[32mProgress: 100%|███████████████████████████| Time: 0:00:00 (35.39 ns/it)\u001b[39m\n",
      "\u001b[32mProgress: 100%|███████████████████████████| Time: 0:00:00 (63.44 ns/it)\u001b[39m\n",
      "\u001b[32mProgress: 100%|███████████████████████████| Time: 0:00:00 (38.09 ns/it)\u001b[39m\n",
      "\u001b[32mProgress: 100%|███████████████████████████| Time: 0:00:00 (61.52 ns/it)\u001b[39m\n",
      "\u001b[32mProgress: 100%|███████████████████████████| Time: 0:00:00 (39.07 ns/it)\u001b[39m\n",
      "\u001b[32mProgress: 100%|███████████████████████████| Time: 0:00:00 ( 1.06 μs/it)\u001b[39m\n",
      "\u001b[32mProgress: 100%|███████████████████████████| Time: 0:00:00 ( 0.87 μs/it)\u001b[39m\n",
      "\u001b[32mProgress: 100%|███████████████████████████| Time: 0:00:00 ( 0.75 μs/it)\u001b[39m\n",
      "\u001b[38;5;6m\u001b[1m[ \u001b[22m\u001b[39m\u001b[38;5;6m\u001b[1mInfo: \u001b[22m\u001b[39m20220108 05:11:29 XGBoost model test rmse 1.0787960391164935\n"
     ]
    }
   ],
   "source": [
    "@info \"XGBoost model test rmse $(evaluate(bst))\""
   ]
  },
  {
   "cell_type": "code",
   "execution_count": 17,
   "id": "26c8c072-7de2-4064-9e81-e60d92489474",
   "metadata": {},
   "outputs": [],
   "source": [
    "xgboost_model_fn = \"../../data/alphas/$name/xgb.model\"\n",
    "XGBoost.save(bst, xgboost_model_fn)\n",
    "write_params(Dict(\"β\" => β, \"alphas\" => alphas, \"bst\" => xgboost_model_fn));"
   ]
  }
 ],
 "metadata": {
  "kernelspec": {
   "display_name": "Julia 1.6.3",
   "language": "julia",
   "name": "julia-1.6"
  },
  "language_info": {
   "file_extension": ".jl",
   "mimetype": "application/julia",
   "name": "julia",
   "version": "1.6.3"
  }
 },
 "nbformat": 4,
 "nbformat_minor": 5
}
