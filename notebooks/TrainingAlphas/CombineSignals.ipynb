{
 "cells": [
  {
   "cell_type": "code",
   "execution_count": 1,
   "id": "79559bef-810a-402f-ad21-52092ec933f4",
   "metadata": {},
   "outputs": [],
   "source": [
    "name = \"CombineSignals\"\n",
    "residual_alphas = [];"
   ]
  },
  {
   "cell_type": "code",
   "execution_count": 2,
   "id": "69b5a19a-24f5-4730-afe2-f451d27d18e3",
   "metadata": {},
   "outputs": [],
   "source": [
    "using NBInclude\n",
    "@nbinclude(\"Alpha.ipynb\");"
   ]
  },
  {
   "cell_type": "code",
   "execution_count": 33,
   "id": "fe4ad27b-d09d-4679-8632-fc880fa82503",
   "metadata": {},
   "outputs": [
    {
     "data": {
      "text/plain": [
       "14-element Vector{String}:\n",
       " \"UserItemBiases\"\n",
       " \"ItemCF.16\"\n",
       " \"ItemCF.64\"\n",
       " \"ItemCF.256\"\n",
       " \"ItemCF.1024\"\n",
       " \"ItemCFResid.16\"\n",
       " \"ItemCFResid.64\"\n",
       " \"ItemCFResid.256\"\n",
       " \"ItemCFResid.1024\"\n",
       " \"MatrixFactorization.10\"\n",
       " \"MatrixFactorization.20\"\n",
       " \"MatrixFactorization.40\"\n",
       " \"ItemCFRelated.all\"\n",
       " \"ItemCFRelated.strict\""
      ]
     },
     "execution_count": 33,
     "metadata": {},
     "output_type": "execute_result"
    }
   ],
   "source": [
    "downcast_to_int(x) = isinteger(x) ? Int(x) : x\n",
    "alphas = [\n",
    "    [\"UserItemBiases\"]\n",
    "    [\"ItemCF.$K\" for K in downcast_to_int.([2^4, 2^6, 2^8, 2^10])]\n",
    "    [\"ItemCFResid.$K\" for K in downcast_to_int.([2^4, 2^6, 2^8, 2^10])]\n",
    "    [\"MatrixFactorization.$K\" for K in downcast_to_int.([10, 20, 40])]\n",
    "    [\"ItemCFRelated.$name\" for name in [\"all\", \"strict\"]] #TODO erase strict\n",
    "    # [\"MatrixFactorization$K\" for K in downcast_to_int.([10, 20, 40])] # TODO erase\n",
    "    # [\"ItemCFEmbed.64\"]\n",
    "]"
   ]
  },
  {
   "cell_type": "code",
   "execution_count": 34,
   "id": "aeb58470-65ed-4227-806d-e4e85a0b0a47",
   "metadata": {},
   "outputs": [],
   "source": [
    "function evaluate(X, y, β)\n",
    "    y_pred = X * β\n",
    "    #y_pred = clamp.(y_pred, 1, 10)\n",
    "    rmse(y, y_pred), mae(y, y_pred), r2(y, y_pred), mse(y, y_pred)\n",
    "end;"
   ]
  },
  {
   "cell_type": "code",
   "execution_count": 35,
   "id": "e9c8053f-2038-4d35-94bf-bf0f737f457a",
   "metadata": {},
   "outputs": [],
   "source": [
    "function get_dep(split)\n",
    "    return get_split(split).rating\n",
    "end\n",
    "\n",
    "function get_indep(split, alphas)\n",
    "    users = get_split(split).user\n",
    "    X = zeros(length(users), length(alphas))\n",
    "    for j = 1:length(alphas)\n",
    "        X[:, j] = get_alpha(alphas[j], split).rating\n",
    "    end\n",
    "    X\n",
    "end;"
   ]
  },
  {
   "cell_type": "code",
   "execution_count": 36,
   "id": "bfdafacf-3939-4348-adbb-956df1c509a7",
   "metadata": {},
   "outputs": [
    {
     "data": {
      "text/plain": [
       "14-element Vector{Float64}:\n",
       "  0.9915592088574635\n",
       "  0.13126232057409348\n",
       "  0.08674694545884268\n",
       " -0.014685501923813056\n",
       "  0.42729225302206725\n",
       "  0.01513246603960907\n",
       "  0.021482683996924004\n",
       "  0.15796650553064512\n",
       "  1.6324035662645906\n",
       "  0.15327661142243515\n",
       "  0.1466221116911372\n",
       "  0.15013298700691638\n",
       "  2.645529810275075\n",
       "  1.877112540771867"
      ]
     },
     "execution_count": 36,
     "metadata": {},
     "output_type": "execute_result"
    }
   ],
   "source": [
    "β = get_indep(\"validation\", alphas) \\ get_dep(\"validation\")"
   ]
  },
  {
   "cell_type": "code",
   "execution_count": 37,
   "id": "96a8b0d8-b45a-48b7-bee7-de8119e1b912",
   "metadata": {},
   "outputs": [
    {
     "data": {
      "text/plain": [
       "(1.093879907684041, 0.7919769463300685, 0.6225990640379585, 1.1965732524348465)"
      ]
     },
     "execution_count": 37,
     "metadata": {},
     "output_type": "execute_result"
    }
   ],
   "source": [
    "evaluate(get_indep(\"validation\", alphas), get_dep(\"validation\"), β)"
   ]
  },
  {
   "cell_type": "code",
   "execution_count": 38,
   "id": "82ffd4f5-beb1-4101-85c2-a5f6e88314d2",
   "metadata": {
    "tags": []
   },
   "outputs": [
    {
     "data": {
      "text/plain": [
       "(1.0940811908636607, 0.7921469812597033, 0.6225279534341472, 1.1970136522016461)"
      ]
     },
     "execution_count": 38,
     "metadata": {},
     "output_type": "execute_result"
    }
   ],
   "source": [
    "evaluate(get_indep(\"test\", alphas), get_dep(\"test\"), β)"
   ]
  },
  {
   "cell_type": "code",
   "execution_count": 39,
   "id": "4fdc8d7d-0197-4c7d-b5d6-0f535a203c8a",
   "metadata": {},
   "outputs": [
    {
     "data": {
      "text/plain": [
       "1.1905903861726723"
      ]
     },
     "execution_count": 39,
     "metadata": {},
     "output_type": "execute_result"
    }
   ],
   "source": [
    "1.1965732524348465 * 0.995"
   ]
  },
  {
   "cell_type": "code",
   "execution_count": 9,
   "id": "26c8c072-7de2-4064-9e81-e60d92489474",
   "metadata": {},
   "outputs": [],
   "source": [
    "write_params(Dict(\"β\" => β, \"alphas\" => alphas));"
   ]
  }
 ],
 "metadata": {
  "kernelspec": {
   "display_name": "Julia 1.6.3",
   "language": "julia",
   "name": "julia-1.6"
  },
  "language_info": {
   "file_extension": ".jl",
   "mimetype": "application/julia",
   "name": "julia",
   "version": "1.6.3"
  }
 },
 "nbformat": 4,
 "nbformat_minor": 5
}
