{
 "cells": [
  {
   "cell_type": "code",
   "execution_count": 1,
   "id": "79559bef-810a-402f-ad21-52092ec933f4",
   "metadata": {},
   "outputs": [],
   "source": [
    "name = \"CombineSignals\"\n",
    "residual_alphas = [];"
   ]
  },
  {
   "cell_type": "code",
   "execution_count": 2,
   "id": "69b5a19a-24f5-4730-afe2-f451d27d18e3",
   "metadata": {},
   "outputs": [],
   "source": [
    "using NBInclude\n",
    "@nbinclude(\"Alpha.ipynb\");"
   ]
  },
  {
   "cell_type": "code",
   "execution_count": 10,
   "id": "fe4ad27b-d09d-4679-8632-fc880fa82503",
   "metadata": {},
   "outputs": [],
   "source": [
    "alphas = [\n",
    "    \"UserItemBiases\",\n",
    "    \"MatrixFactorization.10\",\n",
    "    \"MatrixFactorization.20\",\n",
    "    \"MatrixFactorization.40\",\n",
    "    # \"MatrixFactorization10\",\n",
    "    # \"MatrixFactorization20\",\n",
    "    # \"MatrixFactorization40\",\n",
    "    \"ItemCF.16\",\n",
    "    \"ItemCF.64\",\n",
    "    \"ItemCF.256\",\n",
    "    \"ItemCF.1024\",\n",
    "];"
   ]
  },
  {
   "cell_type": "code",
   "execution_count": 11,
   "id": "aeb58470-65ed-4227-806d-e4e85a0b0a47",
   "metadata": {},
   "outputs": [],
   "source": [
    "function evaluate(X, y, β)\n",
    "    y_pred = X * β\n",
    "    y_pred = clamp.(y_pred, 1, 10)\n",
    "    rmse(y, y_pred), mae(y, y_pred), r2(y, y_pred), mse(y, y_pred)\n",
    "end;"
   ]
  },
  {
   "cell_type": "code",
   "execution_count": 12,
   "id": "e9c8053f-2038-4d35-94bf-bf0f737f457a",
   "metadata": {},
   "outputs": [],
   "source": [
    "function get_dep(split)\n",
    "    return get_split(split).rating\n",
    "end\n",
    "\n",
    "function get_indep(split, alphas)\n",
    "    users = get_split(split).user\n",
    "    X = zeros(length(users), length(alphas))\n",
    "    for j = 1:length(alphas)\n",
    "        X[:, j] = get_alpha(alphas[j], split).rating\n",
    "    end\n",
    "    X\n",
    "end;"
   ]
  },
  {
   "cell_type": "code",
   "execution_count": 13,
   "id": "bfdafacf-3939-4348-adbb-956df1c509a7",
   "metadata": {},
   "outputs": [
    {
     "data": {
      "text/plain": [
       "11-element Vector{Float64}:\n",
       "  0.9945339708896017\n",
       " -0.40699572280314\n",
       "  0.14323259490309695\n",
       "  0.15898102448704596\n",
       "  0.507809741190879\n",
       " -0.00012544686411412387\n",
       "  0.031225258418709413\n",
       "  0.17415120657774044\n",
       "  0.03758317830008589\n",
       "  0.008227251720132923\n",
       "  0.47013425425062483"
      ]
     },
     "execution_count": 13,
     "metadata": {},
     "output_type": "execute_result"
    }
   ],
   "source": [
    "β = get_indep(\"validation\", alphas) \\ get_dep(\"validation\")"
   ]
  },
  {
   "cell_type": "code",
   "execution_count": 14,
   "id": "96a8b0d8-b45a-48b7-bee7-de8119e1b912",
   "metadata": {},
   "outputs": [
    {
     "data": {
      "text/plain": [
       "(1.1017770402942741, 0.799032479141395, 0.6171301940433394, 1.2139126465196108)"
      ]
     },
     "execution_count": 14,
     "metadata": {},
     "output_type": "execute_result"
    }
   ],
   "source": [
    "evaluate(get_indep(\"validation\", alphas), get_dep(\"validation\"), β)"
   ]
  },
  {
   "cell_type": "code",
   "execution_count": 15,
   "id": "82ffd4f5-beb1-4101-85c2-a5f6e88314d2",
   "metadata": {
    "tags": []
   },
   "outputs": [
    {
     "data": {
      "text/plain": [
       "(1.1019003607042563, 0.7991239952435383, 0.6171132456254131, 1.2141844049201704)"
      ]
     },
     "execution_count": 15,
     "metadata": {},
     "output_type": "execute_result"
    }
   ],
   "source": [
    "evaluate(get_indep(\"test\", alphas), get_dep(\"test\"), β)"
   ]
  },
  {
   "cell_type": "code",
   "execution_count": 9,
   "id": "26c8c072-7de2-4064-9e81-e60d92489474",
   "metadata": {},
   "outputs": [],
   "source": [
    "write_params(Dict(\"β\" => β, \"alphas\" => alphas));"
   ]
  }
 ],
 "metadata": {
  "kernelspec": {
   "display_name": "Julia 1.6.3",
   "language": "julia",
   "name": "julia-1.6"
  },
  "language_info": {
   "file_extension": ".jl",
   "mimetype": "application/julia",
   "name": "julia",
   "version": "1.6.3"
  }
 },
 "nbformat": 4,
 "nbformat_minor": 5
}
