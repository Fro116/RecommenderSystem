{
 "cells": [
  {
   "cell_type": "code",
   "execution_count": 1,
   "id": "79559bef-810a-402f-ad21-52092ec933f4",
   "metadata": {},
   "outputs": [],
   "source": [
    "name = \"CombineSignals\"\n",
    "residual_alphas = [];"
   ]
  },
  {
   "cell_type": "code",
   "execution_count": 2,
   "id": "3779f4da-b021-4fff-bbd6-5f797d26a06a",
   "metadata": {},
   "outputs": [],
   "source": [
    "using DataFrames\n",
    "using Random\n",
    "import XGBoost"
   ]
  },
  {
   "cell_type": "code",
   "execution_count": 3,
   "id": "69b5a19a-24f5-4730-afe2-f451d27d18e3",
   "metadata": {},
   "outputs": [],
   "source": [
    "using NBInclude\n",
    "@nbinclude(\"Alpha.ipynb\");"
   ]
  },
  {
   "cell_type": "code",
   "execution_count": 4,
   "id": "5b499c9d-91fd-45bd-a632-592bb8a685e5",
   "metadata": {},
   "outputs": [],
   "source": [
    "@nbinclude(\"XGBoostFeatures.ipynb\");"
   ]
  },
  {
   "cell_type": "markdown",
   "id": "aa36180e-ce49-4387-8e37-de289d51a3da",
   "metadata": {},
   "source": [
    "## Train a linear model"
   ]
  },
  {
   "cell_type": "code",
   "execution_count": 5,
   "id": "fe4ad27b-d09d-4679-8632-fc880fa82503",
   "metadata": {},
   "outputs": [
    {
     "data": {
      "text/plain": [
       "14-element Vector{String}:\n",
       " \"UserItemBiases\"\n",
       " \"ItemCF.16\"\n",
       " \"ItemCF.64\"\n",
       " \"ItemCF.256\"\n",
       " \"ItemCF.1024\"\n",
       " \"ItemCFResid.16\"\n",
       " \"ItemCFResid.64\"\n",
       " \"ItemCFResid.256\"\n",
       " \"ItemCFResid.1024\"\n",
       " \"MatrixFactorization.10\"\n",
       " \"MatrixFactorization.20\"\n",
       " \"MatrixFactorization.40\"\n",
       " \"ItemCFRelated.all\"\n",
       " \"ItemCFEmbed.1024\""
      ]
     },
     "execution_count": 5,
     "metadata": {},
     "output_type": "execute_result"
    }
   ],
   "source": [
    "downcast_to_int(x) = isinteger(x) ? Int(x) : x\n",
    "alphas = [\n",
    "    [\"UserItemBiases\"]\n",
    "    [\"ItemCF.$K\" for K in downcast_to_int.([2^4, 2^6, 2^8, 2^10])]\n",
    "    [\"ItemCFResid.$K\" for K in downcast_to_int.([2^4, 2^6, 2^8, 2^10])]\n",
    "    [\"MatrixFactorization.$K\" for K in downcast_to_int.([10, 20, 40])]\n",
    "    [\"ItemCFRelated.$name\" for name in [\"all\"]]\n",
    "    # [\"UserCF.1024\"]\n",
    "    [\"ItemCFEmbed.1024\"] # 0.12%\n",
    "]"
   ]
  },
  {
   "cell_type": "code",
   "execution_count": 6,
   "id": "bfdafacf-3939-4348-adbb-956df1c509a7",
   "metadata": {},
   "outputs": [
    {
     "data": {
      "text/plain": [
       "14-element Vector{Float64}:\n",
       " 0.991941501581278\n",
       " 0.10065864678782964\n",
       " 0.101254633495204\n",
       " 0.027979284197341876\n",
       " 0.3084945753024404\n",
       " 0.009298704395049765\n",
       " 0.024201408984978807\n",
       " 0.16357032412742567\n",
       " 1.60804410709948\n",
       " 0.15410659871205612\n",
       " 0.1398040394323862\n",
       " 0.13999048590054403\n",
       " 3.859510613782815\n",
       " 0.1230795003983232"
      ]
     },
     "execution_count": 6,
     "metadata": {},
     "output_type": "execute_result"
    }
   ],
   "source": [
    "β = get_indep(\"validation\", alphas) \\ get_dep(\"validation\")"
   ]
  },
  {
   "cell_type": "code",
   "execution_count": 7,
   "id": "aeb58470-65ed-4227-806d-e4e85a0b0a47",
   "metadata": {
    "tags": []
   },
   "outputs": [],
   "source": [
    "function evaluate(X, y, β)\n",
    "    y_pred = X * β\n",
    "    y_pred = clamp.(y_pred, 1, 10)\n",
    "    rmse(y, y_pred), mae(y, y_pred), r2(y, y_pred), mse(y, y_pred)\n",
    "end;"
   ]
  },
  {
   "cell_type": "code",
   "execution_count": 8,
   "id": "ab934309-5b2a-47ab-9506-43c59ee7ea23",
   "metadata": {},
   "outputs": [
    {
     "data": {
      "text/plain": [
       "(1.0925873446799506, 0.7889391360879495, 0.6235580419132811, 1.1937471057547853)"
      ]
     },
     "execution_count": 8,
     "metadata": {},
     "output_type": "execute_result"
    }
   ],
   "source": [
    "evaluate(get_indep(\"test\", alphas), get_dep(\"test\"), β)"
   ]
  },
  {
   "cell_type": "markdown",
   "id": "0859f0de-2e2c-4ef1-a6e5-26f1425e0aea",
   "metadata": {},
   "source": [
    "## Train an XGBoost model"
   ]
  },
  {
   "cell_type": "code",
   "execution_count": 9,
   "id": "fa421e7d-6c62-4cdb-af3f-bc75c9b8e90a",
   "metadata": {},
   "outputs": [],
   "source": [
    "function get_augmented_indep(split, alphas)\n",
    "    hcat(get_indep(split, alphas), get_xgboost_features(split))\n",
    "end;"
   ]
  },
  {
   "cell_type": "code",
   "execution_count": 10,
   "id": "6cd96824-82ef-4225-8e75-f0650d439528",
   "metadata": {},
   "outputs": [],
   "source": [
    "function get_xgboost_split(training_perc)\n",
    "    Random.seed!(20220104)\n",
    "    val_rows = length(get_dep(\"validation\"))\n",
    "    val_shuffle = shuffle(1:val_rows)\n",
    "    val_train_size = Int(round(val_rows * training_perc))\n",
    "    X = convert.(Float32, get_augmented_indep(\"validation\", alphas))\n",
    "    Y = convert.(Float32, get_dep(\"validation\") - get_indep(\"validation\", alphas) * β)\n",
    "    X_val_train = X[val_shuffle[1:val_train_size], :]\n",
    "    Y_val_train = Y[val_shuffle[1:val_train_size]]\n",
    "    X_val_test = X[val_shuffle[val_train_size+1:end], :]\n",
    "    Y_val_test = Y[val_shuffle[val_train_size+1:end]]\n",
    "    (\n",
    "        XGBoost.DMatrix(X_val_train, label = Y_val_train),\n",
    "        XGBoost.DMatrix(X_val_test, label = Y_val_test),\n",
    "    )\n",
    "end;"
   ]
  },
  {
   "cell_type": "code",
   "execution_count": 11,
   "id": "ea202762-ec96-49bc-bf1a-493ee9018746",
   "metadata": {},
   "outputs": [],
   "source": [
    "function fast_test_mse()\n",
    "    # TODO early stopping\n",
    "    dtrain, dtest = get_xgboost_split(0.9999)\n",
    "    bst = XGBoost.xgboost(\n",
    "        dtrain,\n",
    "        200,\n",
    "        watchlist = [(dtrain, \"train\"), (dtest, \"test\")],\n",
    "        objective = \"reg:squarederror\",\n",
    "        nthread = Threads.nthreads(),\n",
    "    )\n",
    "end;"
   ]
  },
  {
   "cell_type": "code",
   "execution_count": 12,
   "id": "5c31abce-ab2b-4070-b033-54c0dd98f86f",
   "metadata": {},
   "outputs": [],
   "source": [
    "function evaluate(bst)\n",
    "    X_test = convert.(Float32, get_augmented_indep(\"test\", alphas))\n",
    "    Y_test = convert.(Float32, get_dep(\"test\"))\n",
    "    preds = XGBoost.predict(bst, X_test)\n",
    "    preds += get_indep(\"test\", alphas) * β\n",
    "    rmse(Y_test, clamp.(preds, 1, 10))\n",
    "end;"
   ]
  },
  {
   "cell_type": "code",
   "execution_count": null,
   "id": "e45466cb-45f2-442c-ac96-2d6a026787da",
   "metadata": {
    "collapsed": true,
    "jupyter": {
     "outputs_hidden": true
    },
    "tags": []
   },
   "outputs": [
    {
     "name": "stderr",
     "output_type": "stream",
     "text": [
      "\u001b[32mProgress: 100%|███████████████████████████| Time: 0:00:02 ( 0.57 μs/it)\u001b[39m39m\n",
      "\u001b[32mProgress: 100%|███████████████████████████| Time: 0:00:00 (38.98 ns/it)\u001b[39m\n",
      "\u001b[32mProgress: 100%|███████████████████████████| Time: 0:00:00 (66.69 ns/it)\u001b[39m\n",
      "\u001b[32mProgress: 100%|███████████████████████████| Time: 0:00:00 (39.91 ns/it)\u001b[39m\n",
      "\u001b[32mProgress: 100%|███████████████████████████| Time: 0:00:00 (65.27 ns/it)\u001b[39m\n",
      "\u001b[32mProgress: 100%|███████████████████████████| Time: 0:00:00 (39.96 ns/it)\u001b[39m\n",
      "\u001b[32mProgress: 100%|███████████████████████████| Time: 0:00:00 ( 1.49 μs/it)\u001b[39mit)\u001b[39m\n",
      "\u001b[32mProgress: 100%|███████████████████████████| Time: 0:00:00 ( 1.17 μs/it)\u001b[39mm\n",
      "\u001b[32mProgress: 100%|███████████████████████████| Time: 0:00:00 ( 0.82 μs/it)\u001b[39m\n",
      "[1]\ttrain-rmse:1.145249\ttest-rmse:1.144691\n",
      "[2]\ttrain-rmse:1.116258\ttest-rmse:1.110682\n",
      "[3]\ttrain-rmse:1.101579\ttest-rmse:1.092922\n",
      "[4]\ttrain-rmse:1.094043\ttest-rmse:1.083369\n",
      "[5]\ttrain-rmse:1.090222\ttest-rmse:1.077469\n",
      "[6]\ttrain-rmse:1.088110\ttest-rmse:1.073940\n",
      "[7]\ttrain-rmse:1.087028\ttest-rmse:1.071873\n",
      "[8]\ttrain-rmse:1.086313\ttest-rmse:1.071147\n",
      "[9]\ttrain-rmse:1.085773\ttest-rmse:1.070214\n",
      "[10]\ttrain-rmse:1.085377\ttest-rmse:1.068699\n",
      "[11]\ttrain-rmse:1.085139\ttest-rmse:1.068033\n",
      "[12]\ttrain-rmse:1.084759\ttest-rmse:1.067443\n",
      "[13]\ttrain-rmse:1.084528\ttest-rmse:1.066800\n",
      "[14]\ttrain-rmse:1.084339\ttest-rmse:1.066744\n",
      "[15]\ttrain-rmse:1.084146\ttest-rmse:1.067177\n",
      "[16]\ttrain-rmse:1.083987\ttest-rmse:1.066581\n",
      "[17]\ttrain-rmse:1.083771\ttest-rmse:1.066650\n",
      "[18]\ttrain-rmse:1.083619\ttest-rmse:1.066483\n",
      "[19]\ttrain-rmse:1.083447\ttest-rmse:1.066424\n",
      "[20]\ttrain-rmse:1.083337\ttest-rmse:1.066034\n",
      "[21]\ttrain-rmse:1.083220\ttest-rmse:1.066030\n",
      "[22]\ttrain-rmse:1.083116\ttest-rmse:1.065802\n",
      "[23]\ttrain-rmse:1.082982\ttest-rmse:1.066465\n",
      "[24]\ttrain-rmse:1.082865\ttest-rmse:1.066010\n",
      "[25]\ttrain-rmse:1.082729\ttest-rmse:1.065462\n",
      "[26]\ttrain-rmse:1.082624\ttest-rmse:1.065550\n",
      "[27]\ttrain-rmse:1.082547\ttest-rmse:1.065328\n",
      "[28]\ttrain-rmse:1.082423\ttest-rmse:1.065269\n",
      "[29]\ttrain-rmse:1.082367\ttest-rmse:1.065678\n",
      "[30]\ttrain-rmse:1.082292\ttest-rmse:1.065273\n",
      "[31]\ttrain-rmse:1.082174\ttest-rmse:1.064959\n",
      "[32]\ttrain-rmse:1.082016\ttest-rmse:1.064780\n",
      "[33]\ttrain-rmse:1.081890\ttest-rmse:1.064918\n",
      "[34]\ttrain-rmse:1.081809\ttest-rmse:1.064697\n",
      "[35]\ttrain-rmse:1.081741\ttest-rmse:1.064600\n",
      "[36]\ttrain-rmse:1.081635\ttest-rmse:1.064561\n",
      "[37]\ttrain-rmse:1.081563\ttest-rmse:1.064755\n",
      "[38]\ttrain-rmse:1.081466\ttest-rmse:1.064390\n",
      "[39]\ttrain-rmse:1.081409\ttest-rmse:1.064430\n",
      "[40]\ttrain-rmse:1.081306\ttest-rmse:1.064468\n",
      "[41]\ttrain-rmse:1.081197\ttest-rmse:1.064034\n",
      "[42]\ttrain-rmse:1.081129\ttest-rmse:1.063992\n"
     ]
    }
   ],
   "source": [
    "bst = fast_test_mse();"
   ]
  },
  {
   "cell_type": "code",
   "execution_count": null,
   "id": "c56cc8ae-cfc1-489a-b38b-63c1264d6e08",
   "metadata": {},
   "outputs": [],
   "source": [
    "# [200]\ttrain-rmse:1.074031\ttest-rmse:1.079130\n",
    "# 1.080729819370984"
   ]
  },
  {
   "cell_type": "code",
   "execution_count": null,
   "id": "ebda1ed5-56fb-410c-a9e2-9d4d446780a7",
   "metadata": {},
   "outputs": [],
   "source": [
    "@info \"XGBoost model test rmse $(evaluate(bst))\""
   ]
  },
  {
   "cell_type": "code",
   "execution_count": null,
   "id": "26c8c072-7de2-4064-9e81-e60d92489474",
   "metadata": {},
   "outputs": [],
   "source": [
    "xgboost_model_fn = \"../../data/alphas/$name/xgb.model\"\n",
    "XGBoost.save(bst, xgboost_model_fn)\n",
    "write_params(Dict(\"β\" => β, \"alphas\" => alphas, \"bst\" => xgboost_model_fn));"
   ]
  }
 ],
 "metadata": {
  "kernelspec": {
   "display_name": "Julia 1.6.3",
   "language": "julia",
   "name": "julia-1.6"
  },
  "language_info": {
   "file_extension": ".jl",
   "mimetype": "application/julia",
   "name": "julia",
   "version": "1.6.3"
  }
 },
 "nbformat": 4,
 "nbformat_minor": 5
}
