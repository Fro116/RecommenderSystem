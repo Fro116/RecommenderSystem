{
 "cells": [
  {
   "cell_type": "markdown",
   "id": "c3758ece-9b72-47b4-ae6a-aa364e0443e3",
   "metadata": {},
   "source": [
    "# User Item Biases With Regularization\n",
    "* Prediction for user $i$ and item $j$ is $\\tilde r_{ij} = u_i + a_j$\n",
    "* Loss function is $L = \\sum_{\\Omega}w_{ij}\\text{loss}(r_{ij}, \\tilde r_{ij}) + \\lambda_u \\sum_i (u_i - \\bar u) ^2 + \\lambda_a \\sum_j (a_j - \\bar a)^2 $\n",
    "* $\\bar u$ is the mean of $u_i$ and $\\bar a$ is the mean of $a_j$ \n",
    "* $\\Omega$ is the set of oberved pairs $(i, j)$\n",
    "* $r_{ij}$ is the rating for user $i$ and item $j$\n",
    "* $w_{ij}$ is the weight for the prediction $r_{ij}$ and is modeled as a power-law in the number of items seen by $i$ and users than have seen $j$: $w_{ij} = |j' : (i, j') \\in \\Omega| ^ {\\lambda_{wu}} |i' : (i', j) \\in \\Omega| ^ {\\lambda_{wa}}$\n",
    "* $\\text{loss}$ is mean squared error"
   ]
  },
  {
   "cell_type": "code",
   "execution_count": 1,
   "id": "7cc9334a-2287-41d6-885b-a5cca94fe263",
   "metadata": {},
   "outputs": [],
   "source": [
    "const name = \"ExplicitUserItemBiases\"\n",
    "const implicit = false;"
   ]
  },
  {
   "cell_type": "code",
   "execution_count": 2,
   "id": "df87db6f-667c-4bc2-9d48-7f4debe6750f",
   "metadata": {
    "tags": []
   },
   "outputs": [],
   "source": [
    "import NBInclude: @nbinclude\n",
    "import SparseArrays: sparse\n",
    "import Statistics: mean\n",
    "@nbinclude(\"Alpha.ipynb\");"
   ]
  },
  {
   "cell_type": "code",
   "execution_count": 3,
   "id": "2964541d-4796-47fd-ac77-91a2eaefc679",
   "metadata": {},
   "outputs": [],
   "source": [
    "const training = get_split(\"training\", implicit)\n",
    "const validation = get_split(\"validation\", implicit);"
   ]
  },
  {
   "cell_type": "markdown",
   "id": "99f52a69-0231-4bff-8a9f-26bb16ee9f33",
   "metadata": {
    "tags": []
   },
   "source": [
    "## Alternating Least Squares\n",
    "* Given some hyperparameters $\\lambda$, we can solve for $U$ and $A$ via Alternating Least Squares\n",
    "* This is an iterative algorithm where we fix $A$, then solve for the $U$ that minimizes the loss function\n",
    "* Then we fix $U$ and solve for the best $A$\n",
    "* These two steps are repeated until the matrices $U$ and $A$ converge"
   ]
  },
  {
   "cell_type": "markdown",
   "id": "1d7f343e-0410-407f-9ae3-17e49ec57439",
   "metadata": {},
   "source": [
    "## ALS for Explicit data\n",
    "* If we fix $a$, then for each user $i$, $u_i$ is optimized when\n",
    "* $u_i = \\dfrac{\\sum_{j \\in \\Omega_i}(r_{ij} - a_j) w_{ij} + \\bar u \\lambda_u}{ \\sum_{j \\in \\Omega_i} w_{ij} + \\lambda_u}$\n",
    "* $\\Omega$ is the set of (user, item) pairs that we have ratings for\n",
    "* $\\Omega_i$ is subset of $\\Omega$ for which the user is the $i$-th user"
   ]
  },
  {
   "cell_type": "code",
   "execution_count": 4,
   "id": "59fb718e-dc9e-4452-b72c-829ae2d843ff",
   "metadata": {},
   "outputs": [],
   "source": [
    "function make_prediction(users, items, u, a)\n",
    "    r = Array{eltype(u)}(undef, length(users))\n",
    "    Threads.@threads for i = 1:length(r)\n",
    "        @inbounds r[i] = u[users[i]] + a[items[i]]\n",
    "    end\n",
    "    r\n",
    "end;"
   ]
  },
  {
   "cell_type": "code",
   "execution_count": 5,
   "id": "fb96c1bd-40b5-457b-9872-ca6633256390",
   "metadata": {},
   "outputs": [],
   "source": [
    "function get_residuals!(users, items, ratings, weights, a, ρ, Ω)\n",
    "    @inbounds for row = 1:length(users)\n",
    "        i = users[row]\n",
    "        j = items[row]\n",
    "        r = ratings[row]\n",
    "        w = weights[row]\n",
    "        ρ[i] += (r - a[j]) * w\n",
    "        Ω[i] += w\n",
    "    end\n",
    "    ρ, Ω\n",
    "end\n",
    "\n",
    "function update_users!(users, items, ratings, weights, u, a, λ_u, ρ, Ω)\n",
    "    Threads.@threads for t = 1:Threads.nthreads()\n",
    "        range = thread_range(length(ratings))\n",
    "        ρ[:, Threads.threadid()] .= 0\n",
    "        Ω[:, Threads.threadid()] .= 0\n",
    "        @views get_residuals!(\n",
    "            users[range],\n",
    "            items[range],\n",
    "            ratings[range],\n",
    "            weights[range],\n",
    "            a,\n",
    "            ρ[:, Threads.threadid()],\n",
    "            Ω[:, Threads.threadid()],\n",
    "        )\n",
    "    end\n",
    "\n",
    "    ρ = sum(ρ, dims = 2)\n",
    "    Ω = sum(Ω, dims = 2)\n",
    "    μ = mean(u)\n",
    "    Threads.@threads for i = 1:length(u)\n",
    "        @inbounds u[i] = (ρ[i] + μ * λ_u) / (Ω[i] + λ_u)\n",
    "    end\n",
    "end;"
   ]
  },
  {
   "cell_type": "code",
   "execution_count": 6,
   "id": "d0371f61-27bf-4f52-b822-d060f7be01b3",
   "metadata": {},
   "outputs": [],
   "source": [
    "function train_model(training, stop_criteria, λ)\n",
    "    @info \"training model with parameters $λ\"\n",
    "    λ_u, λ_a, λ_wu, λ_wa = λ\n",
    "    users, items, ratings = training.user, training.item, training.rating\n",
    "    weights =\n",
    "        expdecay(get_counts(\"training\", implicit), log(λ_wu)) .*\n",
    "        expdecay(get_counts(\"training\", implicit; by_item = true), log(λ_wa))\n",
    "    u = zeros(eltype(λ_u), num_users())\n",
    "    a = zeros(eltype(λ_a), num_items())\n",
    "\n",
    "    ρ_u = zeros(eltype(u), length(u), Threads.nthreads())\n",
    "    Ω_u = zeros(eltype(u), length(u), Threads.nthreads())\n",
    "    ρ_a = zeros(eltype(a), length(a), Threads.nthreads())\n",
    "    Ω_a = zeros(eltype(a), length(a), Threads.nthreads())\n",
    "\n",
    "    while !stop!(stop_criteria, [u, a])\n",
    "        update_users!(users, items, ratings, weights, u, a, λ_u, ρ_u, Ω_u)\n",
    "        update_users!(items, users, ratings, weights, a, u, λ_a, ρ_a, Ω_a)\n",
    "    end\n",
    "    u, a\n",
    "end;"
   ]
  },
  {
   "cell_type": "markdown",
   "id": "d44f0871-3bb4-4083-8bdb-3cb53233298c",
   "metadata": {
    "tags": []
   },
   "source": [
    "## Training"
   ]
  },
  {
   "cell_type": "code",
   "execution_count": 7,
   "id": "c174fef4-e9d4-4fbd-a649-1159f8c07a3f",
   "metadata": {},
   "outputs": [],
   "source": [
    "function validation_mse(λ)\n",
    "    λ = exp.(λ) # ensure λ is nonnegative\n",
    "    stop_criteria = convergence_stopper(1e-6, max_iters = 16)\n",
    "    u, a = train_model(training, stop_criteria, λ)\n",
    "    r = make_prediction(validation.user, validation.item, u, a)\n",
    "    residualized_loss([], implicit, r)\n",
    "end;"
   ]
  },
  {
   "cell_type": "code",
   "execution_count": 8,
   "id": "7d55df8c-06e5-4e8e-814c-41410685842d",
   "metadata": {
    "tags": []
   },
   "outputs": [
    {
     "name": "stderr",
     "output_type": "stream",
     "text": [
      "\u001b[38;5;6m\u001b[1m[ \u001b[22m\u001b[39m\u001b[38;5;6m\u001b[1mInfo: \u001b[22m\u001b[39m20220621 08:07:11 training model with parameters ForwardDiff.Dual{ForwardDiff.Tag{typeof(validation_mse), Float32}, Float32, 4}[Dual{ForwardDiff.Tag{typeof(validation_mse), Float32}}(1.0,1.0,0.0,0.0,0.0), Dual{ForwardDiff.Tag{typeof(validation_mse), Float32}}(1.0,0.0,1.0,0.0,0.0), Dual{ForwardDiff.Tag{typeof(validation_mse), Float32}}(1.0,0.0,0.0,1.0,0.0), Dual{ForwardDiff.Tag{typeof(validation_mse), Float32}}(1.0,0.0,0.0,0.0,1.0)]\n",
      "\u001b[32mProgress: 100%|███████████████████████████| Time: 0:00:00 (83.53 ns/it)\u001b[39mit)\u001b[39m\n"
     ]
    },
    {
     "name": "stdout",
     "output_type": "stream",
     "text": [
      "Iter     Function value   Gradient norm \n",
      "     0     1.813422e+00     5.013248e-02\n",
      " * Current step size: 1.0\n",
      " * time: 0.009202003479003906\n",
      " * g(x): Float32[-0.004593451, -3.0179515f-6, 0.018213123, 0.050132476]\n",
      " * ~inv(H): Float32[1.0 0.0 0.0 0.0; 0.0 1.0 0.0 0.0; 0.0 0.0 1.0 0.0; 0.0 0.0 0.0 1.0]\n",
      " * x: Float32[0.0, 0.0, 0.0, 0.0]\n"
     ]
    },
    {
     "name": "stderr",
     "output_type": "stream",
     "text": [
      "\u001b[38;5;6m\u001b[1m[ \u001b[22m\u001b[39m\u001b[38;5;6m\u001b[1mInfo: \u001b[22m\u001b[39m20220621 08:07:32 training model with parameters ForwardDiff.Dual{ForwardDiff.Tag{typeof(validation_mse), Float32}, Float32, 4}[Dual{ForwardDiff.Tag{typeof(validation_mse), Float32}}(1.004604,1.004604,0.0,0.0,0.0), Dual{ForwardDiff.Tag{typeof(validation_mse), Float32}}(1.000003,0.0,1.000003,0.0,0.0), Dual{ForwardDiff.Tag{typeof(validation_mse), Float32}}(0.9819517,0.0,0.0,0.9819517,0.0), Dual{ForwardDiff.Tag{typeof(validation_mse), Float32}}(0.9511034,0.0,0.0,0.0,0.9511034)]\n",
      "\u001b[38;5;6m\u001b[1m[ \u001b[22m\u001b[39m\u001b[38;5;6m\u001b[1mInfo: \u001b[22m\u001b[39m20220621 08:07:45 training model with parameters ForwardDiff.Dual{ForwardDiff.Tag{typeof(validation_mse), Float32}, Float32, 4}[Dual{ForwardDiff.Tag{typeof(validation_mse), Float32}}(1.023233,1.023233,0.0,0.0,0.0), Dual{ForwardDiff.Tag{typeof(validation_mse), Float32}}(1.0000151,0.0,1.0000151,0.0,0.0), Dual{ForwardDiff.Tag{typeof(validation_mse), Float32}}(0.9129578,0.0,0.0,0.9129578,0.0), Dual{ForwardDiff.Tag{typeof(validation_mse), Float32}}(0.7782851,0.0,0.0,0.0,0.7782851)]\n",
      "\u001b[38;5;6m\u001b[1m[ \u001b[22m\u001b[39m\u001b[38;5;6m\u001b[1mInfo: \u001b[22m\u001b[39m20220621 08:07:58 training model with parameters ForwardDiff.Dual{ForwardDiff.Tag{typeof(validation_mse), Float32}, Float32, 4}[Dual{ForwardDiff.Tag{typeof(validation_mse), Float32}}(1.0047307,1.0047307,0.0,0.0,0.0), Dual{ForwardDiff.Tag{typeof(validation_mse), Float32}}(1.0000031,0.0,1.0000031,0.0,0.0), Dual{ForwardDiff.Tag{typeof(validation_mse), Float32}}(0.9814611,0.0,0.0,0.9814611,0.0), Dual{ForwardDiff.Tag{typeof(validation_mse), Float32}}(0.949796,0.0,0.0,0.0,0.949796)]\n"
     ]
    },
    {
     "name": "stdout",
     "output_type": "stream",
     "text": [
      "     1     1.811670e+00     1.526936e-02\n",
      " * Current step size: 1.0274389\n",
      " * time: 39.213566064834595\n",
      " * g(x): Float32[-0.0010373178, -3.792534f-6, 0.01526936, -0.0015094323]\n",
      " * ~inv(H): Float32[1.0038893 7.92986f-6 -0.03469486 -0.020281833; 7.92986f-6 1.0 -4.4105018f-5 -7.198241f-5; -0.034694858 -4.4105018f-5 1.2139859 0.29076782; -0.020281829 -7.198241f-5 0.29076782 0.97943676]\n",
      " * x: Float32[0.00471949, 3.1007608f-6, -0.01871287, -0.051508054]\n"
     ]
    },
    {
     "name": "stderr",
     "output_type": "stream",
     "text": [
      "\u001b[38;5;6m\u001b[1m[ \u001b[22m\u001b[39m\u001b[38;5;6m\u001b[1mInfo: \u001b[22m\u001b[39m20220621 08:08:11 training model with parameters ForwardDiff.Dual{ForwardDiff.Tag{typeof(validation_mse), Float32}, Float32, 4}[Dual{ForwardDiff.Tag{typeof(validation_mse), Float32}}(1.0062796,1.0062796,0.0,0.0,0.0), Dual{ForwardDiff.Tag{typeof(validation_mse), Float32}}(1.0000075,0.0,1.0000075,0.0,0.0), Dual{ForwardDiff.Tag{typeof(validation_mse), Float32}}(0.96382385,0.0,0.0,0.96382385,0.0), Dual{ForwardDiff.Tag{typeof(validation_mse), Float32}}(0.9469675,0.0,0.0,0.0,0.9469675)]\n",
      "\u001b[38;5;6m\u001b[1m[ \u001b[22m\u001b[39m\u001b[38;5;6m\u001b[1mInfo: \u001b[22m\u001b[39m20220621 08:08:24 training model with parameters ForwardDiff.Dual{ForwardDiff.Tag{typeof(validation_mse), Float32}, Float32, 4}[Dual{ForwardDiff.Tag{typeof(validation_mse), Float32}}(1.0124995,1.0124995,0.0,0.0,0.0), Dual{ForwardDiff.Tag{typeof(validation_mse), Float32}}(1.0000249,0.0,1.0000249,0.0,0.0), Dual{ForwardDiff.Tag{typeof(validation_mse), Float32}}(0.8963877,0.0,0.0,0.8963877,0.0), Dual{ForwardDiff.Tag{typeof(validation_mse), Float32}}(0.9357373,0.0,0.0,0.0,0.9357373)]\n",
      "\u001b[38;5;6m\u001b[1m[ \u001b[22m\u001b[39m\u001b[38;5;6m\u001b[1mInfo: \u001b[22m\u001b[39m20220621 08:08:36 training model with parameters ForwardDiff.Dual{ForwardDiff.Tag{typeof(validation_mse), Float32}, Float32, 4}[Dual{ForwardDiff.Tag{typeof(validation_mse), Float32}}(1.0121852,1.0121852,0.0,0.0,0.0), Dual{ForwardDiff.Tag{typeof(validation_mse), Float32}}(1.0000241,0.0,1.0000241,0.0,0.0), Dual{ForwardDiff.Tag{typeof(validation_mse), Float32}}(0.89966977,0.0,0.0,0.89966977,0.0), Dual{ForwardDiff.Tag{typeof(validation_mse), Float32}}(0.9363,0.0,0.0,0.0,0.9363)]\n"
     ]
    },
    {
     "name": "stdout",
     "output_type": "stream",
     "text": [
      "     2     1.810921e+00     4.371707e-02\n",
      " * Current step size: 4.7984567\n",
      " * time: 77.22456908226013\n",
      " * g(x): Float32[0.0025886283, -4.252421f-6, 0.0076354197, -0.04371707]\n",
      " * ~inv(H): Float32[1.057679 0.00022056622 -0.86408544 0.07201086; 0.00022056622 1.0000007 -0.003103163 7.300267f-5; -0.86408544 -0.003103163 13.286741 -0.41576955; 0.07201086 7.300266f-5 -0.41576952 0.42045444]\n",
      " * x: Float32[0.012111545, 2.4048724f-5, -0.10572752, -0.065819375]\n"
     ]
    },
    {
     "name": "stderr",
     "output_type": "stream",
     "text": [
      "\u001b[38;5;6m\u001b[1m[ \u001b[22m\u001b[39m\u001b[38;5;6m\u001b[1mInfo: \u001b[22m\u001b[39m20220621 08:08:49 training model with parameters ForwardDiff.Dual{ForwardDiff.Tag{typeof(validation_mse), Float32}, Float32, 4}[Dual{ForwardDiff.Tag{typeof(validation_mse), Float32}}(1.0193033,1.0193033,0.0,0.0,0.0), Dual{ForwardDiff.Tag{typeof(validation_mse), Float32}}(1.0000546,0.0,1.0000546,0.0,0.0), Dual{ForwardDiff.Tag{typeof(validation_mse), Float32}}(0.8000214,0.0,0.0,0.8000214,0.0), Dual{ForwardDiff.Tag{typeof(validation_mse), Float32}}(0.95652324,0.0,0.0,0.0,0.95652324)]\n",
      "\u001b[38;5;6m\u001b[1m[ \u001b[22m\u001b[39m\u001b[38;5;6m\u001b[1mInfo: \u001b[22m\u001b[39m20220621 08:09:02 training model with parameters ForwardDiff.Dual{ForwardDiff.Tag{typeof(validation_mse), Float32}, Float32, 4}[Dual{ForwardDiff.Tag{typeof(validation_mse), Float32}}(1.0482799,1.0482799,0.0,0.0,0.0), Dual{ForwardDiff.Tag{typeof(validation_mse), Float32}}(1.0001769,0.0,1.0001769,0.0,0.0), Dual{ForwardDiff.Tag{typeof(validation_mse), Float32}}(0.50023663,0.0,0.0,0.50023663,0.0), Dual{ForwardDiff.Tag{typeof(validation_mse), Float32}}(1.0418799,0.0,0.0,0.0,1.0418799)]\n",
      "\u001b[38;5;6m\u001b[1m[ \u001b[22m\u001b[39m\u001b[38;5;6m\u001b[1mInfo: \u001b[22m\u001b[39m20220621 08:09:14 training model with parameters ForwardDiff.Dual{ForwardDiff.Tag{typeof(validation_mse), Float32}, Float32, 4}[Dual{ForwardDiff.Tag{typeof(validation_mse), Float32}}(1.0243653,1.0243653,0.0,0.0,0.0), Dual{ForwardDiff.Tag{typeof(validation_mse), Float32}}(1.0000762,0.0,1.0000762,0.0,0.0), Dual{ForwardDiff.Tag{typeof(validation_mse), Float32}}(0.73631275,0.0,0.0,0.73631275,0.0), Dual{ForwardDiff.Tag{typeof(validation_mse), Float32}}(0.97108227,0.0,0.0,0.0,0.97108227)]\n"
     ]
    },
    {
     "name": "stdout",
     "output_type": "stream",
     "text": [
      "     3     1.808746e+00     4.054847e-02\n",
      " * Current step size: 1.7069083\n",
      " * time: 115.44697999954224\n",
      " * g(x): Float32[0.0033613164, 3.743303f-6, -0.001765712, -0.040548466]\n",
      " * ~inv(H): Float32[1.0628649 0.00025761014 -1.1099218 0.22278668; 0.00025761014 1.000001 -0.0044170786 0.00077464397; -1.1099219 -0.004417078 20.067677 -3.4261866; 0.22278668 0.0007746438 -3.426186 1.2917662]\n",
      " * x: Float32[0.024073254, 7.622358f-5, -0.30610028, -0.029344104]\n"
     ]
    },
    {
     "name": "stderr",
     "output_type": "stream",
     "text": [
      "\u001b[38;5;6m\u001b[1m[ \u001b[22m\u001b[39m\u001b[38;5;6m\u001b[1mInfo: \u001b[22m\u001b[39m20220621 08:09:27 training model with parameters ForwardDiff.Dual{ForwardDiff.Tag{typeof(validation_mse), Float32}, Float32, 4}[Dual{ForwardDiff.Tag{typeof(validation_mse), Float32}}(1.0279582,1.0279582,0.0,0.0,0.0), Dual{ForwardDiff.Tag{typeof(validation_mse), Float32}}(1.0000952,0.0,1.0000952,0.0,0.0), Dual{ForwardDiff.Tag{typeof(validation_mse), Float32}}(0.6664019,0.0,0.0,0.6664019,0.0), Dual{ForwardDiff.Tag{typeof(validation_mse), Float32}}(1.0163691,0.0,0.0,0.0,1.0163691)]\n",
      "\u001b[38;5;6m\u001b[1m[ \u001b[22m\u001b[39m\u001b[38;5;6m\u001b[1mInfo: \u001b[22m\u001b[39m20220621 08:09:40 training model with parameters ForwardDiff.Dual{ForwardDiff.Tag{typeof(validation_mse), Float32}, Float32, 4}[Dual{ForwardDiff.Tag{typeof(validation_mse), Float32}}(1.0270842,1.0270842,0.0,0.0,0.0), Dual{ForwardDiff.Tag{typeof(validation_mse), Float32}}(1.0000906,0.0,1.0000906,0.0,0.0), Dual{ForwardDiff.Tag{typeof(validation_mse), Float32}}(0.6827492,0.0,0.0,0.6827492,0.0), Dual{ForwardDiff.Tag{typeof(validation_mse), Float32}}(1.0051773,0.0,0.0,0.0,1.0051773)]\n"
     ]
    },
    {
     "name": "stdout",
     "output_type": "stream",
     "text": [
      "     4     1.808152e+00     6.345828e-03\n",
      " * Current step size: 0.7570751\n",
      " * time: 141.06355500221252\n",
      " * g(x): Float32[-0.00011022772, 1.1275619f-5, 0.0023928515, 0.006345828]\n",
      " * ~inv(H): Float32[1.0671633 0.00025438855 -1.207159 0.2425763; 0.00025438855 1.0000008 -0.0041882955 0.00053640053; -1.2071592 -0.004188295 22.119099 -3.6614635; 0.24257629 0.0005364003 -3.6614628 1.0785211]\n",
      " * x: Float32[0.02672395, 9.060961f-5, -0.38162765, 0.0051638484]\n"
     ]
    },
    {
     "name": "stderr",
     "output_type": "stream",
     "text": [
      "\u001b[38;5;6m\u001b[1m[ \u001b[22m\u001b[39m\u001b[38;5;6m\u001b[1mInfo: \u001b[22m\u001b[39m20220621 08:09:53 training model with parameters ForwardDiff.Dual{ForwardDiff.Tag{typeof(validation_mse), Float32}, Float32, 4}[Dual{ForwardDiff.Tag{typeof(validation_mse), Float32}}(1.0285919,1.0285919,0.0,0.0,0.0), Dual{ForwardDiff.Tag{typeof(validation_mse), Float32}}(1.000086,0.0,1.000086,0.0,0.0), Dual{ForwardDiff.Tag{typeof(validation_mse), Float32}}(0.6626864,0.0,0.0,0.6626864,0.0), Dual{ForwardDiff.Tag{typeof(validation_mse), Float32}}(1.0071331,0.0,0.0,0.0,1.0071331)]\n",
      "\u001b[38;5;6m\u001b[1m[ \u001b[22m\u001b[39m\u001b[38;5;6m\u001b[1mInfo: \u001b[22m\u001b[39m20220621 08:10:05 training model with parameters ForwardDiff.Dual{ForwardDiff.Tag{typeof(validation_mse), Float32}, Float32, 4}[Dual{ForwardDiff.Tag{typeof(validation_mse), Float32}}(1.0280057,1.0280057,0.0,0.0,0.0), Dual{ForwardDiff.Tag{typeof(validation_mse), Float32}}(1.0000877,0.0,1.0000877,0.0,0.0), Dual{ForwardDiff.Tag{typeof(validation_mse), Float32}}(0.6704118,0.0,0.0,0.6704118,0.0), Dual{ForwardDiff.Tag{typeof(validation_mse), Float32}}(1.0063726,0.0,0.0,0.0,1.0063726)]\n"
     ]
    },
    {
     "name": "stdout",
     "output_type": "stream",
     "text": [
      "     5     1.808133e+00     9.977532e-04\n",
      " * Current step size: 0.61140007\n",
      " * time: 166.5411341190338\n",
      " * g(x): Float32[0.00041685946, 1.4935933f-5, 0.00016012554, 0.0009977532]\n",
      " * ~inv(H): Float32[1.026056 -3.9792398f-5 -0.6138984 0.18972552; -3.9792423f-5 1.0000031 0.002559055 0.0001413921; -0.6138986 0.0025590549 14.988773 -2.9083261; 0.1897255 0.00014139188 -2.9083252 1.0106363]\n",
      " * x: Float32[0.02762077, 8.777912f-5, -0.3998631, 0.0063523855]\n"
     ]
    },
    {
     "name": "stderr",
     "output_type": "stream",
     "text": [
      "\u001b[38;5;6m\u001b[1m[ \u001b[22m\u001b[39m\u001b[38;5;6m\u001b[1mInfo: \u001b[22m\u001b[39m20220621 08:10:18 training model with parameters ForwardDiff.Dual{ForwardDiff.Tag{typeof(validation_mse), Float32}, Float32, 4}[Dual{ForwardDiff.Tag{typeof(validation_mse), Float32}}(1.0274726,1.0274726,0.0,0.0,0.0), Dual{ForwardDiff.Tag{typeof(validation_mse), Float32}}(1.0000724,0.0,1.0000724,0.0,0.0), Dual{ForwardDiff.Tag{typeof(validation_mse), Float32}}(0.6709199,0.0,0.0,0.6709199,0.0), Dual{ForwardDiff.Tag{typeof(validation_mse), Float32}}(1.0057471,0.0,0.0,0.0,1.0057471)]\n",
      "\u001b[38;5;6m\u001b[1m[ \u001b[22m\u001b[39m\u001b[38;5;6m\u001b[1mInfo: \u001b[22m\u001b[39m20220621 08:10:31 training model with parameters ForwardDiff.Dual{ForwardDiff.Tag{typeof(validation_mse), Float32}, Float32, 4}[Dual{ForwardDiff.Tag{typeof(validation_mse), Float32}}(1.025343,1.025343,0.0,0.0,0.0), Dual{ForwardDiff.Tag{typeof(validation_mse), Float32}}(1.0000104,0.0,1.0000104,0.0,0.0), Dual{ForwardDiff.Tag{typeof(validation_mse), Float32}}(0.67295605,0.0,0.0,0.67295605,0.0), Dual{ForwardDiff.Tag{typeof(validation_mse), Float32}}(1.0032488,0.0,0.0,0.0,1.0032488)]\n",
      "\u001b[38;5;6m\u001b[1m[ \u001b[22m\u001b[39m\u001b[38;5;6m\u001b[1mInfo: \u001b[22m\u001b[39m20220621 08:10:44 training model with parameters ForwardDiff.Dual{ForwardDiff.Tag{typeof(validation_mse), Float32}, Float32, 4}[Dual{ForwardDiff.Tag{typeof(validation_mse), Float32}}(1.0271666,1.0271666,0.0,0.0,0.0), Dual{ForwardDiff.Tag{typeof(validation_mse), Float32}}(1.0000634,0.0,1.0000634,0.0,0.0), Dual{ForwardDiff.Tag{typeof(validation_mse), Float32}}(0.6712119,0.0,0.0,0.6712119,0.0), Dual{ForwardDiff.Tag{typeof(validation_mse), Float32}}(1.005388,0.0,0.0,0.0,1.005388)]\n"
     ]
    },
    {
     "name": "stdout",
     "output_type": "stream",
     "text": [
      "     6     1.808133e+00     5.337144e-04\n",
      " * Current step size: 1.5742868\n",
      " * time: 204.72019505500793\n",
      " * g(x): Float32[0.0005337144, 1.4843829f-5, -5.9679725f-5, -0.0005137366]\n",
      " * ~inv(H): Float32[2.145679 0.033409495 -1.5336393 0.929179; 0.033409495 1.0010024 -0.024955554 0.022264007; -1.5336396 -0.024955554 15.287144 -3.1307192; 0.92917913 0.022264007 -3.1307182 1.174704]\n",
      " * x: Float32[0.026804157, 6.342453f-5, -0.39867043, 0.005373558]\n"
     ]
    },
    {
     "name": "stderr",
     "output_type": "stream",
     "text": [
      "\u001b[38;5;6m\u001b[1m[ \u001b[22m\u001b[39m\u001b[38;5;6m\u001b[1mInfo: \u001b[22m\u001b[39m20220621 08:10:56 training model with parameters ForwardDiff.Dual{ForwardDiff.Tag{typeof(validation_mse), Float32}, Float32, 4}[Dual{ForwardDiff.Tag{typeof(validation_mse), Float32}}(1.0263864,1.0263864,0.0,0.0,0.0), Dual{ForwardDiff.Tag{typeof(validation_mse), Float32}}(1.0000407,0.0,1.0000407,0.0,0.0), Dual{ForwardDiff.Tag{typeof(validation_mse), Float32}}(0.67129433,0.0,0.0,0.67129433,0.0), Dual{ForwardDiff.Tag{typeof(validation_mse), Float32}}(1.005308,0.0,0.0,0.0,1.005308)]\n",
      "\u001b[38;5;6m\u001b[1m[ \u001b[22m\u001b[39m\u001b[38;5;6m\u001b[1mInfo: \u001b[22m\u001b[39m20220621 08:11:09 training model with parameters ForwardDiff.Dual{ForwardDiff.Tag{typeof(validation_mse), Float32}, Float32, 4}[Dual{ForwardDiff.Tag{typeof(validation_mse), Float32}}(1.0232716,1.0232716,0.0,0.0,0.0), Dual{ForwardDiff.Tag{typeof(validation_mse), Float32}}(0.9999497,0.0,0.9999497,0.0,0.0), Dual{ForwardDiff.Tag{typeof(validation_mse), Float32}}(0.6716243,0.0,0.0,0.6716243,0.0), Dual{ForwardDiff.Tag{typeof(validation_mse), Float32}}(1.004988,0.0,0.0,0.0,1.004988)]\n",
      "\u001b[38;5;6m\u001b[1m[ \u001b[22m\u001b[39m\u001b[38;5;6m\u001b[1mInfo: \u001b[22m\u001b[39m20220621 08:11:22 training model with parameters ForwardDiff.Dual{ForwardDiff.Tag{typeof(validation_mse), Float32}, Float32, 4}[Dual{ForwardDiff.Tag{typeof(validation_mse), Float32}}(1.0078385,1.0078385,0.0,0.0,0.0), Dual{ForwardDiff.Tag{typeof(validation_mse), Float32}}(0.999495,0.0,0.999495,0.0,0.0), Dual{ForwardDiff.Tag{typeof(validation_mse), Float32}}(0.6732767,0.0,0.0,0.6732767,0.0), Dual{ForwardDiff.Tag{typeof(validation_mse), Float32}}(1.0033894,0.0,0.0,0.0,1.0033894)]\n",
      "\u001b[38;5;6m\u001b[1m[ \u001b[22m\u001b[39m\u001b[38;5;6m\u001b[1mInfo: \u001b[22m\u001b[39m20220621 08:11:35 training model with parameters ForwardDiff.Dual{ForwardDiff.Tag{typeof(validation_mse), Float32}, Float32, 4}[Dual{ForwardDiff.Tag{typeof(validation_mse), Float32}}(0.9340951,0.9340951,0.0,0.0,0.0), Dual{ForwardDiff.Tag{typeof(validation_mse), Float32}}(0.9972246,0.0,0.9972246,0.0,0.0), Dual{ForwardDiff.Tag{typeof(validation_mse), Float32}}(0.68159986,0.0,0.0,0.68159986,0.0), Dual{ForwardDiff.Tag{typeof(validation_mse), Float32}}(0.99543417,0.0,0.0,0.0,0.99543417)]\n",
      "\u001b[38;5;6m\u001b[1m[ \u001b[22m\u001b[39m\u001b[38;5;6m\u001b[1mInfo: \u001b[22m\u001b[39m20220621 08:11:47 training model with parameters ForwardDiff.Dual{ForwardDiff.Tag{typeof(validation_mse), Float32}, Float32, 4}[Dual{ForwardDiff.Tag{typeof(validation_mse), Float32}}(0.9353914,0.9353914,0.0,0.0,0.0), Dual{ForwardDiff.Tag{typeof(validation_mse), Float32}}(0.997266,0.0,0.997266,0.0,0.0), Dual{ForwardDiff.Tag{typeof(validation_mse), Float32}}(0.681447,0.0,0.0,0.681447,0.0), Dual{ForwardDiff.Tag{typeof(validation_mse), Float32}}(0.9955788,0.0,0.0,0.0,0.9955788)]\n"
     ]
    },
    {
     "name": "stdout",
     "output_type": "stream",
     "text": [
      "     7     1.808110e+00     1.767041e-03\n",
      " * Current step size: 123.174866\n",
      " * time: 268.36217403411865\n",
      " * g(x): Float32[0.0001424325, 1.3022578f-5, 0.0017670408, 0.0013631135]\n",
      " * ~inv(H): Float32[330.4193 9.935938 -9.025001 27.810947; 9.935937 1.2996985 -0.26172793 0.8349421; -9.0250025 -0.26172793 9.127023 -2.7016697; 27.810947 0.83494216 -2.7016687 3.2043424]\n",
      " * x: Float32[-0.066790216, -0.0027377375, -0.38353676, -0.0044310065]\n"
     ]
    },
    {
     "name": "stderr",
     "output_type": "stream",
     "text": [
      "\u001b[38;5;6m\u001b[1m[ \u001b[22m\u001b[39m\u001b[38;5;6m\u001b[1mInfo: \u001b[22m\u001b[39m20220621 08:12:00 training model with parameters ForwardDiff.Dual{ForwardDiff.Tag{typeof(validation_mse), Float32}, Float32, 4}[Dual{ForwardDiff.Tag{typeof(validation_mse), Float32}}(0.87289155,0.87289155,0.0,0.0,0.0), Dual{ForwardDiff.Tag{typeof(validation_mse), Float32}}(0.99516624,0.0,0.99516624,0.0,0.0), Dual{ForwardDiff.Tag{typeof(validation_mse), Float32}}(0.6738869,0.0,0.0,0.6738869,0.0), Dual{ForwardDiff.Tag{typeof(validation_mse), Float32}}(0.9920349,0.0,0.0,0.0,0.9920349)]\n",
      "\u001b[38;5;6m\u001b[1m[ \u001b[22m\u001b[39m\u001b[38;5;6m\u001b[1mInfo: \u001b[22m\u001b[39m20220621 08:12:13 training model with parameters ForwardDiff.Dual{ForwardDiff.Tag{typeof(validation_mse), Float32}, Float32, 4}[Dual{ForwardDiff.Tag{typeof(validation_mse), Float32}}(0.6619541,0.6619541,0.0,0.0,0.0), Dual{ForwardDiff.Tag{typeof(validation_mse), Float32}}(0.9868112,0.0,0.9868112,0.0,0.0), Dual{ForwardDiff.Tag{typeof(validation_mse), Float32}}(0.6444757,0.0,0.0,0.6444757,0.0), Dual{ForwardDiff.Tag{typeof(validation_mse), Float32}}(0.977985,0.0,0.0,0.0,0.977985)]\n",
      "\u001b[38;5;6m\u001b[1m[ \u001b[22m\u001b[39m\u001b[38;5;6m\u001b[1mInfo: \u001b[22m\u001b[39m20220621 08:12:26 training model with parameters ForwardDiff.Dual{ForwardDiff.Tag{typeof(validation_mse), Float32}, Float32, 4}[Dual{ForwardDiff.Tag{typeof(validation_mse), Float32}}(0.72021586,0.72021586,0.0,0.0,0.0), Dual{ForwardDiff.Tag{typeof(validation_mse), Float32}}(0.98935163,0.0,0.98935163,0.0,0.0), Dual{ForwardDiff.Tag{typeof(validation_mse), Float32}}(0.65330607,0.0,0.0,0.65330607,0.0), Dual{ForwardDiff.Tag{typeof(validation_mse), Float32}}(0.98224837,0.0,0.0,0.0,0.98224837)]\n"
     ]
    },
    {
     "name": "stdout",
     "output_type": "stream",
     "text": [
      "     8     1.808043e+00     2.564552e-04\n",
      " * Current step size: 3.7801864\n",
      " * time: 306.59770798683167\n",
      " * g(x): Float32[-2.0505795f-5, 2.6795082f-5, 6.225291f-5, 0.00025645518]\n",
      " * ~inv(H): Float32[718.48834 21.818722 53.668453 48.029358; 21.81872 1.6635449 1.6579509 1.4540064; 53.66845 1.657951 19.255276 0.56461465; 48.029358 1.4540064 0.5646156 4.2576118]\n",
      " * x: Float32[-0.32820436, -0.010705473, -0.42570955, -0.017911073]\n"
     ]
    },
    {
     "name": "stderr",
     "output_type": "stream",
     "text": [
      "\u001b[38;5;6m\u001b[1m[ \u001b[22m\u001b[39m\u001b[38;5;6m\u001b[1mInfo: \u001b[22m\u001b[39m20220621 08:12:38 training model with parameters ForwardDiff.Dual{ForwardDiff.Tag{typeof(validation_mse), Float32}, Float32, 4}[Dual{ForwardDiff.Tag{typeof(validation_mse), Float32}}(0.7191292,0.7191292,0.0,0.0,0.0), Dual{ForwardDiff.Tag{typeof(validation_mse), Float32}}(0.98927915,0.0,0.98927915,0.0,0.0), Dual{ForwardDiff.Tag{typeof(validation_mse), Float32}}(0.6531183,0.0,0.0,0.6531183,0.0), Dual{ForwardDiff.Tag{typeof(validation_mse), Float32}}(0.9820705,0.0,0.0,0.0,0.9820705)]\n",
      "\u001b[38;5;6m\u001b[1m[ \u001b[22m\u001b[39m\u001b[38;5;6m\u001b[1mInfo: \u001b[22m\u001b[39m20220621 08:12:51 training model with parameters ForwardDiff.Dual{ForwardDiff.Tag{typeof(validation_mse), Float32}, Float32, 4}[Dual{ForwardDiff.Tag{typeof(validation_mse), Float32}}(0.719137,0.719137,0.0,0.0,0.0), Dual{ForwardDiff.Tag{typeof(validation_mse), Float32}}(0.9892797,0.0,0.9892797,0.0,0.0), Dual{ForwardDiff.Tag{typeof(validation_mse), Float32}}(0.6531197,0.0,0.0,0.6531197,0.0), Dual{ForwardDiff.Tag{typeof(validation_mse), Float32}}(0.98207176,0.0,0.0,0.0,0.98207176)]\n"
     ]
    },
    {
     "name": "stdout",
     "output_type": "stream",
     "text": [
      "     9     1.808043e+00     2.693670e-05\n",
      " * Current step size: 0.99282455\n",
      " * time: 332.08660101890564\n",
      " * g(x): Float32[-7.939443f-7, 2.6936703f-5, -2.5686522f-6, 1.3287864f-7]\n",
      " * ~inv(H): Float32[709.68445 22.630978 50.89714 47.565845; 22.630976 1.7631025 1.7594098 1.5801946; 50.897137 1.7594097 18.519218 0.3449753; 47.565845 1.5801946 0.3449763 4.273092]\n",
      " * x: Float32[-0.3297034, -0.010778212, -0.4259949, -0.018090889]\n"
     ]
    },
    {
     "name": "stderr",
     "output_type": "stream",
     "text": [
      "\u001b[38;5;6m\u001b[1m[ \u001b[22m\u001b[39m\u001b[38;5;6m\u001b[1mInfo: \u001b[22m\u001b[39m20220621 08:13:04 training model with parameters ForwardDiff.Dual{ForwardDiff.Tag{typeof(validation_mse), Float32}, Float32, 4}[Dual{ForwardDiff.Tag{typeof(validation_mse), Float32}}(0.7191933,0.7191933,0.0,0.0,0.0), Dual{ForwardDiff.Tag{typeof(validation_mse), Float32}}(0.9892547,0.0,0.9892547,0.0,0.0), Dual{ForwardDiff.Tag{typeof(validation_mse), Float32}}(0.65314615,0.0,0.0,0.65314615,0.0), Dual{ForwardDiff.Tag{typeof(validation_mse), Float32}}(0.98206735,0.0,0.0,0.0,0.98206735)]\n",
      "\u001b[38;5;6m\u001b[1m[ \u001b[22m\u001b[39m\u001b[38;5;6m\u001b[1mInfo: \u001b[22m\u001b[39m20220621 08:13:17 training model with parameters ForwardDiff.Dual{ForwardDiff.Tag{typeof(validation_mse), Float32}, Float32, 4}[Dual{ForwardDiff.Tag{typeof(validation_mse), Float32}}(0.71941847,0.71941847,0.0,0.0,0.0), Dual{ForwardDiff.Tag{typeof(validation_mse), Float32}}(0.98915493,0.0,0.98915493,0.0,0.0), Dual{ForwardDiff.Tag{typeof(validation_mse), Float32}}(0.65325207,0.0,0.0,0.65325207,0.0), Dual{ForwardDiff.Tag{typeof(validation_mse), Float32}}(0.98204976,0.0,0.0,0.0,0.98204976)]\n",
      "\u001b[38;5;6m\u001b[1m[ \u001b[22m\u001b[39m\u001b[38;5;6m\u001b[1mInfo: \u001b[22m\u001b[39m20220621 08:13:30 training model with parameters ForwardDiff.Dual{ForwardDiff.Tag{typeof(validation_mse), Float32}, Float32, 4}[Dual{ForwardDiff.Tag{typeof(validation_mse), Float32}}(0.7205454,0.7205454,0.0,0.0,0.0), Dual{ForwardDiff.Tag{typeof(validation_mse), Float32}}(0.9886562,0.0,0.9886562,0.0,0.0), Dual{ForwardDiff.Tag{typeof(validation_mse), Float32}}(0.65378195,0.0,0.0,0.65378195,0.0), Dual{ForwardDiff.Tag{typeof(validation_mse), Float32}}(0.9819617,0.0,0.0,0.0,0.9819617)]\n",
      "\u001b[38;5;6m\u001b[1m[ \u001b[22m\u001b[39m\u001b[38;5;6m\u001b[1mInfo: \u001b[22m\u001b[39m20220621 08:13:42 training model with parameters ForwardDiff.Dual{ForwardDiff.Tag{typeof(validation_mse), Float32}, Float32, 4}[Dual{ForwardDiff.Tag{typeof(validation_mse), Float32}}(0.7195774,0.7195774,0.0,0.0,0.0), Dual{ForwardDiff.Tag{typeof(validation_mse), Float32}}(0.98908454,0.0,0.98908454,0.0,0.0), Dual{ForwardDiff.Tag{typeof(validation_mse), Float32}}(0.6533268,0.0,0.0,0.6533268,0.0), Dual{ForwardDiff.Tag{typeof(validation_mse), Float32}}(0.98203737,0.0,0.0,0.0,0.98203737)]\n"
     ]
    },
    {
     "name": "stdout",
     "output_type": "stream",
     "text": [
      "    10     1.808043e+00     4.297682e-05\n",
      " * Current step size: 7.8223543\n",
      " * time: 383.51355814933777\n",
      " * g(x): Float32[2.2174095f-6, 2.6830161f-5, 7.2826865f-6, -4.2976815f-5]\n",
      " * ~inv(H): Float32[715.1224 1.4933622 52.08198 47.650707; 1.4933623 14.819118 -8.664169 2.6631124; 52.08198 -8.664169 18.28758 0.48240238; 47.650707 2.6631122 0.48240376 4.2455344]\n",
      " * x: Float32[-0.3290912, -0.010975453, -0.42567778, -0.018125951]\n"
     ]
    },
    {
     "name": "stderr",
     "output_type": "stream",
     "text": [
      "\u001b[38;5;6m\u001b[1m[ \u001b[22m\u001b[39m\u001b[38;5;6m\u001b[1mInfo: \u001b[22m\u001b[39m20220621 08:13:55 training model with parameters ForwardDiff.Dual{ForwardDiff.Tag{typeof(validation_mse), Float32}, Float32, 4}[Dual{ForwardDiff.Tag{typeof(validation_mse), Float32}}(0.7196082,0.7196082,0.0,0.0,0.0), Dual{ForwardDiff.Tag{typeof(validation_mse), Float32}}(0.98886365,0.0,0.98886365,0.0,0.0), Dual{ForwardDiff.Tag{typeof(validation_mse), Float32}}(0.6533298,0.0,0.0,0.6533298,0.0), Dual{ForwardDiff.Tag{typeof(validation_mse), Float32}}(0.98203915,0.0,0.0,0.0,0.98203915)]\n",
      "\u001b[38;5;6m\u001b[1m[ \u001b[22m\u001b[39m\u001b[38;5;6m\u001b[1mInfo: \u001b[22m\u001b[39m20220621 08:14:08 training model with parameters ForwardDiff.Dual{ForwardDiff.Tag{typeof(validation_mse), Float32}, Float32, 4}[Dual{ForwardDiff.Tag{typeof(validation_mse), Float32}}(0.7197314,0.7197314,0.0,0.0,0.0), Dual{ForwardDiff.Tag{typeof(validation_mse), Float32}}(0.98798054,0.0,0.98798054,0.0,0.0), Dual{ForwardDiff.Tag{typeof(validation_mse), Float32}}(0.6533416,0.0,0.0,0.6533416,0.0), Dual{ForwardDiff.Tag{typeof(validation_mse), Float32}}(0.98204637,0.0,0.0,0.0,0.98204637)]\n",
      "\u001b[38;5;6m\u001b[1m[ \u001b[22m\u001b[39m\u001b[38;5;6m\u001b[1mInfo: \u001b[22m\u001b[39m20220621 08:14:21 training model with parameters ForwardDiff.Dual{ForwardDiff.Tag{typeof(validation_mse), Float32}, Float32, 4}[Dual{ForwardDiff.Tag{typeof(validation_mse), Float32}}(0.72034764,0.72034764,0.0,0.0,0.0), Dual{ForwardDiff.Tag{typeof(validation_mse), Float32}}(0.9835769,0.0,0.9835769,0.0,0.0), Dual{ForwardDiff.Tag{typeof(validation_mse), Float32}}(0.6534007,0.0,0.0,0.6534007,0.0), Dual{ForwardDiff.Tag{typeof(validation_mse), Float32}}(0.98208237,0.0,0.0,0.0,0.98208237)]\n",
      "\u001b[38;5;6m\u001b[1m[ \u001b[22m\u001b[39m\u001b[38;5;6m\u001b[1mInfo: \u001b[22m\u001b[39m20220621 08:14:33 training model with parameters ForwardDiff.Dual{ForwardDiff.Tag{typeof(validation_mse), Float32}, Float32, 4}[Dual{ForwardDiff.Tag{typeof(validation_mse), Float32}}(0.7234368,0.7234368,0.0,0.0,0.0), Dual{ForwardDiff.Tag{typeof(validation_mse), Float32}}(0.96185124,0.0,0.96185124,0.0,0.0), Dual{ForwardDiff.Tag{typeof(validation_mse), Float32}}(0.65369636,0.0,0.0,0.65369636,0.0), Dual{ForwardDiff.Tag{typeof(validation_mse), Float32}}(0.98226243,0.0,0.0,0.0,0.98226243)]\n",
      "\u001b[38;5;6m\u001b[1m[ \u001b[22m\u001b[39m\u001b[38;5;6m\u001b[1mInfo: \u001b[22m\u001b[39m20220621 08:14:46 training model with parameters ForwardDiff.Dual{ForwardDiff.Tag{typeof(validation_mse), Float32}, Float32, 4}[Dual{ForwardDiff.Tag{typeof(validation_mse), Float32}}(0.73908246,0.73908246,0.0,0.0,0.0), Dual{ForwardDiff.Tag{typeof(validation_mse), Float32}}(0.86021274,0.0,0.86021274,0.0,0.0), Dual{ForwardDiff.Tag{typeof(validation_mse), Float32}}(0.65517646,0.0,0.0,0.65517646,0.0), Dual{ForwardDiff.Tag{typeof(validation_mse), Float32}}(0.98316336,0.0,0.0,0.0,0.98316336)]\n",
      "\u001b[38;5;6m\u001b[1m[ \u001b[22m\u001b[39m\u001b[38;5;6m\u001b[1mInfo: \u001b[22m\u001b[39m20220621 08:14:59 training model with parameters ForwardDiff.Dual{ForwardDiff.Tag{typeof(validation_mse), Float32}, Float32, 4}[Dual{ForwardDiff.Tag{typeof(validation_mse), Float32}}(0.82253504,0.82253504,0.0,0.0,0.0), Dual{ForwardDiff.Tag{typeof(validation_mse), Float32}}(0.49214792,0.0,0.49214792,0.0,0.0), Dual{ForwardDiff.Tag{typeof(validation_mse), Float32}}(0.6626275,0.0,0.0,0.6626275,0.0), Dual{ForwardDiff.Tag{typeof(validation_mse), Float32}}(0.9876802,0.0,0.0,0.0,0.9876802)]\n",
      "\u001b[38;5;6m\u001b[1m[ \u001b[22m\u001b[39m\u001b[38;5;6m\u001b[1mInfo: \u001b[22m\u001b[39m20220621 08:15:12 training model with parameters ForwardDiff.Dual{ForwardDiff.Tag{typeof(validation_mse), Float32}, Float32, 4}[Dual{ForwardDiff.Tag{typeof(validation_mse), Float32}}(0.7471987,0.7471987,0.0,0.0,0.0), Dual{ForwardDiff.Tag{typeof(validation_mse), Float32}}(0.81254655,0.0,0.81254655,0.0,0.0), Dual{ForwardDiff.Tag{typeof(validation_mse), Float32}}(0.6559333,0.0,0.0,0.6559333,0.0), Dual{ForwardDiff.Tag{typeof(validation_mse), Float32}}(0.9836235,0.0,0.0,0.0,0.9836235)]\n"
     ]
    },
    {
     "name": "stdout",
     "output_type": "stream",
     "text": [
      "    11     1.808041e+00     1.455820e-03\n",
      " * Current step size: 880.2223\n",
      " * time: 472.94957995414734\n",
      " * g(x): Float32[0.00016924721, 1.626071f-5, -0.00015801762, -0.0014558199]\n",
      " * ~inv(H): Float32[557.24475 -733.5581 32.00715 40.96135; -733.55817 11989.402 -68.68654 -29.222631; 32.00715 -68.68654 15.807616 -0.3697883; 40.96135 -29.222626 -0.369787 3.9621387]\n",
      " * x: Float32[-0.29142416, -0.20758206, -0.4216962, -0.016512072]\n"
     ]
    },
    {
     "name": "stderr",
     "output_type": "stream",
     "text": [
      "\u001b[38;5;6m\u001b[1m[ \u001b[22m\u001b[39m\u001b[38;5;6m\u001b[1mInfo: \u001b[22m\u001b[39m20220621 08:15:25 training model with parameters ForwardDiff.Dual{ForwardDiff.Tag{typeof(validation_mse), Float32}, Float32, 4}[Dual{ForwardDiff.Tag{typeof(validation_mse), Float32}}(0.7340941,0.7340941,0.0,0.0,0.0), Dual{ForwardDiff.Tag{typeof(validation_mse), Float32}}(0.7176436,0.0,0.7176436,0.0,0.0), Dual{ForwardDiff.Tag{typeof(validation_mse), Float32}}(0.65439975,0.0,0.0,0.65439975,0.0), Dual{ForwardDiff.Tag{typeof(validation_mse), Float32}}(0.98288834,0.0,0.0,0.0,0.98288834)]\n",
      "\u001b[38;5;6m\u001b[1m[ \u001b[22m\u001b[39m\u001b[38;5;6m\u001b[1mInfo: \u001b[22m\u001b[39m20220621 08:15:37 training model with parameters ForwardDiff.Dual{ForwardDiff.Tag{typeof(validation_mse), Float32}, Float32, 4}[Dual{ForwardDiff.Tag{typeof(validation_mse), Float32}}(0.6839341,0.6839341,0.0,0.0,0.0), Dual{ForwardDiff.Tag{typeof(validation_mse), Float32}}(0.43666783,0.0,0.43666783,0.0,0.0), Dual{ForwardDiff.Tag{typeof(validation_mse), Float32}}(0.64830136,0.0,0.0,0.64830136,0.0), Dual{ForwardDiff.Tag{typeof(validation_mse), Float32}}(0.97995317,0.0,0.0,0.0,0.97995317)]\n",
      "\u001b[38;5;6m\u001b[1m[ \u001b[22m\u001b[39m\u001b[38;5;6m\u001b[1mInfo: \u001b[22m\u001b[39m20220621 08:15:50 training model with parameters ForwardDiff.Dual{ForwardDiff.Tag{typeof(validation_mse), Float32}, Float32, 4}[Dual{ForwardDiff.Tag{typeof(validation_mse), Float32}}(0.69810265,0.69810265,0.0,0.0,0.0), Dual{ForwardDiff.Tag{typeof(validation_mse), Float32}}(0.50426507,0.0,0.50426507,0.0,0.0), Dual{ForwardDiff.Tag{typeof(validation_mse), Float32}}(0.65006226,0.0,0.0,0.65006226,0.0), Dual{ForwardDiff.Tag{typeof(validation_mse), Float32}}(0.9808026,0.0,0.0,0.0,0.9808026)]\n"
     ]
    },
    {
     "name": "stdout",
     "output_type": "stream",
     "text": [
      "    12     1.808034e+00     5.127881e-04\n",
      " * Current step size: 3.8411493\n",
      " * time: 511.2618250846863\n",
      " * g(x): Float32[-6.193695f-5, 4.085918f-6, 5.6120585f-5, 0.00051278813]\n",
      " * ~inv(H): Float32[679.67773 997.6922 50.058327 46.018852; 997.69226 30261.514 173.35641 43.11926; 50.058327 173.3564 18.440933 0.37763435; 46.01885 43.11926 0.37763578 4.170945]\n",
      " * x: Float32[-0.3593891, -0.68465316, -0.43068713, -0.019384047]\n"
     ]
    },
    {
     "name": "stderr",
     "output_type": "stream",
     "text": [
      "\u001b[38;5;6m\u001b[1m[ \u001b[22m\u001b[39m\u001b[38;5;6m\u001b[1mInfo: \u001b[22m\u001b[39m20220621 08:16:03 training model with parameters ForwardDiff.Dual{ForwardDiff.Tag{typeof(validation_mse), Float32}, Float32, 4}[Dual{ForwardDiff.Tag{typeof(validation_mse), Float32}}(0.70625734,0.70625734,0.0,0.0,0.0), Dual{ForwardDiff.Tag{typeof(validation_mse), Float32}}(0.45916525,0.0,0.45916525,0.0,0.0), Dual{ForwardDiff.Tag{typeof(validation_mse), Float32}}(0.6508191,0.0,0.0,0.6508191,0.0), Dual{ForwardDiff.Tag{typeof(validation_mse), Float32}}(0.98130697,0.0,0.0,0.0,0.98130697)]\n",
      "\u001b[38;5;6m\u001b[1m[ \u001b[22m\u001b[39m\u001b[38;5;6m\u001b[1mInfo: \u001b[22m\u001b[39m20220621 08:16:16 training model with parameters ForwardDiff.Dual{ForwardDiff.Tag{typeof(validation_mse), Float32}, Float32, 4}[Dual{ForwardDiff.Tag{typeof(validation_mse), Float32}}(0.7398396,0.7398396,0.0,0.0,0.0), Dual{ForwardDiff.Tag{typeof(validation_mse), Float32}}(0.31565264,0.0,0.31565264,0.0,0.0), Dual{ForwardDiff.Tag{typeof(validation_mse), Float32}}(0.65385526,0.0,0.0,0.65385526,0.0), Dual{ForwardDiff.Tag{typeof(validation_mse), Float32}}(0.9833269,0.0,0.0,0.0,0.9833269)]\n",
      "\u001b[38;5;6m\u001b[1m[ \u001b[22m\u001b[39m\u001b[38;5;6m\u001b[1mInfo: \u001b[22m\u001b[39m20220621 08:16:29 training model with parameters ForwardDiff.Dual{ForwardDiff.Tag{typeof(validation_mse), Float32}, Float32, 4}[Dual{ForwardDiff.Tag{typeof(validation_mse), Float32}}(0.7120787,0.7120787,0.0,0.0,0.0), Dual{ForwardDiff.Tag{typeof(validation_mse), Float32}}(0.4297423,0.0,0.4297423,0.0,0.0), Dual{ForwardDiff.Tag{typeof(validation_mse), Float32}}(0.6513546,0.0,0.0,0.6513546,0.0), Dual{ForwardDiff.Tag{typeof(validation_mse), Float32}}(0.9816636,0.0,0.0,0.0,0.9816636)]\n"
     ]
    },
    {
     "name": "stdout",
     "output_type": "stream",
     "text": [
      "    13     1.808034e+00     2.190244e-04\n",
      " * Current step size: 1.706832\n",
      " * time: 549.7797920703888\n",
      " * g(x): Float32[2.463591f-5, 8.6288367f-7, -5.159972f-5, -0.00021902444]\n",
      " * ~inv(H): Float32[678.8032 -35.505672 52.08494 45.705074; -35.50542 46989.152 52.781334 -0.397181; 52.08494 52.781357 18.855814 0.439785; 45.70507 -0.39718345 0.43978655 4.1448793]\n",
      " * x: Float32[-0.3395669, -0.84456956, -0.4287011, -0.018506596]\n"
     ]
    },
    {
     "name": "stderr",
     "output_type": "stream",
     "text": [
      "\u001b[38;5;6m\u001b[1m[ \u001b[22m\u001b[39m\u001b[38;5;6m\u001b[1mInfo: \u001b[22m\u001b[39m20220621 08:16:41 training model with parameters ForwardDiff.Dual{ForwardDiff.Tag{typeof(validation_mse), Float32}, Float32, 4}[Dual{ForwardDiff.Tag{typeof(validation_mse), Float32}}(0.70924014,0.70924014,0.0,0.0,0.0), Dual{ForwardDiff.Tag{typeof(validation_mse), Float32}}(0.41411793,0.0,0.41411793,0.0,0.0), Dual{ForwardDiff.Tag{typeof(validation_mse), Float32}}(0.65118563,0.0,0.0,0.65118563,0.0), Dual{ForwardDiff.Tag{typeof(validation_mse), Float32}}(0.9814721,0.0,0.0,0.0,0.9814721)]\n",
      "\u001b[38;5;6m\u001b[1m[ \u001b[22m\u001b[39m\u001b[38;5;6m\u001b[1mInfo: \u001b[22m\u001b[39m20220621 08:16:54 training model with parameters ForwardDiff.Dual{ForwardDiff.Tag{typeof(validation_mse), Float32}, Float32, 4}[Dual{ForwardDiff.Tag{typeof(validation_mse), Float32}}(0.6979988,0.6979988,0.0,0.0,0.0), Dual{ForwardDiff.Tag{typeof(validation_mse), Float32}}(0.35709822,0.0,0.35709822,0.0,0.0), Dual{ForwardDiff.Tag{typeof(validation_mse), Float32}}(0.65051025,0.0,0.0,0.65051025,0.0), Dual{ForwardDiff.Tag{typeof(validation_mse), Float32}}(0.98070633,0.0,0.0,0.0,0.98070633)]\n",
      "\u001b[38;5;6m\u001b[1m[ \u001b[22m\u001b[39m\u001b[38;5;6m\u001b[1mInfo: \u001b[22m\u001b[39m20220621 08:17:07 training model with parameters ForwardDiff.Dual{ForwardDiff.Tag{typeof(validation_mse), Float32}, Float32, 4}[Dual{ForwardDiff.Tag{typeof(validation_mse), Float32}}(0.7081671,0.7081671,0.0,0.0,0.0), Dual{ForwardDiff.Tag{typeof(validation_mse), Float32}}(0.4083446,0.0,0.4083446,0.0,0.0), Dual{ForwardDiff.Tag{typeof(validation_mse), Float32}}(0.6511216,0.0,0.0,0.6511216,0.0), Dual{ForwardDiff.Tag{typeof(validation_mse), Float32}}(0.9813995,0.0,0.0,0.0,0.9813995)]\n"
     ]
    },
    {
     "name": "stdout",
     "output_type": "stream",
     "text": [
      "    14     1.808034e+00     2.681200e-05\n",
      " * Current step size: 1.3790847\n",
      " * time: 588.7607641220093\n",
      " * g(x): Float32[-3.3042002f-6, 1.4343088f-7, 7.852623f-6, 2.6811998f-5]\n",
      " * ~inv(H): Float32[701.7248 868.0409 55.450993 46.47703; 868.04126 61774.2 128.8737 40.517227; 55.45099 128.8737 19.196373 0.58163106; 46.47703 40.517227 0.58163273 4.165601]\n",
      " * x: Float32[-0.34507522, -0.8956439, -0.42905888, -0.018775683]\n"
     ]
    },
    {
     "name": "stderr",
     "output_type": "stream",
     "text": [
      "\u001b[38;5;6m\u001b[1m[ \u001b[22m\u001b[39m\u001b[38;5;6m\u001b[1mInfo: \u001b[22m\u001b[39m20220621 08:17:20 training model with parameters ForwardDiff.Dual{ForwardDiff.Tag{typeof(validation_mse), Float32}, Float32, 4}[Dual{ForwardDiff.Tag{typeof(validation_mse), Float32}}(0.7085302,0.7085302,0.0,0.0,0.0), Dual{ForwardDiff.Tag{typeof(validation_mse), Float32}}(0.4050542,0.0,0.4050542,0.0,0.0), Dual{ForwardDiff.Tag{typeof(validation_mse), Float32}}(0.65112054,0.0,0.0,0.65112054,0.0), Dual{ForwardDiff.Tag{typeof(validation_mse), Float32}}(0.9814304,0.0,0.0,0.0,0.9814304)]\n",
      "\u001b[38;5;6m\u001b[1m[ \u001b[22m\u001b[39m\u001b[38;5;6m\u001b[1mInfo: \u001b[22m\u001b[39m20220621 08:17:33 training model with parameters ForwardDiff.Dual{ForwardDiff.Tag{typeof(validation_mse), Float32}, Float32, 4}[Dual{ForwardDiff.Tag{typeof(validation_mse), Float32}}(0.7099843,0.7099843,0.0,0.0,0.0), Dual{ForwardDiff.Tag{typeof(validation_mse), Float32}}(0.39215568,0.0,0.39215568,0.0,0.0), Dual{ForwardDiff.Tag{typeof(validation_mse), Float32}}(0.6511164,0.0,0.0,0.6511164,0.0), Dual{ForwardDiff.Tag{typeof(validation_mse), Float32}}(0.9815541,0.0,0.0,0.0,0.9815541)]\n",
      "\u001b[38;5;6m\u001b[1m[ \u001b[22m\u001b[39m\u001b[38;5;6m\u001b[1mInfo: \u001b[22m\u001b[39m20220621 08:17:46 training model with parameters ForwardDiff.Dual{ForwardDiff.Tag{typeof(validation_mse), Float32}, Float32, 4}[Dual{ForwardDiff.Tag{typeof(validation_mse), Float32}}(0.7085981,0.7085981,0.0,0.0,0.0), Dual{ForwardDiff.Tag{typeof(validation_mse), Float32}}(0.40444168,0.0,0.40444168,0.0,0.0), Dual{ForwardDiff.Tag{typeof(validation_mse), Float32}}(0.65112036,0.0,0.0,0.65112036,0.0), Dual{ForwardDiff.Tag{typeof(validation_mse), Float32}}(0.9814362,0.0,0.0,0.0,0.9814362)]\n"
     ]
    },
    {
     "name": "stdout",
     "output_type": "stream",
     "text": [
      "    15     1.808034e+00     1.518278e-06\n",
      " * Current step size: 1.187046\n",
      " * time: 627.2488920688629\n",
      " * g(x): Float32[1.5653112f-7, 4.317415f-9, -1.5182777f-6, -1.4051899f-6]\n",
      " * ~inv(H): Float32[746.0159 274.41168 60.586273 48.460144; 274.4121 69479.305 47.48637 15.69807; 60.586266 47.486366 19.163885 0.8995602; 48.460144 15.698062 0.8995618 4.2420607]\n",
      " * x: Float32[-0.3444668, -0.9052477, -0.4290608, -0.018738288]\n"
     ]
    },
    {
     "name": "stderr",
     "output_type": "stream",
     "text": [
      "\u001b[38;5;6m\u001b[1m[ \u001b[22m\u001b[39m\u001b[38;5;6m\u001b[1mInfo: \u001b[22m\u001b[39m20220621 08:17:59 training model with parameters ForwardDiff.Dual{ForwardDiff.Tag{typeof(validation_mse), Float32}, Float32, 4}[Dual{ForwardDiff.Tag{typeof(validation_mse), Float32}}(0.70862794,0.70862794,0.0,0.0,0.0), Dual{ForwardDiff.Tag{typeof(validation_mse), Float32}}(0.4043411,0.0,0.4043411,0.0,0.0), Dual{ForwardDiff.Tag{typeof(validation_mse), Float32}}(0.65113384,0.0,0.0,0.65113384,0.0), Dual{ForwardDiff.Tag{typeof(validation_mse), Float32}}(0.98143584,0.0,0.0,0.0,0.98143584)]\n",
      "\u001b[38;5;6m\u001b[1m[ \u001b[22m\u001b[39m\u001b[38;5;6m\u001b[1mInfo: \u001b[22m\u001b[39m20220621 08:18:12 training model with parameters ForwardDiff.Dual{ForwardDiff.Tag{typeof(validation_mse), Float32}, Float32, 4}[Dual{ForwardDiff.Tag{typeof(validation_mse), Float32}}(0.70862323,0.70862323,0.0,0.0,0.0), Dual{ForwardDiff.Tag{typeof(validation_mse), Float32}}(0.404357,0.0,0.404357,0.0,0.0), Dual{ForwardDiff.Tag{typeof(validation_mse), Float32}}(0.6511317,0.0,0.0,0.6511317,0.0), Dual{ForwardDiff.Tag{typeof(validation_mse), Float32}}(0.9814359,0.0,0.0,0.0,0.9814359)]\n"
     ]
    },
    {
     "name": "stdout",
     "output_type": "stream",
     "text": [
      "    16     1.808034e+00     7.718816e-07\n",
      " * Current step size: 0.84230554\n",
      " * time: 652.9967639446259\n",
      " * g(x): Float32[4.863387f-8, 1.4080562f-10, -1.9309024f-7, -7.7188156f-7]\n",
      " * ~inv(H): Float32[775.79315 229.5718 66.60399 50.342762; 229.57222 68970.36 76.24287 3.563901; 66.60398 76.242874 17.899004 1.8900824; 50.342762 3.5638928 1.890084 4.211076]\n",
      " * x: Float32[-0.3444313, -0.9054572, -0.42904338, -0.018738564]\n"
     ]
    },
    {
     "name": "stderr",
     "output_type": "stream",
     "text": [
      "\u001b[38;5;6m\u001b[1m[ \u001b[22m\u001b[39m\u001b[38;5;6m\u001b[1mInfo: \u001b[22m\u001b[39m20220621 08:18:25 training model with parameters ForwardDiff.Dual{ForwardDiff.Tag{typeof(validation_mse), Float32}, Float32, 4}[Dual{ForwardDiff.Tag{typeof(validation_mse), Float32}}(0.7086331,0.7086331,0.0,0.0,0.0), Dual{ForwardDiff.Tag{typeof(validation_mse), Float32}}(0.4043556,0.0,0.4043556,0.0,0.0), Dual{ForwardDiff.Tag{typeof(validation_mse), Float32}}(0.65113276,0.0,0.0,0.65113276,0.0), Dual{ForwardDiff.Tag{typeof(validation_mse), Float32}}(0.981437,0.0,0.0,0.0,0.981437)]\n",
      "\u001b[38;5;6m\u001b[1m[ \u001b[22m\u001b[39m\u001b[38;5;6m\u001b[1mInfo: \u001b[22m\u001b[39m20220621 08:18:38 training model with parameters ForwardDiff.Dual{ForwardDiff.Tag{typeof(validation_mse), Float32}, Float32, 4}[Dual{ForwardDiff.Tag{typeof(validation_mse), Float32}}(0.70862776,0.70862776,0.0,0.0,0.0), Dual{ForwardDiff.Tag{typeof(validation_mse), Float32}}(0.40435633,0.0,0.40435633,0.0,0.0), Dual{ForwardDiff.Tag{typeof(validation_mse), Float32}}(0.65113217,0.0,0.0,0.65113217,0.0), Dual{ForwardDiff.Tag{typeof(validation_mse), Float32}}(0.98143643,0.0,0.0,0.0,0.98143643)]\n"
     ]
    },
    {
     "name": "stdout",
     "output_type": "stream",
     "text": [
      "    17     1.808034e+00     5.600174e-07\n",
      " * Current step size: 0.4571615\n",
      " * time: 678.628494977951\n",
      " * g(x): Float32[2.7551085f-8, 2.9163533f-11, -8.036908f-10, -5.600174f-7]\n",
      " * ~inv(H): Float32[1311.246 -136.04721 49.66346 115.453926; -136.04681 69116.836 52.33392 -31.959457; 49.66346 52.33393 6.2359567 2.9028714; 115.45393 -31.959463 2.9028735 11.354621]\n",
      " * x: Float32[-0.34442493, -0.90545875, -0.4290426, -0.018738031]\n"
     ]
    }
   ],
   "source": [
    "# Find the best regularization hyperparameters\n",
    "res = Optim.optimize(\n",
    "    validation_mse,\n",
    "    fill(0.0f0, 4),\n",
    "    Optim.BFGS(),\n",
    "    autodiff = :forward,\n",
    "    Optim.Options(show_trace = true, extended_trace = true),\n",
    ");\n",
    "λ = exp.(Optim.minimizer(res));"
   ]
  },
  {
   "cell_type": "code",
   "execution_count": 9,
   "id": "5e71e197-1810-46ac-9be5-4847747fce90",
   "metadata": {},
   "outputs": [
    {
     "name": "stderr",
     "output_type": "stream",
     "text": [
      "\u001b[38;5;6m\u001b[1m[ \u001b[22m\u001b[39m\u001b[38;5;6m\u001b[1mInfo: \u001b[22m\u001b[39m20220621 08:18:50 The optimal λ is Float32[0.70862776, 0.40435633, 0.65113217, 0.98143643], found in 54 function calls\n"
     ]
    }
   ],
   "source": [
    "@info \"The optimal λ is $λ, found in \" * repr(Optim.f_calls(res)) * \" function calls\""
   ]
  },
  {
   "cell_type": "code",
   "execution_count": 10,
   "id": "781a2388-df56-42ce-8e58-b4a11a4e4d0b",
   "metadata": {},
   "outputs": [
    {
     "name": "stderr",
     "output_type": "stream",
     "text": [
      "\u001b[38;5;6m\u001b[1m[ \u001b[22m\u001b[39m\u001b[38;5;6m\u001b[1mInfo: \u001b[22m\u001b[39m20220621 08:18:50 training model with parameters Float32[0.70862776, 0.40435633, 0.65113217, 0.98143643]\n"
     ]
    }
   ],
   "source": [
    "stop_criteria = convergence_stopper(1e-6, max_iters = 16)\n",
    "u, a = train_model(training, stop_criteria, λ);"
   ]
  },
  {
   "cell_type": "code",
   "execution_count": 11,
   "id": "49a78dff-fbb8-4b4e-8c59-f53774d5c47c",
   "metadata": {},
   "outputs": [
    {
     "name": "stderr",
     "output_type": "stream",
     "text": [
      "\u001b[38;5;6m\u001b[1m[ \u001b[22m\u001b[39m\u001b[38;5;6m\u001b[1mInfo: \u001b[22m\u001b[39m20220621 08:18:55 training model with parameters Float32[0.70862776, 0.40435633, 0.65113217, 0.98143643]\n"
     ]
    },
    {
     "data": {
      "text/plain": [
       "1.8080269f0"
      ]
     },
     "execution_count": 11,
     "metadata": {},
     "output_type": "execute_result"
    }
   ],
   "source": [
    "validation_mse(Optim.minimizer(res))"
   ]
  },
  {
   "cell_type": "markdown",
   "id": "7c291e04-b1ba-48a0-ac09-25eda75a6162",
   "metadata": {},
   "source": [
    "## Inference"
   ]
  },
  {
   "cell_type": "code",
   "execution_count": 12,
   "id": "09dc7ac8-4839-476e-acdc-4687262d8623",
   "metadata": {},
   "outputs": [
    {
     "name": "stderr",
     "output_type": "stream",
     "text": [
      "\u001b[38;5;6m\u001b[1m[ \u001b[22m\u001b[39m\u001b[38;5;6m\u001b[1mInfo: \u001b[22m\u001b[39m20220621 08:19:02 validation loss: 1.8080269, β: Float32[1.0015494]\n",
      "\u001b[38;5;6m\u001b[1m[ \u001b[22m\u001b[39m\u001b[38;5;6m\u001b[1mInfo: \u001b[22m\u001b[39m20220621 08:19:04 training loss: 1.6717248, β: Float32[1.0015494]\n"
     ]
    }
   ],
   "source": [
    "model(users, items) = make_prediction(users, items, u, a)\n",
    "write_alpha(model, [], implicit, name);"
   ]
  },
  {
   "cell_type": "code",
   "execution_count": 13,
   "id": "c4c83363-c309-46e5-ba51-252ad0d3871a",
   "metadata": {},
   "outputs": [],
   "source": [
    "write_params(Dict(\"u\" => u, \"a\" => a, \"λ\" => λ), name);"
   ]
  }
 ],
 "metadata": {
  "kernelspec": {
   "display_name": "Julia 1.8.0-rc1",
   "language": "julia",
   "name": "julia-1.8"
  },
  "language_info": {
   "file_extension": ".jl",
   "mimetype": "application/julia",
   "name": "julia",
   "version": "1.8.0"
  }
 },
 "nbformat": 4,
 "nbformat_minor": 5
}
