{
 "cells": [
  {
   "cell_type": "markdown",
   "id": "c3758ece-9b72-47b4-ae6a-aa364e0443e3",
   "metadata": {},
   "source": [
    "# User Item Biases With Regularization\n",
    "* Prediction for user $i$ and item $j$ is $\\tilde r_{ij} = u_i + a_j$\n",
    "* Loss function is $L = \\sum_{\\Omega}w_{ij}\\text{loss}(r_{ij}, \\tilde r_{ij}) + \\lambda_u \\sum_i (u_i - \\bar u) ^2 + \\lambda_a \\sum_j (a_j - \\bar a)^2 $\n",
    "* $\\bar u$ is the mean of $u_i$ and $\\bar a$ is the mean of $a_j$ \n",
    "* $\\Omega$ is the set of oberved pairs $(i, j)$\n",
    "* $r_{ij}$ is the rating for user $i$ and item $j$\n",
    "* $w_{ij}$ is the weight for the prediction $r_{ij}$ and is modeled as a power-law in the number of items seen by $i$ and users than have seen $j$: $w_{ij} = |j' : (i, j') \\in \\Omega| ^ {\\lambda_{wu}} |i' : (i', j) \\in \\Omega| ^ {\\lambda_{wa}}$\n",
    "* $\\text{loss}$ is mean squared error"
   ]
  },
  {
   "cell_type": "code",
   "execution_count": 1,
   "id": "7cc9334a-2287-41d6-885b-a5cca94fe263",
   "metadata": {},
   "outputs": [],
   "source": [
    "const name = \"ExplicitUserItemBiases\"\n",
    "const implicit = false;"
   ]
  },
  {
   "cell_type": "code",
   "execution_count": 2,
   "id": "df87db6f-667c-4bc2-9d48-7f4debe6750f",
   "metadata": {
    "tags": []
   },
   "outputs": [],
   "source": [
    "import NBInclude: @nbinclude\n",
    "@nbinclude(\"Alpha.ipynb\");\n",
    "@nbinclude(\"ExplicitUserItemBiasesBase.ipynb\");"
   ]
  },
  {
   "cell_type": "code",
   "execution_count": 3,
   "id": "2964541d-4796-47fd-ac77-91a2eaefc679",
   "metadata": {},
   "outputs": [],
   "source": [
    "const training = get_split(\"training\", implicit)\n",
    "const validation = get_split(\"validation\", implicit);"
   ]
  },
  {
   "cell_type": "markdown",
   "id": "99f52a69-0231-4bff-8a9f-26bb16ee9f33",
   "metadata": {
    "tags": []
   },
   "source": [
    "## Alternating Least Squares\n",
    "* Given some hyperparameters $\\lambda$, we can solve for $U$ and $A$ via Alternating Least Squares\n",
    "* This is an iterative algorithm where we fix $A$, then solve for the $U$ that minimizes the loss function\n",
    "* Then we fix $U$ and solve for the best $A$\n",
    "* These two steps are repeated until the matrices $U$ and $A$ converge\n",
    "### More details\n",
    "* If we fix $a$, then for each user $i$, $u_i$ is optimized when\n",
    "* $u_i = \\dfrac{\\sum_{j \\in \\Omega_i}(r_{ij} - a_j) w_{ij} + \\bar u \\lambda_u}{ \\sum_{j \\in \\Omega_i} w_{ij} + \\lambda_u}$\n",
    "* $\\Omega$ is the set of (user, item) pairs that we have ratings for\n",
    "* $\\Omega_i$ is subset of $\\Omega$ for which the user is the $i$-th user"
   ]
  },
  {
   "cell_type": "code",
   "execution_count": null,
   "id": "b03cf878-9bba-40b5-be35-1920f4afae70",
   "metadata": {},
   "outputs": [],
   "source": [
    "function train_model(training, stop_criteria, λ)\n",
    "    @info \"training model with parameters $λ\"\n",
    "    λ_u, λ_a, λ_wu, λ_wa = λ\n",
    "    users, items, ratings = training.user, training.item, training.rating\n",
    "    weights =\n",
    "        expdecay(get_counts(\"training\", implicit), log(λ_wu)) .*\n",
    "        expdecay(get_counts(\"training\", implicit; by_item = true), log(λ_wa))\n",
    "    u = zeros(eltype(λ_u), num_users())\n",
    "    a = zeros(eltype(λ_a), num_items())\n",
    "\n",
    "    ρ_u = zeros(eltype(u), length(u), Threads.nthreads())\n",
    "    Ω_u = zeros(eltype(u), length(u), Threads.nthreads())\n",
    "    ρ_a = zeros(eltype(a), length(a), Threads.nthreads())\n",
    "    Ω_a = zeros(eltype(a), length(a), Threads.nthreads())\n",
    "\n",
    "    while !stop!(stop_criteria, [u, a])\n",
    "        update_users!(users, items, ratings, weights, u, a, λ_u, ρ_u, Ω_u)\n",
    "        update_users!(items, users, ratings, weights, a, u, λ_a, ρ_a, Ω_a)\n",
    "    end\n",
    "    u, a\n",
    "end;"
   ]
  },
  {
   "cell_type": "code",
   "execution_count": 7,
   "id": "c174fef4-e9d4-4fbd-a649-1159f8c07a3f",
   "metadata": {},
   "outputs": [],
   "source": [
    "function validation_mse(λ)\n",
    "    λ = exp.(λ) # ensure λ is nonnegative\n",
    "    stop_criteria = convergence_stopper(1e-6, max_iters = 16)\n",
    "    u, a = train_model(training, stop_criteria, λ)\n",
    "    r = make_prediction(validation.user, validation.item, u, a)\n",
    "    residualized_loss([], implicit, r)\n",
    "end;"
   ]
  },
  {
   "cell_type": "code",
   "execution_count": 8,
   "id": "7d55df8c-06e5-4e8e-814c-41410685842d",
   "metadata": {
    "tags": []
   },
   "outputs": [
    {
     "name": "stderr",
     "output_type": "stream",
     "text": [
      "\u001b[38;5;6m\u001b[1m[ \u001b[22m\u001b[39m\u001b[38;5;6m\u001b[1mInfo: \u001b[22m\u001b[39m20220621 21:01:16 training model with parameters ForwardDiff.Dual{ForwardDiff.Tag{typeof(validation_mse), Float32}, Float32, 4}[Dual{ForwardDiff.Tag{typeof(validation_mse), Float32}}(1.0,1.0,0.0,0.0,0.0), Dual{ForwardDiff.Tag{typeof(validation_mse), Float32}}(1.0,0.0,1.0,0.0,0.0), Dual{ForwardDiff.Tag{typeof(validation_mse), Float32}}(1.0,0.0,0.0,1.0,0.0), Dual{ForwardDiff.Tag{typeof(validation_mse), Float32}}(1.0,0.0,0.0,0.0,1.0)]\n",
      "\u001b[32mProgress: 100%|███████████████████████████| Time: 0:00:00 (53.04 ns/it)\u001b[39m39m\n"
     ]
    },
    {
     "name": "stdout",
     "output_type": "stream",
     "text": [
      "Iter     Function value   Gradient norm \n",
      "     0     1.778537e+00     7.680463e-02\n",
      " * Current step size: 1.0\n",
      " * time: 0.008833169937133789\n",
      " * g(x): Float32[-0.0065774093, -1.8496149f-6, 0.019703476, 0.07680463]\n",
      " * ~inv(H): Float32[1.0 0.0 0.0 0.0; 0.0 1.0 0.0 0.0; 0.0 0.0 1.0 0.0; 0.0 0.0 0.0 1.0]\n",
      " * x: Float32[0.0, 0.0, 0.0, 0.0]\n"
     ]
    },
    {
     "name": "stderr",
     "output_type": "stream",
     "text": [
      "\u001b[38;5;6m\u001b[1m[ \u001b[22m\u001b[39m\u001b[38;5;6m\u001b[1mInfo: \u001b[22m\u001b[39m20220621 21:01:47 training model with parameters ForwardDiff.Dual{ForwardDiff.Tag{typeof(validation_mse), Float32}, Float32, 4}[Dual{ForwardDiff.Tag{typeof(validation_mse), Float32}}(1.0065991,1.0065991,0.0,0.0,0.0), Dual{ForwardDiff.Tag{typeof(validation_mse), Float32}}(1.0000019,0.0,1.0000019,0.0,0.0), Dual{ForwardDiff.Tag{typeof(validation_mse), Float32}}(0.9804894,0.0,0.0,0.9804894,0.0), Dual{ForwardDiff.Tag{typeof(validation_mse), Float32}}(0.92607075,0.0,0.0,0.0,0.92607075)]\n",
      "\u001b[38;5;6m\u001b[1m[ \u001b[22m\u001b[39m\u001b[38;5;6m\u001b[1mInfo: \u001b[22m\u001b[39m20220621 21:02:10 training model with parameters ForwardDiff.Dual{ForwardDiff.Tag{typeof(validation_mse), Float32}, Float32, 4}[Dual{ForwardDiff.Tag{typeof(validation_mse), Float32}}(1.0039606,1.0039606,0.0,0.0,0.0), Dual{ForwardDiff.Tag{typeof(validation_mse), Float32}}(1.0000011,0.0,1.0000011,0.0,0.0), Dual{ForwardDiff.Tag{typeof(validation_mse), Float32}}(0.9882287,0.0,0.0,0.9882287,0.0), Dual{ForwardDiff.Tag{typeof(validation_mse), Float32}}(0.95489186,0.0,0.0,0.0,0.95489186)]\n"
     ]
    },
    {
     "name": "stdout",
     "output_type": "stream",
     "text": [
      "     1     1.776097e+00     1.640687e-02\n",
      " * Current step size: 0.6009688\n",
      " * time: 44.82783508300781\n",
      " * g(x): Float32[-0.00197358, -2.6437733f-6, 0.016406871, 0.011619643]\n",
      " * ~inv(H): Float32[1.000341 2.7888984f-6 -0.0145523 0.010747191; 2.7888984f-6 1.0 -1.2159333f-5 -2.8423645f-5; -0.0145523 -1.2159333f-5 1.0841252 0.1257996; 0.010747187 -2.8423647f-5 0.12579961 0.7024923]\n",
      " * x: Float32[0.0039528175, 1.1115608f-6, -0.011841174, -0.046157185]\n"
     ]
    },
    {
     "name": "stderr",
     "output_type": "stream",
     "text": [
      "\u001b[38;5;6m\u001b[1m[ \u001b[22m\u001b[39m\u001b[38;5;6m\u001b[1mInfo: \u001b[22m\u001b[39m20220621 21:02:32 training model with parameters ForwardDiff.Dual{ForwardDiff.Tag{typeof(validation_mse), Float32}, Float32, 4}[Dual{ForwardDiff.Tag{typeof(validation_mse), Float32}}(1.0060593,1.0060593,0.0,0.0,0.0), Dual{ForwardDiff.Tag{typeof(validation_mse), Float32}}(1.0000043,0.0,1.0000043,0.0,0.0), Dual{ForwardDiff.Tag{typeof(validation_mse), Float32}}(0.9693605,0.0,0.0,0.9693605,0.0), Dual{ForwardDiff.Tag{typeof(validation_mse), Float32}}(0.9451963,0.0,0.0,0.0,0.9451963)]\n",
      "\u001b[38;5;6m\u001b[1m[ \u001b[22m\u001b[39m\u001b[38;5;6m\u001b[1mInfo: \u001b[22m\u001b[39m20220621 21:02:54 training model with parameters ForwardDiff.Dual{ForwardDiff.Tag{typeof(validation_mse), Float32}, Float32, 4}[Dual{ForwardDiff.Tag{typeof(validation_mse), Float32}}(1.0144975,1.0144975,0.0,0.0,0.0), Dual{ForwardDiff.Tag{typeof(validation_mse), Float32}}(1.000017,0.0,1.000017,0.0,0.0), Dual{ForwardDiff.Tag{typeof(validation_mse), Float32}}(0.8974221,0.0,0.0,0.8974221,0.0), Dual{ForwardDiff.Tag{typeof(validation_mse), Float32}}(0.9073885,0.0,0.0,0.0,0.9073885)]\n",
      "\u001b[38;5;6m\u001b[1m[ \u001b[22m\u001b[39m\u001b[38;5;6m\u001b[1mInfo: \u001b[22m\u001b[39m20220621 21:03:16 training model with parameters ForwardDiff.Dual{ForwardDiff.Tag{typeof(validation_mse), Float32}, Float32, 4}[Dual{ForwardDiff.Tag{typeof(validation_mse), Float32}}(1.0066328,1.0066328,0.0,0.0,0.0), Dual{ForwardDiff.Tag{typeof(validation_mse), Float32}}(1.0000051,0.0,1.0000051,0.0,0.0), Dual{ForwardDiff.Tag{typeof(validation_mse), Float32}}(0.9642731,0.0,0.0,0.9642731,0.0), Dual{ForwardDiff.Tag{typeof(validation_mse), Float32}}(0.94256693,0.0,0.0,0.0,0.94256693)]\n"
     ]
    },
    {
     "name": "stdout",
     "output_type": "stream",
     "text": [
      "     2     1.775774e+00     1.966514e-02\n",
      " * Current step size: 1.27296\n",
      " * time: 111.10748219490051\n",
      " * g(x): Float32[0.00046438412, -3.2511734f-6, 0.012925716, -0.019665137]\n",
      " * ~inv(H): Float32[1.0123938 3.6858783f-5 -0.1905426 0.015131294; 3.6858783f-5 1.0000001 -0.00042522332 -9.858053f-5; -0.19054261 -0.00042522332 3.3063543 0.4016363; 0.015131268 -9.858055f-5 0.4016364 0.37174293]\n",
      " * x: Float32[0.0066109267, 5.1583597f-6, -0.036380745, -0.05914835]\n"
     ]
    },
    {
     "name": "stderr",
     "output_type": "stream",
     "text": [
      "\u001b[38;5;6m\u001b[1m[ \u001b[22m\u001b[39m\u001b[38;5;6m\u001b[1mInfo: \u001b[22m\u001b[39m20220621 21:03:38 training model with parameters ForwardDiff.Dual{ForwardDiff.Tag{typeof(validation_mse), Float32}, Float32, 4}[Dual{ForwardDiff.Tag{typeof(validation_mse), Float32}}(1.0089409,1.0089409,0.0,0.0,0.0), Dual{ForwardDiff.Tag{typeof(validation_mse), Float32}}(1.0000119,0.0,1.0000119,0.0,0.0), Dual{ForwardDiff.Tag{typeof(validation_mse), Float32}}(0.93133986,0.0,0.0,0.93133986,0.0), Dual{ForwardDiff.Tag{typeof(validation_mse), Float32}}(0.94455963,0.0,0.0,0.0,0.94455963)]\n",
      "\u001b[38;5;6m\u001b[1m[ \u001b[22m\u001b[39m\u001b[38;5;6m\u001b[1mInfo: \u001b[22m\u001b[39m20220621 21:04:00 training model with parameters ForwardDiff.Dual{ForwardDiff.Tag{typeof(validation_mse), Float32}, Float32, 4}[Dual{ForwardDiff.Tag{typeof(validation_mse), Float32}}(1.0182266,1.0182266,0.0,0.0,0.0), Dual{ForwardDiff.Tag{typeof(validation_mse), Float32}}(1.0000391,0.0,1.0000391,0.0,0.0), Dual{ForwardDiff.Tag{typeof(validation_mse), Float32}}(0.81047714,0.0,0.0,0.81047714,0.0), Dual{ForwardDiff.Tag{typeof(validation_mse), Float32}}(0.95257276,0.0,0.0,0.0,0.95257276)]\n",
      "\u001b[38;5;6m\u001b[1m[ \u001b[22m\u001b[39m\u001b[38;5;6m\u001b[1mInfo: \u001b[22m\u001b[39m20220621 21:04:22 training model with parameters ForwardDiff.Dual{ForwardDiff.Tag{typeof(validation_mse), Float32}, Float32, 4}[Dual{ForwardDiff.Tag{typeof(validation_mse), Float32}}(1.0659527,1.0659527,0.0,0.0,0.0), Dual{ForwardDiff.Tag{typeof(validation_mse), Float32}}(1.000175,0.0,1.000175,0.0,0.0), Dual{ForwardDiff.Tag{typeof(validation_mse), Float32}}(0.40448612,0.0,0.0,0.40448612,0.0), Dual{ForwardDiff.Tag{typeof(validation_mse), Float32}}(0.99366957,0.0,0.0,0.0,0.99366957)]\n",
      "\u001b[38;5;6m\u001b[1m[ \u001b[22m\u001b[39m\u001b[38;5;6m\u001b[1mInfo: \u001b[22m\u001b[39m20220621 21:04:44 training model with parameters ForwardDiff.Dual{ForwardDiff.Tag{typeof(validation_mse), Float32}, Float32, 4}[Dual{ForwardDiff.Tag{typeof(validation_mse), Float32}}(1.0186399,1.0186399,0.0,0.0,0.0), Dual{ForwardDiff.Tag{typeof(validation_mse), Float32}}(1.0000403,0.0,1.0000403,0.0,0.0), Dual{ForwardDiff.Tag{typeof(validation_mse), Float32}}(0.8055026,0.0,0.0,0.8055026,0.0), Dual{ForwardDiff.Tag{typeof(validation_mse), Float32}}(0.95292926,0.0,0.0,0.0,0.95292926)]\n"
     ]
    },
    {
     "name": "stdout",
     "output_type": "stream",
     "text": [
      "     3     1.773997e+00     5.667517e-02\n",
      " * Current step size: 5.177169\n",
      " * time: 199.42511200904846\n",
      " * g(x): Float32[0.0041741333, -5.634783f-6, 0.00068079436, -0.056675166]\n",
      " * ~inv(H): Float32[1.0753716 0.00028660655 -1.3252076 0.22585917; 0.00028660652 1.0000011 -0.0047457465 0.0005844027; -1.3252076 -0.004745747 23.240063 -2.9608421; 0.22585915 0.00058440276 -2.9608421 0.70682037]\n",
      " * x: Float32[0.018468294, 4.032052f-5, -0.21628883, -0.04821463]\n"
     ]
    },
    {
     "name": "stderr",
     "output_type": "stream",
     "text": [
      "\u001b[38;5;6m\u001b[1m[ \u001b[22m\u001b[39m\u001b[38;5;6m\u001b[1mInfo: \u001b[22m\u001b[39m20220621 21:05:06 training model with parameters ForwardDiff.Dual{ForwardDiff.Tag{typeof(validation_mse), Float32}, Float32, 4}[Dual{ForwardDiff.Tag{typeof(validation_mse), Float32}}(1.028069,1.028069,0.0,0.0,0.0), Dual{ForwardDiff.Tag{typeof(validation_mse), Float32}}(1.0000811,0.0,1.0000811,0.0,0.0), Dual{ForwardDiff.Tag{typeof(validation_mse), Float32}}(0.6740943,0.0,0.0,0.6740943,0.0), Dual{ForwardDiff.Tag{typeof(validation_mse), Float32}}(0.9929425,0.0,0.0,0.0,0.9929425)]\n",
      "\u001b[38;5;6m\u001b[1m[ \u001b[22m\u001b[39m\u001b[38;5;6m\u001b[1mInfo: \u001b[22m\u001b[39m20220621 21:05:28 training model with parameters ForwardDiff.Dual{ForwardDiff.Tag{typeof(validation_mse), Float32}, Float32, 4}[Dual{ForwardDiff.Tag{typeof(validation_mse), Float32}}(1.0274218,1.0274218,0.0,0.0,0.0), Dual{ForwardDiff.Tag{typeof(validation_mse), Float32}}(1.0000783,0.0,1.0000783,0.0,0.0), Dual{ForwardDiff.Tag{typeof(validation_mse), Float32}}(0.6823496,0.0,0.0,0.6823496,0.0), Dual{ForwardDiff.Tag{typeof(validation_mse), Float32}}(0.9901551,0.0,0.0,0.0,0.9901551)]\n"
     ]
    },
    {
     "name": "stdout",
     "output_type": "stream",
     "text": [
      "     4     1.772833e+00     2.355569e-02\n",
      " * Current step size: 0.9316544\n",
      " * time: 243.5141670703888\n",
      " * g(x): Float32[0.0023460775, -2.1898916f-7, -0.005226848, -0.02355569]\n",
      " * ~inv(H): Float32[1.0455711 0.00018076552 -0.84519076 0.1661436; 0.00018076548 1.0000007 -0.0031249207 0.00043649; -0.84519076 -0.0031249213 15.817319 -2.2351243; 0.16614358 0.00043649023 -2.2351246 0.76753336]\n",
      " * x: Float32[0.027052611, 7.832312f-5, -0.38221312, -0.009893708]\n"
     ]
    },
    {
     "name": "stderr",
     "output_type": "stream",
     "text": [
      "\u001b[38;5;6m\u001b[1m[ \u001b[22m\u001b[39m\u001b[38;5;6m\u001b[1mInfo: \u001b[22m\u001b[39m20220621 21:05:50 training model with parameters ForwardDiff.Dual{ForwardDiff.Tag{typeof(validation_mse), Float32}, Float32, 4}[Dual{ForwardDiff.Tag{typeof(validation_mse), Float32}}(1.0243882,1.0243882,0.0,0.0,0.0), Dual{ForwardDiff.Tag{typeof(validation_mse), Float32}}(1.0000721,0.0,1.0000721,0.0,0.0), Dual{ForwardDiff.Tag{typeof(validation_mse), Float32}}(0.70454335,0.0,0.0,0.70454335,0.0), Dual{ForwardDiff.Tag{typeof(validation_mse), Float32}}(0.99612117,0.0,0.0,0.0,0.99612117)]\n",
      "\u001b[38;5;6m\u001b[1m[ \u001b[22m\u001b[39m\u001b[38;5;6m\u001b[1mInfo: \u001b[22m\u001b[39m20220621 21:06:12 training model with parameters ForwardDiff.Dual{ForwardDiff.Tag{typeof(validation_mse), Float32}, Float32, 4}[Dual{ForwardDiff.Tag{typeof(validation_mse), Float32}}(1.0255562,1.0255562,0.0,0.0,0.0), Dual{ForwardDiff.Tag{typeof(validation_mse), Float32}}(1.0000745,0.0,1.0000745,0.0,0.0), Dual{ForwardDiff.Tag{typeof(validation_mse), Float32}}(0.69590634,0.0,0.0,0.69590634,0.0), Dual{ForwardDiff.Tag{typeof(validation_mse), Float32}}(0.99381775,0.0,0.0,0.0,0.99381775)]\n"
     ]
    },
    {
     "name": "stdout",
     "output_type": "stream",
     "text": [
      "     5     1.772745e+00     5.477091e-04\n",
      " * Current step size: 0.6146303\n",
      " * time: 287.61205315589905\n",
      " * g(x): Float32[0.0003168242, -2.1243325f-6, 0.0005232881, 0.0005477091]\n",
      " * ~inv(H): Float32[1.0368905 0.00013218846 -0.69322425 0.17726777; 0.0001321884 1.0000005 -0.002476379 0.00052139984; -0.69322425 -0.00247638 13.544536 -2.473375; 0.17726775 0.00052140007 -2.4733753 0.758161]\n",
      " * x: Float32[0.02523512, 7.4477524f-5, -0.36254022, -0.006201418]\n"
     ]
    },
    {
     "name": "stderr",
     "output_type": "stream",
     "text": [
      "\u001b[38;5;6m\u001b[1m[ \u001b[22m\u001b[39m\u001b[38;5;6m\u001b[1mInfo: \u001b[22m\u001b[39m20220621 21:06:34 training model with parameters ForwardDiff.Dual{ForwardDiff.Tag{typeof(validation_mse), Float32}, Float32, 4}[Dual{ForwardDiff.Tag{typeof(validation_mse), Float32}}(1.0254917,1.0254917,0.0,0.0,0.0), Dual{ForwardDiff.Tag{typeof(validation_mse), Float32}}(1.0000776,0.0,1.0000776,0.0,0.0), Dual{ForwardDiff.Tag{typeof(validation_mse), Float32}}(0.6920801,0.0,0.0,0.6920801,0.0), Dual{ForwardDiff.Tag{typeof(validation_mse), Float32}}(0.9946359,0.0,0.0,0.0,0.9946359)]\n",
      "\u001b[38;5;6m\u001b[1m[ \u001b[22m\u001b[39m\u001b[38;5;6m\u001b[1mInfo: \u001b[22m\u001b[39m20220621 21:06:57 training model with parameters ForwardDiff.Dual{ForwardDiff.Tag{typeof(validation_mse), Float32}, Float32, 4}[Dual{ForwardDiff.Tag{typeof(validation_mse), Float32}}(1.025234,1.025234,0.0,0.0,0.0), Dual{ForwardDiff.Tag{typeof(validation_mse), Float32}}(1.00009,0.0,1.00009,0.0,0.0), Dual{ForwardDiff.Tag{typeof(validation_mse), Float32}}(0.67698437,0.0,0.0,0.67698437,0.0), Dual{ForwardDiff.Tag{typeof(validation_mse), Float32}}(0.99791515,0.0,0.0,0.0,0.99791515)]\n",
      "\u001b[38;5;6m\u001b[1m[ \u001b[22m\u001b[39m\u001b[38;5;6m\u001b[1mInfo: \u001b[22m\u001b[39m20220621 21:07:19 training model with parameters ForwardDiff.Dual{ForwardDiff.Tag{typeof(validation_mse), Float32}, Float32, 4}[Dual{ForwardDiff.Tag{typeof(validation_mse), Float32}}(1.0254848,1.0254848,0.0,0.0,0.0), Dual{ForwardDiff.Tag{typeof(validation_mse), Float32}}(1.000078,0.0,1.000078,0.0,0.0), Dual{ForwardDiff.Tag{typeof(validation_mse), Float32}}(0.6916657,0.0,0.0,0.6916657,0.0), Dual{ForwardDiff.Tag{typeof(validation_mse), Float32}}(0.9947248,0.0,0.0,0.0,0.9947248)]\n"
     ]
    },
    {
     "name": "stdout",
     "output_type": "stream",
     "text": [
      "     6     1.772743e+00     3.758553e-04\n",
      " * Current step size: 1.1086383\n",
      " * time: 353.76730608940125\n",
      " * g(x): Float32[0.00037585528, -1.7127486f-6, 2.304113f-5, 0.000167877]\n",
      " * ~inv(H): Float32[1.0579392 -0.00043456792 0.2328557 0.041176725; -0.00043456798 1.0000052 -0.006900351 0.0010770167; 0.2328557 -0.006900352 14.038434 -2.3605082; 0.041176703 0.0010770172 -2.360509 0.71346825]\n",
      " * x: Float32[0.025165446, 7.7906254f-5, -0.36865255, -0.005289148]\n"
     ]
    },
    {
     "name": "stderr",
     "output_type": "stream",
     "text": [
      "\u001b[38;5;6m\u001b[1m[ \u001b[22m\u001b[39m\u001b[38;5;6m\u001b[1mInfo: \u001b[22m\u001b[39m20220621 21:07:41 training model with parameters ForwardDiff.Dual{ForwardDiff.Tag{typeof(validation_mse), Float32}, Float32, 4}[Dual{ForwardDiff.Tag{typeof(validation_mse), Float32}}(1.0250645,1.0250645,0.0,0.0,0.0), Dual{ForwardDiff.Tag{typeof(validation_mse), Float32}}(1.0000798,0.0,1.0000798,0.0,0.0), Dual{ForwardDiff.Tag{typeof(validation_mse), Float32}}(0.6916555,0.0,0.0,0.6916555,0.0), Dual{ForwardDiff.Tag{typeof(validation_mse), Float32}}(0.9946444,0.0,0.0,0.0,0.9946444)]\n",
      "\u001b[38;5;6m\u001b[1m[ \u001b[22m\u001b[39m\u001b[38;5;6m\u001b[1mInfo: \u001b[22m\u001b[39m20220621 21:08:03 training model with parameters ForwardDiff.Dual{ForwardDiff.Tag{typeof(validation_mse), Float32}, Float32, 4}[Dual{ForwardDiff.Tag{typeof(validation_mse), Float32}}(1.0233852,1.0233852,0.0,0.0,0.0), Dual{ForwardDiff.Tag{typeof(validation_mse), Float32}}(1.0000871,0.0,1.0000871,0.0,0.0), Dual{ForwardDiff.Tag{typeof(validation_mse), Float32}}(0.6916148,0.0,0.0,0.6916148,0.0), Dual{ForwardDiff.Tag{typeof(validation_mse), Float32}}(0.9943227,0.0,0.0,0.0,0.9943227)]\n",
      "\u001b[38;5;6m\u001b[1m[ \u001b[22m\u001b[39m\u001b[38;5;6m\u001b[1mInfo: \u001b[22m\u001b[39m20220621 21:08:25 training model with parameters ForwardDiff.Dual{ForwardDiff.Tag{typeof(validation_mse), Float32}, Float32, 4}[Dual{ForwardDiff.Tag{typeof(validation_mse), Float32}}(1.0150295,1.0150295,0.0,0.0,0.0), Dual{ForwardDiff.Tag{typeof(validation_mse), Float32}}(1.0001242,0.0,1.0001242,0.0,0.0), Dual{ForwardDiff.Tag{typeof(validation_mse), Float32}}(0.6914112,0.0,0.0,0.6914112,0.0), Dual{ForwardDiff.Tag{typeof(validation_mse), Float32}}(0.992716,0.0,0.0,0.0,0.992716)]\n",
      "\u001b[38;5;6m\u001b[1m[ \u001b[22m\u001b[39m\u001b[38;5;6m\u001b[1mInfo: \u001b[22m\u001b[39m20220621 21:08:47 training model with parameters ForwardDiff.Dual{ForwardDiff.Tag{typeof(validation_mse), Float32}, Float32, 4}[Dual{ForwardDiff.Tag{typeof(validation_mse), Float32}}(1.0170338,1.0170338,0.0,0.0,0.0), Dual{ForwardDiff.Tag{typeof(validation_mse), Float32}}(1.0001154,0.0,1.0001154,0.0,0.0), Dual{ForwardDiff.Tag{typeof(validation_mse), Float32}}(0.6914602,0.0,0.0,0.6914602,0.0), Dual{ForwardDiff.Tag{typeof(validation_mse), Float32}}(0.9931024,0.0,0.0,0.0,0.9931024)]\n"
     ]
    },
    {
     "name": "stdout",
     "output_type": "stream",
     "text": [
      "     7     1.772742e+00     3.045545e-03\n",
      " * Current step size: 20.18761\n",
      " * time: 441.73513412475586\n",
      " * g(x): Float32[0.0006191753, -1.573021f-6, -0.000512142, -0.0030455454]\n",
      " * ~inv(H): Float32[40.34989 -0.17752174 1.958013 5.304354; -0.17752174 1.0008034 -0.014680797 -0.022602467; 1.958013 -0.014680799 14.111665 -2.10952; 5.304355 -0.022602465 -2.1095207 1.2609664]\n",
      " * x: Float32[0.016890328, 0.00011533969, -0.36894968, -0.0069215335]\n"
     ]
    },
    {
     "name": "stderr",
     "output_type": "stream",
     "text": [
      "\u001b[38;5;6m\u001b[1m[ \u001b[22m\u001b[39m\u001b[38;5;6m\u001b[1mInfo: \u001b[22m\u001b[39m20220621 21:09:09 training model with parameters ForwardDiff.Dual{ForwardDiff.Tag{typeof(validation_mse), Float32}, Float32, 4}[Dual{ForwardDiff.Tag{typeof(validation_mse), Float32}}(1.009105,1.009105,0.0,0.0,0.0), Dual{ForwardDiff.Tag{typeof(validation_mse), Float32}}(1.0001504,0.0,1.0001504,0.0,0.0), Dual{ForwardDiff.Tag{typeof(validation_mse), Float32}}(0.6911769,0.0,0.0,0.6911769,0.0), Dual{ForwardDiff.Tag{typeof(validation_mse), Float32}}(0.9925817,0.0,0.0,0.0,0.9925817)]\n",
      "\u001b[38;5;6m\u001b[1m[ \u001b[22m\u001b[39m\u001b[38;5;6m\u001b[1mInfo: \u001b[22m\u001b[39m20220621 21:09:31 training model with parameters ForwardDiff.Dual{ForwardDiff.Tag{typeof(validation_mse), Float32}, Float32, 4}[Dual{ForwardDiff.Tag{typeof(validation_mse), Float32}}(0.9780033,0.9780033,0.0,0.0,0.0), Dual{ForwardDiff.Tag{typeof(validation_mse), Float32}}(1.0002911,0.0,1.0002911,0.0,0.0), Dual{ForwardDiff.Tag{typeof(validation_mse), Float32}}(0.6900447,0.0,0.0,0.6900447,0.0), Dual{ForwardDiff.Tag{typeof(validation_mse), Float32}}(0.9905018,0.0,0.0,0.0,0.9905018)]\n",
      "\u001b[38;5;6m\u001b[1m[ \u001b[22m\u001b[39m\u001b[38;5;6m\u001b[1mInfo: \u001b[22m\u001b[39m20220621 21:09:53 training model with parameters ForwardDiff.Dual{ForwardDiff.Tag{typeof(validation_mse), Float32}, Float32, 4}[Dual{ForwardDiff.Tag{typeof(validation_mse), Float32}}(0.8362963,0.8362963,0.0,0.0,0.0), Dual{ForwardDiff.Tag{typeof(validation_mse), Float32}}(1.0009942,0.0,1.0009942,0.0,0.0), Dual{ForwardDiff.Tag{typeof(validation_mse), Float32}}(0.6844117,0.0,0.0,0.6844117,0.0), Dual{ForwardDiff.Tag{typeof(validation_mse), Float32}}(0.9801676,0.0,0.0,0.0,0.9801676)]\n",
      "\u001b[38;5;6m\u001b[1m[ \u001b[22m\u001b[39m\u001b[38;5;6m\u001b[1mInfo: \u001b[22m\u001b[39m20220621 21:10:15 training model with parameters ForwardDiff.Dual{ForwardDiff.Tag{typeof(validation_mse), Float32}, Float32, 4}[Dual{ForwardDiff.Tag{typeof(validation_mse), Float32}}(0.3823486,0.3823486,0.0,0.0,0.0), Dual{ForwardDiff.Tag{typeof(validation_mse), Float32}}(1.0045176,0.0,1.0045176,0.0,0.0), Dual{ForwardDiff.Tag{typeof(validation_mse), Float32}}(0.6569289,0.0,0.0,0.6569289,0.0), Dual{ForwardDiff.Tag{typeof(validation_mse), Float32}}(0.9300916,0.0,0.0,0.0,0.9300916)]\n",
      "\u001b[38;5;6m\u001b[1m[ \u001b[22m\u001b[39m\u001b[38;5;6m\u001b[1mInfo: \u001b[22m\u001b[39m20220621 21:10:37 training model with parameters ForwardDiff.Dual{ForwardDiff.Tag{typeof(validation_mse), Float32}, Float32, 4}[Dual{ForwardDiff.Tag{typeof(validation_mse), Float32}}(0.79056376,0.79056376,0.0,0.0,0.0), Dual{ForwardDiff.Tag{typeof(validation_mse), Float32}}(1.0012469,0.0,1.0012469,0.0,0.0), Dual{ForwardDiff.Tag{typeof(validation_mse), Float32}}(0.68239915,0.0,0.0,0.68239915,0.0), Dual{ForwardDiff.Tag{typeof(validation_mse), Float32}}(0.97648126,0.0,0.0,0.0,0.97648126)]\n"
     ]
    },
    {
     "name": "stdout",
     "output_type": "stream",
     "text": [
      "     8     1.772694e+00     2.604062e-04\n",
      " * Current step size: 32.185417\n",
      " * time: 552.1630251407623\n",
      " * g(x): Float32[-5.385749f-6, 1.5282944f-6, 0.0002604062, -5.5135028f-5]\n",
      " * ~inv(H): Float32[683.0526 -3.0630753 45.46489 46.680702; -3.063075 1.0137587 -0.21001069 -0.20837119; 45.464893 -0.2100107 16.905798 0.7172562; 46.680702 -0.20837119 0.7172552 3.920292]\n",
      " * x: Float32[-0.23500894, 0.0012462023, -0.3821405, -0.023799732]\n"
     ]
    },
    {
     "name": "stderr",
     "output_type": "stream",
     "text": [
      "\u001b[38;5;6m\u001b[1m[ \u001b[22m\u001b[39m\u001b[38;5;6m\u001b[1mInfo: \u001b[22m\u001b[39m20220621 21:10:59 training model with parameters ForwardDiff.Dual{ForwardDiff.Tag{typeof(validation_mse), Float32}, Float32, 4}[Dual{ForwardDiff.Tag{typeof(validation_mse), Float32}}(0.78616303,0.78616303,0.0,0.0,0.0), Dual{ForwardDiff.Tag{typeof(validation_mse), Float32}}(1.0012722,0.0,1.0012722,0.0,0.0), Dual{ForwardDiff.Tag{typeof(validation_mse), Float32}}(0.6795951,0.0,0.0,0.6795951,0.0), Dual{ForwardDiff.Tag{typeof(validation_mse), Float32}}(0.9767558,0.0,0.0,0.0,0.9767558)]\n",
      "\u001b[38;5;6m\u001b[1m[ \u001b[22m\u001b[39m\u001b[38;5;6m\u001b[1mInfo: \u001b[22m\u001b[39m20220621 21:11:21 training model with parameters ForwardDiff.Dual{ForwardDiff.Tag{typeof(validation_mse), Float32}, Float32, 4}[Dual{ForwardDiff.Tag{typeof(validation_mse), Float32}}(0.78627104,0.78627104,0.0,0.0,0.0), Dual{ForwardDiff.Tag{typeof(validation_mse), Float32}}(1.0012715,0.0,1.0012715,0.0,0.0), Dual{ForwardDiff.Tag{typeof(validation_mse), Float32}}(0.67966396,0.0,0.0,0.67966396,0.0), Dual{ForwardDiff.Tag{typeof(validation_mse), Float32}}(0.976749,0.0,0.0,0.0,0.976749)]\n"
     ]
    },
    {
     "name": "stdout",
     "output_type": "stream",
     "text": [
      "     9     1.772694e+00     1.762123e-05\n",
      " * Current step size: 0.97539425\n",
      " * time: 596.2922401428223\n",
      " * g(x): Float32[1.859895f-6, 1.987044f-6, -3.8121045f-6, -1.7621225f-5]\n",
      " * ~inv(H): Float32[685.1778 -3.0621037 46.025127 46.72199; -3.0621035 1.0137067 -0.20475462 -0.20908837; 46.025135 -0.20475464 16.575941 0.79843825; 46.721985 -0.20908837 0.79843724 3.910745]\n",
      " * x: Float32[-0.24045375, 0.0012707366, -0.38615683, -0.023525553]\n"
     ]
    },
    {
     "name": "stderr",
     "output_type": "stream",
     "text": [
      "\u001b[38;5;6m\u001b[1m[ \u001b[22m\u001b[39m\u001b[38;5;6m\u001b[1mInfo: \u001b[22m\u001b[39m20220621 21:11:43 training model with parameters ForwardDiff.Dual{ForwardDiff.Tag{typeof(validation_mse), Float32}, Float32, 4}[Dual{ForwardDiff.Tag{typeof(validation_mse), Float32}}(0.78605914,0.78605914,0.0,0.0,0.0), Dual{ForwardDiff.Tag{typeof(validation_mse), Float32}}(1.0012708,0.0,1.0012708,0.0,0.0), Dual{ForwardDiff.Tag{typeof(validation_mse), Float32}}(0.67965853,0.0,0.0,0.67965853,0.0), Dual{ForwardDiff.Tag{typeof(validation_mse), Float32}}(0.9767348,0.0,0.0,0.0,0.9767348)]\n",
      "\u001b[38;5;6m\u001b[1m[ \u001b[22m\u001b[39m\u001b[38;5;6m\u001b[1mInfo: \u001b[22m\u001b[39m20220621 21:12:05 training model with parameters ForwardDiff.Dual{ForwardDiff.Tag{typeof(validation_mse), Float32}, Float32, 4}[Dual{ForwardDiff.Tag{typeof(validation_mse), Float32}}(0.7852121,0.7852121,0.0,0.0,0.0), Dual{ForwardDiff.Tag{typeof(validation_mse), Float32}}(1.0012677,0.0,1.0012677,0.0,0.0), Dual{ForwardDiff.Tag{typeof(validation_mse), Float32}}(0.67963696,0.0,0.0,0.67963696,0.0), Dual{ForwardDiff.Tag{typeof(validation_mse), Float32}}(0.9766781,0.0,0.0,0.0,0.9766781)]\n",
      "\u001b[38;5;6m\u001b[1m[ \u001b[22m\u001b[39m\u001b[38;5;6m\u001b[1mInfo: \u001b[22m\u001b[39m20220621 21:12:27 training model with parameters ForwardDiff.Dual{ForwardDiff.Tag{typeof(validation_mse), Float32}, Float32, 4}[Dual{ForwardDiff.Tag{typeof(validation_mse), Float32}}(0.7860546,0.7860546,0.0,0.0,0.0), Dual{ForwardDiff.Tag{typeof(validation_mse), Float32}}(1.0012708,0.0,1.0012708,0.0,0.0), Dual{ForwardDiff.Tag{typeof(validation_mse), Float32}}(0.6796584,0.0,0.0,0.6796584,0.0), Dual{ForwardDiff.Tag{typeof(validation_mse), Float32}}(0.9767345,0.0,0.0,0.0,0.9767345)]\n"
     ]
    },
    {
     "name": "stdout",
     "output_type": "stream",
     "text": [
      "    10     1.772694e+00     1.990028e-06\n",
      " * Current step size: 1.0213934\n",
      " * time: 662.778510093689\n",
      " * g(x): Float32[-5.409738f-8, 1.9900276f-6, 1.15627984f-7, 8.306294f-7]\n",
      " * ~inv(H): Float32[701.3097 -0.5484613 46.069664 48.020363; -0.54846114 1.0281942 -0.13199009 -0.07236117; 46.069668 -0.1319901 16.564577 0.81346804; 48.02036 -0.07236118 0.813467 4.003841]\n",
      " * x: Float32[-0.24072903, 0.0012699357, -0.38616493, -0.02354039]\n"
     ]
    },
    {
     "name": "stderr",
     "output_type": "stream",
     "text": [
      "\u001b[38;5;6m\u001b[1m[ \u001b[22m\u001b[39m\u001b[38;5;6m\u001b[1mInfo: \u001b[22m\u001b[39m20220621 21:12:50 training model with parameters ForwardDiff.Dual{ForwardDiff.Tag{typeof(validation_mse), Float32}, Float32, 4}[Dual{ForwardDiff.Tag{typeof(validation_mse), Float32}}(0.7860497,0.7860497,0.0,0.0,0.0), Dual{ForwardDiff.Tag{typeof(validation_mse), Float32}}(1.0012687,0.0,1.0012687,0.0,0.0), Dual{ForwardDiff.Tag{typeof(validation_mse), Float32}}(0.67965853,0.0,0.0,0.67965853,0.0), Dual{ForwardDiff.Tag{typeof(validation_mse), Float32}}(0.97673386,0.0,0.0,0.0,0.97673386)]\n",
      "\u001b[38;5;6m\u001b[1m[ \u001b[22m\u001b[39m\u001b[38;5;6m\u001b[1mInfo: \u001b[22m\u001b[39m20220621 21:13:12 training model with parameters ForwardDiff.Dual{ForwardDiff.Tag{typeof(validation_mse), Float32}, Float32, 4}[Dual{ForwardDiff.Tag{typeof(validation_mse), Float32}}(0.7860303,0.7860303,0.0,0.0,0.0), Dual{ForwardDiff.Tag{typeof(validation_mse), Float32}}(1.0012608,0.0,1.0012608,0.0,0.0), Dual{ForwardDiff.Tag{typeof(validation_mse), Float32}}(0.67965895,0.0,0.0,0.67965895,0.0), Dual{ForwardDiff.Tag{typeof(validation_mse), Float32}}(0.97673124,0.0,0.0,0.0,0.97673124)]\n",
      "\u001b[38;5;6m\u001b[1m[ \u001b[22m\u001b[39m\u001b[38;5;6m\u001b[1mInfo: \u001b[22m\u001b[39m20220621 21:13:34 training model with parameters ForwardDiff.Dual{ForwardDiff.Tag{typeof(validation_mse), Float32}, Float32, 4}[Dual{ForwardDiff.Tag{typeof(validation_mse), Float32}}(0.7859331,0.7859331,0.0,0.0,0.0), Dual{ForwardDiff.Tag{typeof(validation_mse), Float32}}(1.0012207,0.0,1.0012207,0.0,0.0), Dual{ForwardDiff.Tag{typeof(validation_mse), Float32}}(0.6796612,0.0,0.0,0.6796612,0.0), Dual{ForwardDiff.Tag{typeof(validation_mse), Float32}}(0.97671795,0.0,0.0,0.0,0.97671795)]\n",
      "\u001b[38;5;6m\u001b[1m[ \u001b[22m\u001b[39m\u001b[38;5;6m\u001b[1mInfo: \u001b[22m\u001b[39m20220621 21:13:56 training model with parameters ForwardDiff.Dual{ForwardDiff.Tag{typeof(validation_mse), Float32}, Float32, 4}[Dual{ForwardDiff.Tag{typeof(validation_mse), Float32}}(0.785946,0.785946,0.0,0.0,0.0), Dual{ForwardDiff.Tag{typeof(validation_mse), Float32}}(1.001226,0.0,1.001226,0.0,0.0), Dual{ForwardDiff.Tag{typeof(validation_mse), Float32}}(0.6796609,0.0,0.0,0.6796609,0.0), Dual{ForwardDiff.Tag{typeof(validation_mse), Float32}}(0.97671974,0.0,0.0,0.0,0.97671974)]\n"
     ]
    },
    {
     "name": "stdout",
     "output_type": "stream",
     "text": [
      "    11     1.772694e+00     1.201726e-05\n",
      " * Current step size: 22.339348\n",
      " * time: 751.7949130535126\n",
      " * g(x): Float32[5.4693913f-7, 1.9903284f-6, -6.620153f-7, -1.2017262f-5]\n",
      " * ~inv(H): Float32[540.6965 43.46041 48.073666 33.137325; 43.460415 46.311863 -2.027276 5.6351824; 48.07367 -2.0272758 16.571175 0.9609119; 33.137318 5.635182 0.96091086 2.6710274]\n",
      " * x: Float32[-0.24086717, 0.0012252473, -0.38616127, -0.023555536]\n"
     ]
    }
   ],
   "source": [
    "# Find the best regularization hyperparameters\n",
    "res = Optim.optimize(\n",
    "    validation_mse,\n",
    "    fill(0.0f0, 4),\n",
    "    Optim.BFGS(),\n",
    "    autodiff = :forward,\n",
    "    Optim.Options(show_trace = true, extended_trace = true),\n",
    ");\n",
    "λ = exp.(Optim.minimizer(res));"
   ]
  },
  {
   "cell_type": "code",
   "execution_count": 9,
   "id": "5e71e197-1810-46ac-9be5-4847747fce90",
   "metadata": {},
   "outputs": [
    {
     "name": "stderr",
     "output_type": "stream",
     "text": [
      "\u001b[38;5;6m\u001b[1m[ \u001b[22m\u001b[39m\u001b[38;5;6m\u001b[1mInfo: \u001b[22m\u001b[39m20220621 21:14:19 The optimal λ is Float32[0.785946, 1.001226, 0.6796609, 0.97671974], found in 35 function calls\n"
     ]
    }
   ],
   "source": [
    "@info \"The optimal λ is $λ, found in \" * repr(Optim.f_calls(res)) * \" function calls\""
   ]
  },
  {
   "cell_type": "code",
   "execution_count": 10,
   "id": "781a2388-df56-42ce-8e58-b4a11a4e4d0b",
   "metadata": {},
   "outputs": [
    {
     "name": "stderr",
     "output_type": "stream",
     "text": [
      "\u001b[38;5;6m\u001b[1m[ \u001b[22m\u001b[39m\u001b[38;5;6m\u001b[1mInfo: \u001b[22m\u001b[39m20220621 21:14:19 training model with parameters Float32[0.785946, 1.001226, 0.6796609, 0.97671974]\n"
     ]
    }
   ],
   "source": [
    "stop_criteria = convergence_stopper(1e-6, max_iters = 16)\n",
    "u, a = train_model(training, stop_criteria, λ);"
   ]
  },
  {
   "cell_type": "code",
   "execution_count": 11,
   "id": "49a78dff-fbb8-4b4e-8c59-f53774d5c47c",
   "metadata": {},
   "outputs": [
    {
     "name": "stderr",
     "output_type": "stream",
     "text": [
      "\u001b[38;5;6m\u001b[1m[ \u001b[22m\u001b[39m\u001b[38;5;6m\u001b[1mInfo: \u001b[22m\u001b[39m20220621 21:14:26 training model with parameters Float32[0.785946, 1.001226, 0.6796609, 0.97671974]\n"
     ]
    },
    {
     "data": {
      "text/plain": [
       "1.7725976f0"
      ]
     },
     "execution_count": 11,
     "metadata": {},
     "output_type": "execute_result"
    }
   ],
   "source": [
    "validation_mse(Optim.minimizer(res))"
   ]
  },
  {
   "cell_type": "markdown",
   "id": "7c291e04-b1ba-48a0-ac09-25eda75a6162",
   "metadata": {},
   "source": [
    "## Inference"
   ]
  },
  {
   "cell_type": "code",
   "execution_count": 12,
   "id": "09dc7ac8-4839-476e-acdc-4687262d8623",
   "metadata": {},
   "outputs": [
    {
     "name": "stderr",
     "output_type": "stream",
     "text": [
      "\u001b[38;5;6m\u001b[1m[ \u001b[22m\u001b[39m\u001b[38;5;6m\u001b[1mInfo: \u001b[22m\u001b[39m20220621 21:14:36 validation loss: 1.7725976, β: Float32[1.0017253]\n",
      "\u001b[38;5;6m\u001b[1m[ \u001b[22m\u001b[39m\u001b[38;5;6m\u001b[1mInfo: \u001b[22m\u001b[39m20220621 21:14:39 training loss: 1.6141207, β: Float32[1.0017253]\n"
     ]
    }
   ],
   "source": [
    "model(users, items) = make_prediction(users, items, u, a)\n",
    "write_alpha(model, [], implicit, name);"
   ]
  },
  {
   "cell_type": "code",
   "execution_count": 13,
   "id": "c4c83363-c309-46e5-ba51-252ad0d3871a",
   "metadata": {},
   "outputs": [],
   "source": [
    "write_params(Dict(\"u\" => u, \"a\" => a, \"λ\" => λ), name);"
   ]
  }
 ],
 "metadata": {
  "kernelspec": {
   "display_name": "Julia 1.8.0-rc1",
   "language": "julia",
   "name": "julia-1.8"
  },
  "language_info": {
   "file_extension": ".jl",
   "mimetype": "application/julia",
   "name": "julia",
   "version": "1.8.0"
  }
 },
 "nbformat": 4,
 "nbformat_minor": 5
}
