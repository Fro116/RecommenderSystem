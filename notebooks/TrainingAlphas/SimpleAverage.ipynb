{
 "cells": [
  {
   "cell_type": "markdown",
   "id": "190db80b-6a3b-42f7-8450-7e2018ee8f67",
   "metadata": {},
   "source": [
    "# Simple Average\n",
    "* Outputs the mean score across all (user, item) pairs\n",
    "  * Prediction for user $i$ and item $j$ is $\\tilde r_{ij} = a$\n",
    "  * Loss function is $L = \\sum_\\Omega(r_{ij} - \\tilde r)^2$\n",
    "  * $\\Omega$ is the set of oberved pairs $(i, j)$\n",
    "  * $r_{ij}$ is the rating for user $i$ and item $j$\n",
    "* This is a useful baseline to measure improvements from"
   ]
  },
  {
   "cell_type": "code",
   "execution_count": 1,
   "id": "7cc9334a-2287-41d6-885b-a5cca94fe263",
   "metadata": {},
   "outputs": [],
   "source": [
    "const name = \"SimpleAverage\";\n",
    "const residual_alphas = [];\n",
    "const implicit = false;"
   ]
  },
  {
   "cell_type": "code",
   "execution_count": 2,
   "id": "7eac3262-6b03-452e-a42a-f6a31b290253",
   "metadata": {},
   "outputs": [],
   "source": [
    "import DataFrames: DataFrame\n",
    "import NBInclude: @nbinclude\n",
    "import Statistics: mean\n",
    "@nbinclude(\"Alpha.ipynb\");"
   ]
  },
  {
   "cell_type": "markdown",
   "id": "cce36d71-1acc-4f04-ae14-ba538b2f9e8c",
   "metadata": {
    "tags": []
   },
   "source": [
    "## Training"
   ]
  },
  {
   "cell_type": "code",
   "execution_count": 3,
   "id": "0b2f6d56-5dd6-45c0-b90e-c22e0f89566d",
   "metadata": {},
   "outputs": [
    {
     "name": "stderr",
     "output_type": "stream",
     "text": [
      "\u001b[32mProgress: 100%|███████████████████████████| Time: 0:00:01 ( 0.13 μs/it)\u001b[39m\n"
     ]
    }
   ],
   "source": [
    "function get_residualized_dataframe(split, implicit, residual_alphas)\n",
    "    df = get_split(split, implicit)\n",
    "    residuals = read_alpha(residual_alphas, split, implicit)\n",
    "    DataFrame(user = df.user, item = df.item, rating = df.rating - residuals.rating)\n",
    "end\n",
    "\n",
    "const training = get_residualized_dataframe(\"training\", implicit, residual_alphas);"
   ]
  },
  {
   "cell_type": "code",
   "execution_count": 4,
   "id": "f41d29fd-1c46-4cc6-ab9d-27c9ac14d65b",
   "metadata": {},
   "outputs": [],
   "source": [
    "const μ = mean(training.rating);"
   ]
  },
  {
   "cell_type": "markdown",
   "id": "a165dfd9-ae30-4da3-afa4-07a1b08eede7",
   "metadata": {},
   "source": [
    "## Inference"
   ]
  },
  {
   "cell_type": "code",
   "execution_count": 5,
   "id": "59fb718e-dc9e-4452-b72c-829ae2d843ff",
   "metadata": {},
   "outputs": [],
   "source": [
    "model(users, items) = fill(μ, length(users));"
   ]
  },
  {
   "cell_type": "code",
   "execution_count": 6,
   "id": "e61b0dcd-2e93-4cc0-88bc-202fe56bfa82",
   "metadata": {},
   "outputs": [
    {
     "name": "stderr",
     "output_type": "stream",
     "text": [
      "\u001b[38;5;6m\u001b[1m[ \u001b[22m\u001b[39m\u001b[38;5;6m\u001b[1mInfo: \u001b[22m\u001b[39m20220604 20:41:08 validation loss: 2.9709196, β: Float32[1.0452353]\n",
      "\u001b[32mProgress: 100%|███████████████████████████| Time: 0:00:04 (30.20 ns/it)\u001b[39m\n",
      "\u001b[38;5;6m\u001b[1m[ \u001b[22m\u001b[39m\u001b[38;5;6m\u001b[1mInfo: \u001b[22m\u001b[39m20220604 20:41:17 training loss: 3.0606766, β: Float32[1.0452353]\n"
     ]
    }
   ],
   "source": [
    "write_alpha(model, residual_alphas, implicit, name);"
   ]
  },
  {
   "cell_type": "code",
   "execution_count": 7,
   "id": "27d887a2-4b42-43be-9b74-cbc26ca89293",
   "metadata": {},
   "outputs": [],
   "source": [
    "write_params(Dict(\"μ\" => μ), name);"
   ]
  }
 ],
 "metadata": {
  "kernelspec": {
   "display_name": "Julia 1.7.3",
   "language": "julia",
   "name": "julia-1.7"
  },
  "language_info": {
   "file_extension": ".jl",
   "mimetype": "application/julia",
   "name": "julia",
   "version": "1.7.3"
  }
 },
 "nbformat": 4,
 "nbformat_minor": 5
}
