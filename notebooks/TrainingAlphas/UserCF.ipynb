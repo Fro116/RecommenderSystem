{
 "cells": [
  {
   "cell_type": "markdown",
   "id": "c3758ece-9b72-47b4-ae6a-aa364e0443e3",
   "metadata": {},
   "source": [
    "# User Collaborative Filtering\n",
    "* See `ItemCollaborativeFilteringBase.ipynb` for algorithm details\n",
    "* The weights here are the cosine correlation between the two users\n",
    "* The algorithm is nearly identical to the algorithm in `ItemCF`, with the following exceptions\n",
    "  * we transpose users and items\n",
    "  * the similarity matrix is too big to store in memory, so we generate weights on the fly\n"
   ]
  },
  {
   "cell_type": "code",
   "execution_count": 1,
   "id": "7cc9334a-2287-41d6-885b-a5cca94fe263",
   "metadata": {},
   "outputs": [],
   "source": [
    "name = \"UserCF\";"
   ]
  },
  {
   "cell_type": "code",
   "execution_count": 2,
   "id": "bda4ef8d-68ed-4621-9bae-8c9640c4c417",
   "metadata": {},
   "outputs": [],
   "source": [
    "using DataStructures\n",
    "using LRUCache\n",
    "using LSHFunctions\n",
    "using Random"
   ]
  },
  {
   "cell_type": "code",
   "execution_count": 3,
   "id": "d17593ac-3260-4c01-a5df-91edfcd17e13",
   "metadata": {},
   "outputs": [],
   "source": [
    "using NBInclude\n",
    "@nbinclude(\"ItemCollaborativeFilteringBase.ipynb\");"
   ]
  },
  {
   "cell_type": "markdown",
   "id": "bff8e524-e8f8-48bd-9ca7-c28a05a122b8",
   "metadata": {},
   "source": [
    "## Compute nearest neighbors using Locality Sensitive Hashing"
   ]
  },
  {
   "cell_type": "code",
   "execution_count": 4,
   "id": "45aa90aa-8019-407b-a4c1-4dc068b3eded",
   "metadata": {},
   "outputs": [],
   "source": [
    "# Use locality sensitive hashing to reduce the computational cost of finding nearest neighbors\n",
    "# TODO automatically adjust scale based on the number of items\n",
    "# TODO save hash function or random seed\n",
    "const n_hashes = 128\n",
    "const hashfn = L2Hash(n_hashes, scale = 0.01)\n",
    "\n",
    "@memoize function get_hash_buckets(R)\n",
    "    hash_buckets = [DefaultDict(() -> Int64[]) for i = 1:n_hashes]\n",
    "    @showprogress for j = 1:size(R)[2]\n",
    "        hashes = hashfn(R[:, j])\n",
    "        for i = 1:n_hashes\n",
    "            push!(hash_buckets[i][hashes[i]], j)\n",
    "        end\n",
    "    end\n",
    "    hash_buckets\n",
    "end\n",
    "\n",
    "function get_hash_neighbors(R, j)\n",
    "    hash_buckets = get_hash_buckets(R)\n",
    "    hash = hashfn(R[:, j])\n",
    "    vcat([hash_buckets[i][hash[i]] for i = 1:length(hash)]...)\n",
    "end;"
   ]
  },
  {
   "cell_type": "code",
   "execution_count": 5,
   "id": "956f5bfc-a785-4acd-b65b-70520691b6af",
   "metadata": {},
   "outputs": [],
   "source": [
    "@memoize function get_norms(R)\n",
    "    norms = map(norm, eachslice(R, dims = 2))\n",
    "    norms[norms.==0] .= 1 # prevent division by 0\n",
    "    norms\n",
    "end;\n",
    "\n",
    "# @memoize LRU{Tuple{Any,Any},Any}(maxsize = 1) function get_abs_neighborhood_cache(R, K)\n",
    "#     # we need to preallocate the dict to avoid resizing\n",
    "#     # while accessing from multiple threads\n",
    "#     d = Dict{Int64,Any}(i => nothing for i = 1:maximum(size(R)[2]))\n",
    "# end\n",
    "\n",
    "# function get_abs_neighborhood(item, R, K)\n",
    "#     cache = get_abs_neighborhood_cache(R, K)\n",
    "#     val = cache[item]\n",
    "#     if val == nothing\n",
    "#         norms = get_norms(R)\n",
    "#         weights = zeros(size(R)[2])\n",
    "#         mask = get_hash_neighbors(R, item)\n",
    "#         weights[mask] = vec(R[:, item]' * R[:, mask])\n",
    "#         weights = weights ./ norms ./ norms[item]\n",
    "#         weights[item] = Inf\n",
    "#         order = partialsortperm(abs.(weights), 2:K+1, rev = true)\n",
    "#         cache[item] = (order, weights[order])\n",
    "#         return (order, weights[order])\n",
    "#     end\n",
    "#     val\n",
    "# end;\n",
    "\n",
    "@memoize function get_abs_neighborhood(item, R, K)\n",
    "    norms = get_norms(R)\n",
    "    weights = zeros(size(R)[2])\n",
    "    mask = get_hash_neighbors(R, item)\n",
    "    weights[mask] = vec(R[:, item]' * R[:, mask])\n",
    "    weights = weights ./ norms ./ norms[item]\n",
    "    weights[item] = Inf\n",
    "    order = partialsortperm(abs.(weights), 2:K+1, rev = true)\n",
    "    (order, weights[order])\n",
    "end;"
   ]
  },
  {
   "cell_type": "markdown",
   "id": "15b0493f-ba8d-46f7-a819-e5945becaad3",
   "metadata": {},
   "source": [
    "## Transform the dataset"
   ]
  },
  {
   "cell_type": "code",
   "execution_count": 6,
   "id": "fc388249-252c-4cd0-94f4-3724a7ff7d1d",
   "metadata": {},
   "outputs": [],
   "source": [
    "function Base.adjoint(x::RatingsDataset)\n",
    "    RatingsDataset(x.item, x.user, x.rating)\n",
    "end;"
   ]
  },
  {
   "cell_type": "code",
   "execution_count": 7,
   "id": "0a3d98d9-fa7b-4987-b727-98d751490c45",
   "metadata": {},
   "outputs": [],
   "source": [
    "function filter_items(x::RatingsDataset, sparsity)\n",
    "    # return a randomly chosen subset of x with the given sparsity\n",
    "    # the subset will minimize the number of distinct items\n",
    "    Random.seed!(20220102 * hash(sparsity))\n",
    "    items = shuffle(sort(collect(Set(x.item))))\n",
    "    n = Int(round(length(items) * sparsity))\n",
    "    valid_items = Set(items[1:n])\n",
    "    mask = [x.item[i] ∈ valid_items for i = 1:length(x.item)]\n",
    "    RatingsDataset(x.user[mask], x.item[mask], x.rating[mask])\n",
    "end;"
   ]
  },
  {
   "cell_type": "code",
   "execution_count": 8,
   "id": "19dcc599-cbc0-47e1-8a2d-43fea203057b",
   "metadata": {},
   "outputs": [],
   "source": [
    "function filter_items(dest::RatingsDataset, source::RatingsDataset)\n",
    "    # return the subset of dest whose items are im source\n",
    "    items = collect(Set(source.item))\n",
    "    valid_items = Set(items)\n",
    "    mask = [dest.item[i] ∈ valid_items for i = 1:length(dest.item)]\n",
    "    RatingsDataset(dest.user[mask], dest.item[mask], dest.rating[mask])\n",
    "end;"
   ]
  },
  {
   "cell_type": "markdown",
   "id": "e2bede45-a7cb-4341-b522-2f2e97b3031e",
   "metadata": {},
   "source": [
    "## Training algorithm"
   ]
  },
  {
   "cell_type": "code",
   "execution_count": 9,
   "id": "f26d4ba3-d665-4192-8043-095fc3ae480c",
   "metadata": {},
   "outputs": [],
   "source": [
    "function optimize_model(param)\n",
    "    # unpack parameters\n",
    "    training = get_training(param.training_residuals)'\n",
    "    validation = get_validation(param.validation_residuals)'\n",
    "    # running on the entire dataset is too computationally expensive, so we subset it\n",
    "    # training = filter_items(training, 0.1)\n",
    "    validation = filter_items(filter_items(validation, training), 0.001)\n",
    "    R = sparse(\n",
    "        training.user,\n",
    "        training.item,\n",
    "        training.rating,\n",
    "        maximum(training.user),\n",
    "        maximum(training.item),\n",
    "    )\n",
    "    K = param.K\n",
    "    neighborhood_types = Dict(\"abs\" => get_abs_neighborhood)\n",
    "    neighborhoods = i -> neighborhood_types[param.neighborhood_type](i, R, K)\n",
    "\n",
    "    # generate the hash bucket cache \n",
    "    @debug \"generating hash buckets\"\n",
    "    get_hash_buckets(R)\n",
    "    hash_neighborhood_sizes = zeros(size(R)[2])\n",
    "    @tprogress Threads.@threads for j = 1:size(R)[2]\n",
    "        hash_neighborhood_sizes[j] = length(get_hash_neighbors(R, j))\n",
    "    end\n",
    "    @debug \"average hash neighborhood size $(mean(hash_neighborhood_sizes))\"\n",
    "\n",
    "    # optimize hyperparameters\n",
    "    function validation_mse(λ)\n",
    "        pred = collaborative_filtering(training, validation, neighborhoods, λ)\n",
    "        truth = validation.rating\n",
    "        β = pred \\ truth\n",
    "        loss = mse(truth, pred .* β)\n",
    "        @debug \"loss: $loss β: $β: λ $λ\"\n",
    "        loss\n",
    "    end\n",
    "    res = optimize(\n",
    "        validation_mse,\n",
    "        param.λ,\n",
    "        LBFGS(),\n",
    "        autodiff = :forward,\n",
    "        Optim.Options(show_trace = true, extended_trace = true),\n",
    "    )\n",
    "    param.λ = Optim.minimizer(res)\n",
    "\n",
    "    # save predictions\n",
    "    training = get_training(param.training_residuals)'\n",
    "    inference = get_inference()'\n",
    "    preds = collaborative_filtering(training, inference, neighborhoods, param.λ)\n",
    "    sparse_preds = sparse(inference.user, inference.item, preds)'\n",
    "    function model(users, items, predictions)\n",
    "        result = zeros(length(users))\n",
    "        for i = 1:length(users)\n",
    "            if users[i] <= size(predictions)[1] && items[i] <= size(predictions)[2]\n",
    "                result[i] = predictions[users[i], items[i]]\n",
    "            end\n",
    "        end\n",
    "        result\n",
    "    end\n",
    "    write_predictions(\n",
    "        (users, items) -> model(users, items, sparse_preds),\n",
    "        outdir = param.name,\n",
    "        residual_alphas = param.validation_residuals,\n",
    "        save_training = true,\n",
    "    )\n",
    "    write_params(to_dict(param), outdir = param.name)\n",
    "end;"
   ]
  },
  {
   "cell_type": "markdown",
   "id": "85910c72-6e77-4dbd-8991-6ad3b81035a7",
   "metadata": {},
   "source": [
    "## Setup hyperparameters"
   ]
  },
  {
   "cell_type": "code",
   "execution_count": 10,
   "id": "0c00b2aa-a40c-4374-9631-9918f0f55968",
   "metadata": {},
   "outputs": [],
   "source": [
    "downcast_to_int(x) = isinteger(x) ? Int(x) : x\n",
    "user_cf_params = [[\n",
    "        cf_params(\n",
    "            name = \"UserCF.$K\",\n",
    "            training_residuals = [\"UserItemBiases\"],\n",
    "            validation_residuals = [\"UserItemBiases\"],\n",
    "            neighborhood_type = \"abs\",\n",
    "            S = \"\",\n",
    "            K = K,\n",
    "            λ = [1.0426196637532286, 0.9279875295690789, 1.2651483332610922],\n",
    "        ) for K in downcast_to_int.([2^10])\n",
    "    ];\n",
    "];"
   ]
  },
  {
   "cell_type": "code",
   "execution_count": 11,
   "id": "77769de8-f5e1-4146-b443-139f23e115ec",
   "metadata": {},
   "outputs": [],
   "source": [
    "# 2^14 -> 1.477202"
   ]
  },
  {
   "cell_type": "markdown",
   "id": "73d6710c-a42a-443d-8616-f1441be67eee",
   "metadata": {},
   "source": [
    "## Train models"
   ]
  },
  {
   "cell_type": "code",
   "execution_count": null,
   "id": "1842d509-9377-4b28-9fe9-9212da6183d1",
   "metadata": {
    "tags": []
   },
   "outputs": [
    {
     "name": "stderr",
     "output_type": "stream",
     "text": [
      "\u001b[38;5;4m\u001b[1m[ \u001b[22m\u001b[39m\u001b[38;5;4m\u001b[1mDebug: \u001b[22m\u001b[39m20220102 18:16:33 generating hash buckets\n",
      "\u001b[32mProgress: 100%|█████████████████████████████████████████| Time: 0:00:40\u001b[39m\n",
      "\u001b[32mProgress: 100%|███████████████████████████| Time: 0:00:27 ( 0.24 ms/it)\u001b[39m\n",
      "\u001b[38;5;4m\u001b[1m[ \u001b[22m\u001b[39m\u001b[38;5;4m\u001b[1mDebug: \u001b[22m\u001b[39m20220102 18:17:43 average hash neighborhood size 16034.467805478405\n",
      "\u001b[32mProgress: 100%|███████████████████████████| Time: 0:00:34 ( 0.33  s/it)\u001b[39m\n",
      "\u001b[38;5;4m\u001b[1m[ \u001b[22m\u001b[39m\u001b[38;5;4m\u001b[1mDebug: \u001b[22m\u001b[39m20220102 18:18:28 loss: Dual{ForwardDiff.Tag{var\"#validation_mse#40\"{var\"#36#38\"{cf_params, Dict{String, typeof(get_abs_neighborhood)}, Int64, SparseMatrixCSC{Float64, Int64}}}, Float64}}(1.4939208019927832,0.007607559709047942,-0.004345672032194704,0.0012035487988274426) β: Dual{ForwardDiff.Tag{var\"#validation_mse#40\"{var\"#36#38\"{cf_params, Dict{String, typeof(get_abs_neighborhood)}, Int64, SparseMatrixCSC{Float64, Int64}}}, Float64}}(1.8931566308979513,0.9431462094489499,-1.0124291960099738,0.31404905918623205): λ ForwardDiff.Dual{ForwardDiff.Tag{var\"#validation_mse#40\"{var\"#36#38\"{cf_params, Dict{String, typeof(get_abs_neighborhood)}, Int64, SparseMatrixCSC{Float64, Int64}}}, Float64}, Float64, 3}[Dual{ForwardDiff.Tag{var\"#validation_mse#40\"{var\"#36#38\"{cf_params, Dict{String, typeof(get_abs_neighborhood)}, Int64, SparseMatrixCSC{Float64, Int64}}}, Float64}}(1.0426196637532286,1.0,0.0,0.0), Dual{ForwardDiff.Tag{var\"#validation_mse#40\"{var\"#36#38\"{cf_params, Dict{String, typeof(get_abs_neighborhood)}, Int64, SparseMatrixCSC{Float64, Int64}}}, Float64}}(0.9279875295690789,0.0,1.0,0.0), Dual{ForwardDiff.Tag{var\"#validation_mse#40\"{var\"#36#38\"{cf_params, Dict{String, typeof(get_abs_neighborhood)}, Int64, SparseMatrixCSC{Float64, Int64}}}, Float64}}(1.2651483332610922,0.0,0.0,1.0)]\n"
     ]
    },
    {
     "name": "stdout",
     "output_type": "stream",
     "text": [
      "Iter     Function value   Gradient norm \n",
      "     0     1.493921e+00     7.607560e-03\n",
      " * Current step size: 1.0\n",
      " * time: 0.020226001739501953\n",
      " * g(x): [0.007607559709047942, -0.004345672032194704, 0.0012035487988274426]\n",
      " * x: [1.0426196637532286, 0.9279875295690789, 1.2651483332610922]\n"
     ]
    },
    {
     "name": "stderr",
     "output_type": "stream",
     "text": [
      "\u001b[32mProgress: 100%|███████████████████████████| Time: 0:00:03 (35.04 ms/it)\u001b[39m\n",
      "\u001b[38;5;4m\u001b[1m[ \u001b[22m\u001b[39m\u001b[38;5;4m\u001b[1mDebug: \u001b[22m\u001b[39m20220102 18:18:40 loss: Dual{ForwardDiff.Tag{var\"#validation_mse#40\"{var\"#36#38\"{cf_params, Dict{String, typeof(get_abs_neighborhood)}, Int64, SparseMatrixCSC{Float64, Int64}}}, Float64}}(1.493845942230105,0.006885733887403228,-0.004119089580470284,0.0010156116577587485) β: Dual{ForwardDiff.Tag{var\"#validation_mse#40\"{var\"#36#38\"{cf_params, Dict{String, typeof(get_abs_neighborhood)}, Int64, SparseMatrixCSC{Float64, Int64}}}, Float64}}(1.8812395038895586,0.9349676379516229,-1.011190294798933,0.3112417792559824): λ ForwardDiff.Dual{ForwardDiff.Tag{var\"#validation_mse#40\"{var\"#36#38\"{cf_params, Dict{String, typeof(get_abs_neighborhood)}, Int64, SparseMatrixCSC{Float64, Int64}}}, Float64}, Float64, 3}[Dual{ForwardDiff.Tag{var\"#validation_mse#40\"{var\"#36#38\"{cf_params, Dict{String, typeof(get_abs_neighborhood)}, Int64, SparseMatrixCSC{Float64, Int64}}}, Float64}}(1.0350121040441806,1.0,0.0,0.0), Dual{ForwardDiff.Tag{var\"#validation_mse#40\"{var\"#36#38\"{cf_params, Dict{String, typeof(get_abs_neighborhood)}, Int64, SparseMatrixCSC{Float64, Int64}}}, Float64}}(0.9323332016012736,0.0,1.0,0.0), Dual{ForwardDiff.Tag{var\"#validation_mse#40\"{var\"#36#38\"{cf_params, Dict{String, typeof(get_abs_neighborhood)}, Int64, SparseMatrixCSC{Float64, Int64}}}, Float64}}(1.2639447844622649,0.0,0.0,1.0)]\n",
      "\u001b[32mProgress: 100%|███████████████████████████| Time: 0:00:03 (33.69 ms/it)\u001b[39m\n",
      "\u001b[38;5;4m\u001b[1m[ \u001b[22m\u001b[39m\u001b[38;5;4m\u001b[1mDebug: \u001b[22m\u001b[39m20220102 18:18:51 loss: Dual{ForwardDiff.Tag{var\"#validation_mse#40\"{var\"#36#38\"{cf_params, Dict{String, typeof(get_abs_neighborhood)}, Int64, SparseMatrixCSC{Float64, Int64}}}, Float64}}(1.4936139635896502,0.003978181458068026,-0.0031829506992742075,0.0002584825742557838) β: Dual{ForwardDiff.Tag{var\"#validation_mse#40\"{var\"#36#38\"{cf_params, Dict{String, typeof(get_abs_neighborhood)}, Int64, SparseMatrixCSC{Float64, Int64}}}, Float64}}(1.834266319897329,0.9034808169596158,-1.0061874748970268,0.3004014298163759): λ ForwardDiff.Dual{ForwardDiff.Tag{var\"#validation_mse#40\"{var\"#36#38\"{cf_params, Dict{String, typeof(get_abs_neighborhood)}, Int64, SparseMatrixCSC{Float64, Int64}}}, Float64}, Float64, 3}[Dual{ForwardDiff.Tag{var\"#validation_mse#40\"{var\"#36#38\"{cf_params, Dict{String, typeof(get_abs_neighborhood)}, Int64, SparseMatrixCSC{Float64, Int64}}}, Float64}}(1.0045818652079888,1.0,0.0,0.0), Dual{ForwardDiff.Tag{var\"#validation_mse#40\"{var\"#36#38\"{cf_params, Dict{String, typeof(get_abs_neighborhood)}, Int64, SparseMatrixCSC{Float64, Int64}}}, Float64}}(0.9497158897300525,0.0,1.0,0.0), Dual{ForwardDiff.Tag{var\"#validation_mse#40\"{var\"#36#38\"{cf_params, Dict{String, typeof(get_abs_neighborhood)}, Int64, SparseMatrixCSC{Float64, Int64}}}, Float64}}(1.259130589266955,0.0,0.0,1.0)]\n",
      "\u001b[32mProgress: 100%|███████████████████████████| Time: 0:00:03 (29.71 ms/it)\u001b[39m\n",
      "\u001b[38;5;4m\u001b[1m[ \u001b[22m\u001b[39m\u001b[38;5;4m\u001b[1mDebug: \u001b[22m\u001b[39m20220102 18:19:02 loss: Dual{ForwardDiff.Tag{var\"#validation_mse#40\"{var\"#36#38\"{cf_params, Dict{String, typeof(get_abs_neighborhood)}, Int64, SparseMatrixCSC{Float64, Int64}}}, Float64}}(1.4941231930358438,-0.010867822262078624,0.002208778511245662,-0.0036073701071684225) β: Dual{ForwardDiff.Tag{var\"#validation_mse#40\"{var\"#36#38\"{cf_params, Dict{String, typeof(get_abs_neighborhood)}, Int64, SparseMatrixCSC{Float64, Int64}}}, Float64}}(1.6143440931276516,0.7719152990282914,-0.9796046287761071,0.25442261045470377): λ ForwardDiff.Dual{ForwardDiff.Tag{var\"#validation_mse#40\"{var\"#36#38\"{cf_params, Dict{String, typeof(get_abs_neighborhood)}, Int64, SparseMatrixCSC{Float64, Int64}}}, Float64}, Float64, 3}[Dual{ForwardDiff.Tag{var\"#validation_mse#40\"{var\"#36#38\"{cf_params, Dict{String, typeof(get_abs_neighborhood)}, Int64, SparseMatrixCSC{Float64, Int64}}}, Float64}}(0.85243067102703,1.0,0.0,0.0), Dual{ForwardDiff.Tag{var\"#validation_mse#40\"{var\"#36#38\"{cf_params, Dict{String, typeof(get_abs_neighborhood)}, Int64, SparseMatrixCSC{Float64, Int64}}}, Float64}}(1.0366293303739464,0.0,1.0,0.0), Dual{ForwardDiff.Tag{var\"#validation_mse#40\"{var\"#36#38\"{cf_params, Dict{String, typeof(get_abs_neighborhood)}, Int64, SparseMatrixCSC{Float64, Int64}}}, Float64}}(1.2350596132904061,0.0,0.0,1.0)]\n",
      "\u001b[32mProgress: 100%|███████████████████████████| Time: 0:00:03 (31.63 ms/it)\u001b[39m\n",
      "\u001b[38;5;4m\u001b[1m[ \u001b[22m\u001b[39m\u001b[38;5;4m\u001b[1mDebug: \u001b[22m\u001b[39m20220102 18:19:14 loss: Dual{ForwardDiff.Tag{var\"#validation_mse#40\"{var\"#36#38\"{cf_params, Dict{String, typeof(get_abs_neighborhood)}, Int64, SparseMatrixCSC{Float64, Int64}}}, Float64}}(1.4934708389099287,-0.000655185196638668,-0.001612081905140529,-0.000948173893788669) β: Dual{ForwardDiff.Tag{var\"#validation_mse#40\"{var\"#36#38\"{cf_params, Dict{String, typeof(get_abs_neighborhood)}, Int64, SparseMatrixCSC{Float64, Int64}}}, Float64}}(1.762451300296199,0.8576645184414087,-0.9981335763313739,0.28452515951386503): λ ForwardDiff.Dual{ForwardDiff.Tag{var\"#validation_mse#40\"{var\"#36#38\"{cf_params, Dict{String, typeof(get_abs_neighborhood)}, Int64, SparseMatrixCSC{Float64, Int64}}}, Float64}, Float64, 3}[Dual{ForwardDiff.Tag{var\"#validation_mse#40\"{var\"#36#38\"{cf_params, Dict{String, typeof(get_abs_neighborhood)}, Int64, SparseMatrixCSC{Float64, Int64}}}, Float64}}(0.9566710231754497,1.0,0.0,0.0), Dual{ForwardDiff.Tag{var\"#validation_mse#40\"{var\"#36#38\"{cf_params, Dict{String, typeof(get_abs_neighborhood)}, Int64, SparseMatrixCSC{Float64, Int64}}}, Float64}}(0.9770840359191751,0.0,1.0,0.0), Dual{ForwardDiff.Tag{var\"#validation_mse#40\"{var\"#36#38\"{cf_params, Dict{String, typeof(get_abs_neighborhood)}, Int64, SparseMatrixCSC{Float64, Int64}}}, Float64}}(1.2515508871568957,0.0,0.0,1.0)]\n"
     ]
    },
    {
     "name": "stdout",
     "output_type": "stream",
     "text": [
      "     1     1.493471e+00     1.612082e-03\n",
      " * Current step size: 11.29779375580281\n",
      " * time: 45.94201993942261\n",
      " * g(x): [-0.000655185196638668, -0.001612081905140529, -0.000948173893788669]\n",
      " * x: [0.9566710231754497, 0.9770840359191751, 1.2515508871568957]\n"
     ]
    },
    {
     "name": "stderr",
     "output_type": "stream",
     "text": [
      "\u001b[32mProgress: 100%|███████████████████████████| Time: 0:00:02 (28.15 ms/it)\u001b[39m\n",
      "\u001b[38;5;4m\u001b[1m[ \u001b[22m\u001b[39m\u001b[38;5;4m\u001b[1mDebug: \u001b[22m\u001b[39m20220102 18:19:24 loss: Dual{ForwardDiff.Tag{var\"#validation_mse#40\"{var\"#36#38\"{cf_params, Dict{String, typeof(get_abs_neighborhood)}, Int64, SparseMatrixCSC{Float64, Int64}}}, Float64}}(1.4934375018294124,-0.0003005680564744634,-0.0006868571603468091,-0.0008520769581940923) β: Dual{ForwardDiff.Tag{var\"#validation_mse#40\"{var\"#36#38\"{cf_params, Dict{String, typeof(get_abs_neighborhood)}, Int64, SparseMatrixCSC{Float64, Int64}}}, Float64}}(1.747472925081674,0.853754421699017,-1.009567502921913,0.2811731117892241): λ ForwardDiff.Dual{ForwardDiff.Tag{var\"#validation_mse#40\"{var\"#36#38\"{cf_params, Dict{String, typeof(get_abs_neighborhood)}, Int64, SparseMatrixCSC{Float64, Int64}}}, Float64}, Float64, 3}[Dual{ForwardDiff.Tag{var\"#validation_mse#40\"{var\"#36#38\"{cf_params, Dict{String, typeof(get_abs_neighborhood)}, Int64, SparseMatrixCSC{Float64, Int64}}}, Float64}}(0.95960001843837,1.0,0.0,0.0), Dual{ForwardDiff.Tag{var\"#validation_mse#40\"{var\"#36#38\"{cf_params, Dict{String, typeof(get_abs_neighborhood)}, Int64, SparseMatrixCSC{Float64, Int64}}}, Float64}}(0.9972471616212497,0.0,1.0,0.0), Dual{ForwardDiff.Tag{var\"#validation_mse#40\"{var\"#36#38\"{cf_params, Dict{String, typeof(get_abs_neighborhood)}, Int64, SparseMatrixCSC{Float64, Int64}}}, Float64}}(1.2612982452331065,0.0,0.0,1.0)]\n",
      "\u001b[32mProgress: 100%|███████████████████████████| Time: 0:00:03 (32.33 ms/it)\u001b[39m\n",
      "\u001b[38;5;4m\u001b[1m[ \u001b[22m\u001b[39m\u001b[38;5;4m\u001b[1mDebug: \u001b[22m\u001b[39m20220102 18:19:35 loss: Dual{ForwardDiff.Tag{var\"#validation_mse#40\"{var\"#36#38\"{cf_params, Dict{String, typeof(get_abs_neighborhood)}, Int64, SparseMatrixCSC{Float64, Int64}}}, Float64}}(1.493508249329152,0.0010115388219095348,0.0029796452751577104,-0.0005115471905349603) β: Dual{ForwardDiff.Tag{var\"#validation_mse#40\"{var\"#36#38\"{cf_params, Dict{String, typeof(get_abs_neighborhood)}, Int64, SparseMatrixCSC{Float64, Int64}}}, Float64}}(1.684991446612041,0.8370703697499957,-1.0493499722629547,0.26790992336672714): λ ForwardDiff.Dual{ForwardDiff.Tag{var\"#validation_mse#40\"{var\"#36#38\"{cf_params, Dict{String, typeof(get_abs_neighborhood)}, Int64, SparseMatrixCSC{Float64, Int64}}}, Float64}, Float64, 3}[Dual{ForwardDiff.Tag{var\"#validation_mse#40\"{var\"#36#38\"{cf_params, Dict{String, typeof(get_abs_neighborhood)}, Int64, SparseMatrixCSC{Float64, Int64}}}, Float64}}(0.9713159994900509,1.0,0.0,0.0), Dual{ForwardDiff.Tag{var\"#validation_mse#40\"{var\"#36#38\"{cf_params, Dict{String, typeof(get_abs_neighborhood)}, Int64, SparseMatrixCSC{Float64, Int64}}}, Float64}}(1.077899664429548,0.0,1.0,0.0), Dual{ForwardDiff.Tag{var\"#validation_mse#40\"{var\"#36#38\"{cf_params, Dict{String, typeof(get_abs_neighborhood)}, Int64, SparseMatrixCSC{Float64, Int64}}}, Float64}}(1.3002876775379495,0.0,0.0,1.0)]\n",
      "\u001b[32mProgress: 100%|███████████████████████████| Time: 0:00:03 (30.15 ms/it)\u001b[39m\n",
      "\u001b[38;5;4m\u001b[1m[ \u001b[22m\u001b[39m\u001b[38;5;4m\u001b[1mDebug: \u001b[22m\u001b[39m20220102 18:19:45 loss: Dual{ForwardDiff.Tag{var\"#validation_mse#40\"{var\"#36#38\"{cf_params, Dict{String, typeof(get_abs_neighborhood)}, Int64, SparseMatrixCSC{Float64, Int64}}}, Float64}}(1.493424558107422,8.92611871994286e-5,0.00035974312310567435,-0.0007483753394444065) β: Dual{ForwardDiff.Tag{var\"#validation_mse#40\"{var\"#36#38\"{cf_params, Dict{String, typeof(get_abs_neighborhood)}, Int64, SparseMatrixCSC{Float64, Int64}}}, Float64}}(1.7301281782136004,0.8491854251873262,-1.0218259553836295,0.27738231249185785): λ ForwardDiff.Dual{ForwardDiff.Tag{var\"#validation_mse#40\"{var\"#36#38\"{cf_params, Dict{String, typeof(get_abs_neighborhood)}, Int64, SparseMatrixCSC{Float64, Int64}}}, Float64}, Float64, 3}[Dual{ForwardDiff.Tag{var\"#validation_mse#40\"{var\"#36#38\"{cf_params, Dict{String, typeof(get_abs_neighborhood)}, Int64, SparseMatrixCSC{Float64, Int64}}}, Float64}}(0.962928126709336,1.0,0.0,0.0), Dual{ForwardDiff.Tag{var\"#validation_mse#40\"{var\"#36#38\"{cf_params, Dict{String, typeof(get_abs_neighborhood)}, Int64, SparseMatrixCSC{Float64, Int64}}}, Float64}}(1.0201577706847476,0.0,1.0,0.0), Dual{ForwardDiff.Tag{var\"#validation_mse#40\"{var\"#36#38\"{cf_params, Dict{String, typeof(get_abs_neighborhood)}, Int64, SparseMatrixCSC{Float64, Int64}}}, Float64}}(1.2723738053216405,0.0,0.0,1.0)]\n"
     ]
    },
    {
     "name": "stdout",
     "output_type": "stream",
     "text": [
      "     2     1.493425e+00     7.483753e-04\n",
      " * Current step size: 2.1362627700694543\n",
      " * time: 77.26127791404724\n",
      " * g(x): [8.92611871994286e-5, 0.00035974312310567435, -0.0007483753394444065]\n",
      " * x: [0.962928126709336, 1.0201577706847476, 1.2723738053216405]\n"
     ]
    },
    {
     "name": "stderr",
     "output_type": "stream",
     "text": [
      "\u001b[32mProgress: 100%|███████████████████████████| Time: 0:00:03 (29.49 ms/it)\u001b[39m\n",
      "\u001b[38;5;4m\u001b[1m[ \u001b[22m\u001b[39m\u001b[38;5;4m\u001b[1mDebug: \u001b[22m\u001b[39m20220102 18:19:55 loss: Dual{ForwardDiff.Tag{var\"#validation_mse#40\"{var\"#36#38\"{cf_params, Dict{String, typeof(get_abs_neighborhood)}, Int64, SparseMatrixCSC{Float64, Int64}}}, Float64}}(1.4934108611148746,0.00023959005808844123,0.00029645803589102544,-0.0006917697205120977) β: Dual{ForwardDiff.Tag{var\"#validation_mse#40\"{var\"#36#38\"{cf_params, Dict{String, typeof(get_abs_neighborhood)}, Int64, SparseMatrixCSC{Float64, Int64}}}, Float64}}(1.7335545228368385,0.8522638920540936,-1.0227032585033722,0.27445469869658395): λ ForwardDiff.Dual{ForwardDiff.Tag{var\"#validation_mse#40\"{var\"#36#38\"{cf_params, Dict{String, typeof(get_abs_neighborhood)}, Int64, SparseMatrixCSC{Float64, Int64}}}, Float64}, Float64, 3}[Dual{ForwardDiff.Tag{var\"#validation_mse#40\"{var\"#36#38\"{cf_params, Dict{String, typeof(get_abs_neighborhood)}, Int64, SparseMatrixCSC{Float64, Int64}}}, Float64}}(0.9600007960264226,1.0,0.0,0.0), Dual{ForwardDiff.Tag{var\"#validation_mse#40\"{var\"#36#38\"{cf_params, Dict{String, typeof(get_abs_neighborhood)}, Int64, SparseMatrixCSC{Float64, Int64}}}, Float64}}(1.0192079856412808,0.0,1.0,0.0), Dual{ForwardDiff.Tag{var\"#validation_mse#40\"{var\"#36#38\"{cf_params, Dict{String, typeof(get_abs_neighborhood)}, Int64, SparseMatrixCSC{Float64, Int64}}}, Float64}}(1.2902989237721536,0.0,0.0,1.0)]\n",
      "\u001b[32mProgress: 100%|███████████████████████████| Time: 0:00:03 (30.54 ms/it)\u001b[39m\n",
      "\u001b[38;5;4m\u001b[1m[ \u001b[22m\u001b[39m\u001b[38;5;4m\u001b[1mDebug: \u001b[22m\u001b[39m20220102 18:20:05 loss: Dual{ForwardDiff.Tag{var\"#validation_mse#40\"{var\"#36#38\"{cf_params, Dict{String, typeof(get_abs_neighborhood)}, Int64, SparseMatrixCSC{Float64, Int64}}}, Float64}}(1.49336185891427,0.000788126964506903,5.06532865682325e-5,-0.0004939493564731891) β: Dual{ForwardDiff.Tag{var\"#validation_mse#40\"{var\"#36#38\"{cf_params, Dict{String, typeof(get_abs_neighborhood)}, Int64, SparseMatrixCSC{Float64, Int64}}}, Float64}}(1.7466717820788975,0.8641051030913433,-1.0258980515847727,0.263360574893731): λ ForwardDiff.Dual{ForwardDiff.Tag{var\"#validation_mse#40\"{var\"#36#38\"{cf_params, Dict{String, typeof(get_abs_neighborhood)}, Int64, SparseMatrixCSC{Float64, Int64}}}, Float64}, Float64, 3}[Dual{ForwardDiff.Tag{var\"#validation_mse#40\"{var\"#36#38\"{cf_params, Dict{String, typeof(get_abs_neighborhood)}, Int64, SparseMatrixCSC{Float64, Int64}}}, Float64}}(0.9482914732947688,1.0,0.0,0.0), Dual{ForwardDiff.Tag{var\"#validation_mse#40\"{var\"#36#38\"{cf_params, Dict{String, typeof(get_abs_neighborhood)}, Int64, SparseMatrixCSC{Float64, Int64}}}, Float64}}(1.0154088454674133,0.0,1.0,0.0), Dual{ForwardDiff.Tag{var\"#validation_mse#40\"{var\"#36#38\"{cf_params, Dict{String, typeof(get_abs_neighborhood)}, Int64, SparseMatrixCSC{Float64, Int64}}}, Float64}}(1.3619993975742057,0.0,0.0,1.0)]\n",
      "\u001b[32mProgress: 100%|███████████████████████████| Time: 0:00:03 (29.61 ms/it)\u001b[39m\n",
      "\u001b[38;5;4m\u001b[1m[ \u001b[22m\u001b[39m\u001b[38;5;4m\u001b[1mDebug: \u001b[22m\u001b[39m20220102 18:20:16 loss: Dual{ForwardDiff.Tag{var\"#validation_mse#40\"{var\"#36#38\"{cf_params, Dict{String, typeof(get_abs_neighborhood)}, Int64, SparseMatrixCSC{Float64, Int64}}}, Float64}}(1.4932034939710357,0.00247345464044031,-0.0010424369984019502,3.0161476037642026e-5) β: Dual{ForwardDiff.Tag{var\"#validation_mse#40\"{var\"#36#38\"{cf_params, Dict{String, typeof(get_abs_neighborhood)}, Int64, SparseMatrixCSC{Float64, Int64}}}, Float64}}(1.8001725643969513,0.9132362789122538,-1.0353655210600816,0.21916581095347978): λ ForwardDiff.Dual{ForwardDiff.Tag{var\"#validation_mse#40\"{var\"#36#38\"{cf_params, Dict{String, typeof(get_abs_neighborhood)}, Int64, SparseMatrixCSC{Float64, Int64}}}, Float64}, Float64, 3}[Dual{ForwardDiff.Tag{var\"#validation_mse#40\"{var\"#36#38\"{cf_params, Dict{String, typeof(get_abs_neighborhood)}, Int64, SparseMatrixCSC{Float64, Int64}}}, Float64}}(0.8897448596364999,1.0,0.0,0.0), Dual{ForwardDiff.Tag{var\"#validation_mse#40\"{var\"#36#38\"{cf_params, Dict{String, typeof(get_abs_neighborhood)}, Int64, SparseMatrixCSC{Float64, Int64}}}, Float64}}(0.9964131445980764,0.0,1.0,0.0), Dual{ForwardDiff.Tag{var\"#validation_mse#40\"{var\"#36#38\"{cf_params, Dict{String, typeof(get_abs_neighborhood)}, Int64, SparseMatrixCSC{Float64, Int64}}}, Float64}}(1.7205017665844666,0.0,0.0,1.0)]\n",
      "\u001b[32mProgress: 100%|███████████████████████████| Time: 0:00:03 (30.01 ms/it)\u001b[39m\n",
      "\u001b[38;5;4m\u001b[1m[ \u001b[22m\u001b[39m\u001b[38;5;4m\u001b[1mDebug: \u001b[22m\u001b[39m20220102 18:20:26 loss: Dual{ForwardDiff.Tag{var\"#validation_mse#40\"{var\"#36#38\"{cf_params, Dict{String, typeof(get_abs_neighborhood)}, Int64, SparseMatrixCSC{Float64, Int64}}}, Float64}}(1.4931725524136086,-0.0031210145078024816,-0.005240139456069683,-0.00035118167448236937) β: Dual{ForwardDiff.Tag{var\"#validation_mse#40\"{var\"#36#38\"{cf_params, Dict{String, typeof(get_abs_neighborhood)}, Int64, SparseMatrixCSC{Float64, Int64}}}, Float64}}(1.8935858334558744,1.0022996528008223,-0.9883189513089015,0.11394741847999698): λ ForwardDiff.Dual{ForwardDiff.Tag{var\"#validation_mse#40\"{var\"#36#38\"{cf_params, Dict{String, typeof(get_abs_neighborhood)}, Int64, SparseMatrixCSC{Float64, Int64}}}, Float64}, Float64, 3}[Dual{ForwardDiff.Tag{var\"#validation_mse#40\"{var\"#36#38\"{cf_params, Dict{String, typeof(get_abs_neighborhood)}, Int64, SparseMatrixCSC{Float64, Int64}}}, Float64}}(0.5970117913451554,1.0,0.0,0.0), Dual{ForwardDiff.Tag{var\"#validation_mse#40\"{var\"#36#38\"{cf_params, Dict{String, typeof(get_abs_neighborhood)}, Int64, SparseMatrixCSC{Float64, Int64}}}, Float64}}(0.901434640251392,0.0,1.0,0.0), Dual{ForwardDiff.Tag{var\"#validation_mse#40\"{var\"#36#38\"{cf_params, Dict{String, typeof(get_abs_neighborhood)}, Int64, SparseMatrixCSC{Float64, Int64}}}, Float64}}(3.5130136116357717,0.0,0.0,1.0)]\n",
      "\u001b[32mProgress: 100%|███████████████████████████| Time: 0:00:04 (42.20 ms/it)\u001b[39m\n",
      "\u001b[38;5;4m\u001b[1m[ \u001b[22m\u001b[39m\u001b[38;5;4m\u001b[1mDebug: \u001b[22m\u001b[39m20220102 18:20:38 loss: Dual{ForwardDiff.Tag{var\"#validation_mse#40\"{var\"#36#38\"{cf_params, Dict{String, typeof(get_abs_neighborhood)}, Int64, SparseMatrixCSC{Float64, Int64}}}, Float64}}(1.4930466595176424,0.002146588738191285,-0.002942684961699916,8.489666976685571e-5) β: Dual{ForwardDiff.Tag{var\"#validation_mse#40\"{var\"#36#38\"{cf_params, Dict{String, typeof(get_abs_neighborhood)}, Int64, SparseMatrixCSC{Float64, Int64}}}, Float64}}(1.866066808426631,0.9752050256690554,-1.0298132484603348,0.1604726945158609): λ ForwardDiff.Dual{ForwardDiff.Tag{var\"#validation_mse#40\"{var\"#36#38\"{cf_params, Dict{String, typeof(get_abs_neighborhood)}, Int64, SparseMatrixCSC{Float64, Int64}}}, Float64}, Float64, 3}[Dual{ForwardDiff.Tag{var\"#validation_mse#40\"{var\"#36#38\"{cf_params, Dict{String, typeof(get_abs_neighborhood)}, Int64, SparseMatrixCSC{Float64, Int64}}}, Float64}}(0.76618988492941,1.0,0.0,0.0), Dual{ForwardDiff.Tag{var\"#validation_mse#40\"{var\"#36#38\"{cf_params, Dict{String, typeof(get_abs_neighborhood)}, Int64, SparseMatrixCSC{Float64, Int64}}}, Float64}}(0.956325201097985,0.0,1.0,0.0), Dual{ForwardDiff.Tag{var\"#validation_mse#40\"{var\"#36#38\"{cf_params, Dict{String, typeof(get_abs_neighborhood)}, Int64, SparseMatrixCSC{Float64, Int64}}}, Float64}}(2.4770741516935173,0.0,0.0,1.0)]\n"
     ]
    },
    {
     "name": "stdout",
     "output_type": "stream",
     "text": [
      "     3     1.493047e+00     2.942685e-03\n",
      " * Current step size: 67.20738552985105\n",
      " * time: 130.20878791809082\n",
      " * g(x): [0.002146588738191285, -0.002942684961699916, 8.489666976685571e-5]\n",
      " * x: [0.76618988492941, 0.956325201097985, 2.4770741516935173]\n"
     ]
    },
    {
     "name": "stderr",
     "output_type": "stream",
     "text": [
      "\u001b[32mProgress: 100%|███████████████████████████| Time: 0:00:04 (41.83 ms/it)\u001b[39m\n",
      "\u001b[38;5;4m\u001b[1m[ \u001b[22m\u001b[39m\u001b[38;5;4m\u001b[1mDebug: \u001b[22m\u001b[39m20220102 18:20:51 loss: Dual{ForwardDiff.Tag{var\"#validation_mse#40\"{var\"#36#38\"{cf_params, Dict{String, typeof(get_abs_neighborhood)}, Int64, SparseMatrixCSC{Float64, Int64}}}, Float64}}(1.4929214618276068,-0.0037292836274279767,-0.0006481328251002506,-0.00048332826567809074) β: Dual{ForwardDiff.Tag{var\"#validation_mse#40\"{var\"#36#38\"{cf_params, Dict{String, typeof(get_abs_neighborhood)}, Int64, SparseMatrixCSC{Float64, Int64}}}, Float64}}(1.7860320929203546,0.9422456746892787,-1.0323400682123693,0.12051946960852968): λ ForwardDiff.Dual{ForwardDiff.Tag{var\"#validation_mse#40\"{var\"#36#38\"{cf_params, Dict{String, typeof(get_abs_neighborhood)}, Int64, SparseMatrixCSC{Float64, Int64}}}, Float64}, Float64, 3}[Dual{ForwardDiff.Tag{var\"#validation_mse#40\"{var\"#36#38\"{cf_params, Dict{String, typeof(get_abs_neighborhood)}, Int64, SparseMatrixCSC{Float64, Int64}}}, Float64}}(0.6332180117799279,1.0,0.0,0.0), Dual{ForwardDiff.Tag{var\"#validation_mse#40\"{var\"#36#38\"{cf_params, Dict{String, typeof(get_abs_neighborhood)}, Int64, SparseMatrixCSC{Float64, Int64}}}, Float64}}(0.998174031555442,0.0,1.0,0.0), Dual{ForwardDiff.Tag{var\"#validation_mse#40\"{var\"#36#38\"{cf_params, Dict{String, typeof(get_abs_neighborhood)}, Int64, SparseMatrixCSC{Float64, Int64}}}, Float64}}(3.1298878178864573,0.0,0.0,1.0)]\n",
      "\u001b[32mProgress: 100%|███████████████████████████| Time: 0:00:03 (33.13 ms/it)\u001b[39m\n",
      "\u001b[38;5;4m\u001b[1m[ \u001b[22m\u001b[39m\u001b[38;5;4m\u001b[1mDebug: \u001b[22m\u001b[39m20220102 18:21:03 loss: Dual{ForwardDiff.Tag{var\"#validation_mse#40\"{var\"#36#38\"{cf_params, Dict{String, typeof(get_abs_neighborhood)}, Int64, SparseMatrixCSC{Float64, Int64}}}, Float64}}(1.4929037168971688,-0.0017448251632943038,-0.0013774432662534304,-0.000315539290968756) β: Dual{ForwardDiff.Tag{var\"#validation_mse#40\"{var\"#36#38\"{cf_params, Dict{String, typeof(get_abs_neighborhood)}, Int64, SparseMatrixCSC{Float64, Int64}}}, Float64}}(1.8124445771559967,0.9541251147268955,-1.032950016153683,0.130999531280115): λ ForwardDiff.Dual{ForwardDiff.Tag{var\"#validation_mse#40\"{var\"#36#38\"{cf_params, Dict{String, typeof(get_abs_neighborhood)}, Int64, SparseMatrixCSC{Float64, Int64}}}, Float64}, Float64, 3}[Dual{ForwardDiff.Tag{var\"#validation_mse#40\"{var\"#36#38\"{cf_params, Dict{String, typeof(get_abs_neighborhood)}, Int64, SparseMatrixCSC{Float64, Int64}}}, Float64}}(0.6734565494232049,1.0,0.0,0.0), Dual{ForwardDiff.Tag{var\"#validation_mse#40\"{var\"#36#38\"{cf_params, Dict{String, typeof(get_abs_neighborhood)}, Int64, SparseMatrixCSC{Float64, Int64}}}, Float64}}(0.9855101824285182,0.0,1.0,0.0), Dual{ForwardDiff.Tag{var\"#validation_mse#40\"{var\"#36#38\"{cf_params, Dict{String, typeof(get_abs_neighborhood)}, Int64, SparseMatrixCSC{Float64, Int64}}}, Float64}}(2.9323402714845166,0.0,0.0,1.0)]\n"
     ]
    },
    {
     "name": "stdout",
     "output_type": "stream",
     "text": [
      "     4     1.492904e+00     1.744825e-03\n",
      " * Current step size: 0.6973906083278053\n",
      " * time: 154.89724493026733\n",
      " * g(x): [-0.0017448251632943038, -0.0013774432662534304, -0.000315539290968756]\n",
      " * x: [0.6734565494232049, 0.9855101824285182, 2.9323402714845166]\n"
     ]
    },
    {
     "name": "stderr",
     "output_type": "stream",
     "text": [
      "\u001b[32mProgress: 100%|███████████████████████████| Time: 0:00:03 (32.34 ms/it)\u001b[39m\n",
      "\u001b[38;5;4m\u001b[1m[ \u001b[22m\u001b[39m\u001b[38;5;4m\u001b[1mDebug: \u001b[22m\u001b[39m20220102 18:21:14 loss: Dual{ForwardDiff.Tag{var\"#validation_mse#40\"{var\"#36#38\"{cf_params, Dict{String, typeof(get_abs_neighborhood)}, Int64, SparseMatrixCSC{Float64, Int64}}}, Float64}}(1.4928544453904702,-0.0010230774558582954,0.0003708592252430443,-0.00022064991310217016) β: Dual{ForwardDiff.Tag{var\"#validation_mse#40\"{var\"#36#38\"{cf_params, Dict{String, typeof(get_abs_neighborhood)}, Int64, SparseMatrixCSC{Float64, Int64}}}, Float64}}(1.785002501181084,0.9495749259845323,-1.0560168626619313,0.1249937096455921): λ ForwardDiff.Dual{ForwardDiff.Tag{var\"#validation_mse#40\"{var\"#36#38\"{cf_params, Dict{String, typeof(get_abs_neighborhood)}, Int64, SparseMatrixCSC{Float64, Int64}}}, Float64}, Float64, 3}[Dual{ForwardDiff.Tag{var\"#validation_mse#40\"{var\"#36#38\"{cf_params, Dict{String, typeof(get_abs_neighborhood)}, Int64, SparseMatrixCSC{Float64, Int64}}}, Float64}}(0.6704646381885894,1.0,0.0,0.0), Dual{ForwardDiff.Tag{var\"#validation_mse#40\"{var\"#36#38\"{cf_params, Dict{String, typeof(get_abs_neighborhood)}, Int64, SparseMatrixCSC{Float64, Int64}}}, Float64}}(1.0245697621800447,0.0,1.0,0.0), Dual{ForwardDiff.Tag{var\"#validation_mse#40\"{var\"#36#38\"{cf_params, Dict{String, typeof(get_abs_neighborhood)}, Int64, SparseMatrixCSC{Float64, Int64}}}, Float64}}(3.0590244492190184,0.0,0.0,1.0)]\n",
      "\u001b[32mProgress: 100%|███████████████████████████| Time: 0:00:03 (30.56 ms/it)\u001b[39m\n",
      "\u001b[38;5;4m\u001b[1m[ \u001b[22m\u001b[39m\u001b[38;5;4m\u001b[1mDebug: \u001b[22m\u001b[39m20220102 18:21:25 loss: Dual{ForwardDiff.Tag{var\"#validation_mse#40\"{var\"#36#38\"{cf_params, Dict{String, typeof(get_abs_neighborhood)}, Int64, SparseMatrixCSC{Float64, Int64}}}, Float64}}(1.4934086318369149,0.001042703682011285,0.007299884361502052,1.2137408464003405e-5) β: Dual{ForwardDiff.Tag{var\"#validation_mse#40\"{var\"#36#38\"{cf_params, Dict{String, typeof(get_abs_neighborhood)}, Int64, SparseMatrixCSC{Float64, Int64}}}, Float64}}(1.660843350866471,0.921602360854394,-1.1240662883786912,0.10407550252635436): λ ForwardDiff.Dual{ForwardDiff.Tag{var\"#validation_mse#40\"{var\"#36#38\"{cf_params, Dict{String, typeof(get_abs_neighborhood)}, Int64, SparseMatrixCSC{Float64, Int64}}}, Float64}, Float64, 3}[Dual{ForwardDiff.Tag{var\"#validation_mse#40\"{var\"#36#38\"{cf_params, Dict{String, typeof(get_abs_neighborhood)}, Int64, SparseMatrixCSC{Float64, Int64}}}, Float64}}(0.6584969932501276,1.0,0.0,0.0), Dual{ForwardDiff.Tag{var\"#validation_mse#40\"{var\"#36#38\"{cf_params, Dict{String, typeof(get_abs_neighborhood)}, Int64, SparseMatrixCSC{Float64, Int64}}}, Float64}}(1.1808080811861508,0.0,1.0,0.0), Dual{ForwardDiff.Tag{var\"#validation_mse#40\"{var\"#36#38\"{cf_params, Dict{String, typeof(get_abs_neighborhood)}, Int64, SparseMatrixCSC{Float64, Int64}}}, Float64}}(3.5657611601570256,0.0,0.0,1.0)]\n",
      "\u001b[32mProgress: 100%|███████████████████████████| Time: 0:00:03 (31.03 ms/it)\u001b[39m\n",
      "\u001b[38;5;4m\u001b[1m[ \u001b[22m\u001b[39m\u001b[38;5;4m\u001b[1mDebug: \u001b[22m\u001b[39m20220102 18:21:36 loss: Dual{ForwardDiff.Tag{var\"#validation_mse#40\"{var\"#36#38\"{cf_params, Dict{String, typeof(get_abs_neighborhood)}, Int64, SparseMatrixCSC{Float64, Int64}}}, Float64}}(1.4928537420964096,-0.0009278782304835192,0.0006174952795886825,-0.00020862620745819394) β: Dual{ForwardDiff.Tag{var\"#validation_mse#40\"{var\"#36#38\"{cf_params, Dict{String, typeof(get_abs_neighborhood)}, Int64, SparseMatrixCSC{Float64, Int64}}}, Float64}}(1.7809859117514812,0.9488474647454883,-1.059080249475498,0.12417172010202865): λ ForwardDiff.Dual{ForwardDiff.Tag{var\"#validation_mse#40\"{var\"#36#38\"{cf_params, Dict{String, typeof(get_abs_neighborhood)}, Int64, SparseMatrixCSC{Float64, Int64}}}, Float64}, Float64, 3}[Dual{ForwardDiff.Tag{var\"#validation_mse#40\"{var\"#36#38\"{cf_params, Dict{String, typeof(get_abs_neighborhood)}, Int64, SparseMatrixCSC{Float64, Int64}}}, Float64}}(0.6700409715108345,1.0,0.0,0.0), Dual{ForwardDiff.Tag{var\"#validation_mse#40\"{var\"#36#38\"{cf_params, Dict{String, typeof(get_abs_neighborhood)}, Int64, SparseMatrixCSC{Float64, Int64}}}, Float64}}(1.0301007559462947,0.0,1.0,0.0), Dual{ForwardDiff.Tag{var\"#validation_mse#40\"{var\"#36#38\"{cf_params, Dict{String, typeof(get_abs_neighborhood)}, Int64, SparseMatrixCSC{Float64, Int64}}}, Float64}}(3.076963438880182,0.0,0.0,1.0)]\n"
     ]
    },
    {
     "name": "stdout",
     "output_type": "stream",
     "text": [
      "     5     1.492854e+00     9.278782e-04\n",
      " * Current step size: 1.1416040265009204\n",
      " * time: 187.74614000320435\n",
      " * g(x): [-0.0009278782304835192, 0.0006174952795886825, -0.00020862620745819394]\n",
      " * x: [0.6700409715108345, 1.0301007559462947, 3.076963438880182]\n"
     ]
    },
    {
     "name": "stderr",
     "output_type": "stream",
     "text": [
      "\u001b[32mProgress: 100%|███████████████████████████| Time: 0:00:03 (28.93 ms/it)\u001b[39m\n",
      "\u001b[38;5;4m\u001b[1m[ \u001b[22m\u001b[39m\u001b[38;5;4m\u001b[1mDebug: \u001b[22m\u001b[39m20220102 18:21:45 loss: Dual{ForwardDiff.Tag{var\"#validation_mse#40\"{var\"#36#38\"{cf_params, Dict{String, typeof(get_abs_neighborhood)}, Int64, SparseMatrixCSC{Float64, Int64}}}, Float64}}(1.49283626379935,-0.0009168722365044595,0.0005061995144246917,-0.0001869921172346452) β: Dual{ForwardDiff.Tag{var\"#validation_mse#40\"{var\"#36#38\"{cf_params, Dict{String, typeof(get_abs_neighborhood)}, Int64, SparseMatrixCSC{Float64, Int64}}}, Float64}}(1.7871680335466482,0.9564085426291983,-1.0604046403860248,0.11893167209219238): λ ForwardDiff.Dual{ForwardDiff.Tag{var\"#validation_mse#40\"{var\"#36#38\"{cf_params, Dict{String, typeof(get_abs_neighborhood)}, Int64, SparseMatrixCSC{Float64, Int64}}}, Float64}, Float64, 3}[Dual{ForwardDiff.Tag{var\"#validation_mse#40\"{var\"#36#38\"{cf_params, Dict{String, typeof(get_abs_neighborhood)}, Int64, SparseMatrixCSC{Float64, Int64}}}, Float64}}(0.6541945996217541,1.0,0.0,0.0), Dual{ForwardDiff.Tag{var\"#validation_mse#40\"{var\"#36#38\"{cf_params, Dict{String, typeof(get_abs_neighborhood)}, Int64, SparseMatrixCSC{Float64, Int64}}}, Float64}}(1.0279461330260098,0.0,1.0,0.0), Dual{ForwardDiff.Tag{var\"#validation_mse#40\"{var\"#36#38\"{cf_params, Dict{String, typeof(get_abs_neighborhood)}, Int64, SparseMatrixCSC{Float64, Int64}}}, Float64}}(3.2332816232519264,0.0,0.0,1.0)]\n",
      "\u001b[32mProgress: 100%|███████████████████████████| Time: 0:00:03 (31.66 ms/it)\u001b[39m\n",
      "\u001b[38;5;4m\u001b[1m[ \u001b[22m\u001b[39m\u001b[38;5;4m\u001b[1mDebug: \u001b[22m\u001b[39m20220102 18:21:56 loss: Dual{ForwardDiff.Tag{var\"#validation_mse#40\"{var\"#36#38\"{cf_params, Dict{String, typeof(get_abs_neighborhood)}, Int64, SparseMatrixCSC{Float64, Int64}}}, Float64}}(1.4927975621520557,-0.0015564667365316226,0.00012819050985635703,-0.00017867692385172175) β: Dual{ForwardDiff.Tag{var\"#validation_mse#40\"{var\"#36#38\"{cf_params, Dict{String, typeof(get_abs_neighborhood)}, Int64, SparseMatrixCSC{Float64, Int64}}}, Float64}}(1.8035364309651643,0.9787358724696325,-1.0613933619261424,0.10132974791851623): λ ForwardDiff.Dual{ForwardDiff.Tag{var\"#validation_mse#40\"{var\"#36#38\"{cf_params, Dict{String, typeof(get_abs_neighborhood)}, Int64, SparseMatrixCSC{Float64, Int64}}}, Float64}, Float64, 3}[Dual{ForwardDiff.Tag{var\"#validation_mse#40\"{var\"#36#38\"{cf_params, Dict{String, typeof(get_abs_neighborhood)}, Int64, SparseMatrixCSC{Float64, Int64}}}, Float64}}(0.5908091120654323,1.0,0.0,0.0), Dual{ForwardDiff.Tag{var\"#validation_mse#40\"{var\"#36#38\"{cf_params, Dict{String, typeof(get_abs_neighborhood)}, Int64, SparseMatrixCSC{Float64, Int64}}}, Float64}}(1.0193276413448704,0.0,1.0,0.0), Dual{ForwardDiff.Tag{var\"#validation_mse#40\"{var\"#36#38\"{cf_params, Dict{String, typeof(get_abs_neighborhood)}, Int64, SparseMatrixCSC{Float64, Int64}}}, Float64}}(3.8585543607389043,0.0,0.0,1.0)]\n",
      "\u001b[32mProgress: 100%|███████████████████████████| Time: 0:00:03 (30.15 ms/it)\u001b[39m\n",
      "\u001b[38;5;4m\u001b[1m[ \u001b[22m\u001b[39m\u001b[38;5;4m\u001b[1mDebug: \u001b[22m\u001b[39m20220102 18:22:06 loss: Dual{ForwardDiff.Tag{var\"#validation_mse#40\"{var\"#36#38\"{cf_params, Dict{String, typeof(get_abs_neighborhood)}, Int64, SparseMatrixCSC{Float64, Int64}}}, Float64}}(1.493844350353276,-0.01437440441847661,-0.0009409835120839266,-0.0006158541706260218) β: Dual{ForwardDiff.Tag{var\"#validation_mse#40\"{var\"#36#38\"{cf_params, Dict{String, typeof(get_abs_neighborhood)}, Int64, SparseMatrixCSC{Float64, Int64}}}, Float64}}(1.7653887197705171,0.9770765932835324,-1.0059400535583027,0.0536566710753): λ ForwardDiff.Dual{ForwardDiff.Tag{var\"#validation_mse#40\"{var\"#36#38\"{cf_params, Dict{String, typeof(get_abs_neighborhood)}, Int64, SparseMatrixCSC{Float64, Int64}}}, Float64}, Float64, 3}[Dual{ForwardDiff.Tag{var\"#validation_mse#40\"{var\"#36#38\"{cf_params, Dict{String, typeof(get_abs_neighborhood)}, Int64, SparseMatrixCSC{Float64, Int64}}}, Float64}}(0.2738816742838235,1.0,0.0,0.0), Dual{ForwardDiff.Tag{var\"#validation_mse#40\"{var\"#36#38\"{cf_params, Dict{String, typeof(get_abs_neighborhood)}, Int64, SparseMatrixCSC{Float64, Int64}}}, Float64}}(0.9762351829391733,0.0,1.0,0.0), Dual{ForwardDiff.Tag{var\"#validation_mse#40\"{var\"#36#38\"{cf_params, Dict{String, typeof(get_abs_neighborhood)}, Int64, SparseMatrixCSC{Float64, Int64}}}, Float64}}(6.984918048173794,0.0,0.0,1.0)]\n",
      "\u001b[32mProgress: 100%|███████████████████████████| Time: 0:00:03 (30.34 ms/it)\u001b[39m\n",
      "\u001b[38;5;4m\u001b[1m[ \u001b[22m\u001b[39m\u001b[38;5;4m\u001b[1mDebug: \u001b[22m\u001b[39m20220102 18:22:17 loss: Dual{ForwardDiff.Tag{var\"#validation_mse#40\"{var\"#36#38\"{cf_params, Dict{String, typeof(get_abs_neighborhood)}, Int64, SparseMatrixCSC{Float64, Int64}}}, Float64}}(1.492796168077169,-0.0017078588274821705,8.578240943900646e-5,-0.00018373261258033898) β: Dual{ForwardDiff.Tag{var\"#validation_mse#40\"{var\"#36#38\"{cf_params, Dict{String, typeof(get_abs_neighborhood)}, Int64, SparseMatrixCSC{Float64, Int64}}}, Float64}}(1.8048008413735648,0.9808063987205304,-1.0610842934350022,0.09937400607243513): λ ForwardDiff.Dual{ForwardDiff.Tag{var\"#validation_mse#40\"{var\"#36#38\"{cf_params, Dict{String, typeof(get_abs_neighborhood)}, Int64, SparseMatrixCSC{Float64, Int64}}}, Float64}, Float64, 3}[Dual{ForwardDiff.Tag{var\"#validation_mse#40\"{var\"#36#38\"{cf_params, Dict{String, typeof(get_abs_neighborhood)}, Int64, SparseMatrixCSC{Float64, Int64}}}, Float64}}(0.5826195075706644,1.0,0.0,0.0), Dual{ForwardDiff.Tag{var\"#validation_mse#40\"{var\"#36#38\"{cf_params, Dict{String, typeof(get_abs_neighborhood)}, Int64, SparseMatrixCSC{Float64, Int64}}}, Float64}}(1.0182141050934175,0.0,1.0,0.0), Dual{ForwardDiff.Tag{var\"#validation_mse#40\"{var\"#36#38\"{cf_params, Dict{String, typeof(get_abs_neighborhood)}, Int64, SparseMatrixCSC{Float64, Int64}}}, Float64}}(3.9393415664353046,0.0,0.0,1.0)]\n"
     ]
    },
    {
     "name": "stdout",
     "output_type": "stream",
     "text": [
      "     6     1.492796e+00     1.707859e-03\n",
      " * Current step size: 5.516812589789797\n",
      " * time: 228.91573691368103\n",
      " * g(x): [-0.0017078588274821705, 8.578240943900646e-5, -0.00018373261258033898]\n",
      " * x: [0.5826195075706644, 1.0182141050934175, 3.9393415664353046]\n"
     ]
    },
    {
     "name": "stderr",
     "output_type": "stream",
     "text": [
      "\u001b[32mProgress: 100%|███████████████████████████| Time: 0:00:03 (32.38 ms/it)\u001b[39m\n",
      "\u001b[38;5;4m\u001b[1m[ \u001b[22m\u001b[39m\u001b[38;5;4m\u001b[1mDebug: \u001b[22m\u001b[39m20220102 18:22:27 loss: Dual{ForwardDiff.Tag{var\"#validation_mse#40\"{var\"#36#38\"{cf_params, Dict{String, typeof(get_abs_neighborhood)}, Int64, SparseMatrixCSC{Float64, Int64}}}, Float64}}(1.4927719904836405,3.173292716206317e-5,-0.00023455690300090172,-3.1343544653020236e-5) β: Dual{ForwardDiff.Tag{var\"#validation_mse#40\"{var\"#36#38\"{cf_params, Dict{String, typeof(get_abs_neighborhood)}, Int64, SparseMatrixCSC{Float64, Int64}}}, Float64}}(1.8310276946837278,1.005542539741308,-1.0707785810109596,0.09589673779627221): λ ForwardDiff.Dual{ForwardDiff.Tag{var\"#validation_mse#40\"{var\"#36#38\"{cf_params, Dict{String, typeof(get_abs_neighborhood)}, Int64, SparseMatrixCSC{Float64, Int64}}}, Float64}, Float64, 3}[Dual{ForwardDiff.Tag{var\"#validation_mse#40\"{var\"#36#38\"{cf_params, Dict{String, typeof(get_abs_neighborhood)}, Int64, SparseMatrixCSC{Float64, Int64}}}, Float64}}(0.580217100365745,1.0,0.0,0.0), Dual{ForwardDiff.Tag{var\"#validation_mse#40\"{var\"#36#38\"{cf_params, Dict{String, typeof(get_abs_neighborhood)}, Int64, SparseMatrixCSC{Float64, Int64}}}, Float64}}(1.014397770103231,0.0,1.0,0.0), Dual{ForwardDiff.Tag{var\"#validation_mse#40\"{var\"#36#38\"{cf_params, Dict{String, typeof(get_abs_neighborhood)}, Int64, SparseMatrixCSC{Float64, Int64}}}, Float64}}(4.190816198774848,0.0,0.0,1.0)]\n",
      "\u001b[32mProgress: 100%|███████████████████████████| Time: 0:00:03 (30.21 ms/it)\u001b[39m\n",
      "\u001b[38;5;4m\u001b[1m[ \u001b[22m\u001b[39m\u001b[38;5;4m\u001b[1mDebug: \u001b[22m\u001b[39m20220102 18:22:38 loss: Dual{ForwardDiff.Tag{var\"#validation_mse#40\"{var\"#36#38\"{cf_params, Dict{String, typeof(get_abs_neighborhood)}, Int64, SparseMatrixCSC{Float64, Int64}}}, Float64}}(1.492946717680864,0.0060326337112350074,-0.0013479363971880367,0.0003688384995353119) β: Dual{ForwardDiff.Tag{var\"#validation_mse#40\"{var\"#36#38\"{cf_params, Dict{String, typeof(get_abs_neighborhood)}, Int64, SparseMatrixCSC{Float64, Int64}}}, Float64}}(1.9281612748379395,1.1003668097127832,-1.1053683429891283,0.08500251627656467): λ ForwardDiff.Dual{ForwardDiff.Tag{var\"#validation_mse#40\"{var\"#36#38\"{cf_params, Dict{String, typeof(get_abs_neighborhood)}, Int64, SparseMatrixCSC{Float64, Int64}}}, Float64}, Float64, 3}[Dual{ForwardDiff.Tag{var\"#validation_mse#40\"{var\"#36#38\"{cf_params, Dict{String, typeof(get_abs_neighborhood)}, Int64, SparseMatrixCSC{Float64, Int64}}}, Float64}}(0.5706074715460675,1.0,0.0,0.0), Dual{ForwardDiff.Tag{var\"#validation_mse#40\"{var\"#36#38\"{cf_params, Dict{String, typeof(get_abs_neighborhood)}, Int64, SparseMatrixCSC{Float64, Int64}}}, Float64}}(0.9991324301424845,0.0,1.0,0.0), Dual{ForwardDiff.Tag{var\"#validation_mse#40\"{var\"#36#38\"{cf_params, Dict{String, typeof(get_abs_neighborhood)}, Int64, SparseMatrixCSC{Float64, Int64}}}, Float64}}(5.196714728133022,0.0,0.0,1.0)]\n",
      "\u001b[32mProgress: 100%|███████████████████████████| Time: 0:00:03 (30.52 ms/it)\u001b[39m\n",
      "\u001b[38;5;4m\u001b[1m[ \u001b[22m\u001b[39m\u001b[38;5;4m\u001b[1mDebug: \u001b[22m\u001b[39m20220102 18:22:48 loss: Dual{ForwardDiff.Tag{var\"#validation_mse#40\"{var\"#36#38\"{cf_params, Dict{String, typeof(get_abs_neighborhood)}, Int64, SparseMatrixCSC{Float64, Int64}}}, Float64}}(1.4927713183873033,0.0005531402869730699,-0.000330640726924161,1.085561936201317e-5) β: Dual{ForwardDiff.Tag{var\"#validation_mse#40\"{var\"#36#38\"{cf_params, Dict{String, typeof(get_abs_neighborhood)}, Int64, SparseMatrixCSC{Float64, Int64}}}, Float64}}(1.8390395985759627,1.0131752690084757,-1.0737112607216517,0.09488517515710246): λ ForwardDiff.Dual{ForwardDiff.Tag{var\"#validation_mse#40\"{var\"#36#38\"{cf_params, Dict{String, typeof(get_abs_neighborhood)}, Int64, SparseMatrixCSC{Float64, Int64}}}, Float64}, Float64, 3}[Dual{ForwardDiff.Tag{var\"#validation_mse#40\"{var\"#36#38\"{cf_params, Dict{String, typeof(get_abs_neighborhood)}, Int64, SparseMatrixCSC{Float64, Int64}}}, Float64}}(0.5794668391405237,1.0,0.0,0.0), Dual{ForwardDiff.Tag{var\"#validation_mse#40\"{var\"#36#38\"{cf_params, Dict{String, typeof(get_abs_neighborhood)}, Int64, SparseMatrixCSC{Float64, Int64}}}, Float64}}(1.0132059454368174,0.0,1.0,0.0), Dual{ForwardDiff.Tag{var\"#validation_mse#40\"{var\"#36#38\"{cf_params, Dict{String, typeof(get_abs_neighborhood)}, Int64, SparseMatrixCSC{Float64, Int64}}}, Float64}}(4.269350622658031,0.0,0.0,1.0)]\n"
     ]
    },
    {
     "name": "stdout",
     "output_type": "stream",
     "text": [
      "     7     1.492771e+00     5.531403e-04\n",
      " * Current step size: 1.3122956107045614\n",
      " * time: 260.0044767856598\n",
      " * g(x): [0.0005531402869730699, -0.000330640726924161, 1.085561936201317e-5]\n",
      " * x: [0.5794668391405237, 1.0132059454368174, 4.269350622658031]\n"
     ]
    },
    {
     "name": "stderr",
     "output_type": "stream",
     "text": [
      "\u001b[32mProgress: 100%|███████████████████████████| Time: 0:00:03 (29.98 ms/it)\u001b[39m\n",
      "\u001b[38;5;4m\u001b[1m[ \u001b[22m\u001b[39m\u001b[38;5;4m\u001b[1mDebug: \u001b[22m\u001b[39m20220102 18:22:58 loss: Dual{ForwardDiff.Tag{var\"#validation_mse#40\"{var\"#36#38\"{cf_params, Dict{String, typeof(get_abs_neighborhood)}, Int64, SparseMatrixCSC{Float64, Int64}}}, Float64}}(1.492759477549171,-0.00019259335823088326,-3.521706563995972e-5,-2.789050930543944e-5) β: Dual{ForwardDiff.Tag{var\"#validation_mse#40\"{var\"#36#38\"{cf_params, Dict{String, typeof(get_abs_neighborhood)}, Int64, SparseMatrixCSC{Float64, Int64}}}, Float64}}(1.8339057088942436,1.018006110895591,-1.0767625758867938,0.08627072090391355): λ ForwardDiff.Dual{ForwardDiff.Tag{var\"#validation_mse#40\"{var\"#36#38\"{cf_params, Dict{String, typeof(get_abs_neighborhood)}, Int64, SparseMatrixCSC{Float64, Int64}}}, Float64}, Float64, 3}[Dual{ForwardDiff.Tag{var\"#validation_mse#40\"{var\"#36#38\"{cf_params, Dict{String, typeof(get_abs_neighborhood)}, Int64, SparseMatrixCSC{Float64, Int64}}}, Float64}}(0.5419504411882864,1.0,0.0,0.0), Dual{ForwardDiff.Tag{var\"#validation_mse#40\"{var\"#36#38\"{cf_params, Dict{String, typeof(get_abs_neighborhood)}, Int64, SparseMatrixCSC{Float64, Int64}}}, Float64}}(1.0186876343705842,0.0,1.0,0.0), Dual{ForwardDiff.Tag{var\"#validation_mse#40\"{var\"#36#38\"{cf_params, Dict{String, typeof(get_abs_neighborhood)}, Int64, SparseMatrixCSC{Float64, Int64}}}, Float64}}(4.699041346920809,0.0,0.0,1.0)]\n",
      "\u001b[32mProgress: 100%|███████████████████████████| Time: 0:00:03 (30.50 ms/it)\u001b[39m\n",
      "\u001b[38;5;4m\u001b[1m[ \u001b[22m\u001b[39m\u001b[38;5;4m\u001b[1mDebug: \u001b[22m\u001b[39m20220102 18:23:08 loss: Dual{ForwardDiff.Tag{var\"#validation_mse#40\"{var\"#36#38\"{cf_params, Dict{String, typeof(get_abs_neighborhood)}, Int64, SparseMatrixCSC{Float64, Int64}}}, Float64}}(1.492931744650599,-0.00563979886106564,0.0014065620384914918,-0.00025775453164451814) β: Dual{ForwardDiff.Tag{var\"#validation_mse#40\"{var\"#36#38\"{cf_params, Dict{String, typeof(get_abs_neighborhood)}, Int64, SparseMatrixCSC{Float64, Int64}}}, Float64}}(1.7829360998945003,1.0069568953868109,-1.0732047435015741,0.061348867598208894): λ ForwardDiff.Dual{ForwardDiff.Tag{var\"#validation_mse#40\"{var\"#36#38\"{cf_params, Dict{String, typeof(get_abs_neighborhood)}, Int64, SparseMatrixCSC{Float64, Int64}}}, Float64}, Float64, 3}[Dual{ForwardDiff.Tag{var\"#validation_mse#40\"{var\"#36#38\"{cf_params, Dict{String, typeof(get_abs_neighborhood)}, Int64, SparseMatrixCSC{Float64, Int64}}}, Float64}}(0.3918848493793373,1.0,0.0,0.0), Dual{ForwardDiff.Tag{var\"#validation_mse#40\"{var\"#36#38\"{cf_params, Dict{String, typeof(get_abs_neighborhood)}, Int64, SparseMatrixCSC{Float64, Int64}}}, Float64}}(1.0406143901056515,0.0,1.0,0.0), Dual{ForwardDiff.Tag{var\"#validation_mse#40\"{var\"#36#38\"{cf_params, Dict{String, typeof(get_abs_neighborhood)}, Int64, SparseMatrixCSC{Float64, Int64}}}, Float64}}(6.41780424397192,0.0,0.0,1.0)]\n",
      "\u001b[32mProgress: 100%|███████████████████████████| Time: 0:00:03 (32.01 ms/it)\u001b[39m\n",
      "\u001b[38;5;4m\u001b[1m[ \u001b[22m\u001b[39m\u001b[38;5;4m\u001b[1mDebug: \u001b[22m\u001b[39m20220102 18:23:18 loss: Dual{ForwardDiff.Tag{var\"#validation_mse#40\"{var\"#36#38\"{cf_params, Dict{String, typeof(get_abs_neighborhood)}, Int64, SparseMatrixCSC{Float64, Int64}}}, Float64}}(1.4927588555872053,-0.000353080214135149,1.9183723167402886e-5,-3.606611392317191e-5) β: Dual{ForwardDiff.Tag{var\"#validation_mse#40\"{var\"#36#38\"{cf_params, Dict{String, typeof(get_abs_neighborhood)}, Int64, SparseMatrixCSC{Float64, Int64}}}, Float64}}(1.8326260619763062,1.0184641682822688,-1.077098713042088,0.08489188963057478): λ ForwardDiff.Dual{ForwardDiff.Tag{var\"#validation_mse#40\"{var\"#36#38\"{cf_params, Dict{String, typeof(get_abs_neighborhood)}, Int64, SparseMatrixCSC{Float64, Int64}}}, Float64}, Float64, 3}[Dual{ForwardDiff.Tag{var\"#validation_mse#40\"{var\"#36#38\"{cf_params, Dict{String, typeof(get_abs_neighborhood)}, Int64, SparseMatrixCSC{Float64, Int64}}}, Float64}}(0.5354027404482441,1.0,0.0,0.0), Dual{ForwardDiff.Tag{var\"#validation_mse#40\"{var\"#36#38\"{cf_params, Dict{String, typeof(get_abs_neighborhood)}, Int64, SparseMatrixCSC{Float64, Int64}}}, Float64}}(1.019644348251645,0.0,1.0,0.0), Dual{ForwardDiff.Tag{var\"#validation_mse#40\"{var\"#36#38\"{cf_params, Dict{String, typeof(get_abs_neighborhood)}, Int64, SparseMatrixCSC{Float64, Int64}}}, Float64}}(4.774034854475201,0.0,0.0,1.0)]\n"
     ]
    },
    {
     "name": "stdout",
     "output_type": "stream",
     "text": [
      "     8     1.492759e+00     3.530802e-04\n",
      " * Current step size: 1.1745290352335607\n",
      " * time: 290.60063886642456\n",
      " * g(x): [-0.000353080214135149, 1.9183723167402886e-5, -3.606611392317191e-5]\n",
      " * x: [0.5354027404482441, 1.019644348251645, 4.774034854475201]\n"
     ]
    },
    {
     "name": "stderr",
     "output_type": "stream",
     "text": [
      "\u001b[32mProgress: 100%|███████████████████████████| Time: 0:00:03 (29.70 ms/it)\u001b[39m\n",
      "\u001b[38;5;4m\u001b[1m[ \u001b[22m\u001b[39m\u001b[38;5;4m\u001b[1mDebug: \u001b[22m\u001b[39m20220102 18:23:29 loss: Dual{ForwardDiff.Tag{var\"#validation_mse#40\"{var\"#36#38\"{cf_params, Dict{String, typeof(get_abs_neighborhood)}, Int64, SparseMatrixCSC{Float64, Int64}}}, Float64}}(1.4927565776327967,-0.00030095658547689923,6.079664536119721e-5,-2.540836928038814e-5) β: Dual{ForwardDiff.Tag{var\"#validation_mse#40\"{var\"#36#38\"{cf_params, Dict{String, typeof(get_abs_neighborhood)}, Int64, SparseMatrixCSC{Float64, Int64}}}, Float64}}(1.8358666008805624,1.025070749061197,-1.0799688812312889,0.08148411286377): λ ForwardDiff.Dual{ForwardDiff.Tag{var\"#validation_mse#40\"{var\"#36#38\"{cf_params, Dict{String, typeof(get_abs_neighborhood)}, Int64, SparseMatrixCSC{Float64, Int64}}}, Float64}, Float64, 3}[Dual{ForwardDiff.Tag{var\"#validation_mse#40\"{var\"#36#38\"{cf_params, Dict{String, typeof(get_abs_neighborhood)}, Int64, SparseMatrixCSC{Float64, Int64}}}, Float64}}(0.5213474917215319,1.0,0.0,0.0), Dual{ForwardDiff.Tag{var\"#validation_mse#40\"{var\"#36#38\"{cf_params, Dict{String, typeof(get_abs_neighborhood)}, Int64, SparseMatrixCSC{Float64, Int64}}}, Float64}}(1.0207488418750883,0.0,1.0,0.0), Dual{ForwardDiff.Tag{var\"#validation_mse#40\"{var\"#36#38\"{cf_params, Dict{String, typeof(get_abs_neighborhood)}, Int64, SparseMatrixCSC{Float64, Int64}}}, Float64}}(5.000011339477642,0.0,0.0,1.0)]\n",
      "\u001b[32mProgress: 100%|███████████████████████████| Time: 0:00:03 (33.78 ms/it)\u001b[39m\n",
      "\u001b[38;5;4m\u001b[1m[ \u001b[22m\u001b[39m\u001b[38;5;4m\u001b[1mDebug: \u001b[22m\u001b[39m20220102 18:23:40 loss: Dual{ForwardDiff.Tag{var\"#validation_mse#40\"{var\"#36#38\"{cf_params, Dict{String, typeof(get_abs_neighborhood)}, Int64, SparseMatrixCSC{Float64, Int64}}}, Float64}}(1.4927623073078236,-0.0007047702377653379,0.0002804879314184718,-2.6002685121789e-5) β: Dual{ForwardDiff.Tag{var\"#validation_mse#40\"{var\"#36#38\"{cf_params, Dict{String, typeof(get_abs_neighborhood)}, Int64, SparseMatrixCSC{Float64, Int64}}}, Float64}}(1.841063946934379,1.0437358195282262,-1.0875381607140608,0.0698991982354868): λ ForwardDiff.Dual{ForwardDiff.Tag{var\"#validation_mse#40\"{var\"#36#38\"{cf_params, Dict{String, typeof(get_abs_neighborhood)}, Int64, SparseMatrixCSC{Float64, Int64}}}, Float64}, Float64, 3}[Dual{ForwardDiff.Tag{var\"#validation_mse#40\"{var\"#36#38\"{cf_params, Dict{String, typeof(get_abs_neighborhood)}, Int64, SparseMatrixCSC{Float64, Int64}}}, Float64}}(0.4651264968146833,1.0,0.0,0.0), Dual{ForwardDiff.Tag{var\"#validation_mse#40\"{var\"#36#38\"{cf_params, Dict{String, typeof(get_abs_neighborhood)}, Int64, SparseMatrixCSC{Float64, Int64}}}, Float64}}(1.0251668163688616,0.0,1.0,0.0), Dual{ForwardDiff.Tag{var\"#validation_mse#40\"{var\"#36#38\"{cf_params, Dict{String, typeof(get_abs_neighborhood)}, Int64, SparseMatrixCSC{Float64, Int64}}}, Float64}}(5.903917279487406,0.0,0.0,1.0)]\n",
      "\u001b[32mProgress: 100%|███████████████████████████| Time: 0:00:03 (29.14 ms/it)\u001b[39m\n",
      "\u001b[38;5;4m\u001b[1m[ \u001b[22m\u001b[39m\u001b[38;5;4m\u001b[1mDebug: \u001b[22m\u001b[39m20220102 18:23:49 loss: Dual{ForwardDiff.Tag{var\"#validation_mse#40\"{var\"#36#38\"{cf_params, Dict{String, typeof(get_abs_neighborhood)}, Int64, SparseMatrixCSC{Float64, Int64}}}, Float64}}(1.4927558863512616,-0.0003147946967159266,0.00010808155055849972,-1.9958177180897647e-5) β: Dual{ForwardDiff.Tag{var\"#validation_mse#40\"{var\"#36#38\"{cf_params, Dict{String, typeof(get_abs_neighborhood)}, Int64, SparseMatrixCSC{Float64, Int64}}}, Float64}}(1.8382712029562676,1.030844712744019,-1.0824178429408453,0.07830638834396106): λ ForwardDiff.Dual{ForwardDiff.Tag{var\"#validation_mse#40\"{var\"#36#38\"{cf_params, Dict{String, typeof(get_abs_neighborhood)}, Int64, SparseMatrixCSC{Float64, Int64}}}, Float64}, Float64, 3}[Dual{ForwardDiff.Tag{var\"#validation_mse#40\"{var\"#36#38\"{cf_params, Dict{String, typeof(get_abs_neighborhood)}, Int64, SparseMatrixCSC{Float64, Int64}}}, Float64}}(0.507306697404608,1.0,0.0,0.0), Dual{ForwardDiff.Tag{var\"#validation_mse#40\"{var\"#36#38\"{cf_params, Dict{String, typeof(get_abs_neighborhood)}, Int64, SparseMatrixCSC{Float64, Int64}}}, Float64}}(1.0218521996379182,0.0,1.0,0.0), Dual{ForwardDiff.Tag{var\"#validation_mse#40\"{var\"#36#38\"{cf_params, Dict{String, typeof(get_abs_neighborhood)}, Int64, SparseMatrixCSC{Float64, Int64}}}, Float64}}(5.225755430391567,0.0,0.0,1.0)]\n"
     ]
    },
    {
     "name": "stdout",
     "output_type": "stream",
     "text": [
      "     9     1.492756e+00     3.147947e-04\n",
      " * Current step size: 1.9989716005693534\n",
      " * time: 321.5466389656067\n",
      " * g(x): [-0.0003147946967159266, 0.00010808155055849972, -1.9958177180897647e-5]\n",
      " * x: [0.507306697404608, 1.0218521996379182, 5.225755430391567]\n"
     ]
    },
    {
     "name": "stderr",
     "output_type": "stream",
     "text": [
      "\u001b[32mProgress: 100%|███████████████████████████| Time: 0:00:03 (34.09 ms/it)\u001b[39m\n",
      "\u001b[38;5;4m\u001b[1m[ \u001b[22m\u001b[39m\u001b[38;5;4m\u001b[1mDebug: \u001b[22m\u001b[39m20220102 18:24:01 loss: Dual{ForwardDiff.Tag{var\"#validation_mse#40\"{var\"#36#38\"{cf_params, Dict{String, typeof(get_abs_neighborhood)}, Int64, SparseMatrixCSC{Float64, Int64}}}, Float64}}(1.4927553359394496,3.265747407072519e-5,2.203500387580584e-5,9.983312675588116e-7) β: Dual{ForwardDiff.Tag{var\"#validation_mse#40\"{var\"#36#38\"{cf_params, Dict{String, typeof(get_abs_neighborhood)}, Int64, SparseMatrixCSC{Float64, Int64}}}, Float64}}(1.8430383196066717,1.0343230200160343,-1.083565550302359,0.0787087364264606): λ ForwardDiff.Dual{ForwardDiff.Tag{var\"#validation_mse#40\"{var\"#36#38\"{cf_params, Dict{String, typeof(get_abs_neighborhood)}, Int64, SparseMatrixCSC{Float64, Int64}}}, Float64}, Float64, 3}[Dual{ForwardDiff.Tag{var\"#validation_mse#40\"{var\"#36#38\"{cf_params, Dict{String, typeof(get_abs_neighborhood)}, Int64, SparseMatrixCSC{Float64, Int64}}}, Float64}}(0.510998118339429,1.0,0.0,0.0), Dual{ForwardDiff.Tag{var\"#validation_mse#40\"{var\"#36#38\"{cf_params, Dict{String, typeof(get_abs_neighborhood)}, Int64, SparseMatrixCSC{Float64, Int64}}}, Float64}}(1.020550532176251,0.0,1.0,0.0), Dual{ForwardDiff.Tag{var\"#validation_mse#40\"{var\"#36#38\"{cf_params, Dict{String, typeof(get_abs_neighborhood)}, Int64, SparseMatrixCSC{Float64, Int64}}}, Float64}}(5.219969052388016,0.0,0.0,1.0)]\n",
      "\u001b[32mProgress: 100%|███████████████████████████| Time: 0:00:03 (30.37 ms/it)\u001b[39m\n",
      "\u001b[38;5;4m\u001b[1m[ \u001b[22m\u001b[39m\u001b[38;5;4m\u001b[1mDebug: \u001b[22m\u001b[39m20220102 18:24:11 loss: Dual{ForwardDiff.Tag{var\"#validation_mse#40\"{var\"#36#38\"{cf_params, Dict{String, typeof(get_abs_neighborhood)}, Int64, SparseMatrixCSC{Float64, Int64}}}, Float64}}(1.4927553330268197,9.174614693391157e-6,2.783817623358235e-5,-4.199515739576425e-7) β: Dual{ForwardDiff.Tag{var\"#validation_mse#40\"{var\"#36#38\"{cf_params, Dict{String, typeof(get_abs_neighborhood)}, Int64, SparseMatrixCSC{Float64, Int64}}}, Float64}}(1.8427156233591822,1.0340871528414262,-1.0834878676342323,0.07868144514900262): λ ForwardDiff.Dual{ForwardDiff.Tag{var\"#validation_mse#40\"{var\"#36#38\"{cf_params, Dict{String, typeof(get_abs_neighborhood)}, Int64, SparseMatrixCSC{Float64, Int64}}}, Float64}, Float64, 3}[Dual{ForwardDiff.Tag{var\"#validation_mse#40\"{var\"#36#38\"{cf_params, Dict{String, typeof(get_abs_neighborhood)}, Int64, SparseMatrixCSC{Float64, Int64}}}, Float64}}(0.5107485314931514,1.0,0.0,0.0), Dual{ForwardDiff.Tag{var\"#validation_mse#40\"{var\"#36#38\"{cf_params, Dict{String, typeof(get_abs_neighborhood)}, Int64, SparseMatrixCSC{Float64, Int64}}}, Float64}}(1.0206385413961139,0.0,1.0,0.0), Dual{ForwardDiff.Tag{var\"#validation_mse#40\"{var\"#36#38\"{cf_params, Dict{String, typeof(get_abs_neighborhood)}, Int64, SparseMatrixCSC{Float64, Int64}}}, Float64}}(5.220360284887039,0.0,0.0,1.0)]\n"
     ]
    },
    {
     "name": "stdout",
     "output_type": "stream",
     "text": [
      "    10     1.492755e+00     2.783818e-05\n",
      " * Current step size: 0.9323873243705854\n",
      " * time: 343.3802568912506\n",
      " * g(x): [9.174614693391157e-6, 2.783817623358235e-5, -4.199515739576425e-7]\n",
      " * x: [0.5107485314931514, 1.0206385413961139, 5.220360284887039]\n"
     ]
    },
    {
     "name": "stderr",
     "output_type": "stream",
     "text": [
      "\u001b[32mProgress: 100%|███████████████████████████| Time: 0:00:03 (30.49 ms/it)\u001b[39m\n",
      "\u001b[38;5;4m\u001b[1m[ \u001b[22m\u001b[39m\u001b[38;5;4m\u001b[1mDebug: \u001b[22m\u001b[39m20220102 18:24:21 loss: Dual{ForwardDiff.Tag{var\"#validation_mse#40\"{var\"#36#38\"{cf_params, Dict{String, typeof(get_abs_neighborhood)}, Int64, SparseMatrixCSC{Float64, Int64}}}, Float64}}(1.492755304129463,-1.2481672593272847e-6,-1.0868819425924185e-6,-3.156580612751102e-7) β: Dual{ForwardDiff.Tag{var\"#validation_mse#40\"{var\"#36#38\"{cf_params, Dict{String, typeof(get_abs_neighborhood)}, Int64, SparseMatrixCSC{Float64, Int64}}}, Float64}}(1.8437695522047168,1.0351831585185052,-1.083436807671606,0.07826475051073715): λ ForwardDiff.Dual{ForwardDiff.Tag{var\"#validation_mse#40\"{var\"#36#38\"{cf_params, Dict{String, typeof(get_abs_neighborhood)}, Int64, SparseMatrixCSC{Float64, Int64}}}, Float64}, Float64, 3}[Dual{ForwardDiff.Tag{var\"#validation_mse#40\"{var\"#36#38\"{cf_params, Dict{String, typeof(get_abs_neighborhood)}, Int64, SparseMatrixCSC{Float64, Int64}}}, Float64}}(0.5086366692658072,1.0,0.0,0.0), Dual{ForwardDiff.Tag{var\"#validation_mse#40\"{var\"#36#38\"{cf_params, Dict{String, typeof(get_abs_neighborhood)}, Int64, SparseMatrixCSC{Float64, Int64}}}, Float64}}(1.0199931547092753,0.0,1.0,0.0), Dual{ForwardDiff.Tag{var\"#validation_mse#40\"{var\"#36#38\"{cf_params, Dict{String, typeof(get_abs_neighborhood)}, Int64, SparseMatrixCSC{Float64, Int64}}}, Float64}}(5.252724194966903,0.0,0.0,1.0)]\n",
      "\u001b[32mProgress: 100%|███████████████████████████| Time: 0:00:03 (30.26 ms/it)\u001b[39m\n",
      "\u001b[38;5;4m\u001b[1m[ \u001b[22m\u001b[39m\u001b[38;5;4m\u001b[1mDebug: \u001b[22m\u001b[39m20220102 18:24:32 loss: Dual{ForwardDiff.Tag{var\"#validation_mse#40\"{var\"#36#38\"{cf_params, Dict{String, typeof(get_abs_neighborhood)}, Int64, SparseMatrixCSC{Float64, Int64}}}, Float64}}(1.492755628401227,-5.534523028118303e-5,-0.00011566478531827258,-6.938775361869434e-7) β: Dual{ForwardDiff.Tag{var\"#validation_mse#40\"{var\"#36#38\"{cf_params, Dict{String, typeof(get_abs_neighborhood)}, Int64, SparseMatrixCSC{Float64, Int64}}}, Float64}}(1.8478291835792942,1.039413892867378,-1.0831462538159435,0.07663579240055461): λ ForwardDiff.Dual{ForwardDiff.Tag{var\"#validation_mse#40\"{var\"#36#38\"{cf_params, Dict{String, typeof(get_abs_neighborhood)}, Int64, SparseMatrixCSC{Float64, Int64}}}, Float64}, Float64, 3}[Dual{ForwardDiff.Tag{var\"#validation_mse#40\"{var\"#36#38\"{cf_params, Dict{String, typeof(get_abs_neighborhood)}, Int64, SparseMatrixCSC{Float64, Int64}}}, Float64}}(0.5001892203564304,1.0,0.0,0.0), Dual{ForwardDiff.Tag{var\"#validation_mse#40\"{var\"#36#38\"{cf_params, Dict{String, typeof(get_abs_neighborhood)}, Int64, SparseMatrixCSC{Float64, Int64}}}, Float64}}(1.017411607961921,0.0,1.0,0.0), Dual{ForwardDiff.Tag{var\"#validation_mse#40\"{var\"#36#38\"{cf_params, Dict{String, typeof(get_abs_neighborhood)}, Int64, SparseMatrixCSC{Float64, Int64}}}, Float64}}(5.38217983528636,0.0,0.0,1.0)]\n",
      "\u001b[32mProgress: 100%|███████████████████████████| Time: 0:00:03 (30.58 ms/it)\u001b[39m\n",
      "\u001b[38;5;4m\u001b[1m[ \u001b[22m\u001b[39m\u001b[38;5;4m\u001b[1mDebug: \u001b[22m\u001b[39m20220102 18:24:43 loss: Dual{ForwardDiff.Tag{var\"#validation_mse#40\"{var\"#36#38\"{cf_params, Dict{String, typeof(get_abs_neighborhood)}, Int64, SparseMatrixCSC{Float64, Int64}}}, Float64}}(1.4927553035918564,-2.9917963441940546e-6,-5.599571984455976e-6,-3.068203465932328e-7) β: Dual{ForwardDiff.Tag{var\"#validation_mse#40\"{var\"#36#38\"{cf_params, Dict{String, typeof(get_abs_neighborhood)}, Int64, SparseMatrixCSC{Float64, Int64}}}, Float64}}(1.8439329292046787,1.0353531424502898,-1.0834280331724382,0.07819993966028575): λ ForwardDiff.Dual{ForwardDiff.Tag{var\"#validation_mse#40\"{var\"#36#38\"{cf_params, Dict{String, typeof(get_abs_neighborhood)}, Int64, SparseMatrixCSC{Float64, Int64}}}, Float64}, Float64, 3}[Dual{ForwardDiff.Tag{var\"#validation_mse#40\"{var\"#36#38\"{cf_params, Dict{String, typeof(get_abs_neighborhood)}, Int64, SparseMatrixCSC{Float64, Int64}}}, Float64}}(0.5083064320107271,1.0,0.0,0.0), Dual{ForwardDiff.Tag{var\"#validation_mse#40\"{var\"#36#38\"{cf_params, Dict{String, typeof(get_abs_neighborhood)}, Int64, SparseMatrixCSC{Float64, Int64}}}, Float64}}(1.0198922339554652,0.0,1.0,0.0), Dual{ForwardDiff.Tag{var\"#validation_mse#40\"{var\"#36#38\"{cf_params, Dict{String, typeof(get_abs_neighborhood)}, Int64, SparseMatrixCSC{Float64, Int64}}}, Float64}}(5.2577850217055255,0.0,0.0,1.0)]\n"
     ]
    },
    {
     "name": "stdout",
     "output_type": "stream",
     "text": [
      "    11     1.492755e+00     5.599572e-06\n",
      " * Current step size: 1.1563725373767946\n",
      " * time: 374.79034781455994\n",
      " * g(x): [-2.9917963441940546e-6, -5.599571984455976e-6, -3.068203465932328e-7]\n",
      " * x: [0.5083064320107271, 1.0198922339554652, 5.2577850217055255]\n"
     ]
    },
    {
     "name": "stderr",
     "output_type": "stream",
     "text": [
      "\u001b[32mProgress: 100%|███████████████████████████| Time: 0:00:03 (30.42 ms/it)\u001b[39m\n",
      "\u001b[38;5;4m\u001b[1m[ \u001b[22m\u001b[39m\u001b[38;5;4m\u001b[1mDebug: \u001b[22m\u001b[39m20220102 18:24:53 loss: Dual{ForwardDiff.Tag{var\"#validation_mse#40\"{var\"#36#38\"{cf_params, Dict{String, typeof(get_abs_neighborhood)}, Int64, SparseMatrixCSC{Float64, Int64}}}, Float64}}(1.4927553028211116,-5.583376001367452e-7,-8.749505648960332e-7,-5.520576360643534e-8) β: Dual{ForwardDiff.Tag{var\"#validation_mse#40\"{var\"#36#38\"{cf_params, Dict{String, typeof(get_abs_neighborhood)}, Int64, SparseMatrixCSC{Float64, Int64}}}, Float64}}(1.843923522494299,1.0354590177805811,-1.0835314156470515,0.07813476126265183): λ ForwardDiff.Dual{ForwardDiff.Tag{var\"#validation_mse#40\"{var\"#36#38\"{cf_params, Dict{String, typeof(get_abs_neighborhood)}, Int64, SparseMatrixCSC{Float64, Int64}}}, Float64}, Float64, 3}[Dual{ForwardDiff.Tag{var\"#validation_mse#40\"{var\"#36#38\"{cf_params, Dict{String, typeof(get_abs_neighborhood)}, Int64, SparseMatrixCSC{Float64, Int64}}}, Float64}}(0.5080489244958671,1.0,0.0,0.0), Dual{ForwardDiff.Tag{var\"#validation_mse#40\"{var\"#36#38\"{cf_params, Dict{String, typeof(get_abs_neighborhood)}, Int64, SparseMatrixCSC{Float64, Int64}}}, Float64}}(1.020002301388241,0.0,1.0,0.0), Dual{ForwardDiff.Tag{var\"#validation_mse#40\"{var\"#36#38\"{cf_params, Dict{String, typeof(get_abs_neighborhood)}, Int64, SparseMatrixCSC{Float64, Int64}}}, Float64}}(5.2626012782554685,0.0,0.0,1.0)]\n",
      "\u001b[32mProgress: 100%|███████████████████████████| Time: 0:00:03 (30.37 ms/it)\u001b[39m\n",
      "\u001b[38;5;4m\u001b[1m[ \u001b[22m\u001b[39m\u001b[38;5;4m\u001b[1mDebug: \u001b[22m\u001b[39m20220102 18:25:04 loss: Dual{ForwardDiff.Tag{var\"#validation_mse#40\"{var\"#36#38\"{cf_params, Dict{String, typeof(get_abs_neighborhood)}, Int64, SparseMatrixCSC{Float64, Int64}}}, Float64}}(1.4927553107397789,8.904891172604104e-6,1.804359825208112e-5,9.29334845972246e-7) β: Dual{ForwardDiff.Tag{var\"#validation_mse#40\"{var\"#36#38\"{cf_params, Dict{String, typeof(get_abs_neighborhood)}, Int64, SparseMatrixCSC{Float64, Int64}}}, Float64}}(1.843882378279885,1.0358790319143008,-1.0839430945747146,0.07787495487615512): λ ForwardDiff.Dual{ForwardDiff.Tag{var\"#validation_mse#40\"{var\"#36#38\"{cf_params, Dict{String, typeof(get_abs_neighborhood)}, Int64, SparseMatrixCSC{Float64, Int64}}}, Float64}, Float64, 3}[Dual{ForwardDiff.Tag{var\"#validation_mse#40\"{var\"#36#38\"{cf_params, Dict{String, typeof(get_abs_neighborhood)}, Int64, SparseMatrixCSC{Float64, Int64}}}, Float64}}(0.5070188944364271,1.0,0.0,0.0), Dual{ForwardDiff.Tag{var\"#validation_mse#40\"{var\"#36#38\"{cf_params, Dict{String, typeof(get_abs_neighborhood)}, Int64, SparseMatrixCSC{Float64, Int64}}}, Float64}}(1.0204425711193443,0.0,1.0,0.0), Dual{ForwardDiff.Tag{var\"#validation_mse#40\"{var\"#36#38\"{cf_params, Dict{String, typeof(get_abs_neighborhood)}, Int64, SparseMatrixCSC{Float64, Int64}}}, Float64}}(5.281866304455239,0.0,0.0,1.0)]\n",
      "\u001b[32mProgress: 100%|███████████████████████████| Time: 0:00:03 (30.35 ms/it)\u001b[39m\n",
      "\u001b[38;5;4m\u001b[1m[ \u001b[22m\u001b[39m\u001b[38;5;4m\u001b[1mDebug: \u001b[22m\u001b[39m20220102 18:25:15 loss: Dual{ForwardDiff.Tag{var\"#validation_mse#40\"{var\"#36#38\"{cf_params, Dict{String, typeof(get_abs_neighborhood)}, Int64, SparseMatrixCSC{Float64, Int64}}}, Float64}}(1.4927553027994935,-7.699238575623191e-8,6.611856764030993e-8,-5.363951976938329e-9) β: Dual{ForwardDiff.Tag{var\"#validation_mse#40\"{var\"#36#38\"{cf_params, Dict{String, typeof(get_abs_neighborhood)}, Int64, SparseMatrixCSC{Float64, Int64}}}, Float64}}(1.8439216072272127,1.0354800593771232,-1.0835519804037688,0.07812179293776554): λ ForwardDiff.Dual{ForwardDiff.Tag{var\"#validation_mse#40\"{var\"#36#38\"{cf_params, Dict{String, typeof(get_abs_neighborhood)}, Int64, SparseMatrixCSC{Float64, Int64}}}, Float64}, Float64, 3}[Dual{ForwardDiff.Tag{var\"#validation_mse#40\"{var\"#36#38\"{cf_params, Dict{String, typeof(get_abs_neighborhood)}, Int64, SparseMatrixCSC{Float64, Int64}}}, Float64}}(0.5079976461796449,1.0,0.0,0.0), Dual{ForwardDiff.Tag{var\"#validation_mse#40\"{var\"#36#38\"{cf_params, Dict{String, typeof(get_abs_neighborhood)}, Int64, SparseMatrixCSC{Float64, Int64}}}, Float64}}(1.0200242194772209,0.0,1.0,0.0), Dual{ForwardDiff.Tag{var\"#validation_mse#40\"{var\"#36#38\"{cf_params, Dict{String, typeof(get_abs_neighborhood)}, Int64, SparseMatrixCSC{Float64, Int64}}}, Float64}}(5.263560355222637,0.0,0.0,1.0)]\n"
     ]
    },
    {
     "name": "stdout",
     "output_type": "stream",
     "text": [
      "    12     1.492755e+00     7.699239e-08\n",
      " * Current step size: 1.199133280634837\n",
      " * time: 406.99757981300354\n",
      " * g(x): [-7.699238575623191e-8, 6.611856764030993e-8, -5.363951976938329e-9]\n",
      " * x: [0.5079976461796449, 1.0200242194772209, 5.263560355222637]\n"
     ]
    },
    {
     "name": "stderr",
     "output_type": "stream",
     "text": [
      "\u001b[32mProgress: 100%|███████████████████████████| Time: 0:00:03 (30.47 ms/it)\u001b[39m\n",
      "\u001b[38;5;4m\u001b[1m[ \u001b[22m\u001b[39m\u001b[38;5;4m\u001b[1mDebug: \u001b[22m\u001b[39m20220102 18:25:25 loss: Dual{ForwardDiff.Tag{var\"#validation_mse#40\"{var\"#36#38\"{cf_params, Dict{String, typeof(get_abs_neighborhood)}, Int64, SparseMatrixCSC{Float64, Int64}}}, Float64}}(1.4927553027994127,-6.544069563114265e-10,7.855685404857281e-10,-5.773590779451567e-11) β: Dual{ForwardDiff.Tag{var\"#validation_mse#40\"{var\"#36#38\"{cf_params, Dict{String, typeof(get_abs_neighborhood)}, Int64, SparseMatrixCSC{Float64, Int64}}}, Float64}}(1.8439241898774485,1.0354821827746596,-1.083552072066929,0.07812148648228062): λ ForwardDiff.Dual{ForwardDiff.Tag{var\"#validation_mse#40\"{var\"#36#38\"{cf_params, Dict{String, typeof(get_abs_neighborhood)}, Int64, SparseMatrixCSC{Float64, Int64}}}, Float64}, Float64, 3}[Dual{ForwardDiff.Tag{var\"#validation_mse#40\"{var\"#36#38\"{cf_params, Dict{String, typeof(get_abs_neighborhood)}, Int64, SparseMatrixCSC{Float64, Int64}}}, Float64}}(0.5079964176704305,1.0,0.0,0.0), Dual{ForwardDiff.Tag{var\"#validation_mse#40\"{var\"#36#38\"{cf_params, Dict{String, typeof(get_abs_neighborhood)}, Int64, SparseMatrixCSC{Float64, Int64}}}, Float64}}(1.020022917941009,0.0,1.0,0.0), Dual{ForwardDiff.Tag{var\"#validation_mse#40\"{var\"#36#38\"{cf_params, Dict{String, typeof(get_abs_neighborhood)}, Int64, SparseMatrixCSC{Float64, Int64}}}, Float64}}(5.26359164573521,0.0,0.0,1.0)]\n",
      "\u001b[32mProgress: 100%|███████████████████████████| Time: 0:00:03 (31.97 ms/it)\u001b[39m\n",
      "\u001b[38;5;4m\u001b[1m[ \u001b[22m\u001b[39m\u001b[38;5;4m\u001b[1mDebug: \u001b[22m\u001b[39m20220102 18:25:37 loss: Dual{ForwardDiff.Tag{var\"#validation_mse#40\"{var\"#36#38\"{cf_params, Dict{String, typeof(get_abs_neighborhood)}, Int64, SparseMatrixCSC{Float64, Int64}}}, Float64}}(1.492755302800663,3.046857521084172e-7,-2.6054448713377657e-7,2.1165728930604297e-8) β: Dual{ForwardDiff.Tag{var\"#validation_mse#40\"{var\"#36#38\"{cf_params, Dict{String, typeof(get_abs_neighborhood)}, Int64, SparseMatrixCSC{Float64, Int64}}}, Float64}}(1.8439345203576714,1.0354906762656644,-1.0835524386263233,0.07812026068848205): λ ForwardDiff.Dual{ForwardDiff.Tag{var\"#validation_mse#40\"{var\"#36#38\"{cf_params, Dict{String, typeof(get_abs_neighborhood)}, Int64, SparseMatrixCSC{Float64, Int64}}}, Float64}, Float64, 3}[Dual{ForwardDiff.Tag{var\"#validation_mse#40\"{var\"#36#38\"{cf_params, Dict{String, typeof(get_abs_neighborhood)}, Int64, SparseMatrixCSC{Float64, Int64}}}, Float64}}(0.5079915036335728,1.0,0.0,0.0), Dual{ForwardDiff.Tag{var\"#validation_mse#40\"{var\"#36#38\"{cf_params, Dict{String, typeof(get_abs_neighborhood)}, Int64, SparseMatrixCSC{Float64, Int64}}}, Float64}}(1.0200177117961617,0.0,1.0,0.0), Dual{ForwardDiff.Tag{var\"#validation_mse#40\"{var\"#36#38\"{cf_params, Dict{String, typeof(get_abs_neighborhood)}, Int64, SparseMatrixCSC{Float64, Int64}}}, Float64}}(5.263716807785501,0.0,0.0,1.0)]\n",
      "\u001b[32mProgress: 100%|███████████████████████████| Time: 0:00:02 (28.33 ms/it)\u001b[39m\n",
      "\u001b[38;5;4m\u001b[1m[ \u001b[22m\u001b[39m\u001b[38;5;4m\u001b[1mDebug: \u001b[22m\u001b[39m20220102 18:25:47 loss: Dual{ForwardDiff.Tag{var\"#validation_mse#40\"{var\"#36#38\"{cf_params, Dict{String, typeof(get_abs_neighborhood)}, Int64, SparseMatrixCSC{Float64, Int64}}}, Float64}}(1.492755302799413,3.2850377707735825e-10,-5.564982761981516e-11,1.0585363383248056e-11) β: Dual{ForwardDiff.Tag{var\"#validation_mse#40\"{var\"#36#38\"{cf_params, Dict{String, typeof(get_abs_neighborhood)}, Int64, SparseMatrixCSC{Float64, Int64}}}, Float64}}(1.8439242231312685,1.0354822101151941,-1.0835520732471149,0.07812148253641563): λ ForwardDiff.Dual{ForwardDiff.Tag{var\"#validation_mse#40\"{var\"#36#38\"{cf_params, Dict{String, typeof(get_abs_neighborhood)}, Int64, SparseMatrixCSC{Float64, Int64}}}, Float64}, Float64, 3}[Dual{ForwardDiff.Tag{var\"#validation_mse#40\"{var\"#36#38\"{cf_params, Dict{String, typeof(get_abs_neighborhood)}, Int64, SparseMatrixCSC{Float64, Int64}}}, Float64}}(0.5079964018522972,1.0,0.0,0.0), Dual{ForwardDiff.Tag{var\"#validation_mse#40\"{var\"#36#38\"{cf_params, Dict{String, typeof(get_abs_neighborhood)}, Int64, SparseMatrixCSC{Float64, Int64}}}, Float64}}(1.0200229011825892,0.0,1.0,0.0), Dual{ForwardDiff.Tag{var\"#validation_mse#40\"{var\"#36#38\"{cf_params, Dict{String, typeof(get_abs_neighborhood)}, Int64, SparseMatrixCSC{Float64, Int64}}}, Float64}}(5.263592048627993,0.0,0.0,1.0)]\n"
     ]
    },
    {
     "name": "stdout",
     "output_type": "stream",
     "text": [
      "    13     1.492755e+00     3.285038e-10\n",
      " * Current step size: 1.0128758767579853\n",
      " * time: 439.1663308143616\n",
      " * g(x): [3.2850377707735825e-10, -5.564982761981516e-11, 1.0585363383248056e-11]\n",
      " * x: [0.5079964018522972, 1.0200229011825892, 5.263592048627993]\n"
     ]
    },
    {
     "name": "stderr",
     "output_type": "stream",
     "text": [
      "\u001b[32mProgress:   0%|▏                          |  ETA: 22:21:27 ( 0.71  s/it)\u001b[39mt)\u001b[39mm"
     ]
    }
   ],
   "source": [
    "for param in user_cf_params\n",
    "    optimize_model(param)\n",
    "end"
   ]
  }
 ],
 "metadata": {
  "kernelspec": {
   "display_name": "Julia 1.6.3",
   "language": "julia",
   "name": "julia-1.6"
  },
  "language_info": {
   "file_extension": ".jl",
   "mimetype": "application/julia",
   "name": "julia",
   "version": "1.6.3"
  }
 },
 "nbformat": 4,
 "nbformat_minor": 5
}
