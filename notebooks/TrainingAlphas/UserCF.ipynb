{
 "cells": [
  {
   "cell_type": "code",
   "execution_count": 1,
   "id": "7cc9334a-2287-41d6-885b-a5cca94fe263",
   "metadata": {},
   "outputs": [],
   "source": [
    "name = \"UserCF\";"
   ]
  },
  {
   "cell_type": "code",
   "execution_count": 2,
   "id": "bda4ef8d-68ed-4621-9bae-8c9640c4c417",
   "metadata": {},
   "outputs": [],
   "source": [
    "using DataStructures\n",
    "using LSHFunctions\n",
    "using Random"
   ]
  },
  {
   "cell_type": "code",
   "execution_count": 3,
   "id": "d17593ac-3260-4c01-a5df-91edfcd17e13",
   "metadata": {},
   "outputs": [],
   "source": [
    "using NBInclude\n",
    "@nbinclude(\"ItemCFBase.ipynb\");"
   ]
  },
  {
   "cell_type": "markdown",
   "id": "bff8e524-e8f8-48bd-9ca7-c28a05a122b8",
   "metadata": {},
   "source": [
    "## Compute nearest neighbors using Locality Sensitive Hashing"
   ]
  },
  {
   "cell_type": "code",
   "execution_count": 4,
   "id": "1d3ce7d7-2a86-4fbd-a4ba-316f9ef29ead",
   "metadata": {},
   "outputs": [],
   "source": [
    "# Use locality sensitive hashing to reduce the computational cost of finding nearest neighbors\n",
    "# TODO automatically adjust scale based on the number of items\n",
    "# TODO save hash function or random seed\n",
    "# TODO document\n",
    "const n_hashes = 64\n",
    "const bits_per_hash = 12\n",
    "\n",
    "Random.seed!(20220103)\n",
    "simhashfn = SimHash(n_hashes * bits_per_hash);\n",
    "function bitvec_to_int(x)\n",
    "    sum(2^(j - 1) * x[j] for j = 1:length(x))\n",
    "end\n",
    "\n",
    "function hashfn(x)\n",
    "    chunk_size = bits_per_hash\n",
    "    hashbits = simhashfn(x)\n",
    "    [\n",
    "        bitvec_to_int(hashbits[(k-1)*chunk_size+1:k*chunk_size]) for\n",
    "        k = 1:length(hashbits)÷chunk_size\n",
    "    ]\n",
    "end;"
   ]
  },
  {
   "cell_type": "code",
   "execution_count": 5,
   "id": "45aa90aa-8019-407b-a4c1-4dc068b3eded",
   "metadata": {},
   "outputs": [],
   "source": [
    "@memoize function get_hash_buckets(R)\n",
    "    @debug \"generating hash buckets\"\n",
    "    hash_buckets = [DefaultDict(() -> Int32[]) for i = 1:n_hashes]\n",
    "    @showprogress for j = 1:size(R)[2]\n",
    "        hashes = hashfn(R[:, j])\n",
    "        for i = 1:n_hashes\n",
    "            push!(hash_buckets[i][hashes[i]], j)\n",
    "        end\n",
    "    end\n",
    "    hash_buckets\n",
    "end\n",
    "\n",
    "function average_hash_neighborhood_size(R)\n",
    "    hash_neighborhood_sizes = zeros(size(R)[2])\n",
    "    @showprogress for j = 1:size(R)[2]\n",
    "        hash_neighborhood_sizes[j] = length(get_hash_neighbors(R, j))\n",
    "    end\n",
    "    mean(hash_neighborhood_sizes), median(hash_neighborhood_sizes)\n",
    "end\n",
    "\n",
    "function get_hash_neighbors(R, j)\n",
    "    hash_buckets = get_hash_buckets(R)\n",
    "    hash = hashfn(R[:, j])\n",
    "    vcat([hash_buckets[i][hash[i]] for i = 1:length(hash)]...)\n",
    "end;"
   ]
  },
  {
   "cell_type": "code",
   "execution_count": 6,
   "id": "956f5bfc-a785-4acd-b65b-70520691b6af",
   "metadata": {},
   "outputs": [],
   "source": [
    "@memoize function get_norms(R)\n",
    "    norms = map(norm, eachslice(R, dims = 2))\n",
    "    norms[norms.==0] .= 1 # prevent division by 0\n",
    "    norms\n",
    "end;\n",
    "\n",
    "@memoize function get_abs_neighborhood_cache(R, K)\n",
    "    @debug \"initializing neighborhood cache\"\n",
    "    # we need to preallocate the dict to avoid resizing\n",
    "    # while accessing from multiple threads\n",
    "    [(zeros(Int32, K), zeros(Float32, K)) for i = 1:maximum(size(R)[2])]\n",
    "end\n",
    "\n",
    "function get_abs_neighborhood(item, R, K)\n",
    "    cache = get_abs_neighborhood_cache(R, K)\n",
    "    val = cache[item]\n",
    "    if val[1][1] == 0\n",
    "        norms = get_norms(R)\n",
    "        weights = zeros(size(R)[2])\n",
    "        mask = get_hash_neighbors(R, item)\n",
    "        weights[mask] = vec(R[:, item]' * R[:, mask])\n",
    "        weights = weights ./ norms ./ norms[item]\n",
    "        weights[item] = Inf\n",
    "        order = partialsortperm(abs.(weights), 2:K+1, rev = true)\n",
    "        val = (convert.(Int32, order), convert.(Float32, weights[order]))\n",
    "        cache[item] = val\n",
    "    end\n",
    "    val\n",
    "end;"
   ]
  },
  {
   "cell_type": "code",
   "execution_count": 7,
   "id": "f26d4ba3-d665-4192-8043-095fc3ae480c",
   "metadata": {},
   "outputs": [],
   "source": [
    "function optimize_model(param; minimize = true)\n",
    "    # unpack parameters\n",
    "    training = get_training(param.training_residuals)'\n",
    "    validation = get_validation(param.validation_residuals)'\n",
    "    R = sparse(\n",
    "        training.user,\n",
    "        training.item,\n",
    "        training.rating,\n",
    "        maximum(training.user),\n",
    "        maximum(training.item),\n",
    "    )\n",
    "    K = param.K\n",
    "    neighborhood_types = Dict(\"abs\" => get_abs_neighborhood)\n",
    "    neighborhoods = i -> neighborhood_types[param.neighborhood_type](i, R, K)\n",
    "\n",
    "    # preallocate caches\n",
    "    get_hash_buckets(R)\n",
    "    get_abs_neighborhood_cache(R, K)\n",
    "    @debug \"mean, median hash neighborhood size $(average_hash_neighborhood_size(R))\"\n",
    "\n",
    "    # optimize hyperparameters\n",
    "    function validation_mse(λ)\n",
    "        pred = collaborative_filtering(training, validation, neighborhoods, λ)\n",
    "        truth = validation.rating\n",
    "        β = pred \\ truth\n",
    "        loss = mse(truth, pred .* β)\n",
    "        @debug \"loss: $loss β: $β: λ $λ\"\n",
    "        loss\n",
    "    end\n",
    "    if minimize\n",
    "        res = optimize(\n",
    "            validation_mse,\n",
    "            param.λ,\n",
    "            LBFGS(),\n",
    "            autodiff = :forward,\n",
    "            Optim.Options(show_trace = true, extended_trace = true),\n",
    "        )\n",
    "        param.λ = Optim.minimizer(res)\n",
    "    end\n",
    "\n",
    "    # save predictions\n",
    "    training = get_training(param.training_residuals)'\n",
    "    inference = get_inference()'\n",
    "    preds = collaborative_filtering(training, inference, neighborhoods, param.λ)\n",
    "    sparse_preds = sparse(inference.user, inference.item, preds)'\n",
    "    function model(users, items, predictions)\n",
    "        result = zeros(length(users))\n",
    "        for i = 1:length(users)\n",
    "            if users[i] <= size(predictions)[1] && items[i] <= size(predictions)[2]\n",
    "                result[i] = predictions[users[i], items[i]]\n",
    "            end\n",
    "        end\n",
    "        result\n",
    "    end\n",
    "    write_predictions(\n",
    "        (users, items) -> model(users, items, sparse_preds),\n",
    "        outdir = param.name,\n",
    "        residual_alphas = param.validation_residuals,\n",
    "        save_training = true,\n",
    "    )\n",
    "    write_params(to_dict(param), outdir = param.name)\n",
    "end;"
   ]
  },
  {
   "cell_type": "markdown",
   "id": "85910c72-6e77-4dbd-8991-6ad3b81035a7",
   "metadata": {},
   "source": [
    "## Setup hyperparameters"
   ]
  },
  {
   "cell_type": "code",
   "execution_count": 8,
   "id": "0c00b2aa-a40c-4374-9631-9918f0f55968",
   "metadata": {},
   "outputs": [],
   "source": [
    "downcast_to_int(x) = isinteger(x) ? Int(x) : x\n",
    "residual_alphas = [\n",
    "    [\"UserItemBiases\"]\n",
    "    [\"ItemCF.$K\" for K in downcast_to_int.([2^4, 2^6, 2^8, 2^10])]\n",
    "    [\"ItemCFResid.$K\" for K in downcast_to_int.([2^4, 2^6, 2^8, 2^10])]\n",
    "    [\"MatrixFactorization.$K\" for K in downcast_to_int.([10, 20, 40])]\n",
    "    [\"ItemCFRelated.$name\" for name in [\"all\"]]\n",
    "    [\"ItemCFEmbed.1024\"]\n",
    "]\n",
    "user_cf_params = [[\n",
    "        cf_params(\n",
    "            name = \"UserCF.$K\",\n",
    "            training_residuals = residual_alphas,\n",
    "            validation_residuals = residual_alphas,\n",
    "            neighborhood_type = \"abs\",\n",
    "            S = \"\",\n",
    "            K = K,\n",
    "            λ = [3.834279404810764, 1.1255721576476372, 0.07160891553968493],\n",
    "        ) for K in downcast_to_int.([2^8])\n",
    "    ];\n",
    "];"
   ]
  },
  {
   "cell_type": "markdown",
   "id": "73d6710c-a42a-443d-8616-f1441be67eee",
   "metadata": {},
   "source": [
    "## Train models"
   ]
  },
  {
   "cell_type": "code",
   "execution_count": null,
   "id": "1842d509-9377-4b28-9fe9-9212da6183d1",
   "metadata": {
    "tags": []
   },
   "outputs": [
    {
     "name": "stderr",
     "output_type": "stream",
     "text": [
      "\u001b[32mProgress: 100%|█████████████████████████████████████████| Time: 0:02:31\u001b[39m\n",
      "\u001b[32mProgress: 100%|█████████████████████████████████████████| Time: 0:00:06\u001b[39m\n",
      "\u001b[38;5;4m\u001b[1m[ \u001b[22m\u001b[39m\u001b[38;5;4m\u001b[1mDebug: \u001b[22m\u001b[39m20220109 02:31:22 generating hash buckets\n",
      "\u001b[32mProgress: 100%|█████████████████████████████████████████| Time: 0:07:42\u001b[39m:48\u001b[39m\n",
      "\u001b[38;5;4m\u001b[1m[ \u001b[22m\u001b[39m\u001b[38;5;4m\u001b[1mDebug: \u001b[22m\u001b[39m20220109 02:39:05 initializing neighborhood cache\n",
      "\u001b[32mProgress: 100%|█████████████████████████████████████████| Time: 0:07:34\u001b[39m\n",
      "\u001b[38;5;4m\u001b[1m[ \u001b[22m\u001b[39m\u001b[38;5;4m\u001b[1mDebug: \u001b[22m\u001b[39m20220109 02:46:44 mean, median hash neighborhood size (7966.471795959583, 7378.0)\n",
      "\u001b[32mProgress:  41%|███████████                |  ETA: 0:26:56 ( 0.10  s/it)\u001b[39mm"
     ]
    }
   ],
   "source": [
    "for param in user_cf_params\n",
    "    optimize_model(param, minimize=true)    \n",
    "end"
   ]
  }
 ],
 "metadata": {
  "kernelspec": {
   "display_name": "Julia 1.6.3",
   "language": "julia",
   "name": "julia-1.6"
  },
  "language_info": {
   "file_extension": ".jl",
   "mimetype": "application/julia",
   "name": "julia",
   "version": "1.6.3"
  }
 },
 "nbformat": 4,
 "nbformat_minor": 5
}
