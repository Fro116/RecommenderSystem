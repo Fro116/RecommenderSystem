{
 "cells": [
  {
   "cell_type": "markdown",
   "id": "c3758ece-9b72-47b4-ae6a-aa364e0443e3",
   "metadata": {},
   "source": [
    "# User Collaborative Filtering\n",
    "* See `ItemCollaborativeFilteringBase.ipynb` for algorithm details\n",
    "* The weights here are the cosine correlation between the two users\n",
    "* The algorithm is nearly identical to the algorithm in `ItemCF`, with the following exceptions\n",
    "  * we transpose users and items\n",
    "  * the similarity matrix is too big to store in memory, so we generate weights on the fly\n"
   ]
  },
  {
   "cell_type": "code",
   "execution_count": 1,
   "id": "7cc9334a-2287-41d6-885b-a5cca94fe263",
   "metadata": {},
   "outputs": [],
   "source": [
    "name = \"UserCF\";"
   ]
  },
  {
   "cell_type": "code",
   "execution_count": 2,
   "id": "bda4ef8d-68ed-4621-9bae-8c9640c4c417",
   "metadata": {},
   "outputs": [],
   "source": [
    "using DataStructures\n",
    "using LSHFunctions\n",
    "using Random"
   ]
  },
  {
   "cell_type": "code",
   "execution_count": 3,
   "id": "d17593ac-3260-4c01-a5df-91edfcd17e13",
   "metadata": {},
   "outputs": [],
   "source": [
    "using NBInclude\n",
    "@nbinclude(\"ItemCollaborativeFilteringBase.ipynb\");"
   ]
  },
  {
   "cell_type": "markdown",
   "id": "bff8e524-e8f8-48bd-9ca7-c28a05a122b8",
   "metadata": {},
   "source": [
    "## Compute nearest neighbors using Locality Sensitive Hashing"
   ]
  },
  {
   "cell_type": "code",
   "execution_count": 4,
   "id": "1d3ce7d7-2a86-4fbd-a4ba-316f9ef29ead",
   "metadata": {},
   "outputs": [],
   "source": [
    "# Use locality sensitive hashing to reduce the computational cost of finding nearest neighbors\n",
    "# TODO automatically adjust scale based on the number of items\n",
    "# TODO save hash function or random seed\n",
    "# TODO maybe use LRU caches\n",
    "const n_hashes = 64\n",
    "const bits_per_hash = 12\n",
    "\n",
    "Random.seed!(20220103)\n",
    "simhashfn = SimHash(n_hashes * bits_per_hash);\n",
    "function bitvec_to_int(x)\n",
    "    sum(2^(j - 1) * x[j] for j = 1:length(x))\n",
    "end\n",
    "\n",
    "function hashfn(x)\n",
    "    chunk_size = bits_per_hash\n",
    "    hashbits = simhashfn(x)\n",
    "    [\n",
    "        bitvec_to_int(hashbits[(k-1)*chunk_size+1:k*chunk_size]) for\n",
    "        k = 1:length(hashbits)÷chunk_size\n",
    "    ]\n",
    "end;"
   ]
  },
  {
   "cell_type": "code",
   "execution_count": 5,
   "id": "45aa90aa-8019-407b-a4c1-4dc068b3eded",
   "metadata": {},
   "outputs": [],
   "source": [
    "@memoize function get_hash_buckets(R)\n",
    "    @debug \"generating hash buckets\"\n",
    "    hash_buckets = [DefaultDict(() -> Int32[]) for i = 1:n_hashes]\n",
    "    @showprogress for j = 1:size(R)[2]\n",
    "        hashes = hashfn(R[:, j])\n",
    "        for i = 1:n_hashes\n",
    "            push!(hash_buckets[i][hashes[i]], j)\n",
    "        end\n",
    "    end\n",
    "    hash_buckets\n",
    "end\n",
    "\n",
    "function average_hash_neighborhood_size(R)\n",
    "    hash_neighborhood_sizes = zeros(size(R)[2])\n",
    "    @showprogress for j = 1:size(R)[2]\n",
    "        hash_neighborhood_sizes[j] = length(get_hash_neighbors(R, j))\n",
    "    end\n",
    "    mean(hash_neighborhood_sizes)\n",
    "end\n",
    "\n",
    "function get_hash_neighbors(R, j)\n",
    "    hash_buckets = get_hash_buckets(R)\n",
    "    hash = hashfn(R[:, j])\n",
    "    vcat([hash_buckets[i][hash[i]] for i = 1:length(hash)]...)\n",
    "end;"
   ]
  },
  {
   "cell_type": "code",
   "execution_count": 6,
   "id": "956f5bfc-a785-4acd-b65b-70520691b6af",
   "metadata": {},
   "outputs": [],
   "source": [
    "@memoize function get_norms(R)\n",
    "    norms = map(norm, eachslice(R, dims = 2))\n",
    "    norms[norms.==0] .= 1 # prevent division by 0\n",
    "    norms\n",
    "end;\n",
    "\n",
    "@memoize function get_abs_neighborhood_cache(R, K)\n",
    "    @debug \"initializing neighborhood cache\"\n",
    "    # we need to preallocate the dict to avoid resizing\n",
    "    # while accessing from multiple threads\n",
    "    [(zeros(Int32, K), zeros(Float32, K)) for i = 1:maximum(size(R)[2])]\n",
    "end\n",
    "\n",
    "function get_abs_neighborhood(item, R, K)\n",
    "    cache = get_abs_neighborhood_cache(R, K)\n",
    "    val = cache[item]\n",
    "    if val[1][1] == 0\n",
    "        norms = get_norms(R)\n",
    "        weights = zeros(size(R)[2])\n",
    "        mask = get_hash_neighbors(R, item)\n",
    "        weights[mask] = vec(R[:, item]' * R[:, mask])\n",
    "        weights = weights ./ norms ./ norms[item]\n",
    "        weights[item] = Inf\n",
    "        order = partialsortperm(abs.(weights), 2:K+1, rev = true)\n",
    "        val = (convert.(Int32, order), convert.(Float32, weights[order]))\n",
    "        cache[item] = val\n",
    "    end\n",
    "    val\n",
    "end;"
   ]
  },
  {
   "cell_type": "code",
   "execution_count": 7,
   "id": "f26d4ba3-d665-4192-8043-095fc3ae480c",
   "metadata": {},
   "outputs": [],
   "source": [
    "function optimize_model(param; optimize = true)\n",
    "    # unpack parameters\n",
    "    training = get_training(param.training_residuals)'\n",
    "    validation = get_validation(param.validation_residuals)'\n",
    "    R = sparse(\n",
    "        training.user,\n",
    "        training.item,\n",
    "        training.rating,\n",
    "        maximum(training.user),\n",
    "        maximum(training.item),\n",
    "    )\n",
    "    K = param.K\n",
    "    neighborhood_types = Dict(\"abs\" => get_abs_neighborhood)\n",
    "    neighborhoods = i -> neighborhood_types[param.neighborhood_type](i, R, K)\n",
    "\n",
    "    # preallocate caches\n",
    "    get_hash_buckets(R)\n",
    "    get_abs_neighborhood_cache(R, K)\n",
    "    @debug \"average hash neighborhood size $(average_hash_neighborhood_size(R))\"\n",
    "\n",
    "    # optimize hyperparameters\n",
    "    function validation_mse(λ)\n",
    "        pred = collaborative_filtering(training, validation, neighborhoods, λ)\n",
    "        truth = validation.rating\n",
    "        β = pred \\ truth\n",
    "        loss = mse(truth, pred .* β)\n",
    "        @debug \"loss: $loss β: $β: λ $λ\"\n",
    "        loss\n",
    "    end\n",
    "    if optimize\n",
    "        res = optimize(\n",
    "            validation_mse,\n",
    "            param.λ,\n",
    "            LBFGS(),\n",
    "            autodiff = :forward,\n",
    "            Optim.Options(show_trace = true, extended_trace = true),\n",
    "        )\n",
    "        param.λ = Optim.minimizer(res)\n",
    "    end\n",
    "\n",
    "    # save predictions\n",
    "    training = get_training(param.training_residuals)'\n",
    "    inference = get_inference()'\n",
    "    preds = collaborative_filtering(training, inference, neighborhoods, param.λ)\n",
    "    sparse_preds = sparse(inference.user, inference.item, preds)'\n",
    "    function model(users, items, predictions)\n",
    "        result = zeros(length(users))\n",
    "        for i = 1:length(users)\n",
    "            if users[i] <= size(predictions)[1] && items[i] <= size(predictions)[2]\n",
    "                result[i] = predictions[users[i], items[i]]\n",
    "            end\n",
    "        end\n",
    "        result\n",
    "    end\n",
    "    write_predictions(\n",
    "        (users, items) -> model(users, items, sparse_preds),\n",
    "        outdir = param.name,\n",
    "        residual_alphas = param.validation_residuals,\n",
    "        save_training = true,\n",
    "    )\n",
    "    write_params(to_dict(param), outdir = param.name)\n",
    "end;"
   ]
  },
  {
   "cell_type": "markdown",
   "id": "85910c72-6e77-4dbd-8991-6ad3b81035a7",
   "metadata": {},
   "source": [
    "## Setup hyperparameters"
   ]
  },
  {
   "cell_type": "code",
   "execution_count": 8,
   "id": "0c00b2aa-a40c-4374-9631-9918f0f55968",
   "metadata": {},
   "outputs": [],
   "source": [
    "downcast_to_int(x) = isinteger(x) ? Int(x) : x\n",
    "user_cf_params = [[\n",
    "        cf_params(\n",
    "            name = \"UserCF.$K\",\n",
    "            training_residuals = [\"UserItemBiases\"],\n",
    "            validation_residuals = [\"UserItemBiases\"],\n",
    "            neighborhood_type = \"abs\",\n",
    "            S = \"\",\n",
    "            K = K,\n",
    "            λ = [1.0, 1.0, 0.0],\n",
    "        ) for K in downcast_to_int.([2^8])\n",
    "    ];\n",
    "];"
   ]
  },
  {
   "cell_type": "markdown",
   "id": "73d6710c-a42a-443d-8616-f1441be67eee",
   "metadata": {},
   "source": [
    "## Train models"
   ]
  },
  {
   "cell_type": "code",
   "execution_count": 9,
   "id": "1842d509-9377-4b28-9fe9-9212da6183d1",
   "metadata": {
    "collapsed": true,
    "jupyter": {
     "outputs_hidden": true
    },
    "tags": []
   },
   "outputs": [
    {
     "name": "stderr",
     "output_type": "stream",
     "text": [
      "\u001b[38;5;4m\u001b[1m[ \u001b[22m\u001b[39m\u001b[38;5;4m\u001b[1mDebug: \u001b[22m\u001b[39m20220106 05:09:42 generating hash buckets\n",
      "\u001b[32mProgress: 100%|█████████████████████████████████████████| Time: 0:07:51\u001b[39m:43\u001b[39m\n",
      "\u001b[38;5;4m\u001b[1m[ \u001b[22m\u001b[39m\u001b[38;5;4m\u001b[1mDebug: \u001b[22m\u001b[39m20220106 05:17:34 initializing neighborhood cache\n",
      "\u001b[32mProgress:  20%|████████▏                                |  ETA: 0:06:16\u001b[39m\u001b[38;5;1m\u001b[1m┌ \u001b[22m\u001b[39m\u001b[38;5;1m\u001b[1mError: \u001b[22m\u001b[39m20220106 05:19:09 Exception while generating log record in module Main at In[7]:19\n",
      "\u001b[38;5;1m\u001b[1m│ \u001b[22m\u001b[39m  exception =\n",
      "\u001b[38;5;1m\u001b[1m│ \u001b[22m\u001b[39m   InterruptException:\n",
      "\u001b[38;5;1m\u001b[1m│ \u001b[22m\u001b[39m   Stacktrace:\n",
      "\u001b[38;5;1m\u001b[1m│ \u001b[22m\u001b[39m     [1] \u001b[0m\u001b[1mArray\u001b[22m\n",
      "\u001b[38;5;1m\u001b[1m│ \u001b[22m\u001b[39m   \u001b[90m    @ \u001b[39m\u001b[90m./\u001b[39m\u001b[90;4mboot.jl:448\u001b[0m\u001b[90m [inlined]\u001b[39m\n",
      "\u001b[38;5;1m\u001b[1m│ \u001b[22m\u001b[39m     [2] \u001b[0m\u001b[1mBitArray\u001b[22m\n",
      "\u001b[38;5;1m\u001b[1m│ \u001b[22m\u001b[39m   \u001b[90m    @ \u001b[39m\u001b[90m./\u001b[39m\u001b[90;4mbitarray.jl:37\u001b[0m\u001b[90m [inlined]\u001b[39m\n",
      "\u001b[38;5;1m\u001b[1m│ \u001b[22m\u001b[39m     [3] \u001b[0m\u001b[1mBitArray\u001b[22m\n",
      "\u001b[38;5;1m\u001b[1m│ \u001b[22m\u001b[39m   \u001b[90m    @ \u001b[39m\u001b[90m./\u001b[39m\u001b[90;4mbitarray.jl:71\u001b[0m\u001b[90m [inlined]\u001b[39m\n",
      "\u001b[38;5;1m\u001b[1m│ \u001b[22m\u001b[39m     [4] \u001b[0m\u001b[1msimilar\u001b[22m\n",
      "\u001b[38;5;1m\u001b[1m│ \u001b[22m\u001b[39m   \u001b[90m    @ \u001b[39m\u001b[90m./\u001b[39m\u001b[90;4mabstractarray.jl:785\u001b[0m\u001b[90m [inlined]\u001b[39m\n",
      "\u001b[38;5;1m\u001b[1m│ \u001b[22m\u001b[39m     [5] \u001b[0m\u001b[1msimilar\u001b[22m\n",
      "\u001b[38;5;1m\u001b[1m│ \u001b[22m\u001b[39m   \u001b[90m    @ \u001b[39m\u001b[90m./\u001b[39m\u001b[90;4mabstractarray.jl:784\u001b[0m\u001b[90m [inlined]\u001b[39m\n",
      "\u001b[38;5;1m\u001b[1m│ \u001b[22m\u001b[39m     [6] \u001b[0m\u001b[1msimilar\u001b[22m\n",
      "\u001b[38;5;1m\u001b[1m│ \u001b[22m\u001b[39m   \u001b[90m    @ \u001b[39m\u001b[90m./\u001b[39m\u001b[90;4mbroadcast.jl:199\u001b[0m\u001b[90m [inlined]\u001b[39m\n",
      "\u001b[38;5;1m\u001b[1m│ \u001b[22m\u001b[39m     [7] \u001b[0m\u001b[1msimilar\u001b[22m\n",
      "\u001b[38;5;1m\u001b[1m│ \u001b[22m\u001b[39m   \u001b[90m    @ \u001b[39m\u001b[90m./\u001b[39m\u001b[90;4mbroadcast.jl:196\u001b[0m\u001b[90m [inlined]\u001b[39m\n",
      "\u001b[38;5;1m\u001b[1m│ \u001b[22m\u001b[39m     [8] \u001b[0m\u001b[1mcopy\u001b[22m\n",
      "\u001b[38;5;1m\u001b[1m│ \u001b[22m\u001b[39m   \u001b[90m    @ \u001b[39m\u001b[90m./\u001b[39m\u001b[90;4mbroadcast.jl:908\u001b[0m\u001b[90m [inlined]\u001b[39m\n",
      "\u001b[38;5;1m\u001b[1m│ \u001b[22m\u001b[39m     [9] \u001b[0m\u001b[1mmaterialize\u001b[22m\n",
      "\u001b[38;5;1m\u001b[1m│ \u001b[22m\u001b[39m   \u001b[90m    @ \u001b[39m\u001b[90m./\u001b[39m\u001b[90;4mbroadcast.jl:883\u001b[0m\u001b[90m [inlined]\u001b[39m\n",
      "\u001b[38;5;1m\u001b[1m│ \u001b[22m\u001b[39m    [10] \u001b[0m\u001b[1m(::SimHash{Float32})\u001b[22m\u001b[0m\u001b[1m(\u001b[22m\u001b[90mx\u001b[39m::\u001b[0mSparseVector\u001b[90m{Float32, Int64}\u001b[39m\u001b[0m\u001b[1m)\u001b[22m\n",
      "\u001b[38;5;1m\u001b[1m│ \u001b[22m\u001b[39m   \u001b[90m    @ \u001b[39m\u001b[35mLSHFunctions\u001b[39m \u001b[90m~/.julia/packages/LSHFunctions/A9iRT/src/hashes/\u001b[39m\u001b[90;4msimhash.jl:139\u001b[0m\n",
      "\u001b[38;5;1m\u001b[1m│ \u001b[22m\u001b[39m    [11] \u001b[0m\u001b[1m(::SimHash{Float32})\u001b[22m\u001b[0m\u001b[1m(\u001b[22m\u001b[90mx\u001b[39m::\u001b[0mSparseVector\u001b[90m{Float64, Int64}\u001b[39m\u001b[0m\u001b[1m)\u001b[22m\n",
      "\u001b[38;5;1m\u001b[1m│ \u001b[22m\u001b[39m   \u001b[90m    @ \u001b[39m\u001b[35mLSHFunctions\u001b[39m \u001b[90m~/.julia/packages/LSHFunctions/A9iRT/src/hashes/\u001b[39m\u001b[90;4msimhash.jl:128\u001b[0m\n",
      "\u001b[38;5;1m\u001b[1m│ \u001b[22m\u001b[39m    [12] \u001b[0m\u001b[1mhashfn\u001b[22m\u001b[0m\u001b[1m(\u001b[22m\u001b[90mx\u001b[39m::\u001b[0mSparseVector\u001b[90m{Float64, Int64}\u001b[39m\u001b[0m\u001b[1m)\u001b[22m\n",
      "\u001b[38;5;1m\u001b[1m│ \u001b[22m\u001b[39m   \u001b[90m    @ \u001b[39m\u001b[36mMain\u001b[39m \u001b[90m./\u001b[39m\u001b[90;4mIn[4]:16\u001b[0m\n",
      "\u001b[38;5;1m\u001b[1m│ \u001b[22m\u001b[39m    [13] \u001b[0m\u001b[1mget_hash_neighbors\u001b[22m\u001b[0m\u001b[1m(\u001b[22m\u001b[90mR\u001b[39m::\u001b[0mSparseMatrixCSC\u001b[90m{Float64, Int64}\u001b[39m, \u001b[90mj\u001b[39m::\u001b[0mInt64\u001b[0m\u001b[1m)\u001b[22m\n",
      "\u001b[38;5;1m\u001b[1m│ \u001b[22m\u001b[39m   \u001b[90m    @ \u001b[39m\u001b[36mMain\u001b[39m \u001b[90m./\u001b[39m\u001b[90;4mIn[5]:23\u001b[0m\n",
      "\u001b[38;5;1m\u001b[1m│ \u001b[22m\u001b[39m    [14] \u001b[0m\u001b[1mmacro expansion\u001b[22m\n",
      "\u001b[38;5;1m\u001b[1m│ \u001b[22m\u001b[39m   \u001b[90m    @ \u001b[39m\u001b[90m./\u001b[39m\u001b[90;4mIn[5]:16\u001b[0m\u001b[90m [inlined]\u001b[39m\n",
      "\u001b[38;5;1m\u001b[1m│ \u001b[22m\u001b[39m    [15] \u001b[0m\u001b[1mmacro expansion\u001b[22m\n",
      "\u001b[38;5;1m\u001b[1m│ \u001b[22m\u001b[39m   \u001b[90m    @ \u001b[39m\u001b[90m~/.julia/packages/ProgressMeter/Vf8un/src/\u001b[39m\u001b[90;4mProgressMeter.jl:940\u001b[0m\u001b[90m [inlined]\u001b[39m\n",
      "\u001b[38;5;1m\u001b[1m│ \u001b[22m\u001b[39m    [16] \u001b[0m\u001b[1maverage_hash_neighborhood_size\u001b[22m\u001b[0m\u001b[1m(\u001b[22m\u001b[90mR\u001b[39m::\u001b[0mSparseMatrixCSC\u001b[90m{Float64, Int64}\u001b[39m\u001b[0m\u001b[1m)\u001b[22m\n",
      "\u001b[38;5;1m\u001b[1m│ \u001b[22m\u001b[39m   \u001b[90m    @ \u001b[39m\u001b[36mMain\u001b[39m \u001b[90m./\u001b[39m\u001b[90;4mIn[5]:15\u001b[0m\n",
      "\u001b[38;5;1m\u001b[1m│ \u001b[22m\u001b[39m    [17] \u001b[0m\u001b[1mmacro expansion\u001b[22m\n",
      "\u001b[38;5;1m\u001b[1m│ \u001b[22m\u001b[39m   \u001b[90m    @ \u001b[39m\u001b[90m./\u001b[39m\u001b[90;4mlogging.jl:340\u001b[0m\u001b[90m [inlined]\u001b[39m\n",
      "\u001b[38;5;1m\u001b[1m│ \u001b[22m\u001b[39m    [18] \u001b[0m\u001b[1moptimize_model\u001b[22m\u001b[0m\u001b[1m(\u001b[22m\u001b[90mparam\u001b[39m::\u001b[0mcf_params; \u001b[90moptimize\u001b[39m::\u001b[0mBool\u001b[0m\u001b[1m)\u001b[22m\n",
      "\u001b[38;5;1m\u001b[1m│ \u001b[22m\u001b[39m   \u001b[90m    @ \u001b[39m\u001b[36mMain\u001b[39m \u001b[90m./\u001b[39m\u001b[90;4mIn[7]:19\u001b[0m\n",
      "\u001b[38;5;1m\u001b[1m│ \u001b[22m\u001b[39m    [19] top-level scope\n",
      "\u001b[38;5;1m\u001b[1m│ \u001b[22m\u001b[39m   \u001b[90m    @ \u001b[39m\u001b[90m./\u001b[39m\u001b[90;4mIn[9]:2\u001b[0m\n",
      "\u001b[38;5;1m\u001b[1m│ \u001b[22m\u001b[39m    [20] \u001b[0m\u001b[1meval\u001b[22m\n",
      "\u001b[38;5;1m\u001b[1m│ \u001b[22m\u001b[39m   \u001b[90m    @ \u001b[39m\u001b[90m./\u001b[39m\u001b[90;4mboot.jl:360\u001b[0m\u001b[90m [inlined]\u001b[39m\n",
      "\u001b[38;5;1m\u001b[1m│ \u001b[22m\u001b[39m    [21] \u001b[0m\u001b[1minclude_string\u001b[22m\u001b[0m\u001b[1m(\u001b[22m\u001b[90mmapexpr\u001b[39m::\u001b[0mtypeof(REPL.softscope), \u001b[90mmod\u001b[39m::\u001b[0mModule, \u001b[90mcode\u001b[39m::\u001b[0mString, \u001b[90mfilename\u001b[39m::\u001b[0mString\u001b[0m\u001b[1m)\u001b[22m\n",
      "\u001b[38;5;1m\u001b[1m│ \u001b[22m\u001b[39m   \u001b[90m    @ \u001b[39m\u001b[90mBase\u001b[39m \u001b[90m./\u001b[39m\u001b[90;4mloading.jl:1116\u001b[0m\n",
      "\u001b[38;5;1m\u001b[1m│ \u001b[22m\u001b[39m    [22] \u001b[0m\u001b[1msoftscope_include_string\u001b[22m\u001b[0m\u001b[1m(\u001b[22m\u001b[90mm\u001b[39m::\u001b[0mModule, \u001b[90mcode\u001b[39m::\u001b[0mString, \u001b[90mfilename\u001b[39m::\u001b[0mString\u001b[0m\u001b[1m)\u001b[22m\n",
      "\u001b[38;5;1m\u001b[1m│ \u001b[22m\u001b[39m   \u001b[90m    @ \u001b[39m\u001b[32mSoftGlobalScope\u001b[39m \u001b[90m~/.julia/packages/SoftGlobalScope/u4UzH/src/\u001b[39m\u001b[90;4mSoftGlobalScope.jl:65\u001b[0m\n",
      "\u001b[38;5;1m\u001b[1m│ \u001b[22m\u001b[39m    [23] \u001b[0m\u001b[1mexecute_request\u001b[22m\u001b[0m\u001b[1m(\u001b[22m\u001b[90msocket\u001b[39m::\u001b[0mZMQ.Socket, \u001b[90mmsg\u001b[39m::\u001b[0mIJulia.Msg\u001b[0m\u001b[1m)\u001b[22m\n",
      "\u001b[38;5;1m\u001b[1m│ \u001b[22m\u001b[39m   \u001b[90m    @ \u001b[39m\u001b[33mIJulia\u001b[39m \u001b[90m~/.julia/packages/IJulia/e8kqU/src/\u001b[39m\u001b[90;4mexecute_request.jl:67\u001b[0m\n",
      "\u001b[38;5;1m\u001b[1m│ \u001b[22m\u001b[39m    [24] \u001b[0m\u001b[1m#invokelatest#2\u001b[22m\n",
      "\u001b[38;5;1m\u001b[1m│ \u001b[22m\u001b[39m   \u001b[90m    @ \u001b[39m\u001b[90m./\u001b[39m\u001b[90;4messentials.jl:708\u001b[0m\u001b[90m [inlined]\u001b[39m\n",
      "\u001b[38;5;1m\u001b[1m│ \u001b[22m\u001b[39m    [25] \u001b[0m\u001b[1minvokelatest\u001b[22m\n",
      "\u001b[38;5;1m\u001b[1m│ \u001b[22m\u001b[39m   \u001b[90m    @ \u001b[39m\u001b[90m./\u001b[39m\u001b[90;4messentials.jl:706\u001b[0m\u001b[90m [inlined]\u001b[39m\n",
      "\u001b[38;5;1m\u001b[1m│ \u001b[22m\u001b[39m    [26] \u001b[0m\u001b[1meventloop\u001b[22m\u001b[0m\u001b[1m(\u001b[22m\u001b[90msocket\u001b[39m::\u001b[0mZMQ.Socket\u001b[0m\u001b[1m)\u001b[22m\n",
      "\u001b[38;5;1m\u001b[1m│ \u001b[22m\u001b[39m   \u001b[90m    @ \u001b[39m\u001b[33mIJulia\u001b[39m \u001b[90m~/.julia/packages/IJulia/e8kqU/src/\u001b[39m\u001b[90;4meventloop.jl:8\u001b[0m\n",
      "\u001b[38;5;1m\u001b[1m│ \u001b[22m\u001b[39m    [27] \u001b[0m\u001b[1m(::IJulia.var\"#15#18\")\u001b[22m\u001b[0m\u001b[1m(\u001b[22m\u001b[0m\u001b[1m)\u001b[22m\n",
      "\u001b[38;5;1m\u001b[1m└ \u001b[22m\u001b[39m   \u001b[90m    @ \u001b[39m\u001b[33mIJulia\u001b[39m \u001b[90m./\u001b[39m\u001b[90;4mtask.jl:411\u001b[0m\n"
     ]
    },
    {
     "ename": "LoadError",
     "evalue": "MethodError: objects of type Bool are not callable",
     "output_type": "error",
     "traceback": [
      "MethodError: objects of type Bool are not callable",
      "",
      "Stacktrace:",
      " [1] optimize_model(param::cf_params; optimize::Bool)",
      "   @ Main ./In[7]:31",
      " [2] top-level scope",
      "   @ ./In[9]:2",
      " [3] eval",
      "   @ ./boot.jl:360 [inlined]",
      " [4] include_string(mapexpr::typeof(REPL.softscope), mod::Module, code::String, filename::String)",
      "   @ Base ./loading.jl:1116"
     ]
    }
   ],
   "source": [
    "for param in user_cf_params\n",
    "    optimize_model(param, optimize=true)    \n",
    "end"
   ]
  }
 ],
 "metadata": {
  "kernelspec": {
   "display_name": "Julia 1.6.3",
   "language": "julia",
   "name": "julia-1.6"
  },
  "language_info": {
   "file_extension": ".jl",
   "mimetype": "application/julia",
   "name": "julia",
   "version": "1.6.3"
  }
 },
 "nbformat": 4,
 "nbformat_minor": 5
}
