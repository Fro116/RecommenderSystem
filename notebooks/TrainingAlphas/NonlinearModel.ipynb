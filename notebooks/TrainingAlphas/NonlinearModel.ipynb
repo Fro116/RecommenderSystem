{
 "cells": [
  {
   "cell_type": "markdown",
   "id": "2df5351f-2171-4365-b750-8984d42c5fe5",
   "metadata": {},
   "source": [
    "# ErrorModel\n",
    "* Uses LightGBM to estimate the error for a given (user, item) prediction"
   ]
  },
  {
   "cell_type": "code",
   "execution_count": 1,
   "id": "69b5a19a-24f5-4730-afe2-f451d27d18e3",
   "metadata": {},
   "outputs": [
    {
     "name": "stderr",
     "output_type": "stream",
     "text": [
      "┌ Info: lib_lightgbm not found in system dirs, trying fallback\n",
      "└ @ LightGBM /Users/kundan/.julia/packages/LightGBM/A7zVd/src/LightGBM.jl:25\n"
     ]
    }
   ],
   "source": [
    "import NBInclude: @nbinclude\n",
    "@nbinclude(\"TreeModelBase.ipynb\");"
   ]
  },
  {
   "cell_type": "code",
   "execution_count": null,
   "id": "517ce91a-bf09-446a-8be9-a7c5bbe0c0f3",
   "metadata": {
    "tags": []
   },
   "outputs": [
    {
     "name": "stderr",
     "output_type": "stream",
     "text": [
      "\u001b[32mProgress: 100%|███████████████████████████| Time: 0:00:01 ( 0.26 μs/it)\u001b[39m39m\n"
     ]
    },
    {
     "name": "stdout",
     "output_type": "stream",
     "text": [
      "[LightGBM] [Warning] Auto-choosing row-wise multi-threading, the overhead of testing was 0.028851 seconds.\n",
      "You can set `force_row_wise=true` to remove the overhead.\n",
      "And if memory is not enough, you can set `force_col_wise=true`.\n",
      "[LightGBM] [Info] Total Bins 510\n",
      "[LightGBM] [Info] Number of data points in the train set: 15175754, number of used features: 2\n",
      "[LightGBM] [Info] Start training from score 0.000901\n",
      "Iteration: 1, test_1's l2: 1.807391363050499\n",
      "Iteration: 2, test_1's l2: 1.8027686009882444\n",
      "Iteration: 3, test_1's l2: 1.7990559771713852\n",
      "Iteration: 4, test_1's l2: 1.7960383591993054\n",
      "Iteration: 5, test_1's l2: 1.7936563615967105\n",
      "Iteration: 6, test_1's l2: 1.7917500523432384\n",
      "Iteration: 7, test_1's l2: 1.7902487637325502\n",
      "Iteration: 8, test_1's l2: 1.7890334983343514\n",
      "Iteration: 9, test_1's l2: 1.7881021596689923\n",
      "Iteration: 10, test_1's l2: 1.7873392411478346\n",
      "Iteration: 11, test_1's l2: 1.7867349214138368\n",
      "Iteration: 12, test_1's l2: 1.7862710231452705\n",
      "Iteration: 13, test_1's l2: 1.785937049244699\n",
      "Iteration: 14, test_1's l2: 1.785641099863717\n",
      "Iteration: 15, test_1's l2: 1.785401381828418\n",
      "Iteration: 16, test_1's l2: 1.7852714931863292\n",
      "Iteration: 17, test_1's l2: 1.7851844633449396\n",
      "Iteration: 18, test_1's l2: 1.7851250542791726\n",
      "Iteration: 19, test_1's l2: 1.785097663179476\n",
      "Iteration: 20, test_1's l2: 1.7850659802023379\n",
      "Iteration: 21, test_1's l2: 1.7850644435561749\n",
      "Iteration: 22, test_1's l2: 1.7851008150788354\n",
      "Iteration: 23, test_1's l2: 1.785169841287436\n",
      "Iteration: 24, test_1's l2: 1.7851615353627146\n",
      "Iteration: 25, test_1's l2: 1.7851866217653587\n",
      "Iteration: 26, test_1's l2: 1.7852216662661977\n",
      "Iteration: 27, test_1's l2: 1.7852832604370608\n",
      "Iteration: 28, test_1's l2: 1.7853255510625934\n",
      "Iteration: 29, test_1's l2: 1.785353046611358\n",
      "Iteration: 30, test_1's l2: 1.7853902512919642\n",
      "Early stopping at iteration 31, the best iteration round is 21\n"
     ]
    },
    {
     "name": "stderr",
     "output_type": "stream",
     "text": [
      "\u001b[38;5;6m\u001b[1m[ \u001b[22m\u001b[39m\u001b[38;5;6m\u001b[1mInfo: \u001b[22m\u001b[39m20220607 10:27:39 Saving model... (this may take a while)\n"
     ]
    }
   ],
   "source": [
    "train_model(\n",
    "    [\"SimpleAverage\", \"SimpleExplicitBaseline\", \"UserItemBiases\"],\n",
    "    \"LinearExplicit\",\n",
    "    false,\n",
    "    \"NonlinearExplicit\",\n",
    "    false,\n",
    ");"
   ]
  }
 ],
 "metadata": {
  "kernelspec": {
   "display_name": "Julia 1.7.3",
   "language": "julia",
   "name": "julia-1.7"
  },
  "language_info": {
   "file_extension": ".jl",
   "mimetype": "application/julia",
   "name": "julia",
   "version": "1.7.3"
  }
 },
 "nbformat": 4,
 "nbformat_minor": 5
}
