{
 "cells": [
  {
   "cell_type": "markdown",
   "id": "2df5351f-2171-4365-b750-8984d42c5fe5",
   "metadata": {},
   "source": [
    "# NonlinearModel\n",
    "* Uses LightGBM to estimate a given (user, item) prediction"
   ]
  },
  {
   "cell_type": "code",
   "execution_count": 1,
   "id": "69b5a19a-24f5-4730-afe2-f451d27d18e3",
   "metadata": {},
   "outputs": [
    {
     "name": "stderr",
     "output_type": "stream",
     "text": [
      "┌ Info: lib_lightgbm found in system dirs!\n",
      "└ @ LightGBM /Users/kundan/.julia/packages/LightGBM/A7zVd/src/LightGBM.jl:28\n"
     ]
    }
   ],
   "source": [
    "import NBInclude: @nbinclude\n",
    "@nbinclude(\"TreeModelBase.ipynb\");"
   ]
  },
  {
   "cell_type": "code",
   "execution_count": 2,
   "id": "517ce91a-bf09-446a-8be9-a7c5bbe0c0f3",
   "metadata": {
    "tags": []
   },
   "outputs": [
    {
     "name": "stdout",
     "output_type": "stream",
     "text": [
      "[LightGBM] [Warning] Auto-choosing row-wise multi-threading, the overhead of testing was 0.012337 seconds.\n",
      "You can set `force_row_wise=true` to remove the overhead.\n",
      "And if memory is not enough, you can set `force_col_wise=true`.\n",
      "[LightGBM] [Info] Total Bins 255\n",
      "[LightGBM] [Info] Number of data points in the train set: 13660470, number of used features: 1\n",
      "[LightGBM] [Info] Start training from score 0.000665\n",
      "[LightGBM] [Warning] No further splits with positive gain, best gain: -inf\n",
      "Iteration: 1, test_1's l2: 1.9000025400094513\n",
      "[LightGBM] [Warning] No further splits with positive gain, best gain: -inf\n",
      "Iteration: 2, test_1's l2: 1.8976023304344198\n",
      "[LightGBM] [Warning] No further splits with positive gain, best gain: -inf\n",
      "Iteration: 3, test_1's l2: 1.8956787061421794\n",
      "[LightGBM] [Warning] No further splits with positive gain, best gain: -inf\n",
      "Iteration: 4, test_1's l2: 1.8941313463873268\n",
      "[LightGBM] [Warning] No further splits with positive gain, best gain: -inf\n",
      "Iteration: 5, test_1's l2: 1.8928805670284794\n",
      "[LightGBM] [Warning] No further splits with positive gain, best gain: -inf\n",
      "Iteration: 6, test_1's l2: 1.8918787569375857\n",
      "[LightGBM] [Warning] No further splits with positive gain, best gain: -inf\n",
      "Iteration: 7, test_1's l2: 1.8910796948574256\n",
      "[LightGBM] [Warning] No further splits with positive gain, best gain: -inf\n",
      "Iteration: 8, test_1's l2: 1.8904276854353743\n",
      "[LightGBM] [Warning] No further splits with positive gain, best gain: -inf\n",
      "Iteration: 9, test_1's l2: 1.8899137492950413\n",
      "[LightGBM] [Warning] No further splits with positive gain, best gain: -inf\n",
      "Iteration: 10, test_1's l2: 1.8894987159922536\n",
      "[LightGBM] [Warning] No further splits with positive gain, best gain: -inf\n",
      "Iteration: 11, test_1's l2: 1.8891720950900497\n",
      "[LightGBM] [Warning] No further splits with positive gain, best gain: -inf\n",
      "Iteration: 12, test_1's l2: 1.8889099631169122\n",
      "[LightGBM] [Warning] No further splits with positive gain, best gain: -inf\n",
      "Iteration: 13, test_1's l2: 1.888699784294537\n",
      "[LightGBM] [Warning] No further splits with positive gain, best gain: -inf\n",
      "Iteration: 14, test_1's l2: 1.8885340302985016\n",
      "[LightGBM] [Warning] No further splits with positive gain, best gain: -inf\n",
      "Iteration: 15, test_1's l2: 1.8884009314115007\n",
      "[LightGBM] [Warning] No further splits with positive gain, best gain: -inf\n",
      "Iteration: 16, test_1's l2: 1.8882931280586972\n",
      "[LightGBM] [Warning] No further splits with positive gain, best gain: -inf\n",
      "Iteration: 17, test_1's l2: 1.888209906464134\n",
      "[LightGBM] [Warning] No further splits with positive gain, best gain: -inf\n",
      "Iteration: 18, test_1's l2: 1.888150174252206\n",
      "[LightGBM] [Warning] No further splits with positive gain, best gain: -inf\n",
      "Iteration: 19, test_1's l2: 1.8881010247762553\n",
      "[LightGBM] [Warning] No further splits with positive gain, best gain: -inf\n",
      "Iteration: 20, test_1's l2: 1.8880651585100394\n",
      "[LightGBM] [Warning] No further splits with positive gain, best gain: -inf\n",
      "Iteration: 21, test_1's l2: 1.8880344701327463\n",
      "[LightGBM] [Warning] No further splits with positive gain, best gain: -inf\n",
      "Iteration: 22, test_1's l2: 1.888009975989281\n",
      "[LightGBM] [Warning] No further splits with positive gain, best gain: -inf\n",
      "Iteration: 23, test_1's l2: 1.887994217336587\n",
      "[LightGBM] [Warning] No further splits with positive gain, best gain: -inf\n",
      "Iteration: 24, test_1's l2: 1.887986105872521\n",
      "[LightGBM] [Warning] No further splits with positive gain, best gain: -inf\n",
      "Iteration: 25, test_1's l2: 1.88797869330365\n",
      "[LightGBM] [Warning] No further splits with positive gain, best gain: -inf\n",
      "Iteration: 26, test_1's l2: 1.8879715906394334\n",
      "[LightGBM] [Warning] No further splits with positive gain, best gain: -inf\n",
      "Iteration: 27, test_1's l2: 1.8879635839613893\n",
      "[LightGBM] [Warning] No further splits with positive gain, best gain: -inf\n",
      "Iteration: 28, test_1's l2: 1.8879570380737094\n",
      "[LightGBM] [Warning] No further splits with positive gain, best gain: -inf\n",
      "Iteration: 29, test_1's l2: 1.8879545160787625\n",
      "[LightGBM] [Warning] No further splits with positive gain, best gain: -inf\n",
      "Iteration: 30, test_1's l2: 1.8879541000773257\n",
      "[LightGBM] [Warning] No further splits with positive gain, best gain: -inf\n",
      "Iteration: 31, test_1's l2: 1.8879587059998726\n",
      "[LightGBM] [Warning] No further splits with positive gain, best gain: -inf\n",
      "Iteration: 32, test_1's l2: 1.887960766521159\n",
      "[LightGBM] [Warning] No further splits with positive gain, best gain: -inf\n",
      "Iteration: 33, test_1's l2: 1.8879629856643096\n",
      "[LightGBM] [Warning] No further splits with positive gain, best gain: -inf\n",
      "Iteration: 34, test_1's l2: 1.8879668965351435\n",
      "[LightGBM] [Warning] No further splits with positive gain, best gain: -inf\n",
      "Iteration: 35, test_1's l2: 1.8879697773398498\n",
      "[LightGBM] [Warning] No further splits with positive gain, best gain: -inf\n",
      "Iteration: 36, test_1's l2: 1.8879734282362015\n",
      "[LightGBM] [Warning] No further splits with positive gain, best gain: -inf\n",
      "Iteration: 37, test_1's l2: 1.8879795789055256\n",
      "[LightGBM] [Warning] No further splits with positive gain, best gain: -inf\n",
      "Iteration: 38, test_1's l2: 1.8879783333442797\n",
      "[LightGBM] [Warning] No further splits with positive gain, best gain: -inf\n",
      "Iteration: 39, test_1's l2: 1.8879802582817835\n",
      "[LightGBM] [Warning] No further splits with positive gain, best gain: -inf\n",
      "Early stopping at iteration 40, the best iteration round is 30\n"
     ]
    },
    {
     "name": "stderr",
     "output_type": "stream",
     "text": [
      "\u001b[38;5;6m\u001b[1m[ \u001b[22m\u001b[39m\u001b[38;5;6m\u001b[1mInfo: \u001b[22m\u001b[39m20220608 09:06:26 Saving model... (this may take a while)\n",
      "\u001b[32mProgress: 100%|███████████████████████████| Time: 0:00:01 ( 0.78 μs/it)\u001b[39m\n",
      "\u001b[38;5;6m\u001b[1m[ \u001b[22m\u001b[39m\u001b[38;5;6m\u001b[1mInfo: \u001b[22m\u001b[39m20220608 09:09:22 validation loss: 1.8886146529252996, β: [0.9999312244481018, 1.040091627113987]\n",
      "\u001b[32mProgress: 100%|███████████████████████████| Time: 0:00:11 ( 0.64 μs/it)\u001b[39m\n",
      "\u001b[32mProgress: 100%|███████████████████████████| Time: 0:00:00 ( 9.19 ns/it)\u001b[39m\n",
      "\u001b[38;5;6m\u001b[1m[ \u001b[22m\u001b[39m\u001b[38;5;6m\u001b[1mInfo: \u001b[22m\u001b[39m20220608 09:09:36 training loss: 1.7287389567155116, β: [0.9999312244481018, 1.040091627113987]\n",
      "\u001b[32mProgress: 100%|███████████████████████████| Time: 0:00:11 ( 0.65 μs/it)\u001b[39m\n",
      "\u001b[32mProgress: 100%|███████████████████████████| Time: 0:00:01 ( 0.67 μs/it)\u001b[39m\n",
      "\u001b[32mProgress: 100%|███████████████████████████| Time: 0:00:01 ( 0.66 μs/it)\u001b[39m\n",
      "\u001b[32mProgress: 100%|███████████████████████████| Time: 0:00:04 ( 0.65 μs/it)\u001b[39m\n",
      "\u001b[32mProgress: 100%|███████████████████████████| Time: 0:00:00 ( 0.67 μs/it)\u001b[39m\n",
      "\u001b[32mProgress: 100%|███████████████████████████| Time: 0:00:00 ( 0.68 μs/it)\u001b[39m\n",
      "\u001b[32mProgress: 100%|███████████████████████████| Time: 0:00:01 ( 0.45 μs/it)\u001b[39m\n"
     ]
    }
   ],
   "source": [
    "train_model(\n",
    "    [\"SimpleAverage\", \"SimpleExplicitBaseline\"],\n",
    "    [\"LinearExplicit\"],\n",
    "    false,\n",
    "    \"validation\",\n",
    "    \"NonlinearExplicit\",\n",
    "    false,\n",
    ");"
   ]
  }
 ],
 "metadata": {
  "kernelspec": {
   "display_name": "Julia 1.8.0-rc1",
   "language": "julia",
   "name": "julia-1.8"
  },
  "language_info": {
   "file_extension": ".jl",
   "mimetype": "application/julia",
   "name": "julia",
   "version": "1.8.0"
  }
 },
 "nbformat": 4,
 "nbformat_minor": 5
}
