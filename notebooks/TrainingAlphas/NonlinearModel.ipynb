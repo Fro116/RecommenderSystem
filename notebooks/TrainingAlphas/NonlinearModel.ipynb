{
 "cells": [
  {
   "cell_type": "markdown",
   "id": "2df5351f-2171-4365-b750-8984d42c5fe5",
   "metadata": {},
   "source": [
    "# NonlinearModel\n",
    "* Uses LightGBM to estimate a given (user, item) prediction"
   ]
  },
  {
   "cell_type": "code",
   "execution_count": 1,
   "id": "69b5a19a-24f5-4730-afe2-f451d27d18e3",
   "metadata": {},
   "outputs": [
    {
     "name": "stderr",
     "output_type": "stream",
     "text": [
      "┌ Info: lib_lightgbm found in system dirs!\n",
      "└ @ LightGBM /Users/kundan/.julia/packages/LightGBM/A7zVd/src/LightGBM.jl:28\n"
     ]
    }
   ],
   "source": [
    "import NBInclude: @nbinclude\n",
    "@nbinclude(\"TreeModelBase.ipynb\");"
   ]
  },
  {
   "cell_type": "code",
   "execution_count": 2,
   "id": "617b0a49-44bb-4ee9-87ee-990ad7ec3561",
   "metadata": {},
   "outputs": [],
   "source": [
    "const implicit = false;\n",
    "const all_features = [\n",
    "    \"SimpleAverage\",\n",
    "    \"SimpleExplicitBaseline\",\n",
    "    \"LinearExplicit\",\n",
    "    \"UniformBaseline\",\n",
    "    \"PopularityBaseline\",\n",
    "    \"LinearImplicit\",\n",
    "];"
   ]
  },
  {
   "cell_type": "code",
   "execution_count": 3,
   "id": "517ce91a-bf09-446a-8be9-a7c5bbe0c0f3",
   "metadata": {
    "tags": []
   },
   "outputs": [
    {
     "name": "stdout",
     "output_type": "stream",
     "text": [
      "[LightGBM] [Warning] Auto-choosing row-wise multi-threading, the overhead of testing was 0.020193 seconds.\n",
      "You can set `force_row_wise=true` to remove the overhead.\n",
      "And if memory is not enough, you can set `force_col_wise=true`.\n",
      "[LightGBM] [Info] Total Bins 1012\n",
      "[LightGBM] [Info] Number of data points in the train set: 13660470, number of used features: 4\n",
      "[LightGBM] [Info] Start training from score 0.000665\n",
      "Iteration: 1, test_1's l2: 1.8971416722515728\n",
      "Iteration: 2, test_1's l2: 1.892438493323713\n",
      "Iteration: 3, test_1's l2: 1.8886852741242146\n",
      "Iteration: 4, test_1's l2: 1.8856842586997997\n",
      "Iteration: 5, test_1's l2: 1.8833687105172263\n",
      "Iteration: 6, test_1's l2: 1.8814876133486629\n",
      "Iteration: 7, test_1's l2: 1.8799567176913703\n",
      "Iteration: 8, test_1's l2: 1.8788405654684615\n",
      "Iteration: 9, test_1's l2: 1.877855767238165\n",
      "Iteration: 10, test_1's l2: 1.8771061277619425\n",
      "Iteration: 11, test_1's l2: 1.8765024880096093\n",
      "Iteration: 12, test_1's l2: 1.8759939303041844\n",
      "Iteration: 13, test_1's l2: 1.8756339973254774\n",
      "Iteration: 14, test_1's l2: 1.8753082418849425\n",
      "Iteration: 15, test_1's l2: 1.875070025990985\n",
      "Iteration: 16, test_1's l2: 1.8749030792400725\n",
      "Iteration: 17, test_1's l2: 1.8747849228904157\n",
      "Iteration: 18, test_1's l2: 1.8746539047120392\n",
      "Iteration: 19, test_1's l2: 1.8744946235769007\n",
      "Iteration: 20, test_1's l2: 1.8744484022653798\n",
      "Iteration: 21, test_1's l2: 1.8743786544498673\n",
      "Iteration: 22, test_1's l2: 1.8743291834798492\n",
      "Iteration: 23, test_1's l2: 1.8742934672292726\n",
      "Iteration: 24, test_1's l2: 1.8742627002335623\n",
      "Iteration: 25, test_1's l2: 1.8741886174271247\n",
      "Iteration: 26, test_1's l2: 1.8741525612238918\n",
      "Iteration: 27, test_1's l2: 1.874168916557117\n",
      "Iteration: 28, test_1's l2: 1.8741042688141183\n",
      "Iteration: 29, test_1's l2: 1.874106796510543\n",
      "Iteration: 30, test_1's l2: 1.8740494749207735\n",
      "Iteration: 31, test_1's l2: 1.8740585918544872\n",
      "Iteration: 32, test_1's l2: 1.874070706921235\n",
      "Iteration: 33, test_1's l2: 1.874081109169661\n",
      "Iteration: 34, test_1's l2: 1.874127371730067\n",
      "Iteration: 35, test_1's l2: 1.8741756892322707\n",
      "Iteration: 36, test_1's l2: 1.8742386948551955\n",
      "Iteration: 37, test_1's l2: 1.8742404554348628\n",
      "Iteration: 38, test_1's l2: 1.8742972853872044\n",
      "Iteration: 39, test_1's l2: 1.874355996426605\n",
      "Early stopping at iteration 40, the best iteration round is 30\n"
     ]
    },
    {
     "name": "stderr",
     "output_type": "stream",
     "text": [
      "\u001b[38;5;6m\u001b[1m[ \u001b[22m\u001b[39m\u001b[38;5;6m\u001b[1mInfo: \u001b[22m\u001b[39m20220612 02:11:02 Saving model... (this may take a while)\n",
      "\u001b[32mProgress: 100%|███████████████████████████| Time: 0:00:01 ( 0.74 μs/it)\u001b[39m\n",
      "\u001b[38;5;6m\u001b[1m[ \u001b[22m\u001b[39m\u001b[38;5;6m\u001b[1mInfo: \u001b[22m\u001b[39m20220612 02:14:05 validation loss: 1.8611668769706349, β: [0.9999290155258844, 1.1563095881566645]\n",
      "\u001b[32mProgress: 100%|███████████████████████████| Time: 0:00:10 ( 0.63 μs/it)\u001b[39m\n",
      "\u001b[32mProgress: 100%|███████████████████████████| Time: 0:00:00 ( 9.07 ns/it)\u001b[39m\n",
      "\u001b[38;5;6m\u001b[1m[ \u001b[22m\u001b[39m\u001b[38;5;6m\u001b[1mInfo: \u001b[22m\u001b[39m20220612 02:14:18 training loss: 1.7163276265010285, β: [0.9999290155258844, 1.1563095881566645]\n",
      "\u001b[32mProgress: 100%|███████████████████████████| Time: 0:00:11 ( 0.64 μs/it)\u001b[39m\n",
      "\u001b[32mProgress: 100%|███████████████████████████| Time: 0:00:01 ( 0.66 μs/it)\u001b[39m\n",
      "\u001b[32mProgress: 100%|███████████████████████████| Time: 0:00:01 ( 0.66 μs/it)\u001b[39m\n",
      "\u001b[32mProgress: 100%|███████████████████████████| Time: 0:00:03 ( 0.63 μs/it)\u001b[39m\n",
      "\u001b[32mProgress: 100%|███████████████████████████| Time: 0:00:00 ( 0.67 μs/it)\u001b[39m\n",
      "\u001b[32mProgress: 100%|███████████████████████████| Time: 0:00:00 ( 0.65 μs/it)\u001b[39m\n",
      "\u001b[32mProgress: 100%|███████████████████████████| Time: 0:00:01 ( 0.44 μs/it)\u001b[39m\n"
     ]
    }
   ],
   "source": [
    "train_model(\n",
    "    all_features,\n",
    "    [\"LinearExplicit\"],\n",
    "    implicit,\n",
    "    \"validation\",\n",
    "    \"NonlinearExplicit\",\n",
    "    false,\n",
    ");"
   ]
  },
  {
   "cell_type": "code",
   "execution_count": 5,
   "id": "4928ac14-f5c8-4119-9215-7e9f61e97cc9",
   "metadata": {},
   "outputs": [],
   "source": [
    "function save_final_explicit_model()\n",
    "    linear_splits = reduce(\n",
    "        cat,\n",
    "        [read_alpha(\"LinearExplicit\", split, implicit) for split in all_raw_splits],\n",
    "    )\n",
    "    nonlinear_splits = reduce(\n",
    "        cat,\n",
    "        [read_alpha(\"NonlinearExplicit\", split, implicit) for split in all_raw_splits],\n",
    "    )\n",
    "    sparse_preds = sparse(\n",
    "        linear_splits.user,\n",
    "        linear_splits.item,\n",
    "        linear_splits.rating + nonlinear_splits.rating,\n",
    "    )\n",
    "    write_alpha(sparse_preds, [], implicit, \"Explicit\")\n",
    "    write_params(Dict(\"alphas\" => [\"LinearExplicit\", \"NonlinearExplicit\"]), \"Explicit\")\n",
    "end;"
   ]
  },
  {
   "cell_type": "code",
   "execution_count": 6,
   "id": "2ed398d5-ecd5-4707-829b-0a6e09c40ee6",
   "metadata": {
    "tags": []
   },
   "outputs": [
    {
     "name": "stderr",
     "output_type": "stream",
     "text": [
      "\u001b[32mProgress: 100%|███████████████████████████| Time: 0:00:01 ( 0.66 μs/it)\u001b[39m\n",
      "\u001b[38;5;6m\u001b[1m[ \u001b[22m\u001b[39m\u001b[38;5;6m\u001b[1mInfo: \u001b[22m\u001b[39m20220612 02:14:53 validation loss: 1.8619624355718076, β: [1.0000235605132142]\n",
      "\u001b[32mProgress: 100%|███████████████████████████| Time: 0:00:11 ( 0.66 μs/it)\u001b[39m\n",
      "\u001b[38;5;6m\u001b[1m[ \u001b[22m\u001b[39m\u001b[38;5;6m\u001b[1mInfo: \u001b[22m\u001b[39m20220612 02:15:05 training loss: 1.7127573037259092, β: [1.0000235605132142]\n",
      "\u001b[32mProgress: 100%|███████████████████████████| Time: 0:00:11 ( 0.66 μs/it)\u001b[39m\n",
      "\u001b[32mProgress: 100%|███████████████████████████| Time: 0:00:01 ( 0.67 μs/it)\u001b[39m\n",
      "\u001b[32mProgress: 100%|███████████████████████████| Time: 0:00:01 ( 0.66 μs/it)\u001b[39m\n",
      "\u001b[32mProgress: 100%|███████████████████████████| Time: 0:00:04 ( 0.65 μs/it)\u001b[39m\n",
      "\u001b[32mProgress: 100%|███████████████████████████| Time: 0:00:00 ( 0.66 μs/it)\u001b[39m\n",
      "\u001b[32mProgress: 100%|███████████████████████████| Time: 0:00:00 ( 0.66 μs/it)\u001b[39m\n",
      "\u001b[32mProgress: 100%|███████████████████████████| Time: 0:00:01 ( 0.43 μs/it)\u001b[39m\n"
     ]
    }
   ],
   "source": [
    "save_final_explicit_model()"
   ]
  }
 ],
 "metadata": {
  "kernelspec": {
   "display_name": "Julia 1.8.0-rc1",
   "language": "julia",
   "name": "julia-1.8"
  },
  "language_info": {
   "file_extension": ".jl",
   "mimetype": "application/julia",
   "name": "julia",
   "version": "1.8.0"
  }
 },
 "nbformat": 4,
 "nbformat_minor": 5
}
