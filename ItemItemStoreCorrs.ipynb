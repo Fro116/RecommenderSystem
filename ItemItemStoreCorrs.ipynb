{
 "cells": [
  {
   "cell_type": "code",
   "execution_count": 1,
   "metadata": {},
   "outputs": [],
   "source": [
    "import os\n",
    "import pickle\n",
    "import random\n",
    "\n",
    "import numpy as np\n",
    "import pandas as pd\n",
    "from tqdm import tqdm"
   ]
  },
  {
   "cell_type": "code",
   "execution_count": 2,
   "metadata": {},
   "outputs": [],
   "source": [
    "anime = pd.read_csv(\"AnimeList.csv\")\n",
    "anime = anime[[\"anime_id\", \"title\"]]"
   ]
  },
  {
   "cell_type": "code",
   "execution_count": 3,
   "metadata": {},
   "outputs": [],
   "source": [
    "df = pd.read_csv(\"UserAnimeList.csv\")"
   ]
  },
  {
   "cell_type": "code",
   "execution_count": 4,
   "metadata": {},
   "outputs": [
    {
     "data": {
      "text/plain": [
       "(283045, 14478)"
      ]
     },
     "execution_count": 4,
     "metadata": {},
     "output_type": "execute_result"
    }
   ],
   "source": [
    "len(df[\"username\"].unique()), len(df[\"anime_id\"].unique())"
   ]
  },
  {
   "cell_type": "code",
   "execution_count": 5,
   "metadata": {},
   "outputs": [],
   "source": [
    "filtered_df = df[[\"username\", \"anime_id\", \"my_score\"]].loc[lambda x: x[\"my_score\"] != 0]"
   ]
  },
  {
   "cell_type": "code",
   "execution_count": 6,
   "metadata": {},
   "outputs": [],
   "source": [
    "average_rating = filtered_df[\"my_score\"].mean()\n",
    "user_bias = (\n",
    "    pd.DataFrame(filtered_df.groupby(\"username\")[\"my_score\"].mean()).rename(\n",
    "        {\"my_score\": \"user_bias\"}, axis=1\n",
    "    )\n",
    "    - average_rating\n",
    ")\n",
    "anime_bias = (\n",
    "    pd.DataFrame(filtered_df.groupby(\"anime_id\")[\"my_score\"].mean()).rename(\n",
    "        {\"my_score\": \"anime_bias\"}, axis=1\n",
    "    )\n",
    "    - average_rating\n",
    ")"
   ]
  },
  {
   "cell_type": "code",
   "execution_count": 7,
   "metadata": {},
   "outputs": [],
   "source": [
    "filtered_df = filtered_df.merge(anime_bias, on=[\"anime_id\"]).merge(\n",
    "    user_bias, on=[\"username\"]\n",
    ")"
   ]
  },
  {
   "cell_type": "code",
   "execution_count": 8,
   "metadata": {},
   "outputs": [],
   "source": [
    "filtered_df[\"normalized_score\"] = (\n",
    "    filtered_df[\"my_score\"]\n",
    "    - filtered_df[\"anime_bias\"]\n",
    "    - filtered_df[\"user_bias\"]\n",
    "    - average_rating\n",
    ")"
   ]
  },
  {
   "cell_type": "code",
   "execution_count": 9,
   "metadata": {},
   "outputs": [],
   "source": [
    "filtered_df = filtered_df.set_index(\"anime_id\")"
   ]
  },
  {
   "cell_type": "code",
   "execution_count": 10,
   "metadata": {},
   "outputs": [],
   "source": [
    "filtered_df = filtered_df.dropna()"
   ]
  },
  {
   "cell_type": "code",
   "execution_count": 11,
   "metadata": {},
   "outputs": [
    {
     "data": {
      "text/html": [
       "<div>\n",
       "<style scoped>\n",
       "    .dataframe tbody tr th:only-of-type {\n",
       "        vertical-align: middle;\n",
       "    }\n",
       "\n",
       "    .dataframe tbody tr th {\n",
       "        vertical-align: top;\n",
       "    }\n",
       "\n",
       "    .dataframe thead th {\n",
       "        text-align: right;\n",
       "    }\n",
       "</style>\n",
       "<table border=\"1\" class=\"dataframe\">\n",
       "  <thead>\n",
       "    <tr style=\"text-align: right;\">\n",
       "      <th></th>\n",
       "      <th>username</th>\n",
       "      <th>my_score</th>\n",
       "      <th>anime_bias</th>\n",
       "      <th>user_bias</th>\n",
       "      <th>normalized_score</th>\n",
       "    </tr>\n",
       "    <tr>\n",
       "      <th>anime_id</th>\n",
       "      <th></th>\n",
       "      <th></th>\n",
       "      <th></th>\n",
       "      <th></th>\n",
       "      <th></th>\n",
       "    </tr>\n",
       "  </thead>\n",
       "  <tbody>\n",
       "    <tr>\n",
       "      <th>21</th>\n",
       "      <td>karthiga</td>\n",
       "      <td>9</td>\n",
       "      <td>0.960559</td>\n",
       "      <td>-0.059903</td>\n",
       "      <td>0.605479</td>\n",
       "    </tr>\n",
       "    <tr>\n",
       "      <th>59</th>\n",
       "      <td>karthiga</td>\n",
       "      <td>7</td>\n",
       "      <td>0.040198</td>\n",
       "      <td>-0.059903</td>\n",
       "      <td>-0.474160</td>\n",
       "    </tr>\n",
       "    <tr>\n",
       "      <th>74</th>\n",
       "      <td>karthiga</td>\n",
       "      <td>7</td>\n",
       "      <td>0.316277</td>\n",
       "      <td>-0.059903</td>\n",
       "      <td>-0.750239</td>\n",
       "    </tr>\n",
       "    <tr>\n",
       "      <th>120</th>\n",
       "      <td>karthiga</td>\n",
       "      <td>7</td>\n",
       "      <td>0.309853</td>\n",
       "      <td>-0.059903</td>\n",
       "      <td>-0.743815</td>\n",
       "    </tr>\n",
       "    <tr>\n",
       "      <th>178</th>\n",
       "      <td>karthiga</td>\n",
       "      <td>7</td>\n",
       "      <td>-0.227344</td>\n",
       "      <td>-0.059903</td>\n",
       "      <td>-0.206618</td>\n",
       "    </tr>\n",
       "    <tr>\n",
       "      <th>...</th>\n",
       "      <td>...</td>\n",
       "      <td>...</td>\n",
       "      <td>...</td>\n",
       "      <td>...</td>\n",
       "      <td>...</td>\n",
       "    </tr>\n",
       "    <tr>\n",
       "      <th>10040</th>\n",
       "      <td>temptemptemp</td>\n",
       "      <td>6</td>\n",
       "      <td>-1.636723</td>\n",
       "      <td>-1.493866</td>\n",
       "      <td>1.636723</td>\n",
       "    </tr>\n",
       "    <tr>\n",
       "      <th>12963</th>\n",
       "      <td>cinnamoroller</td>\n",
       "      <td>10</td>\n",
       "      <td>-0.798866</td>\n",
       "      <td>2.506134</td>\n",
       "      <td>0.798866</td>\n",
       "    </tr>\n",
       "    <tr>\n",
       "      <th>5143</th>\n",
       "      <td>inactiveX</td>\n",
       "      <td>7</td>\n",
       "      <td>-0.652956</td>\n",
       "      <td>-0.493866</td>\n",
       "      <td>0.652956</td>\n",
       "    </tr>\n",
       "    <tr>\n",
       "      <th>5581</th>\n",
       "      <td>omgm</td>\n",
       "      <td>5</td>\n",
       "      <td>-1.857502</td>\n",
       "      <td>-2.493866</td>\n",
       "      <td>1.857502</td>\n",
       "    </tr>\n",
       "    <tr>\n",
       "      <th>33669</th>\n",
       "      <td>CategoryKing</td>\n",
       "      <td>1</td>\n",
       "      <td>-1.592350</td>\n",
       "      <td>-6.493866</td>\n",
       "      <td>1.592350</td>\n",
       "    </tr>\n",
       "  </tbody>\n",
       "</table>\n",
       "<p>46358130 rows × 5 columns</p>\n",
       "</div>"
      ],
      "text/plain": [
       "               username  my_score  anime_bias  user_bias  normalized_score\n",
       "anime_id                                                                  \n",
       "21             karthiga         9    0.960559  -0.059903          0.605479\n",
       "59             karthiga         7    0.040198  -0.059903         -0.474160\n",
       "74             karthiga         7    0.316277  -0.059903         -0.750239\n",
       "120            karthiga         7    0.309853  -0.059903         -0.743815\n",
       "178            karthiga         7   -0.227344  -0.059903         -0.206618\n",
       "...                 ...       ...         ...        ...               ...\n",
       "10040      temptemptemp         6   -1.636723  -1.493866          1.636723\n",
       "12963     cinnamoroller        10   -0.798866   2.506134          0.798866\n",
       "5143          inactiveX         7   -0.652956  -0.493866          0.652956\n",
       "5581               omgm         5   -1.857502  -2.493866          1.857502\n",
       "33669      CategoryKing         1   -1.592350  -6.493866          1.592350\n",
       "\n",
       "[46358130 rows x 5 columns]"
      ]
     },
     "execution_count": 11,
     "metadata": {},
     "output_type": "execute_result"
    }
   ],
   "source": [
    "filtered_df"
   ]
  },
  {
   "cell_type": "code",
   "execution_count": 51,
   "metadata": {},
   "outputs": [],
   "source": [
    "def get_corrs(recommendees):\n",
    "    item_subset = (\n",
    "        filtered_df.loc[recommendees]\n",
    "        .reset_index()\n",
    "        .merge(filtered_df.reset_index(), on=\"username\")\n",
    "    )\n",
    "\n",
    "    adj_cos_corr_numerator = item_subset.groupby([\"anime_id_x\", \"anime_id_y\"]).apply(\n",
    "        lambda x: np.dot(x[\"normalized_score_x\"], x[\"normalized_score_y\"])\n",
    "    )\n",
    "    adj_cos_corr_denom = filtered_df.groupby(\"anime_id\").apply(\n",
    "        lambda x: np.sqrt(np.dot(x[\"normalized_score\"], x[\"normalized_score\"]))\n",
    "    )\n",
    "    x_length = adj_cos_corr_denom[recommendees]\n",
    "    x_length.index.rename(\"anime_id_x\", inplace=True)\n",
    "    y_length = adj_cos_corr_denom\n",
    "    y_length.index.rename(\"anime_id_y\", inplace=True)\n",
    "    adj_cos_corr = adj_cos_corr_numerator / x_length / y_length\n",
    "    adj_cos_corr = pd.DataFrame(adj_cos_corr, columns=[\"corr\"]).dropna()\n",
    "\n",
    "    raw_corrs = adj_cos_corr\n",
    "    corr_sizes = item_subset.groupby([\"anime_id_x\", \"anime_id_y\"]).size()\n",
    "    corrs = raw_corrs.merge(\n",
    "        pd.DataFrame(corr_sizes, columns=[\"Size\"]), on=[\"anime_id_x\", \"anime_id_y\"]\n",
    "    )\n",
    "    corrs[\"similarity\"] = corrs[\"corr\"].abs()\n",
    "    corrs = corrs.sort_values(by=\"similarity\").dropna()\n",
    "    return corrs[[\"corr\"]]"
   ]
  },
  {
   "cell_type": "code",
   "execution_count": 35,
   "metadata": {},
   "outputs": [],
   "source": [
    "anime_ids = sorted(list(set(filtered_df.index)))"
   ]
  },
  {
   "cell_type": "code",
   "execution_count": 52,
   "metadata": {},
   "outputs": [
    {
     "name": "stderr",
     "output_type": "stream",
     "text": [
      "1139it [28:02:27, 88.63s/it] \n"
     ]
    }
   ],
   "source": [
    "# Store correlations on disk. We need to do this in chunks\n",
    "# for memory reasons\n",
    "chunks = np.array_split(anime_ids, len(anime_ids) / 10)\n",
    "for i, chunk in tqdm(enumerate(chunks)):\n",
    "    corr = get_corrs(chunk)\n",
    "    corr.to_pickle(f\"item_correlations/{i}.pkl\")"
   ]
  },
  {
   "cell_type": "code",
   "execution_count": 14,
   "metadata": {},
   "outputs": [
    {
     "name": "stderr",
     "output_type": "stream",
     "text": [
      "100%|██████████| 1405/1405 [00:08<00:00, 163.66it/s]\n"
     ]
    }
   ],
   "source": [
    "corr_dfs = []\n",
    "for item in tqdm(os.listdir(\"item_correlations\")):\n",
    "    path = os.path.join(\"item_correlations\", item)\n",
    "    corr_dfs.append(pickle.load(open(path, \"rb\")))"
   ]
  },
  {
   "cell_type": "code",
   "execution_count": 15,
   "metadata": {},
   "outputs": [],
   "source": [
    "corr_df = pd.concat(corr_dfs)"
   ]
  },
  {
   "cell_type": "code",
   "execution_count": 16,
   "metadata": {},
   "outputs": [],
   "source": [
    "corr_df.to_pickle(f\"item_correlations/correlations.pkl\")"
   ]
  },
  {
   "cell_type": "code",
   "execution_count": null,
   "metadata": {},
   "outputs": [],
   "source": []
  }
 ],
 "metadata": {
  "kernelspec": {
   "display_name": "Python 3",
   "language": "python",
   "name": "python3"
  },
  "language_info": {
   "codemirror_mode": {
    "name": "ipython",
    "version": 3
   },
   "file_extension": ".py",
   "mimetype": "text/x-python",
   "name": "python",
   "nbconvert_exporter": "python",
   "pygments_lexer": "ipython3",
   "version": "3.8.5"
  }
 },
 "nbformat": 4,
 "nbformat_minor": 4
}
